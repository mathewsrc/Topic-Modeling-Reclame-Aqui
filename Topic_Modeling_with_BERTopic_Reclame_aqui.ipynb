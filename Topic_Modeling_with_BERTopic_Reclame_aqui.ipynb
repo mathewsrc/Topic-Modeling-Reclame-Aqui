{
  "nbformat": 4,
  "nbformat_minor": 0,
  "metadata": {
    "colab": {
      "provenance": [],
      "include_colab_link": true
    },
    "kernelspec": {
      "name": "python3",
      "display_name": "Python 3"
    },
    "language_info": {
      "name": "python"
    },
    "gpuClass": "standard",
    "widgets": {
      "application/vnd.jupyter.widget-state+json": {
        "91be6958e8c3432f9bc392f9e6337e43": {
          "model_module": "@jupyter-widgets/controls",
          "model_name": "HBoxModel",
          "model_module_version": "1.5.0",
          "state": {
            "_dom_classes": [],
            "_model_module": "@jupyter-widgets/controls",
            "_model_module_version": "1.5.0",
            "_model_name": "HBoxModel",
            "_view_count": null,
            "_view_module": "@jupyter-widgets/controls",
            "_view_module_version": "1.5.0",
            "_view_name": "HBoxView",
            "box_style": "",
            "children": [
              "IPY_MODEL_d46d2c69d5e5413ba240152af792878b",
              "IPY_MODEL_6707b748c9554010a4aa418fe66e4258",
              "IPY_MODEL_aa8641fd63db4f8b8f1aa9a0ae8a4648"
            ],
            "layout": "IPY_MODEL_787f80ca696f4bcd9b339f8a8330ccff"
          }
        },
        "d46d2c69d5e5413ba240152af792878b": {
          "model_module": "@jupyter-widgets/controls",
          "model_name": "HTMLModel",
          "model_module_version": "1.5.0",
          "state": {
            "_dom_classes": [],
            "_model_module": "@jupyter-widgets/controls",
            "_model_module_version": "1.5.0",
            "_model_name": "HTMLModel",
            "_view_count": null,
            "_view_module": "@jupyter-widgets/controls",
            "_view_module_version": "1.5.0",
            "_view_name": "HTMLView",
            "description": "",
            "description_tooltip": null,
            "layout": "IPY_MODEL_bd968f9480104db48bc6589a07054d52",
            "placeholder": "​",
            "style": "IPY_MODEL_0794d0b1c1024d12a2ce2be57cc59d7a",
            "value": "Batches: 100%"
          }
        },
        "6707b748c9554010a4aa418fe66e4258": {
          "model_module": "@jupyter-widgets/controls",
          "model_name": "FloatProgressModel",
          "model_module_version": "1.5.0",
          "state": {
            "_dom_classes": [],
            "_model_module": "@jupyter-widgets/controls",
            "_model_module_version": "1.5.0",
            "_model_name": "FloatProgressModel",
            "_view_count": null,
            "_view_module": "@jupyter-widgets/controls",
            "_view_module_version": "1.5.0",
            "_view_name": "ProgressView",
            "bar_style": "success",
            "description": "",
            "description_tooltip": null,
            "layout": "IPY_MODEL_0be88964774d43a5a45b994b4379014e",
            "max": 329,
            "min": 0,
            "orientation": "horizontal",
            "style": "IPY_MODEL_e1d4dab329114902b43e74e92039c050",
            "value": 329
          }
        },
        "aa8641fd63db4f8b8f1aa9a0ae8a4648": {
          "model_module": "@jupyter-widgets/controls",
          "model_name": "HTMLModel",
          "model_module_version": "1.5.0",
          "state": {
            "_dom_classes": [],
            "_model_module": "@jupyter-widgets/controls",
            "_model_module_version": "1.5.0",
            "_model_name": "HTMLModel",
            "_view_count": null,
            "_view_module": "@jupyter-widgets/controls",
            "_view_module_version": "1.5.0",
            "_view_name": "HTMLView",
            "description": "",
            "description_tooltip": null,
            "layout": "IPY_MODEL_c792ba0182ff40f2bda8bc6d2e056e25",
            "placeholder": "​",
            "style": "IPY_MODEL_fff1dd31f91a46b29d43c7d913694cd6",
            "value": " 329/329 [00:16&lt;00:00, 35.29it/s]"
          }
        },
        "787f80ca696f4bcd9b339f8a8330ccff": {
          "model_module": "@jupyter-widgets/base",
          "model_name": "LayoutModel",
          "model_module_version": "1.2.0",
          "state": {
            "_model_module": "@jupyter-widgets/base",
            "_model_module_version": "1.2.0",
            "_model_name": "LayoutModel",
            "_view_count": null,
            "_view_module": "@jupyter-widgets/base",
            "_view_module_version": "1.2.0",
            "_view_name": "LayoutView",
            "align_content": null,
            "align_items": null,
            "align_self": null,
            "border": null,
            "bottom": null,
            "display": null,
            "flex": null,
            "flex_flow": null,
            "grid_area": null,
            "grid_auto_columns": null,
            "grid_auto_flow": null,
            "grid_auto_rows": null,
            "grid_column": null,
            "grid_gap": null,
            "grid_row": null,
            "grid_template_areas": null,
            "grid_template_columns": null,
            "grid_template_rows": null,
            "height": null,
            "justify_content": null,
            "justify_items": null,
            "left": null,
            "margin": null,
            "max_height": null,
            "max_width": null,
            "min_height": null,
            "min_width": null,
            "object_fit": null,
            "object_position": null,
            "order": null,
            "overflow": null,
            "overflow_x": null,
            "overflow_y": null,
            "padding": null,
            "right": null,
            "top": null,
            "visibility": null,
            "width": null
          }
        },
        "bd968f9480104db48bc6589a07054d52": {
          "model_module": "@jupyter-widgets/base",
          "model_name": "LayoutModel",
          "model_module_version": "1.2.0",
          "state": {
            "_model_module": "@jupyter-widgets/base",
            "_model_module_version": "1.2.0",
            "_model_name": "LayoutModel",
            "_view_count": null,
            "_view_module": "@jupyter-widgets/base",
            "_view_module_version": "1.2.0",
            "_view_name": "LayoutView",
            "align_content": null,
            "align_items": null,
            "align_self": null,
            "border": null,
            "bottom": null,
            "display": null,
            "flex": null,
            "flex_flow": null,
            "grid_area": null,
            "grid_auto_columns": null,
            "grid_auto_flow": null,
            "grid_auto_rows": null,
            "grid_column": null,
            "grid_gap": null,
            "grid_row": null,
            "grid_template_areas": null,
            "grid_template_columns": null,
            "grid_template_rows": null,
            "height": null,
            "justify_content": null,
            "justify_items": null,
            "left": null,
            "margin": null,
            "max_height": null,
            "max_width": null,
            "min_height": null,
            "min_width": null,
            "object_fit": null,
            "object_position": null,
            "order": null,
            "overflow": null,
            "overflow_x": null,
            "overflow_y": null,
            "padding": null,
            "right": null,
            "top": null,
            "visibility": null,
            "width": null
          }
        },
        "0794d0b1c1024d12a2ce2be57cc59d7a": {
          "model_module": "@jupyter-widgets/controls",
          "model_name": "DescriptionStyleModel",
          "model_module_version": "1.5.0",
          "state": {
            "_model_module": "@jupyter-widgets/controls",
            "_model_module_version": "1.5.0",
            "_model_name": "DescriptionStyleModel",
            "_view_count": null,
            "_view_module": "@jupyter-widgets/base",
            "_view_module_version": "1.2.0",
            "_view_name": "StyleView",
            "description_width": ""
          }
        },
        "0be88964774d43a5a45b994b4379014e": {
          "model_module": "@jupyter-widgets/base",
          "model_name": "LayoutModel",
          "model_module_version": "1.2.0",
          "state": {
            "_model_module": "@jupyter-widgets/base",
            "_model_module_version": "1.2.0",
            "_model_name": "LayoutModel",
            "_view_count": null,
            "_view_module": "@jupyter-widgets/base",
            "_view_module_version": "1.2.0",
            "_view_name": "LayoutView",
            "align_content": null,
            "align_items": null,
            "align_self": null,
            "border": null,
            "bottom": null,
            "display": null,
            "flex": null,
            "flex_flow": null,
            "grid_area": null,
            "grid_auto_columns": null,
            "grid_auto_flow": null,
            "grid_auto_rows": null,
            "grid_column": null,
            "grid_gap": null,
            "grid_row": null,
            "grid_template_areas": null,
            "grid_template_columns": null,
            "grid_template_rows": null,
            "height": null,
            "justify_content": null,
            "justify_items": null,
            "left": null,
            "margin": null,
            "max_height": null,
            "max_width": null,
            "min_height": null,
            "min_width": null,
            "object_fit": null,
            "object_position": null,
            "order": null,
            "overflow": null,
            "overflow_x": null,
            "overflow_y": null,
            "padding": null,
            "right": null,
            "top": null,
            "visibility": null,
            "width": null
          }
        },
        "e1d4dab329114902b43e74e92039c050": {
          "model_module": "@jupyter-widgets/controls",
          "model_name": "ProgressStyleModel",
          "model_module_version": "1.5.0",
          "state": {
            "_model_module": "@jupyter-widgets/controls",
            "_model_module_version": "1.5.0",
            "_model_name": "ProgressStyleModel",
            "_view_count": null,
            "_view_module": "@jupyter-widgets/base",
            "_view_module_version": "1.2.0",
            "_view_name": "StyleView",
            "bar_color": null,
            "description_width": ""
          }
        },
        "c792ba0182ff40f2bda8bc6d2e056e25": {
          "model_module": "@jupyter-widgets/base",
          "model_name": "LayoutModel",
          "model_module_version": "1.2.0",
          "state": {
            "_model_module": "@jupyter-widgets/base",
            "_model_module_version": "1.2.0",
            "_model_name": "LayoutModel",
            "_view_count": null,
            "_view_module": "@jupyter-widgets/base",
            "_view_module_version": "1.2.0",
            "_view_name": "LayoutView",
            "align_content": null,
            "align_items": null,
            "align_self": null,
            "border": null,
            "bottom": null,
            "display": null,
            "flex": null,
            "flex_flow": null,
            "grid_area": null,
            "grid_auto_columns": null,
            "grid_auto_flow": null,
            "grid_auto_rows": null,
            "grid_column": null,
            "grid_gap": null,
            "grid_row": null,
            "grid_template_areas": null,
            "grid_template_columns": null,
            "grid_template_rows": null,
            "height": null,
            "justify_content": null,
            "justify_items": null,
            "left": null,
            "margin": null,
            "max_height": null,
            "max_width": null,
            "min_height": null,
            "min_width": null,
            "object_fit": null,
            "object_position": null,
            "order": null,
            "overflow": null,
            "overflow_x": null,
            "overflow_y": null,
            "padding": null,
            "right": null,
            "top": null,
            "visibility": null,
            "width": null
          }
        },
        "fff1dd31f91a46b29d43c7d913694cd6": {
          "model_module": "@jupyter-widgets/controls",
          "model_name": "DescriptionStyleModel",
          "model_module_version": "1.5.0",
          "state": {
            "_model_module": "@jupyter-widgets/controls",
            "_model_module_version": "1.5.0",
            "_model_name": "DescriptionStyleModel",
            "_view_count": null,
            "_view_module": "@jupyter-widgets/base",
            "_view_module_version": "1.2.0",
            "_view_name": "StyleView",
            "description_width": ""
          }
        }
      }
    },
    "accelerator": "GPU"
  },
  "cells": [
    {
      "cell_type": "markdown",
      "metadata": {
        "id": "view-in-github",
        "colab_type": "text"
      },
      "source": [
        "<a href=\"https://colab.research.google.com/github/punkmic/Topic-Modeling-Reclame-Aqui/blob/master/Topic_Modeling_with_BERTopic_Reclame_aqui.ipynb\" target=\"_parent\"><img src=\"https://colab.research.google.com/assets/colab-badge.svg\" alt=\"Open In Colab\"/></a>"
      ]
    },
    {
      "cell_type": "markdown",
      "source": [
        "# **Topic Modeling with BERTopic - Reclame Aqui**\n",
        "\n",
        "BERTopic is a topic modeling technique that leverages transformers and a custom class-based TF-IDF to create dense clusters allowing for easily interpretable topics whilst keeping important words in the topic descriptions \n",
        "\n",
        "Reference: (https://maartengr.github.io/BERTopic/index.html)."
      ],
      "metadata": {
        "id": "VG5Z-hvZ9GIZ"
      }
    },
    {
      "cell_type": "markdown",
      "source": [
        "### **Enabling the GPU**\n",
        "\n",
        "We will use the GPU provided by COLAB to accelarate our model training. To enable GPUs for the notebook:\n",
        "1- Navigate to Edit -> Notebook Settings\n",
        "2- Select GPU from the Hardware Accelerator drop-down"
      ],
      "metadata": {
        "id": "W_0vnbvROpuu"
      }
    },
    {
      "cell_type": "code",
      "source": [
        "# verify if GPU is enable\n",
        "gpu_info = !nvidia-smi\n",
        "gpu_info = '\\n'.join(gpu_info)\n",
        "if gpu_info.find('failed') >= 0:\n",
        "  print('Not connected to a GPU')\n",
        "else:\n",
        "  print(gpu_info)"
      ],
      "metadata": {
        "id": "gj08UQrDOqW2",
        "colab": {
          "base_uri": "https://localhost:8080/"
        },
        "outputId": "b9ed5aa5-1fa6-4f44-ad52-e1f334f80c28"
      },
      "execution_count": 129,
      "outputs": [
        {
          "output_type": "stream",
          "name": "stdout",
          "text": [
            "Fri Jan  6 20:30:46 2023       \n",
            "+-----------------------------------------------------------------------------+\n",
            "| NVIDIA-SMI 460.32.03    Driver Version: 460.32.03    CUDA Version: 11.2     |\n",
            "|-------------------------------+----------------------+----------------------+\n",
            "| GPU  Name        Persistence-M| Bus-Id        Disp.A | Volatile Uncorr. ECC |\n",
            "| Fan  Temp  Perf  Pwr:Usage/Cap|         Memory-Usage | GPU-Util  Compute M. |\n",
            "|                               |                      |               MIG M. |\n",
            "|===============================+======================+======================|\n",
            "|   0  Tesla T4            Off  | 00000000:00:04.0 Off |                    0 |\n",
            "| N/A   77C    P0    34W /  70W |   3908MiB / 15109MiB |      0%      Default |\n",
            "|                               |                      |                  N/A |\n",
            "+-------------------------------+----------------------+----------------------+\n",
            "                                                                               \n",
            "+-----------------------------------------------------------------------------+\n",
            "| Processes:                                                                  |\n",
            "|  GPU   GI   CI        PID   Type   Process name                  GPU Memory |\n",
            "|        ID   ID                                                   Usage      |\n",
            "|=============================================================================|\n",
            "+-----------------------------------------------------------------------------+\n"
          ]
        }
      ]
    },
    {
      "cell_type": "markdown",
      "source": [
        "### **Setup**"
      ],
      "metadata": {
        "id": "eXD8VBix7DD1"
      }
    },
    {
      "cell_type": "code",
      "source": [
        "%%capture\n",
        "!pip install pyspellchecker\n",
        "!pip install bertopic\n",
        "!pip install kaleido # for save BERTopic plots as image"
      ],
      "metadata": {
        "id": "csLlF-UUb2il"
      },
      "execution_count": 130,
      "outputs": []
    },
    {
      "cell_type": "code",
      "execution_count": 131,
      "metadata": {
        "id": "CQ0hDdDm6gtj"
      },
      "outputs": [],
      "source": [
        "import pandas as pd # for data manipulation\n",
        "import os # for interacting with the operating system\n",
        "import nltk # for natural language processing\n",
        "import string # for string manipulation\n",
        "import re # for for regular expressions\n",
        "import matplotlib.pyplot as plt # for visualization\n",
        "import spacy # for lemmatize portuguese text\n",
        "from bertopic import BERTopic # for topic modeling\n",
        "from spellchecker import SpellChecker # for spell check"
      ]
    },
    {
      "cell_type": "code",
      "source": [
        "%%capture\n",
        "# Install spacy pt_core_news_sm for portuguese text\n",
        "!python -m spacy download pt_core_news_sm"
      ],
      "metadata": {
        "id": "dafLrQKmvlGD"
      },
      "execution_count": 132,
      "outputs": []
    },
    {
      "cell_type": "code",
      "source": [
        "nltk.download(\"punkt\")"
      ],
      "metadata": {
        "id": "BvRCi7Cvp0G6",
        "colab": {
          "base_uri": "https://localhost:8080/"
        },
        "outputId": "f73411fb-7408-4c52-df72-bfb8a6f1089b"
      },
      "execution_count": 133,
      "outputs": [
        {
          "output_type": "stream",
          "name": "stderr",
          "text": [
            "[nltk_data] Downloading package punkt to /root/nltk_data...\n",
            "[nltk_data]   Package punkt is already up-to-date!\n"
          ]
        },
        {
          "output_type": "execute_result",
          "data": {
            "text/plain": [
              "True"
            ]
          },
          "metadata": {},
          "execution_count": 133
        }
      ]
    },
    {
      "cell_type": "code",
      "source": [
        "# Download dataset with stopwords\n",
        "nltk.download(\"stopwords\")"
      ],
      "metadata": {
        "id": "JAvaPg5ep3Df",
        "colab": {
          "base_uri": "https://localhost:8080/"
        },
        "outputId": "234b1cba-ceb9-4542-ab6e-80fa9e1ff4fe"
      },
      "execution_count": 134,
      "outputs": [
        {
          "output_type": "stream",
          "name": "stderr",
          "text": [
            "[nltk_data] Downloading package stopwords to /root/nltk_data...\n",
            "[nltk_data]   Package stopwords is already up-to-date!\n"
          ]
        },
        {
          "output_type": "execute_result",
          "data": {
            "text/plain": [
              "True"
            ]
          },
          "metadata": {},
          "execution_count": 134
        }
      ]
    },
    {
      "cell_type": "code",
      "source": [
        "# Donwload datasets for lemmatization\n",
        "nltk.download('wordnet')\n",
        "nltk.download('omw-1.4')"
      ],
      "metadata": {
        "id": "97RrmPshvcmu",
        "colab": {
          "base_uri": "https://localhost:8080/"
        },
        "outputId": "70d7b178-0603-428f-a4ba-92b9d070a969"
      },
      "execution_count": 135,
      "outputs": [
        {
          "output_type": "stream",
          "name": "stderr",
          "text": [
            "[nltk_data] Downloading package wordnet to /root/nltk_data...\n",
            "[nltk_data]   Package wordnet is already up-to-date!\n",
            "[nltk_data] Downloading package omw-1.4 to /root/nltk_data...\n",
            "[nltk_data]   Package omw-1.4 is already up-to-date!\n"
          ]
        },
        {
          "output_type": "execute_result",
          "data": {
            "text/plain": [
              "True"
            ]
          },
          "metadata": {},
          "execution_count": 135
        }
      ]
    },
    {
      "cell_type": "code",
      "source": [
        "# Donwload dependency need to stem portuguese text\n",
        "nltk.download('rslp')"
      ],
      "metadata": {
        "id": "qn9OrF3EXCNv",
        "colab": {
          "base_uri": "https://localhost:8080/"
        },
        "outputId": "467c7452-4ad6-449d-ad82-c5fa5c16ed64"
      },
      "execution_count": 136,
      "outputs": [
        {
          "output_type": "stream",
          "name": "stderr",
          "text": [
            "[nltk_data] Downloading package rslp to /root/nltk_data...\n",
            "[nltk_data]   Package rslp is already up-to-date!\n"
          ]
        },
        {
          "output_type": "execute_result",
          "data": {
            "text/plain": [
              "True"
            ]
          },
          "metadata": {},
          "execution_count": 136
        }
      ]
    },
    {
      "cell_type": "markdown",
      "source": [
        "### **Load data from [Github](https://github.com/punkmic/Topic-Modeling-Reclame-Aqui.git)**"
      ],
      "metadata": {
        "id": "EGjKdT4C8RVD"
      }
    },
    {
      "cell_type": "code",
      "source": [
        "#!git clone https://github.com/punkmic/Topic-Modeling-Reclame-Aqui.git"
      ],
      "metadata": {
        "id": "C_yss1JC-8Ou"
      },
      "execution_count": 137,
      "outputs": []
    },
    {
      "cell_type": "code",
      "source": [
        "# Change directory\n",
        "%cd /content/Topic-Modeling-Reclame-Aqui \n",
        "\n",
        "# Update files from remote repository\n",
        "!git pull \n",
        "\n",
        "# Return to work directory\n",
        "%cd ..\n",
        "\n",
        "# Check current directory\n",
        "!pwd"
      ],
      "metadata": {
        "id": "uv3QBnDRHFPv",
        "outputId": "f3a6153b-3198-4357-d016-d72084da0519",
        "colab": {
          "base_uri": "https://localhost:8080/"
        }
      },
      "execution_count": 138,
      "outputs": [
        {
          "output_type": "stream",
          "name": "stdout",
          "text": [
            "/content/Topic-Modeling-Reclame-Aqui\n",
            "Warning: Permanently added the RSA host key for IP address '140.82.112.4' to the list of known hosts.\n",
            "Already up to date.\n",
            "/content\n",
            "/content\n"
          ]
        }
      ]
    },
    {
      "cell_type": "code",
      "source": [
        "def read_data(path_csv, drop_duplicates = True, lower=True):\n",
        " \n",
        "  # use the read_csv method to read csv file\n",
        "  df = pd.read_csv(path_csv)\n",
        "  \n",
        "  if drop_duplicates:\n",
        "    # read and return the CSV file using the read_csv method\n",
        "    print(f\"Shape before remove duplicates: {df.shape}\")\n",
        "\n",
        "    # use the drop_duplicated method to drop duplicates rows\n",
        "    df = df.drop_duplicates(subset=\"text\")\n",
        "\n",
        "    print(f\"Shape after remove duplicates: {df.shape}\")\n",
        "\n",
        "    if lower:\n",
        "      # apply the str.lower() method to each element in the dataframe\n",
        "      df = df.applymap(str.lower)\n",
        "    \n",
        "     # rename columns\n",
        "    df.columns = [\"title\", \"documents\"] \n",
        "\n",
        "    # use the replace() method to replace the string with an empty string\n",
        "    df = df.replace(re.compile('\\[editado pelo reclame aqui\\]|editado pelo reclame aqui|Editado pelo Reclame Aqui'), '')\n",
        "    df = df.replace(re.compile('\\[casas bahia\\]|Casa Bahia|Casas Bahia|casa bahia'), '')\n",
        "    df = df.replace(re.compile('\\[magazine luiza\\]|Magazine luiza|Magazine Luiza| Magazine luizar|Magazine Luizar'), '')\n",
        "    df = df.replace(re.compile('\\[mercado livre\\]|Mercado Livre|Mercado livre'), '')\n",
        "    df = df.replace(re.compile('\\[americana\\]|Ameriacanas|ameriacanas'), '')\n",
        "\n",
        "    # drop the old index column\n",
        "    df.reset_index(inplace = True, drop = True)\n",
        "  return df"
      ],
      "metadata": {
        "id": "F3IoOKARBwVb"
      },
      "execution_count": 139,
      "outputs": []
    },
    {
      "cell_type": "markdown",
      "source": [
        "### **Preprocessing**"
      ],
      "metadata": {
        "id": "drjuwA5yk4YB"
      }
    },
    {
      "cell_type": "markdown",
      "source": [
        "#### **Tokenization**\n",
        "\n",
        "Tokenization aims to breaking text down into its component parts"
      ],
      "metadata": {
        "id": "i9ukWCy8qBOP"
      }
    },
    {
      "cell_type": "code",
      "source": [
        "WORD_TOKENIZER = nltk.tokenize.word_tokenize\n",
        "def tokenize(text):\n",
        "  tokens = [token.strip().lower() for token in WORD_TOKENIZER(text, language=\"portuguese\")]\n",
        " \n",
        "  # set a pattern to detect patterns such as x x, xxx x, xxx xxx\n",
        "  pattern = r\"\\b\\w+\\s+\\w+\\b\"\n",
        " \n",
        "  # filter tokens by pattern\n",
        "  filtered_words = [word for word in tokens if re.search(pattern, word)]\n",
        "\n",
        "  # return token if not in filter list\n",
        "  return [token for token in tokens if token not in filtered_words]"
      ],
      "metadata": {
        "id": "k_f8hsxJk7v4"
      },
      "execution_count": 140,
      "outputs": []
    },
    {
      "cell_type": "markdown",
      "source": [
        "#### **Stem** \n",
        "\n",
        "Stem the tokens. This step aims to remove morphological affixes and normalize to standardized stem forms"
      ],
      "metadata": {
        "id": "Lm7V--yMq98r"
      }
    },
    {
      "cell_type": "code",
      "source": [
        "STEMMER = nltk.stem.RSLPStemmer()\n",
        "def stem(tokens):\n",
        "  return [STEMMER.stem(token) for token in tokens]"
      ],
      "metadata": {
        "id": "TphgFQIxrPMM"
      },
      "execution_count": 141,
      "outputs": []
    },
    {
      "cell_type": "markdown",
      "source": [
        "#### **Lemmatize**\n",
        "\n",
        "Lemmatize the tokens. Retains more natural forms than stemming, but assumes all tokens nons unless tokens are passed as (word, pos) tuples. Note: nltk lemmatize does not suport portugues language"
      ],
      "metadata": {
        "id": "RTiUcqzrrdiX"
      }
    },
    {
      "cell_type": "code",
      "source": [
        "LEMMATIZER = nltk.WordNetLemmatizer()\n",
        "\n",
        "def lemmatize(tokens):\n",
        "  lemmas = []\n",
        "  for token in tokens:\n",
        "      if isinstance(token, str):\n",
        "          # treats token like a noun\n",
        "          lemmas.append(LEMMATIZER.lemmatize(token)) \n",
        "      else: \n",
        "          # assume a tuple of (word, pos)\n",
        "          lemmas.append(LEMMATIZER.lemmatize(*token))\n",
        "  return lemmas"
      ],
      "metadata": {
        "id": "4O48ihphrxy3"
      },
      "execution_count": 142,
      "outputs": []
    },
    {
      "cell_type": "markdown",
      "source": [
        "**Lemmatize option for portuguese text**"
      ],
      "metadata": {
        "id": "eHdBPARlU24i"
      }
    },
    {
      "cell_type": "code",
      "source": [
        "# load portuguese model\n",
        "nlp = spacy.load('pt_core_news_sm')\n",
        "\n",
        "def lemmatize_pt(tokens):\n",
        "\n",
        "  # Create a spaCy Doc object and apply the lemmatization\n",
        "  doc = nlp(' '.join(tokens))\n",
        "\n",
        "  # Return lemmatize\n",
        "  return [token.lemma_ for token in doc]"
      ],
      "metadata": {
        "id": "pfgdVUHVU6Zy"
      },
      "execution_count": 143,
      "outputs": []
    },
    {
      "cell_type": "markdown",
      "source": [
        "#### **Remove stopwords**\n",
        "\n",
        "Stop words are things like articles and conjunctions that usually do not offer a lot of value in an analysis."
      ],
      "metadata": {
        "id": "jkLYqJgDs4Xd"
      }
    },
    {
      "cell_type": "code",
      "source": [
        "def remove_stopwords(tokens, stopwords=None, custom_stop_words = None):\n",
        "\n",
        "  if custom_stop_words is None:\n",
        "    custom_stop_words = ['amazon', 'americanas', 'casas bahia', 'magazine luiza', 'shein', 'kabum',\n",
        "                       'samsung', 'mercado livre', 'banco brasil', 'apple', 'magazine', 'luiza', 'luizar',\n",
        "                      'casas', 'bahia', 'casa', 'mercado', 'livre']\n",
        "\n",
        "  # Use the default stop words if none is passed\n",
        "  if stopwords is None:\n",
        "    stopwords = nltk.corpus.stopwords.words('portuguese') + custom_stop_words\n",
        "  \n",
        "  # Filter the list of tokens to exclude the stop word tokens\n",
        "  return [token for token in tokens if token not in stopwords]"
      ],
      "metadata": {
        "id": "D9blZaBYtHgj"
      },
      "execution_count": 144,
      "outputs": []
    },
    {
      "cell_type": "code",
      "source": [
        "custom_stop_words = ['amazon', 'americanas', 'casas bahia', 'magazine luiza', 'shein', 'kabum',\n",
        "                       'samsung', 'mercado livre', 'banco brasil', 'apple', 'magazine', 'luiza', 'luizar',\n",
        "                      'casas', 'bahia', 'casa', 'mercado', 'livre']\n",
        "assert remove_stopwords(['compra', 'echar', 'em esse', 'amazon', 'pude'], custom_stop_words=custom_stop_words) == ['compra', 'echar', 'em esse', 'pude']"
      ],
      "metadata": {
        "id": "-E4DqCin2HDc"
      },
      "execution_count": 145,
      "outputs": []
    },
    {
      "cell_type": "markdown",
      "source": [
        "#### **Remove hyperlinks**\n",
        "\n",
        "Removes http/s links from the tokens."
      ],
      "metadata": {
        "id": "X4qMKyfKtaAW"
      }
    },
    {
      "cell_type": "code",
      "source": [
        "def remove_links(tokens):\n",
        "  # Filter tokens that starts with \"http://\" or \"https://\"\n",
        "  return [token for token in tokens \n",
        "          if not token.startswith(\"http://\")\n",
        "          and not token.startswith(\"https://\")]"
      ],
      "metadata": {
        "id": "LqlMta5qtovS"
      },
      "execution_count": 146,
      "outputs": []
    },
    {
      "cell_type": "code",
      "source": [
        "assert remove_links(['bom', 'http://online', 'https://offline']) == ['bom']"
      ],
      "metadata": {
        "id": "vxvsG7s_6wkd"
      },
      "execution_count": 147,
      "outputs": []
    },
    {
      "cell_type": "markdown",
      "source": [
        "#### **Remove numbers**"
      ],
      "metadata": {
        "id": "EwKFluprz-pW"
      }
    },
    {
      "cell_type": "code",
      "source": [
        "def remove_numbers(tokens):\n",
        "  # Use a regular expression to match words that contain numbers\n",
        "  pattern = r\"\\b\\w*\\d\\w*\\b\"\n",
        "  tokens = [token for token in tokens if not re.sub(pattern, \"\", token) == \"\"]\n",
        "  \n",
        "  # Filter out number tokens using a list comprehension and the isnumeric method\n",
        "  return [token for token in tokens if not token.isnumeric()]"
      ],
      "metadata": {
        "id": "ALKnXv8C0EWu"
      },
      "execution_count": 148,
      "outputs": []
    },
    {
      "cell_type": "code",
      "source": [
        "assert remove_numbers(['ola', 'bicicleta', '1', '2002']) == ['ola', 'bicicleta']"
      ],
      "metadata": {
        "id": "32uzYfBG3cv2"
      },
      "execution_count": 149,
      "outputs": []
    },
    {
      "cell_type": "markdown",
      "source": [
        "#### **Remove date**"
      ],
      "metadata": {
        "id": "a0pZKAQ7ZJHL"
      }
    },
    {
      "cell_type": "code",
      "source": [
        "def remove_date(tokens):\n",
        "  # Compile a regular expression to match dates in the format dd/mm or dd/mm/yyyy\n",
        "  date_regex = re.compile(r'\\d{2}/\\d{2}(/\\d{4})?')\n",
        "\n",
        "  # Use the regex to find all the tokens that match the date pattern\n",
        "  dates = [token for token in tokens if date_regex.fullmatch(token)]\n",
        "\n",
        "  # Filter the list of tokens to exclude the date tokens\n",
        "  filtered_tokens = [token for token in tokens if token not in dates]\n",
        "\n",
        "  # Return the filtered tokens\n",
        "  return filtered_tokens"
      ],
      "metadata": {
        "id": "ywykIjKZctc-"
      },
      "execution_count": 150,
      "outputs": []
    },
    {
      "cell_type": "code",
      "source": [
        "assert remove_date(['texto', 'data', '20/10', 'seguro', '02/09/2014']) == ['texto', 'data', 'seguro']"
      ],
      "metadata": {
        "id": "k6r3cMbB7F3f"
      },
      "execution_count": 151,
      "outputs": []
    },
    {
      "cell_type": "markdown",
      "source": [
        "#### **Remove punctuation**"
      ],
      "metadata": {
        "id": "7y1FqCD1t75_"
      }
    },
    {
      "cell_type": "code",
      "source": [
        "def remove_punctuation(tokens,\n",
        "                       strip_mentions=True,\n",
        "                       strip_hashtags=True):\n",
        "\n",
        "    tokens = [re.sub(r'[^\\w\\s]', '', token) for token in tokens]\n",
        "\n",
        "    # Filter punctuation tokens\n",
        "    tokens = [token.strip() for token in tokens if token not in string.punctuation]\n",
        "\n",
        "    # Remove @ symbol from left side of tokens\n",
        "    if strip_mentions:\n",
        "        tokens = [t.lstrip(r\"([!\\\"#$%&'()*+,-./:;<=>?@[\\]^_`{|}~])\\1+\") for t in tokens]\n",
        "\n",
        "    # Remove # symbol from left side of tokens\n",
        "    if strip_hashtags:\n",
        "        tokens = [t.lstrip(r\"([!\\\"#$%&'()*+,-./:;<=>?@[\\]^_`{|}~])\\1+\") for t in tokens]\n",
        "\n",
        "    return tokens"
      ],
      "metadata": {
        "id": "ba7paG7_uBtS"
      },
      "execution_count": 152,
      "outputs": []
    },
    {
      "cell_type": "code",
      "source": [
        "assert remove_punctuation(['limpo', 'acento/  ///', 'simples???', 'onde', ',']) == ['limpo', 'acento', 'simples', 'onde']"
      ],
      "metadata": {
        "id": "7E8n6Z0l7Xe_"
      },
      "execution_count": 153,
      "outputs": []
    },
    {
      "cell_type": "markdown",
      "source": [
        "#### **Remove short tokens**"
      ],
      "metadata": {
        "id": "SiUx2T8C5YBh"
      }
    },
    {
      "cell_type": "code",
      "source": [
        "def remove_short_tokens(tokens):\n",
        "  # Filter the list of tokens to exclude tokens that are shorter than four letters\n",
        "  filtered_tokens = [token for token in tokens if len(token) >= 4]\n",
        "\n",
        "  # Return the filtered tokens\n",
        "  return filtered_tokens"
      ],
      "metadata": {
        "id": "t8SOwNYW6QI1"
      },
      "execution_count": 154,
      "outputs": []
    },
    {
      "cell_type": "code",
      "source": [
        "assert remove_short_tokens(['sair', 'um', 'correto', 'igual', 'oi', 'de', 'em']) == ['sair', 'correto', 'igual']"
      ],
      "metadata": {
        "id": "GTF9de9N7uFK"
      },
      "execution_count": 155,
      "outputs": []
    },
    {
      "cell_type": "markdown",
      "source": [
        "#### **Correction of spelling errors**"
      ],
      "metadata": {
        "id": "WqtOisN38pZP"
      }
    },
    {
      "cell_type": "code",
      "source": [
        "# Create a SpellChecker object\n",
        "spell = SpellChecker(language='pt')\n",
        "\n",
        "def check_spell_errors(text):\n",
        "  result = []\n",
        "  for token in text:\n",
        "    # Correct the spelling errors in the text\n",
        "    corrected_text = spell.correction(token)\n",
        "\n",
        "    # If no correction is present user the original text\n",
        "    if corrected_text == None:\n",
        "      corrected_text =  token\n",
        "  \n",
        "    result.append(corrected_text)\n",
        "  # Return the corrected text\n",
        "  return result"
      ],
      "metadata": {
        "id": "fUTiJYc_8hba"
      },
      "execution_count": 156,
      "outputs": []
    },
    {
      "cell_type": "markdown",
      "source": [
        "#### **Remove extra white spaces**"
      ],
      "metadata": {
        "id": "ybMjuBaSw67b"
      }
    },
    {
      "cell_type": "code",
      "source": [
        "def remove_whitespace(document):\n",
        "    return  \" \".join(document.split())"
      ],
      "metadata": {
        "id": "3ig6LBnhw_6L"
      },
      "execution_count": 157,
      "outputs": []
    },
    {
      "cell_type": "code",
      "source": [
        "def preprocess(df, colname):\n",
        "  df[colname]= df[colname].str.lower()\n",
        "  df[colname]= df[colname].apply(remove_whitespace)\n",
        "  df['tokenize'] = df[colname].apply(tokenize)\n",
        "  #df['spell_error'] = df['tokenize'].apply(check_spell_errors)\n",
        "  df['remove_links'] = df['tokenize'].apply(remove_links)\n",
        "  df['remove_punctuation'] = df['remove_links'].apply(remove_punctuation)\n",
        "  df['remove_numbers'] = df['remove_punctuation'].apply(remove_numbers)\n",
        "  df['remove_date'] = df['remove_numbers'].apply(remove_date)\n",
        "  df['remove_short_tokens'] = df['remove_date'].apply(remove_short_tokens)\n",
        "  df['remove_stop_words'] = df['remove_short_tokens'].apply(remove_stopwords)\n",
        "  df['lemmas'] = df['remove_stop_words'].apply(lemmatize_pt) \n",
        "  df['corpus'] = df['lemmas'].apply(lambda x: ' '.join(x))\n",
        "  return df"
      ],
      "metadata": {
        "id": "Tu75mPgywHwb"
      },
      "execution_count": 158,
      "outputs": []
    },
    {
      "cell_type": "code",
      "source": [
        "def get_data(features):\n",
        "  dfs = {}\n",
        "  # create models for documents and title features\n",
        "  for feature in features:\n",
        "    df = None\n",
        "    if not os.path.exists(f'/content/Topic-Modeling-Reclame-Aqui/results/dataset/preprocessed/table_{feature}.csv'):\n",
        "\n",
        "      path_csv = \"/content/Topic-Modeling-Reclame-Aqui/corpus.csv\"\n",
        "  \n",
        "      if df is None:\n",
        "        # read data \n",
        "        df = read_data(path_csv)\n",
        "  \n",
        "      # preprocess data\n",
        "      df = preprocess(df, feature)\n",
        "\n",
        "      # Set the path to save \n",
        "      path = '/content/Topic-Modeling-Reclame-Aqui/results/dataset/preprocessed/'\n",
        "\n",
        "      # Use makedirs() to create a new directory if it does not exists\n",
        "      if not os.path.exists(path):\n",
        "        os.makedirs(path)\n",
        "\n",
        "      # Save the DataFrame to a CSV file\n",
        "      df.to_csv(path + f'table_{feature}.csv')\n",
        "      print(f'Dataset saved into {path} directory.')\n",
        "  for feature in features:\n",
        "    df = pd.read_csv(f'/content/Topic-Modeling-Reclame-Aqui/results/dataset/preprocessed/table_{feature}.csv')['corpus']\n",
        "    dfs[feature] = df\n",
        "  return dfs"
      ],
      "metadata": {
        "id": "73uvqVnafwvQ"
      },
      "execution_count": 189,
      "outputs": []
    },
    {
      "cell_type": "code",
      "source": [
        "features=['title', 'documents']\n",
        "dfs = get_data(features)\n",
        "print(dfs.keys())"
      ],
      "metadata": {
        "colab": {
          "base_uri": "https://localhost:8080/"
        },
        "id": "oo923nmEwgFF",
        "outputId": "ad2fb79d-d9f3-48f5-f5e2-23601c6bdfad"
      },
      "execution_count": 199,
      "outputs": [
        {
          "output_type": "stream",
          "name": "stdout",
          "text": [
            "dict_keys(['title', 'documents'])\n"
          ]
        }
      ]
    },
    {
      "cell_type": "code",
      "source": [
        "assert list(dfs.keys()) == features"
      ],
      "metadata": {
        "id": "cIISzC-o3Yem"
      },
      "execution_count": 201,
      "outputs": []
    },
    {
      "cell_type": "code",
      "source": [
        "DATA_FRAME_FEATURE_NAME = 'title'\n",
        "\n",
        "corpus = dfs[DATA_FRAME_FEATURE_NAME]\n",
        "corpus[0]"
      ],
      "metadata": {
        "id": "xdRUWhqa2hB_",
        "outputId": "afbd26ea-f38d-43b8-92e1-8f70b5e4c7c2",
        "colab": {
          "base_uri": "https://localhost:8080/",
          "height": 36
        }
      },
      "execution_count": 198,
      "outputs": [
        {
          "output_type": "execute_result",
          "data": {
            "text/plain": [
              "'pedir cancelado justificativa após semana compro'"
            ],
            "application/vnd.google.colaboratory.intrinsic+json": {
              "type": "string"
            }
          },
          "metadata": {},
          "execution_count": 198
        }
      ]
    },
    {
      "cell_type": "markdown",
      "source": [
        "## **Training a BERTopic Model**\n",
        "\n",
        "The BERTopic algorithm has several advantages over other topic modeling algorithms. It is able to handle sparse data, it is scalable to large datasets, and it is able to learn topics that are not well-defined or are overlapping.\n",
        "\n",
        "As our data language is portuguese we will going to set language to multilingual."
      ],
      "metadata": {
        "id": "AWmOFQ3VOD05"
      }
    },
    {
      "cell_type": "markdown",
      "source": [
        "Create a new BERTopic model and train it. By default BERTopic use the paraphrase-multilingual-MiniLM-L12-v2 model for multi language documents. For others model check here [BERTopic sentence transformers](https://maartengr.github.io/BERTopic/getting_started/embeddings/embeddings.html#sentence-transformers)"
      ],
      "metadata": {
        "id": "_mBsnRnhgbm9"
      }
    },
    {
      "cell_type": "code",
      "source": [
        "# Create a new BERTopic model using multilingual option\n",
        "topic_model = BERTopic(language=\"multilingual\", calculate_probabilities=True, verbose=True)\n",
        "\n",
        "# Train model \n",
        "topics, probs = topic_model.fit_transform(corpus)"
      ],
      "metadata": {
        "id": "B0EFqnutN2Y9",
        "outputId": "578968c4-2164-451c-a584-30637fb42b32",
        "colab": {
          "base_uri": "https://localhost:8080/",
          "height": 101,
          "referenced_widgets": [
            "91be6958e8c3432f9bc392f9e6337e43",
            "d46d2c69d5e5413ba240152af792878b",
            "6707b748c9554010a4aa418fe66e4258",
            "aa8641fd63db4f8b8f1aa9a0ae8a4648",
            "787f80ca696f4bcd9b339f8a8330ccff",
            "bd968f9480104db48bc6589a07054d52",
            "0794d0b1c1024d12a2ce2be57cc59d7a",
            "0be88964774d43a5a45b994b4379014e",
            "e1d4dab329114902b43e74e92039c050",
            "c792ba0182ff40f2bda8bc6d2e056e25",
            "fff1dd31f91a46b29d43c7d913694cd6"
          ]
        }
      },
      "execution_count": 161,
      "outputs": [
        {
          "output_type": "display_data",
          "data": {
            "text/plain": [
              "Batches:   0%|          | 0/329 [00:00<?, ?it/s]"
            ],
            "application/vnd.jupyter.widget-view+json": {
              "version_major": 2,
              "version_minor": 0,
              "model_id": "91be6958e8c3432f9bc392f9e6337e43"
            }
          },
          "metadata": {}
        },
        {
          "output_type": "stream",
          "name": "stderr",
          "text": [
            "2023-01-06 20:47:25,291 - BERTopic - Transformed documents to Embeddings\n",
            "2023-01-06 20:47:48,727 - BERTopic - Reduced dimensionality\n",
            "2023-01-06 20:47:54,191 - BERTopic - Clustered reduced embeddings\n"
          ]
        }
      ]
    },
    {
      "cell_type": "markdown",
      "source": [
        "BERTopic works in three main steps: \n",
        "\n",
        "\n",
        "1.   Documents are first converted to numeric data. It extracts different embeddings based on the context of the word. For this, a sentence transformation model is used.\n",
        "2.  Documents with similar topics are then grouped together forming clusters with similar topics. For this purpose, BERTopic uses the clustering algorithm UMAP to lower the dimensionality of the embeddings. Then the documents are clustered with the density-based algorithm HDBSCAN.\n",
        "3. BERTopic extracts topics from clusters using a class-based TF-IDF score. This score gives the importance of each word in a cluster. Topics are then created based on the most important words measured by their C-TF-IDF score.\n",
        "\n",
        "For more information check this link [BERTopic](https://towardsdatascience.com/topic-modeling-with-bert-779f7db187e6)\n",
        "\n"
      ],
      "metadata": {
        "id": "vnG5aC6ekXeu"
      }
    },
    {
      "cell_type": "markdown",
      "source": [
        "### **Extracting Topics**"
      ],
      "metadata": {
        "id": "GimKIMmaRZSd"
      }
    },
    {
      "cell_type": "code",
      "source": [
        "# Print the most frequent topics\n",
        "freq = topic_model.get_topic_info()\n",
        "\n",
        "# Show the top 5 most frequent topics\n",
        "freq.head(5)"
      ],
      "metadata": {
        "id": "JIrBNmF-Rcf0",
        "outputId": "67060c33-6e5e-495f-fdd3-3ecef4ffe4df",
        "colab": {
          "base_uri": "https://localhost:8080/",
          "height": 206
        }
      },
      "execution_count": 162,
      "outputs": [
        {
          "output_type": "execute_result",
          "data": {
            "text/plain": [
              "   Topic  Count                                     Name\n",
              "0     -1   5119         -1_entregar_produto_pedir_compra\n",
              "1      0    633         0_cartão_crédito_cobrar_cobrança\n",
              "2      1    502    1_celular_aparelho_smartphone_comprar\n",
              "3      2    257  2_whatsapp_contato_entregar_atendimento\n",
              "4      3    245         3_brasil_brasileiro_chegar_pedir"
            ],
            "text/html": [
              "\n",
              "  <div id=\"df-15227d3a-b602-40bc-b6f3-13cc6f5854b0\">\n",
              "    <div class=\"colab-df-container\">\n",
              "      <div>\n",
              "<style scoped>\n",
              "    .dataframe tbody tr th:only-of-type {\n",
              "        vertical-align: middle;\n",
              "    }\n",
              "\n",
              "    .dataframe tbody tr th {\n",
              "        vertical-align: top;\n",
              "    }\n",
              "\n",
              "    .dataframe thead th {\n",
              "        text-align: right;\n",
              "    }\n",
              "</style>\n",
              "<table border=\"1\" class=\"dataframe\">\n",
              "  <thead>\n",
              "    <tr style=\"text-align: right;\">\n",
              "      <th></th>\n",
              "      <th>Topic</th>\n",
              "      <th>Count</th>\n",
              "      <th>Name</th>\n",
              "    </tr>\n",
              "  </thead>\n",
              "  <tbody>\n",
              "    <tr>\n",
              "      <th>0</th>\n",
              "      <td>-1</td>\n",
              "      <td>5119</td>\n",
              "      <td>-1_entregar_produto_pedir_compra</td>\n",
              "    </tr>\n",
              "    <tr>\n",
              "      <th>1</th>\n",
              "      <td>0</td>\n",
              "      <td>633</td>\n",
              "      <td>0_cartão_crédito_cobrar_cobrança</td>\n",
              "    </tr>\n",
              "    <tr>\n",
              "      <th>2</th>\n",
              "      <td>1</td>\n",
              "      <td>502</td>\n",
              "      <td>1_celular_aparelho_smartphone_comprar</td>\n",
              "    </tr>\n",
              "    <tr>\n",
              "      <th>3</th>\n",
              "      <td>2</td>\n",
              "      <td>257</td>\n",
              "      <td>2_whatsapp_contato_entregar_atendimento</td>\n",
              "    </tr>\n",
              "    <tr>\n",
              "      <th>4</th>\n",
              "      <td>3</td>\n",
              "      <td>245</td>\n",
              "      <td>3_brasil_brasileiro_chegar_pedir</td>\n",
              "    </tr>\n",
              "  </tbody>\n",
              "</table>\n",
              "</div>\n",
              "      <button class=\"colab-df-convert\" onclick=\"convertToInteractive('df-15227d3a-b602-40bc-b6f3-13cc6f5854b0')\"\n",
              "              title=\"Convert this dataframe to an interactive table.\"\n",
              "              style=\"display:none;\">\n",
              "        \n",
              "  <svg xmlns=\"http://www.w3.org/2000/svg\" height=\"24px\"viewBox=\"0 0 24 24\"\n",
              "       width=\"24px\">\n",
              "    <path d=\"M0 0h24v24H0V0z\" fill=\"none\"/>\n",
              "    <path d=\"M18.56 5.44l.94 2.06.94-2.06 2.06-.94-2.06-.94-.94-2.06-.94 2.06-2.06.94zm-11 1L8.5 8.5l.94-2.06 2.06-.94-2.06-.94L8.5 2.5l-.94 2.06-2.06.94zm10 10l.94 2.06.94-2.06 2.06-.94-2.06-.94-.94-2.06-.94 2.06-2.06.94z\"/><path d=\"M17.41 7.96l-1.37-1.37c-.4-.4-.92-.59-1.43-.59-.52 0-1.04.2-1.43.59L10.3 9.45l-7.72 7.72c-.78.78-.78 2.05 0 2.83L4 21.41c.39.39.9.59 1.41.59.51 0 1.02-.2 1.41-.59l7.78-7.78 2.81-2.81c.8-.78.8-2.07 0-2.86zM5.41 20L4 18.59l7.72-7.72 1.47 1.35L5.41 20z\"/>\n",
              "  </svg>\n",
              "      </button>\n",
              "      \n",
              "  <style>\n",
              "    .colab-df-container {\n",
              "      display:flex;\n",
              "      flex-wrap:wrap;\n",
              "      gap: 12px;\n",
              "    }\n",
              "\n",
              "    .colab-df-convert {\n",
              "      background-color: #E8F0FE;\n",
              "      border: none;\n",
              "      border-radius: 50%;\n",
              "      cursor: pointer;\n",
              "      display: none;\n",
              "      fill: #1967D2;\n",
              "      height: 32px;\n",
              "      padding: 0 0 0 0;\n",
              "      width: 32px;\n",
              "    }\n",
              "\n",
              "    .colab-df-convert:hover {\n",
              "      background-color: #E2EBFA;\n",
              "      box-shadow: 0px 1px 2px rgba(60, 64, 67, 0.3), 0px 1px 3px 1px rgba(60, 64, 67, 0.15);\n",
              "      fill: #174EA6;\n",
              "    }\n",
              "\n",
              "    [theme=dark] .colab-df-convert {\n",
              "      background-color: #3B4455;\n",
              "      fill: #D2E3FC;\n",
              "    }\n",
              "\n",
              "    [theme=dark] .colab-df-convert:hover {\n",
              "      background-color: #434B5C;\n",
              "      box-shadow: 0px 1px 3px 1px rgba(0, 0, 0, 0.15);\n",
              "      filter: drop-shadow(0px 1px 2px rgba(0, 0, 0, 0.3));\n",
              "      fill: #FFFFFF;\n",
              "    }\n",
              "  </style>\n",
              "\n",
              "      <script>\n",
              "        const buttonEl =\n",
              "          document.querySelector('#df-15227d3a-b602-40bc-b6f3-13cc6f5854b0 button.colab-df-convert');\n",
              "        buttonEl.style.display =\n",
              "          google.colab.kernel.accessAllowed ? 'block' : 'none';\n",
              "\n",
              "        async function convertToInteractive(key) {\n",
              "          const element = document.querySelector('#df-15227d3a-b602-40bc-b6f3-13cc6f5854b0');\n",
              "          const dataTable =\n",
              "            await google.colab.kernel.invokeFunction('convertToInteractive',\n",
              "                                                     [key], {});\n",
              "          if (!dataTable) return;\n",
              "\n",
              "          const docLinkHtml = 'Like what you see? Visit the ' +\n",
              "            '<a target=\"_blank\" href=https://colab.research.google.com/notebooks/data_table.ipynb>data table notebook</a>'\n",
              "            + ' to learn more about interactive tables.';\n",
              "          element.innerHTML = '';\n",
              "          dataTable['output_type'] = 'display_data';\n",
              "          await google.colab.output.renderOutput(dataTable, element);\n",
              "          const docLink = document.createElement('div');\n",
              "          docLink.innerHTML = docLinkHtml;\n",
              "          element.appendChild(docLink);\n",
              "        }\n",
              "      </script>\n",
              "    </div>\n",
              "  </div>\n",
              "  "
            ]
          },
          "metadata": {},
          "execution_count": 162
        }
      ]
    },
    {
      "cell_type": "markdown",
      "source": [
        "The table above shows the five most freqeuente topics and the words present on it extract by BERTopic. -1 refers to all outliers and should be ignored."
      ],
      "metadata": {
        "id": "TVWcfF5mRrMy"
      }
    },
    {
      "cell_type": "code",
      "source": [
        "# show the most frequent topic\n",
        "topic_model.get_topic(0)"
      ],
      "metadata": {
        "id": "Br_UMf1kRxU3",
        "outputId": "9ffeff9b-038f-4a64-f203-febcf1e30f81",
        "colab": {
          "base_uri": "https://localhost:8080/"
        }
      },
      "execution_count": 163,
      "outputs": [
        {
          "output_type": "execute_result",
          "data": {
            "text/plain": [
              "[('cartão', 0.05457878492990092),\n",
              " ('crédito', 0.02861950568175978),\n",
              " ('cobrar', 0.018609249540710374),\n",
              " ('cobrança', 0.017638062155466563),\n",
              " ('fatura', 0.017625068530599128),\n",
              " ('compra', 0.016799195872435214),\n",
              " ('valor', 0.01647283379221534),\n",
              " ('assinatura', 0.014099442492386203),\n",
              " ('pagamento', 0.013904072337887444),\n",
              " ('contar', 0.013508000050436772)]"
            ]
          },
          "metadata": {},
          "execution_count": 163
        }
      ]
    },
    {
      "cell_type": "markdown",
      "source": [
        "**Note:** BERTopic is stocastich which means that the topics might differ across runs this is mostly due to the stocastisch nature of UMAP"
      ],
      "metadata": {
        "id": "YpP4HgF2R6Wa"
      }
    },
    {
      "cell_type": "markdown",
      "source": [
        "#### **Save topic info table as CSV**"
      ],
      "metadata": {
        "id": "CxWLChzJlPmZ"
      }
    },
    {
      "cell_type": "code",
      "source": [
        "# Set the path to save \n",
        "path = f'/content/Topic-Modeling-Reclame-Aqui/results/{DATA_FRAME_FEATURE_NAME}/topic_info_tables/'\n",
        "\n",
        "# Use makedirs() to create a new directory if it does not exists\n",
        "if not os.path.exists(path):\n",
        "  os.makedirs(path)\n",
        "\n",
        "# Save table as csv\n",
        "freq.head(10).to_csv(path + 'topic_info_preprocessed_lemma.csv')"
      ],
      "metadata": {
        "id": "9wM4Ymh_lOdt"
      },
      "execution_count": 164,
      "outputs": []
    },
    {
      "cell_type": "markdown",
      "source": [
        "## **Visualization**"
      ],
      "metadata": {
        "id": "wBsA8hiVSJDY"
      }
    },
    {
      "cell_type": "markdown",
      "source": [
        "### **Intertopic Distance Map**\n",
        "\n",
        "This graph shows the distance intertopic and help us understand the promixity of topics"
      ],
      "metadata": {
        "id": "2twooZDXUc2T"
      }
    },
    {
      "cell_type": "code",
      "source": [
        "fig = topic_model.visualize_topics(width=800, height=800)\n",
        "fig"
      ],
      "metadata": {
        "id": "Ae2JSAENSIOJ",
        "outputId": "2c7f76fc-b888-4011-fa52-69d2ae0866f6",
        "colab": {
          "base_uri": "https://localhost:8080/",
          "height": 837
        }
      },
      "execution_count": 165,
      "outputs": [
        {
          "output_type": "display_data",
          "data": {
            "text/html": [
              "<html>\n",
              "<head><meta charset=\"utf-8\" /></head>\n",
              "<body>\n",
              "    <div>            <script src=\"https://cdnjs.cloudflare.com/ajax/libs/mathjax/2.7.5/MathJax.js?config=TeX-AMS-MML_SVG\"></script><script type=\"text/javascript\">if (window.MathJax) {MathJax.Hub.Config({SVG: {font: \"STIX-Web\"}});}</script>                <script type=\"text/javascript\">window.PlotlyConfig = {MathJaxConfig: 'local'};</script>\n",
              "        <script src=\"https://cdn.plot.ly/plotly-2.8.3.min.js\"></script>                <div id=\"fe1da375-c731-4d2d-9e55-93a559207587\" class=\"plotly-graph-div\" style=\"height:800px; width:800px;\"></div>            <script type=\"text/javascript\">                                    window.PLOTLYENV=window.PLOTLYENV || {};                                    if (document.getElementById(\"fe1da375-c731-4d2d-9e55-93a559207587\")) {                    Plotly.newPlot(                        \"fe1da375-c731-4d2d-9e55-93a559207587\",                        [{\"customdata\":[[0,\"cart\\u00e3o | cr\\u00e9dito | cobrar | cobran\\u00e7a | fatura\",633],[1,\"celular | aparelho | smartphone | comprar | loja\",502],[2,\"whatsapp | contato | entregar | atendimento | entrar\",257],[3,\"brasil | brasileiro | chegar | pedir | compra\",245],[4,\"conta | email | acessar | senha | acesso\",197],[5,\"roupa | cal\\u00e7a | vestir | tamanho | guarda\",184],[6,\"loja | magalu | poder | entrar | contato\",177],[7,\"ariano | produto | vendedor | infra\\u00e7\\u00e3o | reclama\\u00e7\\u00e3o\",168],[8,\"dinheiro | reembolso | voltar | devolver | compra\",160],[9,\"novembro | dezembro | outubro | chegar | entregar\",154],[10,\"cancelamento | cancelar | pedir | solicitei | site\",145],[11,\"iphone | aparelho | celular | carregador | valor\",143],[12,\"black | friday | promo\\u00e7\\u00e3o | oferta | pre\\u00e7o\",116],[13,\"endere\\u00e7o | pedir | remetente | correio | pedido\",109],[14,\"pedir | entregar | encomenda | recebi | saber\",101],[15,\"geladeira | refrigerador | geladeiro | troca | amassar\",96],[16,\"aplicativo | compra | reembolso | recebi | pedir\",76],[17,\"previs\\u00e3o | entregar | prazo | produto | data\",69],[18,\"rastreio | c\\u00f3digo | rastreamento | rastrear | localizar\",68],[19,\"livro | compr | dois | hoje | entregar\",61],[20,\"t\\u00eanis | mizuno | tenis | wave | raquete\",59],[21,\"cancelamento | cancelar | reembolso | cancelei | valor\",59],[22,\"cobran\\u00e7a | amazoncombr | digital | amazoncom | valor\",55],[23,\"pagamento | comprovante | paguei | confirma\\u00e7\\u00e3o | boleto\",53],[24,\"rob\\u00f4 | aspirador | macac\\u00e3o | tentar | suporte\",53],[25,\"m\\u00e1quina | lavar | roupa | seca | maquina\",51],[26,\"prime | v\\u00eddeo | assinatura | video | assistir\",49],[27,\"curitiba | parado | tr\\u00e2nsito | atualiza\\u00e7\\u00e3o | chegar\",46],[28,\"vir | garrafa | caixa | danificar | copo\",43],[29,\"juliana_fraga | produto | m\\u00e1rcia | loja | site\",41],[30,\"gr\\u00e1tis | frete | anunciar | an\\u00fancio | valor\",41],[31,\"foto | placa | c\\u00e2mera | devolu\\u00e7\\u00e3o | vendedor\",40],[32,\"endere\\u00e7o | produto | contato | n\\u00famero | receber\",36],[33,\"nota | desconto | valor | fiscal | correto\",36],[34,\"jogo | lan\\u00e7amento | ragnarok | pr\\u00e9venda | venda\",36],[35,\"internacional | nacional | envio | processamento | importa\\u00e7\\u00e3o\",35],[36,\"perfume | shampoo | cabelo | embalagem | natural\",35],[37,\"china | nacional | correios | chegar | brasil\",35],[38,\"televis\\u00e3o | monitor | televisor | assistir | copa\",35],[39,\"notebook | dell | loja | retirar | intel\",34],[40,\"entregar | esperar | ningu\\u00e9m | entregador | ligar\",34],[41,\"endere\\u00e7o | site | tentar | amobeleza | empresa\",32],[42,\"bluetooth | fone | controle | devolu\\u00e7\\u00e3o | projetor\",32],[43,\"devolu\\u00e7\\u00e3o | postagem | solicitei | correio | postagir\",31],[44,\"prazo | cumprir | entregar | atraso | data\",31],[45,\"produto | derreter | compr | desdo | mercadoria\",31],[46,\"cashback | valor | extrato | futuro | digital\",30],[47,\"bicicleta | capacete | bike | compr | filho\",30],[48,\"amazoncombr | transportadora | quadro | rem\\u00e9dio | entregar\",28],[49,\"carrinho | bicicleta | querer | pr\\u00e9dio | traseira\",27],[50,\"produto | separa\\u00e7\\u00e3o | entregar | estoque | prazo\",26],[51,\"m\\u00fasica | music | ouvir | tocar | m\\u00fasico\",25],[52,\"cadeira | montar | mesa | gamer | base\",25],[53,\"reconhecimento | facial | rosto | acessar | senha\",25],[54,\"transportadora | entregar | hoje | ningu\\u00e9m | anel\",25],[55,\"sof\\u00e1 | mobly | magalu | reclin\\u00e1vel | tecido\",23],[56,\"novembro | falar | reclamacao | reabrir | compra\",23],[57,\"dinheiro | site | ganhar | paguei | realizei\",22],[58,\"cama | comprei | colch\\u00e3o | edredom | ch\\u00e3o\",22],[59,\"frete | vendedor | prazo | entrar | atendente\",20],[60,\"pneu | pastilha | pirelli | dur\\u00e1vel | freio\",18],[61,\"mouse | teclado | combo | logitech | gamer\",17],[62,\"ningu\\u00e9m | nada | entregar | desdenontem | nadaonder\",17],[63,\"microondas | eletrotrader | microondo | online | dia\",17],[64,\"chat | desbloqueio | autoatendimento | preciso | insatisfa\\u00e7\\u00e3o\",16],[65,\"esposo | marido | evid\\u00eancia | gente | rasura\",16],[66,\"esperar | sof\\u00e1 | segundafeira | pedir | atendimento\",16],[67,\"forno | el\\u00e9trico | embutir | nell | fryer\",16],[68,\"boleto | paguei | reembolso | entanto | parcelasno\",15],[69,\"cadeirinha | alterar | atraso | data | guardaroupa\",15],[70,\"liquidificador | quebrar | defeituosar | oster | fornecedor\",14],[71,\"previs\\u00e3o | prazo | planejamento | data | vaga\",13],[72,\"clima | atualizar | anormal | semana | previs\\u00e3o\",13],[73,\"echo | microfone | studio | echar | gritar\",13],[74,\"l\\u00e2mpada | lampada | l\\u00e2mpar | l\\u00e2mpado | an\\u00fancio\",12],[75,\"cancelar | clip | cancelamento | loja | nunca\",12],[76,\"rastrear | transportadora | rastreio | rastreamento | elizabete\",12],[77,\"jogo | lan\\u00e7amento | spoiler | pr\\u00e9venda | jogar\",12],[78,\"https | lepsably | wwwamericanasentregacombr | brsheincomrobot | pagenavigationbar\",11],[79,\"novembro | nacional | paiolla | setembrono | alusivo\",11],[80,\"secador | bagun\\u00e7a | prazo | esperar | chegar\",10],[81,\"loja | antecipa\\u00e7\\u00e3o | aguardo | tentar | por\\u00e9m\",10],[82,\"caneta | escolhi | caixa | produto | incompleto\",10]],\"hovertemplate\":\"<b>Topic %{customdata[0]}</b><br>Words: %{customdata[1]}<br>Size: %{customdata[2]}\",\"legendgroup\":\"\",\"marker\":{\"color\":\"#B0BEC5\",\"size\":[633,502,257,245,197,184,177,168,160,154,145,143,116,109,101,96,76,69,68,61,59,59,55,53,53,51,49,46,43,41,41,40,36,36,36,35,35,35,35,34,34,32,32,31,31,31,30,30,28,27,26,25,25,25,25,23,23,22,22,20,18,17,17,17,16,16,16,16,15,15,14,13,13,13,12,12,12,12,11,11,10,10,10],\"sizemode\":\"area\",\"sizeref\":0.395625,\"symbol\":\"circle\",\"line\":{\"color\":\"DarkSlateGrey\",\"width\":2}},\"mode\":\"markers\",\"name\":\"\",\"orientation\":\"v\",\"showlegend\":false,\"x\":[-4.390570163726807,-4.207194805145264,0.8852118253707886,-4.409733295440674,2.647995948791504,12.8528470993042,-4.699392318725586,0.10427486151456833,1.1055628061294556,21.76078224182129,9.332930564880371,-4.276525497436523,-4.120086669921875,13.320911407470703,12.633077621459961,0.8448013067245483,1.0688142776489258,3.5469279289245605,20.268783569335938,1.6445461511611938,3.579162120819092,9.129467964172363,0.7732040882110596,1.8951735496520996,12.982743263244629,6.5298380851745605,0.7692282199859619,20.615814208984375,0.39673689007759094,-4.469542503356934,9.161131858825684,0.040605638176202774,13.236115455627441,8.935600280761719,6.1008758544921875,1.4987728595733643,0.27800026535987854,21.449655532836914,2.1412951946258545,3.8377835750579834,0.4003366231918335,3.483351230621338,6.531941890716553,-0.1382155567407608,0.30279773473739624,21.36631202697754,1.175885796546936,1.5206279754638672,-0.2520594000816345,0.38297539949417114,3.879176616668701,0.7686343193054199,3.7571821212768555,2.6478734016418457,-0.04175126180052757,9.594724655151367,9.1909818649292,9.197343826293945,9.553289413452148,1.1253238916397095,2.219738245010376,-0.1100488230586052,12.631093978881836,3.496476411819458,1.274441123008728,0.537063479423523,-0.10596134513616562,1.449239730834961,1.1350077390670776,20.138269424438477,1.3569023609161377,20.624971389770508,20.2370662689209,1.2986360788345337,-0.17177686095237732,9.321550369262695,20.22880744934082,6.100870132446289,-0.2229463756084442,21.370119094848633,21.579463958740234,13.215967178344727,8.784969329833984],\"xaxis\":\"x\",\"y\":[-0.034095920622348785,-0.22207053005695343,-5.103814125061035,-0.015348907560110092,15.505328178405762,-0.9556176066398621,0.27825111150741577,6.531440734863281,1.697257399559021,4.6423845291137695,-1.831857442855835,-0.15218359231948853,-0.30686935782432556,-1.4157565832138062,8.679567337036133,-5.062363624572754,1.291272759437561,2.9711670875549316,4.803646087646484,1.6758283376693726,3.212752103805542,-1.6825917959213257,12.303973197937012,1.5186653137207031,-1.0822474956512451,14.602436065673828,12.325562477111816,4.570559978485107,5.487077713012695,0.046954743564128876,-0.8392146229743958,6.438198566436768,-1.3314459323883057,-1.3177087306976318,18.45725440979004,1.2678265571594238,5.553575038909912,4.551499843597412,1.1872698068618774,3.346787929534912,-4.621190547943115,2.912432909011841,14.60360336303711,5.553569316864014,-4.530167579650879,5.0259857177734375,1.0296536684036255,1.6839234828948975,-4.172917366027832,-4.6001787185668945,3.03271746635437,12.3286714553833,3.112389087677002,15.50521469116211,-4.369370937347412,-1.7034673690795898,-1.599536418914795,-0.9380415081977844,-1.4496537446975708,1.5198465585708618,1.1277438402175903,6.114068984985352,8.692622184753418,2.9376776218414307,1.1756657361984253,-4.7531256675720215,-4.32493257522583,0.4725319743156433,1.4569549560546875,4.29148530960083,0.613881528377533,4.768235683441162,4.351711273193359,1.2311476469039917,5.6376729011535645,-1.5567970275878906,4.7586822509765625,18.45707130432129,5.634357929229736,4.912903785705566,4.514005184173584,-1.3108755350112915,-1.1032421588897705],\"yaxis\":\"y\",\"type\":\"scatter\"}],                        {\"template\":{\"data\":{\"barpolar\":[{\"marker\":{\"line\":{\"color\":\"white\",\"width\":0.5},\"pattern\":{\"fillmode\":\"overlay\",\"size\":10,\"solidity\":0.2}},\"type\":\"barpolar\"}],\"bar\":[{\"error_x\":{\"color\":\"rgb(36,36,36)\"},\"error_y\":{\"color\":\"rgb(36,36,36)\"},\"marker\":{\"line\":{\"color\":\"white\",\"width\":0.5},\"pattern\":{\"fillmode\":\"overlay\",\"size\":10,\"solidity\":0.2}},\"type\":\"bar\"}],\"carpet\":[{\"aaxis\":{\"endlinecolor\":\"rgb(36,36,36)\",\"gridcolor\":\"white\",\"linecolor\":\"white\",\"minorgridcolor\":\"white\",\"startlinecolor\":\"rgb(36,36,36)\"},\"baxis\":{\"endlinecolor\":\"rgb(36,36,36)\",\"gridcolor\":\"white\",\"linecolor\":\"white\",\"minorgridcolor\":\"white\",\"startlinecolor\":\"rgb(36,36,36)\"},\"type\":\"carpet\"}],\"choropleth\":[{\"colorbar\":{\"outlinewidth\":1,\"tickcolor\":\"rgb(36,36,36)\",\"ticks\":\"outside\"},\"type\":\"choropleth\"}],\"contourcarpet\":[{\"colorbar\":{\"outlinewidth\":1,\"tickcolor\":\"rgb(36,36,36)\",\"ticks\":\"outside\"},\"type\":\"contourcarpet\"}],\"contour\":[{\"colorbar\":{\"outlinewidth\":1,\"tickcolor\":\"rgb(36,36,36)\",\"ticks\":\"outside\"},\"colorscale\":[[0.0,\"#440154\"],[0.1111111111111111,\"#482878\"],[0.2222222222222222,\"#3e4989\"],[0.3333333333333333,\"#31688e\"],[0.4444444444444444,\"#26828e\"],[0.5555555555555556,\"#1f9e89\"],[0.6666666666666666,\"#35b779\"],[0.7777777777777778,\"#6ece58\"],[0.8888888888888888,\"#b5de2b\"],[1.0,\"#fde725\"]],\"type\":\"contour\"}],\"heatmapgl\":[{\"colorbar\":{\"outlinewidth\":1,\"tickcolor\":\"rgb(36,36,36)\",\"ticks\":\"outside\"},\"colorscale\":[[0.0,\"#440154\"],[0.1111111111111111,\"#482878\"],[0.2222222222222222,\"#3e4989\"],[0.3333333333333333,\"#31688e\"],[0.4444444444444444,\"#26828e\"],[0.5555555555555556,\"#1f9e89\"],[0.6666666666666666,\"#35b779\"],[0.7777777777777778,\"#6ece58\"],[0.8888888888888888,\"#b5de2b\"],[1.0,\"#fde725\"]],\"type\":\"heatmapgl\"}],\"heatmap\":[{\"colorbar\":{\"outlinewidth\":1,\"tickcolor\":\"rgb(36,36,36)\",\"ticks\":\"outside\"},\"colorscale\":[[0.0,\"#440154\"],[0.1111111111111111,\"#482878\"],[0.2222222222222222,\"#3e4989\"],[0.3333333333333333,\"#31688e\"],[0.4444444444444444,\"#26828e\"],[0.5555555555555556,\"#1f9e89\"],[0.6666666666666666,\"#35b779\"],[0.7777777777777778,\"#6ece58\"],[0.8888888888888888,\"#b5de2b\"],[1.0,\"#fde725\"]],\"type\":\"heatmap\"}],\"histogram2dcontour\":[{\"colorbar\":{\"outlinewidth\":1,\"tickcolor\":\"rgb(36,36,36)\",\"ticks\":\"outside\"},\"colorscale\":[[0.0,\"#440154\"],[0.1111111111111111,\"#482878\"],[0.2222222222222222,\"#3e4989\"],[0.3333333333333333,\"#31688e\"],[0.4444444444444444,\"#26828e\"],[0.5555555555555556,\"#1f9e89\"],[0.6666666666666666,\"#35b779\"],[0.7777777777777778,\"#6ece58\"],[0.8888888888888888,\"#b5de2b\"],[1.0,\"#fde725\"]],\"type\":\"histogram2dcontour\"}],\"histogram2d\":[{\"colorbar\":{\"outlinewidth\":1,\"tickcolor\":\"rgb(36,36,36)\",\"ticks\":\"outside\"},\"colorscale\":[[0.0,\"#440154\"],[0.1111111111111111,\"#482878\"],[0.2222222222222222,\"#3e4989\"],[0.3333333333333333,\"#31688e\"],[0.4444444444444444,\"#26828e\"],[0.5555555555555556,\"#1f9e89\"],[0.6666666666666666,\"#35b779\"],[0.7777777777777778,\"#6ece58\"],[0.8888888888888888,\"#b5de2b\"],[1.0,\"#fde725\"]],\"type\":\"histogram2d\"}],\"histogram\":[{\"marker\":{\"line\":{\"color\":\"white\",\"width\":0.6}},\"type\":\"histogram\"}],\"mesh3d\":[{\"colorbar\":{\"outlinewidth\":1,\"tickcolor\":\"rgb(36,36,36)\",\"ticks\":\"outside\"},\"type\":\"mesh3d\"}],\"parcoords\":[{\"line\":{\"colorbar\":{\"outlinewidth\":1,\"tickcolor\":\"rgb(36,36,36)\",\"ticks\":\"outside\"}},\"type\":\"parcoords\"}],\"pie\":[{\"automargin\":true,\"type\":\"pie\"}],\"scatter3d\":[{\"line\":{\"colorbar\":{\"outlinewidth\":1,\"tickcolor\":\"rgb(36,36,36)\",\"ticks\":\"outside\"}},\"marker\":{\"colorbar\":{\"outlinewidth\":1,\"tickcolor\":\"rgb(36,36,36)\",\"ticks\":\"outside\"}},\"type\":\"scatter3d\"}],\"scattercarpet\":[{\"marker\":{\"colorbar\":{\"outlinewidth\":1,\"tickcolor\":\"rgb(36,36,36)\",\"ticks\":\"outside\"}},\"type\":\"scattercarpet\"}],\"scattergeo\":[{\"marker\":{\"colorbar\":{\"outlinewidth\":1,\"tickcolor\":\"rgb(36,36,36)\",\"ticks\":\"outside\"}},\"type\":\"scattergeo\"}],\"scattergl\":[{\"marker\":{\"colorbar\":{\"outlinewidth\":1,\"tickcolor\":\"rgb(36,36,36)\",\"ticks\":\"outside\"}},\"type\":\"scattergl\"}],\"scattermapbox\":[{\"marker\":{\"colorbar\":{\"outlinewidth\":1,\"tickcolor\":\"rgb(36,36,36)\",\"ticks\":\"outside\"}},\"type\":\"scattermapbox\"}],\"scatterpolargl\":[{\"marker\":{\"colorbar\":{\"outlinewidth\":1,\"tickcolor\":\"rgb(36,36,36)\",\"ticks\":\"outside\"}},\"type\":\"scatterpolargl\"}],\"scatterpolar\":[{\"marker\":{\"colorbar\":{\"outlinewidth\":1,\"tickcolor\":\"rgb(36,36,36)\",\"ticks\":\"outside\"}},\"type\":\"scatterpolar\"}],\"scatter\":[{\"marker\":{\"colorbar\":{\"outlinewidth\":1,\"tickcolor\":\"rgb(36,36,36)\",\"ticks\":\"outside\"}},\"type\":\"scatter\"}],\"scatterternary\":[{\"marker\":{\"colorbar\":{\"outlinewidth\":1,\"tickcolor\":\"rgb(36,36,36)\",\"ticks\":\"outside\"}},\"type\":\"scatterternary\"}],\"surface\":[{\"colorbar\":{\"outlinewidth\":1,\"tickcolor\":\"rgb(36,36,36)\",\"ticks\":\"outside\"},\"colorscale\":[[0.0,\"#440154\"],[0.1111111111111111,\"#482878\"],[0.2222222222222222,\"#3e4989\"],[0.3333333333333333,\"#31688e\"],[0.4444444444444444,\"#26828e\"],[0.5555555555555556,\"#1f9e89\"],[0.6666666666666666,\"#35b779\"],[0.7777777777777778,\"#6ece58\"],[0.8888888888888888,\"#b5de2b\"],[1.0,\"#fde725\"]],\"type\":\"surface\"}],\"table\":[{\"cells\":{\"fill\":{\"color\":\"rgb(237,237,237)\"},\"line\":{\"color\":\"white\"}},\"header\":{\"fill\":{\"color\":\"rgb(217,217,217)\"},\"line\":{\"color\":\"white\"}},\"type\":\"table\"}]},\"layout\":{\"annotationdefaults\":{\"arrowhead\":0,\"arrowwidth\":1},\"autotypenumbers\":\"strict\",\"coloraxis\":{\"colorbar\":{\"outlinewidth\":1,\"tickcolor\":\"rgb(36,36,36)\",\"ticks\":\"outside\"}},\"colorscale\":{\"diverging\":[[0.0,\"rgb(103,0,31)\"],[0.1,\"rgb(178,24,43)\"],[0.2,\"rgb(214,96,77)\"],[0.3,\"rgb(244,165,130)\"],[0.4,\"rgb(253,219,199)\"],[0.5,\"rgb(247,247,247)\"],[0.6,\"rgb(209,229,240)\"],[0.7,\"rgb(146,197,222)\"],[0.8,\"rgb(67,147,195)\"],[0.9,\"rgb(33,102,172)\"],[1.0,\"rgb(5,48,97)\"]],\"sequential\":[[0.0,\"#440154\"],[0.1111111111111111,\"#482878\"],[0.2222222222222222,\"#3e4989\"],[0.3333333333333333,\"#31688e\"],[0.4444444444444444,\"#26828e\"],[0.5555555555555556,\"#1f9e89\"],[0.6666666666666666,\"#35b779\"],[0.7777777777777778,\"#6ece58\"],[0.8888888888888888,\"#b5de2b\"],[1.0,\"#fde725\"]],\"sequentialminus\":[[0.0,\"#440154\"],[0.1111111111111111,\"#482878\"],[0.2222222222222222,\"#3e4989\"],[0.3333333333333333,\"#31688e\"],[0.4444444444444444,\"#26828e\"],[0.5555555555555556,\"#1f9e89\"],[0.6666666666666666,\"#35b779\"],[0.7777777777777778,\"#6ece58\"],[0.8888888888888888,\"#b5de2b\"],[1.0,\"#fde725\"]]},\"colorway\":[\"#1F77B4\",\"#FF7F0E\",\"#2CA02C\",\"#D62728\",\"#9467BD\",\"#8C564B\",\"#E377C2\",\"#7F7F7F\",\"#BCBD22\",\"#17BECF\"],\"font\":{\"color\":\"rgb(36,36,36)\"},\"geo\":{\"bgcolor\":\"white\",\"lakecolor\":\"white\",\"landcolor\":\"white\",\"showlakes\":true,\"showland\":true,\"subunitcolor\":\"white\"},\"hoverlabel\":{\"align\":\"left\"},\"hovermode\":\"closest\",\"mapbox\":{\"style\":\"light\"},\"paper_bgcolor\":\"white\",\"plot_bgcolor\":\"white\",\"polar\":{\"angularaxis\":{\"gridcolor\":\"rgb(232,232,232)\",\"linecolor\":\"rgb(36,36,36)\",\"showgrid\":false,\"showline\":true,\"ticks\":\"outside\"},\"bgcolor\":\"white\",\"radialaxis\":{\"gridcolor\":\"rgb(232,232,232)\",\"linecolor\":\"rgb(36,36,36)\",\"showgrid\":false,\"showline\":true,\"ticks\":\"outside\"}},\"scene\":{\"xaxis\":{\"backgroundcolor\":\"white\",\"gridcolor\":\"rgb(232,232,232)\",\"gridwidth\":2,\"linecolor\":\"rgb(36,36,36)\",\"showbackground\":true,\"showgrid\":false,\"showline\":true,\"ticks\":\"outside\",\"zeroline\":false,\"zerolinecolor\":\"rgb(36,36,36)\"},\"yaxis\":{\"backgroundcolor\":\"white\",\"gridcolor\":\"rgb(232,232,232)\",\"gridwidth\":2,\"linecolor\":\"rgb(36,36,36)\",\"showbackground\":true,\"showgrid\":false,\"showline\":true,\"ticks\":\"outside\",\"zeroline\":false,\"zerolinecolor\":\"rgb(36,36,36)\"},\"zaxis\":{\"backgroundcolor\":\"white\",\"gridcolor\":\"rgb(232,232,232)\",\"gridwidth\":2,\"linecolor\":\"rgb(36,36,36)\",\"showbackground\":true,\"showgrid\":false,\"showline\":true,\"ticks\":\"outside\",\"zeroline\":false,\"zerolinecolor\":\"rgb(36,36,36)\"}},\"shapedefaults\":{\"fillcolor\":\"black\",\"line\":{\"width\":0},\"opacity\":0.3},\"ternary\":{\"aaxis\":{\"gridcolor\":\"rgb(232,232,232)\",\"linecolor\":\"rgb(36,36,36)\",\"showgrid\":false,\"showline\":true,\"ticks\":\"outside\"},\"baxis\":{\"gridcolor\":\"rgb(232,232,232)\",\"linecolor\":\"rgb(36,36,36)\",\"showgrid\":false,\"showline\":true,\"ticks\":\"outside\"},\"bgcolor\":\"white\",\"caxis\":{\"gridcolor\":\"rgb(232,232,232)\",\"linecolor\":\"rgb(36,36,36)\",\"showgrid\":false,\"showline\":true,\"ticks\":\"outside\"}},\"title\":{\"x\":0.05},\"xaxis\":{\"automargin\":true,\"gridcolor\":\"rgb(232,232,232)\",\"linecolor\":\"rgb(36,36,36)\",\"showgrid\":false,\"showline\":true,\"ticks\":\"outside\",\"title\":{\"standoff\":15},\"zeroline\":false,\"zerolinecolor\":\"rgb(36,36,36)\"},\"yaxis\":{\"automargin\":true,\"gridcolor\":\"rgb(232,232,232)\",\"linecolor\":\"rgb(36,36,36)\",\"showgrid\":false,\"showline\":true,\"ticks\":\"outside\",\"title\":{\"standoff\":15},\"zeroline\":false,\"zerolinecolor\":\"rgb(36,36,36)\"}}},\"xaxis\":{\"anchor\":\"y\",\"domain\":[0.0,1.0],\"title\":{\"text\":\"\"},\"visible\":false,\"range\":[-5.404301166534424,25.024899578094484]},\"yaxis\":{\"anchor\":\"x\",\"domain\":[0.0,1.0],\"title\":{\"text\":\"\"},\"visible\":false,\"range\":[-5.86938624382019,21.225842571258546]},\"legend\":{\"tracegroupgap\":0,\"itemsizing\":\"constant\"},\"margin\":{\"t\":60},\"title\":{\"font\":{\"size\":22,\"color\":\"Black\"},\"text\":\"<b>Intertopic Distance Map\",\"y\":0.95,\"x\":0.5,\"xanchor\":\"center\",\"yanchor\":\"top\"},\"hoverlabel\":{\"font\":{\"size\":16,\"family\":\"Rockwell\"},\"bgcolor\":\"white\"},\"width\":800,\"height\":800,\"sliders\":[{\"active\":0,\"pad\":{\"t\":50},\"steps\":[{\"args\":[{\"marker.color\":[[\"red\",\"#B0BEC5\",\"#B0BEC5\",\"#B0BEC5\",\"#B0BEC5\",\"#B0BEC5\",\"#B0BEC5\",\"#B0BEC5\",\"#B0BEC5\",\"#B0BEC5\",\"#B0BEC5\",\"#B0BEC5\",\"#B0BEC5\",\"#B0BEC5\",\"#B0BEC5\",\"#B0BEC5\",\"#B0BEC5\",\"#B0BEC5\",\"#B0BEC5\",\"#B0BEC5\",\"#B0BEC5\",\"#B0BEC5\",\"#B0BEC5\",\"#B0BEC5\",\"#B0BEC5\",\"#B0BEC5\",\"#B0BEC5\",\"#B0BEC5\",\"#B0BEC5\",\"#B0BEC5\",\"#B0BEC5\",\"#B0BEC5\",\"#B0BEC5\",\"#B0BEC5\",\"#B0BEC5\",\"#B0BEC5\",\"#B0BEC5\",\"#B0BEC5\",\"#B0BEC5\",\"#B0BEC5\",\"#B0BEC5\",\"#B0BEC5\",\"#B0BEC5\",\"#B0BEC5\",\"#B0BEC5\",\"#B0BEC5\",\"#B0BEC5\",\"#B0BEC5\",\"#B0BEC5\",\"#B0BEC5\",\"#B0BEC5\",\"#B0BEC5\",\"#B0BEC5\",\"#B0BEC5\",\"#B0BEC5\",\"#B0BEC5\",\"#B0BEC5\",\"#B0BEC5\",\"#B0BEC5\",\"#B0BEC5\",\"#B0BEC5\",\"#B0BEC5\",\"#B0BEC5\",\"#B0BEC5\",\"#B0BEC5\",\"#B0BEC5\",\"#B0BEC5\",\"#B0BEC5\",\"#B0BEC5\",\"#B0BEC5\",\"#B0BEC5\",\"#B0BEC5\",\"#B0BEC5\",\"#B0BEC5\",\"#B0BEC5\",\"#B0BEC5\",\"#B0BEC5\",\"#B0BEC5\",\"#B0BEC5\",\"#B0BEC5\",\"#B0BEC5\",\"#B0BEC5\",\"#B0BEC5\"]]}],\"label\":\"Topic 0\",\"method\":\"update\"},{\"args\":[{\"marker.color\":[[\"#B0BEC5\",\"red\",\"#B0BEC5\",\"#B0BEC5\",\"#B0BEC5\",\"#B0BEC5\",\"#B0BEC5\",\"#B0BEC5\",\"#B0BEC5\",\"#B0BEC5\",\"#B0BEC5\",\"#B0BEC5\",\"#B0BEC5\",\"#B0BEC5\",\"#B0BEC5\",\"#B0BEC5\",\"#B0BEC5\",\"#B0BEC5\",\"#B0BEC5\",\"#B0BEC5\",\"#B0BEC5\",\"#B0BEC5\",\"#B0BEC5\",\"#B0BEC5\",\"#B0BEC5\",\"#B0BEC5\",\"#B0BEC5\",\"#B0BEC5\",\"#B0BEC5\",\"#B0BEC5\",\"#B0BEC5\",\"#B0BEC5\",\"#B0BEC5\",\"#B0BEC5\",\"#B0BEC5\",\"#B0BEC5\",\"#B0BEC5\",\"#B0BEC5\",\"#B0BEC5\",\"#B0BEC5\",\"#B0BEC5\",\"#B0BEC5\",\"#B0BEC5\",\"#B0BEC5\",\"#B0BEC5\",\"#B0BEC5\",\"#B0BEC5\",\"#B0BEC5\",\"#B0BEC5\",\"#B0BEC5\",\"#B0BEC5\",\"#B0BEC5\",\"#B0BEC5\",\"#B0BEC5\",\"#B0BEC5\",\"#B0BEC5\",\"#B0BEC5\",\"#B0BEC5\",\"#B0BEC5\",\"#B0BEC5\",\"#B0BEC5\",\"#B0BEC5\",\"#B0BEC5\",\"#B0BEC5\",\"#B0BEC5\",\"#B0BEC5\",\"#B0BEC5\",\"#B0BEC5\",\"#B0BEC5\",\"#B0BEC5\",\"#B0BEC5\",\"#B0BEC5\",\"#B0BEC5\",\"#B0BEC5\",\"#B0BEC5\",\"#B0BEC5\",\"#B0BEC5\",\"#B0BEC5\",\"#B0BEC5\",\"#B0BEC5\",\"#B0BEC5\",\"#B0BEC5\",\"#B0BEC5\"]]}],\"label\":\"Topic 1\",\"method\":\"update\"},{\"args\":[{\"marker.color\":[[\"#B0BEC5\",\"#B0BEC5\",\"red\",\"#B0BEC5\",\"#B0BEC5\",\"#B0BEC5\",\"#B0BEC5\",\"#B0BEC5\",\"#B0BEC5\",\"#B0BEC5\",\"#B0BEC5\",\"#B0BEC5\",\"#B0BEC5\",\"#B0BEC5\",\"#B0BEC5\",\"#B0BEC5\",\"#B0BEC5\",\"#B0BEC5\",\"#B0BEC5\",\"#B0BEC5\",\"#B0BEC5\",\"#B0BEC5\",\"#B0BEC5\",\"#B0BEC5\",\"#B0BEC5\",\"#B0BEC5\",\"#B0BEC5\",\"#B0BEC5\",\"#B0BEC5\",\"#B0BEC5\",\"#B0BEC5\",\"#B0BEC5\",\"#B0BEC5\",\"#B0BEC5\",\"#B0BEC5\",\"#B0BEC5\",\"#B0BEC5\",\"#B0BEC5\",\"#B0BEC5\",\"#B0BEC5\",\"#B0BEC5\",\"#B0BEC5\",\"#B0BEC5\",\"#B0BEC5\",\"#B0BEC5\",\"#B0BEC5\",\"#B0BEC5\",\"#B0BEC5\",\"#B0BEC5\",\"#B0BEC5\",\"#B0BEC5\",\"#B0BEC5\",\"#B0BEC5\",\"#B0BEC5\",\"#B0BEC5\",\"#B0BEC5\",\"#B0BEC5\",\"#B0BEC5\",\"#B0BEC5\",\"#B0BEC5\",\"#B0BEC5\",\"#B0BEC5\",\"#B0BEC5\",\"#B0BEC5\",\"#B0BEC5\",\"#B0BEC5\",\"#B0BEC5\",\"#B0BEC5\",\"#B0BEC5\",\"#B0BEC5\",\"#B0BEC5\",\"#B0BEC5\",\"#B0BEC5\",\"#B0BEC5\",\"#B0BEC5\",\"#B0BEC5\",\"#B0BEC5\",\"#B0BEC5\",\"#B0BEC5\",\"#B0BEC5\",\"#B0BEC5\",\"#B0BEC5\",\"#B0BEC5\"]]}],\"label\":\"Topic 2\",\"method\":\"update\"},{\"args\":[{\"marker.color\":[[\"#B0BEC5\",\"#B0BEC5\",\"#B0BEC5\",\"red\",\"#B0BEC5\",\"#B0BEC5\",\"#B0BEC5\",\"#B0BEC5\",\"#B0BEC5\",\"#B0BEC5\",\"#B0BEC5\",\"#B0BEC5\",\"#B0BEC5\",\"#B0BEC5\",\"#B0BEC5\",\"#B0BEC5\",\"#B0BEC5\",\"#B0BEC5\",\"#B0BEC5\",\"#B0BEC5\",\"#B0BEC5\",\"#B0BEC5\",\"#B0BEC5\",\"#B0BEC5\",\"#B0BEC5\",\"#B0BEC5\",\"#B0BEC5\",\"#B0BEC5\",\"#B0BEC5\",\"#B0BEC5\",\"#B0BEC5\",\"#B0BEC5\",\"#B0BEC5\",\"#B0BEC5\",\"#B0BEC5\",\"#B0BEC5\",\"#B0BEC5\",\"#B0BEC5\",\"#B0BEC5\",\"#B0BEC5\",\"#B0BEC5\",\"#B0BEC5\",\"#B0BEC5\",\"#B0BEC5\",\"#B0BEC5\",\"#B0BEC5\",\"#B0BEC5\",\"#B0BEC5\",\"#B0BEC5\",\"#B0BEC5\",\"#B0BEC5\",\"#B0BEC5\",\"#B0BEC5\",\"#B0BEC5\",\"#B0BEC5\",\"#B0BEC5\",\"#B0BEC5\",\"#B0BEC5\",\"#B0BEC5\",\"#B0BEC5\",\"#B0BEC5\",\"#B0BEC5\",\"#B0BEC5\",\"#B0BEC5\",\"#B0BEC5\",\"#B0BEC5\",\"#B0BEC5\",\"#B0BEC5\",\"#B0BEC5\",\"#B0BEC5\",\"#B0BEC5\",\"#B0BEC5\",\"#B0BEC5\",\"#B0BEC5\",\"#B0BEC5\",\"#B0BEC5\",\"#B0BEC5\",\"#B0BEC5\",\"#B0BEC5\",\"#B0BEC5\",\"#B0BEC5\",\"#B0BEC5\",\"#B0BEC5\"]]}],\"label\":\"Topic 3\",\"method\":\"update\"},{\"args\":[{\"marker.color\":[[\"#B0BEC5\",\"#B0BEC5\",\"#B0BEC5\",\"#B0BEC5\",\"red\",\"#B0BEC5\",\"#B0BEC5\",\"#B0BEC5\",\"#B0BEC5\",\"#B0BEC5\",\"#B0BEC5\",\"#B0BEC5\",\"#B0BEC5\",\"#B0BEC5\",\"#B0BEC5\",\"#B0BEC5\",\"#B0BEC5\",\"#B0BEC5\",\"#B0BEC5\",\"#B0BEC5\",\"#B0BEC5\",\"#B0BEC5\",\"#B0BEC5\",\"#B0BEC5\",\"#B0BEC5\",\"#B0BEC5\",\"#B0BEC5\",\"#B0BEC5\",\"#B0BEC5\",\"#B0BEC5\",\"#B0BEC5\",\"#B0BEC5\",\"#B0BEC5\",\"#B0BEC5\",\"#B0BEC5\",\"#B0BEC5\",\"#B0BEC5\",\"#B0BEC5\",\"#B0BEC5\",\"#B0BEC5\",\"#B0BEC5\",\"#B0BEC5\",\"#B0BEC5\",\"#B0BEC5\",\"#B0BEC5\",\"#B0BEC5\",\"#B0BEC5\",\"#B0BEC5\",\"#B0BEC5\",\"#B0BEC5\",\"#B0BEC5\",\"#B0BEC5\",\"#B0BEC5\",\"#B0BEC5\",\"#B0BEC5\",\"#B0BEC5\",\"#B0BEC5\",\"#B0BEC5\",\"#B0BEC5\",\"#B0BEC5\",\"#B0BEC5\",\"#B0BEC5\",\"#B0BEC5\",\"#B0BEC5\",\"#B0BEC5\",\"#B0BEC5\",\"#B0BEC5\",\"#B0BEC5\",\"#B0BEC5\",\"#B0BEC5\",\"#B0BEC5\",\"#B0BEC5\",\"#B0BEC5\",\"#B0BEC5\",\"#B0BEC5\",\"#B0BEC5\",\"#B0BEC5\",\"#B0BEC5\",\"#B0BEC5\",\"#B0BEC5\",\"#B0BEC5\",\"#B0BEC5\",\"#B0BEC5\"]]}],\"label\":\"Topic 4\",\"method\":\"update\"},{\"args\":[{\"marker.color\":[[\"#B0BEC5\",\"#B0BEC5\",\"#B0BEC5\",\"#B0BEC5\",\"#B0BEC5\",\"red\",\"#B0BEC5\",\"#B0BEC5\",\"#B0BEC5\",\"#B0BEC5\",\"#B0BEC5\",\"#B0BEC5\",\"#B0BEC5\",\"#B0BEC5\",\"#B0BEC5\",\"#B0BEC5\",\"#B0BEC5\",\"#B0BEC5\",\"#B0BEC5\",\"#B0BEC5\",\"#B0BEC5\",\"#B0BEC5\",\"#B0BEC5\",\"#B0BEC5\",\"#B0BEC5\",\"#B0BEC5\",\"#B0BEC5\",\"#B0BEC5\",\"#B0BEC5\",\"#B0BEC5\",\"#B0BEC5\",\"#B0BEC5\",\"#B0BEC5\",\"#B0BEC5\",\"#B0BEC5\",\"#B0BEC5\",\"#B0BEC5\",\"#B0BEC5\",\"#B0BEC5\",\"#B0BEC5\",\"#B0BEC5\",\"#B0BEC5\",\"#B0BEC5\",\"#B0BEC5\",\"#B0BEC5\",\"#B0BEC5\",\"#B0BEC5\",\"#B0BEC5\",\"#B0BEC5\",\"#B0BEC5\",\"#B0BEC5\",\"#B0BEC5\",\"#B0BEC5\",\"#B0BEC5\",\"#B0BEC5\",\"#B0BEC5\",\"#B0BEC5\",\"#B0BEC5\",\"#B0BEC5\",\"#B0BEC5\",\"#B0BEC5\",\"#B0BEC5\",\"#B0BEC5\",\"#B0BEC5\",\"#B0BEC5\",\"#B0BEC5\",\"#B0BEC5\",\"#B0BEC5\",\"#B0BEC5\",\"#B0BEC5\",\"#B0BEC5\",\"#B0BEC5\",\"#B0BEC5\",\"#B0BEC5\",\"#B0BEC5\",\"#B0BEC5\",\"#B0BEC5\",\"#B0BEC5\",\"#B0BEC5\",\"#B0BEC5\",\"#B0BEC5\",\"#B0BEC5\",\"#B0BEC5\"]]}],\"label\":\"Topic 5\",\"method\":\"update\"},{\"args\":[{\"marker.color\":[[\"#B0BEC5\",\"#B0BEC5\",\"#B0BEC5\",\"#B0BEC5\",\"#B0BEC5\",\"#B0BEC5\",\"red\",\"#B0BEC5\",\"#B0BEC5\",\"#B0BEC5\",\"#B0BEC5\",\"#B0BEC5\",\"#B0BEC5\",\"#B0BEC5\",\"#B0BEC5\",\"#B0BEC5\",\"#B0BEC5\",\"#B0BEC5\",\"#B0BEC5\",\"#B0BEC5\",\"#B0BEC5\",\"#B0BEC5\",\"#B0BEC5\",\"#B0BEC5\",\"#B0BEC5\",\"#B0BEC5\",\"#B0BEC5\",\"#B0BEC5\",\"#B0BEC5\",\"#B0BEC5\",\"#B0BEC5\",\"#B0BEC5\",\"#B0BEC5\",\"#B0BEC5\",\"#B0BEC5\",\"#B0BEC5\",\"#B0BEC5\",\"#B0BEC5\",\"#B0BEC5\",\"#B0BEC5\",\"#B0BEC5\",\"#B0BEC5\",\"#B0BEC5\",\"#B0BEC5\",\"#B0BEC5\",\"#B0BEC5\",\"#B0BEC5\",\"#B0BEC5\",\"#B0BEC5\",\"#B0BEC5\",\"#B0BEC5\",\"#B0BEC5\",\"#B0BEC5\",\"#B0BEC5\",\"#B0BEC5\",\"#B0BEC5\",\"#B0BEC5\",\"#B0BEC5\",\"#B0BEC5\",\"#B0BEC5\",\"#B0BEC5\",\"#B0BEC5\",\"#B0BEC5\",\"#B0BEC5\",\"#B0BEC5\",\"#B0BEC5\",\"#B0BEC5\",\"#B0BEC5\",\"#B0BEC5\",\"#B0BEC5\",\"#B0BEC5\",\"#B0BEC5\",\"#B0BEC5\",\"#B0BEC5\",\"#B0BEC5\",\"#B0BEC5\",\"#B0BEC5\",\"#B0BEC5\",\"#B0BEC5\",\"#B0BEC5\",\"#B0BEC5\",\"#B0BEC5\",\"#B0BEC5\"]]}],\"label\":\"Topic 6\",\"method\":\"update\"},{\"args\":[{\"marker.color\":[[\"#B0BEC5\",\"#B0BEC5\",\"#B0BEC5\",\"#B0BEC5\",\"#B0BEC5\",\"#B0BEC5\",\"#B0BEC5\",\"red\",\"#B0BEC5\",\"#B0BEC5\",\"#B0BEC5\",\"#B0BEC5\",\"#B0BEC5\",\"#B0BEC5\",\"#B0BEC5\",\"#B0BEC5\",\"#B0BEC5\",\"#B0BEC5\",\"#B0BEC5\",\"#B0BEC5\",\"#B0BEC5\",\"#B0BEC5\",\"#B0BEC5\",\"#B0BEC5\",\"#B0BEC5\",\"#B0BEC5\",\"#B0BEC5\",\"#B0BEC5\",\"#B0BEC5\",\"#B0BEC5\",\"#B0BEC5\",\"#B0BEC5\",\"#B0BEC5\",\"#B0BEC5\",\"#B0BEC5\",\"#B0BEC5\",\"#B0BEC5\",\"#B0BEC5\",\"#B0BEC5\",\"#B0BEC5\",\"#B0BEC5\",\"#B0BEC5\",\"#B0BEC5\",\"#B0BEC5\",\"#B0BEC5\",\"#B0BEC5\",\"#B0BEC5\",\"#B0BEC5\",\"#B0BEC5\",\"#B0BEC5\",\"#B0BEC5\",\"#B0BEC5\",\"#B0BEC5\",\"#B0BEC5\",\"#B0BEC5\",\"#B0BEC5\",\"#B0BEC5\",\"#B0BEC5\",\"#B0BEC5\",\"#B0BEC5\",\"#B0BEC5\",\"#B0BEC5\",\"#B0BEC5\",\"#B0BEC5\",\"#B0BEC5\",\"#B0BEC5\",\"#B0BEC5\",\"#B0BEC5\",\"#B0BEC5\",\"#B0BEC5\",\"#B0BEC5\",\"#B0BEC5\",\"#B0BEC5\",\"#B0BEC5\",\"#B0BEC5\",\"#B0BEC5\",\"#B0BEC5\",\"#B0BEC5\",\"#B0BEC5\",\"#B0BEC5\",\"#B0BEC5\",\"#B0BEC5\",\"#B0BEC5\"]]}],\"label\":\"Topic 7\",\"method\":\"update\"},{\"args\":[{\"marker.color\":[[\"#B0BEC5\",\"#B0BEC5\",\"#B0BEC5\",\"#B0BEC5\",\"#B0BEC5\",\"#B0BEC5\",\"#B0BEC5\",\"#B0BEC5\",\"red\",\"#B0BEC5\",\"#B0BEC5\",\"#B0BEC5\",\"#B0BEC5\",\"#B0BEC5\",\"#B0BEC5\",\"#B0BEC5\",\"#B0BEC5\",\"#B0BEC5\",\"#B0BEC5\",\"#B0BEC5\",\"#B0BEC5\",\"#B0BEC5\",\"#B0BEC5\",\"#B0BEC5\",\"#B0BEC5\",\"#B0BEC5\",\"#B0BEC5\",\"#B0BEC5\",\"#B0BEC5\",\"#B0BEC5\",\"#B0BEC5\",\"#B0BEC5\",\"#B0BEC5\",\"#B0BEC5\",\"#B0BEC5\",\"#B0BEC5\",\"#B0BEC5\",\"#B0BEC5\",\"#B0BEC5\",\"#B0BEC5\",\"#B0BEC5\",\"#B0BEC5\",\"#B0BEC5\",\"#B0BEC5\",\"#B0BEC5\",\"#B0BEC5\",\"#B0BEC5\",\"#B0BEC5\",\"#B0BEC5\",\"#B0BEC5\",\"#B0BEC5\",\"#B0BEC5\",\"#B0BEC5\",\"#B0BEC5\",\"#B0BEC5\",\"#B0BEC5\",\"#B0BEC5\",\"#B0BEC5\",\"#B0BEC5\",\"#B0BEC5\",\"#B0BEC5\",\"#B0BEC5\",\"#B0BEC5\",\"#B0BEC5\",\"#B0BEC5\",\"#B0BEC5\",\"#B0BEC5\",\"#B0BEC5\",\"#B0BEC5\",\"#B0BEC5\",\"#B0BEC5\",\"#B0BEC5\",\"#B0BEC5\",\"#B0BEC5\",\"#B0BEC5\",\"#B0BEC5\",\"#B0BEC5\",\"#B0BEC5\",\"#B0BEC5\",\"#B0BEC5\",\"#B0BEC5\",\"#B0BEC5\",\"#B0BEC5\"]]}],\"label\":\"Topic 8\",\"method\":\"update\"},{\"args\":[{\"marker.color\":[[\"#B0BEC5\",\"#B0BEC5\",\"#B0BEC5\",\"#B0BEC5\",\"#B0BEC5\",\"#B0BEC5\",\"#B0BEC5\",\"#B0BEC5\",\"#B0BEC5\",\"red\",\"#B0BEC5\",\"#B0BEC5\",\"#B0BEC5\",\"#B0BEC5\",\"#B0BEC5\",\"#B0BEC5\",\"#B0BEC5\",\"#B0BEC5\",\"#B0BEC5\",\"#B0BEC5\",\"#B0BEC5\",\"#B0BEC5\",\"#B0BEC5\",\"#B0BEC5\",\"#B0BEC5\",\"#B0BEC5\",\"#B0BEC5\",\"#B0BEC5\",\"#B0BEC5\",\"#B0BEC5\",\"#B0BEC5\",\"#B0BEC5\",\"#B0BEC5\",\"#B0BEC5\",\"#B0BEC5\",\"#B0BEC5\",\"#B0BEC5\",\"#B0BEC5\",\"#B0BEC5\",\"#B0BEC5\",\"#B0BEC5\",\"#B0BEC5\",\"#B0BEC5\",\"#B0BEC5\",\"#B0BEC5\",\"#B0BEC5\",\"#B0BEC5\",\"#B0BEC5\",\"#B0BEC5\",\"#B0BEC5\",\"#B0BEC5\",\"#B0BEC5\",\"#B0BEC5\",\"#B0BEC5\",\"#B0BEC5\",\"#B0BEC5\",\"#B0BEC5\",\"#B0BEC5\",\"#B0BEC5\",\"#B0BEC5\",\"#B0BEC5\",\"#B0BEC5\",\"#B0BEC5\",\"#B0BEC5\",\"#B0BEC5\",\"#B0BEC5\",\"#B0BEC5\",\"#B0BEC5\",\"#B0BEC5\",\"#B0BEC5\",\"#B0BEC5\",\"#B0BEC5\",\"#B0BEC5\",\"#B0BEC5\",\"#B0BEC5\",\"#B0BEC5\",\"#B0BEC5\",\"#B0BEC5\",\"#B0BEC5\",\"#B0BEC5\",\"#B0BEC5\",\"#B0BEC5\",\"#B0BEC5\"]]}],\"label\":\"Topic 9\",\"method\":\"update\"},{\"args\":[{\"marker.color\":[[\"#B0BEC5\",\"#B0BEC5\",\"#B0BEC5\",\"#B0BEC5\",\"#B0BEC5\",\"#B0BEC5\",\"#B0BEC5\",\"#B0BEC5\",\"#B0BEC5\",\"#B0BEC5\",\"red\",\"#B0BEC5\",\"#B0BEC5\",\"#B0BEC5\",\"#B0BEC5\",\"#B0BEC5\",\"#B0BEC5\",\"#B0BEC5\",\"#B0BEC5\",\"#B0BEC5\",\"#B0BEC5\",\"#B0BEC5\",\"#B0BEC5\",\"#B0BEC5\",\"#B0BEC5\",\"#B0BEC5\",\"#B0BEC5\",\"#B0BEC5\",\"#B0BEC5\",\"#B0BEC5\",\"#B0BEC5\",\"#B0BEC5\",\"#B0BEC5\",\"#B0BEC5\",\"#B0BEC5\",\"#B0BEC5\",\"#B0BEC5\",\"#B0BEC5\",\"#B0BEC5\",\"#B0BEC5\",\"#B0BEC5\",\"#B0BEC5\",\"#B0BEC5\",\"#B0BEC5\",\"#B0BEC5\",\"#B0BEC5\",\"#B0BEC5\",\"#B0BEC5\",\"#B0BEC5\",\"#B0BEC5\",\"#B0BEC5\",\"#B0BEC5\",\"#B0BEC5\",\"#B0BEC5\",\"#B0BEC5\",\"#B0BEC5\",\"#B0BEC5\",\"#B0BEC5\",\"#B0BEC5\",\"#B0BEC5\",\"#B0BEC5\",\"#B0BEC5\",\"#B0BEC5\",\"#B0BEC5\",\"#B0BEC5\",\"#B0BEC5\",\"#B0BEC5\",\"#B0BEC5\",\"#B0BEC5\",\"#B0BEC5\",\"#B0BEC5\",\"#B0BEC5\",\"#B0BEC5\",\"#B0BEC5\",\"#B0BEC5\",\"#B0BEC5\",\"#B0BEC5\",\"#B0BEC5\",\"#B0BEC5\",\"#B0BEC5\",\"#B0BEC5\",\"#B0BEC5\",\"#B0BEC5\"]]}],\"label\":\"Topic 10\",\"method\":\"update\"},{\"args\":[{\"marker.color\":[[\"#B0BEC5\",\"#B0BEC5\",\"#B0BEC5\",\"#B0BEC5\",\"#B0BEC5\",\"#B0BEC5\",\"#B0BEC5\",\"#B0BEC5\",\"#B0BEC5\",\"#B0BEC5\",\"#B0BEC5\",\"red\",\"#B0BEC5\",\"#B0BEC5\",\"#B0BEC5\",\"#B0BEC5\",\"#B0BEC5\",\"#B0BEC5\",\"#B0BEC5\",\"#B0BEC5\",\"#B0BEC5\",\"#B0BEC5\",\"#B0BEC5\",\"#B0BEC5\",\"#B0BEC5\",\"#B0BEC5\",\"#B0BEC5\",\"#B0BEC5\",\"#B0BEC5\",\"#B0BEC5\",\"#B0BEC5\",\"#B0BEC5\",\"#B0BEC5\",\"#B0BEC5\",\"#B0BEC5\",\"#B0BEC5\",\"#B0BEC5\",\"#B0BEC5\",\"#B0BEC5\",\"#B0BEC5\",\"#B0BEC5\",\"#B0BEC5\",\"#B0BEC5\",\"#B0BEC5\",\"#B0BEC5\",\"#B0BEC5\",\"#B0BEC5\",\"#B0BEC5\",\"#B0BEC5\",\"#B0BEC5\",\"#B0BEC5\",\"#B0BEC5\",\"#B0BEC5\",\"#B0BEC5\",\"#B0BEC5\",\"#B0BEC5\",\"#B0BEC5\",\"#B0BEC5\",\"#B0BEC5\",\"#B0BEC5\",\"#B0BEC5\",\"#B0BEC5\",\"#B0BEC5\",\"#B0BEC5\",\"#B0BEC5\",\"#B0BEC5\",\"#B0BEC5\",\"#B0BEC5\",\"#B0BEC5\",\"#B0BEC5\",\"#B0BEC5\",\"#B0BEC5\",\"#B0BEC5\",\"#B0BEC5\",\"#B0BEC5\",\"#B0BEC5\",\"#B0BEC5\",\"#B0BEC5\",\"#B0BEC5\",\"#B0BEC5\",\"#B0BEC5\",\"#B0BEC5\",\"#B0BEC5\"]]}],\"label\":\"Topic 11\",\"method\":\"update\"},{\"args\":[{\"marker.color\":[[\"#B0BEC5\",\"#B0BEC5\",\"#B0BEC5\",\"#B0BEC5\",\"#B0BEC5\",\"#B0BEC5\",\"#B0BEC5\",\"#B0BEC5\",\"#B0BEC5\",\"#B0BEC5\",\"#B0BEC5\",\"#B0BEC5\",\"red\",\"#B0BEC5\",\"#B0BEC5\",\"#B0BEC5\",\"#B0BEC5\",\"#B0BEC5\",\"#B0BEC5\",\"#B0BEC5\",\"#B0BEC5\",\"#B0BEC5\",\"#B0BEC5\",\"#B0BEC5\",\"#B0BEC5\",\"#B0BEC5\",\"#B0BEC5\",\"#B0BEC5\",\"#B0BEC5\",\"#B0BEC5\",\"#B0BEC5\",\"#B0BEC5\",\"#B0BEC5\",\"#B0BEC5\",\"#B0BEC5\",\"#B0BEC5\",\"#B0BEC5\",\"#B0BEC5\",\"#B0BEC5\",\"#B0BEC5\",\"#B0BEC5\",\"#B0BEC5\",\"#B0BEC5\",\"#B0BEC5\",\"#B0BEC5\",\"#B0BEC5\",\"#B0BEC5\",\"#B0BEC5\",\"#B0BEC5\",\"#B0BEC5\",\"#B0BEC5\",\"#B0BEC5\",\"#B0BEC5\",\"#B0BEC5\",\"#B0BEC5\",\"#B0BEC5\",\"#B0BEC5\",\"#B0BEC5\",\"#B0BEC5\",\"#B0BEC5\",\"#B0BEC5\",\"#B0BEC5\",\"#B0BEC5\",\"#B0BEC5\",\"#B0BEC5\",\"#B0BEC5\",\"#B0BEC5\",\"#B0BEC5\",\"#B0BEC5\",\"#B0BEC5\",\"#B0BEC5\",\"#B0BEC5\",\"#B0BEC5\",\"#B0BEC5\",\"#B0BEC5\",\"#B0BEC5\",\"#B0BEC5\",\"#B0BEC5\",\"#B0BEC5\",\"#B0BEC5\",\"#B0BEC5\",\"#B0BEC5\",\"#B0BEC5\"]]}],\"label\":\"Topic 12\",\"method\":\"update\"},{\"args\":[{\"marker.color\":[[\"#B0BEC5\",\"#B0BEC5\",\"#B0BEC5\",\"#B0BEC5\",\"#B0BEC5\",\"#B0BEC5\",\"#B0BEC5\",\"#B0BEC5\",\"#B0BEC5\",\"#B0BEC5\",\"#B0BEC5\",\"#B0BEC5\",\"#B0BEC5\",\"red\",\"#B0BEC5\",\"#B0BEC5\",\"#B0BEC5\",\"#B0BEC5\",\"#B0BEC5\",\"#B0BEC5\",\"#B0BEC5\",\"#B0BEC5\",\"#B0BEC5\",\"#B0BEC5\",\"#B0BEC5\",\"#B0BEC5\",\"#B0BEC5\",\"#B0BEC5\",\"#B0BEC5\",\"#B0BEC5\",\"#B0BEC5\",\"#B0BEC5\",\"#B0BEC5\",\"#B0BEC5\",\"#B0BEC5\",\"#B0BEC5\",\"#B0BEC5\",\"#B0BEC5\",\"#B0BEC5\",\"#B0BEC5\",\"#B0BEC5\",\"#B0BEC5\",\"#B0BEC5\",\"#B0BEC5\",\"#B0BEC5\",\"#B0BEC5\",\"#B0BEC5\",\"#B0BEC5\",\"#B0BEC5\",\"#B0BEC5\",\"#B0BEC5\",\"#B0BEC5\",\"#B0BEC5\",\"#B0BEC5\",\"#B0BEC5\",\"#B0BEC5\",\"#B0BEC5\",\"#B0BEC5\",\"#B0BEC5\",\"#B0BEC5\",\"#B0BEC5\",\"#B0BEC5\",\"#B0BEC5\",\"#B0BEC5\",\"#B0BEC5\",\"#B0BEC5\",\"#B0BEC5\",\"#B0BEC5\",\"#B0BEC5\",\"#B0BEC5\",\"#B0BEC5\",\"#B0BEC5\",\"#B0BEC5\",\"#B0BEC5\",\"#B0BEC5\",\"#B0BEC5\",\"#B0BEC5\",\"#B0BEC5\",\"#B0BEC5\",\"#B0BEC5\",\"#B0BEC5\",\"#B0BEC5\",\"#B0BEC5\"]]}],\"label\":\"Topic 13\",\"method\":\"update\"},{\"args\":[{\"marker.color\":[[\"#B0BEC5\",\"#B0BEC5\",\"#B0BEC5\",\"#B0BEC5\",\"#B0BEC5\",\"#B0BEC5\",\"#B0BEC5\",\"#B0BEC5\",\"#B0BEC5\",\"#B0BEC5\",\"#B0BEC5\",\"#B0BEC5\",\"#B0BEC5\",\"#B0BEC5\",\"red\",\"#B0BEC5\",\"#B0BEC5\",\"#B0BEC5\",\"#B0BEC5\",\"#B0BEC5\",\"#B0BEC5\",\"#B0BEC5\",\"#B0BEC5\",\"#B0BEC5\",\"#B0BEC5\",\"#B0BEC5\",\"#B0BEC5\",\"#B0BEC5\",\"#B0BEC5\",\"#B0BEC5\",\"#B0BEC5\",\"#B0BEC5\",\"#B0BEC5\",\"#B0BEC5\",\"#B0BEC5\",\"#B0BEC5\",\"#B0BEC5\",\"#B0BEC5\",\"#B0BEC5\",\"#B0BEC5\",\"#B0BEC5\",\"#B0BEC5\",\"#B0BEC5\",\"#B0BEC5\",\"#B0BEC5\",\"#B0BEC5\",\"#B0BEC5\",\"#B0BEC5\",\"#B0BEC5\",\"#B0BEC5\",\"#B0BEC5\",\"#B0BEC5\",\"#B0BEC5\",\"#B0BEC5\",\"#B0BEC5\",\"#B0BEC5\",\"#B0BEC5\",\"#B0BEC5\",\"#B0BEC5\",\"#B0BEC5\",\"#B0BEC5\",\"#B0BEC5\",\"#B0BEC5\",\"#B0BEC5\",\"#B0BEC5\",\"#B0BEC5\",\"#B0BEC5\",\"#B0BEC5\",\"#B0BEC5\",\"#B0BEC5\",\"#B0BEC5\",\"#B0BEC5\",\"#B0BEC5\",\"#B0BEC5\",\"#B0BEC5\",\"#B0BEC5\",\"#B0BEC5\",\"#B0BEC5\",\"#B0BEC5\",\"#B0BEC5\",\"#B0BEC5\",\"#B0BEC5\",\"#B0BEC5\"]]}],\"label\":\"Topic 14\",\"method\":\"update\"},{\"args\":[{\"marker.color\":[[\"#B0BEC5\",\"#B0BEC5\",\"#B0BEC5\",\"#B0BEC5\",\"#B0BEC5\",\"#B0BEC5\",\"#B0BEC5\",\"#B0BEC5\",\"#B0BEC5\",\"#B0BEC5\",\"#B0BEC5\",\"#B0BEC5\",\"#B0BEC5\",\"#B0BEC5\",\"#B0BEC5\",\"red\",\"#B0BEC5\",\"#B0BEC5\",\"#B0BEC5\",\"#B0BEC5\",\"#B0BEC5\",\"#B0BEC5\",\"#B0BEC5\",\"#B0BEC5\",\"#B0BEC5\",\"#B0BEC5\",\"#B0BEC5\",\"#B0BEC5\",\"#B0BEC5\",\"#B0BEC5\",\"#B0BEC5\",\"#B0BEC5\",\"#B0BEC5\",\"#B0BEC5\",\"#B0BEC5\",\"#B0BEC5\",\"#B0BEC5\",\"#B0BEC5\",\"#B0BEC5\",\"#B0BEC5\",\"#B0BEC5\",\"#B0BEC5\",\"#B0BEC5\",\"#B0BEC5\",\"#B0BEC5\",\"#B0BEC5\",\"#B0BEC5\",\"#B0BEC5\",\"#B0BEC5\",\"#B0BEC5\",\"#B0BEC5\",\"#B0BEC5\",\"#B0BEC5\",\"#B0BEC5\",\"#B0BEC5\",\"#B0BEC5\",\"#B0BEC5\",\"#B0BEC5\",\"#B0BEC5\",\"#B0BEC5\",\"#B0BEC5\",\"#B0BEC5\",\"#B0BEC5\",\"#B0BEC5\",\"#B0BEC5\",\"#B0BEC5\",\"#B0BEC5\",\"#B0BEC5\",\"#B0BEC5\",\"#B0BEC5\",\"#B0BEC5\",\"#B0BEC5\",\"#B0BEC5\",\"#B0BEC5\",\"#B0BEC5\",\"#B0BEC5\",\"#B0BEC5\",\"#B0BEC5\",\"#B0BEC5\",\"#B0BEC5\",\"#B0BEC5\",\"#B0BEC5\",\"#B0BEC5\"]]}],\"label\":\"Topic 15\",\"method\":\"update\"},{\"args\":[{\"marker.color\":[[\"#B0BEC5\",\"#B0BEC5\",\"#B0BEC5\",\"#B0BEC5\",\"#B0BEC5\",\"#B0BEC5\",\"#B0BEC5\",\"#B0BEC5\",\"#B0BEC5\",\"#B0BEC5\",\"#B0BEC5\",\"#B0BEC5\",\"#B0BEC5\",\"#B0BEC5\",\"#B0BEC5\",\"#B0BEC5\",\"red\",\"#B0BEC5\",\"#B0BEC5\",\"#B0BEC5\",\"#B0BEC5\",\"#B0BEC5\",\"#B0BEC5\",\"#B0BEC5\",\"#B0BEC5\",\"#B0BEC5\",\"#B0BEC5\",\"#B0BEC5\",\"#B0BEC5\",\"#B0BEC5\",\"#B0BEC5\",\"#B0BEC5\",\"#B0BEC5\",\"#B0BEC5\",\"#B0BEC5\",\"#B0BEC5\",\"#B0BEC5\",\"#B0BEC5\",\"#B0BEC5\",\"#B0BEC5\",\"#B0BEC5\",\"#B0BEC5\",\"#B0BEC5\",\"#B0BEC5\",\"#B0BEC5\",\"#B0BEC5\",\"#B0BEC5\",\"#B0BEC5\",\"#B0BEC5\",\"#B0BEC5\",\"#B0BEC5\",\"#B0BEC5\",\"#B0BEC5\",\"#B0BEC5\",\"#B0BEC5\",\"#B0BEC5\",\"#B0BEC5\",\"#B0BEC5\",\"#B0BEC5\",\"#B0BEC5\",\"#B0BEC5\",\"#B0BEC5\",\"#B0BEC5\",\"#B0BEC5\",\"#B0BEC5\",\"#B0BEC5\",\"#B0BEC5\",\"#B0BEC5\",\"#B0BEC5\",\"#B0BEC5\",\"#B0BEC5\",\"#B0BEC5\",\"#B0BEC5\",\"#B0BEC5\",\"#B0BEC5\",\"#B0BEC5\",\"#B0BEC5\",\"#B0BEC5\",\"#B0BEC5\",\"#B0BEC5\",\"#B0BEC5\",\"#B0BEC5\",\"#B0BEC5\"]]}],\"label\":\"Topic 16\",\"method\":\"update\"},{\"args\":[{\"marker.color\":[[\"#B0BEC5\",\"#B0BEC5\",\"#B0BEC5\",\"#B0BEC5\",\"#B0BEC5\",\"#B0BEC5\",\"#B0BEC5\",\"#B0BEC5\",\"#B0BEC5\",\"#B0BEC5\",\"#B0BEC5\",\"#B0BEC5\",\"#B0BEC5\",\"#B0BEC5\",\"#B0BEC5\",\"#B0BEC5\",\"#B0BEC5\",\"red\",\"#B0BEC5\",\"#B0BEC5\",\"#B0BEC5\",\"#B0BEC5\",\"#B0BEC5\",\"#B0BEC5\",\"#B0BEC5\",\"#B0BEC5\",\"#B0BEC5\",\"#B0BEC5\",\"#B0BEC5\",\"#B0BEC5\",\"#B0BEC5\",\"#B0BEC5\",\"#B0BEC5\",\"#B0BEC5\",\"#B0BEC5\",\"#B0BEC5\",\"#B0BEC5\",\"#B0BEC5\",\"#B0BEC5\",\"#B0BEC5\",\"#B0BEC5\",\"#B0BEC5\",\"#B0BEC5\",\"#B0BEC5\",\"#B0BEC5\",\"#B0BEC5\",\"#B0BEC5\",\"#B0BEC5\",\"#B0BEC5\",\"#B0BEC5\",\"#B0BEC5\",\"#B0BEC5\",\"#B0BEC5\",\"#B0BEC5\",\"#B0BEC5\",\"#B0BEC5\",\"#B0BEC5\",\"#B0BEC5\",\"#B0BEC5\",\"#B0BEC5\",\"#B0BEC5\",\"#B0BEC5\",\"#B0BEC5\",\"#B0BEC5\",\"#B0BEC5\",\"#B0BEC5\",\"#B0BEC5\",\"#B0BEC5\",\"#B0BEC5\",\"#B0BEC5\",\"#B0BEC5\",\"#B0BEC5\",\"#B0BEC5\",\"#B0BEC5\",\"#B0BEC5\",\"#B0BEC5\",\"#B0BEC5\",\"#B0BEC5\",\"#B0BEC5\",\"#B0BEC5\",\"#B0BEC5\",\"#B0BEC5\",\"#B0BEC5\"]]}],\"label\":\"Topic 17\",\"method\":\"update\"},{\"args\":[{\"marker.color\":[[\"#B0BEC5\",\"#B0BEC5\",\"#B0BEC5\",\"#B0BEC5\",\"#B0BEC5\",\"#B0BEC5\",\"#B0BEC5\",\"#B0BEC5\",\"#B0BEC5\",\"#B0BEC5\",\"#B0BEC5\",\"#B0BEC5\",\"#B0BEC5\",\"#B0BEC5\",\"#B0BEC5\",\"#B0BEC5\",\"#B0BEC5\",\"#B0BEC5\",\"red\",\"#B0BEC5\",\"#B0BEC5\",\"#B0BEC5\",\"#B0BEC5\",\"#B0BEC5\",\"#B0BEC5\",\"#B0BEC5\",\"#B0BEC5\",\"#B0BEC5\",\"#B0BEC5\",\"#B0BEC5\",\"#B0BEC5\",\"#B0BEC5\",\"#B0BEC5\",\"#B0BEC5\",\"#B0BEC5\",\"#B0BEC5\",\"#B0BEC5\",\"#B0BEC5\",\"#B0BEC5\",\"#B0BEC5\",\"#B0BEC5\",\"#B0BEC5\",\"#B0BEC5\",\"#B0BEC5\",\"#B0BEC5\",\"#B0BEC5\",\"#B0BEC5\",\"#B0BEC5\",\"#B0BEC5\",\"#B0BEC5\",\"#B0BEC5\",\"#B0BEC5\",\"#B0BEC5\",\"#B0BEC5\",\"#B0BEC5\",\"#B0BEC5\",\"#B0BEC5\",\"#B0BEC5\",\"#B0BEC5\",\"#B0BEC5\",\"#B0BEC5\",\"#B0BEC5\",\"#B0BEC5\",\"#B0BEC5\",\"#B0BEC5\",\"#B0BEC5\",\"#B0BEC5\",\"#B0BEC5\",\"#B0BEC5\",\"#B0BEC5\",\"#B0BEC5\",\"#B0BEC5\",\"#B0BEC5\",\"#B0BEC5\",\"#B0BEC5\",\"#B0BEC5\",\"#B0BEC5\",\"#B0BEC5\",\"#B0BEC5\",\"#B0BEC5\",\"#B0BEC5\",\"#B0BEC5\",\"#B0BEC5\"]]}],\"label\":\"Topic 18\",\"method\":\"update\"},{\"args\":[{\"marker.color\":[[\"#B0BEC5\",\"#B0BEC5\",\"#B0BEC5\",\"#B0BEC5\",\"#B0BEC5\",\"#B0BEC5\",\"#B0BEC5\",\"#B0BEC5\",\"#B0BEC5\",\"#B0BEC5\",\"#B0BEC5\",\"#B0BEC5\",\"#B0BEC5\",\"#B0BEC5\",\"#B0BEC5\",\"#B0BEC5\",\"#B0BEC5\",\"#B0BEC5\",\"#B0BEC5\",\"red\",\"#B0BEC5\",\"#B0BEC5\",\"#B0BEC5\",\"#B0BEC5\",\"#B0BEC5\",\"#B0BEC5\",\"#B0BEC5\",\"#B0BEC5\",\"#B0BEC5\",\"#B0BEC5\",\"#B0BEC5\",\"#B0BEC5\",\"#B0BEC5\",\"#B0BEC5\",\"#B0BEC5\",\"#B0BEC5\",\"#B0BEC5\",\"#B0BEC5\",\"#B0BEC5\",\"#B0BEC5\",\"#B0BEC5\",\"#B0BEC5\",\"#B0BEC5\",\"#B0BEC5\",\"#B0BEC5\",\"#B0BEC5\",\"#B0BEC5\",\"#B0BEC5\",\"#B0BEC5\",\"#B0BEC5\",\"#B0BEC5\",\"#B0BEC5\",\"#B0BEC5\",\"#B0BEC5\",\"#B0BEC5\",\"#B0BEC5\",\"#B0BEC5\",\"#B0BEC5\",\"#B0BEC5\",\"#B0BEC5\",\"#B0BEC5\",\"#B0BEC5\",\"#B0BEC5\",\"#B0BEC5\",\"#B0BEC5\",\"#B0BEC5\",\"#B0BEC5\",\"#B0BEC5\",\"#B0BEC5\",\"#B0BEC5\",\"#B0BEC5\",\"#B0BEC5\",\"#B0BEC5\",\"#B0BEC5\",\"#B0BEC5\",\"#B0BEC5\",\"#B0BEC5\",\"#B0BEC5\",\"#B0BEC5\",\"#B0BEC5\",\"#B0BEC5\",\"#B0BEC5\",\"#B0BEC5\"]]}],\"label\":\"Topic 19\",\"method\":\"update\"},{\"args\":[{\"marker.color\":[[\"#B0BEC5\",\"#B0BEC5\",\"#B0BEC5\",\"#B0BEC5\",\"#B0BEC5\",\"#B0BEC5\",\"#B0BEC5\",\"#B0BEC5\",\"#B0BEC5\",\"#B0BEC5\",\"#B0BEC5\",\"#B0BEC5\",\"#B0BEC5\",\"#B0BEC5\",\"#B0BEC5\",\"#B0BEC5\",\"#B0BEC5\",\"#B0BEC5\",\"#B0BEC5\",\"#B0BEC5\",\"red\",\"#B0BEC5\",\"#B0BEC5\",\"#B0BEC5\",\"#B0BEC5\",\"#B0BEC5\",\"#B0BEC5\",\"#B0BEC5\",\"#B0BEC5\",\"#B0BEC5\",\"#B0BEC5\",\"#B0BEC5\",\"#B0BEC5\",\"#B0BEC5\",\"#B0BEC5\",\"#B0BEC5\",\"#B0BEC5\",\"#B0BEC5\",\"#B0BEC5\",\"#B0BEC5\",\"#B0BEC5\",\"#B0BEC5\",\"#B0BEC5\",\"#B0BEC5\",\"#B0BEC5\",\"#B0BEC5\",\"#B0BEC5\",\"#B0BEC5\",\"#B0BEC5\",\"#B0BEC5\",\"#B0BEC5\",\"#B0BEC5\",\"#B0BEC5\",\"#B0BEC5\",\"#B0BEC5\",\"#B0BEC5\",\"#B0BEC5\",\"#B0BEC5\",\"#B0BEC5\",\"#B0BEC5\",\"#B0BEC5\",\"#B0BEC5\",\"#B0BEC5\",\"#B0BEC5\",\"#B0BEC5\",\"#B0BEC5\",\"#B0BEC5\",\"#B0BEC5\",\"#B0BEC5\",\"#B0BEC5\",\"#B0BEC5\",\"#B0BEC5\",\"#B0BEC5\",\"#B0BEC5\",\"#B0BEC5\",\"#B0BEC5\",\"#B0BEC5\",\"#B0BEC5\",\"#B0BEC5\",\"#B0BEC5\",\"#B0BEC5\",\"#B0BEC5\",\"#B0BEC5\"]]}],\"label\":\"Topic 20\",\"method\":\"update\"},{\"args\":[{\"marker.color\":[[\"#B0BEC5\",\"#B0BEC5\",\"#B0BEC5\",\"#B0BEC5\",\"#B0BEC5\",\"#B0BEC5\",\"#B0BEC5\",\"#B0BEC5\",\"#B0BEC5\",\"#B0BEC5\",\"#B0BEC5\",\"#B0BEC5\",\"#B0BEC5\",\"#B0BEC5\",\"#B0BEC5\",\"#B0BEC5\",\"#B0BEC5\",\"#B0BEC5\",\"#B0BEC5\",\"#B0BEC5\",\"#B0BEC5\",\"red\",\"#B0BEC5\",\"#B0BEC5\",\"#B0BEC5\",\"#B0BEC5\",\"#B0BEC5\",\"#B0BEC5\",\"#B0BEC5\",\"#B0BEC5\",\"#B0BEC5\",\"#B0BEC5\",\"#B0BEC5\",\"#B0BEC5\",\"#B0BEC5\",\"#B0BEC5\",\"#B0BEC5\",\"#B0BEC5\",\"#B0BEC5\",\"#B0BEC5\",\"#B0BEC5\",\"#B0BEC5\",\"#B0BEC5\",\"#B0BEC5\",\"#B0BEC5\",\"#B0BEC5\",\"#B0BEC5\",\"#B0BEC5\",\"#B0BEC5\",\"#B0BEC5\",\"#B0BEC5\",\"#B0BEC5\",\"#B0BEC5\",\"#B0BEC5\",\"#B0BEC5\",\"#B0BEC5\",\"#B0BEC5\",\"#B0BEC5\",\"#B0BEC5\",\"#B0BEC5\",\"#B0BEC5\",\"#B0BEC5\",\"#B0BEC5\",\"#B0BEC5\",\"#B0BEC5\",\"#B0BEC5\",\"#B0BEC5\",\"#B0BEC5\",\"#B0BEC5\",\"#B0BEC5\",\"#B0BEC5\",\"#B0BEC5\",\"#B0BEC5\",\"#B0BEC5\",\"#B0BEC5\",\"#B0BEC5\",\"#B0BEC5\",\"#B0BEC5\",\"#B0BEC5\",\"#B0BEC5\",\"#B0BEC5\",\"#B0BEC5\",\"#B0BEC5\"]]}],\"label\":\"Topic 21\",\"method\":\"update\"},{\"args\":[{\"marker.color\":[[\"#B0BEC5\",\"#B0BEC5\",\"#B0BEC5\",\"#B0BEC5\",\"#B0BEC5\",\"#B0BEC5\",\"#B0BEC5\",\"#B0BEC5\",\"#B0BEC5\",\"#B0BEC5\",\"#B0BEC5\",\"#B0BEC5\",\"#B0BEC5\",\"#B0BEC5\",\"#B0BEC5\",\"#B0BEC5\",\"#B0BEC5\",\"#B0BEC5\",\"#B0BEC5\",\"#B0BEC5\",\"#B0BEC5\",\"#B0BEC5\",\"red\",\"#B0BEC5\",\"#B0BEC5\",\"#B0BEC5\",\"#B0BEC5\",\"#B0BEC5\",\"#B0BEC5\",\"#B0BEC5\",\"#B0BEC5\",\"#B0BEC5\",\"#B0BEC5\",\"#B0BEC5\",\"#B0BEC5\",\"#B0BEC5\",\"#B0BEC5\",\"#B0BEC5\",\"#B0BEC5\",\"#B0BEC5\",\"#B0BEC5\",\"#B0BEC5\",\"#B0BEC5\",\"#B0BEC5\",\"#B0BEC5\",\"#B0BEC5\",\"#B0BEC5\",\"#B0BEC5\",\"#B0BEC5\",\"#B0BEC5\",\"#B0BEC5\",\"#B0BEC5\",\"#B0BEC5\",\"#B0BEC5\",\"#B0BEC5\",\"#B0BEC5\",\"#B0BEC5\",\"#B0BEC5\",\"#B0BEC5\",\"#B0BEC5\",\"#B0BEC5\",\"#B0BEC5\",\"#B0BEC5\",\"#B0BEC5\",\"#B0BEC5\",\"#B0BEC5\",\"#B0BEC5\",\"#B0BEC5\",\"#B0BEC5\",\"#B0BEC5\",\"#B0BEC5\",\"#B0BEC5\",\"#B0BEC5\",\"#B0BEC5\",\"#B0BEC5\",\"#B0BEC5\",\"#B0BEC5\",\"#B0BEC5\",\"#B0BEC5\",\"#B0BEC5\",\"#B0BEC5\",\"#B0BEC5\",\"#B0BEC5\"]]}],\"label\":\"Topic 22\",\"method\":\"update\"},{\"args\":[{\"marker.color\":[[\"#B0BEC5\",\"#B0BEC5\",\"#B0BEC5\",\"#B0BEC5\",\"#B0BEC5\",\"#B0BEC5\",\"#B0BEC5\",\"#B0BEC5\",\"#B0BEC5\",\"#B0BEC5\",\"#B0BEC5\",\"#B0BEC5\",\"#B0BEC5\",\"#B0BEC5\",\"#B0BEC5\",\"#B0BEC5\",\"#B0BEC5\",\"#B0BEC5\",\"#B0BEC5\",\"#B0BEC5\",\"#B0BEC5\",\"#B0BEC5\",\"#B0BEC5\",\"red\",\"#B0BEC5\",\"#B0BEC5\",\"#B0BEC5\",\"#B0BEC5\",\"#B0BEC5\",\"#B0BEC5\",\"#B0BEC5\",\"#B0BEC5\",\"#B0BEC5\",\"#B0BEC5\",\"#B0BEC5\",\"#B0BEC5\",\"#B0BEC5\",\"#B0BEC5\",\"#B0BEC5\",\"#B0BEC5\",\"#B0BEC5\",\"#B0BEC5\",\"#B0BEC5\",\"#B0BEC5\",\"#B0BEC5\",\"#B0BEC5\",\"#B0BEC5\",\"#B0BEC5\",\"#B0BEC5\",\"#B0BEC5\",\"#B0BEC5\",\"#B0BEC5\",\"#B0BEC5\",\"#B0BEC5\",\"#B0BEC5\",\"#B0BEC5\",\"#B0BEC5\",\"#B0BEC5\",\"#B0BEC5\",\"#B0BEC5\",\"#B0BEC5\",\"#B0BEC5\",\"#B0BEC5\",\"#B0BEC5\",\"#B0BEC5\",\"#B0BEC5\",\"#B0BEC5\",\"#B0BEC5\",\"#B0BEC5\",\"#B0BEC5\",\"#B0BEC5\",\"#B0BEC5\",\"#B0BEC5\",\"#B0BEC5\",\"#B0BEC5\",\"#B0BEC5\",\"#B0BEC5\",\"#B0BEC5\",\"#B0BEC5\",\"#B0BEC5\",\"#B0BEC5\",\"#B0BEC5\",\"#B0BEC5\"]]}],\"label\":\"Topic 23\",\"method\":\"update\"},{\"args\":[{\"marker.color\":[[\"#B0BEC5\",\"#B0BEC5\",\"#B0BEC5\",\"#B0BEC5\",\"#B0BEC5\",\"#B0BEC5\",\"#B0BEC5\",\"#B0BEC5\",\"#B0BEC5\",\"#B0BEC5\",\"#B0BEC5\",\"#B0BEC5\",\"#B0BEC5\",\"#B0BEC5\",\"#B0BEC5\",\"#B0BEC5\",\"#B0BEC5\",\"#B0BEC5\",\"#B0BEC5\",\"#B0BEC5\",\"#B0BEC5\",\"#B0BEC5\",\"#B0BEC5\",\"#B0BEC5\",\"red\",\"#B0BEC5\",\"#B0BEC5\",\"#B0BEC5\",\"#B0BEC5\",\"#B0BEC5\",\"#B0BEC5\",\"#B0BEC5\",\"#B0BEC5\",\"#B0BEC5\",\"#B0BEC5\",\"#B0BEC5\",\"#B0BEC5\",\"#B0BEC5\",\"#B0BEC5\",\"#B0BEC5\",\"#B0BEC5\",\"#B0BEC5\",\"#B0BEC5\",\"#B0BEC5\",\"#B0BEC5\",\"#B0BEC5\",\"#B0BEC5\",\"#B0BEC5\",\"#B0BEC5\",\"#B0BEC5\",\"#B0BEC5\",\"#B0BEC5\",\"#B0BEC5\",\"#B0BEC5\",\"#B0BEC5\",\"#B0BEC5\",\"#B0BEC5\",\"#B0BEC5\",\"#B0BEC5\",\"#B0BEC5\",\"#B0BEC5\",\"#B0BEC5\",\"#B0BEC5\",\"#B0BEC5\",\"#B0BEC5\",\"#B0BEC5\",\"#B0BEC5\",\"#B0BEC5\",\"#B0BEC5\",\"#B0BEC5\",\"#B0BEC5\",\"#B0BEC5\",\"#B0BEC5\",\"#B0BEC5\",\"#B0BEC5\",\"#B0BEC5\",\"#B0BEC5\",\"#B0BEC5\",\"#B0BEC5\",\"#B0BEC5\",\"#B0BEC5\",\"#B0BEC5\",\"#B0BEC5\"]]}],\"label\":\"Topic 24\",\"method\":\"update\"},{\"args\":[{\"marker.color\":[[\"#B0BEC5\",\"#B0BEC5\",\"#B0BEC5\",\"#B0BEC5\",\"#B0BEC5\",\"#B0BEC5\",\"#B0BEC5\",\"#B0BEC5\",\"#B0BEC5\",\"#B0BEC5\",\"#B0BEC5\",\"#B0BEC5\",\"#B0BEC5\",\"#B0BEC5\",\"#B0BEC5\",\"#B0BEC5\",\"#B0BEC5\",\"#B0BEC5\",\"#B0BEC5\",\"#B0BEC5\",\"#B0BEC5\",\"#B0BEC5\",\"#B0BEC5\",\"#B0BEC5\",\"#B0BEC5\",\"red\",\"#B0BEC5\",\"#B0BEC5\",\"#B0BEC5\",\"#B0BEC5\",\"#B0BEC5\",\"#B0BEC5\",\"#B0BEC5\",\"#B0BEC5\",\"#B0BEC5\",\"#B0BEC5\",\"#B0BEC5\",\"#B0BEC5\",\"#B0BEC5\",\"#B0BEC5\",\"#B0BEC5\",\"#B0BEC5\",\"#B0BEC5\",\"#B0BEC5\",\"#B0BEC5\",\"#B0BEC5\",\"#B0BEC5\",\"#B0BEC5\",\"#B0BEC5\",\"#B0BEC5\",\"#B0BEC5\",\"#B0BEC5\",\"#B0BEC5\",\"#B0BEC5\",\"#B0BEC5\",\"#B0BEC5\",\"#B0BEC5\",\"#B0BEC5\",\"#B0BEC5\",\"#B0BEC5\",\"#B0BEC5\",\"#B0BEC5\",\"#B0BEC5\",\"#B0BEC5\",\"#B0BEC5\",\"#B0BEC5\",\"#B0BEC5\",\"#B0BEC5\",\"#B0BEC5\",\"#B0BEC5\",\"#B0BEC5\",\"#B0BEC5\",\"#B0BEC5\",\"#B0BEC5\",\"#B0BEC5\",\"#B0BEC5\",\"#B0BEC5\",\"#B0BEC5\",\"#B0BEC5\",\"#B0BEC5\",\"#B0BEC5\",\"#B0BEC5\",\"#B0BEC5\"]]}],\"label\":\"Topic 25\",\"method\":\"update\"},{\"args\":[{\"marker.color\":[[\"#B0BEC5\",\"#B0BEC5\",\"#B0BEC5\",\"#B0BEC5\",\"#B0BEC5\",\"#B0BEC5\",\"#B0BEC5\",\"#B0BEC5\",\"#B0BEC5\",\"#B0BEC5\",\"#B0BEC5\",\"#B0BEC5\",\"#B0BEC5\",\"#B0BEC5\",\"#B0BEC5\",\"#B0BEC5\",\"#B0BEC5\",\"#B0BEC5\",\"#B0BEC5\",\"#B0BEC5\",\"#B0BEC5\",\"#B0BEC5\",\"#B0BEC5\",\"#B0BEC5\",\"#B0BEC5\",\"#B0BEC5\",\"red\",\"#B0BEC5\",\"#B0BEC5\",\"#B0BEC5\",\"#B0BEC5\",\"#B0BEC5\",\"#B0BEC5\",\"#B0BEC5\",\"#B0BEC5\",\"#B0BEC5\",\"#B0BEC5\",\"#B0BEC5\",\"#B0BEC5\",\"#B0BEC5\",\"#B0BEC5\",\"#B0BEC5\",\"#B0BEC5\",\"#B0BEC5\",\"#B0BEC5\",\"#B0BEC5\",\"#B0BEC5\",\"#B0BEC5\",\"#B0BEC5\",\"#B0BEC5\",\"#B0BEC5\",\"#B0BEC5\",\"#B0BEC5\",\"#B0BEC5\",\"#B0BEC5\",\"#B0BEC5\",\"#B0BEC5\",\"#B0BEC5\",\"#B0BEC5\",\"#B0BEC5\",\"#B0BEC5\",\"#B0BEC5\",\"#B0BEC5\",\"#B0BEC5\",\"#B0BEC5\",\"#B0BEC5\",\"#B0BEC5\",\"#B0BEC5\",\"#B0BEC5\",\"#B0BEC5\",\"#B0BEC5\",\"#B0BEC5\",\"#B0BEC5\",\"#B0BEC5\",\"#B0BEC5\",\"#B0BEC5\",\"#B0BEC5\",\"#B0BEC5\",\"#B0BEC5\",\"#B0BEC5\",\"#B0BEC5\",\"#B0BEC5\",\"#B0BEC5\"]]}],\"label\":\"Topic 26\",\"method\":\"update\"},{\"args\":[{\"marker.color\":[[\"#B0BEC5\",\"#B0BEC5\",\"#B0BEC5\",\"#B0BEC5\",\"#B0BEC5\",\"#B0BEC5\",\"#B0BEC5\",\"#B0BEC5\",\"#B0BEC5\",\"#B0BEC5\",\"#B0BEC5\",\"#B0BEC5\",\"#B0BEC5\",\"#B0BEC5\",\"#B0BEC5\",\"#B0BEC5\",\"#B0BEC5\",\"#B0BEC5\",\"#B0BEC5\",\"#B0BEC5\",\"#B0BEC5\",\"#B0BEC5\",\"#B0BEC5\",\"#B0BEC5\",\"#B0BEC5\",\"#B0BEC5\",\"#B0BEC5\",\"red\",\"#B0BEC5\",\"#B0BEC5\",\"#B0BEC5\",\"#B0BEC5\",\"#B0BEC5\",\"#B0BEC5\",\"#B0BEC5\",\"#B0BEC5\",\"#B0BEC5\",\"#B0BEC5\",\"#B0BEC5\",\"#B0BEC5\",\"#B0BEC5\",\"#B0BEC5\",\"#B0BEC5\",\"#B0BEC5\",\"#B0BEC5\",\"#B0BEC5\",\"#B0BEC5\",\"#B0BEC5\",\"#B0BEC5\",\"#B0BEC5\",\"#B0BEC5\",\"#B0BEC5\",\"#B0BEC5\",\"#B0BEC5\",\"#B0BEC5\",\"#B0BEC5\",\"#B0BEC5\",\"#B0BEC5\",\"#B0BEC5\",\"#B0BEC5\",\"#B0BEC5\",\"#B0BEC5\",\"#B0BEC5\",\"#B0BEC5\",\"#B0BEC5\",\"#B0BEC5\",\"#B0BEC5\",\"#B0BEC5\",\"#B0BEC5\",\"#B0BEC5\",\"#B0BEC5\",\"#B0BEC5\",\"#B0BEC5\",\"#B0BEC5\",\"#B0BEC5\",\"#B0BEC5\",\"#B0BEC5\",\"#B0BEC5\",\"#B0BEC5\",\"#B0BEC5\",\"#B0BEC5\",\"#B0BEC5\",\"#B0BEC5\"]]}],\"label\":\"Topic 27\",\"method\":\"update\"},{\"args\":[{\"marker.color\":[[\"#B0BEC5\",\"#B0BEC5\",\"#B0BEC5\",\"#B0BEC5\",\"#B0BEC5\",\"#B0BEC5\",\"#B0BEC5\",\"#B0BEC5\",\"#B0BEC5\",\"#B0BEC5\",\"#B0BEC5\",\"#B0BEC5\",\"#B0BEC5\",\"#B0BEC5\",\"#B0BEC5\",\"#B0BEC5\",\"#B0BEC5\",\"#B0BEC5\",\"#B0BEC5\",\"#B0BEC5\",\"#B0BEC5\",\"#B0BEC5\",\"#B0BEC5\",\"#B0BEC5\",\"#B0BEC5\",\"#B0BEC5\",\"#B0BEC5\",\"#B0BEC5\",\"red\",\"#B0BEC5\",\"#B0BEC5\",\"#B0BEC5\",\"#B0BEC5\",\"#B0BEC5\",\"#B0BEC5\",\"#B0BEC5\",\"#B0BEC5\",\"#B0BEC5\",\"#B0BEC5\",\"#B0BEC5\",\"#B0BEC5\",\"#B0BEC5\",\"#B0BEC5\",\"#B0BEC5\",\"#B0BEC5\",\"#B0BEC5\",\"#B0BEC5\",\"#B0BEC5\",\"#B0BEC5\",\"#B0BEC5\",\"#B0BEC5\",\"#B0BEC5\",\"#B0BEC5\",\"#B0BEC5\",\"#B0BEC5\",\"#B0BEC5\",\"#B0BEC5\",\"#B0BEC5\",\"#B0BEC5\",\"#B0BEC5\",\"#B0BEC5\",\"#B0BEC5\",\"#B0BEC5\",\"#B0BEC5\",\"#B0BEC5\",\"#B0BEC5\",\"#B0BEC5\",\"#B0BEC5\",\"#B0BEC5\",\"#B0BEC5\",\"#B0BEC5\",\"#B0BEC5\",\"#B0BEC5\",\"#B0BEC5\",\"#B0BEC5\",\"#B0BEC5\",\"#B0BEC5\",\"#B0BEC5\",\"#B0BEC5\",\"#B0BEC5\",\"#B0BEC5\",\"#B0BEC5\",\"#B0BEC5\"]]}],\"label\":\"Topic 28\",\"method\":\"update\"},{\"args\":[{\"marker.color\":[[\"#B0BEC5\",\"#B0BEC5\",\"#B0BEC5\",\"#B0BEC5\",\"#B0BEC5\",\"#B0BEC5\",\"#B0BEC5\",\"#B0BEC5\",\"#B0BEC5\",\"#B0BEC5\",\"#B0BEC5\",\"#B0BEC5\",\"#B0BEC5\",\"#B0BEC5\",\"#B0BEC5\",\"#B0BEC5\",\"#B0BEC5\",\"#B0BEC5\",\"#B0BEC5\",\"#B0BEC5\",\"#B0BEC5\",\"#B0BEC5\",\"#B0BEC5\",\"#B0BEC5\",\"#B0BEC5\",\"#B0BEC5\",\"#B0BEC5\",\"#B0BEC5\",\"#B0BEC5\",\"red\",\"#B0BEC5\",\"#B0BEC5\",\"#B0BEC5\",\"#B0BEC5\",\"#B0BEC5\",\"#B0BEC5\",\"#B0BEC5\",\"#B0BEC5\",\"#B0BEC5\",\"#B0BEC5\",\"#B0BEC5\",\"#B0BEC5\",\"#B0BEC5\",\"#B0BEC5\",\"#B0BEC5\",\"#B0BEC5\",\"#B0BEC5\",\"#B0BEC5\",\"#B0BEC5\",\"#B0BEC5\",\"#B0BEC5\",\"#B0BEC5\",\"#B0BEC5\",\"#B0BEC5\",\"#B0BEC5\",\"#B0BEC5\",\"#B0BEC5\",\"#B0BEC5\",\"#B0BEC5\",\"#B0BEC5\",\"#B0BEC5\",\"#B0BEC5\",\"#B0BEC5\",\"#B0BEC5\",\"#B0BEC5\",\"#B0BEC5\",\"#B0BEC5\",\"#B0BEC5\",\"#B0BEC5\",\"#B0BEC5\",\"#B0BEC5\",\"#B0BEC5\",\"#B0BEC5\",\"#B0BEC5\",\"#B0BEC5\",\"#B0BEC5\",\"#B0BEC5\",\"#B0BEC5\",\"#B0BEC5\",\"#B0BEC5\",\"#B0BEC5\",\"#B0BEC5\",\"#B0BEC5\"]]}],\"label\":\"Topic 29\",\"method\":\"update\"},{\"args\":[{\"marker.color\":[[\"#B0BEC5\",\"#B0BEC5\",\"#B0BEC5\",\"#B0BEC5\",\"#B0BEC5\",\"#B0BEC5\",\"#B0BEC5\",\"#B0BEC5\",\"#B0BEC5\",\"#B0BEC5\",\"#B0BEC5\",\"#B0BEC5\",\"#B0BEC5\",\"#B0BEC5\",\"#B0BEC5\",\"#B0BEC5\",\"#B0BEC5\",\"#B0BEC5\",\"#B0BEC5\",\"#B0BEC5\",\"#B0BEC5\",\"#B0BEC5\",\"#B0BEC5\",\"#B0BEC5\",\"#B0BEC5\",\"#B0BEC5\",\"#B0BEC5\",\"#B0BEC5\",\"#B0BEC5\",\"#B0BEC5\",\"red\",\"#B0BEC5\",\"#B0BEC5\",\"#B0BEC5\",\"#B0BEC5\",\"#B0BEC5\",\"#B0BEC5\",\"#B0BEC5\",\"#B0BEC5\",\"#B0BEC5\",\"#B0BEC5\",\"#B0BEC5\",\"#B0BEC5\",\"#B0BEC5\",\"#B0BEC5\",\"#B0BEC5\",\"#B0BEC5\",\"#B0BEC5\",\"#B0BEC5\",\"#B0BEC5\",\"#B0BEC5\",\"#B0BEC5\",\"#B0BEC5\",\"#B0BEC5\",\"#B0BEC5\",\"#B0BEC5\",\"#B0BEC5\",\"#B0BEC5\",\"#B0BEC5\",\"#B0BEC5\",\"#B0BEC5\",\"#B0BEC5\",\"#B0BEC5\",\"#B0BEC5\",\"#B0BEC5\",\"#B0BEC5\",\"#B0BEC5\",\"#B0BEC5\",\"#B0BEC5\",\"#B0BEC5\",\"#B0BEC5\",\"#B0BEC5\",\"#B0BEC5\",\"#B0BEC5\",\"#B0BEC5\",\"#B0BEC5\",\"#B0BEC5\",\"#B0BEC5\",\"#B0BEC5\",\"#B0BEC5\",\"#B0BEC5\",\"#B0BEC5\",\"#B0BEC5\"]]}],\"label\":\"Topic 30\",\"method\":\"update\"},{\"args\":[{\"marker.color\":[[\"#B0BEC5\",\"#B0BEC5\",\"#B0BEC5\",\"#B0BEC5\",\"#B0BEC5\",\"#B0BEC5\",\"#B0BEC5\",\"#B0BEC5\",\"#B0BEC5\",\"#B0BEC5\",\"#B0BEC5\",\"#B0BEC5\",\"#B0BEC5\",\"#B0BEC5\",\"#B0BEC5\",\"#B0BEC5\",\"#B0BEC5\",\"#B0BEC5\",\"#B0BEC5\",\"#B0BEC5\",\"#B0BEC5\",\"#B0BEC5\",\"#B0BEC5\",\"#B0BEC5\",\"#B0BEC5\",\"#B0BEC5\",\"#B0BEC5\",\"#B0BEC5\",\"#B0BEC5\",\"#B0BEC5\",\"#B0BEC5\",\"red\",\"#B0BEC5\",\"#B0BEC5\",\"#B0BEC5\",\"#B0BEC5\",\"#B0BEC5\",\"#B0BEC5\",\"#B0BEC5\",\"#B0BEC5\",\"#B0BEC5\",\"#B0BEC5\",\"#B0BEC5\",\"#B0BEC5\",\"#B0BEC5\",\"#B0BEC5\",\"#B0BEC5\",\"#B0BEC5\",\"#B0BEC5\",\"#B0BEC5\",\"#B0BEC5\",\"#B0BEC5\",\"#B0BEC5\",\"#B0BEC5\",\"#B0BEC5\",\"#B0BEC5\",\"#B0BEC5\",\"#B0BEC5\",\"#B0BEC5\",\"#B0BEC5\",\"#B0BEC5\",\"#B0BEC5\",\"#B0BEC5\",\"#B0BEC5\",\"#B0BEC5\",\"#B0BEC5\",\"#B0BEC5\",\"#B0BEC5\",\"#B0BEC5\",\"#B0BEC5\",\"#B0BEC5\",\"#B0BEC5\",\"#B0BEC5\",\"#B0BEC5\",\"#B0BEC5\",\"#B0BEC5\",\"#B0BEC5\",\"#B0BEC5\",\"#B0BEC5\",\"#B0BEC5\",\"#B0BEC5\",\"#B0BEC5\",\"#B0BEC5\"]]}],\"label\":\"Topic 31\",\"method\":\"update\"},{\"args\":[{\"marker.color\":[[\"#B0BEC5\",\"#B0BEC5\",\"#B0BEC5\",\"#B0BEC5\",\"#B0BEC5\",\"#B0BEC5\",\"#B0BEC5\",\"#B0BEC5\",\"#B0BEC5\",\"#B0BEC5\",\"#B0BEC5\",\"#B0BEC5\",\"#B0BEC5\",\"#B0BEC5\",\"#B0BEC5\",\"#B0BEC5\",\"#B0BEC5\",\"#B0BEC5\",\"#B0BEC5\",\"#B0BEC5\",\"#B0BEC5\",\"#B0BEC5\",\"#B0BEC5\",\"#B0BEC5\",\"#B0BEC5\",\"#B0BEC5\",\"#B0BEC5\",\"#B0BEC5\",\"#B0BEC5\",\"#B0BEC5\",\"#B0BEC5\",\"#B0BEC5\",\"red\",\"#B0BEC5\",\"#B0BEC5\",\"#B0BEC5\",\"#B0BEC5\",\"#B0BEC5\",\"#B0BEC5\",\"#B0BEC5\",\"#B0BEC5\",\"#B0BEC5\",\"#B0BEC5\",\"#B0BEC5\",\"#B0BEC5\",\"#B0BEC5\",\"#B0BEC5\",\"#B0BEC5\",\"#B0BEC5\",\"#B0BEC5\",\"#B0BEC5\",\"#B0BEC5\",\"#B0BEC5\",\"#B0BEC5\",\"#B0BEC5\",\"#B0BEC5\",\"#B0BEC5\",\"#B0BEC5\",\"#B0BEC5\",\"#B0BEC5\",\"#B0BEC5\",\"#B0BEC5\",\"#B0BEC5\",\"#B0BEC5\",\"#B0BEC5\",\"#B0BEC5\",\"#B0BEC5\",\"#B0BEC5\",\"#B0BEC5\",\"#B0BEC5\",\"#B0BEC5\",\"#B0BEC5\",\"#B0BEC5\",\"#B0BEC5\",\"#B0BEC5\",\"#B0BEC5\",\"#B0BEC5\",\"#B0BEC5\",\"#B0BEC5\",\"#B0BEC5\",\"#B0BEC5\",\"#B0BEC5\",\"#B0BEC5\"]]}],\"label\":\"Topic 32\",\"method\":\"update\"},{\"args\":[{\"marker.color\":[[\"#B0BEC5\",\"#B0BEC5\",\"#B0BEC5\",\"#B0BEC5\",\"#B0BEC5\",\"#B0BEC5\",\"#B0BEC5\",\"#B0BEC5\",\"#B0BEC5\",\"#B0BEC5\",\"#B0BEC5\",\"#B0BEC5\",\"#B0BEC5\",\"#B0BEC5\",\"#B0BEC5\",\"#B0BEC5\",\"#B0BEC5\",\"#B0BEC5\",\"#B0BEC5\",\"#B0BEC5\",\"#B0BEC5\",\"#B0BEC5\",\"#B0BEC5\",\"#B0BEC5\",\"#B0BEC5\",\"#B0BEC5\",\"#B0BEC5\",\"#B0BEC5\",\"#B0BEC5\",\"#B0BEC5\",\"#B0BEC5\",\"#B0BEC5\",\"#B0BEC5\",\"red\",\"#B0BEC5\",\"#B0BEC5\",\"#B0BEC5\",\"#B0BEC5\",\"#B0BEC5\",\"#B0BEC5\",\"#B0BEC5\",\"#B0BEC5\",\"#B0BEC5\",\"#B0BEC5\",\"#B0BEC5\",\"#B0BEC5\",\"#B0BEC5\",\"#B0BEC5\",\"#B0BEC5\",\"#B0BEC5\",\"#B0BEC5\",\"#B0BEC5\",\"#B0BEC5\",\"#B0BEC5\",\"#B0BEC5\",\"#B0BEC5\",\"#B0BEC5\",\"#B0BEC5\",\"#B0BEC5\",\"#B0BEC5\",\"#B0BEC5\",\"#B0BEC5\",\"#B0BEC5\",\"#B0BEC5\",\"#B0BEC5\",\"#B0BEC5\",\"#B0BEC5\",\"#B0BEC5\",\"#B0BEC5\",\"#B0BEC5\",\"#B0BEC5\",\"#B0BEC5\",\"#B0BEC5\",\"#B0BEC5\",\"#B0BEC5\",\"#B0BEC5\",\"#B0BEC5\",\"#B0BEC5\",\"#B0BEC5\",\"#B0BEC5\",\"#B0BEC5\",\"#B0BEC5\",\"#B0BEC5\"]]}],\"label\":\"Topic 33\",\"method\":\"update\"},{\"args\":[{\"marker.color\":[[\"#B0BEC5\",\"#B0BEC5\",\"#B0BEC5\",\"#B0BEC5\",\"#B0BEC5\",\"#B0BEC5\",\"#B0BEC5\",\"#B0BEC5\",\"#B0BEC5\",\"#B0BEC5\",\"#B0BEC5\",\"#B0BEC5\",\"#B0BEC5\",\"#B0BEC5\",\"#B0BEC5\",\"#B0BEC5\",\"#B0BEC5\",\"#B0BEC5\",\"#B0BEC5\",\"#B0BEC5\",\"#B0BEC5\",\"#B0BEC5\",\"#B0BEC5\",\"#B0BEC5\",\"#B0BEC5\",\"#B0BEC5\",\"#B0BEC5\",\"#B0BEC5\",\"#B0BEC5\",\"#B0BEC5\",\"#B0BEC5\",\"#B0BEC5\",\"#B0BEC5\",\"#B0BEC5\",\"red\",\"#B0BEC5\",\"#B0BEC5\",\"#B0BEC5\",\"#B0BEC5\",\"#B0BEC5\",\"#B0BEC5\",\"#B0BEC5\",\"#B0BEC5\",\"#B0BEC5\",\"#B0BEC5\",\"#B0BEC5\",\"#B0BEC5\",\"#B0BEC5\",\"#B0BEC5\",\"#B0BEC5\",\"#B0BEC5\",\"#B0BEC5\",\"#B0BEC5\",\"#B0BEC5\",\"#B0BEC5\",\"#B0BEC5\",\"#B0BEC5\",\"#B0BEC5\",\"#B0BEC5\",\"#B0BEC5\",\"#B0BEC5\",\"#B0BEC5\",\"#B0BEC5\",\"#B0BEC5\",\"#B0BEC5\",\"#B0BEC5\",\"#B0BEC5\",\"#B0BEC5\",\"#B0BEC5\",\"#B0BEC5\",\"#B0BEC5\",\"#B0BEC5\",\"#B0BEC5\",\"#B0BEC5\",\"#B0BEC5\",\"#B0BEC5\",\"#B0BEC5\",\"#B0BEC5\",\"#B0BEC5\",\"#B0BEC5\",\"#B0BEC5\",\"#B0BEC5\",\"#B0BEC5\"]]}],\"label\":\"Topic 34\",\"method\":\"update\"},{\"args\":[{\"marker.color\":[[\"#B0BEC5\",\"#B0BEC5\",\"#B0BEC5\",\"#B0BEC5\",\"#B0BEC5\",\"#B0BEC5\",\"#B0BEC5\",\"#B0BEC5\",\"#B0BEC5\",\"#B0BEC5\",\"#B0BEC5\",\"#B0BEC5\",\"#B0BEC5\",\"#B0BEC5\",\"#B0BEC5\",\"#B0BEC5\",\"#B0BEC5\",\"#B0BEC5\",\"#B0BEC5\",\"#B0BEC5\",\"#B0BEC5\",\"#B0BEC5\",\"#B0BEC5\",\"#B0BEC5\",\"#B0BEC5\",\"#B0BEC5\",\"#B0BEC5\",\"#B0BEC5\",\"#B0BEC5\",\"#B0BEC5\",\"#B0BEC5\",\"#B0BEC5\",\"#B0BEC5\",\"#B0BEC5\",\"#B0BEC5\",\"red\",\"#B0BEC5\",\"#B0BEC5\",\"#B0BEC5\",\"#B0BEC5\",\"#B0BEC5\",\"#B0BEC5\",\"#B0BEC5\",\"#B0BEC5\",\"#B0BEC5\",\"#B0BEC5\",\"#B0BEC5\",\"#B0BEC5\",\"#B0BEC5\",\"#B0BEC5\",\"#B0BEC5\",\"#B0BEC5\",\"#B0BEC5\",\"#B0BEC5\",\"#B0BEC5\",\"#B0BEC5\",\"#B0BEC5\",\"#B0BEC5\",\"#B0BEC5\",\"#B0BEC5\",\"#B0BEC5\",\"#B0BEC5\",\"#B0BEC5\",\"#B0BEC5\",\"#B0BEC5\",\"#B0BEC5\",\"#B0BEC5\",\"#B0BEC5\",\"#B0BEC5\",\"#B0BEC5\",\"#B0BEC5\",\"#B0BEC5\",\"#B0BEC5\",\"#B0BEC5\",\"#B0BEC5\",\"#B0BEC5\",\"#B0BEC5\",\"#B0BEC5\",\"#B0BEC5\",\"#B0BEC5\",\"#B0BEC5\",\"#B0BEC5\",\"#B0BEC5\"]]}],\"label\":\"Topic 35\",\"method\":\"update\"},{\"args\":[{\"marker.color\":[[\"#B0BEC5\",\"#B0BEC5\",\"#B0BEC5\",\"#B0BEC5\",\"#B0BEC5\",\"#B0BEC5\",\"#B0BEC5\",\"#B0BEC5\",\"#B0BEC5\",\"#B0BEC5\",\"#B0BEC5\",\"#B0BEC5\",\"#B0BEC5\",\"#B0BEC5\",\"#B0BEC5\",\"#B0BEC5\",\"#B0BEC5\",\"#B0BEC5\",\"#B0BEC5\",\"#B0BEC5\",\"#B0BEC5\",\"#B0BEC5\",\"#B0BEC5\",\"#B0BEC5\",\"#B0BEC5\",\"#B0BEC5\",\"#B0BEC5\",\"#B0BEC5\",\"#B0BEC5\",\"#B0BEC5\",\"#B0BEC5\",\"#B0BEC5\",\"#B0BEC5\",\"#B0BEC5\",\"#B0BEC5\",\"#B0BEC5\",\"red\",\"#B0BEC5\",\"#B0BEC5\",\"#B0BEC5\",\"#B0BEC5\",\"#B0BEC5\",\"#B0BEC5\",\"#B0BEC5\",\"#B0BEC5\",\"#B0BEC5\",\"#B0BEC5\",\"#B0BEC5\",\"#B0BEC5\",\"#B0BEC5\",\"#B0BEC5\",\"#B0BEC5\",\"#B0BEC5\",\"#B0BEC5\",\"#B0BEC5\",\"#B0BEC5\",\"#B0BEC5\",\"#B0BEC5\",\"#B0BEC5\",\"#B0BEC5\",\"#B0BEC5\",\"#B0BEC5\",\"#B0BEC5\",\"#B0BEC5\",\"#B0BEC5\",\"#B0BEC5\",\"#B0BEC5\",\"#B0BEC5\",\"#B0BEC5\",\"#B0BEC5\",\"#B0BEC5\",\"#B0BEC5\",\"#B0BEC5\",\"#B0BEC5\",\"#B0BEC5\",\"#B0BEC5\",\"#B0BEC5\",\"#B0BEC5\",\"#B0BEC5\",\"#B0BEC5\",\"#B0BEC5\",\"#B0BEC5\",\"#B0BEC5\"]]}],\"label\":\"Topic 36\",\"method\":\"update\"},{\"args\":[{\"marker.color\":[[\"#B0BEC5\",\"#B0BEC5\",\"#B0BEC5\",\"#B0BEC5\",\"#B0BEC5\",\"#B0BEC5\",\"#B0BEC5\",\"#B0BEC5\",\"#B0BEC5\",\"#B0BEC5\",\"#B0BEC5\",\"#B0BEC5\",\"#B0BEC5\",\"#B0BEC5\",\"#B0BEC5\",\"#B0BEC5\",\"#B0BEC5\",\"#B0BEC5\",\"#B0BEC5\",\"#B0BEC5\",\"#B0BEC5\",\"#B0BEC5\",\"#B0BEC5\",\"#B0BEC5\",\"#B0BEC5\",\"#B0BEC5\",\"#B0BEC5\",\"#B0BEC5\",\"#B0BEC5\",\"#B0BEC5\",\"#B0BEC5\",\"#B0BEC5\",\"#B0BEC5\",\"#B0BEC5\",\"#B0BEC5\",\"#B0BEC5\",\"#B0BEC5\",\"red\",\"#B0BEC5\",\"#B0BEC5\",\"#B0BEC5\",\"#B0BEC5\",\"#B0BEC5\",\"#B0BEC5\",\"#B0BEC5\",\"#B0BEC5\",\"#B0BEC5\",\"#B0BEC5\",\"#B0BEC5\",\"#B0BEC5\",\"#B0BEC5\",\"#B0BEC5\",\"#B0BEC5\",\"#B0BEC5\",\"#B0BEC5\",\"#B0BEC5\",\"#B0BEC5\",\"#B0BEC5\",\"#B0BEC5\",\"#B0BEC5\",\"#B0BEC5\",\"#B0BEC5\",\"#B0BEC5\",\"#B0BEC5\",\"#B0BEC5\",\"#B0BEC5\",\"#B0BEC5\",\"#B0BEC5\",\"#B0BEC5\",\"#B0BEC5\",\"#B0BEC5\",\"#B0BEC5\",\"#B0BEC5\",\"#B0BEC5\",\"#B0BEC5\",\"#B0BEC5\",\"#B0BEC5\",\"#B0BEC5\",\"#B0BEC5\",\"#B0BEC5\",\"#B0BEC5\",\"#B0BEC5\",\"#B0BEC5\"]]}],\"label\":\"Topic 37\",\"method\":\"update\"},{\"args\":[{\"marker.color\":[[\"#B0BEC5\",\"#B0BEC5\",\"#B0BEC5\",\"#B0BEC5\",\"#B0BEC5\",\"#B0BEC5\",\"#B0BEC5\",\"#B0BEC5\",\"#B0BEC5\",\"#B0BEC5\",\"#B0BEC5\",\"#B0BEC5\",\"#B0BEC5\",\"#B0BEC5\",\"#B0BEC5\",\"#B0BEC5\",\"#B0BEC5\",\"#B0BEC5\",\"#B0BEC5\",\"#B0BEC5\",\"#B0BEC5\",\"#B0BEC5\",\"#B0BEC5\",\"#B0BEC5\",\"#B0BEC5\",\"#B0BEC5\",\"#B0BEC5\",\"#B0BEC5\",\"#B0BEC5\",\"#B0BEC5\",\"#B0BEC5\",\"#B0BEC5\",\"#B0BEC5\",\"#B0BEC5\",\"#B0BEC5\",\"#B0BEC5\",\"#B0BEC5\",\"#B0BEC5\",\"red\",\"#B0BEC5\",\"#B0BEC5\",\"#B0BEC5\",\"#B0BEC5\",\"#B0BEC5\",\"#B0BEC5\",\"#B0BEC5\",\"#B0BEC5\",\"#B0BEC5\",\"#B0BEC5\",\"#B0BEC5\",\"#B0BEC5\",\"#B0BEC5\",\"#B0BEC5\",\"#B0BEC5\",\"#B0BEC5\",\"#B0BEC5\",\"#B0BEC5\",\"#B0BEC5\",\"#B0BEC5\",\"#B0BEC5\",\"#B0BEC5\",\"#B0BEC5\",\"#B0BEC5\",\"#B0BEC5\",\"#B0BEC5\",\"#B0BEC5\",\"#B0BEC5\",\"#B0BEC5\",\"#B0BEC5\",\"#B0BEC5\",\"#B0BEC5\",\"#B0BEC5\",\"#B0BEC5\",\"#B0BEC5\",\"#B0BEC5\",\"#B0BEC5\",\"#B0BEC5\",\"#B0BEC5\",\"#B0BEC5\",\"#B0BEC5\",\"#B0BEC5\",\"#B0BEC5\",\"#B0BEC5\"]]}],\"label\":\"Topic 38\",\"method\":\"update\"},{\"args\":[{\"marker.color\":[[\"#B0BEC5\",\"#B0BEC5\",\"#B0BEC5\",\"#B0BEC5\",\"#B0BEC5\",\"#B0BEC5\",\"#B0BEC5\",\"#B0BEC5\",\"#B0BEC5\",\"#B0BEC5\",\"#B0BEC5\",\"#B0BEC5\",\"#B0BEC5\",\"#B0BEC5\",\"#B0BEC5\",\"#B0BEC5\",\"#B0BEC5\",\"#B0BEC5\",\"#B0BEC5\",\"#B0BEC5\",\"#B0BEC5\",\"#B0BEC5\",\"#B0BEC5\",\"#B0BEC5\",\"#B0BEC5\",\"#B0BEC5\",\"#B0BEC5\",\"#B0BEC5\",\"#B0BEC5\",\"#B0BEC5\",\"#B0BEC5\",\"#B0BEC5\",\"#B0BEC5\",\"#B0BEC5\",\"#B0BEC5\",\"#B0BEC5\",\"#B0BEC5\",\"#B0BEC5\",\"#B0BEC5\",\"red\",\"#B0BEC5\",\"#B0BEC5\",\"#B0BEC5\",\"#B0BEC5\",\"#B0BEC5\",\"#B0BEC5\",\"#B0BEC5\",\"#B0BEC5\",\"#B0BEC5\",\"#B0BEC5\",\"#B0BEC5\",\"#B0BEC5\",\"#B0BEC5\",\"#B0BEC5\",\"#B0BEC5\",\"#B0BEC5\",\"#B0BEC5\",\"#B0BEC5\",\"#B0BEC5\",\"#B0BEC5\",\"#B0BEC5\",\"#B0BEC5\",\"#B0BEC5\",\"#B0BEC5\",\"#B0BEC5\",\"#B0BEC5\",\"#B0BEC5\",\"#B0BEC5\",\"#B0BEC5\",\"#B0BEC5\",\"#B0BEC5\",\"#B0BEC5\",\"#B0BEC5\",\"#B0BEC5\",\"#B0BEC5\",\"#B0BEC5\",\"#B0BEC5\",\"#B0BEC5\",\"#B0BEC5\",\"#B0BEC5\",\"#B0BEC5\",\"#B0BEC5\",\"#B0BEC5\"]]}],\"label\":\"Topic 39\",\"method\":\"update\"},{\"args\":[{\"marker.color\":[[\"#B0BEC5\",\"#B0BEC5\",\"#B0BEC5\",\"#B0BEC5\",\"#B0BEC5\",\"#B0BEC5\",\"#B0BEC5\",\"#B0BEC5\",\"#B0BEC5\",\"#B0BEC5\",\"#B0BEC5\",\"#B0BEC5\",\"#B0BEC5\",\"#B0BEC5\",\"#B0BEC5\",\"#B0BEC5\",\"#B0BEC5\",\"#B0BEC5\",\"#B0BEC5\",\"#B0BEC5\",\"#B0BEC5\",\"#B0BEC5\",\"#B0BEC5\",\"#B0BEC5\",\"#B0BEC5\",\"#B0BEC5\",\"#B0BEC5\",\"#B0BEC5\",\"#B0BEC5\",\"#B0BEC5\",\"#B0BEC5\",\"#B0BEC5\",\"#B0BEC5\",\"#B0BEC5\",\"#B0BEC5\",\"#B0BEC5\",\"#B0BEC5\",\"#B0BEC5\",\"#B0BEC5\",\"#B0BEC5\",\"red\",\"#B0BEC5\",\"#B0BEC5\",\"#B0BEC5\",\"#B0BEC5\",\"#B0BEC5\",\"#B0BEC5\",\"#B0BEC5\",\"#B0BEC5\",\"#B0BEC5\",\"#B0BEC5\",\"#B0BEC5\",\"#B0BEC5\",\"#B0BEC5\",\"#B0BEC5\",\"#B0BEC5\",\"#B0BEC5\",\"#B0BEC5\",\"#B0BEC5\",\"#B0BEC5\",\"#B0BEC5\",\"#B0BEC5\",\"#B0BEC5\",\"#B0BEC5\",\"#B0BEC5\",\"#B0BEC5\",\"#B0BEC5\",\"#B0BEC5\",\"#B0BEC5\",\"#B0BEC5\",\"#B0BEC5\",\"#B0BEC5\",\"#B0BEC5\",\"#B0BEC5\",\"#B0BEC5\",\"#B0BEC5\",\"#B0BEC5\",\"#B0BEC5\",\"#B0BEC5\",\"#B0BEC5\",\"#B0BEC5\",\"#B0BEC5\",\"#B0BEC5\"]]}],\"label\":\"Topic 40\",\"method\":\"update\"},{\"args\":[{\"marker.color\":[[\"#B0BEC5\",\"#B0BEC5\",\"#B0BEC5\",\"#B0BEC5\",\"#B0BEC5\",\"#B0BEC5\",\"#B0BEC5\",\"#B0BEC5\",\"#B0BEC5\",\"#B0BEC5\",\"#B0BEC5\",\"#B0BEC5\",\"#B0BEC5\",\"#B0BEC5\",\"#B0BEC5\",\"#B0BEC5\",\"#B0BEC5\",\"#B0BEC5\",\"#B0BEC5\",\"#B0BEC5\",\"#B0BEC5\",\"#B0BEC5\",\"#B0BEC5\",\"#B0BEC5\",\"#B0BEC5\",\"#B0BEC5\",\"#B0BEC5\",\"#B0BEC5\",\"#B0BEC5\",\"#B0BEC5\",\"#B0BEC5\",\"#B0BEC5\",\"#B0BEC5\",\"#B0BEC5\",\"#B0BEC5\",\"#B0BEC5\",\"#B0BEC5\",\"#B0BEC5\",\"#B0BEC5\",\"#B0BEC5\",\"#B0BEC5\",\"red\",\"#B0BEC5\",\"#B0BEC5\",\"#B0BEC5\",\"#B0BEC5\",\"#B0BEC5\",\"#B0BEC5\",\"#B0BEC5\",\"#B0BEC5\",\"#B0BEC5\",\"#B0BEC5\",\"#B0BEC5\",\"#B0BEC5\",\"#B0BEC5\",\"#B0BEC5\",\"#B0BEC5\",\"#B0BEC5\",\"#B0BEC5\",\"#B0BEC5\",\"#B0BEC5\",\"#B0BEC5\",\"#B0BEC5\",\"#B0BEC5\",\"#B0BEC5\",\"#B0BEC5\",\"#B0BEC5\",\"#B0BEC5\",\"#B0BEC5\",\"#B0BEC5\",\"#B0BEC5\",\"#B0BEC5\",\"#B0BEC5\",\"#B0BEC5\",\"#B0BEC5\",\"#B0BEC5\",\"#B0BEC5\",\"#B0BEC5\",\"#B0BEC5\",\"#B0BEC5\",\"#B0BEC5\",\"#B0BEC5\",\"#B0BEC5\"]]}],\"label\":\"Topic 41\",\"method\":\"update\"},{\"args\":[{\"marker.color\":[[\"#B0BEC5\",\"#B0BEC5\",\"#B0BEC5\",\"#B0BEC5\",\"#B0BEC5\",\"#B0BEC5\",\"#B0BEC5\",\"#B0BEC5\",\"#B0BEC5\",\"#B0BEC5\",\"#B0BEC5\",\"#B0BEC5\",\"#B0BEC5\",\"#B0BEC5\",\"#B0BEC5\",\"#B0BEC5\",\"#B0BEC5\",\"#B0BEC5\",\"#B0BEC5\",\"#B0BEC5\",\"#B0BEC5\",\"#B0BEC5\",\"#B0BEC5\",\"#B0BEC5\",\"#B0BEC5\",\"#B0BEC5\",\"#B0BEC5\",\"#B0BEC5\",\"#B0BEC5\",\"#B0BEC5\",\"#B0BEC5\",\"#B0BEC5\",\"#B0BEC5\",\"#B0BEC5\",\"#B0BEC5\",\"#B0BEC5\",\"#B0BEC5\",\"#B0BEC5\",\"#B0BEC5\",\"#B0BEC5\",\"#B0BEC5\",\"#B0BEC5\",\"red\",\"#B0BEC5\",\"#B0BEC5\",\"#B0BEC5\",\"#B0BEC5\",\"#B0BEC5\",\"#B0BEC5\",\"#B0BEC5\",\"#B0BEC5\",\"#B0BEC5\",\"#B0BEC5\",\"#B0BEC5\",\"#B0BEC5\",\"#B0BEC5\",\"#B0BEC5\",\"#B0BEC5\",\"#B0BEC5\",\"#B0BEC5\",\"#B0BEC5\",\"#B0BEC5\",\"#B0BEC5\",\"#B0BEC5\",\"#B0BEC5\",\"#B0BEC5\",\"#B0BEC5\",\"#B0BEC5\",\"#B0BEC5\",\"#B0BEC5\",\"#B0BEC5\",\"#B0BEC5\",\"#B0BEC5\",\"#B0BEC5\",\"#B0BEC5\",\"#B0BEC5\",\"#B0BEC5\",\"#B0BEC5\",\"#B0BEC5\",\"#B0BEC5\",\"#B0BEC5\",\"#B0BEC5\",\"#B0BEC5\"]]}],\"label\":\"Topic 42\",\"method\":\"update\"},{\"args\":[{\"marker.color\":[[\"#B0BEC5\",\"#B0BEC5\",\"#B0BEC5\",\"#B0BEC5\",\"#B0BEC5\",\"#B0BEC5\",\"#B0BEC5\",\"#B0BEC5\",\"#B0BEC5\",\"#B0BEC5\",\"#B0BEC5\",\"#B0BEC5\",\"#B0BEC5\",\"#B0BEC5\",\"#B0BEC5\",\"#B0BEC5\",\"#B0BEC5\",\"#B0BEC5\",\"#B0BEC5\",\"#B0BEC5\",\"#B0BEC5\",\"#B0BEC5\",\"#B0BEC5\",\"#B0BEC5\",\"#B0BEC5\",\"#B0BEC5\",\"#B0BEC5\",\"#B0BEC5\",\"#B0BEC5\",\"#B0BEC5\",\"#B0BEC5\",\"#B0BEC5\",\"#B0BEC5\",\"#B0BEC5\",\"#B0BEC5\",\"#B0BEC5\",\"#B0BEC5\",\"#B0BEC5\",\"#B0BEC5\",\"#B0BEC5\",\"#B0BEC5\",\"#B0BEC5\",\"#B0BEC5\",\"red\",\"#B0BEC5\",\"#B0BEC5\",\"#B0BEC5\",\"#B0BEC5\",\"#B0BEC5\",\"#B0BEC5\",\"#B0BEC5\",\"#B0BEC5\",\"#B0BEC5\",\"#B0BEC5\",\"#B0BEC5\",\"#B0BEC5\",\"#B0BEC5\",\"#B0BEC5\",\"#B0BEC5\",\"#B0BEC5\",\"#B0BEC5\",\"#B0BEC5\",\"#B0BEC5\",\"#B0BEC5\",\"#B0BEC5\",\"#B0BEC5\",\"#B0BEC5\",\"#B0BEC5\",\"#B0BEC5\",\"#B0BEC5\",\"#B0BEC5\",\"#B0BEC5\",\"#B0BEC5\",\"#B0BEC5\",\"#B0BEC5\",\"#B0BEC5\",\"#B0BEC5\",\"#B0BEC5\",\"#B0BEC5\",\"#B0BEC5\",\"#B0BEC5\",\"#B0BEC5\",\"#B0BEC5\"]]}],\"label\":\"Topic 43\",\"method\":\"update\"},{\"args\":[{\"marker.color\":[[\"#B0BEC5\",\"#B0BEC5\",\"#B0BEC5\",\"#B0BEC5\",\"#B0BEC5\",\"#B0BEC5\",\"#B0BEC5\",\"#B0BEC5\",\"#B0BEC5\",\"#B0BEC5\",\"#B0BEC5\",\"#B0BEC5\",\"#B0BEC5\",\"#B0BEC5\",\"#B0BEC5\",\"#B0BEC5\",\"#B0BEC5\",\"#B0BEC5\",\"#B0BEC5\",\"#B0BEC5\",\"#B0BEC5\",\"#B0BEC5\",\"#B0BEC5\",\"#B0BEC5\",\"#B0BEC5\",\"#B0BEC5\",\"#B0BEC5\",\"#B0BEC5\",\"#B0BEC5\",\"#B0BEC5\",\"#B0BEC5\",\"#B0BEC5\",\"#B0BEC5\",\"#B0BEC5\",\"#B0BEC5\",\"#B0BEC5\",\"#B0BEC5\",\"#B0BEC5\",\"#B0BEC5\",\"#B0BEC5\",\"#B0BEC5\",\"#B0BEC5\",\"#B0BEC5\",\"#B0BEC5\",\"red\",\"#B0BEC5\",\"#B0BEC5\",\"#B0BEC5\",\"#B0BEC5\",\"#B0BEC5\",\"#B0BEC5\",\"#B0BEC5\",\"#B0BEC5\",\"#B0BEC5\",\"#B0BEC5\",\"#B0BEC5\",\"#B0BEC5\",\"#B0BEC5\",\"#B0BEC5\",\"#B0BEC5\",\"#B0BEC5\",\"#B0BEC5\",\"#B0BEC5\",\"#B0BEC5\",\"#B0BEC5\",\"#B0BEC5\",\"#B0BEC5\",\"#B0BEC5\",\"#B0BEC5\",\"#B0BEC5\",\"#B0BEC5\",\"#B0BEC5\",\"#B0BEC5\",\"#B0BEC5\",\"#B0BEC5\",\"#B0BEC5\",\"#B0BEC5\",\"#B0BEC5\",\"#B0BEC5\",\"#B0BEC5\",\"#B0BEC5\",\"#B0BEC5\",\"#B0BEC5\"]]}],\"label\":\"Topic 44\",\"method\":\"update\"},{\"args\":[{\"marker.color\":[[\"#B0BEC5\",\"#B0BEC5\",\"#B0BEC5\",\"#B0BEC5\",\"#B0BEC5\",\"#B0BEC5\",\"#B0BEC5\",\"#B0BEC5\",\"#B0BEC5\",\"#B0BEC5\",\"#B0BEC5\",\"#B0BEC5\",\"#B0BEC5\",\"#B0BEC5\",\"#B0BEC5\",\"#B0BEC5\",\"#B0BEC5\",\"#B0BEC5\",\"#B0BEC5\",\"#B0BEC5\",\"#B0BEC5\",\"#B0BEC5\",\"#B0BEC5\",\"#B0BEC5\",\"#B0BEC5\",\"#B0BEC5\",\"#B0BEC5\",\"#B0BEC5\",\"#B0BEC5\",\"#B0BEC5\",\"#B0BEC5\",\"#B0BEC5\",\"#B0BEC5\",\"#B0BEC5\",\"#B0BEC5\",\"#B0BEC5\",\"#B0BEC5\",\"#B0BEC5\",\"#B0BEC5\",\"#B0BEC5\",\"#B0BEC5\",\"#B0BEC5\",\"#B0BEC5\",\"#B0BEC5\",\"#B0BEC5\",\"red\",\"#B0BEC5\",\"#B0BEC5\",\"#B0BEC5\",\"#B0BEC5\",\"#B0BEC5\",\"#B0BEC5\",\"#B0BEC5\",\"#B0BEC5\",\"#B0BEC5\",\"#B0BEC5\",\"#B0BEC5\",\"#B0BEC5\",\"#B0BEC5\",\"#B0BEC5\",\"#B0BEC5\",\"#B0BEC5\",\"#B0BEC5\",\"#B0BEC5\",\"#B0BEC5\",\"#B0BEC5\",\"#B0BEC5\",\"#B0BEC5\",\"#B0BEC5\",\"#B0BEC5\",\"#B0BEC5\",\"#B0BEC5\",\"#B0BEC5\",\"#B0BEC5\",\"#B0BEC5\",\"#B0BEC5\",\"#B0BEC5\",\"#B0BEC5\",\"#B0BEC5\",\"#B0BEC5\",\"#B0BEC5\",\"#B0BEC5\",\"#B0BEC5\"]]}],\"label\":\"Topic 45\",\"method\":\"update\"},{\"args\":[{\"marker.color\":[[\"#B0BEC5\",\"#B0BEC5\",\"#B0BEC5\",\"#B0BEC5\",\"#B0BEC5\",\"#B0BEC5\",\"#B0BEC5\",\"#B0BEC5\",\"#B0BEC5\",\"#B0BEC5\",\"#B0BEC5\",\"#B0BEC5\",\"#B0BEC5\",\"#B0BEC5\",\"#B0BEC5\",\"#B0BEC5\",\"#B0BEC5\",\"#B0BEC5\",\"#B0BEC5\",\"#B0BEC5\",\"#B0BEC5\",\"#B0BEC5\",\"#B0BEC5\",\"#B0BEC5\",\"#B0BEC5\",\"#B0BEC5\",\"#B0BEC5\",\"#B0BEC5\",\"#B0BEC5\",\"#B0BEC5\",\"#B0BEC5\",\"#B0BEC5\",\"#B0BEC5\",\"#B0BEC5\",\"#B0BEC5\",\"#B0BEC5\",\"#B0BEC5\",\"#B0BEC5\",\"#B0BEC5\",\"#B0BEC5\",\"#B0BEC5\",\"#B0BEC5\",\"#B0BEC5\",\"#B0BEC5\",\"#B0BEC5\",\"#B0BEC5\",\"red\",\"#B0BEC5\",\"#B0BEC5\",\"#B0BEC5\",\"#B0BEC5\",\"#B0BEC5\",\"#B0BEC5\",\"#B0BEC5\",\"#B0BEC5\",\"#B0BEC5\",\"#B0BEC5\",\"#B0BEC5\",\"#B0BEC5\",\"#B0BEC5\",\"#B0BEC5\",\"#B0BEC5\",\"#B0BEC5\",\"#B0BEC5\",\"#B0BEC5\",\"#B0BEC5\",\"#B0BEC5\",\"#B0BEC5\",\"#B0BEC5\",\"#B0BEC5\",\"#B0BEC5\",\"#B0BEC5\",\"#B0BEC5\",\"#B0BEC5\",\"#B0BEC5\",\"#B0BEC5\",\"#B0BEC5\",\"#B0BEC5\",\"#B0BEC5\",\"#B0BEC5\",\"#B0BEC5\",\"#B0BEC5\",\"#B0BEC5\"]]}],\"label\":\"Topic 46\",\"method\":\"update\"},{\"args\":[{\"marker.color\":[[\"#B0BEC5\",\"#B0BEC5\",\"#B0BEC5\",\"#B0BEC5\",\"#B0BEC5\",\"#B0BEC5\",\"#B0BEC5\",\"#B0BEC5\",\"#B0BEC5\",\"#B0BEC5\",\"#B0BEC5\",\"#B0BEC5\",\"#B0BEC5\",\"#B0BEC5\",\"#B0BEC5\",\"#B0BEC5\",\"#B0BEC5\",\"#B0BEC5\",\"#B0BEC5\",\"#B0BEC5\",\"#B0BEC5\",\"#B0BEC5\",\"#B0BEC5\",\"#B0BEC5\",\"#B0BEC5\",\"#B0BEC5\",\"#B0BEC5\",\"#B0BEC5\",\"#B0BEC5\",\"#B0BEC5\",\"#B0BEC5\",\"#B0BEC5\",\"#B0BEC5\",\"#B0BEC5\",\"#B0BEC5\",\"#B0BEC5\",\"#B0BEC5\",\"#B0BEC5\",\"#B0BEC5\",\"#B0BEC5\",\"#B0BEC5\",\"#B0BEC5\",\"#B0BEC5\",\"#B0BEC5\",\"#B0BEC5\",\"#B0BEC5\",\"#B0BEC5\",\"red\",\"#B0BEC5\",\"#B0BEC5\",\"#B0BEC5\",\"#B0BEC5\",\"#B0BEC5\",\"#B0BEC5\",\"#B0BEC5\",\"#B0BEC5\",\"#B0BEC5\",\"#B0BEC5\",\"#B0BEC5\",\"#B0BEC5\",\"#B0BEC5\",\"#B0BEC5\",\"#B0BEC5\",\"#B0BEC5\",\"#B0BEC5\",\"#B0BEC5\",\"#B0BEC5\",\"#B0BEC5\",\"#B0BEC5\",\"#B0BEC5\",\"#B0BEC5\",\"#B0BEC5\",\"#B0BEC5\",\"#B0BEC5\",\"#B0BEC5\",\"#B0BEC5\",\"#B0BEC5\",\"#B0BEC5\",\"#B0BEC5\",\"#B0BEC5\",\"#B0BEC5\",\"#B0BEC5\",\"#B0BEC5\"]]}],\"label\":\"Topic 47\",\"method\":\"update\"},{\"args\":[{\"marker.color\":[[\"#B0BEC5\",\"#B0BEC5\",\"#B0BEC5\",\"#B0BEC5\",\"#B0BEC5\",\"#B0BEC5\",\"#B0BEC5\",\"#B0BEC5\",\"#B0BEC5\",\"#B0BEC5\",\"#B0BEC5\",\"#B0BEC5\",\"#B0BEC5\",\"#B0BEC5\",\"#B0BEC5\",\"#B0BEC5\",\"#B0BEC5\",\"#B0BEC5\",\"#B0BEC5\",\"#B0BEC5\",\"#B0BEC5\",\"#B0BEC5\",\"#B0BEC5\",\"#B0BEC5\",\"#B0BEC5\",\"#B0BEC5\",\"#B0BEC5\",\"#B0BEC5\",\"#B0BEC5\",\"#B0BEC5\",\"#B0BEC5\",\"#B0BEC5\",\"#B0BEC5\",\"#B0BEC5\",\"#B0BEC5\",\"#B0BEC5\",\"#B0BEC5\",\"#B0BEC5\",\"#B0BEC5\",\"#B0BEC5\",\"#B0BEC5\",\"#B0BEC5\",\"#B0BEC5\",\"#B0BEC5\",\"#B0BEC5\",\"#B0BEC5\",\"#B0BEC5\",\"#B0BEC5\",\"red\",\"#B0BEC5\",\"#B0BEC5\",\"#B0BEC5\",\"#B0BEC5\",\"#B0BEC5\",\"#B0BEC5\",\"#B0BEC5\",\"#B0BEC5\",\"#B0BEC5\",\"#B0BEC5\",\"#B0BEC5\",\"#B0BEC5\",\"#B0BEC5\",\"#B0BEC5\",\"#B0BEC5\",\"#B0BEC5\",\"#B0BEC5\",\"#B0BEC5\",\"#B0BEC5\",\"#B0BEC5\",\"#B0BEC5\",\"#B0BEC5\",\"#B0BEC5\",\"#B0BEC5\",\"#B0BEC5\",\"#B0BEC5\",\"#B0BEC5\",\"#B0BEC5\",\"#B0BEC5\",\"#B0BEC5\",\"#B0BEC5\",\"#B0BEC5\",\"#B0BEC5\",\"#B0BEC5\"]]}],\"label\":\"Topic 48\",\"method\":\"update\"},{\"args\":[{\"marker.color\":[[\"#B0BEC5\",\"#B0BEC5\",\"#B0BEC5\",\"#B0BEC5\",\"#B0BEC5\",\"#B0BEC5\",\"#B0BEC5\",\"#B0BEC5\",\"#B0BEC5\",\"#B0BEC5\",\"#B0BEC5\",\"#B0BEC5\",\"#B0BEC5\",\"#B0BEC5\",\"#B0BEC5\",\"#B0BEC5\",\"#B0BEC5\",\"#B0BEC5\",\"#B0BEC5\",\"#B0BEC5\",\"#B0BEC5\",\"#B0BEC5\",\"#B0BEC5\",\"#B0BEC5\",\"#B0BEC5\",\"#B0BEC5\",\"#B0BEC5\",\"#B0BEC5\",\"#B0BEC5\",\"#B0BEC5\",\"#B0BEC5\",\"#B0BEC5\",\"#B0BEC5\",\"#B0BEC5\",\"#B0BEC5\",\"#B0BEC5\",\"#B0BEC5\",\"#B0BEC5\",\"#B0BEC5\",\"#B0BEC5\",\"#B0BEC5\",\"#B0BEC5\",\"#B0BEC5\",\"#B0BEC5\",\"#B0BEC5\",\"#B0BEC5\",\"#B0BEC5\",\"#B0BEC5\",\"#B0BEC5\",\"red\",\"#B0BEC5\",\"#B0BEC5\",\"#B0BEC5\",\"#B0BEC5\",\"#B0BEC5\",\"#B0BEC5\",\"#B0BEC5\",\"#B0BEC5\",\"#B0BEC5\",\"#B0BEC5\",\"#B0BEC5\",\"#B0BEC5\",\"#B0BEC5\",\"#B0BEC5\",\"#B0BEC5\",\"#B0BEC5\",\"#B0BEC5\",\"#B0BEC5\",\"#B0BEC5\",\"#B0BEC5\",\"#B0BEC5\",\"#B0BEC5\",\"#B0BEC5\",\"#B0BEC5\",\"#B0BEC5\",\"#B0BEC5\",\"#B0BEC5\",\"#B0BEC5\",\"#B0BEC5\",\"#B0BEC5\",\"#B0BEC5\",\"#B0BEC5\",\"#B0BEC5\"]]}],\"label\":\"Topic 49\",\"method\":\"update\"},{\"args\":[{\"marker.color\":[[\"#B0BEC5\",\"#B0BEC5\",\"#B0BEC5\",\"#B0BEC5\",\"#B0BEC5\",\"#B0BEC5\",\"#B0BEC5\",\"#B0BEC5\",\"#B0BEC5\",\"#B0BEC5\",\"#B0BEC5\",\"#B0BEC5\",\"#B0BEC5\",\"#B0BEC5\",\"#B0BEC5\",\"#B0BEC5\",\"#B0BEC5\",\"#B0BEC5\",\"#B0BEC5\",\"#B0BEC5\",\"#B0BEC5\",\"#B0BEC5\",\"#B0BEC5\",\"#B0BEC5\",\"#B0BEC5\",\"#B0BEC5\",\"#B0BEC5\",\"#B0BEC5\",\"#B0BEC5\",\"#B0BEC5\",\"#B0BEC5\",\"#B0BEC5\",\"#B0BEC5\",\"#B0BEC5\",\"#B0BEC5\",\"#B0BEC5\",\"#B0BEC5\",\"#B0BEC5\",\"#B0BEC5\",\"#B0BEC5\",\"#B0BEC5\",\"#B0BEC5\",\"#B0BEC5\",\"#B0BEC5\",\"#B0BEC5\",\"#B0BEC5\",\"#B0BEC5\",\"#B0BEC5\",\"#B0BEC5\",\"#B0BEC5\",\"red\",\"#B0BEC5\",\"#B0BEC5\",\"#B0BEC5\",\"#B0BEC5\",\"#B0BEC5\",\"#B0BEC5\",\"#B0BEC5\",\"#B0BEC5\",\"#B0BEC5\",\"#B0BEC5\",\"#B0BEC5\",\"#B0BEC5\",\"#B0BEC5\",\"#B0BEC5\",\"#B0BEC5\",\"#B0BEC5\",\"#B0BEC5\",\"#B0BEC5\",\"#B0BEC5\",\"#B0BEC5\",\"#B0BEC5\",\"#B0BEC5\",\"#B0BEC5\",\"#B0BEC5\",\"#B0BEC5\",\"#B0BEC5\",\"#B0BEC5\",\"#B0BEC5\",\"#B0BEC5\",\"#B0BEC5\",\"#B0BEC5\",\"#B0BEC5\"]]}],\"label\":\"Topic 50\",\"method\":\"update\"},{\"args\":[{\"marker.color\":[[\"#B0BEC5\",\"#B0BEC5\",\"#B0BEC5\",\"#B0BEC5\",\"#B0BEC5\",\"#B0BEC5\",\"#B0BEC5\",\"#B0BEC5\",\"#B0BEC5\",\"#B0BEC5\",\"#B0BEC5\",\"#B0BEC5\",\"#B0BEC5\",\"#B0BEC5\",\"#B0BEC5\",\"#B0BEC5\",\"#B0BEC5\",\"#B0BEC5\",\"#B0BEC5\",\"#B0BEC5\",\"#B0BEC5\",\"#B0BEC5\",\"#B0BEC5\",\"#B0BEC5\",\"#B0BEC5\",\"#B0BEC5\",\"#B0BEC5\",\"#B0BEC5\",\"#B0BEC5\",\"#B0BEC5\",\"#B0BEC5\",\"#B0BEC5\",\"#B0BEC5\",\"#B0BEC5\",\"#B0BEC5\",\"#B0BEC5\",\"#B0BEC5\",\"#B0BEC5\",\"#B0BEC5\",\"#B0BEC5\",\"#B0BEC5\",\"#B0BEC5\",\"#B0BEC5\",\"#B0BEC5\",\"#B0BEC5\",\"#B0BEC5\",\"#B0BEC5\",\"#B0BEC5\",\"#B0BEC5\",\"#B0BEC5\",\"#B0BEC5\",\"red\",\"#B0BEC5\",\"#B0BEC5\",\"#B0BEC5\",\"#B0BEC5\",\"#B0BEC5\",\"#B0BEC5\",\"#B0BEC5\",\"#B0BEC5\",\"#B0BEC5\",\"#B0BEC5\",\"#B0BEC5\",\"#B0BEC5\",\"#B0BEC5\",\"#B0BEC5\",\"#B0BEC5\",\"#B0BEC5\",\"#B0BEC5\",\"#B0BEC5\",\"#B0BEC5\",\"#B0BEC5\",\"#B0BEC5\",\"#B0BEC5\",\"#B0BEC5\",\"#B0BEC5\",\"#B0BEC5\",\"#B0BEC5\",\"#B0BEC5\",\"#B0BEC5\",\"#B0BEC5\",\"#B0BEC5\",\"#B0BEC5\"]]}],\"label\":\"Topic 51\",\"method\":\"update\"},{\"args\":[{\"marker.color\":[[\"#B0BEC5\",\"#B0BEC5\",\"#B0BEC5\",\"#B0BEC5\",\"#B0BEC5\",\"#B0BEC5\",\"#B0BEC5\",\"#B0BEC5\",\"#B0BEC5\",\"#B0BEC5\",\"#B0BEC5\",\"#B0BEC5\",\"#B0BEC5\",\"#B0BEC5\",\"#B0BEC5\",\"#B0BEC5\",\"#B0BEC5\",\"#B0BEC5\",\"#B0BEC5\",\"#B0BEC5\",\"#B0BEC5\",\"#B0BEC5\",\"#B0BEC5\",\"#B0BEC5\",\"#B0BEC5\",\"#B0BEC5\",\"#B0BEC5\",\"#B0BEC5\",\"#B0BEC5\",\"#B0BEC5\",\"#B0BEC5\",\"#B0BEC5\",\"#B0BEC5\",\"#B0BEC5\",\"#B0BEC5\",\"#B0BEC5\",\"#B0BEC5\",\"#B0BEC5\",\"#B0BEC5\",\"#B0BEC5\",\"#B0BEC5\",\"#B0BEC5\",\"#B0BEC5\",\"#B0BEC5\",\"#B0BEC5\",\"#B0BEC5\",\"#B0BEC5\",\"#B0BEC5\",\"#B0BEC5\",\"#B0BEC5\",\"#B0BEC5\",\"#B0BEC5\",\"red\",\"#B0BEC5\",\"#B0BEC5\",\"#B0BEC5\",\"#B0BEC5\",\"#B0BEC5\",\"#B0BEC5\",\"#B0BEC5\",\"#B0BEC5\",\"#B0BEC5\",\"#B0BEC5\",\"#B0BEC5\",\"#B0BEC5\",\"#B0BEC5\",\"#B0BEC5\",\"#B0BEC5\",\"#B0BEC5\",\"#B0BEC5\",\"#B0BEC5\",\"#B0BEC5\",\"#B0BEC5\",\"#B0BEC5\",\"#B0BEC5\",\"#B0BEC5\",\"#B0BEC5\",\"#B0BEC5\",\"#B0BEC5\",\"#B0BEC5\",\"#B0BEC5\",\"#B0BEC5\",\"#B0BEC5\"]]}],\"label\":\"Topic 52\",\"method\":\"update\"},{\"args\":[{\"marker.color\":[[\"#B0BEC5\",\"#B0BEC5\",\"#B0BEC5\",\"#B0BEC5\",\"#B0BEC5\",\"#B0BEC5\",\"#B0BEC5\",\"#B0BEC5\",\"#B0BEC5\",\"#B0BEC5\",\"#B0BEC5\",\"#B0BEC5\",\"#B0BEC5\",\"#B0BEC5\",\"#B0BEC5\",\"#B0BEC5\",\"#B0BEC5\",\"#B0BEC5\",\"#B0BEC5\",\"#B0BEC5\",\"#B0BEC5\",\"#B0BEC5\",\"#B0BEC5\",\"#B0BEC5\",\"#B0BEC5\",\"#B0BEC5\",\"#B0BEC5\",\"#B0BEC5\",\"#B0BEC5\",\"#B0BEC5\",\"#B0BEC5\",\"#B0BEC5\",\"#B0BEC5\",\"#B0BEC5\",\"#B0BEC5\",\"#B0BEC5\",\"#B0BEC5\",\"#B0BEC5\",\"#B0BEC5\",\"#B0BEC5\",\"#B0BEC5\",\"#B0BEC5\",\"#B0BEC5\",\"#B0BEC5\",\"#B0BEC5\",\"#B0BEC5\",\"#B0BEC5\",\"#B0BEC5\",\"#B0BEC5\",\"#B0BEC5\",\"#B0BEC5\",\"#B0BEC5\",\"#B0BEC5\",\"red\",\"#B0BEC5\",\"#B0BEC5\",\"#B0BEC5\",\"#B0BEC5\",\"#B0BEC5\",\"#B0BEC5\",\"#B0BEC5\",\"#B0BEC5\",\"#B0BEC5\",\"#B0BEC5\",\"#B0BEC5\",\"#B0BEC5\",\"#B0BEC5\",\"#B0BEC5\",\"#B0BEC5\",\"#B0BEC5\",\"#B0BEC5\",\"#B0BEC5\",\"#B0BEC5\",\"#B0BEC5\",\"#B0BEC5\",\"#B0BEC5\",\"#B0BEC5\",\"#B0BEC5\",\"#B0BEC5\",\"#B0BEC5\",\"#B0BEC5\",\"#B0BEC5\",\"#B0BEC5\"]]}],\"label\":\"Topic 53\",\"method\":\"update\"},{\"args\":[{\"marker.color\":[[\"#B0BEC5\",\"#B0BEC5\",\"#B0BEC5\",\"#B0BEC5\",\"#B0BEC5\",\"#B0BEC5\",\"#B0BEC5\",\"#B0BEC5\",\"#B0BEC5\",\"#B0BEC5\",\"#B0BEC5\",\"#B0BEC5\",\"#B0BEC5\",\"#B0BEC5\",\"#B0BEC5\",\"#B0BEC5\",\"#B0BEC5\",\"#B0BEC5\",\"#B0BEC5\",\"#B0BEC5\",\"#B0BEC5\",\"#B0BEC5\",\"#B0BEC5\",\"#B0BEC5\",\"#B0BEC5\",\"#B0BEC5\",\"#B0BEC5\",\"#B0BEC5\",\"#B0BEC5\",\"#B0BEC5\",\"#B0BEC5\",\"#B0BEC5\",\"#B0BEC5\",\"#B0BEC5\",\"#B0BEC5\",\"#B0BEC5\",\"#B0BEC5\",\"#B0BEC5\",\"#B0BEC5\",\"#B0BEC5\",\"#B0BEC5\",\"#B0BEC5\",\"#B0BEC5\",\"#B0BEC5\",\"#B0BEC5\",\"#B0BEC5\",\"#B0BEC5\",\"#B0BEC5\",\"#B0BEC5\",\"#B0BEC5\",\"#B0BEC5\",\"#B0BEC5\",\"#B0BEC5\",\"#B0BEC5\",\"red\",\"#B0BEC5\",\"#B0BEC5\",\"#B0BEC5\",\"#B0BEC5\",\"#B0BEC5\",\"#B0BEC5\",\"#B0BEC5\",\"#B0BEC5\",\"#B0BEC5\",\"#B0BEC5\",\"#B0BEC5\",\"#B0BEC5\",\"#B0BEC5\",\"#B0BEC5\",\"#B0BEC5\",\"#B0BEC5\",\"#B0BEC5\",\"#B0BEC5\",\"#B0BEC5\",\"#B0BEC5\",\"#B0BEC5\",\"#B0BEC5\",\"#B0BEC5\",\"#B0BEC5\",\"#B0BEC5\",\"#B0BEC5\",\"#B0BEC5\",\"#B0BEC5\"]]}],\"label\":\"Topic 54\",\"method\":\"update\"},{\"args\":[{\"marker.color\":[[\"#B0BEC5\",\"#B0BEC5\",\"#B0BEC5\",\"#B0BEC5\",\"#B0BEC5\",\"#B0BEC5\",\"#B0BEC5\",\"#B0BEC5\",\"#B0BEC5\",\"#B0BEC5\",\"#B0BEC5\",\"#B0BEC5\",\"#B0BEC5\",\"#B0BEC5\",\"#B0BEC5\",\"#B0BEC5\",\"#B0BEC5\",\"#B0BEC5\",\"#B0BEC5\",\"#B0BEC5\",\"#B0BEC5\",\"#B0BEC5\",\"#B0BEC5\",\"#B0BEC5\",\"#B0BEC5\",\"#B0BEC5\",\"#B0BEC5\",\"#B0BEC5\",\"#B0BEC5\",\"#B0BEC5\",\"#B0BEC5\",\"#B0BEC5\",\"#B0BEC5\",\"#B0BEC5\",\"#B0BEC5\",\"#B0BEC5\",\"#B0BEC5\",\"#B0BEC5\",\"#B0BEC5\",\"#B0BEC5\",\"#B0BEC5\",\"#B0BEC5\",\"#B0BEC5\",\"#B0BEC5\",\"#B0BEC5\",\"#B0BEC5\",\"#B0BEC5\",\"#B0BEC5\",\"#B0BEC5\",\"#B0BEC5\",\"#B0BEC5\",\"#B0BEC5\",\"#B0BEC5\",\"#B0BEC5\",\"#B0BEC5\",\"red\",\"#B0BEC5\",\"#B0BEC5\",\"#B0BEC5\",\"#B0BEC5\",\"#B0BEC5\",\"#B0BEC5\",\"#B0BEC5\",\"#B0BEC5\",\"#B0BEC5\",\"#B0BEC5\",\"#B0BEC5\",\"#B0BEC5\",\"#B0BEC5\",\"#B0BEC5\",\"#B0BEC5\",\"#B0BEC5\",\"#B0BEC5\",\"#B0BEC5\",\"#B0BEC5\",\"#B0BEC5\",\"#B0BEC5\",\"#B0BEC5\",\"#B0BEC5\",\"#B0BEC5\",\"#B0BEC5\",\"#B0BEC5\",\"#B0BEC5\"]]}],\"label\":\"Topic 55\",\"method\":\"update\"},{\"args\":[{\"marker.color\":[[\"#B0BEC5\",\"#B0BEC5\",\"#B0BEC5\",\"#B0BEC5\",\"#B0BEC5\",\"#B0BEC5\",\"#B0BEC5\",\"#B0BEC5\",\"#B0BEC5\",\"#B0BEC5\",\"#B0BEC5\",\"#B0BEC5\",\"#B0BEC5\",\"#B0BEC5\",\"#B0BEC5\",\"#B0BEC5\",\"#B0BEC5\",\"#B0BEC5\",\"#B0BEC5\",\"#B0BEC5\",\"#B0BEC5\",\"#B0BEC5\",\"#B0BEC5\",\"#B0BEC5\",\"#B0BEC5\",\"#B0BEC5\",\"#B0BEC5\",\"#B0BEC5\",\"#B0BEC5\",\"#B0BEC5\",\"#B0BEC5\",\"#B0BEC5\",\"#B0BEC5\",\"#B0BEC5\",\"#B0BEC5\",\"#B0BEC5\",\"#B0BEC5\",\"#B0BEC5\",\"#B0BEC5\",\"#B0BEC5\",\"#B0BEC5\",\"#B0BEC5\",\"#B0BEC5\",\"#B0BEC5\",\"#B0BEC5\",\"#B0BEC5\",\"#B0BEC5\",\"#B0BEC5\",\"#B0BEC5\",\"#B0BEC5\",\"#B0BEC5\",\"#B0BEC5\",\"#B0BEC5\",\"#B0BEC5\",\"#B0BEC5\",\"#B0BEC5\",\"red\",\"#B0BEC5\",\"#B0BEC5\",\"#B0BEC5\",\"#B0BEC5\",\"#B0BEC5\",\"#B0BEC5\",\"#B0BEC5\",\"#B0BEC5\",\"#B0BEC5\",\"#B0BEC5\",\"#B0BEC5\",\"#B0BEC5\",\"#B0BEC5\",\"#B0BEC5\",\"#B0BEC5\",\"#B0BEC5\",\"#B0BEC5\",\"#B0BEC5\",\"#B0BEC5\",\"#B0BEC5\",\"#B0BEC5\",\"#B0BEC5\",\"#B0BEC5\",\"#B0BEC5\",\"#B0BEC5\",\"#B0BEC5\"]]}],\"label\":\"Topic 56\",\"method\":\"update\"},{\"args\":[{\"marker.color\":[[\"#B0BEC5\",\"#B0BEC5\",\"#B0BEC5\",\"#B0BEC5\",\"#B0BEC5\",\"#B0BEC5\",\"#B0BEC5\",\"#B0BEC5\",\"#B0BEC5\",\"#B0BEC5\",\"#B0BEC5\",\"#B0BEC5\",\"#B0BEC5\",\"#B0BEC5\",\"#B0BEC5\",\"#B0BEC5\",\"#B0BEC5\",\"#B0BEC5\",\"#B0BEC5\",\"#B0BEC5\",\"#B0BEC5\",\"#B0BEC5\",\"#B0BEC5\",\"#B0BEC5\",\"#B0BEC5\",\"#B0BEC5\",\"#B0BEC5\",\"#B0BEC5\",\"#B0BEC5\",\"#B0BEC5\",\"#B0BEC5\",\"#B0BEC5\",\"#B0BEC5\",\"#B0BEC5\",\"#B0BEC5\",\"#B0BEC5\",\"#B0BEC5\",\"#B0BEC5\",\"#B0BEC5\",\"#B0BEC5\",\"#B0BEC5\",\"#B0BEC5\",\"#B0BEC5\",\"#B0BEC5\",\"#B0BEC5\",\"#B0BEC5\",\"#B0BEC5\",\"#B0BEC5\",\"#B0BEC5\",\"#B0BEC5\",\"#B0BEC5\",\"#B0BEC5\",\"#B0BEC5\",\"#B0BEC5\",\"#B0BEC5\",\"#B0BEC5\",\"#B0BEC5\",\"red\",\"#B0BEC5\",\"#B0BEC5\",\"#B0BEC5\",\"#B0BEC5\",\"#B0BEC5\",\"#B0BEC5\",\"#B0BEC5\",\"#B0BEC5\",\"#B0BEC5\",\"#B0BEC5\",\"#B0BEC5\",\"#B0BEC5\",\"#B0BEC5\",\"#B0BEC5\",\"#B0BEC5\",\"#B0BEC5\",\"#B0BEC5\",\"#B0BEC5\",\"#B0BEC5\",\"#B0BEC5\",\"#B0BEC5\",\"#B0BEC5\",\"#B0BEC5\",\"#B0BEC5\",\"#B0BEC5\"]]}],\"label\":\"Topic 57\",\"method\":\"update\"},{\"args\":[{\"marker.color\":[[\"#B0BEC5\",\"#B0BEC5\",\"#B0BEC5\",\"#B0BEC5\",\"#B0BEC5\",\"#B0BEC5\",\"#B0BEC5\",\"#B0BEC5\",\"#B0BEC5\",\"#B0BEC5\",\"#B0BEC5\",\"#B0BEC5\",\"#B0BEC5\",\"#B0BEC5\",\"#B0BEC5\",\"#B0BEC5\",\"#B0BEC5\",\"#B0BEC5\",\"#B0BEC5\",\"#B0BEC5\",\"#B0BEC5\",\"#B0BEC5\",\"#B0BEC5\",\"#B0BEC5\",\"#B0BEC5\",\"#B0BEC5\",\"#B0BEC5\",\"#B0BEC5\",\"#B0BEC5\",\"#B0BEC5\",\"#B0BEC5\",\"#B0BEC5\",\"#B0BEC5\",\"#B0BEC5\",\"#B0BEC5\",\"#B0BEC5\",\"#B0BEC5\",\"#B0BEC5\",\"#B0BEC5\",\"#B0BEC5\",\"#B0BEC5\",\"#B0BEC5\",\"#B0BEC5\",\"#B0BEC5\",\"#B0BEC5\",\"#B0BEC5\",\"#B0BEC5\",\"#B0BEC5\",\"#B0BEC5\",\"#B0BEC5\",\"#B0BEC5\",\"#B0BEC5\",\"#B0BEC5\",\"#B0BEC5\",\"#B0BEC5\",\"#B0BEC5\",\"#B0BEC5\",\"#B0BEC5\",\"red\",\"#B0BEC5\",\"#B0BEC5\",\"#B0BEC5\",\"#B0BEC5\",\"#B0BEC5\",\"#B0BEC5\",\"#B0BEC5\",\"#B0BEC5\",\"#B0BEC5\",\"#B0BEC5\",\"#B0BEC5\",\"#B0BEC5\",\"#B0BEC5\",\"#B0BEC5\",\"#B0BEC5\",\"#B0BEC5\",\"#B0BEC5\",\"#B0BEC5\",\"#B0BEC5\",\"#B0BEC5\",\"#B0BEC5\",\"#B0BEC5\",\"#B0BEC5\",\"#B0BEC5\"]]}],\"label\":\"Topic 58\",\"method\":\"update\"},{\"args\":[{\"marker.color\":[[\"#B0BEC5\",\"#B0BEC5\",\"#B0BEC5\",\"#B0BEC5\",\"#B0BEC5\",\"#B0BEC5\",\"#B0BEC5\",\"#B0BEC5\",\"#B0BEC5\",\"#B0BEC5\",\"#B0BEC5\",\"#B0BEC5\",\"#B0BEC5\",\"#B0BEC5\",\"#B0BEC5\",\"#B0BEC5\",\"#B0BEC5\",\"#B0BEC5\",\"#B0BEC5\",\"#B0BEC5\",\"#B0BEC5\",\"#B0BEC5\",\"#B0BEC5\",\"#B0BEC5\",\"#B0BEC5\",\"#B0BEC5\",\"#B0BEC5\",\"#B0BEC5\",\"#B0BEC5\",\"#B0BEC5\",\"#B0BEC5\",\"#B0BEC5\",\"#B0BEC5\",\"#B0BEC5\",\"#B0BEC5\",\"#B0BEC5\",\"#B0BEC5\",\"#B0BEC5\",\"#B0BEC5\",\"#B0BEC5\",\"#B0BEC5\",\"#B0BEC5\",\"#B0BEC5\",\"#B0BEC5\",\"#B0BEC5\",\"#B0BEC5\",\"#B0BEC5\",\"#B0BEC5\",\"#B0BEC5\",\"#B0BEC5\",\"#B0BEC5\",\"#B0BEC5\",\"#B0BEC5\",\"#B0BEC5\",\"#B0BEC5\",\"#B0BEC5\",\"#B0BEC5\",\"#B0BEC5\",\"#B0BEC5\",\"red\",\"#B0BEC5\",\"#B0BEC5\",\"#B0BEC5\",\"#B0BEC5\",\"#B0BEC5\",\"#B0BEC5\",\"#B0BEC5\",\"#B0BEC5\",\"#B0BEC5\",\"#B0BEC5\",\"#B0BEC5\",\"#B0BEC5\",\"#B0BEC5\",\"#B0BEC5\",\"#B0BEC5\",\"#B0BEC5\",\"#B0BEC5\",\"#B0BEC5\",\"#B0BEC5\",\"#B0BEC5\",\"#B0BEC5\",\"#B0BEC5\",\"#B0BEC5\"]]}],\"label\":\"Topic 59\",\"method\":\"update\"},{\"args\":[{\"marker.color\":[[\"#B0BEC5\",\"#B0BEC5\",\"#B0BEC5\",\"#B0BEC5\",\"#B0BEC5\",\"#B0BEC5\",\"#B0BEC5\",\"#B0BEC5\",\"#B0BEC5\",\"#B0BEC5\",\"#B0BEC5\",\"#B0BEC5\",\"#B0BEC5\",\"#B0BEC5\",\"#B0BEC5\",\"#B0BEC5\",\"#B0BEC5\",\"#B0BEC5\",\"#B0BEC5\",\"#B0BEC5\",\"#B0BEC5\",\"#B0BEC5\",\"#B0BEC5\",\"#B0BEC5\",\"#B0BEC5\",\"#B0BEC5\",\"#B0BEC5\",\"#B0BEC5\",\"#B0BEC5\",\"#B0BEC5\",\"#B0BEC5\",\"#B0BEC5\",\"#B0BEC5\",\"#B0BEC5\",\"#B0BEC5\",\"#B0BEC5\",\"#B0BEC5\",\"#B0BEC5\",\"#B0BEC5\",\"#B0BEC5\",\"#B0BEC5\",\"#B0BEC5\",\"#B0BEC5\",\"#B0BEC5\",\"#B0BEC5\",\"#B0BEC5\",\"#B0BEC5\",\"#B0BEC5\",\"#B0BEC5\",\"#B0BEC5\",\"#B0BEC5\",\"#B0BEC5\",\"#B0BEC5\",\"#B0BEC5\",\"#B0BEC5\",\"#B0BEC5\",\"#B0BEC5\",\"#B0BEC5\",\"#B0BEC5\",\"#B0BEC5\",\"red\",\"#B0BEC5\",\"#B0BEC5\",\"#B0BEC5\",\"#B0BEC5\",\"#B0BEC5\",\"#B0BEC5\",\"#B0BEC5\",\"#B0BEC5\",\"#B0BEC5\",\"#B0BEC5\",\"#B0BEC5\",\"#B0BEC5\",\"#B0BEC5\",\"#B0BEC5\",\"#B0BEC5\",\"#B0BEC5\",\"#B0BEC5\",\"#B0BEC5\",\"#B0BEC5\",\"#B0BEC5\",\"#B0BEC5\",\"#B0BEC5\"]]}],\"label\":\"Topic 60\",\"method\":\"update\"},{\"args\":[{\"marker.color\":[[\"#B0BEC5\",\"#B0BEC5\",\"#B0BEC5\",\"#B0BEC5\",\"#B0BEC5\",\"#B0BEC5\",\"#B0BEC5\",\"#B0BEC5\",\"#B0BEC5\",\"#B0BEC5\",\"#B0BEC5\",\"#B0BEC5\",\"#B0BEC5\",\"#B0BEC5\",\"#B0BEC5\",\"#B0BEC5\",\"#B0BEC5\",\"#B0BEC5\",\"#B0BEC5\",\"#B0BEC5\",\"#B0BEC5\",\"#B0BEC5\",\"#B0BEC5\",\"#B0BEC5\",\"#B0BEC5\",\"#B0BEC5\",\"#B0BEC5\",\"#B0BEC5\",\"#B0BEC5\",\"#B0BEC5\",\"#B0BEC5\",\"#B0BEC5\",\"#B0BEC5\",\"#B0BEC5\",\"#B0BEC5\",\"#B0BEC5\",\"#B0BEC5\",\"#B0BEC5\",\"#B0BEC5\",\"#B0BEC5\",\"#B0BEC5\",\"#B0BEC5\",\"#B0BEC5\",\"#B0BEC5\",\"#B0BEC5\",\"#B0BEC5\",\"#B0BEC5\",\"#B0BEC5\",\"#B0BEC5\",\"#B0BEC5\",\"#B0BEC5\",\"#B0BEC5\",\"#B0BEC5\",\"#B0BEC5\",\"#B0BEC5\",\"#B0BEC5\",\"#B0BEC5\",\"#B0BEC5\",\"#B0BEC5\",\"#B0BEC5\",\"#B0BEC5\",\"red\",\"#B0BEC5\",\"#B0BEC5\",\"#B0BEC5\",\"#B0BEC5\",\"#B0BEC5\",\"#B0BEC5\",\"#B0BEC5\",\"#B0BEC5\",\"#B0BEC5\",\"#B0BEC5\",\"#B0BEC5\",\"#B0BEC5\",\"#B0BEC5\",\"#B0BEC5\",\"#B0BEC5\",\"#B0BEC5\",\"#B0BEC5\",\"#B0BEC5\",\"#B0BEC5\",\"#B0BEC5\",\"#B0BEC5\"]]}],\"label\":\"Topic 61\",\"method\":\"update\"},{\"args\":[{\"marker.color\":[[\"#B0BEC5\",\"#B0BEC5\",\"#B0BEC5\",\"#B0BEC5\",\"#B0BEC5\",\"#B0BEC5\",\"#B0BEC5\",\"#B0BEC5\",\"#B0BEC5\",\"#B0BEC5\",\"#B0BEC5\",\"#B0BEC5\",\"#B0BEC5\",\"#B0BEC5\",\"#B0BEC5\",\"#B0BEC5\",\"#B0BEC5\",\"#B0BEC5\",\"#B0BEC5\",\"#B0BEC5\",\"#B0BEC5\",\"#B0BEC5\",\"#B0BEC5\",\"#B0BEC5\",\"#B0BEC5\",\"#B0BEC5\",\"#B0BEC5\",\"#B0BEC5\",\"#B0BEC5\",\"#B0BEC5\",\"#B0BEC5\",\"#B0BEC5\",\"#B0BEC5\",\"#B0BEC5\",\"#B0BEC5\",\"#B0BEC5\",\"#B0BEC5\",\"#B0BEC5\",\"#B0BEC5\",\"#B0BEC5\",\"#B0BEC5\",\"#B0BEC5\",\"#B0BEC5\",\"#B0BEC5\",\"#B0BEC5\",\"#B0BEC5\",\"#B0BEC5\",\"#B0BEC5\",\"#B0BEC5\",\"#B0BEC5\",\"#B0BEC5\",\"#B0BEC5\",\"#B0BEC5\",\"#B0BEC5\",\"#B0BEC5\",\"#B0BEC5\",\"#B0BEC5\",\"#B0BEC5\",\"#B0BEC5\",\"#B0BEC5\",\"#B0BEC5\",\"#B0BEC5\",\"red\",\"#B0BEC5\",\"#B0BEC5\",\"#B0BEC5\",\"#B0BEC5\",\"#B0BEC5\",\"#B0BEC5\",\"#B0BEC5\",\"#B0BEC5\",\"#B0BEC5\",\"#B0BEC5\",\"#B0BEC5\",\"#B0BEC5\",\"#B0BEC5\",\"#B0BEC5\",\"#B0BEC5\",\"#B0BEC5\",\"#B0BEC5\",\"#B0BEC5\",\"#B0BEC5\",\"#B0BEC5\"]]}],\"label\":\"Topic 62\",\"method\":\"update\"},{\"args\":[{\"marker.color\":[[\"#B0BEC5\",\"#B0BEC5\",\"#B0BEC5\",\"#B0BEC5\",\"#B0BEC5\",\"#B0BEC5\",\"#B0BEC5\",\"#B0BEC5\",\"#B0BEC5\",\"#B0BEC5\",\"#B0BEC5\",\"#B0BEC5\",\"#B0BEC5\",\"#B0BEC5\",\"#B0BEC5\",\"#B0BEC5\",\"#B0BEC5\",\"#B0BEC5\",\"#B0BEC5\",\"#B0BEC5\",\"#B0BEC5\",\"#B0BEC5\",\"#B0BEC5\",\"#B0BEC5\",\"#B0BEC5\",\"#B0BEC5\",\"#B0BEC5\",\"#B0BEC5\",\"#B0BEC5\",\"#B0BEC5\",\"#B0BEC5\",\"#B0BEC5\",\"#B0BEC5\",\"#B0BEC5\",\"#B0BEC5\",\"#B0BEC5\",\"#B0BEC5\",\"#B0BEC5\",\"#B0BEC5\",\"#B0BEC5\",\"#B0BEC5\",\"#B0BEC5\",\"#B0BEC5\",\"#B0BEC5\",\"#B0BEC5\",\"#B0BEC5\",\"#B0BEC5\",\"#B0BEC5\",\"#B0BEC5\",\"#B0BEC5\",\"#B0BEC5\",\"#B0BEC5\",\"#B0BEC5\",\"#B0BEC5\",\"#B0BEC5\",\"#B0BEC5\",\"#B0BEC5\",\"#B0BEC5\",\"#B0BEC5\",\"#B0BEC5\",\"#B0BEC5\",\"#B0BEC5\",\"#B0BEC5\",\"red\",\"#B0BEC5\",\"#B0BEC5\",\"#B0BEC5\",\"#B0BEC5\",\"#B0BEC5\",\"#B0BEC5\",\"#B0BEC5\",\"#B0BEC5\",\"#B0BEC5\",\"#B0BEC5\",\"#B0BEC5\",\"#B0BEC5\",\"#B0BEC5\",\"#B0BEC5\",\"#B0BEC5\",\"#B0BEC5\",\"#B0BEC5\",\"#B0BEC5\",\"#B0BEC5\"]]}],\"label\":\"Topic 63\",\"method\":\"update\"},{\"args\":[{\"marker.color\":[[\"#B0BEC5\",\"#B0BEC5\",\"#B0BEC5\",\"#B0BEC5\",\"#B0BEC5\",\"#B0BEC5\",\"#B0BEC5\",\"#B0BEC5\",\"#B0BEC5\",\"#B0BEC5\",\"#B0BEC5\",\"#B0BEC5\",\"#B0BEC5\",\"#B0BEC5\",\"#B0BEC5\",\"#B0BEC5\",\"#B0BEC5\",\"#B0BEC5\",\"#B0BEC5\",\"#B0BEC5\",\"#B0BEC5\",\"#B0BEC5\",\"#B0BEC5\",\"#B0BEC5\",\"#B0BEC5\",\"#B0BEC5\",\"#B0BEC5\",\"#B0BEC5\",\"#B0BEC5\",\"#B0BEC5\",\"#B0BEC5\",\"#B0BEC5\",\"#B0BEC5\",\"#B0BEC5\",\"#B0BEC5\",\"#B0BEC5\",\"#B0BEC5\",\"#B0BEC5\",\"#B0BEC5\",\"#B0BEC5\",\"#B0BEC5\",\"#B0BEC5\",\"#B0BEC5\",\"#B0BEC5\",\"#B0BEC5\",\"#B0BEC5\",\"#B0BEC5\",\"#B0BEC5\",\"#B0BEC5\",\"#B0BEC5\",\"#B0BEC5\",\"#B0BEC5\",\"#B0BEC5\",\"#B0BEC5\",\"#B0BEC5\",\"#B0BEC5\",\"#B0BEC5\",\"#B0BEC5\",\"#B0BEC5\",\"#B0BEC5\",\"#B0BEC5\",\"#B0BEC5\",\"#B0BEC5\",\"#B0BEC5\",\"red\",\"#B0BEC5\",\"#B0BEC5\",\"#B0BEC5\",\"#B0BEC5\",\"#B0BEC5\",\"#B0BEC5\",\"#B0BEC5\",\"#B0BEC5\",\"#B0BEC5\",\"#B0BEC5\",\"#B0BEC5\",\"#B0BEC5\",\"#B0BEC5\",\"#B0BEC5\",\"#B0BEC5\",\"#B0BEC5\",\"#B0BEC5\",\"#B0BEC5\"]]}],\"label\":\"Topic 64\",\"method\":\"update\"},{\"args\":[{\"marker.color\":[[\"#B0BEC5\",\"#B0BEC5\",\"#B0BEC5\",\"#B0BEC5\",\"#B0BEC5\",\"#B0BEC5\",\"#B0BEC5\",\"#B0BEC5\",\"#B0BEC5\",\"#B0BEC5\",\"#B0BEC5\",\"#B0BEC5\",\"#B0BEC5\",\"#B0BEC5\",\"#B0BEC5\",\"#B0BEC5\",\"#B0BEC5\",\"#B0BEC5\",\"#B0BEC5\",\"#B0BEC5\",\"#B0BEC5\",\"#B0BEC5\",\"#B0BEC5\",\"#B0BEC5\",\"#B0BEC5\",\"#B0BEC5\",\"#B0BEC5\",\"#B0BEC5\",\"#B0BEC5\",\"#B0BEC5\",\"#B0BEC5\",\"#B0BEC5\",\"#B0BEC5\",\"#B0BEC5\",\"#B0BEC5\",\"#B0BEC5\",\"#B0BEC5\",\"#B0BEC5\",\"#B0BEC5\",\"#B0BEC5\",\"#B0BEC5\",\"#B0BEC5\",\"#B0BEC5\",\"#B0BEC5\",\"#B0BEC5\",\"#B0BEC5\",\"#B0BEC5\",\"#B0BEC5\",\"#B0BEC5\",\"#B0BEC5\",\"#B0BEC5\",\"#B0BEC5\",\"#B0BEC5\",\"#B0BEC5\",\"#B0BEC5\",\"#B0BEC5\",\"#B0BEC5\",\"#B0BEC5\",\"#B0BEC5\",\"#B0BEC5\",\"#B0BEC5\",\"#B0BEC5\",\"#B0BEC5\",\"#B0BEC5\",\"#B0BEC5\",\"red\",\"#B0BEC5\",\"#B0BEC5\",\"#B0BEC5\",\"#B0BEC5\",\"#B0BEC5\",\"#B0BEC5\",\"#B0BEC5\",\"#B0BEC5\",\"#B0BEC5\",\"#B0BEC5\",\"#B0BEC5\",\"#B0BEC5\",\"#B0BEC5\",\"#B0BEC5\",\"#B0BEC5\",\"#B0BEC5\",\"#B0BEC5\"]]}],\"label\":\"Topic 65\",\"method\":\"update\"},{\"args\":[{\"marker.color\":[[\"#B0BEC5\",\"#B0BEC5\",\"#B0BEC5\",\"#B0BEC5\",\"#B0BEC5\",\"#B0BEC5\",\"#B0BEC5\",\"#B0BEC5\",\"#B0BEC5\",\"#B0BEC5\",\"#B0BEC5\",\"#B0BEC5\",\"#B0BEC5\",\"#B0BEC5\",\"#B0BEC5\",\"#B0BEC5\",\"#B0BEC5\",\"#B0BEC5\",\"#B0BEC5\",\"#B0BEC5\",\"#B0BEC5\",\"#B0BEC5\",\"#B0BEC5\",\"#B0BEC5\",\"#B0BEC5\",\"#B0BEC5\",\"#B0BEC5\",\"#B0BEC5\",\"#B0BEC5\",\"#B0BEC5\",\"#B0BEC5\",\"#B0BEC5\",\"#B0BEC5\",\"#B0BEC5\",\"#B0BEC5\",\"#B0BEC5\",\"#B0BEC5\",\"#B0BEC5\",\"#B0BEC5\",\"#B0BEC5\",\"#B0BEC5\",\"#B0BEC5\",\"#B0BEC5\",\"#B0BEC5\",\"#B0BEC5\",\"#B0BEC5\",\"#B0BEC5\",\"#B0BEC5\",\"#B0BEC5\",\"#B0BEC5\",\"#B0BEC5\",\"#B0BEC5\",\"#B0BEC5\",\"#B0BEC5\",\"#B0BEC5\",\"#B0BEC5\",\"#B0BEC5\",\"#B0BEC5\",\"#B0BEC5\",\"#B0BEC5\",\"#B0BEC5\",\"#B0BEC5\",\"#B0BEC5\",\"#B0BEC5\",\"#B0BEC5\",\"#B0BEC5\",\"red\",\"#B0BEC5\",\"#B0BEC5\",\"#B0BEC5\",\"#B0BEC5\",\"#B0BEC5\",\"#B0BEC5\",\"#B0BEC5\",\"#B0BEC5\",\"#B0BEC5\",\"#B0BEC5\",\"#B0BEC5\",\"#B0BEC5\",\"#B0BEC5\",\"#B0BEC5\",\"#B0BEC5\",\"#B0BEC5\"]]}],\"label\":\"Topic 66\",\"method\":\"update\"},{\"args\":[{\"marker.color\":[[\"#B0BEC5\",\"#B0BEC5\",\"#B0BEC5\",\"#B0BEC5\",\"#B0BEC5\",\"#B0BEC5\",\"#B0BEC5\",\"#B0BEC5\",\"#B0BEC5\",\"#B0BEC5\",\"#B0BEC5\",\"#B0BEC5\",\"#B0BEC5\",\"#B0BEC5\",\"#B0BEC5\",\"#B0BEC5\",\"#B0BEC5\",\"#B0BEC5\",\"#B0BEC5\",\"#B0BEC5\",\"#B0BEC5\",\"#B0BEC5\",\"#B0BEC5\",\"#B0BEC5\",\"#B0BEC5\",\"#B0BEC5\",\"#B0BEC5\",\"#B0BEC5\",\"#B0BEC5\",\"#B0BEC5\",\"#B0BEC5\",\"#B0BEC5\",\"#B0BEC5\",\"#B0BEC5\",\"#B0BEC5\",\"#B0BEC5\",\"#B0BEC5\",\"#B0BEC5\",\"#B0BEC5\",\"#B0BEC5\",\"#B0BEC5\",\"#B0BEC5\",\"#B0BEC5\",\"#B0BEC5\",\"#B0BEC5\",\"#B0BEC5\",\"#B0BEC5\",\"#B0BEC5\",\"#B0BEC5\",\"#B0BEC5\",\"#B0BEC5\",\"#B0BEC5\",\"#B0BEC5\",\"#B0BEC5\",\"#B0BEC5\",\"#B0BEC5\",\"#B0BEC5\",\"#B0BEC5\",\"#B0BEC5\",\"#B0BEC5\",\"#B0BEC5\",\"#B0BEC5\",\"#B0BEC5\",\"#B0BEC5\",\"#B0BEC5\",\"#B0BEC5\",\"#B0BEC5\",\"red\",\"#B0BEC5\",\"#B0BEC5\",\"#B0BEC5\",\"#B0BEC5\",\"#B0BEC5\",\"#B0BEC5\",\"#B0BEC5\",\"#B0BEC5\",\"#B0BEC5\",\"#B0BEC5\",\"#B0BEC5\",\"#B0BEC5\",\"#B0BEC5\",\"#B0BEC5\",\"#B0BEC5\"]]}],\"label\":\"Topic 67\",\"method\":\"update\"},{\"args\":[{\"marker.color\":[[\"#B0BEC5\",\"#B0BEC5\",\"#B0BEC5\",\"#B0BEC5\",\"#B0BEC5\",\"#B0BEC5\",\"#B0BEC5\",\"#B0BEC5\",\"#B0BEC5\",\"#B0BEC5\",\"#B0BEC5\",\"#B0BEC5\",\"#B0BEC5\",\"#B0BEC5\",\"#B0BEC5\",\"#B0BEC5\",\"#B0BEC5\",\"#B0BEC5\",\"#B0BEC5\",\"#B0BEC5\",\"#B0BEC5\",\"#B0BEC5\",\"#B0BEC5\",\"#B0BEC5\",\"#B0BEC5\",\"#B0BEC5\",\"#B0BEC5\",\"#B0BEC5\",\"#B0BEC5\",\"#B0BEC5\",\"#B0BEC5\",\"#B0BEC5\",\"#B0BEC5\",\"#B0BEC5\",\"#B0BEC5\",\"#B0BEC5\",\"#B0BEC5\",\"#B0BEC5\",\"#B0BEC5\",\"#B0BEC5\",\"#B0BEC5\",\"#B0BEC5\",\"#B0BEC5\",\"#B0BEC5\",\"#B0BEC5\",\"#B0BEC5\",\"#B0BEC5\",\"#B0BEC5\",\"#B0BEC5\",\"#B0BEC5\",\"#B0BEC5\",\"#B0BEC5\",\"#B0BEC5\",\"#B0BEC5\",\"#B0BEC5\",\"#B0BEC5\",\"#B0BEC5\",\"#B0BEC5\",\"#B0BEC5\",\"#B0BEC5\",\"#B0BEC5\",\"#B0BEC5\",\"#B0BEC5\",\"#B0BEC5\",\"#B0BEC5\",\"#B0BEC5\",\"#B0BEC5\",\"#B0BEC5\",\"red\",\"#B0BEC5\",\"#B0BEC5\",\"#B0BEC5\",\"#B0BEC5\",\"#B0BEC5\",\"#B0BEC5\",\"#B0BEC5\",\"#B0BEC5\",\"#B0BEC5\",\"#B0BEC5\",\"#B0BEC5\",\"#B0BEC5\",\"#B0BEC5\",\"#B0BEC5\"]]}],\"label\":\"Topic 68\",\"method\":\"update\"},{\"args\":[{\"marker.color\":[[\"#B0BEC5\",\"#B0BEC5\",\"#B0BEC5\",\"#B0BEC5\",\"#B0BEC5\",\"#B0BEC5\",\"#B0BEC5\",\"#B0BEC5\",\"#B0BEC5\",\"#B0BEC5\",\"#B0BEC5\",\"#B0BEC5\",\"#B0BEC5\",\"#B0BEC5\",\"#B0BEC5\",\"#B0BEC5\",\"#B0BEC5\",\"#B0BEC5\",\"#B0BEC5\",\"#B0BEC5\",\"#B0BEC5\",\"#B0BEC5\",\"#B0BEC5\",\"#B0BEC5\",\"#B0BEC5\",\"#B0BEC5\",\"#B0BEC5\",\"#B0BEC5\",\"#B0BEC5\",\"#B0BEC5\",\"#B0BEC5\",\"#B0BEC5\",\"#B0BEC5\",\"#B0BEC5\",\"#B0BEC5\",\"#B0BEC5\",\"#B0BEC5\",\"#B0BEC5\",\"#B0BEC5\",\"#B0BEC5\",\"#B0BEC5\",\"#B0BEC5\",\"#B0BEC5\",\"#B0BEC5\",\"#B0BEC5\",\"#B0BEC5\",\"#B0BEC5\",\"#B0BEC5\",\"#B0BEC5\",\"#B0BEC5\",\"#B0BEC5\",\"#B0BEC5\",\"#B0BEC5\",\"#B0BEC5\",\"#B0BEC5\",\"#B0BEC5\",\"#B0BEC5\",\"#B0BEC5\",\"#B0BEC5\",\"#B0BEC5\",\"#B0BEC5\",\"#B0BEC5\",\"#B0BEC5\",\"#B0BEC5\",\"#B0BEC5\",\"#B0BEC5\",\"#B0BEC5\",\"#B0BEC5\",\"#B0BEC5\",\"red\",\"#B0BEC5\",\"#B0BEC5\",\"#B0BEC5\",\"#B0BEC5\",\"#B0BEC5\",\"#B0BEC5\",\"#B0BEC5\",\"#B0BEC5\",\"#B0BEC5\",\"#B0BEC5\",\"#B0BEC5\",\"#B0BEC5\",\"#B0BEC5\"]]}],\"label\":\"Topic 69\",\"method\":\"update\"},{\"args\":[{\"marker.color\":[[\"#B0BEC5\",\"#B0BEC5\",\"#B0BEC5\",\"#B0BEC5\",\"#B0BEC5\",\"#B0BEC5\",\"#B0BEC5\",\"#B0BEC5\",\"#B0BEC5\",\"#B0BEC5\",\"#B0BEC5\",\"#B0BEC5\",\"#B0BEC5\",\"#B0BEC5\",\"#B0BEC5\",\"#B0BEC5\",\"#B0BEC5\",\"#B0BEC5\",\"#B0BEC5\",\"#B0BEC5\",\"#B0BEC5\",\"#B0BEC5\",\"#B0BEC5\",\"#B0BEC5\",\"#B0BEC5\",\"#B0BEC5\",\"#B0BEC5\",\"#B0BEC5\",\"#B0BEC5\",\"#B0BEC5\",\"#B0BEC5\",\"#B0BEC5\",\"#B0BEC5\",\"#B0BEC5\",\"#B0BEC5\",\"#B0BEC5\",\"#B0BEC5\",\"#B0BEC5\",\"#B0BEC5\",\"#B0BEC5\",\"#B0BEC5\",\"#B0BEC5\",\"#B0BEC5\",\"#B0BEC5\",\"#B0BEC5\",\"#B0BEC5\",\"#B0BEC5\",\"#B0BEC5\",\"#B0BEC5\",\"#B0BEC5\",\"#B0BEC5\",\"#B0BEC5\",\"#B0BEC5\",\"#B0BEC5\",\"#B0BEC5\",\"#B0BEC5\",\"#B0BEC5\",\"#B0BEC5\",\"#B0BEC5\",\"#B0BEC5\",\"#B0BEC5\",\"#B0BEC5\",\"#B0BEC5\",\"#B0BEC5\",\"#B0BEC5\",\"#B0BEC5\",\"#B0BEC5\",\"#B0BEC5\",\"#B0BEC5\",\"#B0BEC5\",\"red\",\"#B0BEC5\",\"#B0BEC5\",\"#B0BEC5\",\"#B0BEC5\",\"#B0BEC5\",\"#B0BEC5\",\"#B0BEC5\",\"#B0BEC5\",\"#B0BEC5\",\"#B0BEC5\",\"#B0BEC5\",\"#B0BEC5\"]]}],\"label\":\"Topic 70\",\"method\":\"update\"},{\"args\":[{\"marker.color\":[[\"#B0BEC5\",\"#B0BEC5\",\"#B0BEC5\",\"#B0BEC5\",\"#B0BEC5\",\"#B0BEC5\",\"#B0BEC5\",\"#B0BEC5\",\"#B0BEC5\",\"#B0BEC5\",\"#B0BEC5\",\"#B0BEC5\",\"#B0BEC5\",\"#B0BEC5\",\"#B0BEC5\",\"#B0BEC5\",\"#B0BEC5\",\"#B0BEC5\",\"#B0BEC5\",\"#B0BEC5\",\"#B0BEC5\",\"#B0BEC5\",\"#B0BEC5\",\"#B0BEC5\",\"#B0BEC5\",\"#B0BEC5\",\"#B0BEC5\",\"#B0BEC5\",\"#B0BEC5\",\"#B0BEC5\",\"#B0BEC5\",\"#B0BEC5\",\"#B0BEC5\",\"#B0BEC5\",\"#B0BEC5\",\"#B0BEC5\",\"#B0BEC5\",\"#B0BEC5\",\"#B0BEC5\",\"#B0BEC5\",\"#B0BEC5\",\"#B0BEC5\",\"#B0BEC5\",\"#B0BEC5\",\"#B0BEC5\",\"#B0BEC5\",\"#B0BEC5\",\"#B0BEC5\",\"#B0BEC5\",\"#B0BEC5\",\"#B0BEC5\",\"#B0BEC5\",\"#B0BEC5\",\"#B0BEC5\",\"#B0BEC5\",\"#B0BEC5\",\"#B0BEC5\",\"#B0BEC5\",\"#B0BEC5\",\"#B0BEC5\",\"#B0BEC5\",\"#B0BEC5\",\"#B0BEC5\",\"#B0BEC5\",\"#B0BEC5\",\"#B0BEC5\",\"#B0BEC5\",\"#B0BEC5\",\"#B0BEC5\",\"#B0BEC5\",\"#B0BEC5\",\"red\",\"#B0BEC5\",\"#B0BEC5\",\"#B0BEC5\",\"#B0BEC5\",\"#B0BEC5\",\"#B0BEC5\",\"#B0BEC5\",\"#B0BEC5\",\"#B0BEC5\",\"#B0BEC5\",\"#B0BEC5\"]]}],\"label\":\"Topic 71\",\"method\":\"update\"},{\"args\":[{\"marker.color\":[[\"#B0BEC5\",\"#B0BEC5\",\"#B0BEC5\",\"#B0BEC5\",\"#B0BEC5\",\"#B0BEC5\",\"#B0BEC5\",\"#B0BEC5\",\"#B0BEC5\",\"#B0BEC5\",\"#B0BEC5\",\"#B0BEC5\",\"#B0BEC5\",\"#B0BEC5\",\"#B0BEC5\",\"#B0BEC5\",\"#B0BEC5\",\"#B0BEC5\",\"#B0BEC5\",\"#B0BEC5\",\"#B0BEC5\",\"#B0BEC5\",\"#B0BEC5\",\"#B0BEC5\",\"#B0BEC5\",\"#B0BEC5\",\"#B0BEC5\",\"#B0BEC5\",\"#B0BEC5\",\"#B0BEC5\",\"#B0BEC5\",\"#B0BEC5\",\"#B0BEC5\",\"#B0BEC5\",\"#B0BEC5\",\"#B0BEC5\",\"#B0BEC5\",\"#B0BEC5\",\"#B0BEC5\",\"#B0BEC5\",\"#B0BEC5\",\"#B0BEC5\",\"#B0BEC5\",\"#B0BEC5\",\"#B0BEC5\",\"#B0BEC5\",\"#B0BEC5\",\"#B0BEC5\",\"#B0BEC5\",\"#B0BEC5\",\"#B0BEC5\",\"#B0BEC5\",\"#B0BEC5\",\"#B0BEC5\",\"#B0BEC5\",\"#B0BEC5\",\"#B0BEC5\",\"#B0BEC5\",\"#B0BEC5\",\"#B0BEC5\",\"#B0BEC5\",\"#B0BEC5\",\"#B0BEC5\",\"#B0BEC5\",\"#B0BEC5\",\"#B0BEC5\",\"#B0BEC5\",\"#B0BEC5\",\"#B0BEC5\",\"#B0BEC5\",\"#B0BEC5\",\"#B0BEC5\",\"red\",\"#B0BEC5\",\"#B0BEC5\",\"#B0BEC5\",\"#B0BEC5\",\"#B0BEC5\",\"#B0BEC5\",\"#B0BEC5\",\"#B0BEC5\",\"#B0BEC5\",\"#B0BEC5\"]]}],\"label\":\"Topic 72\",\"method\":\"update\"},{\"args\":[{\"marker.color\":[[\"#B0BEC5\",\"#B0BEC5\",\"#B0BEC5\",\"#B0BEC5\",\"#B0BEC5\",\"#B0BEC5\",\"#B0BEC5\",\"#B0BEC5\",\"#B0BEC5\",\"#B0BEC5\",\"#B0BEC5\",\"#B0BEC5\",\"#B0BEC5\",\"#B0BEC5\",\"#B0BEC5\",\"#B0BEC5\",\"#B0BEC5\",\"#B0BEC5\",\"#B0BEC5\",\"#B0BEC5\",\"#B0BEC5\",\"#B0BEC5\",\"#B0BEC5\",\"#B0BEC5\",\"#B0BEC5\",\"#B0BEC5\",\"#B0BEC5\",\"#B0BEC5\",\"#B0BEC5\",\"#B0BEC5\",\"#B0BEC5\",\"#B0BEC5\",\"#B0BEC5\",\"#B0BEC5\",\"#B0BEC5\",\"#B0BEC5\",\"#B0BEC5\",\"#B0BEC5\",\"#B0BEC5\",\"#B0BEC5\",\"#B0BEC5\",\"#B0BEC5\",\"#B0BEC5\",\"#B0BEC5\",\"#B0BEC5\",\"#B0BEC5\",\"#B0BEC5\",\"#B0BEC5\",\"#B0BEC5\",\"#B0BEC5\",\"#B0BEC5\",\"#B0BEC5\",\"#B0BEC5\",\"#B0BEC5\",\"#B0BEC5\",\"#B0BEC5\",\"#B0BEC5\",\"#B0BEC5\",\"#B0BEC5\",\"#B0BEC5\",\"#B0BEC5\",\"#B0BEC5\",\"#B0BEC5\",\"#B0BEC5\",\"#B0BEC5\",\"#B0BEC5\",\"#B0BEC5\",\"#B0BEC5\",\"#B0BEC5\",\"#B0BEC5\",\"#B0BEC5\",\"#B0BEC5\",\"#B0BEC5\",\"red\",\"#B0BEC5\",\"#B0BEC5\",\"#B0BEC5\",\"#B0BEC5\",\"#B0BEC5\",\"#B0BEC5\",\"#B0BEC5\",\"#B0BEC5\",\"#B0BEC5\"]]}],\"label\":\"Topic 73\",\"method\":\"update\"},{\"args\":[{\"marker.color\":[[\"#B0BEC5\",\"#B0BEC5\",\"#B0BEC5\",\"#B0BEC5\",\"#B0BEC5\",\"#B0BEC5\",\"#B0BEC5\",\"#B0BEC5\",\"#B0BEC5\",\"#B0BEC5\",\"#B0BEC5\",\"#B0BEC5\",\"#B0BEC5\",\"#B0BEC5\",\"#B0BEC5\",\"#B0BEC5\",\"#B0BEC5\",\"#B0BEC5\",\"#B0BEC5\",\"#B0BEC5\",\"#B0BEC5\",\"#B0BEC5\",\"#B0BEC5\",\"#B0BEC5\",\"#B0BEC5\",\"#B0BEC5\",\"#B0BEC5\",\"#B0BEC5\",\"#B0BEC5\",\"#B0BEC5\",\"#B0BEC5\",\"#B0BEC5\",\"#B0BEC5\",\"#B0BEC5\",\"#B0BEC5\",\"#B0BEC5\",\"#B0BEC5\",\"#B0BEC5\",\"#B0BEC5\",\"#B0BEC5\",\"#B0BEC5\",\"#B0BEC5\",\"#B0BEC5\",\"#B0BEC5\",\"#B0BEC5\",\"#B0BEC5\",\"#B0BEC5\",\"#B0BEC5\",\"#B0BEC5\",\"#B0BEC5\",\"#B0BEC5\",\"#B0BEC5\",\"#B0BEC5\",\"#B0BEC5\",\"#B0BEC5\",\"#B0BEC5\",\"#B0BEC5\",\"#B0BEC5\",\"#B0BEC5\",\"#B0BEC5\",\"#B0BEC5\",\"#B0BEC5\",\"#B0BEC5\",\"#B0BEC5\",\"#B0BEC5\",\"#B0BEC5\",\"#B0BEC5\",\"#B0BEC5\",\"#B0BEC5\",\"#B0BEC5\",\"#B0BEC5\",\"#B0BEC5\",\"#B0BEC5\",\"#B0BEC5\",\"red\",\"#B0BEC5\",\"#B0BEC5\",\"#B0BEC5\",\"#B0BEC5\",\"#B0BEC5\",\"#B0BEC5\",\"#B0BEC5\",\"#B0BEC5\"]]}],\"label\":\"Topic 74\",\"method\":\"update\"},{\"args\":[{\"marker.color\":[[\"#B0BEC5\",\"#B0BEC5\",\"#B0BEC5\",\"#B0BEC5\",\"#B0BEC5\",\"#B0BEC5\",\"#B0BEC5\",\"#B0BEC5\",\"#B0BEC5\",\"#B0BEC5\",\"#B0BEC5\",\"#B0BEC5\",\"#B0BEC5\",\"#B0BEC5\",\"#B0BEC5\",\"#B0BEC5\",\"#B0BEC5\",\"#B0BEC5\",\"#B0BEC5\",\"#B0BEC5\",\"#B0BEC5\",\"#B0BEC5\",\"#B0BEC5\",\"#B0BEC5\",\"#B0BEC5\",\"#B0BEC5\",\"#B0BEC5\",\"#B0BEC5\",\"#B0BEC5\",\"#B0BEC5\",\"#B0BEC5\",\"#B0BEC5\",\"#B0BEC5\",\"#B0BEC5\",\"#B0BEC5\",\"#B0BEC5\",\"#B0BEC5\",\"#B0BEC5\",\"#B0BEC5\",\"#B0BEC5\",\"#B0BEC5\",\"#B0BEC5\",\"#B0BEC5\",\"#B0BEC5\",\"#B0BEC5\",\"#B0BEC5\",\"#B0BEC5\",\"#B0BEC5\",\"#B0BEC5\",\"#B0BEC5\",\"#B0BEC5\",\"#B0BEC5\",\"#B0BEC5\",\"#B0BEC5\",\"#B0BEC5\",\"#B0BEC5\",\"#B0BEC5\",\"#B0BEC5\",\"#B0BEC5\",\"#B0BEC5\",\"#B0BEC5\",\"#B0BEC5\",\"#B0BEC5\",\"#B0BEC5\",\"#B0BEC5\",\"#B0BEC5\",\"#B0BEC5\",\"#B0BEC5\",\"#B0BEC5\",\"#B0BEC5\",\"#B0BEC5\",\"#B0BEC5\",\"#B0BEC5\",\"#B0BEC5\",\"#B0BEC5\",\"red\",\"#B0BEC5\",\"#B0BEC5\",\"#B0BEC5\",\"#B0BEC5\",\"#B0BEC5\",\"#B0BEC5\",\"#B0BEC5\"]]}],\"label\":\"Topic 75\",\"method\":\"update\"},{\"args\":[{\"marker.color\":[[\"#B0BEC5\",\"#B0BEC5\",\"#B0BEC5\",\"#B0BEC5\",\"#B0BEC5\",\"#B0BEC5\",\"#B0BEC5\",\"#B0BEC5\",\"#B0BEC5\",\"#B0BEC5\",\"#B0BEC5\",\"#B0BEC5\",\"#B0BEC5\",\"#B0BEC5\",\"#B0BEC5\",\"#B0BEC5\",\"#B0BEC5\",\"#B0BEC5\",\"#B0BEC5\",\"#B0BEC5\",\"#B0BEC5\",\"#B0BEC5\",\"#B0BEC5\",\"#B0BEC5\",\"#B0BEC5\",\"#B0BEC5\",\"#B0BEC5\",\"#B0BEC5\",\"#B0BEC5\",\"#B0BEC5\",\"#B0BEC5\",\"#B0BEC5\",\"#B0BEC5\",\"#B0BEC5\",\"#B0BEC5\",\"#B0BEC5\",\"#B0BEC5\",\"#B0BEC5\",\"#B0BEC5\",\"#B0BEC5\",\"#B0BEC5\",\"#B0BEC5\",\"#B0BEC5\",\"#B0BEC5\",\"#B0BEC5\",\"#B0BEC5\",\"#B0BEC5\",\"#B0BEC5\",\"#B0BEC5\",\"#B0BEC5\",\"#B0BEC5\",\"#B0BEC5\",\"#B0BEC5\",\"#B0BEC5\",\"#B0BEC5\",\"#B0BEC5\",\"#B0BEC5\",\"#B0BEC5\",\"#B0BEC5\",\"#B0BEC5\",\"#B0BEC5\",\"#B0BEC5\",\"#B0BEC5\",\"#B0BEC5\",\"#B0BEC5\",\"#B0BEC5\",\"#B0BEC5\",\"#B0BEC5\",\"#B0BEC5\",\"#B0BEC5\",\"#B0BEC5\",\"#B0BEC5\",\"#B0BEC5\",\"#B0BEC5\",\"#B0BEC5\",\"#B0BEC5\",\"red\",\"#B0BEC5\",\"#B0BEC5\",\"#B0BEC5\",\"#B0BEC5\",\"#B0BEC5\",\"#B0BEC5\"]]}],\"label\":\"Topic 76\",\"method\":\"update\"},{\"args\":[{\"marker.color\":[[\"#B0BEC5\",\"#B0BEC5\",\"#B0BEC5\",\"#B0BEC5\",\"#B0BEC5\",\"#B0BEC5\",\"#B0BEC5\",\"#B0BEC5\",\"#B0BEC5\",\"#B0BEC5\",\"#B0BEC5\",\"#B0BEC5\",\"#B0BEC5\",\"#B0BEC5\",\"#B0BEC5\",\"#B0BEC5\",\"#B0BEC5\",\"#B0BEC5\",\"#B0BEC5\",\"#B0BEC5\",\"#B0BEC5\",\"#B0BEC5\",\"#B0BEC5\",\"#B0BEC5\",\"#B0BEC5\",\"#B0BEC5\",\"#B0BEC5\",\"#B0BEC5\",\"#B0BEC5\",\"#B0BEC5\",\"#B0BEC5\",\"#B0BEC5\",\"#B0BEC5\",\"#B0BEC5\",\"#B0BEC5\",\"#B0BEC5\",\"#B0BEC5\",\"#B0BEC5\",\"#B0BEC5\",\"#B0BEC5\",\"#B0BEC5\",\"#B0BEC5\",\"#B0BEC5\",\"#B0BEC5\",\"#B0BEC5\",\"#B0BEC5\",\"#B0BEC5\",\"#B0BEC5\",\"#B0BEC5\",\"#B0BEC5\",\"#B0BEC5\",\"#B0BEC5\",\"#B0BEC5\",\"#B0BEC5\",\"#B0BEC5\",\"#B0BEC5\",\"#B0BEC5\",\"#B0BEC5\",\"#B0BEC5\",\"#B0BEC5\",\"#B0BEC5\",\"#B0BEC5\",\"#B0BEC5\",\"#B0BEC5\",\"#B0BEC5\",\"#B0BEC5\",\"#B0BEC5\",\"#B0BEC5\",\"#B0BEC5\",\"#B0BEC5\",\"#B0BEC5\",\"#B0BEC5\",\"#B0BEC5\",\"#B0BEC5\",\"#B0BEC5\",\"#B0BEC5\",\"#B0BEC5\",\"red\",\"#B0BEC5\",\"#B0BEC5\",\"#B0BEC5\",\"#B0BEC5\",\"#B0BEC5\"]]}],\"label\":\"Topic 77\",\"method\":\"update\"},{\"args\":[{\"marker.color\":[[\"#B0BEC5\",\"#B0BEC5\",\"#B0BEC5\",\"#B0BEC5\",\"#B0BEC5\",\"#B0BEC5\",\"#B0BEC5\",\"#B0BEC5\",\"#B0BEC5\",\"#B0BEC5\",\"#B0BEC5\",\"#B0BEC5\",\"#B0BEC5\",\"#B0BEC5\",\"#B0BEC5\",\"#B0BEC5\",\"#B0BEC5\",\"#B0BEC5\",\"#B0BEC5\",\"#B0BEC5\",\"#B0BEC5\",\"#B0BEC5\",\"#B0BEC5\",\"#B0BEC5\",\"#B0BEC5\",\"#B0BEC5\",\"#B0BEC5\",\"#B0BEC5\",\"#B0BEC5\",\"#B0BEC5\",\"#B0BEC5\",\"#B0BEC5\",\"#B0BEC5\",\"#B0BEC5\",\"#B0BEC5\",\"#B0BEC5\",\"#B0BEC5\",\"#B0BEC5\",\"#B0BEC5\",\"#B0BEC5\",\"#B0BEC5\",\"#B0BEC5\",\"#B0BEC5\",\"#B0BEC5\",\"#B0BEC5\",\"#B0BEC5\",\"#B0BEC5\",\"#B0BEC5\",\"#B0BEC5\",\"#B0BEC5\",\"#B0BEC5\",\"#B0BEC5\",\"#B0BEC5\",\"#B0BEC5\",\"#B0BEC5\",\"#B0BEC5\",\"#B0BEC5\",\"#B0BEC5\",\"#B0BEC5\",\"#B0BEC5\",\"#B0BEC5\",\"#B0BEC5\",\"#B0BEC5\",\"#B0BEC5\",\"#B0BEC5\",\"#B0BEC5\",\"#B0BEC5\",\"#B0BEC5\",\"#B0BEC5\",\"#B0BEC5\",\"#B0BEC5\",\"#B0BEC5\",\"#B0BEC5\",\"#B0BEC5\",\"#B0BEC5\",\"#B0BEC5\",\"#B0BEC5\",\"#B0BEC5\",\"red\",\"#B0BEC5\",\"#B0BEC5\",\"#B0BEC5\",\"#B0BEC5\"]]}],\"label\":\"Topic 78\",\"method\":\"update\"},{\"args\":[{\"marker.color\":[[\"#B0BEC5\",\"#B0BEC5\",\"#B0BEC5\",\"#B0BEC5\",\"#B0BEC5\",\"#B0BEC5\",\"#B0BEC5\",\"#B0BEC5\",\"#B0BEC5\",\"#B0BEC5\",\"#B0BEC5\",\"#B0BEC5\",\"#B0BEC5\",\"#B0BEC5\",\"#B0BEC5\",\"#B0BEC5\",\"#B0BEC5\",\"#B0BEC5\",\"#B0BEC5\",\"#B0BEC5\",\"#B0BEC5\",\"#B0BEC5\",\"#B0BEC5\",\"#B0BEC5\",\"#B0BEC5\",\"#B0BEC5\",\"#B0BEC5\",\"#B0BEC5\",\"#B0BEC5\",\"#B0BEC5\",\"#B0BEC5\",\"#B0BEC5\",\"#B0BEC5\",\"#B0BEC5\",\"#B0BEC5\",\"#B0BEC5\",\"#B0BEC5\",\"#B0BEC5\",\"#B0BEC5\",\"#B0BEC5\",\"#B0BEC5\",\"#B0BEC5\",\"#B0BEC5\",\"#B0BEC5\",\"#B0BEC5\",\"#B0BEC5\",\"#B0BEC5\",\"#B0BEC5\",\"#B0BEC5\",\"#B0BEC5\",\"#B0BEC5\",\"#B0BEC5\",\"#B0BEC5\",\"#B0BEC5\",\"#B0BEC5\",\"#B0BEC5\",\"#B0BEC5\",\"#B0BEC5\",\"#B0BEC5\",\"#B0BEC5\",\"#B0BEC5\",\"#B0BEC5\",\"#B0BEC5\",\"#B0BEC5\",\"#B0BEC5\",\"#B0BEC5\",\"#B0BEC5\",\"#B0BEC5\",\"#B0BEC5\",\"#B0BEC5\",\"#B0BEC5\",\"#B0BEC5\",\"#B0BEC5\",\"#B0BEC5\",\"#B0BEC5\",\"#B0BEC5\",\"#B0BEC5\",\"#B0BEC5\",\"#B0BEC5\",\"red\",\"#B0BEC5\",\"#B0BEC5\",\"#B0BEC5\"]]}],\"label\":\"Topic 79\",\"method\":\"update\"},{\"args\":[{\"marker.color\":[[\"#B0BEC5\",\"#B0BEC5\",\"#B0BEC5\",\"#B0BEC5\",\"#B0BEC5\",\"#B0BEC5\",\"#B0BEC5\",\"#B0BEC5\",\"#B0BEC5\",\"#B0BEC5\",\"#B0BEC5\",\"#B0BEC5\",\"#B0BEC5\",\"#B0BEC5\",\"#B0BEC5\",\"#B0BEC5\",\"#B0BEC5\",\"#B0BEC5\",\"#B0BEC5\",\"#B0BEC5\",\"#B0BEC5\",\"#B0BEC5\",\"#B0BEC5\",\"#B0BEC5\",\"#B0BEC5\",\"#B0BEC5\",\"#B0BEC5\",\"#B0BEC5\",\"#B0BEC5\",\"#B0BEC5\",\"#B0BEC5\",\"#B0BEC5\",\"#B0BEC5\",\"#B0BEC5\",\"#B0BEC5\",\"#B0BEC5\",\"#B0BEC5\",\"#B0BEC5\",\"#B0BEC5\",\"#B0BEC5\",\"#B0BEC5\",\"#B0BEC5\",\"#B0BEC5\",\"#B0BEC5\",\"#B0BEC5\",\"#B0BEC5\",\"#B0BEC5\",\"#B0BEC5\",\"#B0BEC5\",\"#B0BEC5\",\"#B0BEC5\",\"#B0BEC5\",\"#B0BEC5\",\"#B0BEC5\",\"#B0BEC5\",\"#B0BEC5\",\"#B0BEC5\",\"#B0BEC5\",\"#B0BEC5\",\"#B0BEC5\",\"#B0BEC5\",\"#B0BEC5\",\"#B0BEC5\",\"#B0BEC5\",\"#B0BEC5\",\"#B0BEC5\",\"#B0BEC5\",\"#B0BEC5\",\"#B0BEC5\",\"#B0BEC5\",\"#B0BEC5\",\"#B0BEC5\",\"#B0BEC5\",\"#B0BEC5\",\"#B0BEC5\",\"#B0BEC5\",\"#B0BEC5\",\"#B0BEC5\",\"#B0BEC5\",\"#B0BEC5\",\"red\",\"#B0BEC5\",\"#B0BEC5\"]]}],\"label\":\"Topic 80\",\"method\":\"update\"},{\"args\":[{\"marker.color\":[[\"#B0BEC5\",\"#B0BEC5\",\"#B0BEC5\",\"#B0BEC5\",\"#B0BEC5\",\"#B0BEC5\",\"#B0BEC5\",\"#B0BEC5\",\"#B0BEC5\",\"#B0BEC5\",\"#B0BEC5\",\"#B0BEC5\",\"#B0BEC5\",\"#B0BEC5\",\"#B0BEC5\",\"#B0BEC5\",\"#B0BEC5\",\"#B0BEC5\",\"#B0BEC5\",\"#B0BEC5\",\"#B0BEC5\",\"#B0BEC5\",\"#B0BEC5\",\"#B0BEC5\",\"#B0BEC5\",\"#B0BEC5\",\"#B0BEC5\",\"#B0BEC5\",\"#B0BEC5\",\"#B0BEC5\",\"#B0BEC5\",\"#B0BEC5\",\"#B0BEC5\",\"#B0BEC5\",\"#B0BEC5\",\"#B0BEC5\",\"#B0BEC5\",\"#B0BEC5\",\"#B0BEC5\",\"#B0BEC5\",\"#B0BEC5\",\"#B0BEC5\",\"#B0BEC5\",\"#B0BEC5\",\"#B0BEC5\",\"#B0BEC5\",\"#B0BEC5\",\"#B0BEC5\",\"#B0BEC5\",\"#B0BEC5\",\"#B0BEC5\",\"#B0BEC5\",\"#B0BEC5\",\"#B0BEC5\",\"#B0BEC5\",\"#B0BEC5\",\"#B0BEC5\",\"#B0BEC5\",\"#B0BEC5\",\"#B0BEC5\",\"#B0BEC5\",\"#B0BEC5\",\"#B0BEC5\",\"#B0BEC5\",\"#B0BEC5\",\"#B0BEC5\",\"#B0BEC5\",\"#B0BEC5\",\"#B0BEC5\",\"#B0BEC5\",\"#B0BEC5\",\"#B0BEC5\",\"#B0BEC5\",\"#B0BEC5\",\"#B0BEC5\",\"#B0BEC5\",\"#B0BEC5\",\"#B0BEC5\",\"#B0BEC5\",\"#B0BEC5\",\"#B0BEC5\",\"red\",\"#B0BEC5\"]]}],\"label\":\"Topic 81\",\"method\":\"update\"},{\"args\":[{\"marker.color\":[[\"#B0BEC5\",\"#B0BEC5\",\"#B0BEC5\",\"#B0BEC5\",\"#B0BEC5\",\"#B0BEC5\",\"#B0BEC5\",\"#B0BEC5\",\"#B0BEC5\",\"#B0BEC5\",\"#B0BEC5\",\"#B0BEC5\",\"#B0BEC5\",\"#B0BEC5\",\"#B0BEC5\",\"#B0BEC5\",\"#B0BEC5\",\"#B0BEC5\",\"#B0BEC5\",\"#B0BEC5\",\"#B0BEC5\",\"#B0BEC5\",\"#B0BEC5\",\"#B0BEC5\",\"#B0BEC5\",\"#B0BEC5\",\"#B0BEC5\",\"#B0BEC5\",\"#B0BEC5\",\"#B0BEC5\",\"#B0BEC5\",\"#B0BEC5\",\"#B0BEC5\",\"#B0BEC5\",\"#B0BEC5\",\"#B0BEC5\",\"#B0BEC5\",\"#B0BEC5\",\"#B0BEC5\",\"#B0BEC5\",\"#B0BEC5\",\"#B0BEC5\",\"#B0BEC5\",\"#B0BEC5\",\"#B0BEC5\",\"#B0BEC5\",\"#B0BEC5\",\"#B0BEC5\",\"#B0BEC5\",\"#B0BEC5\",\"#B0BEC5\",\"#B0BEC5\",\"#B0BEC5\",\"#B0BEC5\",\"#B0BEC5\",\"#B0BEC5\",\"#B0BEC5\",\"#B0BEC5\",\"#B0BEC5\",\"#B0BEC5\",\"#B0BEC5\",\"#B0BEC5\",\"#B0BEC5\",\"#B0BEC5\",\"#B0BEC5\",\"#B0BEC5\",\"#B0BEC5\",\"#B0BEC5\",\"#B0BEC5\",\"#B0BEC5\",\"#B0BEC5\",\"#B0BEC5\",\"#B0BEC5\",\"#B0BEC5\",\"#B0BEC5\",\"#B0BEC5\",\"#B0BEC5\",\"#B0BEC5\",\"#B0BEC5\",\"#B0BEC5\",\"#B0BEC5\",\"#B0BEC5\",\"red\"]]}],\"label\":\"Topic 82\",\"method\":\"update\"}]}],\"shapes\":[{\"line\":{\"color\":\"#CFD8DC\",\"width\":2},\"type\":\"line\",\"x0\":9.81029920578003,\"x1\":9.81029920578003,\"y0\":-5.86938624382019,\"y1\":21.225842571258546},{\"line\":{\"color\":\"#9E9E9E\",\"width\":2},\"type\":\"line\",\"x0\":-5.404301166534424,\"x1\":25.024899578094484,\"y0\":7.678228163719178,\"y1\":7.678228163719178}],\"annotations\":[{\"showarrow\":false,\"text\":\"D1\",\"x\":-5.404301166534424,\"y\":7.678228163719178,\"yshift\":10},{\"showarrow\":false,\"text\":\"D2\",\"x\":9.81029920578003,\"xshift\":10,\"y\":21.225842571258546}]},                        {\"responsive\": true}                    ).then(function(){\n",
              "                            \n",
              "var gd = document.getElementById('fe1da375-c731-4d2d-9e55-93a559207587');\n",
              "var x = new MutationObserver(function (mutations, observer) {{\n",
              "        var display = window.getComputedStyle(gd).display;\n",
              "        if (!display || display === 'none') {{\n",
              "            console.log([gd, 'removed!']);\n",
              "            Plotly.purge(gd);\n",
              "            observer.disconnect();\n",
              "        }}\n",
              "}});\n",
              "\n",
              "// Listen for the removal of the full notebook cells\n",
              "var notebookContainer = gd.closest('#notebook-container');\n",
              "if (notebookContainer) {{\n",
              "    x.observe(notebookContainer, {childList: true});\n",
              "}}\n",
              "\n",
              "// Listen for the clearing of the current output cell\n",
              "var outputEl = gd.closest('.output');\n",
              "if (outputEl) {{\n",
              "    x.observe(outputEl, {childList: true});\n",
              "}}\n",
              "\n",
              "                        })                };                            </script>        </div>\n",
              "</body>\n",
              "</html>"
            ]
          },
          "metadata": {}
        }
      ]
    },
    {
      "cell_type": "markdown",
      "source": [
        "#### **Save intertopic distance map**"
      ],
      "metadata": {
        "id": "VEy11A_SlliP"
      }
    },
    {
      "cell_type": "code",
      "source": [
        "# Set the path to save \n",
        "path = f'/content/Topic-Modeling-Reclame-Aqui/results/{DATA_FRAME_FEATURE_NAME}/intertopic_distance_map/'\n",
        "\n",
        "# Use makedirs() to create a new directory if it does not exists\n",
        "if not os.path.exists(path):\n",
        "  os.makedirs(path)\n",
        "\n",
        "\n",
        "fig.write_image(path + \"idm_preprocessed_lemma.png\", format=\"png\")\n",
        "fig.write_html(path + \"idm_preprocessed_lemma.html\")"
      ],
      "metadata": {
        "id": "hLy_Eeu4lqCg"
      },
      "execution_count": 166,
      "outputs": []
    },
    {
      "cell_type": "markdown",
      "source": [
        "[Github link](https://github.com/punkmic/Topic-Modeling-Reclame-Aqui/blob/master/results/intertopic_distance_map/idm_preprocessed_lemma.png?raw=true)"
      ],
      "metadata": {
        "id": "Jf-iwAsQoOCs"
      }
    },
    {
      "cell_type": "markdown",
      "source": [
        "### **Visualize Topic Hierarchy**\n",
        "\n",
        "The topics that were created can be hierarchically reduced. This visualization shows how the topics relate to one another."
      ],
      "metadata": {
        "id": "r-5bT7AgSgsv"
      }
    },
    {
      "cell_type": "code",
      "source": [
        "fig = topic_model.visualize_hierarchy(top_n_topics=30, width=800, height=800)\n",
        "fig"
      ],
      "metadata": {
        "id": "TEoOpDD6S4D7",
        "outputId": "4e6ed977-8518-4227-da89-491dd3eefcfe",
        "colab": {
          "base_uri": "https://localhost:8080/",
          "height": 687
        }
      },
      "execution_count": 167,
      "outputs": [
        {
          "output_type": "display_data",
          "data": {
            "text/html": [
              "<html>\n",
              "<head><meta charset=\"utf-8\" /></head>\n",
              "<body>\n",
              "    <div>            <script src=\"https://cdnjs.cloudflare.com/ajax/libs/mathjax/2.7.5/MathJax.js?config=TeX-AMS-MML_SVG\"></script><script type=\"text/javascript\">if (window.MathJax) {MathJax.Hub.Config({SVG: {font: \"STIX-Web\"}});}</script>                <script type=\"text/javascript\">window.PlotlyConfig = {MathJaxConfig: 'local'};</script>\n",
              "        <script src=\"https://cdn.plot.ly/plotly-2.8.3.min.js\"></script>                <div id=\"f7881765-d100-44f1-95e4-42aaee2b568c\" class=\"plotly-graph-div\" style=\"height:650px; width:800px;\"></div>            <script type=\"text/javascript\">                                    window.PLOTLYENV=window.PLOTLYENV || {};                                    if (document.getElementById(\"f7881765-d100-44f1-95e4-42aaee2b568c\")) {                    Plotly.newPlot(                        \"f7881765-d100-44f1-95e4-42aaee2b568c\",                        [{\"hoverinfo\":\"text\",\"marker\":{\"color\":\"rgb(61,153,112)\"},\"mode\":\"lines\",\"x\":[0.0,0.5893180998566906,0.5893180998566906,0.0],\"xaxis\":\"x\",\"y\":[-5.0,-5.0,-15.0,-15.0],\"yaxis\":\"y\",\"type\":\"scatter\"},{\"hoverinfo\":\"text\",\"marker\":{\"color\":\"rgb(61,153,112)\"},\"mode\":\"lines\",\"x\":[0.5893180998566906,0.9353652133824117,0.9353652133824117,0.0],\"xaxis\":\"x\",\"y\":[-10.0,-10.0,-25.0,-25.0],\"yaxis\":\"y\",\"type\":\"scatter\"},{\"hoverinfo\":\"text\",\"marker\":{\"color\":\"rgb(255,65,54)\"},\"mode\":\"lines\",\"x\":[0.0,0.7188895192518376,0.7188895192518376,0.0],\"xaxis\":\"x\",\"y\":[-35.0,-35.0,-45.0,-45.0],\"yaxis\":\"y\",\"type\":\"scatter\"},{\"hoverinfo\":\"text\",\"marker\":{\"color\":\"rgb(0,116,217)\"},\"mode\":\"lines\",\"x\":[0.9353652133824117,1.0271085923970125,1.0271085923970125,0.7188895192518376],\"xaxis\":\"x\",\"y\":[-17.5,-17.5,-40.0,-40.0],\"yaxis\":\"y\",\"type\":\"scatter\"},{\"hoverinfo\":\"text\",\"marker\":{\"color\":\"rgb(35,205,205)\"},\"mode\":\"lines\",\"x\":[0.0,0.4915203123188981,0.4915203123188981,0.0],\"xaxis\":\"x\",\"y\":[-55.0,-55.0,-65.0,-65.0],\"yaxis\":\"y\",\"type\":\"scatter\"},{\"hoverinfo\":\"text\",\"marker\":{\"color\":\"rgb(35,205,205)\"},\"mode\":\"lines\",\"x\":[0.4915203123188981,0.5444453296335573,0.5444453296335573,0.0],\"xaxis\":\"x\",\"y\":[-60.0,-60.0,-75.0,-75.0],\"yaxis\":\"y\",\"type\":\"scatter\"},{\"hoverinfo\":\"text\",\"marker\":{\"color\":\"rgb(35,205,205)\"},\"mode\":\"lines\",\"x\":[0.0,0.7372128803301479,0.7372128803301479,0.0],\"xaxis\":\"x\",\"y\":[-85.0,-85.0,-95.0,-95.0],\"yaxis\":\"y\",\"type\":\"scatter\"},{\"hoverinfo\":\"text\",\"marker\":{\"color\":\"rgb(35,205,205)\"},\"mode\":\"lines\",\"x\":[0.7372128803301479,0.7651800638133095,0.7651800638133095,0.0],\"xaxis\":\"x\",\"y\":[-90.0,-90.0,-105.0,-105.0],\"yaxis\":\"y\",\"type\":\"scatter\"},{\"hoverinfo\":\"text\",\"marker\":{\"color\":\"rgb(35,205,205)\"},\"mode\":\"lines\",\"x\":[0.5444453296335573,0.8405367618025759,0.8405367618025759,0.7651800638133095],\"xaxis\":\"x\",\"y\":[-67.5,-67.5,-97.5,-97.5],\"yaxis\":\"y\",\"type\":\"scatter\"},{\"hoverinfo\":\"text\",\"marker\":{\"color\":\"rgb(0,116,217)\"},\"mode\":\"lines\",\"x\":[1.0271085923970125,1.25013567131005,1.25013567131005,0.8405367618025759],\"xaxis\":\"x\",\"y\":[-28.75,-28.75,-82.5,-82.5],\"yaxis\":\"y\",\"type\":\"scatter\"},{\"hoverinfo\":\"text\",\"marker\":{\"color\":\"rgb(133,20,75)\"},\"mode\":\"lines\",\"x\":[0.0,0.839092053684463,0.839092053684463,0.0],\"xaxis\":\"x\",\"y\":[-125.0,-125.0,-135.0,-135.0],\"yaxis\":\"y\",\"type\":\"scatter\"},{\"hoverinfo\":\"text\",\"marker\":{\"color\":\"rgb(133,20,75)\"},\"mode\":\"lines\",\"x\":[0.0,0.8851069238538981,0.8851069238538981,0.839092053684463],\"xaxis\":\"x\",\"y\":[-115.0,-115.0,-130.0,-130.0],\"yaxis\":\"y\",\"type\":\"scatter\"},{\"hoverinfo\":\"text\",\"marker\":{\"color\":\"rgb(0,116,217)\"},\"mode\":\"lines\",\"x\":[0.0,1.0286324119491916,1.0286324119491916,0.0],\"xaxis\":\"x\",\"y\":[-145.0,-145.0,-155.0,-155.0],\"yaxis\":\"y\",\"type\":\"scatter\"},{\"hoverinfo\":\"text\",\"marker\":{\"color\":\"rgb(0,116,217)\"},\"mode\":\"lines\",\"x\":[1.0286324119491916,1.0822190457396634,1.0822190457396634,0.0],\"xaxis\":\"x\",\"y\":[-150.0,-150.0,-165.0,-165.0],\"yaxis\":\"y\",\"type\":\"scatter\"},{\"hoverinfo\":\"text\",\"marker\":{\"color\":\"rgb(255,220,0)\"},\"mode\":\"lines\",\"x\":[0.0,0.7945463567841726,0.7945463567841726,0.0],\"xaxis\":\"x\",\"y\":[-185.0,-185.0,-195.0,-195.0],\"yaxis\":\"y\",\"type\":\"scatter\"},{\"hoverinfo\":\"text\",\"marker\":{\"color\":\"rgb(255,220,0)\"},\"mode\":\"lines\",\"x\":[0.0,0.9433436027917009,0.9433436027917009,0.7945463567841726],\"xaxis\":\"x\",\"y\":[-175.0,-175.0,-190.0,-190.0],\"yaxis\":\"y\",\"type\":\"scatter\"},{\"hoverinfo\":\"text\",\"marker\":{\"color\":\"rgb(0,116,217)\"},\"mode\":\"lines\",\"x\":[1.0822190457396634,1.215880175489657,1.215880175489657,0.9433436027917009],\"xaxis\":\"x\",\"y\":[-157.5,-157.5,-182.5,-182.5],\"yaxis\":\"y\",\"type\":\"scatter\"},{\"hoverinfo\":\"text\",\"marker\":{\"color\":\"rgb(0,116,217)\"},\"mode\":\"lines\",\"x\":[0.8851069238538981,1.306019370830938,1.306019370830938,1.215880175489657],\"xaxis\":\"x\",\"y\":[-122.5,-122.5,-170.0,-170.0],\"yaxis\":\"y\",\"type\":\"scatter\"},{\"hoverinfo\":\"text\",\"marker\":{\"color\":\"rgb(0,116,217)\"},\"mode\":\"lines\",\"x\":[0.0,1.122055749939582,1.122055749939582,0.0],\"xaxis\":\"x\",\"y\":[-205.0,-205.0,-215.0,-215.0],\"yaxis\":\"y\",\"type\":\"scatter\"},{\"hoverinfo\":\"text\",\"marker\":{\"color\":\"rgb(0,116,217)\"},\"mode\":\"lines\",\"x\":[0.0,1.077500236951599,1.077500236951599,0.0],\"xaxis\":\"x\",\"y\":[-235.0,-235.0,-245.0,-245.0],\"yaxis\":\"y\",\"type\":\"scatter\"},{\"hoverinfo\":\"text\",\"marker\":{\"color\":\"rgb(0,116,217)\"},\"mode\":\"lines\",\"x\":[1.077500236951599,1.209233317251161,1.209233317251161,0.0],\"xaxis\":\"x\",\"y\":[-240.0,-240.0,-255.0,-255.0],\"yaxis\":\"y\",\"type\":\"scatter\"},{\"hoverinfo\":\"text\",\"marker\":{\"color\":\"rgb(0,116,217)\"},\"mode\":\"lines\",\"x\":[0.0,1.2604882021334078,1.2604882021334078,1.209233317251161],\"xaxis\":\"x\",\"y\":[-225.0,-225.0,-247.5,-247.5],\"yaxis\":\"y\",\"type\":\"scatter\"},{\"hoverinfo\":\"text\",\"marker\":{\"color\":\"rgb(0,116,217)\"},\"mode\":\"lines\",\"x\":[1.2604882021334078,1.2827228021368642,1.2827228021368642,0.0],\"xaxis\":\"x\",\"y\":[-236.25,-236.25,-265.0,-265.0],\"yaxis\":\"y\",\"type\":\"scatter\"},{\"hoverinfo\":\"text\",\"marker\":{\"color\":\"rgb(0,116,217)\"},\"mode\":\"lines\",\"x\":[1.2827228021368642,1.3375060646824646,1.3375060646824646,0.0],\"xaxis\":\"x\",\"y\":[-250.625,-250.625,-275.0,-275.0],\"yaxis\":\"y\",\"type\":\"scatter\"},{\"hoverinfo\":\"text\",\"marker\":{\"color\":\"rgb(0,116,217)\"},\"mode\":\"lines\",\"x\":[1.122055749939582,1.5467977418435646,1.5467977418435646,1.3375060646824646],\"xaxis\":\"x\",\"y\":[-210.0,-210.0,-262.8125,-262.8125],\"yaxis\":\"y\",\"type\":\"scatter\"},{\"hoverinfo\":\"text\",\"marker\":{\"color\":\"rgb(40,35,35)\"},\"mode\":\"lines\",\"x\":[0.0,0.975797533970867,0.975797533970867,0.0],\"xaxis\":\"x\",\"y\":[-285.0,-285.0,-295.0,-295.0],\"yaxis\":\"y\",\"type\":\"scatter\"},{\"hoverinfo\":\"text\",\"marker\":{\"color\":\"rgb(0,116,217)\"},\"mode\":\"lines\",\"x\":[1.5467977418435646,1.7068682510510105,1.7068682510510105,0.975797533970867],\"xaxis\":\"x\",\"y\":[-236.40625,-236.40625,-290.0,-290.0],\"yaxis\":\"y\",\"type\":\"scatter\"},{\"hoverinfo\":\"text\",\"marker\":{\"color\":\"rgb(0,116,217)\"},\"mode\":\"lines\",\"x\":[1.306019370830938,2.148750410039699,2.148750410039699,1.7068682510510105],\"xaxis\":\"x\",\"y\":[-146.25,-146.25,-263.203125,-263.203125],\"yaxis\":\"y\",\"type\":\"scatter\"},{\"hoverinfo\":\"text\",\"marker\":{\"color\":\"rgb(0,116,217)\"},\"mode\":\"lines\",\"x\":[1.25013567131005,3.214197637538834,3.214197637538834,2.148750410039699],\"xaxis\":\"x\",\"y\":[-55.625,-55.625,-204.7265625,-204.7265625],\"yaxis\":\"y\",\"type\":\"scatter\"}],                        {\"autosize\":false,\"height\":650,\"hovermode\":\"closest\",\"showlegend\":false,\"width\":800,\"xaxis\":{\"mirror\":\"allticks\",\"rangemode\":\"tozero\",\"showgrid\":false,\"showline\":true,\"showticklabels\":true,\"ticks\":\"outside\",\"type\":\"linear\",\"zeroline\":false},\"yaxis\":{\"mirror\":\"allticks\",\"rangemode\":\"tozero\",\"showgrid\":false,\"showline\":true,\"showticklabels\":true,\"tickmode\":\"array\",\"ticks\":\"outside\",\"ticktext\":[\"21_cancelamento_cancelar_re...\",\"10_cancelamento_cancelar_pe...\",\"0_cart\\u00e3o_cr\\u00e9dito_cobrar\",\"11_iphone_aparelho_celular\",\"12_black_friday_promo\\u00e7\\u00e3o\",\"1_celular_aparelho_smartphone\",\"6_loja_magalu_poder\",\"2_whatsapp_contato_entregar\",\"3_brasil_brasileiro_chegar\",\"7_ariano_produto_vendedor\",\"29_juliana_fraga_produto_m\\u00e1...\",\"23_pagamento_comprovante_pa...\",\"16_aplicativo_compra_reembo...\",\"8_dinheiro_reembolso_voltar\",\"24_rob\\u00f4_aspirador_macac\\u00e3o\",\"5_roupa_cal\\u00e7a_vestir\",\"14_pedir_entregar_encomenda\",\"13_endere\\u00e7o_pedir_remetente\",\"17_previs\\u00e3o_entregar_prazo\",\"9_novembro_dezembro_outubro\",\"27_curitiba_parado_tr\\u00e2nsito\",\"18_rastreio_c\\u00f3digo_rastream...\",\"4_conta_email_acessar\",\"25_m\\u00e1quina_lavar_roupa\",\"15_geladeira_refrigerador_g...\",\"20_t\\u00eanis_mizuno_tenis\",\"19_livro_compr_dois\",\"28_vir_garrafa_caixa\",\"22_cobran\\u00e7a_amazoncombr_dig...\",\"26_prime_v\\u00eddeo_assinatura\"],\"tickvals\":[-5.0,-15.0,-25.0,-35.0,-45.0,-55.0,-65.0,-75.0,-85.0,-95.0,-105.0,-115.0,-125.0,-135.0,-145.0,-155.0,-165.0,-175.0,-185.0,-195.0,-205.0,-215.0,-225.0,-235.0,-245.0,-255.0,-265.0,-275.0,-285.0,-295.0],\"type\":\"linear\",\"zeroline\":false,\"range\":[-300.0,0.0]},\"template\":{\"data\":{\"barpolar\":[{\"marker\":{\"line\":{\"color\":\"white\",\"width\":0.5},\"pattern\":{\"fillmode\":\"overlay\",\"size\":10,\"solidity\":0.2}},\"type\":\"barpolar\"}],\"bar\":[{\"error_x\":{\"color\":\"#2a3f5f\"},\"error_y\":{\"color\":\"#2a3f5f\"},\"marker\":{\"line\":{\"color\":\"white\",\"width\":0.5},\"pattern\":{\"fillmode\":\"overlay\",\"size\":10,\"solidity\":0.2}},\"type\":\"bar\"}],\"carpet\":[{\"aaxis\":{\"endlinecolor\":\"#2a3f5f\",\"gridcolor\":\"#C8D4E3\",\"linecolor\":\"#C8D4E3\",\"minorgridcolor\":\"#C8D4E3\",\"startlinecolor\":\"#2a3f5f\"},\"baxis\":{\"endlinecolor\":\"#2a3f5f\",\"gridcolor\":\"#C8D4E3\",\"linecolor\":\"#C8D4E3\",\"minorgridcolor\":\"#C8D4E3\",\"startlinecolor\":\"#2a3f5f\"},\"type\":\"carpet\"}],\"choropleth\":[{\"colorbar\":{\"outlinewidth\":0,\"ticks\":\"\"},\"type\":\"choropleth\"}],\"contourcarpet\":[{\"colorbar\":{\"outlinewidth\":0,\"ticks\":\"\"},\"type\":\"contourcarpet\"}],\"contour\":[{\"colorbar\":{\"outlinewidth\":0,\"ticks\":\"\"},\"colorscale\":[[0.0,\"#0d0887\"],[0.1111111111111111,\"#46039f\"],[0.2222222222222222,\"#7201a8\"],[0.3333333333333333,\"#9c179e\"],[0.4444444444444444,\"#bd3786\"],[0.5555555555555556,\"#d8576b\"],[0.6666666666666666,\"#ed7953\"],[0.7777777777777778,\"#fb9f3a\"],[0.8888888888888888,\"#fdca26\"],[1.0,\"#f0f921\"]],\"type\":\"contour\"}],\"heatmapgl\":[{\"colorbar\":{\"outlinewidth\":0,\"ticks\":\"\"},\"colorscale\":[[0.0,\"#0d0887\"],[0.1111111111111111,\"#46039f\"],[0.2222222222222222,\"#7201a8\"],[0.3333333333333333,\"#9c179e\"],[0.4444444444444444,\"#bd3786\"],[0.5555555555555556,\"#d8576b\"],[0.6666666666666666,\"#ed7953\"],[0.7777777777777778,\"#fb9f3a\"],[0.8888888888888888,\"#fdca26\"],[1.0,\"#f0f921\"]],\"type\":\"heatmapgl\"}],\"heatmap\":[{\"colorbar\":{\"outlinewidth\":0,\"ticks\":\"\"},\"colorscale\":[[0.0,\"#0d0887\"],[0.1111111111111111,\"#46039f\"],[0.2222222222222222,\"#7201a8\"],[0.3333333333333333,\"#9c179e\"],[0.4444444444444444,\"#bd3786\"],[0.5555555555555556,\"#d8576b\"],[0.6666666666666666,\"#ed7953\"],[0.7777777777777778,\"#fb9f3a\"],[0.8888888888888888,\"#fdca26\"],[1.0,\"#f0f921\"]],\"type\":\"heatmap\"}],\"histogram2dcontour\":[{\"colorbar\":{\"outlinewidth\":0,\"ticks\":\"\"},\"colorscale\":[[0.0,\"#0d0887\"],[0.1111111111111111,\"#46039f\"],[0.2222222222222222,\"#7201a8\"],[0.3333333333333333,\"#9c179e\"],[0.4444444444444444,\"#bd3786\"],[0.5555555555555556,\"#d8576b\"],[0.6666666666666666,\"#ed7953\"],[0.7777777777777778,\"#fb9f3a\"],[0.8888888888888888,\"#fdca26\"],[1.0,\"#f0f921\"]],\"type\":\"histogram2dcontour\"}],\"histogram2d\":[{\"colorbar\":{\"outlinewidth\":0,\"ticks\":\"\"},\"colorscale\":[[0.0,\"#0d0887\"],[0.1111111111111111,\"#46039f\"],[0.2222222222222222,\"#7201a8\"],[0.3333333333333333,\"#9c179e\"],[0.4444444444444444,\"#bd3786\"],[0.5555555555555556,\"#d8576b\"],[0.6666666666666666,\"#ed7953\"],[0.7777777777777778,\"#fb9f3a\"],[0.8888888888888888,\"#fdca26\"],[1.0,\"#f0f921\"]],\"type\":\"histogram2d\"}],\"histogram\":[{\"marker\":{\"pattern\":{\"fillmode\":\"overlay\",\"size\":10,\"solidity\":0.2}},\"type\":\"histogram\"}],\"mesh3d\":[{\"colorbar\":{\"outlinewidth\":0,\"ticks\":\"\"},\"type\":\"mesh3d\"}],\"parcoords\":[{\"line\":{\"colorbar\":{\"outlinewidth\":0,\"ticks\":\"\"}},\"type\":\"parcoords\"}],\"pie\":[{\"automargin\":true,\"type\":\"pie\"}],\"scatter3d\":[{\"line\":{\"colorbar\":{\"outlinewidth\":0,\"ticks\":\"\"}},\"marker\":{\"colorbar\":{\"outlinewidth\":0,\"ticks\":\"\"}},\"type\":\"scatter3d\"}],\"scattercarpet\":[{\"marker\":{\"colorbar\":{\"outlinewidth\":0,\"ticks\":\"\"}},\"type\":\"scattercarpet\"}],\"scattergeo\":[{\"marker\":{\"colorbar\":{\"outlinewidth\":0,\"ticks\":\"\"}},\"type\":\"scattergeo\"}],\"scattergl\":[{\"marker\":{\"colorbar\":{\"outlinewidth\":0,\"ticks\":\"\"}},\"type\":\"scattergl\"}],\"scattermapbox\":[{\"marker\":{\"colorbar\":{\"outlinewidth\":0,\"ticks\":\"\"}},\"type\":\"scattermapbox\"}],\"scatterpolargl\":[{\"marker\":{\"colorbar\":{\"outlinewidth\":0,\"ticks\":\"\"}},\"type\":\"scatterpolargl\"}],\"scatterpolar\":[{\"marker\":{\"colorbar\":{\"outlinewidth\":0,\"ticks\":\"\"}},\"type\":\"scatterpolar\"}],\"scatter\":[{\"marker\":{\"colorbar\":{\"outlinewidth\":0,\"ticks\":\"\"}},\"type\":\"scatter\"}],\"scatterternary\":[{\"marker\":{\"colorbar\":{\"outlinewidth\":0,\"ticks\":\"\"}},\"type\":\"scatterternary\"}],\"surface\":[{\"colorbar\":{\"outlinewidth\":0,\"ticks\":\"\"},\"colorscale\":[[0.0,\"#0d0887\"],[0.1111111111111111,\"#46039f\"],[0.2222222222222222,\"#7201a8\"],[0.3333333333333333,\"#9c179e\"],[0.4444444444444444,\"#bd3786\"],[0.5555555555555556,\"#d8576b\"],[0.6666666666666666,\"#ed7953\"],[0.7777777777777778,\"#fb9f3a\"],[0.8888888888888888,\"#fdca26\"],[1.0,\"#f0f921\"]],\"type\":\"surface\"}],\"table\":[{\"cells\":{\"fill\":{\"color\":\"#EBF0F8\"},\"line\":{\"color\":\"white\"}},\"header\":{\"fill\":{\"color\":\"#C8D4E3\"},\"line\":{\"color\":\"white\"}},\"type\":\"table\"}]},\"layout\":{\"annotationdefaults\":{\"arrowcolor\":\"#2a3f5f\",\"arrowhead\":0,\"arrowwidth\":1},\"autotypenumbers\":\"strict\",\"coloraxis\":{\"colorbar\":{\"outlinewidth\":0,\"ticks\":\"\"}},\"colorscale\":{\"diverging\":[[0,\"#8e0152\"],[0.1,\"#c51b7d\"],[0.2,\"#de77ae\"],[0.3,\"#f1b6da\"],[0.4,\"#fde0ef\"],[0.5,\"#f7f7f7\"],[0.6,\"#e6f5d0\"],[0.7,\"#b8e186\"],[0.8,\"#7fbc41\"],[0.9,\"#4d9221\"],[1,\"#276419\"]],\"sequential\":[[0.0,\"#0d0887\"],[0.1111111111111111,\"#46039f\"],[0.2222222222222222,\"#7201a8\"],[0.3333333333333333,\"#9c179e\"],[0.4444444444444444,\"#bd3786\"],[0.5555555555555556,\"#d8576b\"],[0.6666666666666666,\"#ed7953\"],[0.7777777777777778,\"#fb9f3a\"],[0.8888888888888888,\"#fdca26\"],[1.0,\"#f0f921\"]],\"sequentialminus\":[[0.0,\"#0d0887\"],[0.1111111111111111,\"#46039f\"],[0.2222222222222222,\"#7201a8\"],[0.3333333333333333,\"#9c179e\"],[0.4444444444444444,\"#bd3786\"],[0.5555555555555556,\"#d8576b\"],[0.6666666666666666,\"#ed7953\"],[0.7777777777777778,\"#fb9f3a\"],[0.8888888888888888,\"#fdca26\"],[1.0,\"#f0f921\"]]},\"colorway\":[\"#636efa\",\"#EF553B\",\"#00cc96\",\"#ab63fa\",\"#FFA15A\",\"#19d3f3\",\"#FF6692\",\"#B6E880\",\"#FF97FF\",\"#FECB52\"],\"font\":{\"color\":\"#2a3f5f\"},\"geo\":{\"bgcolor\":\"white\",\"lakecolor\":\"white\",\"landcolor\":\"white\",\"showlakes\":true,\"showland\":true,\"subunitcolor\":\"#C8D4E3\"},\"hoverlabel\":{\"align\":\"left\"},\"hovermode\":\"closest\",\"mapbox\":{\"style\":\"light\"},\"paper_bgcolor\":\"white\",\"plot_bgcolor\":\"white\",\"polar\":{\"angularaxis\":{\"gridcolor\":\"#EBF0F8\",\"linecolor\":\"#EBF0F8\",\"ticks\":\"\"},\"bgcolor\":\"white\",\"radialaxis\":{\"gridcolor\":\"#EBF0F8\",\"linecolor\":\"#EBF0F8\",\"ticks\":\"\"}},\"scene\":{\"xaxis\":{\"backgroundcolor\":\"white\",\"gridcolor\":\"#DFE8F3\",\"gridwidth\":2,\"linecolor\":\"#EBF0F8\",\"showbackground\":true,\"ticks\":\"\",\"zerolinecolor\":\"#EBF0F8\"},\"yaxis\":{\"backgroundcolor\":\"white\",\"gridcolor\":\"#DFE8F3\",\"gridwidth\":2,\"linecolor\":\"#EBF0F8\",\"showbackground\":true,\"ticks\":\"\",\"zerolinecolor\":\"#EBF0F8\"},\"zaxis\":{\"backgroundcolor\":\"white\",\"gridcolor\":\"#DFE8F3\",\"gridwidth\":2,\"linecolor\":\"#EBF0F8\",\"showbackground\":true,\"ticks\":\"\",\"zerolinecolor\":\"#EBF0F8\"}},\"shapedefaults\":{\"line\":{\"color\":\"#2a3f5f\"}},\"ternary\":{\"aaxis\":{\"gridcolor\":\"#DFE8F3\",\"linecolor\":\"#A2B1C6\",\"ticks\":\"\"},\"baxis\":{\"gridcolor\":\"#DFE8F3\",\"linecolor\":\"#A2B1C6\",\"ticks\":\"\"},\"bgcolor\":\"white\",\"caxis\":{\"gridcolor\":\"#DFE8F3\",\"linecolor\":\"#A2B1C6\",\"ticks\":\"\"}},\"title\":{\"x\":0.05},\"xaxis\":{\"automargin\":true,\"gridcolor\":\"#EBF0F8\",\"linecolor\":\"#EBF0F8\",\"ticks\":\"\",\"title\":{\"standoff\":15},\"zerolinecolor\":\"#EBF0F8\",\"zerolinewidth\":2},\"yaxis\":{\"automargin\":true,\"gridcolor\":\"#EBF0F8\",\"linecolor\":\"#EBF0F8\",\"ticks\":\"\",\"title\":{\"standoff\":15},\"zerolinecolor\":\"#EBF0F8\",\"zerolinewidth\":2}}},\"title\":{\"font\":{\"size\":22,\"color\":\"Black\"},\"text\":\"<b>Hierarchical Clustering\",\"x\":0.5,\"xanchor\":\"center\",\"yanchor\":\"top\"},\"hoverlabel\":{\"font\":{\"size\":16,\"family\":\"Rockwell\"},\"bgcolor\":\"white\"},\"plot_bgcolor\":\"#ECEFF1\"},                        {\"responsive\": true}                    ).then(function(){\n",
              "                            \n",
              "var gd = document.getElementById('f7881765-d100-44f1-95e4-42aaee2b568c');\n",
              "var x = new MutationObserver(function (mutations, observer) {{\n",
              "        var display = window.getComputedStyle(gd).display;\n",
              "        if (!display || display === 'none') {{\n",
              "            console.log([gd, 'removed!']);\n",
              "            Plotly.purge(gd);\n",
              "            observer.disconnect();\n",
              "        }}\n",
              "}});\n",
              "\n",
              "// Listen for the removal of the full notebook cells\n",
              "var notebookContainer = gd.closest('#notebook-container');\n",
              "if (notebookContainer) {{\n",
              "    x.observe(notebookContainer, {childList: true});\n",
              "}}\n",
              "\n",
              "// Listen for the clearing of the current output cell\n",
              "var outputEl = gd.closest('.output');\n",
              "if (outputEl) {{\n",
              "    x.observe(outputEl, {childList: true});\n",
              "}}\n",
              "\n",
              "                        })                };                            </script>        </div>\n",
              "</body>\n",
              "</html>"
            ]
          },
          "metadata": {}
        }
      ]
    },
    {
      "cell_type": "markdown",
      "source": [
        "#### **Save Hierarchical Clustering**"
      ],
      "metadata": {
        "id": "CyM_L5c6pBXw"
      }
    },
    {
      "cell_type": "code",
      "source": [
        "# Set the path to save \n",
        "path = f'/content/Topic-Modeling-Reclame-Aqui/results/{DATA_FRAME_FEATURE_NAME}/hierarchical_clustering/'\n",
        "\n",
        "# Use makedirs() to create a new directory if it does not exists\n",
        "if not os.path.exists(path):\n",
        "  os.makedirs(path)\n",
        "\n",
        "\n",
        "fig.write_image(path + \"hc_preprocessed_lemma.png\", format=\"png\")"
      ],
      "metadata": {
        "id": "CHYmk_TZpHPJ"
      },
      "execution_count": 168,
      "outputs": []
    },
    {
      "cell_type": "markdown",
      "source": [
        "[Github link](https://github.com/punkmic/Topic-Modeling-Reclame-Aqui/blob/master/results/hierarchical_clustering/hc_preprocessed_lemma.png?raw=true)"
      ],
      "metadata": {
        "id": "VrqyRupApBx1"
      }
    },
    {
      "cell_type": "markdown",
      "source": [
        "### **Visualize Terms**\n",
        "\n",
        "We can visualize the selected terms for a few topics by creating bar charts out of the c-TF-IDF scores for each topic representation."
      ],
      "metadata": {
        "id": "uC26Cc-6UvYE"
      }
    },
    {
      "cell_type": "code",
      "source": [
        "fig = topic_model.visualize_barchart(top_n_topics=12, width=300, height=300)\n",
        "fig"
      ],
      "metadata": {
        "id": "-NoMSyeWVF2s",
        "outputId": "dcd56332-4137-4f49-aa64-b86b6572cead",
        "colab": {
          "base_uri": "https://localhost:8080/",
          "height": 937
        }
      },
      "execution_count": 169,
      "outputs": [
        {
          "output_type": "display_data",
          "data": {
            "text/html": [
              "<html>\n",
              "<head><meta charset=\"utf-8\" /></head>\n",
              "<body>\n",
              "    <div>            <script src=\"https://cdnjs.cloudflare.com/ajax/libs/mathjax/2.7.5/MathJax.js?config=TeX-AMS-MML_SVG\"></script><script type=\"text/javascript\">if (window.MathJax) {MathJax.Hub.Config({SVG: {font: \"STIX-Web\"}});}</script>                <script type=\"text/javascript\">window.PlotlyConfig = {MathJaxConfig: 'local'};</script>\n",
              "        <script src=\"https://cdn.plot.ly/plotly-2.8.3.min.js\"></script>                <div id=\"1867c283-bdb4-4aed-8631-d093d6a43ef4\" class=\"plotly-graph-div\" style=\"height:900px; width:1200px;\"></div>            <script type=\"text/javascript\">                                    window.PLOTLYENV=window.PLOTLYENV || {};                                    if (document.getElementById(\"1867c283-bdb4-4aed-8631-d093d6a43ef4\")) {                    Plotly.newPlot(                        \"1867c283-bdb4-4aed-8631-d093d6a43ef4\",                        [{\"marker\":{\"color\":\"#D55E00\"},\"orientation\":\"h\",\"x\":[0.017625068530599128,0.017638062155466563,0.018609249540710374,0.02861950568175978,0.05457878492990092],\"y\":[\"fatura  \",\"cobran\\u00e7a  \",\"cobrar  \",\"cr\\u00e9dito  \",\"cart\\u00e3o  \"],\"type\":\"bar\",\"xaxis\":\"x\",\"yaxis\":\"y\"},{\"marker\":{\"color\":\"#0072B2\"},\"orientation\":\"h\",\"x\":[0.009919078026235354,0.011259323754437094,0.01413577740526283,0.019604892689789263,0.04247199953074286],\"y\":[\"loja  \",\"comprar  \",\"smartphone  \",\"aparelho  \",\"celular  \"],\"type\":\"bar\",\"xaxis\":\"x2\",\"yaxis\":\"y2\"},{\"marker\":{\"color\":\"#CC79A7\"},\"orientation\":\"h\",\"x\":[0.010546116843300327,0.010771586872155414,0.011158438901439345,0.014621090673074719,0.04734472393213764],\"y\":[\"entrar  \",\"atendimento  \",\"entregar  \",\"contato  \",\"whatsapp  \"],\"type\":\"bar\",\"xaxis\":\"x3\",\"yaxis\":\"y3\"},{\"marker\":{\"color\":\"#E69F00\"},\"orientation\":\"h\",\"x\":[0.008083807320313361,0.008625001803399897,0.009207233764850954,0.01349715175839047,0.049717032537084684],\"y\":[\"compra  \",\"pedir  \",\"chegar  \",\"brasileiro  \",\"brasil  \"],\"type\":\"bar\",\"xaxis\":\"x4\",\"yaxis\":\"y4\"},{\"marker\":{\"color\":\"#56B4E9\"},\"orientation\":\"h\",\"x\":[0.03697566882518802,0.039277098572299274,0.039300752857390264,0.04161091188309981,0.04898859773422636],\"y\":[\"acesso  \",\"senha  \",\"acessar  \",\"email  \",\"conta  \"],\"type\":\"bar\",\"xaxis\":\"x5\",\"yaxis\":\"y5\"},{\"marker\":{\"color\":\"#009E73\"},\"orientation\":\"h\",\"x\":[0.01832315618686313,0.021196274744522688,0.048384340141938445,0.04939841991925638,0.06557866467580127],\"y\":[\"guarda  \",\"tamanho  \",\"vestir  \",\"cal\\u00e7a  \",\"roupa  \"],\"type\":\"bar\",\"xaxis\":\"x6\",\"yaxis\":\"y6\"},{\"marker\":{\"color\":\"#F0E442\"},\"orientation\":\"h\",\"x\":[0.00823261824897075,0.008354346491373248,0.008470397219451762,0.00993442267089803,0.010910494807490415],\"y\":[\"contato  \",\"entrar  \",\"poder  \",\"magalu  \",\"loja  \"],\"type\":\"bar\",\"xaxis\":\"x7\",\"yaxis\":\"y7\"},{\"marker\":{\"color\":\"#D55E00\"},\"orientation\":\"h\",\"x\":[0.012816877839565834,0.013049150544087765,0.013745277313578233,0.017553712982425813,0.025593594584212342],\"y\":[\"reclama\\u00e7\\u00e3o  \",\"infra\\u00e7\\u00e3o  \",\"vendedor  \",\"produto  \",\"ariano  \"],\"type\":\"bar\",\"xaxis\":\"x8\",\"yaxis\":\"y8\"},{\"marker\":{\"color\":\"#0072B2\"},\"orientation\":\"h\",\"x\":[0.02282203871620625,0.026112059240813508,0.031117338826473846,0.032564881838184165,0.05153867642498261],\"y\":[\"compra  \",\"devolver  \",\"voltar  \",\"reembolso  \",\"dinheiro  \"],\"type\":\"bar\",\"xaxis\":\"x9\",\"yaxis\":\"y9\"},{\"marker\":{\"color\":\"#CC79A7\"},\"orientation\":\"h\",\"x\":[0.019727559320888193,0.021947351538157685,0.027085655465870523,0.0373246090383073,0.08068126153758999],\"y\":[\"entregar  \",\"chegar  \",\"outubro  \",\"dezembro  \",\"novembro  \"],\"type\":\"bar\",\"xaxis\":\"x10\",\"yaxis\":\"y10\"},{\"marker\":{\"color\":\"#E69F00\"},\"orientation\":\"h\",\"x\":[0.013564722549529586,0.015489742655852888,0.019421756307652752,0.038106450285961206,0.049200106158362455],\"y\":[\"site  \",\"solicitei  \",\"pedir  \",\"cancelar  \",\"cancelamento  \"],\"type\":\"bar\",\"xaxis\":\"x11\",\"yaxis\":\"y11\"},{\"marker\":{\"color\":\"#56B4E9\"},\"orientation\":\"h\",\"x\":[0.010730882116738503,0.012721802040772497,0.013152167902323795,0.021795828713161193,0.06999238739785982],\"y\":[\"valor  \",\"carregador  \",\"celular  \",\"aparelho  \",\"iphone  \"],\"type\":\"bar\",\"xaxis\":\"x12\",\"yaxis\":\"y12\"}],                        {\"template\":{\"data\":{\"barpolar\":[{\"marker\":{\"line\":{\"color\":\"white\",\"width\":0.5},\"pattern\":{\"fillmode\":\"overlay\",\"size\":10,\"solidity\":0.2}},\"type\":\"barpolar\"}],\"bar\":[{\"error_x\":{\"color\":\"#2a3f5f\"},\"error_y\":{\"color\":\"#2a3f5f\"},\"marker\":{\"line\":{\"color\":\"white\",\"width\":0.5},\"pattern\":{\"fillmode\":\"overlay\",\"size\":10,\"solidity\":0.2}},\"type\":\"bar\"}],\"carpet\":[{\"aaxis\":{\"endlinecolor\":\"#2a3f5f\",\"gridcolor\":\"#C8D4E3\",\"linecolor\":\"#C8D4E3\",\"minorgridcolor\":\"#C8D4E3\",\"startlinecolor\":\"#2a3f5f\"},\"baxis\":{\"endlinecolor\":\"#2a3f5f\",\"gridcolor\":\"#C8D4E3\",\"linecolor\":\"#C8D4E3\",\"minorgridcolor\":\"#C8D4E3\",\"startlinecolor\":\"#2a3f5f\"},\"type\":\"carpet\"}],\"choropleth\":[{\"colorbar\":{\"outlinewidth\":0,\"ticks\":\"\"},\"type\":\"choropleth\"}],\"contourcarpet\":[{\"colorbar\":{\"outlinewidth\":0,\"ticks\":\"\"},\"type\":\"contourcarpet\"}],\"contour\":[{\"colorbar\":{\"outlinewidth\":0,\"ticks\":\"\"},\"colorscale\":[[0.0,\"#0d0887\"],[0.1111111111111111,\"#46039f\"],[0.2222222222222222,\"#7201a8\"],[0.3333333333333333,\"#9c179e\"],[0.4444444444444444,\"#bd3786\"],[0.5555555555555556,\"#d8576b\"],[0.6666666666666666,\"#ed7953\"],[0.7777777777777778,\"#fb9f3a\"],[0.8888888888888888,\"#fdca26\"],[1.0,\"#f0f921\"]],\"type\":\"contour\"}],\"heatmapgl\":[{\"colorbar\":{\"outlinewidth\":0,\"ticks\":\"\"},\"colorscale\":[[0.0,\"#0d0887\"],[0.1111111111111111,\"#46039f\"],[0.2222222222222222,\"#7201a8\"],[0.3333333333333333,\"#9c179e\"],[0.4444444444444444,\"#bd3786\"],[0.5555555555555556,\"#d8576b\"],[0.6666666666666666,\"#ed7953\"],[0.7777777777777778,\"#fb9f3a\"],[0.8888888888888888,\"#fdca26\"],[1.0,\"#f0f921\"]],\"type\":\"heatmapgl\"}],\"heatmap\":[{\"colorbar\":{\"outlinewidth\":0,\"ticks\":\"\"},\"colorscale\":[[0.0,\"#0d0887\"],[0.1111111111111111,\"#46039f\"],[0.2222222222222222,\"#7201a8\"],[0.3333333333333333,\"#9c179e\"],[0.4444444444444444,\"#bd3786\"],[0.5555555555555556,\"#d8576b\"],[0.6666666666666666,\"#ed7953\"],[0.7777777777777778,\"#fb9f3a\"],[0.8888888888888888,\"#fdca26\"],[1.0,\"#f0f921\"]],\"type\":\"heatmap\"}],\"histogram2dcontour\":[{\"colorbar\":{\"outlinewidth\":0,\"ticks\":\"\"},\"colorscale\":[[0.0,\"#0d0887\"],[0.1111111111111111,\"#46039f\"],[0.2222222222222222,\"#7201a8\"],[0.3333333333333333,\"#9c179e\"],[0.4444444444444444,\"#bd3786\"],[0.5555555555555556,\"#d8576b\"],[0.6666666666666666,\"#ed7953\"],[0.7777777777777778,\"#fb9f3a\"],[0.8888888888888888,\"#fdca26\"],[1.0,\"#f0f921\"]],\"type\":\"histogram2dcontour\"}],\"histogram2d\":[{\"colorbar\":{\"outlinewidth\":0,\"ticks\":\"\"},\"colorscale\":[[0.0,\"#0d0887\"],[0.1111111111111111,\"#46039f\"],[0.2222222222222222,\"#7201a8\"],[0.3333333333333333,\"#9c179e\"],[0.4444444444444444,\"#bd3786\"],[0.5555555555555556,\"#d8576b\"],[0.6666666666666666,\"#ed7953\"],[0.7777777777777778,\"#fb9f3a\"],[0.8888888888888888,\"#fdca26\"],[1.0,\"#f0f921\"]],\"type\":\"histogram2d\"}],\"histogram\":[{\"marker\":{\"pattern\":{\"fillmode\":\"overlay\",\"size\":10,\"solidity\":0.2}},\"type\":\"histogram\"}],\"mesh3d\":[{\"colorbar\":{\"outlinewidth\":0,\"ticks\":\"\"},\"type\":\"mesh3d\"}],\"parcoords\":[{\"line\":{\"colorbar\":{\"outlinewidth\":0,\"ticks\":\"\"}},\"type\":\"parcoords\"}],\"pie\":[{\"automargin\":true,\"type\":\"pie\"}],\"scatter3d\":[{\"line\":{\"colorbar\":{\"outlinewidth\":0,\"ticks\":\"\"}},\"marker\":{\"colorbar\":{\"outlinewidth\":0,\"ticks\":\"\"}},\"type\":\"scatter3d\"}],\"scattercarpet\":[{\"marker\":{\"colorbar\":{\"outlinewidth\":0,\"ticks\":\"\"}},\"type\":\"scattercarpet\"}],\"scattergeo\":[{\"marker\":{\"colorbar\":{\"outlinewidth\":0,\"ticks\":\"\"}},\"type\":\"scattergeo\"}],\"scattergl\":[{\"marker\":{\"colorbar\":{\"outlinewidth\":0,\"ticks\":\"\"}},\"type\":\"scattergl\"}],\"scattermapbox\":[{\"marker\":{\"colorbar\":{\"outlinewidth\":0,\"ticks\":\"\"}},\"type\":\"scattermapbox\"}],\"scatterpolargl\":[{\"marker\":{\"colorbar\":{\"outlinewidth\":0,\"ticks\":\"\"}},\"type\":\"scatterpolargl\"}],\"scatterpolar\":[{\"marker\":{\"colorbar\":{\"outlinewidth\":0,\"ticks\":\"\"}},\"type\":\"scatterpolar\"}],\"scatter\":[{\"marker\":{\"colorbar\":{\"outlinewidth\":0,\"ticks\":\"\"}},\"type\":\"scatter\"}],\"scatterternary\":[{\"marker\":{\"colorbar\":{\"outlinewidth\":0,\"ticks\":\"\"}},\"type\":\"scatterternary\"}],\"surface\":[{\"colorbar\":{\"outlinewidth\":0,\"ticks\":\"\"},\"colorscale\":[[0.0,\"#0d0887\"],[0.1111111111111111,\"#46039f\"],[0.2222222222222222,\"#7201a8\"],[0.3333333333333333,\"#9c179e\"],[0.4444444444444444,\"#bd3786\"],[0.5555555555555556,\"#d8576b\"],[0.6666666666666666,\"#ed7953\"],[0.7777777777777778,\"#fb9f3a\"],[0.8888888888888888,\"#fdca26\"],[1.0,\"#f0f921\"]],\"type\":\"surface\"}],\"table\":[{\"cells\":{\"fill\":{\"color\":\"#EBF0F8\"},\"line\":{\"color\":\"white\"}},\"header\":{\"fill\":{\"color\":\"#C8D4E3\"},\"line\":{\"color\":\"white\"}},\"type\":\"table\"}]},\"layout\":{\"annotationdefaults\":{\"arrowcolor\":\"#2a3f5f\",\"arrowhead\":0,\"arrowwidth\":1},\"autotypenumbers\":\"strict\",\"coloraxis\":{\"colorbar\":{\"outlinewidth\":0,\"ticks\":\"\"}},\"colorscale\":{\"diverging\":[[0,\"#8e0152\"],[0.1,\"#c51b7d\"],[0.2,\"#de77ae\"],[0.3,\"#f1b6da\"],[0.4,\"#fde0ef\"],[0.5,\"#f7f7f7\"],[0.6,\"#e6f5d0\"],[0.7,\"#b8e186\"],[0.8,\"#7fbc41\"],[0.9,\"#4d9221\"],[1,\"#276419\"]],\"sequential\":[[0.0,\"#0d0887\"],[0.1111111111111111,\"#46039f\"],[0.2222222222222222,\"#7201a8\"],[0.3333333333333333,\"#9c179e\"],[0.4444444444444444,\"#bd3786\"],[0.5555555555555556,\"#d8576b\"],[0.6666666666666666,\"#ed7953\"],[0.7777777777777778,\"#fb9f3a\"],[0.8888888888888888,\"#fdca26\"],[1.0,\"#f0f921\"]],\"sequentialminus\":[[0.0,\"#0d0887\"],[0.1111111111111111,\"#46039f\"],[0.2222222222222222,\"#7201a8\"],[0.3333333333333333,\"#9c179e\"],[0.4444444444444444,\"#bd3786\"],[0.5555555555555556,\"#d8576b\"],[0.6666666666666666,\"#ed7953\"],[0.7777777777777778,\"#fb9f3a\"],[0.8888888888888888,\"#fdca26\"],[1.0,\"#f0f921\"]]},\"colorway\":[\"#636efa\",\"#EF553B\",\"#00cc96\",\"#ab63fa\",\"#FFA15A\",\"#19d3f3\",\"#FF6692\",\"#B6E880\",\"#FF97FF\",\"#FECB52\"],\"font\":{\"color\":\"#2a3f5f\"},\"geo\":{\"bgcolor\":\"white\",\"lakecolor\":\"white\",\"landcolor\":\"white\",\"showlakes\":true,\"showland\":true,\"subunitcolor\":\"#C8D4E3\"},\"hoverlabel\":{\"align\":\"left\"},\"hovermode\":\"closest\",\"mapbox\":{\"style\":\"light\"},\"paper_bgcolor\":\"white\",\"plot_bgcolor\":\"white\",\"polar\":{\"angularaxis\":{\"gridcolor\":\"#EBF0F8\",\"linecolor\":\"#EBF0F8\",\"ticks\":\"\"},\"bgcolor\":\"white\",\"radialaxis\":{\"gridcolor\":\"#EBF0F8\",\"linecolor\":\"#EBF0F8\",\"ticks\":\"\"}},\"scene\":{\"xaxis\":{\"backgroundcolor\":\"white\",\"gridcolor\":\"#DFE8F3\",\"gridwidth\":2,\"linecolor\":\"#EBF0F8\",\"showbackground\":true,\"ticks\":\"\",\"zerolinecolor\":\"#EBF0F8\"},\"yaxis\":{\"backgroundcolor\":\"white\",\"gridcolor\":\"#DFE8F3\",\"gridwidth\":2,\"linecolor\":\"#EBF0F8\",\"showbackground\":true,\"ticks\":\"\",\"zerolinecolor\":\"#EBF0F8\"},\"zaxis\":{\"backgroundcolor\":\"white\",\"gridcolor\":\"#DFE8F3\",\"gridwidth\":2,\"linecolor\":\"#EBF0F8\",\"showbackground\":true,\"ticks\":\"\",\"zerolinecolor\":\"#EBF0F8\"}},\"shapedefaults\":{\"line\":{\"color\":\"#2a3f5f\"}},\"ternary\":{\"aaxis\":{\"gridcolor\":\"#DFE8F3\",\"linecolor\":\"#A2B1C6\",\"ticks\":\"\"},\"baxis\":{\"gridcolor\":\"#DFE8F3\",\"linecolor\":\"#A2B1C6\",\"ticks\":\"\"},\"bgcolor\":\"white\",\"caxis\":{\"gridcolor\":\"#DFE8F3\",\"linecolor\":\"#A2B1C6\",\"ticks\":\"\"}},\"title\":{\"x\":0.05},\"xaxis\":{\"automargin\":true,\"gridcolor\":\"#EBF0F8\",\"linecolor\":\"#EBF0F8\",\"ticks\":\"\",\"title\":{\"standoff\":15},\"zerolinecolor\":\"#EBF0F8\",\"zerolinewidth\":2},\"yaxis\":{\"automargin\":true,\"gridcolor\":\"#EBF0F8\",\"linecolor\":\"#EBF0F8\",\"ticks\":\"\",\"title\":{\"standoff\":15},\"zerolinecolor\":\"#EBF0F8\",\"zerolinewidth\":2}}},\"xaxis\":{\"anchor\":\"y\",\"domain\":[0.0,0.175],\"showgrid\":true},\"yaxis\":{\"anchor\":\"x\",\"domain\":[0.7555555555555555,1.0],\"showgrid\":true},\"xaxis2\":{\"anchor\":\"y2\",\"domain\":[0.275,0.45],\"showgrid\":true},\"yaxis2\":{\"anchor\":\"x2\",\"domain\":[0.7555555555555555,1.0],\"showgrid\":true},\"xaxis3\":{\"anchor\":\"y3\",\"domain\":[0.55,0.7250000000000001],\"showgrid\":true},\"yaxis3\":{\"anchor\":\"x3\",\"domain\":[0.7555555555555555,1.0],\"showgrid\":true},\"xaxis4\":{\"anchor\":\"y4\",\"domain\":[0.825,1.0],\"showgrid\":true},\"yaxis4\":{\"anchor\":\"x4\",\"domain\":[0.7555555555555555,1.0],\"showgrid\":true},\"xaxis5\":{\"anchor\":\"y5\",\"domain\":[0.0,0.175],\"showgrid\":true},\"yaxis5\":{\"anchor\":\"x5\",\"domain\":[0.37777777777777777,0.6222222222222222],\"showgrid\":true},\"xaxis6\":{\"anchor\":\"y6\",\"domain\":[0.275,0.45],\"showgrid\":true},\"yaxis6\":{\"anchor\":\"x6\",\"domain\":[0.37777777777777777,0.6222222222222222],\"showgrid\":true},\"xaxis7\":{\"anchor\":\"y7\",\"domain\":[0.55,0.7250000000000001],\"showgrid\":true},\"yaxis7\":{\"anchor\":\"x7\",\"domain\":[0.37777777777777777,0.6222222222222222],\"showgrid\":true},\"xaxis8\":{\"anchor\":\"y8\",\"domain\":[0.825,1.0],\"showgrid\":true},\"yaxis8\":{\"anchor\":\"x8\",\"domain\":[0.37777777777777777,0.6222222222222222],\"showgrid\":true},\"xaxis9\":{\"anchor\":\"y9\",\"domain\":[0.0,0.175],\"showgrid\":true},\"yaxis9\":{\"anchor\":\"x9\",\"domain\":[0.0,0.24444444444444446],\"showgrid\":true},\"xaxis10\":{\"anchor\":\"y10\",\"domain\":[0.275,0.45],\"showgrid\":true},\"yaxis10\":{\"anchor\":\"x10\",\"domain\":[0.0,0.24444444444444446],\"showgrid\":true},\"xaxis11\":{\"anchor\":\"y11\",\"domain\":[0.55,0.7250000000000001],\"showgrid\":true},\"yaxis11\":{\"anchor\":\"x11\",\"domain\":[0.0,0.24444444444444446],\"showgrid\":true},\"xaxis12\":{\"anchor\":\"y12\",\"domain\":[0.825,1.0],\"showgrid\":true},\"yaxis12\":{\"anchor\":\"x12\",\"domain\":[0.0,0.24444444444444446],\"showgrid\":true},\"annotations\":[{\"font\":{\"size\":16},\"showarrow\":false,\"text\":\"Topic 0\",\"x\":0.0875,\"xanchor\":\"center\",\"xref\":\"paper\",\"y\":1.0,\"yanchor\":\"bottom\",\"yref\":\"paper\"},{\"font\":{\"size\":16},\"showarrow\":false,\"text\":\"Topic 1\",\"x\":0.36250000000000004,\"xanchor\":\"center\",\"xref\":\"paper\",\"y\":1.0,\"yanchor\":\"bottom\",\"yref\":\"paper\"},{\"font\":{\"size\":16},\"showarrow\":false,\"text\":\"Topic 2\",\"x\":0.6375000000000001,\"xanchor\":\"center\",\"xref\":\"paper\",\"y\":1.0,\"yanchor\":\"bottom\",\"yref\":\"paper\"},{\"font\":{\"size\":16},\"showarrow\":false,\"text\":\"Topic 3\",\"x\":0.9125,\"xanchor\":\"center\",\"xref\":\"paper\",\"y\":1.0,\"yanchor\":\"bottom\",\"yref\":\"paper\"},{\"font\":{\"size\":16},\"showarrow\":false,\"text\":\"Topic 4\",\"x\":0.0875,\"xanchor\":\"center\",\"xref\":\"paper\",\"y\":0.6222222222222222,\"yanchor\":\"bottom\",\"yref\":\"paper\"},{\"font\":{\"size\":16},\"showarrow\":false,\"text\":\"Topic 5\",\"x\":0.36250000000000004,\"xanchor\":\"center\",\"xref\":\"paper\",\"y\":0.6222222222222222,\"yanchor\":\"bottom\",\"yref\":\"paper\"},{\"font\":{\"size\":16},\"showarrow\":false,\"text\":\"Topic 6\",\"x\":0.6375000000000001,\"xanchor\":\"center\",\"xref\":\"paper\",\"y\":0.6222222222222222,\"yanchor\":\"bottom\",\"yref\":\"paper\"},{\"font\":{\"size\":16},\"showarrow\":false,\"text\":\"Topic 7\",\"x\":0.9125,\"xanchor\":\"center\",\"xref\":\"paper\",\"y\":0.6222222222222222,\"yanchor\":\"bottom\",\"yref\":\"paper\"},{\"font\":{\"size\":16},\"showarrow\":false,\"text\":\"Topic 8\",\"x\":0.0875,\"xanchor\":\"center\",\"xref\":\"paper\",\"y\":0.24444444444444446,\"yanchor\":\"bottom\",\"yref\":\"paper\"},{\"font\":{\"size\":16},\"showarrow\":false,\"text\":\"Topic 9\",\"x\":0.36250000000000004,\"xanchor\":\"center\",\"xref\":\"paper\",\"y\":0.24444444444444446,\"yanchor\":\"bottom\",\"yref\":\"paper\"},{\"font\":{\"size\":16},\"showarrow\":false,\"text\":\"Topic 10\",\"x\":0.6375000000000001,\"xanchor\":\"center\",\"xref\":\"paper\",\"y\":0.24444444444444446,\"yanchor\":\"bottom\",\"yref\":\"paper\"},{\"font\":{\"size\":16},\"showarrow\":false,\"text\":\"Topic 11\",\"x\":0.9125,\"xanchor\":\"center\",\"xref\":\"paper\",\"y\":0.24444444444444446,\"yanchor\":\"bottom\",\"yref\":\"paper\"}],\"title\":{\"font\":{\"size\":22,\"color\":\"Black\"},\"text\":\"<b>Topic Word Scores\",\"x\":0.5,\"xanchor\":\"center\",\"yanchor\":\"top\"},\"hoverlabel\":{\"font\":{\"size\":16,\"family\":\"Rockwell\"},\"bgcolor\":\"white\"},\"showlegend\":false,\"width\":1200,\"height\":900},                        {\"responsive\": true}                    ).then(function(){\n",
              "                            \n",
              "var gd = document.getElementById('1867c283-bdb4-4aed-8631-d093d6a43ef4');\n",
              "var x = new MutationObserver(function (mutations, observer) {{\n",
              "        var display = window.getComputedStyle(gd).display;\n",
              "        if (!display || display === 'none') {{\n",
              "            console.log([gd, 'removed!']);\n",
              "            Plotly.purge(gd);\n",
              "            observer.disconnect();\n",
              "        }}\n",
              "}});\n",
              "\n",
              "// Listen for the removal of the full notebook cells\n",
              "var notebookContainer = gd.closest('#notebook-container');\n",
              "if (notebookContainer) {{\n",
              "    x.observe(notebookContainer, {childList: true});\n",
              "}}\n",
              "\n",
              "// Listen for the clearing of the current output cell\n",
              "var outputEl = gd.closest('.output');\n",
              "if (outputEl) {{\n",
              "    x.observe(outputEl, {childList: true});\n",
              "}}\n",
              "\n",
              "                        })                };                            </script>        </div>\n",
              "</body>\n",
              "</html>"
            ]
          },
          "metadata": {}
        }
      ]
    },
    {
      "cell_type": "markdown",
      "source": [
        "#### **Save Top Word Scores Bar Chart**"
      ],
      "metadata": {
        "id": "MZWFicVqpWUA"
      }
    },
    {
      "cell_type": "code",
      "source": [
        "# Set the path to save \n",
        "path = f'/content/Topic-Modeling-Reclame-Aqui/results/{DATA_FRAME_FEATURE_NAME}/top_words_scores/'\n",
        "\n",
        "# Use makedirs() to create a new directory if it does not exists\n",
        "if not os.path.exists(path):\n",
        "  os.makedirs(path)\n",
        "\n",
        "\n",
        "fig.write_image(path + \"tws_preprocessed_lemma.png\", format=\"png\")"
      ],
      "metadata": {
        "id": "Qrz2ywMapdO5"
      },
      "execution_count": 170,
      "outputs": []
    },
    {
      "cell_type": "markdown",
      "source": [
        "[Github link](https://github.com/punkmic/Topic-Modeling-Reclame-Aqui/blob/master/results/top_words_scores/tws_preprocessed_lemma.png?raw=true)"
      ],
      "metadata": {
        "id": "HtFLmwl4pTAv"
      }
    },
    {
      "cell_type": "markdown",
      "source": [
        "### **Visualize Topic Similarity**\n",
        "\n",
        "This plot shows a similarity matrix by simply applying cosine similarities through those topic embeddings generate by BERTopic through both c-TF-IDF and embeddings. This matrix indicate how similar certain topics are to each other."
      ],
      "metadata": {
        "id": "qMjOvmYVVUDX"
      }
    },
    {
      "cell_type": "code",
      "source": [
        "fig = topic_model.visualize_heatmap(n_clusters=20, width=800, height=800)\n",
        "fig"
      ],
      "metadata": {
        "id": "_GL5qZ0nV3M2",
        "outputId": "25560cdb-cd92-4657-84d5-5e1429671570",
        "colab": {
          "base_uri": "https://localhost:8080/",
          "height": 837
        }
      },
      "execution_count": 171,
      "outputs": [
        {
          "output_type": "display_data",
          "data": {
            "text/html": [
              "<html>\n",
              "<head><meta charset=\"utf-8\" /></head>\n",
              "<body>\n",
              "    <div>            <script src=\"https://cdnjs.cloudflare.com/ajax/libs/mathjax/2.7.5/MathJax.js?config=TeX-AMS-MML_SVG\"></script><script type=\"text/javascript\">if (window.MathJax) {MathJax.Hub.Config({SVG: {font: \"STIX-Web\"}});}</script>                <script type=\"text/javascript\">window.PlotlyConfig = {MathJaxConfig: 'local'};</script>\n",
              "        <script src=\"https://cdn.plot.ly/plotly-2.8.3.min.js\"></script>                <div id=\"4370628a-2976-4c89-b9c4-c58a6cac8efc\" class=\"plotly-graph-div\" style=\"height:800px; width:800px;\"></div>            <script type=\"text/javascript\">                                    window.PLOTLYENV=window.PLOTLYENV || {};                                    if (document.getElementById(\"4370628a-2976-4c89-b9c4-c58a6cac8efc\")) {                    Plotly.newPlot(                        \"4370628a-2976-4c89-b9c4-c58a6cac8efc\",                        [{\"coloraxis\":\"coloraxis\",\"name\":\"0\",\"x\":[\"0_cart\\u00e3o_cr\\u00e9dito_cobrar\",\"46_cashback_valor_extrato\",\"1_celular_aparelho_smartphone\",\"11_iphone_aparelho_celular\",\"42_bluetooth_fone_controle\",\"2_whatsapp_contato_entregar\",\"53_reconhecimento_facial_ro...\",\"78_https_lepsably_wwwameric...\",\"3_brasil_brasileiro_chegar\",\"37_china_nacional_correios\",\"4_conta_email_acessar\",\"18_rastreio_c\\u00f3digo_rastream...\",\"26_prime_v\\u00eddeo_assinatura\",\"31_foto_placa_c\\u00e2mera\",\"48_amazoncombr_transportado...\",\"76_rastrear_transportadora_...\",\"5_roupa_cal\\u00e7a_vestir\",\"28_vir_garrafa_caixa\",\"58_cama_comprei_colch\\u00e3o\",\"70_liquidificador_quebrar_d...\",\"6_loja_magalu_poder\",\"7_ariano_produto_vendedor\",\"14_pedir_entregar_encomenda\",\"27_curitiba_parado_tr\\u00e2nsito\",\"29_juliana_fraga_produto_m\\u00e1...\",\"32_endere\\u00e7o_produto_contato\",\"34_jogo_lan\\u00e7amento_ragnarok\",\"40_entregar_esperar_ningu\\u00e9m\",\"44_prazo_cumprir_entregar\",\"45_produto_derreter_compr\",\"50_produto_separa\\u00e7\\u00e3o_entregar\",\"54_transportadora_entregar_...\",\"56_novembro_falar_reclamacao\",\"57_dinheiro_site_ganhar\",\"59_frete_vendedor_prazo\",\"66_esperar_sof\\u00e1_segundafeira\",\"68_boleto_paguei_reembolso\",\"69_cadeirinha_alterar_atraso\",\"75_cancelar_clip_cancelamento\",\"77_jogo_lan\\u00e7amento_spoiler\",\"80_secador_bagun\\u00e7a_prazo\",\"81_loja_antecipa\\u00e7\\u00e3o_aguardo\",\"82_caneta_escolhi_caixa\",\"8_dinheiro_reembolso_voltar\",\"21_cancelamento_cancelar_re...\",\"33_nota_desconto_valor\",\"9_novembro_dezembro_outubro\",\"17_previs\\u00e3o_entregar_prazo\",\"71_previs\\u00e3o_prazo_planejame...\",\"72_clima_atualizar_anormal\",\"79_novembro_nacional_paiolla\",\"10_cancelamento_cancelar_pe...\",\"12_black_friday_promo\\u00e7\\u00e3o\",\"13_endere\\u00e7o_pedir_remetente\",\"19_livro_compr_dois\",\"30_gr\\u00e1tis_frete_anunciar\",\"35_internacional_nacional_e...\",\"41_endere\\u00e7o_site_tentar\",\"43_devolu\\u00e7\\u00e3o_postagem_solic...\",\"49_carrinho_bicicleta_querer\",\"62_ningu\\u00e9m_nada_entregar\",\"64_chat_desbloqueio_autoate...\",\"65_esposo_marido_evid\\u00eancia\",\"15_geladeira_refrigerador_g...\",\"63_microondas_eletrotrader_...\",\"16_aplicativo_compra_reembo...\",\"22_cobran\\u00e7a_amazoncombr_dig...\",\"23_pagamento_comprovante_pa...\",\"20_t\\u00eanis_mizuno_tenis\",\"39_notebook_dell_loja\",\"24_rob\\u00f4_aspirador_macac\\u00e3o\",\"60_pneu_pastilha_pirelli\",\"25_m\\u00e1quina_lavar_roupa\",\"67_forno_el\\u00e9trico_embutir\",\"74_l\\u00e2mpada_lampada_l\\u00e2mpar\",\"36_perfume_shampoo_cabelo\",\"38_televis\\u00e3o_monitor_televi...\",\"52_cadeira_montar_mesa\",\"55_sof\\u00e1_mobly_magalu\",\"47_bicicleta_capacete_bike\",\"51_m\\u00fasica_music_ouvir\",\"73_echo_microfone_studio\",\"61_mouse_teclado_combo\"],\"y\":[\"0_cart\\u00e3o_cr\\u00e9dito_cobrar\",\"46_cashback_valor_extrato\",\"1_celular_aparelho_smartphone\",\"11_iphone_aparelho_celular\",\"42_bluetooth_fone_controle\",\"2_whatsapp_contato_entregar\",\"53_reconhecimento_facial_ro...\",\"78_https_lepsably_wwwameric...\",\"3_brasil_brasileiro_chegar\",\"37_china_nacional_correios\",\"4_conta_email_acessar\",\"18_rastreio_c\\u00f3digo_rastream...\",\"26_prime_v\\u00eddeo_assinatura\",\"31_foto_placa_c\\u00e2mera\",\"48_amazoncombr_transportado...\",\"76_rastrear_transportadora_...\",\"5_roupa_cal\\u00e7a_vestir\",\"28_vir_garrafa_caixa\",\"58_cama_comprei_colch\\u00e3o\",\"70_liquidificador_quebrar_d...\",\"6_loja_magalu_poder\",\"7_ariano_produto_vendedor\",\"14_pedir_entregar_encomenda\",\"27_curitiba_parado_tr\\u00e2nsito\",\"29_juliana_fraga_produto_m\\u00e1...\",\"32_endere\\u00e7o_produto_contato\",\"34_jogo_lan\\u00e7amento_ragnarok\",\"40_entregar_esperar_ningu\\u00e9m\",\"44_prazo_cumprir_entregar\",\"45_produto_derreter_compr\",\"50_produto_separa\\u00e7\\u00e3o_entregar\",\"54_transportadora_entregar_...\",\"56_novembro_falar_reclamacao\",\"57_dinheiro_site_ganhar\",\"59_frete_vendedor_prazo\",\"66_esperar_sof\\u00e1_segundafeira\",\"68_boleto_paguei_reembolso\",\"69_cadeirinha_alterar_atraso\",\"75_cancelar_clip_cancelamento\",\"77_jogo_lan\\u00e7amento_spoiler\",\"80_secador_bagun\\u00e7a_prazo\",\"81_loja_antecipa\\u00e7\\u00e3o_aguardo\",\"82_caneta_escolhi_caixa\",\"8_dinheiro_reembolso_voltar\",\"21_cancelamento_cancelar_re...\",\"33_nota_desconto_valor\",\"9_novembro_dezembro_outubro\",\"17_previs\\u00e3o_entregar_prazo\",\"71_previs\\u00e3o_prazo_planejame...\",\"72_clima_atualizar_anormal\",\"79_novembro_nacional_paiolla\",\"10_cancelamento_cancelar_pe...\",\"12_black_friday_promo\\u00e7\\u00e3o\",\"13_endere\\u00e7o_pedir_remetente\",\"19_livro_compr_dois\",\"30_gr\\u00e1tis_frete_anunciar\",\"35_internacional_nacional_e...\",\"41_endere\\u00e7o_site_tentar\",\"43_devolu\\u00e7\\u00e3o_postagem_solic...\",\"49_carrinho_bicicleta_querer\",\"62_ningu\\u00e9m_nada_entregar\",\"64_chat_desbloqueio_autoate...\",\"65_esposo_marido_evid\\u00eancia\",\"15_geladeira_refrigerador_g...\",\"63_microondas_eletrotrader_...\",\"16_aplicativo_compra_reembo...\",\"22_cobran\\u00e7a_amazoncombr_dig...\",\"23_pagamento_comprovante_pa...\",\"20_t\\u00eanis_mizuno_tenis\",\"39_notebook_dell_loja\",\"24_rob\\u00f4_aspirador_macac\\u00e3o\",\"60_pneu_pastilha_pirelli\",\"25_m\\u00e1quina_lavar_roupa\",\"67_forno_el\\u00e9trico_embutir\",\"74_l\\u00e2mpada_lampada_l\\u00e2mpar\",\"36_perfume_shampoo_cabelo\",\"38_televis\\u00e3o_monitor_televi...\",\"52_cadeira_montar_mesa\",\"55_sof\\u00e1_mobly_magalu\",\"47_bicicleta_capacete_bike\",\"51_m\\u00fasica_music_ouvir\",\"73_echo_microfone_studio\",\"61_mouse_teclado_combo\"],\"z\":[[1.0,0.7390578066129417,0.580095260018118,0.5954099766096501,0.5268763305503079,0.5270849090004031,0.575726045747303,0.6142379724462409,0.5492671660028279,0.5931526389349467,0.6759380830736222,0.6574521654320817,0.6910921791942998,0.6678375149424046,0.7143888210600915,0.6092029898309228,0.6049502982654962,0.6594622450994012,0.5847971595238535,0.6765534287906017,0.7229230350770466,0.7500497864734402,0.6863329392580502,0.648356813129001,0.6799303102058352,0.7397934863023355,0.7011249911027124,0.7102878628422993,0.7344200064666475,0.7268276697269306,0.693977859817298,0.6982428108990631,0.7083968229047425,0.7837929039376378,0.7367929858713675,0.664904687483901,0.8164938315153356,0.6820804408110599,0.702772722797552,0.6831845494147706,0.6328791638302764,0.7073499281784554,0.7433669897628195,0.8211790577338993,0.7766558315902065,0.8530169079466764,0.6568169811685949,0.6604594349349399,0.6605302616038735,0.5912102016915368,0.6592138148244111,0.634673883610189,0.7549956172617385,0.7192294270331178,0.6483992719964823,0.7487154037830255,0.7090814650757085,0.6962419998637978,0.7225245526371848,0.6573241586083434,0.6140528464904971,0.6425535374940148,0.5911589452061249,0.4748190944113832,0.3816830462823711,0.7811038872997572,0.8152282141435498,0.8856374519694249,0.5022600859124899,0.5828163994414985,0.42768150222875345,0.5054275737194015,0.5016242932318077,0.523670529910971,0.5564912507260737,0.42883083676048217,0.4386298218620971,0.505457326727041,0.43760172480623394,0.39900409554037825,0.536998750573625,0.5371620826124239,0.3819223214786315],[0.7390578066129417,1.0000000000000002,0.4881216634755836,0.46862195861120626,0.4742656902878285,0.5496981202430091,0.5444130090113046,0.5802261380826343,0.43689241941484513,0.46694528551791853,0.6424929213064257,0.5983649595584429,0.6242951891967626,0.5938962987310537,0.6555303560459029,0.5672325669956607,0.5297200624002354,0.6088270291002649,0.5826001663231943,0.623629206454013,0.6540110140227069,0.6560653707279859,0.6573412262856785,0.6503704520964472,0.6217737985888665,0.6598916306231305,0.6424562412088646,0.664320139915084,0.6920583524648135,0.6573608085048448,0.6544528634491378,0.6395780180037173,0.6802410563912324,0.7878821825511118,0.6626887392559135,0.669172001388933,0.7608401910981331,0.6625118330342161,0.6457449360715692,0.6430892174122854,0.6296306705717833,0.7113294951763155,0.6595790453584077,0.8523623749812267,0.7706474226240592,0.7853007911711267,0.6157479680464721,0.6367722759135883,0.6427874202982122,0.5907940384253569,0.5926609445030472,0.6330342225024473,0.6651441221175683,0.6560864629331238,0.5884897199332365,0.687775794769681,0.6145157775676902,0.624793654676379,0.673532444253137,0.6258330297114281,0.5737310425221414,0.6250406696173998,0.5716497404957237,0.4634524449768591,0.40136387959532216,0.7284665985270659,0.687379456312485,0.8117132111756604,0.41737253751640085,0.569535107442716,0.44383774879038873,0.45639463535087266,0.46163382932903774,0.48571836043573036,0.4243921628159171,0.4186605818110509,0.42018327957272217,0.47232624550883934,0.4621327667669054,0.37632448942426644,0.51555592794868,0.5521252786670726,0.41277588094833106],[0.580095260018118,0.4881216634755836,1.0000000000000004,0.8162495354371434,0.7550175717722893,0.6629168016086519,0.6038126990198984,0.525210243727828,0.4803378170622815,0.5049548071976029,0.6796536998564718,0.6177230280276049,0.6028388107700412,0.6593806778781884,0.619465318526979,0.5993996950792531,0.6028122610880476,0.5932916373182314,0.5843444750990301,0.6060152281816216,0.7230424425280216,0.6694906997539322,0.6238024036955225,0.6301698854728286,0.6570678316346575,0.7278717307547582,0.6723014166161005,0.6421981726001986,0.6629196175253708,0.656883641274287,0.6741873293284911,0.6617213837109213,0.6576563244428639,0.6794782981167767,0.6774680908832392,0.6323850534433002,0.6267112012386267,0.6388446430075014,0.6415449728767615,0.6420462339230113,0.6134379802138603,0.6549768491088344,0.6518817739135716,0.5934343696730867,0.5911854852211381,0.6053308295179513,0.572687109518804,0.6049340220378379,0.6165065762172045,0.5606434965102605,0.6025012062475695,0.6164968959865718,0.6406787113710266,0.6737739582921318,0.5931376441505244,0.6571105457027634,0.6555990548210693,0.6667547247158533,0.6073142118810537,0.6474793988480239,0.6038250132029803,0.6945160762010488,0.56659477134014,0.4264847866705335,0.48049804054715217,0.71722905220159,0.6160558926629816,0.5702158738201211,0.5126746957361933,0.6153227502785205,0.5606581466750129,0.5304453816306899,0.5498911021393825,0.5342880272006505,0.546162194264807,0.4788898570732069,0.570065146212585,0.4851890615304232,0.43842372673922,0.48901699680231775,0.5665694043935805,0.5465587227536519,0.489169562136704],[0.5954099766096501,0.46862195861120626,0.8162495354371434,0.9999999999999998,0.6992993249234597,0.588518575688525,0.5663279457198508,0.5244392408282097,0.4600022761254841,0.4796952803561798,0.6405748334743985,0.5788105311920233,0.6035756947417712,0.6368776532603598,0.6765069347064288,0.5719235656781971,0.5679169677450429,0.5749770416079485,0.5368741030420209,0.5946729198386345,0.6778299007283985,0.6473336376745802,0.598909312114049,0.5925859414621497,0.6283306169322151,0.6738252682016674,0.6345800124220443,0.6072249074353275,0.6225128988638067,0.6450619449756633,0.646402113237092,0.6494992236247342,0.6140367477091915,0.6681866148617275,0.6207519056642079,0.6008342436978467,0.6070115718908897,0.5940582436839701,0.6280854481859697,0.6283905426797285,0.5785163443191128,0.6170801986526624,0.6431523501826057,0.5883889346389778,0.6085370939163405,0.6119102430308235,0.5324320585829826,0.5767642980861799,0.5747849118704897,0.5278071796289883,0.575948841724688,0.6054105819414713,0.6193639990247415,0.6135238453855991,0.5754263993567923,0.6449601286849106,0.6475532078389235,0.6350125228129896,0.5817580498394732,0.5608119779251814,0.5718022171049761,0.6279469723679506,0.5263386688549068,0.4270613082285033,0.37917053768631515,0.7475823548064724,0.6660670012202062,0.5736792939898631,0.4896057976098217,0.5899083099726475,0.5036436548713128,0.46918984314500456,0.5282107338881734,0.5534483672288335,0.49799788004944234,0.4411605207255076,0.4994593844256176,0.45946936662355764,0.43226751396846785,0.397699595281597,0.5255858886351303,0.4775280802436607,0.5127648061450722],[0.5268763305503079,0.4742656902878285,0.7550175717722893,0.6992993249234597,0.9999999999999998,0.653894624746663,0.6172636202567243,0.6059654493637134,0.4511464196982964,0.45895088428362846,0.6627250502111929,0.6634701628107686,0.6328705402808035,0.6563524649680678,0.6416089092618441,0.6739301417292677,0.565299206277818,0.5756322537409013,0.5120181163596303,0.6190633197646906,0.6930271509630183,0.6164863595729001,0.6117653990224307,0.6207016284000517,0.6507999779855267,0.6854787593921257,0.6466821131975562,0.6323865339399217,0.6054465135111707,0.6177577126447558,0.6450497153365435,0.6507250822084119,0.6196371538247221,0.6566880977588307,0.6147516507373811,0.5703561132620854,0.5881919868791083,0.6033011880099294,0.6184254131386411,0.6100947535599754,0.5773634187090395,0.6234025795095696,0.6106534804564626,0.5421548397036426,0.5513614838897432,0.5606917155732344,0.5095993623234896,0.5783646876957805,0.5874890229667549,0.538660608496688,0.5562903088375167,0.595066071716202,0.6080645791692658,0.641565391523107,0.5866893927198071,0.6401546787954794,0.6445612760035676,0.6526981572255095,0.6181470300442593,0.6094209236935006,0.5981658938641463,0.6873956129670831,0.5625620275657685,0.3953621094708796,0.38473059230213746,0.6648995592740984,0.6225936111576661,0.5410222234754897,0.5067944241825812,0.5624178565909628,0.5449253465408004,0.5074073636257519,0.5524890075579096,0.4891956092465425,0.554916861018333,0.5013927988072471,0.5397874705300827,0.4241223975562463,0.4224934040106637,0.4404431759156915,0.5781154073185257,0.5800329867931232,0.48706567623746577],[0.5270849090004031,0.5496981202430091,0.6629168016086519,0.588518575688525,0.653894624746663,0.9999999999999996,0.6390497224045938,0.6231775830673659,0.5316407146326789,0.49163428091669387,0.7495716429590128,0.6693075286139384,0.6697001545732209,0.6454831404364944,0.6839241917657566,0.6580059814616522,0.6245027288620677,0.6165015543366544,0.5888380650297751,0.6426452467805308,0.791792855783173,0.7182950019959664,0.7733717451737301,0.7412111363102014,0.7234914834801555,0.7764520771805732,0.733635139401579,0.752278159507234,0.73529268083577,0.7352135409086382,0.7372664671364971,0.7495087865700045,0.7448009433216862,0.7368826154768164,0.7501315627687031,0.7290780181154024,0.7026544471073758,0.6968470311252548,0.7180765547524764,0.7180605224485006,0.7214988864805982,0.7382960125446871,0.6845109227015228,0.6604402855479581,0.6607581448694712,0.649315692674238,0.6172379044080569,0.6777815427884064,0.6729714794420821,0.5984570246641006,0.6471900899805315,0.6910740624797618,0.6443077476579842,0.7628828898768594,0.6362925193285507,0.7314148240381095,0.6985991972567624,0.7117989578034535,0.7173939876195852,0.6583300541780518,0.7262980913026893,0.8032119879098176,0.6151756268748736,0.43207752270878264,0.4365311855099734,0.7276628637762637,0.621473720393259,0.6345145911032741,0.5010677996820708,0.516677097747696,0.5988515490595184,0.5209762460428116,0.5888648649660675,0.5606926139989221,0.507554451269596,0.5380047771766141,0.5480624566247552,0.4960441058384505,0.4655711914489954,0.40480527770476593,0.6554454886700233,0.7397930343788952,0.4598635485531749],[0.575726045747303,0.5444130090113046,0.6038126990198984,0.5663279457198508,0.6172636202567243,0.6390497224045938,0.9999999999999998,0.686934091978607,0.5799077328271423,0.5639558519277934,0.737257702784432,0.746590592248239,0.7360381349782046,0.7643284618361166,0.713499689944608,0.7483718912266821,0.6853483704257496,0.6249041935295757,0.6706970723509595,0.6513575212136711,0.7704217836124696,0.7218606358827859,0.7587108359974145,0.7449432099055282,0.7797238401719888,0.7604625738419929,0.751392884846464,0.7194166363174637,0.7220846130365945,0.7429580026706548,0.7417149538366421,0.7257688042419628,0.7418991191395138,0.7329050441291418,0.7277135989194129,0.7225183803300157,0.729618681710016,0.728376133149823,0.7202628133182025,0.7228031375218005,0.7211489851896378,0.7387482274041037,0.7209659750679371,0.6519243850809725,0.6391876928992954,0.6719586398301651,0.6408677568218545,0.6968502613079455,0.7037152238866237,0.6552434257969013,0.6758825264909651,0.6608871543854938,0.6970513832717803,0.7359819750836725,0.6578540736776952,0.7226914224997756,0.7094666626445337,0.7429827986551956,0.6925379040618342,0.717163645667628,0.7168189552026762,0.7698092720903764,0.6896820477667793,0.39558849744105296,0.4363081320876405,0.6832851337380371,0.6569664939556148,0.6417014815396123,0.5436140328173619,0.5986927534517033,0.6088591384010658,0.5834496173231997,0.5699728152524035,0.5935506070586135,0.6549253117599687,0.6303900149131306,0.5786442079939098,0.5749084818888213,0.5993300392809979,0.4679900422921993,0.6248452685918323,0.7158153444644115,0.5493898415144143],[0.6142379724462409,0.5802261380826343,0.525210243727828,0.5244392408282097,0.6059654493637134,0.6231775830673659,0.686934091978607,1.0000000000000002,0.4737718731469488,0.5506564724750538,0.7752136022329816,0.7392333640164329,0.7128339487068733,0.713918080589733,0.7664513261621853,0.7275637887719075,0.6223250295151926,0.5916802263146701,0.5794177522525958,0.6373294432511482,0.772161120927586,0.7031418752836314,0.6914129025335296,0.6976290104678307,0.7634606960703632,0.7633115919507454,0.7326159521254727,0.6851099677074985,0.6820921592021331,0.7231003073609744,0.6887880098062673,0.7099179578159045,0.7353466553017579,0.7489192866780554,0.6914538683973774,0.6818752261880505,0.704149197822451,0.6793563267707872,0.7053527211230675,0.6947506048234627,0.657441517811379,0.7605395460389159,0.7069546056024245,0.6380693697860511,0.6265566258789363,0.6707043717398354,0.6611385007767634,0.6431003935413551,0.6641438507899152,0.6305087059354362,0.7139847715556255,0.6598042102452327,0.6547672466593255,0.7564003997599111,0.6888269510085038,0.7699442105638523,0.7235842887807453,0.7955541520058678,0.7144013798006065,0.6895892849911267,0.6549249678249605,0.7005403148313853,0.6665786753417716,0.4856343744401944,0.4970337333804822,0.6669337067420608,0.7497844145363015,0.6556134597110905,0.484227704792231,0.5659659445561598,0.520950247806766,0.4973927432530361,0.5143358972816499,0.5558435218579499,0.6101006742909142,0.5060605615318157,0.5067020034096087,0.5039189091513797,0.5723190298168825,0.45070640353595737,0.5831737025802387,0.6335063324105579,0.47541158456453464],[0.5492671660028279,0.43689241941484513,0.4803378170622815,0.4600022761254841,0.4511464196982964,0.5316407146326789,0.5799077328271423,0.4737718731469488,1.0000000000000002,0.6806495587103996,0.5897047854182497,0.5765695543691048,0.5709364395177436,0.5863942881222519,0.6518785317141009,0.5965388803596909,0.5687527653408133,0.5546859429118322,0.5145758951269297,0.5679545938110532,0.7007083674086232,0.6840966499487011,0.6821156013828016,0.6840604580638198,0.7031739049194444,0.6620979605448074,0.6624827795098345,0.6474211511525305,0.6564936485266213,0.6723648577473703,0.6615076507282169,0.6462771887933901,0.6921439376180236,0.6793442331140832,0.6379935332240876,0.6263505968631025,0.6965488782559028,0.6506132809322376,0.6316830933272198,0.6516498244441087,0.6574891780129506,0.6493570591423667,0.6659131060778771,0.6187953750801156,0.6264863761561861,0.6102054758372815,0.6177182060788349,0.6095491224423575,0.6303682506604541,0.5786157352052215,0.6525026570771854,0.6139983543252054,0.6317599508552775,0.6410186142974456,0.6037535226770838,0.6430261390659304,0.7001102698116097,0.6503958675468919,0.6260720969800072,0.5827130116549085,0.6570284214531955,0.613376453705113,0.5777885503887181,0.41898410336396197,0.4260039284632161,0.5553655166212499,0.6100387804025131,0.5730551716766167,0.523139615464334,0.4682753475374788,0.5183858607525305,0.5014684299029049,0.5155258425762599,0.5252180230206593,0.47907108694000416,0.504147387592045,0.4333658007497593,0.472014976644637,0.44079878444094805,0.2852332467810664,0.5584161620152208,0.591538816732816,0.4106098051285664],[0.5931526389349467,0.46694528551791853,0.5049548071976029,0.4796952803561798,0.45895088428362846,0.49163428091669387,0.5639558519277934,0.5506564724750538,0.6806495587103996,0.9999999999999998,0.5802501887791374,0.6123904268279059,0.6228053913738635,0.6118385456238926,0.6326747194803405,0.5994848878303121,0.5959713454441413,0.5814884525861803,0.5539088740918156,0.5682819599674327,0.6935388400066943,0.6507372000322618,0.6738274115652738,0.7007839489655947,0.6713042553150118,0.6622230750655971,0.677303734937223,0.6524960425200389,0.6628994414614627,0.6605868612414392,0.6510356351914057,0.665169386614018,0.6725528056986168,0.6753068860562084,0.6438228655666306,0.6502461175861587,0.6772545440832338,0.653786824217806,0.6368208731520097,0.6442559636188314,0.6608399470077455,0.6727324933758317,0.645758673847856,0.6152037935202281,0.6097938053148436,0.6367625655835418,0.6370023603262762,0.6293678789784983,0.6632208631130415,0.6120771408175769,0.668862972134902,0.6016605253133231,0.6445139667442973,0.650678094759862,0.5752259590001083,0.6605984535718393,0.7738665816746333,0.6710507929904777,0.6039510862649347,0.648136258453457,0.6720290979096373,0.6203813398173994,0.6097583927714867,0.44295435677088013,0.3837979812159394,0.5615973578537641,0.600942217768059,0.5823509611257147,0.5234713969833459,0.529617365055324,0.47498236077556943,0.48237425103643805,0.5087011238957031,0.5160143434576461,0.5219939072022239,0.42928730198407383,0.45318586496092594,0.44231984880602726,0.44158562530015916,0.40768312404436097,0.5486087345798409,0.5629791989625739,0.42613354509060075],[0.6759380830736222,0.6424929213064257,0.6796536998564718,0.6405748334743985,0.6627250502111929,0.7495716429590128,0.737257702784432,0.7752136022329816,0.5897047854182497,0.5802501887791374,1.0000000000000002,0.7658086459950264,0.7667730174295209,0.735230083829014,0.8456536567741306,0.7458016459385914,0.6608521735900891,0.6605519739406855,0.6809597581419871,0.7115834376049223,0.8680730675014703,0.7940638237497786,0.8225842927736111,0.8008478150842804,0.822151626563218,0.8816990264873987,0.8048596443860276,0.8163132146579564,0.8113428273205067,0.7787893653982316,0.7910750058237033,0.8388236509339375,0.8267531657778127,0.8151908973386184,0.8244597583036894,0.7945494967632369,0.7864812170285658,0.7927458026506788,0.7605275323195246,0.7698141565777376,0.7646878161618177,0.8282522607875467,0.7683296457619578,0.7275536134066045,0.745673687275189,0.7430434237134059,0.7221182364314955,0.7453267885246313,0.7544470220011623,0.7132696750521786,0.7666225696372847,0.7770887386087297,0.7242014556072358,0.8956196752771283,0.7549577238624154,0.8185168836369474,0.7876784957524513,0.8440503607667591,0.76311431967791,0.7410534721746044,0.7774421815015349,0.8433072141687974,0.7241915557423144,0.5055707570800598,0.5307614089829135,0.7856126077380593,0.769574704537922,0.7462435676393773,0.53386456245453,0.6546149431267725,0.5985157872210367,0.5650096583072067,0.6030603019419318,0.6719482512702741,0.6298758575983102,0.5479940617288024,0.5684104202359206,0.5562056396280199,0.5314546398628938,0.4236395605068415,0.6988997360365153,0.7438560329470736,0.5602155628836322],[0.6574521654320817,0.5983649595584429,0.6177230280276049,0.5788105311920233,0.6634701628107686,0.6693075286139384,0.746590592248239,0.7392333640164329,0.5765695543691048,0.6123904268279059,0.7658086459950264,0.9999999999999996,0.8080944351119443,0.8162833414221096,0.7792010183922794,0.9216634464007325,0.7320795321223244,0.7384053914947126,0.6913140927165209,0.7575198663189533,0.8552149958281635,0.8227807629893634,0.8115972774628165,0.8038526592216042,0.8587681336918269,0.8591281503554009,0.8531370972891954,0.8186597601546255,0.8358482560255587,0.8418358254453938,0.854948847696342,0.8225015793691796,0.8137901265569365,0.8097779851533875,0.8262105804986786,0.772831626917827,0.8038709195173518,0.8443978161883867,0.8404893432007206,0.8158716951062205,0.7810775032127506,0.8158561428762008,0.8568414385684052,0.7088496686485168,0.7305203935285405,0.774339012315697,0.738774520744237,0.7962087214437528,0.8303871771797035,0.7719916964434677,0.7650584063093769,0.7599197305974265,0.7744891311656732,0.8234036581967505,0.7732631278709892,0.8208144002060899,0.8206305821968765,0.8407987874659175,0.8062101123738654,0.7902499208490765,0.7852086977550112,0.806036705649472,0.7175927368268349,0.4915812092074,0.5110284712126754,0.7603509301344449,0.7093672304368596,0.7105413545861732,0.6215092302328354,0.6785166876287672,0.6236873050884626,0.6286758877628815,0.6517238999400335,0.6761882885957968,0.6927021903261139,0.5915258786334027,0.6002604744615637,0.5889989009649044,0.5448217599008595,0.4931845444869774,0.7092257192068943,0.767984022926832,0.5264433204804833],[0.6910921791942998,0.6242951891967626,0.6028388107700412,0.6035756947417712,0.6328705402808035,0.6697001545732209,0.7360381349782046,0.7128339487068733,0.5709364395177436,0.6228053913738635,0.7667730174295209,0.8080944351119443,0.9999999999999996,0.8149137300970528,0.7931332478374049,0.7801508462088971,0.69610564522153,0.7341774716753302,0.7033516454503098,0.7661603332834899,0.8419763267132767,0.789143941652594,0.8185722883218005,0.8084114419313794,0.8292215587453626,0.8167548862238054,0.8395727444609891,0.7945243399584277,0.8064379581467425,0.8122393985496299,0.8191029534826837,0.7982025822415609,0.7997601287797288,0.8167622130120948,0.7888137968990784,0.7927274015164082,0.8097150599163949,0.7957151760754839,0.8089057573514601,0.84310189154154,0.7889132425536662,0.8011519715262242,0.8093244241132802,0.7315331914824216,0.7385022882709797,0.7797057665328234,0.7310623239450112,0.7737827206466714,0.7898774133565822,0.7283575534511282,0.770846879920388,0.7484919814686399,0.7631679581045985,0.7868109148060173,0.7810255731769555,0.8407452829083135,0.7911765011625937,0.7909090510984245,0.7670208786108386,0.7437569884984837,0.7696941456179729,0.7674968995079022,0.7610712982689054,0.5594908496948691,0.4817656087599868,0.7654754260433281,0.7740011370086438,0.7317921157367544,0.5646563906679811,0.6332539945412526,0.6233083411804305,0.5985792496793759,0.6328924866393535,0.6398464342903591,0.6916568816121784,0.5646730159362328,0.6853003329144222,0.5552725432259061,0.5647520718736592,0.4592291177758645,0.7711123765296868,0.7661234692085251,0.5146243684296533],[0.6678375149424046,0.5938962987310537,0.6593806778781884,0.6368776532603598,0.6563524649680678,0.6454831404364944,0.7643284618361166,0.713918080589733,0.5863942881222519,0.6118385456238926,0.735230083829014,0.8162833414221096,0.8149137300970528,0.9999999999999996,0.7887116437690174,0.843020641593047,0.7572522173720724,0.7812055030023648,0.7218607059872418,0.7828957655453876,0.8553274138650859,0.8451862841125002,0.8009865262522387,0.7714465872375655,0.8512857999355983,0.8407263048310405,0.826541750076322,0.8248435443192637,0.8093845064395184,0.8664797980122243,0.8372483841726759,0.8039187044275459,0.806757761748885,0.8128257544705593,0.8166207227773316,0.7796052203637687,0.8048704509540847,0.7975096441683355,0.8251927110058297,0.8034031868038403,0.7780563998518464,0.818710781811321,0.8541904985150115,0.7190476209492893,0.7200785469491042,0.7581645814690899,0.708004222346164,0.7756275470406022,0.7891868379008501,0.7333878395631487,0.7665573298910114,0.7254271148655479,0.8071086422556436,0.7976631244425778,0.7668223281523553,0.8002613185646702,0.7926920416678817,0.8341413796892956,0.8079436533486859,0.7967803199946363,0.7502149707065657,0.7751457672435917,0.7552274643495511,0.5811285878083171,0.5504283740431758,0.737693466352828,0.7351320571254881,0.6946957774741709,0.6245361618582959,0.6580676282259018,0.6920084315189383,0.6351727538968652,0.7133644787621248,0.6893880757206512,0.7510719809140756,0.6474818607023951,0.6399302384576918,0.6430339476878801,0.5881687955129553,0.5023920951937436,0.6801827741256911,0.7085356659108706,0.5360054390292592],[0.7143888210600915,0.6555303560459029,0.619465318526979,0.6765069347064288,0.6416089092618441,0.6839241917657566,0.713499689944608,0.7664513261621853,0.6518785317141009,0.6326747194803405,0.8456536567741306,0.7792010183922794,0.7931332478374049,0.7887116437690174,1.0,0.782804731288556,0.6760802735105735,0.7125132545720774,0.6839303897358805,0.7655840848886242,0.8612166244459374,0.8280831410451629,0.7974281622481,0.7910300227211342,0.8530388729920183,0.8610204898541243,0.8041006557905858,0.8138244013509122,0.7867794030830744,0.8244668644517472,0.8021991443461247,0.8641023639788963,0.8236889011002615,0.8517666492206408,0.793121811533495,0.7862517677419077,0.8064152463511933,0.7731640145194525,0.7893177941455102,0.771450420981366,0.7484336367730497,0.8155772010365994,0.8222984470781916,0.7547891004951857,0.7727487517057078,0.7995815034180992,0.7437614890864725,0.7474384792890405,0.756387434079361,0.7097225300827488,0.7901443932193469,0.7827030782688289,0.7865260605577801,0.8540083676735393,0.7953568253751626,0.8374396727199032,0.8086735919456578,0.8540767800252065,0.7848936464755767,0.7691580776303317,0.7327739405135518,0.7720041782113101,0.6990376893829109,0.5623202738944012,0.502739269638218,0.8040335744613696,0.9042108909338986,0.7696070354833904,0.5592246367936935,0.6716280327996558,0.6319233040152297,0.5979573899389394,0.6071112677824391,0.682252074717172,0.6599162273351129,0.5850862380936193,0.5537942283181546,0.5833020346444284,0.5674246861599425,0.46725921445263463,0.6983896127535414,0.7157427817166684,0.5267305707803233],[0.6092029898309228,0.5672325669956607,0.5993996950792531,0.5719235656781971,0.6739301417292677,0.6580059814616522,0.7483718912266821,0.7275637887719075,0.5965388803596909,0.5994848878303121,0.7458016459385914,0.9216634464007325,0.7801508462088971,0.843020641593047,0.782804731288556,1.0000000000000007,0.7611653710700267,0.7597597395807046,0.7089949614640435,0.7931912473005465,0.8514321620163425,0.83452205190764,0.8196026914929309,0.8292229490709018,0.8621946854669762,0.8293918738876159,0.8586588603425902,0.8613181573513675,0.8278448056494396,0.8648890408769639,0.8510510483364679,0.8577538629727992,0.8208672437926711,0.8038255093378414,0.8381515455639095,0.7899768831049494,0.8110672316042027,0.852192992744619,0.8660780387864598,0.8228508379210386,0.8056321596458691,0.8275450713662305,0.8633157679142839,0.6897870909765578,0.7356714907831993,0.7243167288929832,0.7025956813832409,0.7705082475353642,0.8203297758710911,0.770741701065558,0.7596323214278946,0.7879951908203071,0.7780741357487935,0.8010279007715955,0.7702943972684895,0.7912840565515942,0.8146930479218066,0.8383151044212853,0.8053669926413711,0.8345292997507565,0.7892290950892562,0.8028310875672297,0.7470058295119408,0.5386649839361138,0.5262615216514204,0.722384415116487,0.6948577846984083,0.6639084811640021,0.6633066137947702,0.6748516912297731,0.671180532442702,0.7196740988107374,0.7017515178144758,0.7041356529553345,0.7121775119411902,0.6338724044273476,0.6141185103882146,0.6407902963415479,0.5809658720457023,0.523087442077284,0.7212909851167489,0.7777885838481186,0.5551628336334056],[0.6049502982654962,0.5297200624002354,0.6028122610880476,0.5679169677450429,0.565299206277818,0.6245027288620677,0.6853483704257496,0.6223250295151926,0.5687527653408133,0.5959713454441413,0.6608521735900891,0.7320795321223244,0.69610564522153,0.7572522173720724,0.6760802735105735,0.7611653710700267,1.0,0.7438158276436094,0.791021132250718,0.6873915631250253,0.8256323206547383,0.7806437568417702,0.796787487389667,0.7875437232776206,0.7768348096230617,0.7833458333776604,0.7959469628158089,0.798337697202962,0.7816518292424081,0.8323697611919181,0.8000733352416043,0.7855304497830682,0.795482171505252,0.7970249898380856,0.7998988401667495,0.7716401985005613,0.7928432160095366,0.7840737786853671,0.8410400951693979,0.77195635737553,0.8007941039702916,0.769336553808187,0.8090447019477484,0.7237105414842521,0.691912676015141,0.7132547413493422,0.6810477039590754,0.6850563523195357,0.7318733375699137,0.6810332129386494,0.7545247048400792,0.7028352252399506,0.7662359818548711,0.7360513032989502,0.7225140988112512,0.7476668550953686,0.759747555533451,0.7555298323359961,0.7271512927856405,0.8183450555034717,0.7683394559793967,0.7530624977604827,0.738952289645407,0.5146263225912928,0.47191097449923936,0.657964759591762,0.5757907747218254,0.6430113433313938,0.6229357240860471,0.5817388057002219,0.6316603343176803,0.7277580052820536,0.7336956868548092,0.6308074712535764,0.6331559238708762,0.6978914249074026,0.556029631282398,0.6765449059085651,0.6256958447153204,0.5685725945921447,0.6579560031976399,0.6579707512800833,0.4772936897391499],[0.6594622450994012,0.6088270291002649,0.5932916373182314,0.5749770416079485,0.5756322537409013,0.6165015543366544,0.6249041935295757,0.5916802263146701,0.5546859429118322,0.5814884525861803,0.6605519739406855,0.7384053914947126,0.7341774716753302,0.7812055030023648,0.7125132545720774,0.7597597395807046,0.7438158276436094,0.9999999999999997,0.7363739355818328,0.8369035637541482,0.8081319971133625,0.7904334391330965,0.7917683703747274,0.7770706712425115,0.7989349652469308,0.777120085738888,0.8000715412528112,0.8092227750495901,0.7581943920665475,0.8471385099975148,0.8235075402219734,0.7732113115352783,0.7971586440671763,0.7999988961169944,0.7735514522483308,0.7586161259719144,0.7926693575431336,0.78300980117398,0.812403709907431,0.7842207760297295,0.8034401546039328,0.7663231871339828,0.8897412232517832,0.7379951503033662,0.7404649151712543,0.7422789067737234,0.6660379017764281,0.6943642387709219,0.7238840677233307,0.6787141065919045,0.7248162117312829,0.7242341531029641,0.7603030157353348,0.718209645407563,0.7186702410801152,0.764994134493405,0.7507065522861863,0.732934840723763,0.7712165187036302,0.7713556034927125,0.7709112350825249,0.7243578866740806,0.6864370999696618,0.6268220692255797,0.6020103947298683,0.696880298265442,0.6625791319758441,0.6690614393293046,0.6371530117595556,0.6270696130839881,0.6274816185649653,0.6621657055852627,0.7557583491991592,0.6956124307937901,0.6890245141738803,0.6616672945262017,0.5438741579701205,0.5954143237353465,0.5574842300624274,0.4646477641030705,0.6804934237656786,0.6946323557187493,0.5061377747159328],[0.5847971595238535,0.5826001663231943,0.5843444750990301,0.5368741030420209,0.5120181163596303,0.5888380650297751,0.6706970723509595,0.5794177522525958,0.5145758951269297,0.5539088740918156,0.6809597581419871,0.6913140927165209,0.7033516454503098,0.7218607059872418,0.6839303897358805,0.7089949614640435,0.791021132250718,0.7363739355818328,1.0000000000000002,0.6674139489058604,0.7805179067389668,0.7212012193637451,0.7971932565632662,0.7812235600143553,0.753148137474492,0.74764359683408,0.7762526578486891,0.7730110331721103,0.758592456054034,0.7707997262278369,0.7763752954246019,0.7613246916470737,0.7716479767303025,0.7574700965653799,0.7504329143487726,0.8056767688467121,0.7580238512343989,0.78742672391231,0.7854324758437901,0.7533668706692521,0.8013963456041986,0.7614974888624447,0.7746091144611108,0.6963358160899589,0.706321847539032,0.6985508142139399,0.6702913698667652,0.6926320448888638,0.7372582825582663,0.7087237143178277,0.7191492316264623,0.7372426338159304,0.7307193238559427,0.7256495772337215,0.7494089035968641,0.7060244174211928,0.6943981595604125,0.7325057002342685,0.709890252395963,0.7925684623765556,0.7574589197649704,0.7304610091449463,0.7385509749953489,0.4774365705363495,0.4874862130839055,0.6417441117136369,0.5881643408508733,0.6348887150998004,0.5667223163874787,0.6706634388018085,0.6125815577595467,0.6587779490734877,0.6289065854294962,0.675466037421883,0.6537883630169664,0.5784421893527594,0.5821651517539875,0.6513923605133456,0.6922104776883924,0.5162288676348223,0.7028267663040715,0.6927143650073828,0.48610799444362457],[0.6765534287906017,0.623629206454013,0.6060152281816216,0.5946729198386345,0.6190633197646906,0.6426452467805308,0.6513575212136711,0.6373294432511482,0.5679545938110532,0.5682819599674327,0.7115834376049223,0.7575198663189533,0.7661603332834899,0.7828957655453876,0.7655840848886242,0.7931912473005465,0.6873915631250253,0.8369035637541482,0.6674139489058604,1.0000000000000004,0.8307222525261719,0.8348580337046363,0.7790035134230195,0.7547874917437887,0.8322929908177703,0.8057907154783404,0.8146429285630904,0.8333553951868283,0.7766406461147156,0.8619818976170659,0.830474394653372,0.8057717463892293,0.8130125095675003,0.8106290246005199,0.8105429167160603,0.7479196818178773,0.7876758347738759,0.7698157036874334,0.8065584829543924,0.8073125884002521,0.7770876752433631,0.7983915006158455,0.8605047796315274,0.7190290864044495,0.7580783390159258,0.7535282558094276,0.6770993046435361,0.7300265112298611,0.7484074669932463,0.7020779134580555,0.7282560766205008,0.7663791849577113,0.7736308676235412,0.7550978771848775,0.727890493828576,0.7822832578835566,0.7567503477840496,0.7962715260883138,0.7866487876179824,0.7693753803079231,0.7558220737196665,0.7586079036627661,0.7036040475444024,0.6755914269713318,0.6240116308700593,0.7613775563739218,0.7192968567608078,0.7004200914853177,0.6034063415923862,0.6789117566963816,0.6496829322656715,0.6262744600518942,0.7827978880206807,0.7463591990320803,0.6524754518180548,0.6428743529395651,0.5702826958645315,0.5555350288753753,0.5181077859995309,0.46413213843195333,0.6858208330128637,0.7308149110159243,0.5361258391321401],[0.7229230350770466,0.6540110140227069,0.7230424425280216,0.6778299007283985,0.6930271509630183,0.791792855783173,0.7704217836124696,0.772161120927586,0.7007083674086232,0.6935388400066943,0.8680730675014703,0.8552149958281635,0.8419763267132767,0.8553274138650859,0.8612166244459374,0.8514321620163425,0.8256323206547383,0.8081319971133625,0.7805179067389668,0.8307222525261719,0.9999999999999991,0.933616935549055,0.935446065486477,0.9156047798741174,0.9412848284435823,0.9614277235044704,0.9402346656933143,0.9180688772972647,0.9208901627196981,0.928619099671363,0.9249736458944382,0.913223212631801,0.9218480620365984,0.9444599103608033,0.938207175729824,0.8905232970706574,0.9056911014730529,0.8962314855025898,0.8941803432146357,0.9181116661263158,0.9029189580114487,0.9476438236647895,0.9030280505719739,0.836178175762751,0.8312814439316665,0.8464332076432324,0.8190992566076307,0.850141821366096,0.8698639340770008,0.7983294151303125,0.8541008075733698,0.8514493942301431,0.8746921296567222,0.9273257584172165,0.8596005429385662,0.9276734693900142,0.902527117781504,0.9413097148108328,0.8718736104781469,0.8741183532904242,0.8823513568126398,0.9065657044042175,0.8461868066501974,0.6012401866042637,0.5757912486496222,0.8236565049938768,0.7867601203591177,0.7872244966965598,0.6631626661010126,0.6700265230592426,0.7180556107638,0.6915229579983427,0.7348707956290738,0.7448016072521668,0.7242711845640518,0.6734404723056782,0.653725907527877,0.6465065523229674,0.6024785247634166,0.5336124790939328,0.792713186300829,0.8034362050241679,0.5603899958383178],[0.7500497864734402,0.6560653707279859,0.6694906997539322,0.6473336376745802,0.6164863595729001,0.7182950019959664,0.7218606358827859,0.7031418752836314,0.6840966499487011,0.6507372000322618,0.7940638237497786,0.8227807629893634,0.789143941652594,0.8451862841125002,0.8280831410451629,0.83452205190764,0.7806437568417702,0.7904334391330965,0.7212012193637451,0.8348580337046363,0.933616935549055,1.0000000000000007,0.861745575200785,0.8487823165105681,0.925287811335685,0.9151202516954227,0.9006253230059669,0.8898005806882427,0.8804506910551075,0.9255918477349185,0.8897267230839272,0.8772086461747319,0.8858799564908837,0.9011530184981273,0.924219597457023,0.8197357774218941,0.903081090033309,0.8603040346992702,0.8654719296943106,0.8842185522580648,0.8493823660655994,0.8973474550055108,0.9192798815725172,0.8262721281010766,0.8507419503173264,0.849129311350266,0.7695210599854387,0.7994584171382093,0.8060103683518176,0.7482119991479702,0.8084621955303871,0.8199844884344064,0.8697863511038525,0.8593943405831486,0.8264506043534918,0.8800901728619039,0.873749262461241,0.8973456475492463,0.8432064289342432,0.832474609699636,0.8327148318167332,0.8375828231002878,0.8134739629332857,0.5743140828115278,0.5429466366444959,0.807566655710185,0.7722796835244348,0.7996788285448383,0.6369659098430012,0.63368969271968,0.6789748132827385,0.6680639448348364,0.6889264443612636,0.7197714885322736,0.68454516361211,0.6834042707322175,0.5985027296663942,0.6284364243301221,0.5570085870328514,0.509245938704607,0.7447046618416024,0.760627419667238,0.5013901059198661],[0.6863329392580502,0.6573412262856785,0.6238024036955225,0.598909312114049,0.6117653990224307,0.7733717451737301,0.7587108359974145,0.6914129025335296,0.6821156013828016,0.6738274115652738,0.8225842927736111,0.8115972774628165,0.8185722883218005,0.8009865262522387,0.7974281622481,0.8196026914929309,0.796787487389667,0.7917683703747274,0.7971932565632662,0.7790035134230195,0.935446065486477,0.861745575200785,0.9999999999999998,0.9469653643126756,0.8663521306132802,0.9022174668725899,0.9090010984182555,0.9361677151372638,0.9350222404697782,0.8846589326724339,0.9149237450022351,0.9066034219214545,0.9081158352522911,0.9100628294474566,0.920742729334837,0.9286098750936207,0.9168492791470677,0.9131318043353496,0.8898830227878027,0.8924066462573196,0.9382905290427497,0.9231820716618883,0.8630059613859333,0.8625410035222612,0.848795547668346,0.8216292385579742,0.8219102688217774,0.84331628353228,0.8628069075214015,0.7921615208457791,0.8260776221915812,0.8448247538016174,0.8237783215592391,0.9008987631334588,0.8431529647128801,0.857006205439117,0.863216584882742,0.8443061576332938,0.8722581500076256,0.8538434548527477,0.9046160901993021,0.883509078409411,0.8470014912354147,0.5580063903216739,0.5166413621238146,0.7788337252102895,0.7102052287876915,0.7851815052011776,0.6245019298611422,0.6143766924432318,0.7018527654251219,0.6862456562655085,0.700172889663556,0.7132881256385132,0.6830648811746574,0.6245123793311294,0.5989550921905831,0.6344754380897824,0.5844866837675352,0.4992720371080416,0.7860486374755957,0.8137733866222338,0.538738462889041],[0.648356813129001,0.6503704520964472,0.6301698854728286,0.5925859414621497,0.6207016284000517,0.7412111363102014,0.7449432099055282,0.6976290104678307,0.6840604580638198,0.7007839489655947,0.8008478150842804,0.8038526592216042,0.8084114419313794,0.7714465872375655,0.7910300227211342,0.8292229490709018,0.7875437232776206,0.7770706712425115,0.7812235600143553,0.7547874917437887,0.9156047798741174,0.8487823165105681,0.9469653643126756,0.9999999999999996,0.850343285016997,0.8785522904384834,0.9026485357713045,0.9109796062854504,0.9140607397195817,0.8571235784720022,0.9000355095143797,0.9024716482487056,0.9240189186281393,0.8906119864091849,0.8941065782494989,0.9099204580600698,0.8911610243524309,0.9308256370769015,0.9008746825866707,0.8920601580137916,0.9447715690072488,0.9072126848848304,0.850210297583132,0.8283890185691348,0.8476167475031335,0.8086424535380637,0.858808685009943,0.8246152648799411,0.8636482907022769,0.8353520113040491,0.8587264224572193,0.8594274900568233,0.8295923574127313,0.8692747485499828,0.8121496043842993,0.8552347773117692,0.8698450955154196,0.8348079473153438,0.8496085492189611,0.8708126963501394,0.9031952464888753,0.8665998521721225,0.8429032375172172,0.5496927042211311,0.5051477065395278,0.7387764743933425,0.6993555802995773,0.7400928303113056,0.618509251608966,0.5967708879954646,0.6684464226768456,0.7071282405034615,0.6791022047736518,0.6981957397810127,0.6869109766449475,0.5994167362455101,0.6332011997611634,0.6243284677049784,0.5929530374979258,0.538950038426598,0.7963485630090392,0.808795006824583,0.5106379358327907],[0.6799303102058352,0.6217737985888665,0.6570678316346575,0.6283306169322151,0.6507999779855267,0.7234914834801555,0.7797238401719888,0.7634606960703632,0.7031739049194444,0.6713042553150118,0.822151626563218,0.8587681336918269,0.8292215587453626,0.8512857999355983,0.8530388729920183,0.8621946854669762,0.7768348096230617,0.7989349652469308,0.753148137474492,0.8322929908177703,0.9412848284435823,0.925287811335685,0.8663521306132802,0.850343285016997,1.0,0.9250884466154945,0.9082277799798082,0.8670926894196588,0.8450855027369177,0.9242102486959209,0.883833398424327,0.887623150207361,0.88423629410907,0.8916775106368455,0.8682271464422165,0.8307042549949215,0.8686816562276798,0.8456648140782103,0.8467817190710557,0.8729055260025782,0.8297495726227857,0.8908533030041923,0.9166219517772277,0.7701272138049671,0.782505029679579,0.8039861633104953,0.7733005085988007,0.809648528627254,0.8243337187253322,0.7777236704249066,0.8316815693523103,0.8054269660209318,0.8550977637817672,0.883710874023768,0.8537597819464802,0.8907407460152478,0.8703155517487173,0.928851378054399,0.8357118558667747,0.8378964578273527,0.8490573754485184,0.8380737386684465,0.8103423747746833,0.5622158915080906,0.5863609432450365,0.7802862555571527,0.7627016126361721,0.730197114390066,0.6603923735698818,0.6801297809671432,0.6689245531604815,0.6682329241806221,0.6987031564064881,0.722051264667785,0.7203941240457372,0.7217338245647843,0.615295920195825,0.6325992647123039,0.6219371051235421,0.5039746628584348,0.7759617037669204,0.7860950663841452,0.5463353105868792],[0.7397934863023355,0.6598916306231305,0.7278717307547582,0.6738252682016674,0.6854787593921257,0.7764520771805732,0.7604625738419929,0.7633115919507454,0.6620979605448074,0.6622230750655971,0.8816990264873987,0.8591281503554009,0.8167548862238054,0.8407263048310405,0.8610204898541243,0.8293918738876159,0.7833458333776604,0.777120085738888,0.74764359683408,0.8057907154783404,0.9614277235044704,0.9151202516954227,0.9022174668725899,0.8785522904384834,0.9250884466154945,0.9999999999999998,0.9068841360229629,0.9002536693215621,0.8929829696101166,0.9056150521980538,0.9020060734282036,0.9248841212321065,0.8950886711440282,0.9171148098317072,0.910477209649915,0.8629412241344389,0.8821477503737643,0.8683622060250488,0.8719203861689828,0.8791324331954651,0.8563176624273479,0.9256461947701164,0.8887182137442322,0.8219659971848721,0.8232005205583821,0.8403803641871435,0.8008457414064036,0.8303251337748103,0.8383621241742967,0.7886074735983082,0.8341159779125685,0.8311197692678726,0.8678093917500962,0.963274122985857,0.8417885666414084,0.8992083235404278,0.8834077988907258,0.9446641690881226,0.8529612469338242,0.8530870099364334,0.8688993282610641,0.8746821699406211,0.8216481060566195,0.5638592204616741,0.5601185579159483,0.8149547880750885,0.7939219287571386,0.7936905737762944,0.6611096681745819,0.6576919036376712,0.6817159853568214,0.6813680224001404,0.6912968765343978,0.7245486405980134,0.6940086612780573,0.6224789545562609,0.6129517475075095,0.632237844313074,0.5688829507881286,0.5296057814042728,0.7581530031910149,0.780410599735022,0.5320079650265206],[0.7011249911027124,0.6424562412088646,0.6723014166161005,0.6345800124220443,0.6466821131975562,0.733635139401579,0.751392884846464,0.7326159521254727,0.6624827795098345,0.677303734937223,0.8048596443860276,0.8531370972891954,0.8395727444609891,0.826541750076322,0.8041006557905858,0.8586588603425902,0.7959469628158089,0.8000715412528112,0.7762526578486891,0.8146429285630904,0.9402346656933143,0.9006253230059669,0.9090010984182555,0.9026485357713045,0.9082277799798082,0.9068841360229629,1.0000000000000004,0.8917662614406584,0.9036275020918012,0.9014093114613835,0.9068587751419428,0.8847619540208549,0.9019926086357831,0.9007285401227476,0.9008602880166827,0.8909865452543525,0.8976708079294828,0.9044198224175797,0.8861198887386244,0.974784515586985,0.8995071234612876,0.9175251219994153,0.8944131063944396,0.8121591334539537,0.836136708478254,0.8261262650206733,0.8225270479772175,0.8482514942888184,0.8737362311969243,0.8220935883744628,0.8516536261759695,0.8480014035225815,0.8669406672912341,0.86538870346772,0.8467319048264699,0.8904051036284166,0.8722707342499617,0.883477339874102,0.8499387462995417,0.8565937613321515,0.8838488230778863,0.8668305518332264,0.8280308155604835,0.5789660985418628,0.559605763411283,0.8137212824271605,0.729440367524935,0.7582336325581127,0.711156733875602,0.6530234757970655,0.7224907880194409,0.6993228410668046,0.687890815218683,0.7129078367937989,0.7223672786955245,0.6386831938210632,0.6904822403460109,0.6418115454368845,0.6357847856502119,0.5434352925025518,0.7942241334461171,0.8090774094346196,0.5711127987072632],[0.7102878628422993,0.664320139915084,0.6421981726001986,0.6072249074353275,0.6323865339399217,0.752278159507234,0.7194166363174637,0.6851099677074985,0.6474211511525305,0.6524960425200389,0.8163132146579564,0.8186597601546255,0.7945243399584277,0.8248435443192637,0.8138244013509122,0.8613181573513675,0.798337697202962,0.8092227750495901,0.7730110331721103,0.8333553951868283,0.9180688772972647,0.8898005806882427,0.9361677151372638,0.9109796062854504,0.8670926894196588,0.9002536693215621,0.8917662614406584,0.9999999999999999,0.9195753973804686,0.9052520503368051,0.9076620256362151,0.9375578433232303,0.9043871213562753,0.8998820533167222,0.9229061456633336,0.9155277528642553,0.9165395181125835,0.9000466306447241,0.8912565801518011,0.8687519036621609,0.9067335216315489,0.9170453030073452,0.8970127438824845,0.840183018239675,0.865038434669541,0.8211240530388593,0.7912613614152288,0.8150782343458063,0.8439879411762918,0.7709627981266646,0.8235982650170954,0.855122174577601,0.8285682451081402,0.8836846338129153,0.8173618697766045,0.8325799585693536,0.8759998083605032,0.8477350846190855,0.8795003966560788,0.8769732293997253,0.9016636856255988,0.8734481828049752,0.8159355004135811,0.5944924367829263,0.5457625275628519,0.794768095045653,0.7378045004940842,0.8049581326943154,0.6113608093750613,0.6288506851724309,0.7131359269113032,0.7180462600830485,0.7411159340467262,0.732210228920467,0.6732813442632091,0.6177054719573518,0.5872453697348732,0.6809319822672746,0.5723375447298095,0.5123479419913376,0.7630326786054338,0.7892084550414651,0.5249862180965129],[0.7344200064666475,0.6920583524648135,0.6629196175253708,0.6225128988638067,0.6054465135111707,0.73529268083577,0.7220846130365945,0.6820921592021331,0.6564936485266213,0.6628994414614627,0.8113428273205067,0.8358482560255587,0.8064379581467425,0.8093845064395184,0.7867794030830744,0.8278448056494396,0.7816518292424081,0.7581943920665475,0.758592456054034,0.7766406461147156,0.9208901627196981,0.8804506910551075,0.9350222404697782,0.9140607397195817,0.8450855027369177,0.8929829696101166,0.9036275020918012,0.9195753973804686,1.0000000000000007,0.8847191823933238,0.9412911971641276,0.8660837938759541,0.89947549120831,0.9004130139550672,0.9474022866919323,0.9129184662947092,0.9113690564651444,0.9556087116271673,0.8914831938054633,0.8849075978296088,0.9256450757585863,0.9201464092029397,0.8619962845836767,0.8649443935012955,0.8751158749129722,0.8597538432716516,0.8538880055140263,0.8965488824903185,0.9252474564831187,0.855089050989634,0.8371910056179073,0.8496020163196691,0.8443564858055495,0.8659844802898282,0.8186620103479659,0.8623187819824716,0.8643720893000282,0.8409562513213045,0.8556564918480865,0.8320988382634509,0.8527228533225363,0.8706457336547186,0.8256891944136122,0.5748115191791823,0.5054699091102508,0.8059571271363608,0.7401573746409136,0.8160280403617208,0.6083222433473043,0.6248634759252135,0.6635208937747362,0.6503767998546206,0.6819398199699673,0.6829224148597478,0.6539497011304041,0.5889310308275484,0.6136006680946865,0.6254445057240979,0.5466406519303441,0.5064202324907252,0.7403527860994039,0.7731148969019463,0.4944984133641056],[0.7268276697269306,0.6573608085048448,0.656883641274287,0.6450619449756633,0.6177577126447558,0.7352135409086382,0.7429580026706548,0.7231003073609744,0.6723648577473703,0.6605868612414392,0.7787893653982316,0.8418358254453938,0.8122393985496299,0.8664797980122243,0.8244668644517472,0.8648890408769639,0.8323697611919181,0.8471385099975148,0.7707997262278369,0.8619818976170659,0.928619099671363,0.9255918477349185,0.8846589326724339,0.8571235784720022,0.9242102486959209,0.9056150521980538,0.9014093114613835,0.9052520503368051,0.8847191823933238,1.0000000000000004,0.9297079414707603,0.8821994809742217,0.9119348680349126,0.8941993070293157,0.8932046119097097,0.8500966826313132,0.9004594997147515,0.8728215767535964,0.8872649015116478,0.8793133546362091,0.8603734169986752,0.889348887717839,0.9567012267619142,0.8218561056547724,0.8255570395167019,0.8394941527043305,0.7763568648148745,0.8304291126273082,0.8477333894734553,0.7850520872620643,0.8320503828028583,0.8095045551137333,0.8741796942868718,0.8443471482606966,0.8282406423897377,0.8632984973062953,0.8744465568483012,0.8696415224066958,0.8626018367206918,0.8470896114117541,0.8448060068728893,0.835741916318788,0.8042490474363203,0.6362166529724111,0.6008049319427224,0.7896525785047248,0.7637613443852168,0.7685186047261979,0.6811200421287056,0.697013091354671,0.6924603392705588,0.7196746024174473,0.7653742158230489,0.7601411052046729,0.7150228740030992,0.7159780062118277,0.5960896878291396,0.6792218894632085,0.6222518852667505,0.5201024678505262,0.751379419489705,0.7672692894603929,0.5439858298627491],[0.693977859817298,0.6544528634491378,0.6741873293284911,0.646402113237092,0.6450497153365435,0.7372664671364971,0.7417149538366421,0.6887880098062673,0.6615076507282169,0.6510356351914057,0.7910750058237033,0.854948847696342,0.8191029534826837,0.8372483841726759,0.8021991443461247,0.8510510483364679,0.8000733352416043,0.8235075402219734,0.7763752954246019,0.830474394653372,0.9249736458944382,0.8897267230839272,0.9149237450022351,0.9000355095143797,0.883833398424327,0.9020060734282036,0.9068587751419428,0.9076620256362151,0.9412911971641276,0.9297079414707603,0.9999999999999999,0.8767361649973449,0.8987476206409057,0.8915585181439465,0.8896000736590358,0.8781281402304157,0.8879980893490187,0.932203444239226,0.897822343540903,0.8872245471628482,0.9050689861063563,0.9030448872871737,0.9171713033108271,0.8367595196305229,0.8441015359472265,0.8459488786857887,0.8085146801592339,0.8742873637143465,0.8979706259478362,0.8297135230088971,0.8386587016728756,0.8280130566028057,0.8547000014618237,0.8368483329922909,0.8409966268617874,0.8528745332602307,0.8703943133268606,0.8392288301251604,0.8641458187412591,0.8440997023978604,0.8646562406304374,0.851245724921067,0.8420553167466958,0.5876767287355315,0.5591944490287644,0.7885747440737538,0.7343782745449358,0.7648091603366391,0.6503876854366839,0.6669510392453898,0.6916339810311751,0.6744303009771818,0.7426922677328013,0.7359177324598094,0.6931092534884129,0.6468651273892287,0.6299313846327927,0.6032503682296254,0.5705538341258132,0.5228159400774365,0.7644705673208185,0.7856687547403282,0.5094335161437094],[0.6982428108990631,0.6395780180037173,0.6617213837109213,0.6494992236247342,0.6507250822084119,0.7495087865700045,0.7257688042419628,0.7099179578159045,0.6462771887933901,0.665169386614018,0.8388236509339375,0.8225015793691796,0.7982025822415609,0.8039187044275459,0.8641023639788963,0.8577538629727992,0.7855304497830682,0.7732113115352783,0.7613246916470737,0.8057717463892293,0.913223212631801,0.8772086461747319,0.9066034219214545,0.9024716482487056,0.887623150207361,0.9248841212321065,0.8847619540208549,0.9375578433232303,0.8660837938759541,0.8821994809742217,0.8767361649973449,1.0000000000000007,0.8830293311338668,0.8865096416471596,0.8824729556293504,0.8939382851540241,0.8789616206322912,0.866286805693504,0.8739911160583798,0.8539087050265208,0.8600729650474159,0.888276315797935,0.8752683028901088,0.7987805732708307,0.8311164013151695,0.8141253688505051,0.8008662670355646,0.8056622174524255,0.8230930867770359,0.7897681258029996,0.834163617396044,0.850808856932946,0.8510352381991211,0.9111751894113498,0.812188664441453,0.8569571028643614,0.8781420521573788,0.8769886758803044,0.8558246433574729,0.8826598827209113,0.8708221352223245,0.8467329034443896,0.7884476817183971,0.5529645524456899,0.5338398933608954,0.786966332652784,0.7524903186141808,0.7765842949816193,0.6376609867782108,0.6519377150306773,0.6942649434119159,0.7339856160781639,0.7076632034271825,0.7317609566746937,0.6922505774852206,0.6074199185797918,0.5914903577571852,0.6584049501916418,0.5940135392436842,0.5599598053732837,0.7653427582025072,0.7830012354490035,0.5366085481110199],[0.7083968229047425,0.6802410563912324,0.6576563244428639,0.6140367477091915,0.6196371538247221,0.7448009433216862,0.7418991191395138,0.7353466553017579,0.6921439376180236,0.6725528056986168,0.8267531657778127,0.8137901265569365,0.7997601287797288,0.806757761748885,0.8236889011002615,0.8208672437926711,0.795482171505252,0.7971586440671763,0.7716479767303025,0.8130125095675003,0.9218480620365984,0.8858799564908837,0.9081158352522911,0.9240189186281393,0.88423629410907,0.8950886711440282,0.9019926086357831,0.9043871213562753,0.89947549120831,0.9119348680349126,0.8987476206409057,0.8830293311338668,1.0,0.9020823787336387,0.8954778307229115,0.8878371947416135,0.9033367192693285,0.8891441236529172,0.8850735447701834,0.8752829662404247,0.8883675849158066,0.9045516900399464,0.9029630919890244,0.8541912219417118,0.8624322406450339,0.8509875459582597,0.8781752343349027,0.8249235895106148,0.8560114382369908,0.8100238889847217,0.899730129403538,0.8401953517975722,0.8512937401640472,0.8781067803232941,0.8364038908014486,0.8735697010460893,0.8770453873581425,0.8613300069894584,0.8706175325209116,0.8572372672078052,0.8813629810666934,0.8684713082729051,0.8154476089335203,0.5902909616536325,0.5775995823643303,0.7958839601100645,0.7629654664653021,0.7779657493124493,0.6239648468851995,0.664708840098498,0.652910756496924,0.697847971874294,0.7233934269502169,0.7280624403604609,0.6791172023813961,0.6417286634299156,0.6160811113848544,0.6434430148148572,0.6201045360510283,0.5359951525209539,0.7639441021234459,0.7947246599227402,0.5107443890572582],[0.7837929039376378,0.7878821825511118,0.6794782981167767,0.6681866148617275,0.6566880977588307,0.7368826154768164,0.7329050441291418,0.7489192866780554,0.6793442331140832,0.6753068860562084,0.8151908973386184,0.8097779851533875,0.8167622130120948,0.8128257544705593,0.8517666492206408,0.8038255093378414,0.7970249898380856,0.7999988961169944,0.7574700965653799,0.8106290246005199,0.9444599103608033,0.9011530184981273,0.9100628294474566,0.8906119864091849,0.8916775106368455,0.9171148098317072,0.9007285401227476,0.8998820533167222,0.9004130139550672,0.8941993070293157,0.8915585181439465,0.8865096416471596,0.9020823787336387,0.9999999999999993,0.8926270139356389,0.8774315366911181,0.9452540882398973,0.8670929494796473,0.8764815468937563,0.8841930488046696,0.8783475082537018,0.9345517931363967,0.8770200602792102,0.9377961163704758,0.8890077580869296,0.9024919796365993,0.8070799070458591,0.8216186028095591,0.8393097649369801,0.7650258617458587,0.8266676376982631,0.838404736985537,0.8762191209548991,0.889536238547505,0.8282433368946739,0.9220431353935927,0.8728648164001765,0.8946926846467489,0.8690756680648419,0.8507263334483379,0.8408258372792925,0.8573212815874571,0.8112082763901913,0.5784108194942426,0.5271628947350133,0.8703781512332436,0.8088940235411148,0.8786375420485755,0.6186651983929851,0.6438023328182445,0.6760482902951837,0.6807866297200907,0.7069566341732232,0.6983165440141078,0.6669839508630608,0.6345278754232128,0.6122796720466013,0.6331945912167536,0.596391191321097,0.5157023740856772,0.7532458401914803,0.7608048335330619,0.5256182152209122],[0.7367929858713675,0.6626887392559135,0.6774680908832392,0.6207519056642079,0.6147516507373811,0.7501315627687031,0.7277135989194129,0.6914538683973774,0.6379935332240876,0.6438228655666306,0.8244597583036894,0.8262105804986786,0.7888137968990784,0.8166207227773316,0.793121811533495,0.8381515455639095,0.7998988401667495,0.7735514522483308,0.7504329143487726,0.8105429167160603,0.938207175729824,0.924219597457023,0.920742729334837,0.8941065782494989,0.8682271464422165,0.910477209649915,0.9008602880166827,0.9229061456633336,0.9474022866919323,0.8932046119097097,0.8896000736590358,0.8824729556293504,0.8954778307229115,0.8926270139356389,0.9999999999999989,0.8936928255805245,0.9001217046023856,0.9098030133124959,0.897703467049876,0.8841663358737524,0.905635331388414,0.9271389867229851,0.8758625660853401,0.8297965577538671,0.8585362107324651,0.8249509218465454,0.8016173392023195,0.8270943454817709,0.8536392233706913,0.7872684555505371,0.791826468980728,0.860023709888245,0.8419742221799156,0.8947559343333988,0.8134489786387553,0.8712639100890585,0.8583502038369679,0.8758011409374986,0.8556184536517497,0.8498568295217092,0.8491362028325151,0.898974160612577,0.812712984328372,0.6034103925157868,0.5200816541991171,0.8039650782806356,0.7307725082767944,0.799637884205044,0.6165123421278658,0.6285283509023174,0.6846957381628709,0.6667597266913794,0.6841194183267711,0.7080989480671575,0.6744697020700853,0.6264383245069612,0.5881980305277636,0.6629902827383202,0.5470858688917408,0.5083084177628348,0.7316600394499345,0.7748839563598526,0.5191834341915612],[0.664904687483901,0.669172001388933,0.6323850534433002,0.6008342436978467,0.5703561132620854,0.7290780181154024,0.7225183803300157,0.6818752261880505,0.6263505968631025,0.6502461175861587,0.7945494967632369,0.772831626917827,0.7927274015164082,0.7796052203637687,0.7862517677419077,0.7899768831049494,0.7716401985005613,0.7586161259719144,0.8056767688467121,0.7479196818178773,0.8905232970706574,0.8197357774218941,0.9286098750936207,0.9099204580600698,0.8307042549949215,0.8629412241344389,0.8909865452543525,0.9155277528642553,0.9129184662947092,0.8500966826313132,0.8781281402304157,0.8939382851540241,0.8878371947416135,0.8774315366911181,0.8936928255805245,0.9999999999999997,0.8814532609225723,0.8926684356877257,0.8741048562934755,0.8729394885800194,0.8974846256734912,0.9128361439020425,0.8408139507606,0.8276463717577455,0.8530800734281827,0.8020573037761684,0.8287804672441615,0.834208205608999,0.860813746331921,0.8069823367238604,0.8409546163223297,0.863664325486148,0.8191645400171961,0.867856421913462,0.7955753806967323,0.8179202588654046,0.8290288425206856,0.8196251855882462,0.8525137980325868,0.8464504646966803,0.8506775232342347,0.8656947092579832,0.8211938847168425,0.578497891501913,0.5049819306155147,0.7741218943190071,0.6960079345667578,0.7755889453037179,0.6092797922828506,0.6269726045498705,0.6783279384662644,0.658608536042895,0.6754417464969664,0.6858319019899672,0.6548822055150105,0.5791920793888174,0.6488118030284735,0.7012235844258776,0.7209166097990817,0.516513662669982,0.7572601802011207,0.7851297837831988,0.5200345985560008],[0.8164938315153356,0.7608401910981331,0.6267112012386267,0.6070115718908897,0.5881919868791083,0.7026544471073758,0.729618681710016,0.704149197822451,0.6965488782559028,0.6772545440832338,0.7864812170285658,0.8038709195173518,0.8097150599163949,0.8048704509540847,0.8064152463511933,0.8110672316042027,0.7928432160095366,0.7926693575431336,0.7580238512343989,0.7876758347738759,0.9056911014730529,0.903081090033309,0.9168492791470677,0.8911610243524309,0.8686816562276798,0.8821477503737643,0.8976708079294828,0.9165395181125835,0.9113690564651444,0.9004594997147515,0.8879980893490187,0.8789616206322912,0.9033367192693285,0.9452540882398973,0.9001217046023856,0.8814532609225723,1.0000000000000009,0.8899500967706184,0.8741138134119979,0.872052594721475,0.8854996804865174,0.907397969327127,0.8935814393794985,0.9410293611673193,0.9026780387877387,0.9133947873691053,0.8056421725250049,0.8104597445123112,0.8399293236835929,0.7622279609872391,0.830942355516312,0.8133647400520585,0.8593430134911615,0.8637227760623964,0.8190172454430042,0.8795082193392749,0.8761929158751802,0.8420841574324174,0.8843675082955025,0.842176585793645,0.85704140140729,0.8378948864734682,0.810226176657761,0.5421717239142647,0.4759957332416217,0.8466539042938845,0.7707671130036218,0.917904583099064,0.6014717751958363,0.6192462506223692,0.6552346448598254,0.6816929780269699,0.6760555085498585,0.6651534563796747,0.6605567640719943,0.6180385826552295,0.5785699651661018,0.6332674317770817,0.5961817113870146,0.5089162962033271,0.7283166541809252,0.7567390857118088,0.4944116418971879],[0.6820804408110599,0.6625118330342161,0.6388446430075014,0.5940582436839701,0.6033011880099294,0.6968470311252548,0.728376133149823,0.6793563267707872,0.6506132809322376,0.653786824217806,0.7927458026506788,0.8443978161883867,0.7957151760754839,0.7975096441683355,0.7731640145194525,0.852192992744619,0.7840737786853671,0.78300980117398,0.78742672391231,0.7698157036874334,0.8962314855025898,0.8603040346992702,0.9131318043353496,0.9308256370769015,0.8456648140782103,0.8683622060250488,0.9044198224175797,0.9000466306447241,0.9556087116271673,0.8728215767535964,0.932203444239226,0.866286805693504,0.8891441236529172,0.8670929494796473,0.9098030133124959,0.8926684356877257,0.8899500967706184,1.0000000000000004,0.8933275775745032,0.8886863783986119,0.927565085804376,0.8947037274561862,0.8705560471060232,0.8219605291276646,0.8603656449849553,0.8315656853153255,0.8306236612052705,0.8679987975452785,0.9148210646935666,0.8874704323849988,0.8282197799268902,0.8592250768449121,0.8289390955564179,0.8440112888233713,0.8225854428352012,0.8382508692697557,0.8495404305997922,0.8170107139370267,0.8614258763363669,0.8463537621189718,0.8687063996522791,0.8665025968045792,0.8088243958923388,0.5422697235483189,0.4975073399602624,0.7512724294564542,0.7021980042567668,0.7569288174753575,0.6169391669263867,0.6374798997766604,0.6535889554193697,0.676605760871377,0.6737513483246239,0.6927403560909535,0.6769480984444428,0.5809135288142879,0.6257903953949316,0.6356200051502097,0.5826047972899391,0.524247744685992,0.7564745171141742,0.7858748823748858,0.4967922561639946],[0.702772722797552,0.6457449360715692,0.6415449728767615,0.6280854481859697,0.6184254131386411,0.7180765547524764,0.7202628133182025,0.7053527211230675,0.6316830933272198,0.6368208731520097,0.7605275323195246,0.8404893432007206,0.8089057573514601,0.8251927110058297,0.7893177941455102,0.8660780387864598,0.8410400951693979,0.812403709907431,0.7854324758437901,0.8065584829543924,0.8941803432146357,0.8654719296943106,0.8898830227878027,0.9008746825866707,0.8467817190710557,0.8719203861689828,0.8861198887386244,0.8912565801518011,0.8914831938054633,0.8872649015116478,0.897822343540903,0.8739911160583798,0.8850735447701834,0.8764815468937563,0.897703467049876,0.8741048562934755,0.8741138134119979,0.8933275775745032,1.0000000000000004,0.8837941412935583,0.9009937822938112,0.8800494748541561,0.8946686923123506,0.8068110901743375,0.883633636657465,0.8094769031104027,0.7693797260115605,0.7930597414557001,0.8327132877093715,0.7813154389283773,0.7895415592794861,0.9101824480063725,0.8646438685781825,0.8351514165728009,0.7976842619205975,0.859553254257091,0.8298693550827462,0.8466976518739543,0.8360564273910425,0.8570593043198473,0.861310730722536,0.851442579783869,0.7929239227139306,0.5863701943430077,0.5237159967114073,0.7788366851850019,0.7157736428136469,0.7518207201851097,0.6486454695826425,0.6587846551625833,0.6635761278651703,0.684067530089355,0.737899840133132,0.7118649333034645,0.6903230296431919,0.6341527089654637,0.6348527659622116,0.6580117615909817,0.6156871455219521,0.5428795684408616,0.7564192203127775,0.8014539731140728,0.5184995254234807],[0.6831845494147706,0.6430892174122854,0.6420462339230113,0.6283905426797285,0.6100947535599754,0.7180605224485006,0.7228031375218005,0.6947506048234627,0.6516498244441087,0.6442559636188314,0.7698141565777376,0.8158716951062205,0.84310189154154,0.8034031868038403,0.771450420981366,0.8228508379210386,0.77195635737553,0.7842207760297295,0.7533668706692521,0.8073125884002521,0.9181116661263158,0.8842185522580648,0.8924066462573196,0.8920601580137916,0.8729055260025782,0.8791324331954651,0.974784515586985,0.8687519036621609,0.8849075978296088,0.8793133546362091,0.8872245471628482,0.8539087050265208,0.8752829662404247,0.8841930488046696,0.8841663358737524,0.8729394885800194,0.872052594721475,0.8886863783986119,0.8837941412935583,1.0000000000000004,0.8881491734198654,0.9032352268751761,0.8710357320555695,0.8004550183053816,0.8430328694112643,0.803191325097693,0.7936335524052552,0.8206343883299356,0.8392318168352033,0.7932069054981479,0.8105328797317757,0.8521630289207566,0.8437174683490787,0.8292958383670628,0.8237296290394971,0.8743448349541949,0.8416997321966919,0.8476205082061363,0.8267241499347106,0.8226320130832983,0.86282055111181,0.8491218705165529,0.8155392385573672,0.5800561284037228,0.5312076804445416,0.789267020904546,0.7134636457382748,0.7312315287879172,0.7094206099758866,0.6211672102865684,0.7007932180287691,0.6647440069160636,0.6661406088081175,0.6910252976339137,0.6758454515187536,0.6055231578744358,0.7098992199181489,0.630897470208465,0.617502651328405,0.5114612893728572,0.7961974416324215,0.8005868438608617,0.5469339886117295],[0.6328791638302764,0.6296306705717833,0.6134379802138603,0.5785163443191128,0.5773634187090395,0.7214988864805982,0.7211489851896378,0.657441517811379,0.6574891780129506,0.6608399470077455,0.7646878161618177,0.7810775032127506,0.7889132425536662,0.7780563998518464,0.7484336367730497,0.8056321596458691,0.8007941039702916,0.8034401546039328,0.8013963456041986,0.7770876752433631,0.9029189580114487,0.8493823660655994,0.9382905290427497,0.9447715690072488,0.8297495726227857,0.8563176624273479,0.8995071234612876,0.9067335216315489,0.9256450757585863,0.8603734169986752,0.9050689861063563,0.8600729650474159,0.8883675849158066,0.8783475082537018,0.905635331388414,0.8974846256734912,0.8854996804865174,0.927565085804376,0.9009937822938112,0.8881491734198654,0.9999999999999989,0.9033467761633523,0.8440012440686899,0.8186010355306226,0.8419370868238487,0.8027517564721732,0.8129883569152447,0.8202068263085749,0.8599942713396624,0.817209160348346,0.8185509248746783,0.8529509757897761,0.8182315546938816,0.8228912709039604,0.8097049375671659,0.8391348761547737,0.8338193694540059,0.8170743106542272,0.8260854972376848,0.8421171126033913,0.9044884734054752,0.859835999297025,0.8441961400865772,0.580424546808552,0.5308517033445137,0.7258976592968797,0.6575075565564477,0.7286174073222024,0.6184474048914381,0.5930535552638087,0.7054328962111476,0.6837604577534252,0.7103462065318815,0.7198777605781704,0.6662521474548412,0.6400705557262683,0.6254078587971538,0.61158667876471,0.5797776218825237,0.5128321074241077,0.7699670930140925,0.8014914793418788,0.5072570827129429],[0.7073499281784554,0.7113294951763155,0.6549768491088344,0.6170801986526624,0.6234025795095696,0.7382960125446871,0.7387482274041037,0.7605395460389159,0.6493570591423667,0.6727324933758317,0.8282522607875467,0.8158561428762008,0.8011519715262242,0.818710781811321,0.8155772010365994,0.8275450713662305,0.769336553808187,0.7663231871339828,0.7614974888624447,0.7983915006158455,0.9476438236647895,0.8973474550055108,0.9231820716618883,0.9072126848848304,0.8908533030041923,0.9256461947701164,0.9175251219994153,0.9170453030073452,0.9201464092029397,0.889348887717839,0.9030448872871737,0.888276315797935,0.9045516900399464,0.9345517931363967,0.9271389867229851,0.9128361439020425,0.907397969327127,0.8947037274561862,0.8800494748541561,0.9032352268751761,0.9033467761633523,0.9999999999999991,0.8708625144486799,0.8616638970789766,0.864844918749482,0.8303760495962051,0.824469384748745,0.8548571582162643,0.87105964616156,0.8027114617001072,0.8310661831090393,0.8622342458900538,0.8499576880835458,0.9059723613108825,0.8304359519897085,0.8850933656126723,0.8722417577471798,0.9167678463517666,0.8672541722001041,0.8609423601448405,0.8541117739321418,0.8875344021799468,0.8666909634555184,0.5616964032436875,0.5356893759370052,0.7967171744878916,0.7421356006138065,0.8043052445286605,0.6427299966880703,0.6370334398577482,0.67436651104582,0.6608812602607658,0.6674443173779847,0.7000215259730076,0.6755905905193365,0.6106700508141485,0.6287533281707506,0.6309744939742788,0.5961373263229929,0.5188911260036414,0.7685552803417888,0.7904214038751528,0.5141825837246898],[0.7433669897628195,0.6595790453584077,0.6518817739135716,0.6431523501826057,0.6106534804564626,0.6845109227015228,0.7209659750679371,0.7069546056024245,0.6659131060778771,0.645758673847856,0.7683296457619578,0.8568414385684052,0.8093244241132802,0.8541904985150115,0.8222984470781916,0.8633157679142839,0.8090447019477484,0.8897412232517832,0.7746091144611108,0.8605047796315274,0.9030280505719739,0.9192798815725172,0.8630059613859333,0.850210297583132,0.9166219517772277,0.8887182137442322,0.8944131063944396,0.8970127438824845,0.8619962845836767,0.9567012267619142,0.9171713033108271,0.8752683028901088,0.9029630919890244,0.8770200602792102,0.8758625660853401,0.8408139507606,0.8935814393794985,0.8705560471060232,0.8946686923123506,0.8710357320555695,0.8440012440686899,0.8708625144486799,1.0000000000000004,0.8167105314015601,0.8369576983768825,0.8337104718452695,0.7678450590423272,0.7962426881056156,0.8243857562687631,0.767309650058801,0.8197467013194104,0.8127139394035288,0.8638700678320675,0.8285392408475372,0.8310125592451385,0.8511041603279101,0.8622394972107427,0.8501902366029457,0.8509858750235828,0.8528737795140273,0.8537535723864551,0.8059820951756471,0.7856487170926949,0.6186627122523212,0.5988508587907326,0.7856606539555382,0.7655129007970203,0.7643460564756056,0.6656080952108652,0.7077395024217656,0.6734255403202476,0.6861211577760645,0.7308297177326463,0.7385625068046657,0.7370360353958328,0.679601504919642,0.5966073587893946,0.6827217438052604,0.6275424057128121,0.5111728492776112,0.7455670505626271,0.7517076798242637,0.5425771989559486],[0.8211790577338993,0.8523623749812267,0.5934343696730867,0.5883889346389778,0.5421548397036426,0.6604402855479581,0.6519243850809725,0.6380693697860511,0.6187953750801156,0.6152037935202281,0.7275536134066045,0.7088496686485168,0.7315331914824216,0.7190476209492893,0.7547891004951857,0.6897870909765578,0.7237105414842521,0.7379951503033662,0.6963358160899589,0.7190290864044495,0.836178175762751,0.8262721281010766,0.8625410035222612,0.8283890185691348,0.7701272138049671,0.8219659971848721,0.8121591334539537,0.840183018239675,0.8649443935012955,0.8218561056547724,0.8367595196305229,0.7987805732708307,0.8541912219417118,0.9377961163704758,0.8297965577538671,0.8276463717577455,0.9410293611673193,0.8219605291276646,0.8068110901743375,0.8004550183053816,0.8186010355306226,0.8616638970789766,0.8167105314015601,1.0000000000000007,0.8975047791327959,0.9147461272811896,0.7600753308820163,0.7651824552378204,0.7741958156837437,0.6896527426833879,0.7597699517155094,0.7433124962454241,0.8165764385136083,0.8039954131491179,0.752003020426644,0.8293391502886949,0.7955739348196885,0.7601361150332029,0.8204215790128402,0.7700965539735072,0.7699791802668254,0.7693876107541184,0.7419880036596103,0.4980593134229101,0.41641121803045156,0.8382100084100812,0.7540731985324293,0.917456101480391,0.5303278026987993,0.5741025069735293,0.5716690448465209,0.5972937922623341,0.6115947262433186,0.5824126649467192,0.5735556153264679,0.5668796968022478,0.5167679553945612,0.550167630065925,0.5330978403059066,0.459107868898903,0.6570862390913922,0.6706441249030475,0.4388237360353159],[0.7766558315902065,0.7706474226240592,0.5911854852211381,0.6085370939163405,0.5513614838897432,0.6607581448694712,0.6391876928992954,0.6265566258789363,0.6264863761561861,0.6097938053148436,0.745673687275189,0.7305203935285405,0.7385022882709797,0.7200785469491042,0.7727487517057078,0.7356714907831993,0.691912676015141,0.7404649151712543,0.706321847539032,0.7580783390159258,0.8312814439316665,0.8507419503173264,0.848795547668346,0.8476167475031335,0.782505029679579,0.8232005205583821,0.836136708478254,0.865038434669541,0.8751158749129722,0.8255570395167019,0.8441015359472265,0.8311164013151695,0.8624322406450339,0.8890077580869296,0.8585362107324651,0.8530800734281827,0.9026780387877387,0.8603656449849553,0.883633636657465,0.8430328694112643,0.8419370868238487,0.864844918749482,0.8369576983768825,0.8975047791327959,0.9999999999999993,0.8778250944858538,0.7662168622070036,0.77680535268948,0.7949234295729739,0.7335168445467056,0.7499528303813424,0.9266981300884385,0.8357750280815719,0.8024943542125247,0.7642401447255871,0.8272640040387393,0.7938733477037898,0.771707070705396,0.8484494337749178,0.7698298902742808,0.8069544362507719,0.8010050507668675,0.7343750661009222,0.5451180308389733,0.46874075518728425,0.806920009235452,0.7528524155806811,0.8645005844083519,0.5546846899392917,0.5914426035225551,0.5880418737394748,0.5918600282090811,0.6297443203934958,0.6525472480294798,0.5782166047755318,0.535981730927786,0.5584002543569295,0.5670992619616114,0.536537088324653,0.4540389607274757,0.66141157487331,0.7066119744073791,0.4377084582797899],[0.8530169079466764,0.7853007911711267,0.6053308295179513,0.6119102430308235,0.5606917155732344,0.649315692674238,0.6719586398301651,0.6707043717398354,0.6102054758372815,0.6367625655835418,0.7430434237134059,0.774339012315697,0.7797057665328234,0.7581645814690899,0.7995815034180992,0.7243167288929832,0.7132547413493422,0.7422789067737234,0.6985508142139399,0.7535282558094276,0.8464332076432324,0.849129311350266,0.8216292385579742,0.8086424535380637,0.8039861633104953,0.8403803641871435,0.8261262650206733,0.8211240530388593,0.8597538432716516,0.8394941527043305,0.8459488786857887,0.8141253688505051,0.8509875459582597,0.9024919796365993,0.8249509218465454,0.8020573037761684,0.9133947873691053,0.8315656853153255,0.8094769031104027,0.803191325097693,0.8027517564721732,0.8303760495962051,0.8337104718452695,0.9147461272811896,0.8778250944858538,1.0000000000000007,0.7978975135510982,0.804293857616468,0.8130005505441178,0.7417295866995858,0.8122348332776161,0.7667464531270302,0.8547539940353278,0.8020192554748261,0.7733379837590421,0.8867941480375972,0.816458522060807,0.7890662499339837,0.8554610825007936,0.7594314167226945,0.7720441687395773,0.7768228220301552,0.7333861490809722,0.4933820690845214,0.4765352118766448,0.8224964158827275,0.8069203784893987,0.919174778046323,0.567280126218141,0.6278567081458012,0.553641353596894,0.6176832832674406,0.6336074060751825,0.6532612444100803,0.6356177306797007,0.5544787144464295,0.5610269351339605,0.5594021855671738,0.5483312545103486,0.47747616047097907,0.6718450832650343,0.6958433526686407,0.4383276692294613],[0.6568169811685949,0.6157479680464721,0.572687109518804,0.5324320585829826,0.5095993623234896,0.6172379044080569,0.6408677568218545,0.6611385007767634,0.6177182060788349,0.6370023603262762,0.7221182364314955,0.738774520744237,0.7310623239450112,0.708004222346164,0.7437614890864725,0.7025956813832409,0.6810477039590754,0.6660379017764281,0.6702913698667652,0.6770993046435361,0.8190992566076307,0.7695210599854387,0.8219102688217774,0.858808685009943,0.7733005085988007,0.8008457414064036,0.8225270479772175,0.7912613614152288,0.8538880055140263,0.7763568648148745,0.8085146801592339,0.8008662670355646,0.8781752343349027,0.8070799070458591,0.8016173392023195,0.8287804672441615,0.8056421725250049,0.8306236612052705,0.7693797260115605,0.7936335524052552,0.8129883569152447,0.824469384748745,0.7678450590423272,0.7600753308820163,0.7662168622070036,0.7978975135510982,1.0000000000000002,0.8500691614088449,0.8543185582744545,0.8622710383162442,0.9269058595028127,0.7490765445159102,0.8087006630246886,0.7887315253413173,0.7664319658397374,0.8036327639251736,0.7987439429832894,0.7641611794953782,0.7808051934452167,0.7436003892703464,0.7552400167360204,0.7319485590523639,0.7396681339357067,0.4996147431109215,0.513913204794208,0.6795528392132877,0.6986096138671211,0.728006145187583,0.5392512617192815,0.5406281975997499,0.5482339060844981,0.5907098093103845,0.5701516813233115,0.6437072772701751,0.6289298674954398,0.4988517002938421,0.5828443719862725,0.5417901902623659,0.515396644955453,0.4629716083864998,0.6949122967343202,0.696465690779719,0.42407458457669284],[0.6604594349349399,0.6367722759135883,0.6049340220378379,0.5767642980861799,0.5783646876957805,0.6777815427884064,0.6968502613079455,0.6431003935413551,0.6095491224423575,0.6293678789784983,0.7453267885246313,0.7962087214437528,0.7737827206466714,0.7756275470406022,0.7474384792890405,0.7705082475353642,0.6850563523195357,0.6943642387709219,0.6926320448888638,0.7300265112298611,0.850141821366096,0.7994584171382093,0.84331628353228,0.8246152648799411,0.809648528627254,0.8303251337748103,0.8482514942888184,0.8150782343458063,0.8965488824903185,0.8304291126273082,0.8742873637143465,0.8056622174524255,0.8249235895106148,0.8216186028095591,0.8270943454817709,0.834208205608999,0.8104597445123112,0.8679987975452785,0.7930597414557001,0.8206343883299356,0.8202068263085749,0.8548571582162643,0.7962426881056156,0.7651824552378204,0.77680535268948,0.804293857616468,0.8500691614088449,0.9999999999999999,0.9693326620291937,0.9158454919383683,0.8261262304704736,0.7702791577650865,0.8221696584803008,0.788422257200653,0.7512769272760333,0.8359505748492715,0.8030611076156788,0.7766193445745927,0.8000304806325078,0.752291039867151,0.7671374103706569,0.7866698948372977,0.7495183871521938,0.5514194151419056,0.499847513440726,0.7295218281061444,0.7024201980416618,0.7482959973042071,0.600127972248004,0.6102300815287256,0.5946103505568516,0.6007286467964806,0.6312928207108669,0.6749286212337519,0.6536275308212445,0.5672600528409126,0.6049924953186232,0.5411905550840982,0.5106460730038267,0.4797838013162359,0.6843341283869835,0.7361165575470807,0.4506095845948167],[0.6605302616038735,0.6427874202982122,0.6165065762172045,0.5747849118704897,0.5874890229667549,0.6729714794420821,0.7037152238866237,0.6641438507899152,0.6303682506604541,0.6632208631130415,0.7544470220011623,0.8303871771797035,0.7898774133565822,0.7891868379008501,0.756387434079361,0.8203297758710911,0.7318733375699137,0.7238840677233307,0.7372582825582663,0.7484074669932463,0.8698639340770008,0.8060103683518176,0.8628069075214015,0.8636482907022769,0.8243337187253322,0.8383621241742967,0.8737362311969243,0.8439879411762918,0.9252474564831187,0.8477333894734553,0.8979706259478362,0.8230930867770359,0.8560114382369908,0.8393097649369801,0.8536392233706913,0.860813746331921,0.8399293236835929,0.9148210646935666,0.8327132877093715,0.8392318168352033,0.8599942713396624,0.87105964616156,0.8243857562687631,0.7741958156837437,0.7949234295729739,0.8130005505441178,0.8543185582744545,0.9693326620291937,0.9999999999999993,0.923059281145779,0.8411500992251428,0.805837362831353,0.8267640165706567,0.8081794027363349,0.7789226752351096,0.8392991494139145,0.8293097164231182,0.802074809282487,0.8203898180449971,0.8053140261936411,0.8030541206328246,0.8126408453284001,0.7781482772169535,0.5739974428466167,0.5042639090090305,0.7315973374970128,0.7056780107458498,0.7422616012763319,0.6158280306950903,0.6543653253187729,0.6246166877039034,0.6420410515054513,0.6622691274293068,0.6966700747364976,0.6591614699896317,0.5478459811057037,0.6162340021426049,0.5812182678547158,0.5487483437272145,0.520617723831545,0.7091242948976183,0.7542557407102776,0.4807334277709239],[0.5912102016915368,0.5907940384253569,0.5606434965102605,0.5278071796289883,0.538660608496688,0.5984570246641006,0.6552434257969013,0.6305087059354362,0.5786157352052215,0.6120771408175769,0.7132696750521786,0.7719916964434677,0.7283575534511282,0.7333878395631487,0.7097225300827488,0.770741701065558,0.6810332129386494,0.6787141065919045,0.7087237143178277,0.7020779134580555,0.7983294151303125,0.7482119991479702,0.7921615208457791,0.8353520113040491,0.7777236704249066,0.7886074735983082,0.8220935883744628,0.7709627981266646,0.855089050989634,0.7850520872620643,0.8297135230088971,0.7897681258029996,0.8100238889847217,0.7650258617458587,0.7872684555505371,0.8069823367238604,0.7622279609872391,0.8874704323849988,0.7813154389283773,0.7932069054981479,0.817209160348346,0.8027114617001072,0.767309650058801,0.6896527426833879,0.7335168445467056,0.7417295866995858,0.8622710383162442,0.9158454919383683,0.923059281145779,1.0,0.8524501627616856,0.7672095685876108,0.8040514619583208,0.7619272565525914,0.7521637784786332,0.7815319620143084,0.7768098331982496,0.7613241801025865,0.7586321419619477,0.7527503518345835,0.7602100071658635,0.743455915346015,0.7312038932066184,0.5628290976917927,0.49564483954964067,0.6474401675409408,0.636280245637342,0.6620022782756998,0.5776854386788383,0.6102726931382352,0.5567003618671462,0.6148259086293415,0.5960648328775211,0.682526003028433,0.655083353248706,0.5234899297629692,0.602327082604101,0.5681860120187473,0.5405788053762994,0.49503230933323367,0.6843208068627789,0.7107510552727863,0.4577039161223941],[0.6592138148244111,0.5926609445030472,0.6025012062475695,0.575948841724688,0.5562903088375167,0.6471900899805315,0.6758825264909651,0.7139847715556255,0.6525026570771854,0.668862972134902,0.7666225696372847,0.7650584063093769,0.770846879920388,0.7665573298910114,0.7901443932193469,0.7596323214278946,0.7545247048400792,0.7248162117312829,0.7191492316264623,0.7282560766205008,0.8541008075733698,0.8084621955303871,0.8260776221915812,0.8587264224572193,0.8316815693523103,0.8341159779125685,0.8516536261759695,0.8235982650170954,0.8371910056179073,0.8320503828028583,0.8386587016728756,0.834163617396044,0.899730129403538,0.8266676376982631,0.791826468980728,0.8409546163223297,0.830942355516312,0.8282197799268902,0.7895415592794861,0.8105328797317757,0.8185509248746783,0.8310661831090393,0.8197467013194104,0.7597699517155094,0.7499528303813424,0.8122348332776161,0.9269058595028127,0.8261262304704736,0.8411500992251428,0.8524501627616856,1.0000000000000004,0.7390401306340733,0.8284270098437496,0.8158897068854352,0.8016953882775901,0.8305726576377472,0.8602953851854951,0.8131723415464752,0.8067623312152576,0.7912688858213697,0.7960733370894051,0.7562530852526937,0.7785443126582825,0.5443484957086546,0.5274391203518821,0.7136799979003217,0.7221713390732196,0.7300352975579508,0.5909371464987598,0.581749054718218,0.5765726629861643,0.6405460388831284,0.6232622137636709,0.6802021878151641,0.6534237933745486,0.5946073815734144,0.6102772432551019,0.5808888661001439,0.6069902252567931,0.5043111921352046,0.7327075587730323,0.7203746771732334,0.45061328288942504],[0.634673883610189,0.6330342225024473,0.6164968959865718,0.6054105819414713,0.595066071716202,0.6910740624797618,0.6608871543854938,0.6598042102452327,0.6139983543252054,0.6016605253133231,0.7770887386087297,0.7599197305974265,0.7484919814686399,0.7254271148655479,0.7827030782688289,0.7879951908203071,0.7028352252399506,0.7242341531029641,0.7372426338159304,0.7663791849577113,0.8514493942301431,0.8199844884344064,0.8448247538016174,0.8594274900568233,0.8054269660209318,0.8311197692678726,0.8480014035225815,0.855122174577601,0.8496020163196691,0.8095045551137333,0.8280130566028057,0.850808856932946,0.8401953517975722,0.838404736985537,0.860023709888245,0.863664325486148,0.8133647400520585,0.8592250768449121,0.9101824480063725,0.8521630289207566,0.8529509757897761,0.8622342458900538,0.8127139394035288,0.7433124962454241,0.9266981300884385,0.7667464531270302,0.7490765445159102,0.7702791577650865,0.805837362831353,0.7672095685876108,0.7390401306340733,0.9999999999999998,0.8133693422102242,0.8190819652134191,0.7656982897632132,0.8176946894672104,0.7753048402545499,0.8131637302367709,0.814976116570062,0.7899917900366237,0.8259487827248102,0.8400126089244335,0.739846797873825,0.5780270066338394,0.5493183420295175,0.7408696725955884,0.7002302772929372,0.7256320065829627,0.5925004362202335,0.6223938116253563,0.6468182353614278,0.6167406338792971,0.6613850624436747,0.7272110190498453,0.6255313037902479,0.5274936696477066,0.6139128456033747,0.6111106823594669,0.5710396748804912,0.47334181404847553,0.7089154998904372,0.7636949638538075,0.5066479871619852],[0.7549956172617385,0.6651441221175683,0.6406787113710266,0.6193639990247415,0.6080645791692658,0.6443077476579842,0.6970513832717803,0.6547672466593255,0.6317599508552775,0.6445139667442973,0.7242014556072358,0.7744891311656732,0.7631679581045985,0.8071086422556436,0.7865260605577801,0.7780741357487935,0.7662359818548711,0.7603030157353348,0.7307193238559427,0.7736308676235412,0.8746921296567222,0.8697863511038525,0.8237783215592391,0.8295923574127313,0.8550977637817672,0.8678093917500962,0.8669406672912341,0.8285682451081402,0.8443564858055495,0.8741796942868718,0.8547000014618237,0.8510352381991211,0.8512937401640472,0.8762191209548991,0.8419742221799156,0.8191645400171961,0.8593430134911615,0.8289390955564179,0.8646438685781825,0.8437174683490787,0.8182315546938816,0.8499576880835458,0.8638700678320675,0.8165764385136083,0.8357750280815719,0.8547539940353278,0.8087006630246886,0.8221696584803008,0.8267640165706567,0.8040514619583208,0.8284270098437496,0.8133693422102242,0.9999999999999989,0.8180083458919702,0.7763978598474416,0.8848969748200611,0.8254980423923415,0.8350984530167294,0.7834541718271151,0.8042818701222612,0.7886523713966198,0.7740067872181043,0.7447841027967437,0.5894851866856232,0.5381898049259944,0.7722766764459226,0.7384752639272053,0.7840142970115134,0.6531936965834114,0.6348288104037005,0.6047175667952435,0.6408885459611647,0.6648706732034745,0.7020809736528701,0.7168774384194614,0.6377056629560864,0.5931946979320201,0.5758652243760268,0.5539046472950863,0.5063219834933258,0.7207834613236683,0.7213145525681228,0.4728478748157322],[0.7192294270331178,0.6560864629331238,0.6737739582921318,0.6135238453855991,0.641565391523107,0.7628828898768594,0.7359819750836725,0.7564003997599111,0.6410186142974456,0.650678094759862,0.8956196752771283,0.8234036581967505,0.7868109148060173,0.7976631244425778,0.8540083676735393,0.8010279007715955,0.7360513032989502,0.718209645407563,0.7256495772337215,0.7550978771848775,0.9273257584172165,0.8593943405831486,0.9008987631334588,0.8692747485499828,0.883710874023768,0.963274122985857,0.86538870346772,0.8836846338129153,0.8659844802898282,0.8443471482606966,0.8368483329922909,0.9111751894113498,0.8781067803232941,0.889536238547505,0.8947559343333988,0.867856421913462,0.8637227760623964,0.8440112888233713,0.8351514165728009,0.8292958383670628,0.8228912709039604,0.9059723613108825,0.8285392408475372,0.8039954131491179,0.8024943542125247,0.8020192554748261,0.7887315253413173,0.788422257200653,0.8081794027363349,0.7619272565525914,0.8158897068854352,0.8190819652134191,0.8180083458919702,1.0000000000000002,0.8167491652229757,0.868367024126879,0.8573683158720433,0.9279548563999813,0.8522558111970955,0.8443508139176603,0.8347697771945044,0.8603596303507016,0.7925333639212097,0.5402169643991515,0.4988649599230397,0.7869846064714929,0.773820585178971,0.7864655660496314,0.6098541929882835,0.6217563241667732,0.650781019624295,0.6574570252035443,0.6451461646183904,0.6769506984293219,0.6500390127887872,0.5594575233472066,0.5707007101861397,0.6304423209069424,0.5582659558717896,0.501141755828819,0.7302914349841912,0.77100221425359,0.5209933094139166],[0.6483992719964823,0.5884897199332365,0.5931376441505244,0.5754263993567923,0.5866893927198071,0.6362925193285507,0.6578540736776952,0.6888269510085038,0.6037535226770838,0.5752259590001083,0.7549577238624154,0.7732631278709892,0.7810255731769555,0.7668223281523553,0.7953568253751626,0.7702943972684895,0.7225140988112512,0.7186702410801152,0.7494089035968641,0.727890493828576,0.8596005429385662,0.8264506043534918,0.8431529647128801,0.8121496043842993,0.8537597819464802,0.8417885666414084,0.8467319048264699,0.8173618697766045,0.8186620103479659,0.8282406423897377,0.8409966268617874,0.812188664441453,0.8364038908014486,0.8282433368946739,0.8134489786387553,0.7955753806967323,0.8190172454430042,0.8225854428352012,0.7976842619205975,0.8237296290394971,0.8097049375671659,0.8304359519897085,0.8310125592451385,0.752003020426644,0.7642401447255871,0.7733379837590421,0.7664319658397374,0.7512769272760333,0.7789226752351096,0.7521637784786332,0.8016953882775901,0.7656982897632132,0.7763978598474416,0.8167491652229757,1.0000000000000002,0.8032348300337262,0.7844959900945352,0.8109565216102135,0.8145659252531507,0.7731066780682596,0.8035676958154,0.776211032128132,0.8136180235339658,0.5271620618098378,0.4888267960929634,0.7007004740852962,0.7190982843847784,0.6956802932071677,0.6186526022216174,0.6542207934680623,0.6210083826208309,0.5997019089567985,0.6022348640895552,0.6778835666637841,0.6626325272387782,0.5806385832456075,0.5593782676501796,0.5815101972043689,0.572634852656732,0.4583250714157566,0.7600530038931917,0.7297435390350329,0.5007222314135829],[0.7487154037830255,0.687775794769681,0.6571105457027634,0.6449601286849106,0.6401546787954794,0.7314148240381095,0.7226914224997756,0.7699442105638523,0.6430261390659304,0.6605984535718393,0.8185168836369474,0.8208144002060899,0.8407452829083135,0.8002613185646702,0.8374396727199032,0.7912840565515942,0.7476668550953686,0.764994134493405,0.7060244174211928,0.7822832578835566,0.9276734693900142,0.8800901728619039,0.857006205439117,0.8552347773117692,0.8907407460152478,0.8992083235404278,0.8904051036284166,0.8325799585693536,0.8623187819824716,0.8632984973062953,0.8528745332602307,0.8569571028643614,0.8735697010460893,0.9220431353935927,0.8712639100890585,0.8179202588654046,0.8795082193392749,0.8382508692697557,0.859553254257091,0.8743448349541949,0.8391348761547737,0.8850933656126723,0.8511041603279101,0.8293391502886949,0.8272640040387393,0.8867941480375972,0.8036327639251736,0.8359505748492715,0.8392991494139145,0.7815319620143084,0.8305726576377472,0.8176946894672104,0.8848969748200611,0.868367024126879,0.8032348300337262,1.0,0.8595844398055281,0.8837675364481725,0.8306104053097028,0.7936226596370363,0.8303095744415996,0.8385161505568284,0.7694235594209607,0.5560423487970012,0.5074798641792815,0.8311293106783475,0.8026982292716768,0.8158500551048572,0.6074839655949786,0.6229087304230517,0.623489512253232,0.6375993665923096,0.6483535671958855,0.6669743866563042,0.696888882921108,0.6246062355822052,0.6222714717804403,0.5699910171315684,0.5448156836349992,0.49176834036784856,0.7536503885195605,0.7806351939274396,0.4999946782753417],[0.7090814650757085,0.6145157775676902,0.6555990548210693,0.6475532078389235,0.6445612760035676,0.6985991972567624,0.7094666626445337,0.7235842887807453,0.7001102698116097,0.7738665816746333,0.7876784957524513,0.8206305821968765,0.7911765011625937,0.7926920416678817,0.8086735919456578,0.8146930479218066,0.759747555533451,0.7507065522861863,0.6943981595604125,0.7567503477840496,0.902527117781504,0.873749262461241,0.863216584882742,0.8698450955154196,0.8703155517487173,0.8834077988907258,0.8722707342499617,0.8759998083605032,0.8643720893000282,0.8744465568483012,0.8703943133268606,0.8781420521573788,0.8770453873581425,0.8728648164001765,0.8583502038369679,0.8290288425206856,0.8761929158751802,0.8495404305997922,0.8298693550827462,0.8416997321966919,0.8338193694540059,0.8722417577471798,0.8622394972107427,0.7955739348196885,0.7938733477037898,0.816458522060807,0.7987439429832894,0.8030611076156788,0.8293097164231182,0.7768098331982496,0.8602953851854951,0.7753048402545499,0.8254980423923415,0.8573683158720433,0.7844959900945352,0.8595844398055281,0.9999999999999991,0.8563402598689125,0.8254102929871925,0.8145326337372231,0.8313090398763562,0.8148551428770769,0.7828974893408682,0.5131870975506366,0.4980509354023426,0.7670405776236031,0.7460855705587068,0.7657662171985327,0.6297333879327747,0.6106497671654078,0.6124363273775151,0.6596548494528787,0.6642745224657122,0.681387080602165,0.6508048040828098,0.5910377842684591,0.5973383324094035,0.5987260715443686,0.5387456038957296,0.5048698828799325,0.7300397792304029,0.7417517464633212,0.47317158356872135],[0.6962419998637978,0.624793654676379,0.6667547247158533,0.6350125228129896,0.6526981572255095,0.7117989578034535,0.7429827986551956,0.7955541520058678,0.6503958675468919,0.6710507929904777,0.8440503607667591,0.8407987874659175,0.7909090510984245,0.8341413796892956,0.8540767800252065,0.8383151044212853,0.7555298323359961,0.732934840723763,0.7325057002342685,0.7962715260883138,0.9413097148108328,0.8973456475492463,0.8443061576332938,0.8348079473153438,0.928851378054399,0.9446641690881226,0.883477339874102,0.8477350846190855,0.8409562513213045,0.8696415224066958,0.8392288301251604,0.8769886758803044,0.8613300069894584,0.8946926846467489,0.8758011409374986,0.8196251855882462,0.8420841574324174,0.8170107139370267,0.8466976518739543,0.8476205082061363,0.8170743106542272,0.9167678463517666,0.8501902366029457,0.7601361150332029,0.771707070705396,0.7890662499339837,0.7641611794953782,0.7766193445745927,0.802074809282487,0.7613241801025865,0.8131723415464752,0.8131637302367709,0.8350984530167294,0.9279548563999813,0.8109565216102135,0.8837675364481725,0.8563402598689125,1.0000000000000007,0.810682103986594,0.8411540362229093,0.8090471003903174,0.8445261357201935,0.8161885524115458,0.5551522311424172,0.5377934246663331,0.7908427173416654,0.775140693827477,0.744622019125453,0.6341859054412191,0.6651953196840739,0.6493337292081314,0.659445915355528,0.6596036283962696,0.6893176343214772,0.6753035747405118,0.6215544947339459,0.6062703058142818,0.627617332688106,0.5920629022472799,0.5223171839884722,0.7334798975848673,0.7543509505672981,0.5372385703335602],[0.7225245526371848,0.673532444253137,0.6073142118810537,0.5817580498394732,0.6181470300442593,0.7173939876195852,0.6925379040618342,0.7144013798006065,0.6260720969800072,0.6039510862649347,0.76311431967791,0.8062101123738654,0.7670208786108386,0.8079436533486859,0.7848936464755767,0.8053669926413711,0.7271512927856405,0.7712165187036302,0.709890252395963,0.7866487876179824,0.8718736104781469,0.8432064289342432,0.8722581500076256,0.8496085492189611,0.8357118558667747,0.8529612469338242,0.8499387462995417,0.8795003966560788,0.8556564918480865,0.8626018367206918,0.8641458187412591,0.8558246433574729,0.8706175325209116,0.8690756680648419,0.8556184536517497,0.8525137980325868,0.8843675082955025,0.8614258763363669,0.8360564273910425,0.8267241499347106,0.8260854972376848,0.8672541722001041,0.8509858750235828,0.8204215790128402,0.8484494337749178,0.8554610825007936,0.7808051934452167,0.8000304806325078,0.8203898180449971,0.7586321419619477,0.8067623312152576,0.814976116570062,0.7834541718271151,0.8522558111970955,0.8145659252531507,0.8306104053097028,0.8254102929871925,0.810682103986594,1.0,0.7983373636281625,0.8196346508413486,0.8485938098354211,0.7561275547439066,0.5521581764327891,0.49153748325053725,0.7670293871646559,0.7493491516194084,0.812938611686822,0.5812813162706169,0.605464472298775,0.6359200604638111,0.6552981698161366,0.6855436677187269,0.6676296762254127,0.6078419827984112,0.6034010717321044,0.5431170205621205,0.6234183692373876,0.5828157474872334,0.4740739270812314,0.6937151836733966,0.7288913002038893,0.48489823221960304],[0.6573241586083434,0.6258330297114281,0.6474793988480239,0.5608119779251814,0.6094209236935006,0.6583300541780518,0.717163645667628,0.6895892849911267,0.5827130116549085,0.648136258453457,0.7410534721746044,0.7902499208490765,0.7437569884984837,0.7967803199946363,0.7691580776303317,0.8345292997507565,0.8183450555034717,0.7713556034927125,0.7925684623765556,0.7693753803079231,0.8741183532904242,0.832474609699636,0.8538434548527477,0.8708126963501394,0.8378964578273527,0.8530870099364334,0.8565937613321515,0.8769732293997253,0.8320988382634509,0.8470896114117541,0.8440997023978604,0.8826598827209113,0.8572372672078052,0.8507263334483379,0.8498568295217092,0.8464504646966803,0.842176585793645,0.8463537621189718,0.8570593043198473,0.8226320130832983,0.8421171126033913,0.8609423601448405,0.8528737795140273,0.7700965539735072,0.7698298902742808,0.7594314167226945,0.7436003892703464,0.752291039867151,0.8053140261936411,0.7527503518345835,0.7912688858213697,0.7899917900366237,0.8042818701222612,0.8443508139176603,0.7731066780682596,0.7936226596370363,0.8145326337372231,0.8411540362229093,0.7983373636281625,1.0000000000000002,0.8249121073102375,0.8018138564274464,0.7888829293869335,0.5532528135043273,0.5171160411420233,0.7236169693486114,0.6663604604768043,0.7024443522117196,0.6437282181188091,0.6495329045636271,0.7204421216240808,0.7982292219086862,0.7028350950395845,0.6872476051917416,0.6797941056789286,0.5845044442164244,0.5953654431986797,0.7082149445990985,0.6372047549626321,0.7726420649098654,0.6991357305977323,0.727251414864351,0.5029232621229496],[0.6140528464904971,0.5737310425221414,0.6038250132029803,0.5718022171049761,0.5981658938641463,0.7262980913026893,0.7168189552026762,0.6549249678249605,0.6570284214531955,0.6720290979096373,0.7774421815015349,0.7852086977550112,0.7696941456179729,0.7502149707065657,0.7327739405135518,0.7892290950892562,0.7683394559793967,0.7709112350825249,0.7574589197649704,0.7558220737196665,0.8823513568126398,0.8327148318167332,0.9046160901993021,0.9031952464888753,0.8490573754485184,0.8688993282610641,0.8838488230778863,0.9016636856255988,0.8527228533225363,0.8448060068728893,0.8646562406304374,0.8708221352223245,0.8813629810666934,0.8408258372792925,0.8491362028325151,0.8506775232342347,0.85704140140729,0.8687063996522791,0.861310730722536,0.86282055111181,0.9044884734054752,0.8541117739321418,0.8537535723864551,0.7699791802668254,0.8069544362507719,0.7720441687395773,0.7552400167360204,0.7671374103706569,0.8030541206328246,0.7602100071658635,0.7960733370894051,0.8259487827248102,0.7886523713966198,0.8347697771945044,0.8035676958154,0.8303095744415996,0.8313090398763562,0.8090471003903174,0.8196346508413486,0.8249121073102375,1.0000000000000009,0.8604561257262333,0.8138969328673674,0.49790431963807447,0.5196316953749855,0.7139687786949441,0.651370359270886,0.6958765419892907,0.6183048957413375,0.5882272903492636,0.6803305927408857,0.6841720459337505,0.6644897306555874,0.7004835290450258,0.6700130663110819,0.5791564700631384,0.5970431968572694,0.6126055057206543,0.5596887886189742,0.5190938971820597,0.7702211116248081,0.7919320778415535,0.5142203300648454],[0.6425535374940148,0.6250406696173998,0.6945160762010488,0.6279469723679506,0.6873956129670831,0.8032119879098176,0.7698092720903764,0.7005403148313853,0.613376453705113,0.6203813398173994,0.8433072141687974,0.806036705649472,0.7674968995079022,0.7751457672435917,0.7720041782113101,0.8028310875672297,0.7530624977604827,0.7243578866740806,0.7304610091449463,0.7586079036627661,0.9065657044042175,0.8375828231002878,0.883509078409411,0.8665998521721225,0.8380737386684465,0.8746821699406211,0.8668305518332264,0.8734481828049752,0.8706457336547186,0.835741916318788,0.851245724921067,0.8467329034443896,0.8684713082729051,0.8573212815874571,0.898974160612577,0.8656947092579832,0.8378948864734682,0.8665025968045792,0.851442579783869,0.8491218705165529,0.859835999297025,0.8875344021799468,0.8059820951756471,0.7693876107541184,0.8010050507668675,0.7768228220301552,0.7319485590523639,0.7866698948372977,0.8126408453284001,0.743455915346015,0.7562530852526937,0.8400126089244335,0.7740067872181043,0.8603596303507016,0.776211032128132,0.8385161505568284,0.8148551428770769,0.8445261357201935,0.8485938098354211,0.8018138564274464,0.8604561257262333,1.000000000000001,0.7834451963530824,0.5087827243336374,0.4828685390626554,0.7785252795880063,0.6850547610019507,0.7397342469531686,0.6025313531121549,0.6500944788551453,0.6866508184926625,0.6367783248454135,0.6787115684083076,0.6723928708333511,0.6230889283399572,0.6006286798484253,0.6125660142133523,0.645384694394626,0.601161558836203,0.5079005983966657,0.7694238041078967,0.8366440063116097,0.5625367005573045],[0.5911589452061249,0.5716497404957237,0.56659477134014,0.5263386688549068,0.5625620275657685,0.6151756268748736,0.6896820477667793,0.6665786753417716,0.5777885503887181,0.6097583927714867,0.7241915557423144,0.7175927368268349,0.7610712982689054,0.7552274643495511,0.6990376893829109,0.7470058295119408,0.738952289645407,0.6864370999696618,0.7385509749953489,0.7036040475444024,0.8461868066501974,0.8134739629332857,0.8470014912354147,0.8429032375172172,0.8103423747746833,0.8216481060566195,0.8280308155604835,0.8159355004135811,0.8256891944136122,0.8042490474363203,0.8420553167466958,0.7884476817183971,0.8154476089335203,0.8112082763901913,0.812712984328372,0.8211938847168425,0.810226176657761,0.8088243958923388,0.7929239227139306,0.8155392385573672,0.8441961400865772,0.8666909634555184,0.7856487170926949,0.7419880036596103,0.7343750661009222,0.7333861490809722,0.7396681339357067,0.7495183871521938,0.7781482772169535,0.7312038932066184,0.7785443126582825,0.739846797873825,0.7447841027967437,0.7925333639212097,0.8136180235339658,0.7694235594209607,0.7828974893408682,0.8161885524115458,0.7561275547439066,0.7888829293869335,0.8138969328673674,0.7834451963530824,1.0000000000000002,0.476005360418598,0.4668680377314839,0.6417240479050028,0.617989248265769,0.6693729547068579,0.6144514648624584,0.5435018455666988,0.6292201524779056,0.6425899299010913,0.6297036743323903,0.648428976444383,0.6397605046255641,0.5747242837407145,0.5934336807678988,0.5784766570493269,0.59078280357171,0.5221116764772573,0.7488464632948287,0.7368472908832124,0.469674002988707],[0.4748190944113832,0.4634524449768591,0.4264847866705335,0.4270613082285033,0.3953621094708796,0.43207752270878264,0.39558849744105296,0.4856343744401944,0.41898410336396197,0.44295435677088013,0.5055707570800598,0.4915812092074,0.5594908496948691,0.5811285878083171,0.5623202738944012,0.5386649839361138,0.5146263225912928,0.6268220692255797,0.4774365705363495,0.6755914269713318,0.6012401866042637,0.5743140828115278,0.5580063903216739,0.5496927042211311,0.5622158915080906,0.5638592204616741,0.5789660985418628,0.5944924367829263,0.5748115191791823,0.6362166529724111,0.5876767287355315,0.5529645524456899,0.5902909616536325,0.5784108194942426,0.6034103925157868,0.578497891501913,0.5421717239142647,0.5422697235483189,0.5863701943430077,0.5800561284037228,0.580424546808552,0.5616964032436875,0.6186627122523212,0.4980593134229101,0.5451180308389733,0.4933820690845214,0.4996147431109215,0.5514194151419056,0.5739974428466167,0.5628290976917927,0.5443484957086546,0.5780270066338394,0.5894851866856232,0.5402169643991515,0.5271620618098378,0.5560423487970012,0.5131870975506366,0.5551522311424172,0.5521581764327891,0.5532528135043273,0.49790431963807447,0.5087827243336374,0.476005360418598,0.9999999999999998,0.5798831273650262,0.5096312747566756,0.5558384408286257,0.4709844417138606,0.3938410933902727,0.47810641082394634,0.5101000181118748,0.3822079060918115,0.6024444106984763,0.600527376036041,0.44853786293713394,0.49937666751933474,0.3763406952144096,0.46086976236406363,0.3981665027258854,0.2924187412912099,0.42456951061543163,0.4552989966434795,0.45576712427147337],[0.3816830462823711,0.40136387959532216,0.48049804054715217,0.37917053768631515,0.38473059230213746,0.4365311855099734,0.4363081320876405,0.4970337333804822,0.4260039284632161,0.3837979812159394,0.5307614089829135,0.5110284712126754,0.4817656087599868,0.5504283740431758,0.502739269638218,0.5262615216514204,0.47191097449923936,0.6020103947298683,0.4874862130839055,0.6240116308700593,0.5757912486496222,0.5429466366444959,0.5166413621238146,0.5051477065395278,0.5863609432450365,0.5601185579159483,0.559605763411283,0.5457625275628519,0.5054699091102508,0.6008049319427224,0.5591944490287644,0.5338398933608954,0.5775995823643303,0.5271628947350133,0.5200816541991171,0.5049819306155147,0.4759957332416217,0.4975073399602624,0.5237159967114073,0.5312076804445416,0.5308517033445137,0.5356893759370052,0.5988508587907326,0.41641121803045156,0.46874075518728425,0.4765352118766448,0.513913204794208,0.499847513440726,0.5042639090090305,0.49564483954964067,0.5274391203518821,0.5493183420295175,0.5381898049259944,0.4988649599230397,0.4888267960929634,0.5074798641792815,0.4980509354023426,0.5377934246663331,0.49153748325053725,0.5171160411420233,0.5196316953749855,0.4828685390626554,0.4668680377314839,0.5798831273650262,1.0,0.41514373287540135,0.4763178183303236,0.39855629620994637,0.5267026884547175,0.5688250818941936,0.4696375039399298,0.43798923590589667,0.6136475706359681,0.7374226351406784,0.5552042019944512,0.4375736169018583,0.4312410380819266,0.43995489396707876,0.3865516503490089,0.29304206602420224,0.4960649393603034,0.5139442337321873,0.4547529312386734],[0.7811038872997572,0.7284665985270659,0.71722905220159,0.7475823548064724,0.6648995592740984,0.7276628637762637,0.6832851337380371,0.6669337067420608,0.5553655166212499,0.5615973578537641,0.7856126077380593,0.7603509301344449,0.7654754260433281,0.737693466352828,0.8040335744613696,0.722384415116487,0.657964759591762,0.696880298265442,0.6417441117136369,0.7613775563739218,0.8236565049938768,0.807566655710185,0.7788337252102895,0.7387764743933425,0.7802862555571527,0.8149547880750885,0.8137212824271605,0.794768095045653,0.8059571271363608,0.7896525785047248,0.7885747440737538,0.786966332652784,0.7958839601100645,0.8703781512332436,0.8039650782806356,0.7741218943190071,0.8466539042938845,0.7512724294564542,0.7788366851850019,0.789267020904546,0.7258976592968797,0.7967171744878916,0.7856606539555382,0.8382100084100812,0.806920009235452,0.8224964158827275,0.6795528392132877,0.7295218281061444,0.7315973374970128,0.6474401675409408,0.7136799979003217,0.7408696725955884,0.7722766764459226,0.7869846064714929,0.7007004740852962,0.8311293106783475,0.7670405776236031,0.7908427173416654,0.7670293871646559,0.7236169693486114,0.7139687786949441,0.7785252795880063,0.6417240479050028,0.5096312747566756,0.41514373287540135,1.0000000000000013,0.7988868797794362,0.8500720360532533,0.5008570494654232,0.6452462178101114,0.6148958194736288,0.559711607676096,0.6187751715445787,0.5786393530840427,0.5769157780162939,0.5471340647239997,0.5668868247436213,0.5343305123523154,0.498937410531315,0.46921727016674486,0.6278676508560938,0.657991095494995,0.5335714747979445],[0.8152282141435498,0.687379456312485,0.6160558926629816,0.6660670012202062,0.6225936111576661,0.621473720393259,0.6569664939556148,0.7497844145363015,0.6100387804025131,0.600942217768059,0.769574704537922,0.7093672304368596,0.7740011370086438,0.7351320571254881,0.9042108909338986,0.6948577846984083,0.5757907747218254,0.6625791319758441,0.5881643408508733,0.7192968567608078,0.7867601203591177,0.7722796835244348,0.7102052287876915,0.6993555802995773,0.7627016126361721,0.7939219287571386,0.729440367524935,0.7378045004940842,0.7401573746409136,0.7637613443852168,0.7343782745449358,0.7524903186141808,0.7629654664653021,0.8088940235411148,0.7307725082767944,0.6960079345667578,0.7707671130036218,0.7021980042567668,0.7157736428136469,0.7134636457382748,0.6575075565564477,0.7421356006138065,0.7655129007970203,0.7540731985324293,0.7528524155806811,0.8069203784893987,0.6986096138671211,0.7024201980416618,0.7056780107458498,0.636280245637342,0.7221713390732196,0.7002302772929372,0.7384752639272053,0.773820585178971,0.7190982843847784,0.8026982292716768,0.7460855705587068,0.775140693827477,0.7493491516194084,0.6663604604768043,0.651370359270886,0.6850547610019507,0.617989248265769,0.5558384408286257,0.4763178183303236,0.7988868797794362,1.0000000000000007,0.794792981151582,0.5060947922144023,0.6418266728605158,0.5374604313045206,0.521412281996202,0.5526343294026335,0.5998433112417596,0.5863013262141921,0.4740958053911198,0.512829842873562,0.5055424253419555,0.4543488862957283,0.3965470306020089,0.6292681349149867,0.6283564427007546,0.4909670046969767],[0.8856374519694249,0.8117132111756604,0.5702158738201211,0.5736792939898631,0.5410222234754897,0.6345145911032741,0.6417014815396123,0.6556134597110905,0.5730551716766167,0.5823509611257147,0.7462435676393773,0.7105413545861732,0.7317921157367544,0.6946957774741709,0.7696070354833904,0.6639084811640021,0.6430113433313938,0.6690614393293046,0.6348887150998004,0.7004200914853177,0.7872244966965598,0.7996788285448383,0.7851815052011776,0.7400928303113056,0.730197114390066,0.7936905737762944,0.7582336325581127,0.8049581326943154,0.8160280403617208,0.7685186047261979,0.7648091603366391,0.7765842949816193,0.7779657493124493,0.8786375420485755,0.799637884205044,0.7755889453037179,0.917904583099064,0.7569288174753575,0.7518207201851097,0.7312315287879172,0.7286174073222024,0.8043052445286605,0.7643460564756056,0.917456101480391,0.8645005844083519,0.919174778046323,0.728006145187583,0.7482959973042071,0.7422616012763319,0.6620022782756998,0.7300352975579508,0.7256320065829627,0.7840142970115134,0.7864655660496314,0.6956802932071677,0.8158500551048572,0.7657662171985327,0.744622019125453,0.812938611686822,0.7024443522117196,0.6958765419892907,0.7397342469531686,0.6693729547068579,0.4709844417138606,0.39855629620994637,0.8500720360532533,0.794792981151582,1.0000000000000007,0.47219127455671284,0.5640620130728686,0.5170381689805738,0.5447504682044816,0.5608138111625501,0.5689460270075013,0.5604784493093927,0.4949105343611871,0.4841922530889674,0.5202724923546453,0.49033247985519585,0.41490626695857236,0.5959669714044139,0.644754503737773,0.41123671352923463],[0.5022600859124899,0.41737253751640085,0.5126746957361933,0.4896057976098217,0.5067944241825812,0.5010677996820708,0.5436140328173619,0.484227704792231,0.523139615464334,0.5234713969833459,0.53386456245453,0.6215092302328354,0.5646563906679811,0.6245361618582959,0.5592246367936935,0.6633066137947702,0.6229357240860471,0.6371530117595556,0.5667223163874787,0.6034063415923862,0.6631626661010126,0.6369659098430012,0.6245019298611422,0.618509251608966,0.6603923735698818,0.6611096681745819,0.711156733875602,0.6113608093750613,0.6083222433473043,0.6811200421287056,0.6503876854366839,0.6376609867782108,0.6239648468851995,0.6186651983929851,0.6165123421278658,0.6092797922828506,0.6014717751958363,0.6169391669263867,0.6486454695826425,0.7094206099758866,0.6184474048914381,0.6427299966880703,0.6656080952108652,0.5303278026987993,0.5546846899392917,0.567280126218141,0.5392512617192815,0.600127972248004,0.6158280306950903,0.5776854386788383,0.5909371464987598,0.5925004362202335,0.6531936965834114,0.6098541929882835,0.6186526022216174,0.6074839655949786,0.6297333879327747,0.6341859054412191,0.5812813162706169,0.6437282181188091,0.6183048957413375,0.6025313531121549,0.6144514648624584,0.3938410933902727,0.5267026884547175,0.5008570494654232,0.5060947922144023,0.47219127455671284,1.0,0.5657208383668664,0.4776821251943239,0.6294166451265882,0.5690094956539716,0.5891584603357827,0.5474301054275607,0.4812727942226559,0.4775313497748981,0.5296370995760664,0.47952795346116106,0.4816591273172716,0.5979016134472638,0.5970822578205137,0.4417076476574992],[0.5828163994414985,0.569535107442716,0.6153227502785205,0.5899083099726475,0.5624178565909628,0.516677097747696,0.5986927534517033,0.5659659445561598,0.4682753475374788,0.529617365055324,0.6546149431267725,0.6785166876287672,0.6332539945412526,0.6580676282259018,0.6716280327996558,0.6748516912297731,0.5817388057002219,0.6270696130839881,0.6706634388018085,0.6789117566963816,0.6700265230592426,0.63368969271968,0.6143766924432318,0.5967708879954646,0.6801297809671432,0.6576919036376712,0.6530234757970655,0.6288506851724309,0.6248634759252135,0.697013091354671,0.6669510392453898,0.6519377150306773,0.664708840098498,0.6438023328182445,0.6285283509023174,0.6269726045498705,0.6192462506223692,0.6374798997766604,0.6587846551625833,0.6211672102865684,0.5930535552638087,0.6370334398577482,0.7077395024217656,0.5741025069735293,0.5914426035225551,0.6278567081458012,0.5406281975997499,0.6102300815287256,0.6543653253187729,0.6102726931382352,0.581749054718218,0.6223938116253563,0.6348288104037005,0.6217563241667732,0.6542207934680623,0.6229087304230517,0.6106497671654078,0.6651953196840739,0.605464472298775,0.6495329045636271,0.5882272903492636,0.6500944788551453,0.5435018455666988,0.47810641082394634,0.5688250818941936,0.6452462178101114,0.6418266728605158,0.5640620130728686,0.5657208383668664,0.9999999999999984,0.5136162418729936,0.5428409590430042,0.599676121837059,0.6584631525577802,0.5692474105393536,0.44475777060710725,0.5153375322365208,0.5718745306308131,0.5620215477206048,0.45163870810983875,0.57910759258399,0.6122798317146949,0.6598590972735914],[0.42768150222875345,0.44383774879038873,0.5606581466750129,0.5036436548713128,0.5449253465408004,0.5988515490595184,0.6088591384010658,0.520950247806766,0.5183858607525305,0.47498236077556943,0.5985157872210367,0.6236873050884626,0.6233083411804305,0.6920084315189383,0.6319233040152297,0.671180532442702,0.6316603343176803,0.6274816185649653,0.6125815577595467,0.6496829322656715,0.7180556107638,0.6789748132827385,0.7018527654251219,0.6684464226768456,0.6689245531604815,0.6817159853568214,0.7224907880194409,0.7131359269113032,0.6635208937747362,0.6924603392705588,0.6916339810311751,0.6942649434119159,0.652910756496924,0.6760482902951837,0.6846957381628709,0.6783279384662644,0.6552346448598254,0.6535889554193697,0.6635761278651703,0.7007932180287691,0.7054328962111476,0.67436651104582,0.6734255403202476,0.5716690448465209,0.5880418737394748,0.553641353596894,0.5482339060844981,0.5946103505568516,0.6246166877039034,0.5567003618671462,0.5765726629861643,0.6468182353614278,0.6047175667952435,0.650781019624295,0.6210083826208309,0.623489512253232,0.6124363273775151,0.6493337292081314,0.6359200604638111,0.7204421216240808,0.6803305927408857,0.6866508184926625,0.6292201524779056,0.5101000181118748,0.4696375039399298,0.6148958194736288,0.5374604313045206,0.5170381689805738,0.4776821251943239,0.5136162418729936,0.9999999999999998,0.626567774093928,0.674801801364826,0.5903164866641816,0.5306022526342031,0.49124795719877995,0.5135425236222135,0.5964388525237382,0.4800673183976373,0.5227103852390261,0.5680997391837016,0.6256105016077144,0.6416749889928026],[0.5054275737194015,0.45639463535087266,0.5304453816306899,0.46918984314500456,0.5074073636257519,0.5209762460428116,0.5834496173231997,0.4973927432530361,0.5014684299029049,0.48237425103643805,0.5650096583072067,0.6286758877628815,0.5985792496793759,0.6351727538968652,0.5979573899389394,0.7196740988107374,0.7277580052820536,0.6621657055852627,0.6587779490734877,0.6262744600518942,0.6915229579983427,0.6680639448348364,0.6862456562655085,0.7071282405034615,0.6682329241806221,0.6813680224001404,0.6993228410668046,0.7180462600830485,0.6503767998546206,0.7196746024174473,0.6744303009771818,0.7339856160781639,0.697847971874294,0.6807866297200907,0.6667597266913794,0.658608536042895,0.6816929780269699,0.676605760871377,0.684067530089355,0.6647440069160636,0.6837604577534252,0.6608812602607658,0.6861211577760645,0.5972937922623341,0.5918600282090811,0.6176832832674406,0.5907098093103845,0.6007286467964806,0.6420410515054513,0.6148259086293415,0.6405460388831284,0.6167406338792971,0.6408885459611647,0.6574570252035443,0.5997019089567985,0.6375993665923096,0.6596548494528787,0.659445915355528,0.6552981698161366,0.7982292219086862,0.6841720459337505,0.6367783248454135,0.6425899299010913,0.3822079060918115,0.43798923590589667,0.559711607676096,0.521412281996202,0.5447504682044816,0.6294166451265882,0.5428409590430042,0.626567774093928,0.9999999999999996,0.6440322323849803,0.6024198395375242,0.5329090576690605,0.5005785999617587,0.4619860888378662,0.6615825646568861,0.48233676729595004,0.6930135296382358,0.5862222423315365,0.5945983363724294,0.4591292893022282],[0.5016242932318077,0.46163382932903774,0.5498911021393825,0.5282107338881734,0.5524890075579096,0.5888648649660675,0.5699728152524035,0.5143358972816499,0.5155258425762599,0.5087011238957031,0.6030603019419318,0.6517238999400335,0.6328924866393535,0.7133644787621248,0.6071112677824391,0.7017515178144758,0.7336956868548092,0.7557583491991592,0.6289065854294962,0.7827978880206807,0.7348707956290738,0.6889264443612636,0.700172889663556,0.6791022047736518,0.6987031564064881,0.6912968765343978,0.687890815218683,0.7411159340467262,0.6819398199699673,0.7653742158230489,0.7426922677328013,0.7076632034271825,0.7233934269502169,0.7069566341732232,0.6841194183267711,0.6754417464969664,0.6760555085498585,0.6737513483246239,0.737899840133132,0.6661406088081175,0.7103462065318815,0.6674443173779847,0.7308297177326463,0.6115947262433186,0.6297443203934958,0.6336074060751825,0.5701516813233115,0.6312928207108669,0.6622691274293068,0.5960648328775211,0.6232622137636709,0.6613850624436747,0.6648706732034745,0.6451461646183904,0.6022348640895552,0.6483535671958855,0.6642745224657122,0.6596036283962696,0.6855436677187269,0.7028350950395845,0.6644897306555874,0.6787115684083076,0.6297036743323903,0.6024444106984763,0.6136475706359681,0.6187751715445787,0.5526343294026335,0.5608138111625501,0.5690094956539716,0.599676121837059,0.674801801364826,0.6440322323849803,0.9999999999999992,0.6927684165939948,0.5791749636903032,0.6417002400792852,0.5125897086323958,0.5292788888166869,0.47482229515135155,0.45262237521256243,0.5444238144585246,0.6134246178884464,0.5255247093945705],[0.523670529910971,0.48571836043573036,0.5342880272006505,0.5534483672288335,0.4891956092465425,0.5606926139989221,0.5935506070586135,0.5558435218579499,0.5252180230206593,0.5160143434576461,0.6719482512702741,0.6761882885957968,0.6398464342903591,0.6893880757206512,0.682252074717172,0.7041356529553345,0.6308074712535764,0.6956124307937901,0.675466037421883,0.7463591990320803,0.7448016072521668,0.7197714885322736,0.7132881256385132,0.6981957397810127,0.722051264667785,0.7245486405980134,0.7129078367937989,0.732210228920467,0.6829224148597478,0.7601411052046729,0.7359177324598094,0.7317609566746937,0.7280624403604609,0.6983165440141078,0.7080989480671575,0.6858319019899672,0.6651534563796747,0.6927403560909535,0.7118649333034645,0.6910252976339137,0.7198777605781704,0.7000215259730076,0.7385625068046657,0.5824126649467192,0.6525472480294798,0.6532612444100803,0.6437072772701751,0.6749286212337519,0.6966700747364976,0.682526003028433,0.6802021878151641,0.7272110190498453,0.7020809736528701,0.6769506984293219,0.6778835666637841,0.6669743866563042,0.681387080602165,0.6893176343214772,0.6676296762254127,0.6872476051917416,0.7004835290450258,0.6723928708333511,0.648428976444383,0.600527376036041,0.7374226351406784,0.5786393530840427,0.5998433112417596,0.5689460270075013,0.5891584603357827,0.6584631525577802,0.5903164866641816,0.6024198395375242,0.6927684165939948,1.0,0.6682390395032599,0.516382977488411,0.5009027566905782,0.5212996590255548,0.47092818617585863,0.41946550272137817,0.6162886206898333,0.6586676385842021,0.5088664806402834],[0.5564912507260737,0.4243921628159171,0.546162194264807,0.49799788004944234,0.554916861018333,0.507554451269596,0.6549253117599687,0.6101006742909142,0.47907108694000416,0.5219939072022239,0.6298758575983102,0.6927021903261139,0.6916568816121784,0.7510719809140756,0.6599162273351129,0.7121775119411902,0.6331559238708762,0.6890245141738803,0.6537883630169664,0.6524754518180548,0.7242711845640518,0.68454516361211,0.6830648811746574,0.6869109766449475,0.7203941240457372,0.6940086612780573,0.7223672786955245,0.6732813442632091,0.6539497011304041,0.7150228740030992,0.6931092534884129,0.6922505774852206,0.6791172023813961,0.6669839508630608,0.6744697020700853,0.6548822055150105,0.6605567640719943,0.6769480984444428,0.6903230296431919,0.6758454515187536,0.6662521474548412,0.6755905905193365,0.7370360353958328,0.5735556153264679,0.5782166047755318,0.6356177306797007,0.6289298674954398,0.6536275308212445,0.6591614699896317,0.655083353248706,0.6534237933745486,0.6255313037902479,0.7168774384194614,0.6500390127887872,0.6626325272387782,0.696888882921108,0.6508048040828098,0.6753035747405118,0.6078419827984112,0.6797941056789286,0.6700130663110819,0.6230889283399572,0.6397605046255641,0.44853786293713394,0.5552042019944512,0.5769157780162939,0.5863013262141921,0.5604784493093927,0.5474301054275607,0.5692474105393536,0.5306022526342031,0.5329090576690605,0.5791749636903032,0.6682390395032599,1.000000000000001,0.5543398765761485,0.5989083718933814,0.48321807772304326,0.5245561542083611,0.3946368849584159,0.611223117065284,0.622647571430949,0.4301482113303035],[0.42883083676048217,0.4186605818110509,0.4788898570732069,0.4411605207255076,0.5013927988072471,0.5380047771766141,0.6303900149131306,0.5060605615318157,0.504147387592045,0.42928730198407383,0.5479940617288024,0.5915258786334027,0.5646730159362328,0.6474818607023951,0.5850862380936193,0.6338724044273476,0.6978914249074026,0.6616672945262017,0.5784421893527594,0.6428743529395651,0.6734404723056782,0.6834042707322175,0.6245123793311294,0.5994167362455101,0.7217338245647843,0.6224789545562609,0.6386831938210632,0.6177054719573518,0.5889310308275484,0.7159780062118277,0.6468651273892287,0.6074199185797918,0.6417286634299156,0.6345278754232128,0.6264383245069612,0.5791920793888174,0.6180385826552295,0.5809135288142879,0.6341527089654637,0.6055231578744358,0.6400705557262683,0.6106700508141485,0.679601504919642,0.5668796968022478,0.535981730927786,0.5544787144464295,0.4988517002938421,0.5672600528409126,0.5478459811057037,0.5234899297629692,0.5946073815734144,0.5274936696477066,0.6377056629560864,0.5594575233472066,0.5806385832456075,0.6246062355822052,0.5910377842684591,0.6215544947339459,0.6034010717321044,0.5845044442164244,0.5791564700631384,0.6006286798484253,0.5747242837407145,0.49937666751933474,0.4375736169018583,0.5471340647239997,0.4740958053911198,0.4949105343611871,0.4812727942226559,0.44475777060710725,0.49124795719877995,0.5005785999617587,0.6417002400792852,0.516382977488411,0.5543398765761485,1.0000000000000007,0.3590623951277634,0.44778492832455186,0.4927504018910677,0.3376394109784089,0.5366331160990805,0.5868491765014999,0.38643249867888685],[0.4386298218620971,0.42018327957272217,0.570065146212585,0.4994593844256176,0.5397874705300827,0.5480624566247552,0.5786442079939098,0.5067020034096087,0.4333658007497593,0.45318586496092594,0.5684104202359206,0.6002604744615637,0.6853003329144222,0.6399302384576918,0.5537942283181546,0.6141185103882146,0.556029631282398,0.5438741579701205,0.5821651517539875,0.5702826958645315,0.653725907527877,0.5985027296663942,0.5989550921905831,0.6332011997611634,0.615295920195825,0.6129517475075095,0.6904822403460109,0.5872453697348732,0.6136006680946865,0.5960896878291396,0.6299313846327927,0.5914903577571852,0.6160811113848544,0.6122796720466013,0.5881980305277636,0.6488118030284735,0.5785699651661018,0.6257903953949316,0.6348527659622116,0.7098992199181489,0.6254078587971538,0.6287533281707506,0.5966073587893946,0.5167679553945612,0.5584002543569295,0.5610269351339605,0.5828443719862725,0.6049924953186232,0.6162340021426049,0.602327082604101,0.6102772432551019,0.6139128456033747,0.5931946979320201,0.5707007101861397,0.5593782676501796,0.6222714717804403,0.5973383324094035,0.6062703058142818,0.5431170205621205,0.5953654431986797,0.5970431968572694,0.6125660142133523,0.5934336807678988,0.3763406952144096,0.4312410380819266,0.5668868247436213,0.512829842873562,0.4841922530889674,0.4775313497748981,0.5153375322365208,0.5135425236222135,0.4619860888378662,0.5125897086323958,0.5009027566905782,0.5989083718933814,0.3590623951277634,0.999999999999999,0.505133363911441,0.5807567029211367,0.3662533687386467,0.5948008039524557,0.6343219655970121,0.4830282654164509],[0.505457326727041,0.47232624550883934,0.4851890615304232,0.45946936662355764,0.4241223975562463,0.4960441058384505,0.5749084818888213,0.5039189091513797,0.472014976644637,0.44231984880602726,0.5562056396280199,0.5889989009649044,0.5552725432259061,0.6430339476878801,0.5833020346444284,0.6407902963415479,0.6765449059085651,0.5954143237353465,0.6513923605133456,0.5555350288753753,0.6465065523229674,0.6284364243301221,0.6344754380897824,0.6243284677049784,0.6325992647123039,0.632237844313074,0.6418115454368845,0.6809319822672746,0.6254445057240979,0.6792218894632085,0.6032503682296254,0.6584049501916418,0.6434430148148572,0.6331945912167536,0.6629902827383202,0.7012235844258776,0.6332674317770817,0.6356200051502097,0.6580117615909817,0.630897470208465,0.61158667876471,0.6309744939742788,0.6827217438052604,0.550167630065925,0.5670992619616114,0.5594021855671738,0.5417901902623659,0.5411905550840982,0.5812182678547158,0.5681860120187473,0.5808888661001439,0.6111106823594669,0.5758652243760268,0.6304423209069424,0.5815101972043689,0.5699910171315684,0.5987260715443686,0.627617332688106,0.6234183692373876,0.7082149445990985,0.6126055057206543,0.645384694394626,0.5784766570493269,0.46086976236406363,0.43995489396707876,0.5343305123523154,0.5055424253419555,0.5202724923546453,0.5296370995760664,0.5718745306308131,0.5964388525237382,0.6615825646568861,0.5292788888166869,0.5212996590255548,0.48321807772304326,0.44778492832455186,0.505133363911441,1.0000000000000004,0.7094087024358378,0.4848548886173554,0.5812242076911006,0.5936139412356981,0.5478512771015656],[0.43760172480623394,0.4621327667669054,0.43842372673922,0.43226751396846785,0.4224934040106637,0.4655711914489954,0.5993300392809979,0.5723190298168825,0.44079878444094805,0.44158562530015916,0.5314546398628938,0.5448217599008595,0.5647520718736592,0.5881687955129553,0.5674246861599425,0.5809658720457023,0.6256958447153204,0.5574842300624274,0.6922104776883924,0.5181077859995309,0.6024785247634166,0.5570085870328514,0.5844866837675352,0.5929530374979258,0.6219371051235421,0.5688829507881286,0.6357847856502119,0.5723375447298095,0.5466406519303441,0.6222518852667505,0.5705538341258132,0.5940135392436842,0.6201045360510283,0.596391191321097,0.5470858688917408,0.7209166097990817,0.5961817113870146,0.5826047972899391,0.6156871455219521,0.617502651328405,0.5797776218825237,0.5961373263229929,0.6275424057128121,0.5330978403059066,0.536537088324653,0.5483312545103486,0.515396644955453,0.5106460730038267,0.5487483437272145,0.5405788053762994,0.6069902252567931,0.5710396748804912,0.5539046472950863,0.5582659558717896,0.572634852656732,0.5448156836349992,0.5387456038957296,0.5920629022472799,0.5828157474872334,0.6372047549626321,0.5596887886189742,0.601161558836203,0.59078280357171,0.3981665027258854,0.3865516503490089,0.498937410531315,0.4543488862957283,0.49033247985519585,0.47952795346116106,0.5620215477206048,0.4800673183976373,0.48233676729595004,0.47482229515135155,0.47092818617585863,0.5245561542083611,0.4927504018910677,0.5807567029211367,0.7094087024358378,1.0,0.4323434054166223,0.534723245784411,0.580772956090843,0.4080113688893756],[0.39900409554037825,0.37632448942426644,0.48901699680231775,0.397699595281597,0.4404431759156915,0.40480527770476593,0.4679900422921993,0.45070640353595737,0.2852332467810664,0.40768312404436097,0.4236395605068415,0.4931845444869774,0.4592291177758645,0.5023920951937436,0.46725921445263463,0.523087442077284,0.5685725945921447,0.4646477641030705,0.5162288676348223,0.46413213843195333,0.5336124790939328,0.509245938704607,0.4992720371080416,0.538950038426598,0.5039746628584348,0.5296057814042728,0.5434352925025518,0.5123479419913376,0.5064202324907252,0.5201024678505262,0.5228159400774365,0.5599598053732837,0.5359951525209539,0.5157023740856772,0.5083084177628348,0.516513662669982,0.5089162962033271,0.524247744685992,0.5428795684408616,0.5114612893728572,0.5128321074241077,0.5188911260036414,0.5111728492776112,0.459107868898903,0.4540389607274757,0.47747616047097907,0.4629716083864998,0.4797838013162359,0.520617723831545,0.49503230933323367,0.5043111921352046,0.47334181404847553,0.5063219834933258,0.501141755828819,0.4583250714157566,0.49176834036784856,0.5048698828799325,0.5223171839884722,0.4740739270812314,0.7726420649098654,0.5190938971820597,0.5079005983966657,0.5221116764772573,0.2924187412912099,0.29304206602420224,0.46921727016674486,0.3965470306020089,0.41490626695857236,0.4816591273172716,0.45163870810983875,0.5227103852390261,0.6930135296382358,0.45262237521256243,0.41946550272137817,0.3946368849584159,0.3376394109784089,0.3662533687386467,0.4848548886173554,0.4323434054166223,1.0,0.41965953419181967,0.43937152267319685,0.33152740062466207],[0.536998750573625,0.51555592794868,0.5665694043935805,0.5255858886351303,0.5781154073185257,0.6554454886700233,0.6248452685918323,0.5831737025802387,0.5584161620152208,0.5486087345798409,0.6988997360365153,0.7092257192068943,0.7711123765296868,0.6801827741256911,0.6983896127535414,0.7212909851167489,0.6579560031976399,0.6804934237656786,0.7028267663040715,0.6858208330128637,0.792713186300829,0.7447046618416024,0.7860486374755957,0.7963485630090392,0.7759617037669204,0.7581530031910149,0.7942241334461171,0.7630326786054338,0.7403527860994039,0.751379419489705,0.7644705673208185,0.7653427582025072,0.7639441021234459,0.7532458401914803,0.7316600394499345,0.7572601802011207,0.7283166541809252,0.7564745171141742,0.7564192203127775,0.7961974416324215,0.7699670930140925,0.7685552803417888,0.7455670505626271,0.6570862390913922,0.66141157487331,0.6718450832650343,0.6949122967343202,0.6843341283869835,0.7091242948976183,0.6843208068627789,0.7327075587730323,0.7089154998904372,0.7207834613236683,0.7302914349841912,0.7600530038931917,0.7536503885195605,0.7300397792304029,0.7334798975848673,0.6937151836733966,0.6991357305977323,0.7702211116248081,0.7694238041078967,0.7488464632948287,0.42456951061543163,0.4960649393603034,0.6278676508560938,0.6292681349149867,0.5959669714044139,0.5979016134472638,0.57910759258399,0.5680997391837016,0.5862222423315365,0.5444238144585246,0.6162886206898333,0.611223117065284,0.5366331160990805,0.5948008039524557,0.5812242076911006,0.534723245784411,0.41965953419181967,0.9999999999999997,0.8752117339272837,0.5537742334025537],[0.5371620826124239,0.5521252786670726,0.5465587227536519,0.4775280802436607,0.5800329867931232,0.7397930343788952,0.7158153444644115,0.6335063324105579,0.591538816732816,0.5629791989625739,0.7438560329470736,0.767984022926832,0.7661234692085251,0.7085356659108706,0.7157427817166684,0.7777885838481186,0.6579707512800833,0.6946323557187493,0.6927143650073828,0.7308149110159243,0.8034362050241679,0.760627419667238,0.8137733866222338,0.808795006824583,0.7860950663841452,0.780410599735022,0.8090774094346196,0.7892084550414651,0.7731148969019463,0.7672692894603929,0.7856687547403282,0.7830012354490035,0.7947246599227402,0.7608048335330619,0.7748839563598526,0.7851297837831988,0.7567390857118088,0.7858748823748858,0.8014539731140728,0.8005868438608617,0.8014914793418788,0.7904214038751528,0.7517076798242637,0.6706441249030475,0.7066119744073791,0.6958433526686407,0.696465690779719,0.7361165575470807,0.7542557407102776,0.7107510552727863,0.7203746771732334,0.7636949638538075,0.7213145525681228,0.77100221425359,0.7297435390350329,0.7806351939274396,0.7417517464633212,0.7543509505672981,0.7288913002038893,0.727251414864351,0.7919320778415535,0.8366440063116097,0.7368472908832124,0.4552989966434795,0.5139442337321873,0.657991095494995,0.6283564427007546,0.644754503737773,0.5970822578205137,0.6122798317146949,0.6256105016077144,0.5945983363724294,0.6134246178884464,0.6586676385842021,0.622647571430949,0.5868491765014999,0.6343219655970121,0.5936139412356981,0.580772956090843,0.43937152267319685,0.8752117339272837,1.0000000000000004,0.536802653739869],[0.3819223214786315,0.41277588094833106,0.489169562136704,0.5127648061450722,0.48706567623746577,0.4598635485531749,0.5493898415144143,0.47541158456453464,0.4106098051285664,0.42613354509060075,0.5602155628836322,0.5264433204804833,0.5146243684296533,0.5360054390292592,0.5267305707803233,0.5551628336334056,0.4772936897391499,0.5061377747159328,0.48610799444362457,0.5361258391321401,0.5603899958383178,0.5013901059198661,0.538738462889041,0.5106379358327907,0.5463353105868792,0.5320079650265206,0.5711127987072632,0.5249862180965129,0.4944984133641056,0.5439858298627491,0.5094335161437094,0.5366085481110199,0.5107443890572582,0.5256182152209122,0.5191834341915612,0.5200345985560008,0.4944116418971879,0.4967922561639946,0.5184995254234807,0.5469339886117295,0.5072570827129429,0.5141825837246898,0.5425771989559486,0.4388237360353159,0.4377084582797899,0.4383276692294613,0.42407458457669284,0.4506095845948167,0.4807334277709239,0.4577039161223941,0.45061328288942504,0.5066479871619852,0.4728478748157322,0.5209933094139166,0.5007222314135829,0.4999946782753417,0.47317158356872135,0.5372385703335602,0.48489823221960304,0.5029232621229496,0.5142203300648454,0.5625367005573045,0.469674002988707,0.45576712427147337,0.4547529312386734,0.5335714747979445,0.4909670046969767,0.41123671352923463,0.4417076476574992,0.6598590972735914,0.6416749889928026,0.4591292893022282,0.5255247093945705,0.5088664806402834,0.4301482113303035,0.38643249867888685,0.4830282654164509,0.5478512771015656,0.4080113688893756,0.33152740062466207,0.5537742334025537,0.536802653739869,1.0000000000000009]],\"type\":\"heatmap\",\"xaxis\":\"x\",\"yaxis\":\"y\",\"hovertemplate\":\"x: %{x}<br>y: %{y}<br>Similarity Score: %{z}<extra></extra>\"}],                        {\"template\":{\"data\":{\"bar\":[{\"error_x\":{\"color\":\"#2a3f5f\"},\"error_y\":{\"color\":\"#2a3f5f\"},\"marker\":{\"line\":{\"color\":\"#E5ECF6\",\"width\":0.5},\"pattern\":{\"fillmode\":\"overlay\",\"size\":10,\"solidity\":0.2}},\"type\":\"bar\"}],\"barpolar\":[{\"marker\":{\"line\":{\"color\":\"#E5ECF6\",\"width\":0.5},\"pattern\":{\"fillmode\":\"overlay\",\"size\":10,\"solidity\":0.2}},\"type\":\"barpolar\"}],\"carpet\":[{\"aaxis\":{\"endlinecolor\":\"#2a3f5f\",\"gridcolor\":\"white\",\"linecolor\":\"white\",\"minorgridcolor\":\"white\",\"startlinecolor\":\"#2a3f5f\"},\"baxis\":{\"endlinecolor\":\"#2a3f5f\",\"gridcolor\":\"white\",\"linecolor\":\"white\",\"minorgridcolor\":\"white\",\"startlinecolor\":\"#2a3f5f\"},\"type\":\"carpet\"}],\"choropleth\":[{\"colorbar\":{\"outlinewidth\":0,\"ticks\":\"\"},\"type\":\"choropleth\"}],\"contour\":[{\"colorbar\":{\"outlinewidth\":0,\"ticks\":\"\"},\"colorscale\":[[0.0,\"#0d0887\"],[0.1111111111111111,\"#46039f\"],[0.2222222222222222,\"#7201a8\"],[0.3333333333333333,\"#9c179e\"],[0.4444444444444444,\"#bd3786\"],[0.5555555555555556,\"#d8576b\"],[0.6666666666666666,\"#ed7953\"],[0.7777777777777778,\"#fb9f3a\"],[0.8888888888888888,\"#fdca26\"],[1.0,\"#f0f921\"]],\"type\":\"contour\"}],\"contourcarpet\":[{\"colorbar\":{\"outlinewidth\":0,\"ticks\":\"\"},\"type\":\"contourcarpet\"}],\"heatmap\":[{\"colorbar\":{\"outlinewidth\":0,\"ticks\":\"\"},\"colorscale\":[[0.0,\"#0d0887\"],[0.1111111111111111,\"#46039f\"],[0.2222222222222222,\"#7201a8\"],[0.3333333333333333,\"#9c179e\"],[0.4444444444444444,\"#bd3786\"],[0.5555555555555556,\"#d8576b\"],[0.6666666666666666,\"#ed7953\"],[0.7777777777777778,\"#fb9f3a\"],[0.8888888888888888,\"#fdca26\"],[1.0,\"#f0f921\"]],\"type\":\"heatmap\"}],\"heatmapgl\":[{\"colorbar\":{\"outlinewidth\":0,\"ticks\":\"\"},\"colorscale\":[[0.0,\"#0d0887\"],[0.1111111111111111,\"#46039f\"],[0.2222222222222222,\"#7201a8\"],[0.3333333333333333,\"#9c179e\"],[0.4444444444444444,\"#bd3786\"],[0.5555555555555556,\"#d8576b\"],[0.6666666666666666,\"#ed7953\"],[0.7777777777777778,\"#fb9f3a\"],[0.8888888888888888,\"#fdca26\"],[1.0,\"#f0f921\"]],\"type\":\"heatmapgl\"}],\"histogram\":[{\"marker\":{\"pattern\":{\"fillmode\":\"overlay\",\"size\":10,\"solidity\":0.2}},\"type\":\"histogram\"}],\"histogram2d\":[{\"colorbar\":{\"outlinewidth\":0,\"ticks\":\"\"},\"colorscale\":[[0.0,\"#0d0887\"],[0.1111111111111111,\"#46039f\"],[0.2222222222222222,\"#7201a8\"],[0.3333333333333333,\"#9c179e\"],[0.4444444444444444,\"#bd3786\"],[0.5555555555555556,\"#d8576b\"],[0.6666666666666666,\"#ed7953\"],[0.7777777777777778,\"#fb9f3a\"],[0.8888888888888888,\"#fdca26\"],[1.0,\"#f0f921\"]],\"type\":\"histogram2d\"}],\"histogram2dcontour\":[{\"colorbar\":{\"outlinewidth\":0,\"ticks\":\"\"},\"colorscale\":[[0.0,\"#0d0887\"],[0.1111111111111111,\"#46039f\"],[0.2222222222222222,\"#7201a8\"],[0.3333333333333333,\"#9c179e\"],[0.4444444444444444,\"#bd3786\"],[0.5555555555555556,\"#d8576b\"],[0.6666666666666666,\"#ed7953\"],[0.7777777777777778,\"#fb9f3a\"],[0.8888888888888888,\"#fdca26\"],[1.0,\"#f0f921\"]],\"type\":\"histogram2dcontour\"}],\"mesh3d\":[{\"colorbar\":{\"outlinewidth\":0,\"ticks\":\"\"},\"type\":\"mesh3d\"}],\"parcoords\":[{\"line\":{\"colorbar\":{\"outlinewidth\":0,\"ticks\":\"\"}},\"type\":\"parcoords\"}],\"pie\":[{\"automargin\":true,\"type\":\"pie\"}],\"scatter\":[{\"marker\":{\"colorbar\":{\"outlinewidth\":0,\"ticks\":\"\"}},\"type\":\"scatter\"}],\"scatter3d\":[{\"line\":{\"colorbar\":{\"outlinewidth\":0,\"ticks\":\"\"}},\"marker\":{\"colorbar\":{\"outlinewidth\":0,\"ticks\":\"\"}},\"type\":\"scatter3d\"}],\"scattercarpet\":[{\"marker\":{\"colorbar\":{\"outlinewidth\":0,\"ticks\":\"\"}},\"type\":\"scattercarpet\"}],\"scattergeo\":[{\"marker\":{\"colorbar\":{\"outlinewidth\":0,\"ticks\":\"\"}},\"type\":\"scattergeo\"}],\"scattergl\":[{\"marker\":{\"colorbar\":{\"outlinewidth\":0,\"ticks\":\"\"}},\"type\":\"scattergl\"}],\"scattermapbox\":[{\"marker\":{\"colorbar\":{\"outlinewidth\":0,\"ticks\":\"\"}},\"type\":\"scattermapbox\"}],\"scatterpolar\":[{\"marker\":{\"colorbar\":{\"outlinewidth\":0,\"ticks\":\"\"}},\"type\":\"scatterpolar\"}],\"scatterpolargl\":[{\"marker\":{\"colorbar\":{\"outlinewidth\":0,\"ticks\":\"\"}},\"type\":\"scatterpolargl\"}],\"scatterternary\":[{\"marker\":{\"colorbar\":{\"outlinewidth\":0,\"ticks\":\"\"}},\"type\":\"scatterternary\"}],\"surface\":[{\"colorbar\":{\"outlinewidth\":0,\"ticks\":\"\"},\"colorscale\":[[0.0,\"#0d0887\"],[0.1111111111111111,\"#46039f\"],[0.2222222222222222,\"#7201a8\"],[0.3333333333333333,\"#9c179e\"],[0.4444444444444444,\"#bd3786\"],[0.5555555555555556,\"#d8576b\"],[0.6666666666666666,\"#ed7953\"],[0.7777777777777778,\"#fb9f3a\"],[0.8888888888888888,\"#fdca26\"],[1.0,\"#f0f921\"]],\"type\":\"surface\"}],\"table\":[{\"cells\":{\"fill\":{\"color\":\"#EBF0F8\"},\"line\":{\"color\":\"white\"}},\"header\":{\"fill\":{\"color\":\"#C8D4E3\"},\"line\":{\"color\":\"white\"}},\"type\":\"table\"}]},\"layout\":{\"annotationdefaults\":{\"arrowcolor\":\"#2a3f5f\",\"arrowhead\":0,\"arrowwidth\":1},\"autotypenumbers\":\"strict\",\"coloraxis\":{\"colorbar\":{\"outlinewidth\":0,\"ticks\":\"\"}},\"colorscale\":{\"diverging\":[[0,\"#8e0152\"],[0.1,\"#c51b7d\"],[0.2,\"#de77ae\"],[0.3,\"#f1b6da\"],[0.4,\"#fde0ef\"],[0.5,\"#f7f7f7\"],[0.6,\"#e6f5d0\"],[0.7,\"#b8e186\"],[0.8,\"#7fbc41\"],[0.9,\"#4d9221\"],[1,\"#276419\"]],\"sequential\":[[0.0,\"#0d0887\"],[0.1111111111111111,\"#46039f\"],[0.2222222222222222,\"#7201a8\"],[0.3333333333333333,\"#9c179e\"],[0.4444444444444444,\"#bd3786\"],[0.5555555555555556,\"#d8576b\"],[0.6666666666666666,\"#ed7953\"],[0.7777777777777778,\"#fb9f3a\"],[0.8888888888888888,\"#fdca26\"],[1.0,\"#f0f921\"]],\"sequentialminus\":[[0.0,\"#0d0887\"],[0.1111111111111111,\"#46039f\"],[0.2222222222222222,\"#7201a8\"],[0.3333333333333333,\"#9c179e\"],[0.4444444444444444,\"#bd3786\"],[0.5555555555555556,\"#d8576b\"],[0.6666666666666666,\"#ed7953\"],[0.7777777777777778,\"#fb9f3a\"],[0.8888888888888888,\"#fdca26\"],[1.0,\"#f0f921\"]]},\"colorway\":[\"#636efa\",\"#EF553B\",\"#00cc96\",\"#ab63fa\",\"#FFA15A\",\"#19d3f3\",\"#FF6692\",\"#B6E880\",\"#FF97FF\",\"#FECB52\"],\"font\":{\"color\":\"#2a3f5f\"},\"geo\":{\"bgcolor\":\"white\",\"lakecolor\":\"white\",\"landcolor\":\"#E5ECF6\",\"showlakes\":true,\"showland\":true,\"subunitcolor\":\"white\"},\"hoverlabel\":{\"align\":\"left\"},\"hovermode\":\"closest\",\"mapbox\":{\"style\":\"light\"},\"paper_bgcolor\":\"white\",\"plot_bgcolor\":\"#E5ECF6\",\"polar\":{\"angularaxis\":{\"gridcolor\":\"white\",\"linecolor\":\"white\",\"ticks\":\"\"},\"bgcolor\":\"#E5ECF6\",\"radialaxis\":{\"gridcolor\":\"white\",\"linecolor\":\"white\",\"ticks\":\"\"}},\"scene\":{\"xaxis\":{\"backgroundcolor\":\"#E5ECF6\",\"gridcolor\":\"white\",\"gridwidth\":2,\"linecolor\":\"white\",\"showbackground\":true,\"ticks\":\"\",\"zerolinecolor\":\"white\"},\"yaxis\":{\"backgroundcolor\":\"#E5ECF6\",\"gridcolor\":\"white\",\"gridwidth\":2,\"linecolor\":\"white\",\"showbackground\":true,\"ticks\":\"\",\"zerolinecolor\":\"white\"},\"zaxis\":{\"backgroundcolor\":\"#E5ECF6\",\"gridcolor\":\"white\",\"gridwidth\":2,\"linecolor\":\"white\",\"showbackground\":true,\"ticks\":\"\",\"zerolinecolor\":\"white\"}},\"shapedefaults\":{\"line\":{\"color\":\"#2a3f5f\"}},\"ternary\":{\"aaxis\":{\"gridcolor\":\"white\",\"linecolor\":\"white\",\"ticks\":\"\"},\"baxis\":{\"gridcolor\":\"white\",\"linecolor\":\"white\",\"ticks\":\"\"},\"bgcolor\":\"#E5ECF6\",\"caxis\":{\"gridcolor\":\"white\",\"linecolor\":\"white\",\"ticks\":\"\"}},\"title\":{\"x\":0.05},\"xaxis\":{\"automargin\":true,\"gridcolor\":\"white\",\"linecolor\":\"white\",\"ticks\":\"\",\"title\":{\"standoff\":15},\"zerolinecolor\":\"white\",\"zerolinewidth\":2},\"yaxis\":{\"automargin\":true,\"gridcolor\":\"white\",\"linecolor\":\"white\",\"ticks\":\"\",\"title\":{\"standoff\":15},\"zerolinecolor\":\"white\",\"zerolinewidth\":2}}},\"xaxis\":{\"anchor\":\"y\",\"domain\":[0.0,1.0],\"scaleanchor\":\"y\",\"constrain\":\"domain\"},\"yaxis\":{\"anchor\":\"x\",\"domain\":[0.0,1.0],\"autorange\":\"reversed\",\"constrain\":\"domain\"},\"coloraxis\":{\"colorbar\":{\"title\":{\"text\":\"Similarity Score\"}},\"colorscale\":[[0.0,\"rgb(247,252,240)\"],[0.125,\"rgb(224,243,219)\"],[0.25,\"rgb(204,235,197)\"],[0.375,\"rgb(168,221,181)\"],[0.5,\"rgb(123,204,196)\"],[0.625,\"rgb(78,179,211)\"],[0.75,\"rgb(43,140,190)\"],[0.875,\"rgb(8,104,172)\"],[1.0,\"rgb(8,64,129)\"]]},\"margin\":{\"t\":60},\"title\":{\"font\":{\"size\":22,\"color\":\"Black\"},\"text\":\"<b>Similarity Matrix\",\"y\":0.95,\"x\":0.55,\"xanchor\":\"center\",\"yanchor\":\"top\"},\"hoverlabel\":{\"font\":{\"size\":16,\"family\":\"Rockwell\"},\"bgcolor\":\"white\"},\"width\":800,\"height\":800,\"showlegend\":true,\"legend\":{\"title\":{\"text\":\"Trend\"}}},                        {\"responsive\": true}                    ).then(function(){\n",
              "                            \n",
              "var gd = document.getElementById('4370628a-2976-4c89-b9c4-c58a6cac8efc');\n",
              "var x = new MutationObserver(function (mutations, observer) {{\n",
              "        var display = window.getComputedStyle(gd).display;\n",
              "        if (!display || display === 'none') {{\n",
              "            console.log([gd, 'removed!']);\n",
              "            Plotly.purge(gd);\n",
              "            observer.disconnect();\n",
              "        }}\n",
              "}});\n",
              "\n",
              "// Listen for the removal of the full notebook cells\n",
              "var notebookContainer = gd.closest('#notebook-container');\n",
              "if (notebookContainer) {{\n",
              "    x.observe(notebookContainer, {childList: true});\n",
              "}}\n",
              "\n",
              "// Listen for the clearing of the current output cell\n",
              "var outputEl = gd.closest('.output');\n",
              "if (outputEl) {{\n",
              "    x.observe(outputEl, {childList: true});\n",
              "}}\n",
              "\n",
              "                        })                };                            </script>        </div>\n",
              "</body>\n",
              "</html>"
            ]
          },
          "metadata": {}
        }
      ]
    },
    {
      "cell_type": "markdown",
      "source": [
        "#### **Save Similarity Matrix**"
      ],
      "metadata": {
        "id": "CF3QJy6epmQY"
      }
    },
    {
      "cell_type": "code",
      "source": [
        "# Set the path to save \n",
        "path = f'/content/Topic-Modeling-Reclame-Aqui/results/{DATA_FRAME_FEATURE_NAME}/similarity_matrix/'\n",
        "\n",
        "# Use makedirs() to create a new directory if it does not exists\n",
        "if not os.path.exists(path):\n",
        "  os.makedirs(path)\n",
        "\n",
        "\n",
        "fig.write_image(path + \"sm_preprocessed_lemma.png\", format=\"png\")"
      ],
      "metadata": {
        "id": "VQOAZurPprA4"
      },
      "execution_count": 172,
      "outputs": []
    },
    {
      "cell_type": "markdown",
      "source": [
        "[Github link](https://github.com/punkmic/Topic-Modeling-Reclame-Aqui/blob/master/results/similarity_matrix/sm_preprocessed_lemma.png?raw=true)"
      ],
      "metadata": {
        "id": "y1pa1kWApYgp"
      }
    },
    {
      "cell_type": "markdown",
      "source": [
        "### **Visualize Term Score Decline**\n",
        "\n",
        "Topics are represented by a number of words starting with the best representative word. Each word is represented by a c-TF-IDF score. The higher the score, the more representative a word to the topic is. Since the topic words are sorted by their c-TF-IDF score, the scores slowly decline with each word that is added."
      ],
      "metadata": {
        "id": "vd41xsx7Xhgj"
      }
    },
    {
      "cell_type": "code",
      "source": [
        "fig = topic_model.visualize_term_rank()\n",
        "fig"
      ],
      "metadata": {
        "id": "Rw1wXTEtX967",
        "outputId": "019f44a8-11a1-411c-90bc-78f428521fa4",
        "colab": {
          "base_uri": "https://localhost:8080/",
          "height": 537
        }
      },
      "execution_count": 173,
      "outputs": [
        {
          "output_type": "display_data",
          "data": {
            "text/html": [
              "<html>\n",
              "<head><meta charset=\"utf-8\" /></head>\n",
              "<body>\n",
              "    <div>            <script src=\"https://cdnjs.cloudflare.com/ajax/libs/mathjax/2.7.5/MathJax.js?config=TeX-AMS-MML_SVG\"></script><script type=\"text/javascript\">if (window.MathJax) {MathJax.Hub.Config({SVG: {font: \"STIX-Web\"}});}</script>                <script type=\"text/javascript\">window.PlotlyConfig = {MathJaxConfig: 'local'};</script>\n",
              "        <script src=\"https://cdn.plot.ly/plotly-2.8.3.min.js\"></script>                <div id=\"9e26b79e-4129-493f-8abf-6aeafc2648be\" class=\"plotly-graph-div\" style=\"height:500px; width:800px;\"></div>            <script type=\"text/javascript\">                                    window.PLOTLYENV=window.PLOTLYENV || {};                                    if (document.getElementById(\"9e26b79e-4129-493f-8abf-6aeafc2648be\")) {                    Plotly.newPlot(                        \"9e26b79e-4129-493f-8abf-6aeafc2648be\",                        [{\"hovertext\":\"<b>Topic -1</b>:entregar_produto_pedir_compra_cont\",\"line\":{\"color\":\"black\",\"width\":1.5},\"mode\":\"lines+lines\",\"name\":\"\",\"opacity\":0.1,\"x\":[1,2,3,4,5,6,7,8,9,10],\"y\":[0.010279576121407855,0.009882485594060774,0.009584016267788266,0.008496100294893312,0.008078583887055315,0.007989918739312069,0.0075319285072510105,0.007342384415302793,0.0073145333689625365,0.007223464758831032],\"type\":\"scatter\"},{\"hovertext\":\"<b>Topic 0</b>:cart\\u00e3o_cr\\u00e9dito_cobrar_cobran\\u00e7a_fatu\",\"line\":{\"color\":\"black\",\"width\":1.5},\"mode\":\"lines+lines\",\"name\":\"\",\"opacity\":0.1,\"x\":[1,2,3,4,5,6,7,8,9,10],\"y\":[0.05457878492990092,0.02861950568175978,0.018609249540710374,0.017638062155466563,0.017625068530599128,0.016799195872435214,0.01647283379221534,0.014099442492386203,0.013904072337887444,0.013508000050436772],\"type\":\"scatter\"},{\"hovertext\":\"<b>Topic 1</b>:celular_aparelho_smartphone_comprar\",\"line\":{\"color\":\"black\",\"width\":1.5},\"mode\":\"lines+lines\",\"name\":\"\",\"opacity\":0.1,\"x\":[1,2,3,4,5,6,7,8,9,10],\"y\":[0.04247199953074286,0.019604892689789263,0.01413577740526283,0.011259323754437094,0.009919078026235354,0.009600583982576915,0.009125355229113464,0.009118706387152078,0.008959476471825274,0.008570589636232149],\"type\":\"scatter\"},{\"hovertext\":\"<b>Topic 2</b>:whatsapp_contato_entregar_atendimen\",\"line\":{\"color\":\"black\",\"width\":1.5},\"mode\":\"lines+lines\",\"name\":\"\",\"opacity\":0.1,\"x\":[1,2,3,4,5,6,7,8,9,10],\"y\":[0.04734472393213764,0.014621090673074719,0.011158438901439345,0.010771586872155414,0.010546116843300327,0.010089963936227294,0.01007414853402179,0.009983795658967643,0.009216566406719228,0.008627174949455545],\"type\":\"scatter\"},{\"hovertext\":\"<b>Topic 3</b>:brasil_brasileiro_chegar_pedir_comp\",\"line\":{\"color\":\"black\",\"width\":1.5},\"mode\":\"lines+lines\",\"name\":\"\",\"opacity\":0.1,\"x\":[1,2,3,4,5,6,7,8,9,10],\"y\":[0.049717032537084684,0.01349715175839047,0.009207233764850954,0.008625001803399897,0.008083807320313361,0.00801074234890711,0.007878947013803095,0.007682990217298232,0.007517322001151416,0.007490146315982879],\"type\":\"scatter\"},{\"hovertext\":\"<b>Topic 4</b>:conta_email_acessar_senha_acesso_co\",\"line\":{\"color\":\"black\",\"width\":1.5},\"mode\":\"lines+lines\",\"name\":\"\",\"opacity\":0.1,\"x\":[1,2,3,4,5,6,7,8,9,10],\"y\":[0.04898859773422636,0.04161091188309981,0.039300752857390264,0.039277098572299274,0.03697566882518802,0.03461190303372729,0.020108100162984373,0.020073236015000353,0.019066195136307924,0.017696612648225966],\"type\":\"scatter\"},{\"hovertext\":\"<b>Topic 5</b>:roupa_cal\\u00e7a_vestir_tamanho_guarda_c\",\"line\":{\"color\":\"black\",\"width\":1.5},\"mode\":\"lines+lines\",\"name\":\"\",\"opacity\":0.1,\"x\":[1,2,3,4,5,6,7,8,9,10],\"y\":[0.06557866467580127,0.04939841991925638,0.048384340141938445,0.021196274744522688,0.01832315618686313,0.018016327095141445,0.017768652485422625,0.017129012246269778,0.01669935089682916,0.01612142329060685],\"type\":\"scatter\"},{\"hovertext\":\"<b>Topic 6</b>:loja_magalu_poder_entrar_contato_si\",\"line\":{\"color\":\"black\",\"width\":1.5},\"mode\":\"lines+lines\",\"name\":\"\",\"opacity\":0.1,\"x\":[1,2,3,4,5,6,7,8,9,10],\"y\":[0.010910494807490415,0.00993442267089803,0.008470397219451762,0.008354346491373248,0.00823261824897075,0.007792216135772907,0.0076569046176110265,0.0076305386731414,0.007610544117607529,0.007582558302129458],\"type\":\"scatter\"},{\"hovertext\":\"<b>Topic 7</b>:ariano_produto_vendedor_infra\\u00e7\\u00e3o_re\",\"line\":{\"color\":\"black\",\"width\":1.5},\"mode\":\"lines+lines\",\"name\":\"\",\"opacity\":0.1,\"x\":[1,2,3,4,5,6,7,8,9,10],\"y\":[0.025593594584212342,0.017553712982425813,0.013745277313578233,0.013049150544087765,0.012816877839565834,0.011039757403846063,0.010833134576298288,0.010564011248250918,0.010273590862256921,0.00984405562439304],\"type\":\"scatter\"},{\"hovertext\":\"<b>Topic 8</b>:dinheiro_reembolso_voltar_devolver_\",\"line\":{\"color\":\"black\",\"width\":1.5},\"mode\":\"lines+lines\",\"name\":\"\",\"opacity\":0.1,\"x\":[1,2,3,4,5,6,7,8,9,10],\"y\":[0.05153867642498261,0.032564881838184165,0.031117338826473846,0.026112059240813508,0.02282203871620625,0.022055932406973896,0.021356760720919042,0.018925960404667087,0.018914454022189497,0.017998606609313874],\"type\":\"scatter\"},{\"hovertext\":\"<b>Topic 9</b>:novembro_dezembro_outubro_chegar_en\",\"line\":{\"color\":\"black\",\"width\":1.5},\"mode\":\"lines+lines\",\"name\":\"\",\"opacity\":0.1,\"x\":[1,2,3,4,5,6,7,8,9,10],\"y\":[0.08068126153758999,0.0373246090383073,0.027085655465870523,0.021947351538157685,0.019727559320888193,0.01625208245413659,0.01527274102566052,0.015228779205011379,0.014422105124795893,0.014336564789565784],\"type\":\"scatter\"},{\"hovertext\":\"<b>Topic 10</b>:cancelamento_cancelar_pedir_solici\",\"line\":{\"color\":\"black\",\"width\":1.5},\"mode\":\"lines+lines\",\"name\":\"\",\"opacity\":0.1,\"x\":[1,2,3,4,5,6,7,8,9,10],\"y\":[0.049200106158362455,0.038106450285961206,0.019421756307652752,0.015489742655852888,0.013564722549529586,0.012694744062706992,0.011961360823483713,0.011493775932364747,0.010118486484064042,0.010097808224356868],\"type\":\"scatter\"},{\"hovertext\":\"<b>Topic 11</b>:iphone_aparelho_celular_carregador\",\"line\":{\"color\":\"black\",\"width\":1.5},\"mode\":\"lines+lines\",\"name\":\"\",\"opacity\":0.1,\"x\":[1,2,3,4,5,6,7,8,9,10],\"y\":[0.06999238739785982,0.021795828713161193,0.013152167902323795,0.012721802040772497,0.010730882116738503,0.010446338539278968,0.009932979051348937,0.009854745815927523,0.009597781925537223,0.009175364953821555],\"type\":\"scatter\"},{\"hovertext\":\"<b>Topic 12</b>:black_friday_promo\\u00e7\\u00e3o_oferta_pre\\u00e7o\",\"line\":{\"color\":\"black\",\"width\":1.5},\"mode\":\"lines+lines\",\"name\":\"\",\"opacity\":0.1,\"x\":[1,2,3,4,5,6,7,8,9,10],\"y\":[0.04409061937577927,0.03903259801948245,0.023225748522466276,0.0171972345838268,0.014757148837588701,0.013869209921315292,0.013191516494775705,0.013005781669955316,0.01271490680488123,0.012402516785419232],\"type\":\"scatter\"},{\"hovertext\":\"<b>Topic 13</b>:endere\\u00e7o_pedir_remetente_correio_p\",\"line\":{\"color\":\"black\",\"width\":1.5},\"mode\":\"lines+lines\",\"name\":\"\",\"opacity\":0.1,\"x\":[1,2,3,4,5,6,7,8,9,10],\"y\":[0.06629916575768692,0.02937824857975229,0.026877990527915237,0.019696964390025013,0.019593274707120786,0.017899981363586434,0.017356149939364005,0.016989568464939556,0.016028119735736934,0.015345457720109363],\"type\":\"scatter\"},{\"hovertext\":\"<b>Topic 14</b>:pedir_entregar_encomenda_recebi_sa\",\"line\":{\"color\":\"black\",\"width\":1.5},\"mode\":\"lines+lines\",\"name\":\"\",\"opacity\":0.1,\"x\":[1,2,3,4,5,6,7,8,9,10],\"y\":[0.036837206724594215,0.03458312548166419,0.029592831002768653,0.026776268072668575,0.025331084822510775,0.025256111750420245,0.021718179279872043,0.02099323633202709,0.018489135480848285,0.0184466796072161],\"type\":\"scatter\"},{\"hovertext\":\"<b>Topic 15</b>:geladeira_refrigerador_geladeiro_t\",\"line\":{\"color\":\"black\",\"width\":1.5},\"mode\":\"lines+lines\",\"name\":\"\",\"opacity\":0.1,\"x\":[1,2,3,4,5,6,7,8,9,10],\"y\":[0.1137960592835526,0.028588007763764925,0.022611136851831522,0.019017057591756547,0.01602829985621507,0.014980554604758542,0.012990353769842393,0.012746709117608205,0.0124718253983603,0.011700437014752322],\"type\":\"scatter\"},{\"hovertext\":\"<b>Topic 16</b>:aplicativo_compra_reembolso_recebi\",\"line\":{\"color\":\"black\",\"width\":1.5},\"mode\":\"lines+lines\",\"name\":\"\",\"opacity\":0.1,\"x\":[1,2,3,4,5,6,7,8,9,10],\"y\":[0.0940899178029351,0.021608161083865766,0.01775537108732164,0.01755146599998432,0.016144858533434225,0.015469706150638007,0.013618544241032744,0.013373995076306764,0.012743158462877761,0.012205381829537221],\"type\":\"scatter\"},{\"hovertext\":\"<b>Topic 17</b>:previs\\u00e3o_entregar_prazo_produto_da\",\"line\":{\"color\":\"black\",\"width\":1.5},\"mode\":\"lines+lines\",\"name\":\"\",\"opacity\":0.1,\"x\":[1,2,3,4,5,6,7,8,9,10],\"y\":[0.04919543546175991,0.023405118456475606,0.016982141667965765,0.015985164346049408,0.015480648294024362,0.014225264287622913,0.014051660465332332,0.013944251993950113,0.013704681091895089,0.013485343498334908],\"type\":\"scatter\"},{\"hovertext\":\"<b>Topic 18</b>:rastreio_c\\u00f3digo_rastreamento_rastr\",\"line\":{\"color\":\"black\",\"width\":1.5},\"mode\":\"lines+lines\",\"name\":\"\",\"opacity\":0.1,\"x\":[1,2,3,4,5,6,7,8,9,10],\"y\":[0.10201322690430607,0.08174914160822806,0.06159731312674169,0.03179509149072694,0.025168177340878926,0.020648311322967152,0.020477130706278136,0.020370151294000407,0.0203313044806895,0.019198532932938404],\"type\":\"scatter\"},{\"hovertext\":\"<b>Topic 19</b>:livro_compr_dois_hoje_entregar_env\",\"line\":{\"color\":\"black\",\"width\":1.5},\"mode\":\"lines+lines\",\"name\":\"\",\"opacity\":0.1,\"x\":[1,2,3,4,5,6,7,8,9,10],\"y\":[0.1725996036187949,0.013718983390194011,0.012276895940993616,0.01206942874056846,0.010736564076819543,0.01067106124498926,0.010589221083692448,0.010076209270352991,0.009757138501607941,0.009635406746643527],\"type\":\"scatter\"},{\"hovertext\":\"<b>Topic 20</b>:t\\u00eanis_mizuno_tenis_wave_raquete_az\",\"line\":{\"color\":\"black\",\"width\":1.5},\"mode\":\"lines+lines\",\"name\":\"\",\"opacity\":0.1,\"x\":[1,2,3,4,5,6,7,8,9,10],\"y\":[0.12495408134717241,0.025669364843910716,0.021623488866941282,0.01989701935221379,0.0177640178272556,0.016738176252478712,0.01644810212963752,0.016282752623412108,0.015576770530702005,0.014491358043280464],\"type\":\"scatter\"},{\"hovertext\":\"<b>Topic 21</b>:cancelamento_cancelar_reembolso_ca\",\"line\":{\"color\":\"black\",\"width\":1.5},\"mode\":\"lines+lines\",\"name\":\"\",\"opacity\":0.1,\"x\":[1,2,3,4,5,6,7,8,9,10],\"y\":[0.04033462726291872,0.030599640231800358,0.027079240826700123,0.02469535714144039,0.019479494425228998,0.018889328697999662,0.018515947280239777,0.01771962643737378,0.017276165059262865,0.01581253012158461],\"type\":\"scatter\"},{\"hovertext\":\"<b>Topic 22</b>:cobran\\u00e7a_amazoncombr_digital_amazo\",\"line\":{\"color\":\"black\",\"width\":1.5},\"mode\":\"lines+lines\",\"name\":\"\",\"opacity\":0.1,\"x\":[1,2,3,4,5,6,7,8,9,10],\"y\":[0.09065741193253178,0.08903101246029049,0.05994473353795494,0.030889710529673306,0.029930639299360462,0.029219828404955284,0.027224627829069606,0.02712207846631568,0.02593102384606496,0.02591050522944171],\"type\":\"scatter\"},{\"hovertext\":\"<b>Topic 23</b>:pagamento_comprovante_paguei_confi\",\"line\":{\"color\":\"black\",\"width\":1.5},\"mode\":\"lines+lines\",\"name\":\"\",\"opacity\":0.1,\"x\":[1,2,3,4,5,6,7,8,9,10],\"y\":[0.07388543845257847,0.029490055493723098,0.027884342675436977,0.025029635944986466,0.024130727987417423,0.02239108982944396,0.021560099922977475,0.018846223951510026,0.018656961758750364,0.01772029732491733],\"type\":\"scatter\"},{\"hovertext\":\"<b>Topic 24</b>:rob\\u00f4_aspirador_macac\\u00e3o_tentar_supo\",\"line\":{\"color\":\"black\",\"width\":1.5},\"mode\":\"lines+lines\",\"name\":\"\",\"opacity\":0.1,\"x\":[1,2,3,4,5,6,7,8,9,10],\"y\":[0.1022763556208191,0.029627620120306404,0.019577371338917127,0.017774874504368005,0.016966335111872677,0.01631447611576427,0.0149376693917993,0.013103114734957422,0.013072368877846727,0.013007759002629234],\"type\":\"scatter\"},{\"hovertext\":\"<b>Topic 25</b>:m\\u00e1quina_lavar_roupa_seca_maquina_l\",\"line\":{\"color\":\"black\",\"width\":1.5},\"mode\":\"lines+lines\",\"name\":\"\",\"opacity\":0.1,\"x\":[1,2,3,4,5,6,7,8,9,10],\"y\":[0.08447765490036392,0.08374327078493546,0.02957268630486415,0.02362748247694919,0.023070752033276257,0.014332076290181305,0.01425624575341998,0.012131367840541122,0.010763583488453883,0.010435743647612468],\"type\":\"scatter\"},{\"hovertext\":\"<b>Topic 26</b>:prime_v\\u00eddeo_assinatura_video_assis\",\"line\":{\"color\":\"black\",\"width\":1.5},\"mode\":\"lines+lines\",\"name\":\"\",\"opacity\":0.1,\"x\":[1,2,3,4,5,6,7,8,9,10],\"y\":[0.12200826982803102,0.09076525921776583,0.05788241353309356,0.05130527516024387,0.04627838255512594,0.045639501844066906,0.04004013392520019,0.0382496917765914,0.0352046639002571,0.035194976996812274],\"type\":\"scatter\"},{\"hovertext\":\"<b>Topic 27</b>:curitiba_parado_tr\\u00e2nsito_atualiza\\u00e7\",\"line\":{\"color\":\"black\",\"width\":1.5},\"mode\":\"lines+lines\",\"name\":\"\",\"opacity\":0.1,\"x\":[1,2,3,4,5,6,7,8,9,10],\"y\":[0.21494676868842255,0.04786971227693713,0.04771192382845836,0.03740346158757898,0.03455503172315126,0.034533030936202955,0.031020457375327454,0.030711317047370592,0.030631769202748467,0.028335234819116813],\"type\":\"scatter\"},{\"hovertext\":\"<b>Topic 28</b>:vir_garrafa_caixa_danificar_copo_d\",\"line\":{\"color\":\"black\",\"width\":1.5},\"mode\":\"lines+lines\",\"name\":\"\",\"opacity\":0.1,\"x\":[1,2,3,4,5,6,7,8,9,10],\"y\":[0.04185946683061743,0.037195549688275584,0.03524101040119949,0.02878190215721826,0.028291307582308134,0.027887491885496964,0.025729475502390454,0.02510136058448252,0.02444640333758584,0.021631077597456257],\"type\":\"scatter\"},{\"hovertext\":\"<b>Topic 29</b>:juliana_fraga_produto_m\\u00e1rcia_loja_\",\"line\":{\"color\":\"black\",\"width\":1.5},\"mode\":\"lines+lines\",\"name\":\"\",\"opacity\":0.1,\"x\":[1,2,3,4,5,6,7,8,9,10],\"y\":[0.01628372510133335,0.01504663478068468,0.013526226068641959,0.01251865358473353,0.011124492224021263,0.010695120445395029,0.010249803169472346,0.010215020823624342,0.010143413087173248,0.010127915319630225],\"type\":\"scatter\"},{\"hovertext\":\"<b>Topic 30</b>:gr\\u00e1tis_frete_anunciar_an\\u00fancio_valo\",\"line\":{\"color\":\"black\",\"width\":1.5},\"mode\":\"lines+lines\",\"name\":\"\",\"opacity\":0.1,\"x\":[1,2,3,4,5,6,7,8,9,10],\"y\":[0.04715898188431036,0.04263572695027797,0.03342957094599437,0.0306294067463592,0.029667931904422483,0.026230061678296696,0.023515545490535028,0.021775564731916025,0.019210633144278285,0.018282835494434106],\"type\":\"scatter\"},{\"hovertext\":\"<b>Topic 31</b>:foto_placa_c\\u00e2mera_devolu\\u00e7\\u00e3o_vended\",\"line\":{\"color\":\"black\",\"width\":1.5},\"mode\":\"lines+lines\",\"name\":\"\",\"opacity\":0.1,\"x\":[1,2,3,4,5,6,7,8,9,10],\"y\":[0.0404512782431157,0.022517247831633,0.01853863954535312,0.01781828627395448,0.01581407807561613,0.014323783842751285,0.01245741633841236,0.01152046150943106,0.011233202604007965,0.011129031602529267],\"type\":\"scatter\"},{\"hovertext\":\"<b>Topic 32</b>:endere\\u00e7o_produto_contato_n\\u00famero_re\",\"line\":{\"color\":\"black\",\"width\":1.5},\"mode\":\"lines+lines\",\"name\":\"\",\"opacity\":0.1,\"x\":[1,2,3,4,5,6,7,8,9,10],\"y\":[0.04867238900888329,0.03213806864694959,0.019030010164315606,0.01789172772063596,0.017561514031104772,0.016935835005506085,0.016830789508881623,0.016215273844504358,0.014990752921581935,0.014750593206024336],\"type\":\"scatter\"},{\"hovertext\":\"<b>Topic 33</b>:nota_desconto_valor_fiscal_correto\",\"line\":{\"color\":\"black\",\"width\":1.5},\"mode\":\"lines+lines\",\"name\":\"\",\"opacity\":0.1,\"x\":[1,2,3,4,5,6,7,8,9,10],\"y\":[0.04687423565290057,0.036776570511015835,0.033393084996983714,0.029442659362484063,0.025603380165877668,0.023086165975906594,0.02265471413954737,0.02115660776220315,0.020347760588170796,0.01858981178863138],\"type\":\"scatter\"},{\"hovertext\":\"<b>Topic 34</b>:jogo_lan\\u00e7amento_ragnarok_pr\\u00e9venda_\",\"line\":{\"color\":\"black\",\"width\":1.5},\"mode\":\"lines+lines\",\"name\":\"\",\"opacity\":0.1,\"x\":[1,2,3,4,5,6,7,8,9,10],\"y\":[0.11107889542164268,0.09387057076782004,0.07131122777935976,0.04147416479453096,0.034530075483101955,0.022329653307143427,0.020644824363044708,0.019926008827732995,0.019075666456306577,0.016571328681843467],\"type\":\"scatter\"},{\"hovertext\":\"<b>Topic 35</b>:internacional_nacional_envio_proce\",\"line\":{\"color\":\"black\",\"width\":1.5},\"mode\":\"lines+lines\",\"name\":\"\",\"opacity\":0.1,\"x\":[1,2,3,4,5,6,7,8,9,10],\"y\":[0.10357180202400967,0.0765682326317315,0.03182738065125015,0.024697834190441713,0.02349609637900416,0.023494895547819084,0.01810310413142555,0.017704331165706615,0.01725660608216197,0.016454166636733825],\"type\":\"scatter\"},{\"hovertext\":\"<b>Topic 36</b>:perfume_shampoo_cabelo_embalagem_n\",\"line\":{\"color\":\"black\",\"width\":1.5},\"mode\":\"lines+lines\",\"name\":\"\",\"opacity\":0.1,\"x\":[1,2,3,4,5,6,7,8,9,10],\"y\":[0.09425753189235561,0.057161337321432755,0.042331325103051445,0.026562845405171273,0.019091498247762042,0.01903203147110863,0.01806923675304299,0.01787751126157018,0.01729764725238889,0.016762111210422353],\"type\":\"scatter\"},{\"hovertext\":\"<b>Topic 37</b>:china_nacional_correios_chegar_bra\",\"line\":{\"color\":\"black\",\"width\":1.5},\"mode\":\"lines+lines\",\"name\":\"\",\"opacity\":0.1,\"x\":[1,2,3,4,5,6,7,8,9,10],\"y\":[0.1375926432038301,0.037058839646336224,0.02268790444927393,0.02162927397963366,0.01992433591386803,0.019152678133982862,0.017508463942924178,0.016702606588782535,0.016401915489802018,0.01525528046937086],\"type\":\"scatter\"},{\"hovertext\":\"<b>Topic 38</b>:televis\\u00e3o_monitor_televisor_assist\",\"line\":{\"color\":\"black\",\"width\":1.5},\"mode\":\"lines+lines\",\"name\":\"\",\"opacity\":0.1,\"x\":[1,2,3,4,5,6,7,8,9,10],\"y\":[0.11283146069137992,0.043850965884397526,0.028649289225366786,0.021658682274181874,0.018296993625629174,0.01722597970689993,0.016319949533568506,0.015941029910916737,0.014759298029809662,0.014627593010163281],\"type\":\"scatter\"},{\"hovertext\":\"<b>Topic 39</b>:notebook_dell_loja_retirar_intel_c\",\"line\":{\"color\":\"black\",\"width\":1.5},\"mode\":\"lines+lines\",\"name\":\"\",\"opacity\":0.1,\"x\":[1,2,3,4,5,6,7,8,9,10],\"y\":[0.09310250923723472,0.024973963771891493,0.016928595091215276,0.01576544357533989,0.015286612363752207,0.01447275966211081,0.012047390281852807,0.01187346187114709,0.011639324510507008,0.011503454027934014],\"type\":\"scatter\"},{\"hovertext\":\"<b>Topic 40</b>:entregar_esperar_ningu\\u00e9m_entregado\",\"line\":{\"color\":\"black\",\"width\":1.5},\"mode\":\"lines+lines\",\"name\":\"\",\"opacity\":0.1,\"x\":[1,2,3,4,5,6,7,8,9,10],\"y\":[0.024742021317754378,0.020834319790691086,0.02039489779072365,0.019967178673161817,0.018530250194961857,0.016582921289274646,0.015480174983026859,0.014162426084522577,0.014118244980902543,0.013534139920058945],\"type\":\"scatter\"},{\"hovertext\":\"<b>Topic 41</b>:endere\\u00e7o_site_tentar_amobeleza_emp\",\"line\":{\"color\":\"black\",\"width\":1.5},\"mode\":\"lines+lines\",\"name\":\"\",\"opacity\":0.1,\"x\":[1,2,3,4,5,6,7,8,9,10],\"y\":[0.03132935384479844,0.029879562077260075,0.020164870088796225,0.01947288971479094,0.018407054210332795,0.018014780412018375,0.017370335615622283,0.01633803738631562,0.015552700038642746,0.014997141974225733],\"type\":\"scatter\"},{\"hovertext\":\"<b>Topic 42</b>:bluetooth_fone_controle_devolu\\u00e7\\u00e3o_\",\"line\":{\"color\":\"black\",\"width\":1.5},\"mode\":\"lines+lines\",\"name\":\"\",\"opacity\":0.1,\"x\":[1,2,3,4,5,6,7,8,9,10],\"y\":[0.07983700131268144,0.042133241736287325,0.019416923412348578,0.019035571795344788,0.01827786328467443,0.017151291741036512,0.016470030230646315,0.015214828246287988,0.013946135781376837,0.013892055653394998],\"type\":\"scatter\"},{\"hovertext\":\"<b>Topic 43</b>:devolu\\u00e7\\u00e3o_postagem_solicitei_corre\",\"line\":{\"color\":\"black\",\"width\":1.5},\"mode\":\"lines+lines\",\"name\":\"\",\"opacity\":0.1,\"x\":[1,2,3,4,5,6,7,8,9,10],\"y\":[0.1050739977469419,0.06806718316232911,0.03795229786949066,0.03498430156521701,0.02437654519204606,0.02349905488872367,0.023071797970161116,0.02210454074208873,0.02203993447278195,0.020571244910681984],\"type\":\"scatter\"},{\"hovertext\":\"<b>Topic 44</b>:prazo_cumprir_entregar_atraso_data\",\"line\":{\"color\":\"black\",\"width\":1.5},\"mode\":\"lines+lines\",\"name\":\"\",\"opacity\":0.1,\"x\":[1,2,3,4,5,6,7,8,9,10],\"y\":[0.03245016465618753,0.023279808532451922,0.021441266132288656,0.0207904558628867,0.018520309725164295,0.01593081881312706,0.015304198176557166,0.015263548194885198,0.013969310736581232,0.013274367349138382],\"type\":\"scatter\"},{\"hovertext\":\"<b>Topic 45</b>:produto_derreter_compr_desdo_merca\",\"line\":{\"color\":\"black\",\"width\":1.5},\"mode\":\"lines+lines\",\"name\":\"\",\"opacity\":0.1,\"x\":[1,2,3,4,5,6,7,8,9,10],\"y\":[0.048274850354643004,0.04394854954353452,0.04285192354507017,0.04198848633481145,0.040592269013883645,0.03575072703748709,0.0338749386117325,0.03363674926506725,0.029468480761099234,0.029468480761099234],\"type\":\"scatter\"},{\"hovertext\":\"<b>Topic 46</b>:cashback_valor_extrato_futuro_digi\",\"line\":{\"color\":\"black\",\"width\":1.5},\"mode\":\"lines+lines\",\"name\":\"\",\"opacity\":0.1,\"x\":[1,2,3,4,5,6,7,8,9,10],\"y\":[0.20524764049962255,0.04399307838534675,0.0383070557999486,0.02835844303234485,0.023003781034361372,0.022754779966440552,0.022188934108067302,0.020853319864381558,0.0188163234947844,0.018040921255807772],\"type\":\"scatter\"},{\"hovertext\":\"<b>Topic 47</b>:bicicleta_capacete_bike_compr_filh\",\"line\":{\"color\":\"black\",\"width\":1.5},\"mode\":\"lines+lines\",\"name\":\"\",\"opacity\":0.1,\"x\":[1,2,3,4,5,6,7,8,9,10],\"y\":[0.09921284809298384,0.02971045955343092,0.027464966046280376,0.02320320943680038,0.019665029037281335,0.017001964204153112,0.01667390610874977,0.015101944897876014,0.014002375961795675,0.012958565786149937],\"type\":\"scatter\"},{\"hovertext\":\"<b>Topic 48</b>:amazoncombr_transportadora_quadro_\",\"line\":{\"color\":\"black\",\"width\":1.5},\"mode\":\"lines+lines\",\"name\":\"\",\"opacity\":0.1,\"x\":[1,2,3,4,5,6,7,8,9,10],\"y\":[0.030683105196946656,0.02024300715558803,0.019025851335009496,0.01826915169939772,0.015181714588954235,0.01455029450691132,0.014275249879379035,0.01330705182797862,0.013237040564444505,0.011557295221191066],\"type\":\"scatter\"},{\"hovertext\":\"<b>Topic 49</b>:carrinho_bicicleta_querer_pr\\u00e9dio_t\",\"line\":{\"color\":\"black\",\"width\":1.5},\"mode\":\"lines+lines\",\"name\":\"\",\"opacity\":0.1,\"x\":[1,2,3,4,5,6,7,8,9,10],\"y\":[0.01885709765658692,0.01738210548230399,0.016463383412881005,0.014628578632642037,0.012972037745457942,0.011634331064259925,0.011612435649939154,0.01147369065670061,0.01147369065670061,0.010988401190401146],\"type\":\"scatter\"},{\"hovertext\":\"<b>Topic 50</b>:produto_separa\\u00e7\\u00e3o_entregar_estoque\",\"line\":{\"color\":\"black\",\"width\":1.5},\"mode\":\"lines+lines\",\"name\":\"\",\"opacity\":0.1,\"x\":[1,2,3,4,5,6,7,8,9,10],\"y\":[0.02401628301495436,0.019922798341926104,0.016530283222626018,0.01626337493822839,0.014528892382839647,0.01413180852170313,0.013869130659541505,0.013688620896596537,0.013413670067315383,0.012412767741076499],\"type\":\"scatter\"},{\"hovertext\":\"<b>Topic 51</b>:m\\u00fasica_music_ouvir_tocar_m\\u00fasico_pr\",\"line\":{\"color\":\"black\",\"width\":1.5},\"mode\":\"lines+lines\",\"name\":\"\",\"opacity\":0.1,\"x\":[1,2,3,4,5,6,7,8,9,10],\"y\":[0.13480816056463124,0.11556979466686873,0.07019514729297599,0.0613591033459331,0.054692824957303196,0.05153230357766397,0.0460040589245751,0.04345125861605604,0.03688510220677158,0.03552470320222411],\"type\":\"scatter\"},{\"hovertext\":\"<b>Topic 52</b>:cadeira_montar_mesa_gamer_base_par\",\"line\":{\"color\":\"black\",\"width\":1.5},\"mode\":\"lines+lines\",\"name\":\"\",\"opacity\":0.1,\"x\":[1,2,3,4,5,6,7,8,9,10],\"y\":[0.2135307025273266,0.026168955130817198,0.025284622742910632,0.02248755405584389,0.021363166784646167,0.020711492417676353,0.019475110061139052,0.018304303213057097,0.017913644989565342,0.01774372579458389],\"type\":\"scatter\"},{\"hovertext\":\"<b>Topic 53</b>:reconhecimento_facial_rosto_acessa\",\"line\":{\"color\":\"black\",\"width\":1.5},\"mode\":\"lines+lines\",\"name\":\"\",\"opacity\":0.1,\"x\":[1,2,3,4,5,6,7,8,9,10],\"y\":[0.15832141857172627,0.15564634434248062,0.07374706409180888,0.04626802228389991,0.043788044079462095,0.03887046490642416,0.036533238378202035,0.027121959790452486,0.026171893480478436,0.026086637305546688],\"type\":\"scatter\"},{\"hovertext\":\"<b>Topic 54</b>:transportadora_entregar_hoje_ningu\",\"line\":{\"color\":\"black\",\"width\":1.5},\"mode\":\"lines+lines\",\"name\":\"\",\"opacity\":0.1,\"x\":[1,2,3,4,5,6,7,8,9,10],\"y\":[0.04345666513351163,0.024145537247524232,0.022453635381211583,0.018016836585876425,0.017680195790809757,0.01683812378555563,0.01613725812502706,0.015268667887905093,0.015229387724808934,0.014545627980618056],\"type\":\"scatter\"},{\"hovertext\":\"<b>Topic 55</b>:sof\\u00e1_mobly_magalu_reclin\\u00e1vel_tecid\",\"line\":{\"color\":\"black\",\"width\":1.5},\"mode\":\"lines+lines\",\"name\":\"\",\"opacity\":0.1,\"x\":[1,2,3,4,5,6,7,8,9,10],\"y\":[0.15173972906031,0.03079779072026602,0.026164970104163715,0.01810421830640674,0.015684397421618163,0.015354323762639649,0.014952397459571611,0.014557346301693095,0.013941498838601627,0.013939560148092302],\"type\":\"scatter\"},{\"hovertext\":\"<b>Topic 56</b>:novembro_falar_reclamacao_reabrir_\",\"line\":{\"color\":\"black\",\"width\":1.5},\"mode\":\"lines+lines\",\"name\":\"\",\"opacity\":0.1,\"x\":[1,2,3,4,5,6,7,8,9,10],\"y\":[0.016288404538379115,0.015015200846924377,0.014464019395576599,0.013555295637671116,0.013138194422005844,0.012940491542682687,0.012133693095111978,0.011896383346061273,0.011896383346061273,0.01137290167412573],\"type\":\"scatter\"},{\"hovertext\":\"<b>Topic 57</b>:dinheiro_site_ganhar_paguei_realiz\",\"line\":{\"color\":\"black\",\"width\":1.5},\"mode\":\"lines+lines\",\"name\":\"\",\"opacity\":0.1,\"x\":[1,2,3,4,5,6,7,8,9,10],\"y\":[0.038362476690469875,0.03707912673719539,0.028489127747740883,0.025564227876556246,0.025063097039877268,0.02350450275951994,0.023168788128248127,0.022831102084358214,0.018370713882603286,0.017896668770044536],\"type\":\"scatter\"},{\"hovertext\":\"<b>Topic 58</b>:cama_comprei_colch\\u00e3o_edredom_ch\\u00e3o_\",\"line\":{\"color\":\"black\",\"width\":1.5},\"mode\":\"lines+lines\",\"name\":\"\",\"opacity\":0.1,\"x\":[1,2,3,4,5,6,7,8,9,10],\"y\":[0.18159323411514808,0.036378919192818826,0.03621546194870114,0.02733739414615753,0.02502553248369863,0.024479294931746127,0.023782592055215636,0.02233930035088166,0.022024600053566542,0.019607056314729476],\"type\":\"scatter\"},{\"hovertext\":\"<b>Topic 59</b>:frete_vendedor_prazo_entrar_atende\",\"line\":{\"color\":\"black\",\"width\":1.5},\"mode\":\"lines+lines\",\"name\":\"\",\"opacity\":0.1,\"x\":[1,2,3,4,5,6,7,8,9,10],\"y\":[0.02100819085057276,0.018757691157875317,0.017830755371303974,0.016259269940678514,0.015189219952581084,0.014739688291128821,0.014610894170487571,0.013347516098516225,0.012493383864460582,0.01244251362237579],\"type\":\"scatter\"},{\"hovertext\":\"<b>Topic 60</b>:pneu_pastilha_pirelli_dur\\u00e1vel_frei\",\"line\":{\"color\":\"black\",\"width\":1.5},\"mode\":\"lines+lines\",\"name\":\"\",\"opacity\":0.1,\"x\":[1,2,3,4,5,6,7,8,9,10],\"y\":[0.2105450242494408,0.04434769702291619,0.03168224719115455,0.031018471826606483,0.030166500881073123,0.0276429698274435,0.024515797313542087,0.024515797313542087,0.02050326188295025,0.019962147762376415],\"type\":\"scatter\"},{\"hovertext\":\"<b>Topic 61</b>:mouse_teclado_combo_logitech_gamer\",\"line\":{\"color\":\"black\",\"width\":1.5},\"mode\":\"lines+lines\",\"name\":\"\",\"opacity\":0.1,\"x\":[1,2,3,4,5,6,7,8,9,10],\"y\":[0.16452391392005847,0.15359904789384085,0.029594764617475188,0.024622213719527525,0.01872561744276346,0.018554428903987223,0.017914489217919823,0.017607496073888066,0.016935757178436005,0.016790101561203488],\"type\":\"scatter\"},{\"hovertext\":\"<b>Topic 62</b>:ningu\\u00e9m_nada_entregar_desdenontem_\",\"line\":{\"color\":\"black\",\"width\":1.5},\"mode\":\"lines+lines\",\"name\":\"\",\"opacity\":0.1,\"x\":[1,2,3,4,5,6,7,8,9,10],\"y\":[0.07673837805095514,0.05624960446066848,0.03741702048641166,0.03426295580556379,0.03426295580556379,0.03426295580556379,0.03426295580556379,0.03426295580556379,0.03356278834907473,0.03348056434556549],\"type\":\"scatter\"},{\"hovertext\":\"<b>Topic 63</b>:microondas_eletrotrader_microondo_\",\"line\":{\"color\":\"black\",\"width\":1.5},\"mode\":\"lines+lines\",\"name\":\"\",\"opacity\":0.1,\"x\":[1,2,3,4,5,6,7,8,9,10],\"y\":[0.17054089129225336,0.02233838416570051,0.02038960357910158,0.019978670588914414,0.01901540773474988,0.018147628856833905,0.01779791630063636,0.017032820157920965,0.016463880289725476,0.016437546026696403],\"type\":\"scatter\"},{\"hovertext\":\"<b>Topic 64</b>:chat_desbloqueio_autoatendimento_p\",\"line\":{\"color\":\"black\",\"width\":1.5},\"mode\":\"lines+lines\",\"name\":\"\",\"opacity\":0.1,\"x\":[1,2,3,4,5,6,7,8,9,10],\"y\":[0.04389444342724184,0.028855653461456767,0.027554047823656808,0.025309334157012094,0.02478232909919437,0.02159723247698404,0.02150073700320711,0.02085206565546488,0.020044331853462258,0.019160721090437746],\"type\":\"scatter\"},{\"hovertext\":\"<b>Topic 65</b>:esposo_marido_evid\\u00eancia_gente_rasu\",\"line\":{\"color\":\"black\",\"width\":1.5},\"mode\":\"lines+lines\",\"name\":\"\",\"opacity\":0.1,\"x\":[1,2,3,4,5,6,7,8,9,10],\"y\":[0.07787269958854796,0.028263117698714882,0.021629418424939224,0.02096632844678371,0.019729926884239832,0.01800870576986487,0.01800870576986487,0.017938871865470933,0.01655122556987267,0.01599618014441691],\"type\":\"scatter\"},{\"hovertext\":\"<b>Topic 66</b>:esperar_sof\\u00e1_segundafeira_pedir_at\",\"line\":{\"color\":\"black\",\"width\":1.5},\"mode\":\"lines+lines\",\"name\":\"\",\"opacity\":0.1,\"x\":[1,2,3,4,5,6,7,8,9,10],\"y\":[0.02009662687169185,0.019621516688833187,0.0187887465417183,0.016709060578957463,0.01608197495737172,0.015917468110083027,0.01554255282239677,0.01499656091211045,0.014295209814125694,0.014260570421318421],\"type\":\"scatter\"},{\"hovertext\":\"<b>Topic 67</b>:forno_el\\u00e9trico_embutir_nell_fryer_\",\"line\":{\"color\":\"black\",\"width\":1.5},\"mode\":\"lines+lines\",\"name\":\"\",\"opacity\":0.1,\"x\":[1,2,3,4,5,6,7,8,9,10],\"y\":[0.11533680974264217,0.058234973979241676,0.03990002241671896,0.03867268797048727,0.03599165392578699,0.03028996459838527,0.023627385350927732,0.023627385350927732,0.022892282761307333,0.022009238968150678],\"type\":\"scatter\"},{\"hovertext\":\"<b>Topic 68</b>:boleto_paguei_reembolso_entanto_pa\",\"line\":{\"color\":\"black\",\"width\":1.5},\"mode\":\"lines+lines\",\"name\":\"\",\"opacity\":0.1,\"x\":[1,2,3,4,5,6,7,8,9,10],\"y\":[0.09040713515947023,0.0457057407489945,0.03398031288226808,0.03285836309493844,0.029071598865326852,0.029071598865326852,0.029071598865326852,0.028837009628829346,0.026738368925611218,0.026738368925611218],\"type\":\"scatter\"},{\"hovertext\":\"<b>Topic 69</b>:cadeirinha_alterar_atraso_data_gua\",\"line\":{\"color\":\"black\",\"width\":1.5},\"mode\":\"lines+lines\",\"name\":\"\",\"opacity\":0.1,\"x\":[1,2,3,4,5,6,7,8,9,10],\"y\":[0.0809204222223141,0.06378710469955423,0.0485085233017866,0.047532972338980135,0.04729307379660314,0.04011881463964308,0.03807286599753615,0.03481558412500837,0.03481558412500837,0.03481558412500837],\"type\":\"scatter\"},{\"hovertext\":\"<b>Topic 70</b>:liquidificador_quebrar_defeituosar\",\"line\":{\"color\":\"black\",\"width\":1.5},\"mode\":\"lines+lines\",\"name\":\"\",\"opacity\":0.1,\"x\":[1,2,3,4,5,6,7,8,9,10],\"y\":[0.10657410960667232,0.03506690449038247,0.03225617651441301,0.02885284699030155,0.028421821176077434,0.025456476462507708,0.024900832605847533,0.022811771990736203,0.022723986949789835,0.020228059326333155],\"type\":\"scatter\"},{\"hovertext\":\"<b>Topic 71</b>:previs\\u00e3o_prazo_planejamento_data_v\",\"line\":{\"color\":\"black\",\"width\":1.5},\"mode\":\"lines+lines\",\"name\":\"\",\"opacity\":0.1,\"x\":[1,2,3,4,5,6,7,8,9,10],\"y\":[0.04534783456196121,0.040377276307913344,0.03601786589379867,0.03545316433102879,0.033333050674419426,0.032344521194434504,0.03195498990227988,0.028467412537863557,0.02602398939915998,0.02541757383074313],\"type\":\"scatter\"},{\"hovertext\":\"<b>Topic 72</b>:clima_atualizar_anormal_semana_pre\",\"line\":{\"color\":\"black\",\"width\":1.5},\"mode\":\"lines+lines\",\"name\":\"\",\"opacity\":0.1,\"x\":[1,2,3,4,5,6,7,8,9,10],\"y\":[0.0884064524719555,0.05608161663120582,0.055799820512243976,0.055620173638213546,0.05422333899793978,0.05360919903674968,0.04451168208961765,0.03803640908811487,0.03803640908811487,0.03803640908811487],\"type\":\"scatter\"},{\"hovertext\":\"<b>Topic 73</b>:echo_microfone_studio_echar_gritar\",\"line\":{\"color\":\"black\",\"width\":1.5},\"mode\":\"lines+lines\",\"name\":\"\",\"opacity\":0.1,\"x\":[1,2,3,4,5,6,7,8,9,10],\"y\":[0.092747539188851,0.046223642534266356,0.04189886747035035,0.037896346107251115,0.037896346107251115,0.03660855276381324,0.035095075615220676,0.033681316687427264,0.029528793018351637,0.02707336537432956],\"type\":\"scatter\"},{\"hovertext\":\"<b>Topic 74</b>:l\\u00e2mpada_lampada_l\\u00e2mpar_l\\u00e2mpado_an\\u00fa\",\"line\":{\"color\":\"black\",\"width\":1.5},\"mode\":\"lines+lines\",\"name\":\"\",\"opacity\":0.1,\"x\":[1,2,3,4,5,6,7,8,9,10],\"y\":[0.1290325870105572,0.07926161508787756,0.06464401090628237,0.06374417873626817,0.062176793274306946,0.056583362514246206,0.04573394902997185,0.038015039046908394,0.03580849532653263,0.0347763459440914],\"type\":\"scatter\"},{\"hovertext\":\"<b>Topic 75</b>:cancelar_clip_cancelamento_loja_nu\",\"line\":{\"color\":\"black\",\"width\":1.5},\"mode\":\"lines+lines\",\"name\":\"\",\"opacity\":0.1,\"x\":[1,2,3,4,5,6,7,8,9,10],\"y\":[0.030169760228543903,0.02887359509434518,0.02584919024333667,0.02436921022535096,0.020960859872308377,0.019683109696013862,0.018974328417943647,0.01778959443535642,0.017695978343083462,0.017479934916530646],\"type\":\"scatter\"},{\"hovertext\":\"<b>Topic 76</b>:rastrear_transportadora_rastreio_r\",\"line\":{\"color\":\"black\",\"width\":1.5},\"mode\":\"lines+lines\",\"name\":\"\",\"opacity\":0.1,\"x\":[1,2,3,4,5,6,7,8,9,10],\"y\":[0.0712147443023666,0.054500666691297925,0.03781895855553206,0.03679089401006513,0.03643149731224504,0.03643149731224504,0.03643149731224504,0.03643149731224504,0.03643149731224504,0.03350757624855077],\"type\":\"scatter\"},{\"hovertext\":\"<b>Topic 77</b>:jogo_lan\\u00e7amento_spoiler_pr\\u00e9venda_j\",\"line\":{\"color\":\"black\",\"width\":1.5},\"mode\":\"lines+lines\",\"name\":\"\",\"opacity\":0.1,\"x\":[1,2,3,4,5,6,7,8,9,10],\"y\":[0.1806855315299271,0.12784406738254608,0.04504660990153512,0.04070201753949315,0.04058100438565118,0.03575684932471686,0.031725893032253885,0.03021230576334895,0.02807360273660514,0.025738906771974508],\"type\":\"scatter\"},{\"hovertext\":\"<b>Topic 78</b>:https_lepsably_wwwamericanasentreg\",\"line\":{\"color\":\"black\",\"width\":1.5},\"mode\":\"lines+lines\",\"name\":\"\",\"opacity\":0.1,\"x\":[1,2,3,4,5,6,7,8,9,10],\"y\":[0.1616052073254442,0.04168659092339387,0.04168659092339387,0.03955909879067765,0.03955909879067765,0.038049890143677746,0.036745037079793576,0.031483032119795584,0.029117855318654205,0.02463020131039651],\"type\":\"scatter\"},{\"hovertext\":\"<b>Topic 79</b>:novembro_nacional_paiolla_setembro\",\"line\":{\"color\":\"black\",\"width\":1.5},\"mode\":\"lines+lines\",\"name\":\"\",\"opacity\":0.1,\"x\":[1,2,3,4,5,6,7,8,9,10],\"y\":[0.03680245369482555,0.03680203532042878,0.03221740620523162,0.03221740620523162,0.03221740620523162,0.03221740620523162,0.03147840420336431,0.03147840420336431,0.029631699891442282,0.029631699891442282],\"type\":\"scatter\"},{\"hovertext\":\"<b>Topic 80</b>:secador_bagun\\u00e7a_prazo_esperar_cheg\",\"line\":{\"color\":\"black\",\"width\":1.5},\"mode\":\"lines+lines\",\"name\":\"\",\"opacity\":0.1,\"x\":[1,2,3,4,5,6,7,8,9,10],\"y\":[0.03219593852504295,0.02782391411738028,0.025708608525068965,0.023740739410519143,0.02167210422513788,0.020005470638274275,0.01868864287646578,0.01863177168438182,0.01859242943594513,0.017097554184162526],\"type\":\"scatter\"},{\"hovertext\":\"<b>Topic 81</b>:loja_antecipa\\u00e7\\u00e3o_aguardo_tentar_po\",\"line\":{\"color\":\"black\",\"width\":1.5},\"mode\":\"lines+lines\",\"name\":\"\",\"opacity\":0.1,\"x\":[1,2,3,4,5,6,7,8,9,10],\"y\":[0.03199288798063401,0.029222390727077805,0.02913368544056022,0.02634113358642727,0.024908952578169517,0.024729694038692147,0.024508564295709846,0.024497135988231906,0.023522504868833685,0.02182519263436692],\"type\":\"scatter\"},{\"hovertext\":\"<b>Topic 82</b>:caneta_escolhi_caixa_produto_incom\",\"line\":{\"color\":\"black\",\"width\":1.5},\"mode\":\"lines+lines\",\"name\":\"\",\"opacity\":0.1,\"x\":[1,2,3,4,5,6,7,8,9,10],\"y\":[0.058991976578567806,0.042851146109534666,0.035806569325670855,0.03518142288140518,0.033532839433687706,0.03280812847301722,0.03256329986822554,0.03104408847501537,0.030240736751947002,0.028309065124596966],\"type\":\"scatter\"}],                        {\"template\":{\"data\":{\"barpolar\":[{\"marker\":{\"line\":{\"color\":\"white\",\"width\":0.5},\"pattern\":{\"fillmode\":\"overlay\",\"size\":10,\"solidity\":0.2}},\"type\":\"barpolar\"}],\"bar\":[{\"error_x\":{\"color\":\"#2a3f5f\"},\"error_y\":{\"color\":\"#2a3f5f\"},\"marker\":{\"line\":{\"color\":\"white\",\"width\":0.5},\"pattern\":{\"fillmode\":\"overlay\",\"size\":10,\"solidity\":0.2}},\"type\":\"bar\"}],\"carpet\":[{\"aaxis\":{\"endlinecolor\":\"#2a3f5f\",\"gridcolor\":\"#C8D4E3\",\"linecolor\":\"#C8D4E3\",\"minorgridcolor\":\"#C8D4E3\",\"startlinecolor\":\"#2a3f5f\"},\"baxis\":{\"endlinecolor\":\"#2a3f5f\",\"gridcolor\":\"#C8D4E3\",\"linecolor\":\"#C8D4E3\",\"minorgridcolor\":\"#C8D4E3\",\"startlinecolor\":\"#2a3f5f\"},\"type\":\"carpet\"}],\"choropleth\":[{\"colorbar\":{\"outlinewidth\":0,\"ticks\":\"\"},\"type\":\"choropleth\"}],\"contourcarpet\":[{\"colorbar\":{\"outlinewidth\":0,\"ticks\":\"\"},\"type\":\"contourcarpet\"}],\"contour\":[{\"colorbar\":{\"outlinewidth\":0,\"ticks\":\"\"},\"colorscale\":[[0.0,\"#0d0887\"],[0.1111111111111111,\"#46039f\"],[0.2222222222222222,\"#7201a8\"],[0.3333333333333333,\"#9c179e\"],[0.4444444444444444,\"#bd3786\"],[0.5555555555555556,\"#d8576b\"],[0.6666666666666666,\"#ed7953\"],[0.7777777777777778,\"#fb9f3a\"],[0.8888888888888888,\"#fdca26\"],[1.0,\"#f0f921\"]],\"type\":\"contour\"}],\"heatmapgl\":[{\"colorbar\":{\"outlinewidth\":0,\"ticks\":\"\"},\"colorscale\":[[0.0,\"#0d0887\"],[0.1111111111111111,\"#46039f\"],[0.2222222222222222,\"#7201a8\"],[0.3333333333333333,\"#9c179e\"],[0.4444444444444444,\"#bd3786\"],[0.5555555555555556,\"#d8576b\"],[0.6666666666666666,\"#ed7953\"],[0.7777777777777778,\"#fb9f3a\"],[0.8888888888888888,\"#fdca26\"],[1.0,\"#f0f921\"]],\"type\":\"heatmapgl\"}],\"heatmap\":[{\"colorbar\":{\"outlinewidth\":0,\"ticks\":\"\"},\"colorscale\":[[0.0,\"#0d0887\"],[0.1111111111111111,\"#46039f\"],[0.2222222222222222,\"#7201a8\"],[0.3333333333333333,\"#9c179e\"],[0.4444444444444444,\"#bd3786\"],[0.5555555555555556,\"#d8576b\"],[0.6666666666666666,\"#ed7953\"],[0.7777777777777778,\"#fb9f3a\"],[0.8888888888888888,\"#fdca26\"],[1.0,\"#f0f921\"]],\"type\":\"heatmap\"}],\"histogram2dcontour\":[{\"colorbar\":{\"outlinewidth\":0,\"ticks\":\"\"},\"colorscale\":[[0.0,\"#0d0887\"],[0.1111111111111111,\"#46039f\"],[0.2222222222222222,\"#7201a8\"],[0.3333333333333333,\"#9c179e\"],[0.4444444444444444,\"#bd3786\"],[0.5555555555555556,\"#d8576b\"],[0.6666666666666666,\"#ed7953\"],[0.7777777777777778,\"#fb9f3a\"],[0.8888888888888888,\"#fdca26\"],[1.0,\"#f0f921\"]],\"type\":\"histogram2dcontour\"}],\"histogram2d\":[{\"colorbar\":{\"outlinewidth\":0,\"ticks\":\"\"},\"colorscale\":[[0.0,\"#0d0887\"],[0.1111111111111111,\"#46039f\"],[0.2222222222222222,\"#7201a8\"],[0.3333333333333333,\"#9c179e\"],[0.4444444444444444,\"#bd3786\"],[0.5555555555555556,\"#d8576b\"],[0.6666666666666666,\"#ed7953\"],[0.7777777777777778,\"#fb9f3a\"],[0.8888888888888888,\"#fdca26\"],[1.0,\"#f0f921\"]],\"type\":\"histogram2d\"}],\"histogram\":[{\"marker\":{\"pattern\":{\"fillmode\":\"overlay\",\"size\":10,\"solidity\":0.2}},\"type\":\"histogram\"}],\"mesh3d\":[{\"colorbar\":{\"outlinewidth\":0,\"ticks\":\"\"},\"type\":\"mesh3d\"}],\"parcoords\":[{\"line\":{\"colorbar\":{\"outlinewidth\":0,\"ticks\":\"\"}},\"type\":\"parcoords\"}],\"pie\":[{\"automargin\":true,\"type\":\"pie\"}],\"scatter3d\":[{\"line\":{\"colorbar\":{\"outlinewidth\":0,\"ticks\":\"\"}},\"marker\":{\"colorbar\":{\"outlinewidth\":0,\"ticks\":\"\"}},\"type\":\"scatter3d\"}],\"scattercarpet\":[{\"marker\":{\"colorbar\":{\"outlinewidth\":0,\"ticks\":\"\"}},\"type\":\"scattercarpet\"}],\"scattergeo\":[{\"marker\":{\"colorbar\":{\"outlinewidth\":0,\"ticks\":\"\"}},\"type\":\"scattergeo\"}],\"scattergl\":[{\"marker\":{\"colorbar\":{\"outlinewidth\":0,\"ticks\":\"\"}},\"type\":\"scattergl\"}],\"scattermapbox\":[{\"marker\":{\"colorbar\":{\"outlinewidth\":0,\"ticks\":\"\"}},\"type\":\"scattermapbox\"}],\"scatterpolargl\":[{\"marker\":{\"colorbar\":{\"outlinewidth\":0,\"ticks\":\"\"}},\"type\":\"scatterpolargl\"}],\"scatterpolar\":[{\"marker\":{\"colorbar\":{\"outlinewidth\":0,\"ticks\":\"\"}},\"type\":\"scatterpolar\"}],\"scatter\":[{\"marker\":{\"colorbar\":{\"outlinewidth\":0,\"ticks\":\"\"}},\"type\":\"scatter\"}],\"scatterternary\":[{\"marker\":{\"colorbar\":{\"outlinewidth\":0,\"ticks\":\"\"}},\"type\":\"scatterternary\"}],\"surface\":[{\"colorbar\":{\"outlinewidth\":0,\"ticks\":\"\"},\"colorscale\":[[0.0,\"#0d0887\"],[0.1111111111111111,\"#46039f\"],[0.2222222222222222,\"#7201a8\"],[0.3333333333333333,\"#9c179e\"],[0.4444444444444444,\"#bd3786\"],[0.5555555555555556,\"#d8576b\"],[0.6666666666666666,\"#ed7953\"],[0.7777777777777778,\"#fb9f3a\"],[0.8888888888888888,\"#fdca26\"],[1.0,\"#f0f921\"]],\"type\":\"surface\"}],\"table\":[{\"cells\":{\"fill\":{\"color\":\"#EBF0F8\"},\"line\":{\"color\":\"white\"}},\"header\":{\"fill\":{\"color\":\"#C8D4E3\"},\"line\":{\"color\":\"white\"}},\"type\":\"table\"}]},\"layout\":{\"annotationdefaults\":{\"arrowcolor\":\"#2a3f5f\",\"arrowhead\":0,\"arrowwidth\":1},\"autotypenumbers\":\"strict\",\"coloraxis\":{\"colorbar\":{\"outlinewidth\":0,\"ticks\":\"\"}},\"colorscale\":{\"diverging\":[[0,\"#8e0152\"],[0.1,\"#c51b7d\"],[0.2,\"#de77ae\"],[0.3,\"#f1b6da\"],[0.4,\"#fde0ef\"],[0.5,\"#f7f7f7\"],[0.6,\"#e6f5d0\"],[0.7,\"#b8e186\"],[0.8,\"#7fbc41\"],[0.9,\"#4d9221\"],[1,\"#276419\"]],\"sequential\":[[0.0,\"#0d0887\"],[0.1111111111111111,\"#46039f\"],[0.2222222222222222,\"#7201a8\"],[0.3333333333333333,\"#9c179e\"],[0.4444444444444444,\"#bd3786\"],[0.5555555555555556,\"#d8576b\"],[0.6666666666666666,\"#ed7953\"],[0.7777777777777778,\"#fb9f3a\"],[0.8888888888888888,\"#fdca26\"],[1.0,\"#f0f921\"]],\"sequentialminus\":[[0.0,\"#0d0887\"],[0.1111111111111111,\"#46039f\"],[0.2222222222222222,\"#7201a8\"],[0.3333333333333333,\"#9c179e\"],[0.4444444444444444,\"#bd3786\"],[0.5555555555555556,\"#d8576b\"],[0.6666666666666666,\"#ed7953\"],[0.7777777777777778,\"#fb9f3a\"],[0.8888888888888888,\"#fdca26\"],[1.0,\"#f0f921\"]]},\"colorway\":[\"#636efa\",\"#EF553B\",\"#00cc96\",\"#ab63fa\",\"#FFA15A\",\"#19d3f3\",\"#FF6692\",\"#B6E880\",\"#FF97FF\",\"#FECB52\"],\"font\":{\"color\":\"#2a3f5f\"},\"geo\":{\"bgcolor\":\"white\",\"lakecolor\":\"white\",\"landcolor\":\"white\",\"showlakes\":true,\"showland\":true,\"subunitcolor\":\"#C8D4E3\"},\"hoverlabel\":{\"align\":\"left\"},\"hovermode\":\"closest\",\"mapbox\":{\"style\":\"light\"},\"paper_bgcolor\":\"white\",\"plot_bgcolor\":\"white\",\"polar\":{\"angularaxis\":{\"gridcolor\":\"#EBF0F8\",\"linecolor\":\"#EBF0F8\",\"ticks\":\"\"},\"bgcolor\":\"white\",\"radialaxis\":{\"gridcolor\":\"#EBF0F8\",\"linecolor\":\"#EBF0F8\",\"ticks\":\"\"}},\"scene\":{\"xaxis\":{\"backgroundcolor\":\"white\",\"gridcolor\":\"#DFE8F3\",\"gridwidth\":2,\"linecolor\":\"#EBF0F8\",\"showbackground\":true,\"ticks\":\"\",\"zerolinecolor\":\"#EBF0F8\"},\"yaxis\":{\"backgroundcolor\":\"white\",\"gridcolor\":\"#DFE8F3\",\"gridwidth\":2,\"linecolor\":\"#EBF0F8\",\"showbackground\":true,\"ticks\":\"\",\"zerolinecolor\":\"#EBF0F8\"},\"zaxis\":{\"backgroundcolor\":\"white\",\"gridcolor\":\"#DFE8F3\",\"gridwidth\":2,\"linecolor\":\"#EBF0F8\",\"showbackground\":true,\"ticks\":\"\",\"zerolinecolor\":\"#EBF0F8\"}},\"shapedefaults\":{\"line\":{\"color\":\"#2a3f5f\"}},\"ternary\":{\"aaxis\":{\"gridcolor\":\"#DFE8F3\",\"linecolor\":\"#A2B1C6\",\"ticks\":\"\"},\"baxis\":{\"gridcolor\":\"#DFE8F3\",\"linecolor\":\"#A2B1C6\",\"ticks\":\"\"},\"bgcolor\":\"white\",\"caxis\":{\"gridcolor\":\"#DFE8F3\",\"linecolor\":\"#A2B1C6\",\"ticks\":\"\"}},\"title\":{\"x\":0.05},\"xaxis\":{\"automargin\":true,\"gridcolor\":\"#EBF0F8\",\"linecolor\":\"#EBF0F8\",\"ticks\":\"\",\"title\":{\"standoff\":15},\"zerolinecolor\":\"#EBF0F8\",\"zerolinewidth\":2},\"yaxis\":{\"automargin\":true,\"gridcolor\":\"#EBF0F8\",\"linecolor\":\"#EBF0F8\",\"ticks\":\"\",\"title\":{\"standoff\":15},\"zerolinecolor\":\"#EBF0F8\",\"zerolinewidth\":2}}},\"xaxis\":{\"range\":[0,10],\"tick0\":1,\"dtick\":2,\"title\":{\"text\":\"Term Rank\"}},\"title\":{\"font\":{\"size\":22,\"color\":\"Black\"},\"text\":\"<b>Term score decline per Topic</b>\",\"y\":0.9,\"x\":0.5,\"xanchor\":\"center\",\"yanchor\":\"top\"},\"hoverlabel\":{\"font\":{\"size\":16,\"family\":\"Rockwell\"},\"bgcolor\":\"white\"},\"showlegend\":false,\"width\":800,\"height\":500,\"yaxis\":{\"title\":{\"text\":\"c-TF-IDF score\"}}},                        {\"responsive\": true}                    ).then(function(){\n",
              "                            \n",
              "var gd = document.getElementById('9e26b79e-4129-493f-8abf-6aeafc2648be');\n",
              "var x = new MutationObserver(function (mutations, observer) {{\n",
              "        var display = window.getComputedStyle(gd).display;\n",
              "        if (!display || display === 'none') {{\n",
              "            console.log([gd, 'removed!']);\n",
              "            Plotly.purge(gd);\n",
              "            observer.disconnect();\n",
              "        }}\n",
              "}});\n",
              "\n",
              "// Listen for the removal of the full notebook cells\n",
              "var notebookContainer = gd.closest('#notebook-container');\n",
              "if (notebookContainer) {{\n",
              "    x.observe(notebookContainer, {childList: true});\n",
              "}}\n",
              "\n",
              "// Listen for the clearing of the current output cell\n",
              "var outputEl = gd.closest('.output');\n",
              "if (outputEl) {{\n",
              "    x.observe(outputEl, {childList: true});\n",
              "}}\n",
              "\n",
              "                        })                };                            </script>        </div>\n",
              "</body>\n",
              "</html>"
            ]
          },
          "metadata": {}
        }
      ]
    },
    {
      "cell_type": "markdown",
      "source": [
        "#### **Save Term score decline per Topic**"
      ],
      "metadata": {
        "id": "6UXg4gpFpwZg"
      }
    },
    {
      "cell_type": "code",
      "source": [
        "# Set the path to save \n",
        "path = f'/content/Topic-Modeling-Reclame-Aqui/results/{DATA_FRAME_FEATURE_NAME}/term_score_decline_topic/'\n",
        "\n",
        "# Use makedirs() to create a new directory if it does not exists\n",
        "if not os.path.exists(path):\n",
        "  os.makedirs(path)\n",
        "\n",
        "\n",
        "fig.write_image(path + \"tsdp_preprocessed_lemma.png\", format=\"png\")"
      ],
      "metadata": {
        "id": "F5Gppkjpp0hS"
      },
      "execution_count": 174,
      "outputs": []
    },
    {
      "cell_type": "markdown",
      "source": [
        "[Github link](https://github.com/punkmic/Topic-Modeling-Reclame-Aqui/blob/master/results/term_socore_decline_topic/tsdp_preprocessed_lemma.png?raw=true)"
      ],
      "metadata": {
        "id": "QERxP9EspLjX"
      }
    },
    {
      "cell_type": "markdown",
      "source": [
        "### **Term search**"
      ],
      "metadata": {
        "id": "AZIV-p12ZMXa"
      }
    },
    {
      "cell_type": "code",
      "source": [
        "# Find topics that contains blackfriday term\n",
        "similar_topics, similarity = topic_model.find_topics(\"blackfriday\", top_n=5)\n",
        "\n",
        "# Show similar topics\n",
        "similar_topics"
      ],
      "metadata": {
        "id": "pHHayMGRZOob",
        "outputId": "31dd481a-02e6-430b-e7fc-ee112a089931",
        "colab": {
          "base_uri": "https://localhost:8080/"
        }
      },
      "execution_count": 175,
      "outputs": [
        {
          "output_type": "execute_result",
          "data": {
            "text/plain": [
              "[12, 72, 29, 34, 69]"
            ]
          },
          "metadata": {},
          "execution_count": 175
        }
      ]
    },
    {
      "cell_type": "code",
      "source": [
        "# Show a specific topic\n",
        "topic_model.get_topic(64)"
      ],
      "metadata": {
        "id": "2BnwvRotZUya",
        "outputId": "850999cf-48de-4703-a2a1-817482b4e1a4",
        "colab": {
          "base_uri": "https://localhost:8080/"
        }
      },
      "execution_count": 176,
      "outputs": [
        {
          "output_type": "execute_result",
          "data": {
            "text/plain": [
              "[('chat', 0.04389444342724184),\n",
              " ('desbloqueio', 0.028855653461456767),\n",
              " ('autoatendimento', 0.027554047823656808),\n",
              " ('preciso', 0.025309334157012094),\n",
              " ('insatisfação', 0.02478232909919437),\n",
              " ('serviço', 0.02159723247698404),\n",
              " ('sugirar', 0.02150073700320711),\n",
              " ('falar', 0.02085206565546488),\n",
              " ('batepapo', 0.020044331853462258),\n",
              " ('atendimento', 0.019160721090437746)]"
            ]
          },
          "metadata": {},
          "execution_count": 176
        }
      ]
    },
    {
      "cell_type": "markdown",
      "source": [
        "### **Hiperparameter optimization**"
      ],
      "metadata": {
        "id": "f3Q_mQRNPRhr"
      }
    },
    {
      "cell_type": "code",
      "source": [
        "%%capture\n",
        "!pip install optuna\n",
        "!pip install hdbscan\n",
        "!pip install umap-learn"
      ],
      "metadata": {
        "id": "5vxgob5fPpc1"
      },
      "execution_count": 177,
      "outputs": []
    },
    {
      "cell_type": "code",
      "source": [
        "import json\n",
        "import optuna # for hyperparameter optimization\n",
        "from hdbscan import HDBSCAN # for clustering\n",
        "from umap import UMAP # for dimension reduction\n",
        "from sklearn.feature_extraction.text import CountVectorizer # for convert text documents to matrix of tokens count\n",
        "from bertopic.vectorizers import ClassTfidfTransformer \n",
        "import ast # for convert str to tuple"
      ],
      "metadata": {
        "id": "qQOTWqh-PTwV"
      },
      "execution_count": 178,
      "outputs": []
    },
    {
      "cell_type": "code",
      "source": [
        "def save_documents(model, corpus, label, reduced):\n",
        "  fig = topic_model.visualize_documents(corpus, hide_document_hover=True, hide_annotations=True, width=800, height=800)\n",
        "\n",
        "  # Set the path to save \n",
        "  path = f'/content/Topic-Modeling-Reclame-Aqui/results/{DATA_FRAME_FEATURE_NAME}/documents_n_topics/'\n",
        "\n",
        "  if reduced:\n",
        "    path = path + 'reduced/'\n",
        "\n",
        "  # Use makedirs() to create a new directory if it does not exists\n",
        "  if not os.path.exists(path):\n",
        "    os.makedirs(path)\n",
        "\n",
        "  fig.write_image(path + f\"document_n_topics_trial_{label}.png\", format=\"png\")\n",
        "  fig.write_html(path + f\"document_n_topics_trial_{label}.html\")"
      ],
      "metadata": {
        "id": "O-l1u6wucN1m"
      },
      "execution_count": 179,
      "outputs": []
    },
    {
      "cell_type": "code",
      "source": [
        "def save_topics(model, label, reduced=False):\n",
        "  fig = model.visualize_topics(width=800, height=800)\n",
        "\n",
        "  # Set the path to save \n",
        "  path = f'/content/Topic-Modeling-Reclame-Aqui/results/{DATA_FRAME_FEATURE_NAME}/intertopic_distance_map/'\n",
        "\n",
        "  if reduced:\n",
        "    path = path + 'reduced/'\n",
        "\n",
        "  # Use makedirs() to create a new directory if it does not exists\n",
        "  if not os.path.exists(path):\n",
        "    os.makedirs(path)\n",
        "\n",
        "  fig.write_image(path + f\"intertopic_distance_map_trial_{label}.png\", format=\"png\")\n",
        "  fig.write_html(path + f\"intertopic_distance_map_trial_{label}.html\")"
      ],
      "metadata": {
        "id": "zEr6GcxHZptw"
      },
      "execution_count": 180,
      "outputs": []
    },
    {
      "cell_type": "code",
      "source": [
        "def save_hierarchy(model, label, reduced=False):\n",
        "  fig = model.visualize_hierarchy(width=800, height=800)\n",
        "\n",
        "  # Set the path to save \n",
        "  path = f'/content/Topic-Modeling-Reclame-Aqui/results/{DATA_FRAME_FEATURE_NAME}/hierarchical_clustering/'\n",
        "\n",
        "  if reduced:\n",
        "    path = path + 'reduced/'\n",
        "\n",
        "  # Use makedirs() to create a new directory if it does not exists\n",
        "  if not os.path.exists(path):\n",
        "    os.makedirs(path)\n",
        "\n",
        "  fig.write_image(path + f\"hierarchical_clustering_trial_{label}.png\", format=\"png\")\n",
        "  fig.write_html(path + f\"hierarchical_clustering_trial_{label}.html\")"
      ],
      "metadata": {
        "id": "9XqbXn0KZ3r1"
      },
      "execution_count": 181,
      "outputs": []
    },
    {
      "cell_type": "code",
      "source": [
        "def save_top_words_scores(model, label, reduced=False):\n",
        "  fig = model.visualize_barchart(top_n_topics=12, width=300, height=300)\n",
        "\n",
        "  # Set the path to save \n",
        "  path = f'/content/Topic-Modeling-Reclame-Aqui/results/{DATA_FRAME_FEATURE_NAME}/top_words_scores/'\n",
        "\n",
        "  if reduced:\n",
        "    path = path + 'reduced/'\n",
        "\n",
        "  # Use makedirs() to create a new directory if it does not exists\n",
        "  if not os.path.exists(path):\n",
        "    os.makedirs(path)\n",
        "\n",
        "  fig.write_image(path + f\"top_words_scores_trial_{label}.png\", format=\"png\")\n",
        "  fig.write_html(path + f\"top_words_scores_trial_{label}.html\")"
      ],
      "metadata": {
        "id": "A_21t9rmZ4Pr"
      },
      "execution_count": 182,
      "outputs": []
    },
    {
      "cell_type": "code",
      "source": [
        "def save_similarity_matrix(model, label, reduced=False):\n",
        "  fig = model.visualize_heatmap()\n",
        "\n",
        "  # Set the path to save \n",
        "  path = f'/content/Topic-Modeling-Reclame-Aqui/results/{DATA_FRAME_FEATURE_NAME}/similarity_matrix/'\n",
        "\n",
        "  if reduced:\n",
        "    path = path + 'reduced/'\n",
        "\n",
        "  # Use makedirs() to create a new directory if it does not exists\n",
        "  if not os.path.exists(path):\n",
        "    os.makedirs(path)\n",
        "\n",
        "  fig.write_image(path + f\"similarity_matrix_trial_{label}.png\", format=\"png\")\n",
        "  fig.write_html(path + f\"similarity_matrix_trial_{label}.html\")"
      ],
      "metadata": {
        "id": "lTV5l7q7Z45m"
      },
      "execution_count": 183,
      "outputs": []
    },
    {
      "cell_type": "code",
      "source": [
        "def save_term_rank(model, label, reduced=False):\n",
        "  fig = model.visualize_term_rank(width=800, height=800)\n",
        "\n",
        "  # Set the path to save \n",
        "  path = f'/content/Topic-Modeling-Reclame-Aqui/results/{DATA_FRAME_FEATURE_NAME}/term_score_decline_topic/'\n",
        "\n",
        "  if reduced:\n",
        "    path = path + 'reduced/'\n",
        "\n",
        "  # Use makedirs() to create a new directory if it does not exists\n",
        "  if not os.path.exists(path):\n",
        "    os.makedirs(path)\n",
        "\n",
        "  fig.write_image(path + f\"term_score_trial_{label}.png\", format=\"png\")\n",
        "  fig.write_html(path + f\"term_score_trial_{label}.html\")"
      ],
      "metadata": {
        "id": "Ag4Yv6r2bfeR"
      },
      "execution_count": 184,
      "outputs": []
    },
    {
      "cell_type": "code",
      "source": [
        "def save_hyperparameters(trial_params, label):\n",
        "  # Set the path to save \n",
        "  path = f'/content/Topic-Modeling-Reclame-Aqui/results/{DATA_FRAME_FEATURE_NAME}/hyperparameters/'\n",
        "\n",
        "  # Use makedirs() to create a new directory if it does not exists\n",
        "  if not os.path.exists(path):\n",
        "    os.makedirs(path)\n",
        "\n",
        "  with open(path + f\"hyperparameters_trial_{label}.json\", \"w\") as f:\n",
        "    f.write(json.dumps(trial_params))\n"
      ],
      "metadata": {
        "id": "3wuSDGh4dxlg"
      },
      "execution_count": 185,
      "outputs": []
    },
    {
      "cell_type": "code",
      "source": [
        "def save_freq_topics(model, label):\n",
        "   # Print the most frequent topics\n",
        "  freq = topic_model.get_topic_info()\n",
        "\n",
        "  # Show the top 5 most frequent topics\n",
        "  freq = freq.head(5)\n",
        "\n",
        "  # Set the path to save \n",
        "  path = f'/content/Topic-Modeling-Reclame-Aqui/results/{DATA_FRAME_FEATURE_NAME}/frequent_topics/' \n",
        "  freq.to_html(path + f\"freq_topics_trial_{label}.json\")\n",
        "  freq.to_csv(path + f\"freq_topics_trial_{label}.csv\")"
      ],
      "metadata": {
        "id": "DQcgSa44ZtdC"
      },
      "execution_count": 186,
      "outputs": []
    },
    {
      "cell_type": "code",
      "source": [
        "def optimizer(trial):\n",
        "\n",
        "  # BERTopic hyperparameters\n",
        "  top_n_words = trial.suggest_int('bertopic__top_n_words', 5, 14)\n",
        "  n_gram_range = ast.literal_eval(trial.suggest_categorical('bertopic__n_gram_range', ['(1,1)', '(1,2)', '(1,3)']))\n",
        "  min_topic_size = trial.suggest_int('bertopic__min_topic_size', 15, 20)\n",
        "  diversity = trial.suggest_float('bertopic__diversity', 0.1, 0.9)\n",
        "  outlier_threshold = trial.suggest_float('bertopic__outliers_threshold', 0.04, 0.09)\n",
        "  nr_topics = trial.suggest_int('bertopic__nr_topics', 12, 20)\n",
        "\n",
        "  # UMAP hyperparameters\n",
        "  n_neighbors = trial.suggest_int('umap__n_neighbors', 10, 20)\n",
        "  n_components = trial.suggest_int('umap__n_components', 2, 6)\n",
        "  metric = trial.suggest_categorical('umap__metric', ['cosine', 'euclidean'])\n",
        "  min_dist = trial.suggest_float('umap__min_dist', 0.1, 1.0)\n",
        "  spread = trial.suggest_float('umap__spread', 0.1, 1.0)\n",
        "\n",
        "  # HDBSCAN hyperprarameters\n",
        "  min_cluster_size = trial.suggest_int('hdbscan__min_cluster_size', 10, 20)\n",
        "  min_samples = trial.suggest_int('hdbscan__min_samples', 10, 20)\n",
        "  cluster_selection_epsilon = trial.suggest_float('hdbscan__cluster_selection_epsilon', 0.1, 1.0)\n",
        "\n",
        "  # CountVectorizer hyperparameters \n",
        "  max_features = trial.suggest_int('vectorizer__max_features', 3000, 6000)\n",
        "\n",
        "  # reduce the impact of frequent words.\n",
        "  ctfidf_model = ClassTfidfTransformer(reduce_frequent_words=True)\n",
        "\n",
        "  # list of portuguese stop words + custom words\n",
        "  stop_words = nltk.corpus.stopwords.words('portuguese') + custom_stop_words\n",
        "\n",
        "  # create a new CountVectorizer to create a matrix of tokens count\n",
        "  vectorizer_model = CountVectorizer(stop_words=stop_words, ngram_range=n_gram_range, max_features=max_features)\n",
        "\n",
        "  # create a new UMAP model to reduce dimension\n",
        "  umap_model = UMAP(n_neighbors=n_neighbors, metric=metric, random_state=42)\n",
        "\n",
        "  # create a new HDBSCAN model to cluster documents\n",
        "  hdbscan_model = HDBSCAN(min_cluster_size=min_cluster_size, prediction_data=True)\n",
        "\n",
        "  # create a new BERTopic model using multilingual option\n",
        "  model = BERTopic(language=\"multilingual\", \n",
        "                         calculate_probabilities=True, \n",
        "                         verbose=False,\n",
        "                         nr_topics='auto',\n",
        "                         top_n_words=top_n_words,\n",
        "                         n_gram_range=n_gram_range,\n",
        "                         min_topic_size=min_topic_size,\n",
        "                         diversity=diversity,\n",
        "                         umap_model=umap_model,\n",
        "                         hdbscan_model=hdbscan_model,\n",
        "                         vectorizer_model=vectorizer_model,\n",
        "                         ctfidf_model=ctfidf_model)\n",
        "  \n",
        "  label = trial.number\n",
        "  params = trial.params\n",
        "\n",
        "  # train BERTopic model \n",
        "  topics, probs = model.fit_transform(corpus)\n",
        "\n",
        "  # save plots\n",
        "  save_topics(model, label, False)\n",
        "  save_documents(model, corpus, label, False)\n",
        "  save_hierarchy(model, label, False)\n",
        "  ##save_similarity_matrix(model, label, False)\n",
        "  save_term_rank(model, label, False)\n",
        "  save_top_words_scores(model, label, False)\n",
        "\n",
        "  # reduce outliers\n",
        "  new_topics = model.reduce_outliers(corpus,\n",
        "                                     topics, \n",
        "                                     probabilities=probs,\n",
        "                                     strategy=\"probabilities\",\n",
        "                                     threshold=outlier_threshold)\n",
        "  \n",
        "  # update model topics after outlier reduction\n",
        "  model.update_topics(corpus, topics=new_topics)\n",
        "\n",
        "  # save plots after reducion\n",
        "  save_topics(model, label, True)\n",
        "  save_documents(model, corpus, label, True)\n",
        "  save_hierarchy(model, label, True)\n",
        "  ##save_similarity_matrix(model, label, True)\n",
        "  save_term_rank(model, label, True)\n",
        "  save_top_words_scores(model, label, True)\n",
        "\n",
        "  # save hyperparameters\n",
        "  save_hyperparameters(params, label)\n",
        "\n",
        "  # save reduction result\n",
        "  save_freq_topics(model, label)\n",
        "\n",
        "  # save model\n",
        "  path = f'/content/Topic-Modeling-Reclame-Aqui/results/{DATA_FRAME_FEATURE_NAME}/models/'\n",
        "\n",
        "  # Use makedirs() to create a new directory if it does not exists\n",
        "  if not os.path.exists(path):\n",
        "    os.makedirs(path)\n",
        "\n",
        "  model.save(path + f\"model_trial_{label}\")\n",
        "\n",
        "  return 0"
      ],
      "metadata": {
        "id": "O87BZ5kyQEvZ"
      },
      "execution_count": 187,
      "outputs": []
    },
    {
      "cell_type": "code",
      "source": [
        "%%time\n",
        "# define the number of models to generate by optuna\n",
        "NUMBER_OF_MODELS = 15\n",
        "\n",
        "# create a new study\n",
        "study = optuna.create_study(study_name='Bertopic')\n",
        "\n",
        "# run the optmize function \n",
        "study.optimize(optimizer, n_trials=NUMBER_OF_MODELS)"
      ],
      "metadata": {
        "id": "57mnK6MfYAp4",
        "colab": {
          "base_uri": "https://localhost:8080/",
          "height": 1000
        },
        "outputId": "51275c23-262a-4173-84cc-3a2abef618c5"
      },
      "execution_count": 89,
      "outputs": [
        {
          "output_type": "stream",
          "name": "stderr",
          "text": [
            "\u001b[32m[I 2023-01-06 19:21:56,054]\u001b[0m A new study created in memory with name: Bertopic\u001b[0m\n",
            "2023-01-06 19:22:15,230 - BERTopic - Transformed documents to Embeddings\n",
            "2023-01-06 19:22:35,132 - BERTopic - Reduced dimensionality\n",
            "2023-01-06 19:22:37,271 - BERTopic - Clustered reduced embeddings\n",
            "2023-01-06 19:22:42,540 - BERTopic - Reduced number of topics from 14 to 14\n",
            "\u001b[32m[I 2023-01-06 19:23:54,203]\u001b[0m Trial 0 finished with value: 0.0 and parameters: {'bertopic__top_n_words': 5, 'bertopic__n_gram_range': '(1,1)', 'bertopic__min_topic_size': 15, 'bertopic__diversity': 0.746830833426787, 'bertopic__outliers_threshold': 0.06411398360593415, 'bertopic__nr_topics': 14, 'umap__n_neighbors': 15, 'umap__n_components': 6, 'umap__metric': 'euclidean', 'umap__min_dist': 0.25133308240297303, 'umap__spread': 0.11373918912306409, 'hdbscan__min_cluster_size': 20, 'hdbscan__min_samples': 12, 'hdbscan__cluster_selection_epsilon': 0.11754072133120577, 'vectorizer__max_features': 4868}. Best is trial 0 with value: 0.0.\u001b[0m\n",
            "2023-01-06 19:24:12,647 - BERTopic - Transformed documents to Embeddings\n",
            "2023-01-06 19:24:26,393 - BERTopic - Reduced dimensionality\n",
            "2023-01-06 19:24:27,565 - BERTopic - Clustered reduced embeddings\n",
            "2023-01-06 19:24:34,531 - BERTopic - Reduced number of topics from 21 to 21\n",
            "\u001b[32m[I 2023-01-06 19:25:54,704]\u001b[0m Trial 1 finished with value: 0.0 and parameters: {'bertopic__top_n_words': 13, 'bertopic__n_gram_range': '(1,2)', 'bertopic__min_topic_size': 20, 'bertopic__diversity': 0.8461359798486624, 'bertopic__outliers_threshold': 0.0865088293053683, 'bertopic__nr_topics': 14, 'umap__n_neighbors': 12, 'umap__n_components': 6, 'umap__metric': 'euclidean', 'umap__min_dist': 0.9442704986949149, 'umap__spread': 0.5350744839069305, 'hdbscan__min_cluster_size': 17, 'hdbscan__min_samples': 10, 'hdbscan__cluster_selection_epsilon': 0.7394533737440608, 'vectorizer__max_features': 5070}. Best is trial 0 with value: 0.0.\u001b[0m\n",
            "2023-01-06 19:26:11,321 - BERTopic - Transformed documents to Embeddings\n",
            "2023-01-06 19:26:26,846 - BERTopic - Reduced dimensionality\n",
            "2023-01-06 19:26:27,892 - BERTopic - Clustered reduced embeddings\n",
            "2023-01-06 19:26:35,258 - BERTopic - Reduced number of topics from 12 to 12\n",
            "\u001b[32m[I 2023-01-06 19:27:53,750]\u001b[0m Trial 2 finished with value: 0.0 and parameters: {'bertopic__top_n_words': 11, 'bertopic__n_gram_range': '(1,2)', 'bertopic__min_topic_size': 18, 'bertopic__diversity': 0.48061455897361904, 'bertopic__outliers_threshold': 0.06115453337124922, 'bertopic__nr_topics': 20, 'umap__n_neighbors': 17, 'umap__n_components': 6, 'umap__metric': 'euclidean', 'umap__min_dist': 0.8104606008338715, 'umap__spread': 0.5791186476370384, 'hdbscan__min_cluster_size': 13, 'hdbscan__min_samples': 13, 'hdbscan__cluster_selection_epsilon': 0.4051198986302088, 'vectorizer__max_features': 5979}. Best is trial 0 with value: 0.0.\u001b[0m\n",
            "2023-01-06 19:28:12,004 - BERTopic - Transformed documents to Embeddings\n",
            "2023-01-06 19:28:26,958 - BERTopic - Reduced dimensionality\n",
            "2023-01-06 19:28:28,794 - BERTopic - Clustered reduced embeddings\n",
            "2023-01-06 19:28:32,830 - BERTopic - Reduced number of topics from 29 to 23\n",
            "\u001b[32m[I 2023-01-06 19:29:45,653]\u001b[0m Trial 3 finished with value: 0.0 and parameters: {'bertopic__top_n_words': 10, 'bertopic__n_gram_range': '(1,1)', 'bertopic__min_topic_size': 19, 'bertopic__diversity': 0.14973737535537676, 'bertopic__outliers_threshold': 0.04469057823633308, 'bertopic__nr_topics': 17, 'umap__n_neighbors': 15, 'umap__n_components': 2, 'umap__metric': 'cosine', 'umap__min_dist': 0.8775868496883112, 'umap__spread': 0.5620923855080658, 'hdbscan__min_cluster_size': 15, 'hdbscan__min_samples': 20, 'hdbscan__cluster_selection_epsilon': 0.5418988813510622, 'vectorizer__max_features': 4245}. Best is trial 0 with value: 0.0.\u001b[0m\n",
            "2023-01-06 19:30:02,003 - BERTopic - Transformed documents to Embeddings\n",
            "2023-01-06 19:30:15,427 - BERTopic - Reduced dimensionality\n",
            "2023-01-06 19:30:21,831 - BERTopic - Clustered reduced embeddings\n",
            "2023-01-06 19:30:35,333 - BERTopic - Reduced number of topics from 95 to 18\n",
            "\u001b[32m[I 2023-01-06 19:31:43,321]\u001b[0m Trial 4 finished with value: 0.0 and parameters: {'bertopic__top_n_words': 14, 'bertopic__n_gram_range': '(1,1)', 'bertopic__min_topic_size': 17, 'bertopic__diversity': 0.14367605397034558, 'bertopic__outliers_threshold': 0.07475876099620976, 'bertopic__nr_topics': 16, 'umap__n_neighbors': 13, 'umap__n_components': 2, 'umap__metric': 'cosine', 'umap__min_dist': 0.5182463000694892, 'umap__spread': 0.39697972611882726, 'hdbscan__min_cluster_size': 12, 'hdbscan__min_samples': 16, 'hdbscan__cluster_selection_epsilon': 0.49500907621478596, 'vectorizer__max_features': 3901}. Best is trial 0 with value: 0.0.\u001b[0m\n",
            "2023-01-06 19:32:00,430 - BERTopic - Transformed documents to Embeddings\n",
            "2023-01-06 19:32:18,893 - BERTopic - Reduced dimensionality\n",
            "2023-01-06 19:32:21,085 - BERTopic - Clustered reduced embeddings\n",
            "2023-01-06 19:32:24,368 - BERTopic - Reduced number of topics from 27 to 10\n",
            "\u001b[32m[I 2023-01-06 19:33:34,213]\u001b[0m Trial 5 finished with value: 0.0 and parameters: {'bertopic__top_n_words': 7, 'bertopic__n_gram_range': '(1,1)', 'bertopic__min_topic_size': 18, 'bertopic__diversity': 0.6252879206247676, 'bertopic__outliers_threshold': 0.0425297249126716, 'bertopic__nr_topics': 18, 'umap__n_neighbors': 12, 'umap__n_components': 6, 'umap__metric': 'euclidean', 'umap__min_dist': 0.8551420700704142, 'umap__spread': 0.13889099668706387, 'hdbscan__min_cluster_size': 11, 'hdbscan__min_samples': 17, 'hdbscan__cluster_selection_epsilon': 0.5277780436176482, 'vectorizer__max_features': 3873}. Best is trial 0 with value: 0.0.\u001b[0m\n",
            "2023-01-06 19:33:50,548 - BERTopic - Transformed documents to Embeddings\n",
            "2023-01-06 19:34:04,575 - BERTopic - Reduced dimensionality\n",
            "2023-01-06 19:34:05,626 - BERTopic - Clustered reduced embeddings\n",
            "2023-01-06 19:34:08,643 - BERTopic - Reduced number of topics from 15 to 15\n",
            "\u001b[32m[I 2023-01-06 19:35:18,265]\u001b[0m Trial 6 finished with value: 0.0 and parameters: {'bertopic__top_n_words': 10, 'bertopic__n_gram_range': '(1,1)', 'bertopic__min_topic_size': 16, 'bertopic__diversity': 0.6998729377561357, 'bertopic__outliers_threshold': 0.07467814208460849, 'bertopic__nr_topics': 20, 'umap__n_neighbors': 13, 'umap__n_components': 2, 'umap__metric': 'euclidean', 'umap__min_dist': 0.9669716146366326, 'umap__spread': 0.7151566044476736, 'hdbscan__min_cluster_size': 15, 'hdbscan__min_samples': 10, 'hdbscan__cluster_selection_epsilon': 0.7104627478689681, 'vectorizer__max_features': 4162}. Best is trial 0 with value: 0.0.\u001b[0m\n",
            "2023-01-06 19:35:34,631 - BERTopic - Transformed documents to Embeddings\n",
            "2023-01-06 19:35:52,625 - BERTopic - Reduced dimensionality\n",
            "2023-01-06 19:35:54,464 - BERTopic - Clustered reduced embeddings\n",
            "2023-01-06 19:36:02,638 - BERTopic - Reduced number of topics from 12 to 12\n",
            "\u001b[32m[I 2023-01-06 19:37:12,099]\u001b[0m Trial 7 finished with value: 0.0 and parameters: {'bertopic__top_n_words': 6, 'bertopic__n_gram_range': '(1,2)', 'bertopic__min_topic_size': 18, 'bertopic__diversity': 0.24192062721174976, 'bertopic__outliers_threshold': 0.07203680574356533, 'bertopic__nr_topics': 16, 'umap__n_neighbors': 14, 'umap__n_components': 6, 'umap__metric': 'euclidean', 'umap__min_dist': 0.8906461416772852, 'umap__spread': 0.23616411329203982, 'hdbscan__min_cluster_size': 12, 'hdbscan__min_samples': 19, 'hdbscan__cluster_selection_epsilon': 0.674992524087891, 'vectorizer__max_features': 5368}. Best is trial 0 with value: 0.0.\u001b[0m\n",
            "2023-01-06 19:37:29,695 - BERTopic - Transformed documents to Embeddings\n",
            "2023-01-06 19:37:48,290 - BERTopic - Reduced dimensionality\n",
            "2023-01-06 19:37:49,263 - BERTopic - Clustered reduced embeddings\n",
            "2023-01-06 19:37:55,547 - BERTopic - Reduced number of topics from 12 to 12\n",
            "\u001b[32m[I 2023-01-06 19:39:14,762]\u001b[0m Trial 8 finished with value: 0.0 and parameters: {'bertopic__top_n_words': 13, 'bertopic__n_gram_range': '(1,2)', 'bertopic__min_topic_size': 20, 'bertopic__diversity': 0.565311494042093, 'bertopic__outliers_threshold': 0.08265272339814092, 'bertopic__nr_topics': 19, 'umap__n_neighbors': 17, 'umap__n_components': 5, 'umap__metric': 'euclidean', 'umap__min_dist': 0.15992691418141897, 'umap__spread': 0.3842734321552167, 'hdbscan__min_cluster_size': 18, 'hdbscan__min_samples': 11, 'hdbscan__cluster_selection_epsilon': 0.13705137113887828, 'vectorizer__max_features': 3412}. Best is trial 0 with value: 0.0.\u001b[0m\n",
            "2023-01-06 19:39:32,288 - BERTopic - Transformed documents to Embeddings\n",
            "2023-01-06 19:39:44,311 - BERTopic - Reduced dimensionality\n",
            "2023-01-06 19:39:46,195 - BERTopic - Clustered reduced embeddings\n",
            "2023-01-06 19:39:50,660 - BERTopic - Reduced number of topics from 30 to 30\n",
            "\u001b[32m[I 2023-01-06 19:41:03,580]\u001b[0m Trial 9 finished with value: 0.0 and parameters: {'bertopic__top_n_words': 13, 'bertopic__n_gram_range': '(1,1)', 'bertopic__min_topic_size': 17, 'bertopic__diversity': 0.791618313312353, 'bertopic__outliers_threshold': 0.06122546757647052, 'bertopic__nr_topics': 13, 'umap__n_neighbors': 10, 'umap__n_components': 6, 'umap__metric': 'cosine', 'umap__min_dist': 0.19818994233930257, 'umap__spread': 0.6121359067793032, 'hdbscan__min_cluster_size': 15, 'hdbscan__min_samples': 14, 'hdbscan__cluster_selection_epsilon': 0.42671842284846306, 'vectorizer__max_features': 5708}. Best is trial 0 with value: 0.0.\u001b[0m\n",
            "2023-01-06 19:41:22,471 - BERTopic - Transformed documents to Embeddings\n",
            "2023-01-06 19:41:42,757 - BERTopic - Reduced dimensionality\n",
            "2023-01-06 19:41:43,786 - BERTopic - Clustered reduced embeddings\n",
            "2023-01-06 19:41:55,704 - BERTopic - Reduced number of topics from 16 to 16\n",
            "\u001b[32m[I 2023-01-06 19:43:16,704]\u001b[0m Trial 10 finished with value: 0.0 and parameters: {'bertopic__top_n_words': 5, 'bertopic__n_gram_range': '(1,3)', 'bertopic__min_topic_size': 15, 'bertopic__diversity': 0.4235442543162875, 'bertopic__outliers_threshold': 0.053634957587181654, 'bertopic__nr_topics': 12, 'umap__n_neighbors': 20, 'umap__n_components': 4, 'umap__metric': 'euclidean', 'umap__min_dist': 0.39257899009870706, 'umap__spread': 0.9968461090624116, 'hdbscan__min_cluster_size': 20, 'hdbscan__min_samples': 12, 'hdbscan__cluster_selection_epsilon': 0.9810555407139644, 'vectorizer__max_features': 4695}. Best is trial 0 with value: 0.0.\u001b[0m\n",
            "2023-01-06 19:43:35,873 - BERTopic - Transformed documents to Embeddings\n",
            "2023-01-06 19:43:57,166 - BERTopic - Reduced dimensionality\n",
            "2023-01-06 19:43:57,946 - BERTopic - Clustered reduced embeddings\n",
            "2023-01-06 19:44:11,197 - BERTopic - Reduced number of topics from 7 to 7\n",
            "\u001b[32m[I 2023-01-06 19:45:47,879]\u001b[0m Trial 11 finished with value: 0.0 and parameters: {'bertopic__top_n_words': 8, 'bertopic__n_gram_range': '(1,3)', 'bertopic__min_topic_size': 15, 'bertopic__diversity': 0.8994004054876489, 'bertopic__outliers_threshold': 0.0898033320156379, 'bertopic__nr_topics': 14, 'umap__n_neighbors': 10, 'umap__n_components': 4, 'umap__metric': 'euclidean', 'umap__min_dist': 0.6580647838541949, 'umap__spread': 0.8124600795115974, 'hdbscan__min_cluster_size': 18, 'hdbscan__min_samples': 10, 'hdbscan__cluster_selection_epsilon': 0.10811331542848923, 'vectorizer__max_features': 4947}. Best is trial 0 with value: 0.0.\u001b[0m\n",
            "2023-01-06 19:46:05,426 - BERTopic - Transformed documents to Embeddings\n",
            "2023-01-06 19:46:29,024 - BERTopic - Reduced dimensionality\n",
            "2023-01-06 19:46:30,525 - BERTopic - Clustered reduced embeddings\n",
            "2023-01-06 19:46:38,268 - BERTopic - Reduced number of topics from 14 to 14\n",
            "\u001b[32m[I 2023-01-06 19:48:05,725]\u001b[0m Trial 12 finished with value: 0.0 and parameters: {'bertopic__top_n_words': 8, 'bertopic__n_gram_range': '(1,2)', 'bertopic__min_topic_size': 20, 'bertopic__diversity': 0.8904091149260074, 'bertopic__outliers_threshold': 0.06753071363237483, 'bertopic__nr_topics': 14, 'umap__n_neighbors': 17, 'umap__n_components': 5, 'umap__metric': 'euclidean', 'umap__min_dist': 0.3391649025110841, 'umap__spread': 0.33447523430374376, 'hdbscan__min_cluster_size': 20, 'hdbscan__min_samples': 12, 'hdbscan__cluster_selection_epsilon': 0.8875578312746322, 'vectorizer__max_features': 5138}. Best is trial 0 with value: 0.0.\u001b[0m\n",
            "2023-01-06 19:48:27,441 - BERTopic - Transformed documents to Embeddings\n",
            "2023-01-06 19:48:42,713 - BERTopic - Reduced dimensionality\n",
            "2023-01-06 19:48:44,278 - BERTopic - Clustered reduced embeddings\n",
            "2023-01-06 19:48:59,558 - BERTopic - Reduced number of topics from 21 to 21\n",
            "\u001b[32m[I 2023-01-06 19:50:23,394]\u001b[0m Trial 13 finished with value: 0.0 and parameters: {'bertopic__top_n_words': 12, 'bertopic__n_gram_range': '(1,2)', 'bertopic__min_topic_size': 16, 'bertopic__diversity': 0.7383338418998517, 'bertopic__outliers_threshold': 0.05553891749718943, 'bertopic__nr_topics': 15, 'umap__n_neighbors': 12, 'umap__n_components': 5, 'umap__metric': 'euclidean', 'umap__min_dist': 0.6423990581782952, 'umap__spread': 0.13969225882941413, 'hdbscan__min_cluster_size': 18, 'hdbscan__min_samples': 14, 'hdbscan__cluster_selection_epsilon': 0.27296821200567173, 'vectorizer__max_features': 4785}. Best is trial 0 with value: 0.0.\u001b[0m\n",
            "2023-01-06 19:50:41,437 - BERTopic - Transformed documents to Embeddings\n",
            "2023-01-06 19:51:00,868 - BERTopic - Reduced dimensionality\n",
            "2023-01-06 19:51:01,706 - BERTopic - Clustered reduced embeddings\n",
            "2023-01-06 19:51:12,953 - BERTopic - Reduced number of topics from 9 to 9\n",
            "\u001b[32m[I 2023-01-06 19:52:43,140]\u001b[0m Trial 14 finished with value: 0.0 and parameters: {'bertopic__top_n_words': 5, 'bertopic__n_gram_range': '(1,3)', 'bertopic__min_topic_size': 19, 'bertopic__diversity': 0.8069165061725976, 'bertopic__outliers_threshold': 0.08154603902387678, 'bertopic__nr_topics': 12, 'umap__n_neighbors': 16, 'umap__n_components': 3, 'umap__metric': 'euclidean', 'umap__min_dist': 0.332983831584028, 'umap__spread': 0.8355199588560615, 'hdbscan__min_cluster_size': 17, 'hdbscan__min_samples': 10, 'hdbscan__cluster_selection_epsilon': 0.7337192479571087, 'vectorizer__max_features': 5405}. Best is trial 0 with value: 0.0.\u001b[0m\n",
            "\u001b[33m[W 2023-01-06 19:52:47,656]\u001b[0m Trial 15 failed because of the following error: KeyboardInterrupt()\u001b[0m\n",
            "Traceback (most recent call last):\n",
            "  File \"/usr/local/lib/python3.8/dist-packages/optuna/study/_optimize.py\", line 196, in _run_trial\n",
            "    value_or_values = func(trial)\n",
            "  File \"<ipython-input-85-244b2aaea613>\", line 59, in optimizer\n",
            "    topics, probs = model.fit_transform(corpus)\n",
            "  File \"/usr/local/lib/python3.8/dist-packages/bertopic/_bertopic.py\", line 339, in fit_transform\n",
            "    embeddings = self._extract_embeddings(documents.Document,\n",
            "  File \"/usr/local/lib/python3.8/dist-packages/bertopic/_bertopic.py\", line 2787, in _extract_embeddings\n",
            "    embeddings = self.embedding_model.embed_documents(documents, verbose)\n",
            "  File \"/usr/local/lib/python3.8/dist-packages/bertopic/backend/_base.py\", line 69, in embed_documents\n",
            "    return self.embed(document, verbose)\n",
            "  File \"/usr/local/lib/python3.8/dist-packages/bertopic/backend/_sentencetransformers.py\", line 63, in embed\n",
            "    embeddings = self.embedding_model.encode(documents, show_progress_bar=verbose)\n",
            "  File \"/usr/local/lib/python3.8/dist-packages/sentence_transformers/SentenceTransformer.py\", line 188, in encode\n",
            "    embeddings = embeddings.cpu()\n",
            "KeyboardInterrupt\n"
          ]
        },
        {
          "output_type": "error",
          "ename": "KeyboardInterrupt",
          "evalue": "ignored",
          "traceback": [
            "\u001b[0;31m---------------------------------------------------------------------------\u001b[0m",
            "\u001b[0;31mKeyboardInterrupt\u001b[0m                         Traceback (most recent call last)",
            "\u001b[0;32m<timed exec>\u001b[0m in \u001b[0;36m<module>\u001b[0;34m\u001b[0m\n",
            "\u001b[0;32m/usr/local/lib/python3.8/dist-packages/optuna/study/study.py\u001b[0m in \u001b[0;36moptimize\u001b[0;34m(self, func, n_trials, timeout, n_jobs, catch, callbacks, gc_after_trial, show_progress_bar)\u001b[0m\n\u001b[1;32m    417\u001b[0m         \"\"\"\n\u001b[1;32m    418\u001b[0m \u001b[0;34m\u001b[0m\u001b[0m\n\u001b[0;32m--> 419\u001b[0;31m         _optimize(\n\u001b[0m\u001b[1;32m    420\u001b[0m             \u001b[0mstudy\u001b[0m\u001b[0;34m=\u001b[0m\u001b[0mself\u001b[0m\u001b[0;34m,\u001b[0m\u001b[0;34m\u001b[0m\u001b[0;34m\u001b[0m\u001b[0m\n\u001b[1;32m    421\u001b[0m             \u001b[0mfunc\u001b[0m\u001b[0;34m=\u001b[0m\u001b[0mfunc\u001b[0m\u001b[0;34m,\u001b[0m\u001b[0;34m\u001b[0m\u001b[0;34m\u001b[0m\u001b[0m\n",
            "\u001b[0;32m/usr/local/lib/python3.8/dist-packages/optuna/study/_optimize.py\u001b[0m in \u001b[0;36m_optimize\u001b[0;34m(study, func, n_trials, timeout, n_jobs, catch, callbacks, gc_after_trial, show_progress_bar)\u001b[0m\n\u001b[1;32m     64\u001b[0m     \u001b[0;32mtry\u001b[0m\u001b[0;34m:\u001b[0m\u001b[0;34m\u001b[0m\u001b[0;34m\u001b[0m\u001b[0m\n\u001b[1;32m     65\u001b[0m         \u001b[0;32mif\u001b[0m \u001b[0mn_jobs\u001b[0m \u001b[0;34m==\u001b[0m \u001b[0;36m1\u001b[0m\u001b[0;34m:\u001b[0m\u001b[0;34m\u001b[0m\u001b[0;34m\u001b[0m\u001b[0m\n\u001b[0;32m---> 66\u001b[0;31m             _optimize_sequential(\n\u001b[0m\u001b[1;32m     67\u001b[0m                 \u001b[0mstudy\u001b[0m\u001b[0;34m,\u001b[0m\u001b[0;34m\u001b[0m\u001b[0;34m\u001b[0m\u001b[0m\n\u001b[1;32m     68\u001b[0m                 \u001b[0mfunc\u001b[0m\u001b[0;34m,\u001b[0m\u001b[0;34m\u001b[0m\u001b[0;34m\u001b[0m\u001b[0m\n",
            "\u001b[0;32m/usr/local/lib/python3.8/dist-packages/optuna/study/_optimize.py\u001b[0m in \u001b[0;36m_optimize_sequential\u001b[0;34m(study, func, n_trials, timeout, catch, callbacks, gc_after_trial, reseed_sampler_rng, time_start, progress_bar)\u001b[0m\n\u001b[1;32m    158\u001b[0m \u001b[0;34m\u001b[0m\u001b[0m\n\u001b[1;32m    159\u001b[0m         \u001b[0;32mtry\u001b[0m\u001b[0;34m:\u001b[0m\u001b[0;34m\u001b[0m\u001b[0;34m\u001b[0m\u001b[0m\n\u001b[0;32m--> 160\u001b[0;31m             \u001b[0mfrozen_trial\u001b[0m \u001b[0;34m=\u001b[0m \u001b[0m_run_trial\u001b[0m\u001b[0;34m(\u001b[0m\u001b[0mstudy\u001b[0m\u001b[0;34m,\u001b[0m \u001b[0mfunc\u001b[0m\u001b[0;34m,\u001b[0m \u001b[0mcatch\u001b[0m\u001b[0;34m)\u001b[0m\u001b[0;34m\u001b[0m\u001b[0;34m\u001b[0m\u001b[0m\n\u001b[0m\u001b[1;32m    161\u001b[0m         \u001b[0;32mfinally\u001b[0m\u001b[0;34m:\u001b[0m\u001b[0;34m\u001b[0m\u001b[0;34m\u001b[0m\u001b[0m\n\u001b[1;32m    162\u001b[0m             \u001b[0;31m# The following line mitigates memory problems that can be occurred in some\u001b[0m\u001b[0;34m\u001b[0m\u001b[0;34m\u001b[0m\u001b[0;34m\u001b[0m\u001b[0m\n",
            "\u001b[0;32m/usr/local/lib/python3.8/dist-packages/optuna/study/_optimize.py\u001b[0m in \u001b[0;36m_run_trial\u001b[0;34m(study, func, catch)\u001b[0m\n\u001b[1;32m    232\u001b[0m         \u001b[0;32mand\u001b[0m \u001b[0;32mnot\u001b[0m \u001b[0misinstance\u001b[0m\u001b[0;34m(\u001b[0m\u001b[0mfunc_err\u001b[0m\u001b[0;34m,\u001b[0m \u001b[0mcatch\u001b[0m\u001b[0;34m)\u001b[0m\u001b[0;34m\u001b[0m\u001b[0;34m\u001b[0m\u001b[0m\n\u001b[1;32m    233\u001b[0m     ):\n\u001b[0;32m--> 234\u001b[0;31m         \u001b[0;32mraise\u001b[0m \u001b[0mfunc_err\u001b[0m\u001b[0;34m\u001b[0m\u001b[0;34m\u001b[0m\u001b[0m\n\u001b[0m\u001b[1;32m    235\u001b[0m     \u001b[0;32mreturn\u001b[0m \u001b[0mfrozen_trial\u001b[0m\u001b[0;34m\u001b[0m\u001b[0;34m\u001b[0m\u001b[0m\n\u001b[1;32m    236\u001b[0m \u001b[0;34m\u001b[0m\u001b[0m\n",
            "\u001b[0;32m/usr/local/lib/python3.8/dist-packages/optuna/study/_optimize.py\u001b[0m in \u001b[0;36m_run_trial\u001b[0;34m(study, func, catch)\u001b[0m\n\u001b[1;32m    194\u001b[0m     \u001b[0;32mwith\u001b[0m \u001b[0mget_heartbeat_thread\u001b[0m\u001b[0;34m(\u001b[0m\u001b[0mtrial\u001b[0m\u001b[0;34m.\u001b[0m\u001b[0m_trial_id\u001b[0m\u001b[0;34m,\u001b[0m \u001b[0mstudy\u001b[0m\u001b[0;34m.\u001b[0m\u001b[0m_storage\u001b[0m\u001b[0;34m)\u001b[0m\u001b[0;34m:\u001b[0m\u001b[0;34m\u001b[0m\u001b[0;34m\u001b[0m\u001b[0m\n\u001b[1;32m    195\u001b[0m         \u001b[0;32mtry\u001b[0m\u001b[0;34m:\u001b[0m\u001b[0;34m\u001b[0m\u001b[0;34m\u001b[0m\u001b[0m\n\u001b[0;32m--> 196\u001b[0;31m             \u001b[0mvalue_or_values\u001b[0m \u001b[0;34m=\u001b[0m \u001b[0mfunc\u001b[0m\u001b[0;34m(\u001b[0m\u001b[0mtrial\u001b[0m\u001b[0;34m)\u001b[0m\u001b[0;34m\u001b[0m\u001b[0;34m\u001b[0m\u001b[0m\n\u001b[0m\u001b[1;32m    197\u001b[0m         \u001b[0;32mexcept\u001b[0m \u001b[0mexceptions\u001b[0m\u001b[0;34m.\u001b[0m\u001b[0mTrialPruned\u001b[0m \u001b[0;32mas\u001b[0m \u001b[0me\u001b[0m\u001b[0;34m:\u001b[0m\u001b[0;34m\u001b[0m\u001b[0;34m\u001b[0m\u001b[0m\n\u001b[1;32m    198\u001b[0m             \u001b[0;31m# TODO(mamu): Handle multi-objective cases.\u001b[0m\u001b[0;34m\u001b[0m\u001b[0;34m\u001b[0m\u001b[0;34m\u001b[0m\u001b[0m\n",
            "\u001b[0;32m<ipython-input-85-244b2aaea613>\u001b[0m in \u001b[0;36moptimizer\u001b[0;34m(trial)\u001b[0m\n\u001b[1;32m     57\u001b[0m \u001b[0;34m\u001b[0m\u001b[0m\n\u001b[1;32m     58\u001b[0m   \u001b[0;31m# train BERTopic model\u001b[0m\u001b[0;34m\u001b[0m\u001b[0;34m\u001b[0m\u001b[0;34m\u001b[0m\u001b[0m\n\u001b[0;32m---> 59\u001b[0;31m   \u001b[0mtopics\u001b[0m\u001b[0;34m,\u001b[0m \u001b[0mprobs\u001b[0m \u001b[0;34m=\u001b[0m \u001b[0mmodel\u001b[0m\u001b[0;34m.\u001b[0m\u001b[0mfit_transform\u001b[0m\u001b[0;34m(\u001b[0m\u001b[0mcorpus\u001b[0m\u001b[0;34m)\u001b[0m\u001b[0;34m\u001b[0m\u001b[0;34m\u001b[0m\u001b[0m\n\u001b[0m\u001b[1;32m     60\u001b[0m \u001b[0;34m\u001b[0m\u001b[0m\n\u001b[1;32m     61\u001b[0m   \u001b[0;31m# save plots\u001b[0m\u001b[0;34m\u001b[0m\u001b[0;34m\u001b[0m\u001b[0;34m\u001b[0m\u001b[0m\n",
            "\u001b[0;32m/usr/local/lib/python3.8/dist-packages/bertopic/_bertopic.py\u001b[0m in \u001b[0;36mfit_transform\u001b[0;34m(self, documents, embeddings, y)\u001b[0m\n\u001b[1;32m    337\u001b[0m             self.embedding_model = select_backend(self.embedding_model,\n\u001b[1;32m    338\u001b[0m                                                   language=self.language)\n\u001b[0;32m--> 339\u001b[0;31m             embeddings = self._extract_embeddings(documents.Document,\n\u001b[0m\u001b[1;32m    340\u001b[0m                                                   \u001b[0mmethod\u001b[0m\u001b[0;34m=\u001b[0m\u001b[0;34m\"document\"\u001b[0m\u001b[0;34m,\u001b[0m\u001b[0;34m\u001b[0m\u001b[0;34m\u001b[0m\u001b[0m\n\u001b[1;32m    341\u001b[0m                                                   verbose=self.verbose)\n",
            "\u001b[0;32m/usr/local/lib/python3.8/dist-packages/bertopic/_bertopic.py\u001b[0m in \u001b[0;36m_extract_embeddings\u001b[0;34m(self, documents, method, verbose)\u001b[0m\n\u001b[1;32m   2785\u001b[0m             \u001b[0membeddings\u001b[0m \u001b[0;34m=\u001b[0m \u001b[0mself\u001b[0m\u001b[0;34m.\u001b[0m\u001b[0membedding_model\u001b[0m\u001b[0;34m.\u001b[0m\u001b[0membed_words\u001b[0m\u001b[0;34m(\u001b[0m\u001b[0mdocuments\u001b[0m\u001b[0;34m,\u001b[0m \u001b[0mverbose\u001b[0m\u001b[0;34m)\u001b[0m\u001b[0;34m\u001b[0m\u001b[0;34m\u001b[0m\u001b[0m\n\u001b[1;32m   2786\u001b[0m         \u001b[0;32melif\u001b[0m \u001b[0mmethod\u001b[0m \u001b[0;34m==\u001b[0m \u001b[0;34m\"document\"\u001b[0m\u001b[0;34m:\u001b[0m\u001b[0;34m\u001b[0m\u001b[0;34m\u001b[0m\u001b[0m\n\u001b[0;32m-> 2787\u001b[0;31m             \u001b[0membeddings\u001b[0m \u001b[0;34m=\u001b[0m \u001b[0mself\u001b[0m\u001b[0;34m.\u001b[0m\u001b[0membedding_model\u001b[0m\u001b[0;34m.\u001b[0m\u001b[0membed_documents\u001b[0m\u001b[0;34m(\u001b[0m\u001b[0mdocuments\u001b[0m\u001b[0;34m,\u001b[0m \u001b[0mverbose\u001b[0m\u001b[0;34m)\u001b[0m\u001b[0;34m\u001b[0m\u001b[0;34m\u001b[0m\u001b[0m\n\u001b[0m\u001b[1;32m   2788\u001b[0m         \u001b[0;32melse\u001b[0m\u001b[0;34m:\u001b[0m\u001b[0;34m\u001b[0m\u001b[0;34m\u001b[0m\u001b[0m\n\u001b[1;32m   2789\u001b[0m             raise ValueError(\"Wrong method for extracting document/word embeddings. \"\n",
            "\u001b[0;32m/usr/local/lib/python3.8/dist-packages/bertopic/backend/_base.py\u001b[0m in \u001b[0;36membed_documents\u001b[0;34m(self, document, verbose)\u001b[0m\n\u001b[1;32m     67\u001b[0m             \u001b[0mthat\u001b[0m \u001b[0meach\u001b[0m \u001b[0mhave\u001b[0m \u001b[0man\u001b[0m \u001b[0membeddings\u001b[0m \u001b[0msize\u001b[0m \u001b[0mof\u001b[0m\u001b[0;31m \u001b[0m\u001b[0;31m`\u001b[0m\u001b[0mm\u001b[0m\u001b[0;31m`\u001b[0m\u001b[0;34m\u001b[0m\u001b[0;34m\u001b[0m\u001b[0m\n\u001b[1;32m     68\u001b[0m         \"\"\"\n\u001b[0;32m---> 69\u001b[0;31m         \u001b[0;32mreturn\u001b[0m \u001b[0mself\u001b[0m\u001b[0;34m.\u001b[0m\u001b[0membed\u001b[0m\u001b[0;34m(\u001b[0m\u001b[0mdocument\u001b[0m\u001b[0;34m,\u001b[0m \u001b[0mverbose\u001b[0m\u001b[0;34m)\u001b[0m\u001b[0;34m\u001b[0m\u001b[0;34m\u001b[0m\u001b[0m\n\u001b[0m",
            "\u001b[0;32m/usr/local/lib/python3.8/dist-packages/bertopic/backend/_sentencetransformers.py\u001b[0m in \u001b[0;36membed\u001b[0;34m(self, documents, verbose)\u001b[0m\n\u001b[1;32m     61\u001b[0m             \u001b[0mthat\u001b[0m \u001b[0meach\u001b[0m \u001b[0mhave\u001b[0m \u001b[0man\u001b[0m \u001b[0membeddings\u001b[0m \u001b[0msize\u001b[0m \u001b[0mof\u001b[0m\u001b[0;31m \u001b[0m\u001b[0;31m`\u001b[0m\u001b[0mm\u001b[0m\u001b[0;31m`\u001b[0m\u001b[0;34m\u001b[0m\u001b[0;34m\u001b[0m\u001b[0m\n\u001b[1;32m     62\u001b[0m         \"\"\"\n\u001b[0;32m---> 63\u001b[0;31m         \u001b[0membeddings\u001b[0m \u001b[0;34m=\u001b[0m \u001b[0mself\u001b[0m\u001b[0;34m.\u001b[0m\u001b[0membedding_model\u001b[0m\u001b[0;34m.\u001b[0m\u001b[0mencode\u001b[0m\u001b[0;34m(\u001b[0m\u001b[0mdocuments\u001b[0m\u001b[0;34m,\u001b[0m \u001b[0mshow_progress_bar\u001b[0m\u001b[0;34m=\u001b[0m\u001b[0mverbose\u001b[0m\u001b[0;34m)\u001b[0m\u001b[0;34m\u001b[0m\u001b[0;34m\u001b[0m\u001b[0m\n\u001b[0m\u001b[1;32m     64\u001b[0m         \u001b[0;32mreturn\u001b[0m \u001b[0membeddings\u001b[0m\u001b[0;34m\u001b[0m\u001b[0;34m\u001b[0m\u001b[0m\n",
            "\u001b[0;32m/usr/local/lib/python3.8/dist-packages/sentence_transformers/SentenceTransformer.py\u001b[0m in \u001b[0;36mencode\u001b[0;34m(self, sentences, batch_size, show_progress_bar, output_value, convert_to_numpy, convert_to_tensor, device, normalize_embeddings)\u001b[0m\n\u001b[1;32m    186\u001b[0m                     \u001b[0;31m# fixes for #522 and #487 to avoid oom problems on gpu with large datasets\u001b[0m\u001b[0;34m\u001b[0m\u001b[0;34m\u001b[0m\u001b[0;34m\u001b[0m\u001b[0m\n\u001b[1;32m    187\u001b[0m                     \u001b[0;32mif\u001b[0m \u001b[0mconvert_to_numpy\u001b[0m\u001b[0;34m:\u001b[0m\u001b[0;34m\u001b[0m\u001b[0;34m\u001b[0m\u001b[0m\n\u001b[0;32m--> 188\u001b[0;31m                         \u001b[0membeddings\u001b[0m \u001b[0;34m=\u001b[0m \u001b[0membeddings\u001b[0m\u001b[0;34m.\u001b[0m\u001b[0mcpu\u001b[0m\u001b[0;34m(\u001b[0m\u001b[0;34m)\u001b[0m\u001b[0;34m\u001b[0m\u001b[0;34m\u001b[0m\u001b[0m\n\u001b[0m\u001b[1;32m    189\u001b[0m \u001b[0;34m\u001b[0m\u001b[0m\n\u001b[1;32m    190\u001b[0m                 \u001b[0mall_embeddings\u001b[0m\u001b[0;34m.\u001b[0m\u001b[0mextend\u001b[0m\u001b[0;34m(\u001b[0m\u001b[0membeddings\u001b[0m\u001b[0;34m)\u001b[0m\u001b[0;34m\u001b[0m\u001b[0;34m\u001b[0m\u001b[0m\n",
            "\u001b[0;31mKeyboardInterrupt\u001b[0m: "
          ]
        }
      ]
    },
    {
      "cell_type": "markdown",
      "source": [
        "#### **Merge of similar topics**"
      ],
      "metadata": {
        "id": "kmSbzWH0gJHM"
      }
    },
    {
      "cell_type": "code",
      "source": [
        "# TODO: select the best model and merge similar topic and save final model\n",
        "\n",
        "#topic_model = BERTopic.load(\"best_model\")"
      ],
      "metadata": {
        "id": "OWI9jDFYgTLW"
      },
      "execution_count": null,
      "outputs": []
    },
    {
      "cell_type": "code",
      "source": [
        "##########33!rm -rf /content/Topic-Modeling-Reclame-Aqui/results"
      ],
      "metadata": {
        "id": "6f8Adw95AVkP"
      },
      "execution_count": null,
      "outputs": []
    },
    {
      "cell_type": "code",
      "source": [
        "! ssh-keygen -t rsa -b 4096\n",
        "# Add github.com to our known hosts\n",
        "! ssh-keyscan -t rsa github.com >> ~/.ssh/known_hosts\n",
        "# Restrict the key permissions, or else SSH will complain.\n",
        "! chmod go-rwx /root/.ssh/id_rsa"
      ],
      "metadata": {
        "id": "yVd1eoa0zK7f",
        "outputId": "eda0dd0f-1a5f-4033-eb25-bba93bd7924d",
        "colab": {
          "base_uri": "https://localhost:8080/"
        }
      },
      "execution_count": 3,
      "outputs": [
        {
          "output_type": "stream",
          "name": "stdout",
          "text": [
            "Generating public/private rsa key pair.\n",
            "Enter file in which to save the key (/root/.ssh/id_rsa): \n",
            "/root/.ssh/id_rsa already exists.\n",
            "Overwrite (y/n)? Y\n",
            "Enter passphrase (empty for no passphrase): \n",
            "Enter same passphrase again: \n",
            "Your identification has been saved in /root/.ssh/id_rsa.\n",
            "Your public key has been saved in /root/.ssh/id_rsa.pub.\n",
            "The key fingerprint is:\n",
            "SHA256:8+eNknI/3SRVFqCNFQI1Sx4LQRmHyWsxaWXIjLBgnR8 root@66134f0b36cb\n",
            "The key's randomart image is:\n",
            "+---[RSA 4096]----+\n",
            "|   o..o **%X +o..|\n",
            "|  . .o.E &* @   o|\n",
            "|     .. o +* . ..|\n",
            "|       . o      .|\n",
            "|        S      . |\n",
            "|         o    . .|\n",
            "|          .... + |\n",
            "|        . +o.o. .|\n",
            "|         o o+..  |\n",
            "+----[SHA256]-----+\n",
            "# github.com:22 SSH-2.0-babeld-4ce3b487\n"
          ]
        }
      ]
    },
    {
      "cell_type": "code",
      "source": [
        "! cat /root/.ssh/id_rsa.pub"
      ],
      "metadata": {
        "id": "_z-PSHRzz0PY",
        "colab": {
          "base_uri": "https://localhost:8080/"
        },
        "outputId": "e13bb293-cef5-4681-bd19-0a8fb1543bd1"
      },
      "execution_count": 4,
      "outputs": [
        {
          "output_type": "stream",
          "name": "stdout",
          "text": [
            "ssh-rsa AAAAB3NzaC1yc2EAAAADAQABAAACAQDEQ/953oQTI25HaIZyMi5vtWXXP0qy9R4lq10XSJrgU9SW+6gEML3a5Wfl8wfeKxMBTMo0ICJC86ermSQWhMg6pyeZvRin9R8MwVJxyUfbFCMkwmMnSV9JxtJpg6TpXp8qzJ304r+9SyauYjo6QcDBXAC1H7KhSCTiSAZWJuuf5+xvvzPFbZ4Zp4kyFOKzvDiFnTiTRs6WRKW9liQ7kguDOK67PUBmTGsgGweAZOPH2jI86Jkg8G4m2565fgGOznVUuPVxRoL0KCcflnOGykSCJez7gRUMvqCy6uy9cTkwHSTDSvvx/CxYQ3AOkioqQ+x6ehCrGRxw+ICKhtWuhblGQKLlHXcgKUda7cvQo4mPb3Y19WdtXwdUD5Gq/GWRcxBBs3Qg8SaVHEboeFQaehPIumenGf+xQ1LB39oGBkbDOWKSZnOs9PA0lro7qbCLzNQkjmcmM9R9rDxv2GaeX2Jo1uqSYiNRFveP2rPbQEPVvXBEMDo84FEkmQ84msEvOUENRSlJyOCQlCh+a3u71JgT8jXUhqFH9FukTHRyygQk8UggdlnW/BSqaGRuzjr6UVjBN+wiGMmwvSLFwPUOdCDC3Vy1HuMXcjR1vZe6i4ogMtR0+vYTJv4dZOwNg5+ZiJR4eVCQCZB7sc917gwiB3ytd7ISjaviQgbBp6HfhP+jqQ== root@66134f0b36cb\n"
          ]
        }
      ]
    },
    {
      "cell_type": "code",
      "source": [
        "!git config --global user.email \"mattheus_ribeiro@outlook.com\"\n",
        "!git config --global user.name \"punkmic\""
      ],
      "metadata": {
        "id": "4iixpGcjzxrO"
      },
      "execution_count": 5,
      "outputs": []
    },
    {
      "cell_type": "code",
      "source": [
        "!ssh -T git@github.com"
      ],
      "metadata": {
        "id": "bcqhgkdaz3QI",
        "outputId": "8c089867-5e6f-462a-934b-dbf9509bcf76",
        "colab": {
          "base_uri": "https://localhost:8080/"
        }
      },
      "execution_count": 6,
      "outputs": [
        {
          "output_type": "stream",
          "name": "stdout",
          "text": [
            "Warning: Permanently added the RSA host key for IP address '140.82.114.4' to the list of known hosts.\r\n",
            "Hi punkmic! You've successfully authenticated, but GitHub does not provide shell access.\n"
          ]
        }
      ]
    },
    {
      "cell_type": "code",
      "source": [
        "!git clone git@github.com:punkmic/Topic-Modeling-Reclame-Aqui.git"
      ],
      "metadata": {
        "id": "zSA4ju5NDpqK",
        "outputId": "17af36b1-3642-470e-ecb5-26d32c48b5f5",
        "colab": {
          "base_uri": "https://localhost:8080/"
        }
      },
      "execution_count": 7,
      "outputs": [
        {
          "output_type": "stream",
          "name": "stdout",
          "text": [
            "Cloning into 'Topic-Modeling-Reclame-Aqui'...\n",
            "Warning: Permanently added the RSA host key for IP address '20.201.28.151' to the list of known hosts.\n",
            "remote: Enumerating objects: 16267, done.\u001b[K\n",
            "remote: Counting objects: 100% (2086/2086), done.\u001b[K\n",
            "remote: Compressing objects: 100% (1818/1818), done.\u001b[K\n",
            "remote: Total 16267 (delta 293), reused 1951 (delta 234), pack-reused 14181\u001b[K\n",
            "Receiving objects: 100% (16267/16267), 126.63 MiB | 7.41 MiB/s, done.\n",
            "Resolving deltas: 100% (1441/1441), done.\n",
            "Checking out files: 100% (14808/14808), done.\n"
          ]
        }
      ]
    },
    {
      "cell_type": "code",
      "source": [
        "%cd /content/Topic-Modeling-Reclame-Aqui/"
      ],
      "metadata": {
        "id": "2eEK0j1L6b7p",
        "outputId": "f1e61a6c-a1e6-4a45-b2f5-c97c94524f33",
        "colab": {
          "base_uri": "https://localhost:8080/"
        }
      },
      "execution_count": null,
      "outputs": [
        {
          "output_type": "stream",
          "name": "stdout",
          "text": [
            "/content/Topic-Modeling-Reclame-Aqui\n"
          ]
        }
      ]
    },
    {
      "cell_type": "code",
      "source": [
        "!git add ./results/dataset/preprocessed/table.csv"
      ],
      "metadata": {
        "id": "CGqBhuS6z7WZ"
      },
      "execution_count": null,
      "outputs": []
    },
    {
      "cell_type": "code",
      "source": [
        "!git status"
      ],
      "metadata": {
        "id": "eyMFQF889jtB",
        "outputId": "22b5499f-0c98-4735-8f33-001582cdeab6",
        "colab": {
          "base_uri": "https://localhost:8080/"
        }
      },
      "execution_count": null,
      "outputs": [
        {
          "output_type": "stream",
          "name": "stdout",
          "text": [
            "On branch master\n",
            "Your branch is up to date with 'origin/master'.\n",
            "\n",
            "Changes to be committed:\n",
            "  (use \"git reset HEAD <file>...\" to unstage)\n",
            "\n",
            "\t\u001b[32mnew file:   results/dataset/preprocessed/table.csv\u001b[m\n",
            "\n"
          ]
        }
      ]
    },
    {
      "cell_type": "code",
      "source": [
        "!git commit -m \"Adding preprocessed dataset\""
      ],
      "metadata": {
        "id": "PFY8B1Ikz-U-",
        "outputId": "2de09364-7da9-4f51-e26a-6cb20517eb5d",
        "colab": {
          "base_uri": "https://localhost:8080/"
        }
      },
      "execution_count": null,
      "outputs": [
        {
          "output_type": "stream",
          "name": "stdout",
          "text": [
            "[master 30c507c] Adding preprocessed dataset\n",
            " 1 file changed, 10511 insertions(+)\n",
            " create mode 100644 results/dataset/preprocessed/table.csv\n"
          ]
        }
      ]
    },
    {
      "cell_type": "code",
      "source": [
        "!git push origin master"
      ],
      "metadata": {
        "id": "uEJWirD70EiH",
        "outputId": "3b9ffb12-c479-47d9-9f06-9de85536e408",
        "colab": {
          "base_uri": "https://localhost:8080/"
        }
      },
      "execution_count": null,
      "outputs": [
        {
          "output_type": "stream",
          "name": "stdout",
          "text": [
            "Counting objects: 6, done.\n",
            "Delta compression using up to 2 threads.\n",
            "Compressing objects: 100% (5/5), done.\n",
            "Writing objects: 100% (6/6), 8.25 MiB | 1.45 MiB/s, done.\n",
            "Total 6 (delta 2), reused 0 (delta 0)\n",
            "remote: Resolving deltas: 100% (2/2), completed with 2 local objects.\u001b[K\n",
            "remote: warning: See http://git.io/iEPt8g for more information.\u001b[K\n",
            "remote: warning: File results/dataset/preprocessed/table.csv is 68.94 MB; this is larger than GitHub's recommended maximum file size of 50.00 MB\u001b[K\n",
            "remote: warning: GH001: Large files detected. You may want to try Git Large File Storage - https://git-lfs.github.com.\u001b[K\n",
            "To github.com:punkmic/Topic-Modeling-Reclame-Aqui.git\n",
            "   c9fb74b..30c507c  master -> master\n"
          ]
        }
      ]
    }
  ]
}