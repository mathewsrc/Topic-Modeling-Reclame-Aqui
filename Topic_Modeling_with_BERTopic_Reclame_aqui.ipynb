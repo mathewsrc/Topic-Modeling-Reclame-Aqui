{
  "nbformat": 4,
  "nbformat_minor": 0,
  "metadata": {
    "colab": {
      "provenance": [],
      "authorship_tag": "ABX9TyM1gMNCnrHr0sXOrr6YTZDH",
      "include_colab_link": true
    },
    "kernelspec": {
      "name": "python3",
      "display_name": "Python 3"
    },
    "language_info": {
      "name": "python"
    },
    "accelerator": "GPU",
    "gpuClass": "standard",
    "widgets": {
      "application/vnd.jupyter.widget-state+json": {
        "e28dc376319c4467bccd00a736b521e7": {
          "model_module": "@jupyter-widgets/controls",
          "model_name": "HBoxModel",
          "model_module_version": "1.5.0",
          "state": {
            "_dom_classes": [],
            "_model_module": "@jupyter-widgets/controls",
            "_model_module_version": "1.5.0",
            "_model_name": "HBoxModel",
            "_view_count": null,
            "_view_module": "@jupyter-widgets/controls",
            "_view_module_version": "1.5.0",
            "_view_name": "HBoxView",
            "box_style": "",
            "children": [
              "IPY_MODEL_0a803024ee9a41c4af046d056078a9ec",
              "IPY_MODEL_1a2e7be529b841c99f07e4a5200670c6",
              "IPY_MODEL_7ea8b4d57f1a493e823c072556d4edda"
            ],
            "layout": "IPY_MODEL_0d40d10316c64e82be6700a4de4c70dc"
          }
        },
        "0a803024ee9a41c4af046d056078a9ec": {
          "model_module": "@jupyter-widgets/controls",
          "model_name": "HTMLModel",
          "model_module_version": "1.5.0",
          "state": {
            "_dom_classes": [],
            "_model_module": "@jupyter-widgets/controls",
            "_model_module_version": "1.5.0",
            "_model_name": "HTMLModel",
            "_view_count": null,
            "_view_module": "@jupyter-widgets/controls",
            "_view_module_version": "1.5.0",
            "_view_name": "HTMLView",
            "description": "",
            "description_tooltip": null,
            "layout": "IPY_MODEL_12ed13890f904e429f700e5133965835",
            "placeholder": "​",
            "style": "IPY_MODEL_e93355ac9ff44f0a8d60b987e2c114fd",
            "value": "Batches: 100%"
          }
        },
        "1a2e7be529b841c99f07e4a5200670c6": {
          "model_module": "@jupyter-widgets/controls",
          "model_name": "FloatProgressModel",
          "model_module_version": "1.5.0",
          "state": {
            "_dom_classes": [],
            "_model_module": "@jupyter-widgets/controls",
            "_model_module_version": "1.5.0",
            "_model_name": "FloatProgressModel",
            "_view_count": null,
            "_view_module": "@jupyter-widgets/controls",
            "_view_module_version": "1.5.0",
            "_view_name": "ProgressView",
            "bar_style": "success",
            "description": "",
            "description_tooltip": null,
            "layout": "IPY_MODEL_eafbd63cac5e48e481c0bdd18b26daab",
            "max": 329,
            "min": 0,
            "orientation": "horizontal",
            "style": "IPY_MODEL_0bd23d9ce95f471d83550800dbe62265",
            "value": 329
          }
        },
        "7ea8b4d57f1a493e823c072556d4edda": {
          "model_module": "@jupyter-widgets/controls",
          "model_name": "HTMLModel",
          "model_module_version": "1.5.0",
          "state": {
            "_dom_classes": [],
            "_model_module": "@jupyter-widgets/controls",
            "_model_module_version": "1.5.0",
            "_model_name": "HTMLModel",
            "_view_count": null,
            "_view_module": "@jupyter-widgets/controls",
            "_view_module_version": "1.5.0",
            "_view_name": "HTMLView",
            "description": "",
            "description_tooltip": null,
            "layout": "IPY_MODEL_8d2d5d3d6a3b455591fd2b6fc4c76b60",
            "placeholder": "​",
            "style": "IPY_MODEL_6667f57126fc443da00cdc6adb1ab6ff",
            "value": " 329/329 [00:16&lt;00:00, 49.47it/s]"
          }
        },
        "0d40d10316c64e82be6700a4de4c70dc": {
          "model_module": "@jupyter-widgets/base",
          "model_name": "LayoutModel",
          "model_module_version": "1.2.0",
          "state": {
            "_model_module": "@jupyter-widgets/base",
            "_model_module_version": "1.2.0",
            "_model_name": "LayoutModel",
            "_view_count": null,
            "_view_module": "@jupyter-widgets/base",
            "_view_module_version": "1.2.0",
            "_view_name": "LayoutView",
            "align_content": null,
            "align_items": null,
            "align_self": null,
            "border": null,
            "bottom": null,
            "display": null,
            "flex": null,
            "flex_flow": null,
            "grid_area": null,
            "grid_auto_columns": null,
            "grid_auto_flow": null,
            "grid_auto_rows": null,
            "grid_column": null,
            "grid_gap": null,
            "grid_row": null,
            "grid_template_areas": null,
            "grid_template_columns": null,
            "grid_template_rows": null,
            "height": null,
            "justify_content": null,
            "justify_items": null,
            "left": null,
            "margin": null,
            "max_height": null,
            "max_width": null,
            "min_height": null,
            "min_width": null,
            "object_fit": null,
            "object_position": null,
            "order": null,
            "overflow": null,
            "overflow_x": null,
            "overflow_y": null,
            "padding": null,
            "right": null,
            "top": null,
            "visibility": null,
            "width": null
          }
        },
        "12ed13890f904e429f700e5133965835": {
          "model_module": "@jupyter-widgets/base",
          "model_name": "LayoutModel",
          "model_module_version": "1.2.0",
          "state": {
            "_model_module": "@jupyter-widgets/base",
            "_model_module_version": "1.2.0",
            "_model_name": "LayoutModel",
            "_view_count": null,
            "_view_module": "@jupyter-widgets/base",
            "_view_module_version": "1.2.0",
            "_view_name": "LayoutView",
            "align_content": null,
            "align_items": null,
            "align_self": null,
            "border": null,
            "bottom": null,
            "display": null,
            "flex": null,
            "flex_flow": null,
            "grid_area": null,
            "grid_auto_columns": null,
            "grid_auto_flow": null,
            "grid_auto_rows": null,
            "grid_column": null,
            "grid_gap": null,
            "grid_row": null,
            "grid_template_areas": null,
            "grid_template_columns": null,
            "grid_template_rows": null,
            "height": null,
            "justify_content": null,
            "justify_items": null,
            "left": null,
            "margin": null,
            "max_height": null,
            "max_width": null,
            "min_height": null,
            "min_width": null,
            "object_fit": null,
            "object_position": null,
            "order": null,
            "overflow": null,
            "overflow_x": null,
            "overflow_y": null,
            "padding": null,
            "right": null,
            "top": null,
            "visibility": null,
            "width": null
          }
        },
        "e93355ac9ff44f0a8d60b987e2c114fd": {
          "model_module": "@jupyter-widgets/controls",
          "model_name": "DescriptionStyleModel",
          "model_module_version": "1.5.0",
          "state": {
            "_model_module": "@jupyter-widgets/controls",
            "_model_module_version": "1.5.0",
            "_model_name": "DescriptionStyleModel",
            "_view_count": null,
            "_view_module": "@jupyter-widgets/base",
            "_view_module_version": "1.2.0",
            "_view_name": "StyleView",
            "description_width": ""
          }
        },
        "eafbd63cac5e48e481c0bdd18b26daab": {
          "model_module": "@jupyter-widgets/base",
          "model_name": "LayoutModel",
          "model_module_version": "1.2.0",
          "state": {
            "_model_module": "@jupyter-widgets/base",
            "_model_module_version": "1.2.0",
            "_model_name": "LayoutModel",
            "_view_count": null,
            "_view_module": "@jupyter-widgets/base",
            "_view_module_version": "1.2.0",
            "_view_name": "LayoutView",
            "align_content": null,
            "align_items": null,
            "align_self": null,
            "border": null,
            "bottom": null,
            "display": null,
            "flex": null,
            "flex_flow": null,
            "grid_area": null,
            "grid_auto_columns": null,
            "grid_auto_flow": null,
            "grid_auto_rows": null,
            "grid_column": null,
            "grid_gap": null,
            "grid_row": null,
            "grid_template_areas": null,
            "grid_template_columns": null,
            "grid_template_rows": null,
            "height": null,
            "justify_content": null,
            "justify_items": null,
            "left": null,
            "margin": null,
            "max_height": null,
            "max_width": null,
            "min_height": null,
            "min_width": null,
            "object_fit": null,
            "object_position": null,
            "order": null,
            "overflow": null,
            "overflow_x": null,
            "overflow_y": null,
            "padding": null,
            "right": null,
            "top": null,
            "visibility": null,
            "width": null
          }
        },
        "0bd23d9ce95f471d83550800dbe62265": {
          "model_module": "@jupyter-widgets/controls",
          "model_name": "ProgressStyleModel",
          "model_module_version": "1.5.0",
          "state": {
            "_model_module": "@jupyter-widgets/controls",
            "_model_module_version": "1.5.0",
            "_model_name": "ProgressStyleModel",
            "_view_count": null,
            "_view_module": "@jupyter-widgets/base",
            "_view_module_version": "1.2.0",
            "_view_name": "StyleView",
            "bar_color": null,
            "description_width": ""
          }
        },
        "8d2d5d3d6a3b455591fd2b6fc4c76b60": {
          "model_module": "@jupyter-widgets/base",
          "model_name": "LayoutModel",
          "model_module_version": "1.2.0",
          "state": {
            "_model_module": "@jupyter-widgets/base",
            "_model_module_version": "1.2.0",
            "_model_name": "LayoutModel",
            "_view_count": null,
            "_view_module": "@jupyter-widgets/base",
            "_view_module_version": "1.2.0",
            "_view_name": "LayoutView",
            "align_content": null,
            "align_items": null,
            "align_self": null,
            "border": null,
            "bottom": null,
            "display": null,
            "flex": null,
            "flex_flow": null,
            "grid_area": null,
            "grid_auto_columns": null,
            "grid_auto_flow": null,
            "grid_auto_rows": null,
            "grid_column": null,
            "grid_gap": null,
            "grid_row": null,
            "grid_template_areas": null,
            "grid_template_columns": null,
            "grid_template_rows": null,
            "height": null,
            "justify_content": null,
            "justify_items": null,
            "left": null,
            "margin": null,
            "max_height": null,
            "max_width": null,
            "min_height": null,
            "min_width": null,
            "object_fit": null,
            "object_position": null,
            "order": null,
            "overflow": null,
            "overflow_x": null,
            "overflow_y": null,
            "padding": null,
            "right": null,
            "top": null,
            "visibility": null,
            "width": null
          }
        },
        "6667f57126fc443da00cdc6adb1ab6ff": {
          "model_module": "@jupyter-widgets/controls",
          "model_name": "DescriptionStyleModel",
          "model_module_version": "1.5.0",
          "state": {
            "_model_module": "@jupyter-widgets/controls",
            "_model_module_version": "1.5.0",
            "_model_name": "DescriptionStyleModel",
            "_view_count": null,
            "_view_module": "@jupyter-widgets/base",
            "_view_module_version": "1.2.0",
            "_view_name": "StyleView",
            "description_width": ""
          }
        }
      }
    }
  },
  "cells": [
    {
      "cell_type": "markdown",
      "metadata": {
        "id": "view-in-github",
        "colab_type": "text"
      },
      "source": [
        "<a href=\"https://colab.research.google.com/github/punkmic/Topic-Modeling-Reclame-Aqui/blob/master/Topic_Modeling_with_BERTopic_Reclame_aqui.ipynb\" target=\"_parent\"><img src=\"https://colab.research.google.com/assets/colab-badge.svg\" alt=\"Open In Colab\"/></a>"
      ]
    },
    {
      "cell_type": "markdown",
      "source": [
        "# **Topic Modeling with BERTopic - Reclame Aqui**\n",
        "\n",
        "BERTopic is a topic modeling technique that leverages 🤗 transformers and a custom class-based TF-IDF to create dense clusters allowing for easily interpretable topics whilst keeping important words in the topic descriptions (https://maartengr.github.io/BERTopic/index.html)."
      ],
      "metadata": {
        "id": "VG5Z-hvZ9GIZ"
      }
    },
    {
      "cell_type": "markdown",
      "source": [
        "## **Import dependecies**"
      ],
      "metadata": {
        "id": "eXD8VBix7DD1"
      }
    },
    {
      "cell_type": "code",
      "execution_count": 139,
      "metadata": {
        "id": "CQ0hDdDm6gtj"
      },
      "outputs": [],
      "source": [
        "import pandas as pd # for data manipulation\n",
        "import os # for interacting with the operating system\n",
        "import nltk # for natural language processing\n",
        "import string # for string manipulation\n",
        "import re # for for regular expressions\n",
        "try:\n",
        "  from bertopic import BERTopic # for topic modeling\n",
        "  from spellchecker import SpellChecker # for spell check\n",
        "except:\n",
        "  !pip install bertopic\n",
        "  !pip install pyspellchecker\n",
        "  os.kill(os.getpid(), 9)"
      ]
    },
    {
      "cell_type": "code",
      "source": [
        "nltk.download(\"punkt\")"
      ],
      "metadata": {
        "id": "BvRCi7Cvp0G6",
        "outputId": "bde4187c-4902-4498-d11f-b63e8bf3c5db",
        "colab": {
          "base_uri": "https://localhost:8080/"
        }
      },
      "execution_count": 140,
      "outputs": [
        {
          "output_type": "stream",
          "name": "stderr",
          "text": [
            "[nltk_data] Downloading package punkt to /root/nltk_data...\n",
            "[nltk_data]   Package punkt is already up-to-date!\n"
          ]
        },
        {
          "output_type": "execute_result",
          "data": {
            "text/plain": [
              "True"
            ]
          },
          "metadata": {},
          "execution_count": 140
        }
      ]
    },
    {
      "cell_type": "code",
      "source": [
        "nltk.download(\"stopwords\")"
      ],
      "metadata": {
        "id": "JAvaPg5ep3Df",
        "outputId": "06f65470-ed40-4001-cb60-e8e7c40a70df",
        "colab": {
          "base_uri": "https://localhost:8080/"
        }
      },
      "execution_count": 141,
      "outputs": [
        {
          "output_type": "stream",
          "name": "stderr",
          "text": [
            "[nltk_data] Downloading package stopwords to /root/nltk_data...\n",
            "[nltk_data]   Package stopwords is already up-to-date!\n"
          ]
        },
        {
          "output_type": "execute_result",
          "data": {
            "text/plain": [
              "True"
            ]
          },
          "metadata": {},
          "execution_count": 141
        }
      ]
    },
    {
      "cell_type": "code",
      "source": [
        "nltk.download('wordnet')"
      ],
      "metadata": {
        "id": "97RrmPshvcmu",
        "outputId": "88fb7d03-d177-4111-c2e4-c591c59044d9",
        "colab": {
          "base_uri": "https://localhost:8080/"
        }
      },
      "execution_count": 142,
      "outputs": [
        {
          "output_type": "stream",
          "name": "stderr",
          "text": [
            "[nltk_data] Downloading package wordnet to /root/nltk_data...\n",
            "[nltk_data]   Package wordnet is already up-to-date!\n"
          ]
        },
        {
          "output_type": "execute_result",
          "data": {
            "text/plain": [
              "True"
            ]
          },
          "metadata": {},
          "execution_count": 142
        }
      ]
    },
    {
      "cell_type": "code",
      "source": [
        "nltk.download('omw-1.4')"
      ],
      "metadata": {
        "id": "Bo7_jZ5Zvirl",
        "outputId": "be88298f-9e81-48ca-cf3b-ef410ee52e23",
        "colab": {
          "base_uri": "https://localhost:8080/"
        }
      },
      "execution_count": 143,
      "outputs": [
        {
          "output_type": "stream",
          "name": "stderr",
          "text": [
            "[nltk_data] Downloading package omw-1.4 to /root/nltk_data...\n",
            "[nltk_data]   Package omw-1.4 is already up-to-date!\n"
          ]
        },
        {
          "output_type": "execute_result",
          "data": {
            "text/plain": [
              "True"
            ]
          },
          "metadata": {},
          "execution_count": 143
        }
      ]
    },
    {
      "cell_type": "markdown",
      "source": [
        "### **Load data from [Github](https://github.com/punkmic/Topic-Modeling-Reclame-Aqui.git)**"
      ],
      "metadata": {
        "id": "EGjKdT4C8RVD"
      }
    },
    {
      "cell_type": "code",
      "source": [
        "!git clone https://github.com/punkmic/Topic-Modeling-Reclame-Aqui.git"
      ],
      "metadata": {
        "id": "C_yss1JC-8Ou",
        "outputId": "50b6c0fa-dd33-47a5-a427-81e49b47cbb0",
        "colab": {
          "base_uri": "https://localhost:8080/"
        }
      },
      "execution_count": 144,
      "outputs": [
        {
          "output_type": "stream",
          "name": "stdout",
          "text": [
            "fatal: destination path 'Topic-Modeling-Reclame-Aqui' already exists and is not an empty directory.\n"
          ]
        }
      ]
    },
    {
      "cell_type": "markdown",
      "source": [
        "### **Run this cell to update files from remote repository**"
      ],
      "metadata": {
        "id": "4CYg7519JC64"
      }
    },
    {
      "cell_type": "code",
      "source": [
        "# Change directory\n",
        "%cd /content/Topic-Modeling-Reclame-Aqui \n",
        "\n",
        "# Update files from remote repository\n",
        "!git pull \n",
        "\n",
        "# Return to work directory\n",
        "%cd ..\n",
        "\n",
        "# Check current directory\n",
        "!pwd"
      ],
      "metadata": {
        "id": "uv3QBnDRHFPv",
        "outputId": "df7ea078-fe35-4b7d-be49-1ad12ea8326c",
        "colab": {
          "base_uri": "https://localhost:8080/"
        }
      },
      "execution_count": 145,
      "outputs": [
        {
          "output_type": "stream",
          "name": "stdout",
          "text": [
            "/content/Topic-Modeling-Reclame-Aqui\n",
            "Already up to date.\n",
            "/content\n",
            "/content\n"
          ]
        }
      ]
    },
    {
      "cell_type": "markdown",
      "source": [
        "### **Read csv file using read_csv() method as Dataframe**"
      ],
      "metadata": {
        "id": "5YitWNVVJTOP"
      }
    },
    {
      "cell_type": "code",
      "source": [
        "# Set the path to data\n",
        "path_csv = \"/content/Topic-Modeling-Reclame-Aqui/corpus.csv\"\n",
        "\n",
        "# Read the CSV file using the read_csv method\n",
        "df = pd.read_csv(path_csv)\n",
        "\n",
        "# Print the first 5 rows of the DataFrame\n",
        "df.head(5)"
      ],
      "metadata": {
        "id": "F3IoOKARBwVb",
        "outputId": "182dca97-a810-45fa-b4ba-537891e641d7",
        "colab": {
          "base_uri": "https://localhost:8080/",
          "height": 206
        }
      },
      "execution_count": 178,
      "outputs": [
        {
          "output_type": "execute_result",
          "data": {
            "text/plain": [
              "                                               title  \\\n",
              "0  Pedido Cancelado sem justificativa após uma se...   \n",
              "1                                  Pedido cancelado    \n",
              "2                                  Cobrança indevida   \n",
              "3                                 PEDIDO REINCIDENTE   \n",
              "4            Assinatura para vender na amazon Brasil   \n",
              "\n",
              "                                                text  \n",
              "0  Eu estava pesquisando bastante uma nova TV par...  \n",
              "1  Eu sinceramente estou decepcionada com o Amazo...  \n",
              "2  Cancelei meu plano antes de terminar o período...  \n",
              "3  OLHA FIZ COMPRA VEIO ERRADA, E VEIO ERRADO NOV...  \n",
              "4  Eu me inscrevi na Amazon para realizar vendas ...  "
            ],
            "text/html": [
              "\n",
              "  <div id=\"df-bcefd590-1d33-48e2-8674-89180de5ae09\">\n",
              "    <div class=\"colab-df-container\">\n",
              "      <div>\n",
              "<style scoped>\n",
              "    .dataframe tbody tr th:only-of-type {\n",
              "        vertical-align: middle;\n",
              "    }\n",
              "\n",
              "    .dataframe tbody tr th {\n",
              "        vertical-align: top;\n",
              "    }\n",
              "\n",
              "    .dataframe thead th {\n",
              "        text-align: right;\n",
              "    }\n",
              "</style>\n",
              "<table border=\"1\" class=\"dataframe\">\n",
              "  <thead>\n",
              "    <tr style=\"text-align: right;\">\n",
              "      <th></th>\n",
              "      <th>title</th>\n",
              "      <th>text</th>\n",
              "    </tr>\n",
              "  </thead>\n",
              "  <tbody>\n",
              "    <tr>\n",
              "      <th>0</th>\n",
              "      <td>Pedido Cancelado sem justificativa após uma se...</td>\n",
              "      <td>Eu estava pesquisando bastante uma nova TV par...</td>\n",
              "    </tr>\n",
              "    <tr>\n",
              "      <th>1</th>\n",
              "      <td>Pedido cancelado</td>\n",
              "      <td>Eu sinceramente estou decepcionada com o Amazo...</td>\n",
              "    </tr>\n",
              "    <tr>\n",
              "      <th>2</th>\n",
              "      <td>Cobrança indevida</td>\n",
              "      <td>Cancelei meu plano antes de terminar o período...</td>\n",
              "    </tr>\n",
              "    <tr>\n",
              "      <th>3</th>\n",
              "      <td>PEDIDO REINCIDENTE</td>\n",
              "      <td>OLHA FIZ COMPRA VEIO ERRADA, E VEIO ERRADO NOV...</td>\n",
              "    </tr>\n",
              "    <tr>\n",
              "      <th>4</th>\n",
              "      <td>Assinatura para vender na amazon Brasil</td>\n",
              "      <td>Eu me inscrevi na Amazon para realizar vendas ...</td>\n",
              "    </tr>\n",
              "  </tbody>\n",
              "</table>\n",
              "</div>\n",
              "      <button class=\"colab-df-convert\" onclick=\"convertToInteractive('df-bcefd590-1d33-48e2-8674-89180de5ae09')\"\n",
              "              title=\"Convert this dataframe to an interactive table.\"\n",
              "              style=\"display:none;\">\n",
              "        \n",
              "  <svg xmlns=\"http://www.w3.org/2000/svg\" height=\"24px\"viewBox=\"0 0 24 24\"\n",
              "       width=\"24px\">\n",
              "    <path d=\"M0 0h24v24H0V0z\" fill=\"none\"/>\n",
              "    <path d=\"M18.56 5.44l.94 2.06.94-2.06 2.06-.94-2.06-.94-.94-2.06-.94 2.06-2.06.94zm-11 1L8.5 8.5l.94-2.06 2.06-.94-2.06-.94L8.5 2.5l-.94 2.06-2.06.94zm10 10l.94 2.06.94-2.06 2.06-.94-2.06-.94-.94-2.06-.94 2.06-2.06.94z\"/><path d=\"M17.41 7.96l-1.37-1.37c-.4-.4-.92-.59-1.43-.59-.52 0-1.04.2-1.43.59L10.3 9.45l-7.72 7.72c-.78.78-.78 2.05 0 2.83L4 21.41c.39.39.9.59 1.41.59.51 0 1.02-.2 1.41-.59l7.78-7.78 2.81-2.81c.8-.78.8-2.07 0-2.86zM5.41 20L4 18.59l7.72-7.72 1.47 1.35L5.41 20z\"/>\n",
              "  </svg>\n",
              "      </button>\n",
              "      \n",
              "  <style>\n",
              "    .colab-df-container {\n",
              "      display:flex;\n",
              "      flex-wrap:wrap;\n",
              "      gap: 12px;\n",
              "    }\n",
              "\n",
              "    .colab-df-convert {\n",
              "      background-color: #E8F0FE;\n",
              "      border: none;\n",
              "      border-radius: 50%;\n",
              "      cursor: pointer;\n",
              "      display: none;\n",
              "      fill: #1967D2;\n",
              "      height: 32px;\n",
              "      padding: 0 0 0 0;\n",
              "      width: 32px;\n",
              "    }\n",
              "\n",
              "    .colab-df-convert:hover {\n",
              "      background-color: #E2EBFA;\n",
              "      box-shadow: 0px 1px 2px rgba(60, 64, 67, 0.3), 0px 1px 3px 1px rgba(60, 64, 67, 0.15);\n",
              "      fill: #174EA6;\n",
              "    }\n",
              "\n",
              "    [theme=dark] .colab-df-convert {\n",
              "      background-color: #3B4455;\n",
              "      fill: #D2E3FC;\n",
              "    }\n",
              "\n",
              "    [theme=dark] .colab-df-convert:hover {\n",
              "      background-color: #434B5C;\n",
              "      box-shadow: 0px 1px 3px 1px rgba(0, 0, 0, 0.15);\n",
              "      filter: drop-shadow(0px 1px 2px rgba(0, 0, 0, 0.3));\n",
              "      fill: #FFFFFF;\n",
              "    }\n",
              "  </style>\n",
              "\n",
              "      <script>\n",
              "        const buttonEl =\n",
              "          document.querySelector('#df-bcefd590-1d33-48e2-8674-89180de5ae09 button.colab-df-convert');\n",
              "        buttonEl.style.display =\n",
              "          google.colab.kernel.accessAllowed ? 'block' : 'none';\n",
              "\n",
              "        async function convertToInteractive(key) {\n",
              "          const element = document.querySelector('#df-bcefd590-1d33-48e2-8674-89180de5ae09');\n",
              "          const dataTable =\n",
              "            await google.colab.kernel.invokeFunction('convertToInteractive',\n",
              "                                                     [key], {});\n",
              "          if (!dataTable) return;\n",
              "\n",
              "          const docLinkHtml = 'Like what you see? Visit the ' +\n",
              "            '<a target=\"_blank\" href=https://colab.research.google.com/notebooks/data_table.ipynb>data table notebook</a>'\n",
              "            + ' to learn more about interactive tables.';\n",
              "          element.innerHTML = '';\n",
              "          dataTable['output_type'] = 'display_data';\n",
              "          await google.colab.output.renderOutput(dataTable, element);\n",
              "          const docLink = document.createElement('div');\n",
              "          docLink.innerHTML = docLinkHtml;\n",
              "          element.appendChild(docLink);\n",
              "        }\n",
              "      </script>\n",
              "    </div>\n",
              "  </div>\n",
              "  "
            ]
          },
          "metadata": {},
          "execution_count": 178
        }
      ]
    },
    {
      "cell_type": "markdown",
      "source": [
        "This dataset contains just two columns called title and text "
      ],
      "metadata": {
        "id": "gDfB_6inJgr7"
      }
    },
    {
      "cell_type": "code",
      "source": [
        "print(df.shape)"
      ],
      "metadata": {
        "id": "Ytly9hiGJzFA",
        "outputId": "fc38a123-386b-44df-d80a-e27c53aa80bd",
        "colab": {
          "base_uri": "https://localhost:8080/"
        }
      },
      "execution_count": 179,
      "outputs": [
        {
          "output_type": "stream",
          "name": "stdout",
          "text": [
            "(12760, 2)\n"
          ]
        }
      ]
    },
    {
      "cell_type": "markdown",
      "source": [
        "There are 12760 rows in this dataset. To make sure that we have unique rows let's remove duplicate rows."
      ],
      "metadata": {
        "id": "Upvg5pKOJ0bv"
      }
    },
    {
      "cell_type": "code",
      "source": [
        "print(f\"Shape before remove duplicates: {df.shape}\")\n",
        "\n",
        "# User the drop_duplicated method to drop duplicates rows\n",
        "df = df.drop_duplicates(subset=\"text\")\n",
        "\n",
        "print(f\"Shape after remove duplicates: {df.shape}\")"
      ],
      "metadata": {
        "id": "JFru444PE89C",
        "outputId": "1de8a1ee-efb3-45a9-e1a2-db362f0967cb",
        "colab": {
          "base_uri": "https://localhost:8080/"
        }
      },
      "execution_count": 180,
      "outputs": [
        {
          "output_type": "stream",
          "name": "stdout",
          "text": [
            "Shape before remove duplicates: (12760, 2)\n",
            "Shape after remove duplicates: (10510, 2)\n"
          ]
        }
      ]
    },
    {
      "cell_type": "markdown",
      "source": [
        "### **Now let's lower each element in the Dataframe, remove unwanted text and join the two columns**"
      ],
      "metadata": {
        "id": "i57ZGdO7LRag"
      }
    },
    {
      "cell_type": "code",
      "source": [
        "# apply the str.lower() method to each element in the dataframe\n",
        "df = df.applymap(str.lower)\n",
        "\n",
        "# Use the replace() method to replace the string with an empty string\n",
        "df = df.replace(re.compile('\\[editado pelo reclame aqui\\]|editado pelo reclame aqui|Editado pelo Reclame Aqui'), '')\n",
        "\n",
        "# join columns\n",
        "df[\"documents\"] = df[\"title\"] + \" \" + df[\"text\"]\n",
        "df.head()"
      ],
      "metadata": {
        "id": "N0iqgleUNVlE",
        "outputId": "1f2faaf6-9301-42f8-de3b-b32292667aaf",
        "colab": {
          "base_uri": "https://localhost:8080/",
          "height": 337
        }
      },
      "execution_count": 181,
      "outputs": [
        {
          "output_type": "execute_result",
          "data": {
            "text/plain": [
              "                                               title  \\\n",
              "0  pedido cancelado sem justificativa após uma se...   \n",
              "1                                  pedido cancelado    \n",
              "2                                  cobrança indevida   \n",
              "3                                 pedido reincidente   \n",
              "4            assinatura para vender na amazon brasil   \n",
              "\n",
              "                                                text  \\\n",
              "0  eu estava pesquisando bastante uma nova tv par...   \n",
              "1  eu sinceramente estou decepcionada com o amazo...   \n",
              "2  cancelei meu plano antes de terminar o período...   \n",
              "3  olha fiz compra veio errada, e veio errado nov...   \n",
              "4  eu me inscrevi na amazon para realizar vendas ...   \n",
              "\n",
              "                                           documents  \n",
              "0  pedido cancelado sem justificativa após uma se...  \n",
              "1  pedido cancelado  eu sinceramente estou decepc...  \n",
              "2  cobrança indevida cancelei meu plano antes de ...  \n",
              "3  pedido reincidente olha fiz compra veio errada...  \n",
              "4  assinatura para vender na amazon brasil eu me ...  "
            ],
            "text/html": [
              "\n",
              "  <div id=\"df-33c44322-b023-469d-86e3-4536f0d58fb9\">\n",
              "    <div class=\"colab-df-container\">\n",
              "      <div>\n",
              "<style scoped>\n",
              "    .dataframe tbody tr th:only-of-type {\n",
              "        vertical-align: middle;\n",
              "    }\n",
              "\n",
              "    .dataframe tbody tr th {\n",
              "        vertical-align: top;\n",
              "    }\n",
              "\n",
              "    .dataframe thead th {\n",
              "        text-align: right;\n",
              "    }\n",
              "</style>\n",
              "<table border=\"1\" class=\"dataframe\">\n",
              "  <thead>\n",
              "    <tr style=\"text-align: right;\">\n",
              "      <th></th>\n",
              "      <th>title</th>\n",
              "      <th>text</th>\n",
              "      <th>documents</th>\n",
              "    </tr>\n",
              "  </thead>\n",
              "  <tbody>\n",
              "    <tr>\n",
              "      <th>0</th>\n",
              "      <td>pedido cancelado sem justificativa após uma se...</td>\n",
              "      <td>eu estava pesquisando bastante uma nova tv par...</td>\n",
              "      <td>pedido cancelado sem justificativa após uma se...</td>\n",
              "    </tr>\n",
              "    <tr>\n",
              "      <th>1</th>\n",
              "      <td>pedido cancelado</td>\n",
              "      <td>eu sinceramente estou decepcionada com o amazo...</td>\n",
              "      <td>pedido cancelado  eu sinceramente estou decepc...</td>\n",
              "    </tr>\n",
              "    <tr>\n",
              "      <th>2</th>\n",
              "      <td>cobrança indevida</td>\n",
              "      <td>cancelei meu plano antes de terminar o período...</td>\n",
              "      <td>cobrança indevida cancelei meu plano antes de ...</td>\n",
              "    </tr>\n",
              "    <tr>\n",
              "      <th>3</th>\n",
              "      <td>pedido reincidente</td>\n",
              "      <td>olha fiz compra veio errada, e veio errado nov...</td>\n",
              "      <td>pedido reincidente olha fiz compra veio errada...</td>\n",
              "    </tr>\n",
              "    <tr>\n",
              "      <th>4</th>\n",
              "      <td>assinatura para vender na amazon brasil</td>\n",
              "      <td>eu me inscrevi na amazon para realizar vendas ...</td>\n",
              "      <td>assinatura para vender na amazon brasil eu me ...</td>\n",
              "    </tr>\n",
              "  </tbody>\n",
              "</table>\n",
              "</div>\n",
              "      <button class=\"colab-df-convert\" onclick=\"convertToInteractive('df-33c44322-b023-469d-86e3-4536f0d58fb9')\"\n",
              "              title=\"Convert this dataframe to an interactive table.\"\n",
              "              style=\"display:none;\">\n",
              "        \n",
              "  <svg xmlns=\"http://www.w3.org/2000/svg\" height=\"24px\"viewBox=\"0 0 24 24\"\n",
              "       width=\"24px\">\n",
              "    <path d=\"M0 0h24v24H0V0z\" fill=\"none\"/>\n",
              "    <path d=\"M18.56 5.44l.94 2.06.94-2.06 2.06-.94-2.06-.94-.94-2.06-.94 2.06-2.06.94zm-11 1L8.5 8.5l.94-2.06 2.06-.94-2.06-.94L8.5 2.5l-.94 2.06-2.06.94zm10 10l.94 2.06.94-2.06 2.06-.94-2.06-.94-.94-2.06-.94 2.06-2.06.94z\"/><path d=\"M17.41 7.96l-1.37-1.37c-.4-.4-.92-.59-1.43-.59-.52 0-1.04.2-1.43.59L10.3 9.45l-7.72 7.72c-.78.78-.78 2.05 0 2.83L4 21.41c.39.39.9.59 1.41.59.51 0 1.02-.2 1.41-.59l7.78-7.78 2.81-2.81c.8-.78.8-2.07 0-2.86zM5.41 20L4 18.59l7.72-7.72 1.47 1.35L5.41 20z\"/>\n",
              "  </svg>\n",
              "      </button>\n",
              "      \n",
              "  <style>\n",
              "    .colab-df-container {\n",
              "      display:flex;\n",
              "      flex-wrap:wrap;\n",
              "      gap: 12px;\n",
              "    }\n",
              "\n",
              "    .colab-df-convert {\n",
              "      background-color: #E8F0FE;\n",
              "      border: none;\n",
              "      border-radius: 50%;\n",
              "      cursor: pointer;\n",
              "      display: none;\n",
              "      fill: #1967D2;\n",
              "      height: 32px;\n",
              "      padding: 0 0 0 0;\n",
              "      width: 32px;\n",
              "    }\n",
              "\n",
              "    .colab-df-convert:hover {\n",
              "      background-color: #E2EBFA;\n",
              "      box-shadow: 0px 1px 2px rgba(60, 64, 67, 0.3), 0px 1px 3px 1px rgba(60, 64, 67, 0.15);\n",
              "      fill: #174EA6;\n",
              "    }\n",
              "\n",
              "    [theme=dark] .colab-df-convert {\n",
              "      background-color: #3B4455;\n",
              "      fill: #D2E3FC;\n",
              "    }\n",
              "\n",
              "    [theme=dark] .colab-df-convert:hover {\n",
              "      background-color: #434B5C;\n",
              "      box-shadow: 0px 1px 3px 1px rgba(0, 0, 0, 0.15);\n",
              "      filter: drop-shadow(0px 1px 2px rgba(0, 0, 0, 0.3));\n",
              "      fill: #FFFFFF;\n",
              "    }\n",
              "  </style>\n",
              "\n",
              "      <script>\n",
              "        const buttonEl =\n",
              "          document.querySelector('#df-33c44322-b023-469d-86e3-4536f0d58fb9 button.colab-df-convert');\n",
              "        buttonEl.style.display =\n",
              "          google.colab.kernel.accessAllowed ? 'block' : 'none';\n",
              "\n",
              "        async function convertToInteractive(key) {\n",
              "          const element = document.querySelector('#df-33c44322-b023-469d-86e3-4536f0d58fb9');\n",
              "          const dataTable =\n",
              "            await google.colab.kernel.invokeFunction('convertToInteractive',\n",
              "                                                     [key], {});\n",
              "          if (!dataTable) return;\n",
              "\n",
              "          const docLinkHtml = 'Like what you see? Visit the ' +\n",
              "            '<a target=\"_blank\" href=https://colab.research.google.com/notebooks/data_table.ipynb>data table notebook</a>'\n",
              "            + ' to learn more about interactive tables.';\n",
              "          element.innerHTML = '';\n",
              "          dataTable['output_type'] = 'display_data';\n",
              "          await google.colab.output.renderOutput(dataTable, element);\n",
              "          const docLink = document.createElement('div');\n",
              "          docLink.innerHTML = docLinkHtml;\n",
              "          element.appendChild(docLink);\n",
              "        }\n",
              "      </script>\n",
              "    </div>\n",
              "  </div>\n",
              "  "
            ]
          },
          "metadata": {},
          "execution_count": 181
        }
      ]
    },
    {
      "cell_type": "code",
      "source": [
        "# Drop the old index column\n",
        "df.reset_index(inplace = True, drop = True)\n",
        "\n",
        "# Print the shape\n",
        "df.shape"
      ],
      "metadata": {
        "id": "D2OKpjiYO6n3",
        "outputId": "e755340c-58a5-4f57-be43-4b57d7ed114c",
        "colab": {
          "base_uri": "https://localhost:8080/"
        }
      },
      "execution_count": 149,
      "outputs": [
        {
          "output_type": "execute_result",
          "data": {
            "text/plain": [
              "(10510, 3)"
            ]
          },
          "metadata": {},
          "execution_count": 149
        }
      ]
    },
    {
      "cell_type": "markdown",
      "source": [
        "## **Preprocessing**"
      ],
      "metadata": {
        "id": "drjuwA5yk4YB"
      }
    },
    {
      "cell_type": "markdown",
      "source": [
        "### **Tokenization**\n",
        "\n",
        "Tokenization aims to breaking text down into its component parts"
      ],
      "metadata": {
        "id": "i9ukWCy8qBOP"
      }
    },
    {
      "cell_type": "code",
      "source": [
        "WORD_TOKENIZER = nltk.tokenize.word_tokenize\n",
        "def tokenize(text, lowercase=True):\n",
        "  if lowercase:\n",
        "    text = text.lower()\n",
        "  return WORD_TOKENIZER(text, language=\"portuguese\")"
      ],
      "metadata": {
        "id": "k_f8hsxJk7v4"
      },
      "execution_count": 150,
      "outputs": []
    },
    {
      "cell_type": "markdown",
      "source": [
        "### **Stem** \n",
        "\n",
        "Stem the tokens. This step aims to remove morphological affixes and normalize to standardized stem forms"
      ],
      "metadata": {
        "id": "Lm7V--yMq98r"
      }
    },
    {
      "cell_type": "code",
      "source": [
        "STEMMER = nltk.PorterStemmer()\n",
        "def stem(tokens):\n",
        "  return [STEMMER.stem(token) for token in tokens]"
      ],
      "metadata": {
        "id": "TphgFQIxrPMM"
      },
      "execution_count": 151,
      "outputs": []
    },
    {
      "cell_type": "markdown",
      "source": [
        "### **Lemmatize**\n",
        "\n",
        "Lemmatize the tokens. Retains more natural forms than stemming, but assumes all tokens nons unless tokens are passed as (word, pos) tuples."
      ],
      "metadata": {
        "id": "RTiUcqzrrdiX"
      }
    },
    {
      "cell_type": "code",
      "source": [
        "LEMMATIZER = nltk.WordNetLemmatizer()\n",
        "def lemmatize(tokens):\n",
        "  lemmas = []\n",
        "  for token in tokens:\n",
        "    if isinstance(token, str):\n",
        "      # For str token\n",
        "      lemmas.append(LEMMATIZER.lemmatize(token)) \n",
        "    else:\n",
        "      # For tuple of (str, pos)\n",
        "      lemmas.append(LEMMATIZER.lemmatize(*tokens)) \n",
        "  return lemmas"
      ],
      "metadata": {
        "id": "4O48ihphrxy3"
      },
      "execution_count": 152,
      "outputs": []
    },
    {
      "cell_type": "markdown",
      "source": [
        "### **Remove stopwords**\n",
        "\n",
        "Stop words are things like articles and conjunctions that usually do not offer a lot of value in an analysis."
      ],
      "metadata": {
        "id": "jkLYqJgDs4Xd"
      }
    },
    {
      "cell_type": "code",
      "source": [
        "def remove_stopwords(tokens, stopwords=None):\n",
        "\n",
        "  # Use the default stop words if none is passed\n",
        "  if stopwords is None:\n",
        "    stopwords = nltk.corpus.stopwords.words(\"portuguese\")\n",
        "  \n",
        "  # Filter the list of tokens to exclude the stop word tokens\n",
        "  return [token for token in tokens if token not in stopwords]"
      ],
      "metadata": {
        "id": "D9blZaBYtHgj"
      },
      "execution_count": 153,
      "outputs": []
    },
    {
      "cell_type": "markdown",
      "source": [
        "### **Remove hyperlinks**\n",
        "\n",
        "Removes http/s links from the tokens."
      ],
      "metadata": {
        "id": "X4qMKyfKtaAW"
      }
    },
    {
      "cell_type": "code",
      "source": [
        "def remove_links(tokens):\n",
        "  # Filter tokens that starts with \"http://\" or \"https://\"\n",
        "  return [token for token in tokens \n",
        "          if not token.startswith(\"http://\")\n",
        "          and not token.startswith(\"https://\")]"
      ],
      "metadata": {
        "id": "LqlMta5qtovS"
      },
      "execution_count": 154,
      "outputs": []
    },
    {
      "cell_type": "markdown",
      "source": [
        "### **Remove numbers**"
      ],
      "metadata": {
        "id": "EwKFluprz-pW"
      }
    },
    {
      "cell_type": "code",
      "source": [
        "def remove_numbers(tokens):\n",
        "  # Filter number tokens\n",
        "  return [token for token in tokens if not token.isdigit()]"
      ],
      "metadata": {
        "id": "ALKnXv8C0EWu"
      },
      "execution_count": 155,
      "outputs": []
    },
    {
      "cell_type": "code",
      "source": [
        "def remove_date(tokens):\n",
        "  # Compile a regular expression to match dates in the format dd/mm or dd/mm/yyyy\n",
        "  date_regex = re.compile(r'\\d{2}/\\d{2}(/\\d{4})?')\n",
        "\n",
        "  # Use the regex to find all the tokens that match the date pattern\n",
        "  dates = [token for token in tokens if date_regex.fullmatch(token)]\n",
        "\n",
        "  # Filter the list of tokens to exclude the date tokens\n",
        "  filtered_tokens = [token for token in tokens if token not in dates]\n",
        "\n",
        "  # Return the filtered tokens\n",
        "  return filtered_tokens"
      ],
      "metadata": {
        "id": "ywykIjKZctc-"
      },
      "execution_count": 156,
      "outputs": []
    },
    {
      "cell_type": "markdown",
      "source": [
        "### **Remove punctuation**"
      ],
      "metadata": {
        "id": "7y1FqCD1t75_"
      }
    },
    {
      "cell_type": "code",
      "source": [
        "def remove_punctuation(tokens,\n",
        "                       strip_mentions=False,\n",
        "                       strip_hashtags=False,\n",
        "                       strict=False):\n",
        "\n",
        "    # Use the sub method to remove all punctuation characters\n",
        "    tokens = [re.sub(r\"[,!?.]\", \"\", t) for t in tokens ] \n",
        "\n",
        "    # Remove punctuation\n",
        "    #tokens = [t for t in tokens if t not in string.punctuation]\n",
        "\n",
        "    # Remove @ symbol from left side of tokens\n",
        "    if strip_mentions:\n",
        "        tokens = [t.lstrip('@') for t in tokens]\n",
        "\n",
        "    # Remove # symbol from left side of tokens\n",
        "    if strip_hashtags:\n",
        "        tokens = [t.lstrip('#') for t in tokens]\n",
        "\n",
        "    return tokens"
      ],
      "metadata": {
        "id": "ba7paG7_uBtS"
      },
      "execution_count": 157,
      "outputs": []
    },
    {
      "cell_type": "markdown",
      "source": [
        "### **Remove short tokens**"
      ],
      "metadata": {
        "id": "SiUx2T8C5YBh"
      }
    },
    {
      "cell_type": "code",
      "source": [
        "def remove_short_tokens(tokens):\n",
        "  # Filter the list of tokens to exclude tokens that are shorter than four letters\n",
        "  filtered_tokens = [token for token in tokens if len(token) >= 4]\n",
        "\n",
        "  # Return the filtered tokens\n",
        "  return filtered_tokens"
      ],
      "metadata": {
        "id": "t8SOwNYW6QI1"
      },
      "execution_count": 158,
      "outputs": []
    },
    {
      "cell_type": "markdown",
      "source": [
        "### **Correction of spelling errors and abbreviations**"
      ],
      "metadata": {
        "id": "WqtOisN38pZP"
      }
    },
    {
      "cell_type": "code",
      "source": [
        "def check_spell_errors(text):\n",
        "  # Create a SpellChecker object\n",
        "  spell = SpellChecker(language='pt')\n",
        "\n",
        "  # Correct the spelling errors in the text\n",
        "  corrected_text = spell.correction(text)\n",
        "\n",
        "  # If no correction is present user the original text\n",
        "  if corrected_text == None:\n",
        "     corrected_text =  text\n",
        "  \n",
        "  # Return the corrected text\n",
        "  return corrected_text"
      ],
      "metadata": {
        "id": "fUTiJYc_8hba"
      },
      "execution_count": 159,
      "outputs": []
    },
    {
      "cell_type": "code",
      "source": [
        "def preprocessing(documents):\n",
        "  corpus = []\n",
        "\n",
        "  # process each document and append to corpus list\n",
        "  for i, text in enumerate(documents):\n",
        "    if i % 1000 == 0:\n",
        "      print(f\"Processed {i} documents\")\n",
        "    text = check_spell_errors(text)\n",
        "    tokens = tokenize(text)\n",
        "    tokens = remove_links(tokens)\n",
        "    tokens = remove_punctuation(tokens, strip_mentions=True, strip_hashtags=True)\n",
        "    tokens = remove_numbers(tokens)\n",
        "    tokens = remove_date(tokens)\n",
        "    tokens = remove_short_tokens(tokens)\n",
        "    tokens = remove_stopwords(tokens)\n",
        "    tokens = lemmatize(tokens) \n",
        "    corpus.append(' '.join(tokens))\n",
        "  return corpus"
      ],
      "metadata": {
        "id": "5aiFtbo3uuh_"
      },
      "execution_count": 1,
      "outputs": []
    },
    {
      "cell_type": "code",
      "source": [
        "# Print the first document before and after pre-processing it\n",
        "corpus = preprocessing(df.documents) \n",
        "print(df.documents[0])\n",
        "print()\n",
        "corpus[0]"
      ],
      "metadata": {
        "id": "Tu75mPgywHwb",
        "outputId": "79838fb7-6959-4366-840b-674e108e393e",
        "colab": {
          "base_uri": "https://localhost:8080/",
          "height": 247
        }
      },
      "execution_count": 185,
      "outputs": [
        {
          "output_type": "stream",
          "name": "stdout",
          "text": [
            "pedido cancelado sem justificativa após uma semana da compra eu estava pesquisando bastante uma nova tv para comprar e resolvi aguardar a semana do cliente, porque como ocorreu tiveram vários descontos e promoções nessa semana, sendo assim recebi descontos, cashback e cupons de varias plataformas e assim decidi efetuar a compra aquela que eu entendesse ser o melhor custo beneficio. sendo assim no dia 12 de setembro de 2022 recebi uma oferta de produto da amazon que entendi estar com um preço muito bom além de ter cachback e efetuei a compra que já aguardei até a semana do consumidor para efetuar com toda a expectativa. como estavamos anciosos e mesmo estando dentro do prazo de entrega hoje no dia 19/09 resolvi enviar uma mensagem perguntando quando o pedido seria enviado, ja que após a confirmação da compra e pagamento, passado 7 dias não tive nenhum retorno, já que complei inclusive na amazon, um site em que confio e tambem sou assinante. para a minha surpresa após o pedido de informação do pedido, tenho um retorno por email na qual o mesmo estaria sendo cancelado, sendo nenhuma justificativa e após 7 dias da realização do mesmo. ou seja aguardei chegar em um periodo de compro ansiosamente para aproveitar os descontos de um produto que minha familia aguardava, e além de cancelar a compra do produto sem uma justificativa a empresa me tirou todas as oportunidades e descontos que tive de efetuar a compra na semana do consumidor já que levaram 7 dias para cancelar o mesmo, me sinto extremamente  por uma empresa em que sempre acreditei, aguardo uma satisfação e reparação aos meus transtornos sofridos, já que hoje não consigo mais comprar esse produto pelo mesmo valor ou próximo a ele.\n",
            "\n"
          ]
        },
        {
          "output_type": "execute_result",
          "data": {
            "text/plain": [
              "'pedido cancelado justificativa após semana compra pesquisando bastante nova comprar resolvi aguardar semana cliente porque ocorreu vários descontos promoções nessa semana sendo assim recebi descontos cashback cupons varias plataformas assim decidi efetuar compra entendesse melhor custo beneficio sendo assim setembro recebi oferta produto amazon entendi preço além cachback efetuei compra aguardei semana consumidor efetuar toda expectativa estavamos anciosos estando dentro prazo entrega hoje resolvi enviar mensagem perguntando pedido enviado após confirmação compra pagamento passado dia nenhum retorno complei inclusive amazon site confio tambem assinante surpresa após pedido informação pedido retorno email estaria sendo cancelado sendo nenhuma justificativa após dia realização aguardei chegar periodo compro ansiosamente aproveitar descontos produto familia aguardava além cancelar compra produto justificativa empresa tirou toda oportunidades descontos efetuar compra semana consumidor levaram dia cancelar sinto extremamente empresa sempre acreditei aguardo satisfação reparação transtornos sofridos hoje consigo comprar produto valor próximo'"
            ],
            "application/vnd.google.colaboratory.intrinsic+json": {
              "type": "string"
            }
          },
          "metadata": {},
          "execution_count": 185
        }
      ]
    },
    {
      "cell_type": "markdown",
      "source": [
        "## **Training a BERTopic Model**\n",
        "\n",
        "As our data language is portuguese we will going to set language to multilingual."
      ],
      "metadata": {
        "id": "AWmOFQ3VOD05"
      }
    },
    {
      "cell_type": "markdown",
      "source": [
        "### **Enabling the GPU**\n",
        "\n",
        "We will use the GPU provided by COLAB to accelarate our model training. To enable GPUs for the notebook:\n",
        "1- Navigate to Edit -> Notebook Settings\n",
        "2- Select GPU from the Hardware Accelerator drop-down"
      ],
      "metadata": {
        "id": "5goOGgeyhK3S"
      }
    },
    {
      "cell_type": "code",
      "source": [
        "# verify if GPU is selected\n",
        "gpu_info = !nvidia-smi\n",
        "gpu_info = '\\n'.join(gpu_info)\n",
        "if gpu_info.find('failed') >= 0:\n",
        "  print('Not connected to a GPU')\n",
        "else:\n",
        "  print(gpu_info)"
      ],
      "metadata": {
        "id": "tgfQItxxRCfq",
        "outputId": "54b064b7-85a0-446e-a597-b08726b46d8a",
        "colab": {
          "base_uri": "https://localhost:8080/"
        }
      },
      "execution_count": 162,
      "outputs": [
        {
          "output_type": "stream",
          "name": "stdout",
          "text": [
            "Sat Dec 10 22:25:23 2022       \n",
            "+-----------------------------------------------------------------------------+\n",
            "| NVIDIA-SMI 460.32.03    Driver Version: 460.32.03    CUDA Version: 11.2     |\n",
            "|-------------------------------+----------------------+----------------------+\n",
            "| GPU  Name        Persistence-M| Bus-Id        Disp.A | Volatile Uncorr. ECC |\n",
            "| Fan  Temp  Perf  Pwr:Usage/Cap|         Memory-Usage | GPU-Util  Compute M. |\n",
            "|                               |                      |               MIG M. |\n",
            "|===============================+======================+======================|\n",
            "|   0  Tesla T4            Off  | 00000000:00:04.0 Off |                    0 |\n",
            "| N/A   73C    P0    34W /  70W |   1386MiB / 15109MiB |      0%      Default |\n",
            "|                               |                      |                  N/A |\n",
            "+-------------------------------+----------------------+----------------------+\n",
            "                                                                               \n",
            "+-----------------------------------------------------------------------------+\n",
            "| Processes:                                                                  |\n",
            "|  GPU   GI   CI        PID   Type   Process name                  GPU Memory |\n",
            "|        ID   ID                                                   Usage      |\n",
            "|=============================================================================|\n",
            "+-----------------------------------------------------------------------------+\n"
          ]
        }
      ]
    },
    {
      "cell_type": "code",
      "source": [
        "# Create a new BERTopic model using multilingual option\n",
        "topic_model = BERTopic(language=\"multilingual\", calculate_probabilities=True, verbose=True)\n",
        "\n",
        "# Train model \n",
        "topics, probs = topic_model.fit_transform(corpus)"
      ],
      "metadata": {
        "id": "B0EFqnutN2Y9",
        "outputId": "56049145-6336-4e9c-9626-5600b6c5786e",
        "colab": {
          "base_uri": "https://localhost:8080/",
          "height": 101,
          "referenced_widgets": [
            "e28dc376319c4467bccd00a736b521e7",
            "0a803024ee9a41c4af046d056078a9ec",
            "1a2e7be529b841c99f07e4a5200670c6",
            "7ea8b4d57f1a493e823c072556d4edda",
            "0d40d10316c64e82be6700a4de4c70dc",
            "12ed13890f904e429f700e5133965835",
            "e93355ac9ff44f0a8d60b987e2c114fd",
            "eafbd63cac5e48e481c0bdd18b26daab",
            "0bd23d9ce95f471d83550800dbe62265",
            "8d2d5d3d6a3b455591fd2b6fc4c76b60",
            "6667f57126fc443da00cdc6adb1ab6ff"
          ]
        }
      },
      "execution_count": 184,
      "outputs": [
        {
          "output_type": "display_data",
          "data": {
            "text/plain": [
              "Batches:   0%|          | 0/329 [00:00<?, ?it/s]"
            ],
            "application/vnd.jupyter.widget-view+json": {
              "version_major": 2,
              "version_minor": 0,
              "model_id": "e28dc376319c4467bccd00a736b521e7"
            }
          },
          "metadata": {}
        },
        {
          "output_type": "stream",
          "name": "stderr",
          "text": [
            "2022-12-10 22:57:38,819 - BERTopic - Transformed documents to Embeddings\n",
            "2022-12-10 22:57:51,367 - BERTopic - Reduced dimensionality\n",
            "2022-12-10 22:57:54,626 - BERTopic - Clustered reduced embeddings\n"
          ]
        }
      ]
    },
    {
      "cell_type": "markdown",
      "source": [
        "## **Extracting Topics**"
      ],
      "metadata": {
        "id": "GimKIMmaRZSd"
      }
    },
    {
      "cell_type": "code",
      "source": [
        "# print the most frequent topics\n",
        "freq = topic_model.get_topic_info()\n",
        "freq.head(5)"
      ],
      "metadata": {
        "id": "JIrBNmF-Rcf0",
        "outputId": "4a42140d-c9bd-4402-8942-1831696a298f",
        "colab": {
          "base_uri": "https://localhost:8080/",
          "height": 206
        }
      },
      "execution_count": 164,
      "outputs": [
        {
          "output_type": "execute_result",
          "data": {
            "text/plain": [
              "   Topic  Count                                      Name\n",
              "0     -1   4481          -1_produto_compra_pedido_entrega\n",
              "1      0   1449          0_amazon_prime_assinatura_cartão\n",
              "2      1    568               1_entrega_atraso_prazo_data\n",
              "3      2    506      2_casas_bahia_entrega_transportadora\n",
              "4      3    332  3_cancelamento_cancelar_pedido_cancelado"
            ],
            "text/html": [
              "\n",
              "  <div id=\"df-affe8d82-b20e-4144-8aab-ea0491c3b307\">\n",
              "    <div class=\"colab-df-container\">\n",
              "      <div>\n",
              "<style scoped>\n",
              "    .dataframe tbody tr th:only-of-type {\n",
              "        vertical-align: middle;\n",
              "    }\n",
              "\n",
              "    .dataframe tbody tr th {\n",
              "        vertical-align: top;\n",
              "    }\n",
              "\n",
              "    .dataframe thead th {\n",
              "        text-align: right;\n",
              "    }\n",
              "</style>\n",
              "<table border=\"1\" class=\"dataframe\">\n",
              "  <thead>\n",
              "    <tr style=\"text-align: right;\">\n",
              "      <th></th>\n",
              "      <th>Topic</th>\n",
              "      <th>Count</th>\n",
              "      <th>Name</th>\n",
              "    </tr>\n",
              "  </thead>\n",
              "  <tbody>\n",
              "    <tr>\n",
              "      <th>0</th>\n",
              "      <td>-1</td>\n",
              "      <td>4481</td>\n",
              "      <td>-1_produto_compra_pedido_entrega</td>\n",
              "    </tr>\n",
              "    <tr>\n",
              "      <th>1</th>\n",
              "      <td>0</td>\n",
              "      <td>1449</td>\n",
              "      <td>0_amazon_prime_assinatura_cartão</td>\n",
              "    </tr>\n",
              "    <tr>\n",
              "      <th>2</th>\n",
              "      <td>1</td>\n",
              "      <td>568</td>\n",
              "      <td>1_entrega_atraso_prazo_data</td>\n",
              "    </tr>\n",
              "    <tr>\n",
              "      <th>3</th>\n",
              "      <td>2</td>\n",
              "      <td>506</td>\n",
              "      <td>2_casas_bahia_entrega_transportadora</td>\n",
              "    </tr>\n",
              "    <tr>\n",
              "      <th>4</th>\n",
              "      <td>3</td>\n",
              "      <td>332</td>\n",
              "      <td>3_cancelamento_cancelar_pedido_cancelado</td>\n",
              "    </tr>\n",
              "  </tbody>\n",
              "</table>\n",
              "</div>\n",
              "      <button class=\"colab-df-convert\" onclick=\"convertToInteractive('df-affe8d82-b20e-4144-8aab-ea0491c3b307')\"\n",
              "              title=\"Convert this dataframe to an interactive table.\"\n",
              "              style=\"display:none;\">\n",
              "        \n",
              "  <svg xmlns=\"http://www.w3.org/2000/svg\" height=\"24px\"viewBox=\"0 0 24 24\"\n",
              "       width=\"24px\">\n",
              "    <path d=\"M0 0h24v24H0V0z\" fill=\"none\"/>\n",
              "    <path d=\"M18.56 5.44l.94 2.06.94-2.06 2.06-.94-2.06-.94-.94-2.06-.94 2.06-2.06.94zm-11 1L8.5 8.5l.94-2.06 2.06-.94-2.06-.94L8.5 2.5l-.94 2.06-2.06.94zm10 10l.94 2.06.94-2.06 2.06-.94-2.06-.94-.94-2.06-.94 2.06-2.06.94z\"/><path d=\"M17.41 7.96l-1.37-1.37c-.4-.4-.92-.59-1.43-.59-.52 0-1.04.2-1.43.59L10.3 9.45l-7.72 7.72c-.78.78-.78 2.05 0 2.83L4 21.41c.39.39.9.59 1.41.59.51 0 1.02-.2 1.41-.59l7.78-7.78 2.81-2.81c.8-.78.8-2.07 0-2.86zM5.41 20L4 18.59l7.72-7.72 1.47 1.35L5.41 20z\"/>\n",
              "  </svg>\n",
              "      </button>\n",
              "      \n",
              "  <style>\n",
              "    .colab-df-container {\n",
              "      display:flex;\n",
              "      flex-wrap:wrap;\n",
              "      gap: 12px;\n",
              "    }\n",
              "\n",
              "    .colab-df-convert {\n",
              "      background-color: #E8F0FE;\n",
              "      border: none;\n",
              "      border-radius: 50%;\n",
              "      cursor: pointer;\n",
              "      display: none;\n",
              "      fill: #1967D2;\n",
              "      height: 32px;\n",
              "      padding: 0 0 0 0;\n",
              "      width: 32px;\n",
              "    }\n",
              "\n",
              "    .colab-df-convert:hover {\n",
              "      background-color: #E2EBFA;\n",
              "      box-shadow: 0px 1px 2px rgba(60, 64, 67, 0.3), 0px 1px 3px 1px rgba(60, 64, 67, 0.15);\n",
              "      fill: #174EA6;\n",
              "    }\n",
              "\n",
              "    [theme=dark] .colab-df-convert {\n",
              "      background-color: #3B4455;\n",
              "      fill: #D2E3FC;\n",
              "    }\n",
              "\n",
              "    [theme=dark] .colab-df-convert:hover {\n",
              "      background-color: #434B5C;\n",
              "      box-shadow: 0px 1px 3px 1px rgba(0, 0, 0, 0.15);\n",
              "      filter: drop-shadow(0px 1px 2px rgba(0, 0, 0, 0.3));\n",
              "      fill: #FFFFFF;\n",
              "    }\n",
              "  </style>\n",
              "\n",
              "      <script>\n",
              "        const buttonEl =\n",
              "          document.querySelector('#df-affe8d82-b20e-4144-8aab-ea0491c3b307 button.colab-df-convert');\n",
              "        buttonEl.style.display =\n",
              "          google.colab.kernel.accessAllowed ? 'block' : 'none';\n",
              "\n",
              "        async function convertToInteractive(key) {\n",
              "          const element = document.querySelector('#df-affe8d82-b20e-4144-8aab-ea0491c3b307');\n",
              "          const dataTable =\n",
              "            await google.colab.kernel.invokeFunction('convertToInteractive',\n",
              "                                                     [key], {});\n",
              "          if (!dataTable) return;\n",
              "\n",
              "          const docLinkHtml = 'Like what you see? Visit the ' +\n",
              "            '<a target=\"_blank\" href=https://colab.research.google.com/notebooks/data_table.ipynb>data table notebook</a>'\n",
              "            + ' to learn more about interactive tables.';\n",
              "          element.innerHTML = '';\n",
              "          dataTable['output_type'] = 'display_data';\n",
              "          await google.colab.output.renderOutput(dataTable, element);\n",
              "          const docLink = document.createElement('div');\n",
              "          docLink.innerHTML = docLinkHtml;\n",
              "          element.appendChild(docLink);\n",
              "        }\n",
              "      </script>\n",
              "    </div>\n",
              "  </div>\n",
              "  "
            ]
          },
          "metadata": {},
          "execution_count": 164
        }
      ]
    },
    {
      "cell_type": "markdown",
      "source": [
        "The table above shows the five most freqeuente topics and the words present on it extract by BERTopic. -1 refers to all outliers and should be ignored."
      ],
      "metadata": {
        "id": "TVWcfF5mRrMy"
      }
    },
    {
      "cell_type": "code",
      "source": [
        "# show the most frequent topic\n",
        "topic_model.get_topic(1)"
      ],
      "metadata": {
        "id": "Br_UMf1kRxU3",
        "outputId": "d86353ec-e917-4399-de8c-24f5512e11d8",
        "colab": {
          "base_uri": "https://localhost:8080/"
        }
      },
      "execution_count": 165,
      "outputs": [
        {
          "output_type": "execute_result",
          "data": {
            "text/plain": [
              "[('entrega', 0.038574590353602285),\n",
              " ('atraso', 0.03138799047938097),\n",
              " ('prazo', 0.026177832530564146),\n",
              " ('data', 0.021252743617463054),\n",
              " ('atrasada', 0.019350480528862284),\n",
              " ('pedido', 0.016015215446197228),\n",
              " ('previsão', 0.015551358578147887),\n",
              " ('dia', 0.01432637353225581),\n",
              " ('ainda', 0.013714904194269012),\n",
              " ('hoje', 0.013035796523943613)]"
            ]
          },
          "metadata": {},
          "execution_count": 165
        }
      ]
    },
    {
      "cell_type": "markdown",
      "source": [
        "**Note:** BERTopic is stocastich which means that the topics might differ across runs this is mostly due to the stocastisch nature of UMAP"
      ],
      "metadata": {
        "id": "YpP4HgF2R6Wa"
      }
    },
    {
      "cell_type": "markdown",
      "source": [
        "## **Visualization**"
      ],
      "metadata": {
        "id": "wBsA8hiVSJDY"
      }
    },
    {
      "cell_type": "markdown",
      "source": [
        "### **Intertopic Distance Map**\n",
        "\n",
        "This graph shows the distance intertopic and help us understand the promixity of topics"
      ],
      "metadata": {
        "id": "2twooZDXUc2T"
      }
    },
    {
      "cell_type": "code",
      "source": [
        "topic_model.visualize_topics()"
      ],
      "metadata": {
        "id": "Ae2JSAENSIOJ",
        "outputId": "645bfe50-4fc8-4eee-d38a-b0ff9cbf283d",
        "colab": {
          "base_uri": "https://localhost:8080/",
          "height": 667
        }
      },
      "execution_count": 166,
      "outputs": [
        {
          "output_type": "display_data",
          "data": {
            "text/html": [
              "<html>\n",
              "<head><meta charset=\"utf-8\" /></head>\n",
              "<body>\n",
              "    <div>            <script src=\"https://cdnjs.cloudflare.com/ajax/libs/mathjax/2.7.5/MathJax.js?config=TeX-AMS-MML_SVG\"></script><script type=\"text/javascript\">if (window.MathJax) {MathJax.Hub.Config({SVG: {font: \"STIX-Web\"}});}</script>                <script type=\"text/javascript\">window.PlotlyConfig = {MathJaxConfig: 'local'};</script>\n",
              "        <script src=\"https://cdn.plot.ly/plotly-2.8.3.min.js\"></script>                <div id=\"1087380d-f565-4a31-82b3-4740ad8efb92\" class=\"plotly-graph-div\" style=\"height:650px; width:650px;\"></div>            <script type=\"text/javascript\">                                    window.PLOTLYENV=window.PLOTLYENV || {};                                    if (document.getElementById(\"1087380d-f565-4a31-82b3-4740ad8efb92\")) {                    Plotly.newPlot(                        \"1087380d-f565-4a31-82b3-4740ad8efb92\",                        [{\"customdata\":[[0,\"amazon | prime | assinatura | cart\\u00e3o | cobran\\u00e7a\",1449],[1,\"entrega | atraso | prazo | data | atrasada\",568],[2,\"casas | bahia | entrega | transportadora | site\",506],[3,\"cancelamento | cancelar | pedido | cancelado | compra\",332],[4,\"whatsapp | contato | entrega | atendimento | produto\",170],[5,\"samsung | celular | aparelho | galaxy | bateria\",168],[6,\"conta | senha | mail | acessar | acesso\",159],[7,\"cart\\u00e3o | cr\\u00e9dito | pagamento | cobran\\u00e7a | cart\\u00f5es\",152],[8,\"propaganda | enganosa | an\\u00fancio | site | cupom\",135],[9,\"brasil | shein | aeroporto | correios | pedido\",133],[10,\"livre | mercado | vendedor | reclama\\u00e7\\u00e3o | produto\",132],[11,\"atendimento | loja | poi | compra | mercado\",131],[12,\"iphone | apple | aparelho | carregador | celular\",123],[13,\"pe\\u00e7a | quebrado | produto | defeito | comprador\",120],[14,\"americana | lojas | site | pedido | compra\",105],[15,\"endere\\u00e7o | errado | pedido | entregue | pedidos\",90],[16,\"roupas | vestido | cal\\u00e7a | roupa | cal\\u00e7as\",72],[17,\"curitiba | parado | tr\\u00e2nsito | encomenda | parada\",69],[18,\"conta | bloqueada | suspensa | bloquearam | acesso\",62],[19,\"jogo | lan\\u00e7amento | ragnarok | venda | pr\\u00e9\",61],[20,\"geladeira | refrigerador | troca | coleta | defeito\",58],[21,\"dinheiro | volta | quero | recebi | reembolso\",53],[22,\"cashback | 02 | valor | americana | extrato\",52],[23,\"devolu\\u00e7\\u00e3o | c\\u00f3digo | devolver | livre | mercado\",48],[24,\"mercado | pago | cr\\u00e9dito | livre | conta\",47],[25,\"cancelamento | cancelar | loja | compra | estorno\",45],[26,\"produtos | mercadoria | recebi | produto | entregue\",44],[27,\"estorno | reembolso | valor | parcelas | voucher\",41],[28,\"t\\u00eanis | tenis | raquete | produto | mizuno\",39],[29,\"rastreio | c\\u00f3digo | rastreamento | aparece | rastrear\",39],[30,\"m\\u00e1quina | lavar | maquina | roupas | lavadora\",36],[31,\"taxon | taxada | shein | alf\\u00e2ndega | reembolso\",36],[32,\"bluetooth | fone | ouvido | fones | defeito\",34],[33,\"celular | entrega | prazo | 2022 | 22\",32],[34,\"ta\\u00e7as | oculos | comprei | panela | press\\u00e3o\",30],[35,\"reembolso | recebi | dinheiro | realizado | pedi\",30],[36,\"dinheiro | paguei | disjuntores | comprei | caro\",28],[37,\"pneu | pneus | capacete | coleta | moto\",28],[38,\"rob\\u00f4 | falar | suporte | atrasado | tentei\",27],[39,\"entrega | 10 | feira | produto | seguradora\",27],[40,\"entregue | recebi | consta | pedido | encomenda\",26],[41,\"reconhecimento | facial | rosto | senha | reconhece\",25],[42,\"amazon | music | cart\\u00e3o | conta | gratuitos\",24],[43,\"china | nacional | order | nacionais | pedido\",23],[44,\"cadeira | cama | gamer | ch\\u00e3o | dormindo\",21],[45,\"shein | recebi | reembolso | envio | nunca\",21],[46,\"perfume | falsificado | aromatizador | produto | devolu\\u00e7\\u00e3o\",20],[47,\"pagamento | confirma\\u00e7\\u00e3o | boleto | confirmado | comprovante\",19],[48,\"geladeira | entrega | casa | feira | americana\",18],[49,\"rodas | carrinho | magazine | traseiras | luiza\",17],[50,\"cupom | finalizar | americana | reais | desconto\",17],[51,\"conta | cart\\u00e3o | fatura | bloqueada | bloquearam\",16],[52,\"sof\\u00e1 | sofa | tecido | lugares | assento\",16],[53,\"black | friday | promocional | comprar | pre\\u00e7o\",15],[54,\"vestido | vestidos | casamento | shein | roupa\",15],[55,\"chegou | insusseso | recebi | shein | rastreamento\",15],[56,\"reembolso | devolvido | devolvi | dinheiro | aspirador\",14],[57,\"cart\\u00e3o | cancelada | cr\\u00e9dito | cancelei | compra\",14],[58,\"320 | iphone | instagram | propaganda | enganosa\",14],[59,\"reembolso | postagem | bota | devolu\\u00e7\\u00e3o | devolu\\u00e7\\u00f5es\",14],[60,\"monitor | tela | philco | smart | smartwatch\",14],[61,\"cancelamento | endereco | site | personagem | magazine\",14],[62,\"americana | lojas | instagram | airfryer | mondial\",14],[63,\"mgqsk | shein | gshnqq20w00179d | pedido | n\\u00famero\",13],[64,\"celular | smartphone | aparelho | primeira | avisaram\",13],[65,\"11 | jogo | entrega | atraso | chegar\",12],[66,\"shein | encomenda | mercadorias | produtos | rastreamento\",11],[67,\"nacionais | internacional | nacional | 36 | 57\",11],[68,\"status | data | entrega | mudou | feriado\",11],[69,\"remetente | voltou | pedido | shein | reembolso\",11],[70,\"casa | tentativa | ningu\\u00e9m | entrega | tentativas\",10],[71,\"c\\u00f3digo | entregue | rastreamento | recebi | rastreio\",10],[72,\"celular | cart\\u00e3o | erro | pague | reais\",10]],\"hovertemplate\":\"<b>Topic %{customdata[0]}</b><br>Words: %{customdata[1]}<br>Size: %{customdata[2]}\",\"legendgroup\":\"\",\"marker\":{\"color\":\"#B0BEC5\",\"size\":[1449,568,506,332,170,168,159,152,135,133,132,131,123,120,105,90,72,69,62,61,58,53,52,48,47,45,44,41,39,39,36,36,34,32,30,30,28,28,27,27,26,25,24,23,21,21,20,19,18,17,17,16,16,15,15,15,14,14,14,14,14,14,14,13,13,12,11,11,11,11,10,10,10],\"sizemode\":\"area\",\"sizeref\":0.905625,\"symbol\":\"circle\",\"line\":{\"color\":\"DarkSlateGrey\",\"width\":2}},\"mode\":\"markers\",\"name\":\"\",\"orientation\":\"v\",\"showlegend\":false,\"x\":[11.555586814880371,11.174589157104492,11.402386665344238,10.301100730895996,10.534636497497559,12.391412734985352,2.064560651779175,1.902204990386963,13.797001838684082,13.461604118347168,10.454205513000488,10.496186256408691,12.336285591125488,10.36022663116455,13.502189636230469,-1.7099426984786987,-0.9263215065002441,-1.0276615619659424,2.0503594875335693,9.845906257629395,10.491092681884766,13.094239234924316,13.965961456298828,2.7286722660064697,2.4607768058776855,12.652070045471191,-1.97564697265625,-6.957984447479248,3.041604518890381,-0.7890020608901978,0.3136577308177948,-7.0902862548828125,12.717772483825684,9.944194793701172,-0.9071187973022461,17.397727966308594,13.188337326049805,9.858763694763184,-1.5635837316513062,10.742345809936523,-2.043245553970337,1.983189344406128,1.5402146577835083,-0.8220565915107727,9.586934089660645,-1.0551174879074097,3.2508981227874756,-7.040607929229736,0.37242910265922546,10.790445327758789,-5.881998062133789,1.626250982284546,9.76937198638916,-6.0066752433776855,-1.1316133737564087,-0.998820424079895,17.699993133544922,-6.887935161590576,-5.785487651824951,17.68363380432129,9.516712188720703,9.708515167236328,13.471019744873047,-3.778630018234253,-7.409942626953125,9.59721565246582,-3.779073715209961,-0.5342380404472351,0.4817161560058594,17.448867797851562,9.413129806518555,-0.7760557532310486,-7.270805358886719],\"xaxis\":\"x\",\"y\":[7.617326736450195,7.841184139251709,7.715663433074951,6.513156414031982,6.598034858703613,5.6513166427612305,11.262408256530762,10.911091804504395,5.244164943695068,5.14109468460083,6.361295223236084,6.610082149505615,5.5509209632873535,7.573533058166504,4.982509136199951,-6.183797836303711,-6.050235271453857,-10.283970832824707,11.428427696228027,8.676167488098145,7.682019233703613,4.742538928985596,5.362625598907471,11.468914985656738,11.508391380310059,5.506525039672852,-6.015158176422119,9.544215202331543,11.468954086303711,-10.37181568145752,5.619678497314453,9.681181907653809,5.714995861053467,8.573031425476074,-6.438238620758057,-7.997790813446045,4.814422130584717,9.261058807373047,-6.135154724121094,7.881553649902344,-6.097287178039551,11.056989669799805,11.660496711730957,-10.276329040527344,9.826746940612793,-6.1635308265686035,11.378817558288574,9.628520011901855,5.678210735321045,7.633036136627197,11.363560676574707,11.607826232910156,9.639122009277344,11.239177703857422,-10.381044387817383,-6.311453819274902,-8.29977798461914,9.480358123779297,11.458745956420898,-8.283453941345215,9.864945411682129,8.848968505859375,5.187701225280762,4.152414321899414,9.99238109588623,8.745473861694336,4.153984069824219,-10.318263053894043,5.787743091583252,-8.048891067504883,8.545038223266602,-6.19571590423584,9.854345321655273],\"yaxis\":\"y\",\"type\":\"scatter\"}],                        {\"template\":{\"data\":{\"barpolar\":[{\"marker\":{\"line\":{\"color\":\"white\",\"width\":0.5},\"pattern\":{\"fillmode\":\"overlay\",\"size\":10,\"solidity\":0.2}},\"type\":\"barpolar\"}],\"bar\":[{\"error_x\":{\"color\":\"rgb(36,36,36)\"},\"error_y\":{\"color\":\"rgb(36,36,36)\"},\"marker\":{\"line\":{\"color\":\"white\",\"width\":0.5},\"pattern\":{\"fillmode\":\"overlay\",\"size\":10,\"solidity\":0.2}},\"type\":\"bar\"}],\"carpet\":[{\"aaxis\":{\"endlinecolor\":\"rgb(36,36,36)\",\"gridcolor\":\"white\",\"linecolor\":\"white\",\"minorgridcolor\":\"white\",\"startlinecolor\":\"rgb(36,36,36)\"},\"baxis\":{\"endlinecolor\":\"rgb(36,36,36)\",\"gridcolor\":\"white\",\"linecolor\":\"white\",\"minorgridcolor\":\"white\",\"startlinecolor\":\"rgb(36,36,36)\"},\"type\":\"carpet\"}],\"choropleth\":[{\"colorbar\":{\"outlinewidth\":1,\"tickcolor\":\"rgb(36,36,36)\",\"ticks\":\"outside\"},\"type\":\"choropleth\"}],\"contourcarpet\":[{\"colorbar\":{\"outlinewidth\":1,\"tickcolor\":\"rgb(36,36,36)\",\"ticks\":\"outside\"},\"type\":\"contourcarpet\"}],\"contour\":[{\"colorbar\":{\"outlinewidth\":1,\"tickcolor\":\"rgb(36,36,36)\",\"ticks\":\"outside\"},\"colorscale\":[[0.0,\"#440154\"],[0.1111111111111111,\"#482878\"],[0.2222222222222222,\"#3e4989\"],[0.3333333333333333,\"#31688e\"],[0.4444444444444444,\"#26828e\"],[0.5555555555555556,\"#1f9e89\"],[0.6666666666666666,\"#35b779\"],[0.7777777777777778,\"#6ece58\"],[0.8888888888888888,\"#b5de2b\"],[1.0,\"#fde725\"]],\"type\":\"contour\"}],\"heatmapgl\":[{\"colorbar\":{\"outlinewidth\":1,\"tickcolor\":\"rgb(36,36,36)\",\"ticks\":\"outside\"},\"colorscale\":[[0.0,\"#440154\"],[0.1111111111111111,\"#482878\"],[0.2222222222222222,\"#3e4989\"],[0.3333333333333333,\"#31688e\"],[0.4444444444444444,\"#26828e\"],[0.5555555555555556,\"#1f9e89\"],[0.6666666666666666,\"#35b779\"],[0.7777777777777778,\"#6ece58\"],[0.8888888888888888,\"#b5de2b\"],[1.0,\"#fde725\"]],\"type\":\"heatmapgl\"}],\"heatmap\":[{\"colorbar\":{\"outlinewidth\":1,\"tickcolor\":\"rgb(36,36,36)\",\"ticks\":\"outside\"},\"colorscale\":[[0.0,\"#440154\"],[0.1111111111111111,\"#482878\"],[0.2222222222222222,\"#3e4989\"],[0.3333333333333333,\"#31688e\"],[0.4444444444444444,\"#26828e\"],[0.5555555555555556,\"#1f9e89\"],[0.6666666666666666,\"#35b779\"],[0.7777777777777778,\"#6ece58\"],[0.8888888888888888,\"#b5de2b\"],[1.0,\"#fde725\"]],\"type\":\"heatmap\"}],\"histogram2dcontour\":[{\"colorbar\":{\"outlinewidth\":1,\"tickcolor\":\"rgb(36,36,36)\",\"ticks\":\"outside\"},\"colorscale\":[[0.0,\"#440154\"],[0.1111111111111111,\"#482878\"],[0.2222222222222222,\"#3e4989\"],[0.3333333333333333,\"#31688e\"],[0.4444444444444444,\"#26828e\"],[0.5555555555555556,\"#1f9e89\"],[0.6666666666666666,\"#35b779\"],[0.7777777777777778,\"#6ece58\"],[0.8888888888888888,\"#b5de2b\"],[1.0,\"#fde725\"]],\"type\":\"histogram2dcontour\"}],\"histogram2d\":[{\"colorbar\":{\"outlinewidth\":1,\"tickcolor\":\"rgb(36,36,36)\",\"ticks\":\"outside\"},\"colorscale\":[[0.0,\"#440154\"],[0.1111111111111111,\"#482878\"],[0.2222222222222222,\"#3e4989\"],[0.3333333333333333,\"#31688e\"],[0.4444444444444444,\"#26828e\"],[0.5555555555555556,\"#1f9e89\"],[0.6666666666666666,\"#35b779\"],[0.7777777777777778,\"#6ece58\"],[0.8888888888888888,\"#b5de2b\"],[1.0,\"#fde725\"]],\"type\":\"histogram2d\"}],\"histogram\":[{\"marker\":{\"line\":{\"color\":\"white\",\"width\":0.6}},\"type\":\"histogram\"}],\"mesh3d\":[{\"colorbar\":{\"outlinewidth\":1,\"tickcolor\":\"rgb(36,36,36)\",\"ticks\":\"outside\"},\"type\":\"mesh3d\"}],\"parcoords\":[{\"line\":{\"colorbar\":{\"outlinewidth\":1,\"tickcolor\":\"rgb(36,36,36)\",\"ticks\":\"outside\"}},\"type\":\"parcoords\"}],\"pie\":[{\"automargin\":true,\"type\":\"pie\"}],\"scatter3d\":[{\"line\":{\"colorbar\":{\"outlinewidth\":1,\"tickcolor\":\"rgb(36,36,36)\",\"ticks\":\"outside\"}},\"marker\":{\"colorbar\":{\"outlinewidth\":1,\"tickcolor\":\"rgb(36,36,36)\",\"ticks\":\"outside\"}},\"type\":\"scatter3d\"}],\"scattercarpet\":[{\"marker\":{\"colorbar\":{\"outlinewidth\":1,\"tickcolor\":\"rgb(36,36,36)\",\"ticks\":\"outside\"}},\"type\":\"scattercarpet\"}],\"scattergeo\":[{\"marker\":{\"colorbar\":{\"outlinewidth\":1,\"tickcolor\":\"rgb(36,36,36)\",\"ticks\":\"outside\"}},\"type\":\"scattergeo\"}],\"scattergl\":[{\"marker\":{\"colorbar\":{\"outlinewidth\":1,\"tickcolor\":\"rgb(36,36,36)\",\"ticks\":\"outside\"}},\"type\":\"scattergl\"}],\"scattermapbox\":[{\"marker\":{\"colorbar\":{\"outlinewidth\":1,\"tickcolor\":\"rgb(36,36,36)\",\"ticks\":\"outside\"}},\"type\":\"scattermapbox\"}],\"scatterpolargl\":[{\"marker\":{\"colorbar\":{\"outlinewidth\":1,\"tickcolor\":\"rgb(36,36,36)\",\"ticks\":\"outside\"}},\"type\":\"scatterpolargl\"}],\"scatterpolar\":[{\"marker\":{\"colorbar\":{\"outlinewidth\":1,\"tickcolor\":\"rgb(36,36,36)\",\"ticks\":\"outside\"}},\"type\":\"scatterpolar\"}],\"scatter\":[{\"marker\":{\"colorbar\":{\"outlinewidth\":1,\"tickcolor\":\"rgb(36,36,36)\",\"ticks\":\"outside\"}},\"type\":\"scatter\"}],\"scatterternary\":[{\"marker\":{\"colorbar\":{\"outlinewidth\":1,\"tickcolor\":\"rgb(36,36,36)\",\"ticks\":\"outside\"}},\"type\":\"scatterternary\"}],\"surface\":[{\"colorbar\":{\"outlinewidth\":1,\"tickcolor\":\"rgb(36,36,36)\",\"ticks\":\"outside\"},\"colorscale\":[[0.0,\"#440154\"],[0.1111111111111111,\"#482878\"],[0.2222222222222222,\"#3e4989\"],[0.3333333333333333,\"#31688e\"],[0.4444444444444444,\"#26828e\"],[0.5555555555555556,\"#1f9e89\"],[0.6666666666666666,\"#35b779\"],[0.7777777777777778,\"#6ece58\"],[0.8888888888888888,\"#b5de2b\"],[1.0,\"#fde725\"]],\"type\":\"surface\"}],\"table\":[{\"cells\":{\"fill\":{\"color\":\"rgb(237,237,237)\"},\"line\":{\"color\":\"white\"}},\"header\":{\"fill\":{\"color\":\"rgb(217,217,217)\"},\"line\":{\"color\":\"white\"}},\"type\":\"table\"}]},\"layout\":{\"annotationdefaults\":{\"arrowhead\":0,\"arrowwidth\":1},\"autotypenumbers\":\"strict\",\"coloraxis\":{\"colorbar\":{\"outlinewidth\":1,\"tickcolor\":\"rgb(36,36,36)\",\"ticks\":\"outside\"}},\"colorscale\":{\"diverging\":[[0.0,\"rgb(103,0,31)\"],[0.1,\"rgb(178,24,43)\"],[0.2,\"rgb(214,96,77)\"],[0.3,\"rgb(244,165,130)\"],[0.4,\"rgb(253,219,199)\"],[0.5,\"rgb(247,247,247)\"],[0.6,\"rgb(209,229,240)\"],[0.7,\"rgb(146,197,222)\"],[0.8,\"rgb(67,147,195)\"],[0.9,\"rgb(33,102,172)\"],[1.0,\"rgb(5,48,97)\"]],\"sequential\":[[0.0,\"#440154\"],[0.1111111111111111,\"#482878\"],[0.2222222222222222,\"#3e4989\"],[0.3333333333333333,\"#31688e\"],[0.4444444444444444,\"#26828e\"],[0.5555555555555556,\"#1f9e89\"],[0.6666666666666666,\"#35b779\"],[0.7777777777777778,\"#6ece58\"],[0.8888888888888888,\"#b5de2b\"],[1.0,\"#fde725\"]],\"sequentialminus\":[[0.0,\"#440154\"],[0.1111111111111111,\"#482878\"],[0.2222222222222222,\"#3e4989\"],[0.3333333333333333,\"#31688e\"],[0.4444444444444444,\"#26828e\"],[0.5555555555555556,\"#1f9e89\"],[0.6666666666666666,\"#35b779\"],[0.7777777777777778,\"#6ece58\"],[0.8888888888888888,\"#b5de2b\"],[1.0,\"#fde725\"]]},\"colorway\":[\"#1F77B4\",\"#FF7F0E\",\"#2CA02C\",\"#D62728\",\"#9467BD\",\"#8C564B\",\"#E377C2\",\"#7F7F7F\",\"#BCBD22\",\"#17BECF\"],\"font\":{\"color\":\"rgb(36,36,36)\"},\"geo\":{\"bgcolor\":\"white\",\"lakecolor\":\"white\",\"landcolor\":\"white\",\"showlakes\":true,\"showland\":true,\"subunitcolor\":\"white\"},\"hoverlabel\":{\"align\":\"left\"},\"hovermode\":\"closest\",\"mapbox\":{\"style\":\"light\"},\"paper_bgcolor\":\"white\",\"plot_bgcolor\":\"white\",\"polar\":{\"angularaxis\":{\"gridcolor\":\"rgb(232,232,232)\",\"linecolor\":\"rgb(36,36,36)\",\"showgrid\":false,\"showline\":true,\"ticks\":\"outside\"},\"bgcolor\":\"white\",\"radialaxis\":{\"gridcolor\":\"rgb(232,232,232)\",\"linecolor\":\"rgb(36,36,36)\",\"showgrid\":false,\"showline\":true,\"ticks\":\"outside\"}},\"scene\":{\"xaxis\":{\"backgroundcolor\":\"white\",\"gridcolor\":\"rgb(232,232,232)\",\"gridwidth\":2,\"linecolor\":\"rgb(36,36,36)\",\"showbackground\":true,\"showgrid\":false,\"showline\":true,\"ticks\":\"outside\",\"zeroline\":false,\"zerolinecolor\":\"rgb(36,36,36)\"},\"yaxis\":{\"backgroundcolor\":\"white\",\"gridcolor\":\"rgb(232,232,232)\",\"gridwidth\":2,\"linecolor\":\"rgb(36,36,36)\",\"showbackground\":true,\"showgrid\":false,\"showline\":true,\"ticks\":\"outside\",\"zeroline\":false,\"zerolinecolor\":\"rgb(36,36,36)\"},\"zaxis\":{\"backgroundcolor\":\"white\",\"gridcolor\":\"rgb(232,232,232)\",\"gridwidth\":2,\"linecolor\":\"rgb(36,36,36)\",\"showbackground\":true,\"showgrid\":false,\"showline\":true,\"ticks\":\"outside\",\"zeroline\":false,\"zerolinecolor\":\"rgb(36,36,36)\"}},\"shapedefaults\":{\"fillcolor\":\"black\",\"line\":{\"width\":0},\"opacity\":0.3},\"ternary\":{\"aaxis\":{\"gridcolor\":\"rgb(232,232,232)\",\"linecolor\":\"rgb(36,36,36)\",\"showgrid\":false,\"showline\":true,\"ticks\":\"outside\"},\"baxis\":{\"gridcolor\":\"rgb(232,232,232)\",\"linecolor\":\"rgb(36,36,36)\",\"showgrid\":false,\"showline\":true,\"ticks\":\"outside\"},\"bgcolor\":\"white\",\"caxis\":{\"gridcolor\":\"rgb(232,232,232)\",\"linecolor\":\"rgb(36,36,36)\",\"showgrid\":false,\"showline\":true,\"ticks\":\"outside\"}},\"title\":{\"x\":0.05},\"xaxis\":{\"automargin\":true,\"gridcolor\":\"rgb(232,232,232)\",\"linecolor\":\"rgb(36,36,36)\",\"showgrid\":false,\"showline\":true,\"ticks\":\"outside\",\"title\":{\"standoff\":15},\"zeroline\":false,\"zerolinecolor\":\"rgb(36,36,36)\"},\"yaxis\":{\"automargin\":true,\"gridcolor\":\"rgb(232,232,232)\",\"linecolor\":\"rgb(36,36,36)\",\"showgrid\":false,\"showline\":true,\"ticks\":\"outside\",\"title\":{\"standoff\":15},\"zeroline\":false,\"zerolinecolor\":\"rgb(36,36,36)\"}}},\"xaxis\":{\"anchor\":\"y\",\"domain\":[0.0,1.0],\"title\":{\"text\":\"\"},\"visible\":false,\"range\":[-8.521434020996093,20.35499210357666]},\"yaxis\":{\"anchor\":\"x\",\"domain\":[0.0,1.0],\"title\":{\"text\":\"\"},\"visible\":false,\"range\":[-11.93820104598999,13.409571218490601]},\"legend\":{\"tracegroupgap\":0,\"itemsizing\":\"constant\"},\"margin\":{\"t\":60},\"title\":{\"font\":{\"size\":22,\"color\":\"Black\"},\"text\":\"<b>Intertopic Distance Map\",\"y\":0.95,\"x\":0.5,\"xanchor\":\"center\",\"yanchor\":\"top\"},\"hoverlabel\":{\"font\":{\"size\":16,\"family\":\"Rockwell\"},\"bgcolor\":\"white\"},\"width\":650,\"height\":650,\"sliders\":[{\"active\":0,\"pad\":{\"t\":50},\"steps\":[{\"args\":[{\"marker.color\":[[\"red\",\"#B0BEC5\",\"#B0BEC5\",\"#B0BEC5\",\"#B0BEC5\",\"#B0BEC5\",\"#B0BEC5\",\"#B0BEC5\",\"#B0BEC5\",\"#B0BEC5\",\"#B0BEC5\",\"#B0BEC5\",\"#B0BEC5\",\"#B0BEC5\",\"#B0BEC5\",\"#B0BEC5\",\"#B0BEC5\",\"#B0BEC5\",\"#B0BEC5\",\"#B0BEC5\",\"#B0BEC5\",\"#B0BEC5\",\"#B0BEC5\",\"#B0BEC5\",\"#B0BEC5\",\"#B0BEC5\",\"#B0BEC5\",\"#B0BEC5\",\"#B0BEC5\",\"#B0BEC5\",\"#B0BEC5\",\"#B0BEC5\",\"#B0BEC5\",\"#B0BEC5\",\"#B0BEC5\",\"#B0BEC5\",\"#B0BEC5\",\"#B0BEC5\",\"#B0BEC5\",\"#B0BEC5\",\"#B0BEC5\",\"#B0BEC5\",\"#B0BEC5\",\"#B0BEC5\",\"#B0BEC5\",\"#B0BEC5\",\"#B0BEC5\",\"#B0BEC5\",\"#B0BEC5\",\"#B0BEC5\",\"#B0BEC5\",\"#B0BEC5\",\"#B0BEC5\",\"#B0BEC5\",\"#B0BEC5\",\"#B0BEC5\",\"#B0BEC5\",\"#B0BEC5\",\"#B0BEC5\",\"#B0BEC5\",\"#B0BEC5\",\"#B0BEC5\",\"#B0BEC5\",\"#B0BEC5\",\"#B0BEC5\",\"#B0BEC5\",\"#B0BEC5\",\"#B0BEC5\",\"#B0BEC5\",\"#B0BEC5\",\"#B0BEC5\",\"#B0BEC5\",\"#B0BEC5\"]]}],\"label\":\"Topic 0\",\"method\":\"update\"},{\"args\":[{\"marker.color\":[[\"#B0BEC5\",\"red\",\"#B0BEC5\",\"#B0BEC5\",\"#B0BEC5\",\"#B0BEC5\",\"#B0BEC5\",\"#B0BEC5\",\"#B0BEC5\",\"#B0BEC5\",\"#B0BEC5\",\"#B0BEC5\",\"#B0BEC5\",\"#B0BEC5\",\"#B0BEC5\",\"#B0BEC5\",\"#B0BEC5\",\"#B0BEC5\",\"#B0BEC5\",\"#B0BEC5\",\"#B0BEC5\",\"#B0BEC5\",\"#B0BEC5\",\"#B0BEC5\",\"#B0BEC5\",\"#B0BEC5\",\"#B0BEC5\",\"#B0BEC5\",\"#B0BEC5\",\"#B0BEC5\",\"#B0BEC5\",\"#B0BEC5\",\"#B0BEC5\",\"#B0BEC5\",\"#B0BEC5\",\"#B0BEC5\",\"#B0BEC5\",\"#B0BEC5\",\"#B0BEC5\",\"#B0BEC5\",\"#B0BEC5\",\"#B0BEC5\",\"#B0BEC5\",\"#B0BEC5\",\"#B0BEC5\",\"#B0BEC5\",\"#B0BEC5\",\"#B0BEC5\",\"#B0BEC5\",\"#B0BEC5\",\"#B0BEC5\",\"#B0BEC5\",\"#B0BEC5\",\"#B0BEC5\",\"#B0BEC5\",\"#B0BEC5\",\"#B0BEC5\",\"#B0BEC5\",\"#B0BEC5\",\"#B0BEC5\",\"#B0BEC5\",\"#B0BEC5\",\"#B0BEC5\",\"#B0BEC5\",\"#B0BEC5\",\"#B0BEC5\",\"#B0BEC5\",\"#B0BEC5\",\"#B0BEC5\",\"#B0BEC5\",\"#B0BEC5\",\"#B0BEC5\",\"#B0BEC5\"]]}],\"label\":\"Topic 1\",\"method\":\"update\"},{\"args\":[{\"marker.color\":[[\"#B0BEC5\",\"#B0BEC5\",\"red\",\"#B0BEC5\",\"#B0BEC5\",\"#B0BEC5\",\"#B0BEC5\",\"#B0BEC5\",\"#B0BEC5\",\"#B0BEC5\",\"#B0BEC5\",\"#B0BEC5\",\"#B0BEC5\",\"#B0BEC5\",\"#B0BEC5\",\"#B0BEC5\",\"#B0BEC5\",\"#B0BEC5\",\"#B0BEC5\",\"#B0BEC5\",\"#B0BEC5\",\"#B0BEC5\",\"#B0BEC5\",\"#B0BEC5\",\"#B0BEC5\",\"#B0BEC5\",\"#B0BEC5\",\"#B0BEC5\",\"#B0BEC5\",\"#B0BEC5\",\"#B0BEC5\",\"#B0BEC5\",\"#B0BEC5\",\"#B0BEC5\",\"#B0BEC5\",\"#B0BEC5\",\"#B0BEC5\",\"#B0BEC5\",\"#B0BEC5\",\"#B0BEC5\",\"#B0BEC5\",\"#B0BEC5\",\"#B0BEC5\",\"#B0BEC5\",\"#B0BEC5\",\"#B0BEC5\",\"#B0BEC5\",\"#B0BEC5\",\"#B0BEC5\",\"#B0BEC5\",\"#B0BEC5\",\"#B0BEC5\",\"#B0BEC5\",\"#B0BEC5\",\"#B0BEC5\",\"#B0BEC5\",\"#B0BEC5\",\"#B0BEC5\",\"#B0BEC5\",\"#B0BEC5\",\"#B0BEC5\",\"#B0BEC5\",\"#B0BEC5\",\"#B0BEC5\",\"#B0BEC5\",\"#B0BEC5\",\"#B0BEC5\",\"#B0BEC5\",\"#B0BEC5\",\"#B0BEC5\",\"#B0BEC5\",\"#B0BEC5\",\"#B0BEC5\"]]}],\"label\":\"Topic 2\",\"method\":\"update\"},{\"args\":[{\"marker.color\":[[\"#B0BEC5\",\"#B0BEC5\",\"#B0BEC5\",\"red\",\"#B0BEC5\",\"#B0BEC5\",\"#B0BEC5\",\"#B0BEC5\",\"#B0BEC5\",\"#B0BEC5\",\"#B0BEC5\",\"#B0BEC5\",\"#B0BEC5\",\"#B0BEC5\",\"#B0BEC5\",\"#B0BEC5\",\"#B0BEC5\",\"#B0BEC5\",\"#B0BEC5\",\"#B0BEC5\",\"#B0BEC5\",\"#B0BEC5\",\"#B0BEC5\",\"#B0BEC5\",\"#B0BEC5\",\"#B0BEC5\",\"#B0BEC5\",\"#B0BEC5\",\"#B0BEC5\",\"#B0BEC5\",\"#B0BEC5\",\"#B0BEC5\",\"#B0BEC5\",\"#B0BEC5\",\"#B0BEC5\",\"#B0BEC5\",\"#B0BEC5\",\"#B0BEC5\",\"#B0BEC5\",\"#B0BEC5\",\"#B0BEC5\",\"#B0BEC5\",\"#B0BEC5\",\"#B0BEC5\",\"#B0BEC5\",\"#B0BEC5\",\"#B0BEC5\",\"#B0BEC5\",\"#B0BEC5\",\"#B0BEC5\",\"#B0BEC5\",\"#B0BEC5\",\"#B0BEC5\",\"#B0BEC5\",\"#B0BEC5\",\"#B0BEC5\",\"#B0BEC5\",\"#B0BEC5\",\"#B0BEC5\",\"#B0BEC5\",\"#B0BEC5\",\"#B0BEC5\",\"#B0BEC5\",\"#B0BEC5\",\"#B0BEC5\",\"#B0BEC5\",\"#B0BEC5\",\"#B0BEC5\",\"#B0BEC5\",\"#B0BEC5\",\"#B0BEC5\",\"#B0BEC5\",\"#B0BEC5\"]]}],\"label\":\"Topic 3\",\"method\":\"update\"},{\"args\":[{\"marker.color\":[[\"#B0BEC5\",\"#B0BEC5\",\"#B0BEC5\",\"#B0BEC5\",\"red\",\"#B0BEC5\",\"#B0BEC5\",\"#B0BEC5\",\"#B0BEC5\",\"#B0BEC5\",\"#B0BEC5\",\"#B0BEC5\",\"#B0BEC5\",\"#B0BEC5\",\"#B0BEC5\",\"#B0BEC5\",\"#B0BEC5\",\"#B0BEC5\",\"#B0BEC5\",\"#B0BEC5\",\"#B0BEC5\",\"#B0BEC5\",\"#B0BEC5\",\"#B0BEC5\",\"#B0BEC5\",\"#B0BEC5\",\"#B0BEC5\",\"#B0BEC5\",\"#B0BEC5\",\"#B0BEC5\",\"#B0BEC5\",\"#B0BEC5\",\"#B0BEC5\",\"#B0BEC5\",\"#B0BEC5\",\"#B0BEC5\",\"#B0BEC5\",\"#B0BEC5\",\"#B0BEC5\",\"#B0BEC5\",\"#B0BEC5\",\"#B0BEC5\",\"#B0BEC5\",\"#B0BEC5\",\"#B0BEC5\",\"#B0BEC5\",\"#B0BEC5\",\"#B0BEC5\",\"#B0BEC5\",\"#B0BEC5\",\"#B0BEC5\",\"#B0BEC5\",\"#B0BEC5\",\"#B0BEC5\",\"#B0BEC5\",\"#B0BEC5\",\"#B0BEC5\",\"#B0BEC5\",\"#B0BEC5\",\"#B0BEC5\",\"#B0BEC5\",\"#B0BEC5\",\"#B0BEC5\",\"#B0BEC5\",\"#B0BEC5\",\"#B0BEC5\",\"#B0BEC5\",\"#B0BEC5\",\"#B0BEC5\",\"#B0BEC5\",\"#B0BEC5\",\"#B0BEC5\",\"#B0BEC5\"]]}],\"label\":\"Topic 4\",\"method\":\"update\"},{\"args\":[{\"marker.color\":[[\"#B0BEC5\",\"#B0BEC5\",\"#B0BEC5\",\"#B0BEC5\",\"#B0BEC5\",\"red\",\"#B0BEC5\",\"#B0BEC5\",\"#B0BEC5\",\"#B0BEC5\",\"#B0BEC5\",\"#B0BEC5\",\"#B0BEC5\",\"#B0BEC5\",\"#B0BEC5\",\"#B0BEC5\",\"#B0BEC5\",\"#B0BEC5\",\"#B0BEC5\",\"#B0BEC5\",\"#B0BEC5\",\"#B0BEC5\",\"#B0BEC5\",\"#B0BEC5\",\"#B0BEC5\",\"#B0BEC5\",\"#B0BEC5\",\"#B0BEC5\",\"#B0BEC5\",\"#B0BEC5\",\"#B0BEC5\",\"#B0BEC5\",\"#B0BEC5\",\"#B0BEC5\",\"#B0BEC5\",\"#B0BEC5\",\"#B0BEC5\",\"#B0BEC5\",\"#B0BEC5\",\"#B0BEC5\",\"#B0BEC5\",\"#B0BEC5\",\"#B0BEC5\",\"#B0BEC5\",\"#B0BEC5\",\"#B0BEC5\",\"#B0BEC5\",\"#B0BEC5\",\"#B0BEC5\",\"#B0BEC5\",\"#B0BEC5\",\"#B0BEC5\",\"#B0BEC5\",\"#B0BEC5\",\"#B0BEC5\",\"#B0BEC5\",\"#B0BEC5\",\"#B0BEC5\",\"#B0BEC5\",\"#B0BEC5\",\"#B0BEC5\",\"#B0BEC5\",\"#B0BEC5\",\"#B0BEC5\",\"#B0BEC5\",\"#B0BEC5\",\"#B0BEC5\",\"#B0BEC5\",\"#B0BEC5\",\"#B0BEC5\",\"#B0BEC5\",\"#B0BEC5\",\"#B0BEC5\"]]}],\"label\":\"Topic 5\",\"method\":\"update\"},{\"args\":[{\"marker.color\":[[\"#B0BEC5\",\"#B0BEC5\",\"#B0BEC5\",\"#B0BEC5\",\"#B0BEC5\",\"#B0BEC5\",\"red\",\"#B0BEC5\",\"#B0BEC5\",\"#B0BEC5\",\"#B0BEC5\",\"#B0BEC5\",\"#B0BEC5\",\"#B0BEC5\",\"#B0BEC5\",\"#B0BEC5\",\"#B0BEC5\",\"#B0BEC5\",\"#B0BEC5\",\"#B0BEC5\",\"#B0BEC5\",\"#B0BEC5\",\"#B0BEC5\",\"#B0BEC5\",\"#B0BEC5\",\"#B0BEC5\",\"#B0BEC5\",\"#B0BEC5\",\"#B0BEC5\",\"#B0BEC5\",\"#B0BEC5\",\"#B0BEC5\",\"#B0BEC5\",\"#B0BEC5\",\"#B0BEC5\",\"#B0BEC5\",\"#B0BEC5\",\"#B0BEC5\",\"#B0BEC5\",\"#B0BEC5\",\"#B0BEC5\",\"#B0BEC5\",\"#B0BEC5\",\"#B0BEC5\",\"#B0BEC5\",\"#B0BEC5\",\"#B0BEC5\",\"#B0BEC5\",\"#B0BEC5\",\"#B0BEC5\",\"#B0BEC5\",\"#B0BEC5\",\"#B0BEC5\",\"#B0BEC5\",\"#B0BEC5\",\"#B0BEC5\",\"#B0BEC5\",\"#B0BEC5\",\"#B0BEC5\",\"#B0BEC5\",\"#B0BEC5\",\"#B0BEC5\",\"#B0BEC5\",\"#B0BEC5\",\"#B0BEC5\",\"#B0BEC5\",\"#B0BEC5\",\"#B0BEC5\",\"#B0BEC5\",\"#B0BEC5\",\"#B0BEC5\",\"#B0BEC5\",\"#B0BEC5\"]]}],\"label\":\"Topic 6\",\"method\":\"update\"},{\"args\":[{\"marker.color\":[[\"#B0BEC5\",\"#B0BEC5\",\"#B0BEC5\",\"#B0BEC5\",\"#B0BEC5\",\"#B0BEC5\",\"#B0BEC5\",\"red\",\"#B0BEC5\",\"#B0BEC5\",\"#B0BEC5\",\"#B0BEC5\",\"#B0BEC5\",\"#B0BEC5\",\"#B0BEC5\",\"#B0BEC5\",\"#B0BEC5\",\"#B0BEC5\",\"#B0BEC5\",\"#B0BEC5\",\"#B0BEC5\",\"#B0BEC5\",\"#B0BEC5\",\"#B0BEC5\",\"#B0BEC5\",\"#B0BEC5\",\"#B0BEC5\",\"#B0BEC5\",\"#B0BEC5\",\"#B0BEC5\",\"#B0BEC5\",\"#B0BEC5\",\"#B0BEC5\",\"#B0BEC5\",\"#B0BEC5\",\"#B0BEC5\",\"#B0BEC5\",\"#B0BEC5\",\"#B0BEC5\",\"#B0BEC5\",\"#B0BEC5\",\"#B0BEC5\",\"#B0BEC5\",\"#B0BEC5\",\"#B0BEC5\",\"#B0BEC5\",\"#B0BEC5\",\"#B0BEC5\",\"#B0BEC5\",\"#B0BEC5\",\"#B0BEC5\",\"#B0BEC5\",\"#B0BEC5\",\"#B0BEC5\",\"#B0BEC5\",\"#B0BEC5\",\"#B0BEC5\",\"#B0BEC5\",\"#B0BEC5\",\"#B0BEC5\",\"#B0BEC5\",\"#B0BEC5\",\"#B0BEC5\",\"#B0BEC5\",\"#B0BEC5\",\"#B0BEC5\",\"#B0BEC5\",\"#B0BEC5\",\"#B0BEC5\",\"#B0BEC5\",\"#B0BEC5\",\"#B0BEC5\",\"#B0BEC5\"]]}],\"label\":\"Topic 7\",\"method\":\"update\"},{\"args\":[{\"marker.color\":[[\"#B0BEC5\",\"#B0BEC5\",\"#B0BEC5\",\"#B0BEC5\",\"#B0BEC5\",\"#B0BEC5\",\"#B0BEC5\",\"#B0BEC5\",\"red\",\"#B0BEC5\",\"#B0BEC5\",\"#B0BEC5\",\"#B0BEC5\",\"#B0BEC5\",\"#B0BEC5\",\"#B0BEC5\",\"#B0BEC5\",\"#B0BEC5\",\"#B0BEC5\",\"#B0BEC5\",\"#B0BEC5\",\"#B0BEC5\",\"#B0BEC5\",\"#B0BEC5\",\"#B0BEC5\",\"#B0BEC5\",\"#B0BEC5\",\"#B0BEC5\",\"#B0BEC5\",\"#B0BEC5\",\"#B0BEC5\",\"#B0BEC5\",\"#B0BEC5\",\"#B0BEC5\",\"#B0BEC5\",\"#B0BEC5\",\"#B0BEC5\",\"#B0BEC5\",\"#B0BEC5\",\"#B0BEC5\",\"#B0BEC5\",\"#B0BEC5\",\"#B0BEC5\",\"#B0BEC5\",\"#B0BEC5\",\"#B0BEC5\",\"#B0BEC5\",\"#B0BEC5\",\"#B0BEC5\",\"#B0BEC5\",\"#B0BEC5\",\"#B0BEC5\",\"#B0BEC5\",\"#B0BEC5\",\"#B0BEC5\",\"#B0BEC5\",\"#B0BEC5\",\"#B0BEC5\",\"#B0BEC5\",\"#B0BEC5\",\"#B0BEC5\",\"#B0BEC5\",\"#B0BEC5\",\"#B0BEC5\",\"#B0BEC5\",\"#B0BEC5\",\"#B0BEC5\",\"#B0BEC5\",\"#B0BEC5\",\"#B0BEC5\",\"#B0BEC5\",\"#B0BEC5\",\"#B0BEC5\"]]}],\"label\":\"Topic 8\",\"method\":\"update\"},{\"args\":[{\"marker.color\":[[\"#B0BEC5\",\"#B0BEC5\",\"#B0BEC5\",\"#B0BEC5\",\"#B0BEC5\",\"#B0BEC5\",\"#B0BEC5\",\"#B0BEC5\",\"#B0BEC5\",\"red\",\"#B0BEC5\",\"#B0BEC5\",\"#B0BEC5\",\"#B0BEC5\",\"#B0BEC5\",\"#B0BEC5\",\"#B0BEC5\",\"#B0BEC5\",\"#B0BEC5\",\"#B0BEC5\",\"#B0BEC5\",\"#B0BEC5\",\"#B0BEC5\",\"#B0BEC5\",\"#B0BEC5\",\"#B0BEC5\",\"#B0BEC5\",\"#B0BEC5\",\"#B0BEC5\",\"#B0BEC5\",\"#B0BEC5\",\"#B0BEC5\",\"#B0BEC5\",\"#B0BEC5\",\"#B0BEC5\",\"#B0BEC5\",\"#B0BEC5\",\"#B0BEC5\",\"#B0BEC5\",\"#B0BEC5\",\"#B0BEC5\",\"#B0BEC5\",\"#B0BEC5\",\"#B0BEC5\",\"#B0BEC5\",\"#B0BEC5\",\"#B0BEC5\",\"#B0BEC5\",\"#B0BEC5\",\"#B0BEC5\",\"#B0BEC5\",\"#B0BEC5\",\"#B0BEC5\",\"#B0BEC5\",\"#B0BEC5\",\"#B0BEC5\",\"#B0BEC5\",\"#B0BEC5\",\"#B0BEC5\",\"#B0BEC5\",\"#B0BEC5\",\"#B0BEC5\",\"#B0BEC5\",\"#B0BEC5\",\"#B0BEC5\",\"#B0BEC5\",\"#B0BEC5\",\"#B0BEC5\",\"#B0BEC5\",\"#B0BEC5\",\"#B0BEC5\",\"#B0BEC5\",\"#B0BEC5\"]]}],\"label\":\"Topic 9\",\"method\":\"update\"},{\"args\":[{\"marker.color\":[[\"#B0BEC5\",\"#B0BEC5\",\"#B0BEC5\",\"#B0BEC5\",\"#B0BEC5\",\"#B0BEC5\",\"#B0BEC5\",\"#B0BEC5\",\"#B0BEC5\",\"#B0BEC5\",\"red\",\"#B0BEC5\",\"#B0BEC5\",\"#B0BEC5\",\"#B0BEC5\",\"#B0BEC5\",\"#B0BEC5\",\"#B0BEC5\",\"#B0BEC5\",\"#B0BEC5\",\"#B0BEC5\",\"#B0BEC5\",\"#B0BEC5\",\"#B0BEC5\",\"#B0BEC5\",\"#B0BEC5\",\"#B0BEC5\",\"#B0BEC5\",\"#B0BEC5\",\"#B0BEC5\",\"#B0BEC5\",\"#B0BEC5\",\"#B0BEC5\",\"#B0BEC5\",\"#B0BEC5\",\"#B0BEC5\",\"#B0BEC5\",\"#B0BEC5\",\"#B0BEC5\",\"#B0BEC5\",\"#B0BEC5\",\"#B0BEC5\",\"#B0BEC5\",\"#B0BEC5\",\"#B0BEC5\",\"#B0BEC5\",\"#B0BEC5\",\"#B0BEC5\",\"#B0BEC5\",\"#B0BEC5\",\"#B0BEC5\",\"#B0BEC5\",\"#B0BEC5\",\"#B0BEC5\",\"#B0BEC5\",\"#B0BEC5\",\"#B0BEC5\",\"#B0BEC5\",\"#B0BEC5\",\"#B0BEC5\",\"#B0BEC5\",\"#B0BEC5\",\"#B0BEC5\",\"#B0BEC5\",\"#B0BEC5\",\"#B0BEC5\",\"#B0BEC5\",\"#B0BEC5\",\"#B0BEC5\",\"#B0BEC5\",\"#B0BEC5\",\"#B0BEC5\",\"#B0BEC5\"]]}],\"label\":\"Topic 10\",\"method\":\"update\"},{\"args\":[{\"marker.color\":[[\"#B0BEC5\",\"#B0BEC5\",\"#B0BEC5\",\"#B0BEC5\",\"#B0BEC5\",\"#B0BEC5\",\"#B0BEC5\",\"#B0BEC5\",\"#B0BEC5\",\"#B0BEC5\",\"#B0BEC5\",\"red\",\"#B0BEC5\",\"#B0BEC5\",\"#B0BEC5\",\"#B0BEC5\",\"#B0BEC5\",\"#B0BEC5\",\"#B0BEC5\",\"#B0BEC5\",\"#B0BEC5\",\"#B0BEC5\",\"#B0BEC5\",\"#B0BEC5\",\"#B0BEC5\",\"#B0BEC5\",\"#B0BEC5\",\"#B0BEC5\",\"#B0BEC5\",\"#B0BEC5\",\"#B0BEC5\",\"#B0BEC5\",\"#B0BEC5\",\"#B0BEC5\",\"#B0BEC5\",\"#B0BEC5\",\"#B0BEC5\",\"#B0BEC5\",\"#B0BEC5\",\"#B0BEC5\",\"#B0BEC5\",\"#B0BEC5\",\"#B0BEC5\",\"#B0BEC5\",\"#B0BEC5\",\"#B0BEC5\",\"#B0BEC5\",\"#B0BEC5\",\"#B0BEC5\",\"#B0BEC5\",\"#B0BEC5\",\"#B0BEC5\",\"#B0BEC5\",\"#B0BEC5\",\"#B0BEC5\",\"#B0BEC5\",\"#B0BEC5\",\"#B0BEC5\",\"#B0BEC5\",\"#B0BEC5\",\"#B0BEC5\",\"#B0BEC5\",\"#B0BEC5\",\"#B0BEC5\",\"#B0BEC5\",\"#B0BEC5\",\"#B0BEC5\",\"#B0BEC5\",\"#B0BEC5\",\"#B0BEC5\",\"#B0BEC5\",\"#B0BEC5\",\"#B0BEC5\"]]}],\"label\":\"Topic 11\",\"method\":\"update\"},{\"args\":[{\"marker.color\":[[\"#B0BEC5\",\"#B0BEC5\",\"#B0BEC5\",\"#B0BEC5\",\"#B0BEC5\",\"#B0BEC5\",\"#B0BEC5\",\"#B0BEC5\",\"#B0BEC5\",\"#B0BEC5\",\"#B0BEC5\",\"#B0BEC5\",\"red\",\"#B0BEC5\",\"#B0BEC5\",\"#B0BEC5\",\"#B0BEC5\",\"#B0BEC5\",\"#B0BEC5\",\"#B0BEC5\",\"#B0BEC5\",\"#B0BEC5\",\"#B0BEC5\",\"#B0BEC5\",\"#B0BEC5\",\"#B0BEC5\",\"#B0BEC5\",\"#B0BEC5\",\"#B0BEC5\",\"#B0BEC5\",\"#B0BEC5\",\"#B0BEC5\",\"#B0BEC5\",\"#B0BEC5\",\"#B0BEC5\",\"#B0BEC5\",\"#B0BEC5\",\"#B0BEC5\",\"#B0BEC5\",\"#B0BEC5\",\"#B0BEC5\",\"#B0BEC5\",\"#B0BEC5\",\"#B0BEC5\",\"#B0BEC5\",\"#B0BEC5\",\"#B0BEC5\",\"#B0BEC5\",\"#B0BEC5\",\"#B0BEC5\",\"#B0BEC5\",\"#B0BEC5\",\"#B0BEC5\",\"#B0BEC5\",\"#B0BEC5\",\"#B0BEC5\",\"#B0BEC5\",\"#B0BEC5\",\"#B0BEC5\",\"#B0BEC5\",\"#B0BEC5\",\"#B0BEC5\",\"#B0BEC5\",\"#B0BEC5\",\"#B0BEC5\",\"#B0BEC5\",\"#B0BEC5\",\"#B0BEC5\",\"#B0BEC5\",\"#B0BEC5\",\"#B0BEC5\",\"#B0BEC5\",\"#B0BEC5\"]]}],\"label\":\"Topic 12\",\"method\":\"update\"},{\"args\":[{\"marker.color\":[[\"#B0BEC5\",\"#B0BEC5\",\"#B0BEC5\",\"#B0BEC5\",\"#B0BEC5\",\"#B0BEC5\",\"#B0BEC5\",\"#B0BEC5\",\"#B0BEC5\",\"#B0BEC5\",\"#B0BEC5\",\"#B0BEC5\",\"#B0BEC5\",\"red\",\"#B0BEC5\",\"#B0BEC5\",\"#B0BEC5\",\"#B0BEC5\",\"#B0BEC5\",\"#B0BEC5\",\"#B0BEC5\",\"#B0BEC5\",\"#B0BEC5\",\"#B0BEC5\",\"#B0BEC5\",\"#B0BEC5\",\"#B0BEC5\",\"#B0BEC5\",\"#B0BEC5\",\"#B0BEC5\",\"#B0BEC5\",\"#B0BEC5\",\"#B0BEC5\",\"#B0BEC5\",\"#B0BEC5\",\"#B0BEC5\",\"#B0BEC5\",\"#B0BEC5\",\"#B0BEC5\",\"#B0BEC5\",\"#B0BEC5\",\"#B0BEC5\",\"#B0BEC5\",\"#B0BEC5\",\"#B0BEC5\",\"#B0BEC5\",\"#B0BEC5\",\"#B0BEC5\",\"#B0BEC5\",\"#B0BEC5\",\"#B0BEC5\",\"#B0BEC5\",\"#B0BEC5\",\"#B0BEC5\",\"#B0BEC5\",\"#B0BEC5\",\"#B0BEC5\",\"#B0BEC5\",\"#B0BEC5\",\"#B0BEC5\",\"#B0BEC5\",\"#B0BEC5\",\"#B0BEC5\",\"#B0BEC5\",\"#B0BEC5\",\"#B0BEC5\",\"#B0BEC5\",\"#B0BEC5\",\"#B0BEC5\",\"#B0BEC5\",\"#B0BEC5\",\"#B0BEC5\",\"#B0BEC5\"]]}],\"label\":\"Topic 13\",\"method\":\"update\"},{\"args\":[{\"marker.color\":[[\"#B0BEC5\",\"#B0BEC5\",\"#B0BEC5\",\"#B0BEC5\",\"#B0BEC5\",\"#B0BEC5\",\"#B0BEC5\",\"#B0BEC5\",\"#B0BEC5\",\"#B0BEC5\",\"#B0BEC5\",\"#B0BEC5\",\"#B0BEC5\",\"#B0BEC5\",\"red\",\"#B0BEC5\",\"#B0BEC5\",\"#B0BEC5\",\"#B0BEC5\",\"#B0BEC5\",\"#B0BEC5\",\"#B0BEC5\",\"#B0BEC5\",\"#B0BEC5\",\"#B0BEC5\",\"#B0BEC5\",\"#B0BEC5\",\"#B0BEC5\",\"#B0BEC5\",\"#B0BEC5\",\"#B0BEC5\",\"#B0BEC5\",\"#B0BEC5\",\"#B0BEC5\",\"#B0BEC5\",\"#B0BEC5\",\"#B0BEC5\",\"#B0BEC5\",\"#B0BEC5\",\"#B0BEC5\",\"#B0BEC5\",\"#B0BEC5\",\"#B0BEC5\",\"#B0BEC5\",\"#B0BEC5\",\"#B0BEC5\",\"#B0BEC5\",\"#B0BEC5\",\"#B0BEC5\",\"#B0BEC5\",\"#B0BEC5\",\"#B0BEC5\",\"#B0BEC5\",\"#B0BEC5\",\"#B0BEC5\",\"#B0BEC5\",\"#B0BEC5\",\"#B0BEC5\",\"#B0BEC5\",\"#B0BEC5\",\"#B0BEC5\",\"#B0BEC5\",\"#B0BEC5\",\"#B0BEC5\",\"#B0BEC5\",\"#B0BEC5\",\"#B0BEC5\",\"#B0BEC5\",\"#B0BEC5\",\"#B0BEC5\",\"#B0BEC5\",\"#B0BEC5\",\"#B0BEC5\"]]}],\"label\":\"Topic 14\",\"method\":\"update\"},{\"args\":[{\"marker.color\":[[\"#B0BEC5\",\"#B0BEC5\",\"#B0BEC5\",\"#B0BEC5\",\"#B0BEC5\",\"#B0BEC5\",\"#B0BEC5\",\"#B0BEC5\",\"#B0BEC5\",\"#B0BEC5\",\"#B0BEC5\",\"#B0BEC5\",\"#B0BEC5\",\"#B0BEC5\",\"#B0BEC5\",\"red\",\"#B0BEC5\",\"#B0BEC5\",\"#B0BEC5\",\"#B0BEC5\",\"#B0BEC5\",\"#B0BEC5\",\"#B0BEC5\",\"#B0BEC5\",\"#B0BEC5\",\"#B0BEC5\",\"#B0BEC5\",\"#B0BEC5\",\"#B0BEC5\",\"#B0BEC5\",\"#B0BEC5\",\"#B0BEC5\",\"#B0BEC5\",\"#B0BEC5\",\"#B0BEC5\",\"#B0BEC5\",\"#B0BEC5\",\"#B0BEC5\",\"#B0BEC5\",\"#B0BEC5\",\"#B0BEC5\",\"#B0BEC5\",\"#B0BEC5\",\"#B0BEC5\",\"#B0BEC5\",\"#B0BEC5\",\"#B0BEC5\",\"#B0BEC5\",\"#B0BEC5\",\"#B0BEC5\",\"#B0BEC5\",\"#B0BEC5\",\"#B0BEC5\",\"#B0BEC5\",\"#B0BEC5\",\"#B0BEC5\",\"#B0BEC5\",\"#B0BEC5\",\"#B0BEC5\",\"#B0BEC5\",\"#B0BEC5\",\"#B0BEC5\",\"#B0BEC5\",\"#B0BEC5\",\"#B0BEC5\",\"#B0BEC5\",\"#B0BEC5\",\"#B0BEC5\",\"#B0BEC5\",\"#B0BEC5\",\"#B0BEC5\",\"#B0BEC5\",\"#B0BEC5\"]]}],\"label\":\"Topic 15\",\"method\":\"update\"},{\"args\":[{\"marker.color\":[[\"#B0BEC5\",\"#B0BEC5\",\"#B0BEC5\",\"#B0BEC5\",\"#B0BEC5\",\"#B0BEC5\",\"#B0BEC5\",\"#B0BEC5\",\"#B0BEC5\",\"#B0BEC5\",\"#B0BEC5\",\"#B0BEC5\",\"#B0BEC5\",\"#B0BEC5\",\"#B0BEC5\",\"#B0BEC5\",\"red\",\"#B0BEC5\",\"#B0BEC5\",\"#B0BEC5\",\"#B0BEC5\",\"#B0BEC5\",\"#B0BEC5\",\"#B0BEC5\",\"#B0BEC5\",\"#B0BEC5\",\"#B0BEC5\",\"#B0BEC5\",\"#B0BEC5\",\"#B0BEC5\",\"#B0BEC5\",\"#B0BEC5\",\"#B0BEC5\",\"#B0BEC5\",\"#B0BEC5\",\"#B0BEC5\",\"#B0BEC5\",\"#B0BEC5\",\"#B0BEC5\",\"#B0BEC5\",\"#B0BEC5\",\"#B0BEC5\",\"#B0BEC5\",\"#B0BEC5\",\"#B0BEC5\",\"#B0BEC5\",\"#B0BEC5\",\"#B0BEC5\",\"#B0BEC5\",\"#B0BEC5\",\"#B0BEC5\",\"#B0BEC5\",\"#B0BEC5\",\"#B0BEC5\",\"#B0BEC5\",\"#B0BEC5\",\"#B0BEC5\",\"#B0BEC5\",\"#B0BEC5\",\"#B0BEC5\",\"#B0BEC5\",\"#B0BEC5\",\"#B0BEC5\",\"#B0BEC5\",\"#B0BEC5\",\"#B0BEC5\",\"#B0BEC5\",\"#B0BEC5\",\"#B0BEC5\",\"#B0BEC5\",\"#B0BEC5\",\"#B0BEC5\",\"#B0BEC5\"]]}],\"label\":\"Topic 16\",\"method\":\"update\"},{\"args\":[{\"marker.color\":[[\"#B0BEC5\",\"#B0BEC5\",\"#B0BEC5\",\"#B0BEC5\",\"#B0BEC5\",\"#B0BEC5\",\"#B0BEC5\",\"#B0BEC5\",\"#B0BEC5\",\"#B0BEC5\",\"#B0BEC5\",\"#B0BEC5\",\"#B0BEC5\",\"#B0BEC5\",\"#B0BEC5\",\"#B0BEC5\",\"#B0BEC5\",\"red\",\"#B0BEC5\",\"#B0BEC5\",\"#B0BEC5\",\"#B0BEC5\",\"#B0BEC5\",\"#B0BEC5\",\"#B0BEC5\",\"#B0BEC5\",\"#B0BEC5\",\"#B0BEC5\",\"#B0BEC5\",\"#B0BEC5\",\"#B0BEC5\",\"#B0BEC5\",\"#B0BEC5\",\"#B0BEC5\",\"#B0BEC5\",\"#B0BEC5\",\"#B0BEC5\",\"#B0BEC5\",\"#B0BEC5\",\"#B0BEC5\",\"#B0BEC5\",\"#B0BEC5\",\"#B0BEC5\",\"#B0BEC5\",\"#B0BEC5\",\"#B0BEC5\",\"#B0BEC5\",\"#B0BEC5\",\"#B0BEC5\",\"#B0BEC5\",\"#B0BEC5\",\"#B0BEC5\",\"#B0BEC5\",\"#B0BEC5\",\"#B0BEC5\",\"#B0BEC5\",\"#B0BEC5\",\"#B0BEC5\",\"#B0BEC5\",\"#B0BEC5\",\"#B0BEC5\",\"#B0BEC5\",\"#B0BEC5\",\"#B0BEC5\",\"#B0BEC5\",\"#B0BEC5\",\"#B0BEC5\",\"#B0BEC5\",\"#B0BEC5\",\"#B0BEC5\",\"#B0BEC5\",\"#B0BEC5\",\"#B0BEC5\"]]}],\"label\":\"Topic 17\",\"method\":\"update\"},{\"args\":[{\"marker.color\":[[\"#B0BEC5\",\"#B0BEC5\",\"#B0BEC5\",\"#B0BEC5\",\"#B0BEC5\",\"#B0BEC5\",\"#B0BEC5\",\"#B0BEC5\",\"#B0BEC5\",\"#B0BEC5\",\"#B0BEC5\",\"#B0BEC5\",\"#B0BEC5\",\"#B0BEC5\",\"#B0BEC5\",\"#B0BEC5\",\"#B0BEC5\",\"#B0BEC5\",\"red\",\"#B0BEC5\",\"#B0BEC5\",\"#B0BEC5\",\"#B0BEC5\",\"#B0BEC5\",\"#B0BEC5\",\"#B0BEC5\",\"#B0BEC5\",\"#B0BEC5\",\"#B0BEC5\",\"#B0BEC5\",\"#B0BEC5\",\"#B0BEC5\",\"#B0BEC5\",\"#B0BEC5\",\"#B0BEC5\",\"#B0BEC5\",\"#B0BEC5\",\"#B0BEC5\",\"#B0BEC5\",\"#B0BEC5\",\"#B0BEC5\",\"#B0BEC5\",\"#B0BEC5\",\"#B0BEC5\",\"#B0BEC5\",\"#B0BEC5\",\"#B0BEC5\",\"#B0BEC5\",\"#B0BEC5\",\"#B0BEC5\",\"#B0BEC5\",\"#B0BEC5\",\"#B0BEC5\",\"#B0BEC5\",\"#B0BEC5\",\"#B0BEC5\",\"#B0BEC5\",\"#B0BEC5\",\"#B0BEC5\",\"#B0BEC5\",\"#B0BEC5\",\"#B0BEC5\",\"#B0BEC5\",\"#B0BEC5\",\"#B0BEC5\",\"#B0BEC5\",\"#B0BEC5\",\"#B0BEC5\",\"#B0BEC5\",\"#B0BEC5\",\"#B0BEC5\",\"#B0BEC5\",\"#B0BEC5\"]]}],\"label\":\"Topic 18\",\"method\":\"update\"},{\"args\":[{\"marker.color\":[[\"#B0BEC5\",\"#B0BEC5\",\"#B0BEC5\",\"#B0BEC5\",\"#B0BEC5\",\"#B0BEC5\",\"#B0BEC5\",\"#B0BEC5\",\"#B0BEC5\",\"#B0BEC5\",\"#B0BEC5\",\"#B0BEC5\",\"#B0BEC5\",\"#B0BEC5\",\"#B0BEC5\",\"#B0BEC5\",\"#B0BEC5\",\"#B0BEC5\",\"#B0BEC5\",\"red\",\"#B0BEC5\",\"#B0BEC5\",\"#B0BEC5\",\"#B0BEC5\",\"#B0BEC5\",\"#B0BEC5\",\"#B0BEC5\",\"#B0BEC5\",\"#B0BEC5\",\"#B0BEC5\",\"#B0BEC5\",\"#B0BEC5\",\"#B0BEC5\",\"#B0BEC5\",\"#B0BEC5\",\"#B0BEC5\",\"#B0BEC5\",\"#B0BEC5\",\"#B0BEC5\",\"#B0BEC5\",\"#B0BEC5\",\"#B0BEC5\",\"#B0BEC5\",\"#B0BEC5\",\"#B0BEC5\",\"#B0BEC5\",\"#B0BEC5\",\"#B0BEC5\",\"#B0BEC5\",\"#B0BEC5\",\"#B0BEC5\",\"#B0BEC5\",\"#B0BEC5\",\"#B0BEC5\",\"#B0BEC5\",\"#B0BEC5\",\"#B0BEC5\",\"#B0BEC5\",\"#B0BEC5\",\"#B0BEC5\",\"#B0BEC5\",\"#B0BEC5\",\"#B0BEC5\",\"#B0BEC5\",\"#B0BEC5\",\"#B0BEC5\",\"#B0BEC5\",\"#B0BEC5\",\"#B0BEC5\",\"#B0BEC5\",\"#B0BEC5\",\"#B0BEC5\",\"#B0BEC5\"]]}],\"label\":\"Topic 19\",\"method\":\"update\"},{\"args\":[{\"marker.color\":[[\"#B0BEC5\",\"#B0BEC5\",\"#B0BEC5\",\"#B0BEC5\",\"#B0BEC5\",\"#B0BEC5\",\"#B0BEC5\",\"#B0BEC5\",\"#B0BEC5\",\"#B0BEC5\",\"#B0BEC5\",\"#B0BEC5\",\"#B0BEC5\",\"#B0BEC5\",\"#B0BEC5\",\"#B0BEC5\",\"#B0BEC5\",\"#B0BEC5\",\"#B0BEC5\",\"#B0BEC5\",\"red\",\"#B0BEC5\",\"#B0BEC5\",\"#B0BEC5\",\"#B0BEC5\",\"#B0BEC5\",\"#B0BEC5\",\"#B0BEC5\",\"#B0BEC5\",\"#B0BEC5\",\"#B0BEC5\",\"#B0BEC5\",\"#B0BEC5\",\"#B0BEC5\",\"#B0BEC5\",\"#B0BEC5\",\"#B0BEC5\",\"#B0BEC5\",\"#B0BEC5\",\"#B0BEC5\",\"#B0BEC5\",\"#B0BEC5\",\"#B0BEC5\",\"#B0BEC5\",\"#B0BEC5\",\"#B0BEC5\",\"#B0BEC5\",\"#B0BEC5\",\"#B0BEC5\",\"#B0BEC5\",\"#B0BEC5\",\"#B0BEC5\",\"#B0BEC5\",\"#B0BEC5\",\"#B0BEC5\",\"#B0BEC5\",\"#B0BEC5\",\"#B0BEC5\",\"#B0BEC5\",\"#B0BEC5\",\"#B0BEC5\",\"#B0BEC5\",\"#B0BEC5\",\"#B0BEC5\",\"#B0BEC5\",\"#B0BEC5\",\"#B0BEC5\",\"#B0BEC5\",\"#B0BEC5\",\"#B0BEC5\",\"#B0BEC5\",\"#B0BEC5\",\"#B0BEC5\"]]}],\"label\":\"Topic 20\",\"method\":\"update\"},{\"args\":[{\"marker.color\":[[\"#B0BEC5\",\"#B0BEC5\",\"#B0BEC5\",\"#B0BEC5\",\"#B0BEC5\",\"#B0BEC5\",\"#B0BEC5\",\"#B0BEC5\",\"#B0BEC5\",\"#B0BEC5\",\"#B0BEC5\",\"#B0BEC5\",\"#B0BEC5\",\"#B0BEC5\",\"#B0BEC5\",\"#B0BEC5\",\"#B0BEC5\",\"#B0BEC5\",\"#B0BEC5\",\"#B0BEC5\",\"#B0BEC5\",\"red\",\"#B0BEC5\",\"#B0BEC5\",\"#B0BEC5\",\"#B0BEC5\",\"#B0BEC5\",\"#B0BEC5\",\"#B0BEC5\",\"#B0BEC5\",\"#B0BEC5\",\"#B0BEC5\",\"#B0BEC5\",\"#B0BEC5\",\"#B0BEC5\",\"#B0BEC5\",\"#B0BEC5\",\"#B0BEC5\",\"#B0BEC5\",\"#B0BEC5\",\"#B0BEC5\",\"#B0BEC5\",\"#B0BEC5\",\"#B0BEC5\",\"#B0BEC5\",\"#B0BEC5\",\"#B0BEC5\",\"#B0BEC5\",\"#B0BEC5\",\"#B0BEC5\",\"#B0BEC5\",\"#B0BEC5\",\"#B0BEC5\",\"#B0BEC5\",\"#B0BEC5\",\"#B0BEC5\",\"#B0BEC5\",\"#B0BEC5\",\"#B0BEC5\",\"#B0BEC5\",\"#B0BEC5\",\"#B0BEC5\",\"#B0BEC5\",\"#B0BEC5\",\"#B0BEC5\",\"#B0BEC5\",\"#B0BEC5\",\"#B0BEC5\",\"#B0BEC5\",\"#B0BEC5\",\"#B0BEC5\",\"#B0BEC5\",\"#B0BEC5\"]]}],\"label\":\"Topic 21\",\"method\":\"update\"},{\"args\":[{\"marker.color\":[[\"#B0BEC5\",\"#B0BEC5\",\"#B0BEC5\",\"#B0BEC5\",\"#B0BEC5\",\"#B0BEC5\",\"#B0BEC5\",\"#B0BEC5\",\"#B0BEC5\",\"#B0BEC5\",\"#B0BEC5\",\"#B0BEC5\",\"#B0BEC5\",\"#B0BEC5\",\"#B0BEC5\",\"#B0BEC5\",\"#B0BEC5\",\"#B0BEC5\",\"#B0BEC5\",\"#B0BEC5\",\"#B0BEC5\",\"#B0BEC5\",\"red\",\"#B0BEC5\",\"#B0BEC5\",\"#B0BEC5\",\"#B0BEC5\",\"#B0BEC5\",\"#B0BEC5\",\"#B0BEC5\",\"#B0BEC5\",\"#B0BEC5\",\"#B0BEC5\",\"#B0BEC5\",\"#B0BEC5\",\"#B0BEC5\",\"#B0BEC5\",\"#B0BEC5\",\"#B0BEC5\",\"#B0BEC5\",\"#B0BEC5\",\"#B0BEC5\",\"#B0BEC5\",\"#B0BEC5\",\"#B0BEC5\",\"#B0BEC5\",\"#B0BEC5\",\"#B0BEC5\",\"#B0BEC5\",\"#B0BEC5\",\"#B0BEC5\",\"#B0BEC5\",\"#B0BEC5\",\"#B0BEC5\",\"#B0BEC5\",\"#B0BEC5\",\"#B0BEC5\",\"#B0BEC5\",\"#B0BEC5\",\"#B0BEC5\",\"#B0BEC5\",\"#B0BEC5\",\"#B0BEC5\",\"#B0BEC5\",\"#B0BEC5\",\"#B0BEC5\",\"#B0BEC5\",\"#B0BEC5\",\"#B0BEC5\",\"#B0BEC5\",\"#B0BEC5\",\"#B0BEC5\",\"#B0BEC5\"]]}],\"label\":\"Topic 22\",\"method\":\"update\"},{\"args\":[{\"marker.color\":[[\"#B0BEC5\",\"#B0BEC5\",\"#B0BEC5\",\"#B0BEC5\",\"#B0BEC5\",\"#B0BEC5\",\"#B0BEC5\",\"#B0BEC5\",\"#B0BEC5\",\"#B0BEC5\",\"#B0BEC5\",\"#B0BEC5\",\"#B0BEC5\",\"#B0BEC5\",\"#B0BEC5\",\"#B0BEC5\",\"#B0BEC5\",\"#B0BEC5\",\"#B0BEC5\",\"#B0BEC5\",\"#B0BEC5\",\"#B0BEC5\",\"#B0BEC5\",\"red\",\"#B0BEC5\",\"#B0BEC5\",\"#B0BEC5\",\"#B0BEC5\",\"#B0BEC5\",\"#B0BEC5\",\"#B0BEC5\",\"#B0BEC5\",\"#B0BEC5\",\"#B0BEC5\",\"#B0BEC5\",\"#B0BEC5\",\"#B0BEC5\",\"#B0BEC5\",\"#B0BEC5\",\"#B0BEC5\",\"#B0BEC5\",\"#B0BEC5\",\"#B0BEC5\",\"#B0BEC5\",\"#B0BEC5\",\"#B0BEC5\",\"#B0BEC5\",\"#B0BEC5\",\"#B0BEC5\",\"#B0BEC5\",\"#B0BEC5\",\"#B0BEC5\",\"#B0BEC5\",\"#B0BEC5\",\"#B0BEC5\",\"#B0BEC5\",\"#B0BEC5\",\"#B0BEC5\",\"#B0BEC5\",\"#B0BEC5\",\"#B0BEC5\",\"#B0BEC5\",\"#B0BEC5\",\"#B0BEC5\",\"#B0BEC5\",\"#B0BEC5\",\"#B0BEC5\",\"#B0BEC5\",\"#B0BEC5\",\"#B0BEC5\",\"#B0BEC5\",\"#B0BEC5\",\"#B0BEC5\"]]}],\"label\":\"Topic 23\",\"method\":\"update\"},{\"args\":[{\"marker.color\":[[\"#B0BEC5\",\"#B0BEC5\",\"#B0BEC5\",\"#B0BEC5\",\"#B0BEC5\",\"#B0BEC5\",\"#B0BEC5\",\"#B0BEC5\",\"#B0BEC5\",\"#B0BEC5\",\"#B0BEC5\",\"#B0BEC5\",\"#B0BEC5\",\"#B0BEC5\",\"#B0BEC5\",\"#B0BEC5\",\"#B0BEC5\",\"#B0BEC5\",\"#B0BEC5\",\"#B0BEC5\",\"#B0BEC5\",\"#B0BEC5\",\"#B0BEC5\",\"#B0BEC5\",\"red\",\"#B0BEC5\",\"#B0BEC5\",\"#B0BEC5\",\"#B0BEC5\",\"#B0BEC5\",\"#B0BEC5\",\"#B0BEC5\",\"#B0BEC5\",\"#B0BEC5\",\"#B0BEC5\",\"#B0BEC5\",\"#B0BEC5\",\"#B0BEC5\",\"#B0BEC5\",\"#B0BEC5\",\"#B0BEC5\",\"#B0BEC5\",\"#B0BEC5\",\"#B0BEC5\",\"#B0BEC5\",\"#B0BEC5\",\"#B0BEC5\",\"#B0BEC5\",\"#B0BEC5\",\"#B0BEC5\",\"#B0BEC5\",\"#B0BEC5\",\"#B0BEC5\",\"#B0BEC5\",\"#B0BEC5\",\"#B0BEC5\",\"#B0BEC5\",\"#B0BEC5\",\"#B0BEC5\",\"#B0BEC5\",\"#B0BEC5\",\"#B0BEC5\",\"#B0BEC5\",\"#B0BEC5\",\"#B0BEC5\",\"#B0BEC5\",\"#B0BEC5\",\"#B0BEC5\",\"#B0BEC5\",\"#B0BEC5\",\"#B0BEC5\",\"#B0BEC5\",\"#B0BEC5\"]]}],\"label\":\"Topic 24\",\"method\":\"update\"},{\"args\":[{\"marker.color\":[[\"#B0BEC5\",\"#B0BEC5\",\"#B0BEC5\",\"#B0BEC5\",\"#B0BEC5\",\"#B0BEC5\",\"#B0BEC5\",\"#B0BEC5\",\"#B0BEC5\",\"#B0BEC5\",\"#B0BEC5\",\"#B0BEC5\",\"#B0BEC5\",\"#B0BEC5\",\"#B0BEC5\",\"#B0BEC5\",\"#B0BEC5\",\"#B0BEC5\",\"#B0BEC5\",\"#B0BEC5\",\"#B0BEC5\",\"#B0BEC5\",\"#B0BEC5\",\"#B0BEC5\",\"#B0BEC5\",\"red\",\"#B0BEC5\",\"#B0BEC5\",\"#B0BEC5\",\"#B0BEC5\",\"#B0BEC5\",\"#B0BEC5\",\"#B0BEC5\",\"#B0BEC5\",\"#B0BEC5\",\"#B0BEC5\",\"#B0BEC5\",\"#B0BEC5\",\"#B0BEC5\",\"#B0BEC5\",\"#B0BEC5\",\"#B0BEC5\",\"#B0BEC5\",\"#B0BEC5\",\"#B0BEC5\",\"#B0BEC5\",\"#B0BEC5\",\"#B0BEC5\",\"#B0BEC5\",\"#B0BEC5\",\"#B0BEC5\",\"#B0BEC5\",\"#B0BEC5\",\"#B0BEC5\",\"#B0BEC5\",\"#B0BEC5\",\"#B0BEC5\",\"#B0BEC5\",\"#B0BEC5\",\"#B0BEC5\",\"#B0BEC5\",\"#B0BEC5\",\"#B0BEC5\",\"#B0BEC5\",\"#B0BEC5\",\"#B0BEC5\",\"#B0BEC5\",\"#B0BEC5\",\"#B0BEC5\",\"#B0BEC5\",\"#B0BEC5\",\"#B0BEC5\",\"#B0BEC5\"]]}],\"label\":\"Topic 25\",\"method\":\"update\"},{\"args\":[{\"marker.color\":[[\"#B0BEC5\",\"#B0BEC5\",\"#B0BEC5\",\"#B0BEC5\",\"#B0BEC5\",\"#B0BEC5\",\"#B0BEC5\",\"#B0BEC5\",\"#B0BEC5\",\"#B0BEC5\",\"#B0BEC5\",\"#B0BEC5\",\"#B0BEC5\",\"#B0BEC5\",\"#B0BEC5\",\"#B0BEC5\",\"#B0BEC5\",\"#B0BEC5\",\"#B0BEC5\",\"#B0BEC5\",\"#B0BEC5\",\"#B0BEC5\",\"#B0BEC5\",\"#B0BEC5\",\"#B0BEC5\",\"#B0BEC5\",\"red\",\"#B0BEC5\",\"#B0BEC5\",\"#B0BEC5\",\"#B0BEC5\",\"#B0BEC5\",\"#B0BEC5\",\"#B0BEC5\",\"#B0BEC5\",\"#B0BEC5\",\"#B0BEC5\",\"#B0BEC5\",\"#B0BEC5\",\"#B0BEC5\",\"#B0BEC5\",\"#B0BEC5\",\"#B0BEC5\",\"#B0BEC5\",\"#B0BEC5\",\"#B0BEC5\",\"#B0BEC5\",\"#B0BEC5\",\"#B0BEC5\",\"#B0BEC5\",\"#B0BEC5\",\"#B0BEC5\",\"#B0BEC5\",\"#B0BEC5\",\"#B0BEC5\",\"#B0BEC5\",\"#B0BEC5\",\"#B0BEC5\",\"#B0BEC5\",\"#B0BEC5\",\"#B0BEC5\",\"#B0BEC5\",\"#B0BEC5\",\"#B0BEC5\",\"#B0BEC5\",\"#B0BEC5\",\"#B0BEC5\",\"#B0BEC5\",\"#B0BEC5\",\"#B0BEC5\",\"#B0BEC5\",\"#B0BEC5\",\"#B0BEC5\"]]}],\"label\":\"Topic 26\",\"method\":\"update\"},{\"args\":[{\"marker.color\":[[\"#B0BEC5\",\"#B0BEC5\",\"#B0BEC5\",\"#B0BEC5\",\"#B0BEC5\",\"#B0BEC5\",\"#B0BEC5\",\"#B0BEC5\",\"#B0BEC5\",\"#B0BEC5\",\"#B0BEC5\",\"#B0BEC5\",\"#B0BEC5\",\"#B0BEC5\",\"#B0BEC5\",\"#B0BEC5\",\"#B0BEC5\",\"#B0BEC5\",\"#B0BEC5\",\"#B0BEC5\",\"#B0BEC5\",\"#B0BEC5\",\"#B0BEC5\",\"#B0BEC5\",\"#B0BEC5\",\"#B0BEC5\",\"#B0BEC5\",\"red\",\"#B0BEC5\",\"#B0BEC5\",\"#B0BEC5\",\"#B0BEC5\",\"#B0BEC5\",\"#B0BEC5\",\"#B0BEC5\",\"#B0BEC5\",\"#B0BEC5\",\"#B0BEC5\",\"#B0BEC5\",\"#B0BEC5\",\"#B0BEC5\",\"#B0BEC5\",\"#B0BEC5\",\"#B0BEC5\",\"#B0BEC5\",\"#B0BEC5\",\"#B0BEC5\",\"#B0BEC5\",\"#B0BEC5\",\"#B0BEC5\",\"#B0BEC5\",\"#B0BEC5\",\"#B0BEC5\",\"#B0BEC5\",\"#B0BEC5\",\"#B0BEC5\",\"#B0BEC5\",\"#B0BEC5\",\"#B0BEC5\",\"#B0BEC5\",\"#B0BEC5\",\"#B0BEC5\",\"#B0BEC5\",\"#B0BEC5\",\"#B0BEC5\",\"#B0BEC5\",\"#B0BEC5\",\"#B0BEC5\",\"#B0BEC5\",\"#B0BEC5\",\"#B0BEC5\",\"#B0BEC5\",\"#B0BEC5\"]]}],\"label\":\"Topic 27\",\"method\":\"update\"},{\"args\":[{\"marker.color\":[[\"#B0BEC5\",\"#B0BEC5\",\"#B0BEC5\",\"#B0BEC5\",\"#B0BEC5\",\"#B0BEC5\",\"#B0BEC5\",\"#B0BEC5\",\"#B0BEC5\",\"#B0BEC5\",\"#B0BEC5\",\"#B0BEC5\",\"#B0BEC5\",\"#B0BEC5\",\"#B0BEC5\",\"#B0BEC5\",\"#B0BEC5\",\"#B0BEC5\",\"#B0BEC5\",\"#B0BEC5\",\"#B0BEC5\",\"#B0BEC5\",\"#B0BEC5\",\"#B0BEC5\",\"#B0BEC5\",\"#B0BEC5\",\"#B0BEC5\",\"#B0BEC5\",\"red\",\"#B0BEC5\",\"#B0BEC5\",\"#B0BEC5\",\"#B0BEC5\",\"#B0BEC5\",\"#B0BEC5\",\"#B0BEC5\",\"#B0BEC5\",\"#B0BEC5\",\"#B0BEC5\",\"#B0BEC5\",\"#B0BEC5\",\"#B0BEC5\",\"#B0BEC5\",\"#B0BEC5\",\"#B0BEC5\",\"#B0BEC5\",\"#B0BEC5\",\"#B0BEC5\",\"#B0BEC5\",\"#B0BEC5\",\"#B0BEC5\",\"#B0BEC5\",\"#B0BEC5\",\"#B0BEC5\",\"#B0BEC5\",\"#B0BEC5\",\"#B0BEC5\",\"#B0BEC5\",\"#B0BEC5\",\"#B0BEC5\",\"#B0BEC5\",\"#B0BEC5\",\"#B0BEC5\",\"#B0BEC5\",\"#B0BEC5\",\"#B0BEC5\",\"#B0BEC5\",\"#B0BEC5\",\"#B0BEC5\",\"#B0BEC5\",\"#B0BEC5\",\"#B0BEC5\",\"#B0BEC5\"]]}],\"label\":\"Topic 28\",\"method\":\"update\"},{\"args\":[{\"marker.color\":[[\"#B0BEC5\",\"#B0BEC5\",\"#B0BEC5\",\"#B0BEC5\",\"#B0BEC5\",\"#B0BEC5\",\"#B0BEC5\",\"#B0BEC5\",\"#B0BEC5\",\"#B0BEC5\",\"#B0BEC5\",\"#B0BEC5\",\"#B0BEC5\",\"#B0BEC5\",\"#B0BEC5\",\"#B0BEC5\",\"#B0BEC5\",\"#B0BEC5\",\"#B0BEC5\",\"#B0BEC5\",\"#B0BEC5\",\"#B0BEC5\",\"#B0BEC5\",\"#B0BEC5\",\"#B0BEC5\",\"#B0BEC5\",\"#B0BEC5\",\"#B0BEC5\",\"#B0BEC5\",\"red\",\"#B0BEC5\",\"#B0BEC5\",\"#B0BEC5\",\"#B0BEC5\",\"#B0BEC5\",\"#B0BEC5\",\"#B0BEC5\",\"#B0BEC5\",\"#B0BEC5\",\"#B0BEC5\",\"#B0BEC5\",\"#B0BEC5\",\"#B0BEC5\",\"#B0BEC5\",\"#B0BEC5\",\"#B0BEC5\",\"#B0BEC5\",\"#B0BEC5\",\"#B0BEC5\",\"#B0BEC5\",\"#B0BEC5\",\"#B0BEC5\",\"#B0BEC5\",\"#B0BEC5\",\"#B0BEC5\",\"#B0BEC5\",\"#B0BEC5\",\"#B0BEC5\",\"#B0BEC5\",\"#B0BEC5\",\"#B0BEC5\",\"#B0BEC5\",\"#B0BEC5\",\"#B0BEC5\",\"#B0BEC5\",\"#B0BEC5\",\"#B0BEC5\",\"#B0BEC5\",\"#B0BEC5\",\"#B0BEC5\",\"#B0BEC5\",\"#B0BEC5\",\"#B0BEC5\"]]}],\"label\":\"Topic 29\",\"method\":\"update\"},{\"args\":[{\"marker.color\":[[\"#B0BEC5\",\"#B0BEC5\",\"#B0BEC5\",\"#B0BEC5\",\"#B0BEC5\",\"#B0BEC5\",\"#B0BEC5\",\"#B0BEC5\",\"#B0BEC5\",\"#B0BEC5\",\"#B0BEC5\",\"#B0BEC5\",\"#B0BEC5\",\"#B0BEC5\",\"#B0BEC5\",\"#B0BEC5\",\"#B0BEC5\",\"#B0BEC5\",\"#B0BEC5\",\"#B0BEC5\",\"#B0BEC5\",\"#B0BEC5\",\"#B0BEC5\",\"#B0BEC5\",\"#B0BEC5\",\"#B0BEC5\",\"#B0BEC5\",\"#B0BEC5\",\"#B0BEC5\",\"#B0BEC5\",\"red\",\"#B0BEC5\",\"#B0BEC5\",\"#B0BEC5\",\"#B0BEC5\",\"#B0BEC5\",\"#B0BEC5\",\"#B0BEC5\",\"#B0BEC5\",\"#B0BEC5\",\"#B0BEC5\",\"#B0BEC5\",\"#B0BEC5\",\"#B0BEC5\",\"#B0BEC5\",\"#B0BEC5\",\"#B0BEC5\",\"#B0BEC5\",\"#B0BEC5\",\"#B0BEC5\",\"#B0BEC5\",\"#B0BEC5\",\"#B0BEC5\",\"#B0BEC5\",\"#B0BEC5\",\"#B0BEC5\",\"#B0BEC5\",\"#B0BEC5\",\"#B0BEC5\",\"#B0BEC5\",\"#B0BEC5\",\"#B0BEC5\",\"#B0BEC5\",\"#B0BEC5\",\"#B0BEC5\",\"#B0BEC5\",\"#B0BEC5\",\"#B0BEC5\",\"#B0BEC5\",\"#B0BEC5\",\"#B0BEC5\",\"#B0BEC5\",\"#B0BEC5\"]]}],\"label\":\"Topic 30\",\"method\":\"update\"},{\"args\":[{\"marker.color\":[[\"#B0BEC5\",\"#B0BEC5\",\"#B0BEC5\",\"#B0BEC5\",\"#B0BEC5\",\"#B0BEC5\",\"#B0BEC5\",\"#B0BEC5\",\"#B0BEC5\",\"#B0BEC5\",\"#B0BEC5\",\"#B0BEC5\",\"#B0BEC5\",\"#B0BEC5\",\"#B0BEC5\",\"#B0BEC5\",\"#B0BEC5\",\"#B0BEC5\",\"#B0BEC5\",\"#B0BEC5\",\"#B0BEC5\",\"#B0BEC5\",\"#B0BEC5\",\"#B0BEC5\",\"#B0BEC5\",\"#B0BEC5\",\"#B0BEC5\",\"#B0BEC5\",\"#B0BEC5\",\"#B0BEC5\",\"#B0BEC5\",\"red\",\"#B0BEC5\",\"#B0BEC5\",\"#B0BEC5\",\"#B0BEC5\",\"#B0BEC5\",\"#B0BEC5\",\"#B0BEC5\",\"#B0BEC5\",\"#B0BEC5\",\"#B0BEC5\",\"#B0BEC5\",\"#B0BEC5\",\"#B0BEC5\",\"#B0BEC5\",\"#B0BEC5\",\"#B0BEC5\",\"#B0BEC5\",\"#B0BEC5\",\"#B0BEC5\",\"#B0BEC5\",\"#B0BEC5\",\"#B0BEC5\",\"#B0BEC5\",\"#B0BEC5\",\"#B0BEC5\",\"#B0BEC5\",\"#B0BEC5\",\"#B0BEC5\",\"#B0BEC5\",\"#B0BEC5\",\"#B0BEC5\",\"#B0BEC5\",\"#B0BEC5\",\"#B0BEC5\",\"#B0BEC5\",\"#B0BEC5\",\"#B0BEC5\",\"#B0BEC5\",\"#B0BEC5\",\"#B0BEC5\",\"#B0BEC5\"]]}],\"label\":\"Topic 31\",\"method\":\"update\"},{\"args\":[{\"marker.color\":[[\"#B0BEC5\",\"#B0BEC5\",\"#B0BEC5\",\"#B0BEC5\",\"#B0BEC5\",\"#B0BEC5\",\"#B0BEC5\",\"#B0BEC5\",\"#B0BEC5\",\"#B0BEC5\",\"#B0BEC5\",\"#B0BEC5\",\"#B0BEC5\",\"#B0BEC5\",\"#B0BEC5\",\"#B0BEC5\",\"#B0BEC5\",\"#B0BEC5\",\"#B0BEC5\",\"#B0BEC5\",\"#B0BEC5\",\"#B0BEC5\",\"#B0BEC5\",\"#B0BEC5\",\"#B0BEC5\",\"#B0BEC5\",\"#B0BEC5\",\"#B0BEC5\",\"#B0BEC5\",\"#B0BEC5\",\"#B0BEC5\",\"#B0BEC5\",\"red\",\"#B0BEC5\",\"#B0BEC5\",\"#B0BEC5\",\"#B0BEC5\",\"#B0BEC5\",\"#B0BEC5\",\"#B0BEC5\",\"#B0BEC5\",\"#B0BEC5\",\"#B0BEC5\",\"#B0BEC5\",\"#B0BEC5\",\"#B0BEC5\",\"#B0BEC5\",\"#B0BEC5\",\"#B0BEC5\",\"#B0BEC5\",\"#B0BEC5\",\"#B0BEC5\",\"#B0BEC5\",\"#B0BEC5\",\"#B0BEC5\",\"#B0BEC5\",\"#B0BEC5\",\"#B0BEC5\",\"#B0BEC5\",\"#B0BEC5\",\"#B0BEC5\",\"#B0BEC5\",\"#B0BEC5\",\"#B0BEC5\",\"#B0BEC5\",\"#B0BEC5\",\"#B0BEC5\",\"#B0BEC5\",\"#B0BEC5\",\"#B0BEC5\",\"#B0BEC5\",\"#B0BEC5\",\"#B0BEC5\"]]}],\"label\":\"Topic 32\",\"method\":\"update\"},{\"args\":[{\"marker.color\":[[\"#B0BEC5\",\"#B0BEC5\",\"#B0BEC5\",\"#B0BEC5\",\"#B0BEC5\",\"#B0BEC5\",\"#B0BEC5\",\"#B0BEC5\",\"#B0BEC5\",\"#B0BEC5\",\"#B0BEC5\",\"#B0BEC5\",\"#B0BEC5\",\"#B0BEC5\",\"#B0BEC5\",\"#B0BEC5\",\"#B0BEC5\",\"#B0BEC5\",\"#B0BEC5\",\"#B0BEC5\",\"#B0BEC5\",\"#B0BEC5\",\"#B0BEC5\",\"#B0BEC5\",\"#B0BEC5\",\"#B0BEC5\",\"#B0BEC5\",\"#B0BEC5\",\"#B0BEC5\",\"#B0BEC5\",\"#B0BEC5\",\"#B0BEC5\",\"#B0BEC5\",\"red\",\"#B0BEC5\",\"#B0BEC5\",\"#B0BEC5\",\"#B0BEC5\",\"#B0BEC5\",\"#B0BEC5\",\"#B0BEC5\",\"#B0BEC5\",\"#B0BEC5\",\"#B0BEC5\",\"#B0BEC5\",\"#B0BEC5\",\"#B0BEC5\",\"#B0BEC5\",\"#B0BEC5\",\"#B0BEC5\",\"#B0BEC5\",\"#B0BEC5\",\"#B0BEC5\",\"#B0BEC5\",\"#B0BEC5\",\"#B0BEC5\",\"#B0BEC5\",\"#B0BEC5\",\"#B0BEC5\",\"#B0BEC5\",\"#B0BEC5\",\"#B0BEC5\",\"#B0BEC5\",\"#B0BEC5\",\"#B0BEC5\",\"#B0BEC5\",\"#B0BEC5\",\"#B0BEC5\",\"#B0BEC5\",\"#B0BEC5\",\"#B0BEC5\",\"#B0BEC5\",\"#B0BEC5\"]]}],\"label\":\"Topic 33\",\"method\":\"update\"},{\"args\":[{\"marker.color\":[[\"#B0BEC5\",\"#B0BEC5\",\"#B0BEC5\",\"#B0BEC5\",\"#B0BEC5\",\"#B0BEC5\",\"#B0BEC5\",\"#B0BEC5\",\"#B0BEC5\",\"#B0BEC5\",\"#B0BEC5\",\"#B0BEC5\",\"#B0BEC5\",\"#B0BEC5\",\"#B0BEC5\",\"#B0BEC5\",\"#B0BEC5\",\"#B0BEC5\",\"#B0BEC5\",\"#B0BEC5\",\"#B0BEC5\",\"#B0BEC5\",\"#B0BEC5\",\"#B0BEC5\",\"#B0BEC5\",\"#B0BEC5\",\"#B0BEC5\",\"#B0BEC5\",\"#B0BEC5\",\"#B0BEC5\",\"#B0BEC5\",\"#B0BEC5\",\"#B0BEC5\",\"#B0BEC5\",\"red\",\"#B0BEC5\",\"#B0BEC5\",\"#B0BEC5\",\"#B0BEC5\",\"#B0BEC5\",\"#B0BEC5\",\"#B0BEC5\",\"#B0BEC5\",\"#B0BEC5\",\"#B0BEC5\",\"#B0BEC5\",\"#B0BEC5\",\"#B0BEC5\",\"#B0BEC5\",\"#B0BEC5\",\"#B0BEC5\",\"#B0BEC5\",\"#B0BEC5\",\"#B0BEC5\",\"#B0BEC5\",\"#B0BEC5\",\"#B0BEC5\",\"#B0BEC5\",\"#B0BEC5\",\"#B0BEC5\",\"#B0BEC5\",\"#B0BEC5\",\"#B0BEC5\",\"#B0BEC5\",\"#B0BEC5\",\"#B0BEC5\",\"#B0BEC5\",\"#B0BEC5\",\"#B0BEC5\",\"#B0BEC5\",\"#B0BEC5\",\"#B0BEC5\",\"#B0BEC5\"]]}],\"label\":\"Topic 34\",\"method\":\"update\"},{\"args\":[{\"marker.color\":[[\"#B0BEC5\",\"#B0BEC5\",\"#B0BEC5\",\"#B0BEC5\",\"#B0BEC5\",\"#B0BEC5\",\"#B0BEC5\",\"#B0BEC5\",\"#B0BEC5\",\"#B0BEC5\",\"#B0BEC5\",\"#B0BEC5\",\"#B0BEC5\",\"#B0BEC5\",\"#B0BEC5\",\"#B0BEC5\",\"#B0BEC5\",\"#B0BEC5\",\"#B0BEC5\",\"#B0BEC5\",\"#B0BEC5\",\"#B0BEC5\",\"#B0BEC5\",\"#B0BEC5\",\"#B0BEC5\",\"#B0BEC5\",\"#B0BEC5\",\"#B0BEC5\",\"#B0BEC5\",\"#B0BEC5\",\"#B0BEC5\",\"#B0BEC5\",\"#B0BEC5\",\"#B0BEC5\",\"#B0BEC5\",\"red\",\"#B0BEC5\",\"#B0BEC5\",\"#B0BEC5\",\"#B0BEC5\",\"#B0BEC5\",\"#B0BEC5\",\"#B0BEC5\",\"#B0BEC5\",\"#B0BEC5\",\"#B0BEC5\",\"#B0BEC5\",\"#B0BEC5\",\"#B0BEC5\",\"#B0BEC5\",\"#B0BEC5\",\"#B0BEC5\",\"#B0BEC5\",\"#B0BEC5\",\"#B0BEC5\",\"#B0BEC5\",\"#B0BEC5\",\"#B0BEC5\",\"#B0BEC5\",\"#B0BEC5\",\"#B0BEC5\",\"#B0BEC5\",\"#B0BEC5\",\"#B0BEC5\",\"#B0BEC5\",\"#B0BEC5\",\"#B0BEC5\",\"#B0BEC5\",\"#B0BEC5\",\"#B0BEC5\",\"#B0BEC5\",\"#B0BEC5\",\"#B0BEC5\"]]}],\"label\":\"Topic 35\",\"method\":\"update\"},{\"args\":[{\"marker.color\":[[\"#B0BEC5\",\"#B0BEC5\",\"#B0BEC5\",\"#B0BEC5\",\"#B0BEC5\",\"#B0BEC5\",\"#B0BEC5\",\"#B0BEC5\",\"#B0BEC5\",\"#B0BEC5\",\"#B0BEC5\",\"#B0BEC5\",\"#B0BEC5\",\"#B0BEC5\",\"#B0BEC5\",\"#B0BEC5\",\"#B0BEC5\",\"#B0BEC5\",\"#B0BEC5\",\"#B0BEC5\",\"#B0BEC5\",\"#B0BEC5\",\"#B0BEC5\",\"#B0BEC5\",\"#B0BEC5\",\"#B0BEC5\",\"#B0BEC5\",\"#B0BEC5\",\"#B0BEC5\",\"#B0BEC5\",\"#B0BEC5\",\"#B0BEC5\",\"#B0BEC5\",\"#B0BEC5\",\"#B0BEC5\",\"#B0BEC5\",\"red\",\"#B0BEC5\",\"#B0BEC5\",\"#B0BEC5\",\"#B0BEC5\",\"#B0BEC5\",\"#B0BEC5\",\"#B0BEC5\",\"#B0BEC5\",\"#B0BEC5\",\"#B0BEC5\",\"#B0BEC5\",\"#B0BEC5\",\"#B0BEC5\",\"#B0BEC5\",\"#B0BEC5\",\"#B0BEC5\",\"#B0BEC5\",\"#B0BEC5\",\"#B0BEC5\",\"#B0BEC5\",\"#B0BEC5\",\"#B0BEC5\",\"#B0BEC5\",\"#B0BEC5\",\"#B0BEC5\",\"#B0BEC5\",\"#B0BEC5\",\"#B0BEC5\",\"#B0BEC5\",\"#B0BEC5\",\"#B0BEC5\",\"#B0BEC5\",\"#B0BEC5\",\"#B0BEC5\",\"#B0BEC5\",\"#B0BEC5\"]]}],\"label\":\"Topic 36\",\"method\":\"update\"},{\"args\":[{\"marker.color\":[[\"#B0BEC5\",\"#B0BEC5\",\"#B0BEC5\",\"#B0BEC5\",\"#B0BEC5\",\"#B0BEC5\",\"#B0BEC5\",\"#B0BEC5\",\"#B0BEC5\",\"#B0BEC5\",\"#B0BEC5\",\"#B0BEC5\",\"#B0BEC5\",\"#B0BEC5\",\"#B0BEC5\",\"#B0BEC5\",\"#B0BEC5\",\"#B0BEC5\",\"#B0BEC5\",\"#B0BEC5\",\"#B0BEC5\",\"#B0BEC5\",\"#B0BEC5\",\"#B0BEC5\",\"#B0BEC5\",\"#B0BEC5\",\"#B0BEC5\",\"#B0BEC5\",\"#B0BEC5\",\"#B0BEC5\",\"#B0BEC5\",\"#B0BEC5\",\"#B0BEC5\",\"#B0BEC5\",\"#B0BEC5\",\"#B0BEC5\",\"#B0BEC5\",\"red\",\"#B0BEC5\",\"#B0BEC5\",\"#B0BEC5\",\"#B0BEC5\",\"#B0BEC5\",\"#B0BEC5\",\"#B0BEC5\",\"#B0BEC5\",\"#B0BEC5\",\"#B0BEC5\",\"#B0BEC5\",\"#B0BEC5\",\"#B0BEC5\",\"#B0BEC5\",\"#B0BEC5\",\"#B0BEC5\",\"#B0BEC5\",\"#B0BEC5\",\"#B0BEC5\",\"#B0BEC5\",\"#B0BEC5\",\"#B0BEC5\",\"#B0BEC5\",\"#B0BEC5\",\"#B0BEC5\",\"#B0BEC5\",\"#B0BEC5\",\"#B0BEC5\",\"#B0BEC5\",\"#B0BEC5\",\"#B0BEC5\",\"#B0BEC5\",\"#B0BEC5\",\"#B0BEC5\",\"#B0BEC5\"]]}],\"label\":\"Topic 37\",\"method\":\"update\"},{\"args\":[{\"marker.color\":[[\"#B0BEC5\",\"#B0BEC5\",\"#B0BEC5\",\"#B0BEC5\",\"#B0BEC5\",\"#B0BEC5\",\"#B0BEC5\",\"#B0BEC5\",\"#B0BEC5\",\"#B0BEC5\",\"#B0BEC5\",\"#B0BEC5\",\"#B0BEC5\",\"#B0BEC5\",\"#B0BEC5\",\"#B0BEC5\",\"#B0BEC5\",\"#B0BEC5\",\"#B0BEC5\",\"#B0BEC5\",\"#B0BEC5\",\"#B0BEC5\",\"#B0BEC5\",\"#B0BEC5\",\"#B0BEC5\",\"#B0BEC5\",\"#B0BEC5\",\"#B0BEC5\",\"#B0BEC5\",\"#B0BEC5\",\"#B0BEC5\",\"#B0BEC5\",\"#B0BEC5\",\"#B0BEC5\",\"#B0BEC5\",\"#B0BEC5\",\"#B0BEC5\",\"#B0BEC5\",\"red\",\"#B0BEC5\",\"#B0BEC5\",\"#B0BEC5\",\"#B0BEC5\",\"#B0BEC5\",\"#B0BEC5\",\"#B0BEC5\",\"#B0BEC5\",\"#B0BEC5\",\"#B0BEC5\",\"#B0BEC5\",\"#B0BEC5\",\"#B0BEC5\",\"#B0BEC5\",\"#B0BEC5\",\"#B0BEC5\",\"#B0BEC5\",\"#B0BEC5\",\"#B0BEC5\",\"#B0BEC5\",\"#B0BEC5\",\"#B0BEC5\",\"#B0BEC5\",\"#B0BEC5\",\"#B0BEC5\",\"#B0BEC5\",\"#B0BEC5\",\"#B0BEC5\",\"#B0BEC5\",\"#B0BEC5\",\"#B0BEC5\",\"#B0BEC5\",\"#B0BEC5\",\"#B0BEC5\"]]}],\"label\":\"Topic 38\",\"method\":\"update\"},{\"args\":[{\"marker.color\":[[\"#B0BEC5\",\"#B0BEC5\",\"#B0BEC5\",\"#B0BEC5\",\"#B0BEC5\",\"#B0BEC5\",\"#B0BEC5\",\"#B0BEC5\",\"#B0BEC5\",\"#B0BEC5\",\"#B0BEC5\",\"#B0BEC5\",\"#B0BEC5\",\"#B0BEC5\",\"#B0BEC5\",\"#B0BEC5\",\"#B0BEC5\",\"#B0BEC5\",\"#B0BEC5\",\"#B0BEC5\",\"#B0BEC5\",\"#B0BEC5\",\"#B0BEC5\",\"#B0BEC5\",\"#B0BEC5\",\"#B0BEC5\",\"#B0BEC5\",\"#B0BEC5\",\"#B0BEC5\",\"#B0BEC5\",\"#B0BEC5\",\"#B0BEC5\",\"#B0BEC5\",\"#B0BEC5\",\"#B0BEC5\",\"#B0BEC5\",\"#B0BEC5\",\"#B0BEC5\",\"#B0BEC5\",\"red\",\"#B0BEC5\",\"#B0BEC5\",\"#B0BEC5\",\"#B0BEC5\",\"#B0BEC5\",\"#B0BEC5\",\"#B0BEC5\",\"#B0BEC5\",\"#B0BEC5\",\"#B0BEC5\",\"#B0BEC5\",\"#B0BEC5\",\"#B0BEC5\",\"#B0BEC5\",\"#B0BEC5\",\"#B0BEC5\",\"#B0BEC5\",\"#B0BEC5\",\"#B0BEC5\",\"#B0BEC5\",\"#B0BEC5\",\"#B0BEC5\",\"#B0BEC5\",\"#B0BEC5\",\"#B0BEC5\",\"#B0BEC5\",\"#B0BEC5\",\"#B0BEC5\",\"#B0BEC5\",\"#B0BEC5\",\"#B0BEC5\",\"#B0BEC5\",\"#B0BEC5\"]]}],\"label\":\"Topic 39\",\"method\":\"update\"},{\"args\":[{\"marker.color\":[[\"#B0BEC5\",\"#B0BEC5\",\"#B0BEC5\",\"#B0BEC5\",\"#B0BEC5\",\"#B0BEC5\",\"#B0BEC5\",\"#B0BEC5\",\"#B0BEC5\",\"#B0BEC5\",\"#B0BEC5\",\"#B0BEC5\",\"#B0BEC5\",\"#B0BEC5\",\"#B0BEC5\",\"#B0BEC5\",\"#B0BEC5\",\"#B0BEC5\",\"#B0BEC5\",\"#B0BEC5\",\"#B0BEC5\",\"#B0BEC5\",\"#B0BEC5\",\"#B0BEC5\",\"#B0BEC5\",\"#B0BEC5\",\"#B0BEC5\",\"#B0BEC5\",\"#B0BEC5\",\"#B0BEC5\",\"#B0BEC5\",\"#B0BEC5\",\"#B0BEC5\",\"#B0BEC5\",\"#B0BEC5\",\"#B0BEC5\",\"#B0BEC5\",\"#B0BEC5\",\"#B0BEC5\",\"#B0BEC5\",\"red\",\"#B0BEC5\",\"#B0BEC5\",\"#B0BEC5\",\"#B0BEC5\",\"#B0BEC5\",\"#B0BEC5\",\"#B0BEC5\",\"#B0BEC5\",\"#B0BEC5\",\"#B0BEC5\",\"#B0BEC5\",\"#B0BEC5\",\"#B0BEC5\",\"#B0BEC5\",\"#B0BEC5\",\"#B0BEC5\",\"#B0BEC5\",\"#B0BEC5\",\"#B0BEC5\",\"#B0BEC5\",\"#B0BEC5\",\"#B0BEC5\",\"#B0BEC5\",\"#B0BEC5\",\"#B0BEC5\",\"#B0BEC5\",\"#B0BEC5\",\"#B0BEC5\",\"#B0BEC5\",\"#B0BEC5\",\"#B0BEC5\",\"#B0BEC5\"]]}],\"label\":\"Topic 40\",\"method\":\"update\"},{\"args\":[{\"marker.color\":[[\"#B0BEC5\",\"#B0BEC5\",\"#B0BEC5\",\"#B0BEC5\",\"#B0BEC5\",\"#B0BEC5\",\"#B0BEC5\",\"#B0BEC5\",\"#B0BEC5\",\"#B0BEC5\",\"#B0BEC5\",\"#B0BEC5\",\"#B0BEC5\",\"#B0BEC5\",\"#B0BEC5\",\"#B0BEC5\",\"#B0BEC5\",\"#B0BEC5\",\"#B0BEC5\",\"#B0BEC5\",\"#B0BEC5\",\"#B0BEC5\",\"#B0BEC5\",\"#B0BEC5\",\"#B0BEC5\",\"#B0BEC5\",\"#B0BEC5\",\"#B0BEC5\",\"#B0BEC5\",\"#B0BEC5\",\"#B0BEC5\",\"#B0BEC5\",\"#B0BEC5\",\"#B0BEC5\",\"#B0BEC5\",\"#B0BEC5\",\"#B0BEC5\",\"#B0BEC5\",\"#B0BEC5\",\"#B0BEC5\",\"#B0BEC5\",\"red\",\"#B0BEC5\",\"#B0BEC5\",\"#B0BEC5\",\"#B0BEC5\",\"#B0BEC5\",\"#B0BEC5\",\"#B0BEC5\",\"#B0BEC5\",\"#B0BEC5\",\"#B0BEC5\",\"#B0BEC5\",\"#B0BEC5\",\"#B0BEC5\",\"#B0BEC5\",\"#B0BEC5\",\"#B0BEC5\",\"#B0BEC5\",\"#B0BEC5\",\"#B0BEC5\",\"#B0BEC5\",\"#B0BEC5\",\"#B0BEC5\",\"#B0BEC5\",\"#B0BEC5\",\"#B0BEC5\",\"#B0BEC5\",\"#B0BEC5\",\"#B0BEC5\",\"#B0BEC5\",\"#B0BEC5\",\"#B0BEC5\"]]}],\"label\":\"Topic 41\",\"method\":\"update\"},{\"args\":[{\"marker.color\":[[\"#B0BEC5\",\"#B0BEC5\",\"#B0BEC5\",\"#B0BEC5\",\"#B0BEC5\",\"#B0BEC5\",\"#B0BEC5\",\"#B0BEC5\",\"#B0BEC5\",\"#B0BEC5\",\"#B0BEC5\",\"#B0BEC5\",\"#B0BEC5\",\"#B0BEC5\",\"#B0BEC5\",\"#B0BEC5\",\"#B0BEC5\",\"#B0BEC5\",\"#B0BEC5\",\"#B0BEC5\",\"#B0BEC5\",\"#B0BEC5\",\"#B0BEC5\",\"#B0BEC5\",\"#B0BEC5\",\"#B0BEC5\",\"#B0BEC5\",\"#B0BEC5\",\"#B0BEC5\",\"#B0BEC5\",\"#B0BEC5\",\"#B0BEC5\",\"#B0BEC5\",\"#B0BEC5\",\"#B0BEC5\",\"#B0BEC5\",\"#B0BEC5\",\"#B0BEC5\",\"#B0BEC5\",\"#B0BEC5\",\"#B0BEC5\",\"#B0BEC5\",\"red\",\"#B0BEC5\",\"#B0BEC5\",\"#B0BEC5\",\"#B0BEC5\",\"#B0BEC5\",\"#B0BEC5\",\"#B0BEC5\",\"#B0BEC5\",\"#B0BEC5\",\"#B0BEC5\",\"#B0BEC5\",\"#B0BEC5\",\"#B0BEC5\",\"#B0BEC5\",\"#B0BEC5\",\"#B0BEC5\",\"#B0BEC5\",\"#B0BEC5\",\"#B0BEC5\",\"#B0BEC5\",\"#B0BEC5\",\"#B0BEC5\",\"#B0BEC5\",\"#B0BEC5\",\"#B0BEC5\",\"#B0BEC5\",\"#B0BEC5\",\"#B0BEC5\",\"#B0BEC5\",\"#B0BEC5\"]]}],\"label\":\"Topic 42\",\"method\":\"update\"},{\"args\":[{\"marker.color\":[[\"#B0BEC5\",\"#B0BEC5\",\"#B0BEC5\",\"#B0BEC5\",\"#B0BEC5\",\"#B0BEC5\",\"#B0BEC5\",\"#B0BEC5\",\"#B0BEC5\",\"#B0BEC5\",\"#B0BEC5\",\"#B0BEC5\",\"#B0BEC5\",\"#B0BEC5\",\"#B0BEC5\",\"#B0BEC5\",\"#B0BEC5\",\"#B0BEC5\",\"#B0BEC5\",\"#B0BEC5\",\"#B0BEC5\",\"#B0BEC5\",\"#B0BEC5\",\"#B0BEC5\",\"#B0BEC5\",\"#B0BEC5\",\"#B0BEC5\",\"#B0BEC5\",\"#B0BEC5\",\"#B0BEC5\",\"#B0BEC5\",\"#B0BEC5\",\"#B0BEC5\",\"#B0BEC5\",\"#B0BEC5\",\"#B0BEC5\",\"#B0BEC5\",\"#B0BEC5\",\"#B0BEC5\",\"#B0BEC5\",\"#B0BEC5\",\"#B0BEC5\",\"#B0BEC5\",\"red\",\"#B0BEC5\",\"#B0BEC5\",\"#B0BEC5\",\"#B0BEC5\",\"#B0BEC5\",\"#B0BEC5\",\"#B0BEC5\",\"#B0BEC5\",\"#B0BEC5\",\"#B0BEC5\",\"#B0BEC5\",\"#B0BEC5\",\"#B0BEC5\",\"#B0BEC5\",\"#B0BEC5\",\"#B0BEC5\",\"#B0BEC5\",\"#B0BEC5\",\"#B0BEC5\",\"#B0BEC5\",\"#B0BEC5\",\"#B0BEC5\",\"#B0BEC5\",\"#B0BEC5\",\"#B0BEC5\",\"#B0BEC5\",\"#B0BEC5\",\"#B0BEC5\",\"#B0BEC5\"]]}],\"label\":\"Topic 43\",\"method\":\"update\"},{\"args\":[{\"marker.color\":[[\"#B0BEC5\",\"#B0BEC5\",\"#B0BEC5\",\"#B0BEC5\",\"#B0BEC5\",\"#B0BEC5\",\"#B0BEC5\",\"#B0BEC5\",\"#B0BEC5\",\"#B0BEC5\",\"#B0BEC5\",\"#B0BEC5\",\"#B0BEC5\",\"#B0BEC5\",\"#B0BEC5\",\"#B0BEC5\",\"#B0BEC5\",\"#B0BEC5\",\"#B0BEC5\",\"#B0BEC5\",\"#B0BEC5\",\"#B0BEC5\",\"#B0BEC5\",\"#B0BEC5\",\"#B0BEC5\",\"#B0BEC5\",\"#B0BEC5\",\"#B0BEC5\",\"#B0BEC5\",\"#B0BEC5\",\"#B0BEC5\",\"#B0BEC5\",\"#B0BEC5\",\"#B0BEC5\",\"#B0BEC5\",\"#B0BEC5\",\"#B0BEC5\",\"#B0BEC5\",\"#B0BEC5\",\"#B0BEC5\",\"#B0BEC5\",\"#B0BEC5\",\"#B0BEC5\",\"#B0BEC5\",\"red\",\"#B0BEC5\",\"#B0BEC5\",\"#B0BEC5\",\"#B0BEC5\",\"#B0BEC5\",\"#B0BEC5\",\"#B0BEC5\",\"#B0BEC5\",\"#B0BEC5\",\"#B0BEC5\",\"#B0BEC5\",\"#B0BEC5\",\"#B0BEC5\",\"#B0BEC5\",\"#B0BEC5\",\"#B0BEC5\",\"#B0BEC5\",\"#B0BEC5\",\"#B0BEC5\",\"#B0BEC5\",\"#B0BEC5\",\"#B0BEC5\",\"#B0BEC5\",\"#B0BEC5\",\"#B0BEC5\",\"#B0BEC5\",\"#B0BEC5\",\"#B0BEC5\"]]}],\"label\":\"Topic 44\",\"method\":\"update\"},{\"args\":[{\"marker.color\":[[\"#B0BEC5\",\"#B0BEC5\",\"#B0BEC5\",\"#B0BEC5\",\"#B0BEC5\",\"#B0BEC5\",\"#B0BEC5\",\"#B0BEC5\",\"#B0BEC5\",\"#B0BEC5\",\"#B0BEC5\",\"#B0BEC5\",\"#B0BEC5\",\"#B0BEC5\",\"#B0BEC5\",\"#B0BEC5\",\"#B0BEC5\",\"#B0BEC5\",\"#B0BEC5\",\"#B0BEC5\",\"#B0BEC5\",\"#B0BEC5\",\"#B0BEC5\",\"#B0BEC5\",\"#B0BEC5\",\"#B0BEC5\",\"#B0BEC5\",\"#B0BEC5\",\"#B0BEC5\",\"#B0BEC5\",\"#B0BEC5\",\"#B0BEC5\",\"#B0BEC5\",\"#B0BEC5\",\"#B0BEC5\",\"#B0BEC5\",\"#B0BEC5\",\"#B0BEC5\",\"#B0BEC5\",\"#B0BEC5\",\"#B0BEC5\",\"#B0BEC5\",\"#B0BEC5\",\"#B0BEC5\",\"#B0BEC5\",\"red\",\"#B0BEC5\",\"#B0BEC5\",\"#B0BEC5\",\"#B0BEC5\",\"#B0BEC5\",\"#B0BEC5\",\"#B0BEC5\",\"#B0BEC5\",\"#B0BEC5\",\"#B0BEC5\",\"#B0BEC5\",\"#B0BEC5\",\"#B0BEC5\",\"#B0BEC5\",\"#B0BEC5\",\"#B0BEC5\",\"#B0BEC5\",\"#B0BEC5\",\"#B0BEC5\",\"#B0BEC5\",\"#B0BEC5\",\"#B0BEC5\",\"#B0BEC5\",\"#B0BEC5\",\"#B0BEC5\",\"#B0BEC5\",\"#B0BEC5\"]]}],\"label\":\"Topic 45\",\"method\":\"update\"},{\"args\":[{\"marker.color\":[[\"#B0BEC5\",\"#B0BEC5\",\"#B0BEC5\",\"#B0BEC5\",\"#B0BEC5\",\"#B0BEC5\",\"#B0BEC5\",\"#B0BEC5\",\"#B0BEC5\",\"#B0BEC5\",\"#B0BEC5\",\"#B0BEC5\",\"#B0BEC5\",\"#B0BEC5\",\"#B0BEC5\",\"#B0BEC5\",\"#B0BEC5\",\"#B0BEC5\",\"#B0BEC5\",\"#B0BEC5\",\"#B0BEC5\",\"#B0BEC5\",\"#B0BEC5\",\"#B0BEC5\",\"#B0BEC5\",\"#B0BEC5\",\"#B0BEC5\",\"#B0BEC5\",\"#B0BEC5\",\"#B0BEC5\",\"#B0BEC5\",\"#B0BEC5\",\"#B0BEC5\",\"#B0BEC5\",\"#B0BEC5\",\"#B0BEC5\",\"#B0BEC5\",\"#B0BEC5\",\"#B0BEC5\",\"#B0BEC5\",\"#B0BEC5\",\"#B0BEC5\",\"#B0BEC5\",\"#B0BEC5\",\"#B0BEC5\",\"#B0BEC5\",\"red\",\"#B0BEC5\",\"#B0BEC5\",\"#B0BEC5\",\"#B0BEC5\",\"#B0BEC5\",\"#B0BEC5\",\"#B0BEC5\",\"#B0BEC5\",\"#B0BEC5\",\"#B0BEC5\",\"#B0BEC5\",\"#B0BEC5\",\"#B0BEC5\",\"#B0BEC5\",\"#B0BEC5\",\"#B0BEC5\",\"#B0BEC5\",\"#B0BEC5\",\"#B0BEC5\",\"#B0BEC5\",\"#B0BEC5\",\"#B0BEC5\",\"#B0BEC5\",\"#B0BEC5\",\"#B0BEC5\",\"#B0BEC5\"]]}],\"label\":\"Topic 46\",\"method\":\"update\"},{\"args\":[{\"marker.color\":[[\"#B0BEC5\",\"#B0BEC5\",\"#B0BEC5\",\"#B0BEC5\",\"#B0BEC5\",\"#B0BEC5\",\"#B0BEC5\",\"#B0BEC5\",\"#B0BEC5\",\"#B0BEC5\",\"#B0BEC5\",\"#B0BEC5\",\"#B0BEC5\",\"#B0BEC5\",\"#B0BEC5\",\"#B0BEC5\",\"#B0BEC5\",\"#B0BEC5\",\"#B0BEC5\",\"#B0BEC5\",\"#B0BEC5\",\"#B0BEC5\",\"#B0BEC5\",\"#B0BEC5\",\"#B0BEC5\",\"#B0BEC5\",\"#B0BEC5\",\"#B0BEC5\",\"#B0BEC5\",\"#B0BEC5\",\"#B0BEC5\",\"#B0BEC5\",\"#B0BEC5\",\"#B0BEC5\",\"#B0BEC5\",\"#B0BEC5\",\"#B0BEC5\",\"#B0BEC5\",\"#B0BEC5\",\"#B0BEC5\",\"#B0BEC5\",\"#B0BEC5\",\"#B0BEC5\",\"#B0BEC5\",\"#B0BEC5\",\"#B0BEC5\",\"#B0BEC5\",\"red\",\"#B0BEC5\",\"#B0BEC5\",\"#B0BEC5\",\"#B0BEC5\",\"#B0BEC5\",\"#B0BEC5\",\"#B0BEC5\",\"#B0BEC5\",\"#B0BEC5\",\"#B0BEC5\",\"#B0BEC5\",\"#B0BEC5\",\"#B0BEC5\",\"#B0BEC5\",\"#B0BEC5\",\"#B0BEC5\",\"#B0BEC5\",\"#B0BEC5\",\"#B0BEC5\",\"#B0BEC5\",\"#B0BEC5\",\"#B0BEC5\",\"#B0BEC5\",\"#B0BEC5\",\"#B0BEC5\"]]}],\"label\":\"Topic 47\",\"method\":\"update\"},{\"args\":[{\"marker.color\":[[\"#B0BEC5\",\"#B0BEC5\",\"#B0BEC5\",\"#B0BEC5\",\"#B0BEC5\",\"#B0BEC5\",\"#B0BEC5\",\"#B0BEC5\",\"#B0BEC5\",\"#B0BEC5\",\"#B0BEC5\",\"#B0BEC5\",\"#B0BEC5\",\"#B0BEC5\",\"#B0BEC5\",\"#B0BEC5\",\"#B0BEC5\",\"#B0BEC5\",\"#B0BEC5\",\"#B0BEC5\",\"#B0BEC5\",\"#B0BEC5\",\"#B0BEC5\",\"#B0BEC5\",\"#B0BEC5\",\"#B0BEC5\",\"#B0BEC5\",\"#B0BEC5\",\"#B0BEC5\",\"#B0BEC5\",\"#B0BEC5\",\"#B0BEC5\",\"#B0BEC5\",\"#B0BEC5\",\"#B0BEC5\",\"#B0BEC5\",\"#B0BEC5\",\"#B0BEC5\",\"#B0BEC5\",\"#B0BEC5\",\"#B0BEC5\",\"#B0BEC5\",\"#B0BEC5\",\"#B0BEC5\",\"#B0BEC5\",\"#B0BEC5\",\"#B0BEC5\",\"#B0BEC5\",\"red\",\"#B0BEC5\",\"#B0BEC5\",\"#B0BEC5\",\"#B0BEC5\",\"#B0BEC5\",\"#B0BEC5\",\"#B0BEC5\",\"#B0BEC5\",\"#B0BEC5\",\"#B0BEC5\",\"#B0BEC5\",\"#B0BEC5\",\"#B0BEC5\",\"#B0BEC5\",\"#B0BEC5\",\"#B0BEC5\",\"#B0BEC5\",\"#B0BEC5\",\"#B0BEC5\",\"#B0BEC5\",\"#B0BEC5\",\"#B0BEC5\",\"#B0BEC5\",\"#B0BEC5\"]]}],\"label\":\"Topic 48\",\"method\":\"update\"},{\"args\":[{\"marker.color\":[[\"#B0BEC5\",\"#B0BEC5\",\"#B0BEC5\",\"#B0BEC5\",\"#B0BEC5\",\"#B0BEC5\",\"#B0BEC5\",\"#B0BEC5\",\"#B0BEC5\",\"#B0BEC5\",\"#B0BEC5\",\"#B0BEC5\",\"#B0BEC5\",\"#B0BEC5\",\"#B0BEC5\",\"#B0BEC5\",\"#B0BEC5\",\"#B0BEC5\",\"#B0BEC5\",\"#B0BEC5\",\"#B0BEC5\",\"#B0BEC5\",\"#B0BEC5\",\"#B0BEC5\",\"#B0BEC5\",\"#B0BEC5\",\"#B0BEC5\",\"#B0BEC5\",\"#B0BEC5\",\"#B0BEC5\",\"#B0BEC5\",\"#B0BEC5\",\"#B0BEC5\",\"#B0BEC5\",\"#B0BEC5\",\"#B0BEC5\",\"#B0BEC5\",\"#B0BEC5\",\"#B0BEC5\",\"#B0BEC5\",\"#B0BEC5\",\"#B0BEC5\",\"#B0BEC5\",\"#B0BEC5\",\"#B0BEC5\",\"#B0BEC5\",\"#B0BEC5\",\"#B0BEC5\",\"#B0BEC5\",\"red\",\"#B0BEC5\",\"#B0BEC5\",\"#B0BEC5\",\"#B0BEC5\",\"#B0BEC5\",\"#B0BEC5\",\"#B0BEC5\",\"#B0BEC5\",\"#B0BEC5\",\"#B0BEC5\",\"#B0BEC5\",\"#B0BEC5\",\"#B0BEC5\",\"#B0BEC5\",\"#B0BEC5\",\"#B0BEC5\",\"#B0BEC5\",\"#B0BEC5\",\"#B0BEC5\",\"#B0BEC5\",\"#B0BEC5\",\"#B0BEC5\",\"#B0BEC5\"]]}],\"label\":\"Topic 49\",\"method\":\"update\"},{\"args\":[{\"marker.color\":[[\"#B0BEC5\",\"#B0BEC5\",\"#B0BEC5\",\"#B0BEC5\",\"#B0BEC5\",\"#B0BEC5\",\"#B0BEC5\",\"#B0BEC5\",\"#B0BEC5\",\"#B0BEC5\",\"#B0BEC5\",\"#B0BEC5\",\"#B0BEC5\",\"#B0BEC5\",\"#B0BEC5\",\"#B0BEC5\",\"#B0BEC5\",\"#B0BEC5\",\"#B0BEC5\",\"#B0BEC5\",\"#B0BEC5\",\"#B0BEC5\",\"#B0BEC5\",\"#B0BEC5\",\"#B0BEC5\",\"#B0BEC5\",\"#B0BEC5\",\"#B0BEC5\",\"#B0BEC5\",\"#B0BEC5\",\"#B0BEC5\",\"#B0BEC5\",\"#B0BEC5\",\"#B0BEC5\",\"#B0BEC5\",\"#B0BEC5\",\"#B0BEC5\",\"#B0BEC5\",\"#B0BEC5\",\"#B0BEC5\",\"#B0BEC5\",\"#B0BEC5\",\"#B0BEC5\",\"#B0BEC5\",\"#B0BEC5\",\"#B0BEC5\",\"#B0BEC5\",\"#B0BEC5\",\"#B0BEC5\",\"#B0BEC5\",\"red\",\"#B0BEC5\",\"#B0BEC5\",\"#B0BEC5\",\"#B0BEC5\",\"#B0BEC5\",\"#B0BEC5\",\"#B0BEC5\",\"#B0BEC5\",\"#B0BEC5\",\"#B0BEC5\",\"#B0BEC5\",\"#B0BEC5\",\"#B0BEC5\",\"#B0BEC5\",\"#B0BEC5\",\"#B0BEC5\",\"#B0BEC5\",\"#B0BEC5\",\"#B0BEC5\",\"#B0BEC5\",\"#B0BEC5\",\"#B0BEC5\"]]}],\"label\":\"Topic 50\",\"method\":\"update\"},{\"args\":[{\"marker.color\":[[\"#B0BEC5\",\"#B0BEC5\",\"#B0BEC5\",\"#B0BEC5\",\"#B0BEC5\",\"#B0BEC5\",\"#B0BEC5\",\"#B0BEC5\",\"#B0BEC5\",\"#B0BEC5\",\"#B0BEC5\",\"#B0BEC5\",\"#B0BEC5\",\"#B0BEC5\",\"#B0BEC5\",\"#B0BEC5\",\"#B0BEC5\",\"#B0BEC5\",\"#B0BEC5\",\"#B0BEC5\",\"#B0BEC5\",\"#B0BEC5\",\"#B0BEC5\",\"#B0BEC5\",\"#B0BEC5\",\"#B0BEC5\",\"#B0BEC5\",\"#B0BEC5\",\"#B0BEC5\",\"#B0BEC5\",\"#B0BEC5\",\"#B0BEC5\",\"#B0BEC5\",\"#B0BEC5\",\"#B0BEC5\",\"#B0BEC5\",\"#B0BEC5\",\"#B0BEC5\",\"#B0BEC5\",\"#B0BEC5\",\"#B0BEC5\",\"#B0BEC5\",\"#B0BEC5\",\"#B0BEC5\",\"#B0BEC5\",\"#B0BEC5\",\"#B0BEC5\",\"#B0BEC5\",\"#B0BEC5\",\"#B0BEC5\",\"#B0BEC5\",\"red\",\"#B0BEC5\",\"#B0BEC5\",\"#B0BEC5\",\"#B0BEC5\",\"#B0BEC5\",\"#B0BEC5\",\"#B0BEC5\",\"#B0BEC5\",\"#B0BEC5\",\"#B0BEC5\",\"#B0BEC5\",\"#B0BEC5\",\"#B0BEC5\",\"#B0BEC5\",\"#B0BEC5\",\"#B0BEC5\",\"#B0BEC5\",\"#B0BEC5\",\"#B0BEC5\",\"#B0BEC5\",\"#B0BEC5\"]]}],\"label\":\"Topic 51\",\"method\":\"update\"},{\"args\":[{\"marker.color\":[[\"#B0BEC5\",\"#B0BEC5\",\"#B0BEC5\",\"#B0BEC5\",\"#B0BEC5\",\"#B0BEC5\",\"#B0BEC5\",\"#B0BEC5\",\"#B0BEC5\",\"#B0BEC5\",\"#B0BEC5\",\"#B0BEC5\",\"#B0BEC5\",\"#B0BEC5\",\"#B0BEC5\",\"#B0BEC5\",\"#B0BEC5\",\"#B0BEC5\",\"#B0BEC5\",\"#B0BEC5\",\"#B0BEC5\",\"#B0BEC5\",\"#B0BEC5\",\"#B0BEC5\",\"#B0BEC5\",\"#B0BEC5\",\"#B0BEC5\",\"#B0BEC5\",\"#B0BEC5\",\"#B0BEC5\",\"#B0BEC5\",\"#B0BEC5\",\"#B0BEC5\",\"#B0BEC5\",\"#B0BEC5\",\"#B0BEC5\",\"#B0BEC5\",\"#B0BEC5\",\"#B0BEC5\",\"#B0BEC5\",\"#B0BEC5\",\"#B0BEC5\",\"#B0BEC5\",\"#B0BEC5\",\"#B0BEC5\",\"#B0BEC5\",\"#B0BEC5\",\"#B0BEC5\",\"#B0BEC5\",\"#B0BEC5\",\"#B0BEC5\",\"#B0BEC5\",\"red\",\"#B0BEC5\",\"#B0BEC5\",\"#B0BEC5\",\"#B0BEC5\",\"#B0BEC5\",\"#B0BEC5\",\"#B0BEC5\",\"#B0BEC5\",\"#B0BEC5\",\"#B0BEC5\",\"#B0BEC5\",\"#B0BEC5\",\"#B0BEC5\",\"#B0BEC5\",\"#B0BEC5\",\"#B0BEC5\",\"#B0BEC5\",\"#B0BEC5\",\"#B0BEC5\",\"#B0BEC5\"]]}],\"label\":\"Topic 52\",\"method\":\"update\"},{\"args\":[{\"marker.color\":[[\"#B0BEC5\",\"#B0BEC5\",\"#B0BEC5\",\"#B0BEC5\",\"#B0BEC5\",\"#B0BEC5\",\"#B0BEC5\",\"#B0BEC5\",\"#B0BEC5\",\"#B0BEC5\",\"#B0BEC5\",\"#B0BEC5\",\"#B0BEC5\",\"#B0BEC5\",\"#B0BEC5\",\"#B0BEC5\",\"#B0BEC5\",\"#B0BEC5\",\"#B0BEC5\",\"#B0BEC5\",\"#B0BEC5\",\"#B0BEC5\",\"#B0BEC5\",\"#B0BEC5\",\"#B0BEC5\",\"#B0BEC5\",\"#B0BEC5\",\"#B0BEC5\",\"#B0BEC5\",\"#B0BEC5\",\"#B0BEC5\",\"#B0BEC5\",\"#B0BEC5\",\"#B0BEC5\",\"#B0BEC5\",\"#B0BEC5\",\"#B0BEC5\",\"#B0BEC5\",\"#B0BEC5\",\"#B0BEC5\",\"#B0BEC5\",\"#B0BEC5\",\"#B0BEC5\",\"#B0BEC5\",\"#B0BEC5\",\"#B0BEC5\",\"#B0BEC5\",\"#B0BEC5\",\"#B0BEC5\",\"#B0BEC5\",\"#B0BEC5\",\"#B0BEC5\",\"#B0BEC5\",\"red\",\"#B0BEC5\",\"#B0BEC5\",\"#B0BEC5\",\"#B0BEC5\",\"#B0BEC5\",\"#B0BEC5\",\"#B0BEC5\",\"#B0BEC5\",\"#B0BEC5\",\"#B0BEC5\",\"#B0BEC5\",\"#B0BEC5\",\"#B0BEC5\",\"#B0BEC5\",\"#B0BEC5\",\"#B0BEC5\",\"#B0BEC5\",\"#B0BEC5\",\"#B0BEC5\"]]}],\"label\":\"Topic 53\",\"method\":\"update\"},{\"args\":[{\"marker.color\":[[\"#B0BEC5\",\"#B0BEC5\",\"#B0BEC5\",\"#B0BEC5\",\"#B0BEC5\",\"#B0BEC5\",\"#B0BEC5\",\"#B0BEC5\",\"#B0BEC5\",\"#B0BEC5\",\"#B0BEC5\",\"#B0BEC5\",\"#B0BEC5\",\"#B0BEC5\",\"#B0BEC5\",\"#B0BEC5\",\"#B0BEC5\",\"#B0BEC5\",\"#B0BEC5\",\"#B0BEC5\",\"#B0BEC5\",\"#B0BEC5\",\"#B0BEC5\",\"#B0BEC5\",\"#B0BEC5\",\"#B0BEC5\",\"#B0BEC5\",\"#B0BEC5\",\"#B0BEC5\",\"#B0BEC5\",\"#B0BEC5\",\"#B0BEC5\",\"#B0BEC5\",\"#B0BEC5\",\"#B0BEC5\",\"#B0BEC5\",\"#B0BEC5\",\"#B0BEC5\",\"#B0BEC5\",\"#B0BEC5\",\"#B0BEC5\",\"#B0BEC5\",\"#B0BEC5\",\"#B0BEC5\",\"#B0BEC5\",\"#B0BEC5\",\"#B0BEC5\",\"#B0BEC5\",\"#B0BEC5\",\"#B0BEC5\",\"#B0BEC5\",\"#B0BEC5\",\"#B0BEC5\",\"#B0BEC5\",\"red\",\"#B0BEC5\",\"#B0BEC5\",\"#B0BEC5\",\"#B0BEC5\",\"#B0BEC5\",\"#B0BEC5\",\"#B0BEC5\",\"#B0BEC5\",\"#B0BEC5\",\"#B0BEC5\",\"#B0BEC5\",\"#B0BEC5\",\"#B0BEC5\",\"#B0BEC5\",\"#B0BEC5\",\"#B0BEC5\",\"#B0BEC5\",\"#B0BEC5\"]]}],\"label\":\"Topic 54\",\"method\":\"update\"},{\"args\":[{\"marker.color\":[[\"#B0BEC5\",\"#B0BEC5\",\"#B0BEC5\",\"#B0BEC5\",\"#B0BEC5\",\"#B0BEC5\",\"#B0BEC5\",\"#B0BEC5\",\"#B0BEC5\",\"#B0BEC5\",\"#B0BEC5\",\"#B0BEC5\",\"#B0BEC5\",\"#B0BEC5\",\"#B0BEC5\",\"#B0BEC5\",\"#B0BEC5\",\"#B0BEC5\",\"#B0BEC5\",\"#B0BEC5\",\"#B0BEC5\",\"#B0BEC5\",\"#B0BEC5\",\"#B0BEC5\",\"#B0BEC5\",\"#B0BEC5\",\"#B0BEC5\",\"#B0BEC5\",\"#B0BEC5\",\"#B0BEC5\",\"#B0BEC5\",\"#B0BEC5\",\"#B0BEC5\",\"#B0BEC5\",\"#B0BEC5\",\"#B0BEC5\",\"#B0BEC5\",\"#B0BEC5\",\"#B0BEC5\",\"#B0BEC5\",\"#B0BEC5\",\"#B0BEC5\",\"#B0BEC5\",\"#B0BEC5\",\"#B0BEC5\",\"#B0BEC5\",\"#B0BEC5\",\"#B0BEC5\",\"#B0BEC5\",\"#B0BEC5\",\"#B0BEC5\",\"#B0BEC5\",\"#B0BEC5\",\"#B0BEC5\",\"#B0BEC5\",\"red\",\"#B0BEC5\",\"#B0BEC5\",\"#B0BEC5\",\"#B0BEC5\",\"#B0BEC5\",\"#B0BEC5\",\"#B0BEC5\",\"#B0BEC5\",\"#B0BEC5\",\"#B0BEC5\",\"#B0BEC5\",\"#B0BEC5\",\"#B0BEC5\",\"#B0BEC5\",\"#B0BEC5\",\"#B0BEC5\",\"#B0BEC5\"]]}],\"label\":\"Topic 55\",\"method\":\"update\"},{\"args\":[{\"marker.color\":[[\"#B0BEC5\",\"#B0BEC5\",\"#B0BEC5\",\"#B0BEC5\",\"#B0BEC5\",\"#B0BEC5\",\"#B0BEC5\",\"#B0BEC5\",\"#B0BEC5\",\"#B0BEC5\",\"#B0BEC5\",\"#B0BEC5\",\"#B0BEC5\",\"#B0BEC5\",\"#B0BEC5\",\"#B0BEC5\",\"#B0BEC5\",\"#B0BEC5\",\"#B0BEC5\",\"#B0BEC5\",\"#B0BEC5\",\"#B0BEC5\",\"#B0BEC5\",\"#B0BEC5\",\"#B0BEC5\",\"#B0BEC5\",\"#B0BEC5\",\"#B0BEC5\",\"#B0BEC5\",\"#B0BEC5\",\"#B0BEC5\",\"#B0BEC5\",\"#B0BEC5\",\"#B0BEC5\",\"#B0BEC5\",\"#B0BEC5\",\"#B0BEC5\",\"#B0BEC5\",\"#B0BEC5\",\"#B0BEC5\",\"#B0BEC5\",\"#B0BEC5\",\"#B0BEC5\",\"#B0BEC5\",\"#B0BEC5\",\"#B0BEC5\",\"#B0BEC5\",\"#B0BEC5\",\"#B0BEC5\",\"#B0BEC5\",\"#B0BEC5\",\"#B0BEC5\",\"#B0BEC5\",\"#B0BEC5\",\"#B0BEC5\",\"#B0BEC5\",\"red\",\"#B0BEC5\",\"#B0BEC5\",\"#B0BEC5\",\"#B0BEC5\",\"#B0BEC5\",\"#B0BEC5\",\"#B0BEC5\",\"#B0BEC5\",\"#B0BEC5\",\"#B0BEC5\",\"#B0BEC5\",\"#B0BEC5\",\"#B0BEC5\",\"#B0BEC5\",\"#B0BEC5\",\"#B0BEC5\"]]}],\"label\":\"Topic 56\",\"method\":\"update\"},{\"args\":[{\"marker.color\":[[\"#B0BEC5\",\"#B0BEC5\",\"#B0BEC5\",\"#B0BEC5\",\"#B0BEC5\",\"#B0BEC5\",\"#B0BEC5\",\"#B0BEC5\",\"#B0BEC5\",\"#B0BEC5\",\"#B0BEC5\",\"#B0BEC5\",\"#B0BEC5\",\"#B0BEC5\",\"#B0BEC5\",\"#B0BEC5\",\"#B0BEC5\",\"#B0BEC5\",\"#B0BEC5\",\"#B0BEC5\",\"#B0BEC5\",\"#B0BEC5\",\"#B0BEC5\",\"#B0BEC5\",\"#B0BEC5\",\"#B0BEC5\",\"#B0BEC5\",\"#B0BEC5\",\"#B0BEC5\",\"#B0BEC5\",\"#B0BEC5\",\"#B0BEC5\",\"#B0BEC5\",\"#B0BEC5\",\"#B0BEC5\",\"#B0BEC5\",\"#B0BEC5\",\"#B0BEC5\",\"#B0BEC5\",\"#B0BEC5\",\"#B0BEC5\",\"#B0BEC5\",\"#B0BEC5\",\"#B0BEC5\",\"#B0BEC5\",\"#B0BEC5\",\"#B0BEC5\",\"#B0BEC5\",\"#B0BEC5\",\"#B0BEC5\",\"#B0BEC5\",\"#B0BEC5\",\"#B0BEC5\",\"#B0BEC5\",\"#B0BEC5\",\"#B0BEC5\",\"#B0BEC5\",\"red\",\"#B0BEC5\",\"#B0BEC5\",\"#B0BEC5\",\"#B0BEC5\",\"#B0BEC5\",\"#B0BEC5\",\"#B0BEC5\",\"#B0BEC5\",\"#B0BEC5\",\"#B0BEC5\",\"#B0BEC5\",\"#B0BEC5\",\"#B0BEC5\",\"#B0BEC5\",\"#B0BEC5\"]]}],\"label\":\"Topic 57\",\"method\":\"update\"},{\"args\":[{\"marker.color\":[[\"#B0BEC5\",\"#B0BEC5\",\"#B0BEC5\",\"#B0BEC5\",\"#B0BEC5\",\"#B0BEC5\",\"#B0BEC5\",\"#B0BEC5\",\"#B0BEC5\",\"#B0BEC5\",\"#B0BEC5\",\"#B0BEC5\",\"#B0BEC5\",\"#B0BEC5\",\"#B0BEC5\",\"#B0BEC5\",\"#B0BEC5\",\"#B0BEC5\",\"#B0BEC5\",\"#B0BEC5\",\"#B0BEC5\",\"#B0BEC5\",\"#B0BEC5\",\"#B0BEC5\",\"#B0BEC5\",\"#B0BEC5\",\"#B0BEC5\",\"#B0BEC5\",\"#B0BEC5\",\"#B0BEC5\",\"#B0BEC5\",\"#B0BEC5\",\"#B0BEC5\",\"#B0BEC5\",\"#B0BEC5\",\"#B0BEC5\",\"#B0BEC5\",\"#B0BEC5\",\"#B0BEC5\",\"#B0BEC5\",\"#B0BEC5\",\"#B0BEC5\",\"#B0BEC5\",\"#B0BEC5\",\"#B0BEC5\",\"#B0BEC5\",\"#B0BEC5\",\"#B0BEC5\",\"#B0BEC5\",\"#B0BEC5\",\"#B0BEC5\",\"#B0BEC5\",\"#B0BEC5\",\"#B0BEC5\",\"#B0BEC5\",\"#B0BEC5\",\"#B0BEC5\",\"#B0BEC5\",\"red\",\"#B0BEC5\",\"#B0BEC5\",\"#B0BEC5\",\"#B0BEC5\",\"#B0BEC5\",\"#B0BEC5\",\"#B0BEC5\",\"#B0BEC5\",\"#B0BEC5\",\"#B0BEC5\",\"#B0BEC5\",\"#B0BEC5\",\"#B0BEC5\",\"#B0BEC5\"]]}],\"label\":\"Topic 58\",\"method\":\"update\"},{\"args\":[{\"marker.color\":[[\"#B0BEC5\",\"#B0BEC5\",\"#B0BEC5\",\"#B0BEC5\",\"#B0BEC5\",\"#B0BEC5\",\"#B0BEC5\",\"#B0BEC5\",\"#B0BEC5\",\"#B0BEC5\",\"#B0BEC5\",\"#B0BEC5\",\"#B0BEC5\",\"#B0BEC5\",\"#B0BEC5\",\"#B0BEC5\",\"#B0BEC5\",\"#B0BEC5\",\"#B0BEC5\",\"#B0BEC5\",\"#B0BEC5\",\"#B0BEC5\",\"#B0BEC5\",\"#B0BEC5\",\"#B0BEC5\",\"#B0BEC5\",\"#B0BEC5\",\"#B0BEC5\",\"#B0BEC5\",\"#B0BEC5\",\"#B0BEC5\",\"#B0BEC5\",\"#B0BEC5\",\"#B0BEC5\",\"#B0BEC5\",\"#B0BEC5\",\"#B0BEC5\",\"#B0BEC5\",\"#B0BEC5\",\"#B0BEC5\",\"#B0BEC5\",\"#B0BEC5\",\"#B0BEC5\",\"#B0BEC5\",\"#B0BEC5\",\"#B0BEC5\",\"#B0BEC5\",\"#B0BEC5\",\"#B0BEC5\",\"#B0BEC5\",\"#B0BEC5\",\"#B0BEC5\",\"#B0BEC5\",\"#B0BEC5\",\"#B0BEC5\",\"#B0BEC5\",\"#B0BEC5\",\"#B0BEC5\",\"#B0BEC5\",\"red\",\"#B0BEC5\",\"#B0BEC5\",\"#B0BEC5\",\"#B0BEC5\",\"#B0BEC5\",\"#B0BEC5\",\"#B0BEC5\",\"#B0BEC5\",\"#B0BEC5\",\"#B0BEC5\",\"#B0BEC5\",\"#B0BEC5\",\"#B0BEC5\"]]}],\"label\":\"Topic 59\",\"method\":\"update\"},{\"args\":[{\"marker.color\":[[\"#B0BEC5\",\"#B0BEC5\",\"#B0BEC5\",\"#B0BEC5\",\"#B0BEC5\",\"#B0BEC5\",\"#B0BEC5\",\"#B0BEC5\",\"#B0BEC5\",\"#B0BEC5\",\"#B0BEC5\",\"#B0BEC5\",\"#B0BEC5\",\"#B0BEC5\",\"#B0BEC5\",\"#B0BEC5\",\"#B0BEC5\",\"#B0BEC5\",\"#B0BEC5\",\"#B0BEC5\",\"#B0BEC5\",\"#B0BEC5\",\"#B0BEC5\",\"#B0BEC5\",\"#B0BEC5\",\"#B0BEC5\",\"#B0BEC5\",\"#B0BEC5\",\"#B0BEC5\",\"#B0BEC5\",\"#B0BEC5\",\"#B0BEC5\",\"#B0BEC5\",\"#B0BEC5\",\"#B0BEC5\",\"#B0BEC5\",\"#B0BEC5\",\"#B0BEC5\",\"#B0BEC5\",\"#B0BEC5\",\"#B0BEC5\",\"#B0BEC5\",\"#B0BEC5\",\"#B0BEC5\",\"#B0BEC5\",\"#B0BEC5\",\"#B0BEC5\",\"#B0BEC5\",\"#B0BEC5\",\"#B0BEC5\",\"#B0BEC5\",\"#B0BEC5\",\"#B0BEC5\",\"#B0BEC5\",\"#B0BEC5\",\"#B0BEC5\",\"#B0BEC5\",\"#B0BEC5\",\"#B0BEC5\",\"#B0BEC5\",\"red\",\"#B0BEC5\",\"#B0BEC5\",\"#B0BEC5\",\"#B0BEC5\",\"#B0BEC5\",\"#B0BEC5\",\"#B0BEC5\",\"#B0BEC5\",\"#B0BEC5\",\"#B0BEC5\",\"#B0BEC5\",\"#B0BEC5\"]]}],\"label\":\"Topic 60\",\"method\":\"update\"},{\"args\":[{\"marker.color\":[[\"#B0BEC5\",\"#B0BEC5\",\"#B0BEC5\",\"#B0BEC5\",\"#B0BEC5\",\"#B0BEC5\",\"#B0BEC5\",\"#B0BEC5\",\"#B0BEC5\",\"#B0BEC5\",\"#B0BEC5\",\"#B0BEC5\",\"#B0BEC5\",\"#B0BEC5\",\"#B0BEC5\",\"#B0BEC5\",\"#B0BEC5\",\"#B0BEC5\",\"#B0BEC5\",\"#B0BEC5\",\"#B0BEC5\",\"#B0BEC5\",\"#B0BEC5\",\"#B0BEC5\",\"#B0BEC5\",\"#B0BEC5\",\"#B0BEC5\",\"#B0BEC5\",\"#B0BEC5\",\"#B0BEC5\",\"#B0BEC5\",\"#B0BEC5\",\"#B0BEC5\",\"#B0BEC5\",\"#B0BEC5\",\"#B0BEC5\",\"#B0BEC5\",\"#B0BEC5\",\"#B0BEC5\",\"#B0BEC5\",\"#B0BEC5\",\"#B0BEC5\",\"#B0BEC5\",\"#B0BEC5\",\"#B0BEC5\",\"#B0BEC5\",\"#B0BEC5\",\"#B0BEC5\",\"#B0BEC5\",\"#B0BEC5\",\"#B0BEC5\",\"#B0BEC5\",\"#B0BEC5\",\"#B0BEC5\",\"#B0BEC5\",\"#B0BEC5\",\"#B0BEC5\",\"#B0BEC5\",\"#B0BEC5\",\"#B0BEC5\",\"#B0BEC5\",\"red\",\"#B0BEC5\",\"#B0BEC5\",\"#B0BEC5\",\"#B0BEC5\",\"#B0BEC5\",\"#B0BEC5\",\"#B0BEC5\",\"#B0BEC5\",\"#B0BEC5\",\"#B0BEC5\",\"#B0BEC5\"]]}],\"label\":\"Topic 61\",\"method\":\"update\"},{\"args\":[{\"marker.color\":[[\"#B0BEC5\",\"#B0BEC5\",\"#B0BEC5\",\"#B0BEC5\",\"#B0BEC5\",\"#B0BEC5\",\"#B0BEC5\",\"#B0BEC5\",\"#B0BEC5\",\"#B0BEC5\",\"#B0BEC5\",\"#B0BEC5\",\"#B0BEC5\",\"#B0BEC5\",\"#B0BEC5\",\"#B0BEC5\",\"#B0BEC5\",\"#B0BEC5\",\"#B0BEC5\",\"#B0BEC5\",\"#B0BEC5\",\"#B0BEC5\",\"#B0BEC5\",\"#B0BEC5\",\"#B0BEC5\",\"#B0BEC5\",\"#B0BEC5\",\"#B0BEC5\",\"#B0BEC5\",\"#B0BEC5\",\"#B0BEC5\",\"#B0BEC5\",\"#B0BEC5\",\"#B0BEC5\",\"#B0BEC5\",\"#B0BEC5\",\"#B0BEC5\",\"#B0BEC5\",\"#B0BEC5\",\"#B0BEC5\",\"#B0BEC5\",\"#B0BEC5\",\"#B0BEC5\",\"#B0BEC5\",\"#B0BEC5\",\"#B0BEC5\",\"#B0BEC5\",\"#B0BEC5\",\"#B0BEC5\",\"#B0BEC5\",\"#B0BEC5\",\"#B0BEC5\",\"#B0BEC5\",\"#B0BEC5\",\"#B0BEC5\",\"#B0BEC5\",\"#B0BEC5\",\"#B0BEC5\",\"#B0BEC5\",\"#B0BEC5\",\"#B0BEC5\",\"#B0BEC5\",\"red\",\"#B0BEC5\",\"#B0BEC5\",\"#B0BEC5\",\"#B0BEC5\",\"#B0BEC5\",\"#B0BEC5\",\"#B0BEC5\",\"#B0BEC5\",\"#B0BEC5\",\"#B0BEC5\"]]}],\"label\":\"Topic 62\",\"method\":\"update\"},{\"args\":[{\"marker.color\":[[\"#B0BEC5\",\"#B0BEC5\",\"#B0BEC5\",\"#B0BEC5\",\"#B0BEC5\",\"#B0BEC5\",\"#B0BEC5\",\"#B0BEC5\",\"#B0BEC5\",\"#B0BEC5\",\"#B0BEC5\",\"#B0BEC5\",\"#B0BEC5\",\"#B0BEC5\",\"#B0BEC5\",\"#B0BEC5\",\"#B0BEC5\",\"#B0BEC5\",\"#B0BEC5\",\"#B0BEC5\",\"#B0BEC5\",\"#B0BEC5\",\"#B0BEC5\",\"#B0BEC5\",\"#B0BEC5\",\"#B0BEC5\",\"#B0BEC5\",\"#B0BEC5\",\"#B0BEC5\",\"#B0BEC5\",\"#B0BEC5\",\"#B0BEC5\",\"#B0BEC5\",\"#B0BEC5\",\"#B0BEC5\",\"#B0BEC5\",\"#B0BEC5\",\"#B0BEC5\",\"#B0BEC5\",\"#B0BEC5\",\"#B0BEC5\",\"#B0BEC5\",\"#B0BEC5\",\"#B0BEC5\",\"#B0BEC5\",\"#B0BEC5\",\"#B0BEC5\",\"#B0BEC5\",\"#B0BEC5\",\"#B0BEC5\",\"#B0BEC5\",\"#B0BEC5\",\"#B0BEC5\",\"#B0BEC5\",\"#B0BEC5\",\"#B0BEC5\",\"#B0BEC5\",\"#B0BEC5\",\"#B0BEC5\",\"#B0BEC5\",\"#B0BEC5\",\"#B0BEC5\",\"#B0BEC5\",\"red\",\"#B0BEC5\",\"#B0BEC5\",\"#B0BEC5\",\"#B0BEC5\",\"#B0BEC5\",\"#B0BEC5\",\"#B0BEC5\",\"#B0BEC5\",\"#B0BEC5\"]]}],\"label\":\"Topic 63\",\"method\":\"update\"},{\"args\":[{\"marker.color\":[[\"#B0BEC5\",\"#B0BEC5\",\"#B0BEC5\",\"#B0BEC5\",\"#B0BEC5\",\"#B0BEC5\",\"#B0BEC5\",\"#B0BEC5\",\"#B0BEC5\",\"#B0BEC5\",\"#B0BEC5\",\"#B0BEC5\",\"#B0BEC5\",\"#B0BEC5\",\"#B0BEC5\",\"#B0BEC5\",\"#B0BEC5\",\"#B0BEC5\",\"#B0BEC5\",\"#B0BEC5\",\"#B0BEC5\",\"#B0BEC5\",\"#B0BEC5\",\"#B0BEC5\",\"#B0BEC5\",\"#B0BEC5\",\"#B0BEC5\",\"#B0BEC5\",\"#B0BEC5\",\"#B0BEC5\",\"#B0BEC5\",\"#B0BEC5\",\"#B0BEC5\",\"#B0BEC5\",\"#B0BEC5\",\"#B0BEC5\",\"#B0BEC5\",\"#B0BEC5\",\"#B0BEC5\",\"#B0BEC5\",\"#B0BEC5\",\"#B0BEC5\",\"#B0BEC5\",\"#B0BEC5\",\"#B0BEC5\",\"#B0BEC5\",\"#B0BEC5\",\"#B0BEC5\",\"#B0BEC5\",\"#B0BEC5\",\"#B0BEC5\",\"#B0BEC5\",\"#B0BEC5\",\"#B0BEC5\",\"#B0BEC5\",\"#B0BEC5\",\"#B0BEC5\",\"#B0BEC5\",\"#B0BEC5\",\"#B0BEC5\",\"#B0BEC5\",\"#B0BEC5\",\"#B0BEC5\",\"#B0BEC5\",\"red\",\"#B0BEC5\",\"#B0BEC5\",\"#B0BEC5\",\"#B0BEC5\",\"#B0BEC5\",\"#B0BEC5\",\"#B0BEC5\",\"#B0BEC5\"]]}],\"label\":\"Topic 64\",\"method\":\"update\"},{\"args\":[{\"marker.color\":[[\"#B0BEC5\",\"#B0BEC5\",\"#B0BEC5\",\"#B0BEC5\",\"#B0BEC5\",\"#B0BEC5\",\"#B0BEC5\",\"#B0BEC5\",\"#B0BEC5\",\"#B0BEC5\",\"#B0BEC5\",\"#B0BEC5\",\"#B0BEC5\",\"#B0BEC5\",\"#B0BEC5\",\"#B0BEC5\",\"#B0BEC5\",\"#B0BEC5\",\"#B0BEC5\",\"#B0BEC5\",\"#B0BEC5\",\"#B0BEC5\",\"#B0BEC5\",\"#B0BEC5\",\"#B0BEC5\",\"#B0BEC5\",\"#B0BEC5\",\"#B0BEC5\",\"#B0BEC5\",\"#B0BEC5\",\"#B0BEC5\",\"#B0BEC5\",\"#B0BEC5\",\"#B0BEC5\",\"#B0BEC5\",\"#B0BEC5\",\"#B0BEC5\",\"#B0BEC5\",\"#B0BEC5\",\"#B0BEC5\",\"#B0BEC5\",\"#B0BEC5\",\"#B0BEC5\",\"#B0BEC5\",\"#B0BEC5\",\"#B0BEC5\",\"#B0BEC5\",\"#B0BEC5\",\"#B0BEC5\",\"#B0BEC5\",\"#B0BEC5\",\"#B0BEC5\",\"#B0BEC5\",\"#B0BEC5\",\"#B0BEC5\",\"#B0BEC5\",\"#B0BEC5\",\"#B0BEC5\",\"#B0BEC5\",\"#B0BEC5\",\"#B0BEC5\",\"#B0BEC5\",\"#B0BEC5\",\"#B0BEC5\",\"#B0BEC5\",\"red\",\"#B0BEC5\",\"#B0BEC5\",\"#B0BEC5\",\"#B0BEC5\",\"#B0BEC5\",\"#B0BEC5\",\"#B0BEC5\"]]}],\"label\":\"Topic 65\",\"method\":\"update\"},{\"args\":[{\"marker.color\":[[\"#B0BEC5\",\"#B0BEC5\",\"#B0BEC5\",\"#B0BEC5\",\"#B0BEC5\",\"#B0BEC5\",\"#B0BEC5\",\"#B0BEC5\",\"#B0BEC5\",\"#B0BEC5\",\"#B0BEC5\",\"#B0BEC5\",\"#B0BEC5\",\"#B0BEC5\",\"#B0BEC5\",\"#B0BEC5\",\"#B0BEC5\",\"#B0BEC5\",\"#B0BEC5\",\"#B0BEC5\",\"#B0BEC5\",\"#B0BEC5\",\"#B0BEC5\",\"#B0BEC5\",\"#B0BEC5\",\"#B0BEC5\",\"#B0BEC5\",\"#B0BEC5\",\"#B0BEC5\",\"#B0BEC5\",\"#B0BEC5\",\"#B0BEC5\",\"#B0BEC5\",\"#B0BEC5\",\"#B0BEC5\",\"#B0BEC5\",\"#B0BEC5\",\"#B0BEC5\",\"#B0BEC5\",\"#B0BEC5\",\"#B0BEC5\",\"#B0BEC5\",\"#B0BEC5\",\"#B0BEC5\",\"#B0BEC5\",\"#B0BEC5\",\"#B0BEC5\",\"#B0BEC5\",\"#B0BEC5\",\"#B0BEC5\",\"#B0BEC5\",\"#B0BEC5\",\"#B0BEC5\",\"#B0BEC5\",\"#B0BEC5\",\"#B0BEC5\",\"#B0BEC5\",\"#B0BEC5\",\"#B0BEC5\",\"#B0BEC5\",\"#B0BEC5\",\"#B0BEC5\",\"#B0BEC5\",\"#B0BEC5\",\"#B0BEC5\",\"#B0BEC5\",\"red\",\"#B0BEC5\",\"#B0BEC5\",\"#B0BEC5\",\"#B0BEC5\",\"#B0BEC5\",\"#B0BEC5\"]]}],\"label\":\"Topic 66\",\"method\":\"update\"},{\"args\":[{\"marker.color\":[[\"#B0BEC5\",\"#B0BEC5\",\"#B0BEC5\",\"#B0BEC5\",\"#B0BEC5\",\"#B0BEC5\",\"#B0BEC5\",\"#B0BEC5\",\"#B0BEC5\",\"#B0BEC5\",\"#B0BEC5\",\"#B0BEC5\",\"#B0BEC5\",\"#B0BEC5\",\"#B0BEC5\",\"#B0BEC5\",\"#B0BEC5\",\"#B0BEC5\",\"#B0BEC5\",\"#B0BEC5\",\"#B0BEC5\",\"#B0BEC5\",\"#B0BEC5\",\"#B0BEC5\",\"#B0BEC5\",\"#B0BEC5\",\"#B0BEC5\",\"#B0BEC5\",\"#B0BEC5\",\"#B0BEC5\",\"#B0BEC5\",\"#B0BEC5\",\"#B0BEC5\",\"#B0BEC5\",\"#B0BEC5\",\"#B0BEC5\",\"#B0BEC5\",\"#B0BEC5\",\"#B0BEC5\",\"#B0BEC5\",\"#B0BEC5\",\"#B0BEC5\",\"#B0BEC5\",\"#B0BEC5\",\"#B0BEC5\",\"#B0BEC5\",\"#B0BEC5\",\"#B0BEC5\",\"#B0BEC5\",\"#B0BEC5\",\"#B0BEC5\",\"#B0BEC5\",\"#B0BEC5\",\"#B0BEC5\",\"#B0BEC5\",\"#B0BEC5\",\"#B0BEC5\",\"#B0BEC5\",\"#B0BEC5\",\"#B0BEC5\",\"#B0BEC5\",\"#B0BEC5\",\"#B0BEC5\",\"#B0BEC5\",\"#B0BEC5\",\"#B0BEC5\",\"#B0BEC5\",\"red\",\"#B0BEC5\",\"#B0BEC5\",\"#B0BEC5\",\"#B0BEC5\",\"#B0BEC5\"]]}],\"label\":\"Topic 67\",\"method\":\"update\"},{\"args\":[{\"marker.color\":[[\"#B0BEC5\",\"#B0BEC5\",\"#B0BEC5\",\"#B0BEC5\",\"#B0BEC5\",\"#B0BEC5\",\"#B0BEC5\",\"#B0BEC5\",\"#B0BEC5\",\"#B0BEC5\",\"#B0BEC5\",\"#B0BEC5\",\"#B0BEC5\",\"#B0BEC5\",\"#B0BEC5\",\"#B0BEC5\",\"#B0BEC5\",\"#B0BEC5\",\"#B0BEC5\",\"#B0BEC5\",\"#B0BEC5\",\"#B0BEC5\",\"#B0BEC5\",\"#B0BEC5\",\"#B0BEC5\",\"#B0BEC5\",\"#B0BEC5\",\"#B0BEC5\",\"#B0BEC5\",\"#B0BEC5\",\"#B0BEC5\",\"#B0BEC5\",\"#B0BEC5\",\"#B0BEC5\",\"#B0BEC5\",\"#B0BEC5\",\"#B0BEC5\",\"#B0BEC5\",\"#B0BEC5\",\"#B0BEC5\",\"#B0BEC5\",\"#B0BEC5\",\"#B0BEC5\",\"#B0BEC5\",\"#B0BEC5\",\"#B0BEC5\",\"#B0BEC5\",\"#B0BEC5\",\"#B0BEC5\",\"#B0BEC5\",\"#B0BEC5\",\"#B0BEC5\",\"#B0BEC5\",\"#B0BEC5\",\"#B0BEC5\",\"#B0BEC5\",\"#B0BEC5\",\"#B0BEC5\",\"#B0BEC5\",\"#B0BEC5\",\"#B0BEC5\",\"#B0BEC5\",\"#B0BEC5\",\"#B0BEC5\",\"#B0BEC5\",\"#B0BEC5\",\"#B0BEC5\",\"#B0BEC5\",\"red\",\"#B0BEC5\",\"#B0BEC5\",\"#B0BEC5\",\"#B0BEC5\"]]}],\"label\":\"Topic 68\",\"method\":\"update\"},{\"args\":[{\"marker.color\":[[\"#B0BEC5\",\"#B0BEC5\",\"#B0BEC5\",\"#B0BEC5\",\"#B0BEC5\",\"#B0BEC5\",\"#B0BEC5\",\"#B0BEC5\",\"#B0BEC5\",\"#B0BEC5\",\"#B0BEC5\",\"#B0BEC5\",\"#B0BEC5\",\"#B0BEC5\",\"#B0BEC5\",\"#B0BEC5\",\"#B0BEC5\",\"#B0BEC5\",\"#B0BEC5\",\"#B0BEC5\",\"#B0BEC5\",\"#B0BEC5\",\"#B0BEC5\",\"#B0BEC5\",\"#B0BEC5\",\"#B0BEC5\",\"#B0BEC5\",\"#B0BEC5\",\"#B0BEC5\",\"#B0BEC5\",\"#B0BEC5\",\"#B0BEC5\",\"#B0BEC5\",\"#B0BEC5\",\"#B0BEC5\",\"#B0BEC5\",\"#B0BEC5\",\"#B0BEC5\",\"#B0BEC5\",\"#B0BEC5\",\"#B0BEC5\",\"#B0BEC5\",\"#B0BEC5\",\"#B0BEC5\",\"#B0BEC5\",\"#B0BEC5\",\"#B0BEC5\",\"#B0BEC5\",\"#B0BEC5\",\"#B0BEC5\",\"#B0BEC5\",\"#B0BEC5\",\"#B0BEC5\",\"#B0BEC5\",\"#B0BEC5\",\"#B0BEC5\",\"#B0BEC5\",\"#B0BEC5\",\"#B0BEC5\",\"#B0BEC5\",\"#B0BEC5\",\"#B0BEC5\",\"#B0BEC5\",\"#B0BEC5\",\"#B0BEC5\",\"#B0BEC5\",\"#B0BEC5\",\"#B0BEC5\",\"#B0BEC5\",\"red\",\"#B0BEC5\",\"#B0BEC5\",\"#B0BEC5\"]]}],\"label\":\"Topic 69\",\"method\":\"update\"},{\"args\":[{\"marker.color\":[[\"#B0BEC5\",\"#B0BEC5\",\"#B0BEC5\",\"#B0BEC5\",\"#B0BEC5\",\"#B0BEC5\",\"#B0BEC5\",\"#B0BEC5\",\"#B0BEC5\",\"#B0BEC5\",\"#B0BEC5\",\"#B0BEC5\",\"#B0BEC5\",\"#B0BEC5\",\"#B0BEC5\",\"#B0BEC5\",\"#B0BEC5\",\"#B0BEC5\",\"#B0BEC5\",\"#B0BEC5\",\"#B0BEC5\",\"#B0BEC5\",\"#B0BEC5\",\"#B0BEC5\",\"#B0BEC5\",\"#B0BEC5\",\"#B0BEC5\",\"#B0BEC5\",\"#B0BEC5\",\"#B0BEC5\",\"#B0BEC5\",\"#B0BEC5\",\"#B0BEC5\",\"#B0BEC5\",\"#B0BEC5\",\"#B0BEC5\",\"#B0BEC5\",\"#B0BEC5\",\"#B0BEC5\",\"#B0BEC5\",\"#B0BEC5\",\"#B0BEC5\",\"#B0BEC5\",\"#B0BEC5\",\"#B0BEC5\",\"#B0BEC5\",\"#B0BEC5\",\"#B0BEC5\",\"#B0BEC5\",\"#B0BEC5\",\"#B0BEC5\",\"#B0BEC5\",\"#B0BEC5\",\"#B0BEC5\",\"#B0BEC5\",\"#B0BEC5\",\"#B0BEC5\",\"#B0BEC5\",\"#B0BEC5\",\"#B0BEC5\",\"#B0BEC5\",\"#B0BEC5\",\"#B0BEC5\",\"#B0BEC5\",\"#B0BEC5\",\"#B0BEC5\",\"#B0BEC5\",\"#B0BEC5\",\"#B0BEC5\",\"#B0BEC5\",\"red\",\"#B0BEC5\",\"#B0BEC5\"]]}],\"label\":\"Topic 70\",\"method\":\"update\"},{\"args\":[{\"marker.color\":[[\"#B0BEC5\",\"#B0BEC5\",\"#B0BEC5\",\"#B0BEC5\",\"#B0BEC5\",\"#B0BEC5\",\"#B0BEC5\",\"#B0BEC5\",\"#B0BEC5\",\"#B0BEC5\",\"#B0BEC5\",\"#B0BEC5\",\"#B0BEC5\",\"#B0BEC5\",\"#B0BEC5\",\"#B0BEC5\",\"#B0BEC5\",\"#B0BEC5\",\"#B0BEC5\",\"#B0BEC5\",\"#B0BEC5\",\"#B0BEC5\",\"#B0BEC5\",\"#B0BEC5\",\"#B0BEC5\",\"#B0BEC5\",\"#B0BEC5\",\"#B0BEC5\",\"#B0BEC5\",\"#B0BEC5\",\"#B0BEC5\",\"#B0BEC5\",\"#B0BEC5\",\"#B0BEC5\",\"#B0BEC5\",\"#B0BEC5\",\"#B0BEC5\",\"#B0BEC5\",\"#B0BEC5\",\"#B0BEC5\",\"#B0BEC5\",\"#B0BEC5\",\"#B0BEC5\",\"#B0BEC5\",\"#B0BEC5\",\"#B0BEC5\",\"#B0BEC5\",\"#B0BEC5\",\"#B0BEC5\",\"#B0BEC5\",\"#B0BEC5\",\"#B0BEC5\",\"#B0BEC5\",\"#B0BEC5\",\"#B0BEC5\",\"#B0BEC5\",\"#B0BEC5\",\"#B0BEC5\",\"#B0BEC5\",\"#B0BEC5\",\"#B0BEC5\",\"#B0BEC5\",\"#B0BEC5\",\"#B0BEC5\",\"#B0BEC5\",\"#B0BEC5\",\"#B0BEC5\",\"#B0BEC5\",\"#B0BEC5\",\"#B0BEC5\",\"#B0BEC5\",\"red\",\"#B0BEC5\"]]}],\"label\":\"Topic 71\",\"method\":\"update\"},{\"args\":[{\"marker.color\":[[\"#B0BEC5\",\"#B0BEC5\",\"#B0BEC5\",\"#B0BEC5\",\"#B0BEC5\",\"#B0BEC5\",\"#B0BEC5\",\"#B0BEC5\",\"#B0BEC5\",\"#B0BEC5\",\"#B0BEC5\",\"#B0BEC5\",\"#B0BEC5\",\"#B0BEC5\",\"#B0BEC5\",\"#B0BEC5\",\"#B0BEC5\",\"#B0BEC5\",\"#B0BEC5\",\"#B0BEC5\",\"#B0BEC5\",\"#B0BEC5\",\"#B0BEC5\",\"#B0BEC5\",\"#B0BEC5\",\"#B0BEC5\",\"#B0BEC5\",\"#B0BEC5\",\"#B0BEC5\",\"#B0BEC5\",\"#B0BEC5\",\"#B0BEC5\",\"#B0BEC5\",\"#B0BEC5\",\"#B0BEC5\",\"#B0BEC5\",\"#B0BEC5\",\"#B0BEC5\",\"#B0BEC5\",\"#B0BEC5\",\"#B0BEC5\",\"#B0BEC5\",\"#B0BEC5\",\"#B0BEC5\",\"#B0BEC5\",\"#B0BEC5\",\"#B0BEC5\",\"#B0BEC5\",\"#B0BEC5\",\"#B0BEC5\",\"#B0BEC5\",\"#B0BEC5\",\"#B0BEC5\",\"#B0BEC5\",\"#B0BEC5\",\"#B0BEC5\",\"#B0BEC5\",\"#B0BEC5\",\"#B0BEC5\",\"#B0BEC5\",\"#B0BEC5\",\"#B0BEC5\",\"#B0BEC5\",\"#B0BEC5\",\"#B0BEC5\",\"#B0BEC5\",\"#B0BEC5\",\"#B0BEC5\",\"#B0BEC5\",\"#B0BEC5\",\"#B0BEC5\",\"#B0BEC5\",\"red\"]]}],\"label\":\"Topic 72\",\"method\":\"update\"}]}],\"shapes\":[{\"line\":{\"color\":\"#CFD8DC\",\"width\":2},\"type\":\"line\",\"x0\":5.916779041290283,\"x1\":5.916779041290283,\"y0\":-11.93820104598999,\"y1\":13.409571218490601},{\"line\":{\"color\":\"#9E9E9E\",\"width\":2},\"type\":\"line\",\"x0\":-8.521434020996093,\"x1\":20.35499210357666,\"y0\":0.7356850862503057,\"y1\":0.7356850862503057}],\"annotations\":[{\"showarrow\":false,\"text\":\"D1\",\"x\":-8.521434020996093,\"y\":0.7356850862503057,\"yshift\":10},{\"showarrow\":false,\"text\":\"D2\",\"x\":5.916779041290283,\"xshift\":10,\"y\":13.409571218490601}]},                        {\"responsive\": true}                    ).then(function(){\n",
              "                            \n",
              "var gd = document.getElementById('1087380d-f565-4a31-82b3-4740ad8efb92');\n",
              "var x = new MutationObserver(function (mutations, observer) {{\n",
              "        var display = window.getComputedStyle(gd).display;\n",
              "        if (!display || display === 'none') {{\n",
              "            console.log([gd, 'removed!']);\n",
              "            Plotly.purge(gd);\n",
              "            observer.disconnect();\n",
              "        }}\n",
              "}});\n",
              "\n",
              "// Listen for the removal of the full notebook cells\n",
              "var notebookContainer = gd.closest('#notebook-container');\n",
              "if (notebookContainer) {{\n",
              "    x.observe(notebookContainer, {childList: true});\n",
              "}}\n",
              "\n",
              "// Listen for the clearing of the current output cell\n",
              "var outputEl = gd.closest('.output');\n",
              "if (outputEl) {{\n",
              "    x.observe(outputEl, {childList: true});\n",
              "}}\n",
              "\n",
              "                        })                };                            </script>        </div>\n",
              "</body>\n",
              "</html>"
            ]
          },
          "metadata": {}
        }
      ]
    },
    {
      "cell_type": "markdown",
      "source": [
        "### **Visualize Topic Hierarchy**\n",
        "\n",
        "The topics that were created can be hierarchically reduced. This visualization shows how the topics relate to one another."
      ],
      "metadata": {
        "id": "r-5bT7AgSgsv"
      }
    },
    {
      "cell_type": "code",
      "source": [
        "topic_model.visualize_hierarchy(top_n_topics=50)"
      ],
      "metadata": {
        "id": "TEoOpDD6S4D7",
        "outputId": "63816f2a-2310-4bab-ee21-b8182d442676",
        "colab": {
          "base_uri": "https://localhost:8080/",
          "height": 987
        }
      },
      "execution_count": 167,
      "outputs": [
        {
          "output_type": "display_data",
          "data": {
            "text/html": [
              "<html>\n",
              "<head><meta charset=\"utf-8\" /></head>\n",
              "<body>\n",
              "    <div>            <script src=\"https://cdnjs.cloudflare.com/ajax/libs/mathjax/2.7.5/MathJax.js?config=TeX-AMS-MML_SVG\"></script><script type=\"text/javascript\">if (window.MathJax) {MathJax.Hub.Config({SVG: {font: \"STIX-Web\"}});}</script>                <script type=\"text/javascript\">window.PlotlyConfig = {MathJaxConfig: 'local'};</script>\n",
              "        <script src=\"https://cdn.plot.ly/plotly-2.8.3.min.js\"></script>                <div id=\"bd9ceca2-2696-4c00-864c-72b6d8a52d20\" class=\"plotly-graph-div\" style=\"height:950px; width:1000px;\"></div>            <script type=\"text/javascript\">                                    window.PLOTLYENV=window.PLOTLYENV || {};                                    if (document.getElementById(\"bd9ceca2-2696-4c00-864c-72b6d8a52d20\")) {                    Plotly.newPlot(                        \"bd9ceca2-2696-4c00-864c-72b6d8a52d20\",                        [{\"hoverinfo\":\"text\",\"marker\":{\"color\":\"rgb(0,116,217)\"},\"mode\":\"lines\",\"x\":[0.0,1.0869157702025822,1.0869157702025822,0.0],\"xaxis\":\"x\",\"y\":[-15.0,-15.0,-25.0,-25.0],\"yaxis\":\"y\",\"type\":\"scatter\"},{\"hoverinfo\":\"text\",\"marker\":{\"color\":\"rgb(0,116,217)\"},\"mode\":\"lines\",\"x\":[0.0,1.1384866311612027,1.1384866311612027,1.0869157702025822],\"xaxis\":\"x\",\"y\":[-5.0,-5.0,-20.0,-20.0],\"yaxis\":\"y\",\"type\":\"scatter\"},{\"hoverinfo\":\"text\",\"marker\":{\"color\":\"rgb(61,153,112)\"},\"mode\":\"lines\",\"x\":[0.0,0.8426287872204263,0.8426287872204263,0.0],\"xaxis\":\"x\",\"y\":[-35.0,-35.0,-45.0,-45.0],\"yaxis\":\"y\",\"type\":\"scatter\"},{\"hoverinfo\":\"text\",\"marker\":{\"color\":\"rgb(61,153,112)\"},\"mode\":\"lines\",\"x\":[0.8426287872204263,0.990518220216404,0.990518220216404,0.0],\"xaxis\":\"x\",\"y\":[-40.0,-40.0,-55.0,-55.0],\"yaxis\":\"y\",\"type\":\"scatter\"},{\"hoverinfo\":\"text\",\"marker\":{\"color\":\"rgb(0,116,217)\"},\"mode\":\"lines\",\"x\":[1.1384866311612027,1.4245758029030018,1.4245758029030018,0.990518220216404],\"xaxis\":\"x\",\"y\":[-12.5,-12.5,-47.5,-47.5],\"yaxis\":\"y\",\"type\":\"scatter\"},{\"hoverinfo\":\"text\",\"marker\":{\"color\":\"rgb(255,65,54)\"},\"mode\":\"lines\",\"x\":[0.0,0.4881082164415109,0.4881082164415109,0.0],\"xaxis\":\"x\",\"y\":[-65.0,-65.0,-75.0,-75.0],\"yaxis\":\"y\",\"type\":\"scatter\"},{\"hoverinfo\":\"text\",\"marker\":{\"color\":\"rgb(255,65,54)\"},\"mode\":\"lines\",\"x\":[0.0,0.5820504721012586,0.5820504721012586,0.0],\"xaxis\":\"x\",\"y\":[-85.0,-85.0,-95.0,-95.0],\"yaxis\":\"y\",\"type\":\"scatter\"},{\"hoverinfo\":\"text\",\"marker\":{\"color\":\"rgb(255,65,54)\"},\"mode\":\"lines\",\"x\":[0.5820504721012586,0.683474530410103,0.683474530410103,0.0],\"xaxis\":\"x\",\"y\":[-90.0,-90.0,-105.0,-105.0],\"yaxis\":\"y\",\"type\":\"scatter\"},{\"hoverinfo\":\"text\",\"marker\":{\"color\":\"rgb(255,65,54)\"},\"mode\":\"lines\",\"x\":[0.4881082164415109,0.924241244042999,0.924241244042999,0.683474530410103],\"xaxis\":\"x\",\"y\":[-70.0,-70.0,-97.5,-97.5],\"yaxis\":\"y\",\"type\":\"scatter\"},{\"hoverinfo\":\"text\",\"marker\":{\"color\":\"rgb(35,205,205)\"},\"mode\":\"lines\",\"x\":[0.0,0.6877282373888916,0.6877282373888916,0.0],\"xaxis\":\"x\",\"y\":[-125.0,-125.0,-135.0,-135.0],\"yaxis\":\"y\",\"type\":\"scatter\"},{\"hoverinfo\":\"text\",\"marker\":{\"color\":\"rgb(35,205,205)\"},\"mode\":\"lines\",\"x\":[0.6877282373888916,0.879208241667318,0.879208241667318,0.0],\"xaxis\":\"x\",\"y\":[-130.0,-130.0,-145.0,-145.0],\"yaxis\":\"y\",\"type\":\"scatter\"},{\"hoverinfo\":\"text\",\"marker\":{\"color\":\"rgb(35,205,205)\"},\"mode\":\"lines\",\"x\":[0.0,0.9654329354268152,0.9654329354268152,0.879208241667318],\"xaxis\":\"x\",\"y\":[-115.0,-115.0,-137.5,-137.5],\"yaxis\":\"y\",\"type\":\"scatter\"},{\"hoverinfo\":\"text\",\"marker\":{\"color\":\"rgb(133,20,75)\"},\"mode\":\"lines\",\"x\":[0.0,0.7550349102036261,0.7550349102036261,0.0],\"xaxis\":\"x\",\"y\":[-155.0,-155.0,-165.0,-165.0],\"yaxis\":\"y\",\"type\":\"scatter\"},{\"hoverinfo\":\"text\",\"marker\":{\"color\":\"rgb(133,20,75)\"},\"mode\":\"lines\",\"x\":[0.7550349102036261,0.9491014907770031,0.9491014907770031,0.0],\"xaxis\":\"x\",\"y\":[-160.0,-160.0,-175.0,-175.0],\"yaxis\":\"y\",\"type\":\"scatter\"},{\"hoverinfo\":\"text\",\"marker\":{\"color\":\"rgb(0,116,217)\"},\"mode\":\"lines\",\"x\":[0.9654329354268152,1.1487485276343115,1.1487485276343115,0.9491014907770031],\"xaxis\":\"x\",\"y\":[-126.25,-126.25,-167.5,-167.5],\"yaxis\":\"y\",\"type\":\"scatter\"},{\"hoverinfo\":\"text\",\"marker\":{\"color\":\"rgb(0,116,217)\"},\"mode\":\"lines\",\"x\":[0.0,1.0032462837780904,1.0032462837780904,0.0],\"xaxis\":\"x\",\"y\":[-185.0,-185.0,-195.0,-195.0],\"yaxis\":\"y\",\"type\":\"scatter\"},{\"hoverinfo\":\"text\",\"marker\":{\"color\":\"rgb(0,116,217)\"},\"mode\":\"lines\",\"x\":[1.1487485276343115,1.3863058040097243,1.3863058040097243,1.0032462837780904],\"xaxis\":\"x\",\"y\":[-146.875,-146.875,-190.0,-190.0],\"yaxis\":\"y\",\"type\":\"scatter\"},{\"hoverinfo\":\"text\",\"marker\":{\"color\":\"rgb(0,116,217)\"},\"mode\":\"lines\",\"x\":[0.924241244042999,1.6335443161080654,1.6335443161080654,1.3863058040097243],\"xaxis\":\"x\",\"y\":[-83.75,-83.75,-168.4375,-168.4375],\"yaxis\":\"y\",\"type\":\"scatter\"},{\"hoverinfo\":\"text\",\"marker\":{\"color\":\"rgb(0,116,217)\"},\"mode\":\"lines\",\"x\":[1.4245758029030018,1.9700290515479246,1.9700290515479246,1.6335443161080654],\"xaxis\":\"x\",\"y\":[-30.0,-30.0,-126.09375,-126.09375],\"yaxis\":\"y\",\"type\":\"scatter\"},{\"hoverinfo\":\"text\",\"marker\":{\"color\":\"rgb(255,220,0)\"},\"mode\":\"lines\",\"x\":[0.0,0.6697181164220952,0.6697181164220952,0.0],\"xaxis\":\"x\",\"y\":[-215.0,-215.0,-225.0,-225.0],\"yaxis\":\"y\",\"type\":\"scatter\"},{\"hoverinfo\":\"text\",\"marker\":{\"color\":\"rgb(0,116,217)\"},\"mode\":\"lines\",\"x\":[0.0,1.442839698758826,1.442839698758826,0.6697181164220952],\"xaxis\":\"x\",\"y\":[-205.0,-205.0,-220.0,-220.0],\"yaxis\":\"y\",\"type\":\"scatter\"},{\"hoverinfo\":\"text\",\"marker\":{\"color\":\"rgb(40,35,35)\"},\"mode\":\"lines\",\"x\":[0.0,0.8763262193812261,0.8763262193812261,0.0],\"xaxis\":\"x\",\"y\":[-235.0,-235.0,-245.0,-245.0],\"yaxis\":\"y\",\"type\":\"scatter\"},{\"hoverinfo\":\"text\",\"marker\":{\"color\":\"rgb(0,116,217)\"},\"mode\":\"lines\",\"x\":[0.8763262193812261,1.0888423765998265,1.0888423765998265,0.0],\"xaxis\":\"x\",\"y\":[-240.0,-240.0,-255.0,-255.0],\"yaxis\":\"y\",\"type\":\"scatter\"},{\"hoverinfo\":\"text\",\"marker\":{\"color\":\"rgb(61,153,112)\"},\"mode\":\"lines\",\"x\":[0.0,0.9093075006951662,0.9093075006951662,0.0],\"xaxis\":\"x\",\"y\":[-275.0,-275.0,-285.0,-285.0],\"yaxis\":\"y\",\"type\":\"scatter\"},{\"hoverinfo\":\"text\",\"marker\":{\"color\":\"rgb(0,116,217)\"},\"mode\":\"lines\",\"x\":[0.9093075006951662,1.0487738224300838,1.0487738224300838,0.0],\"xaxis\":\"x\",\"y\":[-280.0,-280.0,-295.0,-295.0],\"yaxis\":\"y\",\"type\":\"scatter\"},{\"hoverinfo\":\"text\",\"marker\":{\"color\":\"rgb(0,116,217)\"},\"mode\":\"lines\",\"x\":[0.0,1.158860831743075,1.158860831743075,1.0487738224300838],\"xaxis\":\"x\",\"y\":[-265.0,-265.0,-287.5,-287.5],\"yaxis\":\"y\",\"type\":\"scatter\"},{\"hoverinfo\":\"text\",\"marker\":{\"color\":\"rgb(0,116,217)\"},\"mode\":\"lines\",\"x\":[0.0,1.1423883477346422,1.1423883477346422,0.0],\"xaxis\":\"x\",\"y\":[-305.0,-305.0,-315.0,-315.0],\"yaxis\":\"y\",\"type\":\"scatter\"},{\"hoverinfo\":\"text\",\"marker\":{\"color\":\"rgb(0,116,217)\"},\"mode\":\"lines\",\"x\":[1.158860831743075,1.415754373106256,1.415754373106256,1.1423883477346422],\"xaxis\":\"x\",\"y\":[-276.25,-276.25,-310.0,-310.0],\"yaxis\":\"y\",\"type\":\"scatter\"},{\"hoverinfo\":\"text\",\"marker\":{\"color\":\"rgb(0,116,217)\"},\"mode\":\"lines\",\"x\":[1.0888423765998265,1.560643553207432,1.560643553207432,1.415754373106256],\"xaxis\":\"x\",\"y\":[-247.5,-247.5,-293.125,-293.125],\"yaxis\":\"y\",\"type\":\"scatter\"},{\"hoverinfo\":\"text\",\"marker\":{\"color\":\"rgb(0,116,217)\"},\"mode\":\"lines\",\"x\":[1.442839698758826,2.2177729877557613,2.2177729877557613,1.560643553207432],\"xaxis\":\"x\",\"y\":[-212.5,-212.5,-270.3125,-270.3125],\"yaxis\":\"y\",\"type\":\"scatter\"},{\"hoverinfo\":\"text\",\"marker\":{\"color\":\"rgb(0,116,217)\"},\"mode\":\"lines\",\"x\":[0.0,1.1306908479155666,1.1306908479155666,0.0],\"xaxis\":\"x\",\"y\":[-325.0,-325.0,-335.0,-335.0],\"yaxis\":\"y\",\"type\":\"scatter\"},{\"hoverinfo\":\"text\",\"marker\":{\"color\":\"rgb(0,116,217)\"},\"mode\":\"lines\",\"x\":[1.1306908479155666,1.1824599821500479,1.1824599821500479,0.0],\"xaxis\":\"x\",\"y\":[-330.0,-330.0,-345.0,-345.0],\"yaxis\":\"y\",\"type\":\"scatter\"},{\"hoverinfo\":\"text\",\"marker\":{\"color\":\"rgb(0,116,217)\"},\"mode\":\"lines\",\"x\":[0.0,1.0096084507167171,1.0096084507167171,0.0],\"xaxis\":\"x\",\"y\":[-355.0,-355.0,-365.0,-365.0],\"yaxis\":\"y\",\"type\":\"scatter\"},{\"hoverinfo\":\"text\",\"marker\":{\"color\":\"rgb(0,116,217)\"},\"mode\":\"lines\",\"x\":[0.0,1.1288937148239975,1.1288937148239975,0.0],\"xaxis\":\"x\",\"y\":[-375.0,-375.0,-385.0,-385.0],\"yaxis\":\"y\",\"type\":\"scatter\"},{\"hoverinfo\":\"text\",\"marker\":{\"color\":\"rgb(0,116,217)\"},\"mode\":\"lines\",\"x\":[1.0096084507167171,1.2727092240923341,1.2727092240923341,1.1288937148239975],\"xaxis\":\"x\",\"y\":[-360.0,-360.0,-380.0,-380.0],\"yaxis\":\"y\",\"type\":\"scatter\"},{\"hoverinfo\":\"text\",\"marker\":{\"color\":\"rgb(0,116,217)\"},\"mode\":\"lines\",\"x\":[0.0,1.1493881415934561,1.1493881415934561,0.0],\"xaxis\":\"x\",\"y\":[-395.0,-395.0,-405.0,-405.0],\"yaxis\":\"y\",\"type\":\"scatter\"},{\"hoverinfo\":\"text\",\"marker\":{\"color\":\"rgb(0,116,217)\"},\"mode\":\"lines\",\"x\":[0.0,1.2016223077977857,1.2016223077977857,0.0],\"xaxis\":\"x\",\"y\":[-415.0,-415.0,-425.0,-425.0],\"yaxis\":\"y\",\"type\":\"scatter\"},{\"hoverinfo\":\"text\",\"marker\":{\"color\":\"rgb(0,116,217)\"},\"mode\":\"lines\",\"x\":[1.1493881415934561,1.275846144666909,1.275846144666909,1.2016223077977857],\"xaxis\":\"x\",\"y\":[-400.0,-400.0,-420.0,-420.0],\"yaxis\":\"y\",\"type\":\"scatter\"},{\"hoverinfo\":\"text\",\"marker\":{\"color\":\"rgb(0,116,217)\"},\"mode\":\"lines\",\"x\":[1.2727092240923341,1.4247626779768274,1.4247626779768274,1.275846144666909],\"xaxis\":\"x\",\"y\":[-370.0,-370.0,-410.0,-410.0],\"yaxis\":\"y\",\"type\":\"scatter\"},{\"hoverinfo\":\"text\",\"marker\":{\"color\":\"rgb(0,116,217)\"},\"mode\":\"lines\",\"x\":[0.0,1.216207704979794,1.216207704979794,0.0],\"xaxis\":\"x\",\"y\":[-435.0,-435.0,-445.0,-445.0],\"yaxis\":\"y\",\"type\":\"scatter\"},{\"hoverinfo\":\"text\",\"marker\":{\"color\":\"rgb(0,116,217)\"},\"mode\":\"lines\",\"x\":[0.0,1.2957473744118813,1.2957473744118813,0.0],\"xaxis\":\"x\",\"y\":[-455.0,-455.0,-465.0,-465.0],\"yaxis\":\"y\",\"type\":\"scatter\"},{\"hoverinfo\":\"text\",\"marker\":{\"color\":\"rgb(0,116,217)\"},\"mode\":\"lines\",\"x\":[1.216207704979794,1.3454062643303732,1.3454062643303732,1.2957473744118813],\"xaxis\":\"x\",\"y\":[-440.0,-440.0,-460.0,-460.0],\"yaxis\":\"y\",\"type\":\"scatter\"},{\"hoverinfo\":\"text\",\"marker\":{\"color\":\"rgb(0,116,217)\"},\"mode\":\"lines\",\"x\":[1.3454062643303732,1.423908474323984,1.423908474323984,0.0],\"xaxis\":\"x\",\"y\":[-450.0,-450.0,-475.0,-475.0],\"yaxis\":\"y\",\"type\":\"scatter\"},{\"hoverinfo\":\"text\",\"marker\":{\"color\":\"rgb(0,116,217)\"},\"mode\":\"lines\",\"x\":[1.4247626779768274,1.6790276037897733,1.6790276037897733,1.423908474323984],\"xaxis\":\"x\",\"y\":[-390.0,-390.0,-462.5,-462.5],\"yaxis\":\"y\",\"type\":\"scatter\"},{\"hoverinfo\":\"text\",\"marker\":{\"color\":\"rgb(0,116,217)\"},\"mode\":\"lines\",\"x\":[1.1824599821500479,1.7741410705349083,1.7741410705349083,1.6790276037897733],\"xaxis\":\"x\",\"y\":[-337.5,-337.5,-426.25,-426.25],\"yaxis\":\"y\",\"type\":\"scatter\"},{\"hoverinfo\":\"text\",\"marker\":{\"color\":\"rgb(255,65,54)\"},\"mode\":\"lines\",\"x\":[0.0,0.5813494275841965,0.5813494275841965,0.0],\"xaxis\":\"x\",\"y\":[-485.0,-485.0,-495.0,-495.0],\"yaxis\":\"y\",\"type\":\"scatter\"},{\"hoverinfo\":\"text\",\"marker\":{\"color\":\"rgb(0,116,217)\"},\"mode\":\"lines\",\"x\":[1.7741410705349083,1.9899741215700764,1.9899741215700764,0.5813494275841965],\"xaxis\":\"x\",\"y\":[-381.875,-381.875,-490.0,-490.0],\"yaxis\":\"y\",\"type\":\"scatter\"},{\"hoverinfo\":\"text\",\"marker\":{\"color\":\"rgb(0,116,217)\"},\"mode\":\"lines\",\"x\":[2.2177729877557613,2.433925416934113,2.433925416934113,1.9899741215700764],\"xaxis\":\"x\",\"y\":[-241.40625,-241.40625,-435.9375,-435.9375],\"yaxis\":\"y\",\"type\":\"scatter\"},{\"hoverinfo\":\"text\",\"marker\":{\"color\":\"rgb(0,116,217)\"},\"mode\":\"lines\",\"x\":[1.9700290515479246,4.651538639374885,4.651538639374885,2.433925416934113],\"xaxis\":\"x\",\"y\":[-78.046875,-78.046875,-338.671875,-338.671875],\"yaxis\":\"y\",\"type\":\"scatter\"}],                        {\"autosize\":false,\"height\":950,\"hovermode\":\"closest\",\"showlegend\":false,\"width\":1000,\"xaxis\":{\"mirror\":\"allticks\",\"rangemode\":\"tozero\",\"showgrid\":false,\"showline\":true,\"showticklabels\":true,\"ticks\":\"outside\",\"type\":\"linear\",\"zeroline\":false},\"yaxis\":{\"mirror\":\"allticks\",\"rangemode\":\"tozero\",\"showgrid\":false,\"showline\":true,\"showticklabels\":true,\"tickmode\":\"array\",\"ticks\":\"outside\",\"ticktext\":[\"42_amazon_music_cart\\u00e3o\",\"8_propaganda_enganosa_an\\u00fancio\",\"49_rodas_carrinho_magazine\",\"13_pe\\u00e7a_quebrado_produto\",\"10_livre_mercado_vendedor\",\"23_devolu\\u00e7\\u00e3o_c\\u00f3digo_devolver\",\"25_cancelamento_cancelar_loja\",\"3_cancelamento_cancelar_ped...\",\"4_whatsapp_contato_entrega\",\"11_atendimento_loja_poi\",\"0_amazon_prime_assinatura\",\"33_celular_entrega_prazo\",\"39_entrega_10_feira\",\"1_entrega_atraso_prazo\",\"2_casas_bahia_entrega\",\"12_iphone_apple_aparelho\",\"5_samsung_celular_aparelho\",\"14_americana_lojas_site\",\"9_brasil_shein_aeroporto\",\"15_endere\\u00e7o_errado_pedido\",\"41_reconhecimento_facial_ro...\",\"6_conta_senha_mail\",\"18_conta_bloqueada_suspensa\",\"24_mercado_pago_cr\\u00e9dito\",\"7_cart\\u00e3o_cr\\u00e9dito_pagamento\",\"27_estorno_reembolso_valor\",\"36_dinheiro_paguei_disjunto...\",\"21_dinheiro_volta_quero\",\"35_reembolso_recebi_dinheiro\",\"45_shein_recebi_reembolso\",\"31_taxon_taxada_shein\",\"47_pagamento_confirma\\u00e7\\u00e3o_bo...\",\"43_china_nacional_order\",\"17_curitiba_parado_tr\\u00e2nsito\",\"29_rastreio_c\\u00f3digo_rastream...\",\"40_entregue_recebi_consta\",\"26_produtos_mercadoria_recebi\",\"16_roupas_vestido_cal\\u00e7a\",\"34_ta\\u00e7as_oculos_comprei\",\"30_m\\u00e1quina_lavar_maquina\",\"38_rob\\u00f4_falar_suporte\",\"32_bluetooth_fone_ouvido\",\"37_pneu_pneus_capacete\",\"46_perfume_falsificado_arom...\",\"28_t\\u00eanis_tenis_raquete\",\"22_cashback_02_valor\",\"19_jogo_lan\\u00e7amento_ragnarok\",\"44_cadeira_cama_gamer\",\"20_geladeira_refrigerador_t...\",\"48_geladeira_entrega_casa\"],\"tickvals\":[-5.0,-15.0,-25.0,-35.0,-45.0,-55.0,-65.0,-75.0,-85.0,-95.0,-105.0,-115.0,-125.0,-135.0,-145.0,-155.0,-165.0,-175.0,-185.0,-195.0,-205.0,-215.0,-225.0,-235.0,-245.0,-255.0,-265.0,-275.0,-285.0,-295.0,-305.0,-315.0,-325.0,-335.0,-345.0,-355.0,-365.0,-375.0,-385.0,-395.0,-405.0,-415.0,-425.0,-435.0,-445.0,-455.0,-465.0,-475.0,-485.0,-495.0],\"type\":\"linear\",\"zeroline\":false,\"range\":[-500.0,0.0]},\"template\":{\"data\":{\"barpolar\":[{\"marker\":{\"line\":{\"color\":\"white\",\"width\":0.5},\"pattern\":{\"fillmode\":\"overlay\",\"size\":10,\"solidity\":0.2}},\"type\":\"barpolar\"}],\"bar\":[{\"error_x\":{\"color\":\"#2a3f5f\"},\"error_y\":{\"color\":\"#2a3f5f\"},\"marker\":{\"line\":{\"color\":\"white\",\"width\":0.5},\"pattern\":{\"fillmode\":\"overlay\",\"size\":10,\"solidity\":0.2}},\"type\":\"bar\"}],\"carpet\":[{\"aaxis\":{\"endlinecolor\":\"#2a3f5f\",\"gridcolor\":\"#C8D4E3\",\"linecolor\":\"#C8D4E3\",\"minorgridcolor\":\"#C8D4E3\",\"startlinecolor\":\"#2a3f5f\"},\"baxis\":{\"endlinecolor\":\"#2a3f5f\",\"gridcolor\":\"#C8D4E3\",\"linecolor\":\"#C8D4E3\",\"minorgridcolor\":\"#C8D4E3\",\"startlinecolor\":\"#2a3f5f\"},\"type\":\"carpet\"}],\"choropleth\":[{\"colorbar\":{\"outlinewidth\":0,\"ticks\":\"\"},\"type\":\"choropleth\"}],\"contourcarpet\":[{\"colorbar\":{\"outlinewidth\":0,\"ticks\":\"\"},\"type\":\"contourcarpet\"}],\"contour\":[{\"colorbar\":{\"outlinewidth\":0,\"ticks\":\"\"},\"colorscale\":[[0.0,\"#0d0887\"],[0.1111111111111111,\"#46039f\"],[0.2222222222222222,\"#7201a8\"],[0.3333333333333333,\"#9c179e\"],[0.4444444444444444,\"#bd3786\"],[0.5555555555555556,\"#d8576b\"],[0.6666666666666666,\"#ed7953\"],[0.7777777777777778,\"#fb9f3a\"],[0.8888888888888888,\"#fdca26\"],[1.0,\"#f0f921\"]],\"type\":\"contour\"}],\"heatmapgl\":[{\"colorbar\":{\"outlinewidth\":0,\"ticks\":\"\"},\"colorscale\":[[0.0,\"#0d0887\"],[0.1111111111111111,\"#46039f\"],[0.2222222222222222,\"#7201a8\"],[0.3333333333333333,\"#9c179e\"],[0.4444444444444444,\"#bd3786\"],[0.5555555555555556,\"#d8576b\"],[0.6666666666666666,\"#ed7953\"],[0.7777777777777778,\"#fb9f3a\"],[0.8888888888888888,\"#fdca26\"],[1.0,\"#f0f921\"]],\"type\":\"heatmapgl\"}],\"heatmap\":[{\"colorbar\":{\"outlinewidth\":0,\"ticks\":\"\"},\"colorscale\":[[0.0,\"#0d0887\"],[0.1111111111111111,\"#46039f\"],[0.2222222222222222,\"#7201a8\"],[0.3333333333333333,\"#9c179e\"],[0.4444444444444444,\"#bd3786\"],[0.5555555555555556,\"#d8576b\"],[0.6666666666666666,\"#ed7953\"],[0.7777777777777778,\"#fb9f3a\"],[0.8888888888888888,\"#fdca26\"],[1.0,\"#f0f921\"]],\"type\":\"heatmap\"}],\"histogram2dcontour\":[{\"colorbar\":{\"outlinewidth\":0,\"ticks\":\"\"},\"colorscale\":[[0.0,\"#0d0887\"],[0.1111111111111111,\"#46039f\"],[0.2222222222222222,\"#7201a8\"],[0.3333333333333333,\"#9c179e\"],[0.4444444444444444,\"#bd3786\"],[0.5555555555555556,\"#d8576b\"],[0.6666666666666666,\"#ed7953\"],[0.7777777777777778,\"#fb9f3a\"],[0.8888888888888888,\"#fdca26\"],[1.0,\"#f0f921\"]],\"type\":\"histogram2dcontour\"}],\"histogram2d\":[{\"colorbar\":{\"outlinewidth\":0,\"ticks\":\"\"},\"colorscale\":[[0.0,\"#0d0887\"],[0.1111111111111111,\"#46039f\"],[0.2222222222222222,\"#7201a8\"],[0.3333333333333333,\"#9c179e\"],[0.4444444444444444,\"#bd3786\"],[0.5555555555555556,\"#d8576b\"],[0.6666666666666666,\"#ed7953\"],[0.7777777777777778,\"#fb9f3a\"],[0.8888888888888888,\"#fdca26\"],[1.0,\"#f0f921\"]],\"type\":\"histogram2d\"}],\"histogram\":[{\"marker\":{\"pattern\":{\"fillmode\":\"overlay\",\"size\":10,\"solidity\":0.2}},\"type\":\"histogram\"}],\"mesh3d\":[{\"colorbar\":{\"outlinewidth\":0,\"ticks\":\"\"},\"type\":\"mesh3d\"}],\"parcoords\":[{\"line\":{\"colorbar\":{\"outlinewidth\":0,\"ticks\":\"\"}},\"type\":\"parcoords\"}],\"pie\":[{\"automargin\":true,\"type\":\"pie\"}],\"scatter3d\":[{\"line\":{\"colorbar\":{\"outlinewidth\":0,\"ticks\":\"\"}},\"marker\":{\"colorbar\":{\"outlinewidth\":0,\"ticks\":\"\"}},\"type\":\"scatter3d\"}],\"scattercarpet\":[{\"marker\":{\"colorbar\":{\"outlinewidth\":0,\"ticks\":\"\"}},\"type\":\"scattercarpet\"}],\"scattergeo\":[{\"marker\":{\"colorbar\":{\"outlinewidth\":0,\"ticks\":\"\"}},\"type\":\"scattergeo\"}],\"scattergl\":[{\"marker\":{\"colorbar\":{\"outlinewidth\":0,\"ticks\":\"\"}},\"type\":\"scattergl\"}],\"scattermapbox\":[{\"marker\":{\"colorbar\":{\"outlinewidth\":0,\"ticks\":\"\"}},\"type\":\"scattermapbox\"}],\"scatterpolargl\":[{\"marker\":{\"colorbar\":{\"outlinewidth\":0,\"ticks\":\"\"}},\"type\":\"scatterpolargl\"}],\"scatterpolar\":[{\"marker\":{\"colorbar\":{\"outlinewidth\":0,\"ticks\":\"\"}},\"type\":\"scatterpolar\"}],\"scatter\":[{\"marker\":{\"colorbar\":{\"outlinewidth\":0,\"ticks\":\"\"}},\"type\":\"scatter\"}],\"scatterternary\":[{\"marker\":{\"colorbar\":{\"outlinewidth\":0,\"ticks\":\"\"}},\"type\":\"scatterternary\"}],\"surface\":[{\"colorbar\":{\"outlinewidth\":0,\"ticks\":\"\"},\"colorscale\":[[0.0,\"#0d0887\"],[0.1111111111111111,\"#46039f\"],[0.2222222222222222,\"#7201a8\"],[0.3333333333333333,\"#9c179e\"],[0.4444444444444444,\"#bd3786\"],[0.5555555555555556,\"#d8576b\"],[0.6666666666666666,\"#ed7953\"],[0.7777777777777778,\"#fb9f3a\"],[0.8888888888888888,\"#fdca26\"],[1.0,\"#f0f921\"]],\"type\":\"surface\"}],\"table\":[{\"cells\":{\"fill\":{\"color\":\"#EBF0F8\"},\"line\":{\"color\":\"white\"}},\"header\":{\"fill\":{\"color\":\"#C8D4E3\"},\"line\":{\"color\":\"white\"}},\"type\":\"table\"}]},\"layout\":{\"annotationdefaults\":{\"arrowcolor\":\"#2a3f5f\",\"arrowhead\":0,\"arrowwidth\":1},\"autotypenumbers\":\"strict\",\"coloraxis\":{\"colorbar\":{\"outlinewidth\":0,\"ticks\":\"\"}},\"colorscale\":{\"diverging\":[[0,\"#8e0152\"],[0.1,\"#c51b7d\"],[0.2,\"#de77ae\"],[0.3,\"#f1b6da\"],[0.4,\"#fde0ef\"],[0.5,\"#f7f7f7\"],[0.6,\"#e6f5d0\"],[0.7,\"#b8e186\"],[0.8,\"#7fbc41\"],[0.9,\"#4d9221\"],[1,\"#276419\"]],\"sequential\":[[0.0,\"#0d0887\"],[0.1111111111111111,\"#46039f\"],[0.2222222222222222,\"#7201a8\"],[0.3333333333333333,\"#9c179e\"],[0.4444444444444444,\"#bd3786\"],[0.5555555555555556,\"#d8576b\"],[0.6666666666666666,\"#ed7953\"],[0.7777777777777778,\"#fb9f3a\"],[0.8888888888888888,\"#fdca26\"],[1.0,\"#f0f921\"]],\"sequentialminus\":[[0.0,\"#0d0887\"],[0.1111111111111111,\"#46039f\"],[0.2222222222222222,\"#7201a8\"],[0.3333333333333333,\"#9c179e\"],[0.4444444444444444,\"#bd3786\"],[0.5555555555555556,\"#d8576b\"],[0.6666666666666666,\"#ed7953\"],[0.7777777777777778,\"#fb9f3a\"],[0.8888888888888888,\"#fdca26\"],[1.0,\"#f0f921\"]]},\"colorway\":[\"#636efa\",\"#EF553B\",\"#00cc96\",\"#ab63fa\",\"#FFA15A\",\"#19d3f3\",\"#FF6692\",\"#B6E880\",\"#FF97FF\",\"#FECB52\"],\"font\":{\"color\":\"#2a3f5f\"},\"geo\":{\"bgcolor\":\"white\",\"lakecolor\":\"white\",\"landcolor\":\"white\",\"showlakes\":true,\"showland\":true,\"subunitcolor\":\"#C8D4E3\"},\"hoverlabel\":{\"align\":\"left\"},\"hovermode\":\"closest\",\"mapbox\":{\"style\":\"light\"},\"paper_bgcolor\":\"white\",\"plot_bgcolor\":\"white\",\"polar\":{\"angularaxis\":{\"gridcolor\":\"#EBF0F8\",\"linecolor\":\"#EBF0F8\",\"ticks\":\"\"},\"bgcolor\":\"white\",\"radialaxis\":{\"gridcolor\":\"#EBF0F8\",\"linecolor\":\"#EBF0F8\",\"ticks\":\"\"}},\"scene\":{\"xaxis\":{\"backgroundcolor\":\"white\",\"gridcolor\":\"#DFE8F3\",\"gridwidth\":2,\"linecolor\":\"#EBF0F8\",\"showbackground\":true,\"ticks\":\"\",\"zerolinecolor\":\"#EBF0F8\"},\"yaxis\":{\"backgroundcolor\":\"white\",\"gridcolor\":\"#DFE8F3\",\"gridwidth\":2,\"linecolor\":\"#EBF0F8\",\"showbackground\":true,\"ticks\":\"\",\"zerolinecolor\":\"#EBF0F8\"},\"zaxis\":{\"backgroundcolor\":\"white\",\"gridcolor\":\"#DFE8F3\",\"gridwidth\":2,\"linecolor\":\"#EBF0F8\",\"showbackground\":true,\"ticks\":\"\",\"zerolinecolor\":\"#EBF0F8\"}},\"shapedefaults\":{\"line\":{\"color\":\"#2a3f5f\"}},\"ternary\":{\"aaxis\":{\"gridcolor\":\"#DFE8F3\",\"linecolor\":\"#A2B1C6\",\"ticks\":\"\"},\"baxis\":{\"gridcolor\":\"#DFE8F3\",\"linecolor\":\"#A2B1C6\",\"ticks\":\"\"},\"bgcolor\":\"white\",\"caxis\":{\"gridcolor\":\"#DFE8F3\",\"linecolor\":\"#A2B1C6\",\"ticks\":\"\"}},\"title\":{\"x\":0.05},\"xaxis\":{\"automargin\":true,\"gridcolor\":\"#EBF0F8\",\"linecolor\":\"#EBF0F8\",\"ticks\":\"\",\"title\":{\"standoff\":15},\"zerolinecolor\":\"#EBF0F8\",\"zerolinewidth\":2},\"yaxis\":{\"automargin\":true,\"gridcolor\":\"#EBF0F8\",\"linecolor\":\"#EBF0F8\",\"ticks\":\"\",\"title\":{\"standoff\":15},\"zerolinecolor\":\"#EBF0F8\",\"zerolinewidth\":2}}},\"title\":{\"font\":{\"size\":22,\"color\":\"Black\"},\"text\":\"<b>Hierarchical Clustering\",\"x\":0.5,\"xanchor\":\"center\",\"yanchor\":\"top\"},\"hoverlabel\":{\"font\":{\"size\":16,\"family\":\"Rockwell\"},\"bgcolor\":\"white\"},\"plot_bgcolor\":\"#ECEFF1\"},                        {\"responsive\": true}                    ).then(function(){\n",
              "                            \n",
              "var gd = document.getElementById('bd9ceca2-2696-4c00-864c-72b6d8a52d20');\n",
              "var x = new MutationObserver(function (mutations, observer) {{\n",
              "        var display = window.getComputedStyle(gd).display;\n",
              "        if (!display || display === 'none') {{\n",
              "            console.log([gd, 'removed!']);\n",
              "            Plotly.purge(gd);\n",
              "            observer.disconnect();\n",
              "        }}\n",
              "}});\n",
              "\n",
              "// Listen for the removal of the full notebook cells\n",
              "var notebookContainer = gd.closest('#notebook-container');\n",
              "if (notebookContainer) {{\n",
              "    x.observe(notebookContainer, {childList: true});\n",
              "}}\n",
              "\n",
              "// Listen for the clearing of the current output cell\n",
              "var outputEl = gd.closest('.output');\n",
              "if (outputEl) {{\n",
              "    x.observe(outputEl, {childList: true});\n",
              "}}\n",
              "\n",
              "                        })                };                            </script>        </div>\n",
              "</body>\n",
              "</html>"
            ]
          },
          "metadata": {}
        }
      ]
    },
    {
      "cell_type": "markdown",
      "source": [
        "### **Visualize Terms**\n",
        "\n",
        "We can visualize the selected terms for a few topics by creating bar charts out of the c-TF-IDF scores for each topic representation."
      ],
      "metadata": {
        "id": "uC26Cc-6UvYE"
      }
    },
    {
      "cell_type": "code",
      "source": [
        "topic_model.visualize_barchart(top_n_topics=8)"
      ],
      "metadata": {
        "id": "-NoMSyeWVF2s",
        "outputId": "778b482a-0bce-4679-de59-61cae7cb7c01",
        "colab": {
          "base_uri": "https://localhost:8080/",
          "height": 537
        }
      },
      "execution_count": 168,
      "outputs": [
        {
          "output_type": "display_data",
          "data": {
            "text/html": [
              "<html>\n",
              "<head><meta charset=\"utf-8\" /></head>\n",
              "<body>\n",
              "    <div>            <script src=\"https://cdnjs.cloudflare.com/ajax/libs/mathjax/2.7.5/MathJax.js?config=TeX-AMS-MML_SVG\"></script><script type=\"text/javascript\">if (window.MathJax) {MathJax.Hub.Config({SVG: {font: \"STIX-Web\"}});}</script>                <script type=\"text/javascript\">window.PlotlyConfig = {MathJaxConfig: 'local'};</script>\n",
              "        <script src=\"https://cdn.plot.ly/plotly-2.8.3.min.js\"></script>                <div id=\"b06410d3-bb11-4f13-87a2-62820ad4aad9\" class=\"plotly-graph-div\" style=\"height:500px; width:1000px;\"></div>            <script type=\"text/javascript\">                                    window.PLOTLYENV=window.PLOTLYENV || {};                                    if (document.getElementById(\"b06410d3-bb11-4f13-87a2-62820ad4aad9\")) {                    Plotly.newPlot(                        \"b06410d3-bb11-4f13-87a2-62820ad4aad9\",                        [{\"marker\":{\"color\":\"#D55E00\"},\"orientation\":\"h\",\"x\":[0.00974722239329163,0.010093926816950363,0.011384456993023935,0.012960082567712701,0.038555790538754374],\"y\":[\"cobran\\u00e7a  \",\"cart\\u00e3o  \",\"assinatura  \",\"prime  \",\"amazon  \"],\"type\":\"bar\",\"xaxis\":\"x\",\"yaxis\":\"y\"},{\"marker\":{\"color\":\"#0072B2\"},\"orientation\":\"h\",\"x\":[0.019350480528862284,0.021252743617463054,0.026177832530564146,0.03138799047938097,0.038574590353602285],\"y\":[\"atrasada  \",\"data  \",\"prazo  \",\"atraso  \",\"entrega  \"],\"type\":\"bar\",\"xaxis\":\"x2\",\"yaxis\":\"y2\"},{\"marker\":{\"color\":\"#CC79A7\"},\"orientation\":\"h\",\"x\":[0.012191422272298993,0.0142529475813092,0.014946922393423165,0.05771482451659473,0.05783870114286684],\"y\":[\"site  \",\"transportadora  \",\"entrega  \",\"bahia  \",\"casas  \"],\"type\":\"bar\",\"xaxis\":\"x3\",\"yaxis\":\"y3\"},{\"marker\":{\"color\":\"#E69F00\"},\"orientation\":\"h\",\"x\":[0.016514594226458224,0.01948916638725918,0.021915522326017452,0.030963212671685808,0.04643952925581061],\"y\":[\"compra  \",\"cancelado  \",\"pedido  \",\"cancelar  \",\"cancelamento  \"],\"type\":\"bar\",\"xaxis\":\"x4\",\"yaxis\":\"y4\"},{\"marker\":{\"color\":\"#56B4E9\"},\"orientation\":\"h\",\"x\":[0.010219908289751747,0.011087909286513776,0.011800818404876207,0.015519684623780377,0.047330172808981955],\"y\":[\"produto  \",\"atendimento  \",\"entrega  \",\"contato  \",\"whatsapp  \"],\"type\":\"bar\",\"xaxis\":\"x5\",\"yaxis\":\"y5\"},{\"marker\":{\"color\":\"#009E73\"},\"orientation\":\"h\",\"x\":[0.013032898088494086,0.01977405227219792,0.02550901144821557,0.025696713296383615,0.04656762781346497],\"y\":[\"bateria  \",\"galaxy  \",\"aparelho  \",\"celular  \",\"samsung  \"],\"type\":\"bar\",\"xaxis\":\"x6\",\"yaxis\":\"y6\"},{\"marker\":{\"color\":\"#F0E442\"},\"orientation\":\"h\",\"x\":[0.04266942394387686,0.045459012562529,0.04742748887596373,0.0589072560819477,0.06866835522712776],\"y\":[\"acesso  \",\"acessar  \",\"mail  \",\"senha  \",\"conta  \"],\"type\":\"bar\",\"xaxis\":\"x7\",\"yaxis\":\"y7\"},{\"marker\":{\"color\":\"#D55E00\"},\"orientation\":\"h\",\"x\":[0.025134304035599162,0.027210642548864992,0.03135230914479451,0.05064470472986871,0.08740289852913148],\"y\":[\"cart\\u00f5es  \",\"cobran\\u00e7a  \",\"pagamento  \",\"cr\\u00e9dito  \",\"cart\\u00e3o  \"],\"type\":\"bar\",\"xaxis\":\"x8\",\"yaxis\":\"y8\"}],                        {\"template\":{\"data\":{\"barpolar\":[{\"marker\":{\"line\":{\"color\":\"white\",\"width\":0.5},\"pattern\":{\"fillmode\":\"overlay\",\"size\":10,\"solidity\":0.2}},\"type\":\"barpolar\"}],\"bar\":[{\"error_x\":{\"color\":\"#2a3f5f\"},\"error_y\":{\"color\":\"#2a3f5f\"},\"marker\":{\"line\":{\"color\":\"white\",\"width\":0.5},\"pattern\":{\"fillmode\":\"overlay\",\"size\":10,\"solidity\":0.2}},\"type\":\"bar\"}],\"carpet\":[{\"aaxis\":{\"endlinecolor\":\"#2a3f5f\",\"gridcolor\":\"#C8D4E3\",\"linecolor\":\"#C8D4E3\",\"minorgridcolor\":\"#C8D4E3\",\"startlinecolor\":\"#2a3f5f\"},\"baxis\":{\"endlinecolor\":\"#2a3f5f\",\"gridcolor\":\"#C8D4E3\",\"linecolor\":\"#C8D4E3\",\"minorgridcolor\":\"#C8D4E3\",\"startlinecolor\":\"#2a3f5f\"},\"type\":\"carpet\"}],\"choropleth\":[{\"colorbar\":{\"outlinewidth\":0,\"ticks\":\"\"},\"type\":\"choropleth\"}],\"contourcarpet\":[{\"colorbar\":{\"outlinewidth\":0,\"ticks\":\"\"},\"type\":\"contourcarpet\"}],\"contour\":[{\"colorbar\":{\"outlinewidth\":0,\"ticks\":\"\"},\"colorscale\":[[0.0,\"#0d0887\"],[0.1111111111111111,\"#46039f\"],[0.2222222222222222,\"#7201a8\"],[0.3333333333333333,\"#9c179e\"],[0.4444444444444444,\"#bd3786\"],[0.5555555555555556,\"#d8576b\"],[0.6666666666666666,\"#ed7953\"],[0.7777777777777778,\"#fb9f3a\"],[0.8888888888888888,\"#fdca26\"],[1.0,\"#f0f921\"]],\"type\":\"contour\"}],\"heatmapgl\":[{\"colorbar\":{\"outlinewidth\":0,\"ticks\":\"\"},\"colorscale\":[[0.0,\"#0d0887\"],[0.1111111111111111,\"#46039f\"],[0.2222222222222222,\"#7201a8\"],[0.3333333333333333,\"#9c179e\"],[0.4444444444444444,\"#bd3786\"],[0.5555555555555556,\"#d8576b\"],[0.6666666666666666,\"#ed7953\"],[0.7777777777777778,\"#fb9f3a\"],[0.8888888888888888,\"#fdca26\"],[1.0,\"#f0f921\"]],\"type\":\"heatmapgl\"}],\"heatmap\":[{\"colorbar\":{\"outlinewidth\":0,\"ticks\":\"\"},\"colorscale\":[[0.0,\"#0d0887\"],[0.1111111111111111,\"#46039f\"],[0.2222222222222222,\"#7201a8\"],[0.3333333333333333,\"#9c179e\"],[0.4444444444444444,\"#bd3786\"],[0.5555555555555556,\"#d8576b\"],[0.6666666666666666,\"#ed7953\"],[0.7777777777777778,\"#fb9f3a\"],[0.8888888888888888,\"#fdca26\"],[1.0,\"#f0f921\"]],\"type\":\"heatmap\"}],\"histogram2dcontour\":[{\"colorbar\":{\"outlinewidth\":0,\"ticks\":\"\"},\"colorscale\":[[0.0,\"#0d0887\"],[0.1111111111111111,\"#46039f\"],[0.2222222222222222,\"#7201a8\"],[0.3333333333333333,\"#9c179e\"],[0.4444444444444444,\"#bd3786\"],[0.5555555555555556,\"#d8576b\"],[0.6666666666666666,\"#ed7953\"],[0.7777777777777778,\"#fb9f3a\"],[0.8888888888888888,\"#fdca26\"],[1.0,\"#f0f921\"]],\"type\":\"histogram2dcontour\"}],\"histogram2d\":[{\"colorbar\":{\"outlinewidth\":0,\"ticks\":\"\"},\"colorscale\":[[0.0,\"#0d0887\"],[0.1111111111111111,\"#46039f\"],[0.2222222222222222,\"#7201a8\"],[0.3333333333333333,\"#9c179e\"],[0.4444444444444444,\"#bd3786\"],[0.5555555555555556,\"#d8576b\"],[0.6666666666666666,\"#ed7953\"],[0.7777777777777778,\"#fb9f3a\"],[0.8888888888888888,\"#fdca26\"],[1.0,\"#f0f921\"]],\"type\":\"histogram2d\"}],\"histogram\":[{\"marker\":{\"pattern\":{\"fillmode\":\"overlay\",\"size\":10,\"solidity\":0.2}},\"type\":\"histogram\"}],\"mesh3d\":[{\"colorbar\":{\"outlinewidth\":0,\"ticks\":\"\"},\"type\":\"mesh3d\"}],\"parcoords\":[{\"line\":{\"colorbar\":{\"outlinewidth\":0,\"ticks\":\"\"}},\"type\":\"parcoords\"}],\"pie\":[{\"automargin\":true,\"type\":\"pie\"}],\"scatter3d\":[{\"line\":{\"colorbar\":{\"outlinewidth\":0,\"ticks\":\"\"}},\"marker\":{\"colorbar\":{\"outlinewidth\":0,\"ticks\":\"\"}},\"type\":\"scatter3d\"}],\"scattercarpet\":[{\"marker\":{\"colorbar\":{\"outlinewidth\":0,\"ticks\":\"\"}},\"type\":\"scattercarpet\"}],\"scattergeo\":[{\"marker\":{\"colorbar\":{\"outlinewidth\":0,\"ticks\":\"\"}},\"type\":\"scattergeo\"}],\"scattergl\":[{\"marker\":{\"colorbar\":{\"outlinewidth\":0,\"ticks\":\"\"}},\"type\":\"scattergl\"}],\"scattermapbox\":[{\"marker\":{\"colorbar\":{\"outlinewidth\":0,\"ticks\":\"\"}},\"type\":\"scattermapbox\"}],\"scatterpolargl\":[{\"marker\":{\"colorbar\":{\"outlinewidth\":0,\"ticks\":\"\"}},\"type\":\"scatterpolargl\"}],\"scatterpolar\":[{\"marker\":{\"colorbar\":{\"outlinewidth\":0,\"ticks\":\"\"}},\"type\":\"scatterpolar\"}],\"scatter\":[{\"marker\":{\"colorbar\":{\"outlinewidth\":0,\"ticks\":\"\"}},\"type\":\"scatter\"}],\"scatterternary\":[{\"marker\":{\"colorbar\":{\"outlinewidth\":0,\"ticks\":\"\"}},\"type\":\"scatterternary\"}],\"surface\":[{\"colorbar\":{\"outlinewidth\":0,\"ticks\":\"\"},\"colorscale\":[[0.0,\"#0d0887\"],[0.1111111111111111,\"#46039f\"],[0.2222222222222222,\"#7201a8\"],[0.3333333333333333,\"#9c179e\"],[0.4444444444444444,\"#bd3786\"],[0.5555555555555556,\"#d8576b\"],[0.6666666666666666,\"#ed7953\"],[0.7777777777777778,\"#fb9f3a\"],[0.8888888888888888,\"#fdca26\"],[1.0,\"#f0f921\"]],\"type\":\"surface\"}],\"table\":[{\"cells\":{\"fill\":{\"color\":\"#EBF0F8\"},\"line\":{\"color\":\"white\"}},\"header\":{\"fill\":{\"color\":\"#C8D4E3\"},\"line\":{\"color\":\"white\"}},\"type\":\"table\"}]},\"layout\":{\"annotationdefaults\":{\"arrowcolor\":\"#2a3f5f\",\"arrowhead\":0,\"arrowwidth\":1},\"autotypenumbers\":\"strict\",\"coloraxis\":{\"colorbar\":{\"outlinewidth\":0,\"ticks\":\"\"}},\"colorscale\":{\"diverging\":[[0,\"#8e0152\"],[0.1,\"#c51b7d\"],[0.2,\"#de77ae\"],[0.3,\"#f1b6da\"],[0.4,\"#fde0ef\"],[0.5,\"#f7f7f7\"],[0.6,\"#e6f5d0\"],[0.7,\"#b8e186\"],[0.8,\"#7fbc41\"],[0.9,\"#4d9221\"],[1,\"#276419\"]],\"sequential\":[[0.0,\"#0d0887\"],[0.1111111111111111,\"#46039f\"],[0.2222222222222222,\"#7201a8\"],[0.3333333333333333,\"#9c179e\"],[0.4444444444444444,\"#bd3786\"],[0.5555555555555556,\"#d8576b\"],[0.6666666666666666,\"#ed7953\"],[0.7777777777777778,\"#fb9f3a\"],[0.8888888888888888,\"#fdca26\"],[1.0,\"#f0f921\"]],\"sequentialminus\":[[0.0,\"#0d0887\"],[0.1111111111111111,\"#46039f\"],[0.2222222222222222,\"#7201a8\"],[0.3333333333333333,\"#9c179e\"],[0.4444444444444444,\"#bd3786\"],[0.5555555555555556,\"#d8576b\"],[0.6666666666666666,\"#ed7953\"],[0.7777777777777778,\"#fb9f3a\"],[0.8888888888888888,\"#fdca26\"],[1.0,\"#f0f921\"]]},\"colorway\":[\"#636efa\",\"#EF553B\",\"#00cc96\",\"#ab63fa\",\"#FFA15A\",\"#19d3f3\",\"#FF6692\",\"#B6E880\",\"#FF97FF\",\"#FECB52\"],\"font\":{\"color\":\"#2a3f5f\"},\"geo\":{\"bgcolor\":\"white\",\"lakecolor\":\"white\",\"landcolor\":\"white\",\"showlakes\":true,\"showland\":true,\"subunitcolor\":\"#C8D4E3\"},\"hoverlabel\":{\"align\":\"left\"},\"hovermode\":\"closest\",\"mapbox\":{\"style\":\"light\"},\"paper_bgcolor\":\"white\",\"plot_bgcolor\":\"white\",\"polar\":{\"angularaxis\":{\"gridcolor\":\"#EBF0F8\",\"linecolor\":\"#EBF0F8\",\"ticks\":\"\"},\"bgcolor\":\"white\",\"radialaxis\":{\"gridcolor\":\"#EBF0F8\",\"linecolor\":\"#EBF0F8\",\"ticks\":\"\"}},\"scene\":{\"xaxis\":{\"backgroundcolor\":\"white\",\"gridcolor\":\"#DFE8F3\",\"gridwidth\":2,\"linecolor\":\"#EBF0F8\",\"showbackground\":true,\"ticks\":\"\",\"zerolinecolor\":\"#EBF0F8\"},\"yaxis\":{\"backgroundcolor\":\"white\",\"gridcolor\":\"#DFE8F3\",\"gridwidth\":2,\"linecolor\":\"#EBF0F8\",\"showbackground\":true,\"ticks\":\"\",\"zerolinecolor\":\"#EBF0F8\"},\"zaxis\":{\"backgroundcolor\":\"white\",\"gridcolor\":\"#DFE8F3\",\"gridwidth\":2,\"linecolor\":\"#EBF0F8\",\"showbackground\":true,\"ticks\":\"\",\"zerolinecolor\":\"#EBF0F8\"}},\"shapedefaults\":{\"line\":{\"color\":\"#2a3f5f\"}},\"ternary\":{\"aaxis\":{\"gridcolor\":\"#DFE8F3\",\"linecolor\":\"#A2B1C6\",\"ticks\":\"\"},\"baxis\":{\"gridcolor\":\"#DFE8F3\",\"linecolor\":\"#A2B1C6\",\"ticks\":\"\"},\"bgcolor\":\"white\",\"caxis\":{\"gridcolor\":\"#DFE8F3\",\"linecolor\":\"#A2B1C6\",\"ticks\":\"\"}},\"title\":{\"x\":0.05},\"xaxis\":{\"automargin\":true,\"gridcolor\":\"#EBF0F8\",\"linecolor\":\"#EBF0F8\",\"ticks\":\"\",\"title\":{\"standoff\":15},\"zerolinecolor\":\"#EBF0F8\",\"zerolinewidth\":2},\"yaxis\":{\"automargin\":true,\"gridcolor\":\"#EBF0F8\",\"linecolor\":\"#EBF0F8\",\"ticks\":\"\",\"title\":{\"standoff\":15},\"zerolinecolor\":\"#EBF0F8\",\"zerolinewidth\":2}}},\"xaxis\":{\"anchor\":\"y\",\"domain\":[0.0,0.175],\"showgrid\":true},\"yaxis\":{\"anchor\":\"x\",\"domain\":[0.6000000000000001,1.0],\"showgrid\":true},\"xaxis2\":{\"anchor\":\"y2\",\"domain\":[0.275,0.45],\"showgrid\":true},\"yaxis2\":{\"anchor\":\"x2\",\"domain\":[0.6000000000000001,1.0],\"showgrid\":true},\"xaxis3\":{\"anchor\":\"y3\",\"domain\":[0.55,0.7250000000000001],\"showgrid\":true},\"yaxis3\":{\"anchor\":\"x3\",\"domain\":[0.6000000000000001,1.0],\"showgrid\":true},\"xaxis4\":{\"anchor\":\"y4\",\"domain\":[0.825,1.0],\"showgrid\":true},\"yaxis4\":{\"anchor\":\"x4\",\"domain\":[0.6000000000000001,1.0],\"showgrid\":true},\"xaxis5\":{\"anchor\":\"y5\",\"domain\":[0.0,0.175],\"showgrid\":true},\"yaxis5\":{\"anchor\":\"x5\",\"domain\":[0.0,0.4],\"showgrid\":true},\"xaxis6\":{\"anchor\":\"y6\",\"domain\":[0.275,0.45],\"showgrid\":true},\"yaxis6\":{\"anchor\":\"x6\",\"domain\":[0.0,0.4],\"showgrid\":true},\"xaxis7\":{\"anchor\":\"y7\",\"domain\":[0.55,0.7250000000000001],\"showgrid\":true},\"yaxis7\":{\"anchor\":\"x7\",\"domain\":[0.0,0.4],\"showgrid\":true},\"xaxis8\":{\"anchor\":\"y8\",\"domain\":[0.825,1.0],\"showgrid\":true},\"yaxis8\":{\"anchor\":\"x8\",\"domain\":[0.0,0.4],\"showgrid\":true},\"annotations\":[{\"font\":{\"size\":16},\"showarrow\":false,\"text\":\"Topic 0\",\"x\":0.0875,\"xanchor\":\"center\",\"xref\":\"paper\",\"y\":1.0,\"yanchor\":\"bottom\",\"yref\":\"paper\"},{\"font\":{\"size\":16},\"showarrow\":false,\"text\":\"Topic 1\",\"x\":0.36250000000000004,\"xanchor\":\"center\",\"xref\":\"paper\",\"y\":1.0,\"yanchor\":\"bottom\",\"yref\":\"paper\"},{\"font\":{\"size\":16},\"showarrow\":false,\"text\":\"Topic 2\",\"x\":0.6375000000000001,\"xanchor\":\"center\",\"xref\":\"paper\",\"y\":1.0,\"yanchor\":\"bottom\",\"yref\":\"paper\"},{\"font\":{\"size\":16},\"showarrow\":false,\"text\":\"Topic 3\",\"x\":0.9125,\"xanchor\":\"center\",\"xref\":\"paper\",\"y\":1.0,\"yanchor\":\"bottom\",\"yref\":\"paper\"},{\"font\":{\"size\":16},\"showarrow\":false,\"text\":\"Topic 4\",\"x\":0.0875,\"xanchor\":\"center\",\"xref\":\"paper\",\"y\":0.4,\"yanchor\":\"bottom\",\"yref\":\"paper\"},{\"font\":{\"size\":16},\"showarrow\":false,\"text\":\"Topic 5\",\"x\":0.36250000000000004,\"xanchor\":\"center\",\"xref\":\"paper\",\"y\":0.4,\"yanchor\":\"bottom\",\"yref\":\"paper\"},{\"font\":{\"size\":16},\"showarrow\":false,\"text\":\"Topic 6\",\"x\":0.6375000000000001,\"xanchor\":\"center\",\"xref\":\"paper\",\"y\":0.4,\"yanchor\":\"bottom\",\"yref\":\"paper\"},{\"font\":{\"size\":16},\"showarrow\":false,\"text\":\"Topic 7\",\"x\":0.9125,\"xanchor\":\"center\",\"xref\":\"paper\",\"y\":0.4,\"yanchor\":\"bottom\",\"yref\":\"paper\"}],\"title\":{\"font\":{\"size\":22,\"color\":\"Black\"},\"text\":\"<b>Topic Word Scores\",\"x\":0.5,\"xanchor\":\"center\",\"yanchor\":\"top\"},\"hoverlabel\":{\"font\":{\"size\":16,\"family\":\"Rockwell\"},\"bgcolor\":\"white\"},\"showlegend\":false,\"width\":1000,\"height\":500},                        {\"responsive\": true}                    ).then(function(){\n",
              "                            \n",
              "var gd = document.getElementById('b06410d3-bb11-4f13-87a2-62820ad4aad9');\n",
              "var x = new MutationObserver(function (mutations, observer) {{\n",
              "        var display = window.getComputedStyle(gd).display;\n",
              "        if (!display || display === 'none') {{\n",
              "            console.log([gd, 'removed!']);\n",
              "            Plotly.purge(gd);\n",
              "            observer.disconnect();\n",
              "        }}\n",
              "}});\n",
              "\n",
              "// Listen for the removal of the full notebook cells\n",
              "var notebookContainer = gd.closest('#notebook-container');\n",
              "if (notebookContainer) {{\n",
              "    x.observe(notebookContainer, {childList: true});\n",
              "}}\n",
              "\n",
              "// Listen for the clearing of the current output cell\n",
              "var outputEl = gd.closest('.output');\n",
              "if (outputEl) {{\n",
              "    x.observe(outputEl, {childList: true});\n",
              "}}\n",
              "\n",
              "                        })                };                            </script>        </div>\n",
              "</body>\n",
              "</html>"
            ]
          },
          "metadata": {}
        }
      ]
    },
    {
      "cell_type": "markdown",
      "source": [
        "### **Visualize Topic Similarity**\n",
        "\n",
        "This plot shows a similarity matrix by simply applying cosine similarities through those topic embeddings generate by BERTopic through both c-TF-IDF and embeddings. This matrix indicate how similar certain topics are to each other."
      ],
      "metadata": {
        "id": "qMjOvmYVVUDX"
      }
    },
    {
      "cell_type": "code",
      "source": [
        "topic_model.visualize_heatmap(n_clusters=20, width=1000, height=1000)"
      ],
      "metadata": {
        "id": "_GL5qZ0nV3M2",
        "outputId": "36c1fed9-3414-4e62-f45d-b12e5906eadc",
        "colab": {
          "base_uri": "https://localhost:8080/",
          "height": 1000
        }
      },
      "execution_count": 169,
      "outputs": [
        {
          "output_type": "display_data",
          "data": {
            "text/html": [
              "<html>\n",
              "<head><meta charset=\"utf-8\" /></head>\n",
              "<body>\n",
              "    <div>            <script src=\"https://cdnjs.cloudflare.com/ajax/libs/mathjax/2.7.5/MathJax.js?config=TeX-AMS-MML_SVG\"></script><script type=\"text/javascript\">if (window.MathJax) {MathJax.Hub.Config({SVG: {font: \"STIX-Web\"}});}</script>                <script type=\"text/javascript\">window.PlotlyConfig = {MathJaxConfig: 'local'};</script>\n",
              "        <script src=\"https://cdn.plot.ly/plotly-2.8.3.min.js\"></script>                <div id=\"81d727d6-4e15-4598-b31e-791f83f57160\" class=\"plotly-graph-div\" style=\"height:1000px; width:1000px;\"></div>            <script type=\"text/javascript\">                                    window.PLOTLYENV=window.PLOTLYENV || {};                                    if (document.getElementById(\"81d727d6-4e15-4598-b31e-791f83f57160\")) {                    Plotly.newPlot(                        \"81d727d6-4e15-4598-b31e-791f83f57160\",                        [{\"coloraxis\":\"coloraxis\",\"name\":\"0\",\"x\":[\"0_amazon_prime_assinatura\",\"42_amazon_music_cart\\u00e3o\",\"1_entrega_atraso_prazo\",\"2_casas_bahia_entrega\",\"6_conta_senha_mail\",\"15_endere\\u00e7o_errado_pedido\",\"29_rastreio_c\\u00f3digo_rastream...\",\"31_taxon_taxada_shein\",\"33_celular_entrega_prazo\",\"67_nacionais_internacional_...\",\"68_status_data_entrega\",\"3_cancelamento_cancelar_ped...\",\"18_conta_bloqueada_suspensa\",\"25_cancelamento_cancelar_loja\",\"51_conta_cart\\u00e3o_fatura\",\"4_whatsapp_contato_entrega\",\"8_propaganda_enganosa_an\\u00fancio\",\"9_brasil_shein_aeroporto\",\"38_rob\\u00f4_falar_suporte\",\"41_reconhecimento_facial_ro...\",\"58_320_iphone_instagram\",\"5_samsung_celular_aparelho\",\"12_iphone_apple_aparelho\",\"60_monitor_tela_philco\",\"7_cart\\u00e3o_cr\\u00e9dito_pagamento\",\"24_mercado_pago_cr\\u00e9dito\",\"10_livre_mercado_vendedor\",\"13_pe\\u00e7a_quebrado_produto\",\"14_americana_lojas_site\",\"23_devolu\\u00e7\\u00e3o_c\\u00f3digo_devolver\",\"26_produtos_mercadoria_recebi\",\"34_ta\\u00e7as_oculos_comprei\",\"53_black_friday_promocional\",\"62_americana_lojas_instagram\",\"66_shein_encomenda_mercador...\",\"11_atendimento_loja_poi\",\"17_curitiba_parado_tr\\u00e2nsito\",\"19_jogo_lan\\u00e7amento_ragnarok\",\"39_entrega_10_feira\",\"40_entregue_recebi_consta\",\"45_shein_recebi_reembolso\",\"49_rodas_carrinho_magazine\",\"50_cupom_finalizar_americana\",\"55_chegou_insusseso_recebi\",\"61_cancelamento_endereco_site\",\"65_11_jogo_entrega\",\"69_remetente_voltou_pedido\",\"70_casa_tentativa_ningu\\u00e9m\",\"71_c\\u00f3digo_entregue_rastream...\",\"16_roupas_vestido_cal\\u00e7a\",\"54_vestido_vestidos_casamento\",\"20_geladeira_refrigerador_t...\",\"21_dinheiro_volta_quero\",\"36_dinheiro_paguei_disjunto...\",\"56_reembolso_devolvido_devo...\",\"59_reembolso_postagem_bota\",\"22_cashback_02_valor\",\"27_estorno_reembolso_valor\",\"35_reembolso_recebi_dinheiro\",\"47_pagamento_confirma\\u00e7\\u00e3o_bo...\",\"57_cart\\u00e3o_cancelada_cr\\u00e9dito\",\"28_t\\u00eanis_tenis_raquete\",\"37_pneu_pneus_capacete\",\"30_m\\u00e1quina_lavar_maquina\",\"46_perfume_falsificado_arom...\",\"32_bluetooth_fone_ouvido\",\"64_celular_smartphone_apare...\",\"72_celular_cart\\u00e3o_erro\",\"43_china_nacional_order\",\"63_mgqsk_shein_gshnqq20w001...\",\"44_cadeira_cama_gamer\",\"48_geladeira_entrega_casa\",\"52_sof\\u00e1_sofa_tecido\"],\"y\":[\"0_amazon_prime_assinatura\",\"42_amazon_music_cart\\u00e3o\",\"1_entrega_atraso_prazo\",\"2_casas_bahia_entrega\",\"6_conta_senha_mail\",\"15_endere\\u00e7o_errado_pedido\",\"29_rastreio_c\\u00f3digo_rastream...\",\"31_taxon_taxada_shein\",\"33_celular_entrega_prazo\",\"67_nacionais_internacional_...\",\"68_status_data_entrega\",\"3_cancelamento_cancelar_ped...\",\"18_conta_bloqueada_suspensa\",\"25_cancelamento_cancelar_loja\",\"51_conta_cart\\u00e3o_fatura\",\"4_whatsapp_contato_entrega\",\"8_propaganda_enganosa_an\\u00fancio\",\"9_brasil_shein_aeroporto\",\"38_rob\\u00f4_falar_suporte\",\"41_reconhecimento_facial_ro...\",\"58_320_iphone_instagram\",\"5_samsung_celular_aparelho\",\"12_iphone_apple_aparelho\",\"60_monitor_tela_philco\",\"7_cart\\u00e3o_cr\\u00e9dito_pagamento\",\"24_mercado_pago_cr\\u00e9dito\",\"10_livre_mercado_vendedor\",\"13_pe\\u00e7a_quebrado_produto\",\"14_americana_lojas_site\",\"23_devolu\\u00e7\\u00e3o_c\\u00f3digo_devolver\",\"26_produtos_mercadoria_recebi\",\"34_ta\\u00e7as_oculos_comprei\",\"53_black_friday_promocional\",\"62_americana_lojas_instagram\",\"66_shein_encomenda_mercador...\",\"11_atendimento_loja_poi\",\"17_curitiba_parado_tr\\u00e2nsito\",\"19_jogo_lan\\u00e7amento_ragnarok\",\"39_entrega_10_feira\",\"40_entregue_recebi_consta\",\"45_shein_recebi_reembolso\",\"49_rodas_carrinho_magazine\",\"50_cupom_finalizar_americana\",\"55_chegou_insusseso_recebi\",\"61_cancelamento_endereco_site\",\"65_11_jogo_entrega\",\"69_remetente_voltou_pedido\",\"70_casa_tentativa_ningu\\u00e9m\",\"71_c\\u00f3digo_entregue_rastream...\",\"16_roupas_vestido_cal\\u00e7a\",\"54_vestido_vestidos_casamento\",\"20_geladeira_refrigerador_t...\",\"21_dinheiro_volta_quero\",\"36_dinheiro_paguei_disjunto...\",\"56_reembolso_devolvido_devo...\",\"59_reembolso_postagem_bota\",\"22_cashback_02_valor\",\"27_estorno_reembolso_valor\",\"35_reembolso_recebi_dinheiro\",\"47_pagamento_confirma\\u00e7\\u00e3o_bo...\",\"57_cart\\u00e3o_cancelada_cr\\u00e9dito\",\"28_t\\u00eanis_tenis_raquete\",\"37_pneu_pneus_capacete\",\"30_m\\u00e1quina_lavar_maquina\",\"46_perfume_falsificado_arom...\",\"32_bluetooth_fone_ouvido\",\"64_celular_smartphone_apare...\",\"72_celular_cart\\u00e3o_erro\",\"43_china_nacional_order\",\"63_mgqsk_shein_gshnqq20w001...\",\"44_cadeira_cama_gamer\",\"48_geladeira_entrega_casa\",\"52_sof\\u00e1_sofa_tecido\"],\"z\":[[1.0000000000000004,0.9465334008535774,0.71624503504725,0.7913423029773589,0.7914080527681675,0.7660182246185764,0.7223501625689661,0.7447680305808767,0.720981351172846,0.7451645258606361,0.7792559365327996,0.7173345348667589,0.7499208701815965,0.7845326431971644,0.7831526877957351,0.6659985451356416,0.6954854035552505,0.7320278887669097,0.6539405091945895,0.6512470923349747,0.7164243157327685,0.49718751232367,0.6362309300857523,0.5163091226444636,0.74300143697681,0.7447705184081532,0.8263227576512113,0.7258834670933687,0.8018019226786308,0.7493591552326224,0.7812753426604842,0.7335435975015234,0.7328218787358078,0.7982471667760365,0.7727549269208758,0.8263883501529827,0.7395822308046884,0.7677438776785742,0.8184154352358718,0.7726305835990663,0.7628447650808913,0.7111239404154555,0.7636959975884535,0.7927368814802549,0.7820962402610421,0.7576230521559598,0.7374033232095846,0.753735255745777,0.7735634960065049,0.5202184180627039,0.5432940476997667,0.5564409316883511,0.7399720546477615,0.7506130492558105,0.7350078360767194,0.7501139285879014,0.6031524614360564,0.7260827637888401,0.7227472942226653,0.7641081355577436,0.7734570006355207,0.5339685779421088,0.47898133811821647,0.5157889617322744,0.5891580918889203,0.6542136948125509,0.6763923750080089,0.707986697090782,0.6550527917968123,0.6213053888868676,0.537037896414182,0.6730493065612676,0.4165476246434454],[0.9465334008535774,1.0000000000000004,0.7471073669991489,0.7978539766652022,0.8194473713590684,0.7860665857353828,0.7317126293090714,0.7537083895151089,0.7521914130457713,0.784301981292099,0.7856196631864969,0.7507254944078994,0.7960219484886184,0.8024859833375616,0.7973544699597322,0.6535488051170003,0.737081381570824,0.7372576914092519,0.6679374838341245,0.6545070393031476,0.7580830434739949,0.5145469437332373,0.634315927775357,0.5397853914947279,0.7200263989755902,0.7054541107409505,0.7956912489366548,0.7374024245729612,0.8161568928709335,0.7361808195757442,0.7727503735341702,0.7624761421215455,0.7589940290225331,0.8133132487263994,0.7587489782648695,0.8351768824481662,0.790344023811365,0.795437113291259,0.8101381758452124,0.8040313194566335,0.7812091189286213,0.7483416044690171,0.795952722260244,0.8089065060087388,0.8258434603373059,0.7995711766676319,0.7640072480449507,0.773077912060067,0.7868352002764644,0.5503098293971147,0.5975194677150985,0.5422014725715265,0.7448489210997931,0.7676829510424246,0.7436015651657869,0.7554897290847774,0.5840894825270367,0.6870039150545497,0.7094523282596741,0.7575253504321768,0.7812586268506618,0.5501627522995561,0.4673604633438736,0.4860983352142118,0.5714318870574865,0.6777582365621353,0.7016098326750886,0.7224821317799806,0.662870093381655,0.6109254920941697,0.6074587461436411,0.6740305762051535,0.44938532971322126],[0.71624503504725,0.7471073669991489,0.9999999999999991,0.804441781811132,0.8087170002878676,0.82731193931638,0.8134350310716358,0.7770949312372863,0.8729887717236232,0.8477014399589704,0.8940749610351122,0.8409655676430647,0.8417576888194035,0.8552899723970864,0.8049804515547215,0.7502907646567668,0.7444948294385392,0.7512106861837146,0.7616533488944922,0.697378342881612,0.7572520813795592,0.5471343780786722,0.5518964868953368,0.6202096863661218,0.6836652277737825,0.7183152381363964,0.8350468612284978,0.8112620723855394,0.7984046005735573,0.8270618309373836,0.8227978375204902,0.8350316179335979,0.8155610278601061,0.8088509725532924,0.8291103214805767,0.8610627867708054,0.9047099376811794,0.8641845440896844,0.9058204139393387,0.9075095441919667,0.8799597524121887,0.7972046075246128,0.8671760577999436,0.8905096648726873,0.8173658793356923,0.9210917408923208,0.8738194855005933,0.8554230577411553,0.8781369683970688,0.6241472099551091,0.6785848743987264,0.5472052685624822,0.838323383606207,0.8593289916897952,0.8400449903030844,0.8366240681098029,0.6438264978457663,0.7363166840954098,0.7870411979645183,0.8446543996936945,0.7830841899157922,0.5920987690055041,0.5609343240270683,0.6161704417348144,0.5693014335022466,0.7007122954811962,0.7567881219860387,0.7336565214456597,0.7032272405365296,0.7092957120022622,0.6513683036965952,0.7530410808018075,0.45278262793100144],[0.7913423029773589,0.7978539766652022,0.804441781811132,0.9999999999999996,0.8227540695870139,0.8592450261738103,0.7938743250289917,0.8134902547997139,0.784503648948942,0.8347476887134911,0.8300390577213417,0.761290117001268,0.8050845986791371,0.8224011226866086,0.7926164871368516,0.7030516460608753,0.7376009603067997,0.80226182202881,0.7342039546566446,0.699499236339441,0.742871897609505,0.5360740706668611,0.5529449914187029,0.5816503813823766,0.6789254664742408,0.7038494015751369,0.8470990267889645,0.8168348664807179,0.8614230349565881,0.800637002074875,0.8428885923738587,0.8461441742132307,0.7964661501922157,0.8624499611633154,0.8417215114224249,0.872316579583865,0.8490527303454878,0.821843207036732,0.8798899688452946,0.867352361769308,0.8459816507026605,0.8503146859331157,0.8648661665932902,0.8657017977956875,0.8364054486082595,0.8371004354081465,0.8429414186096919,0.876894314943599,0.8450938259384638,0.6916396821693382,0.7141986417199235,0.560903950156834,0.7915512413921509,0.831288578311046,0.8041033117550164,0.8005952074826578,0.600418836217093,0.6998222893933067,0.7300414889546037,0.7833747063084845,0.7479578679409256,0.5740832079913076,0.6056783421768878,0.6597869729379897,0.6422936607316259,0.7050929254956344,0.7242011042172709,0.7076819494656654,0.7483574353190267,0.6663730175686119,0.6688381788785999,0.7035720333951775,0.5435359552956885],[0.7914080527681675,0.8194473713590684,0.8087170002878676,0.8227540695870139,1.0000000000000004,0.8763926104408419,0.7843592245685016,0.7647416250953537,0.7873559544943113,0.7805285052448192,0.8447233606229011,0.7674771281514423,0.826998439444034,0.8066178515118294,0.8068887545729699,0.7712541601791167,0.7321918074440249,0.7327786893385252,0.7175755836850253,0.7142803573904538,0.7419092394379196,0.5765159421643079,0.6056797729435672,0.6211723194877308,0.6876380623177009,0.7187072602552682,0.8365829390276742,0.7329364558048097,0.804172459011105,0.7595092801722483,0.7864650192132177,0.8060399106908014,0.7355022648699516,0.8161025529417388,0.7959489525717802,0.8585755889802332,0.8324540436273485,0.817089435791147,0.8531684955416114,0.8661866400277839,0.8484369559526506,0.7741730169270864,0.8186118917725874,0.8491444427755883,0.831549948213449,0.8273499876124508,0.8370897902302918,0.8384795744933939,0.8403797444718843,0.5776132496104597,0.6316454759248608,0.5165901226289434,0.797060874137953,0.7971288304881117,0.8071355819799095,0.789511842162721,0.6334309162307248,0.713747466596677,0.7409500931450271,0.810627508402306,0.7535956161266979,0.552586995817495,0.4966561453318938,0.5781961868831661,0.6161211248946639,0.7343668124919225,0.7659862581572101,0.753502397380445,0.6587200578777551,0.6881650558034778,0.6223381852927823,0.6726388227669924,0.46329131595927114],[0.7660182246185764,0.7860665857353828,0.82731193931638,0.8592450261738103,0.8763926104408419,1.0000000000000002,0.8117650488815041,0.802581584503926,0.8100049818087015,0.8360411006131367,0.850734841518415,0.7898151565535588,0.8183753965180839,0.8279303586940985,0.7996181029229505,0.7532008471399143,0.7666244996903746,0.7544933412933212,0.7615599390727328,0.7182819581000596,0.7847509131001102,0.5489642184428805,0.5758556125758851,0.605193875555262,0.6706119734931512,0.6969625946979587,0.8440380618394658,0.8180506713272122,0.8476358113342786,0.7902373568948969,0.7937205215830249,0.8181127975632378,0.8043417239452245,0.8396516779026901,0.8065339494841727,0.8657812264031087,0.8563327484425494,0.8322242059830838,0.857628892417548,0.8872096640479804,0.8602256917627077,0.8399966062721231,0.8240882951212352,0.8663412525212977,0.8680417767353505,0.8619415843137659,0.8661600431830991,0.893176913058685,0.8671722816976735,0.630668119294457,0.6639928927512952,0.5166662995315041,0.7917471447767308,0.8011382762355526,0.7949116315711502,0.7973721084437284,0.5783658260155964,0.6761973259894,0.7258911978298977,0.7946537793965254,0.751004634924092,0.6214395830539401,0.5860196302092074,0.5900422274835914,0.5933798591321409,0.721032117697591,0.7497829759911716,0.7564284401689121,0.7102611456726899,0.7036281370739865,0.6658805746914767,0.6805070601669146,0.48612574453987395],[0.7223501625689661,0.7317126293090714,0.8134350310716358,0.7938743250289917,0.7843592245685016,0.8117650488815041,0.9999999999999999,0.840205025565278,0.7858756588084819,0.8209280253649096,0.8315954611753542,0.7388091137162062,0.8044792884978881,0.7929744657555742,0.7960922530761488,0.7002545360973353,0.7563131602247772,0.7305752637663173,0.739531662727235,0.7601072761471436,0.7705903081409212,0.5541283608647356,0.565521750176391,0.6915454779957532,0.6483717315011167,0.6518885447338371,0.8118124514681007,0.8160665809242286,0.7876999018182623,0.8765896321149813,0.8105285868045479,0.8287864172609438,0.7663889299388154,0.7938601599377798,0.8753860413761578,0.8329992024262873,0.8354670766412774,0.8667128550422509,0.8725319438542871,0.8478838478365087,0.8261717266958686,0.8013732675241951,0.8386938249875494,0.8783623891264913,0.8366867540159368,0.8456583533259674,0.8292530993032966,0.8463428747478436,0.9684491195849907,0.6736862362760418,0.7210262984434496,0.4757891462132571,0.7622263180771025,0.796292938260271,0.7923381736715184,0.8163306080434021,0.5698835535617298,0.6466475349872762,0.7041056127346803,0.7784225116535441,0.71803715592551,0.633296890651175,0.5853821091628392,0.6227579661627304,0.6437018458116652,0.7473467422014485,0.7323766562038676,0.7132899719172061,0.661594710151837,0.7809898727030784,0.6373548543659853,0.6363678054952141,0.4988681148251407],[0.7447680305808767,0.7537083895151089,0.7770949312372863,0.8134902547997139,0.7647416250953537,0.802581584503926,0.840205025565278,1.0,0.7619361663333717,0.8383026288836264,0.8266809530528494,0.7223196770202854,0.7719577952560794,0.7741214066245816,0.7447655286626911,0.6605590788828752,0.743241096890023,0.793711396017187,0.7236306310202976,0.7551765506786173,0.7545799731813558,0.5207170540774652,0.5565731587064748,0.5678346690882329,0.6394352708857419,0.6628129887774004,0.8140221180798584,0.7971681842895069,0.812212669083382,0.8206081441483017,0.8504911549229834,0.8535838584469463,0.7901426570134548,0.8042416865213122,0.8650983689832731,0.8487255192747972,0.8264943911408483,0.8393467639060662,0.8670127086348351,0.8423287868770186,0.8696682408352814,0.8012535687709994,0.8433130657122823,0.873463487566214,0.8522081950881265,0.8270606086932122,0.8462215576437393,0.7942045022742426,0.8586883866493573,0.7093007323344072,0.7534216559428667,0.5010383102751629,0.7723153358877992,0.8185405552645514,0.8003342946382505,0.8151433379749045,0.5630697005885908,0.6746722699114114,0.726126323226733,0.7668629843715307,0.7061362133677374,0.6352943553776804,0.5812365353857943,0.6077946767041964,0.7033312306459538,0.6801986056337219,0.6993153323170428,0.6783421428148388,0.6796673778223669,0.6885057662617924,0.6357599593042803,0.6419377962626808,0.5139469164787587],[0.720981351172846,0.7521914130457713,0.8729887717236232,0.784503648948942,0.7873559544943113,0.8100049818087015,0.7858756588084819,0.7619361663333717,0.9999999999999993,0.8693105246892996,0.8407803076611351,0.7525217221454523,0.7997392179703391,0.7914157577066514,0.7907929962676775,0.7604159184954846,0.7362806901560963,0.7075493031453068,0.7393726848341748,0.6885190713517552,0.8237723014592018,0.7317455711548084,0.6920999584153197,0.6729837230413557,0.6955621455757548,0.707155290841888,0.8250784941721974,0.7825475937498274,0.8097305080729187,0.8155922592104855,0.8017892706938629,0.8017236638428828,0.7954019093420867,0.8319226862609566,0.8208720548428936,0.8526940278107957,0.8398296658639613,0.847989267997641,0.8973946249927738,0.849968369049978,0.8136080939423203,0.7935991218240961,0.8214484703157865,0.8389695837660904,0.8121092898122446,0.9052915019726455,0.8209074613097815,0.839561291211002,0.8584209688844558,0.6701524422295851,0.6909116387103921,0.5145699012489614,0.7837222759869406,0.802442513969343,0.7779508771726578,0.7974161026064783,0.5734549668530824,0.6793342906244711,0.7270133124131601,0.7869749897488603,0.747314834109487,0.6167809352876078,0.5889257602496698,0.6219117193217216,0.5709408715830939,0.8091958349377867,0.9030600925144561,0.8814219905624254,0.6738732293900674,0.742196325573391,0.6486894629203428,0.7012747270365063,0.46938519318502964],[0.7451645258606361,0.784301981292099,0.8477014399589704,0.8347476887134911,0.7805285052448192,0.8360411006131367,0.8209280253649096,0.8383026288836264,0.8693105246892996,0.9999999999999998,0.8736231520864435,0.7685648438067508,0.818471471642523,0.8170817962991349,0.7875626878235411,0.6972274349798239,0.7924448827746442,0.7760344926949214,0.7147169963634796,0.7320924487597152,0.8372879953272312,0.5596542507496838,0.5773096935661729,0.6274483858420119,0.6714139907679477,0.7029686780489788,0.834768157574031,0.8253238599125767,0.8745200532155515,0.8431652079679852,0.8193676923648024,0.833849583741392,0.8141162616965747,0.8802596778912783,0.8234856834140916,0.8750108070583908,0.889606177489294,0.8625948731505557,0.8857491084534307,0.885003227297623,0.866196144730743,0.8251875037365659,0.8584465244993904,0.8760678526102593,0.8529703915021721,0.9011512204876573,0.8513152452942103,0.8460672008144957,0.8826650055550926,0.6838192271902057,0.7301359216987454,0.5055762767882228,0.8039439488812701,0.8333388053183721,0.8159833503891709,0.8450659144733288,0.5791267331558685,0.6951488269070696,0.7630014973164922,0.8068954782071782,0.7533988774379049,0.6434300981769998,0.6035660621494549,0.5956585352860628,0.6112948355188244,0.7332465216499031,0.7556711976899964,0.7376851080944015,0.7673685912281956,0.700923959469751,0.6605703699439295,0.6940998195442869,0.4907869003642392],[0.7792559365327996,0.7856196631864969,0.8940749610351122,0.8300390577213417,0.8447233606229011,0.850734841518415,0.8315954611753542,0.8266809530528494,0.8407803076611351,0.8736231520864435,1.0000000000000007,0.7905686614274993,0.8278343516032627,0.8457016129659285,0.8159602203393924,0.7483476359105807,0.7586284062878551,0.7428695602136876,0.7018050586902292,0.762220567055613,0.7740079746244447,0.5606213434089451,0.5717236835007549,0.6598842617503077,0.754441775487519,0.7913317157071924,0.8891615328551951,0.8458590350315759,0.8292041090054173,0.8572561674397852,0.831610353414791,0.8293455554187148,0.8265077232320975,0.8379464051749478,0.8565705773595406,0.8860809949295583,0.8748192699571236,0.8736617492004515,0.923530726098664,0.874949762159057,0.8837506764857364,0.7819873632006954,0.8415075743304457,0.8846148892527584,0.8328889964976263,0.8802918086515941,0.8743749729315443,0.85487544641368,0.8881817986694118,0.6335884577908659,0.7062149935495715,0.5131412043526947,0.841879662567508,0.8482334068189823,0.8467031722749718,0.866069676408852,0.6815858932801062,0.791926526137362,0.8271341611087322,0.8651774312347567,0.8062552573942622,0.600382942202903,0.5608631572460239,0.5871625690266586,0.5994832042511711,0.7141885470097691,0.7395630514566944,0.7687788816393241,0.7160839156513819,0.6944747179326737,0.6437739764020112,0.6957548606840726,0.4821410939585326],[0.7173345348667589,0.7507254944078994,0.8409655676430647,0.761290117001268,0.7674771281514423,0.7898151565535588,0.7388091137162062,0.7223196770202854,0.7525217221454523,0.7685648438067508,0.7905686614274993,1.0,0.8712176206066392,0.9705614177810833,0.8323914294803874,0.6834829643810335,0.7126295553097434,0.7179221987827595,0.7207062245406166,0.6435570082745563,0.7189747693998658,0.5235341459350942,0.5680669014302246,0.5690216381375407,0.6539077000136791,0.675157647937667,0.7885918142744268,0.7968601188736748,0.7600342956999673,0.7829451993710026,0.7643375703670201,0.778561264594359,0.7783109279877847,0.7728020871683234,0.7467772994679092,0.805020925198313,0.8601097866914567,0.8159708360068916,0.8092224926054477,0.8571775246561334,0.8289732923575532,0.7671156329366869,0.8284346204746698,0.8180201855179048,0.8537850651923227,0.8451745352776496,0.8292383803098315,0.8075000540323248,0.8040461483686585,0.5729418791912072,0.6147774767923211,0.553977521013532,0.7918263905139307,0.8041608505408708,0.817161706920857,0.8226568909511587,0.641106673268574,0.7527494032063915,0.7593952165439088,0.8158473933294272,0.8517602039108402,0.555794357007458,0.5300134380249439,0.5892901294751958,0.5597162360633016,0.6858026953013182,0.6988495931808059,0.6914555819152775,0.6348030641029317,0.616703848253137,0.6566815052642263,0.7058482878333001,0.4877310576179592],[0.7499208701815965,0.7960219484886184,0.8417576888194035,0.8050845986791371,0.826998439444034,0.8183753965180839,0.8044792884978881,0.7719577952560794,0.7997392179703391,0.818471471642523,0.8278343516032627,0.8712176206066392,1.0,0.8895563736871981,0.9108412797988827,0.6989436468277249,0.7934234882173026,0.733927599954184,0.7561055503429146,0.7130638402643161,0.792388371664208,0.5771885017972235,0.6036235197016933,0.6429154513451681,0.6984636999854295,0.7168009081069346,0.8519545092926875,0.8348267008734702,0.8134121227751929,0.8244837487816159,0.7997860139110892,0.8382545313056863,0.8112033048415708,0.8284870039756171,0.7994894615129592,0.8587958636886144,0.8937821923236382,0.8648552341850522,0.8535471809699962,0.8752717073816417,0.8467194930906159,0.8191873004766883,0.8595614930263784,0.857941574462232,0.8592183462490262,0.8794968732612012,0.8552341412953657,0.8532919000895542,0.8577572093739767,0.6358407428968309,0.6677059777560936,0.6117645385676813,0.8154293684448661,0.8392204036964228,0.8311039576079887,0.8411079491808241,0.6323047947392995,0.7392370889429899,0.7646830522303674,0.7918147059325273,0.8217775463974398,0.5869517547627573,0.5735163514259185,0.6203872423916567,0.601517206813387,0.724306020482292,0.7642974019364065,0.7511818585270488,0.693788674266092,0.6654503261723627,0.6875688190690926,0.752856550511021,0.4930753609125037],[0.7845326431971644,0.8024859833375616,0.8552899723970864,0.8224011226866086,0.8066178515118294,0.8279303586940985,0.7929744657555742,0.7741214066245816,0.7914157577066514,0.8170817962991349,0.8457016129659285,0.9705614177810833,0.8895563736871981,1.0,0.8653664705447828,0.7105274483252406,0.7710079890040926,0.748468254310198,0.7354926653177197,0.6828446011989842,0.7670605402703646,0.5501698361669828,0.5937426751852494,0.6146692397056827,0.7484540337724372,0.7784765725463725,0.8679526739390138,0.8403138897207634,0.835732847545047,0.8340572291319834,0.8222379411800183,0.8155145973348105,0.8412765840824838,0.8542695996775012,0.8144069471622588,0.8743739459881263,0.8778381168460963,0.8575771387086286,0.8623603789226095,0.8762507837919342,0.8722865237863475,0.8095395367876672,0.8740358653618066,0.8720115035372882,0.896275986933873,0.8694725058400854,0.8577933728071301,0.8486526297984153,0.8521471963133408,0.6412283651707258,0.677348792970071,0.5714844560403665,0.8553125724459647,0.8681160908243468,0.8633896788641996,0.8735534234799892,0.7166348850693437,0.8303115621095509,0.8248797366535249,0.8817769053801008,0.8942939709831729,0.5775946582442055,0.5616572202246521,0.6233639454948194,0.6203019335261039,0.7093976837140266,0.7337923116232651,0.7539786241503019,0.6830316112093302,0.6517843783355162,0.6863932604666975,0.7291421230090219,0.5161719135975962],[0.7831526877957351,0.7973544699597322,0.8049804515547215,0.7926164871368516,0.8068887545729699,0.7996181029229505,0.7960922530761488,0.7447655286626911,0.7907929962676775,0.7875626878235411,0.8159602203393924,0.8323914294803874,0.9108412797988827,0.8653664705447828,1.0000000000000013,0.6726757150146015,0.7352774044272079,0.737783606497556,0.7303804156598717,0.7012542444253022,0.7513130650785824,0.580302117774198,0.604571328522904,0.6312922376933265,0.8491538105994686,0.7877372944363148,0.825648457837335,0.7910106870445008,0.7865092993554543,0.8034358811475528,0.785122153003379,0.814175436435884,0.7806765388476787,0.803779590320732,0.807301130601893,0.8152776166147054,0.8441186489057433,0.8405024914988253,0.844714958919752,0.8462015920656687,0.8321968891506313,0.7886022859508333,0.843963372776922,0.8282481147193315,0.8177828534523199,0.8444556593903947,0.8352319396727956,0.8266646682009406,0.8466100260492766,0.6277664440715667,0.6575509364012286,0.5639640742172003,0.8308020515687629,0.8395918128649416,0.833561531957775,0.8308591626506154,0.6738121637216107,0.8073727382249107,0.7975115099649737,0.8429627674150006,0.9122865767791177,0.5893982147666378,0.596684951883546,0.5965690043893463,0.5724714577101807,0.7369663583919047,0.7419085406972294,0.8330098292865875,0.6977823463621382,0.6812890935101819,0.6902618799372985,0.7064382288758418,0.516278433022697],[0.6659985451356416,0.6535488051170003,0.7502907646567668,0.7030516460608753,0.7712541601791167,0.7532008471399143,0.7002545360973353,0.6605590788828752,0.7604159184954846,0.6972274349798239,0.7483476359105807,0.6834829643810335,0.6989436468277249,0.7105274483252406,0.6726757150146015,1.0,0.6811823541643328,0.6438071701869827,0.7067223207803252,0.6468774562553852,0.699447280019677,0.5845701638997225,0.5889137222055612,0.5612210117120594,0.5522381971308044,0.589529248889614,0.733905149806663,0.6925707278343213,0.7183641086411154,0.7226765655823839,0.7522462803916188,0.7112612393613301,0.6512730101081508,0.7320319111118028,0.7436472079899674,0.7673615317020438,0.7587381259913206,0.7550059008675141,0.77361100134086,0.7901650494356838,0.7451046747423412,0.7078395182702995,0.7321480306579958,0.7867084135213129,0.7347437366215483,0.7580844606762603,0.7444980174092541,0.7414764113140516,0.7579904557641587,0.5621338125949169,0.548548570785188,0.44538371053655335,0.7164687421780176,0.7323297311566432,0.713535459182146,0.718774331678754,0.547822921106452,0.5938265935231648,0.6481835741096442,0.7029070568228305,0.6220337127609612,0.5197134533551269,0.4836799213419777,0.5824456523913352,0.5596134726036791,0.7399858198187703,0.7543805485192685,0.6936811580023646,0.5576741789145776,0.6299862149810774,0.5560978327404508,0.59309095160121,0.4120384967472754],[0.6954854035552505,0.737081381570824,0.7444948294385392,0.7376009603067997,0.7321918074440249,0.7666244996903746,0.7563131602247772,0.743241096890023,0.7362806901560963,0.7924448827746442,0.7586284062878551,0.7126295553097434,0.7934234882173026,0.7710079890040926,0.7352774044272079,0.6811823541643328,0.9999999999999993,0.7080081209277745,0.6939896470889616,0.6878895592477718,0.8960653412385841,0.5580702817237864,0.5343967947624217,0.581692702795487,0.6046953307272711,0.6259980433025655,0.8127359596309054,0.7711040322662387,0.8231125345063406,0.7793271622417023,0.7964852686011644,0.7702467856911899,0.8026536407730216,0.8158662310212684,0.7596432503742934,0.8354624343070736,0.8088699447330177,0.7980722779473269,0.7897411545418596,0.7976802716131823,0.785138126456681,0.756507214301509,0.7995287494685818,0.81262167084149,0.8291046328683053,0.7962654933968897,0.7699506097085239,0.7734159462113452,0.7928065810506787,0.6246622093395754,0.6546922053869026,0.4809256495851403,0.7435979080706969,0.761698719723325,0.7502064675252524,0.7890809905746534,0.5316082161317133,0.6417241632598404,0.6966539194252996,0.7317767773296546,0.6928898204296889,0.5556946705602135,0.5022481152022029,0.5586633757961297,0.7357136251601638,0.6821348547046423,0.7147495173687765,0.7048334145824643,0.6601436230952342,0.5899026587218429,0.5709119058158442,0.626226613175935,0.4709863271363129],[0.7320278887669097,0.7372576914092519,0.7512106861837146,0.80226182202881,0.7327786893385252,0.7544933412933212,0.7305752637663173,0.793711396017187,0.7075493031453068,0.7760344926949214,0.7428695602136876,0.7179221987827595,0.733927599954184,0.748468254310198,0.737783606497556,0.6438071701869827,0.7080081209277745,0.9999999999999998,0.6856530963472498,0.6992139192529818,0.7004205449717009,0.5147277832194428,0.5219883192767243,0.523937189616542,0.6506065734565802,0.6327938165654929,0.7642623862972981,0.7352125157850188,0.7700858900032966,0.7243420463615561,0.7877623720512825,0.7880008555513895,0.7316156603033181,0.7635597803353992,0.7707157726133578,0.807065065008442,0.8010311663916297,0.7687736317813678,0.8018330697038246,0.8136001901486185,0.8056874281801503,0.7797624729912197,0.7922856845195674,0.8176538183985835,0.7842953849316533,0.7791216462928834,0.7961443294261558,0.7495298516750513,0.768491222394242,0.6196461456713891,0.6446212042076034,0.48687084883003967,0.7420983936279248,0.781829123905557,0.7674153289563488,0.7497109470969893,0.51022534633771,0.650413518934585,0.6822731403565193,0.7275287153226381,0.71520279815355,0.6201226682405562,0.5371337026738707,0.5862301993347274,0.643265433700749,0.6492862902155802,0.6740460246378042,0.661495885970169,0.7277410127781636,0.6061495785575199,0.6106714914096747,0.6225065145623462,0.4770047560239647],[0.6539405091945895,0.6679374838341245,0.7616533488944922,0.7342039546566446,0.7175755836850253,0.7615599390727328,0.739531662727235,0.7236306310202976,0.7393726848341748,0.7147169963634796,0.7018050586902292,0.7207062245406166,0.7561055503429146,0.7354926653177197,0.7303804156598717,0.7067223207803252,0.6939896470889616,0.6856530963472498,1.0,0.6987889525732875,0.6908766181064252,0.5697442031853317,0.5745958577007373,0.591521986598265,0.5457328234556222,0.5363112646398331,0.7458918181273396,0.7596951852779738,0.7406985441832488,0.7238905743711128,0.7769885143925896,0.7962352484628157,0.7037533070729373,0.7395478813264413,0.7329852470059837,0.7808245090139719,0.8042467168791794,0.8138143439301193,0.7846433616208179,0.826233078898365,0.7829097230073971,0.8251747888452107,0.8016685574857462,0.8005195714621011,0.828651996007705,0.8071912494955893,0.8020188471140971,0.8043028098421191,0.7860470604415448,0.6425805194905605,0.6361577107345547,0.523293854930653,0.7505334759103918,0.7677239875645452,0.7607977957224629,0.7356791159115565,0.5032106608391308,0.5835860384658247,0.6581736687717249,0.6769456308696498,0.6338036930573407,0.560950492754656,0.6308240772642163,0.6791258922824654,0.5717767153356085,0.7027068997422877,0.7514698349924862,0.6793350652221819,0.6059441158290381,0.6170115786684713,0.6750149910800102,0.6556530062335064,0.473128095209959],[0.6512470923349747,0.6545070393031476,0.697378342881612,0.699499236339441,0.7142803573904538,0.7182819581000596,0.7601072761471436,0.7551765506786173,0.6885190713517552,0.7320924487597152,0.762220567055613,0.6435570082745563,0.7130638402643161,0.6828446011989842,0.7012542444253022,0.6468774562553852,0.6878895592477718,0.6992139192529818,0.6987889525732875,1.0000000000000004,0.7326461658974048,0.5337743018179535,0.5203115920434312,0.6330903666433595,0.566693005430129,0.5511899357141241,0.6973466356314022,0.7276269906200012,0.6955166204642771,0.6955995340631105,0.725006979056032,0.7826064849217073,0.711370400840354,0.715001433249316,0.708967842340988,0.731804864622356,0.7729129768585482,0.7479798796945648,0.7580106721502224,0.7766599527713456,0.7533047625447977,0.7302837092784731,0.7732188096428478,0.7717018120915489,0.7596414455575895,0.741636981076081,0.7448931041202995,0.7440885504907966,0.7786403259139993,0.6204160318152372,0.6563200936176472,0.38383950375400633,0.7182000487897804,0.7281163174257264,0.7205874633383619,0.7286131106854029,0.5151191298538751,0.5727692263742046,0.6493186593155155,0.7050118581352774,0.6294000088949706,0.5527493323626927,0.5341574537227156,0.5388555791935525,0.6483275522955165,0.6849742664557286,0.7027519185301205,0.6586571972323971,0.6054891404725138,0.620708988407765,0.6335446642842939,0.5252801170297368,0.5350319654453742],[0.7164243157327685,0.7580830434739949,0.7572520813795592,0.742871897609505,0.7419092394379196,0.7847509131001102,0.7705903081409212,0.7545799731813558,0.8237723014592018,0.8372879953272312,0.7740079746244447,0.7189747693998658,0.792388371664208,0.7670605402703646,0.7513130650785824,0.699447280019677,0.8960653412385841,0.7004205449717009,0.6908766181064252,0.7326461658974048,1.0000000000000004,0.6361102821465241,0.7305380479534602,0.6184588107733415,0.6290013357228703,0.640368458042167,0.7930807512922865,0.7811421482393338,0.8246396876018236,0.780699611109571,0.7824386613385546,0.7947011347172767,0.82128120061372,0.8531539626431435,0.7697054159767021,0.830094325245608,0.8137982781629489,0.8099155327011782,0.8092578572627158,0.8043748349403721,0.7883378766842717,0.7611495702790635,0.7887761604865557,0.824535511234779,0.83296661398535,0.8177886981433199,0.7682365507663467,0.7974689388218908,0.8199680321186302,0.654218544006107,0.6757007165379985,0.4777491387766698,0.7295865450685338,0.7481126998827814,0.7243608643846063,0.7828101165927519,0.5087234845702041,0.6203521325762169,0.672957368617213,0.7360144379189884,0.7065332488780632,0.5881137996157727,0.5165881502807302,0.5681537144605673,0.6898223233312589,0.7495819629081844,0.802763670307584,0.7683191716390225,0.6423476531231553,0.6390026458404885,0.5971468106244071,0.6370209604877182,0.518732783034861],[0.49718751232367,0.5145469437332373,0.5471343780786722,0.5360740706668611,0.5765159421643079,0.5489642184428805,0.5541283608647356,0.5207170540774652,0.7317455711548084,0.5596542507496838,0.5606213434089451,0.5235341459350942,0.5771885017972235,0.5501698361669828,0.580302117774198,0.5845701638997225,0.5580702817237864,0.5147277832194428,0.5697442031853317,0.5337743018179535,0.6361102821465241,0.9999999999999998,0.7120121105192774,0.7185630350921457,0.49251279952861204,0.47299421009746107,0.5922015989856305,0.5921199202750949,0.5943678820050136,0.5614369490863933,0.5852917259713029,0.5598681887242,0.5588445493086744,0.5945322542540258,0.5484671141080208,0.6196601162010408,0.5717181693142721,0.6287328744334811,0.6326521910204006,0.5819845292091079,0.5368033269268385,0.6075229645071135,0.5749634113533717,0.5669322112908983,0.6073055668292219,0.5768506269383016,0.5459957161357641,0.5963086964263726,0.5964327523952024,0.44916724371864386,0.447022091185966,0.4417967083635632,0.5436778710621355,0.5468391168682395,0.5367736211029819,0.5362221664979792,0.3818962014152984,0.44974398923363657,0.4732628856614268,0.5144250607651746,0.5349707470212193,0.506405159349445,0.4649401962729174,0.545047752170015,0.43007402648431625,0.7158211094972358,0.8550099815190256,0.7804459072596326,0.5234662591115301,0.5772026231374409,0.48360122799546956,0.5246742660540078,0.36928364135210695],[0.6362309300857523,0.634315927775357,0.5518964868953368,0.5529449914187029,0.6056797729435672,0.5758556125758851,0.565521750176391,0.5565731587064748,0.6920999584153197,0.5773096935661729,0.5717236835007549,0.5680669014302246,0.6036235197016933,0.5937426751852494,0.604571328522904,0.5889137222055612,0.5343967947624217,0.5219883192767243,0.5745958577007373,0.5203115920434312,0.7305380479534602,0.7120121105192774,0.9999999999999997,0.5665086999992981,0.547316792492432,0.5106150358902749,0.6075492888034604,0.607443348114278,0.6338737668192944,0.5842458518440852,0.6439656826238805,0.6139965981335279,0.5613465683813016,0.6484944921245078,0.612293381449579,0.6371217820356136,0.5840689574799699,0.6347639523789388,0.6435239813389398,0.6039370661050641,0.5890714308795313,0.593299404994242,0.5936799976331082,0.6268059376174213,0.6014028255723798,0.6064836884621035,0.5657562226069474,0.6023943998168586,0.6148597462710522,0.47666472495203327,0.4489113141054518,0.4418794649432344,0.5512769076980827,0.5728618730323742,0.5446060698103612,0.5551946578058117,0.3882679839820282,0.48975385709132874,0.4961018560169725,0.5379616977691724,0.5858157087374549,0.4974705179707512,0.40995671834132286,0.5226269274117545,0.4358373619809668,0.6982705445180577,0.7973755078487197,0.7335835555270072,0.487840514408992,0.4905974032191144,0.48690716074730234,0.5278066344890109,0.3823897111630208],[0.5163091226444636,0.5397853914947279,0.6202096863661218,0.5816503813823766,0.6211723194877308,0.605193875555262,0.6915454779957532,0.5678346690882329,0.6729837230413557,0.6274483858420119,0.6598842617503077,0.5690216381375407,0.6429154513451681,0.6146692397056827,0.6312922376933265,0.5612210117120594,0.581692702795487,0.523937189616542,0.591521986598265,0.6330903666433595,0.6184588107733415,0.7185630350921457,0.5665086999992981,1.0000000000000002,0.5129992413903408,0.4903200239368255,0.6178061504509856,0.6337704604012326,0.6234798677446677,0.596910040026933,0.6006248248970676,0.6593297184231236,0.6170053589861311,0.6293554133958335,0.6247808510457051,0.6552890997580478,0.6468182346802256,0.7049559056387132,0.6821495930140022,0.6253740370959674,0.5971161737360551,0.6612072517438188,0.6491977510182919,0.6505483451604867,0.6565211266181338,0.6334550519319124,0.6156117519987971,0.6789821832568536,0.6920152894839043,0.5076244413056406,0.55055721980123,0.4565094505469301,0.5794002487455765,0.5926616876604762,0.5882943510319057,0.5800240882057635,0.4406501115825685,0.4779009642489292,0.5253587062074471,0.5909689322829416,0.5535614307269258,0.5429907433312182,0.485788477034985,0.5857063833018471,0.41507808813129254,0.6787677529960434,0.6959566701335899,0.6483890339020361,0.5608572617577484,0.6275125038928036,0.603275902698628,0.5699974512624643,0.5396090256822481],[0.74300143697681,0.7200263989755902,0.6836652277737825,0.6789254664742408,0.6876380623177009,0.6706119734931512,0.6483717315011167,0.6394352708857419,0.6955621455757548,0.6714139907679477,0.754441775487519,0.6539077000136791,0.6984636999854295,0.7484540337724372,0.8491538105994686,0.5522381971308044,0.6046953307272711,0.6506065734565802,0.5457328234556222,0.566693005430129,0.6290013357228703,0.49251279952861204,0.547316792492432,0.5129992413903408,1.0000000000000002,0.9231030003115397,0.7890632432126483,0.6894009870277191,0.7119801258397213,0.6979245296459953,0.7204012347372323,0.6851338498523343,0.7374388394640231,0.7418435613694082,0.758768061438478,0.7526103232727109,0.6611552041167401,0.7056429271944915,0.7574911527317233,0.689130341441254,0.7383668652081811,0.6422391777236898,0.7164382431870973,0.7330811260186679,0.6577889601618551,0.6899541401792193,0.6973226457319013,0.6906441479736822,0.7124024350090521,0.5617163974468137,0.5810129272357166,0.4728000456820217,0.7831260275979403,0.7786177855067555,0.7422142028822897,0.7262578926927341,0.7007541965615325,0.8740802092577329,0.7869182203982082,0.8284063250627073,0.9327060172686723,0.5261572952365031,0.47709415487575363,0.48726648159991237,0.5057623330260205,0.6007039892050574,0.6253210916622549,0.8227253569164384,0.6291074812407688,0.5700692048750695,0.5540099674359212,0.5938676807321146,0.41016130741581425],[0.7447705184081532,0.7054541107409505,0.7183152381363964,0.7038494015751369,0.7187072602552682,0.6969625946979587,0.6518885447338371,0.6628129887774004,0.707155290841888,0.7029686780489788,0.7913317157071924,0.675157647937667,0.7168009081069346,0.7784765725463725,0.7877372944363148,0.589529248889614,0.6259980433025655,0.6327938165654929,0.5363112646398331,0.5511899357141241,0.640368458042167,0.47299421009746107,0.5106150358902749,0.4903200239368255,0.9231030003115397,1.0000000000000004,0.8532138297695717,0.7120160728792371,0.727637138927903,0.7547059921262517,0.7250273579327471,0.6942339708877101,0.7585243583537464,0.7644318895120226,0.7499466214791364,0.7957380074551456,0.674767656626798,0.7029417319977457,0.7775072848850734,0.7110312972822507,0.7590324260649024,0.6424893600662709,0.7272762914301665,0.7376916424184972,0.6709301737564343,0.7076894308742944,0.7098761027312097,0.7067807466279423,0.7262934684565148,0.540228663630244,0.5631960997753279,0.47177071418802363,0.8327875329678547,0.8160880355440394,0.7813355742555905,0.7625158791269981,0.7779737580454924,0.9138794060930342,0.8398826760000531,0.8625900425724398,0.8922869995144425,0.4951971698454043,0.4454956161677814,0.5051423691034402,0.4898829048246338,0.5756733665231831,0.6180365016748467,0.7745336739202623,0.6184157421460695,0.5660065615486966,0.5183111327514236,0.6026958631070948,0.39324942663114204],[0.8263227576512113,0.7956912489366548,0.8350468612284978,0.8470990267889645,0.8365829390276742,0.8440380618394658,0.8118124514681007,0.8140221180798584,0.8250784941721974,0.834768157574031,0.8891615328551951,0.7885918142744268,0.8519545092926875,0.8679526739390138,0.825648457837335,0.733905149806663,0.8127359596309054,0.7642623862972981,0.7458918181273396,0.6973466356314022,0.7930807512922865,0.5922015989856305,0.6075492888034604,0.6178061504509856,0.7890632432126483,0.8532138297695717,1.0000000000000004,0.866574809969129,0.8883013846064602,0.88519470348094,0.9037384380375434,0.8547723472985211,0.8715965683611202,0.8906672501451909,0.8898871390783251,0.9570168936742284,0.834008855389505,0.8715147957930809,0.9274273318598941,0.8576952949239692,0.8660509877859719,0.8154697481422065,0.8694044641905551,0.8922764856299525,0.8605986346210868,0.8551716233178337,0.8516374782452911,0.8560267206606753,0.8695884974978341,0.6526392688719953,0.6789145461069617,0.5896748909777776,0.8520905037894461,0.8663668088301071,0.8465515594442582,0.8601792174477927,0.6880538536897136,0.8225902259825556,0.8206566166544449,0.8433330143536872,0.8187057409091607,0.6294968278409602,0.5745309504075001,0.6469721397779273,0.7029800463599422,0.7259423780294771,0.7729697504976554,0.7887604704249848,0.7001811853874201,0.6902822637285849,0.6419067070458232,0.7309594631058243,0.46152452286745094],[0.7258834670933687,0.7374024245729612,0.8112620723855394,0.8168348664807179,0.7329364558048097,0.8180506713272122,0.8160665809242286,0.7971681842895069,0.7825475937498274,0.8253238599125767,0.8458590350315759,0.7968601188736748,0.8348267008734702,0.8403138897207634,0.7910106870445008,0.6925707278343213,0.7711040322662387,0.7352125157850188,0.7596951852779738,0.7276269906200012,0.7811421482393338,0.5921199202750949,0.607443348114278,0.6337704604012326,0.6894009870277191,0.7120160728792371,0.866574809969129,0.9999999999999998,0.8286768219694559,0.8895004987568316,0.8873986111853676,0.8725532782574381,0.8258382741602623,0.8447284255099896,0.8564243238878166,0.8786210253052398,0.8616685286223593,0.8630998375536263,0.8790510951105599,0.8664653488620431,0.867139653211446,0.843438579660098,0.8690355896289736,0.8905078923522503,0.843586791640985,0.8562750650645053,0.863917253408386,0.8855020599419066,0.8687112409698199,0.7123451159690648,0.7160446420665851,0.5683393725423568,0.8353184869657215,0.8577541362588619,0.8592807014197944,0.8731616115165508,0.6234236911678124,0.7379636072927422,0.7804523847489141,0.7812106864346925,0.7887017133256393,0.6458588062713644,0.631978238559563,0.6923320643916846,0.6669832577498397,0.7336834668896239,0.735919870054434,0.7390284848918922,0.6553308620428293,0.6561048076588526,0.682588207586,0.6981012097504508,0.5395367682060803],[0.8018019226786308,0.8161568928709335,0.7984046005735573,0.8614230349565881,0.804172459011105,0.8476358113342786,0.7876999018182623,0.812212669083382,0.8097305080729187,0.8745200532155515,0.8292041090054173,0.7600342956999673,0.8134121227751929,0.835732847545047,0.7865092993554543,0.7183641086411154,0.8231125345063406,0.7700858900032966,0.7406985441832488,0.6955166204642771,0.8246396876018236,0.5943678820050136,0.6338737668192944,0.6234798677446677,0.7119801258397213,0.727637138927903,0.8883013846064602,0.8286768219694559,1.0000000000000002,0.8053717273542896,0.8851059231705907,0.846981302463186,0.8565126297839559,0.9491447869716709,0.8534280748626071,0.9233009889561266,0.8458872530584413,0.8585210414516713,0.878422397105237,0.864906600074068,0.8578403525053093,0.8395820839183403,0.8801250750972437,0.8966292298686618,0.8589627465711502,0.8493940345798177,0.8298331449687262,0.8489037010179161,0.8438042599239194,0.7088822232148464,0.7178134978008397,0.5683711106253213,0.8127000514849368,0.8540388614830342,0.7938550469851874,0.7996420372712358,0.615455668663286,0.7235716958941859,0.754139966083426,0.7827302770221005,0.7593578584019259,0.6238710355631458,0.5951165619660796,0.6420826685831478,0.6756511195439102,0.7209037397776559,0.7670704098557417,0.7400215788838822,0.7325415224355081,0.6327186958406501,0.6576135559735437,0.7258390318095076,0.4935958615020667],[0.7493591552326224,0.7361808195757442,0.8270618309373836,0.800637002074875,0.7595092801722483,0.7902373568948969,0.8765896321149813,0.8206081441483017,0.8155922592104855,0.8431652079679852,0.8572561674397852,0.7829451993710026,0.8244837487816159,0.8340572291319834,0.8034358811475528,0.7226765655823839,0.7793271622417023,0.7243420463615561,0.7238905743711128,0.6955995340631105,0.780699611109571,0.5614369490863933,0.5842458518440852,0.596910040026933,0.6979245296459953,0.7547059921262517,0.88519470348094,0.8895004987568316,0.8053717273542896,0.9999999999999996,0.8568262419349961,0.8309351053165759,0.7865218372157858,0.8287543947467804,0.8760646083193488,0.8740557744945889,0.832635568905626,0.8527261469162584,0.8978960261229918,0.8510408542935661,0.8440775891631175,0.7889312912589359,0.8476067389366065,0.8706638008094556,0.8280455244072231,0.863605129099691,0.837982601975342,0.8436728274914023,0.9190240530752533,0.66861394271934,0.6914186827602404,0.5232392025453682,0.8188935930043708,0.8341329790732275,0.8398290389040961,0.9124768861360666,0.6173439780930797,0.7572421287360214,0.7825544864735663,0.8112729716538727,0.7796646860663833,0.6067891039881675,0.5780136797436961,0.6717452724537765,0.6694475026164883,0.7404971299461252,0.7303841229118743,0.738164984342188,0.6411313704939438,0.6797403811824703,0.6248249882335278,0.6729027265309656,0.47356105471623244],[0.7812753426604842,0.7727503735341702,0.8227978375204902,0.8428885923738587,0.7864650192132177,0.7937205215830249,0.8105285868045479,0.8504911549229834,0.8017892706938629,0.8193676923648024,0.831610353414791,0.7643375703670201,0.7997860139110892,0.8222379411800183,0.785122153003379,0.7522462803916188,0.7964852686011644,0.7877623720512825,0.7769885143925896,0.725006979056032,0.7824386613385546,0.5852917259713029,0.6439656826238805,0.6006248248970676,0.7204012347372323,0.7250273579327471,0.9037384380375434,0.8873986111853676,0.8851059231705907,0.8568262419349961,1.0000000000000002,0.9126153192135065,0.8578396152188866,0.8843815021804899,0.9469897095453921,0.9416040026030732,0.8570799609174518,0.8799563225918856,0.9230559906240575,0.8869449851632463,0.8920028219034641,0.8462140720555815,0.9070250639106987,0.9368238766154273,0.8474571821797399,0.8615702387038521,0.8554311678376306,0.8375397123786918,0.8663875968752222,0.7708325046485942,0.7659388228828139,0.6064486665727006,0.8449945308359863,0.897319805940124,0.8518343660733958,0.8204227174367467,0.6160412901283511,0.7417342611723718,0.7775419889820795,0.7827582864255853,0.7700495095833733,0.6683953232325021,0.6134258218247626,0.7210948951939993,0.7996030472781055,0.747869197775693,0.7714690757021345,0.7368077351465724,0.692477623451491,0.6552168430593883,0.6690174675827033,0.730763901655751,0.518805038468847],[0.7335435975015234,0.7624761421215455,0.8350316179335979,0.8461441742132307,0.8060399106908014,0.8181127975632378,0.8287864172609438,0.8535838584469463,0.8017236638428828,0.833849583741392,0.8293455554187148,0.778561264594359,0.8382545313056863,0.8155145973348105,0.814175436435884,0.7112612393613301,0.7702467856911899,0.7880008555513895,0.7962352484628157,0.7826064849217073,0.7947011347172767,0.5598681887242,0.6139965981335279,0.6593297184231236,0.6851338498523343,0.6942339708877101,0.8547723472985211,0.8725532782574381,0.846981302463186,0.8309351053165759,0.9126153192135065,1.0,0.8420171813297033,0.8588905659762851,0.8805622464961862,0.9022545014485657,0.8921193937255261,0.8869450832583212,0.8946071613302646,0.9149997707072117,0.9019820478141798,0.8675477905601765,0.9196583928399852,0.9199500233744079,0.8644144190928454,0.8914478594861602,0.8904343220578801,0.8794015269055679,0.881501013530759,0.7540483429741253,0.7696969874566497,0.5668601057055392,0.8384737674574588,0.879747048522799,0.8616830232514845,0.8325068561894191,0.5864461242592782,0.7019483568564769,0.764977058145041,0.7844356179316357,0.7628029393085222,0.6692117664798802,0.5970528708535096,0.7010537093518874,0.7249404575816126,0.7580111175529258,0.7593379982237035,0.7164783787843825,0.7152565503667362,0.7033972079193636,0.6816499219556871,0.710031469763566,0.5546336523424675],[0.7328218787358078,0.7589940290225331,0.8155610278601061,0.7964661501922157,0.7355022648699516,0.8043417239452245,0.7663889299388154,0.7901426570134548,0.7954019093420867,0.8141162616965747,0.8265077232320975,0.7783109279877847,0.8112033048415708,0.8412765840824838,0.7806765388476787,0.6512730101081508,0.8026536407730216,0.7316156603033181,0.7037533070729373,0.711370400840354,0.82128120061372,0.5588445493086744,0.5613465683813016,0.6170053589861311,0.7374388394640231,0.7585243583537464,0.8715965683611202,0.8258382741602623,0.8565126297839559,0.7865218372157858,0.8578396152188866,0.8420171813297033,0.9999999999999999,0.8547652077365206,0.8281815391276738,0.8927725687058109,0.8488557921116916,0.841872797941869,0.8595695603776662,0.8423670018831892,0.8434580662081419,0.804267637060533,0.8649262393844596,0.8708503314858413,0.8391279331516965,0.846822674694208,0.8189737722775904,0.8182261437197909,0.8204282079742433,0.6932283419985672,0.7147852399078687,0.5718450402448751,0.8249931020079759,0.853326168227336,0.801860420959976,0.7867194583148029,0.6299522858816117,0.745337816077686,0.7677831045752341,0.7921019816557623,0.7851099392105572,0.6363740795402169,0.5679602257817091,0.6207091424065156,0.6726712375375677,0.7125582727086895,0.7286115323025397,0.7216732067716125,0.6857470470566842,0.6539005220756829,0.622330977214346,0.7194096100300851,0.4840486414748354],[0.7982471667760365,0.8133132487263994,0.8088509725532924,0.8624499611633154,0.8161025529417388,0.8396516779026901,0.7938601599377798,0.8042416865213122,0.8319226862609566,0.8802596778912783,0.8379464051749478,0.7728020871683234,0.8284870039756171,0.8542695996775012,0.803779590320732,0.7320319111118028,0.8158662310212684,0.7635597803353992,0.7395478813264413,0.715001433249316,0.8531539626431435,0.5945322542540258,0.6484944921245078,0.6293554133958335,0.7418435613694082,0.7644318895120226,0.8906672501451909,0.8447284255099896,0.9491447869716709,0.8287543947467804,0.8843815021804899,0.8588905659762851,0.8547652077365206,1.0,0.8625711053676209,0.9247914182276098,0.864107319938761,0.8529062823435881,0.8942929390868357,0.8751018992713386,0.873558852087591,0.8566808305085518,0.8932652738286548,0.9103881476543321,0.8663960280339711,0.8606937579417707,0.8450187274426597,0.8622696769964866,0.8617654007255967,0.7468906340655818,0.7389175139801039,0.6040601834971422,0.8492767118169409,0.8790688902217869,0.8432757009129943,0.8367656632182405,0.6589628758679188,0.7569804903975719,0.7853209719930272,0.8266248845632246,0.7853755195367347,0.6138311065340887,0.6279160985813269,0.687597868785095,0.7182211125560438,0.7369865021388734,0.7847928398556333,0.7652542212735391,0.7213761336512745,0.6530745387036541,0.6844421934782194,0.7489829469113725,0.49339908112751696],[0.7727549269208758,0.7587489782648695,0.8291103214805767,0.8417215114224249,0.7959489525717802,0.8065339494841727,0.8753860413761578,0.8650983689832731,0.8208720548428936,0.8234856834140916,0.8565705773595406,0.7467772994679092,0.7994894615129592,0.8144069471622588,0.807301130601893,0.7436472079899674,0.7596432503742934,0.7707157726133578,0.7329852470059837,0.708967842340988,0.7697054159767021,0.5484671141080208,0.612293381449579,0.6247808510457051,0.758768061438478,0.7499466214791364,0.8898871390783251,0.8564243238878166,0.8534280748626071,0.8760646083193488,0.9469897095453921,0.8805622464961862,0.8281815391276738,0.8625711053676209,0.9999999999999998,0.9102611278140313,0.8317814938012296,0.8611020504446811,0.9348609147923543,0.853036626354192,0.8808112544066351,0.8204882651724043,0.8689266074692168,0.9232910319110135,0.8250524079750325,0.853949405419457,0.8465501609332609,0.8477734054922488,0.9087923462402318,0.7885020802979454,0.8026529399732588,0.5531946190903236,0.8029033504708334,0.8633485307330115,0.814472774651702,0.8156207668288535,0.6084619067932503,0.7447142142415489,0.7562264267222256,0.8093838807125864,0.7776886993133649,0.6609651905597694,0.6143631203280407,0.7112993005962397,0.7590819295084259,0.745736438890651,0.7434751117885482,0.7530272014585384,0.6974523900350987,0.7217862756290215,0.6485602245314936,0.6962536613764856,0.5066447970344645],[0.8263883501529827,0.8351768824481662,0.8610627867708054,0.872316579583865,0.8585755889802332,0.8657812264031087,0.8329992024262873,0.8487255192747972,0.8526940278107957,0.8750108070583908,0.8860809949295583,0.805020925198313,0.8587958636886144,0.8743739459881263,0.8152776166147054,0.7673615317020438,0.8354624343070736,0.807065065008442,0.7808245090139719,0.731804864622356,0.830094325245608,0.6196601162010408,0.6371217820356136,0.6552890997580478,0.7526103232727109,0.7957380074551456,0.9570168936742284,0.8786210253052398,0.9233009889561266,0.8740557744945889,0.9416040026030732,0.9022545014485657,0.8927725687058109,0.9247914182276098,0.9102611278140313,1.0,0.887906655409898,0.9025361427650824,0.9375649022130771,0.9083155050309761,0.8984451813064418,0.8762752999836985,0.9114930929368814,0.9407647178960279,0.9109314506807354,0.893630253231743,0.8767895046344966,0.878250296028322,0.8922541061408182,0.7269197711556461,0.7533724543519638,0.6054187360628469,0.8657572653849873,0.9033367961001126,0.8575074806288134,0.8516475388003611,0.6453819260242314,0.7734596372005602,0.8043524928841594,0.8333769852026491,0.8029750443114008,0.6480946371146414,0.5846738493727553,0.6834785591571224,0.7413373848928806,0.7487575901982348,0.8046847668655239,0.778326532370212,0.7229307483538695,0.6985173600577564,0.6800825870755045,0.7541877852036488,0.5017249642550986],[0.7395822308046884,0.790344023811365,0.9047099376811794,0.8490527303454878,0.8324540436273485,0.8563327484425494,0.8354670766412774,0.8264943911408483,0.8398296658639613,0.889606177489294,0.8748192699571236,0.8601097866914567,0.8937821923236382,0.8778381168460963,0.8441186489057433,0.7587381259913206,0.8088699447330177,0.8010311663916297,0.8042467168791794,0.7729129768585482,0.8137982781629489,0.5717181693142721,0.5840689574799699,0.6468182346802256,0.6611552041167401,0.674767656626798,0.834008855389505,0.8616685286223593,0.8458872530584413,0.832635568905626,0.8570799609174518,0.8921193937255261,0.8488557921116916,0.864107319938761,0.8317814938012296,0.887906655409898,1.0,0.89474038452637,0.8935979114223462,0.9540003276488137,0.9167923477868238,0.9005805258839227,0.9238099520034532,0.9321457801182667,0.8865002696880491,0.9318418698938689,0.9243245765303127,0.883098187659977,0.8966814946416366,0.7081380606881494,0.7445201189404685,0.5616909553641869,0.8806186792446032,0.8952497099883172,0.8930385833946793,0.8643921781986215,0.629603706445853,0.7088670951340906,0.7967045826048604,0.8206031794944038,0.7862816437170692,0.6501073060342182,0.6678820813737784,0.6610601982557054,0.6623489629807482,0.7625663993216675,0.7840353107648985,0.737498088937059,0.7442361732825353,0.7071261760752998,0.705859204095482,0.7389127045302353,0.5295927928770697],[0.7677438776785742,0.795437113291259,0.8641845440896844,0.821843207036732,0.817089435791147,0.8322242059830838,0.8667128550422509,0.8393467639060662,0.847989267997641,0.8625948731505557,0.8736617492004515,0.8159708360068916,0.8648552341850522,0.8575771387086286,0.8405024914988253,0.7550059008675141,0.7980722779473269,0.7687736317813678,0.8138143439301193,0.7479798796945648,0.8099155327011782,0.6287328744334811,0.6347639523789388,0.7049559056387132,0.7056429271944915,0.7029417319977457,0.8715147957930809,0.8630998375536263,0.8585210414516713,0.8527261469162584,0.8799563225918856,0.8869450832583212,0.841872797941869,0.8529062823435881,0.8611020504446811,0.9025361427650824,0.89474038452637,0.9999999999999984,0.9137864994902403,0.9125991275409604,0.8846240021492953,0.8377365657694078,0.9016648753649315,0.9110555909643898,0.9057397129499252,0.9239687445795659,0.8804241054205879,0.8815758792462538,0.9079339393110782,0.6842260101107854,0.7186002892986572,0.5732388334429308,0.8334065015753775,0.8605093853933178,0.8551480206790123,0.8576309441621384,0.6080552632996835,0.7203184978024476,0.7775494057135235,0.8100221006845444,0.7895269509308953,0.7205492668958428,0.609660989770866,0.6475626140720683,0.6362917844358079,0.763648135668731,0.8015346283361924,0.7768643418343681,0.7118419655952535,0.7368383134506911,0.7125601280356684,0.7364760994305383,0.5666932484806239],[0.8184154352358718,0.8101381758452124,0.9058204139393387,0.8798899688452946,0.8531684955416114,0.857628892417548,0.8725319438542871,0.8670127086348351,0.8973946249927738,0.8857491084534307,0.923530726098664,0.8092224926054477,0.8535471809699962,0.8623603789226095,0.844714958919752,0.77361100134086,0.7897411545418596,0.8018330697038246,0.7846433616208179,0.7580106721502224,0.8092578572627158,0.6326521910204006,0.6435239813389398,0.6821495930140022,0.7574911527317233,0.7775072848850734,0.9274273318598941,0.8790510951105599,0.878422397105237,0.8978960261229918,0.9230559906240575,0.8946071613302646,0.8595695603776662,0.8942929390868357,0.9348609147923543,0.9375649022130771,0.8935979114223462,0.9137864994902403,0.9999999999999996,0.9190213918128209,0.9058840088923589,0.8495702106829794,0.8999287744554993,0.931491127822097,0.8750199863758605,0.9315818964020997,0.8943350880913985,0.899383096358216,0.9301547729285664,0.7046075939768763,0.7392032408908317,0.5972484092117178,0.85290162946703,0.8884436853801971,0.8714953604165345,0.8681170316657425,0.6449915174826029,0.7788507866458239,0.8119984680852446,0.8597934049076836,0.8087723276138772,0.6677977513360618,0.6313405655041072,0.723009599641702,0.6858856491464735,0.7765306212711518,0.8171838348798538,0.8042716806147111,0.7459864921958362,0.7620513813162182,0.6717633735998902,0.7657994835613238,0.4911992993927605],[0.7726305835990663,0.8040313194566335,0.9075095441919667,0.867352361769308,0.8661866400277839,0.8872096640479804,0.8478838478365087,0.8423287868770186,0.849968369049978,0.885003227297623,0.874949762159057,0.8571775246561334,0.8752717073816417,0.8762507837919342,0.8462015920656687,0.7901650494356838,0.7976802716131823,0.8136001901486185,0.826233078898365,0.7766599527713456,0.8043748349403721,0.5819845292091079,0.6039370661050641,0.6253740370959674,0.689130341441254,0.7110312972822507,0.8576952949239692,0.8664653488620431,0.864906600074068,0.8510408542935661,0.8869449851632463,0.9149997707072117,0.8423670018831892,0.8751018992713386,0.853036626354192,0.9083155050309761,0.9540003276488137,0.9125991275409604,0.9190213918128209,1.0,0.9443664446648248,0.8887323403084528,0.9346317804501174,0.9531925618592438,0.8883317956284893,0.950816441320653,0.9434059525507693,0.9069297915761257,0.9239462427523892,0.7086577807239477,0.7386627443392038,0.5726271263636866,0.9075616214211083,0.9223842032466796,0.9164501596129508,0.8860246023912228,0.6397944016182053,0.748109213586608,0.8387877792003939,0.8492636167594771,0.8043395467899412,0.6505308251232926,0.6278050764718726,0.6741178446133907,0.6640900292596964,0.7660633773377544,0.8018085692634024,0.7580188712236096,0.7362965153482858,0.7165691316005176,0.6905037782338467,0.74793115236553,0.5120991823625995],[0.7628447650808913,0.7812091189286213,0.8799597524121887,0.8459816507026605,0.8484369559526506,0.8602256917627077,0.8261717266958686,0.8696682408352814,0.8136080939423203,0.866196144730743,0.8837506764857364,0.8289732923575532,0.8467194930906159,0.8722865237863475,0.8321968891506313,0.7451046747423412,0.785138126456681,0.8056874281801503,0.7829097230073971,0.7533047625447977,0.7883378766842717,0.5368033269268385,0.5890714308795313,0.5971161737360551,0.7383668652081811,0.7590324260649024,0.8660509877859719,0.867139653211446,0.8578403525053093,0.8440775891631175,0.8920028219034641,0.9019820478141798,0.8434580662081419,0.873558852087591,0.8808112544066351,0.8984451813064418,0.9167923477868238,0.8846240021492953,0.9058840088923589,0.9443664446648248,1.0000000000000004,0.8490220998481492,0.9094009721528555,0.9468215643738259,0.8612472968779115,0.9070698777788669,0.9511124399664322,0.8790929465261776,0.8928974426341725,0.7160627267357426,0.7542219613830234,0.5347639321562039,0.9259705627649547,0.92584773157524,0.9345035145802405,0.9043965765521259,0.7173464372034692,0.8227146659819284,0.8935228296827998,0.8821697911087754,0.8199788695868369,0.6271962486115363,0.6022827188100865,0.6389563380213665,0.6855443210036816,0.7212090314120385,0.7535350513953707,0.7526738056737599,0.7324744284111444,0.686176635710358,0.663955459934187,0.7062313941181632,0.5223901823819473],[0.7111239404154555,0.7483416044690171,0.7972046075246128,0.8503146859331157,0.7741730169270864,0.8399966062721231,0.8013732675241951,0.8012535687709994,0.7935991218240961,0.8251875037365659,0.7819873632006954,0.7671156329366869,0.8191873004766883,0.8095395367876672,0.7886022859508333,0.7078395182702995,0.756507214301509,0.7797624729912197,0.8251747888452107,0.7302837092784731,0.7611495702790635,0.6075229645071135,0.593299404994242,0.6612072517438188,0.6422391777236898,0.6424893600662709,0.8154697481422065,0.843438579660098,0.8395820839183403,0.7889312912589359,0.8462140720555815,0.8675477905601765,0.804267637060533,0.8566808305085518,0.8204882651724043,0.8762752999836985,0.9005805258839227,0.8377365657694078,0.8495702106829794,0.8887323403084528,0.8490220998481492,1.0,0.8778510331810647,0.884407954720858,0.8800301445070994,0.8498628634658979,0.8692933926478762,0.8606175346577887,0.8540115602039363,0.778114395407527,0.757607105271075,0.5560598634800131,0.8236274854941437,0.8554560725661922,0.8216165398616555,0.7974191639462631,0.5828212208591046,0.6461729749082398,0.7199621613425179,0.7474745745373854,0.7245755798159845,0.6788848892496432,0.7813701461764642,0.6923581729464175,0.6496916530617611,0.7348309496459634,0.7685081946075838,0.72252346962673,0.7131154652507323,0.6811905521259299,0.7788816446165101,0.696661960453077,0.5721388103071695],[0.7636959975884535,0.795952722260244,0.8671760577999436,0.8648661665932902,0.8186118917725874,0.8240882951212352,0.8386938249875494,0.8433130657122823,0.8214484703157865,0.8584465244993904,0.8415075743304457,0.8284346204746698,0.8595614930263784,0.8740358653618066,0.843963372776922,0.7321480306579958,0.7995287494685818,0.7922856845195674,0.8016685574857462,0.7732188096428478,0.7887761604865557,0.5749634113533717,0.5936799976331082,0.6491977510182919,0.7164382431870973,0.7272762914301665,0.8694044641905551,0.8690355896289736,0.8801250750972437,0.8476067389366065,0.9070250639106987,0.9196583928399852,0.8649262393844596,0.8932652738286548,0.8689266074692168,0.9114930929368814,0.9238099520034532,0.9016648753649315,0.8999287744554993,0.9346317804501174,0.9094009721528555,0.8778510331810647,1.0000000000000004,0.9350995171399406,0.8763499489302906,0.9079470192237811,0.8944724155949437,0.8807918824995133,0.8926836736379861,0.7290472384832816,0.7372960521298381,0.5964956257988654,0.8986200160589922,0.923167125222198,0.9011267782787873,0.8595343524164456,0.6708463284233391,0.7545256275051749,0.8156775519338682,0.8297150299535179,0.8116167410469206,0.6257943357117371,0.6186430831341689,0.6870791228676658,0.6996103409844279,0.7640032661274831,0.7757201302451212,0.7486013100948414,0.7356426211005012,0.7116674956868982,0.713782724271084,0.7494882299098199,0.5487037083189297],[0.7927368814802549,0.8089065060087388,0.8905096648726873,0.8657017977956875,0.8491444427755883,0.8663412525212977,0.8783623891264913,0.873463487566214,0.8389695837660904,0.8760678526102593,0.8846148892527584,0.8180201855179048,0.857941574462232,0.8720115035372882,0.8282481147193315,0.7867084135213129,0.81262167084149,0.8176538183985835,0.8005195714621011,0.7717018120915489,0.824535511234779,0.5669322112908983,0.6268059376174213,0.6505483451604867,0.7330811260186679,0.7376916424184972,0.8922764856299525,0.8905078923522503,0.8966292298686618,0.8706638008094556,0.9368238766154273,0.9199500233744079,0.8708503314858413,0.9103881476543321,0.9232910319110135,0.9407647178960279,0.9321457801182667,0.9110555909643898,0.931491127822097,0.9531925618592438,0.9468215643738259,0.884407954720858,0.9350995171399406,1.0000000000000009,0.8865519342294352,0.9203923414282931,0.9253052418073693,0.8913774340466041,0.9276345228993643,0.7626308017666859,0.7854835970079279,0.5864028986606437,0.8933461195392148,0.9237414488651194,0.897007325475417,0.8814583100998212,0.6487471683847138,0.7580970602245125,0.8228714466401577,0.8472515387948691,0.8040172266028844,0.6581804252429325,0.6256817388831442,0.6883718376111887,0.7348837144720501,0.7590764149851752,0.7879067604111692,0.7531984676425432,0.7244939464170161,0.7246545508858244,0.6935046964222429,0.7492717958819961,0.5333526451584659],[0.7820962402610421,0.8258434603373059,0.8173658793356923,0.8364054486082595,0.831549948213449,0.8680417767353505,0.8366867540159368,0.8522081950881265,0.8121092898122446,0.8529703915021721,0.8328889964976263,0.8537850651923227,0.8592183462490262,0.896275986933873,0.8177828534523199,0.7347437366215483,0.8291046328683053,0.7842953849316533,0.828651996007705,0.7596414455575895,0.83296661398535,0.6073055668292219,0.6014028255723798,0.6565211266181338,0.6577889601618551,0.6709301737564343,0.8605986346210868,0.843586791640985,0.8589627465711502,0.8280455244072231,0.8474571821797399,0.8644144190928454,0.8391279331516965,0.8663960280339711,0.8250524079750325,0.9109314506807354,0.8865002696880491,0.9057397129499252,0.8750199863758605,0.8883317956284893,0.8612472968779115,0.8800301445070994,0.8763499489302906,0.8865519342294352,1.0000000000000009,0.8773536626556019,0.8651260427376474,0.8572185200636283,0.8746284803667252,0.7073308233168474,0.7405737897034348,0.5476503060296085,0.8004438499973303,0.8312685247501188,0.8209136737780367,0.8407302132781802,0.5770658224862536,0.6787737231188462,0.7322912682868996,0.8002606310558934,0.7725016144467737,0.6428448665880228,0.5973119806117793,0.6506138657979845,0.6922534740542113,0.7382569648531813,0.7721403142539682,0.7432808001007263,0.6949093671810824,0.6926577180141686,0.7176922018046809,0.700097438700712,0.5595578755118525],[0.7576230521559598,0.7995711766676319,0.9210917408923208,0.8371004354081465,0.8273499876124508,0.8619415843137659,0.8456583533259674,0.8270606086932122,0.9052915019726455,0.9011512204876573,0.8802918086515941,0.8451745352776496,0.8794968732612012,0.8694725058400854,0.8444556593903947,0.7580844606762603,0.7962654933968897,0.7791216462928834,0.8071912494955893,0.741636981076081,0.8177886981433199,0.5768506269383016,0.6064836884621035,0.6334550519319124,0.6899541401792193,0.7076894308742944,0.8551716233178337,0.8562750650645053,0.8493940345798177,0.863605129099691,0.8615702387038521,0.8914478594861602,0.846822674694208,0.8606937579417707,0.853949405419457,0.893630253231743,0.9318418698938689,0.9239687445795659,0.9315818964020997,0.950816441320653,0.9070698777788669,0.8498628634658979,0.9079470192237811,0.9203923414282931,0.8773536626556019,1.0000000000000002,0.9101153317328121,0.8966876235182358,0.9168440529601627,0.6864621860293589,0.7209246547453171,0.5484922535653644,0.8626833876939813,0.884368466991615,0.8747070936589632,0.8764860837864206,0.6202897410866306,0.7316472310007807,0.8054037068847106,0.8331746973770893,0.7940349334296557,0.6625373260571192,0.6083583646899678,0.6555990701667117,0.6054807168440268,0.7496503118799239,0.7974698335764695,0.7673078382584428,0.715978520090616,0.7232792741963778,0.6881679843802558,0.738760249712261,0.4907439498059505],[0.7374033232095846,0.7640072480449507,0.8738194855005933,0.8429414186096919,0.8370897902302918,0.8661600431830991,0.8292530993032966,0.8462215576437393,0.8209074613097815,0.8513152452942103,0.8743749729315443,0.8292383803098315,0.8552341412953657,0.8577933728071301,0.8352319396727956,0.7444980174092541,0.7699506097085239,0.7961443294261558,0.8020188471140971,0.7448931041202995,0.7682365507663467,0.5459957161357641,0.5657562226069474,0.6156117519987971,0.6973226457319013,0.7098761027312097,0.8516374782452911,0.863917253408386,0.8298331449687262,0.837982601975342,0.8554311678376306,0.8904343220578801,0.8189737722775904,0.8450187274426597,0.8465501609332609,0.8767895046344966,0.9243245765303127,0.8804241054205879,0.8943350880913985,0.9434059525507693,0.9511124399664322,0.8692933926478762,0.8944724155949437,0.9253052418073693,0.8651260427376474,0.9101153317328121,1.0000000000000002,0.8807923578733589,0.8975280729503188,0.6909200958029014,0.7304525938295282,0.5413390704702766,0.9037704648063287,0.894805198621558,0.947725896576373,0.922100207553188,0.7168386774737837,0.797480699617752,0.8867825649907107,0.8481180107058354,0.7929101775831999,0.6402036184084906,0.6224201308993725,0.6585125112933126,0.651347237387756,0.7279402573421196,0.7599248613636489,0.7514658584156619,0.706697021496812,0.7036595018462397,0.6770526301176484,0.7095914941412665,0.5206038321733342],[0.753735255745777,0.773077912060067,0.8554230577411553,0.876894314943599,0.8384795744933939,0.893176913058685,0.8463428747478436,0.7942045022742426,0.839561291211002,0.8460672008144957,0.85487544641368,0.8075000540323248,0.8532919000895542,0.8486526297984153,0.8266646682009406,0.7414764113140516,0.7734159462113452,0.7495298516750513,0.8043028098421191,0.7440885504907966,0.7974689388218908,0.5963086964263726,0.6023943998168586,0.6789821832568536,0.6906441479736822,0.7067807466279423,0.8560267206606753,0.8855020599419066,0.8489037010179161,0.8436728274914023,0.8375397123786918,0.8794015269055679,0.8182261437197909,0.8622696769964866,0.8477734054922488,0.878250296028322,0.883098187659977,0.8815758792462538,0.899383096358216,0.9069297915761257,0.8790929465261776,0.8606175346577887,0.8807918824995133,0.8913774340466041,0.8572185200636283,0.8966876235182358,0.8807923578733589,1.0000000000000007,0.902887138646065,0.6830009909465016,0.7011474428726492,0.5829693790288812,0.8252145930299409,0.8456594158725543,0.8395269688814935,0.8432330788476171,0.6084600200569324,0.7068405090512467,0.7572834996525581,0.8169180850759913,0.779548386839093,0.6404672698497531,0.6246614106480735,0.6767426477341754,0.6158698463164104,0.7740649552388091,0.7955949856810002,0.7834259436080473,0.7109303847011258,0.722718653307217,0.6977286876908756,0.7445833742482592,0.5407117405622346],[0.7735634960065049,0.7868352002764644,0.8781369683970688,0.8450938259384638,0.8403797444718843,0.8671722816976735,0.9684491195849907,0.8586883866493573,0.8584209688844558,0.8826650055550926,0.8881817986694118,0.8040461483686585,0.8577572093739767,0.8521471963133408,0.8466100260492766,0.7579904557641587,0.7928065810506787,0.768491222394242,0.7860470604415448,0.7786403259139993,0.8199680321186302,0.5964327523952024,0.6148597462710522,0.6920152894839043,0.7124024350090521,0.7262934684565148,0.8695884974978341,0.8687112409698199,0.8438042599239194,0.9190240530752533,0.8663875968752222,0.881501013530759,0.8204282079742433,0.8617654007255967,0.9087923462402318,0.8922541061408182,0.8966814946416366,0.9079339393110782,0.9301547729285664,0.9239462427523892,0.8928974426341725,0.8540115602039363,0.8926836736379861,0.9276345228993643,0.8746284803667252,0.9168440529601627,0.8975280729503188,0.902887138646065,1.0000000000000002,0.7184353724535955,0.7537851505311721,0.5408848190959944,0.8459175149337259,0.8685669995342464,0.8669191145175089,0.8821834273197013,0.6333200118592734,0.7305525496447065,0.7943160669595613,0.8434338621585311,0.7872210462198999,0.6582765914258424,0.6248818399389053,0.6771448265884217,0.6599370479707052,0.7805867384944452,0.7923465433321324,0.780084028491975,0.6996657532905095,0.7802126809285117,0.678304277856241,0.7134354277576587,0.5120902161539769],[0.5202184180627039,0.5503098293971147,0.6241472099551091,0.6916396821693382,0.5776132496104597,0.630668119294457,0.6736862362760418,0.7093007323344072,0.6701524422295851,0.6838192271902057,0.6335884577908659,0.5729418791912072,0.6358407428968309,0.6412283651707258,0.6277664440715667,0.5621338125949169,0.6246622093395754,0.6196461456713891,0.6425805194905605,0.6204160318152372,0.654218544006107,0.44916724371864386,0.47666472495203327,0.5076244413056406,0.5617163974468137,0.540228663630244,0.6526392688719953,0.7123451159690648,0.7088822232148464,0.66861394271934,0.7708325046485942,0.7540483429741253,0.6932283419985672,0.7468906340655818,0.7885020802979454,0.7269197711556461,0.7081380606881494,0.6842260101107854,0.7046075939768763,0.7086577807239477,0.7160627267357426,0.778114395407527,0.7290472384832816,0.7626308017666859,0.7073308233168474,0.6864621860293589,0.6909200958029014,0.6830009909465016,0.7184353724535955,1.0000000000000004,0.9216753448403185,0.45023834980100685,0.6777714312307342,0.7599754668193446,0.6629577282285716,0.650940156176676,0.45799050913825423,0.536586547010451,0.5839145810721589,0.6122288661246621,0.5876249603480853,0.557229112676803,0.6253877857825174,0.6885468967178828,0.6842786398230277,0.5886676887734551,0.6192823095630577,0.5948844928156627,0.571509619507808,0.508082461206535,0.6663802117063486,0.5581130596062739,0.5208796458499197],[0.5432940476997667,0.5975194677150985,0.6785848743987264,0.7141986417199235,0.6316454759248608,0.6639928927512952,0.7210262984434496,0.7534216559428667,0.6909116387103921,0.7301359216987454,0.7062149935495715,0.6147774767923211,0.6677059777560936,0.677348792970071,0.6575509364012286,0.548548570785188,0.6546922053869026,0.6446212042076034,0.6361577107345547,0.6563200936176472,0.6757007165379985,0.447022091185966,0.4489113141054518,0.55055721980123,0.5810129272357166,0.5631960997753279,0.6789145461069617,0.7160446420665851,0.7178134978008397,0.6914186827602404,0.7659388228828139,0.7696969874566497,0.7147852399078687,0.7389175139801039,0.8026529399732588,0.7533724543519638,0.7445201189404685,0.7186002892986572,0.7392032408908317,0.7386627443392038,0.7542219613830234,0.757607105271075,0.7372960521298381,0.7854835970079279,0.7405737897034348,0.7209246547453171,0.7304525938295282,0.7011474428726492,0.7537851505311721,0.9216753448403185,1.0000000000000004,0.4187727442736686,0.693086264662136,0.761067295158097,0.6851334462201234,0.6804097633096341,0.47552465274917305,0.565651684836463,0.6192321665388083,0.6627186844003318,0.6177846071370836,0.5445804315580514,0.550648267280802,0.6324498049638664,0.7001058230296391,0.5920180099850207,0.6167086899824921,0.6047798837153652,0.6100566624724882,0.5373068287679689,0.6480748680011592,0.5534262720361758,0.5170015817884043],[0.5564409316883511,0.5422014725715265,0.5472052685624822,0.560903950156834,0.5165901226289434,0.5166662995315041,0.4757891462132571,0.5010383102751629,0.5145699012489614,0.5055762767882228,0.5131412043526947,0.553977521013532,0.6117645385676813,0.5714844560403665,0.5639640742172003,0.44538371053655335,0.4809256495851403,0.48687084883003967,0.523293854930653,0.38383950375400633,0.4777491387766698,0.4417967083635632,0.4418794649432344,0.4565094505469301,0.4728000456820217,0.47177071418802363,0.5896748909777776,0.5683393725423568,0.5683711106253213,0.5232392025453682,0.6064486665727006,0.5668601057055392,0.5718450402448751,0.6040601834971422,0.5531946190903236,0.6054187360628469,0.5616909553641869,0.5732388334429308,0.5972484092117178,0.5726271263636866,0.5347639321562039,0.5560598634800131,0.5964956257988654,0.5864028986606437,0.5476503060296085,0.5484922535653644,0.5413390704702766,0.5829693790288812,0.5408848190959944,0.45023834980100685,0.4187727442736686,1.0000000000000004,0.5125181333680188,0.55478488671398,0.5548241475059542,0.5244668042774416,0.44174515737977127,0.4677565357874198,0.4780727417993068,0.5037690651920548,0.5319129884945376,0.37907816454360016,0.3424652687671865,0.5830008077551244,0.4721316625237493,0.45989296269070834,0.5134334897648853,0.46206309614949514,0.4688036292972776,0.4415086927902113,0.479217149796594,0.9519145611287857,0.3675374457653539],[0.7399720546477615,0.7448489210997931,0.838323383606207,0.7915512413921509,0.797060874137953,0.7917471447767308,0.7622263180771025,0.7723153358877992,0.7837222759869406,0.8039439488812701,0.841879662567508,0.7918263905139307,0.8154293684448661,0.8553125724459647,0.8308020515687629,0.7164687421780176,0.7435979080706969,0.7420983936279248,0.7505334759103918,0.7182000487897804,0.7295865450685338,0.5436778710621355,0.5512769076980827,0.5794002487455765,0.7831260275979403,0.8327875329678547,0.8520905037894461,0.8353184869657215,0.8127000514849368,0.8188935930043708,0.8449945308359863,0.8384737674574588,0.8249931020079759,0.8492767118169409,0.8029033504708334,0.8657572653849873,0.8806186792446032,0.8334065015753775,0.85290162946703,0.9075616214211083,0.9259705627649547,0.8236274854941437,0.8986200160589922,0.8933461195392148,0.8004438499973303,0.8626833876939813,0.9037704648063287,0.8252145930299409,0.8459175149337259,0.6777714312307342,0.693086264662136,0.5125181333680188,0.9999999999999993,0.964017452202667,0.9599701861584597,0.8895214359308379,0.811887458934553,0.8878232233487272,0.9490862651073678,0.8916586460531841,0.8450786470939331,0.5736839434429284,0.6001248205067589,0.6234259535018912,0.6237883233413626,0.7002071047605976,0.7375636648307846,0.7708474463315654,0.6810182477928513,0.6358819685911198,0.648233290142376,0.6748857214688821,0.5033895136824897],[0.7506130492558105,0.7676829510424246,0.8593289916897952,0.831288578311046,0.7971288304881117,0.8011382762355526,0.796292938260271,0.8185405552645514,0.802442513969343,0.8333388053183721,0.8482334068189823,0.8041608505408708,0.8392204036964228,0.8681160908243468,0.8395918128649416,0.7323297311566432,0.761698719723325,0.781829123905557,0.7677239875645452,0.7281163174257264,0.7481126998827814,0.5468391168682395,0.5728618730323742,0.5926616876604762,0.7786177855067555,0.8160880355440394,0.8663668088301071,0.8577541362588619,0.8540388614830342,0.8341329790732275,0.897319805940124,0.879747048522799,0.853326168227336,0.8790688902217869,0.8633485307330115,0.9033367961001126,0.8952497099883172,0.8605093853933178,0.8884436853801971,0.9223842032466796,0.92584773157524,0.8554560725661922,0.923167125222198,0.9237414488651194,0.8312685247501188,0.884368466991615,0.894805198621558,0.8456594158725543,0.8685669995342464,0.7599754668193446,0.761067295158097,0.55478488671398,0.964017452202667,1.0000000000000009,0.9374770978698292,0.8741883553161818,0.7444519914012435,0.8563145639976795,0.8996531792662861,0.8786826955061756,0.8415057982535301,0.6085339699848992,0.6231885787958209,0.6684540432398229,0.6652909888889735,0.7146646901254097,0.7505312428248863,0.7615842631178218,0.7147261351325804,0.6478624202738714,0.6914738480930085,0.7127810718712846,0.5312230680413919],[0.7350078360767194,0.7436015651657869,0.8400449903030844,0.8041033117550164,0.8071355819799095,0.7949116315711502,0.7923381736715184,0.8003342946382505,0.7779508771726578,0.8159833503891709,0.8467031722749718,0.817161706920857,0.8311039576079887,0.8633896788641996,0.833561531957775,0.713535459182146,0.7502064675252524,0.7674153289563488,0.7607977957224629,0.7205874633383619,0.7243608643846063,0.5367736211029819,0.5446060698103612,0.5882943510319057,0.7422142028822897,0.7813355742555905,0.8465515594442582,0.8592807014197944,0.7938550469851874,0.8398290389040961,0.8518343660733958,0.8616830232514845,0.801860420959976,0.8432757009129943,0.814472774651702,0.8575074806288134,0.8930385833946793,0.8551480206790123,0.8714953604165345,0.9164501596129508,0.9345035145802405,0.8216165398616555,0.9011267782787873,0.897007325475417,0.8209136737780367,0.8747070936589632,0.947725896576373,0.8395269688814935,0.8669191145175089,0.6629577282285716,0.6851334462201234,0.5548241475059542,0.9599701861584597,0.9374770978698292,0.9999999999999993,0.9234819428131966,0.7948136404936307,0.8738581658480118,0.9380595448957585,0.875964382691057,0.83474283139559,0.5883890007271712,0.6053912077630514,0.6626547399029861,0.6447600226661767,0.7146578183101954,0.734433031529389,0.754281053627671,0.6799133189353778,0.6541957727360951,0.666695300413787,0.7031559293623162,0.5197914449795127],[0.7501139285879014,0.7554897290847774,0.8366240681098029,0.8005952074826578,0.789511842162721,0.7973721084437284,0.8163306080434021,0.8151433379749045,0.7974161026064783,0.8450659144733288,0.866069676408852,0.8226568909511587,0.8411079491808241,0.8735534234799892,0.8308591626506154,0.718774331678754,0.7890809905746534,0.7497109470969893,0.7356791159115565,0.7286131106854029,0.7828101165927519,0.5362221664979792,0.5551946578058117,0.5800240882057635,0.7262578926927341,0.7625158791269981,0.8601792174477927,0.8731616115165508,0.7996420372712358,0.9124768861360666,0.8204227174367467,0.8325068561894191,0.7867194583148029,0.8367656632182405,0.8156207668288535,0.8516475388003611,0.8643921781986215,0.8576309441621384,0.8681170316657425,0.8860246023912228,0.9043965765521259,0.7974191639462631,0.8595343524164456,0.8814583100998212,0.8407302132781802,0.8764860837864206,0.922100207553188,0.8432330788476171,0.8821834273197013,0.650940156176676,0.6804097633096341,0.5244668042774416,0.8895214359308379,0.8741883553161818,0.9234819428131966,1.0000000000000009,0.7190101803666858,0.8524518954280308,0.9025733708066517,0.8856382738203565,0.8233056646841139,0.5805469388206603,0.5691084732945695,0.6353441003217044,0.651694462729997,0.7017403064591768,0.7289555211696271,0.7560411703411308,0.6554664179987535,0.6422917187837442,0.6487301402148107,0.6841060413161931,0.5209002635917792],[0.6031524614360564,0.5840894825270367,0.6438264978457663,0.600418836217093,0.6334309162307248,0.5783658260155964,0.5698835535617298,0.5630697005885908,0.5734549668530824,0.5791267331558685,0.6815858932801062,0.641106673268574,0.6323047947392995,0.7166348850693437,0.6738121637216107,0.547822921106452,0.5316082161317133,0.51022534633771,0.5032106608391308,0.5151191298538751,0.5087234845702041,0.3818962014152984,0.3882679839820282,0.4406501115825685,0.7007541965615325,0.7779737580454924,0.6880538536897136,0.6234236911678124,0.615455668663286,0.6173439780930797,0.6160412901283511,0.5864461242592782,0.6299522858816117,0.6589628758679188,0.6084619067932503,0.6453819260242314,0.629603706445853,0.6080552632996835,0.6449915174826029,0.6397944016182053,0.7173464372034692,0.5828212208591046,0.6708463284233391,0.6487471683847138,0.5770658224862536,0.6202897410866306,0.7168386774737837,0.6084600200569324,0.6333200118592734,0.45799050913825423,0.47552465274917305,0.44174515737977127,0.811887458934553,0.7444519914012435,0.7948136404936307,0.7190101803666858,0.9999999999999998,0.8389308321679663,0.8314571947446292,0.7831095373966137,0.7349753681916409,0.4009019661115585,0.4096201621978692,0.4166632696147663,0.4252300543257187,0.5146171417613166,0.5180439933166148,0.6119440117117653,0.4712945123675515,0.4967145948181969,0.49252938424288484,0.5570900614418509,0.3895408672620836],[0.7260827637888401,0.6870039150545497,0.7363166840954098,0.6998222893933067,0.713747466596677,0.6761973259894,0.6466475349872762,0.6746722699114114,0.6793342906244711,0.6951488269070696,0.791926526137362,0.7527494032063915,0.7392370889429899,0.8303115621095509,0.8073727382249107,0.5938265935231648,0.6417241632598404,0.650413518934585,0.5835860384658247,0.5727692263742046,0.6203521325762169,0.44974398923363657,0.48975385709132874,0.4779009642489292,0.8740802092577329,0.9138794060930342,0.8225902259825556,0.7379636072927422,0.7235716958941859,0.7572421287360214,0.7417342611723718,0.7019483568564769,0.745337816077686,0.7569804903975719,0.7447142142415489,0.7734596372005602,0.7088670951340906,0.7203184978024476,0.7788507866458239,0.748109213586608,0.8227146659819284,0.6461729749082398,0.7545256275051749,0.7580970602245125,0.6787737231188462,0.7316472310007807,0.797480699617752,0.7068405090512467,0.7305525496447065,0.536586547010451,0.565651684836463,0.4677565357874198,0.8878232233487272,0.8563145639976795,0.8738581658480118,0.8524518954280308,0.8389308321679663,0.9999999999999998,0.9447999250561903,0.8907530290021226,0.8947449959489688,0.4637661439791738,0.4543258647379897,0.5267846212548821,0.5235158882866052,0.570283400993501,0.6033810166824799,0.7415728138155844,0.5959566632433664,0.528838933838881,0.5332825965765151,0.6040925834535351,0.41518766315545186],[0.7227472942226653,0.7094523282596741,0.7870411979645183,0.7300414889546037,0.7409500931450271,0.7258911978298977,0.7041056127346803,0.726126323226733,0.7270133124131601,0.7630014973164922,0.8271341611087322,0.7593952165439088,0.7646830522303674,0.8248797366535249,0.7975115099649737,0.6481835741096442,0.6966539194252996,0.6822731403565193,0.6581736687717249,0.6493186593155155,0.672957368617213,0.4732628856614268,0.4961018560169725,0.5253587062074471,0.7869182203982082,0.8398826760000531,0.8206566166544449,0.7804523847489141,0.754139966083426,0.7825544864735663,0.7775419889820795,0.764977058145041,0.7677831045752341,0.7853209719930272,0.7562264267222256,0.8043524928841594,0.7967045826048604,0.7775494057135235,0.8119984680852446,0.8387877792003939,0.8935228296827998,0.7199621613425179,0.8156775519338682,0.8228714466401577,0.7322912682868996,0.8054037068847106,0.8867825649907107,0.7572834996525581,0.7943160669595613,0.5839145810721589,0.6192321665388083,0.4780727417993068,0.9490862651073678,0.8996531792662861,0.9380595448957585,0.9025733708066517,0.8314571947446292,0.9447999250561903,1.0000000000000004,0.8939777345812364,0.8349702489579235,0.5084348733626902,0.5056816048341461,0.5554011826749512,0.5481351815183007,0.6135803268685249,0.6571648435158696,0.735394596378874,0.6258754456346546,0.5782506629802432,0.5624814329114948,0.6335866654762298,0.44762812352942594],[0.7641081355577436,0.7575253504321768,0.8446543996936945,0.7833747063084845,0.810627508402306,0.7946537793965254,0.7784225116535441,0.7668629843715307,0.7869749897488603,0.8068954782071782,0.8651774312347567,0.8158473933294272,0.7918147059325273,0.8817769053801008,0.8429627674150006,0.7029070568228305,0.7317767773296546,0.7275287153226381,0.6769456308696498,0.7050118581352774,0.7360144379189884,0.5144250607651746,0.5379616977691724,0.5909689322829416,0.8284063250627073,0.8625900425724398,0.8433330143536872,0.7812106864346925,0.7827302770221005,0.8112729716538727,0.7827582864255853,0.7844356179316357,0.7921019816557623,0.8266248845632246,0.8093838807125864,0.8333769852026491,0.8206031794944038,0.8100221006845444,0.8597934049076836,0.8492636167594771,0.8821697911087754,0.7474745745373854,0.8297150299535179,0.8472515387948691,0.8002606310558934,0.8331746973770893,0.8481180107058354,0.8169180850759913,0.8434338621585311,0.6122288661246621,0.6627186844003318,0.5037690651920548,0.8916586460531841,0.8786826955061756,0.875964382691057,0.8856382738203565,0.7831095373966137,0.8907530290021226,0.8939777345812364,1.0,0.8794429583839549,0.5376984203626781,0.5359056668889017,0.5562511333230249,0.5851846907258367,0.6907319059955918,0.7032108686523062,0.7902359429506081,0.673988422429503,0.6580892320091007,0.6216071712146345,0.6748551885064489,0.49343541019722803],[0.7734570006355207,0.7812586268506618,0.7830841899157922,0.7479578679409256,0.7535956161266979,0.751004634924092,0.71803715592551,0.7061362133677374,0.747314834109487,0.7533988774379049,0.8062552573942622,0.8517602039108402,0.8217775463974398,0.8942939709831729,0.9122865767791177,0.6220337127609612,0.6928898204296889,0.71520279815355,0.6338036930573407,0.6294000088949706,0.7065332488780632,0.5349707470212193,0.5858157087374549,0.5535614307269258,0.9327060172686723,0.8922869995144425,0.8187057409091607,0.7887017133256393,0.7593578584019259,0.7796646860663833,0.7700495095833733,0.7628029393085222,0.7851099392105572,0.7853755195367347,0.7776886993133649,0.8029750443114008,0.7862816437170692,0.7895269509308953,0.8087723276138772,0.8043395467899412,0.8199788695868369,0.7245755798159845,0.8116167410469206,0.8040172266028844,0.7725016144467737,0.7940349334296557,0.7929101775831999,0.779548386839093,0.7872210462198999,0.5876249603480853,0.6177846071370836,0.5319129884945376,0.8450786470939331,0.8415057982535301,0.83474283139559,0.8233056646841139,0.7349753681916409,0.8947449959489688,0.8349702489579235,0.8794429583839549,1.0000000000000004,0.5577013647438746,0.5148233135615805,0.5497590660784873,0.5440698349874006,0.6717120158419537,0.6822649927057565,0.8276212885461978,0.669986555292367,0.60796740159281,0.6277103104330026,0.670334777393916,0.4790348476925694],[0.5339685779421088,0.5501627522995561,0.5920987690055041,0.5740832079913076,0.552586995817495,0.6214395830539401,0.633296890651175,0.6352943553776804,0.6167809352876078,0.6434300981769998,0.600382942202903,0.555794357007458,0.5869517547627573,0.5775946582442055,0.5893982147666378,0.5197134533551269,0.5556946705602135,0.6201226682405562,0.560950492754656,0.5527493323626927,0.5881137996157727,0.506405159349445,0.4974705179707512,0.5429907433312182,0.5261572952365031,0.4951971698454043,0.6294968278409602,0.6458588062713644,0.6238710355631458,0.6067891039881675,0.6683953232325021,0.6692117664798802,0.6363740795402169,0.6138311065340887,0.6609651905597694,0.6480946371146414,0.6501073060342182,0.7205492668958428,0.6677977513360618,0.6505308251232926,0.6271962486115363,0.6788848892496432,0.6257943357117371,0.6581804252429325,0.6428448665880228,0.6625373260571192,0.6402036184084906,0.6404672698497531,0.6582765914258424,0.557229112676803,0.5445804315580514,0.37907816454360016,0.5736839434429284,0.6085339699848992,0.5883890007271712,0.5805469388206603,0.4009019661115585,0.4637661439791738,0.5084348733626902,0.5376984203626781,0.5577013647438746,1.0000000000000002,0.5888008506674667,0.5347973860825233,0.47416837802915346,0.5980637616770758,0.5855226095681663,0.5754489773364717,0.5550526086774825,0.5776835591457951,0.554291290942422,0.48583056325024293,0.42230947180664635],[0.47898133811821647,0.4673604633438736,0.5609343240270683,0.6056783421768878,0.4966561453318938,0.5860196302092074,0.5853821091628392,0.5812365353857943,0.5889257602496698,0.6035660621494549,0.5608631572460239,0.5300134380249439,0.5735163514259185,0.5616572202246521,0.596684951883546,0.4836799213419777,0.5022481152022029,0.5371337026738707,0.6308240772642163,0.5341574537227156,0.5165881502807302,0.4649401962729174,0.40995671834132286,0.485788477034985,0.47709415487575363,0.4454956161677814,0.5745309504075001,0.631978238559563,0.5951165619660796,0.5780136797436961,0.6134258218247626,0.5970528708535096,0.5679602257817091,0.6279160985813269,0.6143631203280407,0.5846738493727553,0.6678820813737784,0.609660989770866,0.6313405655041072,0.6278050764718726,0.6022827188100865,0.7813701461764642,0.6186430831341689,0.6256817388831442,0.5973119806117793,0.6083583646899678,0.6224201308993725,0.6246614106480735,0.6248818399389053,0.6253877857825174,0.550648267280802,0.3424652687671865,0.6001248205067589,0.6231885787958209,0.6053912077630514,0.5691084732945695,0.4096201621978692,0.4543258647379897,0.5056816048341461,0.5359056668889017,0.5148233135615805,0.5888008506674667,1.0000000000000004,0.5868132109371155,0.4415369576056859,0.568834230497698,0.5734203149978285,0.5412759167744884,0.4606535381216718,0.5127220803655461,0.6202899146344594,0.4549674185047147,0.37753263748074395],[0.5157889617322744,0.4860983352142118,0.6161704417348144,0.6597869729379897,0.5781961868831661,0.5900422274835914,0.6227579661627304,0.6077946767041964,0.6219117193217216,0.5956585352860628,0.5871625690266586,0.5892901294751958,0.6203872423916567,0.6233639454948194,0.5965690043893463,0.5824456523913352,0.5586633757961297,0.5862301993347274,0.6791258922824654,0.5388555791935525,0.5681537144605673,0.545047752170015,0.5226269274117545,0.5857063833018471,0.48726648159991237,0.5051423691034402,0.6469721397779273,0.6923320643916846,0.6420826685831478,0.6717452724537765,0.7210948951939993,0.7010537093518874,0.6207091424065156,0.687597868785095,0.7112993005962397,0.6834785591571224,0.6610601982557054,0.6475626140720683,0.723009599641702,0.6741178446133907,0.6389563380213665,0.6923581729464175,0.6870791228676658,0.6883718376111887,0.6506138657979845,0.6555990701667117,0.6585125112933126,0.6767426477341754,0.6771448265884217,0.6885468967178828,0.6324498049638664,0.5830008077551244,0.6234259535018912,0.6684540432398229,0.6626547399029861,0.6353441003217044,0.4166632696147663,0.5267846212548821,0.5554011826749512,0.5562511333230249,0.5497590660784873,0.5347973860825233,0.5868132109371155,1.0000000000000007,0.57757547348843,0.6047599048423007,0.6190885831850835,0.5449196783734063,0.5250825206307431,0.5480863187681434,0.5434458395177223,0.6560776802266183,0.4000397707509912],[0.5891580918889203,0.5714318870574865,0.5693014335022466,0.6422936607316259,0.6161211248946639,0.5933798591321409,0.6437018458116652,0.7033312306459538,0.5709408715830939,0.6112948355188244,0.5994832042511711,0.5597162360633016,0.601517206813387,0.6203019335261039,0.5724714577101807,0.5596134726036791,0.7357136251601638,0.643265433700749,0.5717767153356085,0.6483275522955165,0.6898223233312589,0.43007402648431625,0.4358373619809668,0.41507808813129254,0.5057623330260205,0.4898829048246338,0.7029800463599422,0.6669832577498397,0.6756511195439102,0.6694475026164883,0.7996030472781055,0.7249404575816126,0.6726712375375677,0.7182211125560438,0.7590819295084259,0.7413373848928806,0.6623489629807482,0.6362917844358079,0.6858856491464735,0.6640900292596964,0.6855443210036816,0.6496916530617611,0.6996103409844279,0.7348837144720501,0.6922534740542113,0.6054807168440268,0.651347237387756,0.6158698463164104,0.6599370479707052,0.6842786398230277,0.7001058230296391,0.4721316625237493,0.6237883233413626,0.6652909888889735,0.6447600226661767,0.651694462729997,0.4252300543257187,0.5235158882866052,0.5481351815183007,0.5851846907258367,0.5440698349874006,0.47416837802915346,0.4415369576056859,0.57757547348843,1.0000000000000002,0.625087743232928,0.5809008629811282,0.5269187396015996,0.5142610910127328,0.47921796287438334,0.479757320410363,0.5437890954161146,0.4294918568154417],[0.6542136948125509,0.6777582365621353,0.7007122954811962,0.7050929254956344,0.7343668124919225,0.721032117697591,0.7473467422014485,0.6801986056337219,0.8091958349377867,0.7332465216499031,0.7141885470097691,0.6858026953013182,0.724306020482292,0.7093976837140266,0.7369663583919047,0.7399858198187703,0.6821348547046423,0.6492862902155802,0.7027068997422877,0.6849742664557286,0.7495819629081844,0.7158211094972358,0.6982705445180577,0.6787677529960434,0.6007039892050574,0.5756733665231831,0.7259423780294771,0.7336834668896239,0.7209037397776559,0.7404971299461252,0.747869197775693,0.7580111175529258,0.7125582727086895,0.7369865021388734,0.745736438890651,0.7487575901982348,0.7625663993216675,0.763648135668731,0.7765306212711518,0.7660633773377544,0.7212090314120385,0.7348309496459634,0.7640032661274831,0.7590764149851752,0.7382569648531813,0.7496503118799239,0.7279402573421196,0.7740649552388091,0.7805867384944452,0.5886676887734551,0.5920180099850207,0.45989296269070834,0.7002071047605976,0.7146646901254097,0.7146578183101954,0.7017403064591768,0.5146171417613166,0.570283400993501,0.6135803268685249,0.6907319059955918,0.6717120158419537,0.5980637616770758,0.568834230497698,0.6047599048423007,0.625087743232928,1.0000000000000009,0.8478816457623767,0.797659239349466,0.5849085096090219,0.6750229015104241,0.585966143102371,0.5901426571489236,0.44649616060149977],[0.6763923750080089,0.7016098326750886,0.7567881219860387,0.7242011042172709,0.7659862581572101,0.7497829759911716,0.7323766562038676,0.6993153323170428,0.9030600925144561,0.7556711976899964,0.7395630514566944,0.6988495931808059,0.7642974019364065,0.7337923116232651,0.7419085406972294,0.7543805485192685,0.7147495173687765,0.6740460246378042,0.7514698349924862,0.7027519185301205,0.802763670307584,0.8550099815190256,0.7973755078487197,0.6959566701335899,0.6253210916622549,0.6180365016748467,0.7729697504976554,0.735919870054434,0.7670704098557417,0.7303841229118743,0.7714690757021345,0.7593379982237035,0.7286115323025397,0.7847928398556333,0.7434751117885482,0.8046847668655239,0.7840353107648985,0.8015346283361924,0.8171838348798538,0.8018085692634024,0.7535350513953707,0.7685081946075838,0.7757201302451212,0.7879067604111692,0.7721403142539682,0.7974698335764695,0.7599248613636489,0.7955949856810002,0.7923465433321324,0.6192823095630577,0.6167086899824921,0.5134334897648853,0.7375636648307846,0.7505312428248863,0.734433031529389,0.7289555211696271,0.5180439933166148,0.6033810166824799,0.6571648435158696,0.7032108686523062,0.6822649927057565,0.5855226095681663,0.5734203149978285,0.6190885831850835,0.5809008629811282,0.8478816457623767,1.0000000000000004,0.9061046995766606,0.6342891271858976,0.6754235184529344,0.6270267470074821,0.6550392193289444,0.44566741182300923],[0.707986697090782,0.7224821317799806,0.7336565214456597,0.7076819494656654,0.753502397380445,0.7564284401689121,0.7132899719172061,0.6783421428148388,0.8814219905624254,0.7376851080944015,0.7687788816393241,0.6914555819152775,0.7511818585270488,0.7539786241503019,0.8330098292865875,0.6936811580023646,0.7048334145824643,0.661495885970169,0.6793350652221819,0.6586571972323971,0.7683191716390225,0.7804459072596326,0.7335835555270072,0.6483890339020361,0.8227253569164384,0.7745336739202623,0.7887604704249848,0.7390284848918922,0.7400215788838822,0.738164984342188,0.7368077351465724,0.7164783787843825,0.7216732067716125,0.7652542212735391,0.7530272014585384,0.778326532370212,0.737498088937059,0.7768643418343681,0.8042716806147111,0.7580188712236096,0.7526738056737599,0.72252346962673,0.7486013100948414,0.7531984676425432,0.7432808001007263,0.7673078382584428,0.7514658584156619,0.7834259436080473,0.780084028491975,0.5948844928156627,0.6047798837153652,0.46206309614949514,0.7708474463315654,0.7615842631178218,0.754281053627671,0.7560411703411308,0.6119440117117653,0.7415728138155844,0.735394596378874,0.7902359429506081,0.8276212885461978,0.5754489773364717,0.5412759167744884,0.5449196783734063,0.5269187396015996,0.797659239349466,0.9061046995766606,0.9999999999999996,0.6486566563631846,0.659039428596177,0.629521716003928,0.6071093658381105,0.46773855924568825],[0.6550527917968123,0.662870093381655,0.7032272405365296,0.7483574353190267,0.6587200578777551,0.7102611456726899,0.661594710151837,0.6796673778223669,0.6738732293900674,0.7673685912281956,0.7160839156513819,0.6348030641029317,0.693788674266092,0.6830316112093302,0.6977823463621382,0.5576741789145776,0.6601436230952342,0.7277410127781636,0.6059441158290381,0.6054891404725138,0.6423476531231553,0.5234662591115301,0.487840514408992,0.5608572617577484,0.6291074812407688,0.6184157421460695,0.7001811853874201,0.6553308620428293,0.7325415224355081,0.6411313704939438,0.692477623451491,0.7152565503667362,0.6857470470566842,0.7213761336512745,0.6974523900350987,0.7229307483538695,0.7442361732825353,0.7118419655952535,0.7459864921958362,0.7362965153482858,0.7324744284111444,0.7131154652507323,0.7356426211005012,0.7244939464170161,0.6949093671810824,0.715978520090616,0.706697021496812,0.7109303847011258,0.6996657532905095,0.571509619507808,0.6100566624724882,0.4688036292972776,0.6810182477928513,0.7147261351325804,0.6799133189353778,0.6554664179987535,0.4712945123675515,0.5959566632433664,0.6258754456346546,0.673988422429503,0.669986555292367,0.5550526086774825,0.4606535381216718,0.5250825206307431,0.5142610910127328,0.5849085096090219,0.6342891271858976,0.6486566563631846,1.0,0.5939707827955852,0.5359402445532374,0.6026765514925116,0.41707380894274215],[0.6213053888868676,0.6109254920941697,0.7092957120022622,0.6663730175686119,0.6881650558034778,0.7036281370739865,0.7809898727030784,0.6885057662617924,0.742196325573391,0.700923959469751,0.6944747179326737,0.616703848253137,0.6654503261723627,0.6517843783355162,0.6812890935101819,0.6299862149810774,0.5899026587218429,0.6061495785575199,0.6170115786684713,0.620708988407765,0.6390026458404885,0.5772026231374409,0.4905974032191144,0.6275125038928036,0.5700692048750695,0.5660065615486966,0.6902822637285849,0.6561048076588526,0.6327186958406501,0.6797403811824703,0.6552168430593883,0.7033972079193636,0.6539005220756829,0.6530745387036541,0.7217862756290215,0.6985173600577564,0.7071261760752998,0.7368383134506911,0.7620513813162182,0.7165691316005176,0.686176635710358,0.6811905521259299,0.7116674956868982,0.7246545508858244,0.6926577180141686,0.7232792741963778,0.7036595018462397,0.722718653307217,0.7802126809285117,0.508082461206535,0.5373068287679689,0.4415086927902113,0.6358819685911198,0.6478624202738714,0.6541957727360951,0.6422917187837442,0.4967145948181969,0.528838933838881,0.5782506629802432,0.6580892320091007,0.60796740159281,0.5776835591457951,0.5127220803655461,0.5480863187681434,0.47921796287438334,0.6750229015104241,0.6754235184529344,0.659039428596177,0.5939707827955852,0.9999999999999992,0.5175798988801742,0.5799527396324036,0.3609072201776613],[0.537037896414182,0.6074587461436411,0.6513683036965952,0.6688381788785999,0.6223381852927823,0.6658805746914767,0.6373548543659853,0.6357599593042803,0.6486894629203428,0.6605703699439295,0.6437739764020112,0.6566815052642263,0.6875688190690926,0.6863932604666975,0.6902618799372985,0.5560978327404508,0.5709119058158442,0.6106714914096747,0.6750149910800102,0.6335446642842939,0.5971468106244071,0.48360122799546956,0.48690716074730234,0.603275902698628,0.5540099674359212,0.5183111327514236,0.6419067070458232,0.682588207586,0.6576135559735437,0.6248249882335278,0.6690174675827033,0.6816499219556871,0.622330977214346,0.6844421934782194,0.6485602245314936,0.6800825870755045,0.705859204095482,0.7125601280356684,0.6717633735998902,0.6905037782338467,0.663955459934187,0.7788816446165101,0.713782724271084,0.6935046964222429,0.7176922018046809,0.6881679843802558,0.6770526301176484,0.6977286876908756,0.678304277856241,0.6663802117063486,0.6480748680011592,0.479217149796594,0.648233290142376,0.6914738480930085,0.666695300413787,0.6487301402148107,0.49252938424288484,0.5332825965765151,0.5624814329114948,0.6216071712146345,0.6277103104330026,0.554291290942422,0.6202899146344594,0.5434458395177223,0.479757320410363,0.585966143102371,0.6270267470074821,0.629521716003928,0.5359402445532374,0.5175798988801742,1.0000000000000004,0.5845917525287636,0.7457401486158112],[0.6730493065612676,0.6740305762051535,0.7530410808018075,0.7035720333951775,0.6726388227669924,0.6805070601669146,0.6363678054952141,0.6419377962626808,0.7012747270365063,0.6940998195442869,0.6957548606840726,0.7058482878333001,0.752856550511021,0.7291421230090219,0.7064382288758418,0.59309095160121,0.626226613175935,0.6225065145623462,0.6556530062335064,0.5252801170297368,0.6370209604877182,0.5246742660540078,0.5278066344890109,0.5699974512624643,0.5938676807321146,0.6026958631070948,0.7309594631058243,0.6981012097504508,0.7258390318095076,0.6729027265309656,0.730763901655751,0.710031469763566,0.7194096100300851,0.7489829469113725,0.6962536613764856,0.7541877852036488,0.7389127045302353,0.7364760994305383,0.7657994835613238,0.74793115236553,0.7062313941181632,0.696661960453077,0.7494882299098199,0.7492717958819961,0.700097438700712,0.738760249712261,0.7095914941412665,0.7445833742482592,0.7134354277576587,0.5581130596062739,0.5534262720361758,0.9519145611287857,0.6748857214688821,0.7127810718712846,0.7031559293623162,0.6841060413161931,0.5570900614418509,0.6040925834535351,0.6335866654762298,0.6748551885064489,0.670334777393916,0.48583056325024293,0.4549674185047147,0.6560776802266183,0.5437890954161146,0.5901426571489236,0.6550392193289444,0.6071093658381105,0.6026765514925116,0.5799527396324036,0.5845917525287636,0.9999999999999989,0.44644631050996386],[0.4165476246434454,0.44938532971322126,0.45278262793100144,0.5435359552956885,0.46329131595927114,0.48612574453987395,0.4988681148251407,0.5139469164787587,0.46938519318502964,0.4907869003642392,0.4821410939585326,0.4877310576179592,0.4930753609125037,0.5161719135975962,0.516278433022697,0.4120384967472754,0.4709863271363129,0.4770047560239647,0.473128095209959,0.5350319654453742,0.518732783034861,0.36928364135210695,0.3823897111630208,0.5396090256822481,0.41016130741581425,0.39324942663114204,0.46152452286745094,0.5395367682060803,0.4935958615020667,0.47356105471623244,0.518805038468847,0.5546336523424675,0.4840486414748354,0.49339908112751696,0.5066447970344645,0.5017249642550986,0.5295927928770697,0.5666932484806239,0.4911992993927605,0.5120991823625995,0.5223901823819473,0.5721388103071695,0.5487037083189297,0.5333526451584659,0.5595578755118525,0.4907439498059505,0.5206038321733342,0.5407117405622346,0.5120902161539769,0.5208796458499197,0.5170015817884043,0.3675374457653539,0.5033895136824897,0.5312230680413919,0.5197914449795127,0.5209002635917792,0.3895408672620836,0.41518766315545186,0.44762812352942594,0.49343541019722803,0.4790348476925694,0.42230947180664635,0.37753263748074395,0.4000397707509912,0.4294918568154417,0.44649616060149977,0.44566741182300923,0.46773855924568825,0.41707380894274215,0.3609072201776613,0.7457401486158112,0.44644631050996386,1.0]],\"type\":\"heatmap\",\"xaxis\":\"x\",\"yaxis\":\"y\",\"hovertemplate\":\"x: %{x}<br>y: %{y}<br>Similarity Score: %{z}<extra></extra>\"}],                        {\"template\":{\"data\":{\"bar\":[{\"error_x\":{\"color\":\"#2a3f5f\"},\"error_y\":{\"color\":\"#2a3f5f\"},\"marker\":{\"line\":{\"color\":\"#E5ECF6\",\"width\":0.5},\"pattern\":{\"fillmode\":\"overlay\",\"size\":10,\"solidity\":0.2}},\"type\":\"bar\"}],\"barpolar\":[{\"marker\":{\"line\":{\"color\":\"#E5ECF6\",\"width\":0.5},\"pattern\":{\"fillmode\":\"overlay\",\"size\":10,\"solidity\":0.2}},\"type\":\"barpolar\"}],\"carpet\":[{\"aaxis\":{\"endlinecolor\":\"#2a3f5f\",\"gridcolor\":\"white\",\"linecolor\":\"white\",\"minorgridcolor\":\"white\",\"startlinecolor\":\"#2a3f5f\"},\"baxis\":{\"endlinecolor\":\"#2a3f5f\",\"gridcolor\":\"white\",\"linecolor\":\"white\",\"minorgridcolor\":\"white\",\"startlinecolor\":\"#2a3f5f\"},\"type\":\"carpet\"}],\"choropleth\":[{\"colorbar\":{\"outlinewidth\":0,\"ticks\":\"\"},\"type\":\"choropleth\"}],\"contour\":[{\"colorbar\":{\"outlinewidth\":0,\"ticks\":\"\"},\"colorscale\":[[0.0,\"#0d0887\"],[0.1111111111111111,\"#46039f\"],[0.2222222222222222,\"#7201a8\"],[0.3333333333333333,\"#9c179e\"],[0.4444444444444444,\"#bd3786\"],[0.5555555555555556,\"#d8576b\"],[0.6666666666666666,\"#ed7953\"],[0.7777777777777778,\"#fb9f3a\"],[0.8888888888888888,\"#fdca26\"],[1.0,\"#f0f921\"]],\"type\":\"contour\"}],\"contourcarpet\":[{\"colorbar\":{\"outlinewidth\":0,\"ticks\":\"\"},\"type\":\"contourcarpet\"}],\"heatmap\":[{\"colorbar\":{\"outlinewidth\":0,\"ticks\":\"\"},\"colorscale\":[[0.0,\"#0d0887\"],[0.1111111111111111,\"#46039f\"],[0.2222222222222222,\"#7201a8\"],[0.3333333333333333,\"#9c179e\"],[0.4444444444444444,\"#bd3786\"],[0.5555555555555556,\"#d8576b\"],[0.6666666666666666,\"#ed7953\"],[0.7777777777777778,\"#fb9f3a\"],[0.8888888888888888,\"#fdca26\"],[1.0,\"#f0f921\"]],\"type\":\"heatmap\"}],\"heatmapgl\":[{\"colorbar\":{\"outlinewidth\":0,\"ticks\":\"\"},\"colorscale\":[[0.0,\"#0d0887\"],[0.1111111111111111,\"#46039f\"],[0.2222222222222222,\"#7201a8\"],[0.3333333333333333,\"#9c179e\"],[0.4444444444444444,\"#bd3786\"],[0.5555555555555556,\"#d8576b\"],[0.6666666666666666,\"#ed7953\"],[0.7777777777777778,\"#fb9f3a\"],[0.8888888888888888,\"#fdca26\"],[1.0,\"#f0f921\"]],\"type\":\"heatmapgl\"}],\"histogram\":[{\"marker\":{\"pattern\":{\"fillmode\":\"overlay\",\"size\":10,\"solidity\":0.2}},\"type\":\"histogram\"}],\"histogram2d\":[{\"colorbar\":{\"outlinewidth\":0,\"ticks\":\"\"},\"colorscale\":[[0.0,\"#0d0887\"],[0.1111111111111111,\"#46039f\"],[0.2222222222222222,\"#7201a8\"],[0.3333333333333333,\"#9c179e\"],[0.4444444444444444,\"#bd3786\"],[0.5555555555555556,\"#d8576b\"],[0.6666666666666666,\"#ed7953\"],[0.7777777777777778,\"#fb9f3a\"],[0.8888888888888888,\"#fdca26\"],[1.0,\"#f0f921\"]],\"type\":\"histogram2d\"}],\"histogram2dcontour\":[{\"colorbar\":{\"outlinewidth\":0,\"ticks\":\"\"},\"colorscale\":[[0.0,\"#0d0887\"],[0.1111111111111111,\"#46039f\"],[0.2222222222222222,\"#7201a8\"],[0.3333333333333333,\"#9c179e\"],[0.4444444444444444,\"#bd3786\"],[0.5555555555555556,\"#d8576b\"],[0.6666666666666666,\"#ed7953\"],[0.7777777777777778,\"#fb9f3a\"],[0.8888888888888888,\"#fdca26\"],[1.0,\"#f0f921\"]],\"type\":\"histogram2dcontour\"}],\"mesh3d\":[{\"colorbar\":{\"outlinewidth\":0,\"ticks\":\"\"},\"type\":\"mesh3d\"}],\"parcoords\":[{\"line\":{\"colorbar\":{\"outlinewidth\":0,\"ticks\":\"\"}},\"type\":\"parcoords\"}],\"pie\":[{\"automargin\":true,\"type\":\"pie\"}],\"scatter\":[{\"marker\":{\"colorbar\":{\"outlinewidth\":0,\"ticks\":\"\"}},\"type\":\"scatter\"}],\"scatter3d\":[{\"line\":{\"colorbar\":{\"outlinewidth\":0,\"ticks\":\"\"}},\"marker\":{\"colorbar\":{\"outlinewidth\":0,\"ticks\":\"\"}},\"type\":\"scatter3d\"}],\"scattercarpet\":[{\"marker\":{\"colorbar\":{\"outlinewidth\":0,\"ticks\":\"\"}},\"type\":\"scattercarpet\"}],\"scattergeo\":[{\"marker\":{\"colorbar\":{\"outlinewidth\":0,\"ticks\":\"\"}},\"type\":\"scattergeo\"}],\"scattergl\":[{\"marker\":{\"colorbar\":{\"outlinewidth\":0,\"ticks\":\"\"}},\"type\":\"scattergl\"}],\"scattermapbox\":[{\"marker\":{\"colorbar\":{\"outlinewidth\":0,\"ticks\":\"\"}},\"type\":\"scattermapbox\"}],\"scatterpolar\":[{\"marker\":{\"colorbar\":{\"outlinewidth\":0,\"ticks\":\"\"}},\"type\":\"scatterpolar\"}],\"scatterpolargl\":[{\"marker\":{\"colorbar\":{\"outlinewidth\":0,\"ticks\":\"\"}},\"type\":\"scatterpolargl\"}],\"scatterternary\":[{\"marker\":{\"colorbar\":{\"outlinewidth\":0,\"ticks\":\"\"}},\"type\":\"scatterternary\"}],\"surface\":[{\"colorbar\":{\"outlinewidth\":0,\"ticks\":\"\"},\"colorscale\":[[0.0,\"#0d0887\"],[0.1111111111111111,\"#46039f\"],[0.2222222222222222,\"#7201a8\"],[0.3333333333333333,\"#9c179e\"],[0.4444444444444444,\"#bd3786\"],[0.5555555555555556,\"#d8576b\"],[0.6666666666666666,\"#ed7953\"],[0.7777777777777778,\"#fb9f3a\"],[0.8888888888888888,\"#fdca26\"],[1.0,\"#f0f921\"]],\"type\":\"surface\"}],\"table\":[{\"cells\":{\"fill\":{\"color\":\"#EBF0F8\"},\"line\":{\"color\":\"white\"}},\"header\":{\"fill\":{\"color\":\"#C8D4E3\"},\"line\":{\"color\":\"white\"}},\"type\":\"table\"}]},\"layout\":{\"annotationdefaults\":{\"arrowcolor\":\"#2a3f5f\",\"arrowhead\":0,\"arrowwidth\":1},\"autotypenumbers\":\"strict\",\"coloraxis\":{\"colorbar\":{\"outlinewidth\":0,\"ticks\":\"\"}},\"colorscale\":{\"diverging\":[[0,\"#8e0152\"],[0.1,\"#c51b7d\"],[0.2,\"#de77ae\"],[0.3,\"#f1b6da\"],[0.4,\"#fde0ef\"],[0.5,\"#f7f7f7\"],[0.6,\"#e6f5d0\"],[0.7,\"#b8e186\"],[0.8,\"#7fbc41\"],[0.9,\"#4d9221\"],[1,\"#276419\"]],\"sequential\":[[0.0,\"#0d0887\"],[0.1111111111111111,\"#46039f\"],[0.2222222222222222,\"#7201a8\"],[0.3333333333333333,\"#9c179e\"],[0.4444444444444444,\"#bd3786\"],[0.5555555555555556,\"#d8576b\"],[0.6666666666666666,\"#ed7953\"],[0.7777777777777778,\"#fb9f3a\"],[0.8888888888888888,\"#fdca26\"],[1.0,\"#f0f921\"]],\"sequentialminus\":[[0.0,\"#0d0887\"],[0.1111111111111111,\"#46039f\"],[0.2222222222222222,\"#7201a8\"],[0.3333333333333333,\"#9c179e\"],[0.4444444444444444,\"#bd3786\"],[0.5555555555555556,\"#d8576b\"],[0.6666666666666666,\"#ed7953\"],[0.7777777777777778,\"#fb9f3a\"],[0.8888888888888888,\"#fdca26\"],[1.0,\"#f0f921\"]]},\"colorway\":[\"#636efa\",\"#EF553B\",\"#00cc96\",\"#ab63fa\",\"#FFA15A\",\"#19d3f3\",\"#FF6692\",\"#B6E880\",\"#FF97FF\",\"#FECB52\"],\"font\":{\"color\":\"#2a3f5f\"},\"geo\":{\"bgcolor\":\"white\",\"lakecolor\":\"white\",\"landcolor\":\"#E5ECF6\",\"showlakes\":true,\"showland\":true,\"subunitcolor\":\"white\"},\"hoverlabel\":{\"align\":\"left\"},\"hovermode\":\"closest\",\"mapbox\":{\"style\":\"light\"},\"paper_bgcolor\":\"white\",\"plot_bgcolor\":\"#E5ECF6\",\"polar\":{\"angularaxis\":{\"gridcolor\":\"white\",\"linecolor\":\"white\",\"ticks\":\"\"},\"bgcolor\":\"#E5ECF6\",\"radialaxis\":{\"gridcolor\":\"white\",\"linecolor\":\"white\",\"ticks\":\"\"}},\"scene\":{\"xaxis\":{\"backgroundcolor\":\"#E5ECF6\",\"gridcolor\":\"white\",\"gridwidth\":2,\"linecolor\":\"white\",\"showbackground\":true,\"ticks\":\"\",\"zerolinecolor\":\"white\"},\"yaxis\":{\"backgroundcolor\":\"#E5ECF6\",\"gridcolor\":\"white\",\"gridwidth\":2,\"linecolor\":\"white\",\"showbackground\":true,\"ticks\":\"\",\"zerolinecolor\":\"white\"},\"zaxis\":{\"backgroundcolor\":\"#E5ECF6\",\"gridcolor\":\"white\",\"gridwidth\":2,\"linecolor\":\"white\",\"showbackground\":true,\"ticks\":\"\",\"zerolinecolor\":\"white\"}},\"shapedefaults\":{\"line\":{\"color\":\"#2a3f5f\"}},\"ternary\":{\"aaxis\":{\"gridcolor\":\"white\",\"linecolor\":\"white\",\"ticks\":\"\"},\"baxis\":{\"gridcolor\":\"white\",\"linecolor\":\"white\",\"ticks\":\"\"},\"bgcolor\":\"#E5ECF6\",\"caxis\":{\"gridcolor\":\"white\",\"linecolor\":\"white\",\"ticks\":\"\"}},\"title\":{\"x\":0.05},\"xaxis\":{\"automargin\":true,\"gridcolor\":\"white\",\"linecolor\":\"white\",\"ticks\":\"\",\"title\":{\"standoff\":15},\"zerolinecolor\":\"white\",\"zerolinewidth\":2},\"yaxis\":{\"automargin\":true,\"gridcolor\":\"white\",\"linecolor\":\"white\",\"ticks\":\"\",\"title\":{\"standoff\":15},\"zerolinecolor\":\"white\",\"zerolinewidth\":2}}},\"xaxis\":{\"anchor\":\"y\",\"domain\":[0.0,1.0],\"scaleanchor\":\"y\",\"constrain\":\"domain\"},\"yaxis\":{\"anchor\":\"x\",\"domain\":[0.0,1.0],\"autorange\":\"reversed\",\"constrain\":\"domain\"},\"coloraxis\":{\"colorbar\":{\"title\":{\"text\":\"Similarity Score\"}},\"colorscale\":[[0.0,\"rgb(247,252,240)\"],[0.125,\"rgb(224,243,219)\"],[0.25,\"rgb(204,235,197)\"],[0.375,\"rgb(168,221,181)\"],[0.5,\"rgb(123,204,196)\"],[0.625,\"rgb(78,179,211)\"],[0.75,\"rgb(43,140,190)\"],[0.875,\"rgb(8,104,172)\"],[1.0,\"rgb(8,64,129)\"]]},\"margin\":{\"t\":60},\"title\":{\"font\":{\"size\":22,\"color\":\"Black\"},\"text\":\"<b>Similarity Matrix\",\"y\":0.95,\"x\":0.55,\"xanchor\":\"center\",\"yanchor\":\"top\"},\"hoverlabel\":{\"font\":{\"size\":16,\"family\":\"Rockwell\"},\"bgcolor\":\"white\"},\"width\":1000,\"height\":1000,\"showlegend\":true,\"legend\":{\"title\":{\"text\":\"Trend\"}}},                        {\"responsive\": true}                    ).then(function(){\n",
              "                            \n",
              "var gd = document.getElementById('81d727d6-4e15-4598-b31e-791f83f57160');\n",
              "var x = new MutationObserver(function (mutations, observer) {{\n",
              "        var display = window.getComputedStyle(gd).display;\n",
              "        if (!display || display === 'none') {{\n",
              "            console.log([gd, 'removed!']);\n",
              "            Plotly.purge(gd);\n",
              "            observer.disconnect();\n",
              "        }}\n",
              "}});\n",
              "\n",
              "// Listen for the removal of the full notebook cells\n",
              "var notebookContainer = gd.closest('#notebook-container');\n",
              "if (notebookContainer) {{\n",
              "    x.observe(notebookContainer, {childList: true});\n",
              "}}\n",
              "\n",
              "// Listen for the clearing of the current output cell\n",
              "var outputEl = gd.closest('.output');\n",
              "if (outputEl) {{\n",
              "    x.observe(outputEl, {childList: true});\n",
              "}}\n",
              "\n",
              "                        })                };                            </script>        </div>\n",
              "</body>\n",
              "</html>"
            ]
          },
          "metadata": {}
        }
      ]
    },
    {
      "cell_type": "markdown",
      "source": [
        "Visualize Term Score Decline\n",
        "\n",
        "Topics are represented by a number of words starting with the best representative word. Each word is represented by a c-TF-IDF score. The higher the score, the more representative a word to the topic is. Since the topic words are sorted by their c-TF-IDF score, the scores slowly decline with each word that is added."
      ],
      "metadata": {
        "id": "vd41xsx7Xhgj"
      }
    },
    {
      "cell_type": "code",
      "source": [
        "topic_model.visualize_term_rank()"
      ],
      "metadata": {
        "id": "Rw1wXTEtX967",
        "outputId": "00adf9d7-f8fa-45f9-9e83-d07784dfe936",
        "colab": {
          "base_uri": "https://localhost:8080/",
          "height": 517
        }
      },
      "execution_count": 170,
      "outputs": [
        {
          "output_type": "display_data",
          "data": {
            "text/html": [
              "<html>\n",
              "<head><meta charset=\"utf-8\" /></head>\n",
              "<body>\n",
              "    <div>            <script src=\"https://cdnjs.cloudflare.com/ajax/libs/mathjax/2.7.5/MathJax.js?config=TeX-AMS-MML_SVG\"></script><script type=\"text/javascript\">if (window.MathJax) {MathJax.Hub.Config({SVG: {font: \"STIX-Web\"}});}</script>                <script type=\"text/javascript\">window.PlotlyConfig = {MathJaxConfig: 'local'};</script>\n",
              "        <script src=\"https://cdn.plot.ly/plotly-2.8.3.min.js\"></script>                <div id=\"a2f1bfa3-b8ac-4c4e-9ddf-f8e1e164c5b5\" class=\"plotly-graph-div\" style=\"height:500px; width:800px;\"></div>            <script type=\"text/javascript\">                                    window.PLOTLYENV=window.PLOTLYENV || {};                                    if (document.getElementById(\"a2f1bfa3-b8ac-4c4e-9ddf-f8e1e164c5b5\")) {                    Plotly.newPlot(                        \"a2f1bfa3-b8ac-4c4e-9ddf-f8e1e164c5b5\",                        [{\"hovertext\":\"<b>Topic -1</b>:produto_compra_pedido_entrega_rece\",\"line\":{\"color\":\"black\",\"width\":1.5},\"mode\":\"lines+lines\",\"name\":\"\",\"opacity\":0.1,\"x\":[1,2,3,4,5,6,7,8,9,10],\"y\":[0.01014600223277762,0.0100566978750236,0.009624759677069706,0.008844783496990931,0.008779173463164229,0.008525975044790525,0.008455830205258742,0.008233840307575001,0.008017916996406374,0.007985675724288672],\"type\":\"scatter\"},{\"hovertext\":\"<b>Topic 0</b>:amazon_prime_assinatura_cart\\u00e3o_cobr\",\"line\":{\"color\":\"black\",\"width\":1.5},\"mode\":\"lines+lines\",\"name\":\"\",\"opacity\":0.1,\"x\":[1,2,3,4,5,6,7,8,9,10],\"y\":[0.038555790538754374,0.012960082567712701,0.011384456993023935,0.010093926816950363,0.00974722239329163,0.009195317091768377,0.009089286611618327,0.009013455024445208,0.008628130841851595,0.00846547812189083],\"type\":\"scatter\"},{\"hovertext\":\"<b>Topic 1</b>:entrega_atraso_prazo_data_atrasada_\",\"line\":{\"color\":\"black\",\"width\":1.5},\"mode\":\"lines+lines\",\"name\":\"\",\"opacity\":0.1,\"x\":[1,2,3,4,5,6,7,8,9,10],\"y\":[0.038574590353602285,0.03138799047938097,0.026177832530564146,0.021252743617463054,0.019350480528862284,0.016015215446197228,0.015551358578147887,0.01432637353225581,0.013714904194269012,0.013035796523943613],\"type\":\"scatter\"},{\"hovertext\":\"<b>Topic 2</b>:casas_bahia_entrega_transportadora_\",\"line\":{\"color\":\"black\",\"width\":1.5},\"mode\":\"lines+lines\",\"name\":\"\",\"opacity\":0.1,\"x\":[1,2,3,4,5,6,7,8,9,10],\"y\":[0.05783870114286684,0.05771482451659473,0.014946922393423165,0.0142529475813092,0.012191422272298993,0.010372420362765486,0.009729839598445884,0.009610191471846568,0.009480459432719848,0.009440486272010794],\"type\":\"scatter\"},{\"hovertext\":\"<b>Topic 3</b>:cancelamento_cancelar_pedido_cancel\",\"line\":{\"color\":\"black\",\"width\":1.5},\"mode\":\"lines+lines\",\"name\":\"\",\"opacity\":0.1,\"x\":[1,2,3,4,5,6,7,8,9,10],\"y\":[0.04643952925581061,0.030963212671685808,0.021915522326017452,0.01948916638725918,0.016514594226458224,0.014698768156466159,0.011888848026710114,0.010469841175026973,0.01041011265483638,0.010350839549124139],\"type\":\"scatter\"},{\"hovertext\":\"<b>Topic 4</b>:whatsapp_contato_entrega_atendiment\",\"line\":{\"color\":\"black\",\"width\":1.5},\"mode\":\"lines+lines\",\"name\":\"\",\"opacity\":0.1,\"x\":[1,2,3,4,5,6,7,8,9,10],\"y\":[0.047330172808981955,0.015519684623780377,0.011800818404876207,0.011087909286513776,0.010219908289751747,0.010173802291412213,0.010164156355242905,0.010060538269565036,0.009685668126786576,0.009234329976683584],\"type\":\"scatter\"},{\"hovertext\":\"<b>Topic 5</b>:samsung_celular_aparelho_galaxy_bat\",\"line\":{\"color\":\"black\",\"width\":1.5},\"mode\":\"lines+lines\",\"name\":\"\",\"opacity\":0.1,\"x\":[1,2,3,4,5,6,7,8,9,10],\"y\":[0.04656762781346497,0.025696713296383615,0.02550901144821557,0.01977405227219792,0.013032898088494086,0.012830285790474414,0.012225725225073552,0.011906565487076304,0.01173850561333919,0.011125916845098324],\"type\":\"scatter\"},{\"hovertext\":\"<b>Topic 6</b>:conta_senha_mail_acessar_acesso_con\",\"line\":{\"color\":\"black\",\"width\":1.5},\"mode\":\"lines+lines\",\"name\":\"\",\"opacity\":0.1,\"x\":[1,2,3,4,5,6,7,8,9,10],\"y\":[0.06866835522712776,0.0589072560819477,0.04742748887596373,0.045459012562529,0.04266942394387686,0.03379817229412767,0.027496417991679532,0.023864015583350454,0.020332122679166002,0.019316500179055562],\"type\":\"scatter\"},{\"hovertext\":\"<b>Topic 7</b>:cart\\u00e3o_cr\\u00e9dito_pagamento_cobran\\u00e7a_c\",\"line\":{\"color\":\"black\",\"width\":1.5},\"mode\":\"lines+lines\",\"name\":\"\",\"opacity\":0.1,\"x\":[1,2,3,4,5,6,7,8,9,10],\"y\":[0.08740289852913148,0.05064470472986871,0.03135230914479451,0.027210642548864992,0.025134304035599162,0.0241614169601501,0.023793607227797442,0.021448029996207242,0.0194177902791653,0.017475557976021634],\"type\":\"scatter\"},{\"hovertext\":\"<b>Topic 8</b>:propaganda_enganosa_an\\u00fancio_site_cu\",\"line\":{\"color\":\"black\",\"width\":1.5},\"mode\":\"lines+lines\",\"name\":\"\",\"opacity\":0.1,\"x\":[1,2,3,4,5,6,7,8,9,10],\"y\":[0.07240348272977731,0.06628650797328639,0.017279171722591573,0.017123912573957248,0.01470584839583288,0.014671424507508309,0.013922557297353954,0.013059085855193567,0.012099222722447033,0.011730287516170135],\"type\":\"scatter\"},{\"hovertext\":\"<b>Topic 9</b>:brasil_shein_aeroporto_correios_ped\",\"line\":{\"color\":\"black\",\"width\":1.5},\"mode\":\"lines+lines\",\"name\":\"\",\"opacity\":0.1,\"x\":[1,2,3,4,5,6,7,8,9,10],\"y\":[0.061493332508517594,0.03367205242464681,0.01816226777899364,0.01682365376929152,0.015251032527804086,0.012844439571826958,0.01183598382984077,0.011712147702533534,0.011265590233818621,0.010150910949720692],\"type\":\"scatter\"},{\"hovertext\":\"<b>Topic 10</b>:livre_mercado_vendedor_reclama\\u00e7\\u00e3o_\",\"line\":{\"color\":\"black\",\"width\":1.5},\"mode\":\"lines+lines\",\"name\":\"\",\"opacity\":0.1,\"x\":[1,2,3,4,5,6,7,8,9,10],\"y\":[0.04230730045895594,0.04075971669295964,0.021187889038909086,0.020103533772109553,0.016706619664311168,0.015622849864508606,0.013979001726576372,0.012314521818809496,0.010619919503404723,0.010056054509417886],\"type\":\"scatter\"},{\"hovertext\":\"<b>Topic 11</b>:atendimento_loja_poi_compra_mercad\",\"line\":{\"color\":\"black\",\"width\":1.5},\"mode\":\"lines+lines\",\"name\":\"\",\"opacity\":0.1,\"x\":[1,2,3,4,5,6,7,8,9,10],\"y\":[0.011430226759970559,0.010816695282024287,0.010611396381926036,0.010479478359382252,0.008474861246472055,0.008329420989816825,0.008081023850528002,0.008070806344721793,0.007968226505617968,0.007951939040457595],\"type\":\"scatter\"},{\"hovertext\":\"<b>Topic 12</b>:iphone_apple_aparelho_carregador_c\",\"line\":{\"color\":\"black\",\"width\":1.5},\"mode\":\"lines+lines\",\"name\":\"\",\"opacity\":0.1,\"x\":[1,2,3,4,5,6,7,8,9,10],\"y\":[0.061591322688080895,0.026512365625254348,0.02014969608012491,0.018964577171588847,0.013630142371299963,0.01133123055637075,0.01125873919204919,0.01077307957524193,0.009875118445688164,0.009486064221094496],\"type\":\"scatter\"},{\"hovertext\":\"<b>Topic 13</b>:pe\\u00e7a_quebrado_produto_defeito_comp\",\"line\":{\"color\":\"black\",\"width\":1.5},\"mode\":\"lines+lines\",\"name\":\"\",\"opacity\":0.1,\"x\":[1,2,3,4,5,6,7,8,9,10],\"y\":[0.024152992696863076,0.02156863944686673,0.020602207894533736,0.0200130134343571,0.018004896143452916,0.017701619730158567,0.016673179444350886,0.015428340876561406,0.014576482828238091,0.013400036246633575],\"type\":\"scatter\"},{\"hovertext\":\"<b>Topic 14</b>:americana_lojas_site_pedido_compra\",\"line\":{\"color\":\"black\",\"width\":1.5},\"mode\":\"lines+lines\",\"name\":\"\",\"opacity\":0.1,\"x\":[1,2,3,4,5,6,7,8,9,10],\"y\":[0.07002482583298812,0.027253284686996865,0.01518735884350432,0.015152134085146658,0.014693582836205789,0.013629735041500066,0.013377033785023662,0.012619270302754284,0.011619119027651515,0.011501900872513035],\"type\":\"scatter\"},{\"hovertext\":\"<b>Topic 15</b>:endere\\u00e7o_errado_pedido_entregue_pe\",\"line\":{\"color\":\"black\",\"width\":1.5},\"mode\":\"lines+lines\",\"name\":\"\",\"opacity\":0.1,\"x\":[1,2,3,4,5,6,7,8,9,10],\"y\":[0.0846388412040373,0.03753449677242727,0.03101544596433415,0.02128382166249048,0.018768582031752544,0.018427134847020164,0.016493756432905963,0.01626871537663289,0.014727161395554344,0.014575114112060484],\"type\":\"scatter\"},{\"hovertext\":\"<b>Topic 16</b>:roupas_vestido_cal\\u00e7a_roupa_cal\\u00e7as_\",\"line\":{\"color\":\"black\",\"width\":1.5},\"mode\":\"lines+lines\",\"name\":\"\",\"opacity\":0.1,\"x\":[1,2,3,4,5,6,7,8,9,10],\"y\":[0.06558781613451597,0.06461540681719266,0.05136357523492649,0.04260428164936189,0.04125567348258961,0.03781515093559729,0.03582286728243714,0.03581702131287074,0.0282910563184005,0.02545988174331307],\"type\":\"scatter\"},{\"hovertext\":\"<b>Topic 17</b>:curitiba_parado_tr\\u00e2nsito_encomenda\",\"line\":{\"color\":\"black\",\"width\":1.5},\"mode\":\"lines+lines\",\"name\":\"\",\"opacity\":0.1,\"x\":[1,2,3,4,5,6,7,8,9,10],\"y\":[0.2100902940700617,0.05824445834610445,0.05623739199229672,0.03911180056442054,0.03614544172816717,0.03453228273585614,0.029308171703242077,0.025996041264264105,0.025046699842016337,0.024659985116010447],\"type\":\"scatter\"},{\"hovertext\":\"<b>Topic 18</b>:conta_bloqueada_suspensa_bloqueara\",\"line\":{\"color\":\"black\",\"width\":1.5},\"mode\":\"lines+lines\",\"name\":\"\",\"opacity\":0.1,\"x\":[1,2,3,4,5,6,7,8,9,10],\"y\":[0.09308408292430966,0.0580310860647265,0.05410525196975475,0.020768021200143694,0.02071487079402478,0.02019227143171283,0.018377034808482785,0.017952832393890224,0.01688457465486724,0.01659629069859235],\"type\":\"scatter\"},{\"hovertext\":\"<b>Topic 19</b>:jogo_lan\\u00e7amento_ragnarok_venda_pr\\u00e9\",\"line\":{\"color\":\"black\",\"width\":1.5},\"mode\":\"lines+lines\",\"name\":\"\",\"opacity\":0.1,\"x\":[1,2,3,4,5,6,7,8,9,10],\"y\":[0.13817910306202325,0.10172694869851666,0.057805867900277176,0.057122622671140044,0.045473196676052645,0.02597118861016542,0.021215946140171422,0.02105430564624838,0.02021178879946702,0.01983528217464162],\"type\":\"scatter\"},{\"hovertext\":\"<b>Topic 20</b>:geladeira_refrigerador_troca_colet\",\"line\":{\"color\":\"black\",\"width\":1.5},\"mode\":\"lines+lines\",\"name\":\"\",\"opacity\":0.1,\"x\":[1,2,3,4,5,6,7,8,9,10],\"y\":[0.14268732516729166,0.04019564767201108,0.028040885386634386,0.016014710143973526,0.015790512910952428,0.014958019745014912,0.01391497037640609,0.013471678727787838,0.013336105461223241,0.013003803501182605],\"type\":\"scatter\"},{\"hovertext\":\"<b>Topic 21</b>:dinheiro_volta_quero_recebi_reembo\",\"line\":{\"color\":\"black\",\"width\":1.5},\"mode\":\"lines+lines\",\"name\":\"\",\"opacity\":0.1,\"x\":[1,2,3,4,5,6,7,8,9,10],\"y\":[0.0678315035606535,0.04605509073930569,0.04312547175469872,0.03821096404742703,0.0359546014277811,0.029746812043480456,0.028731705498474872,0.026600293583978946,0.02362068683799799,0.02329910310551799],\"type\":\"scatter\"},{\"hovertext\":\"<b>Topic 22</b>:cashback_02_valor_americana_extrat\",\"line\":{\"color\":\"black\",\"width\":1.5},\"mode\":\"lines+lines\",\"name\":\"\",\"opacity\":0.1,\"x\":[1,2,3,4,5,6,7,8,9,10],\"y\":[0.17810983068694577,0.031088558224704316,0.027929269576446744,0.025324805339022077,0.02305481076539449,0.021235408177514487,0.020714762227315997,0.02045386261812662,0.01944846051147631,0.01723938878256401],\"type\":\"scatter\"},{\"hovertext\":\"<b>Topic 23</b>:devolu\\u00e7\\u00e3o_c\\u00f3digo_devolver_livre_me\",\"line\":{\"color\":\"black\",\"width\":1.5},\"mode\":\"lines+lines\",\"name\":\"\",\"opacity\":0.1,\"x\":[1,2,3,4,5,6,7,8,9,10],\"y\":[0.09673350037520853,0.04823309303434304,0.03334484650783596,0.025377597040506693,0.023929365090718687,0.02234017141534603,0.019128295616548406,0.016036508694703733,0.01561436831254861,0.014392283137370728],\"type\":\"scatter\"},{\"hovertext\":\"<b>Topic 24</b>:mercado_pago_cr\\u00e9dito_livre_conta_d\",\"line\":{\"color\":\"black\",\"width\":1.5},\"mode\":\"lines+lines\",\"name\":\"\",\"opacity\":0.1,\"x\":[1,2,3,4,5,6,7,8,9,10],\"y\":[0.06588152760196063,0.05398553819854151,0.038231608971917304,0.036245378744513175,0.02877626292430929,0.026742358729847496,0.021865666977849602,0.019639023215472794,0.018939930145089445,0.018340469609021963],\"type\":\"scatter\"},{\"hovertext\":\"<b>Topic 25</b>:cancelamento_cancelar_loja_compra_\",\"line\":{\"color\":\"black\",\"width\":1.5},\"mode\":\"lines+lines\",\"name\":\"\",\"opacity\":0.1,\"x\":[1,2,3,4,5,6,7,8,9,10],\"y\":[0.03369016645190218,0.02251356847676696,0.018852889256673378,0.015472724432501887,0.014591241656457919,0.013729842671104917,0.012708307686589624,0.011185073537679948,0.010935294298743483,0.010909726074684723],\"type\":\"scatter\"},{\"hovertext\":\"<b>Topic 26</b>:produtos_mercadoria_recebi_produto\",\"line\":{\"color\":\"black\",\"width\":1.5},\"mode\":\"lines+lines\",\"name\":\"\",\"opacity\":0.1,\"x\":[1,2,3,4,5,6,7,8,9,10],\"y\":[0.05091320718303157,0.04642100773896488,0.04329047104607975,0.03897380079898262,0.036950502694175144,0.029882683581550974,0.028180030370639337,0.02678387018064265,0.025463225147928852,0.025463225147928852],\"type\":\"scatter\"},{\"hovertext\":\"<b>Topic 27</b>:estorno_reembolso_valor_parcelas_v\",\"line\":{\"color\":\"black\",\"width\":1.5},\"mode\":\"lines+lines\",\"name\":\"\",\"opacity\":0.1,\"x\":[1,2,3,4,5,6,7,8,9,10],\"y\":[0.05339542005793923,0.041960336147908846,0.02938837556938143,0.019122260044961384,0.019116958463765436,0.01871195856215364,0.018189803617570166,0.01794708844495016,0.01681919391879498,0.016803836697650787],\"type\":\"scatter\"},{\"hovertext\":\"<b>Topic 28</b>:t\\u00eanis_tenis_raquete_produto_mizuno\",\"line\":{\"color\":\"black\",\"width\":1.5},\"mode\":\"lines+lines\",\"name\":\"\",\"opacity\":0.1,\"x\":[1,2,3,4,5,6,7,8,9,10],\"y\":[0.15125474111505097,0.032509303723068185,0.02600744297845455,0.01927275863685954,0.019245215056754344,0.019005732947451493,0.018066939717420436,0.017048975123696766,0.017048975123696766,0.016722452649657767],\"type\":\"scatter\"},{\"hovertext\":\"<b>Topic 29</b>:rastreio_c\\u00f3digo_rastreamento_apare\",\"line\":{\"color\":\"black\",\"width\":1.5},\"mode\":\"lines+lines\",\"name\":\"\",\"opacity\":0.1,\"x\":[1,2,3,4,5,6,7,8,9,10],\"y\":[0.18882431038216346,0.14029376297157406,0.04944722053820539,0.04000162485288715,0.031054439907704318,0.02788265356649001,0.027412422651100596,0.025894114371051918,0.024847736963858332,0.022224623579520035],\"type\":\"scatter\"},{\"hovertext\":\"<b>Topic 30</b>:m\\u00e1quina_lavar_maquina_roupas_lavad\",\"line\":{\"color\":\"black\",\"width\":1.5},\"mode\":\"lines+lines\",\"name\":\"\",\"opacity\":0.1,\"x\":[1,2,3,4,5,6,7,8,9,10],\"y\":[0.10583541566010565,0.10042015525051902,0.03623150605845582,0.03154435799973798,0.029829257607335034,0.021605590124177825,0.018944953034258263,0.01849688376437883,0.017684721839771926,0.0171373545300727],\"type\":\"scatter\"},{\"hovertext\":\"<b>Topic 31</b>:taxon_taxada_shein_alf\\u00e2ndega_reemb\",\"line\":{\"color\":\"black\",\"width\":1.5},\"mode\":\"lines+lines\",\"name\":\"\",\"opacity\":0.1,\"x\":[1,2,3,4,5,6,7,8,9,10],\"y\":[0.0983734542422778,0.08888567180914676,0.06033951855408857,0.03660870303130506,0.0363153016828752,0.030776652148929832,0.025618000022316057,0.025618000022316057,0.02355604700807658,0.02293552344996836],\"type\":\"scatter\"},{\"hovertext\":\"<b>Topic 32</b>:bluetooth_fone_ouvido_fones_defeit\",\"line\":{\"color\":\"black\",\"width\":1.5},\"mode\":\"lines+lines\",\"name\":\"\",\"opacity\":0.1,\"x\":[1,2,3,4,5,6,7,8,9,10],\"y\":[0.07330416927626224,0.049762775031989455,0.03847131916524707,0.03551632284570573,0.022242793570608724,0.020708441478982355,0.01983696447852409,0.016704825087543666,0.015686240716786586,0.01534889529351227],\"type\":\"scatter\"},{\"hovertext\":\"<b>Topic 33</b>:celular_entrega_prazo_2022_22_11_1\",\"line\":{\"color\":\"black\",\"width\":1.5},\"mode\":\"lines+lines\",\"name\":\"\",\"opacity\":0.1,\"x\":[1,2,3,4,5,6,7,8,9,10],\"y\":[0.06617937053710056,0.029779512112062485,0.022253036535330794,0.022063719437121352,0.01976380265933072,0.019370203988056934,0.01854501793292151,0.01776524109308127,0.01671476099823378,0.01631804507698635],\"type\":\"scatter\"},{\"hovertext\":\"<b>Topic 34</b>:ta\\u00e7as_oculos_comprei_panela_press\\u00e3\",\"line\":{\"color\":\"black\",\"width\":1.5},\"mode\":\"lines+lines\",\"name\":\"\",\"opacity\":0.1,\"x\":[1,2,3,4,5,6,7,8,9,10],\"y\":[0.04391849954065193,0.04233458290595363,0.04072563196525243,0.03973247329753964,0.03908144125150867,0.03290642371049034,0.031074741205132383,0.029159230524786268,0.02849109743253749,0.025843532766319077],\"type\":\"scatter\"},{\"hovertext\":\"<b>Topic 35</b>:reembolso_recebi_dinheiro_realizad\",\"line\":{\"color\":\"black\",\"width\":1.5},\"mode\":\"lines+lines\",\"name\":\"\",\"opacity\":0.1,\"x\":[1,2,3,4,5,6,7,8,9,10],\"y\":[0.12543839416970604,0.03932725890805836,0.028945156859782772,0.02766333480112059,0.021375915566924156,0.02076186639666742,0.019596446159895572,0.01949264017497824,0.01922932292824841,0.019208063527892692],\"type\":\"scatter\"},{\"hovertext\":\"<b>Topic 36</b>:dinheiro_paguei_disjuntores_compre\",\"line\":{\"color\":\"black\",\"width\":1.5},\"mode\":\"lines+lines\",\"name\":\"\",\"opacity\":0.1,\"x\":[1,2,3,4,5,6,7,8,9,10],\"y\":[0.033249253577717824,0.03181335284191218,0.02092544858419392,0.02036635549522532,0.020208829228461157,0.019961201041315803,0.019961201041315803,0.01944539403693395,0.017778440771953348,0.01768314771186261],\"type\":\"scatter\"},{\"hovertext\":\"<b>Topic 37</b>:pneu_pneus_capacete_coleta_moto_17\",\"line\":{\"color\":\"black\",\"width\":1.5},\"mode\":\"lines+lines\",\"name\":\"\",\"opacity\":0.1,\"x\":[1,2,3,4,5,6,7,8,9,10],\"y\":[0.09521127886186029,0.08833441779202664,0.047716926712814,0.03660215246243713,0.0231446096073729,0.020947495650079084,0.01984604980644766,0.018671870539523253,0.018656883920203864,0.016573538915198315],\"type\":\"scatter\"},{\"hovertext\":\"<b>Topic 38</b>:rob\\u00f4_falar_suporte_atrasado_tentei\",\"line\":{\"color\":\"black\",\"width\":1.5},\"mode\":\"lines+lines\",\"name\":\"\",\"opacity\":0.1,\"x\":[1,2,3,4,5,6,7,8,9,10],\"y\":[0.10505484277291693,0.03351220164443109,0.027520438319986497,0.02596366130341447,0.02560109239116298,0.0240883601526658,0.023839695217708012,0.023270667366385583,0.022419051880470723,0.021646827616985755],\"type\":\"scatter\"},{\"hovertext\":\"<b>Topic 39</b>:entrega_10_feira_produto_segurador\",\"line\":{\"color\":\"black\",\"width\":1.5},\"mode\":\"lines+lines\",\"name\":\"\",\"opacity\":0.1,\"x\":[1,2,3,4,5,6,7,8,9,10],\"y\":[0.02575055178458667,0.01850031410190267,0.015257211430610582,0.014528438354220154,0.014484486510441211,0.014018202480392726,0.013415586459394299,0.013206522140607182,0.012966872224711497,0.01283292165383057],\"type\":\"scatter\"},{\"hovertext\":\"<b>Topic 40</b>:entregue_recebi_consta_pedido_enco\",\"line\":{\"color\":\"black\",\"width\":1.5},\"mode\":\"lines+lines\",\"name\":\"\",\"opacity\":0.1,\"x\":[1,2,3,4,5,6,7,8,9,10],\"y\":[0.1002256677901374,0.08327012684621111,0.0652960821910589,0.058997160160005,0.04921427141727952,0.04762904864492031,0.03335837276504086,0.03331243078837931,0.03272835503831905,0.029351648558626587],\"type\":\"scatter\"},{\"hovertext\":\"<b>Topic 41</b>:reconhecimento_facial_rosto_senha_\",\"line\":{\"color\":\"black\",\"width\":1.5},\"mode\":\"lines+lines\",\"name\":\"\",\"opacity\":0.1,\"x\":[1,2,3,4,5,6,7,8,9,10],\"y\":[0.19633033352761675,0.18856503367470018,0.05067622620039152,0.044376165176803394,0.04044689292885128,0.03966705208222391,0.03942703764442721,0.0341200262646994,0.03179356515728269,0.03035243371665009],\"type\":\"scatter\"},{\"hovertext\":\"<b>Topic 42</b>:amazon_music_cart\\u00e3o_conta_gratuito\",\"line\":{\"color\":\"black\",\"width\":1.5},\"mode\":\"lines+lines\",\"name\":\"\",\"opacity\":0.1,\"x\":[1,2,3,4,5,6,7,8,9,10],\"y\":[0.04570705137237342,0.019354645797351817,0.018276674602815384,0.017642042265153084,0.017531514790859088,0.016368469851295524,0.01611415374194023,0.01563574795473816,0.015610181127024319,0.015483716637881452],\"type\":\"scatter\"},{\"hovertext\":\"<b>Topic 43</b>:china_nacional_order_nacionais_ped\",\"line\":{\"color\":\"black\",\"width\":1.5},\"mode\":\"lines+lines\",\"name\":\"\",\"opacity\":0.1,\"x\":[1,2,3,4,5,6,7,8,9,10],\"y\":[0.1856254005973842,0.056928445038319675,0.03790133198106812,0.03754700825023789,0.03118421322743122,0.030710362098570112,0.030216036949863904,0.02789723195487731,0.027813804942632143,0.027116125050930296],\"type\":\"scatter\"},{\"hovertext\":\"<b>Topic 44</b>:cadeira_cama_gamer_ch\\u00e3o_dormindo_e\",\"line\":{\"color\":\"black\",\"width\":1.5},\"mode\":\"lines+lines\",\"name\":\"\",\"opacity\":0.1,\"x\":[1,2,3,4,5,6,7,8,9,10],\"y\":[0.1865906028771424,0.06595828998665265,0.05881678644958709,0.03277130807906628,0.030645092997610857,0.030349200000280113,0.029614734375169805,0.028751726904598436,0.02713548077617396,0.027013912469509023],\"type\":\"scatter\"},{\"hovertext\":\"<b>Topic 45</b>:shein_recebi_reembolso_envio_nunca\",\"line\":{\"color\":\"black\",\"width\":1.5},\"mode\":\"lines+lines\",\"name\":\"\",\"opacity\":0.1,\"x\":[1,2,3,4,5,6,7,8,9,10],\"y\":[0.04319933354500861,0.03604919399625135,0.034425253301897676,0.030882391744133122,0.030410701858287887,0.02700980253807292,0.027009200216011334,0.023875219324349755,0.021877378165943377,0.021808351295487246],\"type\":\"scatter\"},{\"hovertext\":\"<b>Topic 46</b>:perfume_falsificado_aromatizador_p\",\"line\":{\"color\":\"black\",\"width\":1.5},\"mode\":\"lines+lines\",\"name\":\"\",\"opacity\":0.1,\"x\":[1,2,3,4,5,6,7,8,9,10],\"y\":[0.12920153326051084,0.03657811398845236,0.03176998668303178,0.024916163099586365,0.023570217108617442,0.019464489293711206,0.01899553097733012,0.017803506629998578,0.017803506629998578,0.016869605270149954],\"type\":\"scatter\"},{\"hovertext\":\"<b>Topic 47</b>:pagamento_confirma\\u00e7\\u00e3o_boleto_confi\",\"line\":{\"color\":\"black\",\"width\":1.5},\"mode\":\"lines+lines\",\"name\":\"\",\"opacity\":0.1,\"x\":[1,2,3,4,5,6,7,8,9,10],\"y\":[0.15543911333698018,0.05520662939424573,0.051043428228285795,0.03828507746634789,0.03643616530037312,0.032616450807876514,0.02966561055828688,0.02682139564807115,0.026675379003889818,0.026327489752379373],\"type\":\"scatter\"},{\"hovertext\":\"<b>Topic 48</b>:geladeira_entrega_casa_feira_ameri\",\"line\":{\"color\":\"black\",\"width\":1.5},\"mode\":\"lines+lines\",\"name\":\"\",\"opacity\":0.1,\"x\":[1,2,3,4,5,6,7,8,9,10],\"y\":[0.14219127852057217,0.033285233786213675,0.030648149963594697,0.02786399052779882,0.024558093723485896,0.02219383766770009,0.02209103791319492,0.021839540633604194,0.019693039690509423,0.019293664878995385],\"type\":\"scatter\"},{\"hovertext\":\"<b>Topic 49</b>:rodas_carrinho_magazine_traseiras_\",\"line\":{\"color\":\"black\",\"width\":1.5},\"mode\":\"lines+lines\",\"name\":\"\",\"opacity\":0.1,\"x\":[1,2,3,4,5,6,7,8,9,10],\"y\":[0.02615129495599007,0.025428278237179303,0.02190266255384566,0.021662059953598035,0.019665683918074748,0.01952538661140072,0.018732756497075873,0.018316721802848716,0.017853501533482665,0.017103543413789175],\"type\":\"scatter\"},{\"hovertext\":\"<b>Topic 50</b>:cupom_finalizar_americana_reais_de\",\"line\":{\"color\":\"black\",\"width\":1.5},\"mode\":\"lines+lines\",\"name\":\"\",\"opacity\":0.1,\"x\":[1,2,3,4,5,6,7,8,9,10],\"y\":[0.17160170207560335,0.04952209490784658,0.03505359187905389,0.02877097556314304,0.02600279856132058,0.023845208342217636,0.02374567833835442,0.022881820020764866,0.021815740576619835,0.01965281531931522],\"type\":\"scatter\"},{\"hovertext\":\"<b>Topic 51</b>:conta_cart\\u00e3o_fatura_bloqueada_bloq\",\"line\":{\"color\":\"black\",\"width\":1.5},\"mode\":\"lines+lines\",\"name\":\"\",\"opacity\":0.1,\"x\":[1,2,3,4,5,6,7,8,9,10],\"y\":[0.07063067408192378,0.061817261095133795,0.0520330142409886,0.04915315588978832,0.03438203686890686,0.025574508649713414,0.024948340940929042,0.0233960575301692,0.0220542033893942,0.021966864762348833],\"type\":\"scatter\"},{\"hovertext\":\"<b>Topic 52</b>:sof\\u00e1_sofa_tecido_lugares_assento_r\",\"line\":{\"color\":\"black\",\"width\":1.5},\"mode\":\"lines+lines\",\"name\":\"\",\"opacity\":0.1,\"x\":[1,2,3,4,5,6,7,8,9,10],\"y\":[0.22457419453425226,0.029029428278368203,0.025586430101436432,0.022576549396145073,0.021772071208776153,0.021772071208776153,0.020488840355032335,0.01973956526237967,0.018493466227241125,0.01727049760041897],\"type\":\"scatter\"},{\"hovertext\":\"<b>Topic 53</b>:black_friday_promocional_comprar_p\",\"line\":{\"color\":\"black\",\"width\":1.5},\"mode\":\"lines+lines\",\"name\":\"\",\"opacity\":0.1,\"x\":[1,2,3,4,5,6,7,8,9,10],\"y\":[0.08151339945289965,0.07003967619224115,0.03233913261437126,0.03012275009690533,0.02617714285130126,0.02253586216080759,0.021921501358344062,0.02122709206029022,0.021159374878511075,0.019324881071736577],\"type\":\"scatter\"},{\"hovertext\":\"<b>Topic 54</b>:vestido_vestidos_casamento_shein_r\",\"line\":{\"color\":\"black\",\"width\":1.5},\"mode\":\"lines+lines\",\"name\":\"\",\"opacity\":0.1,\"x\":[1,2,3,4,5,6,7,8,9,10],\"y\":[0.16442820899008487,0.10570586280990027,0.07330655331830517,0.04845673044271494,0.04447837028496432,0.04362532144714115,0.035093701289421776,0.03313895805006228,0.0327058936361859,0.03249433646812514],\"type\":\"scatter\"},{\"hovertext\":\"<b>Topic 55</b>:chegou_insusseso_recebi_shein_rast\",\"line\":{\"color\":\"black\",\"width\":1.5},\"mode\":\"lines+lines\",\"name\":\"\",\"opacity\":0.1,\"x\":[1,2,3,4,5,6,7,8,9,10],\"y\":[0.07989394640241834,0.059506450073964164,0.056204415911275035,0.04789491327816172,0.044478610938231126,0.042149181977165225,0.0417245679927987,0.041119865834615195,0.04067092227168296,0.035923793200960986],\"type\":\"scatter\"},{\"hovertext\":\"<b>Topic 56</b>:reembolso_devolvido_devolvi_dinhei\",\"line\":{\"color\":\"black\",\"width\":1.5},\"mode\":\"lines+lines\",\"name\":\"\",\"opacity\":0.1,\"x\":[1,2,3,4,5,6,7,8,9,10],\"y\":[0.07745681992926978,0.0645807333151107,0.049235908727982884,0.046495613960284544,0.035933727032223514,0.034871669062556836,0.03288608915637358,0.028740636782331897,0.025778674897613475,0.0253567702849671],\"type\":\"scatter\"},{\"hovertext\":\"<b>Topic 57</b>:cart\\u00e3o_cancelada_cr\\u00e9dito_cancelei_\",\"line\":{\"color\":\"black\",\"width\":1.5},\"mode\":\"lines+lines\",\"name\":\"\",\"opacity\":0.1,\"x\":[1,2,3,4,5,6,7,8,9,10],\"y\":[0.10205409236806784,0.09117568230738442,0.07756429994931992,0.05761499542383254,0.05517233154939565,0.05236482986990505,0.042966418648320154,0.033274014770929554,0.033118804249249,0.03208339939312505],\"type\":\"scatter\"},{\"hovertext\":\"<b>Topic 58</b>:320_iphone_instagram_propaganda_en\",\"line\":{\"color\":\"black\",\"width\":1.5},\"mode\":\"lines+lines\",\"name\":\"\",\"opacity\":0.1,\"x\":[1,2,3,4,5,6,7,8,9,10],\"y\":[0.08428095460176152,0.07769261471646845,0.0677572191577875,0.06722201425725634,0.06496183755015918,0.05639362024870377,0.053789922637064586,0.053477828972270054,0.04904453819628835,0.042131559351994745],\"type\":\"scatter\"},{\"hovertext\":\"<b>Topic 59</b>:reembolso_postagem_bota_devolu\\u00e7\\u00e3o_\",\"line\":{\"color\":\"black\",\"width\":1.5},\"mode\":\"lines+lines\",\"name\":\"\",\"opacity\":0.1,\"x\":[1,2,3,4,5,6,7,8,9,10],\"y\":[0.09727800902260025,0.06910910494405695,0.0661748296116897,0.05676790319898928,0.05137045407181326,0.0381770956965911,0.03717401127619239,0.03365050285881352,0.032939080841334595,0.030287865408127355],\"type\":\"scatter\"},{\"hovertext\":\"<b>Topic 60</b>:monitor_tela_philco_smart_smartwat\",\"line\":{\"color\":\"black\",\"width\":1.5},\"mode\":\"lines+lines\",\"name\":\"\",\"opacity\":0.1,\"x\":[1,2,3,4,5,6,7,8,9,10],\"y\":[0.2094459691996179,0.05014194349221183,0.04939458611603425,0.04917477234224035,0.04369681605846383,0.03938556407773167,0.03938556407773167,0.03744153811278308,0.03744153811278308,0.03606241870536881],\"type\":\"scatter\"},{\"hovertext\":\"<b>Topic 61</b>:cancelamento_endereco_site_persona\",\"line\":{\"color\":\"black\",\"width\":1.5},\"mode\":\"lines+lines\",\"name\":\"\",\"opacity\":0.1,\"x\":[1,2,3,4,5,6,7,8,9,10],\"y\":[0.040580687657179065,0.027548130148275334,0.02414080484247001,0.020347247688571518,0.02021801456777024,0.01971794805027349,0.01959777836681859,0.019016524082594997,0.019016524082594997,0.017932384767808972],\"type\":\"scatter\"},{\"hovertext\":\"<b>Topic 62</b>:americana_lojas_instagram_airfryer\",\"line\":{\"color\":\"black\",\"width\":1.5},\"mode\":\"lines+lines\",\"name\":\"\",\"opacity\":0.1,\"x\":[1,2,3,4,5,6,7,8,9,10],\"y\":[0.075022306967236,0.05715784000387005,0.03583031208724306,0.03406308195736301,0.033145754988049725,0.03286995158911397,0.027146609363095098,0.025613765402758434,0.024927747424816578,0.023197240724222593],\"type\":\"scatter\"},{\"hovertext\":\"<b>Topic 63</b>:mgqsk_shein_gshnqq20w00179d_pedido\",\"line\":{\"color\":\"black\",\"width\":1.5},\"mode\":\"lines+lines\",\"name\":\"\",\"opacity\":0.1,\"x\":[1,2,3,4,5,6,7,8,9,10],\"y\":[0.09165837193914088,0.08303389487922509,0.05884342233554225,0.05380896768362265,0.041956186893793386,0.04178215505774002,0.041265779448276654,0.041265779448276654,0.0385555798333913,0.03778399145763517],\"type\":\"scatter\"},{\"hovertext\":\"<b>Topic 64</b>:celular_smartphone_aparelho_primei\",\"line\":{\"color\":\"black\",\"width\":1.5},\"mode\":\"lines+lines\",\"name\":\"\",\"opacity\":0.1,\"x\":[1,2,3,4,5,6,7,8,9,10],\"y\":[0.0523470488224541,0.04176297714608919,0.02871732281797126,0.02669643810087111,0.023128052618013244,0.02264939225447192,0.022465973548849372,0.021816449856185673,0.02112562834277058,0.020963517164912578],\"type\":\"scatter\"},{\"hovertext\":\"<b>Topic 65</b>:11_jogo_entrega_atraso_chegar_avis\",\"line\":{\"color\":\"black\",\"width\":1.5},\"mode\":\"lines+lines\",\"name\":\"\",\"opacity\":0.1,\"x\":[1,2,3,4,5,6,7,8,9,10],\"y\":[0.09633448116726982,0.04095578820486995,0.04072844606526413,0.032465469858245076,0.03162690162074089,0.031022427911628434,0.03076929398152242,0.027846940394129882,0.025099695231832007,0.024790476114666116],\"type\":\"scatter\"},{\"hovertext\":\"<b>Topic 66</b>:shein_encomenda_mercadorias_produt\",\"line\":{\"color\":\"black\",\"width\":1.5},\"mode\":\"lines+lines\",\"name\":\"\",\"opacity\":0.1,\"x\":[1,2,3,4,5,6,7,8,9,10],\"y\":[0.09067908885895862,0.043325063633352014,0.03981735883228858,0.03893515081832445,0.037427123838267656,0.035109697457355,0.03469071822227634,0.03358312445076654,0.032967698783453424,0.03275438833630316],\"type\":\"scatter\"},{\"hovertext\":\"<b>Topic 67</b>:nacionais_internacional_nacional_3\",\"line\":{\"color\":\"black\",\"width\":1.5},\"mode\":\"lines+lines\",\"name\":\"\",\"opacity\":0.1,\"x\":[1,2,3,4,5,6,7,8,9,10],\"y\":[0.12613960014259676,0.125064118859324,0.08606329060112464,0.07499953524132122,0.07499953524132122,0.06675946722576724,0.0639260913081217,0.06130806829724036,0.054210293132890636,0.04568093115259422],\"type\":\"scatter\"},{\"hovertext\":\"<b>Topic 68</b>:status_data_entrega_mudou_feriado_\",\"line\":{\"color\":\"black\",\"width\":1.5},\"mode\":\"lines+lines\",\"name\":\"\",\"opacity\":0.1,\"x\":[1,2,3,4,5,6,7,8,9,10],\"y\":[0.042602136230358835,0.03912326489351842,0.030854883382775856,0.02537187973911338,0.024099894200002952,0.021405508256057984,0.02096361027901669,0.019897165333824744,0.019897165333824744,0.01971230390941363],\"type\":\"scatter\"},{\"hovertext\":\"<b>Topic 69</b>:remetente_voltou_pedido_shein_reem\",\"line\":{\"color\":\"black\",\"width\":1.5},\"mode\":\"lines+lines\",\"name\":\"\",\"opacity\":0.1,\"x\":[1,2,3,4,5,6,7,8,9,10],\"y\":[0.16851583766568193,0.07982212891445288,0.05831313511467161,0.04789491327816172,0.04580055439295952,0.04046321469807862,0.035934780768044836,0.03561372887379995,0.035219669248150995,0.028640151296266483],\"type\":\"scatter\"},{\"hovertext\":\"<b>Topic 70</b>:casa_tentativa_ningu\\u00e9m_entrega_ten\",\"line\":{\"color\":\"black\",\"width\":1.5},\"mode\":\"lines+lines\",\"name\":\"\",\"opacity\":0.1,\"x\":[1,2,3,4,5,6,7,8,9,10],\"y\":[0.051413045507111,0.049619165541458524,0.040451244424690135,0.036815485854448465,0.028991793077857226,0.028636700248091715,0.026946289730157558,0.02506541849846221,0.02485312471705404,0.023475146098657477],\"type\":\"scatter\"},{\"hovertext\":\"<b>Topic 71</b>:c\\u00f3digo_entregue_rastreamento_receb\",\"line\":{\"color\":\"black\",\"width\":1.5},\"mode\":\"lines+lines\",\"name\":\"\",\"opacity\":0.1,\"x\":[1,2,3,4,5,6,7,8,9,10],\"y\":[0.07897886589215392,0.06976895268660119,0.06288983923643335,0.05086038948036691,0.038944491131101946,0.0381415548383528,0.03790300562851432,0.03736548457728293,0.03723591256000316,0.036495498270225996],\"type\":\"scatter\"},{\"hovertext\":\"<b>Topic 72</b>:celular_cart\\u00e3o_erro_pague_reais_cr\",\"line\":{\"color\":\"black\",\"width\":1.5},\"mode\":\"lines+lines\",\"name\":\"\",\"opacity\":0.1,\"x\":[1,2,3,4,5,6,7,8,9,10],\"y\":[0.10617163531328391,0.04977462920195735,0.03415459584605257,0.03127260878188351,0.0307646632365747,0.03042294756076698,0.02848848258628583,0.02768486883116436,0.026256467030351564,0.02577567639677836],\"type\":\"scatter\"}],                        {\"template\":{\"data\":{\"barpolar\":[{\"marker\":{\"line\":{\"color\":\"white\",\"width\":0.5},\"pattern\":{\"fillmode\":\"overlay\",\"size\":10,\"solidity\":0.2}},\"type\":\"barpolar\"}],\"bar\":[{\"error_x\":{\"color\":\"#2a3f5f\"},\"error_y\":{\"color\":\"#2a3f5f\"},\"marker\":{\"line\":{\"color\":\"white\",\"width\":0.5},\"pattern\":{\"fillmode\":\"overlay\",\"size\":10,\"solidity\":0.2}},\"type\":\"bar\"}],\"carpet\":[{\"aaxis\":{\"endlinecolor\":\"#2a3f5f\",\"gridcolor\":\"#C8D4E3\",\"linecolor\":\"#C8D4E3\",\"minorgridcolor\":\"#C8D4E3\",\"startlinecolor\":\"#2a3f5f\"},\"baxis\":{\"endlinecolor\":\"#2a3f5f\",\"gridcolor\":\"#C8D4E3\",\"linecolor\":\"#C8D4E3\",\"minorgridcolor\":\"#C8D4E3\",\"startlinecolor\":\"#2a3f5f\"},\"type\":\"carpet\"}],\"choropleth\":[{\"colorbar\":{\"outlinewidth\":0,\"ticks\":\"\"},\"type\":\"choropleth\"}],\"contourcarpet\":[{\"colorbar\":{\"outlinewidth\":0,\"ticks\":\"\"},\"type\":\"contourcarpet\"}],\"contour\":[{\"colorbar\":{\"outlinewidth\":0,\"ticks\":\"\"},\"colorscale\":[[0.0,\"#0d0887\"],[0.1111111111111111,\"#46039f\"],[0.2222222222222222,\"#7201a8\"],[0.3333333333333333,\"#9c179e\"],[0.4444444444444444,\"#bd3786\"],[0.5555555555555556,\"#d8576b\"],[0.6666666666666666,\"#ed7953\"],[0.7777777777777778,\"#fb9f3a\"],[0.8888888888888888,\"#fdca26\"],[1.0,\"#f0f921\"]],\"type\":\"contour\"}],\"heatmapgl\":[{\"colorbar\":{\"outlinewidth\":0,\"ticks\":\"\"},\"colorscale\":[[0.0,\"#0d0887\"],[0.1111111111111111,\"#46039f\"],[0.2222222222222222,\"#7201a8\"],[0.3333333333333333,\"#9c179e\"],[0.4444444444444444,\"#bd3786\"],[0.5555555555555556,\"#d8576b\"],[0.6666666666666666,\"#ed7953\"],[0.7777777777777778,\"#fb9f3a\"],[0.8888888888888888,\"#fdca26\"],[1.0,\"#f0f921\"]],\"type\":\"heatmapgl\"}],\"heatmap\":[{\"colorbar\":{\"outlinewidth\":0,\"ticks\":\"\"},\"colorscale\":[[0.0,\"#0d0887\"],[0.1111111111111111,\"#46039f\"],[0.2222222222222222,\"#7201a8\"],[0.3333333333333333,\"#9c179e\"],[0.4444444444444444,\"#bd3786\"],[0.5555555555555556,\"#d8576b\"],[0.6666666666666666,\"#ed7953\"],[0.7777777777777778,\"#fb9f3a\"],[0.8888888888888888,\"#fdca26\"],[1.0,\"#f0f921\"]],\"type\":\"heatmap\"}],\"histogram2dcontour\":[{\"colorbar\":{\"outlinewidth\":0,\"ticks\":\"\"},\"colorscale\":[[0.0,\"#0d0887\"],[0.1111111111111111,\"#46039f\"],[0.2222222222222222,\"#7201a8\"],[0.3333333333333333,\"#9c179e\"],[0.4444444444444444,\"#bd3786\"],[0.5555555555555556,\"#d8576b\"],[0.6666666666666666,\"#ed7953\"],[0.7777777777777778,\"#fb9f3a\"],[0.8888888888888888,\"#fdca26\"],[1.0,\"#f0f921\"]],\"type\":\"histogram2dcontour\"}],\"histogram2d\":[{\"colorbar\":{\"outlinewidth\":0,\"ticks\":\"\"},\"colorscale\":[[0.0,\"#0d0887\"],[0.1111111111111111,\"#46039f\"],[0.2222222222222222,\"#7201a8\"],[0.3333333333333333,\"#9c179e\"],[0.4444444444444444,\"#bd3786\"],[0.5555555555555556,\"#d8576b\"],[0.6666666666666666,\"#ed7953\"],[0.7777777777777778,\"#fb9f3a\"],[0.8888888888888888,\"#fdca26\"],[1.0,\"#f0f921\"]],\"type\":\"histogram2d\"}],\"histogram\":[{\"marker\":{\"pattern\":{\"fillmode\":\"overlay\",\"size\":10,\"solidity\":0.2}},\"type\":\"histogram\"}],\"mesh3d\":[{\"colorbar\":{\"outlinewidth\":0,\"ticks\":\"\"},\"type\":\"mesh3d\"}],\"parcoords\":[{\"line\":{\"colorbar\":{\"outlinewidth\":0,\"ticks\":\"\"}},\"type\":\"parcoords\"}],\"pie\":[{\"automargin\":true,\"type\":\"pie\"}],\"scatter3d\":[{\"line\":{\"colorbar\":{\"outlinewidth\":0,\"ticks\":\"\"}},\"marker\":{\"colorbar\":{\"outlinewidth\":0,\"ticks\":\"\"}},\"type\":\"scatter3d\"}],\"scattercarpet\":[{\"marker\":{\"colorbar\":{\"outlinewidth\":0,\"ticks\":\"\"}},\"type\":\"scattercarpet\"}],\"scattergeo\":[{\"marker\":{\"colorbar\":{\"outlinewidth\":0,\"ticks\":\"\"}},\"type\":\"scattergeo\"}],\"scattergl\":[{\"marker\":{\"colorbar\":{\"outlinewidth\":0,\"ticks\":\"\"}},\"type\":\"scattergl\"}],\"scattermapbox\":[{\"marker\":{\"colorbar\":{\"outlinewidth\":0,\"ticks\":\"\"}},\"type\":\"scattermapbox\"}],\"scatterpolargl\":[{\"marker\":{\"colorbar\":{\"outlinewidth\":0,\"ticks\":\"\"}},\"type\":\"scatterpolargl\"}],\"scatterpolar\":[{\"marker\":{\"colorbar\":{\"outlinewidth\":0,\"ticks\":\"\"}},\"type\":\"scatterpolar\"}],\"scatter\":[{\"marker\":{\"colorbar\":{\"outlinewidth\":0,\"ticks\":\"\"}},\"type\":\"scatter\"}],\"scatterternary\":[{\"marker\":{\"colorbar\":{\"outlinewidth\":0,\"ticks\":\"\"}},\"type\":\"scatterternary\"}],\"surface\":[{\"colorbar\":{\"outlinewidth\":0,\"ticks\":\"\"},\"colorscale\":[[0.0,\"#0d0887\"],[0.1111111111111111,\"#46039f\"],[0.2222222222222222,\"#7201a8\"],[0.3333333333333333,\"#9c179e\"],[0.4444444444444444,\"#bd3786\"],[0.5555555555555556,\"#d8576b\"],[0.6666666666666666,\"#ed7953\"],[0.7777777777777778,\"#fb9f3a\"],[0.8888888888888888,\"#fdca26\"],[1.0,\"#f0f921\"]],\"type\":\"surface\"}],\"table\":[{\"cells\":{\"fill\":{\"color\":\"#EBF0F8\"},\"line\":{\"color\":\"white\"}},\"header\":{\"fill\":{\"color\":\"#C8D4E3\"},\"line\":{\"color\":\"white\"}},\"type\":\"table\"}]},\"layout\":{\"annotationdefaults\":{\"arrowcolor\":\"#2a3f5f\",\"arrowhead\":0,\"arrowwidth\":1},\"autotypenumbers\":\"strict\",\"coloraxis\":{\"colorbar\":{\"outlinewidth\":0,\"ticks\":\"\"}},\"colorscale\":{\"diverging\":[[0,\"#8e0152\"],[0.1,\"#c51b7d\"],[0.2,\"#de77ae\"],[0.3,\"#f1b6da\"],[0.4,\"#fde0ef\"],[0.5,\"#f7f7f7\"],[0.6,\"#e6f5d0\"],[0.7,\"#b8e186\"],[0.8,\"#7fbc41\"],[0.9,\"#4d9221\"],[1,\"#276419\"]],\"sequential\":[[0.0,\"#0d0887\"],[0.1111111111111111,\"#46039f\"],[0.2222222222222222,\"#7201a8\"],[0.3333333333333333,\"#9c179e\"],[0.4444444444444444,\"#bd3786\"],[0.5555555555555556,\"#d8576b\"],[0.6666666666666666,\"#ed7953\"],[0.7777777777777778,\"#fb9f3a\"],[0.8888888888888888,\"#fdca26\"],[1.0,\"#f0f921\"]],\"sequentialminus\":[[0.0,\"#0d0887\"],[0.1111111111111111,\"#46039f\"],[0.2222222222222222,\"#7201a8\"],[0.3333333333333333,\"#9c179e\"],[0.4444444444444444,\"#bd3786\"],[0.5555555555555556,\"#d8576b\"],[0.6666666666666666,\"#ed7953\"],[0.7777777777777778,\"#fb9f3a\"],[0.8888888888888888,\"#fdca26\"],[1.0,\"#f0f921\"]]},\"colorway\":[\"#636efa\",\"#EF553B\",\"#00cc96\",\"#ab63fa\",\"#FFA15A\",\"#19d3f3\",\"#FF6692\",\"#B6E880\",\"#FF97FF\",\"#FECB52\"],\"font\":{\"color\":\"#2a3f5f\"},\"geo\":{\"bgcolor\":\"white\",\"lakecolor\":\"white\",\"landcolor\":\"white\",\"showlakes\":true,\"showland\":true,\"subunitcolor\":\"#C8D4E3\"},\"hoverlabel\":{\"align\":\"left\"},\"hovermode\":\"closest\",\"mapbox\":{\"style\":\"light\"},\"paper_bgcolor\":\"white\",\"plot_bgcolor\":\"white\",\"polar\":{\"angularaxis\":{\"gridcolor\":\"#EBF0F8\",\"linecolor\":\"#EBF0F8\",\"ticks\":\"\"},\"bgcolor\":\"white\",\"radialaxis\":{\"gridcolor\":\"#EBF0F8\",\"linecolor\":\"#EBF0F8\",\"ticks\":\"\"}},\"scene\":{\"xaxis\":{\"backgroundcolor\":\"white\",\"gridcolor\":\"#DFE8F3\",\"gridwidth\":2,\"linecolor\":\"#EBF0F8\",\"showbackground\":true,\"ticks\":\"\",\"zerolinecolor\":\"#EBF0F8\"},\"yaxis\":{\"backgroundcolor\":\"white\",\"gridcolor\":\"#DFE8F3\",\"gridwidth\":2,\"linecolor\":\"#EBF0F8\",\"showbackground\":true,\"ticks\":\"\",\"zerolinecolor\":\"#EBF0F8\"},\"zaxis\":{\"backgroundcolor\":\"white\",\"gridcolor\":\"#DFE8F3\",\"gridwidth\":2,\"linecolor\":\"#EBF0F8\",\"showbackground\":true,\"ticks\":\"\",\"zerolinecolor\":\"#EBF0F8\"}},\"shapedefaults\":{\"line\":{\"color\":\"#2a3f5f\"}},\"ternary\":{\"aaxis\":{\"gridcolor\":\"#DFE8F3\",\"linecolor\":\"#A2B1C6\",\"ticks\":\"\"},\"baxis\":{\"gridcolor\":\"#DFE8F3\",\"linecolor\":\"#A2B1C6\",\"ticks\":\"\"},\"bgcolor\":\"white\",\"caxis\":{\"gridcolor\":\"#DFE8F3\",\"linecolor\":\"#A2B1C6\",\"ticks\":\"\"}},\"title\":{\"x\":0.05},\"xaxis\":{\"automargin\":true,\"gridcolor\":\"#EBF0F8\",\"linecolor\":\"#EBF0F8\",\"ticks\":\"\",\"title\":{\"standoff\":15},\"zerolinecolor\":\"#EBF0F8\",\"zerolinewidth\":2},\"yaxis\":{\"automargin\":true,\"gridcolor\":\"#EBF0F8\",\"linecolor\":\"#EBF0F8\",\"ticks\":\"\",\"title\":{\"standoff\":15},\"zerolinecolor\":\"#EBF0F8\",\"zerolinewidth\":2}}},\"xaxis\":{\"range\":[0,10],\"tick0\":1,\"dtick\":2,\"title\":{\"text\":\"Term Rank\"}},\"title\":{\"font\":{\"size\":22,\"color\":\"Black\"},\"text\":\"<b>Term score decline per Topic</b>\",\"y\":0.9,\"x\":0.5,\"xanchor\":\"center\",\"yanchor\":\"top\"},\"hoverlabel\":{\"font\":{\"size\":16,\"family\":\"Rockwell\"},\"bgcolor\":\"white\"},\"showlegend\":false,\"width\":800,\"height\":500,\"yaxis\":{\"title\":{\"text\":\"c-TF-IDF score\"}}},                        {\"responsive\": true}                    ).then(function(){\n",
              "                            \n",
              "var gd = document.getElementById('a2f1bfa3-b8ac-4c4e-9ddf-f8e1e164c5b5');\n",
              "var x = new MutationObserver(function (mutations, observer) {{\n",
              "        var display = window.getComputedStyle(gd).display;\n",
              "        if (!display || display === 'none') {{\n",
              "            console.log([gd, 'removed!']);\n",
              "            Plotly.purge(gd);\n",
              "            observer.disconnect();\n",
              "        }}\n",
              "}});\n",
              "\n",
              "// Listen for the removal of the full notebook cells\n",
              "var notebookContainer = gd.closest('#notebook-container');\n",
              "if (notebookContainer) {{\n",
              "    x.observe(notebookContainer, {childList: true});\n",
              "}}\n",
              "\n",
              "// Listen for the clearing of the current output cell\n",
              "var outputEl = gd.closest('.output');\n",
              "if (outputEl) {{\n",
              "    x.observe(outputEl, {childList: true});\n",
              "}}\n",
              "\n",
              "                        })                };                            </script>        </div>\n",
              "</body>\n",
              "</html>"
            ]
          },
          "metadata": {}
        }
      ]
    },
    {
      "cell_type": "markdown",
      "source": [
        "### **Term search**"
      ],
      "metadata": {
        "id": "AZIV-p12ZMXa"
      }
    },
    {
      "cell_type": "code",
      "source": [
        "similar_topics, similarity = topic_model.find_topics(\"blackfriday\", top_n=5)\n",
        "similar_topics"
      ],
      "metadata": {
        "id": "pHHayMGRZOob",
        "outputId": "8c025c68-89ca-43ac-e987-b211c8ad9eb1",
        "colab": {
          "base_uri": "https://localhost:8080/"
        }
      },
      "execution_count": 171,
      "outputs": [
        {
          "output_type": "execute_result",
          "data": {
            "text/plain": [
              "[53, 34, 58, 51, 57]"
            ]
          },
          "metadata": {},
          "execution_count": 171
        }
      ]
    },
    {
      "cell_type": "code",
      "source": [
        "topic_model.get_topic(54)"
      ],
      "metadata": {
        "id": "2BnwvRotZUya",
        "outputId": "80dafa26-0909-4efd-e33d-3ff7c204fe7e",
        "colab": {
          "base_uri": "https://localhost:8080/"
        }
      },
      "execution_count": 172,
      "outputs": [
        {
          "output_type": "execute_result",
          "data": {
            "text/plain": [
              "[('vestido', 0.16442820899008487),\n",
              " ('vestidos', 0.10570586280990027),\n",
              " ('casamento', 0.07330655331830517),\n",
              " ('shein', 0.04845673044271494),\n",
              " ('roupa', 0.04447837028496432),\n",
              " ('novembro', 0.04362532144714115),\n",
              " ('previsto', 0.035093701289421776),\n",
              " ('acessórios', 0.03313895805006228),\n",
              " ('fiscalização', 0.0327058936361859),\n",
              " ('curitiba', 0.03249433646812514)]"
            ]
          },
          "metadata": {},
          "execution_count": 172
        }
      ]
    },
    {
      "cell_type": "markdown",
      "source": [
        "### **Topic Reduction**"
      ],
      "metadata": {
        "id": "Lf78SHIeYzMC"
      }
    },
    {
      "cell_type": "code",
      "source": [
        "#new_topic_model = topic_model.reduce_topics(df.documents, nr_topics=40)\n",
        "#new_topics = new_topic_model.topics_\n",
        "#new_probs = new_topic_model.probabilities_"
      ],
      "metadata": {
        "id": "wtVMrXHGY4GM"
      },
      "execution_count": 173,
      "outputs": []
    },
    {
      "cell_type": "code",
      "source": [
        "#new_topic_model.visualize_topics()"
      ],
      "metadata": {
        "id": "W1mW2iTeaU04"
      },
      "execution_count": 174,
      "outputs": []
    }
  ]
}