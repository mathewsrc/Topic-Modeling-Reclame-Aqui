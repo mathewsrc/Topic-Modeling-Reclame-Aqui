{
  "nbformat": 4,
  "nbformat_minor": 0,
  "metadata": {
    "colab": {
      "provenance": [],
      "include_colab_link": true
    },
    "kernelspec": {
      "name": "python3",
      "display_name": "Python 3"
    },
    "language_info": {
      "name": "python"
    },
    "gpuClass": "standard",
    "widgets": {
      "application/vnd.jupyter.widget-state+json": {
        "9d94ee1b5ec141ed92c337ff5f06b21b": {
          "model_module": "@jupyter-widgets/controls",
          "model_name": "HBoxModel",
          "model_module_version": "1.5.0",
          "state": {
            "_dom_classes": [],
            "_model_module": "@jupyter-widgets/controls",
            "_model_module_version": "1.5.0",
            "_model_name": "HBoxModel",
            "_view_count": null,
            "_view_module": "@jupyter-widgets/controls",
            "_view_module_version": "1.5.0",
            "_view_name": "HBoxView",
            "box_style": "",
            "children": [
              "IPY_MODEL_f9cad182f96c42d288710587b9c9d386",
              "IPY_MODEL_834ac2f8881740e182701e049906cb36",
              "IPY_MODEL_13d0b172022c4e0ca5fbe2a86d7f6c77"
            ],
            "layout": "IPY_MODEL_94cfff265e0e46af9dffc9f7e699afde"
          }
        },
        "f9cad182f96c42d288710587b9c9d386": {
          "model_module": "@jupyter-widgets/controls",
          "model_name": "HTMLModel",
          "model_module_version": "1.5.0",
          "state": {
            "_dom_classes": [],
            "_model_module": "@jupyter-widgets/controls",
            "_model_module_version": "1.5.0",
            "_model_name": "HTMLModel",
            "_view_count": null,
            "_view_module": "@jupyter-widgets/controls",
            "_view_module_version": "1.5.0",
            "_view_name": "HTMLView",
            "description": "",
            "description_tooltip": null,
            "layout": "IPY_MODEL_2122b5a77c06441fa3b3e702389f8796",
            "placeholder": "​",
            "style": "IPY_MODEL_045beb5a48a44531a67ffab30f5ee653",
            "value": "Batches: 100%"
          }
        },
        "834ac2f8881740e182701e049906cb36": {
          "model_module": "@jupyter-widgets/controls",
          "model_name": "FloatProgressModel",
          "model_module_version": "1.5.0",
          "state": {
            "_dom_classes": [],
            "_model_module": "@jupyter-widgets/controls",
            "_model_module_version": "1.5.0",
            "_model_name": "FloatProgressModel",
            "_view_count": null,
            "_view_module": "@jupyter-widgets/controls",
            "_view_module_version": "1.5.0",
            "_view_name": "ProgressView",
            "bar_style": "success",
            "description": "",
            "description_tooltip": null,
            "layout": "IPY_MODEL_69443143869d4709b2bebcc8ed61313e",
            "max": 329,
            "min": 0,
            "orientation": "horizontal",
            "style": "IPY_MODEL_a5a127b84bbe4a4590d1bdc99c904697",
            "value": 329
          }
        },
        "13d0b172022c4e0ca5fbe2a86d7f6c77": {
          "model_module": "@jupyter-widgets/controls",
          "model_name": "HTMLModel",
          "model_module_version": "1.5.0",
          "state": {
            "_dom_classes": [],
            "_model_module": "@jupyter-widgets/controls",
            "_model_module_version": "1.5.0",
            "_model_name": "HTMLModel",
            "_view_count": null,
            "_view_module": "@jupyter-widgets/controls",
            "_view_module_version": "1.5.0",
            "_view_name": "HTMLView",
            "description": "",
            "description_tooltip": null,
            "layout": "IPY_MODEL_270ca06c3fc346c3a9d593a4517512a8",
            "placeholder": "​",
            "style": "IPY_MODEL_78398c611aa04919b0ab652952a5c3ce",
            "value": " 329/329 [00:18&lt;00:00, 37.90it/s]"
          }
        },
        "94cfff265e0e46af9dffc9f7e699afde": {
          "model_module": "@jupyter-widgets/base",
          "model_name": "LayoutModel",
          "model_module_version": "1.2.0",
          "state": {
            "_model_module": "@jupyter-widgets/base",
            "_model_module_version": "1.2.0",
            "_model_name": "LayoutModel",
            "_view_count": null,
            "_view_module": "@jupyter-widgets/base",
            "_view_module_version": "1.2.0",
            "_view_name": "LayoutView",
            "align_content": null,
            "align_items": null,
            "align_self": null,
            "border": null,
            "bottom": null,
            "display": null,
            "flex": null,
            "flex_flow": null,
            "grid_area": null,
            "grid_auto_columns": null,
            "grid_auto_flow": null,
            "grid_auto_rows": null,
            "grid_column": null,
            "grid_gap": null,
            "grid_row": null,
            "grid_template_areas": null,
            "grid_template_columns": null,
            "grid_template_rows": null,
            "height": null,
            "justify_content": null,
            "justify_items": null,
            "left": null,
            "margin": null,
            "max_height": null,
            "max_width": null,
            "min_height": null,
            "min_width": null,
            "object_fit": null,
            "object_position": null,
            "order": null,
            "overflow": null,
            "overflow_x": null,
            "overflow_y": null,
            "padding": null,
            "right": null,
            "top": null,
            "visibility": null,
            "width": null
          }
        },
        "2122b5a77c06441fa3b3e702389f8796": {
          "model_module": "@jupyter-widgets/base",
          "model_name": "LayoutModel",
          "model_module_version": "1.2.0",
          "state": {
            "_model_module": "@jupyter-widgets/base",
            "_model_module_version": "1.2.0",
            "_model_name": "LayoutModel",
            "_view_count": null,
            "_view_module": "@jupyter-widgets/base",
            "_view_module_version": "1.2.0",
            "_view_name": "LayoutView",
            "align_content": null,
            "align_items": null,
            "align_self": null,
            "border": null,
            "bottom": null,
            "display": null,
            "flex": null,
            "flex_flow": null,
            "grid_area": null,
            "grid_auto_columns": null,
            "grid_auto_flow": null,
            "grid_auto_rows": null,
            "grid_column": null,
            "grid_gap": null,
            "grid_row": null,
            "grid_template_areas": null,
            "grid_template_columns": null,
            "grid_template_rows": null,
            "height": null,
            "justify_content": null,
            "justify_items": null,
            "left": null,
            "margin": null,
            "max_height": null,
            "max_width": null,
            "min_height": null,
            "min_width": null,
            "object_fit": null,
            "object_position": null,
            "order": null,
            "overflow": null,
            "overflow_x": null,
            "overflow_y": null,
            "padding": null,
            "right": null,
            "top": null,
            "visibility": null,
            "width": null
          }
        },
        "045beb5a48a44531a67ffab30f5ee653": {
          "model_module": "@jupyter-widgets/controls",
          "model_name": "DescriptionStyleModel",
          "model_module_version": "1.5.0",
          "state": {
            "_model_module": "@jupyter-widgets/controls",
            "_model_module_version": "1.5.0",
            "_model_name": "DescriptionStyleModel",
            "_view_count": null,
            "_view_module": "@jupyter-widgets/base",
            "_view_module_version": "1.2.0",
            "_view_name": "StyleView",
            "description_width": ""
          }
        },
        "69443143869d4709b2bebcc8ed61313e": {
          "model_module": "@jupyter-widgets/base",
          "model_name": "LayoutModel",
          "model_module_version": "1.2.0",
          "state": {
            "_model_module": "@jupyter-widgets/base",
            "_model_module_version": "1.2.0",
            "_model_name": "LayoutModel",
            "_view_count": null,
            "_view_module": "@jupyter-widgets/base",
            "_view_module_version": "1.2.0",
            "_view_name": "LayoutView",
            "align_content": null,
            "align_items": null,
            "align_self": null,
            "border": null,
            "bottom": null,
            "display": null,
            "flex": null,
            "flex_flow": null,
            "grid_area": null,
            "grid_auto_columns": null,
            "grid_auto_flow": null,
            "grid_auto_rows": null,
            "grid_column": null,
            "grid_gap": null,
            "grid_row": null,
            "grid_template_areas": null,
            "grid_template_columns": null,
            "grid_template_rows": null,
            "height": null,
            "justify_content": null,
            "justify_items": null,
            "left": null,
            "margin": null,
            "max_height": null,
            "max_width": null,
            "min_height": null,
            "min_width": null,
            "object_fit": null,
            "object_position": null,
            "order": null,
            "overflow": null,
            "overflow_x": null,
            "overflow_y": null,
            "padding": null,
            "right": null,
            "top": null,
            "visibility": null,
            "width": null
          }
        },
        "a5a127b84bbe4a4590d1bdc99c904697": {
          "model_module": "@jupyter-widgets/controls",
          "model_name": "ProgressStyleModel",
          "model_module_version": "1.5.0",
          "state": {
            "_model_module": "@jupyter-widgets/controls",
            "_model_module_version": "1.5.0",
            "_model_name": "ProgressStyleModel",
            "_view_count": null,
            "_view_module": "@jupyter-widgets/base",
            "_view_module_version": "1.2.0",
            "_view_name": "StyleView",
            "bar_color": null,
            "description_width": ""
          }
        },
        "270ca06c3fc346c3a9d593a4517512a8": {
          "model_module": "@jupyter-widgets/base",
          "model_name": "LayoutModel",
          "model_module_version": "1.2.0",
          "state": {
            "_model_module": "@jupyter-widgets/base",
            "_model_module_version": "1.2.0",
            "_model_name": "LayoutModel",
            "_view_count": null,
            "_view_module": "@jupyter-widgets/base",
            "_view_module_version": "1.2.0",
            "_view_name": "LayoutView",
            "align_content": null,
            "align_items": null,
            "align_self": null,
            "border": null,
            "bottom": null,
            "display": null,
            "flex": null,
            "flex_flow": null,
            "grid_area": null,
            "grid_auto_columns": null,
            "grid_auto_flow": null,
            "grid_auto_rows": null,
            "grid_column": null,
            "grid_gap": null,
            "grid_row": null,
            "grid_template_areas": null,
            "grid_template_columns": null,
            "grid_template_rows": null,
            "height": null,
            "justify_content": null,
            "justify_items": null,
            "left": null,
            "margin": null,
            "max_height": null,
            "max_width": null,
            "min_height": null,
            "min_width": null,
            "object_fit": null,
            "object_position": null,
            "order": null,
            "overflow": null,
            "overflow_x": null,
            "overflow_y": null,
            "padding": null,
            "right": null,
            "top": null,
            "visibility": null,
            "width": null
          }
        },
        "78398c611aa04919b0ab652952a5c3ce": {
          "model_module": "@jupyter-widgets/controls",
          "model_name": "DescriptionStyleModel",
          "model_module_version": "1.5.0",
          "state": {
            "_model_module": "@jupyter-widgets/controls",
            "_model_module_version": "1.5.0",
            "_model_name": "DescriptionStyleModel",
            "_view_count": null,
            "_view_module": "@jupyter-widgets/base",
            "_view_module_version": "1.2.0",
            "_view_name": "StyleView",
            "description_width": ""
          }
        }
      }
    }
  },
  "cells": [
    {
      "cell_type": "markdown",
      "metadata": {
        "id": "view-in-github",
        "colab_type": "text"
      },
      "source": [
        "<a href=\"https://colab.research.google.com/github/punkmic/Topic-Modeling-Reclame-Aqui/blob/master/Topic_Modeling_with_BERTopic_Reclame_aqui.ipynb\" target=\"_parent\"><img src=\"https://colab.research.google.com/assets/colab-badge.svg\" alt=\"Open In Colab\"/></a>"
      ]
    },
    {
      "cell_type": "markdown",
      "source": [
        "# **Topic Modeling with BERTopic - Reclame Aqui**\n",
        "\n",
        "BERTopic is a topic modeling technique that leverages transformers and a custom class-based TF-IDF to create dense clusters allowing for easily interpretable topics whilst keeping important words in the topic descriptions \n",
        "\n",
        "Reference: (https://maartengr.github.io/BERTopic/index.html)."
      ],
      "metadata": {
        "id": "VG5Z-hvZ9GIZ"
      }
    },
    {
      "cell_type": "markdown",
      "source": [
        "### **Enabling the GPU**\n",
        "\n",
        "We will use the GPU provided by COLAB to accelarate our model training. To enable GPUs for the notebook:\n",
        "1- Navigate to Edit -> Notebook Settings\n",
        "2- Select GPU from the Hardware Accelerator drop-down"
      ],
      "metadata": {
        "id": "W_0vnbvROpuu"
      }
    },
    {
      "cell_type": "code",
      "source": [
        "# verify if GPU is enable\n",
        "gpu_info = !nvidia-smi\n",
        "gpu_info = '\\n'.join(gpu_info)\n",
        "if gpu_info.find('failed') >= 0:\n",
        "  print('Not connected to a GPU')\n",
        "else:\n",
        "  print(gpu_info)"
      ],
      "metadata": {
        "id": "gj08UQrDOqW2",
        "colab": {
          "base_uri": "https://localhost:8080/"
        },
        "outputId": "193abc43-e3ec-4d45-db29-febb1eedaa10"
      },
      "execution_count": 187,
      "outputs": [
        {
          "output_type": "stream",
          "name": "stdout",
          "text": [
            "Thu Jan  5 03:46:51 2023       \n",
            "+-----------------------------------------------------------------------------+\n",
            "| NVIDIA-SMI 460.32.03    Driver Version: 460.32.03    CUDA Version: 11.2     |\n",
            "|-------------------------------+----------------------+----------------------+\n",
            "| GPU  Name        Persistence-M| Bus-Id        Disp.A | Volatile Uncorr. ECC |\n",
            "| Fan  Temp  Perf  Pwr:Usage/Cap|         Memory-Usage | GPU-Util  Compute M. |\n",
            "|                               |                      |               MIG M. |\n",
            "|===============================+======================+======================|\n",
            "|   0  Tesla T4            Off  | 00000000:00:04.0 Off |                    0 |\n",
            "| N/A   69C    P0    33W /  70W |   3020MiB / 15109MiB |      0%      Default |\n",
            "|                               |                      |                  N/A |\n",
            "+-------------------------------+----------------------+----------------------+\n",
            "                                                                               \n",
            "+-----------------------------------------------------------------------------+\n",
            "| Processes:                                                                  |\n",
            "|  GPU   GI   CI        PID   Type   Process name                  GPU Memory |\n",
            "|        ID   ID                                                   Usage      |\n",
            "|=============================================================================|\n",
            "+-----------------------------------------------------------------------------+\n"
          ]
        }
      ]
    },
    {
      "cell_type": "markdown",
      "source": [
        "### **Setup**"
      ],
      "metadata": {
        "id": "eXD8VBix7DD1"
      }
    },
    {
      "cell_type": "code",
      "source": [
        "%%capture\n",
        "!pip install pyspellchecker\n",
        "!pip install bertopic\n",
        "!pip install kaleido # for save BERTopic plots as image"
      ],
      "metadata": {
        "id": "csLlF-UUb2il"
      },
      "execution_count": 188,
      "outputs": []
    },
    {
      "cell_type": "code",
      "execution_count": 189,
      "metadata": {
        "id": "CQ0hDdDm6gtj"
      },
      "outputs": [],
      "source": [
        "import pandas as pd # for data manipulation\n",
        "import os # for interacting with the operating system\n",
        "import nltk # for natural language processing\n",
        "import string # for string manipulation\n",
        "import re # for for regular expressions\n",
        "import matplotlib.pyplot as plt # for visualization\n",
        "import spacy # for lemmatize portuguese text\n",
        "from bertopic import BERTopic # for topic modeling\n",
        "from spellchecker import SpellChecker # for spell check"
      ]
    },
    {
      "cell_type": "code",
      "source": [
        "# Install spacy pt_core_news_sm for portuguese text\n",
        "!python -m spacy download pt_core_news_sm"
      ],
      "metadata": {
        "id": "dafLrQKmvlGD",
        "colab": {
          "base_uri": "https://localhost:8080/"
        },
        "outputId": "cae9002a-07ea-4556-cbf4-d1d7706b5d3c"
      },
      "execution_count": 190,
      "outputs": [
        {
          "output_type": "stream",
          "name": "stdout",
          "text": [
            "Looking in indexes: https://pypi.org/simple, https://us-python.pkg.dev/colab-wheels/public/simple/\n",
            "Collecting pt-core-news-sm==3.4.0\n",
            "  Using cached https://github.com/explosion/spacy-models/releases/download/pt_core_news_sm-3.4.0/pt_core_news_sm-3.4.0-py3-none-any.whl (13.0 MB)\n",
            "Requirement already satisfied: spacy<3.5.0,>=3.4.0 in /usr/local/lib/python3.8/dist-packages (from pt-core-news-sm==3.4.0) (3.4.4)\n",
            "Requirement already satisfied: pathy>=0.3.5 in /usr/local/lib/python3.8/dist-packages (from spacy<3.5.0,>=3.4.0->pt-core-news-sm==3.4.0) (0.10.1)\n",
            "Requirement already satisfied: catalogue<2.1.0,>=2.0.6 in /usr/local/lib/python3.8/dist-packages (from spacy<3.5.0,>=3.4.0->pt-core-news-sm==3.4.0) (2.0.8)\n",
            "Requirement already satisfied: wasabi<1.1.0,>=0.9.1 in /usr/local/lib/python3.8/dist-packages (from spacy<3.5.0,>=3.4.0->pt-core-news-sm==3.4.0) (0.10.1)\n",
            "Requirement already satisfied: cymem<2.1.0,>=2.0.2 in /usr/local/lib/python3.8/dist-packages (from spacy<3.5.0,>=3.4.0->pt-core-news-sm==3.4.0) (2.0.7)\n",
            "Requirement already satisfied: setuptools in /usr/local/lib/python3.8/dist-packages (from spacy<3.5.0,>=3.4.0->pt-core-news-sm==3.4.0) (57.4.0)\n",
            "Requirement already satisfied: spacy-loggers<2.0.0,>=1.0.0 in /usr/local/lib/python3.8/dist-packages (from spacy<3.5.0,>=3.4.0->pt-core-news-sm==3.4.0) (1.0.4)\n",
            "Requirement already satisfied: preshed<3.1.0,>=3.0.2 in /usr/local/lib/python3.8/dist-packages (from spacy<3.5.0,>=3.4.0->pt-core-news-sm==3.4.0) (3.0.8)\n",
            "Requirement already satisfied: thinc<8.2.0,>=8.1.0 in /usr/local/lib/python3.8/dist-packages (from spacy<3.5.0,>=3.4.0->pt-core-news-sm==3.4.0) (8.1.6)\n",
            "Requirement already satisfied: langcodes<4.0.0,>=3.2.0 in /usr/local/lib/python3.8/dist-packages (from spacy<3.5.0,>=3.4.0->pt-core-news-sm==3.4.0) (3.3.0)\n",
            "Requirement already satisfied: packaging>=20.0 in /usr/local/lib/python3.8/dist-packages (from spacy<3.5.0,>=3.4.0->pt-core-news-sm==3.4.0) (21.3)\n",
            "Requirement already satisfied: pydantic!=1.8,!=1.8.1,<1.11.0,>=1.7.4 in /usr/local/lib/python3.8/dist-packages (from spacy<3.5.0,>=3.4.0->pt-core-news-sm==3.4.0) (1.10.2)\n",
            "Requirement already satisfied: srsly<3.0.0,>=2.4.3 in /usr/local/lib/python3.8/dist-packages (from spacy<3.5.0,>=3.4.0->pt-core-news-sm==3.4.0) (2.4.5)\n",
            "Requirement already satisfied: spacy-legacy<3.1.0,>=3.0.10 in /usr/local/lib/python3.8/dist-packages (from spacy<3.5.0,>=3.4.0->pt-core-news-sm==3.4.0) (3.0.10)\n",
            "Requirement already satisfied: smart-open<7.0.0,>=5.2.1 in /usr/local/lib/python3.8/dist-packages (from spacy<3.5.0,>=3.4.0->pt-core-news-sm==3.4.0) (6.3.0)\n",
            "Requirement already satisfied: jinja2 in /usr/local/lib/python3.8/dist-packages (from spacy<3.5.0,>=3.4.0->pt-core-news-sm==3.4.0) (2.11.3)\n",
            "Requirement already satisfied: tqdm<5.0.0,>=4.38.0 in /usr/local/lib/python3.8/dist-packages (from spacy<3.5.0,>=3.4.0->pt-core-news-sm==3.4.0) (4.64.1)\n",
            "Requirement already satisfied: requests<3.0.0,>=2.13.0 in /usr/local/lib/python3.8/dist-packages (from spacy<3.5.0,>=3.4.0->pt-core-news-sm==3.4.0) (2.25.1)\n",
            "Requirement already satisfied: typer<0.8.0,>=0.3.0 in /usr/local/lib/python3.8/dist-packages (from spacy<3.5.0,>=3.4.0->pt-core-news-sm==3.4.0) (0.7.0)\n",
            "Requirement already satisfied: murmurhash<1.1.0,>=0.28.0 in /usr/local/lib/python3.8/dist-packages (from spacy<3.5.0,>=3.4.0->pt-core-news-sm==3.4.0) (1.0.9)\n",
            "Requirement already satisfied: numpy>=1.15.0 in /usr/local/lib/python3.8/dist-packages (from spacy<3.5.0,>=3.4.0->pt-core-news-sm==3.4.0) (1.21.6)\n",
            "Requirement already satisfied: pyparsing!=3.0.5,>=2.0.2 in /usr/local/lib/python3.8/dist-packages (from packaging>=20.0->spacy<3.5.0,>=3.4.0->pt-core-news-sm==3.4.0) (3.0.9)\n",
            "Requirement already satisfied: typing-extensions>=4.1.0 in /usr/local/lib/python3.8/dist-packages (from pydantic!=1.8,!=1.8.1,<1.11.0,>=1.7.4->spacy<3.5.0,>=3.4.0->pt-core-news-sm==3.4.0) (4.4.0)\n",
            "Requirement already satisfied: urllib3<1.27,>=1.21.1 in /usr/local/lib/python3.8/dist-packages (from requests<3.0.0,>=2.13.0->spacy<3.5.0,>=3.4.0->pt-core-news-sm==3.4.0) (1.24.3)\n",
            "Requirement already satisfied: chardet<5,>=3.0.2 in /usr/local/lib/python3.8/dist-packages (from requests<3.0.0,>=2.13.0->spacy<3.5.0,>=3.4.0->pt-core-news-sm==3.4.0) (4.0.0)\n",
            "Requirement already satisfied: certifi>=2017.4.17 in /usr/local/lib/python3.8/dist-packages (from requests<3.0.0,>=2.13.0->spacy<3.5.0,>=3.4.0->pt-core-news-sm==3.4.0) (2022.12.7)\n",
            "Requirement already satisfied: idna<3,>=2.5 in /usr/local/lib/python3.8/dist-packages (from requests<3.0.0,>=2.13.0->spacy<3.5.0,>=3.4.0->pt-core-news-sm==3.4.0) (2.10)\n",
            "Requirement already satisfied: confection<1.0.0,>=0.0.1 in /usr/local/lib/python3.8/dist-packages (from thinc<8.2.0,>=8.1.0->spacy<3.5.0,>=3.4.0->pt-core-news-sm==3.4.0) (0.0.3)\n",
            "Requirement already satisfied: blis<0.8.0,>=0.7.8 in /usr/local/lib/python3.8/dist-packages (from thinc<8.2.0,>=8.1.0->spacy<3.5.0,>=3.4.0->pt-core-news-sm==3.4.0) (0.7.9)\n",
            "Requirement already satisfied: click<9.0.0,>=7.1.1 in /usr/local/lib/python3.8/dist-packages (from typer<0.8.0,>=0.3.0->spacy<3.5.0,>=3.4.0->pt-core-news-sm==3.4.0) (7.1.2)\n",
            "Requirement already satisfied: MarkupSafe>=0.23 in /usr/local/lib/python3.8/dist-packages (from jinja2->spacy<3.5.0,>=3.4.0->pt-core-news-sm==3.4.0) (2.0.1)\n",
            "\u001b[38;5;2m✔ Download and installation successful\u001b[0m\n",
            "You can now load the package via spacy.load('pt_core_news_sm')\n"
          ]
        }
      ]
    },
    {
      "cell_type": "code",
      "source": [
        "nltk.download(\"punkt\")"
      ],
      "metadata": {
        "id": "BvRCi7Cvp0G6",
        "colab": {
          "base_uri": "https://localhost:8080/"
        },
        "outputId": "2c0fc960-1453-4a69-ee3b-bbfa25c1e0cf"
      },
      "execution_count": 191,
      "outputs": [
        {
          "output_type": "stream",
          "name": "stderr",
          "text": [
            "[nltk_data] Downloading package punkt to /root/nltk_data...\n",
            "[nltk_data]   Package punkt is already up-to-date!\n"
          ]
        },
        {
          "output_type": "execute_result",
          "data": {
            "text/plain": [
              "True"
            ]
          },
          "metadata": {},
          "execution_count": 191
        }
      ]
    },
    {
      "cell_type": "code",
      "source": [
        "# Download dataset with stopwords\n",
        "nltk.download(\"stopwords\")"
      ],
      "metadata": {
        "id": "JAvaPg5ep3Df",
        "colab": {
          "base_uri": "https://localhost:8080/"
        },
        "outputId": "bc006d06-b4f1-45c1-dad0-66b3ee4539d0"
      },
      "execution_count": 192,
      "outputs": [
        {
          "output_type": "stream",
          "name": "stderr",
          "text": [
            "[nltk_data] Downloading package stopwords to /root/nltk_data...\n",
            "[nltk_data]   Package stopwords is already up-to-date!\n"
          ]
        },
        {
          "output_type": "execute_result",
          "data": {
            "text/plain": [
              "True"
            ]
          },
          "metadata": {},
          "execution_count": 192
        }
      ]
    },
    {
      "cell_type": "code",
      "source": [
        "# Donwload datasets for lemmatization\n",
        "nltk.download('wordnet')\n",
        "nltk.download('omw-1.4')"
      ],
      "metadata": {
        "id": "97RrmPshvcmu",
        "colab": {
          "base_uri": "https://localhost:8080/"
        },
        "outputId": "d6ee31a0-474e-4006-f21a-3aeffe24c861"
      },
      "execution_count": 193,
      "outputs": [
        {
          "output_type": "stream",
          "name": "stderr",
          "text": [
            "[nltk_data] Downloading package wordnet to /root/nltk_data...\n",
            "[nltk_data]   Package wordnet is already up-to-date!\n",
            "[nltk_data] Downloading package omw-1.4 to /root/nltk_data...\n",
            "[nltk_data]   Package omw-1.4 is already up-to-date!\n"
          ]
        },
        {
          "output_type": "execute_result",
          "data": {
            "text/plain": [
              "True"
            ]
          },
          "metadata": {},
          "execution_count": 193
        }
      ]
    },
    {
      "cell_type": "code",
      "source": [
        "# Donwload dependency need to stem portuguese text\n",
        "nltk.download('rslp')"
      ],
      "metadata": {
        "id": "qn9OrF3EXCNv",
        "colab": {
          "base_uri": "https://localhost:8080/"
        },
        "outputId": "38861ac3-b496-45a5-8661-abf4c5ce7de5"
      },
      "execution_count": 194,
      "outputs": [
        {
          "output_type": "stream",
          "name": "stderr",
          "text": [
            "[nltk_data] Downloading package rslp to /root/nltk_data...\n",
            "[nltk_data]   Package rslp is already up-to-date!\n"
          ]
        },
        {
          "output_type": "execute_result",
          "data": {
            "text/plain": [
              "True"
            ]
          },
          "metadata": {},
          "execution_count": 194
        }
      ]
    },
    {
      "cell_type": "markdown",
      "source": [
        "### **Load data from [Github](https://github.com/punkmic/Topic-Modeling-Reclame-Aqui.git)**"
      ],
      "metadata": {
        "id": "EGjKdT4C8RVD"
      }
    },
    {
      "cell_type": "code",
      "source": [
        "!git clone https://github.com/punkmic/Topic-Modeling-Reclame-Aqui.git"
      ],
      "metadata": {
        "id": "C_yss1JC-8Ou",
        "outputId": "20bd1659-030b-4f92-c436-35491eb47f67",
        "colab": {
          "base_uri": "https://localhost:8080/"
        }
      },
      "execution_count": 195,
      "outputs": [
        {
          "output_type": "stream",
          "name": "stdout",
          "text": [
            "fatal: destination path 'Topic-Modeling-Reclame-Aqui' already exists and is not an empty directory.\n"
          ]
        }
      ]
    },
    {
      "cell_type": "code",
      "source": [
        "# Change directory\n",
        "%cd /content/Topic-Modeling-Reclame-Aqui \n",
        "\n",
        "# Update files from remote repository\n",
        "!git pull \n",
        "\n",
        "# Return to work directory\n",
        "%cd ..\n",
        "\n",
        "# Check current directory\n",
        "!pwd"
      ],
      "metadata": {
        "id": "uv3QBnDRHFPv",
        "outputId": "e307bbd3-de56-4039-e7f9-058aa98a839f",
        "colab": {
          "base_uri": "https://localhost:8080/"
        }
      },
      "execution_count": 196,
      "outputs": [
        {
          "output_type": "stream",
          "name": "stdout",
          "text": [
            "/content/Topic-Modeling-Reclame-Aqui\n",
            "Already up to date.\n",
            "/content\n",
            "/content\n"
          ]
        }
      ]
    },
    {
      "cell_type": "markdown",
      "source": [
        "## **Prepare data**"
      ],
      "metadata": {
        "id": "5YitWNVVJTOP"
      }
    },
    {
      "cell_type": "code",
      "source": [
        "def read_data(path_csv, drop_duplicates = True, lower=True):\n",
        " \n",
        "  # Use the read_csv method to read csv file\n",
        "  df = pd.read_csv(path_csv)\n",
        "  \n",
        "  if drop_duplicates:\n",
        "    # Read and return the CSV file using the read_csv method\n",
        "    print(f\"Shape before remove duplicates: {df.shape}\")\n",
        "\n",
        "    # Use the drop_duplicated method to drop duplicates rows\n",
        "    df = df.drop_duplicates(subset=\"text\")\n",
        "\n",
        "    print(f\"Shape after remove duplicates: {df.shape}\")\n",
        "\n",
        "    if lower:\n",
        "      # apply the str.lower() method to each element in the dataframe\n",
        "      df = df.applymap(str.lower)\n",
        "  return df"
      ],
      "metadata": {
        "id": "F3IoOKARBwVb"
      },
      "execution_count": 197,
      "outputs": []
    },
    {
      "cell_type": "code",
      "source": [
        "# Set the path to data\n",
        "path_csv = \"/content/Topic-Modeling-Reclame-Aqui/corpus.csv\"\n",
        "\n",
        "df = read_data(path_csv)\n",
        "\n",
        "# Print the first 5 rows of the DataFrame\n",
        "df.head(5)"
      ],
      "metadata": {
        "colab": {
          "base_uri": "https://localhost:8080/",
          "height": 320
        },
        "id": "2ppvYJG90iVk",
        "outputId": "06d23912-c798-412c-eaae-de2b9003b497"
      },
      "execution_count": 198,
      "outputs": [
        {
          "output_type": "stream",
          "name": "stdout",
          "text": [
            "Shape before remove duplicates: (12760, 2)\n",
            "Shape after remove duplicates: (10510, 2)\n"
          ]
        },
        {
          "output_type": "execute_result",
          "data": {
            "text/plain": [
              "                                               title  \\\n",
              "0  pedido cancelado sem justificativa após uma se...   \n",
              "1                                  pedido cancelado    \n",
              "2                                  cobrança indevida   \n",
              "3                                 pedido reincidente   \n",
              "4            assinatura para vender na amazon brasil   \n",
              "\n",
              "                                                text  \n",
              "0  eu estava pesquisando bastante uma nova tv par...  \n",
              "1  eu sinceramente estou decepcionada com o amazo...  \n",
              "2  cancelei meu plano antes de terminar o período...  \n",
              "3  olha fiz compra veio errada, e veio errado nov...  \n",
              "4  eu me inscrevi na amazon para realizar vendas ...  "
            ],
            "text/html": [
              "\n",
              "  <div id=\"df-d495e767-23a8-4f8f-ae6d-d331fc05b370\">\n",
              "    <div class=\"colab-df-container\">\n",
              "      <div>\n",
              "<style scoped>\n",
              "    .dataframe tbody tr th:only-of-type {\n",
              "        vertical-align: middle;\n",
              "    }\n",
              "\n",
              "    .dataframe tbody tr th {\n",
              "        vertical-align: top;\n",
              "    }\n",
              "\n",
              "    .dataframe thead th {\n",
              "        text-align: right;\n",
              "    }\n",
              "</style>\n",
              "<table border=\"1\" class=\"dataframe\">\n",
              "  <thead>\n",
              "    <tr style=\"text-align: right;\">\n",
              "      <th></th>\n",
              "      <th>title</th>\n",
              "      <th>text</th>\n",
              "    </tr>\n",
              "  </thead>\n",
              "  <tbody>\n",
              "    <tr>\n",
              "      <th>0</th>\n",
              "      <td>pedido cancelado sem justificativa após uma se...</td>\n",
              "      <td>eu estava pesquisando bastante uma nova tv par...</td>\n",
              "    </tr>\n",
              "    <tr>\n",
              "      <th>1</th>\n",
              "      <td>pedido cancelado</td>\n",
              "      <td>eu sinceramente estou decepcionada com o amazo...</td>\n",
              "    </tr>\n",
              "    <tr>\n",
              "      <th>2</th>\n",
              "      <td>cobrança indevida</td>\n",
              "      <td>cancelei meu plano antes de terminar o período...</td>\n",
              "    </tr>\n",
              "    <tr>\n",
              "      <th>3</th>\n",
              "      <td>pedido reincidente</td>\n",
              "      <td>olha fiz compra veio errada, e veio errado nov...</td>\n",
              "    </tr>\n",
              "    <tr>\n",
              "      <th>4</th>\n",
              "      <td>assinatura para vender na amazon brasil</td>\n",
              "      <td>eu me inscrevi na amazon para realizar vendas ...</td>\n",
              "    </tr>\n",
              "  </tbody>\n",
              "</table>\n",
              "</div>\n",
              "      <button class=\"colab-df-convert\" onclick=\"convertToInteractive('df-d495e767-23a8-4f8f-ae6d-d331fc05b370')\"\n",
              "              title=\"Convert this dataframe to an interactive table.\"\n",
              "              style=\"display:none;\">\n",
              "        \n",
              "  <svg xmlns=\"http://www.w3.org/2000/svg\" height=\"24px\"viewBox=\"0 0 24 24\"\n",
              "       width=\"24px\">\n",
              "    <path d=\"M0 0h24v24H0V0z\" fill=\"none\"/>\n",
              "    <path d=\"M18.56 5.44l.94 2.06.94-2.06 2.06-.94-2.06-.94-.94-2.06-.94 2.06-2.06.94zm-11 1L8.5 8.5l.94-2.06 2.06-.94-2.06-.94L8.5 2.5l-.94 2.06-2.06.94zm10 10l.94 2.06.94-2.06 2.06-.94-2.06-.94-.94-2.06-.94 2.06-2.06.94z\"/><path d=\"M17.41 7.96l-1.37-1.37c-.4-.4-.92-.59-1.43-.59-.52 0-1.04.2-1.43.59L10.3 9.45l-7.72 7.72c-.78.78-.78 2.05 0 2.83L4 21.41c.39.39.9.59 1.41.59.51 0 1.02-.2 1.41-.59l7.78-7.78 2.81-2.81c.8-.78.8-2.07 0-2.86zM5.41 20L4 18.59l7.72-7.72 1.47 1.35L5.41 20z\"/>\n",
              "  </svg>\n",
              "      </button>\n",
              "      \n",
              "  <style>\n",
              "    .colab-df-container {\n",
              "      display:flex;\n",
              "      flex-wrap:wrap;\n",
              "      gap: 12px;\n",
              "    }\n",
              "\n",
              "    .colab-df-convert {\n",
              "      background-color: #E8F0FE;\n",
              "      border: none;\n",
              "      border-radius: 50%;\n",
              "      cursor: pointer;\n",
              "      display: none;\n",
              "      fill: #1967D2;\n",
              "      height: 32px;\n",
              "      padding: 0 0 0 0;\n",
              "      width: 32px;\n",
              "    }\n",
              "\n",
              "    .colab-df-convert:hover {\n",
              "      background-color: #E2EBFA;\n",
              "      box-shadow: 0px 1px 2px rgba(60, 64, 67, 0.3), 0px 1px 3px 1px rgba(60, 64, 67, 0.15);\n",
              "      fill: #174EA6;\n",
              "    }\n",
              "\n",
              "    [theme=dark] .colab-df-convert {\n",
              "      background-color: #3B4455;\n",
              "      fill: #D2E3FC;\n",
              "    }\n",
              "\n",
              "    [theme=dark] .colab-df-convert:hover {\n",
              "      background-color: #434B5C;\n",
              "      box-shadow: 0px 1px 3px 1px rgba(0, 0, 0, 0.15);\n",
              "      filter: drop-shadow(0px 1px 2px rgba(0, 0, 0, 0.3));\n",
              "      fill: #FFFFFF;\n",
              "    }\n",
              "  </style>\n",
              "\n",
              "      <script>\n",
              "        const buttonEl =\n",
              "          document.querySelector('#df-d495e767-23a8-4f8f-ae6d-d331fc05b370 button.colab-df-convert');\n",
              "        buttonEl.style.display =\n",
              "          google.colab.kernel.accessAllowed ? 'block' : 'none';\n",
              "\n",
              "        async function convertToInteractive(key) {\n",
              "          const element = document.querySelector('#df-d495e767-23a8-4f8f-ae6d-d331fc05b370');\n",
              "          const dataTable =\n",
              "            await google.colab.kernel.invokeFunction('convertToInteractive',\n",
              "                                                     [key], {});\n",
              "          if (!dataTable) return;\n",
              "\n",
              "          const docLinkHtml = 'Like what you see? Visit the ' +\n",
              "            '<a target=\"_blank\" href=https://colab.research.google.com/notebooks/data_table.ipynb>data table notebook</a>'\n",
              "            + ' to learn more about interactive tables.';\n",
              "          element.innerHTML = '';\n",
              "          dataTable['output_type'] = 'display_data';\n",
              "          await google.colab.output.renderOutput(dataTable, element);\n",
              "          const docLink = document.createElement('div');\n",
              "          docLink.innerHTML = docLinkHtml;\n",
              "          element.appendChild(docLink);\n",
              "        }\n",
              "      </script>\n",
              "    </div>\n",
              "  </div>\n",
              "  "
            ]
          },
          "metadata": {},
          "execution_count": 198
        }
      ]
    },
    {
      "cell_type": "markdown",
      "source": [
        "This dataset contains just two columns called title and text "
      ],
      "metadata": {
        "id": "gDfB_6inJgr7"
      }
    },
    {
      "cell_type": "code",
      "source": [
        "print(df.shape)"
      ],
      "metadata": {
        "id": "Ytly9hiGJzFA",
        "outputId": "5412b746-8790-4ddc-d1ef-a8fc96ac6f5b",
        "colab": {
          "base_uri": "https://localhost:8080/"
        }
      },
      "execution_count": 199,
      "outputs": [
        {
          "output_type": "stream",
          "name": "stdout",
          "text": [
            "(10510, 2)\n"
          ]
        }
      ]
    },
    {
      "cell_type": "markdown",
      "source": [
        "There are 10510 unique rows in this dataset."
      ],
      "metadata": {
        "id": "Upvg5pKOJ0bv"
      }
    },
    {
      "cell_type": "code",
      "source": [
        "# join columns\n",
        "df.columns = [\"title\", \"documents\"] \n",
        "\n",
        "# Use the replace() method to replace the string with an empty string\n",
        "df = df.replace(re.compile('\\[editado pelo reclame aqui\\]|editado pelo reclame aqui|Editado pelo Reclame Aqui'), '')\n",
        "df = df.replace(re.compile('\\[casas bahia\\]|Casa Bahia|Casas Bahia|casa bahia'), '')\n",
        "df = df.replace(re.compile('\\[magazine luiza\\]|Magazine luiza|Magazine Luiza| Magazine luizar|Magazine Luizar'), '')\n",
        "df = df.replace(re.compile('\\[mercado livre\\]|Mercado Livre|Mercado livre'), '')\n",
        "df = df.replace(re.compile('\\[americana\\]|Ameriacanas|ameriacanas'), '')\n",
        "\n",
        "# Drop the old index column\n",
        "df.reset_index(inplace = True, drop = True)\n",
        "\n",
        "df.head()"
      ],
      "metadata": {
        "id": "N0iqgleUNVlE",
        "outputId": "b49a28ee-adfa-4c9d-e4f4-c661ae4a091a",
        "colab": {
          "base_uri": "https://localhost:8080/",
          "height": 285
        }
      },
      "execution_count": 271,
      "outputs": [
        {
          "output_type": "execute_result",
          "data": {
            "text/plain": [
              "                                               title  \\\n",
              "0  pedido cancelado sem justificativa após uma se...   \n",
              "1                                  pedido cancelado    \n",
              "2                                  cobrança indevida   \n",
              "3                                 pedido reincidente   \n",
              "4            assinatura para vender na amazon brasil   \n",
              "\n",
              "                                           documents  \n",
              "0  eu estava pesquisando bastante uma nova tv par...  \n",
              "1  eu sinceramente estou decepcionada com o amazo...  \n",
              "2  cancelei meu plano antes de terminar o período...  \n",
              "3  olha fiz compra veio errada, e veio errado nov...  \n",
              "4  eu me inscrevi na amazon para realizar vendas ...  "
            ],
            "text/html": [
              "\n",
              "  <div id=\"df-a97d7e4b-c23d-459f-a84c-910e604350f0\">\n",
              "    <div class=\"colab-df-container\">\n",
              "      <div>\n",
              "<style scoped>\n",
              "    .dataframe tbody tr th:only-of-type {\n",
              "        vertical-align: middle;\n",
              "    }\n",
              "\n",
              "    .dataframe tbody tr th {\n",
              "        vertical-align: top;\n",
              "    }\n",
              "\n",
              "    .dataframe thead th {\n",
              "        text-align: right;\n",
              "    }\n",
              "</style>\n",
              "<table border=\"1\" class=\"dataframe\">\n",
              "  <thead>\n",
              "    <tr style=\"text-align: right;\">\n",
              "      <th></th>\n",
              "      <th>title</th>\n",
              "      <th>documents</th>\n",
              "    </tr>\n",
              "  </thead>\n",
              "  <tbody>\n",
              "    <tr>\n",
              "      <th>0</th>\n",
              "      <td>pedido cancelado sem justificativa após uma se...</td>\n",
              "      <td>eu estava pesquisando bastante uma nova tv par...</td>\n",
              "    </tr>\n",
              "    <tr>\n",
              "      <th>1</th>\n",
              "      <td>pedido cancelado</td>\n",
              "      <td>eu sinceramente estou decepcionada com o amazo...</td>\n",
              "    </tr>\n",
              "    <tr>\n",
              "      <th>2</th>\n",
              "      <td>cobrança indevida</td>\n",
              "      <td>cancelei meu plano antes de terminar o período...</td>\n",
              "    </tr>\n",
              "    <tr>\n",
              "      <th>3</th>\n",
              "      <td>pedido reincidente</td>\n",
              "      <td>olha fiz compra veio errada, e veio errado nov...</td>\n",
              "    </tr>\n",
              "    <tr>\n",
              "      <th>4</th>\n",
              "      <td>assinatura para vender na amazon brasil</td>\n",
              "      <td>eu me inscrevi na amazon para realizar vendas ...</td>\n",
              "    </tr>\n",
              "  </tbody>\n",
              "</table>\n",
              "</div>\n",
              "      <button class=\"colab-df-convert\" onclick=\"convertToInteractive('df-a97d7e4b-c23d-459f-a84c-910e604350f0')\"\n",
              "              title=\"Convert this dataframe to an interactive table.\"\n",
              "              style=\"display:none;\">\n",
              "        \n",
              "  <svg xmlns=\"http://www.w3.org/2000/svg\" height=\"24px\"viewBox=\"0 0 24 24\"\n",
              "       width=\"24px\">\n",
              "    <path d=\"M0 0h24v24H0V0z\" fill=\"none\"/>\n",
              "    <path d=\"M18.56 5.44l.94 2.06.94-2.06 2.06-.94-2.06-.94-.94-2.06-.94 2.06-2.06.94zm-11 1L8.5 8.5l.94-2.06 2.06-.94-2.06-.94L8.5 2.5l-.94 2.06-2.06.94zm10 10l.94 2.06.94-2.06 2.06-.94-2.06-.94-.94-2.06-.94 2.06-2.06.94z\"/><path d=\"M17.41 7.96l-1.37-1.37c-.4-.4-.92-.59-1.43-.59-.52 0-1.04.2-1.43.59L10.3 9.45l-7.72 7.72c-.78.78-.78 2.05 0 2.83L4 21.41c.39.39.9.59 1.41.59.51 0 1.02-.2 1.41-.59l7.78-7.78 2.81-2.81c.8-.78.8-2.07 0-2.86zM5.41 20L4 18.59l7.72-7.72 1.47 1.35L5.41 20z\"/>\n",
              "  </svg>\n",
              "      </button>\n",
              "      \n",
              "  <style>\n",
              "    .colab-df-container {\n",
              "      display:flex;\n",
              "      flex-wrap:wrap;\n",
              "      gap: 12px;\n",
              "    }\n",
              "\n",
              "    .colab-df-convert {\n",
              "      background-color: #E8F0FE;\n",
              "      border: none;\n",
              "      border-radius: 50%;\n",
              "      cursor: pointer;\n",
              "      display: none;\n",
              "      fill: #1967D2;\n",
              "      height: 32px;\n",
              "      padding: 0 0 0 0;\n",
              "      width: 32px;\n",
              "    }\n",
              "\n",
              "    .colab-df-convert:hover {\n",
              "      background-color: #E2EBFA;\n",
              "      box-shadow: 0px 1px 2px rgba(60, 64, 67, 0.3), 0px 1px 3px 1px rgba(60, 64, 67, 0.15);\n",
              "      fill: #174EA6;\n",
              "    }\n",
              "\n",
              "    [theme=dark] .colab-df-convert {\n",
              "      background-color: #3B4455;\n",
              "      fill: #D2E3FC;\n",
              "    }\n",
              "\n",
              "    [theme=dark] .colab-df-convert:hover {\n",
              "      background-color: #434B5C;\n",
              "      box-shadow: 0px 1px 3px 1px rgba(0, 0, 0, 0.15);\n",
              "      filter: drop-shadow(0px 1px 2px rgba(0, 0, 0, 0.3));\n",
              "      fill: #FFFFFF;\n",
              "    }\n",
              "  </style>\n",
              "\n",
              "      <script>\n",
              "        const buttonEl =\n",
              "          document.querySelector('#df-a97d7e4b-c23d-459f-a84c-910e604350f0 button.colab-df-convert');\n",
              "        buttonEl.style.display =\n",
              "          google.colab.kernel.accessAllowed ? 'block' : 'none';\n",
              "\n",
              "        async function convertToInteractive(key) {\n",
              "          const element = document.querySelector('#df-a97d7e4b-c23d-459f-a84c-910e604350f0');\n",
              "          const dataTable =\n",
              "            await google.colab.kernel.invokeFunction('convertToInteractive',\n",
              "                                                     [key], {});\n",
              "          if (!dataTable) return;\n",
              "\n",
              "          const docLinkHtml = 'Like what you see? Visit the ' +\n",
              "            '<a target=\"_blank\" href=https://colab.research.google.com/notebooks/data_table.ipynb>data table notebook</a>'\n",
              "            + ' to learn more about interactive tables.';\n",
              "          element.innerHTML = '';\n",
              "          dataTable['output_type'] = 'display_data';\n",
              "          await google.colab.output.renderOutput(dataTable, element);\n",
              "          const docLink = document.createElement('div');\n",
              "          docLink.innerHTML = docLinkHtml;\n",
              "          element.appendChild(docLink);\n",
              "        }\n",
              "      </script>\n",
              "    </div>\n",
              "  </div>\n",
              "  "
            ]
          },
          "metadata": {},
          "execution_count": 271
        }
      ]
    },
    {
      "cell_type": "markdown",
      "source": [
        "#### **Save table as image**"
      ],
      "metadata": {
        "id": "J5KS9IgNbqGR"
      }
    },
    {
      "cell_type": "code",
      "source": [
        "# Set the path to save \n",
        "path = '/content/Topic-Modeling-Reclame-Aqui/results/table/'\n",
        "\n",
        "# Use makedirs() to create a new directory if it does not exists\n",
        "if not os.path.exists(path):\n",
        "  os.makedirs(path)\n",
        "\n",
        "# Save the DataFrame to a CSV file\n",
        "df.head(10).to_csv(path + 'table.csv')"
      ],
      "metadata": {
        "id": "ziN54QGkbtk6"
      },
      "execution_count": 253,
      "outputs": []
    },
    {
      "cell_type": "markdown",
      "source": [
        "### **Preprocessing**"
      ],
      "metadata": {
        "id": "drjuwA5yk4YB"
      }
    },
    {
      "cell_type": "markdown",
      "source": [
        "#### **Tokenization**\n",
        "\n",
        "Tokenization aims to breaking text down into its component parts"
      ],
      "metadata": {
        "id": "i9ukWCy8qBOP"
      }
    },
    {
      "cell_type": "code",
      "source": [
        "WORD_TOKENIZER = nltk.tokenize.word_tokenize\n",
        "def tokenize(text, lowercase=True):\n",
        "  if lowercase:\n",
        "    text = text.lower()\n",
        "  return [token.strip() for token in WORD_TOKENIZER(text, language=\"portuguese\")]"
      ],
      "metadata": {
        "id": "k_f8hsxJk7v4"
      },
      "execution_count": 202,
      "outputs": []
    },
    {
      "cell_type": "markdown",
      "source": [
        "#### **Stem** \n",
        "\n",
        "Stem the tokens. This step aims to remove morphological affixes and normalize to standardized stem forms"
      ],
      "metadata": {
        "id": "Lm7V--yMq98r"
      }
    },
    {
      "cell_type": "code",
      "source": [
        "STEMMER = nltk.stem.RSLPStemmer()\n",
        "def stem(tokens):\n",
        "  return [STEMMER.stem(token) for token in tokens]"
      ],
      "metadata": {
        "id": "TphgFQIxrPMM"
      },
      "execution_count": 203,
      "outputs": []
    },
    {
      "cell_type": "markdown",
      "source": [
        "#### **Lemmatize**\n",
        "\n",
        "Lemmatize the tokens. Retains more natural forms than stemming, but assumes all tokens nons unless tokens are passed as (word, pos) tuples. Note: nltk lemmatize does not suport portugues language"
      ],
      "metadata": {
        "id": "RTiUcqzrrdiX"
      }
    },
    {
      "cell_type": "code",
      "source": [
        "LEMMATIZER = nltk.WordNetLemmatizer()\n",
        "\n",
        "def lemmatize(tokens):\n",
        "  lemmas = []\n",
        "  for token in tokens:\n",
        "      if isinstance(token, str):\n",
        "          # treats token like a noun\n",
        "          lemmas.append(LEMMATIZER.lemmatize(token)) \n",
        "      else: \n",
        "          # assume a tuple of (word, pos)\n",
        "          lemmas.append(LEMMATIZER.lemmatize(*token))\n",
        "  return lemmas"
      ],
      "metadata": {
        "id": "4O48ihphrxy3"
      },
      "execution_count": 204,
      "outputs": []
    },
    {
      "cell_type": "markdown",
      "source": [
        "**Lemmatize option for portuguese text**"
      ],
      "metadata": {
        "id": "eHdBPARlU24i"
      }
    },
    {
      "cell_type": "code",
      "source": [
        "def lemmatize_pt(tokens, nlp):\n",
        "  # Create a spaCy Doc object and apply the lemmatization\n",
        "  doc = nlp(' '.join(tokens))\n",
        "\n",
        "  # Return lemmatize\n",
        "  return [token.lemma_ for token in doc]"
      ],
      "metadata": {
        "id": "pfgdVUHVU6Zy"
      },
      "execution_count": 205,
      "outputs": []
    },
    {
      "cell_type": "markdown",
      "source": [
        "#### **Remove stopwords**\n",
        "\n",
        "Stop words are things like articles and conjunctions that usually do not offer a lot of value in an analysis."
      ],
      "metadata": {
        "id": "jkLYqJgDs4Xd"
      }
    },
    {
      "cell_type": "code",
      "source": [
        "custom_stop_words = ['amazon', 'americanas', 'casas bahia', 'magazine luiza', 'shein', 'kabum',\n",
        "                       'samsung', 'mercado livre', 'banco brasil', 'apple', 'eletrolux', 'magazine', 'luiza', 'luizar',\n",
        "                      'casas', 'bahia', 'casa', 'mercado', 'livre']\n",
        "\n",
        "def remove_stopwords(tokens, stopwords=None, custom_stop_words = []):\n",
        "\n",
        "  # Use the default stop words if none is passed\n",
        "  if stopwords is None:\n",
        "    stopwords = nltk.corpus.stopwords.words('portuguese') + custom_stop_words\n",
        "  \n",
        "  # Filter the list of tokens to exclude the stop word tokens\n",
        "  return [token for token in tokens if token not in stopwords]"
      ],
      "metadata": {
        "id": "D9blZaBYtHgj"
      },
      "execution_count": 290,
      "outputs": []
    },
    {
      "cell_type": "code",
      "source": [
        "assert remove_stopwords(['casas bahia', 'amazon', 'roupa'], custom_stop_words=custom_stop_words) == ['roupa']"
      ],
      "metadata": {
        "id": "-E4DqCin2HDc"
      },
      "execution_count": 207,
      "outputs": []
    },
    {
      "cell_type": "markdown",
      "source": [
        "#### **Remove hyperlinks**\n",
        "\n",
        "Removes http/s links from the tokens."
      ],
      "metadata": {
        "id": "X4qMKyfKtaAW"
      }
    },
    {
      "cell_type": "code",
      "source": [
        "def remove_links(tokens):\n",
        "  # Filter tokens that starts with \"http://\" or \"https://\"\n",
        "  return [token for token in tokens \n",
        "          if not token.startswith(\"http://\")\n",
        "          and not token.startswith(\"https://\")]"
      ],
      "metadata": {
        "id": "LqlMta5qtovS"
      },
      "execution_count": 208,
      "outputs": []
    },
    {
      "cell_type": "code",
      "source": [
        "assert remove_links(['bom', 'http://online', 'https://offline']) == ['bom']"
      ],
      "metadata": {
        "id": "vxvsG7s_6wkd"
      },
      "execution_count": 209,
      "outputs": []
    },
    {
      "cell_type": "markdown",
      "source": [
        "#### **Remove numbers**"
      ],
      "metadata": {
        "id": "EwKFluprz-pW"
      }
    },
    {
      "cell_type": "code",
      "source": [
        "def remove_numbers(tokens):\n",
        "  # Use a regular expression to match words that contain numbers\n",
        "  pattern = r\"\\b\\w*\\d\\w*\\b\"\n",
        "  tokens = [token for token in tokens if not re.sub(pattern, \"\", token) == \"\"]\n",
        "  \n",
        "  # Filter out number tokens using a list comprehension and the isnumeric method\n",
        "  return [token for token in tokens if not token.isnumeric()]"
      ],
      "metadata": {
        "id": "ALKnXv8C0EWu"
      },
      "execution_count": 302,
      "outputs": []
    },
    {
      "cell_type": "code",
      "source": [
        "assert remove_numbers(['ola', 'bicicleta', '1', '2002']) == ['ola', 'bicicleta']"
      ],
      "metadata": {
        "id": "32uzYfBG3cv2"
      },
      "execution_count": 211,
      "outputs": []
    },
    {
      "cell_type": "markdown",
      "source": [
        "#### **Remove date**"
      ],
      "metadata": {
        "id": "a0pZKAQ7ZJHL"
      }
    },
    {
      "cell_type": "code",
      "source": [
        "def remove_date(tokens):\n",
        "  # Compile a regular expression to match dates in the format dd/mm or dd/mm/yyyy\n",
        "  date_regex = re.compile(r'\\d{2}/\\d{2}(/\\d{4})?')\n",
        "\n",
        "  # Use the regex to find all the tokens that match the date pattern\n",
        "  dates = [token for token in tokens if date_regex.fullmatch(token)]\n",
        "\n",
        "  # Filter the list of tokens to exclude the date tokens\n",
        "  filtered_tokens = [token for token in tokens if token not in dates]\n",
        "\n",
        "  # Return the filtered tokens\n",
        "  return filtered_tokens"
      ],
      "metadata": {
        "id": "ywykIjKZctc-"
      },
      "execution_count": 212,
      "outputs": []
    },
    {
      "cell_type": "code",
      "source": [
        "assert remove_date(['texto', 'data', '20/10', 'seguro', '02/09/2014']) == ['texto', 'data', 'seguro']"
      ],
      "metadata": {
        "id": "k6r3cMbB7F3f"
      },
      "execution_count": 213,
      "outputs": []
    },
    {
      "cell_type": "markdown",
      "source": [
        "#### **Remove punctuation**"
      ],
      "metadata": {
        "id": "7y1FqCD1t75_"
      }
    },
    {
      "cell_type": "code",
      "source": [
        "def remove_punctuation(tokens,\n",
        "                       strip_mentions=True,\n",
        "                       strip_hashtags=True):\n",
        "\n",
        "    tokens = [re.sub(r'[^\\w\\s]', '', token) for token in tokens]\n",
        "\n",
        "    # Filter punctuation tokens\n",
        "    tokens = [token.strip() for token in tokens if token not in string.punctuation]\n",
        "\n",
        "    # Remove @ symbol from left side of tokens\n",
        "    if strip_mentions:\n",
        "        tokens = [t.lstrip(r\"([!\\\"#$%&'()*+,-./:;<=>?@[\\]^_`{|}~])\\1+\") for t in tokens]\n",
        "\n",
        "    # Remove # symbol from left side of tokens\n",
        "    if strip_hashtags:\n",
        "        tokens = [t.lstrip(r\"([!\\\"#$%&'()*+,-./:;<=>?@[\\]^_`{|}~])\\1+\") for t in tokens]\n",
        "\n",
        "    return tokens"
      ],
      "metadata": {
        "id": "ba7paG7_uBtS"
      },
      "execution_count": 214,
      "outputs": []
    },
    {
      "cell_type": "code",
      "source": [
        "assert remove_punctuation(['limpo', 'acento/  ///', 'simples???', 'onde', ',']) == ['limpo', 'acento', 'simples', 'onde']"
      ],
      "metadata": {
        "id": "7E8n6Z0l7Xe_"
      },
      "execution_count": 215,
      "outputs": []
    },
    {
      "cell_type": "markdown",
      "source": [
        "#### **Remove short tokens**"
      ],
      "metadata": {
        "id": "SiUx2T8C5YBh"
      }
    },
    {
      "cell_type": "code",
      "source": [
        "def remove_short_tokens(tokens):\n",
        "  # Filter the list of tokens to exclude tokens that are shorter than four letters\n",
        "  filtered_tokens = [token for token in tokens if len(token) >= 4]\n",
        "\n",
        "  # Return the filtered tokens\n",
        "  return filtered_tokens"
      ],
      "metadata": {
        "id": "t8SOwNYW6QI1"
      },
      "execution_count": 216,
      "outputs": []
    },
    {
      "cell_type": "code",
      "source": [
        "assert remove_short_tokens(['sair', 'um', 'correto', 'igual', 'oi']) == ['sair', 'correto', 'igual']"
      ],
      "metadata": {
        "id": "GTF9de9N7uFK"
      },
      "execution_count": 217,
      "outputs": []
    },
    {
      "cell_type": "markdown",
      "source": [
        "#### **Correction of spelling errors**"
      ],
      "metadata": {
        "id": "WqtOisN38pZP"
      }
    },
    {
      "cell_type": "code",
      "source": [
        "def check_spell_errors(text, spell):\n",
        "\n",
        "  # Correct the spelling errors in the text\n",
        "  corrected_text = spell.correction(text)\n",
        "\n",
        "  # If no correction is present user the original text\n",
        "  if corrected_text == None:\n",
        "     corrected_text =  text\n",
        "  \n",
        "  # Return the corrected text\n",
        "  return corrected_text"
      ],
      "metadata": {
        "id": "fUTiJYc_8hba"
      },
      "execution_count": 218,
      "outputs": []
    },
    {
      "cell_type": "code",
      "source": [
        "def preprocessing(documents, nlp = None, spell = None):\n",
        "  corpus = []\n",
        "\n",
        "  # process each document and append to corpus list\n",
        "  for i, text in enumerate(documents):\n",
        "    if i % 1000 == 0:\n",
        "      print(f\"{i} documents of {len(documents)}\\n\")\n",
        "    if spell is not None:\n",
        "      text = check_spell_errors(text, spell)\n",
        "    tokens = tokenize(text)\n",
        "    tokens = remove_links(tokens)\n",
        "    tokens = remove_punctuation(tokens, strip_mentions=True, strip_hashtags=True)\n",
        "    tokens = remove_numbers(tokens)\n",
        "    tokens = remove_date(tokens)\n",
        "    if nlp is not None: \n",
        "      tokens = lemmatize_pt(tokens, nlp)\n",
        "    #tokens = stem(tokens) \n",
        "    tokens = remove_short_tokens(tokens)\n",
        "    tokens = remove_stopwords(tokens,custom_stop_words=custom_stop_words)\n",
        "    corpus.append(' '.join(tokens))\n",
        "  return corpus"
      ],
      "metadata": {
        "id": "5aiFtbo3uuh_"
      },
      "execution_count": 291,
      "outputs": []
    },
    {
      "cell_type": "code",
      "source": [
        "# Create a SpellChecker object\n",
        "spell = SpellChecker(language='pt')\n",
        "\n",
        "nlp = spacy.load('pt_core_news_sm')\n",
        "\n",
        "corpus = preprocessing(df.documents, nlp, spell)"
      ],
      "metadata": {
        "id": "Tu75mPgywHwb",
        "colab": {
          "base_uri": "https://localhost:8080/"
        },
        "outputId": "f77cf96f-53e6-468c-e770-6078e5e80730"
      },
      "execution_count": 292,
      "outputs": [
        {
          "output_type": "stream",
          "name": "stdout",
          "text": [
            "0 documents of 10510\n",
            "\n",
            "1000 documents of 10510\n",
            "\n",
            "2000 documents of 10510\n",
            "\n",
            "3000 documents of 10510\n",
            "\n",
            "4000 documents of 10510\n",
            "\n",
            "5000 documents of 10510\n",
            "\n",
            "6000 documents of 10510\n",
            "\n",
            "7000 documents of 10510\n",
            "\n",
            "8000 documents of 10510\n",
            "\n",
            "9000 documents of 10510\n",
            "\n",
            "10000 documents of 10510\n",
            "\n"
          ]
        }
      ]
    },
    {
      "cell_type": "code",
      "source": [
        "# Print the first document before and after pre-processing it\n",
        "print('Before preprocessing')\n",
        "print(df.documents[0])\n",
        "print('\\nAfter preprocessig')\n",
        "print(corpus[0])"
      ],
      "metadata": {
        "colab": {
          "base_uri": "https://localhost:8080/"
        },
        "id": "3jmOFKM1M-Qx",
        "outputId": "ab2d2efe-ba5d-4e8c-9f82-3d66d1943fc1"
      },
      "execution_count": 221,
      "outputs": [
        {
          "output_type": "stream",
          "name": "stdout",
          "text": [
            "Before preprocessing\n",
            "eu estava pesquisando bastante uma nova tv para comprar e resolvi aguardar a semana do cliente, porque como ocorreu tiveram vários descontos e promoções nessa semana, sendo assim recebi descontos, cashback e cupons de varias plataformas e assim decidi efetuar a compra aquela que eu entendesse ser o melhor custo beneficio. sendo assim no dia 12 de setembro de 2022 recebi uma oferta de produto da amazon que entendi estar com um preço muito bom além de ter cachback e efetuei a compra que já aguardei até a semana do consumidor para efetuar com toda a expectativa. como estavamos anciosos e mesmo estando dentro do prazo de entrega hoje no dia 19/09 resolvi enviar uma mensagem perguntando quando o pedido seria enviado, ja que após a confirmação da compra e pagamento, passado 7 dias não tive nenhum retorno, já que complei inclusive na amazon, um site em que confio e tambem sou assinante. para a minha surpresa após o pedido de informação do pedido, tenho um retorno por email na qual o mesmo estaria sendo cancelado, sendo nenhuma justificativa e após 7 dias da realização do mesmo. ou seja aguardei chegar em um periodo de compro ansiosamente para aproveitar os descontos de um produto que minha familia aguardava, e além de cancelar a compra do produto sem uma justificativa a empresa me tirou todas as oportunidades e descontos que tive de efetuar a compra na semana do consumidor já que levaram 7 dias para cancelar o mesmo, me sinto extremamente  por uma empresa em que sempre acreditei, aguardo uma satisfação e reparação aos meus transtornos sofridos, já que hoje não consigo mais comprar esse produto pelo mesmo valor ou próximo a ele.\n",
            "\n",
            "After preprocessig\n",
            "pesquisando bastante novo comprar resolver aguardar semana de o cliente porque ocorrer vários desconto promoção em esse semana assim recebi desconto cashback cupom varia plataforma assim decidir efetuar compra entender custo beneficio assim em o Setembro recebi oferta produto de o entendi preço além Cachback efetuei compra aguardei semana de o consumidor efetuar todo expectativa estavamo ancioso dentro de o prazo entrega hoje em o resolver enviar mensagem perguntar pedido enviar após confirmação de o compra pagamento passado dias nenhum retorno complei inclusive em o site confio tambem assinante surpresa após pedido informação de o pedido retorno email em o cancelar nenhum justificativa após de o realização de o aguardei chegar periodo compro ansiosamente aproveitar desconto produto familia aguardar além cancelar compra de o produto justificativa empresa tirar todo oportunidade desconto efetuar compra em o semana de o consumidor levar cancelar sinto extremamente empresa sempre acreditar aguardo satisfação reparação transtorno sofrir hoje consizer comprar produto por o valor próximo\n"
          ]
        }
      ]
    },
    {
      "cell_type": "markdown",
      "source": [
        "## **Training a BERTopic Model**\n",
        "\n",
        "The BERTopic algorithm has several advantages over other topic modeling algorithms. It is able to handle sparse data, it is scalable to large datasets, and it is able to learn topics that are not well-defined or are overlapping.\n",
        "\n",
        "As our data language is portuguese we will going to set language to multilingual."
      ],
      "metadata": {
        "id": "AWmOFQ3VOD05"
      }
    },
    {
      "cell_type": "markdown",
      "source": [
        "Create a new BERTopic model and train it. By default BERTopic use the paraphrase-multilingual-MiniLM-L12-v2 model for multi language documents. For others model check here [BERTopic sentence transformers](https://maartengr.github.io/BERTopic/getting_started/embeddings/embeddings.html#sentence-transformers)"
      ],
      "metadata": {
        "id": "_mBsnRnhgbm9"
      }
    },
    {
      "cell_type": "code",
      "source": [
        "# reduce the impact of frequent words.\n",
        "ctfidf_model = ClassTfidfTransformer(reduce_frequent_words=True)\n",
        "\n",
        "# Create a new BERTopic model using multilingual option\n",
        "topic_model = BERTopic(language=\"multilingual\", calculate_probabilities=True, verbose=True, ctfidf_model=ctfidf_model)\n",
        "\n",
        "# Train model \n",
        "topics, probs = topic_model.fit_transform(corpus)"
      ],
      "metadata": {
        "id": "B0EFqnutN2Y9",
        "outputId": "473521a4-778d-4a43-a643-5cdd973b9068",
        "colab": {
          "base_uri": "https://localhost:8080/",
          "height": 101,
          "referenced_widgets": [
            "9d94ee1b5ec141ed92c337ff5f06b21b",
            "f9cad182f96c42d288710587b9c9d386",
            "834ac2f8881740e182701e049906cb36",
            "13d0b172022c4e0ca5fbe2a86d7f6c77",
            "94cfff265e0e46af9dffc9f7e699afde",
            "2122b5a77c06441fa3b3e702389f8796",
            "045beb5a48a44531a67ffab30f5ee653",
            "69443143869d4709b2bebcc8ed61313e",
            "a5a127b84bbe4a4590d1bdc99c904697",
            "270ca06c3fc346c3a9d593a4517512a8",
            "78398c611aa04919b0ab652952a5c3ce"
          ]
        }
      },
      "execution_count": 294,
      "outputs": [
        {
          "output_type": "display_data",
          "data": {
            "text/plain": [
              "Batches:   0%|          | 0/329 [00:00<?, ?it/s]"
            ],
            "application/vnd.jupyter.widget-view+json": {
              "version_major": 2,
              "version_minor": 0,
              "model_id": "9d94ee1b5ec141ed92c337ff5f06b21b"
            }
          },
          "metadata": {}
        },
        {
          "output_type": "stream",
          "name": "stderr",
          "text": [
            "2023-01-05 04:24:32,711 - BERTopic - Transformed documents to Embeddings\n",
            "2023-01-05 04:24:52,185 - BERTopic - Reduced dimensionality\n",
            "2023-01-05 04:24:57,381 - BERTopic - Clustered reduced embeddings\n"
          ]
        }
      ]
    },
    {
      "cell_type": "markdown",
      "source": [
        "BERTopic works in three main steps: \n",
        "\n",
        "\n",
        "1.   Documents are first converted to numeric data. It extracts different embeddings based on the context of the word. For this, a sentence transformation model is used.\n",
        "2.  Documents with similar topics are then grouped together forming clusters with similar topics. For this purpose, BERTopic uses the clustering algorithm UMAP to lower the dimensionality of the embeddings. Then the documents are clustered with the density-based algorithm HDBSCAN.\n",
        "3. BERTopic extracts topics from clusters using a class-based TF-IDF score. This score gives the importance of each word in a cluster. Topics are then created based on the most important words measured by their C-TF-IDF score.\n",
        "\n",
        "For more information check this link [BERTopic](https://towardsdatascience.com/topic-modeling-with-bert-779f7db187e6)\n",
        "\n"
      ],
      "metadata": {
        "id": "vnG5aC6ekXeu"
      }
    },
    {
      "cell_type": "markdown",
      "source": [
        "### **Extracting Topics**"
      ],
      "metadata": {
        "id": "GimKIMmaRZSd"
      }
    },
    {
      "cell_type": "code",
      "source": [
        "# Print the most frequent topics\n",
        "freq = topic_model.get_topic_info()\n",
        "\n",
        "# Show the top 5 most frequent topics\n",
        "freq.head(5)"
      ],
      "metadata": {
        "id": "JIrBNmF-Rcf0",
        "outputId": "a511da91-6782-4bad-829b-a9d2b9081182",
        "colab": {
          "base_uri": "https://localhost:8080/",
          "height": 206
        }
      },
      "execution_count": 295,
      "outputs": [
        {
          "output_type": "execute_result",
          "data": {
            "text/plain": [
              "   Topic  Count                                             Name\n",
              "0     -1   4764  -1_dinheiro_responder_reclamação_transportadora\n",
              "1      0    587                 0_cartão_crédito_cobrança_cobrar\n",
              "2      1    361               1_celular_smartphone_aparelho_fone\n",
              "3      2    328            2_remetente_endereço_rastreio_correio\n",
              "4      3    268       3_cancelamento_cancelar_cancelei_solicitei"
            ],
            "text/html": [
              "\n",
              "  <div id=\"df-99a68dd1-4362-4bae-9bc4-064c250774e7\">\n",
              "    <div class=\"colab-df-container\">\n",
              "      <div>\n",
              "<style scoped>\n",
              "    .dataframe tbody tr th:only-of-type {\n",
              "        vertical-align: middle;\n",
              "    }\n",
              "\n",
              "    .dataframe tbody tr th {\n",
              "        vertical-align: top;\n",
              "    }\n",
              "\n",
              "    .dataframe thead th {\n",
              "        text-align: right;\n",
              "    }\n",
              "</style>\n",
              "<table border=\"1\" class=\"dataframe\">\n",
              "  <thead>\n",
              "    <tr style=\"text-align: right;\">\n",
              "      <th></th>\n",
              "      <th>Topic</th>\n",
              "      <th>Count</th>\n",
              "      <th>Name</th>\n",
              "    </tr>\n",
              "  </thead>\n",
              "  <tbody>\n",
              "    <tr>\n",
              "      <th>0</th>\n",
              "      <td>-1</td>\n",
              "      <td>4764</td>\n",
              "      <td>-1_dinheiro_responder_reclamação_transportadora</td>\n",
              "    </tr>\n",
              "    <tr>\n",
              "      <th>1</th>\n",
              "      <td>0</td>\n",
              "      <td>587</td>\n",
              "      <td>0_cartão_crédito_cobrança_cobrar</td>\n",
              "    </tr>\n",
              "    <tr>\n",
              "      <th>2</th>\n",
              "      <td>1</td>\n",
              "      <td>361</td>\n",
              "      <td>1_celular_smartphone_aparelho_fone</td>\n",
              "    </tr>\n",
              "    <tr>\n",
              "      <th>3</th>\n",
              "      <td>2</td>\n",
              "      <td>328</td>\n",
              "      <td>2_remetente_endereço_rastreio_correio</td>\n",
              "    </tr>\n",
              "    <tr>\n",
              "      <th>4</th>\n",
              "      <td>3</td>\n",
              "      <td>268</td>\n",
              "      <td>3_cancelamento_cancelar_cancelei_solicitei</td>\n",
              "    </tr>\n",
              "  </tbody>\n",
              "</table>\n",
              "</div>\n",
              "      <button class=\"colab-df-convert\" onclick=\"convertToInteractive('df-99a68dd1-4362-4bae-9bc4-064c250774e7')\"\n",
              "              title=\"Convert this dataframe to an interactive table.\"\n",
              "              style=\"display:none;\">\n",
              "        \n",
              "  <svg xmlns=\"http://www.w3.org/2000/svg\" height=\"24px\"viewBox=\"0 0 24 24\"\n",
              "       width=\"24px\">\n",
              "    <path d=\"M0 0h24v24H0V0z\" fill=\"none\"/>\n",
              "    <path d=\"M18.56 5.44l.94 2.06.94-2.06 2.06-.94-2.06-.94-.94-2.06-.94 2.06-2.06.94zm-11 1L8.5 8.5l.94-2.06 2.06-.94-2.06-.94L8.5 2.5l-.94 2.06-2.06.94zm10 10l.94 2.06.94-2.06 2.06-.94-2.06-.94-.94-2.06-.94 2.06-2.06.94z\"/><path d=\"M17.41 7.96l-1.37-1.37c-.4-.4-.92-.59-1.43-.59-.52 0-1.04.2-1.43.59L10.3 9.45l-7.72 7.72c-.78.78-.78 2.05 0 2.83L4 21.41c.39.39.9.59 1.41.59.51 0 1.02-.2 1.41-.59l7.78-7.78 2.81-2.81c.8-.78.8-2.07 0-2.86zM5.41 20L4 18.59l7.72-7.72 1.47 1.35L5.41 20z\"/>\n",
              "  </svg>\n",
              "      </button>\n",
              "      \n",
              "  <style>\n",
              "    .colab-df-container {\n",
              "      display:flex;\n",
              "      flex-wrap:wrap;\n",
              "      gap: 12px;\n",
              "    }\n",
              "\n",
              "    .colab-df-convert {\n",
              "      background-color: #E8F0FE;\n",
              "      border: none;\n",
              "      border-radius: 50%;\n",
              "      cursor: pointer;\n",
              "      display: none;\n",
              "      fill: #1967D2;\n",
              "      height: 32px;\n",
              "      padding: 0 0 0 0;\n",
              "      width: 32px;\n",
              "    }\n",
              "\n",
              "    .colab-df-convert:hover {\n",
              "      background-color: #E2EBFA;\n",
              "      box-shadow: 0px 1px 2px rgba(60, 64, 67, 0.3), 0px 1px 3px 1px rgba(60, 64, 67, 0.15);\n",
              "      fill: #174EA6;\n",
              "    }\n",
              "\n",
              "    [theme=dark] .colab-df-convert {\n",
              "      background-color: #3B4455;\n",
              "      fill: #D2E3FC;\n",
              "    }\n",
              "\n",
              "    [theme=dark] .colab-df-convert:hover {\n",
              "      background-color: #434B5C;\n",
              "      box-shadow: 0px 1px 3px 1px rgba(0, 0, 0, 0.15);\n",
              "      filter: drop-shadow(0px 1px 2px rgba(0, 0, 0, 0.3));\n",
              "      fill: #FFFFFF;\n",
              "    }\n",
              "  </style>\n",
              "\n",
              "      <script>\n",
              "        const buttonEl =\n",
              "          document.querySelector('#df-99a68dd1-4362-4bae-9bc4-064c250774e7 button.colab-df-convert');\n",
              "        buttonEl.style.display =\n",
              "          google.colab.kernel.accessAllowed ? 'block' : 'none';\n",
              "\n",
              "        async function convertToInteractive(key) {\n",
              "          const element = document.querySelector('#df-99a68dd1-4362-4bae-9bc4-064c250774e7');\n",
              "          const dataTable =\n",
              "            await google.colab.kernel.invokeFunction('convertToInteractive',\n",
              "                                                     [key], {});\n",
              "          if (!dataTable) return;\n",
              "\n",
              "          const docLinkHtml = 'Like what you see? Visit the ' +\n",
              "            '<a target=\"_blank\" href=https://colab.research.google.com/notebooks/data_table.ipynb>data table notebook</a>'\n",
              "            + ' to learn more about interactive tables.';\n",
              "          element.innerHTML = '';\n",
              "          dataTable['output_type'] = 'display_data';\n",
              "          await google.colab.output.renderOutput(dataTable, element);\n",
              "          const docLink = document.createElement('div');\n",
              "          docLink.innerHTML = docLinkHtml;\n",
              "          element.appendChild(docLink);\n",
              "        }\n",
              "      </script>\n",
              "    </div>\n",
              "  </div>\n",
              "  "
            ]
          },
          "metadata": {},
          "execution_count": 295
        }
      ]
    },
    {
      "cell_type": "markdown",
      "source": [
        "The table above shows the five most freqeuente topics and the words present on it extract by BERTopic. -1 refers to all outliers and should be ignored."
      ],
      "metadata": {
        "id": "TVWcfF5mRrMy"
      }
    },
    {
      "cell_type": "code",
      "source": [
        "# show the most frequent topic\n",
        "topic_model.get_topic(1)"
      ],
      "metadata": {
        "id": "Br_UMf1kRxU3",
        "outputId": "b6c84b1a-2411-4166-c227-7f4db24ec1c4",
        "colab": {
          "base_uri": "https://localhost:8080/"
        }
      },
      "execution_count": 296,
      "outputs": [
        {
          "output_type": "execute_result",
          "data": {
            "text/plain": [
              "[('celular', 0.3070375345763583),\n",
              " ('smartphone', 0.23022531059907597),\n",
              " ('aparelho', 0.20786430349498292),\n",
              " ('fone', 0.17090118701044152),\n",
              " ('motorola', 0.14384204339109585),\n",
              " ('chip', 0.14223872438506316),\n",
              " ('garantia', 0.14024767389278864),\n",
              " ('xiaomi', 0.1378048870129252),\n",
              " ('telefone', 0.1369942853495296),\n",
              " ('redmi', 0.12676562409147094)]"
            ]
          },
          "metadata": {},
          "execution_count": 296
        }
      ]
    },
    {
      "cell_type": "markdown",
      "source": [
        "**Note:** BERTopic is stocastich which means that the topics might differ across runs this is mostly due to the stocastisch nature of UMAP"
      ],
      "metadata": {
        "id": "YpP4HgF2R6Wa"
      }
    },
    {
      "cell_type": "markdown",
      "source": [
        "#### **Save topic info table as CSV**"
      ],
      "metadata": {
        "id": "CxWLChzJlPmZ"
      }
    },
    {
      "cell_type": "code",
      "source": [
        "# Set the path to save \n",
        "path = '/content/Topic-Modeling-Reclame-Aqui/results/topic_info_tables/'\n",
        "\n",
        "# Use makedirs() to create a new directory if it does not exists\n",
        "if not os.path.exists(path):\n",
        "  os.makedirs(path)\n",
        "\n",
        "# Save table as csv\n",
        "freq.head(10).to_csv(path + 'topic_info_preprocessed_lemma.csv')"
      ],
      "metadata": {
        "id": "9wM4Ymh_lOdt"
      },
      "execution_count": 297,
      "outputs": []
    },
    {
      "cell_type": "markdown",
      "source": [
        "## **Visualization**"
      ],
      "metadata": {
        "id": "wBsA8hiVSJDY"
      }
    },
    {
      "cell_type": "markdown",
      "source": [
        "### **Intertopic Distance Map**\n",
        "\n",
        "This graph shows the distance intertopic and help us understand the promixity of topics"
      ],
      "metadata": {
        "id": "2twooZDXUc2T"
      }
    },
    {
      "cell_type": "code",
      "source": [
        "fig = topic_model.visualize_topics()\n",
        "fig"
      ],
      "metadata": {
        "id": "Ae2JSAENSIOJ",
        "outputId": "c32e052c-11b7-40dd-97b2-cc4f21312f93",
        "colab": {
          "base_uri": "https://localhost:8080/",
          "height": 667
        }
      },
      "execution_count": 298,
      "outputs": [
        {
          "output_type": "display_data",
          "data": {
            "text/html": [
              "<html>\n",
              "<head><meta charset=\"utf-8\" /></head>\n",
              "<body>\n",
              "    <div>            <script src=\"https://cdnjs.cloudflare.com/ajax/libs/mathjax/2.7.5/MathJax.js?config=TeX-AMS-MML_SVG\"></script><script type=\"text/javascript\">if (window.MathJax) {MathJax.Hub.Config({SVG: {font: \"STIX-Web\"}});}</script>                <script type=\"text/javascript\">window.PlotlyConfig = {MathJaxConfig: 'local'};</script>\n",
              "        <script src=\"https://cdn.plot.ly/plotly-2.8.3.min.js\"></script>                <div id=\"f38a5713-e8fa-4619-b83a-aad7111ea5cc\" class=\"plotly-graph-div\" style=\"height:650px; width:650px;\"></div>            <script type=\"text/javascript\">                                    window.PLOTLYENV=window.PLOTLYENV || {};                                    if (document.getElementById(\"f38a5713-e8fa-4619-b83a-aad7111ea5cc\")) {                    Plotly.newPlot(                        \"f38a5713-e8fa-4619-b83a-aad7111ea5cc\",                        [{\"customdata\":[[0,\"cart\\u00e3o | cr\\u00e9dito | cobran\\u00e7a | cobrar | assinatura\",587],[1,\"celular | smartphone | aparelho | fone | motorola\",361],[2,\"remetente | endere\\u00e7o | rastreio | correio | rastreamento\",328],[3,\"cancelamento | cancelar | cancelei | solicitei | pilha\",268],[4,\"whatsapp | agendar | atendimento | mensagem | conversa\",267],[5,\"restorno | dinheiro | paguei | reembolso | volta\",211],[6,\"brasil | brasileiro | cuba | ve\\u00edculo | qm647942578br\",203],[7,\"roupa | cal\\u00e7a | vestido | hering | camisa\",203],[8,\"senha | acessar | acesso | conta | recuperar\",187],[9,\"data | atraso | previs\\u00e3o | prazo | full\",182],[10,\"americana | americano | cupom | shoptime | americanascom\",147],[11,\"ariano | infra\\u00e7\\u00e3o | comprador | reputa\\u00e7\\u00e3o | vendedor\",133],[12,\"iphone | carregador | aparelho | banco | fast\",132],[13,\"geladeira | refrigerador | brastemp | alimento | amassar\",124],[14,\"jogo | lan\\u00e7amento | ragnarok | pr\\u00e9venda | game\",106],[15,\"amazon | equipara\\u00e7\\u00e3o | amazoncombr | loggi | amazoncom\",104],[16,\"trip\\u00e9 | santo | imail | presa | na662042007brgostaria\",99],[17,\"samsung | galaxy | celular | smartphone | aparelho\",95],[18,\"amazoncombr | cobran\\u00e7a | amazonprimebr | digital | amazoncom\",71],[19,\"livro | gratuito | cultura | academico | recorrencia\",67],[20,\"anivers\\u00e1rio | dezembro | \\u00e1rvore | novembro | presente\",66],[21,\"rob\\u00f4 | macac\\u00e3o | aspirador | comedouro | arranhador\",64],[22,\"devolu\\u00e7\\u00e3o | postagem | c\\u00f3digo | devolu\\u00e7\\u00e3oj\\u00e1 | fascial\",60],[23,\"curitiba | lu\\u00eds | parado | paciente | chegouc\\u00f3digo\",58],[24,\"express | transportadora | filipeta | tranportadora | motorista\",57],[25,\"t\\u00eanis | tenis | raquete | mizuno | wave\",55],[26,\"black | friday | magalupay | promo\\u00e7\\u00e3o | pre\\u00e7o\",55],[27,\"lavar | m\\u00e1quina | maquina | roupa | lavadora\",53],[28,\"novembro | dezembro | outubro | encomenda | previs\\u00e3o\",52],[29,\"prime | ifood | v\\u00eddeo | s\\u00e9rie | cupom\",52],[30,\"aplicativo | 092335id | jurostoda | problemaprotocolos322209301890728322209291927624 | gshn4r46300mpk2\",51],[31,\"estavao | kimono | sapato | sabor | desdo\",51],[32,\"garrafa | tinta | copo | impressora | embalagem\",51],[33,\"esposo | roda | toke | reabrir | nois\",49],[34,\"cama | ch\\u00e3o | dormir | fronha | king\",47],[35,\"americana | mayar | atraso | america | direct\",40],[36,\"placa | c\\u00e2mera | secador | c\\u00e2merar | v\\u00eddeo\",40],[37,\"televis\\u00e3o | televisor | assistir | copa | listra\",39],[38,\"china | nacional | continuarei | order | paciente\",37],[39,\"music | m\\u00fasica | tocar | ouvir | pular\",35],[40,\"bicicleta | bike | capacete | bikes | alexandre\",34],[41,\"cashback | ca\\u00e7ador | extrato | m\\u00e9liuz | americanasnessar\",33],[42,\"notebook | dell | intel | computador | slot\",32],[43,\"bluetooth | fone | ouvido | projetor | sobrinhos\",32],[44,\"perfume | shampoo | recob | herrero | spray\",31],[45,\"cadeira | gamer | cilindro | montar | sozinhar\",31],[46,\"taxa | tributo | taxar | volto | boleto\",30],[47,\"sof\\u00e1 | mobly | sofa | reclin\\u00e1vel | sof\\u00e0s\",28],[48,\"kleber | gerente | lapa | retirar | ubatuba\",27],[49,\"pneu | moto | pirelli | f\\u00f3rmula | 22555r18\",27],[50,\"reconhecimento | facial | rosto | desktop | senha\",24],[51,\"vvlog | fidelity | jedlog | transportadora | previs\\u00e3o\",23],[52,\"yell | mobile | hshsdh | gravada | assinar\",23],[53,\"virtual | tempor\\u00e1rio | ecodot | equipamento | fatura\",23],[54,\"microondas | forno | mateus | microonda | el\\u00e9trico\",23],[55,\"bateria | arma | integrador | durar | kindle\",22],[56,\"atla | franqueado | rigoroso | fog\\u00e3o | ilegal\",21],[57,\"amobeleza | baixar | batedeira | arno | rastrear\",21],[58,\"teclado | mouse | combo | logitech | mk540\",21],[59,\"internacional | nacional | efetuadodesinfec\\u00e7\\u00e3o | processamento | warehouse\",21],[60,\"rel\\u00f3gio | smartwatch | pulseira | conivente | pirata\",20],[61,\"parado | agilizer | 2610at\\u00e9 | prazoqual | itaja\\u00edrodoviar\",20],[62,\"atualiza\\u00e7\\u00e3o | valecompra | 622desde | gshn3q29900ngmm | correiosna675193456br\",20],[63,\"esplanado | aplicativo | gerenciar | goianiago | mesmafor\",20],[64,\"paramount | desbloquear | bloquear | bloqueado | depoiis\",19],[65,\"l\\u00e2mpada | lampada | lumin\\u00e1ria | positivo | light\",18],[66,\"edition | mlmp | fuer | bermuda | chameir\",17],[67,\"descadastrar | carta | descadastrarse | access | americanascom\",17],[68,\"tr\\u00e2nsito | rastreamento | 25102022eu | marabo | na546541156br\",17],[69,\"microfone | echo | gritar | carteiro | multilaser\",16],[70,\"bairro | cear | campainha | agencia | c\\u00e2mera\",16],[71,\"caiir | delto | novembroreembolso | inutilizavel | dizque\",15],[72,\"bijuterio | 07de | entra | hole | novembro\",14],[73,\"suspender | idoneidade | suspens\\u00e3o | t\\u00f3pico | irregular\",14],[74,\"juliana_fraga | m\\u00e1rcia | difusor | sait | imagejpegsizar\",13],[75,\"iphone | instagr | publicidade | an\\u00fancio | navegar\",13],[76,\"forno | ultilizar | rotativo | escova | queimar\",11],[77,\"cafeteira | caf\\u00e9 | x\\u00edcara | manualmente | puxar\",11],[78,\"cachorro | coleira | ra\\u00e7\\u00e3o | amaciante | oculo\",11],[79,\"salvador | curitiba | fortaleza | gshn4b24n0016ne | atualizaer\",10],[80,\"coment\\u00e1rio | propaganda | enganoso | instagram | estoquese\",10],[81,\"alvarelho | prefeituro | v2residencial | municipal | certid\\u00e3o\",10]],\"hovertemplate\":\"<b>Topic %{customdata[0]}</b><br>Words: %{customdata[1]}<br>Size: %{customdata[2]}\",\"legendgroup\":\"\",\"marker\":{\"color\":\"#B0BEC5\",\"size\":[587,361,328,268,267,211,203,203,187,182,147,133,132,124,106,104,99,95,71,67,66,64,60,58,57,55,55,53,52,52,51,51,51,49,47,40,40,39,37,35,34,33,32,32,31,31,30,28,27,27,24,23,23,23,23,22,21,21,21,21,20,20,20,20,19,18,17,17,17,16,16,15,14,14,13,13,11,11,11,10,10,10],\"sizemode\":\"area\",\"sizeref\":0.366875,\"symbol\":\"circle\",\"line\":{\"color\":\"DarkSlateGrey\",\"width\":2}},\"mode\":\"markers\",\"name\":\"\",\"orientation\":\"v\",\"showlegend\":false,\"x\":[-6.660994529724121,-6.918056964874268,1.3313758373260498,-7.265328407287598,-7.133048057556152,-7.384790897369385,-7.477448463439941,10.011034965515137,7.79421329498291,0.490346759557724,-7.019339561462402,-6.904232025146484,-7.286798000335693,0.41940736770629883,0.2653813362121582,-7.547834873199463,3.9393725395202637,-7.092942714691162,8.321127891540527,2.9608707427978516,0.7239903807640076,9.738397598266602,9.556246757507324,13.424043655395508,1.4333531856536865,8.390399932861328,-7.151928424835205,4.0943074226379395,4.214303493499756,8.478790283203125,2.1971068382263184,3.9493353366851807,10.024104118347168,0.9037467837333679,0.5482686758041382,1.6490992307662964,3.3571598529815674,3.72757625579834,3.193134307861328,8.568709373474121,3.868788957595825,4.515859127044678,8.469470977783203,3.521373748779297,9.477828025817871,2.6811397075653076,12.98489761352539,2.572244882583618,0.9428121447563171,4.458776473999023,7.722537040710449,2.9210102558135986,2.4283924102783203,8.057289123535156,2.9798219203948975,8.591015815734863,3.264352798461914,4.147348880767822,3.434281826019287,3.874765634536743,8.33359146118164,4.245896339416504,13.06234073638916,4.080109596252441,8.502829551696777,2.158940076828003,2.452866315841675,3.58837628364563,13.157062530517578,3.8712682723999023,3.4477202892303467,12.946582794189453,12.988629341125488,8.048322677612305,4.166827201843262,6.352243423461914,3.9641690254211426,3.623086452484131,2.0163562297821045,13.399453163146973,6.352275848388672,2.20646071434021],\"xaxis\":\"x\",\"y\":[3.6483216285705566,4.003330707550049,-6.325876712799072,4.154263019561768,3.5310347080230713,3.984217405319214,3.742591381072998,-13.97730541229248,5.938366889953613,14.424137115478516,3.6727874279022217,4.1143107414245605,3.9686503410339355,14.352697372436523,14.19864273071289,4.363247871398926,-6.653890132904053,3.7769839763641357,6.522533893585205,-7.1018218994140625,14.657578468322754,-13.750738143920898,-13.906765937805176,1.2404860258102417,-6.309647560119629,-2.4568047523498535,3.8274521827697754,-2.965254068374634,-2.8714146614074707,6.683984756469727,-6.943027496337891,-3.1029016971588135,-14.018074989318848,14.837294578552246,14.481767654418945,-6.282066345214844,-7.8093342781066895,-6.497625350952148,-6.62155294418335,6.774176597595215,-6.156562328338623,-6.73742151260376,-2.377457618713379,-6.270547866821289,-13.984256744384766,-7.490094184875488,-6.0895867347717285,-7.590592384338379,14.876302719116211,-6.685964107513428,5.858770847320557,-6.570307731628418,-5.583583831787109,6.228127956390381,-6.239230155944824,-2.2556707859039307,-5.864628791809082,-5.773252964019775,-7.736013412475586,-6.880640506744385,-2.513167142868042,-2.8132147789001465,0.8782928586006165,-6.472908973693848,6.708600997924805,-5.383504867553711,-5.648731231689453,-6.630518913269043,0.9733828902244568,-6.815639972686768,-6.8441548347473145,-6.050795555114746,0.8048421740531921,6.213749885559082,-5.645340442657471,11.228689193725586,-6.3223557472229,-6.9581828117370605,-6.993370532989502,1.2161883115768433,11.228631019592285,-5.4667534828186035],\"yaxis\":\"y\",\"type\":\"scatter\"}],                        {\"template\":{\"data\":{\"barpolar\":[{\"marker\":{\"line\":{\"color\":\"white\",\"width\":0.5},\"pattern\":{\"fillmode\":\"overlay\",\"size\":10,\"solidity\":0.2}},\"type\":\"barpolar\"}],\"bar\":[{\"error_x\":{\"color\":\"rgb(36,36,36)\"},\"error_y\":{\"color\":\"rgb(36,36,36)\"},\"marker\":{\"line\":{\"color\":\"white\",\"width\":0.5},\"pattern\":{\"fillmode\":\"overlay\",\"size\":10,\"solidity\":0.2}},\"type\":\"bar\"}],\"carpet\":[{\"aaxis\":{\"endlinecolor\":\"rgb(36,36,36)\",\"gridcolor\":\"white\",\"linecolor\":\"white\",\"minorgridcolor\":\"white\",\"startlinecolor\":\"rgb(36,36,36)\"},\"baxis\":{\"endlinecolor\":\"rgb(36,36,36)\",\"gridcolor\":\"white\",\"linecolor\":\"white\",\"minorgridcolor\":\"white\",\"startlinecolor\":\"rgb(36,36,36)\"},\"type\":\"carpet\"}],\"choropleth\":[{\"colorbar\":{\"outlinewidth\":1,\"tickcolor\":\"rgb(36,36,36)\",\"ticks\":\"outside\"},\"type\":\"choropleth\"}],\"contourcarpet\":[{\"colorbar\":{\"outlinewidth\":1,\"tickcolor\":\"rgb(36,36,36)\",\"ticks\":\"outside\"},\"type\":\"contourcarpet\"}],\"contour\":[{\"colorbar\":{\"outlinewidth\":1,\"tickcolor\":\"rgb(36,36,36)\",\"ticks\":\"outside\"},\"colorscale\":[[0.0,\"#440154\"],[0.1111111111111111,\"#482878\"],[0.2222222222222222,\"#3e4989\"],[0.3333333333333333,\"#31688e\"],[0.4444444444444444,\"#26828e\"],[0.5555555555555556,\"#1f9e89\"],[0.6666666666666666,\"#35b779\"],[0.7777777777777778,\"#6ece58\"],[0.8888888888888888,\"#b5de2b\"],[1.0,\"#fde725\"]],\"type\":\"contour\"}],\"heatmapgl\":[{\"colorbar\":{\"outlinewidth\":1,\"tickcolor\":\"rgb(36,36,36)\",\"ticks\":\"outside\"},\"colorscale\":[[0.0,\"#440154\"],[0.1111111111111111,\"#482878\"],[0.2222222222222222,\"#3e4989\"],[0.3333333333333333,\"#31688e\"],[0.4444444444444444,\"#26828e\"],[0.5555555555555556,\"#1f9e89\"],[0.6666666666666666,\"#35b779\"],[0.7777777777777778,\"#6ece58\"],[0.8888888888888888,\"#b5de2b\"],[1.0,\"#fde725\"]],\"type\":\"heatmapgl\"}],\"heatmap\":[{\"colorbar\":{\"outlinewidth\":1,\"tickcolor\":\"rgb(36,36,36)\",\"ticks\":\"outside\"},\"colorscale\":[[0.0,\"#440154\"],[0.1111111111111111,\"#482878\"],[0.2222222222222222,\"#3e4989\"],[0.3333333333333333,\"#31688e\"],[0.4444444444444444,\"#26828e\"],[0.5555555555555556,\"#1f9e89\"],[0.6666666666666666,\"#35b779\"],[0.7777777777777778,\"#6ece58\"],[0.8888888888888888,\"#b5de2b\"],[1.0,\"#fde725\"]],\"type\":\"heatmap\"}],\"histogram2dcontour\":[{\"colorbar\":{\"outlinewidth\":1,\"tickcolor\":\"rgb(36,36,36)\",\"ticks\":\"outside\"},\"colorscale\":[[0.0,\"#440154\"],[0.1111111111111111,\"#482878\"],[0.2222222222222222,\"#3e4989\"],[0.3333333333333333,\"#31688e\"],[0.4444444444444444,\"#26828e\"],[0.5555555555555556,\"#1f9e89\"],[0.6666666666666666,\"#35b779\"],[0.7777777777777778,\"#6ece58\"],[0.8888888888888888,\"#b5de2b\"],[1.0,\"#fde725\"]],\"type\":\"histogram2dcontour\"}],\"histogram2d\":[{\"colorbar\":{\"outlinewidth\":1,\"tickcolor\":\"rgb(36,36,36)\",\"ticks\":\"outside\"},\"colorscale\":[[0.0,\"#440154\"],[0.1111111111111111,\"#482878\"],[0.2222222222222222,\"#3e4989\"],[0.3333333333333333,\"#31688e\"],[0.4444444444444444,\"#26828e\"],[0.5555555555555556,\"#1f9e89\"],[0.6666666666666666,\"#35b779\"],[0.7777777777777778,\"#6ece58\"],[0.8888888888888888,\"#b5de2b\"],[1.0,\"#fde725\"]],\"type\":\"histogram2d\"}],\"histogram\":[{\"marker\":{\"line\":{\"color\":\"white\",\"width\":0.6}},\"type\":\"histogram\"}],\"mesh3d\":[{\"colorbar\":{\"outlinewidth\":1,\"tickcolor\":\"rgb(36,36,36)\",\"ticks\":\"outside\"},\"type\":\"mesh3d\"}],\"parcoords\":[{\"line\":{\"colorbar\":{\"outlinewidth\":1,\"tickcolor\":\"rgb(36,36,36)\",\"ticks\":\"outside\"}},\"type\":\"parcoords\"}],\"pie\":[{\"automargin\":true,\"type\":\"pie\"}],\"scatter3d\":[{\"line\":{\"colorbar\":{\"outlinewidth\":1,\"tickcolor\":\"rgb(36,36,36)\",\"ticks\":\"outside\"}},\"marker\":{\"colorbar\":{\"outlinewidth\":1,\"tickcolor\":\"rgb(36,36,36)\",\"ticks\":\"outside\"}},\"type\":\"scatter3d\"}],\"scattercarpet\":[{\"marker\":{\"colorbar\":{\"outlinewidth\":1,\"tickcolor\":\"rgb(36,36,36)\",\"ticks\":\"outside\"}},\"type\":\"scattercarpet\"}],\"scattergeo\":[{\"marker\":{\"colorbar\":{\"outlinewidth\":1,\"tickcolor\":\"rgb(36,36,36)\",\"ticks\":\"outside\"}},\"type\":\"scattergeo\"}],\"scattergl\":[{\"marker\":{\"colorbar\":{\"outlinewidth\":1,\"tickcolor\":\"rgb(36,36,36)\",\"ticks\":\"outside\"}},\"type\":\"scattergl\"}],\"scattermapbox\":[{\"marker\":{\"colorbar\":{\"outlinewidth\":1,\"tickcolor\":\"rgb(36,36,36)\",\"ticks\":\"outside\"}},\"type\":\"scattermapbox\"}],\"scatterpolargl\":[{\"marker\":{\"colorbar\":{\"outlinewidth\":1,\"tickcolor\":\"rgb(36,36,36)\",\"ticks\":\"outside\"}},\"type\":\"scatterpolargl\"}],\"scatterpolar\":[{\"marker\":{\"colorbar\":{\"outlinewidth\":1,\"tickcolor\":\"rgb(36,36,36)\",\"ticks\":\"outside\"}},\"type\":\"scatterpolar\"}],\"scatter\":[{\"marker\":{\"colorbar\":{\"outlinewidth\":1,\"tickcolor\":\"rgb(36,36,36)\",\"ticks\":\"outside\"}},\"type\":\"scatter\"}],\"scatterternary\":[{\"marker\":{\"colorbar\":{\"outlinewidth\":1,\"tickcolor\":\"rgb(36,36,36)\",\"ticks\":\"outside\"}},\"type\":\"scatterternary\"}],\"surface\":[{\"colorbar\":{\"outlinewidth\":1,\"tickcolor\":\"rgb(36,36,36)\",\"ticks\":\"outside\"},\"colorscale\":[[0.0,\"#440154\"],[0.1111111111111111,\"#482878\"],[0.2222222222222222,\"#3e4989\"],[0.3333333333333333,\"#31688e\"],[0.4444444444444444,\"#26828e\"],[0.5555555555555556,\"#1f9e89\"],[0.6666666666666666,\"#35b779\"],[0.7777777777777778,\"#6ece58\"],[0.8888888888888888,\"#b5de2b\"],[1.0,\"#fde725\"]],\"type\":\"surface\"}],\"table\":[{\"cells\":{\"fill\":{\"color\":\"rgb(237,237,237)\"},\"line\":{\"color\":\"white\"}},\"header\":{\"fill\":{\"color\":\"rgb(217,217,217)\"},\"line\":{\"color\":\"white\"}},\"type\":\"table\"}]},\"layout\":{\"annotationdefaults\":{\"arrowhead\":0,\"arrowwidth\":1},\"autotypenumbers\":\"strict\",\"coloraxis\":{\"colorbar\":{\"outlinewidth\":1,\"tickcolor\":\"rgb(36,36,36)\",\"ticks\":\"outside\"}},\"colorscale\":{\"diverging\":[[0.0,\"rgb(103,0,31)\"],[0.1,\"rgb(178,24,43)\"],[0.2,\"rgb(214,96,77)\"],[0.3,\"rgb(244,165,130)\"],[0.4,\"rgb(253,219,199)\"],[0.5,\"rgb(247,247,247)\"],[0.6,\"rgb(209,229,240)\"],[0.7,\"rgb(146,197,222)\"],[0.8,\"rgb(67,147,195)\"],[0.9,\"rgb(33,102,172)\"],[1.0,\"rgb(5,48,97)\"]],\"sequential\":[[0.0,\"#440154\"],[0.1111111111111111,\"#482878\"],[0.2222222222222222,\"#3e4989\"],[0.3333333333333333,\"#31688e\"],[0.4444444444444444,\"#26828e\"],[0.5555555555555556,\"#1f9e89\"],[0.6666666666666666,\"#35b779\"],[0.7777777777777778,\"#6ece58\"],[0.8888888888888888,\"#b5de2b\"],[1.0,\"#fde725\"]],\"sequentialminus\":[[0.0,\"#440154\"],[0.1111111111111111,\"#482878\"],[0.2222222222222222,\"#3e4989\"],[0.3333333333333333,\"#31688e\"],[0.4444444444444444,\"#26828e\"],[0.5555555555555556,\"#1f9e89\"],[0.6666666666666666,\"#35b779\"],[0.7777777777777778,\"#6ece58\"],[0.8888888888888888,\"#b5de2b\"],[1.0,\"#fde725\"]]},\"colorway\":[\"#1F77B4\",\"#FF7F0E\",\"#2CA02C\",\"#D62728\",\"#9467BD\",\"#8C564B\",\"#E377C2\",\"#7F7F7F\",\"#BCBD22\",\"#17BECF\"],\"font\":{\"color\":\"rgb(36,36,36)\"},\"geo\":{\"bgcolor\":\"white\",\"lakecolor\":\"white\",\"landcolor\":\"white\",\"showlakes\":true,\"showland\":true,\"subunitcolor\":\"white\"},\"hoverlabel\":{\"align\":\"left\"},\"hovermode\":\"closest\",\"mapbox\":{\"style\":\"light\"},\"paper_bgcolor\":\"white\",\"plot_bgcolor\":\"white\",\"polar\":{\"angularaxis\":{\"gridcolor\":\"rgb(232,232,232)\",\"linecolor\":\"rgb(36,36,36)\",\"showgrid\":false,\"showline\":true,\"ticks\":\"outside\"},\"bgcolor\":\"white\",\"radialaxis\":{\"gridcolor\":\"rgb(232,232,232)\",\"linecolor\":\"rgb(36,36,36)\",\"showgrid\":false,\"showline\":true,\"ticks\":\"outside\"}},\"scene\":{\"xaxis\":{\"backgroundcolor\":\"white\",\"gridcolor\":\"rgb(232,232,232)\",\"gridwidth\":2,\"linecolor\":\"rgb(36,36,36)\",\"showbackground\":true,\"showgrid\":false,\"showline\":true,\"ticks\":\"outside\",\"zeroline\":false,\"zerolinecolor\":\"rgb(36,36,36)\"},\"yaxis\":{\"backgroundcolor\":\"white\",\"gridcolor\":\"rgb(232,232,232)\",\"gridwidth\":2,\"linecolor\":\"rgb(36,36,36)\",\"showbackground\":true,\"showgrid\":false,\"showline\":true,\"ticks\":\"outside\",\"zeroline\":false,\"zerolinecolor\":\"rgb(36,36,36)\"},\"zaxis\":{\"backgroundcolor\":\"white\",\"gridcolor\":\"rgb(232,232,232)\",\"gridwidth\":2,\"linecolor\":\"rgb(36,36,36)\",\"showbackground\":true,\"showgrid\":false,\"showline\":true,\"ticks\":\"outside\",\"zeroline\":false,\"zerolinecolor\":\"rgb(36,36,36)\"}},\"shapedefaults\":{\"fillcolor\":\"black\",\"line\":{\"width\":0},\"opacity\":0.3},\"ternary\":{\"aaxis\":{\"gridcolor\":\"rgb(232,232,232)\",\"linecolor\":\"rgb(36,36,36)\",\"showgrid\":false,\"showline\":true,\"ticks\":\"outside\"},\"baxis\":{\"gridcolor\":\"rgb(232,232,232)\",\"linecolor\":\"rgb(36,36,36)\",\"showgrid\":false,\"showline\":true,\"ticks\":\"outside\"},\"bgcolor\":\"white\",\"caxis\":{\"gridcolor\":\"rgb(232,232,232)\",\"linecolor\":\"rgb(36,36,36)\",\"showgrid\":false,\"showline\":true,\"ticks\":\"outside\"}},\"title\":{\"x\":0.05},\"xaxis\":{\"automargin\":true,\"gridcolor\":\"rgb(232,232,232)\",\"linecolor\":\"rgb(36,36,36)\",\"showgrid\":false,\"showline\":true,\"ticks\":\"outside\",\"title\":{\"standoff\":15},\"zeroline\":false,\"zerolinecolor\":\"rgb(36,36,36)\"},\"yaxis\":{\"automargin\":true,\"gridcolor\":\"rgb(232,232,232)\",\"linecolor\":\"rgb(36,36,36)\",\"showgrid\":false,\"showline\":true,\"ticks\":\"outside\",\"title\":{\"standoff\":15},\"zeroline\":false,\"zerolinecolor\":\"rgb(36,36,36)\"}}},\"xaxis\":{\"anchor\":\"y\",\"domain\":[0.0,1.0],\"title\":{\"text\":\"\"},\"visible\":false,\"range\":[-8.680010104179383,15.437650203704834]},\"yaxis\":{\"anchor\":\"x\",\"domain\":[0.0,1.0],\"title\":{\"text\":\"\"},\"visible\":false,\"range\":[-16.120786237716676,17.107748126983644]},\"legend\":{\"tracegroupgap\":0,\"itemsizing\":\"constant\"},\"margin\":{\"t\":60},\"title\":{\"font\":{\"size\":22,\"color\":\"Black\"},\"text\":\"<b>Intertopic Distance Map\",\"y\":0.95,\"x\":0.5,\"xanchor\":\"center\",\"yanchor\":\"top\"},\"hoverlabel\":{\"font\":{\"size\":16,\"family\":\"Rockwell\"},\"bgcolor\":\"white\"},\"width\":650,\"height\":650,\"sliders\":[{\"active\":0,\"pad\":{\"t\":50},\"steps\":[{\"args\":[{\"marker.color\":[[\"red\",\"#B0BEC5\",\"#B0BEC5\",\"#B0BEC5\",\"#B0BEC5\",\"#B0BEC5\",\"#B0BEC5\",\"#B0BEC5\",\"#B0BEC5\",\"#B0BEC5\",\"#B0BEC5\",\"#B0BEC5\",\"#B0BEC5\",\"#B0BEC5\",\"#B0BEC5\",\"#B0BEC5\",\"#B0BEC5\",\"#B0BEC5\",\"#B0BEC5\",\"#B0BEC5\",\"#B0BEC5\",\"#B0BEC5\",\"#B0BEC5\",\"#B0BEC5\",\"#B0BEC5\",\"#B0BEC5\",\"#B0BEC5\",\"#B0BEC5\",\"#B0BEC5\",\"#B0BEC5\",\"#B0BEC5\",\"#B0BEC5\",\"#B0BEC5\",\"#B0BEC5\",\"#B0BEC5\",\"#B0BEC5\",\"#B0BEC5\",\"#B0BEC5\",\"#B0BEC5\",\"#B0BEC5\",\"#B0BEC5\",\"#B0BEC5\",\"#B0BEC5\",\"#B0BEC5\",\"#B0BEC5\",\"#B0BEC5\",\"#B0BEC5\",\"#B0BEC5\",\"#B0BEC5\",\"#B0BEC5\",\"#B0BEC5\",\"#B0BEC5\",\"#B0BEC5\",\"#B0BEC5\",\"#B0BEC5\",\"#B0BEC5\",\"#B0BEC5\",\"#B0BEC5\",\"#B0BEC5\",\"#B0BEC5\",\"#B0BEC5\",\"#B0BEC5\",\"#B0BEC5\",\"#B0BEC5\",\"#B0BEC5\",\"#B0BEC5\",\"#B0BEC5\",\"#B0BEC5\",\"#B0BEC5\",\"#B0BEC5\",\"#B0BEC5\",\"#B0BEC5\",\"#B0BEC5\",\"#B0BEC5\",\"#B0BEC5\",\"#B0BEC5\",\"#B0BEC5\",\"#B0BEC5\",\"#B0BEC5\",\"#B0BEC5\",\"#B0BEC5\",\"#B0BEC5\"]]}],\"label\":\"Topic 0\",\"method\":\"update\"},{\"args\":[{\"marker.color\":[[\"#B0BEC5\",\"red\",\"#B0BEC5\",\"#B0BEC5\",\"#B0BEC5\",\"#B0BEC5\",\"#B0BEC5\",\"#B0BEC5\",\"#B0BEC5\",\"#B0BEC5\",\"#B0BEC5\",\"#B0BEC5\",\"#B0BEC5\",\"#B0BEC5\",\"#B0BEC5\",\"#B0BEC5\",\"#B0BEC5\",\"#B0BEC5\",\"#B0BEC5\",\"#B0BEC5\",\"#B0BEC5\",\"#B0BEC5\",\"#B0BEC5\",\"#B0BEC5\",\"#B0BEC5\",\"#B0BEC5\",\"#B0BEC5\",\"#B0BEC5\",\"#B0BEC5\",\"#B0BEC5\",\"#B0BEC5\",\"#B0BEC5\",\"#B0BEC5\",\"#B0BEC5\",\"#B0BEC5\",\"#B0BEC5\",\"#B0BEC5\",\"#B0BEC5\",\"#B0BEC5\",\"#B0BEC5\",\"#B0BEC5\",\"#B0BEC5\",\"#B0BEC5\",\"#B0BEC5\",\"#B0BEC5\",\"#B0BEC5\",\"#B0BEC5\",\"#B0BEC5\",\"#B0BEC5\",\"#B0BEC5\",\"#B0BEC5\",\"#B0BEC5\",\"#B0BEC5\",\"#B0BEC5\",\"#B0BEC5\",\"#B0BEC5\",\"#B0BEC5\",\"#B0BEC5\",\"#B0BEC5\",\"#B0BEC5\",\"#B0BEC5\",\"#B0BEC5\",\"#B0BEC5\",\"#B0BEC5\",\"#B0BEC5\",\"#B0BEC5\",\"#B0BEC5\",\"#B0BEC5\",\"#B0BEC5\",\"#B0BEC5\",\"#B0BEC5\",\"#B0BEC5\",\"#B0BEC5\",\"#B0BEC5\",\"#B0BEC5\",\"#B0BEC5\",\"#B0BEC5\",\"#B0BEC5\",\"#B0BEC5\",\"#B0BEC5\",\"#B0BEC5\",\"#B0BEC5\"]]}],\"label\":\"Topic 1\",\"method\":\"update\"},{\"args\":[{\"marker.color\":[[\"#B0BEC5\",\"#B0BEC5\",\"red\",\"#B0BEC5\",\"#B0BEC5\",\"#B0BEC5\",\"#B0BEC5\",\"#B0BEC5\",\"#B0BEC5\",\"#B0BEC5\",\"#B0BEC5\",\"#B0BEC5\",\"#B0BEC5\",\"#B0BEC5\",\"#B0BEC5\",\"#B0BEC5\",\"#B0BEC5\",\"#B0BEC5\",\"#B0BEC5\",\"#B0BEC5\",\"#B0BEC5\",\"#B0BEC5\",\"#B0BEC5\",\"#B0BEC5\",\"#B0BEC5\",\"#B0BEC5\",\"#B0BEC5\",\"#B0BEC5\",\"#B0BEC5\",\"#B0BEC5\",\"#B0BEC5\",\"#B0BEC5\",\"#B0BEC5\",\"#B0BEC5\",\"#B0BEC5\",\"#B0BEC5\",\"#B0BEC5\",\"#B0BEC5\",\"#B0BEC5\",\"#B0BEC5\",\"#B0BEC5\",\"#B0BEC5\",\"#B0BEC5\",\"#B0BEC5\",\"#B0BEC5\",\"#B0BEC5\",\"#B0BEC5\",\"#B0BEC5\",\"#B0BEC5\",\"#B0BEC5\",\"#B0BEC5\",\"#B0BEC5\",\"#B0BEC5\",\"#B0BEC5\",\"#B0BEC5\",\"#B0BEC5\",\"#B0BEC5\",\"#B0BEC5\",\"#B0BEC5\",\"#B0BEC5\",\"#B0BEC5\",\"#B0BEC5\",\"#B0BEC5\",\"#B0BEC5\",\"#B0BEC5\",\"#B0BEC5\",\"#B0BEC5\",\"#B0BEC5\",\"#B0BEC5\",\"#B0BEC5\",\"#B0BEC5\",\"#B0BEC5\",\"#B0BEC5\",\"#B0BEC5\",\"#B0BEC5\",\"#B0BEC5\",\"#B0BEC5\",\"#B0BEC5\",\"#B0BEC5\",\"#B0BEC5\",\"#B0BEC5\",\"#B0BEC5\"]]}],\"label\":\"Topic 2\",\"method\":\"update\"},{\"args\":[{\"marker.color\":[[\"#B0BEC5\",\"#B0BEC5\",\"#B0BEC5\",\"red\",\"#B0BEC5\",\"#B0BEC5\",\"#B0BEC5\",\"#B0BEC5\",\"#B0BEC5\",\"#B0BEC5\",\"#B0BEC5\",\"#B0BEC5\",\"#B0BEC5\",\"#B0BEC5\",\"#B0BEC5\",\"#B0BEC5\",\"#B0BEC5\",\"#B0BEC5\",\"#B0BEC5\",\"#B0BEC5\",\"#B0BEC5\",\"#B0BEC5\",\"#B0BEC5\",\"#B0BEC5\",\"#B0BEC5\",\"#B0BEC5\",\"#B0BEC5\",\"#B0BEC5\",\"#B0BEC5\",\"#B0BEC5\",\"#B0BEC5\",\"#B0BEC5\",\"#B0BEC5\",\"#B0BEC5\",\"#B0BEC5\",\"#B0BEC5\",\"#B0BEC5\",\"#B0BEC5\",\"#B0BEC5\",\"#B0BEC5\",\"#B0BEC5\",\"#B0BEC5\",\"#B0BEC5\",\"#B0BEC5\",\"#B0BEC5\",\"#B0BEC5\",\"#B0BEC5\",\"#B0BEC5\",\"#B0BEC5\",\"#B0BEC5\",\"#B0BEC5\",\"#B0BEC5\",\"#B0BEC5\",\"#B0BEC5\",\"#B0BEC5\",\"#B0BEC5\",\"#B0BEC5\",\"#B0BEC5\",\"#B0BEC5\",\"#B0BEC5\",\"#B0BEC5\",\"#B0BEC5\",\"#B0BEC5\",\"#B0BEC5\",\"#B0BEC5\",\"#B0BEC5\",\"#B0BEC5\",\"#B0BEC5\",\"#B0BEC5\",\"#B0BEC5\",\"#B0BEC5\",\"#B0BEC5\",\"#B0BEC5\",\"#B0BEC5\",\"#B0BEC5\",\"#B0BEC5\",\"#B0BEC5\",\"#B0BEC5\",\"#B0BEC5\",\"#B0BEC5\",\"#B0BEC5\",\"#B0BEC5\"]]}],\"label\":\"Topic 3\",\"method\":\"update\"},{\"args\":[{\"marker.color\":[[\"#B0BEC5\",\"#B0BEC5\",\"#B0BEC5\",\"#B0BEC5\",\"red\",\"#B0BEC5\",\"#B0BEC5\",\"#B0BEC5\",\"#B0BEC5\",\"#B0BEC5\",\"#B0BEC5\",\"#B0BEC5\",\"#B0BEC5\",\"#B0BEC5\",\"#B0BEC5\",\"#B0BEC5\",\"#B0BEC5\",\"#B0BEC5\",\"#B0BEC5\",\"#B0BEC5\",\"#B0BEC5\",\"#B0BEC5\",\"#B0BEC5\",\"#B0BEC5\",\"#B0BEC5\",\"#B0BEC5\",\"#B0BEC5\",\"#B0BEC5\",\"#B0BEC5\",\"#B0BEC5\",\"#B0BEC5\",\"#B0BEC5\",\"#B0BEC5\",\"#B0BEC5\",\"#B0BEC5\",\"#B0BEC5\",\"#B0BEC5\",\"#B0BEC5\",\"#B0BEC5\",\"#B0BEC5\",\"#B0BEC5\",\"#B0BEC5\",\"#B0BEC5\",\"#B0BEC5\",\"#B0BEC5\",\"#B0BEC5\",\"#B0BEC5\",\"#B0BEC5\",\"#B0BEC5\",\"#B0BEC5\",\"#B0BEC5\",\"#B0BEC5\",\"#B0BEC5\",\"#B0BEC5\",\"#B0BEC5\",\"#B0BEC5\",\"#B0BEC5\",\"#B0BEC5\",\"#B0BEC5\",\"#B0BEC5\",\"#B0BEC5\",\"#B0BEC5\",\"#B0BEC5\",\"#B0BEC5\",\"#B0BEC5\",\"#B0BEC5\",\"#B0BEC5\",\"#B0BEC5\",\"#B0BEC5\",\"#B0BEC5\",\"#B0BEC5\",\"#B0BEC5\",\"#B0BEC5\",\"#B0BEC5\",\"#B0BEC5\",\"#B0BEC5\",\"#B0BEC5\",\"#B0BEC5\",\"#B0BEC5\",\"#B0BEC5\",\"#B0BEC5\",\"#B0BEC5\"]]}],\"label\":\"Topic 4\",\"method\":\"update\"},{\"args\":[{\"marker.color\":[[\"#B0BEC5\",\"#B0BEC5\",\"#B0BEC5\",\"#B0BEC5\",\"#B0BEC5\",\"red\",\"#B0BEC5\",\"#B0BEC5\",\"#B0BEC5\",\"#B0BEC5\",\"#B0BEC5\",\"#B0BEC5\",\"#B0BEC5\",\"#B0BEC5\",\"#B0BEC5\",\"#B0BEC5\",\"#B0BEC5\",\"#B0BEC5\",\"#B0BEC5\",\"#B0BEC5\",\"#B0BEC5\",\"#B0BEC5\",\"#B0BEC5\",\"#B0BEC5\",\"#B0BEC5\",\"#B0BEC5\",\"#B0BEC5\",\"#B0BEC5\",\"#B0BEC5\",\"#B0BEC5\",\"#B0BEC5\",\"#B0BEC5\",\"#B0BEC5\",\"#B0BEC5\",\"#B0BEC5\",\"#B0BEC5\",\"#B0BEC5\",\"#B0BEC5\",\"#B0BEC5\",\"#B0BEC5\",\"#B0BEC5\",\"#B0BEC5\",\"#B0BEC5\",\"#B0BEC5\",\"#B0BEC5\",\"#B0BEC5\",\"#B0BEC5\",\"#B0BEC5\",\"#B0BEC5\",\"#B0BEC5\",\"#B0BEC5\",\"#B0BEC5\",\"#B0BEC5\",\"#B0BEC5\",\"#B0BEC5\",\"#B0BEC5\",\"#B0BEC5\",\"#B0BEC5\",\"#B0BEC5\",\"#B0BEC5\",\"#B0BEC5\",\"#B0BEC5\",\"#B0BEC5\",\"#B0BEC5\",\"#B0BEC5\",\"#B0BEC5\",\"#B0BEC5\",\"#B0BEC5\",\"#B0BEC5\",\"#B0BEC5\",\"#B0BEC5\",\"#B0BEC5\",\"#B0BEC5\",\"#B0BEC5\",\"#B0BEC5\",\"#B0BEC5\",\"#B0BEC5\",\"#B0BEC5\",\"#B0BEC5\",\"#B0BEC5\",\"#B0BEC5\",\"#B0BEC5\"]]}],\"label\":\"Topic 5\",\"method\":\"update\"},{\"args\":[{\"marker.color\":[[\"#B0BEC5\",\"#B0BEC5\",\"#B0BEC5\",\"#B0BEC5\",\"#B0BEC5\",\"#B0BEC5\",\"red\",\"#B0BEC5\",\"#B0BEC5\",\"#B0BEC5\",\"#B0BEC5\",\"#B0BEC5\",\"#B0BEC5\",\"#B0BEC5\",\"#B0BEC5\",\"#B0BEC5\",\"#B0BEC5\",\"#B0BEC5\",\"#B0BEC5\",\"#B0BEC5\",\"#B0BEC5\",\"#B0BEC5\",\"#B0BEC5\",\"#B0BEC5\",\"#B0BEC5\",\"#B0BEC5\",\"#B0BEC5\",\"#B0BEC5\",\"#B0BEC5\",\"#B0BEC5\",\"#B0BEC5\",\"#B0BEC5\",\"#B0BEC5\",\"#B0BEC5\",\"#B0BEC5\",\"#B0BEC5\",\"#B0BEC5\",\"#B0BEC5\",\"#B0BEC5\",\"#B0BEC5\",\"#B0BEC5\",\"#B0BEC5\",\"#B0BEC5\",\"#B0BEC5\",\"#B0BEC5\",\"#B0BEC5\",\"#B0BEC5\",\"#B0BEC5\",\"#B0BEC5\",\"#B0BEC5\",\"#B0BEC5\",\"#B0BEC5\",\"#B0BEC5\",\"#B0BEC5\",\"#B0BEC5\",\"#B0BEC5\",\"#B0BEC5\",\"#B0BEC5\",\"#B0BEC5\",\"#B0BEC5\",\"#B0BEC5\",\"#B0BEC5\",\"#B0BEC5\",\"#B0BEC5\",\"#B0BEC5\",\"#B0BEC5\",\"#B0BEC5\",\"#B0BEC5\",\"#B0BEC5\",\"#B0BEC5\",\"#B0BEC5\",\"#B0BEC5\",\"#B0BEC5\",\"#B0BEC5\",\"#B0BEC5\",\"#B0BEC5\",\"#B0BEC5\",\"#B0BEC5\",\"#B0BEC5\",\"#B0BEC5\",\"#B0BEC5\",\"#B0BEC5\"]]}],\"label\":\"Topic 6\",\"method\":\"update\"},{\"args\":[{\"marker.color\":[[\"#B0BEC5\",\"#B0BEC5\",\"#B0BEC5\",\"#B0BEC5\",\"#B0BEC5\",\"#B0BEC5\",\"#B0BEC5\",\"red\",\"#B0BEC5\",\"#B0BEC5\",\"#B0BEC5\",\"#B0BEC5\",\"#B0BEC5\",\"#B0BEC5\",\"#B0BEC5\",\"#B0BEC5\",\"#B0BEC5\",\"#B0BEC5\",\"#B0BEC5\",\"#B0BEC5\",\"#B0BEC5\",\"#B0BEC5\",\"#B0BEC5\",\"#B0BEC5\",\"#B0BEC5\",\"#B0BEC5\",\"#B0BEC5\",\"#B0BEC5\",\"#B0BEC5\",\"#B0BEC5\",\"#B0BEC5\",\"#B0BEC5\",\"#B0BEC5\",\"#B0BEC5\",\"#B0BEC5\",\"#B0BEC5\",\"#B0BEC5\",\"#B0BEC5\",\"#B0BEC5\",\"#B0BEC5\",\"#B0BEC5\",\"#B0BEC5\",\"#B0BEC5\",\"#B0BEC5\",\"#B0BEC5\",\"#B0BEC5\",\"#B0BEC5\",\"#B0BEC5\",\"#B0BEC5\",\"#B0BEC5\",\"#B0BEC5\",\"#B0BEC5\",\"#B0BEC5\",\"#B0BEC5\",\"#B0BEC5\",\"#B0BEC5\",\"#B0BEC5\",\"#B0BEC5\",\"#B0BEC5\",\"#B0BEC5\",\"#B0BEC5\",\"#B0BEC5\",\"#B0BEC5\",\"#B0BEC5\",\"#B0BEC5\",\"#B0BEC5\",\"#B0BEC5\",\"#B0BEC5\",\"#B0BEC5\",\"#B0BEC5\",\"#B0BEC5\",\"#B0BEC5\",\"#B0BEC5\",\"#B0BEC5\",\"#B0BEC5\",\"#B0BEC5\",\"#B0BEC5\",\"#B0BEC5\",\"#B0BEC5\",\"#B0BEC5\",\"#B0BEC5\",\"#B0BEC5\"]]}],\"label\":\"Topic 7\",\"method\":\"update\"},{\"args\":[{\"marker.color\":[[\"#B0BEC5\",\"#B0BEC5\",\"#B0BEC5\",\"#B0BEC5\",\"#B0BEC5\",\"#B0BEC5\",\"#B0BEC5\",\"#B0BEC5\",\"red\",\"#B0BEC5\",\"#B0BEC5\",\"#B0BEC5\",\"#B0BEC5\",\"#B0BEC5\",\"#B0BEC5\",\"#B0BEC5\",\"#B0BEC5\",\"#B0BEC5\",\"#B0BEC5\",\"#B0BEC5\",\"#B0BEC5\",\"#B0BEC5\",\"#B0BEC5\",\"#B0BEC5\",\"#B0BEC5\",\"#B0BEC5\",\"#B0BEC5\",\"#B0BEC5\",\"#B0BEC5\",\"#B0BEC5\",\"#B0BEC5\",\"#B0BEC5\",\"#B0BEC5\",\"#B0BEC5\",\"#B0BEC5\",\"#B0BEC5\",\"#B0BEC5\",\"#B0BEC5\",\"#B0BEC5\",\"#B0BEC5\",\"#B0BEC5\",\"#B0BEC5\",\"#B0BEC5\",\"#B0BEC5\",\"#B0BEC5\",\"#B0BEC5\",\"#B0BEC5\",\"#B0BEC5\",\"#B0BEC5\",\"#B0BEC5\",\"#B0BEC5\",\"#B0BEC5\",\"#B0BEC5\",\"#B0BEC5\",\"#B0BEC5\",\"#B0BEC5\",\"#B0BEC5\",\"#B0BEC5\",\"#B0BEC5\",\"#B0BEC5\",\"#B0BEC5\",\"#B0BEC5\",\"#B0BEC5\",\"#B0BEC5\",\"#B0BEC5\",\"#B0BEC5\",\"#B0BEC5\",\"#B0BEC5\",\"#B0BEC5\",\"#B0BEC5\",\"#B0BEC5\",\"#B0BEC5\",\"#B0BEC5\",\"#B0BEC5\",\"#B0BEC5\",\"#B0BEC5\",\"#B0BEC5\",\"#B0BEC5\",\"#B0BEC5\",\"#B0BEC5\",\"#B0BEC5\",\"#B0BEC5\"]]}],\"label\":\"Topic 8\",\"method\":\"update\"},{\"args\":[{\"marker.color\":[[\"#B0BEC5\",\"#B0BEC5\",\"#B0BEC5\",\"#B0BEC5\",\"#B0BEC5\",\"#B0BEC5\",\"#B0BEC5\",\"#B0BEC5\",\"#B0BEC5\",\"red\",\"#B0BEC5\",\"#B0BEC5\",\"#B0BEC5\",\"#B0BEC5\",\"#B0BEC5\",\"#B0BEC5\",\"#B0BEC5\",\"#B0BEC5\",\"#B0BEC5\",\"#B0BEC5\",\"#B0BEC5\",\"#B0BEC5\",\"#B0BEC5\",\"#B0BEC5\",\"#B0BEC5\",\"#B0BEC5\",\"#B0BEC5\",\"#B0BEC5\",\"#B0BEC5\",\"#B0BEC5\",\"#B0BEC5\",\"#B0BEC5\",\"#B0BEC5\",\"#B0BEC5\",\"#B0BEC5\",\"#B0BEC5\",\"#B0BEC5\",\"#B0BEC5\",\"#B0BEC5\",\"#B0BEC5\",\"#B0BEC5\",\"#B0BEC5\",\"#B0BEC5\",\"#B0BEC5\",\"#B0BEC5\",\"#B0BEC5\",\"#B0BEC5\",\"#B0BEC5\",\"#B0BEC5\",\"#B0BEC5\",\"#B0BEC5\",\"#B0BEC5\",\"#B0BEC5\",\"#B0BEC5\",\"#B0BEC5\",\"#B0BEC5\",\"#B0BEC5\",\"#B0BEC5\",\"#B0BEC5\",\"#B0BEC5\",\"#B0BEC5\",\"#B0BEC5\",\"#B0BEC5\",\"#B0BEC5\",\"#B0BEC5\",\"#B0BEC5\",\"#B0BEC5\",\"#B0BEC5\",\"#B0BEC5\",\"#B0BEC5\",\"#B0BEC5\",\"#B0BEC5\",\"#B0BEC5\",\"#B0BEC5\",\"#B0BEC5\",\"#B0BEC5\",\"#B0BEC5\",\"#B0BEC5\",\"#B0BEC5\",\"#B0BEC5\",\"#B0BEC5\",\"#B0BEC5\"]]}],\"label\":\"Topic 9\",\"method\":\"update\"},{\"args\":[{\"marker.color\":[[\"#B0BEC5\",\"#B0BEC5\",\"#B0BEC5\",\"#B0BEC5\",\"#B0BEC5\",\"#B0BEC5\",\"#B0BEC5\",\"#B0BEC5\",\"#B0BEC5\",\"#B0BEC5\",\"red\",\"#B0BEC5\",\"#B0BEC5\",\"#B0BEC5\",\"#B0BEC5\",\"#B0BEC5\",\"#B0BEC5\",\"#B0BEC5\",\"#B0BEC5\",\"#B0BEC5\",\"#B0BEC5\",\"#B0BEC5\",\"#B0BEC5\",\"#B0BEC5\",\"#B0BEC5\",\"#B0BEC5\",\"#B0BEC5\",\"#B0BEC5\",\"#B0BEC5\",\"#B0BEC5\",\"#B0BEC5\",\"#B0BEC5\",\"#B0BEC5\",\"#B0BEC5\",\"#B0BEC5\",\"#B0BEC5\",\"#B0BEC5\",\"#B0BEC5\",\"#B0BEC5\",\"#B0BEC5\",\"#B0BEC5\",\"#B0BEC5\",\"#B0BEC5\",\"#B0BEC5\",\"#B0BEC5\",\"#B0BEC5\",\"#B0BEC5\",\"#B0BEC5\",\"#B0BEC5\",\"#B0BEC5\",\"#B0BEC5\",\"#B0BEC5\",\"#B0BEC5\",\"#B0BEC5\",\"#B0BEC5\",\"#B0BEC5\",\"#B0BEC5\",\"#B0BEC5\",\"#B0BEC5\",\"#B0BEC5\",\"#B0BEC5\",\"#B0BEC5\",\"#B0BEC5\",\"#B0BEC5\",\"#B0BEC5\",\"#B0BEC5\",\"#B0BEC5\",\"#B0BEC5\",\"#B0BEC5\",\"#B0BEC5\",\"#B0BEC5\",\"#B0BEC5\",\"#B0BEC5\",\"#B0BEC5\",\"#B0BEC5\",\"#B0BEC5\",\"#B0BEC5\",\"#B0BEC5\",\"#B0BEC5\",\"#B0BEC5\",\"#B0BEC5\",\"#B0BEC5\"]]}],\"label\":\"Topic 10\",\"method\":\"update\"},{\"args\":[{\"marker.color\":[[\"#B0BEC5\",\"#B0BEC5\",\"#B0BEC5\",\"#B0BEC5\",\"#B0BEC5\",\"#B0BEC5\",\"#B0BEC5\",\"#B0BEC5\",\"#B0BEC5\",\"#B0BEC5\",\"#B0BEC5\",\"red\",\"#B0BEC5\",\"#B0BEC5\",\"#B0BEC5\",\"#B0BEC5\",\"#B0BEC5\",\"#B0BEC5\",\"#B0BEC5\",\"#B0BEC5\",\"#B0BEC5\",\"#B0BEC5\",\"#B0BEC5\",\"#B0BEC5\",\"#B0BEC5\",\"#B0BEC5\",\"#B0BEC5\",\"#B0BEC5\",\"#B0BEC5\",\"#B0BEC5\",\"#B0BEC5\",\"#B0BEC5\",\"#B0BEC5\",\"#B0BEC5\",\"#B0BEC5\",\"#B0BEC5\",\"#B0BEC5\",\"#B0BEC5\",\"#B0BEC5\",\"#B0BEC5\",\"#B0BEC5\",\"#B0BEC5\",\"#B0BEC5\",\"#B0BEC5\",\"#B0BEC5\",\"#B0BEC5\",\"#B0BEC5\",\"#B0BEC5\",\"#B0BEC5\",\"#B0BEC5\",\"#B0BEC5\",\"#B0BEC5\",\"#B0BEC5\",\"#B0BEC5\",\"#B0BEC5\",\"#B0BEC5\",\"#B0BEC5\",\"#B0BEC5\",\"#B0BEC5\",\"#B0BEC5\",\"#B0BEC5\",\"#B0BEC5\",\"#B0BEC5\",\"#B0BEC5\",\"#B0BEC5\",\"#B0BEC5\",\"#B0BEC5\",\"#B0BEC5\",\"#B0BEC5\",\"#B0BEC5\",\"#B0BEC5\",\"#B0BEC5\",\"#B0BEC5\",\"#B0BEC5\",\"#B0BEC5\",\"#B0BEC5\",\"#B0BEC5\",\"#B0BEC5\",\"#B0BEC5\",\"#B0BEC5\",\"#B0BEC5\",\"#B0BEC5\"]]}],\"label\":\"Topic 11\",\"method\":\"update\"},{\"args\":[{\"marker.color\":[[\"#B0BEC5\",\"#B0BEC5\",\"#B0BEC5\",\"#B0BEC5\",\"#B0BEC5\",\"#B0BEC5\",\"#B0BEC5\",\"#B0BEC5\",\"#B0BEC5\",\"#B0BEC5\",\"#B0BEC5\",\"#B0BEC5\",\"red\",\"#B0BEC5\",\"#B0BEC5\",\"#B0BEC5\",\"#B0BEC5\",\"#B0BEC5\",\"#B0BEC5\",\"#B0BEC5\",\"#B0BEC5\",\"#B0BEC5\",\"#B0BEC5\",\"#B0BEC5\",\"#B0BEC5\",\"#B0BEC5\",\"#B0BEC5\",\"#B0BEC5\",\"#B0BEC5\",\"#B0BEC5\",\"#B0BEC5\",\"#B0BEC5\",\"#B0BEC5\",\"#B0BEC5\",\"#B0BEC5\",\"#B0BEC5\",\"#B0BEC5\",\"#B0BEC5\",\"#B0BEC5\",\"#B0BEC5\",\"#B0BEC5\",\"#B0BEC5\",\"#B0BEC5\",\"#B0BEC5\",\"#B0BEC5\",\"#B0BEC5\",\"#B0BEC5\",\"#B0BEC5\",\"#B0BEC5\",\"#B0BEC5\",\"#B0BEC5\",\"#B0BEC5\",\"#B0BEC5\",\"#B0BEC5\",\"#B0BEC5\",\"#B0BEC5\",\"#B0BEC5\",\"#B0BEC5\",\"#B0BEC5\",\"#B0BEC5\",\"#B0BEC5\",\"#B0BEC5\",\"#B0BEC5\",\"#B0BEC5\",\"#B0BEC5\",\"#B0BEC5\",\"#B0BEC5\",\"#B0BEC5\",\"#B0BEC5\",\"#B0BEC5\",\"#B0BEC5\",\"#B0BEC5\",\"#B0BEC5\",\"#B0BEC5\",\"#B0BEC5\",\"#B0BEC5\",\"#B0BEC5\",\"#B0BEC5\",\"#B0BEC5\",\"#B0BEC5\",\"#B0BEC5\",\"#B0BEC5\"]]}],\"label\":\"Topic 12\",\"method\":\"update\"},{\"args\":[{\"marker.color\":[[\"#B0BEC5\",\"#B0BEC5\",\"#B0BEC5\",\"#B0BEC5\",\"#B0BEC5\",\"#B0BEC5\",\"#B0BEC5\",\"#B0BEC5\",\"#B0BEC5\",\"#B0BEC5\",\"#B0BEC5\",\"#B0BEC5\",\"#B0BEC5\",\"red\",\"#B0BEC5\",\"#B0BEC5\",\"#B0BEC5\",\"#B0BEC5\",\"#B0BEC5\",\"#B0BEC5\",\"#B0BEC5\",\"#B0BEC5\",\"#B0BEC5\",\"#B0BEC5\",\"#B0BEC5\",\"#B0BEC5\",\"#B0BEC5\",\"#B0BEC5\",\"#B0BEC5\",\"#B0BEC5\",\"#B0BEC5\",\"#B0BEC5\",\"#B0BEC5\",\"#B0BEC5\",\"#B0BEC5\",\"#B0BEC5\",\"#B0BEC5\",\"#B0BEC5\",\"#B0BEC5\",\"#B0BEC5\",\"#B0BEC5\",\"#B0BEC5\",\"#B0BEC5\",\"#B0BEC5\",\"#B0BEC5\",\"#B0BEC5\",\"#B0BEC5\",\"#B0BEC5\",\"#B0BEC5\",\"#B0BEC5\",\"#B0BEC5\",\"#B0BEC5\",\"#B0BEC5\",\"#B0BEC5\",\"#B0BEC5\",\"#B0BEC5\",\"#B0BEC5\",\"#B0BEC5\",\"#B0BEC5\",\"#B0BEC5\",\"#B0BEC5\",\"#B0BEC5\",\"#B0BEC5\",\"#B0BEC5\",\"#B0BEC5\",\"#B0BEC5\",\"#B0BEC5\",\"#B0BEC5\",\"#B0BEC5\",\"#B0BEC5\",\"#B0BEC5\",\"#B0BEC5\",\"#B0BEC5\",\"#B0BEC5\",\"#B0BEC5\",\"#B0BEC5\",\"#B0BEC5\",\"#B0BEC5\",\"#B0BEC5\",\"#B0BEC5\",\"#B0BEC5\",\"#B0BEC5\"]]}],\"label\":\"Topic 13\",\"method\":\"update\"},{\"args\":[{\"marker.color\":[[\"#B0BEC5\",\"#B0BEC5\",\"#B0BEC5\",\"#B0BEC5\",\"#B0BEC5\",\"#B0BEC5\",\"#B0BEC5\",\"#B0BEC5\",\"#B0BEC5\",\"#B0BEC5\",\"#B0BEC5\",\"#B0BEC5\",\"#B0BEC5\",\"#B0BEC5\",\"red\",\"#B0BEC5\",\"#B0BEC5\",\"#B0BEC5\",\"#B0BEC5\",\"#B0BEC5\",\"#B0BEC5\",\"#B0BEC5\",\"#B0BEC5\",\"#B0BEC5\",\"#B0BEC5\",\"#B0BEC5\",\"#B0BEC5\",\"#B0BEC5\",\"#B0BEC5\",\"#B0BEC5\",\"#B0BEC5\",\"#B0BEC5\",\"#B0BEC5\",\"#B0BEC5\",\"#B0BEC5\",\"#B0BEC5\",\"#B0BEC5\",\"#B0BEC5\",\"#B0BEC5\",\"#B0BEC5\",\"#B0BEC5\",\"#B0BEC5\",\"#B0BEC5\",\"#B0BEC5\",\"#B0BEC5\",\"#B0BEC5\",\"#B0BEC5\",\"#B0BEC5\",\"#B0BEC5\",\"#B0BEC5\",\"#B0BEC5\",\"#B0BEC5\",\"#B0BEC5\",\"#B0BEC5\",\"#B0BEC5\",\"#B0BEC5\",\"#B0BEC5\",\"#B0BEC5\",\"#B0BEC5\",\"#B0BEC5\",\"#B0BEC5\",\"#B0BEC5\",\"#B0BEC5\",\"#B0BEC5\",\"#B0BEC5\",\"#B0BEC5\",\"#B0BEC5\",\"#B0BEC5\",\"#B0BEC5\",\"#B0BEC5\",\"#B0BEC5\",\"#B0BEC5\",\"#B0BEC5\",\"#B0BEC5\",\"#B0BEC5\",\"#B0BEC5\",\"#B0BEC5\",\"#B0BEC5\",\"#B0BEC5\",\"#B0BEC5\",\"#B0BEC5\",\"#B0BEC5\"]]}],\"label\":\"Topic 14\",\"method\":\"update\"},{\"args\":[{\"marker.color\":[[\"#B0BEC5\",\"#B0BEC5\",\"#B0BEC5\",\"#B0BEC5\",\"#B0BEC5\",\"#B0BEC5\",\"#B0BEC5\",\"#B0BEC5\",\"#B0BEC5\",\"#B0BEC5\",\"#B0BEC5\",\"#B0BEC5\",\"#B0BEC5\",\"#B0BEC5\",\"#B0BEC5\",\"red\",\"#B0BEC5\",\"#B0BEC5\",\"#B0BEC5\",\"#B0BEC5\",\"#B0BEC5\",\"#B0BEC5\",\"#B0BEC5\",\"#B0BEC5\",\"#B0BEC5\",\"#B0BEC5\",\"#B0BEC5\",\"#B0BEC5\",\"#B0BEC5\",\"#B0BEC5\",\"#B0BEC5\",\"#B0BEC5\",\"#B0BEC5\",\"#B0BEC5\",\"#B0BEC5\",\"#B0BEC5\",\"#B0BEC5\",\"#B0BEC5\",\"#B0BEC5\",\"#B0BEC5\",\"#B0BEC5\",\"#B0BEC5\",\"#B0BEC5\",\"#B0BEC5\",\"#B0BEC5\",\"#B0BEC5\",\"#B0BEC5\",\"#B0BEC5\",\"#B0BEC5\",\"#B0BEC5\",\"#B0BEC5\",\"#B0BEC5\",\"#B0BEC5\",\"#B0BEC5\",\"#B0BEC5\",\"#B0BEC5\",\"#B0BEC5\",\"#B0BEC5\",\"#B0BEC5\",\"#B0BEC5\",\"#B0BEC5\",\"#B0BEC5\",\"#B0BEC5\",\"#B0BEC5\",\"#B0BEC5\",\"#B0BEC5\",\"#B0BEC5\",\"#B0BEC5\",\"#B0BEC5\",\"#B0BEC5\",\"#B0BEC5\",\"#B0BEC5\",\"#B0BEC5\",\"#B0BEC5\",\"#B0BEC5\",\"#B0BEC5\",\"#B0BEC5\",\"#B0BEC5\",\"#B0BEC5\",\"#B0BEC5\",\"#B0BEC5\",\"#B0BEC5\"]]}],\"label\":\"Topic 15\",\"method\":\"update\"},{\"args\":[{\"marker.color\":[[\"#B0BEC5\",\"#B0BEC5\",\"#B0BEC5\",\"#B0BEC5\",\"#B0BEC5\",\"#B0BEC5\",\"#B0BEC5\",\"#B0BEC5\",\"#B0BEC5\",\"#B0BEC5\",\"#B0BEC5\",\"#B0BEC5\",\"#B0BEC5\",\"#B0BEC5\",\"#B0BEC5\",\"#B0BEC5\",\"red\",\"#B0BEC5\",\"#B0BEC5\",\"#B0BEC5\",\"#B0BEC5\",\"#B0BEC5\",\"#B0BEC5\",\"#B0BEC5\",\"#B0BEC5\",\"#B0BEC5\",\"#B0BEC5\",\"#B0BEC5\",\"#B0BEC5\",\"#B0BEC5\",\"#B0BEC5\",\"#B0BEC5\",\"#B0BEC5\",\"#B0BEC5\",\"#B0BEC5\",\"#B0BEC5\",\"#B0BEC5\",\"#B0BEC5\",\"#B0BEC5\",\"#B0BEC5\",\"#B0BEC5\",\"#B0BEC5\",\"#B0BEC5\",\"#B0BEC5\",\"#B0BEC5\",\"#B0BEC5\",\"#B0BEC5\",\"#B0BEC5\",\"#B0BEC5\",\"#B0BEC5\",\"#B0BEC5\",\"#B0BEC5\",\"#B0BEC5\",\"#B0BEC5\",\"#B0BEC5\",\"#B0BEC5\",\"#B0BEC5\",\"#B0BEC5\",\"#B0BEC5\",\"#B0BEC5\",\"#B0BEC5\",\"#B0BEC5\",\"#B0BEC5\",\"#B0BEC5\",\"#B0BEC5\",\"#B0BEC5\",\"#B0BEC5\",\"#B0BEC5\",\"#B0BEC5\",\"#B0BEC5\",\"#B0BEC5\",\"#B0BEC5\",\"#B0BEC5\",\"#B0BEC5\",\"#B0BEC5\",\"#B0BEC5\",\"#B0BEC5\",\"#B0BEC5\",\"#B0BEC5\",\"#B0BEC5\",\"#B0BEC5\",\"#B0BEC5\"]]}],\"label\":\"Topic 16\",\"method\":\"update\"},{\"args\":[{\"marker.color\":[[\"#B0BEC5\",\"#B0BEC5\",\"#B0BEC5\",\"#B0BEC5\",\"#B0BEC5\",\"#B0BEC5\",\"#B0BEC5\",\"#B0BEC5\",\"#B0BEC5\",\"#B0BEC5\",\"#B0BEC5\",\"#B0BEC5\",\"#B0BEC5\",\"#B0BEC5\",\"#B0BEC5\",\"#B0BEC5\",\"#B0BEC5\",\"red\",\"#B0BEC5\",\"#B0BEC5\",\"#B0BEC5\",\"#B0BEC5\",\"#B0BEC5\",\"#B0BEC5\",\"#B0BEC5\",\"#B0BEC5\",\"#B0BEC5\",\"#B0BEC5\",\"#B0BEC5\",\"#B0BEC5\",\"#B0BEC5\",\"#B0BEC5\",\"#B0BEC5\",\"#B0BEC5\",\"#B0BEC5\",\"#B0BEC5\",\"#B0BEC5\",\"#B0BEC5\",\"#B0BEC5\",\"#B0BEC5\",\"#B0BEC5\",\"#B0BEC5\",\"#B0BEC5\",\"#B0BEC5\",\"#B0BEC5\",\"#B0BEC5\",\"#B0BEC5\",\"#B0BEC5\",\"#B0BEC5\",\"#B0BEC5\",\"#B0BEC5\",\"#B0BEC5\",\"#B0BEC5\",\"#B0BEC5\",\"#B0BEC5\",\"#B0BEC5\",\"#B0BEC5\",\"#B0BEC5\",\"#B0BEC5\",\"#B0BEC5\",\"#B0BEC5\",\"#B0BEC5\",\"#B0BEC5\",\"#B0BEC5\",\"#B0BEC5\",\"#B0BEC5\",\"#B0BEC5\",\"#B0BEC5\",\"#B0BEC5\",\"#B0BEC5\",\"#B0BEC5\",\"#B0BEC5\",\"#B0BEC5\",\"#B0BEC5\",\"#B0BEC5\",\"#B0BEC5\",\"#B0BEC5\",\"#B0BEC5\",\"#B0BEC5\",\"#B0BEC5\",\"#B0BEC5\",\"#B0BEC5\"]]}],\"label\":\"Topic 17\",\"method\":\"update\"},{\"args\":[{\"marker.color\":[[\"#B0BEC5\",\"#B0BEC5\",\"#B0BEC5\",\"#B0BEC5\",\"#B0BEC5\",\"#B0BEC5\",\"#B0BEC5\",\"#B0BEC5\",\"#B0BEC5\",\"#B0BEC5\",\"#B0BEC5\",\"#B0BEC5\",\"#B0BEC5\",\"#B0BEC5\",\"#B0BEC5\",\"#B0BEC5\",\"#B0BEC5\",\"#B0BEC5\",\"red\",\"#B0BEC5\",\"#B0BEC5\",\"#B0BEC5\",\"#B0BEC5\",\"#B0BEC5\",\"#B0BEC5\",\"#B0BEC5\",\"#B0BEC5\",\"#B0BEC5\",\"#B0BEC5\",\"#B0BEC5\",\"#B0BEC5\",\"#B0BEC5\",\"#B0BEC5\",\"#B0BEC5\",\"#B0BEC5\",\"#B0BEC5\",\"#B0BEC5\",\"#B0BEC5\",\"#B0BEC5\",\"#B0BEC5\",\"#B0BEC5\",\"#B0BEC5\",\"#B0BEC5\",\"#B0BEC5\",\"#B0BEC5\",\"#B0BEC5\",\"#B0BEC5\",\"#B0BEC5\",\"#B0BEC5\",\"#B0BEC5\",\"#B0BEC5\",\"#B0BEC5\",\"#B0BEC5\",\"#B0BEC5\",\"#B0BEC5\",\"#B0BEC5\",\"#B0BEC5\",\"#B0BEC5\",\"#B0BEC5\",\"#B0BEC5\",\"#B0BEC5\",\"#B0BEC5\",\"#B0BEC5\",\"#B0BEC5\",\"#B0BEC5\",\"#B0BEC5\",\"#B0BEC5\",\"#B0BEC5\",\"#B0BEC5\",\"#B0BEC5\",\"#B0BEC5\",\"#B0BEC5\",\"#B0BEC5\",\"#B0BEC5\",\"#B0BEC5\",\"#B0BEC5\",\"#B0BEC5\",\"#B0BEC5\",\"#B0BEC5\",\"#B0BEC5\",\"#B0BEC5\",\"#B0BEC5\"]]}],\"label\":\"Topic 18\",\"method\":\"update\"},{\"args\":[{\"marker.color\":[[\"#B0BEC5\",\"#B0BEC5\",\"#B0BEC5\",\"#B0BEC5\",\"#B0BEC5\",\"#B0BEC5\",\"#B0BEC5\",\"#B0BEC5\",\"#B0BEC5\",\"#B0BEC5\",\"#B0BEC5\",\"#B0BEC5\",\"#B0BEC5\",\"#B0BEC5\",\"#B0BEC5\",\"#B0BEC5\",\"#B0BEC5\",\"#B0BEC5\",\"#B0BEC5\",\"red\",\"#B0BEC5\",\"#B0BEC5\",\"#B0BEC5\",\"#B0BEC5\",\"#B0BEC5\",\"#B0BEC5\",\"#B0BEC5\",\"#B0BEC5\",\"#B0BEC5\",\"#B0BEC5\",\"#B0BEC5\",\"#B0BEC5\",\"#B0BEC5\",\"#B0BEC5\",\"#B0BEC5\",\"#B0BEC5\",\"#B0BEC5\",\"#B0BEC5\",\"#B0BEC5\",\"#B0BEC5\",\"#B0BEC5\",\"#B0BEC5\",\"#B0BEC5\",\"#B0BEC5\",\"#B0BEC5\",\"#B0BEC5\",\"#B0BEC5\",\"#B0BEC5\",\"#B0BEC5\",\"#B0BEC5\",\"#B0BEC5\",\"#B0BEC5\",\"#B0BEC5\",\"#B0BEC5\",\"#B0BEC5\",\"#B0BEC5\",\"#B0BEC5\",\"#B0BEC5\",\"#B0BEC5\",\"#B0BEC5\",\"#B0BEC5\",\"#B0BEC5\",\"#B0BEC5\",\"#B0BEC5\",\"#B0BEC5\",\"#B0BEC5\",\"#B0BEC5\",\"#B0BEC5\",\"#B0BEC5\",\"#B0BEC5\",\"#B0BEC5\",\"#B0BEC5\",\"#B0BEC5\",\"#B0BEC5\",\"#B0BEC5\",\"#B0BEC5\",\"#B0BEC5\",\"#B0BEC5\",\"#B0BEC5\",\"#B0BEC5\",\"#B0BEC5\",\"#B0BEC5\"]]}],\"label\":\"Topic 19\",\"method\":\"update\"},{\"args\":[{\"marker.color\":[[\"#B0BEC5\",\"#B0BEC5\",\"#B0BEC5\",\"#B0BEC5\",\"#B0BEC5\",\"#B0BEC5\",\"#B0BEC5\",\"#B0BEC5\",\"#B0BEC5\",\"#B0BEC5\",\"#B0BEC5\",\"#B0BEC5\",\"#B0BEC5\",\"#B0BEC5\",\"#B0BEC5\",\"#B0BEC5\",\"#B0BEC5\",\"#B0BEC5\",\"#B0BEC5\",\"#B0BEC5\",\"red\",\"#B0BEC5\",\"#B0BEC5\",\"#B0BEC5\",\"#B0BEC5\",\"#B0BEC5\",\"#B0BEC5\",\"#B0BEC5\",\"#B0BEC5\",\"#B0BEC5\",\"#B0BEC5\",\"#B0BEC5\",\"#B0BEC5\",\"#B0BEC5\",\"#B0BEC5\",\"#B0BEC5\",\"#B0BEC5\",\"#B0BEC5\",\"#B0BEC5\",\"#B0BEC5\",\"#B0BEC5\",\"#B0BEC5\",\"#B0BEC5\",\"#B0BEC5\",\"#B0BEC5\",\"#B0BEC5\",\"#B0BEC5\",\"#B0BEC5\",\"#B0BEC5\",\"#B0BEC5\",\"#B0BEC5\",\"#B0BEC5\",\"#B0BEC5\",\"#B0BEC5\",\"#B0BEC5\",\"#B0BEC5\",\"#B0BEC5\",\"#B0BEC5\",\"#B0BEC5\",\"#B0BEC5\",\"#B0BEC5\",\"#B0BEC5\",\"#B0BEC5\",\"#B0BEC5\",\"#B0BEC5\",\"#B0BEC5\",\"#B0BEC5\",\"#B0BEC5\",\"#B0BEC5\",\"#B0BEC5\",\"#B0BEC5\",\"#B0BEC5\",\"#B0BEC5\",\"#B0BEC5\",\"#B0BEC5\",\"#B0BEC5\",\"#B0BEC5\",\"#B0BEC5\",\"#B0BEC5\",\"#B0BEC5\",\"#B0BEC5\",\"#B0BEC5\"]]}],\"label\":\"Topic 20\",\"method\":\"update\"},{\"args\":[{\"marker.color\":[[\"#B0BEC5\",\"#B0BEC5\",\"#B0BEC5\",\"#B0BEC5\",\"#B0BEC5\",\"#B0BEC5\",\"#B0BEC5\",\"#B0BEC5\",\"#B0BEC5\",\"#B0BEC5\",\"#B0BEC5\",\"#B0BEC5\",\"#B0BEC5\",\"#B0BEC5\",\"#B0BEC5\",\"#B0BEC5\",\"#B0BEC5\",\"#B0BEC5\",\"#B0BEC5\",\"#B0BEC5\",\"#B0BEC5\",\"red\",\"#B0BEC5\",\"#B0BEC5\",\"#B0BEC5\",\"#B0BEC5\",\"#B0BEC5\",\"#B0BEC5\",\"#B0BEC5\",\"#B0BEC5\",\"#B0BEC5\",\"#B0BEC5\",\"#B0BEC5\",\"#B0BEC5\",\"#B0BEC5\",\"#B0BEC5\",\"#B0BEC5\",\"#B0BEC5\",\"#B0BEC5\",\"#B0BEC5\",\"#B0BEC5\",\"#B0BEC5\",\"#B0BEC5\",\"#B0BEC5\",\"#B0BEC5\",\"#B0BEC5\",\"#B0BEC5\",\"#B0BEC5\",\"#B0BEC5\",\"#B0BEC5\",\"#B0BEC5\",\"#B0BEC5\",\"#B0BEC5\",\"#B0BEC5\",\"#B0BEC5\",\"#B0BEC5\",\"#B0BEC5\",\"#B0BEC5\",\"#B0BEC5\",\"#B0BEC5\",\"#B0BEC5\",\"#B0BEC5\",\"#B0BEC5\",\"#B0BEC5\",\"#B0BEC5\",\"#B0BEC5\",\"#B0BEC5\",\"#B0BEC5\",\"#B0BEC5\",\"#B0BEC5\",\"#B0BEC5\",\"#B0BEC5\",\"#B0BEC5\",\"#B0BEC5\",\"#B0BEC5\",\"#B0BEC5\",\"#B0BEC5\",\"#B0BEC5\",\"#B0BEC5\",\"#B0BEC5\",\"#B0BEC5\",\"#B0BEC5\"]]}],\"label\":\"Topic 21\",\"method\":\"update\"},{\"args\":[{\"marker.color\":[[\"#B0BEC5\",\"#B0BEC5\",\"#B0BEC5\",\"#B0BEC5\",\"#B0BEC5\",\"#B0BEC5\",\"#B0BEC5\",\"#B0BEC5\",\"#B0BEC5\",\"#B0BEC5\",\"#B0BEC5\",\"#B0BEC5\",\"#B0BEC5\",\"#B0BEC5\",\"#B0BEC5\",\"#B0BEC5\",\"#B0BEC5\",\"#B0BEC5\",\"#B0BEC5\",\"#B0BEC5\",\"#B0BEC5\",\"#B0BEC5\",\"red\",\"#B0BEC5\",\"#B0BEC5\",\"#B0BEC5\",\"#B0BEC5\",\"#B0BEC5\",\"#B0BEC5\",\"#B0BEC5\",\"#B0BEC5\",\"#B0BEC5\",\"#B0BEC5\",\"#B0BEC5\",\"#B0BEC5\",\"#B0BEC5\",\"#B0BEC5\",\"#B0BEC5\",\"#B0BEC5\",\"#B0BEC5\",\"#B0BEC5\",\"#B0BEC5\",\"#B0BEC5\",\"#B0BEC5\",\"#B0BEC5\",\"#B0BEC5\",\"#B0BEC5\",\"#B0BEC5\",\"#B0BEC5\",\"#B0BEC5\",\"#B0BEC5\",\"#B0BEC5\",\"#B0BEC5\",\"#B0BEC5\",\"#B0BEC5\",\"#B0BEC5\",\"#B0BEC5\",\"#B0BEC5\",\"#B0BEC5\",\"#B0BEC5\",\"#B0BEC5\",\"#B0BEC5\",\"#B0BEC5\",\"#B0BEC5\",\"#B0BEC5\",\"#B0BEC5\",\"#B0BEC5\",\"#B0BEC5\",\"#B0BEC5\",\"#B0BEC5\",\"#B0BEC5\",\"#B0BEC5\",\"#B0BEC5\",\"#B0BEC5\",\"#B0BEC5\",\"#B0BEC5\",\"#B0BEC5\",\"#B0BEC5\",\"#B0BEC5\",\"#B0BEC5\",\"#B0BEC5\",\"#B0BEC5\"]]}],\"label\":\"Topic 22\",\"method\":\"update\"},{\"args\":[{\"marker.color\":[[\"#B0BEC5\",\"#B0BEC5\",\"#B0BEC5\",\"#B0BEC5\",\"#B0BEC5\",\"#B0BEC5\",\"#B0BEC5\",\"#B0BEC5\",\"#B0BEC5\",\"#B0BEC5\",\"#B0BEC5\",\"#B0BEC5\",\"#B0BEC5\",\"#B0BEC5\",\"#B0BEC5\",\"#B0BEC5\",\"#B0BEC5\",\"#B0BEC5\",\"#B0BEC5\",\"#B0BEC5\",\"#B0BEC5\",\"#B0BEC5\",\"#B0BEC5\",\"red\",\"#B0BEC5\",\"#B0BEC5\",\"#B0BEC5\",\"#B0BEC5\",\"#B0BEC5\",\"#B0BEC5\",\"#B0BEC5\",\"#B0BEC5\",\"#B0BEC5\",\"#B0BEC5\",\"#B0BEC5\",\"#B0BEC5\",\"#B0BEC5\",\"#B0BEC5\",\"#B0BEC5\",\"#B0BEC5\",\"#B0BEC5\",\"#B0BEC5\",\"#B0BEC5\",\"#B0BEC5\",\"#B0BEC5\",\"#B0BEC5\",\"#B0BEC5\",\"#B0BEC5\",\"#B0BEC5\",\"#B0BEC5\",\"#B0BEC5\",\"#B0BEC5\",\"#B0BEC5\",\"#B0BEC5\",\"#B0BEC5\",\"#B0BEC5\",\"#B0BEC5\",\"#B0BEC5\",\"#B0BEC5\",\"#B0BEC5\",\"#B0BEC5\",\"#B0BEC5\",\"#B0BEC5\",\"#B0BEC5\",\"#B0BEC5\",\"#B0BEC5\",\"#B0BEC5\",\"#B0BEC5\",\"#B0BEC5\",\"#B0BEC5\",\"#B0BEC5\",\"#B0BEC5\",\"#B0BEC5\",\"#B0BEC5\",\"#B0BEC5\",\"#B0BEC5\",\"#B0BEC5\",\"#B0BEC5\",\"#B0BEC5\",\"#B0BEC5\",\"#B0BEC5\",\"#B0BEC5\"]]}],\"label\":\"Topic 23\",\"method\":\"update\"},{\"args\":[{\"marker.color\":[[\"#B0BEC5\",\"#B0BEC5\",\"#B0BEC5\",\"#B0BEC5\",\"#B0BEC5\",\"#B0BEC5\",\"#B0BEC5\",\"#B0BEC5\",\"#B0BEC5\",\"#B0BEC5\",\"#B0BEC5\",\"#B0BEC5\",\"#B0BEC5\",\"#B0BEC5\",\"#B0BEC5\",\"#B0BEC5\",\"#B0BEC5\",\"#B0BEC5\",\"#B0BEC5\",\"#B0BEC5\",\"#B0BEC5\",\"#B0BEC5\",\"#B0BEC5\",\"#B0BEC5\",\"red\",\"#B0BEC5\",\"#B0BEC5\",\"#B0BEC5\",\"#B0BEC5\",\"#B0BEC5\",\"#B0BEC5\",\"#B0BEC5\",\"#B0BEC5\",\"#B0BEC5\",\"#B0BEC5\",\"#B0BEC5\",\"#B0BEC5\",\"#B0BEC5\",\"#B0BEC5\",\"#B0BEC5\",\"#B0BEC5\",\"#B0BEC5\",\"#B0BEC5\",\"#B0BEC5\",\"#B0BEC5\",\"#B0BEC5\",\"#B0BEC5\",\"#B0BEC5\",\"#B0BEC5\",\"#B0BEC5\",\"#B0BEC5\",\"#B0BEC5\",\"#B0BEC5\",\"#B0BEC5\",\"#B0BEC5\",\"#B0BEC5\",\"#B0BEC5\",\"#B0BEC5\",\"#B0BEC5\",\"#B0BEC5\",\"#B0BEC5\",\"#B0BEC5\",\"#B0BEC5\",\"#B0BEC5\",\"#B0BEC5\",\"#B0BEC5\",\"#B0BEC5\",\"#B0BEC5\",\"#B0BEC5\",\"#B0BEC5\",\"#B0BEC5\",\"#B0BEC5\",\"#B0BEC5\",\"#B0BEC5\",\"#B0BEC5\",\"#B0BEC5\",\"#B0BEC5\",\"#B0BEC5\",\"#B0BEC5\",\"#B0BEC5\",\"#B0BEC5\",\"#B0BEC5\"]]}],\"label\":\"Topic 24\",\"method\":\"update\"},{\"args\":[{\"marker.color\":[[\"#B0BEC5\",\"#B0BEC5\",\"#B0BEC5\",\"#B0BEC5\",\"#B0BEC5\",\"#B0BEC5\",\"#B0BEC5\",\"#B0BEC5\",\"#B0BEC5\",\"#B0BEC5\",\"#B0BEC5\",\"#B0BEC5\",\"#B0BEC5\",\"#B0BEC5\",\"#B0BEC5\",\"#B0BEC5\",\"#B0BEC5\",\"#B0BEC5\",\"#B0BEC5\",\"#B0BEC5\",\"#B0BEC5\",\"#B0BEC5\",\"#B0BEC5\",\"#B0BEC5\",\"#B0BEC5\",\"red\",\"#B0BEC5\",\"#B0BEC5\",\"#B0BEC5\",\"#B0BEC5\",\"#B0BEC5\",\"#B0BEC5\",\"#B0BEC5\",\"#B0BEC5\",\"#B0BEC5\",\"#B0BEC5\",\"#B0BEC5\",\"#B0BEC5\",\"#B0BEC5\",\"#B0BEC5\",\"#B0BEC5\",\"#B0BEC5\",\"#B0BEC5\",\"#B0BEC5\",\"#B0BEC5\",\"#B0BEC5\",\"#B0BEC5\",\"#B0BEC5\",\"#B0BEC5\",\"#B0BEC5\",\"#B0BEC5\",\"#B0BEC5\",\"#B0BEC5\",\"#B0BEC5\",\"#B0BEC5\",\"#B0BEC5\",\"#B0BEC5\",\"#B0BEC5\",\"#B0BEC5\",\"#B0BEC5\",\"#B0BEC5\",\"#B0BEC5\",\"#B0BEC5\",\"#B0BEC5\",\"#B0BEC5\",\"#B0BEC5\",\"#B0BEC5\",\"#B0BEC5\",\"#B0BEC5\",\"#B0BEC5\",\"#B0BEC5\",\"#B0BEC5\",\"#B0BEC5\",\"#B0BEC5\",\"#B0BEC5\",\"#B0BEC5\",\"#B0BEC5\",\"#B0BEC5\",\"#B0BEC5\",\"#B0BEC5\",\"#B0BEC5\",\"#B0BEC5\"]]}],\"label\":\"Topic 25\",\"method\":\"update\"},{\"args\":[{\"marker.color\":[[\"#B0BEC5\",\"#B0BEC5\",\"#B0BEC5\",\"#B0BEC5\",\"#B0BEC5\",\"#B0BEC5\",\"#B0BEC5\",\"#B0BEC5\",\"#B0BEC5\",\"#B0BEC5\",\"#B0BEC5\",\"#B0BEC5\",\"#B0BEC5\",\"#B0BEC5\",\"#B0BEC5\",\"#B0BEC5\",\"#B0BEC5\",\"#B0BEC5\",\"#B0BEC5\",\"#B0BEC5\",\"#B0BEC5\",\"#B0BEC5\",\"#B0BEC5\",\"#B0BEC5\",\"#B0BEC5\",\"#B0BEC5\",\"red\",\"#B0BEC5\",\"#B0BEC5\",\"#B0BEC5\",\"#B0BEC5\",\"#B0BEC5\",\"#B0BEC5\",\"#B0BEC5\",\"#B0BEC5\",\"#B0BEC5\",\"#B0BEC5\",\"#B0BEC5\",\"#B0BEC5\",\"#B0BEC5\",\"#B0BEC5\",\"#B0BEC5\",\"#B0BEC5\",\"#B0BEC5\",\"#B0BEC5\",\"#B0BEC5\",\"#B0BEC5\",\"#B0BEC5\",\"#B0BEC5\",\"#B0BEC5\",\"#B0BEC5\",\"#B0BEC5\",\"#B0BEC5\",\"#B0BEC5\",\"#B0BEC5\",\"#B0BEC5\",\"#B0BEC5\",\"#B0BEC5\",\"#B0BEC5\",\"#B0BEC5\",\"#B0BEC5\",\"#B0BEC5\",\"#B0BEC5\",\"#B0BEC5\",\"#B0BEC5\",\"#B0BEC5\",\"#B0BEC5\",\"#B0BEC5\",\"#B0BEC5\",\"#B0BEC5\",\"#B0BEC5\",\"#B0BEC5\",\"#B0BEC5\",\"#B0BEC5\",\"#B0BEC5\",\"#B0BEC5\",\"#B0BEC5\",\"#B0BEC5\",\"#B0BEC5\",\"#B0BEC5\",\"#B0BEC5\",\"#B0BEC5\"]]}],\"label\":\"Topic 26\",\"method\":\"update\"},{\"args\":[{\"marker.color\":[[\"#B0BEC5\",\"#B0BEC5\",\"#B0BEC5\",\"#B0BEC5\",\"#B0BEC5\",\"#B0BEC5\",\"#B0BEC5\",\"#B0BEC5\",\"#B0BEC5\",\"#B0BEC5\",\"#B0BEC5\",\"#B0BEC5\",\"#B0BEC5\",\"#B0BEC5\",\"#B0BEC5\",\"#B0BEC5\",\"#B0BEC5\",\"#B0BEC5\",\"#B0BEC5\",\"#B0BEC5\",\"#B0BEC5\",\"#B0BEC5\",\"#B0BEC5\",\"#B0BEC5\",\"#B0BEC5\",\"#B0BEC5\",\"#B0BEC5\",\"red\",\"#B0BEC5\",\"#B0BEC5\",\"#B0BEC5\",\"#B0BEC5\",\"#B0BEC5\",\"#B0BEC5\",\"#B0BEC5\",\"#B0BEC5\",\"#B0BEC5\",\"#B0BEC5\",\"#B0BEC5\",\"#B0BEC5\",\"#B0BEC5\",\"#B0BEC5\",\"#B0BEC5\",\"#B0BEC5\",\"#B0BEC5\",\"#B0BEC5\",\"#B0BEC5\",\"#B0BEC5\",\"#B0BEC5\",\"#B0BEC5\",\"#B0BEC5\",\"#B0BEC5\",\"#B0BEC5\",\"#B0BEC5\",\"#B0BEC5\",\"#B0BEC5\",\"#B0BEC5\",\"#B0BEC5\",\"#B0BEC5\",\"#B0BEC5\",\"#B0BEC5\",\"#B0BEC5\",\"#B0BEC5\",\"#B0BEC5\",\"#B0BEC5\",\"#B0BEC5\",\"#B0BEC5\",\"#B0BEC5\",\"#B0BEC5\",\"#B0BEC5\",\"#B0BEC5\",\"#B0BEC5\",\"#B0BEC5\",\"#B0BEC5\",\"#B0BEC5\",\"#B0BEC5\",\"#B0BEC5\",\"#B0BEC5\",\"#B0BEC5\",\"#B0BEC5\",\"#B0BEC5\",\"#B0BEC5\"]]}],\"label\":\"Topic 27\",\"method\":\"update\"},{\"args\":[{\"marker.color\":[[\"#B0BEC5\",\"#B0BEC5\",\"#B0BEC5\",\"#B0BEC5\",\"#B0BEC5\",\"#B0BEC5\",\"#B0BEC5\",\"#B0BEC5\",\"#B0BEC5\",\"#B0BEC5\",\"#B0BEC5\",\"#B0BEC5\",\"#B0BEC5\",\"#B0BEC5\",\"#B0BEC5\",\"#B0BEC5\",\"#B0BEC5\",\"#B0BEC5\",\"#B0BEC5\",\"#B0BEC5\",\"#B0BEC5\",\"#B0BEC5\",\"#B0BEC5\",\"#B0BEC5\",\"#B0BEC5\",\"#B0BEC5\",\"#B0BEC5\",\"#B0BEC5\",\"red\",\"#B0BEC5\",\"#B0BEC5\",\"#B0BEC5\",\"#B0BEC5\",\"#B0BEC5\",\"#B0BEC5\",\"#B0BEC5\",\"#B0BEC5\",\"#B0BEC5\",\"#B0BEC5\",\"#B0BEC5\",\"#B0BEC5\",\"#B0BEC5\",\"#B0BEC5\",\"#B0BEC5\",\"#B0BEC5\",\"#B0BEC5\",\"#B0BEC5\",\"#B0BEC5\",\"#B0BEC5\",\"#B0BEC5\",\"#B0BEC5\",\"#B0BEC5\",\"#B0BEC5\",\"#B0BEC5\",\"#B0BEC5\",\"#B0BEC5\",\"#B0BEC5\",\"#B0BEC5\",\"#B0BEC5\",\"#B0BEC5\",\"#B0BEC5\",\"#B0BEC5\",\"#B0BEC5\",\"#B0BEC5\",\"#B0BEC5\",\"#B0BEC5\",\"#B0BEC5\",\"#B0BEC5\",\"#B0BEC5\",\"#B0BEC5\",\"#B0BEC5\",\"#B0BEC5\",\"#B0BEC5\",\"#B0BEC5\",\"#B0BEC5\",\"#B0BEC5\",\"#B0BEC5\",\"#B0BEC5\",\"#B0BEC5\",\"#B0BEC5\",\"#B0BEC5\",\"#B0BEC5\"]]}],\"label\":\"Topic 28\",\"method\":\"update\"},{\"args\":[{\"marker.color\":[[\"#B0BEC5\",\"#B0BEC5\",\"#B0BEC5\",\"#B0BEC5\",\"#B0BEC5\",\"#B0BEC5\",\"#B0BEC5\",\"#B0BEC5\",\"#B0BEC5\",\"#B0BEC5\",\"#B0BEC5\",\"#B0BEC5\",\"#B0BEC5\",\"#B0BEC5\",\"#B0BEC5\",\"#B0BEC5\",\"#B0BEC5\",\"#B0BEC5\",\"#B0BEC5\",\"#B0BEC5\",\"#B0BEC5\",\"#B0BEC5\",\"#B0BEC5\",\"#B0BEC5\",\"#B0BEC5\",\"#B0BEC5\",\"#B0BEC5\",\"#B0BEC5\",\"#B0BEC5\",\"red\",\"#B0BEC5\",\"#B0BEC5\",\"#B0BEC5\",\"#B0BEC5\",\"#B0BEC5\",\"#B0BEC5\",\"#B0BEC5\",\"#B0BEC5\",\"#B0BEC5\",\"#B0BEC5\",\"#B0BEC5\",\"#B0BEC5\",\"#B0BEC5\",\"#B0BEC5\",\"#B0BEC5\",\"#B0BEC5\",\"#B0BEC5\",\"#B0BEC5\",\"#B0BEC5\",\"#B0BEC5\",\"#B0BEC5\",\"#B0BEC5\",\"#B0BEC5\",\"#B0BEC5\",\"#B0BEC5\",\"#B0BEC5\",\"#B0BEC5\",\"#B0BEC5\",\"#B0BEC5\",\"#B0BEC5\",\"#B0BEC5\",\"#B0BEC5\",\"#B0BEC5\",\"#B0BEC5\",\"#B0BEC5\",\"#B0BEC5\",\"#B0BEC5\",\"#B0BEC5\",\"#B0BEC5\",\"#B0BEC5\",\"#B0BEC5\",\"#B0BEC5\",\"#B0BEC5\",\"#B0BEC5\",\"#B0BEC5\",\"#B0BEC5\",\"#B0BEC5\",\"#B0BEC5\",\"#B0BEC5\",\"#B0BEC5\",\"#B0BEC5\",\"#B0BEC5\"]]}],\"label\":\"Topic 29\",\"method\":\"update\"},{\"args\":[{\"marker.color\":[[\"#B0BEC5\",\"#B0BEC5\",\"#B0BEC5\",\"#B0BEC5\",\"#B0BEC5\",\"#B0BEC5\",\"#B0BEC5\",\"#B0BEC5\",\"#B0BEC5\",\"#B0BEC5\",\"#B0BEC5\",\"#B0BEC5\",\"#B0BEC5\",\"#B0BEC5\",\"#B0BEC5\",\"#B0BEC5\",\"#B0BEC5\",\"#B0BEC5\",\"#B0BEC5\",\"#B0BEC5\",\"#B0BEC5\",\"#B0BEC5\",\"#B0BEC5\",\"#B0BEC5\",\"#B0BEC5\",\"#B0BEC5\",\"#B0BEC5\",\"#B0BEC5\",\"#B0BEC5\",\"#B0BEC5\",\"red\",\"#B0BEC5\",\"#B0BEC5\",\"#B0BEC5\",\"#B0BEC5\",\"#B0BEC5\",\"#B0BEC5\",\"#B0BEC5\",\"#B0BEC5\",\"#B0BEC5\",\"#B0BEC5\",\"#B0BEC5\",\"#B0BEC5\",\"#B0BEC5\",\"#B0BEC5\",\"#B0BEC5\",\"#B0BEC5\",\"#B0BEC5\",\"#B0BEC5\",\"#B0BEC5\",\"#B0BEC5\",\"#B0BEC5\",\"#B0BEC5\",\"#B0BEC5\",\"#B0BEC5\",\"#B0BEC5\",\"#B0BEC5\",\"#B0BEC5\",\"#B0BEC5\",\"#B0BEC5\",\"#B0BEC5\",\"#B0BEC5\",\"#B0BEC5\",\"#B0BEC5\",\"#B0BEC5\",\"#B0BEC5\",\"#B0BEC5\",\"#B0BEC5\",\"#B0BEC5\",\"#B0BEC5\",\"#B0BEC5\",\"#B0BEC5\",\"#B0BEC5\",\"#B0BEC5\",\"#B0BEC5\",\"#B0BEC5\",\"#B0BEC5\",\"#B0BEC5\",\"#B0BEC5\",\"#B0BEC5\",\"#B0BEC5\",\"#B0BEC5\"]]}],\"label\":\"Topic 30\",\"method\":\"update\"},{\"args\":[{\"marker.color\":[[\"#B0BEC5\",\"#B0BEC5\",\"#B0BEC5\",\"#B0BEC5\",\"#B0BEC5\",\"#B0BEC5\",\"#B0BEC5\",\"#B0BEC5\",\"#B0BEC5\",\"#B0BEC5\",\"#B0BEC5\",\"#B0BEC5\",\"#B0BEC5\",\"#B0BEC5\",\"#B0BEC5\",\"#B0BEC5\",\"#B0BEC5\",\"#B0BEC5\",\"#B0BEC5\",\"#B0BEC5\",\"#B0BEC5\",\"#B0BEC5\",\"#B0BEC5\",\"#B0BEC5\",\"#B0BEC5\",\"#B0BEC5\",\"#B0BEC5\",\"#B0BEC5\",\"#B0BEC5\",\"#B0BEC5\",\"#B0BEC5\",\"red\",\"#B0BEC5\",\"#B0BEC5\",\"#B0BEC5\",\"#B0BEC5\",\"#B0BEC5\",\"#B0BEC5\",\"#B0BEC5\",\"#B0BEC5\",\"#B0BEC5\",\"#B0BEC5\",\"#B0BEC5\",\"#B0BEC5\",\"#B0BEC5\",\"#B0BEC5\",\"#B0BEC5\",\"#B0BEC5\",\"#B0BEC5\",\"#B0BEC5\",\"#B0BEC5\",\"#B0BEC5\",\"#B0BEC5\",\"#B0BEC5\",\"#B0BEC5\",\"#B0BEC5\",\"#B0BEC5\",\"#B0BEC5\",\"#B0BEC5\",\"#B0BEC5\",\"#B0BEC5\",\"#B0BEC5\",\"#B0BEC5\",\"#B0BEC5\",\"#B0BEC5\",\"#B0BEC5\",\"#B0BEC5\",\"#B0BEC5\",\"#B0BEC5\",\"#B0BEC5\",\"#B0BEC5\",\"#B0BEC5\",\"#B0BEC5\",\"#B0BEC5\",\"#B0BEC5\",\"#B0BEC5\",\"#B0BEC5\",\"#B0BEC5\",\"#B0BEC5\",\"#B0BEC5\",\"#B0BEC5\",\"#B0BEC5\"]]}],\"label\":\"Topic 31\",\"method\":\"update\"},{\"args\":[{\"marker.color\":[[\"#B0BEC5\",\"#B0BEC5\",\"#B0BEC5\",\"#B0BEC5\",\"#B0BEC5\",\"#B0BEC5\",\"#B0BEC5\",\"#B0BEC5\",\"#B0BEC5\",\"#B0BEC5\",\"#B0BEC5\",\"#B0BEC5\",\"#B0BEC5\",\"#B0BEC5\",\"#B0BEC5\",\"#B0BEC5\",\"#B0BEC5\",\"#B0BEC5\",\"#B0BEC5\",\"#B0BEC5\",\"#B0BEC5\",\"#B0BEC5\",\"#B0BEC5\",\"#B0BEC5\",\"#B0BEC5\",\"#B0BEC5\",\"#B0BEC5\",\"#B0BEC5\",\"#B0BEC5\",\"#B0BEC5\",\"#B0BEC5\",\"#B0BEC5\",\"red\",\"#B0BEC5\",\"#B0BEC5\",\"#B0BEC5\",\"#B0BEC5\",\"#B0BEC5\",\"#B0BEC5\",\"#B0BEC5\",\"#B0BEC5\",\"#B0BEC5\",\"#B0BEC5\",\"#B0BEC5\",\"#B0BEC5\",\"#B0BEC5\",\"#B0BEC5\",\"#B0BEC5\",\"#B0BEC5\",\"#B0BEC5\",\"#B0BEC5\",\"#B0BEC5\",\"#B0BEC5\",\"#B0BEC5\",\"#B0BEC5\",\"#B0BEC5\",\"#B0BEC5\",\"#B0BEC5\",\"#B0BEC5\",\"#B0BEC5\",\"#B0BEC5\",\"#B0BEC5\",\"#B0BEC5\",\"#B0BEC5\",\"#B0BEC5\",\"#B0BEC5\",\"#B0BEC5\",\"#B0BEC5\",\"#B0BEC5\",\"#B0BEC5\",\"#B0BEC5\",\"#B0BEC5\",\"#B0BEC5\",\"#B0BEC5\",\"#B0BEC5\",\"#B0BEC5\",\"#B0BEC5\",\"#B0BEC5\",\"#B0BEC5\",\"#B0BEC5\",\"#B0BEC5\",\"#B0BEC5\"]]}],\"label\":\"Topic 32\",\"method\":\"update\"},{\"args\":[{\"marker.color\":[[\"#B0BEC5\",\"#B0BEC5\",\"#B0BEC5\",\"#B0BEC5\",\"#B0BEC5\",\"#B0BEC5\",\"#B0BEC5\",\"#B0BEC5\",\"#B0BEC5\",\"#B0BEC5\",\"#B0BEC5\",\"#B0BEC5\",\"#B0BEC5\",\"#B0BEC5\",\"#B0BEC5\",\"#B0BEC5\",\"#B0BEC5\",\"#B0BEC5\",\"#B0BEC5\",\"#B0BEC5\",\"#B0BEC5\",\"#B0BEC5\",\"#B0BEC5\",\"#B0BEC5\",\"#B0BEC5\",\"#B0BEC5\",\"#B0BEC5\",\"#B0BEC5\",\"#B0BEC5\",\"#B0BEC5\",\"#B0BEC5\",\"#B0BEC5\",\"#B0BEC5\",\"red\",\"#B0BEC5\",\"#B0BEC5\",\"#B0BEC5\",\"#B0BEC5\",\"#B0BEC5\",\"#B0BEC5\",\"#B0BEC5\",\"#B0BEC5\",\"#B0BEC5\",\"#B0BEC5\",\"#B0BEC5\",\"#B0BEC5\",\"#B0BEC5\",\"#B0BEC5\",\"#B0BEC5\",\"#B0BEC5\",\"#B0BEC5\",\"#B0BEC5\",\"#B0BEC5\",\"#B0BEC5\",\"#B0BEC5\",\"#B0BEC5\",\"#B0BEC5\",\"#B0BEC5\",\"#B0BEC5\",\"#B0BEC5\",\"#B0BEC5\",\"#B0BEC5\",\"#B0BEC5\",\"#B0BEC5\",\"#B0BEC5\",\"#B0BEC5\",\"#B0BEC5\",\"#B0BEC5\",\"#B0BEC5\",\"#B0BEC5\",\"#B0BEC5\",\"#B0BEC5\",\"#B0BEC5\",\"#B0BEC5\",\"#B0BEC5\",\"#B0BEC5\",\"#B0BEC5\",\"#B0BEC5\",\"#B0BEC5\",\"#B0BEC5\",\"#B0BEC5\",\"#B0BEC5\"]]}],\"label\":\"Topic 33\",\"method\":\"update\"},{\"args\":[{\"marker.color\":[[\"#B0BEC5\",\"#B0BEC5\",\"#B0BEC5\",\"#B0BEC5\",\"#B0BEC5\",\"#B0BEC5\",\"#B0BEC5\",\"#B0BEC5\",\"#B0BEC5\",\"#B0BEC5\",\"#B0BEC5\",\"#B0BEC5\",\"#B0BEC5\",\"#B0BEC5\",\"#B0BEC5\",\"#B0BEC5\",\"#B0BEC5\",\"#B0BEC5\",\"#B0BEC5\",\"#B0BEC5\",\"#B0BEC5\",\"#B0BEC5\",\"#B0BEC5\",\"#B0BEC5\",\"#B0BEC5\",\"#B0BEC5\",\"#B0BEC5\",\"#B0BEC5\",\"#B0BEC5\",\"#B0BEC5\",\"#B0BEC5\",\"#B0BEC5\",\"#B0BEC5\",\"#B0BEC5\",\"red\",\"#B0BEC5\",\"#B0BEC5\",\"#B0BEC5\",\"#B0BEC5\",\"#B0BEC5\",\"#B0BEC5\",\"#B0BEC5\",\"#B0BEC5\",\"#B0BEC5\",\"#B0BEC5\",\"#B0BEC5\",\"#B0BEC5\",\"#B0BEC5\",\"#B0BEC5\",\"#B0BEC5\",\"#B0BEC5\",\"#B0BEC5\",\"#B0BEC5\",\"#B0BEC5\",\"#B0BEC5\",\"#B0BEC5\",\"#B0BEC5\",\"#B0BEC5\",\"#B0BEC5\",\"#B0BEC5\",\"#B0BEC5\",\"#B0BEC5\",\"#B0BEC5\",\"#B0BEC5\",\"#B0BEC5\",\"#B0BEC5\",\"#B0BEC5\",\"#B0BEC5\",\"#B0BEC5\",\"#B0BEC5\",\"#B0BEC5\",\"#B0BEC5\",\"#B0BEC5\",\"#B0BEC5\",\"#B0BEC5\",\"#B0BEC5\",\"#B0BEC5\",\"#B0BEC5\",\"#B0BEC5\",\"#B0BEC5\",\"#B0BEC5\",\"#B0BEC5\"]]}],\"label\":\"Topic 34\",\"method\":\"update\"},{\"args\":[{\"marker.color\":[[\"#B0BEC5\",\"#B0BEC5\",\"#B0BEC5\",\"#B0BEC5\",\"#B0BEC5\",\"#B0BEC5\",\"#B0BEC5\",\"#B0BEC5\",\"#B0BEC5\",\"#B0BEC5\",\"#B0BEC5\",\"#B0BEC5\",\"#B0BEC5\",\"#B0BEC5\",\"#B0BEC5\",\"#B0BEC5\",\"#B0BEC5\",\"#B0BEC5\",\"#B0BEC5\",\"#B0BEC5\",\"#B0BEC5\",\"#B0BEC5\",\"#B0BEC5\",\"#B0BEC5\",\"#B0BEC5\",\"#B0BEC5\",\"#B0BEC5\",\"#B0BEC5\",\"#B0BEC5\",\"#B0BEC5\",\"#B0BEC5\",\"#B0BEC5\",\"#B0BEC5\",\"#B0BEC5\",\"#B0BEC5\",\"red\",\"#B0BEC5\",\"#B0BEC5\",\"#B0BEC5\",\"#B0BEC5\",\"#B0BEC5\",\"#B0BEC5\",\"#B0BEC5\",\"#B0BEC5\",\"#B0BEC5\",\"#B0BEC5\",\"#B0BEC5\",\"#B0BEC5\",\"#B0BEC5\",\"#B0BEC5\",\"#B0BEC5\",\"#B0BEC5\",\"#B0BEC5\",\"#B0BEC5\",\"#B0BEC5\",\"#B0BEC5\",\"#B0BEC5\",\"#B0BEC5\",\"#B0BEC5\",\"#B0BEC5\",\"#B0BEC5\",\"#B0BEC5\",\"#B0BEC5\",\"#B0BEC5\",\"#B0BEC5\",\"#B0BEC5\",\"#B0BEC5\",\"#B0BEC5\",\"#B0BEC5\",\"#B0BEC5\",\"#B0BEC5\",\"#B0BEC5\",\"#B0BEC5\",\"#B0BEC5\",\"#B0BEC5\",\"#B0BEC5\",\"#B0BEC5\",\"#B0BEC5\",\"#B0BEC5\",\"#B0BEC5\",\"#B0BEC5\",\"#B0BEC5\"]]}],\"label\":\"Topic 35\",\"method\":\"update\"},{\"args\":[{\"marker.color\":[[\"#B0BEC5\",\"#B0BEC5\",\"#B0BEC5\",\"#B0BEC5\",\"#B0BEC5\",\"#B0BEC5\",\"#B0BEC5\",\"#B0BEC5\",\"#B0BEC5\",\"#B0BEC5\",\"#B0BEC5\",\"#B0BEC5\",\"#B0BEC5\",\"#B0BEC5\",\"#B0BEC5\",\"#B0BEC5\",\"#B0BEC5\",\"#B0BEC5\",\"#B0BEC5\",\"#B0BEC5\",\"#B0BEC5\",\"#B0BEC5\",\"#B0BEC5\",\"#B0BEC5\",\"#B0BEC5\",\"#B0BEC5\",\"#B0BEC5\",\"#B0BEC5\",\"#B0BEC5\",\"#B0BEC5\",\"#B0BEC5\",\"#B0BEC5\",\"#B0BEC5\",\"#B0BEC5\",\"#B0BEC5\",\"#B0BEC5\",\"red\",\"#B0BEC5\",\"#B0BEC5\",\"#B0BEC5\",\"#B0BEC5\",\"#B0BEC5\",\"#B0BEC5\",\"#B0BEC5\",\"#B0BEC5\",\"#B0BEC5\",\"#B0BEC5\",\"#B0BEC5\",\"#B0BEC5\",\"#B0BEC5\",\"#B0BEC5\",\"#B0BEC5\",\"#B0BEC5\",\"#B0BEC5\",\"#B0BEC5\",\"#B0BEC5\",\"#B0BEC5\",\"#B0BEC5\",\"#B0BEC5\",\"#B0BEC5\",\"#B0BEC5\",\"#B0BEC5\",\"#B0BEC5\",\"#B0BEC5\",\"#B0BEC5\",\"#B0BEC5\",\"#B0BEC5\",\"#B0BEC5\",\"#B0BEC5\",\"#B0BEC5\",\"#B0BEC5\",\"#B0BEC5\",\"#B0BEC5\",\"#B0BEC5\",\"#B0BEC5\",\"#B0BEC5\",\"#B0BEC5\",\"#B0BEC5\",\"#B0BEC5\",\"#B0BEC5\",\"#B0BEC5\",\"#B0BEC5\"]]}],\"label\":\"Topic 36\",\"method\":\"update\"},{\"args\":[{\"marker.color\":[[\"#B0BEC5\",\"#B0BEC5\",\"#B0BEC5\",\"#B0BEC5\",\"#B0BEC5\",\"#B0BEC5\",\"#B0BEC5\",\"#B0BEC5\",\"#B0BEC5\",\"#B0BEC5\",\"#B0BEC5\",\"#B0BEC5\",\"#B0BEC5\",\"#B0BEC5\",\"#B0BEC5\",\"#B0BEC5\",\"#B0BEC5\",\"#B0BEC5\",\"#B0BEC5\",\"#B0BEC5\",\"#B0BEC5\",\"#B0BEC5\",\"#B0BEC5\",\"#B0BEC5\",\"#B0BEC5\",\"#B0BEC5\",\"#B0BEC5\",\"#B0BEC5\",\"#B0BEC5\",\"#B0BEC5\",\"#B0BEC5\",\"#B0BEC5\",\"#B0BEC5\",\"#B0BEC5\",\"#B0BEC5\",\"#B0BEC5\",\"#B0BEC5\",\"red\",\"#B0BEC5\",\"#B0BEC5\",\"#B0BEC5\",\"#B0BEC5\",\"#B0BEC5\",\"#B0BEC5\",\"#B0BEC5\",\"#B0BEC5\",\"#B0BEC5\",\"#B0BEC5\",\"#B0BEC5\",\"#B0BEC5\",\"#B0BEC5\",\"#B0BEC5\",\"#B0BEC5\",\"#B0BEC5\",\"#B0BEC5\",\"#B0BEC5\",\"#B0BEC5\",\"#B0BEC5\",\"#B0BEC5\",\"#B0BEC5\",\"#B0BEC5\",\"#B0BEC5\",\"#B0BEC5\",\"#B0BEC5\",\"#B0BEC5\",\"#B0BEC5\",\"#B0BEC5\",\"#B0BEC5\",\"#B0BEC5\",\"#B0BEC5\",\"#B0BEC5\",\"#B0BEC5\",\"#B0BEC5\",\"#B0BEC5\",\"#B0BEC5\",\"#B0BEC5\",\"#B0BEC5\",\"#B0BEC5\",\"#B0BEC5\",\"#B0BEC5\",\"#B0BEC5\",\"#B0BEC5\"]]}],\"label\":\"Topic 37\",\"method\":\"update\"},{\"args\":[{\"marker.color\":[[\"#B0BEC5\",\"#B0BEC5\",\"#B0BEC5\",\"#B0BEC5\",\"#B0BEC5\",\"#B0BEC5\",\"#B0BEC5\",\"#B0BEC5\",\"#B0BEC5\",\"#B0BEC5\",\"#B0BEC5\",\"#B0BEC5\",\"#B0BEC5\",\"#B0BEC5\",\"#B0BEC5\",\"#B0BEC5\",\"#B0BEC5\",\"#B0BEC5\",\"#B0BEC5\",\"#B0BEC5\",\"#B0BEC5\",\"#B0BEC5\",\"#B0BEC5\",\"#B0BEC5\",\"#B0BEC5\",\"#B0BEC5\",\"#B0BEC5\",\"#B0BEC5\",\"#B0BEC5\",\"#B0BEC5\",\"#B0BEC5\",\"#B0BEC5\",\"#B0BEC5\",\"#B0BEC5\",\"#B0BEC5\",\"#B0BEC5\",\"#B0BEC5\",\"#B0BEC5\",\"red\",\"#B0BEC5\",\"#B0BEC5\",\"#B0BEC5\",\"#B0BEC5\",\"#B0BEC5\",\"#B0BEC5\",\"#B0BEC5\",\"#B0BEC5\",\"#B0BEC5\",\"#B0BEC5\",\"#B0BEC5\",\"#B0BEC5\",\"#B0BEC5\",\"#B0BEC5\",\"#B0BEC5\",\"#B0BEC5\",\"#B0BEC5\",\"#B0BEC5\",\"#B0BEC5\",\"#B0BEC5\",\"#B0BEC5\",\"#B0BEC5\",\"#B0BEC5\",\"#B0BEC5\",\"#B0BEC5\",\"#B0BEC5\",\"#B0BEC5\",\"#B0BEC5\",\"#B0BEC5\",\"#B0BEC5\",\"#B0BEC5\",\"#B0BEC5\",\"#B0BEC5\",\"#B0BEC5\",\"#B0BEC5\",\"#B0BEC5\",\"#B0BEC5\",\"#B0BEC5\",\"#B0BEC5\",\"#B0BEC5\",\"#B0BEC5\",\"#B0BEC5\",\"#B0BEC5\"]]}],\"label\":\"Topic 38\",\"method\":\"update\"},{\"args\":[{\"marker.color\":[[\"#B0BEC5\",\"#B0BEC5\",\"#B0BEC5\",\"#B0BEC5\",\"#B0BEC5\",\"#B0BEC5\",\"#B0BEC5\",\"#B0BEC5\",\"#B0BEC5\",\"#B0BEC5\",\"#B0BEC5\",\"#B0BEC5\",\"#B0BEC5\",\"#B0BEC5\",\"#B0BEC5\",\"#B0BEC5\",\"#B0BEC5\",\"#B0BEC5\",\"#B0BEC5\",\"#B0BEC5\",\"#B0BEC5\",\"#B0BEC5\",\"#B0BEC5\",\"#B0BEC5\",\"#B0BEC5\",\"#B0BEC5\",\"#B0BEC5\",\"#B0BEC5\",\"#B0BEC5\",\"#B0BEC5\",\"#B0BEC5\",\"#B0BEC5\",\"#B0BEC5\",\"#B0BEC5\",\"#B0BEC5\",\"#B0BEC5\",\"#B0BEC5\",\"#B0BEC5\",\"#B0BEC5\",\"red\",\"#B0BEC5\",\"#B0BEC5\",\"#B0BEC5\",\"#B0BEC5\",\"#B0BEC5\",\"#B0BEC5\",\"#B0BEC5\",\"#B0BEC5\",\"#B0BEC5\",\"#B0BEC5\",\"#B0BEC5\",\"#B0BEC5\",\"#B0BEC5\",\"#B0BEC5\",\"#B0BEC5\",\"#B0BEC5\",\"#B0BEC5\",\"#B0BEC5\",\"#B0BEC5\",\"#B0BEC5\",\"#B0BEC5\",\"#B0BEC5\",\"#B0BEC5\",\"#B0BEC5\",\"#B0BEC5\",\"#B0BEC5\",\"#B0BEC5\",\"#B0BEC5\",\"#B0BEC5\",\"#B0BEC5\",\"#B0BEC5\",\"#B0BEC5\",\"#B0BEC5\",\"#B0BEC5\",\"#B0BEC5\",\"#B0BEC5\",\"#B0BEC5\",\"#B0BEC5\",\"#B0BEC5\",\"#B0BEC5\",\"#B0BEC5\",\"#B0BEC5\"]]}],\"label\":\"Topic 39\",\"method\":\"update\"},{\"args\":[{\"marker.color\":[[\"#B0BEC5\",\"#B0BEC5\",\"#B0BEC5\",\"#B0BEC5\",\"#B0BEC5\",\"#B0BEC5\",\"#B0BEC5\",\"#B0BEC5\",\"#B0BEC5\",\"#B0BEC5\",\"#B0BEC5\",\"#B0BEC5\",\"#B0BEC5\",\"#B0BEC5\",\"#B0BEC5\",\"#B0BEC5\",\"#B0BEC5\",\"#B0BEC5\",\"#B0BEC5\",\"#B0BEC5\",\"#B0BEC5\",\"#B0BEC5\",\"#B0BEC5\",\"#B0BEC5\",\"#B0BEC5\",\"#B0BEC5\",\"#B0BEC5\",\"#B0BEC5\",\"#B0BEC5\",\"#B0BEC5\",\"#B0BEC5\",\"#B0BEC5\",\"#B0BEC5\",\"#B0BEC5\",\"#B0BEC5\",\"#B0BEC5\",\"#B0BEC5\",\"#B0BEC5\",\"#B0BEC5\",\"#B0BEC5\",\"red\",\"#B0BEC5\",\"#B0BEC5\",\"#B0BEC5\",\"#B0BEC5\",\"#B0BEC5\",\"#B0BEC5\",\"#B0BEC5\",\"#B0BEC5\",\"#B0BEC5\",\"#B0BEC5\",\"#B0BEC5\",\"#B0BEC5\",\"#B0BEC5\",\"#B0BEC5\",\"#B0BEC5\",\"#B0BEC5\",\"#B0BEC5\",\"#B0BEC5\",\"#B0BEC5\",\"#B0BEC5\",\"#B0BEC5\",\"#B0BEC5\",\"#B0BEC5\",\"#B0BEC5\",\"#B0BEC5\",\"#B0BEC5\",\"#B0BEC5\",\"#B0BEC5\",\"#B0BEC5\",\"#B0BEC5\",\"#B0BEC5\",\"#B0BEC5\",\"#B0BEC5\",\"#B0BEC5\",\"#B0BEC5\",\"#B0BEC5\",\"#B0BEC5\",\"#B0BEC5\",\"#B0BEC5\",\"#B0BEC5\",\"#B0BEC5\"]]}],\"label\":\"Topic 40\",\"method\":\"update\"},{\"args\":[{\"marker.color\":[[\"#B0BEC5\",\"#B0BEC5\",\"#B0BEC5\",\"#B0BEC5\",\"#B0BEC5\",\"#B0BEC5\",\"#B0BEC5\",\"#B0BEC5\",\"#B0BEC5\",\"#B0BEC5\",\"#B0BEC5\",\"#B0BEC5\",\"#B0BEC5\",\"#B0BEC5\",\"#B0BEC5\",\"#B0BEC5\",\"#B0BEC5\",\"#B0BEC5\",\"#B0BEC5\",\"#B0BEC5\",\"#B0BEC5\",\"#B0BEC5\",\"#B0BEC5\",\"#B0BEC5\",\"#B0BEC5\",\"#B0BEC5\",\"#B0BEC5\",\"#B0BEC5\",\"#B0BEC5\",\"#B0BEC5\",\"#B0BEC5\",\"#B0BEC5\",\"#B0BEC5\",\"#B0BEC5\",\"#B0BEC5\",\"#B0BEC5\",\"#B0BEC5\",\"#B0BEC5\",\"#B0BEC5\",\"#B0BEC5\",\"#B0BEC5\",\"red\",\"#B0BEC5\",\"#B0BEC5\",\"#B0BEC5\",\"#B0BEC5\",\"#B0BEC5\",\"#B0BEC5\",\"#B0BEC5\",\"#B0BEC5\",\"#B0BEC5\",\"#B0BEC5\",\"#B0BEC5\",\"#B0BEC5\",\"#B0BEC5\",\"#B0BEC5\",\"#B0BEC5\",\"#B0BEC5\",\"#B0BEC5\",\"#B0BEC5\",\"#B0BEC5\",\"#B0BEC5\",\"#B0BEC5\",\"#B0BEC5\",\"#B0BEC5\",\"#B0BEC5\",\"#B0BEC5\",\"#B0BEC5\",\"#B0BEC5\",\"#B0BEC5\",\"#B0BEC5\",\"#B0BEC5\",\"#B0BEC5\",\"#B0BEC5\",\"#B0BEC5\",\"#B0BEC5\",\"#B0BEC5\",\"#B0BEC5\",\"#B0BEC5\",\"#B0BEC5\",\"#B0BEC5\",\"#B0BEC5\"]]}],\"label\":\"Topic 41\",\"method\":\"update\"},{\"args\":[{\"marker.color\":[[\"#B0BEC5\",\"#B0BEC5\",\"#B0BEC5\",\"#B0BEC5\",\"#B0BEC5\",\"#B0BEC5\",\"#B0BEC5\",\"#B0BEC5\",\"#B0BEC5\",\"#B0BEC5\",\"#B0BEC5\",\"#B0BEC5\",\"#B0BEC5\",\"#B0BEC5\",\"#B0BEC5\",\"#B0BEC5\",\"#B0BEC5\",\"#B0BEC5\",\"#B0BEC5\",\"#B0BEC5\",\"#B0BEC5\",\"#B0BEC5\",\"#B0BEC5\",\"#B0BEC5\",\"#B0BEC5\",\"#B0BEC5\",\"#B0BEC5\",\"#B0BEC5\",\"#B0BEC5\",\"#B0BEC5\",\"#B0BEC5\",\"#B0BEC5\",\"#B0BEC5\",\"#B0BEC5\",\"#B0BEC5\",\"#B0BEC5\",\"#B0BEC5\",\"#B0BEC5\",\"#B0BEC5\",\"#B0BEC5\",\"#B0BEC5\",\"#B0BEC5\",\"red\",\"#B0BEC5\",\"#B0BEC5\",\"#B0BEC5\",\"#B0BEC5\",\"#B0BEC5\",\"#B0BEC5\",\"#B0BEC5\",\"#B0BEC5\",\"#B0BEC5\",\"#B0BEC5\",\"#B0BEC5\",\"#B0BEC5\",\"#B0BEC5\",\"#B0BEC5\",\"#B0BEC5\",\"#B0BEC5\",\"#B0BEC5\",\"#B0BEC5\",\"#B0BEC5\",\"#B0BEC5\",\"#B0BEC5\",\"#B0BEC5\",\"#B0BEC5\",\"#B0BEC5\",\"#B0BEC5\",\"#B0BEC5\",\"#B0BEC5\",\"#B0BEC5\",\"#B0BEC5\",\"#B0BEC5\",\"#B0BEC5\",\"#B0BEC5\",\"#B0BEC5\",\"#B0BEC5\",\"#B0BEC5\",\"#B0BEC5\",\"#B0BEC5\",\"#B0BEC5\",\"#B0BEC5\"]]}],\"label\":\"Topic 42\",\"method\":\"update\"},{\"args\":[{\"marker.color\":[[\"#B0BEC5\",\"#B0BEC5\",\"#B0BEC5\",\"#B0BEC5\",\"#B0BEC5\",\"#B0BEC5\",\"#B0BEC5\",\"#B0BEC5\",\"#B0BEC5\",\"#B0BEC5\",\"#B0BEC5\",\"#B0BEC5\",\"#B0BEC5\",\"#B0BEC5\",\"#B0BEC5\",\"#B0BEC5\",\"#B0BEC5\",\"#B0BEC5\",\"#B0BEC5\",\"#B0BEC5\",\"#B0BEC5\",\"#B0BEC5\",\"#B0BEC5\",\"#B0BEC5\",\"#B0BEC5\",\"#B0BEC5\",\"#B0BEC5\",\"#B0BEC5\",\"#B0BEC5\",\"#B0BEC5\",\"#B0BEC5\",\"#B0BEC5\",\"#B0BEC5\",\"#B0BEC5\",\"#B0BEC5\",\"#B0BEC5\",\"#B0BEC5\",\"#B0BEC5\",\"#B0BEC5\",\"#B0BEC5\",\"#B0BEC5\",\"#B0BEC5\",\"#B0BEC5\",\"red\",\"#B0BEC5\",\"#B0BEC5\",\"#B0BEC5\",\"#B0BEC5\",\"#B0BEC5\",\"#B0BEC5\",\"#B0BEC5\",\"#B0BEC5\",\"#B0BEC5\",\"#B0BEC5\",\"#B0BEC5\",\"#B0BEC5\",\"#B0BEC5\",\"#B0BEC5\",\"#B0BEC5\",\"#B0BEC5\",\"#B0BEC5\",\"#B0BEC5\",\"#B0BEC5\",\"#B0BEC5\",\"#B0BEC5\",\"#B0BEC5\",\"#B0BEC5\",\"#B0BEC5\",\"#B0BEC5\",\"#B0BEC5\",\"#B0BEC5\",\"#B0BEC5\",\"#B0BEC5\",\"#B0BEC5\",\"#B0BEC5\",\"#B0BEC5\",\"#B0BEC5\",\"#B0BEC5\",\"#B0BEC5\",\"#B0BEC5\",\"#B0BEC5\",\"#B0BEC5\"]]}],\"label\":\"Topic 43\",\"method\":\"update\"},{\"args\":[{\"marker.color\":[[\"#B0BEC5\",\"#B0BEC5\",\"#B0BEC5\",\"#B0BEC5\",\"#B0BEC5\",\"#B0BEC5\",\"#B0BEC5\",\"#B0BEC5\",\"#B0BEC5\",\"#B0BEC5\",\"#B0BEC5\",\"#B0BEC5\",\"#B0BEC5\",\"#B0BEC5\",\"#B0BEC5\",\"#B0BEC5\",\"#B0BEC5\",\"#B0BEC5\",\"#B0BEC5\",\"#B0BEC5\",\"#B0BEC5\",\"#B0BEC5\",\"#B0BEC5\",\"#B0BEC5\",\"#B0BEC5\",\"#B0BEC5\",\"#B0BEC5\",\"#B0BEC5\",\"#B0BEC5\",\"#B0BEC5\",\"#B0BEC5\",\"#B0BEC5\",\"#B0BEC5\",\"#B0BEC5\",\"#B0BEC5\",\"#B0BEC5\",\"#B0BEC5\",\"#B0BEC5\",\"#B0BEC5\",\"#B0BEC5\",\"#B0BEC5\",\"#B0BEC5\",\"#B0BEC5\",\"#B0BEC5\",\"red\",\"#B0BEC5\",\"#B0BEC5\",\"#B0BEC5\",\"#B0BEC5\",\"#B0BEC5\",\"#B0BEC5\",\"#B0BEC5\",\"#B0BEC5\",\"#B0BEC5\",\"#B0BEC5\",\"#B0BEC5\",\"#B0BEC5\",\"#B0BEC5\",\"#B0BEC5\",\"#B0BEC5\",\"#B0BEC5\",\"#B0BEC5\",\"#B0BEC5\",\"#B0BEC5\",\"#B0BEC5\",\"#B0BEC5\",\"#B0BEC5\",\"#B0BEC5\",\"#B0BEC5\",\"#B0BEC5\",\"#B0BEC5\",\"#B0BEC5\",\"#B0BEC5\",\"#B0BEC5\",\"#B0BEC5\",\"#B0BEC5\",\"#B0BEC5\",\"#B0BEC5\",\"#B0BEC5\",\"#B0BEC5\",\"#B0BEC5\",\"#B0BEC5\"]]}],\"label\":\"Topic 44\",\"method\":\"update\"},{\"args\":[{\"marker.color\":[[\"#B0BEC5\",\"#B0BEC5\",\"#B0BEC5\",\"#B0BEC5\",\"#B0BEC5\",\"#B0BEC5\",\"#B0BEC5\",\"#B0BEC5\",\"#B0BEC5\",\"#B0BEC5\",\"#B0BEC5\",\"#B0BEC5\",\"#B0BEC5\",\"#B0BEC5\",\"#B0BEC5\",\"#B0BEC5\",\"#B0BEC5\",\"#B0BEC5\",\"#B0BEC5\",\"#B0BEC5\",\"#B0BEC5\",\"#B0BEC5\",\"#B0BEC5\",\"#B0BEC5\",\"#B0BEC5\",\"#B0BEC5\",\"#B0BEC5\",\"#B0BEC5\",\"#B0BEC5\",\"#B0BEC5\",\"#B0BEC5\",\"#B0BEC5\",\"#B0BEC5\",\"#B0BEC5\",\"#B0BEC5\",\"#B0BEC5\",\"#B0BEC5\",\"#B0BEC5\",\"#B0BEC5\",\"#B0BEC5\",\"#B0BEC5\",\"#B0BEC5\",\"#B0BEC5\",\"#B0BEC5\",\"#B0BEC5\",\"red\",\"#B0BEC5\",\"#B0BEC5\",\"#B0BEC5\",\"#B0BEC5\",\"#B0BEC5\",\"#B0BEC5\",\"#B0BEC5\",\"#B0BEC5\",\"#B0BEC5\",\"#B0BEC5\",\"#B0BEC5\",\"#B0BEC5\",\"#B0BEC5\",\"#B0BEC5\",\"#B0BEC5\",\"#B0BEC5\",\"#B0BEC5\",\"#B0BEC5\",\"#B0BEC5\",\"#B0BEC5\",\"#B0BEC5\",\"#B0BEC5\",\"#B0BEC5\",\"#B0BEC5\",\"#B0BEC5\",\"#B0BEC5\",\"#B0BEC5\",\"#B0BEC5\",\"#B0BEC5\",\"#B0BEC5\",\"#B0BEC5\",\"#B0BEC5\",\"#B0BEC5\",\"#B0BEC5\",\"#B0BEC5\",\"#B0BEC5\"]]}],\"label\":\"Topic 45\",\"method\":\"update\"},{\"args\":[{\"marker.color\":[[\"#B0BEC5\",\"#B0BEC5\",\"#B0BEC5\",\"#B0BEC5\",\"#B0BEC5\",\"#B0BEC5\",\"#B0BEC5\",\"#B0BEC5\",\"#B0BEC5\",\"#B0BEC5\",\"#B0BEC5\",\"#B0BEC5\",\"#B0BEC5\",\"#B0BEC5\",\"#B0BEC5\",\"#B0BEC5\",\"#B0BEC5\",\"#B0BEC5\",\"#B0BEC5\",\"#B0BEC5\",\"#B0BEC5\",\"#B0BEC5\",\"#B0BEC5\",\"#B0BEC5\",\"#B0BEC5\",\"#B0BEC5\",\"#B0BEC5\",\"#B0BEC5\",\"#B0BEC5\",\"#B0BEC5\",\"#B0BEC5\",\"#B0BEC5\",\"#B0BEC5\",\"#B0BEC5\",\"#B0BEC5\",\"#B0BEC5\",\"#B0BEC5\",\"#B0BEC5\",\"#B0BEC5\",\"#B0BEC5\",\"#B0BEC5\",\"#B0BEC5\",\"#B0BEC5\",\"#B0BEC5\",\"#B0BEC5\",\"#B0BEC5\",\"red\",\"#B0BEC5\",\"#B0BEC5\",\"#B0BEC5\",\"#B0BEC5\",\"#B0BEC5\",\"#B0BEC5\",\"#B0BEC5\",\"#B0BEC5\",\"#B0BEC5\",\"#B0BEC5\",\"#B0BEC5\",\"#B0BEC5\",\"#B0BEC5\",\"#B0BEC5\",\"#B0BEC5\",\"#B0BEC5\",\"#B0BEC5\",\"#B0BEC5\",\"#B0BEC5\",\"#B0BEC5\",\"#B0BEC5\",\"#B0BEC5\",\"#B0BEC5\",\"#B0BEC5\",\"#B0BEC5\",\"#B0BEC5\",\"#B0BEC5\",\"#B0BEC5\",\"#B0BEC5\",\"#B0BEC5\",\"#B0BEC5\",\"#B0BEC5\",\"#B0BEC5\",\"#B0BEC5\",\"#B0BEC5\"]]}],\"label\":\"Topic 46\",\"method\":\"update\"},{\"args\":[{\"marker.color\":[[\"#B0BEC5\",\"#B0BEC5\",\"#B0BEC5\",\"#B0BEC5\",\"#B0BEC5\",\"#B0BEC5\",\"#B0BEC5\",\"#B0BEC5\",\"#B0BEC5\",\"#B0BEC5\",\"#B0BEC5\",\"#B0BEC5\",\"#B0BEC5\",\"#B0BEC5\",\"#B0BEC5\",\"#B0BEC5\",\"#B0BEC5\",\"#B0BEC5\",\"#B0BEC5\",\"#B0BEC5\",\"#B0BEC5\",\"#B0BEC5\",\"#B0BEC5\",\"#B0BEC5\",\"#B0BEC5\",\"#B0BEC5\",\"#B0BEC5\",\"#B0BEC5\",\"#B0BEC5\",\"#B0BEC5\",\"#B0BEC5\",\"#B0BEC5\",\"#B0BEC5\",\"#B0BEC5\",\"#B0BEC5\",\"#B0BEC5\",\"#B0BEC5\",\"#B0BEC5\",\"#B0BEC5\",\"#B0BEC5\",\"#B0BEC5\",\"#B0BEC5\",\"#B0BEC5\",\"#B0BEC5\",\"#B0BEC5\",\"#B0BEC5\",\"#B0BEC5\",\"red\",\"#B0BEC5\",\"#B0BEC5\",\"#B0BEC5\",\"#B0BEC5\",\"#B0BEC5\",\"#B0BEC5\",\"#B0BEC5\",\"#B0BEC5\",\"#B0BEC5\",\"#B0BEC5\",\"#B0BEC5\",\"#B0BEC5\",\"#B0BEC5\",\"#B0BEC5\",\"#B0BEC5\",\"#B0BEC5\",\"#B0BEC5\",\"#B0BEC5\",\"#B0BEC5\",\"#B0BEC5\",\"#B0BEC5\",\"#B0BEC5\",\"#B0BEC5\",\"#B0BEC5\",\"#B0BEC5\",\"#B0BEC5\",\"#B0BEC5\",\"#B0BEC5\",\"#B0BEC5\",\"#B0BEC5\",\"#B0BEC5\",\"#B0BEC5\",\"#B0BEC5\",\"#B0BEC5\"]]}],\"label\":\"Topic 47\",\"method\":\"update\"},{\"args\":[{\"marker.color\":[[\"#B0BEC5\",\"#B0BEC5\",\"#B0BEC5\",\"#B0BEC5\",\"#B0BEC5\",\"#B0BEC5\",\"#B0BEC5\",\"#B0BEC5\",\"#B0BEC5\",\"#B0BEC5\",\"#B0BEC5\",\"#B0BEC5\",\"#B0BEC5\",\"#B0BEC5\",\"#B0BEC5\",\"#B0BEC5\",\"#B0BEC5\",\"#B0BEC5\",\"#B0BEC5\",\"#B0BEC5\",\"#B0BEC5\",\"#B0BEC5\",\"#B0BEC5\",\"#B0BEC5\",\"#B0BEC5\",\"#B0BEC5\",\"#B0BEC5\",\"#B0BEC5\",\"#B0BEC5\",\"#B0BEC5\",\"#B0BEC5\",\"#B0BEC5\",\"#B0BEC5\",\"#B0BEC5\",\"#B0BEC5\",\"#B0BEC5\",\"#B0BEC5\",\"#B0BEC5\",\"#B0BEC5\",\"#B0BEC5\",\"#B0BEC5\",\"#B0BEC5\",\"#B0BEC5\",\"#B0BEC5\",\"#B0BEC5\",\"#B0BEC5\",\"#B0BEC5\",\"#B0BEC5\",\"red\",\"#B0BEC5\",\"#B0BEC5\",\"#B0BEC5\",\"#B0BEC5\",\"#B0BEC5\",\"#B0BEC5\",\"#B0BEC5\",\"#B0BEC5\",\"#B0BEC5\",\"#B0BEC5\",\"#B0BEC5\",\"#B0BEC5\",\"#B0BEC5\",\"#B0BEC5\",\"#B0BEC5\",\"#B0BEC5\",\"#B0BEC5\",\"#B0BEC5\",\"#B0BEC5\",\"#B0BEC5\",\"#B0BEC5\",\"#B0BEC5\",\"#B0BEC5\",\"#B0BEC5\",\"#B0BEC5\",\"#B0BEC5\",\"#B0BEC5\",\"#B0BEC5\",\"#B0BEC5\",\"#B0BEC5\",\"#B0BEC5\",\"#B0BEC5\",\"#B0BEC5\"]]}],\"label\":\"Topic 48\",\"method\":\"update\"},{\"args\":[{\"marker.color\":[[\"#B0BEC5\",\"#B0BEC5\",\"#B0BEC5\",\"#B0BEC5\",\"#B0BEC5\",\"#B0BEC5\",\"#B0BEC5\",\"#B0BEC5\",\"#B0BEC5\",\"#B0BEC5\",\"#B0BEC5\",\"#B0BEC5\",\"#B0BEC5\",\"#B0BEC5\",\"#B0BEC5\",\"#B0BEC5\",\"#B0BEC5\",\"#B0BEC5\",\"#B0BEC5\",\"#B0BEC5\",\"#B0BEC5\",\"#B0BEC5\",\"#B0BEC5\",\"#B0BEC5\",\"#B0BEC5\",\"#B0BEC5\",\"#B0BEC5\",\"#B0BEC5\",\"#B0BEC5\",\"#B0BEC5\",\"#B0BEC5\",\"#B0BEC5\",\"#B0BEC5\",\"#B0BEC5\",\"#B0BEC5\",\"#B0BEC5\",\"#B0BEC5\",\"#B0BEC5\",\"#B0BEC5\",\"#B0BEC5\",\"#B0BEC5\",\"#B0BEC5\",\"#B0BEC5\",\"#B0BEC5\",\"#B0BEC5\",\"#B0BEC5\",\"#B0BEC5\",\"#B0BEC5\",\"#B0BEC5\",\"red\",\"#B0BEC5\",\"#B0BEC5\",\"#B0BEC5\",\"#B0BEC5\",\"#B0BEC5\",\"#B0BEC5\",\"#B0BEC5\",\"#B0BEC5\",\"#B0BEC5\",\"#B0BEC5\",\"#B0BEC5\",\"#B0BEC5\",\"#B0BEC5\",\"#B0BEC5\",\"#B0BEC5\",\"#B0BEC5\",\"#B0BEC5\",\"#B0BEC5\",\"#B0BEC5\",\"#B0BEC5\",\"#B0BEC5\",\"#B0BEC5\",\"#B0BEC5\",\"#B0BEC5\",\"#B0BEC5\",\"#B0BEC5\",\"#B0BEC5\",\"#B0BEC5\",\"#B0BEC5\",\"#B0BEC5\",\"#B0BEC5\",\"#B0BEC5\"]]}],\"label\":\"Topic 49\",\"method\":\"update\"},{\"args\":[{\"marker.color\":[[\"#B0BEC5\",\"#B0BEC5\",\"#B0BEC5\",\"#B0BEC5\",\"#B0BEC5\",\"#B0BEC5\",\"#B0BEC5\",\"#B0BEC5\",\"#B0BEC5\",\"#B0BEC5\",\"#B0BEC5\",\"#B0BEC5\",\"#B0BEC5\",\"#B0BEC5\",\"#B0BEC5\",\"#B0BEC5\",\"#B0BEC5\",\"#B0BEC5\",\"#B0BEC5\",\"#B0BEC5\",\"#B0BEC5\",\"#B0BEC5\",\"#B0BEC5\",\"#B0BEC5\",\"#B0BEC5\",\"#B0BEC5\",\"#B0BEC5\",\"#B0BEC5\",\"#B0BEC5\",\"#B0BEC5\",\"#B0BEC5\",\"#B0BEC5\",\"#B0BEC5\",\"#B0BEC5\",\"#B0BEC5\",\"#B0BEC5\",\"#B0BEC5\",\"#B0BEC5\",\"#B0BEC5\",\"#B0BEC5\",\"#B0BEC5\",\"#B0BEC5\",\"#B0BEC5\",\"#B0BEC5\",\"#B0BEC5\",\"#B0BEC5\",\"#B0BEC5\",\"#B0BEC5\",\"#B0BEC5\",\"#B0BEC5\",\"red\",\"#B0BEC5\",\"#B0BEC5\",\"#B0BEC5\",\"#B0BEC5\",\"#B0BEC5\",\"#B0BEC5\",\"#B0BEC5\",\"#B0BEC5\",\"#B0BEC5\",\"#B0BEC5\",\"#B0BEC5\",\"#B0BEC5\",\"#B0BEC5\",\"#B0BEC5\",\"#B0BEC5\",\"#B0BEC5\",\"#B0BEC5\",\"#B0BEC5\",\"#B0BEC5\",\"#B0BEC5\",\"#B0BEC5\",\"#B0BEC5\",\"#B0BEC5\",\"#B0BEC5\",\"#B0BEC5\",\"#B0BEC5\",\"#B0BEC5\",\"#B0BEC5\",\"#B0BEC5\",\"#B0BEC5\",\"#B0BEC5\"]]}],\"label\":\"Topic 50\",\"method\":\"update\"},{\"args\":[{\"marker.color\":[[\"#B0BEC5\",\"#B0BEC5\",\"#B0BEC5\",\"#B0BEC5\",\"#B0BEC5\",\"#B0BEC5\",\"#B0BEC5\",\"#B0BEC5\",\"#B0BEC5\",\"#B0BEC5\",\"#B0BEC5\",\"#B0BEC5\",\"#B0BEC5\",\"#B0BEC5\",\"#B0BEC5\",\"#B0BEC5\",\"#B0BEC5\",\"#B0BEC5\",\"#B0BEC5\",\"#B0BEC5\",\"#B0BEC5\",\"#B0BEC5\",\"#B0BEC5\",\"#B0BEC5\",\"#B0BEC5\",\"#B0BEC5\",\"#B0BEC5\",\"#B0BEC5\",\"#B0BEC5\",\"#B0BEC5\",\"#B0BEC5\",\"#B0BEC5\",\"#B0BEC5\",\"#B0BEC5\",\"#B0BEC5\",\"#B0BEC5\",\"#B0BEC5\",\"#B0BEC5\",\"#B0BEC5\",\"#B0BEC5\",\"#B0BEC5\",\"#B0BEC5\",\"#B0BEC5\",\"#B0BEC5\",\"#B0BEC5\",\"#B0BEC5\",\"#B0BEC5\",\"#B0BEC5\",\"#B0BEC5\",\"#B0BEC5\",\"#B0BEC5\",\"red\",\"#B0BEC5\",\"#B0BEC5\",\"#B0BEC5\",\"#B0BEC5\",\"#B0BEC5\",\"#B0BEC5\",\"#B0BEC5\",\"#B0BEC5\",\"#B0BEC5\",\"#B0BEC5\",\"#B0BEC5\",\"#B0BEC5\",\"#B0BEC5\",\"#B0BEC5\",\"#B0BEC5\",\"#B0BEC5\",\"#B0BEC5\",\"#B0BEC5\",\"#B0BEC5\",\"#B0BEC5\",\"#B0BEC5\",\"#B0BEC5\",\"#B0BEC5\",\"#B0BEC5\",\"#B0BEC5\",\"#B0BEC5\",\"#B0BEC5\",\"#B0BEC5\",\"#B0BEC5\",\"#B0BEC5\"]]}],\"label\":\"Topic 51\",\"method\":\"update\"},{\"args\":[{\"marker.color\":[[\"#B0BEC5\",\"#B0BEC5\",\"#B0BEC5\",\"#B0BEC5\",\"#B0BEC5\",\"#B0BEC5\",\"#B0BEC5\",\"#B0BEC5\",\"#B0BEC5\",\"#B0BEC5\",\"#B0BEC5\",\"#B0BEC5\",\"#B0BEC5\",\"#B0BEC5\",\"#B0BEC5\",\"#B0BEC5\",\"#B0BEC5\",\"#B0BEC5\",\"#B0BEC5\",\"#B0BEC5\",\"#B0BEC5\",\"#B0BEC5\",\"#B0BEC5\",\"#B0BEC5\",\"#B0BEC5\",\"#B0BEC5\",\"#B0BEC5\",\"#B0BEC5\",\"#B0BEC5\",\"#B0BEC5\",\"#B0BEC5\",\"#B0BEC5\",\"#B0BEC5\",\"#B0BEC5\",\"#B0BEC5\",\"#B0BEC5\",\"#B0BEC5\",\"#B0BEC5\",\"#B0BEC5\",\"#B0BEC5\",\"#B0BEC5\",\"#B0BEC5\",\"#B0BEC5\",\"#B0BEC5\",\"#B0BEC5\",\"#B0BEC5\",\"#B0BEC5\",\"#B0BEC5\",\"#B0BEC5\",\"#B0BEC5\",\"#B0BEC5\",\"#B0BEC5\",\"red\",\"#B0BEC5\",\"#B0BEC5\",\"#B0BEC5\",\"#B0BEC5\",\"#B0BEC5\",\"#B0BEC5\",\"#B0BEC5\",\"#B0BEC5\",\"#B0BEC5\",\"#B0BEC5\",\"#B0BEC5\",\"#B0BEC5\",\"#B0BEC5\",\"#B0BEC5\",\"#B0BEC5\",\"#B0BEC5\",\"#B0BEC5\",\"#B0BEC5\",\"#B0BEC5\",\"#B0BEC5\",\"#B0BEC5\",\"#B0BEC5\",\"#B0BEC5\",\"#B0BEC5\",\"#B0BEC5\",\"#B0BEC5\",\"#B0BEC5\",\"#B0BEC5\",\"#B0BEC5\"]]}],\"label\":\"Topic 52\",\"method\":\"update\"},{\"args\":[{\"marker.color\":[[\"#B0BEC5\",\"#B0BEC5\",\"#B0BEC5\",\"#B0BEC5\",\"#B0BEC5\",\"#B0BEC5\",\"#B0BEC5\",\"#B0BEC5\",\"#B0BEC5\",\"#B0BEC5\",\"#B0BEC5\",\"#B0BEC5\",\"#B0BEC5\",\"#B0BEC5\",\"#B0BEC5\",\"#B0BEC5\",\"#B0BEC5\",\"#B0BEC5\",\"#B0BEC5\",\"#B0BEC5\",\"#B0BEC5\",\"#B0BEC5\",\"#B0BEC5\",\"#B0BEC5\",\"#B0BEC5\",\"#B0BEC5\",\"#B0BEC5\",\"#B0BEC5\",\"#B0BEC5\",\"#B0BEC5\",\"#B0BEC5\",\"#B0BEC5\",\"#B0BEC5\",\"#B0BEC5\",\"#B0BEC5\",\"#B0BEC5\",\"#B0BEC5\",\"#B0BEC5\",\"#B0BEC5\",\"#B0BEC5\",\"#B0BEC5\",\"#B0BEC5\",\"#B0BEC5\",\"#B0BEC5\",\"#B0BEC5\",\"#B0BEC5\",\"#B0BEC5\",\"#B0BEC5\",\"#B0BEC5\",\"#B0BEC5\",\"#B0BEC5\",\"#B0BEC5\",\"#B0BEC5\",\"red\",\"#B0BEC5\",\"#B0BEC5\",\"#B0BEC5\",\"#B0BEC5\",\"#B0BEC5\",\"#B0BEC5\",\"#B0BEC5\",\"#B0BEC5\",\"#B0BEC5\",\"#B0BEC5\",\"#B0BEC5\",\"#B0BEC5\",\"#B0BEC5\",\"#B0BEC5\",\"#B0BEC5\",\"#B0BEC5\",\"#B0BEC5\",\"#B0BEC5\",\"#B0BEC5\",\"#B0BEC5\",\"#B0BEC5\",\"#B0BEC5\",\"#B0BEC5\",\"#B0BEC5\",\"#B0BEC5\",\"#B0BEC5\",\"#B0BEC5\",\"#B0BEC5\"]]}],\"label\":\"Topic 53\",\"method\":\"update\"},{\"args\":[{\"marker.color\":[[\"#B0BEC5\",\"#B0BEC5\",\"#B0BEC5\",\"#B0BEC5\",\"#B0BEC5\",\"#B0BEC5\",\"#B0BEC5\",\"#B0BEC5\",\"#B0BEC5\",\"#B0BEC5\",\"#B0BEC5\",\"#B0BEC5\",\"#B0BEC5\",\"#B0BEC5\",\"#B0BEC5\",\"#B0BEC5\",\"#B0BEC5\",\"#B0BEC5\",\"#B0BEC5\",\"#B0BEC5\",\"#B0BEC5\",\"#B0BEC5\",\"#B0BEC5\",\"#B0BEC5\",\"#B0BEC5\",\"#B0BEC5\",\"#B0BEC5\",\"#B0BEC5\",\"#B0BEC5\",\"#B0BEC5\",\"#B0BEC5\",\"#B0BEC5\",\"#B0BEC5\",\"#B0BEC5\",\"#B0BEC5\",\"#B0BEC5\",\"#B0BEC5\",\"#B0BEC5\",\"#B0BEC5\",\"#B0BEC5\",\"#B0BEC5\",\"#B0BEC5\",\"#B0BEC5\",\"#B0BEC5\",\"#B0BEC5\",\"#B0BEC5\",\"#B0BEC5\",\"#B0BEC5\",\"#B0BEC5\",\"#B0BEC5\",\"#B0BEC5\",\"#B0BEC5\",\"#B0BEC5\",\"#B0BEC5\",\"red\",\"#B0BEC5\",\"#B0BEC5\",\"#B0BEC5\",\"#B0BEC5\",\"#B0BEC5\",\"#B0BEC5\",\"#B0BEC5\",\"#B0BEC5\",\"#B0BEC5\",\"#B0BEC5\",\"#B0BEC5\",\"#B0BEC5\",\"#B0BEC5\",\"#B0BEC5\",\"#B0BEC5\",\"#B0BEC5\",\"#B0BEC5\",\"#B0BEC5\",\"#B0BEC5\",\"#B0BEC5\",\"#B0BEC5\",\"#B0BEC5\",\"#B0BEC5\",\"#B0BEC5\",\"#B0BEC5\",\"#B0BEC5\",\"#B0BEC5\"]]}],\"label\":\"Topic 54\",\"method\":\"update\"},{\"args\":[{\"marker.color\":[[\"#B0BEC5\",\"#B0BEC5\",\"#B0BEC5\",\"#B0BEC5\",\"#B0BEC5\",\"#B0BEC5\",\"#B0BEC5\",\"#B0BEC5\",\"#B0BEC5\",\"#B0BEC5\",\"#B0BEC5\",\"#B0BEC5\",\"#B0BEC5\",\"#B0BEC5\",\"#B0BEC5\",\"#B0BEC5\",\"#B0BEC5\",\"#B0BEC5\",\"#B0BEC5\",\"#B0BEC5\",\"#B0BEC5\",\"#B0BEC5\",\"#B0BEC5\",\"#B0BEC5\",\"#B0BEC5\",\"#B0BEC5\",\"#B0BEC5\",\"#B0BEC5\",\"#B0BEC5\",\"#B0BEC5\",\"#B0BEC5\",\"#B0BEC5\",\"#B0BEC5\",\"#B0BEC5\",\"#B0BEC5\",\"#B0BEC5\",\"#B0BEC5\",\"#B0BEC5\",\"#B0BEC5\",\"#B0BEC5\",\"#B0BEC5\",\"#B0BEC5\",\"#B0BEC5\",\"#B0BEC5\",\"#B0BEC5\",\"#B0BEC5\",\"#B0BEC5\",\"#B0BEC5\",\"#B0BEC5\",\"#B0BEC5\",\"#B0BEC5\",\"#B0BEC5\",\"#B0BEC5\",\"#B0BEC5\",\"#B0BEC5\",\"red\",\"#B0BEC5\",\"#B0BEC5\",\"#B0BEC5\",\"#B0BEC5\",\"#B0BEC5\",\"#B0BEC5\",\"#B0BEC5\",\"#B0BEC5\",\"#B0BEC5\",\"#B0BEC5\",\"#B0BEC5\",\"#B0BEC5\",\"#B0BEC5\",\"#B0BEC5\",\"#B0BEC5\",\"#B0BEC5\",\"#B0BEC5\",\"#B0BEC5\",\"#B0BEC5\",\"#B0BEC5\",\"#B0BEC5\",\"#B0BEC5\",\"#B0BEC5\",\"#B0BEC5\",\"#B0BEC5\",\"#B0BEC5\"]]}],\"label\":\"Topic 55\",\"method\":\"update\"},{\"args\":[{\"marker.color\":[[\"#B0BEC5\",\"#B0BEC5\",\"#B0BEC5\",\"#B0BEC5\",\"#B0BEC5\",\"#B0BEC5\",\"#B0BEC5\",\"#B0BEC5\",\"#B0BEC5\",\"#B0BEC5\",\"#B0BEC5\",\"#B0BEC5\",\"#B0BEC5\",\"#B0BEC5\",\"#B0BEC5\",\"#B0BEC5\",\"#B0BEC5\",\"#B0BEC5\",\"#B0BEC5\",\"#B0BEC5\",\"#B0BEC5\",\"#B0BEC5\",\"#B0BEC5\",\"#B0BEC5\",\"#B0BEC5\",\"#B0BEC5\",\"#B0BEC5\",\"#B0BEC5\",\"#B0BEC5\",\"#B0BEC5\",\"#B0BEC5\",\"#B0BEC5\",\"#B0BEC5\",\"#B0BEC5\",\"#B0BEC5\",\"#B0BEC5\",\"#B0BEC5\",\"#B0BEC5\",\"#B0BEC5\",\"#B0BEC5\",\"#B0BEC5\",\"#B0BEC5\",\"#B0BEC5\",\"#B0BEC5\",\"#B0BEC5\",\"#B0BEC5\",\"#B0BEC5\",\"#B0BEC5\",\"#B0BEC5\",\"#B0BEC5\",\"#B0BEC5\",\"#B0BEC5\",\"#B0BEC5\",\"#B0BEC5\",\"#B0BEC5\",\"#B0BEC5\",\"red\",\"#B0BEC5\",\"#B0BEC5\",\"#B0BEC5\",\"#B0BEC5\",\"#B0BEC5\",\"#B0BEC5\",\"#B0BEC5\",\"#B0BEC5\",\"#B0BEC5\",\"#B0BEC5\",\"#B0BEC5\",\"#B0BEC5\",\"#B0BEC5\",\"#B0BEC5\",\"#B0BEC5\",\"#B0BEC5\",\"#B0BEC5\",\"#B0BEC5\",\"#B0BEC5\",\"#B0BEC5\",\"#B0BEC5\",\"#B0BEC5\",\"#B0BEC5\",\"#B0BEC5\",\"#B0BEC5\"]]}],\"label\":\"Topic 56\",\"method\":\"update\"},{\"args\":[{\"marker.color\":[[\"#B0BEC5\",\"#B0BEC5\",\"#B0BEC5\",\"#B0BEC5\",\"#B0BEC5\",\"#B0BEC5\",\"#B0BEC5\",\"#B0BEC5\",\"#B0BEC5\",\"#B0BEC5\",\"#B0BEC5\",\"#B0BEC5\",\"#B0BEC5\",\"#B0BEC5\",\"#B0BEC5\",\"#B0BEC5\",\"#B0BEC5\",\"#B0BEC5\",\"#B0BEC5\",\"#B0BEC5\",\"#B0BEC5\",\"#B0BEC5\",\"#B0BEC5\",\"#B0BEC5\",\"#B0BEC5\",\"#B0BEC5\",\"#B0BEC5\",\"#B0BEC5\",\"#B0BEC5\",\"#B0BEC5\",\"#B0BEC5\",\"#B0BEC5\",\"#B0BEC5\",\"#B0BEC5\",\"#B0BEC5\",\"#B0BEC5\",\"#B0BEC5\",\"#B0BEC5\",\"#B0BEC5\",\"#B0BEC5\",\"#B0BEC5\",\"#B0BEC5\",\"#B0BEC5\",\"#B0BEC5\",\"#B0BEC5\",\"#B0BEC5\",\"#B0BEC5\",\"#B0BEC5\",\"#B0BEC5\",\"#B0BEC5\",\"#B0BEC5\",\"#B0BEC5\",\"#B0BEC5\",\"#B0BEC5\",\"#B0BEC5\",\"#B0BEC5\",\"#B0BEC5\",\"red\",\"#B0BEC5\",\"#B0BEC5\",\"#B0BEC5\",\"#B0BEC5\",\"#B0BEC5\",\"#B0BEC5\",\"#B0BEC5\",\"#B0BEC5\",\"#B0BEC5\",\"#B0BEC5\",\"#B0BEC5\",\"#B0BEC5\",\"#B0BEC5\",\"#B0BEC5\",\"#B0BEC5\",\"#B0BEC5\",\"#B0BEC5\",\"#B0BEC5\",\"#B0BEC5\",\"#B0BEC5\",\"#B0BEC5\",\"#B0BEC5\",\"#B0BEC5\",\"#B0BEC5\"]]}],\"label\":\"Topic 57\",\"method\":\"update\"},{\"args\":[{\"marker.color\":[[\"#B0BEC5\",\"#B0BEC5\",\"#B0BEC5\",\"#B0BEC5\",\"#B0BEC5\",\"#B0BEC5\",\"#B0BEC5\",\"#B0BEC5\",\"#B0BEC5\",\"#B0BEC5\",\"#B0BEC5\",\"#B0BEC5\",\"#B0BEC5\",\"#B0BEC5\",\"#B0BEC5\",\"#B0BEC5\",\"#B0BEC5\",\"#B0BEC5\",\"#B0BEC5\",\"#B0BEC5\",\"#B0BEC5\",\"#B0BEC5\",\"#B0BEC5\",\"#B0BEC5\",\"#B0BEC5\",\"#B0BEC5\",\"#B0BEC5\",\"#B0BEC5\",\"#B0BEC5\",\"#B0BEC5\",\"#B0BEC5\",\"#B0BEC5\",\"#B0BEC5\",\"#B0BEC5\",\"#B0BEC5\",\"#B0BEC5\",\"#B0BEC5\",\"#B0BEC5\",\"#B0BEC5\",\"#B0BEC5\",\"#B0BEC5\",\"#B0BEC5\",\"#B0BEC5\",\"#B0BEC5\",\"#B0BEC5\",\"#B0BEC5\",\"#B0BEC5\",\"#B0BEC5\",\"#B0BEC5\",\"#B0BEC5\",\"#B0BEC5\",\"#B0BEC5\",\"#B0BEC5\",\"#B0BEC5\",\"#B0BEC5\",\"#B0BEC5\",\"#B0BEC5\",\"#B0BEC5\",\"red\",\"#B0BEC5\",\"#B0BEC5\",\"#B0BEC5\",\"#B0BEC5\",\"#B0BEC5\",\"#B0BEC5\",\"#B0BEC5\",\"#B0BEC5\",\"#B0BEC5\",\"#B0BEC5\",\"#B0BEC5\",\"#B0BEC5\",\"#B0BEC5\",\"#B0BEC5\",\"#B0BEC5\",\"#B0BEC5\",\"#B0BEC5\",\"#B0BEC5\",\"#B0BEC5\",\"#B0BEC5\",\"#B0BEC5\",\"#B0BEC5\",\"#B0BEC5\"]]}],\"label\":\"Topic 58\",\"method\":\"update\"},{\"args\":[{\"marker.color\":[[\"#B0BEC5\",\"#B0BEC5\",\"#B0BEC5\",\"#B0BEC5\",\"#B0BEC5\",\"#B0BEC5\",\"#B0BEC5\",\"#B0BEC5\",\"#B0BEC5\",\"#B0BEC5\",\"#B0BEC5\",\"#B0BEC5\",\"#B0BEC5\",\"#B0BEC5\",\"#B0BEC5\",\"#B0BEC5\",\"#B0BEC5\",\"#B0BEC5\",\"#B0BEC5\",\"#B0BEC5\",\"#B0BEC5\",\"#B0BEC5\",\"#B0BEC5\",\"#B0BEC5\",\"#B0BEC5\",\"#B0BEC5\",\"#B0BEC5\",\"#B0BEC5\",\"#B0BEC5\",\"#B0BEC5\",\"#B0BEC5\",\"#B0BEC5\",\"#B0BEC5\",\"#B0BEC5\",\"#B0BEC5\",\"#B0BEC5\",\"#B0BEC5\",\"#B0BEC5\",\"#B0BEC5\",\"#B0BEC5\",\"#B0BEC5\",\"#B0BEC5\",\"#B0BEC5\",\"#B0BEC5\",\"#B0BEC5\",\"#B0BEC5\",\"#B0BEC5\",\"#B0BEC5\",\"#B0BEC5\",\"#B0BEC5\",\"#B0BEC5\",\"#B0BEC5\",\"#B0BEC5\",\"#B0BEC5\",\"#B0BEC5\",\"#B0BEC5\",\"#B0BEC5\",\"#B0BEC5\",\"#B0BEC5\",\"red\",\"#B0BEC5\",\"#B0BEC5\",\"#B0BEC5\",\"#B0BEC5\",\"#B0BEC5\",\"#B0BEC5\",\"#B0BEC5\",\"#B0BEC5\",\"#B0BEC5\",\"#B0BEC5\",\"#B0BEC5\",\"#B0BEC5\",\"#B0BEC5\",\"#B0BEC5\",\"#B0BEC5\",\"#B0BEC5\",\"#B0BEC5\",\"#B0BEC5\",\"#B0BEC5\",\"#B0BEC5\",\"#B0BEC5\",\"#B0BEC5\"]]}],\"label\":\"Topic 59\",\"method\":\"update\"},{\"args\":[{\"marker.color\":[[\"#B0BEC5\",\"#B0BEC5\",\"#B0BEC5\",\"#B0BEC5\",\"#B0BEC5\",\"#B0BEC5\",\"#B0BEC5\",\"#B0BEC5\",\"#B0BEC5\",\"#B0BEC5\",\"#B0BEC5\",\"#B0BEC5\",\"#B0BEC5\",\"#B0BEC5\",\"#B0BEC5\",\"#B0BEC5\",\"#B0BEC5\",\"#B0BEC5\",\"#B0BEC5\",\"#B0BEC5\",\"#B0BEC5\",\"#B0BEC5\",\"#B0BEC5\",\"#B0BEC5\",\"#B0BEC5\",\"#B0BEC5\",\"#B0BEC5\",\"#B0BEC5\",\"#B0BEC5\",\"#B0BEC5\",\"#B0BEC5\",\"#B0BEC5\",\"#B0BEC5\",\"#B0BEC5\",\"#B0BEC5\",\"#B0BEC5\",\"#B0BEC5\",\"#B0BEC5\",\"#B0BEC5\",\"#B0BEC5\",\"#B0BEC5\",\"#B0BEC5\",\"#B0BEC5\",\"#B0BEC5\",\"#B0BEC5\",\"#B0BEC5\",\"#B0BEC5\",\"#B0BEC5\",\"#B0BEC5\",\"#B0BEC5\",\"#B0BEC5\",\"#B0BEC5\",\"#B0BEC5\",\"#B0BEC5\",\"#B0BEC5\",\"#B0BEC5\",\"#B0BEC5\",\"#B0BEC5\",\"#B0BEC5\",\"#B0BEC5\",\"red\",\"#B0BEC5\",\"#B0BEC5\",\"#B0BEC5\",\"#B0BEC5\",\"#B0BEC5\",\"#B0BEC5\",\"#B0BEC5\",\"#B0BEC5\",\"#B0BEC5\",\"#B0BEC5\",\"#B0BEC5\",\"#B0BEC5\",\"#B0BEC5\",\"#B0BEC5\",\"#B0BEC5\",\"#B0BEC5\",\"#B0BEC5\",\"#B0BEC5\",\"#B0BEC5\",\"#B0BEC5\",\"#B0BEC5\"]]}],\"label\":\"Topic 60\",\"method\":\"update\"},{\"args\":[{\"marker.color\":[[\"#B0BEC5\",\"#B0BEC5\",\"#B0BEC5\",\"#B0BEC5\",\"#B0BEC5\",\"#B0BEC5\",\"#B0BEC5\",\"#B0BEC5\",\"#B0BEC5\",\"#B0BEC5\",\"#B0BEC5\",\"#B0BEC5\",\"#B0BEC5\",\"#B0BEC5\",\"#B0BEC5\",\"#B0BEC5\",\"#B0BEC5\",\"#B0BEC5\",\"#B0BEC5\",\"#B0BEC5\",\"#B0BEC5\",\"#B0BEC5\",\"#B0BEC5\",\"#B0BEC5\",\"#B0BEC5\",\"#B0BEC5\",\"#B0BEC5\",\"#B0BEC5\",\"#B0BEC5\",\"#B0BEC5\",\"#B0BEC5\",\"#B0BEC5\",\"#B0BEC5\",\"#B0BEC5\",\"#B0BEC5\",\"#B0BEC5\",\"#B0BEC5\",\"#B0BEC5\",\"#B0BEC5\",\"#B0BEC5\",\"#B0BEC5\",\"#B0BEC5\",\"#B0BEC5\",\"#B0BEC5\",\"#B0BEC5\",\"#B0BEC5\",\"#B0BEC5\",\"#B0BEC5\",\"#B0BEC5\",\"#B0BEC5\",\"#B0BEC5\",\"#B0BEC5\",\"#B0BEC5\",\"#B0BEC5\",\"#B0BEC5\",\"#B0BEC5\",\"#B0BEC5\",\"#B0BEC5\",\"#B0BEC5\",\"#B0BEC5\",\"#B0BEC5\",\"red\",\"#B0BEC5\",\"#B0BEC5\",\"#B0BEC5\",\"#B0BEC5\",\"#B0BEC5\",\"#B0BEC5\",\"#B0BEC5\",\"#B0BEC5\",\"#B0BEC5\",\"#B0BEC5\",\"#B0BEC5\",\"#B0BEC5\",\"#B0BEC5\",\"#B0BEC5\",\"#B0BEC5\",\"#B0BEC5\",\"#B0BEC5\",\"#B0BEC5\",\"#B0BEC5\",\"#B0BEC5\"]]}],\"label\":\"Topic 61\",\"method\":\"update\"},{\"args\":[{\"marker.color\":[[\"#B0BEC5\",\"#B0BEC5\",\"#B0BEC5\",\"#B0BEC5\",\"#B0BEC5\",\"#B0BEC5\",\"#B0BEC5\",\"#B0BEC5\",\"#B0BEC5\",\"#B0BEC5\",\"#B0BEC5\",\"#B0BEC5\",\"#B0BEC5\",\"#B0BEC5\",\"#B0BEC5\",\"#B0BEC5\",\"#B0BEC5\",\"#B0BEC5\",\"#B0BEC5\",\"#B0BEC5\",\"#B0BEC5\",\"#B0BEC5\",\"#B0BEC5\",\"#B0BEC5\",\"#B0BEC5\",\"#B0BEC5\",\"#B0BEC5\",\"#B0BEC5\",\"#B0BEC5\",\"#B0BEC5\",\"#B0BEC5\",\"#B0BEC5\",\"#B0BEC5\",\"#B0BEC5\",\"#B0BEC5\",\"#B0BEC5\",\"#B0BEC5\",\"#B0BEC5\",\"#B0BEC5\",\"#B0BEC5\",\"#B0BEC5\",\"#B0BEC5\",\"#B0BEC5\",\"#B0BEC5\",\"#B0BEC5\",\"#B0BEC5\",\"#B0BEC5\",\"#B0BEC5\",\"#B0BEC5\",\"#B0BEC5\",\"#B0BEC5\",\"#B0BEC5\",\"#B0BEC5\",\"#B0BEC5\",\"#B0BEC5\",\"#B0BEC5\",\"#B0BEC5\",\"#B0BEC5\",\"#B0BEC5\",\"#B0BEC5\",\"#B0BEC5\",\"#B0BEC5\",\"red\",\"#B0BEC5\",\"#B0BEC5\",\"#B0BEC5\",\"#B0BEC5\",\"#B0BEC5\",\"#B0BEC5\",\"#B0BEC5\",\"#B0BEC5\",\"#B0BEC5\",\"#B0BEC5\",\"#B0BEC5\",\"#B0BEC5\",\"#B0BEC5\",\"#B0BEC5\",\"#B0BEC5\",\"#B0BEC5\",\"#B0BEC5\",\"#B0BEC5\",\"#B0BEC5\"]]}],\"label\":\"Topic 62\",\"method\":\"update\"},{\"args\":[{\"marker.color\":[[\"#B0BEC5\",\"#B0BEC5\",\"#B0BEC5\",\"#B0BEC5\",\"#B0BEC5\",\"#B0BEC5\",\"#B0BEC5\",\"#B0BEC5\",\"#B0BEC5\",\"#B0BEC5\",\"#B0BEC5\",\"#B0BEC5\",\"#B0BEC5\",\"#B0BEC5\",\"#B0BEC5\",\"#B0BEC5\",\"#B0BEC5\",\"#B0BEC5\",\"#B0BEC5\",\"#B0BEC5\",\"#B0BEC5\",\"#B0BEC5\",\"#B0BEC5\",\"#B0BEC5\",\"#B0BEC5\",\"#B0BEC5\",\"#B0BEC5\",\"#B0BEC5\",\"#B0BEC5\",\"#B0BEC5\",\"#B0BEC5\",\"#B0BEC5\",\"#B0BEC5\",\"#B0BEC5\",\"#B0BEC5\",\"#B0BEC5\",\"#B0BEC5\",\"#B0BEC5\",\"#B0BEC5\",\"#B0BEC5\",\"#B0BEC5\",\"#B0BEC5\",\"#B0BEC5\",\"#B0BEC5\",\"#B0BEC5\",\"#B0BEC5\",\"#B0BEC5\",\"#B0BEC5\",\"#B0BEC5\",\"#B0BEC5\",\"#B0BEC5\",\"#B0BEC5\",\"#B0BEC5\",\"#B0BEC5\",\"#B0BEC5\",\"#B0BEC5\",\"#B0BEC5\",\"#B0BEC5\",\"#B0BEC5\",\"#B0BEC5\",\"#B0BEC5\",\"#B0BEC5\",\"#B0BEC5\",\"red\",\"#B0BEC5\",\"#B0BEC5\",\"#B0BEC5\",\"#B0BEC5\",\"#B0BEC5\",\"#B0BEC5\",\"#B0BEC5\",\"#B0BEC5\",\"#B0BEC5\",\"#B0BEC5\",\"#B0BEC5\",\"#B0BEC5\",\"#B0BEC5\",\"#B0BEC5\",\"#B0BEC5\",\"#B0BEC5\",\"#B0BEC5\",\"#B0BEC5\"]]}],\"label\":\"Topic 63\",\"method\":\"update\"},{\"args\":[{\"marker.color\":[[\"#B0BEC5\",\"#B0BEC5\",\"#B0BEC5\",\"#B0BEC5\",\"#B0BEC5\",\"#B0BEC5\",\"#B0BEC5\",\"#B0BEC5\",\"#B0BEC5\",\"#B0BEC5\",\"#B0BEC5\",\"#B0BEC5\",\"#B0BEC5\",\"#B0BEC5\",\"#B0BEC5\",\"#B0BEC5\",\"#B0BEC5\",\"#B0BEC5\",\"#B0BEC5\",\"#B0BEC5\",\"#B0BEC5\",\"#B0BEC5\",\"#B0BEC5\",\"#B0BEC5\",\"#B0BEC5\",\"#B0BEC5\",\"#B0BEC5\",\"#B0BEC5\",\"#B0BEC5\",\"#B0BEC5\",\"#B0BEC5\",\"#B0BEC5\",\"#B0BEC5\",\"#B0BEC5\",\"#B0BEC5\",\"#B0BEC5\",\"#B0BEC5\",\"#B0BEC5\",\"#B0BEC5\",\"#B0BEC5\",\"#B0BEC5\",\"#B0BEC5\",\"#B0BEC5\",\"#B0BEC5\",\"#B0BEC5\",\"#B0BEC5\",\"#B0BEC5\",\"#B0BEC5\",\"#B0BEC5\",\"#B0BEC5\",\"#B0BEC5\",\"#B0BEC5\",\"#B0BEC5\",\"#B0BEC5\",\"#B0BEC5\",\"#B0BEC5\",\"#B0BEC5\",\"#B0BEC5\",\"#B0BEC5\",\"#B0BEC5\",\"#B0BEC5\",\"#B0BEC5\",\"#B0BEC5\",\"#B0BEC5\",\"red\",\"#B0BEC5\",\"#B0BEC5\",\"#B0BEC5\",\"#B0BEC5\",\"#B0BEC5\",\"#B0BEC5\",\"#B0BEC5\",\"#B0BEC5\",\"#B0BEC5\",\"#B0BEC5\",\"#B0BEC5\",\"#B0BEC5\",\"#B0BEC5\",\"#B0BEC5\",\"#B0BEC5\",\"#B0BEC5\",\"#B0BEC5\"]]}],\"label\":\"Topic 64\",\"method\":\"update\"},{\"args\":[{\"marker.color\":[[\"#B0BEC5\",\"#B0BEC5\",\"#B0BEC5\",\"#B0BEC5\",\"#B0BEC5\",\"#B0BEC5\",\"#B0BEC5\",\"#B0BEC5\",\"#B0BEC5\",\"#B0BEC5\",\"#B0BEC5\",\"#B0BEC5\",\"#B0BEC5\",\"#B0BEC5\",\"#B0BEC5\",\"#B0BEC5\",\"#B0BEC5\",\"#B0BEC5\",\"#B0BEC5\",\"#B0BEC5\",\"#B0BEC5\",\"#B0BEC5\",\"#B0BEC5\",\"#B0BEC5\",\"#B0BEC5\",\"#B0BEC5\",\"#B0BEC5\",\"#B0BEC5\",\"#B0BEC5\",\"#B0BEC5\",\"#B0BEC5\",\"#B0BEC5\",\"#B0BEC5\",\"#B0BEC5\",\"#B0BEC5\",\"#B0BEC5\",\"#B0BEC5\",\"#B0BEC5\",\"#B0BEC5\",\"#B0BEC5\",\"#B0BEC5\",\"#B0BEC5\",\"#B0BEC5\",\"#B0BEC5\",\"#B0BEC5\",\"#B0BEC5\",\"#B0BEC5\",\"#B0BEC5\",\"#B0BEC5\",\"#B0BEC5\",\"#B0BEC5\",\"#B0BEC5\",\"#B0BEC5\",\"#B0BEC5\",\"#B0BEC5\",\"#B0BEC5\",\"#B0BEC5\",\"#B0BEC5\",\"#B0BEC5\",\"#B0BEC5\",\"#B0BEC5\",\"#B0BEC5\",\"#B0BEC5\",\"#B0BEC5\",\"#B0BEC5\",\"red\",\"#B0BEC5\",\"#B0BEC5\",\"#B0BEC5\",\"#B0BEC5\",\"#B0BEC5\",\"#B0BEC5\",\"#B0BEC5\",\"#B0BEC5\",\"#B0BEC5\",\"#B0BEC5\",\"#B0BEC5\",\"#B0BEC5\",\"#B0BEC5\",\"#B0BEC5\",\"#B0BEC5\",\"#B0BEC5\"]]}],\"label\":\"Topic 65\",\"method\":\"update\"},{\"args\":[{\"marker.color\":[[\"#B0BEC5\",\"#B0BEC5\",\"#B0BEC5\",\"#B0BEC5\",\"#B0BEC5\",\"#B0BEC5\",\"#B0BEC5\",\"#B0BEC5\",\"#B0BEC5\",\"#B0BEC5\",\"#B0BEC5\",\"#B0BEC5\",\"#B0BEC5\",\"#B0BEC5\",\"#B0BEC5\",\"#B0BEC5\",\"#B0BEC5\",\"#B0BEC5\",\"#B0BEC5\",\"#B0BEC5\",\"#B0BEC5\",\"#B0BEC5\",\"#B0BEC5\",\"#B0BEC5\",\"#B0BEC5\",\"#B0BEC5\",\"#B0BEC5\",\"#B0BEC5\",\"#B0BEC5\",\"#B0BEC5\",\"#B0BEC5\",\"#B0BEC5\",\"#B0BEC5\",\"#B0BEC5\",\"#B0BEC5\",\"#B0BEC5\",\"#B0BEC5\",\"#B0BEC5\",\"#B0BEC5\",\"#B0BEC5\",\"#B0BEC5\",\"#B0BEC5\",\"#B0BEC5\",\"#B0BEC5\",\"#B0BEC5\",\"#B0BEC5\",\"#B0BEC5\",\"#B0BEC5\",\"#B0BEC5\",\"#B0BEC5\",\"#B0BEC5\",\"#B0BEC5\",\"#B0BEC5\",\"#B0BEC5\",\"#B0BEC5\",\"#B0BEC5\",\"#B0BEC5\",\"#B0BEC5\",\"#B0BEC5\",\"#B0BEC5\",\"#B0BEC5\",\"#B0BEC5\",\"#B0BEC5\",\"#B0BEC5\",\"#B0BEC5\",\"#B0BEC5\",\"red\",\"#B0BEC5\",\"#B0BEC5\",\"#B0BEC5\",\"#B0BEC5\",\"#B0BEC5\",\"#B0BEC5\",\"#B0BEC5\",\"#B0BEC5\",\"#B0BEC5\",\"#B0BEC5\",\"#B0BEC5\",\"#B0BEC5\",\"#B0BEC5\",\"#B0BEC5\",\"#B0BEC5\"]]}],\"label\":\"Topic 66\",\"method\":\"update\"},{\"args\":[{\"marker.color\":[[\"#B0BEC5\",\"#B0BEC5\",\"#B0BEC5\",\"#B0BEC5\",\"#B0BEC5\",\"#B0BEC5\",\"#B0BEC5\",\"#B0BEC5\",\"#B0BEC5\",\"#B0BEC5\",\"#B0BEC5\",\"#B0BEC5\",\"#B0BEC5\",\"#B0BEC5\",\"#B0BEC5\",\"#B0BEC5\",\"#B0BEC5\",\"#B0BEC5\",\"#B0BEC5\",\"#B0BEC5\",\"#B0BEC5\",\"#B0BEC5\",\"#B0BEC5\",\"#B0BEC5\",\"#B0BEC5\",\"#B0BEC5\",\"#B0BEC5\",\"#B0BEC5\",\"#B0BEC5\",\"#B0BEC5\",\"#B0BEC5\",\"#B0BEC5\",\"#B0BEC5\",\"#B0BEC5\",\"#B0BEC5\",\"#B0BEC5\",\"#B0BEC5\",\"#B0BEC5\",\"#B0BEC5\",\"#B0BEC5\",\"#B0BEC5\",\"#B0BEC5\",\"#B0BEC5\",\"#B0BEC5\",\"#B0BEC5\",\"#B0BEC5\",\"#B0BEC5\",\"#B0BEC5\",\"#B0BEC5\",\"#B0BEC5\",\"#B0BEC5\",\"#B0BEC5\",\"#B0BEC5\",\"#B0BEC5\",\"#B0BEC5\",\"#B0BEC5\",\"#B0BEC5\",\"#B0BEC5\",\"#B0BEC5\",\"#B0BEC5\",\"#B0BEC5\",\"#B0BEC5\",\"#B0BEC5\",\"#B0BEC5\",\"#B0BEC5\",\"#B0BEC5\",\"#B0BEC5\",\"red\",\"#B0BEC5\",\"#B0BEC5\",\"#B0BEC5\",\"#B0BEC5\",\"#B0BEC5\",\"#B0BEC5\",\"#B0BEC5\",\"#B0BEC5\",\"#B0BEC5\",\"#B0BEC5\",\"#B0BEC5\",\"#B0BEC5\",\"#B0BEC5\",\"#B0BEC5\"]]}],\"label\":\"Topic 67\",\"method\":\"update\"},{\"args\":[{\"marker.color\":[[\"#B0BEC5\",\"#B0BEC5\",\"#B0BEC5\",\"#B0BEC5\",\"#B0BEC5\",\"#B0BEC5\",\"#B0BEC5\",\"#B0BEC5\",\"#B0BEC5\",\"#B0BEC5\",\"#B0BEC5\",\"#B0BEC5\",\"#B0BEC5\",\"#B0BEC5\",\"#B0BEC5\",\"#B0BEC5\",\"#B0BEC5\",\"#B0BEC5\",\"#B0BEC5\",\"#B0BEC5\",\"#B0BEC5\",\"#B0BEC5\",\"#B0BEC5\",\"#B0BEC5\",\"#B0BEC5\",\"#B0BEC5\",\"#B0BEC5\",\"#B0BEC5\",\"#B0BEC5\",\"#B0BEC5\",\"#B0BEC5\",\"#B0BEC5\",\"#B0BEC5\",\"#B0BEC5\",\"#B0BEC5\",\"#B0BEC5\",\"#B0BEC5\",\"#B0BEC5\",\"#B0BEC5\",\"#B0BEC5\",\"#B0BEC5\",\"#B0BEC5\",\"#B0BEC5\",\"#B0BEC5\",\"#B0BEC5\",\"#B0BEC5\",\"#B0BEC5\",\"#B0BEC5\",\"#B0BEC5\",\"#B0BEC5\",\"#B0BEC5\",\"#B0BEC5\",\"#B0BEC5\",\"#B0BEC5\",\"#B0BEC5\",\"#B0BEC5\",\"#B0BEC5\",\"#B0BEC5\",\"#B0BEC5\",\"#B0BEC5\",\"#B0BEC5\",\"#B0BEC5\",\"#B0BEC5\",\"#B0BEC5\",\"#B0BEC5\",\"#B0BEC5\",\"#B0BEC5\",\"#B0BEC5\",\"red\",\"#B0BEC5\",\"#B0BEC5\",\"#B0BEC5\",\"#B0BEC5\",\"#B0BEC5\",\"#B0BEC5\",\"#B0BEC5\",\"#B0BEC5\",\"#B0BEC5\",\"#B0BEC5\",\"#B0BEC5\",\"#B0BEC5\",\"#B0BEC5\"]]}],\"label\":\"Topic 68\",\"method\":\"update\"},{\"args\":[{\"marker.color\":[[\"#B0BEC5\",\"#B0BEC5\",\"#B0BEC5\",\"#B0BEC5\",\"#B0BEC5\",\"#B0BEC5\",\"#B0BEC5\",\"#B0BEC5\",\"#B0BEC5\",\"#B0BEC5\",\"#B0BEC5\",\"#B0BEC5\",\"#B0BEC5\",\"#B0BEC5\",\"#B0BEC5\",\"#B0BEC5\",\"#B0BEC5\",\"#B0BEC5\",\"#B0BEC5\",\"#B0BEC5\",\"#B0BEC5\",\"#B0BEC5\",\"#B0BEC5\",\"#B0BEC5\",\"#B0BEC5\",\"#B0BEC5\",\"#B0BEC5\",\"#B0BEC5\",\"#B0BEC5\",\"#B0BEC5\",\"#B0BEC5\",\"#B0BEC5\",\"#B0BEC5\",\"#B0BEC5\",\"#B0BEC5\",\"#B0BEC5\",\"#B0BEC5\",\"#B0BEC5\",\"#B0BEC5\",\"#B0BEC5\",\"#B0BEC5\",\"#B0BEC5\",\"#B0BEC5\",\"#B0BEC5\",\"#B0BEC5\",\"#B0BEC5\",\"#B0BEC5\",\"#B0BEC5\",\"#B0BEC5\",\"#B0BEC5\",\"#B0BEC5\",\"#B0BEC5\",\"#B0BEC5\",\"#B0BEC5\",\"#B0BEC5\",\"#B0BEC5\",\"#B0BEC5\",\"#B0BEC5\",\"#B0BEC5\",\"#B0BEC5\",\"#B0BEC5\",\"#B0BEC5\",\"#B0BEC5\",\"#B0BEC5\",\"#B0BEC5\",\"#B0BEC5\",\"#B0BEC5\",\"#B0BEC5\",\"#B0BEC5\",\"red\",\"#B0BEC5\",\"#B0BEC5\",\"#B0BEC5\",\"#B0BEC5\",\"#B0BEC5\",\"#B0BEC5\",\"#B0BEC5\",\"#B0BEC5\",\"#B0BEC5\",\"#B0BEC5\",\"#B0BEC5\",\"#B0BEC5\"]]}],\"label\":\"Topic 69\",\"method\":\"update\"},{\"args\":[{\"marker.color\":[[\"#B0BEC5\",\"#B0BEC5\",\"#B0BEC5\",\"#B0BEC5\",\"#B0BEC5\",\"#B0BEC5\",\"#B0BEC5\",\"#B0BEC5\",\"#B0BEC5\",\"#B0BEC5\",\"#B0BEC5\",\"#B0BEC5\",\"#B0BEC5\",\"#B0BEC5\",\"#B0BEC5\",\"#B0BEC5\",\"#B0BEC5\",\"#B0BEC5\",\"#B0BEC5\",\"#B0BEC5\",\"#B0BEC5\",\"#B0BEC5\",\"#B0BEC5\",\"#B0BEC5\",\"#B0BEC5\",\"#B0BEC5\",\"#B0BEC5\",\"#B0BEC5\",\"#B0BEC5\",\"#B0BEC5\",\"#B0BEC5\",\"#B0BEC5\",\"#B0BEC5\",\"#B0BEC5\",\"#B0BEC5\",\"#B0BEC5\",\"#B0BEC5\",\"#B0BEC5\",\"#B0BEC5\",\"#B0BEC5\",\"#B0BEC5\",\"#B0BEC5\",\"#B0BEC5\",\"#B0BEC5\",\"#B0BEC5\",\"#B0BEC5\",\"#B0BEC5\",\"#B0BEC5\",\"#B0BEC5\",\"#B0BEC5\",\"#B0BEC5\",\"#B0BEC5\",\"#B0BEC5\",\"#B0BEC5\",\"#B0BEC5\",\"#B0BEC5\",\"#B0BEC5\",\"#B0BEC5\",\"#B0BEC5\",\"#B0BEC5\",\"#B0BEC5\",\"#B0BEC5\",\"#B0BEC5\",\"#B0BEC5\",\"#B0BEC5\",\"#B0BEC5\",\"#B0BEC5\",\"#B0BEC5\",\"#B0BEC5\",\"#B0BEC5\",\"red\",\"#B0BEC5\",\"#B0BEC5\",\"#B0BEC5\",\"#B0BEC5\",\"#B0BEC5\",\"#B0BEC5\",\"#B0BEC5\",\"#B0BEC5\",\"#B0BEC5\",\"#B0BEC5\",\"#B0BEC5\"]]}],\"label\":\"Topic 70\",\"method\":\"update\"},{\"args\":[{\"marker.color\":[[\"#B0BEC5\",\"#B0BEC5\",\"#B0BEC5\",\"#B0BEC5\",\"#B0BEC5\",\"#B0BEC5\",\"#B0BEC5\",\"#B0BEC5\",\"#B0BEC5\",\"#B0BEC5\",\"#B0BEC5\",\"#B0BEC5\",\"#B0BEC5\",\"#B0BEC5\",\"#B0BEC5\",\"#B0BEC5\",\"#B0BEC5\",\"#B0BEC5\",\"#B0BEC5\",\"#B0BEC5\",\"#B0BEC5\",\"#B0BEC5\",\"#B0BEC5\",\"#B0BEC5\",\"#B0BEC5\",\"#B0BEC5\",\"#B0BEC5\",\"#B0BEC5\",\"#B0BEC5\",\"#B0BEC5\",\"#B0BEC5\",\"#B0BEC5\",\"#B0BEC5\",\"#B0BEC5\",\"#B0BEC5\",\"#B0BEC5\",\"#B0BEC5\",\"#B0BEC5\",\"#B0BEC5\",\"#B0BEC5\",\"#B0BEC5\",\"#B0BEC5\",\"#B0BEC5\",\"#B0BEC5\",\"#B0BEC5\",\"#B0BEC5\",\"#B0BEC5\",\"#B0BEC5\",\"#B0BEC5\",\"#B0BEC5\",\"#B0BEC5\",\"#B0BEC5\",\"#B0BEC5\",\"#B0BEC5\",\"#B0BEC5\",\"#B0BEC5\",\"#B0BEC5\",\"#B0BEC5\",\"#B0BEC5\",\"#B0BEC5\",\"#B0BEC5\",\"#B0BEC5\",\"#B0BEC5\",\"#B0BEC5\",\"#B0BEC5\",\"#B0BEC5\",\"#B0BEC5\",\"#B0BEC5\",\"#B0BEC5\",\"#B0BEC5\",\"#B0BEC5\",\"red\",\"#B0BEC5\",\"#B0BEC5\",\"#B0BEC5\",\"#B0BEC5\",\"#B0BEC5\",\"#B0BEC5\",\"#B0BEC5\",\"#B0BEC5\",\"#B0BEC5\",\"#B0BEC5\"]]}],\"label\":\"Topic 71\",\"method\":\"update\"},{\"args\":[{\"marker.color\":[[\"#B0BEC5\",\"#B0BEC5\",\"#B0BEC5\",\"#B0BEC5\",\"#B0BEC5\",\"#B0BEC5\",\"#B0BEC5\",\"#B0BEC5\",\"#B0BEC5\",\"#B0BEC5\",\"#B0BEC5\",\"#B0BEC5\",\"#B0BEC5\",\"#B0BEC5\",\"#B0BEC5\",\"#B0BEC5\",\"#B0BEC5\",\"#B0BEC5\",\"#B0BEC5\",\"#B0BEC5\",\"#B0BEC5\",\"#B0BEC5\",\"#B0BEC5\",\"#B0BEC5\",\"#B0BEC5\",\"#B0BEC5\",\"#B0BEC5\",\"#B0BEC5\",\"#B0BEC5\",\"#B0BEC5\",\"#B0BEC5\",\"#B0BEC5\",\"#B0BEC5\",\"#B0BEC5\",\"#B0BEC5\",\"#B0BEC5\",\"#B0BEC5\",\"#B0BEC5\",\"#B0BEC5\",\"#B0BEC5\",\"#B0BEC5\",\"#B0BEC5\",\"#B0BEC5\",\"#B0BEC5\",\"#B0BEC5\",\"#B0BEC5\",\"#B0BEC5\",\"#B0BEC5\",\"#B0BEC5\",\"#B0BEC5\",\"#B0BEC5\",\"#B0BEC5\",\"#B0BEC5\",\"#B0BEC5\",\"#B0BEC5\",\"#B0BEC5\",\"#B0BEC5\",\"#B0BEC5\",\"#B0BEC5\",\"#B0BEC5\",\"#B0BEC5\",\"#B0BEC5\",\"#B0BEC5\",\"#B0BEC5\",\"#B0BEC5\",\"#B0BEC5\",\"#B0BEC5\",\"#B0BEC5\",\"#B0BEC5\",\"#B0BEC5\",\"#B0BEC5\",\"#B0BEC5\",\"red\",\"#B0BEC5\",\"#B0BEC5\",\"#B0BEC5\",\"#B0BEC5\",\"#B0BEC5\",\"#B0BEC5\",\"#B0BEC5\",\"#B0BEC5\",\"#B0BEC5\"]]}],\"label\":\"Topic 72\",\"method\":\"update\"},{\"args\":[{\"marker.color\":[[\"#B0BEC5\",\"#B0BEC5\",\"#B0BEC5\",\"#B0BEC5\",\"#B0BEC5\",\"#B0BEC5\",\"#B0BEC5\",\"#B0BEC5\",\"#B0BEC5\",\"#B0BEC5\",\"#B0BEC5\",\"#B0BEC5\",\"#B0BEC5\",\"#B0BEC5\",\"#B0BEC5\",\"#B0BEC5\",\"#B0BEC5\",\"#B0BEC5\",\"#B0BEC5\",\"#B0BEC5\",\"#B0BEC5\",\"#B0BEC5\",\"#B0BEC5\",\"#B0BEC5\",\"#B0BEC5\",\"#B0BEC5\",\"#B0BEC5\",\"#B0BEC5\",\"#B0BEC5\",\"#B0BEC5\",\"#B0BEC5\",\"#B0BEC5\",\"#B0BEC5\",\"#B0BEC5\",\"#B0BEC5\",\"#B0BEC5\",\"#B0BEC5\",\"#B0BEC5\",\"#B0BEC5\",\"#B0BEC5\",\"#B0BEC5\",\"#B0BEC5\",\"#B0BEC5\",\"#B0BEC5\",\"#B0BEC5\",\"#B0BEC5\",\"#B0BEC5\",\"#B0BEC5\",\"#B0BEC5\",\"#B0BEC5\",\"#B0BEC5\",\"#B0BEC5\",\"#B0BEC5\",\"#B0BEC5\",\"#B0BEC5\",\"#B0BEC5\",\"#B0BEC5\",\"#B0BEC5\",\"#B0BEC5\",\"#B0BEC5\",\"#B0BEC5\",\"#B0BEC5\",\"#B0BEC5\",\"#B0BEC5\",\"#B0BEC5\",\"#B0BEC5\",\"#B0BEC5\",\"#B0BEC5\",\"#B0BEC5\",\"#B0BEC5\",\"#B0BEC5\",\"#B0BEC5\",\"#B0BEC5\",\"red\",\"#B0BEC5\",\"#B0BEC5\",\"#B0BEC5\",\"#B0BEC5\",\"#B0BEC5\",\"#B0BEC5\",\"#B0BEC5\",\"#B0BEC5\"]]}],\"label\":\"Topic 73\",\"method\":\"update\"},{\"args\":[{\"marker.color\":[[\"#B0BEC5\",\"#B0BEC5\",\"#B0BEC5\",\"#B0BEC5\",\"#B0BEC5\",\"#B0BEC5\",\"#B0BEC5\",\"#B0BEC5\",\"#B0BEC5\",\"#B0BEC5\",\"#B0BEC5\",\"#B0BEC5\",\"#B0BEC5\",\"#B0BEC5\",\"#B0BEC5\",\"#B0BEC5\",\"#B0BEC5\",\"#B0BEC5\",\"#B0BEC5\",\"#B0BEC5\",\"#B0BEC5\",\"#B0BEC5\",\"#B0BEC5\",\"#B0BEC5\",\"#B0BEC5\",\"#B0BEC5\",\"#B0BEC5\",\"#B0BEC5\",\"#B0BEC5\",\"#B0BEC5\",\"#B0BEC5\",\"#B0BEC5\",\"#B0BEC5\",\"#B0BEC5\",\"#B0BEC5\",\"#B0BEC5\",\"#B0BEC5\",\"#B0BEC5\",\"#B0BEC5\",\"#B0BEC5\",\"#B0BEC5\",\"#B0BEC5\",\"#B0BEC5\",\"#B0BEC5\",\"#B0BEC5\",\"#B0BEC5\",\"#B0BEC5\",\"#B0BEC5\",\"#B0BEC5\",\"#B0BEC5\",\"#B0BEC5\",\"#B0BEC5\",\"#B0BEC5\",\"#B0BEC5\",\"#B0BEC5\",\"#B0BEC5\",\"#B0BEC5\",\"#B0BEC5\",\"#B0BEC5\",\"#B0BEC5\",\"#B0BEC5\",\"#B0BEC5\",\"#B0BEC5\",\"#B0BEC5\",\"#B0BEC5\",\"#B0BEC5\",\"#B0BEC5\",\"#B0BEC5\",\"#B0BEC5\",\"#B0BEC5\",\"#B0BEC5\",\"#B0BEC5\",\"#B0BEC5\",\"#B0BEC5\",\"red\",\"#B0BEC5\",\"#B0BEC5\",\"#B0BEC5\",\"#B0BEC5\",\"#B0BEC5\",\"#B0BEC5\",\"#B0BEC5\"]]}],\"label\":\"Topic 74\",\"method\":\"update\"},{\"args\":[{\"marker.color\":[[\"#B0BEC5\",\"#B0BEC5\",\"#B0BEC5\",\"#B0BEC5\",\"#B0BEC5\",\"#B0BEC5\",\"#B0BEC5\",\"#B0BEC5\",\"#B0BEC5\",\"#B0BEC5\",\"#B0BEC5\",\"#B0BEC5\",\"#B0BEC5\",\"#B0BEC5\",\"#B0BEC5\",\"#B0BEC5\",\"#B0BEC5\",\"#B0BEC5\",\"#B0BEC5\",\"#B0BEC5\",\"#B0BEC5\",\"#B0BEC5\",\"#B0BEC5\",\"#B0BEC5\",\"#B0BEC5\",\"#B0BEC5\",\"#B0BEC5\",\"#B0BEC5\",\"#B0BEC5\",\"#B0BEC5\",\"#B0BEC5\",\"#B0BEC5\",\"#B0BEC5\",\"#B0BEC5\",\"#B0BEC5\",\"#B0BEC5\",\"#B0BEC5\",\"#B0BEC5\",\"#B0BEC5\",\"#B0BEC5\",\"#B0BEC5\",\"#B0BEC5\",\"#B0BEC5\",\"#B0BEC5\",\"#B0BEC5\",\"#B0BEC5\",\"#B0BEC5\",\"#B0BEC5\",\"#B0BEC5\",\"#B0BEC5\",\"#B0BEC5\",\"#B0BEC5\",\"#B0BEC5\",\"#B0BEC5\",\"#B0BEC5\",\"#B0BEC5\",\"#B0BEC5\",\"#B0BEC5\",\"#B0BEC5\",\"#B0BEC5\",\"#B0BEC5\",\"#B0BEC5\",\"#B0BEC5\",\"#B0BEC5\",\"#B0BEC5\",\"#B0BEC5\",\"#B0BEC5\",\"#B0BEC5\",\"#B0BEC5\",\"#B0BEC5\",\"#B0BEC5\",\"#B0BEC5\",\"#B0BEC5\",\"#B0BEC5\",\"#B0BEC5\",\"red\",\"#B0BEC5\",\"#B0BEC5\",\"#B0BEC5\",\"#B0BEC5\",\"#B0BEC5\",\"#B0BEC5\"]]}],\"label\":\"Topic 75\",\"method\":\"update\"},{\"args\":[{\"marker.color\":[[\"#B0BEC5\",\"#B0BEC5\",\"#B0BEC5\",\"#B0BEC5\",\"#B0BEC5\",\"#B0BEC5\",\"#B0BEC5\",\"#B0BEC5\",\"#B0BEC5\",\"#B0BEC5\",\"#B0BEC5\",\"#B0BEC5\",\"#B0BEC5\",\"#B0BEC5\",\"#B0BEC5\",\"#B0BEC5\",\"#B0BEC5\",\"#B0BEC5\",\"#B0BEC5\",\"#B0BEC5\",\"#B0BEC5\",\"#B0BEC5\",\"#B0BEC5\",\"#B0BEC5\",\"#B0BEC5\",\"#B0BEC5\",\"#B0BEC5\",\"#B0BEC5\",\"#B0BEC5\",\"#B0BEC5\",\"#B0BEC5\",\"#B0BEC5\",\"#B0BEC5\",\"#B0BEC5\",\"#B0BEC5\",\"#B0BEC5\",\"#B0BEC5\",\"#B0BEC5\",\"#B0BEC5\",\"#B0BEC5\",\"#B0BEC5\",\"#B0BEC5\",\"#B0BEC5\",\"#B0BEC5\",\"#B0BEC5\",\"#B0BEC5\",\"#B0BEC5\",\"#B0BEC5\",\"#B0BEC5\",\"#B0BEC5\",\"#B0BEC5\",\"#B0BEC5\",\"#B0BEC5\",\"#B0BEC5\",\"#B0BEC5\",\"#B0BEC5\",\"#B0BEC5\",\"#B0BEC5\",\"#B0BEC5\",\"#B0BEC5\",\"#B0BEC5\",\"#B0BEC5\",\"#B0BEC5\",\"#B0BEC5\",\"#B0BEC5\",\"#B0BEC5\",\"#B0BEC5\",\"#B0BEC5\",\"#B0BEC5\",\"#B0BEC5\",\"#B0BEC5\",\"#B0BEC5\",\"#B0BEC5\",\"#B0BEC5\",\"#B0BEC5\",\"#B0BEC5\",\"red\",\"#B0BEC5\",\"#B0BEC5\",\"#B0BEC5\",\"#B0BEC5\",\"#B0BEC5\"]]}],\"label\":\"Topic 76\",\"method\":\"update\"},{\"args\":[{\"marker.color\":[[\"#B0BEC5\",\"#B0BEC5\",\"#B0BEC5\",\"#B0BEC5\",\"#B0BEC5\",\"#B0BEC5\",\"#B0BEC5\",\"#B0BEC5\",\"#B0BEC5\",\"#B0BEC5\",\"#B0BEC5\",\"#B0BEC5\",\"#B0BEC5\",\"#B0BEC5\",\"#B0BEC5\",\"#B0BEC5\",\"#B0BEC5\",\"#B0BEC5\",\"#B0BEC5\",\"#B0BEC5\",\"#B0BEC5\",\"#B0BEC5\",\"#B0BEC5\",\"#B0BEC5\",\"#B0BEC5\",\"#B0BEC5\",\"#B0BEC5\",\"#B0BEC5\",\"#B0BEC5\",\"#B0BEC5\",\"#B0BEC5\",\"#B0BEC5\",\"#B0BEC5\",\"#B0BEC5\",\"#B0BEC5\",\"#B0BEC5\",\"#B0BEC5\",\"#B0BEC5\",\"#B0BEC5\",\"#B0BEC5\",\"#B0BEC5\",\"#B0BEC5\",\"#B0BEC5\",\"#B0BEC5\",\"#B0BEC5\",\"#B0BEC5\",\"#B0BEC5\",\"#B0BEC5\",\"#B0BEC5\",\"#B0BEC5\",\"#B0BEC5\",\"#B0BEC5\",\"#B0BEC5\",\"#B0BEC5\",\"#B0BEC5\",\"#B0BEC5\",\"#B0BEC5\",\"#B0BEC5\",\"#B0BEC5\",\"#B0BEC5\",\"#B0BEC5\",\"#B0BEC5\",\"#B0BEC5\",\"#B0BEC5\",\"#B0BEC5\",\"#B0BEC5\",\"#B0BEC5\",\"#B0BEC5\",\"#B0BEC5\",\"#B0BEC5\",\"#B0BEC5\",\"#B0BEC5\",\"#B0BEC5\",\"#B0BEC5\",\"#B0BEC5\",\"#B0BEC5\",\"#B0BEC5\",\"red\",\"#B0BEC5\",\"#B0BEC5\",\"#B0BEC5\",\"#B0BEC5\"]]}],\"label\":\"Topic 77\",\"method\":\"update\"},{\"args\":[{\"marker.color\":[[\"#B0BEC5\",\"#B0BEC5\",\"#B0BEC5\",\"#B0BEC5\",\"#B0BEC5\",\"#B0BEC5\",\"#B0BEC5\",\"#B0BEC5\",\"#B0BEC5\",\"#B0BEC5\",\"#B0BEC5\",\"#B0BEC5\",\"#B0BEC5\",\"#B0BEC5\",\"#B0BEC5\",\"#B0BEC5\",\"#B0BEC5\",\"#B0BEC5\",\"#B0BEC5\",\"#B0BEC5\",\"#B0BEC5\",\"#B0BEC5\",\"#B0BEC5\",\"#B0BEC5\",\"#B0BEC5\",\"#B0BEC5\",\"#B0BEC5\",\"#B0BEC5\",\"#B0BEC5\",\"#B0BEC5\",\"#B0BEC5\",\"#B0BEC5\",\"#B0BEC5\",\"#B0BEC5\",\"#B0BEC5\",\"#B0BEC5\",\"#B0BEC5\",\"#B0BEC5\",\"#B0BEC5\",\"#B0BEC5\",\"#B0BEC5\",\"#B0BEC5\",\"#B0BEC5\",\"#B0BEC5\",\"#B0BEC5\",\"#B0BEC5\",\"#B0BEC5\",\"#B0BEC5\",\"#B0BEC5\",\"#B0BEC5\",\"#B0BEC5\",\"#B0BEC5\",\"#B0BEC5\",\"#B0BEC5\",\"#B0BEC5\",\"#B0BEC5\",\"#B0BEC5\",\"#B0BEC5\",\"#B0BEC5\",\"#B0BEC5\",\"#B0BEC5\",\"#B0BEC5\",\"#B0BEC5\",\"#B0BEC5\",\"#B0BEC5\",\"#B0BEC5\",\"#B0BEC5\",\"#B0BEC5\",\"#B0BEC5\",\"#B0BEC5\",\"#B0BEC5\",\"#B0BEC5\",\"#B0BEC5\",\"#B0BEC5\",\"#B0BEC5\",\"#B0BEC5\",\"#B0BEC5\",\"#B0BEC5\",\"red\",\"#B0BEC5\",\"#B0BEC5\",\"#B0BEC5\"]]}],\"label\":\"Topic 78\",\"method\":\"update\"},{\"args\":[{\"marker.color\":[[\"#B0BEC5\",\"#B0BEC5\",\"#B0BEC5\",\"#B0BEC5\",\"#B0BEC5\",\"#B0BEC5\",\"#B0BEC5\",\"#B0BEC5\",\"#B0BEC5\",\"#B0BEC5\",\"#B0BEC5\",\"#B0BEC5\",\"#B0BEC5\",\"#B0BEC5\",\"#B0BEC5\",\"#B0BEC5\",\"#B0BEC5\",\"#B0BEC5\",\"#B0BEC5\",\"#B0BEC5\",\"#B0BEC5\",\"#B0BEC5\",\"#B0BEC5\",\"#B0BEC5\",\"#B0BEC5\",\"#B0BEC5\",\"#B0BEC5\",\"#B0BEC5\",\"#B0BEC5\",\"#B0BEC5\",\"#B0BEC5\",\"#B0BEC5\",\"#B0BEC5\",\"#B0BEC5\",\"#B0BEC5\",\"#B0BEC5\",\"#B0BEC5\",\"#B0BEC5\",\"#B0BEC5\",\"#B0BEC5\",\"#B0BEC5\",\"#B0BEC5\",\"#B0BEC5\",\"#B0BEC5\",\"#B0BEC5\",\"#B0BEC5\",\"#B0BEC5\",\"#B0BEC5\",\"#B0BEC5\",\"#B0BEC5\",\"#B0BEC5\",\"#B0BEC5\",\"#B0BEC5\",\"#B0BEC5\",\"#B0BEC5\",\"#B0BEC5\",\"#B0BEC5\",\"#B0BEC5\",\"#B0BEC5\",\"#B0BEC5\",\"#B0BEC5\",\"#B0BEC5\",\"#B0BEC5\",\"#B0BEC5\",\"#B0BEC5\",\"#B0BEC5\",\"#B0BEC5\",\"#B0BEC5\",\"#B0BEC5\",\"#B0BEC5\",\"#B0BEC5\",\"#B0BEC5\",\"#B0BEC5\",\"#B0BEC5\",\"#B0BEC5\",\"#B0BEC5\",\"#B0BEC5\",\"#B0BEC5\",\"#B0BEC5\",\"red\",\"#B0BEC5\",\"#B0BEC5\"]]}],\"label\":\"Topic 79\",\"method\":\"update\"},{\"args\":[{\"marker.color\":[[\"#B0BEC5\",\"#B0BEC5\",\"#B0BEC5\",\"#B0BEC5\",\"#B0BEC5\",\"#B0BEC5\",\"#B0BEC5\",\"#B0BEC5\",\"#B0BEC5\",\"#B0BEC5\",\"#B0BEC5\",\"#B0BEC5\",\"#B0BEC5\",\"#B0BEC5\",\"#B0BEC5\",\"#B0BEC5\",\"#B0BEC5\",\"#B0BEC5\",\"#B0BEC5\",\"#B0BEC5\",\"#B0BEC5\",\"#B0BEC5\",\"#B0BEC5\",\"#B0BEC5\",\"#B0BEC5\",\"#B0BEC5\",\"#B0BEC5\",\"#B0BEC5\",\"#B0BEC5\",\"#B0BEC5\",\"#B0BEC5\",\"#B0BEC5\",\"#B0BEC5\",\"#B0BEC5\",\"#B0BEC5\",\"#B0BEC5\",\"#B0BEC5\",\"#B0BEC5\",\"#B0BEC5\",\"#B0BEC5\",\"#B0BEC5\",\"#B0BEC5\",\"#B0BEC5\",\"#B0BEC5\",\"#B0BEC5\",\"#B0BEC5\",\"#B0BEC5\",\"#B0BEC5\",\"#B0BEC5\",\"#B0BEC5\",\"#B0BEC5\",\"#B0BEC5\",\"#B0BEC5\",\"#B0BEC5\",\"#B0BEC5\",\"#B0BEC5\",\"#B0BEC5\",\"#B0BEC5\",\"#B0BEC5\",\"#B0BEC5\",\"#B0BEC5\",\"#B0BEC5\",\"#B0BEC5\",\"#B0BEC5\",\"#B0BEC5\",\"#B0BEC5\",\"#B0BEC5\",\"#B0BEC5\",\"#B0BEC5\",\"#B0BEC5\",\"#B0BEC5\",\"#B0BEC5\",\"#B0BEC5\",\"#B0BEC5\",\"#B0BEC5\",\"#B0BEC5\",\"#B0BEC5\",\"#B0BEC5\",\"#B0BEC5\",\"#B0BEC5\",\"red\",\"#B0BEC5\"]]}],\"label\":\"Topic 80\",\"method\":\"update\"},{\"args\":[{\"marker.color\":[[\"#B0BEC5\",\"#B0BEC5\",\"#B0BEC5\",\"#B0BEC5\",\"#B0BEC5\",\"#B0BEC5\",\"#B0BEC5\",\"#B0BEC5\",\"#B0BEC5\",\"#B0BEC5\",\"#B0BEC5\",\"#B0BEC5\",\"#B0BEC5\",\"#B0BEC5\",\"#B0BEC5\",\"#B0BEC5\",\"#B0BEC5\",\"#B0BEC5\",\"#B0BEC5\",\"#B0BEC5\",\"#B0BEC5\",\"#B0BEC5\",\"#B0BEC5\",\"#B0BEC5\",\"#B0BEC5\",\"#B0BEC5\",\"#B0BEC5\",\"#B0BEC5\",\"#B0BEC5\",\"#B0BEC5\",\"#B0BEC5\",\"#B0BEC5\",\"#B0BEC5\",\"#B0BEC5\",\"#B0BEC5\",\"#B0BEC5\",\"#B0BEC5\",\"#B0BEC5\",\"#B0BEC5\",\"#B0BEC5\",\"#B0BEC5\",\"#B0BEC5\",\"#B0BEC5\",\"#B0BEC5\",\"#B0BEC5\",\"#B0BEC5\",\"#B0BEC5\",\"#B0BEC5\",\"#B0BEC5\",\"#B0BEC5\",\"#B0BEC5\",\"#B0BEC5\",\"#B0BEC5\",\"#B0BEC5\",\"#B0BEC5\",\"#B0BEC5\",\"#B0BEC5\",\"#B0BEC5\",\"#B0BEC5\",\"#B0BEC5\",\"#B0BEC5\",\"#B0BEC5\",\"#B0BEC5\",\"#B0BEC5\",\"#B0BEC5\",\"#B0BEC5\",\"#B0BEC5\",\"#B0BEC5\",\"#B0BEC5\",\"#B0BEC5\",\"#B0BEC5\",\"#B0BEC5\",\"#B0BEC5\",\"#B0BEC5\",\"#B0BEC5\",\"#B0BEC5\",\"#B0BEC5\",\"#B0BEC5\",\"#B0BEC5\",\"#B0BEC5\",\"#B0BEC5\",\"red\"]]}],\"label\":\"Topic 81\",\"method\":\"update\"}]}],\"shapes\":[{\"line\":{\"color\":\"#CFD8DC\",\"width\":2},\"type\":\"line\",\"x0\":3.3788200497627257,\"x1\":3.3788200497627257,\"y0\":-16.120786237716676,\"y1\":17.107748126983644},{\"line\":{\"color\":\"#9E9E9E\",\"width\":2},\"type\":\"line\",\"x0\":-8.680010104179383,\"x1\":15.437650203704834,\"y0\":0.49348094463348424,\"y1\":0.49348094463348424}],\"annotations\":[{\"showarrow\":false,\"text\":\"D1\",\"x\":-8.680010104179383,\"y\":0.49348094463348424,\"yshift\":10},{\"showarrow\":false,\"text\":\"D2\",\"x\":3.3788200497627257,\"xshift\":10,\"y\":17.107748126983644}]},                        {\"responsive\": true}                    ).then(function(){\n",
              "                            \n",
              "var gd = document.getElementById('f38a5713-e8fa-4619-b83a-aad7111ea5cc');\n",
              "var x = new MutationObserver(function (mutations, observer) {{\n",
              "        var display = window.getComputedStyle(gd).display;\n",
              "        if (!display || display === 'none') {{\n",
              "            console.log([gd, 'removed!']);\n",
              "            Plotly.purge(gd);\n",
              "            observer.disconnect();\n",
              "        }}\n",
              "}});\n",
              "\n",
              "// Listen for the removal of the full notebook cells\n",
              "var notebookContainer = gd.closest('#notebook-container');\n",
              "if (notebookContainer) {{\n",
              "    x.observe(notebookContainer, {childList: true});\n",
              "}}\n",
              "\n",
              "// Listen for the clearing of the current output cell\n",
              "var outputEl = gd.closest('.output');\n",
              "if (outputEl) {{\n",
              "    x.observe(outputEl, {childList: true});\n",
              "}}\n",
              "\n",
              "                        })                };                            </script>        </div>\n",
              "</body>\n",
              "</html>"
            ]
          },
          "metadata": {}
        }
      ]
    },
    {
      "cell_type": "markdown",
      "source": [
        "#### **Save intertopic distance map**"
      ],
      "metadata": {
        "id": "VEy11A_SlliP"
      }
    },
    {
      "cell_type": "code",
      "source": [
        "# Set the path to save \n",
        "path = '/content/Topic-Modeling-Reclame-Aqui/results/intertopic_distance_map/'\n",
        "\n",
        "# Use makedirs() to create a new directory if it does not exists\n",
        "if not os.path.exists(path):\n",
        "  os.makedirs(path)\n",
        "\n",
        "\n",
        "fig.write_image(path + \"idm_preprocessed_lemma.png\", format=\"png\")"
      ],
      "metadata": {
        "id": "hLy_Eeu4lqCg"
      },
      "execution_count": 299,
      "outputs": []
    },
    {
      "cell_type": "markdown",
      "source": [
        "[Github link](https://github.com/punkmic/Topic-Modeling-Reclame-Aqui/blob/master/results/intertopic_distance_map/idm_preprocessed_lemma.png?raw=true)"
      ],
      "metadata": {
        "id": "Jf-iwAsQoOCs"
      }
    },
    {
      "cell_type": "markdown",
      "source": [
        "### **Visualize Topic Hierarchy**\n",
        "\n",
        "The topics that were created can be hierarchically reduced. This visualization shows how the topics relate to one another."
      ],
      "metadata": {
        "id": "r-5bT7AgSgsv"
      }
    },
    {
      "cell_type": "code",
      "source": [
        "fig = topic_model.visualize_hierarchy(top_n_topics=30)\n",
        "fig"
      ],
      "metadata": {
        "id": "TEoOpDD6S4D7",
        "outputId": "765e03b2-23c7-4c02-b8fb-c921c9f64312",
        "colab": {
          "base_uri": "https://localhost:8080/",
          "height": 687
        }
      },
      "execution_count": 300,
      "outputs": [
        {
          "output_type": "display_data",
          "data": {
            "text/html": [
              "<html>\n",
              "<head><meta charset=\"utf-8\" /></head>\n",
              "<body>\n",
              "    <div>            <script src=\"https://cdnjs.cloudflare.com/ajax/libs/mathjax/2.7.5/MathJax.js?config=TeX-AMS-MML_SVG\"></script><script type=\"text/javascript\">if (window.MathJax) {MathJax.Hub.Config({SVG: {font: \"STIX-Web\"}});}</script>                <script type=\"text/javascript\">window.PlotlyConfig = {MathJaxConfig: 'local'};</script>\n",
              "        <script src=\"https://cdn.plot.ly/plotly-2.8.3.min.js\"></script>                <div id=\"93047947-a6e1-499c-a111-a0c22477b4e2\" class=\"plotly-graph-div\" style=\"height:650px; width:1000px;\"></div>            <script type=\"text/javascript\">                                    window.PLOTLYENV=window.PLOTLYENV || {};                                    if (document.getElementById(\"93047947-a6e1-499c-a111-a0c22477b4e2\")) {                    Plotly.newPlot(                        \"93047947-a6e1-499c-a111-a0c22477b4e2\",                        [{\"hoverinfo\":\"text\",\"marker\":{\"color\":\"rgb(61,153,112)\"},\"mode\":\"lines\",\"x\":[0.0,0.9447509987052316,0.9447509987052316,0.0],\"xaxis\":\"x\",\"y\":[-15.0,-15.0,-25.0,-25.0],\"yaxis\":\"y\",\"type\":\"scatter\"},{\"hoverinfo\":\"text\",\"marker\":{\"color\":\"rgb(61,153,112)\"},\"mode\":\"lines\",\"x\":[0.9447509987052316,0.9542565038085423,0.9542565038085423,0.0],\"xaxis\":\"x\",\"y\":[-20.0,-20.0,-35.0,-35.0],\"yaxis\":\"y\",\"type\":\"scatter\"},{\"hoverinfo\":\"text\",\"marker\":{\"color\":\"rgb(61,153,112)\"},\"mode\":\"lines\",\"x\":[0.0,0.979138133925005,0.979138133925005,0.9542565038085423],\"xaxis\":\"x\",\"y\":[-5.0,-5.0,-27.5,-27.5],\"yaxis\":\"y\",\"type\":\"scatter\"},{\"hoverinfo\":\"text\",\"marker\":{\"color\":\"rgb(255,65,54)\"},\"mode\":\"lines\",\"x\":[0.0,0.7741191471543258,0.7741191471543258,0.0],\"xaxis\":\"x\",\"y\":[-55.0,-55.0,-65.0,-65.0],\"yaxis\":\"y\",\"type\":\"scatter\"},{\"hoverinfo\":\"text\",\"marker\":{\"color\":\"rgb(255,65,54)\"},\"mode\":\"lines\",\"x\":[0.0,0.8231575935936116,0.8231575935936116,0.7741191471543258],\"xaxis\":\"x\",\"y\":[-45.0,-45.0,-60.0,-60.0],\"yaxis\":\"y\",\"type\":\"scatter\"},{\"hoverinfo\":\"text\",\"marker\":{\"color\":\"rgb(255,65,54)\"},\"mode\":\"lines\",\"x\":[0.0,0.8022996232214656,0.8022996232214656,0.0],\"xaxis\":\"x\",\"y\":[-75.0,-75.0,-85.0,-85.0],\"yaxis\":\"y\",\"type\":\"scatter\"},{\"hoverinfo\":\"text\",\"marker\":{\"color\":\"rgb(255,65,54)\"},\"mode\":\"lines\",\"x\":[0.8231575935936116,0.8395466815948641,0.8395466815948641,0.8022996232214656],\"xaxis\":\"x\",\"y\":[-52.5,-52.5,-80.0,-80.0],\"yaxis\":\"y\",\"type\":\"scatter\"},{\"hoverinfo\":\"text\",\"marker\":{\"color\":\"rgb(255,65,54)\"},\"mode\":\"lines\",\"x\":[0.8395466815948641,0.9402826544795884,0.9402826544795884,0.0],\"xaxis\":\"x\",\"y\":[-66.25,-66.25,-95.0,-95.0],\"yaxis\":\"y\",\"type\":\"scatter\"},{\"hoverinfo\":\"text\",\"marker\":{\"color\":\"rgb(0,116,217)\"},\"mode\":\"lines\",\"x\":[0.979138133925005,1.0325832902970178,1.0325832902970178,0.9402826544795884],\"xaxis\":\"x\",\"y\":[-16.25,-16.25,-80.625,-80.625],\"yaxis\":\"y\",\"type\":\"scatter\"},{\"hoverinfo\":\"text\",\"marker\":{\"color\":\"rgb(0,116,217)\"},\"mode\":\"lines\",\"x\":[0.0,1.0260493875586747,1.0260493875586747,0.0],\"xaxis\":\"x\",\"y\":[-105.0,-105.0,-115.0,-115.0],\"yaxis\":\"y\",\"type\":\"scatter\"},{\"hoverinfo\":\"text\",\"marker\":{\"color\":\"rgb(0,116,217)\"},\"mode\":\"lines\",\"x\":[1.0260493875586747,1.0670584268222607,1.0670584268222607,0.0],\"xaxis\":\"x\",\"y\":[-110.0,-110.0,-125.0,-125.0],\"yaxis\":\"y\",\"type\":\"scatter\"},{\"hoverinfo\":\"text\",\"marker\":{\"color\":\"rgb(0,116,217)\"},\"mode\":\"lines\",\"x\":[0.0,1.0952172360131198,1.0952172360131198,0.0],\"xaxis\":\"x\",\"y\":[-135.0,-135.0,-145.0,-145.0],\"yaxis\":\"y\",\"type\":\"scatter\"},{\"hoverinfo\":\"text\",\"marker\":{\"color\":\"rgb(35,205,205)\"},\"mode\":\"lines\",\"x\":[0.0,0.9112926507536029,0.9112926507536029,0.0],\"xaxis\":\"x\",\"y\":[-175.0,-175.0,-185.0,-185.0],\"yaxis\":\"y\",\"type\":\"scatter\"},{\"hoverinfo\":\"text\",\"marker\":{\"color\":\"rgb(35,205,205)\"},\"mode\":\"lines\",\"x\":[0.0,0.956252214421268,0.956252214421268,0.9112926507536029],\"xaxis\":\"x\",\"y\":[-165.0,-165.0,-180.0,-180.0],\"yaxis\":\"y\",\"type\":\"scatter\"},{\"hoverinfo\":\"text\",\"marker\":{\"color\":\"rgb(35,205,205)\"},\"mode\":\"lines\",\"x\":[0.0,0.993047087835569,0.993047087835569,0.956252214421268],\"xaxis\":\"x\",\"y\":[-155.0,-155.0,-172.5,-172.5],\"yaxis\":\"y\",\"type\":\"scatter\"},{\"hoverinfo\":\"text\",\"marker\":{\"color\":\"rgb(0,116,217)\"},\"mode\":\"lines\",\"x\":[0.993047087835569,1.0635533297961306,1.0635533297961306,0.0],\"xaxis\":\"x\",\"y\":[-163.75,-163.75,-195.0,-195.0],\"yaxis\":\"y\",\"type\":\"scatter\"},{\"hoverinfo\":\"text\",\"marker\":{\"color\":\"rgb(0,116,217)\"},\"mode\":\"lines\",\"x\":[1.0952172360131198,1.1589412801243917,1.1589412801243917,1.0635533297961306],\"xaxis\":\"x\",\"y\":[-140.0,-140.0,-179.375,-179.375],\"yaxis\":\"y\",\"type\":\"scatter\"},{\"hoverinfo\":\"text\",\"marker\":{\"color\":\"rgb(133,20,75)\"},\"mode\":\"lines\",\"x\":[0.0,0.9962568810018902,0.9962568810018902,0.0],\"xaxis\":\"x\",\"y\":[-225.0,-225.0,-235.0,-235.0],\"yaxis\":\"y\",\"type\":\"scatter\"},{\"hoverinfo\":\"text\",\"marker\":{\"color\":\"rgb(0,116,217)\"},\"mode\":\"lines\",\"x\":[0.0,1.0432322525044337,1.0432322525044337,0.9962568810018902],\"xaxis\":\"x\",\"y\":[-215.0,-215.0,-230.0,-230.0],\"yaxis\":\"y\",\"type\":\"scatter\"},{\"hoverinfo\":\"text\",\"marker\":{\"color\":\"rgb(0,116,217)\"},\"mode\":\"lines\",\"x\":[0.0,1.0349695369201022,1.0349695369201022,0.0],\"xaxis\":\"x\",\"y\":[-245.0,-245.0,-255.0,-255.0],\"yaxis\":\"y\",\"type\":\"scatter\"},{\"hoverinfo\":\"text\",\"marker\":{\"color\":\"rgb(0,116,217)\"},\"mode\":\"lines\",\"x\":[1.0349695369201022,1.0549785746077056,1.0549785746077056,0.0],\"xaxis\":\"x\",\"y\":[-250.0,-250.0,-265.0,-265.0],\"yaxis\":\"y\",\"type\":\"scatter\"},{\"hoverinfo\":\"text\",\"marker\":{\"color\":\"rgb(0,116,217)\"},\"mode\":\"lines\",\"x\":[1.0432322525044337,1.0840082793962045,1.0840082793962045,1.0549785746077056],\"xaxis\":\"x\",\"y\":[-222.5,-222.5,-257.5,-257.5],\"yaxis\":\"y\",\"type\":\"scatter\"},{\"hoverinfo\":\"text\",\"marker\":{\"color\":\"rgb(0,116,217)\"},\"mode\":\"lines\",\"x\":[0.0,1.1262540543814932,1.1262540543814932,1.0840082793962045],\"xaxis\":\"x\",\"y\":[-205.0,-205.0,-240.0,-240.0],\"yaxis\":\"y\",\"type\":\"scatter\"},{\"hoverinfo\":\"text\",\"marker\":{\"color\":\"rgb(0,116,217)\"},\"mode\":\"lines\",\"x\":[1.1262540543814932,1.1943378130511082,1.1943378130511082,0.0],\"xaxis\":\"x\",\"y\":[-222.5,-222.5,-275.0,-275.0],\"yaxis\":\"y\",\"type\":\"scatter\"},{\"hoverinfo\":\"text\",\"marker\":{\"color\":\"rgb(0,116,217)\"},\"mode\":\"lines\",\"x\":[1.1589412801243917,1.2422374334709971,1.2422374334709971,1.1943378130511082],\"xaxis\":\"x\",\"y\":[-159.6875,-159.6875,-248.75,-248.75],\"yaxis\":\"y\",\"type\":\"scatter\"},{\"hoverinfo\":\"text\",\"marker\":{\"color\":\"rgb(0,116,217)\"},\"mode\":\"lines\",\"x\":[1.0670584268222607,1.4596140067090007,1.4596140067090007,1.2422374334709971],\"xaxis\":\"x\",\"y\":[-117.5,-117.5,-204.21875,-204.21875],\"yaxis\":\"y\",\"type\":\"scatter\"},{\"hoverinfo\":\"text\",\"marker\":{\"color\":\"rgb(0,116,217)\"},\"mode\":\"lines\",\"x\":[0.0,1.165172245136644,1.165172245136644,0.0],\"xaxis\":\"x\",\"y\":[-285.0,-285.0,-295.0,-295.0],\"yaxis\":\"y\",\"type\":\"scatter\"},{\"hoverinfo\":\"text\",\"marker\":{\"color\":\"rgb(0,116,217)\"},\"mode\":\"lines\",\"x\":[1.4596140067090007,1.5873676673774753,1.5873676673774753,1.165172245136644],\"xaxis\":\"x\",\"y\":[-160.859375,-160.859375,-290.0,-290.0],\"yaxis\":\"y\",\"type\":\"scatter\"},{\"hoverinfo\":\"text\",\"marker\":{\"color\":\"rgb(0,116,217)\"},\"mode\":\"lines\",\"x\":[1.0325832902970178,1.8228412973054136,1.8228412973054136,1.5873676673774753],\"xaxis\":\"x\",\"y\":[-48.4375,-48.4375,-225.4296875,-225.4296875],\"yaxis\":\"y\",\"type\":\"scatter\"}],                        {\"autosize\":false,\"height\":650,\"hovermode\":\"closest\",\"showlegend\":false,\"width\":1000,\"xaxis\":{\"mirror\":\"allticks\",\"rangemode\":\"tozero\",\"showgrid\":false,\"showline\":true,\"showticklabels\":true,\"ticks\":\"outside\",\"type\":\"linear\",\"zeroline\":false},\"yaxis\":{\"mirror\":\"allticks\",\"rangemode\":\"tozero\",\"showgrid\":false,\"showline\":true,\"showticklabels\":true,\"tickmode\":\"array\",\"ticks\":\"outside\",\"ticktext\":[\"15_amazon_equipara\\u00e7\\u00e3o_amazo...\",\"11_ariano_infra\\u00e7\\u00e3o_comprador\",\"10_americana_americano_cupom\",\"17_samsung_galaxy_celular\",\"3_cancelamento_cancelar_can...\",\"4_whatsapp_agendar_atendime...\",\"1_celular_smartphone_aparelho\",\"12_iphone_carregador_aparelho\",\"0_cart\\u00e3o_cr\\u00e9dito_cobran\\u00e7a\",\"6_brasil_brasileiro_cuba\",\"29_prime_ifood_v\\u00eddeo\",\"18_amazoncombr_cobran\\u00e7a_ama...\",\"8_senha_acessar_acesso\",\"27_lavar_m\\u00e1quina_maquina\",\"26_black_friday_magalupay\",\"14_jogo_lan\\u00e7amento_ragnarok\",\"20_anivers\\u00e1rio_dezembro_\\u00e1rv...\",\"9_data_atraso_previs\\u00e3o\",\"13_geladeira_refrigerador_b...\",\"24_express_transportadora_f...\",\"28_novembro_dezembro_outubro\",\"21_rob\\u00f4_macac\\u00e3o_aspirador\",\"7_roupa_cal\\u00e7a_vestido\",\"2_remetente_endere\\u00e7o_rastreio\",\"22_devolu\\u00e7\\u00e3o_postagem_c\\u00f3digo\",\"5_restorno_dinheiro_paguei\",\"19_livro_gratuito_cultura\",\"25_t\\u00eanis_tenis_raquete\",\"23_curitiba_lu\\u00eds_parado\",\"16_trip\\u00e9_santo_imail\"],\"tickvals\":[-5.0,-15.0,-25.0,-35.0,-45.0,-55.0,-65.0,-75.0,-85.0,-95.0,-105.0,-115.0,-125.0,-135.0,-145.0,-155.0,-165.0,-175.0,-185.0,-195.0,-205.0,-215.0,-225.0,-235.0,-245.0,-255.0,-265.0,-275.0,-285.0,-295.0],\"type\":\"linear\",\"zeroline\":false,\"range\":[-300.0,0.0]},\"template\":{\"data\":{\"barpolar\":[{\"marker\":{\"line\":{\"color\":\"white\",\"width\":0.5},\"pattern\":{\"fillmode\":\"overlay\",\"size\":10,\"solidity\":0.2}},\"type\":\"barpolar\"}],\"bar\":[{\"error_x\":{\"color\":\"#2a3f5f\"},\"error_y\":{\"color\":\"#2a3f5f\"},\"marker\":{\"line\":{\"color\":\"white\",\"width\":0.5},\"pattern\":{\"fillmode\":\"overlay\",\"size\":10,\"solidity\":0.2}},\"type\":\"bar\"}],\"carpet\":[{\"aaxis\":{\"endlinecolor\":\"#2a3f5f\",\"gridcolor\":\"#C8D4E3\",\"linecolor\":\"#C8D4E3\",\"minorgridcolor\":\"#C8D4E3\",\"startlinecolor\":\"#2a3f5f\"},\"baxis\":{\"endlinecolor\":\"#2a3f5f\",\"gridcolor\":\"#C8D4E3\",\"linecolor\":\"#C8D4E3\",\"minorgridcolor\":\"#C8D4E3\",\"startlinecolor\":\"#2a3f5f\"},\"type\":\"carpet\"}],\"choropleth\":[{\"colorbar\":{\"outlinewidth\":0,\"ticks\":\"\"},\"type\":\"choropleth\"}],\"contourcarpet\":[{\"colorbar\":{\"outlinewidth\":0,\"ticks\":\"\"},\"type\":\"contourcarpet\"}],\"contour\":[{\"colorbar\":{\"outlinewidth\":0,\"ticks\":\"\"},\"colorscale\":[[0.0,\"#0d0887\"],[0.1111111111111111,\"#46039f\"],[0.2222222222222222,\"#7201a8\"],[0.3333333333333333,\"#9c179e\"],[0.4444444444444444,\"#bd3786\"],[0.5555555555555556,\"#d8576b\"],[0.6666666666666666,\"#ed7953\"],[0.7777777777777778,\"#fb9f3a\"],[0.8888888888888888,\"#fdca26\"],[1.0,\"#f0f921\"]],\"type\":\"contour\"}],\"heatmapgl\":[{\"colorbar\":{\"outlinewidth\":0,\"ticks\":\"\"},\"colorscale\":[[0.0,\"#0d0887\"],[0.1111111111111111,\"#46039f\"],[0.2222222222222222,\"#7201a8\"],[0.3333333333333333,\"#9c179e\"],[0.4444444444444444,\"#bd3786\"],[0.5555555555555556,\"#d8576b\"],[0.6666666666666666,\"#ed7953\"],[0.7777777777777778,\"#fb9f3a\"],[0.8888888888888888,\"#fdca26\"],[1.0,\"#f0f921\"]],\"type\":\"heatmapgl\"}],\"heatmap\":[{\"colorbar\":{\"outlinewidth\":0,\"ticks\":\"\"},\"colorscale\":[[0.0,\"#0d0887\"],[0.1111111111111111,\"#46039f\"],[0.2222222222222222,\"#7201a8\"],[0.3333333333333333,\"#9c179e\"],[0.4444444444444444,\"#bd3786\"],[0.5555555555555556,\"#d8576b\"],[0.6666666666666666,\"#ed7953\"],[0.7777777777777778,\"#fb9f3a\"],[0.8888888888888888,\"#fdca26\"],[1.0,\"#f0f921\"]],\"type\":\"heatmap\"}],\"histogram2dcontour\":[{\"colorbar\":{\"outlinewidth\":0,\"ticks\":\"\"},\"colorscale\":[[0.0,\"#0d0887\"],[0.1111111111111111,\"#46039f\"],[0.2222222222222222,\"#7201a8\"],[0.3333333333333333,\"#9c179e\"],[0.4444444444444444,\"#bd3786\"],[0.5555555555555556,\"#d8576b\"],[0.6666666666666666,\"#ed7953\"],[0.7777777777777778,\"#fb9f3a\"],[0.8888888888888888,\"#fdca26\"],[1.0,\"#f0f921\"]],\"type\":\"histogram2dcontour\"}],\"histogram2d\":[{\"colorbar\":{\"outlinewidth\":0,\"ticks\":\"\"},\"colorscale\":[[0.0,\"#0d0887\"],[0.1111111111111111,\"#46039f\"],[0.2222222222222222,\"#7201a8\"],[0.3333333333333333,\"#9c179e\"],[0.4444444444444444,\"#bd3786\"],[0.5555555555555556,\"#d8576b\"],[0.6666666666666666,\"#ed7953\"],[0.7777777777777778,\"#fb9f3a\"],[0.8888888888888888,\"#fdca26\"],[1.0,\"#f0f921\"]],\"type\":\"histogram2d\"}],\"histogram\":[{\"marker\":{\"pattern\":{\"fillmode\":\"overlay\",\"size\":10,\"solidity\":0.2}},\"type\":\"histogram\"}],\"mesh3d\":[{\"colorbar\":{\"outlinewidth\":0,\"ticks\":\"\"},\"type\":\"mesh3d\"}],\"parcoords\":[{\"line\":{\"colorbar\":{\"outlinewidth\":0,\"ticks\":\"\"}},\"type\":\"parcoords\"}],\"pie\":[{\"automargin\":true,\"type\":\"pie\"}],\"scatter3d\":[{\"line\":{\"colorbar\":{\"outlinewidth\":0,\"ticks\":\"\"}},\"marker\":{\"colorbar\":{\"outlinewidth\":0,\"ticks\":\"\"}},\"type\":\"scatter3d\"}],\"scattercarpet\":[{\"marker\":{\"colorbar\":{\"outlinewidth\":0,\"ticks\":\"\"}},\"type\":\"scattercarpet\"}],\"scattergeo\":[{\"marker\":{\"colorbar\":{\"outlinewidth\":0,\"ticks\":\"\"}},\"type\":\"scattergeo\"}],\"scattergl\":[{\"marker\":{\"colorbar\":{\"outlinewidth\":0,\"ticks\":\"\"}},\"type\":\"scattergl\"}],\"scattermapbox\":[{\"marker\":{\"colorbar\":{\"outlinewidth\":0,\"ticks\":\"\"}},\"type\":\"scattermapbox\"}],\"scatterpolargl\":[{\"marker\":{\"colorbar\":{\"outlinewidth\":0,\"ticks\":\"\"}},\"type\":\"scatterpolargl\"}],\"scatterpolar\":[{\"marker\":{\"colorbar\":{\"outlinewidth\":0,\"ticks\":\"\"}},\"type\":\"scatterpolar\"}],\"scatter\":[{\"marker\":{\"colorbar\":{\"outlinewidth\":0,\"ticks\":\"\"}},\"type\":\"scatter\"}],\"scatterternary\":[{\"marker\":{\"colorbar\":{\"outlinewidth\":0,\"ticks\":\"\"}},\"type\":\"scatterternary\"}],\"surface\":[{\"colorbar\":{\"outlinewidth\":0,\"ticks\":\"\"},\"colorscale\":[[0.0,\"#0d0887\"],[0.1111111111111111,\"#46039f\"],[0.2222222222222222,\"#7201a8\"],[0.3333333333333333,\"#9c179e\"],[0.4444444444444444,\"#bd3786\"],[0.5555555555555556,\"#d8576b\"],[0.6666666666666666,\"#ed7953\"],[0.7777777777777778,\"#fb9f3a\"],[0.8888888888888888,\"#fdca26\"],[1.0,\"#f0f921\"]],\"type\":\"surface\"}],\"table\":[{\"cells\":{\"fill\":{\"color\":\"#EBF0F8\"},\"line\":{\"color\":\"white\"}},\"header\":{\"fill\":{\"color\":\"#C8D4E3\"},\"line\":{\"color\":\"white\"}},\"type\":\"table\"}]},\"layout\":{\"annotationdefaults\":{\"arrowcolor\":\"#2a3f5f\",\"arrowhead\":0,\"arrowwidth\":1},\"autotypenumbers\":\"strict\",\"coloraxis\":{\"colorbar\":{\"outlinewidth\":0,\"ticks\":\"\"}},\"colorscale\":{\"diverging\":[[0,\"#8e0152\"],[0.1,\"#c51b7d\"],[0.2,\"#de77ae\"],[0.3,\"#f1b6da\"],[0.4,\"#fde0ef\"],[0.5,\"#f7f7f7\"],[0.6,\"#e6f5d0\"],[0.7,\"#b8e186\"],[0.8,\"#7fbc41\"],[0.9,\"#4d9221\"],[1,\"#276419\"]],\"sequential\":[[0.0,\"#0d0887\"],[0.1111111111111111,\"#46039f\"],[0.2222222222222222,\"#7201a8\"],[0.3333333333333333,\"#9c179e\"],[0.4444444444444444,\"#bd3786\"],[0.5555555555555556,\"#d8576b\"],[0.6666666666666666,\"#ed7953\"],[0.7777777777777778,\"#fb9f3a\"],[0.8888888888888888,\"#fdca26\"],[1.0,\"#f0f921\"]],\"sequentialminus\":[[0.0,\"#0d0887\"],[0.1111111111111111,\"#46039f\"],[0.2222222222222222,\"#7201a8\"],[0.3333333333333333,\"#9c179e\"],[0.4444444444444444,\"#bd3786\"],[0.5555555555555556,\"#d8576b\"],[0.6666666666666666,\"#ed7953\"],[0.7777777777777778,\"#fb9f3a\"],[0.8888888888888888,\"#fdca26\"],[1.0,\"#f0f921\"]]},\"colorway\":[\"#636efa\",\"#EF553B\",\"#00cc96\",\"#ab63fa\",\"#FFA15A\",\"#19d3f3\",\"#FF6692\",\"#B6E880\",\"#FF97FF\",\"#FECB52\"],\"font\":{\"color\":\"#2a3f5f\"},\"geo\":{\"bgcolor\":\"white\",\"lakecolor\":\"white\",\"landcolor\":\"white\",\"showlakes\":true,\"showland\":true,\"subunitcolor\":\"#C8D4E3\"},\"hoverlabel\":{\"align\":\"left\"},\"hovermode\":\"closest\",\"mapbox\":{\"style\":\"light\"},\"paper_bgcolor\":\"white\",\"plot_bgcolor\":\"white\",\"polar\":{\"angularaxis\":{\"gridcolor\":\"#EBF0F8\",\"linecolor\":\"#EBF0F8\",\"ticks\":\"\"},\"bgcolor\":\"white\",\"radialaxis\":{\"gridcolor\":\"#EBF0F8\",\"linecolor\":\"#EBF0F8\",\"ticks\":\"\"}},\"scene\":{\"xaxis\":{\"backgroundcolor\":\"white\",\"gridcolor\":\"#DFE8F3\",\"gridwidth\":2,\"linecolor\":\"#EBF0F8\",\"showbackground\":true,\"ticks\":\"\",\"zerolinecolor\":\"#EBF0F8\"},\"yaxis\":{\"backgroundcolor\":\"white\",\"gridcolor\":\"#DFE8F3\",\"gridwidth\":2,\"linecolor\":\"#EBF0F8\",\"showbackground\":true,\"ticks\":\"\",\"zerolinecolor\":\"#EBF0F8\"},\"zaxis\":{\"backgroundcolor\":\"white\",\"gridcolor\":\"#DFE8F3\",\"gridwidth\":2,\"linecolor\":\"#EBF0F8\",\"showbackground\":true,\"ticks\":\"\",\"zerolinecolor\":\"#EBF0F8\"}},\"shapedefaults\":{\"line\":{\"color\":\"#2a3f5f\"}},\"ternary\":{\"aaxis\":{\"gridcolor\":\"#DFE8F3\",\"linecolor\":\"#A2B1C6\",\"ticks\":\"\"},\"baxis\":{\"gridcolor\":\"#DFE8F3\",\"linecolor\":\"#A2B1C6\",\"ticks\":\"\"},\"bgcolor\":\"white\",\"caxis\":{\"gridcolor\":\"#DFE8F3\",\"linecolor\":\"#A2B1C6\",\"ticks\":\"\"}},\"title\":{\"x\":0.05},\"xaxis\":{\"automargin\":true,\"gridcolor\":\"#EBF0F8\",\"linecolor\":\"#EBF0F8\",\"ticks\":\"\",\"title\":{\"standoff\":15},\"zerolinecolor\":\"#EBF0F8\",\"zerolinewidth\":2},\"yaxis\":{\"automargin\":true,\"gridcolor\":\"#EBF0F8\",\"linecolor\":\"#EBF0F8\",\"ticks\":\"\",\"title\":{\"standoff\":15},\"zerolinecolor\":\"#EBF0F8\",\"zerolinewidth\":2}}},\"title\":{\"font\":{\"size\":22,\"color\":\"Black\"},\"text\":\"<b>Hierarchical Clustering\",\"x\":0.5,\"xanchor\":\"center\",\"yanchor\":\"top\"},\"hoverlabel\":{\"font\":{\"size\":16,\"family\":\"Rockwell\"},\"bgcolor\":\"white\"},\"plot_bgcolor\":\"#ECEFF1\"},                        {\"responsive\": true}                    ).then(function(){\n",
              "                            \n",
              "var gd = document.getElementById('93047947-a6e1-499c-a111-a0c22477b4e2');\n",
              "var x = new MutationObserver(function (mutations, observer) {{\n",
              "        var display = window.getComputedStyle(gd).display;\n",
              "        if (!display || display === 'none') {{\n",
              "            console.log([gd, 'removed!']);\n",
              "            Plotly.purge(gd);\n",
              "            observer.disconnect();\n",
              "        }}\n",
              "}});\n",
              "\n",
              "// Listen for the removal of the full notebook cells\n",
              "var notebookContainer = gd.closest('#notebook-container');\n",
              "if (notebookContainer) {{\n",
              "    x.observe(notebookContainer, {childList: true});\n",
              "}}\n",
              "\n",
              "// Listen for the clearing of the current output cell\n",
              "var outputEl = gd.closest('.output');\n",
              "if (outputEl) {{\n",
              "    x.observe(outputEl, {childList: true});\n",
              "}}\n",
              "\n",
              "                        })                };                            </script>        </div>\n",
              "</body>\n",
              "</html>"
            ]
          },
          "metadata": {}
        }
      ]
    },
    {
      "cell_type": "markdown",
      "source": [
        "#### **Save Hierarchical Clustering**"
      ],
      "metadata": {
        "id": "CyM_L5c6pBXw"
      }
    },
    {
      "cell_type": "code",
      "source": [
        "# Set the path to save \n",
        "path = '/content/Topic-Modeling-Reclame-Aqui/results/hierarchical_clustering/'\n",
        "\n",
        "# Use makedirs() to create a new directory if it does not exists\n",
        "if not os.path.exists(path):\n",
        "  os.makedirs(path)\n",
        "\n",
        "\n",
        "fig.write_image(path + \"hc_preprocessed_lemma.png\", format=\"png\")"
      ],
      "metadata": {
        "id": "CHYmk_TZpHPJ"
      },
      "execution_count": 280,
      "outputs": []
    },
    {
      "cell_type": "markdown",
      "source": [
        "[Github link](https://github.com/punkmic/Topic-Modeling-Reclame-Aqui/blob/master/results/hierarchical_clustering/hc_preprocessed_lemma.png?raw=true)"
      ],
      "metadata": {
        "id": "VrqyRupApBx1"
      }
    },
    {
      "cell_type": "markdown",
      "source": [
        "### **Visualize Terms**\n",
        "\n",
        "We can visualize the selected terms for a few topics by creating bar charts out of the c-TF-IDF scores for each topic representation."
      ],
      "metadata": {
        "id": "uC26Cc-6UvYE"
      }
    },
    {
      "cell_type": "code",
      "source": [
        "fig = topic_model.visualize_barchart(top_n_topics=12)\n",
        "fig"
      ],
      "metadata": {
        "id": "-NoMSyeWVF2s",
        "outputId": "8a9000a2-217f-4fc4-e916-bc1cf1a78323",
        "colab": {
          "base_uri": "https://localhost:8080/",
          "height": 787
        }
      },
      "execution_count": 301,
      "outputs": [
        {
          "output_type": "display_data",
          "data": {
            "text/html": [
              "<html>\n",
              "<head><meta charset=\"utf-8\" /></head>\n",
              "<body>\n",
              "    <div>            <script src=\"https://cdnjs.cloudflare.com/ajax/libs/mathjax/2.7.5/MathJax.js?config=TeX-AMS-MML_SVG\"></script><script type=\"text/javascript\">if (window.MathJax) {MathJax.Hub.Config({SVG: {font: \"STIX-Web\"}});}</script>                <script type=\"text/javascript\">window.PlotlyConfig = {MathJaxConfig: 'local'};</script>\n",
              "        <script src=\"https://cdn.plot.ly/plotly-2.8.3.min.js\"></script>                <div id=\"23d9ab6b-2078-4dbe-ba61-1929431f3d92\" class=\"plotly-graph-div\" style=\"height:750px; width:1000px;\"></div>            <script type=\"text/javascript\">                                    window.PLOTLYENV=window.PLOTLYENV || {};                                    if (document.getElementById(\"23d9ab6b-2078-4dbe-ba61-1929431f3d92\")) {                    Plotly.newPlot(                        \"23d9ab6b-2078-4dbe-ba61-1929431f3d92\",                        [{\"marker\":{\"color\":\"#D55E00\"},\"orientation\":\"h\",\"x\":[0.20671619017712664,0.20783858720850773,0.21616263752884404,0.2508113991744551,0.2623846972275247],\"y\":[\"assinatura  \",\"cobrar  \",\"cobran\\u00e7a  \",\"cr\\u00e9dito  \",\"cart\\u00e3o  \"],\"type\":\"bar\",\"xaxis\":\"x\",\"yaxis\":\"y\"},{\"marker\":{\"color\":\"#0072B2\"},\"orientation\":\"h\",\"x\":[0.14384204339109585,0.17090118701044152,0.20786430349498292,0.23022531059907597,0.3070375345763583],\"y\":[\"motorola  \",\"fone  \",\"aparelho  \",\"smartphone  \",\"celular  \"],\"type\":\"bar\",\"xaxis\":\"x2\",\"yaxis\":\"y2\"},{\"marker\":{\"color\":\"#CC79A7\"},\"orientation\":\"h\",\"x\":[0.20271454452262574,0.21326869399416898,0.21652746132558112,0.2406104302344749,0.24391184864369145],\"y\":[\"rastreamento  \",\"correio  \",\"rastreio  \",\"endere\\u00e7o  \",\"remetente  \"],\"type\":\"bar\",\"xaxis\":\"x3\",\"yaxis\":\"y3\"},{\"marker\":{\"color\":\"#E69F00\"},\"orientation\":\"h\",\"x\":[0.15549326576597364,0.16103829434478045,0.16144765759764448,0.20711170924440583,0.24098247386732602],\"y\":[\"pilha  \",\"solicitei  \",\"cancelei  \",\"cancelar  \",\"cancelamento  \"],\"type\":\"bar\",\"xaxis\":\"x4\",\"yaxis\":\"y4\"},{\"marker\":{\"color\":\"#56B4E9\"},\"orientation\":\"h\",\"x\":[0.12761012861190726,0.12766563877270062,0.1372561948570209,0.15011423680810693,0.34222921987166066],\"y\":[\"conversa  \",\"mensagem  \",\"atendimento  \",\"agendar  \",\"whatsapp  \"],\"type\":\"bar\",\"xaxis\":\"x5\",\"yaxis\":\"y5\"},{\"marker\":{\"color\":\"#009E73\"},\"orientation\":\"h\",\"x\":[0.18316381145283298,0.18445709770311633,0.18616101309817684,0.19426241962459684,0.2112585432645804],\"y\":[\"volta  \",\"reembolso  \",\"paguei  \",\"dinheiro  \",\"restorno  \"],\"type\":\"bar\",\"xaxis\":\"x6\",\"yaxis\":\"y6\"},{\"marker\":{\"color\":\"#F0E442\"},\"orientation\":\"h\",\"x\":[0.15814054509454353,0.1879023351185634,0.1903580762547453,0.24477249856430633,0.40303794070253307],\"y\":[\"qm647942578br  \",\"ve\\u00edculo  \",\"cuba  \",\"brasileiro  \",\"brasil  \"],\"type\":\"bar\",\"xaxis\":\"x7\",\"yaxis\":\"y7\"},{\"marker\":{\"color\":\"#D55E00\"},\"orientation\":\"h\",\"x\":[0.2968765246341936,0.3125251818720407,0.39082521928984876,0.4110436281589265,0.41269154792681934],\"y\":[\"camisa  \",\"hering  \",\"vestido  \",\"cal\\u00e7a  \",\"roupa  \"],\"type\":\"bar\",\"xaxis\":\"x8\",\"yaxis\":\"y8\"},{\"marker\":{\"color\":\"#0072B2\"},\"orientation\":\"h\",\"x\":[0.25544257216517924,0.2754967802618686,0.32826928135583805,0.35728498986747825,0.4020519589348864],\"y\":[\"recuperar  \",\"conta  \",\"acesso  \",\"acessar  \",\"senha  \"],\"type\":\"bar\",\"xaxis\":\"x9\",\"yaxis\":\"y9\"},{\"marker\":{\"color\":\"#CC79A7\"},\"orientation\":\"h\",\"x\":[0.17197496317675406,0.17957964962168682,0.1799054921417168,0.1847541330152692,0.18992198654265371],\"y\":[\"full  \",\"prazo  \",\"previs\\u00e3o  \",\"atraso  \",\"data  \"],\"type\":\"bar\",\"xaxis\":\"x10\",\"yaxis\":\"y10\"},{\"marker\":{\"color\":\"#E69F00\"},\"orientation\":\"h\",\"x\":[0.18694543930832822,0.1879847434343744,0.20991291910869084,0.29949795006779933,0.3548151385842798],\"y\":[\"americanascom  \",\"shoptime  \",\"cupom  \",\"americano  \",\"americana  \"],\"type\":\"bar\",\"xaxis\":\"x11\",\"yaxis\":\"y11\"},{\"marker\":{\"color\":\"#56B4E9\"},\"orientation\":\"h\",\"x\":[0.17341345710404452,0.1955801249430911,0.22607169225724177,0.2489345171577683,0.32595682721319963],\"y\":[\"vendedor  \",\"reputa\\u00e7\\u00e3o  \",\"comprador  \",\"infra\\u00e7\\u00e3o  \",\"ariano  \"],\"type\":\"bar\",\"xaxis\":\"x12\",\"yaxis\":\"y12\"}],                        {\"template\":{\"data\":{\"barpolar\":[{\"marker\":{\"line\":{\"color\":\"white\",\"width\":0.5},\"pattern\":{\"fillmode\":\"overlay\",\"size\":10,\"solidity\":0.2}},\"type\":\"barpolar\"}],\"bar\":[{\"error_x\":{\"color\":\"#2a3f5f\"},\"error_y\":{\"color\":\"#2a3f5f\"},\"marker\":{\"line\":{\"color\":\"white\",\"width\":0.5},\"pattern\":{\"fillmode\":\"overlay\",\"size\":10,\"solidity\":0.2}},\"type\":\"bar\"}],\"carpet\":[{\"aaxis\":{\"endlinecolor\":\"#2a3f5f\",\"gridcolor\":\"#C8D4E3\",\"linecolor\":\"#C8D4E3\",\"minorgridcolor\":\"#C8D4E3\",\"startlinecolor\":\"#2a3f5f\"},\"baxis\":{\"endlinecolor\":\"#2a3f5f\",\"gridcolor\":\"#C8D4E3\",\"linecolor\":\"#C8D4E3\",\"minorgridcolor\":\"#C8D4E3\",\"startlinecolor\":\"#2a3f5f\"},\"type\":\"carpet\"}],\"choropleth\":[{\"colorbar\":{\"outlinewidth\":0,\"ticks\":\"\"},\"type\":\"choropleth\"}],\"contourcarpet\":[{\"colorbar\":{\"outlinewidth\":0,\"ticks\":\"\"},\"type\":\"contourcarpet\"}],\"contour\":[{\"colorbar\":{\"outlinewidth\":0,\"ticks\":\"\"},\"colorscale\":[[0.0,\"#0d0887\"],[0.1111111111111111,\"#46039f\"],[0.2222222222222222,\"#7201a8\"],[0.3333333333333333,\"#9c179e\"],[0.4444444444444444,\"#bd3786\"],[0.5555555555555556,\"#d8576b\"],[0.6666666666666666,\"#ed7953\"],[0.7777777777777778,\"#fb9f3a\"],[0.8888888888888888,\"#fdca26\"],[1.0,\"#f0f921\"]],\"type\":\"contour\"}],\"heatmapgl\":[{\"colorbar\":{\"outlinewidth\":0,\"ticks\":\"\"},\"colorscale\":[[0.0,\"#0d0887\"],[0.1111111111111111,\"#46039f\"],[0.2222222222222222,\"#7201a8\"],[0.3333333333333333,\"#9c179e\"],[0.4444444444444444,\"#bd3786\"],[0.5555555555555556,\"#d8576b\"],[0.6666666666666666,\"#ed7953\"],[0.7777777777777778,\"#fb9f3a\"],[0.8888888888888888,\"#fdca26\"],[1.0,\"#f0f921\"]],\"type\":\"heatmapgl\"}],\"heatmap\":[{\"colorbar\":{\"outlinewidth\":0,\"ticks\":\"\"},\"colorscale\":[[0.0,\"#0d0887\"],[0.1111111111111111,\"#46039f\"],[0.2222222222222222,\"#7201a8\"],[0.3333333333333333,\"#9c179e\"],[0.4444444444444444,\"#bd3786\"],[0.5555555555555556,\"#d8576b\"],[0.6666666666666666,\"#ed7953\"],[0.7777777777777778,\"#fb9f3a\"],[0.8888888888888888,\"#fdca26\"],[1.0,\"#f0f921\"]],\"type\":\"heatmap\"}],\"histogram2dcontour\":[{\"colorbar\":{\"outlinewidth\":0,\"ticks\":\"\"},\"colorscale\":[[0.0,\"#0d0887\"],[0.1111111111111111,\"#46039f\"],[0.2222222222222222,\"#7201a8\"],[0.3333333333333333,\"#9c179e\"],[0.4444444444444444,\"#bd3786\"],[0.5555555555555556,\"#d8576b\"],[0.6666666666666666,\"#ed7953\"],[0.7777777777777778,\"#fb9f3a\"],[0.8888888888888888,\"#fdca26\"],[1.0,\"#f0f921\"]],\"type\":\"histogram2dcontour\"}],\"histogram2d\":[{\"colorbar\":{\"outlinewidth\":0,\"ticks\":\"\"},\"colorscale\":[[0.0,\"#0d0887\"],[0.1111111111111111,\"#46039f\"],[0.2222222222222222,\"#7201a8\"],[0.3333333333333333,\"#9c179e\"],[0.4444444444444444,\"#bd3786\"],[0.5555555555555556,\"#d8576b\"],[0.6666666666666666,\"#ed7953\"],[0.7777777777777778,\"#fb9f3a\"],[0.8888888888888888,\"#fdca26\"],[1.0,\"#f0f921\"]],\"type\":\"histogram2d\"}],\"histogram\":[{\"marker\":{\"pattern\":{\"fillmode\":\"overlay\",\"size\":10,\"solidity\":0.2}},\"type\":\"histogram\"}],\"mesh3d\":[{\"colorbar\":{\"outlinewidth\":0,\"ticks\":\"\"},\"type\":\"mesh3d\"}],\"parcoords\":[{\"line\":{\"colorbar\":{\"outlinewidth\":0,\"ticks\":\"\"}},\"type\":\"parcoords\"}],\"pie\":[{\"automargin\":true,\"type\":\"pie\"}],\"scatter3d\":[{\"line\":{\"colorbar\":{\"outlinewidth\":0,\"ticks\":\"\"}},\"marker\":{\"colorbar\":{\"outlinewidth\":0,\"ticks\":\"\"}},\"type\":\"scatter3d\"}],\"scattercarpet\":[{\"marker\":{\"colorbar\":{\"outlinewidth\":0,\"ticks\":\"\"}},\"type\":\"scattercarpet\"}],\"scattergeo\":[{\"marker\":{\"colorbar\":{\"outlinewidth\":0,\"ticks\":\"\"}},\"type\":\"scattergeo\"}],\"scattergl\":[{\"marker\":{\"colorbar\":{\"outlinewidth\":0,\"ticks\":\"\"}},\"type\":\"scattergl\"}],\"scattermapbox\":[{\"marker\":{\"colorbar\":{\"outlinewidth\":0,\"ticks\":\"\"}},\"type\":\"scattermapbox\"}],\"scatterpolargl\":[{\"marker\":{\"colorbar\":{\"outlinewidth\":0,\"ticks\":\"\"}},\"type\":\"scatterpolargl\"}],\"scatterpolar\":[{\"marker\":{\"colorbar\":{\"outlinewidth\":0,\"ticks\":\"\"}},\"type\":\"scatterpolar\"}],\"scatter\":[{\"marker\":{\"colorbar\":{\"outlinewidth\":0,\"ticks\":\"\"}},\"type\":\"scatter\"}],\"scatterternary\":[{\"marker\":{\"colorbar\":{\"outlinewidth\":0,\"ticks\":\"\"}},\"type\":\"scatterternary\"}],\"surface\":[{\"colorbar\":{\"outlinewidth\":0,\"ticks\":\"\"},\"colorscale\":[[0.0,\"#0d0887\"],[0.1111111111111111,\"#46039f\"],[0.2222222222222222,\"#7201a8\"],[0.3333333333333333,\"#9c179e\"],[0.4444444444444444,\"#bd3786\"],[0.5555555555555556,\"#d8576b\"],[0.6666666666666666,\"#ed7953\"],[0.7777777777777778,\"#fb9f3a\"],[0.8888888888888888,\"#fdca26\"],[1.0,\"#f0f921\"]],\"type\":\"surface\"}],\"table\":[{\"cells\":{\"fill\":{\"color\":\"#EBF0F8\"},\"line\":{\"color\":\"white\"}},\"header\":{\"fill\":{\"color\":\"#C8D4E3\"},\"line\":{\"color\":\"white\"}},\"type\":\"table\"}]},\"layout\":{\"annotationdefaults\":{\"arrowcolor\":\"#2a3f5f\",\"arrowhead\":0,\"arrowwidth\":1},\"autotypenumbers\":\"strict\",\"coloraxis\":{\"colorbar\":{\"outlinewidth\":0,\"ticks\":\"\"}},\"colorscale\":{\"diverging\":[[0,\"#8e0152\"],[0.1,\"#c51b7d\"],[0.2,\"#de77ae\"],[0.3,\"#f1b6da\"],[0.4,\"#fde0ef\"],[0.5,\"#f7f7f7\"],[0.6,\"#e6f5d0\"],[0.7,\"#b8e186\"],[0.8,\"#7fbc41\"],[0.9,\"#4d9221\"],[1,\"#276419\"]],\"sequential\":[[0.0,\"#0d0887\"],[0.1111111111111111,\"#46039f\"],[0.2222222222222222,\"#7201a8\"],[0.3333333333333333,\"#9c179e\"],[0.4444444444444444,\"#bd3786\"],[0.5555555555555556,\"#d8576b\"],[0.6666666666666666,\"#ed7953\"],[0.7777777777777778,\"#fb9f3a\"],[0.8888888888888888,\"#fdca26\"],[1.0,\"#f0f921\"]],\"sequentialminus\":[[0.0,\"#0d0887\"],[0.1111111111111111,\"#46039f\"],[0.2222222222222222,\"#7201a8\"],[0.3333333333333333,\"#9c179e\"],[0.4444444444444444,\"#bd3786\"],[0.5555555555555556,\"#d8576b\"],[0.6666666666666666,\"#ed7953\"],[0.7777777777777778,\"#fb9f3a\"],[0.8888888888888888,\"#fdca26\"],[1.0,\"#f0f921\"]]},\"colorway\":[\"#636efa\",\"#EF553B\",\"#00cc96\",\"#ab63fa\",\"#FFA15A\",\"#19d3f3\",\"#FF6692\",\"#B6E880\",\"#FF97FF\",\"#FECB52\"],\"font\":{\"color\":\"#2a3f5f\"},\"geo\":{\"bgcolor\":\"white\",\"lakecolor\":\"white\",\"landcolor\":\"white\",\"showlakes\":true,\"showland\":true,\"subunitcolor\":\"#C8D4E3\"},\"hoverlabel\":{\"align\":\"left\"},\"hovermode\":\"closest\",\"mapbox\":{\"style\":\"light\"},\"paper_bgcolor\":\"white\",\"plot_bgcolor\":\"white\",\"polar\":{\"angularaxis\":{\"gridcolor\":\"#EBF0F8\",\"linecolor\":\"#EBF0F8\",\"ticks\":\"\"},\"bgcolor\":\"white\",\"radialaxis\":{\"gridcolor\":\"#EBF0F8\",\"linecolor\":\"#EBF0F8\",\"ticks\":\"\"}},\"scene\":{\"xaxis\":{\"backgroundcolor\":\"white\",\"gridcolor\":\"#DFE8F3\",\"gridwidth\":2,\"linecolor\":\"#EBF0F8\",\"showbackground\":true,\"ticks\":\"\",\"zerolinecolor\":\"#EBF0F8\"},\"yaxis\":{\"backgroundcolor\":\"white\",\"gridcolor\":\"#DFE8F3\",\"gridwidth\":2,\"linecolor\":\"#EBF0F8\",\"showbackground\":true,\"ticks\":\"\",\"zerolinecolor\":\"#EBF0F8\"},\"zaxis\":{\"backgroundcolor\":\"white\",\"gridcolor\":\"#DFE8F3\",\"gridwidth\":2,\"linecolor\":\"#EBF0F8\",\"showbackground\":true,\"ticks\":\"\",\"zerolinecolor\":\"#EBF0F8\"}},\"shapedefaults\":{\"line\":{\"color\":\"#2a3f5f\"}},\"ternary\":{\"aaxis\":{\"gridcolor\":\"#DFE8F3\",\"linecolor\":\"#A2B1C6\",\"ticks\":\"\"},\"baxis\":{\"gridcolor\":\"#DFE8F3\",\"linecolor\":\"#A2B1C6\",\"ticks\":\"\"},\"bgcolor\":\"white\",\"caxis\":{\"gridcolor\":\"#DFE8F3\",\"linecolor\":\"#A2B1C6\",\"ticks\":\"\"}},\"title\":{\"x\":0.05},\"xaxis\":{\"automargin\":true,\"gridcolor\":\"#EBF0F8\",\"linecolor\":\"#EBF0F8\",\"ticks\":\"\",\"title\":{\"standoff\":15},\"zerolinecolor\":\"#EBF0F8\",\"zerolinewidth\":2},\"yaxis\":{\"automargin\":true,\"gridcolor\":\"#EBF0F8\",\"linecolor\":\"#EBF0F8\",\"ticks\":\"\",\"title\":{\"standoff\":15},\"zerolinecolor\":\"#EBF0F8\",\"zerolinewidth\":2}}},\"xaxis\":{\"anchor\":\"y\",\"domain\":[0.0,0.175],\"showgrid\":true},\"yaxis\":{\"anchor\":\"x\",\"domain\":[0.7555555555555555,1.0],\"showgrid\":true},\"xaxis2\":{\"anchor\":\"y2\",\"domain\":[0.275,0.45],\"showgrid\":true},\"yaxis2\":{\"anchor\":\"x2\",\"domain\":[0.7555555555555555,1.0],\"showgrid\":true},\"xaxis3\":{\"anchor\":\"y3\",\"domain\":[0.55,0.7250000000000001],\"showgrid\":true},\"yaxis3\":{\"anchor\":\"x3\",\"domain\":[0.7555555555555555,1.0],\"showgrid\":true},\"xaxis4\":{\"anchor\":\"y4\",\"domain\":[0.825,1.0],\"showgrid\":true},\"yaxis4\":{\"anchor\":\"x4\",\"domain\":[0.7555555555555555,1.0],\"showgrid\":true},\"xaxis5\":{\"anchor\":\"y5\",\"domain\":[0.0,0.175],\"showgrid\":true},\"yaxis5\":{\"anchor\":\"x5\",\"domain\":[0.37777777777777777,0.6222222222222222],\"showgrid\":true},\"xaxis6\":{\"anchor\":\"y6\",\"domain\":[0.275,0.45],\"showgrid\":true},\"yaxis6\":{\"anchor\":\"x6\",\"domain\":[0.37777777777777777,0.6222222222222222],\"showgrid\":true},\"xaxis7\":{\"anchor\":\"y7\",\"domain\":[0.55,0.7250000000000001],\"showgrid\":true},\"yaxis7\":{\"anchor\":\"x7\",\"domain\":[0.37777777777777777,0.6222222222222222],\"showgrid\":true},\"xaxis8\":{\"anchor\":\"y8\",\"domain\":[0.825,1.0],\"showgrid\":true},\"yaxis8\":{\"anchor\":\"x8\",\"domain\":[0.37777777777777777,0.6222222222222222],\"showgrid\":true},\"xaxis9\":{\"anchor\":\"y9\",\"domain\":[0.0,0.175],\"showgrid\":true},\"yaxis9\":{\"anchor\":\"x9\",\"domain\":[0.0,0.24444444444444446],\"showgrid\":true},\"xaxis10\":{\"anchor\":\"y10\",\"domain\":[0.275,0.45],\"showgrid\":true},\"yaxis10\":{\"anchor\":\"x10\",\"domain\":[0.0,0.24444444444444446],\"showgrid\":true},\"xaxis11\":{\"anchor\":\"y11\",\"domain\":[0.55,0.7250000000000001],\"showgrid\":true},\"yaxis11\":{\"anchor\":\"x11\",\"domain\":[0.0,0.24444444444444446],\"showgrid\":true},\"xaxis12\":{\"anchor\":\"y12\",\"domain\":[0.825,1.0],\"showgrid\":true},\"yaxis12\":{\"anchor\":\"x12\",\"domain\":[0.0,0.24444444444444446],\"showgrid\":true},\"annotations\":[{\"font\":{\"size\":16},\"showarrow\":false,\"text\":\"Topic 0\",\"x\":0.0875,\"xanchor\":\"center\",\"xref\":\"paper\",\"y\":1.0,\"yanchor\":\"bottom\",\"yref\":\"paper\"},{\"font\":{\"size\":16},\"showarrow\":false,\"text\":\"Topic 1\",\"x\":0.36250000000000004,\"xanchor\":\"center\",\"xref\":\"paper\",\"y\":1.0,\"yanchor\":\"bottom\",\"yref\":\"paper\"},{\"font\":{\"size\":16},\"showarrow\":false,\"text\":\"Topic 2\",\"x\":0.6375000000000001,\"xanchor\":\"center\",\"xref\":\"paper\",\"y\":1.0,\"yanchor\":\"bottom\",\"yref\":\"paper\"},{\"font\":{\"size\":16},\"showarrow\":false,\"text\":\"Topic 3\",\"x\":0.9125,\"xanchor\":\"center\",\"xref\":\"paper\",\"y\":1.0,\"yanchor\":\"bottom\",\"yref\":\"paper\"},{\"font\":{\"size\":16},\"showarrow\":false,\"text\":\"Topic 4\",\"x\":0.0875,\"xanchor\":\"center\",\"xref\":\"paper\",\"y\":0.6222222222222222,\"yanchor\":\"bottom\",\"yref\":\"paper\"},{\"font\":{\"size\":16},\"showarrow\":false,\"text\":\"Topic 5\",\"x\":0.36250000000000004,\"xanchor\":\"center\",\"xref\":\"paper\",\"y\":0.6222222222222222,\"yanchor\":\"bottom\",\"yref\":\"paper\"},{\"font\":{\"size\":16},\"showarrow\":false,\"text\":\"Topic 6\",\"x\":0.6375000000000001,\"xanchor\":\"center\",\"xref\":\"paper\",\"y\":0.6222222222222222,\"yanchor\":\"bottom\",\"yref\":\"paper\"},{\"font\":{\"size\":16},\"showarrow\":false,\"text\":\"Topic 7\",\"x\":0.9125,\"xanchor\":\"center\",\"xref\":\"paper\",\"y\":0.6222222222222222,\"yanchor\":\"bottom\",\"yref\":\"paper\"},{\"font\":{\"size\":16},\"showarrow\":false,\"text\":\"Topic 8\",\"x\":0.0875,\"xanchor\":\"center\",\"xref\":\"paper\",\"y\":0.24444444444444446,\"yanchor\":\"bottom\",\"yref\":\"paper\"},{\"font\":{\"size\":16},\"showarrow\":false,\"text\":\"Topic 9\",\"x\":0.36250000000000004,\"xanchor\":\"center\",\"xref\":\"paper\",\"y\":0.24444444444444446,\"yanchor\":\"bottom\",\"yref\":\"paper\"},{\"font\":{\"size\":16},\"showarrow\":false,\"text\":\"Topic 10\",\"x\":0.6375000000000001,\"xanchor\":\"center\",\"xref\":\"paper\",\"y\":0.24444444444444446,\"yanchor\":\"bottom\",\"yref\":\"paper\"},{\"font\":{\"size\":16},\"showarrow\":false,\"text\":\"Topic 11\",\"x\":0.9125,\"xanchor\":\"center\",\"xref\":\"paper\",\"y\":0.24444444444444446,\"yanchor\":\"bottom\",\"yref\":\"paper\"}],\"title\":{\"font\":{\"size\":22,\"color\":\"Black\"},\"text\":\"<b>Topic Word Scores\",\"x\":0.5,\"xanchor\":\"center\",\"yanchor\":\"top\"},\"hoverlabel\":{\"font\":{\"size\":16,\"family\":\"Rockwell\"},\"bgcolor\":\"white\"},\"showlegend\":false,\"width\":1000,\"height\":750},                        {\"responsive\": true}                    ).then(function(){\n",
              "                            \n",
              "var gd = document.getElementById('23d9ab6b-2078-4dbe-ba61-1929431f3d92');\n",
              "var x = new MutationObserver(function (mutations, observer) {{\n",
              "        var display = window.getComputedStyle(gd).display;\n",
              "        if (!display || display === 'none') {{\n",
              "            console.log([gd, 'removed!']);\n",
              "            Plotly.purge(gd);\n",
              "            observer.disconnect();\n",
              "        }}\n",
              "}});\n",
              "\n",
              "// Listen for the removal of the full notebook cells\n",
              "var notebookContainer = gd.closest('#notebook-container');\n",
              "if (notebookContainer) {{\n",
              "    x.observe(notebookContainer, {childList: true});\n",
              "}}\n",
              "\n",
              "// Listen for the clearing of the current output cell\n",
              "var outputEl = gd.closest('.output');\n",
              "if (outputEl) {{\n",
              "    x.observe(outputEl, {childList: true});\n",
              "}}\n",
              "\n",
              "                        })                };                            </script>        </div>\n",
              "</body>\n",
              "</html>"
            ]
          },
          "metadata": {}
        }
      ]
    },
    {
      "cell_type": "markdown",
      "source": [
        "#### **Save Top Word Scores Bar Chart**"
      ],
      "metadata": {
        "id": "MZWFicVqpWUA"
      }
    },
    {
      "cell_type": "code",
      "source": [
        "# Set the path to save \n",
        "path = '/content/Topic-Modeling-Reclame-Aqui/results/top_words_scores/'\n",
        "\n",
        "# Use makedirs() to create a new directory if it does not exists\n",
        "if not os.path.exists(path):\n",
        "  os.makedirs(path)\n",
        "\n",
        "\n",
        "fig.write_image(path + \"tws_preprocessed_lemma.png\", format=\"png\")"
      ],
      "metadata": {
        "id": "Qrz2ywMapdO5"
      },
      "execution_count": 282,
      "outputs": []
    },
    {
      "cell_type": "markdown",
      "source": [
        "[Github link](https://github.com/punkmic/Topic-Modeling-Reclame-Aqui/blob/master/results/top_words_scores/tws_preprocessed_lemma.png?raw=true)"
      ],
      "metadata": {
        "id": "HtFLmwl4pTAv"
      }
    },
    {
      "cell_type": "markdown",
      "source": [
        "### **Visualize Topic Similarity**\n",
        "\n",
        "This plot shows a similarity matrix by simply applying cosine similarities through those topic embeddings generate by BERTopic through both c-TF-IDF and embeddings. This matrix indicate how similar certain topics are to each other."
      ],
      "metadata": {
        "id": "qMjOvmYVVUDX"
      }
    },
    {
      "cell_type": "code",
      "source": [
        "fig = topic_model.visualize_heatmap(n_clusters=20, width=1000, height=1000)\n",
        "fig"
      ],
      "metadata": {
        "id": "_GL5qZ0nV3M2",
        "outputId": "941a8c60-e2a9-4de9-c506-c6f49eee9287",
        "colab": {
          "base_uri": "https://localhost:8080/",
          "height": 1000
        }
      },
      "execution_count": 283,
      "outputs": [
        {
          "output_type": "display_data",
          "data": {
            "text/html": [
              "<html>\n",
              "<head><meta charset=\"utf-8\" /></head>\n",
              "<body>\n",
              "    <div>            <script src=\"https://cdnjs.cloudflare.com/ajax/libs/mathjax/2.7.5/MathJax.js?config=TeX-AMS-MML_SVG\"></script><script type=\"text/javascript\">if (window.MathJax) {MathJax.Hub.Config({SVG: {font: \"STIX-Web\"}});}</script>                <script type=\"text/javascript\">window.PlotlyConfig = {MathJaxConfig: 'local'};</script>\n",
              "        <script src=\"https://cdn.plot.ly/plotly-2.8.3.min.js\"></script>                <div id=\"c6f54b2c-884e-42e2-8362-89d9bf63e114\" class=\"plotly-graph-div\" style=\"height:1000px; width:1000px;\"></div>            <script type=\"text/javascript\">                                    window.PLOTLYENV=window.PLOTLYENV || {};                                    if (document.getElementById(\"c6f54b2c-884e-42e2-8362-89d9bf63e114\")) {                    Plotly.newPlot(                        \"c6f54b2c-884e-42e2-8362-89d9bf63e114\",                        [{\"coloraxis\":\"coloraxis\",\"name\":\"0\",\"x\":[\"0_cart\\u00e3o_cr\\u00e9dito_assinatura\",\"8_amazon_cobran\\u00e7a_amazoncombr\",\"33_taxa_reembolso_taxar\",\"1_bahia_casa_de\",\"5_cancelamento_cancelar_ped...\",\"10_americana_americano_loja\",\"11_conta_senha_acessar\",\"12_magazine_luizar_loja\",\"20_livro_gratuito_compr\",\"21_transportadora_entrega_e...\",\"25_prime_v\\u00eddeo_cupom\",\"36_aplicativo_reembolso_ped...\",\"51_nacional_internacional_e...\",\"64_rastreamento_rastrear_ra...\",\"71_iphone_an\\u00fancio_friday\",\"73_email_americana_descadas...\",\"77_propaganda_enganoso_amer...\",\"2_mercado_livre_vendedor\",\"4_pedido_endere\\u00e7o_correio\",\"16_jogo_lan\\u00e7amento_ragnarok\",\"18_entrega_prazo_data\",\"28_curitiba_parado_rastreio\",\"31_americana_entrega_data\",\"32_mercadoria_entregar_nats\",\"38_entregar_loggi_pedido\",\"44_curitiba_parado_entrega\",\"46_trip\\u00e9_ganhar_giro\",\"53_entrega_previs\\u00e3o_contato\",\"57_transportadora_rota_entr...\",\"58_boleto_pagamento_paguei\",\"62_reclamacao_reabrir_loja\",\"65_dinheiro_plataforma_sacar\",\"66_conta_mercado_opera\\u00e7\\u00e3o\",\"69_campainha_encomenda_ning...\",\"70_mandar_voce_nada\",\"76_aplicativo_prazo_gerenciar\",\"3_celular_aparelho_smartphone\",\"6_whatsapp_contato_por\",\"40_m\\u00fasica_music_ouvir\",\"72_echo_multilaser_studio\",\"7_brasil_de_brasileiro\",\"34_china_nacional_correio\",\"9_roupa_cal\\u00e7a_vestido\",\"26_cama_colch\\u00e3o_ch\\u00e3o\",\"45_reconhecimento_facial_ro...\",\"60_l\\u00e2mpada_lampada_an\\u00fancio\",\"74_cabelo_m\\u00e1scara_natural\",\"13_reembolso_valor_dinheiro\",\"24_black_friday_promo\\u00e7\\u00e3o\",\"29_devolu\\u00e7\\u00e3o_postagem_reemb...\",\"54_mercado_pagar_livre\",\"68_site_dinheiro_pagar\",\"14_caixa_garrafa_embalagem\",\"52_virtual_cart\\u00e3o_fatura\",\"61_conta_bloquear_bloqueio\",\"63_devolu\\u00e7\\u00e3o_c\\u00f3digo_gerar\",\"15_iphone_aparelho_carregador\",\"41_bluetooth_fone_ouvido\",\"55_bateria_arma_kindle\",\"17_geladeira_refrigerador_t...\",\"67_microondas_microonda_rec...\",\"19_samsung_galaxy_celular\",\"22_t\\u00eanis_tenis_raquete\",\"43_pneu_pastilha_moto\",\"49_cadeira_montar_gamer\",\"23_rob\\u00f4_aspirador_suporte\",\"30_lavar_m\\u00e1quina_roupa\",\"27_novembro_dezembro_entrega\",\"48_anivers\\u00e1rio_presente_filho\",\"75_novembro_dezembro_bijute...\",\"35_cashback_valor_americana\",\"37_televis\\u00e3o_televisor_moni...\",\"56_rel\\u00f3gio_nvme_smartwatch\",\"59_notebook_cupom_desconto\",\"39_perfume_shampoo_cachorro\",\"42_bicicleta_bikes_bike\",\"47_sof\\u00e1_mobly_magazine\",\"50_mouse_teclado_combo\"],\"y\":[\"0_cart\\u00e3o_cr\\u00e9dito_assinatura\",\"8_amazon_cobran\\u00e7a_amazoncombr\",\"33_taxa_reembolso_taxar\",\"1_bahia_casa_de\",\"5_cancelamento_cancelar_ped...\",\"10_americana_americano_loja\",\"11_conta_senha_acessar\",\"12_magazine_luizar_loja\",\"20_livro_gratuito_compr\",\"21_transportadora_entrega_e...\",\"25_prime_v\\u00eddeo_cupom\",\"36_aplicativo_reembolso_ped...\",\"51_nacional_internacional_e...\",\"64_rastreamento_rastrear_ra...\",\"71_iphone_an\\u00fancio_friday\",\"73_email_americana_descadas...\",\"77_propaganda_enganoso_amer...\",\"2_mercado_livre_vendedor\",\"4_pedido_endere\\u00e7o_correio\",\"16_jogo_lan\\u00e7amento_ragnarok\",\"18_entrega_prazo_data\",\"28_curitiba_parado_rastreio\",\"31_americana_entrega_data\",\"32_mercadoria_entregar_nats\",\"38_entregar_loggi_pedido\",\"44_curitiba_parado_entrega\",\"46_trip\\u00e9_ganhar_giro\",\"53_entrega_previs\\u00e3o_contato\",\"57_transportadora_rota_entr...\",\"58_boleto_pagamento_paguei\",\"62_reclamacao_reabrir_loja\",\"65_dinheiro_plataforma_sacar\",\"66_conta_mercado_opera\\u00e7\\u00e3o\",\"69_campainha_encomenda_ning...\",\"70_mandar_voce_nada\",\"76_aplicativo_prazo_gerenciar\",\"3_celular_aparelho_smartphone\",\"6_whatsapp_contato_por\",\"40_m\\u00fasica_music_ouvir\",\"72_echo_multilaser_studio\",\"7_brasil_de_brasileiro\",\"34_china_nacional_correio\",\"9_roupa_cal\\u00e7a_vestido\",\"26_cama_colch\\u00e3o_ch\\u00e3o\",\"45_reconhecimento_facial_ro...\",\"60_l\\u00e2mpada_lampada_an\\u00fancio\",\"74_cabelo_m\\u00e1scara_natural\",\"13_reembolso_valor_dinheiro\",\"24_black_friday_promo\\u00e7\\u00e3o\",\"29_devolu\\u00e7\\u00e3o_postagem_reemb...\",\"54_mercado_pagar_livre\",\"68_site_dinheiro_pagar\",\"14_caixa_garrafa_embalagem\",\"52_virtual_cart\\u00e3o_fatura\",\"61_conta_bloquear_bloqueio\",\"63_devolu\\u00e7\\u00e3o_c\\u00f3digo_gerar\",\"15_iphone_aparelho_carregador\",\"41_bluetooth_fone_ouvido\",\"55_bateria_arma_kindle\",\"17_geladeira_refrigerador_t...\",\"67_microondas_microonda_rec...\",\"19_samsung_galaxy_celular\",\"22_t\\u00eanis_tenis_raquete\",\"43_pneu_pastilha_moto\",\"49_cadeira_montar_gamer\",\"23_rob\\u00f4_aspirador_suporte\",\"30_lavar_m\\u00e1quina_roupa\",\"27_novembro_dezembro_entrega\",\"48_anivers\\u00e1rio_presente_filho\",\"75_novembro_dezembro_bijute...\",\"35_cashback_valor_americana\",\"37_televis\\u00e3o_televisor_moni...\",\"56_rel\\u00f3gio_nvme_smartwatch\",\"59_notebook_cupom_desconto\",\"39_perfume_shampoo_cachorro\",\"42_bicicleta_bikes_bike\",\"47_sof\\u00e1_mobly_magazine\",\"50_mouse_teclado_combo\"],\"z\":[[1.0000000000000007,0.7808110724419669,0.8774242869600541,0.701833842109951,0.7084083908020946,0.7259175407814024,0.7511719957388072,0.7032352261918435,0.6955229173857054,0.756408373969002,0.7154632347613656,0.7688039219571743,0.7241899394716298,0.7053352515255459,0.730167712634801,0.7161261857957832,0.6736496283636669,0.796023219568918,0.784464910384142,0.7594713273442393,0.7823446743116146,0.7257220564029193,0.759744077607355,0.7718352706416763,0.7386033360913095,0.7329557925185195,0.709030761976585,0.7837963540643416,0.7305068755096161,0.8775545865807206,0.7233649564904383,0.8235601186214501,0.7767879910554089,0.7266590252420093,0.6948737624251506,0.7371544713239091,0.6571488155098562,0.5982301523348825,0.6025316682911633,0.5455865367845482,0.5997357376726211,0.6486745293634304,0.6008640642988684,0.5499447773438844,0.6243047430183053,0.600278707243522,0.5426606361753754,0.8707439124985012,0.7810114450186734,0.7879042524408676,0.9336091732743026,0.8468202155235791,0.7138713287708901,0.8498407922979883,0.6946310029343317,0.6985697218192836,0.6220545624119007,0.5747106362700313,0.617609526976077,0.5399754585605213,0.500254732642632,0.4469639576836915,0.5426684181475312,0.5177384055652743,0.5441730324517835,0.49165121565983183,0.5464019970124694,0.7182306842287359,0.7149179692816487,0.7011503274193405,0.7585174928971744,0.5194368372882064,0.593910504727094,0.6172480385701655,0.505793470373394,0.40661123247968184,0.4667301270766129,0.4175767562000418],[0.7808110724419669,1.0000000000000007,0.7414181802221977,0.7760878280808541,0.7573733653376357,0.7790453695960367,0.8034411239901453,0.7827796222822363,0.7513555747551012,0.763858664929418,0.7560247492594299,0.796961474619902,0.7377786520810179,0.7377124574642495,0.7668956876050317,0.7794000011088267,0.717145225377782,0.7919225145998233,0.7912298272453342,0.7640324901314616,0.7749605123387069,0.76614849633424,0.7779109004661782,0.7988510931715527,0.8396077500776954,0.7389477391731375,0.7218491524418823,0.7946403427082857,0.7197637768038251,0.7838625637376333,0.74286001004339,0.7799529736346542,0.7785022480862098,0.7269009670371694,0.7216044544260418,0.7522303867974962,0.6513490462839866,0.6632347539252169,0.661386559424803,0.5968786315035051,0.6805017516190202,0.6410363220104376,0.5479868854835975,0.5364575516412394,0.6751863936960784,0.6064650164702752,0.5777675425825234,0.7665130177417894,0.7231895351605915,0.7574510248611152,0.7854841615727376,0.8192689390406851,0.6897560626133035,0.8038364444218734,0.682278444395648,0.678816569846648,0.6761783861109316,0.6115512577470827,0.5484596171979492,0.5688713022690721,0.5218464101858612,0.4657317770878907,0.5336496072289418,0.5105422187960451,0.5090055085380983,0.5818225923438464,0.5468842609763881,0.7400903845380263,0.7007120320665734,0.7212411519918394,0.6360330313399334,0.5855482113809707,0.5346594765528749,0.6044829269411237,0.5422661785744302,0.397484524694782,0.480903920024901,0.490108646535964],[0.8774242869600541,0.7414181802221977,1.0,0.7289916197467107,0.7311199945021656,0.7426916204796778,0.7280894585322721,0.695262943141787,0.6822573067888971,0.7768192279763895,0.6908081650493532,0.7746089262893767,0.7566463053496684,0.7188755260973325,0.6996019798744443,0.6931844466588938,0.6757583160018761,0.794359874793116,0.7833216462109576,0.7380596147381194,0.7893961347408234,0.7477704596061254,0.7767942576239193,0.7806375649090146,0.7516352016624498,0.7507588903443753,0.7271956976634848,0.7731638896401685,0.7612345466459651,0.9141070398526452,0.7215508848233307,0.8498362149777392,0.7967389293316925,0.7409401069605898,0.734424683076648,0.7563016551548667,0.6148138027835087,0.6259129930288256,0.5914733411420878,0.5529225332335743,0.5985197970650235,0.6351144070840499,0.602521024751892,0.5420026355879997,0.6145522346601492,0.5829487850085837,0.5584410854256668,0.9263889815935669,0.7814671828691435,0.8398612945141546,0.8977158238808908,0.9055020486463605,0.6990846278538143,0.7639596670139562,0.6684917656743108,0.7176262315357866,0.5641172842824593,0.5224523457685037,0.5906151666710124,0.47602791889516494,0.4781552406169152,0.39837944972104034,0.49990941039733006,0.5529418040250894,0.5125070460376187,0.5116895265609286,0.5756511014479965,0.7360571415882591,0.7340789285006114,0.701764080597473,0.7875971532544769,0.5065685020242652,0.575903808357236,0.5254832845285453,0.5441094024880381,0.41254526941222325,0.46805189929065305,0.3729422697022994],[0.701833842109951,0.7760878280808541,0.7289916197467107,1.0000000000000004,0.8181059711881371,0.8612741623996418,0.8370507354161649,0.816271252803114,0.7845134962058045,0.8582652438681344,0.7920123171197775,0.7934768379446719,0.8537893000561045,0.8176303183818454,0.7875173539138733,0.8319185884907304,0.7802470693979631,0.8402042903959268,0.8735474593185761,0.8254912347545172,0.8256491654384268,0.8646143883455191,0.8559573713138666,0.8594640925940888,0.8890171519919453,0.8521145497023186,0.8630441643783155,0.8566638952758385,0.874121169122827,0.8455172602543508,0.8367361670650437,0.8383115587727289,0.8379683751236282,0.8464472703411341,0.8768222243499406,0.8482116082697587,0.6889433874762507,0.7404151059972491,0.708925716755137,0.6980724053628409,0.7493294172703836,0.7492490371381639,0.7277695528275867,0.688348722758906,0.7195697277036814,0.6883268290150826,0.6775444390972909,0.789116123807697,0.7680633005809901,0.7955701111897652,0.767805647332802,0.813816241604614,0.7509997990561065,0.7951264129097246,0.751651885967781,0.7726997137726934,0.614763825036082,0.6422852594758928,0.5989205037347599,0.5606649284844843,0.5861474447088512,0.4845642842466358,0.5860875781458269,0.6542602970559831,0.6350205745900794,0.6493889077590398,0.6785945167537645,0.77599025397799,0.7641790529603835,0.8100446121881348,0.6035101516233443,0.6252964424623858,0.6160712461734015,0.5726632537908087,0.626797546992339,0.5141844274604749,0.6109116624569698,0.4394196739304305],[0.7084083908020946,0.7573733653376357,0.7311199945021656,0.8181059711881371,0.9999999999999998,0.8231143285398126,0.8211131640321285,0.7959698538811855,0.798994593785531,0.8415187293497681,0.7916540235559294,0.8312136605013379,0.8242386105883459,0.8201070638204716,0.8386233908954852,0.8362859872092094,0.789595532380234,0.8304542096747566,0.8655115341424252,0.8633125039323861,0.8451630792971958,0.8963987626579917,0.85297580392486,0.8306909341323563,0.9060618817852635,0.8860847380640873,0.872709627726303,0.8433190878692103,0.8743013119031375,0.8654648709050273,0.8496867173164935,0.842917382188276,0.8970879659465392,0.8703018612337489,0.8682925448033119,0.8834752499698261,0.7003908952159845,0.7480666049127582,0.7273080553734927,0.6975046768113555,0.6868812347256712,0.6639141599651799,0.6751821354074531,0.7036418830372132,0.6846493560972489,0.656541353510605,0.6572677422882177,0.7934111029470051,0.8097221915701589,0.8322491860369767,0.7615311249667995,0.8143877339223136,0.7487144573935677,0.7809445637640646,0.8529792357563559,0.8051983572173005,0.6589144792392594,0.6514758491955367,0.6395344219928429,0.6113491510646634,0.5883084975263015,0.4945298164101789,0.6155078477324285,0.6182858015268716,0.6161142621721951,0.6657935393706682,0.6663921535129215,0.7860745783243007,0.7685243400358273,0.8115004321733305,0.6507588781341911,0.6603949240570008,0.6756150116889315,0.6148252460744171,0.5930437677240836,0.4763997772886229,0.5715745346650551,0.49136435866748773],[0.7259175407814024,0.7790453695960367,0.7426916204796778,0.8612741623996418,0.8231143285398126,1.0,0.8341178824609176,0.8431421210573828,0.8104480183661371,0.8322728583033017,0.800955732917942,0.8207873366450706,0.9265961153249822,0.8320845805420312,0.8795143031762611,0.903323944959699,0.8791067364242602,0.869388198089024,0.8711678769666412,0.8646758108106272,0.8459491062903535,0.8845872492823911,0.939588714764526,0.8725979907182695,0.8986603177975243,0.8513836523752598,0.8791796057155905,0.8585938500482699,0.8627005505215258,0.8442290887408685,0.8573873614990095,0.859115880242914,0.8584215421138981,0.8513587098586595,0.8570870234045367,0.8466263762954757,0.7227545262609115,0.7414321172408771,0.7559221466622563,0.7008452758252588,0.7341961684001826,0.7464908357294286,0.7373367159833121,0.675515982862569,0.7233723692094347,0.6877037290185473,0.7085444523824452,0.8161591640163484,0.8101879077297363,0.8086532290306396,0.7972624709384767,0.8515129986822269,0.7463714189031097,0.7740019618560201,0.7652406626219028,0.7633313115540236,0.668779146708484,0.6496676369041648,0.6373747773995,0.5772654769746964,0.5865646059366801,0.5284717979192002,0.6274049532087445,0.6573067018596863,0.6216054063709233,0.656204364426157,0.6692767835787666,0.8218424109077425,0.8070290459592773,0.8332741629012783,0.616280136344748,0.6722088403732227,0.6362917294814243,0.5907634977639978,0.6383463417179285,0.4649540624636079,0.5723439589436856,0.49799485746622685],[0.7511719957388072,0.8034411239901453,0.7280894585322721,0.8370507354161649,0.8211131640321285,0.8341178824609176,1.0000000000000004,0.8319547374325855,0.7895045312149354,0.8553234757671258,0.8160390059595671,0.8655029699998826,0.8219588718265125,0.8052913889380187,0.8161091117418133,0.9427434143802497,0.7996753359564595,0.8503909610904772,0.9090268793493258,0.8415097694814869,0.846670858909786,0.8492518459734762,0.8576464299351554,0.8429024457242508,0.8845150133489635,0.8576846042365449,0.8400078494502061,0.859185184573906,0.8324457578352713,0.846808614446735,0.8668493794592136,0.8457534452756394,0.8939668876736793,0.8389994859259038,0.8745977385496433,0.8782173331231573,0.7634540175683641,0.7944617790705369,0.7173465460737558,0.7082627234418972,0.6616793577088723,0.6662194623078783,0.6663754497265216,0.6747673515593318,0.7646563795778014,0.6844678857820494,0.6581112881131649,0.7994928312944742,0.7532734018347258,0.7887203048284593,0.8101944951273127,0.832476020786646,0.7148170511352033,0.7970642478202234,0.7753504717578783,0.7553136041738266,0.6976979485846737,0.7008372786346981,0.6226502366504576,0.5642694205987715,0.604363754047961,0.5474109859674763,0.5937498589204091,0.5946190388541127,0.5834341737141253,0.6440688602761258,0.6380934153038749,0.7726247865769016,0.763329325029893,0.7859495204936213,0.6424722973751843,0.6346492611238652,0.6425526422084057,0.6537888241980405,0.6242521206958,0.4596033256133803,0.553394552191149,0.5446713300993606],[0.7032352261918435,0.7827796222822363,0.695262943141787,0.816271252803114,0.7959698538811855,0.8431421210573828,0.8319547374325855,0.9999999999999991,0.8691151220538023,0.8097437584131862,0.807090490848846,0.7945570422180285,0.8110540946958985,0.7990342960660065,0.8343113259190816,0.830763264543835,0.8597762088880991,0.8739959623416254,0.8539878825761404,0.8538145309287383,0.8107883713932724,0.8589710583793958,0.8162084101678332,0.8606087022587434,0.8720009267356292,0.8194232664746666,0.8492063168188857,0.8275189554639583,0.830988772365547,0.8118852934018198,0.8370186260280147,0.8274368417426752,0.846634092619225,0.8278863971678484,0.8398959070864773,0.8281228384672745,0.7209706566932945,0.7450165163562715,0.7663997141822383,0.6769399373111575,0.7158216463704559,0.6513691559001474,0.7340465477491414,0.6916114303697096,0.7181550293389001,0.7091284446938156,0.7298080083397849,0.7776469345574786,0.7908262450903295,0.7976923373041019,0.7807642498015572,0.8328635267014044,0.7735768713869993,0.7496478890573887,0.7298194907865194,0.7635525716151315,0.6428079872883359,0.6184493086820726,0.6423414056411707,0.5776170664571871,0.6262019721559239,0.5314065793850286,0.624699702985629,0.5947154842292598,0.6107584260046643,0.6734824926825237,0.6436366686185782,0.8025844843509408,0.8072397613572295,0.8205017015470463,0.5608429261226003,0.7036507488178103,0.6392238491090514,0.5996574972487484,0.7121094253933744,0.4987466644571061,0.6076949826763184,0.5099951764364589],[0.6955229173857054,0.7513555747551012,0.6822573067888971,0.7845134962058045,0.798994593785531,0.8104480183661371,0.7895045312149354,0.8691151220538023,0.9999999999999996,0.7657368550057566,0.8157383296914409,0.7802699976525711,0.7914128297547502,0.8018309253010756,0.780337928295723,0.8074590719615116,0.7831349120181064,0.8174591259616305,0.8398606190864105,0.8410887256511563,0.7969051652838108,0.8248622072671029,0.8082713697665587,0.8392832678258615,0.8695853188736615,0.8317650070742835,0.8571808970308086,0.7903768329850949,0.8311501750694993,0.7963398739658396,0.8241715726704186,0.8276005412003073,0.8098622601122886,0.8266686586914332,0.8322279995130664,0.8091115052766076,0.6765670508486029,0.6656672222610598,0.7716140110822698,0.6757874644771963,0.6515579571843899,0.6144561979327101,0.6955983965715629,0.7041189859475855,0.6745896118197137,0.6978081683689514,0.694580827221247,0.7843868901535064,0.7642135806076599,0.8036871184170955,0.7501243269877066,0.7991903716858115,0.749583460013304,0.7441559465233857,0.7466730943476336,0.8171729184500546,0.6214985940137194,0.6303036420077114,0.620419384388482,0.5643991998832861,0.5681944314211655,0.461561134281808,0.6412757656155375,0.5791329493763558,0.5964094654247121,0.6409608970808551,0.6163174180015045,0.7592501902732971,0.7431771714614055,0.8130328896804496,0.5727036462955658,0.6171391832463482,0.6302959753921784,0.6307428188072145,0.6233105853951935,0.44979368826403376,0.5798932879954944,0.4953002631191996],[0.756408373969002,0.763858664929418,0.7768192279763895,0.8582652438681344,0.8415187293497681,0.8322728583033017,0.8553234757671258,0.8097437584131862,0.7657368550057566,1.0000000000000004,0.7718269733786312,0.8349830710823121,0.8155911277016163,0.8138391627395719,0.8145457223193473,0.8502593225169416,0.7653999402293694,0.8647079028574878,0.905587388030694,0.8285592800429837,0.8638719728650185,0.8495075395027141,0.8714641187529176,0.8882036134635163,0.8768895355777677,0.861144269050629,0.8329384722140969,0.9130791931015406,0.9190184864795677,0.8844156000158125,0.8552133390259887,0.8392086744774783,0.8826574472429436,0.8640134596670159,0.8516599712809848,0.9054766593477794,0.7361576958221241,0.778211434627821,0.7068928247217854,0.7439956348340266,0.6547689878030002,0.6694605944220637,0.7035111904997453,0.6710915215656557,0.6945369607310168,0.6649587303136378,0.6881148597323632,0.8093185705526432,0.7862894789697984,0.8478779964376846,0.7971835774176105,0.8280328169118201,0.7918889596188485,0.7957623729550061,0.7604147468773235,0.7829706974058488,0.6658869291138411,0.6867192590655804,0.6730360727641398,0.6245777659994924,0.5979093510761823,0.4873361257391828,0.6092281635219101,0.6691587059578711,0.6508918377982308,0.7080627749899637,0.7278015539425495,0.7652231103006513,0.7435135107511851,0.7627238688910263,0.6331738382036386,0.5985811137686603,0.6457003250260236,0.6199408095476941,0.6545912059843554,0.47469260161728816,0.5372046905399062,0.5016146479817221],[0.7154632347613656,0.7560247492594299,0.6908081650493532,0.7920123171197775,0.7916540235559294,0.800955732917942,0.8160390059595671,0.807090490848846,0.8157383296914409,0.7718269733786312,0.9999999999999998,0.8200571242859749,0.822056181385181,0.8358226687470263,0.8154411406714672,0.8126276511497101,0.8098523739672308,0.8010829319865658,0.8508084453936541,0.8632731679152944,0.8087999203631592,0.854956501654316,0.8190063693579195,0.835946659836597,0.8629428442702247,0.8418486760301156,0.8549446790861087,0.8108531664829465,0.8224544502097269,0.8151715073128518,0.8218358663205108,0.8296638479067346,0.8198108465337103,0.8515935926746101,0.8381086439689582,0.8445249757097861,0.6973581723273793,0.7111892277488899,0.8036051122059069,0.7379434803265266,0.6394185472322966,0.6883264099084152,0.6977362810156754,0.6871578845801651,0.7703151671111067,0.7328526168617565,0.7206621388944913,0.7649564562646203,0.7511495522944064,0.7678142688612788,0.7588417087899455,0.7844854226598438,0.7778940746289512,0.7860367791380478,0.7843815112724896,0.7836925548585362,0.662201639370845,0.6715861090125735,0.6141225468433138,0.5899433140790654,0.5732432901847281,0.5037888516110082,0.607282095714315,0.6055785738549966,0.5868961068655174,0.6722295966025522,0.6380877631107844,0.7654562880181346,0.7941687031082111,0.8088880409394315,0.5859227934895108,0.7148465292531025,0.6236096844550005,0.6292713404133191,0.6060279999035744,0.4570255059151568,0.5807295967583077,0.5300534766564838],[0.7688039219571743,0.796961474619902,0.7746089262893767,0.7934768379446719,0.8312136605013379,0.8207873366450706,0.8655029699998826,0.7945570422180285,0.7802699976525711,0.8349830710823121,0.8200571242859749,1.0,0.8041999948699785,0.8290576204228386,0.85769148445284,0.8436374684935763,0.7786123007960744,0.8448568603945479,0.8703006259844439,0.877520047869069,0.8470305905274054,0.8462930276416876,0.8406140672753584,0.8544563785986004,0.8809287620012192,0.8587493849566074,0.8451714690705758,0.8609192880422678,0.8324978631394755,0.8588817960816908,0.8557866712637465,0.8688043972993026,0.853793843252528,0.8326302989324201,0.8548188206606893,0.9058255774307271,0.7979613324197593,0.7846066606900713,0.7245148973173483,0.7059092565653331,0.6454465298107706,0.6506085049113578,0.6742659203249121,0.6512279212672799,0.7361416163503309,0.6607006061056095,0.6797438396446995,0.8523674462372939,0.7894884290054458,0.8301360220426961,0.8126055643298149,0.8690225208401944,0.7754354040975978,0.8176883993960383,0.7739794983765266,0.7818922536467796,0.7762182199546044,0.7068605082013966,0.642539100056218,0.5726425518955354,0.552951422672189,0.6048477058957087,0.5958877108449927,0.6005912010518701,0.575613574929691,0.6852318935053968,0.6709375916527713,0.7543133784244425,0.7711443308264871,0.7752908808524922,0.7031942345311699,0.6580309675518796,0.6402826095032053,0.6556728463288688,0.6266961606051656,0.48969017946160837,0.5453301192000423,0.5608522979072923],[0.7241899394716298,0.7377786520810179,0.7566463053496684,0.8537893000561045,0.8242386105883459,0.9265961153249822,0.8219588718265125,0.8110540946958985,0.7914128297547502,0.8155911277016163,0.822056181385181,0.8041999948699785,1.0,0.8461590725930105,0.8632358116338381,0.8608400705573953,0.8424753460796612,0.8546397081361208,0.8764282411865909,0.8708815165612905,0.866500445351621,0.9009903808520425,0.9242927194065413,0.8640310746274665,0.8912173545362665,0.8887362100429279,0.8754250960265918,0.8624069231210192,0.8614154157777608,0.8568939159765445,0.85777506016204,0.8606365176748803,0.8606578249178993,0.8722558263808522,0.873540318101278,0.8697310574170976,0.7252525552960956,0.7352919518939365,0.7466873169585053,0.699612884286419,0.7250504406638877,0.802019173345104,0.7187376427418639,0.6613086523303866,0.7269112915718711,0.68657509093657,0.687762541834761,0.808591349899238,0.7993306367462101,0.8193172681213667,0.7963842979118825,0.8245541128396758,0.7444277774641617,0.76900396672769,0.7801729481039084,0.7910874663683347,0.6733959987044642,0.6577042071050647,0.6419784545049403,0.5426258878812191,0.5834669997332408,0.5153893686974168,0.6335725591725376,0.6427752719677268,0.6033757839656344,0.6327614124291885,0.6583980002335761,0.8506707243911783,0.8162554323365769,0.8663062710210503,0.5970057043709739,0.6547597154873522,0.6591672086987197,0.5736172549144787,0.5884365580088068,0.4993235188395535,0.5333781663449901,0.47528019063894267],[0.7053352515255459,0.7377124574642495,0.7188755260973325,0.8176303183818454,0.8201070638204716,0.8320845805420312,0.8052913889380187,0.7990342960660065,0.8018309253010756,0.8138391627395719,0.8358226687470263,0.8290576204228386,0.8461590725930105,1.0,0.816509300183049,0.8065996646012108,0.7988845074584907,0.847897714326163,0.8894173539759465,0.8800008642639754,0.8779267709443306,0.8830660902628057,0.8591275503496791,0.8778480081858536,0.8727802761580095,0.8896615428953798,0.8864827589354636,0.876668833719376,0.868472278012914,0.8484547588789506,0.848260574346211,0.8503388610499303,0.8346708761532167,0.8692102616522852,0.8543547252168665,0.885078911763983,0.7043705952450775,0.7228083717014038,0.7380840783279135,0.7626759585099024,0.6664127793875516,0.6834470198447741,0.7459586094337326,0.6714612874707175,0.784359917539379,0.7091074122993184,0.7438961115224807,0.7924320127541162,0.7883336785928907,0.8164806522756147,0.7586393891199676,0.8161855608996754,0.79927383385589,0.7839496207273302,0.8244407189000307,0.8481682801033943,0.6390228764531948,0.6963999162235621,0.6300763419391958,0.5594637991806759,0.5897241411398639,0.5134380973225752,0.6591646780801005,0.6441810068876423,0.6114316625470076,0.664142950937346,0.6854010775633612,0.7829851580100184,0.7568202708577614,0.8174194307746128,0.6133933169369149,0.6571365142122736,0.6908602503253779,0.6344397513400956,0.6723765835261666,0.4726081242225045,0.5486733557494674,0.521481641938222],[0.730167712634801,0.7668956876050317,0.6996019798744443,0.7875173539138733,0.8386233908954852,0.8795143031762611,0.8161091117418133,0.8343113259190816,0.780337928295723,0.8145457223193473,0.8154411406714672,0.85769148445284,0.8632358116338381,0.816509300183049,1.0000000000000004,0.8613730646680987,0.8858303037623314,0.866270283294414,0.85892515414056,0.8687221096541188,0.8415272454677272,0.8674515844350084,0.8694344300537546,0.8475336727740033,0.8783404399417498,0.8439852755757942,0.8611849527978768,0.8605588361621872,0.8348894045029045,0.8196870715054707,0.8455247561780723,0.8369348146964363,0.8678700280470453,0.8517765629766668,0.8223392981080521,0.8497815937866251,0.8089051973232033,0.7359149095765287,0.7488871751343895,0.6779565839430345,0.6750396805577162,0.6925113268331915,0.7177487056451473,0.6754758104874988,0.7453400510267879,0.7311467461892294,0.7244218013178633,0.778001830780431,0.8794163033183029,0.7897378295473461,0.7885515711308015,0.8273111735281793,0.7539835884241141,0.7627477005413388,0.7851828911121059,0.7587881525978233,0.8296179410359862,0.7103403376136038,0.6593554070425096,0.5926368963978224,0.5680925294570576,0.6153374501310381,0.637470860972032,0.5990333187552618,0.5915552969993488,0.6551725214017036,0.6499842423160695,0.8037514425526584,0.8094251342910224,0.8119198970945957,0.5858993383989359,0.6914892108313639,0.6587077826561142,0.6148166647310185,0.637838907124993,0.4795241292125758,0.5660176041611868,0.5158482121360519],[0.7161261857957832,0.7794000011088267,0.6931844466588938,0.8319185884907304,0.8362859872092094,0.903323944959699,0.9427434143802497,0.830763264543835,0.8074590719615116,0.8502593225169416,0.8126276511497101,0.8436374684935763,0.8608400705573953,0.8065996646012108,0.8613730646680987,0.9999999999999998,0.8593757694591166,0.8143187206859517,0.8968112604597389,0.8395236254453332,0.8247177862564735,0.8619040863405552,0.8962901989417774,0.8228219935325364,0.8883232663341347,0.854033635515526,0.851287683725898,0.8448436692229615,0.8420096004565165,0.8239555353092822,0.8721570891018373,0.8293765151081415,0.8997205127096599,0.8529689224412877,0.8710080378711851,0.8640471999603723,0.7541787481572424,0.7733156891148137,0.7385261822566244,0.7336618753700841,0.6667587483364164,0.6647514785310461,0.6817636202199914,0.6846910696609244,0.7466913751464532,0.6886023039678633,0.668626727886598,0.765430887505544,0.7464811412985881,0.7914042685927432,0.7513891657926697,0.7957861329464814,0.7116199713990763,0.774995537992892,0.7767371836282781,0.7591030178551984,0.7033539594520698,0.6834381854827907,0.6448485424895255,0.5658527030573047,0.6035992089129929,0.5458048346994848,0.5931479836256492,0.5994674811180979,0.5935543953930048,0.6732987910553925,0.6338924589132062,0.7923424498472178,0.7796654581537034,0.8077174180736153,0.6009516629326114,0.6336229348211185,0.6253195251985579,0.6315796871055097,0.6053339580846805,0.43747895639912004,0.5571836353540007,0.5481285256330931],[0.6736496283636669,0.717145225377782,0.6757583160018761,0.7802470693979631,0.789595532380234,0.8791067364242602,0.7996753359564595,0.8597762088880991,0.7831349120181064,0.7653999402293694,0.8098523739672308,0.7786123007960744,0.8424753460796612,0.7988845074584907,0.8858303037623314,0.8593757694591166,0.9999999999999996,0.824795375558141,0.8297765640904657,0.8297930027174405,0.79089578138159,0.85106441785553,0.8455807211349697,0.7967248651351418,0.8436268572881973,0.7988526027161897,0.8270288376859523,0.7970154879788824,0.7977850922585765,0.7800333242798475,0.8042521769152158,0.8051720338724044,0.8183611086606366,0.8068633668678435,0.827085035123424,0.7956832295396472,0.7008167511258699,0.748093170296179,0.7284639849599348,0.6871653612157844,0.6709971310428149,0.6861958991075712,0.6985408781911666,0.6454813567696234,0.736661464158987,0.7022945433331539,0.7120782741711106,0.748410419471394,0.77464330116851,0.8053851003348655,0.7407593631288973,0.8053350213265109,0.7062523600853519,0.7191897370774845,0.7522063590329413,0.7726920974929905,0.6359226415496868,0.6264803087398492,0.6090527515875701,0.5282404633876135,0.5351105373185774,0.5255736680198481,0.581287736573689,0.570819907514234,0.5415372587961194,0.6262763851771742,0.5890448259038152,0.7770189890512287,0.7751163335516833,0.7787705283430754,0.5635026412113227,0.665780328894437,0.5793057353383707,0.543714272902786,0.6955594552015341,0.4406937480488283,0.5720141628684261,0.44675830592918436],[0.796023219568918,0.7919225145998233,0.794359874793116,0.8402042903959268,0.8304542096747566,0.869388198089024,0.8503909610904772,0.8739959623416254,0.8174591259616305,0.8647079028574878,0.8010829319865658,0.8448568603945479,0.8546397081361208,0.847897714326163,0.866270283294414,0.8143187206859517,0.824795375558141,1.0000000000000009,0.8835346166966398,0.8911515871645946,0.903952997378806,0.8732822994201117,0.8750302757736776,0.9281942353986246,0.8839100419865554,0.8707258747618214,0.8746368574876291,0.9004505114628387,0.8671216140513452,0.8801543040697297,0.8649462921178473,0.9052461448148557,0.9120071107339978,0.844684582626325,0.847328869884616,0.8756187647312768,0.7465476620852922,0.7181478883327836,0.7364780693362313,0.6776526244229872,0.7100611257588576,0.7078574240045035,0.7348089937032519,0.6666520332843942,0.7151791771228225,0.7055875087995125,0.7309235472886229,0.8756734595919997,0.8781116211516442,0.8659004186096342,0.9152861128021135,0.9192610454418666,0.8350745977972824,0.8062048553378927,0.779487144211128,0.8114362549731752,0.6650071514613609,0.6359217080599487,0.6393493709994118,0.6424200072078938,0.6408194466258155,0.5359020531403612,0.672606439989964,0.6538429783189424,0.6343718274599122,0.6705118584663683,0.7056368289158075,0.8238584324171094,0.7921938780317084,0.812253717754853,0.6771893512947733,0.6671197840565062,0.6715325231612308,0.6197881631563716,0.7079313757070683,0.5186266870782108,0.551973096088098,0.4914839986922477],[0.784464910384142,0.7912298272453342,0.7833216462109576,0.8735474593185761,0.8655115341424252,0.8711678769666412,0.9090268793493258,0.8539878825761404,0.8398606190864105,0.905587388030694,0.8508084453936541,0.8703006259844439,0.8764282411865909,0.8894173539759465,0.85892515414056,0.8968112604597389,0.8297765640904657,0.8835346166966398,1.0000000000000002,0.8876846932294356,0.8910662197836834,0.9052833752575005,0.9042387405979442,0.8864488458266964,0.9292787955429354,0.9210201035540834,0.8983844935287189,0.9107497848996678,0.9003478324206355,0.9133725044559771,0.9120585513680413,0.8935902611199285,0.9044260006010951,0.9013599940920656,0.909150482500841,0.9141480413945358,0.7688393910622277,0.797578123458894,0.7550756548273729,0.7409758520780033,0.6936276869819991,0.7069675560850409,0.7341724765207965,0.7052816511327685,0.7682829256577838,0.712788006372843,0.6996173993223287,0.8460489653496464,0.8185590155028194,0.8717344660646711,0.8361247518889005,0.8636103409342974,0.7713259856714281,0.8121310729794937,0.8132104935189719,0.8612816285911196,0.6777883168670635,0.7040309274754301,0.6560425388741861,0.5783300848588557,0.5931246337869707,0.5228492057847164,0.6502815553625105,0.6611165349017312,0.6474163762133068,0.6966111238288101,0.6792243189723599,0.8359412138807487,0.802176836084031,0.8666111035813802,0.6573107591974999,0.6348302485075679,0.6960997820417947,0.6534633570166754,0.6166407708067264,0.4986157066407575,0.5683881791994323,0.5230683147981284],[0.7594713273442393,0.7640324901314616,0.7380596147381194,0.8254912347545172,0.8633125039323861,0.8646758108106272,0.8415097694814869,0.8538145309287383,0.8410887256511563,0.8285592800429837,0.8632731679152944,0.877520047869069,0.8708815165612905,0.8800008642639754,0.8687221096541188,0.8395236254453332,0.8297930027174405,0.8911515871645946,0.8876846932294356,0.9999999999999991,0.889941393895103,0.9053720701464072,0.8868158656014129,0.9001928177193677,0.91290126057053,0.900769594802943,0.9194845659268234,0.8900478401481997,0.8856252965949674,0.8784911573041667,0.8801184323474787,0.8885166947360931,0.872091956720288,0.8937884356872489,0.8876731019808215,0.902896732056559,0.7528045543904318,0.7583255401680373,0.8046108657994868,0.7562644174290315,0.7072911523040424,0.7125778872722073,0.7416987403890621,0.7101090882235448,0.7487555841990068,0.7186779153743688,0.730719948214055,0.8404815104099017,0.8395163209781499,0.8394797603243713,0.8198907318155693,0.8606618481672952,0.8137603081276594,0.8340369489170638,0.8155540844086364,0.8243732082581519,0.688344262285288,0.6854506785847264,0.6680613531733408,0.6064088714154884,0.6174303841988482,0.5682093113983113,0.7308370713352375,0.6640176100224444,0.6511364549815426,0.72135343952359,0.6808044046929699,0.8235454816042802,0.8313946633796522,0.8431518162331202,0.6338598842239827,0.7400302010786656,0.7072017227989724,0.6350416163713017,0.6480228170085429,0.511582954592706,0.6176634382957638,0.5464477156640747],[0.7823446743116146,0.7749605123387069,0.7893961347408234,0.8256491654384268,0.8451630792971958,0.8459491062903535,0.846670858909786,0.8107883713932724,0.7969051652838108,0.8638719728650185,0.8087999203631592,0.8470305905274054,0.866500445351621,0.8779267709443306,0.8415272454677272,0.8247177862564735,0.79089578138159,0.903952997378806,0.8910662197836834,0.889941393895103,1.0000000000000009,0.894397430855143,0.9553495476213663,0.9120536934030108,0.8956673479397717,0.9508592357985441,0.8598703472240778,0.9578850601760281,0.8779504954447055,0.8958903322666472,0.8327787478900355,0.8867097515341357,0.8966405676414766,0.8650703441086535,0.8527189935858113,0.9148842567217279,0.7507195201365475,0.7513576598626758,0.7219384693264916,0.7186631320632795,0.6887364770403759,0.7070683087671128,0.7108282970674146,0.6938512311541191,0.7198682945899544,0.684022675891965,0.6979385880368639,0.8578325074079755,0.8392495463632229,0.8605344904035745,0.8577214255765941,0.869881220311499,0.7985493469974865,0.8187679085603476,0.7621640746579135,0.8089776955278836,0.6638453548691011,0.653181910857075,0.642143288667925,0.6347777484355674,0.6123708118604456,0.5212617769691236,0.6204009244569177,0.6162319395744675,0.5978249454635016,0.6477721253393556,0.6934987410603108,0.8901470936846942,0.8118563596804491,0.8369618869605826,0.6829548933690116,0.6628334052859399,0.7168220979506612,0.6370749601514186,0.6359390656484872,0.4823019084933062,0.5225560193871064,0.468040245184514],[0.7257220564029193,0.76614849633424,0.7477704596061254,0.8646143883455191,0.8963987626579917,0.8845872492823911,0.8492518459734762,0.8589710583793958,0.8248622072671029,0.8495075395027141,0.854956501654316,0.8462930276416876,0.9009903808520425,0.8830660902628057,0.8674515844350084,0.8619040863405552,0.85106441785553,0.8732822994201117,0.9052833752575005,0.9053720701464072,0.894397430855143,1.0,0.9115485879610266,0.8776812089538575,0.9381195145538461,0.9473490694702946,0.9281204467488178,0.8934625666345573,0.9191215685260975,0.8839580006789476,0.9054773408987535,0.8855206563720361,0.8958233479226385,0.9041050120429712,0.9106396326544167,0.9078713627966428,0.7205033475961782,0.765465393989005,0.7952481582948634,0.7487965961465175,0.728482759030326,0.7498550070074957,0.7374544364325664,0.7341616435329029,0.7580563763014478,0.7415755199059771,0.7216151100813165,0.8313640522778558,0.8336512389182904,0.8524062456483325,0.794397987633272,0.8327954213392452,0.7801897307890038,0.8038906289678944,0.8272227761293034,0.8166774933270231,0.6469062427182686,0.6699539003443639,0.6643928939881683,0.6152608256137988,0.6021606967819935,0.5243878099796698,0.6449244319654692,0.6856893440613046,0.6356753346318883,0.6784365685001759,0.6805945972350036,0.8860350368133691,0.8577004715919798,0.909861649128771,0.6409520821618704,0.690680401158619,0.7168005706269595,0.6102656906043994,0.640443722336612,0.5267043545438436,0.5943361988293333,0.5174974974198253],[0.759744077607355,0.7779109004661782,0.7767942576239193,0.8559573713138666,0.85297580392486,0.939588714764526,0.8576464299351554,0.8162084101678332,0.8082713697665587,0.8714641187529176,0.8190063693579195,0.8406140672753584,0.9242927194065413,0.8591275503496791,0.8694344300537546,0.8962901989417774,0.8455807211349697,0.8750302757736776,0.9042387405979442,0.8868158656014129,0.9553495476213663,0.9115485879610266,1.0000000000000002,0.8945991665792621,0.9201097238595772,0.9404272864340826,0.8826634240037002,0.9402381399852895,0.8965040910318542,0.8891938559491764,0.8603811174340417,0.8831968364397349,0.888858813790038,0.8851448501849767,0.8765495813292772,0.9044631264375942,0.7440550868440309,0.7702298415946096,0.7503015152192019,0.7337089721222484,0.711838007429183,0.7408725412043181,0.7142980495277129,0.7054962800499847,0.729070903809863,0.6892081506135819,0.695120355808639,0.8410252501626307,0.8192885085268384,0.8537909363500147,0.8281725011144179,0.8504925039987988,0.7722331078491402,0.8023300481114567,0.7776231137889772,0.8025135178119479,0.6699358474622499,0.6608813385226004,0.6487893424456659,0.6033796099268081,0.5960744148716238,0.5267391559085148,0.6245805525867589,0.6425986486023567,0.6034429160741515,0.6567293321040848,0.6816910877733541,0.894355162133078,0.8272637245914157,0.8616985292753641,0.6577582004690821,0.6668165879293904,0.6786976616198384,0.6163782535832786,0.6081033944014034,0.4711946329917035,0.5388092447658965,0.4700671380367571],[0.7718352706416763,0.7988510931715527,0.7806375649090146,0.8594640925940888,0.8306909341323563,0.8725979907182695,0.8429024457242508,0.8606087022587434,0.8392832678258615,0.8882036134635163,0.835946659836597,0.8544563785986004,0.8640310746274665,0.8778480081858536,0.8475336727740033,0.8228219935325364,0.7967248651351418,0.9281942353986246,0.8864488458266964,0.9001928177193677,0.9120536934030108,0.8776812089538575,0.8945991665792621,0.9999999999999998,0.9136408404387473,0.8975004714971752,0.8944122714226916,0.920663876154557,0.9087495172302111,0.8747881245805686,0.8834199141842369,0.8961353490317046,0.8749724602093665,0.8848850863086505,0.8829128572779206,0.9003423620575275,0.7615172100331584,0.7623834503705674,0.7894144231931477,0.7696646913562424,0.7116779453891493,0.7005002504985558,0.8012729932453705,0.7197877529219413,0.7435996006293433,0.7291792469468651,0.7711008518122722,0.871918092263154,0.8455299778281911,0.8680388947746054,0.8416871165229443,0.8892036195202926,0.8825712810253218,0.8372906853735648,0.7903089382677569,0.8224913750427933,0.6958477218774979,0.691865334138166,0.6957669449612474,0.6559331247069837,0.6687591918436308,0.5179248614024126,0.6863383566477098,0.6940856813751182,0.669569502860805,0.7018782920967044,0.7775163094733047,0.8062062996272346,0.8055499897164496,0.8177371628276047,0.6567270119440112,0.6939102124957219,0.6730237909540667,0.6467012046380494,0.7363533360604435,0.49064474704248967,0.5998270341862502,0.5299384269464126],[0.7386033360913095,0.8396077500776954,0.7516352016624498,0.8890171519919453,0.9060618817852635,0.8986603177975243,0.8845150133489635,0.8720009267356292,0.8695853188736615,0.8768895355777677,0.8629428442702247,0.8809287620012192,0.8912173545362665,0.8727802761580095,0.8783404399417498,0.8883232663341347,0.8436268572881973,0.8839100419865554,0.9292787955429354,0.91290126057053,0.8956673479397717,0.9381195145538461,0.9201097238595772,0.9136408404387473,1.0000000000000004,0.9353174046091863,0.9381716606138326,0.8984122814994183,0.9269308089917214,0.8877211240510332,0.916583694683085,0.9107584117001646,0.8923436466587945,0.9392070770697081,0.9409556843159275,0.9231639755311991,0.7385770728524935,0.8095827307660673,0.7994850013999466,0.7457336212595412,0.746650077308313,0.7359325551688194,0.752629821074845,0.7427259928942762,0.7699824656260086,0.7364766182504281,0.7315347135912003,0.8504735156296477,0.8293708019726349,0.8597839039684156,0.8078311057052979,0.8680542574256119,0.7997881907049431,0.8156023241468568,0.8250864353433535,0.8191272392507952,0.7010219814414094,0.6981373678596635,0.6666994772452279,0.6266158564399724,0.6075025785997084,0.5276808238176324,0.6527979350482626,0.6750700218694377,0.6360469456058808,0.7242342343245909,0.7016312897855563,0.8352256651412157,0.8442053321809921,0.888103892529785,0.64919317937346,0.6712099522605237,0.680315682770235,0.6357665444852841,0.6521915180168503,0.5125029748291317,0.5816161385928998,0.5404773479059002],[0.7329557925185195,0.7389477391731375,0.7507588903443753,0.8521145497023186,0.8860847380640873,0.8513836523752598,0.8576846042365449,0.8194232664746666,0.8317650070742835,0.861144269050629,0.8418486760301156,0.8587493849566074,0.8887362100429279,0.8896615428953798,0.8439852755757942,0.854033635515526,0.7988526027161897,0.8707258747618214,0.9210201035540834,0.900769594802943,0.9508592357985441,0.9473490694702946,0.9404272864340826,0.8975004714971752,0.9353174046091863,1.0000000000000007,0.9150427504620624,0.927232315616092,0.9214537398666135,0.8923028597404377,0.897242480168064,0.8964791150697244,0.8976116533950391,0.9176841570659385,0.9167358721727055,0.9332090442112482,0.749670037875451,0.7769602842355461,0.7750768764684701,0.7552179918921217,0.6949210322156054,0.7216456616279181,0.7441923766282756,0.7470186867936915,0.7514250723534173,0.7217727732942816,0.7174674649817009,0.8449071284220974,0.8246978264893707,0.861152253919638,0.8060758546942886,0.8331149867792251,0.7972632092562741,0.7984091687496245,0.8183148995101288,0.8400609240145929,0.6606977171081895,0.6802366562868293,0.6705885965782398,0.6316426729157438,0.6115621473959937,0.5232957864344027,0.6394444782910882,0.6509035138092688,0.6161700285513114,0.6858986899774269,0.7094351035409235,0.8862032062660584,0.8304764509314608,0.8886255134554546,0.6600962742297154,0.6675136680790624,0.7280788041520361,0.6283898150420774,0.6201640730999267,0.49827657411198256,0.5587491013401227,0.4890124776057356],[0.709030761976585,0.7218491524418823,0.7271956976634848,0.8630441643783155,0.872709627726303,0.8791796057155905,0.8400078494502061,0.8492063168188857,0.8571808970308086,0.8329384722140969,0.8549446790861087,0.8451714690705758,0.8754250960265918,0.8864827589354636,0.8611849527978768,0.851287683725898,0.8270288376859523,0.8746368574876291,0.8983844935287189,0.9194845659268234,0.8598703472240778,0.9281204467488178,0.8826634240037002,0.8944122714226916,0.9381716606138326,0.9150427504620624,0.9999999999999999,0.8675774708532695,0.9319419370374813,0.8810971131865039,0.917576860224925,0.9055817727840985,0.8765813992268014,0.9245993316155684,0.9269367050434121,0.8957845883217315,0.7258606283468501,0.7469964297790055,0.7932009018852908,0.7554850434217295,0.7213321050905125,0.714766236936411,0.7968546852441174,0.7687180764766085,0.7913996551634724,0.7532786000485561,0.7739434867317679,0.847409116482561,0.8344238167215648,0.8317465658243284,0.7880617701137467,0.8423454951604332,0.796258620349954,0.7863798277282589,0.8328732138532982,0.8339373762439011,0.6738923430665419,0.6740708636388459,0.6917181011040651,0.5808374450373419,0.609958749331198,0.5205124944548338,0.7116365454061907,0.7198661372275319,0.675984637965045,0.713083847350546,0.7026300798105861,0.7999674388656988,0.8309101703508743,0.8774947702893058,0.637007210389663,0.6685066255845173,0.7207143391513395,0.6448725191879943,0.6642636432382537,0.5391397181497396,0.6276171239191434,0.5271749597576126],[0.7837963540643416,0.7946403427082857,0.7731638896401685,0.8566638952758385,0.8433190878692103,0.8585938500482699,0.859185184573906,0.8275189554639583,0.7903768329850949,0.9130791931015406,0.8108531664829465,0.8609192880422678,0.8624069231210192,0.876668833719376,0.8605588361621872,0.8448436692229615,0.7970154879788824,0.9004505114628387,0.9107497848996678,0.8900478401481997,0.9578850601760281,0.8934625666345573,0.9402381399852895,0.920663876154557,0.8984122814994183,0.927232315616092,0.8675774708532695,1.0,0.9045602921188514,0.8948622984375529,0.8649480973224815,0.8968355857637735,0.8853593301704148,0.8808634471816911,0.8523012751176575,0.9247946436074534,0.7859013420703895,0.7744731011021009,0.7398302694467206,0.7490841852673445,0.6767925984291402,0.722577548348674,0.730982273899927,0.6977472112500536,0.7355394739467125,0.7003050777489066,0.7130499277195893,0.8391338198140882,0.839429817826279,0.8552547160920867,0.8404389156344714,0.8698052574668504,0.8186863054327564,0.8437403238647045,0.7919996769483,0.7996696011201032,0.7066906191927113,0.7064776658852006,0.6864415865147875,0.6551414662656571,0.6322301394443407,0.5496980403079932,0.6524086124165064,0.6599047006268042,0.658634955853276,0.70630280587066,0.731990962530894,0.8674923969035201,0.8009446795374334,0.8239520132214673,0.6701357946351472,0.6767071081437606,0.6962278129893332,0.6682003748917209,0.6339229120717693,0.5114575661874889,0.5554477314121686,0.533472713771685],[0.7305068755096161,0.7197637768038251,0.7612345466459651,0.874121169122827,0.8743013119031375,0.8627005505215258,0.8324457578352713,0.830988772365547,0.8311501750694993,0.9190184864795677,0.8224544502097269,0.8324978631394755,0.8614154157777608,0.868472278012914,0.8348894045029045,0.8420096004565165,0.7977850922585765,0.8671216140513452,0.9003478324206355,0.8856252965949674,0.8779504954447055,0.9191215685260975,0.8965040910318542,0.9087495172302111,0.9269308089917214,0.9214537398666135,0.9319419370374813,0.9045602921188514,1.0,0.8953575863938621,0.8975566829587833,0.8835227389044968,0.8777678128214164,0.9285365951411935,0.916911857905477,0.9209479534915835,0.7266095817282929,0.7789161752723524,0.7775470956386937,0.7743747104678058,0.6991949058509961,0.6930721016931503,0.7972115048955872,0.760766571587665,0.7493638495806421,0.7170119193171145,0.7642532296547246,0.8410492865519887,0.8231733423391603,0.8542494675110286,0.7905083292851532,0.8292377146118068,0.806682501005813,0.8020977061507051,0.8332860630556789,0.816484530428794,0.6535633243630594,0.6860433917088962,0.712879421402224,0.6218771985136897,0.6153752594375281,0.49897658870845496,0.6767038800456271,0.7339983431546443,0.7061376739768469,0.7433794662463142,0.7562677488778407,0.8101324718905638,0.8157709654413641,0.8585627182681363,0.6348594167402615,0.6395655072452571,0.7073812350675839,0.6102168606476324,0.684608651826323,0.5299978423265522,0.6013218313529446,0.5081356018633215],[0.8775545865807206,0.7838625637376333,0.9141070398526452,0.8455172602543508,0.8654648709050273,0.8442290887408685,0.846808614446735,0.8118852934018198,0.7963398739658396,0.8844156000158125,0.8151715073128518,0.8588817960816908,0.8568939159765445,0.8484547588789506,0.8196870715054707,0.8239555353092822,0.7800333242798475,0.8801543040697297,0.9133725044559771,0.8784911573041667,0.8958903322666472,0.8839580006789476,0.8891938559491764,0.8747881245805686,0.8877211240510332,0.8923028597404377,0.8810971131865039,0.8948622984375529,0.8953575863938621,0.9999999999999996,0.8491647639220533,0.9261447239287772,0.9041687706987084,0.8771945989665781,0.8710402325403857,0.8924460892324428,0.7262963693621206,0.747587975671719,0.7257270991243212,0.7045708880504116,0.7145033885199898,0.7108810793050144,0.7179291505967308,0.6880785395807147,0.7314999141515769,0.673827335248339,0.6809178878527526,0.9296372645483362,0.8576954969088697,0.8830503475433853,0.9085837889309433,0.92323485297181,0.77675056715177,0.8491413699696582,0.802510959848743,0.8194694539714462,0.6500731184057731,0.662898243355393,0.6698063059258259,0.5934824063805304,0.5768236686018191,0.498084374016154,0.6262789079146804,0.6582970986012767,0.6444088161887652,0.6562724443662395,0.6754324002251064,0.8266496544138596,0.8102437066585104,0.8366176982738149,0.7658221608848387,0.6286398494496379,0.6964795815996176,0.6573753019151284,0.6039338271407987,0.4894987868945331,0.5633835358273744,0.5011262123348473],[0.7233649564904383,0.74286001004339,0.7215508848233307,0.8367361670650437,0.8496867173164935,0.8573873614990095,0.8668493794592136,0.8370186260280147,0.8241715726704186,0.8552133390259887,0.8218358663205108,0.8557866712637465,0.85777506016204,0.848260574346211,0.8455247561780723,0.8721570891018373,0.8042521769152158,0.8649462921178473,0.9120585513680413,0.8801184323474787,0.8327787478900355,0.9054773408987535,0.8603811174340417,0.8834199141842369,0.916583694683085,0.897242480168064,0.917576860224925,0.8649480973224815,0.8975566829587833,0.8491647639220533,1.0000000000000002,0.8917797376326055,0.8782874152276562,0.8971658003938164,0.8966862503468797,0.8996994077848661,0.7644712643541054,0.7479818957547288,0.778011595143062,0.751296662855305,0.6860280346100929,0.688194085719835,0.7657262233621578,0.7426109802949314,0.7504854281574946,0.7143974509248279,0.7257493149843753,0.8347176633529549,0.7995137428837145,0.8427438737041982,0.7836770096359462,0.8216322610166459,0.8130598140446401,0.7813649562737778,0.8206514719930174,0.8148172214480212,0.7000098139358507,0.7012437028135204,0.7418930788597327,0.6233860532068365,0.6383111228326084,0.5652232897886917,0.6632004506780983,0.7000813626714324,0.6692189034480833,0.6793677048208187,0.7318157817676987,0.7951341872156692,0.7893586557904472,0.8519435536324814,0.6558426263396809,0.6490728949243979,0.6636047872733983,0.6685653936854178,0.6382864696891669,0.5283159335234228,0.608892235492615,0.5502121273964361],[0.8235601186214501,0.7799529736346542,0.8498362149777392,0.8383115587727289,0.842917382188276,0.859115880242914,0.8457534452756394,0.8274368417426752,0.8276005412003073,0.8392086744774783,0.8296638479067346,0.8688043972993026,0.8606365176748803,0.8503388610499303,0.8369348146964363,0.8293765151081415,0.8051720338724044,0.9052461448148557,0.8935902611199285,0.8885166947360931,0.8867097515341357,0.8855206563720361,0.8831968364397349,0.8961353490317046,0.9107584117001646,0.8964791150697244,0.9055817727840985,0.8968355857637735,0.8835227389044968,0.9261447239287772,0.8917797376326055,1.0000000000000002,0.8869421572867549,0.8887528617978095,0.8797055754041898,0.8935899322762426,0.7514426899429965,0.745460436467045,0.751965522565266,0.7026188618526865,0.6805520133807172,0.7176269167617979,0.7560559160902547,0.720433145310668,0.7529704672134273,0.7018145206944516,0.7164340145507779,0.9342602065365835,0.8450248006149641,0.8806126049736247,0.8945082603283334,0.9340974426994707,0.8087255645707403,0.8492693882869341,0.8030071443936274,0.8237321305492125,0.6763282354862838,0.6727330547611536,0.6881871077807875,0.6019019189484505,0.6091580975951905,0.5359940788591705,0.626077612106756,0.6735625927230741,0.6769678499793303,0.7152241003485124,0.7127326029891409,0.8176902102438823,0.8266350136682679,0.8398065658509574,0.7721338862871541,0.6643942128575049,0.7026172430316245,0.6817538241962585,0.6132643740631722,0.5369775146947696,0.6077579838686078,0.5543405051666154],[0.7767879910554089,0.7785022480862098,0.7967389293316925,0.8379683751236282,0.8970879659465392,0.8584215421138981,0.8939668876736793,0.846634092619225,0.8098622601122886,0.8826574472429436,0.8198108465337103,0.853793843252528,0.8606578249178993,0.8346708761532167,0.8678700280470453,0.8997205127096599,0.8183611086606366,0.9120071107339978,0.9044260006010951,0.872091956720288,0.8966405676414766,0.8958233479226385,0.888858813790038,0.8749724602093665,0.8923436466587945,0.8976116533950391,0.8765813992268014,0.8853593301704148,0.8777678128214164,0.9041687706987084,0.8782874152276562,0.8869421572867549,0.9999999999999997,0.8715106592378626,0.8722054720017514,0.9093916147962806,0.7652144559159075,0.7397002183959329,0.7326894582251912,0.7190370161922801,0.7127267609307175,0.6927144398024295,0.7172767749201269,0.7223039685698788,0.7259505339230576,0.7076258843485924,0.7102205879995772,0.8464360683310748,0.8408573246244697,0.8488254833861613,0.8590976433986792,0.8726914468314448,0.7867648461142893,0.8143286079888598,0.8082879064407289,0.8001414956707105,0.6923670905115265,0.6455598368069438,0.6846446102141868,0.6391359006585349,0.6632983427084072,0.5398134559555618,0.6328104798690006,0.6322932529418261,0.6585822343511144,0.6823338808885595,0.7089865041800102,0.8380921227335827,0.7911705280212155,0.827425459335561,0.6783113479131091,0.651311274237093,0.6884315585358303,0.664201387824602,0.6357824317494071,0.48491859948292393,0.5783125775328928,0.5250270264464894],[0.7266590252420093,0.7269009670371694,0.7409401069605898,0.8464472703411341,0.8703018612337489,0.8513587098586595,0.8389994859259038,0.8278863971678484,0.8266686586914332,0.8640134596670159,0.8515935926746101,0.8326302989324201,0.8722558263808522,0.8692102616522852,0.8517765629766668,0.8529689224412877,0.8068633668678435,0.844684582626325,0.9013599940920656,0.8937884356872489,0.8650703441086535,0.9041050120429712,0.8851448501849767,0.8848850863086505,0.9392070770697081,0.9176841570659385,0.9245993316155684,0.8808634471816911,0.9285365951411935,0.8771945989665781,0.8971658003938164,0.8887528617978095,0.8715106592378626,1.0000000000000004,0.9273825500591324,0.924294958897429,0.758373128098687,0.7780868011473163,0.7818538525109804,0.7642286173004573,0.6740261132796552,0.7049383195826879,0.7677500302882672,0.7465153999549206,0.781094362091153,0.7577988275422354,0.7569983141974908,0.8253479823754497,0.8132198804779355,0.8313322953419219,0.7733208901655928,0.8200105406796219,0.8120885280393446,0.7741703203481768,0.8349948647219383,0.8025762028933248,0.6860766260592923,0.7135038156657153,0.7139003241950467,0.6089481658961979,0.6254489887905643,0.5388252605703221,0.6546004983176752,0.6780745587260482,0.6631129940429966,0.7406247114385001,0.721123001657773,0.8004401754433138,0.8244383858203751,0.8518895300840028,0.6217941954045461,0.6746364925793663,0.6900881175113505,0.6099902682718736,0.6454174003308442,0.498659067692404,0.5648398034230975,0.5502722817110259],[0.6948737624251506,0.7216044544260418,0.734424683076648,0.8768222243499406,0.8682925448033119,0.8570870234045367,0.8745977385496433,0.8398959070864773,0.8322279995130664,0.8516599712809848,0.8381086439689582,0.8548188206606893,0.873540318101278,0.8543547252168665,0.8223392981080521,0.8710080378711851,0.827085035123424,0.847328869884616,0.909150482500841,0.8876731019808215,0.8527189935858113,0.9106396326544167,0.8765495813292772,0.8829128572779206,0.9409556843159275,0.9167358721727055,0.9269367050434121,0.8523012751176575,0.916911857905477,0.8710402325403857,0.8966862503468797,0.8797055754041898,0.8722054720017514,0.9273825500591324,1.0000000000000002,0.9047225193080106,0.7393391740578241,0.8293023319550258,0.805962082312624,0.7969701488625202,0.7365621919056998,0.7372531444419221,0.7474761069375366,0.7264643102860551,0.7679098107247017,0.7063117976067975,0.7328819327142087,0.8289546750051935,0.7848219684053329,0.8301079440658858,0.7704568485712268,0.8315250150895055,0.7757372809354715,0.7689603334843014,0.8078502979521263,0.8173992458299898,0.6419831556693014,0.6782088995243812,0.6542899457939281,0.5540869805641062,0.5966611898918406,0.5171028115852083,0.6424679322793612,0.6593944354759342,0.6492410482893733,0.7196951946322916,0.6884065348413637,0.7788160439822354,0.8100472317969228,0.8388327350297369,0.6202910535078687,0.6444642641304347,0.6486000767184099,0.6104378885160676,0.6607414712311038,0.4988163057890084,0.5731913680744001,0.5400533264837809],[0.7371544713239091,0.7522303867974962,0.7563016551548667,0.8482116082697587,0.8834752499698261,0.8466263762954757,0.8782173331231573,0.8281228384672745,0.8091115052766076,0.9054766593477794,0.8445249757097861,0.9058255774307271,0.8697310574170976,0.885078911763983,0.8497815937866251,0.8640471999603723,0.7956832295396472,0.8756187647312768,0.9141480413945358,0.902896732056559,0.9148842567217279,0.9078713627966428,0.9044631264375942,0.9003423620575275,0.9231639755311991,0.9332090442112482,0.8957845883217315,0.9247946436074534,0.9209479534915835,0.8924460892324428,0.8996994077848661,0.8935899322762426,0.9093916147962806,0.924294958897429,0.9047225193080106,1.0,0.7954239551653295,0.8047662622037738,0.7600399400843668,0.7821119587097356,0.67823144300585,0.697665997674061,0.7395304802185583,0.7220331723716413,0.7620083713310626,0.7106265465447678,0.7298824462430521,0.8178384079937051,0.7993107031841009,0.8554927642840818,0.7970954256441313,0.8393125114564818,0.8209196452359337,0.8211005945793702,0.8403807088952606,0.8332718023692021,0.7194225223417277,0.7302194208361056,0.7210225101635457,0.6450817571632387,0.6381119845282665,0.5837392194211716,0.6426027643663843,0.6838326103226413,0.667769133680849,0.7408877583551654,0.7556935480187148,0.8244618067632917,0.8075147628156036,0.8362171140211136,0.6329787067931107,0.6858601948974349,0.7359637542789745,0.6698495067635323,0.6433788737204951,0.5168474354528128,0.5788799435877783,0.5667693300008977],[0.6571488155098562,0.6513490462839866,0.6148138027835087,0.6889433874762507,0.7003908952159845,0.7227545262609115,0.7634540175683641,0.7209706566932945,0.6765670508486029,0.7361576958221241,0.6973581723273793,0.7979613324197593,0.7252525552960956,0.7043705952450775,0.8089051973232033,0.7541787481572424,0.7008167511258699,0.7465476620852922,0.7688393910622277,0.7528045543904318,0.7507195201365475,0.7205033475961782,0.7440550868440309,0.7615172100331584,0.7385770728524935,0.749670037875451,0.7258606283468501,0.7859013420703895,0.7266095817282929,0.7262963693621206,0.7644712643541054,0.7514426899429965,0.7652144559159075,0.758373128098687,0.7393391740578241,0.7954239551653295,1.0,0.7367955984427047,0.6643796631751486,0.6471932596680774,0.5782412173948399,0.595915186492368,0.6466300421536924,0.5976554182439596,0.6672003304701354,0.6217591669775326,0.6440865722665992,0.6881496528681086,0.6780996820400731,0.6886879141936753,0.6844586438022966,0.7210494500623195,0.6777227830841321,0.7066346331228813,0.676088789798624,0.672927252075951,0.8551284404142858,0.793765181567101,0.7260346392929672,0.5048143840969251,0.5495043907470213,0.8163872256931475,0.5701407579859009,0.5849199514997107,0.5702314167168201,0.6397586046422069,0.6155878794547901,0.6635331410388273,0.6616845246715062,0.6736878781830009,0.5058679148315354,0.6297620734133769,0.5954903612609372,0.6373351075486547,0.5488357106105881,0.4832416587441269,0.5005429273943119,0.532696871654138],[0.5982301523348825,0.6632347539252169,0.6259129930288256,0.7404151059972491,0.7480666049127582,0.7414321172408771,0.7944617790705369,0.7450165163562715,0.6656672222610598,0.778211434627821,0.7111892277488899,0.7846066606900713,0.7352919518939365,0.7228083717014038,0.7359149095765287,0.7733156891148137,0.748093170296179,0.7181478883327836,0.797578123458894,0.7583255401680373,0.7513576598626758,0.765465393989005,0.7702298415946096,0.7623834503705674,0.8095827307660673,0.7769602842355461,0.7469964297790055,0.7744731011021009,0.7789161752723524,0.747587975671719,0.7479818957547288,0.745460436467045,0.7397002183959329,0.7780868011473163,0.8293023319550258,0.8047662622037738,0.7367955984427047,1.0000000000000002,0.6672134638853721,0.7270627381169982,0.5999616606343836,0.5772729661772306,0.6223431488392102,0.5819592608775777,0.6636568721909983,0.5690774810831778,0.6055643547884054,0.6864985601067028,0.6426946968240815,0.7351600584282936,0.6602308135057314,0.7319993005144853,0.6410441113217928,0.6674834798403663,0.6895551870945147,0.7053756049333304,0.6326769246366695,0.6878702815146112,0.5624241058222372,0.4792025871736404,0.5017062361163451,0.5444057028332684,0.5340111475695501,0.5432505686738969,0.5251737871436161,0.6255827326877552,0.6007377117937828,0.6747728834350369,0.6895054024929896,0.706624083808571,0.5408699273956497,0.6008987200934277,0.5609521960504044,0.515342543136565,0.5809690496880232,0.4126424059687653,0.49205090901521314,0.45611994111041504],[0.6025316682911633,0.661386559424803,0.5914733411420878,0.708925716755137,0.7273080553734927,0.7559221466622563,0.7173465460737558,0.7663997141822383,0.7716140110822698,0.7068928247217854,0.8036051122059069,0.7245148973173483,0.7466873169585053,0.7380840783279135,0.7488871751343895,0.7385261822566244,0.7284639849599348,0.7364780693362313,0.7550756548273729,0.8046108657994868,0.7219384693264916,0.7952481582948634,0.7503015152192019,0.7894144231931477,0.7994850013999466,0.7750768764684701,0.7932009018852908,0.7398302694467206,0.7775470956386937,0.7257270991243212,0.778011595143062,0.751965522565266,0.7326894582251912,0.7818538525109804,0.805962082312624,0.7600399400843668,0.6643796631751486,0.6672134638853721,0.9999999999999988,0.8102802811265134,0.5976612671569269,0.5939378840836665,0.6515238338572988,0.6606535751156373,0.618935247947603,0.6440931993473298,0.6446511486138817,0.6835371315312762,0.7128443384604658,0.6751126399215277,0.6604203667170104,0.716423115188227,0.7037977149330592,0.6729089580985874,0.712032714897906,0.7076663207377365,0.6044715193726432,0.6353222663747949,0.5989873499490292,0.4736627102534017,0.5551095477636385,0.4746590444281411,0.6040070299556533,0.571034594165003,0.5892635057483412,0.5681047202349578,0.547018542578966,0.705726804453847,0.7302495615995468,0.7448049797537865,0.4921079490542142,0.6487375904545478,0.5747563644924623,0.5634217496153318,0.5554478085145065,0.4124522688772099,0.5351047565040823,0.5456972488887145],[0.5455865367845482,0.5968786315035051,0.5529225332335743,0.6980724053628409,0.6975046768113555,0.7008452758252588,0.7082627234418972,0.6769399373111575,0.6757874644771963,0.7439956348340266,0.7379434803265266,0.7059092565653331,0.699612884286419,0.7626759585099024,0.6779565839430345,0.7336618753700841,0.6871653612157844,0.6776526244229872,0.7409758520780033,0.7562644174290315,0.7186631320632795,0.7487965961465175,0.7337089721222484,0.7696646913562424,0.7457336212595412,0.7552179918921217,0.7554850434217295,0.7490841852673445,0.7743747104678058,0.7045708880504116,0.751296662855305,0.7026188618526865,0.7190370161922801,0.7642286173004573,0.7969701488625202,0.7821119587097356,0.6471932596680774,0.7270627381169982,0.8102802811265134,1.0000000000000002,0.5667289379401643,0.5347372537799289,0.6035702457224268,0.6304712663433286,0.6606415228501904,0.6230285092438359,0.6921079519310182,0.634321526826812,0.6276750791466931,0.6651420778593564,0.582510466714832,0.6495262791986928,0.7277194990093367,0.6908785529681156,0.6994926645802235,0.721806382111183,0.5572038755087068,0.6637137232076851,0.6229248598404199,0.48029457601562353,0.6107760606604041,0.4768185375249636,0.6145043157857237,0.6024177224590178,0.6070330148974656,0.6384675648332268,0.6469061581919342,0.6423784420355689,0.6366867451146043,0.6663304362825682,0.47718618832417214,0.6090270243951541,0.5733071595489133,0.6235668369637829,0.608874920912583,0.3911421553021587,0.5568367685452237,0.5455258332710372],[0.5997357376726211,0.6805017516190202,0.5985197970650235,0.7493294172703836,0.6868812347256712,0.7341961684001826,0.6616793577088723,0.7158216463704559,0.6515579571843899,0.6547689878030002,0.6394185472322966,0.6454465298107706,0.7250504406638877,0.6664127793875516,0.6750396805577162,0.6667587483364164,0.6709971310428149,0.7100611257588576,0.6936276869819991,0.7072911523040424,0.6887364770403759,0.728482759030326,0.711838007429183,0.7116779453891493,0.746650077308313,0.6949210322156054,0.7213321050905125,0.6767925984291402,0.6991949058509961,0.7145033885199898,0.6860280346100929,0.6805520133807172,0.7127267609307175,0.6740261132796552,0.7365621919056998,0.67823144300585,0.5782412173948399,0.5999616606343836,0.5976612671569269,0.5667289379401643,1.0000000000000004,0.6654628689573928,0.5686263760051846,0.5239126182798168,0.6244789431134389,0.5416791693267333,0.6066395877600238,0.6547132198131623,0.65189644788996,0.6574243284575075,0.6557508485466308,0.6839228740852645,0.6048344530673657,0.6307847041252737,0.5916579172831873,0.5992961646946198,0.5347595945304894,0.5061347811168264,0.5406596039668466,0.47070965129032943,0.5113396930849721,0.4539147021725789,0.570645730968736,0.5173373565417334,0.5140875959809209,0.54927195113544,0.5451669075135885,0.6606045077416544,0.6234105771584092,0.6716987954194655,0.4457252419398565,0.5214274974537322,0.4872297979295327,0.482245809340623,0.5544030763717287,0.3211157373518939,0.4697518570079403,0.42591508743316375],[0.6486745293634304,0.6410363220104376,0.6351144070840499,0.7492490371381639,0.6639141599651799,0.7464908357294286,0.6662194623078783,0.6513691559001474,0.6144561979327101,0.6694605944220637,0.6883264099084152,0.6506085049113578,0.802019173345104,0.6834470198447741,0.6925113268331915,0.6647514785310461,0.6861958991075712,0.7078574240045035,0.7069675560850409,0.7125778872722073,0.7070683087671128,0.7498550070074957,0.7408725412043181,0.7005002504985558,0.7359325551688194,0.7216456616279181,0.714766236936411,0.722577548348674,0.6930721016931503,0.7108810793050144,0.688194085719835,0.7176269167617979,0.6927144398024295,0.7049383195826879,0.7372531444419221,0.697665997674061,0.595915186492368,0.5772729661772306,0.5939378840836665,0.5347372537799289,0.6654628689573928,0.9999999999999998,0.5988152527214865,0.5357728796564818,0.6036261898530066,0.5896545589684219,0.5449611079651213,0.6675279935074494,0.6685739235121417,0.6375353778876572,0.6883823924831658,0.6854778706506146,0.6059127198188646,0.6575062141899632,0.631211158929069,0.6046589520714565,0.5405740754136891,0.5107454602137547,0.5337953831406776,0.4978769907782525,0.46650010292444455,0.48769202384938715,0.5357574222393282,0.4929968181736003,0.46868340653306806,0.5038157993636061,0.5347323778224935,0.6817754239377714,0.6811923932172714,0.6769552790883075,0.48746686504866243,0.5124278082168551,0.516765565885731,0.53531627722728,0.47938247075226437,0.428110837653581,0.450754619297556,0.4342043434085019],[0.6008640642988684,0.5479868854835975,0.602521024751892,0.7277695528275867,0.6751821354074531,0.7373367159833121,0.6663754497265216,0.7340465477491414,0.6955983965715629,0.7035111904997453,0.6977362810156754,0.6742659203249121,0.7187376427418639,0.7459586094337326,0.7177487056451473,0.6817636202199914,0.6985408781911666,0.7348089937032519,0.7341724765207965,0.7416987403890621,0.7108282970674146,0.7374544364325664,0.7142980495277129,0.8012729932453705,0.752629821074845,0.7441923766282756,0.7968546852441174,0.730982273899927,0.7972115048955872,0.7179291505967308,0.7657262233621578,0.7560559160902547,0.7172767749201269,0.7677500302882672,0.7474761069375366,0.7395304802185583,0.6466300421536924,0.6223431488392102,0.6515238338572988,0.6035702457224268,0.5686263760051846,0.5988152527214865,0.9999999999999996,0.74060120871664,0.6713189212171854,0.618924932500909,0.7700798443512891,0.7178166134858401,0.71806566652369,0.6813224303935044,0.6600291378496524,0.715871540087943,0.7144222428851763,0.6670734002076469,0.6818975966823146,0.7059756605418261,0.5683365092685675,0.569548389179475,0.6187744179163492,0.5157504187581287,0.5164965374799896,0.43425856937357854,0.5871738302570696,0.6848372467042803,0.6712200898097521,0.6112216423201299,0.7290012744474543,0.6501670008769346,0.6874724742666949,0.7092236635121151,0.5029785455883641,0.5589943567673399,0.5909065838705909,0.5350318058057651,0.700842134655446,0.5171309210269687,0.6088431369533691,0.44513310454338284],[0.5499447773438844,0.5364575516412394,0.5420026355879997,0.688348722758906,0.7036418830372132,0.675515982862569,0.6747673515593318,0.6916114303697096,0.7041189859475855,0.6710915215656557,0.6871578845801651,0.6512279212672799,0.6613086523303866,0.6714612874707175,0.6754758104874988,0.6846910696609244,0.6454813567696234,0.6666520332843942,0.7052816511327685,0.7101090882235448,0.6938512311541191,0.7341616435329029,0.7054962800499847,0.7197877529219413,0.7427259928942762,0.7470186867936915,0.7687180764766085,0.6977472112500536,0.760766571587665,0.6880785395807147,0.7426109802949314,0.720433145310668,0.7223039685698788,0.7465153999549206,0.7264643102860551,0.7220331723716413,0.5976554182439596,0.5819592608775777,0.6606535751156373,0.6304712663433286,0.5239126182798168,0.5357728796564818,0.74060120871664,0.9999999999999994,0.6644216140810743,0.6519730156759193,0.6941533328506506,0.6519359709145728,0.6738990092071527,0.6410820431485588,0.6033938018035925,0.6472554573488676,0.6575087396943515,0.6881432260437247,0.6878276775563685,0.6804230924545963,0.5347055398082037,0.5431668403788571,0.5891354785508901,0.4730974728098023,0.5276520462262838,0.4388110148212169,0.5114245536526074,0.6064372179510846,0.6470057336058286,0.5747128154376029,0.584936402063911,0.6517813734172371,0.6803837771192421,0.7103998318222333,0.5050003319440253,0.5798457988050982,0.5862412374238356,0.6144688728540957,0.6085451278079079,0.48677421923055,0.7102612784578998,0.43570821627430906],[0.6243047430183053,0.6751863936960784,0.6145522346601492,0.7195697277036814,0.6846493560972489,0.7233723692094347,0.7646563795778014,0.7181550293389001,0.6745896118197137,0.6945369607310168,0.7703151671111067,0.7361416163503309,0.7269112915718711,0.784359917539379,0.7453400510267879,0.7466913751464532,0.736661464158987,0.7151791771228225,0.7682829256577838,0.7487555841990068,0.7198682945899544,0.7580563763014478,0.729070903809863,0.7435996006293433,0.7699824656260086,0.7514250723534173,0.7913996551634724,0.7355394739467125,0.7493638495806421,0.7314999141515769,0.7504854281574946,0.7529704672134273,0.7259505339230576,0.781094362091153,0.7679098107247017,0.7620083713310626,0.6672003304701354,0.6636568721909983,0.618935247947603,0.6606415228501904,0.6244789431134389,0.6036261898530066,0.6713189212171854,0.6644216140810743,0.9999999999999996,0.6995736121156467,0.8080160930194534,0.6949326700610268,0.6921578510165002,0.6932942827682032,0.6476893673022369,0.7016495255886774,0.6479515528970086,0.7020131405792981,0.7178281021336042,0.689217891568869,0.6105313005883084,0.647868074210595,0.5312496100096729,0.4233711643062561,0.5082514067757777,0.5302259869981053,0.5565082362673502,0.5714025097719546,0.5829733723524136,0.6240511626380918,0.5685959753882126,0.6651651064763879,0.7270203963911603,0.706351544759427,0.5246015125148122,0.5971109402217789,0.5746508102965264,0.5703481591205017,0.6389375113184246,0.4283226172751735,0.5893555852550122,0.511238389153862],[0.600278707243522,0.6064650164702752,0.5829487850085837,0.6883268290150826,0.656541353510605,0.6877037290185473,0.6844678857820494,0.7091284446938156,0.6978081683689514,0.6649587303136378,0.7328526168617565,0.6607006061056095,0.68657509093657,0.7091074122993184,0.7311467461892294,0.6886023039678633,0.7022945433331539,0.7055875087995125,0.712788006372843,0.7186779153743688,0.684022675891965,0.7415755199059771,0.6892081506135819,0.7291792469468651,0.7364766182504281,0.7217727732942816,0.7532786000485561,0.7003050777489066,0.7170119193171145,0.673827335248339,0.7143974509248279,0.7018145206944516,0.7076258843485924,0.7577988275422354,0.7063117976067975,0.7106265465447678,0.6217591669775326,0.5690774810831778,0.6440931993473298,0.6230285092438359,0.5416791693267333,0.5896545589684219,0.618924932500909,0.6519730156759193,0.6995736121156467,1.000000000000001,0.6811370844506154,0.6524709904039376,0.715909450118059,0.6225728388168562,0.6327280522989687,0.6735006049799663,0.682001071905459,0.6763936605762892,0.6542909471319257,0.6277515148186715,0.5539436249739428,0.6168361285394091,0.6227518561137074,0.4819008426232791,0.5834660669033284,0.5184852305289522,0.5648194705328395,0.5215008886437953,0.48922296681933436,0.5626309023536771,0.5861108105854105,0.6596327032883714,0.7112958157617688,0.695286608662728,0.43441913941159094,0.6335496799567552,0.6189118727050852,0.5519367163005084,0.5785636302007613,0.3842625122656522,0.5216850981052052,0.4236786861226648],[0.5426606361753754,0.5777675425825234,0.5584410854256668,0.6775444390972909,0.6572677422882177,0.7085444523824452,0.6581112881131649,0.7298080083397849,0.694580827221247,0.6881148597323632,0.7206621388944913,0.6797438396446995,0.687762541834761,0.7438961115224807,0.7244218013178633,0.668626727886598,0.7120782741711106,0.7309235472886229,0.6996173993223287,0.730719948214055,0.6979385880368639,0.7216151100813165,0.695120355808639,0.7711008518122722,0.7315347135912003,0.7174674649817009,0.7739434867317679,0.7130499277195893,0.7642532296547246,0.6809178878527526,0.7257493149843753,0.7164340145507779,0.7102205879995772,0.7569983141974908,0.7328819327142087,0.7298824462430521,0.6440865722665992,0.6055643547884054,0.6446511486138817,0.6921079519310182,0.6066395877600238,0.5449611079651213,0.7700798443512891,0.6941533328506506,0.8080160930194534,0.6811370844506154,1.0000000000000007,0.6617809906450205,0.7229103767225908,0.6747548184766976,0.6121422086809285,0.6815816550352191,0.7294666576295546,0.644554882444236,0.6927419760525668,0.6756727744737429,0.5691226493209275,0.6038905101523269,0.5690672961641317,0.49421506098711526,0.5604418357859183,0.46922384332219635,0.6055943107532648,0.6288655213874745,0.6296592929890531,0.6611456003010293,0.7042790618333105,0.637215249171698,0.6633503054059371,0.6730462051365677,0.4671245762493237,0.5468504140438712,0.5329225625676225,0.5184797636175893,0.7958115584734393,0.4304401981610659,0.5931663448258693,0.5138723705627102],[0.8707439124985012,0.7665130177417894,0.9263889815935669,0.789116123807697,0.7934111029470051,0.8161591640163484,0.7994928312944742,0.7776469345574786,0.7843868901535064,0.8093185705526432,0.7649564562646203,0.8523674462372939,0.808591349899238,0.7924320127541162,0.778001830780431,0.765430887505544,0.748410419471394,0.8756734595919997,0.8460489653496464,0.8404815104099017,0.8578325074079755,0.8313640522778558,0.8410252501626307,0.871918092263154,0.8504735156296477,0.8449071284220974,0.847409116482561,0.8391338198140882,0.8410492865519887,0.9296372645483362,0.8347176633529549,0.9342602065365835,0.8464360683310748,0.8253479823754497,0.8289546750051935,0.8178384079937051,0.6881496528681086,0.6864985601067028,0.6835371315312762,0.634321526826812,0.6547132198131623,0.6675279935074494,0.7178166134858401,0.6519359709145728,0.6949326700610268,0.6524709904039376,0.6617809906450205,0.9999999999999996,0.8471917647634138,0.8837034295689414,0.9247661484496312,0.9468519860196898,0.7765615024634418,0.8164420367200335,0.7297944395313767,0.7834478574547215,0.619941781985403,0.612755092086366,0.6367437961410124,0.5661479784842257,0.540933395953859,0.46617027016537893,0.5839579436123185,0.6229919442386798,0.5851530910300423,0.6078102356909652,0.6571686237589583,0.7798037301059061,0.785833738474457,0.7900758057216353,0.8327215800193806,0.5864916958538953,0.6397394919330115,0.6113175216789709,0.6266792097966232,0.48471530133970275,0.5439332571723048,0.4488028609308835],[0.7810114450186734,0.7231895351605915,0.7814671828691435,0.7680633005809901,0.8097221915701589,0.8101879077297363,0.7532734018347258,0.7908262450903295,0.7642135806076599,0.7862894789697984,0.7511495522944064,0.7894884290054458,0.7993306367462101,0.7883336785928907,0.8794163033183029,0.7464811412985881,0.77464330116851,0.8781116211516442,0.8185590155028194,0.8395163209781499,0.8392495463632229,0.8336512389182904,0.8192885085268384,0.8455299778281911,0.8293708019726349,0.8246978264893707,0.8344238167215648,0.839429817826279,0.8231733423391603,0.8576954969088697,0.7995137428837145,0.8450248006149641,0.8408573246244697,0.8132198804779355,0.7848219684053329,0.7993107031841009,0.6780996820400731,0.6426946968240815,0.7128443384604658,0.6276750791466931,0.65189644788996,0.6685739235121417,0.71806566652369,0.6738990092071527,0.6921578510165002,0.715909450118059,0.7229103767225908,0.8471917647634138,1.0000000000000004,0.7789769264128291,0.8556053892437911,0.8811330986900465,0.7542198967600368,0.7688473943022562,0.7520130760239094,0.7270947891271066,0.6036432877338785,0.616653331763865,0.6134157384410203,0.602804696253026,0.5880780735292525,0.4932652739920696,0.6335565347110752,0.6038000279772275,0.5724521230138793,0.5858626608683296,0.6489975049908526,0.8046756467426881,0.7877294784311422,0.7965675485219539,0.6882965259123166,0.6313638229419569,0.6494848825728881,0.6076035221427927,0.6407109628052566,0.4885411610071199,0.5465100193283023,0.442352539259363],[0.7879042524408676,0.7574510248611152,0.8398612945141546,0.7955701111897652,0.8322491860369767,0.8086532290306396,0.7887203048284593,0.7976923373041019,0.8036871184170955,0.8478779964376846,0.7678142688612788,0.8301360220426961,0.8193172681213667,0.8164806522756147,0.7897378295473461,0.7914042685927432,0.8053851003348655,0.8659004186096342,0.8717344660646711,0.8394797603243713,0.8605344904035745,0.8524062456483325,0.8537909363500147,0.8680388947746054,0.8597839039684156,0.861152253919638,0.8317465658243284,0.8552547160920867,0.8542494675110286,0.8830503475433853,0.8427438737041982,0.8806126049736247,0.8488254833861613,0.8313322953419219,0.8301079440658858,0.8554927642840818,0.6886879141936753,0.7351600584282936,0.6751126399215277,0.6651420778593564,0.6574243284575075,0.6375353778876572,0.6813224303935044,0.6410820431485588,0.6932942827682032,0.6225728388168562,0.6747548184766976,0.8837034295689414,0.7789769264128291,1.0,0.8376025723082552,0.8684218147524342,0.7992639515968845,0.800724056879557,0.7717746778367873,0.8891559481824927,0.6157998056050362,0.6374718406195081,0.6357361329603574,0.5974807880874988,0.5759419996352485,0.46161245597354533,0.5875591030555505,0.6089938871074285,0.6126683979004143,0.6476182351356596,0.681310708609259,0.8026490673230733,0.779804691951606,0.8028363278091981,0.7089068218264567,0.5884778552063111,0.6479047939742582,0.5806889770447818,0.6540630537243336,0.43481069218913576,0.5639875866781627,0.4604348885779708],[0.9336091732743026,0.7854841615727376,0.8977158238808908,0.767805647332802,0.7615311249667995,0.7972624709384767,0.8101944951273127,0.7807642498015572,0.7501243269877066,0.7971835774176105,0.7588417087899455,0.8126055643298149,0.7963842979118825,0.7586393891199676,0.7885515711308015,0.7513891657926697,0.7407593631288973,0.9152861128021135,0.8361247518889005,0.8198907318155693,0.8577214255765941,0.794397987633272,0.8281725011144179,0.8416871165229443,0.8078311057052979,0.8060758546942886,0.7880617701137467,0.8404389156344714,0.7905083292851532,0.9085837889309433,0.7836770096359462,0.8945082603283334,0.8590976433986792,0.7733208901655928,0.7704568485712268,0.7970954256441313,0.6844586438022966,0.6602308135057314,0.6604203667170104,0.582510466714832,0.6557508485466308,0.6883823924831658,0.6600291378496524,0.6033938018035925,0.6476893673022369,0.6327280522989687,0.6121422086809285,0.9247661484496312,0.8556053892437911,0.8376025723082552,1.0000000000000002,0.9315179677087886,0.7568655301973045,0.8262784776747538,0.7176531267210455,0.7573103121479159,0.6217196007826453,0.5860250546872331,0.5975443647559473,0.568389564334345,0.5512898569866141,0.470726575891696,0.6073643215978373,0.5611067868146612,0.5610823909818795,0.5507002971410669,0.6138373228797831,0.7858595433613766,0.752555269040512,0.7609416352394458,0.7799663090741475,0.5897147409560628,0.6303360088574905,0.6063358148442144,0.5818977913900334,0.47376133721888664,0.5010969159740193,0.4123963328960446],[0.8468202155235791,0.8192689390406851,0.9055020486463605,0.813816241604614,0.8143877339223136,0.8515129986822269,0.832476020786646,0.8328635267014044,0.7991903716858115,0.8280328169118201,0.7844854226598438,0.8690225208401944,0.8245541128396758,0.8161855608996754,0.8273111735281793,0.7957861329464814,0.8053350213265109,0.9192610454418666,0.8636103409342974,0.8606618481672952,0.869881220311499,0.8327954213392452,0.8504925039987988,0.8892036195202926,0.8680542574256119,0.8331149867792251,0.8423454951604332,0.8698052574668504,0.8292377146118068,0.92323485297181,0.8216322610166459,0.9340974426994707,0.8726914468314448,0.8200105406796219,0.8315250150895055,0.8393125114564818,0.7210494500623195,0.7319993005144853,0.716423115188227,0.6495262791986928,0.6839228740852645,0.6854778706506146,0.715871540087943,0.6472554573488676,0.7016495255886774,0.6735006049799663,0.6815816550352191,0.9468519860196898,0.8811330986900465,0.8684218147524342,0.9315179677087886,0.9999999999999992,0.7846750505523232,0.82496674249086,0.7394771512066239,0.7889784141828287,0.6548880904734775,0.6395186518630653,0.6302196358251152,0.5782918322123403,0.5856419536228465,0.5089504539081972,0.6036526504836547,0.6184818288567868,0.5830619618661546,0.6418966532585574,0.6780716594118912,0.797331393435743,0.8015349360112649,0.7877367128949453,0.7763349626306674,0.6362478162977425,0.6489809504808878,0.6132992772101725,0.6658363724007605,0.47979395967983074,0.5448012064077629,0.4858732037934559],[0.7138713287708901,0.6897560626133035,0.6990846278538143,0.7509997990561065,0.7487144573935677,0.7463714189031097,0.7148170511352033,0.7735768713869993,0.749583460013304,0.7918889596188485,0.7778940746289512,0.7754354040975978,0.7444277774641617,0.79927383385589,0.7539835884241141,0.7116199713990763,0.7062523600853519,0.8350745977972824,0.7713259856714281,0.8137603081276594,0.7985493469974865,0.7801897307890038,0.7722331078491402,0.8825712810253218,0.7997881907049431,0.7972632092562741,0.796258620349954,0.8186863054327564,0.806682501005813,0.77675056715177,0.8130598140446401,0.8087255645707403,0.7867648461142893,0.8120885280393446,0.7757372809354715,0.8209196452359337,0.6777227830841321,0.6410441113217928,0.7037977149330592,0.7277194990093367,0.6048344530673657,0.6059127198188646,0.7144222428851763,0.6575087396943515,0.6479515528970086,0.682001071905459,0.7294666576295546,0.7765615024634418,0.7542198967600368,0.7992639515968845,0.7568655301973045,0.7846750505523232,0.9999999999999993,0.746939513062987,0.7529010373219168,0.7834278019287968,0.6239666616487998,0.6287605596227336,0.6892937136838739,0.6747846216918663,0.6894429585039532,0.4888049000438849,0.6323623535303055,0.6172493393535607,0.608491077561744,0.648773707042316,0.789227777546144,0.7149016358285732,0.7163227518582458,0.7303555684870081,0.6128773437330148,0.6114486415609531,0.6095813057188572,0.6159682669991396,0.7479551887839058,0.42792804531428763,0.5506254624272898,0.5107307398969859],[0.8498407922979883,0.8038364444218734,0.7639596670139562,0.7951264129097246,0.7809445637640646,0.7740019618560201,0.7970642478202234,0.7496478890573887,0.7441559465233857,0.7957623729550061,0.7860367791380478,0.8176883993960383,0.76900396672769,0.7839496207273302,0.7627477005413388,0.774995537992892,0.7191897370774845,0.8062048553378927,0.8121310729794937,0.8340369489170638,0.8187679085603476,0.8038906289678944,0.8023300481114567,0.8372906853735648,0.8156023241468568,0.7984091687496245,0.7863798277282589,0.8437403238647045,0.8020977061507051,0.8491413699696582,0.7813649562737778,0.8492693882869341,0.8143286079888598,0.7741703203481768,0.7689603334843014,0.8211005945793702,0.7066346331228813,0.6674834798403663,0.6729089580985874,0.6908785529681156,0.6307847041252737,0.6575062141899632,0.6670734002076469,0.6881432260437247,0.7020131405792981,0.6763936605762892,0.644554882444236,0.8164420367200335,0.7688473943022562,0.800724056879557,0.8262784776747538,0.82496674249086,0.746939513062987,1.0,0.7800440919387823,0.7513490373281368,0.6497004464525542,0.6730309716662507,0.662400715635385,0.5578170955716953,0.6104015733044209,0.5347807257923456,0.6063864986478746,0.6525320074670274,0.6627962876448467,0.6693960266919066,0.6654510727750149,0.7432796984446572,0.7487331613071337,0.7506192919285248,0.6733351349891099,0.6601864131999658,0.689245884712394,0.7234533254752671,0.548894755489594,0.4968559503782207,0.6041751028312191,0.5174309807613895],[0.6946310029343317,0.682278444395648,0.6684917656743108,0.751651885967781,0.8529792357563559,0.7652406626219028,0.7753504717578783,0.7298194907865194,0.7466730943476336,0.7604147468773235,0.7843815112724896,0.7739794983765266,0.7801729481039084,0.8244407189000307,0.7851828911121059,0.7767371836282781,0.7522063590329413,0.779487144211128,0.8132104935189719,0.8155540844086364,0.7621640746579135,0.8272227761293034,0.7776231137889772,0.7903089382677569,0.8250864353433535,0.8183148995101288,0.8328732138532982,0.7919996769483,0.8332860630556789,0.802510959848743,0.8206514719930174,0.8030071443936274,0.8082879064407289,0.8349948647219383,0.8078502979521263,0.8403807088952606,0.676088789798624,0.6895551870945147,0.712032714897906,0.6994926645802235,0.5916579172831873,0.631211158929069,0.6818975966823146,0.6878276775563685,0.7178281021336042,0.6542909471319257,0.6927419760525668,0.7297944395313767,0.7520130760239094,0.7717746778367873,0.7176531267210455,0.7394771512066239,0.7529010373219168,0.7800440919387823,1.0,0.8103367250506017,0.6423800928166009,0.6777181702039715,0.6584702216122985,0.5949378535594011,0.5758970171001325,0.4822180358416749,0.5985344882679557,0.6237471988817876,0.6365548735229188,0.6584449874604362,0.6460784551112857,0.6915587674686136,0.6887932797775996,0.7547897189552082,0.608505028394762,0.5937477355035858,0.6450879830700055,0.639836537463751,0.5812657082211241,0.46324225226399207,0.5564144841396886,0.5463639926155623],[0.6985697218192836,0.678816569846648,0.7176262315357866,0.7726997137726934,0.8051983572173005,0.7633313115540236,0.7553136041738266,0.7635525716151315,0.8171729184500546,0.7829706974058488,0.7836925548585362,0.7818922536467796,0.7910874663683347,0.8481682801033943,0.7587881525978233,0.7591030178551984,0.7726920974929905,0.8114362549731752,0.8612816285911196,0.8243732082581519,0.8089776955278836,0.8166774933270231,0.8025135178119479,0.8224913750427933,0.8191272392507952,0.8400609240145929,0.8339373762439011,0.7996696011201032,0.816484530428794,0.8194694539714462,0.8148172214480212,0.8237321305492125,0.8001414956707105,0.8025762028933248,0.8173992458299898,0.8332718023692021,0.672927252075951,0.7053756049333304,0.7076663207377365,0.721806382111183,0.5992961646946198,0.6046589520714565,0.7059756605418261,0.6804230924545963,0.689217891568869,0.6277515148186715,0.6756727744737429,0.7834478574547215,0.7270947891271066,0.8891559481824927,0.7573103121479159,0.7889784141828287,0.7834278019287968,0.7513490373281368,0.8103367250506017,1.0,0.6130974884903697,0.6684593516823223,0.6232711377644653,0.5094414290147047,0.5743220804056685,0.4640161997255524,0.6096101810339076,0.6147207798438102,0.5817966615018919,0.6256870152074732,0.666088583753802,0.7610229070437231,0.71651594432681,0.8047442741397278,0.5912014882744141,0.5916962064527018,0.6573635470830581,0.6293831174794776,0.6157982637284916,0.4563552360037996,0.5576745652548604,0.4598736881390878],[0.6220545624119007,0.6761783861109316,0.5641172842824593,0.614763825036082,0.6589144792392594,0.668779146708484,0.6976979485846737,0.6428079872883359,0.6214985940137194,0.6658869291138411,0.662201639370845,0.7762182199546044,0.6733959987044642,0.6390228764531948,0.8296179410359862,0.7033539594520698,0.6359226415496868,0.6650071514613609,0.6777883168670635,0.688344262285288,0.6638453548691011,0.6469062427182686,0.6699358474622499,0.6958477218774979,0.7010219814414094,0.6606977171081895,0.6738923430665419,0.7066906191927113,0.6535633243630594,0.6500731184057731,0.7000098139358507,0.6763282354862838,0.6923670905115265,0.6860766260592923,0.6419831556693014,0.7194225223417277,0.8551284404142858,0.6326769246366695,0.6044715193726432,0.5572038755087068,0.5347595945304894,0.5405740754136891,0.5683365092685675,0.5347055398082037,0.6105313005883084,0.5539436249739428,0.5691226493209275,0.619941781985403,0.6036432877338785,0.6157998056050362,0.6217196007826453,0.6548880904734775,0.6239666616487998,0.6497004464525542,0.6423800928166009,0.6130974884903697,1.0000000000000007,0.7317906253888186,0.6646905891660636,0.47338680645765124,0.45247949113587305,0.6779617730499662,0.5252022190207064,0.4920237686839924,0.5156399131768289,0.5646203339233281,0.5616365313505898,0.5778927610728334,0.6216671356594774,0.6028817241261571,0.4495491367093256,0.5588189186044208,0.5386412714995809,0.6048237059593575,0.4756206199175861,0.38482932442394935,0.47275825966885743,0.5458342957582282],[0.5747106362700313,0.6115512577470827,0.5224523457685037,0.6422852594758928,0.6514758491955367,0.6496676369041648,0.7008372786346981,0.6184493086820726,0.6303036420077114,0.6867192590655804,0.6715861090125735,0.7068605082013966,0.6577042071050647,0.6963999162235621,0.7103403376136038,0.6834381854827907,0.6264803087398492,0.6359217080599487,0.7040309274754301,0.6854506785847264,0.653181910857075,0.6699539003443639,0.6608813385226004,0.691865334138166,0.6981373678596635,0.6802366562868293,0.6740708636388459,0.7064776658852006,0.6860433917088962,0.662898243355393,0.7012437028135204,0.6727330547611536,0.6455598368069438,0.7135038156657153,0.6782088995243812,0.7302194208361056,0.793765181567101,0.6878702815146112,0.6353222663747949,0.6637137232076851,0.5061347811168264,0.5107454602137547,0.569548389179475,0.5431668403788571,0.647868074210595,0.6168361285394091,0.6038905101523269,0.612755092086366,0.616653331763865,0.6374718406195081,0.5860250546872331,0.6395186518630653,0.6287605596227336,0.6730309716662507,0.6777181702039715,0.6684593516823223,0.7317906253888186,0.9999999999999987,0.6615844272482625,0.43500047022810445,0.44791026417912716,0.6437209029328663,0.5482550359906426,0.5331423173412965,0.48258973415309625,0.5930732165005423,0.5802736086500284,0.5577368548373177,0.6104629010994627,0.6227821010742755,0.469554709597985,0.5779536138650357,0.6196571396529942,0.5777105195998595,0.5301895772112228,0.4248826585976382,0.45088871675642384,0.4990031001972586],[0.617609526976077,0.5484596171979492,0.5906151666710124,0.5989205037347599,0.6395344219928429,0.6373747773995,0.6226502366504576,0.6423414056411707,0.620419384388482,0.6730360727641398,0.6141225468433138,0.642539100056218,0.6419784545049403,0.6300763419391958,0.6593554070425096,0.6448485424895255,0.6090527515875701,0.6393493709994118,0.6560425388741861,0.6680613531733408,0.642143288667925,0.6643928939881683,0.6487893424456659,0.6957669449612474,0.6666994772452279,0.6705885965782398,0.6917181011040651,0.6864415865147875,0.712879421402224,0.6698063059258259,0.7418930788597327,0.6881871077807875,0.6846446102141868,0.7139003241950467,0.6542899457939281,0.7210225101635457,0.7260346392929672,0.5624241058222372,0.5989873499490292,0.6229248598404199,0.5406596039668466,0.5337953831406776,0.6187744179163492,0.5891354785508901,0.5312496100096729,0.6227518561137074,0.5690672961641317,0.6367437961410124,0.6134157384410203,0.6357361329603574,0.5975443647559473,0.6302196358251152,0.6892937136838739,0.662400715635385,0.6584702216122985,0.6232711377644653,0.6646905891660636,0.6615844272482625,1.0,0.5702750843306621,0.5987973585927056,0.6246236222050532,0.5794717952685183,0.6116197531002072,0.5209861889046585,0.5912003270590717,0.6843159821866592,0.5732515293803612,0.6058973418661862,0.6090745300072482,0.4659992719464629,0.512678612376624,0.5755720467496506,0.6150158992326006,0.4942067559483766,0.41287150998540645,0.4444639024732737,0.4613430568952993],[0.5399754585605213,0.5688713022690721,0.47602791889516494,0.5606649284844843,0.6113491510646634,0.5772654769746964,0.5642694205987715,0.5776170664571871,0.5643991998832861,0.6245777659994924,0.5899433140790654,0.5726425518955354,0.5426258878812191,0.5594637991806759,0.5926368963978224,0.5658527030573047,0.5282404633876135,0.6424200072078938,0.5783300848588557,0.6064088714154884,0.6347777484355674,0.6152608256137988,0.6033796099268081,0.6559331247069837,0.6266158564399724,0.6316426729157438,0.5808374450373419,0.6551414662656571,0.6218771985136897,0.5934824063805304,0.6233860532068365,0.6019019189484505,0.6391359006585349,0.6089481658961979,0.5540869805641062,0.6450817571632387,0.5048143840969251,0.4792025871736404,0.4736627102534017,0.48029457601562353,0.47070965129032943,0.4978769907782525,0.5157504187581287,0.4730974728098023,0.4233711643062561,0.4819008426232791,0.49421506098711526,0.5661479784842257,0.602804696253026,0.5974807880874988,0.568389564334345,0.5782918322123403,0.6747846216918663,0.5578170955716953,0.5949378535594011,0.5094414290147047,0.47338680645765124,0.43500047022810445,0.5702750843306621,0.9999999999999996,0.6171162336636022,0.38887710494823247,0.4096688380648807,0.39823670006022305,0.5012048015380771,0.5338244372176113,0.6232602441326701,0.5582968428918128,0.5264863110684355,0.5356256092364599,0.4993355085226299,0.4567462783973255,0.43939323117133483,0.49769577354838157,0.528934011650657,0.303223436117098,0.439949440909504,0.47238166786626024],[0.500254732642632,0.5218464101858612,0.4781552406169152,0.5861474447088512,0.5883084975263015,0.5865646059366801,0.604363754047961,0.6262019721559239,0.5681944314211655,0.5979093510761823,0.5732432901847281,0.552951422672189,0.5834669997332408,0.5897241411398639,0.5680925294570576,0.6035992089129929,0.5351105373185774,0.6408194466258155,0.5931246337869707,0.6174303841988482,0.6123708118604456,0.6021606967819935,0.5960744148716238,0.6687591918436308,0.6075025785997084,0.6115621473959937,0.609958749331198,0.6322301394443407,0.6153752594375281,0.5768236686018191,0.6383111228326084,0.6091580975951905,0.6632983427084072,0.6254489887905643,0.5966611898918406,0.6381119845282665,0.5495043907470213,0.5017062361163451,0.5551095477636385,0.6107760606604041,0.5113396930849721,0.46650010292444455,0.5164965374799896,0.5276520462262838,0.5082514067757777,0.5834660669033284,0.5604418357859183,0.540933395953859,0.5880780735292525,0.5759419996352485,0.5512898569866141,0.5856419536228465,0.6894429585039532,0.6104015733044209,0.5758970171001325,0.5743220804056685,0.45247949113587305,0.44791026417912716,0.5987973585927056,0.6171162336636022,0.9999999999999996,0.5123423869801906,0.5614912602139748,0.48084981927822207,0.5087929036916032,0.5168292858854195,0.661026645420051,0.5960730348795589,0.5694336724361255,0.5717156263263413,0.4544026326156223,0.5049969338069653,0.5418146062198242,0.5942559686416617,0.5256321825199973,0.33202434414136783,0.43491962647092675,0.47885903065785296],[0.4469639576836915,0.4657317770878907,0.39837944972104034,0.4845642842466358,0.4945298164101789,0.5284717979192002,0.5474109859674763,0.5314065793850286,0.461561134281808,0.4873361257391828,0.5037888516110082,0.6048477058957087,0.5153893686974168,0.5134380973225752,0.6153374501310381,0.5458048346994848,0.5255736680198481,0.5359020531403612,0.5228492057847164,0.5682093113983113,0.5212617769691236,0.5243878099796698,0.5267391559085148,0.5179248614024126,0.5276808238176324,0.5232957864344027,0.5205124944548338,0.5496980403079932,0.49897658870845496,0.498084374016154,0.5652232897886917,0.5359940788591705,0.5398134559555618,0.5388252605703221,0.5171028115852083,0.5837392194211716,0.8163872256931475,0.5444057028332684,0.4746590444281411,0.4768185375249636,0.4539147021725789,0.48769202384938715,0.43425856937357854,0.4388110148212169,0.5302259869981053,0.5184852305289522,0.46922384332219635,0.46617027016537893,0.4932652739920696,0.46161245597354533,0.470726575891696,0.5089504539081972,0.4888049000438849,0.5347807257923456,0.4822180358416749,0.4640161997255524,0.6779617730499662,0.6437209029328663,0.6246236222050532,0.38887710494823247,0.5123423869801906,1.0,0.46090021245800455,0.44726718388075204,0.36881997536837346,0.4906750179975734,0.4964285623897081,0.47440545978862325,0.5187795628923851,0.5026084695404669,0.32048233029982337,0.5649365758340013,0.4996651697169881,0.5770961245387114,0.3787302402785755,0.4356390398541545,0.37141132281306055,0.4607947929747471],[0.5426684181475312,0.5336496072289418,0.49990941039733006,0.5860875781458269,0.6155078477324285,0.6274049532087445,0.5937498589204091,0.624699702985629,0.6412757656155375,0.6092281635219101,0.607282095714315,0.5958877108449927,0.6335725591725376,0.6591646780801005,0.637470860972032,0.5931479836256492,0.581287736573689,0.672606439989964,0.6502815553625105,0.7308370713352375,0.6204009244569177,0.6449244319654692,0.6245805525867589,0.6863383566477098,0.6527979350482626,0.6394444782910882,0.7116365454061907,0.6524086124165064,0.6767038800456271,0.6262789079146804,0.6632004506780983,0.626077612106756,0.6328104798690006,0.6546004983176752,0.6424679322793612,0.6426027643663843,0.5701407579859009,0.5340111475695501,0.6040070299556533,0.6145043157857237,0.570645730968736,0.5357574222393282,0.5871738302570696,0.5114245536526074,0.5565082362673502,0.5648194705328395,0.6055943107532648,0.5839579436123185,0.6335565347110752,0.5875591030555505,0.6073643215978373,0.6036526504836547,0.6323623535303055,0.6063864986478746,0.5985344882679557,0.6096101810339076,0.5252022190207064,0.5482550359906426,0.5794717952685183,0.4096688380648807,0.5614912602139748,0.46090021245800455,0.9999999999999998,0.6187975830471993,0.5474615681616324,0.501036320526413,0.565796226000491,0.565097568775089,0.5648155240191465,0.6069604624833108,0.41035066510221996,0.5061292536059541,0.553183255964034,0.5403869009113362,0.4846964977401811,0.44958600676025595,0.4718116333819453,0.42419684479411623],[0.5177384055652743,0.5105422187960451,0.5529418040250894,0.6542602970559831,0.6182858015268716,0.6573067018596863,0.5946190388541127,0.5947154842292598,0.5791329493763558,0.6691587059578711,0.6055785738549966,0.6005912010518701,0.6427752719677268,0.6441810068876423,0.5990333187552618,0.5994674811180979,0.570819907514234,0.6538429783189424,0.6611165349017312,0.6640176100224444,0.6162319395744675,0.6856893440613046,0.6425986486023567,0.6940856813751182,0.6750700218694377,0.6509035138092688,0.7198661372275319,0.6599047006268042,0.7339983431546443,0.6582970986012767,0.7000813626714324,0.6735625927230741,0.6322932529418261,0.6780745587260482,0.6593944354759342,0.6838326103226413,0.5849199514997107,0.5432505686738969,0.571034594165003,0.6024177224590178,0.5173373565417334,0.4929968181736003,0.6848372467042803,0.6064372179510846,0.5714025097719546,0.5215008886437953,0.6288655213874745,0.6229919442386798,0.6038000279772275,0.6089938871074285,0.5611067868146612,0.6184818288567868,0.6172493393535607,0.6525320074670274,0.6237471988817876,0.6147207798438102,0.4920237686839924,0.5331423173412965,0.6116197531002072,0.39823670006022305,0.48084981927822207,0.44726718388075204,0.6187975830471993,1.0000000000000007,0.6659404530000563,0.6316102775623668,0.6360786899713157,0.5816188723067879,0.5740657749771468,0.6395356044579545,0.4415754044722648,0.4684226987806126,0.5560688738221716,0.5064421074880414,0.5059039715244107,0.6735424184121774,0.4519481975301507,0.448782777269129],[0.5441730324517835,0.5090055085380983,0.5125070460376187,0.6350205745900794,0.6161142621721951,0.6216054063709233,0.5834341737141253,0.6107584260046643,0.5964094654247121,0.6508918377982308,0.5868961068655174,0.575613574929691,0.6033757839656344,0.6114316625470076,0.5915552969993488,0.5935543953930048,0.5415372587961194,0.6343718274599122,0.6474163762133068,0.6511364549815426,0.5978249454635016,0.6356753346318883,0.6034429160741515,0.669569502860805,0.6360469456058808,0.6161700285513114,0.675984637965045,0.658634955853276,0.7061376739768469,0.6444088161887652,0.6692189034480833,0.6769678499793303,0.6585822343511144,0.6631129940429966,0.6492410482893733,0.667769133680849,0.5702314167168201,0.5251737871436161,0.5892635057483412,0.6070330148974656,0.5140875959809209,0.46868340653306806,0.6712200898097521,0.6470057336058286,0.5829733723524136,0.48922296681933436,0.6296592929890531,0.5851530910300423,0.5724521230138793,0.6126683979004143,0.5610823909818795,0.5830619618661546,0.608491077561744,0.6627962876448467,0.6365548735229188,0.5817966615018919,0.5156399131768289,0.48258973415309625,0.5209861889046585,0.5012048015380771,0.5087929036916032,0.36881997536837346,0.5474615681616324,0.6659404530000563,1.0,0.6177275983043318,0.5568252467586841,0.5482756667036301,0.5886100825700136,0.5898946486081685,0.4762441331475812,0.5327942932318246,0.5299425450874706,0.5984193515491065,0.46947330348612926,0.4507006860715911,0.7055580858051258,0.555714698417248],[0.49165121565983183,0.5818225923438464,0.5116895265609286,0.6493889077590398,0.6657935393706682,0.656204364426157,0.6440688602761258,0.6734824926825237,0.6409608970808551,0.7080627749899637,0.6722295966025522,0.6852318935053968,0.6327614124291885,0.664142950937346,0.6551725214017036,0.6732987910553925,0.6262763851771742,0.6705118584663683,0.6966111238288101,0.72135343952359,0.6477721253393556,0.6784365685001759,0.6567293321040848,0.7018782920967044,0.7242342343245909,0.6858986899774269,0.713083847350546,0.70630280587066,0.7433794662463142,0.6562724443662395,0.6793677048208187,0.7152241003485124,0.6823338808885595,0.7406247114385001,0.7196951946322916,0.7408877583551654,0.6397586046422069,0.6255827326877552,0.5681047202349578,0.6384675648332268,0.54927195113544,0.5038157993636061,0.6112216423201299,0.5747128154376029,0.6240511626380918,0.5626309023536771,0.6611456003010293,0.6078102356909652,0.5858626608683296,0.6476182351356596,0.5507002971410669,0.6418966532585574,0.648773707042316,0.6693960266919066,0.6584449874604362,0.6256870152074732,0.5646203339233281,0.5930732165005423,0.5912003270590717,0.5338244372176113,0.5168292858854195,0.4906750179975734,0.501036320526413,0.6316102775623668,0.6177275983043318,1.0000000000000002,0.680154673709918,0.5735920410588007,0.63130602160735,0.624698053454259,0.42752748178947997,0.5504204395246236,0.5919092494755368,0.5098898091718693,0.5236467829524076,0.48677569102654616,0.47491797188157503,0.612882982572097],[0.5464019970124694,0.5468842609763881,0.5756511014479965,0.6785945167537645,0.6663921535129215,0.6692767835787666,0.6380934153038749,0.6436366686185782,0.6163174180015045,0.7278015539425495,0.6380877631107844,0.6709375916527713,0.6583980002335761,0.6854010775633612,0.6499842423160695,0.6338924589132062,0.5890448259038152,0.7056368289158075,0.6792243189723599,0.6808044046929699,0.6934987410603108,0.6805945972350036,0.6816910877733541,0.7775163094733047,0.7016312897855563,0.7094351035409235,0.7026300798105861,0.731990962530894,0.7562677488778407,0.6754324002251064,0.7318157817676987,0.7127326029891409,0.7089865041800102,0.721123001657773,0.6884065348413637,0.7556935480187148,0.6155878794547901,0.6007377117937828,0.547018542578966,0.6469061581919342,0.5451669075135885,0.5347323778224935,0.7290012744474543,0.584936402063911,0.5685959753882126,0.5861108105854105,0.7042790618333105,0.6571686237589583,0.6489975049908526,0.681310708609259,0.6138373228797831,0.6780716594118912,0.789227777546144,0.6654510727750149,0.6460784551112857,0.666088583753802,0.5616365313505898,0.5802736086500284,0.6843159821866592,0.6232602441326701,0.661026645420051,0.4964285623897081,0.565796226000491,0.6360786899713157,0.5568252467586841,0.680154673709918,1.0,0.5920268738406929,0.5941307298854881,0.6210699263757082,0.4682680152344093,0.5458916461692699,0.5776409543717995,0.5719435740886187,0.6371279380895432,0.42245368683533097,0.47171719756919106,0.5155122391832199],[0.7182306842287359,0.7400903845380263,0.7360571415882591,0.77599025397799,0.7860745783243007,0.8218424109077425,0.7726247865769016,0.8025844843509408,0.7592501902732971,0.7652231103006513,0.7654562880181346,0.7543133784244425,0.8506707243911783,0.7829851580100184,0.8037514425526584,0.7923424498472178,0.7770189890512287,0.8238584324171094,0.8359412138807487,0.8235454816042802,0.8901470936846942,0.8860350368133691,0.894355162133078,0.8062062996272346,0.8352256651412157,0.8862032062660584,0.7999674388656988,0.8674923969035201,0.8101324718905638,0.8266496544138596,0.7951341872156692,0.8176902102438823,0.8380921227335827,0.8004401754433138,0.7788160439822354,0.8244618067632917,0.6635331410388273,0.6747728834350369,0.705726804453847,0.6423784420355689,0.6606045077416544,0.6817754239377714,0.6501670008769346,0.6517813734172371,0.6651651064763879,0.6596327032883714,0.637215249171698,0.7798037301059061,0.8046756467426881,0.8026490673230733,0.7858595433613766,0.797331393435743,0.7149016358285732,0.7432796984446572,0.6915587674686136,0.7610229070437231,0.5778927610728334,0.5577368548373177,0.5732515293803612,0.5582968428918128,0.5960730348795589,0.47440545978862325,0.565097568775089,0.5816188723067879,0.5482756667036301,0.5735920410588007,0.5920268738406929,1.0000000000000009,0.8543844980659123,0.9265194599269126,0.615330127443142,0.635911830264169,0.65277467131254,0.5577272895062186,0.5510941370452695,0.4597465733894468,0.5203324033522321,0.42652616735556925],[0.7149179692816487,0.7007120320665734,0.7340789285006114,0.7641790529603835,0.7685243400358273,0.8070290459592773,0.763329325029893,0.8072397613572295,0.7431771714614055,0.7435135107511851,0.7941687031082111,0.7711443308264871,0.8162554323365769,0.7568202708577614,0.8094251342910224,0.7796654581537034,0.7751163335516833,0.7921938780317084,0.802176836084031,0.8313946633796522,0.8118563596804491,0.8577004715919798,0.8272637245914157,0.8055499897164496,0.8442053321809921,0.8304764509314608,0.8309101703508743,0.8009446795374334,0.8157709654413641,0.8102437066585104,0.7893586557904472,0.8266350136682679,0.7911705280212155,0.8244383858203751,0.8100472317969228,0.8075147628156036,0.6616845246715062,0.6895054024929896,0.7302495615995468,0.6366867451146043,0.6234105771584092,0.6811923932172714,0.6874724742666949,0.6803837771192421,0.7270203963911603,0.7112958157617688,0.6633503054059371,0.785833738474457,0.7877294784311422,0.779804691951606,0.752555269040512,0.8015349360112649,0.7163227518582458,0.7487331613071337,0.6887932797775996,0.71651594432681,0.6216671356594774,0.6104629010994627,0.6058973418661862,0.5264863110684355,0.5694336724361255,0.5187795628923851,0.5648155240191465,0.5740657749771468,0.5886100825700136,0.63130602160735,0.5941307298854881,0.8543844980659123,1.0000000000000002,0.8632660143557748,0.5843287734782883,0.6760744887782023,0.7085722321983543,0.5673647364770587,0.58225999213996,0.46173776288711665,0.5966114040663149,0.4831774911279333],[0.7011503274193405,0.7212411519918394,0.701764080597473,0.8100446121881348,0.8115004321733305,0.8332741629012783,0.7859495204936213,0.8205017015470463,0.8130328896804496,0.7627238688910263,0.8088880409394315,0.7752908808524922,0.8663062710210503,0.8174194307746128,0.8119198970945957,0.8077174180736153,0.7787705283430754,0.812253717754853,0.8666111035813802,0.8431518162331202,0.8369618869605826,0.909861649128771,0.8616985292753641,0.8177371628276047,0.888103892529785,0.8886255134554546,0.8774947702893058,0.8239520132214673,0.8585627182681363,0.8366176982738149,0.8519435536324814,0.8398065658509574,0.827425459335561,0.8518895300840028,0.8388327350297369,0.8362171140211136,0.6736878781830009,0.706624083808571,0.7448049797537865,0.6663304362825682,0.6716987954194655,0.6769552790883075,0.7092236635121151,0.7103998318222333,0.706351544759427,0.695286608662728,0.6730462051365677,0.7900758057216353,0.7965675485219539,0.8028363278091981,0.7609416352394458,0.7877367128949453,0.7303555684870081,0.7506192919285248,0.7547897189552082,0.8047442741397278,0.6028817241261571,0.6227821010742755,0.6090745300072482,0.5356256092364599,0.5717156263263413,0.5026084695404669,0.6069604624833108,0.6395356044579545,0.5898946486081685,0.624698053454259,0.6210699263757082,0.9265194599269126,0.8632660143557748,0.9999999999999998,0.5931755649880109,0.6281930100082365,0.6911640438459199,0.5756060189450222,0.5537231822066395,0.5147989853374642,0.5511587050622464,0.46505433154722836],[0.7585174928971744,0.6360330313399334,0.7875971532544769,0.6035101516233443,0.6507588781341911,0.616280136344748,0.6424722973751843,0.5608429261226003,0.5727036462955658,0.6331738382036386,0.5859227934895108,0.7031942345311699,0.5970057043709739,0.6133933169369149,0.5858993383989359,0.6009516629326114,0.5635026412113227,0.6771893512947733,0.6573107591974999,0.6338598842239827,0.6829548933690116,0.6409520821618704,0.6577582004690821,0.6567270119440112,0.64919317937346,0.6600962742297154,0.637007210389663,0.6701357946351472,0.6348594167402615,0.7658221608848387,0.6558426263396809,0.7721338862871541,0.6783113479131091,0.6217941954045461,0.6202910535078687,0.6329787067931107,0.5058679148315354,0.5408699273956497,0.4921079490542142,0.47718618832417214,0.4457252419398565,0.48746686504866243,0.5029785455883641,0.5050003319440253,0.5246015125148122,0.43441913941159094,0.4671245762493237,0.8327215800193806,0.6882965259123166,0.7089068218264567,0.7799663090741475,0.7763349626306674,0.6128773437330148,0.6733351349891099,0.608505028394762,0.5912014882744141,0.4495491367093256,0.469554709597985,0.4659992719464629,0.4993355085226299,0.4544026326156223,0.32048233029982337,0.41035066510221996,0.4415754044722648,0.4762441331475812,0.42752748178947997,0.4682680152344093,0.615330127443142,0.5843287734782883,0.5931755649880109,1.0,0.42742891269669114,0.5041501059693789,0.5668023266432408,0.4500603654409216,0.3639377797495392,0.43438197143925017,0.37854297989305613],[0.5194368372882064,0.5855482113809707,0.5065685020242652,0.6252964424623858,0.6603949240570008,0.6722088403732227,0.6346492611238652,0.7036507488178103,0.6171391832463482,0.5985811137686603,0.7148465292531025,0.6580309675518796,0.6547597154873522,0.6571365142122736,0.6914892108313639,0.6336229348211185,0.665780328894437,0.6671197840565062,0.6348302485075679,0.7400302010786656,0.6628334052859399,0.690680401158619,0.6668165879293904,0.6939102124957219,0.6712099522605237,0.6675136680790624,0.6685066255845173,0.6767071081437606,0.6395655072452571,0.6286398494496379,0.6490728949243979,0.6643942128575049,0.651311274237093,0.6746364925793663,0.6444642641304347,0.6858601948974349,0.6297620734133769,0.6008987200934277,0.6487375904545478,0.6090270243951541,0.5214274974537322,0.5124278082168551,0.5589943567673399,0.5798457988050982,0.5971109402217789,0.6335496799567552,0.5468504140438712,0.5864916958538953,0.6313638229419569,0.5884778552063111,0.5897147409560628,0.6362478162977425,0.6114486415609531,0.6601864131999658,0.5937477355035858,0.5916962064527018,0.5588189186044208,0.5779536138650357,0.512678612376624,0.4567462783973255,0.5049969338069653,0.5649365758340013,0.5061292536059541,0.4684226987806126,0.5327942932318246,0.5504204395246236,0.5458916461692699,0.635911830264169,0.6760744887782023,0.6281930100082365,0.42742891269669114,0.9999999999999993,0.56360172900223,0.5010205470841398,0.44789816811304634,0.37982113271997875,0.6009333723020471,0.46240265760476784],[0.593910504727094,0.5346594765528749,0.575903808357236,0.6160712461734015,0.6756150116889315,0.6362917294814243,0.6425526422084057,0.6392238491090514,0.6302959753921784,0.6457003250260236,0.6236096844550005,0.6402826095032053,0.6591672086987197,0.6908602503253779,0.6587077826561142,0.6253195251985579,0.5793057353383707,0.6715325231612308,0.6960997820417947,0.7072017227989724,0.7168220979506612,0.7168005706269595,0.6786976616198384,0.6730237909540667,0.680315682770235,0.7280788041520361,0.7207143391513395,0.6962278129893332,0.7073812350675839,0.6964795815996176,0.6636047872733983,0.7026172430316245,0.6884315585358303,0.6900881175113505,0.6486000767184099,0.7359637542789745,0.5954903612609372,0.5609521960504044,0.5747563644924623,0.5733071595489133,0.4872297979295327,0.516765565885731,0.5909065838705909,0.5862412374238356,0.5746508102965264,0.6189118727050852,0.5329225625676225,0.6397394919330115,0.6494848825728881,0.6479047939742582,0.6303360088574905,0.6489809504808878,0.6095813057188572,0.689245884712394,0.6450879830700055,0.6573635470830581,0.5386412714995809,0.6196571396529942,0.5755720467496506,0.43939323117133483,0.5418146062198242,0.4996651697169881,0.553183255964034,0.5560688738221716,0.5299425450874706,0.5919092494755368,0.5776409543717995,0.65277467131254,0.7085722321983543,0.6911640438459199,0.5041501059693789,0.56360172900223,1.0000000000000013,0.6073350807944209,0.4407520982393709,0.4403348248852761,0.4572798761881778,0.48666065222143884],[0.6172480385701655,0.6044829269411237,0.5254832845285453,0.5726632537908087,0.6148252460744171,0.5907634977639978,0.6537888241980405,0.5996574972487484,0.6307428188072145,0.6199408095476941,0.6292713404133191,0.6556728463288688,0.5736172549144787,0.6344397513400956,0.6148166647310185,0.6315796871055097,0.543714272902786,0.6197881631563716,0.6534633570166754,0.6350416163713017,0.6370749601514186,0.6102656906043994,0.6163782535832786,0.6467012046380494,0.6357665444852841,0.6283898150420774,0.6448725191879943,0.6682003748917209,0.6102168606476324,0.6573753019151284,0.6685653936854178,0.6817538241962585,0.664201387824602,0.6099902682718736,0.6104378885160676,0.6698495067635323,0.6373351075486547,0.515342543136565,0.5634217496153318,0.6235668369637829,0.482245809340623,0.53531627722728,0.5350318058057651,0.6144688728540957,0.5703481591205017,0.5519367163005084,0.5184797636175893,0.6113175216789709,0.6076035221427927,0.5806889770447818,0.6063358148442144,0.6132992772101725,0.6159682669991396,0.7234533254752671,0.639836537463751,0.6293831174794776,0.6048237059593575,0.5777105195998595,0.6150158992326006,0.49769577354838157,0.5942559686416617,0.5770961245387114,0.5403869009113362,0.5064421074880414,0.5984193515491065,0.5098898091718693,0.5719435740886187,0.5577272895062186,0.5673647364770587,0.5756060189450222,0.5668023266432408,0.5010205470841398,0.6073350807944209,0.9999999999999989,0.41330669124971364,0.39918912691341313,0.5359292591348539,0.6509843762891354],[0.505793470373394,0.5422661785744302,0.5441094024880381,0.626797546992339,0.5930437677240836,0.6383463417179285,0.6242521206958,0.7121094253933744,0.6233105853951935,0.6545912059843554,0.6060279999035744,0.6266961606051656,0.5884365580088068,0.6723765835261666,0.637838907124993,0.6053339580846805,0.6955594552015341,0.7079313757070683,0.6166407708067264,0.6480228170085429,0.6359390656484872,0.640443722336612,0.6081033944014034,0.7363533360604435,0.6521915180168503,0.6201640730999267,0.6642636432382537,0.6339229120717693,0.684608651826323,0.6039338271407987,0.6382864696891669,0.6132643740631722,0.6357824317494071,0.6454174003308442,0.6607414712311038,0.6433788737204951,0.5488357106105881,0.5809690496880232,0.5554478085145065,0.608874920912583,0.5544030763717287,0.47938247075226437,0.700842134655446,0.6085451278079079,0.6389375113184246,0.5785636302007613,0.7958115584734393,0.6266792097966232,0.6407109628052566,0.6540630537243336,0.5818977913900334,0.6658363724007605,0.7479551887839058,0.548894755489594,0.5812657082211241,0.6157982637284916,0.4756206199175861,0.5301895772112228,0.4942067559483766,0.528934011650657,0.5256321825199973,0.3787302402785755,0.4846964977401811,0.5059039715244107,0.46947330348612926,0.5236467829524076,0.6371279380895432,0.5510941370452695,0.58225999213996,0.5537231822066395,0.4500603654409216,0.44789816811304634,0.4407520982393709,0.41330669124971364,1.0,0.3409849010062453,0.5337781299556245,0.3731848006008403],[0.40661123247968184,0.397484524694782,0.41254526941222325,0.5141844274604749,0.4763997772886229,0.4649540624636079,0.4596033256133803,0.4987466644571061,0.44979368826403376,0.47469260161728816,0.4570255059151568,0.48969017946160837,0.4993235188395535,0.4726081242225045,0.4795241292125758,0.43747895639912004,0.4406937480488283,0.5186266870782108,0.4986157066407575,0.511582954592706,0.4823019084933062,0.5267043545438436,0.4711946329917035,0.49064474704248967,0.5125029748291317,0.49827657411198256,0.5391397181497396,0.5114575661874889,0.5299978423265522,0.4894987868945331,0.5283159335234228,0.5369775146947696,0.48491859948292393,0.498659067692404,0.4988163057890084,0.5168474354528128,0.4832416587441269,0.4126424059687653,0.4124522688772099,0.3911421553021587,0.3211157373518939,0.428110837653581,0.5171309210269687,0.48677421923055,0.4283226172751735,0.3842625122656522,0.4304401981610659,0.48471530133970275,0.4885411610071199,0.43481069218913576,0.47376133721888664,0.47979395967983074,0.42792804531428763,0.4968559503782207,0.46324225226399207,0.4563552360037996,0.38482932442394935,0.4248826585976382,0.41287150998540645,0.303223436117098,0.33202434414136783,0.4356390398541545,0.44958600676025595,0.6735424184121774,0.4507006860715911,0.48677569102654616,0.42245368683533097,0.4597465733894468,0.46173776288711665,0.5147989853374642,0.3639377797495392,0.37982113271997875,0.4403348248852761,0.39918912691341313,0.3409849010062453,0.9999999999999997,0.39687231760441866,0.29013171329339216],[0.4667301270766129,0.480903920024901,0.46805189929065305,0.6109116624569698,0.5715745346650551,0.5723439589436856,0.553394552191149,0.6076949826763184,0.5798932879954944,0.5372046905399062,0.5807295967583077,0.5453301192000423,0.5333781663449901,0.5486733557494674,0.5660176041611868,0.5571836353540007,0.5720141628684261,0.551973096088098,0.5683881791994323,0.6176634382957638,0.5225560193871064,0.5943361988293333,0.5388092447658965,0.5998270341862502,0.5816161385928998,0.5587491013401227,0.6276171239191434,0.5554477314121686,0.6013218313529446,0.5633835358273744,0.608892235492615,0.6077579838686078,0.5783125775328928,0.5648398034230975,0.5731913680744001,0.5788799435877783,0.5005429273943119,0.49205090901521314,0.5351047565040823,0.5568367685452237,0.4697518570079403,0.450754619297556,0.6088431369533691,0.7102612784578998,0.5893555852550122,0.5216850981052052,0.5931663448258693,0.5439332571723048,0.5465100193283023,0.5639875866781627,0.5010969159740193,0.5448012064077629,0.5506254624272898,0.6041751028312191,0.5564144841396886,0.5576745652548604,0.47275825966885743,0.45088871675642384,0.4444639024732737,0.439949440909504,0.43491962647092675,0.37141132281306055,0.4718116333819453,0.4519481975301507,0.7055580858051258,0.47491797188157503,0.47171719756919106,0.5203324033522321,0.5966114040663149,0.5511587050622464,0.43438197143925017,0.6009333723020471,0.4572798761881778,0.5359292591348539,0.5337781299556245,0.39687231760441866,0.9999999999999999,0.386907810318884],[0.4175767562000418,0.490108646535964,0.3729422697022994,0.4394196739304305,0.49136435866748773,0.49799485746622685,0.5446713300993606,0.5099951764364589,0.4953002631191996,0.5016146479817221,0.5300534766564838,0.5608522979072923,0.47528019063894267,0.521481641938222,0.5158482121360519,0.5481285256330931,0.44675830592918436,0.4914839986922477,0.5230683147981284,0.5464477156640747,0.468040245184514,0.5174974974198253,0.4700671380367571,0.5299384269464126,0.5404773479059002,0.4890124776057356,0.5271749597576126,0.533472713771685,0.5081356018633215,0.5011262123348473,0.5502121273964361,0.5543405051666154,0.5250270264464894,0.5502722817110259,0.5400533264837809,0.5667693300008977,0.532696871654138,0.45611994111041504,0.5456972488887145,0.5455258332710372,0.42591508743316375,0.4342043434085019,0.44513310454338284,0.43570821627430906,0.511238389153862,0.4236786861226648,0.5138723705627102,0.4488028609308835,0.442352539259363,0.4604348885779708,0.4123963328960446,0.4858732037934559,0.5107307398969859,0.5174309807613895,0.5463639926155623,0.4598736881390878,0.5458342957582282,0.4990031001972586,0.4613430568952993,0.47238166786626024,0.47885903065785296,0.4607947929747471,0.42419684479411623,0.448782777269129,0.555714698417248,0.612882982572097,0.5155122391832199,0.42652616735556925,0.4831774911279333,0.46505433154722836,0.37854297989305613,0.46240265760476784,0.48666065222143884,0.6509843762891354,0.3731848006008403,0.29013171329339216,0.386907810318884,1.0]],\"type\":\"heatmap\",\"xaxis\":\"x\",\"yaxis\":\"y\",\"hovertemplate\":\"x: %{x}<br>y: %{y}<br>Similarity Score: %{z}<extra></extra>\"}],                        {\"template\":{\"data\":{\"bar\":[{\"error_x\":{\"color\":\"#2a3f5f\"},\"error_y\":{\"color\":\"#2a3f5f\"},\"marker\":{\"line\":{\"color\":\"#E5ECF6\",\"width\":0.5},\"pattern\":{\"fillmode\":\"overlay\",\"size\":10,\"solidity\":0.2}},\"type\":\"bar\"}],\"barpolar\":[{\"marker\":{\"line\":{\"color\":\"#E5ECF6\",\"width\":0.5},\"pattern\":{\"fillmode\":\"overlay\",\"size\":10,\"solidity\":0.2}},\"type\":\"barpolar\"}],\"carpet\":[{\"aaxis\":{\"endlinecolor\":\"#2a3f5f\",\"gridcolor\":\"white\",\"linecolor\":\"white\",\"minorgridcolor\":\"white\",\"startlinecolor\":\"#2a3f5f\"},\"baxis\":{\"endlinecolor\":\"#2a3f5f\",\"gridcolor\":\"white\",\"linecolor\":\"white\",\"minorgridcolor\":\"white\",\"startlinecolor\":\"#2a3f5f\"},\"type\":\"carpet\"}],\"choropleth\":[{\"colorbar\":{\"outlinewidth\":0,\"ticks\":\"\"},\"type\":\"choropleth\"}],\"contour\":[{\"colorbar\":{\"outlinewidth\":0,\"ticks\":\"\"},\"colorscale\":[[0.0,\"#0d0887\"],[0.1111111111111111,\"#46039f\"],[0.2222222222222222,\"#7201a8\"],[0.3333333333333333,\"#9c179e\"],[0.4444444444444444,\"#bd3786\"],[0.5555555555555556,\"#d8576b\"],[0.6666666666666666,\"#ed7953\"],[0.7777777777777778,\"#fb9f3a\"],[0.8888888888888888,\"#fdca26\"],[1.0,\"#f0f921\"]],\"type\":\"contour\"}],\"contourcarpet\":[{\"colorbar\":{\"outlinewidth\":0,\"ticks\":\"\"},\"type\":\"contourcarpet\"}],\"heatmap\":[{\"colorbar\":{\"outlinewidth\":0,\"ticks\":\"\"},\"colorscale\":[[0.0,\"#0d0887\"],[0.1111111111111111,\"#46039f\"],[0.2222222222222222,\"#7201a8\"],[0.3333333333333333,\"#9c179e\"],[0.4444444444444444,\"#bd3786\"],[0.5555555555555556,\"#d8576b\"],[0.6666666666666666,\"#ed7953\"],[0.7777777777777778,\"#fb9f3a\"],[0.8888888888888888,\"#fdca26\"],[1.0,\"#f0f921\"]],\"type\":\"heatmap\"}],\"heatmapgl\":[{\"colorbar\":{\"outlinewidth\":0,\"ticks\":\"\"},\"colorscale\":[[0.0,\"#0d0887\"],[0.1111111111111111,\"#46039f\"],[0.2222222222222222,\"#7201a8\"],[0.3333333333333333,\"#9c179e\"],[0.4444444444444444,\"#bd3786\"],[0.5555555555555556,\"#d8576b\"],[0.6666666666666666,\"#ed7953\"],[0.7777777777777778,\"#fb9f3a\"],[0.8888888888888888,\"#fdca26\"],[1.0,\"#f0f921\"]],\"type\":\"heatmapgl\"}],\"histogram\":[{\"marker\":{\"pattern\":{\"fillmode\":\"overlay\",\"size\":10,\"solidity\":0.2}},\"type\":\"histogram\"}],\"histogram2d\":[{\"colorbar\":{\"outlinewidth\":0,\"ticks\":\"\"},\"colorscale\":[[0.0,\"#0d0887\"],[0.1111111111111111,\"#46039f\"],[0.2222222222222222,\"#7201a8\"],[0.3333333333333333,\"#9c179e\"],[0.4444444444444444,\"#bd3786\"],[0.5555555555555556,\"#d8576b\"],[0.6666666666666666,\"#ed7953\"],[0.7777777777777778,\"#fb9f3a\"],[0.8888888888888888,\"#fdca26\"],[1.0,\"#f0f921\"]],\"type\":\"histogram2d\"}],\"histogram2dcontour\":[{\"colorbar\":{\"outlinewidth\":0,\"ticks\":\"\"},\"colorscale\":[[0.0,\"#0d0887\"],[0.1111111111111111,\"#46039f\"],[0.2222222222222222,\"#7201a8\"],[0.3333333333333333,\"#9c179e\"],[0.4444444444444444,\"#bd3786\"],[0.5555555555555556,\"#d8576b\"],[0.6666666666666666,\"#ed7953\"],[0.7777777777777778,\"#fb9f3a\"],[0.8888888888888888,\"#fdca26\"],[1.0,\"#f0f921\"]],\"type\":\"histogram2dcontour\"}],\"mesh3d\":[{\"colorbar\":{\"outlinewidth\":0,\"ticks\":\"\"},\"type\":\"mesh3d\"}],\"parcoords\":[{\"line\":{\"colorbar\":{\"outlinewidth\":0,\"ticks\":\"\"}},\"type\":\"parcoords\"}],\"pie\":[{\"automargin\":true,\"type\":\"pie\"}],\"scatter\":[{\"marker\":{\"colorbar\":{\"outlinewidth\":0,\"ticks\":\"\"}},\"type\":\"scatter\"}],\"scatter3d\":[{\"line\":{\"colorbar\":{\"outlinewidth\":0,\"ticks\":\"\"}},\"marker\":{\"colorbar\":{\"outlinewidth\":0,\"ticks\":\"\"}},\"type\":\"scatter3d\"}],\"scattercarpet\":[{\"marker\":{\"colorbar\":{\"outlinewidth\":0,\"ticks\":\"\"}},\"type\":\"scattercarpet\"}],\"scattergeo\":[{\"marker\":{\"colorbar\":{\"outlinewidth\":0,\"ticks\":\"\"}},\"type\":\"scattergeo\"}],\"scattergl\":[{\"marker\":{\"colorbar\":{\"outlinewidth\":0,\"ticks\":\"\"}},\"type\":\"scattergl\"}],\"scattermapbox\":[{\"marker\":{\"colorbar\":{\"outlinewidth\":0,\"ticks\":\"\"}},\"type\":\"scattermapbox\"}],\"scatterpolar\":[{\"marker\":{\"colorbar\":{\"outlinewidth\":0,\"ticks\":\"\"}},\"type\":\"scatterpolar\"}],\"scatterpolargl\":[{\"marker\":{\"colorbar\":{\"outlinewidth\":0,\"ticks\":\"\"}},\"type\":\"scatterpolargl\"}],\"scatterternary\":[{\"marker\":{\"colorbar\":{\"outlinewidth\":0,\"ticks\":\"\"}},\"type\":\"scatterternary\"}],\"surface\":[{\"colorbar\":{\"outlinewidth\":0,\"ticks\":\"\"},\"colorscale\":[[0.0,\"#0d0887\"],[0.1111111111111111,\"#46039f\"],[0.2222222222222222,\"#7201a8\"],[0.3333333333333333,\"#9c179e\"],[0.4444444444444444,\"#bd3786\"],[0.5555555555555556,\"#d8576b\"],[0.6666666666666666,\"#ed7953\"],[0.7777777777777778,\"#fb9f3a\"],[0.8888888888888888,\"#fdca26\"],[1.0,\"#f0f921\"]],\"type\":\"surface\"}],\"table\":[{\"cells\":{\"fill\":{\"color\":\"#EBF0F8\"},\"line\":{\"color\":\"white\"}},\"header\":{\"fill\":{\"color\":\"#C8D4E3\"},\"line\":{\"color\":\"white\"}},\"type\":\"table\"}]},\"layout\":{\"annotationdefaults\":{\"arrowcolor\":\"#2a3f5f\",\"arrowhead\":0,\"arrowwidth\":1},\"autotypenumbers\":\"strict\",\"coloraxis\":{\"colorbar\":{\"outlinewidth\":0,\"ticks\":\"\"}},\"colorscale\":{\"diverging\":[[0,\"#8e0152\"],[0.1,\"#c51b7d\"],[0.2,\"#de77ae\"],[0.3,\"#f1b6da\"],[0.4,\"#fde0ef\"],[0.5,\"#f7f7f7\"],[0.6,\"#e6f5d0\"],[0.7,\"#b8e186\"],[0.8,\"#7fbc41\"],[0.9,\"#4d9221\"],[1,\"#276419\"]],\"sequential\":[[0.0,\"#0d0887\"],[0.1111111111111111,\"#46039f\"],[0.2222222222222222,\"#7201a8\"],[0.3333333333333333,\"#9c179e\"],[0.4444444444444444,\"#bd3786\"],[0.5555555555555556,\"#d8576b\"],[0.6666666666666666,\"#ed7953\"],[0.7777777777777778,\"#fb9f3a\"],[0.8888888888888888,\"#fdca26\"],[1.0,\"#f0f921\"]],\"sequentialminus\":[[0.0,\"#0d0887\"],[0.1111111111111111,\"#46039f\"],[0.2222222222222222,\"#7201a8\"],[0.3333333333333333,\"#9c179e\"],[0.4444444444444444,\"#bd3786\"],[0.5555555555555556,\"#d8576b\"],[0.6666666666666666,\"#ed7953\"],[0.7777777777777778,\"#fb9f3a\"],[0.8888888888888888,\"#fdca26\"],[1.0,\"#f0f921\"]]},\"colorway\":[\"#636efa\",\"#EF553B\",\"#00cc96\",\"#ab63fa\",\"#FFA15A\",\"#19d3f3\",\"#FF6692\",\"#B6E880\",\"#FF97FF\",\"#FECB52\"],\"font\":{\"color\":\"#2a3f5f\"},\"geo\":{\"bgcolor\":\"white\",\"lakecolor\":\"white\",\"landcolor\":\"#E5ECF6\",\"showlakes\":true,\"showland\":true,\"subunitcolor\":\"white\"},\"hoverlabel\":{\"align\":\"left\"},\"hovermode\":\"closest\",\"mapbox\":{\"style\":\"light\"},\"paper_bgcolor\":\"white\",\"plot_bgcolor\":\"#E5ECF6\",\"polar\":{\"angularaxis\":{\"gridcolor\":\"white\",\"linecolor\":\"white\",\"ticks\":\"\"},\"bgcolor\":\"#E5ECF6\",\"radialaxis\":{\"gridcolor\":\"white\",\"linecolor\":\"white\",\"ticks\":\"\"}},\"scene\":{\"xaxis\":{\"backgroundcolor\":\"#E5ECF6\",\"gridcolor\":\"white\",\"gridwidth\":2,\"linecolor\":\"white\",\"showbackground\":true,\"ticks\":\"\",\"zerolinecolor\":\"white\"},\"yaxis\":{\"backgroundcolor\":\"#E5ECF6\",\"gridcolor\":\"white\",\"gridwidth\":2,\"linecolor\":\"white\",\"showbackground\":true,\"ticks\":\"\",\"zerolinecolor\":\"white\"},\"zaxis\":{\"backgroundcolor\":\"#E5ECF6\",\"gridcolor\":\"white\",\"gridwidth\":2,\"linecolor\":\"white\",\"showbackground\":true,\"ticks\":\"\",\"zerolinecolor\":\"white\"}},\"shapedefaults\":{\"line\":{\"color\":\"#2a3f5f\"}},\"ternary\":{\"aaxis\":{\"gridcolor\":\"white\",\"linecolor\":\"white\",\"ticks\":\"\"},\"baxis\":{\"gridcolor\":\"white\",\"linecolor\":\"white\",\"ticks\":\"\"},\"bgcolor\":\"#E5ECF6\",\"caxis\":{\"gridcolor\":\"white\",\"linecolor\":\"white\",\"ticks\":\"\"}},\"title\":{\"x\":0.05},\"xaxis\":{\"automargin\":true,\"gridcolor\":\"white\",\"linecolor\":\"white\",\"ticks\":\"\",\"title\":{\"standoff\":15},\"zerolinecolor\":\"white\",\"zerolinewidth\":2},\"yaxis\":{\"automargin\":true,\"gridcolor\":\"white\",\"linecolor\":\"white\",\"ticks\":\"\",\"title\":{\"standoff\":15},\"zerolinecolor\":\"white\",\"zerolinewidth\":2}}},\"xaxis\":{\"anchor\":\"y\",\"domain\":[0.0,1.0],\"scaleanchor\":\"y\",\"constrain\":\"domain\"},\"yaxis\":{\"anchor\":\"x\",\"domain\":[0.0,1.0],\"autorange\":\"reversed\",\"constrain\":\"domain\"},\"coloraxis\":{\"colorbar\":{\"title\":{\"text\":\"Similarity Score\"}},\"colorscale\":[[0.0,\"rgb(247,252,240)\"],[0.125,\"rgb(224,243,219)\"],[0.25,\"rgb(204,235,197)\"],[0.375,\"rgb(168,221,181)\"],[0.5,\"rgb(123,204,196)\"],[0.625,\"rgb(78,179,211)\"],[0.75,\"rgb(43,140,190)\"],[0.875,\"rgb(8,104,172)\"],[1.0,\"rgb(8,64,129)\"]]},\"margin\":{\"t\":60},\"title\":{\"font\":{\"size\":22,\"color\":\"Black\"},\"text\":\"<b>Similarity Matrix\",\"y\":0.95,\"x\":0.55,\"xanchor\":\"center\",\"yanchor\":\"top\"},\"hoverlabel\":{\"font\":{\"size\":16,\"family\":\"Rockwell\"},\"bgcolor\":\"white\"},\"width\":1000,\"height\":1000,\"showlegend\":true,\"legend\":{\"title\":{\"text\":\"Trend\"}}},                        {\"responsive\": true}                    ).then(function(){\n",
              "                            \n",
              "var gd = document.getElementById('c6f54b2c-884e-42e2-8362-89d9bf63e114');\n",
              "var x = new MutationObserver(function (mutations, observer) {{\n",
              "        var display = window.getComputedStyle(gd).display;\n",
              "        if (!display || display === 'none') {{\n",
              "            console.log([gd, 'removed!']);\n",
              "            Plotly.purge(gd);\n",
              "            observer.disconnect();\n",
              "        }}\n",
              "}});\n",
              "\n",
              "// Listen for the removal of the full notebook cells\n",
              "var notebookContainer = gd.closest('#notebook-container');\n",
              "if (notebookContainer) {{\n",
              "    x.observe(notebookContainer, {childList: true});\n",
              "}}\n",
              "\n",
              "// Listen for the clearing of the current output cell\n",
              "var outputEl = gd.closest('.output');\n",
              "if (outputEl) {{\n",
              "    x.observe(outputEl, {childList: true});\n",
              "}}\n",
              "\n",
              "                        })                };                            </script>        </div>\n",
              "</body>\n",
              "</html>"
            ]
          },
          "metadata": {}
        }
      ]
    },
    {
      "cell_type": "markdown",
      "source": [
        "#### **Save Similarity Matrix**"
      ],
      "metadata": {
        "id": "CF3QJy6epmQY"
      }
    },
    {
      "cell_type": "code",
      "source": [
        "# Set the path to save \n",
        "path = '/content/Topic-Modeling-Reclame-Aqui/results/similarity_matrix/'\n",
        "\n",
        "# Use makedirs() to create a new directory if it does not exists\n",
        "if not os.path.exists(path):\n",
        "  os.makedirs(path)\n",
        "\n",
        "\n",
        "fig.write_image(path + \"sm_preprocessed_lemma.png\", format=\"png\")"
      ],
      "metadata": {
        "id": "VQOAZurPprA4"
      },
      "execution_count": 284,
      "outputs": []
    },
    {
      "cell_type": "markdown",
      "source": [
        "[Github link](https://github.com/punkmic/Topic-Modeling-Reclame-Aqui/blob/master/results/similarity_matrix/sm_preprocessed_lemma.png?raw=true)"
      ],
      "metadata": {
        "id": "y1pa1kWApYgp"
      }
    },
    {
      "cell_type": "markdown",
      "source": [
        "### **Visualize Term Score Decline**\n",
        "\n",
        "Topics are represented by a number of words starting with the best representative word. Each word is represented by a c-TF-IDF score. The higher the score, the more representative a word to the topic is. Since the topic words are sorted by their c-TF-IDF score, the scores slowly decline with each word that is added."
      ],
      "metadata": {
        "id": "vd41xsx7Xhgj"
      }
    },
    {
      "cell_type": "code",
      "source": [
        "fig = topic_model.visualize_term_rank()\n",
        "fig"
      ],
      "metadata": {
        "id": "Rw1wXTEtX967",
        "outputId": "7c7f0bdb-ee09-4c4c-c9aa-d34db7c7d89b",
        "colab": {
          "base_uri": "https://localhost:8080/",
          "height": 537
        }
      },
      "execution_count": 285,
      "outputs": [
        {
          "output_type": "display_data",
          "data": {
            "text/html": [
              "<html>\n",
              "<head><meta charset=\"utf-8\" /></head>\n",
              "<body>\n",
              "    <div>            <script src=\"https://cdnjs.cloudflare.com/ajax/libs/mathjax/2.7.5/MathJax.js?config=TeX-AMS-MML_SVG\"></script><script type=\"text/javascript\">if (window.MathJax) {MathJax.Hub.Config({SVG: {font: \"STIX-Web\"}});}</script>                <script type=\"text/javascript\">window.PlotlyConfig = {MathJaxConfig: 'local'};</script>\n",
              "        <script src=\"https://cdn.plot.ly/plotly-2.8.3.min.js\"></script>                <div id=\"3e104b39-5192-48a2-bc7d-ba2e601cb901\" class=\"plotly-graph-div\" style=\"height:500px; width:800px;\"></div>            <script type=\"text/javascript\">                                    window.PLOTLYENV=window.PLOTLYENV || {};                                    if (document.getElementById(\"3e104b39-5192-48a2-bc7d-ba2e601cb901\")) {                    Plotly.newPlot(                        \"3e104b39-5192-48a2-bc7d-ba2e601cb901\",                        [{\"hovertext\":\"<b>Topic -1</b>:em_de_produto_pedido_compra_entreg\",\"line\":{\"color\":\"black\",\"width\":1.5},\"mode\":\"lines+lines\",\"name\":\"\",\"opacity\":0.1,\"x\":[1,2,3,4,5,6,7,8,9,10],\"y\":[0.011111254873971363,0.010928364618502483,0.010245767601945833,0.009430054992672694,0.009393562436669585,0.008962730249469577,0.00880408051800178,0.00844719265266995,0.008052722650437025,0.007814059507133153],\"type\":\"scatter\"},{\"hovertext\":\"<b>Topic 0</b>:cart\\u00e3o_cr\\u00e9dito_assinatura_cobran\\u00e7a_\",\"line\":{\"color\":\"black\",\"width\":1.5},\"mode\":\"lines+lines\",\"name\":\"\",\"opacity\":0.1,\"x\":[1,2,3,4,5,6,7,8,9,10],\"y\":[0.05120070660298791,0.025623229480502184,0.02239141254384093,0.020682347754210715,0.020351690186911284,0.017780531022724953,0.01714797251486811,0.016577189904341063,0.015737606009918314,0.012927006137599142],\"type\":\"scatter\"},{\"hovertext\":\"<b>Topic 1</b>:bahia_casa_de_transportadora_em_ent\",\"line\":{\"color\":\"black\",\"width\":1.5},\"mode\":\"lines+lines\",\"name\":\"\",\"opacity\":0.1,\"x\":[1,2,3,4,5,6,7,8,9,10],\"y\":[0.04977740844796034,0.04132330120882594,0.012169546260277548,0.012125529130385029,0.012114419457800394,0.011999970414980847,0.01121422644114536,0.009431353692120524,0.009107062592523885,0.008886157349546519],\"type\":\"scatter\"},{\"hovertext\":\"<b>Topic 2</b>:mercado_livre_vendedor_produto_fret\",\"line\":{\"color\":\"black\",\"width\":1.5},\"mode\":\"lines+lines\",\"name\":\"\",\"opacity\":0.1,\"x\":[1,2,3,4,5,6,7,8,9,10],\"y\":[0.03578413416367637,0.03472769652421172,0.015264504345616575,0.012919032728996827,0.011788254212808505,0.011235971461477137,0.010746330084303759,0.010167815293677426,0.009902133538759144,0.009010365773159303],\"type\":\"scatter\"},{\"hovertext\":\"<b>Topic 3</b>:celular_aparelho_smartphone_compr_e\",\"line\":{\"color\":\"black\",\"width\":1.5},\"mode\":\"lines+lines\",\"name\":\"\",\"opacity\":0.1,\"x\":[1,2,3,4,5,6,7,8,9,10],\"y\":[0.04700949218362462,0.020416099333870678,0.013430403848744344,0.012357999131455357,0.011558250798827926,0.01108292489175897,0.010693806932021061,0.010570140315840746,0.010216006027293249,0.009155821734513798],\"type\":\"scatter\"},{\"hovertext\":\"<b>Topic 4</b>:pedido_endere\\u00e7o_correio_rastreio_c\\u00f3\",\"line\":{\"color\":\"black\",\"width\":1.5},\"mode\":\"lines+lines\",\"name\":\"\",\"opacity\":0.1,\"x\":[1,2,3,4,5,6,7,8,9,10],\"y\":[0.03243703057395294,0.030480466014533282,0.026654430312253657,0.022715524492724765,0.021756213204841324,0.020270708603022044,0.01938585956559182,0.018221416860910642,0.017597316313568697,0.01654180712072826],\"type\":\"scatter\"},{\"hovertext\":\"<b>Topic 5</b>:cancelamento_cancelar_pedido_compra\",\"line\":{\"color\":\"black\",\"width\":1.5},\"mode\":\"lines+lines\",\"name\":\"\",\"opacity\":0.1,\"x\":[1,2,3,4,5,6,7,8,9,10],\"y\":[0.040515458590835926,0.03244683964541898,0.019970345460427627,0.01404191896410562,0.013453576126247946,0.011804499971311062,0.011402383389283533,0.010561900024989197,0.010154160157563923,0.010139486423611257],\"type\":\"scatter\"},{\"hovertext\":\"<b>Topic 6</b>:whatsapp_contato_por_atendimento_en\",\"line\":{\"color\":\"black\",\"width\":1.5},\"mode\":\"lines+lines\",\"name\":\"\",\"opacity\":0.1,\"x\":[1,2,3,4,5,6,7,8,9,10],\"y\":[0.04379874868056701,0.01401272976663549,0.011555697252536887,0.010964674468235054,0.010942897804001896,0.01087124514877871,0.010675892447221539,0.010652605178015927,0.009884592341929887,0.009476320993060958],\"type\":\"scatter\"},{\"hovertext\":\"<b>Topic 7</b>:brasil_de_brasileiro_em_chegar_pedi\",\"line\":{\"color\":\"black\",\"width\":1.5},\"mode\":\"lines+lines\",\"name\":\"\",\"opacity\":0.1,\"x\":[1,2,3,4,5,6,7,8,9,10],\"y\":[0.044332017976404056,0.012946588623406304,0.012471926185933168,0.012281533384691571,0.00940420958141264,0.009033433634293982,0.008667838909187986,0.007945519000088986,0.007790564420626096,0.007209649661280991],\"type\":\"scatter\"},{\"hovertext\":\"<b>Topic 8</b>:amazon_cobran\\u00e7a_amazoncombr_de_assi\",\"line\":{\"color\":\"black\",\"width\":1.5},\"mode\":\"lines+lines\",\"name\":\"\",\"opacity\":0.1,\"x\":[1,2,3,4,5,6,7,8,9,10],\"y\":[0.03405479750274881,0.019977240758722405,0.01883640629045288,0.014679256074155532,0.012508699678346422,0.01154384573374585,0.011542753216713334,0.010558097910382144,0.009910613289395062,0.009587952616698186],\"type\":\"scatter\"},{\"hovertext\":\"<b>Topic 9</b>:roupa_cal\\u00e7a_vestido_camisa_vestir_d\",\"line\":{\"color\":\"black\",\"width\":1.5},\"mode\":\"lines+lines\",\"name\":\"\",\"opacity\":0.1,\"x\":[1,2,3,4,5,6,7,8,9,10],\"y\":[0.05418001483462411,0.04550431878428309,0.042145443550927496,0.020129067696257188,0.01786014885253862,0.017536507370127123,0.01683961657318023,0.015696180744734174,0.015409572430165379,0.014953999160790987],\"type\":\"scatter\"},{\"hovertext\":\"<b>Topic 10</b>:americana_americano_loja_de_em_sit\",\"line\":{\"color\":\"black\",\"width\":1.5},\"mode\":\"lines+lines\",\"name\":\"\",\"opacity\":0.1,\"x\":[1,2,3,4,5,6,7,8,9,10],\"y\":[0.0572791508947393,0.01990699040012532,0.017483213274216182,0.013707934448615249,0.012923739427279212,0.012521835439346062,0.012469620555267694,0.012423626626134525,0.012184241091109096,0.01082983532284205],\"type\":\"scatter\"},{\"hovertext\":\"<b>Topic 11</b>:conta_senha_acessar_acesso_email_t\",\"line\":{\"color\":\"black\",\"width\":1.5},\"mode\":\"lines+lines\",\"name\":\"\",\"opacity\":0.1,\"x\":[1,2,3,4,5,6,7,8,9,10],\"y\":[0.062001085215434064,0.04611749343944744,0.04063027620003075,0.040374690941236774,0.03935276881567524,0.02237092091008382,0.021689156833063477,0.018369559862620802,0.017615551362267848,0.016621106381433163],\"type\":\"scatter\"},{\"hovertext\":\"<b>Topic 12</b>:magazine_luizar_loja_parceiro_prod\",\"line\":{\"color\":\"black\",\"width\":1.5},\"mode\":\"lines+lines\",\"name\":\"\",\"opacity\":0.1,\"x\":[1,2,3,4,5,6,7,8,9,10],\"y\":[0.05266740712357017,0.041667497427174044,0.02017328973779438,0.014948019987835941,0.014212774621776024,0.01304615242921827,0.012729961566738227,0.011816850294898172,0.010347109870258702,0.00980531791914349],\"type\":\"scatter\"},{\"hovertext\":\"<b>Topic 13</b>:reembolso_valor_dinheiro_compra_re\",\"line\":{\"color\":\"black\",\"width\":1.5},\"mode\":\"lines+lines\",\"name\":\"\",\"opacity\":0.1,\"x\":[1,2,3,4,5,6,7,8,9,10],\"y\":[0.03115046465081827,0.026654968738951495,0.023782106915967285,0.02373623479066988,0.023035207605864166,0.021508896208104873,0.0195928479888025,0.018900184661336944,0.016060068528393888,0.015506790583122827],\"type\":\"scatter\"},{\"hovertext\":\"<b>Topic 14</b>:caixa_garrafa_embalagem_produto_li\",\"line\":{\"color\":\"black\",\"width\":1.5},\"mode\":\"lines+lines\",\"name\":\"\",\"opacity\":0.1,\"x\":[1,2,3,4,5,6,7,8,9,10],\"y\":[0.027112465317623725,0.021176779092557597,0.020894711711958152,0.020330217456395315,0.019369278032758033,0.016065744178922748,0.013907885935480748,0.013382187660523487,0.013007764276530763,0.011715320236917707],\"type\":\"scatter\"},{\"hovertext\":\"<b>Topic 15</b>:iphone_aparelho_carregador_celular\",\"line\":{\"color\":\"black\",\"width\":1.5},\"mode\":\"lines+lines\",\"name\":\"\",\"opacity\":0.1,\"x\":[1,2,3,4,5,6,7,8,9,10],\"y\":[0.06360598436142159,0.01940207316176571,0.013047811171683618,0.012251309295357731,0.01213999777336381,0.01199099988254949,0.01141093533371221,0.011359400241585826,0.01129421319076244,0.009911260654385898],\"type\":\"scatter\"},{\"hovertext\":\"<b>Topic 16</b>:jogo_lan\\u00e7amento_ragnarok_pr\\u00e9venda_\",\"line\":{\"color\":\"black\",\"width\":1.5},\"mode\":\"lines+lines\",\"name\":\"\",\"opacity\":0.1,\"x\":[1,2,3,4,5,6,7,8,9,10],\"y\":[0.09317855098913781,0.055392131191508265,0.03295984343012305,0.029395017885609692,0.01711062448537902,0.016692232964134766,0.01641382018675684,0.01502435254740326,0.014413686548594448,0.013627396658769662],\"type\":\"scatter\"},{\"hovertext\":\"<b>Topic 17</b>:geladeira_refrigerador_troca_magal\",\"line\":{\"color\":\"black\",\"width\":1.5},\"mode\":\"lines+lines\",\"name\":\"\",\"opacity\":0.1,\"x\":[1,2,3,4,5,6,7,8,9,10],\"y\":[0.09443828785965816,0.019661304559617603,0.014802839471603838,0.013926013251370998,0.013306996215611086,0.01225630524430191,0.0120481940474776,0.01179085648589158,0.010757827067361192,0.010522429687428851],\"type\":\"scatter\"},{\"hovertext\":\"<b>Topic 18</b>:entrega_prazo_data_chegar_atraso_p\",\"line\":{\"color\":\"black\",\"width\":1.5},\"mode\":\"lines+lines\",\"name\":\"\",\"opacity\":0.1,\"x\":[1,2,3,4,5,6,7,8,9,10],\"y\":[0.027805328839966635,0.026163406386225576,0.024792356050677145,0.016436866877573245,0.015457250529543085,0.014122241103372141,0.013525059720722345,0.013459995204974113,0.013404300258930182,0.011711275496117295],\"type\":\"scatter\"},{\"hovertext\":\"<b>Topic 19</b>:samsung_galaxy_celular_aparelho_em\",\"line\":{\"color\":\"black\",\"width\":1.5},\"mode\":\"lines+lines\",\"name\":\"\",\"opacity\":0.1,\"x\":[1,2,3,4,5,6,7,8,9,10],\"y\":[0.052593111297515115,0.03252467386073967,0.01608608198008524,0.015013241797787416,0.012839591843744908,0.012443224453154818,0.010704378238901913,0.010267549703193404,0.009289120666927286,0.009105889355397311],\"type\":\"scatter\"},{\"hovertext\":\"<b>Topic 20</b>:livro_gratuito_compr_frete_dois_de\",\"line\":{\"color\":\"black\",\"width\":1.5},\"mode\":\"lines+lines\",\"name\":\"\",\"opacity\":0.1,\"x\":[1,2,3,4,5,6,7,8,9,10],\"y\":[0.15993789296019165,0.013686084858413014,0.012617314343506813,0.011591301388409444,0.0110343285690007,0.010958973164993033,0.01082495032202715,0.010618651109182895,0.010544964228326363,0.01038374888711238],\"type\":\"scatter\"},{\"hovertext\":\"<b>Topic 21</b>:transportadora_entrega_express_emp\",\"line\":{\"color\":\"black\",\"width\":1.5},\"mode\":\"lines+lines\",\"name\":\"\",\"opacity\":0.1,\"x\":[1,2,3,4,5,6,7,8,9,10],\"y\":[0.03773520734245608,0.02260668838446733,0.021127683504779525,0.015656543964878363,0.015353578142550102,0.015246615951585198,0.014481850252816168,0.012798424381028777,0.012546311249694466,0.01181098689137679],\"type\":\"scatter\"},{\"hovertext\":\"<b>Topic 22</b>:t\\u00eanis_tenis_raquete_mizuno_wave_pr\",\"line\":{\"color\":\"black\",\"width\":1.5},\"mode\":\"lines+lines\",\"name\":\"\",\"opacity\":0.1,\"x\":[1,2,3,4,5,6,7,8,9,10],\"y\":[0.12422347818658222,0.02296887050651555,0.021005872814213417,0.020094329801676594,0.01662825481995177,0.01643410235496672,0.01613863777516293,0.014534982538939407,0.013865815061665083,0.012889888670767806],\"type\":\"scatter\"},{\"hovertext\":\"<b>Topic 23</b>:rob\\u00f4_aspirador_suporte_tentar_fala\",\"line\":{\"color\":\"black\",\"width\":1.5},\"mode\":\"lines+lines\",\"name\":\"\",\"opacity\":0.1,\"x\":[1,2,3,4,5,6,7,8,9,10],\"y\":[0.1120867355756502,0.026639394510828432,0.01961904667068806,0.018743296313392995,0.017360355372703137,0.015864519424373624,0.015647647252795913,0.01447515336351939,0.014397724264114044,0.013943403117884709],\"type\":\"scatter\"},{\"hovertext\":\"<b>Topic 24</b>:black_friday_promo\\u00e7\\u00e3o_desconto_mag\",\"line\":{\"color\":\"black\",\"width\":1.5},\"mode\":\"lines+lines\",\"name\":\"\",\"opacity\":0.1,\"x\":[1,2,3,4,5,6,7,8,9,10],\"y\":[0.048404397202525706,0.040456124834760666,0.026187150488838472,0.022155032765686256,0.021999783988202938,0.019722847472820864,0.015538962183683037,0.015096045002279629,0.01429136366490507,0.013178455475973362],\"type\":\"scatter\"},{\"hovertext\":\"<b>Topic 25</b>:prime_v\\u00eddeo_cupom_s\\u00e9rie_assistir_a\",\"line\":{\"color\":\"black\",\"width\":1.5},\"mode\":\"lines+lines\",\"name\":\"\",\"opacity\":0.1,\"x\":[1,2,3,4,5,6,7,8,9,10],\"y\":[0.10567338115896362,0.0664460732157427,0.060520642950810305,0.05577778716620046,0.051430231681775664,0.04911382851728766,0.04699421217511051,0.03808441346183222,0.033483864930118186,0.02904453900879761],\"type\":\"scatter\"},{\"hovertext\":\"<b>Topic 26</b>:cama_colch\\u00e3o_ch\\u00e3o_beb\\u00ea_conforto_do\",\"line\":{\"color\":\"black\",\"width\":1.5},\"mode\":\"lines+lines\",\"name\":\"\",\"opacity\":0.1,\"x\":[1,2,3,4,5,6,7,8,9,10],\"y\":[0.11620227137450906,0.02917746425791919,0.02886295004545822,0.027511772845465247,0.026903223612662185,0.025192486161102798,0.015975549802958327,0.015872626292041645,0.01568973004109528,0.014028236388934155],\"type\":\"scatter\"},{\"hovertext\":\"<b>Topic 27</b>:novembro_dezembro_entrega_outubro_\",\"line\":{\"color\":\"black\",\"width\":1.5},\"mode\":\"lines+lines\",\"name\":\"\",\"opacity\":0.1,\"x\":[1,2,3,4,5,6,7,8,9,10],\"y\":[0.08208350482588775,0.03896903494527535,0.0304354684932471,0.026776693701552595,0.02588480601024493,0.02521163138790371,0.02240292065209426,0.019463058468789294,0.01683110833648365,0.016612206032862033],\"type\":\"scatter\"},{\"hovertext\":\"<b>Topic 28</b>:curitiba_parado_rastreio_atualizar\",\"line\":{\"color\":\"black\",\"width\":1.5},\"mode\":\"lines+lines\",\"name\":\"\",\"opacity\":0.1,\"x\":[1,2,3,4,5,6,7,8,9,10],\"y\":[0.12515380897790995,0.06358419791738196,0.05866713241235251,0.048544673696259956,0.0421182125821515,0.041196582656032966,0.03737530838492293,0.035117436737755324,0.03418799454526265,0.033047580478851056],\"type\":\"scatter\"},{\"hovertext\":\"<b>Topic 29</b>:devolu\\u00e7\\u00e3o_postagem_reembolso_solic\",\"line\":{\"color\":\"black\",\"width\":1.5},\"mode\":\"lines+lines\",\"name\":\"\",\"opacity\":0.1,\"x\":[1,2,3,4,5,6,7,8,9,10],\"y\":[0.06643806503471553,0.04990819491572725,0.02372797791674257,0.02323600980148824,0.02241445144557634,0.018261306986664907,0.016336627481543197,0.015168335183022552,0.014832565875811006,0.014547448117449784],\"type\":\"scatter\"},{\"hovertext\":\"<b>Topic 30</b>:lavar_m\\u00e1quina_roupa_maquina_lavado\",\"line\":{\"color\":\"black\",\"width\":1.5},\"mode\":\"lines+lines\",\"name\":\"\",\"opacity\":0.1,\"x\":[1,2,3,4,5,6,7,8,9,10],\"y\":[0.08813032843761372,0.08217866639453097,0.03530276534780398,0.025640787196835584,0.018903590833897106,0.017507134110745406,0.014944992858589043,0.01462333054276025,0.012586608425221009,0.012558324806610562],\"type\":\"scatter\"},{\"hovertext\":\"<b>Topic 31</b>:americana_entrega_data_pedido_atra\",\"line\":{\"color\":\"black\",\"width\":1.5},\"mode\":\"lines+lines\",\"name\":\"\",\"opacity\":0.1,\"x\":[1,2,3,4,5,6,7,8,9,10],\"y\":[0.04423808718555447,0.029908505845647245,0.02080129643064445,0.01970455641067718,0.0193444436867196,0.01793140573121639,0.01385618531770198,0.013635195526200738,0.012938492406333251,0.012608570542990364],\"type\":\"scatter\"},{\"hovertext\":\"<b>Topic 32</b>:mercadoria_entregar_nats_produto_d\",\"line\":{\"color\":\"black\",\"width\":1.5},\"mode\":\"lines+lines\",\"name\":\"\",\"opacity\":0.1,\"x\":[1,2,3,4,5,6,7,8,9,10],\"y\":[0.051817875912819764,0.038738258698126415,0.035702078331431714,0.034555784451296104,0.027832732267426042,0.024720692659541844,0.023377608536725096,0.02314245408534904,0.0226559011845482,0.022567384713145483],\"type\":\"scatter\"},{\"hovertext\":\"<b>Topic 33</b>:taxa_reembolso_taxar_pagamento_pag\",\"line\":{\"color\":\"black\",\"width\":1.5},\"mode\":\"lines+lines\",\"name\":\"\",\"opacity\":0.1,\"x\":[1,2,3,4,5,6,7,8,9,10],\"y\":[0.06285084226026957,0.04080459536604576,0.039544870361055064,0.034923621239762524,0.030405779217021294,0.027945666207986008,0.02711225947217788,0.025770658898641,0.023786550892607675,0.02104822595267654],\"type\":\"scatter\"},{\"hovertext\":\"<b>Topic 34</b>:china_nacional_correio_encomenda_a\",\"line\":{\"color\":\"black\",\"width\":1.5},\"mode\":\"lines+lines\",\"name\":\"\",\"opacity\":0.1,\"x\":[1,2,3,4,5,6,7,8,9,10],\"y\":[0.11533061824681948,0.031122997189302736,0.02551847519913509,0.022894803917738172,0.021179338471183872,0.019306669862288222,0.018046828679699985,0.017934439628813588,0.01761753023913906,0.01659683681921582],\"type\":\"scatter\"},{\"hovertext\":\"<b>Topic 35</b>:cashback_valor_americana_promo\\u00e7\\u00e3o_\",\"line\":{\"color\":\"black\",\"width\":1.5},\"mode\":\"lines+lines\",\"name\":\"\",\"opacity\":0.1,\"x\":[1,2,3,4,5,6,7,8,9,10],\"y\":[0.1529107640956744,0.03424524216856184,0.021271195582815206,0.02007375535109459,0.019105803290390615,0.01815962667310143,0.017750780842439855,0.01632802867873367,0.01617580444993799,0.01496137251219355],\"type\":\"scatter\"},{\"hovertext\":\"<b>Topic 36</b>:aplicativo_reembolso_pedido_recebi\",\"line\":{\"color\":\"black\",\"width\":1.5},\"mode\":\"lines+lines\",\"name\":\"\",\"opacity\":0.1,\"x\":[1,2,3,4,5,6,7,8,9,10],\"y\":[0.09112476468458892,0.02999312138017039,0.024831857888859086,0.0221793731003611,0.01945267372280641,0.018131121471359066,0.01577771133643723,0.015461898637979428,0.014019433589617934,0.013806203746932123],\"type\":\"scatter\"},{\"hovertext\":\"<b>Topic 37</b>:televis\\u00e3o_televisor_monitor_copa_p\",\"line\":{\"color\":\"black\",\"width\":1.5},\"mode\":\"lines+lines\",\"name\":\"\",\"opacity\":0.1,\"x\":[1,2,3,4,5,6,7,8,9,10],\"y\":[0.07584114869776894,0.038388570076987406,0.019900002361610828,0.019756194628452097,0.01559809714815449,0.014566296554751277,0.014340685225629925,0.012368419652612981,0.012227715833577577,0.012199541416537526],\"type\":\"scatter\"},{\"hovertext\":\"<b>Topic 38</b>:entregar_loggi_pedido_amazoncom_sa\",\"line\":{\"color\":\"black\",\"width\":1.5},\"mode\":\"lines+lines\",\"name\":\"\",\"opacity\":0.1,\"x\":[1,2,3,4,5,6,7,8,9,10],\"y\":[0.05416599544708955,0.03568262118572322,0.034748101471054636,0.02716980338886377,0.024936419396024184,0.023941452795588878,0.02218481689111167,0.021542797624497484,0.020240400134524328,0.01991047047761088],\"type\":\"scatter\"},{\"hovertext\":\"<b>Topic 39</b>:perfume_shampoo_cachorro_amaciante\",\"line\":{\"color\":\"black\",\"width\":1.5},\"mode\":\"lines+lines\",\"name\":\"\",\"opacity\":0.1,\"x\":[1,2,3,4,5,6,7,8,9,10],\"y\":[0.097408195316544,0.036022692866555496,0.030315012969059314,0.02645030140207548,0.019320763262230183,0.018313582853362386,0.017993826986379323,0.016418502682489122,0.015581702758984552,0.015192901269825015],\"type\":\"scatter\"},{\"hovertext\":\"<b>Topic 40</b>:m\\u00fasica_music_ouvir_tocar_prime_ale\",\"line\":{\"color\":\"black\",\"width\":1.5},\"mode\":\"lines+lines\",\"name\":\"\",\"opacity\":0.1,\"x\":[1,2,3,4,5,6,7,8,9,10],\"y\":[0.12633920575669857,0.11207781322513367,0.05804563744083522,0.0500195842833736,0.04712871511465366,0.03735522688004301,0.034692061983881604,0.03306464152532357,0.031198807210156065,0.026036014172192253],\"type\":\"scatter\"},{\"hovertext\":\"<b>Topic 41</b>:bluetooth_fone_ouvido_controle_dev\",\"line\":{\"color\":\"black\",\"width\":1.5},\"mode\":\"lines+lines\",\"name\":\"\",\"opacity\":0.1,\"x\":[1,2,3,4,5,6,7,8,9,10],\"y\":[0.07134720881511629,0.039899733679800875,0.021961334055593418,0.019096873318026897,0.018150035814006295,0.017749241623018556,0.01692008073344526,0.014855787139051762,0.013495681133199502,0.013490043029265795],\"type\":\"scatter\"},{\"hovertext\":\"<b>Topic 42</b>:bicicleta_bikes_bike_entrega_estre\",\"line\":{\"color\":\"black\",\"width\":1.5},\"mode\":\"lines+lines\",\"name\":\"\",\"opacity\":0.1,\"x\":[1,2,3,4,5,6,7,8,9,10],\"y\":[0.1092199783402778,0.015673781569253854,0.015203327619139772,0.014674539635737878,0.013742556277737995,0.012834398002208255,0.012124063575021273,0.011948312183097104,0.01160917380220307,0.011266227421294125],\"type\":\"scatter\"},{\"hovertext\":\"<b>Topic 43</b>:pneu_pastilha_moto_freio_coleta_pi\",\"line\":{\"color\":\"black\",\"width\":1.5},\"mode\":\"lines+lines\",\"name\":\"\",\"opacity\":0.1,\"x\":[1,2,3,4,5,6,7,8,9,10],\"y\":[0.14647329707535847,0.03322721907301971,0.02507334247522932,0.02117818047699967,0.018906960490249224,0.017771583949376703,0.01751845885124872,0.015854644187449918,0.01427294599623623,0.01374113279376016],\"type\":\"scatter\"},{\"hovertext\":\"<b>Topic 44</b>:curitiba_parado_entrega_prazo_cheg\",\"line\":{\"color\":\"black\",\"width\":1.5},\"mode\":\"lines+lines\",\"name\":\"\",\"opacity\":0.1,\"x\":[1,2,3,4,5,6,7,8,9,10],\"y\":[0.04332401848893464,0.03980268283097566,0.03724933766126218,0.0372167942905058,0.028362210766546693,0.027630424925063363,0.025406788051051548,0.024037789833114987,0.023107319545947982,0.021954213756183182],\"type\":\"scatter\"},{\"hovertext\":\"<b>Topic 45</b>:reconhecimento_facial_rosto_senha_\",\"line\":{\"color\":\"black\",\"width\":1.5},\"mode\":\"lines+lines\",\"name\":\"\",\"opacity\":0.1,\"x\":[1,2,3,4,5,6,7,8,9,10],\"y\":[0.14875589498891098,0.14632977460082405,0.061388185667558215,0.050771895027676206,0.04415173037010941,0.035607812046823624,0.034354599704082965,0.03335711265770459,0.026143205482933276,0.025596453620571672],\"type\":\"scatter\"},{\"hovertext\":\"<b>Topic 46</b>:trip\\u00e9_ganhar_giro_atar_mentar_suce\",\"line\":{\"color\":\"black\",\"width\":1.5},\"mode\":\"lines+lines\",\"name\":\"\",\"opacity\":0.1,\"x\":[1,2,3,4,5,6,7,8,9,10],\"y\":[0.15470900610287078,0.07351695597155838,0.0707559282269174,0.06689718182500366,0.06543049282608279,0.0620378254823601,0.06122255208217477,0.060092771331281686,0.05991136214042213,0.05818331031204158],\"type\":\"scatter\"},{\"hovertext\":\"<b>Topic 47</b>:sof\\u00e1_mobly_magazine_capa_reclin\\u00e1ve\",\"line\":{\"color\":\"black\",\"width\":1.5},\"mode\":\"lines+lines\",\"name\":\"\",\"opacity\":0.1,\"x\":[1,2,3,4,5,6,7,8,9,10],\"y\":[0.16110921215478657,0.025927734786598062,0.019413772285064364,0.017763164573679845,0.017007758091102627,0.015716212822913064,0.015014752219924493,0.014910050685871947,0.014636458108479635,0.013285756289103478],\"type\":\"scatter\"},{\"hovertext\":\"<b>Topic 48</b>:anivers\\u00e1rio_presente_filho_mariadl\",\"line\":{\"color\":\"black\",\"width\":1.5},\"mode\":\"lines+lines\",\"name\":\"\",\"opacity\":0.1,\"x\":[1,2,3,4,5,6,7,8,9,10],\"y\":[0.06995903218320787,0.04031442909074915,0.026820047236565243,0.018272074511361616,0.017999632010622848,0.017002930212645644,0.0155009576021314,0.01484101013156262,0.014628474258393406,0.014607105835067002],\"type\":\"scatter\"},{\"hovertext\":\"<b>Topic 49</b>:cadeira_montar_gamer_pe\\u00e7a_base_mes\",\"line\":{\"color\":\"black\",\"width\":1.5},\"mode\":\"lines+lines\",\"name\":\"\",\"opacity\":0.1,\"x\":[1,2,3,4,5,6,7,8,9,10],\"y\":[0.21694035670283757,0.03267884699027134,0.02993624453801356,0.02596433010030192,0.02389420512141599,0.02322839429100859,0.022879662478191235,0.020133800714976495,0.019753451090339706,0.019460444967860913],\"type\":\"scatter\"},{\"hovertext\":\"<b>Topic 50</b>:mouse_teclado_combo_logitech_caixa\",\"line\":{\"color\":\"black\",\"width\":1.5},\"mode\":\"lines+lines\",\"name\":\"\",\"opacity\":0.1,\"x\":[1,2,3,4,5,6,7,8,9,10],\"y\":[0.12950974238081223,0.12230040545756403,0.020894857018918397,0.017336914093357463,0.015436572501097269,0.013287659464146355,0.013058872031013061,0.013058682437909622,0.013026820882759768,0.012376754026140158],\"type\":\"scatter\"},{\"hovertext\":\"<b>Topic 51</b>:nacional_internacional_envio_proce\",\"line\":{\"color\":\"black\",\"width\":1.5},\"mode\":\"lines+lines\",\"name\":\"\",\"opacity\":0.1,\"x\":[1,2,3,4,5,6,7,8,9,10],\"y\":[0.13048201378826113,0.1167518988028705,0.04754667476253067,0.041646283537940414,0.02981700937473056,0.02342863582414591,0.02218790225518598,0.020772291077519215,0.019532452747120278,0.019398054620382913],\"type\":\"scatter\"},{\"hovertext\":\"<b>Topic 52</b>:virtual_cart\\u00e3o_fatura_tempor\\u00e1rio_e\",\"line\":{\"color\":\"black\",\"width\":1.5},\"mode\":\"lines+lines\",\"name\":\"\",\"opacity\":0.1,\"x\":[1,2,3,4,5,6,7,8,9,10],\"y\":[0.06880419387829205,0.05911564520239458,0.04172827187705196,0.030553455524116892,0.029408106222588812,0.02407995878593904,0.020954972546656393,0.019749402319471556,0.018682631823187853,0.0180933113292499],\"type\":\"scatter\"},{\"hovertext\":\"<b>Topic 53</b>:entrega_previs\\u00e3o_contato_pedido_tr\",\"line\":{\"color\":\"black\",\"width\":1.5},\"mode\":\"lines+lines\",\"name\":\"\",\"opacity\":0.1,\"x\":[1,2,3,4,5,6,7,8,9,10],\"y\":[0.03076396190773885,0.02468737636491746,0.02257171422021497,0.022468697191809765,0.01965518059398347,0.01911335430087238,0.01831268489393975,0.017913650360144365,0.017518005395839985,0.017228516974393666],\"type\":\"scatter\"},{\"hovertext\":\"<b>Topic 54</b>:mercado_pagar_livre_valor_cr\\u00e9dito_\",\"line\":{\"color\":\"black\",\"width\":1.5},\"mode\":\"lines+lines\",\"name\":\"\",\"opacity\":0.1,\"x\":[1,2,3,4,5,6,7,8,9,10],\"y\":[0.06142263551441675,0.043272764201140596,0.03247109025696817,0.03060229876683435,0.030515743755321147,0.030183043788072787,0.029865947045025647,0.028868084488482184,0.021985285022165665,0.019861935178886556],\"type\":\"scatter\"},{\"hovertext\":\"<b>Topic 55</b>:bateria_arma_kindle_integrador_dur\",\"line\":{\"color\":\"black\",\"width\":1.5},\"mode\":\"lines+lines\",\"name\":\"\",\"opacity\":0.1,\"x\":[1,2,3,4,5,6,7,8,9,10],\"y\":[0.11857987616753646,0.04280742600193643,0.02492331162788107,0.018388179829940562,0.01766744892476313,0.017335363214488038,0.01633806804224738,0.016052784750726162,0.015079452596711071,0.015014479258654267],\"type\":\"scatter\"},{\"hovertext\":\"<b>Topic 56</b>:rel\\u00f3gio_nvme_smartwatch_pulseira_t\",\"line\":{\"color\":\"black\",\"width\":1.5},\"mode\":\"lines+lines\",\"name\":\"\",\"opacity\":0.1,\"x\":[1,2,3,4,5,6,7,8,9,10],\"y\":[0.15510849895947734,0.0342762282068112,0.028503309320083728,0.027888614527345278,0.027189404228419978,0.026890104963196177,0.024917751704261953,0.021362183557053813,0.01780139823598244,0.0171381141034056],\"type\":\"scatter\"},{\"hovertext\":\"<b>Topic 57</b>:transportadora_rota_entregar_respe\",\"line\":{\"color\":\"black\",\"width\":1.5},\"mode\":\"lines+lines\",\"name\":\"\",\"opacity\":0.1,\"x\":[1,2,3,4,5,6,7,8,9,10],\"y\":[0.035964079367151194,0.016681473481163264,0.016671107892013988,0.0159502387863185,0.015866438085036832,0.015821370549536154,0.01575057923068431,0.014072594784967385,0.013967709063457808,0.013941407426734394],\"type\":\"scatter\"},{\"hovertext\":\"<b>Topic 58</b>:boleto_pagamento_paguei_pagar_proc\",\"line\":{\"color\":\"black\",\"width\":1.5},\"mode\":\"lines+lines\",\"name\":\"\",\"opacity\":0.1,\"x\":[1,2,3,4,5,6,7,8,9,10],\"y\":[0.2149646951253509,0.05386588971654675,0.04336193475553942,0.03559028070166274,0.03368033531071569,0.032944858268667165,0.02598553675226695,0.025551366828759893,0.025551366828759893,0.025551366828759893],\"type\":\"scatter\"},{\"hovertext\":\"<b>Topic 59</b>:notebook_cupom_desconto_intel_slot\",\"line\":{\"color\":\"black\",\"width\":1.5},\"mode\":\"lines+lines\",\"name\":\"\",\"opacity\":0.1,\"x\":[1,2,3,4,5,6,7,8,9,10],\"y\":[0.12805690374682954,0.027334164158443565,0.02632179786972482,0.025005283882579412,0.020280361593702438,0.019050840305846417,0.018753962911934558,0.017284658573719996,0.01727482331142788,0.017066566204379404],\"type\":\"scatter\"},{\"hovertext\":\"<b>Topic 60</b>:l\\u00e2mpada_lampada_an\\u00fancio_positivo_u\",\"line\":{\"color\":\"black\",\"width\":1.5},\"mode\":\"lines+lines\",\"name\":\"\",\"opacity\":0.1,\"x\":[1,2,3,4,5,6,7,8,9,10],\"y\":[0.1607080253530439,0.058282122586689696,0.05542063376878736,0.04966545256763127,0.035068346783915176,0.03461575363767326,0.031243620775720307,0.028035367788023874,0.027418003732430037,0.027068502176868386],\"type\":\"scatter\"},{\"hovertext\":\"<b>Topic 61</b>:conta_bloquear_bloqueio_antipulga_\",\"line\":{\"color\":\"black\",\"width\":1.5},\"mode\":\"lines+lines\",\"name\":\"\",\"opacity\":0.1,\"x\":[1,2,3,4,5,6,7,8,9,10],\"y\":[0.10010558552204366,0.09910453382089138,0.05269112106400375,0.044392467914613466,0.040027057848967595,0.04001248934802736,0.03686476812455591,0.02959497860974231,0.027938773485245292,0.027084094334768008],\"type\":\"scatter\"},{\"hovertext\":\"<b>Topic 62</b>:reclamacao_reabrir_loja_toke_ferro\",\"line\":{\"color\":\"black\",\"width\":1.5},\"mode\":\"lines+lines\",\"name\":\"\",\"opacity\":0.1,\"x\":[1,2,3,4,5,6,7,8,9,10],\"y\":[0.02653571504336923,0.024783049200089672,0.024551086733307702,0.02294786861413537,0.020120375832116788,0.019826439360071738,0.019815739689355114,0.01708797378271683,0.017021161563325293,0.01628159453696849],\"type\":\"scatter\"},{\"hovertext\":\"<b>Topic 63</b>:devolu\\u00e7\\u00e3o_c\\u00f3digo_gerar_solicitei_c\",\"line\":{\"color\":\"black\",\"width\":1.5},\"mode\":\"lines+lines\",\"name\":\"\",\"opacity\":0.1,\"x\":[1,2,3,4,5,6,7,8,9,10],\"y\":[0.078365448749886,0.04744580021011378,0.021876402031256487,0.019437677549108738,0.01912348291391553,0.019111112518589917,0.019062080053760394,0.01895848117746094,0.018738210254065964,0.018343962075033828],\"type\":\"scatter\"},{\"hovertext\":\"<b>Topic 64</b>:rastreamento_rastrear_rastreio_c\\u00f3d\",\"line\":{\"color\":\"black\",\"width\":1.5},\"mode\":\"lines+lines\",\"name\":\"\",\"opacity\":0.1,\"x\":[1,2,3,4,5,6,7,8,9,10],\"y\":[0.07060493459076951,0.05685373686424109,0.04413490695241198,0.04381462718582453,0.03297115610613228,0.03244559661513714,0.026271980872448895,0.02379358199140807,0.023321799284550707,0.02234642467028592],\"type\":\"scatter\"},{\"hovertext\":\"<b>Topic 65</b>:dinheiro_plataforma_sacar_comiss\\u00e3o\",\"line\":{\"color\":\"black\",\"width\":1.5},\"mode\":\"lines+lines\",\"name\":\"\",\"opacity\":0.1,\"x\":[1,2,3,4,5,6,7,8,9,10],\"y\":[0.07788365666349735,0.032283407830612475,0.030802103259322956,0.030636419053379382,0.029534847973668267,0.025122536794004606,0.023766739806759845,0.023281674106479102,0.021619038103531735,0.0211572849970564],\"type\":\"scatter\"},{\"hovertext\":\"<b>Topic 66</b>:conta_mercado_opera\\u00e7\\u00e3o_suspender_e\",\"line\":{\"color\":\"black\",\"width\":1.5},\"mode\":\"lines+lines\",\"name\":\"\",\"opacity\":0.1,\"x\":[1,2,3,4,5,6,7,8,9,10],\"y\":[0.04772247698688391,0.044789393709516866,0.037207832540048814,0.03571853727930292,0.03157756754638938,0.030052748661314656,0.024276331260560752,0.023049579981807854,0.02149332723239303,0.02149332723239303],\"type\":\"scatter\"},{\"hovertext\":\"<b>Topic 67</b>:microondas_microonda_recolher_dinh\",\"line\":{\"color\":\"black\",\"width\":1.5},\"mode\":\"lines+lines\",\"name\":\"\",\"opacity\":0.1,\"x\":[1,2,3,4,5,6,7,8,9,10],\"y\":[0.13417416937013513,0.025556694680870552,0.024885842407914402,0.02260330061469582,0.01875545909809992,0.016885768615448694,0.015787433675770523,0.015279035827268547,0.015176526954961127,0.01502173455978473],\"type\":\"scatter\"},{\"hovertext\":\"<b>Topic 68</b>:site_dinheiro_pagar_querer_valor_p\",\"line\":{\"color\":\"black\",\"width\":1.5},\"mode\":\"lines+lines\",\"name\":\"\",\"opacity\":0.1,\"x\":[1,2,3,4,5,6,7,8,9,10],\"y\":[0.030756698429838143,0.027949496045543903,0.026867936197097687,0.026701289471962705,0.026126210346275085,0.026046242684456995,0.024574682596654778,0.02291853447277696,0.021885716855939152,0.02107159070485618],\"type\":\"scatter\"},{\"hovertext\":\"<b>Topic 69</b>:campainha_encomenda_ningu\\u00e9m_entreg\",\"line\":{\"color\":\"black\",\"width\":1.5},\"mode\":\"lines+lines\",\"name\":\"\",\"opacity\":0.1,\"x\":[1,2,3,4,5,6,7,8,9,10],\"y\":[0.044769564781084605,0.03707042235316005,0.032328304196568715,0.03179931802926098,0.03057069654413121,0.03029883742200172,0.029722081929642978,0.02863530344313504,0.02791141862680658,0.02478462211579434],\"type\":\"scatter\"},{\"hovertext\":\"<b>Topic 70</b>:mandar_voce_nada_querer_divulgar_c\",\"line\":{\"color\":\"black\",\"width\":1.5},\"mode\":\"lines+lines\",\"name\":\"\",\"opacity\":0.1,\"x\":[1,2,3,4,5,6,7,8,9,10],\"y\":[0.017903004721121423,0.016441316445981874,0.016212211750208122,0.01563577667150338,0.015380157980678094,0.014992024878306583,0.014914639382976439,0.014567649236534927,0.01428518488758878,0.014091869267446792],\"type\":\"scatter\"},{\"hovertext\":\"<b>Topic 71</b>:iphone_an\\u00fancio_friday_black_instag\",\"line\":{\"color\":\"black\",\"width\":1.5},\"mode\":\"lines+lines\",\"name\":\"\",\"opacity\":0.1,\"x\":[1,2,3,4,5,6,7,8,9,10],\"y\":[0.06914547405499659,0.05259616620756817,0.05147596656323739,0.048675389562230595,0.04678834433831125,0.04660953748507109,0.042718186170447064,0.037793821412572204,0.03690959763318668,0.030613244866058934],\"type\":\"scatter\"},{\"hovertext\":\"<b>Topic 72</b>:echo_multilaser_studio_gritar_caix\",\"line\":{\"color\":\"black\",\"width\":1.5},\"mode\":\"lines+lines\",\"name\":\"\",\"opacity\":0.1,\"x\":[1,2,3,4,5,6,7,8,9,10],\"y\":[0.09794278319416871,0.04588662081617851,0.04089562824124584,0.03708340550672338,0.035320010841960174,0.03294154509478666,0.029806322276699874,0.02831892159742528,0.026219476726485596,0.024675058458324194],\"type\":\"scatter\"},{\"hovertext\":\"<b>Topic 73</b>:email_americana_descadastrar_ameri\",\"line\":{\"color\":\"black\",\"width\":1.5},\"mode\":\"lines+lines\",\"name\":\"\",\"opacity\":0.1,\"x\":[1,2,3,4,5,6,7,8,9,10],\"y\":[0.05820069139840743,0.03934712402911008,0.03660853506255076,0.03396411694605068,0.02885336703517128,0.02356831465143371,0.02234704449287504,0.021607856507165995,0.021607856507165995,0.02051035111973097],\"type\":\"scatter\"},{\"hovertext\":\"<b>Topic 74</b>:cabelo_m\\u00e1scara_natural_derramar_la\",\"line\":{\"color\":\"black\",\"width\":1.5},\"mode\":\"lines+lines\",\"name\":\"\",\"opacity\":0.1,\"x\":[1,2,3,4,5,6,7,8,9,10],\"y\":[0.12150749459145893,0.05007435675465519,0.03742746205727828,0.03645511420527301,0.03374740292404543,0.030699173786687503,0.025921444774105,0.025001123447440474,0.0249820949117812,0.024556771020418148],\"type\":\"scatter\"},{\"hovertext\":\"<b>Topic 75</b>:novembro_dezembro_bijuterio_chegar\",\"line\":{\"color\":\"black\",\"width\":1.5},\"mode\":\"lines+lines\",\"name\":\"\",\"opacity\":0.1,\"x\":[1,2,3,4,5,6,7,8,9,10],\"y\":[0.23642100386520645,0.1499570204380748,0.14249513720001253,0.11660019981802529,0.07732650487651019,0.07732650487651019,0.07732650487651019,0.0742902733779061,0.06161582536513494,0.05484256215968703],\"type\":\"scatter\"},{\"hovertext\":\"<b>Topic 76</b>:aplicativo_prazo_gerenciar_fiscali\",\"line\":{\"color\":\"black\",\"width\":1.5},\"mode\":\"lines+lines\",\"name\":\"\",\"opacity\":0.1,\"x\":[1,2,3,4,5,6,7,8,9,10],\"y\":[0.0335094734460877,0.031522176368946477,0.027591171673649367,0.02318740498074003,0.02300570283126684,0.02150231820655622,0.02099710055421528,0.020262343002236526,0.019900276099037058,0.019718587632430205],\"type\":\"scatter\"},{\"hovertext\":\"<b>Topic 77</b>:propaganda_enganoso_americana_come\",\"line\":{\"color\":\"black\",\"width\":1.5},\"mode\":\"lines+lines\",\"name\":\"\",\"opacity\":0.1,\"x\":[1,2,3,4,5,6,7,8,9,10],\"y\":[0.08208583849714621,0.047591468464151576,0.04743561205222478,0.04613000552338765,0.04402795530668118,0.035862376715328596,0.03265708899477138,0.02932138801618828,0.02834768275094421,0.02824401272169597],\"type\":\"scatter\"}],                        {\"template\":{\"data\":{\"barpolar\":[{\"marker\":{\"line\":{\"color\":\"white\",\"width\":0.5},\"pattern\":{\"fillmode\":\"overlay\",\"size\":10,\"solidity\":0.2}},\"type\":\"barpolar\"}],\"bar\":[{\"error_x\":{\"color\":\"#2a3f5f\"},\"error_y\":{\"color\":\"#2a3f5f\"},\"marker\":{\"line\":{\"color\":\"white\",\"width\":0.5},\"pattern\":{\"fillmode\":\"overlay\",\"size\":10,\"solidity\":0.2}},\"type\":\"bar\"}],\"carpet\":[{\"aaxis\":{\"endlinecolor\":\"#2a3f5f\",\"gridcolor\":\"#C8D4E3\",\"linecolor\":\"#C8D4E3\",\"minorgridcolor\":\"#C8D4E3\",\"startlinecolor\":\"#2a3f5f\"},\"baxis\":{\"endlinecolor\":\"#2a3f5f\",\"gridcolor\":\"#C8D4E3\",\"linecolor\":\"#C8D4E3\",\"minorgridcolor\":\"#C8D4E3\",\"startlinecolor\":\"#2a3f5f\"},\"type\":\"carpet\"}],\"choropleth\":[{\"colorbar\":{\"outlinewidth\":0,\"ticks\":\"\"},\"type\":\"choropleth\"}],\"contourcarpet\":[{\"colorbar\":{\"outlinewidth\":0,\"ticks\":\"\"},\"type\":\"contourcarpet\"}],\"contour\":[{\"colorbar\":{\"outlinewidth\":0,\"ticks\":\"\"},\"colorscale\":[[0.0,\"#0d0887\"],[0.1111111111111111,\"#46039f\"],[0.2222222222222222,\"#7201a8\"],[0.3333333333333333,\"#9c179e\"],[0.4444444444444444,\"#bd3786\"],[0.5555555555555556,\"#d8576b\"],[0.6666666666666666,\"#ed7953\"],[0.7777777777777778,\"#fb9f3a\"],[0.8888888888888888,\"#fdca26\"],[1.0,\"#f0f921\"]],\"type\":\"contour\"}],\"heatmapgl\":[{\"colorbar\":{\"outlinewidth\":0,\"ticks\":\"\"},\"colorscale\":[[0.0,\"#0d0887\"],[0.1111111111111111,\"#46039f\"],[0.2222222222222222,\"#7201a8\"],[0.3333333333333333,\"#9c179e\"],[0.4444444444444444,\"#bd3786\"],[0.5555555555555556,\"#d8576b\"],[0.6666666666666666,\"#ed7953\"],[0.7777777777777778,\"#fb9f3a\"],[0.8888888888888888,\"#fdca26\"],[1.0,\"#f0f921\"]],\"type\":\"heatmapgl\"}],\"heatmap\":[{\"colorbar\":{\"outlinewidth\":0,\"ticks\":\"\"},\"colorscale\":[[0.0,\"#0d0887\"],[0.1111111111111111,\"#46039f\"],[0.2222222222222222,\"#7201a8\"],[0.3333333333333333,\"#9c179e\"],[0.4444444444444444,\"#bd3786\"],[0.5555555555555556,\"#d8576b\"],[0.6666666666666666,\"#ed7953\"],[0.7777777777777778,\"#fb9f3a\"],[0.8888888888888888,\"#fdca26\"],[1.0,\"#f0f921\"]],\"type\":\"heatmap\"}],\"histogram2dcontour\":[{\"colorbar\":{\"outlinewidth\":0,\"ticks\":\"\"},\"colorscale\":[[0.0,\"#0d0887\"],[0.1111111111111111,\"#46039f\"],[0.2222222222222222,\"#7201a8\"],[0.3333333333333333,\"#9c179e\"],[0.4444444444444444,\"#bd3786\"],[0.5555555555555556,\"#d8576b\"],[0.6666666666666666,\"#ed7953\"],[0.7777777777777778,\"#fb9f3a\"],[0.8888888888888888,\"#fdca26\"],[1.0,\"#f0f921\"]],\"type\":\"histogram2dcontour\"}],\"histogram2d\":[{\"colorbar\":{\"outlinewidth\":0,\"ticks\":\"\"},\"colorscale\":[[0.0,\"#0d0887\"],[0.1111111111111111,\"#46039f\"],[0.2222222222222222,\"#7201a8\"],[0.3333333333333333,\"#9c179e\"],[0.4444444444444444,\"#bd3786\"],[0.5555555555555556,\"#d8576b\"],[0.6666666666666666,\"#ed7953\"],[0.7777777777777778,\"#fb9f3a\"],[0.8888888888888888,\"#fdca26\"],[1.0,\"#f0f921\"]],\"type\":\"histogram2d\"}],\"histogram\":[{\"marker\":{\"pattern\":{\"fillmode\":\"overlay\",\"size\":10,\"solidity\":0.2}},\"type\":\"histogram\"}],\"mesh3d\":[{\"colorbar\":{\"outlinewidth\":0,\"ticks\":\"\"},\"type\":\"mesh3d\"}],\"parcoords\":[{\"line\":{\"colorbar\":{\"outlinewidth\":0,\"ticks\":\"\"}},\"type\":\"parcoords\"}],\"pie\":[{\"automargin\":true,\"type\":\"pie\"}],\"scatter3d\":[{\"line\":{\"colorbar\":{\"outlinewidth\":0,\"ticks\":\"\"}},\"marker\":{\"colorbar\":{\"outlinewidth\":0,\"ticks\":\"\"}},\"type\":\"scatter3d\"}],\"scattercarpet\":[{\"marker\":{\"colorbar\":{\"outlinewidth\":0,\"ticks\":\"\"}},\"type\":\"scattercarpet\"}],\"scattergeo\":[{\"marker\":{\"colorbar\":{\"outlinewidth\":0,\"ticks\":\"\"}},\"type\":\"scattergeo\"}],\"scattergl\":[{\"marker\":{\"colorbar\":{\"outlinewidth\":0,\"ticks\":\"\"}},\"type\":\"scattergl\"}],\"scattermapbox\":[{\"marker\":{\"colorbar\":{\"outlinewidth\":0,\"ticks\":\"\"}},\"type\":\"scattermapbox\"}],\"scatterpolargl\":[{\"marker\":{\"colorbar\":{\"outlinewidth\":0,\"ticks\":\"\"}},\"type\":\"scatterpolargl\"}],\"scatterpolar\":[{\"marker\":{\"colorbar\":{\"outlinewidth\":0,\"ticks\":\"\"}},\"type\":\"scatterpolar\"}],\"scatter\":[{\"marker\":{\"colorbar\":{\"outlinewidth\":0,\"ticks\":\"\"}},\"type\":\"scatter\"}],\"scatterternary\":[{\"marker\":{\"colorbar\":{\"outlinewidth\":0,\"ticks\":\"\"}},\"type\":\"scatterternary\"}],\"surface\":[{\"colorbar\":{\"outlinewidth\":0,\"ticks\":\"\"},\"colorscale\":[[0.0,\"#0d0887\"],[0.1111111111111111,\"#46039f\"],[0.2222222222222222,\"#7201a8\"],[0.3333333333333333,\"#9c179e\"],[0.4444444444444444,\"#bd3786\"],[0.5555555555555556,\"#d8576b\"],[0.6666666666666666,\"#ed7953\"],[0.7777777777777778,\"#fb9f3a\"],[0.8888888888888888,\"#fdca26\"],[1.0,\"#f0f921\"]],\"type\":\"surface\"}],\"table\":[{\"cells\":{\"fill\":{\"color\":\"#EBF0F8\"},\"line\":{\"color\":\"white\"}},\"header\":{\"fill\":{\"color\":\"#C8D4E3\"},\"line\":{\"color\":\"white\"}},\"type\":\"table\"}]},\"layout\":{\"annotationdefaults\":{\"arrowcolor\":\"#2a3f5f\",\"arrowhead\":0,\"arrowwidth\":1},\"autotypenumbers\":\"strict\",\"coloraxis\":{\"colorbar\":{\"outlinewidth\":0,\"ticks\":\"\"}},\"colorscale\":{\"diverging\":[[0,\"#8e0152\"],[0.1,\"#c51b7d\"],[0.2,\"#de77ae\"],[0.3,\"#f1b6da\"],[0.4,\"#fde0ef\"],[0.5,\"#f7f7f7\"],[0.6,\"#e6f5d0\"],[0.7,\"#b8e186\"],[0.8,\"#7fbc41\"],[0.9,\"#4d9221\"],[1,\"#276419\"]],\"sequential\":[[0.0,\"#0d0887\"],[0.1111111111111111,\"#46039f\"],[0.2222222222222222,\"#7201a8\"],[0.3333333333333333,\"#9c179e\"],[0.4444444444444444,\"#bd3786\"],[0.5555555555555556,\"#d8576b\"],[0.6666666666666666,\"#ed7953\"],[0.7777777777777778,\"#fb9f3a\"],[0.8888888888888888,\"#fdca26\"],[1.0,\"#f0f921\"]],\"sequentialminus\":[[0.0,\"#0d0887\"],[0.1111111111111111,\"#46039f\"],[0.2222222222222222,\"#7201a8\"],[0.3333333333333333,\"#9c179e\"],[0.4444444444444444,\"#bd3786\"],[0.5555555555555556,\"#d8576b\"],[0.6666666666666666,\"#ed7953\"],[0.7777777777777778,\"#fb9f3a\"],[0.8888888888888888,\"#fdca26\"],[1.0,\"#f0f921\"]]},\"colorway\":[\"#636efa\",\"#EF553B\",\"#00cc96\",\"#ab63fa\",\"#FFA15A\",\"#19d3f3\",\"#FF6692\",\"#B6E880\",\"#FF97FF\",\"#FECB52\"],\"font\":{\"color\":\"#2a3f5f\"},\"geo\":{\"bgcolor\":\"white\",\"lakecolor\":\"white\",\"landcolor\":\"white\",\"showlakes\":true,\"showland\":true,\"subunitcolor\":\"#C8D4E3\"},\"hoverlabel\":{\"align\":\"left\"},\"hovermode\":\"closest\",\"mapbox\":{\"style\":\"light\"},\"paper_bgcolor\":\"white\",\"plot_bgcolor\":\"white\",\"polar\":{\"angularaxis\":{\"gridcolor\":\"#EBF0F8\",\"linecolor\":\"#EBF0F8\",\"ticks\":\"\"},\"bgcolor\":\"white\",\"radialaxis\":{\"gridcolor\":\"#EBF0F8\",\"linecolor\":\"#EBF0F8\",\"ticks\":\"\"}},\"scene\":{\"xaxis\":{\"backgroundcolor\":\"white\",\"gridcolor\":\"#DFE8F3\",\"gridwidth\":2,\"linecolor\":\"#EBF0F8\",\"showbackground\":true,\"ticks\":\"\",\"zerolinecolor\":\"#EBF0F8\"},\"yaxis\":{\"backgroundcolor\":\"white\",\"gridcolor\":\"#DFE8F3\",\"gridwidth\":2,\"linecolor\":\"#EBF0F8\",\"showbackground\":true,\"ticks\":\"\",\"zerolinecolor\":\"#EBF0F8\"},\"zaxis\":{\"backgroundcolor\":\"white\",\"gridcolor\":\"#DFE8F3\",\"gridwidth\":2,\"linecolor\":\"#EBF0F8\",\"showbackground\":true,\"ticks\":\"\",\"zerolinecolor\":\"#EBF0F8\"}},\"shapedefaults\":{\"line\":{\"color\":\"#2a3f5f\"}},\"ternary\":{\"aaxis\":{\"gridcolor\":\"#DFE8F3\",\"linecolor\":\"#A2B1C6\",\"ticks\":\"\"},\"baxis\":{\"gridcolor\":\"#DFE8F3\",\"linecolor\":\"#A2B1C6\",\"ticks\":\"\"},\"bgcolor\":\"white\",\"caxis\":{\"gridcolor\":\"#DFE8F3\",\"linecolor\":\"#A2B1C6\",\"ticks\":\"\"}},\"title\":{\"x\":0.05},\"xaxis\":{\"automargin\":true,\"gridcolor\":\"#EBF0F8\",\"linecolor\":\"#EBF0F8\",\"ticks\":\"\",\"title\":{\"standoff\":15},\"zerolinecolor\":\"#EBF0F8\",\"zerolinewidth\":2},\"yaxis\":{\"automargin\":true,\"gridcolor\":\"#EBF0F8\",\"linecolor\":\"#EBF0F8\",\"ticks\":\"\",\"title\":{\"standoff\":15},\"zerolinecolor\":\"#EBF0F8\",\"zerolinewidth\":2}}},\"xaxis\":{\"range\":[0,10],\"tick0\":1,\"dtick\":2,\"title\":{\"text\":\"Term Rank\"}},\"title\":{\"font\":{\"size\":22,\"color\":\"Black\"},\"text\":\"<b>Term score decline per Topic</b>\",\"y\":0.9,\"x\":0.5,\"xanchor\":\"center\",\"yanchor\":\"top\"},\"hoverlabel\":{\"font\":{\"size\":16,\"family\":\"Rockwell\"},\"bgcolor\":\"white\"},\"showlegend\":false,\"width\":800,\"height\":500,\"yaxis\":{\"title\":{\"text\":\"c-TF-IDF score\"}}},                        {\"responsive\": true}                    ).then(function(){\n",
              "                            \n",
              "var gd = document.getElementById('3e104b39-5192-48a2-bc7d-ba2e601cb901');\n",
              "var x = new MutationObserver(function (mutations, observer) {{\n",
              "        var display = window.getComputedStyle(gd).display;\n",
              "        if (!display || display === 'none') {{\n",
              "            console.log([gd, 'removed!']);\n",
              "            Plotly.purge(gd);\n",
              "            observer.disconnect();\n",
              "        }}\n",
              "}});\n",
              "\n",
              "// Listen for the removal of the full notebook cells\n",
              "var notebookContainer = gd.closest('#notebook-container');\n",
              "if (notebookContainer) {{\n",
              "    x.observe(notebookContainer, {childList: true});\n",
              "}}\n",
              "\n",
              "// Listen for the clearing of the current output cell\n",
              "var outputEl = gd.closest('.output');\n",
              "if (outputEl) {{\n",
              "    x.observe(outputEl, {childList: true});\n",
              "}}\n",
              "\n",
              "                        })                };                            </script>        </div>\n",
              "</body>\n",
              "</html>"
            ]
          },
          "metadata": {}
        }
      ]
    },
    {
      "cell_type": "markdown",
      "source": [
        "#### **Save Term score decline per Topic**"
      ],
      "metadata": {
        "id": "6UXg4gpFpwZg"
      }
    },
    {
      "cell_type": "code",
      "source": [
        "# Set the path to save \n",
        "path = '/content/Topic-Modeling-Reclame-Aqui/results/term_score_decline_topic/'\n",
        "\n",
        "# Use makedirs() to create a new directory if it does not exists\n",
        "if not os.path.exists(path):\n",
        "  os.makedirs(path)\n",
        "\n",
        "\n",
        "fig.write_image(path + \"tsdp_preprocessed_lemma.png\", format=\"png\")"
      ],
      "metadata": {
        "id": "F5Gppkjpp0hS"
      },
      "execution_count": 286,
      "outputs": []
    },
    {
      "cell_type": "markdown",
      "source": [
        "[Github link](https://github.com/punkmic/Topic-Modeling-Reclame-Aqui/blob/master/results/term_socore_decline_topic/tsdp_preprocessed_lemma.png?raw=true)"
      ],
      "metadata": {
        "id": "QERxP9EspLjX"
      }
    },
    {
      "cell_type": "markdown",
      "source": [
        "### **Term search**"
      ],
      "metadata": {
        "id": "AZIV-p12ZMXa"
      }
    },
    {
      "cell_type": "code",
      "source": [
        "# Find topics that contains blackfriday term\n",
        "similar_topics, similarity = topic_model.find_topics(\"blackfriday\", top_n=5)\n",
        "\n",
        "# Show similar topics\n",
        "similar_topics"
      ],
      "metadata": {
        "id": "pHHayMGRZOob",
        "outputId": "8e509a70-39e7-4193-859e-1ef5940ba571",
        "colab": {
          "base_uri": "https://localhost:8080/"
        }
      },
      "execution_count": 287,
      "outputs": [
        {
          "output_type": "execute_result",
          "data": {
            "text/plain": [
              "[24, 71, 75, 46, 44]"
            ]
          },
          "metadata": {},
          "execution_count": 287
        }
      ]
    },
    {
      "cell_type": "code",
      "source": [
        "# Show a specific topic\n",
        "topic_model.get_topic(34)"
      ],
      "metadata": {
        "id": "2BnwvRotZUya",
        "outputId": "877ad2f0-dead-4d6e-e8df-b16eae1e46dc",
        "colab": {
          "base_uri": "https://localhost:8080/"
        }
      },
      "execution_count": 288,
      "outputs": [
        {
          "output_type": "execute_result",
          "data": {
            "text/plain": [
              "[('china', 0.11533061824681948),\n",
              " ('nacional', 0.031122997189302736),\n",
              " ('correio', 0.02551847519913509),\n",
              " ('encomenda', 0.022894803917738172),\n",
              " ('atualizar', 0.021179338471183872),\n",
              " ('pedido', 0.019306669862288222),\n",
              " ('chegar', 0.018046828679699985),\n",
              " ('saber', 0.017934439628813588),\n",
              " ('local', 0.01761753023913906),\n",
              " ('postar', 0.01659683681921582)]"
            ]
          },
          "metadata": {},
          "execution_count": 288
        }
      ]
    },
    {
      "cell_type": "markdown",
      "source": [
        "### **Hiperparameter optimization**"
      ],
      "metadata": {
        "id": "f3Q_mQRNPRhr"
      }
    },
    {
      "cell_type": "code",
      "source": [
        "%%capture\n",
        "!pip install optuna\n",
        "!pip install hdbscan\n",
        "!pip install umap-learn"
      ],
      "metadata": {
        "id": "5vxgob5fPpc1"
      },
      "execution_count": 238,
      "outputs": []
    },
    {
      "cell_type": "code",
      "source": [
        "import json\n",
        "import optuna\n",
        "from hdbscan import HDBSCAN\n",
        "from umap import UMAP\n",
        "from sklearn.feature_extraction.text import CountVectorizer\n",
        "from bertopic.vectorizers import ClassTfidfTransformer\n",
        "import ast"
      ],
      "metadata": {
        "id": "qQOTWqh-PTwV"
      },
      "execution_count": 239,
      "outputs": []
    },
    {
      "cell_type": "code",
      "source": [
        "def save_documents(model, corpus, trial, reduced):\n",
        "  fig = topic_model.visualize_documents(corpus, hide_document_hover=True, hide_annotations=True)\n",
        "\n",
        "  # Set the path to save \n",
        "  path = '/content/Topic-Modeling-Reclame-Aqui/results/documents_n_topics/'\n",
        "\n",
        "  if reduced:\n",
        "    path = path + 'reduced/'\n",
        "\n",
        "  # Use makedirs() to create a new directory if it does not exists\n",
        "  if not os.path.exists(path):\n",
        "    os.makedirs(path)\n",
        "\n",
        "  fig.write_image(path + f\"document_n_topics_trial_{trial}.png\", format=\"png\")"
      ],
      "metadata": {
        "id": "O-l1u6wucN1m"
      },
      "execution_count": 240,
      "outputs": []
    },
    {
      "cell_type": "code",
      "source": [
        "def save_topics(model, trial, reduced=False):\n",
        "  fig = model.visualize_topics()\n",
        "\n",
        "  # Set the path to save \n",
        "  path = '/content/Topic-Modeling-Reclame-Aqui/results/intertopic_distance_map/'\n",
        "\n",
        "  if reduced:\n",
        "    path = path + 'reduced/'\n",
        "\n",
        "  # Use makedirs() to create a new directory if it does not exists\n",
        "  if not os.path.exists(path):\n",
        "    os.makedirs(path)\n",
        "\n",
        "  fig.write_image(path + f\"intertopic_distance_map_trial_{trial}.png\", format=\"png\")"
      ],
      "metadata": {
        "id": "zEr6GcxHZptw"
      },
      "execution_count": 241,
      "outputs": []
    },
    {
      "cell_type": "code",
      "source": [
        "def save_hierarchy(model, trial, reduced=False):\n",
        "  fig = model.visualize_hierarchy()\n",
        "\n",
        "  # Set the path to save \n",
        "  path = '/content/Topic-Modeling-Reclame-Aqui/results/hierarchical_clustering/'\n",
        "\n",
        "  if reduced:\n",
        "    path = path + 'reduced/'\n",
        "\n",
        "  # Use makedirs() to create a new directory if it does not exists\n",
        "  if not os.path.exists(path):\n",
        "    os.makedirs(path)\n",
        "\n",
        "  fig.write_image(path + f\"hierarchical_clustering_trial_{trial}.png\", format=\"png\")"
      ],
      "metadata": {
        "id": "9XqbXn0KZ3r1"
      },
      "execution_count": 242,
      "outputs": []
    },
    {
      "cell_type": "code",
      "source": [
        "def save_top_words_scores(model, trial, reduced=False):\n",
        "  fig = model.visualize_barchart()\n",
        "\n",
        "  # Set the path to save \n",
        "  path = '/content/Topic-Modeling-Reclame-Aqui/results/top_words_scores/'\n",
        "\n",
        "  if reduced:\n",
        "    path = path + 'reduced/'\n",
        "\n",
        "  # Use makedirs() to create a new directory if it does not exists\n",
        "  if not os.path.exists(path):\n",
        "    os.makedirs(path)\n",
        "\n",
        "  fig.write_image(path + f\"top_words_scores_trial_{trial}.png\", format=\"png\")"
      ],
      "metadata": {
        "id": "A_21t9rmZ4Pr"
      },
      "execution_count": 243,
      "outputs": []
    },
    {
      "cell_type": "code",
      "source": [
        "def save_similarity_matrix(model, trial, reduced=False):\n",
        "  fig = model.visualize_heatmap()\n",
        "\n",
        "  # Set the path to save \n",
        "  path = '/content/Topic-Modeling-Reclame-Aqui/results/similarity_matrix/'\n",
        "\n",
        "  if reduced:\n",
        "    path = path + 'reduced/'\n",
        "\n",
        "  # Use makedirs() to create a new directory if it does not exists\n",
        "  if not os.path.exists(path):\n",
        "    os.makedirs(path)\n",
        "\n",
        "  fig.write_image(path + f\"similarity_matrix_trial_{trial}.png\", format=\"png\")"
      ],
      "metadata": {
        "id": "lTV5l7q7Z45m"
      },
      "execution_count": 244,
      "outputs": []
    },
    {
      "cell_type": "code",
      "source": [
        "def save_term_rank(model, trial, reduced=False):\n",
        "  fig = model.visualize_term_rank()\n",
        "\n",
        "  # Set the path to save \n",
        "  path = '/content/Topic-Modeling-Reclame-Aqui/results/term_score_decline_topic/'\n",
        "\n",
        "  if reduced:\n",
        "    path = path + 'reduced/'\n",
        "\n",
        "  # Use makedirs() to create a new directory if it does not exists\n",
        "  if not os.path.exists(path):\n",
        "    os.makedirs(path)\n",
        "\n",
        "  fig.write_image(path + f\"term_score_trial_{trial}.png\", format=\"png\")"
      ],
      "metadata": {
        "id": "Ag4Yv6r2bfeR"
      },
      "execution_count": 245,
      "outputs": []
    },
    {
      "cell_type": "code",
      "source": [
        "def save_hyperparameters(trial_params, label):\n",
        "  # Set the path to save \n",
        "  path = '/content/Topic-Modeling-Reclame-Aqui/results/hyperparameters/'\n",
        "\n",
        "  # Use makedirs() to create a new directory if it does not exists\n",
        "  if not os.path.exists(path):\n",
        "    os.makedirs(path)\n",
        "\n",
        "  with open(path + f\"hyperparameters_trial_{label}.json\", \"w\") as f:\n",
        "    f.write(json.dumps(trial_params))\n"
      ],
      "metadata": {
        "id": "3wuSDGh4dxlg"
      },
      "execution_count": 246,
      "outputs": []
    },
    {
      "cell_type": "code",
      "source": [
        "def optimizer(trial):\n",
        "\n",
        "  # BERTopic hyperparameters\n",
        "  top_n_words = trial.suggest_int('bertopic__top_n_words', 5, 10)\n",
        "  n_gram_range = ast.literal_eval(trial.suggest_categorical('bertopic__n_gram_range', ['(1,1)', '(1,2)', '(1,3)']))\n",
        "  min_topic_size = trial.suggest_int('bertopic__min_topic_size', 15, 20)\n",
        "  diversity = trial.suggest_int('bertopic__diversity', 0.1, 0.9)\n",
        "  outlier_threshold = trial.suggest_float('bertopic__outliers_threshold', 0.04, 0.09)\n",
        "  nr_topics = trial.suggest_int('bertopic__nr_topics', 12, 20)\n",
        "\n",
        "  # UMAP hyperparameters\n",
        "  n_neighbors = trial.suggest_int('umap__n_neighbors', 10, 20)\n",
        "  n_components = trial.suggest_int('umap__n_components', 2, 6)\n",
        "  metric = trial.suggest_categorical('umap__metric', ['cosine', 'euclidean'])\n",
        "  min_dist = trial.suggest_float('umap__min_dist', 0.1, 1.0)\n",
        "  spread = trial.suggest_float('umap__spread', 0.1, 1.0)\n",
        "\n",
        "  # HDBSCAN hyperprarameters\n",
        "  min_cluster_size = trial.suggest_int('hdbscan__min_cluster_size', 10, 20)\n",
        "  min_samples = trial.suggest_int('hdbscan__min_samples', 10, 20)\n",
        "  cluster_selection_epsilon = trial.suggest_float('hdbscan__cluster_selection_epsilon', 0.1, 1.0)\n",
        "\n",
        "  # CountVectorizer hyperparameters \n",
        "  max_features = trial.suggest_int('vectorizer__max_features', 3000, 6000)\n",
        "\n",
        "  # reduce the impact of frequent words.\n",
        "  ctfidf_model = ClassTfidfTransformer(reduce_frequent_words=True)\n",
        "\n",
        "  stop_words = nltk.corpus.stopwords.words('portuguese') + custom_stop_words\n",
        "  vectorizer_model = CountVectorizer(stop_words=stop_words, ngram_range=n_gram_range, max_features=max_features)\n",
        "\n",
        "  umap_model = UMAP(n_neighbors=n_neighbors, metric=metric, random_state=42)\n",
        "\n",
        "  hdbscan_model = HDBSCAN(min_cluster_size=min_cluster_size, prediction_data=True)\n",
        "\n",
        "  # create a new BERTopic model using multilingual option\n",
        "  model = BERTopic(language=\"multilingual\", \n",
        "                         calculate_probabilities=True, \n",
        "                         verbose=False,\n",
        "                         nr_topics='auto',\n",
        "                         top_n_words=top_n_words,\n",
        "                         n_gram_range=n_gram_range,\n",
        "                         min_topic_size=min_topic_size,\n",
        "                         diversity=diversity,\n",
        "                         umap_model=umap_model,\n",
        "                         hdbscan_model=hdbscan_model,\n",
        "                         vectorizer_model=vectorizer_model,\n",
        "                         ctfidf_model=ctfidf_model)\n",
        "  \n",
        "  label = trial.number\n",
        "  params = trial.params\n",
        "\n",
        "  # train model \n",
        "  topics, probs = model.fit_transform(corpus)\n",
        "\n",
        "  # save plots\n",
        "  save_topics(model, label, False)\n",
        "  save_documents(model, corpus, label, False)\n",
        "  save_hierarchy(model, label, False)\n",
        "  #save_similarity_matrix(model, label, False)\n",
        "  save_term_rank(model, label, False)\n",
        "  save_top_words_scores(model, label, False)\n",
        "\n",
        "  # reduce outliers\n",
        "  new_topics = model.reduce_outliers(corpus,\n",
        "                                     topics, \n",
        "                                     probabilities=probs,\n",
        "                                     strategy=\"probabilities\",\n",
        "                                     threshold=outlier_threshold)\n",
        "  model.update_topics(corpus, topics=new_topics)\n",
        "\n",
        "  # save plots after reducion\n",
        "  save_topics(model, label, True)\n",
        "  save_documents(model, corpus, label, True)\n",
        "  save_hierarchy(model, label, True)\n",
        "  #save_similarity_matrix(model, label, True)\n",
        "  save_term_rank(model, label, True)\n",
        "  save_top_words_scores(model, label, True)\n",
        "\n",
        "  # save hyperparameters\n",
        "  save_hyperparameters(params, label)\n",
        "\n",
        "  # save model\n",
        "  path = '/content/Topic-Modeling-Reclame-Aqui/results/models/'\n",
        "\n",
        "  # Use makedirs() to create a new directory if it does not exists\n",
        "  if not os.path.exists(path):\n",
        "    os.makedirs(path)\n",
        "\n",
        "  model.save(path + f\"model_trial_{label}\")\n",
        "\n",
        "  return 0"
      ],
      "metadata": {
        "id": "O87BZ5kyQEvZ"
      },
      "execution_count": 306,
      "outputs": []
    },
    {
      "cell_type": "code",
      "source": [
        "%%time\n",
        "study = optuna.create_study(study_name='Bertopic')\n",
        "study.optimize(optimizer, n_trials=2)"
      ],
      "metadata": {
        "colab": {
          "base_uri": "https://localhost:8080/"
        },
        "id": "57mnK6MfYAp4",
        "outputId": "b6949e2e-01e6-4d6a-8c4f-954eb5b207df"
      },
      "execution_count": 307,
      "outputs": [
        {
          "output_type": "stream",
          "name": "stderr",
          "text": [
            "\u001b[32m[I 2023-01-05 04:40:19,493]\u001b[0m A new study created in memory with name: Bertopic\u001b[0m\n",
            "2023-01-05 04:40:37,903 - BERTopic - Transformed documents to Embeddings\n",
            "2023-01-05 04:40:52,497 - BERTopic - Reduced dimensionality\n",
            "2023-01-05 04:40:54,519 - BERTopic - Clustered reduced embeddings\n",
            "2023-01-05 04:40:58,673 - BERTopic - Reduced number of topics from 38 to 28\n",
            "\u001b[32m[I 2023-01-05 04:42:09,357]\u001b[0m Trial 0 finished with value: 0.0 and parameters: {'bertopic__top_n_words': 7, 'bertopic__n_gram_range': '(1,1)', 'bertopic__min_topic_size': 20, 'bertopic__diversity': 0, 'bertopic__outliers_threshold': 0.057618081716460476, 'bertopic__nr_topics': 19, 'umap__n_neighbors': 20, 'umap__n_components': 2, 'umap__metric': 'cosine', 'umap__min_dist': 0.5932562838223142, 'umap__spread': 0.36796133928601804, 'hdbscan__min_cluster_size': 12, 'hdbscan__min_samples': 20, 'hdbscan__cluster_selection_epsilon': 0.36029414774524793, 'vectorizer__max_features': 4857}. Best is trial 0 with value: 0.0.\u001b[0m\n",
            "2023-01-05 04:42:29,527 - BERTopic - Transformed documents to Embeddings\n",
            "2023-01-05 04:42:48,325 - BERTopic - Reduced dimensionality\n",
            "2023-01-05 04:42:58,775 - BERTopic - Clustered reduced embeddings\n",
            "2023-01-05 04:43:09,433 - BERTopic - Reduced number of topics from 107 to 26\n",
            "\u001b[32m[I 2023-01-05 04:44:31,023]\u001b[0m Trial 1 finished with value: 0.0 and parameters: {'bertopic__top_n_words': 9, 'bertopic__n_gram_range': '(1,2)', 'bertopic__min_topic_size': 19, 'bertopic__diversity': 0, 'bertopic__outliers_threshold': 0.0806261666169043, 'bertopic__nr_topics': 17, 'umap__n_neighbors': 11, 'umap__n_components': 5, 'umap__metric': 'euclidean', 'umap__min_dist': 0.30071760517011514, 'umap__spread': 0.3386997984595459, 'hdbscan__min_cluster_size': 11, 'hdbscan__min_samples': 16, 'hdbscan__cluster_selection_epsilon': 0.10266738562018078, 'vectorizer__max_features': 5995}. Best is trial 0 with value: 0.0.\u001b[0m\n"
          ]
        },
        {
          "output_type": "stream",
          "name": "stdout",
          "text": [
            "CPU times: user 4min 23s, sys: 10.6 s, total: 4min 33s\n",
            "Wall time: 4min 11s\n"
          ]
        }
      ]
    },
    {
      "cell_type": "markdown",
      "source": [
        "#### **Merge of similar topics**"
      ],
      "metadata": {
        "id": "kmSbzWH0gJHM"
      }
    },
    {
      "cell_type": "code",
      "source": [
        "# TODO: select the best model and merge similar topic and save final model\n",
        "\n",
        "#topic_model = BERTopic.load(\"best_model\")"
      ],
      "metadata": {
        "id": "OWI9jDFYgTLW"
      },
      "execution_count": 249,
      "outputs": []
    },
    {
      "cell_type": "code",
      "source": [
        "##########33!rm -rf /content/Topic-Modeling-Reclame-Aqui/results"
      ],
      "metadata": {
        "id": "6f8Adw95AVkP"
      },
      "execution_count": 250,
      "outputs": []
    }
  ]
}