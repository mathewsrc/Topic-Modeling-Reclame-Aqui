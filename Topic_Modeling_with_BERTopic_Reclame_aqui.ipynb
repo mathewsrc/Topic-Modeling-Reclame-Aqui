{
  "nbformat": 4,
  "nbformat_minor": 0,
  "metadata": {
    "colab": {
      "provenance": [],
      "include_colab_link": true
    },
    "kernelspec": {
      "name": "python3",
      "display_name": "Python 3"
    },
    "language_info": {
      "name": "python"
    },
    "gpuClass": "standard",
    "widgets": {
      "application/vnd.jupyter.widget-state+json": {
        "bd43b16346664c668f472a3ef7df296f": {
          "model_module": "@jupyter-widgets/controls",
          "model_name": "HBoxModel",
          "model_module_version": "1.5.0",
          "state": {
            "_dom_classes": [],
            "_model_module": "@jupyter-widgets/controls",
            "_model_module_version": "1.5.0",
            "_model_name": "HBoxModel",
            "_view_count": null,
            "_view_module": "@jupyter-widgets/controls",
            "_view_module_version": "1.5.0",
            "_view_name": "HBoxView",
            "box_style": "",
            "children": [
              "IPY_MODEL_9dba3ef2b0a84f1cbec42f9679802adb",
              "IPY_MODEL_fd9e0fd689944df0aa037fefa1b2c38b",
              "IPY_MODEL_3e11447f242a4be29c5e67b81c20503c"
            ],
            "layout": "IPY_MODEL_3ddc52206b284db9adbad4b8327b09fa"
          }
        },
        "9dba3ef2b0a84f1cbec42f9679802adb": {
          "model_module": "@jupyter-widgets/controls",
          "model_name": "HTMLModel",
          "model_module_version": "1.5.0",
          "state": {
            "_dom_classes": [],
            "_model_module": "@jupyter-widgets/controls",
            "_model_module_version": "1.5.0",
            "_model_name": "HTMLModel",
            "_view_count": null,
            "_view_module": "@jupyter-widgets/controls",
            "_view_module_version": "1.5.0",
            "_view_name": "HTMLView",
            "description": "",
            "description_tooltip": null,
            "layout": "IPY_MODEL_fad202f64f134dddaeed9e724c6c225c",
            "placeholder": "​",
            "style": "IPY_MODEL_9371b0d37e324833a780cea3f93f66ec",
            "value": "Downloading: 100%"
          }
        },
        "fd9e0fd689944df0aa037fefa1b2c38b": {
          "model_module": "@jupyter-widgets/controls",
          "model_name": "FloatProgressModel",
          "model_module_version": "1.5.0",
          "state": {
            "_dom_classes": [],
            "_model_module": "@jupyter-widgets/controls",
            "_model_module_version": "1.5.0",
            "_model_name": "FloatProgressModel",
            "_view_count": null,
            "_view_module": "@jupyter-widgets/controls",
            "_view_module_version": "1.5.0",
            "_view_name": "ProgressView",
            "bar_style": "success",
            "description": "",
            "description_tooltip": null,
            "layout": "IPY_MODEL_fcee3d629ee343c892ba1edac94602ae",
            "max": 968,
            "min": 0,
            "orientation": "horizontal",
            "style": "IPY_MODEL_a2419eca23b5403db6e5ec3a89519c83",
            "value": 968
          }
        },
        "3e11447f242a4be29c5e67b81c20503c": {
          "model_module": "@jupyter-widgets/controls",
          "model_name": "HTMLModel",
          "model_module_version": "1.5.0",
          "state": {
            "_dom_classes": [],
            "_model_module": "@jupyter-widgets/controls",
            "_model_module_version": "1.5.0",
            "_model_name": "HTMLModel",
            "_view_count": null,
            "_view_module": "@jupyter-widgets/controls",
            "_view_module_version": "1.5.0",
            "_view_name": "HTMLView",
            "description": "",
            "description_tooltip": null,
            "layout": "IPY_MODEL_c67856ec170145fcac9a13a2b672c145",
            "placeholder": "​",
            "style": "IPY_MODEL_ca46181a8ff14b8b844e1647f16eb46b",
            "value": " 968/968 [00:00&lt;00:00, 5.16kB/s]"
          }
        },
        "3ddc52206b284db9adbad4b8327b09fa": {
          "model_module": "@jupyter-widgets/base",
          "model_name": "LayoutModel",
          "model_module_version": "1.2.0",
          "state": {
            "_model_module": "@jupyter-widgets/base",
            "_model_module_version": "1.2.0",
            "_model_name": "LayoutModel",
            "_view_count": null,
            "_view_module": "@jupyter-widgets/base",
            "_view_module_version": "1.2.0",
            "_view_name": "LayoutView",
            "align_content": null,
            "align_items": null,
            "align_self": null,
            "border": null,
            "bottom": null,
            "display": null,
            "flex": null,
            "flex_flow": null,
            "grid_area": null,
            "grid_auto_columns": null,
            "grid_auto_flow": null,
            "grid_auto_rows": null,
            "grid_column": null,
            "grid_gap": null,
            "grid_row": null,
            "grid_template_areas": null,
            "grid_template_columns": null,
            "grid_template_rows": null,
            "height": null,
            "justify_content": null,
            "justify_items": null,
            "left": null,
            "margin": null,
            "max_height": null,
            "max_width": null,
            "min_height": null,
            "min_width": null,
            "object_fit": null,
            "object_position": null,
            "order": null,
            "overflow": null,
            "overflow_x": null,
            "overflow_y": null,
            "padding": null,
            "right": null,
            "top": null,
            "visibility": null,
            "width": null
          }
        },
        "fad202f64f134dddaeed9e724c6c225c": {
          "model_module": "@jupyter-widgets/base",
          "model_name": "LayoutModel",
          "model_module_version": "1.2.0",
          "state": {
            "_model_module": "@jupyter-widgets/base",
            "_model_module_version": "1.2.0",
            "_model_name": "LayoutModel",
            "_view_count": null,
            "_view_module": "@jupyter-widgets/base",
            "_view_module_version": "1.2.0",
            "_view_name": "LayoutView",
            "align_content": null,
            "align_items": null,
            "align_self": null,
            "border": null,
            "bottom": null,
            "display": null,
            "flex": null,
            "flex_flow": null,
            "grid_area": null,
            "grid_auto_columns": null,
            "grid_auto_flow": null,
            "grid_auto_rows": null,
            "grid_column": null,
            "grid_gap": null,
            "grid_row": null,
            "grid_template_areas": null,
            "grid_template_columns": null,
            "grid_template_rows": null,
            "height": null,
            "justify_content": null,
            "justify_items": null,
            "left": null,
            "margin": null,
            "max_height": null,
            "max_width": null,
            "min_height": null,
            "min_width": null,
            "object_fit": null,
            "object_position": null,
            "order": null,
            "overflow": null,
            "overflow_x": null,
            "overflow_y": null,
            "padding": null,
            "right": null,
            "top": null,
            "visibility": null,
            "width": null
          }
        },
        "9371b0d37e324833a780cea3f93f66ec": {
          "model_module": "@jupyter-widgets/controls",
          "model_name": "DescriptionStyleModel",
          "model_module_version": "1.5.0",
          "state": {
            "_model_module": "@jupyter-widgets/controls",
            "_model_module_version": "1.5.0",
            "_model_name": "DescriptionStyleModel",
            "_view_count": null,
            "_view_module": "@jupyter-widgets/base",
            "_view_module_version": "1.2.0",
            "_view_name": "StyleView",
            "description_width": ""
          }
        },
        "fcee3d629ee343c892ba1edac94602ae": {
          "model_module": "@jupyter-widgets/base",
          "model_name": "LayoutModel",
          "model_module_version": "1.2.0",
          "state": {
            "_model_module": "@jupyter-widgets/base",
            "_model_module_version": "1.2.0",
            "_model_name": "LayoutModel",
            "_view_count": null,
            "_view_module": "@jupyter-widgets/base",
            "_view_module_version": "1.2.0",
            "_view_name": "LayoutView",
            "align_content": null,
            "align_items": null,
            "align_self": null,
            "border": null,
            "bottom": null,
            "display": null,
            "flex": null,
            "flex_flow": null,
            "grid_area": null,
            "grid_auto_columns": null,
            "grid_auto_flow": null,
            "grid_auto_rows": null,
            "grid_column": null,
            "grid_gap": null,
            "grid_row": null,
            "grid_template_areas": null,
            "grid_template_columns": null,
            "grid_template_rows": null,
            "height": null,
            "justify_content": null,
            "justify_items": null,
            "left": null,
            "margin": null,
            "max_height": null,
            "max_width": null,
            "min_height": null,
            "min_width": null,
            "object_fit": null,
            "object_position": null,
            "order": null,
            "overflow": null,
            "overflow_x": null,
            "overflow_y": null,
            "padding": null,
            "right": null,
            "top": null,
            "visibility": null,
            "width": null
          }
        },
        "a2419eca23b5403db6e5ec3a89519c83": {
          "model_module": "@jupyter-widgets/controls",
          "model_name": "ProgressStyleModel",
          "model_module_version": "1.5.0",
          "state": {
            "_model_module": "@jupyter-widgets/controls",
            "_model_module_version": "1.5.0",
            "_model_name": "ProgressStyleModel",
            "_view_count": null,
            "_view_module": "@jupyter-widgets/base",
            "_view_module_version": "1.2.0",
            "_view_name": "StyleView",
            "bar_color": null,
            "description_width": ""
          }
        },
        "c67856ec170145fcac9a13a2b672c145": {
          "model_module": "@jupyter-widgets/base",
          "model_name": "LayoutModel",
          "model_module_version": "1.2.0",
          "state": {
            "_model_module": "@jupyter-widgets/base",
            "_model_module_version": "1.2.0",
            "_model_name": "LayoutModel",
            "_view_count": null,
            "_view_module": "@jupyter-widgets/base",
            "_view_module_version": "1.2.0",
            "_view_name": "LayoutView",
            "align_content": null,
            "align_items": null,
            "align_self": null,
            "border": null,
            "bottom": null,
            "display": null,
            "flex": null,
            "flex_flow": null,
            "grid_area": null,
            "grid_auto_columns": null,
            "grid_auto_flow": null,
            "grid_auto_rows": null,
            "grid_column": null,
            "grid_gap": null,
            "grid_row": null,
            "grid_template_areas": null,
            "grid_template_columns": null,
            "grid_template_rows": null,
            "height": null,
            "justify_content": null,
            "justify_items": null,
            "left": null,
            "margin": null,
            "max_height": null,
            "max_width": null,
            "min_height": null,
            "min_width": null,
            "object_fit": null,
            "object_position": null,
            "order": null,
            "overflow": null,
            "overflow_x": null,
            "overflow_y": null,
            "padding": null,
            "right": null,
            "top": null,
            "visibility": null,
            "width": null
          }
        },
        "ca46181a8ff14b8b844e1647f16eb46b": {
          "model_module": "@jupyter-widgets/controls",
          "model_name": "DescriptionStyleModel",
          "model_module_version": "1.5.0",
          "state": {
            "_model_module": "@jupyter-widgets/controls",
            "_model_module_version": "1.5.0",
            "_model_name": "DescriptionStyleModel",
            "_view_count": null,
            "_view_module": "@jupyter-widgets/base",
            "_view_module_version": "1.2.0",
            "_view_name": "StyleView",
            "description_width": ""
          }
        },
        "7a75eed8a7c642bfbb243af753a9bb73": {
          "model_module": "@jupyter-widgets/controls",
          "model_name": "HBoxModel",
          "model_module_version": "1.5.0",
          "state": {
            "_dom_classes": [],
            "_model_module": "@jupyter-widgets/controls",
            "_model_module_version": "1.5.0",
            "_model_name": "HBoxModel",
            "_view_count": null,
            "_view_module": "@jupyter-widgets/controls",
            "_view_module_version": "1.5.0",
            "_view_name": "HBoxView",
            "box_style": "",
            "children": [
              "IPY_MODEL_1f2ebd504c1743e59e1a53b1708cfa8b",
              "IPY_MODEL_a82640ffe97a4b979f1a0e40d9a7dc01",
              "IPY_MODEL_0e5ed97d148146d794914aaad51c75d6"
            ],
            "layout": "IPY_MODEL_6f42ed0dacb746e1912684e7489ada55"
          }
        },
        "1f2ebd504c1743e59e1a53b1708cfa8b": {
          "model_module": "@jupyter-widgets/controls",
          "model_name": "HTMLModel",
          "model_module_version": "1.5.0",
          "state": {
            "_dom_classes": [],
            "_model_module": "@jupyter-widgets/controls",
            "_model_module_version": "1.5.0",
            "_model_name": "HTMLModel",
            "_view_count": null,
            "_view_module": "@jupyter-widgets/controls",
            "_view_module_version": "1.5.0",
            "_view_name": "HTMLView",
            "description": "",
            "description_tooltip": null,
            "layout": "IPY_MODEL_bb48ab05d88c40dab84acaf7d7544b12",
            "placeholder": "​",
            "style": "IPY_MODEL_0daad72322a8401e9dc58bb16dae77d9",
            "value": "Downloading: 100%"
          }
        },
        "a82640ffe97a4b979f1a0e40d9a7dc01": {
          "model_module": "@jupyter-widgets/controls",
          "model_name": "FloatProgressModel",
          "model_module_version": "1.5.0",
          "state": {
            "_dom_classes": [],
            "_model_module": "@jupyter-widgets/controls",
            "_model_module_version": "1.5.0",
            "_model_name": "FloatProgressModel",
            "_view_count": null,
            "_view_module": "@jupyter-widgets/controls",
            "_view_module_version": "1.5.0",
            "_view_name": "ProgressView",
            "bar_style": "success",
            "description": "",
            "description_tooltip": null,
            "layout": "IPY_MODEL_c3bbaa1666714633b1961624b793f8a3",
            "max": 190,
            "min": 0,
            "orientation": "horizontal",
            "style": "IPY_MODEL_586392f3b7f74a739a08f5638d47c927",
            "value": 190
          }
        },
        "0e5ed97d148146d794914aaad51c75d6": {
          "model_module": "@jupyter-widgets/controls",
          "model_name": "HTMLModel",
          "model_module_version": "1.5.0",
          "state": {
            "_dom_classes": [],
            "_model_module": "@jupyter-widgets/controls",
            "_model_module_version": "1.5.0",
            "_model_name": "HTMLModel",
            "_view_count": null,
            "_view_module": "@jupyter-widgets/controls",
            "_view_module_version": "1.5.0",
            "_view_name": "HTMLView",
            "description": "",
            "description_tooltip": null,
            "layout": "IPY_MODEL_5e5585833f8e493c92ba695085fac1a6",
            "placeholder": "​",
            "style": "IPY_MODEL_2d90a93d3cee4652a6daaeb58204f05c",
            "value": " 190/190 [00:00&lt;00:00, 1.10kB/s]"
          }
        },
        "6f42ed0dacb746e1912684e7489ada55": {
          "model_module": "@jupyter-widgets/base",
          "model_name": "LayoutModel",
          "model_module_version": "1.2.0",
          "state": {
            "_model_module": "@jupyter-widgets/base",
            "_model_module_version": "1.2.0",
            "_model_name": "LayoutModel",
            "_view_count": null,
            "_view_module": "@jupyter-widgets/base",
            "_view_module_version": "1.2.0",
            "_view_name": "LayoutView",
            "align_content": null,
            "align_items": null,
            "align_self": null,
            "border": null,
            "bottom": null,
            "display": null,
            "flex": null,
            "flex_flow": null,
            "grid_area": null,
            "grid_auto_columns": null,
            "grid_auto_flow": null,
            "grid_auto_rows": null,
            "grid_column": null,
            "grid_gap": null,
            "grid_row": null,
            "grid_template_areas": null,
            "grid_template_columns": null,
            "grid_template_rows": null,
            "height": null,
            "justify_content": null,
            "justify_items": null,
            "left": null,
            "margin": null,
            "max_height": null,
            "max_width": null,
            "min_height": null,
            "min_width": null,
            "object_fit": null,
            "object_position": null,
            "order": null,
            "overflow": null,
            "overflow_x": null,
            "overflow_y": null,
            "padding": null,
            "right": null,
            "top": null,
            "visibility": null,
            "width": null
          }
        },
        "bb48ab05d88c40dab84acaf7d7544b12": {
          "model_module": "@jupyter-widgets/base",
          "model_name": "LayoutModel",
          "model_module_version": "1.2.0",
          "state": {
            "_model_module": "@jupyter-widgets/base",
            "_model_module_version": "1.2.0",
            "_model_name": "LayoutModel",
            "_view_count": null,
            "_view_module": "@jupyter-widgets/base",
            "_view_module_version": "1.2.0",
            "_view_name": "LayoutView",
            "align_content": null,
            "align_items": null,
            "align_self": null,
            "border": null,
            "bottom": null,
            "display": null,
            "flex": null,
            "flex_flow": null,
            "grid_area": null,
            "grid_auto_columns": null,
            "grid_auto_flow": null,
            "grid_auto_rows": null,
            "grid_column": null,
            "grid_gap": null,
            "grid_row": null,
            "grid_template_areas": null,
            "grid_template_columns": null,
            "grid_template_rows": null,
            "height": null,
            "justify_content": null,
            "justify_items": null,
            "left": null,
            "margin": null,
            "max_height": null,
            "max_width": null,
            "min_height": null,
            "min_width": null,
            "object_fit": null,
            "object_position": null,
            "order": null,
            "overflow": null,
            "overflow_x": null,
            "overflow_y": null,
            "padding": null,
            "right": null,
            "top": null,
            "visibility": null,
            "width": null
          }
        },
        "0daad72322a8401e9dc58bb16dae77d9": {
          "model_module": "@jupyter-widgets/controls",
          "model_name": "DescriptionStyleModel",
          "model_module_version": "1.5.0",
          "state": {
            "_model_module": "@jupyter-widgets/controls",
            "_model_module_version": "1.5.0",
            "_model_name": "DescriptionStyleModel",
            "_view_count": null,
            "_view_module": "@jupyter-widgets/base",
            "_view_module_version": "1.2.0",
            "_view_name": "StyleView",
            "description_width": ""
          }
        },
        "c3bbaa1666714633b1961624b793f8a3": {
          "model_module": "@jupyter-widgets/base",
          "model_name": "LayoutModel",
          "model_module_version": "1.2.0",
          "state": {
            "_model_module": "@jupyter-widgets/base",
            "_model_module_version": "1.2.0",
            "_model_name": "LayoutModel",
            "_view_count": null,
            "_view_module": "@jupyter-widgets/base",
            "_view_module_version": "1.2.0",
            "_view_name": "LayoutView",
            "align_content": null,
            "align_items": null,
            "align_self": null,
            "border": null,
            "bottom": null,
            "display": null,
            "flex": null,
            "flex_flow": null,
            "grid_area": null,
            "grid_auto_columns": null,
            "grid_auto_flow": null,
            "grid_auto_rows": null,
            "grid_column": null,
            "grid_gap": null,
            "grid_row": null,
            "grid_template_areas": null,
            "grid_template_columns": null,
            "grid_template_rows": null,
            "height": null,
            "justify_content": null,
            "justify_items": null,
            "left": null,
            "margin": null,
            "max_height": null,
            "max_width": null,
            "min_height": null,
            "min_width": null,
            "object_fit": null,
            "object_position": null,
            "order": null,
            "overflow": null,
            "overflow_x": null,
            "overflow_y": null,
            "padding": null,
            "right": null,
            "top": null,
            "visibility": null,
            "width": null
          }
        },
        "586392f3b7f74a739a08f5638d47c927": {
          "model_module": "@jupyter-widgets/controls",
          "model_name": "ProgressStyleModel",
          "model_module_version": "1.5.0",
          "state": {
            "_model_module": "@jupyter-widgets/controls",
            "_model_module_version": "1.5.0",
            "_model_name": "ProgressStyleModel",
            "_view_count": null,
            "_view_module": "@jupyter-widgets/base",
            "_view_module_version": "1.2.0",
            "_view_name": "StyleView",
            "bar_color": null,
            "description_width": ""
          }
        },
        "5e5585833f8e493c92ba695085fac1a6": {
          "model_module": "@jupyter-widgets/base",
          "model_name": "LayoutModel",
          "model_module_version": "1.2.0",
          "state": {
            "_model_module": "@jupyter-widgets/base",
            "_model_module_version": "1.2.0",
            "_model_name": "LayoutModel",
            "_view_count": null,
            "_view_module": "@jupyter-widgets/base",
            "_view_module_version": "1.2.0",
            "_view_name": "LayoutView",
            "align_content": null,
            "align_items": null,
            "align_self": null,
            "border": null,
            "bottom": null,
            "display": null,
            "flex": null,
            "flex_flow": null,
            "grid_area": null,
            "grid_auto_columns": null,
            "grid_auto_flow": null,
            "grid_auto_rows": null,
            "grid_column": null,
            "grid_gap": null,
            "grid_row": null,
            "grid_template_areas": null,
            "grid_template_columns": null,
            "grid_template_rows": null,
            "height": null,
            "justify_content": null,
            "justify_items": null,
            "left": null,
            "margin": null,
            "max_height": null,
            "max_width": null,
            "min_height": null,
            "min_width": null,
            "object_fit": null,
            "object_position": null,
            "order": null,
            "overflow": null,
            "overflow_x": null,
            "overflow_y": null,
            "padding": null,
            "right": null,
            "top": null,
            "visibility": null,
            "width": null
          }
        },
        "2d90a93d3cee4652a6daaeb58204f05c": {
          "model_module": "@jupyter-widgets/controls",
          "model_name": "DescriptionStyleModel",
          "model_module_version": "1.5.0",
          "state": {
            "_model_module": "@jupyter-widgets/controls",
            "_model_module_version": "1.5.0",
            "_model_name": "DescriptionStyleModel",
            "_view_count": null,
            "_view_module": "@jupyter-widgets/base",
            "_view_module_version": "1.2.0",
            "_view_name": "StyleView",
            "description_width": ""
          }
        },
        "5ef361bc4c684c34bb6e74ebaf857b4d": {
          "model_module": "@jupyter-widgets/controls",
          "model_name": "HBoxModel",
          "model_module_version": "1.5.0",
          "state": {
            "_dom_classes": [],
            "_model_module": "@jupyter-widgets/controls",
            "_model_module_version": "1.5.0",
            "_model_name": "HBoxModel",
            "_view_count": null,
            "_view_module": "@jupyter-widgets/controls",
            "_view_module_version": "1.5.0",
            "_view_name": "HBoxView",
            "box_style": "",
            "children": [
              "IPY_MODEL_0c7ca7dc45aa48d69466cc893915ecb0",
              "IPY_MODEL_d84599d2d6b14ad388250e5a110c5fad",
              "IPY_MODEL_0fc4e742f5994c3dbc59f9955ed77b3b"
            ],
            "layout": "IPY_MODEL_80412eb1e279429cb20bf711c4e52721"
          }
        },
        "0c7ca7dc45aa48d69466cc893915ecb0": {
          "model_module": "@jupyter-widgets/controls",
          "model_name": "HTMLModel",
          "model_module_version": "1.5.0",
          "state": {
            "_dom_classes": [],
            "_model_module": "@jupyter-widgets/controls",
            "_model_module_version": "1.5.0",
            "_model_name": "HTMLModel",
            "_view_count": null,
            "_view_module": "@jupyter-widgets/controls",
            "_view_module_version": "1.5.0",
            "_view_name": "HTMLView",
            "description": "",
            "description_tooltip": null,
            "layout": "IPY_MODEL_ac2c0af3580e4d7b83eddaad0bce9125",
            "placeholder": "​",
            "style": "IPY_MODEL_abfef3577c34470c8566b54ff71b817d",
            "value": "Downloading: 100%"
          }
        },
        "d84599d2d6b14ad388250e5a110c5fad": {
          "model_module": "@jupyter-widgets/controls",
          "model_name": "FloatProgressModel",
          "model_module_version": "1.5.0",
          "state": {
            "_dom_classes": [],
            "_model_module": "@jupyter-widgets/controls",
            "_model_module_version": "1.5.0",
            "_model_name": "FloatProgressModel",
            "_view_count": null,
            "_view_module": "@jupyter-widgets/controls",
            "_view_module_version": "1.5.0",
            "_view_name": "ProgressView",
            "bar_style": "success",
            "description": "",
            "description_tooltip": null,
            "layout": "IPY_MODEL_745ff7697e084199b876be26ed8f0bdb",
            "max": 3786,
            "min": 0,
            "orientation": "horizontal",
            "style": "IPY_MODEL_9c4a0ac2898446e1a6c4171ceb10e57d",
            "value": 3786
          }
        },
        "0fc4e742f5994c3dbc59f9955ed77b3b": {
          "model_module": "@jupyter-widgets/controls",
          "model_name": "HTMLModel",
          "model_module_version": "1.5.0",
          "state": {
            "_dom_classes": [],
            "_model_module": "@jupyter-widgets/controls",
            "_model_module_version": "1.5.0",
            "_model_name": "HTMLModel",
            "_view_count": null,
            "_view_module": "@jupyter-widgets/controls",
            "_view_module_version": "1.5.0",
            "_view_name": "HTMLView",
            "description": "",
            "description_tooltip": null,
            "layout": "IPY_MODEL_11a7259bee844aa6b8e38722120925f7",
            "placeholder": "​",
            "style": "IPY_MODEL_6e1b841552ba4d2fb0758a1ad5566605",
            "value": " 3.79k/3.79k [00:00&lt;00:00, 5.68kB/s]"
          }
        },
        "80412eb1e279429cb20bf711c4e52721": {
          "model_module": "@jupyter-widgets/base",
          "model_name": "LayoutModel",
          "model_module_version": "1.2.0",
          "state": {
            "_model_module": "@jupyter-widgets/base",
            "_model_module_version": "1.2.0",
            "_model_name": "LayoutModel",
            "_view_count": null,
            "_view_module": "@jupyter-widgets/base",
            "_view_module_version": "1.2.0",
            "_view_name": "LayoutView",
            "align_content": null,
            "align_items": null,
            "align_self": null,
            "border": null,
            "bottom": null,
            "display": null,
            "flex": null,
            "flex_flow": null,
            "grid_area": null,
            "grid_auto_columns": null,
            "grid_auto_flow": null,
            "grid_auto_rows": null,
            "grid_column": null,
            "grid_gap": null,
            "grid_row": null,
            "grid_template_areas": null,
            "grid_template_columns": null,
            "grid_template_rows": null,
            "height": null,
            "justify_content": null,
            "justify_items": null,
            "left": null,
            "margin": null,
            "max_height": null,
            "max_width": null,
            "min_height": null,
            "min_width": null,
            "object_fit": null,
            "object_position": null,
            "order": null,
            "overflow": null,
            "overflow_x": null,
            "overflow_y": null,
            "padding": null,
            "right": null,
            "top": null,
            "visibility": null,
            "width": null
          }
        },
        "ac2c0af3580e4d7b83eddaad0bce9125": {
          "model_module": "@jupyter-widgets/base",
          "model_name": "LayoutModel",
          "model_module_version": "1.2.0",
          "state": {
            "_model_module": "@jupyter-widgets/base",
            "_model_module_version": "1.2.0",
            "_model_name": "LayoutModel",
            "_view_count": null,
            "_view_module": "@jupyter-widgets/base",
            "_view_module_version": "1.2.0",
            "_view_name": "LayoutView",
            "align_content": null,
            "align_items": null,
            "align_self": null,
            "border": null,
            "bottom": null,
            "display": null,
            "flex": null,
            "flex_flow": null,
            "grid_area": null,
            "grid_auto_columns": null,
            "grid_auto_flow": null,
            "grid_auto_rows": null,
            "grid_column": null,
            "grid_gap": null,
            "grid_row": null,
            "grid_template_areas": null,
            "grid_template_columns": null,
            "grid_template_rows": null,
            "height": null,
            "justify_content": null,
            "justify_items": null,
            "left": null,
            "margin": null,
            "max_height": null,
            "max_width": null,
            "min_height": null,
            "min_width": null,
            "object_fit": null,
            "object_position": null,
            "order": null,
            "overflow": null,
            "overflow_x": null,
            "overflow_y": null,
            "padding": null,
            "right": null,
            "top": null,
            "visibility": null,
            "width": null
          }
        },
        "abfef3577c34470c8566b54ff71b817d": {
          "model_module": "@jupyter-widgets/controls",
          "model_name": "DescriptionStyleModel",
          "model_module_version": "1.5.0",
          "state": {
            "_model_module": "@jupyter-widgets/controls",
            "_model_module_version": "1.5.0",
            "_model_name": "DescriptionStyleModel",
            "_view_count": null,
            "_view_module": "@jupyter-widgets/base",
            "_view_module_version": "1.2.0",
            "_view_name": "StyleView",
            "description_width": ""
          }
        },
        "745ff7697e084199b876be26ed8f0bdb": {
          "model_module": "@jupyter-widgets/base",
          "model_name": "LayoutModel",
          "model_module_version": "1.2.0",
          "state": {
            "_model_module": "@jupyter-widgets/base",
            "_model_module_version": "1.2.0",
            "_model_name": "LayoutModel",
            "_view_count": null,
            "_view_module": "@jupyter-widgets/base",
            "_view_module_version": "1.2.0",
            "_view_name": "LayoutView",
            "align_content": null,
            "align_items": null,
            "align_self": null,
            "border": null,
            "bottom": null,
            "display": null,
            "flex": null,
            "flex_flow": null,
            "grid_area": null,
            "grid_auto_columns": null,
            "grid_auto_flow": null,
            "grid_auto_rows": null,
            "grid_column": null,
            "grid_gap": null,
            "grid_row": null,
            "grid_template_areas": null,
            "grid_template_columns": null,
            "grid_template_rows": null,
            "height": null,
            "justify_content": null,
            "justify_items": null,
            "left": null,
            "margin": null,
            "max_height": null,
            "max_width": null,
            "min_height": null,
            "min_width": null,
            "object_fit": null,
            "object_position": null,
            "order": null,
            "overflow": null,
            "overflow_x": null,
            "overflow_y": null,
            "padding": null,
            "right": null,
            "top": null,
            "visibility": null,
            "width": null
          }
        },
        "9c4a0ac2898446e1a6c4171ceb10e57d": {
          "model_module": "@jupyter-widgets/controls",
          "model_name": "ProgressStyleModel",
          "model_module_version": "1.5.0",
          "state": {
            "_model_module": "@jupyter-widgets/controls",
            "_model_module_version": "1.5.0",
            "_model_name": "ProgressStyleModel",
            "_view_count": null,
            "_view_module": "@jupyter-widgets/base",
            "_view_module_version": "1.2.0",
            "_view_name": "StyleView",
            "bar_color": null,
            "description_width": ""
          }
        },
        "11a7259bee844aa6b8e38722120925f7": {
          "model_module": "@jupyter-widgets/base",
          "model_name": "LayoutModel",
          "model_module_version": "1.2.0",
          "state": {
            "_model_module": "@jupyter-widgets/base",
            "_model_module_version": "1.2.0",
            "_model_name": "LayoutModel",
            "_view_count": null,
            "_view_module": "@jupyter-widgets/base",
            "_view_module_version": "1.2.0",
            "_view_name": "LayoutView",
            "align_content": null,
            "align_items": null,
            "align_self": null,
            "border": null,
            "bottom": null,
            "display": null,
            "flex": null,
            "flex_flow": null,
            "grid_area": null,
            "grid_auto_columns": null,
            "grid_auto_flow": null,
            "grid_auto_rows": null,
            "grid_column": null,
            "grid_gap": null,
            "grid_row": null,
            "grid_template_areas": null,
            "grid_template_columns": null,
            "grid_template_rows": null,
            "height": null,
            "justify_content": null,
            "justify_items": null,
            "left": null,
            "margin": null,
            "max_height": null,
            "max_width": null,
            "min_height": null,
            "min_width": null,
            "object_fit": null,
            "object_position": null,
            "order": null,
            "overflow": null,
            "overflow_x": null,
            "overflow_y": null,
            "padding": null,
            "right": null,
            "top": null,
            "visibility": null,
            "width": null
          }
        },
        "6e1b841552ba4d2fb0758a1ad5566605": {
          "model_module": "@jupyter-widgets/controls",
          "model_name": "DescriptionStyleModel",
          "model_module_version": "1.5.0",
          "state": {
            "_model_module": "@jupyter-widgets/controls",
            "_model_module_version": "1.5.0",
            "_model_name": "DescriptionStyleModel",
            "_view_count": null,
            "_view_module": "@jupyter-widgets/base",
            "_view_module_version": "1.2.0",
            "_view_name": "StyleView",
            "description_width": ""
          }
        },
        "37d81677f981449cb33cd0e0fa74a926": {
          "model_module": "@jupyter-widgets/controls",
          "model_name": "HBoxModel",
          "model_module_version": "1.5.0",
          "state": {
            "_dom_classes": [],
            "_model_module": "@jupyter-widgets/controls",
            "_model_module_version": "1.5.0",
            "_model_name": "HBoxModel",
            "_view_count": null,
            "_view_module": "@jupyter-widgets/controls",
            "_view_module_version": "1.5.0",
            "_view_name": "HBoxView",
            "box_style": "",
            "children": [
              "IPY_MODEL_abaec0df9f53436a8ae621dcba2742f5",
              "IPY_MODEL_90fe531e73814238a7af329c8689207f",
              "IPY_MODEL_3858879b14444e94a77198718211237a"
            ],
            "layout": "IPY_MODEL_3beaf8a679fe435583b558e48571ad9f"
          }
        },
        "abaec0df9f53436a8ae621dcba2742f5": {
          "model_module": "@jupyter-widgets/controls",
          "model_name": "HTMLModel",
          "model_module_version": "1.5.0",
          "state": {
            "_dom_classes": [],
            "_model_module": "@jupyter-widgets/controls",
            "_model_module_version": "1.5.0",
            "_model_name": "HTMLModel",
            "_view_count": null,
            "_view_module": "@jupyter-widgets/controls",
            "_view_module_version": "1.5.0",
            "_view_name": "HTMLView",
            "description": "",
            "description_tooltip": null,
            "layout": "IPY_MODEL_7163f79baa1948cda61ae2cae844ca3c",
            "placeholder": "​",
            "style": "IPY_MODEL_740078c31a384a61ba5055195b99e172",
            "value": "Downloading: 100%"
          }
        },
        "90fe531e73814238a7af329c8689207f": {
          "model_module": "@jupyter-widgets/controls",
          "model_name": "FloatProgressModel",
          "model_module_version": "1.5.0",
          "state": {
            "_dom_classes": [],
            "_model_module": "@jupyter-widgets/controls",
            "_model_module_version": "1.5.0",
            "_model_name": "FloatProgressModel",
            "_view_count": null,
            "_view_module": "@jupyter-widgets/controls",
            "_view_module_version": "1.5.0",
            "_view_name": "ProgressView",
            "bar_style": "success",
            "description": "",
            "description_tooltip": null,
            "layout": "IPY_MODEL_fa22339599964f78b8d399c4335b6a78",
            "max": 645,
            "min": 0,
            "orientation": "horizontal",
            "style": "IPY_MODEL_896b67fbde6d4e01ab66834580ba2641",
            "value": 645
          }
        },
        "3858879b14444e94a77198718211237a": {
          "model_module": "@jupyter-widgets/controls",
          "model_name": "HTMLModel",
          "model_module_version": "1.5.0",
          "state": {
            "_dom_classes": [],
            "_model_module": "@jupyter-widgets/controls",
            "_model_module_version": "1.5.0",
            "_model_name": "HTMLModel",
            "_view_count": null,
            "_view_module": "@jupyter-widgets/controls",
            "_view_module_version": "1.5.0",
            "_view_name": "HTMLView",
            "description": "",
            "description_tooltip": null,
            "layout": "IPY_MODEL_a8fcd469f8de435197f5031d3b5131fe",
            "placeholder": "​",
            "style": "IPY_MODEL_24cbbfd5ed354662b200606c3b79a067",
            "value": " 645/645 [00:00&lt;00:00, 3.38kB/s]"
          }
        },
        "3beaf8a679fe435583b558e48571ad9f": {
          "model_module": "@jupyter-widgets/base",
          "model_name": "LayoutModel",
          "model_module_version": "1.2.0",
          "state": {
            "_model_module": "@jupyter-widgets/base",
            "_model_module_version": "1.2.0",
            "_model_name": "LayoutModel",
            "_view_count": null,
            "_view_module": "@jupyter-widgets/base",
            "_view_module_version": "1.2.0",
            "_view_name": "LayoutView",
            "align_content": null,
            "align_items": null,
            "align_self": null,
            "border": null,
            "bottom": null,
            "display": null,
            "flex": null,
            "flex_flow": null,
            "grid_area": null,
            "grid_auto_columns": null,
            "grid_auto_flow": null,
            "grid_auto_rows": null,
            "grid_column": null,
            "grid_gap": null,
            "grid_row": null,
            "grid_template_areas": null,
            "grid_template_columns": null,
            "grid_template_rows": null,
            "height": null,
            "justify_content": null,
            "justify_items": null,
            "left": null,
            "margin": null,
            "max_height": null,
            "max_width": null,
            "min_height": null,
            "min_width": null,
            "object_fit": null,
            "object_position": null,
            "order": null,
            "overflow": null,
            "overflow_x": null,
            "overflow_y": null,
            "padding": null,
            "right": null,
            "top": null,
            "visibility": null,
            "width": null
          }
        },
        "7163f79baa1948cda61ae2cae844ca3c": {
          "model_module": "@jupyter-widgets/base",
          "model_name": "LayoutModel",
          "model_module_version": "1.2.0",
          "state": {
            "_model_module": "@jupyter-widgets/base",
            "_model_module_version": "1.2.0",
            "_model_name": "LayoutModel",
            "_view_count": null,
            "_view_module": "@jupyter-widgets/base",
            "_view_module_version": "1.2.0",
            "_view_name": "LayoutView",
            "align_content": null,
            "align_items": null,
            "align_self": null,
            "border": null,
            "bottom": null,
            "display": null,
            "flex": null,
            "flex_flow": null,
            "grid_area": null,
            "grid_auto_columns": null,
            "grid_auto_flow": null,
            "grid_auto_rows": null,
            "grid_column": null,
            "grid_gap": null,
            "grid_row": null,
            "grid_template_areas": null,
            "grid_template_columns": null,
            "grid_template_rows": null,
            "height": null,
            "justify_content": null,
            "justify_items": null,
            "left": null,
            "margin": null,
            "max_height": null,
            "max_width": null,
            "min_height": null,
            "min_width": null,
            "object_fit": null,
            "object_position": null,
            "order": null,
            "overflow": null,
            "overflow_x": null,
            "overflow_y": null,
            "padding": null,
            "right": null,
            "top": null,
            "visibility": null,
            "width": null
          }
        },
        "740078c31a384a61ba5055195b99e172": {
          "model_module": "@jupyter-widgets/controls",
          "model_name": "DescriptionStyleModel",
          "model_module_version": "1.5.0",
          "state": {
            "_model_module": "@jupyter-widgets/controls",
            "_model_module_version": "1.5.0",
            "_model_name": "DescriptionStyleModel",
            "_view_count": null,
            "_view_module": "@jupyter-widgets/base",
            "_view_module_version": "1.2.0",
            "_view_name": "StyleView",
            "description_width": ""
          }
        },
        "fa22339599964f78b8d399c4335b6a78": {
          "model_module": "@jupyter-widgets/base",
          "model_name": "LayoutModel",
          "model_module_version": "1.2.0",
          "state": {
            "_model_module": "@jupyter-widgets/base",
            "_model_module_version": "1.2.0",
            "_model_name": "LayoutModel",
            "_view_count": null,
            "_view_module": "@jupyter-widgets/base",
            "_view_module_version": "1.2.0",
            "_view_name": "LayoutView",
            "align_content": null,
            "align_items": null,
            "align_self": null,
            "border": null,
            "bottom": null,
            "display": null,
            "flex": null,
            "flex_flow": null,
            "grid_area": null,
            "grid_auto_columns": null,
            "grid_auto_flow": null,
            "grid_auto_rows": null,
            "grid_column": null,
            "grid_gap": null,
            "grid_row": null,
            "grid_template_areas": null,
            "grid_template_columns": null,
            "grid_template_rows": null,
            "height": null,
            "justify_content": null,
            "justify_items": null,
            "left": null,
            "margin": null,
            "max_height": null,
            "max_width": null,
            "min_height": null,
            "min_width": null,
            "object_fit": null,
            "object_position": null,
            "order": null,
            "overflow": null,
            "overflow_x": null,
            "overflow_y": null,
            "padding": null,
            "right": null,
            "top": null,
            "visibility": null,
            "width": null
          }
        },
        "896b67fbde6d4e01ab66834580ba2641": {
          "model_module": "@jupyter-widgets/controls",
          "model_name": "ProgressStyleModel",
          "model_module_version": "1.5.0",
          "state": {
            "_model_module": "@jupyter-widgets/controls",
            "_model_module_version": "1.5.0",
            "_model_name": "ProgressStyleModel",
            "_view_count": null,
            "_view_module": "@jupyter-widgets/base",
            "_view_module_version": "1.2.0",
            "_view_name": "StyleView",
            "bar_color": null,
            "description_width": ""
          }
        },
        "a8fcd469f8de435197f5031d3b5131fe": {
          "model_module": "@jupyter-widgets/base",
          "model_name": "LayoutModel",
          "model_module_version": "1.2.0",
          "state": {
            "_model_module": "@jupyter-widgets/base",
            "_model_module_version": "1.2.0",
            "_model_name": "LayoutModel",
            "_view_count": null,
            "_view_module": "@jupyter-widgets/base",
            "_view_module_version": "1.2.0",
            "_view_name": "LayoutView",
            "align_content": null,
            "align_items": null,
            "align_self": null,
            "border": null,
            "bottom": null,
            "display": null,
            "flex": null,
            "flex_flow": null,
            "grid_area": null,
            "grid_auto_columns": null,
            "grid_auto_flow": null,
            "grid_auto_rows": null,
            "grid_column": null,
            "grid_gap": null,
            "grid_row": null,
            "grid_template_areas": null,
            "grid_template_columns": null,
            "grid_template_rows": null,
            "height": null,
            "justify_content": null,
            "justify_items": null,
            "left": null,
            "margin": null,
            "max_height": null,
            "max_width": null,
            "min_height": null,
            "min_width": null,
            "object_fit": null,
            "object_position": null,
            "order": null,
            "overflow": null,
            "overflow_x": null,
            "overflow_y": null,
            "padding": null,
            "right": null,
            "top": null,
            "visibility": null,
            "width": null
          }
        },
        "24cbbfd5ed354662b200606c3b79a067": {
          "model_module": "@jupyter-widgets/controls",
          "model_name": "DescriptionStyleModel",
          "model_module_version": "1.5.0",
          "state": {
            "_model_module": "@jupyter-widgets/controls",
            "_model_module_version": "1.5.0",
            "_model_name": "DescriptionStyleModel",
            "_view_count": null,
            "_view_module": "@jupyter-widgets/base",
            "_view_module_version": "1.2.0",
            "_view_name": "StyleView",
            "description_width": ""
          }
        },
        "87604585d3b94a2d8540907fed593aa2": {
          "model_module": "@jupyter-widgets/controls",
          "model_name": "HBoxModel",
          "model_module_version": "1.5.0",
          "state": {
            "_dom_classes": [],
            "_model_module": "@jupyter-widgets/controls",
            "_model_module_version": "1.5.0",
            "_model_name": "HBoxModel",
            "_view_count": null,
            "_view_module": "@jupyter-widgets/controls",
            "_view_module_version": "1.5.0",
            "_view_name": "HBoxView",
            "box_style": "",
            "children": [
              "IPY_MODEL_0f8aaebb47e545ccbafe5ca95bbfc342",
              "IPY_MODEL_95b33979e5f24d719df64428f80313b5",
              "IPY_MODEL_dadb85c6045b4d07b16e7f87033d75af"
            ],
            "layout": "IPY_MODEL_65517ee5c61446799a17b9aecfd1e333"
          }
        },
        "0f8aaebb47e545ccbafe5ca95bbfc342": {
          "model_module": "@jupyter-widgets/controls",
          "model_name": "HTMLModel",
          "model_module_version": "1.5.0",
          "state": {
            "_dom_classes": [],
            "_model_module": "@jupyter-widgets/controls",
            "_model_module_version": "1.5.0",
            "_model_name": "HTMLModel",
            "_view_count": null,
            "_view_module": "@jupyter-widgets/controls",
            "_view_module_version": "1.5.0",
            "_view_name": "HTMLView",
            "description": "",
            "description_tooltip": null,
            "layout": "IPY_MODEL_caee9f1146af48cd80c84434eaf7b103",
            "placeholder": "​",
            "style": "IPY_MODEL_65b35f75be214ceaae9ab324fece55f6",
            "value": "Downloading: 100%"
          }
        },
        "95b33979e5f24d719df64428f80313b5": {
          "model_module": "@jupyter-widgets/controls",
          "model_name": "FloatProgressModel",
          "model_module_version": "1.5.0",
          "state": {
            "_dom_classes": [],
            "_model_module": "@jupyter-widgets/controls",
            "_model_module_version": "1.5.0",
            "_model_name": "FloatProgressModel",
            "_view_count": null,
            "_view_module": "@jupyter-widgets/controls",
            "_view_module_version": "1.5.0",
            "_view_name": "ProgressView",
            "bar_style": "success",
            "description": "",
            "description_tooltip": null,
            "layout": "IPY_MODEL_dcc724d465994278a79c841e0f8fce66",
            "max": 122,
            "min": 0,
            "orientation": "horizontal",
            "style": "IPY_MODEL_b1018d29e6eb4325ad161acf1cbeac30",
            "value": 122
          }
        },
        "dadb85c6045b4d07b16e7f87033d75af": {
          "model_module": "@jupyter-widgets/controls",
          "model_name": "HTMLModel",
          "model_module_version": "1.5.0",
          "state": {
            "_dom_classes": [],
            "_model_module": "@jupyter-widgets/controls",
            "_model_module_version": "1.5.0",
            "_model_name": "HTMLModel",
            "_view_count": null,
            "_view_module": "@jupyter-widgets/controls",
            "_view_module_version": "1.5.0",
            "_view_name": "HTMLView",
            "description": "",
            "description_tooltip": null,
            "layout": "IPY_MODEL_1dc9735245e04678a1aba60759bb6552",
            "placeholder": "​",
            "style": "IPY_MODEL_317ea661078945d88121c1d5651afc22",
            "value": " 122/122 [00:00&lt;00:00, 574B/s]"
          }
        },
        "65517ee5c61446799a17b9aecfd1e333": {
          "model_module": "@jupyter-widgets/base",
          "model_name": "LayoutModel",
          "model_module_version": "1.2.0",
          "state": {
            "_model_module": "@jupyter-widgets/base",
            "_model_module_version": "1.2.0",
            "_model_name": "LayoutModel",
            "_view_count": null,
            "_view_module": "@jupyter-widgets/base",
            "_view_module_version": "1.2.0",
            "_view_name": "LayoutView",
            "align_content": null,
            "align_items": null,
            "align_self": null,
            "border": null,
            "bottom": null,
            "display": null,
            "flex": null,
            "flex_flow": null,
            "grid_area": null,
            "grid_auto_columns": null,
            "grid_auto_flow": null,
            "grid_auto_rows": null,
            "grid_column": null,
            "grid_gap": null,
            "grid_row": null,
            "grid_template_areas": null,
            "grid_template_columns": null,
            "grid_template_rows": null,
            "height": null,
            "justify_content": null,
            "justify_items": null,
            "left": null,
            "margin": null,
            "max_height": null,
            "max_width": null,
            "min_height": null,
            "min_width": null,
            "object_fit": null,
            "object_position": null,
            "order": null,
            "overflow": null,
            "overflow_x": null,
            "overflow_y": null,
            "padding": null,
            "right": null,
            "top": null,
            "visibility": null,
            "width": null
          }
        },
        "caee9f1146af48cd80c84434eaf7b103": {
          "model_module": "@jupyter-widgets/base",
          "model_name": "LayoutModel",
          "model_module_version": "1.2.0",
          "state": {
            "_model_module": "@jupyter-widgets/base",
            "_model_module_version": "1.2.0",
            "_model_name": "LayoutModel",
            "_view_count": null,
            "_view_module": "@jupyter-widgets/base",
            "_view_module_version": "1.2.0",
            "_view_name": "LayoutView",
            "align_content": null,
            "align_items": null,
            "align_self": null,
            "border": null,
            "bottom": null,
            "display": null,
            "flex": null,
            "flex_flow": null,
            "grid_area": null,
            "grid_auto_columns": null,
            "grid_auto_flow": null,
            "grid_auto_rows": null,
            "grid_column": null,
            "grid_gap": null,
            "grid_row": null,
            "grid_template_areas": null,
            "grid_template_columns": null,
            "grid_template_rows": null,
            "height": null,
            "justify_content": null,
            "justify_items": null,
            "left": null,
            "margin": null,
            "max_height": null,
            "max_width": null,
            "min_height": null,
            "min_width": null,
            "object_fit": null,
            "object_position": null,
            "order": null,
            "overflow": null,
            "overflow_x": null,
            "overflow_y": null,
            "padding": null,
            "right": null,
            "top": null,
            "visibility": null,
            "width": null
          }
        },
        "65b35f75be214ceaae9ab324fece55f6": {
          "model_module": "@jupyter-widgets/controls",
          "model_name": "DescriptionStyleModel",
          "model_module_version": "1.5.0",
          "state": {
            "_model_module": "@jupyter-widgets/controls",
            "_model_module_version": "1.5.0",
            "_model_name": "DescriptionStyleModel",
            "_view_count": null,
            "_view_module": "@jupyter-widgets/base",
            "_view_module_version": "1.2.0",
            "_view_name": "StyleView",
            "description_width": ""
          }
        },
        "dcc724d465994278a79c841e0f8fce66": {
          "model_module": "@jupyter-widgets/base",
          "model_name": "LayoutModel",
          "model_module_version": "1.2.0",
          "state": {
            "_model_module": "@jupyter-widgets/base",
            "_model_module_version": "1.2.0",
            "_model_name": "LayoutModel",
            "_view_count": null,
            "_view_module": "@jupyter-widgets/base",
            "_view_module_version": "1.2.0",
            "_view_name": "LayoutView",
            "align_content": null,
            "align_items": null,
            "align_self": null,
            "border": null,
            "bottom": null,
            "display": null,
            "flex": null,
            "flex_flow": null,
            "grid_area": null,
            "grid_auto_columns": null,
            "grid_auto_flow": null,
            "grid_auto_rows": null,
            "grid_column": null,
            "grid_gap": null,
            "grid_row": null,
            "grid_template_areas": null,
            "grid_template_columns": null,
            "grid_template_rows": null,
            "height": null,
            "justify_content": null,
            "justify_items": null,
            "left": null,
            "margin": null,
            "max_height": null,
            "max_width": null,
            "min_height": null,
            "min_width": null,
            "object_fit": null,
            "object_position": null,
            "order": null,
            "overflow": null,
            "overflow_x": null,
            "overflow_y": null,
            "padding": null,
            "right": null,
            "top": null,
            "visibility": null,
            "width": null
          }
        },
        "b1018d29e6eb4325ad161acf1cbeac30": {
          "model_module": "@jupyter-widgets/controls",
          "model_name": "ProgressStyleModel",
          "model_module_version": "1.5.0",
          "state": {
            "_model_module": "@jupyter-widgets/controls",
            "_model_module_version": "1.5.0",
            "_model_name": "ProgressStyleModel",
            "_view_count": null,
            "_view_module": "@jupyter-widgets/base",
            "_view_module_version": "1.2.0",
            "_view_name": "StyleView",
            "bar_color": null,
            "description_width": ""
          }
        },
        "1dc9735245e04678a1aba60759bb6552": {
          "model_module": "@jupyter-widgets/base",
          "model_name": "LayoutModel",
          "model_module_version": "1.2.0",
          "state": {
            "_model_module": "@jupyter-widgets/base",
            "_model_module_version": "1.2.0",
            "_model_name": "LayoutModel",
            "_view_count": null,
            "_view_module": "@jupyter-widgets/base",
            "_view_module_version": "1.2.0",
            "_view_name": "LayoutView",
            "align_content": null,
            "align_items": null,
            "align_self": null,
            "border": null,
            "bottom": null,
            "display": null,
            "flex": null,
            "flex_flow": null,
            "grid_area": null,
            "grid_auto_columns": null,
            "grid_auto_flow": null,
            "grid_auto_rows": null,
            "grid_column": null,
            "grid_gap": null,
            "grid_row": null,
            "grid_template_areas": null,
            "grid_template_columns": null,
            "grid_template_rows": null,
            "height": null,
            "justify_content": null,
            "justify_items": null,
            "left": null,
            "margin": null,
            "max_height": null,
            "max_width": null,
            "min_height": null,
            "min_width": null,
            "object_fit": null,
            "object_position": null,
            "order": null,
            "overflow": null,
            "overflow_x": null,
            "overflow_y": null,
            "padding": null,
            "right": null,
            "top": null,
            "visibility": null,
            "width": null
          }
        },
        "317ea661078945d88121c1d5651afc22": {
          "model_module": "@jupyter-widgets/controls",
          "model_name": "DescriptionStyleModel",
          "model_module_version": "1.5.0",
          "state": {
            "_model_module": "@jupyter-widgets/controls",
            "_model_module_version": "1.5.0",
            "_model_name": "DescriptionStyleModel",
            "_view_count": null,
            "_view_module": "@jupyter-widgets/base",
            "_view_module_version": "1.2.0",
            "_view_name": "StyleView",
            "description_width": ""
          }
        },
        "16763280ed894520b14ad9d2fdd2f69e": {
          "model_module": "@jupyter-widgets/controls",
          "model_name": "HBoxModel",
          "model_module_version": "1.5.0",
          "state": {
            "_dom_classes": [],
            "_model_module": "@jupyter-widgets/controls",
            "_model_module_version": "1.5.0",
            "_model_name": "HBoxModel",
            "_view_count": null,
            "_view_module": "@jupyter-widgets/controls",
            "_view_module_version": "1.5.0",
            "_view_name": "HBoxView",
            "box_style": "",
            "children": [
              "IPY_MODEL_03c3d041573f4dc491a6a094af812cba",
              "IPY_MODEL_b916f9bb5259432ab1d7e9942b43dd1d",
              "IPY_MODEL_8e49ecbbf372432983cb7a8dbc9fd294"
            ],
            "layout": "IPY_MODEL_ee187de3c04147228ddbbe5f74a1cc21"
          }
        },
        "03c3d041573f4dc491a6a094af812cba": {
          "model_module": "@jupyter-widgets/controls",
          "model_name": "HTMLModel",
          "model_module_version": "1.5.0",
          "state": {
            "_dom_classes": [],
            "_model_module": "@jupyter-widgets/controls",
            "_model_module_version": "1.5.0",
            "_model_name": "HTMLModel",
            "_view_count": null,
            "_view_module": "@jupyter-widgets/controls",
            "_view_module_version": "1.5.0",
            "_view_name": "HTMLView",
            "description": "",
            "description_tooltip": null,
            "layout": "IPY_MODEL_32d23ec1ab054e0f911d83b9c4b4edbc",
            "placeholder": "​",
            "style": "IPY_MODEL_f068c489fca3478a945fd8a824e6c228",
            "value": "Downloading: 100%"
          }
        },
        "b916f9bb5259432ab1d7e9942b43dd1d": {
          "model_module": "@jupyter-widgets/controls",
          "model_name": "FloatProgressModel",
          "model_module_version": "1.5.0",
          "state": {
            "_dom_classes": [],
            "_model_module": "@jupyter-widgets/controls",
            "_model_module_version": "1.5.0",
            "_model_name": "FloatProgressModel",
            "_view_count": null,
            "_view_module": "@jupyter-widgets/controls",
            "_view_module_version": "1.5.0",
            "_view_name": "ProgressView",
            "bar_style": "success",
            "description": "",
            "description_tooltip": null,
            "layout": "IPY_MODEL_346e9b5fb659475ba4fbed1fb6c9ec51",
            "max": 470693617,
            "min": 0,
            "orientation": "horizontal",
            "style": "IPY_MODEL_9bfcfbb2df024335aaf16c877ed16a3b",
            "value": 470693617
          }
        },
        "8e49ecbbf372432983cb7a8dbc9fd294": {
          "model_module": "@jupyter-widgets/controls",
          "model_name": "HTMLModel",
          "model_module_version": "1.5.0",
          "state": {
            "_dom_classes": [],
            "_model_module": "@jupyter-widgets/controls",
            "_model_module_version": "1.5.0",
            "_model_name": "HTMLModel",
            "_view_count": null,
            "_view_module": "@jupyter-widgets/controls",
            "_view_module_version": "1.5.0",
            "_view_name": "HTMLView",
            "description": "",
            "description_tooltip": null,
            "layout": "IPY_MODEL_4fbf3278da7f43cba4d65a6ba4a46485",
            "placeholder": "​",
            "style": "IPY_MODEL_ccd32bfaa90b4632b25469800feacc87",
            "value": " 471M/471M [00:59&lt;00:00, 8.95MB/s]"
          }
        },
        "ee187de3c04147228ddbbe5f74a1cc21": {
          "model_module": "@jupyter-widgets/base",
          "model_name": "LayoutModel",
          "model_module_version": "1.2.0",
          "state": {
            "_model_module": "@jupyter-widgets/base",
            "_model_module_version": "1.2.0",
            "_model_name": "LayoutModel",
            "_view_count": null,
            "_view_module": "@jupyter-widgets/base",
            "_view_module_version": "1.2.0",
            "_view_name": "LayoutView",
            "align_content": null,
            "align_items": null,
            "align_self": null,
            "border": null,
            "bottom": null,
            "display": null,
            "flex": null,
            "flex_flow": null,
            "grid_area": null,
            "grid_auto_columns": null,
            "grid_auto_flow": null,
            "grid_auto_rows": null,
            "grid_column": null,
            "grid_gap": null,
            "grid_row": null,
            "grid_template_areas": null,
            "grid_template_columns": null,
            "grid_template_rows": null,
            "height": null,
            "justify_content": null,
            "justify_items": null,
            "left": null,
            "margin": null,
            "max_height": null,
            "max_width": null,
            "min_height": null,
            "min_width": null,
            "object_fit": null,
            "object_position": null,
            "order": null,
            "overflow": null,
            "overflow_x": null,
            "overflow_y": null,
            "padding": null,
            "right": null,
            "top": null,
            "visibility": null,
            "width": null
          }
        },
        "32d23ec1ab054e0f911d83b9c4b4edbc": {
          "model_module": "@jupyter-widgets/base",
          "model_name": "LayoutModel",
          "model_module_version": "1.2.0",
          "state": {
            "_model_module": "@jupyter-widgets/base",
            "_model_module_version": "1.2.0",
            "_model_name": "LayoutModel",
            "_view_count": null,
            "_view_module": "@jupyter-widgets/base",
            "_view_module_version": "1.2.0",
            "_view_name": "LayoutView",
            "align_content": null,
            "align_items": null,
            "align_self": null,
            "border": null,
            "bottom": null,
            "display": null,
            "flex": null,
            "flex_flow": null,
            "grid_area": null,
            "grid_auto_columns": null,
            "grid_auto_flow": null,
            "grid_auto_rows": null,
            "grid_column": null,
            "grid_gap": null,
            "grid_row": null,
            "grid_template_areas": null,
            "grid_template_columns": null,
            "grid_template_rows": null,
            "height": null,
            "justify_content": null,
            "justify_items": null,
            "left": null,
            "margin": null,
            "max_height": null,
            "max_width": null,
            "min_height": null,
            "min_width": null,
            "object_fit": null,
            "object_position": null,
            "order": null,
            "overflow": null,
            "overflow_x": null,
            "overflow_y": null,
            "padding": null,
            "right": null,
            "top": null,
            "visibility": null,
            "width": null
          }
        },
        "f068c489fca3478a945fd8a824e6c228": {
          "model_module": "@jupyter-widgets/controls",
          "model_name": "DescriptionStyleModel",
          "model_module_version": "1.5.0",
          "state": {
            "_model_module": "@jupyter-widgets/controls",
            "_model_module_version": "1.5.0",
            "_model_name": "DescriptionStyleModel",
            "_view_count": null,
            "_view_module": "@jupyter-widgets/base",
            "_view_module_version": "1.2.0",
            "_view_name": "StyleView",
            "description_width": ""
          }
        },
        "346e9b5fb659475ba4fbed1fb6c9ec51": {
          "model_module": "@jupyter-widgets/base",
          "model_name": "LayoutModel",
          "model_module_version": "1.2.0",
          "state": {
            "_model_module": "@jupyter-widgets/base",
            "_model_module_version": "1.2.0",
            "_model_name": "LayoutModel",
            "_view_count": null,
            "_view_module": "@jupyter-widgets/base",
            "_view_module_version": "1.2.0",
            "_view_name": "LayoutView",
            "align_content": null,
            "align_items": null,
            "align_self": null,
            "border": null,
            "bottom": null,
            "display": null,
            "flex": null,
            "flex_flow": null,
            "grid_area": null,
            "grid_auto_columns": null,
            "grid_auto_flow": null,
            "grid_auto_rows": null,
            "grid_column": null,
            "grid_gap": null,
            "grid_row": null,
            "grid_template_areas": null,
            "grid_template_columns": null,
            "grid_template_rows": null,
            "height": null,
            "justify_content": null,
            "justify_items": null,
            "left": null,
            "margin": null,
            "max_height": null,
            "max_width": null,
            "min_height": null,
            "min_width": null,
            "object_fit": null,
            "object_position": null,
            "order": null,
            "overflow": null,
            "overflow_x": null,
            "overflow_y": null,
            "padding": null,
            "right": null,
            "top": null,
            "visibility": null,
            "width": null
          }
        },
        "9bfcfbb2df024335aaf16c877ed16a3b": {
          "model_module": "@jupyter-widgets/controls",
          "model_name": "ProgressStyleModel",
          "model_module_version": "1.5.0",
          "state": {
            "_model_module": "@jupyter-widgets/controls",
            "_model_module_version": "1.5.0",
            "_model_name": "ProgressStyleModel",
            "_view_count": null,
            "_view_module": "@jupyter-widgets/base",
            "_view_module_version": "1.2.0",
            "_view_name": "StyleView",
            "bar_color": null,
            "description_width": ""
          }
        },
        "4fbf3278da7f43cba4d65a6ba4a46485": {
          "model_module": "@jupyter-widgets/base",
          "model_name": "LayoutModel",
          "model_module_version": "1.2.0",
          "state": {
            "_model_module": "@jupyter-widgets/base",
            "_model_module_version": "1.2.0",
            "_model_name": "LayoutModel",
            "_view_count": null,
            "_view_module": "@jupyter-widgets/base",
            "_view_module_version": "1.2.0",
            "_view_name": "LayoutView",
            "align_content": null,
            "align_items": null,
            "align_self": null,
            "border": null,
            "bottom": null,
            "display": null,
            "flex": null,
            "flex_flow": null,
            "grid_area": null,
            "grid_auto_columns": null,
            "grid_auto_flow": null,
            "grid_auto_rows": null,
            "grid_column": null,
            "grid_gap": null,
            "grid_row": null,
            "grid_template_areas": null,
            "grid_template_columns": null,
            "grid_template_rows": null,
            "height": null,
            "justify_content": null,
            "justify_items": null,
            "left": null,
            "margin": null,
            "max_height": null,
            "max_width": null,
            "min_height": null,
            "min_width": null,
            "object_fit": null,
            "object_position": null,
            "order": null,
            "overflow": null,
            "overflow_x": null,
            "overflow_y": null,
            "padding": null,
            "right": null,
            "top": null,
            "visibility": null,
            "width": null
          }
        },
        "ccd32bfaa90b4632b25469800feacc87": {
          "model_module": "@jupyter-widgets/controls",
          "model_name": "DescriptionStyleModel",
          "model_module_version": "1.5.0",
          "state": {
            "_model_module": "@jupyter-widgets/controls",
            "_model_module_version": "1.5.0",
            "_model_name": "DescriptionStyleModel",
            "_view_count": null,
            "_view_module": "@jupyter-widgets/base",
            "_view_module_version": "1.2.0",
            "_view_name": "StyleView",
            "description_width": ""
          }
        },
        "e9f0c4e07b434a469ea6f3098d04280e": {
          "model_module": "@jupyter-widgets/controls",
          "model_name": "HBoxModel",
          "model_module_version": "1.5.0",
          "state": {
            "_dom_classes": [],
            "_model_module": "@jupyter-widgets/controls",
            "_model_module_version": "1.5.0",
            "_model_name": "HBoxModel",
            "_view_count": null,
            "_view_module": "@jupyter-widgets/controls",
            "_view_module_version": "1.5.0",
            "_view_name": "HBoxView",
            "box_style": "",
            "children": [
              "IPY_MODEL_e54d8333bb3d4ac1bb53943c0f8d46dc",
              "IPY_MODEL_a300ecc010c0484a91a792ec3312a31e",
              "IPY_MODEL_972aab7ad1a541718083782134c56b83"
            ],
            "layout": "IPY_MODEL_ad6d19cb8da74cf0a14c48cb04f74d36"
          }
        },
        "e54d8333bb3d4ac1bb53943c0f8d46dc": {
          "model_module": "@jupyter-widgets/controls",
          "model_name": "HTMLModel",
          "model_module_version": "1.5.0",
          "state": {
            "_dom_classes": [],
            "_model_module": "@jupyter-widgets/controls",
            "_model_module_version": "1.5.0",
            "_model_name": "HTMLModel",
            "_view_count": null,
            "_view_module": "@jupyter-widgets/controls",
            "_view_module_version": "1.5.0",
            "_view_name": "HTMLView",
            "description": "",
            "description_tooltip": null,
            "layout": "IPY_MODEL_05e8a4618dc149ca8da4f1a44fad2d03",
            "placeholder": "​",
            "style": "IPY_MODEL_de898d3ae26746a4ae358288200d15c8",
            "value": "Downloading: 100%"
          }
        },
        "a300ecc010c0484a91a792ec3312a31e": {
          "model_module": "@jupyter-widgets/controls",
          "model_name": "FloatProgressModel",
          "model_module_version": "1.5.0",
          "state": {
            "_dom_classes": [],
            "_model_module": "@jupyter-widgets/controls",
            "_model_module_version": "1.5.0",
            "_model_name": "FloatProgressModel",
            "_view_count": null,
            "_view_module": "@jupyter-widgets/controls",
            "_view_module_version": "1.5.0",
            "_view_name": "ProgressView",
            "bar_style": "success",
            "description": "",
            "description_tooltip": null,
            "layout": "IPY_MODEL_c6c3a49275074a6a8397aeaa8bb24362",
            "max": 53,
            "min": 0,
            "orientation": "horizontal",
            "style": "IPY_MODEL_7901ff4d274b450485edf46af56af482",
            "value": 53
          }
        },
        "972aab7ad1a541718083782134c56b83": {
          "model_module": "@jupyter-widgets/controls",
          "model_name": "HTMLModel",
          "model_module_version": "1.5.0",
          "state": {
            "_dom_classes": [],
            "_model_module": "@jupyter-widgets/controls",
            "_model_module_version": "1.5.0",
            "_model_name": "HTMLModel",
            "_view_count": null,
            "_view_module": "@jupyter-widgets/controls",
            "_view_module_version": "1.5.0",
            "_view_name": "HTMLView",
            "description": "",
            "description_tooltip": null,
            "layout": "IPY_MODEL_1fcbe0d5e9db4ad1bd378917f2a00049",
            "placeholder": "​",
            "style": "IPY_MODEL_56f19fc40e444fe8b97e72b1dbdabfd7",
            "value": " 53.0/53.0 [00:00&lt;00:00, 327B/s]"
          }
        },
        "ad6d19cb8da74cf0a14c48cb04f74d36": {
          "model_module": "@jupyter-widgets/base",
          "model_name": "LayoutModel",
          "model_module_version": "1.2.0",
          "state": {
            "_model_module": "@jupyter-widgets/base",
            "_model_module_version": "1.2.0",
            "_model_name": "LayoutModel",
            "_view_count": null,
            "_view_module": "@jupyter-widgets/base",
            "_view_module_version": "1.2.0",
            "_view_name": "LayoutView",
            "align_content": null,
            "align_items": null,
            "align_self": null,
            "border": null,
            "bottom": null,
            "display": null,
            "flex": null,
            "flex_flow": null,
            "grid_area": null,
            "grid_auto_columns": null,
            "grid_auto_flow": null,
            "grid_auto_rows": null,
            "grid_column": null,
            "grid_gap": null,
            "grid_row": null,
            "grid_template_areas": null,
            "grid_template_columns": null,
            "grid_template_rows": null,
            "height": null,
            "justify_content": null,
            "justify_items": null,
            "left": null,
            "margin": null,
            "max_height": null,
            "max_width": null,
            "min_height": null,
            "min_width": null,
            "object_fit": null,
            "object_position": null,
            "order": null,
            "overflow": null,
            "overflow_x": null,
            "overflow_y": null,
            "padding": null,
            "right": null,
            "top": null,
            "visibility": null,
            "width": null
          }
        },
        "05e8a4618dc149ca8da4f1a44fad2d03": {
          "model_module": "@jupyter-widgets/base",
          "model_name": "LayoutModel",
          "model_module_version": "1.2.0",
          "state": {
            "_model_module": "@jupyter-widgets/base",
            "_model_module_version": "1.2.0",
            "_model_name": "LayoutModel",
            "_view_count": null,
            "_view_module": "@jupyter-widgets/base",
            "_view_module_version": "1.2.0",
            "_view_name": "LayoutView",
            "align_content": null,
            "align_items": null,
            "align_self": null,
            "border": null,
            "bottom": null,
            "display": null,
            "flex": null,
            "flex_flow": null,
            "grid_area": null,
            "grid_auto_columns": null,
            "grid_auto_flow": null,
            "grid_auto_rows": null,
            "grid_column": null,
            "grid_gap": null,
            "grid_row": null,
            "grid_template_areas": null,
            "grid_template_columns": null,
            "grid_template_rows": null,
            "height": null,
            "justify_content": null,
            "justify_items": null,
            "left": null,
            "margin": null,
            "max_height": null,
            "max_width": null,
            "min_height": null,
            "min_width": null,
            "object_fit": null,
            "object_position": null,
            "order": null,
            "overflow": null,
            "overflow_x": null,
            "overflow_y": null,
            "padding": null,
            "right": null,
            "top": null,
            "visibility": null,
            "width": null
          }
        },
        "de898d3ae26746a4ae358288200d15c8": {
          "model_module": "@jupyter-widgets/controls",
          "model_name": "DescriptionStyleModel",
          "model_module_version": "1.5.0",
          "state": {
            "_model_module": "@jupyter-widgets/controls",
            "_model_module_version": "1.5.0",
            "_model_name": "DescriptionStyleModel",
            "_view_count": null,
            "_view_module": "@jupyter-widgets/base",
            "_view_module_version": "1.2.0",
            "_view_name": "StyleView",
            "description_width": ""
          }
        },
        "c6c3a49275074a6a8397aeaa8bb24362": {
          "model_module": "@jupyter-widgets/base",
          "model_name": "LayoutModel",
          "model_module_version": "1.2.0",
          "state": {
            "_model_module": "@jupyter-widgets/base",
            "_model_module_version": "1.2.0",
            "_model_name": "LayoutModel",
            "_view_count": null,
            "_view_module": "@jupyter-widgets/base",
            "_view_module_version": "1.2.0",
            "_view_name": "LayoutView",
            "align_content": null,
            "align_items": null,
            "align_self": null,
            "border": null,
            "bottom": null,
            "display": null,
            "flex": null,
            "flex_flow": null,
            "grid_area": null,
            "grid_auto_columns": null,
            "grid_auto_flow": null,
            "grid_auto_rows": null,
            "grid_column": null,
            "grid_gap": null,
            "grid_row": null,
            "grid_template_areas": null,
            "grid_template_columns": null,
            "grid_template_rows": null,
            "height": null,
            "justify_content": null,
            "justify_items": null,
            "left": null,
            "margin": null,
            "max_height": null,
            "max_width": null,
            "min_height": null,
            "min_width": null,
            "object_fit": null,
            "object_position": null,
            "order": null,
            "overflow": null,
            "overflow_x": null,
            "overflow_y": null,
            "padding": null,
            "right": null,
            "top": null,
            "visibility": null,
            "width": null
          }
        },
        "7901ff4d274b450485edf46af56af482": {
          "model_module": "@jupyter-widgets/controls",
          "model_name": "ProgressStyleModel",
          "model_module_version": "1.5.0",
          "state": {
            "_model_module": "@jupyter-widgets/controls",
            "_model_module_version": "1.5.0",
            "_model_name": "ProgressStyleModel",
            "_view_count": null,
            "_view_module": "@jupyter-widgets/base",
            "_view_module_version": "1.2.0",
            "_view_name": "StyleView",
            "bar_color": null,
            "description_width": ""
          }
        },
        "1fcbe0d5e9db4ad1bd378917f2a00049": {
          "model_module": "@jupyter-widgets/base",
          "model_name": "LayoutModel",
          "model_module_version": "1.2.0",
          "state": {
            "_model_module": "@jupyter-widgets/base",
            "_model_module_version": "1.2.0",
            "_model_name": "LayoutModel",
            "_view_count": null,
            "_view_module": "@jupyter-widgets/base",
            "_view_module_version": "1.2.0",
            "_view_name": "LayoutView",
            "align_content": null,
            "align_items": null,
            "align_self": null,
            "border": null,
            "bottom": null,
            "display": null,
            "flex": null,
            "flex_flow": null,
            "grid_area": null,
            "grid_auto_columns": null,
            "grid_auto_flow": null,
            "grid_auto_rows": null,
            "grid_column": null,
            "grid_gap": null,
            "grid_row": null,
            "grid_template_areas": null,
            "grid_template_columns": null,
            "grid_template_rows": null,
            "height": null,
            "justify_content": null,
            "justify_items": null,
            "left": null,
            "margin": null,
            "max_height": null,
            "max_width": null,
            "min_height": null,
            "min_width": null,
            "object_fit": null,
            "object_position": null,
            "order": null,
            "overflow": null,
            "overflow_x": null,
            "overflow_y": null,
            "padding": null,
            "right": null,
            "top": null,
            "visibility": null,
            "width": null
          }
        },
        "56f19fc40e444fe8b97e72b1dbdabfd7": {
          "model_module": "@jupyter-widgets/controls",
          "model_name": "DescriptionStyleModel",
          "model_module_version": "1.5.0",
          "state": {
            "_model_module": "@jupyter-widgets/controls",
            "_model_module_version": "1.5.0",
            "_model_name": "DescriptionStyleModel",
            "_view_count": null,
            "_view_module": "@jupyter-widgets/base",
            "_view_module_version": "1.2.0",
            "_view_name": "StyleView",
            "description_width": ""
          }
        },
        "c70bf90097894931acede076b1662b2d": {
          "model_module": "@jupyter-widgets/controls",
          "model_name": "HBoxModel",
          "model_module_version": "1.5.0",
          "state": {
            "_dom_classes": [],
            "_model_module": "@jupyter-widgets/controls",
            "_model_module_version": "1.5.0",
            "_model_name": "HBoxModel",
            "_view_count": null,
            "_view_module": "@jupyter-widgets/controls",
            "_view_module_version": "1.5.0",
            "_view_name": "HBoxView",
            "box_style": "",
            "children": [
              "IPY_MODEL_e4aa75f96eb340c4846fb0e9281b3f34",
              "IPY_MODEL_523e06c584cd458fad702c173787ec64",
              "IPY_MODEL_32f40a201699401880e1c3b4ce0f94e4"
            ],
            "layout": "IPY_MODEL_a490c2f4f23c4ac19111376417fad7e3"
          }
        },
        "e4aa75f96eb340c4846fb0e9281b3f34": {
          "model_module": "@jupyter-widgets/controls",
          "model_name": "HTMLModel",
          "model_module_version": "1.5.0",
          "state": {
            "_dom_classes": [],
            "_model_module": "@jupyter-widgets/controls",
            "_model_module_version": "1.5.0",
            "_model_name": "HTMLModel",
            "_view_count": null,
            "_view_module": "@jupyter-widgets/controls",
            "_view_module_version": "1.5.0",
            "_view_name": "HTMLView",
            "description": "",
            "description_tooltip": null,
            "layout": "IPY_MODEL_bf3fa2b1b3184424b202e4f7075cd764",
            "placeholder": "​",
            "style": "IPY_MODEL_2e555bdcf0fd4626bce517d286ac697a",
            "value": "Downloading: 100%"
          }
        },
        "523e06c584cd458fad702c173787ec64": {
          "model_module": "@jupyter-widgets/controls",
          "model_name": "FloatProgressModel",
          "model_module_version": "1.5.0",
          "state": {
            "_dom_classes": [],
            "_model_module": "@jupyter-widgets/controls",
            "_model_module_version": "1.5.0",
            "_model_name": "FloatProgressModel",
            "_view_count": null,
            "_view_module": "@jupyter-widgets/controls",
            "_view_module_version": "1.5.0",
            "_view_name": "ProgressView",
            "bar_style": "success",
            "description": "",
            "description_tooltip": null,
            "layout": "IPY_MODEL_001388ae30374d34be22dabee2e86a70",
            "max": 5069051,
            "min": 0,
            "orientation": "horizontal",
            "style": "IPY_MODEL_bb2c37e01ce54f61aa44c41b62d9249b",
            "value": 5069051
          }
        },
        "32f40a201699401880e1c3b4ce0f94e4": {
          "model_module": "@jupyter-widgets/controls",
          "model_name": "HTMLModel",
          "model_module_version": "1.5.0",
          "state": {
            "_dom_classes": [],
            "_model_module": "@jupyter-widgets/controls",
            "_model_module_version": "1.5.0",
            "_model_name": "HTMLModel",
            "_view_count": null,
            "_view_module": "@jupyter-widgets/controls",
            "_view_module_version": "1.5.0",
            "_view_name": "HTMLView",
            "description": "",
            "description_tooltip": null,
            "layout": "IPY_MODEL_ddaebe2c65134676846a4ec87b533426",
            "placeholder": "​",
            "style": "IPY_MODEL_a5664e3ac50941d49779a0e6329a58dc",
            "value": " 5.07M/5.07M [00:00&lt;00:00, 7.16MB/s]"
          }
        },
        "a490c2f4f23c4ac19111376417fad7e3": {
          "model_module": "@jupyter-widgets/base",
          "model_name": "LayoutModel",
          "model_module_version": "1.2.0",
          "state": {
            "_model_module": "@jupyter-widgets/base",
            "_model_module_version": "1.2.0",
            "_model_name": "LayoutModel",
            "_view_count": null,
            "_view_module": "@jupyter-widgets/base",
            "_view_module_version": "1.2.0",
            "_view_name": "LayoutView",
            "align_content": null,
            "align_items": null,
            "align_self": null,
            "border": null,
            "bottom": null,
            "display": null,
            "flex": null,
            "flex_flow": null,
            "grid_area": null,
            "grid_auto_columns": null,
            "grid_auto_flow": null,
            "grid_auto_rows": null,
            "grid_column": null,
            "grid_gap": null,
            "grid_row": null,
            "grid_template_areas": null,
            "grid_template_columns": null,
            "grid_template_rows": null,
            "height": null,
            "justify_content": null,
            "justify_items": null,
            "left": null,
            "margin": null,
            "max_height": null,
            "max_width": null,
            "min_height": null,
            "min_width": null,
            "object_fit": null,
            "object_position": null,
            "order": null,
            "overflow": null,
            "overflow_x": null,
            "overflow_y": null,
            "padding": null,
            "right": null,
            "top": null,
            "visibility": null,
            "width": null
          }
        },
        "bf3fa2b1b3184424b202e4f7075cd764": {
          "model_module": "@jupyter-widgets/base",
          "model_name": "LayoutModel",
          "model_module_version": "1.2.0",
          "state": {
            "_model_module": "@jupyter-widgets/base",
            "_model_module_version": "1.2.0",
            "_model_name": "LayoutModel",
            "_view_count": null,
            "_view_module": "@jupyter-widgets/base",
            "_view_module_version": "1.2.0",
            "_view_name": "LayoutView",
            "align_content": null,
            "align_items": null,
            "align_self": null,
            "border": null,
            "bottom": null,
            "display": null,
            "flex": null,
            "flex_flow": null,
            "grid_area": null,
            "grid_auto_columns": null,
            "grid_auto_flow": null,
            "grid_auto_rows": null,
            "grid_column": null,
            "grid_gap": null,
            "grid_row": null,
            "grid_template_areas": null,
            "grid_template_columns": null,
            "grid_template_rows": null,
            "height": null,
            "justify_content": null,
            "justify_items": null,
            "left": null,
            "margin": null,
            "max_height": null,
            "max_width": null,
            "min_height": null,
            "min_width": null,
            "object_fit": null,
            "object_position": null,
            "order": null,
            "overflow": null,
            "overflow_x": null,
            "overflow_y": null,
            "padding": null,
            "right": null,
            "top": null,
            "visibility": null,
            "width": null
          }
        },
        "2e555bdcf0fd4626bce517d286ac697a": {
          "model_module": "@jupyter-widgets/controls",
          "model_name": "DescriptionStyleModel",
          "model_module_version": "1.5.0",
          "state": {
            "_model_module": "@jupyter-widgets/controls",
            "_model_module_version": "1.5.0",
            "_model_name": "DescriptionStyleModel",
            "_view_count": null,
            "_view_module": "@jupyter-widgets/base",
            "_view_module_version": "1.2.0",
            "_view_name": "StyleView",
            "description_width": ""
          }
        },
        "001388ae30374d34be22dabee2e86a70": {
          "model_module": "@jupyter-widgets/base",
          "model_name": "LayoutModel",
          "model_module_version": "1.2.0",
          "state": {
            "_model_module": "@jupyter-widgets/base",
            "_model_module_version": "1.2.0",
            "_model_name": "LayoutModel",
            "_view_count": null,
            "_view_module": "@jupyter-widgets/base",
            "_view_module_version": "1.2.0",
            "_view_name": "LayoutView",
            "align_content": null,
            "align_items": null,
            "align_self": null,
            "border": null,
            "bottom": null,
            "display": null,
            "flex": null,
            "flex_flow": null,
            "grid_area": null,
            "grid_auto_columns": null,
            "grid_auto_flow": null,
            "grid_auto_rows": null,
            "grid_column": null,
            "grid_gap": null,
            "grid_row": null,
            "grid_template_areas": null,
            "grid_template_columns": null,
            "grid_template_rows": null,
            "height": null,
            "justify_content": null,
            "justify_items": null,
            "left": null,
            "margin": null,
            "max_height": null,
            "max_width": null,
            "min_height": null,
            "min_width": null,
            "object_fit": null,
            "object_position": null,
            "order": null,
            "overflow": null,
            "overflow_x": null,
            "overflow_y": null,
            "padding": null,
            "right": null,
            "top": null,
            "visibility": null,
            "width": null
          }
        },
        "bb2c37e01ce54f61aa44c41b62d9249b": {
          "model_module": "@jupyter-widgets/controls",
          "model_name": "ProgressStyleModel",
          "model_module_version": "1.5.0",
          "state": {
            "_model_module": "@jupyter-widgets/controls",
            "_model_module_version": "1.5.0",
            "_model_name": "ProgressStyleModel",
            "_view_count": null,
            "_view_module": "@jupyter-widgets/base",
            "_view_module_version": "1.2.0",
            "_view_name": "StyleView",
            "bar_color": null,
            "description_width": ""
          }
        },
        "ddaebe2c65134676846a4ec87b533426": {
          "model_module": "@jupyter-widgets/base",
          "model_name": "LayoutModel",
          "model_module_version": "1.2.0",
          "state": {
            "_model_module": "@jupyter-widgets/base",
            "_model_module_version": "1.2.0",
            "_model_name": "LayoutModel",
            "_view_count": null,
            "_view_module": "@jupyter-widgets/base",
            "_view_module_version": "1.2.0",
            "_view_name": "LayoutView",
            "align_content": null,
            "align_items": null,
            "align_self": null,
            "border": null,
            "bottom": null,
            "display": null,
            "flex": null,
            "flex_flow": null,
            "grid_area": null,
            "grid_auto_columns": null,
            "grid_auto_flow": null,
            "grid_auto_rows": null,
            "grid_column": null,
            "grid_gap": null,
            "grid_row": null,
            "grid_template_areas": null,
            "grid_template_columns": null,
            "grid_template_rows": null,
            "height": null,
            "justify_content": null,
            "justify_items": null,
            "left": null,
            "margin": null,
            "max_height": null,
            "max_width": null,
            "min_height": null,
            "min_width": null,
            "object_fit": null,
            "object_position": null,
            "order": null,
            "overflow": null,
            "overflow_x": null,
            "overflow_y": null,
            "padding": null,
            "right": null,
            "top": null,
            "visibility": null,
            "width": null
          }
        },
        "a5664e3ac50941d49779a0e6329a58dc": {
          "model_module": "@jupyter-widgets/controls",
          "model_name": "DescriptionStyleModel",
          "model_module_version": "1.5.0",
          "state": {
            "_model_module": "@jupyter-widgets/controls",
            "_model_module_version": "1.5.0",
            "_model_name": "DescriptionStyleModel",
            "_view_count": null,
            "_view_module": "@jupyter-widgets/base",
            "_view_module_version": "1.2.0",
            "_view_name": "StyleView",
            "description_width": ""
          }
        },
        "dea59e6907c34064b96246fb05f385ba": {
          "model_module": "@jupyter-widgets/controls",
          "model_name": "HBoxModel",
          "model_module_version": "1.5.0",
          "state": {
            "_dom_classes": [],
            "_model_module": "@jupyter-widgets/controls",
            "_model_module_version": "1.5.0",
            "_model_name": "HBoxModel",
            "_view_count": null,
            "_view_module": "@jupyter-widgets/controls",
            "_view_module_version": "1.5.0",
            "_view_name": "HBoxView",
            "box_style": "",
            "children": [
              "IPY_MODEL_ee317c8d157e4ca7b08049091a1bb65d",
              "IPY_MODEL_b35ed45e8056465a93f9a5e5de4b290c",
              "IPY_MODEL_e8d715c0aa664bb198b18e967f0487ca"
            ],
            "layout": "IPY_MODEL_ac4caa8ee1a74a7ba1b60ea3c167f66c"
          }
        },
        "ee317c8d157e4ca7b08049091a1bb65d": {
          "model_module": "@jupyter-widgets/controls",
          "model_name": "HTMLModel",
          "model_module_version": "1.5.0",
          "state": {
            "_dom_classes": [],
            "_model_module": "@jupyter-widgets/controls",
            "_model_module_version": "1.5.0",
            "_model_name": "HTMLModel",
            "_view_count": null,
            "_view_module": "@jupyter-widgets/controls",
            "_view_module_version": "1.5.0",
            "_view_name": "HTMLView",
            "description": "",
            "description_tooltip": null,
            "layout": "IPY_MODEL_de60a96ed19e4040bcdccaaa20bc0418",
            "placeholder": "​",
            "style": "IPY_MODEL_f256758f493e4648b629d997bdc0b289",
            "value": "Downloading: 100%"
          }
        },
        "b35ed45e8056465a93f9a5e5de4b290c": {
          "model_module": "@jupyter-widgets/controls",
          "model_name": "FloatProgressModel",
          "model_module_version": "1.5.0",
          "state": {
            "_dom_classes": [],
            "_model_module": "@jupyter-widgets/controls",
            "_model_module_version": "1.5.0",
            "_model_name": "FloatProgressModel",
            "_view_count": null,
            "_view_module": "@jupyter-widgets/controls",
            "_view_module_version": "1.5.0",
            "_view_name": "ProgressView",
            "bar_style": "success",
            "description": "",
            "description_tooltip": null,
            "layout": "IPY_MODEL_3e1c6b9d42ef42a08121791ddebcdf09",
            "max": 239,
            "min": 0,
            "orientation": "horizontal",
            "style": "IPY_MODEL_18f1744ddc6a45228b4fd8e9efecb64e",
            "value": 239
          }
        },
        "e8d715c0aa664bb198b18e967f0487ca": {
          "model_module": "@jupyter-widgets/controls",
          "model_name": "HTMLModel",
          "model_module_version": "1.5.0",
          "state": {
            "_dom_classes": [],
            "_model_module": "@jupyter-widgets/controls",
            "_model_module_version": "1.5.0",
            "_model_name": "HTMLModel",
            "_view_count": null,
            "_view_module": "@jupyter-widgets/controls",
            "_view_module_version": "1.5.0",
            "_view_name": "HTMLView",
            "description": "",
            "description_tooltip": null,
            "layout": "IPY_MODEL_2ceb2df2501e4a3188468267b3f99d38",
            "placeholder": "​",
            "style": "IPY_MODEL_4fc557f7296b4e46bcdb6de6d667a0fa",
            "value": " 239/239 [00:00&lt;00:00, 1.54kB/s]"
          }
        },
        "ac4caa8ee1a74a7ba1b60ea3c167f66c": {
          "model_module": "@jupyter-widgets/base",
          "model_name": "LayoutModel",
          "model_module_version": "1.2.0",
          "state": {
            "_model_module": "@jupyter-widgets/base",
            "_model_module_version": "1.2.0",
            "_model_name": "LayoutModel",
            "_view_count": null,
            "_view_module": "@jupyter-widgets/base",
            "_view_module_version": "1.2.0",
            "_view_name": "LayoutView",
            "align_content": null,
            "align_items": null,
            "align_self": null,
            "border": null,
            "bottom": null,
            "display": null,
            "flex": null,
            "flex_flow": null,
            "grid_area": null,
            "grid_auto_columns": null,
            "grid_auto_flow": null,
            "grid_auto_rows": null,
            "grid_column": null,
            "grid_gap": null,
            "grid_row": null,
            "grid_template_areas": null,
            "grid_template_columns": null,
            "grid_template_rows": null,
            "height": null,
            "justify_content": null,
            "justify_items": null,
            "left": null,
            "margin": null,
            "max_height": null,
            "max_width": null,
            "min_height": null,
            "min_width": null,
            "object_fit": null,
            "object_position": null,
            "order": null,
            "overflow": null,
            "overflow_x": null,
            "overflow_y": null,
            "padding": null,
            "right": null,
            "top": null,
            "visibility": null,
            "width": null
          }
        },
        "de60a96ed19e4040bcdccaaa20bc0418": {
          "model_module": "@jupyter-widgets/base",
          "model_name": "LayoutModel",
          "model_module_version": "1.2.0",
          "state": {
            "_model_module": "@jupyter-widgets/base",
            "_model_module_version": "1.2.0",
            "_model_name": "LayoutModel",
            "_view_count": null,
            "_view_module": "@jupyter-widgets/base",
            "_view_module_version": "1.2.0",
            "_view_name": "LayoutView",
            "align_content": null,
            "align_items": null,
            "align_self": null,
            "border": null,
            "bottom": null,
            "display": null,
            "flex": null,
            "flex_flow": null,
            "grid_area": null,
            "grid_auto_columns": null,
            "grid_auto_flow": null,
            "grid_auto_rows": null,
            "grid_column": null,
            "grid_gap": null,
            "grid_row": null,
            "grid_template_areas": null,
            "grid_template_columns": null,
            "grid_template_rows": null,
            "height": null,
            "justify_content": null,
            "justify_items": null,
            "left": null,
            "margin": null,
            "max_height": null,
            "max_width": null,
            "min_height": null,
            "min_width": null,
            "object_fit": null,
            "object_position": null,
            "order": null,
            "overflow": null,
            "overflow_x": null,
            "overflow_y": null,
            "padding": null,
            "right": null,
            "top": null,
            "visibility": null,
            "width": null
          }
        },
        "f256758f493e4648b629d997bdc0b289": {
          "model_module": "@jupyter-widgets/controls",
          "model_name": "DescriptionStyleModel",
          "model_module_version": "1.5.0",
          "state": {
            "_model_module": "@jupyter-widgets/controls",
            "_model_module_version": "1.5.0",
            "_model_name": "DescriptionStyleModel",
            "_view_count": null,
            "_view_module": "@jupyter-widgets/base",
            "_view_module_version": "1.2.0",
            "_view_name": "StyleView",
            "description_width": ""
          }
        },
        "3e1c6b9d42ef42a08121791ddebcdf09": {
          "model_module": "@jupyter-widgets/base",
          "model_name": "LayoutModel",
          "model_module_version": "1.2.0",
          "state": {
            "_model_module": "@jupyter-widgets/base",
            "_model_module_version": "1.2.0",
            "_model_name": "LayoutModel",
            "_view_count": null,
            "_view_module": "@jupyter-widgets/base",
            "_view_module_version": "1.2.0",
            "_view_name": "LayoutView",
            "align_content": null,
            "align_items": null,
            "align_self": null,
            "border": null,
            "bottom": null,
            "display": null,
            "flex": null,
            "flex_flow": null,
            "grid_area": null,
            "grid_auto_columns": null,
            "grid_auto_flow": null,
            "grid_auto_rows": null,
            "grid_column": null,
            "grid_gap": null,
            "grid_row": null,
            "grid_template_areas": null,
            "grid_template_columns": null,
            "grid_template_rows": null,
            "height": null,
            "justify_content": null,
            "justify_items": null,
            "left": null,
            "margin": null,
            "max_height": null,
            "max_width": null,
            "min_height": null,
            "min_width": null,
            "object_fit": null,
            "object_position": null,
            "order": null,
            "overflow": null,
            "overflow_x": null,
            "overflow_y": null,
            "padding": null,
            "right": null,
            "top": null,
            "visibility": null,
            "width": null
          }
        },
        "18f1744ddc6a45228b4fd8e9efecb64e": {
          "model_module": "@jupyter-widgets/controls",
          "model_name": "ProgressStyleModel",
          "model_module_version": "1.5.0",
          "state": {
            "_model_module": "@jupyter-widgets/controls",
            "_model_module_version": "1.5.0",
            "_model_name": "ProgressStyleModel",
            "_view_count": null,
            "_view_module": "@jupyter-widgets/base",
            "_view_module_version": "1.2.0",
            "_view_name": "StyleView",
            "bar_color": null,
            "description_width": ""
          }
        },
        "2ceb2df2501e4a3188468267b3f99d38": {
          "model_module": "@jupyter-widgets/base",
          "model_name": "LayoutModel",
          "model_module_version": "1.2.0",
          "state": {
            "_model_module": "@jupyter-widgets/base",
            "_model_module_version": "1.2.0",
            "_model_name": "LayoutModel",
            "_view_count": null,
            "_view_module": "@jupyter-widgets/base",
            "_view_module_version": "1.2.0",
            "_view_name": "LayoutView",
            "align_content": null,
            "align_items": null,
            "align_self": null,
            "border": null,
            "bottom": null,
            "display": null,
            "flex": null,
            "flex_flow": null,
            "grid_area": null,
            "grid_auto_columns": null,
            "grid_auto_flow": null,
            "grid_auto_rows": null,
            "grid_column": null,
            "grid_gap": null,
            "grid_row": null,
            "grid_template_areas": null,
            "grid_template_columns": null,
            "grid_template_rows": null,
            "height": null,
            "justify_content": null,
            "justify_items": null,
            "left": null,
            "margin": null,
            "max_height": null,
            "max_width": null,
            "min_height": null,
            "min_width": null,
            "object_fit": null,
            "object_position": null,
            "order": null,
            "overflow": null,
            "overflow_x": null,
            "overflow_y": null,
            "padding": null,
            "right": null,
            "top": null,
            "visibility": null,
            "width": null
          }
        },
        "4fc557f7296b4e46bcdb6de6d667a0fa": {
          "model_module": "@jupyter-widgets/controls",
          "model_name": "DescriptionStyleModel",
          "model_module_version": "1.5.0",
          "state": {
            "_model_module": "@jupyter-widgets/controls",
            "_model_module_version": "1.5.0",
            "_model_name": "DescriptionStyleModel",
            "_view_count": null,
            "_view_module": "@jupyter-widgets/base",
            "_view_module_version": "1.2.0",
            "_view_name": "StyleView",
            "description_width": ""
          }
        },
        "da8af9ad5a694f468daf5c8efc47105c": {
          "model_module": "@jupyter-widgets/controls",
          "model_name": "HBoxModel",
          "model_module_version": "1.5.0",
          "state": {
            "_dom_classes": [],
            "_model_module": "@jupyter-widgets/controls",
            "_model_module_version": "1.5.0",
            "_model_name": "HBoxModel",
            "_view_count": null,
            "_view_module": "@jupyter-widgets/controls",
            "_view_module_version": "1.5.0",
            "_view_name": "HBoxView",
            "box_style": "",
            "children": [
              "IPY_MODEL_78fad150b49f4be88f4111d9e5cd92fd",
              "IPY_MODEL_c136e4f3c9104b3d85763c155e5e401e",
              "IPY_MODEL_8c671036312648f8ab94835fb1739c57"
            ],
            "layout": "IPY_MODEL_161b822ca79c466eb2efa98572393adf"
          }
        },
        "78fad150b49f4be88f4111d9e5cd92fd": {
          "model_module": "@jupyter-widgets/controls",
          "model_name": "HTMLModel",
          "model_module_version": "1.5.0",
          "state": {
            "_dom_classes": [],
            "_model_module": "@jupyter-widgets/controls",
            "_model_module_version": "1.5.0",
            "_model_name": "HTMLModel",
            "_view_count": null,
            "_view_module": "@jupyter-widgets/controls",
            "_view_module_version": "1.5.0",
            "_view_name": "HTMLView",
            "description": "",
            "description_tooltip": null,
            "layout": "IPY_MODEL_78657dde865549a5ba9f277beb6493c3",
            "placeholder": "​",
            "style": "IPY_MODEL_23999a742dba4e46a06b821f229e788e",
            "value": "Downloading: 100%"
          }
        },
        "c136e4f3c9104b3d85763c155e5e401e": {
          "model_module": "@jupyter-widgets/controls",
          "model_name": "FloatProgressModel",
          "model_module_version": "1.5.0",
          "state": {
            "_dom_classes": [],
            "_model_module": "@jupyter-widgets/controls",
            "_model_module_version": "1.5.0",
            "_model_name": "FloatProgressModel",
            "_view_count": null,
            "_view_module": "@jupyter-widgets/controls",
            "_view_module_version": "1.5.0",
            "_view_name": "ProgressView",
            "bar_style": "success",
            "description": "",
            "description_tooltip": null,
            "layout": "IPY_MODEL_d092387aa3ca44d08a966b3d9d212990",
            "max": 9081518,
            "min": 0,
            "orientation": "horizontal",
            "style": "IPY_MODEL_074b9e9aa9104f74a77a3fe61d98e228",
            "value": 9081518
          }
        },
        "8c671036312648f8ab94835fb1739c57": {
          "model_module": "@jupyter-widgets/controls",
          "model_name": "HTMLModel",
          "model_module_version": "1.5.0",
          "state": {
            "_dom_classes": [],
            "_model_module": "@jupyter-widgets/controls",
            "_model_module_version": "1.5.0",
            "_model_name": "HTMLModel",
            "_view_count": null,
            "_view_module": "@jupyter-widgets/controls",
            "_view_module_version": "1.5.0",
            "_view_name": "HTMLView",
            "description": "",
            "description_tooltip": null,
            "layout": "IPY_MODEL_972ac82321214f70b457000345a31e5d",
            "placeholder": "​",
            "style": "IPY_MODEL_a5033a2a88a649ffb07ed4e84b059e87",
            "value": " 9.08M/9.08M [00:01&lt;00:00, 10.1MB/s]"
          }
        },
        "161b822ca79c466eb2efa98572393adf": {
          "model_module": "@jupyter-widgets/base",
          "model_name": "LayoutModel",
          "model_module_version": "1.2.0",
          "state": {
            "_model_module": "@jupyter-widgets/base",
            "_model_module_version": "1.2.0",
            "_model_name": "LayoutModel",
            "_view_count": null,
            "_view_module": "@jupyter-widgets/base",
            "_view_module_version": "1.2.0",
            "_view_name": "LayoutView",
            "align_content": null,
            "align_items": null,
            "align_self": null,
            "border": null,
            "bottom": null,
            "display": null,
            "flex": null,
            "flex_flow": null,
            "grid_area": null,
            "grid_auto_columns": null,
            "grid_auto_flow": null,
            "grid_auto_rows": null,
            "grid_column": null,
            "grid_gap": null,
            "grid_row": null,
            "grid_template_areas": null,
            "grid_template_columns": null,
            "grid_template_rows": null,
            "height": null,
            "justify_content": null,
            "justify_items": null,
            "left": null,
            "margin": null,
            "max_height": null,
            "max_width": null,
            "min_height": null,
            "min_width": null,
            "object_fit": null,
            "object_position": null,
            "order": null,
            "overflow": null,
            "overflow_x": null,
            "overflow_y": null,
            "padding": null,
            "right": null,
            "top": null,
            "visibility": null,
            "width": null
          }
        },
        "78657dde865549a5ba9f277beb6493c3": {
          "model_module": "@jupyter-widgets/base",
          "model_name": "LayoutModel",
          "model_module_version": "1.2.0",
          "state": {
            "_model_module": "@jupyter-widgets/base",
            "_model_module_version": "1.2.0",
            "_model_name": "LayoutModel",
            "_view_count": null,
            "_view_module": "@jupyter-widgets/base",
            "_view_module_version": "1.2.0",
            "_view_name": "LayoutView",
            "align_content": null,
            "align_items": null,
            "align_self": null,
            "border": null,
            "bottom": null,
            "display": null,
            "flex": null,
            "flex_flow": null,
            "grid_area": null,
            "grid_auto_columns": null,
            "grid_auto_flow": null,
            "grid_auto_rows": null,
            "grid_column": null,
            "grid_gap": null,
            "grid_row": null,
            "grid_template_areas": null,
            "grid_template_columns": null,
            "grid_template_rows": null,
            "height": null,
            "justify_content": null,
            "justify_items": null,
            "left": null,
            "margin": null,
            "max_height": null,
            "max_width": null,
            "min_height": null,
            "min_width": null,
            "object_fit": null,
            "object_position": null,
            "order": null,
            "overflow": null,
            "overflow_x": null,
            "overflow_y": null,
            "padding": null,
            "right": null,
            "top": null,
            "visibility": null,
            "width": null
          }
        },
        "23999a742dba4e46a06b821f229e788e": {
          "model_module": "@jupyter-widgets/controls",
          "model_name": "DescriptionStyleModel",
          "model_module_version": "1.5.0",
          "state": {
            "_model_module": "@jupyter-widgets/controls",
            "_model_module_version": "1.5.0",
            "_model_name": "DescriptionStyleModel",
            "_view_count": null,
            "_view_module": "@jupyter-widgets/base",
            "_view_module_version": "1.2.0",
            "_view_name": "StyleView",
            "description_width": ""
          }
        },
        "d092387aa3ca44d08a966b3d9d212990": {
          "model_module": "@jupyter-widgets/base",
          "model_name": "LayoutModel",
          "model_module_version": "1.2.0",
          "state": {
            "_model_module": "@jupyter-widgets/base",
            "_model_module_version": "1.2.0",
            "_model_name": "LayoutModel",
            "_view_count": null,
            "_view_module": "@jupyter-widgets/base",
            "_view_module_version": "1.2.0",
            "_view_name": "LayoutView",
            "align_content": null,
            "align_items": null,
            "align_self": null,
            "border": null,
            "bottom": null,
            "display": null,
            "flex": null,
            "flex_flow": null,
            "grid_area": null,
            "grid_auto_columns": null,
            "grid_auto_flow": null,
            "grid_auto_rows": null,
            "grid_column": null,
            "grid_gap": null,
            "grid_row": null,
            "grid_template_areas": null,
            "grid_template_columns": null,
            "grid_template_rows": null,
            "height": null,
            "justify_content": null,
            "justify_items": null,
            "left": null,
            "margin": null,
            "max_height": null,
            "max_width": null,
            "min_height": null,
            "min_width": null,
            "object_fit": null,
            "object_position": null,
            "order": null,
            "overflow": null,
            "overflow_x": null,
            "overflow_y": null,
            "padding": null,
            "right": null,
            "top": null,
            "visibility": null,
            "width": null
          }
        },
        "074b9e9aa9104f74a77a3fe61d98e228": {
          "model_module": "@jupyter-widgets/controls",
          "model_name": "ProgressStyleModel",
          "model_module_version": "1.5.0",
          "state": {
            "_model_module": "@jupyter-widgets/controls",
            "_model_module_version": "1.5.0",
            "_model_name": "ProgressStyleModel",
            "_view_count": null,
            "_view_module": "@jupyter-widgets/base",
            "_view_module_version": "1.2.0",
            "_view_name": "StyleView",
            "bar_color": null,
            "description_width": ""
          }
        },
        "972ac82321214f70b457000345a31e5d": {
          "model_module": "@jupyter-widgets/base",
          "model_name": "LayoutModel",
          "model_module_version": "1.2.0",
          "state": {
            "_model_module": "@jupyter-widgets/base",
            "_model_module_version": "1.2.0",
            "_model_name": "LayoutModel",
            "_view_count": null,
            "_view_module": "@jupyter-widgets/base",
            "_view_module_version": "1.2.0",
            "_view_name": "LayoutView",
            "align_content": null,
            "align_items": null,
            "align_self": null,
            "border": null,
            "bottom": null,
            "display": null,
            "flex": null,
            "flex_flow": null,
            "grid_area": null,
            "grid_auto_columns": null,
            "grid_auto_flow": null,
            "grid_auto_rows": null,
            "grid_column": null,
            "grid_gap": null,
            "grid_row": null,
            "grid_template_areas": null,
            "grid_template_columns": null,
            "grid_template_rows": null,
            "height": null,
            "justify_content": null,
            "justify_items": null,
            "left": null,
            "margin": null,
            "max_height": null,
            "max_width": null,
            "min_height": null,
            "min_width": null,
            "object_fit": null,
            "object_position": null,
            "order": null,
            "overflow": null,
            "overflow_x": null,
            "overflow_y": null,
            "padding": null,
            "right": null,
            "top": null,
            "visibility": null,
            "width": null
          }
        },
        "a5033a2a88a649ffb07ed4e84b059e87": {
          "model_module": "@jupyter-widgets/controls",
          "model_name": "DescriptionStyleModel",
          "model_module_version": "1.5.0",
          "state": {
            "_model_module": "@jupyter-widgets/controls",
            "_model_module_version": "1.5.0",
            "_model_name": "DescriptionStyleModel",
            "_view_count": null,
            "_view_module": "@jupyter-widgets/base",
            "_view_module_version": "1.2.0",
            "_view_name": "StyleView",
            "description_width": ""
          }
        },
        "753db81fd5014d48befb5c5af50a9058": {
          "model_module": "@jupyter-widgets/controls",
          "model_name": "HBoxModel",
          "model_module_version": "1.5.0",
          "state": {
            "_dom_classes": [],
            "_model_module": "@jupyter-widgets/controls",
            "_model_module_version": "1.5.0",
            "_model_name": "HBoxModel",
            "_view_count": null,
            "_view_module": "@jupyter-widgets/controls",
            "_view_module_version": "1.5.0",
            "_view_name": "HBoxView",
            "box_style": "",
            "children": [
              "IPY_MODEL_8bc4d5f0f0ce41459e8c5654c1454b7c",
              "IPY_MODEL_b11dd07abc6441d292d2cddb7cc106c4",
              "IPY_MODEL_9c8d5fb2cc294937a69bca00a083a3b9"
            ],
            "layout": "IPY_MODEL_7dbe473fd9824e6a989a04bd790f775b"
          }
        },
        "8bc4d5f0f0ce41459e8c5654c1454b7c": {
          "model_module": "@jupyter-widgets/controls",
          "model_name": "HTMLModel",
          "model_module_version": "1.5.0",
          "state": {
            "_dom_classes": [],
            "_model_module": "@jupyter-widgets/controls",
            "_model_module_version": "1.5.0",
            "_model_name": "HTMLModel",
            "_view_count": null,
            "_view_module": "@jupyter-widgets/controls",
            "_view_module_version": "1.5.0",
            "_view_name": "HTMLView",
            "description": "",
            "description_tooltip": null,
            "layout": "IPY_MODEL_2f0b36b477034ae7923c264e50a81f24",
            "placeholder": "​",
            "style": "IPY_MODEL_9eccd46f86a64e7a8ea0d099b504c351",
            "value": "Downloading: 100%"
          }
        },
        "b11dd07abc6441d292d2cddb7cc106c4": {
          "model_module": "@jupyter-widgets/controls",
          "model_name": "FloatProgressModel",
          "model_module_version": "1.5.0",
          "state": {
            "_dom_classes": [],
            "_model_module": "@jupyter-widgets/controls",
            "_model_module_version": "1.5.0",
            "_model_name": "FloatProgressModel",
            "_view_count": null,
            "_view_module": "@jupyter-widgets/controls",
            "_view_module_version": "1.5.0",
            "_view_name": "ProgressView",
            "bar_style": "success",
            "description": "",
            "description_tooltip": null,
            "layout": "IPY_MODEL_e7caf028992b4885bbcf909bca5ee5fd",
            "max": 480,
            "min": 0,
            "orientation": "horizontal",
            "style": "IPY_MODEL_a0d62384f36c4792b2bd19bf22ff6c73",
            "value": 480
          }
        },
        "9c8d5fb2cc294937a69bca00a083a3b9": {
          "model_module": "@jupyter-widgets/controls",
          "model_name": "HTMLModel",
          "model_module_version": "1.5.0",
          "state": {
            "_dom_classes": [],
            "_model_module": "@jupyter-widgets/controls",
            "_model_module_version": "1.5.0",
            "_model_name": "HTMLModel",
            "_view_count": null,
            "_view_module": "@jupyter-widgets/controls",
            "_view_module_version": "1.5.0",
            "_view_name": "HTMLView",
            "description": "",
            "description_tooltip": null,
            "layout": "IPY_MODEL_c2375dbfbbbb45b6bb07e0a606852014",
            "placeholder": "​",
            "style": "IPY_MODEL_be81127dba4e4d52955897b5a65a2346",
            "value": " 480/480 [00:00&lt;00:00, 1.90kB/s]"
          }
        },
        "7dbe473fd9824e6a989a04bd790f775b": {
          "model_module": "@jupyter-widgets/base",
          "model_name": "LayoutModel",
          "model_module_version": "1.2.0",
          "state": {
            "_model_module": "@jupyter-widgets/base",
            "_model_module_version": "1.2.0",
            "_model_name": "LayoutModel",
            "_view_count": null,
            "_view_module": "@jupyter-widgets/base",
            "_view_module_version": "1.2.0",
            "_view_name": "LayoutView",
            "align_content": null,
            "align_items": null,
            "align_self": null,
            "border": null,
            "bottom": null,
            "display": null,
            "flex": null,
            "flex_flow": null,
            "grid_area": null,
            "grid_auto_columns": null,
            "grid_auto_flow": null,
            "grid_auto_rows": null,
            "grid_column": null,
            "grid_gap": null,
            "grid_row": null,
            "grid_template_areas": null,
            "grid_template_columns": null,
            "grid_template_rows": null,
            "height": null,
            "justify_content": null,
            "justify_items": null,
            "left": null,
            "margin": null,
            "max_height": null,
            "max_width": null,
            "min_height": null,
            "min_width": null,
            "object_fit": null,
            "object_position": null,
            "order": null,
            "overflow": null,
            "overflow_x": null,
            "overflow_y": null,
            "padding": null,
            "right": null,
            "top": null,
            "visibility": null,
            "width": null
          }
        },
        "2f0b36b477034ae7923c264e50a81f24": {
          "model_module": "@jupyter-widgets/base",
          "model_name": "LayoutModel",
          "model_module_version": "1.2.0",
          "state": {
            "_model_module": "@jupyter-widgets/base",
            "_model_module_version": "1.2.0",
            "_model_name": "LayoutModel",
            "_view_count": null,
            "_view_module": "@jupyter-widgets/base",
            "_view_module_version": "1.2.0",
            "_view_name": "LayoutView",
            "align_content": null,
            "align_items": null,
            "align_self": null,
            "border": null,
            "bottom": null,
            "display": null,
            "flex": null,
            "flex_flow": null,
            "grid_area": null,
            "grid_auto_columns": null,
            "grid_auto_flow": null,
            "grid_auto_rows": null,
            "grid_column": null,
            "grid_gap": null,
            "grid_row": null,
            "grid_template_areas": null,
            "grid_template_columns": null,
            "grid_template_rows": null,
            "height": null,
            "justify_content": null,
            "justify_items": null,
            "left": null,
            "margin": null,
            "max_height": null,
            "max_width": null,
            "min_height": null,
            "min_width": null,
            "object_fit": null,
            "object_position": null,
            "order": null,
            "overflow": null,
            "overflow_x": null,
            "overflow_y": null,
            "padding": null,
            "right": null,
            "top": null,
            "visibility": null,
            "width": null
          }
        },
        "9eccd46f86a64e7a8ea0d099b504c351": {
          "model_module": "@jupyter-widgets/controls",
          "model_name": "DescriptionStyleModel",
          "model_module_version": "1.5.0",
          "state": {
            "_model_module": "@jupyter-widgets/controls",
            "_model_module_version": "1.5.0",
            "_model_name": "DescriptionStyleModel",
            "_view_count": null,
            "_view_module": "@jupyter-widgets/base",
            "_view_module_version": "1.2.0",
            "_view_name": "StyleView",
            "description_width": ""
          }
        },
        "e7caf028992b4885bbcf909bca5ee5fd": {
          "model_module": "@jupyter-widgets/base",
          "model_name": "LayoutModel",
          "model_module_version": "1.2.0",
          "state": {
            "_model_module": "@jupyter-widgets/base",
            "_model_module_version": "1.2.0",
            "_model_name": "LayoutModel",
            "_view_count": null,
            "_view_module": "@jupyter-widgets/base",
            "_view_module_version": "1.2.0",
            "_view_name": "LayoutView",
            "align_content": null,
            "align_items": null,
            "align_self": null,
            "border": null,
            "bottom": null,
            "display": null,
            "flex": null,
            "flex_flow": null,
            "grid_area": null,
            "grid_auto_columns": null,
            "grid_auto_flow": null,
            "grid_auto_rows": null,
            "grid_column": null,
            "grid_gap": null,
            "grid_row": null,
            "grid_template_areas": null,
            "grid_template_columns": null,
            "grid_template_rows": null,
            "height": null,
            "justify_content": null,
            "justify_items": null,
            "left": null,
            "margin": null,
            "max_height": null,
            "max_width": null,
            "min_height": null,
            "min_width": null,
            "object_fit": null,
            "object_position": null,
            "order": null,
            "overflow": null,
            "overflow_x": null,
            "overflow_y": null,
            "padding": null,
            "right": null,
            "top": null,
            "visibility": null,
            "width": null
          }
        },
        "a0d62384f36c4792b2bd19bf22ff6c73": {
          "model_module": "@jupyter-widgets/controls",
          "model_name": "ProgressStyleModel",
          "model_module_version": "1.5.0",
          "state": {
            "_model_module": "@jupyter-widgets/controls",
            "_model_module_version": "1.5.0",
            "_model_name": "ProgressStyleModel",
            "_view_count": null,
            "_view_module": "@jupyter-widgets/base",
            "_view_module_version": "1.2.0",
            "_view_name": "StyleView",
            "bar_color": null,
            "description_width": ""
          }
        },
        "c2375dbfbbbb45b6bb07e0a606852014": {
          "model_module": "@jupyter-widgets/base",
          "model_name": "LayoutModel",
          "model_module_version": "1.2.0",
          "state": {
            "_model_module": "@jupyter-widgets/base",
            "_model_module_version": "1.2.0",
            "_model_name": "LayoutModel",
            "_view_count": null,
            "_view_module": "@jupyter-widgets/base",
            "_view_module_version": "1.2.0",
            "_view_name": "LayoutView",
            "align_content": null,
            "align_items": null,
            "align_self": null,
            "border": null,
            "bottom": null,
            "display": null,
            "flex": null,
            "flex_flow": null,
            "grid_area": null,
            "grid_auto_columns": null,
            "grid_auto_flow": null,
            "grid_auto_rows": null,
            "grid_column": null,
            "grid_gap": null,
            "grid_row": null,
            "grid_template_areas": null,
            "grid_template_columns": null,
            "grid_template_rows": null,
            "height": null,
            "justify_content": null,
            "justify_items": null,
            "left": null,
            "margin": null,
            "max_height": null,
            "max_width": null,
            "min_height": null,
            "min_width": null,
            "object_fit": null,
            "object_position": null,
            "order": null,
            "overflow": null,
            "overflow_x": null,
            "overflow_y": null,
            "padding": null,
            "right": null,
            "top": null,
            "visibility": null,
            "width": null
          }
        },
        "be81127dba4e4d52955897b5a65a2346": {
          "model_module": "@jupyter-widgets/controls",
          "model_name": "DescriptionStyleModel",
          "model_module_version": "1.5.0",
          "state": {
            "_model_module": "@jupyter-widgets/controls",
            "_model_module_version": "1.5.0",
            "_model_name": "DescriptionStyleModel",
            "_view_count": null,
            "_view_module": "@jupyter-widgets/base",
            "_view_module_version": "1.2.0",
            "_view_name": "StyleView",
            "description_width": ""
          }
        },
        "cc3d0ff790344d84b91e7430b0d63984": {
          "model_module": "@jupyter-widgets/controls",
          "model_name": "HBoxModel",
          "model_module_version": "1.5.0",
          "state": {
            "_dom_classes": [],
            "_model_module": "@jupyter-widgets/controls",
            "_model_module_version": "1.5.0",
            "_model_name": "HBoxModel",
            "_view_count": null,
            "_view_module": "@jupyter-widgets/controls",
            "_view_module_version": "1.5.0",
            "_view_name": "HBoxView",
            "box_style": "",
            "children": [
              "IPY_MODEL_640a8ea8c4584088a64d92d7b44e546b",
              "IPY_MODEL_4e1b2ce5bf4c4120abcc6167c0fee8ad",
              "IPY_MODEL_64f74ea495bb41b19b59c26586a8446b"
            ],
            "layout": "IPY_MODEL_299d422a43404f1286d05c74ddc51530"
          }
        },
        "640a8ea8c4584088a64d92d7b44e546b": {
          "model_module": "@jupyter-widgets/controls",
          "model_name": "HTMLModel",
          "model_module_version": "1.5.0",
          "state": {
            "_dom_classes": [],
            "_model_module": "@jupyter-widgets/controls",
            "_model_module_version": "1.5.0",
            "_model_name": "HTMLModel",
            "_view_count": null,
            "_view_module": "@jupyter-widgets/controls",
            "_view_module_version": "1.5.0",
            "_view_name": "HTMLView",
            "description": "",
            "description_tooltip": null,
            "layout": "IPY_MODEL_b765bc32858942fd9466c23836348d26",
            "placeholder": "​",
            "style": "IPY_MODEL_15ecaf5710b14f6798598fd25190aedd",
            "value": "Downloading: 100%"
          }
        },
        "4e1b2ce5bf4c4120abcc6167c0fee8ad": {
          "model_module": "@jupyter-widgets/controls",
          "model_name": "FloatProgressModel",
          "model_module_version": "1.5.0",
          "state": {
            "_dom_classes": [],
            "_model_module": "@jupyter-widgets/controls",
            "_model_module_version": "1.5.0",
            "_model_name": "FloatProgressModel",
            "_view_count": null,
            "_view_module": "@jupyter-widgets/controls",
            "_view_module_version": "1.5.0",
            "_view_name": "ProgressView",
            "bar_style": "success",
            "description": "",
            "description_tooltip": null,
            "layout": "IPY_MODEL_5bc878d47dad4c429792baa123c8d992",
            "max": 14763234,
            "min": 0,
            "orientation": "horizontal",
            "style": "IPY_MODEL_3d1d6434c1e1484ba34769ef8b558145",
            "value": 14763234
          }
        },
        "64f74ea495bb41b19b59c26586a8446b": {
          "model_module": "@jupyter-widgets/controls",
          "model_name": "HTMLModel",
          "model_module_version": "1.5.0",
          "state": {
            "_dom_classes": [],
            "_model_module": "@jupyter-widgets/controls",
            "_model_module_version": "1.5.0",
            "_model_name": "HTMLModel",
            "_view_count": null,
            "_view_module": "@jupyter-widgets/controls",
            "_view_module_version": "1.5.0",
            "_view_name": "HTMLView",
            "description": "",
            "description_tooltip": null,
            "layout": "IPY_MODEL_95a5c3488fb1454fa2fcccfab715c63f",
            "placeholder": "​",
            "style": "IPY_MODEL_463874c1ecaf488ea9b6b9263e143cff",
            "value": " 14.8M/14.8M [00:02&lt;00:00, 9.51MB/s]"
          }
        },
        "299d422a43404f1286d05c74ddc51530": {
          "model_module": "@jupyter-widgets/base",
          "model_name": "LayoutModel",
          "model_module_version": "1.2.0",
          "state": {
            "_model_module": "@jupyter-widgets/base",
            "_model_module_version": "1.2.0",
            "_model_name": "LayoutModel",
            "_view_count": null,
            "_view_module": "@jupyter-widgets/base",
            "_view_module_version": "1.2.0",
            "_view_name": "LayoutView",
            "align_content": null,
            "align_items": null,
            "align_self": null,
            "border": null,
            "bottom": null,
            "display": null,
            "flex": null,
            "flex_flow": null,
            "grid_area": null,
            "grid_auto_columns": null,
            "grid_auto_flow": null,
            "grid_auto_rows": null,
            "grid_column": null,
            "grid_gap": null,
            "grid_row": null,
            "grid_template_areas": null,
            "grid_template_columns": null,
            "grid_template_rows": null,
            "height": null,
            "justify_content": null,
            "justify_items": null,
            "left": null,
            "margin": null,
            "max_height": null,
            "max_width": null,
            "min_height": null,
            "min_width": null,
            "object_fit": null,
            "object_position": null,
            "order": null,
            "overflow": null,
            "overflow_x": null,
            "overflow_y": null,
            "padding": null,
            "right": null,
            "top": null,
            "visibility": null,
            "width": null
          }
        },
        "b765bc32858942fd9466c23836348d26": {
          "model_module": "@jupyter-widgets/base",
          "model_name": "LayoutModel",
          "model_module_version": "1.2.0",
          "state": {
            "_model_module": "@jupyter-widgets/base",
            "_model_module_version": "1.2.0",
            "_model_name": "LayoutModel",
            "_view_count": null,
            "_view_module": "@jupyter-widgets/base",
            "_view_module_version": "1.2.0",
            "_view_name": "LayoutView",
            "align_content": null,
            "align_items": null,
            "align_self": null,
            "border": null,
            "bottom": null,
            "display": null,
            "flex": null,
            "flex_flow": null,
            "grid_area": null,
            "grid_auto_columns": null,
            "grid_auto_flow": null,
            "grid_auto_rows": null,
            "grid_column": null,
            "grid_gap": null,
            "grid_row": null,
            "grid_template_areas": null,
            "grid_template_columns": null,
            "grid_template_rows": null,
            "height": null,
            "justify_content": null,
            "justify_items": null,
            "left": null,
            "margin": null,
            "max_height": null,
            "max_width": null,
            "min_height": null,
            "min_width": null,
            "object_fit": null,
            "object_position": null,
            "order": null,
            "overflow": null,
            "overflow_x": null,
            "overflow_y": null,
            "padding": null,
            "right": null,
            "top": null,
            "visibility": null,
            "width": null
          }
        },
        "15ecaf5710b14f6798598fd25190aedd": {
          "model_module": "@jupyter-widgets/controls",
          "model_name": "DescriptionStyleModel",
          "model_module_version": "1.5.0",
          "state": {
            "_model_module": "@jupyter-widgets/controls",
            "_model_module_version": "1.5.0",
            "_model_name": "DescriptionStyleModel",
            "_view_count": null,
            "_view_module": "@jupyter-widgets/base",
            "_view_module_version": "1.2.0",
            "_view_name": "StyleView",
            "description_width": ""
          }
        },
        "5bc878d47dad4c429792baa123c8d992": {
          "model_module": "@jupyter-widgets/base",
          "model_name": "LayoutModel",
          "model_module_version": "1.2.0",
          "state": {
            "_model_module": "@jupyter-widgets/base",
            "_model_module_version": "1.2.0",
            "_model_name": "LayoutModel",
            "_view_count": null,
            "_view_module": "@jupyter-widgets/base",
            "_view_module_version": "1.2.0",
            "_view_name": "LayoutView",
            "align_content": null,
            "align_items": null,
            "align_self": null,
            "border": null,
            "bottom": null,
            "display": null,
            "flex": null,
            "flex_flow": null,
            "grid_area": null,
            "grid_auto_columns": null,
            "grid_auto_flow": null,
            "grid_auto_rows": null,
            "grid_column": null,
            "grid_gap": null,
            "grid_row": null,
            "grid_template_areas": null,
            "grid_template_columns": null,
            "grid_template_rows": null,
            "height": null,
            "justify_content": null,
            "justify_items": null,
            "left": null,
            "margin": null,
            "max_height": null,
            "max_width": null,
            "min_height": null,
            "min_width": null,
            "object_fit": null,
            "object_position": null,
            "order": null,
            "overflow": null,
            "overflow_x": null,
            "overflow_y": null,
            "padding": null,
            "right": null,
            "top": null,
            "visibility": null,
            "width": null
          }
        },
        "3d1d6434c1e1484ba34769ef8b558145": {
          "model_module": "@jupyter-widgets/controls",
          "model_name": "ProgressStyleModel",
          "model_module_version": "1.5.0",
          "state": {
            "_model_module": "@jupyter-widgets/controls",
            "_model_module_version": "1.5.0",
            "_model_name": "ProgressStyleModel",
            "_view_count": null,
            "_view_module": "@jupyter-widgets/base",
            "_view_module_version": "1.2.0",
            "_view_name": "StyleView",
            "bar_color": null,
            "description_width": ""
          }
        },
        "95a5c3488fb1454fa2fcccfab715c63f": {
          "model_module": "@jupyter-widgets/base",
          "model_name": "LayoutModel",
          "model_module_version": "1.2.0",
          "state": {
            "_model_module": "@jupyter-widgets/base",
            "_model_module_version": "1.2.0",
            "_model_name": "LayoutModel",
            "_view_count": null,
            "_view_module": "@jupyter-widgets/base",
            "_view_module_version": "1.2.0",
            "_view_name": "LayoutView",
            "align_content": null,
            "align_items": null,
            "align_self": null,
            "border": null,
            "bottom": null,
            "display": null,
            "flex": null,
            "flex_flow": null,
            "grid_area": null,
            "grid_auto_columns": null,
            "grid_auto_flow": null,
            "grid_auto_rows": null,
            "grid_column": null,
            "grid_gap": null,
            "grid_row": null,
            "grid_template_areas": null,
            "grid_template_columns": null,
            "grid_template_rows": null,
            "height": null,
            "justify_content": null,
            "justify_items": null,
            "left": null,
            "margin": null,
            "max_height": null,
            "max_width": null,
            "min_height": null,
            "min_width": null,
            "object_fit": null,
            "object_position": null,
            "order": null,
            "overflow": null,
            "overflow_x": null,
            "overflow_y": null,
            "padding": null,
            "right": null,
            "top": null,
            "visibility": null,
            "width": null
          }
        },
        "463874c1ecaf488ea9b6b9263e143cff": {
          "model_module": "@jupyter-widgets/controls",
          "model_name": "DescriptionStyleModel",
          "model_module_version": "1.5.0",
          "state": {
            "_model_module": "@jupyter-widgets/controls",
            "_model_module_version": "1.5.0",
            "_model_name": "DescriptionStyleModel",
            "_view_count": null,
            "_view_module": "@jupyter-widgets/base",
            "_view_module_version": "1.2.0",
            "_view_name": "StyleView",
            "description_width": ""
          }
        },
        "57e2dd77b80740b390b0728887391d7b": {
          "model_module": "@jupyter-widgets/controls",
          "model_name": "HBoxModel",
          "model_module_version": "1.5.0",
          "state": {
            "_dom_classes": [],
            "_model_module": "@jupyter-widgets/controls",
            "_model_module_version": "1.5.0",
            "_model_name": "HBoxModel",
            "_view_count": null,
            "_view_module": "@jupyter-widgets/controls",
            "_view_module_version": "1.5.0",
            "_view_name": "HBoxView",
            "box_style": "",
            "children": [
              "IPY_MODEL_eb5c146e117d48daacd4c7204a78426f",
              "IPY_MODEL_cbebd0f258b74335a987a8f45b515034",
              "IPY_MODEL_e5e4f0500cb34a50bdc4d84baf5f4635"
            ],
            "layout": "IPY_MODEL_4d1ffed236b9414a844f40a1d8746d93"
          }
        },
        "eb5c146e117d48daacd4c7204a78426f": {
          "model_module": "@jupyter-widgets/controls",
          "model_name": "HTMLModel",
          "model_module_version": "1.5.0",
          "state": {
            "_dom_classes": [],
            "_model_module": "@jupyter-widgets/controls",
            "_model_module_version": "1.5.0",
            "_model_name": "HTMLModel",
            "_view_count": null,
            "_view_module": "@jupyter-widgets/controls",
            "_view_module_version": "1.5.0",
            "_view_name": "HTMLView",
            "description": "",
            "description_tooltip": null,
            "layout": "IPY_MODEL_98b8a51ea711489ca2b4388bc81c7007",
            "placeholder": "​",
            "style": "IPY_MODEL_fddae1a92cbf4268a87b57102753a143",
            "value": "Downloading: 100%"
          }
        },
        "cbebd0f258b74335a987a8f45b515034": {
          "model_module": "@jupyter-widgets/controls",
          "model_name": "FloatProgressModel",
          "model_module_version": "1.5.0",
          "state": {
            "_dom_classes": [],
            "_model_module": "@jupyter-widgets/controls",
            "_model_module_version": "1.5.0",
            "_model_name": "FloatProgressModel",
            "_view_count": null,
            "_view_module": "@jupyter-widgets/controls",
            "_view_module_version": "1.5.0",
            "_view_name": "ProgressView",
            "bar_style": "success",
            "description": "",
            "description_tooltip": null,
            "layout": "IPY_MODEL_839f1db59fef453280a22ec44b0d5fb6",
            "max": 229,
            "min": 0,
            "orientation": "horizontal",
            "style": "IPY_MODEL_8b74b72043af42128523ce034f18e86c",
            "value": 229
          }
        },
        "e5e4f0500cb34a50bdc4d84baf5f4635": {
          "model_module": "@jupyter-widgets/controls",
          "model_name": "HTMLModel",
          "model_module_version": "1.5.0",
          "state": {
            "_dom_classes": [],
            "_model_module": "@jupyter-widgets/controls",
            "_model_module_version": "1.5.0",
            "_model_name": "HTMLModel",
            "_view_count": null,
            "_view_module": "@jupyter-widgets/controls",
            "_view_module_version": "1.5.0",
            "_view_name": "HTMLView",
            "description": "",
            "description_tooltip": null,
            "layout": "IPY_MODEL_b871663e4441453aa5464daf9d8a7b8f",
            "placeholder": "​",
            "style": "IPY_MODEL_6023fc2d90b14856abb9582cf4571165",
            "value": " 229/229 [00:00&lt;00:00, 1.49kB/s]"
          }
        },
        "4d1ffed236b9414a844f40a1d8746d93": {
          "model_module": "@jupyter-widgets/base",
          "model_name": "LayoutModel",
          "model_module_version": "1.2.0",
          "state": {
            "_model_module": "@jupyter-widgets/base",
            "_model_module_version": "1.2.0",
            "_model_name": "LayoutModel",
            "_view_count": null,
            "_view_module": "@jupyter-widgets/base",
            "_view_module_version": "1.2.0",
            "_view_name": "LayoutView",
            "align_content": null,
            "align_items": null,
            "align_self": null,
            "border": null,
            "bottom": null,
            "display": null,
            "flex": null,
            "flex_flow": null,
            "grid_area": null,
            "grid_auto_columns": null,
            "grid_auto_flow": null,
            "grid_auto_rows": null,
            "grid_column": null,
            "grid_gap": null,
            "grid_row": null,
            "grid_template_areas": null,
            "grid_template_columns": null,
            "grid_template_rows": null,
            "height": null,
            "justify_content": null,
            "justify_items": null,
            "left": null,
            "margin": null,
            "max_height": null,
            "max_width": null,
            "min_height": null,
            "min_width": null,
            "object_fit": null,
            "object_position": null,
            "order": null,
            "overflow": null,
            "overflow_x": null,
            "overflow_y": null,
            "padding": null,
            "right": null,
            "top": null,
            "visibility": null,
            "width": null
          }
        },
        "98b8a51ea711489ca2b4388bc81c7007": {
          "model_module": "@jupyter-widgets/base",
          "model_name": "LayoutModel",
          "model_module_version": "1.2.0",
          "state": {
            "_model_module": "@jupyter-widgets/base",
            "_model_module_version": "1.2.0",
            "_model_name": "LayoutModel",
            "_view_count": null,
            "_view_module": "@jupyter-widgets/base",
            "_view_module_version": "1.2.0",
            "_view_name": "LayoutView",
            "align_content": null,
            "align_items": null,
            "align_self": null,
            "border": null,
            "bottom": null,
            "display": null,
            "flex": null,
            "flex_flow": null,
            "grid_area": null,
            "grid_auto_columns": null,
            "grid_auto_flow": null,
            "grid_auto_rows": null,
            "grid_column": null,
            "grid_gap": null,
            "grid_row": null,
            "grid_template_areas": null,
            "grid_template_columns": null,
            "grid_template_rows": null,
            "height": null,
            "justify_content": null,
            "justify_items": null,
            "left": null,
            "margin": null,
            "max_height": null,
            "max_width": null,
            "min_height": null,
            "min_width": null,
            "object_fit": null,
            "object_position": null,
            "order": null,
            "overflow": null,
            "overflow_x": null,
            "overflow_y": null,
            "padding": null,
            "right": null,
            "top": null,
            "visibility": null,
            "width": null
          }
        },
        "fddae1a92cbf4268a87b57102753a143": {
          "model_module": "@jupyter-widgets/controls",
          "model_name": "DescriptionStyleModel",
          "model_module_version": "1.5.0",
          "state": {
            "_model_module": "@jupyter-widgets/controls",
            "_model_module_version": "1.5.0",
            "_model_name": "DescriptionStyleModel",
            "_view_count": null,
            "_view_module": "@jupyter-widgets/base",
            "_view_module_version": "1.2.0",
            "_view_name": "StyleView",
            "description_width": ""
          }
        },
        "839f1db59fef453280a22ec44b0d5fb6": {
          "model_module": "@jupyter-widgets/base",
          "model_name": "LayoutModel",
          "model_module_version": "1.2.0",
          "state": {
            "_model_module": "@jupyter-widgets/base",
            "_model_module_version": "1.2.0",
            "_model_name": "LayoutModel",
            "_view_count": null,
            "_view_module": "@jupyter-widgets/base",
            "_view_module_version": "1.2.0",
            "_view_name": "LayoutView",
            "align_content": null,
            "align_items": null,
            "align_self": null,
            "border": null,
            "bottom": null,
            "display": null,
            "flex": null,
            "flex_flow": null,
            "grid_area": null,
            "grid_auto_columns": null,
            "grid_auto_flow": null,
            "grid_auto_rows": null,
            "grid_column": null,
            "grid_gap": null,
            "grid_row": null,
            "grid_template_areas": null,
            "grid_template_columns": null,
            "grid_template_rows": null,
            "height": null,
            "justify_content": null,
            "justify_items": null,
            "left": null,
            "margin": null,
            "max_height": null,
            "max_width": null,
            "min_height": null,
            "min_width": null,
            "object_fit": null,
            "object_position": null,
            "order": null,
            "overflow": null,
            "overflow_x": null,
            "overflow_y": null,
            "padding": null,
            "right": null,
            "top": null,
            "visibility": null,
            "width": null
          }
        },
        "8b74b72043af42128523ce034f18e86c": {
          "model_module": "@jupyter-widgets/controls",
          "model_name": "ProgressStyleModel",
          "model_module_version": "1.5.0",
          "state": {
            "_model_module": "@jupyter-widgets/controls",
            "_model_module_version": "1.5.0",
            "_model_name": "ProgressStyleModel",
            "_view_count": null,
            "_view_module": "@jupyter-widgets/base",
            "_view_module_version": "1.2.0",
            "_view_name": "StyleView",
            "bar_color": null,
            "description_width": ""
          }
        },
        "b871663e4441453aa5464daf9d8a7b8f": {
          "model_module": "@jupyter-widgets/base",
          "model_name": "LayoutModel",
          "model_module_version": "1.2.0",
          "state": {
            "_model_module": "@jupyter-widgets/base",
            "_model_module_version": "1.2.0",
            "_model_name": "LayoutModel",
            "_view_count": null,
            "_view_module": "@jupyter-widgets/base",
            "_view_module_version": "1.2.0",
            "_view_name": "LayoutView",
            "align_content": null,
            "align_items": null,
            "align_self": null,
            "border": null,
            "bottom": null,
            "display": null,
            "flex": null,
            "flex_flow": null,
            "grid_area": null,
            "grid_auto_columns": null,
            "grid_auto_flow": null,
            "grid_auto_rows": null,
            "grid_column": null,
            "grid_gap": null,
            "grid_row": null,
            "grid_template_areas": null,
            "grid_template_columns": null,
            "grid_template_rows": null,
            "height": null,
            "justify_content": null,
            "justify_items": null,
            "left": null,
            "margin": null,
            "max_height": null,
            "max_width": null,
            "min_height": null,
            "min_width": null,
            "object_fit": null,
            "object_position": null,
            "order": null,
            "overflow": null,
            "overflow_x": null,
            "overflow_y": null,
            "padding": null,
            "right": null,
            "top": null,
            "visibility": null,
            "width": null
          }
        },
        "6023fc2d90b14856abb9582cf4571165": {
          "model_module": "@jupyter-widgets/controls",
          "model_name": "DescriptionStyleModel",
          "model_module_version": "1.5.0",
          "state": {
            "_model_module": "@jupyter-widgets/controls",
            "_model_module_version": "1.5.0",
            "_model_name": "DescriptionStyleModel",
            "_view_count": null,
            "_view_module": "@jupyter-widgets/base",
            "_view_module_version": "1.2.0",
            "_view_name": "StyleView",
            "description_width": ""
          }
        },
        "9732f338616f4895ad429013fd7d6a70": {
          "model_module": "@jupyter-widgets/controls",
          "model_name": "HBoxModel",
          "model_module_version": "1.5.0",
          "state": {
            "_dom_classes": [],
            "_model_module": "@jupyter-widgets/controls",
            "_model_module_version": "1.5.0",
            "_model_name": "HBoxModel",
            "_view_count": null,
            "_view_module": "@jupyter-widgets/controls",
            "_view_module_version": "1.5.0",
            "_view_name": "HBoxView",
            "box_style": "",
            "children": [
              "IPY_MODEL_9baf724421d74c19b94da56fa2ae46e0",
              "IPY_MODEL_9e95b1d65ae44d898229aa84996cdca6",
              "IPY_MODEL_eb37a760be024ef8954a654f445cb74a"
            ],
            "layout": "IPY_MODEL_ee2ec4fbf4514728a4407fdf948e72d7"
          }
        },
        "9baf724421d74c19b94da56fa2ae46e0": {
          "model_module": "@jupyter-widgets/controls",
          "model_name": "HTMLModel",
          "model_module_version": "1.5.0",
          "state": {
            "_dom_classes": [],
            "_model_module": "@jupyter-widgets/controls",
            "_model_module_version": "1.5.0",
            "_model_name": "HTMLModel",
            "_view_count": null,
            "_view_module": "@jupyter-widgets/controls",
            "_view_module_version": "1.5.0",
            "_view_name": "HTMLView",
            "description": "",
            "description_tooltip": null,
            "layout": "IPY_MODEL_0677056c99aa4d959f33a6e2864b63e7",
            "placeholder": "​",
            "style": "IPY_MODEL_ab56e866b521433cab24bbebbc5a295c",
            "value": "Batches: 100%"
          }
        },
        "9e95b1d65ae44d898229aa84996cdca6": {
          "model_module": "@jupyter-widgets/controls",
          "model_name": "FloatProgressModel",
          "model_module_version": "1.5.0",
          "state": {
            "_dom_classes": [],
            "_model_module": "@jupyter-widgets/controls",
            "_model_module_version": "1.5.0",
            "_model_name": "FloatProgressModel",
            "_view_count": null,
            "_view_module": "@jupyter-widgets/controls",
            "_view_module_version": "1.5.0",
            "_view_name": "ProgressView",
            "bar_style": "success",
            "description": "",
            "description_tooltip": null,
            "layout": "IPY_MODEL_0dc49881b4f44cf396e1fbeb022d7818",
            "max": 329,
            "min": 0,
            "orientation": "horizontal",
            "style": "IPY_MODEL_739869076df34678b0dd05a4530fde58",
            "value": 329
          }
        },
        "eb37a760be024ef8954a654f445cb74a": {
          "model_module": "@jupyter-widgets/controls",
          "model_name": "HTMLModel",
          "model_module_version": "1.5.0",
          "state": {
            "_dom_classes": [],
            "_model_module": "@jupyter-widgets/controls",
            "_model_module_version": "1.5.0",
            "_model_name": "HTMLModel",
            "_view_count": null,
            "_view_module": "@jupyter-widgets/controls",
            "_view_module_version": "1.5.0",
            "_view_name": "HTMLView",
            "description": "",
            "description_tooltip": null,
            "layout": "IPY_MODEL_2becae9c700540fe8ac0a13c1d38eadc",
            "placeholder": "​",
            "style": "IPY_MODEL_e086481cdb5347ef9cc2e48e4b57e808",
            "value": " 329/329 [00:46&lt;00:00, 11.18it/s]"
          }
        },
        "ee2ec4fbf4514728a4407fdf948e72d7": {
          "model_module": "@jupyter-widgets/base",
          "model_name": "LayoutModel",
          "model_module_version": "1.2.0",
          "state": {
            "_model_module": "@jupyter-widgets/base",
            "_model_module_version": "1.2.0",
            "_model_name": "LayoutModel",
            "_view_count": null,
            "_view_module": "@jupyter-widgets/base",
            "_view_module_version": "1.2.0",
            "_view_name": "LayoutView",
            "align_content": null,
            "align_items": null,
            "align_self": null,
            "border": null,
            "bottom": null,
            "display": null,
            "flex": null,
            "flex_flow": null,
            "grid_area": null,
            "grid_auto_columns": null,
            "grid_auto_flow": null,
            "grid_auto_rows": null,
            "grid_column": null,
            "grid_gap": null,
            "grid_row": null,
            "grid_template_areas": null,
            "grid_template_columns": null,
            "grid_template_rows": null,
            "height": null,
            "justify_content": null,
            "justify_items": null,
            "left": null,
            "margin": null,
            "max_height": null,
            "max_width": null,
            "min_height": null,
            "min_width": null,
            "object_fit": null,
            "object_position": null,
            "order": null,
            "overflow": null,
            "overflow_x": null,
            "overflow_y": null,
            "padding": null,
            "right": null,
            "top": null,
            "visibility": null,
            "width": null
          }
        },
        "0677056c99aa4d959f33a6e2864b63e7": {
          "model_module": "@jupyter-widgets/base",
          "model_name": "LayoutModel",
          "model_module_version": "1.2.0",
          "state": {
            "_model_module": "@jupyter-widgets/base",
            "_model_module_version": "1.2.0",
            "_model_name": "LayoutModel",
            "_view_count": null,
            "_view_module": "@jupyter-widgets/base",
            "_view_module_version": "1.2.0",
            "_view_name": "LayoutView",
            "align_content": null,
            "align_items": null,
            "align_self": null,
            "border": null,
            "bottom": null,
            "display": null,
            "flex": null,
            "flex_flow": null,
            "grid_area": null,
            "grid_auto_columns": null,
            "grid_auto_flow": null,
            "grid_auto_rows": null,
            "grid_column": null,
            "grid_gap": null,
            "grid_row": null,
            "grid_template_areas": null,
            "grid_template_columns": null,
            "grid_template_rows": null,
            "height": null,
            "justify_content": null,
            "justify_items": null,
            "left": null,
            "margin": null,
            "max_height": null,
            "max_width": null,
            "min_height": null,
            "min_width": null,
            "object_fit": null,
            "object_position": null,
            "order": null,
            "overflow": null,
            "overflow_x": null,
            "overflow_y": null,
            "padding": null,
            "right": null,
            "top": null,
            "visibility": null,
            "width": null
          }
        },
        "ab56e866b521433cab24bbebbc5a295c": {
          "model_module": "@jupyter-widgets/controls",
          "model_name": "DescriptionStyleModel",
          "model_module_version": "1.5.0",
          "state": {
            "_model_module": "@jupyter-widgets/controls",
            "_model_module_version": "1.5.0",
            "_model_name": "DescriptionStyleModel",
            "_view_count": null,
            "_view_module": "@jupyter-widgets/base",
            "_view_module_version": "1.2.0",
            "_view_name": "StyleView",
            "description_width": ""
          }
        },
        "0dc49881b4f44cf396e1fbeb022d7818": {
          "model_module": "@jupyter-widgets/base",
          "model_name": "LayoutModel",
          "model_module_version": "1.2.0",
          "state": {
            "_model_module": "@jupyter-widgets/base",
            "_model_module_version": "1.2.0",
            "_model_name": "LayoutModel",
            "_view_count": null,
            "_view_module": "@jupyter-widgets/base",
            "_view_module_version": "1.2.0",
            "_view_name": "LayoutView",
            "align_content": null,
            "align_items": null,
            "align_self": null,
            "border": null,
            "bottom": null,
            "display": null,
            "flex": null,
            "flex_flow": null,
            "grid_area": null,
            "grid_auto_columns": null,
            "grid_auto_flow": null,
            "grid_auto_rows": null,
            "grid_column": null,
            "grid_gap": null,
            "grid_row": null,
            "grid_template_areas": null,
            "grid_template_columns": null,
            "grid_template_rows": null,
            "height": null,
            "justify_content": null,
            "justify_items": null,
            "left": null,
            "margin": null,
            "max_height": null,
            "max_width": null,
            "min_height": null,
            "min_width": null,
            "object_fit": null,
            "object_position": null,
            "order": null,
            "overflow": null,
            "overflow_x": null,
            "overflow_y": null,
            "padding": null,
            "right": null,
            "top": null,
            "visibility": null,
            "width": null
          }
        },
        "739869076df34678b0dd05a4530fde58": {
          "model_module": "@jupyter-widgets/controls",
          "model_name": "ProgressStyleModel",
          "model_module_version": "1.5.0",
          "state": {
            "_model_module": "@jupyter-widgets/controls",
            "_model_module_version": "1.5.0",
            "_model_name": "ProgressStyleModel",
            "_view_count": null,
            "_view_module": "@jupyter-widgets/base",
            "_view_module_version": "1.2.0",
            "_view_name": "StyleView",
            "bar_color": null,
            "description_width": ""
          }
        },
        "2becae9c700540fe8ac0a13c1d38eadc": {
          "model_module": "@jupyter-widgets/base",
          "model_name": "LayoutModel",
          "model_module_version": "1.2.0",
          "state": {
            "_model_module": "@jupyter-widgets/base",
            "_model_module_version": "1.2.0",
            "_model_name": "LayoutModel",
            "_view_count": null,
            "_view_module": "@jupyter-widgets/base",
            "_view_module_version": "1.2.0",
            "_view_name": "LayoutView",
            "align_content": null,
            "align_items": null,
            "align_self": null,
            "border": null,
            "bottom": null,
            "display": null,
            "flex": null,
            "flex_flow": null,
            "grid_area": null,
            "grid_auto_columns": null,
            "grid_auto_flow": null,
            "grid_auto_rows": null,
            "grid_column": null,
            "grid_gap": null,
            "grid_row": null,
            "grid_template_areas": null,
            "grid_template_columns": null,
            "grid_template_rows": null,
            "height": null,
            "justify_content": null,
            "justify_items": null,
            "left": null,
            "margin": null,
            "max_height": null,
            "max_width": null,
            "min_height": null,
            "min_width": null,
            "object_fit": null,
            "object_position": null,
            "order": null,
            "overflow": null,
            "overflow_x": null,
            "overflow_y": null,
            "padding": null,
            "right": null,
            "top": null,
            "visibility": null,
            "width": null
          }
        },
        "e086481cdb5347ef9cc2e48e4b57e808": {
          "model_module": "@jupyter-widgets/controls",
          "model_name": "DescriptionStyleModel",
          "model_module_version": "1.5.0",
          "state": {
            "_model_module": "@jupyter-widgets/controls",
            "_model_module_version": "1.5.0",
            "_model_name": "DescriptionStyleModel",
            "_view_count": null,
            "_view_module": "@jupyter-widgets/base",
            "_view_module_version": "1.2.0",
            "_view_name": "StyleView",
            "description_width": ""
          }
        }
      }
    },
    "accelerator": "GPU"
  },
  "cells": [
    {
      "cell_type": "markdown",
      "metadata": {
        "id": "view-in-github",
        "colab_type": "text"
      },
      "source": [
        "<a href=\"https://colab.research.google.com/github/punkmic/Topic-Modeling-Reclame-Aqui/blob/master/Topic_Modeling_with_BERTopic_Reclame_aqui.ipynb\" target=\"_parent\"><img src=\"https://colab.research.google.com/assets/colab-badge.svg\" alt=\"Open In Colab\"/></a>"
      ]
    },
    {
      "cell_type": "markdown",
      "source": [
        "# **Topic Modeling with BERTopic - Reclame Aqui**\n",
        "\n",
        "BERTopic is a topic modeling technique that leverages 🤗 transformers and a custom class-based TF-IDF to create dense clusters allowing for easily interpretable topics whilst keeping important words in the topic descriptions (https://maartengr.github.io/BERTopic/index.html)."
      ],
      "metadata": {
        "id": "VG5Z-hvZ9GIZ"
      }
    },
    {
      "cell_type": "markdown",
      "source": [
        "### **Enabling the GPU**\n",
        "\n",
        "We will use the GPU provided by COLAB to accelarate our model training. To enable GPUs for the notebook:\n",
        "1- Navigate to Edit -> Notebook Settings\n",
        "2- Select GPU from the Hardware Accelerator drop-down"
      ],
      "metadata": {
        "id": "W_0vnbvROpuu"
      }
    },
    {
      "cell_type": "code",
      "source": [
        "# verify if GPU is enable\n",
        "gpu_info = !nvidia-smi\n",
        "gpu_info = '\\n'.join(gpu_info)\n",
        "if gpu_info.find('failed') >= 0:\n",
        "  print('Not connected to a GPU')\n",
        "else:\n",
        "  print(gpu_info)"
      ],
      "metadata": {
        "id": "gj08UQrDOqW2",
        "outputId": "d07f67ec-9fd2-4d54-8506-6853f77595a4",
        "colab": {
          "base_uri": "https://localhost:8080/"
        }
      },
      "execution_count": 1,
      "outputs": [
        {
          "output_type": "stream",
          "name": "stdout",
          "text": [
            "Sun Dec 11 16:22:55 2022       \n",
            "+-----------------------------------------------------------------------------+\n",
            "| NVIDIA-SMI 460.32.03    Driver Version: 460.32.03    CUDA Version: 11.2     |\n",
            "|-------------------------------+----------------------+----------------------+\n",
            "| GPU  Name        Persistence-M| Bus-Id        Disp.A | Volatile Uncorr. ECC |\n",
            "| Fan  Temp  Perf  Pwr:Usage/Cap|         Memory-Usage | GPU-Util  Compute M. |\n",
            "|                               |                      |               MIG M. |\n",
            "|===============================+======================+======================|\n",
            "|   0  Tesla T4            Off  | 00000000:00:04.0 Off |                    0 |\n",
            "| N/A   70C    P0    29W /  70W |      0MiB / 15109MiB |      0%      Default |\n",
            "|                               |                      |                  N/A |\n",
            "+-------------------------------+----------------------+----------------------+\n",
            "                                                                               \n",
            "+-----------------------------------------------------------------------------+\n",
            "| Processes:                                                                  |\n",
            "|  GPU   GI   CI        PID   Type   Process name                  GPU Memory |\n",
            "|        ID   ID                                                   Usage      |\n",
            "|=============================================================================|\n",
            "|  No running processes found                                                 |\n",
            "+-----------------------------------------------------------------------------+\n"
          ]
        }
      ]
    },
    {
      "cell_type": "markdown",
      "source": [
        "## **Import dependecies**"
      ],
      "metadata": {
        "id": "eXD8VBix7DD1"
      }
    },
    {
      "cell_type": "code",
      "execution_count": 59,
      "metadata": {
        "id": "CQ0hDdDm6gtj"
      },
      "outputs": [],
      "source": [
        "import pandas as pd # for data manipulation\n",
        "import os # for interacting with the operating system\n",
        "import nltk # for natural language processing\n",
        "import string # for string manipulation\n",
        "import re # for for regular expressions\n",
        "import matplotlib.pyplot as plt # for visualization\n",
        "import spacy # for lemmatize portuguese text\n",
        "try:\n",
        "  from bertopic import BERTopic # for topic modeling\n",
        "  from spellchecker import SpellChecker # for spell check\n",
        "except:\n",
        "  !pip install pyspellchecker\n",
        "  !pip install bertopic\n",
        "  !pip install kaleido # for save BERTopic plots as image\n",
        "  #os.kill(os.getpid(), 9)"
      ]
    },
    {
      "cell_type": "code",
      "source": [
        "# Install spacy pt_core_news_sm for portuguese text\n",
        "!python -m spacy download pt_core_news_sm"
      ],
      "metadata": {
        "id": "dafLrQKmvlGD",
        "outputId": "25ada82c-e75c-4051-d6c6-c180300d7de5",
        "colab": {
          "base_uri": "https://localhost:8080/"
        }
      },
      "execution_count": 3,
      "outputs": [
        {
          "output_type": "stream",
          "name": "stdout",
          "text": [
            "Looking in indexes: https://pypi.org/simple, https://us-python.pkg.dev/colab-wheels/public/simple/\n",
            "Collecting pt-core-news-sm==3.4.0\n",
            "  Downloading https://github.com/explosion/spacy-models/releases/download/pt_core_news_sm-3.4.0/pt_core_news_sm-3.4.0-py3-none-any.whl (13.0 MB)\n",
            "\u001b[K     |████████████████████████████████| 13.0 MB 1.4 MB/s \n",
            "\u001b[?25hRequirement already satisfied: spacy<3.5.0,>=3.4.0 in /usr/local/lib/python3.8/dist-packages (from pt-core-news-sm==3.4.0) (3.4.3)\n",
            "Requirement already satisfied: wasabi<1.1.0,>=0.9.1 in /usr/local/lib/python3.8/dist-packages (from spacy<3.5.0,>=3.4.0->pt-core-news-sm==3.4.0) (0.10.1)\n",
            "Requirement already satisfied: requests<3.0.0,>=2.13.0 in /usr/local/lib/python3.8/dist-packages (from spacy<3.5.0,>=3.4.0->pt-core-news-sm==3.4.0) (2.23.0)\n",
            "Requirement already satisfied: catalogue<2.1.0,>=2.0.6 in /usr/local/lib/python3.8/dist-packages (from spacy<3.5.0,>=3.4.0->pt-core-news-sm==3.4.0) (2.0.8)\n",
            "Requirement already satisfied: pathy>=0.3.5 in /usr/local/lib/python3.8/dist-packages (from spacy<3.5.0,>=3.4.0->pt-core-news-sm==3.4.0) (0.10.0)\n",
            "Requirement already satisfied: srsly<3.0.0,>=2.4.3 in /usr/local/lib/python3.8/dist-packages (from spacy<3.5.0,>=3.4.0->pt-core-news-sm==3.4.0) (2.4.5)\n",
            "Requirement already satisfied: setuptools in /usr/local/lib/python3.8/dist-packages (from spacy<3.5.0,>=3.4.0->pt-core-news-sm==3.4.0) (57.4.0)\n",
            "Requirement already satisfied: spacy-loggers<2.0.0,>=1.0.0 in /usr/local/lib/python3.8/dist-packages (from spacy<3.5.0,>=3.4.0->pt-core-news-sm==3.4.0) (1.0.3)\n",
            "Requirement already satisfied: preshed<3.1.0,>=3.0.2 in /usr/local/lib/python3.8/dist-packages (from spacy<3.5.0,>=3.4.0->pt-core-news-sm==3.4.0) (3.0.8)\n",
            "Requirement already satisfied: tqdm<5.0.0,>=4.38.0 in /usr/local/lib/python3.8/dist-packages (from spacy<3.5.0,>=3.4.0->pt-core-news-sm==3.4.0) (4.64.1)\n",
            "Requirement already satisfied: packaging>=20.0 in /usr/local/lib/python3.8/dist-packages (from spacy<3.5.0,>=3.4.0->pt-core-news-sm==3.4.0) (21.3)\n",
            "Requirement already satisfied: langcodes<4.0.0,>=3.2.0 in /usr/local/lib/python3.8/dist-packages (from spacy<3.5.0,>=3.4.0->pt-core-news-sm==3.4.0) (3.3.0)\n",
            "Requirement already satisfied: pydantic!=1.8,!=1.8.1,<1.11.0,>=1.7.4 in /usr/local/lib/python3.8/dist-packages (from spacy<3.5.0,>=3.4.0->pt-core-news-sm==3.4.0) (1.10.2)\n",
            "Requirement already satisfied: thinc<8.2.0,>=8.1.0 in /usr/local/lib/python3.8/dist-packages (from spacy<3.5.0,>=3.4.0->pt-core-news-sm==3.4.0) (8.1.5)\n",
            "Requirement already satisfied: spacy-legacy<3.1.0,>=3.0.10 in /usr/local/lib/python3.8/dist-packages (from spacy<3.5.0,>=3.4.0->pt-core-news-sm==3.4.0) (3.0.10)\n",
            "Requirement already satisfied: murmurhash<1.1.0,>=0.28.0 in /usr/local/lib/python3.8/dist-packages (from spacy<3.5.0,>=3.4.0->pt-core-news-sm==3.4.0) (1.0.9)\n",
            "Requirement already satisfied: jinja2 in /usr/local/lib/python3.8/dist-packages (from spacy<3.5.0,>=3.4.0->pt-core-news-sm==3.4.0) (2.11.3)\n",
            "Requirement already satisfied: typer<0.8.0,>=0.3.0 in /usr/local/lib/python3.8/dist-packages (from spacy<3.5.0,>=3.4.0->pt-core-news-sm==3.4.0) (0.7.0)\n",
            "Requirement already satisfied: numpy>=1.15.0 in /usr/local/lib/python3.8/dist-packages (from spacy<3.5.0,>=3.4.0->pt-core-news-sm==3.4.0) (1.21.6)\n",
            "Requirement already satisfied: cymem<2.1.0,>=2.0.2 in /usr/local/lib/python3.8/dist-packages (from spacy<3.5.0,>=3.4.0->pt-core-news-sm==3.4.0) (2.0.7)\n",
            "Requirement already satisfied: pyparsing!=3.0.5,>=2.0.2 in /usr/local/lib/python3.8/dist-packages (from packaging>=20.0->spacy<3.5.0,>=3.4.0->pt-core-news-sm==3.4.0) (3.0.9)\n",
            "Requirement already satisfied: smart-open<6.0.0,>=5.2.1 in /usr/local/lib/python3.8/dist-packages (from pathy>=0.3.5->spacy<3.5.0,>=3.4.0->pt-core-news-sm==3.4.0) (5.2.1)\n",
            "Requirement already satisfied: typing-extensions>=4.1.0 in /usr/local/lib/python3.8/dist-packages (from pydantic!=1.8,!=1.8.1,<1.11.0,>=1.7.4->spacy<3.5.0,>=3.4.0->pt-core-news-sm==3.4.0) (4.4.0)\n",
            "Requirement already satisfied: chardet<4,>=3.0.2 in /usr/local/lib/python3.8/dist-packages (from requests<3.0.0,>=2.13.0->spacy<3.5.0,>=3.4.0->pt-core-news-sm==3.4.0) (3.0.4)\n",
            "Requirement already satisfied: certifi>=2017.4.17 in /usr/local/lib/python3.8/dist-packages (from requests<3.0.0,>=2.13.0->spacy<3.5.0,>=3.4.0->pt-core-news-sm==3.4.0) (2022.9.24)\n",
            "Requirement already satisfied: urllib3!=1.25.0,!=1.25.1,<1.26,>=1.21.1 in /usr/local/lib/python3.8/dist-packages (from requests<3.0.0,>=2.13.0->spacy<3.5.0,>=3.4.0->pt-core-news-sm==3.4.0) (1.24.3)\n",
            "Requirement already satisfied: idna<3,>=2.5 in /usr/local/lib/python3.8/dist-packages (from requests<3.0.0,>=2.13.0->spacy<3.5.0,>=3.4.0->pt-core-news-sm==3.4.0) (2.10)\n",
            "Requirement already satisfied: blis<0.8.0,>=0.7.8 in /usr/local/lib/python3.8/dist-packages (from thinc<8.2.0,>=8.1.0->spacy<3.5.0,>=3.4.0->pt-core-news-sm==3.4.0) (0.7.9)\n",
            "Requirement already satisfied: confection<1.0.0,>=0.0.1 in /usr/local/lib/python3.8/dist-packages (from thinc<8.2.0,>=8.1.0->spacy<3.5.0,>=3.4.0->pt-core-news-sm==3.4.0) (0.0.3)\n",
            "Requirement already satisfied: click<9.0.0,>=7.1.1 in /usr/local/lib/python3.8/dist-packages (from typer<0.8.0,>=0.3.0->spacy<3.5.0,>=3.4.0->pt-core-news-sm==3.4.0) (7.1.2)\n",
            "Requirement already satisfied: MarkupSafe>=0.23 in /usr/local/lib/python3.8/dist-packages (from jinja2->spacy<3.5.0,>=3.4.0->pt-core-news-sm==3.4.0) (2.0.1)\n",
            "Installing collected packages: pt-core-news-sm\n",
            "Successfully installed pt-core-news-sm-3.4.0\n",
            "\u001b[38;5;2m✔ Download and installation successful\u001b[0m\n",
            "You can now load the package via spacy.load('pt_core_news_sm')\n"
          ]
        }
      ]
    },
    {
      "cell_type": "code",
      "source": [
        "nltk.download(\"punkt\")"
      ],
      "metadata": {
        "id": "BvRCi7Cvp0G6",
        "outputId": "4683c5f6-de74-4aa6-bfc9-94b0bd353920",
        "colab": {
          "base_uri": "https://localhost:8080/"
        }
      },
      "execution_count": 4,
      "outputs": [
        {
          "output_type": "stream",
          "name": "stderr",
          "text": [
            "[nltk_data] Downloading package punkt to /root/nltk_data...\n",
            "[nltk_data]   Unzipping tokenizers/punkt.zip.\n"
          ]
        },
        {
          "output_type": "execute_result",
          "data": {
            "text/plain": [
              "True"
            ]
          },
          "metadata": {},
          "execution_count": 4
        }
      ]
    },
    {
      "cell_type": "code",
      "source": [
        "# Download dataset with stopwords\n",
        "nltk.download(\"stopwords\")"
      ],
      "metadata": {
        "id": "JAvaPg5ep3Df",
        "outputId": "f3305a5c-0f31-4caa-a500-a4f24b409129",
        "colab": {
          "base_uri": "https://localhost:8080/"
        }
      },
      "execution_count": 5,
      "outputs": [
        {
          "output_type": "stream",
          "name": "stderr",
          "text": [
            "[nltk_data] Downloading package stopwords to /root/nltk_data...\n",
            "[nltk_data]   Unzipping corpora/stopwords.zip.\n"
          ]
        },
        {
          "output_type": "execute_result",
          "data": {
            "text/plain": [
              "True"
            ]
          },
          "metadata": {},
          "execution_count": 5
        }
      ]
    },
    {
      "cell_type": "code",
      "source": [
        "# Donwload datasets for lemmatization\n",
        "nltk.download('wordnet')\n",
        "nltk.download('omw-1.4')"
      ],
      "metadata": {
        "id": "97RrmPshvcmu",
        "outputId": "912dd915-0d76-4baa-fd68-891285e6add1",
        "colab": {
          "base_uri": "https://localhost:8080/"
        }
      },
      "execution_count": 6,
      "outputs": [
        {
          "output_type": "stream",
          "name": "stderr",
          "text": [
            "[nltk_data] Downloading package wordnet to /root/nltk_data...\n",
            "[nltk_data] Downloading package omw-1.4 to /root/nltk_data...\n"
          ]
        },
        {
          "output_type": "execute_result",
          "data": {
            "text/plain": [
              "True"
            ]
          },
          "metadata": {},
          "execution_count": 6
        }
      ]
    },
    {
      "cell_type": "code",
      "source": [
        "# Donwload dependency need to stem portuguese text\n",
        "nltk.download('rslp')"
      ],
      "metadata": {
        "id": "qn9OrF3EXCNv",
        "outputId": "99cdc37a-f2ee-40b8-f8ef-da7c52263762",
        "colab": {
          "base_uri": "https://localhost:8080/"
        }
      },
      "execution_count": 7,
      "outputs": [
        {
          "output_type": "stream",
          "name": "stderr",
          "text": [
            "[nltk_data] Downloading package rslp to /root/nltk_data...\n",
            "[nltk_data]   Unzipping stemmers/rslp.zip.\n"
          ]
        },
        {
          "output_type": "execute_result",
          "data": {
            "text/plain": [
              "True"
            ]
          },
          "metadata": {},
          "execution_count": 7
        }
      ]
    },
    {
      "cell_type": "markdown",
      "source": [
        "## **Load data from [Github](https://github.com/punkmic/Topic-Modeling-Reclame-Aqui.git)**"
      ],
      "metadata": {
        "id": "EGjKdT4C8RVD"
      }
    },
    {
      "cell_type": "code",
      "source": [
        "!git clone https://github.com/punkmic/Topic-Modeling-Reclame-Aqui.git"
      ],
      "metadata": {
        "id": "C_yss1JC-8Ou",
        "outputId": "3c6104b4-f4ff-4b77-fd0e-f0f36b0bcc2d",
        "colab": {
          "base_uri": "https://localhost:8080/"
        }
      },
      "execution_count": 8,
      "outputs": [
        {
          "output_type": "stream",
          "name": "stdout",
          "text": [
            "Cloning into 'Topic-Modeling-Reclame-Aqui'...\n",
            "remote: Enumerating objects: 16139, done.\u001b[K\n",
            "remote: Counting objects: 100% (1958/1958), done.\u001b[K\n",
            "remote: Compressing objects: 100% (1759/1759), done.\u001b[K\n",
            "remote: Total 16139 (delta 238), reused 1808 (delta 173), pack-reused 14181\u001b[K\n",
            "Receiving objects: 100% (16139/16139), 118.28 MiB | 15.35 MiB/s, done.\n",
            "Resolving deltas: 100% (1386/1386), done.\n",
            "Checking out files: 100% (14795/14795), done.\n"
          ]
        }
      ]
    },
    {
      "cell_type": "markdown",
      "source": [
        "## **Run this cell to update files from remote repository**"
      ],
      "metadata": {
        "id": "4CYg7519JC64"
      }
    },
    {
      "cell_type": "code",
      "source": [
        "# Change directory\n",
        "%cd /content/Topic-Modeling-Reclame-Aqui \n",
        "\n",
        "# Update files from remote repository\n",
        "!git pull \n",
        "\n",
        "# Return to work directory\n",
        "%cd ..\n",
        "\n",
        "# Check current directory\n",
        "!pwd"
      ],
      "metadata": {
        "id": "uv3QBnDRHFPv",
        "outputId": "f8a067a7-51f5-431c-bb82-fa93b07a1ed9",
        "colab": {
          "base_uri": "https://localhost:8080/"
        }
      },
      "execution_count": 9,
      "outputs": [
        {
          "output_type": "stream",
          "name": "stdout",
          "text": [
            "/content/Topic-Modeling-Reclame-Aqui\n",
            "Already up to date.\n",
            "/content\n",
            "/content\n"
          ]
        }
      ]
    },
    {
      "cell_type": "markdown",
      "source": [
        "## **Read csv file using read_csv() method as Dataframe**"
      ],
      "metadata": {
        "id": "5YitWNVVJTOP"
      }
    },
    {
      "cell_type": "code",
      "source": [
        "def read_data(path_csv, drop_duplicates = True, lower=True):\n",
        " \n",
        "  # Use the read_csv method to read csv file\n",
        "  df = pd.read_csv(path_csv)\n",
        "  \n",
        "  if drop_duplicates:\n",
        "    # Read and return the CSV file using the read_csv method\n",
        "    print(f\"Shape before remove duplicates: {df.shape}\")\n",
        "\n",
        "    # Use the drop_duplicated method to drop duplicates rows\n",
        "    df = df.drop_duplicates(subset=\"text\")\n",
        "\n",
        "    print(f\"Shape after remove duplicates: {df.shape}\")\n",
        "\n",
        "    if lower:\n",
        "      # apply the str.lower() method to each element in the dataframe\n",
        "      df = df.applymap(str.lower)\n",
        "  return df"
      ],
      "metadata": {
        "id": "F3IoOKARBwVb"
      },
      "execution_count": 10,
      "outputs": []
    },
    {
      "cell_type": "code",
      "source": [
        "# Set the path to data\n",
        "path_csv = \"/content/Topic-Modeling-Reclame-Aqui/corpus.csv\"\n",
        "\n",
        "df = read_data(path_csv)\n",
        "\n",
        "# Print the first 5 rows of the DataFrame\n",
        "df.head(5)"
      ],
      "metadata": {
        "id": "2ppvYJG90iVk",
        "outputId": "57ffc95c-f681-49ab-facf-313f69bed5fb",
        "colab": {
          "base_uri": "https://localhost:8080/",
          "height": 243
        }
      },
      "execution_count": 11,
      "outputs": [
        {
          "output_type": "stream",
          "name": "stdout",
          "text": [
            "Shape before remove duplicates: (12760, 2)\n",
            "Shape after remove duplicates: (10510, 2)\n"
          ]
        },
        {
          "output_type": "execute_result",
          "data": {
            "text/plain": [
              "                                               title  \\\n",
              "0  pedido cancelado sem justificativa após uma se...   \n",
              "1                                  pedido cancelado    \n",
              "2                                  cobrança indevida   \n",
              "3                                 pedido reincidente   \n",
              "4            assinatura para vender na amazon brasil   \n",
              "\n",
              "                                                text  \n",
              "0  eu estava pesquisando bastante uma nova tv par...  \n",
              "1  eu sinceramente estou decepcionada com o amazo...  \n",
              "2  cancelei meu plano antes de terminar o período...  \n",
              "3  olha fiz compra veio errada, e veio errado nov...  \n",
              "4  eu me inscrevi na amazon para realizar vendas ...  "
            ],
            "text/html": [
              "\n",
              "  <div id=\"df-dd917908-2fdc-4f9a-a422-ecedc0a70880\">\n",
              "    <div class=\"colab-df-container\">\n",
              "      <div>\n",
              "<style scoped>\n",
              "    .dataframe tbody tr th:only-of-type {\n",
              "        vertical-align: middle;\n",
              "    }\n",
              "\n",
              "    .dataframe tbody tr th {\n",
              "        vertical-align: top;\n",
              "    }\n",
              "\n",
              "    .dataframe thead th {\n",
              "        text-align: right;\n",
              "    }\n",
              "</style>\n",
              "<table border=\"1\" class=\"dataframe\">\n",
              "  <thead>\n",
              "    <tr style=\"text-align: right;\">\n",
              "      <th></th>\n",
              "      <th>title</th>\n",
              "      <th>text</th>\n",
              "    </tr>\n",
              "  </thead>\n",
              "  <tbody>\n",
              "    <tr>\n",
              "      <th>0</th>\n",
              "      <td>pedido cancelado sem justificativa após uma se...</td>\n",
              "      <td>eu estava pesquisando bastante uma nova tv par...</td>\n",
              "    </tr>\n",
              "    <tr>\n",
              "      <th>1</th>\n",
              "      <td>pedido cancelado</td>\n",
              "      <td>eu sinceramente estou decepcionada com o amazo...</td>\n",
              "    </tr>\n",
              "    <tr>\n",
              "      <th>2</th>\n",
              "      <td>cobrança indevida</td>\n",
              "      <td>cancelei meu plano antes de terminar o período...</td>\n",
              "    </tr>\n",
              "    <tr>\n",
              "      <th>3</th>\n",
              "      <td>pedido reincidente</td>\n",
              "      <td>olha fiz compra veio errada, e veio errado nov...</td>\n",
              "    </tr>\n",
              "    <tr>\n",
              "      <th>4</th>\n",
              "      <td>assinatura para vender na amazon brasil</td>\n",
              "      <td>eu me inscrevi na amazon para realizar vendas ...</td>\n",
              "    </tr>\n",
              "  </tbody>\n",
              "</table>\n",
              "</div>\n",
              "      <button class=\"colab-df-convert\" onclick=\"convertToInteractive('df-dd917908-2fdc-4f9a-a422-ecedc0a70880')\"\n",
              "              title=\"Convert this dataframe to an interactive table.\"\n",
              "              style=\"display:none;\">\n",
              "        \n",
              "  <svg xmlns=\"http://www.w3.org/2000/svg\" height=\"24px\"viewBox=\"0 0 24 24\"\n",
              "       width=\"24px\">\n",
              "    <path d=\"M0 0h24v24H0V0z\" fill=\"none\"/>\n",
              "    <path d=\"M18.56 5.44l.94 2.06.94-2.06 2.06-.94-2.06-.94-.94-2.06-.94 2.06-2.06.94zm-11 1L8.5 8.5l.94-2.06 2.06-.94-2.06-.94L8.5 2.5l-.94 2.06-2.06.94zm10 10l.94 2.06.94-2.06 2.06-.94-2.06-.94-.94-2.06-.94 2.06-2.06.94z\"/><path d=\"M17.41 7.96l-1.37-1.37c-.4-.4-.92-.59-1.43-.59-.52 0-1.04.2-1.43.59L10.3 9.45l-7.72 7.72c-.78.78-.78 2.05 0 2.83L4 21.41c.39.39.9.59 1.41.59.51 0 1.02-.2 1.41-.59l7.78-7.78 2.81-2.81c.8-.78.8-2.07 0-2.86zM5.41 20L4 18.59l7.72-7.72 1.47 1.35L5.41 20z\"/>\n",
              "  </svg>\n",
              "      </button>\n",
              "      \n",
              "  <style>\n",
              "    .colab-df-container {\n",
              "      display:flex;\n",
              "      flex-wrap:wrap;\n",
              "      gap: 12px;\n",
              "    }\n",
              "\n",
              "    .colab-df-convert {\n",
              "      background-color: #E8F0FE;\n",
              "      border: none;\n",
              "      border-radius: 50%;\n",
              "      cursor: pointer;\n",
              "      display: none;\n",
              "      fill: #1967D2;\n",
              "      height: 32px;\n",
              "      padding: 0 0 0 0;\n",
              "      width: 32px;\n",
              "    }\n",
              "\n",
              "    .colab-df-convert:hover {\n",
              "      background-color: #E2EBFA;\n",
              "      box-shadow: 0px 1px 2px rgba(60, 64, 67, 0.3), 0px 1px 3px 1px rgba(60, 64, 67, 0.15);\n",
              "      fill: #174EA6;\n",
              "    }\n",
              "\n",
              "    [theme=dark] .colab-df-convert {\n",
              "      background-color: #3B4455;\n",
              "      fill: #D2E3FC;\n",
              "    }\n",
              "\n",
              "    [theme=dark] .colab-df-convert:hover {\n",
              "      background-color: #434B5C;\n",
              "      box-shadow: 0px 1px 3px 1px rgba(0, 0, 0, 0.15);\n",
              "      filter: drop-shadow(0px 1px 2px rgba(0, 0, 0, 0.3));\n",
              "      fill: #FFFFFF;\n",
              "    }\n",
              "  </style>\n",
              "\n",
              "      <script>\n",
              "        const buttonEl =\n",
              "          document.querySelector('#df-dd917908-2fdc-4f9a-a422-ecedc0a70880 button.colab-df-convert');\n",
              "        buttonEl.style.display =\n",
              "          google.colab.kernel.accessAllowed ? 'block' : 'none';\n",
              "\n",
              "        async function convertToInteractive(key) {\n",
              "          const element = document.querySelector('#df-dd917908-2fdc-4f9a-a422-ecedc0a70880');\n",
              "          const dataTable =\n",
              "            await google.colab.kernel.invokeFunction('convertToInteractive',\n",
              "                                                     [key], {});\n",
              "          if (!dataTable) return;\n",
              "\n",
              "          const docLinkHtml = 'Like what you see? Visit the ' +\n",
              "            '<a target=\"_blank\" href=https://colab.research.google.com/notebooks/data_table.ipynb>data table notebook</a>'\n",
              "            + ' to learn more about interactive tables.';\n",
              "          element.innerHTML = '';\n",
              "          dataTable['output_type'] = 'display_data';\n",
              "          await google.colab.output.renderOutput(dataTable, element);\n",
              "          const docLink = document.createElement('div');\n",
              "          docLink.innerHTML = docLinkHtml;\n",
              "          element.appendChild(docLink);\n",
              "        }\n",
              "      </script>\n",
              "    </div>\n",
              "  </div>\n",
              "  "
            ]
          },
          "metadata": {},
          "execution_count": 11
        }
      ]
    },
    {
      "cell_type": "markdown",
      "source": [
        "This dataset contains just two columns called title and text "
      ],
      "metadata": {
        "id": "gDfB_6inJgr7"
      }
    },
    {
      "cell_type": "code",
      "source": [
        "print(df.shape)"
      ],
      "metadata": {
        "id": "Ytly9hiGJzFA",
        "outputId": "aa7f9771-5775-4a66-c469-c82f3043f766",
        "colab": {
          "base_uri": "https://localhost:8080/"
        }
      },
      "execution_count": 12,
      "outputs": [
        {
          "output_type": "stream",
          "name": "stdout",
          "text": [
            "(10510, 2)\n"
          ]
        }
      ]
    },
    {
      "cell_type": "markdown",
      "source": [
        "There are 10510 unique rows in this dataset."
      ],
      "metadata": {
        "id": "Upvg5pKOJ0bv"
      }
    },
    {
      "cell_type": "markdown",
      "source": [
        "### **Now let's remove unwanted text, join the two columns and reset index**"
      ],
      "metadata": {
        "id": "i57ZGdO7LRag"
      }
    },
    {
      "cell_type": "code",
      "source": [
        "# join columns\n",
        "df[\"documents\"] = df[\"title\"] + \" \" + df[\"text\"]\n",
        "\n",
        "# Use the replace() method to replace the string with an empty string\n",
        "df = df.replace(re.compile('\\[editado pelo reclame aqui\\]|editado pelo reclame aqui|Editado pelo Reclame Aqui'), '')\n",
        "\n",
        "# Drop the old index column\n",
        "df.reset_index(inplace = True, drop = True)\n",
        "\n",
        "df.head()"
      ],
      "metadata": {
        "id": "N0iqgleUNVlE",
        "outputId": "14ceadfe-c1e0-4c7a-cc25-55fb07bf4e7f",
        "colab": {
          "base_uri": "https://localhost:8080/",
          "height": 337
        }
      },
      "execution_count": 13,
      "outputs": [
        {
          "output_type": "execute_result",
          "data": {
            "text/plain": [
              "                                               title  \\\n",
              "0  pedido cancelado sem justificativa após uma se...   \n",
              "1                                  pedido cancelado    \n",
              "2                                  cobrança indevida   \n",
              "3                                 pedido reincidente   \n",
              "4            assinatura para vender na amazon brasil   \n",
              "\n",
              "                                                text  \\\n",
              "0  eu estava pesquisando bastante uma nova tv par...   \n",
              "1  eu sinceramente estou decepcionada com o amazo...   \n",
              "2  cancelei meu plano antes de terminar o período...   \n",
              "3  olha fiz compra veio errada, e veio errado nov...   \n",
              "4  eu me inscrevi na amazon para realizar vendas ...   \n",
              "\n",
              "                                           documents  \n",
              "0  pedido cancelado sem justificativa após uma se...  \n",
              "1  pedido cancelado  eu sinceramente estou decepc...  \n",
              "2  cobrança indevida cancelei meu plano antes de ...  \n",
              "3  pedido reincidente olha fiz compra veio errada...  \n",
              "4  assinatura para vender na amazon brasil eu me ...  "
            ],
            "text/html": [
              "\n",
              "  <div id=\"df-d522da40-3504-4763-8967-b230efc08e08\">\n",
              "    <div class=\"colab-df-container\">\n",
              "      <div>\n",
              "<style scoped>\n",
              "    .dataframe tbody tr th:only-of-type {\n",
              "        vertical-align: middle;\n",
              "    }\n",
              "\n",
              "    .dataframe tbody tr th {\n",
              "        vertical-align: top;\n",
              "    }\n",
              "\n",
              "    .dataframe thead th {\n",
              "        text-align: right;\n",
              "    }\n",
              "</style>\n",
              "<table border=\"1\" class=\"dataframe\">\n",
              "  <thead>\n",
              "    <tr style=\"text-align: right;\">\n",
              "      <th></th>\n",
              "      <th>title</th>\n",
              "      <th>text</th>\n",
              "      <th>documents</th>\n",
              "    </tr>\n",
              "  </thead>\n",
              "  <tbody>\n",
              "    <tr>\n",
              "      <th>0</th>\n",
              "      <td>pedido cancelado sem justificativa após uma se...</td>\n",
              "      <td>eu estava pesquisando bastante uma nova tv par...</td>\n",
              "      <td>pedido cancelado sem justificativa após uma se...</td>\n",
              "    </tr>\n",
              "    <tr>\n",
              "      <th>1</th>\n",
              "      <td>pedido cancelado</td>\n",
              "      <td>eu sinceramente estou decepcionada com o amazo...</td>\n",
              "      <td>pedido cancelado  eu sinceramente estou decepc...</td>\n",
              "    </tr>\n",
              "    <tr>\n",
              "      <th>2</th>\n",
              "      <td>cobrança indevida</td>\n",
              "      <td>cancelei meu plano antes de terminar o período...</td>\n",
              "      <td>cobrança indevida cancelei meu plano antes de ...</td>\n",
              "    </tr>\n",
              "    <tr>\n",
              "      <th>3</th>\n",
              "      <td>pedido reincidente</td>\n",
              "      <td>olha fiz compra veio errada, e veio errado nov...</td>\n",
              "      <td>pedido reincidente olha fiz compra veio errada...</td>\n",
              "    </tr>\n",
              "    <tr>\n",
              "      <th>4</th>\n",
              "      <td>assinatura para vender na amazon brasil</td>\n",
              "      <td>eu me inscrevi na amazon para realizar vendas ...</td>\n",
              "      <td>assinatura para vender na amazon brasil eu me ...</td>\n",
              "    </tr>\n",
              "  </tbody>\n",
              "</table>\n",
              "</div>\n",
              "      <button class=\"colab-df-convert\" onclick=\"convertToInteractive('df-d522da40-3504-4763-8967-b230efc08e08')\"\n",
              "              title=\"Convert this dataframe to an interactive table.\"\n",
              "              style=\"display:none;\">\n",
              "        \n",
              "  <svg xmlns=\"http://www.w3.org/2000/svg\" height=\"24px\"viewBox=\"0 0 24 24\"\n",
              "       width=\"24px\">\n",
              "    <path d=\"M0 0h24v24H0V0z\" fill=\"none\"/>\n",
              "    <path d=\"M18.56 5.44l.94 2.06.94-2.06 2.06-.94-2.06-.94-.94-2.06-.94 2.06-2.06.94zm-11 1L8.5 8.5l.94-2.06 2.06-.94-2.06-.94L8.5 2.5l-.94 2.06-2.06.94zm10 10l.94 2.06.94-2.06 2.06-.94-2.06-.94-.94-2.06-.94 2.06-2.06.94z\"/><path d=\"M17.41 7.96l-1.37-1.37c-.4-.4-.92-.59-1.43-.59-.52 0-1.04.2-1.43.59L10.3 9.45l-7.72 7.72c-.78.78-.78 2.05 0 2.83L4 21.41c.39.39.9.59 1.41.59.51 0 1.02-.2 1.41-.59l7.78-7.78 2.81-2.81c.8-.78.8-2.07 0-2.86zM5.41 20L4 18.59l7.72-7.72 1.47 1.35L5.41 20z\"/>\n",
              "  </svg>\n",
              "      </button>\n",
              "      \n",
              "  <style>\n",
              "    .colab-df-container {\n",
              "      display:flex;\n",
              "      flex-wrap:wrap;\n",
              "      gap: 12px;\n",
              "    }\n",
              "\n",
              "    .colab-df-convert {\n",
              "      background-color: #E8F0FE;\n",
              "      border: none;\n",
              "      border-radius: 50%;\n",
              "      cursor: pointer;\n",
              "      display: none;\n",
              "      fill: #1967D2;\n",
              "      height: 32px;\n",
              "      padding: 0 0 0 0;\n",
              "      width: 32px;\n",
              "    }\n",
              "\n",
              "    .colab-df-convert:hover {\n",
              "      background-color: #E2EBFA;\n",
              "      box-shadow: 0px 1px 2px rgba(60, 64, 67, 0.3), 0px 1px 3px 1px rgba(60, 64, 67, 0.15);\n",
              "      fill: #174EA6;\n",
              "    }\n",
              "\n",
              "    [theme=dark] .colab-df-convert {\n",
              "      background-color: #3B4455;\n",
              "      fill: #D2E3FC;\n",
              "    }\n",
              "\n",
              "    [theme=dark] .colab-df-convert:hover {\n",
              "      background-color: #434B5C;\n",
              "      box-shadow: 0px 1px 3px 1px rgba(0, 0, 0, 0.15);\n",
              "      filter: drop-shadow(0px 1px 2px rgba(0, 0, 0, 0.3));\n",
              "      fill: #FFFFFF;\n",
              "    }\n",
              "  </style>\n",
              "\n",
              "      <script>\n",
              "        const buttonEl =\n",
              "          document.querySelector('#df-d522da40-3504-4763-8967-b230efc08e08 button.colab-df-convert');\n",
              "        buttonEl.style.display =\n",
              "          google.colab.kernel.accessAllowed ? 'block' : 'none';\n",
              "\n",
              "        async function convertToInteractive(key) {\n",
              "          const element = document.querySelector('#df-d522da40-3504-4763-8967-b230efc08e08');\n",
              "          const dataTable =\n",
              "            await google.colab.kernel.invokeFunction('convertToInteractive',\n",
              "                                                     [key], {});\n",
              "          if (!dataTable) return;\n",
              "\n",
              "          const docLinkHtml = 'Like what you see? Visit the ' +\n",
              "            '<a target=\"_blank\" href=https://colab.research.google.com/notebooks/data_table.ipynb>data table notebook</a>'\n",
              "            + ' to learn more about interactive tables.';\n",
              "          element.innerHTML = '';\n",
              "          dataTable['output_type'] = 'display_data';\n",
              "          await google.colab.output.renderOutput(dataTable, element);\n",
              "          const docLink = document.createElement('div');\n",
              "          docLink.innerHTML = docLinkHtml;\n",
              "          element.appendChild(docLink);\n",
              "        }\n",
              "      </script>\n",
              "    </div>\n",
              "  </div>\n",
              "  "
            ]
          },
          "metadata": {},
          "execution_count": 13
        }
      ]
    },
    {
      "cell_type": "markdown",
      "source": [
        "### **Save table as image**"
      ],
      "metadata": {
        "id": "J5KS9IgNbqGR"
      }
    },
    {
      "cell_type": "code",
      "source": [
        "# Set the path to save \n",
        "path = '/content/Topic-Modeling-Reclame-Aqui/results/joined_table/'\n",
        "\n",
        "# Use makedirs() to create a new directory if it does not exists\n",
        "if not os.path.exists(path):\n",
        "  os.makedirs(path)\n",
        "\n",
        "# Save the DataFrame to a CSV file\n",
        "df.head(10).to_csv(path + 'joined_table.csv')"
      ],
      "metadata": {
        "id": "ziN54QGkbtk6"
      },
      "execution_count": 14,
      "outputs": []
    },
    {
      "cell_type": "markdown",
      "source": [
        "## **Preprocessing**"
      ],
      "metadata": {
        "id": "drjuwA5yk4YB"
      }
    },
    {
      "cell_type": "markdown",
      "source": [
        "### **Tokenization**\n",
        "\n",
        "Tokenization aims to breaking text down into its component parts"
      ],
      "metadata": {
        "id": "i9ukWCy8qBOP"
      }
    },
    {
      "cell_type": "code",
      "source": [
        "WORD_TOKENIZER = nltk.tokenize.word_tokenize\n",
        "def tokenize(text, lowercase=True):\n",
        "  if lowercase:\n",
        "    text = text.lower()\n",
        "  return WORD_TOKENIZER(text, language=\"portuguese\")"
      ],
      "metadata": {
        "id": "k_f8hsxJk7v4"
      },
      "execution_count": 15,
      "outputs": []
    },
    {
      "cell_type": "markdown",
      "source": [
        "### **Stem** \n",
        "\n",
        "Stem the tokens. This step aims to remove morphological affixes and normalize to standardized stem forms"
      ],
      "metadata": {
        "id": "Lm7V--yMq98r"
      }
    },
    {
      "cell_type": "code",
      "source": [
        "STEMMER = nltk.stem.RSLPStemmer()\n",
        "def stem(tokens):\n",
        "  return [STEMMER.stem(token) for token in tokens]"
      ],
      "metadata": {
        "id": "TphgFQIxrPMM"
      },
      "execution_count": 16,
      "outputs": []
    },
    {
      "cell_type": "markdown",
      "source": [
        "### **Lemmatize**\n",
        "\n",
        "Lemmatize the tokens. Retains more natural forms than stemming, but assumes all tokens nons unless tokens are passed as (word, pos) tuples. Note: nltk lemmatize does not suport portugues language"
      ],
      "metadata": {
        "id": "RTiUcqzrrdiX"
      }
    },
    {
      "cell_type": "code",
      "source": [
        "LEMMATIZER = nltk.WordNetLemmatizer()\n",
        "\n",
        "def lemmatize(tokens):\n",
        "  lemmas = []\n",
        "  for token in tokens:\n",
        "      if isinstance(token, str):\n",
        "          # treats token like a noun\n",
        "          lemmas.append(LEMMATIZER.lemmatize(token)) \n",
        "      else: \n",
        "          # assume a tuple of (word, pos)\n",
        "          lemmas.append(LEMMATIZER.lemmatize(*token))\n",
        "  return lemmas"
      ],
      "metadata": {
        "id": "4O48ihphrxy3"
      },
      "execution_count": 17,
      "outputs": []
    },
    {
      "cell_type": "markdown",
      "source": [
        "**Lemmatize option for portuguese text**"
      ],
      "metadata": {
        "id": "eHdBPARlU24i"
      }
    },
    {
      "cell_type": "code",
      "source": [
        "def lemmatize_pt(tokens, nlp):\n",
        "  # Create a spaCy Doc object and apply the lemmatization\n",
        "  doc = nlp(' '.join(tokens))\n",
        "\n",
        "  # Return lemmatize\n",
        "  return [token.lemma_ for token in doc]"
      ],
      "metadata": {
        "id": "pfgdVUHVU6Zy"
      },
      "execution_count": 51,
      "outputs": []
    },
    {
      "cell_type": "markdown",
      "source": [
        "### **Remove stopwords**\n",
        "\n",
        "Stop words are things like articles and conjunctions that usually do not offer a lot of value in an analysis."
      ],
      "metadata": {
        "id": "jkLYqJgDs4Xd"
      }
    },
    {
      "cell_type": "code",
      "source": [
        "def remove_stopwords(tokens, stopwords=None):\n",
        "\n",
        "  # Use the default stop words if none is passed\n",
        "  if stopwords is None:\n",
        "    stopwords = nltk.corpus.stopwords.words('portuguese')\n",
        "  \n",
        "  # Filter the list of tokens to exclude the stop word tokens\n",
        "  return [token for token in tokens if token not in stopwords]"
      ],
      "metadata": {
        "id": "D9blZaBYtHgj"
      },
      "execution_count": 19,
      "outputs": []
    },
    {
      "cell_type": "markdown",
      "source": [
        "### **Remove hyperlinks**\n",
        "\n",
        "Removes http/s links from the tokens."
      ],
      "metadata": {
        "id": "X4qMKyfKtaAW"
      }
    },
    {
      "cell_type": "code",
      "source": [
        "def remove_links(tokens):\n",
        "  # Filter tokens that starts with \"http://\" or \"https://\"\n",
        "  return [token for token in tokens \n",
        "          if not token.startswith(\"http://\")\n",
        "          and not token.startswith(\"https://\")]"
      ],
      "metadata": {
        "id": "LqlMta5qtovS"
      },
      "execution_count": 20,
      "outputs": []
    },
    {
      "cell_type": "markdown",
      "source": [
        "### **Remove numbers**"
      ],
      "metadata": {
        "id": "EwKFluprz-pW"
      }
    },
    {
      "cell_type": "code",
      "source": [
        "def remove_numbers(tokens):\n",
        "  # Filter out number tokens using a list comprehension and the isnumeric method\n",
        "  return [token for token in tokens if not token.isnumeric()]\n"
      ],
      "metadata": {
        "id": "ALKnXv8C0EWu"
      },
      "execution_count": 21,
      "outputs": []
    },
    {
      "cell_type": "markdown",
      "source": [
        "### **Remove date**"
      ],
      "metadata": {
        "id": "a0pZKAQ7ZJHL"
      }
    },
    {
      "cell_type": "code",
      "source": [
        "def remove_date(tokens):\n",
        "  # Compile a regular expression to match dates in the format dd/mm or dd/mm/yyyy\n",
        "  date_regex = re.compile(r'\\d{2}/\\d{2}(/\\d{4})?')\n",
        "\n",
        "  # Use the regex to find all the tokens that match the date pattern\n",
        "  dates = [token for token in tokens if date_regex.fullmatch(token)]\n",
        "\n",
        "  # Filter the list of tokens to exclude the date tokens\n",
        "  filtered_tokens = [token for token in tokens if token not in dates]\n",
        "\n",
        "  # Return the filtered tokens\n",
        "  return filtered_tokens"
      ],
      "metadata": {
        "id": "ywykIjKZctc-"
      },
      "execution_count": 22,
      "outputs": []
    },
    {
      "cell_type": "markdown",
      "source": [
        "### **Remove punctuation**"
      ],
      "metadata": {
        "id": "7y1FqCD1t75_"
      }
    },
    {
      "cell_type": "code",
      "source": [
        "def remove_punctuation(tokens,\n",
        "                       strip_mentions=False,\n",
        "                       strip_hashtags=False,\n",
        "                       strict=False):\n",
        "\n",
        "    # Use a regular expression to match and remove repeated punctuation characters\n",
        "    tokens = [re.sub(r\"([!\\\"#$%&'()*+,-./:;<=>?@[\\]^_`{|}~])\\1+\", \"\", token) for token in tokens]\n",
        "\n",
        "    # Filter punctuation tokens\n",
        "    tokens = [token for token in tokens if token not in string.punctuation]\n",
        "\n",
        "    # Remove @ symbol from left side of tokens\n",
        "    if strip_mentions:\n",
        "        tokens = [t.lstrip('@') for t in tokens]\n",
        "\n",
        "    # Remove # symbol from left side of tokens\n",
        "    if strip_hashtags:\n",
        "        tokens = [t.lstrip('#') for t in tokens]\n",
        "\n",
        "    return tokens"
      ],
      "metadata": {
        "id": "ba7paG7_uBtS"
      },
      "execution_count": 23,
      "outputs": []
    },
    {
      "cell_type": "markdown",
      "source": [
        "### **Remove short tokens**"
      ],
      "metadata": {
        "id": "SiUx2T8C5YBh"
      }
    },
    {
      "cell_type": "code",
      "source": [
        "def remove_short_tokens(tokens):\n",
        "  # Filter the list of tokens to exclude tokens that are shorter than four letters\n",
        "  filtered_tokens = [token for token in tokens if len(token) >= 4]\n",
        "\n",
        "  # Return the filtered tokens\n",
        "  return filtered_tokens"
      ],
      "metadata": {
        "id": "t8SOwNYW6QI1"
      },
      "execution_count": 24,
      "outputs": []
    },
    {
      "cell_type": "markdown",
      "source": [
        "### **Correction of spelling errors**"
      ],
      "metadata": {
        "id": "WqtOisN38pZP"
      }
    },
    {
      "cell_type": "code",
      "source": [
        "def check_spell_errors(text, spell):\n",
        "\n",
        "  # Correct the spelling errors in the text\n",
        "  corrected_text = spell.correction(text)\n",
        "\n",
        "  # If no correction is present user the original text\n",
        "  if corrected_text == None:\n",
        "     corrected_text =  text\n",
        "  \n",
        "  # Return the corrected text\n",
        "  return corrected_text"
      ],
      "metadata": {
        "id": "fUTiJYc_8hba"
      },
      "execution_count": 36,
      "outputs": []
    },
    {
      "cell_type": "code",
      "source": [
        "def preprocessing(documents, nlp = None, spell = None):\n",
        "  corpus = []\n",
        "\n",
        "  # process each document and append to corpus list\n",
        "  for i, text in enumerate(documents):\n",
        "    if i % 1000 == 0:\n",
        "      print(f\"{i} documents of {len(documents)}\\n\")\n",
        "    if spell != None:\n",
        "      text = check_spell_errors(text, spell)\n",
        "    tokens = tokenize(text)\n",
        "    tokens = remove_links(tokens)\n",
        "    tokens = remove_punctuation(tokens, strip_mentions=True, strip_hashtags=True)\n",
        "    tokens = remove_numbers(tokens)\n",
        "    tokens = remove_date(tokens)\n",
        "    tokens = remove_short_tokens(tokens)\n",
        "    tokens = remove_stopwords(tokens)\n",
        "    if nlp != None: \n",
        "      tokens = lemmatize_pt(tokens, nlp)\n",
        "    #tokens = stem(tokens) \n",
        "    corpus.append(' '.join(tokens))\n",
        "  return corpus"
      ],
      "metadata": {
        "id": "5aiFtbo3uuh_"
      },
      "execution_count": 54,
      "outputs": []
    },
    {
      "cell_type": "code",
      "source": [
        "# Create a SpellChecker object\n",
        "spell = SpellChecker(language='pt')\n",
        "\n",
        "nlp = spacy.load('pt_core_news_sm')\n",
        "\n",
        "corpus = preprocessing(df.documents, nlp, spell)"
      ],
      "metadata": {
        "id": "Tu75mPgywHwb"
      },
      "execution_count": null,
      "outputs": []
    },
    {
      "cell_type": "code",
      "source": [
        "# Print the first document before and after pre-processing it\n",
        "print(df.documents[0])\n",
        "print()\n",
        "print(corpus[0])"
      ],
      "metadata": {
        "id": "3jmOFKM1M-Qx",
        "outputId": "43b99853-0c19-4058-ee59-1571d8a03673",
        "colab": {
          "base_uri": "https://localhost:8080/"
        }
      },
      "execution_count": 57,
      "outputs": [
        {
          "output_type": "stream",
          "name": "stdout",
          "text": [
            "pedido cancelado sem justificativa após uma semana da compra eu estava pesquisando bastante uma nova tv para comprar e resolvi aguardar a semana do cliente, porque como ocorreu tiveram vários descontos e promoções nessa semana, sendo assim recebi descontos, cashback e cupons de varias plataformas e assim decidi efetuar a compra aquela que eu entendesse ser o melhor custo beneficio. sendo assim no dia 12 de setembro de 2022 recebi uma oferta de produto da amazon que entendi estar com um preço muito bom além de ter cachback e efetuei a compra que já aguardei até a semana do consumidor para efetuar com toda a expectativa. como estavamos anciosos e mesmo estando dentro do prazo de entrega hoje no dia 19/09 resolvi enviar uma mensagem perguntando quando o pedido seria enviado, ja que após a confirmação da compra e pagamento, passado 7 dias não tive nenhum retorno, já que complei inclusive na amazon, um site em que confio e tambem sou assinante. para a minha surpresa após o pedido de informação do pedido, tenho um retorno por email na qual o mesmo estaria sendo cancelado, sendo nenhuma justificativa e após 7 dias da realização do mesmo. ou seja aguardei chegar em um periodo de compro ansiosamente para aproveitar os descontos de um produto que minha familia aguardava, e além de cancelar a compra do produto sem uma justificativa a empresa me tirou todas as oportunidades e descontos que tive de efetuar a compra na semana do consumidor já que levaram 7 dias para cancelar o mesmo, me sinto extremamente  por uma empresa em que sempre acreditei, aguardo uma satisfação e reparação aos meus transtornos sofridos, já que hoje não consigo mais comprar esse produto pelo mesmo valor ou próximo a ele.\n",
            "\n",
            "pedir cancelado justificativa após semana comprr pesquisar bastante novo comprar resolver aguardar semana cliente porque ocorrer vários desconto promoção em esse semana ser assim recebi desconto cashback cupom varia plataforma assim decidir efetuar compra entender melhor custo beneficio ser assim setembro recebi oferta produto amazon entendi preço além cachback efetuei comprar aguardei semana consumidor efetuar todo expectativa estavar ancioso estar dentro prazo entregar hoje resolver enviar mensagem perguntar pedir enviar após confirmação comprar pagamento passado dia nenhum retorno complei inclusive amazon site confio tambem assinante surpresa após pedir informação pedir retorno email estar ser cancelar ser nenhum justificativa após dia realização aguardei chegar periodo compro ansiosamente aproveitar desconto produto familia aguardar além cancelar compra produto justificativa empresa tirar todo oportunidade desconto efetuar compra semano consumidor levar dia cancelar sinto extremamente empresa sempre acreditar aguardo satisfação reparação transtorno sofrer hoje com si comprar produto valor próximo\n"
          ]
        }
      ]
    },
    {
      "cell_type": "markdown",
      "source": [
        "## **Training a BERTopic Model**\n",
        "\n",
        "The BERTopic algorithm has several advantages over other topic modeling algorithms. It is able to handle sparse data, it is scalable to large datasets, and it is able to learn topics that are not well-defined or are overlapping.\n",
        "\n",
        "As our data language is portuguese we will going to set language to multilingual."
      ],
      "metadata": {
        "id": "AWmOFQ3VOD05"
      }
    },
    {
      "cell_type": "markdown",
      "source": [
        "Create a new BERTopic model and train it. By default BERTopic use the paraphrase-multilingual-MiniLM-L12-v2 model for multi language documents. For others model check here [BERTopic sentence transformers](https://maartengr.github.io/BERTopic/getting_started/embeddings/embeddings.html#sentence-transformers)"
      ],
      "metadata": {
        "id": "_mBsnRnhgbm9"
      }
    },
    {
      "cell_type": "code",
      "source": [
        "# Create a new BERTopic model using multilingual option\n",
        "topic_model = BERTopic(language=\"multilingual\", calculate_probabilities=True, verbose=True)\n",
        "\n",
        "# Train model \n",
        "topics, probs = topic_model.fit_transform(corpus)"
      ],
      "metadata": {
        "id": "B0EFqnutN2Y9",
        "outputId": "6b877d91-16b5-4c6f-d617-dc85d52a9f08",
        "colab": {
          "base_uri": "https://localhost:8080/",
          "height": 520,
          "referenced_widgets": [
            "bd43b16346664c668f472a3ef7df296f",
            "9dba3ef2b0a84f1cbec42f9679802adb",
            "fd9e0fd689944df0aa037fefa1b2c38b",
            "3e11447f242a4be29c5e67b81c20503c",
            "3ddc52206b284db9adbad4b8327b09fa",
            "fad202f64f134dddaeed9e724c6c225c",
            "9371b0d37e324833a780cea3f93f66ec",
            "fcee3d629ee343c892ba1edac94602ae",
            "a2419eca23b5403db6e5ec3a89519c83",
            "c67856ec170145fcac9a13a2b672c145",
            "ca46181a8ff14b8b844e1647f16eb46b",
            "7a75eed8a7c642bfbb243af753a9bb73",
            "1f2ebd504c1743e59e1a53b1708cfa8b",
            "a82640ffe97a4b979f1a0e40d9a7dc01",
            "0e5ed97d148146d794914aaad51c75d6",
            "6f42ed0dacb746e1912684e7489ada55",
            "bb48ab05d88c40dab84acaf7d7544b12",
            "0daad72322a8401e9dc58bb16dae77d9",
            "c3bbaa1666714633b1961624b793f8a3",
            "586392f3b7f74a739a08f5638d47c927",
            "5e5585833f8e493c92ba695085fac1a6",
            "2d90a93d3cee4652a6daaeb58204f05c",
            "5ef361bc4c684c34bb6e74ebaf857b4d",
            "0c7ca7dc45aa48d69466cc893915ecb0",
            "d84599d2d6b14ad388250e5a110c5fad",
            "0fc4e742f5994c3dbc59f9955ed77b3b",
            "80412eb1e279429cb20bf711c4e52721",
            "ac2c0af3580e4d7b83eddaad0bce9125",
            "abfef3577c34470c8566b54ff71b817d",
            "745ff7697e084199b876be26ed8f0bdb",
            "9c4a0ac2898446e1a6c4171ceb10e57d",
            "11a7259bee844aa6b8e38722120925f7",
            "6e1b841552ba4d2fb0758a1ad5566605",
            "37d81677f981449cb33cd0e0fa74a926",
            "abaec0df9f53436a8ae621dcba2742f5",
            "90fe531e73814238a7af329c8689207f",
            "3858879b14444e94a77198718211237a",
            "3beaf8a679fe435583b558e48571ad9f",
            "7163f79baa1948cda61ae2cae844ca3c",
            "740078c31a384a61ba5055195b99e172",
            "fa22339599964f78b8d399c4335b6a78",
            "896b67fbde6d4e01ab66834580ba2641",
            "a8fcd469f8de435197f5031d3b5131fe",
            "24cbbfd5ed354662b200606c3b79a067",
            "87604585d3b94a2d8540907fed593aa2",
            "0f8aaebb47e545ccbafe5ca95bbfc342",
            "95b33979e5f24d719df64428f80313b5",
            "dadb85c6045b4d07b16e7f87033d75af",
            "65517ee5c61446799a17b9aecfd1e333",
            "caee9f1146af48cd80c84434eaf7b103",
            "65b35f75be214ceaae9ab324fece55f6",
            "dcc724d465994278a79c841e0f8fce66",
            "b1018d29e6eb4325ad161acf1cbeac30",
            "1dc9735245e04678a1aba60759bb6552",
            "317ea661078945d88121c1d5651afc22",
            "16763280ed894520b14ad9d2fdd2f69e",
            "03c3d041573f4dc491a6a094af812cba",
            "b916f9bb5259432ab1d7e9942b43dd1d",
            "8e49ecbbf372432983cb7a8dbc9fd294",
            "ee187de3c04147228ddbbe5f74a1cc21",
            "32d23ec1ab054e0f911d83b9c4b4edbc",
            "f068c489fca3478a945fd8a824e6c228",
            "346e9b5fb659475ba4fbed1fb6c9ec51",
            "9bfcfbb2df024335aaf16c877ed16a3b",
            "4fbf3278da7f43cba4d65a6ba4a46485",
            "ccd32bfaa90b4632b25469800feacc87",
            "e9f0c4e07b434a469ea6f3098d04280e",
            "e54d8333bb3d4ac1bb53943c0f8d46dc",
            "a300ecc010c0484a91a792ec3312a31e",
            "972aab7ad1a541718083782134c56b83",
            "ad6d19cb8da74cf0a14c48cb04f74d36",
            "05e8a4618dc149ca8da4f1a44fad2d03",
            "de898d3ae26746a4ae358288200d15c8",
            "c6c3a49275074a6a8397aeaa8bb24362",
            "7901ff4d274b450485edf46af56af482",
            "1fcbe0d5e9db4ad1bd378917f2a00049",
            "56f19fc40e444fe8b97e72b1dbdabfd7",
            "c70bf90097894931acede076b1662b2d",
            "e4aa75f96eb340c4846fb0e9281b3f34",
            "523e06c584cd458fad702c173787ec64",
            "32f40a201699401880e1c3b4ce0f94e4",
            "a490c2f4f23c4ac19111376417fad7e3",
            "bf3fa2b1b3184424b202e4f7075cd764",
            "2e555bdcf0fd4626bce517d286ac697a",
            "001388ae30374d34be22dabee2e86a70",
            "bb2c37e01ce54f61aa44c41b62d9249b",
            "ddaebe2c65134676846a4ec87b533426",
            "a5664e3ac50941d49779a0e6329a58dc",
            "dea59e6907c34064b96246fb05f385ba",
            "ee317c8d157e4ca7b08049091a1bb65d",
            "b35ed45e8056465a93f9a5e5de4b290c",
            "e8d715c0aa664bb198b18e967f0487ca",
            "ac4caa8ee1a74a7ba1b60ea3c167f66c",
            "de60a96ed19e4040bcdccaaa20bc0418",
            "f256758f493e4648b629d997bdc0b289",
            "3e1c6b9d42ef42a08121791ddebcdf09",
            "18f1744ddc6a45228b4fd8e9efecb64e",
            "2ceb2df2501e4a3188468267b3f99d38",
            "4fc557f7296b4e46bcdb6de6d667a0fa",
            "da8af9ad5a694f468daf5c8efc47105c",
            "78fad150b49f4be88f4111d9e5cd92fd",
            "c136e4f3c9104b3d85763c155e5e401e",
            "8c671036312648f8ab94835fb1739c57",
            "161b822ca79c466eb2efa98572393adf",
            "78657dde865549a5ba9f277beb6493c3",
            "23999a742dba4e46a06b821f229e788e",
            "d092387aa3ca44d08a966b3d9d212990",
            "074b9e9aa9104f74a77a3fe61d98e228",
            "972ac82321214f70b457000345a31e5d",
            "a5033a2a88a649ffb07ed4e84b059e87",
            "753db81fd5014d48befb5c5af50a9058",
            "8bc4d5f0f0ce41459e8c5654c1454b7c",
            "b11dd07abc6441d292d2cddb7cc106c4",
            "9c8d5fb2cc294937a69bca00a083a3b9",
            "7dbe473fd9824e6a989a04bd790f775b",
            "2f0b36b477034ae7923c264e50a81f24",
            "9eccd46f86a64e7a8ea0d099b504c351",
            "e7caf028992b4885bbcf909bca5ee5fd",
            "a0d62384f36c4792b2bd19bf22ff6c73",
            "c2375dbfbbbb45b6bb07e0a606852014",
            "be81127dba4e4d52955897b5a65a2346",
            "cc3d0ff790344d84b91e7430b0d63984",
            "640a8ea8c4584088a64d92d7b44e546b",
            "4e1b2ce5bf4c4120abcc6167c0fee8ad",
            "64f74ea495bb41b19b59c26586a8446b",
            "299d422a43404f1286d05c74ddc51530",
            "b765bc32858942fd9466c23836348d26",
            "15ecaf5710b14f6798598fd25190aedd",
            "5bc878d47dad4c429792baa123c8d992",
            "3d1d6434c1e1484ba34769ef8b558145",
            "95a5c3488fb1454fa2fcccfab715c63f",
            "463874c1ecaf488ea9b6b9263e143cff",
            "57e2dd77b80740b390b0728887391d7b",
            "eb5c146e117d48daacd4c7204a78426f",
            "cbebd0f258b74335a987a8f45b515034",
            "e5e4f0500cb34a50bdc4d84baf5f4635",
            "4d1ffed236b9414a844f40a1d8746d93",
            "98b8a51ea711489ca2b4388bc81c7007",
            "fddae1a92cbf4268a87b57102753a143",
            "839f1db59fef453280a22ec44b0d5fb6",
            "8b74b72043af42128523ce034f18e86c",
            "b871663e4441453aa5464daf9d8a7b8f",
            "6023fc2d90b14856abb9582cf4571165",
            "9732f338616f4895ad429013fd7d6a70",
            "9baf724421d74c19b94da56fa2ae46e0",
            "9e95b1d65ae44d898229aa84996cdca6",
            "eb37a760be024ef8954a654f445cb74a",
            "ee2ec4fbf4514728a4407fdf948e72d7",
            "0677056c99aa4d959f33a6e2864b63e7",
            "ab56e866b521433cab24bbebbc5a295c",
            "0dc49881b4f44cf396e1fbeb022d7818",
            "739869076df34678b0dd05a4530fde58",
            "2becae9c700540fe8ac0a13c1d38eadc",
            "e086481cdb5347ef9cc2e48e4b57e808"
          ]
        }
      },
      "execution_count": 60,
      "outputs": [
        {
          "output_type": "display_data",
          "data": {
            "text/plain": [
              "Downloading:   0%|          | 0.00/968 [00:00<?, ?B/s]"
            ],
            "application/vnd.jupyter.widget-view+json": {
              "version_major": 2,
              "version_minor": 0,
              "model_id": "bd43b16346664c668f472a3ef7df296f"
            }
          },
          "metadata": {}
        },
        {
          "output_type": "display_data",
          "data": {
            "text/plain": [
              "Downloading:   0%|          | 0.00/190 [00:00<?, ?B/s]"
            ],
            "application/vnd.jupyter.widget-view+json": {
              "version_major": 2,
              "version_minor": 0,
              "model_id": "7a75eed8a7c642bfbb243af753a9bb73"
            }
          },
          "metadata": {}
        },
        {
          "output_type": "display_data",
          "data": {
            "text/plain": [
              "Downloading:   0%|          | 0.00/3.79k [00:00<?, ?B/s]"
            ],
            "application/vnd.jupyter.widget-view+json": {
              "version_major": 2,
              "version_minor": 0,
              "model_id": "5ef361bc4c684c34bb6e74ebaf857b4d"
            }
          },
          "metadata": {}
        },
        {
          "output_type": "display_data",
          "data": {
            "text/plain": [
              "Downloading:   0%|          | 0.00/645 [00:00<?, ?B/s]"
            ],
            "application/vnd.jupyter.widget-view+json": {
              "version_major": 2,
              "version_minor": 0,
              "model_id": "37d81677f981449cb33cd0e0fa74a926"
            }
          },
          "metadata": {}
        },
        {
          "output_type": "display_data",
          "data": {
            "text/plain": [
              "Downloading:   0%|          | 0.00/122 [00:00<?, ?B/s]"
            ],
            "application/vnd.jupyter.widget-view+json": {
              "version_major": 2,
              "version_minor": 0,
              "model_id": "87604585d3b94a2d8540907fed593aa2"
            }
          },
          "metadata": {}
        },
        {
          "output_type": "display_data",
          "data": {
            "text/plain": [
              "Downloading:   0%|          | 0.00/471M [00:00<?, ?B/s]"
            ],
            "application/vnd.jupyter.widget-view+json": {
              "version_major": 2,
              "version_minor": 0,
              "model_id": "16763280ed894520b14ad9d2fdd2f69e"
            }
          },
          "metadata": {}
        },
        {
          "output_type": "display_data",
          "data": {
            "text/plain": [
              "Downloading:   0%|          | 0.00/53.0 [00:00<?, ?B/s]"
            ],
            "application/vnd.jupyter.widget-view+json": {
              "version_major": 2,
              "version_minor": 0,
              "model_id": "e9f0c4e07b434a469ea6f3098d04280e"
            }
          },
          "metadata": {}
        },
        {
          "output_type": "display_data",
          "data": {
            "text/plain": [
              "Downloading:   0%|          | 0.00/5.07M [00:00<?, ?B/s]"
            ],
            "application/vnd.jupyter.widget-view+json": {
              "version_major": 2,
              "version_minor": 0,
              "model_id": "c70bf90097894931acede076b1662b2d"
            }
          },
          "metadata": {}
        },
        {
          "output_type": "display_data",
          "data": {
            "text/plain": [
              "Downloading:   0%|          | 0.00/239 [00:00<?, ?B/s]"
            ],
            "application/vnd.jupyter.widget-view+json": {
              "version_major": 2,
              "version_minor": 0,
              "model_id": "dea59e6907c34064b96246fb05f385ba"
            }
          },
          "metadata": {}
        },
        {
          "output_type": "display_data",
          "data": {
            "text/plain": [
              "Downloading:   0%|          | 0.00/9.08M [00:00<?, ?B/s]"
            ],
            "application/vnd.jupyter.widget-view+json": {
              "version_major": 2,
              "version_minor": 0,
              "model_id": "da8af9ad5a694f468daf5c8efc47105c"
            }
          },
          "metadata": {}
        },
        {
          "output_type": "display_data",
          "data": {
            "text/plain": [
              "Downloading:   0%|          | 0.00/480 [00:00<?, ?B/s]"
            ],
            "application/vnd.jupyter.widget-view+json": {
              "version_major": 2,
              "version_minor": 0,
              "model_id": "753db81fd5014d48befb5c5af50a9058"
            }
          },
          "metadata": {}
        },
        {
          "output_type": "display_data",
          "data": {
            "text/plain": [
              "Downloading:   0%|          | 0.00/14.8M [00:00<?, ?B/s]"
            ],
            "application/vnd.jupyter.widget-view+json": {
              "version_major": 2,
              "version_minor": 0,
              "model_id": "cc3d0ff790344d84b91e7430b0d63984"
            }
          },
          "metadata": {}
        },
        {
          "output_type": "display_data",
          "data": {
            "text/plain": [
              "Downloading:   0%|          | 0.00/229 [00:00<?, ?B/s]"
            ],
            "application/vnd.jupyter.widget-view+json": {
              "version_major": 2,
              "version_minor": 0,
              "model_id": "57e2dd77b80740b390b0728887391d7b"
            }
          },
          "metadata": {}
        },
        {
          "output_type": "display_data",
          "data": {
            "text/plain": [
              "Batches:   0%|          | 0/329 [00:00<?, ?it/s]"
            ],
            "application/vnd.jupyter.widget-view+json": {
              "version_major": 2,
              "version_minor": 0,
              "model_id": "9732f338616f4895ad429013fd7d6a70"
            }
          },
          "metadata": {}
        },
        {
          "output_type": "stream",
          "name": "stderr",
          "text": [
            "2022-12-11 17:48:37,240 - BERTopic - Transformed documents to Embeddings\n",
            "2022-12-11 17:52:15,613 - BERTopic - Reduced dimensionality\n",
            "2022-12-11 17:52:37,472 - BERTopic - Clustered reduced embeddings\n"
          ]
        }
      ]
    },
    {
      "cell_type": "markdown",
      "source": [
        "BERTopic works in three main steps: \n",
        "\n",
        "\n",
        "1.   Documents are first converted to numeric data. It extracts different embeddings based on the context of the word. For this, a sentence transformation model is used.\n",
        "2.  Documents with similar topics are then grouped together forming clusters with similar topics. For this purpose, BERTopic uses the clustering algorithm UMAP to lower the dimensionality of the embeddings. Then the documents are clustered with the density-based algorithm HDBSCAN.\n",
        "3. BERTopic extracts topics from clusters using a class-based TF-IDF score. This score gives the importance of each word in a cluster. Topics are then created based on the most important words measured by their C-TF-IDF score.\n",
        "\n",
        "For more information check this link [BERTopic](https://towardsdatascience.com/topic-modeling-with-bert-779f7db187e6)\n",
        "\n"
      ],
      "metadata": {
        "id": "vnG5aC6ekXeu"
      }
    },
    {
      "cell_type": "markdown",
      "source": [
        "## **Extracting Topics**"
      ],
      "metadata": {
        "id": "GimKIMmaRZSd"
      }
    },
    {
      "cell_type": "code",
      "source": [
        "# Print the most frequent topics\n",
        "freq = topic_model.get_topic_info()\n",
        "\n",
        "# Show the top 5 most frequent topics\n",
        "freq.head(5)"
      ],
      "metadata": {
        "id": "JIrBNmF-Rcf0",
        "outputId": "55a0b31e-eac4-4c3f-a233-6c84e904c23c",
        "colab": {
          "base_uri": "https://localhost:8080/",
          "height": 206
        }
      },
      "execution_count": 61,
      "outputs": [
        {
          "output_type": "execute_result",
          "data": {
            "text/plain": [
              "   Topic  Count                               Name\n",
              "0     -1   4517   -1_produto_entregar_pedir_compra\n",
              "1      0   1470     0_amazon_prime_cobrança_cartão\n",
              "2      1    450        1_bahia_casa_casas_entregar\n",
              "3      2    357  2_celular_samsung_aparelho_galaxy\n",
              "4      3    278       3_atraso_prazo_entregar_data"
            ],
            "text/html": [
              "\n",
              "  <div id=\"df-8fafc73e-7e6b-4a72-8687-fea139e4f147\">\n",
              "    <div class=\"colab-df-container\">\n",
              "      <div>\n",
              "<style scoped>\n",
              "    .dataframe tbody tr th:only-of-type {\n",
              "        vertical-align: middle;\n",
              "    }\n",
              "\n",
              "    .dataframe tbody tr th {\n",
              "        vertical-align: top;\n",
              "    }\n",
              "\n",
              "    .dataframe thead th {\n",
              "        text-align: right;\n",
              "    }\n",
              "</style>\n",
              "<table border=\"1\" class=\"dataframe\">\n",
              "  <thead>\n",
              "    <tr style=\"text-align: right;\">\n",
              "      <th></th>\n",
              "      <th>Topic</th>\n",
              "      <th>Count</th>\n",
              "      <th>Name</th>\n",
              "    </tr>\n",
              "  </thead>\n",
              "  <tbody>\n",
              "    <tr>\n",
              "      <th>0</th>\n",
              "      <td>-1</td>\n",
              "      <td>4517</td>\n",
              "      <td>-1_produto_entregar_pedir_compra</td>\n",
              "    </tr>\n",
              "    <tr>\n",
              "      <th>1</th>\n",
              "      <td>0</td>\n",
              "      <td>1470</td>\n",
              "      <td>0_amazon_prime_cobrança_cartão</td>\n",
              "    </tr>\n",
              "    <tr>\n",
              "      <th>2</th>\n",
              "      <td>1</td>\n",
              "      <td>450</td>\n",
              "      <td>1_bahia_casa_casas_entregar</td>\n",
              "    </tr>\n",
              "    <tr>\n",
              "      <th>3</th>\n",
              "      <td>2</td>\n",
              "      <td>357</td>\n",
              "      <td>2_celular_samsung_aparelho_galaxy</td>\n",
              "    </tr>\n",
              "    <tr>\n",
              "      <th>4</th>\n",
              "      <td>3</td>\n",
              "      <td>278</td>\n",
              "      <td>3_atraso_prazo_entregar_data</td>\n",
              "    </tr>\n",
              "  </tbody>\n",
              "</table>\n",
              "</div>\n",
              "      <button class=\"colab-df-convert\" onclick=\"convertToInteractive('df-8fafc73e-7e6b-4a72-8687-fea139e4f147')\"\n",
              "              title=\"Convert this dataframe to an interactive table.\"\n",
              "              style=\"display:none;\">\n",
              "        \n",
              "  <svg xmlns=\"http://www.w3.org/2000/svg\" height=\"24px\"viewBox=\"0 0 24 24\"\n",
              "       width=\"24px\">\n",
              "    <path d=\"M0 0h24v24H0V0z\" fill=\"none\"/>\n",
              "    <path d=\"M18.56 5.44l.94 2.06.94-2.06 2.06-.94-2.06-.94-.94-2.06-.94 2.06-2.06.94zm-11 1L8.5 8.5l.94-2.06 2.06-.94-2.06-.94L8.5 2.5l-.94 2.06-2.06.94zm10 10l.94 2.06.94-2.06 2.06-.94-2.06-.94-.94-2.06-.94 2.06-2.06.94z\"/><path d=\"M17.41 7.96l-1.37-1.37c-.4-.4-.92-.59-1.43-.59-.52 0-1.04.2-1.43.59L10.3 9.45l-7.72 7.72c-.78.78-.78 2.05 0 2.83L4 21.41c.39.39.9.59 1.41.59.51 0 1.02-.2 1.41-.59l7.78-7.78 2.81-2.81c.8-.78.8-2.07 0-2.86zM5.41 20L4 18.59l7.72-7.72 1.47 1.35L5.41 20z\"/>\n",
              "  </svg>\n",
              "      </button>\n",
              "      \n",
              "  <style>\n",
              "    .colab-df-container {\n",
              "      display:flex;\n",
              "      flex-wrap:wrap;\n",
              "      gap: 12px;\n",
              "    }\n",
              "\n",
              "    .colab-df-convert {\n",
              "      background-color: #E8F0FE;\n",
              "      border: none;\n",
              "      border-radius: 50%;\n",
              "      cursor: pointer;\n",
              "      display: none;\n",
              "      fill: #1967D2;\n",
              "      height: 32px;\n",
              "      padding: 0 0 0 0;\n",
              "      width: 32px;\n",
              "    }\n",
              "\n",
              "    .colab-df-convert:hover {\n",
              "      background-color: #E2EBFA;\n",
              "      box-shadow: 0px 1px 2px rgba(60, 64, 67, 0.3), 0px 1px 3px 1px rgba(60, 64, 67, 0.15);\n",
              "      fill: #174EA6;\n",
              "    }\n",
              "\n",
              "    [theme=dark] .colab-df-convert {\n",
              "      background-color: #3B4455;\n",
              "      fill: #D2E3FC;\n",
              "    }\n",
              "\n",
              "    [theme=dark] .colab-df-convert:hover {\n",
              "      background-color: #434B5C;\n",
              "      box-shadow: 0px 1px 3px 1px rgba(0, 0, 0, 0.15);\n",
              "      filter: drop-shadow(0px 1px 2px rgba(0, 0, 0, 0.3));\n",
              "      fill: #FFFFFF;\n",
              "    }\n",
              "  </style>\n",
              "\n",
              "      <script>\n",
              "        const buttonEl =\n",
              "          document.querySelector('#df-8fafc73e-7e6b-4a72-8687-fea139e4f147 button.colab-df-convert');\n",
              "        buttonEl.style.display =\n",
              "          google.colab.kernel.accessAllowed ? 'block' : 'none';\n",
              "\n",
              "        async function convertToInteractive(key) {\n",
              "          const element = document.querySelector('#df-8fafc73e-7e6b-4a72-8687-fea139e4f147');\n",
              "          const dataTable =\n",
              "            await google.colab.kernel.invokeFunction('convertToInteractive',\n",
              "                                                     [key], {});\n",
              "          if (!dataTable) return;\n",
              "\n",
              "          const docLinkHtml = 'Like what you see? Visit the ' +\n",
              "            '<a target=\"_blank\" href=https://colab.research.google.com/notebooks/data_table.ipynb>data table notebook</a>'\n",
              "            + ' to learn more about interactive tables.';\n",
              "          element.innerHTML = '';\n",
              "          dataTable['output_type'] = 'display_data';\n",
              "          await google.colab.output.renderOutput(dataTable, element);\n",
              "          const docLink = document.createElement('div');\n",
              "          docLink.innerHTML = docLinkHtml;\n",
              "          element.appendChild(docLink);\n",
              "        }\n",
              "      </script>\n",
              "    </div>\n",
              "  </div>\n",
              "  "
            ]
          },
          "metadata": {},
          "execution_count": 61
        }
      ]
    },
    {
      "cell_type": "markdown",
      "source": [
        "The table above shows the five most freqeuente topics and the words present on it extract by BERTopic. -1 refers to all outliers and should be ignored."
      ],
      "metadata": {
        "id": "TVWcfF5mRrMy"
      }
    },
    {
      "cell_type": "code",
      "source": [
        "# show the most frequent topic\n",
        "topic_model.get_topic(1)"
      ],
      "metadata": {
        "id": "Br_UMf1kRxU3",
        "outputId": "c0ecfb03-2274-4b08-99c5-65f843074740",
        "colab": {
          "base_uri": "https://localhost:8080/"
        }
      },
      "execution_count": 62,
      "outputs": [
        {
          "output_type": "execute_result",
          "data": {
            "text/plain": [
              "[('bahia', 0.057998944493241146),\n",
              " ('casa', 0.038600628257890644),\n",
              " ('casas', 0.025834332724225303),\n",
              " ('entregar', 0.015848782143092818),\n",
              " ('transportadora', 0.012910366338106407),\n",
              " ('site', 0.012219955886639228),\n",
              " ('pedir', 0.010194981405486307),\n",
              " ('produto', 0.009799239283220209),\n",
              " ('compra', 0.00934087174269674),\n",
              " ('contato', 0.009266758327248466)]"
            ]
          },
          "metadata": {},
          "execution_count": 62
        }
      ]
    },
    {
      "cell_type": "markdown",
      "source": [
        "**Note:** BERTopic is stocastich which means that the topics might differ across runs this is mostly due to the stocastisch nature of UMAP"
      ],
      "metadata": {
        "id": "YpP4HgF2R6Wa"
      }
    },
    {
      "cell_type": "markdown",
      "source": [
        "### **Save topic info table as CSV**"
      ],
      "metadata": {
        "id": "CxWLChzJlPmZ"
      }
    },
    {
      "cell_type": "code",
      "source": [
        "# Set the path to save \n",
        "path = '/content/Topic-Modeling-Reclame-Aqui/results/topic_info_tables/'\n",
        "\n",
        "# Use makedirs() to create a new directory if it does not exists\n",
        "if not os.path.exists(path):\n",
        "  os.makedirs(path)\n",
        "\n",
        "# Save table as csv\n",
        "freq.head(10).to_csv(path + 'topic_info_preprocessed_lemma.csv')"
      ],
      "metadata": {
        "id": "9wM4Ymh_lOdt"
      },
      "execution_count": 63,
      "outputs": []
    },
    {
      "cell_type": "markdown",
      "source": [
        "## **Visualization**"
      ],
      "metadata": {
        "id": "wBsA8hiVSJDY"
      }
    },
    {
      "cell_type": "markdown",
      "source": [
        "### **Intertopic Distance Map**\n",
        "\n",
        "This graph shows the distance intertopic and help us understand the promixity of topics"
      ],
      "metadata": {
        "id": "2twooZDXUc2T"
      }
    },
    {
      "cell_type": "code",
      "source": [
        "fig = topic_model.visualize_topics()\n",
        "fig"
      ],
      "metadata": {
        "id": "Ae2JSAENSIOJ",
        "outputId": "f59df50f-96cf-407a-a097-36bc1385e2a2",
        "colab": {
          "base_uri": "https://localhost:8080/",
          "height": 667
        }
      },
      "execution_count": 64,
      "outputs": [
        {
          "output_type": "display_data",
          "data": {
            "text/html": [
              "<html>\n",
              "<head><meta charset=\"utf-8\" /></head>\n",
              "<body>\n",
              "    <div>            <script src=\"https://cdnjs.cloudflare.com/ajax/libs/mathjax/2.7.5/MathJax.js?config=TeX-AMS-MML_SVG\"></script><script type=\"text/javascript\">if (window.MathJax) {MathJax.Hub.Config({SVG: {font: \"STIX-Web\"}});}</script>                <script type=\"text/javascript\">window.PlotlyConfig = {MathJaxConfig: 'local'};</script>\n",
              "        <script src=\"https://cdn.plot.ly/plotly-2.8.3.min.js\"></script>                <div id=\"7fe10f52-2956-4c6b-a928-e6df980be23e\" class=\"plotly-graph-div\" style=\"height:650px; width:650px;\"></div>            <script type=\"text/javascript\">                                    window.PLOTLYENV=window.PLOTLYENV || {};                                    if (document.getElementById(\"7fe10f52-2956-4c6b-a928-e6df980be23e\")) {                    Plotly.newPlot(                        \"7fe10f52-2956-4c6b-a928-e6df980be23e\",                        [{\"customdata\":[[0,\"amazon | prime | cobran\\u00e7a | cart\\u00e3o | pedir\",1470],[1,\"bahia | casa | casas | entregar | transportadora\",450],[2,\"celular | samsung | aparelho | galaxy | produto\",357],[3,\"atraso | prazo | entregar | data | novembro\",278],[4,\"endere\\u00e7o | shein | pedir | remetente | pedido\",237],[5,\"whatsapp | contato | atendimento | entregar | atendente\",229],[6,\"mercado | livre | vendedor | ariano | produto\",226],[7,\"cancelamento | cancelar | pedir | querer | compra\",178],[8,\"brasil | shein | chegar | brasileiro | correios\",164],[9,\"conta | acessar | senha | acesso | mail\",163],[10,\"cart\\u00e3o | cr\\u00e9dito | pagamento | compra | shein\",157],[11,\"loja | atendimento | contato | entrar | compra\",143],[12,\"propaganda | enganoso | an\\u00fancio | anunciar | site\",119],[13,\"iphone | apple | aparelho | carregador | celular\",118],[14,\"recebi | nacional | pedir | entregar | encomenda\",105],[15,\"roupa | cal\\u00e7a | vestir | dois | tamanho\",97],[16,\"reembolso | recebi | reembolsar | devolvi | shein\",79],[17,\"americana | americano | americanas | loja | site\",72],[18,\"geladeira | refrigerador | geladeiro | troca | entregar\",69],[19,\"quebrar | defeito | vir | caixa | pe\\u00e7a\",60],[20,\"devolu\\u00e7\\u00e3o | c\\u00f3digo | devolver | solicitei | gerar\",60],[21,\"jogo | lan\\u00e7amento | ragnarok | venda | pr\\u00e9\",55],[22,\"entregar | assinar | recebi | produto | endere\\u00e7o\",45],[23,\"bloquear | contar | conta | desbloquear | suspender\",42],[24,\"m\\u00e1quina | lavar | roupa | maquina | aspirador\",41],[25,\"curitiba | tr\\u00e2nsito | parado | encomenda | novembro\",40],[26,\"cupom | black | friday | promo\\u00e7\\u00e3o | americana\",39],[27,\"rastreio | c\\u00f3digo | rastreamento | aparecer | rastrear\",39],[28,\"cashback | 02 | valor | extrato | americana\",38],[29,\"monitor | defeito | notebook | apresentar | placa\",36],[30,\"rob\\u00f4 | macac\\u00e3o | arranhador | comedouro | produto\",34],[31,\"entregar | pedir | prazo | atraso | loja\",32],[32,\"entregar | livre | 00h | mercado | hor\\u00e1rio\",32],[33,\"taxa | shein | taxar | taxado | reembolso\",32],[34,\"magazine | luizar | luizo | magaziner | luiza\",31],[35,\"t\\u00eanis | tenis | devolu\\u00e7\\u00e3o | apresentar | numera\\u00e7\\u00e3o\",30],[36,\"cr\\u00e9dito | mercado | pagar | livre | cobran\\u00e7a\",30],[37,\"china | nacional | shein | order | demor\",28],[38,\"americana | consumidor | comprar | respeito | direct\",27],[39,\"bluetooth | fone | controle | defeito | ouvir\",26],[40,\"prazo | entregar | atrasar | fog\\u00e3o | livre\",26],[41,\"chandon | produto | entregar | mercadoria | madrugado\",23],[42,\"recebi | mail | mercadoria | certinho | rastreio\",22],[43,\"reconhecimento | facial | reconhecer | rosto | senha\",22],[44,\"embalagem | oculo | produto | vir | saco\",21],[45,\"cancelamento | cancelar | pilha | suspender | duracell\",19],[46,\"atraso | entregar | desenbara\\u00e7o | 00hrs | aduaneiro\",18],[47,\"americana | entregar | atraso | pedir | atrasar\",18],[48,\"livre | mercado | ontem | entregar | sempre\",17],[49,\"amazon | livro | s\\u00e9rie | cupom | gratuito\",16],[50,\"shein | correios | atualiza\\u00e7\\u00e3o | desde | atraso\",15],[51,\"perfume | falsificar | devolu\\u00e7\\u00e3o | caro | barba\",15],[52,\"paulo | atraso | luis | atrasado | curitiba\",15],[53,\"pneu | moto | 175 | troca | coleta\",15],[54,\"microondas | electrolux | nell | forno | assist\\u00eancia\",14],[55,\"reembolso | tartarugar | 11 | pagamento | reembolsar\",14],[56,\"dinheiro | querer | voltar | estressada | reaver\",14],[57,\"11 | entregar | jogo | atraso | entrega\",14],[58,\"cart\\u00e3o | fatura | cr\\u00e9dito | cancelar | continuar\",14],[59,\"ponto | laptop | full | livelo | creditar\",13],[60,\"sof\\u00e1 | edredom | reclin\\u00e1vel | encosto | vir\",13],[61,\"suspender | contar | conta | suspens\\u00e3o | hakear\",12],[62,\"cadeira | gamer | montar | m\\u00eas | menos\",12],[63,\"jogo | panelas | panelo | panele | retro\",12],[64,\"shein | blog | paguei | 120 | 300\",12],[65,\"320 | iphone | instagr | enganoso | friday\",12],[66,\"reten\\u00e7\\u00e3o | receita | scanner | entregar | onde\",12],[67,\"horizonte | local | entregar | belo | entregador\",12],[68,\"rastreio | bilhete | pedir | atrasado | prazo\",11],[69,\"cancelei | estorno | mensalidade | cancelar | cobran\\u00e7a\",11],[70,\"nota | fiscal | emitir | dinheiro | editar\",11],[71,\"proc | erro | cho99 | com | 189\",10]],\"hovertemplate\":\"<b>Topic %{customdata[0]}</b><br>Words: %{customdata[1]}<br>Size: %{customdata[2]}\",\"legendgroup\":\"\",\"marker\":{\"color\":\"#B0BEC5\",\"size\":[1470,450,357,278,237,229,226,178,164,163,157,143,119,118,105,97,79,72,69,60,60,55,45,42,41,40,39,39,38,36,34,32,32,32,31,30,30,28,27,26,26,23,22,22,21,19,18,18,17,16,15,15,15,15,14,14,14,14,14,13,13,12,12,12,12,12,12,12,11,11,11,10],\"sizemode\":\"area\",\"sizeref\":0.91875,\"symbol\":\"circle\",\"line\":{\"color\":\"DarkSlateGrey\",\"width\":2}},\"mode\":\"markers\",\"name\":\"\",\"orientation\":\"v\",\"showlegend\":false,\"x\":[8.161386489868164,7.867340564727783,5.890384197235107,8.004693031311035,11.774057388305664,8.092352867126465,5.691506862640381,6.462050437927246,8.189996719360352,6.928879737854004,6.540370941162109,5.872678279876709,7.015326499938965,5.824620723724365,11.044986724853516,11.298439979553223,8.493066787719727,7.766148090362549,7.205545425415039,7.161520957946777,5.255854606628418,7.746557235717773,10.90311050415039,6.682345390319824,7.405459880828857,14.930267333984375,6.462216377258301,15.384635925292969,6.4113688468933105,5.332975387573242,7.561628818511963,7.768194198608398,7.5121660232543945,8.598715782165527,11.525525093078613,5.054976940155029,6.992427349090576,15.49170970916748,6.850606441497803,5.311759948730469,7.439643859863281,8.69349193572998,11.32058334350586,6.630708694458008,6.738495826721191,6.5173563957214355,6.463396072387695,10.765437126159668,8.78912353515625,6.633447647094727,15.164241790771484,5.179650783538818,6.356525897979736,11.284196853637695,11.365034103393555,7.563868045806885,21.54226303100586,6.614498138427734,21.450361251831055,8.848965644836426,7.196034908294678,7.192416667938232,7.033888339996338,15.262316703796387,11.50369644165039,6.882351398468018,7.672710418701172,10.966400146484375,15.067663192749023,21.443811416625977,11.164834022521973,6.741737365722656],\"xaxis\":\"x\",\"y\":[2.879516839981079,3.147711992263794,15.764795303344727,4.965544700622559,4.747308731079102,2.9846723079681396,15.930378913879395,16.123271942138672,4.82575798034668,17.203155517578125,17.3377628326416,15.79394817352295,4.314916133880615,15.886961936950684,4.638288974761963,4.56989860534668,4.425031661987305,4.500119209289551,6.39794397354126,6.444112777709961,1.8936184644699097,4.321180820465088,4.352070331573486,16.835180282592773,3.9888596534729004,8.66665267944336,17.638710021972656,9.139082908630371,17.708410263061523,1.2337617874145508,4.752054214477539,5.017664432525635,6.0194196701049805,4.344829559326172,4.381585121154785,1.7756212949752808,15.439251899719238,9.252408981323242,15.676755905151367,1.3391960859298706,6.059969425201416,2.8040549755096436,3.9591610431671143,17.02317237854004,15.597075462341309,16.220930099487305,3.7345473766326904,4.286386966705322,2.931185245513916,16.298385620117188,8.89921760559082,1.8171648979187012,3.635711908340454,5.201499938964844,5.236461162567139,4.713600158691406,-1.3068081140518188,3.869152784347534,-1.2149467468261719,2.974853754043579,5.1561384201049805,16.995031356811523,5.016658306121826,8.998808860778809,3.9102859497070312,4.192354679107666,4.927651405334473,4.457799911499023,8.798821449279785,-1.2083637714385986,5.104155540466309,16.83694839477539],\"yaxis\":\"y\",\"type\":\"scatter\"}],                        {\"template\":{\"data\":{\"barpolar\":[{\"marker\":{\"line\":{\"color\":\"white\",\"width\":0.5},\"pattern\":{\"fillmode\":\"overlay\",\"size\":10,\"solidity\":0.2}},\"type\":\"barpolar\"}],\"bar\":[{\"error_x\":{\"color\":\"rgb(36,36,36)\"},\"error_y\":{\"color\":\"rgb(36,36,36)\"},\"marker\":{\"line\":{\"color\":\"white\",\"width\":0.5},\"pattern\":{\"fillmode\":\"overlay\",\"size\":10,\"solidity\":0.2}},\"type\":\"bar\"}],\"carpet\":[{\"aaxis\":{\"endlinecolor\":\"rgb(36,36,36)\",\"gridcolor\":\"white\",\"linecolor\":\"white\",\"minorgridcolor\":\"white\",\"startlinecolor\":\"rgb(36,36,36)\"},\"baxis\":{\"endlinecolor\":\"rgb(36,36,36)\",\"gridcolor\":\"white\",\"linecolor\":\"white\",\"minorgridcolor\":\"white\",\"startlinecolor\":\"rgb(36,36,36)\"},\"type\":\"carpet\"}],\"choropleth\":[{\"colorbar\":{\"outlinewidth\":1,\"tickcolor\":\"rgb(36,36,36)\",\"ticks\":\"outside\"},\"type\":\"choropleth\"}],\"contourcarpet\":[{\"colorbar\":{\"outlinewidth\":1,\"tickcolor\":\"rgb(36,36,36)\",\"ticks\":\"outside\"},\"type\":\"contourcarpet\"}],\"contour\":[{\"colorbar\":{\"outlinewidth\":1,\"tickcolor\":\"rgb(36,36,36)\",\"ticks\":\"outside\"},\"colorscale\":[[0.0,\"#440154\"],[0.1111111111111111,\"#482878\"],[0.2222222222222222,\"#3e4989\"],[0.3333333333333333,\"#31688e\"],[0.4444444444444444,\"#26828e\"],[0.5555555555555556,\"#1f9e89\"],[0.6666666666666666,\"#35b779\"],[0.7777777777777778,\"#6ece58\"],[0.8888888888888888,\"#b5de2b\"],[1.0,\"#fde725\"]],\"type\":\"contour\"}],\"heatmapgl\":[{\"colorbar\":{\"outlinewidth\":1,\"tickcolor\":\"rgb(36,36,36)\",\"ticks\":\"outside\"},\"colorscale\":[[0.0,\"#440154\"],[0.1111111111111111,\"#482878\"],[0.2222222222222222,\"#3e4989\"],[0.3333333333333333,\"#31688e\"],[0.4444444444444444,\"#26828e\"],[0.5555555555555556,\"#1f9e89\"],[0.6666666666666666,\"#35b779\"],[0.7777777777777778,\"#6ece58\"],[0.8888888888888888,\"#b5de2b\"],[1.0,\"#fde725\"]],\"type\":\"heatmapgl\"}],\"heatmap\":[{\"colorbar\":{\"outlinewidth\":1,\"tickcolor\":\"rgb(36,36,36)\",\"ticks\":\"outside\"},\"colorscale\":[[0.0,\"#440154\"],[0.1111111111111111,\"#482878\"],[0.2222222222222222,\"#3e4989\"],[0.3333333333333333,\"#31688e\"],[0.4444444444444444,\"#26828e\"],[0.5555555555555556,\"#1f9e89\"],[0.6666666666666666,\"#35b779\"],[0.7777777777777778,\"#6ece58\"],[0.8888888888888888,\"#b5de2b\"],[1.0,\"#fde725\"]],\"type\":\"heatmap\"}],\"histogram2dcontour\":[{\"colorbar\":{\"outlinewidth\":1,\"tickcolor\":\"rgb(36,36,36)\",\"ticks\":\"outside\"},\"colorscale\":[[0.0,\"#440154\"],[0.1111111111111111,\"#482878\"],[0.2222222222222222,\"#3e4989\"],[0.3333333333333333,\"#31688e\"],[0.4444444444444444,\"#26828e\"],[0.5555555555555556,\"#1f9e89\"],[0.6666666666666666,\"#35b779\"],[0.7777777777777778,\"#6ece58\"],[0.8888888888888888,\"#b5de2b\"],[1.0,\"#fde725\"]],\"type\":\"histogram2dcontour\"}],\"histogram2d\":[{\"colorbar\":{\"outlinewidth\":1,\"tickcolor\":\"rgb(36,36,36)\",\"ticks\":\"outside\"},\"colorscale\":[[0.0,\"#440154\"],[0.1111111111111111,\"#482878\"],[0.2222222222222222,\"#3e4989\"],[0.3333333333333333,\"#31688e\"],[0.4444444444444444,\"#26828e\"],[0.5555555555555556,\"#1f9e89\"],[0.6666666666666666,\"#35b779\"],[0.7777777777777778,\"#6ece58\"],[0.8888888888888888,\"#b5de2b\"],[1.0,\"#fde725\"]],\"type\":\"histogram2d\"}],\"histogram\":[{\"marker\":{\"line\":{\"color\":\"white\",\"width\":0.6}},\"type\":\"histogram\"}],\"mesh3d\":[{\"colorbar\":{\"outlinewidth\":1,\"tickcolor\":\"rgb(36,36,36)\",\"ticks\":\"outside\"},\"type\":\"mesh3d\"}],\"parcoords\":[{\"line\":{\"colorbar\":{\"outlinewidth\":1,\"tickcolor\":\"rgb(36,36,36)\",\"ticks\":\"outside\"}},\"type\":\"parcoords\"}],\"pie\":[{\"automargin\":true,\"type\":\"pie\"}],\"scatter3d\":[{\"line\":{\"colorbar\":{\"outlinewidth\":1,\"tickcolor\":\"rgb(36,36,36)\",\"ticks\":\"outside\"}},\"marker\":{\"colorbar\":{\"outlinewidth\":1,\"tickcolor\":\"rgb(36,36,36)\",\"ticks\":\"outside\"}},\"type\":\"scatter3d\"}],\"scattercarpet\":[{\"marker\":{\"colorbar\":{\"outlinewidth\":1,\"tickcolor\":\"rgb(36,36,36)\",\"ticks\":\"outside\"}},\"type\":\"scattercarpet\"}],\"scattergeo\":[{\"marker\":{\"colorbar\":{\"outlinewidth\":1,\"tickcolor\":\"rgb(36,36,36)\",\"ticks\":\"outside\"}},\"type\":\"scattergeo\"}],\"scattergl\":[{\"marker\":{\"colorbar\":{\"outlinewidth\":1,\"tickcolor\":\"rgb(36,36,36)\",\"ticks\":\"outside\"}},\"type\":\"scattergl\"}],\"scattermapbox\":[{\"marker\":{\"colorbar\":{\"outlinewidth\":1,\"tickcolor\":\"rgb(36,36,36)\",\"ticks\":\"outside\"}},\"type\":\"scattermapbox\"}],\"scatterpolargl\":[{\"marker\":{\"colorbar\":{\"outlinewidth\":1,\"tickcolor\":\"rgb(36,36,36)\",\"ticks\":\"outside\"}},\"type\":\"scatterpolargl\"}],\"scatterpolar\":[{\"marker\":{\"colorbar\":{\"outlinewidth\":1,\"tickcolor\":\"rgb(36,36,36)\",\"ticks\":\"outside\"}},\"type\":\"scatterpolar\"}],\"scatter\":[{\"marker\":{\"colorbar\":{\"outlinewidth\":1,\"tickcolor\":\"rgb(36,36,36)\",\"ticks\":\"outside\"}},\"type\":\"scatter\"}],\"scatterternary\":[{\"marker\":{\"colorbar\":{\"outlinewidth\":1,\"tickcolor\":\"rgb(36,36,36)\",\"ticks\":\"outside\"}},\"type\":\"scatterternary\"}],\"surface\":[{\"colorbar\":{\"outlinewidth\":1,\"tickcolor\":\"rgb(36,36,36)\",\"ticks\":\"outside\"},\"colorscale\":[[0.0,\"#440154\"],[0.1111111111111111,\"#482878\"],[0.2222222222222222,\"#3e4989\"],[0.3333333333333333,\"#31688e\"],[0.4444444444444444,\"#26828e\"],[0.5555555555555556,\"#1f9e89\"],[0.6666666666666666,\"#35b779\"],[0.7777777777777778,\"#6ece58\"],[0.8888888888888888,\"#b5de2b\"],[1.0,\"#fde725\"]],\"type\":\"surface\"}],\"table\":[{\"cells\":{\"fill\":{\"color\":\"rgb(237,237,237)\"},\"line\":{\"color\":\"white\"}},\"header\":{\"fill\":{\"color\":\"rgb(217,217,217)\"},\"line\":{\"color\":\"white\"}},\"type\":\"table\"}]},\"layout\":{\"annotationdefaults\":{\"arrowhead\":0,\"arrowwidth\":1},\"autotypenumbers\":\"strict\",\"coloraxis\":{\"colorbar\":{\"outlinewidth\":1,\"tickcolor\":\"rgb(36,36,36)\",\"ticks\":\"outside\"}},\"colorscale\":{\"diverging\":[[0.0,\"rgb(103,0,31)\"],[0.1,\"rgb(178,24,43)\"],[0.2,\"rgb(214,96,77)\"],[0.3,\"rgb(244,165,130)\"],[0.4,\"rgb(253,219,199)\"],[0.5,\"rgb(247,247,247)\"],[0.6,\"rgb(209,229,240)\"],[0.7,\"rgb(146,197,222)\"],[0.8,\"rgb(67,147,195)\"],[0.9,\"rgb(33,102,172)\"],[1.0,\"rgb(5,48,97)\"]],\"sequential\":[[0.0,\"#440154\"],[0.1111111111111111,\"#482878\"],[0.2222222222222222,\"#3e4989\"],[0.3333333333333333,\"#31688e\"],[0.4444444444444444,\"#26828e\"],[0.5555555555555556,\"#1f9e89\"],[0.6666666666666666,\"#35b779\"],[0.7777777777777778,\"#6ece58\"],[0.8888888888888888,\"#b5de2b\"],[1.0,\"#fde725\"]],\"sequentialminus\":[[0.0,\"#440154\"],[0.1111111111111111,\"#482878\"],[0.2222222222222222,\"#3e4989\"],[0.3333333333333333,\"#31688e\"],[0.4444444444444444,\"#26828e\"],[0.5555555555555556,\"#1f9e89\"],[0.6666666666666666,\"#35b779\"],[0.7777777777777778,\"#6ece58\"],[0.8888888888888888,\"#b5de2b\"],[1.0,\"#fde725\"]]},\"colorway\":[\"#1F77B4\",\"#FF7F0E\",\"#2CA02C\",\"#D62728\",\"#9467BD\",\"#8C564B\",\"#E377C2\",\"#7F7F7F\",\"#BCBD22\",\"#17BECF\"],\"font\":{\"color\":\"rgb(36,36,36)\"},\"geo\":{\"bgcolor\":\"white\",\"lakecolor\":\"white\",\"landcolor\":\"white\",\"showlakes\":true,\"showland\":true,\"subunitcolor\":\"white\"},\"hoverlabel\":{\"align\":\"left\"},\"hovermode\":\"closest\",\"mapbox\":{\"style\":\"light\"},\"paper_bgcolor\":\"white\",\"plot_bgcolor\":\"white\",\"polar\":{\"angularaxis\":{\"gridcolor\":\"rgb(232,232,232)\",\"linecolor\":\"rgb(36,36,36)\",\"showgrid\":false,\"showline\":true,\"ticks\":\"outside\"},\"bgcolor\":\"white\",\"radialaxis\":{\"gridcolor\":\"rgb(232,232,232)\",\"linecolor\":\"rgb(36,36,36)\",\"showgrid\":false,\"showline\":true,\"ticks\":\"outside\"}},\"scene\":{\"xaxis\":{\"backgroundcolor\":\"white\",\"gridcolor\":\"rgb(232,232,232)\",\"gridwidth\":2,\"linecolor\":\"rgb(36,36,36)\",\"showbackground\":true,\"showgrid\":false,\"showline\":true,\"ticks\":\"outside\",\"zeroline\":false,\"zerolinecolor\":\"rgb(36,36,36)\"},\"yaxis\":{\"backgroundcolor\":\"white\",\"gridcolor\":\"rgb(232,232,232)\",\"gridwidth\":2,\"linecolor\":\"rgb(36,36,36)\",\"showbackground\":true,\"showgrid\":false,\"showline\":true,\"ticks\":\"outside\",\"zeroline\":false,\"zerolinecolor\":\"rgb(36,36,36)\"},\"zaxis\":{\"backgroundcolor\":\"white\",\"gridcolor\":\"rgb(232,232,232)\",\"gridwidth\":2,\"linecolor\":\"rgb(36,36,36)\",\"showbackground\":true,\"showgrid\":false,\"showline\":true,\"ticks\":\"outside\",\"zeroline\":false,\"zerolinecolor\":\"rgb(36,36,36)\"}},\"shapedefaults\":{\"fillcolor\":\"black\",\"line\":{\"width\":0},\"opacity\":0.3},\"ternary\":{\"aaxis\":{\"gridcolor\":\"rgb(232,232,232)\",\"linecolor\":\"rgb(36,36,36)\",\"showgrid\":false,\"showline\":true,\"ticks\":\"outside\"},\"baxis\":{\"gridcolor\":\"rgb(232,232,232)\",\"linecolor\":\"rgb(36,36,36)\",\"showgrid\":false,\"showline\":true,\"ticks\":\"outside\"},\"bgcolor\":\"white\",\"caxis\":{\"gridcolor\":\"rgb(232,232,232)\",\"linecolor\":\"rgb(36,36,36)\",\"showgrid\":false,\"showline\":true,\"ticks\":\"outside\"}},\"title\":{\"x\":0.05},\"xaxis\":{\"automargin\":true,\"gridcolor\":\"rgb(232,232,232)\",\"linecolor\":\"rgb(36,36,36)\",\"showgrid\":false,\"showline\":true,\"ticks\":\"outside\",\"title\":{\"standoff\":15},\"zeroline\":false,\"zerolinecolor\":\"rgb(36,36,36)\"},\"yaxis\":{\"automargin\":true,\"gridcolor\":\"rgb(232,232,232)\",\"linecolor\":\"rgb(36,36,36)\",\"showgrid\":false,\"showline\":true,\"ticks\":\"outside\",\"title\":{\"standoff\":15},\"zeroline\":false,\"zerolinecolor\":\"rgb(36,36,36)\"}}},\"xaxis\":{\"anchor\":\"y\",\"domain\":[0.0,1.0],\"title\":{\"text\":\"\"},\"visible\":false,\"range\":[4.296730399131775,24.77360248565674]},\"yaxis\":{\"anchor\":\"x\",\"domain\":[0.0,1.0],\"title\":{\"text\":\"\"},\"visible\":false,\"range\":[-1.5028293311595917,20.364671802520753]},\"legend\":{\"tracegroupgap\":0,\"itemsizing\":\"constant\"},\"margin\":{\"t\":60},\"title\":{\"font\":{\"size\":22,\"color\":\"Black\"},\"text\":\"<b>Intertopic Distance Map\",\"y\":0.95,\"x\":0.5,\"xanchor\":\"center\",\"yanchor\":\"top\"},\"hoverlabel\":{\"font\":{\"size\":16,\"family\":\"Rockwell\"},\"bgcolor\":\"white\"},\"width\":650,\"height\":650,\"sliders\":[{\"active\":0,\"pad\":{\"t\":50},\"steps\":[{\"args\":[{\"marker.color\":[[\"red\",\"#B0BEC5\",\"#B0BEC5\",\"#B0BEC5\",\"#B0BEC5\",\"#B0BEC5\",\"#B0BEC5\",\"#B0BEC5\",\"#B0BEC5\",\"#B0BEC5\",\"#B0BEC5\",\"#B0BEC5\",\"#B0BEC5\",\"#B0BEC5\",\"#B0BEC5\",\"#B0BEC5\",\"#B0BEC5\",\"#B0BEC5\",\"#B0BEC5\",\"#B0BEC5\",\"#B0BEC5\",\"#B0BEC5\",\"#B0BEC5\",\"#B0BEC5\",\"#B0BEC5\",\"#B0BEC5\",\"#B0BEC5\",\"#B0BEC5\",\"#B0BEC5\",\"#B0BEC5\",\"#B0BEC5\",\"#B0BEC5\",\"#B0BEC5\",\"#B0BEC5\",\"#B0BEC5\",\"#B0BEC5\",\"#B0BEC5\",\"#B0BEC5\",\"#B0BEC5\",\"#B0BEC5\",\"#B0BEC5\",\"#B0BEC5\",\"#B0BEC5\",\"#B0BEC5\",\"#B0BEC5\",\"#B0BEC5\",\"#B0BEC5\",\"#B0BEC5\",\"#B0BEC5\",\"#B0BEC5\",\"#B0BEC5\",\"#B0BEC5\",\"#B0BEC5\",\"#B0BEC5\",\"#B0BEC5\",\"#B0BEC5\",\"#B0BEC5\",\"#B0BEC5\",\"#B0BEC5\",\"#B0BEC5\",\"#B0BEC5\",\"#B0BEC5\",\"#B0BEC5\",\"#B0BEC5\",\"#B0BEC5\",\"#B0BEC5\",\"#B0BEC5\",\"#B0BEC5\",\"#B0BEC5\",\"#B0BEC5\",\"#B0BEC5\",\"#B0BEC5\"]]}],\"label\":\"Topic 0\",\"method\":\"update\"},{\"args\":[{\"marker.color\":[[\"#B0BEC5\",\"red\",\"#B0BEC5\",\"#B0BEC5\",\"#B0BEC5\",\"#B0BEC5\",\"#B0BEC5\",\"#B0BEC5\",\"#B0BEC5\",\"#B0BEC5\",\"#B0BEC5\",\"#B0BEC5\",\"#B0BEC5\",\"#B0BEC5\",\"#B0BEC5\",\"#B0BEC5\",\"#B0BEC5\",\"#B0BEC5\",\"#B0BEC5\",\"#B0BEC5\",\"#B0BEC5\",\"#B0BEC5\",\"#B0BEC5\",\"#B0BEC5\",\"#B0BEC5\",\"#B0BEC5\",\"#B0BEC5\",\"#B0BEC5\",\"#B0BEC5\",\"#B0BEC5\",\"#B0BEC5\",\"#B0BEC5\",\"#B0BEC5\",\"#B0BEC5\",\"#B0BEC5\",\"#B0BEC5\",\"#B0BEC5\",\"#B0BEC5\",\"#B0BEC5\",\"#B0BEC5\",\"#B0BEC5\",\"#B0BEC5\",\"#B0BEC5\",\"#B0BEC5\",\"#B0BEC5\",\"#B0BEC5\",\"#B0BEC5\",\"#B0BEC5\",\"#B0BEC5\",\"#B0BEC5\",\"#B0BEC5\",\"#B0BEC5\",\"#B0BEC5\",\"#B0BEC5\",\"#B0BEC5\",\"#B0BEC5\",\"#B0BEC5\",\"#B0BEC5\",\"#B0BEC5\",\"#B0BEC5\",\"#B0BEC5\",\"#B0BEC5\",\"#B0BEC5\",\"#B0BEC5\",\"#B0BEC5\",\"#B0BEC5\",\"#B0BEC5\",\"#B0BEC5\",\"#B0BEC5\",\"#B0BEC5\",\"#B0BEC5\",\"#B0BEC5\"]]}],\"label\":\"Topic 1\",\"method\":\"update\"},{\"args\":[{\"marker.color\":[[\"#B0BEC5\",\"#B0BEC5\",\"red\",\"#B0BEC5\",\"#B0BEC5\",\"#B0BEC5\",\"#B0BEC5\",\"#B0BEC5\",\"#B0BEC5\",\"#B0BEC5\",\"#B0BEC5\",\"#B0BEC5\",\"#B0BEC5\",\"#B0BEC5\",\"#B0BEC5\",\"#B0BEC5\",\"#B0BEC5\",\"#B0BEC5\",\"#B0BEC5\",\"#B0BEC5\",\"#B0BEC5\",\"#B0BEC5\",\"#B0BEC5\",\"#B0BEC5\",\"#B0BEC5\",\"#B0BEC5\",\"#B0BEC5\",\"#B0BEC5\",\"#B0BEC5\",\"#B0BEC5\",\"#B0BEC5\",\"#B0BEC5\",\"#B0BEC5\",\"#B0BEC5\",\"#B0BEC5\",\"#B0BEC5\",\"#B0BEC5\",\"#B0BEC5\",\"#B0BEC5\",\"#B0BEC5\",\"#B0BEC5\",\"#B0BEC5\",\"#B0BEC5\",\"#B0BEC5\",\"#B0BEC5\",\"#B0BEC5\",\"#B0BEC5\",\"#B0BEC5\",\"#B0BEC5\",\"#B0BEC5\",\"#B0BEC5\",\"#B0BEC5\",\"#B0BEC5\",\"#B0BEC5\",\"#B0BEC5\",\"#B0BEC5\",\"#B0BEC5\",\"#B0BEC5\",\"#B0BEC5\",\"#B0BEC5\",\"#B0BEC5\",\"#B0BEC5\",\"#B0BEC5\",\"#B0BEC5\",\"#B0BEC5\",\"#B0BEC5\",\"#B0BEC5\",\"#B0BEC5\",\"#B0BEC5\",\"#B0BEC5\",\"#B0BEC5\",\"#B0BEC5\"]]}],\"label\":\"Topic 2\",\"method\":\"update\"},{\"args\":[{\"marker.color\":[[\"#B0BEC5\",\"#B0BEC5\",\"#B0BEC5\",\"red\",\"#B0BEC5\",\"#B0BEC5\",\"#B0BEC5\",\"#B0BEC5\",\"#B0BEC5\",\"#B0BEC5\",\"#B0BEC5\",\"#B0BEC5\",\"#B0BEC5\",\"#B0BEC5\",\"#B0BEC5\",\"#B0BEC5\",\"#B0BEC5\",\"#B0BEC5\",\"#B0BEC5\",\"#B0BEC5\",\"#B0BEC5\",\"#B0BEC5\",\"#B0BEC5\",\"#B0BEC5\",\"#B0BEC5\",\"#B0BEC5\",\"#B0BEC5\",\"#B0BEC5\",\"#B0BEC5\",\"#B0BEC5\",\"#B0BEC5\",\"#B0BEC5\",\"#B0BEC5\",\"#B0BEC5\",\"#B0BEC5\",\"#B0BEC5\",\"#B0BEC5\",\"#B0BEC5\",\"#B0BEC5\",\"#B0BEC5\",\"#B0BEC5\",\"#B0BEC5\",\"#B0BEC5\",\"#B0BEC5\",\"#B0BEC5\",\"#B0BEC5\",\"#B0BEC5\",\"#B0BEC5\",\"#B0BEC5\",\"#B0BEC5\",\"#B0BEC5\",\"#B0BEC5\",\"#B0BEC5\",\"#B0BEC5\",\"#B0BEC5\",\"#B0BEC5\",\"#B0BEC5\",\"#B0BEC5\",\"#B0BEC5\",\"#B0BEC5\",\"#B0BEC5\",\"#B0BEC5\",\"#B0BEC5\",\"#B0BEC5\",\"#B0BEC5\",\"#B0BEC5\",\"#B0BEC5\",\"#B0BEC5\",\"#B0BEC5\",\"#B0BEC5\",\"#B0BEC5\",\"#B0BEC5\"]]}],\"label\":\"Topic 3\",\"method\":\"update\"},{\"args\":[{\"marker.color\":[[\"#B0BEC5\",\"#B0BEC5\",\"#B0BEC5\",\"#B0BEC5\",\"red\",\"#B0BEC5\",\"#B0BEC5\",\"#B0BEC5\",\"#B0BEC5\",\"#B0BEC5\",\"#B0BEC5\",\"#B0BEC5\",\"#B0BEC5\",\"#B0BEC5\",\"#B0BEC5\",\"#B0BEC5\",\"#B0BEC5\",\"#B0BEC5\",\"#B0BEC5\",\"#B0BEC5\",\"#B0BEC5\",\"#B0BEC5\",\"#B0BEC5\",\"#B0BEC5\",\"#B0BEC5\",\"#B0BEC5\",\"#B0BEC5\",\"#B0BEC5\",\"#B0BEC5\",\"#B0BEC5\",\"#B0BEC5\",\"#B0BEC5\",\"#B0BEC5\",\"#B0BEC5\",\"#B0BEC5\",\"#B0BEC5\",\"#B0BEC5\",\"#B0BEC5\",\"#B0BEC5\",\"#B0BEC5\",\"#B0BEC5\",\"#B0BEC5\",\"#B0BEC5\",\"#B0BEC5\",\"#B0BEC5\",\"#B0BEC5\",\"#B0BEC5\",\"#B0BEC5\",\"#B0BEC5\",\"#B0BEC5\",\"#B0BEC5\",\"#B0BEC5\",\"#B0BEC5\",\"#B0BEC5\",\"#B0BEC5\",\"#B0BEC5\",\"#B0BEC5\",\"#B0BEC5\",\"#B0BEC5\",\"#B0BEC5\",\"#B0BEC5\",\"#B0BEC5\",\"#B0BEC5\",\"#B0BEC5\",\"#B0BEC5\",\"#B0BEC5\",\"#B0BEC5\",\"#B0BEC5\",\"#B0BEC5\",\"#B0BEC5\",\"#B0BEC5\",\"#B0BEC5\"]]}],\"label\":\"Topic 4\",\"method\":\"update\"},{\"args\":[{\"marker.color\":[[\"#B0BEC5\",\"#B0BEC5\",\"#B0BEC5\",\"#B0BEC5\",\"#B0BEC5\",\"red\",\"#B0BEC5\",\"#B0BEC5\",\"#B0BEC5\",\"#B0BEC5\",\"#B0BEC5\",\"#B0BEC5\",\"#B0BEC5\",\"#B0BEC5\",\"#B0BEC5\",\"#B0BEC5\",\"#B0BEC5\",\"#B0BEC5\",\"#B0BEC5\",\"#B0BEC5\",\"#B0BEC5\",\"#B0BEC5\",\"#B0BEC5\",\"#B0BEC5\",\"#B0BEC5\",\"#B0BEC5\",\"#B0BEC5\",\"#B0BEC5\",\"#B0BEC5\",\"#B0BEC5\",\"#B0BEC5\",\"#B0BEC5\",\"#B0BEC5\",\"#B0BEC5\",\"#B0BEC5\",\"#B0BEC5\",\"#B0BEC5\",\"#B0BEC5\",\"#B0BEC5\",\"#B0BEC5\",\"#B0BEC5\",\"#B0BEC5\",\"#B0BEC5\",\"#B0BEC5\",\"#B0BEC5\",\"#B0BEC5\",\"#B0BEC5\",\"#B0BEC5\",\"#B0BEC5\",\"#B0BEC5\",\"#B0BEC5\",\"#B0BEC5\",\"#B0BEC5\",\"#B0BEC5\",\"#B0BEC5\",\"#B0BEC5\",\"#B0BEC5\",\"#B0BEC5\",\"#B0BEC5\",\"#B0BEC5\",\"#B0BEC5\",\"#B0BEC5\",\"#B0BEC5\",\"#B0BEC5\",\"#B0BEC5\",\"#B0BEC5\",\"#B0BEC5\",\"#B0BEC5\",\"#B0BEC5\",\"#B0BEC5\",\"#B0BEC5\",\"#B0BEC5\"]]}],\"label\":\"Topic 5\",\"method\":\"update\"},{\"args\":[{\"marker.color\":[[\"#B0BEC5\",\"#B0BEC5\",\"#B0BEC5\",\"#B0BEC5\",\"#B0BEC5\",\"#B0BEC5\",\"red\",\"#B0BEC5\",\"#B0BEC5\",\"#B0BEC5\",\"#B0BEC5\",\"#B0BEC5\",\"#B0BEC5\",\"#B0BEC5\",\"#B0BEC5\",\"#B0BEC5\",\"#B0BEC5\",\"#B0BEC5\",\"#B0BEC5\",\"#B0BEC5\",\"#B0BEC5\",\"#B0BEC5\",\"#B0BEC5\",\"#B0BEC5\",\"#B0BEC5\",\"#B0BEC5\",\"#B0BEC5\",\"#B0BEC5\",\"#B0BEC5\",\"#B0BEC5\",\"#B0BEC5\",\"#B0BEC5\",\"#B0BEC5\",\"#B0BEC5\",\"#B0BEC5\",\"#B0BEC5\",\"#B0BEC5\",\"#B0BEC5\",\"#B0BEC5\",\"#B0BEC5\",\"#B0BEC5\",\"#B0BEC5\",\"#B0BEC5\",\"#B0BEC5\",\"#B0BEC5\",\"#B0BEC5\",\"#B0BEC5\",\"#B0BEC5\",\"#B0BEC5\",\"#B0BEC5\",\"#B0BEC5\",\"#B0BEC5\",\"#B0BEC5\",\"#B0BEC5\",\"#B0BEC5\",\"#B0BEC5\",\"#B0BEC5\",\"#B0BEC5\",\"#B0BEC5\",\"#B0BEC5\",\"#B0BEC5\",\"#B0BEC5\",\"#B0BEC5\",\"#B0BEC5\",\"#B0BEC5\",\"#B0BEC5\",\"#B0BEC5\",\"#B0BEC5\",\"#B0BEC5\",\"#B0BEC5\",\"#B0BEC5\",\"#B0BEC5\"]]}],\"label\":\"Topic 6\",\"method\":\"update\"},{\"args\":[{\"marker.color\":[[\"#B0BEC5\",\"#B0BEC5\",\"#B0BEC5\",\"#B0BEC5\",\"#B0BEC5\",\"#B0BEC5\",\"#B0BEC5\",\"red\",\"#B0BEC5\",\"#B0BEC5\",\"#B0BEC5\",\"#B0BEC5\",\"#B0BEC5\",\"#B0BEC5\",\"#B0BEC5\",\"#B0BEC5\",\"#B0BEC5\",\"#B0BEC5\",\"#B0BEC5\",\"#B0BEC5\",\"#B0BEC5\",\"#B0BEC5\",\"#B0BEC5\",\"#B0BEC5\",\"#B0BEC5\",\"#B0BEC5\",\"#B0BEC5\",\"#B0BEC5\",\"#B0BEC5\",\"#B0BEC5\",\"#B0BEC5\",\"#B0BEC5\",\"#B0BEC5\",\"#B0BEC5\",\"#B0BEC5\",\"#B0BEC5\",\"#B0BEC5\",\"#B0BEC5\",\"#B0BEC5\",\"#B0BEC5\",\"#B0BEC5\",\"#B0BEC5\",\"#B0BEC5\",\"#B0BEC5\",\"#B0BEC5\",\"#B0BEC5\",\"#B0BEC5\",\"#B0BEC5\",\"#B0BEC5\",\"#B0BEC5\",\"#B0BEC5\",\"#B0BEC5\",\"#B0BEC5\",\"#B0BEC5\",\"#B0BEC5\",\"#B0BEC5\",\"#B0BEC5\",\"#B0BEC5\",\"#B0BEC5\",\"#B0BEC5\",\"#B0BEC5\",\"#B0BEC5\",\"#B0BEC5\",\"#B0BEC5\",\"#B0BEC5\",\"#B0BEC5\",\"#B0BEC5\",\"#B0BEC5\",\"#B0BEC5\",\"#B0BEC5\",\"#B0BEC5\",\"#B0BEC5\"]]}],\"label\":\"Topic 7\",\"method\":\"update\"},{\"args\":[{\"marker.color\":[[\"#B0BEC5\",\"#B0BEC5\",\"#B0BEC5\",\"#B0BEC5\",\"#B0BEC5\",\"#B0BEC5\",\"#B0BEC5\",\"#B0BEC5\",\"red\",\"#B0BEC5\",\"#B0BEC5\",\"#B0BEC5\",\"#B0BEC5\",\"#B0BEC5\",\"#B0BEC5\",\"#B0BEC5\",\"#B0BEC5\",\"#B0BEC5\",\"#B0BEC5\",\"#B0BEC5\",\"#B0BEC5\",\"#B0BEC5\",\"#B0BEC5\",\"#B0BEC5\",\"#B0BEC5\",\"#B0BEC5\",\"#B0BEC5\",\"#B0BEC5\",\"#B0BEC5\",\"#B0BEC5\",\"#B0BEC5\",\"#B0BEC5\",\"#B0BEC5\",\"#B0BEC5\",\"#B0BEC5\",\"#B0BEC5\",\"#B0BEC5\",\"#B0BEC5\",\"#B0BEC5\",\"#B0BEC5\",\"#B0BEC5\",\"#B0BEC5\",\"#B0BEC5\",\"#B0BEC5\",\"#B0BEC5\",\"#B0BEC5\",\"#B0BEC5\",\"#B0BEC5\",\"#B0BEC5\",\"#B0BEC5\",\"#B0BEC5\",\"#B0BEC5\",\"#B0BEC5\",\"#B0BEC5\",\"#B0BEC5\",\"#B0BEC5\",\"#B0BEC5\",\"#B0BEC5\",\"#B0BEC5\",\"#B0BEC5\",\"#B0BEC5\",\"#B0BEC5\",\"#B0BEC5\",\"#B0BEC5\",\"#B0BEC5\",\"#B0BEC5\",\"#B0BEC5\",\"#B0BEC5\",\"#B0BEC5\",\"#B0BEC5\",\"#B0BEC5\",\"#B0BEC5\"]]}],\"label\":\"Topic 8\",\"method\":\"update\"},{\"args\":[{\"marker.color\":[[\"#B0BEC5\",\"#B0BEC5\",\"#B0BEC5\",\"#B0BEC5\",\"#B0BEC5\",\"#B0BEC5\",\"#B0BEC5\",\"#B0BEC5\",\"#B0BEC5\",\"red\",\"#B0BEC5\",\"#B0BEC5\",\"#B0BEC5\",\"#B0BEC5\",\"#B0BEC5\",\"#B0BEC5\",\"#B0BEC5\",\"#B0BEC5\",\"#B0BEC5\",\"#B0BEC5\",\"#B0BEC5\",\"#B0BEC5\",\"#B0BEC5\",\"#B0BEC5\",\"#B0BEC5\",\"#B0BEC5\",\"#B0BEC5\",\"#B0BEC5\",\"#B0BEC5\",\"#B0BEC5\",\"#B0BEC5\",\"#B0BEC5\",\"#B0BEC5\",\"#B0BEC5\",\"#B0BEC5\",\"#B0BEC5\",\"#B0BEC5\",\"#B0BEC5\",\"#B0BEC5\",\"#B0BEC5\",\"#B0BEC5\",\"#B0BEC5\",\"#B0BEC5\",\"#B0BEC5\",\"#B0BEC5\",\"#B0BEC5\",\"#B0BEC5\",\"#B0BEC5\",\"#B0BEC5\",\"#B0BEC5\",\"#B0BEC5\",\"#B0BEC5\",\"#B0BEC5\",\"#B0BEC5\",\"#B0BEC5\",\"#B0BEC5\",\"#B0BEC5\",\"#B0BEC5\",\"#B0BEC5\",\"#B0BEC5\",\"#B0BEC5\",\"#B0BEC5\",\"#B0BEC5\",\"#B0BEC5\",\"#B0BEC5\",\"#B0BEC5\",\"#B0BEC5\",\"#B0BEC5\",\"#B0BEC5\",\"#B0BEC5\",\"#B0BEC5\",\"#B0BEC5\"]]}],\"label\":\"Topic 9\",\"method\":\"update\"},{\"args\":[{\"marker.color\":[[\"#B0BEC5\",\"#B0BEC5\",\"#B0BEC5\",\"#B0BEC5\",\"#B0BEC5\",\"#B0BEC5\",\"#B0BEC5\",\"#B0BEC5\",\"#B0BEC5\",\"#B0BEC5\",\"red\",\"#B0BEC5\",\"#B0BEC5\",\"#B0BEC5\",\"#B0BEC5\",\"#B0BEC5\",\"#B0BEC5\",\"#B0BEC5\",\"#B0BEC5\",\"#B0BEC5\",\"#B0BEC5\",\"#B0BEC5\",\"#B0BEC5\",\"#B0BEC5\",\"#B0BEC5\",\"#B0BEC5\",\"#B0BEC5\",\"#B0BEC5\",\"#B0BEC5\",\"#B0BEC5\",\"#B0BEC5\",\"#B0BEC5\",\"#B0BEC5\",\"#B0BEC5\",\"#B0BEC5\",\"#B0BEC5\",\"#B0BEC5\",\"#B0BEC5\",\"#B0BEC5\",\"#B0BEC5\",\"#B0BEC5\",\"#B0BEC5\",\"#B0BEC5\",\"#B0BEC5\",\"#B0BEC5\",\"#B0BEC5\",\"#B0BEC5\",\"#B0BEC5\",\"#B0BEC5\",\"#B0BEC5\",\"#B0BEC5\",\"#B0BEC5\",\"#B0BEC5\",\"#B0BEC5\",\"#B0BEC5\",\"#B0BEC5\",\"#B0BEC5\",\"#B0BEC5\",\"#B0BEC5\",\"#B0BEC5\",\"#B0BEC5\",\"#B0BEC5\",\"#B0BEC5\",\"#B0BEC5\",\"#B0BEC5\",\"#B0BEC5\",\"#B0BEC5\",\"#B0BEC5\",\"#B0BEC5\",\"#B0BEC5\",\"#B0BEC5\",\"#B0BEC5\"]]}],\"label\":\"Topic 10\",\"method\":\"update\"},{\"args\":[{\"marker.color\":[[\"#B0BEC5\",\"#B0BEC5\",\"#B0BEC5\",\"#B0BEC5\",\"#B0BEC5\",\"#B0BEC5\",\"#B0BEC5\",\"#B0BEC5\",\"#B0BEC5\",\"#B0BEC5\",\"#B0BEC5\",\"red\",\"#B0BEC5\",\"#B0BEC5\",\"#B0BEC5\",\"#B0BEC5\",\"#B0BEC5\",\"#B0BEC5\",\"#B0BEC5\",\"#B0BEC5\",\"#B0BEC5\",\"#B0BEC5\",\"#B0BEC5\",\"#B0BEC5\",\"#B0BEC5\",\"#B0BEC5\",\"#B0BEC5\",\"#B0BEC5\",\"#B0BEC5\",\"#B0BEC5\",\"#B0BEC5\",\"#B0BEC5\",\"#B0BEC5\",\"#B0BEC5\",\"#B0BEC5\",\"#B0BEC5\",\"#B0BEC5\",\"#B0BEC5\",\"#B0BEC5\",\"#B0BEC5\",\"#B0BEC5\",\"#B0BEC5\",\"#B0BEC5\",\"#B0BEC5\",\"#B0BEC5\",\"#B0BEC5\",\"#B0BEC5\",\"#B0BEC5\",\"#B0BEC5\",\"#B0BEC5\",\"#B0BEC5\",\"#B0BEC5\",\"#B0BEC5\",\"#B0BEC5\",\"#B0BEC5\",\"#B0BEC5\",\"#B0BEC5\",\"#B0BEC5\",\"#B0BEC5\",\"#B0BEC5\",\"#B0BEC5\",\"#B0BEC5\",\"#B0BEC5\",\"#B0BEC5\",\"#B0BEC5\",\"#B0BEC5\",\"#B0BEC5\",\"#B0BEC5\",\"#B0BEC5\",\"#B0BEC5\",\"#B0BEC5\",\"#B0BEC5\"]]}],\"label\":\"Topic 11\",\"method\":\"update\"},{\"args\":[{\"marker.color\":[[\"#B0BEC5\",\"#B0BEC5\",\"#B0BEC5\",\"#B0BEC5\",\"#B0BEC5\",\"#B0BEC5\",\"#B0BEC5\",\"#B0BEC5\",\"#B0BEC5\",\"#B0BEC5\",\"#B0BEC5\",\"#B0BEC5\",\"red\",\"#B0BEC5\",\"#B0BEC5\",\"#B0BEC5\",\"#B0BEC5\",\"#B0BEC5\",\"#B0BEC5\",\"#B0BEC5\",\"#B0BEC5\",\"#B0BEC5\",\"#B0BEC5\",\"#B0BEC5\",\"#B0BEC5\",\"#B0BEC5\",\"#B0BEC5\",\"#B0BEC5\",\"#B0BEC5\",\"#B0BEC5\",\"#B0BEC5\",\"#B0BEC5\",\"#B0BEC5\",\"#B0BEC5\",\"#B0BEC5\",\"#B0BEC5\",\"#B0BEC5\",\"#B0BEC5\",\"#B0BEC5\",\"#B0BEC5\",\"#B0BEC5\",\"#B0BEC5\",\"#B0BEC5\",\"#B0BEC5\",\"#B0BEC5\",\"#B0BEC5\",\"#B0BEC5\",\"#B0BEC5\",\"#B0BEC5\",\"#B0BEC5\",\"#B0BEC5\",\"#B0BEC5\",\"#B0BEC5\",\"#B0BEC5\",\"#B0BEC5\",\"#B0BEC5\",\"#B0BEC5\",\"#B0BEC5\",\"#B0BEC5\",\"#B0BEC5\",\"#B0BEC5\",\"#B0BEC5\",\"#B0BEC5\",\"#B0BEC5\",\"#B0BEC5\",\"#B0BEC5\",\"#B0BEC5\",\"#B0BEC5\",\"#B0BEC5\",\"#B0BEC5\",\"#B0BEC5\",\"#B0BEC5\"]]}],\"label\":\"Topic 12\",\"method\":\"update\"},{\"args\":[{\"marker.color\":[[\"#B0BEC5\",\"#B0BEC5\",\"#B0BEC5\",\"#B0BEC5\",\"#B0BEC5\",\"#B0BEC5\",\"#B0BEC5\",\"#B0BEC5\",\"#B0BEC5\",\"#B0BEC5\",\"#B0BEC5\",\"#B0BEC5\",\"#B0BEC5\",\"red\",\"#B0BEC5\",\"#B0BEC5\",\"#B0BEC5\",\"#B0BEC5\",\"#B0BEC5\",\"#B0BEC5\",\"#B0BEC5\",\"#B0BEC5\",\"#B0BEC5\",\"#B0BEC5\",\"#B0BEC5\",\"#B0BEC5\",\"#B0BEC5\",\"#B0BEC5\",\"#B0BEC5\",\"#B0BEC5\",\"#B0BEC5\",\"#B0BEC5\",\"#B0BEC5\",\"#B0BEC5\",\"#B0BEC5\",\"#B0BEC5\",\"#B0BEC5\",\"#B0BEC5\",\"#B0BEC5\",\"#B0BEC5\",\"#B0BEC5\",\"#B0BEC5\",\"#B0BEC5\",\"#B0BEC5\",\"#B0BEC5\",\"#B0BEC5\",\"#B0BEC5\",\"#B0BEC5\",\"#B0BEC5\",\"#B0BEC5\",\"#B0BEC5\",\"#B0BEC5\",\"#B0BEC5\",\"#B0BEC5\",\"#B0BEC5\",\"#B0BEC5\",\"#B0BEC5\",\"#B0BEC5\",\"#B0BEC5\",\"#B0BEC5\",\"#B0BEC5\",\"#B0BEC5\",\"#B0BEC5\",\"#B0BEC5\",\"#B0BEC5\",\"#B0BEC5\",\"#B0BEC5\",\"#B0BEC5\",\"#B0BEC5\",\"#B0BEC5\",\"#B0BEC5\",\"#B0BEC5\"]]}],\"label\":\"Topic 13\",\"method\":\"update\"},{\"args\":[{\"marker.color\":[[\"#B0BEC5\",\"#B0BEC5\",\"#B0BEC5\",\"#B0BEC5\",\"#B0BEC5\",\"#B0BEC5\",\"#B0BEC5\",\"#B0BEC5\",\"#B0BEC5\",\"#B0BEC5\",\"#B0BEC5\",\"#B0BEC5\",\"#B0BEC5\",\"#B0BEC5\",\"red\",\"#B0BEC5\",\"#B0BEC5\",\"#B0BEC5\",\"#B0BEC5\",\"#B0BEC5\",\"#B0BEC5\",\"#B0BEC5\",\"#B0BEC5\",\"#B0BEC5\",\"#B0BEC5\",\"#B0BEC5\",\"#B0BEC5\",\"#B0BEC5\",\"#B0BEC5\",\"#B0BEC5\",\"#B0BEC5\",\"#B0BEC5\",\"#B0BEC5\",\"#B0BEC5\",\"#B0BEC5\",\"#B0BEC5\",\"#B0BEC5\",\"#B0BEC5\",\"#B0BEC5\",\"#B0BEC5\",\"#B0BEC5\",\"#B0BEC5\",\"#B0BEC5\",\"#B0BEC5\",\"#B0BEC5\",\"#B0BEC5\",\"#B0BEC5\",\"#B0BEC5\",\"#B0BEC5\",\"#B0BEC5\",\"#B0BEC5\",\"#B0BEC5\",\"#B0BEC5\",\"#B0BEC5\",\"#B0BEC5\",\"#B0BEC5\",\"#B0BEC5\",\"#B0BEC5\",\"#B0BEC5\",\"#B0BEC5\",\"#B0BEC5\",\"#B0BEC5\",\"#B0BEC5\",\"#B0BEC5\",\"#B0BEC5\",\"#B0BEC5\",\"#B0BEC5\",\"#B0BEC5\",\"#B0BEC5\",\"#B0BEC5\",\"#B0BEC5\",\"#B0BEC5\"]]}],\"label\":\"Topic 14\",\"method\":\"update\"},{\"args\":[{\"marker.color\":[[\"#B0BEC5\",\"#B0BEC5\",\"#B0BEC5\",\"#B0BEC5\",\"#B0BEC5\",\"#B0BEC5\",\"#B0BEC5\",\"#B0BEC5\",\"#B0BEC5\",\"#B0BEC5\",\"#B0BEC5\",\"#B0BEC5\",\"#B0BEC5\",\"#B0BEC5\",\"#B0BEC5\",\"red\",\"#B0BEC5\",\"#B0BEC5\",\"#B0BEC5\",\"#B0BEC5\",\"#B0BEC5\",\"#B0BEC5\",\"#B0BEC5\",\"#B0BEC5\",\"#B0BEC5\",\"#B0BEC5\",\"#B0BEC5\",\"#B0BEC5\",\"#B0BEC5\",\"#B0BEC5\",\"#B0BEC5\",\"#B0BEC5\",\"#B0BEC5\",\"#B0BEC5\",\"#B0BEC5\",\"#B0BEC5\",\"#B0BEC5\",\"#B0BEC5\",\"#B0BEC5\",\"#B0BEC5\",\"#B0BEC5\",\"#B0BEC5\",\"#B0BEC5\",\"#B0BEC5\",\"#B0BEC5\",\"#B0BEC5\",\"#B0BEC5\",\"#B0BEC5\",\"#B0BEC5\",\"#B0BEC5\",\"#B0BEC5\",\"#B0BEC5\",\"#B0BEC5\",\"#B0BEC5\",\"#B0BEC5\",\"#B0BEC5\",\"#B0BEC5\",\"#B0BEC5\",\"#B0BEC5\",\"#B0BEC5\",\"#B0BEC5\",\"#B0BEC5\",\"#B0BEC5\",\"#B0BEC5\",\"#B0BEC5\",\"#B0BEC5\",\"#B0BEC5\",\"#B0BEC5\",\"#B0BEC5\",\"#B0BEC5\",\"#B0BEC5\",\"#B0BEC5\"]]}],\"label\":\"Topic 15\",\"method\":\"update\"},{\"args\":[{\"marker.color\":[[\"#B0BEC5\",\"#B0BEC5\",\"#B0BEC5\",\"#B0BEC5\",\"#B0BEC5\",\"#B0BEC5\",\"#B0BEC5\",\"#B0BEC5\",\"#B0BEC5\",\"#B0BEC5\",\"#B0BEC5\",\"#B0BEC5\",\"#B0BEC5\",\"#B0BEC5\",\"#B0BEC5\",\"#B0BEC5\",\"red\",\"#B0BEC5\",\"#B0BEC5\",\"#B0BEC5\",\"#B0BEC5\",\"#B0BEC5\",\"#B0BEC5\",\"#B0BEC5\",\"#B0BEC5\",\"#B0BEC5\",\"#B0BEC5\",\"#B0BEC5\",\"#B0BEC5\",\"#B0BEC5\",\"#B0BEC5\",\"#B0BEC5\",\"#B0BEC5\",\"#B0BEC5\",\"#B0BEC5\",\"#B0BEC5\",\"#B0BEC5\",\"#B0BEC5\",\"#B0BEC5\",\"#B0BEC5\",\"#B0BEC5\",\"#B0BEC5\",\"#B0BEC5\",\"#B0BEC5\",\"#B0BEC5\",\"#B0BEC5\",\"#B0BEC5\",\"#B0BEC5\",\"#B0BEC5\",\"#B0BEC5\",\"#B0BEC5\",\"#B0BEC5\",\"#B0BEC5\",\"#B0BEC5\",\"#B0BEC5\",\"#B0BEC5\",\"#B0BEC5\",\"#B0BEC5\",\"#B0BEC5\",\"#B0BEC5\",\"#B0BEC5\",\"#B0BEC5\",\"#B0BEC5\",\"#B0BEC5\",\"#B0BEC5\",\"#B0BEC5\",\"#B0BEC5\",\"#B0BEC5\",\"#B0BEC5\",\"#B0BEC5\",\"#B0BEC5\",\"#B0BEC5\"]]}],\"label\":\"Topic 16\",\"method\":\"update\"},{\"args\":[{\"marker.color\":[[\"#B0BEC5\",\"#B0BEC5\",\"#B0BEC5\",\"#B0BEC5\",\"#B0BEC5\",\"#B0BEC5\",\"#B0BEC5\",\"#B0BEC5\",\"#B0BEC5\",\"#B0BEC5\",\"#B0BEC5\",\"#B0BEC5\",\"#B0BEC5\",\"#B0BEC5\",\"#B0BEC5\",\"#B0BEC5\",\"#B0BEC5\",\"red\",\"#B0BEC5\",\"#B0BEC5\",\"#B0BEC5\",\"#B0BEC5\",\"#B0BEC5\",\"#B0BEC5\",\"#B0BEC5\",\"#B0BEC5\",\"#B0BEC5\",\"#B0BEC5\",\"#B0BEC5\",\"#B0BEC5\",\"#B0BEC5\",\"#B0BEC5\",\"#B0BEC5\",\"#B0BEC5\",\"#B0BEC5\",\"#B0BEC5\",\"#B0BEC5\",\"#B0BEC5\",\"#B0BEC5\",\"#B0BEC5\",\"#B0BEC5\",\"#B0BEC5\",\"#B0BEC5\",\"#B0BEC5\",\"#B0BEC5\",\"#B0BEC5\",\"#B0BEC5\",\"#B0BEC5\",\"#B0BEC5\",\"#B0BEC5\",\"#B0BEC5\",\"#B0BEC5\",\"#B0BEC5\",\"#B0BEC5\",\"#B0BEC5\",\"#B0BEC5\",\"#B0BEC5\",\"#B0BEC5\",\"#B0BEC5\",\"#B0BEC5\",\"#B0BEC5\",\"#B0BEC5\",\"#B0BEC5\",\"#B0BEC5\",\"#B0BEC5\",\"#B0BEC5\",\"#B0BEC5\",\"#B0BEC5\",\"#B0BEC5\",\"#B0BEC5\",\"#B0BEC5\",\"#B0BEC5\"]]}],\"label\":\"Topic 17\",\"method\":\"update\"},{\"args\":[{\"marker.color\":[[\"#B0BEC5\",\"#B0BEC5\",\"#B0BEC5\",\"#B0BEC5\",\"#B0BEC5\",\"#B0BEC5\",\"#B0BEC5\",\"#B0BEC5\",\"#B0BEC5\",\"#B0BEC5\",\"#B0BEC5\",\"#B0BEC5\",\"#B0BEC5\",\"#B0BEC5\",\"#B0BEC5\",\"#B0BEC5\",\"#B0BEC5\",\"#B0BEC5\",\"red\",\"#B0BEC5\",\"#B0BEC5\",\"#B0BEC5\",\"#B0BEC5\",\"#B0BEC5\",\"#B0BEC5\",\"#B0BEC5\",\"#B0BEC5\",\"#B0BEC5\",\"#B0BEC5\",\"#B0BEC5\",\"#B0BEC5\",\"#B0BEC5\",\"#B0BEC5\",\"#B0BEC5\",\"#B0BEC5\",\"#B0BEC5\",\"#B0BEC5\",\"#B0BEC5\",\"#B0BEC5\",\"#B0BEC5\",\"#B0BEC5\",\"#B0BEC5\",\"#B0BEC5\",\"#B0BEC5\",\"#B0BEC5\",\"#B0BEC5\",\"#B0BEC5\",\"#B0BEC5\",\"#B0BEC5\",\"#B0BEC5\",\"#B0BEC5\",\"#B0BEC5\",\"#B0BEC5\",\"#B0BEC5\",\"#B0BEC5\",\"#B0BEC5\",\"#B0BEC5\",\"#B0BEC5\",\"#B0BEC5\",\"#B0BEC5\",\"#B0BEC5\",\"#B0BEC5\",\"#B0BEC5\",\"#B0BEC5\",\"#B0BEC5\",\"#B0BEC5\",\"#B0BEC5\",\"#B0BEC5\",\"#B0BEC5\",\"#B0BEC5\",\"#B0BEC5\",\"#B0BEC5\"]]}],\"label\":\"Topic 18\",\"method\":\"update\"},{\"args\":[{\"marker.color\":[[\"#B0BEC5\",\"#B0BEC5\",\"#B0BEC5\",\"#B0BEC5\",\"#B0BEC5\",\"#B0BEC5\",\"#B0BEC5\",\"#B0BEC5\",\"#B0BEC5\",\"#B0BEC5\",\"#B0BEC5\",\"#B0BEC5\",\"#B0BEC5\",\"#B0BEC5\",\"#B0BEC5\",\"#B0BEC5\",\"#B0BEC5\",\"#B0BEC5\",\"#B0BEC5\",\"red\",\"#B0BEC5\",\"#B0BEC5\",\"#B0BEC5\",\"#B0BEC5\",\"#B0BEC5\",\"#B0BEC5\",\"#B0BEC5\",\"#B0BEC5\",\"#B0BEC5\",\"#B0BEC5\",\"#B0BEC5\",\"#B0BEC5\",\"#B0BEC5\",\"#B0BEC5\",\"#B0BEC5\",\"#B0BEC5\",\"#B0BEC5\",\"#B0BEC5\",\"#B0BEC5\",\"#B0BEC5\",\"#B0BEC5\",\"#B0BEC5\",\"#B0BEC5\",\"#B0BEC5\",\"#B0BEC5\",\"#B0BEC5\",\"#B0BEC5\",\"#B0BEC5\",\"#B0BEC5\",\"#B0BEC5\",\"#B0BEC5\",\"#B0BEC5\",\"#B0BEC5\",\"#B0BEC5\",\"#B0BEC5\",\"#B0BEC5\",\"#B0BEC5\",\"#B0BEC5\",\"#B0BEC5\",\"#B0BEC5\",\"#B0BEC5\",\"#B0BEC5\",\"#B0BEC5\",\"#B0BEC5\",\"#B0BEC5\",\"#B0BEC5\",\"#B0BEC5\",\"#B0BEC5\",\"#B0BEC5\",\"#B0BEC5\",\"#B0BEC5\",\"#B0BEC5\"]]}],\"label\":\"Topic 19\",\"method\":\"update\"},{\"args\":[{\"marker.color\":[[\"#B0BEC5\",\"#B0BEC5\",\"#B0BEC5\",\"#B0BEC5\",\"#B0BEC5\",\"#B0BEC5\",\"#B0BEC5\",\"#B0BEC5\",\"#B0BEC5\",\"#B0BEC5\",\"#B0BEC5\",\"#B0BEC5\",\"#B0BEC5\",\"#B0BEC5\",\"#B0BEC5\",\"#B0BEC5\",\"#B0BEC5\",\"#B0BEC5\",\"#B0BEC5\",\"#B0BEC5\",\"red\",\"#B0BEC5\",\"#B0BEC5\",\"#B0BEC5\",\"#B0BEC5\",\"#B0BEC5\",\"#B0BEC5\",\"#B0BEC5\",\"#B0BEC5\",\"#B0BEC5\",\"#B0BEC5\",\"#B0BEC5\",\"#B0BEC5\",\"#B0BEC5\",\"#B0BEC5\",\"#B0BEC5\",\"#B0BEC5\",\"#B0BEC5\",\"#B0BEC5\",\"#B0BEC5\",\"#B0BEC5\",\"#B0BEC5\",\"#B0BEC5\",\"#B0BEC5\",\"#B0BEC5\",\"#B0BEC5\",\"#B0BEC5\",\"#B0BEC5\",\"#B0BEC5\",\"#B0BEC5\",\"#B0BEC5\",\"#B0BEC5\",\"#B0BEC5\",\"#B0BEC5\",\"#B0BEC5\",\"#B0BEC5\",\"#B0BEC5\",\"#B0BEC5\",\"#B0BEC5\",\"#B0BEC5\",\"#B0BEC5\",\"#B0BEC5\",\"#B0BEC5\",\"#B0BEC5\",\"#B0BEC5\",\"#B0BEC5\",\"#B0BEC5\",\"#B0BEC5\",\"#B0BEC5\",\"#B0BEC5\",\"#B0BEC5\",\"#B0BEC5\"]]}],\"label\":\"Topic 20\",\"method\":\"update\"},{\"args\":[{\"marker.color\":[[\"#B0BEC5\",\"#B0BEC5\",\"#B0BEC5\",\"#B0BEC5\",\"#B0BEC5\",\"#B0BEC5\",\"#B0BEC5\",\"#B0BEC5\",\"#B0BEC5\",\"#B0BEC5\",\"#B0BEC5\",\"#B0BEC5\",\"#B0BEC5\",\"#B0BEC5\",\"#B0BEC5\",\"#B0BEC5\",\"#B0BEC5\",\"#B0BEC5\",\"#B0BEC5\",\"#B0BEC5\",\"#B0BEC5\",\"red\",\"#B0BEC5\",\"#B0BEC5\",\"#B0BEC5\",\"#B0BEC5\",\"#B0BEC5\",\"#B0BEC5\",\"#B0BEC5\",\"#B0BEC5\",\"#B0BEC5\",\"#B0BEC5\",\"#B0BEC5\",\"#B0BEC5\",\"#B0BEC5\",\"#B0BEC5\",\"#B0BEC5\",\"#B0BEC5\",\"#B0BEC5\",\"#B0BEC5\",\"#B0BEC5\",\"#B0BEC5\",\"#B0BEC5\",\"#B0BEC5\",\"#B0BEC5\",\"#B0BEC5\",\"#B0BEC5\",\"#B0BEC5\",\"#B0BEC5\",\"#B0BEC5\",\"#B0BEC5\",\"#B0BEC5\",\"#B0BEC5\",\"#B0BEC5\",\"#B0BEC5\",\"#B0BEC5\",\"#B0BEC5\",\"#B0BEC5\",\"#B0BEC5\",\"#B0BEC5\",\"#B0BEC5\",\"#B0BEC5\",\"#B0BEC5\",\"#B0BEC5\",\"#B0BEC5\",\"#B0BEC5\",\"#B0BEC5\",\"#B0BEC5\",\"#B0BEC5\",\"#B0BEC5\",\"#B0BEC5\",\"#B0BEC5\"]]}],\"label\":\"Topic 21\",\"method\":\"update\"},{\"args\":[{\"marker.color\":[[\"#B0BEC5\",\"#B0BEC5\",\"#B0BEC5\",\"#B0BEC5\",\"#B0BEC5\",\"#B0BEC5\",\"#B0BEC5\",\"#B0BEC5\",\"#B0BEC5\",\"#B0BEC5\",\"#B0BEC5\",\"#B0BEC5\",\"#B0BEC5\",\"#B0BEC5\",\"#B0BEC5\",\"#B0BEC5\",\"#B0BEC5\",\"#B0BEC5\",\"#B0BEC5\",\"#B0BEC5\",\"#B0BEC5\",\"#B0BEC5\",\"red\",\"#B0BEC5\",\"#B0BEC5\",\"#B0BEC5\",\"#B0BEC5\",\"#B0BEC5\",\"#B0BEC5\",\"#B0BEC5\",\"#B0BEC5\",\"#B0BEC5\",\"#B0BEC5\",\"#B0BEC5\",\"#B0BEC5\",\"#B0BEC5\",\"#B0BEC5\",\"#B0BEC5\",\"#B0BEC5\",\"#B0BEC5\",\"#B0BEC5\",\"#B0BEC5\",\"#B0BEC5\",\"#B0BEC5\",\"#B0BEC5\",\"#B0BEC5\",\"#B0BEC5\",\"#B0BEC5\",\"#B0BEC5\",\"#B0BEC5\",\"#B0BEC5\",\"#B0BEC5\",\"#B0BEC5\",\"#B0BEC5\",\"#B0BEC5\",\"#B0BEC5\",\"#B0BEC5\",\"#B0BEC5\",\"#B0BEC5\",\"#B0BEC5\",\"#B0BEC5\",\"#B0BEC5\",\"#B0BEC5\",\"#B0BEC5\",\"#B0BEC5\",\"#B0BEC5\",\"#B0BEC5\",\"#B0BEC5\",\"#B0BEC5\",\"#B0BEC5\",\"#B0BEC5\",\"#B0BEC5\"]]}],\"label\":\"Topic 22\",\"method\":\"update\"},{\"args\":[{\"marker.color\":[[\"#B0BEC5\",\"#B0BEC5\",\"#B0BEC5\",\"#B0BEC5\",\"#B0BEC5\",\"#B0BEC5\",\"#B0BEC5\",\"#B0BEC5\",\"#B0BEC5\",\"#B0BEC5\",\"#B0BEC5\",\"#B0BEC5\",\"#B0BEC5\",\"#B0BEC5\",\"#B0BEC5\",\"#B0BEC5\",\"#B0BEC5\",\"#B0BEC5\",\"#B0BEC5\",\"#B0BEC5\",\"#B0BEC5\",\"#B0BEC5\",\"#B0BEC5\",\"red\",\"#B0BEC5\",\"#B0BEC5\",\"#B0BEC5\",\"#B0BEC5\",\"#B0BEC5\",\"#B0BEC5\",\"#B0BEC5\",\"#B0BEC5\",\"#B0BEC5\",\"#B0BEC5\",\"#B0BEC5\",\"#B0BEC5\",\"#B0BEC5\",\"#B0BEC5\",\"#B0BEC5\",\"#B0BEC5\",\"#B0BEC5\",\"#B0BEC5\",\"#B0BEC5\",\"#B0BEC5\",\"#B0BEC5\",\"#B0BEC5\",\"#B0BEC5\",\"#B0BEC5\",\"#B0BEC5\",\"#B0BEC5\",\"#B0BEC5\",\"#B0BEC5\",\"#B0BEC5\",\"#B0BEC5\",\"#B0BEC5\",\"#B0BEC5\",\"#B0BEC5\",\"#B0BEC5\",\"#B0BEC5\",\"#B0BEC5\",\"#B0BEC5\",\"#B0BEC5\",\"#B0BEC5\",\"#B0BEC5\",\"#B0BEC5\",\"#B0BEC5\",\"#B0BEC5\",\"#B0BEC5\",\"#B0BEC5\",\"#B0BEC5\",\"#B0BEC5\",\"#B0BEC5\"]]}],\"label\":\"Topic 23\",\"method\":\"update\"},{\"args\":[{\"marker.color\":[[\"#B0BEC5\",\"#B0BEC5\",\"#B0BEC5\",\"#B0BEC5\",\"#B0BEC5\",\"#B0BEC5\",\"#B0BEC5\",\"#B0BEC5\",\"#B0BEC5\",\"#B0BEC5\",\"#B0BEC5\",\"#B0BEC5\",\"#B0BEC5\",\"#B0BEC5\",\"#B0BEC5\",\"#B0BEC5\",\"#B0BEC5\",\"#B0BEC5\",\"#B0BEC5\",\"#B0BEC5\",\"#B0BEC5\",\"#B0BEC5\",\"#B0BEC5\",\"#B0BEC5\",\"red\",\"#B0BEC5\",\"#B0BEC5\",\"#B0BEC5\",\"#B0BEC5\",\"#B0BEC5\",\"#B0BEC5\",\"#B0BEC5\",\"#B0BEC5\",\"#B0BEC5\",\"#B0BEC5\",\"#B0BEC5\",\"#B0BEC5\",\"#B0BEC5\",\"#B0BEC5\",\"#B0BEC5\",\"#B0BEC5\",\"#B0BEC5\",\"#B0BEC5\",\"#B0BEC5\",\"#B0BEC5\",\"#B0BEC5\",\"#B0BEC5\",\"#B0BEC5\",\"#B0BEC5\",\"#B0BEC5\",\"#B0BEC5\",\"#B0BEC5\",\"#B0BEC5\",\"#B0BEC5\",\"#B0BEC5\",\"#B0BEC5\",\"#B0BEC5\",\"#B0BEC5\",\"#B0BEC5\",\"#B0BEC5\",\"#B0BEC5\",\"#B0BEC5\",\"#B0BEC5\",\"#B0BEC5\",\"#B0BEC5\",\"#B0BEC5\",\"#B0BEC5\",\"#B0BEC5\",\"#B0BEC5\",\"#B0BEC5\",\"#B0BEC5\",\"#B0BEC5\"]]}],\"label\":\"Topic 24\",\"method\":\"update\"},{\"args\":[{\"marker.color\":[[\"#B0BEC5\",\"#B0BEC5\",\"#B0BEC5\",\"#B0BEC5\",\"#B0BEC5\",\"#B0BEC5\",\"#B0BEC5\",\"#B0BEC5\",\"#B0BEC5\",\"#B0BEC5\",\"#B0BEC5\",\"#B0BEC5\",\"#B0BEC5\",\"#B0BEC5\",\"#B0BEC5\",\"#B0BEC5\",\"#B0BEC5\",\"#B0BEC5\",\"#B0BEC5\",\"#B0BEC5\",\"#B0BEC5\",\"#B0BEC5\",\"#B0BEC5\",\"#B0BEC5\",\"#B0BEC5\",\"red\",\"#B0BEC5\",\"#B0BEC5\",\"#B0BEC5\",\"#B0BEC5\",\"#B0BEC5\",\"#B0BEC5\",\"#B0BEC5\",\"#B0BEC5\",\"#B0BEC5\",\"#B0BEC5\",\"#B0BEC5\",\"#B0BEC5\",\"#B0BEC5\",\"#B0BEC5\",\"#B0BEC5\",\"#B0BEC5\",\"#B0BEC5\",\"#B0BEC5\",\"#B0BEC5\",\"#B0BEC5\",\"#B0BEC5\",\"#B0BEC5\",\"#B0BEC5\",\"#B0BEC5\",\"#B0BEC5\",\"#B0BEC5\",\"#B0BEC5\",\"#B0BEC5\",\"#B0BEC5\",\"#B0BEC5\",\"#B0BEC5\",\"#B0BEC5\",\"#B0BEC5\",\"#B0BEC5\",\"#B0BEC5\",\"#B0BEC5\",\"#B0BEC5\",\"#B0BEC5\",\"#B0BEC5\",\"#B0BEC5\",\"#B0BEC5\",\"#B0BEC5\",\"#B0BEC5\",\"#B0BEC5\",\"#B0BEC5\",\"#B0BEC5\"]]}],\"label\":\"Topic 25\",\"method\":\"update\"},{\"args\":[{\"marker.color\":[[\"#B0BEC5\",\"#B0BEC5\",\"#B0BEC5\",\"#B0BEC5\",\"#B0BEC5\",\"#B0BEC5\",\"#B0BEC5\",\"#B0BEC5\",\"#B0BEC5\",\"#B0BEC5\",\"#B0BEC5\",\"#B0BEC5\",\"#B0BEC5\",\"#B0BEC5\",\"#B0BEC5\",\"#B0BEC5\",\"#B0BEC5\",\"#B0BEC5\",\"#B0BEC5\",\"#B0BEC5\",\"#B0BEC5\",\"#B0BEC5\",\"#B0BEC5\",\"#B0BEC5\",\"#B0BEC5\",\"#B0BEC5\",\"red\",\"#B0BEC5\",\"#B0BEC5\",\"#B0BEC5\",\"#B0BEC5\",\"#B0BEC5\",\"#B0BEC5\",\"#B0BEC5\",\"#B0BEC5\",\"#B0BEC5\",\"#B0BEC5\",\"#B0BEC5\",\"#B0BEC5\",\"#B0BEC5\",\"#B0BEC5\",\"#B0BEC5\",\"#B0BEC5\",\"#B0BEC5\",\"#B0BEC5\",\"#B0BEC5\",\"#B0BEC5\",\"#B0BEC5\",\"#B0BEC5\",\"#B0BEC5\",\"#B0BEC5\",\"#B0BEC5\",\"#B0BEC5\",\"#B0BEC5\",\"#B0BEC5\",\"#B0BEC5\",\"#B0BEC5\",\"#B0BEC5\",\"#B0BEC5\",\"#B0BEC5\",\"#B0BEC5\",\"#B0BEC5\",\"#B0BEC5\",\"#B0BEC5\",\"#B0BEC5\",\"#B0BEC5\",\"#B0BEC5\",\"#B0BEC5\",\"#B0BEC5\",\"#B0BEC5\",\"#B0BEC5\",\"#B0BEC5\"]]}],\"label\":\"Topic 26\",\"method\":\"update\"},{\"args\":[{\"marker.color\":[[\"#B0BEC5\",\"#B0BEC5\",\"#B0BEC5\",\"#B0BEC5\",\"#B0BEC5\",\"#B0BEC5\",\"#B0BEC5\",\"#B0BEC5\",\"#B0BEC5\",\"#B0BEC5\",\"#B0BEC5\",\"#B0BEC5\",\"#B0BEC5\",\"#B0BEC5\",\"#B0BEC5\",\"#B0BEC5\",\"#B0BEC5\",\"#B0BEC5\",\"#B0BEC5\",\"#B0BEC5\",\"#B0BEC5\",\"#B0BEC5\",\"#B0BEC5\",\"#B0BEC5\",\"#B0BEC5\",\"#B0BEC5\",\"#B0BEC5\",\"red\",\"#B0BEC5\",\"#B0BEC5\",\"#B0BEC5\",\"#B0BEC5\",\"#B0BEC5\",\"#B0BEC5\",\"#B0BEC5\",\"#B0BEC5\",\"#B0BEC5\",\"#B0BEC5\",\"#B0BEC5\",\"#B0BEC5\",\"#B0BEC5\",\"#B0BEC5\",\"#B0BEC5\",\"#B0BEC5\",\"#B0BEC5\",\"#B0BEC5\",\"#B0BEC5\",\"#B0BEC5\",\"#B0BEC5\",\"#B0BEC5\",\"#B0BEC5\",\"#B0BEC5\",\"#B0BEC5\",\"#B0BEC5\",\"#B0BEC5\",\"#B0BEC5\",\"#B0BEC5\",\"#B0BEC5\",\"#B0BEC5\",\"#B0BEC5\",\"#B0BEC5\",\"#B0BEC5\",\"#B0BEC5\",\"#B0BEC5\",\"#B0BEC5\",\"#B0BEC5\",\"#B0BEC5\",\"#B0BEC5\",\"#B0BEC5\",\"#B0BEC5\",\"#B0BEC5\",\"#B0BEC5\"]]}],\"label\":\"Topic 27\",\"method\":\"update\"},{\"args\":[{\"marker.color\":[[\"#B0BEC5\",\"#B0BEC5\",\"#B0BEC5\",\"#B0BEC5\",\"#B0BEC5\",\"#B0BEC5\",\"#B0BEC5\",\"#B0BEC5\",\"#B0BEC5\",\"#B0BEC5\",\"#B0BEC5\",\"#B0BEC5\",\"#B0BEC5\",\"#B0BEC5\",\"#B0BEC5\",\"#B0BEC5\",\"#B0BEC5\",\"#B0BEC5\",\"#B0BEC5\",\"#B0BEC5\",\"#B0BEC5\",\"#B0BEC5\",\"#B0BEC5\",\"#B0BEC5\",\"#B0BEC5\",\"#B0BEC5\",\"#B0BEC5\",\"#B0BEC5\",\"red\",\"#B0BEC5\",\"#B0BEC5\",\"#B0BEC5\",\"#B0BEC5\",\"#B0BEC5\",\"#B0BEC5\",\"#B0BEC5\",\"#B0BEC5\",\"#B0BEC5\",\"#B0BEC5\",\"#B0BEC5\",\"#B0BEC5\",\"#B0BEC5\",\"#B0BEC5\",\"#B0BEC5\",\"#B0BEC5\",\"#B0BEC5\",\"#B0BEC5\",\"#B0BEC5\",\"#B0BEC5\",\"#B0BEC5\",\"#B0BEC5\",\"#B0BEC5\",\"#B0BEC5\",\"#B0BEC5\",\"#B0BEC5\",\"#B0BEC5\",\"#B0BEC5\",\"#B0BEC5\",\"#B0BEC5\",\"#B0BEC5\",\"#B0BEC5\",\"#B0BEC5\",\"#B0BEC5\",\"#B0BEC5\",\"#B0BEC5\",\"#B0BEC5\",\"#B0BEC5\",\"#B0BEC5\",\"#B0BEC5\",\"#B0BEC5\",\"#B0BEC5\",\"#B0BEC5\"]]}],\"label\":\"Topic 28\",\"method\":\"update\"},{\"args\":[{\"marker.color\":[[\"#B0BEC5\",\"#B0BEC5\",\"#B0BEC5\",\"#B0BEC5\",\"#B0BEC5\",\"#B0BEC5\",\"#B0BEC5\",\"#B0BEC5\",\"#B0BEC5\",\"#B0BEC5\",\"#B0BEC5\",\"#B0BEC5\",\"#B0BEC5\",\"#B0BEC5\",\"#B0BEC5\",\"#B0BEC5\",\"#B0BEC5\",\"#B0BEC5\",\"#B0BEC5\",\"#B0BEC5\",\"#B0BEC5\",\"#B0BEC5\",\"#B0BEC5\",\"#B0BEC5\",\"#B0BEC5\",\"#B0BEC5\",\"#B0BEC5\",\"#B0BEC5\",\"#B0BEC5\",\"red\",\"#B0BEC5\",\"#B0BEC5\",\"#B0BEC5\",\"#B0BEC5\",\"#B0BEC5\",\"#B0BEC5\",\"#B0BEC5\",\"#B0BEC5\",\"#B0BEC5\",\"#B0BEC5\",\"#B0BEC5\",\"#B0BEC5\",\"#B0BEC5\",\"#B0BEC5\",\"#B0BEC5\",\"#B0BEC5\",\"#B0BEC5\",\"#B0BEC5\",\"#B0BEC5\",\"#B0BEC5\",\"#B0BEC5\",\"#B0BEC5\",\"#B0BEC5\",\"#B0BEC5\",\"#B0BEC5\",\"#B0BEC5\",\"#B0BEC5\",\"#B0BEC5\",\"#B0BEC5\",\"#B0BEC5\",\"#B0BEC5\",\"#B0BEC5\",\"#B0BEC5\",\"#B0BEC5\",\"#B0BEC5\",\"#B0BEC5\",\"#B0BEC5\",\"#B0BEC5\",\"#B0BEC5\",\"#B0BEC5\",\"#B0BEC5\",\"#B0BEC5\"]]}],\"label\":\"Topic 29\",\"method\":\"update\"},{\"args\":[{\"marker.color\":[[\"#B0BEC5\",\"#B0BEC5\",\"#B0BEC5\",\"#B0BEC5\",\"#B0BEC5\",\"#B0BEC5\",\"#B0BEC5\",\"#B0BEC5\",\"#B0BEC5\",\"#B0BEC5\",\"#B0BEC5\",\"#B0BEC5\",\"#B0BEC5\",\"#B0BEC5\",\"#B0BEC5\",\"#B0BEC5\",\"#B0BEC5\",\"#B0BEC5\",\"#B0BEC5\",\"#B0BEC5\",\"#B0BEC5\",\"#B0BEC5\",\"#B0BEC5\",\"#B0BEC5\",\"#B0BEC5\",\"#B0BEC5\",\"#B0BEC5\",\"#B0BEC5\",\"#B0BEC5\",\"#B0BEC5\",\"red\",\"#B0BEC5\",\"#B0BEC5\",\"#B0BEC5\",\"#B0BEC5\",\"#B0BEC5\",\"#B0BEC5\",\"#B0BEC5\",\"#B0BEC5\",\"#B0BEC5\",\"#B0BEC5\",\"#B0BEC5\",\"#B0BEC5\",\"#B0BEC5\",\"#B0BEC5\",\"#B0BEC5\",\"#B0BEC5\",\"#B0BEC5\",\"#B0BEC5\",\"#B0BEC5\",\"#B0BEC5\",\"#B0BEC5\",\"#B0BEC5\",\"#B0BEC5\",\"#B0BEC5\",\"#B0BEC5\",\"#B0BEC5\",\"#B0BEC5\",\"#B0BEC5\",\"#B0BEC5\",\"#B0BEC5\",\"#B0BEC5\",\"#B0BEC5\",\"#B0BEC5\",\"#B0BEC5\",\"#B0BEC5\",\"#B0BEC5\",\"#B0BEC5\",\"#B0BEC5\",\"#B0BEC5\",\"#B0BEC5\",\"#B0BEC5\"]]}],\"label\":\"Topic 30\",\"method\":\"update\"},{\"args\":[{\"marker.color\":[[\"#B0BEC5\",\"#B0BEC5\",\"#B0BEC5\",\"#B0BEC5\",\"#B0BEC5\",\"#B0BEC5\",\"#B0BEC5\",\"#B0BEC5\",\"#B0BEC5\",\"#B0BEC5\",\"#B0BEC5\",\"#B0BEC5\",\"#B0BEC5\",\"#B0BEC5\",\"#B0BEC5\",\"#B0BEC5\",\"#B0BEC5\",\"#B0BEC5\",\"#B0BEC5\",\"#B0BEC5\",\"#B0BEC5\",\"#B0BEC5\",\"#B0BEC5\",\"#B0BEC5\",\"#B0BEC5\",\"#B0BEC5\",\"#B0BEC5\",\"#B0BEC5\",\"#B0BEC5\",\"#B0BEC5\",\"#B0BEC5\",\"red\",\"#B0BEC5\",\"#B0BEC5\",\"#B0BEC5\",\"#B0BEC5\",\"#B0BEC5\",\"#B0BEC5\",\"#B0BEC5\",\"#B0BEC5\",\"#B0BEC5\",\"#B0BEC5\",\"#B0BEC5\",\"#B0BEC5\",\"#B0BEC5\",\"#B0BEC5\",\"#B0BEC5\",\"#B0BEC5\",\"#B0BEC5\",\"#B0BEC5\",\"#B0BEC5\",\"#B0BEC5\",\"#B0BEC5\",\"#B0BEC5\",\"#B0BEC5\",\"#B0BEC5\",\"#B0BEC5\",\"#B0BEC5\",\"#B0BEC5\",\"#B0BEC5\",\"#B0BEC5\",\"#B0BEC5\",\"#B0BEC5\",\"#B0BEC5\",\"#B0BEC5\",\"#B0BEC5\",\"#B0BEC5\",\"#B0BEC5\",\"#B0BEC5\",\"#B0BEC5\",\"#B0BEC5\",\"#B0BEC5\"]]}],\"label\":\"Topic 31\",\"method\":\"update\"},{\"args\":[{\"marker.color\":[[\"#B0BEC5\",\"#B0BEC5\",\"#B0BEC5\",\"#B0BEC5\",\"#B0BEC5\",\"#B0BEC5\",\"#B0BEC5\",\"#B0BEC5\",\"#B0BEC5\",\"#B0BEC5\",\"#B0BEC5\",\"#B0BEC5\",\"#B0BEC5\",\"#B0BEC5\",\"#B0BEC5\",\"#B0BEC5\",\"#B0BEC5\",\"#B0BEC5\",\"#B0BEC5\",\"#B0BEC5\",\"#B0BEC5\",\"#B0BEC5\",\"#B0BEC5\",\"#B0BEC5\",\"#B0BEC5\",\"#B0BEC5\",\"#B0BEC5\",\"#B0BEC5\",\"#B0BEC5\",\"#B0BEC5\",\"#B0BEC5\",\"#B0BEC5\",\"red\",\"#B0BEC5\",\"#B0BEC5\",\"#B0BEC5\",\"#B0BEC5\",\"#B0BEC5\",\"#B0BEC5\",\"#B0BEC5\",\"#B0BEC5\",\"#B0BEC5\",\"#B0BEC5\",\"#B0BEC5\",\"#B0BEC5\",\"#B0BEC5\",\"#B0BEC5\",\"#B0BEC5\",\"#B0BEC5\",\"#B0BEC5\",\"#B0BEC5\",\"#B0BEC5\",\"#B0BEC5\",\"#B0BEC5\",\"#B0BEC5\",\"#B0BEC5\",\"#B0BEC5\",\"#B0BEC5\",\"#B0BEC5\",\"#B0BEC5\",\"#B0BEC5\",\"#B0BEC5\",\"#B0BEC5\",\"#B0BEC5\",\"#B0BEC5\",\"#B0BEC5\",\"#B0BEC5\",\"#B0BEC5\",\"#B0BEC5\",\"#B0BEC5\",\"#B0BEC5\",\"#B0BEC5\"]]}],\"label\":\"Topic 32\",\"method\":\"update\"},{\"args\":[{\"marker.color\":[[\"#B0BEC5\",\"#B0BEC5\",\"#B0BEC5\",\"#B0BEC5\",\"#B0BEC5\",\"#B0BEC5\",\"#B0BEC5\",\"#B0BEC5\",\"#B0BEC5\",\"#B0BEC5\",\"#B0BEC5\",\"#B0BEC5\",\"#B0BEC5\",\"#B0BEC5\",\"#B0BEC5\",\"#B0BEC5\",\"#B0BEC5\",\"#B0BEC5\",\"#B0BEC5\",\"#B0BEC5\",\"#B0BEC5\",\"#B0BEC5\",\"#B0BEC5\",\"#B0BEC5\",\"#B0BEC5\",\"#B0BEC5\",\"#B0BEC5\",\"#B0BEC5\",\"#B0BEC5\",\"#B0BEC5\",\"#B0BEC5\",\"#B0BEC5\",\"#B0BEC5\",\"red\",\"#B0BEC5\",\"#B0BEC5\",\"#B0BEC5\",\"#B0BEC5\",\"#B0BEC5\",\"#B0BEC5\",\"#B0BEC5\",\"#B0BEC5\",\"#B0BEC5\",\"#B0BEC5\",\"#B0BEC5\",\"#B0BEC5\",\"#B0BEC5\",\"#B0BEC5\",\"#B0BEC5\",\"#B0BEC5\",\"#B0BEC5\",\"#B0BEC5\",\"#B0BEC5\",\"#B0BEC5\",\"#B0BEC5\",\"#B0BEC5\",\"#B0BEC5\",\"#B0BEC5\",\"#B0BEC5\",\"#B0BEC5\",\"#B0BEC5\",\"#B0BEC5\",\"#B0BEC5\",\"#B0BEC5\",\"#B0BEC5\",\"#B0BEC5\",\"#B0BEC5\",\"#B0BEC5\",\"#B0BEC5\",\"#B0BEC5\",\"#B0BEC5\",\"#B0BEC5\"]]}],\"label\":\"Topic 33\",\"method\":\"update\"},{\"args\":[{\"marker.color\":[[\"#B0BEC5\",\"#B0BEC5\",\"#B0BEC5\",\"#B0BEC5\",\"#B0BEC5\",\"#B0BEC5\",\"#B0BEC5\",\"#B0BEC5\",\"#B0BEC5\",\"#B0BEC5\",\"#B0BEC5\",\"#B0BEC5\",\"#B0BEC5\",\"#B0BEC5\",\"#B0BEC5\",\"#B0BEC5\",\"#B0BEC5\",\"#B0BEC5\",\"#B0BEC5\",\"#B0BEC5\",\"#B0BEC5\",\"#B0BEC5\",\"#B0BEC5\",\"#B0BEC5\",\"#B0BEC5\",\"#B0BEC5\",\"#B0BEC5\",\"#B0BEC5\",\"#B0BEC5\",\"#B0BEC5\",\"#B0BEC5\",\"#B0BEC5\",\"#B0BEC5\",\"#B0BEC5\",\"red\",\"#B0BEC5\",\"#B0BEC5\",\"#B0BEC5\",\"#B0BEC5\",\"#B0BEC5\",\"#B0BEC5\",\"#B0BEC5\",\"#B0BEC5\",\"#B0BEC5\",\"#B0BEC5\",\"#B0BEC5\",\"#B0BEC5\",\"#B0BEC5\",\"#B0BEC5\",\"#B0BEC5\",\"#B0BEC5\",\"#B0BEC5\",\"#B0BEC5\",\"#B0BEC5\",\"#B0BEC5\",\"#B0BEC5\",\"#B0BEC5\",\"#B0BEC5\",\"#B0BEC5\",\"#B0BEC5\",\"#B0BEC5\",\"#B0BEC5\",\"#B0BEC5\",\"#B0BEC5\",\"#B0BEC5\",\"#B0BEC5\",\"#B0BEC5\",\"#B0BEC5\",\"#B0BEC5\",\"#B0BEC5\",\"#B0BEC5\",\"#B0BEC5\"]]}],\"label\":\"Topic 34\",\"method\":\"update\"},{\"args\":[{\"marker.color\":[[\"#B0BEC5\",\"#B0BEC5\",\"#B0BEC5\",\"#B0BEC5\",\"#B0BEC5\",\"#B0BEC5\",\"#B0BEC5\",\"#B0BEC5\",\"#B0BEC5\",\"#B0BEC5\",\"#B0BEC5\",\"#B0BEC5\",\"#B0BEC5\",\"#B0BEC5\",\"#B0BEC5\",\"#B0BEC5\",\"#B0BEC5\",\"#B0BEC5\",\"#B0BEC5\",\"#B0BEC5\",\"#B0BEC5\",\"#B0BEC5\",\"#B0BEC5\",\"#B0BEC5\",\"#B0BEC5\",\"#B0BEC5\",\"#B0BEC5\",\"#B0BEC5\",\"#B0BEC5\",\"#B0BEC5\",\"#B0BEC5\",\"#B0BEC5\",\"#B0BEC5\",\"#B0BEC5\",\"#B0BEC5\",\"red\",\"#B0BEC5\",\"#B0BEC5\",\"#B0BEC5\",\"#B0BEC5\",\"#B0BEC5\",\"#B0BEC5\",\"#B0BEC5\",\"#B0BEC5\",\"#B0BEC5\",\"#B0BEC5\",\"#B0BEC5\",\"#B0BEC5\",\"#B0BEC5\",\"#B0BEC5\",\"#B0BEC5\",\"#B0BEC5\",\"#B0BEC5\",\"#B0BEC5\",\"#B0BEC5\",\"#B0BEC5\",\"#B0BEC5\",\"#B0BEC5\",\"#B0BEC5\",\"#B0BEC5\",\"#B0BEC5\",\"#B0BEC5\",\"#B0BEC5\",\"#B0BEC5\",\"#B0BEC5\",\"#B0BEC5\",\"#B0BEC5\",\"#B0BEC5\",\"#B0BEC5\",\"#B0BEC5\",\"#B0BEC5\",\"#B0BEC5\"]]}],\"label\":\"Topic 35\",\"method\":\"update\"},{\"args\":[{\"marker.color\":[[\"#B0BEC5\",\"#B0BEC5\",\"#B0BEC5\",\"#B0BEC5\",\"#B0BEC5\",\"#B0BEC5\",\"#B0BEC5\",\"#B0BEC5\",\"#B0BEC5\",\"#B0BEC5\",\"#B0BEC5\",\"#B0BEC5\",\"#B0BEC5\",\"#B0BEC5\",\"#B0BEC5\",\"#B0BEC5\",\"#B0BEC5\",\"#B0BEC5\",\"#B0BEC5\",\"#B0BEC5\",\"#B0BEC5\",\"#B0BEC5\",\"#B0BEC5\",\"#B0BEC5\",\"#B0BEC5\",\"#B0BEC5\",\"#B0BEC5\",\"#B0BEC5\",\"#B0BEC5\",\"#B0BEC5\",\"#B0BEC5\",\"#B0BEC5\",\"#B0BEC5\",\"#B0BEC5\",\"#B0BEC5\",\"#B0BEC5\",\"red\",\"#B0BEC5\",\"#B0BEC5\",\"#B0BEC5\",\"#B0BEC5\",\"#B0BEC5\",\"#B0BEC5\",\"#B0BEC5\",\"#B0BEC5\",\"#B0BEC5\",\"#B0BEC5\",\"#B0BEC5\",\"#B0BEC5\",\"#B0BEC5\",\"#B0BEC5\",\"#B0BEC5\",\"#B0BEC5\",\"#B0BEC5\",\"#B0BEC5\",\"#B0BEC5\",\"#B0BEC5\",\"#B0BEC5\",\"#B0BEC5\",\"#B0BEC5\",\"#B0BEC5\",\"#B0BEC5\",\"#B0BEC5\",\"#B0BEC5\",\"#B0BEC5\",\"#B0BEC5\",\"#B0BEC5\",\"#B0BEC5\",\"#B0BEC5\",\"#B0BEC5\",\"#B0BEC5\",\"#B0BEC5\"]]}],\"label\":\"Topic 36\",\"method\":\"update\"},{\"args\":[{\"marker.color\":[[\"#B0BEC5\",\"#B0BEC5\",\"#B0BEC5\",\"#B0BEC5\",\"#B0BEC5\",\"#B0BEC5\",\"#B0BEC5\",\"#B0BEC5\",\"#B0BEC5\",\"#B0BEC5\",\"#B0BEC5\",\"#B0BEC5\",\"#B0BEC5\",\"#B0BEC5\",\"#B0BEC5\",\"#B0BEC5\",\"#B0BEC5\",\"#B0BEC5\",\"#B0BEC5\",\"#B0BEC5\",\"#B0BEC5\",\"#B0BEC5\",\"#B0BEC5\",\"#B0BEC5\",\"#B0BEC5\",\"#B0BEC5\",\"#B0BEC5\",\"#B0BEC5\",\"#B0BEC5\",\"#B0BEC5\",\"#B0BEC5\",\"#B0BEC5\",\"#B0BEC5\",\"#B0BEC5\",\"#B0BEC5\",\"#B0BEC5\",\"#B0BEC5\",\"red\",\"#B0BEC5\",\"#B0BEC5\",\"#B0BEC5\",\"#B0BEC5\",\"#B0BEC5\",\"#B0BEC5\",\"#B0BEC5\",\"#B0BEC5\",\"#B0BEC5\",\"#B0BEC5\",\"#B0BEC5\",\"#B0BEC5\",\"#B0BEC5\",\"#B0BEC5\",\"#B0BEC5\",\"#B0BEC5\",\"#B0BEC5\",\"#B0BEC5\",\"#B0BEC5\",\"#B0BEC5\",\"#B0BEC5\",\"#B0BEC5\",\"#B0BEC5\",\"#B0BEC5\",\"#B0BEC5\",\"#B0BEC5\",\"#B0BEC5\",\"#B0BEC5\",\"#B0BEC5\",\"#B0BEC5\",\"#B0BEC5\",\"#B0BEC5\",\"#B0BEC5\",\"#B0BEC5\"]]}],\"label\":\"Topic 37\",\"method\":\"update\"},{\"args\":[{\"marker.color\":[[\"#B0BEC5\",\"#B0BEC5\",\"#B0BEC5\",\"#B0BEC5\",\"#B0BEC5\",\"#B0BEC5\",\"#B0BEC5\",\"#B0BEC5\",\"#B0BEC5\",\"#B0BEC5\",\"#B0BEC5\",\"#B0BEC5\",\"#B0BEC5\",\"#B0BEC5\",\"#B0BEC5\",\"#B0BEC5\",\"#B0BEC5\",\"#B0BEC5\",\"#B0BEC5\",\"#B0BEC5\",\"#B0BEC5\",\"#B0BEC5\",\"#B0BEC5\",\"#B0BEC5\",\"#B0BEC5\",\"#B0BEC5\",\"#B0BEC5\",\"#B0BEC5\",\"#B0BEC5\",\"#B0BEC5\",\"#B0BEC5\",\"#B0BEC5\",\"#B0BEC5\",\"#B0BEC5\",\"#B0BEC5\",\"#B0BEC5\",\"#B0BEC5\",\"#B0BEC5\",\"red\",\"#B0BEC5\",\"#B0BEC5\",\"#B0BEC5\",\"#B0BEC5\",\"#B0BEC5\",\"#B0BEC5\",\"#B0BEC5\",\"#B0BEC5\",\"#B0BEC5\",\"#B0BEC5\",\"#B0BEC5\",\"#B0BEC5\",\"#B0BEC5\",\"#B0BEC5\",\"#B0BEC5\",\"#B0BEC5\",\"#B0BEC5\",\"#B0BEC5\",\"#B0BEC5\",\"#B0BEC5\",\"#B0BEC5\",\"#B0BEC5\",\"#B0BEC5\",\"#B0BEC5\",\"#B0BEC5\",\"#B0BEC5\",\"#B0BEC5\",\"#B0BEC5\",\"#B0BEC5\",\"#B0BEC5\",\"#B0BEC5\",\"#B0BEC5\",\"#B0BEC5\"]]}],\"label\":\"Topic 38\",\"method\":\"update\"},{\"args\":[{\"marker.color\":[[\"#B0BEC5\",\"#B0BEC5\",\"#B0BEC5\",\"#B0BEC5\",\"#B0BEC5\",\"#B0BEC5\",\"#B0BEC5\",\"#B0BEC5\",\"#B0BEC5\",\"#B0BEC5\",\"#B0BEC5\",\"#B0BEC5\",\"#B0BEC5\",\"#B0BEC5\",\"#B0BEC5\",\"#B0BEC5\",\"#B0BEC5\",\"#B0BEC5\",\"#B0BEC5\",\"#B0BEC5\",\"#B0BEC5\",\"#B0BEC5\",\"#B0BEC5\",\"#B0BEC5\",\"#B0BEC5\",\"#B0BEC5\",\"#B0BEC5\",\"#B0BEC5\",\"#B0BEC5\",\"#B0BEC5\",\"#B0BEC5\",\"#B0BEC5\",\"#B0BEC5\",\"#B0BEC5\",\"#B0BEC5\",\"#B0BEC5\",\"#B0BEC5\",\"#B0BEC5\",\"#B0BEC5\",\"red\",\"#B0BEC5\",\"#B0BEC5\",\"#B0BEC5\",\"#B0BEC5\",\"#B0BEC5\",\"#B0BEC5\",\"#B0BEC5\",\"#B0BEC5\",\"#B0BEC5\",\"#B0BEC5\",\"#B0BEC5\",\"#B0BEC5\",\"#B0BEC5\",\"#B0BEC5\",\"#B0BEC5\",\"#B0BEC5\",\"#B0BEC5\",\"#B0BEC5\",\"#B0BEC5\",\"#B0BEC5\",\"#B0BEC5\",\"#B0BEC5\",\"#B0BEC5\",\"#B0BEC5\",\"#B0BEC5\",\"#B0BEC5\",\"#B0BEC5\",\"#B0BEC5\",\"#B0BEC5\",\"#B0BEC5\",\"#B0BEC5\",\"#B0BEC5\"]]}],\"label\":\"Topic 39\",\"method\":\"update\"},{\"args\":[{\"marker.color\":[[\"#B0BEC5\",\"#B0BEC5\",\"#B0BEC5\",\"#B0BEC5\",\"#B0BEC5\",\"#B0BEC5\",\"#B0BEC5\",\"#B0BEC5\",\"#B0BEC5\",\"#B0BEC5\",\"#B0BEC5\",\"#B0BEC5\",\"#B0BEC5\",\"#B0BEC5\",\"#B0BEC5\",\"#B0BEC5\",\"#B0BEC5\",\"#B0BEC5\",\"#B0BEC5\",\"#B0BEC5\",\"#B0BEC5\",\"#B0BEC5\",\"#B0BEC5\",\"#B0BEC5\",\"#B0BEC5\",\"#B0BEC5\",\"#B0BEC5\",\"#B0BEC5\",\"#B0BEC5\",\"#B0BEC5\",\"#B0BEC5\",\"#B0BEC5\",\"#B0BEC5\",\"#B0BEC5\",\"#B0BEC5\",\"#B0BEC5\",\"#B0BEC5\",\"#B0BEC5\",\"#B0BEC5\",\"#B0BEC5\",\"red\",\"#B0BEC5\",\"#B0BEC5\",\"#B0BEC5\",\"#B0BEC5\",\"#B0BEC5\",\"#B0BEC5\",\"#B0BEC5\",\"#B0BEC5\",\"#B0BEC5\",\"#B0BEC5\",\"#B0BEC5\",\"#B0BEC5\",\"#B0BEC5\",\"#B0BEC5\",\"#B0BEC5\",\"#B0BEC5\",\"#B0BEC5\",\"#B0BEC5\",\"#B0BEC5\",\"#B0BEC5\",\"#B0BEC5\",\"#B0BEC5\",\"#B0BEC5\",\"#B0BEC5\",\"#B0BEC5\",\"#B0BEC5\",\"#B0BEC5\",\"#B0BEC5\",\"#B0BEC5\",\"#B0BEC5\",\"#B0BEC5\"]]}],\"label\":\"Topic 40\",\"method\":\"update\"},{\"args\":[{\"marker.color\":[[\"#B0BEC5\",\"#B0BEC5\",\"#B0BEC5\",\"#B0BEC5\",\"#B0BEC5\",\"#B0BEC5\",\"#B0BEC5\",\"#B0BEC5\",\"#B0BEC5\",\"#B0BEC5\",\"#B0BEC5\",\"#B0BEC5\",\"#B0BEC5\",\"#B0BEC5\",\"#B0BEC5\",\"#B0BEC5\",\"#B0BEC5\",\"#B0BEC5\",\"#B0BEC5\",\"#B0BEC5\",\"#B0BEC5\",\"#B0BEC5\",\"#B0BEC5\",\"#B0BEC5\",\"#B0BEC5\",\"#B0BEC5\",\"#B0BEC5\",\"#B0BEC5\",\"#B0BEC5\",\"#B0BEC5\",\"#B0BEC5\",\"#B0BEC5\",\"#B0BEC5\",\"#B0BEC5\",\"#B0BEC5\",\"#B0BEC5\",\"#B0BEC5\",\"#B0BEC5\",\"#B0BEC5\",\"#B0BEC5\",\"#B0BEC5\",\"red\",\"#B0BEC5\",\"#B0BEC5\",\"#B0BEC5\",\"#B0BEC5\",\"#B0BEC5\",\"#B0BEC5\",\"#B0BEC5\",\"#B0BEC5\",\"#B0BEC5\",\"#B0BEC5\",\"#B0BEC5\",\"#B0BEC5\",\"#B0BEC5\",\"#B0BEC5\",\"#B0BEC5\",\"#B0BEC5\",\"#B0BEC5\",\"#B0BEC5\",\"#B0BEC5\",\"#B0BEC5\",\"#B0BEC5\",\"#B0BEC5\",\"#B0BEC5\",\"#B0BEC5\",\"#B0BEC5\",\"#B0BEC5\",\"#B0BEC5\",\"#B0BEC5\",\"#B0BEC5\",\"#B0BEC5\"]]}],\"label\":\"Topic 41\",\"method\":\"update\"},{\"args\":[{\"marker.color\":[[\"#B0BEC5\",\"#B0BEC5\",\"#B0BEC5\",\"#B0BEC5\",\"#B0BEC5\",\"#B0BEC5\",\"#B0BEC5\",\"#B0BEC5\",\"#B0BEC5\",\"#B0BEC5\",\"#B0BEC5\",\"#B0BEC5\",\"#B0BEC5\",\"#B0BEC5\",\"#B0BEC5\",\"#B0BEC5\",\"#B0BEC5\",\"#B0BEC5\",\"#B0BEC5\",\"#B0BEC5\",\"#B0BEC5\",\"#B0BEC5\",\"#B0BEC5\",\"#B0BEC5\",\"#B0BEC5\",\"#B0BEC5\",\"#B0BEC5\",\"#B0BEC5\",\"#B0BEC5\",\"#B0BEC5\",\"#B0BEC5\",\"#B0BEC5\",\"#B0BEC5\",\"#B0BEC5\",\"#B0BEC5\",\"#B0BEC5\",\"#B0BEC5\",\"#B0BEC5\",\"#B0BEC5\",\"#B0BEC5\",\"#B0BEC5\",\"#B0BEC5\",\"red\",\"#B0BEC5\",\"#B0BEC5\",\"#B0BEC5\",\"#B0BEC5\",\"#B0BEC5\",\"#B0BEC5\",\"#B0BEC5\",\"#B0BEC5\",\"#B0BEC5\",\"#B0BEC5\",\"#B0BEC5\",\"#B0BEC5\",\"#B0BEC5\",\"#B0BEC5\",\"#B0BEC5\",\"#B0BEC5\",\"#B0BEC5\",\"#B0BEC5\",\"#B0BEC5\",\"#B0BEC5\",\"#B0BEC5\",\"#B0BEC5\",\"#B0BEC5\",\"#B0BEC5\",\"#B0BEC5\",\"#B0BEC5\",\"#B0BEC5\",\"#B0BEC5\",\"#B0BEC5\"]]}],\"label\":\"Topic 42\",\"method\":\"update\"},{\"args\":[{\"marker.color\":[[\"#B0BEC5\",\"#B0BEC5\",\"#B0BEC5\",\"#B0BEC5\",\"#B0BEC5\",\"#B0BEC5\",\"#B0BEC5\",\"#B0BEC5\",\"#B0BEC5\",\"#B0BEC5\",\"#B0BEC5\",\"#B0BEC5\",\"#B0BEC5\",\"#B0BEC5\",\"#B0BEC5\",\"#B0BEC5\",\"#B0BEC5\",\"#B0BEC5\",\"#B0BEC5\",\"#B0BEC5\",\"#B0BEC5\",\"#B0BEC5\",\"#B0BEC5\",\"#B0BEC5\",\"#B0BEC5\",\"#B0BEC5\",\"#B0BEC5\",\"#B0BEC5\",\"#B0BEC5\",\"#B0BEC5\",\"#B0BEC5\",\"#B0BEC5\",\"#B0BEC5\",\"#B0BEC5\",\"#B0BEC5\",\"#B0BEC5\",\"#B0BEC5\",\"#B0BEC5\",\"#B0BEC5\",\"#B0BEC5\",\"#B0BEC5\",\"#B0BEC5\",\"#B0BEC5\",\"red\",\"#B0BEC5\",\"#B0BEC5\",\"#B0BEC5\",\"#B0BEC5\",\"#B0BEC5\",\"#B0BEC5\",\"#B0BEC5\",\"#B0BEC5\",\"#B0BEC5\",\"#B0BEC5\",\"#B0BEC5\",\"#B0BEC5\",\"#B0BEC5\",\"#B0BEC5\",\"#B0BEC5\",\"#B0BEC5\",\"#B0BEC5\",\"#B0BEC5\",\"#B0BEC5\",\"#B0BEC5\",\"#B0BEC5\",\"#B0BEC5\",\"#B0BEC5\",\"#B0BEC5\",\"#B0BEC5\",\"#B0BEC5\",\"#B0BEC5\",\"#B0BEC5\"]]}],\"label\":\"Topic 43\",\"method\":\"update\"},{\"args\":[{\"marker.color\":[[\"#B0BEC5\",\"#B0BEC5\",\"#B0BEC5\",\"#B0BEC5\",\"#B0BEC5\",\"#B0BEC5\",\"#B0BEC5\",\"#B0BEC5\",\"#B0BEC5\",\"#B0BEC5\",\"#B0BEC5\",\"#B0BEC5\",\"#B0BEC5\",\"#B0BEC5\",\"#B0BEC5\",\"#B0BEC5\",\"#B0BEC5\",\"#B0BEC5\",\"#B0BEC5\",\"#B0BEC5\",\"#B0BEC5\",\"#B0BEC5\",\"#B0BEC5\",\"#B0BEC5\",\"#B0BEC5\",\"#B0BEC5\",\"#B0BEC5\",\"#B0BEC5\",\"#B0BEC5\",\"#B0BEC5\",\"#B0BEC5\",\"#B0BEC5\",\"#B0BEC5\",\"#B0BEC5\",\"#B0BEC5\",\"#B0BEC5\",\"#B0BEC5\",\"#B0BEC5\",\"#B0BEC5\",\"#B0BEC5\",\"#B0BEC5\",\"#B0BEC5\",\"#B0BEC5\",\"#B0BEC5\",\"red\",\"#B0BEC5\",\"#B0BEC5\",\"#B0BEC5\",\"#B0BEC5\",\"#B0BEC5\",\"#B0BEC5\",\"#B0BEC5\",\"#B0BEC5\",\"#B0BEC5\",\"#B0BEC5\",\"#B0BEC5\",\"#B0BEC5\",\"#B0BEC5\",\"#B0BEC5\",\"#B0BEC5\",\"#B0BEC5\",\"#B0BEC5\",\"#B0BEC5\",\"#B0BEC5\",\"#B0BEC5\",\"#B0BEC5\",\"#B0BEC5\",\"#B0BEC5\",\"#B0BEC5\",\"#B0BEC5\",\"#B0BEC5\",\"#B0BEC5\"]]}],\"label\":\"Topic 44\",\"method\":\"update\"},{\"args\":[{\"marker.color\":[[\"#B0BEC5\",\"#B0BEC5\",\"#B0BEC5\",\"#B0BEC5\",\"#B0BEC5\",\"#B0BEC5\",\"#B0BEC5\",\"#B0BEC5\",\"#B0BEC5\",\"#B0BEC5\",\"#B0BEC5\",\"#B0BEC5\",\"#B0BEC5\",\"#B0BEC5\",\"#B0BEC5\",\"#B0BEC5\",\"#B0BEC5\",\"#B0BEC5\",\"#B0BEC5\",\"#B0BEC5\",\"#B0BEC5\",\"#B0BEC5\",\"#B0BEC5\",\"#B0BEC5\",\"#B0BEC5\",\"#B0BEC5\",\"#B0BEC5\",\"#B0BEC5\",\"#B0BEC5\",\"#B0BEC5\",\"#B0BEC5\",\"#B0BEC5\",\"#B0BEC5\",\"#B0BEC5\",\"#B0BEC5\",\"#B0BEC5\",\"#B0BEC5\",\"#B0BEC5\",\"#B0BEC5\",\"#B0BEC5\",\"#B0BEC5\",\"#B0BEC5\",\"#B0BEC5\",\"#B0BEC5\",\"#B0BEC5\",\"red\",\"#B0BEC5\",\"#B0BEC5\",\"#B0BEC5\",\"#B0BEC5\",\"#B0BEC5\",\"#B0BEC5\",\"#B0BEC5\",\"#B0BEC5\",\"#B0BEC5\",\"#B0BEC5\",\"#B0BEC5\",\"#B0BEC5\",\"#B0BEC5\",\"#B0BEC5\",\"#B0BEC5\",\"#B0BEC5\",\"#B0BEC5\",\"#B0BEC5\",\"#B0BEC5\",\"#B0BEC5\",\"#B0BEC5\",\"#B0BEC5\",\"#B0BEC5\",\"#B0BEC5\",\"#B0BEC5\",\"#B0BEC5\"]]}],\"label\":\"Topic 45\",\"method\":\"update\"},{\"args\":[{\"marker.color\":[[\"#B0BEC5\",\"#B0BEC5\",\"#B0BEC5\",\"#B0BEC5\",\"#B0BEC5\",\"#B0BEC5\",\"#B0BEC5\",\"#B0BEC5\",\"#B0BEC5\",\"#B0BEC5\",\"#B0BEC5\",\"#B0BEC5\",\"#B0BEC5\",\"#B0BEC5\",\"#B0BEC5\",\"#B0BEC5\",\"#B0BEC5\",\"#B0BEC5\",\"#B0BEC5\",\"#B0BEC5\",\"#B0BEC5\",\"#B0BEC5\",\"#B0BEC5\",\"#B0BEC5\",\"#B0BEC5\",\"#B0BEC5\",\"#B0BEC5\",\"#B0BEC5\",\"#B0BEC5\",\"#B0BEC5\",\"#B0BEC5\",\"#B0BEC5\",\"#B0BEC5\",\"#B0BEC5\",\"#B0BEC5\",\"#B0BEC5\",\"#B0BEC5\",\"#B0BEC5\",\"#B0BEC5\",\"#B0BEC5\",\"#B0BEC5\",\"#B0BEC5\",\"#B0BEC5\",\"#B0BEC5\",\"#B0BEC5\",\"#B0BEC5\",\"red\",\"#B0BEC5\",\"#B0BEC5\",\"#B0BEC5\",\"#B0BEC5\",\"#B0BEC5\",\"#B0BEC5\",\"#B0BEC5\",\"#B0BEC5\",\"#B0BEC5\",\"#B0BEC5\",\"#B0BEC5\",\"#B0BEC5\",\"#B0BEC5\",\"#B0BEC5\",\"#B0BEC5\",\"#B0BEC5\",\"#B0BEC5\",\"#B0BEC5\",\"#B0BEC5\",\"#B0BEC5\",\"#B0BEC5\",\"#B0BEC5\",\"#B0BEC5\",\"#B0BEC5\",\"#B0BEC5\"]]}],\"label\":\"Topic 46\",\"method\":\"update\"},{\"args\":[{\"marker.color\":[[\"#B0BEC5\",\"#B0BEC5\",\"#B0BEC5\",\"#B0BEC5\",\"#B0BEC5\",\"#B0BEC5\",\"#B0BEC5\",\"#B0BEC5\",\"#B0BEC5\",\"#B0BEC5\",\"#B0BEC5\",\"#B0BEC5\",\"#B0BEC5\",\"#B0BEC5\",\"#B0BEC5\",\"#B0BEC5\",\"#B0BEC5\",\"#B0BEC5\",\"#B0BEC5\",\"#B0BEC5\",\"#B0BEC5\",\"#B0BEC5\",\"#B0BEC5\",\"#B0BEC5\",\"#B0BEC5\",\"#B0BEC5\",\"#B0BEC5\",\"#B0BEC5\",\"#B0BEC5\",\"#B0BEC5\",\"#B0BEC5\",\"#B0BEC5\",\"#B0BEC5\",\"#B0BEC5\",\"#B0BEC5\",\"#B0BEC5\",\"#B0BEC5\",\"#B0BEC5\",\"#B0BEC5\",\"#B0BEC5\",\"#B0BEC5\",\"#B0BEC5\",\"#B0BEC5\",\"#B0BEC5\",\"#B0BEC5\",\"#B0BEC5\",\"#B0BEC5\",\"red\",\"#B0BEC5\",\"#B0BEC5\",\"#B0BEC5\",\"#B0BEC5\",\"#B0BEC5\",\"#B0BEC5\",\"#B0BEC5\",\"#B0BEC5\",\"#B0BEC5\",\"#B0BEC5\",\"#B0BEC5\",\"#B0BEC5\",\"#B0BEC5\",\"#B0BEC5\",\"#B0BEC5\",\"#B0BEC5\",\"#B0BEC5\",\"#B0BEC5\",\"#B0BEC5\",\"#B0BEC5\",\"#B0BEC5\",\"#B0BEC5\",\"#B0BEC5\",\"#B0BEC5\"]]}],\"label\":\"Topic 47\",\"method\":\"update\"},{\"args\":[{\"marker.color\":[[\"#B0BEC5\",\"#B0BEC5\",\"#B0BEC5\",\"#B0BEC5\",\"#B0BEC5\",\"#B0BEC5\",\"#B0BEC5\",\"#B0BEC5\",\"#B0BEC5\",\"#B0BEC5\",\"#B0BEC5\",\"#B0BEC5\",\"#B0BEC5\",\"#B0BEC5\",\"#B0BEC5\",\"#B0BEC5\",\"#B0BEC5\",\"#B0BEC5\",\"#B0BEC5\",\"#B0BEC5\",\"#B0BEC5\",\"#B0BEC5\",\"#B0BEC5\",\"#B0BEC5\",\"#B0BEC5\",\"#B0BEC5\",\"#B0BEC5\",\"#B0BEC5\",\"#B0BEC5\",\"#B0BEC5\",\"#B0BEC5\",\"#B0BEC5\",\"#B0BEC5\",\"#B0BEC5\",\"#B0BEC5\",\"#B0BEC5\",\"#B0BEC5\",\"#B0BEC5\",\"#B0BEC5\",\"#B0BEC5\",\"#B0BEC5\",\"#B0BEC5\",\"#B0BEC5\",\"#B0BEC5\",\"#B0BEC5\",\"#B0BEC5\",\"#B0BEC5\",\"#B0BEC5\",\"red\",\"#B0BEC5\",\"#B0BEC5\",\"#B0BEC5\",\"#B0BEC5\",\"#B0BEC5\",\"#B0BEC5\",\"#B0BEC5\",\"#B0BEC5\",\"#B0BEC5\",\"#B0BEC5\",\"#B0BEC5\",\"#B0BEC5\",\"#B0BEC5\",\"#B0BEC5\",\"#B0BEC5\",\"#B0BEC5\",\"#B0BEC5\",\"#B0BEC5\",\"#B0BEC5\",\"#B0BEC5\",\"#B0BEC5\",\"#B0BEC5\",\"#B0BEC5\"]]}],\"label\":\"Topic 48\",\"method\":\"update\"},{\"args\":[{\"marker.color\":[[\"#B0BEC5\",\"#B0BEC5\",\"#B0BEC5\",\"#B0BEC5\",\"#B0BEC5\",\"#B0BEC5\",\"#B0BEC5\",\"#B0BEC5\",\"#B0BEC5\",\"#B0BEC5\",\"#B0BEC5\",\"#B0BEC5\",\"#B0BEC5\",\"#B0BEC5\",\"#B0BEC5\",\"#B0BEC5\",\"#B0BEC5\",\"#B0BEC5\",\"#B0BEC5\",\"#B0BEC5\",\"#B0BEC5\",\"#B0BEC5\",\"#B0BEC5\",\"#B0BEC5\",\"#B0BEC5\",\"#B0BEC5\",\"#B0BEC5\",\"#B0BEC5\",\"#B0BEC5\",\"#B0BEC5\",\"#B0BEC5\",\"#B0BEC5\",\"#B0BEC5\",\"#B0BEC5\",\"#B0BEC5\",\"#B0BEC5\",\"#B0BEC5\",\"#B0BEC5\",\"#B0BEC5\",\"#B0BEC5\",\"#B0BEC5\",\"#B0BEC5\",\"#B0BEC5\",\"#B0BEC5\",\"#B0BEC5\",\"#B0BEC5\",\"#B0BEC5\",\"#B0BEC5\",\"#B0BEC5\",\"red\",\"#B0BEC5\",\"#B0BEC5\",\"#B0BEC5\",\"#B0BEC5\",\"#B0BEC5\",\"#B0BEC5\",\"#B0BEC5\",\"#B0BEC5\",\"#B0BEC5\",\"#B0BEC5\",\"#B0BEC5\",\"#B0BEC5\",\"#B0BEC5\",\"#B0BEC5\",\"#B0BEC5\",\"#B0BEC5\",\"#B0BEC5\",\"#B0BEC5\",\"#B0BEC5\",\"#B0BEC5\",\"#B0BEC5\",\"#B0BEC5\"]]}],\"label\":\"Topic 49\",\"method\":\"update\"},{\"args\":[{\"marker.color\":[[\"#B0BEC5\",\"#B0BEC5\",\"#B0BEC5\",\"#B0BEC5\",\"#B0BEC5\",\"#B0BEC5\",\"#B0BEC5\",\"#B0BEC5\",\"#B0BEC5\",\"#B0BEC5\",\"#B0BEC5\",\"#B0BEC5\",\"#B0BEC5\",\"#B0BEC5\",\"#B0BEC5\",\"#B0BEC5\",\"#B0BEC5\",\"#B0BEC5\",\"#B0BEC5\",\"#B0BEC5\",\"#B0BEC5\",\"#B0BEC5\",\"#B0BEC5\",\"#B0BEC5\",\"#B0BEC5\",\"#B0BEC5\",\"#B0BEC5\",\"#B0BEC5\",\"#B0BEC5\",\"#B0BEC5\",\"#B0BEC5\",\"#B0BEC5\",\"#B0BEC5\",\"#B0BEC5\",\"#B0BEC5\",\"#B0BEC5\",\"#B0BEC5\",\"#B0BEC5\",\"#B0BEC5\",\"#B0BEC5\",\"#B0BEC5\",\"#B0BEC5\",\"#B0BEC5\",\"#B0BEC5\",\"#B0BEC5\",\"#B0BEC5\",\"#B0BEC5\",\"#B0BEC5\",\"#B0BEC5\",\"#B0BEC5\",\"red\",\"#B0BEC5\",\"#B0BEC5\",\"#B0BEC5\",\"#B0BEC5\",\"#B0BEC5\",\"#B0BEC5\",\"#B0BEC5\",\"#B0BEC5\",\"#B0BEC5\",\"#B0BEC5\",\"#B0BEC5\",\"#B0BEC5\",\"#B0BEC5\",\"#B0BEC5\",\"#B0BEC5\",\"#B0BEC5\",\"#B0BEC5\",\"#B0BEC5\",\"#B0BEC5\",\"#B0BEC5\",\"#B0BEC5\"]]}],\"label\":\"Topic 50\",\"method\":\"update\"},{\"args\":[{\"marker.color\":[[\"#B0BEC5\",\"#B0BEC5\",\"#B0BEC5\",\"#B0BEC5\",\"#B0BEC5\",\"#B0BEC5\",\"#B0BEC5\",\"#B0BEC5\",\"#B0BEC5\",\"#B0BEC5\",\"#B0BEC5\",\"#B0BEC5\",\"#B0BEC5\",\"#B0BEC5\",\"#B0BEC5\",\"#B0BEC5\",\"#B0BEC5\",\"#B0BEC5\",\"#B0BEC5\",\"#B0BEC5\",\"#B0BEC5\",\"#B0BEC5\",\"#B0BEC5\",\"#B0BEC5\",\"#B0BEC5\",\"#B0BEC5\",\"#B0BEC5\",\"#B0BEC5\",\"#B0BEC5\",\"#B0BEC5\",\"#B0BEC5\",\"#B0BEC5\",\"#B0BEC5\",\"#B0BEC5\",\"#B0BEC5\",\"#B0BEC5\",\"#B0BEC5\",\"#B0BEC5\",\"#B0BEC5\",\"#B0BEC5\",\"#B0BEC5\",\"#B0BEC5\",\"#B0BEC5\",\"#B0BEC5\",\"#B0BEC5\",\"#B0BEC5\",\"#B0BEC5\",\"#B0BEC5\",\"#B0BEC5\",\"#B0BEC5\",\"#B0BEC5\",\"red\",\"#B0BEC5\",\"#B0BEC5\",\"#B0BEC5\",\"#B0BEC5\",\"#B0BEC5\",\"#B0BEC5\",\"#B0BEC5\",\"#B0BEC5\",\"#B0BEC5\",\"#B0BEC5\",\"#B0BEC5\",\"#B0BEC5\",\"#B0BEC5\",\"#B0BEC5\",\"#B0BEC5\",\"#B0BEC5\",\"#B0BEC5\",\"#B0BEC5\",\"#B0BEC5\",\"#B0BEC5\"]]}],\"label\":\"Topic 51\",\"method\":\"update\"},{\"args\":[{\"marker.color\":[[\"#B0BEC5\",\"#B0BEC5\",\"#B0BEC5\",\"#B0BEC5\",\"#B0BEC5\",\"#B0BEC5\",\"#B0BEC5\",\"#B0BEC5\",\"#B0BEC5\",\"#B0BEC5\",\"#B0BEC5\",\"#B0BEC5\",\"#B0BEC5\",\"#B0BEC5\",\"#B0BEC5\",\"#B0BEC5\",\"#B0BEC5\",\"#B0BEC5\",\"#B0BEC5\",\"#B0BEC5\",\"#B0BEC5\",\"#B0BEC5\",\"#B0BEC5\",\"#B0BEC5\",\"#B0BEC5\",\"#B0BEC5\",\"#B0BEC5\",\"#B0BEC5\",\"#B0BEC5\",\"#B0BEC5\",\"#B0BEC5\",\"#B0BEC5\",\"#B0BEC5\",\"#B0BEC5\",\"#B0BEC5\",\"#B0BEC5\",\"#B0BEC5\",\"#B0BEC5\",\"#B0BEC5\",\"#B0BEC5\",\"#B0BEC5\",\"#B0BEC5\",\"#B0BEC5\",\"#B0BEC5\",\"#B0BEC5\",\"#B0BEC5\",\"#B0BEC5\",\"#B0BEC5\",\"#B0BEC5\",\"#B0BEC5\",\"#B0BEC5\",\"#B0BEC5\",\"red\",\"#B0BEC5\",\"#B0BEC5\",\"#B0BEC5\",\"#B0BEC5\",\"#B0BEC5\",\"#B0BEC5\",\"#B0BEC5\",\"#B0BEC5\",\"#B0BEC5\",\"#B0BEC5\",\"#B0BEC5\",\"#B0BEC5\",\"#B0BEC5\",\"#B0BEC5\",\"#B0BEC5\",\"#B0BEC5\",\"#B0BEC5\",\"#B0BEC5\",\"#B0BEC5\"]]}],\"label\":\"Topic 52\",\"method\":\"update\"},{\"args\":[{\"marker.color\":[[\"#B0BEC5\",\"#B0BEC5\",\"#B0BEC5\",\"#B0BEC5\",\"#B0BEC5\",\"#B0BEC5\",\"#B0BEC5\",\"#B0BEC5\",\"#B0BEC5\",\"#B0BEC5\",\"#B0BEC5\",\"#B0BEC5\",\"#B0BEC5\",\"#B0BEC5\",\"#B0BEC5\",\"#B0BEC5\",\"#B0BEC5\",\"#B0BEC5\",\"#B0BEC5\",\"#B0BEC5\",\"#B0BEC5\",\"#B0BEC5\",\"#B0BEC5\",\"#B0BEC5\",\"#B0BEC5\",\"#B0BEC5\",\"#B0BEC5\",\"#B0BEC5\",\"#B0BEC5\",\"#B0BEC5\",\"#B0BEC5\",\"#B0BEC5\",\"#B0BEC5\",\"#B0BEC5\",\"#B0BEC5\",\"#B0BEC5\",\"#B0BEC5\",\"#B0BEC5\",\"#B0BEC5\",\"#B0BEC5\",\"#B0BEC5\",\"#B0BEC5\",\"#B0BEC5\",\"#B0BEC5\",\"#B0BEC5\",\"#B0BEC5\",\"#B0BEC5\",\"#B0BEC5\",\"#B0BEC5\",\"#B0BEC5\",\"#B0BEC5\",\"#B0BEC5\",\"#B0BEC5\",\"red\",\"#B0BEC5\",\"#B0BEC5\",\"#B0BEC5\",\"#B0BEC5\",\"#B0BEC5\",\"#B0BEC5\",\"#B0BEC5\",\"#B0BEC5\",\"#B0BEC5\",\"#B0BEC5\",\"#B0BEC5\",\"#B0BEC5\",\"#B0BEC5\",\"#B0BEC5\",\"#B0BEC5\",\"#B0BEC5\",\"#B0BEC5\",\"#B0BEC5\"]]}],\"label\":\"Topic 53\",\"method\":\"update\"},{\"args\":[{\"marker.color\":[[\"#B0BEC5\",\"#B0BEC5\",\"#B0BEC5\",\"#B0BEC5\",\"#B0BEC5\",\"#B0BEC5\",\"#B0BEC5\",\"#B0BEC5\",\"#B0BEC5\",\"#B0BEC5\",\"#B0BEC5\",\"#B0BEC5\",\"#B0BEC5\",\"#B0BEC5\",\"#B0BEC5\",\"#B0BEC5\",\"#B0BEC5\",\"#B0BEC5\",\"#B0BEC5\",\"#B0BEC5\",\"#B0BEC5\",\"#B0BEC5\",\"#B0BEC5\",\"#B0BEC5\",\"#B0BEC5\",\"#B0BEC5\",\"#B0BEC5\",\"#B0BEC5\",\"#B0BEC5\",\"#B0BEC5\",\"#B0BEC5\",\"#B0BEC5\",\"#B0BEC5\",\"#B0BEC5\",\"#B0BEC5\",\"#B0BEC5\",\"#B0BEC5\",\"#B0BEC5\",\"#B0BEC5\",\"#B0BEC5\",\"#B0BEC5\",\"#B0BEC5\",\"#B0BEC5\",\"#B0BEC5\",\"#B0BEC5\",\"#B0BEC5\",\"#B0BEC5\",\"#B0BEC5\",\"#B0BEC5\",\"#B0BEC5\",\"#B0BEC5\",\"#B0BEC5\",\"#B0BEC5\",\"#B0BEC5\",\"red\",\"#B0BEC5\",\"#B0BEC5\",\"#B0BEC5\",\"#B0BEC5\",\"#B0BEC5\",\"#B0BEC5\",\"#B0BEC5\",\"#B0BEC5\",\"#B0BEC5\",\"#B0BEC5\",\"#B0BEC5\",\"#B0BEC5\",\"#B0BEC5\",\"#B0BEC5\",\"#B0BEC5\",\"#B0BEC5\",\"#B0BEC5\"]]}],\"label\":\"Topic 54\",\"method\":\"update\"},{\"args\":[{\"marker.color\":[[\"#B0BEC5\",\"#B0BEC5\",\"#B0BEC5\",\"#B0BEC5\",\"#B0BEC5\",\"#B0BEC5\",\"#B0BEC5\",\"#B0BEC5\",\"#B0BEC5\",\"#B0BEC5\",\"#B0BEC5\",\"#B0BEC5\",\"#B0BEC5\",\"#B0BEC5\",\"#B0BEC5\",\"#B0BEC5\",\"#B0BEC5\",\"#B0BEC5\",\"#B0BEC5\",\"#B0BEC5\",\"#B0BEC5\",\"#B0BEC5\",\"#B0BEC5\",\"#B0BEC5\",\"#B0BEC5\",\"#B0BEC5\",\"#B0BEC5\",\"#B0BEC5\",\"#B0BEC5\",\"#B0BEC5\",\"#B0BEC5\",\"#B0BEC5\",\"#B0BEC5\",\"#B0BEC5\",\"#B0BEC5\",\"#B0BEC5\",\"#B0BEC5\",\"#B0BEC5\",\"#B0BEC5\",\"#B0BEC5\",\"#B0BEC5\",\"#B0BEC5\",\"#B0BEC5\",\"#B0BEC5\",\"#B0BEC5\",\"#B0BEC5\",\"#B0BEC5\",\"#B0BEC5\",\"#B0BEC5\",\"#B0BEC5\",\"#B0BEC5\",\"#B0BEC5\",\"#B0BEC5\",\"#B0BEC5\",\"#B0BEC5\",\"red\",\"#B0BEC5\",\"#B0BEC5\",\"#B0BEC5\",\"#B0BEC5\",\"#B0BEC5\",\"#B0BEC5\",\"#B0BEC5\",\"#B0BEC5\",\"#B0BEC5\",\"#B0BEC5\",\"#B0BEC5\",\"#B0BEC5\",\"#B0BEC5\",\"#B0BEC5\",\"#B0BEC5\",\"#B0BEC5\"]]}],\"label\":\"Topic 55\",\"method\":\"update\"},{\"args\":[{\"marker.color\":[[\"#B0BEC5\",\"#B0BEC5\",\"#B0BEC5\",\"#B0BEC5\",\"#B0BEC5\",\"#B0BEC5\",\"#B0BEC5\",\"#B0BEC5\",\"#B0BEC5\",\"#B0BEC5\",\"#B0BEC5\",\"#B0BEC5\",\"#B0BEC5\",\"#B0BEC5\",\"#B0BEC5\",\"#B0BEC5\",\"#B0BEC5\",\"#B0BEC5\",\"#B0BEC5\",\"#B0BEC5\",\"#B0BEC5\",\"#B0BEC5\",\"#B0BEC5\",\"#B0BEC5\",\"#B0BEC5\",\"#B0BEC5\",\"#B0BEC5\",\"#B0BEC5\",\"#B0BEC5\",\"#B0BEC5\",\"#B0BEC5\",\"#B0BEC5\",\"#B0BEC5\",\"#B0BEC5\",\"#B0BEC5\",\"#B0BEC5\",\"#B0BEC5\",\"#B0BEC5\",\"#B0BEC5\",\"#B0BEC5\",\"#B0BEC5\",\"#B0BEC5\",\"#B0BEC5\",\"#B0BEC5\",\"#B0BEC5\",\"#B0BEC5\",\"#B0BEC5\",\"#B0BEC5\",\"#B0BEC5\",\"#B0BEC5\",\"#B0BEC5\",\"#B0BEC5\",\"#B0BEC5\",\"#B0BEC5\",\"#B0BEC5\",\"#B0BEC5\",\"red\",\"#B0BEC5\",\"#B0BEC5\",\"#B0BEC5\",\"#B0BEC5\",\"#B0BEC5\",\"#B0BEC5\",\"#B0BEC5\",\"#B0BEC5\",\"#B0BEC5\",\"#B0BEC5\",\"#B0BEC5\",\"#B0BEC5\",\"#B0BEC5\",\"#B0BEC5\",\"#B0BEC5\"]]}],\"label\":\"Topic 56\",\"method\":\"update\"},{\"args\":[{\"marker.color\":[[\"#B0BEC5\",\"#B0BEC5\",\"#B0BEC5\",\"#B0BEC5\",\"#B0BEC5\",\"#B0BEC5\",\"#B0BEC5\",\"#B0BEC5\",\"#B0BEC5\",\"#B0BEC5\",\"#B0BEC5\",\"#B0BEC5\",\"#B0BEC5\",\"#B0BEC5\",\"#B0BEC5\",\"#B0BEC5\",\"#B0BEC5\",\"#B0BEC5\",\"#B0BEC5\",\"#B0BEC5\",\"#B0BEC5\",\"#B0BEC5\",\"#B0BEC5\",\"#B0BEC5\",\"#B0BEC5\",\"#B0BEC5\",\"#B0BEC5\",\"#B0BEC5\",\"#B0BEC5\",\"#B0BEC5\",\"#B0BEC5\",\"#B0BEC5\",\"#B0BEC5\",\"#B0BEC5\",\"#B0BEC5\",\"#B0BEC5\",\"#B0BEC5\",\"#B0BEC5\",\"#B0BEC5\",\"#B0BEC5\",\"#B0BEC5\",\"#B0BEC5\",\"#B0BEC5\",\"#B0BEC5\",\"#B0BEC5\",\"#B0BEC5\",\"#B0BEC5\",\"#B0BEC5\",\"#B0BEC5\",\"#B0BEC5\",\"#B0BEC5\",\"#B0BEC5\",\"#B0BEC5\",\"#B0BEC5\",\"#B0BEC5\",\"#B0BEC5\",\"#B0BEC5\",\"red\",\"#B0BEC5\",\"#B0BEC5\",\"#B0BEC5\",\"#B0BEC5\",\"#B0BEC5\",\"#B0BEC5\",\"#B0BEC5\",\"#B0BEC5\",\"#B0BEC5\",\"#B0BEC5\",\"#B0BEC5\",\"#B0BEC5\",\"#B0BEC5\",\"#B0BEC5\"]]}],\"label\":\"Topic 57\",\"method\":\"update\"},{\"args\":[{\"marker.color\":[[\"#B0BEC5\",\"#B0BEC5\",\"#B0BEC5\",\"#B0BEC5\",\"#B0BEC5\",\"#B0BEC5\",\"#B0BEC5\",\"#B0BEC5\",\"#B0BEC5\",\"#B0BEC5\",\"#B0BEC5\",\"#B0BEC5\",\"#B0BEC5\",\"#B0BEC5\",\"#B0BEC5\",\"#B0BEC5\",\"#B0BEC5\",\"#B0BEC5\",\"#B0BEC5\",\"#B0BEC5\",\"#B0BEC5\",\"#B0BEC5\",\"#B0BEC5\",\"#B0BEC5\",\"#B0BEC5\",\"#B0BEC5\",\"#B0BEC5\",\"#B0BEC5\",\"#B0BEC5\",\"#B0BEC5\",\"#B0BEC5\",\"#B0BEC5\",\"#B0BEC5\",\"#B0BEC5\",\"#B0BEC5\",\"#B0BEC5\",\"#B0BEC5\",\"#B0BEC5\",\"#B0BEC5\",\"#B0BEC5\",\"#B0BEC5\",\"#B0BEC5\",\"#B0BEC5\",\"#B0BEC5\",\"#B0BEC5\",\"#B0BEC5\",\"#B0BEC5\",\"#B0BEC5\",\"#B0BEC5\",\"#B0BEC5\",\"#B0BEC5\",\"#B0BEC5\",\"#B0BEC5\",\"#B0BEC5\",\"#B0BEC5\",\"#B0BEC5\",\"#B0BEC5\",\"#B0BEC5\",\"red\",\"#B0BEC5\",\"#B0BEC5\",\"#B0BEC5\",\"#B0BEC5\",\"#B0BEC5\",\"#B0BEC5\",\"#B0BEC5\",\"#B0BEC5\",\"#B0BEC5\",\"#B0BEC5\",\"#B0BEC5\",\"#B0BEC5\",\"#B0BEC5\"]]}],\"label\":\"Topic 58\",\"method\":\"update\"},{\"args\":[{\"marker.color\":[[\"#B0BEC5\",\"#B0BEC5\",\"#B0BEC5\",\"#B0BEC5\",\"#B0BEC5\",\"#B0BEC5\",\"#B0BEC5\",\"#B0BEC5\",\"#B0BEC5\",\"#B0BEC5\",\"#B0BEC5\",\"#B0BEC5\",\"#B0BEC5\",\"#B0BEC5\",\"#B0BEC5\",\"#B0BEC5\",\"#B0BEC5\",\"#B0BEC5\",\"#B0BEC5\",\"#B0BEC5\",\"#B0BEC5\",\"#B0BEC5\",\"#B0BEC5\",\"#B0BEC5\",\"#B0BEC5\",\"#B0BEC5\",\"#B0BEC5\",\"#B0BEC5\",\"#B0BEC5\",\"#B0BEC5\",\"#B0BEC5\",\"#B0BEC5\",\"#B0BEC5\",\"#B0BEC5\",\"#B0BEC5\",\"#B0BEC5\",\"#B0BEC5\",\"#B0BEC5\",\"#B0BEC5\",\"#B0BEC5\",\"#B0BEC5\",\"#B0BEC5\",\"#B0BEC5\",\"#B0BEC5\",\"#B0BEC5\",\"#B0BEC5\",\"#B0BEC5\",\"#B0BEC5\",\"#B0BEC5\",\"#B0BEC5\",\"#B0BEC5\",\"#B0BEC5\",\"#B0BEC5\",\"#B0BEC5\",\"#B0BEC5\",\"#B0BEC5\",\"#B0BEC5\",\"#B0BEC5\",\"#B0BEC5\",\"red\",\"#B0BEC5\",\"#B0BEC5\",\"#B0BEC5\",\"#B0BEC5\",\"#B0BEC5\",\"#B0BEC5\",\"#B0BEC5\",\"#B0BEC5\",\"#B0BEC5\",\"#B0BEC5\",\"#B0BEC5\",\"#B0BEC5\"]]}],\"label\":\"Topic 59\",\"method\":\"update\"},{\"args\":[{\"marker.color\":[[\"#B0BEC5\",\"#B0BEC5\",\"#B0BEC5\",\"#B0BEC5\",\"#B0BEC5\",\"#B0BEC5\",\"#B0BEC5\",\"#B0BEC5\",\"#B0BEC5\",\"#B0BEC5\",\"#B0BEC5\",\"#B0BEC5\",\"#B0BEC5\",\"#B0BEC5\",\"#B0BEC5\",\"#B0BEC5\",\"#B0BEC5\",\"#B0BEC5\",\"#B0BEC5\",\"#B0BEC5\",\"#B0BEC5\",\"#B0BEC5\",\"#B0BEC5\",\"#B0BEC5\",\"#B0BEC5\",\"#B0BEC5\",\"#B0BEC5\",\"#B0BEC5\",\"#B0BEC5\",\"#B0BEC5\",\"#B0BEC5\",\"#B0BEC5\",\"#B0BEC5\",\"#B0BEC5\",\"#B0BEC5\",\"#B0BEC5\",\"#B0BEC5\",\"#B0BEC5\",\"#B0BEC5\",\"#B0BEC5\",\"#B0BEC5\",\"#B0BEC5\",\"#B0BEC5\",\"#B0BEC5\",\"#B0BEC5\",\"#B0BEC5\",\"#B0BEC5\",\"#B0BEC5\",\"#B0BEC5\",\"#B0BEC5\",\"#B0BEC5\",\"#B0BEC5\",\"#B0BEC5\",\"#B0BEC5\",\"#B0BEC5\",\"#B0BEC5\",\"#B0BEC5\",\"#B0BEC5\",\"#B0BEC5\",\"#B0BEC5\",\"red\",\"#B0BEC5\",\"#B0BEC5\",\"#B0BEC5\",\"#B0BEC5\",\"#B0BEC5\",\"#B0BEC5\",\"#B0BEC5\",\"#B0BEC5\",\"#B0BEC5\",\"#B0BEC5\",\"#B0BEC5\"]]}],\"label\":\"Topic 60\",\"method\":\"update\"},{\"args\":[{\"marker.color\":[[\"#B0BEC5\",\"#B0BEC5\",\"#B0BEC5\",\"#B0BEC5\",\"#B0BEC5\",\"#B0BEC5\",\"#B0BEC5\",\"#B0BEC5\",\"#B0BEC5\",\"#B0BEC5\",\"#B0BEC5\",\"#B0BEC5\",\"#B0BEC5\",\"#B0BEC5\",\"#B0BEC5\",\"#B0BEC5\",\"#B0BEC5\",\"#B0BEC5\",\"#B0BEC5\",\"#B0BEC5\",\"#B0BEC5\",\"#B0BEC5\",\"#B0BEC5\",\"#B0BEC5\",\"#B0BEC5\",\"#B0BEC5\",\"#B0BEC5\",\"#B0BEC5\",\"#B0BEC5\",\"#B0BEC5\",\"#B0BEC5\",\"#B0BEC5\",\"#B0BEC5\",\"#B0BEC5\",\"#B0BEC5\",\"#B0BEC5\",\"#B0BEC5\",\"#B0BEC5\",\"#B0BEC5\",\"#B0BEC5\",\"#B0BEC5\",\"#B0BEC5\",\"#B0BEC5\",\"#B0BEC5\",\"#B0BEC5\",\"#B0BEC5\",\"#B0BEC5\",\"#B0BEC5\",\"#B0BEC5\",\"#B0BEC5\",\"#B0BEC5\",\"#B0BEC5\",\"#B0BEC5\",\"#B0BEC5\",\"#B0BEC5\",\"#B0BEC5\",\"#B0BEC5\",\"#B0BEC5\",\"#B0BEC5\",\"#B0BEC5\",\"#B0BEC5\",\"red\",\"#B0BEC5\",\"#B0BEC5\",\"#B0BEC5\",\"#B0BEC5\",\"#B0BEC5\",\"#B0BEC5\",\"#B0BEC5\",\"#B0BEC5\",\"#B0BEC5\",\"#B0BEC5\"]]}],\"label\":\"Topic 61\",\"method\":\"update\"},{\"args\":[{\"marker.color\":[[\"#B0BEC5\",\"#B0BEC5\",\"#B0BEC5\",\"#B0BEC5\",\"#B0BEC5\",\"#B0BEC5\",\"#B0BEC5\",\"#B0BEC5\",\"#B0BEC5\",\"#B0BEC5\",\"#B0BEC5\",\"#B0BEC5\",\"#B0BEC5\",\"#B0BEC5\",\"#B0BEC5\",\"#B0BEC5\",\"#B0BEC5\",\"#B0BEC5\",\"#B0BEC5\",\"#B0BEC5\",\"#B0BEC5\",\"#B0BEC5\",\"#B0BEC5\",\"#B0BEC5\",\"#B0BEC5\",\"#B0BEC5\",\"#B0BEC5\",\"#B0BEC5\",\"#B0BEC5\",\"#B0BEC5\",\"#B0BEC5\",\"#B0BEC5\",\"#B0BEC5\",\"#B0BEC5\",\"#B0BEC5\",\"#B0BEC5\",\"#B0BEC5\",\"#B0BEC5\",\"#B0BEC5\",\"#B0BEC5\",\"#B0BEC5\",\"#B0BEC5\",\"#B0BEC5\",\"#B0BEC5\",\"#B0BEC5\",\"#B0BEC5\",\"#B0BEC5\",\"#B0BEC5\",\"#B0BEC5\",\"#B0BEC5\",\"#B0BEC5\",\"#B0BEC5\",\"#B0BEC5\",\"#B0BEC5\",\"#B0BEC5\",\"#B0BEC5\",\"#B0BEC5\",\"#B0BEC5\",\"#B0BEC5\",\"#B0BEC5\",\"#B0BEC5\",\"#B0BEC5\",\"red\",\"#B0BEC5\",\"#B0BEC5\",\"#B0BEC5\",\"#B0BEC5\",\"#B0BEC5\",\"#B0BEC5\",\"#B0BEC5\",\"#B0BEC5\",\"#B0BEC5\"]]}],\"label\":\"Topic 62\",\"method\":\"update\"},{\"args\":[{\"marker.color\":[[\"#B0BEC5\",\"#B0BEC5\",\"#B0BEC5\",\"#B0BEC5\",\"#B0BEC5\",\"#B0BEC5\",\"#B0BEC5\",\"#B0BEC5\",\"#B0BEC5\",\"#B0BEC5\",\"#B0BEC5\",\"#B0BEC5\",\"#B0BEC5\",\"#B0BEC5\",\"#B0BEC5\",\"#B0BEC5\",\"#B0BEC5\",\"#B0BEC5\",\"#B0BEC5\",\"#B0BEC5\",\"#B0BEC5\",\"#B0BEC5\",\"#B0BEC5\",\"#B0BEC5\",\"#B0BEC5\",\"#B0BEC5\",\"#B0BEC5\",\"#B0BEC5\",\"#B0BEC5\",\"#B0BEC5\",\"#B0BEC5\",\"#B0BEC5\",\"#B0BEC5\",\"#B0BEC5\",\"#B0BEC5\",\"#B0BEC5\",\"#B0BEC5\",\"#B0BEC5\",\"#B0BEC5\",\"#B0BEC5\",\"#B0BEC5\",\"#B0BEC5\",\"#B0BEC5\",\"#B0BEC5\",\"#B0BEC5\",\"#B0BEC5\",\"#B0BEC5\",\"#B0BEC5\",\"#B0BEC5\",\"#B0BEC5\",\"#B0BEC5\",\"#B0BEC5\",\"#B0BEC5\",\"#B0BEC5\",\"#B0BEC5\",\"#B0BEC5\",\"#B0BEC5\",\"#B0BEC5\",\"#B0BEC5\",\"#B0BEC5\",\"#B0BEC5\",\"#B0BEC5\",\"#B0BEC5\",\"red\",\"#B0BEC5\",\"#B0BEC5\",\"#B0BEC5\",\"#B0BEC5\",\"#B0BEC5\",\"#B0BEC5\",\"#B0BEC5\",\"#B0BEC5\"]]}],\"label\":\"Topic 63\",\"method\":\"update\"},{\"args\":[{\"marker.color\":[[\"#B0BEC5\",\"#B0BEC5\",\"#B0BEC5\",\"#B0BEC5\",\"#B0BEC5\",\"#B0BEC5\",\"#B0BEC5\",\"#B0BEC5\",\"#B0BEC5\",\"#B0BEC5\",\"#B0BEC5\",\"#B0BEC5\",\"#B0BEC5\",\"#B0BEC5\",\"#B0BEC5\",\"#B0BEC5\",\"#B0BEC5\",\"#B0BEC5\",\"#B0BEC5\",\"#B0BEC5\",\"#B0BEC5\",\"#B0BEC5\",\"#B0BEC5\",\"#B0BEC5\",\"#B0BEC5\",\"#B0BEC5\",\"#B0BEC5\",\"#B0BEC5\",\"#B0BEC5\",\"#B0BEC5\",\"#B0BEC5\",\"#B0BEC5\",\"#B0BEC5\",\"#B0BEC5\",\"#B0BEC5\",\"#B0BEC5\",\"#B0BEC5\",\"#B0BEC5\",\"#B0BEC5\",\"#B0BEC5\",\"#B0BEC5\",\"#B0BEC5\",\"#B0BEC5\",\"#B0BEC5\",\"#B0BEC5\",\"#B0BEC5\",\"#B0BEC5\",\"#B0BEC5\",\"#B0BEC5\",\"#B0BEC5\",\"#B0BEC5\",\"#B0BEC5\",\"#B0BEC5\",\"#B0BEC5\",\"#B0BEC5\",\"#B0BEC5\",\"#B0BEC5\",\"#B0BEC5\",\"#B0BEC5\",\"#B0BEC5\",\"#B0BEC5\",\"#B0BEC5\",\"#B0BEC5\",\"#B0BEC5\",\"red\",\"#B0BEC5\",\"#B0BEC5\",\"#B0BEC5\",\"#B0BEC5\",\"#B0BEC5\",\"#B0BEC5\",\"#B0BEC5\"]]}],\"label\":\"Topic 64\",\"method\":\"update\"},{\"args\":[{\"marker.color\":[[\"#B0BEC5\",\"#B0BEC5\",\"#B0BEC5\",\"#B0BEC5\",\"#B0BEC5\",\"#B0BEC5\",\"#B0BEC5\",\"#B0BEC5\",\"#B0BEC5\",\"#B0BEC5\",\"#B0BEC5\",\"#B0BEC5\",\"#B0BEC5\",\"#B0BEC5\",\"#B0BEC5\",\"#B0BEC5\",\"#B0BEC5\",\"#B0BEC5\",\"#B0BEC5\",\"#B0BEC5\",\"#B0BEC5\",\"#B0BEC5\",\"#B0BEC5\",\"#B0BEC5\",\"#B0BEC5\",\"#B0BEC5\",\"#B0BEC5\",\"#B0BEC5\",\"#B0BEC5\",\"#B0BEC5\",\"#B0BEC5\",\"#B0BEC5\",\"#B0BEC5\",\"#B0BEC5\",\"#B0BEC5\",\"#B0BEC5\",\"#B0BEC5\",\"#B0BEC5\",\"#B0BEC5\",\"#B0BEC5\",\"#B0BEC5\",\"#B0BEC5\",\"#B0BEC5\",\"#B0BEC5\",\"#B0BEC5\",\"#B0BEC5\",\"#B0BEC5\",\"#B0BEC5\",\"#B0BEC5\",\"#B0BEC5\",\"#B0BEC5\",\"#B0BEC5\",\"#B0BEC5\",\"#B0BEC5\",\"#B0BEC5\",\"#B0BEC5\",\"#B0BEC5\",\"#B0BEC5\",\"#B0BEC5\",\"#B0BEC5\",\"#B0BEC5\",\"#B0BEC5\",\"#B0BEC5\",\"#B0BEC5\",\"#B0BEC5\",\"red\",\"#B0BEC5\",\"#B0BEC5\",\"#B0BEC5\",\"#B0BEC5\",\"#B0BEC5\",\"#B0BEC5\"]]}],\"label\":\"Topic 65\",\"method\":\"update\"},{\"args\":[{\"marker.color\":[[\"#B0BEC5\",\"#B0BEC5\",\"#B0BEC5\",\"#B0BEC5\",\"#B0BEC5\",\"#B0BEC5\",\"#B0BEC5\",\"#B0BEC5\",\"#B0BEC5\",\"#B0BEC5\",\"#B0BEC5\",\"#B0BEC5\",\"#B0BEC5\",\"#B0BEC5\",\"#B0BEC5\",\"#B0BEC5\",\"#B0BEC5\",\"#B0BEC5\",\"#B0BEC5\",\"#B0BEC5\",\"#B0BEC5\",\"#B0BEC5\",\"#B0BEC5\",\"#B0BEC5\",\"#B0BEC5\",\"#B0BEC5\",\"#B0BEC5\",\"#B0BEC5\",\"#B0BEC5\",\"#B0BEC5\",\"#B0BEC5\",\"#B0BEC5\",\"#B0BEC5\",\"#B0BEC5\",\"#B0BEC5\",\"#B0BEC5\",\"#B0BEC5\",\"#B0BEC5\",\"#B0BEC5\",\"#B0BEC5\",\"#B0BEC5\",\"#B0BEC5\",\"#B0BEC5\",\"#B0BEC5\",\"#B0BEC5\",\"#B0BEC5\",\"#B0BEC5\",\"#B0BEC5\",\"#B0BEC5\",\"#B0BEC5\",\"#B0BEC5\",\"#B0BEC5\",\"#B0BEC5\",\"#B0BEC5\",\"#B0BEC5\",\"#B0BEC5\",\"#B0BEC5\",\"#B0BEC5\",\"#B0BEC5\",\"#B0BEC5\",\"#B0BEC5\",\"#B0BEC5\",\"#B0BEC5\",\"#B0BEC5\",\"#B0BEC5\",\"#B0BEC5\",\"red\",\"#B0BEC5\",\"#B0BEC5\",\"#B0BEC5\",\"#B0BEC5\",\"#B0BEC5\"]]}],\"label\":\"Topic 66\",\"method\":\"update\"},{\"args\":[{\"marker.color\":[[\"#B0BEC5\",\"#B0BEC5\",\"#B0BEC5\",\"#B0BEC5\",\"#B0BEC5\",\"#B0BEC5\",\"#B0BEC5\",\"#B0BEC5\",\"#B0BEC5\",\"#B0BEC5\",\"#B0BEC5\",\"#B0BEC5\",\"#B0BEC5\",\"#B0BEC5\",\"#B0BEC5\",\"#B0BEC5\",\"#B0BEC5\",\"#B0BEC5\",\"#B0BEC5\",\"#B0BEC5\",\"#B0BEC5\",\"#B0BEC5\",\"#B0BEC5\",\"#B0BEC5\",\"#B0BEC5\",\"#B0BEC5\",\"#B0BEC5\",\"#B0BEC5\",\"#B0BEC5\",\"#B0BEC5\",\"#B0BEC5\",\"#B0BEC5\",\"#B0BEC5\",\"#B0BEC5\",\"#B0BEC5\",\"#B0BEC5\",\"#B0BEC5\",\"#B0BEC5\",\"#B0BEC5\",\"#B0BEC5\",\"#B0BEC5\",\"#B0BEC5\",\"#B0BEC5\",\"#B0BEC5\",\"#B0BEC5\",\"#B0BEC5\",\"#B0BEC5\",\"#B0BEC5\",\"#B0BEC5\",\"#B0BEC5\",\"#B0BEC5\",\"#B0BEC5\",\"#B0BEC5\",\"#B0BEC5\",\"#B0BEC5\",\"#B0BEC5\",\"#B0BEC5\",\"#B0BEC5\",\"#B0BEC5\",\"#B0BEC5\",\"#B0BEC5\",\"#B0BEC5\",\"#B0BEC5\",\"#B0BEC5\",\"#B0BEC5\",\"#B0BEC5\",\"#B0BEC5\",\"red\",\"#B0BEC5\",\"#B0BEC5\",\"#B0BEC5\",\"#B0BEC5\"]]}],\"label\":\"Topic 67\",\"method\":\"update\"},{\"args\":[{\"marker.color\":[[\"#B0BEC5\",\"#B0BEC5\",\"#B0BEC5\",\"#B0BEC5\",\"#B0BEC5\",\"#B0BEC5\",\"#B0BEC5\",\"#B0BEC5\",\"#B0BEC5\",\"#B0BEC5\",\"#B0BEC5\",\"#B0BEC5\",\"#B0BEC5\",\"#B0BEC5\",\"#B0BEC5\",\"#B0BEC5\",\"#B0BEC5\",\"#B0BEC5\",\"#B0BEC5\",\"#B0BEC5\",\"#B0BEC5\",\"#B0BEC5\",\"#B0BEC5\",\"#B0BEC5\",\"#B0BEC5\",\"#B0BEC5\",\"#B0BEC5\",\"#B0BEC5\",\"#B0BEC5\",\"#B0BEC5\",\"#B0BEC5\",\"#B0BEC5\",\"#B0BEC5\",\"#B0BEC5\",\"#B0BEC5\",\"#B0BEC5\",\"#B0BEC5\",\"#B0BEC5\",\"#B0BEC5\",\"#B0BEC5\",\"#B0BEC5\",\"#B0BEC5\",\"#B0BEC5\",\"#B0BEC5\",\"#B0BEC5\",\"#B0BEC5\",\"#B0BEC5\",\"#B0BEC5\",\"#B0BEC5\",\"#B0BEC5\",\"#B0BEC5\",\"#B0BEC5\",\"#B0BEC5\",\"#B0BEC5\",\"#B0BEC5\",\"#B0BEC5\",\"#B0BEC5\",\"#B0BEC5\",\"#B0BEC5\",\"#B0BEC5\",\"#B0BEC5\",\"#B0BEC5\",\"#B0BEC5\",\"#B0BEC5\",\"#B0BEC5\",\"#B0BEC5\",\"#B0BEC5\",\"#B0BEC5\",\"red\",\"#B0BEC5\",\"#B0BEC5\",\"#B0BEC5\"]]}],\"label\":\"Topic 68\",\"method\":\"update\"},{\"args\":[{\"marker.color\":[[\"#B0BEC5\",\"#B0BEC5\",\"#B0BEC5\",\"#B0BEC5\",\"#B0BEC5\",\"#B0BEC5\",\"#B0BEC5\",\"#B0BEC5\",\"#B0BEC5\",\"#B0BEC5\",\"#B0BEC5\",\"#B0BEC5\",\"#B0BEC5\",\"#B0BEC5\",\"#B0BEC5\",\"#B0BEC5\",\"#B0BEC5\",\"#B0BEC5\",\"#B0BEC5\",\"#B0BEC5\",\"#B0BEC5\",\"#B0BEC5\",\"#B0BEC5\",\"#B0BEC5\",\"#B0BEC5\",\"#B0BEC5\",\"#B0BEC5\",\"#B0BEC5\",\"#B0BEC5\",\"#B0BEC5\",\"#B0BEC5\",\"#B0BEC5\",\"#B0BEC5\",\"#B0BEC5\",\"#B0BEC5\",\"#B0BEC5\",\"#B0BEC5\",\"#B0BEC5\",\"#B0BEC5\",\"#B0BEC5\",\"#B0BEC5\",\"#B0BEC5\",\"#B0BEC5\",\"#B0BEC5\",\"#B0BEC5\",\"#B0BEC5\",\"#B0BEC5\",\"#B0BEC5\",\"#B0BEC5\",\"#B0BEC5\",\"#B0BEC5\",\"#B0BEC5\",\"#B0BEC5\",\"#B0BEC5\",\"#B0BEC5\",\"#B0BEC5\",\"#B0BEC5\",\"#B0BEC5\",\"#B0BEC5\",\"#B0BEC5\",\"#B0BEC5\",\"#B0BEC5\",\"#B0BEC5\",\"#B0BEC5\",\"#B0BEC5\",\"#B0BEC5\",\"#B0BEC5\",\"#B0BEC5\",\"#B0BEC5\",\"red\",\"#B0BEC5\",\"#B0BEC5\"]]}],\"label\":\"Topic 69\",\"method\":\"update\"},{\"args\":[{\"marker.color\":[[\"#B0BEC5\",\"#B0BEC5\",\"#B0BEC5\",\"#B0BEC5\",\"#B0BEC5\",\"#B0BEC5\",\"#B0BEC5\",\"#B0BEC5\",\"#B0BEC5\",\"#B0BEC5\",\"#B0BEC5\",\"#B0BEC5\",\"#B0BEC5\",\"#B0BEC5\",\"#B0BEC5\",\"#B0BEC5\",\"#B0BEC5\",\"#B0BEC5\",\"#B0BEC5\",\"#B0BEC5\",\"#B0BEC5\",\"#B0BEC5\",\"#B0BEC5\",\"#B0BEC5\",\"#B0BEC5\",\"#B0BEC5\",\"#B0BEC5\",\"#B0BEC5\",\"#B0BEC5\",\"#B0BEC5\",\"#B0BEC5\",\"#B0BEC5\",\"#B0BEC5\",\"#B0BEC5\",\"#B0BEC5\",\"#B0BEC5\",\"#B0BEC5\",\"#B0BEC5\",\"#B0BEC5\",\"#B0BEC5\",\"#B0BEC5\",\"#B0BEC5\",\"#B0BEC5\",\"#B0BEC5\",\"#B0BEC5\",\"#B0BEC5\",\"#B0BEC5\",\"#B0BEC5\",\"#B0BEC5\",\"#B0BEC5\",\"#B0BEC5\",\"#B0BEC5\",\"#B0BEC5\",\"#B0BEC5\",\"#B0BEC5\",\"#B0BEC5\",\"#B0BEC5\",\"#B0BEC5\",\"#B0BEC5\",\"#B0BEC5\",\"#B0BEC5\",\"#B0BEC5\",\"#B0BEC5\",\"#B0BEC5\",\"#B0BEC5\",\"#B0BEC5\",\"#B0BEC5\",\"#B0BEC5\",\"#B0BEC5\",\"#B0BEC5\",\"red\",\"#B0BEC5\"]]}],\"label\":\"Topic 70\",\"method\":\"update\"},{\"args\":[{\"marker.color\":[[\"#B0BEC5\",\"#B0BEC5\",\"#B0BEC5\",\"#B0BEC5\",\"#B0BEC5\",\"#B0BEC5\",\"#B0BEC5\",\"#B0BEC5\",\"#B0BEC5\",\"#B0BEC5\",\"#B0BEC5\",\"#B0BEC5\",\"#B0BEC5\",\"#B0BEC5\",\"#B0BEC5\",\"#B0BEC5\",\"#B0BEC5\",\"#B0BEC5\",\"#B0BEC5\",\"#B0BEC5\",\"#B0BEC5\",\"#B0BEC5\",\"#B0BEC5\",\"#B0BEC5\",\"#B0BEC5\",\"#B0BEC5\",\"#B0BEC5\",\"#B0BEC5\",\"#B0BEC5\",\"#B0BEC5\",\"#B0BEC5\",\"#B0BEC5\",\"#B0BEC5\",\"#B0BEC5\",\"#B0BEC5\",\"#B0BEC5\",\"#B0BEC5\",\"#B0BEC5\",\"#B0BEC5\",\"#B0BEC5\",\"#B0BEC5\",\"#B0BEC5\",\"#B0BEC5\",\"#B0BEC5\",\"#B0BEC5\",\"#B0BEC5\",\"#B0BEC5\",\"#B0BEC5\",\"#B0BEC5\",\"#B0BEC5\",\"#B0BEC5\",\"#B0BEC5\",\"#B0BEC5\",\"#B0BEC5\",\"#B0BEC5\",\"#B0BEC5\",\"#B0BEC5\",\"#B0BEC5\",\"#B0BEC5\",\"#B0BEC5\",\"#B0BEC5\",\"#B0BEC5\",\"#B0BEC5\",\"#B0BEC5\",\"#B0BEC5\",\"#B0BEC5\",\"#B0BEC5\",\"#B0BEC5\",\"#B0BEC5\",\"#B0BEC5\",\"#B0BEC5\",\"red\"]]}],\"label\":\"Topic 71\",\"method\":\"update\"}]}],\"shapes\":[{\"line\":{\"color\":\"#CFD8DC\",\"width\":2},\"type\":\"line\",\"x0\":14.535166442394257,\"x1\":14.535166442394257,\"y0\":-1.5028293311595917,\"y1\":20.364671802520753},{\"line\":{\"color\":\"#9E9E9E\",\"width\":2},\"type\":\"line\",\"x0\":4.296730399131775,\"x1\":24.77360248565674,\"y0\":9.43092123568058,\"y1\":9.43092123568058}],\"annotations\":[{\"showarrow\":false,\"text\":\"D1\",\"x\":4.296730399131775,\"y\":9.43092123568058,\"yshift\":10},{\"showarrow\":false,\"text\":\"D2\",\"x\":14.535166442394257,\"xshift\":10,\"y\":20.364671802520753}]},                        {\"responsive\": true}                    ).then(function(){\n",
              "                            \n",
              "var gd = document.getElementById('7fe10f52-2956-4c6b-a928-e6df980be23e');\n",
              "var x = new MutationObserver(function (mutations, observer) {{\n",
              "        var display = window.getComputedStyle(gd).display;\n",
              "        if (!display || display === 'none') {{\n",
              "            console.log([gd, 'removed!']);\n",
              "            Plotly.purge(gd);\n",
              "            observer.disconnect();\n",
              "        }}\n",
              "}});\n",
              "\n",
              "// Listen for the removal of the full notebook cells\n",
              "var notebookContainer = gd.closest('#notebook-container');\n",
              "if (notebookContainer) {{\n",
              "    x.observe(notebookContainer, {childList: true});\n",
              "}}\n",
              "\n",
              "// Listen for the clearing of the current output cell\n",
              "var outputEl = gd.closest('.output');\n",
              "if (outputEl) {{\n",
              "    x.observe(outputEl, {childList: true});\n",
              "}}\n",
              "\n",
              "                        })                };                            </script>        </div>\n",
              "</body>\n",
              "</html>"
            ]
          },
          "metadata": {}
        }
      ]
    },
    {
      "cell_type": "markdown",
      "source": [
        "### **Save intertopic distance map**"
      ],
      "metadata": {
        "id": "VEy11A_SlliP"
      }
    },
    {
      "cell_type": "code",
      "source": [
        "# Set the path to save \n",
        "path = '/content/Topic-Modeling-Reclame-Aqui/results/intertopic_distance_map/'\n",
        "\n",
        "# Use makedirs() to create a new directory if it does not exists\n",
        "if not os.path.exists(path):\n",
        "  os.makedirs(path)\n",
        "\n",
        "\n",
        "fig.write_image(path + \"idm_preprocessed_lemma.png\", format=\"png\")"
      ],
      "metadata": {
        "id": "hLy_Eeu4lqCg"
      },
      "execution_count": 65,
      "outputs": []
    },
    {
      "cell_type": "markdown",
      "source": [
        "### **Visualize Topic Hierarchy**\n",
        "\n",
        "The topics that were created can be hierarchically reduced. This visualization shows how the topics relate to one another."
      ],
      "metadata": {
        "id": "r-5bT7AgSgsv"
      }
    },
    {
      "cell_type": "code",
      "source": [
        "fig = topic_model.visualize_hierarchy(top_n_topics=50)\n",
        "fig"
      ],
      "metadata": {
        "id": "TEoOpDD6S4D7",
        "outputId": "0a6bc8b6-f17e-467b-dbae-f87b3c0a8bed",
        "colab": {
          "base_uri": "https://localhost:8080/",
          "height": 987
        }
      },
      "execution_count": 66,
      "outputs": [
        {
          "output_type": "display_data",
          "data": {
            "text/html": [
              "<html>\n",
              "<head><meta charset=\"utf-8\" /></head>\n",
              "<body>\n",
              "    <div>            <script src=\"https://cdnjs.cloudflare.com/ajax/libs/mathjax/2.7.5/MathJax.js?config=TeX-AMS-MML_SVG\"></script><script type=\"text/javascript\">if (window.MathJax) {MathJax.Hub.Config({SVG: {font: \"STIX-Web\"}});}</script>                <script type=\"text/javascript\">window.PlotlyConfig = {MathJaxConfig: 'local'};</script>\n",
              "        <script src=\"https://cdn.plot.ly/plotly-2.8.3.min.js\"></script>                <div id=\"11797e78-20dc-4f9e-9528-f79239a47113\" class=\"plotly-graph-div\" style=\"height:950px; width:1000px;\"></div>            <script type=\"text/javascript\">                                    window.PLOTLYENV=window.PLOTLYENV || {};                                    if (document.getElementById(\"11797e78-20dc-4f9e-9528-f79239a47113\")) {                    Plotly.newPlot(                        \"11797e78-20dc-4f9e-9528-f79239a47113\",                        [{\"hoverinfo\":\"text\",\"marker\":{\"color\":\"rgb(61,153,112)\"},\"mode\":\"lines\",\"x\":[0.0,0.8523920597368212,0.8523920597368212,0.0],\"xaxis\":\"x\",\"y\":[-15.0,-15.0,-25.0,-25.0],\"yaxis\":\"y\",\"type\":\"scatter\"},{\"hoverinfo\":\"text\",\"marker\":{\"color\":\"rgb(255,65,54)\"},\"mode\":\"lines\",\"x\":[0.0,0.750706721294867,0.750706721294867,0.0],\"xaxis\":\"x\",\"y\":[-35.0,-35.0,-45.0,-45.0],\"yaxis\":\"y\",\"type\":\"scatter\"},{\"hoverinfo\":\"text\",\"marker\":{\"color\":\"rgb(0,116,217)\"},\"mode\":\"lines\",\"x\":[0.8523920597368212,1.0261496805381978,1.0261496805381978,0.750706721294867],\"xaxis\":\"x\",\"y\":[-20.0,-20.0,-40.0,-40.0],\"yaxis\":\"y\",\"type\":\"scatter\"},{\"hoverinfo\":\"text\",\"marker\":{\"color\":\"rgb(0,116,217)\"},\"mode\":\"lines\",\"x\":[0.0,1.1257890336225698,1.1257890336225698,1.0261496805381978],\"xaxis\":\"x\",\"y\":[-5.0,-5.0,-30.0,-30.0],\"yaxis\":\"y\",\"type\":\"scatter\"},{\"hoverinfo\":\"text\",\"marker\":{\"color\":\"rgb(35,205,205)\"},\"mode\":\"lines\",\"x\":[0.0,0.5318701958320861,0.5318701958320861,0.0],\"xaxis\":\"x\",\"y\":[-65.0,-65.0,-75.0,-75.0],\"yaxis\":\"y\",\"type\":\"scatter\"},{\"hoverinfo\":\"text\",\"marker\":{\"color\":\"rgb(35,205,205)\"},\"mode\":\"lines\",\"x\":[0.5318701958320861,0.6059663830227527,0.6059663830227527,0.0],\"xaxis\":\"x\",\"y\":[-70.0,-70.0,-85.0,-85.0],\"yaxis\":\"y\",\"type\":\"scatter\"},{\"hoverinfo\":\"text\",\"marker\":{\"color\":\"rgb(35,205,205)\"},\"mode\":\"lines\",\"x\":[0.0,0.6410075357719626,0.6410075357719626,0.6059663830227527],\"xaxis\":\"x\",\"y\":[-55.0,-55.0,-77.5,-77.5],\"yaxis\":\"y\",\"type\":\"scatter\"},{\"hoverinfo\":\"text\",\"marker\":{\"color\":\"rgb(133,20,75)\"},\"mode\":\"lines\",\"x\":[0.0,0.6174281801052439,0.6174281801052439,0.0],\"xaxis\":\"x\",\"y\":[-105.0,-105.0,-115.0,-115.0],\"yaxis\":\"y\",\"type\":\"scatter\"},{\"hoverinfo\":\"text\",\"marker\":{\"color\":\"rgb(133,20,75)\"},\"mode\":\"lines\",\"x\":[0.0,0.7196436459322307,0.7196436459322307,0.0],\"xaxis\":\"x\",\"y\":[-125.0,-125.0,-135.0,-135.0],\"yaxis\":\"y\",\"type\":\"scatter\"},{\"hoverinfo\":\"text\",\"marker\":{\"color\":\"rgb(133,20,75)\"},\"mode\":\"lines\",\"x\":[0.6174281801052439,0.8233714582420917,0.8233714582420917,0.7196436459322307],\"xaxis\":\"x\",\"y\":[-110.0,-110.0,-130.0,-130.0],\"yaxis\":\"y\",\"type\":\"scatter\"},{\"hoverinfo\":\"text\",\"marker\":{\"color\":\"rgb(133,20,75)\"},\"mode\":\"lines\",\"x\":[0.0,0.8361432576932551,0.8361432576932551,0.8233714582420917],\"xaxis\":\"x\",\"y\":[-95.0,-95.0,-120.0,-120.0],\"yaxis\":\"y\",\"type\":\"scatter\"},{\"hoverinfo\":\"text\",\"marker\":{\"color\":\"rgb(0,116,217)\"},\"mode\":\"lines\",\"x\":[0.6410075357719626,1.442854629700066,1.442854629700066,0.8361432576932551],\"xaxis\":\"x\",\"y\":[-66.25,-66.25,-107.5,-107.5],\"yaxis\":\"y\",\"type\":\"scatter\"},{\"hoverinfo\":\"text\",\"marker\":{\"color\":\"rgb(0,116,217)\"},\"mode\":\"lines\",\"x\":[1.1257890336225698,1.592291898180562,1.592291898180562,1.442854629700066],\"xaxis\":\"x\",\"y\":[-17.5,-17.5,-86.875,-86.875],\"yaxis\":\"y\",\"type\":\"scatter\"},{\"hoverinfo\":\"text\",\"marker\":{\"color\":\"rgb(255,220,0)\"},\"mode\":\"lines\",\"x\":[0.0,0.8235662733778638,0.8235662733778638,0.0],\"xaxis\":\"x\",\"y\":[-145.0,-145.0,-155.0,-155.0],\"yaxis\":\"y\",\"type\":\"scatter\"},{\"hoverinfo\":\"text\",\"marker\":{\"color\":\"rgb(255,220,0)\"},\"mode\":\"lines\",\"x\":[0.0,0.6717425509868206,0.6717425509868206,0.0],\"xaxis\":\"x\",\"y\":[-165.0,-165.0,-175.0,-175.0],\"yaxis\":\"y\",\"type\":\"scatter\"},{\"hoverinfo\":\"text\",\"marker\":{\"color\":\"rgb(255,220,0)\"},\"mode\":\"lines\",\"x\":[0.8235662733778638,0.9705369618589534,0.9705369618589534,0.6717425509868206],\"xaxis\":\"x\",\"y\":[-150.0,-150.0,-170.0,-170.0],\"yaxis\":\"y\",\"type\":\"scatter\"},{\"hoverinfo\":\"text\",\"marker\":{\"color\":\"rgb(0,116,217)\"},\"mode\":\"lines\",\"x\":[1.592291898180562,1.7669075339979352,1.7669075339979352,0.9705369618589534],\"xaxis\":\"x\",\"y\":[-52.1875,-52.1875,-160.0,-160.0],\"yaxis\":\"y\",\"type\":\"scatter\"},{\"hoverinfo\":\"text\",\"marker\":{\"color\":\"rgb(40,35,35)\"},\"mode\":\"lines\",\"x\":[0.0,0.7054846808947716,0.7054846808947716,0.0],\"xaxis\":\"x\",\"y\":[-185.0,-185.0,-195.0,-195.0],\"yaxis\":\"y\",\"type\":\"scatter\"},{\"hoverinfo\":\"text\",\"marker\":{\"color\":\"rgb(61,153,112)\"},\"mode\":\"lines\",\"x\":[0.0,0.8087554022184784,0.8087554022184784,0.0],\"xaxis\":\"x\",\"y\":[-205.0,-205.0,-215.0,-215.0],\"yaxis\":\"y\",\"type\":\"scatter\"},{\"hoverinfo\":\"text\",\"marker\":{\"color\":\"rgb(0,116,217)\"},\"mode\":\"lines\",\"x\":[0.7054846808947716,1.3315177727561427,1.3315177727561427,0.8087554022184784],\"xaxis\":\"x\",\"y\":[-190.0,-190.0,-210.0,-210.0],\"yaxis\":\"y\",\"type\":\"scatter\"},{\"hoverinfo\":\"text\",\"marker\":{\"color\":\"rgb(255,65,54)\"},\"mode\":\"lines\",\"x\":[0.0,0.9186789827252736,0.9186789827252736,0.0],\"xaxis\":\"x\",\"y\":[-235.0,-235.0,-245.0,-245.0],\"yaxis\":\"y\",\"type\":\"scatter\"},{\"hoverinfo\":\"text\",\"marker\":{\"color\":\"rgb(0,116,217)\"},\"mode\":\"lines\",\"x\":[0.0,1.1104971272106863,1.1104971272106863,0.9186789827252736],\"xaxis\":\"x\",\"y\":[-225.0,-225.0,-240.0,-240.0],\"yaxis\":\"y\",\"type\":\"scatter\"},{\"hoverinfo\":\"text\",\"marker\":{\"color\":\"rgb(35,205,205)\"},\"mode\":\"lines\",\"x\":[0.0,0.6747218410152072,0.6747218410152072,0.0],\"xaxis\":\"x\",\"y\":[-255.0,-255.0,-265.0,-265.0],\"yaxis\":\"y\",\"type\":\"scatter\"},{\"hoverinfo\":\"text\",\"marker\":{\"color\":\"rgb(0,116,217)\"},\"mode\":\"lines\",\"x\":[0.6747218410152072,1.0711047668300342,1.0711047668300342,0.0],\"xaxis\":\"x\",\"y\":[-260.0,-260.0,-275.0,-275.0],\"yaxis\":\"y\",\"type\":\"scatter\"},{\"hoverinfo\":\"text\",\"marker\":{\"color\":\"rgb(0,116,217)\"},\"mode\":\"lines\",\"x\":[1.1104971272106863,1.4621622749164989,1.4621622749164989,1.0711047668300342],\"xaxis\":\"x\",\"y\":[-232.5,-232.5,-267.5,-267.5],\"yaxis\":\"y\",\"type\":\"scatter\"},{\"hoverinfo\":\"text\",\"marker\":{\"color\":\"rgb(0,116,217)\"},\"mode\":\"lines\",\"x\":[1.3315177727561427,1.998341758681377,1.998341758681377,1.4621622749164989],\"xaxis\":\"x\",\"y\":[-200.0,-200.0,-250.0,-250.0],\"yaxis\":\"y\",\"type\":\"scatter\"},{\"hoverinfo\":\"text\",\"marker\":{\"color\":\"rgb(0,116,217)\"},\"mode\":\"lines\",\"x\":[0.0,1.267873904221077,1.267873904221077,0.0],\"xaxis\":\"x\",\"y\":[-285.0,-285.0,-295.0,-295.0],\"yaxis\":\"y\",\"type\":\"scatter\"},{\"hoverinfo\":\"text\",\"marker\":{\"color\":\"rgb(0,116,217)\"},\"mode\":\"lines\",\"x\":[0.0,1.1481686106535283,1.1481686106535283,0.0],\"xaxis\":\"x\",\"y\":[-305.0,-305.0,-315.0,-315.0],\"yaxis\":\"y\",\"type\":\"scatter\"},{\"hoverinfo\":\"text\",\"marker\":{\"color\":\"rgb(0,116,217)\"},\"mode\":\"lines\",\"x\":[1.267873904221077,1.4228654663551037,1.4228654663551037,1.1481686106535283],\"xaxis\":\"x\",\"y\":[-290.0,-290.0,-310.0,-310.0],\"yaxis\":\"y\",\"type\":\"scatter\"},{\"hoverinfo\":\"text\",\"marker\":{\"color\":\"rgb(0,116,217)\"},\"mode\":\"lines\",\"x\":[0.0,1.0224178420491843,1.0224178420491843,0.0],\"xaxis\":\"x\",\"y\":[-335.0,-335.0,-345.0,-345.0],\"yaxis\":\"y\",\"type\":\"scatter\"},{\"hoverinfo\":\"text\",\"marker\":{\"color\":\"rgb(0,116,217)\"},\"mode\":\"lines\",\"x\":[0.0,1.0803972035343736,1.0803972035343736,0.0],\"xaxis\":\"x\",\"y\":[-355.0,-355.0,-365.0,-365.0],\"yaxis\":\"y\",\"type\":\"scatter\"},{\"hoverinfo\":\"text\",\"marker\":{\"color\":\"rgb(0,116,217)\"},\"mode\":\"lines\",\"x\":[1.0224178420491843,1.1855482564953639,1.1855482564953639,1.0803972035343736],\"xaxis\":\"x\",\"y\":[-340.0,-340.0,-360.0,-360.0],\"yaxis\":\"y\",\"type\":\"scatter\"},{\"hoverinfo\":\"text\",\"marker\":{\"color\":\"rgb(0,116,217)\"},\"mode\":\"lines\",\"x\":[0.0,1.2765135154037988,1.2765135154037988,1.1855482564953639],\"xaxis\":\"x\",\"y\":[-325.0,-325.0,-350.0,-350.0],\"yaxis\":\"y\",\"type\":\"scatter\"},{\"hoverinfo\":\"text\",\"marker\":{\"color\":\"rgb(0,116,217)\"},\"mode\":\"lines\",\"x\":[0.0,1.0732991212334997,1.0732991212334997,0.0],\"xaxis\":\"x\",\"y\":[-375.0,-375.0,-385.0,-385.0],\"yaxis\":\"y\",\"type\":\"scatter\"},{\"hoverinfo\":\"text\",\"marker\":{\"color\":\"rgb(0,116,217)\"},\"mode\":\"lines\",\"x\":[1.0732991212334997,1.1847685498616674,1.1847685498616674,0.0],\"xaxis\":\"x\",\"y\":[-380.0,-380.0,-395.0,-395.0],\"yaxis\":\"y\",\"type\":\"scatter\"},{\"hoverinfo\":\"text\",\"marker\":{\"color\":\"rgb(0,116,217)\"},\"mode\":\"lines\",\"x\":[0.0,1.1237744139547068,1.1237744139547068,0.0],\"xaxis\":\"x\",\"y\":[-405.0,-405.0,-415.0,-415.0],\"yaxis\":\"y\",\"type\":\"scatter\"},{\"hoverinfo\":\"text\",\"marker\":{\"color\":\"rgb(0,116,217)\"},\"mode\":\"lines\",\"x\":[1.1847685498616674,1.295731947189369,1.295731947189369,1.1237744139547068],\"xaxis\":\"x\",\"y\":[-387.5,-387.5,-410.0,-410.0],\"yaxis\":\"y\",\"type\":\"scatter\"},{\"hoverinfo\":\"text\",\"marker\":{\"color\":\"rgb(0,116,217)\"},\"mode\":\"lines\",\"x\":[1.2765135154037988,1.4260856214819244,1.4260856214819244,1.295731947189369],\"xaxis\":\"x\",\"y\":[-337.5,-337.5,-398.75,-398.75],\"yaxis\":\"y\",\"type\":\"scatter\"},{\"hoverinfo\":\"text\",\"marker\":{\"color\":\"rgb(0,116,217)\"},\"mode\":\"lines\",\"x\":[1.4228654663551037,1.6050059462676896,1.6050059462676896,1.4260856214819244],\"xaxis\":\"x\",\"y\":[-300.0,-300.0,-368.125,-368.125],\"yaxis\":\"y\",\"type\":\"scatter\"},{\"hoverinfo\":\"text\",\"marker\":{\"color\":\"rgb(0,116,217)\"},\"mode\":\"lines\",\"x\":[0.0,1.2140351548011064,1.2140351548011064,0.0],\"xaxis\":\"x\",\"y\":[-425.0,-425.0,-435.0,-435.0],\"yaxis\":\"y\",\"type\":\"scatter\"},{\"hoverinfo\":\"text\",\"marker\":{\"color\":\"rgb(0,116,217)\"},\"mode\":\"lines\",\"x\":[0.0,1.108893621635544,1.108893621635544,0.0],\"xaxis\":\"x\",\"y\":[-445.0,-445.0,-455.0,-455.0],\"yaxis\":\"y\",\"type\":\"scatter\"},{\"hoverinfo\":\"text\",\"marker\":{\"color\":\"rgb(0,116,217)\"},\"mode\":\"lines\",\"x\":[1.2140351548011064,1.3275879729022821,1.3275879729022821,1.108893621635544],\"xaxis\":\"x\",\"y\":[-430.0,-430.0,-450.0,-450.0],\"yaxis\":\"y\",\"type\":\"scatter\"},{\"hoverinfo\":\"text\",\"marker\":{\"color\":\"rgb(61,153,112)\"},\"mode\":\"lines\",\"x\":[0.0,0.9447555987109105,0.9447555987109105,0.0],\"xaxis\":\"x\",\"y\":[-465.0,-465.0,-475.0,-475.0],\"yaxis\":\"y\",\"type\":\"scatter\"},{\"hoverinfo\":\"text\",\"marker\":{\"color\":\"rgb(0,116,217)\"},\"mode\":\"lines\",\"x\":[1.3275879729022821,1.5284695773136712,1.5284695773136712,0.9447555987109105],\"xaxis\":\"x\",\"y\":[-440.0,-440.0,-470.0,-470.0],\"yaxis\":\"y\",\"type\":\"scatter\"},{\"hoverinfo\":\"text\",\"marker\":{\"color\":\"rgb(0,116,217)\"},\"mode\":\"lines\",\"x\":[0.0,1.4059590223512692,1.4059590223512692,0.0],\"xaxis\":\"x\",\"y\":[-485.0,-485.0,-495.0,-495.0],\"yaxis\":\"y\",\"type\":\"scatter\"},{\"hoverinfo\":\"text\",\"marker\":{\"color\":\"rgb(0,116,217)\"},\"mode\":\"lines\",\"x\":[1.5284695773136712,1.9310153072508607,1.9310153072508607,1.4059590223512692],\"xaxis\":\"x\",\"y\":[-455.0,-455.0,-490.0,-490.0],\"yaxis\":\"y\",\"type\":\"scatter\"},{\"hoverinfo\":\"text\",\"marker\":{\"color\":\"rgb(0,116,217)\"},\"mode\":\"lines\",\"x\":[1.6050059462676896,1.9919185407528033,1.9919185407528033,1.9310153072508607],\"xaxis\":\"x\",\"y\":[-334.0625,-334.0625,-472.5,-472.5],\"yaxis\":\"y\",\"type\":\"scatter\"},{\"hoverinfo\":\"text\",\"marker\":{\"color\":\"rgb(0,116,217)\"},\"mode\":\"lines\",\"x\":[1.998341758681377,2.4967355949434302,2.4967355949434302,1.9919185407528033],\"xaxis\":\"x\",\"y\":[-225.0,-225.0,-403.28125,-403.28125],\"yaxis\":\"y\",\"type\":\"scatter\"},{\"hoverinfo\":\"text\",\"marker\":{\"color\":\"rgb(0,116,217)\"},\"mode\":\"lines\",\"x\":[1.7669075339979352,5.135712949412554,5.135712949412554,2.4967355949434302],\"xaxis\":\"x\",\"y\":[-106.09375,-106.09375,-314.140625,-314.140625],\"yaxis\":\"y\",\"type\":\"scatter\"}],                        {\"autosize\":false,\"height\":950,\"hovermode\":\"closest\",\"showlegend\":false,\"width\":1000,\"xaxis\":{\"mirror\":\"allticks\",\"rangemode\":\"tozero\",\"showgrid\":false,\"showline\":true,\"showticklabels\":true,\"ticks\":\"outside\",\"type\":\"linear\",\"zeroline\":false},\"yaxis\":{\"mirror\":\"allticks\",\"rangemode\":\"tozero\",\"showgrid\":false,\"showline\":true,\"showticklabels\":true,\"tickmode\":\"array\",\"ticks\":\"outside\",\"ticktext\":[\"48_livre_mercado_ontem\",\"6_mercado_livre_vendedor\",\"13_iphone_apple_aparelho\",\"7_cancelamento_cancelar_pedir\",\"45_cancelamento_cancelar_pi...\",\"0_amazon_prime_cobran\\u00e7a\",\"5_whatsapp_contato_atendime...\",\"11_loja_atendimento_contato\",\"2_celular_samsung_aparelho\",\"1_bahia_casa_casas\",\"31_entregar_pedir_prazo\",\"3_atraso_prazo_entregar\",\"40_prazo_entregar_atrasar\",\"32_entregar_livre_00h\",\"14_recebi_nacional_pedir\",\"22_entregar_assinar_recebi\",\"4_endere\\u00e7o_shein_pedir\",\"8_brasil_shein_chegar\",\"9_conta_acessar_senha\",\"23_bloquear_contar_conta\",\"10_cart\\u00e3o_cr\\u00e9dito_pagamento\",\"36_cr\\u00e9dito_mercado_pagar\",\"49_amazon_livro_s\\u00e9rie\",\"26_cupom_black_friday\",\"12_propaganda_enganoso_an\\u00fan...\",\"17_americana_americano_amer...\",\"38_americana_consumidor_com...\",\"47_americana_entregar_atraso\",\"21_jogo_lan\\u00e7amento_ragnarok\",\"46_atraso_entregar_desenbar...\",\"41_chandon_produto_entregar\",\"44_embalagem_oculo_produto\",\"35_t\\u00eanis_tenis_devolu\\u00e7\\u00e3o\",\"19_quebrar_defeito_vir\",\"29_monitor_defeito_notebook\",\"39_bluetooth_fone_controle\",\"20_devolu\\u00e7\\u00e3o_c\\u00f3digo_devolver\",\"30_rob\\u00f4_macac\\u00e3o_arranhador\",\"15_roupa_cal\\u00e7a_vestir\",\"24_m\\u00e1quina_lavar_roupa\",\"18_geladeira_refrigerador_g...\",\"34_magazine_luizar_luizo\",\"25_curitiba_tr\\u00e2nsito_parado\",\"37_china_nacional_shein\",\"27_rastreio_c\\u00f3digo_rastream...\",\"42_recebi_mail_mercadoria\",\"16_reembolso_recebi_reembol...\",\"33_taxa_shein_taxar\",\"28_cashback_02_valor\",\"43_reconhecimento_facial_re...\"],\"tickvals\":[-5.0,-15.0,-25.0,-35.0,-45.0,-55.0,-65.0,-75.0,-85.0,-95.0,-105.0,-115.0,-125.0,-135.0,-145.0,-155.0,-165.0,-175.0,-185.0,-195.0,-205.0,-215.0,-225.0,-235.0,-245.0,-255.0,-265.0,-275.0,-285.0,-295.0,-305.0,-315.0,-325.0,-335.0,-345.0,-355.0,-365.0,-375.0,-385.0,-395.0,-405.0,-415.0,-425.0,-435.0,-445.0,-455.0,-465.0,-475.0,-485.0,-495.0],\"type\":\"linear\",\"zeroline\":false,\"range\":[-500.0,0.0]},\"template\":{\"data\":{\"barpolar\":[{\"marker\":{\"line\":{\"color\":\"white\",\"width\":0.5},\"pattern\":{\"fillmode\":\"overlay\",\"size\":10,\"solidity\":0.2}},\"type\":\"barpolar\"}],\"bar\":[{\"error_x\":{\"color\":\"#2a3f5f\"},\"error_y\":{\"color\":\"#2a3f5f\"},\"marker\":{\"line\":{\"color\":\"white\",\"width\":0.5},\"pattern\":{\"fillmode\":\"overlay\",\"size\":10,\"solidity\":0.2}},\"type\":\"bar\"}],\"carpet\":[{\"aaxis\":{\"endlinecolor\":\"#2a3f5f\",\"gridcolor\":\"#C8D4E3\",\"linecolor\":\"#C8D4E3\",\"minorgridcolor\":\"#C8D4E3\",\"startlinecolor\":\"#2a3f5f\"},\"baxis\":{\"endlinecolor\":\"#2a3f5f\",\"gridcolor\":\"#C8D4E3\",\"linecolor\":\"#C8D4E3\",\"minorgridcolor\":\"#C8D4E3\",\"startlinecolor\":\"#2a3f5f\"},\"type\":\"carpet\"}],\"choropleth\":[{\"colorbar\":{\"outlinewidth\":0,\"ticks\":\"\"},\"type\":\"choropleth\"}],\"contourcarpet\":[{\"colorbar\":{\"outlinewidth\":0,\"ticks\":\"\"},\"type\":\"contourcarpet\"}],\"contour\":[{\"colorbar\":{\"outlinewidth\":0,\"ticks\":\"\"},\"colorscale\":[[0.0,\"#0d0887\"],[0.1111111111111111,\"#46039f\"],[0.2222222222222222,\"#7201a8\"],[0.3333333333333333,\"#9c179e\"],[0.4444444444444444,\"#bd3786\"],[0.5555555555555556,\"#d8576b\"],[0.6666666666666666,\"#ed7953\"],[0.7777777777777778,\"#fb9f3a\"],[0.8888888888888888,\"#fdca26\"],[1.0,\"#f0f921\"]],\"type\":\"contour\"}],\"heatmapgl\":[{\"colorbar\":{\"outlinewidth\":0,\"ticks\":\"\"},\"colorscale\":[[0.0,\"#0d0887\"],[0.1111111111111111,\"#46039f\"],[0.2222222222222222,\"#7201a8\"],[0.3333333333333333,\"#9c179e\"],[0.4444444444444444,\"#bd3786\"],[0.5555555555555556,\"#d8576b\"],[0.6666666666666666,\"#ed7953\"],[0.7777777777777778,\"#fb9f3a\"],[0.8888888888888888,\"#fdca26\"],[1.0,\"#f0f921\"]],\"type\":\"heatmapgl\"}],\"heatmap\":[{\"colorbar\":{\"outlinewidth\":0,\"ticks\":\"\"},\"colorscale\":[[0.0,\"#0d0887\"],[0.1111111111111111,\"#46039f\"],[0.2222222222222222,\"#7201a8\"],[0.3333333333333333,\"#9c179e\"],[0.4444444444444444,\"#bd3786\"],[0.5555555555555556,\"#d8576b\"],[0.6666666666666666,\"#ed7953\"],[0.7777777777777778,\"#fb9f3a\"],[0.8888888888888888,\"#fdca26\"],[1.0,\"#f0f921\"]],\"type\":\"heatmap\"}],\"histogram2dcontour\":[{\"colorbar\":{\"outlinewidth\":0,\"ticks\":\"\"},\"colorscale\":[[0.0,\"#0d0887\"],[0.1111111111111111,\"#46039f\"],[0.2222222222222222,\"#7201a8\"],[0.3333333333333333,\"#9c179e\"],[0.4444444444444444,\"#bd3786\"],[0.5555555555555556,\"#d8576b\"],[0.6666666666666666,\"#ed7953\"],[0.7777777777777778,\"#fb9f3a\"],[0.8888888888888888,\"#fdca26\"],[1.0,\"#f0f921\"]],\"type\":\"histogram2dcontour\"}],\"histogram2d\":[{\"colorbar\":{\"outlinewidth\":0,\"ticks\":\"\"},\"colorscale\":[[0.0,\"#0d0887\"],[0.1111111111111111,\"#46039f\"],[0.2222222222222222,\"#7201a8\"],[0.3333333333333333,\"#9c179e\"],[0.4444444444444444,\"#bd3786\"],[0.5555555555555556,\"#d8576b\"],[0.6666666666666666,\"#ed7953\"],[0.7777777777777778,\"#fb9f3a\"],[0.8888888888888888,\"#fdca26\"],[1.0,\"#f0f921\"]],\"type\":\"histogram2d\"}],\"histogram\":[{\"marker\":{\"pattern\":{\"fillmode\":\"overlay\",\"size\":10,\"solidity\":0.2}},\"type\":\"histogram\"}],\"mesh3d\":[{\"colorbar\":{\"outlinewidth\":0,\"ticks\":\"\"},\"type\":\"mesh3d\"}],\"parcoords\":[{\"line\":{\"colorbar\":{\"outlinewidth\":0,\"ticks\":\"\"}},\"type\":\"parcoords\"}],\"pie\":[{\"automargin\":true,\"type\":\"pie\"}],\"scatter3d\":[{\"line\":{\"colorbar\":{\"outlinewidth\":0,\"ticks\":\"\"}},\"marker\":{\"colorbar\":{\"outlinewidth\":0,\"ticks\":\"\"}},\"type\":\"scatter3d\"}],\"scattercarpet\":[{\"marker\":{\"colorbar\":{\"outlinewidth\":0,\"ticks\":\"\"}},\"type\":\"scattercarpet\"}],\"scattergeo\":[{\"marker\":{\"colorbar\":{\"outlinewidth\":0,\"ticks\":\"\"}},\"type\":\"scattergeo\"}],\"scattergl\":[{\"marker\":{\"colorbar\":{\"outlinewidth\":0,\"ticks\":\"\"}},\"type\":\"scattergl\"}],\"scattermapbox\":[{\"marker\":{\"colorbar\":{\"outlinewidth\":0,\"ticks\":\"\"}},\"type\":\"scattermapbox\"}],\"scatterpolargl\":[{\"marker\":{\"colorbar\":{\"outlinewidth\":0,\"ticks\":\"\"}},\"type\":\"scatterpolargl\"}],\"scatterpolar\":[{\"marker\":{\"colorbar\":{\"outlinewidth\":0,\"ticks\":\"\"}},\"type\":\"scatterpolar\"}],\"scatter\":[{\"marker\":{\"colorbar\":{\"outlinewidth\":0,\"ticks\":\"\"}},\"type\":\"scatter\"}],\"scatterternary\":[{\"marker\":{\"colorbar\":{\"outlinewidth\":0,\"ticks\":\"\"}},\"type\":\"scatterternary\"}],\"surface\":[{\"colorbar\":{\"outlinewidth\":0,\"ticks\":\"\"},\"colorscale\":[[0.0,\"#0d0887\"],[0.1111111111111111,\"#46039f\"],[0.2222222222222222,\"#7201a8\"],[0.3333333333333333,\"#9c179e\"],[0.4444444444444444,\"#bd3786\"],[0.5555555555555556,\"#d8576b\"],[0.6666666666666666,\"#ed7953\"],[0.7777777777777778,\"#fb9f3a\"],[0.8888888888888888,\"#fdca26\"],[1.0,\"#f0f921\"]],\"type\":\"surface\"}],\"table\":[{\"cells\":{\"fill\":{\"color\":\"#EBF0F8\"},\"line\":{\"color\":\"white\"}},\"header\":{\"fill\":{\"color\":\"#C8D4E3\"},\"line\":{\"color\":\"white\"}},\"type\":\"table\"}]},\"layout\":{\"annotationdefaults\":{\"arrowcolor\":\"#2a3f5f\",\"arrowhead\":0,\"arrowwidth\":1},\"autotypenumbers\":\"strict\",\"coloraxis\":{\"colorbar\":{\"outlinewidth\":0,\"ticks\":\"\"}},\"colorscale\":{\"diverging\":[[0,\"#8e0152\"],[0.1,\"#c51b7d\"],[0.2,\"#de77ae\"],[0.3,\"#f1b6da\"],[0.4,\"#fde0ef\"],[0.5,\"#f7f7f7\"],[0.6,\"#e6f5d0\"],[0.7,\"#b8e186\"],[0.8,\"#7fbc41\"],[0.9,\"#4d9221\"],[1,\"#276419\"]],\"sequential\":[[0.0,\"#0d0887\"],[0.1111111111111111,\"#46039f\"],[0.2222222222222222,\"#7201a8\"],[0.3333333333333333,\"#9c179e\"],[0.4444444444444444,\"#bd3786\"],[0.5555555555555556,\"#d8576b\"],[0.6666666666666666,\"#ed7953\"],[0.7777777777777778,\"#fb9f3a\"],[0.8888888888888888,\"#fdca26\"],[1.0,\"#f0f921\"]],\"sequentialminus\":[[0.0,\"#0d0887\"],[0.1111111111111111,\"#46039f\"],[0.2222222222222222,\"#7201a8\"],[0.3333333333333333,\"#9c179e\"],[0.4444444444444444,\"#bd3786\"],[0.5555555555555556,\"#d8576b\"],[0.6666666666666666,\"#ed7953\"],[0.7777777777777778,\"#fb9f3a\"],[0.8888888888888888,\"#fdca26\"],[1.0,\"#f0f921\"]]},\"colorway\":[\"#636efa\",\"#EF553B\",\"#00cc96\",\"#ab63fa\",\"#FFA15A\",\"#19d3f3\",\"#FF6692\",\"#B6E880\",\"#FF97FF\",\"#FECB52\"],\"font\":{\"color\":\"#2a3f5f\"},\"geo\":{\"bgcolor\":\"white\",\"lakecolor\":\"white\",\"landcolor\":\"white\",\"showlakes\":true,\"showland\":true,\"subunitcolor\":\"#C8D4E3\"},\"hoverlabel\":{\"align\":\"left\"},\"hovermode\":\"closest\",\"mapbox\":{\"style\":\"light\"},\"paper_bgcolor\":\"white\",\"plot_bgcolor\":\"white\",\"polar\":{\"angularaxis\":{\"gridcolor\":\"#EBF0F8\",\"linecolor\":\"#EBF0F8\",\"ticks\":\"\"},\"bgcolor\":\"white\",\"radialaxis\":{\"gridcolor\":\"#EBF0F8\",\"linecolor\":\"#EBF0F8\",\"ticks\":\"\"}},\"scene\":{\"xaxis\":{\"backgroundcolor\":\"white\",\"gridcolor\":\"#DFE8F3\",\"gridwidth\":2,\"linecolor\":\"#EBF0F8\",\"showbackground\":true,\"ticks\":\"\",\"zerolinecolor\":\"#EBF0F8\"},\"yaxis\":{\"backgroundcolor\":\"white\",\"gridcolor\":\"#DFE8F3\",\"gridwidth\":2,\"linecolor\":\"#EBF0F8\",\"showbackground\":true,\"ticks\":\"\",\"zerolinecolor\":\"#EBF0F8\"},\"zaxis\":{\"backgroundcolor\":\"white\",\"gridcolor\":\"#DFE8F3\",\"gridwidth\":2,\"linecolor\":\"#EBF0F8\",\"showbackground\":true,\"ticks\":\"\",\"zerolinecolor\":\"#EBF0F8\"}},\"shapedefaults\":{\"line\":{\"color\":\"#2a3f5f\"}},\"ternary\":{\"aaxis\":{\"gridcolor\":\"#DFE8F3\",\"linecolor\":\"#A2B1C6\",\"ticks\":\"\"},\"baxis\":{\"gridcolor\":\"#DFE8F3\",\"linecolor\":\"#A2B1C6\",\"ticks\":\"\"},\"bgcolor\":\"white\",\"caxis\":{\"gridcolor\":\"#DFE8F3\",\"linecolor\":\"#A2B1C6\",\"ticks\":\"\"}},\"title\":{\"x\":0.05},\"xaxis\":{\"automargin\":true,\"gridcolor\":\"#EBF0F8\",\"linecolor\":\"#EBF0F8\",\"ticks\":\"\",\"title\":{\"standoff\":15},\"zerolinecolor\":\"#EBF0F8\",\"zerolinewidth\":2},\"yaxis\":{\"automargin\":true,\"gridcolor\":\"#EBF0F8\",\"linecolor\":\"#EBF0F8\",\"ticks\":\"\",\"title\":{\"standoff\":15},\"zerolinecolor\":\"#EBF0F8\",\"zerolinewidth\":2}}},\"title\":{\"font\":{\"size\":22,\"color\":\"Black\"},\"text\":\"<b>Hierarchical Clustering\",\"x\":0.5,\"xanchor\":\"center\",\"yanchor\":\"top\"},\"hoverlabel\":{\"font\":{\"size\":16,\"family\":\"Rockwell\"},\"bgcolor\":\"white\"},\"plot_bgcolor\":\"#ECEFF1\"},                        {\"responsive\": true}                    ).then(function(){\n",
              "                            \n",
              "var gd = document.getElementById('11797e78-20dc-4f9e-9528-f79239a47113');\n",
              "var x = new MutationObserver(function (mutations, observer) {{\n",
              "        var display = window.getComputedStyle(gd).display;\n",
              "        if (!display || display === 'none') {{\n",
              "            console.log([gd, 'removed!']);\n",
              "            Plotly.purge(gd);\n",
              "            observer.disconnect();\n",
              "        }}\n",
              "}});\n",
              "\n",
              "// Listen for the removal of the full notebook cells\n",
              "var notebookContainer = gd.closest('#notebook-container');\n",
              "if (notebookContainer) {{\n",
              "    x.observe(notebookContainer, {childList: true});\n",
              "}}\n",
              "\n",
              "// Listen for the clearing of the current output cell\n",
              "var outputEl = gd.closest('.output');\n",
              "if (outputEl) {{\n",
              "    x.observe(outputEl, {childList: true});\n",
              "}}\n",
              "\n",
              "                        })                };                            </script>        </div>\n",
              "</body>\n",
              "</html>"
            ]
          },
          "metadata": {}
        }
      ]
    },
    {
      "cell_type": "markdown",
      "source": [
        "### **Save Hierarchical Clustering**"
      ],
      "metadata": {
        "id": "CyM_L5c6pBXw"
      }
    },
    {
      "cell_type": "code",
      "source": [
        "# Set the path to save \n",
        "path = '/content/Topic-Modeling-Reclame-Aqui/results/hierarchical_clustering/'\n",
        "\n",
        "# Use makedirs() to create a new directory if it does not exists\n",
        "if not os.path.exists(path):\n",
        "  os.makedirs(path)\n",
        "\n",
        "\n",
        "fig.write_image(path + \"hc_preprocessed_lemma.png\", format=\"png\")"
      ],
      "metadata": {
        "id": "CHYmk_TZpHPJ"
      },
      "execution_count": 67,
      "outputs": []
    },
    {
      "cell_type": "markdown",
      "source": [
        "### **Visualize Terms**\n",
        "\n",
        "We can visualize the selected terms for a few topics by creating bar charts out of the c-TF-IDF scores for each topic representation."
      ],
      "metadata": {
        "id": "uC26Cc-6UvYE"
      }
    },
    {
      "cell_type": "code",
      "source": [
        "fig = topic_model.visualize_barchart(top_n_topics=12)\n",
        "fig"
      ],
      "metadata": {
        "id": "-NoMSyeWVF2s",
        "outputId": "de3ca2a6-3eb1-4bc9-cce0-8b3857b3586f",
        "colab": {
          "base_uri": "https://localhost:8080/",
          "height": 787
        }
      },
      "execution_count": 68,
      "outputs": [
        {
          "output_type": "display_data",
          "data": {
            "text/html": [
              "<html>\n",
              "<head><meta charset=\"utf-8\" /></head>\n",
              "<body>\n",
              "    <div>            <script src=\"https://cdnjs.cloudflare.com/ajax/libs/mathjax/2.7.5/MathJax.js?config=TeX-AMS-MML_SVG\"></script><script type=\"text/javascript\">if (window.MathJax) {MathJax.Hub.Config({SVG: {font: \"STIX-Web\"}});}</script>                <script type=\"text/javascript\">window.PlotlyConfig = {MathJaxConfig: 'local'};</script>\n",
              "        <script src=\"https://cdn.plot.ly/plotly-2.8.3.min.js\"></script>                <div id=\"5da204e6-8da0-4f65-acf2-1a2b7a217d2b\" class=\"plotly-graph-div\" style=\"height:750px; width:1000px;\"></div>            <script type=\"text/javascript\">                                    window.PLOTLYENV=window.PLOTLYENV || {};                                    if (document.getElementById(\"5da204e6-8da0-4f65-acf2-1a2b7a217d2b\")) {                    Plotly.newPlot(                        \"5da204e6-8da0-4f65-acf2-1a2b7a217d2b\",                        [{\"marker\":{\"color\":\"#D55E00\"},\"orientation\":\"h\",\"x\":[0.009629337432239456,0.01105417164656088,0.011313491991804299,0.013007478850080063,0.03943737137920581],\"y\":[\"pedir  \",\"cart\\u00e3o  \",\"cobran\\u00e7a  \",\"prime  \",\"amazon  \"],\"type\":\"bar\",\"xaxis\":\"x\",\"yaxis\":\"y\"},{\"marker\":{\"color\":\"#0072B2\"},\"orientation\":\"h\",\"x\":[0.012910366338106407,0.015848782143092818,0.025834332724225303,0.038600628257890644,0.057998944493241146],\"y\":[\"transportadora  \",\"entregar  \",\"casas  \",\"casa  \",\"bahia  \"],\"type\":\"bar\",\"xaxis\":\"x2\",\"yaxis\":\"y2\"},{\"marker\":{\"color\":\"#CC79A7\"},\"orientation\":\"h\",\"x\":[0.010696466451387021,0.011043772925310998,0.0186879136720332,0.029777296163819696,0.036937623076380724],\"y\":[\"produto  \",\"galaxy  \",\"aparelho  \",\"samsung  \",\"celular  \"],\"type\":\"bar\",\"xaxis\":\"x3\",\"yaxis\":\"y3\"},{\"marker\":{\"color\":\"#E69F00\"},\"orientation\":\"h\",\"x\":[0.02401808508146071,0.025588382043749323,0.027680275234028048,0.031538934213473736,0.0356964799335575],\"y\":[\"novembro  \",\"data  \",\"entregar  \",\"prazo  \",\"atraso  \"],\"type\":\"bar\",\"xaxis\":\"x4\",\"yaxis\":\"y4\"},{\"marker\":{\"color\":\"#56B4E9\"},\"orientation\":\"h\",\"x\":[0.02139520950762258,0.022154270614923383,0.025632024618318604,0.03380280552193349,0.03465959643139238],\"y\":[\"pedido  \",\"remetente  \",\"pedir  \",\"shein  \",\"endere\\u00e7o  \"],\"type\":\"bar\",\"xaxis\":\"x5\",\"yaxis\":\"y5\"},{\"marker\":{\"color\":\"#009E73\"},\"orientation\":\"h\",\"x\":[0.01123296092105315,0.012505041724182025,0.012810180971051044,0.015044742577760773,0.047492294932817515],\"y\":[\"atendente  \",\"entregar  \",\"atendimento  \",\"contato  \",\"whatsapp  \"],\"type\":\"bar\",\"xaxis\":\"x6\",\"yaxis\":\"y6\"},{\"marker\":{\"color\":\"#F0E442\"},\"orientation\":\"h\",\"x\":[0.016795768503064485,0.017050365748726367,0.018493763296841385,0.03377014529090897,0.03602578898505646],\"y\":[\"produto  \",\"ariano  \",\"vendedor  \",\"livre  \",\"mercado  \"],\"type\":\"bar\",\"xaxis\":\"x7\",\"yaxis\":\"y7\"},{\"marker\":{\"color\":\"#D55E00\"},\"orientation\":\"h\",\"x\":[0.013432124818068075,0.014743991126838251,0.022251359952260998,0.051251957130739795,0.055580551635573086],\"y\":[\"compra  \",\"querer  \",\"pedir  \",\"cancelar  \",\"cancelamento  \"],\"type\":\"bar\",\"xaxis\":\"x8\",\"yaxis\":\"y8\"},{\"marker\":{\"color\":\"#0072B2\"},\"orientation\":\"h\",\"x\":[0.013254530883497522,0.014776169995313806,0.015171062762553063,0.030276083102243494,0.05603347109888566],\"y\":[\"correios  \",\"brasileiro  \",\"chegar  \",\"shein  \",\"brasil  \"],\"type\":\"bar\",\"xaxis\":\"x9\",\"yaxis\":\"y9\"},{\"marker\":{\"color\":\"#CC79A7\"},\"orientation\":\"h\",\"x\":[0.04188607056145797,0.04614804018144591,0.050105635824107736,0.05238327198248367,0.058843676656047006],\"y\":[\"mail  \",\"acesso  \",\"senha  \",\"acessar  \",\"conta  \"],\"type\":\"bar\",\"xaxis\":\"x10\",\"yaxis\":\"y10\"},{\"marker\":{\"color\":\"#E69F00\"},\"orientation\":\"h\",\"x\":[0.027855145491901823,0.02870630767339518,0.03484457630665119,0.05156153013397441,0.09300200843339772],\"y\":[\"shein  \",\"compra  \",\"pagamento  \",\"cr\\u00e9dito  \",\"cart\\u00e3o  \"],\"type\":\"bar\",\"xaxis\":\"x11\",\"yaxis\":\"y11\"},{\"marker\":{\"color\":\"#56B4E9\"},\"orientation\":\"h\",\"x\":[0.009094977275920459,0.009203696818007558,0.009462140016873597,0.01017048639832847,0.0132013975268038],\"y\":[\"compra  \",\"entrar  \",\"contato  \",\"atendimento  \",\"loja  \"],\"type\":\"bar\",\"xaxis\":\"x12\",\"yaxis\":\"y12\"}],                        {\"template\":{\"data\":{\"barpolar\":[{\"marker\":{\"line\":{\"color\":\"white\",\"width\":0.5},\"pattern\":{\"fillmode\":\"overlay\",\"size\":10,\"solidity\":0.2}},\"type\":\"barpolar\"}],\"bar\":[{\"error_x\":{\"color\":\"#2a3f5f\"},\"error_y\":{\"color\":\"#2a3f5f\"},\"marker\":{\"line\":{\"color\":\"white\",\"width\":0.5},\"pattern\":{\"fillmode\":\"overlay\",\"size\":10,\"solidity\":0.2}},\"type\":\"bar\"}],\"carpet\":[{\"aaxis\":{\"endlinecolor\":\"#2a3f5f\",\"gridcolor\":\"#C8D4E3\",\"linecolor\":\"#C8D4E3\",\"minorgridcolor\":\"#C8D4E3\",\"startlinecolor\":\"#2a3f5f\"},\"baxis\":{\"endlinecolor\":\"#2a3f5f\",\"gridcolor\":\"#C8D4E3\",\"linecolor\":\"#C8D4E3\",\"minorgridcolor\":\"#C8D4E3\",\"startlinecolor\":\"#2a3f5f\"},\"type\":\"carpet\"}],\"choropleth\":[{\"colorbar\":{\"outlinewidth\":0,\"ticks\":\"\"},\"type\":\"choropleth\"}],\"contourcarpet\":[{\"colorbar\":{\"outlinewidth\":0,\"ticks\":\"\"},\"type\":\"contourcarpet\"}],\"contour\":[{\"colorbar\":{\"outlinewidth\":0,\"ticks\":\"\"},\"colorscale\":[[0.0,\"#0d0887\"],[0.1111111111111111,\"#46039f\"],[0.2222222222222222,\"#7201a8\"],[0.3333333333333333,\"#9c179e\"],[0.4444444444444444,\"#bd3786\"],[0.5555555555555556,\"#d8576b\"],[0.6666666666666666,\"#ed7953\"],[0.7777777777777778,\"#fb9f3a\"],[0.8888888888888888,\"#fdca26\"],[1.0,\"#f0f921\"]],\"type\":\"contour\"}],\"heatmapgl\":[{\"colorbar\":{\"outlinewidth\":0,\"ticks\":\"\"},\"colorscale\":[[0.0,\"#0d0887\"],[0.1111111111111111,\"#46039f\"],[0.2222222222222222,\"#7201a8\"],[0.3333333333333333,\"#9c179e\"],[0.4444444444444444,\"#bd3786\"],[0.5555555555555556,\"#d8576b\"],[0.6666666666666666,\"#ed7953\"],[0.7777777777777778,\"#fb9f3a\"],[0.8888888888888888,\"#fdca26\"],[1.0,\"#f0f921\"]],\"type\":\"heatmapgl\"}],\"heatmap\":[{\"colorbar\":{\"outlinewidth\":0,\"ticks\":\"\"},\"colorscale\":[[0.0,\"#0d0887\"],[0.1111111111111111,\"#46039f\"],[0.2222222222222222,\"#7201a8\"],[0.3333333333333333,\"#9c179e\"],[0.4444444444444444,\"#bd3786\"],[0.5555555555555556,\"#d8576b\"],[0.6666666666666666,\"#ed7953\"],[0.7777777777777778,\"#fb9f3a\"],[0.8888888888888888,\"#fdca26\"],[1.0,\"#f0f921\"]],\"type\":\"heatmap\"}],\"histogram2dcontour\":[{\"colorbar\":{\"outlinewidth\":0,\"ticks\":\"\"},\"colorscale\":[[0.0,\"#0d0887\"],[0.1111111111111111,\"#46039f\"],[0.2222222222222222,\"#7201a8\"],[0.3333333333333333,\"#9c179e\"],[0.4444444444444444,\"#bd3786\"],[0.5555555555555556,\"#d8576b\"],[0.6666666666666666,\"#ed7953\"],[0.7777777777777778,\"#fb9f3a\"],[0.8888888888888888,\"#fdca26\"],[1.0,\"#f0f921\"]],\"type\":\"histogram2dcontour\"}],\"histogram2d\":[{\"colorbar\":{\"outlinewidth\":0,\"ticks\":\"\"},\"colorscale\":[[0.0,\"#0d0887\"],[0.1111111111111111,\"#46039f\"],[0.2222222222222222,\"#7201a8\"],[0.3333333333333333,\"#9c179e\"],[0.4444444444444444,\"#bd3786\"],[0.5555555555555556,\"#d8576b\"],[0.6666666666666666,\"#ed7953\"],[0.7777777777777778,\"#fb9f3a\"],[0.8888888888888888,\"#fdca26\"],[1.0,\"#f0f921\"]],\"type\":\"histogram2d\"}],\"histogram\":[{\"marker\":{\"pattern\":{\"fillmode\":\"overlay\",\"size\":10,\"solidity\":0.2}},\"type\":\"histogram\"}],\"mesh3d\":[{\"colorbar\":{\"outlinewidth\":0,\"ticks\":\"\"},\"type\":\"mesh3d\"}],\"parcoords\":[{\"line\":{\"colorbar\":{\"outlinewidth\":0,\"ticks\":\"\"}},\"type\":\"parcoords\"}],\"pie\":[{\"automargin\":true,\"type\":\"pie\"}],\"scatter3d\":[{\"line\":{\"colorbar\":{\"outlinewidth\":0,\"ticks\":\"\"}},\"marker\":{\"colorbar\":{\"outlinewidth\":0,\"ticks\":\"\"}},\"type\":\"scatter3d\"}],\"scattercarpet\":[{\"marker\":{\"colorbar\":{\"outlinewidth\":0,\"ticks\":\"\"}},\"type\":\"scattercarpet\"}],\"scattergeo\":[{\"marker\":{\"colorbar\":{\"outlinewidth\":0,\"ticks\":\"\"}},\"type\":\"scattergeo\"}],\"scattergl\":[{\"marker\":{\"colorbar\":{\"outlinewidth\":0,\"ticks\":\"\"}},\"type\":\"scattergl\"}],\"scattermapbox\":[{\"marker\":{\"colorbar\":{\"outlinewidth\":0,\"ticks\":\"\"}},\"type\":\"scattermapbox\"}],\"scatterpolargl\":[{\"marker\":{\"colorbar\":{\"outlinewidth\":0,\"ticks\":\"\"}},\"type\":\"scatterpolargl\"}],\"scatterpolar\":[{\"marker\":{\"colorbar\":{\"outlinewidth\":0,\"ticks\":\"\"}},\"type\":\"scatterpolar\"}],\"scatter\":[{\"marker\":{\"colorbar\":{\"outlinewidth\":0,\"ticks\":\"\"}},\"type\":\"scatter\"}],\"scatterternary\":[{\"marker\":{\"colorbar\":{\"outlinewidth\":0,\"ticks\":\"\"}},\"type\":\"scatterternary\"}],\"surface\":[{\"colorbar\":{\"outlinewidth\":0,\"ticks\":\"\"},\"colorscale\":[[0.0,\"#0d0887\"],[0.1111111111111111,\"#46039f\"],[0.2222222222222222,\"#7201a8\"],[0.3333333333333333,\"#9c179e\"],[0.4444444444444444,\"#bd3786\"],[0.5555555555555556,\"#d8576b\"],[0.6666666666666666,\"#ed7953\"],[0.7777777777777778,\"#fb9f3a\"],[0.8888888888888888,\"#fdca26\"],[1.0,\"#f0f921\"]],\"type\":\"surface\"}],\"table\":[{\"cells\":{\"fill\":{\"color\":\"#EBF0F8\"},\"line\":{\"color\":\"white\"}},\"header\":{\"fill\":{\"color\":\"#C8D4E3\"},\"line\":{\"color\":\"white\"}},\"type\":\"table\"}]},\"layout\":{\"annotationdefaults\":{\"arrowcolor\":\"#2a3f5f\",\"arrowhead\":0,\"arrowwidth\":1},\"autotypenumbers\":\"strict\",\"coloraxis\":{\"colorbar\":{\"outlinewidth\":0,\"ticks\":\"\"}},\"colorscale\":{\"diverging\":[[0,\"#8e0152\"],[0.1,\"#c51b7d\"],[0.2,\"#de77ae\"],[0.3,\"#f1b6da\"],[0.4,\"#fde0ef\"],[0.5,\"#f7f7f7\"],[0.6,\"#e6f5d0\"],[0.7,\"#b8e186\"],[0.8,\"#7fbc41\"],[0.9,\"#4d9221\"],[1,\"#276419\"]],\"sequential\":[[0.0,\"#0d0887\"],[0.1111111111111111,\"#46039f\"],[0.2222222222222222,\"#7201a8\"],[0.3333333333333333,\"#9c179e\"],[0.4444444444444444,\"#bd3786\"],[0.5555555555555556,\"#d8576b\"],[0.6666666666666666,\"#ed7953\"],[0.7777777777777778,\"#fb9f3a\"],[0.8888888888888888,\"#fdca26\"],[1.0,\"#f0f921\"]],\"sequentialminus\":[[0.0,\"#0d0887\"],[0.1111111111111111,\"#46039f\"],[0.2222222222222222,\"#7201a8\"],[0.3333333333333333,\"#9c179e\"],[0.4444444444444444,\"#bd3786\"],[0.5555555555555556,\"#d8576b\"],[0.6666666666666666,\"#ed7953\"],[0.7777777777777778,\"#fb9f3a\"],[0.8888888888888888,\"#fdca26\"],[1.0,\"#f0f921\"]]},\"colorway\":[\"#636efa\",\"#EF553B\",\"#00cc96\",\"#ab63fa\",\"#FFA15A\",\"#19d3f3\",\"#FF6692\",\"#B6E880\",\"#FF97FF\",\"#FECB52\"],\"font\":{\"color\":\"#2a3f5f\"},\"geo\":{\"bgcolor\":\"white\",\"lakecolor\":\"white\",\"landcolor\":\"white\",\"showlakes\":true,\"showland\":true,\"subunitcolor\":\"#C8D4E3\"},\"hoverlabel\":{\"align\":\"left\"},\"hovermode\":\"closest\",\"mapbox\":{\"style\":\"light\"},\"paper_bgcolor\":\"white\",\"plot_bgcolor\":\"white\",\"polar\":{\"angularaxis\":{\"gridcolor\":\"#EBF0F8\",\"linecolor\":\"#EBF0F8\",\"ticks\":\"\"},\"bgcolor\":\"white\",\"radialaxis\":{\"gridcolor\":\"#EBF0F8\",\"linecolor\":\"#EBF0F8\",\"ticks\":\"\"}},\"scene\":{\"xaxis\":{\"backgroundcolor\":\"white\",\"gridcolor\":\"#DFE8F3\",\"gridwidth\":2,\"linecolor\":\"#EBF0F8\",\"showbackground\":true,\"ticks\":\"\",\"zerolinecolor\":\"#EBF0F8\"},\"yaxis\":{\"backgroundcolor\":\"white\",\"gridcolor\":\"#DFE8F3\",\"gridwidth\":2,\"linecolor\":\"#EBF0F8\",\"showbackground\":true,\"ticks\":\"\",\"zerolinecolor\":\"#EBF0F8\"},\"zaxis\":{\"backgroundcolor\":\"white\",\"gridcolor\":\"#DFE8F3\",\"gridwidth\":2,\"linecolor\":\"#EBF0F8\",\"showbackground\":true,\"ticks\":\"\",\"zerolinecolor\":\"#EBF0F8\"}},\"shapedefaults\":{\"line\":{\"color\":\"#2a3f5f\"}},\"ternary\":{\"aaxis\":{\"gridcolor\":\"#DFE8F3\",\"linecolor\":\"#A2B1C6\",\"ticks\":\"\"},\"baxis\":{\"gridcolor\":\"#DFE8F3\",\"linecolor\":\"#A2B1C6\",\"ticks\":\"\"},\"bgcolor\":\"white\",\"caxis\":{\"gridcolor\":\"#DFE8F3\",\"linecolor\":\"#A2B1C6\",\"ticks\":\"\"}},\"title\":{\"x\":0.05},\"xaxis\":{\"automargin\":true,\"gridcolor\":\"#EBF0F8\",\"linecolor\":\"#EBF0F8\",\"ticks\":\"\",\"title\":{\"standoff\":15},\"zerolinecolor\":\"#EBF0F8\",\"zerolinewidth\":2},\"yaxis\":{\"automargin\":true,\"gridcolor\":\"#EBF0F8\",\"linecolor\":\"#EBF0F8\",\"ticks\":\"\",\"title\":{\"standoff\":15},\"zerolinecolor\":\"#EBF0F8\",\"zerolinewidth\":2}}},\"xaxis\":{\"anchor\":\"y\",\"domain\":[0.0,0.175],\"showgrid\":true},\"yaxis\":{\"anchor\":\"x\",\"domain\":[0.7555555555555555,1.0],\"showgrid\":true},\"xaxis2\":{\"anchor\":\"y2\",\"domain\":[0.275,0.45],\"showgrid\":true},\"yaxis2\":{\"anchor\":\"x2\",\"domain\":[0.7555555555555555,1.0],\"showgrid\":true},\"xaxis3\":{\"anchor\":\"y3\",\"domain\":[0.55,0.7250000000000001],\"showgrid\":true},\"yaxis3\":{\"anchor\":\"x3\",\"domain\":[0.7555555555555555,1.0],\"showgrid\":true},\"xaxis4\":{\"anchor\":\"y4\",\"domain\":[0.825,1.0],\"showgrid\":true},\"yaxis4\":{\"anchor\":\"x4\",\"domain\":[0.7555555555555555,1.0],\"showgrid\":true},\"xaxis5\":{\"anchor\":\"y5\",\"domain\":[0.0,0.175],\"showgrid\":true},\"yaxis5\":{\"anchor\":\"x5\",\"domain\":[0.37777777777777777,0.6222222222222222],\"showgrid\":true},\"xaxis6\":{\"anchor\":\"y6\",\"domain\":[0.275,0.45],\"showgrid\":true},\"yaxis6\":{\"anchor\":\"x6\",\"domain\":[0.37777777777777777,0.6222222222222222],\"showgrid\":true},\"xaxis7\":{\"anchor\":\"y7\",\"domain\":[0.55,0.7250000000000001],\"showgrid\":true},\"yaxis7\":{\"anchor\":\"x7\",\"domain\":[0.37777777777777777,0.6222222222222222],\"showgrid\":true},\"xaxis8\":{\"anchor\":\"y8\",\"domain\":[0.825,1.0],\"showgrid\":true},\"yaxis8\":{\"anchor\":\"x8\",\"domain\":[0.37777777777777777,0.6222222222222222],\"showgrid\":true},\"xaxis9\":{\"anchor\":\"y9\",\"domain\":[0.0,0.175],\"showgrid\":true},\"yaxis9\":{\"anchor\":\"x9\",\"domain\":[0.0,0.24444444444444446],\"showgrid\":true},\"xaxis10\":{\"anchor\":\"y10\",\"domain\":[0.275,0.45],\"showgrid\":true},\"yaxis10\":{\"anchor\":\"x10\",\"domain\":[0.0,0.24444444444444446],\"showgrid\":true},\"xaxis11\":{\"anchor\":\"y11\",\"domain\":[0.55,0.7250000000000001],\"showgrid\":true},\"yaxis11\":{\"anchor\":\"x11\",\"domain\":[0.0,0.24444444444444446],\"showgrid\":true},\"xaxis12\":{\"anchor\":\"y12\",\"domain\":[0.825,1.0],\"showgrid\":true},\"yaxis12\":{\"anchor\":\"x12\",\"domain\":[0.0,0.24444444444444446],\"showgrid\":true},\"annotations\":[{\"font\":{\"size\":16},\"showarrow\":false,\"text\":\"Topic 0\",\"x\":0.0875,\"xanchor\":\"center\",\"xref\":\"paper\",\"y\":1.0,\"yanchor\":\"bottom\",\"yref\":\"paper\"},{\"font\":{\"size\":16},\"showarrow\":false,\"text\":\"Topic 1\",\"x\":0.36250000000000004,\"xanchor\":\"center\",\"xref\":\"paper\",\"y\":1.0,\"yanchor\":\"bottom\",\"yref\":\"paper\"},{\"font\":{\"size\":16},\"showarrow\":false,\"text\":\"Topic 2\",\"x\":0.6375000000000001,\"xanchor\":\"center\",\"xref\":\"paper\",\"y\":1.0,\"yanchor\":\"bottom\",\"yref\":\"paper\"},{\"font\":{\"size\":16},\"showarrow\":false,\"text\":\"Topic 3\",\"x\":0.9125,\"xanchor\":\"center\",\"xref\":\"paper\",\"y\":1.0,\"yanchor\":\"bottom\",\"yref\":\"paper\"},{\"font\":{\"size\":16},\"showarrow\":false,\"text\":\"Topic 4\",\"x\":0.0875,\"xanchor\":\"center\",\"xref\":\"paper\",\"y\":0.6222222222222222,\"yanchor\":\"bottom\",\"yref\":\"paper\"},{\"font\":{\"size\":16},\"showarrow\":false,\"text\":\"Topic 5\",\"x\":0.36250000000000004,\"xanchor\":\"center\",\"xref\":\"paper\",\"y\":0.6222222222222222,\"yanchor\":\"bottom\",\"yref\":\"paper\"},{\"font\":{\"size\":16},\"showarrow\":false,\"text\":\"Topic 6\",\"x\":0.6375000000000001,\"xanchor\":\"center\",\"xref\":\"paper\",\"y\":0.6222222222222222,\"yanchor\":\"bottom\",\"yref\":\"paper\"},{\"font\":{\"size\":16},\"showarrow\":false,\"text\":\"Topic 7\",\"x\":0.9125,\"xanchor\":\"center\",\"xref\":\"paper\",\"y\":0.6222222222222222,\"yanchor\":\"bottom\",\"yref\":\"paper\"},{\"font\":{\"size\":16},\"showarrow\":false,\"text\":\"Topic 8\",\"x\":0.0875,\"xanchor\":\"center\",\"xref\":\"paper\",\"y\":0.24444444444444446,\"yanchor\":\"bottom\",\"yref\":\"paper\"},{\"font\":{\"size\":16},\"showarrow\":false,\"text\":\"Topic 9\",\"x\":0.36250000000000004,\"xanchor\":\"center\",\"xref\":\"paper\",\"y\":0.24444444444444446,\"yanchor\":\"bottom\",\"yref\":\"paper\"},{\"font\":{\"size\":16},\"showarrow\":false,\"text\":\"Topic 10\",\"x\":0.6375000000000001,\"xanchor\":\"center\",\"xref\":\"paper\",\"y\":0.24444444444444446,\"yanchor\":\"bottom\",\"yref\":\"paper\"},{\"font\":{\"size\":16},\"showarrow\":false,\"text\":\"Topic 11\",\"x\":0.9125,\"xanchor\":\"center\",\"xref\":\"paper\",\"y\":0.24444444444444446,\"yanchor\":\"bottom\",\"yref\":\"paper\"}],\"title\":{\"font\":{\"size\":22,\"color\":\"Black\"},\"text\":\"<b>Topic Word Scores\",\"x\":0.5,\"xanchor\":\"center\",\"yanchor\":\"top\"},\"hoverlabel\":{\"font\":{\"size\":16,\"family\":\"Rockwell\"},\"bgcolor\":\"white\"},\"showlegend\":false,\"width\":1000,\"height\":750},                        {\"responsive\": true}                    ).then(function(){\n",
              "                            \n",
              "var gd = document.getElementById('5da204e6-8da0-4f65-acf2-1a2b7a217d2b');\n",
              "var x = new MutationObserver(function (mutations, observer) {{\n",
              "        var display = window.getComputedStyle(gd).display;\n",
              "        if (!display || display === 'none') {{\n",
              "            console.log([gd, 'removed!']);\n",
              "            Plotly.purge(gd);\n",
              "            observer.disconnect();\n",
              "        }}\n",
              "}});\n",
              "\n",
              "// Listen for the removal of the full notebook cells\n",
              "var notebookContainer = gd.closest('#notebook-container');\n",
              "if (notebookContainer) {{\n",
              "    x.observe(notebookContainer, {childList: true});\n",
              "}}\n",
              "\n",
              "// Listen for the clearing of the current output cell\n",
              "var outputEl = gd.closest('.output');\n",
              "if (outputEl) {{\n",
              "    x.observe(outputEl, {childList: true});\n",
              "}}\n",
              "\n",
              "                        })                };                            </script>        </div>\n",
              "</body>\n",
              "</html>"
            ]
          },
          "metadata": {}
        }
      ]
    },
    {
      "cell_type": "markdown",
      "source": [
        "### **Save Top Word Scores Bar Chart**"
      ],
      "metadata": {
        "id": "MZWFicVqpWUA"
      }
    },
    {
      "cell_type": "code",
      "source": [
        "# Set the path to save \n",
        "path = '/content/Topic-Modeling-Reclame-Aqui/results/top_words_scores/'\n",
        "\n",
        "# Use makedirs() to create a new directory if it does not exists\n",
        "if not os.path.exists(path):\n",
        "  os.makedirs(path)\n",
        "\n",
        "\n",
        "fig.write_image(path + \"tws_preprocessed_lemma.png\", format=\"png\")"
      ],
      "metadata": {
        "id": "Qrz2ywMapdO5"
      },
      "execution_count": 69,
      "outputs": []
    },
    {
      "cell_type": "markdown",
      "source": [
        "### **Visualize Topic Similarity**\n",
        "\n",
        "This plot shows a similarity matrix by simply applying cosine similarities through those topic embeddings generate by BERTopic through both c-TF-IDF and embeddings. This matrix indicate how similar certain topics are to each other."
      ],
      "metadata": {
        "id": "qMjOvmYVVUDX"
      }
    },
    {
      "cell_type": "code",
      "source": [
        "fig = topic_model.visualize_heatmap(n_clusters=20, width=1000, height=1000)\n",
        "fig"
      ],
      "metadata": {
        "id": "_GL5qZ0nV3M2",
        "outputId": "a89defc6-a5ff-4795-a36a-c4a92090fb8c",
        "colab": {
          "base_uri": "https://localhost:8080/",
          "height": 1000
        }
      },
      "execution_count": 76,
      "outputs": [
        {
          "output_type": "display_data",
          "data": {
            "text/html": [
              "<html>\n",
              "<head><meta charset=\"utf-8\" /></head>\n",
              "<body>\n",
              "    <div>            <script src=\"https://cdnjs.cloudflare.com/ajax/libs/mathjax/2.7.5/MathJax.js?config=TeX-AMS-MML_SVG\"></script><script type=\"text/javascript\">if (window.MathJax) {MathJax.Hub.Config({SVG: {font: \"STIX-Web\"}});}</script>                <script type=\"text/javascript\">window.PlotlyConfig = {MathJaxConfig: 'local'};</script>\n",
              "        <script src=\"https://cdn.plot.ly/plotly-2.8.3.min.js\"></script>                <div id=\"58a58c86-1361-4546-92b0-15ddebd1b968\" class=\"plotly-graph-div\" style=\"height:1000px; width:1000px;\"></div>            <script type=\"text/javascript\">                                    window.PLOTLYENV=window.PLOTLYENV || {};                                    if (document.getElementById(\"58a58c86-1361-4546-92b0-15ddebd1b968\")) {                    Plotly.newPlot(                        \"58a58c86-1361-4546-92b0-15ddebd1b968\",                        [{\"coloraxis\":\"coloraxis\",\"name\":\"0\",\"x\":[\"0_amazon_prime_cobran\\u00e7a\",\"1_bahia_casa_casas\",\"9_conta_acessar_senha\",\"17_americana_americano_amer...\",\"38_americana_consumidor_com...\",\"49_amazon_livro_s\\u00e9rie\",\"67_horizonte_local_entregar\",\"2_celular_samsung_aparelho\",\"13_iphone_apple_aparelho\",\"3_atraso_prazo_entregar\",\"7_cancelamento_cancelar_pedir\",\"45_cancelamento_cancelar_pi...\",\"46_atraso_entregar_desenbar...\",\"4_endere\\u00e7o_shein_pedir\",\"6_mercado_livre_vendedor\",\"11_loja_atendimento_contato\",\"19_quebrar_defeito_vir\",\"21_jogo_lan\\u00e7amento_ragnarok\",\"22_entregar_assinar_recebi\",\"26_cupom_black_friday\",\"41_chandon_produto_entregar\",\"42_recebi_mail_mercadoria\",\"44_embalagem_oculo_produto\",\"50_shein_correios_atualiza\\u00e7\\u00e3o\",\"56_dinheiro_querer_voltar\",\"59_ponto_laptop_full\",\"63_jogo_panelas_panelo\",\"64_shein_blog_paguei\",\"66_reten\\u00e7\\u00e3o_receita_scanner\",\"69_cancelei_estorno_mensali...\",\"5_whatsapp_contato_atendime...\",\"39_bluetooth_fone_controle\",\"8_brasil_shein_chegar\",\"37_china_nacional_shein\",\"10_cart\\u00e3o_cr\\u00e9dito_pagamento\",\"16_reembolso_recebi_reembol...\",\"36_cr\\u00e9dito_mercado_pagar\",\"58_cart\\u00e3o_fatura_cr\\u00e9dito\",\"12_propaganda_enganoso_an\\u00fan...\",\"20_devolu\\u00e7\\u00e3o_c\\u00f3digo_devolver\",\"27_rastreio_c\\u00f3digo_rastream...\",\"34_magazine_luizar_luizo\",\"65_320_iphone_instagr\",\"71_proc_erro_cho99\",\"14_recebi_nacional_pedir\",\"25_curitiba_tr\\u00e2nsito_parado\",\"31_entregar_pedir_prazo\",\"32_entregar_livre_00h\",\"40_prazo_entregar_atrasar\",\"47_americana_entregar_atraso\",\"48_livre_mercado_ontem\",\"52_paulo_atraso_luis\",\"57_11_entregar_jogo\",\"68_rastreio_bilhete_pedir\",\"15_roupa_cal\\u00e7a_vestir\",\"18_geladeira_refrigerador_g...\",\"23_bloquear_contar_conta\",\"61_suspender_contar_conta\",\"24_m\\u00e1quina_lavar_roupa\",\"54_microondas_electrolux_nell\",\"28_cashback_02_valor\",\"29_monitor_defeito_notebook\",\"30_rob\\u00f4_macac\\u00e3o_arranhador\",\"43_reconhecimento_facial_re...\",\"33_taxa_shein_taxar\",\"55_reembolso_tartarugar_11\",\"70_nota_fiscal_emitir\",\"35_t\\u00eanis_tenis_devolu\\u00e7\\u00e3o\",\"53_pneu_moto_175\",\"51_perfume_falsificar_devol...\",\"60_sof\\u00e1_edredom_reclin\\u00e1vel\",\"62_cadeira_gamer_montar\"],\"y\":[\"0_amazon_prime_cobran\\u00e7a\",\"1_bahia_casa_casas\",\"9_conta_acessar_senha\",\"17_americana_americano_amer...\",\"38_americana_consumidor_com...\",\"49_amazon_livro_s\\u00e9rie\",\"67_horizonte_local_entregar\",\"2_celular_samsung_aparelho\",\"13_iphone_apple_aparelho\",\"3_atraso_prazo_entregar\",\"7_cancelamento_cancelar_pedir\",\"45_cancelamento_cancelar_pi...\",\"46_atraso_entregar_desenbar...\",\"4_endere\\u00e7o_shein_pedir\",\"6_mercado_livre_vendedor\",\"11_loja_atendimento_contato\",\"19_quebrar_defeito_vir\",\"21_jogo_lan\\u00e7amento_ragnarok\",\"22_entregar_assinar_recebi\",\"26_cupom_black_friday\",\"41_chandon_produto_entregar\",\"42_recebi_mail_mercadoria\",\"44_embalagem_oculo_produto\",\"50_shein_correios_atualiza\\u00e7\\u00e3o\",\"56_dinheiro_querer_voltar\",\"59_ponto_laptop_full\",\"63_jogo_panelas_panelo\",\"64_shein_blog_paguei\",\"66_reten\\u00e7\\u00e3o_receita_scanner\",\"69_cancelei_estorno_mensali...\",\"5_whatsapp_contato_atendime...\",\"39_bluetooth_fone_controle\",\"8_brasil_shein_chegar\",\"37_china_nacional_shein\",\"10_cart\\u00e3o_cr\\u00e9dito_pagamento\",\"16_reembolso_recebi_reembol...\",\"36_cr\\u00e9dito_mercado_pagar\",\"58_cart\\u00e3o_fatura_cr\\u00e9dito\",\"12_propaganda_enganoso_an\\u00fan...\",\"20_devolu\\u00e7\\u00e3o_c\\u00f3digo_devolver\",\"27_rastreio_c\\u00f3digo_rastream...\",\"34_magazine_luizar_luizo\",\"65_320_iphone_instagr\",\"71_proc_erro_cho99\",\"14_recebi_nacional_pedir\",\"25_curitiba_tr\\u00e2nsito_parado\",\"31_entregar_pedir_prazo\",\"32_entregar_livre_00h\",\"40_prazo_entregar_atrasar\",\"47_americana_entregar_atraso\",\"48_livre_mercado_ontem\",\"52_paulo_atraso_luis\",\"57_11_entregar_jogo\",\"68_rastreio_bilhete_pedir\",\"15_roupa_cal\\u00e7a_vestir\",\"18_geladeira_refrigerador_g...\",\"23_bloquear_contar_conta\",\"61_suspender_contar_conta\",\"24_m\\u00e1quina_lavar_roupa\",\"54_microondas_electrolux_nell\",\"28_cashback_02_valor\",\"29_monitor_defeito_notebook\",\"30_rob\\u00f4_macac\\u00e3o_arranhador\",\"43_reconhecimento_facial_re...\",\"33_taxa_shein_taxar\",\"55_reembolso_tartarugar_11\",\"70_nota_fiscal_emitir\",\"35_t\\u00eanis_tenis_devolu\\u00e7\\u00e3o\",\"53_pneu_moto_175\",\"51_perfume_falsificar_devol...\",\"60_sof\\u00e1_edredom_reclin\\u00e1vel\",\"62_cadeira_gamer_montar\"],\"z\":[[0.9999999999999994,0.785069116264885,0.7836509283537841,0.764872003182594,0.7900639797918704,0.9082226927271791,0.7178609471851104,0.5432345330824666,0.6426435795485388,0.6936856093561119,0.7517838335050714,0.6886852274132678,0.664104265473021,0.7916122487199273,0.8129614370522426,0.8317519524759949,0.7449390758425103,0.7801087850890085,0.8043349101308205,0.7782699001889961,0.7899230786340018,0.8055209033998686,0.7697662639960996,0.7736925532839479,0.7430017802110688,0.8129909116565545,0.74153586327076,0.7671238583236991,0.7733279309131824,0.7364601320823041,0.6666661142733556,0.6495681739920064,0.6903922370267519,0.6589786828521567,0.7423589373196975,0.6973447514898634,0.766031953949189,0.744060543826963,0.7092145072566266,0.7129218598265525,0.7362286003680282,0.7440343488674095,0.7526630172289209,0.7237811733954146,0.7494911681296809,0.7423009930407704,0.7924224796412743,0.7441133599876357,0.7272057405671287,0.7452611422291808,0.7702590848370585,0.6883932540977998,0.7847105131097494,0.7350752658279387,0.6256619443929052,0.5694192537610294,0.6622005360138509,0.5779658420068642,0.5479973953933952,0.5660505616817357,0.5953400742180897,0.6064880488386869,0.6106586780837358,0.6371793669216763,0.7638115872176688,0.7234844092552138,0.7415520673113949,0.5564038750350365,0.5746421060209126,0.6004142434470275,0.5430749010223954,0.5534537143892073],[0.785069116264885,0.9999999999999997,0.8108112077761545,0.8093822414355987,0.836015587578379,0.8370431801334279,0.8595010369861831,0.5717521643712513,0.5332278326793884,0.761291429345561,0.7986877854007455,0.7803727825043791,0.7563409262668881,0.861549748294873,0.838993183135502,0.8706615303031311,0.7976682821777568,0.8200980847763039,0.8511768590013072,0.8233364129657995,0.868667515584185,0.8390773789454506,0.8283146471703473,0.8318545222430429,0.8257185539513906,0.8282704501564124,0.835732866644411,0.820304663154265,0.8486886681694249,0.7795408521321399,0.7367931448372206,0.6805350919867605,0.7558547829914134,0.7313465413339032,0.6755486211973163,0.702805960826457,0.71630259058669,0.7210803327692176,0.7399827769314213,0.7588233899282147,0.783813661025233,0.7703561543093375,0.7571048159424755,0.7619039549616317,0.8367012616442812,0.82860035921758,0.8573503116201364,0.8362129464514282,0.8128952745583738,0.8458052159708277,0.8432273682129224,0.8126462759902783,0.8364554856325892,0.8266031722124219,0.7487720771526123,0.5470721700919917,0.7146719712179659,0.6490888458777391,0.6376550300190694,0.6040451819197987,0.5895460995165066,0.6604891231468027,0.6689257791028508,0.6826119886817665,0.7769666236460256,0.7526904449922679,0.7612114725676432,0.5487578769583925,0.6650919535452957,0.643903835106534,0.662253271037315,0.6628244542932078],[0.7836509283537841,0.8108112077761545,0.9999999999999998,0.7754004290190218,0.815366045088394,0.8195142280404307,0.7807110779132669,0.627796537736262,0.6063865707609032,0.7734515677200876,0.8035821429430609,0.7500772409953439,0.7608208962530758,0.888068441809021,0.8096253918867637,0.8919001497797353,0.7728463216792806,0.8216810628759277,0.8790854132975875,0.7736667299566753,0.8101655672366669,0.9209027088564669,0.7905090904766914,0.8333896040814178,0.8010489545358962,0.8269703693021372,0.7948262106444888,0.8010300264408985,0.8300836346168303,0.7872834533915054,0.7714706362040642,0.7307661410469307,0.678070544254557,0.6451603437590159,0.7051548683030407,0.7152888471404605,0.7420128090159858,0.7268386340547908,0.7389082116517344,0.7305269290001177,0.7833157789059508,0.8034869675102603,0.7497010593888925,0.7520536622118571,0.8374203296963683,0.8194313003828904,0.8713206305294708,0.8345738294803641,0.7966478361086154,0.8336451285657678,0.8313127154666835,0.7725062864871549,0.8320064272074204,0.8251364195526937,0.6556742370394532,0.5310234510241248,0.7628988272536683,0.6448901130254135,0.5950771557147524,0.6277912827831997,0.6327220581994092,0.682927184200218,0.6274494159330536,0.69768720860805,0.7521760332648407,0.7471047655491436,0.787645174225669,0.5569003543853188,0.5729722109290853,0.6203608306636166,0.5821517549063185,0.6035221637869358],[0.764872003182594,0.8093822414355987,0.7754004290190218,1.0000000000000007,0.9534787484378009,0.8190405185114499,0.7866990114556984,0.5976556630254567,0.5719407506532165,0.7651401748834566,0.7738252669789517,0.7291500757328507,0.7438681898803862,0.8199826347555346,0.8166884809985436,0.8611339798469952,0.7574267031715001,0.8132858826945928,0.8305656285361253,0.8334837030929523,0.806635637112381,0.8293143317511913,0.7952123857288845,0.8099474238375897,0.8059204696987494,0.7936562766739039,0.8027436971988147,0.7920916484561714,0.7936058771725267,0.7809272527233005,0.6938675960143955,0.644747331366214,0.6967787441687533,0.704799349669453,0.6908792543709917,0.7125206656779066,0.7235125050002488,0.7149209938369167,0.7991671656605359,0.7221889982874724,0.7428277258961402,0.7530566586169123,0.7805478244058897,0.7025507869107019,0.8504593509309184,0.8099744393707632,0.8467136193934648,0.8100103013447862,0.8023546622087759,0.8877790189744283,0.8332911880911629,0.7826744295256715,0.8209910846448223,0.800905440474678,0.7196140510353428,0.5057784422082519,0.6822330678668191,0.611004606160764,0.5660346617791339,0.6097478732062078,0.6048980071727644,0.6429644361904059,0.6177994753311382,0.658656449107189,0.779773015133866,0.7467490475537352,0.7966902676981142,0.5637308452017499,0.6250510304940906,0.6106602577625753,0.5781819860844255,0.6174473992954123],[0.7900639797918704,0.836015587578379,0.815366045088394,0.9534787484378009,1.0000000000000007,0.8212720178849737,0.8217316830420205,0.6354690332048475,0.6026987239745554,0.7920183164187209,0.8080926172606969,0.7796541433347806,0.7881116661390627,0.8489682713901006,0.8766984454309945,0.8863684640853365,0.8097059791359982,0.8571583447511881,0.8727699830206789,0.8693630934242732,0.8624236922500854,0.8608903693591436,0.840376685405853,0.8275711103051205,0.8352579959467685,0.8388596365337442,0.8473617143891513,0.8190732459431962,0.834814018246314,0.8254275596310723,0.7188150960182981,0.7032764416426094,0.726699261113131,0.7331945396309758,0.7810320116843305,0.755666123310363,0.7874101446233336,0.8058579344937216,0.8147637299758461,0.7609057138538831,0.7629289935470543,0.7764879349542337,0.8071990596949378,0.7358857265938208,0.8708031008572834,0.8375439622208629,0.8744178014984394,0.8522374485467635,0.8364338194268611,0.9087357904954662,0.8696539329905674,0.8127902490012127,0.8611315872799277,0.8374380150453448,0.7342712006352846,0.5462864288489163,0.7373844998211558,0.6638977079015094,0.6133747685463327,0.6405743272929268,0.6204906086009756,0.689193068730096,0.6543243756665781,0.701576910089011,0.8234063626651782,0.7919292803036121,0.8201477697087888,0.6185172794210319,0.64198523278304,0.6551796940564963,0.6052050517251495,0.6642222957431739],[0.9082226927271791,0.8370431801334279,0.8195142280404307,0.8190405185114499,0.8212720178849737,1.0000000000000009,0.8116352461310486,0.5685476565322354,0.6103291181169653,0.8169090717370806,0.8361286403082933,0.8021413839247256,0.801524884509736,0.8694363376508324,0.8414589804419769,0.8958278842426112,0.815914011417288,0.8638007092075715,0.8583044387916857,0.8561397742598935,0.8671817584850359,0.8539729076716959,0.8429029499524454,0.8593377039748608,0.8476087593713313,0.8355933152510815,0.8546684376745848,0.8321039763398642,0.8545086578130818,0.8147369063067618,0.7192847367586171,0.692933874628722,0.7387248949861877,0.6905914267988148,0.6735487260157772,0.7004518982718279,0.7124487907586954,0.7321403351055629,0.7709147959583422,0.7702451678622007,0.8071589419451944,0.8321712428104455,0.7959586233537418,0.7788217045055105,0.860247417889723,0.8608101955103085,0.8894592309816746,0.8548098295209668,0.8570051595128365,0.858923340255407,0.8748645460975458,0.8476396323202502,0.8722385669714184,0.8676710284096387,0.7139856900757359,0.5781011840481162,0.7416200538821055,0.6748182326804284,0.6046470042630123,0.6278103203801078,0.5997026173066936,0.6826976272924448,0.704965832639032,0.7057768931605151,0.7590556572230166,0.7531674053870859,0.7770677067230777,0.6145486477350082,0.6168815137743692,0.6456515800621233,0.6176029941087107,0.6350493210691424],[0.7178609471851104,0.8595010369861831,0.7807110779132669,0.7866990114556984,0.8217316830420205,0.8116352461310486,0.9999999999999994,0.5920709059004633,0.546285018757745,0.7938823841340206,0.7927988689314173,0.7847768915522029,0.7894413785490682,0.8727553587376291,0.7944563323169637,0.8675696311351627,0.788575759104243,0.825162334410343,0.8378935563009753,0.8409592196286999,0.8355572795212914,0.8436564732547172,0.8256089714063108,0.8391309101087833,0.8149744607911462,0.802912721205412,0.8393071371907928,0.8320492933805658,0.8575223343607739,0.7854147268797868,0.7193804854750305,0.7149072042834556,0.6767642811802594,0.7107408492096005,0.6526601703512923,0.6850334127132977,0.6806642215047458,0.6983527108858698,0.7278579023735532,0.751335802124571,0.8072364639390306,0.771538269658766,0.7807237735734714,0.7473840883365405,0.8668680356802437,0.8482962927834338,0.8692509956927834,0.853606608739471,0.8275804374464497,0.8556817261045015,0.8412884741954785,0.833991706252553,0.8561019379722912,0.8489873571284089,0.7459754907137803,0.5530566880013428,0.7212651278582947,0.6702548827858993,0.6394404764578336,0.608151386185399,0.5612407024320115,0.7021850465377276,0.6797343802823451,0.7374659331442696,0.7567764766117527,0.7444458614127863,0.7294581551772049,0.5868118002857278,0.6428282331097287,0.6257460045346644,0.6555369453837425,0.6595146177530928],[0.5432345330824666,0.5717521643712513,0.627796537736262,0.5976556630254567,0.6354690332048475,0.5685476565322354,0.5920709059004633,1.0000000000000009,0.7544611208712607,0.5824479885523961,0.5817870010350057,0.5863899178037906,0.5823803533000638,0.6076471732979336,0.6208228711169735,0.6640852798308912,0.6110175999325672,0.6623349008840921,0.6323695567265701,0.6087090844934641,0.6369468195276435,0.617175721633092,0.6406949378537733,0.5955928991052722,0.5814155002965105,0.6360246254978172,0.6285402947618776,0.5606031449773823,0.6603330093316762,0.5710972771260033,0.6389678486038766,0.7678626684302271,0.5069337890322275,0.5389616583655388,0.5240510283388085,0.46544833315574374,0.5146591837301929,0.5467694241776827,0.5908573952187545,0.5589652800206696,0.584475047446399,0.5947388472419751,0.7088892281604265,0.576873656465058,0.5900045618514593,0.5961667803750448,0.6446749610294727,0.618273107767864,0.6052681630466276,0.6281290331210194,0.5945870040370802,0.5829584813056269,0.6290635233972791,0.5948642786335834,0.5520127717363756,0.43304869288907316,0.5632472169762455,0.5230615699611671,0.557969281216746,0.5572254131170687,0.4084817638125171,0.6851266081562423,0.5647812914425044,0.5761695947871887,0.5234479916693504,0.5128875562827803,0.5719090258319,0.48465328793681584,0.5004448334036121,0.47654518987500544,0.4546159679992647,0.4988802213573174],[0.6426435795485388,0.5332278326793884,0.6063865707609032,0.5719407506532165,0.6026987239745554,0.6103291181169653,0.546285018757745,0.7544611208712607,0.9999999999999997,0.5166840210717657,0.583643005711462,0.5750845787836891,0.5263645754373258,0.5853441068255593,0.5793910058149153,0.6181232892794357,0.5958114992312479,0.6244292048806597,0.5988264879954349,0.5693262662768023,0.6008188712743412,0.608186530086218,0.6275286333122396,0.5594845061382426,0.5490700267475305,0.6237436306300633,0.5910658800388507,0.5640391081934623,0.6142772129242073,0.5603125316565964,0.5647992313380352,0.6997295056580547,0.48397646226096636,0.4856807256629902,0.5418766409330869,0.4543610666690927,0.5186552541014203,0.5683533327041018,0.5178714872750944,0.5458242426829657,0.5546111502912598,0.5238877665065631,0.7300849557000086,0.5155788738292731,0.5843978101549054,0.567567689424028,0.6027199909746395,0.5670151178719655,0.554693994937459,0.5911251859001072,0.5610360603743464,0.5452875454705977,0.6085720587860111,0.5567426688154041,0.5324446126897582,0.44325331088834097,0.5690149483633522,0.5113213841837395,0.5312509987349509,0.5095425087101834,0.37527420965081115,0.5898176034172117,0.5058090440305317,0.5165356482997944,0.5405880216770302,0.48697676540943663,0.5385360040028054,0.4879888325341625,0.44281340654574264,0.42230461973036126,0.4596987968464962,0.4843278604718597],[0.6936856093561119,0.761291429345561,0.7734515677200876,0.7651401748834566,0.7920183164187209,0.8169090717370806,0.7938823841340206,0.5824479885523961,0.5166840210717657,0.9999999999999994,0.8406054494623972,0.8206736865317404,0.9365030239524325,0.8403571333374281,0.8114104688132652,0.8365557538697032,0.8133407825714866,0.8482733529104287,0.8120692677143949,0.8352154922845156,0.8168898226707827,0.8079661553432246,0.7914667309590688,0.87729005205906,0.8409014327882527,0.7945908526440639,0.8297650099066622,0.8108382982447101,0.8241853097681221,0.847189395636841,0.6988137747236748,0.6499528055695463,0.7010431833063091,0.6717967884377533,0.6682718982796856,0.7054383606956055,0.695988660697087,0.7256590985772715,0.75138171081286,0.782921616131086,0.7915682494688389,0.7417451877606006,0.7877100404793708,0.7502086164271714,0.8720195552540673,0.8959876119044208,0.91002986272156,0.9170345049445071,0.9558804552074155,0.9346782575055717,0.8953601954096855,0.9218581518695885,0.8945940237614696,0.9290765789883627,0.6963654770594543,0.5354937192358263,0.7317417663604985,0.7223560456343564,0.5963262954597748,0.6147113525471504,0.6225287328839059,0.6862790683059272,0.6321513139101672,0.6636154701204084,0.7405672064734411,0.7661992329920561,0.8079816396521805,0.5851391971531983,0.6081446709750367,0.5551285067521313,0.577851201852746,0.6291129744843804],[0.7517838335050714,0.7986877854007455,0.8035821429430609,0.7738252669789517,0.8080926172606969,0.8361286403082933,0.7927988689314173,0.5817870010350057,0.583643005711462,0.8406054494623972,1.0000000000000007,0.9514251829224237,0.8683756141523745,0.8588484113092291,0.834261096495426,0.8702925808949775,0.8427061404986826,0.862821312825923,0.8583205363712629,0.8428835729853402,0.8421810565903096,0.8432652417976618,0.8147621196207242,0.8251496452551073,0.8480608130120625,0.8081030452665068,0.8433163652662974,0.8053206023862048,0.845293913341935,0.9436544355181989,0.7358435662603316,0.7064900037037966,0.7009524095805264,0.6575441473708733,0.6726464910874568,0.7175620204577994,0.6891750990699819,0.7687776796862466,0.760772477429271,0.7990312599735501,0.782162396029445,0.7590704330878763,0.7870204331612484,0.7613065239514243,0.8684875909779793,0.8909518173903225,0.9051614537919421,0.8750024103863212,0.8855930593337543,0.8801748568318328,0.8599275752737227,0.880560865033988,0.8802953959359784,0.9053208001494135,0.7028921068402599,0.5845968020224691,0.8526932067428312,0.8214448644502838,0.6511916017842476,0.6397047933760692,0.6275214982383508,0.7089674090052356,0.6862068300153515,0.6745225428038689,0.751186264206381,0.7804989461656417,0.7830038947407861,0.6025382688258625,0.6195842908627838,0.6168900242844909,0.6324872402339828,0.6762304568716537],[0.6886852274132678,0.7803727825043791,0.7500772409953439,0.7291500757328507,0.7796541433347806,0.8021413839247256,0.7847768915522029,0.5863899178037906,0.5750845787836891,0.8206736865317404,0.9514251829224237,0.9999999999999999,0.8616450399447861,0.8170771368542413,0.8107244658106729,0.8243510219851292,0.845434957939531,0.8446349132615001,0.8129467144161288,0.8320477280976769,0.8527951499656352,0.8017298042293972,0.8233075955764224,0.8105342924720864,0.82286212284602,0.7872505788229142,0.845494343666781,0.7915610288634675,0.8477201224361112,0.9142839402414561,0.692021886170937,0.6917533999413518,0.6859078759460728,0.6475670371718507,0.647950524315559,0.6804359382552531,0.6564557733626806,0.7712600587340581,0.7500856081414765,0.8039241797545632,0.7849860151636204,0.7475720575080232,0.786053301086693,0.7557524781871805,0.8287854782426414,0.8760580025949232,0.859758769506802,0.8453002635892931,0.8664982703032347,0.8551982854774824,0.8349938830994663,0.8835140051953275,0.8618816494129069,0.877808972145757,0.7288299780189461,0.5668603486829266,0.8652431154404692,0.9109680069764777,0.6701245309214647,0.6732065083560181,0.5915307961749989,0.740853593299132,0.687099731600412,0.688964522452539,0.7368143623505008,0.7621152322643725,0.7588495825648401,0.6133135951302828,0.6435326374471163,0.6111510431323183,0.6699757485877507,0.7060680121071188],[0.664104265473021,0.7563409262668881,0.7608208962530758,0.7438681898803862,0.7881116661390627,0.801524884509736,0.7894413785490682,0.5823803533000638,0.5263645754373258,0.9365030239524325,0.8683756141523745,0.8616450399447861,0.9999999999999997,0.8525054453213123,0.8040144866331086,0.836606873536747,0.8267563215270645,0.8409976504512287,0.8300322274064618,0.8213387913915643,0.8233604911814376,0.8026276730067939,0.7993495074879168,0.8555988370292436,0.8442716392963292,0.7953785689965103,0.8427837814878655,0.8257649054104714,0.8190405537694186,0.8791349180609007,0.7108642200350684,0.6852676242075092,0.686274093883962,0.6509126773752916,0.6582611019876812,0.7043187110742288,0.680949898649655,0.7469562603641541,0.7390141501115672,0.7992460724257159,0.7776163686593659,0.7516647713900647,0.8001404616381318,0.7585241824019731,0.8769306419428575,0.8940071442089309,0.9131455550598748,0.9364129582619911,0.9541559522886083,0.9239986305995282,0.8791142722734542,0.9466319732880116,0.9024897436714202,0.9364373945114524,0.7218028424228691,0.5191051704060647,0.7730244897576071,0.7589579341806398,0.63615071300468,0.6214078659001561,0.5948639745741365,0.6829272218111537,0.6440081186332738,0.6524861941401563,0.7414012096182069,0.7733538124182522,0.8002829097778321,0.612091534509449,0.6347983008933343,0.590340567973717,0.6005636491522768,0.659228443727883],[0.7916122487199273,0.861549748294873,0.888068441809021,0.8199826347555346,0.8489682713901006,0.8694363376508324,0.8727553587376291,0.6076471732979336,0.5853441068255593,0.8403571333374281,0.8588484113092291,0.8170771368542413,0.8525054453213123,1.000000000000001,0.8656486047588238,0.9321039150821367,0.8431497697976447,0.8905831341019291,0.931799743485196,0.861457734418498,0.8781994798139692,0.9218889258167863,0.8603881077680884,0.933254546502439,0.88063742307515,0.8550574772485359,0.8993534994172004,0.9176356120491641,0.9050563473748762,0.8442928364468871,0.7898218422690026,0.7339503328991935,0.7517316532341971,0.7081245156150769,0.7254851256348854,0.7691999346755868,0.7532650534582872,0.7581450542432236,0.7776364441875976,0.8174520102506108,0.8819755558444234,0.8352629359795684,0.8228831818628981,0.828082613023807,0.9301152652478162,0.8856982077941592,0.9452226048014915,0.898632228192562,0.8827557063873264,0.9009848786414891,0.8926868123963062,0.8781961712429174,0.9205770000239343,0.9176319645626816,0.7862282596894482,0.5471111357787171,0.7845462588385615,0.6894562736560103,0.6652114679470458,0.6399156146744563,0.6259887102014239,0.7174226924669189,0.7273382004987403,0.758116585137896,0.8175544320619837,0.8191537225635314,0.8209322701614434,0.6693196446768506,0.705140505897175,0.6714058438773298,0.6590202999258918,0.6876245191962322],[0.8129614370522426,0.838993183135502,0.8096253918867637,0.8166884809985436,0.8766984454309945,0.8414589804419769,0.7944563323169637,0.6208228711169735,0.5793910058149153,0.8114104688132652,0.834261096495426,0.8107244658106729,0.8040144866331086,0.8656486047588238,0.9999999999999999,0.9045167112489285,0.872284982162891,0.8815701360249897,0.890099484283459,0.899051602447221,0.9195712346049235,0.8646501422628603,0.8879933179097573,0.8580426076403781,0.8500474553797742,0.8535688786334652,0.8566821139502383,0.8477294809227437,0.8787346910343377,0.8554017592679914,0.7137483568038743,0.6935849588056585,0.7252119652894522,0.6834871585083544,0.7627508662584176,0.7781462612504798,0.8270915987218049,0.7632831628110979,0.8200172836111516,0.8479988902514637,0.8175731979892147,0.823164184378268,0.8270251238995497,0.7966269035065112,0.8350716330190234,0.8396354846661758,0.8810209955221061,0.8836525200983114,0.8697607269750038,0.8579667621614332,0.9135910626027716,0.8275083180340868,0.8737384155890634,0.8541314874492084,0.740457185207014,0.5837929839086695,0.7244249169887824,0.6568124490678323,0.668701145909732,0.6480437993877255,0.6384619167633083,0.7101829862530432,0.6911625903242491,0.6776068600785335,0.8369167446258817,0.8127955745418491,0.8330235180344248,0.6474632795205183,0.6576124549872729,0.7313305181393518,0.5981500905578756,0.6657792096312538],[0.8317519524759949,0.8706615303031311,0.8919001497797353,0.8611339798469952,0.8863684640853365,0.8958278842426112,0.8675696311351627,0.6640852798308912,0.6181232892794357,0.8365557538697032,0.8702925808949775,0.8243510219851292,0.836606873536747,0.9321039150821367,0.9045167112489285,1.0000000000000007,0.8616302167027535,0.9119611018781906,0.9330786323064493,0.8919138476514311,0.9084783977437739,0.9316488478322928,0.8812904866634093,0.9018852444666273,0.8875646223635932,0.8874894802162827,0.8998852647543372,0.8818454325770543,0.9017187253922768,0.8516941735720716,0.801958890923708,0.7406835138118747,0.7564128429289447,0.7106627902603653,0.7462699428948268,0.7600240783640778,0.7819276620881487,0.7777976918574404,0.8389782676116941,0.7975607385818465,0.8394831148824684,0.9050780333900609,0.8355739473024139,0.7993174893570805,0.9107930794172692,0.8888106715819154,0.9589081010411401,0.9014881972591529,0.8895733089452604,0.9005444866884446,0.9029167125725291,0.8691543882292083,0.9094762789975828,0.9062366257920468,0.8104427784331003,0.5994078112766603,0.7693486291602019,0.6994765427671727,0.6753176201019927,0.6608104888947065,0.6252943286274509,0.7351039448200136,0.7253076558326568,0.7456141777417622,0.8042421894780656,0.7983636003463147,0.8220576438662631,0.63505146953205,0.6567729479602293,0.7273687039697649,0.6561782587912329,0.7096881423149202],[0.7449390758425103,0.7976682821777568,0.7728463216792806,0.7574267031715001,0.8097059791359982,0.815914011417288,0.788575759104243,0.6110175999325672,0.5958114992312479,0.8133407825714866,0.8427061404986826,0.845434957939531,0.8267563215270645,0.8431497697976447,0.872284982162891,0.8616302167027535,1.0000000000000002,0.8916728418359773,0.8765004201174653,0.852588397185918,0.8999948600819644,0.8195419962654659,0.9191944692555112,0.8558614233179376,0.8577593046559434,0.8467325502012785,0.8836127147709327,0.8397261286436583,0.88087201621094,0.8578035685741087,0.7249434699237615,0.7500053666444083,0.6803409793326671,0.6673238585376167,0.7076393956817201,0.7382727932983406,0.7194368406209252,0.7826645694978368,0.7811534107732803,0.8758754168557931,0.8291073973213795,0.778498703682783,0.805684790828654,0.8159958676291748,0.8723967052940479,0.8777710396552783,0.8815413471152935,0.8588700608797512,0.8570832419843717,0.8732970624486688,0.8771734983333758,0.867878143532695,0.904178372458491,0.8917601416991243,0.7819460051474794,0.6327706908358527,0.7910759161042717,0.7239120861464475,0.7573057722187283,0.7083168416390608,0.6239792533941493,0.785670870325025,0.7332870500517665,0.7003898945584871,0.7547230194901196,0.7757121568211892,0.8168767169508613,0.6514451189241891,0.6876784838010794,0.6775140994759088,0.6730638536103453,0.7320286999682739],[0.7801087850890085,0.8200980847763039,0.8216810628759277,0.8132858826945928,0.8571583447511881,0.8638007092075715,0.825162334410343,0.6623349008840921,0.6244292048806597,0.8482733529104287,0.862821312825923,0.8446349132615001,0.8409976504512287,0.8905831341019291,0.8815701360249897,0.9119611018781906,0.8916728418359773,1.0,0.8955219694646211,0.8858071630468463,0.906050636605123,0.8611363935668982,0.8924971927547108,0.9007255347307154,0.8682764822116962,0.8601577159419675,0.9395558654540144,0.8707161797115139,0.9069639980739459,0.8624577012416268,0.754709779345151,0.7406627878312029,0.7242201307298236,0.7068259893479254,0.7271189840839574,0.7484622685211967,0.7323703305030823,0.7773559707963741,0.8075623994968741,0.8334217919885846,0.8642543493198996,0.8134691211378018,0.8402183661149847,0.8085190871833038,0.8984086785402374,0.8846351500173336,0.921410293357951,0.8901778608001373,0.8839438019712278,0.8915666773142272,0.8937084510271314,0.8799885861250644,0.9244970867126211,0.9163877147581835,0.7720003707930366,0.5938786804124377,0.795346764065315,0.7128148530472749,0.6722570512146369,0.6581293889363703,0.6119017980648199,0.7914380011687522,0.7630598895152373,0.7399184406211529,0.7859958966489649,0.8156784780062409,0.821621071096397,0.7191143038720196,0.67152056947982,0.6661908588770441,0.6986788144726345,0.7237782701676092],[0.8043349101308205,0.8511768590013072,0.8790854132975875,0.8305656285361253,0.8727699830206789,0.8583044387916857,0.8378935563009753,0.6323695567265701,0.5988264879954349,0.8120692677143949,0.8583205363712629,0.8129467144161288,0.8300322274064618,0.931799743485196,0.890099484283459,0.9330786323064493,0.8765004201174653,0.8955219694646211,0.9999999999999997,0.8627116697374563,0.9082921458176769,0.9202181724319202,0.8778427529388055,0.8792349858435254,0.8605941004871435,0.867825991689982,0.8741163375889943,0.8680448177134893,0.902842721979959,0.8530036727033586,0.7654279306911955,0.7422683644742439,0.7150030165664696,0.6955858147928322,0.743077200247731,0.7767637976690152,0.7805092108502004,0.7825777980120767,0.7960931044561402,0.8190069332982403,0.8381615883266841,0.8142423791127809,0.8090752920136606,0.7857432576688221,0.9117237142425222,0.869029420955227,0.9398552994122751,0.897707162615088,0.8660457945602976,0.8923831915897026,0.8950082410784976,0.850377036455588,0.9042738352504707,0.8980484191429235,0.7509398490811438,0.5962721285998301,0.7741824732176485,0.692173212988586,0.6705517081220116,0.6645121733246026,0.6388992410754601,0.7078587590175018,0.7161795368117593,0.7531612036198588,0.793651977160395,0.800804329098507,0.8294895123800764,0.6419158154335876,0.6540828159712705,0.6907958766888883,0.6005076059359151,0.6582665888324333],[0.7782699001889961,0.8233364129657995,0.7736667299566753,0.8334837030929523,0.8693630934242732,0.8561397742598935,0.8409592196286999,0.6087090844934641,0.5693262662768023,0.8352154922845156,0.8428835729853402,0.8320477280976769,0.8213387913915643,0.861457734418498,0.899051602447221,0.8919138476514311,0.852588397185918,0.8858071630468463,0.8627116697374563,1.0,0.8972537629793569,0.861332892234567,0.8695385196977534,0.8506719284181277,0.8776309201301645,0.8694409419776632,0.8815116598593628,0.8606853816054315,0.8645153983215604,0.8678931826868279,0.6918623924194633,0.7143400808064075,0.7173261098006829,0.7170476846593936,0.7786482221165608,0.7886230678402676,0.7999470784845932,0.7920820329155046,0.7827212013349039,0.7850551957394445,0.8022444854194513,0.7700728994738656,0.8381111741651955,0.7760091257726389,0.8712902470991315,0.8700516139960989,0.8800997190112322,0.8850614960748138,0.8811418797958186,0.872428345366869,0.9073637489450442,0.8597472335883924,0.8855169014802863,0.8634434793209452,0.779073364628138,0.6027208743748709,0.7525116917037659,0.7234775528851122,0.6685212094505957,0.650753460292966,0.6699757854740707,0.7159279466227283,0.6951827354439123,0.7288394263938538,0.8284032807566132,0.8203306402603305,0.8365594414487126,0.6328631429472764,0.6689340373487525,0.6894991706403714,0.6447855938109645,0.6612170434437976],[0.7899230786340018,0.868667515584185,0.8101655672366669,0.806635637112381,0.8624236922500854,0.8671817584850359,0.8355572795212914,0.6369468195276435,0.6008188712743412,0.8168898226707827,0.8421810565903096,0.8527951499656352,0.8233604911814376,0.8781994798139692,0.9195712346049235,0.9084783977437739,0.8999948600819644,0.906050636605123,0.9082921458176769,0.8972537629793569,1.0000000000000007,0.8806149463361481,0.9368551205137021,0.8667899401722412,0.8791095254666279,0.8557221938113158,0.8921563168531632,0.857222506799094,0.9154528625918921,0.8581665909355739,0.7787929052183344,0.7320211126109868,0.7774047083971295,0.7217195407379575,0.7162436049847538,0.7621017473796902,0.7433587575934383,0.7681387322620511,0.8109645866133234,0.8431604362827356,0.8237388738582135,0.8457384501929582,0.806631107096387,0.8138724444936278,0.8900270069037439,0.8741810759189295,0.8989035692602815,0.8793782348507159,0.8751290773649043,0.8870483886191194,0.9052317032775038,0.8805698896962768,0.8970878490462271,0.8872016281522278,0.807360343268127,0.6196007116468725,0.7662525329069748,0.7172553477657921,0.7205134204151997,0.6873431869741866,0.6039313134153497,0.7277191775474137,0.7812530498551189,0.7330396836039159,0.819293427535458,0.8000640454181059,0.7977819588846446,0.6691507545948996,0.6822192642419892,0.7672660884070998,0.6594532828357825,0.709406993667302],[0.8055209033998686,0.8390773789454506,0.9209027088564669,0.8293143317511913,0.8608903693591436,0.8539729076716959,0.8436564732547172,0.617175721633092,0.608186530086218,0.8079661553432246,0.8432652417976618,0.8017298042293972,0.8026276730067939,0.9218889258167863,0.8646501422628603,0.9316488478322928,0.8195419962654659,0.8611363935668982,0.9202181724319202,0.861332892234567,0.8806149463361481,0.9999999999999999,0.8662825486339102,0.8758948599138634,0.8411140277328916,0.8559499805435921,0.8473804866832625,0.8757280043959311,0.8779561712336708,0.8354787346998878,0.7551913039649856,0.7203410103820859,0.7188217936568893,0.6687564219099456,0.7607425089614498,0.7791689812988671,0.7699588223648304,0.7731437632684249,0.7769401703806293,0.7669191305707587,0.83256695562852,0.8224129485015482,0.7845023047428245,0.7625472138926198,0.8806091911487276,0.8545342893703168,0.9020394027489823,0.8706539525066546,0.8473209664082744,0.8725364968964762,0.877267856694797,0.82307516747759,0.8769495789596644,0.8655391914029543,0.7509997079793204,0.582238485046993,0.7355810120998134,0.6885357593700426,0.6396908809897244,0.6640027668356991,0.6568814292380044,0.6837390657412384,0.690926861066699,0.7237163021187174,0.814936491649758,0.807910570422753,0.8024622858977195,0.605948207912566,0.6218500373257443,0.7152853981866841,0.6137534589764885,0.6498739458032244],[0.7697662639960996,0.8283146471703473,0.7905090904766914,0.7952123857288845,0.840376685405853,0.8429029499524454,0.8256089714063108,0.6406949378537733,0.6275286333122396,0.7914667309590688,0.8147621196207242,0.8233075955764224,0.7993495074879168,0.8603881077680884,0.8879933179097573,0.8812904866634093,0.9191944692555112,0.8924971927547108,0.8778427529388055,0.8695385196977534,0.9368551205137021,0.8662825486339102,0.999999999999999,0.8710884835074335,0.8478044216784035,0.8472267489742198,0.8822076296495659,0.860573126185163,0.8970461105365092,0.8308276764798638,0.7323122461714584,0.7220384357850654,0.7318615487232261,0.6868242874048268,0.7023104253557984,0.7479985510451879,0.7177502199177178,0.7549143696785071,0.7854657630617536,0.8543592945355832,0.8336879947733887,0.8086224683589504,0.8216346326821424,0.815866722723284,0.8701513673354547,0.8692255688903792,0.8651436208936207,0.8562776167163362,0.8480933495657559,0.8782338627491211,0.8793393932100612,0.8524554675055488,0.8992303078825024,0.8716142151190552,0.8340206246623698,0.618848855362961,0.7389517438681842,0.6897270749363007,0.7496708840132582,0.7084285903905838,0.6123496126833519,0.7524764589300335,0.7254806412456208,0.7297789193381778,0.7937065155727944,0.7861330226131458,0.7964719198013986,0.6761215274676103,0.6950728639337049,0.748108597137417,0.6649146243171157,0.6964799484925502],[0.7736925532839479,0.8318545222430429,0.8333896040814178,0.8099474238375897,0.8275711103051205,0.8593377039748608,0.8391309101087833,0.5955928991052722,0.5594845061382426,0.87729005205906,0.8251496452551073,0.8105342924720864,0.8555988370292436,0.933254546502439,0.8580426076403781,0.9018852444666273,0.8558614233179376,0.9007255347307154,0.8792349858435254,0.8506719284181277,0.8667899401722412,0.8758948599138634,0.8710884835074335,0.9999999999999997,0.8403748933733108,0.8415082286000996,0.8982076137001505,0.9290343954093566,0.9075970444436572,0.8205818413894518,0.7577158660757277,0.7021091012483788,0.7529035788388667,0.7140232849864638,0.7065156307348515,0.7437817996863776,0.7312673153635624,0.743124226355643,0.8212610993622953,0.8394023992736764,0.8994470849596232,0.8381041876892797,0.8386393576990625,0.8162801178316368,0.8958398628115177,0.8963944297648871,0.9192991955546932,0.8765544886660507,0.8939278261599368,0.8936039559395793,0.8872537609665958,0.8818191444455727,0.9072827305304775,0.9172488298895688,0.7780336355167153,0.5392181319729692,0.75582075140052,0.6836510682560236,0.6552704240844157,0.6536983694410639,0.6106505681013311,0.741028713939698,0.6869399786640848,0.739794725077934,0.8177880243063534,0.8111573707120433,0.8269899820892435,0.6513916432733887,0.6729258026543968,0.6983344741004519,0.6818719741452454,0.6765555721545358],[0.7430017802110688,0.8257185539513906,0.8010489545358962,0.8059204696987494,0.8352579959467685,0.8476087593713313,0.8149744607911462,0.5814155002965105,0.5490700267475305,0.8409014327882527,0.8480608130120625,0.82286212284602,0.8442716392963292,0.88063742307515,0.8500474553797742,0.8875646223635932,0.8577593046559434,0.8682764822116962,0.8605941004871435,0.8776309201301645,0.8791095254666279,0.8411140277328916,0.8478044216784035,0.8403748933733108,0.9999999999999997,0.8617689982491271,0.8993067161230006,0.8459293255391866,0.8498387724444586,0.9026676425958539,0.7336597188066131,0.6998203068887864,0.718359405325098,0.691874548287672,0.7379659339582366,0.8515340099708247,0.7635191301504624,0.7760846201962469,0.755645329799512,0.8163577134800082,0.7804191841702148,0.7875160894099198,0.7650711769247832,0.7871708754421376,0.8987605620953129,0.8892305726178211,0.9016063986428955,0.8769487350070447,0.879268287940457,0.8956222079338579,0.9040225484932572,0.8962219648715365,0.8946649638144907,0.899625647314622,0.7808678905222417,0.542808148777117,0.7640019739677715,0.6977742651174621,0.6369655474474214,0.5898161737074817,0.7564852450646466,0.6990654619774355,0.7351809197427823,0.7086580495549551,0.811286301352177,0.8705605333503654,0.8544393598152319,0.6166038201309921,0.6730498922749679,0.6383075004076477,0.6791382065284949,0.7046325990525338],[0.8129909116565545,0.8282704501564124,0.8269703693021372,0.7936562766739039,0.8388596365337442,0.8355933152510815,0.802912721205412,0.6360246254978172,0.6237436306300633,0.7945908526440639,0.8081030452665068,0.7872505788229142,0.7953785689965103,0.8550574772485359,0.8535688786334652,0.8874894802162827,0.8467325502012785,0.8601577159419675,0.867825991689982,0.8694409419776632,0.8557221938113158,0.8559499805435921,0.8472267489742198,0.8415082286000996,0.8617689982491271,1.0000000000000002,0.8525109680144277,0.8627102474121452,0.8622436701806193,0.8294420172997995,0.7121472473286747,0.7111542239123477,0.7011548563906079,0.7004140666297937,0.8066635374586855,0.7736835178282845,0.8222546816260794,0.8306483933831346,0.742259092891522,0.7837493653937623,0.791064306008186,0.7778892875831471,0.8027787442431144,0.7937442231868125,0.8431307071718509,0.83849137620878,0.8706709836880832,0.8509591834875202,0.8274046073391094,0.8448807615695669,0.8570683578866949,0.8153227969010844,0.861871902170136,0.8474706422866767,0.7489882166875147,0.609337256126933,0.7462545208104686,0.6821521625355338,0.6645555099129337,0.6513207778582876,0.6783661068260308,0.7888007850113404,0.6467043463599986,0.7206432559562974,0.7834302305204354,0.807329048745352,0.8346703310168547,0.6172398738026864,0.6481714128998469,0.6276988867133749,0.6912618936674448,0.6889587165041949],[0.74153586327076,0.835732866644411,0.7948262106444888,0.8027436971988147,0.8473617143891513,0.8546684376745848,0.8393071371907928,0.6285402947618776,0.5910658800388507,0.8297650099066622,0.8433163652662974,0.845494343666781,0.8427837814878655,0.8993534994172004,0.8566821139502383,0.8998852647543372,0.8836127147709327,0.9395558654540144,0.8741163375889943,0.8815116598593628,0.8921563168531632,0.8473804866832625,0.8822076296495659,0.8982076137001505,0.8993067161230006,0.8525109680144277,1.0000000000000007,0.8837235478354535,0.8995173386929672,0.8639322356981557,0.7344103590551857,0.7190172754999307,0.7396725173630158,0.7140491575881004,0.7340745910107268,0.7674290832952272,0.739911417262841,0.7932807919710355,0.7938771931249026,0.8160928799953786,0.8523950752156608,0.8273930636005009,0.8183521874740166,0.7941504067922114,0.8936175642672212,0.8852312743834595,0.9062264714380761,0.8764877016700852,0.8807691766268838,0.8892661028667653,0.8934082151561544,0.8890941568313957,0.9088964050519406,0.913519030935574,0.8049660341293605,0.5476139623371237,0.7952397415486145,0.7338403673919699,0.6740455379653815,0.6545563688495459,0.6469556739583489,0.802868015464728,0.7557020085079954,0.7542509692138002,0.8034979471679249,0.8229740518152979,0.8237309691763502,0.7115714656019897,0.699903232700968,0.6655068347398043,0.742411845802201,0.7574374400540963],[0.7671238583236991,0.820304663154265,0.8010300264408985,0.7920916484561714,0.8190732459431962,0.8321039763398642,0.8320492933805658,0.5606031449773823,0.5640391081934623,0.8108382982447101,0.8053206023862048,0.7915610288634675,0.8257649054104714,0.9176356120491641,0.8477294809227437,0.8818454325770543,0.8397261286436583,0.8707161797115139,0.8680448177134893,0.8606853816054315,0.857222506799094,0.8757280043959311,0.860573126185163,0.9290343954093566,0.8459293255391866,0.8627102474121452,0.8837235478354535,1.0000000000000004,0.8834755862870042,0.8145444851222343,0.7292269256457843,0.6830626558943871,0.709505795284673,0.6804335141263969,0.7346197455047464,0.769553577439979,0.7353615329161763,0.7562925413690569,0.7778209369734973,0.8114082740814071,0.8602893225742632,0.8073045037591684,0.83875399718029,0.8160352622668523,0.885499234935937,0.8550340648449646,0.8823132087926403,0.8593582393956296,0.8490362494369538,0.8543381626490328,0.8656485590914204,0.8467305892028647,0.8873929648637255,0.8712834788910246,0.8222680657215666,0.5444730545853183,0.7491410873631957,0.6811634085188267,0.6912978702149971,0.6552451717431624,0.616634780851746,0.7141062455395492,0.6976553602057703,0.7384267667461135,0.8369396413573558,0.8255959384226079,0.8145948834920359,0.6498461830477589,0.6925743465840054,0.7211515932466344,0.6921094898003344,0.6806424526701443],[0.7733279309131824,0.8486886681694249,0.8300836346168303,0.7936058771725267,0.834814018246314,0.8545086578130818,0.8575223343607739,0.6603330093316762,0.6142772129242073,0.8241853097681221,0.845293913341935,0.8477201224361112,0.8190405537694186,0.9050563473748762,0.8787346910343377,0.9017187253922768,0.88087201621094,0.9069639980739459,0.902842721979959,0.8645153983215604,0.9154528625918921,0.8779561712336708,0.8970461105365092,0.9075970444436572,0.8498387724444586,0.8622436701806193,0.8995173386929672,0.8834755862870042,0.9999999999999997,0.8381287111087261,0.7472425859471489,0.7588058082572771,0.7259855012166101,0.7086401447994315,0.7097232938567882,0.7411785849774104,0.7335583100440872,0.7546790300842731,0.7775149682972005,0.8516559040974563,0.9131617006973487,0.7991191832204365,0.8098990276548504,0.7931914144807036,0.8731360313775905,0.859027527113076,0.909883870872254,0.8693788427180205,0.8616381662163304,0.8753074144075249,0.8706090305850431,0.8538221975833518,0.8925359330190472,0.9006777109098557,0.7796374147040426,0.5947214742131919,0.8063020777780362,0.7448711210920851,0.7208311466916533,0.7125814704458262,0.6138906516105151,0.810945664492238,0.7360705064022525,0.7744751855970281,0.8078459503576916,0.8111411258681183,0.8071722962343402,0.6893526537640807,0.6775975300137278,0.707774967159841,0.6663741090966974,0.7200013265262624],[0.7364601320823041,0.7795408521321399,0.7872834533915054,0.7809272527233005,0.8254275596310723,0.8147369063067618,0.7854147268797868,0.5710972771260033,0.5603125316565964,0.847189395636841,0.9436544355181989,0.9142839402414561,0.8791349180609007,0.8442928364468871,0.8554017592679914,0.8516941735720716,0.8578035685741087,0.8624577012416268,0.8530036727033586,0.8678931826868279,0.8581665909355739,0.8354787346998878,0.8308276764798638,0.8205818413894518,0.9026676425958539,0.8294420172997995,0.8639322356981557,0.8145444851222343,0.8381287111087261,0.999999999999999,0.7121758280222759,0.6893258769635169,0.6996013021845375,0.6805018177891191,0.7739294305313689,0.8327086411387864,0.7972277862615007,0.8309238877132097,0.7585481799251165,0.8439235752355565,0.776106866856502,0.749572476120979,0.7810711230753266,0.7651987659374174,0.8783203642402105,0.8857290203213725,0.889794216153246,0.88445680433417,0.8884020519913093,0.8824302155133618,0.8847515312937557,0.8840912006144177,0.8830994736924952,0.8915809222649735,0.7115750757998948,0.5559221476606633,0.8202740191712548,0.7841053976407991,0.6532622545033439,0.6127454115632185,0.7359502921966121,0.7010052701433883,0.6814379955415112,0.6709748709028613,0.8315082365304487,0.8607894316572553,0.8591440264878087,0.6044709138468701,0.6305796019604603,0.6230165410461466,0.628117008436651,0.6714657503974989],[0.6666661142733556,0.7367931448372206,0.7714706362040642,0.6938675960143955,0.7188150960182981,0.7192847367586171,0.7193804854750305,0.6389678486038766,0.5647992313380352,0.6988137747236748,0.7358435662603316,0.692021886170937,0.7108642200350684,0.7898218422690026,0.7137483568038743,0.801958890923708,0.7249434699237615,0.754709779345151,0.7654279306911955,0.6918623924194633,0.7787929052183344,0.7551913039649856,0.7323122461714584,0.7577158660757277,0.7336597188066131,0.7121472473286747,0.7344103590551857,0.7292269256457843,0.7472425859471489,0.7121758280222759,0.9999999999999999,0.7253357659928514,0.6338235663781469,0.5684811965928175,0.552794668256809,0.6086284578210853,0.5918667560776176,0.6041405633077072,0.713723965582927,0.7027039989950347,0.6922106558240817,0.7424217664463043,0.7241708368382813,0.7088915277377452,0.7883183731182967,0.754692167420177,0.8061763173839068,0.7557746153123777,0.7363366322901392,0.7670214872542778,0.7471629826286701,0.7368264908185947,0.7655927885229348,0.7523461740070431,0.6593603378263809,0.4470875906047961,0.676614999067197,0.5635150407535207,0.5892950189164459,0.5301532387951184,0.5253823550343185,0.6137042193059348,0.6428889805646879,0.6414508195795516,0.6424979498284039,0.6439404338609713,0.6616222827380378,0.5177065865025641,0.5391314133414078,0.5834817831502,0.5247765991787671,0.5790634297819149],[0.6495681739920064,0.6805350919867605,0.7307661410469307,0.644747331366214,0.7032764416426094,0.692933874628722,0.7149072042834556,0.7678626684302271,0.6997295056580547,0.6499528055695463,0.7064900037037966,0.6917533999413518,0.6852676242075092,0.7339503328991935,0.6935849588056585,0.7406835138118747,0.7500053666444083,0.7406627878312029,0.7422683644742439,0.7143400808064075,0.7320211126109868,0.7203410103820859,0.7220384357850654,0.7021091012483788,0.6998203068887864,0.7111542239123477,0.7190172754999307,0.6830626558943871,0.7588058082572771,0.6893258769635169,0.7253357659928514,0.9999999999999996,0.5827893212159416,0.5708088429497322,0.5999985510105756,0.5626404074247613,0.5958608493780889,0.6528812306589131,0.6465953237538203,0.691846206296826,0.7292394027128594,0.6371889511172776,0.7541456404849004,0.6461825388487918,0.7120366987477752,0.7233102073953357,0.7461558529319055,0.7100515379266655,0.686490668663643,0.7235233393902367,0.6898303873515108,0.6911619843689217,0.7317461309129422,0.7187380577667818,0.6375826727338154,0.46914692594933105,0.7034898075206673,0.5961444161626407,0.6201243985696915,0.5465273963875334,0.5000620543897829,0.7000684903850143,0.6418822358273334,0.6606963476450008,0.6011169448952889,0.6128062789337552,0.6339380152906978,0.5439331636321436,0.5650913917685215,0.5874487599798085,0.5423912321786484,0.5778834311876141],[0.6903922370267519,0.7558547829914134,0.678070544254557,0.6967787441687533,0.726699261113131,0.7387248949861877,0.6767642811802594,0.5069337890322275,0.48397646226096636,0.7010431833063091,0.7009524095805264,0.6859078759460728,0.686274093883962,0.7517316532341971,0.7252119652894522,0.7564128429289447,0.6803409793326671,0.7242201307298236,0.7150030165664696,0.7173261098006829,0.7774047083971295,0.7188217936568893,0.7318615487232261,0.7529035788388667,0.718359405325098,0.7011548563906079,0.7396725173630158,0.709505795284673,0.7259855012166101,0.6996013021845375,0.6338235663781469,0.5827893212159416,0.9999999999999991,0.6871151364899335,0.6015184080487721,0.6079407659827705,0.5954394841737545,0.6384357008831582,0.6711965347972454,0.6484758736712396,0.6711734383808579,0.7416873533042488,0.661595420555415,0.6855839527172282,0.7510726859950604,0.7503333000156704,0.748941986728634,0.7055145803353309,0.7280881554746496,0.7446620479360421,0.7379581883299904,0.7529346720689958,0.7321872609579108,0.7483438678962452,0.631469987074369,0.4564718878001932,0.5972078379040676,0.5666377135089424,0.5433222936459836,0.5439270958254476,0.44078154024871735,0.5729953508525293,0.6099209370325068,0.6489965323977734,0.6915478076358117,0.6238585492638872,0.6574173395933758,0.5783613889924138,0.5401211883512552,0.61398561355939,0.5504524506118452,0.5814074947911267],[0.6589786828521567,0.7313465413339032,0.6451603437590159,0.704799349669453,0.7331945396309758,0.6905914267988148,0.7107408492096005,0.5389616583655388,0.4856807256629902,0.6717967884377533,0.6575441473708733,0.6475670371718507,0.6509126773752916,0.7081245156150769,0.6834871585083544,0.7106627902603653,0.6673238585376167,0.7068259893479254,0.6955858147928322,0.7170476846593936,0.7217195407379575,0.6687564219099456,0.6868242874048268,0.7140232849864638,0.691874548287672,0.7004140666297937,0.7140491575881004,0.6804335141263969,0.7086401447994315,0.6805018177891191,0.5684811965928175,0.5708088429497322,0.6871151364899335,0.9999999999999998,0.6232891605243742,0.5797919617190982,0.6246250114797387,0.6430861790485273,0.6581725944973122,0.6122678391713275,0.6484372399146986,0.6234071017905216,0.6545513919739461,0.6324427144996425,0.7492364749683291,0.7235514223779058,0.7175139193417603,0.698502840117599,0.7077321006655026,0.719339983553006,0.7340613089223409,0.6937809499765067,0.7118172690362151,0.6966592656585382,0.6264501267896444,0.4672155967917584,0.609963204859621,0.5580457841596261,0.5152815432526098,0.49447006695256085,0.4697307717850773,0.603051229961027,0.5527919736790365,0.5914429020129268,0.7003608718787138,0.6185454101916691,0.6816025610342636,0.5298380317543606,0.5163123835969878,0.5239072502665643,0.511699158430248,0.5076675569929572],[0.7423589373196975,0.6755486211973163,0.7051548683030407,0.6908792543709917,0.7810320116843305,0.6735487260157772,0.6526601703512923,0.5240510283388085,0.5418766409330869,0.6682718982796856,0.6726464910874568,0.647950524315559,0.6582611019876812,0.7254851256348854,0.7627508662584176,0.7462699428948268,0.7076393956817201,0.7271189840839574,0.743077200247731,0.7786482221165608,0.7162436049847538,0.7607425089614498,0.7023104253557984,0.7065156307348515,0.7379659339582366,0.8066635374586855,0.7340745910107268,0.7346197455047464,0.7097232938567882,0.7739294305313689,0.552794668256809,0.5999985510105756,0.6015184080487721,0.6232891605243742,1.0,0.8209829846369093,0.9354588853512857,0.9411944061534349,0.6098337555811675,0.6809301528664159,0.6765220902225911,0.6149015125353023,0.6766057778788893,0.6326468880917856,0.6897684479627089,0.6703527753630566,0.7169923124458153,0.7077994882646905,0.6913084181431612,0.6975828031218746,0.7161443870739633,0.6355378618152039,0.7211787323767107,0.6814190230689425,0.6114556637399199,0.4848700950419078,0.6379437806733635,0.5793432262721443,0.5084000371649723,0.4929264320530154,0.7201609893626207,0.5958788772873848,0.5043360790496925,0.5699914113408318,0.8045739680638805,0.8125428161456635,0.7843637403259286,0.540393447201579,0.5457883879093637,0.5318798917085993,0.5226701074295813,0.5746603397443555],[0.6973447514898634,0.702805960826457,0.7152888471404605,0.7125206656779066,0.755666123310363,0.7004518982718279,0.6850334127132977,0.46544833315574374,0.4543610666690927,0.7054383606956055,0.7175620204577994,0.6804359382552531,0.7043187110742288,0.7691999346755868,0.7781462612504798,0.7600240783640778,0.7382727932983406,0.7484622685211967,0.7767637976690152,0.7886230678402676,0.7621017473796902,0.7791689812988671,0.7479985510451879,0.7437817996863776,0.8515340099708247,0.7736835178282845,0.7674290832952272,0.769553577439979,0.7411785849774104,0.8327086411387864,0.6086284578210853,0.5626404074247613,0.6079407659827705,0.5797919617190982,0.8209829846369093,0.9999999999999999,0.8234403868479118,0.7783859543220585,0.6432606560920376,0.7412983713758252,0.673270710995004,0.6381100238355517,0.6457239164258549,0.646889485245837,0.7706145732958152,0.7445253859669865,0.7640324871182048,0.7560465581482301,0.7375978007165055,0.7525596575945659,0.798524997260724,0.7063772215695319,0.7554289708519827,0.7412628907031976,0.635589244196152,0.46277599636328615,0.6185173794118838,0.5740500279584114,0.5443381919527452,0.46231478533771264,0.8287214314083627,0.5606368518795091,0.5796443202688112,0.6063855190183047,0.8457815570580892,0.9416758193087985,0.8051266356548231,0.5015048649481212,0.5481330397334587,0.6000263183829688,0.5587253935094368,0.550777589629604],[0.766031953949189,0.71630259058669,0.7420128090159858,0.7235125050002488,0.7874101446233336,0.7124487907586954,0.6806642215047458,0.5146591837301929,0.5186552541014203,0.695988660697087,0.6891750990699819,0.6564557733626806,0.680949898649655,0.7532650534582872,0.8270915987218049,0.7819276620881487,0.7194368406209252,0.7323703305030823,0.7805092108502004,0.7999470784845932,0.7433587575934383,0.7699588223648304,0.7177502199177178,0.7312673153635624,0.7635191301504624,0.8222546816260794,0.739911417262841,0.7353615329161763,0.7335583100440872,0.7972277862615007,0.5918667560776176,0.5958608493780889,0.5954394841737545,0.6246250114797387,0.9354588853512857,0.8234403868479118,0.9999999999999997,0.876509113138215,0.6422187987755739,0.725137746550539,0.6994934970970607,0.6549273744120742,0.7005098479526918,0.6456240702942766,0.712159989040712,0.6850700585093882,0.7539215178144227,0.7620247699595508,0.7315186813123971,0.7239719760196881,0.7678901080878198,0.6514012287619365,0.7396489072783212,0.6987100357030195,0.6114961937992738,0.5164847736542468,0.6444178661214082,0.585512010221939,0.5370263651555137,0.4987574744105239,0.7436526117756981,0.600114540477132,0.5126492912887058,0.5668593537667024,0.8195459376372876,0.8158080071051047,0.8410135848703774,0.5262434665883668,0.5299059145168619,0.5347190379058401,0.5086675160293255,0.5485871353301814],[0.744060543826963,0.7210803327692176,0.7268386340547908,0.7149209938369167,0.8058579344937216,0.7321403351055629,0.6983527108858698,0.5467694241776827,0.5683533327041018,0.7256590985772715,0.7687776796862466,0.7712600587340581,0.7469562603641541,0.7581450542432236,0.7632831628110979,0.7777976918574404,0.7826645694978368,0.7773559707963741,0.7825777980120767,0.7920820329155046,0.7681387322620511,0.7731437632684249,0.7549143696785071,0.743124226355643,0.7760846201962469,0.8306483933831346,0.7932807919710355,0.7562925413690569,0.7546790300842731,0.8309238877132097,0.6041405633077072,0.6528812306589131,0.6384357008831582,0.6430861790485273,0.9411944061534349,0.7783859543220585,0.876509113138215,0.9999999999999998,0.6639102744668051,0.7296431740011013,0.7167461734972833,0.6757044514583709,0.7306876095147973,0.676644080717793,0.7477444809817021,0.7514885635594182,0.7789871234249383,0.7599559123540719,0.7556945481140683,0.766299848818247,0.7604494242263375,0.7322565959657558,0.7900273553901814,0.7663388053956737,0.6415826944116221,0.520417443396154,0.7367103914184169,0.7092142994991546,0.5620443992621363,0.5602535334387252,0.686899254349685,0.6644506145932572,0.541025110253115,0.6024804653743578,0.7767588844023406,0.8061654518408244,0.7944575633941092,0.574154627503584,0.5776059660414303,0.5481931322256528,0.5874596235678208,0.6308705225881076],[0.7092145072566266,0.7399827769314213,0.7389082116517344,0.7991671656605359,0.8147637299758461,0.7709147959583422,0.7278579023735532,0.5908573952187545,0.5178714872750944,0.75138171081286,0.760772477429271,0.7500856081414765,0.7390141501115672,0.7776364441875976,0.8200172836111516,0.8389782676116941,0.7811534107732803,0.8075623994968741,0.7960931044561402,0.7827212013349039,0.8109645866133234,0.7769401703806293,0.7854657630617536,0.8212610993622953,0.755645329799512,0.742259092891522,0.7938771931249026,0.7778209369734973,0.7775149682972005,0.7585481799251165,0.713723965582927,0.6465953237538203,0.6711965347972454,0.6581725944973122,0.6098337555811675,0.6432606560920376,0.6422187987755739,0.6639102744668051,0.9999999999999999,0.7618153134620058,0.7651992643692471,0.8153394418575174,0.8674427739862677,0.7154914199617403,0.8001141689426894,0.7971426982857536,0.8381624849764331,0.7698051048785401,0.7794240086915736,0.8060454866834391,0.8148868291041966,0.7855881917853806,0.7968981764178148,0.7993482754156825,0.6823036068550503,0.4859562255062115,0.6971699093476897,0.6038030549538548,0.564963207405894,0.584072664497708,0.5363703840424814,0.6649349802883531,0.6415942765908441,0.6717736921720687,0.6946326252612453,0.6773783041708686,0.7412796725365661,0.5475462420580564,0.5452814995656745,0.7346467013984193,0.5774425704132776,0.5817269547722501],[0.7129218598265525,0.7588233899282147,0.7305269290001177,0.7221889982874724,0.7609057138538831,0.7702451678622007,0.751335802124571,0.5589652800206696,0.5458242426829657,0.782921616131086,0.7990312599735501,0.8039241797545632,0.7992460724257159,0.8174520102506108,0.8479988902514637,0.7975607385818465,0.8758754168557931,0.8334217919885846,0.8190069332982403,0.7850551957394445,0.8431604362827356,0.7669191305707587,0.8543592945355832,0.8394023992736764,0.8163577134800082,0.7837493653937623,0.8160928799953786,0.8114082740814071,0.8516559040974563,0.8439235752355565,0.7027039989950347,0.691846206296826,0.6484758736712396,0.6122678391713275,0.6809301528664159,0.7412983713758252,0.725137746550539,0.7296431740011013,0.7618153134620058,1.0000000000000009,0.8546728220373239,0.7335020300694512,0.8052834146424956,0.7488019043911568,0.8176399177253296,0.8159267740561711,0.8329361059152669,0.8134064092244743,0.7993826526275388,0.8257506949983863,0.8234462059000964,0.8152988419707421,0.8611699263074377,0.8424891489108106,0.7310633814441712,0.5059646018861395,0.7522391652898199,0.6645279156970186,0.6778690652928214,0.6156055094451043,0.594051667802888,0.6933523104753717,0.6576476770954931,0.6803838626112825,0.7728931484831187,0.7817130511117412,0.7997590380823891,0.6099014476872054,0.6385498955395583,0.6666434434343447,0.6311267856200584,0.6344560898986337],[0.7362286003680282,0.783813661025233,0.7833157789059508,0.7428277258961402,0.7629289935470543,0.8071589419451944,0.8072364639390306,0.584475047446399,0.5546111502912598,0.7915682494688389,0.782162396029445,0.7849860151636204,0.7776163686593659,0.8819755558444234,0.8175731979892147,0.8394831148824684,0.8291073973213795,0.8642543493198996,0.8381615883266841,0.8022444854194513,0.8237388738582135,0.83256695562852,0.8336879947733887,0.8994470849596232,0.7804191841702148,0.791064306008186,0.8523950752156608,0.8602893225742632,0.9131617006973487,0.776106866856502,0.6922106558240817,0.7292394027128594,0.6711734383808579,0.6484372399146986,0.6765220902225911,0.673270710995004,0.6994934970970607,0.7167461734972833,0.7651992643692471,0.8546728220373239,0.9999999999999994,0.7681878222802658,0.8138790849710201,0.7721849144634672,0.8098853603030837,0.8152916680776835,0.8555332970871589,0.8065298670178942,0.7977062218365203,0.8192078665869796,0.7970325483981984,0.806384522690525,0.8532559259435647,0.8614417906108921,0.7355173311968428,0.4767795440272777,0.7746693393131945,0.6793257516867616,0.6335976226075328,0.6220709269248544,0.5630337926988798,0.7552730094928064,0.6760088561735538,0.7566694582194569,0.7718955343590623,0.759467516410777,0.7831969735914203,0.6391893868631625,0.6544262116715605,0.6569367050064182,0.6294456610159914,0.6332512215332201],[0.7440343488674095,0.7703561543093375,0.8034869675102603,0.7530566586169123,0.7764879349542337,0.8321712428104455,0.771538269658766,0.5947388472419751,0.5238877665065631,0.7417451877606006,0.7590704330878763,0.7475720575080232,0.7516647713900647,0.8352629359795684,0.823164184378268,0.9050780333900609,0.778498703682783,0.8134691211378018,0.8142423791127809,0.7700728994738656,0.8457384501929582,0.8224129485015482,0.8086224683589504,0.8381041876892797,0.7875160894099198,0.7778892875831471,0.8273930636005009,0.8073045037591684,0.7991191832204365,0.749572476120979,0.7424217664463043,0.6371889511172776,0.7416873533042488,0.6234071017905216,0.6149015125353023,0.6381100238355517,0.6549273744120742,0.6757044514583709,0.8153394418575174,0.7335020300694512,0.7681878222802658,0.9999999999999999,0.7718880562069245,0.7698639595643871,0.8061247127954939,0.795107124054298,0.8400314653424537,0.785401029263303,0.7824239967150598,0.7890162518781879,0.8061604275230019,0.7961627991687719,0.8146183824835198,0.8155314036216416,0.7238178011366093,0.5128147864890948,0.6781449329382925,0.6126431643313677,0.6018680206334815,0.6346745991630329,0.4928697577289643,0.6895727235839378,0.6950216080964786,0.6733547146995297,0.7128757159156733,0.6897181771494625,0.7388347924482758,0.5672735290036958,0.5662021717574057,0.7077153930153182,0.6006375431334332,0.6426321544927747],[0.7526630172289209,0.7571048159424755,0.7497010593888925,0.7805478244058897,0.8071990596949378,0.7959586233537418,0.7807237735734714,0.7088892281604265,0.7300849557000086,0.7877100404793708,0.7870204331612484,0.786053301086693,0.8001404616381318,0.8228831818628981,0.8270251238995497,0.8355739473024139,0.805684790828654,0.8402183661149847,0.8090752920136606,0.8381111741651955,0.806631107096387,0.7845023047428245,0.8216346326821424,0.8386393576990625,0.7650711769247832,0.8027787442431144,0.8183521874740166,0.83875399718029,0.8098990276548504,0.7810711230753266,0.7241708368382813,0.7541456404849004,0.661595420555415,0.6545513919739461,0.6766057778788893,0.6457239164258549,0.7005098479526918,0.7306876095147973,0.8674427739862677,0.8052834146424956,0.8138790849710201,0.7718880562069245,1.0000000000000007,0.7517110402346255,0.812177370860267,0.8216557022810694,0.8449549417968639,0.8210652705488537,0.8115102263826869,0.8236908899955704,0.8231913368452329,0.8087184089871203,0.8466663239816719,0.8157258350863418,0.7192884867584701,0.515274607736757,0.7421956885442353,0.6609118863878867,0.5982653106721058,0.6144749411691749,0.5440966764365417,0.7271451970748274,0.6219389468029118,0.7133917974494457,0.717024324941182,0.7128067135747159,0.7767512733494533,0.6122177992792772,0.6150436685814824,0.6606757622352927,0.6392338651293065,0.618150993739607],[0.7237811733954146,0.7619039549616317,0.7520536622118571,0.7025507869107019,0.7358857265938208,0.7788217045055105,0.7473840883365405,0.576873656465058,0.5155788738292731,0.7502086164271714,0.7613065239514243,0.7557524781871805,0.7585241824019731,0.828082613023807,0.7966269035065112,0.7993174893570805,0.8159958676291748,0.8085190871833038,0.7857432576688221,0.7760091257726389,0.8138724444936278,0.7625472138926198,0.815866722723284,0.8162801178316368,0.7871708754421376,0.7937442231868125,0.7941504067922114,0.8160352622668523,0.7931914144807036,0.7651987659374174,0.7088915277377452,0.6461825388487918,0.6855839527172282,0.6324427144996425,0.6326468880917856,0.646889485245837,0.6456240702942766,0.676644080717793,0.7154914199617403,0.7488019043911568,0.7721849144634672,0.7698639595643871,0.7517110402346255,0.9999999999999997,0.7899959161039305,0.8092071892209642,0.8049588099814229,0.7839833530988621,0.7813990186778662,0.7937929406883115,0.785951380942342,0.8074812524203097,0.8409810214704425,0.8034570165303176,0.7017809933989152,0.5449696477499928,0.6942221017965994,0.6276944218554674,0.668282221813591,0.630841730621599,0.5531059450600195,0.7216513940007491,0.694063373387825,0.6646688236751824,0.6992913559925872,0.727064436583795,0.7434321465152699,0.5934154565358354,0.6853820976145071,0.5691101793978512,0.5906316288076469,0.6613609526648326],[0.7494911681296809,0.8367012616442812,0.8374203296963683,0.8504593509309184,0.8708031008572834,0.860247417889723,0.8668680356802437,0.5900045618514593,0.5843978101549054,0.8720195552540673,0.8684875909779793,0.8287854782426414,0.8769306419428575,0.9301152652478162,0.8350716330190234,0.9107930794172692,0.8723967052940479,0.8984086785402374,0.9117237142425222,0.8712902470991315,0.8900270069037439,0.8806091911487276,0.8701513673354547,0.8958398628115177,0.8987605620953129,0.8431307071718509,0.8936175642672212,0.885499234935937,0.8731360313775905,0.8783203642402105,0.7883183731182967,0.7120366987477752,0.7510726859950604,0.7492364749683291,0.6897684479627089,0.7706145732958152,0.712159989040712,0.7477444809817021,0.8001141689426894,0.8176399177253296,0.8098853603030837,0.8061247127954939,0.812177370860267,0.7899959161039305,0.9999999999999994,0.924926666185916,0.9497901871859183,0.9194415878941578,0.9139595827056459,0.9434571300873702,0.9315399007820931,0.9221426507804747,0.9354114569181826,0.9348036057789136,0.794311242572561,0.5461756107646601,0.7834427045762233,0.7007079380147646,0.6646958387125691,0.6415797870972473,0.6075704216934142,0.6919056692442445,0.7239380961352126,0.7405505026811872,0.8125440417284817,0.7964357920319437,0.838096600421398,0.6356536441883688,0.6735005667976074,0.6537408757976962,0.6338281508182309,0.6711864644107521],[0.7423009930407704,0.82860035921758,0.8194313003828904,0.8099744393707632,0.8375439622208629,0.8608101955103085,0.8482962927834338,0.5961667803750448,0.567567689424028,0.8959876119044208,0.8909518173903225,0.8760580025949232,0.8940071442089309,0.8856982077941592,0.8396354846661758,0.8888106715819154,0.8777710396552783,0.8846351500173336,0.869029420955227,0.8700516139960989,0.8741810759189295,0.8545342893703168,0.8692255688903792,0.8963944297648871,0.8892305726178211,0.83849137620878,0.8852312743834595,0.8550340648449646,0.859027527113076,0.8857290203213725,0.754692167420177,0.7233102073953357,0.7503333000156704,0.7235514223779058,0.6703527753630566,0.7445253859669865,0.6850700585093882,0.7514885635594182,0.7971426982857536,0.8159267740561711,0.8152916680776835,0.795107124054298,0.8216557022810694,0.8092071892209642,0.924926666185916,0.999999999999999,0.9215599852313163,0.9127830277535607,0.9288872521313812,0.9397167081025458,0.9267851605298811,0.9385737123307499,0.9171166746700194,0.9393579153847869,0.7728762765450802,0.5626520280690555,0.8052426646727239,0.7499832955505071,0.6604908169998414,0.6394796084048779,0.6291316709750107,0.7181669634312269,0.6919336168794603,0.7424115601166882,0.7865266931971608,0.7927247099403791,0.8148088595008922,0.6246756198843614,0.7087944297937256,0.6601093032674483,0.6605988113627994,0.6874169676044345],[0.7924224796412743,0.8573503116201364,0.8713206305294708,0.8467136193934648,0.8744178014984394,0.8894592309816746,0.8692509956927834,0.6446749610294727,0.6027199909746395,0.91002986272156,0.9051614537919421,0.859758769506802,0.9131455550598748,0.9452226048014915,0.8810209955221061,0.9589081010411401,0.8815413471152935,0.921410293357951,0.9398552994122751,0.8800997190112322,0.8989035692602815,0.9020394027489823,0.8651436208936207,0.9192991955546932,0.9016063986428955,0.8706709836880832,0.9062264714380761,0.8823132087926403,0.909883870872254,0.889794216153246,0.8061763173839068,0.7461558529319055,0.748941986728634,0.7175139193417603,0.7169923124458153,0.7640324871182048,0.7539215178144227,0.7789871234249383,0.8381624849764331,0.8329361059152669,0.8555332970871589,0.8400314653424537,0.8449549417968639,0.8049588099814229,0.9497901871859183,0.9215599852313163,1.0000000000000002,0.942207855003561,0.942805218795065,0.9479596669933794,0.9253063762640348,0.929051945564753,0.9481155664205358,0.9627117425254994,0.7799139809404145,0.5822427199842368,0.8055635254666373,0.7379310658910226,0.6725560221035403,0.6560012514835687,0.63117265892581,0.7327819539077349,0.7366922360613507,0.747836637005753,0.7923362910031693,0.8163961003080317,0.8400654489690164,0.6530362479273094,0.6557516089925655,0.6604308810674115,0.6395786185799547,0.6991085918551515],[0.7441133599876357,0.8362129464514282,0.8345738294803641,0.8100103013447862,0.8522374485467635,0.8548098295209668,0.853606608739471,0.618273107767864,0.5670151178719655,0.9170345049445071,0.8750024103863212,0.8453002635892931,0.9364129582619911,0.898632228192562,0.8836525200983114,0.9014881972591529,0.8588700608797512,0.8901778608001373,0.897707162615088,0.8850614960748138,0.8793782348507159,0.8706539525066546,0.8562776167163362,0.8765544886660507,0.8769487350070447,0.8509591834875202,0.8764877016700852,0.8593582393956296,0.8693788427180205,0.88445680433417,0.7557746153123777,0.7100515379266655,0.7055145803353309,0.698502840117599,0.7077994882646905,0.7560465581482301,0.7620247699595508,0.7599559123540719,0.7698051048785401,0.8134064092244743,0.8065298670178942,0.785401029263303,0.8210652705488537,0.7839833530988621,0.9194415878941578,0.9127830277535607,0.942207855003561,0.9999999999999993,0.95639566146295,0.9340970631792267,0.9470115025651974,0.9116223660975653,0.9228197545038036,0.9286713447146842,0.760524506083466,0.5781554300781125,0.7693423776542598,0.7299037016605839,0.6815808607395977,0.6609211415764031,0.6477428776141614,0.7182835145452726,0.6902031490198279,0.6833846113606609,0.795470257913022,0.8031186205060298,0.8453501065422911,0.6314458670678891,0.6635356074983615,0.623208328707942,0.6229434834918487,0.6705420217427155],[0.7272057405671287,0.8128952745583738,0.7966478361086154,0.8023546622087759,0.8364338194268611,0.8570051595128365,0.8275804374464497,0.6052681630466276,0.554693994937459,0.9558804552074155,0.8855930593337543,0.8664982703032347,0.9541559522886083,0.8827557063873264,0.8697607269750038,0.8895733089452604,0.8570832419843717,0.8839438019712278,0.8660457945602976,0.8811418797958186,0.8751290773649043,0.8473209664082744,0.8480933495657559,0.8939278261599368,0.879268287940457,0.8274046073391094,0.8807691766268838,0.8490362494369538,0.8616381662163304,0.8884020519913093,0.7363366322901392,0.686490668663643,0.7280881554746496,0.7077321006655026,0.6913084181431612,0.7375978007165055,0.7315186813123971,0.7556945481140683,0.7794240086915736,0.7993826526275388,0.7977062218365203,0.7824239967150598,0.8115102263826869,0.7813990186778662,0.9139595827056459,0.9288872521313812,0.942805218795065,0.95639566146295,1.0000000000000002,0.9469249052258595,0.9398668273673699,0.9481680230792471,0.9187180646586214,0.9520289912348571,0.7610441609497036,0.5869342273871324,0.7834435670369841,0.7563247748981666,0.6532710320611266,0.6362890141836609,0.6329187307977956,0.6937027288585537,0.6912778347199937,0.6732311585657355,0.7799146193054554,0.7933696685933973,0.8284481225825878,0.6320171651842947,0.6566604381631597,0.6277390301535799,0.6161109514464944,0.6783187364961413],[0.7452611422291808,0.8458052159708277,0.8336451285657678,0.8877790189744283,0.9087357904954662,0.858923340255407,0.8556817261045015,0.6281290331210194,0.5911251859001072,0.9346782575055717,0.8801748568318328,0.8551982854774824,0.9239986305995282,0.9009848786414891,0.8579667621614332,0.9005444866884446,0.8732970624486688,0.8915666773142272,0.8923831915897026,0.872428345366869,0.8870483886191194,0.8725364968964762,0.8782338627491211,0.8936039559395793,0.8956222079338579,0.8448807615695669,0.8892661028667653,0.8543381626490328,0.8753074144075249,0.8824302155133618,0.7670214872542778,0.7235233393902367,0.7446620479360421,0.719339983553006,0.6975828031218746,0.7525596575945659,0.7239719760196881,0.766299848818247,0.8060454866834391,0.8257506949983863,0.8192078665869796,0.7890162518781879,0.8236908899955704,0.7937929406883115,0.9434571300873702,0.9397167081025458,0.9479596669933794,0.9340970631792267,0.9469249052258595,0.9999999999999996,0.9227369520489201,0.9392618031092643,0.9368425746531104,0.9533490650824752,0.7775874746794549,0.5693425869711815,0.7901222970357005,0.741802898644203,0.6736578707989302,0.6626181059168635,0.6368787718462988,0.7241875651082854,0.7043531277050982,0.7186744710753221,0.8002424687420089,0.7998387153321752,0.8413014110123094,0.6313648429168283,0.6930721773864262,0.6280983428330515,0.6268782459948355,0.6899874695575927],[0.7702590848370585,0.8432273682129224,0.8313127154666835,0.8332911880911629,0.8696539329905674,0.8748645460975458,0.8412884741954785,0.5945870040370802,0.5610360603743464,0.8953601954096855,0.8599275752737227,0.8349938830994663,0.8791142722734542,0.8926868123963062,0.9135910626027716,0.9029167125725291,0.8771734983333758,0.8937084510271314,0.8950082410784976,0.9073637489450442,0.9052317032775038,0.877267856694797,0.8793393932100612,0.8872537609665958,0.9040225484932572,0.8570683578866949,0.8934082151561544,0.8656485590914204,0.8706090305850431,0.8847515312937557,0.7471629826286701,0.6898303873515108,0.7379581883299904,0.7340613089223409,0.7161443870739633,0.798524997260724,0.7678901080878198,0.7604494242263375,0.8148868291041966,0.8234462059000964,0.7970325483981984,0.8061604275230019,0.8231913368452329,0.785951380942342,0.9315399007820931,0.9267851605298811,0.9253063762640348,0.9470115025651974,0.9398668273673699,0.9227369520489201,0.9999999999999992,0.9157657502631122,0.9151617943215495,0.9154338131097001,0.758063996807625,0.5661335018187432,0.7422184782958796,0.6925282634651684,0.6477030123366456,0.6421965486402015,0.676965382912819,0.6914670014989617,0.689932137627716,0.7040319223644184,0.8202055462131493,0.8239151096683103,0.8426659259879588,0.6364175031532047,0.6575462463365286,0.6851755842662979,0.623764894546524,0.653770545152146],[0.6883932540977998,0.8126462759902783,0.7725062864871549,0.7826744295256715,0.8127902490012127,0.8476396323202502,0.833991706252553,0.5829584813056269,0.5452875454705977,0.9218581518695885,0.880560865033988,0.8835140051953275,0.9466319732880116,0.8781961712429174,0.8275083180340868,0.8691543882292083,0.867878143532695,0.8799885861250644,0.850377036455588,0.8597472335883924,0.8805698896962768,0.82307516747759,0.8524554675055488,0.8818191444455727,0.8962219648715365,0.8153227969010844,0.8890941568313957,0.8467305892028647,0.8538221975833518,0.8840912006144177,0.7368264908185947,0.6911619843689217,0.7529346720689958,0.6937809499765067,0.6355378618152039,0.7063772215695319,0.6514012287619365,0.7322565959657558,0.7855881917853806,0.8152988419707421,0.806384522690525,0.7961627991687719,0.8087184089871203,0.8074812524203097,0.9221426507804747,0.9385737123307499,0.929051945564753,0.9116223660975653,0.9481680230792471,0.9392618031092643,0.9157657502631122,1.0000000000000004,0.9330248753484103,0.9569646960058312,0.7645301828942923,0.5203983839245812,0.7743964708733259,0.7360108109617302,0.641638216918107,0.6299028448227533,0.586376739682224,0.7023019888856582,0.7040381538291597,0.7095647183853585,0.7513231539313366,0.7690926018552005,0.7971440551513899,0.6379652623199009,0.6675673689058561,0.6285990509939555,0.6406767913800604,0.6830495379336955],[0.7847105131097494,0.8364554856325892,0.8320064272074204,0.8209910846448223,0.8611315872799277,0.8722385669714184,0.8561019379722912,0.6290635233972791,0.6085720587860111,0.8945940237614696,0.8802953959359784,0.8618816494129069,0.9024897436714202,0.9205770000239343,0.8737384155890634,0.9094762789975828,0.904178372458491,0.9244970867126211,0.9042738352504707,0.8855169014802863,0.8970878490462271,0.8769495789596644,0.8992303078825024,0.9072827305304775,0.8946649638144907,0.861871902170136,0.9088964050519406,0.8873929648637255,0.8925359330190472,0.8830994736924952,0.7655927885229348,0.7317461309129422,0.7321872609579108,0.7118172690362151,0.7211787323767107,0.7554289708519827,0.7396489072783212,0.7900273553901814,0.7968981764178148,0.8611699263074377,0.8532559259435647,0.8146183824835198,0.8466663239816719,0.8409810214704425,0.9354114569181826,0.9171166746700194,0.9481155664205358,0.9228197545038036,0.9187180646586214,0.9368425746531104,0.9151617943215495,0.9330248753484103,1.0000000000000004,0.9428394930417056,0.7884898021663058,0.570566055442135,0.7911129434692963,0.7383089725168965,0.6864043967301413,0.6679710070771905,0.6271542633062351,0.7444737126255627,0.7225151728795783,0.7261289352704511,0.795835522896295,0.8337629853577944,0.843615871661158,0.6773429433302613,0.6844724744515147,0.6313958288060121,0.6503097482184179,0.6949845781811229],[0.7350752658279387,0.8266031722124219,0.8251364195526937,0.800905440474678,0.8374380150453448,0.8676710284096387,0.8489873571284089,0.5948642786335834,0.5567426688154041,0.9290765789883627,0.9053208001494135,0.877808972145757,0.9364373945114524,0.9176319645626816,0.8541314874492084,0.9062366257920468,0.8917601416991243,0.9163877147581835,0.8980484191429235,0.8634434793209452,0.8872016281522278,0.8655391914029543,0.8716142151190552,0.9172488298895688,0.899625647314622,0.8474706422866767,0.913519030935574,0.8712834788910246,0.9006777109098557,0.8915809222649735,0.7523461740070431,0.7187380577667818,0.7483438678962452,0.6966592656585382,0.6814190230689425,0.7412628907031976,0.6987100357030195,0.7663388053956737,0.7993482754156825,0.8424891489108106,0.8614417906108921,0.8155314036216416,0.8157258350863418,0.8034570165303176,0.9348036057789136,0.9393579153847869,0.9627117425254994,0.9286713447146842,0.9520289912348571,0.9533490650824752,0.9154338131097001,0.9569646960058312,0.9428394930417056,1.0000000000000004,0.7631298389407716,0.5729314164714635,0.8242414447442994,0.75695072088541,0.6622038457011851,0.6436172313870936,0.6202094388491313,0.7428891742450487,0.7226771728237712,0.7333009368013145,0.7708167893181157,0.8068496955703187,0.827686631045164,0.6552381279477443,0.6651853254026092,0.6470986382887799,0.6605002295186377,0.7023016560470019],[0.6256619443929052,0.7487720771526123,0.6556742370394532,0.7196140510353428,0.7342712006352846,0.7139856900757359,0.7459754907137803,0.5520127717363756,0.5324446126897582,0.6963654770594543,0.7028921068402599,0.7288299780189461,0.7218028424228691,0.7862282596894482,0.740457185207014,0.8104427784331003,0.7819460051474794,0.7720003707930366,0.7509398490811438,0.779073364628138,0.807360343268127,0.7509997079793204,0.8340206246623698,0.7780336355167153,0.7808678905222417,0.7489882166875147,0.8049660341293605,0.8222680657215666,0.7796374147040426,0.7115750757998948,0.6593603378263809,0.6375826727338154,0.631469987074369,0.6264501267896444,0.6114556637399199,0.635589244196152,0.6114961937992738,0.6415826944116221,0.6823036068550503,0.7310633814441712,0.7355173311968428,0.7238178011366093,0.7192884867584701,0.7017809933989152,0.794311242572561,0.7728762765450802,0.7799139809404145,0.760524506083466,0.7610441609497036,0.7775874746794549,0.758063996807625,0.7645301828942923,0.7884898021663058,0.7631298389407716,0.9999999999999994,0.522454458364957,0.667333760135012,0.6490094081871467,0.7221729853678314,0.584855220821042,0.48970300066742417,0.6446359957482948,0.678495201282407,0.6694791544272838,0.7008080611908153,0.6838447564739332,0.6754888557434121,0.6066485198864671,0.740289995983815,0.6976885860662885,0.6624601413014859,0.7050461051233604],[0.5694192537610294,0.5470721700919917,0.5310234510241248,0.5057784422082519,0.5462864288489163,0.5781011840481162,0.5530566880013428,0.43304869288907316,0.44325331088834097,0.5354937192358263,0.5845968020224691,0.5668603486829266,0.5191051704060647,0.5471111357787171,0.5837929839086695,0.5994078112766603,0.6327706908358527,0.5938786804124377,0.5962721285998301,0.6027208743748709,0.6196007116468725,0.582238485046993,0.618848855362961,0.5392181319729692,0.542808148777117,0.609337256126933,0.5476139623371237,0.5444730545853183,0.5947214742131919,0.5559221476606633,0.4470875906047961,0.46914692594933105,0.4564718878001932,0.4672155967917584,0.4848700950419078,0.46277599636328615,0.5164847736542468,0.520417443396154,0.4859562255062115,0.5059646018861395,0.4767795440272777,0.5128147864890948,0.515274607736757,0.5449696477499928,0.5461756107646601,0.5626520280690555,0.5822427199842368,0.5781554300781125,0.5869342273871324,0.5693425869711815,0.5661335018187432,0.5203983839245812,0.570566055442135,0.5729314164714635,0.522454458364957,1.0000000000000007,0.5964984372171128,0.5596089042022765,0.6127916458014555,0.614639378621279,0.44289122984873586,0.4949862150162807,0.5284756041515961,0.3918751402682488,0.436077580987352,0.5036851494609577,0.4926357335087397,0.3757038297530649,0.39920150556220274,0.4816422297806544,0.4504505862927829,0.5003372827940787],[0.6622005360138509,0.7146719712179659,0.7628988272536683,0.6822330678668191,0.7373844998211558,0.7416200538821055,0.7212651278582947,0.5632472169762455,0.5690149483633522,0.7317417663604985,0.8526932067428312,0.8652431154404692,0.7730244897576071,0.7845462588385615,0.7244249169887824,0.7693486291602019,0.7910759161042717,0.795346764065315,0.7741824732176485,0.7525116917037659,0.7662525329069748,0.7355810120998134,0.7389517438681842,0.75582075140052,0.7640019739677715,0.7462545208104686,0.7952397415486145,0.7491410873631957,0.8063020777780362,0.8202740191712548,0.676614999067197,0.7034898075206673,0.5972078379040676,0.609963204859621,0.6379437806733635,0.6185173794118838,0.6444178661214082,0.7367103914184169,0.6971699093476897,0.7522391652898199,0.7746693393131945,0.6781449329382925,0.7421956885442353,0.6942221017965994,0.7834427045762233,0.8052426646727239,0.8055635254666373,0.7693423776542598,0.7834435670369841,0.7901222970357005,0.7422184782958796,0.7743964708733259,0.7911129434692963,0.8242414447442994,0.667333760135012,0.5964984372171128,1.0000000000000007,0.8353364690674489,0.6273521329975216,0.6215715655672256,0.5732014519767749,0.6962622878472672,0.6566906305337309,0.662381467323424,0.6782258028564062,0.704961897077275,0.7197862405452586,0.5542178357060883,0.5884232856051292,0.5475321721637099,0.5989731470521048,0.6509010569486802],[0.5779658420068642,0.6490888458777391,0.6448901130254135,0.611004606160764,0.6638977079015094,0.6748182326804284,0.6702548827858993,0.5230615699611671,0.5113213841837395,0.7223560456343564,0.8214448644502838,0.9109680069764777,0.7589579341806398,0.6894562736560103,0.6568124490678323,0.6994765427671727,0.7239120861464475,0.7128148530472749,0.692173212988586,0.7234775528851122,0.7172553477657921,0.6885357593700426,0.6897270749363007,0.6836510682560236,0.6977742651174621,0.6821521625355338,0.7338403673919699,0.6811634085188267,0.7448711210920851,0.7841053976407991,0.5635150407535207,0.5961444161626407,0.5666377135089424,0.5580457841596261,0.5793432262721443,0.5740500279584114,0.585512010221939,0.7092142994991546,0.6038030549538548,0.6645279156970186,0.6793257516867616,0.6126431643313677,0.6609118863878867,0.6276944218554674,0.7007079380147646,0.7499832955505071,0.7379310658910226,0.7299037016605839,0.7563247748981666,0.741802898644203,0.6925282634651684,0.7360108109617302,0.7383089725168965,0.75695072088541,0.6490094081871467,0.5596089042022765,0.8353364690674489,0.9999999999999993,0.6473225391804937,0.659383313835041,0.526336708444755,0.6719051764695081,0.5969664612540789,0.5950446254106023,0.650862115012239,0.6647917200233336,0.6960775694223036,0.5202794501305964,0.5695273878656257,0.4780070899879757,0.5999979706201218,0.642751676590074],[0.5479973953933952,0.6376550300190694,0.5950771557147524,0.5660346617791339,0.6133747685463327,0.6046470042630123,0.6394404764578336,0.557969281216746,0.5312509987349509,0.5963262954597748,0.6511916017842476,0.6701245309214647,0.63615071300468,0.6652114679470458,0.668701145909732,0.6753176201019927,0.7573057722187283,0.6722570512146369,0.6705517081220116,0.6685212094505957,0.7205134204151997,0.6396908809897244,0.7496708840132582,0.6552704240844157,0.6369655474474214,0.6645555099129337,0.6740455379653815,0.6912978702149971,0.7208311466916533,0.6532622545033439,0.5892950189164459,0.6201243985696915,0.5433222936459836,0.5152815432526098,0.5084000371649723,0.5443381919527452,0.5370263651555137,0.5620443992621363,0.564963207405894,0.6778690652928214,0.6335976226075328,0.6018680206334815,0.5982653106721058,0.668282221813591,0.6646958387125691,0.6604908169998414,0.6725560221035403,0.6815808607395977,0.6532710320611266,0.6736578707989302,0.6477030123366456,0.641638216918107,0.6864043967301413,0.6622038457011851,0.7221729853678314,0.6127916458014555,0.6273521329975216,0.6473225391804937,1.0000000000000007,0.7146906389208483,0.41565600146272974,0.6415808483728529,0.6841550856560773,0.5402694935549901,0.5929485828489738,0.5752144736568915,0.5953687346464563,0.5326073107230285,0.6373335788514167,0.5815944366314859,0.5036849476756536,0.5687859355703698],[0.5660505616817357,0.6040451819197987,0.6277912827831997,0.6097478732062078,0.6405743272929268,0.6278103203801078,0.608151386185399,0.5572254131170687,0.5095425087101834,0.6147113525471504,0.6397047933760692,0.6732065083560181,0.6214078659001561,0.6399156146744563,0.6480437993877255,0.6608104888947065,0.7083168416390608,0.6581293889363703,0.6645121733246026,0.650753460292966,0.6873431869741866,0.6640027668356991,0.7084285903905838,0.6536983694410639,0.5898161737074817,0.6513207778582876,0.6545563688495459,0.6552451717431624,0.7125814704458262,0.6127454115632185,0.5301532387951184,0.5465273963875334,0.5439270958254476,0.49447006695256085,0.4929264320530154,0.46231478533771264,0.4987574744105239,0.5602535334387252,0.584072664497708,0.6156055094451043,0.6220709269248544,0.6346745991630329,0.6144749411691749,0.630841730621599,0.6415797870972473,0.6394796084048779,0.6560012514835687,0.6609211415764031,0.6362890141836609,0.6626181059168635,0.6421965486402015,0.6299028448227533,0.6679710070771905,0.6436172313870936,0.584855220821042,0.614639378621279,0.6215715655672256,0.659383313835041,0.7146906389208483,0.9999999999999998,0.42630476894803876,0.6559969730475476,0.561605251388428,0.5246955248475014,0.5743189734822974,0.5376343650015668,0.6221528504462022,0.579787737738315,0.5563668976589551,0.4960735234049515,0.483438772194784,0.5564859413873877],[0.5953400742180897,0.5895460995165066,0.6327220581994092,0.6048980071727644,0.6204906086009756,0.5997026173066936,0.5612407024320115,0.4084817638125171,0.37527420965081115,0.6225287328839059,0.6275214982383508,0.5915307961749989,0.5948639745741365,0.6259887102014239,0.6384619167633083,0.6252943286274509,0.6239792533941493,0.6119017980648199,0.6388992410754601,0.6699757854740707,0.6039313134153497,0.6568814292380044,0.6123496126833519,0.6106505681013311,0.7564852450646466,0.6783661068260308,0.6469556739583489,0.616634780851746,0.6138906516105151,0.7359502921966121,0.5253823550343185,0.5000620543897829,0.44078154024871735,0.4697307717850773,0.7201609893626207,0.8287214314083627,0.7436526117756981,0.686899254349685,0.5363703840424814,0.594051667802888,0.5630337926988798,0.4928697577289643,0.5440966764365417,0.5531059450600195,0.6075704216934142,0.6291316709750107,0.63117265892581,0.6477428776141614,0.6329187307977956,0.6368787718462988,0.676965382912819,0.586376739682224,0.6271542633062351,0.6202094388491313,0.48970300066742417,0.44289122984873586,0.5732014519767749,0.526336708444755,0.41565600146272974,0.42630476894803876,1.0000000000000016,0.5054101723873433,0.45716979728547325,0.49320677456495926,0.6535745576523895,0.8038012130671659,0.7180184705574522,0.4071454419585483,0.4653564117806353,0.4303916184381255,0.4828164562031335,0.4906133176378637],[0.6064880488386869,0.6604891231468027,0.682927184200218,0.6429644361904059,0.689193068730096,0.6826976272924448,0.7021850465377276,0.6851266081562423,0.5898176034172117,0.6862790683059272,0.7089674090052356,0.740853593299132,0.6829272218111537,0.7174226924669189,0.7101829862530432,0.7351039448200136,0.785670870325025,0.7914380011687522,0.7078587590175018,0.7159279466227283,0.7277191775474137,0.6837390657412384,0.7524764589300335,0.741028713939698,0.6990654619774355,0.7888007850113404,0.802868015464728,0.7141062455395492,0.810945664492238,0.7010052701433883,0.6137042193059348,0.7000684903850143,0.5729953508525293,0.603051229961027,0.5958788772873848,0.5606368518795091,0.600114540477132,0.6644506145932572,0.6649349802883531,0.6933523104753717,0.7552730094928064,0.6895727235839378,0.7271451970748274,0.7216513940007491,0.6919056692442445,0.7181669634312269,0.7327819539077349,0.7182835145452726,0.6937027288585537,0.7241875651082854,0.6914670014989617,0.7023019888856582,0.7444737126255627,0.7428891742450487,0.6446359957482948,0.4949862150162807,0.6962622878472672,0.6719051764695081,0.6415808483728529,0.6559969730475476,0.5054101723873433,0.9999999999999994,0.643330321538677,0.6851628015635187,0.6089307397794441,0.641626631030348,0.7093012009732811,0.6162425740759416,0.6108517167112454,0.48559910617476926,0.6856402916047688,0.7017128505622356],[0.6106586780837358,0.6689257791028508,0.6274494159330536,0.6177994753311382,0.6543243756665781,0.704965832639032,0.6797343802823451,0.5647812914425044,0.5058090440305317,0.6321513139101672,0.6862068300153515,0.687099731600412,0.6440081186332738,0.7273382004987403,0.6911625903242491,0.7253076558326568,0.7332870500517665,0.7630598895152373,0.7161795368117593,0.6951827354439123,0.7812530498551189,0.690926861066699,0.7254806412456208,0.6869399786640848,0.7351809197427823,0.6467043463599986,0.7557020085079954,0.6976553602057703,0.7360705064022525,0.6814379955415112,0.6428889805646879,0.6418822358273334,0.6099209370325068,0.5527919736790365,0.5043360790496925,0.5796443202688112,0.5126492912887058,0.541025110253115,0.6415942765908441,0.6576476770954931,0.6760088561735538,0.6950216080964786,0.6219389468029118,0.694063373387825,0.7239380961352126,0.6919336168794603,0.7366922360613507,0.6902031490198279,0.6912778347199937,0.7043531277050982,0.689932137627716,0.7040381538291597,0.7225151728795783,0.7226771728237712,0.678495201282407,0.5284756041515961,0.6566906305337309,0.5969664612540789,0.6841550856560773,0.561605251388428,0.45716979728547325,0.643330321538677,0.9999999999999999,0.654002023336778,0.5891345231031402,0.64937870535979,0.5982843470690898,0.5120591618381307,0.5953312966443469,0.5698648604116753,0.5582271292627964,0.6514540210893196],[0.6371793669216763,0.6826119886817665,0.69768720860805,0.658656449107189,0.701576910089011,0.7057768931605151,0.7374659331442696,0.5761695947871887,0.5165356482997944,0.6636154701204084,0.6745225428038689,0.688964522452539,0.6524861941401563,0.758116585137896,0.6776068600785335,0.7456141777417622,0.7003898945584871,0.7399184406211529,0.7531612036198588,0.7288394263938538,0.7330396836039159,0.7237163021187174,0.7297789193381778,0.739794725077934,0.7086580495549551,0.7206432559562974,0.7542509692138002,0.7384267667461135,0.7744751855970281,0.6709748709028613,0.6414508195795516,0.6606963476450008,0.6489965323977734,0.5914429020129268,0.5699914113408318,0.6063855190183047,0.5668593537667024,0.6024804653743578,0.6717736921720687,0.6803838626112825,0.7566694582194569,0.6733547146995297,0.7133917974494457,0.6646688236751824,0.7405505026811872,0.7424115601166882,0.747836637005753,0.6833846113606609,0.6732311585657355,0.7186744710753221,0.7040319223644184,0.7095647183853585,0.7261289352704511,0.7333009368013145,0.6694791544272838,0.3918751402682488,0.662381467323424,0.5950446254106023,0.5402694935549901,0.5246955248475014,0.49320677456495926,0.6851628015635187,0.654002023336778,1.0,0.644709823570651,0.6364073942437,0.6508477886076811,0.5326756785596538,0.5729007823624642,0.6533168674440856,0.6433896252793727,0.6097561097675341],[0.7638115872176688,0.7769666236460256,0.7521760332648407,0.779773015133866,0.8234063626651782,0.7590556572230166,0.7567764766117527,0.5234479916693504,0.5405880216770302,0.7405672064734411,0.751186264206381,0.7368143623505008,0.7414012096182069,0.8175544320619837,0.8369167446258817,0.8042421894780656,0.7547230194901196,0.7859958966489649,0.793651977160395,0.8284032807566132,0.819293427535458,0.814936491649758,0.7937065155727944,0.8177880243063534,0.811286301352177,0.7834302305204354,0.8034979471679249,0.8369396413573558,0.8078459503576916,0.8315082365304487,0.6424979498284039,0.6011169448952889,0.6915478076358117,0.7003608718787138,0.8045739680638805,0.8457815570580892,0.8195459376372876,0.7767588844023406,0.6946326252612453,0.7728931484831187,0.7718955343590623,0.7128757159156733,0.717024324941182,0.6992913559925872,0.8125440417284817,0.7865266931971608,0.7923362910031693,0.795470257913022,0.7799146193054554,0.8002424687420089,0.8202055462131493,0.7513231539313366,0.795835522896295,0.7708167893181157,0.7008080611908153,0.436077580987352,0.6782258028564062,0.650862115012239,0.5929485828489738,0.5743189734822974,0.6535745576523895,0.6089307397794441,0.5891345231031402,0.644709823570651,1.0000000000000004,0.8471777773770789,0.8638090701980932,0.600388722702896,0.641276777371545,0.6723677064254703,0.5738160142313665,0.5707230647056049],[0.7234844092552138,0.7526904449922679,0.7471047655491436,0.7467490475537352,0.7919292803036121,0.7531674053870859,0.7444458614127863,0.5128875562827803,0.48697676540943663,0.7661992329920561,0.7804989461656417,0.7621152322643725,0.7733538124182522,0.8191537225635314,0.8127955745418491,0.7983636003463147,0.7757121568211892,0.8156784780062409,0.800804329098507,0.8203306402603305,0.8000640454181059,0.807910570422753,0.7861330226131458,0.8111573707120433,0.8705605333503654,0.807329048745352,0.8229740518152979,0.8255959384226079,0.8111411258681183,0.8607894316572553,0.6439404338609713,0.6128062789337552,0.6238585492638872,0.6185454101916691,0.8125428161456635,0.9416758193087985,0.8158080071051047,0.8061654518408244,0.6773783041708686,0.7817130511117412,0.759467516410777,0.6897181771494625,0.7128067135747159,0.727064436583795,0.7964357920319437,0.7927247099403791,0.8163961003080317,0.8031186205060298,0.7933696685933973,0.7998387153321752,0.8239151096683103,0.7690926018552005,0.8337629853577944,0.8068496955703187,0.6838447564739332,0.5036851494609577,0.704961897077275,0.6647917200233336,0.5752144736568915,0.5376343650015668,0.8038012130671659,0.641626631030348,0.64937870535979,0.6364073942437,0.8471777773770789,0.9999999999999998,0.8306855175912028,0.5463300400678044,0.6158436743757514,0.5913209337197282,0.6042426575712332,0.6241153732641561],[0.7415520673113949,0.7612114725676432,0.787645174225669,0.7966902676981142,0.8201477697087888,0.7770677067230777,0.7294581551772049,0.5719090258319,0.5385360040028054,0.8079816396521805,0.7830038947407861,0.7588495825648401,0.8002829097778321,0.8209322701614434,0.8330235180344248,0.8220576438662631,0.8168767169508613,0.821621071096397,0.8294895123800764,0.8365594414487126,0.7977819588846446,0.8024622858977195,0.7964719198013986,0.8269899820892435,0.8544393598152319,0.8346703310168547,0.8237309691763502,0.8145948834920359,0.8071722962343402,0.8591440264878087,0.6616222827380378,0.6339380152906978,0.6574173395933758,0.6816025610342636,0.7843637403259286,0.8051266356548231,0.8410135848703774,0.7944575633941092,0.7412796725365661,0.7997590380823891,0.7831969735914203,0.7388347924482758,0.7767512733494533,0.7434321465152699,0.838096600421398,0.8148088595008922,0.8400654489690164,0.8453501065422911,0.8284481225825878,0.8413014110123094,0.8426659259879588,0.7971440551513899,0.843615871661158,0.827686631045164,0.6754888557434121,0.4926357335087397,0.7197862405452586,0.6960775694223036,0.5953687346464563,0.6221528504462022,0.7180184705574522,0.7093012009732811,0.5982843470690898,0.6508477886076811,0.8638090701980932,0.8306855175912028,0.9999999999999988,0.5767353837785193,0.6233729498353011,0.5543936069623057,0.6151048435187672,0.6072705954771006],[0.5564038750350365,0.5487578769583925,0.5569003543853188,0.5637308452017499,0.6185172794210319,0.6145486477350082,0.5868118002857278,0.48465328793681584,0.4879888325341625,0.5851391971531983,0.6025382688258625,0.6133135951302828,0.612091534509449,0.6693196446768506,0.6474632795205183,0.63505146953205,0.6514451189241891,0.7191143038720196,0.6419158154335876,0.6328631429472764,0.6691507545948996,0.605948207912566,0.6761215274676103,0.6513916432733887,0.6166038201309921,0.6172398738026864,0.7115714656019897,0.6498461830477589,0.6893526537640807,0.6044709138468701,0.5177065865025641,0.5439331636321436,0.5783613889924138,0.5298380317543606,0.540393447201579,0.5015048649481212,0.5262434665883668,0.574154627503584,0.5475462420580564,0.6099014476872054,0.6391893868631625,0.5672735290036958,0.6122177992792772,0.5934154565358354,0.6356536441883688,0.6246756198843614,0.6530362479273094,0.6314458670678891,0.6320171651842947,0.6313648429168283,0.6364175031532047,0.6379652623199009,0.6773429433302613,0.6552381279477443,0.6066485198864671,0.3757038297530649,0.5542178357060883,0.5202794501305964,0.5326073107230285,0.579787737738315,0.4071454419585483,0.6162425740759416,0.5120591618381307,0.5326756785596538,0.600388722702896,0.5463300400678044,0.5767353837785193,0.9999999999999994,0.6109924531837387,0.45999409816796344,0.5054282786327599,0.5831958450883769],[0.5746421060209126,0.6650919535452957,0.5729722109290853,0.6250510304940906,0.64198523278304,0.6168815137743692,0.6428282331097287,0.5004448334036121,0.44281340654574264,0.6081446709750367,0.6195842908627838,0.6435326374471163,0.6347983008933343,0.705140505897175,0.6576124549872729,0.6567729479602293,0.6876784838010794,0.67152056947982,0.6540828159712705,0.6689340373487525,0.6822192642419892,0.6218500373257443,0.6950728639337049,0.6729258026543968,0.6730498922749679,0.6481714128998469,0.699903232700968,0.6925743465840054,0.6775975300137278,0.6305796019604603,0.5391314133414078,0.5650913917685215,0.5401211883512552,0.5163123835969878,0.5457883879093637,0.5481330397334587,0.5299059145168619,0.5776059660414303,0.5452814995656745,0.6385498955395583,0.6544262116715605,0.5662021717574057,0.6150436685814824,0.6853820976145071,0.6735005667976074,0.7087944297937256,0.6557516089925655,0.6635356074983615,0.6566604381631597,0.6930721773864262,0.6575462463365286,0.6675673689058561,0.6844724744515147,0.6651853254026092,0.740289995983815,0.39920150556220274,0.5884232856051292,0.5695273878656257,0.6373335788514167,0.5563668976589551,0.4653564117806353,0.6108517167112454,0.5953312966443469,0.5729007823624642,0.641276777371545,0.6158436743757514,0.6233729498353011,0.6109924531837387,0.9999999999999993,0.47971619697913537,0.5189754554053817,0.6633695875162892],[0.6004142434470275,0.643903835106534,0.6203608306636166,0.6106602577625753,0.6551796940564963,0.6456515800621233,0.6257460045346644,0.47654518987500544,0.42230461973036126,0.5551285067521313,0.6168900242844909,0.6111510431323183,0.590340567973717,0.6714058438773298,0.7313305181393518,0.7273687039697649,0.6775140994759088,0.6661908588770441,0.6907958766888883,0.6894991706403714,0.7672660884070998,0.7152853981866841,0.748108597137417,0.6983344741004519,0.6383075004076477,0.6276988867133749,0.6655068347398043,0.7211515932466344,0.707774967159841,0.6230165410461466,0.5834817831502,0.5874487599798085,0.61398561355939,0.5239072502665643,0.5318798917085993,0.6000263183829688,0.5347190379058401,0.5481931322256528,0.7346467013984193,0.6666434434343447,0.6569367050064182,0.7077153930153182,0.6606757622352927,0.5691101793978512,0.6537408757976962,0.6601093032674483,0.6604308810674115,0.623208328707942,0.6277390301535799,0.6280983428330515,0.6851755842662979,0.6285990509939555,0.6313958288060121,0.6470986382887799,0.6976885860662885,0.4816422297806544,0.5475321721637099,0.4780070899879757,0.5815944366314859,0.4960735234049515,0.4303916184381255,0.48559910617476926,0.5698648604116753,0.6533168674440856,0.6723677064254703,0.5913209337197282,0.5543936069623057,0.45999409816796344,0.47971619697913537,0.9999999999999994,0.5375330087841159,0.4808965038354904],[0.5430749010223954,0.662253271037315,0.5821517549063185,0.5781819860844255,0.6052050517251495,0.6176029941087107,0.6555369453837425,0.4546159679992647,0.4596987968464962,0.577851201852746,0.6324872402339828,0.6699757485877507,0.6005636491522768,0.6590202999258918,0.5981500905578756,0.6561782587912329,0.6730638536103453,0.6986788144726345,0.6005076059359151,0.6447855938109645,0.6594532828357825,0.6137534589764885,0.6649146243171157,0.6818719741452454,0.6791382065284949,0.6912618936674448,0.742411845802201,0.6921094898003344,0.6663741090966974,0.628117008436651,0.5247765991787671,0.5423912321786484,0.5504524506118452,0.511699158430248,0.5226701074295813,0.5587253935094368,0.5086675160293255,0.5874596235678208,0.5774425704132776,0.6311267856200584,0.6294456610159914,0.6006375431334332,0.6392338651293065,0.5906316288076469,0.6338281508182309,0.6605988113627994,0.6395786185799547,0.6229434834918487,0.6161109514464944,0.6268782459948355,0.623764894546524,0.6406767913800604,0.6503097482184179,0.6605002295186377,0.6624601413014859,0.4504505862927829,0.5989731470521048,0.5999979706201218,0.5036849476756536,0.483438772194784,0.4828164562031335,0.6856402916047688,0.5582271292627964,0.6433896252793727,0.5738160142313665,0.6042426575712332,0.6151048435187672,0.5054282786327599,0.5189754554053817,0.5375330087841159,0.9999999999999999,0.749183089151202],[0.5534537143892073,0.6628244542932078,0.6035221637869358,0.6174473992954123,0.6642222957431739,0.6350493210691424,0.6595146177530928,0.4988802213573174,0.4843278604718597,0.6291129744843804,0.6762304568716537,0.7060680121071188,0.659228443727883,0.6876245191962322,0.6657792096312538,0.7096881423149202,0.7320286999682739,0.7237782701676092,0.6582665888324333,0.6612170434437976,0.709406993667302,0.6498739458032244,0.6964799484925502,0.6765555721545358,0.7046325990525338,0.6889587165041949,0.7574374400540963,0.6806424526701443,0.7200013265262624,0.6714657503974989,0.5790634297819149,0.5778834311876141,0.5814074947911267,0.5076675569929572,0.5746603397443555,0.550777589629604,0.5485871353301814,0.6308705225881076,0.5817269547722501,0.6344560898986337,0.6332512215332201,0.6426321544927747,0.618150993739607,0.6613609526648326,0.6711864644107521,0.6874169676044345,0.6991085918551515,0.6705420217427155,0.6783187364961413,0.6899874695575927,0.653770545152146,0.6830495379336955,0.6949845781811229,0.7023016560470019,0.7050461051233604,0.5003372827940787,0.6509010569486802,0.642751676590074,0.5687859355703698,0.5564859413873877,0.4906133176378637,0.7017128505622356,0.6514540210893196,0.6097561097675341,0.5707230647056049,0.6241153732641561,0.6072705954771006,0.5831958450883769,0.6633695875162892,0.4808965038354904,0.749183089151202,0.9999999999999997]],\"type\":\"heatmap\",\"xaxis\":\"x\",\"yaxis\":\"y\",\"hovertemplate\":\"x: %{x}<br>y: %{y}<br>Similarity Score: %{z}<extra></extra>\"}],                        {\"template\":{\"data\":{\"bar\":[{\"error_x\":{\"color\":\"#2a3f5f\"},\"error_y\":{\"color\":\"#2a3f5f\"},\"marker\":{\"line\":{\"color\":\"#E5ECF6\",\"width\":0.5},\"pattern\":{\"fillmode\":\"overlay\",\"size\":10,\"solidity\":0.2}},\"type\":\"bar\"}],\"barpolar\":[{\"marker\":{\"line\":{\"color\":\"#E5ECF6\",\"width\":0.5},\"pattern\":{\"fillmode\":\"overlay\",\"size\":10,\"solidity\":0.2}},\"type\":\"barpolar\"}],\"carpet\":[{\"aaxis\":{\"endlinecolor\":\"#2a3f5f\",\"gridcolor\":\"white\",\"linecolor\":\"white\",\"minorgridcolor\":\"white\",\"startlinecolor\":\"#2a3f5f\"},\"baxis\":{\"endlinecolor\":\"#2a3f5f\",\"gridcolor\":\"white\",\"linecolor\":\"white\",\"minorgridcolor\":\"white\",\"startlinecolor\":\"#2a3f5f\"},\"type\":\"carpet\"}],\"choropleth\":[{\"colorbar\":{\"outlinewidth\":0,\"ticks\":\"\"},\"type\":\"choropleth\"}],\"contour\":[{\"colorbar\":{\"outlinewidth\":0,\"ticks\":\"\"},\"colorscale\":[[0.0,\"#0d0887\"],[0.1111111111111111,\"#46039f\"],[0.2222222222222222,\"#7201a8\"],[0.3333333333333333,\"#9c179e\"],[0.4444444444444444,\"#bd3786\"],[0.5555555555555556,\"#d8576b\"],[0.6666666666666666,\"#ed7953\"],[0.7777777777777778,\"#fb9f3a\"],[0.8888888888888888,\"#fdca26\"],[1.0,\"#f0f921\"]],\"type\":\"contour\"}],\"contourcarpet\":[{\"colorbar\":{\"outlinewidth\":0,\"ticks\":\"\"},\"type\":\"contourcarpet\"}],\"heatmap\":[{\"colorbar\":{\"outlinewidth\":0,\"ticks\":\"\"},\"colorscale\":[[0.0,\"#0d0887\"],[0.1111111111111111,\"#46039f\"],[0.2222222222222222,\"#7201a8\"],[0.3333333333333333,\"#9c179e\"],[0.4444444444444444,\"#bd3786\"],[0.5555555555555556,\"#d8576b\"],[0.6666666666666666,\"#ed7953\"],[0.7777777777777778,\"#fb9f3a\"],[0.8888888888888888,\"#fdca26\"],[1.0,\"#f0f921\"]],\"type\":\"heatmap\"}],\"heatmapgl\":[{\"colorbar\":{\"outlinewidth\":0,\"ticks\":\"\"},\"colorscale\":[[0.0,\"#0d0887\"],[0.1111111111111111,\"#46039f\"],[0.2222222222222222,\"#7201a8\"],[0.3333333333333333,\"#9c179e\"],[0.4444444444444444,\"#bd3786\"],[0.5555555555555556,\"#d8576b\"],[0.6666666666666666,\"#ed7953\"],[0.7777777777777778,\"#fb9f3a\"],[0.8888888888888888,\"#fdca26\"],[1.0,\"#f0f921\"]],\"type\":\"heatmapgl\"}],\"histogram\":[{\"marker\":{\"pattern\":{\"fillmode\":\"overlay\",\"size\":10,\"solidity\":0.2}},\"type\":\"histogram\"}],\"histogram2d\":[{\"colorbar\":{\"outlinewidth\":0,\"ticks\":\"\"},\"colorscale\":[[0.0,\"#0d0887\"],[0.1111111111111111,\"#46039f\"],[0.2222222222222222,\"#7201a8\"],[0.3333333333333333,\"#9c179e\"],[0.4444444444444444,\"#bd3786\"],[0.5555555555555556,\"#d8576b\"],[0.6666666666666666,\"#ed7953\"],[0.7777777777777778,\"#fb9f3a\"],[0.8888888888888888,\"#fdca26\"],[1.0,\"#f0f921\"]],\"type\":\"histogram2d\"}],\"histogram2dcontour\":[{\"colorbar\":{\"outlinewidth\":0,\"ticks\":\"\"},\"colorscale\":[[0.0,\"#0d0887\"],[0.1111111111111111,\"#46039f\"],[0.2222222222222222,\"#7201a8\"],[0.3333333333333333,\"#9c179e\"],[0.4444444444444444,\"#bd3786\"],[0.5555555555555556,\"#d8576b\"],[0.6666666666666666,\"#ed7953\"],[0.7777777777777778,\"#fb9f3a\"],[0.8888888888888888,\"#fdca26\"],[1.0,\"#f0f921\"]],\"type\":\"histogram2dcontour\"}],\"mesh3d\":[{\"colorbar\":{\"outlinewidth\":0,\"ticks\":\"\"},\"type\":\"mesh3d\"}],\"parcoords\":[{\"line\":{\"colorbar\":{\"outlinewidth\":0,\"ticks\":\"\"}},\"type\":\"parcoords\"}],\"pie\":[{\"automargin\":true,\"type\":\"pie\"}],\"scatter\":[{\"marker\":{\"colorbar\":{\"outlinewidth\":0,\"ticks\":\"\"}},\"type\":\"scatter\"}],\"scatter3d\":[{\"line\":{\"colorbar\":{\"outlinewidth\":0,\"ticks\":\"\"}},\"marker\":{\"colorbar\":{\"outlinewidth\":0,\"ticks\":\"\"}},\"type\":\"scatter3d\"}],\"scattercarpet\":[{\"marker\":{\"colorbar\":{\"outlinewidth\":0,\"ticks\":\"\"}},\"type\":\"scattercarpet\"}],\"scattergeo\":[{\"marker\":{\"colorbar\":{\"outlinewidth\":0,\"ticks\":\"\"}},\"type\":\"scattergeo\"}],\"scattergl\":[{\"marker\":{\"colorbar\":{\"outlinewidth\":0,\"ticks\":\"\"}},\"type\":\"scattergl\"}],\"scattermapbox\":[{\"marker\":{\"colorbar\":{\"outlinewidth\":0,\"ticks\":\"\"}},\"type\":\"scattermapbox\"}],\"scatterpolar\":[{\"marker\":{\"colorbar\":{\"outlinewidth\":0,\"ticks\":\"\"}},\"type\":\"scatterpolar\"}],\"scatterpolargl\":[{\"marker\":{\"colorbar\":{\"outlinewidth\":0,\"ticks\":\"\"}},\"type\":\"scatterpolargl\"}],\"scatterternary\":[{\"marker\":{\"colorbar\":{\"outlinewidth\":0,\"ticks\":\"\"}},\"type\":\"scatterternary\"}],\"surface\":[{\"colorbar\":{\"outlinewidth\":0,\"ticks\":\"\"},\"colorscale\":[[0.0,\"#0d0887\"],[0.1111111111111111,\"#46039f\"],[0.2222222222222222,\"#7201a8\"],[0.3333333333333333,\"#9c179e\"],[0.4444444444444444,\"#bd3786\"],[0.5555555555555556,\"#d8576b\"],[0.6666666666666666,\"#ed7953\"],[0.7777777777777778,\"#fb9f3a\"],[0.8888888888888888,\"#fdca26\"],[1.0,\"#f0f921\"]],\"type\":\"surface\"}],\"table\":[{\"cells\":{\"fill\":{\"color\":\"#EBF0F8\"},\"line\":{\"color\":\"white\"}},\"header\":{\"fill\":{\"color\":\"#C8D4E3\"},\"line\":{\"color\":\"white\"}},\"type\":\"table\"}]},\"layout\":{\"annotationdefaults\":{\"arrowcolor\":\"#2a3f5f\",\"arrowhead\":0,\"arrowwidth\":1},\"autotypenumbers\":\"strict\",\"coloraxis\":{\"colorbar\":{\"outlinewidth\":0,\"ticks\":\"\"}},\"colorscale\":{\"diverging\":[[0,\"#8e0152\"],[0.1,\"#c51b7d\"],[0.2,\"#de77ae\"],[0.3,\"#f1b6da\"],[0.4,\"#fde0ef\"],[0.5,\"#f7f7f7\"],[0.6,\"#e6f5d0\"],[0.7,\"#b8e186\"],[0.8,\"#7fbc41\"],[0.9,\"#4d9221\"],[1,\"#276419\"]],\"sequential\":[[0.0,\"#0d0887\"],[0.1111111111111111,\"#46039f\"],[0.2222222222222222,\"#7201a8\"],[0.3333333333333333,\"#9c179e\"],[0.4444444444444444,\"#bd3786\"],[0.5555555555555556,\"#d8576b\"],[0.6666666666666666,\"#ed7953\"],[0.7777777777777778,\"#fb9f3a\"],[0.8888888888888888,\"#fdca26\"],[1.0,\"#f0f921\"]],\"sequentialminus\":[[0.0,\"#0d0887\"],[0.1111111111111111,\"#46039f\"],[0.2222222222222222,\"#7201a8\"],[0.3333333333333333,\"#9c179e\"],[0.4444444444444444,\"#bd3786\"],[0.5555555555555556,\"#d8576b\"],[0.6666666666666666,\"#ed7953\"],[0.7777777777777778,\"#fb9f3a\"],[0.8888888888888888,\"#fdca26\"],[1.0,\"#f0f921\"]]},\"colorway\":[\"#636efa\",\"#EF553B\",\"#00cc96\",\"#ab63fa\",\"#FFA15A\",\"#19d3f3\",\"#FF6692\",\"#B6E880\",\"#FF97FF\",\"#FECB52\"],\"font\":{\"color\":\"#2a3f5f\"},\"geo\":{\"bgcolor\":\"white\",\"lakecolor\":\"white\",\"landcolor\":\"#E5ECF6\",\"showlakes\":true,\"showland\":true,\"subunitcolor\":\"white\"},\"hoverlabel\":{\"align\":\"left\"},\"hovermode\":\"closest\",\"mapbox\":{\"style\":\"light\"},\"paper_bgcolor\":\"white\",\"plot_bgcolor\":\"#E5ECF6\",\"polar\":{\"angularaxis\":{\"gridcolor\":\"white\",\"linecolor\":\"white\",\"ticks\":\"\"},\"bgcolor\":\"#E5ECF6\",\"radialaxis\":{\"gridcolor\":\"white\",\"linecolor\":\"white\",\"ticks\":\"\"}},\"scene\":{\"xaxis\":{\"backgroundcolor\":\"#E5ECF6\",\"gridcolor\":\"white\",\"gridwidth\":2,\"linecolor\":\"white\",\"showbackground\":true,\"ticks\":\"\",\"zerolinecolor\":\"white\"},\"yaxis\":{\"backgroundcolor\":\"#E5ECF6\",\"gridcolor\":\"white\",\"gridwidth\":2,\"linecolor\":\"white\",\"showbackground\":true,\"ticks\":\"\",\"zerolinecolor\":\"white\"},\"zaxis\":{\"backgroundcolor\":\"#E5ECF6\",\"gridcolor\":\"white\",\"gridwidth\":2,\"linecolor\":\"white\",\"showbackground\":true,\"ticks\":\"\",\"zerolinecolor\":\"white\"}},\"shapedefaults\":{\"line\":{\"color\":\"#2a3f5f\"}},\"ternary\":{\"aaxis\":{\"gridcolor\":\"white\",\"linecolor\":\"white\",\"ticks\":\"\"},\"baxis\":{\"gridcolor\":\"white\",\"linecolor\":\"white\",\"ticks\":\"\"},\"bgcolor\":\"#E5ECF6\",\"caxis\":{\"gridcolor\":\"white\",\"linecolor\":\"white\",\"ticks\":\"\"}},\"title\":{\"x\":0.05},\"xaxis\":{\"automargin\":true,\"gridcolor\":\"white\",\"linecolor\":\"white\",\"ticks\":\"\",\"title\":{\"standoff\":15},\"zerolinecolor\":\"white\",\"zerolinewidth\":2},\"yaxis\":{\"automargin\":true,\"gridcolor\":\"white\",\"linecolor\":\"white\",\"ticks\":\"\",\"title\":{\"standoff\":15},\"zerolinecolor\":\"white\",\"zerolinewidth\":2}}},\"xaxis\":{\"anchor\":\"y\",\"domain\":[0.0,1.0],\"scaleanchor\":\"y\",\"constrain\":\"domain\"},\"yaxis\":{\"anchor\":\"x\",\"domain\":[0.0,1.0],\"autorange\":\"reversed\",\"constrain\":\"domain\"},\"coloraxis\":{\"colorbar\":{\"title\":{\"text\":\"Similarity Score\"}},\"colorscale\":[[0.0,\"rgb(247,252,240)\"],[0.125,\"rgb(224,243,219)\"],[0.25,\"rgb(204,235,197)\"],[0.375,\"rgb(168,221,181)\"],[0.5,\"rgb(123,204,196)\"],[0.625,\"rgb(78,179,211)\"],[0.75,\"rgb(43,140,190)\"],[0.875,\"rgb(8,104,172)\"],[1.0,\"rgb(8,64,129)\"]]},\"margin\":{\"t\":60},\"title\":{\"font\":{\"size\":22,\"color\":\"Black\"},\"text\":\"<b>Similarity Matrix\",\"y\":0.95,\"x\":0.55,\"xanchor\":\"center\",\"yanchor\":\"top\"},\"hoverlabel\":{\"font\":{\"size\":16,\"family\":\"Rockwell\"},\"bgcolor\":\"white\"},\"width\":1000,\"height\":1000,\"showlegend\":true,\"legend\":{\"title\":{\"text\":\"Trend\"}}},                        {\"responsive\": true}                    ).then(function(){\n",
              "                            \n",
              "var gd = document.getElementById('58a58c86-1361-4546-92b0-15ddebd1b968');\n",
              "var x = new MutationObserver(function (mutations, observer) {{\n",
              "        var display = window.getComputedStyle(gd).display;\n",
              "        if (!display || display === 'none') {{\n",
              "            console.log([gd, 'removed!']);\n",
              "            Plotly.purge(gd);\n",
              "            observer.disconnect();\n",
              "        }}\n",
              "}});\n",
              "\n",
              "// Listen for the removal of the full notebook cells\n",
              "var notebookContainer = gd.closest('#notebook-container');\n",
              "if (notebookContainer) {{\n",
              "    x.observe(notebookContainer, {childList: true});\n",
              "}}\n",
              "\n",
              "// Listen for the clearing of the current output cell\n",
              "var outputEl = gd.closest('.output');\n",
              "if (outputEl) {{\n",
              "    x.observe(outputEl, {childList: true});\n",
              "}}\n",
              "\n",
              "                        })                };                            </script>        </div>\n",
              "</body>\n",
              "</html>"
            ]
          },
          "metadata": {}
        }
      ]
    },
    {
      "cell_type": "markdown",
      "source": [
        "### **Save Similarity Matrix**"
      ],
      "metadata": {
        "id": "CF3QJy6epmQY"
      }
    },
    {
      "cell_type": "code",
      "source": [
        "# Set the path to save \n",
        "path = '/content/Topic-Modeling-Reclame-Aqui/results/similarity_matrix/'\n",
        "\n",
        "# Use makedirs() to create a new directory if it does not exists\n",
        "if not os.path.exists(path):\n",
        "  os.makedirs(path)\n",
        "\n",
        "\n",
        "fig.write_image(path + \"sm_preprocessed_lemma.png\", format=\"png\")"
      ],
      "metadata": {
        "id": "VQOAZurPprA4"
      },
      "execution_count": 77,
      "outputs": []
    },
    {
      "cell_type": "markdown",
      "source": [
        "### **Visualize Term Score Decline**\n",
        "\n",
        "Topics are represented by a number of words starting with the best representative word. Each word is represented by a c-TF-IDF score. The higher the score, the more representative a word to the topic is. Since the topic words are sorted by their c-TF-IDF score, the scores slowly decline with each word that is added."
      ],
      "metadata": {
        "id": "vd41xsx7Xhgj"
      }
    },
    {
      "cell_type": "code",
      "source": [
        "fig = topic_model.visualize_term_rank()\n",
        "fig"
      ],
      "metadata": {
        "id": "Rw1wXTEtX967",
        "outputId": "2f9d2000-e1f5-42ac-b6b1-0cf77242e74b",
        "colab": {
          "base_uri": "https://localhost:8080/",
          "height": 537
        }
      },
      "execution_count": 72,
      "outputs": [
        {
          "output_type": "display_data",
          "data": {
            "text/html": [
              "<html>\n",
              "<head><meta charset=\"utf-8\" /></head>\n",
              "<body>\n",
              "    <div>            <script src=\"https://cdnjs.cloudflare.com/ajax/libs/mathjax/2.7.5/MathJax.js?config=TeX-AMS-MML_SVG\"></script><script type=\"text/javascript\">if (window.MathJax) {MathJax.Hub.Config({SVG: {font: \"STIX-Web\"}});}</script>                <script type=\"text/javascript\">window.PlotlyConfig = {MathJaxConfig: 'local'};</script>\n",
              "        <script src=\"https://cdn.plot.ly/plotly-2.8.3.min.js\"></script>                <div id=\"152ae082-d0a1-4f46-9d9c-4260712c2900\" class=\"plotly-graph-div\" style=\"height:500px; width:800px;\"></div>            <script type=\"text/javascript\">                                    window.PLOTLYENV=window.PLOTLYENV || {};                                    if (document.getElementById(\"152ae082-d0a1-4f46-9d9c-4260712c2900\")) {                    Plotly.newPlot(                        \"152ae082-d0a1-4f46-9d9c-4260712c2900\",                        [{\"hovertext\":\"<b>Topic -1</b>:produto_entregar_pedir_compra_merc\",\"line\":{\"color\":\"black\",\"width\":1.5},\"mode\":\"lines+lines\",\"name\":\"\",\"opacity\":0.1,\"x\":[1,2,3,4,5,6,7,8,9,10],\"y\":[0.011170316538020999,0.010723079625371819,0.010341114897842226,0.010282978086919631,0.008870565419573878,0.00827884547696613,0.008247789422475357,0.008240278370046495,0.008069528085168904,0.00806301290022605],\"type\":\"scatter\"},{\"hovertext\":\"<b>Topic 0</b>:amazon_prime_cobran\\u00e7a_cart\\u00e3o_pedir_\",\"line\":{\"color\":\"black\",\"width\":1.5},\"mode\":\"lines+lines\",\"name\":\"\",\"opacity\":0.1,\"x\":[1,2,3,4,5,6,7,8,9,10],\"y\":[0.03943737137920581,0.013007478850080063,0.011313491991804299,0.01105417164656088,0.009629337432239456,0.009384437080665347,0.009085718296890831,0.009007032676418628,0.008395404205819409,0.008318275718583769],\"type\":\"scatter\"},{\"hovertext\":\"<b>Topic 1</b>:bahia_casa_casas_entregar_transport\",\"line\":{\"color\":\"black\",\"width\":1.5},\"mode\":\"lines+lines\",\"name\":\"\",\"opacity\":0.1,\"x\":[1,2,3,4,5,6,7,8,9,10],\"y\":[0.057998944493241146,0.038600628257890644,0.025834332724225303,0.015848782143092818,0.012910366338106407,0.012219955886639228,0.010194981405486307,0.009799239283220209,0.00934087174269674,0.009266758327248466],\"type\":\"scatter\"},{\"hovertext\":\"<b>Topic 2</b>:celular_samsung_aparelho_galaxy_pro\",\"line\":{\"color\":\"black\",\"width\":1.5},\"mode\":\"lines+lines\",\"name\":\"\",\"opacity\":0.1,\"x\":[1,2,3,4,5,6,7,8,9,10],\"y\":[0.036937623076380724,0.029777296163819696,0.0186879136720332,0.011043772925310998,0.010696466451387021,0.010653009222856738,0.010300447505184366,0.010159902463705867,0.009938232226962974,0.009888623665863107],\"type\":\"scatter\"},{\"hovertext\":\"<b>Topic 3</b>:atraso_prazo_entregar_data_novembro\",\"line\":{\"color\":\"black\",\"width\":1.5},\"mode\":\"lines+lines\",\"name\":\"\",\"opacity\":0.1,\"x\":[1,2,3,4,5,6,7,8,9,10],\"y\":[0.0356964799335575,0.031538934213473736,0.027680275234028048,0.025588382043749323,0.02401808508146071,0.022317210672826163,0.019059395446698883,0.01728068621633259,0.016987866907012827,0.01669213952969672],\"type\":\"scatter\"},{\"hovertext\":\"<b>Topic 4</b>:endere\\u00e7o_shein_pedir_remetente_pedi\",\"line\":{\"color\":\"black\",\"width\":1.5},\"mode\":\"lines+lines\",\"name\":\"\",\"opacity\":0.1,\"x\":[1,2,3,4,5,6,7,8,9,10],\"y\":[0.03465959643139238,0.03380280552193349,0.025632024618318604,0.022154270614923383,0.02139520950762258,0.020492662010060704,0.01765407562833556,0.016954320229344635,0.01529314458998722,0.014704413808370315],\"type\":\"scatter\"},{\"hovertext\":\"<b>Topic 5</b>:whatsapp_contato_atendimento_entreg\",\"line\":{\"color\":\"black\",\"width\":1.5},\"mode\":\"lines+lines\",\"name\":\"\",\"opacity\":0.1,\"x\":[1,2,3,4,5,6,7,8,9,10],\"y\":[0.047492294932817515,0.015044742577760773,0.012810180971051044,0.012505041724182025,0.01123296092105315,0.011072818235672875,0.0108596247184809,0.010772610578816674,0.010045536749893278,0.009700907134800365],\"type\":\"scatter\"},{\"hovertext\":\"<b>Topic 6</b>:mercado_livre_vendedor_ariano_produ\",\"line\":{\"color\":\"black\",\"width\":1.5},\"mode\":\"lines+lines\",\"name\":\"\",\"opacity\":0.1,\"x\":[1,2,3,4,5,6,7,8,9,10],\"y\":[0.03602578898505646,0.03377014529090897,0.018493763296841385,0.017050365748726367,0.016795768503064485,0.01668956412402522,0.015584772001880165,0.014286610379013229,0.013715230440833774,0.013099610993539547],\"type\":\"scatter\"},{\"hovertext\":\"<b>Topic 7</b>:cancelamento_cancelar_pedir_querer_\",\"line\":{\"color\":\"black\",\"width\":1.5},\"mode\":\"lines+lines\",\"name\":\"\",\"opacity\":0.1,\"x\":[1,2,3,4,5,6,7,8,9,10],\"y\":[0.055580551635573086,0.051251957130739795,0.022251359952260998,0.014743991126838251,0.013432124818068075,0.01283000374773907,0.012731752569536969,0.012322397943101243,0.011936199626929388,0.010808222353232571],\"type\":\"scatter\"},{\"hovertext\":\"<b>Topic 8</b>:brasil_shein_chegar_brasileiro_corr\",\"line\":{\"color\":\"black\",\"width\":1.5},\"mode\":\"lines+lines\",\"name\":\"\",\"opacity\":0.1,\"x\":[1,2,3,4,5,6,7,8,9,10],\"y\":[0.05603347109888566,0.030276083102243494,0.015171062762553063,0.014776169995313806,0.013254530883497522,0.012553122720840361,0.011842358352225992,0.01168905255335694,0.0113154408749206,0.011311863724608125],\"type\":\"scatter\"},{\"hovertext\":\"<b>Topic 9</b>:conta_acessar_senha_acesso_mail_con\",\"line\":{\"color\":\"black\",\"width\":1.5},\"mode\":\"lines+lines\",\"name\":\"\",\"opacity\":0.1,\"x\":[1,2,3,4,5,6,7,8,9,10],\"y\":[0.058843676656047006,0.05238327198248367,0.050105635824107736,0.04614804018144591,0.04188607056145797,0.04182805034574242,0.02823560561043474,0.0243659579446,0.023032514802976405,0.022163218923782275],\"type\":\"scatter\"},{\"hovertext\":\"<b>Topic 10</b>:cart\\u00e3o_cr\\u00e9dito_pagamento_compra_sh\",\"line\":{\"color\":\"black\",\"width\":1.5},\"mode\":\"lines+lines\",\"name\":\"\",\"opacity\":0.1,\"x\":[1,2,3,4,5,6,7,8,9,10],\"y\":[0.09300200843339772,0.05156153013397441,0.03484457630665119,0.02870630767339518,0.027855145491901823,0.027169281947338697,0.021481802345388313,0.018674475794954147,0.017836369416871063,0.0167967569789243],\"type\":\"scatter\"},{\"hovertext\":\"<b>Topic 11</b>:loja_atendimento_contato_entrar_co\",\"line\":{\"color\":\"black\",\"width\":1.5},\"mode\":\"lines+lines\",\"name\":\"\",\"opacity\":0.1,\"x\":[1,2,3,4,5,6,7,8,9,10],\"y\":[0.0132013975268038,0.01017048639832847,0.009462140016873597,0.009203696818007558,0.009094977275920459,0.009076829746857019,0.008864756525336609,0.008306306175513175,0.008060176634272605,0.008017396173208596],\"type\":\"scatter\"},{\"hovertext\":\"<b>Topic 12</b>:propaganda_enganoso_an\\u00fancio_anunci\",\"line\":{\"color\":\"black\",\"width\":1.5},\"mode\":\"lines+lines\",\"name\":\"\",\"opacity\":0.1,\"x\":[1,2,3,4,5,6,7,8,9,10],\"y\":[0.07298355884235781,0.06871496352885484,0.0235776145230409,0.019496204262522843,0.017060677444926464,0.015482351392078167,0.015401229242035038,0.014847879242964854,0.01393261651972771,0.013643399839104705],\"type\":\"scatter\"},{\"hovertext\":\"<b>Topic 13</b>:iphone_apple_aparelho_carregador_c\",\"line\":{\"color\":\"black\",\"width\":1.5},\"mode\":\"lines+lines\",\"name\":\"\",\"opacity\":0.1,\"x\":[1,2,3,4,5,6,7,8,9,10],\"y\":[0.06389164770205179,0.02710271445199097,0.019708460812091082,0.01948587075998323,0.01258135519612621,0.011333526452280359,0.011197324708684809,0.011025224167118495,0.010939143538750992,0.009916916421216598],\"type\":\"scatter\"},{\"hovertext\":\"<b>Topic 14</b>:recebi_nacional_pedir_entregar_enc\",\"line\":{\"color\":\"black\",\"width\":1.5},\"mode\":\"lines+lines\",\"name\":\"\",\"opacity\":0.1,\"x\":[1,2,3,4,5,6,7,8,9,10],\"y\":[0.04129841928367346,0.03878675028125747,0.037962066949210636,0.036832242019933424,0.03651587659327342,0.030379115757261103,0.0259631569534898,0.025651586823647828,0.018021919051292083,0.017003031579074897],\"type\":\"scatter\"},{\"hovertext\":\"<b>Topic 15</b>:roupa_cal\\u00e7a_vestir_dois_tamanho_vi\",\"line\":{\"color\":\"black\",\"width\":1.5},\"mode\":\"lines+lines\",\"name\":\"\",\"opacity\":0.1,\"x\":[1,2,3,4,5,6,7,8,9,10],\"y\":[0.0794872884275811,0.06632188918557556,0.0426869082528719,0.026331328502045517,0.02485659532089648,0.023288253481673914,0.022570202212927933,0.02223702096894971,0.02059468754375049,0.02002571063417632],\"type\":\"scatter\"},{\"hovertext\":\"<b>Topic 16</b>:reembolso_recebi_reembolsar_devolv\",\"line\":{\"color\":\"black\",\"width\":1.5},\"mode\":\"lines+lines\",\"name\":\"\",\"opacity\":0.1,\"x\":[1,2,3,4,5,6,7,8,9,10],\"y\":[0.1155634803899042,0.04074780673823847,0.03419619101887419,0.03159314403408257,0.03156201717771917,0.023275575372466023,0.019225102800399917,0.019113433356492765,0.01850309448972936,0.018168517148071908],\"type\":\"scatter\"},{\"hovertext\":\"<b>Topic 17</b>:americana_americano_americanas_loj\",\"line\":{\"color\":\"black\",\"width\":1.5},\"mode\":\"lines+lines\",\"name\":\"\",\"opacity\":0.1,\"x\":[1,2,3,4,5,6,7,8,9,10],\"y\":[0.06028445323460753,0.03806991783682521,0.027127389116650177,0.02672463092096338,0.021302880608292045,0.01790040843295972,0.01643152114432542,0.01609869642712199,0.01496785919899686,0.014285582153609833],\"type\":\"scatter\"},{\"hovertext\":\"<b>Topic 18</b>:geladeira_refrigerador_geladeiro_t\",\"line\":{\"color\":\"black\",\"width\":1.5},\"mode\":\"lines+lines\",\"name\":\"\",\"opacity\":0.1,\"x\":[1,2,3,4,5,6,7,8,9,10],\"y\":[0.12045096082171665,0.03742531760546552,0.02964290470223318,0.01923290826005488,0.017856341943870722,0.017556656175876047,0.01729421666582086,0.013462419319931307,0.012775088050731357,0.012534848293186364],\"type\":\"scatter\"},{\"hovertext\":\"<b>Topic 19</b>:quebrar_defeito_vir_caixa_pe\\u00e7a_pro\",\"line\":{\"color\":\"black\",\"width\":1.5},\"mode\":\"lines+lines\",\"name\":\"\",\"opacity\":0.1,\"x\":[1,2,3,4,5,6,7,8,9,10],\"y\":[0.03089808216716071,0.03078912414673853,0.029901750002958746,0.024984117537567734,0.023735372063485912,0.023181829303261264,0.023114530493745726,0.02307626989849564,0.017482793863559706,0.015700328297114187],\"type\":\"scatter\"},{\"hovertext\":\"<b>Topic 20</b>:devolu\\u00e7\\u00e3o_c\\u00f3digo_devolver_solicite\",\"line\":{\"color\":\"black\",\"width\":1.5},\"mode\":\"lines+lines\",\"name\":\"\",\"opacity\":0.1,\"x\":[1,2,3,4,5,6,7,8,9,10],\"y\":[0.11134043707973358,0.050398813292739625,0.022706287064050295,0.022226687170517397,0.018819509135111656,0.01853462350210277,0.018424174034003902,0.017857157938935095,0.017252340299439065,0.01712982221960132],\"type\":\"scatter\"},{\"hovertext\":\"<b>Topic 21</b>:jogo_lan\\u00e7amento_ragnarok_venda_pr\\u00e9\",\"line\":{\"color\":\"black\",\"width\":1.5},\"mode\":\"lines+lines\",\"name\":\"\",\"opacity\":0.1,\"x\":[1,2,3,4,5,6,7,8,9,10],\"y\":[0.12108817867084584,0.09244042318555115,0.06325000553140252,0.06034913968550942,0.04810016278340852,0.021214554553107737,0.02111370045081534,0.020780820116176053,0.01898916874916087,0.01714986274983226],\"type\":\"scatter\"},{\"hovertext\":\"<b>Topic 22</b>:entregar_assinar_recebi_produto_en\",\"line\":{\"color\":\"black\",\"width\":1.5},\"mode\":\"lines+lines\",\"name\":\"\",\"opacity\":0.1,\"x\":[1,2,3,4,5,6,7,8,9,10],\"y\":[0.03234852720017265,0.030517276557776352,0.029506188065893165,0.029068377873455283,0.027511481369606208,0.02470874668817692,0.02221604621856244,0.020280411138897406,0.020122382763820838,0.01912752406156347],\"type\":\"scatter\"},{\"hovertext\":\"<b>Topic 23</b>:bloquear_contar_conta_desbloquear_\",\"line\":{\"color\":\"black\",\"width\":1.5},\"mode\":\"lines+lines\",\"name\":\"\",\"opacity\":0.1,\"x\":[1,2,3,4,5,6,7,8,9,10],\"y\":[0.0890318845256816,0.07024917171468643,0.05200453817243279,0.0474186758286105,0.023159625155536066,0.02125368113580416,0.020380095688838872,0.019316671942243718,0.018940259201580156,0.01800361016352335],\"type\":\"scatter\"},{\"hovertext\":\"<b>Topic 24</b>:m\\u00e1quina_lavar_roupa_maquina_aspira\",\"line\":{\"color\":\"black\",\"width\":1.5},\"mode\":\"lines+lines\",\"name\":\"\",\"opacity\":0.1,\"x\":[1,2,3,4,5,6,7,8,9,10],\"y\":[0.11810057958219376,0.09940540668063237,0.040449563600175494,0.026618225093293327,0.02430407567299987,0.020397388881983954,0.016527420714822532,0.016293435979041607,0.015241356923194437,0.01499680952114245],\"type\":\"scatter\"},{\"hovertext\":\"<b>Topic 25</b>:curitiba_tr\\u00e2nsito_parado_encomenda\",\"line\":{\"color\":\"black\",\"width\":1.5},\"mode\":\"lines+lines\",\"name\":\"\",\"opacity\":0.1,\"x\":[1,2,3,4,5,6,7,8,9,10],\"y\":[0.25226558007859784,0.08044185064030406,0.06650411898970057,0.0409103093433082,0.03845539192822388,0.03806016791954156,0.03801559208707855,0.03453556226568319,0.034079515542482196,0.03296599540989878],\"type\":\"scatter\"},{\"hovertext\":\"<b>Topic 26</b>:cupom_black_friday_promo\\u00e7\\u00e3o_americ\",\"line\":{\"color\":\"black\",\"width\":1.5},\"mode\":\"lines+lines\",\"name\":\"\",\"opacity\":0.1,\"x\":[1,2,3,4,5,6,7,8,9,10],\"y\":[0.08057370717439102,0.05303678592723932,0.04494014322288012,0.024486715705439612,0.02364927681411774,0.023288062236071667,0.023001576918560897,0.021569168236474097,0.021060507696543513,0.019833323574760094],\"type\":\"scatter\"},{\"hovertext\":\"<b>Topic 27</b>:rastreio_c\\u00f3digo_rastreamento_apare\",\"line\":{\"color\":\"black\",\"width\":1.5},\"mode\":\"lines+lines\",\"name\":\"\",\"opacity\":0.1,\"x\":[1,2,3,4,5,6,7,8,9,10],\"y\":[0.1673540457986781,0.12719390620050675,0.0613774141988954,0.0358062063909862,0.029941202986818998,0.02969008582418708,0.0275446421678439,0.02456330289022898,0.02355798697600075,0.02275776758194514],\"type\":\"scatter\"},{\"hovertext\":\"<b>Topic 28</b>:cashback_02_valor_extrato_american\",\"line\":{\"color\":\"black\",\"width\":1.5},\"mode\":\"lines+lines\",\"name\":\"\",\"opacity\":0.1,\"x\":[1,2,3,4,5,6,7,8,9,10],\"y\":[0.2164206177686992,0.04377626900913486,0.03861823117208947,0.03136346144071545,0.02256709108029386,0.021918871347231715,0.020704767206784717,0.018894207237999474,0.01876531470075199,0.01876531470075199],\"type\":\"scatter\"},{\"hovertext\":\"<b>Topic 29</b>:monitor_defeito_notebook_apresenta\",\"line\":{\"color\":\"black\",\"width\":1.5},\"mode\":\"lines+lines\",\"name\":\"\",\"opacity\":0.1,\"x\":[1,2,3,4,5,6,7,8,9,10],\"y\":[0.05722634034010155,0.03611627465893082,0.02994791121705351,0.023943815202302862,0.02053580891551318,0.019241041017915694,0.018707593115897054,0.01698894428768546,0.016725243398482175,0.016474303093207358],\"type\":\"scatter\"},{\"hovertext\":\"<b>Topic 30</b>:rob\\u00f4_macac\\u00e3o_arranhador_comedouro_\",\"line\":{\"color\":\"black\",\"width\":1.5},\"mode\":\"lines+lines\",\"name\":\"\",\"opacity\":0.1,\"x\":[1,2,3,4,5,6,7,8,9,10],\"y\":[0.09699010316412146,0.047781184793799725,0.029434127179742312,0.027192642112557303,0.020681380148779568,0.019571865836895828,0.019269908659779265,0.01806776127701605,0.017698802086126866,0.017062348203902514],\"type\":\"scatter\"},{\"hovertext\":\"<b>Topic 31</b>:entregar_pedir_prazo_atraso_loja_i\",\"line\":{\"color\":\"black\",\"width\":1.5},\"mode\":\"lines+lines\",\"name\":\"\",\"opacity\":0.1,\"x\":[1,2,3,4,5,6,7,8,9,10],\"y\":[0.02525249693620621,0.020951095402443828,0.018784896914464114,0.017104891635564858,0.016279015198801358,0.01627161830144529,0.014964737328487524,0.013683588877318771,0.013581756866234206,0.013464739158280175],\"type\":\"scatter\"},{\"hovertext\":\"<b>Topic 32</b>:entregar_livre_00h_mercado_hor\\u00e1rio\",\"line\":{\"color\":\"black\",\"width\":1.5},\"mode\":\"lines+lines\",\"name\":\"\",\"opacity\":0.1,\"x\":[1,2,3,4,5,6,7,8,9,10],\"y\":[0.01659811932052128,0.015268540520887861,0.014829139774667606,0.014593514918690912,0.01358718744052509,0.013138432412590932,0.011539053465357808,0.011439949176839248,0.011190305929347584,0.010900122024551812],\"type\":\"scatter\"},{\"hovertext\":\"<b>Topic 33</b>:taxa_shein_taxar_taxado_reembolso_\",\"line\":{\"color\":\"black\",\"width\":1.5},\"mode\":\"lines+lines\",\"name\":\"\",\"opacity\":0.1,\"x\":[1,2,3,4,5,6,7,8,9,10],\"y\":[0.07269894390812409,0.06707268270249302,0.06430345608285408,0.03488355296462366,0.03445705535913367,0.03292186997870194,0.028099667468293447,0.027131652305818398,0.024243920910942456,0.024135202273375764],\"type\":\"scatter\"},{\"hovertext\":\"<b>Topic 34</b>:magazine_luizar_luizo_magaziner_lu\",\"line\":{\"color\":\"black\",\"width\":1.5},\"mode\":\"lines+lines\",\"name\":\"\",\"opacity\":0.1,\"x\":[1,2,3,4,5,6,7,8,9,10],\"y\":[0.07903125625884962,0.056013379835084094,0.04101111863545257,0.03979178779651561,0.03373961845390132,0.0325407637662196,0.021482275740921618,0.020663599810054094,0.02024375132358869,0.018810605234833543],\"type\":\"scatter\"},{\"hovertext\":\"<b>Topic 35</b>:t\\u00eanis_tenis_devolu\\u00e7\\u00e3o_apresentar_n\",\"line\":{\"color\":\"black\",\"width\":1.5},\"mode\":\"lines+lines\",\"name\":\"\",\"opacity\":0.1,\"x\":[1,2,3,4,5,6,7,8,9,10],\"y\":[0.1484163062789732,0.037688521280437204,0.01924580341449569,0.018568359576384964,0.018310990548268447,0.01830394048577849,0.01813311277361482,0.017908769830315863,0.016007404572840465,0.015219620860268067],\"type\":\"scatter\"},{\"hovertext\":\"<b>Topic 36</b>:cr\\u00e9dito_mercado_pagar_livre_cobran\",\"line\":{\"color\":\"black\",\"width\":1.5},\"mode\":\"lines+lines\",\"name\":\"\",\"opacity\":0.1,\"x\":[1,2,3,4,5,6,7,8,9,10],\"y\":[0.04579404470469151,0.03824313995983555,0.027277419169119972,0.019726968623762588,0.01936264068537481,0.01832953206884487,0.01756186756252383,0.0171255694179277,0.0168207561177331,0.016693035288394383],\"type\":\"scatter\"},{\"hovertext\":\"<b>Topic 37</b>:china_nacional_shein_order_demor_p\",\"line\":{\"color\":\"black\",\"width\":1.5},\"mode\":\"lines+lines\",\"name\":\"\",\"opacity\":0.1,\"x\":[1,2,3,4,5,6,7,8,9,10],\"y\":[0.1588297089909162,0.061933681900717574,0.03366190944962387,0.022799879109999532,0.022589766868908377,0.022190004095543014,0.021304703434226833,0.02110869871380728,0.020479895931783346,0.019958452777529653],\"type\":\"scatter\"},{\"hovertext\":\"<b>Topic 38</b>:americana_consumidor_comprar_respe\",\"line\":{\"color\":\"black\",\"width\":1.5},\"mode\":\"lines+lines\",\"name\":\"\",\"opacity\":0.1,\"x\":[1,2,3,4,5,6,7,8,9,10],\"y\":[0.07834999135499483,0.02555895077429134,0.019987636426771854,0.018371500161210006,0.017174387995612897,0.016798259649107954,0.016435525681842617,0.015598262122151405,0.015585693086817495,0.015538402643610933],\"type\":\"scatter\"},{\"hovertext\":\"<b>Topic 39</b>:bluetooth_fone_controle_defeito_ou\",\"line\":{\"color\":\"black\",\"width\":1.5},\"mode\":\"lines+lines\",\"name\":\"\",\"opacity\":0.1,\"x\":[1,2,3,4,5,6,7,8,9,10],\"y\":[0.0831895049482294,0.06252136128315279,0.025282537616853635,0.02505392848201044,0.01962307437240201,0.018760276190668317,0.017868912318555055,0.017779220963781726,0.017525525751092168,0.017498730277626006],\"type\":\"scatter\"},{\"hovertext\":\"<b>Topic 40</b>:prazo_entregar_atrasar_fog\\u00e3o_livre\",\"line\":{\"color\":\"black\",\"width\":1.5},\"mode\":\"lines+lines\",\"name\":\"\",\"opacity\":0.1,\"x\":[1,2,3,4,5,6,7,8,9,10],\"y\":[0.023626147719483223,0.023340184359178475,0.022379299780464167,0.018168452946798162,0.017494512397971337,0.017017254276679664,0.016843992626639152,0.016584657044037283,0.014659111152529736,0.014501634948529647],\"type\":\"scatter\"},{\"hovertext\":\"<b>Topic 41</b>:chandon_produto_entregar_mercadori\",\"line\":{\"color\":\"black\",\"width\":1.5},\"mode\":\"lines+lines\",\"name\":\"\",\"opacity\":0.1,\"x\":[1,2,3,4,5,6,7,8,9,10],\"y\":[0.06356788609125932,0.06178230381160962,0.059443541175027696,0.05602332915007658,0.05114800573004237,0.03631759824067205,0.036288114962323675,0.036266436390824566,0.0344596734522167,0.0344596734522167],\"type\":\"scatter\"},{\"hovertext\":\"<b>Topic 42</b>:recebi_mail_mercadoria_certinho_ra\",\"line\":{\"color\":\"black\",\"width\":1.5},\"mode\":\"lines+lines\",\"name\":\"\",\"opacity\":0.1,\"x\":[1,2,3,4,5,6,7,8,9,10],\"y\":[0.08740029455956401,0.057700293116948034,0.05733134509646846,0.03797085308364203,0.03602461639490331,0.0328369797225002,0.03238507840153469,0.0293798147940631,0.02662287113164428,0.02578352481692511],\"type\":\"scatter\"},{\"hovertext\":\"<b>Topic 43</b>:reconhecimento_facial_reconhecer_r\",\"line\":{\"color\":\"black\",\"width\":1.5},\"mode\":\"lines+lines\",\"name\":\"\",\"opacity\":0.1,\"x\":[1,2,3,4,5,6,7,8,9,10],\"y\":[0.2089988128559024,0.1949858063684055,0.05848077429307924,0.05330633424427753,0.039642074788874646,0.037990399459849826,0.030816525568943078,0.02828112552673133,0.027897055003749418,0.02759303795809817],\"type\":\"scatter\"},{\"hovertext\":\"<b>Topic 44</b>:embalagem_oculo_produto_vir_saco_d\",\"line\":{\"color\":\"black\",\"width\":1.5},\"mode\":\"lines+lines\",\"name\":\"\",\"opacity\":0.1,\"x\":[1,2,3,4,5,6,7,8,9,10],\"y\":[0.06702152366583124,0.055231941580267487,0.04689118443137551,0.04206956169247442,0.03896640725734929,0.03805343152017225,0.03761837663701781,0.03756488507260581,0.03416959169601557,0.033450030911832636],\"type\":\"scatter\"},{\"hovertext\":\"<b>Topic 45</b>:cancelamento_cancelar_pilha_suspen\",\"line\":{\"color\":\"black\",\"width\":1.5},\"mode\":\"lines+lines\",\"name\":\"\",\"opacity\":0.1,\"x\":[1,2,3,4,5,6,7,8,9,10],\"y\":[0.03304482484732144,0.031419424290309354,0.026098357206668962,0.02413155187069645,0.017544722845554393,0.015567242279827883,0.01544750805770293,0.01482476525393862,0.014673558024372398,0.014406481291267799],\"type\":\"scatter\"},{\"hovertext\":\"<b>Topic 46</b>:atraso_entregar_desenbara\\u00e7o_00hrs_\",\"line\":{\"color\":\"black\",\"width\":1.5},\"mode\":\"lines+lines\",\"name\":\"\",\"opacity\":0.1,\"x\":[1,2,3,4,5,6,7,8,9,10],\"y\":[0.09429071514105129,0.05816220262081043,0.054880274992120545,0.05217806085517184,0.04191817189657396,0.03944828352037464,0.03795955515143494,0.03688008999518421,0.03685138687081809,0.030142454100202994],\"type\":\"scatter\"},{\"hovertext\":\"<b>Topic 47</b>:americana_entregar_atraso_pedir_at\",\"line\":{\"color\":\"black\",\"width\":1.5},\"mode\":\"lines+lines\",\"name\":\"\",\"opacity\":0.1,\"x\":[1,2,3,4,5,6,7,8,9,10],\"y\":[0.05229343496650979,0.03779578590399919,0.030226351228842676,0.028814315361751334,0.02293298786479096,0.020611989031508297,0.019526359191612722,0.01948221784074518,0.01861796012557395,0.018536134609898853],\"type\":\"scatter\"},{\"hovertext\":\"<b>Topic 48</b>:livre_mercado_ontem_entregar_sempr\",\"line\":{\"color\":\"black\",\"width\":1.5},\"mode\":\"lines+lines\",\"name\":\"\",\"opacity\":0.1,\"x\":[1,2,3,4,5,6,7,8,9,10],\"y\":[0.04616233048000911,0.04353319704558645,0.034623785570926414,0.027432897163738333,0.0205311470577079,0.020408628756912062,0.019643186866858123,0.01938266221113896,0.019195953017594834,0.018303711814027235],\"type\":\"scatter\"},{\"hovertext\":\"<b>Topic 49</b>:amazon_livro_s\\u00e9rie_cupom_gratuito_\",\"line\":{\"color\":\"black\",\"width\":1.5},\"mode\":\"lines+lines\",\"name\":\"\",\"opacity\":0.1,\"x\":[1,2,3,4,5,6,7,8,9,10],\"y\":[0.03443777059641381,0.0339214196526504,0.022146207362868865,0.021663773528574053,0.015882879123959952,0.015571885203998652,0.01304414739562187,0.012469969361588767,0.012451507708165438,0.01217358339578452],\"type\":\"scatter\"},{\"hovertext\":\"<b>Topic 50</b>:shein_correios_atualiza\\u00e7\\u00e3o_desde_a\",\"line\":{\"color\":\"black\",\"width\":1.5},\"mode\":\"lines+lines\",\"name\":\"\",\"opacity\":0.1,\"x\":[1,2,3,4,5,6,7,8,9,10],\"y\":[0.058437074804547046,0.050428839299117366,0.034690972295878766,0.03142440466024951,0.030307729866766484,0.025405039140341448,0.02538249677639615,0.025077974857893624,0.024888351470578687,0.02387917429605019],\"type\":\"scatter\"},{\"hovertext\":\"<b>Topic 51</b>:perfume_falsificar_devolu\\u00e7\\u00e3o_caro_\",\"line\":{\"color\":\"black\",\"width\":1.5},\"mode\":\"lines+lines\",\"name\":\"\",\"opacity\":0.1,\"x\":[1,2,3,4,5,6,7,8,9,10],\"y\":[0.18498814908015615,0.04124565817563272,0.028747005164025403,0.028558887106857136,0.0274483981518441,0.02716716437391624,0.024223578059274397,0.023871634644797565,0.022656010681724965,0.021979159052783123],\"type\":\"scatter\"},{\"hovertext\":\"<b>Topic 52</b>:paulo_atraso_luis_atrasado_curitib\",\"line\":{\"color\":\"black\",\"width\":1.5},\"mode\":\"lines+lines\",\"name\":\"\",\"opacity\":0.1,\"x\":[1,2,3,4,5,6,7,8,9,10],\"y\":[0.07365496799529395,0.07152266635225128,0.06671823031598684,0.0666868453544314,0.0662803370301107,0.05165311834383527,0.04934401532778256,0.0449470282396661,0.04214094765641137,0.03949139568196515],\"type\":\"scatter\"},{\"hovertext\":\"<b>Topic 53</b>:pneu_moto_175_troca_coleta_parts_5\",\"line\":{\"color\":\"black\",\"width\":1.5},\"mode\":\"lines+lines\",\"name\":\"\",\"opacity\":0.1,\"x\":[1,2,3,4,5,6,7,8,9,10],\"y\":[0.1939076123296544,0.03484908137268985,0.02884273984035375,0.02852072323844189,0.026358196612576833,0.022677799583520886,0.022677799583520886,0.022677799583520886,0.022677799583520886,0.022677799583520886],\"type\":\"scatter\"},{\"hovertext\":\"<b>Topic 54</b>:microondas_electrolux_nell_forno_a\",\"line\":{\"color\":\"black\",\"width\":1.5},\"mode\":\"lines+lines\",\"name\":\"\",\"opacity\":0.1,\"x\":[1,2,3,4,5,6,7,8,9,10],\"y\":[0.1255336926176779,0.06887278105929143,0.041664980766669746,0.04159612729362169,0.03400971413310671,0.031204950508249837,0.029191456263817497,0.02915280569644655,0.028138077390648303,0.028118830830186577],\"type\":\"scatter\"},{\"hovertext\":\"<b>Topic 55</b>:reembolso_tartarugar_11_pagamento_\",\"line\":{\"color\":\"black\",\"width\":1.5},\"mode\":\"lines+lines\",\"name\":\"\",\"opacity\":0.1,\"x\":[1,2,3,4,5,6,7,8,9,10],\"y\":[0.06220297224894111,0.04690621794198337,0.046732461087043646,0.037990744493883344,0.03637965821816882,0.0318047150590489,0.03168932803725232,0.031310830210844985,0.029878318025234527,0.02986188018019146],\"type\":\"scatter\"},{\"hovertext\":\"<b>Topic 56</b>:dinheiro_querer_voltar_estressada_\",\"line\":{\"color\":\"black\",\"width\":1.5},\"mode\":\"lines+lines\",\"name\":\"\",\"opacity\":0.1,\"x\":[1,2,3,4,5,6,7,8,9,10],\"y\":[0.1355497361622573,0.07390283882252206,0.07282066085227751,0.06902027760939794,0.052148188968138796,0.04209931803832134,0.04209931803832134,0.04209931803832134,0.04209931803832134,0.04209931803832134],\"type\":\"scatter\"},{\"hovertext\":\"<b>Topic 57</b>:11_entregar_jogo_atraso_entrega_ch\",\"line\":{\"color\":\"black\",\"width\":1.5},\"mode\":\"lines+lines\",\"name\":\"\",\"opacity\":0.1,\"x\":[1,2,3,4,5,6,7,8,9,10],\"y\":[0.09010438564647966,0.03575072599957283,0.03335773283568367,0.03178338712619706,0.03088015045217821,0.025363366746977624,0.023446246369461247,0.023048001781189962,0.021733218607227035,0.020986016208894086],\"type\":\"scatter\"},{\"hovertext\":\"<b>Topic 58</b>:cart\\u00e3o_fatura_cr\\u00e9dito_cancelar_con\",\"line\":{\"color\":\"black\",\"width\":1.5},\"mode\":\"lines+lines\",\"name\":\"\",\"opacity\":0.1,\"x\":[1,2,3,4,5,6,7,8,9,10],\"y\":[0.09500127385859301,0.05551382905306051,0.04632808604235555,0.04278171405407021,0.04096496637573181,0.03570011754970104,0.03194575154398276,0.03008344882240425,0.02527562230475459,0.0247637867588629],\"type\":\"scatter\"},{\"hovertext\":\"<b>Topic 59</b>:ponto_laptop_full_livelo_creditar_\",\"line\":{\"color\":\"black\",\"width\":1.5},\"mode\":\"lines+lines\",\"name\":\"\",\"opacity\":0.1,\"x\":[1,2,3,4,5,6,7,8,9,10],\"y\":[0.03222813948785473,0.03027624024214697,0.028956954942729405,0.026681717866560796,0.024425684625065305,0.01898538141708593,0.018519777837610985,0.018519777837610985,0.017949093106731758,0.016960989934097892],\"type\":\"scatter\"},{\"hovertext\":\"<b>Topic 60</b>:sof\\u00e1_edredom_reclin\\u00e1vel_encosto_vi\",\"line\":{\"color\":\"black\",\"width\":1.5},\"mode\":\"lines+lines\",\"name\":\"\",\"opacity\":0.1,\"x\":[1,2,3,4,5,6,7,8,9,10],\"y\":[0.2255120404771807,0.04148093549219539,0.03840408826060857,0.036443833518792226,0.03402600037850752,0.033871247091449404,0.030190437798883828,0.030060162202695456,0.026520499686806434,0.025662444382427093],\"type\":\"scatter\"},{\"hovertext\":\"<b>Topic 61</b>:suspender_contar_conta_suspens\\u00e3o_h\",\"line\":{\"color\":\"black\",\"width\":1.5},\"mode\":\"lines+lines\",\"name\":\"\",\"opacity\":0.1,\"x\":[1,2,3,4,5,6,7,8,9,10],\"y\":[0.24102651808575856,0.10179820092786895,0.09020348038292235,0.05663596915621428,0.04686652172620225,0.04053830895898935,0.03462665885638943,0.03409540881865414,0.032942083374491476,0.030395140109820105],\"type\":\"scatter\"},{\"hovertext\":\"<b>Topic 62</b>:cadeira_gamer_montar_m\\u00eas_menos_enc\",\"line\":{\"color\":\"black\",\"width\":1.5},\"mode\":\"lines+lines\",\"name\":\"\",\"opacity\":0.1,\"x\":[1,2,3,4,5,6,7,8,9,10],\"y\":[0.29550498750911514,0.08659475546697952,0.04873620767221973,0.041777880360128354,0.04129816799540639,0.03960338859217033,0.036260235893246444,0.03307994093952449,0.03285531062483285,0.028886147354538663],\"type\":\"scatter\"},{\"hovertext\":\"<b>Topic 63</b>:jogo_panelas_panelo_panele_retro_p\",\"line\":{\"color\":\"black\",\"width\":1.5},\"mode\":\"lines+lines\",\"name\":\"\",\"opacity\":0.1,\"x\":[1,2,3,4,5,6,7,8,9,10],\"y\":[0.15508856385545466,0.10218723205876477,0.08201568211945216,0.058408277076684896,0.05459813004922524,0.054539167386169596,0.052618763043231764,0.04747538032337614,0.04169896527047882,0.04114600240054059],\"type\":\"scatter\"},{\"hovertext\":\"<b>Topic 64</b>:shein_blog_paguei_120_300_recebi_h\",\"line\":{\"color\":\"black\",\"width\":1.5},\"mode\":\"lines+lines\",\"name\":\"\",\"opacity\":0.1,\"x\":[1,2,3,4,5,6,7,8,9,10],\"y\":[0.10628948808708821,0.04367130635977762,0.03894484211565052,0.03335663546146468,0.030288418318037674,0.02907286305515643,0.02906452727635434,0.026677843297883346,0.02546676395841945,0.024574957967671646],\"type\":\"scatter\"},{\"hovertext\":\"<b>Topic 65</b>:320_iphone_instagr_enganoso_friday\",\"line\":{\"color\":\"black\",\"width\":1.5},\"mode\":\"lines+lines\",\"name\":\"\",\"opacity\":0.1,\"x\":[1,2,3,4,5,6,7,8,9,10],\"y\":[0.08848856125933977,0.08072629786054479,0.06450648378859306,0.06360511091802848,0.059401913506179134,0.05749727318612678,0.05638804957442279,0.05434197513804473,0.05154514666323844,0.04299222027823872],\"type\":\"scatter\"},{\"hovertext\":\"<b>Topic 66</b>:reten\\u00e7\\u00e3o_receita_scanner_entregar_\",\"line\":{\"color\":\"black\",\"width\":1.5},\"mode\":\"lines+lines\",\"name\":\"\",\"opacity\":0.1,\"x\":[1,2,3,4,5,6,7,8,9,10],\"y\":[0.034787687789343755,0.03313782782597602,0.02924348578620988,0.028257678631989188,0.02618275297154189,0.025579849055925755,0.025448498361687593,0.025410375304740832,0.023529899616484856,0.021254057183990687],\"type\":\"scatter\"},{\"hovertext\":\"<b>Topic 67</b>:horizonte_local_entregar_belo_entr\",\"line\":{\"color\":\"black\",\"width\":1.5},\"mode\":\"lines+lines\",\"name\":\"\",\"opacity\":0.1,\"x\":[1,2,3,4,5,6,7,8,9,10],\"y\":[0.03322909736809609,0.03185235508477916,0.03175292391751897,0.030875217017989533,0.029717787021459555,0.02881099505803749,0.02618484262855429,0.025385049909604846,0.022979376172607528,0.022504663524472116],\"type\":\"scatter\"},{\"hovertext\":\"<b>Topic 68</b>:rastreio_bilhete_pedir_atrasado_pr\",\"line\":{\"color\":\"black\",\"width\":1.5},\"mode\":\"lines+lines\",\"name\":\"\",\"opacity\":0.1,\"x\":[1,2,3,4,5,6,7,8,9,10],\"y\":[0.06283993235802682,0.040913590057071264,0.04022585993242045,0.03966112381605657,0.03892922715826445,0.03593180326614614,0.03464826041112996,0.030386599666445076,0.029358734947776723,0.029358734947776723],\"type\":\"scatter\"},{\"hovertext\":\"<b>Topic 69</b>:cancelei_estorno_mensalidade_cance\",\"line\":{\"color\":\"black\",\"width\":1.5},\"mode\":\"lines+lines\",\"name\":\"\",\"opacity\":0.1,\"x\":[1,2,3,4,5,6,7,8,9,10],\"y\":[0.07384865440496848,0.05744699601738798,0.05674976602589573,0.049020714020288784,0.04839497948013247,0.04411265934000173,0.0434414876287204,0.03932991511194763,0.036795331476046265,0.03516616566993208],\"type\":\"scatter\"},{\"hovertext\":\"<b>Topic 70</b>:nota_fiscal_emitir_dinheiro_editar\",\"line\":{\"color\":\"black\",\"width\":1.5},\"mode\":\"lines+lines\",\"name\":\"\",\"opacity\":0.1,\"x\":[1,2,3,4,5,6,7,8,9,10],\"y\":[0.10860785987439098,0.08673264744319939,0.05082527279060524,0.035956636719717903,0.02940760994804885,0.027038737287187968,0.026138600757340626,0.02339110165319283,0.020511180526258287,0.02013748461690872],\"type\":\"scatter\"},{\"hovertext\":\"<b>Topic 71</b>:proc_erro_cho99_com_189_diferentes\",\"line\":{\"color\":\"black\",\"width\":1.5},\"mode\":\"lines+lines\",\"name\":\"\",\"opacity\":0.1,\"x\":[1,2,3,4,5,6,7,8,9,10],\"y\":[0.08409384052257958,0.05940191114593644,0.0592468371371828,0.04443682919871383,0.03749529055009275,0.03588156557536468,0.032345938109304834,0.032345938109304834,0.032345938109304834,0.032345938109304834],\"type\":\"scatter\"}],                        {\"template\":{\"data\":{\"barpolar\":[{\"marker\":{\"line\":{\"color\":\"white\",\"width\":0.5},\"pattern\":{\"fillmode\":\"overlay\",\"size\":10,\"solidity\":0.2}},\"type\":\"barpolar\"}],\"bar\":[{\"error_x\":{\"color\":\"#2a3f5f\"},\"error_y\":{\"color\":\"#2a3f5f\"},\"marker\":{\"line\":{\"color\":\"white\",\"width\":0.5},\"pattern\":{\"fillmode\":\"overlay\",\"size\":10,\"solidity\":0.2}},\"type\":\"bar\"}],\"carpet\":[{\"aaxis\":{\"endlinecolor\":\"#2a3f5f\",\"gridcolor\":\"#C8D4E3\",\"linecolor\":\"#C8D4E3\",\"minorgridcolor\":\"#C8D4E3\",\"startlinecolor\":\"#2a3f5f\"},\"baxis\":{\"endlinecolor\":\"#2a3f5f\",\"gridcolor\":\"#C8D4E3\",\"linecolor\":\"#C8D4E3\",\"minorgridcolor\":\"#C8D4E3\",\"startlinecolor\":\"#2a3f5f\"},\"type\":\"carpet\"}],\"choropleth\":[{\"colorbar\":{\"outlinewidth\":0,\"ticks\":\"\"},\"type\":\"choropleth\"}],\"contourcarpet\":[{\"colorbar\":{\"outlinewidth\":0,\"ticks\":\"\"},\"type\":\"contourcarpet\"}],\"contour\":[{\"colorbar\":{\"outlinewidth\":0,\"ticks\":\"\"},\"colorscale\":[[0.0,\"#0d0887\"],[0.1111111111111111,\"#46039f\"],[0.2222222222222222,\"#7201a8\"],[0.3333333333333333,\"#9c179e\"],[0.4444444444444444,\"#bd3786\"],[0.5555555555555556,\"#d8576b\"],[0.6666666666666666,\"#ed7953\"],[0.7777777777777778,\"#fb9f3a\"],[0.8888888888888888,\"#fdca26\"],[1.0,\"#f0f921\"]],\"type\":\"contour\"}],\"heatmapgl\":[{\"colorbar\":{\"outlinewidth\":0,\"ticks\":\"\"},\"colorscale\":[[0.0,\"#0d0887\"],[0.1111111111111111,\"#46039f\"],[0.2222222222222222,\"#7201a8\"],[0.3333333333333333,\"#9c179e\"],[0.4444444444444444,\"#bd3786\"],[0.5555555555555556,\"#d8576b\"],[0.6666666666666666,\"#ed7953\"],[0.7777777777777778,\"#fb9f3a\"],[0.8888888888888888,\"#fdca26\"],[1.0,\"#f0f921\"]],\"type\":\"heatmapgl\"}],\"heatmap\":[{\"colorbar\":{\"outlinewidth\":0,\"ticks\":\"\"},\"colorscale\":[[0.0,\"#0d0887\"],[0.1111111111111111,\"#46039f\"],[0.2222222222222222,\"#7201a8\"],[0.3333333333333333,\"#9c179e\"],[0.4444444444444444,\"#bd3786\"],[0.5555555555555556,\"#d8576b\"],[0.6666666666666666,\"#ed7953\"],[0.7777777777777778,\"#fb9f3a\"],[0.8888888888888888,\"#fdca26\"],[1.0,\"#f0f921\"]],\"type\":\"heatmap\"}],\"histogram2dcontour\":[{\"colorbar\":{\"outlinewidth\":0,\"ticks\":\"\"},\"colorscale\":[[0.0,\"#0d0887\"],[0.1111111111111111,\"#46039f\"],[0.2222222222222222,\"#7201a8\"],[0.3333333333333333,\"#9c179e\"],[0.4444444444444444,\"#bd3786\"],[0.5555555555555556,\"#d8576b\"],[0.6666666666666666,\"#ed7953\"],[0.7777777777777778,\"#fb9f3a\"],[0.8888888888888888,\"#fdca26\"],[1.0,\"#f0f921\"]],\"type\":\"histogram2dcontour\"}],\"histogram2d\":[{\"colorbar\":{\"outlinewidth\":0,\"ticks\":\"\"},\"colorscale\":[[0.0,\"#0d0887\"],[0.1111111111111111,\"#46039f\"],[0.2222222222222222,\"#7201a8\"],[0.3333333333333333,\"#9c179e\"],[0.4444444444444444,\"#bd3786\"],[0.5555555555555556,\"#d8576b\"],[0.6666666666666666,\"#ed7953\"],[0.7777777777777778,\"#fb9f3a\"],[0.8888888888888888,\"#fdca26\"],[1.0,\"#f0f921\"]],\"type\":\"histogram2d\"}],\"histogram\":[{\"marker\":{\"pattern\":{\"fillmode\":\"overlay\",\"size\":10,\"solidity\":0.2}},\"type\":\"histogram\"}],\"mesh3d\":[{\"colorbar\":{\"outlinewidth\":0,\"ticks\":\"\"},\"type\":\"mesh3d\"}],\"parcoords\":[{\"line\":{\"colorbar\":{\"outlinewidth\":0,\"ticks\":\"\"}},\"type\":\"parcoords\"}],\"pie\":[{\"automargin\":true,\"type\":\"pie\"}],\"scatter3d\":[{\"line\":{\"colorbar\":{\"outlinewidth\":0,\"ticks\":\"\"}},\"marker\":{\"colorbar\":{\"outlinewidth\":0,\"ticks\":\"\"}},\"type\":\"scatter3d\"}],\"scattercarpet\":[{\"marker\":{\"colorbar\":{\"outlinewidth\":0,\"ticks\":\"\"}},\"type\":\"scattercarpet\"}],\"scattergeo\":[{\"marker\":{\"colorbar\":{\"outlinewidth\":0,\"ticks\":\"\"}},\"type\":\"scattergeo\"}],\"scattergl\":[{\"marker\":{\"colorbar\":{\"outlinewidth\":0,\"ticks\":\"\"}},\"type\":\"scattergl\"}],\"scattermapbox\":[{\"marker\":{\"colorbar\":{\"outlinewidth\":0,\"ticks\":\"\"}},\"type\":\"scattermapbox\"}],\"scatterpolargl\":[{\"marker\":{\"colorbar\":{\"outlinewidth\":0,\"ticks\":\"\"}},\"type\":\"scatterpolargl\"}],\"scatterpolar\":[{\"marker\":{\"colorbar\":{\"outlinewidth\":0,\"ticks\":\"\"}},\"type\":\"scatterpolar\"}],\"scatter\":[{\"marker\":{\"colorbar\":{\"outlinewidth\":0,\"ticks\":\"\"}},\"type\":\"scatter\"}],\"scatterternary\":[{\"marker\":{\"colorbar\":{\"outlinewidth\":0,\"ticks\":\"\"}},\"type\":\"scatterternary\"}],\"surface\":[{\"colorbar\":{\"outlinewidth\":0,\"ticks\":\"\"},\"colorscale\":[[0.0,\"#0d0887\"],[0.1111111111111111,\"#46039f\"],[0.2222222222222222,\"#7201a8\"],[0.3333333333333333,\"#9c179e\"],[0.4444444444444444,\"#bd3786\"],[0.5555555555555556,\"#d8576b\"],[0.6666666666666666,\"#ed7953\"],[0.7777777777777778,\"#fb9f3a\"],[0.8888888888888888,\"#fdca26\"],[1.0,\"#f0f921\"]],\"type\":\"surface\"}],\"table\":[{\"cells\":{\"fill\":{\"color\":\"#EBF0F8\"},\"line\":{\"color\":\"white\"}},\"header\":{\"fill\":{\"color\":\"#C8D4E3\"},\"line\":{\"color\":\"white\"}},\"type\":\"table\"}]},\"layout\":{\"annotationdefaults\":{\"arrowcolor\":\"#2a3f5f\",\"arrowhead\":0,\"arrowwidth\":1},\"autotypenumbers\":\"strict\",\"coloraxis\":{\"colorbar\":{\"outlinewidth\":0,\"ticks\":\"\"}},\"colorscale\":{\"diverging\":[[0,\"#8e0152\"],[0.1,\"#c51b7d\"],[0.2,\"#de77ae\"],[0.3,\"#f1b6da\"],[0.4,\"#fde0ef\"],[0.5,\"#f7f7f7\"],[0.6,\"#e6f5d0\"],[0.7,\"#b8e186\"],[0.8,\"#7fbc41\"],[0.9,\"#4d9221\"],[1,\"#276419\"]],\"sequential\":[[0.0,\"#0d0887\"],[0.1111111111111111,\"#46039f\"],[0.2222222222222222,\"#7201a8\"],[0.3333333333333333,\"#9c179e\"],[0.4444444444444444,\"#bd3786\"],[0.5555555555555556,\"#d8576b\"],[0.6666666666666666,\"#ed7953\"],[0.7777777777777778,\"#fb9f3a\"],[0.8888888888888888,\"#fdca26\"],[1.0,\"#f0f921\"]],\"sequentialminus\":[[0.0,\"#0d0887\"],[0.1111111111111111,\"#46039f\"],[0.2222222222222222,\"#7201a8\"],[0.3333333333333333,\"#9c179e\"],[0.4444444444444444,\"#bd3786\"],[0.5555555555555556,\"#d8576b\"],[0.6666666666666666,\"#ed7953\"],[0.7777777777777778,\"#fb9f3a\"],[0.8888888888888888,\"#fdca26\"],[1.0,\"#f0f921\"]]},\"colorway\":[\"#636efa\",\"#EF553B\",\"#00cc96\",\"#ab63fa\",\"#FFA15A\",\"#19d3f3\",\"#FF6692\",\"#B6E880\",\"#FF97FF\",\"#FECB52\"],\"font\":{\"color\":\"#2a3f5f\"},\"geo\":{\"bgcolor\":\"white\",\"lakecolor\":\"white\",\"landcolor\":\"white\",\"showlakes\":true,\"showland\":true,\"subunitcolor\":\"#C8D4E3\"},\"hoverlabel\":{\"align\":\"left\"},\"hovermode\":\"closest\",\"mapbox\":{\"style\":\"light\"},\"paper_bgcolor\":\"white\",\"plot_bgcolor\":\"white\",\"polar\":{\"angularaxis\":{\"gridcolor\":\"#EBF0F8\",\"linecolor\":\"#EBF0F8\",\"ticks\":\"\"},\"bgcolor\":\"white\",\"radialaxis\":{\"gridcolor\":\"#EBF0F8\",\"linecolor\":\"#EBF0F8\",\"ticks\":\"\"}},\"scene\":{\"xaxis\":{\"backgroundcolor\":\"white\",\"gridcolor\":\"#DFE8F3\",\"gridwidth\":2,\"linecolor\":\"#EBF0F8\",\"showbackground\":true,\"ticks\":\"\",\"zerolinecolor\":\"#EBF0F8\"},\"yaxis\":{\"backgroundcolor\":\"white\",\"gridcolor\":\"#DFE8F3\",\"gridwidth\":2,\"linecolor\":\"#EBF0F8\",\"showbackground\":true,\"ticks\":\"\",\"zerolinecolor\":\"#EBF0F8\"},\"zaxis\":{\"backgroundcolor\":\"white\",\"gridcolor\":\"#DFE8F3\",\"gridwidth\":2,\"linecolor\":\"#EBF0F8\",\"showbackground\":true,\"ticks\":\"\",\"zerolinecolor\":\"#EBF0F8\"}},\"shapedefaults\":{\"line\":{\"color\":\"#2a3f5f\"}},\"ternary\":{\"aaxis\":{\"gridcolor\":\"#DFE8F3\",\"linecolor\":\"#A2B1C6\",\"ticks\":\"\"},\"baxis\":{\"gridcolor\":\"#DFE8F3\",\"linecolor\":\"#A2B1C6\",\"ticks\":\"\"},\"bgcolor\":\"white\",\"caxis\":{\"gridcolor\":\"#DFE8F3\",\"linecolor\":\"#A2B1C6\",\"ticks\":\"\"}},\"title\":{\"x\":0.05},\"xaxis\":{\"automargin\":true,\"gridcolor\":\"#EBF0F8\",\"linecolor\":\"#EBF0F8\",\"ticks\":\"\",\"title\":{\"standoff\":15},\"zerolinecolor\":\"#EBF0F8\",\"zerolinewidth\":2},\"yaxis\":{\"automargin\":true,\"gridcolor\":\"#EBF0F8\",\"linecolor\":\"#EBF0F8\",\"ticks\":\"\",\"title\":{\"standoff\":15},\"zerolinecolor\":\"#EBF0F8\",\"zerolinewidth\":2}}},\"xaxis\":{\"range\":[0,10],\"tick0\":1,\"dtick\":2,\"title\":{\"text\":\"Term Rank\"}},\"title\":{\"font\":{\"size\":22,\"color\":\"Black\"},\"text\":\"<b>Term score decline per Topic</b>\",\"y\":0.9,\"x\":0.5,\"xanchor\":\"center\",\"yanchor\":\"top\"},\"hoverlabel\":{\"font\":{\"size\":16,\"family\":\"Rockwell\"},\"bgcolor\":\"white\"},\"showlegend\":false,\"width\":800,\"height\":500,\"yaxis\":{\"title\":{\"text\":\"c-TF-IDF score\"}}},                        {\"responsive\": true}                    ).then(function(){\n",
              "                            \n",
              "var gd = document.getElementById('152ae082-d0a1-4f46-9d9c-4260712c2900');\n",
              "var x = new MutationObserver(function (mutations, observer) {{\n",
              "        var display = window.getComputedStyle(gd).display;\n",
              "        if (!display || display === 'none') {{\n",
              "            console.log([gd, 'removed!']);\n",
              "            Plotly.purge(gd);\n",
              "            observer.disconnect();\n",
              "        }}\n",
              "}});\n",
              "\n",
              "// Listen for the removal of the full notebook cells\n",
              "var notebookContainer = gd.closest('#notebook-container');\n",
              "if (notebookContainer) {{\n",
              "    x.observe(notebookContainer, {childList: true});\n",
              "}}\n",
              "\n",
              "// Listen for the clearing of the current output cell\n",
              "var outputEl = gd.closest('.output');\n",
              "if (outputEl) {{\n",
              "    x.observe(outputEl, {childList: true});\n",
              "}}\n",
              "\n",
              "                        })                };                            </script>        </div>\n",
              "</body>\n",
              "</html>"
            ]
          },
          "metadata": {}
        }
      ]
    },
    {
      "cell_type": "markdown",
      "source": [
        "### **Save Term score decline per Topic**"
      ],
      "metadata": {
        "id": "6UXg4gpFpwZg"
      }
    },
    {
      "cell_type": "code",
      "source": [
        "# Set the path to save \n",
        "path = '/content/Topic-Modeling-Reclame-Aqui/results/term_socore_decline_topic/'\n",
        "\n",
        "# Use makedirs() to create a new directory if it does not exists\n",
        "if not os.path.exists(path):\n",
        "  os.makedirs(path)\n",
        "\n",
        "\n",
        "fig.write_image(path + \"tsdp_preprocessed_lemma.png\", format=\"png\")"
      ],
      "metadata": {
        "id": "F5Gppkjpp0hS"
      },
      "execution_count": 73,
      "outputs": []
    },
    {
      "cell_type": "markdown",
      "source": [
        "## **Term search**"
      ],
      "metadata": {
        "id": "AZIV-p12ZMXa"
      }
    },
    {
      "cell_type": "code",
      "source": [
        "# Find topics that contains blackfriday term\n",
        "similar_topics, similarity = topic_model.find_topics(\"blackfriday\", top_n=5)\n",
        "\n",
        "# Show similar topics\n",
        "similar_topics"
      ],
      "metadata": {
        "id": "pHHayMGRZOob",
        "outputId": "3c2a2206-9ee2-4b1d-b37a-8a68452a5cad",
        "colab": {
          "base_uri": "https://localhost:8080/"
        }
      },
      "execution_count": 74,
      "outputs": [
        {
          "output_type": "execute_result",
          "data": {
            "text/plain": [
              "[26, 65, 52, 19, 45]"
            ]
          },
          "metadata": {},
          "execution_count": 74
        }
      ]
    },
    {
      "cell_type": "code",
      "source": [
        "# Show a specific topic\n",
        "topic_model.get_topic(26)"
      ],
      "metadata": {
        "id": "2BnwvRotZUya",
        "outputId": "40c31971-a79a-49ee-e351-16b66bfcd788",
        "colab": {
          "base_uri": "https://localhost:8080/"
        }
      },
      "execution_count": 78,
      "outputs": [
        {
          "output_type": "execute_result",
          "data": {
            "text/plain": [
              "[('cupom', 0.08057370717439102),\n",
              " ('black', 0.05303678592723932),\n",
              " ('friday', 0.04494014322288012),\n",
              " ('promoção', 0.024486715705439612),\n",
              " ('americana', 0.02364927681411774),\n",
              " ('desconto', 0.023288062236071667),\n",
              " ('preço', 0.023001576918560897),\n",
              " ('compra', 0.021569168236474097),\n",
              " ('valor', 0.021060507696543513),\n",
              " ('finalizar', 0.019833323574760094)]"
            ]
          },
          "metadata": {},
          "execution_count": 78
        }
      ]
    },
    {
      "cell_type": "markdown",
      "source": [
        "### **Topic Reduction**"
      ],
      "metadata": {
        "id": "Lf78SHIeYzMC"
      }
    },
    {
      "cell_type": "code",
      "source": [
        "#new_topic_model = topic_model.reduce_topics(df.documents, nr_topics=40)\n",
        "#new_topics = new_topic_model.topics_\n",
        "#new_probs = new_topic_model.probabilities_"
      ],
      "metadata": {
        "id": "wtVMrXHGY4GM"
      },
      "execution_count": null,
      "outputs": []
    },
    {
      "cell_type": "code",
      "source": [
        "#new_topic_model.visualize_topics()"
      ],
      "metadata": {
        "id": "W1mW2iTeaU04"
      },
      "execution_count": null,
      "outputs": []
    }
  ]
}