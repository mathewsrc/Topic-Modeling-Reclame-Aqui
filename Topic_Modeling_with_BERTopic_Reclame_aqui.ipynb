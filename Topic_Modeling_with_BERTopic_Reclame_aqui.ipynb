{
  "nbformat": 4,
  "nbformat_minor": 0,
  "metadata": {
    "colab": {
      "provenance": [],
      "include_colab_link": true
    },
    "kernelspec": {
      "name": "python3",
      "display_name": "Python 3"
    },
    "language_info": {
      "name": "python"
    },
    "gpuClass": "standard",
    "widgets": {
      "application/vnd.jupyter.widget-state+json": {
        "701f50f395ac4b319d9f6618a29bbbaa": {
          "model_module": "@jupyter-widgets/controls",
          "model_name": "HBoxModel",
          "model_module_version": "1.5.0",
          "state": {
            "_dom_classes": [],
            "_model_module": "@jupyter-widgets/controls",
            "_model_module_version": "1.5.0",
            "_model_name": "HBoxModel",
            "_view_count": null,
            "_view_module": "@jupyter-widgets/controls",
            "_view_module_version": "1.5.0",
            "_view_name": "HBoxView",
            "box_style": "",
            "children": [
              "IPY_MODEL_76142fd5795a4697836141ae75f67f24",
              "IPY_MODEL_404607d5629e4078b9963916e53da84a",
              "IPY_MODEL_77db3192c37c4d6488292ce8be41554f"
            ],
            "layout": "IPY_MODEL_48b5f5c4fd3b4c8199027e2bbf04059f"
          }
        },
        "76142fd5795a4697836141ae75f67f24": {
          "model_module": "@jupyter-widgets/controls",
          "model_name": "HTMLModel",
          "model_module_version": "1.5.0",
          "state": {
            "_dom_classes": [],
            "_model_module": "@jupyter-widgets/controls",
            "_model_module_version": "1.5.0",
            "_model_name": "HTMLModel",
            "_view_count": null,
            "_view_module": "@jupyter-widgets/controls",
            "_view_module_version": "1.5.0",
            "_view_name": "HTMLView",
            "description": "",
            "description_tooltip": null,
            "layout": "IPY_MODEL_1f3f59593def4330a29b8eee9e9afe0e",
            "placeholder": "​",
            "style": "IPY_MODEL_cf94b09a53464399ae47f40a7e6f0b7c",
            "value": "Downloading: 100%"
          }
        },
        "404607d5629e4078b9963916e53da84a": {
          "model_module": "@jupyter-widgets/controls",
          "model_name": "FloatProgressModel",
          "model_module_version": "1.5.0",
          "state": {
            "_dom_classes": [],
            "_model_module": "@jupyter-widgets/controls",
            "_model_module_version": "1.5.0",
            "_model_name": "FloatProgressModel",
            "_view_count": null,
            "_view_module": "@jupyter-widgets/controls",
            "_view_module_version": "1.5.0",
            "_view_name": "ProgressView",
            "bar_style": "success",
            "description": "",
            "description_tooltip": null,
            "layout": "IPY_MODEL_ea4db1e7a5fa4320910a5dac275b1d50",
            "max": 968,
            "min": 0,
            "orientation": "horizontal",
            "style": "IPY_MODEL_7a6b7eeb060a41718658e8acfd4b8992",
            "value": 968
          }
        },
        "77db3192c37c4d6488292ce8be41554f": {
          "model_module": "@jupyter-widgets/controls",
          "model_name": "HTMLModel",
          "model_module_version": "1.5.0",
          "state": {
            "_dom_classes": [],
            "_model_module": "@jupyter-widgets/controls",
            "_model_module_version": "1.5.0",
            "_model_name": "HTMLModel",
            "_view_count": null,
            "_view_module": "@jupyter-widgets/controls",
            "_view_module_version": "1.5.0",
            "_view_name": "HTMLView",
            "description": "",
            "description_tooltip": null,
            "layout": "IPY_MODEL_b221a86f7376445e88cf3e779fcd6814",
            "placeholder": "​",
            "style": "IPY_MODEL_6890983008d3454b8d9b31f54268ca00",
            "value": " 968/968 [00:00&lt;00:00, 36.6kB/s]"
          }
        },
        "48b5f5c4fd3b4c8199027e2bbf04059f": {
          "model_module": "@jupyter-widgets/base",
          "model_name": "LayoutModel",
          "model_module_version": "1.2.0",
          "state": {
            "_model_module": "@jupyter-widgets/base",
            "_model_module_version": "1.2.0",
            "_model_name": "LayoutModel",
            "_view_count": null,
            "_view_module": "@jupyter-widgets/base",
            "_view_module_version": "1.2.0",
            "_view_name": "LayoutView",
            "align_content": null,
            "align_items": null,
            "align_self": null,
            "border": null,
            "bottom": null,
            "display": null,
            "flex": null,
            "flex_flow": null,
            "grid_area": null,
            "grid_auto_columns": null,
            "grid_auto_flow": null,
            "grid_auto_rows": null,
            "grid_column": null,
            "grid_gap": null,
            "grid_row": null,
            "grid_template_areas": null,
            "grid_template_columns": null,
            "grid_template_rows": null,
            "height": null,
            "justify_content": null,
            "justify_items": null,
            "left": null,
            "margin": null,
            "max_height": null,
            "max_width": null,
            "min_height": null,
            "min_width": null,
            "object_fit": null,
            "object_position": null,
            "order": null,
            "overflow": null,
            "overflow_x": null,
            "overflow_y": null,
            "padding": null,
            "right": null,
            "top": null,
            "visibility": null,
            "width": null
          }
        },
        "1f3f59593def4330a29b8eee9e9afe0e": {
          "model_module": "@jupyter-widgets/base",
          "model_name": "LayoutModel",
          "model_module_version": "1.2.0",
          "state": {
            "_model_module": "@jupyter-widgets/base",
            "_model_module_version": "1.2.0",
            "_model_name": "LayoutModel",
            "_view_count": null,
            "_view_module": "@jupyter-widgets/base",
            "_view_module_version": "1.2.0",
            "_view_name": "LayoutView",
            "align_content": null,
            "align_items": null,
            "align_self": null,
            "border": null,
            "bottom": null,
            "display": null,
            "flex": null,
            "flex_flow": null,
            "grid_area": null,
            "grid_auto_columns": null,
            "grid_auto_flow": null,
            "grid_auto_rows": null,
            "grid_column": null,
            "grid_gap": null,
            "grid_row": null,
            "grid_template_areas": null,
            "grid_template_columns": null,
            "grid_template_rows": null,
            "height": null,
            "justify_content": null,
            "justify_items": null,
            "left": null,
            "margin": null,
            "max_height": null,
            "max_width": null,
            "min_height": null,
            "min_width": null,
            "object_fit": null,
            "object_position": null,
            "order": null,
            "overflow": null,
            "overflow_x": null,
            "overflow_y": null,
            "padding": null,
            "right": null,
            "top": null,
            "visibility": null,
            "width": null
          }
        },
        "cf94b09a53464399ae47f40a7e6f0b7c": {
          "model_module": "@jupyter-widgets/controls",
          "model_name": "DescriptionStyleModel",
          "model_module_version": "1.5.0",
          "state": {
            "_model_module": "@jupyter-widgets/controls",
            "_model_module_version": "1.5.0",
            "_model_name": "DescriptionStyleModel",
            "_view_count": null,
            "_view_module": "@jupyter-widgets/base",
            "_view_module_version": "1.2.0",
            "_view_name": "StyleView",
            "description_width": ""
          }
        },
        "ea4db1e7a5fa4320910a5dac275b1d50": {
          "model_module": "@jupyter-widgets/base",
          "model_name": "LayoutModel",
          "model_module_version": "1.2.0",
          "state": {
            "_model_module": "@jupyter-widgets/base",
            "_model_module_version": "1.2.0",
            "_model_name": "LayoutModel",
            "_view_count": null,
            "_view_module": "@jupyter-widgets/base",
            "_view_module_version": "1.2.0",
            "_view_name": "LayoutView",
            "align_content": null,
            "align_items": null,
            "align_self": null,
            "border": null,
            "bottom": null,
            "display": null,
            "flex": null,
            "flex_flow": null,
            "grid_area": null,
            "grid_auto_columns": null,
            "grid_auto_flow": null,
            "grid_auto_rows": null,
            "grid_column": null,
            "grid_gap": null,
            "grid_row": null,
            "grid_template_areas": null,
            "grid_template_columns": null,
            "grid_template_rows": null,
            "height": null,
            "justify_content": null,
            "justify_items": null,
            "left": null,
            "margin": null,
            "max_height": null,
            "max_width": null,
            "min_height": null,
            "min_width": null,
            "object_fit": null,
            "object_position": null,
            "order": null,
            "overflow": null,
            "overflow_x": null,
            "overflow_y": null,
            "padding": null,
            "right": null,
            "top": null,
            "visibility": null,
            "width": null
          }
        },
        "7a6b7eeb060a41718658e8acfd4b8992": {
          "model_module": "@jupyter-widgets/controls",
          "model_name": "ProgressStyleModel",
          "model_module_version": "1.5.0",
          "state": {
            "_model_module": "@jupyter-widgets/controls",
            "_model_module_version": "1.5.0",
            "_model_name": "ProgressStyleModel",
            "_view_count": null,
            "_view_module": "@jupyter-widgets/base",
            "_view_module_version": "1.2.0",
            "_view_name": "StyleView",
            "bar_color": null,
            "description_width": ""
          }
        },
        "b221a86f7376445e88cf3e779fcd6814": {
          "model_module": "@jupyter-widgets/base",
          "model_name": "LayoutModel",
          "model_module_version": "1.2.0",
          "state": {
            "_model_module": "@jupyter-widgets/base",
            "_model_module_version": "1.2.0",
            "_model_name": "LayoutModel",
            "_view_count": null,
            "_view_module": "@jupyter-widgets/base",
            "_view_module_version": "1.2.0",
            "_view_name": "LayoutView",
            "align_content": null,
            "align_items": null,
            "align_self": null,
            "border": null,
            "bottom": null,
            "display": null,
            "flex": null,
            "flex_flow": null,
            "grid_area": null,
            "grid_auto_columns": null,
            "grid_auto_flow": null,
            "grid_auto_rows": null,
            "grid_column": null,
            "grid_gap": null,
            "grid_row": null,
            "grid_template_areas": null,
            "grid_template_columns": null,
            "grid_template_rows": null,
            "height": null,
            "justify_content": null,
            "justify_items": null,
            "left": null,
            "margin": null,
            "max_height": null,
            "max_width": null,
            "min_height": null,
            "min_width": null,
            "object_fit": null,
            "object_position": null,
            "order": null,
            "overflow": null,
            "overflow_x": null,
            "overflow_y": null,
            "padding": null,
            "right": null,
            "top": null,
            "visibility": null,
            "width": null
          }
        },
        "6890983008d3454b8d9b31f54268ca00": {
          "model_module": "@jupyter-widgets/controls",
          "model_name": "DescriptionStyleModel",
          "model_module_version": "1.5.0",
          "state": {
            "_model_module": "@jupyter-widgets/controls",
            "_model_module_version": "1.5.0",
            "_model_name": "DescriptionStyleModel",
            "_view_count": null,
            "_view_module": "@jupyter-widgets/base",
            "_view_module_version": "1.2.0",
            "_view_name": "StyleView",
            "description_width": ""
          }
        },
        "0796258fc00a47dab319e4f7175cd68e": {
          "model_module": "@jupyter-widgets/controls",
          "model_name": "HBoxModel",
          "model_module_version": "1.5.0",
          "state": {
            "_dom_classes": [],
            "_model_module": "@jupyter-widgets/controls",
            "_model_module_version": "1.5.0",
            "_model_name": "HBoxModel",
            "_view_count": null,
            "_view_module": "@jupyter-widgets/controls",
            "_view_module_version": "1.5.0",
            "_view_name": "HBoxView",
            "box_style": "",
            "children": [
              "IPY_MODEL_05a24e6e88284aafbe0a628d3e3b1129",
              "IPY_MODEL_c4c1a35118424b5e89121f4d6bf37bdb",
              "IPY_MODEL_e3458d0f30174f2797d15dcafaf6a5ad"
            ],
            "layout": "IPY_MODEL_a2e76ba51ce741748668259130e830f8"
          }
        },
        "05a24e6e88284aafbe0a628d3e3b1129": {
          "model_module": "@jupyter-widgets/controls",
          "model_name": "HTMLModel",
          "model_module_version": "1.5.0",
          "state": {
            "_dom_classes": [],
            "_model_module": "@jupyter-widgets/controls",
            "_model_module_version": "1.5.0",
            "_model_name": "HTMLModel",
            "_view_count": null,
            "_view_module": "@jupyter-widgets/controls",
            "_view_module_version": "1.5.0",
            "_view_name": "HTMLView",
            "description": "",
            "description_tooltip": null,
            "layout": "IPY_MODEL_a50e93ebaacf4c008050f8c9f38529d4",
            "placeholder": "​",
            "style": "IPY_MODEL_fc000a87ca3940249101d644a6ae0b5f",
            "value": "Downloading: 100%"
          }
        },
        "c4c1a35118424b5e89121f4d6bf37bdb": {
          "model_module": "@jupyter-widgets/controls",
          "model_name": "FloatProgressModel",
          "model_module_version": "1.5.0",
          "state": {
            "_dom_classes": [],
            "_model_module": "@jupyter-widgets/controls",
            "_model_module_version": "1.5.0",
            "_model_name": "FloatProgressModel",
            "_view_count": null,
            "_view_module": "@jupyter-widgets/controls",
            "_view_module_version": "1.5.0",
            "_view_name": "ProgressView",
            "bar_style": "success",
            "description": "",
            "description_tooltip": null,
            "layout": "IPY_MODEL_36d531043cef402ca9564c307915f4e1",
            "max": 190,
            "min": 0,
            "orientation": "horizontal",
            "style": "IPY_MODEL_30b36437404b4e30b338c839376a0ab6",
            "value": 190
          }
        },
        "e3458d0f30174f2797d15dcafaf6a5ad": {
          "model_module": "@jupyter-widgets/controls",
          "model_name": "HTMLModel",
          "model_module_version": "1.5.0",
          "state": {
            "_dom_classes": [],
            "_model_module": "@jupyter-widgets/controls",
            "_model_module_version": "1.5.0",
            "_model_name": "HTMLModel",
            "_view_count": null,
            "_view_module": "@jupyter-widgets/controls",
            "_view_module_version": "1.5.0",
            "_view_name": "HTMLView",
            "description": "",
            "description_tooltip": null,
            "layout": "IPY_MODEL_e0a93dd366e44ed9ab072dab07e28f93",
            "placeholder": "​",
            "style": "IPY_MODEL_95f92cc0d1794052b539ab44b779b66e",
            "value": " 190/190 [00:00&lt;00:00, 11.3kB/s]"
          }
        },
        "a2e76ba51ce741748668259130e830f8": {
          "model_module": "@jupyter-widgets/base",
          "model_name": "LayoutModel",
          "model_module_version": "1.2.0",
          "state": {
            "_model_module": "@jupyter-widgets/base",
            "_model_module_version": "1.2.0",
            "_model_name": "LayoutModel",
            "_view_count": null,
            "_view_module": "@jupyter-widgets/base",
            "_view_module_version": "1.2.0",
            "_view_name": "LayoutView",
            "align_content": null,
            "align_items": null,
            "align_self": null,
            "border": null,
            "bottom": null,
            "display": null,
            "flex": null,
            "flex_flow": null,
            "grid_area": null,
            "grid_auto_columns": null,
            "grid_auto_flow": null,
            "grid_auto_rows": null,
            "grid_column": null,
            "grid_gap": null,
            "grid_row": null,
            "grid_template_areas": null,
            "grid_template_columns": null,
            "grid_template_rows": null,
            "height": null,
            "justify_content": null,
            "justify_items": null,
            "left": null,
            "margin": null,
            "max_height": null,
            "max_width": null,
            "min_height": null,
            "min_width": null,
            "object_fit": null,
            "object_position": null,
            "order": null,
            "overflow": null,
            "overflow_x": null,
            "overflow_y": null,
            "padding": null,
            "right": null,
            "top": null,
            "visibility": null,
            "width": null
          }
        },
        "a50e93ebaacf4c008050f8c9f38529d4": {
          "model_module": "@jupyter-widgets/base",
          "model_name": "LayoutModel",
          "model_module_version": "1.2.0",
          "state": {
            "_model_module": "@jupyter-widgets/base",
            "_model_module_version": "1.2.0",
            "_model_name": "LayoutModel",
            "_view_count": null,
            "_view_module": "@jupyter-widgets/base",
            "_view_module_version": "1.2.0",
            "_view_name": "LayoutView",
            "align_content": null,
            "align_items": null,
            "align_self": null,
            "border": null,
            "bottom": null,
            "display": null,
            "flex": null,
            "flex_flow": null,
            "grid_area": null,
            "grid_auto_columns": null,
            "grid_auto_flow": null,
            "grid_auto_rows": null,
            "grid_column": null,
            "grid_gap": null,
            "grid_row": null,
            "grid_template_areas": null,
            "grid_template_columns": null,
            "grid_template_rows": null,
            "height": null,
            "justify_content": null,
            "justify_items": null,
            "left": null,
            "margin": null,
            "max_height": null,
            "max_width": null,
            "min_height": null,
            "min_width": null,
            "object_fit": null,
            "object_position": null,
            "order": null,
            "overflow": null,
            "overflow_x": null,
            "overflow_y": null,
            "padding": null,
            "right": null,
            "top": null,
            "visibility": null,
            "width": null
          }
        },
        "fc000a87ca3940249101d644a6ae0b5f": {
          "model_module": "@jupyter-widgets/controls",
          "model_name": "DescriptionStyleModel",
          "model_module_version": "1.5.0",
          "state": {
            "_model_module": "@jupyter-widgets/controls",
            "_model_module_version": "1.5.0",
            "_model_name": "DescriptionStyleModel",
            "_view_count": null,
            "_view_module": "@jupyter-widgets/base",
            "_view_module_version": "1.2.0",
            "_view_name": "StyleView",
            "description_width": ""
          }
        },
        "36d531043cef402ca9564c307915f4e1": {
          "model_module": "@jupyter-widgets/base",
          "model_name": "LayoutModel",
          "model_module_version": "1.2.0",
          "state": {
            "_model_module": "@jupyter-widgets/base",
            "_model_module_version": "1.2.0",
            "_model_name": "LayoutModel",
            "_view_count": null,
            "_view_module": "@jupyter-widgets/base",
            "_view_module_version": "1.2.0",
            "_view_name": "LayoutView",
            "align_content": null,
            "align_items": null,
            "align_self": null,
            "border": null,
            "bottom": null,
            "display": null,
            "flex": null,
            "flex_flow": null,
            "grid_area": null,
            "grid_auto_columns": null,
            "grid_auto_flow": null,
            "grid_auto_rows": null,
            "grid_column": null,
            "grid_gap": null,
            "grid_row": null,
            "grid_template_areas": null,
            "grid_template_columns": null,
            "grid_template_rows": null,
            "height": null,
            "justify_content": null,
            "justify_items": null,
            "left": null,
            "margin": null,
            "max_height": null,
            "max_width": null,
            "min_height": null,
            "min_width": null,
            "object_fit": null,
            "object_position": null,
            "order": null,
            "overflow": null,
            "overflow_x": null,
            "overflow_y": null,
            "padding": null,
            "right": null,
            "top": null,
            "visibility": null,
            "width": null
          }
        },
        "30b36437404b4e30b338c839376a0ab6": {
          "model_module": "@jupyter-widgets/controls",
          "model_name": "ProgressStyleModel",
          "model_module_version": "1.5.0",
          "state": {
            "_model_module": "@jupyter-widgets/controls",
            "_model_module_version": "1.5.0",
            "_model_name": "ProgressStyleModel",
            "_view_count": null,
            "_view_module": "@jupyter-widgets/base",
            "_view_module_version": "1.2.0",
            "_view_name": "StyleView",
            "bar_color": null,
            "description_width": ""
          }
        },
        "e0a93dd366e44ed9ab072dab07e28f93": {
          "model_module": "@jupyter-widgets/base",
          "model_name": "LayoutModel",
          "model_module_version": "1.2.0",
          "state": {
            "_model_module": "@jupyter-widgets/base",
            "_model_module_version": "1.2.0",
            "_model_name": "LayoutModel",
            "_view_count": null,
            "_view_module": "@jupyter-widgets/base",
            "_view_module_version": "1.2.0",
            "_view_name": "LayoutView",
            "align_content": null,
            "align_items": null,
            "align_self": null,
            "border": null,
            "bottom": null,
            "display": null,
            "flex": null,
            "flex_flow": null,
            "grid_area": null,
            "grid_auto_columns": null,
            "grid_auto_flow": null,
            "grid_auto_rows": null,
            "grid_column": null,
            "grid_gap": null,
            "grid_row": null,
            "grid_template_areas": null,
            "grid_template_columns": null,
            "grid_template_rows": null,
            "height": null,
            "justify_content": null,
            "justify_items": null,
            "left": null,
            "margin": null,
            "max_height": null,
            "max_width": null,
            "min_height": null,
            "min_width": null,
            "object_fit": null,
            "object_position": null,
            "order": null,
            "overflow": null,
            "overflow_x": null,
            "overflow_y": null,
            "padding": null,
            "right": null,
            "top": null,
            "visibility": null,
            "width": null
          }
        },
        "95f92cc0d1794052b539ab44b779b66e": {
          "model_module": "@jupyter-widgets/controls",
          "model_name": "DescriptionStyleModel",
          "model_module_version": "1.5.0",
          "state": {
            "_model_module": "@jupyter-widgets/controls",
            "_model_module_version": "1.5.0",
            "_model_name": "DescriptionStyleModel",
            "_view_count": null,
            "_view_module": "@jupyter-widgets/base",
            "_view_module_version": "1.2.0",
            "_view_name": "StyleView",
            "description_width": ""
          }
        },
        "ee7b45d30c984aca958ca5a20139abce": {
          "model_module": "@jupyter-widgets/controls",
          "model_name": "HBoxModel",
          "model_module_version": "1.5.0",
          "state": {
            "_dom_classes": [],
            "_model_module": "@jupyter-widgets/controls",
            "_model_module_version": "1.5.0",
            "_model_name": "HBoxModel",
            "_view_count": null,
            "_view_module": "@jupyter-widgets/controls",
            "_view_module_version": "1.5.0",
            "_view_name": "HBoxView",
            "box_style": "",
            "children": [
              "IPY_MODEL_1f93f42725914829abf261794bccdf61",
              "IPY_MODEL_2b68704c3e054bd7b911ed4293f1f35d",
              "IPY_MODEL_5085b07666b045cda21c18fbd96eb9ea"
            ],
            "layout": "IPY_MODEL_9328f2eae3094de59c172b4f971faa08"
          }
        },
        "1f93f42725914829abf261794bccdf61": {
          "model_module": "@jupyter-widgets/controls",
          "model_name": "HTMLModel",
          "model_module_version": "1.5.0",
          "state": {
            "_dom_classes": [],
            "_model_module": "@jupyter-widgets/controls",
            "_model_module_version": "1.5.0",
            "_model_name": "HTMLModel",
            "_view_count": null,
            "_view_module": "@jupyter-widgets/controls",
            "_view_module_version": "1.5.0",
            "_view_name": "HTMLView",
            "description": "",
            "description_tooltip": null,
            "layout": "IPY_MODEL_2fce457be7754621bb52ae1a73f177a6",
            "placeholder": "​",
            "style": "IPY_MODEL_c04a9dd8669342aabc600a72dd0e6831",
            "value": "Downloading: 100%"
          }
        },
        "2b68704c3e054bd7b911ed4293f1f35d": {
          "model_module": "@jupyter-widgets/controls",
          "model_name": "FloatProgressModel",
          "model_module_version": "1.5.0",
          "state": {
            "_dom_classes": [],
            "_model_module": "@jupyter-widgets/controls",
            "_model_module_version": "1.5.0",
            "_model_name": "FloatProgressModel",
            "_view_count": null,
            "_view_module": "@jupyter-widgets/controls",
            "_view_module_version": "1.5.0",
            "_view_name": "ProgressView",
            "bar_style": "success",
            "description": "",
            "description_tooltip": null,
            "layout": "IPY_MODEL_7da0cf88fa5c48f6b80a76b84f0dff90",
            "max": 3786,
            "min": 0,
            "orientation": "horizontal",
            "style": "IPY_MODEL_e534302098434a08aceabbab27bf78d5",
            "value": 3786
          }
        },
        "5085b07666b045cda21c18fbd96eb9ea": {
          "model_module": "@jupyter-widgets/controls",
          "model_name": "HTMLModel",
          "model_module_version": "1.5.0",
          "state": {
            "_dom_classes": [],
            "_model_module": "@jupyter-widgets/controls",
            "_model_module_version": "1.5.0",
            "_model_name": "HTMLModel",
            "_view_count": null,
            "_view_module": "@jupyter-widgets/controls",
            "_view_module_version": "1.5.0",
            "_view_name": "HTMLView",
            "description": "",
            "description_tooltip": null,
            "layout": "IPY_MODEL_0afd60747e464f548c7890df45a5141b",
            "placeholder": "​",
            "style": "IPY_MODEL_33e566711aca46218b5a3a46901ff953",
            "value": " 3.79k/3.79k [00:00&lt;00:00, 160kB/s]"
          }
        },
        "9328f2eae3094de59c172b4f971faa08": {
          "model_module": "@jupyter-widgets/base",
          "model_name": "LayoutModel",
          "model_module_version": "1.2.0",
          "state": {
            "_model_module": "@jupyter-widgets/base",
            "_model_module_version": "1.2.0",
            "_model_name": "LayoutModel",
            "_view_count": null,
            "_view_module": "@jupyter-widgets/base",
            "_view_module_version": "1.2.0",
            "_view_name": "LayoutView",
            "align_content": null,
            "align_items": null,
            "align_self": null,
            "border": null,
            "bottom": null,
            "display": null,
            "flex": null,
            "flex_flow": null,
            "grid_area": null,
            "grid_auto_columns": null,
            "grid_auto_flow": null,
            "grid_auto_rows": null,
            "grid_column": null,
            "grid_gap": null,
            "grid_row": null,
            "grid_template_areas": null,
            "grid_template_columns": null,
            "grid_template_rows": null,
            "height": null,
            "justify_content": null,
            "justify_items": null,
            "left": null,
            "margin": null,
            "max_height": null,
            "max_width": null,
            "min_height": null,
            "min_width": null,
            "object_fit": null,
            "object_position": null,
            "order": null,
            "overflow": null,
            "overflow_x": null,
            "overflow_y": null,
            "padding": null,
            "right": null,
            "top": null,
            "visibility": null,
            "width": null
          }
        },
        "2fce457be7754621bb52ae1a73f177a6": {
          "model_module": "@jupyter-widgets/base",
          "model_name": "LayoutModel",
          "model_module_version": "1.2.0",
          "state": {
            "_model_module": "@jupyter-widgets/base",
            "_model_module_version": "1.2.0",
            "_model_name": "LayoutModel",
            "_view_count": null,
            "_view_module": "@jupyter-widgets/base",
            "_view_module_version": "1.2.0",
            "_view_name": "LayoutView",
            "align_content": null,
            "align_items": null,
            "align_self": null,
            "border": null,
            "bottom": null,
            "display": null,
            "flex": null,
            "flex_flow": null,
            "grid_area": null,
            "grid_auto_columns": null,
            "grid_auto_flow": null,
            "grid_auto_rows": null,
            "grid_column": null,
            "grid_gap": null,
            "grid_row": null,
            "grid_template_areas": null,
            "grid_template_columns": null,
            "grid_template_rows": null,
            "height": null,
            "justify_content": null,
            "justify_items": null,
            "left": null,
            "margin": null,
            "max_height": null,
            "max_width": null,
            "min_height": null,
            "min_width": null,
            "object_fit": null,
            "object_position": null,
            "order": null,
            "overflow": null,
            "overflow_x": null,
            "overflow_y": null,
            "padding": null,
            "right": null,
            "top": null,
            "visibility": null,
            "width": null
          }
        },
        "c04a9dd8669342aabc600a72dd0e6831": {
          "model_module": "@jupyter-widgets/controls",
          "model_name": "DescriptionStyleModel",
          "model_module_version": "1.5.0",
          "state": {
            "_model_module": "@jupyter-widgets/controls",
            "_model_module_version": "1.5.0",
            "_model_name": "DescriptionStyleModel",
            "_view_count": null,
            "_view_module": "@jupyter-widgets/base",
            "_view_module_version": "1.2.0",
            "_view_name": "StyleView",
            "description_width": ""
          }
        },
        "7da0cf88fa5c48f6b80a76b84f0dff90": {
          "model_module": "@jupyter-widgets/base",
          "model_name": "LayoutModel",
          "model_module_version": "1.2.0",
          "state": {
            "_model_module": "@jupyter-widgets/base",
            "_model_module_version": "1.2.0",
            "_model_name": "LayoutModel",
            "_view_count": null,
            "_view_module": "@jupyter-widgets/base",
            "_view_module_version": "1.2.0",
            "_view_name": "LayoutView",
            "align_content": null,
            "align_items": null,
            "align_self": null,
            "border": null,
            "bottom": null,
            "display": null,
            "flex": null,
            "flex_flow": null,
            "grid_area": null,
            "grid_auto_columns": null,
            "grid_auto_flow": null,
            "grid_auto_rows": null,
            "grid_column": null,
            "grid_gap": null,
            "grid_row": null,
            "grid_template_areas": null,
            "grid_template_columns": null,
            "grid_template_rows": null,
            "height": null,
            "justify_content": null,
            "justify_items": null,
            "left": null,
            "margin": null,
            "max_height": null,
            "max_width": null,
            "min_height": null,
            "min_width": null,
            "object_fit": null,
            "object_position": null,
            "order": null,
            "overflow": null,
            "overflow_x": null,
            "overflow_y": null,
            "padding": null,
            "right": null,
            "top": null,
            "visibility": null,
            "width": null
          }
        },
        "e534302098434a08aceabbab27bf78d5": {
          "model_module": "@jupyter-widgets/controls",
          "model_name": "ProgressStyleModel",
          "model_module_version": "1.5.0",
          "state": {
            "_model_module": "@jupyter-widgets/controls",
            "_model_module_version": "1.5.0",
            "_model_name": "ProgressStyleModel",
            "_view_count": null,
            "_view_module": "@jupyter-widgets/base",
            "_view_module_version": "1.2.0",
            "_view_name": "StyleView",
            "bar_color": null,
            "description_width": ""
          }
        },
        "0afd60747e464f548c7890df45a5141b": {
          "model_module": "@jupyter-widgets/base",
          "model_name": "LayoutModel",
          "model_module_version": "1.2.0",
          "state": {
            "_model_module": "@jupyter-widgets/base",
            "_model_module_version": "1.2.0",
            "_model_name": "LayoutModel",
            "_view_count": null,
            "_view_module": "@jupyter-widgets/base",
            "_view_module_version": "1.2.0",
            "_view_name": "LayoutView",
            "align_content": null,
            "align_items": null,
            "align_self": null,
            "border": null,
            "bottom": null,
            "display": null,
            "flex": null,
            "flex_flow": null,
            "grid_area": null,
            "grid_auto_columns": null,
            "grid_auto_flow": null,
            "grid_auto_rows": null,
            "grid_column": null,
            "grid_gap": null,
            "grid_row": null,
            "grid_template_areas": null,
            "grid_template_columns": null,
            "grid_template_rows": null,
            "height": null,
            "justify_content": null,
            "justify_items": null,
            "left": null,
            "margin": null,
            "max_height": null,
            "max_width": null,
            "min_height": null,
            "min_width": null,
            "object_fit": null,
            "object_position": null,
            "order": null,
            "overflow": null,
            "overflow_x": null,
            "overflow_y": null,
            "padding": null,
            "right": null,
            "top": null,
            "visibility": null,
            "width": null
          }
        },
        "33e566711aca46218b5a3a46901ff953": {
          "model_module": "@jupyter-widgets/controls",
          "model_name": "DescriptionStyleModel",
          "model_module_version": "1.5.0",
          "state": {
            "_model_module": "@jupyter-widgets/controls",
            "_model_module_version": "1.5.0",
            "_model_name": "DescriptionStyleModel",
            "_view_count": null,
            "_view_module": "@jupyter-widgets/base",
            "_view_module_version": "1.2.0",
            "_view_name": "StyleView",
            "description_width": ""
          }
        },
        "a092075527cb4b5d9809630047d7e3f8": {
          "model_module": "@jupyter-widgets/controls",
          "model_name": "HBoxModel",
          "model_module_version": "1.5.0",
          "state": {
            "_dom_classes": [],
            "_model_module": "@jupyter-widgets/controls",
            "_model_module_version": "1.5.0",
            "_model_name": "HBoxModel",
            "_view_count": null,
            "_view_module": "@jupyter-widgets/controls",
            "_view_module_version": "1.5.0",
            "_view_name": "HBoxView",
            "box_style": "",
            "children": [
              "IPY_MODEL_1370f0795d4f447f9d888f9002be60a3",
              "IPY_MODEL_1b6e29e57b41489e81982973c3b9c1f0",
              "IPY_MODEL_67291008139e4d0fb94739de3dd88d34"
            ],
            "layout": "IPY_MODEL_5979c27ddb51493b8e8ae349b7ff2905"
          }
        },
        "1370f0795d4f447f9d888f9002be60a3": {
          "model_module": "@jupyter-widgets/controls",
          "model_name": "HTMLModel",
          "model_module_version": "1.5.0",
          "state": {
            "_dom_classes": [],
            "_model_module": "@jupyter-widgets/controls",
            "_model_module_version": "1.5.0",
            "_model_name": "HTMLModel",
            "_view_count": null,
            "_view_module": "@jupyter-widgets/controls",
            "_view_module_version": "1.5.0",
            "_view_name": "HTMLView",
            "description": "",
            "description_tooltip": null,
            "layout": "IPY_MODEL_8caa6061e0f6470fb0f0622fe95ebf44",
            "placeholder": "​",
            "style": "IPY_MODEL_89ac6015321c49e4a0085c82875ce295",
            "value": "Downloading: 100%"
          }
        },
        "1b6e29e57b41489e81982973c3b9c1f0": {
          "model_module": "@jupyter-widgets/controls",
          "model_name": "FloatProgressModel",
          "model_module_version": "1.5.0",
          "state": {
            "_dom_classes": [],
            "_model_module": "@jupyter-widgets/controls",
            "_model_module_version": "1.5.0",
            "_model_name": "FloatProgressModel",
            "_view_count": null,
            "_view_module": "@jupyter-widgets/controls",
            "_view_module_version": "1.5.0",
            "_view_name": "ProgressView",
            "bar_style": "success",
            "description": "",
            "description_tooltip": null,
            "layout": "IPY_MODEL_ae9eacc57d8c46dea0584489f2aa7192",
            "max": 645,
            "min": 0,
            "orientation": "horizontal",
            "style": "IPY_MODEL_67717928c01b4264ab839aeb07755ad7",
            "value": 645
          }
        },
        "67291008139e4d0fb94739de3dd88d34": {
          "model_module": "@jupyter-widgets/controls",
          "model_name": "HTMLModel",
          "model_module_version": "1.5.0",
          "state": {
            "_dom_classes": [],
            "_model_module": "@jupyter-widgets/controls",
            "_model_module_version": "1.5.0",
            "_model_name": "HTMLModel",
            "_view_count": null,
            "_view_module": "@jupyter-widgets/controls",
            "_view_module_version": "1.5.0",
            "_view_name": "HTMLView",
            "description": "",
            "description_tooltip": null,
            "layout": "IPY_MODEL_2c15529c6d604d3594f01be6c23c7fe5",
            "placeholder": "​",
            "style": "IPY_MODEL_2378e4a6f0854a019808b7d9b18e0c61",
            "value": " 645/645 [00:00&lt;00:00, 33.9kB/s]"
          }
        },
        "5979c27ddb51493b8e8ae349b7ff2905": {
          "model_module": "@jupyter-widgets/base",
          "model_name": "LayoutModel",
          "model_module_version": "1.2.0",
          "state": {
            "_model_module": "@jupyter-widgets/base",
            "_model_module_version": "1.2.0",
            "_model_name": "LayoutModel",
            "_view_count": null,
            "_view_module": "@jupyter-widgets/base",
            "_view_module_version": "1.2.0",
            "_view_name": "LayoutView",
            "align_content": null,
            "align_items": null,
            "align_self": null,
            "border": null,
            "bottom": null,
            "display": null,
            "flex": null,
            "flex_flow": null,
            "grid_area": null,
            "grid_auto_columns": null,
            "grid_auto_flow": null,
            "grid_auto_rows": null,
            "grid_column": null,
            "grid_gap": null,
            "grid_row": null,
            "grid_template_areas": null,
            "grid_template_columns": null,
            "grid_template_rows": null,
            "height": null,
            "justify_content": null,
            "justify_items": null,
            "left": null,
            "margin": null,
            "max_height": null,
            "max_width": null,
            "min_height": null,
            "min_width": null,
            "object_fit": null,
            "object_position": null,
            "order": null,
            "overflow": null,
            "overflow_x": null,
            "overflow_y": null,
            "padding": null,
            "right": null,
            "top": null,
            "visibility": null,
            "width": null
          }
        },
        "8caa6061e0f6470fb0f0622fe95ebf44": {
          "model_module": "@jupyter-widgets/base",
          "model_name": "LayoutModel",
          "model_module_version": "1.2.0",
          "state": {
            "_model_module": "@jupyter-widgets/base",
            "_model_module_version": "1.2.0",
            "_model_name": "LayoutModel",
            "_view_count": null,
            "_view_module": "@jupyter-widgets/base",
            "_view_module_version": "1.2.0",
            "_view_name": "LayoutView",
            "align_content": null,
            "align_items": null,
            "align_self": null,
            "border": null,
            "bottom": null,
            "display": null,
            "flex": null,
            "flex_flow": null,
            "grid_area": null,
            "grid_auto_columns": null,
            "grid_auto_flow": null,
            "grid_auto_rows": null,
            "grid_column": null,
            "grid_gap": null,
            "grid_row": null,
            "grid_template_areas": null,
            "grid_template_columns": null,
            "grid_template_rows": null,
            "height": null,
            "justify_content": null,
            "justify_items": null,
            "left": null,
            "margin": null,
            "max_height": null,
            "max_width": null,
            "min_height": null,
            "min_width": null,
            "object_fit": null,
            "object_position": null,
            "order": null,
            "overflow": null,
            "overflow_x": null,
            "overflow_y": null,
            "padding": null,
            "right": null,
            "top": null,
            "visibility": null,
            "width": null
          }
        },
        "89ac6015321c49e4a0085c82875ce295": {
          "model_module": "@jupyter-widgets/controls",
          "model_name": "DescriptionStyleModel",
          "model_module_version": "1.5.0",
          "state": {
            "_model_module": "@jupyter-widgets/controls",
            "_model_module_version": "1.5.0",
            "_model_name": "DescriptionStyleModel",
            "_view_count": null,
            "_view_module": "@jupyter-widgets/base",
            "_view_module_version": "1.2.0",
            "_view_name": "StyleView",
            "description_width": ""
          }
        },
        "ae9eacc57d8c46dea0584489f2aa7192": {
          "model_module": "@jupyter-widgets/base",
          "model_name": "LayoutModel",
          "model_module_version": "1.2.0",
          "state": {
            "_model_module": "@jupyter-widgets/base",
            "_model_module_version": "1.2.0",
            "_model_name": "LayoutModel",
            "_view_count": null,
            "_view_module": "@jupyter-widgets/base",
            "_view_module_version": "1.2.0",
            "_view_name": "LayoutView",
            "align_content": null,
            "align_items": null,
            "align_self": null,
            "border": null,
            "bottom": null,
            "display": null,
            "flex": null,
            "flex_flow": null,
            "grid_area": null,
            "grid_auto_columns": null,
            "grid_auto_flow": null,
            "grid_auto_rows": null,
            "grid_column": null,
            "grid_gap": null,
            "grid_row": null,
            "grid_template_areas": null,
            "grid_template_columns": null,
            "grid_template_rows": null,
            "height": null,
            "justify_content": null,
            "justify_items": null,
            "left": null,
            "margin": null,
            "max_height": null,
            "max_width": null,
            "min_height": null,
            "min_width": null,
            "object_fit": null,
            "object_position": null,
            "order": null,
            "overflow": null,
            "overflow_x": null,
            "overflow_y": null,
            "padding": null,
            "right": null,
            "top": null,
            "visibility": null,
            "width": null
          }
        },
        "67717928c01b4264ab839aeb07755ad7": {
          "model_module": "@jupyter-widgets/controls",
          "model_name": "ProgressStyleModel",
          "model_module_version": "1.5.0",
          "state": {
            "_model_module": "@jupyter-widgets/controls",
            "_model_module_version": "1.5.0",
            "_model_name": "ProgressStyleModel",
            "_view_count": null,
            "_view_module": "@jupyter-widgets/base",
            "_view_module_version": "1.2.0",
            "_view_name": "StyleView",
            "bar_color": null,
            "description_width": ""
          }
        },
        "2c15529c6d604d3594f01be6c23c7fe5": {
          "model_module": "@jupyter-widgets/base",
          "model_name": "LayoutModel",
          "model_module_version": "1.2.0",
          "state": {
            "_model_module": "@jupyter-widgets/base",
            "_model_module_version": "1.2.0",
            "_model_name": "LayoutModel",
            "_view_count": null,
            "_view_module": "@jupyter-widgets/base",
            "_view_module_version": "1.2.0",
            "_view_name": "LayoutView",
            "align_content": null,
            "align_items": null,
            "align_self": null,
            "border": null,
            "bottom": null,
            "display": null,
            "flex": null,
            "flex_flow": null,
            "grid_area": null,
            "grid_auto_columns": null,
            "grid_auto_flow": null,
            "grid_auto_rows": null,
            "grid_column": null,
            "grid_gap": null,
            "grid_row": null,
            "grid_template_areas": null,
            "grid_template_columns": null,
            "grid_template_rows": null,
            "height": null,
            "justify_content": null,
            "justify_items": null,
            "left": null,
            "margin": null,
            "max_height": null,
            "max_width": null,
            "min_height": null,
            "min_width": null,
            "object_fit": null,
            "object_position": null,
            "order": null,
            "overflow": null,
            "overflow_x": null,
            "overflow_y": null,
            "padding": null,
            "right": null,
            "top": null,
            "visibility": null,
            "width": null
          }
        },
        "2378e4a6f0854a019808b7d9b18e0c61": {
          "model_module": "@jupyter-widgets/controls",
          "model_name": "DescriptionStyleModel",
          "model_module_version": "1.5.0",
          "state": {
            "_model_module": "@jupyter-widgets/controls",
            "_model_module_version": "1.5.0",
            "_model_name": "DescriptionStyleModel",
            "_view_count": null,
            "_view_module": "@jupyter-widgets/base",
            "_view_module_version": "1.2.0",
            "_view_name": "StyleView",
            "description_width": ""
          }
        },
        "7e650af5ab0f4c5ab590ef934e52e532": {
          "model_module": "@jupyter-widgets/controls",
          "model_name": "HBoxModel",
          "model_module_version": "1.5.0",
          "state": {
            "_dom_classes": [],
            "_model_module": "@jupyter-widgets/controls",
            "_model_module_version": "1.5.0",
            "_model_name": "HBoxModel",
            "_view_count": null,
            "_view_module": "@jupyter-widgets/controls",
            "_view_module_version": "1.5.0",
            "_view_name": "HBoxView",
            "box_style": "",
            "children": [
              "IPY_MODEL_9e6cfb2e16cb4c3fbc8d4260d035c23d",
              "IPY_MODEL_a28ac1f522074721894c19a4b63a353e",
              "IPY_MODEL_5f0de458ed4242cbae6d7a5c3079b5a1"
            ],
            "layout": "IPY_MODEL_80f289d588b4416fad6992bf10bb923d"
          }
        },
        "9e6cfb2e16cb4c3fbc8d4260d035c23d": {
          "model_module": "@jupyter-widgets/controls",
          "model_name": "HTMLModel",
          "model_module_version": "1.5.0",
          "state": {
            "_dom_classes": [],
            "_model_module": "@jupyter-widgets/controls",
            "_model_module_version": "1.5.0",
            "_model_name": "HTMLModel",
            "_view_count": null,
            "_view_module": "@jupyter-widgets/controls",
            "_view_module_version": "1.5.0",
            "_view_name": "HTMLView",
            "description": "",
            "description_tooltip": null,
            "layout": "IPY_MODEL_e92af33a99804672976745bc78646dbc",
            "placeholder": "​",
            "style": "IPY_MODEL_2cd5795758534a719505b9e5832bd2db",
            "value": "Downloading: 100%"
          }
        },
        "a28ac1f522074721894c19a4b63a353e": {
          "model_module": "@jupyter-widgets/controls",
          "model_name": "FloatProgressModel",
          "model_module_version": "1.5.0",
          "state": {
            "_dom_classes": [],
            "_model_module": "@jupyter-widgets/controls",
            "_model_module_version": "1.5.0",
            "_model_name": "FloatProgressModel",
            "_view_count": null,
            "_view_module": "@jupyter-widgets/controls",
            "_view_module_version": "1.5.0",
            "_view_name": "ProgressView",
            "bar_style": "success",
            "description": "",
            "description_tooltip": null,
            "layout": "IPY_MODEL_7b337cb9bc334d15b68479dd81783cd0",
            "max": 122,
            "min": 0,
            "orientation": "horizontal",
            "style": "IPY_MODEL_9109f49f3deb4c0894d9ca9f4e226f73",
            "value": 122
          }
        },
        "5f0de458ed4242cbae6d7a5c3079b5a1": {
          "model_module": "@jupyter-widgets/controls",
          "model_name": "HTMLModel",
          "model_module_version": "1.5.0",
          "state": {
            "_dom_classes": [],
            "_model_module": "@jupyter-widgets/controls",
            "_model_module_version": "1.5.0",
            "_model_name": "HTMLModel",
            "_view_count": null,
            "_view_module": "@jupyter-widgets/controls",
            "_view_module_version": "1.5.0",
            "_view_name": "HTMLView",
            "description": "",
            "description_tooltip": null,
            "layout": "IPY_MODEL_b2e85f12af4a4f698beb3f1479f85089",
            "placeholder": "​",
            "style": "IPY_MODEL_50c60eb4f5374070b94b17358e6e44d5",
            "value": " 122/122 [00:00&lt;00:00, 6.59kB/s]"
          }
        },
        "80f289d588b4416fad6992bf10bb923d": {
          "model_module": "@jupyter-widgets/base",
          "model_name": "LayoutModel",
          "model_module_version": "1.2.0",
          "state": {
            "_model_module": "@jupyter-widgets/base",
            "_model_module_version": "1.2.0",
            "_model_name": "LayoutModel",
            "_view_count": null,
            "_view_module": "@jupyter-widgets/base",
            "_view_module_version": "1.2.0",
            "_view_name": "LayoutView",
            "align_content": null,
            "align_items": null,
            "align_self": null,
            "border": null,
            "bottom": null,
            "display": null,
            "flex": null,
            "flex_flow": null,
            "grid_area": null,
            "grid_auto_columns": null,
            "grid_auto_flow": null,
            "grid_auto_rows": null,
            "grid_column": null,
            "grid_gap": null,
            "grid_row": null,
            "grid_template_areas": null,
            "grid_template_columns": null,
            "grid_template_rows": null,
            "height": null,
            "justify_content": null,
            "justify_items": null,
            "left": null,
            "margin": null,
            "max_height": null,
            "max_width": null,
            "min_height": null,
            "min_width": null,
            "object_fit": null,
            "object_position": null,
            "order": null,
            "overflow": null,
            "overflow_x": null,
            "overflow_y": null,
            "padding": null,
            "right": null,
            "top": null,
            "visibility": null,
            "width": null
          }
        },
        "e92af33a99804672976745bc78646dbc": {
          "model_module": "@jupyter-widgets/base",
          "model_name": "LayoutModel",
          "model_module_version": "1.2.0",
          "state": {
            "_model_module": "@jupyter-widgets/base",
            "_model_module_version": "1.2.0",
            "_model_name": "LayoutModel",
            "_view_count": null,
            "_view_module": "@jupyter-widgets/base",
            "_view_module_version": "1.2.0",
            "_view_name": "LayoutView",
            "align_content": null,
            "align_items": null,
            "align_self": null,
            "border": null,
            "bottom": null,
            "display": null,
            "flex": null,
            "flex_flow": null,
            "grid_area": null,
            "grid_auto_columns": null,
            "grid_auto_flow": null,
            "grid_auto_rows": null,
            "grid_column": null,
            "grid_gap": null,
            "grid_row": null,
            "grid_template_areas": null,
            "grid_template_columns": null,
            "grid_template_rows": null,
            "height": null,
            "justify_content": null,
            "justify_items": null,
            "left": null,
            "margin": null,
            "max_height": null,
            "max_width": null,
            "min_height": null,
            "min_width": null,
            "object_fit": null,
            "object_position": null,
            "order": null,
            "overflow": null,
            "overflow_x": null,
            "overflow_y": null,
            "padding": null,
            "right": null,
            "top": null,
            "visibility": null,
            "width": null
          }
        },
        "2cd5795758534a719505b9e5832bd2db": {
          "model_module": "@jupyter-widgets/controls",
          "model_name": "DescriptionStyleModel",
          "model_module_version": "1.5.0",
          "state": {
            "_model_module": "@jupyter-widgets/controls",
            "_model_module_version": "1.5.0",
            "_model_name": "DescriptionStyleModel",
            "_view_count": null,
            "_view_module": "@jupyter-widgets/base",
            "_view_module_version": "1.2.0",
            "_view_name": "StyleView",
            "description_width": ""
          }
        },
        "7b337cb9bc334d15b68479dd81783cd0": {
          "model_module": "@jupyter-widgets/base",
          "model_name": "LayoutModel",
          "model_module_version": "1.2.0",
          "state": {
            "_model_module": "@jupyter-widgets/base",
            "_model_module_version": "1.2.0",
            "_model_name": "LayoutModel",
            "_view_count": null,
            "_view_module": "@jupyter-widgets/base",
            "_view_module_version": "1.2.0",
            "_view_name": "LayoutView",
            "align_content": null,
            "align_items": null,
            "align_self": null,
            "border": null,
            "bottom": null,
            "display": null,
            "flex": null,
            "flex_flow": null,
            "grid_area": null,
            "grid_auto_columns": null,
            "grid_auto_flow": null,
            "grid_auto_rows": null,
            "grid_column": null,
            "grid_gap": null,
            "grid_row": null,
            "grid_template_areas": null,
            "grid_template_columns": null,
            "grid_template_rows": null,
            "height": null,
            "justify_content": null,
            "justify_items": null,
            "left": null,
            "margin": null,
            "max_height": null,
            "max_width": null,
            "min_height": null,
            "min_width": null,
            "object_fit": null,
            "object_position": null,
            "order": null,
            "overflow": null,
            "overflow_x": null,
            "overflow_y": null,
            "padding": null,
            "right": null,
            "top": null,
            "visibility": null,
            "width": null
          }
        },
        "9109f49f3deb4c0894d9ca9f4e226f73": {
          "model_module": "@jupyter-widgets/controls",
          "model_name": "ProgressStyleModel",
          "model_module_version": "1.5.0",
          "state": {
            "_model_module": "@jupyter-widgets/controls",
            "_model_module_version": "1.5.0",
            "_model_name": "ProgressStyleModel",
            "_view_count": null,
            "_view_module": "@jupyter-widgets/base",
            "_view_module_version": "1.2.0",
            "_view_name": "StyleView",
            "bar_color": null,
            "description_width": ""
          }
        },
        "b2e85f12af4a4f698beb3f1479f85089": {
          "model_module": "@jupyter-widgets/base",
          "model_name": "LayoutModel",
          "model_module_version": "1.2.0",
          "state": {
            "_model_module": "@jupyter-widgets/base",
            "_model_module_version": "1.2.0",
            "_model_name": "LayoutModel",
            "_view_count": null,
            "_view_module": "@jupyter-widgets/base",
            "_view_module_version": "1.2.0",
            "_view_name": "LayoutView",
            "align_content": null,
            "align_items": null,
            "align_self": null,
            "border": null,
            "bottom": null,
            "display": null,
            "flex": null,
            "flex_flow": null,
            "grid_area": null,
            "grid_auto_columns": null,
            "grid_auto_flow": null,
            "grid_auto_rows": null,
            "grid_column": null,
            "grid_gap": null,
            "grid_row": null,
            "grid_template_areas": null,
            "grid_template_columns": null,
            "grid_template_rows": null,
            "height": null,
            "justify_content": null,
            "justify_items": null,
            "left": null,
            "margin": null,
            "max_height": null,
            "max_width": null,
            "min_height": null,
            "min_width": null,
            "object_fit": null,
            "object_position": null,
            "order": null,
            "overflow": null,
            "overflow_x": null,
            "overflow_y": null,
            "padding": null,
            "right": null,
            "top": null,
            "visibility": null,
            "width": null
          }
        },
        "50c60eb4f5374070b94b17358e6e44d5": {
          "model_module": "@jupyter-widgets/controls",
          "model_name": "DescriptionStyleModel",
          "model_module_version": "1.5.0",
          "state": {
            "_model_module": "@jupyter-widgets/controls",
            "_model_module_version": "1.5.0",
            "_model_name": "DescriptionStyleModel",
            "_view_count": null,
            "_view_module": "@jupyter-widgets/base",
            "_view_module_version": "1.2.0",
            "_view_name": "StyleView",
            "description_width": ""
          }
        },
        "5aa2cac8d031447d93e864e89ebde85b": {
          "model_module": "@jupyter-widgets/controls",
          "model_name": "HBoxModel",
          "model_module_version": "1.5.0",
          "state": {
            "_dom_classes": [],
            "_model_module": "@jupyter-widgets/controls",
            "_model_module_version": "1.5.0",
            "_model_name": "HBoxModel",
            "_view_count": null,
            "_view_module": "@jupyter-widgets/controls",
            "_view_module_version": "1.5.0",
            "_view_name": "HBoxView",
            "box_style": "",
            "children": [
              "IPY_MODEL_64e24f2ad9d74a4c9d23f8c636cb5920",
              "IPY_MODEL_2bc779e279e340448a14611aa2bab225",
              "IPY_MODEL_2e2809cfaabb4727a39a57fc71f61f33"
            ],
            "layout": "IPY_MODEL_dc498f87f80746d281243f79b0ea1ecb"
          }
        },
        "64e24f2ad9d74a4c9d23f8c636cb5920": {
          "model_module": "@jupyter-widgets/controls",
          "model_name": "HTMLModel",
          "model_module_version": "1.5.0",
          "state": {
            "_dom_classes": [],
            "_model_module": "@jupyter-widgets/controls",
            "_model_module_version": "1.5.0",
            "_model_name": "HTMLModel",
            "_view_count": null,
            "_view_module": "@jupyter-widgets/controls",
            "_view_module_version": "1.5.0",
            "_view_name": "HTMLView",
            "description": "",
            "description_tooltip": null,
            "layout": "IPY_MODEL_5fd6db712403421eac1d5e7f914554b9",
            "placeholder": "​",
            "style": "IPY_MODEL_800fc4ae644a4b55b0718b2c1fca1c06",
            "value": "Downloading: 100%"
          }
        },
        "2bc779e279e340448a14611aa2bab225": {
          "model_module": "@jupyter-widgets/controls",
          "model_name": "FloatProgressModel",
          "model_module_version": "1.5.0",
          "state": {
            "_dom_classes": [],
            "_model_module": "@jupyter-widgets/controls",
            "_model_module_version": "1.5.0",
            "_model_name": "FloatProgressModel",
            "_view_count": null,
            "_view_module": "@jupyter-widgets/controls",
            "_view_module_version": "1.5.0",
            "_view_name": "ProgressView",
            "bar_style": "success",
            "description": "",
            "description_tooltip": null,
            "layout": "IPY_MODEL_3f86bbf86d634090ad05de43d6d751d4",
            "max": 470693617,
            "min": 0,
            "orientation": "horizontal",
            "style": "IPY_MODEL_1cfbd69cd64645caae65deb96c19ff46",
            "value": 470693617
          }
        },
        "2e2809cfaabb4727a39a57fc71f61f33": {
          "model_module": "@jupyter-widgets/controls",
          "model_name": "HTMLModel",
          "model_module_version": "1.5.0",
          "state": {
            "_dom_classes": [],
            "_model_module": "@jupyter-widgets/controls",
            "_model_module_version": "1.5.0",
            "_model_name": "HTMLModel",
            "_view_count": null,
            "_view_module": "@jupyter-widgets/controls",
            "_view_module_version": "1.5.0",
            "_view_name": "HTMLView",
            "description": "",
            "description_tooltip": null,
            "layout": "IPY_MODEL_aa401063ea3a4cc79c88d54b2eb7db01",
            "placeholder": "​",
            "style": "IPY_MODEL_19c933c4e580477babd407ad2e960ac7",
            "value": " 471M/471M [00:06&lt;00:00, 67.6MB/s]"
          }
        },
        "dc498f87f80746d281243f79b0ea1ecb": {
          "model_module": "@jupyter-widgets/base",
          "model_name": "LayoutModel",
          "model_module_version": "1.2.0",
          "state": {
            "_model_module": "@jupyter-widgets/base",
            "_model_module_version": "1.2.0",
            "_model_name": "LayoutModel",
            "_view_count": null,
            "_view_module": "@jupyter-widgets/base",
            "_view_module_version": "1.2.0",
            "_view_name": "LayoutView",
            "align_content": null,
            "align_items": null,
            "align_self": null,
            "border": null,
            "bottom": null,
            "display": null,
            "flex": null,
            "flex_flow": null,
            "grid_area": null,
            "grid_auto_columns": null,
            "grid_auto_flow": null,
            "grid_auto_rows": null,
            "grid_column": null,
            "grid_gap": null,
            "grid_row": null,
            "grid_template_areas": null,
            "grid_template_columns": null,
            "grid_template_rows": null,
            "height": null,
            "justify_content": null,
            "justify_items": null,
            "left": null,
            "margin": null,
            "max_height": null,
            "max_width": null,
            "min_height": null,
            "min_width": null,
            "object_fit": null,
            "object_position": null,
            "order": null,
            "overflow": null,
            "overflow_x": null,
            "overflow_y": null,
            "padding": null,
            "right": null,
            "top": null,
            "visibility": null,
            "width": null
          }
        },
        "5fd6db712403421eac1d5e7f914554b9": {
          "model_module": "@jupyter-widgets/base",
          "model_name": "LayoutModel",
          "model_module_version": "1.2.0",
          "state": {
            "_model_module": "@jupyter-widgets/base",
            "_model_module_version": "1.2.0",
            "_model_name": "LayoutModel",
            "_view_count": null,
            "_view_module": "@jupyter-widgets/base",
            "_view_module_version": "1.2.0",
            "_view_name": "LayoutView",
            "align_content": null,
            "align_items": null,
            "align_self": null,
            "border": null,
            "bottom": null,
            "display": null,
            "flex": null,
            "flex_flow": null,
            "grid_area": null,
            "grid_auto_columns": null,
            "grid_auto_flow": null,
            "grid_auto_rows": null,
            "grid_column": null,
            "grid_gap": null,
            "grid_row": null,
            "grid_template_areas": null,
            "grid_template_columns": null,
            "grid_template_rows": null,
            "height": null,
            "justify_content": null,
            "justify_items": null,
            "left": null,
            "margin": null,
            "max_height": null,
            "max_width": null,
            "min_height": null,
            "min_width": null,
            "object_fit": null,
            "object_position": null,
            "order": null,
            "overflow": null,
            "overflow_x": null,
            "overflow_y": null,
            "padding": null,
            "right": null,
            "top": null,
            "visibility": null,
            "width": null
          }
        },
        "800fc4ae644a4b55b0718b2c1fca1c06": {
          "model_module": "@jupyter-widgets/controls",
          "model_name": "DescriptionStyleModel",
          "model_module_version": "1.5.0",
          "state": {
            "_model_module": "@jupyter-widgets/controls",
            "_model_module_version": "1.5.0",
            "_model_name": "DescriptionStyleModel",
            "_view_count": null,
            "_view_module": "@jupyter-widgets/base",
            "_view_module_version": "1.2.0",
            "_view_name": "StyleView",
            "description_width": ""
          }
        },
        "3f86bbf86d634090ad05de43d6d751d4": {
          "model_module": "@jupyter-widgets/base",
          "model_name": "LayoutModel",
          "model_module_version": "1.2.0",
          "state": {
            "_model_module": "@jupyter-widgets/base",
            "_model_module_version": "1.2.0",
            "_model_name": "LayoutModel",
            "_view_count": null,
            "_view_module": "@jupyter-widgets/base",
            "_view_module_version": "1.2.0",
            "_view_name": "LayoutView",
            "align_content": null,
            "align_items": null,
            "align_self": null,
            "border": null,
            "bottom": null,
            "display": null,
            "flex": null,
            "flex_flow": null,
            "grid_area": null,
            "grid_auto_columns": null,
            "grid_auto_flow": null,
            "grid_auto_rows": null,
            "grid_column": null,
            "grid_gap": null,
            "grid_row": null,
            "grid_template_areas": null,
            "grid_template_columns": null,
            "grid_template_rows": null,
            "height": null,
            "justify_content": null,
            "justify_items": null,
            "left": null,
            "margin": null,
            "max_height": null,
            "max_width": null,
            "min_height": null,
            "min_width": null,
            "object_fit": null,
            "object_position": null,
            "order": null,
            "overflow": null,
            "overflow_x": null,
            "overflow_y": null,
            "padding": null,
            "right": null,
            "top": null,
            "visibility": null,
            "width": null
          }
        },
        "1cfbd69cd64645caae65deb96c19ff46": {
          "model_module": "@jupyter-widgets/controls",
          "model_name": "ProgressStyleModel",
          "model_module_version": "1.5.0",
          "state": {
            "_model_module": "@jupyter-widgets/controls",
            "_model_module_version": "1.5.0",
            "_model_name": "ProgressStyleModel",
            "_view_count": null,
            "_view_module": "@jupyter-widgets/base",
            "_view_module_version": "1.2.0",
            "_view_name": "StyleView",
            "bar_color": null,
            "description_width": ""
          }
        },
        "aa401063ea3a4cc79c88d54b2eb7db01": {
          "model_module": "@jupyter-widgets/base",
          "model_name": "LayoutModel",
          "model_module_version": "1.2.0",
          "state": {
            "_model_module": "@jupyter-widgets/base",
            "_model_module_version": "1.2.0",
            "_model_name": "LayoutModel",
            "_view_count": null,
            "_view_module": "@jupyter-widgets/base",
            "_view_module_version": "1.2.0",
            "_view_name": "LayoutView",
            "align_content": null,
            "align_items": null,
            "align_self": null,
            "border": null,
            "bottom": null,
            "display": null,
            "flex": null,
            "flex_flow": null,
            "grid_area": null,
            "grid_auto_columns": null,
            "grid_auto_flow": null,
            "grid_auto_rows": null,
            "grid_column": null,
            "grid_gap": null,
            "grid_row": null,
            "grid_template_areas": null,
            "grid_template_columns": null,
            "grid_template_rows": null,
            "height": null,
            "justify_content": null,
            "justify_items": null,
            "left": null,
            "margin": null,
            "max_height": null,
            "max_width": null,
            "min_height": null,
            "min_width": null,
            "object_fit": null,
            "object_position": null,
            "order": null,
            "overflow": null,
            "overflow_x": null,
            "overflow_y": null,
            "padding": null,
            "right": null,
            "top": null,
            "visibility": null,
            "width": null
          }
        },
        "19c933c4e580477babd407ad2e960ac7": {
          "model_module": "@jupyter-widgets/controls",
          "model_name": "DescriptionStyleModel",
          "model_module_version": "1.5.0",
          "state": {
            "_model_module": "@jupyter-widgets/controls",
            "_model_module_version": "1.5.0",
            "_model_name": "DescriptionStyleModel",
            "_view_count": null,
            "_view_module": "@jupyter-widgets/base",
            "_view_module_version": "1.2.0",
            "_view_name": "StyleView",
            "description_width": ""
          }
        },
        "4b5acefc17484fba9f664f44de5ce2f7": {
          "model_module": "@jupyter-widgets/controls",
          "model_name": "HBoxModel",
          "model_module_version": "1.5.0",
          "state": {
            "_dom_classes": [],
            "_model_module": "@jupyter-widgets/controls",
            "_model_module_version": "1.5.0",
            "_model_name": "HBoxModel",
            "_view_count": null,
            "_view_module": "@jupyter-widgets/controls",
            "_view_module_version": "1.5.0",
            "_view_name": "HBoxView",
            "box_style": "",
            "children": [
              "IPY_MODEL_8496caed676649b0b6be58d647a44ec3",
              "IPY_MODEL_9b9b49897fc0492d8252f377a50e02ec",
              "IPY_MODEL_5dfa443a2b404a02836b7476cf895ba8"
            ],
            "layout": "IPY_MODEL_260d15d3d3274099ab57d7a7cc47bb34"
          }
        },
        "8496caed676649b0b6be58d647a44ec3": {
          "model_module": "@jupyter-widgets/controls",
          "model_name": "HTMLModel",
          "model_module_version": "1.5.0",
          "state": {
            "_dom_classes": [],
            "_model_module": "@jupyter-widgets/controls",
            "_model_module_version": "1.5.0",
            "_model_name": "HTMLModel",
            "_view_count": null,
            "_view_module": "@jupyter-widgets/controls",
            "_view_module_version": "1.5.0",
            "_view_name": "HTMLView",
            "description": "",
            "description_tooltip": null,
            "layout": "IPY_MODEL_ea059cfd0ce641c59ddf74185365dd69",
            "placeholder": "​",
            "style": "IPY_MODEL_e925f3ba079d42fe851d7c1f35766de9",
            "value": "Downloading: 100%"
          }
        },
        "9b9b49897fc0492d8252f377a50e02ec": {
          "model_module": "@jupyter-widgets/controls",
          "model_name": "FloatProgressModel",
          "model_module_version": "1.5.0",
          "state": {
            "_dom_classes": [],
            "_model_module": "@jupyter-widgets/controls",
            "_model_module_version": "1.5.0",
            "_model_name": "FloatProgressModel",
            "_view_count": null,
            "_view_module": "@jupyter-widgets/controls",
            "_view_module_version": "1.5.0",
            "_view_name": "ProgressView",
            "bar_style": "success",
            "description": "",
            "description_tooltip": null,
            "layout": "IPY_MODEL_6897bb7709884cd8bc1b761cff695311",
            "max": 53,
            "min": 0,
            "orientation": "horizontal",
            "style": "IPY_MODEL_bab8216c71d443a49d7068d79fb49673",
            "value": 53
          }
        },
        "5dfa443a2b404a02836b7476cf895ba8": {
          "model_module": "@jupyter-widgets/controls",
          "model_name": "HTMLModel",
          "model_module_version": "1.5.0",
          "state": {
            "_dom_classes": [],
            "_model_module": "@jupyter-widgets/controls",
            "_model_module_version": "1.5.0",
            "_model_name": "HTMLModel",
            "_view_count": null,
            "_view_module": "@jupyter-widgets/controls",
            "_view_module_version": "1.5.0",
            "_view_name": "HTMLView",
            "description": "",
            "description_tooltip": null,
            "layout": "IPY_MODEL_667b2a98b4614839a423d20a95c99c53",
            "placeholder": "​",
            "style": "IPY_MODEL_ceffa7d49a224d63bd58462a44b23ec9",
            "value": " 53.0/53.0 [00:00&lt;00:00, 2.50kB/s]"
          }
        },
        "260d15d3d3274099ab57d7a7cc47bb34": {
          "model_module": "@jupyter-widgets/base",
          "model_name": "LayoutModel",
          "model_module_version": "1.2.0",
          "state": {
            "_model_module": "@jupyter-widgets/base",
            "_model_module_version": "1.2.0",
            "_model_name": "LayoutModel",
            "_view_count": null,
            "_view_module": "@jupyter-widgets/base",
            "_view_module_version": "1.2.0",
            "_view_name": "LayoutView",
            "align_content": null,
            "align_items": null,
            "align_self": null,
            "border": null,
            "bottom": null,
            "display": null,
            "flex": null,
            "flex_flow": null,
            "grid_area": null,
            "grid_auto_columns": null,
            "grid_auto_flow": null,
            "grid_auto_rows": null,
            "grid_column": null,
            "grid_gap": null,
            "grid_row": null,
            "grid_template_areas": null,
            "grid_template_columns": null,
            "grid_template_rows": null,
            "height": null,
            "justify_content": null,
            "justify_items": null,
            "left": null,
            "margin": null,
            "max_height": null,
            "max_width": null,
            "min_height": null,
            "min_width": null,
            "object_fit": null,
            "object_position": null,
            "order": null,
            "overflow": null,
            "overflow_x": null,
            "overflow_y": null,
            "padding": null,
            "right": null,
            "top": null,
            "visibility": null,
            "width": null
          }
        },
        "ea059cfd0ce641c59ddf74185365dd69": {
          "model_module": "@jupyter-widgets/base",
          "model_name": "LayoutModel",
          "model_module_version": "1.2.0",
          "state": {
            "_model_module": "@jupyter-widgets/base",
            "_model_module_version": "1.2.0",
            "_model_name": "LayoutModel",
            "_view_count": null,
            "_view_module": "@jupyter-widgets/base",
            "_view_module_version": "1.2.0",
            "_view_name": "LayoutView",
            "align_content": null,
            "align_items": null,
            "align_self": null,
            "border": null,
            "bottom": null,
            "display": null,
            "flex": null,
            "flex_flow": null,
            "grid_area": null,
            "grid_auto_columns": null,
            "grid_auto_flow": null,
            "grid_auto_rows": null,
            "grid_column": null,
            "grid_gap": null,
            "grid_row": null,
            "grid_template_areas": null,
            "grid_template_columns": null,
            "grid_template_rows": null,
            "height": null,
            "justify_content": null,
            "justify_items": null,
            "left": null,
            "margin": null,
            "max_height": null,
            "max_width": null,
            "min_height": null,
            "min_width": null,
            "object_fit": null,
            "object_position": null,
            "order": null,
            "overflow": null,
            "overflow_x": null,
            "overflow_y": null,
            "padding": null,
            "right": null,
            "top": null,
            "visibility": null,
            "width": null
          }
        },
        "e925f3ba079d42fe851d7c1f35766de9": {
          "model_module": "@jupyter-widgets/controls",
          "model_name": "DescriptionStyleModel",
          "model_module_version": "1.5.0",
          "state": {
            "_model_module": "@jupyter-widgets/controls",
            "_model_module_version": "1.5.0",
            "_model_name": "DescriptionStyleModel",
            "_view_count": null,
            "_view_module": "@jupyter-widgets/base",
            "_view_module_version": "1.2.0",
            "_view_name": "StyleView",
            "description_width": ""
          }
        },
        "6897bb7709884cd8bc1b761cff695311": {
          "model_module": "@jupyter-widgets/base",
          "model_name": "LayoutModel",
          "model_module_version": "1.2.0",
          "state": {
            "_model_module": "@jupyter-widgets/base",
            "_model_module_version": "1.2.0",
            "_model_name": "LayoutModel",
            "_view_count": null,
            "_view_module": "@jupyter-widgets/base",
            "_view_module_version": "1.2.0",
            "_view_name": "LayoutView",
            "align_content": null,
            "align_items": null,
            "align_self": null,
            "border": null,
            "bottom": null,
            "display": null,
            "flex": null,
            "flex_flow": null,
            "grid_area": null,
            "grid_auto_columns": null,
            "grid_auto_flow": null,
            "grid_auto_rows": null,
            "grid_column": null,
            "grid_gap": null,
            "grid_row": null,
            "grid_template_areas": null,
            "grid_template_columns": null,
            "grid_template_rows": null,
            "height": null,
            "justify_content": null,
            "justify_items": null,
            "left": null,
            "margin": null,
            "max_height": null,
            "max_width": null,
            "min_height": null,
            "min_width": null,
            "object_fit": null,
            "object_position": null,
            "order": null,
            "overflow": null,
            "overflow_x": null,
            "overflow_y": null,
            "padding": null,
            "right": null,
            "top": null,
            "visibility": null,
            "width": null
          }
        },
        "bab8216c71d443a49d7068d79fb49673": {
          "model_module": "@jupyter-widgets/controls",
          "model_name": "ProgressStyleModel",
          "model_module_version": "1.5.0",
          "state": {
            "_model_module": "@jupyter-widgets/controls",
            "_model_module_version": "1.5.0",
            "_model_name": "ProgressStyleModel",
            "_view_count": null,
            "_view_module": "@jupyter-widgets/base",
            "_view_module_version": "1.2.0",
            "_view_name": "StyleView",
            "bar_color": null,
            "description_width": ""
          }
        },
        "667b2a98b4614839a423d20a95c99c53": {
          "model_module": "@jupyter-widgets/base",
          "model_name": "LayoutModel",
          "model_module_version": "1.2.0",
          "state": {
            "_model_module": "@jupyter-widgets/base",
            "_model_module_version": "1.2.0",
            "_model_name": "LayoutModel",
            "_view_count": null,
            "_view_module": "@jupyter-widgets/base",
            "_view_module_version": "1.2.0",
            "_view_name": "LayoutView",
            "align_content": null,
            "align_items": null,
            "align_self": null,
            "border": null,
            "bottom": null,
            "display": null,
            "flex": null,
            "flex_flow": null,
            "grid_area": null,
            "grid_auto_columns": null,
            "grid_auto_flow": null,
            "grid_auto_rows": null,
            "grid_column": null,
            "grid_gap": null,
            "grid_row": null,
            "grid_template_areas": null,
            "grid_template_columns": null,
            "grid_template_rows": null,
            "height": null,
            "justify_content": null,
            "justify_items": null,
            "left": null,
            "margin": null,
            "max_height": null,
            "max_width": null,
            "min_height": null,
            "min_width": null,
            "object_fit": null,
            "object_position": null,
            "order": null,
            "overflow": null,
            "overflow_x": null,
            "overflow_y": null,
            "padding": null,
            "right": null,
            "top": null,
            "visibility": null,
            "width": null
          }
        },
        "ceffa7d49a224d63bd58462a44b23ec9": {
          "model_module": "@jupyter-widgets/controls",
          "model_name": "DescriptionStyleModel",
          "model_module_version": "1.5.0",
          "state": {
            "_model_module": "@jupyter-widgets/controls",
            "_model_module_version": "1.5.0",
            "_model_name": "DescriptionStyleModel",
            "_view_count": null,
            "_view_module": "@jupyter-widgets/base",
            "_view_module_version": "1.2.0",
            "_view_name": "StyleView",
            "description_width": ""
          }
        },
        "6f146a9685ba41eaaae9030b1175acb3": {
          "model_module": "@jupyter-widgets/controls",
          "model_name": "HBoxModel",
          "model_module_version": "1.5.0",
          "state": {
            "_dom_classes": [],
            "_model_module": "@jupyter-widgets/controls",
            "_model_module_version": "1.5.0",
            "_model_name": "HBoxModel",
            "_view_count": null,
            "_view_module": "@jupyter-widgets/controls",
            "_view_module_version": "1.5.0",
            "_view_name": "HBoxView",
            "box_style": "",
            "children": [
              "IPY_MODEL_2f9fd30a93754fe2a1114ac21cbf0372",
              "IPY_MODEL_88ade84e390443d5a0f6d47bd403d2b4",
              "IPY_MODEL_06861aeafd5d47e1be0be17afcf85284"
            ],
            "layout": "IPY_MODEL_ac35d2957a064bbaa9db2c153032fbe0"
          }
        },
        "2f9fd30a93754fe2a1114ac21cbf0372": {
          "model_module": "@jupyter-widgets/controls",
          "model_name": "HTMLModel",
          "model_module_version": "1.5.0",
          "state": {
            "_dom_classes": [],
            "_model_module": "@jupyter-widgets/controls",
            "_model_module_version": "1.5.0",
            "_model_name": "HTMLModel",
            "_view_count": null,
            "_view_module": "@jupyter-widgets/controls",
            "_view_module_version": "1.5.0",
            "_view_name": "HTMLView",
            "description": "",
            "description_tooltip": null,
            "layout": "IPY_MODEL_1de07d5d0f334083a0de051ca8a00a5f",
            "placeholder": "​",
            "style": "IPY_MODEL_30706e530d9649289da48365e115f547",
            "value": "Downloading: 100%"
          }
        },
        "88ade84e390443d5a0f6d47bd403d2b4": {
          "model_module": "@jupyter-widgets/controls",
          "model_name": "FloatProgressModel",
          "model_module_version": "1.5.0",
          "state": {
            "_dom_classes": [],
            "_model_module": "@jupyter-widgets/controls",
            "_model_module_version": "1.5.0",
            "_model_name": "FloatProgressModel",
            "_view_count": null,
            "_view_module": "@jupyter-widgets/controls",
            "_view_module_version": "1.5.0",
            "_view_name": "ProgressView",
            "bar_style": "success",
            "description": "",
            "description_tooltip": null,
            "layout": "IPY_MODEL_176933e8148442fdbfff1e572db627b8",
            "max": 5069051,
            "min": 0,
            "orientation": "horizontal",
            "style": "IPY_MODEL_0a20b0ee573e4816a80837dbc2ee29bb",
            "value": 5069051
          }
        },
        "06861aeafd5d47e1be0be17afcf85284": {
          "model_module": "@jupyter-widgets/controls",
          "model_name": "HTMLModel",
          "model_module_version": "1.5.0",
          "state": {
            "_dom_classes": [],
            "_model_module": "@jupyter-widgets/controls",
            "_model_module_version": "1.5.0",
            "_model_name": "HTMLModel",
            "_view_count": null,
            "_view_module": "@jupyter-widgets/controls",
            "_view_module_version": "1.5.0",
            "_view_name": "HTMLView",
            "description": "",
            "description_tooltip": null,
            "layout": "IPY_MODEL_2d3b79c647954064a8745d80cdee82ba",
            "placeholder": "​",
            "style": "IPY_MODEL_07b780436db3400baa1b726c01bc3ec7",
            "value": " 5.07M/5.07M [00:00&lt;00:00, 41.3MB/s]"
          }
        },
        "ac35d2957a064bbaa9db2c153032fbe0": {
          "model_module": "@jupyter-widgets/base",
          "model_name": "LayoutModel",
          "model_module_version": "1.2.0",
          "state": {
            "_model_module": "@jupyter-widgets/base",
            "_model_module_version": "1.2.0",
            "_model_name": "LayoutModel",
            "_view_count": null,
            "_view_module": "@jupyter-widgets/base",
            "_view_module_version": "1.2.0",
            "_view_name": "LayoutView",
            "align_content": null,
            "align_items": null,
            "align_self": null,
            "border": null,
            "bottom": null,
            "display": null,
            "flex": null,
            "flex_flow": null,
            "grid_area": null,
            "grid_auto_columns": null,
            "grid_auto_flow": null,
            "grid_auto_rows": null,
            "grid_column": null,
            "grid_gap": null,
            "grid_row": null,
            "grid_template_areas": null,
            "grid_template_columns": null,
            "grid_template_rows": null,
            "height": null,
            "justify_content": null,
            "justify_items": null,
            "left": null,
            "margin": null,
            "max_height": null,
            "max_width": null,
            "min_height": null,
            "min_width": null,
            "object_fit": null,
            "object_position": null,
            "order": null,
            "overflow": null,
            "overflow_x": null,
            "overflow_y": null,
            "padding": null,
            "right": null,
            "top": null,
            "visibility": null,
            "width": null
          }
        },
        "1de07d5d0f334083a0de051ca8a00a5f": {
          "model_module": "@jupyter-widgets/base",
          "model_name": "LayoutModel",
          "model_module_version": "1.2.0",
          "state": {
            "_model_module": "@jupyter-widgets/base",
            "_model_module_version": "1.2.0",
            "_model_name": "LayoutModel",
            "_view_count": null,
            "_view_module": "@jupyter-widgets/base",
            "_view_module_version": "1.2.0",
            "_view_name": "LayoutView",
            "align_content": null,
            "align_items": null,
            "align_self": null,
            "border": null,
            "bottom": null,
            "display": null,
            "flex": null,
            "flex_flow": null,
            "grid_area": null,
            "grid_auto_columns": null,
            "grid_auto_flow": null,
            "grid_auto_rows": null,
            "grid_column": null,
            "grid_gap": null,
            "grid_row": null,
            "grid_template_areas": null,
            "grid_template_columns": null,
            "grid_template_rows": null,
            "height": null,
            "justify_content": null,
            "justify_items": null,
            "left": null,
            "margin": null,
            "max_height": null,
            "max_width": null,
            "min_height": null,
            "min_width": null,
            "object_fit": null,
            "object_position": null,
            "order": null,
            "overflow": null,
            "overflow_x": null,
            "overflow_y": null,
            "padding": null,
            "right": null,
            "top": null,
            "visibility": null,
            "width": null
          }
        },
        "30706e530d9649289da48365e115f547": {
          "model_module": "@jupyter-widgets/controls",
          "model_name": "DescriptionStyleModel",
          "model_module_version": "1.5.0",
          "state": {
            "_model_module": "@jupyter-widgets/controls",
            "_model_module_version": "1.5.0",
            "_model_name": "DescriptionStyleModel",
            "_view_count": null,
            "_view_module": "@jupyter-widgets/base",
            "_view_module_version": "1.2.0",
            "_view_name": "StyleView",
            "description_width": ""
          }
        },
        "176933e8148442fdbfff1e572db627b8": {
          "model_module": "@jupyter-widgets/base",
          "model_name": "LayoutModel",
          "model_module_version": "1.2.0",
          "state": {
            "_model_module": "@jupyter-widgets/base",
            "_model_module_version": "1.2.0",
            "_model_name": "LayoutModel",
            "_view_count": null,
            "_view_module": "@jupyter-widgets/base",
            "_view_module_version": "1.2.0",
            "_view_name": "LayoutView",
            "align_content": null,
            "align_items": null,
            "align_self": null,
            "border": null,
            "bottom": null,
            "display": null,
            "flex": null,
            "flex_flow": null,
            "grid_area": null,
            "grid_auto_columns": null,
            "grid_auto_flow": null,
            "grid_auto_rows": null,
            "grid_column": null,
            "grid_gap": null,
            "grid_row": null,
            "grid_template_areas": null,
            "grid_template_columns": null,
            "grid_template_rows": null,
            "height": null,
            "justify_content": null,
            "justify_items": null,
            "left": null,
            "margin": null,
            "max_height": null,
            "max_width": null,
            "min_height": null,
            "min_width": null,
            "object_fit": null,
            "object_position": null,
            "order": null,
            "overflow": null,
            "overflow_x": null,
            "overflow_y": null,
            "padding": null,
            "right": null,
            "top": null,
            "visibility": null,
            "width": null
          }
        },
        "0a20b0ee573e4816a80837dbc2ee29bb": {
          "model_module": "@jupyter-widgets/controls",
          "model_name": "ProgressStyleModel",
          "model_module_version": "1.5.0",
          "state": {
            "_model_module": "@jupyter-widgets/controls",
            "_model_module_version": "1.5.0",
            "_model_name": "ProgressStyleModel",
            "_view_count": null,
            "_view_module": "@jupyter-widgets/base",
            "_view_module_version": "1.2.0",
            "_view_name": "StyleView",
            "bar_color": null,
            "description_width": ""
          }
        },
        "2d3b79c647954064a8745d80cdee82ba": {
          "model_module": "@jupyter-widgets/base",
          "model_name": "LayoutModel",
          "model_module_version": "1.2.0",
          "state": {
            "_model_module": "@jupyter-widgets/base",
            "_model_module_version": "1.2.0",
            "_model_name": "LayoutModel",
            "_view_count": null,
            "_view_module": "@jupyter-widgets/base",
            "_view_module_version": "1.2.0",
            "_view_name": "LayoutView",
            "align_content": null,
            "align_items": null,
            "align_self": null,
            "border": null,
            "bottom": null,
            "display": null,
            "flex": null,
            "flex_flow": null,
            "grid_area": null,
            "grid_auto_columns": null,
            "grid_auto_flow": null,
            "grid_auto_rows": null,
            "grid_column": null,
            "grid_gap": null,
            "grid_row": null,
            "grid_template_areas": null,
            "grid_template_columns": null,
            "grid_template_rows": null,
            "height": null,
            "justify_content": null,
            "justify_items": null,
            "left": null,
            "margin": null,
            "max_height": null,
            "max_width": null,
            "min_height": null,
            "min_width": null,
            "object_fit": null,
            "object_position": null,
            "order": null,
            "overflow": null,
            "overflow_x": null,
            "overflow_y": null,
            "padding": null,
            "right": null,
            "top": null,
            "visibility": null,
            "width": null
          }
        },
        "07b780436db3400baa1b726c01bc3ec7": {
          "model_module": "@jupyter-widgets/controls",
          "model_name": "DescriptionStyleModel",
          "model_module_version": "1.5.0",
          "state": {
            "_model_module": "@jupyter-widgets/controls",
            "_model_module_version": "1.5.0",
            "_model_name": "DescriptionStyleModel",
            "_view_count": null,
            "_view_module": "@jupyter-widgets/base",
            "_view_module_version": "1.2.0",
            "_view_name": "StyleView",
            "description_width": ""
          }
        },
        "a9a08005322844ae915280d80d84bea0": {
          "model_module": "@jupyter-widgets/controls",
          "model_name": "HBoxModel",
          "model_module_version": "1.5.0",
          "state": {
            "_dom_classes": [],
            "_model_module": "@jupyter-widgets/controls",
            "_model_module_version": "1.5.0",
            "_model_name": "HBoxModel",
            "_view_count": null,
            "_view_module": "@jupyter-widgets/controls",
            "_view_module_version": "1.5.0",
            "_view_name": "HBoxView",
            "box_style": "",
            "children": [
              "IPY_MODEL_c23582e838f4447f8558952f0f509e3b",
              "IPY_MODEL_1b568a2759d5479792c37835df6b2968",
              "IPY_MODEL_a2f1a85cbc094ee0a6895e95299bf89e"
            ],
            "layout": "IPY_MODEL_d2ad4f354efa4053aa6663e1c466c081"
          }
        },
        "c23582e838f4447f8558952f0f509e3b": {
          "model_module": "@jupyter-widgets/controls",
          "model_name": "HTMLModel",
          "model_module_version": "1.5.0",
          "state": {
            "_dom_classes": [],
            "_model_module": "@jupyter-widgets/controls",
            "_model_module_version": "1.5.0",
            "_model_name": "HTMLModel",
            "_view_count": null,
            "_view_module": "@jupyter-widgets/controls",
            "_view_module_version": "1.5.0",
            "_view_name": "HTMLView",
            "description": "",
            "description_tooltip": null,
            "layout": "IPY_MODEL_090f80c434b34e7ab285c1555a971d00",
            "placeholder": "​",
            "style": "IPY_MODEL_b06e54fb7d9744e3be69f9cfba424562",
            "value": "Downloading: 100%"
          }
        },
        "1b568a2759d5479792c37835df6b2968": {
          "model_module": "@jupyter-widgets/controls",
          "model_name": "FloatProgressModel",
          "model_module_version": "1.5.0",
          "state": {
            "_dom_classes": [],
            "_model_module": "@jupyter-widgets/controls",
            "_model_module_version": "1.5.0",
            "_model_name": "FloatProgressModel",
            "_view_count": null,
            "_view_module": "@jupyter-widgets/controls",
            "_view_module_version": "1.5.0",
            "_view_name": "ProgressView",
            "bar_style": "success",
            "description": "",
            "description_tooltip": null,
            "layout": "IPY_MODEL_b9dfb037ba0c4fb8b00d6555840ad5f9",
            "max": 239,
            "min": 0,
            "orientation": "horizontal",
            "style": "IPY_MODEL_694cd9e8cb8c4a2691c9b00287778749",
            "value": 239
          }
        },
        "a2f1a85cbc094ee0a6895e95299bf89e": {
          "model_module": "@jupyter-widgets/controls",
          "model_name": "HTMLModel",
          "model_module_version": "1.5.0",
          "state": {
            "_dom_classes": [],
            "_model_module": "@jupyter-widgets/controls",
            "_model_module_version": "1.5.0",
            "_model_name": "HTMLModel",
            "_view_count": null,
            "_view_module": "@jupyter-widgets/controls",
            "_view_module_version": "1.5.0",
            "_view_name": "HTMLView",
            "description": "",
            "description_tooltip": null,
            "layout": "IPY_MODEL_2d83bccc4a7b42a6ab83d31a7dd01820",
            "placeholder": "​",
            "style": "IPY_MODEL_d49748eaf6914463bea4d7eefc94bac6",
            "value": " 239/239 [00:00&lt;00:00, 12.4kB/s]"
          }
        },
        "d2ad4f354efa4053aa6663e1c466c081": {
          "model_module": "@jupyter-widgets/base",
          "model_name": "LayoutModel",
          "model_module_version": "1.2.0",
          "state": {
            "_model_module": "@jupyter-widgets/base",
            "_model_module_version": "1.2.0",
            "_model_name": "LayoutModel",
            "_view_count": null,
            "_view_module": "@jupyter-widgets/base",
            "_view_module_version": "1.2.0",
            "_view_name": "LayoutView",
            "align_content": null,
            "align_items": null,
            "align_self": null,
            "border": null,
            "bottom": null,
            "display": null,
            "flex": null,
            "flex_flow": null,
            "grid_area": null,
            "grid_auto_columns": null,
            "grid_auto_flow": null,
            "grid_auto_rows": null,
            "grid_column": null,
            "grid_gap": null,
            "grid_row": null,
            "grid_template_areas": null,
            "grid_template_columns": null,
            "grid_template_rows": null,
            "height": null,
            "justify_content": null,
            "justify_items": null,
            "left": null,
            "margin": null,
            "max_height": null,
            "max_width": null,
            "min_height": null,
            "min_width": null,
            "object_fit": null,
            "object_position": null,
            "order": null,
            "overflow": null,
            "overflow_x": null,
            "overflow_y": null,
            "padding": null,
            "right": null,
            "top": null,
            "visibility": null,
            "width": null
          }
        },
        "090f80c434b34e7ab285c1555a971d00": {
          "model_module": "@jupyter-widgets/base",
          "model_name": "LayoutModel",
          "model_module_version": "1.2.0",
          "state": {
            "_model_module": "@jupyter-widgets/base",
            "_model_module_version": "1.2.0",
            "_model_name": "LayoutModel",
            "_view_count": null,
            "_view_module": "@jupyter-widgets/base",
            "_view_module_version": "1.2.0",
            "_view_name": "LayoutView",
            "align_content": null,
            "align_items": null,
            "align_self": null,
            "border": null,
            "bottom": null,
            "display": null,
            "flex": null,
            "flex_flow": null,
            "grid_area": null,
            "grid_auto_columns": null,
            "grid_auto_flow": null,
            "grid_auto_rows": null,
            "grid_column": null,
            "grid_gap": null,
            "grid_row": null,
            "grid_template_areas": null,
            "grid_template_columns": null,
            "grid_template_rows": null,
            "height": null,
            "justify_content": null,
            "justify_items": null,
            "left": null,
            "margin": null,
            "max_height": null,
            "max_width": null,
            "min_height": null,
            "min_width": null,
            "object_fit": null,
            "object_position": null,
            "order": null,
            "overflow": null,
            "overflow_x": null,
            "overflow_y": null,
            "padding": null,
            "right": null,
            "top": null,
            "visibility": null,
            "width": null
          }
        },
        "b06e54fb7d9744e3be69f9cfba424562": {
          "model_module": "@jupyter-widgets/controls",
          "model_name": "DescriptionStyleModel",
          "model_module_version": "1.5.0",
          "state": {
            "_model_module": "@jupyter-widgets/controls",
            "_model_module_version": "1.5.0",
            "_model_name": "DescriptionStyleModel",
            "_view_count": null,
            "_view_module": "@jupyter-widgets/base",
            "_view_module_version": "1.2.0",
            "_view_name": "StyleView",
            "description_width": ""
          }
        },
        "b9dfb037ba0c4fb8b00d6555840ad5f9": {
          "model_module": "@jupyter-widgets/base",
          "model_name": "LayoutModel",
          "model_module_version": "1.2.0",
          "state": {
            "_model_module": "@jupyter-widgets/base",
            "_model_module_version": "1.2.0",
            "_model_name": "LayoutModel",
            "_view_count": null,
            "_view_module": "@jupyter-widgets/base",
            "_view_module_version": "1.2.0",
            "_view_name": "LayoutView",
            "align_content": null,
            "align_items": null,
            "align_self": null,
            "border": null,
            "bottom": null,
            "display": null,
            "flex": null,
            "flex_flow": null,
            "grid_area": null,
            "grid_auto_columns": null,
            "grid_auto_flow": null,
            "grid_auto_rows": null,
            "grid_column": null,
            "grid_gap": null,
            "grid_row": null,
            "grid_template_areas": null,
            "grid_template_columns": null,
            "grid_template_rows": null,
            "height": null,
            "justify_content": null,
            "justify_items": null,
            "left": null,
            "margin": null,
            "max_height": null,
            "max_width": null,
            "min_height": null,
            "min_width": null,
            "object_fit": null,
            "object_position": null,
            "order": null,
            "overflow": null,
            "overflow_x": null,
            "overflow_y": null,
            "padding": null,
            "right": null,
            "top": null,
            "visibility": null,
            "width": null
          }
        },
        "694cd9e8cb8c4a2691c9b00287778749": {
          "model_module": "@jupyter-widgets/controls",
          "model_name": "ProgressStyleModel",
          "model_module_version": "1.5.0",
          "state": {
            "_model_module": "@jupyter-widgets/controls",
            "_model_module_version": "1.5.0",
            "_model_name": "ProgressStyleModel",
            "_view_count": null,
            "_view_module": "@jupyter-widgets/base",
            "_view_module_version": "1.2.0",
            "_view_name": "StyleView",
            "bar_color": null,
            "description_width": ""
          }
        },
        "2d83bccc4a7b42a6ab83d31a7dd01820": {
          "model_module": "@jupyter-widgets/base",
          "model_name": "LayoutModel",
          "model_module_version": "1.2.0",
          "state": {
            "_model_module": "@jupyter-widgets/base",
            "_model_module_version": "1.2.0",
            "_model_name": "LayoutModel",
            "_view_count": null,
            "_view_module": "@jupyter-widgets/base",
            "_view_module_version": "1.2.0",
            "_view_name": "LayoutView",
            "align_content": null,
            "align_items": null,
            "align_self": null,
            "border": null,
            "bottom": null,
            "display": null,
            "flex": null,
            "flex_flow": null,
            "grid_area": null,
            "grid_auto_columns": null,
            "grid_auto_flow": null,
            "grid_auto_rows": null,
            "grid_column": null,
            "grid_gap": null,
            "grid_row": null,
            "grid_template_areas": null,
            "grid_template_columns": null,
            "grid_template_rows": null,
            "height": null,
            "justify_content": null,
            "justify_items": null,
            "left": null,
            "margin": null,
            "max_height": null,
            "max_width": null,
            "min_height": null,
            "min_width": null,
            "object_fit": null,
            "object_position": null,
            "order": null,
            "overflow": null,
            "overflow_x": null,
            "overflow_y": null,
            "padding": null,
            "right": null,
            "top": null,
            "visibility": null,
            "width": null
          }
        },
        "d49748eaf6914463bea4d7eefc94bac6": {
          "model_module": "@jupyter-widgets/controls",
          "model_name": "DescriptionStyleModel",
          "model_module_version": "1.5.0",
          "state": {
            "_model_module": "@jupyter-widgets/controls",
            "_model_module_version": "1.5.0",
            "_model_name": "DescriptionStyleModel",
            "_view_count": null,
            "_view_module": "@jupyter-widgets/base",
            "_view_module_version": "1.2.0",
            "_view_name": "StyleView",
            "description_width": ""
          }
        },
        "f1cabbdfec2a4e36a4f148615202a9f5": {
          "model_module": "@jupyter-widgets/controls",
          "model_name": "HBoxModel",
          "model_module_version": "1.5.0",
          "state": {
            "_dom_classes": [],
            "_model_module": "@jupyter-widgets/controls",
            "_model_module_version": "1.5.0",
            "_model_name": "HBoxModel",
            "_view_count": null,
            "_view_module": "@jupyter-widgets/controls",
            "_view_module_version": "1.5.0",
            "_view_name": "HBoxView",
            "box_style": "",
            "children": [
              "IPY_MODEL_b2f3430010e44e31889cac005b107969",
              "IPY_MODEL_adc32e329348476a804600886a7cebf2",
              "IPY_MODEL_0541583624334121981842fe5adc11c7"
            ],
            "layout": "IPY_MODEL_0fb2c7e56c4242cdb836549600a726c9"
          }
        },
        "b2f3430010e44e31889cac005b107969": {
          "model_module": "@jupyter-widgets/controls",
          "model_name": "HTMLModel",
          "model_module_version": "1.5.0",
          "state": {
            "_dom_classes": [],
            "_model_module": "@jupyter-widgets/controls",
            "_model_module_version": "1.5.0",
            "_model_name": "HTMLModel",
            "_view_count": null,
            "_view_module": "@jupyter-widgets/controls",
            "_view_module_version": "1.5.0",
            "_view_name": "HTMLView",
            "description": "",
            "description_tooltip": null,
            "layout": "IPY_MODEL_60279d23b61c4474b21a22603e97200c",
            "placeholder": "​",
            "style": "IPY_MODEL_76ed0e4b0fdd49129411dcbb266784e9",
            "value": "Downloading: 100%"
          }
        },
        "adc32e329348476a804600886a7cebf2": {
          "model_module": "@jupyter-widgets/controls",
          "model_name": "FloatProgressModel",
          "model_module_version": "1.5.0",
          "state": {
            "_dom_classes": [],
            "_model_module": "@jupyter-widgets/controls",
            "_model_module_version": "1.5.0",
            "_model_name": "FloatProgressModel",
            "_view_count": null,
            "_view_module": "@jupyter-widgets/controls",
            "_view_module_version": "1.5.0",
            "_view_name": "ProgressView",
            "bar_style": "success",
            "description": "",
            "description_tooltip": null,
            "layout": "IPY_MODEL_1524e1fac1b3426fa654692fc4e06de3",
            "max": 9081518,
            "min": 0,
            "orientation": "horizontal",
            "style": "IPY_MODEL_6186798f8add4ed7a7d485ec7fba5be3",
            "value": 9081518
          }
        },
        "0541583624334121981842fe5adc11c7": {
          "model_module": "@jupyter-widgets/controls",
          "model_name": "HTMLModel",
          "model_module_version": "1.5.0",
          "state": {
            "_dom_classes": [],
            "_model_module": "@jupyter-widgets/controls",
            "_model_module_version": "1.5.0",
            "_model_name": "HTMLModel",
            "_view_count": null,
            "_view_module": "@jupyter-widgets/controls",
            "_view_module_version": "1.5.0",
            "_view_name": "HTMLView",
            "description": "",
            "description_tooltip": null,
            "layout": "IPY_MODEL_7a69a328c108422bae47e8a46d17e795",
            "placeholder": "​",
            "style": "IPY_MODEL_c3fd183cafd54b059f637ee56057b537",
            "value": " 9.08M/9.08M [00:00&lt;00:00, 35.2MB/s]"
          }
        },
        "0fb2c7e56c4242cdb836549600a726c9": {
          "model_module": "@jupyter-widgets/base",
          "model_name": "LayoutModel",
          "model_module_version": "1.2.0",
          "state": {
            "_model_module": "@jupyter-widgets/base",
            "_model_module_version": "1.2.0",
            "_model_name": "LayoutModel",
            "_view_count": null,
            "_view_module": "@jupyter-widgets/base",
            "_view_module_version": "1.2.0",
            "_view_name": "LayoutView",
            "align_content": null,
            "align_items": null,
            "align_self": null,
            "border": null,
            "bottom": null,
            "display": null,
            "flex": null,
            "flex_flow": null,
            "grid_area": null,
            "grid_auto_columns": null,
            "grid_auto_flow": null,
            "grid_auto_rows": null,
            "grid_column": null,
            "grid_gap": null,
            "grid_row": null,
            "grid_template_areas": null,
            "grid_template_columns": null,
            "grid_template_rows": null,
            "height": null,
            "justify_content": null,
            "justify_items": null,
            "left": null,
            "margin": null,
            "max_height": null,
            "max_width": null,
            "min_height": null,
            "min_width": null,
            "object_fit": null,
            "object_position": null,
            "order": null,
            "overflow": null,
            "overflow_x": null,
            "overflow_y": null,
            "padding": null,
            "right": null,
            "top": null,
            "visibility": null,
            "width": null
          }
        },
        "60279d23b61c4474b21a22603e97200c": {
          "model_module": "@jupyter-widgets/base",
          "model_name": "LayoutModel",
          "model_module_version": "1.2.0",
          "state": {
            "_model_module": "@jupyter-widgets/base",
            "_model_module_version": "1.2.0",
            "_model_name": "LayoutModel",
            "_view_count": null,
            "_view_module": "@jupyter-widgets/base",
            "_view_module_version": "1.2.0",
            "_view_name": "LayoutView",
            "align_content": null,
            "align_items": null,
            "align_self": null,
            "border": null,
            "bottom": null,
            "display": null,
            "flex": null,
            "flex_flow": null,
            "grid_area": null,
            "grid_auto_columns": null,
            "grid_auto_flow": null,
            "grid_auto_rows": null,
            "grid_column": null,
            "grid_gap": null,
            "grid_row": null,
            "grid_template_areas": null,
            "grid_template_columns": null,
            "grid_template_rows": null,
            "height": null,
            "justify_content": null,
            "justify_items": null,
            "left": null,
            "margin": null,
            "max_height": null,
            "max_width": null,
            "min_height": null,
            "min_width": null,
            "object_fit": null,
            "object_position": null,
            "order": null,
            "overflow": null,
            "overflow_x": null,
            "overflow_y": null,
            "padding": null,
            "right": null,
            "top": null,
            "visibility": null,
            "width": null
          }
        },
        "76ed0e4b0fdd49129411dcbb266784e9": {
          "model_module": "@jupyter-widgets/controls",
          "model_name": "DescriptionStyleModel",
          "model_module_version": "1.5.0",
          "state": {
            "_model_module": "@jupyter-widgets/controls",
            "_model_module_version": "1.5.0",
            "_model_name": "DescriptionStyleModel",
            "_view_count": null,
            "_view_module": "@jupyter-widgets/base",
            "_view_module_version": "1.2.0",
            "_view_name": "StyleView",
            "description_width": ""
          }
        },
        "1524e1fac1b3426fa654692fc4e06de3": {
          "model_module": "@jupyter-widgets/base",
          "model_name": "LayoutModel",
          "model_module_version": "1.2.0",
          "state": {
            "_model_module": "@jupyter-widgets/base",
            "_model_module_version": "1.2.0",
            "_model_name": "LayoutModel",
            "_view_count": null,
            "_view_module": "@jupyter-widgets/base",
            "_view_module_version": "1.2.0",
            "_view_name": "LayoutView",
            "align_content": null,
            "align_items": null,
            "align_self": null,
            "border": null,
            "bottom": null,
            "display": null,
            "flex": null,
            "flex_flow": null,
            "grid_area": null,
            "grid_auto_columns": null,
            "grid_auto_flow": null,
            "grid_auto_rows": null,
            "grid_column": null,
            "grid_gap": null,
            "grid_row": null,
            "grid_template_areas": null,
            "grid_template_columns": null,
            "grid_template_rows": null,
            "height": null,
            "justify_content": null,
            "justify_items": null,
            "left": null,
            "margin": null,
            "max_height": null,
            "max_width": null,
            "min_height": null,
            "min_width": null,
            "object_fit": null,
            "object_position": null,
            "order": null,
            "overflow": null,
            "overflow_x": null,
            "overflow_y": null,
            "padding": null,
            "right": null,
            "top": null,
            "visibility": null,
            "width": null
          }
        },
        "6186798f8add4ed7a7d485ec7fba5be3": {
          "model_module": "@jupyter-widgets/controls",
          "model_name": "ProgressStyleModel",
          "model_module_version": "1.5.0",
          "state": {
            "_model_module": "@jupyter-widgets/controls",
            "_model_module_version": "1.5.0",
            "_model_name": "ProgressStyleModel",
            "_view_count": null,
            "_view_module": "@jupyter-widgets/base",
            "_view_module_version": "1.2.0",
            "_view_name": "StyleView",
            "bar_color": null,
            "description_width": ""
          }
        },
        "7a69a328c108422bae47e8a46d17e795": {
          "model_module": "@jupyter-widgets/base",
          "model_name": "LayoutModel",
          "model_module_version": "1.2.0",
          "state": {
            "_model_module": "@jupyter-widgets/base",
            "_model_module_version": "1.2.0",
            "_model_name": "LayoutModel",
            "_view_count": null,
            "_view_module": "@jupyter-widgets/base",
            "_view_module_version": "1.2.0",
            "_view_name": "LayoutView",
            "align_content": null,
            "align_items": null,
            "align_self": null,
            "border": null,
            "bottom": null,
            "display": null,
            "flex": null,
            "flex_flow": null,
            "grid_area": null,
            "grid_auto_columns": null,
            "grid_auto_flow": null,
            "grid_auto_rows": null,
            "grid_column": null,
            "grid_gap": null,
            "grid_row": null,
            "grid_template_areas": null,
            "grid_template_columns": null,
            "grid_template_rows": null,
            "height": null,
            "justify_content": null,
            "justify_items": null,
            "left": null,
            "margin": null,
            "max_height": null,
            "max_width": null,
            "min_height": null,
            "min_width": null,
            "object_fit": null,
            "object_position": null,
            "order": null,
            "overflow": null,
            "overflow_x": null,
            "overflow_y": null,
            "padding": null,
            "right": null,
            "top": null,
            "visibility": null,
            "width": null
          }
        },
        "c3fd183cafd54b059f637ee56057b537": {
          "model_module": "@jupyter-widgets/controls",
          "model_name": "DescriptionStyleModel",
          "model_module_version": "1.5.0",
          "state": {
            "_model_module": "@jupyter-widgets/controls",
            "_model_module_version": "1.5.0",
            "_model_name": "DescriptionStyleModel",
            "_view_count": null,
            "_view_module": "@jupyter-widgets/base",
            "_view_module_version": "1.2.0",
            "_view_name": "StyleView",
            "description_width": ""
          }
        },
        "8080bc3f8f9b42f3aa302853e7f0596a": {
          "model_module": "@jupyter-widgets/controls",
          "model_name": "HBoxModel",
          "model_module_version": "1.5.0",
          "state": {
            "_dom_classes": [],
            "_model_module": "@jupyter-widgets/controls",
            "_model_module_version": "1.5.0",
            "_model_name": "HBoxModel",
            "_view_count": null,
            "_view_module": "@jupyter-widgets/controls",
            "_view_module_version": "1.5.0",
            "_view_name": "HBoxView",
            "box_style": "",
            "children": [
              "IPY_MODEL_bcaf8f2c8abe4fdc8538ba11893c95ac",
              "IPY_MODEL_b9088b2b4baf4a5181cf0c179c61d6a6",
              "IPY_MODEL_88b2682a7dd24e3da321aacb85dd29af"
            ],
            "layout": "IPY_MODEL_2671d2aa3c624534a2dcdce256a1992e"
          }
        },
        "bcaf8f2c8abe4fdc8538ba11893c95ac": {
          "model_module": "@jupyter-widgets/controls",
          "model_name": "HTMLModel",
          "model_module_version": "1.5.0",
          "state": {
            "_dom_classes": [],
            "_model_module": "@jupyter-widgets/controls",
            "_model_module_version": "1.5.0",
            "_model_name": "HTMLModel",
            "_view_count": null,
            "_view_module": "@jupyter-widgets/controls",
            "_view_module_version": "1.5.0",
            "_view_name": "HTMLView",
            "description": "",
            "description_tooltip": null,
            "layout": "IPY_MODEL_21c5b44745c441119798d915032a8db6",
            "placeholder": "​",
            "style": "IPY_MODEL_e3e3eea8670f46a9a2c16f19831fb2d6",
            "value": "Downloading: 100%"
          }
        },
        "b9088b2b4baf4a5181cf0c179c61d6a6": {
          "model_module": "@jupyter-widgets/controls",
          "model_name": "FloatProgressModel",
          "model_module_version": "1.5.0",
          "state": {
            "_dom_classes": [],
            "_model_module": "@jupyter-widgets/controls",
            "_model_module_version": "1.5.0",
            "_model_name": "FloatProgressModel",
            "_view_count": null,
            "_view_module": "@jupyter-widgets/controls",
            "_view_module_version": "1.5.0",
            "_view_name": "ProgressView",
            "bar_style": "success",
            "description": "",
            "description_tooltip": null,
            "layout": "IPY_MODEL_45c3139bcd1848e38c08012ed1b5d1b1",
            "max": 480,
            "min": 0,
            "orientation": "horizontal",
            "style": "IPY_MODEL_0d627f5949fb492ab581d048419218ad",
            "value": 480
          }
        },
        "88b2682a7dd24e3da321aacb85dd29af": {
          "model_module": "@jupyter-widgets/controls",
          "model_name": "HTMLModel",
          "model_module_version": "1.5.0",
          "state": {
            "_dom_classes": [],
            "_model_module": "@jupyter-widgets/controls",
            "_model_module_version": "1.5.0",
            "_model_name": "HTMLModel",
            "_view_count": null,
            "_view_module": "@jupyter-widgets/controls",
            "_view_module_version": "1.5.0",
            "_view_name": "HTMLView",
            "description": "",
            "description_tooltip": null,
            "layout": "IPY_MODEL_7969362bd95f4dbdbf8f5c8e782072e9",
            "placeholder": "​",
            "style": "IPY_MODEL_5cf268a2cb974574951d0750c09ea413",
            "value": " 480/480 [00:00&lt;00:00, 23.3kB/s]"
          }
        },
        "2671d2aa3c624534a2dcdce256a1992e": {
          "model_module": "@jupyter-widgets/base",
          "model_name": "LayoutModel",
          "model_module_version": "1.2.0",
          "state": {
            "_model_module": "@jupyter-widgets/base",
            "_model_module_version": "1.2.0",
            "_model_name": "LayoutModel",
            "_view_count": null,
            "_view_module": "@jupyter-widgets/base",
            "_view_module_version": "1.2.0",
            "_view_name": "LayoutView",
            "align_content": null,
            "align_items": null,
            "align_self": null,
            "border": null,
            "bottom": null,
            "display": null,
            "flex": null,
            "flex_flow": null,
            "grid_area": null,
            "grid_auto_columns": null,
            "grid_auto_flow": null,
            "grid_auto_rows": null,
            "grid_column": null,
            "grid_gap": null,
            "grid_row": null,
            "grid_template_areas": null,
            "grid_template_columns": null,
            "grid_template_rows": null,
            "height": null,
            "justify_content": null,
            "justify_items": null,
            "left": null,
            "margin": null,
            "max_height": null,
            "max_width": null,
            "min_height": null,
            "min_width": null,
            "object_fit": null,
            "object_position": null,
            "order": null,
            "overflow": null,
            "overflow_x": null,
            "overflow_y": null,
            "padding": null,
            "right": null,
            "top": null,
            "visibility": null,
            "width": null
          }
        },
        "21c5b44745c441119798d915032a8db6": {
          "model_module": "@jupyter-widgets/base",
          "model_name": "LayoutModel",
          "model_module_version": "1.2.0",
          "state": {
            "_model_module": "@jupyter-widgets/base",
            "_model_module_version": "1.2.0",
            "_model_name": "LayoutModel",
            "_view_count": null,
            "_view_module": "@jupyter-widgets/base",
            "_view_module_version": "1.2.0",
            "_view_name": "LayoutView",
            "align_content": null,
            "align_items": null,
            "align_self": null,
            "border": null,
            "bottom": null,
            "display": null,
            "flex": null,
            "flex_flow": null,
            "grid_area": null,
            "grid_auto_columns": null,
            "grid_auto_flow": null,
            "grid_auto_rows": null,
            "grid_column": null,
            "grid_gap": null,
            "grid_row": null,
            "grid_template_areas": null,
            "grid_template_columns": null,
            "grid_template_rows": null,
            "height": null,
            "justify_content": null,
            "justify_items": null,
            "left": null,
            "margin": null,
            "max_height": null,
            "max_width": null,
            "min_height": null,
            "min_width": null,
            "object_fit": null,
            "object_position": null,
            "order": null,
            "overflow": null,
            "overflow_x": null,
            "overflow_y": null,
            "padding": null,
            "right": null,
            "top": null,
            "visibility": null,
            "width": null
          }
        },
        "e3e3eea8670f46a9a2c16f19831fb2d6": {
          "model_module": "@jupyter-widgets/controls",
          "model_name": "DescriptionStyleModel",
          "model_module_version": "1.5.0",
          "state": {
            "_model_module": "@jupyter-widgets/controls",
            "_model_module_version": "1.5.0",
            "_model_name": "DescriptionStyleModel",
            "_view_count": null,
            "_view_module": "@jupyter-widgets/base",
            "_view_module_version": "1.2.0",
            "_view_name": "StyleView",
            "description_width": ""
          }
        },
        "45c3139bcd1848e38c08012ed1b5d1b1": {
          "model_module": "@jupyter-widgets/base",
          "model_name": "LayoutModel",
          "model_module_version": "1.2.0",
          "state": {
            "_model_module": "@jupyter-widgets/base",
            "_model_module_version": "1.2.0",
            "_model_name": "LayoutModel",
            "_view_count": null,
            "_view_module": "@jupyter-widgets/base",
            "_view_module_version": "1.2.0",
            "_view_name": "LayoutView",
            "align_content": null,
            "align_items": null,
            "align_self": null,
            "border": null,
            "bottom": null,
            "display": null,
            "flex": null,
            "flex_flow": null,
            "grid_area": null,
            "grid_auto_columns": null,
            "grid_auto_flow": null,
            "grid_auto_rows": null,
            "grid_column": null,
            "grid_gap": null,
            "grid_row": null,
            "grid_template_areas": null,
            "grid_template_columns": null,
            "grid_template_rows": null,
            "height": null,
            "justify_content": null,
            "justify_items": null,
            "left": null,
            "margin": null,
            "max_height": null,
            "max_width": null,
            "min_height": null,
            "min_width": null,
            "object_fit": null,
            "object_position": null,
            "order": null,
            "overflow": null,
            "overflow_x": null,
            "overflow_y": null,
            "padding": null,
            "right": null,
            "top": null,
            "visibility": null,
            "width": null
          }
        },
        "0d627f5949fb492ab581d048419218ad": {
          "model_module": "@jupyter-widgets/controls",
          "model_name": "ProgressStyleModel",
          "model_module_version": "1.5.0",
          "state": {
            "_model_module": "@jupyter-widgets/controls",
            "_model_module_version": "1.5.0",
            "_model_name": "ProgressStyleModel",
            "_view_count": null,
            "_view_module": "@jupyter-widgets/base",
            "_view_module_version": "1.2.0",
            "_view_name": "StyleView",
            "bar_color": null,
            "description_width": ""
          }
        },
        "7969362bd95f4dbdbf8f5c8e782072e9": {
          "model_module": "@jupyter-widgets/base",
          "model_name": "LayoutModel",
          "model_module_version": "1.2.0",
          "state": {
            "_model_module": "@jupyter-widgets/base",
            "_model_module_version": "1.2.0",
            "_model_name": "LayoutModel",
            "_view_count": null,
            "_view_module": "@jupyter-widgets/base",
            "_view_module_version": "1.2.0",
            "_view_name": "LayoutView",
            "align_content": null,
            "align_items": null,
            "align_self": null,
            "border": null,
            "bottom": null,
            "display": null,
            "flex": null,
            "flex_flow": null,
            "grid_area": null,
            "grid_auto_columns": null,
            "grid_auto_flow": null,
            "grid_auto_rows": null,
            "grid_column": null,
            "grid_gap": null,
            "grid_row": null,
            "grid_template_areas": null,
            "grid_template_columns": null,
            "grid_template_rows": null,
            "height": null,
            "justify_content": null,
            "justify_items": null,
            "left": null,
            "margin": null,
            "max_height": null,
            "max_width": null,
            "min_height": null,
            "min_width": null,
            "object_fit": null,
            "object_position": null,
            "order": null,
            "overflow": null,
            "overflow_x": null,
            "overflow_y": null,
            "padding": null,
            "right": null,
            "top": null,
            "visibility": null,
            "width": null
          }
        },
        "5cf268a2cb974574951d0750c09ea413": {
          "model_module": "@jupyter-widgets/controls",
          "model_name": "DescriptionStyleModel",
          "model_module_version": "1.5.0",
          "state": {
            "_model_module": "@jupyter-widgets/controls",
            "_model_module_version": "1.5.0",
            "_model_name": "DescriptionStyleModel",
            "_view_count": null,
            "_view_module": "@jupyter-widgets/base",
            "_view_module_version": "1.2.0",
            "_view_name": "StyleView",
            "description_width": ""
          }
        },
        "db01a044b7454d268ec905a6bdc460a4": {
          "model_module": "@jupyter-widgets/controls",
          "model_name": "HBoxModel",
          "model_module_version": "1.5.0",
          "state": {
            "_dom_classes": [],
            "_model_module": "@jupyter-widgets/controls",
            "_model_module_version": "1.5.0",
            "_model_name": "HBoxModel",
            "_view_count": null,
            "_view_module": "@jupyter-widgets/controls",
            "_view_module_version": "1.5.0",
            "_view_name": "HBoxView",
            "box_style": "",
            "children": [
              "IPY_MODEL_dda7b90549f14862a85f5b9c1decfc0b",
              "IPY_MODEL_adf4a7b3304f4f8d9ee864c9acd3b385",
              "IPY_MODEL_d90b4a5dd1e147559c365e4509d682ba"
            ],
            "layout": "IPY_MODEL_38b9e0fcb7224cb19209caf36a1303f8"
          }
        },
        "dda7b90549f14862a85f5b9c1decfc0b": {
          "model_module": "@jupyter-widgets/controls",
          "model_name": "HTMLModel",
          "model_module_version": "1.5.0",
          "state": {
            "_dom_classes": [],
            "_model_module": "@jupyter-widgets/controls",
            "_model_module_version": "1.5.0",
            "_model_name": "HTMLModel",
            "_view_count": null,
            "_view_module": "@jupyter-widgets/controls",
            "_view_module_version": "1.5.0",
            "_view_name": "HTMLView",
            "description": "",
            "description_tooltip": null,
            "layout": "IPY_MODEL_c1751aa577c54bd6b6268b2ef84f5859",
            "placeholder": "​",
            "style": "IPY_MODEL_52ba2c666080424c809b072e98513571",
            "value": "Downloading: 100%"
          }
        },
        "adf4a7b3304f4f8d9ee864c9acd3b385": {
          "model_module": "@jupyter-widgets/controls",
          "model_name": "FloatProgressModel",
          "model_module_version": "1.5.0",
          "state": {
            "_dom_classes": [],
            "_model_module": "@jupyter-widgets/controls",
            "_model_module_version": "1.5.0",
            "_model_name": "FloatProgressModel",
            "_view_count": null,
            "_view_module": "@jupyter-widgets/controls",
            "_view_module_version": "1.5.0",
            "_view_name": "ProgressView",
            "bar_style": "success",
            "description": "",
            "description_tooltip": null,
            "layout": "IPY_MODEL_803022249eaf419b9f6817bef78684a6",
            "max": 14763234,
            "min": 0,
            "orientation": "horizontal",
            "style": "IPY_MODEL_52cefdbbb5a544dc8eb50c14e2e6dd1c",
            "value": 14763234
          }
        },
        "d90b4a5dd1e147559c365e4509d682ba": {
          "model_module": "@jupyter-widgets/controls",
          "model_name": "HTMLModel",
          "model_module_version": "1.5.0",
          "state": {
            "_dom_classes": [],
            "_model_module": "@jupyter-widgets/controls",
            "_model_module_version": "1.5.0",
            "_model_name": "HTMLModel",
            "_view_count": null,
            "_view_module": "@jupyter-widgets/controls",
            "_view_module_version": "1.5.0",
            "_view_name": "HTMLView",
            "description": "",
            "description_tooltip": null,
            "layout": "IPY_MODEL_8db726cd670541838a9930fab04317fa",
            "placeholder": "​",
            "style": "IPY_MODEL_7039262dc3f747fb8b3a04fbcd3e30b3",
            "value": " 14.8M/14.8M [00:00&lt;00:00, 56.4MB/s]"
          }
        },
        "38b9e0fcb7224cb19209caf36a1303f8": {
          "model_module": "@jupyter-widgets/base",
          "model_name": "LayoutModel",
          "model_module_version": "1.2.0",
          "state": {
            "_model_module": "@jupyter-widgets/base",
            "_model_module_version": "1.2.0",
            "_model_name": "LayoutModel",
            "_view_count": null,
            "_view_module": "@jupyter-widgets/base",
            "_view_module_version": "1.2.0",
            "_view_name": "LayoutView",
            "align_content": null,
            "align_items": null,
            "align_self": null,
            "border": null,
            "bottom": null,
            "display": null,
            "flex": null,
            "flex_flow": null,
            "grid_area": null,
            "grid_auto_columns": null,
            "grid_auto_flow": null,
            "grid_auto_rows": null,
            "grid_column": null,
            "grid_gap": null,
            "grid_row": null,
            "grid_template_areas": null,
            "grid_template_columns": null,
            "grid_template_rows": null,
            "height": null,
            "justify_content": null,
            "justify_items": null,
            "left": null,
            "margin": null,
            "max_height": null,
            "max_width": null,
            "min_height": null,
            "min_width": null,
            "object_fit": null,
            "object_position": null,
            "order": null,
            "overflow": null,
            "overflow_x": null,
            "overflow_y": null,
            "padding": null,
            "right": null,
            "top": null,
            "visibility": null,
            "width": null
          }
        },
        "c1751aa577c54bd6b6268b2ef84f5859": {
          "model_module": "@jupyter-widgets/base",
          "model_name": "LayoutModel",
          "model_module_version": "1.2.0",
          "state": {
            "_model_module": "@jupyter-widgets/base",
            "_model_module_version": "1.2.0",
            "_model_name": "LayoutModel",
            "_view_count": null,
            "_view_module": "@jupyter-widgets/base",
            "_view_module_version": "1.2.0",
            "_view_name": "LayoutView",
            "align_content": null,
            "align_items": null,
            "align_self": null,
            "border": null,
            "bottom": null,
            "display": null,
            "flex": null,
            "flex_flow": null,
            "grid_area": null,
            "grid_auto_columns": null,
            "grid_auto_flow": null,
            "grid_auto_rows": null,
            "grid_column": null,
            "grid_gap": null,
            "grid_row": null,
            "grid_template_areas": null,
            "grid_template_columns": null,
            "grid_template_rows": null,
            "height": null,
            "justify_content": null,
            "justify_items": null,
            "left": null,
            "margin": null,
            "max_height": null,
            "max_width": null,
            "min_height": null,
            "min_width": null,
            "object_fit": null,
            "object_position": null,
            "order": null,
            "overflow": null,
            "overflow_x": null,
            "overflow_y": null,
            "padding": null,
            "right": null,
            "top": null,
            "visibility": null,
            "width": null
          }
        },
        "52ba2c666080424c809b072e98513571": {
          "model_module": "@jupyter-widgets/controls",
          "model_name": "DescriptionStyleModel",
          "model_module_version": "1.5.0",
          "state": {
            "_model_module": "@jupyter-widgets/controls",
            "_model_module_version": "1.5.0",
            "_model_name": "DescriptionStyleModel",
            "_view_count": null,
            "_view_module": "@jupyter-widgets/base",
            "_view_module_version": "1.2.0",
            "_view_name": "StyleView",
            "description_width": ""
          }
        },
        "803022249eaf419b9f6817bef78684a6": {
          "model_module": "@jupyter-widgets/base",
          "model_name": "LayoutModel",
          "model_module_version": "1.2.0",
          "state": {
            "_model_module": "@jupyter-widgets/base",
            "_model_module_version": "1.2.0",
            "_model_name": "LayoutModel",
            "_view_count": null,
            "_view_module": "@jupyter-widgets/base",
            "_view_module_version": "1.2.0",
            "_view_name": "LayoutView",
            "align_content": null,
            "align_items": null,
            "align_self": null,
            "border": null,
            "bottom": null,
            "display": null,
            "flex": null,
            "flex_flow": null,
            "grid_area": null,
            "grid_auto_columns": null,
            "grid_auto_flow": null,
            "grid_auto_rows": null,
            "grid_column": null,
            "grid_gap": null,
            "grid_row": null,
            "grid_template_areas": null,
            "grid_template_columns": null,
            "grid_template_rows": null,
            "height": null,
            "justify_content": null,
            "justify_items": null,
            "left": null,
            "margin": null,
            "max_height": null,
            "max_width": null,
            "min_height": null,
            "min_width": null,
            "object_fit": null,
            "object_position": null,
            "order": null,
            "overflow": null,
            "overflow_x": null,
            "overflow_y": null,
            "padding": null,
            "right": null,
            "top": null,
            "visibility": null,
            "width": null
          }
        },
        "52cefdbbb5a544dc8eb50c14e2e6dd1c": {
          "model_module": "@jupyter-widgets/controls",
          "model_name": "ProgressStyleModel",
          "model_module_version": "1.5.0",
          "state": {
            "_model_module": "@jupyter-widgets/controls",
            "_model_module_version": "1.5.0",
            "_model_name": "ProgressStyleModel",
            "_view_count": null,
            "_view_module": "@jupyter-widgets/base",
            "_view_module_version": "1.2.0",
            "_view_name": "StyleView",
            "bar_color": null,
            "description_width": ""
          }
        },
        "8db726cd670541838a9930fab04317fa": {
          "model_module": "@jupyter-widgets/base",
          "model_name": "LayoutModel",
          "model_module_version": "1.2.0",
          "state": {
            "_model_module": "@jupyter-widgets/base",
            "_model_module_version": "1.2.0",
            "_model_name": "LayoutModel",
            "_view_count": null,
            "_view_module": "@jupyter-widgets/base",
            "_view_module_version": "1.2.0",
            "_view_name": "LayoutView",
            "align_content": null,
            "align_items": null,
            "align_self": null,
            "border": null,
            "bottom": null,
            "display": null,
            "flex": null,
            "flex_flow": null,
            "grid_area": null,
            "grid_auto_columns": null,
            "grid_auto_flow": null,
            "grid_auto_rows": null,
            "grid_column": null,
            "grid_gap": null,
            "grid_row": null,
            "grid_template_areas": null,
            "grid_template_columns": null,
            "grid_template_rows": null,
            "height": null,
            "justify_content": null,
            "justify_items": null,
            "left": null,
            "margin": null,
            "max_height": null,
            "max_width": null,
            "min_height": null,
            "min_width": null,
            "object_fit": null,
            "object_position": null,
            "order": null,
            "overflow": null,
            "overflow_x": null,
            "overflow_y": null,
            "padding": null,
            "right": null,
            "top": null,
            "visibility": null,
            "width": null
          }
        },
        "7039262dc3f747fb8b3a04fbcd3e30b3": {
          "model_module": "@jupyter-widgets/controls",
          "model_name": "DescriptionStyleModel",
          "model_module_version": "1.5.0",
          "state": {
            "_model_module": "@jupyter-widgets/controls",
            "_model_module_version": "1.5.0",
            "_model_name": "DescriptionStyleModel",
            "_view_count": null,
            "_view_module": "@jupyter-widgets/base",
            "_view_module_version": "1.2.0",
            "_view_name": "StyleView",
            "description_width": ""
          }
        },
        "674f4099d88b4e1981bbfe4fe360a0d5": {
          "model_module": "@jupyter-widgets/controls",
          "model_name": "HBoxModel",
          "model_module_version": "1.5.0",
          "state": {
            "_dom_classes": [],
            "_model_module": "@jupyter-widgets/controls",
            "_model_module_version": "1.5.0",
            "_model_name": "HBoxModel",
            "_view_count": null,
            "_view_module": "@jupyter-widgets/controls",
            "_view_module_version": "1.5.0",
            "_view_name": "HBoxView",
            "box_style": "",
            "children": [
              "IPY_MODEL_107d73396d00440c808caea3d839b458",
              "IPY_MODEL_b193ac43f2c34ec5bd7e02f678ee378f",
              "IPY_MODEL_0715320e91ea4bf291e5599c30ae6312"
            ],
            "layout": "IPY_MODEL_29068719eaa645f0a50c2fa6065868d0"
          }
        },
        "107d73396d00440c808caea3d839b458": {
          "model_module": "@jupyter-widgets/controls",
          "model_name": "HTMLModel",
          "model_module_version": "1.5.0",
          "state": {
            "_dom_classes": [],
            "_model_module": "@jupyter-widgets/controls",
            "_model_module_version": "1.5.0",
            "_model_name": "HTMLModel",
            "_view_count": null,
            "_view_module": "@jupyter-widgets/controls",
            "_view_module_version": "1.5.0",
            "_view_name": "HTMLView",
            "description": "",
            "description_tooltip": null,
            "layout": "IPY_MODEL_12470f9738ec4af0bfad118c0440a21e",
            "placeholder": "​",
            "style": "IPY_MODEL_11bc26b1cb644d96995e95bd735bbc68",
            "value": "Downloading: 100%"
          }
        },
        "b193ac43f2c34ec5bd7e02f678ee378f": {
          "model_module": "@jupyter-widgets/controls",
          "model_name": "FloatProgressModel",
          "model_module_version": "1.5.0",
          "state": {
            "_dom_classes": [],
            "_model_module": "@jupyter-widgets/controls",
            "_model_module_version": "1.5.0",
            "_model_name": "FloatProgressModel",
            "_view_count": null,
            "_view_module": "@jupyter-widgets/controls",
            "_view_module_version": "1.5.0",
            "_view_name": "ProgressView",
            "bar_style": "success",
            "description": "",
            "description_tooltip": null,
            "layout": "IPY_MODEL_c3379240a3554e6996dc585f96c6cd45",
            "max": 229,
            "min": 0,
            "orientation": "horizontal",
            "style": "IPY_MODEL_f59335c1ed6b43c489220bcf33e07403",
            "value": 229
          }
        },
        "0715320e91ea4bf291e5599c30ae6312": {
          "model_module": "@jupyter-widgets/controls",
          "model_name": "HTMLModel",
          "model_module_version": "1.5.0",
          "state": {
            "_dom_classes": [],
            "_model_module": "@jupyter-widgets/controls",
            "_model_module_version": "1.5.0",
            "_model_name": "HTMLModel",
            "_view_count": null,
            "_view_module": "@jupyter-widgets/controls",
            "_view_module_version": "1.5.0",
            "_view_name": "HTMLView",
            "description": "",
            "description_tooltip": null,
            "layout": "IPY_MODEL_dee2174feba04be39cc515f552d0690b",
            "placeholder": "​",
            "style": "IPY_MODEL_3aa1ef9db17c4d02a304cc08a085c953",
            "value": " 229/229 [00:00&lt;00:00, 10.5kB/s]"
          }
        },
        "29068719eaa645f0a50c2fa6065868d0": {
          "model_module": "@jupyter-widgets/base",
          "model_name": "LayoutModel",
          "model_module_version": "1.2.0",
          "state": {
            "_model_module": "@jupyter-widgets/base",
            "_model_module_version": "1.2.0",
            "_model_name": "LayoutModel",
            "_view_count": null,
            "_view_module": "@jupyter-widgets/base",
            "_view_module_version": "1.2.0",
            "_view_name": "LayoutView",
            "align_content": null,
            "align_items": null,
            "align_self": null,
            "border": null,
            "bottom": null,
            "display": null,
            "flex": null,
            "flex_flow": null,
            "grid_area": null,
            "grid_auto_columns": null,
            "grid_auto_flow": null,
            "grid_auto_rows": null,
            "grid_column": null,
            "grid_gap": null,
            "grid_row": null,
            "grid_template_areas": null,
            "grid_template_columns": null,
            "grid_template_rows": null,
            "height": null,
            "justify_content": null,
            "justify_items": null,
            "left": null,
            "margin": null,
            "max_height": null,
            "max_width": null,
            "min_height": null,
            "min_width": null,
            "object_fit": null,
            "object_position": null,
            "order": null,
            "overflow": null,
            "overflow_x": null,
            "overflow_y": null,
            "padding": null,
            "right": null,
            "top": null,
            "visibility": null,
            "width": null
          }
        },
        "12470f9738ec4af0bfad118c0440a21e": {
          "model_module": "@jupyter-widgets/base",
          "model_name": "LayoutModel",
          "model_module_version": "1.2.0",
          "state": {
            "_model_module": "@jupyter-widgets/base",
            "_model_module_version": "1.2.0",
            "_model_name": "LayoutModel",
            "_view_count": null,
            "_view_module": "@jupyter-widgets/base",
            "_view_module_version": "1.2.0",
            "_view_name": "LayoutView",
            "align_content": null,
            "align_items": null,
            "align_self": null,
            "border": null,
            "bottom": null,
            "display": null,
            "flex": null,
            "flex_flow": null,
            "grid_area": null,
            "grid_auto_columns": null,
            "grid_auto_flow": null,
            "grid_auto_rows": null,
            "grid_column": null,
            "grid_gap": null,
            "grid_row": null,
            "grid_template_areas": null,
            "grid_template_columns": null,
            "grid_template_rows": null,
            "height": null,
            "justify_content": null,
            "justify_items": null,
            "left": null,
            "margin": null,
            "max_height": null,
            "max_width": null,
            "min_height": null,
            "min_width": null,
            "object_fit": null,
            "object_position": null,
            "order": null,
            "overflow": null,
            "overflow_x": null,
            "overflow_y": null,
            "padding": null,
            "right": null,
            "top": null,
            "visibility": null,
            "width": null
          }
        },
        "11bc26b1cb644d96995e95bd735bbc68": {
          "model_module": "@jupyter-widgets/controls",
          "model_name": "DescriptionStyleModel",
          "model_module_version": "1.5.0",
          "state": {
            "_model_module": "@jupyter-widgets/controls",
            "_model_module_version": "1.5.0",
            "_model_name": "DescriptionStyleModel",
            "_view_count": null,
            "_view_module": "@jupyter-widgets/base",
            "_view_module_version": "1.2.0",
            "_view_name": "StyleView",
            "description_width": ""
          }
        },
        "c3379240a3554e6996dc585f96c6cd45": {
          "model_module": "@jupyter-widgets/base",
          "model_name": "LayoutModel",
          "model_module_version": "1.2.0",
          "state": {
            "_model_module": "@jupyter-widgets/base",
            "_model_module_version": "1.2.0",
            "_model_name": "LayoutModel",
            "_view_count": null,
            "_view_module": "@jupyter-widgets/base",
            "_view_module_version": "1.2.0",
            "_view_name": "LayoutView",
            "align_content": null,
            "align_items": null,
            "align_self": null,
            "border": null,
            "bottom": null,
            "display": null,
            "flex": null,
            "flex_flow": null,
            "grid_area": null,
            "grid_auto_columns": null,
            "grid_auto_flow": null,
            "grid_auto_rows": null,
            "grid_column": null,
            "grid_gap": null,
            "grid_row": null,
            "grid_template_areas": null,
            "grid_template_columns": null,
            "grid_template_rows": null,
            "height": null,
            "justify_content": null,
            "justify_items": null,
            "left": null,
            "margin": null,
            "max_height": null,
            "max_width": null,
            "min_height": null,
            "min_width": null,
            "object_fit": null,
            "object_position": null,
            "order": null,
            "overflow": null,
            "overflow_x": null,
            "overflow_y": null,
            "padding": null,
            "right": null,
            "top": null,
            "visibility": null,
            "width": null
          }
        },
        "f59335c1ed6b43c489220bcf33e07403": {
          "model_module": "@jupyter-widgets/controls",
          "model_name": "ProgressStyleModel",
          "model_module_version": "1.5.0",
          "state": {
            "_model_module": "@jupyter-widgets/controls",
            "_model_module_version": "1.5.0",
            "_model_name": "ProgressStyleModel",
            "_view_count": null,
            "_view_module": "@jupyter-widgets/base",
            "_view_module_version": "1.2.0",
            "_view_name": "StyleView",
            "bar_color": null,
            "description_width": ""
          }
        },
        "dee2174feba04be39cc515f552d0690b": {
          "model_module": "@jupyter-widgets/base",
          "model_name": "LayoutModel",
          "model_module_version": "1.2.0",
          "state": {
            "_model_module": "@jupyter-widgets/base",
            "_model_module_version": "1.2.0",
            "_model_name": "LayoutModel",
            "_view_count": null,
            "_view_module": "@jupyter-widgets/base",
            "_view_module_version": "1.2.0",
            "_view_name": "LayoutView",
            "align_content": null,
            "align_items": null,
            "align_self": null,
            "border": null,
            "bottom": null,
            "display": null,
            "flex": null,
            "flex_flow": null,
            "grid_area": null,
            "grid_auto_columns": null,
            "grid_auto_flow": null,
            "grid_auto_rows": null,
            "grid_column": null,
            "grid_gap": null,
            "grid_row": null,
            "grid_template_areas": null,
            "grid_template_columns": null,
            "grid_template_rows": null,
            "height": null,
            "justify_content": null,
            "justify_items": null,
            "left": null,
            "margin": null,
            "max_height": null,
            "max_width": null,
            "min_height": null,
            "min_width": null,
            "object_fit": null,
            "object_position": null,
            "order": null,
            "overflow": null,
            "overflow_x": null,
            "overflow_y": null,
            "padding": null,
            "right": null,
            "top": null,
            "visibility": null,
            "width": null
          }
        },
        "3aa1ef9db17c4d02a304cc08a085c953": {
          "model_module": "@jupyter-widgets/controls",
          "model_name": "DescriptionStyleModel",
          "model_module_version": "1.5.0",
          "state": {
            "_model_module": "@jupyter-widgets/controls",
            "_model_module_version": "1.5.0",
            "_model_name": "DescriptionStyleModel",
            "_view_count": null,
            "_view_module": "@jupyter-widgets/base",
            "_view_module_version": "1.2.0",
            "_view_name": "StyleView",
            "description_width": ""
          }
        },
        "4c792e516e354c6fb54b64b6152c12e4": {
          "model_module": "@jupyter-widgets/controls",
          "model_name": "HBoxModel",
          "model_module_version": "1.5.0",
          "state": {
            "_dom_classes": [],
            "_model_module": "@jupyter-widgets/controls",
            "_model_module_version": "1.5.0",
            "_model_name": "HBoxModel",
            "_view_count": null,
            "_view_module": "@jupyter-widgets/controls",
            "_view_module_version": "1.5.0",
            "_view_name": "HBoxView",
            "box_style": "",
            "children": [
              "IPY_MODEL_bff4c3190fc34358adc04243b06e52be",
              "IPY_MODEL_fdf0be7c41f141d194a95aeb32bb0134",
              "IPY_MODEL_621f2038d75c497b82cbd365142f2ed7"
            ],
            "layout": "IPY_MODEL_404d67b4d82e4378b8b891897d8ba235"
          }
        },
        "bff4c3190fc34358adc04243b06e52be": {
          "model_module": "@jupyter-widgets/controls",
          "model_name": "HTMLModel",
          "model_module_version": "1.5.0",
          "state": {
            "_dom_classes": [],
            "_model_module": "@jupyter-widgets/controls",
            "_model_module_version": "1.5.0",
            "_model_name": "HTMLModel",
            "_view_count": null,
            "_view_module": "@jupyter-widgets/controls",
            "_view_module_version": "1.5.0",
            "_view_name": "HTMLView",
            "description": "",
            "description_tooltip": null,
            "layout": "IPY_MODEL_1cd3a1eaee93407daeeb72e32ce7def7",
            "placeholder": "​",
            "style": "IPY_MODEL_1720f52f231640af8f5147a91d11632f",
            "value": "Batches: 100%"
          }
        },
        "fdf0be7c41f141d194a95aeb32bb0134": {
          "model_module": "@jupyter-widgets/controls",
          "model_name": "FloatProgressModel",
          "model_module_version": "1.5.0",
          "state": {
            "_dom_classes": [],
            "_model_module": "@jupyter-widgets/controls",
            "_model_module_version": "1.5.0",
            "_model_name": "FloatProgressModel",
            "_view_count": null,
            "_view_module": "@jupyter-widgets/controls",
            "_view_module_version": "1.5.0",
            "_view_name": "ProgressView",
            "bar_style": "success",
            "description": "",
            "description_tooltip": null,
            "layout": "IPY_MODEL_0e72d03e694241c5a211fd4394d9c255",
            "max": 329,
            "min": 0,
            "orientation": "horizontal",
            "style": "IPY_MODEL_d20f1ec566db4f47b156d7741fc40ec1",
            "value": 329
          }
        },
        "621f2038d75c497b82cbd365142f2ed7": {
          "model_module": "@jupyter-widgets/controls",
          "model_name": "HTMLModel",
          "model_module_version": "1.5.0",
          "state": {
            "_dom_classes": [],
            "_model_module": "@jupyter-widgets/controls",
            "_model_module_version": "1.5.0",
            "_model_name": "HTMLModel",
            "_view_count": null,
            "_view_module": "@jupyter-widgets/controls",
            "_view_module_version": "1.5.0",
            "_view_name": "HTMLView",
            "description": "",
            "description_tooltip": null,
            "layout": "IPY_MODEL_bd25ba21d5db45d3888ca2844d76f42f",
            "placeholder": "​",
            "style": "IPY_MODEL_c47fd4b4f1ef4727b1284cdb0deb2fc1",
            "value": " 329/329 [00:16&lt;00:00, 66.11it/s]"
          }
        },
        "404d67b4d82e4378b8b891897d8ba235": {
          "model_module": "@jupyter-widgets/base",
          "model_name": "LayoutModel",
          "model_module_version": "1.2.0",
          "state": {
            "_model_module": "@jupyter-widgets/base",
            "_model_module_version": "1.2.0",
            "_model_name": "LayoutModel",
            "_view_count": null,
            "_view_module": "@jupyter-widgets/base",
            "_view_module_version": "1.2.0",
            "_view_name": "LayoutView",
            "align_content": null,
            "align_items": null,
            "align_self": null,
            "border": null,
            "bottom": null,
            "display": null,
            "flex": null,
            "flex_flow": null,
            "grid_area": null,
            "grid_auto_columns": null,
            "grid_auto_flow": null,
            "grid_auto_rows": null,
            "grid_column": null,
            "grid_gap": null,
            "grid_row": null,
            "grid_template_areas": null,
            "grid_template_columns": null,
            "grid_template_rows": null,
            "height": null,
            "justify_content": null,
            "justify_items": null,
            "left": null,
            "margin": null,
            "max_height": null,
            "max_width": null,
            "min_height": null,
            "min_width": null,
            "object_fit": null,
            "object_position": null,
            "order": null,
            "overflow": null,
            "overflow_x": null,
            "overflow_y": null,
            "padding": null,
            "right": null,
            "top": null,
            "visibility": null,
            "width": null
          }
        },
        "1cd3a1eaee93407daeeb72e32ce7def7": {
          "model_module": "@jupyter-widgets/base",
          "model_name": "LayoutModel",
          "model_module_version": "1.2.0",
          "state": {
            "_model_module": "@jupyter-widgets/base",
            "_model_module_version": "1.2.0",
            "_model_name": "LayoutModel",
            "_view_count": null,
            "_view_module": "@jupyter-widgets/base",
            "_view_module_version": "1.2.0",
            "_view_name": "LayoutView",
            "align_content": null,
            "align_items": null,
            "align_self": null,
            "border": null,
            "bottom": null,
            "display": null,
            "flex": null,
            "flex_flow": null,
            "grid_area": null,
            "grid_auto_columns": null,
            "grid_auto_flow": null,
            "grid_auto_rows": null,
            "grid_column": null,
            "grid_gap": null,
            "grid_row": null,
            "grid_template_areas": null,
            "grid_template_columns": null,
            "grid_template_rows": null,
            "height": null,
            "justify_content": null,
            "justify_items": null,
            "left": null,
            "margin": null,
            "max_height": null,
            "max_width": null,
            "min_height": null,
            "min_width": null,
            "object_fit": null,
            "object_position": null,
            "order": null,
            "overflow": null,
            "overflow_x": null,
            "overflow_y": null,
            "padding": null,
            "right": null,
            "top": null,
            "visibility": null,
            "width": null
          }
        },
        "1720f52f231640af8f5147a91d11632f": {
          "model_module": "@jupyter-widgets/controls",
          "model_name": "DescriptionStyleModel",
          "model_module_version": "1.5.0",
          "state": {
            "_model_module": "@jupyter-widgets/controls",
            "_model_module_version": "1.5.0",
            "_model_name": "DescriptionStyleModel",
            "_view_count": null,
            "_view_module": "@jupyter-widgets/base",
            "_view_module_version": "1.2.0",
            "_view_name": "StyleView",
            "description_width": ""
          }
        },
        "0e72d03e694241c5a211fd4394d9c255": {
          "model_module": "@jupyter-widgets/base",
          "model_name": "LayoutModel",
          "model_module_version": "1.2.0",
          "state": {
            "_model_module": "@jupyter-widgets/base",
            "_model_module_version": "1.2.0",
            "_model_name": "LayoutModel",
            "_view_count": null,
            "_view_module": "@jupyter-widgets/base",
            "_view_module_version": "1.2.0",
            "_view_name": "LayoutView",
            "align_content": null,
            "align_items": null,
            "align_self": null,
            "border": null,
            "bottom": null,
            "display": null,
            "flex": null,
            "flex_flow": null,
            "grid_area": null,
            "grid_auto_columns": null,
            "grid_auto_flow": null,
            "grid_auto_rows": null,
            "grid_column": null,
            "grid_gap": null,
            "grid_row": null,
            "grid_template_areas": null,
            "grid_template_columns": null,
            "grid_template_rows": null,
            "height": null,
            "justify_content": null,
            "justify_items": null,
            "left": null,
            "margin": null,
            "max_height": null,
            "max_width": null,
            "min_height": null,
            "min_width": null,
            "object_fit": null,
            "object_position": null,
            "order": null,
            "overflow": null,
            "overflow_x": null,
            "overflow_y": null,
            "padding": null,
            "right": null,
            "top": null,
            "visibility": null,
            "width": null
          }
        },
        "d20f1ec566db4f47b156d7741fc40ec1": {
          "model_module": "@jupyter-widgets/controls",
          "model_name": "ProgressStyleModel",
          "model_module_version": "1.5.0",
          "state": {
            "_model_module": "@jupyter-widgets/controls",
            "_model_module_version": "1.5.0",
            "_model_name": "ProgressStyleModel",
            "_view_count": null,
            "_view_module": "@jupyter-widgets/base",
            "_view_module_version": "1.2.0",
            "_view_name": "StyleView",
            "bar_color": null,
            "description_width": ""
          }
        },
        "bd25ba21d5db45d3888ca2844d76f42f": {
          "model_module": "@jupyter-widgets/base",
          "model_name": "LayoutModel",
          "model_module_version": "1.2.0",
          "state": {
            "_model_module": "@jupyter-widgets/base",
            "_model_module_version": "1.2.0",
            "_model_name": "LayoutModel",
            "_view_count": null,
            "_view_module": "@jupyter-widgets/base",
            "_view_module_version": "1.2.0",
            "_view_name": "LayoutView",
            "align_content": null,
            "align_items": null,
            "align_self": null,
            "border": null,
            "bottom": null,
            "display": null,
            "flex": null,
            "flex_flow": null,
            "grid_area": null,
            "grid_auto_columns": null,
            "grid_auto_flow": null,
            "grid_auto_rows": null,
            "grid_column": null,
            "grid_gap": null,
            "grid_row": null,
            "grid_template_areas": null,
            "grid_template_columns": null,
            "grid_template_rows": null,
            "height": null,
            "justify_content": null,
            "justify_items": null,
            "left": null,
            "margin": null,
            "max_height": null,
            "max_width": null,
            "min_height": null,
            "min_width": null,
            "object_fit": null,
            "object_position": null,
            "order": null,
            "overflow": null,
            "overflow_x": null,
            "overflow_y": null,
            "padding": null,
            "right": null,
            "top": null,
            "visibility": null,
            "width": null
          }
        },
        "c47fd4b4f1ef4727b1284cdb0deb2fc1": {
          "model_module": "@jupyter-widgets/controls",
          "model_name": "DescriptionStyleModel",
          "model_module_version": "1.5.0",
          "state": {
            "_model_module": "@jupyter-widgets/controls",
            "_model_module_version": "1.5.0",
            "_model_name": "DescriptionStyleModel",
            "_view_count": null,
            "_view_module": "@jupyter-widgets/base",
            "_view_module_version": "1.2.0",
            "_view_name": "StyleView",
            "description_width": ""
          }
        }
      }
    },
    "accelerator": "GPU"
  },
  "cells": [
    {
      "cell_type": "markdown",
      "metadata": {
        "id": "view-in-github",
        "colab_type": "text"
      },
      "source": [
        "<a href=\"https://colab.research.google.com/github/punkmic/Topic-Modeling-Reclame-Aqui/blob/master/Topic_Modeling_with_BERTopic_Reclame_aqui.ipynb\" target=\"_parent\"><img src=\"https://colab.research.google.com/assets/colab-badge.svg\" alt=\"Open In Colab\"/></a>"
      ]
    },
    {
      "cell_type": "markdown",
      "source": [
        "# **Topic Modeling with BERTopic - Reclame Aqui**\n",
        "\n",
        "BERTopic is a topic modeling technique that leverages transformers and a custom class-based TF-IDF to create dense clusters allowing for easily interpretable topics whilst keeping important words in the topic descriptions \n",
        "\n",
        "Reference: (https://maartengr.github.io/BERTopic/index.html)."
      ],
      "metadata": {
        "id": "VG5Z-hvZ9GIZ"
      }
    },
    {
      "cell_type": "markdown",
      "source": [
        "### **Enabling the GPU**\n",
        "\n",
        "We will use the GPU provided by COLAB to accelarate our model training. To enable GPUs for the notebook:\n",
        "1- Navigate to Edit -> Notebook Settings\n",
        "2- Select GPU from the Hardware Accelerator drop-down"
      ],
      "metadata": {
        "id": "W_0vnbvROpuu"
      }
    },
    {
      "cell_type": "code",
      "source": [
        "# verify if GPU is enable\n",
        "gpu_info = !nvidia-smi\n",
        "gpu_info = '\\n'.join(gpu_info)\n",
        "if gpu_info.find('failed') >= 0:\n",
        "  print('Not connected to a GPU')\n",
        "else:\n",
        "  print(gpu_info)"
      ],
      "metadata": {
        "id": "gj08UQrDOqW2",
        "colab": {
          "base_uri": "https://localhost:8080/"
        },
        "outputId": "ad575a5e-8f86-4fc8-d2a9-88e03e715220"
      },
      "execution_count": 3,
      "outputs": [
        {
          "output_type": "stream",
          "name": "stdout",
          "text": [
            "Thu Jan  5 20:00:29 2023       \n",
            "+-----------------------------------------------------------------------------+\n",
            "| NVIDIA-SMI 460.32.03    Driver Version: 460.32.03    CUDA Version: 11.2     |\n",
            "|-------------------------------+----------------------+----------------------+\n",
            "| GPU  Name        Persistence-M| Bus-Id        Disp.A | Volatile Uncorr. ECC |\n",
            "| Fan  Temp  Perf  Pwr:Usage/Cap|         Memory-Usage | GPU-Util  Compute M. |\n",
            "|                               |                      |               MIG M. |\n",
            "|===============================+======================+======================|\n",
            "|   0  Tesla T4            Off  | 00000000:00:04.0 Off |                    0 |\n",
            "| N/A   59C    P0    29W /  70W |      0MiB / 15109MiB |      0%      Default |\n",
            "|                               |                      |                  N/A |\n",
            "+-------------------------------+----------------------+----------------------+\n",
            "                                                                               \n",
            "+-----------------------------------------------------------------------------+\n",
            "| Processes:                                                                  |\n",
            "|  GPU   GI   CI        PID   Type   Process name                  GPU Memory |\n",
            "|        ID   ID                                                   Usage      |\n",
            "|=============================================================================|\n",
            "|  No running processes found                                                 |\n",
            "+-----------------------------------------------------------------------------+\n"
          ]
        }
      ]
    },
    {
      "cell_type": "markdown",
      "source": [
        "### **Setup**"
      ],
      "metadata": {
        "id": "eXD8VBix7DD1"
      }
    },
    {
      "cell_type": "code",
      "source": [
        "%%capture\n",
        "!pip install pyspellchecker\n",
        "!pip install bertopic\n",
        "!pip install kaleido # for save BERTopic plots as image"
      ],
      "metadata": {
        "id": "csLlF-UUb2il"
      },
      "execution_count": 4,
      "outputs": []
    },
    {
      "cell_type": "code",
      "execution_count": 5,
      "metadata": {
        "id": "CQ0hDdDm6gtj"
      },
      "outputs": [],
      "source": [
        "import pandas as pd # for data manipulation\n",
        "import os # for interacting with the operating system\n",
        "import nltk # for natural language processing\n",
        "import string # for string manipulation\n",
        "import re # for for regular expressions\n",
        "import matplotlib.pyplot as plt # for visualization\n",
        "import spacy # for lemmatize portuguese text\n",
        "from bertopic import BERTopic # for topic modeling\n",
        "from spellchecker import SpellChecker # for spell check"
      ]
    },
    {
      "cell_type": "code",
      "source": [
        "# Install spacy pt_core_news_sm for portuguese text\n",
        "!python -m spacy download pt_core_news_sm"
      ],
      "metadata": {
        "id": "dafLrQKmvlGD",
        "colab": {
          "base_uri": "https://localhost:8080/"
        },
        "outputId": "ced897a7-7226-49b4-9bce-f2d46df9ced5"
      },
      "execution_count": 6,
      "outputs": [
        {
          "output_type": "stream",
          "name": "stdout",
          "text": [
            "Looking in indexes: https://pypi.org/simple, https://us-python.pkg.dev/colab-wheels/public/simple/\n",
            "Collecting pt-core-news-sm==3.4.0\n",
            "  Downloading https://github.com/explosion/spacy-models/releases/download/pt_core_news_sm-3.4.0/pt_core_news_sm-3.4.0-py3-none-any.whl (13.0 MB)\n",
            "\u001b[2K     \u001b[90m━━━━━━━━━━━━━━━━━━━━━━━━━━━━━━━━━━━━━━━━\u001b[0m \u001b[32m13.0/13.0 MB\u001b[0m \u001b[31m20.2 MB/s\u001b[0m eta \u001b[36m0:00:00\u001b[0m\n",
            "\u001b[?25hRequirement already satisfied: spacy<3.5.0,>=3.4.0 in /usr/local/lib/python3.8/dist-packages (from pt-core-news-sm==3.4.0) (3.4.4)\n",
            "Requirement already satisfied: cymem<2.1.0,>=2.0.2 in /usr/local/lib/python3.8/dist-packages (from spacy<3.5.0,>=3.4.0->pt-core-news-sm==3.4.0) (2.0.7)\n",
            "Requirement already satisfied: smart-open<7.0.0,>=5.2.1 in /usr/local/lib/python3.8/dist-packages (from spacy<3.5.0,>=3.4.0->pt-core-news-sm==3.4.0) (6.3.0)\n",
            "Requirement already satisfied: wasabi<1.1.0,>=0.9.1 in /usr/local/lib/python3.8/dist-packages (from spacy<3.5.0,>=3.4.0->pt-core-news-sm==3.4.0) (0.10.1)\n",
            "Requirement already satisfied: thinc<8.2.0,>=8.1.0 in /usr/local/lib/python3.8/dist-packages (from spacy<3.5.0,>=3.4.0->pt-core-news-sm==3.4.0) (8.1.6)\n",
            "Requirement already satisfied: pathy>=0.3.5 in /usr/local/lib/python3.8/dist-packages (from spacy<3.5.0,>=3.4.0->pt-core-news-sm==3.4.0) (0.10.1)\n",
            "Requirement already satisfied: tqdm<5.0.0,>=4.38.0 in /usr/local/lib/python3.8/dist-packages (from spacy<3.5.0,>=3.4.0->pt-core-news-sm==3.4.0) (4.64.1)\n",
            "Requirement already satisfied: spacy-legacy<3.1.0,>=3.0.10 in /usr/local/lib/python3.8/dist-packages (from spacy<3.5.0,>=3.4.0->pt-core-news-sm==3.4.0) (3.0.10)\n",
            "Requirement already satisfied: langcodes<4.0.0,>=3.2.0 in /usr/local/lib/python3.8/dist-packages (from spacy<3.5.0,>=3.4.0->pt-core-news-sm==3.4.0) (3.3.0)\n",
            "Requirement already satisfied: murmurhash<1.1.0,>=0.28.0 in /usr/local/lib/python3.8/dist-packages (from spacy<3.5.0,>=3.4.0->pt-core-news-sm==3.4.0) (1.0.9)\n",
            "Requirement already satisfied: typer<0.8.0,>=0.3.0 in /usr/local/lib/python3.8/dist-packages (from spacy<3.5.0,>=3.4.0->pt-core-news-sm==3.4.0) (0.7.0)\n",
            "Requirement already satisfied: jinja2 in /usr/local/lib/python3.8/dist-packages (from spacy<3.5.0,>=3.4.0->pt-core-news-sm==3.4.0) (2.11.3)\n",
            "Requirement already satisfied: catalogue<2.1.0,>=2.0.6 in /usr/local/lib/python3.8/dist-packages (from spacy<3.5.0,>=3.4.0->pt-core-news-sm==3.4.0) (2.0.8)\n",
            "Requirement already satisfied: requests<3.0.0,>=2.13.0 in /usr/local/lib/python3.8/dist-packages (from spacy<3.5.0,>=3.4.0->pt-core-news-sm==3.4.0) (2.25.1)\n",
            "Requirement already satisfied: srsly<3.0.0,>=2.4.3 in /usr/local/lib/python3.8/dist-packages (from spacy<3.5.0,>=3.4.0->pt-core-news-sm==3.4.0) (2.4.5)\n",
            "Requirement already satisfied: numpy>=1.15.0 in /usr/local/lib/python3.8/dist-packages (from spacy<3.5.0,>=3.4.0->pt-core-news-sm==3.4.0) (1.21.6)\n",
            "Requirement already satisfied: packaging>=20.0 in /usr/local/lib/python3.8/dist-packages (from spacy<3.5.0,>=3.4.0->pt-core-news-sm==3.4.0) (21.3)\n",
            "Requirement already satisfied: pydantic!=1.8,!=1.8.1,<1.11.0,>=1.7.4 in /usr/local/lib/python3.8/dist-packages (from spacy<3.5.0,>=3.4.0->pt-core-news-sm==3.4.0) (1.10.2)\n",
            "Requirement already satisfied: preshed<3.1.0,>=3.0.2 in /usr/local/lib/python3.8/dist-packages (from spacy<3.5.0,>=3.4.0->pt-core-news-sm==3.4.0) (3.0.8)\n",
            "Requirement already satisfied: setuptools in /usr/local/lib/python3.8/dist-packages (from spacy<3.5.0,>=3.4.0->pt-core-news-sm==3.4.0) (57.4.0)\n",
            "Requirement already satisfied: spacy-loggers<2.0.0,>=1.0.0 in /usr/local/lib/python3.8/dist-packages (from spacy<3.5.0,>=3.4.0->pt-core-news-sm==3.4.0) (1.0.4)\n",
            "Requirement already satisfied: pyparsing!=3.0.5,>=2.0.2 in /usr/local/lib/python3.8/dist-packages (from packaging>=20.0->spacy<3.5.0,>=3.4.0->pt-core-news-sm==3.4.0) (3.0.9)\n",
            "Requirement already satisfied: typing-extensions>=4.1.0 in /usr/local/lib/python3.8/dist-packages (from pydantic!=1.8,!=1.8.1,<1.11.0,>=1.7.4->spacy<3.5.0,>=3.4.0->pt-core-news-sm==3.4.0) (4.4.0)\n",
            "Requirement already satisfied: chardet<5,>=3.0.2 in /usr/local/lib/python3.8/dist-packages (from requests<3.0.0,>=2.13.0->spacy<3.5.0,>=3.4.0->pt-core-news-sm==3.4.0) (4.0.0)\n",
            "Requirement already satisfied: certifi>=2017.4.17 in /usr/local/lib/python3.8/dist-packages (from requests<3.0.0,>=2.13.0->spacy<3.5.0,>=3.4.0->pt-core-news-sm==3.4.0) (2022.12.7)\n",
            "Requirement already satisfied: idna<3,>=2.5 in /usr/local/lib/python3.8/dist-packages (from requests<3.0.0,>=2.13.0->spacy<3.5.0,>=3.4.0->pt-core-news-sm==3.4.0) (2.10)\n",
            "Requirement already satisfied: urllib3<1.27,>=1.21.1 in /usr/local/lib/python3.8/dist-packages (from requests<3.0.0,>=2.13.0->spacy<3.5.0,>=3.4.0->pt-core-news-sm==3.4.0) (1.24.3)\n",
            "Requirement already satisfied: blis<0.8.0,>=0.7.8 in /usr/local/lib/python3.8/dist-packages (from thinc<8.2.0,>=8.1.0->spacy<3.5.0,>=3.4.0->pt-core-news-sm==3.4.0) (0.7.9)\n",
            "Requirement already satisfied: confection<1.0.0,>=0.0.1 in /usr/local/lib/python3.8/dist-packages (from thinc<8.2.0,>=8.1.0->spacy<3.5.0,>=3.4.0->pt-core-news-sm==3.4.0) (0.0.3)\n",
            "Requirement already satisfied: click<9.0.0,>=7.1.1 in /usr/local/lib/python3.8/dist-packages (from typer<0.8.0,>=0.3.0->spacy<3.5.0,>=3.4.0->pt-core-news-sm==3.4.0) (7.1.2)\n",
            "Requirement already satisfied: MarkupSafe>=0.23 in /usr/local/lib/python3.8/dist-packages (from jinja2->spacy<3.5.0,>=3.4.0->pt-core-news-sm==3.4.0) (2.0.1)\n",
            "Installing collected packages: pt-core-news-sm\n",
            "Successfully installed pt-core-news-sm-3.4.0\n",
            "\u001b[38;5;2m✔ Download and installation successful\u001b[0m\n",
            "You can now load the package via spacy.load('pt_core_news_sm')\n"
          ]
        }
      ]
    },
    {
      "cell_type": "code",
      "source": [
        "nltk.download(\"punkt\")"
      ],
      "metadata": {
        "id": "BvRCi7Cvp0G6",
        "colab": {
          "base_uri": "https://localhost:8080/"
        },
        "outputId": "5b48fa93-db01-4b0d-8611-d4286119d77f"
      },
      "execution_count": 7,
      "outputs": [
        {
          "output_type": "stream",
          "name": "stderr",
          "text": [
            "[nltk_data] Downloading package punkt to /root/nltk_data...\n",
            "[nltk_data]   Unzipping tokenizers/punkt.zip.\n"
          ]
        },
        {
          "output_type": "execute_result",
          "data": {
            "text/plain": [
              "True"
            ]
          },
          "metadata": {},
          "execution_count": 7
        }
      ]
    },
    {
      "cell_type": "code",
      "source": [
        "# Download dataset with stopwords\n",
        "nltk.download(\"stopwords\")"
      ],
      "metadata": {
        "id": "JAvaPg5ep3Df",
        "colab": {
          "base_uri": "https://localhost:8080/"
        },
        "outputId": "9e6461b3-a65a-4dea-cf63-edbed4fd6026"
      },
      "execution_count": 8,
      "outputs": [
        {
          "output_type": "stream",
          "name": "stderr",
          "text": [
            "[nltk_data] Downloading package stopwords to /root/nltk_data...\n",
            "[nltk_data]   Unzipping corpora/stopwords.zip.\n"
          ]
        },
        {
          "output_type": "execute_result",
          "data": {
            "text/plain": [
              "True"
            ]
          },
          "metadata": {},
          "execution_count": 8
        }
      ]
    },
    {
      "cell_type": "code",
      "source": [
        "# Donwload datasets for lemmatization\n",
        "nltk.download('wordnet')\n",
        "nltk.download('omw-1.4')"
      ],
      "metadata": {
        "id": "97RrmPshvcmu",
        "colab": {
          "base_uri": "https://localhost:8080/"
        },
        "outputId": "a377883f-4d4d-44c4-afd8-63987ecce4eb"
      },
      "execution_count": 9,
      "outputs": [
        {
          "output_type": "stream",
          "name": "stderr",
          "text": [
            "[nltk_data] Downloading package wordnet to /root/nltk_data...\n",
            "[nltk_data] Downloading package omw-1.4 to /root/nltk_data...\n"
          ]
        },
        {
          "output_type": "execute_result",
          "data": {
            "text/plain": [
              "True"
            ]
          },
          "metadata": {},
          "execution_count": 9
        }
      ]
    },
    {
      "cell_type": "code",
      "source": [
        "# Donwload dependency need to stem portuguese text\n",
        "nltk.download('rslp')"
      ],
      "metadata": {
        "id": "qn9OrF3EXCNv",
        "colab": {
          "base_uri": "https://localhost:8080/"
        },
        "outputId": "cbca6ef9-370a-49bd-ebf0-c8f63df0cd7b"
      },
      "execution_count": 10,
      "outputs": [
        {
          "output_type": "stream",
          "name": "stderr",
          "text": [
            "[nltk_data] Downloading package rslp to /root/nltk_data...\n",
            "[nltk_data]   Unzipping stemmers/rslp.zip.\n"
          ]
        },
        {
          "output_type": "execute_result",
          "data": {
            "text/plain": [
              "True"
            ]
          },
          "metadata": {},
          "execution_count": 10
        }
      ]
    },
    {
      "cell_type": "markdown",
      "source": [
        "### **Load data from [Github](https://github.com/punkmic/Topic-Modeling-Reclame-Aqui.git)**"
      ],
      "metadata": {
        "id": "EGjKdT4C8RVD"
      }
    },
    {
      "cell_type": "code",
      "source": [
        "!git clone https://github.com/punkmic/Topic-Modeling-Reclame-Aqui.git"
      ],
      "metadata": {
        "id": "C_yss1JC-8Ou",
        "outputId": "69589662-55e1-4af9-b096-411e46bbf023",
        "colab": {
          "base_uri": "https://localhost:8080/"
        }
      },
      "execution_count": 11,
      "outputs": [
        {
          "output_type": "stream",
          "name": "stdout",
          "text": [
            "Cloning into 'Topic-Modeling-Reclame-Aqui'...\n",
            "remote: Enumerating objects: 16250, done.\u001b[K\n",
            "remote: Counting objects: 100% (2069/2069), done.\u001b[K\n",
            "remote: Compressing objects: 100% (1806/1806), done.\u001b[K\n",
            "remote: Total 16250 (delta 285), reused 1945 (delta 232), pack-reused 14181\u001b[K\n",
            "Receiving objects: 100% (16250/16250), 119.05 MiB | 16.31 MiB/s, done.\n",
            "Resolving deltas: 100% (1433/1433), done.\n",
            "Checking out files: 100% (14806/14806), done.\n"
          ]
        }
      ]
    },
    {
      "cell_type": "code",
      "source": [
        "# Change directory\n",
        "%cd /content/Topic-Modeling-Reclame-Aqui \n",
        "\n",
        "# Update files from remote repository\n",
        "!git pull \n",
        "\n",
        "# Return to work directory\n",
        "%cd ..\n",
        "\n",
        "# Check current directory\n",
        "!pwd"
      ],
      "metadata": {
        "id": "uv3QBnDRHFPv",
        "outputId": "5fe54ae0-5a63-45fe-9043-80a1023a7c69",
        "colab": {
          "base_uri": "https://localhost:8080/"
        }
      },
      "execution_count": 12,
      "outputs": [
        {
          "output_type": "stream",
          "name": "stdout",
          "text": [
            "/content/Topic-Modeling-Reclame-Aqui\n",
            "Already up to date.\n",
            "/content\n",
            "/content\n"
          ]
        }
      ]
    },
    {
      "cell_type": "code",
      "source": [
        "def read_data(path_csv, drop_duplicates = True, lower=True):\n",
        " \n",
        "  # Use the read_csv method to read csv file\n",
        "  df = pd.read_csv(path_csv)\n",
        "  \n",
        "  if drop_duplicates:\n",
        "    # Read and return the CSV file using the read_csv method\n",
        "    print(f\"Shape before remove duplicates: {df.shape}\")\n",
        "\n",
        "    # Use the drop_duplicated method to drop duplicates rows\n",
        "    df = df.drop_duplicates(subset=\"text\")\n",
        "\n",
        "    print(f\"Shape after remove duplicates: {df.shape}\")\n",
        "\n",
        "    if lower:\n",
        "      # apply the str.lower() method to each element in the dataframe\n",
        "      df = df.applymap(str.lower)\n",
        "    \n",
        "     # join columns\n",
        "    df.columns = [\"title\", \"documents\"] \n",
        "\n",
        "    # Use the replace() method to replace the string with an empty string\n",
        "    df = df.replace(re.compile('\\[editado pelo reclame aqui\\]|editado pelo reclame aqui|Editado pelo Reclame Aqui'), '')\n",
        "    df = df.replace(re.compile('\\[casas bahia\\]|Casa Bahia|Casas Bahia|casa bahia'), '')\n",
        "    df = df.replace(re.compile('\\[magazine luiza\\]|Magazine luiza|Magazine Luiza| Magazine luizar|Magazine Luizar'), '')\n",
        "    df = df.replace(re.compile('\\[mercado livre\\]|Mercado Livre|Mercado livre'), '')\n",
        "    df = df.replace(re.compile('\\[americana\\]|Ameriacanas|ameriacanas'), '')\n",
        "\n",
        "    # Drop the old index column\n",
        "    df.reset_index(inplace = True, drop = True)\n",
        "  return df"
      ],
      "metadata": {
        "id": "F3IoOKARBwVb"
      },
      "execution_count": 13,
      "outputs": []
    },
    {
      "cell_type": "markdown",
      "source": [
        "### **Preprocessing**"
      ],
      "metadata": {
        "id": "drjuwA5yk4YB"
      }
    },
    {
      "cell_type": "markdown",
      "source": [
        "#### **Tokenization**\n",
        "\n",
        "Tokenization aims to breaking text down into its component parts"
      ],
      "metadata": {
        "id": "i9ukWCy8qBOP"
      }
    },
    {
      "cell_type": "code",
      "source": [
        "WORD_TOKENIZER = nltk.tokenize.word_tokenize\n",
        "def tokenize(text):\n",
        "  tokens = [token.strip().lower() for token in WORD_TOKENIZER(text, language=\"portuguese\")]\n",
        "  pattern = r\"\\b\\w+\\s+\\w+\\b\"\n",
        "  filtered_words = [word for word in tokens if re.search(pattern, word)]\n",
        "  return [token for token in tokens if token not in filtered_words]"
      ],
      "metadata": {
        "id": "k_f8hsxJk7v4"
      },
      "execution_count": 14,
      "outputs": []
    },
    {
      "cell_type": "markdown",
      "source": [
        "#### **Stem** \n",
        "\n",
        "Stem the tokens. This step aims to remove morphological affixes and normalize to standardized stem forms"
      ],
      "metadata": {
        "id": "Lm7V--yMq98r"
      }
    },
    {
      "cell_type": "code",
      "source": [
        "STEMMER = nltk.stem.RSLPStemmer()\n",
        "def stem(tokens):\n",
        "  return [STEMMER.stem(token) for token in tokens]"
      ],
      "metadata": {
        "id": "TphgFQIxrPMM"
      },
      "execution_count": 15,
      "outputs": []
    },
    {
      "cell_type": "markdown",
      "source": [
        "#### **Lemmatize**\n",
        "\n",
        "Lemmatize the tokens. Retains more natural forms than stemming, but assumes all tokens nons unless tokens are passed as (word, pos) tuples. Note: nltk lemmatize does not suport portugues language"
      ],
      "metadata": {
        "id": "RTiUcqzrrdiX"
      }
    },
    {
      "cell_type": "code",
      "source": [
        "LEMMATIZER = nltk.WordNetLemmatizer()\n",
        "\n",
        "def lemmatize(tokens):\n",
        "  lemmas = []\n",
        "  for token in tokens:\n",
        "      if isinstance(token, str):\n",
        "          # treats token like a noun\n",
        "          lemmas.append(LEMMATIZER.lemmatize(token)) \n",
        "      else: \n",
        "          # assume a tuple of (word, pos)\n",
        "          lemmas.append(LEMMATIZER.lemmatize(*token))\n",
        "  return lemmas"
      ],
      "metadata": {
        "id": "4O48ihphrxy3"
      },
      "execution_count": 16,
      "outputs": []
    },
    {
      "cell_type": "markdown",
      "source": [
        "**Lemmatize option for portuguese text**"
      ],
      "metadata": {
        "id": "eHdBPARlU24i"
      }
    },
    {
      "cell_type": "code",
      "source": [
        "# load portuguese model\n",
        "nlp = spacy.load('pt_core_news_sm')\n",
        "\n",
        "def lemmatize_pt(tokens):\n",
        "\n",
        "  # Create a spaCy Doc object and apply the lemmatization\n",
        "  doc = nlp(' '.join(tokens))\n",
        "\n",
        "  # Return lemmatize\n",
        "  return [token.lemma_ for token in doc]"
      ],
      "metadata": {
        "id": "pfgdVUHVU6Zy"
      },
      "execution_count": 17,
      "outputs": []
    },
    {
      "cell_type": "markdown",
      "source": [
        "#### **Remove stopwords**\n",
        "\n",
        "Stop words are things like articles and conjunctions that usually do not offer a lot of value in an analysis."
      ],
      "metadata": {
        "id": "jkLYqJgDs4Xd"
      }
    },
    {
      "cell_type": "code",
      "source": [
        "def remove_stopwords(tokens, stopwords=None, custom_stop_words = None):\n",
        "\n",
        "  if custom_stop_words is None:\n",
        "    custom_stop_words = ['amazon', 'americanas', 'casas bahia', 'magazine luiza', 'shein', 'kabum',\n",
        "                       'samsung', 'mercado livre', 'banco brasil', 'apple', 'eletrolux', 'magazine', 'luiza', 'luizar',\n",
        "                      'casas', 'bahia', 'casa', 'mercado', 'livre']\n",
        "\n",
        "  # Use the default stop words if none is passed\n",
        "  if stopwords is None:\n",
        "    stopwords = nltk.corpus.stopwords.words('portuguese') + custom_stop_words\n",
        "  \n",
        "  # Filter the list of tokens to exclude the stop word tokens\n",
        "  return [token for token in tokens if token not in stopwords]"
      ],
      "metadata": {
        "id": "D9blZaBYtHgj"
      },
      "execution_count": 18,
      "outputs": []
    },
    {
      "cell_type": "code",
      "source": [
        "custom_stop_words = ['amazon', 'americanas', 'casas bahia', 'magazine luiza', 'shein', 'kabum',\n",
        "                       'samsung', 'mercado livre', 'banco brasil', 'apple', 'eletrolux', 'magazine', 'luiza', 'luizar',\n",
        "                      'casas', 'bahia', 'casa', 'mercado', 'livre']\n",
        "assert remove_stopwords(['compra', 'echar', 'em esse', 'amazon', 'pude'], custom_stop_words=custom_stop_words) == ['compra', 'echar', 'em esse', 'pude']"
      ],
      "metadata": {
        "id": "-E4DqCin2HDc"
      },
      "execution_count": 19,
      "outputs": []
    },
    {
      "cell_type": "markdown",
      "source": [
        "#### **Remove hyperlinks**\n",
        "\n",
        "Removes http/s links from the tokens."
      ],
      "metadata": {
        "id": "X4qMKyfKtaAW"
      }
    },
    {
      "cell_type": "code",
      "source": [
        "def remove_links(tokens):\n",
        "  # Filter tokens that starts with \"http://\" or \"https://\"\n",
        "  return [token for token in tokens \n",
        "          if not token.startswith(\"http://\")\n",
        "          and not token.startswith(\"https://\")]"
      ],
      "metadata": {
        "id": "LqlMta5qtovS"
      },
      "execution_count": 20,
      "outputs": []
    },
    {
      "cell_type": "code",
      "source": [
        "assert remove_links(['bom', 'http://online', 'https://offline']) == ['bom']"
      ],
      "metadata": {
        "id": "vxvsG7s_6wkd"
      },
      "execution_count": 21,
      "outputs": []
    },
    {
      "cell_type": "markdown",
      "source": [
        "#### **Remove numbers**"
      ],
      "metadata": {
        "id": "EwKFluprz-pW"
      }
    },
    {
      "cell_type": "code",
      "source": [
        "def remove_numbers(tokens):\n",
        "  # Use a regular expression to match words that contain numbers\n",
        "  pattern = r\"\\b\\w*\\d\\w*\\b\"\n",
        "  tokens = [token for token in tokens if not re.sub(pattern, \"\", token) == \"\"]\n",
        "  \n",
        "  # Filter out number tokens using a list comprehension and the isnumeric method\n",
        "  return [token for token in tokens if not token.isnumeric()]"
      ],
      "metadata": {
        "id": "ALKnXv8C0EWu"
      },
      "execution_count": 22,
      "outputs": []
    },
    {
      "cell_type": "code",
      "source": [
        "assert remove_numbers(['ola', 'bicicleta', '1', '2002']) == ['ola', 'bicicleta']"
      ],
      "metadata": {
        "id": "32uzYfBG3cv2"
      },
      "execution_count": 23,
      "outputs": []
    },
    {
      "cell_type": "markdown",
      "source": [
        "#### **Remove date**"
      ],
      "metadata": {
        "id": "a0pZKAQ7ZJHL"
      }
    },
    {
      "cell_type": "code",
      "source": [
        "def remove_date(tokens):\n",
        "  # Compile a regular expression to match dates in the format dd/mm or dd/mm/yyyy\n",
        "  date_regex = re.compile(r'\\d{2}/\\d{2}(/\\d{4})?')\n",
        "\n",
        "  # Use the regex to find all the tokens that match the date pattern\n",
        "  dates = [token for token in tokens if date_regex.fullmatch(token)]\n",
        "\n",
        "  # Filter the list of tokens to exclude the date tokens\n",
        "  filtered_tokens = [token for token in tokens if token not in dates]\n",
        "\n",
        "  # Return the filtered tokens\n",
        "  return filtered_tokens"
      ],
      "metadata": {
        "id": "ywykIjKZctc-"
      },
      "execution_count": 24,
      "outputs": []
    },
    {
      "cell_type": "code",
      "source": [
        "assert remove_date(['texto', 'data', '20/10', 'seguro', '02/09/2014']) == ['texto', 'data', 'seguro']"
      ],
      "metadata": {
        "id": "k6r3cMbB7F3f"
      },
      "execution_count": 25,
      "outputs": []
    },
    {
      "cell_type": "markdown",
      "source": [
        "#### **Remove punctuation**"
      ],
      "metadata": {
        "id": "7y1FqCD1t75_"
      }
    },
    {
      "cell_type": "code",
      "source": [
        "def remove_punctuation(tokens,\n",
        "                       strip_mentions=True,\n",
        "                       strip_hashtags=True):\n",
        "\n",
        "    tokens = [re.sub(r'[^\\w\\s]', '', token) for token in tokens]\n",
        "\n",
        "    # Filter punctuation tokens\n",
        "    tokens = [token.strip() for token in tokens if token not in string.punctuation]\n",
        "\n",
        "    # Remove @ symbol from left side of tokens\n",
        "    if strip_mentions:\n",
        "        tokens = [t.lstrip(r\"([!\\\"#$%&'()*+,-./:;<=>?@[\\]^_`{|}~])\\1+\") for t in tokens]\n",
        "\n",
        "    # Remove # symbol from left side of tokens\n",
        "    if strip_hashtags:\n",
        "        tokens = [t.lstrip(r\"([!\\\"#$%&'()*+,-./:;<=>?@[\\]^_`{|}~])\\1+\") for t in tokens]\n",
        "\n",
        "    return tokens"
      ],
      "metadata": {
        "id": "ba7paG7_uBtS"
      },
      "execution_count": 26,
      "outputs": []
    },
    {
      "cell_type": "code",
      "source": [
        "assert remove_punctuation(['limpo', 'acento/  ///', 'simples???', 'onde', ',']) == ['limpo', 'acento', 'simples', 'onde']"
      ],
      "metadata": {
        "id": "7E8n6Z0l7Xe_"
      },
      "execution_count": 27,
      "outputs": []
    },
    {
      "cell_type": "markdown",
      "source": [
        "#### **Remove short tokens**"
      ],
      "metadata": {
        "id": "SiUx2T8C5YBh"
      }
    },
    {
      "cell_type": "code",
      "source": [
        "def remove_short_tokens(tokens):\n",
        "  # Filter the list of tokens to exclude tokens that are shorter than four letters\n",
        "  filtered_tokens = [token for token in tokens if len(token) >= 4]\n",
        "\n",
        "  # Return the filtered tokens\n",
        "  return filtered_tokens"
      ],
      "metadata": {
        "id": "t8SOwNYW6QI1"
      },
      "execution_count": 28,
      "outputs": []
    },
    {
      "cell_type": "code",
      "source": [
        "assert remove_short_tokens(['sair', 'um', 'correto', 'igual', 'oi', 'de', 'em']) == ['sair', 'correto', 'igual']"
      ],
      "metadata": {
        "id": "GTF9de9N7uFK"
      },
      "execution_count": 29,
      "outputs": []
    },
    {
      "cell_type": "markdown",
      "source": [
        "#### **Correction of spelling errors**"
      ],
      "metadata": {
        "id": "WqtOisN38pZP"
      }
    },
    {
      "cell_type": "code",
      "source": [
        "# Create a SpellChecker object\n",
        "spell = SpellChecker(language='pt')\n",
        "\n",
        "def check_spell_errors(text):\n",
        "  result = []\n",
        "  for token in text:\n",
        "    # Correct the spelling errors in the text\n",
        "    corrected_text = spell.correction(token)\n",
        "\n",
        "    # If no correction is present user the original text\n",
        "    if corrected_text == None:\n",
        "      corrected_text =  token\n",
        "  \n",
        "    result.append(corrected_text)\n",
        "  # Return the corrected text\n",
        "  return result"
      ],
      "metadata": {
        "id": "fUTiJYc_8hba"
      },
      "execution_count": 30,
      "outputs": []
    },
    {
      "cell_type": "markdown",
      "source": [
        "#### **Remove extra white spaces**"
      ],
      "metadata": {
        "id": "ybMjuBaSw67b"
      }
    },
    {
      "cell_type": "code",
      "source": [
        "def remove_whitespace(document):\n",
        "    return  \" \".join(document.split())"
      ],
      "metadata": {
        "id": "3ig6LBnhw_6L"
      },
      "execution_count": 31,
      "outputs": []
    },
    {
      "cell_type": "code",
      "source": [
        "def preprocess(df):\n",
        "  df['documents']= df['documents'].str.lower()\n",
        "  df['documents']= df['documents'].apply(remove_whitespace)\n",
        "  df['tokenize'] = df['documents'].apply(tokenize)\n",
        "  #df['spell_error'] = df['tokenize'].apply(check_spell_errors)\n",
        "  df['remove_links'] = df['tokenize'].apply(remove_links)\n",
        "  df['remove_punctuation'] = df['remove_links'].apply(remove_punctuation)\n",
        "  df['remove_numbers'] = df['remove_punctuation'].apply(remove_numbers)\n",
        "  df['remove_date'] = df['remove_numbers'].apply(remove_date)\n",
        "  df['remove_short_tokens'] = df['remove_date'].apply(remove_short_tokens)\n",
        "  df['remove_stop_words'] = df['remove_short_tokens'].apply(remove_stopwords)\n",
        "  df['lemmas'] = df['remove_stop_words'].apply(lemmatize_pt) \n",
        "  df['corpus'] = df['lemmas'].apply(lambda x: ' '.join(x))\n",
        "  return df"
      ],
      "metadata": {
        "id": "Tu75mPgywHwb"
      },
      "execution_count": 32,
      "outputs": []
    },
    {
      "cell_type": "code",
      "source": [
        "if not os.path.exists('/content/Topic-Modeling-Reclame-Aqui/results/table/table.csv'):\n",
        "\n",
        "  path_csv = \"/content/Topic-Modeling-Reclame-Aqui/corpus.csv\"\n",
        "  \n",
        "  # read data \n",
        "  df = read_data(path_csv)\n",
        "  \n",
        "  # preprocess data\n",
        "  df = preprocess(df)\n",
        "\n",
        "  # Set the path to save \n",
        "  path = '/content/Topic-Modeling-Reclame-Aqui/results/table/'\n",
        "\n",
        "  # Use makedirs() to create a new directory if it does not exists\n",
        "  if not os.path.exists(path):\n",
        "    os.makedirs(path)\n",
        "\n",
        "  # Save the DataFrame to a CSV file\n",
        "  df.to_csv(path + 'table.csv')"
      ],
      "metadata": {
        "id": "73uvqVnafwvQ",
        "outputId": "e8e58398-2551-46fd-d82f-60f2bde9806c",
        "colab": {
          "base_uri": "https://localhost:8080/"
        }
      },
      "execution_count": 34,
      "outputs": [
        {
          "output_type": "stream",
          "name": "stdout",
          "text": [
            "Shape before remove duplicates: (12760, 2)\n",
            "Shape after remove duplicates: (10510, 2)\n"
          ]
        }
      ]
    },
    {
      "cell_type": "code",
      "source": [
        "corpus = pd.read_csv('/content/Topic-Modeling-Reclame-Aqui/results/table/table.csv')['corpus']\n",
        "print(corpus[0:3])"
      ],
      "metadata": {
        "id": "zHreESrgjJUl",
        "outputId": "1260cd13-927c-4a8e-9a5c-3360d03fede9",
        "colab": {
          "base_uri": "https://localhost:8080/"
        }
      },
      "execution_count": 37,
      "outputs": [
        {
          "output_type": "stream",
          "name": "stdout",
          "text": [
            "0    pesquisando bastante novo comprar resolver agu...\n",
            "1    sinceramente decepcionar entrar contato procon...\n",
            "2    cancelei plano antes terminar período testir g...\n",
            "Name: corpus, dtype: object\n"
          ]
        }
      ]
    },
    {
      "cell_type": "markdown",
      "source": [
        "## **Training a BERTopic Model**\n",
        "\n",
        "The BERTopic algorithm has several advantages over other topic modeling algorithms. It is able to handle sparse data, it is scalable to large datasets, and it is able to learn topics that are not well-defined or are overlapping.\n",
        "\n",
        "As our data language is portuguese we will going to set language to multilingual."
      ],
      "metadata": {
        "id": "AWmOFQ3VOD05"
      }
    },
    {
      "cell_type": "markdown",
      "source": [
        "Create a new BERTopic model and train it. By default BERTopic use the paraphrase-multilingual-MiniLM-L12-v2 model for multi language documents. For others model check here [BERTopic sentence transformers](https://maartengr.github.io/BERTopic/getting_started/embeddings/embeddings.html#sentence-transformers)"
      ],
      "metadata": {
        "id": "_mBsnRnhgbm9"
      }
    },
    {
      "cell_type": "code",
      "source": [
        "# Create a new BERTopic model using multilingual option\n",
        "topic_model = BERTopic(language=\"multilingual\", calculate_probabilities=True, verbose=True)\n",
        "\n",
        "# Train model \n",
        "topics, probs = topic_model.fit_transform(corpus)"
      ],
      "metadata": {
        "id": "B0EFqnutN2Y9",
        "outputId": "44252c33-eb6b-40dd-b9cf-f0b87df5781b",
        "colab": {
          "base_uri": "https://localhost:8080/",
          "height": 517,
          "referenced_widgets": [
            "701f50f395ac4b319d9f6618a29bbbaa",
            "76142fd5795a4697836141ae75f67f24",
            "404607d5629e4078b9963916e53da84a",
            "77db3192c37c4d6488292ce8be41554f",
            "48b5f5c4fd3b4c8199027e2bbf04059f",
            "1f3f59593def4330a29b8eee9e9afe0e",
            "cf94b09a53464399ae47f40a7e6f0b7c",
            "ea4db1e7a5fa4320910a5dac275b1d50",
            "7a6b7eeb060a41718658e8acfd4b8992",
            "b221a86f7376445e88cf3e779fcd6814",
            "6890983008d3454b8d9b31f54268ca00",
            "0796258fc00a47dab319e4f7175cd68e",
            "05a24e6e88284aafbe0a628d3e3b1129",
            "c4c1a35118424b5e89121f4d6bf37bdb",
            "e3458d0f30174f2797d15dcafaf6a5ad",
            "a2e76ba51ce741748668259130e830f8",
            "a50e93ebaacf4c008050f8c9f38529d4",
            "fc000a87ca3940249101d644a6ae0b5f",
            "36d531043cef402ca9564c307915f4e1",
            "30b36437404b4e30b338c839376a0ab6",
            "e0a93dd366e44ed9ab072dab07e28f93",
            "95f92cc0d1794052b539ab44b779b66e",
            "ee7b45d30c984aca958ca5a20139abce",
            "1f93f42725914829abf261794bccdf61",
            "2b68704c3e054bd7b911ed4293f1f35d",
            "5085b07666b045cda21c18fbd96eb9ea",
            "9328f2eae3094de59c172b4f971faa08",
            "2fce457be7754621bb52ae1a73f177a6",
            "c04a9dd8669342aabc600a72dd0e6831",
            "7da0cf88fa5c48f6b80a76b84f0dff90",
            "e534302098434a08aceabbab27bf78d5",
            "0afd60747e464f548c7890df45a5141b",
            "33e566711aca46218b5a3a46901ff953",
            "a092075527cb4b5d9809630047d7e3f8",
            "1370f0795d4f447f9d888f9002be60a3",
            "1b6e29e57b41489e81982973c3b9c1f0",
            "67291008139e4d0fb94739de3dd88d34",
            "5979c27ddb51493b8e8ae349b7ff2905",
            "8caa6061e0f6470fb0f0622fe95ebf44",
            "89ac6015321c49e4a0085c82875ce295",
            "ae9eacc57d8c46dea0584489f2aa7192",
            "67717928c01b4264ab839aeb07755ad7",
            "2c15529c6d604d3594f01be6c23c7fe5",
            "2378e4a6f0854a019808b7d9b18e0c61",
            "7e650af5ab0f4c5ab590ef934e52e532",
            "9e6cfb2e16cb4c3fbc8d4260d035c23d",
            "a28ac1f522074721894c19a4b63a353e",
            "5f0de458ed4242cbae6d7a5c3079b5a1",
            "80f289d588b4416fad6992bf10bb923d",
            "e92af33a99804672976745bc78646dbc",
            "2cd5795758534a719505b9e5832bd2db",
            "7b337cb9bc334d15b68479dd81783cd0",
            "9109f49f3deb4c0894d9ca9f4e226f73",
            "b2e85f12af4a4f698beb3f1479f85089",
            "50c60eb4f5374070b94b17358e6e44d5",
            "5aa2cac8d031447d93e864e89ebde85b",
            "64e24f2ad9d74a4c9d23f8c636cb5920",
            "2bc779e279e340448a14611aa2bab225",
            "2e2809cfaabb4727a39a57fc71f61f33",
            "dc498f87f80746d281243f79b0ea1ecb",
            "5fd6db712403421eac1d5e7f914554b9",
            "800fc4ae644a4b55b0718b2c1fca1c06",
            "3f86bbf86d634090ad05de43d6d751d4",
            "1cfbd69cd64645caae65deb96c19ff46",
            "aa401063ea3a4cc79c88d54b2eb7db01",
            "19c933c4e580477babd407ad2e960ac7",
            "4b5acefc17484fba9f664f44de5ce2f7",
            "8496caed676649b0b6be58d647a44ec3",
            "9b9b49897fc0492d8252f377a50e02ec",
            "5dfa443a2b404a02836b7476cf895ba8",
            "260d15d3d3274099ab57d7a7cc47bb34",
            "ea059cfd0ce641c59ddf74185365dd69",
            "e925f3ba079d42fe851d7c1f35766de9",
            "6897bb7709884cd8bc1b761cff695311",
            "bab8216c71d443a49d7068d79fb49673",
            "667b2a98b4614839a423d20a95c99c53",
            "ceffa7d49a224d63bd58462a44b23ec9",
            "6f146a9685ba41eaaae9030b1175acb3",
            "2f9fd30a93754fe2a1114ac21cbf0372",
            "88ade84e390443d5a0f6d47bd403d2b4",
            "06861aeafd5d47e1be0be17afcf85284",
            "ac35d2957a064bbaa9db2c153032fbe0",
            "1de07d5d0f334083a0de051ca8a00a5f",
            "30706e530d9649289da48365e115f547",
            "176933e8148442fdbfff1e572db627b8",
            "0a20b0ee573e4816a80837dbc2ee29bb",
            "2d3b79c647954064a8745d80cdee82ba",
            "07b780436db3400baa1b726c01bc3ec7",
            "a9a08005322844ae915280d80d84bea0",
            "c23582e838f4447f8558952f0f509e3b",
            "1b568a2759d5479792c37835df6b2968",
            "a2f1a85cbc094ee0a6895e95299bf89e",
            "d2ad4f354efa4053aa6663e1c466c081",
            "090f80c434b34e7ab285c1555a971d00",
            "b06e54fb7d9744e3be69f9cfba424562",
            "b9dfb037ba0c4fb8b00d6555840ad5f9",
            "694cd9e8cb8c4a2691c9b00287778749",
            "2d83bccc4a7b42a6ab83d31a7dd01820",
            "d49748eaf6914463bea4d7eefc94bac6",
            "f1cabbdfec2a4e36a4f148615202a9f5",
            "b2f3430010e44e31889cac005b107969",
            "adc32e329348476a804600886a7cebf2",
            "0541583624334121981842fe5adc11c7",
            "0fb2c7e56c4242cdb836549600a726c9",
            "60279d23b61c4474b21a22603e97200c",
            "76ed0e4b0fdd49129411dcbb266784e9",
            "1524e1fac1b3426fa654692fc4e06de3",
            "6186798f8add4ed7a7d485ec7fba5be3",
            "7a69a328c108422bae47e8a46d17e795",
            "c3fd183cafd54b059f637ee56057b537",
            "8080bc3f8f9b42f3aa302853e7f0596a",
            "bcaf8f2c8abe4fdc8538ba11893c95ac",
            "b9088b2b4baf4a5181cf0c179c61d6a6",
            "88b2682a7dd24e3da321aacb85dd29af",
            "2671d2aa3c624534a2dcdce256a1992e",
            "21c5b44745c441119798d915032a8db6",
            "e3e3eea8670f46a9a2c16f19831fb2d6",
            "45c3139bcd1848e38c08012ed1b5d1b1",
            "0d627f5949fb492ab581d048419218ad",
            "7969362bd95f4dbdbf8f5c8e782072e9",
            "5cf268a2cb974574951d0750c09ea413",
            "db01a044b7454d268ec905a6bdc460a4",
            "dda7b90549f14862a85f5b9c1decfc0b",
            "adf4a7b3304f4f8d9ee864c9acd3b385",
            "d90b4a5dd1e147559c365e4509d682ba",
            "38b9e0fcb7224cb19209caf36a1303f8",
            "c1751aa577c54bd6b6268b2ef84f5859",
            "52ba2c666080424c809b072e98513571",
            "803022249eaf419b9f6817bef78684a6",
            "52cefdbbb5a544dc8eb50c14e2e6dd1c",
            "8db726cd670541838a9930fab04317fa",
            "7039262dc3f747fb8b3a04fbcd3e30b3",
            "674f4099d88b4e1981bbfe4fe360a0d5",
            "107d73396d00440c808caea3d839b458",
            "b193ac43f2c34ec5bd7e02f678ee378f",
            "0715320e91ea4bf291e5599c30ae6312",
            "29068719eaa645f0a50c2fa6065868d0",
            "12470f9738ec4af0bfad118c0440a21e",
            "11bc26b1cb644d96995e95bd735bbc68",
            "c3379240a3554e6996dc585f96c6cd45",
            "f59335c1ed6b43c489220bcf33e07403",
            "dee2174feba04be39cc515f552d0690b",
            "3aa1ef9db17c4d02a304cc08a085c953",
            "4c792e516e354c6fb54b64b6152c12e4",
            "bff4c3190fc34358adc04243b06e52be",
            "fdf0be7c41f141d194a95aeb32bb0134",
            "621f2038d75c497b82cbd365142f2ed7",
            "404d67b4d82e4378b8b891897d8ba235",
            "1cd3a1eaee93407daeeb72e32ce7def7",
            "1720f52f231640af8f5147a91d11632f",
            "0e72d03e694241c5a211fd4394d9c255",
            "d20f1ec566db4f47b156d7741fc40ec1",
            "bd25ba21d5db45d3888ca2844d76f42f",
            "c47fd4b4f1ef4727b1284cdb0deb2fc1"
          ]
        }
      },
      "execution_count": 38,
      "outputs": [
        {
          "output_type": "display_data",
          "data": {
            "text/plain": [
              "Downloading:   0%|          | 0.00/968 [00:00<?, ?B/s]"
            ],
            "application/vnd.jupyter.widget-view+json": {
              "version_major": 2,
              "version_minor": 0,
              "model_id": "701f50f395ac4b319d9f6618a29bbbaa"
            }
          },
          "metadata": {}
        },
        {
          "output_type": "display_data",
          "data": {
            "text/plain": [
              "Downloading:   0%|          | 0.00/190 [00:00<?, ?B/s]"
            ],
            "application/vnd.jupyter.widget-view+json": {
              "version_major": 2,
              "version_minor": 0,
              "model_id": "0796258fc00a47dab319e4f7175cd68e"
            }
          },
          "metadata": {}
        },
        {
          "output_type": "display_data",
          "data": {
            "text/plain": [
              "Downloading:   0%|          | 0.00/3.79k [00:00<?, ?B/s]"
            ],
            "application/vnd.jupyter.widget-view+json": {
              "version_major": 2,
              "version_minor": 0,
              "model_id": "ee7b45d30c984aca958ca5a20139abce"
            }
          },
          "metadata": {}
        },
        {
          "output_type": "display_data",
          "data": {
            "text/plain": [
              "Downloading:   0%|          | 0.00/645 [00:00<?, ?B/s]"
            ],
            "application/vnd.jupyter.widget-view+json": {
              "version_major": 2,
              "version_minor": 0,
              "model_id": "a092075527cb4b5d9809630047d7e3f8"
            }
          },
          "metadata": {}
        },
        {
          "output_type": "display_data",
          "data": {
            "text/plain": [
              "Downloading:   0%|          | 0.00/122 [00:00<?, ?B/s]"
            ],
            "application/vnd.jupyter.widget-view+json": {
              "version_major": 2,
              "version_minor": 0,
              "model_id": "7e650af5ab0f4c5ab590ef934e52e532"
            }
          },
          "metadata": {}
        },
        {
          "output_type": "display_data",
          "data": {
            "text/plain": [
              "Downloading:   0%|          | 0.00/471M [00:00<?, ?B/s]"
            ],
            "application/vnd.jupyter.widget-view+json": {
              "version_major": 2,
              "version_minor": 0,
              "model_id": "5aa2cac8d031447d93e864e89ebde85b"
            }
          },
          "metadata": {}
        },
        {
          "output_type": "display_data",
          "data": {
            "text/plain": [
              "Downloading:   0%|          | 0.00/53.0 [00:00<?, ?B/s]"
            ],
            "application/vnd.jupyter.widget-view+json": {
              "version_major": 2,
              "version_minor": 0,
              "model_id": "4b5acefc17484fba9f664f44de5ce2f7"
            }
          },
          "metadata": {}
        },
        {
          "output_type": "display_data",
          "data": {
            "text/plain": [
              "Downloading:   0%|          | 0.00/5.07M [00:00<?, ?B/s]"
            ],
            "application/vnd.jupyter.widget-view+json": {
              "version_major": 2,
              "version_minor": 0,
              "model_id": "6f146a9685ba41eaaae9030b1175acb3"
            }
          },
          "metadata": {}
        },
        {
          "output_type": "display_data",
          "data": {
            "text/plain": [
              "Downloading:   0%|          | 0.00/239 [00:00<?, ?B/s]"
            ],
            "application/vnd.jupyter.widget-view+json": {
              "version_major": 2,
              "version_minor": 0,
              "model_id": "a9a08005322844ae915280d80d84bea0"
            }
          },
          "metadata": {}
        },
        {
          "output_type": "display_data",
          "data": {
            "text/plain": [
              "Downloading:   0%|          | 0.00/9.08M [00:00<?, ?B/s]"
            ],
            "application/vnd.jupyter.widget-view+json": {
              "version_major": 2,
              "version_minor": 0,
              "model_id": "f1cabbdfec2a4e36a4f148615202a9f5"
            }
          },
          "metadata": {}
        },
        {
          "output_type": "display_data",
          "data": {
            "text/plain": [
              "Downloading:   0%|          | 0.00/480 [00:00<?, ?B/s]"
            ],
            "application/vnd.jupyter.widget-view+json": {
              "version_major": 2,
              "version_minor": 0,
              "model_id": "8080bc3f8f9b42f3aa302853e7f0596a"
            }
          },
          "metadata": {}
        },
        {
          "output_type": "display_data",
          "data": {
            "text/plain": [
              "Downloading:   0%|          | 0.00/14.8M [00:00<?, ?B/s]"
            ],
            "application/vnd.jupyter.widget-view+json": {
              "version_major": 2,
              "version_minor": 0,
              "model_id": "db01a044b7454d268ec905a6bdc460a4"
            }
          },
          "metadata": {}
        },
        {
          "output_type": "display_data",
          "data": {
            "text/plain": [
              "Downloading:   0%|          | 0.00/229 [00:00<?, ?B/s]"
            ],
            "application/vnd.jupyter.widget-view+json": {
              "version_major": 2,
              "version_minor": 0,
              "model_id": "674f4099d88b4e1981bbfe4fe360a0d5"
            }
          },
          "metadata": {}
        },
        {
          "output_type": "display_data",
          "data": {
            "text/plain": [
              "Batches:   0%|          | 0/329 [00:00<?, ?it/s]"
            ],
            "application/vnd.jupyter.widget-view+json": {
              "version_major": 2,
              "version_minor": 0,
              "model_id": "4c792e516e354c6fb54b64b6152c12e4"
            }
          },
          "metadata": {}
        },
        {
          "output_type": "stream",
          "name": "stderr",
          "text": [
            "2023-01-05 20:09:27,783 - BERTopic - Transformed documents to Embeddings\n",
            "2023-01-05 20:10:02,372 - BERTopic - Reduced dimensionality\n",
            "2023-01-05 20:10:06,792 - BERTopic - Clustered reduced embeddings\n"
          ]
        }
      ]
    },
    {
      "cell_type": "markdown",
      "source": [
        "BERTopic works in three main steps: \n",
        "\n",
        "\n",
        "1.   Documents are first converted to numeric data. It extracts different embeddings based on the context of the word. For this, a sentence transformation model is used.\n",
        "2.  Documents with similar topics are then grouped together forming clusters with similar topics. For this purpose, BERTopic uses the clustering algorithm UMAP to lower the dimensionality of the embeddings. Then the documents are clustered with the density-based algorithm HDBSCAN.\n",
        "3. BERTopic extracts topics from clusters using a class-based TF-IDF score. This score gives the importance of each word in a cluster. Topics are then created based on the most important words measured by their C-TF-IDF score.\n",
        "\n",
        "For more information check this link [BERTopic](https://towardsdatascience.com/topic-modeling-with-bert-779f7db187e6)\n",
        "\n"
      ],
      "metadata": {
        "id": "vnG5aC6ekXeu"
      }
    },
    {
      "cell_type": "markdown",
      "source": [
        "### **Extracting Topics**"
      ],
      "metadata": {
        "id": "GimKIMmaRZSd"
      }
    },
    {
      "cell_type": "code",
      "source": [
        "# Print the most frequent topics\n",
        "freq = topic_model.get_topic_info()\n",
        "\n",
        "# Show the top 5 most frequent topics\n",
        "freq.head(5)"
      ],
      "metadata": {
        "id": "JIrBNmF-Rcf0",
        "outputId": "365dd109-b39c-458a-eeb8-6431c111468d",
        "colab": {
          "base_uri": "https://localhost:8080/",
          "height": 206
        }
      },
      "execution_count": 39,
      "outputs": [
        {
          "output_type": "execute_result",
          "data": {
            "text/plain": [
              "   Topic  Count                                     Name\n",
              "0     -1   5171         -1_entregar_pedir_produto_compra\n",
              "1      0    613         0_cartão_crédito_cobrança_cobrar\n",
              "2      1    493    1_celular_aparelho_smartphone_comprar\n",
              "3      2    385        2_dinheiro_reembolso_valor_recebi\n",
              "4      3    257  3_whatsapp_contato_entregar_atendimento"
            ],
            "text/html": [
              "\n",
              "  <div id=\"df-d9d806c4-ba89-475e-a581-bf34c4614e33\">\n",
              "    <div class=\"colab-df-container\">\n",
              "      <div>\n",
              "<style scoped>\n",
              "    .dataframe tbody tr th:only-of-type {\n",
              "        vertical-align: middle;\n",
              "    }\n",
              "\n",
              "    .dataframe tbody tr th {\n",
              "        vertical-align: top;\n",
              "    }\n",
              "\n",
              "    .dataframe thead th {\n",
              "        text-align: right;\n",
              "    }\n",
              "</style>\n",
              "<table border=\"1\" class=\"dataframe\">\n",
              "  <thead>\n",
              "    <tr style=\"text-align: right;\">\n",
              "      <th></th>\n",
              "      <th>Topic</th>\n",
              "      <th>Count</th>\n",
              "      <th>Name</th>\n",
              "    </tr>\n",
              "  </thead>\n",
              "  <tbody>\n",
              "    <tr>\n",
              "      <th>0</th>\n",
              "      <td>-1</td>\n",
              "      <td>5171</td>\n",
              "      <td>-1_entregar_pedir_produto_compra</td>\n",
              "    </tr>\n",
              "    <tr>\n",
              "      <th>1</th>\n",
              "      <td>0</td>\n",
              "      <td>613</td>\n",
              "      <td>0_cartão_crédito_cobrança_cobrar</td>\n",
              "    </tr>\n",
              "    <tr>\n",
              "      <th>2</th>\n",
              "      <td>1</td>\n",
              "      <td>493</td>\n",
              "      <td>1_celular_aparelho_smartphone_comprar</td>\n",
              "    </tr>\n",
              "    <tr>\n",
              "      <th>3</th>\n",
              "      <td>2</td>\n",
              "      <td>385</td>\n",
              "      <td>2_dinheiro_reembolso_valor_recebi</td>\n",
              "    </tr>\n",
              "    <tr>\n",
              "      <th>4</th>\n",
              "      <td>3</td>\n",
              "      <td>257</td>\n",
              "      <td>3_whatsapp_contato_entregar_atendimento</td>\n",
              "    </tr>\n",
              "  </tbody>\n",
              "</table>\n",
              "</div>\n",
              "      <button class=\"colab-df-convert\" onclick=\"convertToInteractive('df-d9d806c4-ba89-475e-a581-bf34c4614e33')\"\n",
              "              title=\"Convert this dataframe to an interactive table.\"\n",
              "              style=\"display:none;\">\n",
              "        \n",
              "  <svg xmlns=\"http://www.w3.org/2000/svg\" height=\"24px\"viewBox=\"0 0 24 24\"\n",
              "       width=\"24px\">\n",
              "    <path d=\"M0 0h24v24H0V0z\" fill=\"none\"/>\n",
              "    <path d=\"M18.56 5.44l.94 2.06.94-2.06 2.06-.94-2.06-.94-.94-2.06-.94 2.06-2.06.94zm-11 1L8.5 8.5l.94-2.06 2.06-.94-2.06-.94L8.5 2.5l-.94 2.06-2.06.94zm10 10l.94 2.06.94-2.06 2.06-.94-2.06-.94-.94-2.06-.94 2.06-2.06.94z\"/><path d=\"M17.41 7.96l-1.37-1.37c-.4-.4-.92-.59-1.43-.59-.52 0-1.04.2-1.43.59L10.3 9.45l-7.72 7.72c-.78.78-.78 2.05 0 2.83L4 21.41c.39.39.9.59 1.41.59.51 0 1.02-.2 1.41-.59l7.78-7.78 2.81-2.81c.8-.78.8-2.07 0-2.86zM5.41 20L4 18.59l7.72-7.72 1.47 1.35L5.41 20z\"/>\n",
              "  </svg>\n",
              "      </button>\n",
              "      \n",
              "  <style>\n",
              "    .colab-df-container {\n",
              "      display:flex;\n",
              "      flex-wrap:wrap;\n",
              "      gap: 12px;\n",
              "    }\n",
              "\n",
              "    .colab-df-convert {\n",
              "      background-color: #E8F0FE;\n",
              "      border: none;\n",
              "      border-radius: 50%;\n",
              "      cursor: pointer;\n",
              "      display: none;\n",
              "      fill: #1967D2;\n",
              "      height: 32px;\n",
              "      padding: 0 0 0 0;\n",
              "      width: 32px;\n",
              "    }\n",
              "\n",
              "    .colab-df-convert:hover {\n",
              "      background-color: #E2EBFA;\n",
              "      box-shadow: 0px 1px 2px rgba(60, 64, 67, 0.3), 0px 1px 3px 1px rgba(60, 64, 67, 0.15);\n",
              "      fill: #174EA6;\n",
              "    }\n",
              "\n",
              "    [theme=dark] .colab-df-convert {\n",
              "      background-color: #3B4455;\n",
              "      fill: #D2E3FC;\n",
              "    }\n",
              "\n",
              "    [theme=dark] .colab-df-convert:hover {\n",
              "      background-color: #434B5C;\n",
              "      box-shadow: 0px 1px 3px 1px rgba(0, 0, 0, 0.15);\n",
              "      filter: drop-shadow(0px 1px 2px rgba(0, 0, 0, 0.3));\n",
              "      fill: #FFFFFF;\n",
              "    }\n",
              "  </style>\n",
              "\n",
              "      <script>\n",
              "        const buttonEl =\n",
              "          document.querySelector('#df-d9d806c4-ba89-475e-a581-bf34c4614e33 button.colab-df-convert');\n",
              "        buttonEl.style.display =\n",
              "          google.colab.kernel.accessAllowed ? 'block' : 'none';\n",
              "\n",
              "        async function convertToInteractive(key) {\n",
              "          const element = document.querySelector('#df-d9d806c4-ba89-475e-a581-bf34c4614e33');\n",
              "          const dataTable =\n",
              "            await google.colab.kernel.invokeFunction('convertToInteractive',\n",
              "                                                     [key], {});\n",
              "          if (!dataTable) return;\n",
              "\n",
              "          const docLinkHtml = 'Like what you see? Visit the ' +\n",
              "            '<a target=\"_blank\" href=https://colab.research.google.com/notebooks/data_table.ipynb>data table notebook</a>'\n",
              "            + ' to learn more about interactive tables.';\n",
              "          element.innerHTML = '';\n",
              "          dataTable['output_type'] = 'display_data';\n",
              "          await google.colab.output.renderOutput(dataTable, element);\n",
              "          const docLink = document.createElement('div');\n",
              "          docLink.innerHTML = docLinkHtml;\n",
              "          element.appendChild(docLink);\n",
              "        }\n",
              "      </script>\n",
              "    </div>\n",
              "  </div>\n",
              "  "
            ]
          },
          "metadata": {},
          "execution_count": 39
        }
      ]
    },
    {
      "cell_type": "markdown",
      "source": [
        "The table above shows the five most freqeuente topics and the words present on it extract by BERTopic. -1 refers to all outliers and should be ignored."
      ],
      "metadata": {
        "id": "TVWcfF5mRrMy"
      }
    },
    {
      "cell_type": "code",
      "source": [
        "# show the most frequent topic\n",
        "topic_model.get_topic(0)"
      ],
      "metadata": {
        "id": "Br_UMf1kRxU3",
        "outputId": "4f7863b7-37f2-4a57-838a-92dc2d80eeae",
        "colab": {
          "base_uri": "https://localhost:8080/"
        }
      },
      "execution_count": 40,
      "outputs": [
        {
          "output_type": "execute_result",
          "data": {
            "text/plain": [
              "[('cartão', 0.055043277403953185),\n",
              " ('crédito', 0.02979349322344244),\n",
              " ('cobrança', 0.02153946577247617),\n",
              " ('cobrar', 0.01908109858728945),\n",
              " ('valor', 0.017324214144042543),\n",
              " ('fatura', 0.016869889599734397),\n",
              " ('compra', 0.01675435481895409),\n",
              " ('assinatura', 0.01573841088485844),\n",
              " ('pagamento', 0.014450931952660383),\n",
              " ('prime', 0.013226467445292277)]"
            ]
          },
          "metadata": {},
          "execution_count": 40
        }
      ]
    },
    {
      "cell_type": "markdown",
      "source": [
        "**Note:** BERTopic is stocastich which means that the topics might differ across runs this is mostly due to the stocastisch nature of UMAP"
      ],
      "metadata": {
        "id": "YpP4HgF2R6Wa"
      }
    },
    {
      "cell_type": "markdown",
      "source": [
        "#### **Save topic info table as CSV**"
      ],
      "metadata": {
        "id": "CxWLChzJlPmZ"
      }
    },
    {
      "cell_type": "code",
      "source": [
        "# Set the path to save \n",
        "path = '/content/Topic-Modeling-Reclame-Aqui/results/topic_info_tables/'\n",
        "\n",
        "# Use makedirs() to create a new directory if it does not exists\n",
        "if not os.path.exists(path):\n",
        "  os.makedirs(path)\n",
        "\n",
        "# Save table as csv\n",
        "freq.head(10).to_csv(path + 'topic_info_preprocessed_lemma.csv')"
      ],
      "metadata": {
        "id": "9wM4Ymh_lOdt"
      },
      "execution_count": 41,
      "outputs": []
    },
    {
      "cell_type": "markdown",
      "source": [
        "## **Visualization**"
      ],
      "metadata": {
        "id": "wBsA8hiVSJDY"
      }
    },
    {
      "cell_type": "markdown",
      "source": [
        "### **Intertopic Distance Map**\n",
        "\n",
        "This graph shows the distance intertopic and help us understand the promixity of topics"
      ],
      "metadata": {
        "id": "2twooZDXUc2T"
      }
    },
    {
      "cell_type": "code",
      "source": [
        "fig = topic_model.visualize_topics(width=800, height=800)\n",
        "fig"
      ],
      "metadata": {
        "id": "Ae2JSAENSIOJ",
        "outputId": "d397daec-841e-4f76-aaf9-c691d9ebdc5f",
        "colab": {
          "base_uri": "https://localhost:8080/",
          "height": 817
        }
      },
      "execution_count": 86,
      "outputs": [
        {
          "output_type": "display_data",
          "data": {
            "text/html": [
              "<html>\n",
              "<head><meta charset=\"utf-8\" /></head>\n",
              "<body>\n",
              "    <div>            <script src=\"https://cdnjs.cloudflare.com/ajax/libs/mathjax/2.7.5/MathJax.js?config=TeX-AMS-MML_SVG\"></script><script type=\"text/javascript\">if (window.MathJax) {MathJax.Hub.Config({SVG: {font: \"STIX-Web\"}});}</script>                <script type=\"text/javascript\">window.PlotlyConfig = {MathJaxConfig: 'local'};</script>\n",
              "        <script src=\"https://cdn.plot.ly/plotly-2.8.3.min.js\"></script>                <div id=\"aabd74c5-2231-4e81-9e2c-2ed0bbca2603\" class=\"plotly-graph-div\" style=\"height:800px; width:800px;\"></div>            <script type=\"text/javascript\">                                    window.PLOTLYENV=window.PLOTLYENV || {};                                    if (document.getElementById(\"aabd74c5-2231-4e81-9e2c-2ed0bbca2603\")) {                    Plotly.newPlot(                        \"aabd74c5-2231-4e81-9e2c-2ed0bbca2603\",                        [{\"customdata\":[[0,\"cart\\u00e3o | cr\\u00e9dito | cobran\\u00e7a | cobrar | valor\",613],[1,\"celular | aparelho | smartphone | comprar | loja\",493],[2,\"dinheiro | reembolso | valor | recebi | devolver\",385],[3,\"whatsapp | contato | entregar | atendimento | entrar\",257],[4,\"brasil | brasileiro | chegar | pedir | compra\",253],[5,\"roupa | cal\\u00e7a | vestir | tamanho | camisa\",194],[6,\"loja | magalu | poder | contato | entrar\",154],[7,\"novembro | dezembro | outubro | chegar | entregar\",152],[8,\"iphone | aparelho | celular | carregador | valor\",143],[9,\"black | friday | promo\\u00e7\\u00e3o | oferta | desconto\",123],[10,\"pedir | entregar | encomenda | recebi | saber\",113],[11,\"cancelamento | cancelar | pedir | solicitei | site\",105],[12,\"geladeira | refrigerador | geladeiro | troca | amassar\",99],[13,\"email | conta | senha | contar | acessar\",96],[14,\"jogo | lan\\u00e7amento | ragnarok | pr\\u00e9venda | venda\",93],[15,\"reclama\\u00e7\\u00e3o | produto | comprador | vendedor | vender\",82],[16,\"site | gr\\u00e1tis | valor | frete | anunciar\",80],[17,\"prazo | entregar | dia | atraso | produto\",75],[18,\"contato | produto | empresa | endere\\u00e7o | por\\u00e9m\",65],[19,\"livro | compr | hoje | dois | entregar\",64],[20,\"previs\\u00e3o | entregar | prazo | produto | transportadora\",62],[21,\"rob\\u00f4 | aspirador | macac\\u00e3o | tentar | suporte\",58],[22,\"caixa | vir | garrafa | quebrar | embalagem\",58],[23,\"absurdo | produto | querer | comprar | frete\",55],[24,\"t\\u00eanis | mizuno | tenis | wave | azul\",54],[25,\"cobran\\u00e7a | amazoncombr | digital | assinaturar | cart\\u00e3o\",54],[26,\"m\\u00e1quina | lavar | roupa | maquina | seca\",48],[27,\"aplicativo | reembolso | compra | recebi | taxa\",47],[28,\"rastreio | c\\u00f3digo | rastreamento | rastrear | codigo\",46],[29,\"curitiba | tr\\u00e2nsito | parado | cidade | atualiza\\u00e7\\u00e3o\",45],[30,\"prime | v\\u00eddeo | assinatura | video | assistir\",44],[31,\"produto | juliana_fraga | m\\u00e1rcia | contato | vendedor\",44],[32,\"endere\\u00e7o | pedido | pedir | moro | n\\u00famero\",43],[33,\"televis\\u00e3o | monitor | televisor | defeito | vir\",41],[34,\"devolu\\u00e7\\u00e3o | postagem | solicitei | correio | reembolso\",41],[35,\"acessar | validar | conta | n\\u00famero | acesso\",41],[36,\"entregar | entregador | ligar | esperar | ningu\\u00e9m\",38],[37,\"notebook | dell | intel | core | loja\",36],[38,\"foto | c\\u00e2merar | placa | devolu\\u00e7\\u00e3o | v\\u00eddeo\",36],[39,\"transportadora | entregar | hoje | notifica\\u00e7\\u00e3o | pedir\",35],[40,\"china | nacional | correios | chegar | brasil\",35],[41,\"internacional | nacional | processamento | envio | importa\\u00e7\\u00e3o\",34],[42,\"bluetooth | fone | controle | devolu\\u00e7\\u00e3o | projetor\",32],[43,\"cashback | valor | extrato | futuro | digital\",31],[44,\"bicicleta | bike | compr | filho | bikes\",28],[45,\"amazoncombr | transportadora | rem\\u00e9dio | entregar | fiscal\",28],[46,\"cadeira | montar | cadeiro | gamer | pe\\u00e7a\",28],[47,\"ningu\\u00e9m | nada | ra\\u00e7\\u00e3o | mensagem | chegar\",27],[48,\"reconhecimento | facial | rosto | senha | acessar\",26],[49,\"m\\u00fasica | music | ouvir | tocar | m\\u00fasico\",25],[50,\"pneu | pastilha | coleta | pirelli | dur\\u00e1vel\",25],[51,\"sof\\u00e1 | mobly | magalu | reclin\\u00e1vel | tecido\",24],[52,\"cama | comprei | colch\\u00e3o | edredom | ch\\u00e3o\",22],[53,\"novembro | mesa | reclamacao | retirar | reabrir\",20],[54,\"express | cidade | transportadora | total | bairro\",20],[55,\"cancelar | reembolso | cancelamento | quase | valor\",19],[56,\"forno | electrolux | fogao | fog\\u00e3o | embutir\",19],[57,\"abrir | vendedor | entrar | entregar | vibe\",18],[58,\"pagamento | paguei | boleto | pagar | efetuei\",18],[59,\"liquidificador | oster | tampa | multiprocessador | turbo\",17],[60,\"microondas | eletrotrader | microondo | online | dia\",17],[61,\"perfume | embalagem | refresh | comfort | feminino\",17],[62,\"mouse | teclado | combo | logitech | gamer\",16],[63,\"esposo | marido | evid\\u00eancia | gente | rasura\",16],[64,\"previs\\u00e3o | prever | vaga | envio | prazo\",14],[65,\"pagamento | comprovante | confirmar | paguei | cancelar\",14],[66,\"endere\\u00e7o | assinar | local | apr\\u00f2pria | devolu\\u00e3o\",14],[67,\"l\\u00e2mpada | lampada | l\\u00e2mpar | l\\u00e2mpado | an\\u00fancio\",13],[68,\"toke | entregador | imail | residencia | base\",12],[69,\"aplicativo | momento | avariar | sequoia | optei\",12],[70,\"previs\\u00e3o | prazoquero | algon\\u00famero | nfconfiei | colch\\u00e3o\",12],[71,\"cancelar | cadastral | plano | setor | plataforma\",12],[72,\"remetente | correios | endere\\u00e7o | reembolso | incompleto\",12],[73,\"rastrear | rastreamento | transportadora | rastreio | tranckr\",12],[74,\"jogo | panelo | panele | panelas | tramontina\",12],[75,\"https | lepsably | wwwamericanasentregacombr | brsheincomrobot | pagenavigationbar\",11],[76,\"shampoo | haskell | cabelo | metade | progressivo\",11],[77,\"inicia | embrulhar | dividir | aborrecimento | posto\",11],[78,\"secador | full | prazo | sempre | esperar\",10],[79,\"anivers\\u00e1rio | mosaico | presente | afilhar | quarto\",10],[80,\"endere\\u00e7o | resolver | smile | corro | cria\\u00e7\\u00e3o\",10],[81,\"echo | studio | microfone | alexa | garantia\",10]],\"hovertemplate\":\"<b>Topic %{customdata[0]}</b><br>Words: %{customdata[1]}<br>Size: %{customdata[2]}\",\"legendgroup\":\"\",\"marker\":{\"color\":\"#B0BEC5\",\"size\":[613,493,385,257,253,194,154,152,143,123,113,105,99,96,93,82,80,75,65,64,62,58,58,55,54,54,48,47,46,45,44,44,43,41,41,41,38,36,36,35,35,34,32,31,28,28,28,27,26,25,25,24,22,20,20,19,19,18,18,17,17,17,16,16,14,14,14,13,12,12,12,12,12,12,12,11,11,11,10,10,10,10],\"sizemode\":\"area\",\"sizeref\":0.383125,\"symbol\":\"circle\",\"line\":{\"color\":\"DarkSlateGrey\",\"width\":2}},\"mode\":\"markers\",\"name\":\"\",\"orientation\":\"v\",\"showlegend\":false,\"x\":[15.429967880249023,18.29899024963379,-16.763134002685547,4.250850200653076,18.150426864624023,7.477293014526367,18.539779663085938,-5.837502956390381,18.3512020111084,18.330612182617188,4.73494291305542,8.951366424560547,4.227539539337158,-0.09125199168920517,3.9719791412353516,5.383148670196533,1.1042910814285278,4.141685962677002,9.167886734008789,7.324800968170166,4.172268867492676,5.375543117523193,5.345613956451416,2.5765721797943115,2.285876750946045,15.581958770751953,-4.890349864959717,-16.832908630371094,-6.342222690582275,-6.139664649963379,15.61194133758545,18.4135799407959,4.426827430725098,9.349067687988281,7.203446865081787,-0.007748756092041731,4.12035608291626,8.841185569763184,5.2513203620910645,3.9884042739868164,-5.956312656402588,-16.842422485351562,-4.890337944030762,0.8499332666397095,4.850973606109619,4.076197624206543,1.3359125852584839,4.94450569152832,0.01079466287046671,15.71093463897705,9.413094520568848,4.55438756942749,2.488025188446045,1.3823649883270264,4.541218280792236,-16.652803421020508,2.114039659500122,2.2543091773986816,-17.040746688842773,9.022542953491211,4.997642517089844,7.314054489135742,7.687952041625977,1.995257019996643,-3.1381566524505615,-16.75996208190918,4.397955417633057,4.495255470275879,2.3638358116149902,4.535614967346191,-3.3424177169799805,2.238102912902832,5.330827236175537,-6.4051103591918945,5.470532417297363,7.243124008178711,7.525308132171631,-3.076193332672119,-2.9941601753234863,-3.413566827774048,2.324944257736206,5.288233280181885],\"xaxis\":\"x\",\"y\":[14.957023620605469,-2.3358914852142334,5.387604236602783,-1.174237608909607,-2.492366075515747,8.839930534362793,-2.0985021591186523,1.55599844455719,-2.2866082191467285,-2.307443380355835,6.18432092666626,5.41970682144165,-1.0991854667663574,15.718024253845215,-0.8640173077583313,4.072249889373779,6.658815383911133,-0.8207584619522095,5.202443599700928,8.76290512084961,-0.49495458602905273,4.642991542816162,4.044098854064941,6.655607223510742,7.015680313110352,15.108969688415527,7.2035746574401855,5.457263469696045,2.059558629989624,1.8571546077728271,15.13895320892334,-2.2229926586151123,5.732376575469971,5.328774929046631,8.995407104492188,15.801407814025879,-0.012221486307680607,5.488065242767334,4.295609951019287,-0.16302590072155,1.6741644144058228,5.466772079467773,7.203639984130859,6.851696491241455,5.703137397766113,-0.07839342206716537,6.573947429656982,5.814951419830322,15.818330764770508,15.237974166870117,5.381520748138428,5.9319748878479,6.748436450958252,6.60144567489624,5.922107219696045,5.275641441345215,6.565453052520752,6.452546119689941,5.664816379547119,5.518283367156982,5.790768146514893,8.927806854248047,8.914280891418457,6.668501853942871,13.359504699707031,5.3838396072387695,5.435166835784912,5.298948764801025,6.994150161743164,6.147638320922852,13.568100929260254,6.955789089202881,6.257861614227295,2.1230149269104004,6.301435470581055,9.044350624084473,8.663506507873535,13.29827880859375,13.215739250183105,13.641276359558105,6.462493896484375,4.544330596923828],\"yaxis\":\"y\",\"type\":\"scatter\"}],                        {\"template\":{\"data\":{\"barpolar\":[{\"marker\":{\"line\":{\"color\":\"white\",\"width\":0.5},\"pattern\":{\"fillmode\":\"overlay\",\"size\":10,\"solidity\":0.2}},\"type\":\"barpolar\"}],\"bar\":[{\"error_x\":{\"color\":\"rgb(36,36,36)\"},\"error_y\":{\"color\":\"rgb(36,36,36)\"},\"marker\":{\"line\":{\"color\":\"white\",\"width\":0.5},\"pattern\":{\"fillmode\":\"overlay\",\"size\":10,\"solidity\":0.2}},\"type\":\"bar\"}],\"carpet\":[{\"aaxis\":{\"endlinecolor\":\"rgb(36,36,36)\",\"gridcolor\":\"white\",\"linecolor\":\"white\",\"minorgridcolor\":\"white\",\"startlinecolor\":\"rgb(36,36,36)\"},\"baxis\":{\"endlinecolor\":\"rgb(36,36,36)\",\"gridcolor\":\"white\",\"linecolor\":\"white\",\"minorgridcolor\":\"white\",\"startlinecolor\":\"rgb(36,36,36)\"},\"type\":\"carpet\"}],\"choropleth\":[{\"colorbar\":{\"outlinewidth\":1,\"tickcolor\":\"rgb(36,36,36)\",\"ticks\":\"outside\"},\"type\":\"choropleth\"}],\"contourcarpet\":[{\"colorbar\":{\"outlinewidth\":1,\"tickcolor\":\"rgb(36,36,36)\",\"ticks\":\"outside\"},\"type\":\"contourcarpet\"}],\"contour\":[{\"colorbar\":{\"outlinewidth\":1,\"tickcolor\":\"rgb(36,36,36)\",\"ticks\":\"outside\"},\"colorscale\":[[0.0,\"#440154\"],[0.1111111111111111,\"#482878\"],[0.2222222222222222,\"#3e4989\"],[0.3333333333333333,\"#31688e\"],[0.4444444444444444,\"#26828e\"],[0.5555555555555556,\"#1f9e89\"],[0.6666666666666666,\"#35b779\"],[0.7777777777777778,\"#6ece58\"],[0.8888888888888888,\"#b5de2b\"],[1.0,\"#fde725\"]],\"type\":\"contour\"}],\"heatmapgl\":[{\"colorbar\":{\"outlinewidth\":1,\"tickcolor\":\"rgb(36,36,36)\",\"ticks\":\"outside\"},\"colorscale\":[[0.0,\"#440154\"],[0.1111111111111111,\"#482878\"],[0.2222222222222222,\"#3e4989\"],[0.3333333333333333,\"#31688e\"],[0.4444444444444444,\"#26828e\"],[0.5555555555555556,\"#1f9e89\"],[0.6666666666666666,\"#35b779\"],[0.7777777777777778,\"#6ece58\"],[0.8888888888888888,\"#b5de2b\"],[1.0,\"#fde725\"]],\"type\":\"heatmapgl\"}],\"heatmap\":[{\"colorbar\":{\"outlinewidth\":1,\"tickcolor\":\"rgb(36,36,36)\",\"ticks\":\"outside\"},\"colorscale\":[[0.0,\"#440154\"],[0.1111111111111111,\"#482878\"],[0.2222222222222222,\"#3e4989\"],[0.3333333333333333,\"#31688e\"],[0.4444444444444444,\"#26828e\"],[0.5555555555555556,\"#1f9e89\"],[0.6666666666666666,\"#35b779\"],[0.7777777777777778,\"#6ece58\"],[0.8888888888888888,\"#b5de2b\"],[1.0,\"#fde725\"]],\"type\":\"heatmap\"}],\"histogram2dcontour\":[{\"colorbar\":{\"outlinewidth\":1,\"tickcolor\":\"rgb(36,36,36)\",\"ticks\":\"outside\"},\"colorscale\":[[0.0,\"#440154\"],[0.1111111111111111,\"#482878\"],[0.2222222222222222,\"#3e4989\"],[0.3333333333333333,\"#31688e\"],[0.4444444444444444,\"#26828e\"],[0.5555555555555556,\"#1f9e89\"],[0.6666666666666666,\"#35b779\"],[0.7777777777777778,\"#6ece58\"],[0.8888888888888888,\"#b5de2b\"],[1.0,\"#fde725\"]],\"type\":\"histogram2dcontour\"}],\"histogram2d\":[{\"colorbar\":{\"outlinewidth\":1,\"tickcolor\":\"rgb(36,36,36)\",\"ticks\":\"outside\"},\"colorscale\":[[0.0,\"#440154\"],[0.1111111111111111,\"#482878\"],[0.2222222222222222,\"#3e4989\"],[0.3333333333333333,\"#31688e\"],[0.4444444444444444,\"#26828e\"],[0.5555555555555556,\"#1f9e89\"],[0.6666666666666666,\"#35b779\"],[0.7777777777777778,\"#6ece58\"],[0.8888888888888888,\"#b5de2b\"],[1.0,\"#fde725\"]],\"type\":\"histogram2d\"}],\"histogram\":[{\"marker\":{\"line\":{\"color\":\"white\",\"width\":0.6}},\"type\":\"histogram\"}],\"mesh3d\":[{\"colorbar\":{\"outlinewidth\":1,\"tickcolor\":\"rgb(36,36,36)\",\"ticks\":\"outside\"},\"type\":\"mesh3d\"}],\"parcoords\":[{\"line\":{\"colorbar\":{\"outlinewidth\":1,\"tickcolor\":\"rgb(36,36,36)\",\"ticks\":\"outside\"}},\"type\":\"parcoords\"}],\"pie\":[{\"automargin\":true,\"type\":\"pie\"}],\"scatter3d\":[{\"line\":{\"colorbar\":{\"outlinewidth\":1,\"tickcolor\":\"rgb(36,36,36)\",\"ticks\":\"outside\"}},\"marker\":{\"colorbar\":{\"outlinewidth\":1,\"tickcolor\":\"rgb(36,36,36)\",\"ticks\":\"outside\"}},\"type\":\"scatter3d\"}],\"scattercarpet\":[{\"marker\":{\"colorbar\":{\"outlinewidth\":1,\"tickcolor\":\"rgb(36,36,36)\",\"ticks\":\"outside\"}},\"type\":\"scattercarpet\"}],\"scattergeo\":[{\"marker\":{\"colorbar\":{\"outlinewidth\":1,\"tickcolor\":\"rgb(36,36,36)\",\"ticks\":\"outside\"}},\"type\":\"scattergeo\"}],\"scattergl\":[{\"marker\":{\"colorbar\":{\"outlinewidth\":1,\"tickcolor\":\"rgb(36,36,36)\",\"ticks\":\"outside\"}},\"type\":\"scattergl\"}],\"scattermapbox\":[{\"marker\":{\"colorbar\":{\"outlinewidth\":1,\"tickcolor\":\"rgb(36,36,36)\",\"ticks\":\"outside\"}},\"type\":\"scattermapbox\"}],\"scatterpolargl\":[{\"marker\":{\"colorbar\":{\"outlinewidth\":1,\"tickcolor\":\"rgb(36,36,36)\",\"ticks\":\"outside\"}},\"type\":\"scatterpolargl\"}],\"scatterpolar\":[{\"marker\":{\"colorbar\":{\"outlinewidth\":1,\"tickcolor\":\"rgb(36,36,36)\",\"ticks\":\"outside\"}},\"type\":\"scatterpolar\"}],\"scatter\":[{\"marker\":{\"colorbar\":{\"outlinewidth\":1,\"tickcolor\":\"rgb(36,36,36)\",\"ticks\":\"outside\"}},\"type\":\"scatter\"}],\"scatterternary\":[{\"marker\":{\"colorbar\":{\"outlinewidth\":1,\"tickcolor\":\"rgb(36,36,36)\",\"ticks\":\"outside\"}},\"type\":\"scatterternary\"}],\"surface\":[{\"colorbar\":{\"outlinewidth\":1,\"tickcolor\":\"rgb(36,36,36)\",\"ticks\":\"outside\"},\"colorscale\":[[0.0,\"#440154\"],[0.1111111111111111,\"#482878\"],[0.2222222222222222,\"#3e4989\"],[0.3333333333333333,\"#31688e\"],[0.4444444444444444,\"#26828e\"],[0.5555555555555556,\"#1f9e89\"],[0.6666666666666666,\"#35b779\"],[0.7777777777777778,\"#6ece58\"],[0.8888888888888888,\"#b5de2b\"],[1.0,\"#fde725\"]],\"type\":\"surface\"}],\"table\":[{\"cells\":{\"fill\":{\"color\":\"rgb(237,237,237)\"},\"line\":{\"color\":\"white\"}},\"header\":{\"fill\":{\"color\":\"rgb(217,217,217)\"},\"line\":{\"color\":\"white\"}},\"type\":\"table\"}]},\"layout\":{\"annotationdefaults\":{\"arrowhead\":0,\"arrowwidth\":1},\"autotypenumbers\":\"strict\",\"coloraxis\":{\"colorbar\":{\"outlinewidth\":1,\"tickcolor\":\"rgb(36,36,36)\",\"ticks\":\"outside\"}},\"colorscale\":{\"diverging\":[[0.0,\"rgb(103,0,31)\"],[0.1,\"rgb(178,24,43)\"],[0.2,\"rgb(214,96,77)\"],[0.3,\"rgb(244,165,130)\"],[0.4,\"rgb(253,219,199)\"],[0.5,\"rgb(247,247,247)\"],[0.6,\"rgb(209,229,240)\"],[0.7,\"rgb(146,197,222)\"],[0.8,\"rgb(67,147,195)\"],[0.9,\"rgb(33,102,172)\"],[1.0,\"rgb(5,48,97)\"]],\"sequential\":[[0.0,\"#440154\"],[0.1111111111111111,\"#482878\"],[0.2222222222222222,\"#3e4989\"],[0.3333333333333333,\"#31688e\"],[0.4444444444444444,\"#26828e\"],[0.5555555555555556,\"#1f9e89\"],[0.6666666666666666,\"#35b779\"],[0.7777777777777778,\"#6ece58\"],[0.8888888888888888,\"#b5de2b\"],[1.0,\"#fde725\"]],\"sequentialminus\":[[0.0,\"#440154\"],[0.1111111111111111,\"#482878\"],[0.2222222222222222,\"#3e4989\"],[0.3333333333333333,\"#31688e\"],[0.4444444444444444,\"#26828e\"],[0.5555555555555556,\"#1f9e89\"],[0.6666666666666666,\"#35b779\"],[0.7777777777777778,\"#6ece58\"],[0.8888888888888888,\"#b5de2b\"],[1.0,\"#fde725\"]]},\"colorway\":[\"#1F77B4\",\"#FF7F0E\",\"#2CA02C\",\"#D62728\",\"#9467BD\",\"#8C564B\",\"#E377C2\",\"#7F7F7F\",\"#BCBD22\",\"#17BECF\"],\"font\":{\"color\":\"rgb(36,36,36)\"},\"geo\":{\"bgcolor\":\"white\",\"lakecolor\":\"white\",\"landcolor\":\"white\",\"showlakes\":true,\"showland\":true,\"subunitcolor\":\"white\"},\"hoverlabel\":{\"align\":\"left\"},\"hovermode\":\"closest\",\"mapbox\":{\"style\":\"light\"},\"paper_bgcolor\":\"white\",\"plot_bgcolor\":\"white\",\"polar\":{\"angularaxis\":{\"gridcolor\":\"rgb(232,232,232)\",\"linecolor\":\"rgb(36,36,36)\",\"showgrid\":false,\"showline\":true,\"ticks\":\"outside\"},\"bgcolor\":\"white\",\"radialaxis\":{\"gridcolor\":\"rgb(232,232,232)\",\"linecolor\":\"rgb(36,36,36)\",\"showgrid\":false,\"showline\":true,\"ticks\":\"outside\"}},\"scene\":{\"xaxis\":{\"backgroundcolor\":\"white\",\"gridcolor\":\"rgb(232,232,232)\",\"gridwidth\":2,\"linecolor\":\"rgb(36,36,36)\",\"showbackground\":true,\"showgrid\":false,\"showline\":true,\"ticks\":\"outside\",\"zeroline\":false,\"zerolinecolor\":\"rgb(36,36,36)\"},\"yaxis\":{\"backgroundcolor\":\"white\",\"gridcolor\":\"rgb(232,232,232)\",\"gridwidth\":2,\"linecolor\":\"rgb(36,36,36)\",\"showbackground\":true,\"showgrid\":false,\"showline\":true,\"ticks\":\"outside\",\"zeroline\":false,\"zerolinecolor\":\"rgb(36,36,36)\"},\"zaxis\":{\"backgroundcolor\":\"white\",\"gridcolor\":\"rgb(232,232,232)\",\"gridwidth\":2,\"linecolor\":\"rgb(36,36,36)\",\"showbackground\":true,\"showgrid\":false,\"showline\":true,\"ticks\":\"outside\",\"zeroline\":false,\"zerolinecolor\":\"rgb(36,36,36)\"}},\"shapedefaults\":{\"fillcolor\":\"black\",\"line\":{\"width\":0},\"opacity\":0.3},\"ternary\":{\"aaxis\":{\"gridcolor\":\"rgb(232,232,232)\",\"linecolor\":\"rgb(36,36,36)\",\"showgrid\":false,\"showline\":true,\"ticks\":\"outside\"},\"baxis\":{\"gridcolor\":\"rgb(232,232,232)\",\"linecolor\":\"rgb(36,36,36)\",\"showgrid\":false,\"showline\":true,\"ticks\":\"outside\"},\"bgcolor\":\"white\",\"caxis\":{\"gridcolor\":\"rgb(232,232,232)\",\"linecolor\":\"rgb(36,36,36)\",\"showgrid\":false,\"showline\":true,\"ticks\":\"outside\"}},\"title\":{\"x\":0.05},\"xaxis\":{\"automargin\":true,\"gridcolor\":\"rgb(232,232,232)\",\"linecolor\":\"rgb(36,36,36)\",\"showgrid\":false,\"showline\":true,\"ticks\":\"outside\",\"title\":{\"standoff\":15},\"zeroline\":false,\"zerolinecolor\":\"rgb(36,36,36)\"},\"yaxis\":{\"automargin\":true,\"gridcolor\":\"rgb(232,232,232)\",\"linecolor\":\"rgb(36,36,36)\",\"showgrid\":false,\"showline\":true,\"ticks\":\"outside\",\"title\":{\"standoff\":15},\"zeroline\":false,\"zerolinecolor\":\"rgb(36,36,36)\"}}},\"xaxis\":{\"anchor\":\"y\",\"domain\":[0.0,1.0],\"title\":{\"text\":\"\"},\"visible\":false,\"range\":[-19.59685869216919,21.320746612548827]},\"yaxis\":{\"anchor\":\"x\",\"domain\":[0.0,1.0],\"title\":{\"text\":\"\"},\"visible\":false,\"range\":[-2.866220986843109,18.191080379486085]},\"legend\":{\"tracegroupgap\":0,\"itemsizing\":\"constant\"},\"margin\":{\"t\":60},\"title\":{\"font\":{\"size\":22,\"color\":\"Black\"},\"text\":\"<b>Intertopic Distance Map\",\"y\":0.95,\"x\":0.5,\"xanchor\":\"center\",\"yanchor\":\"top\"},\"hoverlabel\":{\"font\":{\"size\":16,\"family\":\"Rockwell\"},\"bgcolor\":\"white\"},\"width\":800,\"height\":800,\"sliders\":[{\"active\":0,\"pad\":{\"t\":50},\"steps\":[{\"args\":[{\"marker.color\":[[\"red\",\"#B0BEC5\",\"#B0BEC5\",\"#B0BEC5\",\"#B0BEC5\",\"#B0BEC5\",\"#B0BEC5\",\"#B0BEC5\",\"#B0BEC5\",\"#B0BEC5\",\"#B0BEC5\",\"#B0BEC5\",\"#B0BEC5\",\"#B0BEC5\",\"#B0BEC5\",\"#B0BEC5\",\"#B0BEC5\",\"#B0BEC5\",\"#B0BEC5\",\"#B0BEC5\",\"#B0BEC5\",\"#B0BEC5\",\"#B0BEC5\",\"#B0BEC5\",\"#B0BEC5\",\"#B0BEC5\",\"#B0BEC5\",\"#B0BEC5\",\"#B0BEC5\",\"#B0BEC5\",\"#B0BEC5\",\"#B0BEC5\",\"#B0BEC5\",\"#B0BEC5\",\"#B0BEC5\",\"#B0BEC5\",\"#B0BEC5\",\"#B0BEC5\",\"#B0BEC5\",\"#B0BEC5\",\"#B0BEC5\",\"#B0BEC5\",\"#B0BEC5\",\"#B0BEC5\",\"#B0BEC5\",\"#B0BEC5\",\"#B0BEC5\",\"#B0BEC5\",\"#B0BEC5\",\"#B0BEC5\",\"#B0BEC5\",\"#B0BEC5\",\"#B0BEC5\",\"#B0BEC5\",\"#B0BEC5\",\"#B0BEC5\",\"#B0BEC5\",\"#B0BEC5\",\"#B0BEC5\",\"#B0BEC5\",\"#B0BEC5\",\"#B0BEC5\",\"#B0BEC5\",\"#B0BEC5\",\"#B0BEC5\",\"#B0BEC5\",\"#B0BEC5\",\"#B0BEC5\",\"#B0BEC5\",\"#B0BEC5\",\"#B0BEC5\",\"#B0BEC5\",\"#B0BEC5\",\"#B0BEC5\",\"#B0BEC5\",\"#B0BEC5\",\"#B0BEC5\",\"#B0BEC5\",\"#B0BEC5\",\"#B0BEC5\",\"#B0BEC5\",\"#B0BEC5\"]]}],\"label\":\"Topic 0\",\"method\":\"update\"},{\"args\":[{\"marker.color\":[[\"#B0BEC5\",\"red\",\"#B0BEC5\",\"#B0BEC5\",\"#B0BEC5\",\"#B0BEC5\",\"#B0BEC5\",\"#B0BEC5\",\"#B0BEC5\",\"#B0BEC5\",\"#B0BEC5\",\"#B0BEC5\",\"#B0BEC5\",\"#B0BEC5\",\"#B0BEC5\",\"#B0BEC5\",\"#B0BEC5\",\"#B0BEC5\",\"#B0BEC5\",\"#B0BEC5\",\"#B0BEC5\",\"#B0BEC5\",\"#B0BEC5\",\"#B0BEC5\",\"#B0BEC5\",\"#B0BEC5\",\"#B0BEC5\",\"#B0BEC5\",\"#B0BEC5\",\"#B0BEC5\",\"#B0BEC5\",\"#B0BEC5\",\"#B0BEC5\",\"#B0BEC5\",\"#B0BEC5\",\"#B0BEC5\",\"#B0BEC5\",\"#B0BEC5\",\"#B0BEC5\",\"#B0BEC5\",\"#B0BEC5\",\"#B0BEC5\",\"#B0BEC5\",\"#B0BEC5\",\"#B0BEC5\",\"#B0BEC5\",\"#B0BEC5\",\"#B0BEC5\",\"#B0BEC5\",\"#B0BEC5\",\"#B0BEC5\",\"#B0BEC5\",\"#B0BEC5\",\"#B0BEC5\",\"#B0BEC5\",\"#B0BEC5\",\"#B0BEC5\",\"#B0BEC5\",\"#B0BEC5\",\"#B0BEC5\",\"#B0BEC5\",\"#B0BEC5\",\"#B0BEC5\",\"#B0BEC5\",\"#B0BEC5\",\"#B0BEC5\",\"#B0BEC5\",\"#B0BEC5\",\"#B0BEC5\",\"#B0BEC5\",\"#B0BEC5\",\"#B0BEC5\",\"#B0BEC5\",\"#B0BEC5\",\"#B0BEC5\",\"#B0BEC5\",\"#B0BEC5\",\"#B0BEC5\",\"#B0BEC5\",\"#B0BEC5\",\"#B0BEC5\",\"#B0BEC5\"]]}],\"label\":\"Topic 1\",\"method\":\"update\"},{\"args\":[{\"marker.color\":[[\"#B0BEC5\",\"#B0BEC5\",\"red\",\"#B0BEC5\",\"#B0BEC5\",\"#B0BEC5\",\"#B0BEC5\",\"#B0BEC5\",\"#B0BEC5\",\"#B0BEC5\",\"#B0BEC5\",\"#B0BEC5\",\"#B0BEC5\",\"#B0BEC5\",\"#B0BEC5\",\"#B0BEC5\",\"#B0BEC5\",\"#B0BEC5\",\"#B0BEC5\",\"#B0BEC5\",\"#B0BEC5\",\"#B0BEC5\",\"#B0BEC5\",\"#B0BEC5\",\"#B0BEC5\",\"#B0BEC5\",\"#B0BEC5\",\"#B0BEC5\",\"#B0BEC5\",\"#B0BEC5\",\"#B0BEC5\",\"#B0BEC5\",\"#B0BEC5\",\"#B0BEC5\",\"#B0BEC5\",\"#B0BEC5\",\"#B0BEC5\",\"#B0BEC5\",\"#B0BEC5\",\"#B0BEC5\",\"#B0BEC5\",\"#B0BEC5\",\"#B0BEC5\",\"#B0BEC5\",\"#B0BEC5\",\"#B0BEC5\",\"#B0BEC5\",\"#B0BEC5\",\"#B0BEC5\",\"#B0BEC5\",\"#B0BEC5\",\"#B0BEC5\",\"#B0BEC5\",\"#B0BEC5\",\"#B0BEC5\",\"#B0BEC5\",\"#B0BEC5\",\"#B0BEC5\",\"#B0BEC5\",\"#B0BEC5\",\"#B0BEC5\",\"#B0BEC5\",\"#B0BEC5\",\"#B0BEC5\",\"#B0BEC5\",\"#B0BEC5\",\"#B0BEC5\",\"#B0BEC5\",\"#B0BEC5\",\"#B0BEC5\",\"#B0BEC5\",\"#B0BEC5\",\"#B0BEC5\",\"#B0BEC5\",\"#B0BEC5\",\"#B0BEC5\",\"#B0BEC5\",\"#B0BEC5\",\"#B0BEC5\",\"#B0BEC5\",\"#B0BEC5\",\"#B0BEC5\"]]}],\"label\":\"Topic 2\",\"method\":\"update\"},{\"args\":[{\"marker.color\":[[\"#B0BEC5\",\"#B0BEC5\",\"#B0BEC5\",\"red\",\"#B0BEC5\",\"#B0BEC5\",\"#B0BEC5\",\"#B0BEC5\",\"#B0BEC5\",\"#B0BEC5\",\"#B0BEC5\",\"#B0BEC5\",\"#B0BEC5\",\"#B0BEC5\",\"#B0BEC5\",\"#B0BEC5\",\"#B0BEC5\",\"#B0BEC5\",\"#B0BEC5\",\"#B0BEC5\",\"#B0BEC5\",\"#B0BEC5\",\"#B0BEC5\",\"#B0BEC5\",\"#B0BEC5\",\"#B0BEC5\",\"#B0BEC5\",\"#B0BEC5\",\"#B0BEC5\",\"#B0BEC5\",\"#B0BEC5\",\"#B0BEC5\",\"#B0BEC5\",\"#B0BEC5\",\"#B0BEC5\",\"#B0BEC5\",\"#B0BEC5\",\"#B0BEC5\",\"#B0BEC5\",\"#B0BEC5\",\"#B0BEC5\",\"#B0BEC5\",\"#B0BEC5\",\"#B0BEC5\",\"#B0BEC5\",\"#B0BEC5\",\"#B0BEC5\",\"#B0BEC5\",\"#B0BEC5\",\"#B0BEC5\",\"#B0BEC5\",\"#B0BEC5\",\"#B0BEC5\",\"#B0BEC5\",\"#B0BEC5\",\"#B0BEC5\",\"#B0BEC5\",\"#B0BEC5\",\"#B0BEC5\",\"#B0BEC5\",\"#B0BEC5\",\"#B0BEC5\",\"#B0BEC5\",\"#B0BEC5\",\"#B0BEC5\",\"#B0BEC5\",\"#B0BEC5\",\"#B0BEC5\",\"#B0BEC5\",\"#B0BEC5\",\"#B0BEC5\",\"#B0BEC5\",\"#B0BEC5\",\"#B0BEC5\",\"#B0BEC5\",\"#B0BEC5\",\"#B0BEC5\",\"#B0BEC5\",\"#B0BEC5\",\"#B0BEC5\",\"#B0BEC5\",\"#B0BEC5\"]]}],\"label\":\"Topic 3\",\"method\":\"update\"},{\"args\":[{\"marker.color\":[[\"#B0BEC5\",\"#B0BEC5\",\"#B0BEC5\",\"#B0BEC5\",\"red\",\"#B0BEC5\",\"#B0BEC5\",\"#B0BEC5\",\"#B0BEC5\",\"#B0BEC5\",\"#B0BEC5\",\"#B0BEC5\",\"#B0BEC5\",\"#B0BEC5\",\"#B0BEC5\",\"#B0BEC5\",\"#B0BEC5\",\"#B0BEC5\",\"#B0BEC5\",\"#B0BEC5\",\"#B0BEC5\",\"#B0BEC5\",\"#B0BEC5\",\"#B0BEC5\",\"#B0BEC5\",\"#B0BEC5\",\"#B0BEC5\",\"#B0BEC5\",\"#B0BEC5\",\"#B0BEC5\",\"#B0BEC5\",\"#B0BEC5\",\"#B0BEC5\",\"#B0BEC5\",\"#B0BEC5\",\"#B0BEC5\",\"#B0BEC5\",\"#B0BEC5\",\"#B0BEC5\",\"#B0BEC5\",\"#B0BEC5\",\"#B0BEC5\",\"#B0BEC5\",\"#B0BEC5\",\"#B0BEC5\",\"#B0BEC5\",\"#B0BEC5\",\"#B0BEC5\",\"#B0BEC5\",\"#B0BEC5\",\"#B0BEC5\",\"#B0BEC5\",\"#B0BEC5\",\"#B0BEC5\",\"#B0BEC5\",\"#B0BEC5\",\"#B0BEC5\",\"#B0BEC5\",\"#B0BEC5\",\"#B0BEC5\",\"#B0BEC5\",\"#B0BEC5\",\"#B0BEC5\",\"#B0BEC5\",\"#B0BEC5\",\"#B0BEC5\",\"#B0BEC5\",\"#B0BEC5\",\"#B0BEC5\",\"#B0BEC5\",\"#B0BEC5\",\"#B0BEC5\",\"#B0BEC5\",\"#B0BEC5\",\"#B0BEC5\",\"#B0BEC5\",\"#B0BEC5\",\"#B0BEC5\",\"#B0BEC5\",\"#B0BEC5\",\"#B0BEC5\",\"#B0BEC5\"]]}],\"label\":\"Topic 4\",\"method\":\"update\"},{\"args\":[{\"marker.color\":[[\"#B0BEC5\",\"#B0BEC5\",\"#B0BEC5\",\"#B0BEC5\",\"#B0BEC5\",\"red\",\"#B0BEC5\",\"#B0BEC5\",\"#B0BEC5\",\"#B0BEC5\",\"#B0BEC5\",\"#B0BEC5\",\"#B0BEC5\",\"#B0BEC5\",\"#B0BEC5\",\"#B0BEC5\",\"#B0BEC5\",\"#B0BEC5\",\"#B0BEC5\",\"#B0BEC5\",\"#B0BEC5\",\"#B0BEC5\",\"#B0BEC5\",\"#B0BEC5\",\"#B0BEC5\",\"#B0BEC5\",\"#B0BEC5\",\"#B0BEC5\",\"#B0BEC5\",\"#B0BEC5\",\"#B0BEC5\",\"#B0BEC5\",\"#B0BEC5\",\"#B0BEC5\",\"#B0BEC5\",\"#B0BEC5\",\"#B0BEC5\",\"#B0BEC5\",\"#B0BEC5\",\"#B0BEC5\",\"#B0BEC5\",\"#B0BEC5\",\"#B0BEC5\",\"#B0BEC5\",\"#B0BEC5\",\"#B0BEC5\",\"#B0BEC5\",\"#B0BEC5\",\"#B0BEC5\",\"#B0BEC5\",\"#B0BEC5\",\"#B0BEC5\",\"#B0BEC5\",\"#B0BEC5\",\"#B0BEC5\",\"#B0BEC5\",\"#B0BEC5\",\"#B0BEC5\",\"#B0BEC5\",\"#B0BEC5\",\"#B0BEC5\",\"#B0BEC5\",\"#B0BEC5\",\"#B0BEC5\",\"#B0BEC5\",\"#B0BEC5\",\"#B0BEC5\",\"#B0BEC5\",\"#B0BEC5\",\"#B0BEC5\",\"#B0BEC5\",\"#B0BEC5\",\"#B0BEC5\",\"#B0BEC5\",\"#B0BEC5\",\"#B0BEC5\",\"#B0BEC5\",\"#B0BEC5\",\"#B0BEC5\",\"#B0BEC5\",\"#B0BEC5\",\"#B0BEC5\"]]}],\"label\":\"Topic 5\",\"method\":\"update\"},{\"args\":[{\"marker.color\":[[\"#B0BEC5\",\"#B0BEC5\",\"#B0BEC5\",\"#B0BEC5\",\"#B0BEC5\",\"#B0BEC5\",\"red\",\"#B0BEC5\",\"#B0BEC5\",\"#B0BEC5\",\"#B0BEC5\",\"#B0BEC5\",\"#B0BEC5\",\"#B0BEC5\",\"#B0BEC5\",\"#B0BEC5\",\"#B0BEC5\",\"#B0BEC5\",\"#B0BEC5\",\"#B0BEC5\",\"#B0BEC5\",\"#B0BEC5\",\"#B0BEC5\",\"#B0BEC5\",\"#B0BEC5\",\"#B0BEC5\",\"#B0BEC5\",\"#B0BEC5\",\"#B0BEC5\",\"#B0BEC5\",\"#B0BEC5\",\"#B0BEC5\",\"#B0BEC5\",\"#B0BEC5\",\"#B0BEC5\",\"#B0BEC5\",\"#B0BEC5\",\"#B0BEC5\",\"#B0BEC5\",\"#B0BEC5\",\"#B0BEC5\",\"#B0BEC5\",\"#B0BEC5\",\"#B0BEC5\",\"#B0BEC5\",\"#B0BEC5\",\"#B0BEC5\",\"#B0BEC5\",\"#B0BEC5\",\"#B0BEC5\",\"#B0BEC5\",\"#B0BEC5\",\"#B0BEC5\",\"#B0BEC5\",\"#B0BEC5\",\"#B0BEC5\",\"#B0BEC5\",\"#B0BEC5\",\"#B0BEC5\",\"#B0BEC5\",\"#B0BEC5\",\"#B0BEC5\",\"#B0BEC5\",\"#B0BEC5\",\"#B0BEC5\",\"#B0BEC5\",\"#B0BEC5\",\"#B0BEC5\",\"#B0BEC5\",\"#B0BEC5\",\"#B0BEC5\",\"#B0BEC5\",\"#B0BEC5\",\"#B0BEC5\",\"#B0BEC5\",\"#B0BEC5\",\"#B0BEC5\",\"#B0BEC5\",\"#B0BEC5\",\"#B0BEC5\",\"#B0BEC5\",\"#B0BEC5\"]]}],\"label\":\"Topic 6\",\"method\":\"update\"},{\"args\":[{\"marker.color\":[[\"#B0BEC5\",\"#B0BEC5\",\"#B0BEC5\",\"#B0BEC5\",\"#B0BEC5\",\"#B0BEC5\",\"#B0BEC5\",\"red\",\"#B0BEC5\",\"#B0BEC5\",\"#B0BEC5\",\"#B0BEC5\",\"#B0BEC5\",\"#B0BEC5\",\"#B0BEC5\",\"#B0BEC5\",\"#B0BEC5\",\"#B0BEC5\",\"#B0BEC5\",\"#B0BEC5\",\"#B0BEC5\",\"#B0BEC5\",\"#B0BEC5\",\"#B0BEC5\",\"#B0BEC5\",\"#B0BEC5\",\"#B0BEC5\",\"#B0BEC5\",\"#B0BEC5\",\"#B0BEC5\",\"#B0BEC5\",\"#B0BEC5\",\"#B0BEC5\",\"#B0BEC5\",\"#B0BEC5\",\"#B0BEC5\",\"#B0BEC5\",\"#B0BEC5\",\"#B0BEC5\",\"#B0BEC5\",\"#B0BEC5\",\"#B0BEC5\",\"#B0BEC5\",\"#B0BEC5\",\"#B0BEC5\",\"#B0BEC5\",\"#B0BEC5\",\"#B0BEC5\",\"#B0BEC5\",\"#B0BEC5\",\"#B0BEC5\",\"#B0BEC5\",\"#B0BEC5\",\"#B0BEC5\",\"#B0BEC5\",\"#B0BEC5\",\"#B0BEC5\",\"#B0BEC5\",\"#B0BEC5\",\"#B0BEC5\",\"#B0BEC5\",\"#B0BEC5\",\"#B0BEC5\",\"#B0BEC5\",\"#B0BEC5\",\"#B0BEC5\",\"#B0BEC5\",\"#B0BEC5\",\"#B0BEC5\",\"#B0BEC5\",\"#B0BEC5\",\"#B0BEC5\",\"#B0BEC5\",\"#B0BEC5\",\"#B0BEC5\",\"#B0BEC5\",\"#B0BEC5\",\"#B0BEC5\",\"#B0BEC5\",\"#B0BEC5\",\"#B0BEC5\",\"#B0BEC5\"]]}],\"label\":\"Topic 7\",\"method\":\"update\"},{\"args\":[{\"marker.color\":[[\"#B0BEC5\",\"#B0BEC5\",\"#B0BEC5\",\"#B0BEC5\",\"#B0BEC5\",\"#B0BEC5\",\"#B0BEC5\",\"#B0BEC5\",\"red\",\"#B0BEC5\",\"#B0BEC5\",\"#B0BEC5\",\"#B0BEC5\",\"#B0BEC5\",\"#B0BEC5\",\"#B0BEC5\",\"#B0BEC5\",\"#B0BEC5\",\"#B0BEC5\",\"#B0BEC5\",\"#B0BEC5\",\"#B0BEC5\",\"#B0BEC5\",\"#B0BEC5\",\"#B0BEC5\",\"#B0BEC5\",\"#B0BEC5\",\"#B0BEC5\",\"#B0BEC5\",\"#B0BEC5\",\"#B0BEC5\",\"#B0BEC5\",\"#B0BEC5\",\"#B0BEC5\",\"#B0BEC5\",\"#B0BEC5\",\"#B0BEC5\",\"#B0BEC5\",\"#B0BEC5\",\"#B0BEC5\",\"#B0BEC5\",\"#B0BEC5\",\"#B0BEC5\",\"#B0BEC5\",\"#B0BEC5\",\"#B0BEC5\",\"#B0BEC5\",\"#B0BEC5\",\"#B0BEC5\",\"#B0BEC5\",\"#B0BEC5\",\"#B0BEC5\",\"#B0BEC5\",\"#B0BEC5\",\"#B0BEC5\",\"#B0BEC5\",\"#B0BEC5\",\"#B0BEC5\",\"#B0BEC5\",\"#B0BEC5\",\"#B0BEC5\",\"#B0BEC5\",\"#B0BEC5\",\"#B0BEC5\",\"#B0BEC5\",\"#B0BEC5\",\"#B0BEC5\",\"#B0BEC5\",\"#B0BEC5\",\"#B0BEC5\",\"#B0BEC5\",\"#B0BEC5\",\"#B0BEC5\",\"#B0BEC5\",\"#B0BEC5\",\"#B0BEC5\",\"#B0BEC5\",\"#B0BEC5\",\"#B0BEC5\",\"#B0BEC5\",\"#B0BEC5\",\"#B0BEC5\"]]}],\"label\":\"Topic 8\",\"method\":\"update\"},{\"args\":[{\"marker.color\":[[\"#B0BEC5\",\"#B0BEC5\",\"#B0BEC5\",\"#B0BEC5\",\"#B0BEC5\",\"#B0BEC5\",\"#B0BEC5\",\"#B0BEC5\",\"#B0BEC5\",\"red\",\"#B0BEC5\",\"#B0BEC5\",\"#B0BEC5\",\"#B0BEC5\",\"#B0BEC5\",\"#B0BEC5\",\"#B0BEC5\",\"#B0BEC5\",\"#B0BEC5\",\"#B0BEC5\",\"#B0BEC5\",\"#B0BEC5\",\"#B0BEC5\",\"#B0BEC5\",\"#B0BEC5\",\"#B0BEC5\",\"#B0BEC5\",\"#B0BEC5\",\"#B0BEC5\",\"#B0BEC5\",\"#B0BEC5\",\"#B0BEC5\",\"#B0BEC5\",\"#B0BEC5\",\"#B0BEC5\",\"#B0BEC5\",\"#B0BEC5\",\"#B0BEC5\",\"#B0BEC5\",\"#B0BEC5\",\"#B0BEC5\",\"#B0BEC5\",\"#B0BEC5\",\"#B0BEC5\",\"#B0BEC5\",\"#B0BEC5\",\"#B0BEC5\",\"#B0BEC5\",\"#B0BEC5\",\"#B0BEC5\",\"#B0BEC5\",\"#B0BEC5\",\"#B0BEC5\",\"#B0BEC5\",\"#B0BEC5\",\"#B0BEC5\",\"#B0BEC5\",\"#B0BEC5\",\"#B0BEC5\",\"#B0BEC5\",\"#B0BEC5\",\"#B0BEC5\",\"#B0BEC5\",\"#B0BEC5\",\"#B0BEC5\",\"#B0BEC5\",\"#B0BEC5\",\"#B0BEC5\",\"#B0BEC5\",\"#B0BEC5\",\"#B0BEC5\",\"#B0BEC5\",\"#B0BEC5\",\"#B0BEC5\",\"#B0BEC5\",\"#B0BEC5\",\"#B0BEC5\",\"#B0BEC5\",\"#B0BEC5\",\"#B0BEC5\",\"#B0BEC5\",\"#B0BEC5\"]]}],\"label\":\"Topic 9\",\"method\":\"update\"},{\"args\":[{\"marker.color\":[[\"#B0BEC5\",\"#B0BEC5\",\"#B0BEC5\",\"#B0BEC5\",\"#B0BEC5\",\"#B0BEC5\",\"#B0BEC5\",\"#B0BEC5\",\"#B0BEC5\",\"#B0BEC5\",\"red\",\"#B0BEC5\",\"#B0BEC5\",\"#B0BEC5\",\"#B0BEC5\",\"#B0BEC5\",\"#B0BEC5\",\"#B0BEC5\",\"#B0BEC5\",\"#B0BEC5\",\"#B0BEC5\",\"#B0BEC5\",\"#B0BEC5\",\"#B0BEC5\",\"#B0BEC5\",\"#B0BEC5\",\"#B0BEC5\",\"#B0BEC5\",\"#B0BEC5\",\"#B0BEC5\",\"#B0BEC5\",\"#B0BEC5\",\"#B0BEC5\",\"#B0BEC5\",\"#B0BEC5\",\"#B0BEC5\",\"#B0BEC5\",\"#B0BEC5\",\"#B0BEC5\",\"#B0BEC5\",\"#B0BEC5\",\"#B0BEC5\",\"#B0BEC5\",\"#B0BEC5\",\"#B0BEC5\",\"#B0BEC5\",\"#B0BEC5\",\"#B0BEC5\",\"#B0BEC5\",\"#B0BEC5\",\"#B0BEC5\",\"#B0BEC5\",\"#B0BEC5\",\"#B0BEC5\",\"#B0BEC5\",\"#B0BEC5\",\"#B0BEC5\",\"#B0BEC5\",\"#B0BEC5\",\"#B0BEC5\",\"#B0BEC5\",\"#B0BEC5\",\"#B0BEC5\",\"#B0BEC5\",\"#B0BEC5\",\"#B0BEC5\",\"#B0BEC5\",\"#B0BEC5\",\"#B0BEC5\",\"#B0BEC5\",\"#B0BEC5\",\"#B0BEC5\",\"#B0BEC5\",\"#B0BEC5\",\"#B0BEC5\",\"#B0BEC5\",\"#B0BEC5\",\"#B0BEC5\",\"#B0BEC5\",\"#B0BEC5\",\"#B0BEC5\",\"#B0BEC5\"]]}],\"label\":\"Topic 10\",\"method\":\"update\"},{\"args\":[{\"marker.color\":[[\"#B0BEC5\",\"#B0BEC5\",\"#B0BEC5\",\"#B0BEC5\",\"#B0BEC5\",\"#B0BEC5\",\"#B0BEC5\",\"#B0BEC5\",\"#B0BEC5\",\"#B0BEC5\",\"#B0BEC5\",\"red\",\"#B0BEC5\",\"#B0BEC5\",\"#B0BEC5\",\"#B0BEC5\",\"#B0BEC5\",\"#B0BEC5\",\"#B0BEC5\",\"#B0BEC5\",\"#B0BEC5\",\"#B0BEC5\",\"#B0BEC5\",\"#B0BEC5\",\"#B0BEC5\",\"#B0BEC5\",\"#B0BEC5\",\"#B0BEC5\",\"#B0BEC5\",\"#B0BEC5\",\"#B0BEC5\",\"#B0BEC5\",\"#B0BEC5\",\"#B0BEC5\",\"#B0BEC5\",\"#B0BEC5\",\"#B0BEC5\",\"#B0BEC5\",\"#B0BEC5\",\"#B0BEC5\",\"#B0BEC5\",\"#B0BEC5\",\"#B0BEC5\",\"#B0BEC5\",\"#B0BEC5\",\"#B0BEC5\",\"#B0BEC5\",\"#B0BEC5\",\"#B0BEC5\",\"#B0BEC5\",\"#B0BEC5\",\"#B0BEC5\",\"#B0BEC5\",\"#B0BEC5\",\"#B0BEC5\",\"#B0BEC5\",\"#B0BEC5\",\"#B0BEC5\",\"#B0BEC5\",\"#B0BEC5\",\"#B0BEC5\",\"#B0BEC5\",\"#B0BEC5\",\"#B0BEC5\",\"#B0BEC5\",\"#B0BEC5\",\"#B0BEC5\",\"#B0BEC5\",\"#B0BEC5\",\"#B0BEC5\",\"#B0BEC5\",\"#B0BEC5\",\"#B0BEC5\",\"#B0BEC5\",\"#B0BEC5\",\"#B0BEC5\",\"#B0BEC5\",\"#B0BEC5\",\"#B0BEC5\",\"#B0BEC5\",\"#B0BEC5\",\"#B0BEC5\"]]}],\"label\":\"Topic 11\",\"method\":\"update\"},{\"args\":[{\"marker.color\":[[\"#B0BEC5\",\"#B0BEC5\",\"#B0BEC5\",\"#B0BEC5\",\"#B0BEC5\",\"#B0BEC5\",\"#B0BEC5\",\"#B0BEC5\",\"#B0BEC5\",\"#B0BEC5\",\"#B0BEC5\",\"#B0BEC5\",\"red\",\"#B0BEC5\",\"#B0BEC5\",\"#B0BEC5\",\"#B0BEC5\",\"#B0BEC5\",\"#B0BEC5\",\"#B0BEC5\",\"#B0BEC5\",\"#B0BEC5\",\"#B0BEC5\",\"#B0BEC5\",\"#B0BEC5\",\"#B0BEC5\",\"#B0BEC5\",\"#B0BEC5\",\"#B0BEC5\",\"#B0BEC5\",\"#B0BEC5\",\"#B0BEC5\",\"#B0BEC5\",\"#B0BEC5\",\"#B0BEC5\",\"#B0BEC5\",\"#B0BEC5\",\"#B0BEC5\",\"#B0BEC5\",\"#B0BEC5\",\"#B0BEC5\",\"#B0BEC5\",\"#B0BEC5\",\"#B0BEC5\",\"#B0BEC5\",\"#B0BEC5\",\"#B0BEC5\",\"#B0BEC5\",\"#B0BEC5\",\"#B0BEC5\",\"#B0BEC5\",\"#B0BEC5\",\"#B0BEC5\",\"#B0BEC5\",\"#B0BEC5\",\"#B0BEC5\",\"#B0BEC5\",\"#B0BEC5\",\"#B0BEC5\",\"#B0BEC5\",\"#B0BEC5\",\"#B0BEC5\",\"#B0BEC5\",\"#B0BEC5\",\"#B0BEC5\",\"#B0BEC5\",\"#B0BEC5\",\"#B0BEC5\",\"#B0BEC5\",\"#B0BEC5\",\"#B0BEC5\",\"#B0BEC5\",\"#B0BEC5\",\"#B0BEC5\",\"#B0BEC5\",\"#B0BEC5\",\"#B0BEC5\",\"#B0BEC5\",\"#B0BEC5\",\"#B0BEC5\",\"#B0BEC5\",\"#B0BEC5\"]]}],\"label\":\"Topic 12\",\"method\":\"update\"},{\"args\":[{\"marker.color\":[[\"#B0BEC5\",\"#B0BEC5\",\"#B0BEC5\",\"#B0BEC5\",\"#B0BEC5\",\"#B0BEC5\",\"#B0BEC5\",\"#B0BEC5\",\"#B0BEC5\",\"#B0BEC5\",\"#B0BEC5\",\"#B0BEC5\",\"#B0BEC5\",\"red\",\"#B0BEC5\",\"#B0BEC5\",\"#B0BEC5\",\"#B0BEC5\",\"#B0BEC5\",\"#B0BEC5\",\"#B0BEC5\",\"#B0BEC5\",\"#B0BEC5\",\"#B0BEC5\",\"#B0BEC5\",\"#B0BEC5\",\"#B0BEC5\",\"#B0BEC5\",\"#B0BEC5\",\"#B0BEC5\",\"#B0BEC5\",\"#B0BEC5\",\"#B0BEC5\",\"#B0BEC5\",\"#B0BEC5\",\"#B0BEC5\",\"#B0BEC5\",\"#B0BEC5\",\"#B0BEC5\",\"#B0BEC5\",\"#B0BEC5\",\"#B0BEC5\",\"#B0BEC5\",\"#B0BEC5\",\"#B0BEC5\",\"#B0BEC5\",\"#B0BEC5\",\"#B0BEC5\",\"#B0BEC5\",\"#B0BEC5\",\"#B0BEC5\",\"#B0BEC5\",\"#B0BEC5\",\"#B0BEC5\",\"#B0BEC5\",\"#B0BEC5\",\"#B0BEC5\",\"#B0BEC5\",\"#B0BEC5\",\"#B0BEC5\",\"#B0BEC5\",\"#B0BEC5\",\"#B0BEC5\",\"#B0BEC5\",\"#B0BEC5\",\"#B0BEC5\",\"#B0BEC5\",\"#B0BEC5\",\"#B0BEC5\",\"#B0BEC5\",\"#B0BEC5\",\"#B0BEC5\",\"#B0BEC5\",\"#B0BEC5\",\"#B0BEC5\",\"#B0BEC5\",\"#B0BEC5\",\"#B0BEC5\",\"#B0BEC5\",\"#B0BEC5\",\"#B0BEC5\",\"#B0BEC5\"]]}],\"label\":\"Topic 13\",\"method\":\"update\"},{\"args\":[{\"marker.color\":[[\"#B0BEC5\",\"#B0BEC5\",\"#B0BEC5\",\"#B0BEC5\",\"#B0BEC5\",\"#B0BEC5\",\"#B0BEC5\",\"#B0BEC5\",\"#B0BEC5\",\"#B0BEC5\",\"#B0BEC5\",\"#B0BEC5\",\"#B0BEC5\",\"#B0BEC5\",\"red\",\"#B0BEC5\",\"#B0BEC5\",\"#B0BEC5\",\"#B0BEC5\",\"#B0BEC5\",\"#B0BEC5\",\"#B0BEC5\",\"#B0BEC5\",\"#B0BEC5\",\"#B0BEC5\",\"#B0BEC5\",\"#B0BEC5\",\"#B0BEC5\",\"#B0BEC5\",\"#B0BEC5\",\"#B0BEC5\",\"#B0BEC5\",\"#B0BEC5\",\"#B0BEC5\",\"#B0BEC5\",\"#B0BEC5\",\"#B0BEC5\",\"#B0BEC5\",\"#B0BEC5\",\"#B0BEC5\",\"#B0BEC5\",\"#B0BEC5\",\"#B0BEC5\",\"#B0BEC5\",\"#B0BEC5\",\"#B0BEC5\",\"#B0BEC5\",\"#B0BEC5\",\"#B0BEC5\",\"#B0BEC5\",\"#B0BEC5\",\"#B0BEC5\",\"#B0BEC5\",\"#B0BEC5\",\"#B0BEC5\",\"#B0BEC5\",\"#B0BEC5\",\"#B0BEC5\",\"#B0BEC5\",\"#B0BEC5\",\"#B0BEC5\",\"#B0BEC5\",\"#B0BEC5\",\"#B0BEC5\",\"#B0BEC5\",\"#B0BEC5\",\"#B0BEC5\",\"#B0BEC5\",\"#B0BEC5\",\"#B0BEC5\",\"#B0BEC5\",\"#B0BEC5\",\"#B0BEC5\",\"#B0BEC5\",\"#B0BEC5\",\"#B0BEC5\",\"#B0BEC5\",\"#B0BEC5\",\"#B0BEC5\",\"#B0BEC5\",\"#B0BEC5\",\"#B0BEC5\"]]}],\"label\":\"Topic 14\",\"method\":\"update\"},{\"args\":[{\"marker.color\":[[\"#B0BEC5\",\"#B0BEC5\",\"#B0BEC5\",\"#B0BEC5\",\"#B0BEC5\",\"#B0BEC5\",\"#B0BEC5\",\"#B0BEC5\",\"#B0BEC5\",\"#B0BEC5\",\"#B0BEC5\",\"#B0BEC5\",\"#B0BEC5\",\"#B0BEC5\",\"#B0BEC5\",\"red\",\"#B0BEC5\",\"#B0BEC5\",\"#B0BEC5\",\"#B0BEC5\",\"#B0BEC5\",\"#B0BEC5\",\"#B0BEC5\",\"#B0BEC5\",\"#B0BEC5\",\"#B0BEC5\",\"#B0BEC5\",\"#B0BEC5\",\"#B0BEC5\",\"#B0BEC5\",\"#B0BEC5\",\"#B0BEC5\",\"#B0BEC5\",\"#B0BEC5\",\"#B0BEC5\",\"#B0BEC5\",\"#B0BEC5\",\"#B0BEC5\",\"#B0BEC5\",\"#B0BEC5\",\"#B0BEC5\",\"#B0BEC5\",\"#B0BEC5\",\"#B0BEC5\",\"#B0BEC5\",\"#B0BEC5\",\"#B0BEC5\",\"#B0BEC5\",\"#B0BEC5\",\"#B0BEC5\",\"#B0BEC5\",\"#B0BEC5\",\"#B0BEC5\",\"#B0BEC5\",\"#B0BEC5\",\"#B0BEC5\",\"#B0BEC5\",\"#B0BEC5\",\"#B0BEC5\",\"#B0BEC5\",\"#B0BEC5\",\"#B0BEC5\",\"#B0BEC5\",\"#B0BEC5\",\"#B0BEC5\",\"#B0BEC5\",\"#B0BEC5\",\"#B0BEC5\",\"#B0BEC5\",\"#B0BEC5\",\"#B0BEC5\",\"#B0BEC5\",\"#B0BEC5\",\"#B0BEC5\",\"#B0BEC5\",\"#B0BEC5\",\"#B0BEC5\",\"#B0BEC5\",\"#B0BEC5\",\"#B0BEC5\",\"#B0BEC5\",\"#B0BEC5\"]]}],\"label\":\"Topic 15\",\"method\":\"update\"},{\"args\":[{\"marker.color\":[[\"#B0BEC5\",\"#B0BEC5\",\"#B0BEC5\",\"#B0BEC5\",\"#B0BEC5\",\"#B0BEC5\",\"#B0BEC5\",\"#B0BEC5\",\"#B0BEC5\",\"#B0BEC5\",\"#B0BEC5\",\"#B0BEC5\",\"#B0BEC5\",\"#B0BEC5\",\"#B0BEC5\",\"#B0BEC5\",\"red\",\"#B0BEC5\",\"#B0BEC5\",\"#B0BEC5\",\"#B0BEC5\",\"#B0BEC5\",\"#B0BEC5\",\"#B0BEC5\",\"#B0BEC5\",\"#B0BEC5\",\"#B0BEC5\",\"#B0BEC5\",\"#B0BEC5\",\"#B0BEC5\",\"#B0BEC5\",\"#B0BEC5\",\"#B0BEC5\",\"#B0BEC5\",\"#B0BEC5\",\"#B0BEC5\",\"#B0BEC5\",\"#B0BEC5\",\"#B0BEC5\",\"#B0BEC5\",\"#B0BEC5\",\"#B0BEC5\",\"#B0BEC5\",\"#B0BEC5\",\"#B0BEC5\",\"#B0BEC5\",\"#B0BEC5\",\"#B0BEC5\",\"#B0BEC5\",\"#B0BEC5\",\"#B0BEC5\",\"#B0BEC5\",\"#B0BEC5\",\"#B0BEC5\",\"#B0BEC5\",\"#B0BEC5\",\"#B0BEC5\",\"#B0BEC5\",\"#B0BEC5\",\"#B0BEC5\",\"#B0BEC5\",\"#B0BEC5\",\"#B0BEC5\",\"#B0BEC5\",\"#B0BEC5\",\"#B0BEC5\",\"#B0BEC5\",\"#B0BEC5\",\"#B0BEC5\",\"#B0BEC5\",\"#B0BEC5\",\"#B0BEC5\",\"#B0BEC5\",\"#B0BEC5\",\"#B0BEC5\",\"#B0BEC5\",\"#B0BEC5\",\"#B0BEC5\",\"#B0BEC5\",\"#B0BEC5\",\"#B0BEC5\",\"#B0BEC5\"]]}],\"label\":\"Topic 16\",\"method\":\"update\"},{\"args\":[{\"marker.color\":[[\"#B0BEC5\",\"#B0BEC5\",\"#B0BEC5\",\"#B0BEC5\",\"#B0BEC5\",\"#B0BEC5\",\"#B0BEC5\",\"#B0BEC5\",\"#B0BEC5\",\"#B0BEC5\",\"#B0BEC5\",\"#B0BEC5\",\"#B0BEC5\",\"#B0BEC5\",\"#B0BEC5\",\"#B0BEC5\",\"#B0BEC5\",\"red\",\"#B0BEC5\",\"#B0BEC5\",\"#B0BEC5\",\"#B0BEC5\",\"#B0BEC5\",\"#B0BEC5\",\"#B0BEC5\",\"#B0BEC5\",\"#B0BEC5\",\"#B0BEC5\",\"#B0BEC5\",\"#B0BEC5\",\"#B0BEC5\",\"#B0BEC5\",\"#B0BEC5\",\"#B0BEC5\",\"#B0BEC5\",\"#B0BEC5\",\"#B0BEC5\",\"#B0BEC5\",\"#B0BEC5\",\"#B0BEC5\",\"#B0BEC5\",\"#B0BEC5\",\"#B0BEC5\",\"#B0BEC5\",\"#B0BEC5\",\"#B0BEC5\",\"#B0BEC5\",\"#B0BEC5\",\"#B0BEC5\",\"#B0BEC5\",\"#B0BEC5\",\"#B0BEC5\",\"#B0BEC5\",\"#B0BEC5\",\"#B0BEC5\",\"#B0BEC5\",\"#B0BEC5\",\"#B0BEC5\",\"#B0BEC5\",\"#B0BEC5\",\"#B0BEC5\",\"#B0BEC5\",\"#B0BEC5\",\"#B0BEC5\",\"#B0BEC5\",\"#B0BEC5\",\"#B0BEC5\",\"#B0BEC5\",\"#B0BEC5\",\"#B0BEC5\",\"#B0BEC5\",\"#B0BEC5\",\"#B0BEC5\",\"#B0BEC5\",\"#B0BEC5\",\"#B0BEC5\",\"#B0BEC5\",\"#B0BEC5\",\"#B0BEC5\",\"#B0BEC5\",\"#B0BEC5\",\"#B0BEC5\"]]}],\"label\":\"Topic 17\",\"method\":\"update\"},{\"args\":[{\"marker.color\":[[\"#B0BEC5\",\"#B0BEC5\",\"#B0BEC5\",\"#B0BEC5\",\"#B0BEC5\",\"#B0BEC5\",\"#B0BEC5\",\"#B0BEC5\",\"#B0BEC5\",\"#B0BEC5\",\"#B0BEC5\",\"#B0BEC5\",\"#B0BEC5\",\"#B0BEC5\",\"#B0BEC5\",\"#B0BEC5\",\"#B0BEC5\",\"#B0BEC5\",\"red\",\"#B0BEC5\",\"#B0BEC5\",\"#B0BEC5\",\"#B0BEC5\",\"#B0BEC5\",\"#B0BEC5\",\"#B0BEC5\",\"#B0BEC5\",\"#B0BEC5\",\"#B0BEC5\",\"#B0BEC5\",\"#B0BEC5\",\"#B0BEC5\",\"#B0BEC5\",\"#B0BEC5\",\"#B0BEC5\",\"#B0BEC5\",\"#B0BEC5\",\"#B0BEC5\",\"#B0BEC5\",\"#B0BEC5\",\"#B0BEC5\",\"#B0BEC5\",\"#B0BEC5\",\"#B0BEC5\",\"#B0BEC5\",\"#B0BEC5\",\"#B0BEC5\",\"#B0BEC5\",\"#B0BEC5\",\"#B0BEC5\",\"#B0BEC5\",\"#B0BEC5\",\"#B0BEC5\",\"#B0BEC5\",\"#B0BEC5\",\"#B0BEC5\",\"#B0BEC5\",\"#B0BEC5\",\"#B0BEC5\",\"#B0BEC5\",\"#B0BEC5\",\"#B0BEC5\",\"#B0BEC5\",\"#B0BEC5\",\"#B0BEC5\",\"#B0BEC5\",\"#B0BEC5\",\"#B0BEC5\",\"#B0BEC5\",\"#B0BEC5\",\"#B0BEC5\",\"#B0BEC5\",\"#B0BEC5\",\"#B0BEC5\",\"#B0BEC5\",\"#B0BEC5\",\"#B0BEC5\",\"#B0BEC5\",\"#B0BEC5\",\"#B0BEC5\",\"#B0BEC5\",\"#B0BEC5\"]]}],\"label\":\"Topic 18\",\"method\":\"update\"},{\"args\":[{\"marker.color\":[[\"#B0BEC5\",\"#B0BEC5\",\"#B0BEC5\",\"#B0BEC5\",\"#B0BEC5\",\"#B0BEC5\",\"#B0BEC5\",\"#B0BEC5\",\"#B0BEC5\",\"#B0BEC5\",\"#B0BEC5\",\"#B0BEC5\",\"#B0BEC5\",\"#B0BEC5\",\"#B0BEC5\",\"#B0BEC5\",\"#B0BEC5\",\"#B0BEC5\",\"#B0BEC5\",\"red\",\"#B0BEC5\",\"#B0BEC5\",\"#B0BEC5\",\"#B0BEC5\",\"#B0BEC5\",\"#B0BEC5\",\"#B0BEC5\",\"#B0BEC5\",\"#B0BEC5\",\"#B0BEC5\",\"#B0BEC5\",\"#B0BEC5\",\"#B0BEC5\",\"#B0BEC5\",\"#B0BEC5\",\"#B0BEC5\",\"#B0BEC5\",\"#B0BEC5\",\"#B0BEC5\",\"#B0BEC5\",\"#B0BEC5\",\"#B0BEC5\",\"#B0BEC5\",\"#B0BEC5\",\"#B0BEC5\",\"#B0BEC5\",\"#B0BEC5\",\"#B0BEC5\",\"#B0BEC5\",\"#B0BEC5\",\"#B0BEC5\",\"#B0BEC5\",\"#B0BEC5\",\"#B0BEC5\",\"#B0BEC5\",\"#B0BEC5\",\"#B0BEC5\",\"#B0BEC5\",\"#B0BEC5\",\"#B0BEC5\",\"#B0BEC5\",\"#B0BEC5\",\"#B0BEC5\",\"#B0BEC5\",\"#B0BEC5\",\"#B0BEC5\",\"#B0BEC5\",\"#B0BEC5\",\"#B0BEC5\",\"#B0BEC5\",\"#B0BEC5\",\"#B0BEC5\",\"#B0BEC5\",\"#B0BEC5\",\"#B0BEC5\",\"#B0BEC5\",\"#B0BEC5\",\"#B0BEC5\",\"#B0BEC5\",\"#B0BEC5\",\"#B0BEC5\",\"#B0BEC5\"]]}],\"label\":\"Topic 19\",\"method\":\"update\"},{\"args\":[{\"marker.color\":[[\"#B0BEC5\",\"#B0BEC5\",\"#B0BEC5\",\"#B0BEC5\",\"#B0BEC5\",\"#B0BEC5\",\"#B0BEC5\",\"#B0BEC5\",\"#B0BEC5\",\"#B0BEC5\",\"#B0BEC5\",\"#B0BEC5\",\"#B0BEC5\",\"#B0BEC5\",\"#B0BEC5\",\"#B0BEC5\",\"#B0BEC5\",\"#B0BEC5\",\"#B0BEC5\",\"#B0BEC5\",\"red\",\"#B0BEC5\",\"#B0BEC5\",\"#B0BEC5\",\"#B0BEC5\",\"#B0BEC5\",\"#B0BEC5\",\"#B0BEC5\",\"#B0BEC5\",\"#B0BEC5\",\"#B0BEC5\",\"#B0BEC5\",\"#B0BEC5\",\"#B0BEC5\",\"#B0BEC5\",\"#B0BEC5\",\"#B0BEC5\",\"#B0BEC5\",\"#B0BEC5\",\"#B0BEC5\",\"#B0BEC5\",\"#B0BEC5\",\"#B0BEC5\",\"#B0BEC5\",\"#B0BEC5\",\"#B0BEC5\",\"#B0BEC5\",\"#B0BEC5\",\"#B0BEC5\",\"#B0BEC5\",\"#B0BEC5\",\"#B0BEC5\",\"#B0BEC5\",\"#B0BEC5\",\"#B0BEC5\",\"#B0BEC5\",\"#B0BEC5\",\"#B0BEC5\",\"#B0BEC5\",\"#B0BEC5\",\"#B0BEC5\",\"#B0BEC5\",\"#B0BEC5\",\"#B0BEC5\",\"#B0BEC5\",\"#B0BEC5\",\"#B0BEC5\",\"#B0BEC5\",\"#B0BEC5\",\"#B0BEC5\",\"#B0BEC5\",\"#B0BEC5\",\"#B0BEC5\",\"#B0BEC5\",\"#B0BEC5\",\"#B0BEC5\",\"#B0BEC5\",\"#B0BEC5\",\"#B0BEC5\",\"#B0BEC5\",\"#B0BEC5\",\"#B0BEC5\"]]}],\"label\":\"Topic 20\",\"method\":\"update\"},{\"args\":[{\"marker.color\":[[\"#B0BEC5\",\"#B0BEC5\",\"#B0BEC5\",\"#B0BEC5\",\"#B0BEC5\",\"#B0BEC5\",\"#B0BEC5\",\"#B0BEC5\",\"#B0BEC5\",\"#B0BEC5\",\"#B0BEC5\",\"#B0BEC5\",\"#B0BEC5\",\"#B0BEC5\",\"#B0BEC5\",\"#B0BEC5\",\"#B0BEC5\",\"#B0BEC5\",\"#B0BEC5\",\"#B0BEC5\",\"#B0BEC5\",\"red\",\"#B0BEC5\",\"#B0BEC5\",\"#B0BEC5\",\"#B0BEC5\",\"#B0BEC5\",\"#B0BEC5\",\"#B0BEC5\",\"#B0BEC5\",\"#B0BEC5\",\"#B0BEC5\",\"#B0BEC5\",\"#B0BEC5\",\"#B0BEC5\",\"#B0BEC5\",\"#B0BEC5\",\"#B0BEC5\",\"#B0BEC5\",\"#B0BEC5\",\"#B0BEC5\",\"#B0BEC5\",\"#B0BEC5\",\"#B0BEC5\",\"#B0BEC5\",\"#B0BEC5\",\"#B0BEC5\",\"#B0BEC5\",\"#B0BEC5\",\"#B0BEC5\",\"#B0BEC5\",\"#B0BEC5\",\"#B0BEC5\",\"#B0BEC5\",\"#B0BEC5\",\"#B0BEC5\",\"#B0BEC5\",\"#B0BEC5\",\"#B0BEC5\",\"#B0BEC5\",\"#B0BEC5\",\"#B0BEC5\",\"#B0BEC5\",\"#B0BEC5\",\"#B0BEC5\",\"#B0BEC5\",\"#B0BEC5\",\"#B0BEC5\",\"#B0BEC5\",\"#B0BEC5\",\"#B0BEC5\",\"#B0BEC5\",\"#B0BEC5\",\"#B0BEC5\",\"#B0BEC5\",\"#B0BEC5\",\"#B0BEC5\",\"#B0BEC5\",\"#B0BEC5\",\"#B0BEC5\",\"#B0BEC5\",\"#B0BEC5\"]]}],\"label\":\"Topic 21\",\"method\":\"update\"},{\"args\":[{\"marker.color\":[[\"#B0BEC5\",\"#B0BEC5\",\"#B0BEC5\",\"#B0BEC5\",\"#B0BEC5\",\"#B0BEC5\",\"#B0BEC5\",\"#B0BEC5\",\"#B0BEC5\",\"#B0BEC5\",\"#B0BEC5\",\"#B0BEC5\",\"#B0BEC5\",\"#B0BEC5\",\"#B0BEC5\",\"#B0BEC5\",\"#B0BEC5\",\"#B0BEC5\",\"#B0BEC5\",\"#B0BEC5\",\"#B0BEC5\",\"#B0BEC5\",\"red\",\"#B0BEC5\",\"#B0BEC5\",\"#B0BEC5\",\"#B0BEC5\",\"#B0BEC5\",\"#B0BEC5\",\"#B0BEC5\",\"#B0BEC5\",\"#B0BEC5\",\"#B0BEC5\",\"#B0BEC5\",\"#B0BEC5\",\"#B0BEC5\",\"#B0BEC5\",\"#B0BEC5\",\"#B0BEC5\",\"#B0BEC5\",\"#B0BEC5\",\"#B0BEC5\",\"#B0BEC5\",\"#B0BEC5\",\"#B0BEC5\",\"#B0BEC5\",\"#B0BEC5\",\"#B0BEC5\",\"#B0BEC5\",\"#B0BEC5\",\"#B0BEC5\",\"#B0BEC5\",\"#B0BEC5\",\"#B0BEC5\",\"#B0BEC5\",\"#B0BEC5\",\"#B0BEC5\",\"#B0BEC5\",\"#B0BEC5\",\"#B0BEC5\",\"#B0BEC5\",\"#B0BEC5\",\"#B0BEC5\",\"#B0BEC5\",\"#B0BEC5\",\"#B0BEC5\",\"#B0BEC5\",\"#B0BEC5\",\"#B0BEC5\",\"#B0BEC5\",\"#B0BEC5\",\"#B0BEC5\",\"#B0BEC5\",\"#B0BEC5\",\"#B0BEC5\",\"#B0BEC5\",\"#B0BEC5\",\"#B0BEC5\",\"#B0BEC5\",\"#B0BEC5\",\"#B0BEC5\",\"#B0BEC5\"]]}],\"label\":\"Topic 22\",\"method\":\"update\"},{\"args\":[{\"marker.color\":[[\"#B0BEC5\",\"#B0BEC5\",\"#B0BEC5\",\"#B0BEC5\",\"#B0BEC5\",\"#B0BEC5\",\"#B0BEC5\",\"#B0BEC5\",\"#B0BEC5\",\"#B0BEC5\",\"#B0BEC5\",\"#B0BEC5\",\"#B0BEC5\",\"#B0BEC5\",\"#B0BEC5\",\"#B0BEC5\",\"#B0BEC5\",\"#B0BEC5\",\"#B0BEC5\",\"#B0BEC5\",\"#B0BEC5\",\"#B0BEC5\",\"#B0BEC5\",\"red\",\"#B0BEC5\",\"#B0BEC5\",\"#B0BEC5\",\"#B0BEC5\",\"#B0BEC5\",\"#B0BEC5\",\"#B0BEC5\",\"#B0BEC5\",\"#B0BEC5\",\"#B0BEC5\",\"#B0BEC5\",\"#B0BEC5\",\"#B0BEC5\",\"#B0BEC5\",\"#B0BEC5\",\"#B0BEC5\",\"#B0BEC5\",\"#B0BEC5\",\"#B0BEC5\",\"#B0BEC5\",\"#B0BEC5\",\"#B0BEC5\",\"#B0BEC5\",\"#B0BEC5\",\"#B0BEC5\",\"#B0BEC5\",\"#B0BEC5\",\"#B0BEC5\",\"#B0BEC5\",\"#B0BEC5\",\"#B0BEC5\",\"#B0BEC5\",\"#B0BEC5\",\"#B0BEC5\",\"#B0BEC5\",\"#B0BEC5\",\"#B0BEC5\",\"#B0BEC5\",\"#B0BEC5\",\"#B0BEC5\",\"#B0BEC5\",\"#B0BEC5\",\"#B0BEC5\",\"#B0BEC5\",\"#B0BEC5\",\"#B0BEC5\",\"#B0BEC5\",\"#B0BEC5\",\"#B0BEC5\",\"#B0BEC5\",\"#B0BEC5\",\"#B0BEC5\",\"#B0BEC5\",\"#B0BEC5\",\"#B0BEC5\",\"#B0BEC5\",\"#B0BEC5\",\"#B0BEC5\"]]}],\"label\":\"Topic 23\",\"method\":\"update\"},{\"args\":[{\"marker.color\":[[\"#B0BEC5\",\"#B0BEC5\",\"#B0BEC5\",\"#B0BEC5\",\"#B0BEC5\",\"#B0BEC5\",\"#B0BEC5\",\"#B0BEC5\",\"#B0BEC5\",\"#B0BEC5\",\"#B0BEC5\",\"#B0BEC5\",\"#B0BEC5\",\"#B0BEC5\",\"#B0BEC5\",\"#B0BEC5\",\"#B0BEC5\",\"#B0BEC5\",\"#B0BEC5\",\"#B0BEC5\",\"#B0BEC5\",\"#B0BEC5\",\"#B0BEC5\",\"#B0BEC5\",\"red\",\"#B0BEC5\",\"#B0BEC5\",\"#B0BEC5\",\"#B0BEC5\",\"#B0BEC5\",\"#B0BEC5\",\"#B0BEC5\",\"#B0BEC5\",\"#B0BEC5\",\"#B0BEC5\",\"#B0BEC5\",\"#B0BEC5\",\"#B0BEC5\",\"#B0BEC5\",\"#B0BEC5\",\"#B0BEC5\",\"#B0BEC5\",\"#B0BEC5\",\"#B0BEC5\",\"#B0BEC5\",\"#B0BEC5\",\"#B0BEC5\",\"#B0BEC5\",\"#B0BEC5\",\"#B0BEC5\",\"#B0BEC5\",\"#B0BEC5\",\"#B0BEC5\",\"#B0BEC5\",\"#B0BEC5\",\"#B0BEC5\",\"#B0BEC5\",\"#B0BEC5\",\"#B0BEC5\",\"#B0BEC5\",\"#B0BEC5\",\"#B0BEC5\",\"#B0BEC5\",\"#B0BEC5\",\"#B0BEC5\",\"#B0BEC5\",\"#B0BEC5\",\"#B0BEC5\",\"#B0BEC5\",\"#B0BEC5\",\"#B0BEC5\",\"#B0BEC5\",\"#B0BEC5\",\"#B0BEC5\",\"#B0BEC5\",\"#B0BEC5\",\"#B0BEC5\",\"#B0BEC5\",\"#B0BEC5\",\"#B0BEC5\",\"#B0BEC5\",\"#B0BEC5\"]]}],\"label\":\"Topic 24\",\"method\":\"update\"},{\"args\":[{\"marker.color\":[[\"#B0BEC5\",\"#B0BEC5\",\"#B0BEC5\",\"#B0BEC5\",\"#B0BEC5\",\"#B0BEC5\",\"#B0BEC5\",\"#B0BEC5\",\"#B0BEC5\",\"#B0BEC5\",\"#B0BEC5\",\"#B0BEC5\",\"#B0BEC5\",\"#B0BEC5\",\"#B0BEC5\",\"#B0BEC5\",\"#B0BEC5\",\"#B0BEC5\",\"#B0BEC5\",\"#B0BEC5\",\"#B0BEC5\",\"#B0BEC5\",\"#B0BEC5\",\"#B0BEC5\",\"#B0BEC5\",\"red\",\"#B0BEC5\",\"#B0BEC5\",\"#B0BEC5\",\"#B0BEC5\",\"#B0BEC5\",\"#B0BEC5\",\"#B0BEC5\",\"#B0BEC5\",\"#B0BEC5\",\"#B0BEC5\",\"#B0BEC5\",\"#B0BEC5\",\"#B0BEC5\",\"#B0BEC5\",\"#B0BEC5\",\"#B0BEC5\",\"#B0BEC5\",\"#B0BEC5\",\"#B0BEC5\",\"#B0BEC5\",\"#B0BEC5\",\"#B0BEC5\",\"#B0BEC5\",\"#B0BEC5\",\"#B0BEC5\",\"#B0BEC5\",\"#B0BEC5\",\"#B0BEC5\",\"#B0BEC5\",\"#B0BEC5\",\"#B0BEC5\",\"#B0BEC5\",\"#B0BEC5\",\"#B0BEC5\",\"#B0BEC5\",\"#B0BEC5\",\"#B0BEC5\",\"#B0BEC5\",\"#B0BEC5\",\"#B0BEC5\",\"#B0BEC5\",\"#B0BEC5\",\"#B0BEC5\",\"#B0BEC5\",\"#B0BEC5\",\"#B0BEC5\",\"#B0BEC5\",\"#B0BEC5\",\"#B0BEC5\",\"#B0BEC5\",\"#B0BEC5\",\"#B0BEC5\",\"#B0BEC5\",\"#B0BEC5\",\"#B0BEC5\",\"#B0BEC5\"]]}],\"label\":\"Topic 25\",\"method\":\"update\"},{\"args\":[{\"marker.color\":[[\"#B0BEC5\",\"#B0BEC5\",\"#B0BEC5\",\"#B0BEC5\",\"#B0BEC5\",\"#B0BEC5\",\"#B0BEC5\",\"#B0BEC5\",\"#B0BEC5\",\"#B0BEC5\",\"#B0BEC5\",\"#B0BEC5\",\"#B0BEC5\",\"#B0BEC5\",\"#B0BEC5\",\"#B0BEC5\",\"#B0BEC5\",\"#B0BEC5\",\"#B0BEC5\",\"#B0BEC5\",\"#B0BEC5\",\"#B0BEC5\",\"#B0BEC5\",\"#B0BEC5\",\"#B0BEC5\",\"#B0BEC5\",\"red\",\"#B0BEC5\",\"#B0BEC5\",\"#B0BEC5\",\"#B0BEC5\",\"#B0BEC5\",\"#B0BEC5\",\"#B0BEC5\",\"#B0BEC5\",\"#B0BEC5\",\"#B0BEC5\",\"#B0BEC5\",\"#B0BEC5\",\"#B0BEC5\",\"#B0BEC5\",\"#B0BEC5\",\"#B0BEC5\",\"#B0BEC5\",\"#B0BEC5\",\"#B0BEC5\",\"#B0BEC5\",\"#B0BEC5\",\"#B0BEC5\",\"#B0BEC5\",\"#B0BEC5\",\"#B0BEC5\",\"#B0BEC5\",\"#B0BEC5\",\"#B0BEC5\",\"#B0BEC5\",\"#B0BEC5\",\"#B0BEC5\",\"#B0BEC5\",\"#B0BEC5\",\"#B0BEC5\",\"#B0BEC5\",\"#B0BEC5\",\"#B0BEC5\",\"#B0BEC5\",\"#B0BEC5\",\"#B0BEC5\",\"#B0BEC5\",\"#B0BEC5\",\"#B0BEC5\",\"#B0BEC5\",\"#B0BEC5\",\"#B0BEC5\",\"#B0BEC5\",\"#B0BEC5\",\"#B0BEC5\",\"#B0BEC5\",\"#B0BEC5\",\"#B0BEC5\",\"#B0BEC5\",\"#B0BEC5\",\"#B0BEC5\"]]}],\"label\":\"Topic 26\",\"method\":\"update\"},{\"args\":[{\"marker.color\":[[\"#B0BEC5\",\"#B0BEC5\",\"#B0BEC5\",\"#B0BEC5\",\"#B0BEC5\",\"#B0BEC5\",\"#B0BEC5\",\"#B0BEC5\",\"#B0BEC5\",\"#B0BEC5\",\"#B0BEC5\",\"#B0BEC5\",\"#B0BEC5\",\"#B0BEC5\",\"#B0BEC5\",\"#B0BEC5\",\"#B0BEC5\",\"#B0BEC5\",\"#B0BEC5\",\"#B0BEC5\",\"#B0BEC5\",\"#B0BEC5\",\"#B0BEC5\",\"#B0BEC5\",\"#B0BEC5\",\"#B0BEC5\",\"#B0BEC5\",\"red\",\"#B0BEC5\",\"#B0BEC5\",\"#B0BEC5\",\"#B0BEC5\",\"#B0BEC5\",\"#B0BEC5\",\"#B0BEC5\",\"#B0BEC5\",\"#B0BEC5\",\"#B0BEC5\",\"#B0BEC5\",\"#B0BEC5\",\"#B0BEC5\",\"#B0BEC5\",\"#B0BEC5\",\"#B0BEC5\",\"#B0BEC5\",\"#B0BEC5\",\"#B0BEC5\",\"#B0BEC5\",\"#B0BEC5\",\"#B0BEC5\",\"#B0BEC5\",\"#B0BEC5\",\"#B0BEC5\",\"#B0BEC5\",\"#B0BEC5\",\"#B0BEC5\",\"#B0BEC5\",\"#B0BEC5\",\"#B0BEC5\",\"#B0BEC5\",\"#B0BEC5\",\"#B0BEC5\",\"#B0BEC5\",\"#B0BEC5\",\"#B0BEC5\",\"#B0BEC5\",\"#B0BEC5\",\"#B0BEC5\",\"#B0BEC5\",\"#B0BEC5\",\"#B0BEC5\",\"#B0BEC5\",\"#B0BEC5\",\"#B0BEC5\",\"#B0BEC5\",\"#B0BEC5\",\"#B0BEC5\",\"#B0BEC5\",\"#B0BEC5\",\"#B0BEC5\",\"#B0BEC5\",\"#B0BEC5\"]]}],\"label\":\"Topic 27\",\"method\":\"update\"},{\"args\":[{\"marker.color\":[[\"#B0BEC5\",\"#B0BEC5\",\"#B0BEC5\",\"#B0BEC5\",\"#B0BEC5\",\"#B0BEC5\",\"#B0BEC5\",\"#B0BEC5\",\"#B0BEC5\",\"#B0BEC5\",\"#B0BEC5\",\"#B0BEC5\",\"#B0BEC5\",\"#B0BEC5\",\"#B0BEC5\",\"#B0BEC5\",\"#B0BEC5\",\"#B0BEC5\",\"#B0BEC5\",\"#B0BEC5\",\"#B0BEC5\",\"#B0BEC5\",\"#B0BEC5\",\"#B0BEC5\",\"#B0BEC5\",\"#B0BEC5\",\"#B0BEC5\",\"#B0BEC5\",\"red\",\"#B0BEC5\",\"#B0BEC5\",\"#B0BEC5\",\"#B0BEC5\",\"#B0BEC5\",\"#B0BEC5\",\"#B0BEC5\",\"#B0BEC5\",\"#B0BEC5\",\"#B0BEC5\",\"#B0BEC5\",\"#B0BEC5\",\"#B0BEC5\",\"#B0BEC5\",\"#B0BEC5\",\"#B0BEC5\",\"#B0BEC5\",\"#B0BEC5\",\"#B0BEC5\",\"#B0BEC5\",\"#B0BEC5\",\"#B0BEC5\",\"#B0BEC5\",\"#B0BEC5\",\"#B0BEC5\",\"#B0BEC5\",\"#B0BEC5\",\"#B0BEC5\",\"#B0BEC5\",\"#B0BEC5\",\"#B0BEC5\",\"#B0BEC5\",\"#B0BEC5\",\"#B0BEC5\",\"#B0BEC5\",\"#B0BEC5\",\"#B0BEC5\",\"#B0BEC5\",\"#B0BEC5\",\"#B0BEC5\",\"#B0BEC5\",\"#B0BEC5\",\"#B0BEC5\",\"#B0BEC5\",\"#B0BEC5\",\"#B0BEC5\",\"#B0BEC5\",\"#B0BEC5\",\"#B0BEC5\",\"#B0BEC5\",\"#B0BEC5\",\"#B0BEC5\",\"#B0BEC5\"]]}],\"label\":\"Topic 28\",\"method\":\"update\"},{\"args\":[{\"marker.color\":[[\"#B0BEC5\",\"#B0BEC5\",\"#B0BEC5\",\"#B0BEC5\",\"#B0BEC5\",\"#B0BEC5\",\"#B0BEC5\",\"#B0BEC5\",\"#B0BEC5\",\"#B0BEC5\",\"#B0BEC5\",\"#B0BEC5\",\"#B0BEC5\",\"#B0BEC5\",\"#B0BEC5\",\"#B0BEC5\",\"#B0BEC5\",\"#B0BEC5\",\"#B0BEC5\",\"#B0BEC5\",\"#B0BEC5\",\"#B0BEC5\",\"#B0BEC5\",\"#B0BEC5\",\"#B0BEC5\",\"#B0BEC5\",\"#B0BEC5\",\"#B0BEC5\",\"#B0BEC5\",\"red\",\"#B0BEC5\",\"#B0BEC5\",\"#B0BEC5\",\"#B0BEC5\",\"#B0BEC5\",\"#B0BEC5\",\"#B0BEC5\",\"#B0BEC5\",\"#B0BEC5\",\"#B0BEC5\",\"#B0BEC5\",\"#B0BEC5\",\"#B0BEC5\",\"#B0BEC5\",\"#B0BEC5\",\"#B0BEC5\",\"#B0BEC5\",\"#B0BEC5\",\"#B0BEC5\",\"#B0BEC5\",\"#B0BEC5\",\"#B0BEC5\",\"#B0BEC5\",\"#B0BEC5\",\"#B0BEC5\",\"#B0BEC5\",\"#B0BEC5\",\"#B0BEC5\",\"#B0BEC5\",\"#B0BEC5\",\"#B0BEC5\",\"#B0BEC5\",\"#B0BEC5\",\"#B0BEC5\",\"#B0BEC5\",\"#B0BEC5\",\"#B0BEC5\",\"#B0BEC5\",\"#B0BEC5\",\"#B0BEC5\",\"#B0BEC5\",\"#B0BEC5\",\"#B0BEC5\",\"#B0BEC5\",\"#B0BEC5\",\"#B0BEC5\",\"#B0BEC5\",\"#B0BEC5\",\"#B0BEC5\",\"#B0BEC5\",\"#B0BEC5\",\"#B0BEC5\"]]}],\"label\":\"Topic 29\",\"method\":\"update\"},{\"args\":[{\"marker.color\":[[\"#B0BEC5\",\"#B0BEC5\",\"#B0BEC5\",\"#B0BEC5\",\"#B0BEC5\",\"#B0BEC5\",\"#B0BEC5\",\"#B0BEC5\",\"#B0BEC5\",\"#B0BEC5\",\"#B0BEC5\",\"#B0BEC5\",\"#B0BEC5\",\"#B0BEC5\",\"#B0BEC5\",\"#B0BEC5\",\"#B0BEC5\",\"#B0BEC5\",\"#B0BEC5\",\"#B0BEC5\",\"#B0BEC5\",\"#B0BEC5\",\"#B0BEC5\",\"#B0BEC5\",\"#B0BEC5\",\"#B0BEC5\",\"#B0BEC5\",\"#B0BEC5\",\"#B0BEC5\",\"#B0BEC5\",\"red\",\"#B0BEC5\",\"#B0BEC5\",\"#B0BEC5\",\"#B0BEC5\",\"#B0BEC5\",\"#B0BEC5\",\"#B0BEC5\",\"#B0BEC5\",\"#B0BEC5\",\"#B0BEC5\",\"#B0BEC5\",\"#B0BEC5\",\"#B0BEC5\",\"#B0BEC5\",\"#B0BEC5\",\"#B0BEC5\",\"#B0BEC5\",\"#B0BEC5\",\"#B0BEC5\",\"#B0BEC5\",\"#B0BEC5\",\"#B0BEC5\",\"#B0BEC5\",\"#B0BEC5\",\"#B0BEC5\",\"#B0BEC5\",\"#B0BEC5\",\"#B0BEC5\",\"#B0BEC5\",\"#B0BEC5\",\"#B0BEC5\",\"#B0BEC5\",\"#B0BEC5\",\"#B0BEC5\",\"#B0BEC5\",\"#B0BEC5\",\"#B0BEC5\",\"#B0BEC5\",\"#B0BEC5\",\"#B0BEC5\",\"#B0BEC5\",\"#B0BEC5\",\"#B0BEC5\",\"#B0BEC5\",\"#B0BEC5\",\"#B0BEC5\",\"#B0BEC5\",\"#B0BEC5\",\"#B0BEC5\",\"#B0BEC5\",\"#B0BEC5\"]]}],\"label\":\"Topic 30\",\"method\":\"update\"},{\"args\":[{\"marker.color\":[[\"#B0BEC5\",\"#B0BEC5\",\"#B0BEC5\",\"#B0BEC5\",\"#B0BEC5\",\"#B0BEC5\",\"#B0BEC5\",\"#B0BEC5\",\"#B0BEC5\",\"#B0BEC5\",\"#B0BEC5\",\"#B0BEC5\",\"#B0BEC5\",\"#B0BEC5\",\"#B0BEC5\",\"#B0BEC5\",\"#B0BEC5\",\"#B0BEC5\",\"#B0BEC5\",\"#B0BEC5\",\"#B0BEC5\",\"#B0BEC5\",\"#B0BEC5\",\"#B0BEC5\",\"#B0BEC5\",\"#B0BEC5\",\"#B0BEC5\",\"#B0BEC5\",\"#B0BEC5\",\"#B0BEC5\",\"#B0BEC5\",\"red\",\"#B0BEC5\",\"#B0BEC5\",\"#B0BEC5\",\"#B0BEC5\",\"#B0BEC5\",\"#B0BEC5\",\"#B0BEC5\",\"#B0BEC5\",\"#B0BEC5\",\"#B0BEC5\",\"#B0BEC5\",\"#B0BEC5\",\"#B0BEC5\",\"#B0BEC5\",\"#B0BEC5\",\"#B0BEC5\",\"#B0BEC5\",\"#B0BEC5\",\"#B0BEC5\",\"#B0BEC5\",\"#B0BEC5\",\"#B0BEC5\",\"#B0BEC5\",\"#B0BEC5\",\"#B0BEC5\",\"#B0BEC5\",\"#B0BEC5\",\"#B0BEC5\",\"#B0BEC5\",\"#B0BEC5\",\"#B0BEC5\",\"#B0BEC5\",\"#B0BEC5\",\"#B0BEC5\",\"#B0BEC5\",\"#B0BEC5\",\"#B0BEC5\",\"#B0BEC5\",\"#B0BEC5\",\"#B0BEC5\",\"#B0BEC5\",\"#B0BEC5\",\"#B0BEC5\",\"#B0BEC5\",\"#B0BEC5\",\"#B0BEC5\",\"#B0BEC5\",\"#B0BEC5\",\"#B0BEC5\",\"#B0BEC5\"]]}],\"label\":\"Topic 31\",\"method\":\"update\"},{\"args\":[{\"marker.color\":[[\"#B0BEC5\",\"#B0BEC5\",\"#B0BEC5\",\"#B0BEC5\",\"#B0BEC5\",\"#B0BEC5\",\"#B0BEC5\",\"#B0BEC5\",\"#B0BEC5\",\"#B0BEC5\",\"#B0BEC5\",\"#B0BEC5\",\"#B0BEC5\",\"#B0BEC5\",\"#B0BEC5\",\"#B0BEC5\",\"#B0BEC5\",\"#B0BEC5\",\"#B0BEC5\",\"#B0BEC5\",\"#B0BEC5\",\"#B0BEC5\",\"#B0BEC5\",\"#B0BEC5\",\"#B0BEC5\",\"#B0BEC5\",\"#B0BEC5\",\"#B0BEC5\",\"#B0BEC5\",\"#B0BEC5\",\"#B0BEC5\",\"#B0BEC5\",\"red\",\"#B0BEC5\",\"#B0BEC5\",\"#B0BEC5\",\"#B0BEC5\",\"#B0BEC5\",\"#B0BEC5\",\"#B0BEC5\",\"#B0BEC5\",\"#B0BEC5\",\"#B0BEC5\",\"#B0BEC5\",\"#B0BEC5\",\"#B0BEC5\",\"#B0BEC5\",\"#B0BEC5\",\"#B0BEC5\",\"#B0BEC5\",\"#B0BEC5\",\"#B0BEC5\",\"#B0BEC5\",\"#B0BEC5\",\"#B0BEC5\",\"#B0BEC5\",\"#B0BEC5\",\"#B0BEC5\",\"#B0BEC5\",\"#B0BEC5\",\"#B0BEC5\",\"#B0BEC5\",\"#B0BEC5\",\"#B0BEC5\",\"#B0BEC5\",\"#B0BEC5\",\"#B0BEC5\",\"#B0BEC5\",\"#B0BEC5\",\"#B0BEC5\",\"#B0BEC5\",\"#B0BEC5\",\"#B0BEC5\",\"#B0BEC5\",\"#B0BEC5\",\"#B0BEC5\",\"#B0BEC5\",\"#B0BEC5\",\"#B0BEC5\",\"#B0BEC5\",\"#B0BEC5\",\"#B0BEC5\"]]}],\"label\":\"Topic 32\",\"method\":\"update\"},{\"args\":[{\"marker.color\":[[\"#B0BEC5\",\"#B0BEC5\",\"#B0BEC5\",\"#B0BEC5\",\"#B0BEC5\",\"#B0BEC5\",\"#B0BEC5\",\"#B0BEC5\",\"#B0BEC5\",\"#B0BEC5\",\"#B0BEC5\",\"#B0BEC5\",\"#B0BEC5\",\"#B0BEC5\",\"#B0BEC5\",\"#B0BEC5\",\"#B0BEC5\",\"#B0BEC5\",\"#B0BEC5\",\"#B0BEC5\",\"#B0BEC5\",\"#B0BEC5\",\"#B0BEC5\",\"#B0BEC5\",\"#B0BEC5\",\"#B0BEC5\",\"#B0BEC5\",\"#B0BEC5\",\"#B0BEC5\",\"#B0BEC5\",\"#B0BEC5\",\"#B0BEC5\",\"#B0BEC5\",\"red\",\"#B0BEC5\",\"#B0BEC5\",\"#B0BEC5\",\"#B0BEC5\",\"#B0BEC5\",\"#B0BEC5\",\"#B0BEC5\",\"#B0BEC5\",\"#B0BEC5\",\"#B0BEC5\",\"#B0BEC5\",\"#B0BEC5\",\"#B0BEC5\",\"#B0BEC5\",\"#B0BEC5\",\"#B0BEC5\",\"#B0BEC5\",\"#B0BEC5\",\"#B0BEC5\",\"#B0BEC5\",\"#B0BEC5\",\"#B0BEC5\",\"#B0BEC5\",\"#B0BEC5\",\"#B0BEC5\",\"#B0BEC5\",\"#B0BEC5\",\"#B0BEC5\",\"#B0BEC5\",\"#B0BEC5\",\"#B0BEC5\",\"#B0BEC5\",\"#B0BEC5\",\"#B0BEC5\",\"#B0BEC5\",\"#B0BEC5\",\"#B0BEC5\",\"#B0BEC5\",\"#B0BEC5\",\"#B0BEC5\",\"#B0BEC5\",\"#B0BEC5\",\"#B0BEC5\",\"#B0BEC5\",\"#B0BEC5\",\"#B0BEC5\",\"#B0BEC5\",\"#B0BEC5\"]]}],\"label\":\"Topic 33\",\"method\":\"update\"},{\"args\":[{\"marker.color\":[[\"#B0BEC5\",\"#B0BEC5\",\"#B0BEC5\",\"#B0BEC5\",\"#B0BEC5\",\"#B0BEC5\",\"#B0BEC5\",\"#B0BEC5\",\"#B0BEC5\",\"#B0BEC5\",\"#B0BEC5\",\"#B0BEC5\",\"#B0BEC5\",\"#B0BEC5\",\"#B0BEC5\",\"#B0BEC5\",\"#B0BEC5\",\"#B0BEC5\",\"#B0BEC5\",\"#B0BEC5\",\"#B0BEC5\",\"#B0BEC5\",\"#B0BEC5\",\"#B0BEC5\",\"#B0BEC5\",\"#B0BEC5\",\"#B0BEC5\",\"#B0BEC5\",\"#B0BEC5\",\"#B0BEC5\",\"#B0BEC5\",\"#B0BEC5\",\"#B0BEC5\",\"#B0BEC5\",\"red\",\"#B0BEC5\",\"#B0BEC5\",\"#B0BEC5\",\"#B0BEC5\",\"#B0BEC5\",\"#B0BEC5\",\"#B0BEC5\",\"#B0BEC5\",\"#B0BEC5\",\"#B0BEC5\",\"#B0BEC5\",\"#B0BEC5\",\"#B0BEC5\",\"#B0BEC5\",\"#B0BEC5\",\"#B0BEC5\",\"#B0BEC5\",\"#B0BEC5\",\"#B0BEC5\",\"#B0BEC5\",\"#B0BEC5\",\"#B0BEC5\",\"#B0BEC5\",\"#B0BEC5\",\"#B0BEC5\",\"#B0BEC5\",\"#B0BEC5\",\"#B0BEC5\",\"#B0BEC5\",\"#B0BEC5\",\"#B0BEC5\",\"#B0BEC5\",\"#B0BEC5\",\"#B0BEC5\",\"#B0BEC5\",\"#B0BEC5\",\"#B0BEC5\",\"#B0BEC5\",\"#B0BEC5\",\"#B0BEC5\",\"#B0BEC5\",\"#B0BEC5\",\"#B0BEC5\",\"#B0BEC5\",\"#B0BEC5\",\"#B0BEC5\",\"#B0BEC5\"]]}],\"label\":\"Topic 34\",\"method\":\"update\"},{\"args\":[{\"marker.color\":[[\"#B0BEC5\",\"#B0BEC5\",\"#B0BEC5\",\"#B0BEC5\",\"#B0BEC5\",\"#B0BEC5\",\"#B0BEC5\",\"#B0BEC5\",\"#B0BEC5\",\"#B0BEC5\",\"#B0BEC5\",\"#B0BEC5\",\"#B0BEC5\",\"#B0BEC5\",\"#B0BEC5\",\"#B0BEC5\",\"#B0BEC5\",\"#B0BEC5\",\"#B0BEC5\",\"#B0BEC5\",\"#B0BEC5\",\"#B0BEC5\",\"#B0BEC5\",\"#B0BEC5\",\"#B0BEC5\",\"#B0BEC5\",\"#B0BEC5\",\"#B0BEC5\",\"#B0BEC5\",\"#B0BEC5\",\"#B0BEC5\",\"#B0BEC5\",\"#B0BEC5\",\"#B0BEC5\",\"#B0BEC5\",\"red\",\"#B0BEC5\",\"#B0BEC5\",\"#B0BEC5\",\"#B0BEC5\",\"#B0BEC5\",\"#B0BEC5\",\"#B0BEC5\",\"#B0BEC5\",\"#B0BEC5\",\"#B0BEC5\",\"#B0BEC5\",\"#B0BEC5\",\"#B0BEC5\",\"#B0BEC5\",\"#B0BEC5\",\"#B0BEC5\",\"#B0BEC5\",\"#B0BEC5\",\"#B0BEC5\",\"#B0BEC5\",\"#B0BEC5\",\"#B0BEC5\",\"#B0BEC5\",\"#B0BEC5\",\"#B0BEC5\",\"#B0BEC5\",\"#B0BEC5\",\"#B0BEC5\",\"#B0BEC5\",\"#B0BEC5\",\"#B0BEC5\",\"#B0BEC5\",\"#B0BEC5\",\"#B0BEC5\",\"#B0BEC5\",\"#B0BEC5\",\"#B0BEC5\",\"#B0BEC5\",\"#B0BEC5\",\"#B0BEC5\",\"#B0BEC5\",\"#B0BEC5\",\"#B0BEC5\",\"#B0BEC5\",\"#B0BEC5\",\"#B0BEC5\"]]}],\"label\":\"Topic 35\",\"method\":\"update\"},{\"args\":[{\"marker.color\":[[\"#B0BEC5\",\"#B0BEC5\",\"#B0BEC5\",\"#B0BEC5\",\"#B0BEC5\",\"#B0BEC5\",\"#B0BEC5\",\"#B0BEC5\",\"#B0BEC5\",\"#B0BEC5\",\"#B0BEC5\",\"#B0BEC5\",\"#B0BEC5\",\"#B0BEC5\",\"#B0BEC5\",\"#B0BEC5\",\"#B0BEC5\",\"#B0BEC5\",\"#B0BEC5\",\"#B0BEC5\",\"#B0BEC5\",\"#B0BEC5\",\"#B0BEC5\",\"#B0BEC5\",\"#B0BEC5\",\"#B0BEC5\",\"#B0BEC5\",\"#B0BEC5\",\"#B0BEC5\",\"#B0BEC5\",\"#B0BEC5\",\"#B0BEC5\",\"#B0BEC5\",\"#B0BEC5\",\"#B0BEC5\",\"#B0BEC5\",\"red\",\"#B0BEC5\",\"#B0BEC5\",\"#B0BEC5\",\"#B0BEC5\",\"#B0BEC5\",\"#B0BEC5\",\"#B0BEC5\",\"#B0BEC5\",\"#B0BEC5\",\"#B0BEC5\",\"#B0BEC5\",\"#B0BEC5\",\"#B0BEC5\",\"#B0BEC5\",\"#B0BEC5\",\"#B0BEC5\",\"#B0BEC5\",\"#B0BEC5\",\"#B0BEC5\",\"#B0BEC5\",\"#B0BEC5\",\"#B0BEC5\",\"#B0BEC5\",\"#B0BEC5\",\"#B0BEC5\",\"#B0BEC5\",\"#B0BEC5\",\"#B0BEC5\",\"#B0BEC5\",\"#B0BEC5\",\"#B0BEC5\",\"#B0BEC5\",\"#B0BEC5\",\"#B0BEC5\",\"#B0BEC5\",\"#B0BEC5\",\"#B0BEC5\",\"#B0BEC5\",\"#B0BEC5\",\"#B0BEC5\",\"#B0BEC5\",\"#B0BEC5\",\"#B0BEC5\",\"#B0BEC5\",\"#B0BEC5\"]]}],\"label\":\"Topic 36\",\"method\":\"update\"},{\"args\":[{\"marker.color\":[[\"#B0BEC5\",\"#B0BEC5\",\"#B0BEC5\",\"#B0BEC5\",\"#B0BEC5\",\"#B0BEC5\",\"#B0BEC5\",\"#B0BEC5\",\"#B0BEC5\",\"#B0BEC5\",\"#B0BEC5\",\"#B0BEC5\",\"#B0BEC5\",\"#B0BEC5\",\"#B0BEC5\",\"#B0BEC5\",\"#B0BEC5\",\"#B0BEC5\",\"#B0BEC5\",\"#B0BEC5\",\"#B0BEC5\",\"#B0BEC5\",\"#B0BEC5\",\"#B0BEC5\",\"#B0BEC5\",\"#B0BEC5\",\"#B0BEC5\",\"#B0BEC5\",\"#B0BEC5\",\"#B0BEC5\",\"#B0BEC5\",\"#B0BEC5\",\"#B0BEC5\",\"#B0BEC5\",\"#B0BEC5\",\"#B0BEC5\",\"#B0BEC5\",\"red\",\"#B0BEC5\",\"#B0BEC5\",\"#B0BEC5\",\"#B0BEC5\",\"#B0BEC5\",\"#B0BEC5\",\"#B0BEC5\",\"#B0BEC5\",\"#B0BEC5\",\"#B0BEC5\",\"#B0BEC5\",\"#B0BEC5\",\"#B0BEC5\",\"#B0BEC5\",\"#B0BEC5\",\"#B0BEC5\",\"#B0BEC5\",\"#B0BEC5\",\"#B0BEC5\",\"#B0BEC5\",\"#B0BEC5\",\"#B0BEC5\",\"#B0BEC5\",\"#B0BEC5\",\"#B0BEC5\",\"#B0BEC5\",\"#B0BEC5\",\"#B0BEC5\",\"#B0BEC5\",\"#B0BEC5\",\"#B0BEC5\",\"#B0BEC5\",\"#B0BEC5\",\"#B0BEC5\",\"#B0BEC5\",\"#B0BEC5\",\"#B0BEC5\",\"#B0BEC5\",\"#B0BEC5\",\"#B0BEC5\",\"#B0BEC5\",\"#B0BEC5\",\"#B0BEC5\",\"#B0BEC5\"]]}],\"label\":\"Topic 37\",\"method\":\"update\"},{\"args\":[{\"marker.color\":[[\"#B0BEC5\",\"#B0BEC5\",\"#B0BEC5\",\"#B0BEC5\",\"#B0BEC5\",\"#B0BEC5\",\"#B0BEC5\",\"#B0BEC5\",\"#B0BEC5\",\"#B0BEC5\",\"#B0BEC5\",\"#B0BEC5\",\"#B0BEC5\",\"#B0BEC5\",\"#B0BEC5\",\"#B0BEC5\",\"#B0BEC5\",\"#B0BEC5\",\"#B0BEC5\",\"#B0BEC5\",\"#B0BEC5\",\"#B0BEC5\",\"#B0BEC5\",\"#B0BEC5\",\"#B0BEC5\",\"#B0BEC5\",\"#B0BEC5\",\"#B0BEC5\",\"#B0BEC5\",\"#B0BEC5\",\"#B0BEC5\",\"#B0BEC5\",\"#B0BEC5\",\"#B0BEC5\",\"#B0BEC5\",\"#B0BEC5\",\"#B0BEC5\",\"#B0BEC5\",\"red\",\"#B0BEC5\",\"#B0BEC5\",\"#B0BEC5\",\"#B0BEC5\",\"#B0BEC5\",\"#B0BEC5\",\"#B0BEC5\",\"#B0BEC5\",\"#B0BEC5\",\"#B0BEC5\",\"#B0BEC5\",\"#B0BEC5\",\"#B0BEC5\",\"#B0BEC5\",\"#B0BEC5\",\"#B0BEC5\",\"#B0BEC5\",\"#B0BEC5\",\"#B0BEC5\",\"#B0BEC5\",\"#B0BEC5\",\"#B0BEC5\",\"#B0BEC5\",\"#B0BEC5\",\"#B0BEC5\",\"#B0BEC5\",\"#B0BEC5\",\"#B0BEC5\",\"#B0BEC5\",\"#B0BEC5\",\"#B0BEC5\",\"#B0BEC5\",\"#B0BEC5\",\"#B0BEC5\",\"#B0BEC5\",\"#B0BEC5\",\"#B0BEC5\",\"#B0BEC5\",\"#B0BEC5\",\"#B0BEC5\",\"#B0BEC5\",\"#B0BEC5\",\"#B0BEC5\"]]}],\"label\":\"Topic 38\",\"method\":\"update\"},{\"args\":[{\"marker.color\":[[\"#B0BEC5\",\"#B0BEC5\",\"#B0BEC5\",\"#B0BEC5\",\"#B0BEC5\",\"#B0BEC5\",\"#B0BEC5\",\"#B0BEC5\",\"#B0BEC5\",\"#B0BEC5\",\"#B0BEC5\",\"#B0BEC5\",\"#B0BEC5\",\"#B0BEC5\",\"#B0BEC5\",\"#B0BEC5\",\"#B0BEC5\",\"#B0BEC5\",\"#B0BEC5\",\"#B0BEC5\",\"#B0BEC5\",\"#B0BEC5\",\"#B0BEC5\",\"#B0BEC5\",\"#B0BEC5\",\"#B0BEC5\",\"#B0BEC5\",\"#B0BEC5\",\"#B0BEC5\",\"#B0BEC5\",\"#B0BEC5\",\"#B0BEC5\",\"#B0BEC5\",\"#B0BEC5\",\"#B0BEC5\",\"#B0BEC5\",\"#B0BEC5\",\"#B0BEC5\",\"#B0BEC5\",\"red\",\"#B0BEC5\",\"#B0BEC5\",\"#B0BEC5\",\"#B0BEC5\",\"#B0BEC5\",\"#B0BEC5\",\"#B0BEC5\",\"#B0BEC5\",\"#B0BEC5\",\"#B0BEC5\",\"#B0BEC5\",\"#B0BEC5\",\"#B0BEC5\",\"#B0BEC5\",\"#B0BEC5\",\"#B0BEC5\",\"#B0BEC5\",\"#B0BEC5\",\"#B0BEC5\",\"#B0BEC5\",\"#B0BEC5\",\"#B0BEC5\",\"#B0BEC5\",\"#B0BEC5\",\"#B0BEC5\",\"#B0BEC5\",\"#B0BEC5\",\"#B0BEC5\",\"#B0BEC5\",\"#B0BEC5\",\"#B0BEC5\",\"#B0BEC5\",\"#B0BEC5\",\"#B0BEC5\",\"#B0BEC5\",\"#B0BEC5\",\"#B0BEC5\",\"#B0BEC5\",\"#B0BEC5\",\"#B0BEC5\",\"#B0BEC5\",\"#B0BEC5\"]]}],\"label\":\"Topic 39\",\"method\":\"update\"},{\"args\":[{\"marker.color\":[[\"#B0BEC5\",\"#B0BEC5\",\"#B0BEC5\",\"#B0BEC5\",\"#B0BEC5\",\"#B0BEC5\",\"#B0BEC5\",\"#B0BEC5\",\"#B0BEC5\",\"#B0BEC5\",\"#B0BEC5\",\"#B0BEC5\",\"#B0BEC5\",\"#B0BEC5\",\"#B0BEC5\",\"#B0BEC5\",\"#B0BEC5\",\"#B0BEC5\",\"#B0BEC5\",\"#B0BEC5\",\"#B0BEC5\",\"#B0BEC5\",\"#B0BEC5\",\"#B0BEC5\",\"#B0BEC5\",\"#B0BEC5\",\"#B0BEC5\",\"#B0BEC5\",\"#B0BEC5\",\"#B0BEC5\",\"#B0BEC5\",\"#B0BEC5\",\"#B0BEC5\",\"#B0BEC5\",\"#B0BEC5\",\"#B0BEC5\",\"#B0BEC5\",\"#B0BEC5\",\"#B0BEC5\",\"#B0BEC5\",\"red\",\"#B0BEC5\",\"#B0BEC5\",\"#B0BEC5\",\"#B0BEC5\",\"#B0BEC5\",\"#B0BEC5\",\"#B0BEC5\",\"#B0BEC5\",\"#B0BEC5\",\"#B0BEC5\",\"#B0BEC5\",\"#B0BEC5\",\"#B0BEC5\",\"#B0BEC5\",\"#B0BEC5\",\"#B0BEC5\",\"#B0BEC5\",\"#B0BEC5\",\"#B0BEC5\",\"#B0BEC5\",\"#B0BEC5\",\"#B0BEC5\",\"#B0BEC5\",\"#B0BEC5\",\"#B0BEC5\",\"#B0BEC5\",\"#B0BEC5\",\"#B0BEC5\",\"#B0BEC5\",\"#B0BEC5\",\"#B0BEC5\",\"#B0BEC5\",\"#B0BEC5\",\"#B0BEC5\",\"#B0BEC5\",\"#B0BEC5\",\"#B0BEC5\",\"#B0BEC5\",\"#B0BEC5\",\"#B0BEC5\",\"#B0BEC5\"]]}],\"label\":\"Topic 40\",\"method\":\"update\"},{\"args\":[{\"marker.color\":[[\"#B0BEC5\",\"#B0BEC5\",\"#B0BEC5\",\"#B0BEC5\",\"#B0BEC5\",\"#B0BEC5\",\"#B0BEC5\",\"#B0BEC5\",\"#B0BEC5\",\"#B0BEC5\",\"#B0BEC5\",\"#B0BEC5\",\"#B0BEC5\",\"#B0BEC5\",\"#B0BEC5\",\"#B0BEC5\",\"#B0BEC5\",\"#B0BEC5\",\"#B0BEC5\",\"#B0BEC5\",\"#B0BEC5\",\"#B0BEC5\",\"#B0BEC5\",\"#B0BEC5\",\"#B0BEC5\",\"#B0BEC5\",\"#B0BEC5\",\"#B0BEC5\",\"#B0BEC5\",\"#B0BEC5\",\"#B0BEC5\",\"#B0BEC5\",\"#B0BEC5\",\"#B0BEC5\",\"#B0BEC5\",\"#B0BEC5\",\"#B0BEC5\",\"#B0BEC5\",\"#B0BEC5\",\"#B0BEC5\",\"#B0BEC5\",\"red\",\"#B0BEC5\",\"#B0BEC5\",\"#B0BEC5\",\"#B0BEC5\",\"#B0BEC5\",\"#B0BEC5\",\"#B0BEC5\",\"#B0BEC5\",\"#B0BEC5\",\"#B0BEC5\",\"#B0BEC5\",\"#B0BEC5\",\"#B0BEC5\",\"#B0BEC5\",\"#B0BEC5\",\"#B0BEC5\",\"#B0BEC5\",\"#B0BEC5\",\"#B0BEC5\",\"#B0BEC5\",\"#B0BEC5\",\"#B0BEC5\",\"#B0BEC5\",\"#B0BEC5\",\"#B0BEC5\",\"#B0BEC5\",\"#B0BEC5\",\"#B0BEC5\",\"#B0BEC5\",\"#B0BEC5\",\"#B0BEC5\",\"#B0BEC5\",\"#B0BEC5\",\"#B0BEC5\",\"#B0BEC5\",\"#B0BEC5\",\"#B0BEC5\",\"#B0BEC5\",\"#B0BEC5\",\"#B0BEC5\"]]}],\"label\":\"Topic 41\",\"method\":\"update\"},{\"args\":[{\"marker.color\":[[\"#B0BEC5\",\"#B0BEC5\",\"#B0BEC5\",\"#B0BEC5\",\"#B0BEC5\",\"#B0BEC5\",\"#B0BEC5\",\"#B0BEC5\",\"#B0BEC5\",\"#B0BEC5\",\"#B0BEC5\",\"#B0BEC5\",\"#B0BEC5\",\"#B0BEC5\",\"#B0BEC5\",\"#B0BEC5\",\"#B0BEC5\",\"#B0BEC5\",\"#B0BEC5\",\"#B0BEC5\",\"#B0BEC5\",\"#B0BEC5\",\"#B0BEC5\",\"#B0BEC5\",\"#B0BEC5\",\"#B0BEC5\",\"#B0BEC5\",\"#B0BEC5\",\"#B0BEC5\",\"#B0BEC5\",\"#B0BEC5\",\"#B0BEC5\",\"#B0BEC5\",\"#B0BEC5\",\"#B0BEC5\",\"#B0BEC5\",\"#B0BEC5\",\"#B0BEC5\",\"#B0BEC5\",\"#B0BEC5\",\"#B0BEC5\",\"#B0BEC5\",\"red\",\"#B0BEC5\",\"#B0BEC5\",\"#B0BEC5\",\"#B0BEC5\",\"#B0BEC5\",\"#B0BEC5\",\"#B0BEC5\",\"#B0BEC5\",\"#B0BEC5\",\"#B0BEC5\",\"#B0BEC5\",\"#B0BEC5\",\"#B0BEC5\",\"#B0BEC5\",\"#B0BEC5\",\"#B0BEC5\",\"#B0BEC5\",\"#B0BEC5\",\"#B0BEC5\",\"#B0BEC5\",\"#B0BEC5\",\"#B0BEC5\",\"#B0BEC5\",\"#B0BEC5\",\"#B0BEC5\",\"#B0BEC5\",\"#B0BEC5\",\"#B0BEC5\",\"#B0BEC5\",\"#B0BEC5\",\"#B0BEC5\",\"#B0BEC5\",\"#B0BEC5\",\"#B0BEC5\",\"#B0BEC5\",\"#B0BEC5\",\"#B0BEC5\",\"#B0BEC5\",\"#B0BEC5\"]]}],\"label\":\"Topic 42\",\"method\":\"update\"},{\"args\":[{\"marker.color\":[[\"#B0BEC5\",\"#B0BEC5\",\"#B0BEC5\",\"#B0BEC5\",\"#B0BEC5\",\"#B0BEC5\",\"#B0BEC5\",\"#B0BEC5\",\"#B0BEC5\",\"#B0BEC5\",\"#B0BEC5\",\"#B0BEC5\",\"#B0BEC5\",\"#B0BEC5\",\"#B0BEC5\",\"#B0BEC5\",\"#B0BEC5\",\"#B0BEC5\",\"#B0BEC5\",\"#B0BEC5\",\"#B0BEC5\",\"#B0BEC5\",\"#B0BEC5\",\"#B0BEC5\",\"#B0BEC5\",\"#B0BEC5\",\"#B0BEC5\",\"#B0BEC5\",\"#B0BEC5\",\"#B0BEC5\",\"#B0BEC5\",\"#B0BEC5\",\"#B0BEC5\",\"#B0BEC5\",\"#B0BEC5\",\"#B0BEC5\",\"#B0BEC5\",\"#B0BEC5\",\"#B0BEC5\",\"#B0BEC5\",\"#B0BEC5\",\"#B0BEC5\",\"#B0BEC5\",\"red\",\"#B0BEC5\",\"#B0BEC5\",\"#B0BEC5\",\"#B0BEC5\",\"#B0BEC5\",\"#B0BEC5\",\"#B0BEC5\",\"#B0BEC5\",\"#B0BEC5\",\"#B0BEC5\",\"#B0BEC5\",\"#B0BEC5\",\"#B0BEC5\",\"#B0BEC5\",\"#B0BEC5\",\"#B0BEC5\",\"#B0BEC5\",\"#B0BEC5\",\"#B0BEC5\",\"#B0BEC5\",\"#B0BEC5\",\"#B0BEC5\",\"#B0BEC5\",\"#B0BEC5\",\"#B0BEC5\",\"#B0BEC5\",\"#B0BEC5\",\"#B0BEC5\",\"#B0BEC5\",\"#B0BEC5\",\"#B0BEC5\",\"#B0BEC5\",\"#B0BEC5\",\"#B0BEC5\",\"#B0BEC5\",\"#B0BEC5\",\"#B0BEC5\",\"#B0BEC5\"]]}],\"label\":\"Topic 43\",\"method\":\"update\"},{\"args\":[{\"marker.color\":[[\"#B0BEC5\",\"#B0BEC5\",\"#B0BEC5\",\"#B0BEC5\",\"#B0BEC5\",\"#B0BEC5\",\"#B0BEC5\",\"#B0BEC5\",\"#B0BEC5\",\"#B0BEC5\",\"#B0BEC5\",\"#B0BEC5\",\"#B0BEC5\",\"#B0BEC5\",\"#B0BEC5\",\"#B0BEC5\",\"#B0BEC5\",\"#B0BEC5\",\"#B0BEC5\",\"#B0BEC5\",\"#B0BEC5\",\"#B0BEC5\",\"#B0BEC5\",\"#B0BEC5\",\"#B0BEC5\",\"#B0BEC5\",\"#B0BEC5\",\"#B0BEC5\",\"#B0BEC5\",\"#B0BEC5\",\"#B0BEC5\",\"#B0BEC5\",\"#B0BEC5\",\"#B0BEC5\",\"#B0BEC5\",\"#B0BEC5\",\"#B0BEC5\",\"#B0BEC5\",\"#B0BEC5\",\"#B0BEC5\",\"#B0BEC5\",\"#B0BEC5\",\"#B0BEC5\",\"#B0BEC5\",\"red\",\"#B0BEC5\",\"#B0BEC5\",\"#B0BEC5\",\"#B0BEC5\",\"#B0BEC5\",\"#B0BEC5\",\"#B0BEC5\",\"#B0BEC5\",\"#B0BEC5\",\"#B0BEC5\",\"#B0BEC5\",\"#B0BEC5\",\"#B0BEC5\",\"#B0BEC5\",\"#B0BEC5\",\"#B0BEC5\",\"#B0BEC5\",\"#B0BEC5\",\"#B0BEC5\",\"#B0BEC5\",\"#B0BEC5\",\"#B0BEC5\",\"#B0BEC5\",\"#B0BEC5\",\"#B0BEC5\",\"#B0BEC5\",\"#B0BEC5\",\"#B0BEC5\",\"#B0BEC5\",\"#B0BEC5\",\"#B0BEC5\",\"#B0BEC5\",\"#B0BEC5\",\"#B0BEC5\",\"#B0BEC5\",\"#B0BEC5\",\"#B0BEC5\"]]}],\"label\":\"Topic 44\",\"method\":\"update\"},{\"args\":[{\"marker.color\":[[\"#B0BEC5\",\"#B0BEC5\",\"#B0BEC5\",\"#B0BEC5\",\"#B0BEC5\",\"#B0BEC5\",\"#B0BEC5\",\"#B0BEC5\",\"#B0BEC5\",\"#B0BEC5\",\"#B0BEC5\",\"#B0BEC5\",\"#B0BEC5\",\"#B0BEC5\",\"#B0BEC5\",\"#B0BEC5\",\"#B0BEC5\",\"#B0BEC5\",\"#B0BEC5\",\"#B0BEC5\",\"#B0BEC5\",\"#B0BEC5\",\"#B0BEC5\",\"#B0BEC5\",\"#B0BEC5\",\"#B0BEC5\",\"#B0BEC5\",\"#B0BEC5\",\"#B0BEC5\",\"#B0BEC5\",\"#B0BEC5\",\"#B0BEC5\",\"#B0BEC5\",\"#B0BEC5\",\"#B0BEC5\",\"#B0BEC5\",\"#B0BEC5\",\"#B0BEC5\",\"#B0BEC5\",\"#B0BEC5\",\"#B0BEC5\",\"#B0BEC5\",\"#B0BEC5\",\"#B0BEC5\",\"#B0BEC5\",\"red\",\"#B0BEC5\",\"#B0BEC5\",\"#B0BEC5\",\"#B0BEC5\",\"#B0BEC5\",\"#B0BEC5\",\"#B0BEC5\",\"#B0BEC5\",\"#B0BEC5\",\"#B0BEC5\",\"#B0BEC5\",\"#B0BEC5\",\"#B0BEC5\",\"#B0BEC5\",\"#B0BEC5\",\"#B0BEC5\",\"#B0BEC5\",\"#B0BEC5\",\"#B0BEC5\",\"#B0BEC5\",\"#B0BEC5\",\"#B0BEC5\",\"#B0BEC5\",\"#B0BEC5\",\"#B0BEC5\",\"#B0BEC5\",\"#B0BEC5\",\"#B0BEC5\",\"#B0BEC5\",\"#B0BEC5\",\"#B0BEC5\",\"#B0BEC5\",\"#B0BEC5\",\"#B0BEC5\",\"#B0BEC5\",\"#B0BEC5\"]]}],\"label\":\"Topic 45\",\"method\":\"update\"},{\"args\":[{\"marker.color\":[[\"#B0BEC5\",\"#B0BEC5\",\"#B0BEC5\",\"#B0BEC5\",\"#B0BEC5\",\"#B0BEC5\",\"#B0BEC5\",\"#B0BEC5\",\"#B0BEC5\",\"#B0BEC5\",\"#B0BEC5\",\"#B0BEC5\",\"#B0BEC5\",\"#B0BEC5\",\"#B0BEC5\",\"#B0BEC5\",\"#B0BEC5\",\"#B0BEC5\",\"#B0BEC5\",\"#B0BEC5\",\"#B0BEC5\",\"#B0BEC5\",\"#B0BEC5\",\"#B0BEC5\",\"#B0BEC5\",\"#B0BEC5\",\"#B0BEC5\",\"#B0BEC5\",\"#B0BEC5\",\"#B0BEC5\",\"#B0BEC5\",\"#B0BEC5\",\"#B0BEC5\",\"#B0BEC5\",\"#B0BEC5\",\"#B0BEC5\",\"#B0BEC5\",\"#B0BEC5\",\"#B0BEC5\",\"#B0BEC5\",\"#B0BEC5\",\"#B0BEC5\",\"#B0BEC5\",\"#B0BEC5\",\"#B0BEC5\",\"#B0BEC5\",\"red\",\"#B0BEC5\",\"#B0BEC5\",\"#B0BEC5\",\"#B0BEC5\",\"#B0BEC5\",\"#B0BEC5\",\"#B0BEC5\",\"#B0BEC5\",\"#B0BEC5\",\"#B0BEC5\",\"#B0BEC5\",\"#B0BEC5\",\"#B0BEC5\",\"#B0BEC5\",\"#B0BEC5\",\"#B0BEC5\",\"#B0BEC5\",\"#B0BEC5\",\"#B0BEC5\",\"#B0BEC5\",\"#B0BEC5\",\"#B0BEC5\",\"#B0BEC5\",\"#B0BEC5\",\"#B0BEC5\",\"#B0BEC5\",\"#B0BEC5\",\"#B0BEC5\",\"#B0BEC5\",\"#B0BEC5\",\"#B0BEC5\",\"#B0BEC5\",\"#B0BEC5\",\"#B0BEC5\",\"#B0BEC5\"]]}],\"label\":\"Topic 46\",\"method\":\"update\"},{\"args\":[{\"marker.color\":[[\"#B0BEC5\",\"#B0BEC5\",\"#B0BEC5\",\"#B0BEC5\",\"#B0BEC5\",\"#B0BEC5\",\"#B0BEC5\",\"#B0BEC5\",\"#B0BEC5\",\"#B0BEC5\",\"#B0BEC5\",\"#B0BEC5\",\"#B0BEC5\",\"#B0BEC5\",\"#B0BEC5\",\"#B0BEC5\",\"#B0BEC5\",\"#B0BEC5\",\"#B0BEC5\",\"#B0BEC5\",\"#B0BEC5\",\"#B0BEC5\",\"#B0BEC5\",\"#B0BEC5\",\"#B0BEC5\",\"#B0BEC5\",\"#B0BEC5\",\"#B0BEC5\",\"#B0BEC5\",\"#B0BEC5\",\"#B0BEC5\",\"#B0BEC5\",\"#B0BEC5\",\"#B0BEC5\",\"#B0BEC5\",\"#B0BEC5\",\"#B0BEC5\",\"#B0BEC5\",\"#B0BEC5\",\"#B0BEC5\",\"#B0BEC5\",\"#B0BEC5\",\"#B0BEC5\",\"#B0BEC5\",\"#B0BEC5\",\"#B0BEC5\",\"#B0BEC5\",\"red\",\"#B0BEC5\",\"#B0BEC5\",\"#B0BEC5\",\"#B0BEC5\",\"#B0BEC5\",\"#B0BEC5\",\"#B0BEC5\",\"#B0BEC5\",\"#B0BEC5\",\"#B0BEC5\",\"#B0BEC5\",\"#B0BEC5\",\"#B0BEC5\",\"#B0BEC5\",\"#B0BEC5\",\"#B0BEC5\",\"#B0BEC5\",\"#B0BEC5\",\"#B0BEC5\",\"#B0BEC5\",\"#B0BEC5\",\"#B0BEC5\",\"#B0BEC5\",\"#B0BEC5\",\"#B0BEC5\",\"#B0BEC5\",\"#B0BEC5\",\"#B0BEC5\",\"#B0BEC5\",\"#B0BEC5\",\"#B0BEC5\",\"#B0BEC5\",\"#B0BEC5\",\"#B0BEC5\"]]}],\"label\":\"Topic 47\",\"method\":\"update\"},{\"args\":[{\"marker.color\":[[\"#B0BEC5\",\"#B0BEC5\",\"#B0BEC5\",\"#B0BEC5\",\"#B0BEC5\",\"#B0BEC5\",\"#B0BEC5\",\"#B0BEC5\",\"#B0BEC5\",\"#B0BEC5\",\"#B0BEC5\",\"#B0BEC5\",\"#B0BEC5\",\"#B0BEC5\",\"#B0BEC5\",\"#B0BEC5\",\"#B0BEC5\",\"#B0BEC5\",\"#B0BEC5\",\"#B0BEC5\",\"#B0BEC5\",\"#B0BEC5\",\"#B0BEC5\",\"#B0BEC5\",\"#B0BEC5\",\"#B0BEC5\",\"#B0BEC5\",\"#B0BEC5\",\"#B0BEC5\",\"#B0BEC5\",\"#B0BEC5\",\"#B0BEC5\",\"#B0BEC5\",\"#B0BEC5\",\"#B0BEC5\",\"#B0BEC5\",\"#B0BEC5\",\"#B0BEC5\",\"#B0BEC5\",\"#B0BEC5\",\"#B0BEC5\",\"#B0BEC5\",\"#B0BEC5\",\"#B0BEC5\",\"#B0BEC5\",\"#B0BEC5\",\"#B0BEC5\",\"#B0BEC5\",\"red\",\"#B0BEC5\",\"#B0BEC5\",\"#B0BEC5\",\"#B0BEC5\",\"#B0BEC5\",\"#B0BEC5\",\"#B0BEC5\",\"#B0BEC5\",\"#B0BEC5\",\"#B0BEC5\",\"#B0BEC5\",\"#B0BEC5\",\"#B0BEC5\",\"#B0BEC5\",\"#B0BEC5\",\"#B0BEC5\",\"#B0BEC5\",\"#B0BEC5\",\"#B0BEC5\",\"#B0BEC5\",\"#B0BEC5\",\"#B0BEC5\",\"#B0BEC5\",\"#B0BEC5\",\"#B0BEC5\",\"#B0BEC5\",\"#B0BEC5\",\"#B0BEC5\",\"#B0BEC5\",\"#B0BEC5\",\"#B0BEC5\",\"#B0BEC5\",\"#B0BEC5\"]]}],\"label\":\"Topic 48\",\"method\":\"update\"},{\"args\":[{\"marker.color\":[[\"#B0BEC5\",\"#B0BEC5\",\"#B0BEC5\",\"#B0BEC5\",\"#B0BEC5\",\"#B0BEC5\",\"#B0BEC5\",\"#B0BEC5\",\"#B0BEC5\",\"#B0BEC5\",\"#B0BEC5\",\"#B0BEC5\",\"#B0BEC5\",\"#B0BEC5\",\"#B0BEC5\",\"#B0BEC5\",\"#B0BEC5\",\"#B0BEC5\",\"#B0BEC5\",\"#B0BEC5\",\"#B0BEC5\",\"#B0BEC5\",\"#B0BEC5\",\"#B0BEC5\",\"#B0BEC5\",\"#B0BEC5\",\"#B0BEC5\",\"#B0BEC5\",\"#B0BEC5\",\"#B0BEC5\",\"#B0BEC5\",\"#B0BEC5\",\"#B0BEC5\",\"#B0BEC5\",\"#B0BEC5\",\"#B0BEC5\",\"#B0BEC5\",\"#B0BEC5\",\"#B0BEC5\",\"#B0BEC5\",\"#B0BEC5\",\"#B0BEC5\",\"#B0BEC5\",\"#B0BEC5\",\"#B0BEC5\",\"#B0BEC5\",\"#B0BEC5\",\"#B0BEC5\",\"#B0BEC5\",\"red\",\"#B0BEC5\",\"#B0BEC5\",\"#B0BEC5\",\"#B0BEC5\",\"#B0BEC5\",\"#B0BEC5\",\"#B0BEC5\",\"#B0BEC5\",\"#B0BEC5\",\"#B0BEC5\",\"#B0BEC5\",\"#B0BEC5\",\"#B0BEC5\",\"#B0BEC5\",\"#B0BEC5\",\"#B0BEC5\",\"#B0BEC5\",\"#B0BEC5\",\"#B0BEC5\",\"#B0BEC5\",\"#B0BEC5\",\"#B0BEC5\",\"#B0BEC5\",\"#B0BEC5\",\"#B0BEC5\",\"#B0BEC5\",\"#B0BEC5\",\"#B0BEC5\",\"#B0BEC5\",\"#B0BEC5\",\"#B0BEC5\",\"#B0BEC5\"]]}],\"label\":\"Topic 49\",\"method\":\"update\"},{\"args\":[{\"marker.color\":[[\"#B0BEC5\",\"#B0BEC5\",\"#B0BEC5\",\"#B0BEC5\",\"#B0BEC5\",\"#B0BEC5\",\"#B0BEC5\",\"#B0BEC5\",\"#B0BEC5\",\"#B0BEC5\",\"#B0BEC5\",\"#B0BEC5\",\"#B0BEC5\",\"#B0BEC5\",\"#B0BEC5\",\"#B0BEC5\",\"#B0BEC5\",\"#B0BEC5\",\"#B0BEC5\",\"#B0BEC5\",\"#B0BEC5\",\"#B0BEC5\",\"#B0BEC5\",\"#B0BEC5\",\"#B0BEC5\",\"#B0BEC5\",\"#B0BEC5\",\"#B0BEC5\",\"#B0BEC5\",\"#B0BEC5\",\"#B0BEC5\",\"#B0BEC5\",\"#B0BEC5\",\"#B0BEC5\",\"#B0BEC5\",\"#B0BEC5\",\"#B0BEC5\",\"#B0BEC5\",\"#B0BEC5\",\"#B0BEC5\",\"#B0BEC5\",\"#B0BEC5\",\"#B0BEC5\",\"#B0BEC5\",\"#B0BEC5\",\"#B0BEC5\",\"#B0BEC5\",\"#B0BEC5\",\"#B0BEC5\",\"#B0BEC5\",\"red\",\"#B0BEC5\",\"#B0BEC5\",\"#B0BEC5\",\"#B0BEC5\",\"#B0BEC5\",\"#B0BEC5\",\"#B0BEC5\",\"#B0BEC5\",\"#B0BEC5\",\"#B0BEC5\",\"#B0BEC5\",\"#B0BEC5\",\"#B0BEC5\",\"#B0BEC5\",\"#B0BEC5\",\"#B0BEC5\",\"#B0BEC5\",\"#B0BEC5\",\"#B0BEC5\",\"#B0BEC5\",\"#B0BEC5\",\"#B0BEC5\",\"#B0BEC5\",\"#B0BEC5\",\"#B0BEC5\",\"#B0BEC5\",\"#B0BEC5\",\"#B0BEC5\",\"#B0BEC5\",\"#B0BEC5\",\"#B0BEC5\"]]}],\"label\":\"Topic 50\",\"method\":\"update\"},{\"args\":[{\"marker.color\":[[\"#B0BEC5\",\"#B0BEC5\",\"#B0BEC5\",\"#B0BEC5\",\"#B0BEC5\",\"#B0BEC5\",\"#B0BEC5\",\"#B0BEC5\",\"#B0BEC5\",\"#B0BEC5\",\"#B0BEC5\",\"#B0BEC5\",\"#B0BEC5\",\"#B0BEC5\",\"#B0BEC5\",\"#B0BEC5\",\"#B0BEC5\",\"#B0BEC5\",\"#B0BEC5\",\"#B0BEC5\",\"#B0BEC5\",\"#B0BEC5\",\"#B0BEC5\",\"#B0BEC5\",\"#B0BEC5\",\"#B0BEC5\",\"#B0BEC5\",\"#B0BEC5\",\"#B0BEC5\",\"#B0BEC5\",\"#B0BEC5\",\"#B0BEC5\",\"#B0BEC5\",\"#B0BEC5\",\"#B0BEC5\",\"#B0BEC5\",\"#B0BEC5\",\"#B0BEC5\",\"#B0BEC5\",\"#B0BEC5\",\"#B0BEC5\",\"#B0BEC5\",\"#B0BEC5\",\"#B0BEC5\",\"#B0BEC5\",\"#B0BEC5\",\"#B0BEC5\",\"#B0BEC5\",\"#B0BEC5\",\"#B0BEC5\",\"#B0BEC5\",\"red\",\"#B0BEC5\",\"#B0BEC5\",\"#B0BEC5\",\"#B0BEC5\",\"#B0BEC5\",\"#B0BEC5\",\"#B0BEC5\",\"#B0BEC5\",\"#B0BEC5\",\"#B0BEC5\",\"#B0BEC5\",\"#B0BEC5\",\"#B0BEC5\",\"#B0BEC5\",\"#B0BEC5\",\"#B0BEC5\",\"#B0BEC5\",\"#B0BEC5\",\"#B0BEC5\",\"#B0BEC5\",\"#B0BEC5\",\"#B0BEC5\",\"#B0BEC5\",\"#B0BEC5\",\"#B0BEC5\",\"#B0BEC5\",\"#B0BEC5\",\"#B0BEC5\",\"#B0BEC5\",\"#B0BEC5\"]]}],\"label\":\"Topic 51\",\"method\":\"update\"},{\"args\":[{\"marker.color\":[[\"#B0BEC5\",\"#B0BEC5\",\"#B0BEC5\",\"#B0BEC5\",\"#B0BEC5\",\"#B0BEC5\",\"#B0BEC5\",\"#B0BEC5\",\"#B0BEC5\",\"#B0BEC5\",\"#B0BEC5\",\"#B0BEC5\",\"#B0BEC5\",\"#B0BEC5\",\"#B0BEC5\",\"#B0BEC5\",\"#B0BEC5\",\"#B0BEC5\",\"#B0BEC5\",\"#B0BEC5\",\"#B0BEC5\",\"#B0BEC5\",\"#B0BEC5\",\"#B0BEC5\",\"#B0BEC5\",\"#B0BEC5\",\"#B0BEC5\",\"#B0BEC5\",\"#B0BEC5\",\"#B0BEC5\",\"#B0BEC5\",\"#B0BEC5\",\"#B0BEC5\",\"#B0BEC5\",\"#B0BEC5\",\"#B0BEC5\",\"#B0BEC5\",\"#B0BEC5\",\"#B0BEC5\",\"#B0BEC5\",\"#B0BEC5\",\"#B0BEC5\",\"#B0BEC5\",\"#B0BEC5\",\"#B0BEC5\",\"#B0BEC5\",\"#B0BEC5\",\"#B0BEC5\",\"#B0BEC5\",\"#B0BEC5\",\"#B0BEC5\",\"#B0BEC5\",\"red\",\"#B0BEC5\",\"#B0BEC5\",\"#B0BEC5\",\"#B0BEC5\",\"#B0BEC5\",\"#B0BEC5\",\"#B0BEC5\",\"#B0BEC5\",\"#B0BEC5\",\"#B0BEC5\",\"#B0BEC5\",\"#B0BEC5\",\"#B0BEC5\",\"#B0BEC5\",\"#B0BEC5\",\"#B0BEC5\",\"#B0BEC5\",\"#B0BEC5\",\"#B0BEC5\",\"#B0BEC5\",\"#B0BEC5\",\"#B0BEC5\",\"#B0BEC5\",\"#B0BEC5\",\"#B0BEC5\",\"#B0BEC5\",\"#B0BEC5\",\"#B0BEC5\",\"#B0BEC5\"]]}],\"label\":\"Topic 52\",\"method\":\"update\"},{\"args\":[{\"marker.color\":[[\"#B0BEC5\",\"#B0BEC5\",\"#B0BEC5\",\"#B0BEC5\",\"#B0BEC5\",\"#B0BEC5\",\"#B0BEC5\",\"#B0BEC5\",\"#B0BEC5\",\"#B0BEC5\",\"#B0BEC5\",\"#B0BEC5\",\"#B0BEC5\",\"#B0BEC5\",\"#B0BEC5\",\"#B0BEC5\",\"#B0BEC5\",\"#B0BEC5\",\"#B0BEC5\",\"#B0BEC5\",\"#B0BEC5\",\"#B0BEC5\",\"#B0BEC5\",\"#B0BEC5\",\"#B0BEC5\",\"#B0BEC5\",\"#B0BEC5\",\"#B0BEC5\",\"#B0BEC5\",\"#B0BEC5\",\"#B0BEC5\",\"#B0BEC5\",\"#B0BEC5\",\"#B0BEC5\",\"#B0BEC5\",\"#B0BEC5\",\"#B0BEC5\",\"#B0BEC5\",\"#B0BEC5\",\"#B0BEC5\",\"#B0BEC5\",\"#B0BEC5\",\"#B0BEC5\",\"#B0BEC5\",\"#B0BEC5\",\"#B0BEC5\",\"#B0BEC5\",\"#B0BEC5\",\"#B0BEC5\",\"#B0BEC5\",\"#B0BEC5\",\"#B0BEC5\",\"#B0BEC5\",\"red\",\"#B0BEC5\",\"#B0BEC5\",\"#B0BEC5\",\"#B0BEC5\",\"#B0BEC5\",\"#B0BEC5\",\"#B0BEC5\",\"#B0BEC5\",\"#B0BEC5\",\"#B0BEC5\",\"#B0BEC5\",\"#B0BEC5\",\"#B0BEC5\",\"#B0BEC5\",\"#B0BEC5\",\"#B0BEC5\",\"#B0BEC5\",\"#B0BEC5\",\"#B0BEC5\",\"#B0BEC5\",\"#B0BEC5\",\"#B0BEC5\",\"#B0BEC5\",\"#B0BEC5\",\"#B0BEC5\",\"#B0BEC5\",\"#B0BEC5\",\"#B0BEC5\"]]}],\"label\":\"Topic 53\",\"method\":\"update\"},{\"args\":[{\"marker.color\":[[\"#B0BEC5\",\"#B0BEC5\",\"#B0BEC5\",\"#B0BEC5\",\"#B0BEC5\",\"#B0BEC5\",\"#B0BEC5\",\"#B0BEC5\",\"#B0BEC5\",\"#B0BEC5\",\"#B0BEC5\",\"#B0BEC5\",\"#B0BEC5\",\"#B0BEC5\",\"#B0BEC5\",\"#B0BEC5\",\"#B0BEC5\",\"#B0BEC5\",\"#B0BEC5\",\"#B0BEC5\",\"#B0BEC5\",\"#B0BEC5\",\"#B0BEC5\",\"#B0BEC5\",\"#B0BEC5\",\"#B0BEC5\",\"#B0BEC5\",\"#B0BEC5\",\"#B0BEC5\",\"#B0BEC5\",\"#B0BEC5\",\"#B0BEC5\",\"#B0BEC5\",\"#B0BEC5\",\"#B0BEC5\",\"#B0BEC5\",\"#B0BEC5\",\"#B0BEC5\",\"#B0BEC5\",\"#B0BEC5\",\"#B0BEC5\",\"#B0BEC5\",\"#B0BEC5\",\"#B0BEC5\",\"#B0BEC5\",\"#B0BEC5\",\"#B0BEC5\",\"#B0BEC5\",\"#B0BEC5\",\"#B0BEC5\",\"#B0BEC5\",\"#B0BEC5\",\"#B0BEC5\",\"#B0BEC5\",\"red\",\"#B0BEC5\",\"#B0BEC5\",\"#B0BEC5\",\"#B0BEC5\",\"#B0BEC5\",\"#B0BEC5\",\"#B0BEC5\",\"#B0BEC5\",\"#B0BEC5\",\"#B0BEC5\",\"#B0BEC5\",\"#B0BEC5\",\"#B0BEC5\",\"#B0BEC5\",\"#B0BEC5\",\"#B0BEC5\",\"#B0BEC5\",\"#B0BEC5\",\"#B0BEC5\",\"#B0BEC5\",\"#B0BEC5\",\"#B0BEC5\",\"#B0BEC5\",\"#B0BEC5\",\"#B0BEC5\",\"#B0BEC5\",\"#B0BEC5\"]]}],\"label\":\"Topic 54\",\"method\":\"update\"},{\"args\":[{\"marker.color\":[[\"#B0BEC5\",\"#B0BEC5\",\"#B0BEC5\",\"#B0BEC5\",\"#B0BEC5\",\"#B0BEC5\",\"#B0BEC5\",\"#B0BEC5\",\"#B0BEC5\",\"#B0BEC5\",\"#B0BEC5\",\"#B0BEC5\",\"#B0BEC5\",\"#B0BEC5\",\"#B0BEC5\",\"#B0BEC5\",\"#B0BEC5\",\"#B0BEC5\",\"#B0BEC5\",\"#B0BEC5\",\"#B0BEC5\",\"#B0BEC5\",\"#B0BEC5\",\"#B0BEC5\",\"#B0BEC5\",\"#B0BEC5\",\"#B0BEC5\",\"#B0BEC5\",\"#B0BEC5\",\"#B0BEC5\",\"#B0BEC5\",\"#B0BEC5\",\"#B0BEC5\",\"#B0BEC5\",\"#B0BEC5\",\"#B0BEC5\",\"#B0BEC5\",\"#B0BEC5\",\"#B0BEC5\",\"#B0BEC5\",\"#B0BEC5\",\"#B0BEC5\",\"#B0BEC5\",\"#B0BEC5\",\"#B0BEC5\",\"#B0BEC5\",\"#B0BEC5\",\"#B0BEC5\",\"#B0BEC5\",\"#B0BEC5\",\"#B0BEC5\",\"#B0BEC5\",\"#B0BEC5\",\"#B0BEC5\",\"#B0BEC5\",\"red\",\"#B0BEC5\",\"#B0BEC5\",\"#B0BEC5\",\"#B0BEC5\",\"#B0BEC5\",\"#B0BEC5\",\"#B0BEC5\",\"#B0BEC5\",\"#B0BEC5\",\"#B0BEC5\",\"#B0BEC5\",\"#B0BEC5\",\"#B0BEC5\",\"#B0BEC5\",\"#B0BEC5\",\"#B0BEC5\",\"#B0BEC5\",\"#B0BEC5\",\"#B0BEC5\",\"#B0BEC5\",\"#B0BEC5\",\"#B0BEC5\",\"#B0BEC5\",\"#B0BEC5\",\"#B0BEC5\",\"#B0BEC5\"]]}],\"label\":\"Topic 55\",\"method\":\"update\"},{\"args\":[{\"marker.color\":[[\"#B0BEC5\",\"#B0BEC5\",\"#B0BEC5\",\"#B0BEC5\",\"#B0BEC5\",\"#B0BEC5\",\"#B0BEC5\",\"#B0BEC5\",\"#B0BEC5\",\"#B0BEC5\",\"#B0BEC5\",\"#B0BEC5\",\"#B0BEC5\",\"#B0BEC5\",\"#B0BEC5\",\"#B0BEC5\",\"#B0BEC5\",\"#B0BEC5\",\"#B0BEC5\",\"#B0BEC5\",\"#B0BEC5\",\"#B0BEC5\",\"#B0BEC5\",\"#B0BEC5\",\"#B0BEC5\",\"#B0BEC5\",\"#B0BEC5\",\"#B0BEC5\",\"#B0BEC5\",\"#B0BEC5\",\"#B0BEC5\",\"#B0BEC5\",\"#B0BEC5\",\"#B0BEC5\",\"#B0BEC5\",\"#B0BEC5\",\"#B0BEC5\",\"#B0BEC5\",\"#B0BEC5\",\"#B0BEC5\",\"#B0BEC5\",\"#B0BEC5\",\"#B0BEC5\",\"#B0BEC5\",\"#B0BEC5\",\"#B0BEC5\",\"#B0BEC5\",\"#B0BEC5\",\"#B0BEC5\",\"#B0BEC5\",\"#B0BEC5\",\"#B0BEC5\",\"#B0BEC5\",\"#B0BEC5\",\"#B0BEC5\",\"#B0BEC5\",\"red\",\"#B0BEC5\",\"#B0BEC5\",\"#B0BEC5\",\"#B0BEC5\",\"#B0BEC5\",\"#B0BEC5\",\"#B0BEC5\",\"#B0BEC5\",\"#B0BEC5\",\"#B0BEC5\",\"#B0BEC5\",\"#B0BEC5\",\"#B0BEC5\",\"#B0BEC5\",\"#B0BEC5\",\"#B0BEC5\",\"#B0BEC5\",\"#B0BEC5\",\"#B0BEC5\",\"#B0BEC5\",\"#B0BEC5\",\"#B0BEC5\",\"#B0BEC5\",\"#B0BEC5\",\"#B0BEC5\"]]}],\"label\":\"Topic 56\",\"method\":\"update\"},{\"args\":[{\"marker.color\":[[\"#B0BEC5\",\"#B0BEC5\",\"#B0BEC5\",\"#B0BEC5\",\"#B0BEC5\",\"#B0BEC5\",\"#B0BEC5\",\"#B0BEC5\",\"#B0BEC5\",\"#B0BEC5\",\"#B0BEC5\",\"#B0BEC5\",\"#B0BEC5\",\"#B0BEC5\",\"#B0BEC5\",\"#B0BEC5\",\"#B0BEC5\",\"#B0BEC5\",\"#B0BEC5\",\"#B0BEC5\",\"#B0BEC5\",\"#B0BEC5\",\"#B0BEC5\",\"#B0BEC5\",\"#B0BEC5\",\"#B0BEC5\",\"#B0BEC5\",\"#B0BEC5\",\"#B0BEC5\",\"#B0BEC5\",\"#B0BEC5\",\"#B0BEC5\",\"#B0BEC5\",\"#B0BEC5\",\"#B0BEC5\",\"#B0BEC5\",\"#B0BEC5\",\"#B0BEC5\",\"#B0BEC5\",\"#B0BEC5\",\"#B0BEC5\",\"#B0BEC5\",\"#B0BEC5\",\"#B0BEC5\",\"#B0BEC5\",\"#B0BEC5\",\"#B0BEC5\",\"#B0BEC5\",\"#B0BEC5\",\"#B0BEC5\",\"#B0BEC5\",\"#B0BEC5\",\"#B0BEC5\",\"#B0BEC5\",\"#B0BEC5\",\"#B0BEC5\",\"#B0BEC5\",\"red\",\"#B0BEC5\",\"#B0BEC5\",\"#B0BEC5\",\"#B0BEC5\",\"#B0BEC5\",\"#B0BEC5\",\"#B0BEC5\",\"#B0BEC5\",\"#B0BEC5\",\"#B0BEC5\",\"#B0BEC5\",\"#B0BEC5\",\"#B0BEC5\",\"#B0BEC5\",\"#B0BEC5\",\"#B0BEC5\",\"#B0BEC5\",\"#B0BEC5\",\"#B0BEC5\",\"#B0BEC5\",\"#B0BEC5\",\"#B0BEC5\",\"#B0BEC5\",\"#B0BEC5\"]]}],\"label\":\"Topic 57\",\"method\":\"update\"},{\"args\":[{\"marker.color\":[[\"#B0BEC5\",\"#B0BEC5\",\"#B0BEC5\",\"#B0BEC5\",\"#B0BEC5\",\"#B0BEC5\",\"#B0BEC5\",\"#B0BEC5\",\"#B0BEC5\",\"#B0BEC5\",\"#B0BEC5\",\"#B0BEC5\",\"#B0BEC5\",\"#B0BEC5\",\"#B0BEC5\",\"#B0BEC5\",\"#B0BEC5\",\"#B0BEC5\",\"#B0BEC5\",\"#B0BEC5\",\"#B0BEC5\",\"#B0BEC5\",\"#B0BEC5\",\"#B0BEC5\",\"#B0BEC5\",\"#B0BEC5\",\"#B0BEC5\",\"#B0BEC5\",\"#B0BEC5\",\"#B0BEC5\",\"#B0BEC5\",\"#B0BEC5\",\"#B0BEC5\",\"#B0BEC5\",\"#B0BEC5\",\"#B0BEC5\",\"#B0BEC5\",\"#B0BEC5\",\"#B0BEC5\",\"#B0BEC5\",\"#B0BEC5\",\"#B0BEC5\",\"#B0BEC5\",\"#B0BEC5\",\"#B0BEC5\",\"#B0BEC5\",\"#B0BEC5\",\"#B0BEC5\",\"#B0BEC5\",\"#B0BEC5\",\"#B0BEC5\",\"#B0BEC5\",\"#B0BEC5\",\"#B0BEC5\",\"#B0BEC5\",\"#B0BEC5\",\"#B0BEC5\",\"#B0BEC5\",\"red\",\"#B0BEC5\",\"#B0BEC5\",\"#B0BEC5\",\"#B0BEC5\",\"#B0BEC5\",\"#B0BEC5\",\"#B0BEC5\",\"#B0BEC5\",\"#B0BEC5\",\"#B0BEC5\",\"#B0BEC5\",\"#B0BEC5\",\"#B0BEC5\",\"#B0BEC5\",\"#B0BEC5\",\"#B0BEC5\",\"#B0BEC5\",\"#B0BEC5\",\"#B0BEC5\",\"#B0BEC5\",\"#B0BEC5\",\"#B0BEC5\",\"#B0BEC5\"]]}],\"label\":\"Topic 58\",\"method\":\"update\"},{\"args\":[{\"marker.color\":[[\"#B0BEC5\",\"#B0BEC5\",\"#B0BEC5\",\"#B0BEC5\",\"#B0BEC5\",\"#B0BEC5\",\"#B0BEC5\",\"#B0BEC5\",\"#B0BEC5\",\"#B0BEC5\",\"#B0BEC5\",\"#B0BEC5\",\"#B0BEC5\",\"#B0BEC5\",\"#B0BEC5\",\"#B0BEC5\",\"#B0BEC5\",\"#B0BEC5\",\"#B0BEC5\",\"#B0BEC5\",\"#B0BEC5\",\"#B0BEC5\",\"#B0BEC5\",\"#B0BEC5\",\"#B0BEC5\",\"#B0BEC5\",\"#B0BEC5\",\"#B0BEC5\",\"#B0BEC5\",\"#B0BEC5\",\"#B0BEC5\",\"#B0BEC5\",\"#B0BEC5\",\"#B0BEC5\",\"#B0BEC5\",\"#B0BEC5\",\"#B0BEC5\",\"#B0BEC5\",\"#B0BEC5\",\"#B0BEC5\",\"#B0BEC5\",\"#B0BEC5\",\"#B0BEC5\",\"#B0BEC5\",\"#B0BEC5\",\"#B0BEC5\",\"#B0BEC5\",\"#B0BEC5\",\"#B0BEC5\",\"#B0BEC5\",\"#B0BEC5\",\"#B0BEC5\",\"#B0BEC5\",\"#B0BEC5\",\"#B0BEC5\",\"#B0BEC5\",\"#B0BEC5\",\"#B0BEC5\",\"#B0BEC5\",\"red\",\"#B0BEC5\",\"#B0BEC5\",\"#B0BEC5\",\"#B0BEC5\",\"#B0BEC5\",\"#B0BEC5\",\"#B0BEC5\",\"#B0BEC5\",\"#B0BEC5\",\"#B0BEC5\",\"#B0BEC5\",\"#B0BEC5\",\"#B0BEC5\",\"#B0BEC5\",\"#B0BEC5\",\"#B0BEC5\",\"#B0BEC5\",\"#B0BEC5\",\"#B0BEC5\",\"#B0BEC5\",\"#B0BEC5\",\"#B0BEC5\"]]}],\"label\":\"Topic 59\",\"method\":\"update\"},{\"args\":[{\"marker.color\":[[\"#B0BEC5\",\"#B0BEC5\",\"#B0BEC5\",\"#B0BEC5\",\"#B0BEC5\",\"#B0BEC5\",\"#B0BEC5\",\"#B0BEC5\",\"#B0BEC5\",\"#B0BEC5\",\"#B0BEC5\",\"#B0BEC5\",\"#B0BEC5\",\"#B0BEC5\",\"#B0BEC5\",\"#B0BEC5\",\"#B0BEC5\",\"#B0BEC5\",\"#B0BEC5\",\"#B0BEC5\",\"#B0BEC5\",\"#B0BEC5\",\"#B0BEC5\",\"#B0BEC5\",\"#B0BEC5\",\"#B0BEC5\",\"#B0BEC5\",\"#B0BEC5\",\"#B0BEC5\",\"#B0BEC5\",\"#B0BEC5\",\"#B0BEC5\",\"#B0BEC5\",\"#B0BEC5\",\"#B0BEC5\",\"#B0BEC5\",\"#B0BEC5\",\"#B0BEC5\",\"#B0BEC5\",\"#B0BEC5\",\"#B0BEC5\",\"#B0BEC5\",\"#B0BEC5\",\"#B0BEC5\",\"#B0BEC5\",\"#B0BEC5\",\"#B0BEC5\",\"#B0BEC5\",\"#B0BEC5\",\"#B0BEC5\",\"#B0BEC5\",\"#B0BEC5\",\"#B0BEC5\",\"#B0BEC5\",\"#B0BEC5\",\"#B0BEC5\",\"#B0BEC5\",\"#B0BEC5\",\"#B0BEC5\",\"#B0BEC5\",\"red\",\"#B0BEC5\",\"#B0BEC5\",\"#B0BEC5\",\"#B0BEC5\",\"#B0BEC5\",\"#B0BEC5\",\"#B0BEC5\",\"#B0BEC5\",\"#B0BEC5\",\"#B0BEC5\",\"#B0BEC5\",\"#B0BEC5\",\"#B0BEC5\",\"#B0BEC5\",\"#B0BEC5\",\"#B0BEC5\",\"#B0BEC5\",\"#B0BEC5\",\"#B0BEC5\",\"#B0BEC5\",\"#B0BEC5\"]]}],\"label\":\"Topic 60\",\"method\":\"update\"},{\"args\":[{\"marker.color\":[[\"#B0BEC5\",\"#B0BEC5\",\"#B0BEC5\",\"#B0BEC5\",\"#B0BEC5\",\"#B0BEC5\",\"#B0BEC5\",\"#B0BEC5\",\"#B0BEC5\",\"#B0BEC5\",\"#B0BEC5\",\"#B0BEC5\",\"#B0BEC5\",\"#B0BEC5\",\"#B0BEC5\",\"#B0BEC5\",\"#B0BEC5\",\"#B0BEC5\",\"#B0BEC5\",\"#B0BEC5\",\"#B0BEC5\",\"#B0BEC5\",\"#B0BEC5\",\"#B0BEC5\",\"#B0BEC5\",\"#B0BEC5\",\"#B0BEC5\",\"#B0BEC5\",\"#B0BEC5\",\"#B0BEC5\",\"#B0BEC5\",\"#B0BEC5\",\"#B0BEC5\",\"#B0BEC5\",\"#B0BEC5\",\"#B0BEC5\",\"#B0BEC5\",\"#B0BEC5\",\"#B0BEC5\",\"#B0BEC5\",\"#B0BEC5\",\"#B0BEC5\",\"#B0BEC5\",\"#B0BEC5\",\"#B0BEC5\",\"#B0BEC5\",\"#B0BEC5\",\"#B0BEC5\",\"#B0BEC5\",\"#B0BEC5\",\"#B0BEC5\",\"#B0BEC5\",\"#B0BEC5\",\"#B0BEC5\",\"#B0BEC5\",\"#B0BEC5\",\"#B0BEC5\",\"#B0BEC5\",\"#B0BEC5\",\"#B0BEC5\",\"#B0BEC5\",\"red\",\"#B0BEC5\",\"#B0BEC5\",\"#B0BEC5\",\"#B0BEC5\",\"#B0BEC5\",\"#B0BEC5\",\"#B0BEC5\",\"#B0BEC5\",\"#B0BEC5\",\"#B0BEC5\",\"#B0BEC5\",\"#B0BEC5\",\"#B0BEC5\",\"#B0BEC5\",\"#B0BEC5\",\"#B0BEC5\",\"#B0BEC5\",\"#B0BEC5\",\"#B0BEC5\",\"#B0BEC5\"]]}],\"label\":\"Topic 61\",\"method\":\"update\"},{\"args\":[{\"marker.color\":[[\"#B0BEC5\",\"#B0BEC5\",\"#B0BEC5\",\"#B0BEC5\",\"#B0BEC5\",\"#B0BEC5\",\"#B0BEC5\",\"#B0BEC5\",\"#B0BEC5\",\"#B0BEC5\",\"#B0BEC5\",\"#B0BEC5\",\"#B0BEC5\",\"#B0BEC5\",\"#B0BEC5\",\"#B0BEC5\",\"#B0BEC5\",\"#B0BEC5\",\"#B0BEC5\",\"#B0BEC5\",\"#B0BEC5\",\"#B0BEC5\",\"#B0BEC5\",\"#B0BEC5\",\"#B0BEC5\",\"#B0BEC5\",\"#B0BEC5\",\"#B0BEC5\",\"#B0BEC5\",\"#B0BEC5\",\"#B0BEC5\",\"#B0BEC5\",\"#B0BEC5\",\"#B0BEC5\",\"#B0BEC5\",\"#B0BEC5\",\"#B0BEC5\",\"#B0BEC5\",\"#B0BEC5\",\"#B0BEC5\",\"#B0BEC5\",\"#B0BEC5\",\"#B0BEC5\",\"#B0BEC5\",\"#B0BEC5\",\"#B0BEC5\",\"#B0BEC5\",\"#B0BEC5\",\"#B0BEC5\",\"#B0BEC5\",\"#B0BEC5\",\"#B0BEC5\",\"#B0BEC5\",\"#B0BEC5\",\"#B0BEC5\",\"#B0BEC5\",\"#B0BEC5\",\"#B0BEC5\",\"#B0BEC5\",\"#B0BEC5\",\"#B0BEC5\",\"#B0BEC5\",\"red\",\"#B0BEC5\",\"#B0BEC5\",\"#B0BEC5\",\"#B0BEC5\",\"#B0BEC5\",\"#B0BEC5\",\"#B0BEC5\",\"#B0BEC5\",\"#B0BEC5\",\"#B0BEC5\",\"#B0BEC5\",\"#B0BEC5\",\"#B0BEC5\",\"#B0BEC5\",\"#B0BEC5\",\"#B0BEC5\",\"#B0BEC5\",\"#B0BEC5\",\"#B0BEC5\"]]}],\"label\":\"Topic 62\",\"method\":\"update\"},{\"args\":[{\"marker.color\":[[\"#B0BEC5\",\"#B0BEC5\",\"#B0BEC5\",\"#B0BEC5\",\"#B0BEC5\",\"#B0BEC5\",\"#B0BEC5\",\"#B0BEC5\",\"#B0BEC5\",\"#B0BEC5\",\"#B0BEC5\",\"#B0BEC5\",\"#B0BEC5\",\"#B0BEC5\",\"#B0BEC5\",\"#B0BEC5\",\"#B0BEC5\",\"#B0BEC5\",\"#B0BEC5\",\"#B0BEC5\",\"#B0BEC5\",\"#B0BEC5\",\"#B0BEC5\",\"#B0BEC5\",\"#B0BEC5\",\"#B0BEC5\",\"#B0BEC5\",\"#B0BEC5\",\"#B0BEC5\",\"#B0BEC5\",\"#B0BEC5\",\"#B0BEC5\",\"#B0BEC5\",\"#B0BEC5\",\"#B0BEC5\",\"#B0BEC5\",\"#B0BEC5\",\"#B0BEC5\",\"#B0BEC5\",\"#B0BEC5\",\"#B0BEC5\",\"#B0BEC5\",\"#B0BEC5\",\"#B0BEC5\",\"#B0BEC5\",\"#B0BEC5\",\"#B0BEC5\",\"#B0BEC5\",\"#B0BEC5\",\"#B0BEC5\",\"#B0BEC5\",\"#B0BEC5\",\"#B0BEC5\",\"#B0BEC5\",\"#B0BEC5\",\"#B0BEC5\",\"#B0BEC5\",\"#B0BEC5\",\"#B0BEC5\",\"#B0BEC5\",\"#B0BEC5\",\"#B0BEC5\",\"#B0BEC5\",\"red\",\"#B0BEC5\",\"#B0BEC5\",\"#B0BEC5\",\"#B0BEC5\",\"#B0BEC5\",\"#B0BEC5\",\"#B0BEC5\",\"#B0BEC5\",\"#B0BEC5\",\"#B0BEC5\",\"#B0BEC5\",\"#B0BEC5\",\"#B0BEC5\",\"#B0BEC5\",\"#B0BEC5\",\"#B0BEC5\",\"#B0BEC5\",\"#B0BEC5\"]]}],\"label\":\"Topic 63\",\"method\":\"update\"},{\"args\":[{\"marker.color\":[[\"#B0BEC5\",\"#B0BEC5\",\"#B0BEC5\",\"#B0BEC5\",\"#B0BEC5\",\"#B0BEC5\",\"#B0BEC5\",\"#B0BEC5\",\"#B0BEC5\",\"#B0BEC5\",\"#B0BEC5\",\"#B0BEC5\",\"#B0BEC5\",\"#B0BEC5\",\"#B0BEC5\",\"#B0BEC5\",\"#B0BEC5\",\"#B0BEC5\",\"#B0BEC5\",\"#B0BEC5\",\"#B0BEC5\",\"#B0BEC5\",\"#B0BEC5\",\"#B0BEC5\",\"#B0BEC5\",\"#B0BEC5\",\"#B0BEC5\",\"#B0BEC5\",\"#B0BEC5\",\"#B0BEC5\",\"#B0BEC5\",\"#B0BEC5\",\"#B0BEC5\",\"#B0BEC5\",\"#B0BEC5\",\"#B0BEC5\",\"#B0BEC5\",\"#B0BEC5\",\"#B0BEC5\",\"#B0BEC5\",\"#B0BEC5\",\"#B0BEC5\",\"#B0BEC5\",\"#B0BEC5\",\"#B0BEC5\",\"#B0BEC5\",\"#B0BEC5\",\"#B0BEC5\",\"#B0BEC5\",\"#B0BEC5\",\"#B0BEC5\",\"#B0BEC5\",\"#B0BEC5\",\"#B0BEC5\",\"#B0BEC5\",\"#B0BEC5\",\"#B0BEC5\",\"#B0BEC5\",\"#B0BEC5\",\"#B0BEC5\",\"#B0BEC5\",\"#B0BEC5\",\"#B0BEC5\",\"#B0BEC5\",\"red\",\"#B0BEC5\",\"#B0BEC5\",\"#B0BEC5\",\"#B0BEC5\",\"#B0BEC5\",\"#B0BEC5\",\"#B0BEC5\",\"#B0BEC5\",\"#B0BEC5\",\"#B0BEC5\",\"#B0BEC5\",\"#B0BEC5\",\"#B0BEC5\",\"#B0BEC5\",\"#B0BEC5\",\"#B0BEC5\",\"#B0BEC5\"]]}],\"label\":\"Topic 64\",\"method\":\"update\"},{\"args\":[{\"marker.color\":[[\"#B0BEC5\",\"#B0BEC5\",\"#B0BEC5\",\"#B0BEC5\",\"#B0BEC5\",\"#B0BEC5\",\"#B0BEC5\",\"#B0BEC5\",\"#B0BEC5\",\"#B0BEC5\",\"#B0BEC5\",\"#B0BEC5\",\"#B0BEC5\",\"#B0BEC5\",\"#B0BEC5\",\"#B0BEC5\",\"#B0BEC5\",\"#B0BEC5\",\"#B0BEC5\",\"#B0BEC5\",\"#B0BEC5\",\"#B0BEC5\",\"#B0BEC5\",\"#B0BEC5\",\"#B0BEC5\",\"#B0BEC5\",\"#B0BEC5\",\"#B0BEC5\",\"#B0BEC5\",\"#B0BEC5\",\"#B0BEC5\",\"#B0BEC5\",\"#B0BEC5\",\"#B0BEC5\",\"#B0BEC5\",\"#B0BEC5\",\"#B0BEC5\",\"#B0BEC5\",\"#B0BEC5\",\"#B0BEC5\",\"#B0BEC5\",\"#B0BEC5\",\"#B0BEC5\",\"#B0BEC5\",\"#B0BEC5\",\"#B0BEC5\",\"#B0BEC5\",\"#B0BEC5\",\"#B0BEC5\",\"#B0BEC5\",\"#B0BEC5\",\"#B0BEC5\",\"#B0BEC5\",\"#B0BEC5\",\"#B0BEC5\",\"#B0BEC5\",\"#B0BEC5\",\"#B0BEC5\",\"#B0BEC5\",\"#B0BEC5\",\"#B0BEC5\",\"#B0BEC5\",\"#B0BEC5\",\"#B0BEC5\",\"#B0BEC5\",\"red\",\"#B0BEC5\",\"#B0BEC5\",\"#B0BEC5\",\"#B0BEC5\",\"#B0BEC5\",\"#B0BEC5\",\"#B0BEC5\",\"#B0BEC5\",\"#B0BEC5\",\"#B0BEC5\",\"#B0BEC5\",\"#B0BEC5\",\"#B0BEC5\",\"#B0BEC5\",\"#B0BEC5\",\"#B0BEC5\"]]}],\"label\":\"Topic 65\",\"method\":\"update\"},{\"args\":[{\"marker.color\":[[\"#B0BEC5\",\"#B0BEC5\",\"#B0BEC5\",\"#B0BEC5\",\"#B0BEC5\",\"#B0BEC5\",\"#B0BEC5\",\"#B0BEC5\",\"#B0BEC5\",\"#B0BEC5\",\"#B0BEC5\",\"#B0BEC5\",\"#B0BEC5\",\"#B0BEC5\",\"#B0BEC5\",\"#B0BEC5\",\"#B0BEC5\",\"#B0BEC5\",\"#B0BEC5\",\"#B0BEC5\",\"#B0BEC5\",\"#B0BEC5\",\"#B0BEC5\",\"#B0BEC5\",\"#B0BEC5\",\"#B0BEC5\",\"#B0BEC5\",\"#B0BEC5\",\"#B0BEC5\",\"#B0BEC5\",\"#B0BEC5\",\"#B0BEC5\",\"#B0BEC5\",\"#B0BEC5\",\"#B0BEC5\",\"#B0BEC5\",\"#B0BEC5\",\"#B0BEC5\",\"#B0BEC5\",\"#B0BEC5\",\"#B0BEC5\",\"#B0BEC5\",\"#B0BEC5\",\"#B0BEC5\",\"#B0BEC5\",\"#B0BEC5\",\"#B0BEC5\",\"#B0BEC5\",\"#B0BEC5\",\"#B0BEC5\",\"#B0BEC5\",\"#B0BEC5\",\"#B0BEC5\",\"#B0BEC5\",\"#B0BEC5\",\"#B0BEC5\",\"#B0BEC5\",\"#B0BEC5\",\"#B0BEC5\",\"#B0BEC5\",\"#B0BEC5\",\"#B0BEC5\",\"#B0BEC5\",\"#B0BEC5\",\"#B0BEC5\",\"#B0BEC5\",\"red\",\"#B0BEC5\",\"#B0BEC5\",\"#B0BEC5\",\"#B0BEC5\",\"#B0BEC5\",\"#B0BEC5\",\"#B0BEC5\",\"#B0BEC5\",\"#B0BEC5\",\"#B0BEC5\",\"#B0BEC5\",\"#B0BEC5\",\"#B0BEC5\",\"#B0BEC5\",\"#B0BEC5\"]]}],\"label\":\"Topic 66\",\"method\":\"update\"},{\"args\":[{\"marker.color\":[[\"#B0BEC5\",\"#B0BEC5\",\"#B0BEC5\",\"#B0BEC5\",\"#B0BEC5\",\"#B0BEC5\",\"#B0BEC5\",\"#B0BEC5\",\"#B0BEC5\",\"#B0BEC5\",\"#B0BEC5\",\"#B0BEC5\",\"#B0BEC5\",\"#B0BEC5\",\"#B0BEC5\",\"#B0BEC5\",\"#B0BEC5\",\"#B0BEC5\",\"#B0BEC5\",\"#B0BEC5\",\"#B0BEC5\",\"#B0BEC5\",\"#B0BEC5\",\"#B0BEC5\",\"#B0BEC5\",\"#B0BEC5\",\"#B0BEC5\",\"#B0BEC5\",\"#B0BEC5\",\"#B0BEC5\",\"#B0BEC5\",\"#B0BEC5\",\"#B0BEC5\",\"#B0BEC5\",\"#B0BEC5\",\"#B0BEC5\",\"#B0BEC5\",\"#B0BEC5\",\"#B0BEC5\",\"#B0BEC5\",\"#B0BEC5\",\"#B0BEC5\",\"#B0BEC5\",\"#B0BEC5\",\"#B0BEC5\",\"#B0BEC5\",\"#B0BEC5\",\"#B0BEC5\",\"#B0BEC5\",\"#B0BEC5\",\"#B0BEC5\",\"#B0BEC5\",\"#B0BEC5\",\"#B0BEC5\",\"#B0BEC5\",\"#B0BEC5\",\"#B0BEC5\",\"#B0BEC5\",\"#B0BEC5\",\"#B0BEC5\",\"#B0BEC5\",\"#B0BEC5\",\"#B0BEC5\",\"#B0BEC5\",\"#B0BEC5\",\"#B0BEC5\",\"#B0BEC5\",\"red\",\"#B0BEC5\",\"#B0BEC5\",\"#B0BEC5\",\"#B0BEC5\",\"#B0BEC5\",\"#B0BEC5\",\"#B0BEC5\",\"#B0BEC5\",\"#B0BEC5\",\"#B0BEC5\",\"#B0BEC5\",\"#B0BEC5\",\"#B0BEC5\",\"#B0BEC5\"]]}],\"label\":\"Topic 67\",\"method\":\"update\"},{\"args\":[{\"marker.color\":[[\"#B0BEC5\",\"#B0BEC5\",\"#B0BEC5\",\"#B0BEC5\",\"#B0BEC5\",\"#B0BEC5\",\"#B0BEC5\",\"#B0BEC5\",\"#B0BEC5\",\"#B0BEC5\",\"#B0BEC5\",\"#B0BEC5\",\"#B0BEC5\",\"#B0BEC5\",\"#B0BEC5\",\"#B0BEC5\",\"#B0BEC5\",\"#B0BEC5\",\"#B0BEC5\",\"#B0BEC5\",\"#B0BEC5\",\"#B0BEC5\",\"#B0BEC5\",\"#B0BEC5\",\"#B0BEC5\",\"#B0BEC5\",\"#B0BEC5\",\"#B0BEC5\",\"#B0BEC5\",\"#B0BEC5\",\"#B0BEC5\",\"#B0BEC5\",\"#B0BEC5\",\"#B0BEC5\",\"#B0BEC5\",\"#B0BEC5\",\"#B0BEC5\",\"#B0BEC5\",\"#B0BEC5\",\"#B0BEC5\",\"#B0BEC5\",\"#B0BEC5\",\"#B0BEC5\",\"#B0BEC5\",\"#B0BEC5\",\"#B0BEC5\",\"#B0BEC5\",\"#B0BEC5\",\"#B0BEC5\",\"#B0BEC5\",\"#B0BEC5\",\"#B0BEC5\",\"#B0BEC5\",\"#B0BEC5\",\"#B0BEC5\",\"#B0BEC5\",\"#B0BEC5\",\"#B0BEC5\",\"#B0BEC5\",\"#B0BEC5\",\"#B0BEC5\",\"#B0BEC5\",\"#B0BEC5\",\"#B0BEC5\",\"#B0BEC5\",\"#B0BEC5\",\"#B0BEC5\",\"#B0BEC5\",\"red\",\"#B0BEC5\",\"#B0BEC5\",\"#B0BEC5\",\"#B0BEC5\",\"#B0BEC5\",\"#B0BEC5\",\"#B0BEC5\",\"#B0BEC5\",\"#B0BEC5\",\"#B0BEC5\",\"#B0BEC5\",\"#B0BEC5\",\"#B0BEC5\"]]}],\"label\":\"Topic 68\",\"method\":\"update\"},{\"args\":[{\"marker.color\":[[\"#B0BEC5\",\"#B0BEC5\",\"#B0BEC5\",\"#B0BEC5\",\"#B0BEC5\",\"#B0BEC5\",\"#B0BEC5\",\"#B0BEC5\",\"#B0BEC5\",\"#B0BEC5\",\"#B0BEC5\",\"#B0BEC5\",\"#B0BEC5\",\"#B0BEC5\",\"#B0BEC5\",\"#B0BEC5\",\"#B0BEC5\",\"#B0BEC5\",\"#B0BEC5\",\"#B0BEC5\",\"#B0BEC5\",\"#B0BEC5\",\"#B0BEC5\",\"#B0BEC5\",\"#B0BEC5\",\"#B0BEC5\",\"#B0BEC5\",\"#B0BEC5\",\"#B0BEC5\",\"#B0BEC5\",\"#B0BEC5\",\"#B0BEC5\",\"#B0BEC5\",\"#B0BEC5\",\"#B0BEC5\",\"#B0BEC5\",\"#B0BEC5\",\"#B0BEC5\",\"#B0BEC5\",\"#B0BEC5\",\"#B0BEC5\",\"#B0BEC5\",\"#B0BEC5\",\"#B0BEC5\",\"#B0BEC5\",\"#B0BEC5\",\"#B0BEC5\",\"#B0BEC5\",\"#B0BEC5\",\"#B0BEC5\",\"#B0BEC5\",\"#B0BEC5\",\"#B0BEC5\",\"#B0BEC5\",\"#B0BEC5\",\"#B0BEC5\",\"#B0BEC5\",\"#B0BEC5\",\"#B0BEC5\",\"#B0BEC5\",\"#B0BEC5\",\"#B0BEC5\",\"#B0BEC5\",\"#B0BEC5\",\"#B0BEC5\",\"#B0BEC5\",\"#B0BEC5\",\"#B0BEC5\",\"#B0BEC5\",\"red\",\"#B0BEC5\",\"#B0BEC5\",\"#B0BEC5\",\"#B0BEC5\",\"#B0BEC5\",\"#B0BEC5\",\"#B0BEC5\",\"#B0BEC5\",\"#B0BEC5\",\"#B0BEC5\",\"#B0BEC5\",\"#B0BEC5\"]]}],\"label\":\"Topic 69\",\"method\":\"update\"},{\"args\":[{\"marker.color\":[[\"#B0BEC5\",\"#B0BEC5\",\"#B0BEC5\",\"#B0BEC5\",\"#B0BEC5\",\"#B0BEC5\",\"#B0BEC5\",\"#B0BEC5\",\"#B0BEC5\",\"#B0BEC5\",\"#B0BEC5\",\"#B0BEC5\",\"#B0BEC5\",\"#B0BEC5\",\"#B0BEC5\",\"#B0BEC5\",\"#B0BEC5\",\"#B0BEC5\",\"#B0BEC5\",\"#B0BEC5\",\"#B0BEC5\",\"#B0BEC5\",\"#B0BEC5\",\"#B0BEC5\",\"#B0BEC5\",\"#B0BEC5\",\"#B0BEC5\",\"#B0BEC5\",\"#B0BEC5\",\"#B0BEC5\",\"#B0BEC5\",\"#B0BEC5\",\"#B0BEC5\",\"#B0BEC5\",\"#B0BEC5\",\"#B0BEC5\",\"#B0BEC5\",\"#B0BEC5\",\"#B0BEC5\",\"#B0BEC5\",\"#B0BEC5\",\"#B0BEC5\",\"#B0BEC5\",\"#B0BEC5\",\"#B0BEC5\",\"#B0BEC5\",\"#B0BEC5\",\"#B0BEC5\",\"#B0BEC5\",\"#B0BEC5\",\"#B0BEC5\",\"#B0BEC5\",\"#B0BEC5\",\"#B0BEC5\",\"#B0BEC5\",\"#B0BEC5\",\"#B0BEC5\",\"#B0BEC5\",\"#B0BEC5\",\"#B0BEC5\",\"#B0BEC5\",\"#B0BEC5\",\"#B0BEC5\",\"#B0BEC5\",\"#B0BEC5\",\"#B0BEC5\",\"#B0BEC5\",\"#B0BEC5\",\"#B0BEC5\",\"#B0BEC5\",\"red\",\"#B0BEC5\",\"#B0BEC5\",\"#B0BEC5\",\"#B0BEC5\",\"#B0BEC5\",\"#B0BEC5\",\"#B0BEC5\",\"#B0BEC5\",\"#B0BEC5\",\"#B0BEC5\",\"#B0BEC5\"]]}],\"label\":\"Topic 70\",\"method\":\"update\"},{\"args\":[{\"marker.color\":[[\"#B0BEC5\",\"#B0BEC5\",\"#B0BEC5\",\"#B0BEC5\",\"#B0BEC5\",\"#B0BEC5\",\"#B0BEC5\",\"#B0BEC5\",\"#B0BEC5\",\"#B0BEC5\",\"#B0BEC5\",\"#B0BEC5\",\"#B0BEC5\",\"#B0BEC5\",\"#B0BEC5\",\"#B0BEC5\",\"#B0BEC5\",\"#B0BEC5\",\"#B0BEC5\",\"#B0BEC5\",\"#B0BEC5\",\"#B0BEC5\",\"#B0BEC5\",\"#B0BEC5\",\"#B0BEC5\",\"#B0BEC5\",\"#B0BEC5\",\"#B0BEC5\",\"#B0BEC5\",\"#B0BEC5\",\"#B0BEC5\",\"#B0BEC5\",\"#B0BEC5\",\"#B0BEC5\",\"#B0BEC5\",\"#B0BEC5\",\"#B0BEC5\",\"#B0BEC5\",\"#B0BEC5\",\"#B0BEC5\",\"#B0BEC5\",\"#B0BEC5\",\"#B0BEC5\",\"#B0BEC5\",\"#B0BEC5\",\"#B0BEC5\",\"#B0BEC5\",\"#B0BEC5\",\"#B0BEC5\",\"#B0BEC5\",\"#B0BEC5\",\"#B0BEC5\",\"#B0BEC5\",\"#B0BEC5\",\"#B0BEC5\",\"#B0BEC5\",\"#B0BEC5\",\"#B0BEC5\",\"#B0BEC5\",\"#B0BEC5\",\"#B0BEC5\",\"#B0BEC5\",\"#B0BEC5\",\"#B0BEC5\",\"#B0BEC5\",\"#B0BEC5\",\"#B0BEC5\",\"#B0BEC5\",\"#B0BEC5\",\"#B0BEC5\",\"#B0BEC5\",\"red\",\"#B0BEC5\",\"#B0BEC5\",\"#B0BEC5\",\"#B0BEC5\",\"#B0BEC5\",\"#B0BEC5\",\"#B0BEC5\",\"#B0BEC5\",\"#B0BEC5\",\"#B0BEC5\"]]}],\"label\":\"Topic 71\",\"method\":\"update\"},{\"args\":[{\"marker.color\":[[\"#B0BEC5\",\"#B0BEC5\",\"#B0BEC5\",\"#B0BEC5\",\"#B0BEC5\",\"#B0BEC5\",\"#B0BEC5\",\"#B0BEC5\",\"#B0BEC5\",\"#B0BEC5\",\"#B0BEC5\",\"#B0BEC5\",\"#B0BEC5\",\"#B0BEC5\",\"#B0BEC5\",\"#B0BEC5\",\"#B0BEC5\",\"#B0BEC5\",\"#B0BEC5\",\"#B0BEC5\",\"#B0BEC5\",\"#B0BEC5\",\"#B0BEC5\",\"#B0BEC5\",\"#B0BEC5\",\"#B0BEC5\",\"#B0BEC5\",\"#B0BEC5\",\"#B0BEC5\",\"#B0BEC5\",\"#B0BEC5\",\"#B0BEC5\",\"#B0BEC5\",\"#B0BEC5\",\"#B0BEC5\",\"#B0BEC5\",\"#B0BEC5\",\"#B0BEC5\",\"#B0BEC5\",\"#B0BEC5\",\"#B0BEC5\",\"#B0BEC5\",\"#B0BEC5\",\"#B0BEC5\",\"#B0BEC5\",\"#B0BEC5\",\"#B0BEC5\",\"#B0BEC5\",\"#B0BEC5\",\"#B0BEC5\",\"#B0BEC5\",\"#B0BEC5\",\"#B0BEC5\",\"#B0BEC5\",\"#B0BEC5\",\"#B0BEC5\",\"#B0BEC5\",\"#B0BEC5\",\"#B0BEC5\",\"#B0BEC5\",\"#B0BEC5\",\"#B0BEC5\",\"#B0BEC5\",\"#B0BEC5\",\"#B0BEC5\",\"#B0BEC5\",\"#B0BEC5\",\"#B0BEC5\",\"#B0BEC5\",\"#B0BEC5\",\"#B0BEC5\",\"#B0BEC5\",\"red\",\"#B0BEC5\",\"#B0BEC5\",\"#B0BEC5\",\"#B0BEC5\",\"#B0BEC5\",\"#B0BEC5\",\"#B0BEC5\",\"#B0BEC5\",\"#B0BEC5\"]]}],\"label\":\"Topic 72\",\"method\":\"update\"},{\"args\":[{\"marker.color\":[[\"#B0BEC5\",\"#B0BEC5\",\"#B0BEC5\",\"#B0BEC5\",\"#B0BEC5\",\"#B0BEC5\",\"#B0BEC5\",\"#B0BEC5\",\"#B0BEC5\",\"#B0BEC5\",\"#B0BEC5\",\"#B0BEC5\",\"#B0BEC5\",\"#B0BEC5\",\"#B0BEC5\",\"#B0BEC5\",\"#B0BEC5\",\"#B0BEC5\",\"#B0BEC5\",\"#B0BEC5\",\"#B0BEC5\",\"#B0BEC5\",\"#B0BEC5\",\"#B0BEC5\",\"#B0BEC5\",\"#B0BEC5\",\"#B0BEC5\",\"#B0BEC5\",\"#B0BEC5\",\"#B0BEC5\",\"#B0BEC5\",\"#B0BEC5\",\"#B0BEC5\",\"#B0BEC5\",\"#B0BEC5\",\"#B0BEC5\",\"#B0BEC5\",\"#B0BEC5\",\"#B0BEC5\",\"#B0BEC5\",\"#B0BEC5\",\"#B0BEC5\",\"#B0BEC5\",\"#B0BEC5\",\"#B0BEC5\",\"#B0BEC5\",\"#B0BEC5\",\"#B0BEC5\",\"#B0BEC5\",\"#B0BEC5\",\"#B0BEC5\",\"#B0BEC5\",\"#B0BEC5\",\"#B0BEC5\",\"#B0BEC5\",\"#B0BEC5\",\"#B0BEC5\",\"#B0BEC5\",\"#B0BEC5\",\"#B0BEC5\",\"#B0BEC5\",\"#B0BEC5\",\"#B0BEC5\",\"#B0BEC5\",\"#B0BEC5\",\"#B0BEC5\",\"#B0BEC5\",\"#B0BEC5\",\"#B0BEC5\",\"#B0BEC5\",\"#B0BEC5\",\"#B0BEC5\",\"#B0BEC5\",\"red\",\"#B0BEC5\",\"#B0BEC5\",\"#B0BEC5\",\"#B0BEC5\",\"#B0BEC5\",\"#B0BEC5\",\"#B0BEC5\",\"#B0BEC5\"]]}],\"label\":\"Topic 73\",\"method\":\"update\"},{\"args\":[{\"marker.color\":[[\"#B0BEC5\",\"#B0BEC5\",\"#B0BEC5\",\"#B0BEC5\",\"#B0BEC5\",\"#B0BEC5\",\"#B0BEC5\",\"#B0BEC5\",\"#B0BEC5\",\"#B0BEC5\",\"#B0BEC5\",\"#B0BEC5\",\"#B0BEC5\",\"#B0BEC5\",\"#B0BEC5\",\"#B0BEC5\",\"#B0BEC5\",\"#B0BEC5\",\"#B0BEC5\",\"#B0BEC5\",\"#B0BEC5\",\"#B0BEC5\",\"#B0BEC5\",\"#B0BEC5\",\"#B0BEC5\",\"#B0BEC5\",\"#B0BEC5\",\"#B0BEC5\",\"#B0BEC5\",\"#B0BEC5\",\"#B0BEC5\",\"#B0BEC5\",\"#B0BEC5\",\"#B0BEC5\",\"#B0BEC5\",\"#B0BEC5\",\"#B0BEC5\",\"#B0BEC5\",\"#B0BEC5\",\"#B0BEC5\",\"#B0BEC5\",\"#B0BEC5\",\"#B0BEC5\",\"#B0BEC5\",\"#B0BEC5\",\"#B0BEC5\",\"#B0BEC5\",\"#B0BEC5\",\"#B0BEC5\",\"#B0BEC5\",\"#B0BEC5\",\"#B0BEC5\",\"#B0BEC5\",\"#B0BEC5\",\"#B0BEC5\",\"#B0BEC5\",\"#B0BEC5\",\"#B0BEC5\",\"#B0BEC5\",\"#B0BEC5\",\"#B0BEC5\",\"#B0BEC5\",\"#B0BEC5\",\"#B0BEC5\",\"#B0BEC5\",\"#B0BEC5\",\"#B0BEC5\",\"#B0BEC5\",\"#B0BEC5\",\"#B0BEC5\",\"#B0BEC5\",\"#B0BEC5\",\"#B0BEC5\",\"#B0BEC5\",\"red\",\"#B0BEC5\",\"#B0BEC5\",\"#B0BEC5\",\"#B0BEC5\",\"#B0BEC5\",\"#B0BEC5\",\"#B0BEC5\"]]}],\"label\":\"Topic 74\",\"method\":\"update\"},{\"args\":[{\"marker.color\":[[\"#B0BEC5\",\"#B0BEC5\",\"#B0BEC5\",\"#B0BEC5\",\"#B0BEC5\",\"#B0BEC5\",\"#B0BEC5\",\"#B0BEC5\",\"#B0BEC5\",\"#B0BEC5\",\"#B0BEC5\",\"#B0BEC5\",\"#B0BEC5\",\"#B0BEC5\",\"#B0BEC5\",\"#B0BEC5\",\"#B0BEC5\",\"#B0BEC5\",\"#B0BEC5\",\"#B0BEC5\",\"#B0BEC5\",\"#B0BEC5\",\"#B0BEC5\",\"#B0BEC5\",\"#B0BEC5\",\"#B0BEC5\",\"#B0BEC5\",\"#B0BEC5\",\"#B0BEC5\",\"#B0BEC5\",\"#B0BEC5\",\"#B0BEC5\",\"#B0BEC5\",\"#B0BEC5\",\"#B0BEC5\",\"#B0BEC5\",\"#B0BEC5\",\"#B0BEC5\",\"#B0BEC5\",\"#B0BEC5\",\"#B0BEC5\",\"#B0BEC5\",\"#B0BEC5\",\"#B0BEC5\",\"#B0BEC5\",\"#B0BEC5\",\"#B0BEC5\",\"#B0BEC5\",\"#B0BEC5\",\"#B0BEC5\",\"#B0BEC5\",\"#B0BEC5\",\"#B0BEC5\",\"#B0BEC5\",\"#B0BEC5\",\"#B0BEC5\",\"#B0BEC5\",\"#B0BEC5\",\"#B0BEC5\",\"#B0BEC5\",\"#B0BEC5\",\"#B0BEC5\",\"#B0BEC5\",\"#B0BEC5\",\"#B0BEC5\",\"#B0BEC5\",\"#B0BEC5\",\"#B0BEC5\",\"#B0BEC5\",\"#B0BEC5\",\"#B0BEC5\",\"#B0BEC5\",\"#B0BEC5\",\"#B0BEC5\",\"#B0BEC5\",\"red\",\"#B0BEC5\",\"#B0BEC5\",\"#B0BEC5\",\"#B0BEC5\",\"#B0BEC5\",\"#B0BEC5\"]]}],\"label\":\"Topic 75\",\"method\":\"update\"},{\"args\":[{\"marker.color\":[[\"#B0BEC5\",\"#B0BEC5\",\"#B0BEC5\",\"#B0BEC5\",\"#B0BEC5\",\"#B0BEC5\",\"#B0BEC5\",\"#B0BEC5\",\"#B0BEC5\",\"#B0BEC5\",\"#B0BEC5\",\"#B0BEC5\",\"#B0BEC5\",\"#B0BEC5\",\"#B0BEC5\",\"#B0BEC5\",\"#B0BEC5\",\"#B0BEC5\",\"#B0BEC5\",\"#B0BEC5\",\"#B0BEC5\",\"#B0BEC5\",\"#B0BEC5\",\"#B0BEC5\",\"#B0BEC5\",\"#B0BEC5\",\"#B0BEC5\",\"#B0BEC5\",\"#B0BEC5\",\"#B0BEC5\",\"#B0BEC5\",\"#B0BEC5\",\"#B0BEC5\",\"#B0BEC5\",\"#B0BEC5\",\"#B0BEC5\",\"#B0BEC5\",\"#B0BEC5\",\"#B0BEC5\",\"#B0BEC5\",\"#B0BEC5\",\"#B0BEC5\",\"#B0BEC5\",\"#B0BEC5\",\"#B0BEC5\",\"#B0BEC5\",\"#B0BEC5\",\"#B0BEC5\",\"#B0BEC5\",\"#B0BEC5\",\"#B0BEC5\",\"#B0BEC5\",\"#B0BEC5\",\"#B0BEC5\",\"#B0BEC5\",\"#B0BEC5\",\"#B0BEC5\",\"#B0BEC5\",\"#B0BEC5\",\"#B0BEC5\",\"#B0BEC5\",\"#B0BEC5\",\"#B0BEC5\",\"#B0BEC5\",\"#B0BEC5\",\"#B0BEC5\",\"#B0BEC5\",\"#B0BEC5\",\"#B0BEC5\",\"#B0BEC5\",\"#B0BEC5\",\"#B0BEC5\",\"#B0BEC5\",\"#B0BEC5\",\"#B0BEC5\",\"#B0BEC5\",\"red\",\"#B0BEC5\",\"#B0BEC5\",\"#B0BEC5\",\"#B0BEC5\",\"#B0BEC5\"]]}],\"label\":\"Topic 76\",\"method\":\"update\"},{\"args\":[{\"marker.color\":[[\"#B0BEC5\",\"#B0BEC5\",\"#B0BEC5\",\"#B0BEC5\",\"#B0BEC5\",\"#B0BEC5\",\"#B0BEC5\",\"#B0BEC5\",\"#B0BEC5\",\"#B0BEC5\",\"#B0BEC5\",\"#B0BEC5\",\"#B0BEC5\",\"#B0BEC5\",\"#B0BEC5\",\"#B0BEC5\",\"#B0BEC5\",\"#B0BEC5\",\"#B0BEC5\",\"#B0BEC5\",\"#B0BEC5\",\"#B0BEC5\",\"#B0BEC5\",\"#B0BEC5\",\"#B0BEC5\",\"#B0BEC5\",\"#B0BEC5\",\"#B0BEC5\",\"#B0BEC5\",\"#B0BEC5\",\"#B0BEC5\",\"#B0BEC5\",\"#B0BEC5\",\"#B0BEC5\",\"#B0BEC5\",\"#B0BEC5\",\"#B0BEC5\",\"#B0BEC5\",\"#B0BEC5\",\"#B0BEC5\",\"#B0BEC5\",\"#B0BEC5\",\"#B0BEC5\",\"#B0BEC5\",\"#B0BEC5\",\"#B0BEC5\",\"#B0BEC5\",\"#B0BEC5\",\"#B0BEC5\",\"#B0BEC5\",\"#B0BEC5\",\"#B0BEC5\",\"#B0BEC5\",\"#B0BEC5\",\"#B0BEC5\",\"#B0BEC5\",\"#B0BEC5\",\"#B0BEC5\",\"#B0BEC5\",\"#B0BEC5\",\"#B0BEC5\",\"#B0BEC5\",\"#B0BEC5\",\"#B0BEC5\",\"#B0BEC5\",\"#B0BEC5\",\"#B0BEC5\",\"#B0BEC5\",\"#B0BEC5\",\"#B0BEC5\",\"#B0BEC5\",\"#B0BEC5\",\"#B0BEC5\",\"#B0BEC5\",\"#B0BEC5\",\"#B0BEC5\",\"#B0BEC5\",\"red\",\"#B0BEC5\",\"#B0BEC5\",\"#B0BEC5\",\"#B0BEC5\"]]}],\"label\":\"Topic 77\",\"method\":\"update\"},{\"args\":[{\"marker.color\":[[\"#B0BEC5\",\"#B0BEC5\",\"#B0BEC5\",\"#B0BEC5\",\"#B0BEC5\",\"#B0BEC5\",\"#B0BEC5\",\"#B0BEC5\",\"#B0BEC5\",\"#B0BEC5\",\"#B0BEC5\",\"#B0BEC5\",\"#B0BEC5\",\"#B0BEC5\",\"#B0BEC5\",\"#B0BEC5\",\"#B0BEC5\",\"#B0BEC5\",\"#B0BEC5\",\"#B0BEC5\",\"#B0BEC5\",\"#B0BEC5\",\"#B0BEC5\",\"#B0BEC5\",\"#B0BEC5\",\"#B0BEC5\",\"#B0BEC5\",\"#B0BEC5\",\"#B0BEC5\",\"#B0BEC5\",\"#B0BEC5\",\"#B0BEC5\",\"#B0BEC5\",\"#B0BEC5\",\"#B0BEC5\",\"#B0BEC5\",\"#B0BEC5\",\"#B0BEC5\",\"#B0BEC5\",\"#B0BEC5\",\"#B0BEC5\",\"#B0BEC5\",\"#B0BEC5\",\"#B0BEC5\",\"#B0BEC5\",\"#B0BEC5\",\"#B0BEC5\",\"#B0BEC5\",\"#B0BEC5\",\"#B0BEC5\",\"#B0BEC5\",\"#B0BEC5\",\"#B0BEC5\",\"#B0BEC5\",\"#B0BEC5\",\"#B0BEC5\",\"#B0BEC5\",\"#B0BEC5\",\"#B0BEC5\",\"#B0BEC5\",\"#B0BEC5\",\"#B0BEC5\",\"#B0BEC5\",\"#B0BEC5\",\"#B0BEC5\",\"#B0BEC5\",\"#B0BEC5\",\"#B0BEC5\",\"#B0BEC5\",\"#B0BEC5\",\"#B0BEC5\",\"#B0BEC5\",\"#B0BEC5\",\"#B0BEC5\",\"#B0BEC5\",\"#B0BEC5\",\"#B0BEC5\",\"#B0BEC5\",\"red\",\"#B0BEC5\",\"#B0BEC5\",\"#B0BEC5\"]]}],\"label\":\"Topic 78\",\"method\":\"update\"},{\"args\":[{\"marker.color\":[[\"#B0BEC5\",\"#B0BEC5\",\"#B0BEC5\",\"#B0BEC5\",\"#B0BEC5\",\"#B0BEC5\",\"#B0BEC5\",\"#B0BEC5\",\"#B0BEC5\",\"#B0BEC5\",\"#B0BEC5\",\"#B0BEC5\",\"#B0BEC5\",\"#B0BEC5\",\"#B0BEC5\",\"#B0BEC5\",\"#B0BEC5\",\"#B0BEC5\",\"#B0BEC5\",\"#B0BEC5\",\"#B0BEC5\",\"#B0BEC5\",\"#B0BEC5\",\"#B0BEC5\",\"#B0BEC5\",\"#B0BEC5\",\"#B0BEC5\",\"#B0BEC5\",\"#B0BEC5\",\"#B0BEC5\",\"#B0BEC5\",\"#B0BEC5\",\"#B0BEC5\",\"#B0BEC5\",\"#B0BEC5\",\"#B0BEC5\",\"#B0BEC5\",\"#B0BEC5\",\"#B0BEC5\",\"#B0BEC5\",\"#B0BEC5\",\"#B0BEC5\",\"#B0BEC5\",\"#B0BEC5\",\"#B0BEC5\",\"#B0BEC5\",\"#B0BEC5\",\"#B0BEC5\",\"#B0BEC5\",\"#B0BEC5\",\"#B0BEC5\",\"#B0BEC5\",\"#B0BEC5\",\"#B0BEC5\",\"#B0BEC5\",\"#B0BEC5\",\"#B0BEC5\",\"#B0BEC5\",\"#B0BEC5\",\"#B0BEC5\",\"#B0BEC5\",\"#B0BEC5\",\"#B0BEC5\",\"#B0BEC5\",\"#B0BEC5\",\"#B0BEC5\",\"#B0BEC5\",\"#B0BEC5\",\"#B0BEC5\",\"#B0BEC5\",\"#B0BEC5\",\"#B0BEC5\",\"#B0BEC5\",\"#B0BEC5\",\"#B0BEC5\",\"#B0BEC5\",\"#B0BEC5\",\"#B0BEC5\",\"#B0BEC5\",\"red\",\"#B0BEC5\",\"#B0BEC5\"]]}],\"label\":\"Topic 79\",\"method\":\"update\"},{\"args\":[{\"marker.color\":[[\"#B0BEC5\",\"#B0BEC5\",\"#B0BEC5\",\"#B0BEC5\",\"#B0BEC5\",\"#B0BEC5\",\"#B0BEC5\",\"#B0BEC5\",\"#B0BEC5\",\"#B0BEC5\",\"#B0BEC5\",\"#B0BEC5\",\"#B0BEC5\",\"#B0BEC5\",\"#B0BEC5\",\"#B0BEC5\",\"#B0BEC5\",\"#B0BEC5\",\"#B0BEC5\",\"#B0BEC5\",\"#B0BEC5\",\"#B0BEC5\",\"#B0BEC5\",\"#B0BEC5\",\"#B0BEC5\",\"#B0BEC5\",\"#B0BEC5\",\"#B0BEC5\",\"#B0BEC5\",\"#B0BEC5\",\"#B0BEC5\",\"#B0BEC5\",\"#B0BEC5\",\"#B0BEC5\",\"#B0BEC5\",\"#B0BEC5\",\"#B0BEC5\",\"#B0BEC5\",\"#B0BEC5\",\"#B0BEC5\",\"#B0BEC5\",\"#B0BEC5\",\"#B0BEC5\",\"#B0BEC5\",\"#B0BEC5\",\"#B0BEC5\",\"#B0BEC5\",\"#B0BEC5\",\"#B0BEC5\",\"#B0BEC5\",\"#B0BEC5\",\"#B0BEC5\",\"#B0BEC5\",\"#B0BEC5\",\"#B0BEC5\",\"#B0BEC5\",\"#B0BEC5\",\"#B0BEC5\",\"#B0BEC5\",\"#B0BEC5\",\"#B0BEC5\",\"#B0BEC5\",\"#B0BEC5\",\"#B0BEC5\",\"#B0BEC5\",\"#B0BEC5\",\"#B0BEC5\",\"#B0BEC5\",\"#B0BEC5\",\"#B0BEC5\",\"#B0BEC5\",\"#B0BEC5\",\"#B0BEC5\",\"#B0BEC5\",\"#B0BEC5\",\"#B0BEC5\",\"#B0BEC5\",\"#B0BEC5\",\"#B0BEC5\",\"#B0BEC5\",\"red\",\"#B0BEC5\"]]}],\"label\":\"Topic 80\",\"method\":\"update\"},{\"args\":[{\"marker.color\":[[\"#B0BEC5\",\"#B0BEC5\",\"#B0BEC5\",\"#B0BEC5\",\"#B0BEC5\",\"#B0BEC5\",\"#B0BEC5\",\"#B0BEC5\",\"#B0BEC5\",\"#B0BEC5\",\"#B0BEC5\",\"#B0BEC5\",\"#B0BEC5\",\"#B0BEC5\",\"#B0BEC5\",\"#B0BEC5\",\"#B0BEC5\",\"#B0BEC5\",\"#B0BEC5\",\"#B0BEC5\",\"#B0BEC5\",\"#B0BEC5\",\"#B0BEC5\",\"#B0BEC5\",\"#B0BEC5\",\"#B0BEC5\",\"#B0BEC5\",\"#B0BEC5\",\"#B0BEC5\",\"#B0BEC5\",\"#B0BEC5\",\"#B0BEC5\",\"#B0BEC5\",\"#B0BEC5\",\"#B0BEC5\",\"#B0BEC5\",\"#B0BEC5\",\"#B0BEC5\",\"#B0BEC5\",\"#B0BEC5\",\"#B0BEC5\",\"#B0BEC5\",\"#B0BEC5\",\"#B0BEC5\",\"#B0BEC5\",\"#B0BEC5\",\"#B0BEC5\",\"#B0BEC5\",\"#B0BEC5\",\"#B0BEC5\",\"#B0BEC5\",\"#B0BEC5\",\"#B0BEC5\",\"#B0BEC5\",\"#B0BEC5\",\"#B0BEC5\",\"#B0BEC5\",\"#B0BEC5\",\"#B0BEC5\",\"#B0BEC5\",\"#B0BEC5\",\"#B0BEC5\",\"#B0BEC5\",\"#B0BEC5\",\"#B0BEC5\",\"#B0BEC5\",\"#B0BEC5\",\"#B0BEC5\",\"#B0BEC5\",\"#B0BEC5\",\"#B0BEC5\",\"#B0BEC5\",\"#B0BEC5\",\"#B0BEC5\",\"#B0BEC5\",\"#B0BEC5\",\"#B0BEC5\",\"#B0BEC5\",\"#B0BEC5\",\"#B0BEC5\",\"#B0BEC5\",\"red\"]]}],\"label\":\"Topic 81\",\"method\":\"update\"}]}],\"shapes\":[{\"line\":{\"color\":\"#CFD8DC\",\"width\":2},\"type\":\"line\",\"x0\":0.8619439601898193,\"x1\":0.8619439601898193,\"y0\":-2.866220986843109,\"y1\":18.191080379486085},{\"line\":{\"color\":\"#9E9E9E\",\"width\":2},\"type\":\"line\",\"x0\":-19.59685869216919,\"x1\":21.320746612548827,\"y0\":7.662429696321488,\"y1\":7.662429696321488}],\"annotations\":[{\"showarrow\":false,\"text\":\"D1\",\"x\":-19.59685869216919,\"y\":7.662429696321488,\"yshift\":10},{\"showarrow\":false,\"text\":\"D2\",\"x\":0.8619439601898193,\"xshift\":10,\"y\":18.191080379486085}]},                        {\"responsive\": true}                    ).then(function(){\n",
              "                            \n",
              "var gd = document.getElementById('aabd74c5-2231-4e81-9e2c-2ed0bbca2603');\n",
              "var x = new MutationObserver(function (mutations, observer) {{\n",
              "        var display = window.getComputedStyle(gd).display;\n",
              "        if (!display || display === 'none') {{\n",
              "            console.log([gd, 'removed!']);\n",
              "            Plotly.purge(gd);\n",
              "            observer.disconnect();\n",
              "        }}\n",
              "}});\n",
              "\n",
              "// Listen for the removal of the full notebook cells\n",
              "var notebookContainer = gd.closest('#notebook-container');\n",
              "if (notebookContainer) {{\n",
              "    x.observe(notebookContainer, {childList: true});\n",
              "}}\n",
              "\n",
              "// Listen for the clearing of the current output cell\n",
              "var outputEl = gd.closest('.output');\n",
              "if (outputEl) {{\n",
              "    x.observe(outputEl, {childList: true});\n",
              "}}\n",
              "\n",
              "                        })                };                            </script>        </div>\n",
              "</body>\n",
              "</html>"
            ]
          },
          "metadata": {}
        }
      ]
    },
    {
      "cell_type": "markdown",
      "source": [
        "#### **Save intertopic distance map**"
      ],
      "metadata": {
        "id": "VEy11A_SlliP"
      }
    },
    {
      "cell_type": "code",
      "source": [
        "# Set the path to save \n",
        "path = '/content/Topic-Modeling-Reclame-Aqui/results/intertopic_distance_map/'\n",
        "\n",
        "# Use makedirs() to create a new directory if it does not exists\n",
        "if not os.path.exists(path):\n",
        "  os.makedirs(path)\n",
        "\n",
        "\n",
        "fig.write_image(path + \"idm_preprocessed_lemma.png\", format=\"png\")\n",
        "fig.write_html(path + \"idm_preprocessed_lemma.html\")"
      ],
      "metadata": {
        "id": "hLy_Eeu4lqCg"
      },
      "execution_count": 87,
      "outputs": []
    },
    {
      "cell_type": "markdown",
      "source": [
        "[Github link](https://github.com/punkmic/Topic-Modeling-Reclame-Aqui/blob/master/results/intertopic_distance_map/idm_preprocessed_lemma.png?raw=true)"
      ],
      "metadata": {
        "id": "Jf-iwAsQoOCs"
      }
    },
    {
      "cell_type": "markdown",
      "source": [
        "### **Visualize Topic Hierarchy**\n",
        "\n",
        "The topics that were created can be hierarchically reduced. This visualization shows how the topics relate to one another."
      ],
      "metadata": {
        "id": "r-5bT7AgSgsv"
      }
    },
    {
      "cell_type": "code",
      "source": [
        "fig = topic_model.visualize_hierarchy(top_n_topics=30, width=800, height=800)\n",
        "fig"
      ],
      "metadata": {
        "id": "TEoOpDD6S4D7",
        "outputId": "2a4da3f2-7c04-4b78-9f71-68c218568d1a",
        "colab": {
          "base_uri": "https://localhost:8080/",
          "height": 667
        }
      },
      "execution_count": 78,
      "outputs": [
        {
          "output_type": "display_data",
          "data": {
            "text/html": [
              "<html>\n",
              "<head><meta charset=\"utf-8\" /></head>\n",
              "<body>\n",
              "    <div>            <script src=\"https://cdnjs.cloudflare.com/ajax/libs/mathjax/2.7.5/MathJax.js?config=TeX-AMS-MML_SVG\"></script><script type=\"text/javascript\">if (window.MathJax) {MathJax.Hub.Config({SVG: {font: \"STIX-Web\"}});}</script>                <script type=\"text/javascript\">window.PlotlyConfig = {MathJaxConfig: 'local'};</script>\n",
              "        <script src=\"https://cdn.plot.ly/plotly-2.8.3.min.js\"></script>                <div id=\"8e9242a8-4aff-46e5-b46d-3b2cafccd618\" class=\"plotly-graph-div\" style=\"height:650px; width:800px;\"></div>            <script type=\"text/javascript\">                                    window.PLOTLYENV=window.PLOTLYENV || {};                                    if (document.getElementById(\"8e9242a8-4aff-46e5-b46d-3b2cafccd618\")) {                    Plotly.newPlot(                        \"8e9242a8-4aff-46e5-b46d-3b2cafccd618\",                        [{\"hoverinfo\":\"text\",\"marker\":{\"color\":\"rgb(61,153,112)\"},\"mode\":\"lines\",\"x\":[0.0,0.7088992305590808,0.7088992305590808,0.0],\"xaxis\":\"x\",\"y\":[-15.0,-15.0,-25.0,-25.0],\"yaxis\":\"y\",\"type\":\"scatter\"},{\"hoverinfo\":\"text\",\"marker\":{\"color\":\"rgb(61,153,112)\"},\"mode\":\"lines\",\"x\":[0.7088992305590808,0.8523514640315913,0.8523514640315913,0.0],\"xaxis\":\"x\",\"y\":[-20.0,-20.0,-35.0,-35.0],\"yaxis\":\"y\",\"type\":\"scatter\"},{\"hoverinfo\":\"text\",\"marker\":{\"color\":\"rgb(61,153,112)\"},\"mode\":\"lines\",\"x\":[0.0,0.9364055118046871,0.9364055118046871,0.8523514640315913],\"xaxis\":\"x\",\"y\":[-5.0,-5.0,-27.5,-27.5],\"yaxis\":\"y\",\"type\":\"scatter\"},{\"hoverinfo\":\"text\",\"marker\":{\"color\":\"rgb(255,65,54)\"},\"mode\":\"lines\",\"x\":[0.0,0.8402718427162735,0.8402718427162735,0.0],\"xaxis\":\"x\",\"y\":[-55.0,-55.0,-65.0,-65.0],\"yaxis\":\"y\",\"type\":\"scatter\"},{\"hoverinfo\":\"text\",\"marker\":{\"color\":\"rgb(255,65,54)\"},\"mode\":\"lines\",\"x\":[0.0,0.9110424265454871,0.9110424265454871,0.8402718427162735],\"xaxis\":\"x\",\"y\":[-45.0,-45.0,-60.0,-60.0],\"yaxis\":\"y\",\"type\":\"scatter\"},{\"hoverinfo\":\"text\",\"marker\":{\"color\":\"rgb(0,116,217)\"},\"mode\":\"lines\",\"x\":[0.9364055118046871,1.200429527387621,1.200429527387621,0.9110424265454871],\"xaxis\":\"x\",\"y\":[-16.25,-16.25,-52.5,-52.5],\"yaxis\":\"y\",\"type\":\"scatter\"},{\"hoverinfo\":\"text\",\"marker\":{\"color\":\"rgb(35,205,205)\"},\"mode\":\"lines\",\"x\":[0.0,0.4839235526997901,0.4839235526997901,0.0],\"xaxis\":\"x\",\"y\":[-105.0,-105.0,-115.0,-115.0],\"yaxis\":\"y\",\"type\":\"scatter\"},{\"hoverinfo\":\"text\",\"marker\":{\"color\":\"rgb(35,205,205)\"},\"mode\":\"lines\",\"x\":[0.0,0.5473749372637248,0.5473749372637248,0.4839235526997901],\"xaxis\":\"x\",\"y\":[-95.0,-95.0,-110.0,-110.0],\"yaxis\":\"y\",\"type\":\"scatter\"},{\"hoverinfo\":\"text\",\"marker\":{\"color\":\"rgb(35,205,205)\"},\"mode\":\"lines\",\"x\":[0.0,0.7050809019608418,0.7050809019608418,0.5473749372637248],\"xaxis\":\"x\",\"y\":[-85.0,-85.0,-102.5,-102.5],\"yaxis\":\"y\",\"type\":\"scatter\"},{\"hoverinfo\":\"text\",\"marker\":{\"color\":\"rgb(35,205,205)\"},\"mode\":\"lines\",\"x\":[0.0,0.7257307301434464,0.7257307301434464,0.0],\"xaxis\":\"x\",\"y\":[-125.0,-125.0,-135.0,-135.0],\"yaxis\":\"y\",\"type\":\"scatter\"},{\"hoverinfo\":\"text\",\"marker\":{\"color\":\"rgb(35,205,205)\"},\"mode\":\"lines\",\"x\":[0.7050809019608418,0.7904433195210538,0.7904433195210538,0.7257307301434464],\"xaxis\":\"x\",\"y\":[-93.75,-93.75,-130.0,-130.0],\"yaxis\":\"y\",\"type\":\"scatter\"},{\"hoverinfo\":\"text\",\"marker\":{\"color\":\"rgb(35,205,205)\"},\"mode\":\"lines\",\"x\":[0.0,0.8383317600495023,0.8383317600495023,0.7904433195210538],\"xaxis\":\"x\",\"y\":[-75.0,-75.0,-111.875,-111.875],\"yaxis\":\"y\",\"type\":\"scatter\"},{\"hoverinfo\":\"text\",\"marker\":{\"color\":\"rgb(0,116,217)\"},\"mode\":\"lines\",\"x\":[1.200429527387621,1.4842745793103536,1.4842745793103536,0.8383317600495023],\"xaxis\":\"x\",\"y\":[-34.375,-34.375,-93.4375,-93.4375],\"yaxis\":\"y\",\"type\":\"scatter\"},{\"hoverinfo\":\"text\",\"marker\":{\"color\":\"rgb(133,20,75)\"},\"mode\":\"lines\",\"x\":[0.0,0.8105858259896352,0.8105858259896352,0.0],\"xaxis\":\"x\",\"y\":[-145.0,-145.0,-155.0,-155.0],\"yaxis\":\"y\",\"type\":\"scatter\"},{\"hoverinfo\":\"text\",\"marker\":{\"color\":\"rgb(0,116,217)\"},\"mode\":\"lines\",\"x\":[0.0,1.0106994051910718,1.0106994051910718,0.0],\"xaxis\":\"x\",\"y\":[-165.0,-165.0,-175.0,-175.0],\"yaxis\":\"y\",\"type\":\"scatter\"},{\"hoverinfo\":\"text\",\"marker\":{\"color\":\"rgb(0,116,217)\"},\"mode\":\"lines\",\"x\":[0.0,1.0202343778407899,1.0202343778407899,0.0],\"xaxis\":\"x\",\"y\":[-185.0,-185.0,-195.0,-195.0],\"yaxis\":\"y\",\"type\":\"scatter\"},{\"hoverinfo\":\"text\",\"marker\":{\"color\":\"rgb(0,116,217)\"},\"mode\":\"lines\",\"x\":[1.0106994051910718,1.0724408009644253,1.0724408009644253,1.0202343778407899],\"xaxis\":\"x\",\"y\":[-170.0,-170.0,-190.0,-190.0],\"yaxis\":\"y\",\"type\":\"scatter\"},{\"hoverinfo\":\"text\",\"marker\":{\"color\":\"rgb(0,116,217)\"},\"mode\":\"lines\",\"x\":[0.8105858259896352,1.2038372342888184,1.2038372342888184,1.0724408009644253],\"xaxis\":\"x\",\"y\":[-150.0,-150.0,-180.0,-180.0],\"yaxis\":\"y\",\"type\":\"scatter\"},{\"hoverinfo\":\"text\",\"marker\":{\"color\":\"rgb(0,116,217)\"},\"mode\":\"lines\",\"x\":[0.0,1.1995651887299288,1.1995651887299288,0.0],\"xaxis\":\"x\",\"y\":[-205.0,-205.0,-215.0,-215.0],\"yaxis\":\"y\",\"type\":\"scatter\"},{\"hoverinfo\":\"text\",\"marker\":{\"color\":\"rgb(0,116,217)\"},\"mode\":\"lines\",\"x\":[0.0,1.1960923811626976,1.1960923811626976,0.0],\"xaxis\":\"x\",\"y\":[-225.0,-225.0,-235.0,-235.0],\"yaxis\":\"y\",\"type\":\"scatter\"},{\"hoverinfo\":\"text\",\"marker\":{\"color\":\"rgb(0,116,217)\"},\"mode\":\"lines\",\"x\":[0.0,1.085168135884984,1.085168135884984,0.0],\"xaxis\":\"x\",\"y\":[-245.0,-245.0,-255.0,-255.0],\"yaxis\":\"y\",\"type\":\"scatter\"},{\"hoverinfo\":\"text\",\"marker\":{\"color\":\"rgb(0,116,217)\"},\"mode\":\"lines\",\"x\":[1.085168135884984,1.1844494928235023,1.1844494928235023,0.0],\"xaxis\":\"x\",\"y\":[-250.0,-250.0,-265.0,-265.0],\"yaxis\":\"y\",\"type\":\"scatter\"},{\"hoverinfo\":\"text\",\"marker\":{\"color\":\"rgb(0,116,217)\"},\"mode\":\"lines\",\"x\":[1.1844494928235023,1.2289355083602558,1.2289355083602558,0.0],\"xaxis\":\"x\",\"y\":[-257.5,-257.5,-275.0,-275.0],\"yaxis\":\"y\",\"type\":\"scatter\"},{\"hoverinfo\":\"text\",\"marker\":{\"color\":\"rgb(0,116,217)\"},\"mode\":\"lines\",\"x\":[1.1960923811626976,1.2817948403031845,1.2817948403031845,1.2289355083602558],\"xaxis\":\"x\",\"y\":[-230.0,-230.0,-266.25,-266.25],\"yaxis\":\"y\",\"type\":\"scatter\"},{\"hoverinfo\":\"text\",\"marker\":{\"color\":\"rgb(0,116,217)\"},\"mode\":\"lines\",\"x\":[1.1995651887299288,1.4516679453303178,1.4516679453303178,1.2817948403031845],\"xaxis\":\"x\",\"y\":[-210.0,-210.0,-248.125,-248.125],\"yaxis\":\"y\",\"type\":\"scatter\"},{\"hoverinfo\":\"text\",\"marker\":{\"color\":\"rgb(0,116,217)\"},\"mode\":\"lines\",\"x\":[0.0,1.140930101999473,1.140930101999473,0.0],\"xaxis\":\"x\",\"y\":[-285.0,-285.0,-295.0,-295.0],\"yaxis\":\"y\",\"type\":\"scatter\"},{\"hoverinfo\":\"text\",\"marker\":{\"color\":\"rgb(0,116,217)\"},\"mode\":\"lines\",\"x\":[1.4516679453303178,1.6423736763413235,1.6423736763413235,1.140930101999473],\"xaxis\":\"x\",\"y\":[-229.0625,-229.0625,-290.0,-290.0],\"yaxis\":\"y\",\"type\":\"scatter\"},{\"hoverinfo\":\"text\",\"marker\":{\"color\":\"rgb(0,116,217)\"},\"mode\":\"lines\",\"x\":[1.2038372342888184,1.7755314781950868,1.7755314781950868,1.6423736763413235],\"xaxis\":\"x\",\"y\":[-165.0,-165.0,-259.53125,-259.53125],\"yaxis\":\"y\",\"type\":\"scatter\"},{\"hoverinfo\":\"text\",\"marker\":{\"color\":\"rgb(0,116,217)\"},\"mode\":\"lines\",\"x\":[1.4842745793103536,3.2852409536361895,3.2852409536361895,1.7755314781950868],\"xaxis\":\"x\",\"y\":[-63.90625,-63.90625,-212.265625,-212.265625],\"yaxis\":\"y\",\"type\":\"scatter\"}],                        {\"autosize\":false,\"height\":650,\"hovermode\":\"closest\",\"showlegend\":false,\"width\":800,\"xaxis\":{\"mirror\":\"allticks\",\"rangemode\":\"tozero\",\"showgrid\":false,\"showline\":true,\"showticklabels\":true,\"ticks\":\"outside\",\"type\":\"linear\",\"zeroline\":false},\"yaxis\":{\"mirror\":\"allticks\",\"rangemode\":\"tozero\",\"showgrid\":false,\"showline\":true,\"showticklabels\":true,\"tickmode\":\"array\",\"ticks\":\"outside\",\"ticktext\":[\"0_cart\\u00e3o_cr\\u00e9dito_cobran\\u00e7a\",\"8_iphone_aparelho_celular\",\"9_black_friday_promo\\u00e7\\u00e3o\",\"11_cancelamento_cancelar_pe...\",\"16_site_gr\\u00e1tis_valor\",\"15_reclama\\u00e7\\u00e3o_produto_compr...\",\"23_absurdo_produto_querer\",\"2_dinheiro_reembolso_valor\",\"4_brasil_brasileiro_chegar\",\"3_whatsapp_contato_entregar\",\"6_loja_magalu_poder\",\"1_celular_aparelho_smartphone\",\"18_contato_produto_empresa\",\"17_prazo_entregar_dia\",\"20_previs\\u00e3o_entregar_prazo\",\"7_novembro_dezembro_outubro\",\"10_pedir_entregar_encomenda\",\"5_roupa_cal\\u00e7a_vestir\",\"21_rob\\u00f4_aspirador_macac\\u00e3o\",\"27_aplicativo_reembolso_com...\",\"25_cobran\\u00e7a_amazoncombr_dig...\",\"13_email_conta_senha\",\"19_livro_compr_hoje\",\"14_jogo_lan\\u00e7amento_ragnarok\",\"26_m\\u00e1quina_lavar_roupa\",\"12_geladeira_refrigerador_g...\",\"22_caixa_vir_garrafa\",\"24_t\\u00eanis_mizuno_tenis\",\"28_rastreio_c\\u00f3digo_rastream...\",\"29_curitiba_tr\\u00e2nsito_parado\"],\"tickvals\":[-5.0,-15.0,-25.0,-35.0,-45.0,-55.0,-65.0,-75.0,-85.0,-95.0,-105.0,-115.0,-125.0,-135.0,-145.0,-155.0,-165.0,-175.0,-185.0,-195.0,-205.0,-215.0,-225.0,-235.0,-245.0,-255.0,-265.0,-275.0,-285.0,-295.0],\"type\":\"linear\",\"zeroline\":false,\"range\":[-300.0,0.0]},\"template\":{\"data\":{\"barpolar\":[{\"marker\":{\"line\":{\"color\":\"white\",\"width\":0.5},\"pattern\":{\"fillmode\":\"overlay\",\"size\":10,\"solidity\":0.2}},\"type\":\"barpolar\"}],\"bar\":[{\"error_x\":{\"color\":\"#2a3f5f\"},\"error_y\":{\"color\":\"#2a3f5f\"},\"marker\":{\"line\":{\"color\":\"white\",\"width\":0.5},\"pattern\":{\"fillmode\":\"overlay\",\"size\":10,\"solidity\":0.2}},\"type\":\"bar\"}],\"carpet\":[{\"aaxis\":{\"endlinecolor\":\"#2a3f5f\",\"gridcolor\":\"#C8D4E3\",\"linecolor\":\"#C8D4E3\",\"minorgridcolor\":\"#C8D4E3\",\"startlinecolor\":\"#2a3f5f\"},\"baxis\":{\"endlinecolor\":\"#2a3f5f\",\"gridcolor\":\"#C8D4E3\",\"linecolor\":\"#C8D4E3\",\"minorgridcolor\":\"#C8D4E3\",\"startlinecolor\":\"#2a3f5f\"},\"type\":\"carpet\"}],\"choropleth\":[{\"colorbar\":{\"outlinewidth\":0,\"ticks\":\"\"},\"type\":\"choropleth\"}],\"contourcarpet\":[{\"colorbar\":{\"outlinewidth\":0,\"ticks\":\"\"},\"type\":\"contourcarpet\"}],\"contour\":[{\"colorbar\":{\"outlinewidth\":0,\"ticks\":\"\"},\"colorscale\":[[0.0,\"#0d0887\"],[0.1111111111111111,\"#46039f\"],[0.2222222222222222,\"#7201a8\"],[0.3333333333333333,\"#9c179e\"],[0.4444444444444444,\"#bd3786\"],[0.5555555555555556,\"#d8576b\"],[0.6666666666666666,\"#ed7953\"],[0.7777777777777778,\"#fb9f3a\"],[0.8888888888888888,\"#fdca26\"],[1.0,\"#f0f921\"]],\"type\":\"contour\"}],\"heatmapgl\":[{\"colorbar\":{\"outlinewidth\":0,\"ticks\":\"\"},\"colorscale\":[[0.0,\"#0d0887\"],[0.1111111111111111,\"#46039f\"],[0.2222222222222222,\"#7201a8\"],[0.3333333333333333,\"#9c179e\"],[0.4444444444444444,\"#bd3786\"],[0.5555555555555556,\"#d8576b\"],[0.6666666666666666,\"#ed7953\"],[0.7777777777777778,\"#fb9f3a\"],[0.8888888888888888,\"#fdca26\"],[1.0,\"#f0f921\"]],\"type\":\"heatmapgl\"}],\"heatmap\":[{\"colorbar\":{\"outlinewidth\":0,\"ticks\":\"\"},\"colorscale\":[[0.0,\"#0d0887\"],[0.1111111111111111,\"#46039f\"],[0.2222222222222222,\"#7201a8\"],[0.3333333333333333,\"#9c179e\"],[0.4444444444444444,\"#bd3786\"],[0.5555555555555556,\"#d8576b\"],[0.6666666666666666,\"#ed7953\"],[0.7777777777777778,\"#fb9f3a\"],[0.8888888888888888,\"#fdca26\"],[1.0,\"#f0f921\"]],\"type\":\"heatmap\"}],\"histogram2dcontour\":[{\"colorbar\":{\"outlinewidth\":0,\"ticks\":\"\"},\"colorscale\":[[0.0,\"#0d0887\"],[0.1111111111111111,\"#46039f\"],[0.2222222222222222,\"#7201a8\"],[0.3333333333333333,\"#9c179e\"],[0.4444444444444444,\"#bd3786\"],[0.5555555555555556,\"#d8576b\"],[0.6666666666666666,\"#ed7953\"],[0.7777777777777778,\"#fb9f3a\"],[0.8888888888888888,\"#fdca26\"],[1.0,\"#f0f921\"]],\"type\":\"histogram2dcontour\"}],\"histogram2d\":[{\"colorbar\":{\"outlinewidth\":0,\"ticks\":\"\"},\"colorscale\":[[0.0,\"#0d0887\"],[0.1111111111111111,\"#46039f\"],[0.2222222222222222,\"#7201a8\"],[0.3333333333333333,\"#9c179e\"],[0.4444444444444444,\"#bd3786\"],[0.5555555555555556,\"#d8576b\"],[0.6666666666666666,\"#ed7953\"],[0.7777777777777778,\"#fb9f3a\"],[0.8888888888888888,\"#fdca26\"],[1.0,\"#f0f921\"]],\"type\":\"histogram2d\"}],\"histogram\":[{\"marker\":{\"pattern\":{\"fillmode\":\"overlay\",\"size\":10,\"solidity\":0.2}},\"type\":\"histogram\"}],\"mesh3d\":[{\"colorbar\":{\"outlinewidth\":0,\"ticks\":\"\"},\"type\":\"mesh3d\"}],\"parcoords\":[{\"line\":{\"colorbar\":{\"outlinewidth\":0,\"ticks\":\"\"}},\"type\":\"parcoords\"}],\"pie\":[{\"automargin\":true,\"type\":\"pie\"}],\"scatter3d\":[{\"line\":{\"colorbar\":{\"outlinewidth\":0,\"ticks\":\"\"}},\"marker\":{\"colorbar\":{\"outlinewidth\":0,\"ticks\":\"\"}},\"type\":\"scatter3d\"}],\"scattercarpet\":[{\"marker\":{\"colorbar\":{\"outlinewidth\":0,\"ticks\":\"\"}},\"type\":\"scattercarpet\"}],\"scattergeo\":[{\"marker\":{\"colorbar\":{\"outlinewidth\":0,\"ticks\":\"\"}},\"type\":\"scattergeo\"}],\"scattergl\":[{\"marker\":{\"colorbar\":{\"outlinewidth\":0,\"ticks\":\"\"}},\"type\":\"scattergl\"}],\"scattermapbox\":[{\"marker\":{\"colorbar\":{\"outlinewidth\":0,\"ticks\":\"\"}},\"type\":\"scattermapbox\"}],\"scatterpolargl\":[{\"marker\":{\"colorbar\":{\"outlinewidth\":0,\"ticks\":\"\"}},\"type\":\"scatterpolargl\"}],\"scatterpolar\":[{\"marker\":{\"colorbar\":{\"outlinewidth\":0,\"ticks\":\"\"}},\"type\":\"scatterpolar\"}],\"scatter\":[{\"marker\":{\"colorbar\":{\"outlinewidth\":0,\"ticks\":\"\"}},\"type\":\"scatter\"}],\"scatterternary\":[{\"marker\":{\"colorbar\":{\"outlinewidth\":0,\"ticks\":\"\"}},\"type\":\"scatterternary\"}],\"surface\":[{\"colorbar\":{\"outlinewidth\":0,\"ticks\":\"\"},\"colorscale\":[[0.0,\"#0d0887\"],[0.1111111111111111,\"#46039f\"],[0.2222222222222222,\"#7201a8\"],[0.3333333333333333,\"#9c179e\"],[0.4444444444444444,\"#bd3786\"],[0.5555555555555556,\"#d8576b\"],[0.6666666666666666,\"#ed7953\"],[0.7777777777777778,\"#fb9f3a\"],[0.8888888888888888,\"#fdca26\"],[1.0,\"#f0f921\"]],\"type\":\"surface\"}],\"table\":[{\"cells\":{\"fill\":{\"color\":\"#EBF0F8\"},\"line\":{\"color\":\"white\"}},\"header\":{\"fill\":{\"color\":\"#C8D4E3\"},\"line\":{\"color\":\"white\"}},\"type\":\"table\"}]},\"layout\":{\"annotationdefaults\":{\"arrowcolor\":\"#2a3f5f\",\"arrowhead\":0,\"arrowwidth\":1},\"autotypenumbers\":\"strict\",\"coloraxis\":{\"colorbar\":{\"outlinewidth\":0,\"ticks\":\"\"}},\"colorscale\":{\"diverging\":[[0,\"#8e0152\"],[0.1,\"#c51b7d\"],[0.2,\"#de77ae\"],[0.3,\"#f1b6da\"],[0.4,\"#fde0ef\"],[0.5,\"#f7f7f7\"],[0.6,\"#e6f5d0\"],[0.7,\"#b8e186\"],[0.8,\"#7fbc41\"],[0.9,\"#4d9221\"],[1,\"#276419\"]],\"sequential\":[[0.0,\"#0d0887\"],[0.1111111111111111,\"#46039f\"],[0.2222222222222222,\"#7201a8\"],[0.3333333333333333,\"#9c179e\"],[0.4444444444444444,\"#bd3786\"],[0.5555555555555556,\"#d8576b\"],[0.6666666666666666,\"#ed7953\"],[0.7777777777777778,\"#fb9f3a\"],[0.8888888888888888,\"#fdca26\"],[1.0,\"#f0f921\"]],\"sequentialminus\":[[0.0,\"#0d0887\"],[0.1111111111111111,\"#46039f\"],[0.2222222222222222,\"#7201a8\"],[0.3333333333333333,\"#9c179e\"],[0.4444444444444444,\"#bd3786\"],[0.5555555555555556,\"#d8576b\"],[0.6666666666666666,\"#ed7953\"],[0.7777777777777778,\"#fb9f3a\"],[0.8888888888888888,\"#fdca26\"],[1.0,\"#f0f921\"]]},\"colorway\":[\"#636efa\",\"#EF553B\",\"#00cc96\",\"#ab63fa\",\"#FFA15A\",\"#19d3f3\",\"#FF6692\",\"#B6E880\",\"#FF97FF\",\"#FECB52\"],\"font\":{\"color\":\"#2a3f5f\"},\"geo\":{\"bgcolor\":\"white\",\"lakecolor\":\"white\",\"landcolor\":\"white\",\"showlakes\":true,\"showland\":true,\"subunitcolor\":\"#C8D4E3\"},\"hoverlabel\":{\"align\":\"left\"},\"hovermode\":\"closest\",\"mapbox\":{\"style\":\"light\"},\"paper_bgcolor\":\"white\",\"plot_bgcolor\":\"white\",\"polar\":{\"angularaxis\":{\"gridcolor\":\"#EBF0F8\",\"linecolor\":\"#EBF0F8\",\"ticks\":\"\"},\"bgcolor\":\"white\",\"radialaxis\":{\"gridcolor\":\"#EBF0F8\",\"linecolor\":\"#EBF0F8\",\"ticks\":\"\"}},\"scene\":{\"xaxis\":{\"backgroundcolor\":\"white\",\"gridcolor\":\"#DFE8F3\",\"gridwidth\":2,\"linecolor\":\"#EBF0F8\",\"showbackground\":true,\"ticks\":\"\",\"zerolinecolor\":\"#EBF0F8\"},\"yaxis\":{\"backgroundcolor\":\"white\",\"gridcolor\":\"#DFE8F3\",\"gridwidth\":2,\"linecolor\":\"#EBF0F8\",\"showbackground\":true,\"ticks\":\"\",\"zerolinecolor\":\"#EBF0F8\"},\"zaxis\":{\"backgroundcolor\":\"white\",\"gridcolor\":\"#DFE8F3\",\"gridwidth\":2,\"linecolor\":\"#EBF0F8\",\"showbackground\":true,\"ticks\":\"\",\"zerolinecolor\":\"#EBF0F8\"}},\"shapedefaults\":{\"line\":{\"color\":\"#2a3f5f\"}},\"ternary\":{\"aaxis\":{\"gridcolor\":\"#DFE8F3\",\"linecolor\":\"#A2B1C6\",\"ticks\":\"\"},\"baxis\":{\"gridcolor\":\"#DFE8F3\",\"linecolor\":\"#A2B1C6\",\"ticks\":\"\"},\"bgcolor\":\"white\",\"caxis\":{\"gridcolor\":\"#DFE8F3\",\"linecolor\":\"#A2B1C6\",\"ticks\":\"\"}},\"title\":{\"x\":0.05},\"xaxis\":{\"automargin\":true,\"gridcolor\":\"#EBF0F8\",\"linecolor\":\"#EBF0F8\",\"ticks\":\"\",\"title\":{\"standoff\":15},\"zerolinecolor\":\"#EBF0F8\",\"zerolinewidth\":2},\"yaxis\":{\"automargin\":true,\"gridcolor\":\"#EBF0F8\",\"linecolor\":\"#EBF0F8\",\"ticks\":\"\",\"title\":{\"standoff\":15},\"zerolinecolor\":\"#EBF0F8\",\"zerolinewidth\":2}}},\"title\":{\"font\":{\"size\":22,\"color\":\"Black\"},\"text\":\"<b>Hierarchical Clustering\",\"x\":0.5,\"xanchor\":\"center\",\"yanchor\":\"top\"},\"hoverlabel\":{\"font\":{\"size\":16,\"family\":\"Rockwell\"},\"bgcolor\":\"white\"},\"plot_bgcolor\":\"#ECEFF1\"},                        {\"responsive\": true}                    ).then(function(){\n",
              "                            \n",
              "var gd = document.getElementById('8e9242a8-4aff-46e5-b46d-3b2cafccd618');\n",
              "var x = new MutationObserver(function (mutations, observer) {{\n",
              "        var display = window.getComputedStyle(gd).display;\n",
              "        if (!display || display === 'none') {{\n",
              "            console.log([gd, 'removed!']);\n",
              "            Plotly.purge(gd);\n",
              "            observer.disconnect();\n",
              "        }}\n",
              "}});\n",
              "\n",
              "// Listen for the removal of the full notebook cells\n",
              "var notebookContainer = gd.closest('#notebook-container');\n",
              "if (notebookContainer) {{\n",
              "    x.observe(notebookContainer, {childList: true});\n",
              "}}\n",
              "\n",
              "// Listen for the clearing of the current output cell\n",
              "var outputEl = gd.closest('.output');\n",
              "if (outputEl) {{\n",
              "    x.observe(outputEl, {childList: true});\n",
              "}}\n",
              "\n",
              "                        })                };                            </script>        </div>\n",
              "</body>\n",
              "</html>"
            ]
          },
          "metadata": {}
        }
      ]
    },
    {
      "cell_type": "markdown",
      "source": [
        "#### **Save Hierarchical Clustering**"
      ],
      "metadata": {
        "id": "CyM_L5c6pBXw"
      }
    },
    {
      "cell_type": "code",
      "source": [
        "# Set the path to save \n",
        "path = '/content/Topic-Modeling-Reclame-Aqui/results/hierarchical_clustering/'\n",
        "\n",
        "# Use makedirs() to create a new directory if it does not exists\n",
        "if not os.path.exists(path):\n",
        "  os.makedirs(path)\n",
        "\n",
        "\n",
        "fig.write_image(path + \"hc_preprocessed_lemma.png\", format=\"png\")"
      ],
      "metadata": {
        "id": "CHYmk_TZpHPJ"
      },
      "execution_count": 81,
      "outputs": []
    },
    {
      "cell_type": "markdown",
      "source": [
        "[Github link](https://github.com/punkmic/Topic-Modeling-Reclame-Aqui/blob/master/results/hierarchical_clustering/hc_preprocessed_lemma.png?raw=true)"
      ],
      "metadata": {
        "id": "VrqyRupApBx1"
      }
    },
    {
      "cell_type": "markdown",
      "source": [
        "### **Visualize Terms**\n",
        "\n",
        "We can visualize the selected terms for a few topics by creating bar charts out of the c-TF-IDF scores for each topic representation."
      ],
      "metadata": {
        "id": "uC26Cc-6UvYE"
      }
    },
    {
      "cell_type": "code",
      "source": [
        "fig = topic_model.visualize_barchart(top_n_topics=12, width=300, height=300)\n",
        "fig"
      ],
      "metadata": {
        "id": "-NoMSyeWVF2s",
        "outputId": "d937c6c2-c6ec-4ee3-cb53-0798b10cb7ff",
        "colab": {
          "base_uri": "https://localhost:8080/",
          "height": 937
        }
      },
      "execution_count": 77,
      "outputs": [
        {
          "output_type": "display_data",
          "data": {
            "text/html": [
              "<html>\n",
              "<head><meta charset=\"utf-8\" /></head>\n",
              "<body>\n",
              "    <div>            <script src=\"https://cdnjs.cloudflare.com/ajax/libs/mathjax/2.7.5/MathJax.js?config=TeX-AMS-MML_SVG\"></script><script type=\"text/javascript\">if (window.MathJax) {MathJax.Hub.Config({SVG: {font: \"STIX-Web\"}});}</script>                <script type=\"text/javascript\">window.PlotlyConfig = {MathJaxConfig: 'local'};</script>\n",
              "        <script src=\"https://cdn.plot.ly/plotly-2.8.3.min.js\"></script>                <div id=\"7739e204-227a-4d86-9613-0720e27ad693\" class=\"plotly-graph-div\" style=\"height:900px; width:1200px;\"></div>            <script type=\"text/javascript\">                                    window.PLOTLYENV=window.PLOTLYENV || {};                                    if (document.getElementById(\"7739e204-227a-4d86-9613-0720e27ad693\")) {                    Plotly.newPlot(                        \"7739e204-227a-4d86-9613-0720e27ad693\",                        [{\"marker\":{\"color\":\"#D55E00\"},\"orientation\":\"h\",\"x\":[0.017324214144042543,0.01908109858728945,0.02153946577247617,0.02979349322344244,0.055043277403953185],\"y\":[\"valor  \",\"cobrar  \",\"cobran\\u00e7a  \",\"cr\\u00e9dito  \",\"cart\\u00e3o  \"],\"type\":\"bar\",\"xaxis\":\"x\",\"yaxis\":\"y\"},{\"marker\":{\"color\":\"#0072B2\"},\"orientation\":\"h\",\"x\":[0.009934657226752271,0.011380728786333139,0.014296072032413436,0.01985330033722589,0.04254527767586973],\"y\":[\"loja  \",\"comprar  \",\"smartphone  \",\"aparelho  \",\"celular  \"],\"type\":\"bar\",\"xaxis\":\"x2\",\"yaxis\":\"y2\"},{\"marker\":{\"color\":\"#CC79A7\"},\"orientation\":\"h\",\"x\":[0.01610540325825998,0.01798501257727386,0.019284983431107135,0.023632926529111517,0.02472536690029429],\"y\":[\"devolver  \",\"recebi  \",\"valor  \",\"reembolso  \",\"dinheiro  \"],\"type\":\"bar\",\"xaxis\":\"x3\",\"yaxis\":\"y3\"},{\"marker\":{\"color\":\"#E69F00\"},\"orientation\":\"h\",\"x\":[0.01067386674940999,0.010800334488541797,0.010947198444501755,0.014754473882864976,0.04711370128691659],\"y\":[\"entrar  \",\"atendimento  \",\"entregar  \",\"contato  \",\"whatsapp  \"],\"type\":\"bar\",\"xaxis\":\"x4\",\"yaxis\":\"y4\"},{\"marker\":{\"color\":\"#56B4E9\"},\"orientation\":\"h\",\"x\":[0.008245495031549897,0.009052454884123623,0.0094156934758839,0.01262592888886956,0.04726594732267056],\"y\":[\"compra  \",\"pedir  \",\"chegar  \",\"brasileiro  \",\"brasil  \"],\"type\":\"bar\",\"xaxis\":\"x5\",\"yaxis\":\"y5\"},{\"marker\":{\"color\":\"#009E73\"},\"orientation\":\"h\",\"x\":[0.019402398538071366,0.02010304875107994,0.04439581322599637,0.04531961922683733,0.059609415786650154],\"y\":[\"camisa  \",\"tamanho  \",\"vestir  \",\"cal\\u00e7a  \",\"roupa  \"],\"type\":\"bar\",\"xaxis\":\"x6\",\"yaxis\":\"y6\"},{\"marker\":{\"color\":\"#F0E442\"},\"orientation\":\"h\",\"x\":[0.008300205550733665,0.00834187063796202,0.008529042414178341,0.01092263176728867,0.010933947636867617],\"y\":[\"entrar  \",\"contato  \",\"poder  \",\"magalu  \",\"loja  \"],\"type\":\"bar\",\"xaxis\":\"x7\",\"yaxis\":\"y7\"},{\"marker\":{\"color\":\"#D55E00\"},\"orientation\":\"h\",\"x\":[0.019517567133408246,0.02164609414818714,0.02980554020622556,0.037492265005309354,0.07911420602283345],\"y\":[\"entregar  \",\"chegar  \",\"outubro  \",\"dezembro  \",\"novembro  \"],\"type\":\"bar\",\"xaxis\":\"x8\",\"yaxis\":\"y8\"},{\"marker\":{\"color\":\"#0072B2\"},\"orientation\":\"h\",\"x\":[0.010813677468586077,0.012756972786685021,0.013220058109695317,0.02188868081188561,0.07023112889346413],\"y\":[\"valor  \",\"carregador  \",\"celular  \",\"aparelho  \",\"iphone  \"],\"type\":\"bar\",\"xaxis\":\"x9\",\"yaxis\":\"y9\"},{\"marker\":{\"color\":\"#CC79A7\"},\"orientation\":\"h\",\"x\":[0.016113866428915914,0.01786169230448186,0.02139667873681984,0.03650494504997277,0.04124333911720998],\"y\":[\"desconto  \",\"oferta  \",\"promo\\u00e7\\u00e3o  \",\"friday  \",\"black  \"],\"type\":\"bar\",\"xaxis\":\"x10\",\"yaxis\":\"y10\"},{\"marker\":{\"color\":\"#E69F00\"},\"orientation\":\"h\",\"x\":[0.025908216911522657,0.027015143063961616,0.03096526446487789,0.03281818344544378,0.036044611242120356],\"y\":[\"saber  \",\"recebi  \",\"encomenda  \",\"entregar  \",\"pedir  \"],\"type\":\"bar\",\"xaxis\":\"x11\",\"yaxis\":\"y11\"},{\"marker\":{\"color\":\"#56B4E9\"},\"orientation\":\"h\",\"x\":[0.014205171103761044,0.019686638339133658,0.020499049889190286,0.04356502713441196,0.056255080186025284],\"y\":[\"site  \",\"solicitei  \",\"pedir  \",\"cancelar  \",\"cancelamento  \"],\"type\":\"bar\",\"xaxis\":\"x12\",\"yaxis\":\"y12\"}],                        {\"template\":{\"data\":{\"barpolar\":[{\"marker\":{\"line\":{\"color\":\"white\",\"width\":0.5},\"pattern\":{\"fillmode\":\"overlay\",\"size\":10,\"solidity\":0.2}},\"type\":\"barpolar\"}],\"bar\":[{\"error_x\":{\"color\":\"#2a3f5f\"},\"error_y\":{\"color\":\"#2a3f5f\"},\"marker\":{\"line\":{\"color\":\"white\",\"width\":0.5},\"pattern\":{\"fillmode\":\"overlay\",\"size\":10,\"solidity\":0.2}},\"type\":\"bar\"}],\"carpet\":[{\"aaxis\":{\"endlinecolor\":\"#2a3f5f\",\"gridcolor\":\"#C8D4E3\",\"linecolor\":\"#C8D4E3\",\"minorgridcolor\":\"#C8D4E3\",\"startlinecolor\":\"#2a3f5f\"},\"baxis\":{\"endlinecolor\":\"#2a3f5f\",\"gridcolor\":\"#C8D4E3\",\"linecolor\":\"#C8D4E3\",\"minorgridcolor\":\"#C8D4E3\",\"startlinecolor\":\"#2a3f5f\"},\"type\":\"carpet\"}],\"choropleth\":[{\"colorbar\":{\"outlinewidth\":0,\"ticks\":\"\"},\"type\":\"choropleth\"}],\"contourcarpet\":[{\"colorbar\":{\"outlinewidth\":0,\"ticks\":\"\"},\"type\":\"contourcarpet\"}],\"contour\":[{\"colorbar\":{\"outlinewidth\":0,\"ticks\":\"\"},\"colorscale\":[[0.0,\"#0d0887\"],[0.1111111111111111,\"#46039f\"],[0.2222222222222222,\"#7201a8\"],[0.3333333333333333,\"#9c179e\"],[0.4444444444444444,\"#bd3786\"],[0.5555555555555556,\"#d8576b\"],[0.6666666666666666,\"#ed7953\"],[0.7777777777777778,\"#fb9f3a\"],[0.8888888888888888,\"#fdca26\"],[1.0,\"#f0f921\"]],\"type\":\"contour\"}],\"heatmapgl\":[{\"colorbar\":{\"outlinewidth\":0,\"ticks\":\"\"},\"colorscale\":[[0.0,\"#0d0887\"],[0.1111111111111111,\"#46039f\"],[0.2222222222222222,\"#7201a8\"],[0.3333333333333333,\"#9c179e\"],[0.4444444444444444,\"#bd3786\"],[0.5555555555555556,\"#d8576b\"],[0.6666666666666666,\"#ed7953\"],[0.7777777777777778,\"#fb9f3a\"],[0.8888888888888888,\"#fdca26\"],[1.0,\"#f0f921\"]],\"type\":\"heatmapgl\"}],\"heatmap\":[{\"colorbar\":{\"outlinewidth\":0,\"ticks\":\"\"},\"colorscale\":[[0.0,\"#0d0887\"],[0.1111111111111111,\"#46039f\"],[0.2222222222222222,\"#7201a8\"],[0.3333333333333333,\"#9c179e\"],[0.4444444444444444,\"#bd3786\"],[0.5555555555555556,\"#d8576b\"],[0.6666666666666666,\"#ed7953\"],[0.7777777777777778,\"#fb9f3a\"],[0.8888888888888888,\"#fdca26\"],[1.0,\"#f0f921\"]],\"type\":\"heatmap\"}],\"histogram2dcontour\":[{\"colorbar\":{\"outlinewidth\":0,\"ticks\":\"\"},\"colorscale\":[[0.0,\"#0d0887\"],[0.1111111111111111,\"#46039f\"],[0.2222222222222222,\"#7201a8\"],[0.3333333333333333,\"#9c179e\"],[0.4444444444444444,\"#bd3786\"],[0.5555555555555556,\"#d8576b\"],[0.6666666666666666,\"#ed7953\"],[0.7777777777777778,\"#fb9f3a\"],[0.8888888888888888,\"#fdca26\"],[1.0,\"#f0f921\"]],\"type\":\"histogram2dcontour\"}],\"histogram2d\":[{\"colorbar\":{\"outlinewidth\":0,\"ticks\":\"\"},\"colorscale\":[[0.0,\"#0d0887\"],[0.1111111111111111,\"#46039f\"],[0.2222222222222222,\"#7201a8\"],[0.3333333333333333,\"#9c179e\"],[0.4444444444444444,\"#bd3786\"],[0.5555555555555556,\"#d8576b\"],[0.6666666666666666,\"#ed7953\"],[0.7777777777777778,\"#fb9f3a\"],[0.8888888888888888,\"#fdca26\"],[1.0,\"#f0f921\"]],\"type\":\"histogram2d\"}],\"histogram\":[{\"marker\":{\"pattern\":{\"fillmode\":\"overlay\",\"size\":10,\"solidity\":0.2}},\"type\":\"histogram\"}],\"mesh3d\":[{\"colorbar\":{\"outlinewidth\":0,\"ticks\":\"\"},\"type\":\"mesh3d\"}],\"parcoords\":[{\"line\":{\"colorbar\":{\"outlinewidth\":0,\"ticks\":\"\"}},\"type\":\"parcoords\"}],\"pie\":[{\"automargin\":true,\"type\":\"pie\"}],\"scatter3d\":[{\"line\":{\"colorbar\":{\"outlinewidth\":0,\"ticks\":\"\"}},\"marker\":{\"colorbar\":{\"outlinewidth\":0,\"ticks\":\"\"}},\"type\":\"scatter3d\"}],\"scattercarpet\":[{\"marker\":{\"colorbar\":{\"outlinewidth\":0,\"ticks\":\"\"}},\"type\":\"scattercarpet\"}],\"scattergeo\":[{\"marker\":{\"colorbar\":{\"outlinewidth\":0,\"ticks\":\"\"}},\"type\":\"scattergeo\"}],\"scattergl\":[{\"marker\":{\"colorbar\":{\"outlinewidth\":0,\"ticks\":\"\"}},\"type\":\"scattergl\"}],\"scattermapbox\":[{\"marker\":{\"colorbar\":{\"outlinewidth\":0,\"ticks\":\"\"}},\"type\":\"scattermapbox\"}],\"scatterpolargl\":[{\"marker\":{\"colorbar\":{\"outlinewidth\":0,\"ticks\":\"\"}},\"type\":\"scatterpolargl\"}],\"scatterpolar\":[{\"marker\":{\"colorbar\":{\"outlinewidth\":0,\"ticks\":\"\"}},\"type\":\"scatterpolar\"}],\"scatter\":[{\"marker\":{\"colorbar\":{\"outlinewidth\":0,\"ticks\":\"\"}},\"type\":\"scatter\"}],\"scatterternary\":[{\"marker\":{\"colorbar\":{\"outlinewidth\":0,\"ticks\":\"\"}},\"type\":\"scatterternary\"}],\"surface\":[{\"colorbar\":{\"outlinewidth\":0,\"ticks\":\"\"},\"colorscale\":[[0.0,\"#0d0887\"],[0.1111111111111111,\"#46039f\"],[0.2222222222222222,\"#7201a8\"],[0.3333333333333333,\"#9c179e\"],[0.4444444444444444,\"#bd3786\"],[0.5555555555555556,\"#d8576b\"],[0.6666666666666666,\"#ed7953\"],[0.7777777777777778,\"#fb9f3a\"],[0.8888888888888888,\"#fdca26\"],[1.0,\"#f0f921\"]],\"type\":\"surface\"}],\"table\":[{\"cells\":{\"fill\":{\"color\":\"#EBF0F8\"},\"line\":{\"color\":\"white\"}},\"header\":{\"fill\":{\"color\":\"#C8D4E3\"},\"line\":{\"color\":\"white\"}},\"type\":\"table\"}]},\"layout\":{\"annotationdefaults\":{\"arrowcolor\":\"#2a3f5f\",\"arrowhead\":0,\"arrowwidth\":1},\"autotypenumbers\":\"strict\",\"coloraxis\":{\"colorbar\":{\"outlinewidth\":0,\"ticks\":\"\"}},\"colorscale\":{\"diverging\":[[0,\"#8e0152\"],[0.1,\"#c51b7d\"],[0.2,\"#de77ae\"],[0.3,\"#f1b6da\"],[0.4,\"#fde0ef\"],[0.5,\"#f7f7f7\"],[0.6,\"#e6f5d0\"],[0.7,\"#b8e186\"],[0.8,\"#7fbc41\"],[0.9,\"#4d9221\"],[1,\"#276419\"]],\"sequential\":[[0.0,\"#0d0887\"],[0.1111111111111111,\"#46039f\"],[0.2222222222222222,\"#7201a8\"],[0.3333333333333333,\"#9c179e\"],[0.4444444444444444,\"#bd3786\"],[0.5555555555555556,\"#d8576b\"],[0.6666666666666666,\"#ed7953\"],[0.7777777777777778,\"#fb9f3a\"],[0.8888888888888888,\"#fdca26\"],[1.0,\"#f0f921\"]],\"sequentialminus\":[[0.0,\"#0d0887\"],[0.1111111111111111,\"#46039f\"],[0.2222222222222222,\"#7201a8\"],[0.3333333333333333,\"#9c179e\"],[0.4444444444444444,\"#bd3786\"],[0.5555555555555556,\"#d8576b\"],[0.6666666666666666,\"#ed7953\"],[0.7777777777777778,\"#fb9f3a\"],[0.8888888888888888,\"#fdca26\"],[1.0,\"#f0f921\"]]},\"colorway\":[\"#636efa\",\"#EF553B\",\"#00cc96\",\"#ab63fa\",\"#FFA15A\",\"#19d3f3\",\"#FF6692\",\"#B6E880\",\"#FF97FF\",\"#FECB52\"],\"font\":{\"color\":\"#2a3f5f\"},\"geo\":{\"bgcolor\":\"white\",\"lakecolor\":\"white\",\"landcolor\":\"white\",\"showlakes\":true,\"showland\":true,\"subunitcolor\":\"#C8D4E3\"},\"hoverlabel\":{\"align\":\"left\"},\"hovermode\":\"closest\",\"mapbox\":{\"style\":\"light\"},\"paper_bgcolor\":\"white\",\"plot_bgcolor\":\"white\",\"polar\":{\"angularaxis\":{\"gridcolor\":\"#EBF0F8\",\"linecolor\":\"#EBF0F8\",\"ticks\":\"\"},\"bgcolor\":\"white\",\"radialaxis\":{\"gridcolor\":\"#EBF0F8\",\"linecolor\":\"#EBF0F8\",\"ticks\":\"\"}},\"scene\":{\"xaxis\":{\"backgroundcolor\":\"white\",\"gridcolor\":\"#DFE8F3\",\"gridwidth\":2,\"linecolor\":\"#EBF0F8\",\"showbackground\":true,\"ticks\":\"\",\"zerolinecolor\":\"#EBF0F8\"},\"yaxis\":{\"backgroundcolor\":\"white\",\"gridcolor\":\"#DFE8F3\",\"gridwidth\":2,\"linecolor\":\"#EBF0F8\",\"showbackground\":true,\"ticks\":\"\",\"zerolinecolor\":\"#EBF0F8\"},\"zaxis\":{\"backgroundcolor\":\"white\",\"gridcolor\":\"#DFE8F3\",\"gridwidth\":2,\"linecolor\":\"#EBF0F8\",\"showbackground\":true,\"ticks\":\"\",\"zerolinecolor\":\"#EBF0F8\"}},\"shapedefaults\":{\"line\":{\"color\":\"#2a3f5f\"}},\"ternary\":{\"aaxis\":{\"gridcolor\":\"#DFE8F3\",\"linecolor\":\"#A2B1C6\",\"ticks\":\"\"},\"baxis\":{\"gridcolor\":\"#DFE8F3\",\"linecolor\":\"#A2B1C6\",\"ticks\":\"\"},\"bgcolor\":\"white\",\"caxis\":{\"gridcolor\":\"#DFE8F3\",\"linecolor\":\"#A2B1C6\",\"ticks\":\"\"}},\"title\":{\"x\":0.05},\"xaxis\":{\"automargin\":true,\"gridcolor\":\"#EBF0F8\",\"linecolor\":\"#EBF0F8\",\"ticks\":\"\",\"title\":{\"standoff\":15},\"zerolinecolor\":\"#EBF0F8\",\"zerolinewidth\":2},\"yaxis\":{\"automargin\":true,\"gridcolor\":\"#EBF0F8\",\"linecolor\":\"#EBF0F8\",\"ticks\":\"\",\"title\":{\"standoff\":15},\"zerolinecolor\":\"#EBF0F8\",\"zerolinewidth\":2}}},\"xaxis\":{\"anchor\":\"y\",\"domain\":[0.0,0.175],\"showgrid\":true},\"yaxis\":{\"anchor\":\"x\",\"domain\":[0.7555555555555555,1.0],\"showgrid\":true},\"xaxis2\":{\"anchor\":\"y2\",\"domain\":[0.275,0.45],\"showgrid\":true},\"yaxis2\":{\"anchor\":\"x2\",\"domain\":[0.7555555555555555,1.0],\"showgrid\":true},\"xaxis3\":{\"anchor\":\"y3\",\"domain\":[0.55,0.7250000000000001],\"showgrid\":true},\"yaxis3\":{\"anchor\":\"x3\",\"domain\":[0.7555555555555555,1.0],\"showgrid\":true},\"xaxis4\":{\"anchor\":\"y4\",\"domain\":[0.825,1.0],\"showgrid\":true},\"yaxis4\":{\"anchor\":\"x4\",\"domain\":[0.7555555555555555,1.0],\"showgrid\":true},\"xaxis5\":{\"anchor\":\"y5\",\"domain\":[0.0,0.175],\"showgrid\":true},\"yaxis5\":{\"anchor\":\"x5\",\"domain\":[0.37777777777777777,0.6222222222222222],\"showgrid\":true},\"xaxis6\":{\"anchor\":\"y6\",\"domain\":[0.275,0.45],\"showgrid\":true},\"yaxis6\":{\"anchor\":\"x6\",\"domain\":[0.37777777777777777,0.6222222222222222],\"showgrid\":true},\"xaxis7\":{\"anchor\":\"y7\",\"domain\":[0.55,0.7250000000000001],\"showgrid\":true},\"yaxis7\":{\"anchor\":\"x7\",\"domain\":[0.37777777777777777,0.6222222222222222],\"showgrid\":true},\"xaxis8\":{\"anchor\":\"y8\",\"domain\":[0.825,1.0],\"showgrid\":true},\"yaxis8\":{\"anchor\":\"x8\",\"domain\":[0.37777777777777777,0.6222222222222222],\"showgrid\":true},\"xaxis9\":{\"anchor\":\"y9\",\"domain\":[0.0,0.175],\"showgrid\":true},\"yaxis9\":{\"anchor\":\"x9\",\"domain\":[0.0,0.24444444444444446],\"showgrid\":true},\"xaxis10\":{\"anchor\":\"y10\",\"domain\":[0.275,0.45],\"showgrid\":true},\"yaxis10\":{\"anchor\":\"x10\",\"domain\":[0.0,0.24444444444444446],\"showgrid\":true},\"xaxis11\":{\"anchor\":\"y11\",\"domain\":[0.55,0.7250000000000001],\"showgrid\":true},\"yaxis11\":{\"anchor\":\"x11\",\"domain\":[0.0,0.24444444444444446],\"showgrid\":true},\"xaxis12\":{\"anchor\":\"y12\",\"domain\":[0.825,1.0],\"showgrid\":true},\"yaxis12\":{\"anchor\":\"x12\",\"domain\":[0.0,0.24444444444444446],\"showgrid\":true},\"annotations\":[{\"font\":{\"size\":16},\"showarrow\":false,\"text\":\"Topic 0\",\"x\":0.0875,\"xanchor\":\"center\",\"xref\":\"paper\",\"y\":1.0,\"yanchor\":\"bottom\",\"yref\":\"paper\"},{\"font\":{\"size\":16},\"showarrow\":false,\"text\":\"Topic 1\",\"x\":0.36250000000000004,\"xanchor\":\"center\",\"xref\":\"paper\",\"y\":1.0,\"yanchor\":\"bottom\",\"yref\":\"paper\"},{\"font\":{\"size\":16},\"showarrow\":false,\"text\":\"Topic 2\",\"x\":0.6375000000000001,\"xanchor\":\"center\",\"xref\":\"paper\",\"y\":1.0,\"yanchor\":\"bottom\",\"yref\":\"paper\"},{\"font\":{\"size\":16},\"showarrow\":false,\"text\":\"Topic 3\",\"x\":0.9125,\"xanchor\":\"center\",\"xref\":\"paper\",\"y\":1.0,\"yanchor\":\"bottom\",\"yref\":\"paper\"},{\"font\":{\"size\":16},\"showarrow\":false,\"text\":\"Topic 4\",\"x\":0.0875,\"xanchor\":\"center\",\"xref\":\"paper\",\"y\":0.6222222222222222,\"yanchor\":\"bottom\",\"yref\":\"paper\"},{\"font\":{\"size\":16},\"showarrow\":false,\"text\":\"Topic 5\",\"x\":0.36250000000000004,\"xanchor\":\"center\",\"xref\":\"paper\",\"y\":0.6222222222222222,\"yanchor\":\"bottom\",\"yref\":\"paper\"},{\"font\":{\"size\":16},\"showarrow\":false,\"text\":\"Topic 6\",\"x\":0.6375000000000001,\"xanchor\":\"center\",\"xref\":\"paper\",\"y\":0.6222222222222222,\"yanchor\":\"bottom\",\"yref\":\"paper\"},{\"font\":{\"size\":16},\"showarrow\":false,\"text\":\"Topic 7\",\"x\":0.9125,\"xanchor\":\"center\",\"xref\":\"paper\",\"y\":0.6222222222222222,\"yanchor\":\"bottom\",\"yref\":\"paper\"},{\"font\":{\"size\":16},\"showarrow\":false,\"text\":\"Topic 8\",\"x\":0.0875,\"xanchor\":\"center\",\"xref\":\"paper\",\"y\":0.24444444444444446,\"yanchor\":\"bottom\",\"yref\":\"paper\"},{\"font\":{\"size\":16},\"showarrow\":false,\"text\":\"Topic 9\",\"x\":0.36250000000000004,\"xanchor\":\"center\",\"xref\":\"paper\",\"y\":0.24444444444444446,\"yanchor\":\"bottom\",\"yref\":\"paper\"},{\"font\":{\"size\":16},\"showarrow\":false,\"text\":\"Topic 10\",\"x\":0.6375000000000001,\"xanchor\":\"center\",\"xref\":\"paper\",\"y\":0.24444444444444446,\"yanchor\":\"bottom\",\"yref\":\"paper\"},{\"font\":{\"size\":16},\"showarrow\":false,\"text\":\"Topic 11\",\"x\":0.9125,\"xanchor\":\"center\",\"xref\":\"paper\",\"y\":0.24444444444444446,\"yanchor\":\"bottom\",\"yref\":\"paper\"}],\"title\":{\"font\":{\"size\":22,\"color\":\"Black\"},\"text\":\"<b>Topic Word Scores\",\"x\":0.5,\"xanchor\":\"center\",\"yanchor\":\"top\"},\"hoverlabel\":{\"font\":{\"size\":16,\"family\":\"Rockwell\"},\"bgcolor\":\"white\"},\"showlegend\":false,\"width\":1200,\"height\":900},                        {\"responsive\": true}                    ).then(function(){\n",
              "                            \n",
              "var gd = document.getElementById('7739e204-227a-4d86-9613-0720e27ad693');\n",
              "var x = new MutationObserver(function (mutations, observer) {{\n",
              "        var display = window.getComputedStyle(gd).display;\n",
              "        if (!display || display === 'none') {{\n",
              "            console.log([gd, 'removed!']);\n",
              "            Plotly.purge(gd);\n",
              "            observer.disconnect();\n",
              "        }}\n",
              "}});\n",
              "\n",
              "// Listen for the removal of the full notebook cells\n",
              "var notebookContainer = gd.closest('#notebook-container');\n",
              "if (notebookContainer) {{\n",
              "    x.observe(notebookContainer, {childList: true});\n",
              "}}\n",
              "\n",
              "// Listen for the clearing of the current output cell\n",
              "var outputEl = gd.closest('.output');\n",
              "if (outputEl) {{\n",
              "    x.observe(outputEl, {childList: true});\n",
              "}}\n",
              "\n",
              "                        })                };                            </script>        </div>\n",
              "</body>\n",
              "</html>"
            ]
          },
          "metadata": {}
        }
      ]
    },
    {
      "cell_type": "markdown",
      "source": [
        "#### **Save Top Word Scores Bar Chart**"
      ],
      "metadata": {
        "id": "MZWFicVqpWUA"
      }
    },
    {
      "cell_type": "code",
      "source": [
        "# Set the path to save \n",
        "path = '/content/Topic-Modeling-Reclame-Aqui/results/top_words_scores/'\n",
        "\n",
        "# Use makedirs() to create a new directory if it does not exists\n",
        "if not os.path.exists(path):\n",
        "  os.makedirs(path)\n",
        "\n",
        "\n",
        "fig.write_image(path + \"tws_preprocessed_lemma.png\", format=\"png\")"
      ],
      "metadata": {
        "id": "Qrz2ywMapdO5"
      },
      "execution_count": 82,
      "outputs": []
    },
    {
      "cell_type": "markdown",
      "source": [
        "[Github link](https://github.com/punkmic/Topic-Modeling-Reclame-Aqui/blob/master/results/top_words_scores/tws_preprocessed_lemma.png?raw=true)"
      ],
      "metadata": {
        "id": "HtFLmwl4pTAv"
      }
    },
    {
      "cell_type": "markdown",
      "source": [
        "### **Visualize Topic Similarity**\n",
        "\n",
        "This plot shows a similarity matrix by simply applying cosine similarities through those topic embeddings generate by BERTopic through both c-TF-IDF and embeddings. This matrix indicate how similar certain topics are to each other."
      ],
      "metadata": {
        "id": "qMjOvmYVVUDX"
      }
    },
    {
      "cell_type": "code",
      "source": [
        "fig = topic_model.visualize_heatmap(n_clusters=20, width=800, height=800)\n",
        "fig"
      ],
      "metadata": {
        "id": "_GL5qZ0nV3M2",
        "outputId": "3d10aa98-81ba-40fd-a4d5-ad344500b5ae",
        "colab": {
          "base_uri": "https://localhost:8080/",
          "height": 817
        }
      },
      "execution_count": 49,
      "outputs": [
        {
          "output_type": "display_data",
          "data": {
            "text/html": [
              "<html>\n",
              "<head><meta charset=\"utf-8\" /></head>\n",
              "<body>\n",
              "    <div>            <script src=\"https://cdnjs.cloudflare.com/ajax/libs/mathjax/2.7.5/MathJax.js?config=TeX-AMS-MML_SVG\"></script><script type=\"text/javascript\">if (window.MathJax) {MathJax.Hub.Config({SVG: {font: \"STIX-Web\"}});}</script>                <script type=\"text/javascript\">window.PlotlyConfig = {MathJaxConfig: 'local'};</script>\n",
              "        <script src=\"https://cdn.plot.ly/plotly-2.8.3.min.js\"></script>                <div id=\"0c913cf2-109a-4719-95b6-15cf29929e01\" class=\"plotly-graph-div\" style=\"height:800px; width:800px;\"></div>            <script type=\"text/javascript\">                                    window.PLOTLYENV=window.PLOTLYENV || {};                                    if (document.getElementById(\"0c913cf2-109a-4719-95b6-15cf29929e01\")) {                    Plotly.newPlot(                        \"0c913cf2-109a-4719-95b6-15cf29929e01\",                        [{\"coloraxis\":\"coloraxis\",\"name\":\"0\",\"x\":[\"0_cart\\u00e3o_cr\\u00e9dito_cobran\\u00e7a\",\"43_cashback_valor_extrato\",\"1_celular_aparelho_smartphone\",\"8_iphone_aparelho_celular\",\"42_bluetooth_fone_controle\",\"2_dinheiro_reembolso_valor\",\"58_pagamento_paguei_boleto\",\"65_pagamento_comprovante_co...\",\"3_whatsapp_contato_entregar\",\"48_reconhecimento_facial_ro...\",\"75_https_lepsably_wwwameric...\",\"4_brasil_brasileiro_chegar\",\"40_china_nacional_correios\",\"5_roupa_cal\\u00e7a_vestir\",\"49_m\\u00fasica_music_ouvir\",\"52_cama_comprei_colch\\u00e3o\",\"81_echo_studio_microfone\",\"6_loja_magalu_poder\",\"10_pedir_entregar_encomenda\",\"14_jogo_lan\\u00e7amento_ragnarok\",\"17_prazo_entregar_dia\",\"18_contato_produto_empresa\",\"23_absurdo_produto_querer\",\"29_curitiba_tr\\u00e2nsito_parado\",\"31_produto_juliana_fraga_m\\u00e1...\",\"36_entregar_entregador_ligar\",\"53_novembro_mesa_reclamacao\",\"57_abrir_vendedor_entrar\",\"68_toke_entregador_imail\",\"69_aplicativo_momento_avariar\",\"71_cancelar_cadastral_plano\",\"74_jogo_panelo_panele\",\"77_inicia_embrulhar_dividir\",\"78_secador_full_prazo\",\"7_novembro_dezembro_outubro\",\"19_livro_compr_hoje\",\"20_previs\\u00e3o_entregar_prazo\",\"63_esposo_marido_evid\\u00eancia\",\"64_previs\\u00e3o_prever_vaga\",\"70_previs\\u00e3o_prazoquero_algo...\",\"79_anivers\\u00e1rio_mosaico_pres...\",\"9_black_friday_promo\\u00e7\\u00e3o\",\"11_cancelamento_cancelar_pe...\",\"15_reclama\\u00e7\\u00e3o_produto_compr...\",\"16_site_gr\\u00e1tis_valor\",\"32_endere\\u00e7o_pedido_pedir\",\"34_devolu\\u00e7\\u00e3o_postagem_solic...\",\"35_acessar_validar_conta\",\"39_transportadora_entregar_...\",\"41_internacional_nacional_p...\",\"47_ningu\\u00e9m_nada_ra\\u00e7\\u00e3o\",\"54_express_cidade_transport...\",\"55_cancelar_reembolso_cance...\",\"66_endere\\u00e7o_assinar_local\",\"72_remetente_correios_ender...\",\"80_endere\\u00e7o_resolver_smile\",\"12_geladeira_refrigerador_g...\",\"60_microondas_eletrotrader_...\",\"13_email_conta_senha\",\"25_cobran\\u00e7a_amazoncombr_dig...\",\"27_aplicativo_reembolso_com...\",\"45_amazoncombr_transportado...\",\"21_rob\\u00f4_aspirador_macac\\u00e3o\",\"24_t\\u00eanis_mizuno_tenis\",\"50_pneu_pastilha_coleta\",\"22_caixa_vir_garrafa\",\"28_rastreio_c\\u00f3digo_rastream...\",\"30_prime_v\\u00eddeo_assinatura\",\"38_foto_c\\u00e2merar_placa\",\"73_rastrear_rastreamento_tr...\",\"26_m\\u00e1quina_lavar_roupa\",\"56_forno_electrolux_fogao\",\"59_liquidificador_oster_tampa\",\"33_televis\\u00e3o_monitor_televi...\",\"37_notebook_dell_intel\",\"67_l\\u00e2mpada_lampada_l\\u00e2mpar\",\"44_bicicleta_bike_compr\",\"46_cadeira_montar_cadeiro\",\"51_sof\\u00e1_mobly_magalu\",\"61_perfume_embalagem_refresh\",\"62_mouse_teclado_combo\",\"76_shampoo_haskell_cabelo\"],\"y\":[\"0_cart\\u00e3o_cr\\u00e9dito_cobran\\u00e7a\",\"43_cashback_valor_extrato\",\"1_celular_aparelho_smartphone\",\"8_iphone_aparelho_celular\",\"42_bluetooth_fone_controle\",\"2_dinheiro_reembolso_valor\",\"58_pagamento_paguei_boleto\",\"65_pagamento_comprovante_co...\",\"3_whatsapp_contato_entregar\",\"48_reconhecimento_facial_ro...\",\"75_https_lepsably_wwwameric...\",\"4_brasil_brasileiro_chegar\",\"40_china_nacional_correios\",\"5_roupa_cal\\u00e7a_vestir\",\"49_m\\u00fasica_music_ouvir\",\"52_cama_comprei_colch\\u00e3o\",\"81_echo_studio_microfone\",\"6_loja_magalu_poder\",\"10_pedir_entregar_encomenda\",\"14_jogo_lan\\u00e7amento_ragnarok\",\"17_prazo_entregar_dia\",\"18_contato_produto_empresa\",\"23_absurdo_produto_querer\",\"29_curitiba_tr\\u00e2nsito_parado\",\"31_produto_juliana_fraga_m\\u00e1...\",\"36_entregar_entregador_ligar\",\"53_novembro_mesa_reclamacao\",\"57_abrir_vendedor_entrar\",\"68_toke_entregador_imail\",\"69_aplicativo_momento_avariar\",\"71_cancelar_cadastral_plano\",\"74_jogo_panelo_panele\",\"77_inicia_embrulhar_dividir\",\"78_secador_full_prazo\",\"7_novembro_dezembro_outubro\",\"19_livro_compr_hoje\",\"20_previs\\u00e3o_entregar_prazo\",\"63_esposo_marido_evid\\u00eancia\",\"64_previs\\u00e3o_prever_vaga\",\"70_previs\\u00e3o_prazoquero_algo...\",\"79_anivers\\u00e1rio_mosaico_pres...\",\"9_black_friday_promo\\u00e7\\u00e3o\",\"11_cancelamento_cancelar_pe...\",\"15_reclama\\u00e7\\u00e3o_produto_compr...\",\"16_site_gr\\u00e1tis_valor\",\"32_endere\\u00e7o_pedido_pedir\",\"34_devolu\\u00e7\\u00e3o_postagem_solic...\",\"35_acessar_validar_conta\",\"39_transportadora_entregar_...\",\"41_internacional_nacional_p...\",\"47_ningu\\u00e9m_nada_ra\\u00e7\\u00e3o\",\"54_express_cidade_transport...\",\"55_cancelar_reembolso_cance...\",\"66_endere\\u00e7o_assinar_local\",\"72_remetente_correios_ender...\",\"80_endere\\u00e7o_resolver_smile\",\"12_geladeira_refrigerador_g...\",\"60_microondas_eletrotrader_...\",\"13_email_conta_senha\",\"25_cobran\\u00e7a_amazoncombr_dig...\",\"27_aplicativo_reembolso_com...\",\"45_amazoncombr_transportado...\",\"21_rob\\u00f4_aspirador_macac\\u00e3o\",\"24_t\\u00eanis_mizuno_tenis\",\"50_pneu_pastilha_coleta\",\"22_caixa_vir_garrafa\",\"28_rastreio_c\\u00f3digo_rastream...\",\"30_prime_v\\u00eddeo_assinatura\",\"38_foto_c\\u00e2merar_placa\",\"73_rastrear_rastreamento_tr...\",\"26_m\\u00e1quina_lavar_roupa\",\"56_forno_electrolux_fogao\",\"59_liquidificador_oster_tampa\",\"33_televis\\u00e3o_monitor_televi...\",\"37_notebook_dell_intel\",\"67_l\\u00e2mpada_lampada_l\\u00e2mpar\",\"44_bicicleta_bike_compr\",\"46_cadeira_montar_cadeiro\",\"51_sof\\u00e1_mobly_magalu\",\"61_perfume_embalagem_refresh\",\"62_mouse_teclado_combo\",\"76_shampoo_haskell_cabelo\"],\"z\":[[1.0000000000000002,0.7442016941120113,0.5780326700819683,0.5985670301626502,0.5259990178094325,0.8399299857915605,0.8684923088043162,0.8536743395951566,0.5295861138325069,0.5774876779971303,0.6106045571059933,0.5535443402973893,0.5959295076229143,0.6030654241343052,0.5486318292422931,0.5729664527237113,0.5399931691521389,0.7214244693944807,0.6798309525034982,0.691259479066955,0.716105595971903,0.7150232054832206,0.6847948047514109,0.6455668023265738,0.730677551973463,0.7121731105465297,0.6724690671119502,0.7228286207912252,0.7389850749266171,0.6372779448890449,0.6911092513081021,0.6780065313804554,0.6750814849396003,0.728231428506535,0.6471691394607219,0.6711588239569739,0.651108432817299,0.5920140988956062,0.642605660068542,0.6516875571344225,0.6338623340542603,0.762862904680075,0.6757007769975627,0.7670324572517135,0.7466352941138893,0.7016967135385987,0.7337351093247605,0.7484663332659487,0.6753660972904565,0.7061771922379894,0.6302549348824968,0.7035367697183507,0.7497979176902256,0.6916302286707854,0.7369382620880968,0.6791960131561523,0.4779904380375953,0.38105909164620433,0.6604901820174836,0.8547088953950073,0.8199135893216578,0.7158018843376164,0.42782589976519303,0.5063599685752751,0.4983870139118398,0.709684751308186,0.6469596481229721,0.7127477359106581,0.6490462784979616,0.610169169250179,0.4982270124387612,0.507656814196532,0.6138650346185983,0.45873605791076555,0.588518482149094,0.5555147330498479,0.38972840248759133,0.507234847315737,0.43469938527352003,0.4889961424037618,0.38796067915724985,0.3521245177020537],[0.7442016941120113,0.9999999999999998,0.4900791160832219,0.47155078361781033,0.47572523789009524,0.8388532844388098,0.806294916765214,0.7976406329364217,0.551843148965028,0.5477949050060447,0.5809295404276551,0.4465163573657006,0.4644129377440511,0.5363751618870086,0.5176332716716102,0.5739864325002948,0.5354366098941461,0.6580266600033633,0.6532236091505353,0.6320436117181107,0.68559243464907,0.6517383762090377,0.6301656206398771,0.6493974367774816,0.6653802003308376,0.661664367617423,0.66609757633458,0.6681668849997096,0.6708559106703536,0.5908892669582495,0.6749673187403475,0.6066671786116172,0.6113429192899551,0.6830960887870063,0.6108641796319639,0.6048567672187102,0.6499092768308863,0.5712060013550396,0.6423069411082961,0.6635543745060262,0.5651271654030682,0.6839123030764035,0.6764498121814669,0.6844931803371934,0.693216553606142,0.6417452864611473,0.6823896434345638,0.6817022040504026,0.6339812286133266,0.6098389888267349,0.6014900534441509,0.6343727594801086,0.7575528885178135,0.6242663523657332,0.7376664588306754,0.6074935948478574,0.4658025568737186,0.40356068007026075,0.6364325203734897,0.7094679015855718,0.7560562062056186,0.6521173864463321,0.44604684985632737,0.4232819893349616,0.45180716536079635,0.640251062694539,0.6007303614154216,0.6273570336499966,0.584188705194159,0.5696788867087157,0.4552530909187664,0.4855521959960585,0.5669405452117595,0.4407485839319359,0.5710942940049869,0.4319015899271001,0.37211619500569615,0.4782236006735241,0.46113305072791144,0.47409222464161005,0.41413124171122484,0.3615566160503563],[0.5780326700819683,0.4900791160832219,1.0,0.8167056331758211,0.755158339921794,0.6049377426256416,0.5703205420558516,0.6044030558485993,0.6646074117918779,0.6030864022260695,0.5255562669528847,0.4878532029645222,0.5055651287630986,0.6037911744601827,0.5666940133193966,0.5804259588884475,0.5568661323675208,0.7230305812272766,0.6320025071996181,0.6623711509788726,0.6719369074763174,0.7275632020329238,0.666367994844741,0.6297956336689451,0.7055444878330099,0.6669509488869859,0.6439704024700007,0.6913136589209564,0.7128053765047467,0.7156126574711221,0.7528042227148366,0.6437737032847581,0.6369178983749619,0.652439883210371,0.5662777524507547,0.5972011369291608,0.6200384664341942,0.5668159482956433,0.5960919278023254,0.5764111105166184,0.5711803844410677,0.6442821618308776,0.6188046764652655,0.6656589763059486,0.6628088768799655,0.6762982117395193,0.5990184097943076,0.6790606526831862,0.6493031643156072,0.6567352856134971,0.6167557298669768,0.663221309865913,0.6132595138290138,0.6285815100435059,0.6126800461289108,0.6928191484397823,0.42434695350318696,0.48163196419246834,0.6596954575234371,0.6122868753883611,0.7006221288009404,0.6027861576914028,0.5600986322070304,0.5138950881720954,0.5129243529166599,0.6376065062127465,0.6094477653464416,0.6087665844630668,0.6428405065746478,0.5871600340109268,0.5498675776318066,0.5158210590972025,0.5202273791914644,0.5953841544374242,0.6126183836288137,0.5477002615212776,0.483679773804252,0.4784450632381131,0.4367676641321155,0.47992361655884425,0.4923756618302294,0.40562319024429755],[0.5985670301626502,0.47155078361781033,0.8167056331758211,1.0000000000000004,0.6995159569369058,0.610501816831835,0.5658554020057041,0.6120349098146618,0.590417333765554,0.562509848741013,0.5247287812871312,0.4673631272996681,0.4803056794609143,0.5692998789385744,0.5259609711148738,0.5305734229926494,0.4950931857037396,0.6781624053262347,0.5989940059797505,0.6380599788731971,0.630625443438442,0.676340732963932,0.64492445384624,0.5914184721631957,0.6506096667884766,0.6230869300424204,0.5970124192519574,0.650196270547131,0.6719896664202569,0.7304411771462668,0.6962164453298845,0.6246600828636462,0.6090931600613625,0.6339612600656723,0.5284840891215978,0.5811501053165632,0.5920926427677613,0.5267282900566779,0.5639486211530254,0.5528730257730188,0.5691062814733883,0.6252206373779797,0.6157256673693041,0.6499391686836393,0.6585307316021505,0.6233024790110484,0.5780748126423186,0.6484380960731715,0.6105226234030158,0.6530142415173418,0.5763765404758748,0.6359596016130935,0.6206849902522421,0.5902498887164589,0.577821109351486,0.6604316353429378,0.42354083780129126,0.37992643802199283,0.6236929193772965,0.6563786021318588,0.7350343445870285,0.6653628722273209,0.5016133271562553,0.4937354978066017,0.4552050850318076,0.6242894240836321,0.5742399965337598,0.608163977202297,0.6190121028431564,0.5547556588092967,0.5268898229098956,0.543291912012188,0.5049001488113058,0.5256037175725241,0.5911043067257286,0.4995177042630916,0.3895502440821375,0.4581112669697765,0.43075200808150954,0.4452209538594983,0.5151351227703083,0.37179010557849224],[0.5259990178094325,0.47572523789009524,0.755158339921794,0.6995159569369058,1.0,0.5617639790815464,0.5497751410687772,0.6045668522199842,0.6553889668869328,0.620392979521248,0.6059668778882681,0.4576661244408017,0.4592664126594072,0.5667522143011017,0.5782611317450868,0.5067772611602727,0.6027786056230002,0.6932102877865791,0.6169971416658911,0.6387251312979864,0.6254118921752365,0.6874906946008488,0.620705718664757,0.6193377790162655,0.6665725439925618,0.6348450481924858,0.6077022686870699,0.6489477174629887,0.6613906909442491,0.7153351904524521,0.7049422656027184,0.6328734518956584,0.6048453402687841,0.6078859132502199,0.5097569720308764,0.5908545625418126,0.6082734601073108,0.5626251359594648,0.5773202308996477,0.5617338013538705,0.5573318510220184,0.6051814293755731,0.6052011363482405,0.6185851344093595,0.638137716733323,0.6467536198030618,0.6183712789923924,0.6876137446976192,0.6522774677839843,0.6443699287577351,0.6103962618396134,0.6445534233822451,0.5762033836693687,0.6245592956842089,0.5882435562066581,0.6803812921796611,0.39390518990954027,0.3852784397213252,0.6320739271273115,0.6157949182337148,0.6436583984100721,0.6356374430578903,0.5436268097219961,0.5098877739008618,0.4866973735756746,0.6305543076148477,0.6643902426041589,0.6340186430978225,0.6423796720908964,0.6629858823837895,0.5524591586349167,0.470458944987297,0.5492527634988379,0.561338323166807,0.5597822537757597,0.5559009226072396,0.4258701859316856,0.4190461607648456,0.42064206824705314,0.5081572948808996,0.4900447855784385,0.4366193661027028],[0.8399299857915605,0.8388532844388098,0.6049377426256416,0.610501816831835,0.5617639790815464,0.9999999999999996,0.9342665497322897,0.9162652295406193,0.6526118848539861,0.6549327909691869,0.641548402820384,0.6311123249735499,0.5998128030741618,0.7274367004880811,0.6511889339678489,0.6747105527572613,0.6351473686792601,0.8390858546231919,0.8281985015060587,0.7990896917878131,0.8444407803537419,0.8185591118028042,0.8342703088277186,0.7943120678462974,0.8238550501142665,0.8252249518103201,0.8106299152125755,0.8258432090491715,0.8156497701393723,0.7361723992060418,0.7858487341637772,0.7658945533098777,0.8094052732901407,0.8569971755535937,0.736058698938517,0.7808441831531356,0.7695747020916475,0.7288659873339206,0.7764941068109863,0.7641643100085546,0.7380918396448106,0.8441758480489812,0.7919683175251222,0.8663589666901508,0.843650305109118,0.7812432472324604,0.8599269668916527,0.7995471086198336,0.7790293284820593,0.8027406298836208,0.7718501866864657,0.7816909348316711,0.8942374432263349,0.7473317985151424,0.8651274788359538,0.7610693326625105,0.5144616438304599,0.4399460928437029,0.6958390634503653,0.799813841880199,0.8727848888294703,0.7832433774596861,0.5761958965625231,0.5539200368890749,0.595706862398517,0.8121385711495992,0.7276846063943664,0.7376675310081673,0.7396668904795345,0.7100410449996596,0.6321289445766212,0.5807011689373807,0.65869960002223,0.5373404989120327,0.5935786824896006,0.583575501954209,0.45025050186080806,0.5538674127840939,0.524270728693773,0.6411594529551871,0.43640128667298506,0.5196411519854653],[0.8684923088043162,0.806294916765214,0.5703205420558516,0.5658554020057041,0.5497751410687772,0.9342665497322897,1.0000000000000002,0.9645419540068513,0.6498552000952353,0.6560784569210807,0.6543032297298292,0.5971086131197887,0.6011507881698904,0.6876379054837704,0.6197748988233005,0.6544627505661162,0.636022615612996,0.8020751199072762,0.8084755424637753,0.761669376294666,0.8122928323853928,0.7824102161222707,0.7778946583306442,0.76500279462852,0.7930438610719435,0.8160703924311665,0.7676418347258173,0.8047563212889709,0.7889437329767741,0.7210043462086185,0.7763065144972137,0.7517303849664742,0.7505442621954096,0.8137597401268644,0.7192177767226131,0.7342996610593244,0.7267666597229655,0.6927335716462576,0.7550421369943614,0.7395043168391043,0.7195165689539484,0.797598945190227,0.7787860865224978,0.817100501602058,0.80291330859711,0.7756519994090788,0.8338155487515377,0.7927973877431238,0.7791035066340577,0.7746719744870025,0.7556408811442598,0.7684432702096173,0.8489998734016921,0.7497389044056887,0.8327468411620509,0.7302478300481918,0.4705622557651854,0.4045744247085964,0.7079682978175756,0.7968263488611317,0.8867235396419977,0.75534053267572,0.5506741031051502,0.49986109712172366,0.5791495908139165,0.7421474336825091,0.7275457428025316,0.7401193341274926,0.7048097476583743,0.7078827232250133,0.590567908485147,0.563045901367018,0.637806562000963,0.5264847082970171,0.5655496426835199,0.5739084129781202,0.4353767221878344,0.5612421473699292,0.5176953893303472,0.5684251357347447,0.4339404560881631,0.4786378142466716],[0.8536743395951566,0.7976406329364217,0.6044030558485993,0.6120349098146618,0.6045668522199842,0.9162652295406193,0.9645419540068513,0.9999999999999993,0.6893798077356289,0.7097224790901073,0.7082936864403512,0.6289467697130342,0.6305452294796383,0.7097684887005854,0.6693944120337578,0.7088303801295782,0.6993992933290083,0.850316159332815,0.853761159336641,0.8093654914493312,0.8603937292911323,0.8361882066037071,0.8211022594529427,0.8181986762091797,0.8333623642914652,0.8580189168219554,0.8202398408588141,0.8443952866412865,0.8386458792815572,0.7886355491349264,0.8408292551562726,0.7974567879396314,0.8020180977398303,0.848828538043912,0.7654604691883607,0.781382222587869,0.7916363887619595,0.744894985030853,0.8246418734685049,0.8061511018755178,0.7632193509248069,0.8346071150881971,0.852937243594478,0.8522778087919782,0.8439114088687243,0.8289308613822919,0.8716743180197715,0.8557947817637166,0.8287338658319581,0.8119979223743856,0.8098377183050205,0.8017825058814356,0.8978855215636204,0.800006696166123,0.8787215317886459,0.7850548950298333,0.5226087363350223,0.46485008777437953,0.7658931608382725,0.8284654896841626,0.8777567599322142,0.8057665702938547,0.5857228846144932,0.5475696790613754,0.5951248168480213,0.7875033233353775,0.7800684530768678,0.7986028930761578,0.7446936013993067,0.7595093230746128,0.615068183046625,0.6289393433384669,0.6880154197676436,0.5820057403476773,0.6195952717269525,0.6278443129112214,0.46317268553946256,0.5834088771911571,0.5584520490176741,0.5978722985414178,0.4643579958763183,0.49617926158185144],[0.5295861138325069,0.551843148965028,0.6646074117918779,0.590417333765554,0.6553889668869328,0.6526118848539861,0.6498552000952353,0.6893798077356289,0.9999999999999999,0.6355337572174251,0.625231655462382,0.5416600542436167,0.49394721263408803,0.6266307445691692,0.6574825644303837,0.5834469215338047,0.7209119805122555,0.7944476173243205,0.7839411645815529,0.7271869323645219,0.7528499097293061,0.7778784099048178,0.7317834803514989,0.7389366163339093,0.7653004027161319,0.7554785110602525,0.7267761931285361,0.7773012437760654,0.7405881609214813,0.774960757211133,0.7677947816024964,0.7224130115997831,0.6794874699564555,0.7220904314258552,0.6213910860737307,0.6467500080894826,0.6791793512089948,0.6177034091424085,0.6978127369116398,0.6732045084164273,0.6456554391485956,0.6472071405284407,0.7197738083621023,0.7223945186554057,0.7261929320893139,0.7701387893059891,0.7180461351075884,0.7325845915041788,0.7570899930372743,0.6965764547976112,0.7612477921040535,0.7111833510151435,0.6813669130796803,0.7257857750901371,0.7150097816562909,0.7166936031254927,0.4316664356945572,0.43884872629054794,0.7309628944314323,0.6224582071922705,0.7039579546608135,0.6842493455868095,0.5988502548964065,0.5125529272818556,0.5062077678591145,0.6713681129466883,0.6694011300391287,0.6751480016422997,0.6358747583307136,0.6588327807239481,0.581631066816009,0.5515903704057061,0.5593004052261994,0.566202230879628,0.5164827075931226,0.5107501760456301,0.40208391367485974,0.4982562959989013,0.46493957271331243,0.5542226394762215,0.46443577413837556,0.5083577900574654],[0.5774876779971303,0.5477949050060447,0.6030864022260695,0.562509848741013,0.620392979521248,0.6549327909691869,0.6560784569210807,0.7097224790901073,0.6355337572174251,1.0000000000000004,0.6873909405423642,0.5892316763682037,0.5657818584001991,0.6915139891861775,0.6273552593344051,0.6605703994428975,0.6882057295086953,0.7755905119805646,0.7666635333539775,0.7279164595769481,0.7308539043846869,0.7537517928138721,0.7367713335866619,0.7412624856955058,0.7653265675248011,0.7352957739557315,0.7587242726229216,0.7636062484662111,0.7600429040532939,0.7435215851972619,0.7650649555562292,0.7651793866084338,0.7229544165139896,0.7377117767005668,0.647981076576706,0.6649117371522076,0.7008540398204115,0.6949978984346085,0.7241780288169873,0.6883865642820376,0.7502698517559896,0.6969024046287574,0.6750185011609524,0.7127898078099157,0.7123521749318147,0.7502565527690934,0.6949688493029,0.7806712108731082,0.7153127461840685,0.7116081305235678,0.707404225169709,0.7148387645486226,0.6910911382706237,0.7303896064183231,0.731463995428334,0.76243399425765,0.40263229529688077,0.4433476222470852,0.7226790409558643,0.6676197287494506,0.6565148027591591,0.6899020955895141,0.6126830827697213,0.5497222432331383,0.5645360864311022,0.6842259547943548,0.7576708541124604,0.7443630180417603,0.783674003953513,0.7526132853541807,0.5667665233229776,0.584902019279541,0.5603183234789704,0.5994219299986808,0.577966912993901,0.6702602250991067,0.4470265686012702,0.5712806577617136,0.5884543633094976,0.6432986672992513,0.5283661496738002,0.5889765809699617],[0.6106045571059933,0.5809295404276551,0.5255562669528847,0.5247287812871312,0.6059668778882681,0.641548402820384,0.6543032297298292,0.7082936864403512,0.625231655462382,0.6873909405423642,0.9999999999999996,0.48130810814427005,0.5508628214595599,0.6245284369771387,0.5831549249144865,0.5676505487324484,0.6227491243744274,0.7716757047386107,0.6877147116869023,0.7044586039190452,0.6739367644264799,0.781149586082452,0.6920385593255759,0.6922604378775493,0.7806136416188183,0.7038135423835734,0.7385542345692331,0.7207484536920317,0.7180204675528739,0.7074686617565532,0.7274771704437568,0.7251906652272881,0.6829058824576242,0.6970806276665302,0.6611023366604403,0.6872198814296928,0.6664922863936487,0.6664803167706584,0.6558314753780078,0.6587303797650936,0.6669151730163613,0.6504957108016096,0.6766089002011049,0.7071347644217562,0.769992206079023,0.7499596344387469,0.7144921857003939,0.7887990636396626,0.6936394395493873,0.7174872726964053,0.6604358212558328,0.7019811796070463,0.6632314442371243,0.7584087763882978,0.7471852855994202,0.746850812774305,0.481590259946104,0.4975077461281408,0.7654679181819015,0.7492829979745552,0.6599362853543723,0.7684397354050105,0.5204358892057084,0.49371314910015496,0.47947194646367564,0.6677528541652039,0.7364687342108472,0.7118260156353851,0.7082317081578531,0.7235606635285294,0.5086849712933567,0.531427035445168,0.5443960358762108,0.522640699925742,0.5624556045690817,0.6114858029250526,0.4373522388967833,0.5052801962847042,0.570229828815034,0.5660060244139005,0.47881365920747176,0.42329561889804157],[0.5535443402973893,0.4465163573657006,0.4878532029645222,0.4673631272996681,0.4576661244408017,0.6311123249735499,0.5971086131197887,0.6289467697130342,0.5416600542436167,0.5892316763682037,0.48130810814427005,0.9999999999999993,0.6851011390282153,0.5773319083479783,0.5657713545347461,0.5152652952978669,0.5889447844571337,0.7115445408165095,0.6918545466524767,0.6652631806326598,0.6776680452510248,0.6795824079340529,0.6961112823348417,0.6872879662626137,0.698612785822978,0.66622194665479,0.6993139225346722,0.6607574530536087,0.6561911348887239,0.6194261102126101,0.6484530632431242,0.6688975121327143,0.6444722880760811,0.6670249328265583,0.6207155258801805,0.6137109319710958,0.6252485046207121,0.5863040576898958,0.6514531340253897,0.6196946064044819,0.5970031704941235,0.642916412969825,0.6448896402409476,0.6556643474640211,0.6503544950496695,0.6550721808766292,0.6170858055886438,0.6190681560919788,0.6192818101409304,0.7068650081123825,0.6431251512764369,0.6190019172100163,0.6517094656881102,0.6130905010726209,0.6550372304542296,0.6483277515249498,0.43205783886260085,0.4309749377523644,0.5918140502153919,0.624192026850001,0.5632078162586265,0.6753735533335155,0.5298442302088131,0.5282451935949878,0.4878679331773121,0.598065825926113,0.5758138021981101,0.5833843766535266,0.6056600433952717,0.6329126210315795,0.5160073759318401,0.5270339823839123,0.491086245455409,0.45668784149725716,0.47142945152456683,0.48664075840126564,0.285083439789117,0.4818633280190997,0.443907822017028,0.5341986904885635,0.41778127635068163,0.43683016388461804],[0.5959295076229143,0.4644129377440511,0.5055651287630986,0.4803056794609143,0.4592664126594072,0.5998128030741618,0.6011507881698904,0.6305452294796383,0.49394721263408803,0.5657818584001991,0.5508628214595599,0.6851011390282153,1.0000000000000007,0.5975391918667669,0.5489503749601707,0.5467177646567037,0.5438218408737515,0.694568763177538,0.6684292400640683,0.6577941640270912,0.6647216323154539,0.6617026168011884,0.6668508728125255,0.6987444611604943,0.6627330292346535,0.6570320208939726,0.6755638755756294,0.6497902226332791,0.6495815558120868,0.5963899109536468,0.67398468893495,0.6572529624649204,0.6516451909515795,0.6778719941356295,0.6306890008343611,0.5759004037964117,0.6309639381170556,0.6100147863062881,0.653951256146777,0.6175626567847282,0.6249491905963761,0.645789313855942,0.6249241931285507,0.6379871316021943,0.6498639822898818,0.6573435733652917,0.5950033881481511,0.6276500015688178,0.657696269076796,0.7721050369624191,0.6583958722175407,0.660555188684784,0.6333280309477555,0.6621639716273713,0.6401587041291956,0.663292738757437,0.4432216181183244,0.3844778446173679,0.5665342891888603,0.6126875475585464,0.5665507513746673,0.6401928145011605,0.4786947369636786,0.5262095411295368,0.4611741772896637,0.6067167953189976,0.5976686216470172,0.6254255937809587,0.6202658065317225,0.6057550170100194,0.5022613587263993,0.5016441392496669,0.49792252339097365,0.4729205364671984,0.5247607807637916,0.5233188930414605,0.40506835998464535,0.44074598559638006,0.43958394267790524,0.46978455231397365,0.42904991854361507,0.3561785156899885],[0.6030654241343052,0.5363751618870086,0.6037911744601827,0.5692998789385744,0.5667522143011017,0.7274367004880811,0.6876379054837704,0.7097684887005854,0.6266307445691692,0.6915139891861775,0.6245284369771387,0.5773319083479783,0.5975391918667669,0.9999999999999998,0.6585413167269576,0.7795692420867615,0.6383337657265844,0.827113682858694,0.7969128282133493,0.7710872556931448,0.7843172215172202,0.7746652573164625,0.823704395590274,0.7870859203987917,0.7854246072483395,0.8149034154572476,0.7894279233729493,0.8233249410083416,0.7984682081172099,0.7290056997306238,0.7702736613084491,0.8078930849930626,0.8452581955818022,0.8405613518691073,0.6675562242689762,0.726217198929219,0.7002542181751099,0.7410212578811572,0.7396705528097554,0.7047373063577155,0.7571533797570104,0.7689922553355673,0.7141184663200619,0.7688462897438886,0.7478642546399747,0.7606219552541175,0.7108973336434746,0.7143232691727296,0.7707447905953939,0.7598054522482292,0.7418021561214081,0.7722858646560322,0.7476383770743111,0.7188255520262092,0.7307296537992859,0.7550659280775944,0.5211624153447175,0.47453063471391677,0.6498463328807494,0.5879933401083908,0.6449124775045494,0.6738926071460564,0.6313101210210051,0.614385181828709,0.7109544044457596,0.7802017054850919,0.7274022078232174,0.6989706885938964,0.7735415751012835,0.7476503232672523,0.7274986574296018,0.6148187516355939,0.5947860767242958,0.5678166766468313,0.5790264503452833,0.6356539184036673,0.5587871119935355,0.6763026051747227,0.6246988328522022,0.6959785330635428,0.4807586970563013,0.6301363915355056],[0.5486318292422931,0.5176332716716102,0.5666940133193966,0.5259609711148738,0.5782611317450868,0.6511889339678489,0.6197748988233005,0.6693944120337578,0.6574825644303837,0.6273552593344051,0.5831549249144865,0.5657713545347461,0.5489503749601707,0.6585413167269576,0.9999999999999989,0.6950279127743124,0.8845182934973956,0.7934527458425428,0.7974241208745015,0.7930142931574509,0.761504063248649,0.7524606538000079,0.7662261896153938,0.7917036408638227,0.7562286754989604,0.7698410368705271,0.7748955898438032,0.7588357432389389,0.7652663245841893,0.7371010617421174,0.775011226863738,0.785002979165307,0.7523580195152836,0.7524606722869174,0.6965633724260769,0.757175324739408,0.6928665364122537,0.7488266145437164,0.7358297098024058,0.71550809421114,0.7380111735738608,0.7124249275075845,0.7221130341385926,0.708849255456611,0.7401504867380866,0.7582616670177857,0.6894385271113016,0.7229839182396469,0.7406707645073747,0.7283217658723962,0.7700415668384758,0.7210717220021439,0.7184209251834806,0.7210013039319061,0.7221308775391049,0.730017353657568,0.4273372682500222,0.4966362399016566,0.6931550941327018,0.6415211279019298,0.6107706189142912,0.6877888300233502,0.570770041712269,0.6023422429462755,0.5658892455965753,0.7137816655252204,0.7054475636438915,0.77342464438443,0.68647746310743,0.7134968598265221,0.5366763532668661,0.5983569162270266,0.6084241747583911,0.6042144763461023,0.5752683011021295,0.612088658945042,0.41298987838951645,0.575077623092331,0.5322384034296828,0.5706432836340367,0.5568323587743977,0.484188431063045],[0.5729664527237113,0.5739864325002948,0.5804259588884475,0.5305734229926494,0.5067772611602727,0.6747105527572613,0.6544627505661162,0.7088303801295782,0.5834469215338047,0.6605703994428975,0.5676505487324484,0.5152652952978669,0.5467177646567037,0.7795692420867615,0.6950279127743124,1.0000000000000002,0.6670776364248518,0.7688545948119166,0.7817914043637207,0.73985996216121,0.7717495608781041,0.7264556365243164,0.7660537367568295,0.7740899658099136,0.7237436371322584,0.8016853314129122,0.7734590037311695,0.75717438313077,0.7752441388396556,0.7144781375440212,0.7723839203036192,0.7615669867838135,0.7654126711522119,0.7670193245756144,0.6576416849154844,0.7416202119685433,0.6867470719033248,0.7272750003091264,0.7511302904493984,0.7112266894018765,0.7483157105299836,0.7145090150494099,0.7383887937917418,0.6924591240479421,0.6791310711977239,0.7358576589638528,0.6951576230162381,0.7086544454935271,0.7341611500707318,0.6796106699445402,0.734241776214629,0.7043406626245899,0.7404463015381235,0.697848353205229,0.7134794908225932,0.7090595749667603,0.47525174972667134,0.4840179201105539,0.6647469683614453,0.5884708631415818,0.6137624594337857,0.6507904012631465,0.608235518778417,0.546488724252919,0.6324376507172033,0.7388307480818215,0.672542367077459,0.696005044150428,0.7060754262743183,0.6785916217441271,0.6117689650184732,0.6624744798675506,0.5677412092923553,0.5898688047583124,0.659076063981441,0.650963285541003,0.5047597252875664,0.6415803894852677,0.6882444252636966,0.6196047660802252,0.4815281232147888,0.5186882795725383],[0.5399931691521389,0.5354366098941461,0.5568661323675208,0.4950931857037396,0.6027786056230002,0.6351473686792601,0.636022615612996,0.6993992933290083,0.7209119805122555,0.6882057295086953,0.6227491243744274,0.5889447844571337,0.5438218408737515,0.6383337657265844,0.8845182934973956,0.6670776364248518,1.0000000000000002,0.7781209399428369,0.7941288152740231,0.7609321966822047,0.7640567371981879,0.7547548492923262,0.7526748898318527,0.7734633016353918,0.744452158618385,0.7781843346354886,0.7868147196990649,0.76317051594727,0.7571560092083338,0.7524619130683019,0.8043484995429548,0.7857419974346975,0.7424662032861064,0.7423741292998741,0.6675280537361039,0.7074721584698068,0.7148292920503956,0.7077024704813549,0.7504572201214916,0.7224790331418334,0.7073691251475414,0.6860540346291394,0.7382574282659515,0.7143913772358264,0.7293866735771344,0.7688678105282674,0.7064550538693604,0.7401608137703211,0.7514821892393818,0.7216030160808167,0.7734201997179698,0.7123477297471007,0.7231978189814422,0.722825653350298,0.7521283843980041,0.7480615013167156,0.44819313988482046,0.5260222356875769,0.7272001382533165,0.6397124848169613,0.6181856868013317,0.6794462584648704,0.6075693621539677,0.5944580887641191,0.5668704413450845,0.7203962231901705,0.7454246990109796,0.7438241911378684,0.7030938976378134,0.7537220221097567,0.6107328863276499,0.6293991544584429,0.6735532386815737,0.6198042152463249,0.6212760702695124,0.6046958067481694,0.41446314809705126,0.5875063994497545,0.5599608511524619,0.5841826902073535,0.5541458028846376,0.5321007443486399],[0.7214244693944807,0.6580266600033633,0.7230305812272766,0.6781624053262347,0.6932102877865791,0.8390858546231919,0.8020751199072762,0.850316159332815,0.7944476173243205,0.7755905119805646,0.7716757047386107,0.7115445408165095,0.694568763177538,0.827113682858694,0.7934527458425428,0.7688545948119166,0.7781209399428369,1.0000000000000004,0.9391170029155158,0.9198362070703997,0.9240030902775245,0.9744596108857975,0.946754440517887,0.9109323505663582,0.9668582641957361,0.9303608558060623,0.9098273307953197,0.9568068620147732,0.9287056023053988,0.8905705884501625,0.926976100110361,0.911686698112353,0.8923261106476987,0.9198220654467125,0.8151567396855367,0.8635423599138556,0.8652976674332318,0.8467297213755093,0.8778256591062708,0.857444521320343,0.8533300323308749,0.8763081269117361,0.8779696891427371,0.9227899068432577,0.924434429227317,0.9360404662867883,0.8625051182197413,0.8881879897025837,0.9100696211835111,0.9011370690590839,0.8824163891880501,0.8885565908753685,0.8718845121379356,0.8980944161099347,0.8897135306235285,0.9186515979720409,0.6016161582397952,0.5771019737477698,0.8523969862134364,0.7928952673140327,0.8072914678429217,0.8628919891525262,0.7184426354788868,0.6679202470506699,0.6694373924029275,0.8649739763256784,0.8496866702509415,0.8451924976607825,0.8523038307403936,0.8486521059380878,0.7263675559804998,0.7258815538033623,0.7310844955047676,0.675514551650128,0.6660218363626073,0.7260833818793284,0.5260380742186492,0.6460096134272759,0.600494240734258,0.7121650713119414,0.5645019704492893,0.5960241098799967],[0.6798309525034982,0.6532236091505353,0.6320025071996181,0.5989940059797505,0.6169971416658911,0.8281985015060587,0.8084755424637753,0.853761159336641,0.7839411645815529,0.7666635333539775,0.6877147116869023,0.6918545466524767,0.6684292400640683,0.7969128282133493,0.7974241208745015,0.7817914043637207,0.7941288152740231,0.9391170029155158,1.0000000000000007,0.8831701497235245,0.9307095353650771,0.8907729432139984,0.9136099623897009,0.9368125801556391,0.8825571078674102,0.9364853927808028,0.8969910164484529,0.929211708331934,0.892805092929857,0.8598908047900407,0.8917192265686636,0.8821000533583623,0.8652632638309443,0.9140507989583595,0.8046292718433466,0.8448350305501608,0.8249871596144482,0.8451216999047265,0.8967309992985045,0.8575512301166222,0.8405617755017977,0.8161706787399314,0.8753773043473654,0.8450639529574482,0.8306289490982146,0.9112011264817903,0.8561830757036624,0.8457088985088057,0.8938113986998808,0.852073736512587,0.9240819191713798,0.8255225525175227,0.8700100880958797,0.8540324457878992,0.8867376891461864,0.8519223610215387,0.5593358835434211,0.5156373275159176,0.8081202016721833,0.7239806956001554,0.7600762572221509,0.7751171037815984,0.7016498738784729,0.625143932273518,0.6556663911448128,0.8246761089123138,0.8056164699836978,0.8179714498405666,0.7924333560961068,0.8024944503019475,0.6830091272334958,0.6864361036529737,0.6804691817593873,0.6131300269770497,0.6002944429837407,0.6755412852458431,0.4872306121366633,0.6282502811783466,0.5781822656255418,0.6603079949198636,0.5400145925546042,0.588014477458766],[0.691259479066955,0.6320436117181107,0.6623711509788726,0.6380599788731971,0.6387251312979864,0.7990896917878131,0.761669376294666,0.8093654914493312,0.7271869323645219,0.7279164595769481,0.7044586039190452,0.6652631806326598,0.6577941640270912,0.7710872556931448,0.7930142931574509,0.73985996216121,0.7609321966822047,0.9198362070703997,0.8831701497235245,1.0000000000000002,0.8821753075024852,0.8864200785911984,0.8923955546559286,0.8741127370874935,0.8819573835830959,0.8773302551409958,0.8759234247468014,0.8826507844919584,0.8748631293655054,0.8746773154675602,0.8888971107355618,0.9336298075500545,0.8640284590429643,0.872541260667576,0.7876569039007748,0.8293160653894889,0.8243755657538883,0.8007018869026361,0.8565462906239241,0.8530891646686412,0.8313126874317316,0.8440038666690515,0.8543175942277259,0.8676366922907461,0.8656869881415838,0.8550426300102458,0.8172441679775031,0.8274544759530236,0.8418284934922786,0.8475302191349185,0.856240388943198,0.8022223224681725,0.8599309222974927,0.8366284439968343,0.842648145399149,0.8418518465306974,0.5669923002950181,0.5356821231629889,0.7637597490317605,0.7312253088578646,0.7837400569673766,0.7837431487378522,0.7077354294698746,0.722592668113538,0.6532326345696275,0.8330961400913612,0.8243601954896449,0.836067188463534,0.7977049309821421,0.8218259489320887,0.65349459220643,0.671911713760694,0.7052449946707064,0.7101559385857794,0.6395324154292237,0.6858188911644774,0.5092770869093157,0.6229067443148711,0.6237464065151778,0.6459880267975078,0.5662750047613864,0.5416652194815161],[0.716105595971903,0.68559243464907,0.6719369074763174,0.630625443438442,0.6254118921752365,0.8444407803537419,0.8122928323853928,0.8603937292911323,0.7528499097293061,0.7308539043846869,0.6739367644264799,0.6776680452510248,0.6647216323154539,0.7843172215172202,0.761504063248649,0.7717495608781041,0.7640567371981879,0.9240030902775245,0.9307095353650771,0.8821753075024852,0.9999999999999997,0.8942160704451763,0.9135570214276447,0.9172895196911008,0.8865240833441428,0.9256194506159267,0.8973811405883809,0.9049400366131339,0.8969640922250849,0.8560641139111398,0.9053722462565985,0.8667985088623624,0.8909776538210665,0.9431890252425823,0.8443885539687244,0.827960515931993,0.892661283274794,0.8169528713082539,0.9158960963488223,0.8944108493432597,0.8233479329583333,0.8558783759397612,0.8753385473405787,0.8782489484434595,0.8396184485942934,0.8799703977979321,0.8572583504227282,0.8557065600570133,0.8867501902963137,0.868232765121709,0.877672026104305,0.8294296251307336,0.8918190974827777,0.8291679048246168,0.8777474013609183,0.852122050834248,0.5812044761959694,0.5456338783390348,0.7989297514850796,0.7611987828860876,0.7808540562672133,0.8007966416334862,0.6793456623756085,0.6370962913426887,0.6525820244055711,0.8543227000837286,0.8400744923950934,0.8138663602121633,0.8175443236762943,0.8357568589687374,0.7032553961301435,0.7039394827653956,0.7260086145985009,0.633171437059377,0.6476444556974215,0.6845091569441378,0.502044135733847,0.6224211172881328,0.5555348709320861,0.6509353418785904,0.5098562130175858,0.5694166162400257],[0.7150232054832206,0.6517383762090377,0.7275632020329238,0.676340732963932,0.6874906946008488,0.8185591118028042,0.7824102161222707,0.8361882066037071,0.7778784099048178,0.7537517928138721,0.781149586082452,0.6795824079340529,0.6617026168011884,0.7746652573164625,0.7524606538000079,0.7264556365243164,0.7547548492923262,0.9744596108857975,0.8907729432139984,0.8864200785911984,0.8942160704451763,1.0000000000000002,0.9281141392374671,0.8591812357057588,0.9651533997926942,0.8990980019803831,0.8769232908728184,0.9286994652564413,0.9120451937224999,0.8813510591671305,0.9178856307285467,0.876486889709635,0.8592700716184289,0.8786173281486676,0.7770941146444188,0.8342591776110573,0.8432287199317616,0.8204658705305998,0.8359086288709768,0.8218901143851232,0.8031387075589739,0.8541323379145801,0.8629500899615241,0.927702912766405,0.9071468776014266,0.9324721395983363,0.8529787749790858,0.8845352252322245,0.8887152528439639,0.8776263856307182,0.8387773075165215,0.8837889426151188,0.8517344736385368,0.9051149364005442,0.8885572830544533,0.9375937520832494,0.5923802696146607,0.5838342861565892,0.8507042894724548,0.7946245563964013,0.8127279559960499,0.8660785636835224,0.6967389713597617,0.6577882221780871,0.6488414170553672,0.8425117642014242,0.8403141974615465,0.8134286056354831,0.8346389161215905,0.828976597527102,0.7165144343881866,0.7089355908869931,0.7321148681668848,0.6545940298912212,0.6679974068387632,0.6939772853736367,0.5064280593502911,0.6196454846464263,0.566899827953408,0.6807895106392836,0.5561936421217114,0.5727408302338317],[0.6847948047514109,0.6301656206398771,0.666367994844741,0.64492445384624,0.620705718664757,0.8342703088277186,0.7778946583306442,0.8211022594529427,0.7317834803514989,0.7367713335866619,0.6920385593255759,0.6961112823348417,0.6668508728125255,0.823704395590274,0.7662261896153938,0.7660537367568295,0.7526748898318527,0.946754440517887,0.9136099623897009,0.8923955546559286,0.9135570214276447,0.9281141392374671,1.0000000000000007,0.890526630191196,0.9070358575250186,0.9110052966810042,0.8686333336908603,0.9163244067483642,0.872572449291082,0.8432260449584803,0.8751580420812171,0.874422667794585,0.8851538129490484,0.915918639489798,0.7667711598535187,0.8423216916429562,0.8284906655699777,0.8671079729548526,0.8536144451497998,0.81812812198356,0.828700603161854,0.8610054873370407,0.8551065520396095,0.9074705870437068,0.8701407998322415,0.8792966078034551,0.8084751172715803,0.8199624725028997,0.8641720760133114,0.8705283198175742,0.8757903274897088,0.8302070638227736,0.8701657237323126,0.8289197491350742,0.8511527226194376,0.8815687784734383,0.6055637863006081,0.5790810208683826,0.7784493223974509,0.7308123378728808,0.7657050083239586,0.8105031541816978,0.7354579729208651,0.6505556819892088,0.6819971636184589,0.8546443150813122,0.7971288620012845,0.8057143563240224,0.8299300361774904,0.8082088889888461,0.725702825656328,0.724748548513656,0.7115861456043656,0.6572837543237422,0.6218835659646538,0.7064771999745725,0.5106343307429135,0.6314278266207114,0.5834079969119151,0.6918049003887914,0.5363357949423067,0.613375919612425],[0.6455668023265738,0.6493974367774816,0.6297956336689451,0.5914184721631957,0.6193377790162655,0.7943120678462974,0.76500279462852,0.8181986762091797,0.7389366163339093,0.7412624856955058,0.6922604378775493,0.6872879662626137,0.6987444611604943,0.7870859203987917,0.7917036408638227,0.7740899658099136,0.7734633016353918,0.9109323505663582,0.9368125801556391,0.8741127370874935,0.9172895196911008,0.8591812357057588,0.890526630191196,1.0000000000000002,0.8491569143458149,0.9191771926721813,0.9271999453019717,0.8880598659878673,0.8757363442320513,0.8427489675508802,0.891721158716982,0.8581465185580393,0.8843343321796908,0.9044877065839031,0.8466777665497063,0.8053324803150133,0.8162549004362383,0.8337111149802736,0.8864786909290836,0.8722203192910717,0.8327689371591984,0.8229184537155774,0.8913167732614017,0.8250045196650315,0.8232198298887587,0.8774762215192147,0.8334995437268458,0.8239880325638573,0.9046087301234295,0.8581437397974825,0.9144469126438426,0.8415495963228288,0.8937936136260091,0.8389648070818292,0.883918064823815,0.834029135981134,0.5563283650797674,0.5048374732923837,0.7835781982021817,0.7085980483897903,0.72330162309202,0.7692020023875911,0.6645617090376147,0.6203858432824934,0.6844545374851749,0.8290639559095447,0.7971957866324584,0.8059245544812488,0.77249119659901,0.8267311607246071,0.6706474094742332,0.681157989638167,0.6598889906578775,0.6408371177474245,0.5894065157816606,0.6853865886615242,0.5335829411708559,0.6165544724416147,0.584876414248817,0.6541705550047916,0.5106164801535408,0.5451144063343112],[0.730677551973463,0.6653802003308376,0.7055444878330099,0.6506096667884766,0.6665725439925618,0.8238550501142665,0.7930438610719435,0.8333623642914652,0.7653004027161319,0.7653265675248011,0.7806136416188183,0.698612785822978,0.6627330292346535,0.7854246072483395,0.7562286754989604,0.7237436371322584,0.744452158618385,0.9668582641957361,0.8825571078674102,0.8819573835830959,0.8865240833441428,0.9651533997926942,0.9070358575250186,0.8491569143458149,1.0000000000000004,0.9006344993920175,0.8844967459200033,0.9380752670276682,0.9204358839964922,0.8552426423943248,0.9039308919126419,0.8905218871473255,0.8530499995516577,0.8710824807777556,0.7848306485550999,0.8521402847337045,0.8307518730451858,0.8096001750805293,0.8282820671477187,0.8180131462198426,0.8345400627260848,0.8641428653585301,0.8468541781969692,0.9283756261355596,0.9119929997738782,0.9299749443949408,0.851205914750384,0.8837919362410006,0.8882170434028036,0.8728994226358626,0.8221346308883606,0.8924109299015432,0.8379816605101367,0.9156048721344233,0.886226111517401,0.9141509970252109,0.5800035721238832,0.5788763675091716,0.8542788530114755,0.803586525894006,0.8004723298326029,0.870486697423859,0.6765044435764239,0.657243272541218,0.6422250721512812,0.8335481092012951,0.8467435350611561,0.8216256632297125,0.8543458820682563,0.8476453268733154,0.6775652290043241,0.6809414843056306,0.7222698271782696,0.6336683690461324,0.6590781824436494,0.705007454468269,0.4963233825818547,0.6467055493555068,0.586431737295781,0.7223448326512647,0.5424237867043136,0.5867679267735347],[0.7121731105465297,0.661664367617423,0.6669509488869859,0.6230869300424204,0.6348450481924858,0.8252249518103201,0.8160703924311665,0.8580189168219554,0.7554785110602525,0.7352957739557315,0.7038135423835734,0.66622194665479,0.6570320208939726,0.8149034154572476,0.7698410368705271,0.8016853314129122,0.7781843346354886,0.9303608558060623,0.9364853927808028,0.8773302551409958,0.9256194506159267,0.8990980019803831,0.9110052966810042,0.9191771926721813,0.9006344993920175,0.9999999999999999,0.9107233611148904,0.9352779850510644,0.9310459931546745,0.8507549004984499,0.913108699467355,0.8934254718338807,0.8948955656025253,0.9148351446568658,0.7840689331622541,0.8339387618648844,0.8191663960881148,0.8288464638322373,0.8763043862618611,0.833135883635723,0.8336037954757682,0.8358221771713126,0.8897217838331659,0.8870060203703292,0.8209810003910394,0.9049526254867271,0.8563673851406157,0.8632292575682605,0.9345908983667985,0.8615745332849386,0.8992998266620968,0.873865825251846,0.8824049079920321,0.8660788881237017,0.9004509332151538,0.881517933782149,0.6195408637252362,0.560897318795529,0.8148932075516709,0.7509500796545864,0.7786958153845063,0.7977260967788655,0.7202857819251247,0.620032107994008,0.6979973787544648,0.8554538127002904,0.8094976306727621,0.8072886496141094,0.8215085073931339,0.8528270127302837,0.7290288512354788,0.7207078720847658,0.7425858216097313,0.6401578351507612,0.6387919552637822,0.6948373308779553,0.5328992576713693,0.7101874092122659,0.6363801537049454,0.6584855497624491,0.5308201049683179,0.5837213550462745],[0.6724690671119502,0.66609757633458,0.6439704024700007,0.5970124192519574,0.6077022686870699,0.8106299152125755,0.7676418347258173,0.8202398408588141,0.7267761931285361,0.7587242726229216,0.7385542345692331,0.6993139225346722,0.6755638755756294,0.7894279233729493,0.7748955898438032,0.7734590037311695,0.7868147196990649,0.9098273307953197,0.8969910164484529,0.8759234247468014,0.8973811405883809,0.8769232908728184,0.8686333336908603,0.9271999453019717,0.8844967459200033,0.9107233611148904,0.9999999999999998,0.8959552508447045,0.9124207876848113,0.8443433445812564,0.9077398809456252,0.8899262354670407,0.9007271780997534,0.8842500161129567,0.87200432024153,0.8288397541872151,0.8137963885236525,0.8177505506139329,0.8689448347707944,0.8533915492771844,0.8616362763447524,0.832452537490751,0.8824001808056645,0.8605309544294153,0.8354041739112643,0.8865911736702841,0.8628257154692589,0.8587277586264221,0.871639910501352,0.8584701576121962,0.854470819577563,0.8397134497029041,0.8880326046417569,0.8569017732185101,0.9155413551251481,0.8559974305907775,0.5788747109149756,0.5921850853913263,0.8206732140603459,0.7533115097522716,0.7432432256871891,0.8113327956062893,0.6642003935199605,0.6510599472136465,0.6914774843651856,0.85558157193162,0.815257016683256,0.8056391165907344,0.8023264802046308,0.8345042475544795,0.713307636650093,0.727490478999891,0.7132077666387372,0.649587621072766,0.6775453719232986,0.6912211838333199,0.5368302227934976,0.6619691173061365,0.6485462148940679,0.6649942866591871,0.5354369486800076,0.5588942059331818],[0.7228286207912252,0.6681668849997096,0.6913136589209564,0.650196270547131,0.6489477174629887,0.8258432090491715,0.8047563212889709,0.8443952866412865,0.7773012437760654,0.7636062484662111,0.7207484536920317,0.6607574530536087,0.6497902226332791,0.8233249410083416,0.7588357432389389,0.75717438313077,0.76317051594727,0.9568068620147732,0.929211708331934,0.8826507844919584,0.9049400366131339,0.9286994652564413,0.9163244067483642,0.8880598659878673,0.9380752670276682,0.9352779850510644,0.8959552508447045,0.9999999999999993,0.9090370038841222,0.8764333661755896,0.9055395589264512,0.8895321087452706,0.8766458446539587,0.9118647731608757,0.7714221799777823,0.8411549232988099,0.8117528656224633,0.8258695693010301,0.8549042331558256,0.8183236769633928,0.8254550530473141,0.8557488144595684,0.8792373383639576,0.9311702446507226,0.8653435915751103,0.911759903245916,0.8399304721033197,0.8812262173381114,0.8997661096230265,0.8605425386005264,0.8516408813417589,0.8670893267936809,0.8693006685703326,0.8667904191496236,0.874853550368498,0.8820541616731712,0.5994143499239271,0.5348345804082832,0.8385638711446567,0.7614108990401749,0.8115829381679209,0.816942166832574,0.7051869849502816,0.6471093055815613,0.6496513875662078,0.837795943078544,0.8286646829134021,0.8090868705673271,0.8293989358157028,0.8352490354095262,0.695135700570614,0.6971587777652912,0.7241765862434664,0.6241965971859537,0.6505416498355641,0.6967024089430893,0.5129328450333972,0.6746786990675221,0.5841423497508647,0.7216057618954951,0.540669054169347,0.5957751179988386],[0.7389850749266171,0.6708559106703536,0.7128053765047467,0.6719896664202569,0.6613906909442491,0.8156497701393723,0.7889437329767741,0.8386458792815572,0.7405881609214813,0.7600429040532939,0.7180204675528739,0.6561911348887239,0.6495815558120868,0.7984682081172099,0.7652663245841893,0.7752441388396556,0.7571560092083338,0.9287056023053988,0.892805092929857,0.8748631293655054,0.8969640922250849,0.9120451937224999,0.872572449291082,0.8757363442320513,0.9204358839964922,0.9310459931546745,0.9124207876848113,0.9090370038841222,0.9999999999999991,0.871309545798525,0.9193685362951765,0.8916095404636647,0.8926305181033097,0.8811576460860503,0.7976191317920734,0.8312345740702134,0.8248926037516183,0.8025951895215826,0.8590992334069794,0.8429050240928107,0.8586790238253612,0.8390573682235629,0.8484704109887542,0.869101031297977,0.8441031179371539,0.9259377876411885,0.8617766303294432,0.8831057654466182,0.8967671737633485,0.8642230818832095,0.8394970422131209,0.9067433169626722,0.8603317007776126,0.9035544048558932,0.9041021899164319,0.8935082880643281,0.5778729847720862,0.5387624434055391,0.845533011128781,0.785849397892108,0.7935923601019167,0.8362388152290645,0.6500786114700969,0.6518302446045052,0.6986258291019014,0.8394664723210261,0.8417605885304713,0.8308527342239396,0.8188981376619858,0.8496067665391828,0.6778916909532207,0.7047329590863534,0.7354732573613518,0.6342609107045004,0.6918871641794543,0.7064357371146082,0.5479838467550937,0.6736621891154013,0.6383451766019481,0.6400692040968552,0.5321278189529577,0.5717275721264526],[0.6372779448890449,0.5908892669582495,0.7156126574711221,0.7304411771462668,0.7153351904524521,0.7361723992060418,0.7210043462086185,0.7886355491349264,0.774960757211133,0.7435215851972619,0.7074686617565532,0.6194261102126101,0.5963899109536468,0.7290056997306238,0.7371010617421174,0.7144781375440212,0.7524619130683019,0.8905705884501625,0.8598908047900407,0.8746773154675602,0.8560641139111398,0.8813510591671305,0.8432260449584803,0.8427489675508802,0.8552426423943248,0.8507549004984499,0.8443433445812564,0.8764333661755896,0.871309545798525,1.0000000000000004,0.8897376363753707,0.8609592596225921,0.8262151691036601,0.8383269850041921,0.7360003451492501,0.7882990706481222,0.80116761718934,0.7429348713176716,0.8307283407508916,0.8100066828104234,0.799321475363498,0.7705951017126307,0.8287817923466185,0.8211936019226148,0.8321921894989737,0.8485674220592045,0.813652331918786,0.8545525421209939,0.8394037632302968,0.8081696947099146,0.8137040095204707,0.8070437898084726,0.8098969440723877,0.8220921748078506,0.8195928890510242,0.8481262060791022,0.5279925317388685,0.48304756101786817,0.8110563833862736,0.7229247329580755,0.8559179430662558,0.7993560191561773,0.6850529657462392,0.6101599201922225,0.6128832645720405,0.8105560830142983,0.8430972724133688,0.8198641715085306,0.7794038219766909,0.8157767599368715,0.6767318886028035,0.652690079397102,0.6944396383499294,0.6681572873778,0.6737330384731229,0.6818671424749365,0.5075504917014162,0.6031109893620321,0.5842549145819113,0.6326088295613073,0.5918216025278143,0.5292742986953742],[0.6911092513081021,0.6749673187403475,0.7528042227148366,0.6962164453298845,0.7049422656027184,0.7858487341637772,0.7763065144972137,0.8408292551562726,0.7677947816024964,0.7650649555562292,0.7274771704437568,0.6484530632431242,0.67398468893495,0.7702736613084491,0.775011226863738,0.7723839203036192,0.8043484995429548,0.926976100110361,0.8917192265686636,0.8888971107355618,0.9053722462565985,0.9178856307285467,0.8751580420812171,0.891721158716982,0.9039308919126419,0.913108699467355,0.9077398809456252,0.9055395589264512,0.9193685362951765,0.8897376363753707,0.9999999999999998,0.9141175939087338,0.8962946537053066,0.8774508579538097,0.7894163200321695,0.8095898610789019,0.8608454298257235,0.7894550569897285,0.8800112791504437,0.8582242554403765,0.8234711653467708,0.8409961817763265,0.9177064837237792,0.8746077979977276,0.8559672714694699,0.8972545451942144,0.8544021210717718,0.8568862602181824,0.900902196561927,0.8527645688747745,0.8580702142693635,0.8632978775088489,0.8864423060505451,0.8682071446970829,0.8775103387475192,0.8970899691129919,0.5939618806844037,0.5806928166031635,0.8290421308195262,0.7675151868458125,0.7941309790718403,0.8157162381442534,0.7105971049280411,0.6636411858959317,0.6644096826700565,0.8398814224316922,0.8621802198083552,0.8158204870972328,0.8150449877616832,0.8562476034654132,0.7048683063446648,0.7312417754847776,0.7413912380436734,0.6864061885175317,0.7211386559669215,0.6931492357381724,0.5506924761245666,0.6744736746355449,0.623569899223628,0.6138565890257783,0.6048557094212634,0.5379487137811868],[0.6780065313804554,0.6066671786116172,0.6437737032847581,0.6246600828636462,0.6328734518956584,0.7658945533098777,0.7517303849664742,0.7974567879396314,0.7224130115997831,0.7651793866084338,0.7251906652272881,0.6688975121327143,0.6572529624649204,0.8078930849930626,0.785002979165307,0.7615669867838135,0.7857419974346975,0.911686698112353,0.8821000533583623,0.9336298075500545,0.8667985088623624,0.876486889709635,0.874422667794585,0.8581465185580393,0.8905218871473255,0.8934254718338807,0.8899262354670407,0.8895321087452706,0.8916095404636647,0.8609592596225921,0.9141175939087338,1.0,0.8810415116576988,0.8575339747721284,0.7447901989712014,0.8352087796580581,0.8036044993051914,0.8077194442849829,0.8488994866106137,0.8201805696099056,0.8569519105275577,0.8177341563152728,0.8352129638939326,0.8522159387334682,0.8291582187486214,0.8641542541525856,0.8182834130507349,0.8339088427293182,0.8467222654628326,0.8400091400778997,0.8301914740744664,0.8149347823657122,0.8355278001111145,0.8479616583433034,0.8538097215671983,0.8562417495075861,0.5532823455921725,0.5328794795120966,0.7712065527596781,0.7158698802865477,0.7410963825304536,0.771449609103841,0.7193145406214596,0.73070241295748,0.6714569598165532,0.8476619241773329,0.8463434660328804,0.8274695341683864,0.8399140442902104,0.8711118855791693,0.6841563001425444,0.6994519882737087,0.7237279465251507,0.7081003958947563,0.6783600225602573,0.718784875790605,0.5235596816108721,0.7058070318937142,0.6817983544395639,0.6352738555852001,0.628876564695074,0.5693306721800919],[0.6750814849396003,0.6113429192899551,0.6369178983749619,0.6090931600613625,0.6048453402687841,0.8094052732901407,0.7505442621954096,0.8020180977398303,0.6794874699564555,0.7229544165139896,0.6829058824576242,0.6444722880760811,0.6516451909515795,0.8452581955818022,0.7523580195152836,0.7654126711522119,0.7424662032861064,0.8923261106476987,0.8652632638309443,0.8640284590429643,0.8909776538210665,0.8592700716184289,0.8851538129490484,0.8843343321796908,0.8530499995516577,0.8948955656025253,0.9007271780997534,0.8766458446539587,0.8926305181033097,0.8262151691036601,0.8962946537053066,0.8810415116576988,0.9999999999999996,0.916977048069705,0.7725032866544975,0.8168253499902484,0.8150012508575449,0.8001607700971891,0.8591918209676916,0.8243155693345303,0.8365395261068324,0.8432887022298496,0.8567676435964029,0.8559398954554838,0.8219624504939393,0.8296353202581425,0.8448844651219382,0.8170039725672722,0.8455235122364431,0.8494901327178521,0.8363566966184143,0.8340505930995477,0.8752041493618625,0.8020402795972018,0.8540029660146174,0.8323075608253088,0.5730011228244004,0.5578633331116286,0.7411886806416548,0.7114486626903405,0.7290490044617469,0.7764364250531036,0.6496399187382116,0.6684692328869151,0.6796175888529153,0.8691512836203569,0.8548784042097353,0.7919840832472866,0.8141620390150603,0.8655985088153609,0.7266985234069535,0.7293601777922865,0.7381957477008233,0.6448215715765302,0.6721415959343532,0.6951667726798789,0.5357352446919328,0.6473475605167907,0.5938250709949334,0.6721153674201743,0.5149883401841419,0.6160846154254865],[0.728231428506535,0.6830960887870063,0.652439883210371,0.6339612600656723,0.6078859132502199,0.8569971755535937,0.8137597401268644,0.848828538043912,0.7220904314258552,0.7377117767005668,0.6970806276665302,0.6670249328265583,0.6778719941356295,0.8405613518691073,0.7524606722869174,0.7670193245756144,0.7423741292998741,0.9198220654467125,0.9140507989583595,0.872541260667576,0.9431890252425823,0.8786173281486676,0.915918639489798,0.9044877065839031,0.8710824807777556,0.9148351446568658,0.8842500161129567,0.9118647731608757,0.8811576460860503,0.8383269850041921,0.8774508579538097,0.8575339747721284,0.916977048069705,1.0000000000000002,0.8163537640352797,0.8153020528263762,0.8743007127274494,0.8209137520349766,0.897478123613155,0.8681196146665169,0.8222487829609555,0.8650707967272822,0.8504947931585864,0.8773187449641162,0.8648280437872167,0.8557981244052608,0.8299529119941847,0.85007892804978,0.862197019660659,0.8668812119196452,0.8645743565550168,0.843890075130936,0.8869593605653643,0.8054333087786372,0.8567081634797816,0.8367979519889166,0.6131069179394204,0.5310673169533457,0.7739509519594814,0.7571408492364509,0.7850640052016826,0.7994485669313698,0.6558161450382963,0.6383890469042403,0.6609568540056464,0.8598485563913447,0.8294271527424761,0.8185932724100868,0.8238514871974449,0.8328753263098325,0.7243003922910545,0.6771236848434365,0.7192883823387146,0.6375972532433263,0.6459587526411072,0.6828292065686168,0.5167067511291471,0.6320292449131915,0.5837353246826646,0.6976831217306452,0.4957506459912948,0.6162709992777256],[0.6471691394607219,0.6108641796319639,0.5662777524507547,0.5284840891215978,0.5097569720308764,0.736058698938517,0.7192177767226131,0.7654604691883607,0.6213910860737307,0.647981076576706,0.6611023366604403,0.6207155258801805,0.6306890008343611,0.6675562242689762,0.6965633724260769,0.6576416849154844,0.6675280537361039,0.8151567396855367,0.8046292718433466,0.7876569039007748,0.8443885539687244,0.7770941146444188,0.7667711598535187,0.8466777665497063,0.7848306485550999,0.7840689331622541,0.87200432024153,0.7714221799777823,0.7976191317920734,0.7360003451492501,0.7894163200321695,0.7447901989712014,0.7725032866544975,0.8163537640352797,1.0,0.7480924903485686,0.8382564915952534,0.7342929828714472,0.848612663045743,0.874331974865481,0.802712871863761,0.7995394191849143,0.7674474607958691,0.7565113262219976,0.7937950688538098,0.7957246363401514,0.7762470245559362,0.7688615879017001,0.78931219091873,0.7908769451032619,0.7668882442731209,0.7617359274839961,0.7958382496447032,0.7615333478817363,0.7936458011765399,0.7451931407171601,0.49339556445660504,0.5112560813155143,0.7233233349121592,0.7096819848367147,0.676585312017498,0.7413038922218732,0.5444051283067274,0.540398907459432,0.5668166292503894,0.7211277112658532,0.7240502708016586,0.7406188164271504,0.6983942186109855,0.6995020604725707,0.5583928775991764,0.6238775902384208,0.5915129568722339,0.5948216624332755,0.5368105902523259,0.6309074926959896,0.4522012285439434,0.5247162601423405,0.5107330638133897,0.5442584162493214,0.4302624735295357,0.4366019874900482],[0.6711588239569739,0.6048567672187102,0.5972011369291608,0.5811501053165632,0.5908545625418126,0.7808441831531356,0.7342996610593244,0.781382222587869,0.6467500080894826,0.6649117371522076,0.6872198814296928,0.6137109319710958,0.5759004037964117,0.726217198929219,0.757175324739408,0.7416202119685433,0.7074721584698068,0.8635423599138556,0.8448350305501608,0.8293160653894889,0.827960515931993,0.8342591776110573,0.8423216916429562,0.8053324803150133,0.8521402847337045,0.8339387618648844,0.8288397541872151,0.8411549232988099,0.8312345740702134,0.7882990706481222,0.8095898610789019,0.8352087796580581,0.8168253499902484,0.8153020528263762,0.7480924903485686,0.9999999999999998,0.7587483705577414,0.8130788025958613,0.7977412998100859,0.7621520214570728,0.7832521343494017,0.774657253516227,0.793554307962701,0.8100471775829748,0.8039180791883351,0.8283775350670377,0.8197782876655415,0.8305338266809532,0.7899379499907077,0.7837885642032233,0.7909771954902373,0.7712956435676137,0.8134811510075608,0.8061696299359149,0.8259812840600569,0.7707101668286414,0.5322929535755397,0.4836951270808785,0.7520864109437222,0.7443476395141051,0.707281635228774,0.7909328847707324,0.6276533355588791,0.61846731186747,0.5788811822131695,0.7682932885685991,0.767520562223487,0.7869937032266907,0.7694709499677488,0.767101624263774,0.5989139141003518,0.6546390166321643,0.6409131637405506,0.5721184862511879,0.652526664387985,0.6605042324272659,0.4515753929470516,0.5862676833676997,0.5672775223224744,0.6151423211155543,0.5082663807843187,0.5532034229053674],[0.651108432817299,0.6499092768308863,0.6200384664341942,0.5920926427677613,0.6082734601073108,0.7695747020916475,0.7267666597229655,0.7916363887619595,0.6791793512089948,0.7008540398204115,0.6664922863936487,0.6252485046207121,0.6309639381170556,0.7002542181751099,0.6928665364122537,0.6867470719033248,0.7148292920503956,0.8652976674332318,0.8249871596144482,0.8243755657538883,0.892661283274794,0.8432287199317616,0.8284906655699777,0.8162549004362383,0.8307518730451858,0.8191663960881148,0.8137963885236525,0.8117528656224633,0.8248926037516183,0.80116761718934,0.8608454298257235,0.8036044993051914,0.8150012508575449,0.8743007127274494,0.8382564915952534,0.7587483705577414,1.0000000000000002,0.7455344659764787,0.9487380630231064,0.9287106329815982,0.7660984337358887,0.8299693164876097,0.7954318337147442,0.8213047352209983,0.8550421259405989,0.8084936963246854,0.7889126390723431,0.8053114032968623,0.8110661999446552,0.8133696753836414,0.7736395589885008,0.7853619850117186,0.8165993434706225,0.7670741392998996,0.7879103567449794,0.8034840840876034,0.5708958371968665,0.5281224000393818,0.732354769743965,0.726672747904918,0.7260104765870813,0.7810708003729261,0.6307080176354761,0.6257438723341937,0.6064627487554435,0.7806365811806257,0.8155996187736935,0.78221352618817,0.7932357296432865,0.8057727345586768,0.6534131570209705,0.6654383609855135,0.6918864872243857,0.6446259438769784,0.6333972070636877,0.6618605037309251,0.49100870057008383,0.5627061972276103,0.5184439419729687,0.5979396870623105,0.489095850959023,0.5410356492227695],[0.5920140988956062,0.5712060013550396,0.5668159482956433,0.5267282900566779,0.5626251359594648,0.7288659873339206,0.6927335716462576,0.744894985030853,0.6177034091424085,0.6949978984346085,0.6664803167706584,0.5863040576898958,0.6100147863062881,0.7410212578811572,0.7488266145437164,0.7272750003091264,0.7077024704813549,0.8467297213755093,0.8451216999047265,0.8007018869026361,0.8169528713082539,0.8204658705305998,0.8671079729548526,0.8337111149802736,0.8096001750805293,0.8288464638322373,0.8177505506139329,0.8258695693010301,0.8025951895215826,0.7429348713176716,0.7894550569897285,0.8077194442849829,0.8001607700971891,0.8209137520349766,0.7342929828714472,0.8130788025958613,0.7455344659764787,1.0000000000000007,0.804884795884827,0.7614541879940115,0.7867377138057859,0.7406047914553213,0.7716674052777759,0.7830868557391111,0.7559850849561465,0.813844799612559,0.7489898811121263,0.7895741803736135,0.7902358577975968,0.779300292738,0.794865782765638,0.7360441527140088,0.7981268811602549,0.7712629519176175,0.7981372120410741,0.7708131970410567,0.4775772804094765,0.4674938761605476,0.7111071221527892,0.6378374839480312,0.6278750677055619,0.6944563972549803,0.6301822579753507,0.6162083804550298,0.6201798654351709,0.7336057038991769,0.7179236931629006,0.7638875689377942,0.7556667990329033,0.7393480845118214,0.6180913581903056,0.6299058059107815,0.6055206568351547,0.6039794057823553,0.5381170373864809,0.6410469193905798,0.5161027490762695,0.5768982068111038,0.5879504215025952,0.5914285081503871,0.4730926261436879,0.5601250700790129],[0.642605660068542,0.6423069411082961,0.5960919278023254,0.5639486211530254,0.5773202308996477,0.7764941068109863,0.7550421369943614,0.8246418734685049,0.6978127369116398,0.7241780288169873,0.6558314753780078,0.6514531340253897,0.653951256146777,0.7396705528097554,0.7358297098024058,0.7511302904493984,0.7504572201214916,0.8778256591062708,0.8967309992985045,0.8565462906239241,0.9158960963488223,0.8359086288709768,0.8536144451497998,0.8864786909290836,0.8282820671477187,0.8763043862618611,0.8689448347707944,0.8549042331558256,0.8590992334069794,0.8307283407508916,0.8800112791504437,0.8488994866106137,0.8591918209676916,0.897478123613155,0.848612663045743,0.7977412998100859,0.9487380630231064,0.804884795884827,1.0,0.9415378129698727,0.8139366239855071,0.8223106213924447,0.8454874503426208,0.8094404443902878,0.8206576526183954,0.83743350928703,0.8271663852776192,0.819769780745645,0.8351820898490402,0.8277443329988411,0.8443772008587687,0.7829302465368565,0.860226600644185,0.794449099982244,0.841271227501116,0.8008166873440008,0.558568278551856,0.5018293183108928,0.7500296012924013,0.6866124503475508,0.7085931608668891,0.7362863389486802,0.6429235863505176,0.6387329412037024,0.6271018650731055,0.789379242817385,0.8116130195724378,0.8027423354991402,0.7800173263258419,0.8182215602138418,0.6466214513227172,0.6891527226057232,0.6906094821992824,0.6314001115851782,0.6182088615184543,0.6701888008531708,0.49694713695933423,0.593588599123498,0.5637874600683275,0.6183017271538642,0.49201547970992343,0.5680535147083924],[0.6516875571344225,0.6635543745060262,0.5764111105166184,0.5528730257730188,0.5617338013538705,0.7641643100085546,0.7395043168391043,0.8061511018755178,0.6732045084164273,0.6883865642820376,0.6587303797650936,0.6196946064044819,0.6175626567847282,0.7047373063577155,0.71550809421114,0.7112266894018765,0.7224790331418334,0.857444521320343,0.8575512301166222,0.8530891646686412,0.8944108493432597,0.8218901143851232,0.81812812198356,0.8722203192910717,0.8180131462198426,0.833135883635723,0.8533915492771844,0.8183236769633928,0.8429050240928107,0.8100066828104234,0.8582242554403765,0.8201805696099056,0.8243155693345303,0.8681196146665169,0.874331974865481,0.7621520214570728,0.9287106329815982,0.7614541879940115,0.9415378129698727,1.0000000000000004,0.8099492169545781,0.8262091835365979,0.8209571614857032,0.7943553473719853,0.8292846971442589,0.828589547244873,0.8041185568509961,0.8022279420200311,0.8288122337813011,0.8046945274703996,0.8084117434638485,0.7840065135213845,0.8450091452424666,0.7914675237954505,0.8326904028334551,0.7881544054151919,0.5611660466309158,0.49604646766569366,0.7571137881992661,0.6988132606794701,0.7175625516898025,0.7474416865607697,0.5921241158068573,0.5894528422218506,0.5898979336738059,0.7650725215182077,0.7843349477055909,0.792310612123252,0.7497454033683466,0.7865423878289106,0.6186339169734959,0.6635276376197556,0.6905720194782771,0.6254289150982602,0.6143577417270311,0.6648017046287753,0.47606972582874607,0.5605741690724446,0.5516837366104791,0.6015862007634907,0.4846865608298035,0.5359210028924783],[0.6338623340542603,0.5651271654030682,0.5711803844410677,0.5691062814733883,0.5573318510220184,0.7380918396448106,0.7195165689539484,0.7632193509248069,0.6456554391485956,0.7502698517559896,0.6669151730163613,0.5970031704941235,0.6249491905963761,0.7571533797570104,0.7380111735738608,0.7483157105299836,0.7073691251475414,0.8533300323308749,0.8405617755017977,0.8313126874317316,0.8233479329583333,0.8031387075589739,0.828700603161854,0.8327689371591984,0.8345400627260848,0.8336037954757682,0.8616362763447524,0.8254550530473141,0.8586790238253612,0.799321475363498,0.8234711653467708,0.8569519105275577,0.8365395261068324,0.8222487829609555,0.802712871863761,0.7832521343494017,0.7660984337358887,0.7867377138057859,0.8139366239855071,0.8099492169545781,1.0000000000000004,0.7862872061781769,0.7547942405952343,0.7859407384892573,0.7935424756723163,0.8167142821488342,0.7850788726198159,0.7759964210955314,0.8185297820823758,0.7937558566274966,0.7902613316134821,0.8039660815338524,0.7792849431368689,0.8149624176052803,0.819446054230365,0.8083344837432334,0.5045479302525264,0.49728590388530697,0.7236651235004761,0.6965362423012488,0.691871343117282,0.7592834970006301,0.6400316400066504,0.5805122803503037,0.6179536301080417,0.7843588654960516,0.7748360403383863,0.7970222882085618,0.7937628729205537,0.7722000698211124,0.6154561748441438,0.6677928893003323,0.6313005980735388,0.6445323960378948,0.6124727731080152,0.7336879883676353,0.5096879464875155,0.6373333634595623,0.6688707339268865,0.6320442199236271,0.5084528694518266,0.5611309513302942],[0.762862904680075,0.6839123030764035,0.6442821618308776,0.6252206373779797,0.6051814293755731,0.8441758480489812,0.797598945190227,0.8346071150881971,0.6472071405284407,0.6969024046287574,0.6504957108016096,0.642916412969825,0.645789313855942,0.7689922553355673,0.7124249275075845,0.7145090150494099,0.6860540346291394,0.8763081269117361,0.8161706787399314,0.8440038666690515,0.8558783759397612,0.8541323379145801,0.8610054873370407,0.8229184537155774,0.8641428653585301,0.8358221771713126,0.832452537490751,0.8557488144595684,0.8390573682235629,0.7705951017126307,0.8409961817763265,0.8177341563152728,0.8432887022298496,0.8650707967272822,0.7995394191849143,0.774657253516227,0.8299693164876097,0.7406047914553213,0.8223106213924447,0.8262091835365979,0.7862872061781769,1.0000000000000004,0.8321448450534623,0.8798307097533302,0.8937579801034857,0.831876599140499,0.7725130045173463,0.7859549572141636,0.836431529154902,0.8278031699947921,0.7819848893087863,0.8349721956551192,0.8664262973952899,0.8016684007029837,0.811965548148241,0.8234166641261624,0.5936114060608813,0.5335961499337568,0.713987823608804,0.7551641951373259,0.7866421490310924,0.7939764956036055,0.6033141922327123,0.645031532055117,0.6185743937624351,0.8074429432289479,0.7559367860204106,0.7643360281857854,0.8003544399787773,0.7617906695342443,0.6542338693540731,0.6696815900333221,0.6795240049160114,0.6163689610851701,0.6267483337187364,0.7086516062965296,0.49342421975486916,0.576696956451235,0.5450165371213574,0.663482127379293,0.4687571155950219,0.5542205855306498],[0.6757007769975627,0.6764498121814669,0.6188046764652655,0.6157256673693041,0.6052011363482405,0.7919683175251222,0.7787860865224978,0.852937243594478,0.7197738083621023,0.6750185011609524,0.6766089002011049,0.6448896402409476,0.6249241931285507,0.7141184663200619,0.7221130341385926,0.7383887937917418,0.7382574282659515,0.8779696891427371,0.8753773043473654,0.8543175942277259,0.8753385473405787,0.8629500899615241,0.8551065520396095,0.8913167732614017,0.8468541781969692,0.8897217838331659,0.8824001808056645,0.8792373383639576,0.8484704109887542,0.8287817923466185,0.9177064837237792,0.8352129638939326,0.8567676435964029,0.8504947931585864,0.7674474607958691,0.793554307962701,0.7954318337147442,0.7716674052777759,0.8454874503426208,0.8209571614857032,0.7547942405952343,0.8321448450534623,1.0,0.8579832537607688,0.8230173317649021,0.8631529816246251,0.8420346298142833,0.8207232486220746,0.8732639950905059,0.7988353583524814,0.857507024868482,0.7969180259842017,0.943158504868834,0.8106642321039451,0.8588603880633139,0.8005044046744334,0.5727610001259973,0.5298671512452655,0.7935575015602356,0.7393316962172256,0.7680155720167781,0.7907473846004001,0.6553288148502789,0.6002436355292626,0.6065158858192446,0.7933480189321145,0.7735392385081962,0.7719497036932065,0.7297940787715602,0.7818586697616974,0.6545573682718488,0.6915657814085201,0.6749253926763104,0.6290272969670089,0.6142505540457668,0.6198486222757308,0.47117472102758146,0.6060198101871,0.5667628849566458,0.6059987888877965,0.5083856873748446,0.5108907474537934],[0.7670324572517135,0.6844931803371934,0.6656589763059486,0.6499391686836393,0.6185851344093595,0.8663589666901508,0.817100501602058,0.8522778087919782,0.7223945186554057,0.7127898078099157,0.7071347644217562,0.6556643474640211,0.6379871316021943,0.7688462897438886,0.708849255456611,0.6924591240479421,0.7143913772358264,0.9227899068432577,0.8450639529574482,0.8676366922907461,0.8782489484434595,0.927702912766405,0.9074705870437068,0.8250045196650315,0.9283756261355596,0.8870060203703292,0.8605309544294153,0.9311702446507226,0.869101031297977,0.8211936019226148,0.8746077979977276,0.8522159387334682,0.8559398954554838,0.8773187449641162,0.7565113262219976,0.8100471775829748,0.8213047352209983,0.7830868557391111,0.8094404443902878,0.7943553473719853,0.7859407384892573,0.8798307097533302,0.8579832537607688,0.9999999999999998,0.8897055063181565,0.8638725525258864,0.8637974739881684,0.8498296900562905,0.8657864370455385,0.8579074770033613,0.7923200869945439,0.8418997419196117,0.8806120420510164,0.8414927737754662,0.8657056117914299,0.8809499815045281,0.6172209643425879,0.551937379938097,0.7687655173362853,0.8010775974307917,0.8237835694315137,0.8355274566722193,0.6695746351845925,0.638913234021925,0.6544922246890463,0.861209012002912,0.8045420289164825,0.7798715875182195,0.8401868551080607,0.8135183680078957,0.6967436131054996,0.6754723297856055,0.735757634235598,0.629325709332403,0.6464888322189573,0.665477374703309,0.5050490029605348,0.6523414156239474,0.5452476726082993,0.7062598887909051,0.5200913541069058,0.5773193539918717],[0.7466352941138893,0.693216553606142,0.6628088768799655,0.6585307316021505,0.638137716733323,0.843650305109118,0.80291330859711,0.8439114088687243,0.7261929320893139,0.7123521749318147,0.769992206079023,0.6503544950496695,0.6498639822898818,0.7478642546399747,0.7401504867380866,0.6791310711977239,0.7293866735771344,0.924434429227317,0.8306289490982146,0.8656869881415838,0.8396184485942934,0.9071468776014266,0.8701407998322415,0.8232198298887587,0.9119929997738782,0.8209810003910394,0.8354041739112643,0.8653435915751103,0.8441031179371539,0.8321921894989737,0.8559672714694699,0.8291582187486214,0.8219624504939393,0.8648280437872167,0.7937950688538098,0.8039180791883351,0.8550421259405989,0.7559850849561465,0.8206576526183954,0.8292846971442589,0.7935424756723163,0.8937579801034857,0.8230173317649021,0.8897055063181565,0.9999999999999996,0.8608454522610646,0.8197083298107651,0.8413462019268059,0.8333489585851723,0.8498078145089112,0.8066703840450269,0.846474346547319,0.8452154290534635,0.8389908116029008,0.8278337212012137,0.8483745795110782,0.5552089153896137,0.525663272220565,0.7845534031000166,0.8109441692653034,0.8306602007037198,0.858040945714232,0.6177359064340988,0.6172035377079419,0.611823260683434,0.8238853797601599,0.8044602411144094,0.8269884165696526,0.8097218334515687,0.7782017806235562,0.6436385040146857,0.6400859762365325,0.6864830038777749,0.6430889268058948,0.6296295008440473,0.6915076982637585,0.48355133885416746,0.5621187627543475,0.5439385762145373,0.6973123519710213,0.5019600998828491,0.5392837918928443],[0.7016967135385987,0.6417452864611473,0.6762982117395193,0.6233024790110484,0.6467536198030618,0.7812432472324604,0.7756519994090788,0.8289308613822919,0.7701387893059891,0.7502565527690934,0.7499596344387469,0.6550721808766292,0.6573435733652917,0.7606219552541175,0.7582616670177857,0.7358576589638528,0.7688678105282674,0.9360404662867883,0.9112011264817903,0.8550426300102458,0.8799703977979321,0.9324721395983363,0.8792966078034551,0.8774762215192147,0.9299749443949408,0.9049526254867271,0.8865911736702841,0.911759903245916,0.9259377876411885,0.8485674220592045,0.8972545451942144,0.8641542541525856,0.8296353202581425,0.8557981244052608,0.7957246363401514,0.8283775350670377,0.8084936963246854,0.813844799612559,0.83743350928703,0.828589547244873,0.8167142821488342,0.831876599140499,0.8631529816246251,0.8638725525258864,0.8608454522610646,0.9999999999999993,0.8363056294185167,0.891297352231358,0.9002754172767078,0.8473526446953072,0.872357215483129,0.8958354214481358,0.8407480252812989,0.9517486245461624,0.9081427917598827,0.8987112985439638,0.5394515892939782,0.5168764951021247,0.8713783018168384,0.775696660297073,0.7649851860697194,0.8297278560446745,0.6667156945638077,0.6331581877700257,0.6560617825857037,0.7724529839982868,0.8195138016365402,0.7979767797225626,0.7839495554378778,0.8109949224162833,0.6438842937434215,0.6803493454439696,0.6736707356258741,0.6108682807753862,0.6186228739549227,0.6693272315102974,0.510462975753959,0.6254814137990268,0.5652151861132562,0.6022519265547502,0.5284575516488023,0.526655107723554],[0.7337351093247605,0.6823896434345638,0.5990184097943076,0.5780748126423186,0.6183712789923924,0.8599269668916527,0.8338155487515377,0.8716743180197715,0.7180461351075884,0.6949688493029,0.7144921857003939,0.6170858055886438,0.5950033881481511,0.7108973336434746,0.6894385271113016,0.6951576230162381,0.7064550538693604,0.8625051182197413,0.8561830757036624,0.8172441679775031,0.8572583504227282,0.8529787749790858,0.8084751172715803,0.8334995437268458,0.851205914750384,0.8563673851406157,0.8628257154692589,0.8399304721033197,0.8617766303294432,0.813652331918786,0.8544021210717718,0.8182834130507349,0.8448844651219382,0.8299529119941847,0.7762470245559362,0.8197782876655415,0.7889126390723431,0.7489898811121263,0.8271663852776192,0.8041185568509961,0.7850788726198159,0.7725130045173463,0.8420346298142833,0.8637974739881684,0.8197083298107651,0.8363056294185167,0.9999999999999998,0.8551792157326109,0.8356764901422239,0.8123644568677358,0.8092818394559389,0.8084910928545159,0.866043222429741,0.8296469960414545,0.8988468604883961,0.804390432791205,0.5188505331972074,0.47347950434660385,0.7570354895321569,0.7712794156095932,0.78592048485335,0.7837884957211108,0.6117452927197812,0.578634984436069,0.6190178585095036,0.8239491007162714,0.8177803813095157,0.7818436204038907,0.7845687276214903,0.7863601942532145,0.6622612459101187,0.628780489107359,0.693690001025593,0.5478777457763357,0.601744347346732,0.6034850579392573,0.46061204033256115,0.5912264704934994,0.5697412819553012,0.6446459236128941,0.471203923601357,0.5727950598997079],[0.7484663332659487,0.6817022040504026,0.6790606526831862,0.6484380960731715,0.6876137446976192,0.7995471086198336,0.7927973877431238,0.8557947817637166,0.7325845915041788,0.7806712108731082,0.7887990636396626,0.6190681560919788,0.6276500015688178,0.7143232691727296,0.7229839182396469,0.7086544454935271,0.7401608137703211,0.8881879897025837,0.8457088985088057,0.8274544759530236,0.8557065600570133,0.8845352252322245,0.8199624725028997,0.8239880325638573,0.8837919362410006,0.8632292575682605,0.8587277586264221,0.8812262173381114,0.8831057654466182,0.8545525421209939,0.8568862602181824,0.8339088427293182,0.8170039725672722,0.85007892804978,0.7688615879017001,0.8305338266809532,0.8053114032968623,0.7895741803736135,0.819769780745645,0.8022279420200311,0.7759964210955314,0.7859549572141636,0.8207232486220746,0.8498296900562905,0.8413462019268059,0.891297352231358,0.8551792157326109,1.0000000000000004,0.8472075196374166,0.8280857074230212,0.8017416162062975,0.841982915223976,0.8301268784700995,0.8554496790931357,0.8813564877613127,0.8363967719627561,0.511758280286573,0.5153098258790025,0.875046915526486,0.8346793023258062,0.8133158414078783,0.8332907418221009,0.6154896408893837,0.6201631451052705,0.6271365561048114,0.7961219627272869,0.8470780869453038,0.8317254344949843,0.7874827273437615,0.8278109961735765,0.6480269292878313,0.6612337902883407,0.6924515723432992,0.6213044341306938,0.6793249411513761,0.6873189325089379,0.5001301939707193,0.6042359936302615,0.5720715524731181,0.6323131983205206,0.533557108099786,0.555222958936649],[0.6753660972904565,0.6339812286133266,0.6493031643156072,0.6105226234030158,0.6522774677839843,0.7790293284820593,0.7791035066340577,0.8287338658319581,0.7570899930372743,0.7153127461840685,0.6936394395493873,0.6192818101409304,0.657696269076796,0.7707447905953939,0.7406707645073747,0.7341611500707318,0.7514821892393818,0.9100696211835111,0.8938113986998808,0.8418284934922786,0.8867501902963137,0.8887152528439639,0.8641720760133114,0.9046087301234295,0.8882170434028036,0.9345908983667985,0.871639910501352,0.8997661096230265,0.8967671737633485,0.8394037632302968,0.900902196561927,0.8467222654628326,0.8455235122364431,0.862197019660659,0.78931219091873,0.7899379499907077,0.8110661999446552,0.7902358577975968,0.8351820898490402,0.8288122337813011,0.8185297820823758,0.836431529154902,0.8732639950905059,0.8657864370455385,0.8333489585851723,0.9002754172767078,0.8356764901422239,0.8472075196374166,1.0,0.8532783129620107,0.8711508982957623,0.9220248110355773,0.8592929931646579,0.8851046848574844,0.8776384193580336,0.8724492531719852,0.5698799643527219,0.5199182793949467,0.8080579539215946,0.7330400033138447,0.7595984256332066,0.8068633368450833,0.6874858636983897,0.6010452838417579,0.6839564459227554,0.8099344740891639,0.7999566399201025,0.7880565035347299,0.7886220442201812,0.8312109272752799,0.7006281369447087,0.6836253187047888,0.6976871077069497,0.6239680686374335,0.6036909987974503,0.703263977739033,0.5405548724221867,0.6492019810993903,0.5867199076545954,0.6359956133045065,0.5048408150088218,0.5407827160013334],[0.7061771922379894,0.6098389888267349,0.6567352856134971,0.6530142415173418,0.6443699287577351,0.8027406298836208,0.7746719744870025,0.8119979223743856,0.6965764547976112,0.7116081305235678,0.7174872726964053,0.7068650081123825,0.7721050369624191,0.7598054522482292,0.7283217658723962,0.6796106699445402,0.7216030160808167,0.9011370690590839,0.852073736512587,0.8475302191349185,0.868232765121709,0.8776263856307182,0.8705283198175742,0.8581437397974825,0.8728994226358626,0.8615745332849386,0.8584701576121962,0.8605425386005264,0.8642230818832095,0.8081696947099146,0.8527645688747745,0.8400091400778997,0.8494901327178521,0.8668812119196452,0.7908769451032619,0.7837885642032233,0.8133696753836414,0.779300292738,0.8277443329988411,0.8046945274703996,0.7937558566274966,0.8278031699947921,0.7988353583524814,0.8579074770033613,0.8498078145089112,0.8473526446953072,0.8123644568677358,0.8280857074230212,0.8532783129620107,1.0000000000000002,0.8172382703411247,0.8487284396559109,0.8166612472723921,0.8392674341592092,0.8403151060811063,0.856000686050432,0.5150719565858154,0.507104421709942,0.7649218958240659,0.7567571764019629,0.76385438057826,0.8147214709417456,0.6141966286113999,0.635270009962881,0.6363858373724558,0.8131372504703537,0.8051260971105334,0.7939234270227511,0.7906918686487598,0.8258348111533602,0.66175828919607,0.6632321440036852,0.6696140470376574,0.6233848207087699,0.604976019496768,0.6531224575026103,0.49712250597568064,0.5915188518605154,0.531076639129884,0.6277552906655879,0.47792125113955164,0.5365090622178362],[0.6302549348824968,0.6014900534441509,0.6167557298669768,0.5763765404758748,0.6103962618396134,0.7718501866864657,0.7556408811442598,0.8098377183050205,0.7612477921040535,0.707404225169709,0.6604358212558328,0.6431251512764369,0.6583958722175407,0.7418021561214081,0.7700415668384758,0.734241776214629,0.7734201997179698,0.8824163891880501,0.9240819191713798,0.856240388943198,0.877672026104305,0.8387773075165215,0.8757903274897088,0.9144469126438426,0.8221346308883606,0.8992998266620968,0.854470819577563,0.8516408813417589,0.8394970422131209,0.8137040095204707,0.8580702142693635,0.8301914740744664,0.8363566966184143,0.8645743565550168,0.7668882442731209,0.7909771954902373,0.7736395589885008,0.794865782765638,0.8443772008587687,0.8084117434638485,0.7902613316134821,0.7819848893087863,0.857507024868482,0.7923200869945439,0.8066703840450269,0.872357215483129,0.8092818394559389,0.8017416162062975,0.8711508982957623,0.8172382703411247,1.0000000000000004,0.7769618058631999,0.8514582139489502,0.835293171617917,0.8551722273762523,0.7927459989806995,0.5100915537224959,0.4963389356092635,0.7791484729244534,0.6841502993697921,0.7159372793898218,0.7228982244919805,0.6637881676642954,0.5980509313990112,0.6306875530662569,0.7850971809818883,0.7768420585644722,0.7731410047322227,0.716813732656763,0.7552896865066978,0.6280638792065649,0.6648039253081817,0.624364941894848,0.5990485757885338,0.5517810921993207,0.641409904579385,0.48749795238140303,0.5518700313266768,0.5201127721798418,0.6026567895081236,0.5044492191140669,0.5136360077634675],[0.7035367697183507,0.6343727594801086,0.663221309865913,0.6359596016130935,0.6445534233822451,0.7816909348316711,0.7684432702096173,0.8017825058814356,0.7111833510151435,0.7148387645486226,0.7019811796070463,0.6190019172100163,0.660555188684784,0.7722858646560322,0.7210717220021439,0.7043406626245899,0.7123477297471007,0.8885565908753685,0.8255225525175227,0.8022223224681725,0.8294296251307336,0.8837889426151188,0.8302070638227736,0.8415495963228288,0.8924109299015432,0.873865825251846,0.8397134497029041,0.8670893267936809,0.9067433169626722,0.8070437898084726,0.8632978775088489,0.8149347823657122,0.8340505930995477,0.843890075130936,0.7617359274839961,0.7712956435676137,0.7853619850117186,0.7360441527140088,0.7829302465368565,0.7840065135213845,0.8039660815338524,0.8349721956551192,0.7969180259842017,0.8418997419196117,0.846474346547319,0.8958354214481358,0.8084910928545159,0.841982915223976,0.9220248110355773,0.8487284396559109,0.7769618058631999,0.9999999999999996,0.8141975305451867,0.8973148327370231,0.8512361796568682,0.8813414794546193,0.5334267488700257,0.4858639054449565,0.8094250373846805,0.7586381728634398,0.7666877274519824,0.8470033715336783,0.6081745432336456,0.6013185271532211,0.6490212780855025,0.7754900149667275,0.7979129496224446,0.7716585329311981,0.7801888565056936,0.8123081463463739,0.6527311673691776,0.6553035425212065,0.6947585769674247,0.5869758845140953,0.631574298530784,0.6756212714271244,0.5233302343180661,0.6119422183470048,0.5842179800150988,0.6526904188510018,0.47361972943087627,0.5540852919568563],[0.7497979176902256,0.7575528885178135,0.6132595138290138,0.6206849902522421,0.5762033836693687,0.8942374432263349,0.8489998734016921,0.8978855215636204,0.6813669130796803,0.6910911382706237,0.6632314442371243,0.6517094656881102,0.6333280309477555,0.7476383770743111,0.7184209251834806,0.7404463015381235,0.7231978189814422,0.8718845121379356,0.8700100880958797,0.8599309222974927,0.8918190974827777,0.8517344736385368,0.8701657237323126,0.8937936136260091,0.8379816605101367,0.8824049079920321,0.8880326046417569,0.8693006685703326,0.8603317007776126,0.8098969440723877,0.8864423060505451,0.8355278001111145,0.8752041493618625,0.8869593605653643,0.7958382496447032,0.8134811510075608,0.8165993434706225,0.7981268811602549,0.860226600644185,0.8450091452424666,0.7792849431368689,0.8664262973952899,0.943158504868834,0.8806120420510164,0.8452154290534635,0.8407480252812989,0.866043222429741,0.8301268784700995,0.8592929931646579,0.8166612472723921,0.8514582139489502,0.8141975305451867,1.0000000000000004,0.790550718879188,0.898218590443786,0.7935549097609429,0.5554609007133715,0.4947453987581468,0.768645833482814,0.7667469827544706,0.8051626373730506,0.7938301165387118,0.6363487631818933,0.6223956484803543,0.6386984677290372,0.8273572924267083,0.7716025147378216,0.7734707586530887,0.7439342133500921,0.7791523303926595,0.6577226273821242,0.6644282996293243,0.6863400182677105,0.6203986237142799,0.631973197805149,0.634612749380955,0.4948105390884343,0.6077425907582664,0.5782503549088915,0.6345207704656883,0.4895293924925659,0.5350708128389953],[0.6916302286707854,0.6242663523657332,0.6285815100435059,0.5902498887164589,0.6245592956842089,0.7473317985151424,0.7497389044056887,0.800006696166123,0.7257857750901371,0.7303896064183231,0.7584087763882978,0.6130905010726209,0.6621639716273713,0.7188255520262092,0.7210013039319061,0.697848353205229,0.722825653350298,0.8980944161099347,0.8540324457878992,0.8366284439968343,0.8291679048246168,0.9051149364005442,0.8289197491350742,0.8389648070818292,0.9156048721344233,0.8660788881237017,0.8569017732185101,0.8667904191496236,0.9035544048558932,0.8220921748078506,0.8682071446970829,0.8479616583433034,0.8020402795972018,0.8054333087786372,0.7615333478817363,0.8061696299359149,0.7670741392998996,0.7712629519176175,0.794449099982244,0.7914675237954505,0.8149624176052803,0.8016684007029837,0.8106642321039451,0.8414927737754662,0.8389908116029008,0.9517486245461624,0.8296469960414545,0.8554496790931357,0.8851046848574844,0.8392674341592092,0.835293171617917,0.8973148327370231,0.790550718879188,0.9999999999999999,0.8809677966824598,0.8910403943018776,0.542693138471811,0.5149164553998543,0.8281527610611317,0.7726548087356487,0.7415712252472147,0.8122956484702375,0.6237834661526532,0.6221691364870848,0.6189331625513941,0.7583336004229021,0.8211258144075985,0.7958007248778264,0.7821110023068965,0.8043730961722038,0.6198933995273705,0.6579784572171583,0.672917788364506,0.5852848110812421,0.6137123024105384,0.6500830094188039,0.5048276870948896,0.6176009408869562,0.5672752256516718,0.5811005363945886,0.5082192890689229,0.5066933548049458],[0.7369382620880968,0.7376664588306754,0.6126800461289108,0.577821109351486,0.5882435562066581,0.8651274788359538,0.8327468411620509,0.8787215317886459,0.7150097816562909,0.731463995428334,0.7471852855994202,0.6550372304542296,0.6401587041291956,0.7307296537992859,0.7221308775391049,0.7134794908225932,0.7521283843980041,0.8897135306235285,0.8867376891461864,0.842648145399149,0.8777474013609183,0.8885572830544533,0.8511527226194376,0.883918064823815,0.886226111517401,0.9004509332151538,0.9155413551251481,0.874853550368498,0.9041021899164319,0.8195928890510242,0.8775103387475192,0.8538097215671983,0.8540029660146174,0.8567081634797816,0.7936458011765399,0.8259812840600569,0.7879103567449794,0.7981372120410741,0.841271227501116,0.8326904028334551,0.819446054230365,0.811965548148241,0.8588603880633139,0.8657056117914299,0.8278337212012137,0.9081427917598827,0.8988468604883961,0.8813564877613127,0.8776384193580336,0.8403151060811063,0.8551722273762523,0.8512361796568682,0.898218590443786,0.8809677966824598,0.9999999999999998,0.8578607454258282,0.5401309727557599,0.4974698084661568,0.8186837631555632,0.775200565699566,0.7774382715600653,0.800470782234612,0.6404527622741972,0.6141830511590207,0.6402713082676366,0.8231705518124588,0.8130401530086575,0.7833220930914098,0.7803864709798409,0.819333590576393,0.6447027800256951,0.6536159982811498,0.7016674655992337,0.5964219199125389,0.63455279771618,0.6572567694674133,0.4947143616482373,0.6362442487532292,0.5960291098875945,0.6196467175639196,0.5067145362083015,0.52179252835369],[0.6791960131561523,0.6074935948478574,0.6928191484397823,0.6604316353429378,0.6803812921796611,0.7610693326625105,0.7302478300481918,0.7850548950298333,0.7166936031254927,0.76243399425765,0.746850812774305,0.6483277515249498,0.663292738757437,0.7550659280775944,0.730017353657568,0.7090595749667603,0.7480615013167156,0.9186515979720409,0.8519223610215387,0.8418518465306974,0.852122050834248,0.9375937520832494,0.8815687784734383,0.834029135981134,0.9141509970252109,0.881517933782149,0.8559974305907775,0.8820541616731712,0.8935082880643281,0.8481262060791022,0.8970899691129919,0.8562417495075861,0.8323075608253088,0.8367979519889166,0.7451931407171601,0.7707101668286414,0.8034840840876034,0.7708131970410567,0.8008166873440008,0.7881544054151919,0.8083344837432334,0.8234166641261624,0.8005044046744334,0.8809499815045281,0.8483745795110782,0.8987112985439638,0.804390432791205,0.8363967719627561,0.8724492531719852,0.856000686050432,0.7927459989806995,0.8813414794546193,0.7935549097609429,0.8910403943018776,0.8578607454258282,1.0,0.5943763895441917,0.5972811668252932,0.7903253231423684,0.7686894249588841,0.7615473304735951,0.826976484663158,0.6900052802307814,0.6536672868719301,0.6679848389167299,0.8322712664272462,0.8175996046757846,0.7882201379936737,0.8396680772875786,0.8304521975556876,0.7253524471836813,0.7193809436193352,0.7612204642635227,0.6101453715490909,0.6644058585458741,0.7163053099381667,0.5195878956396582,0.6235175628325573,0.5733185067058224,0.6387849723452392,0.5551976847113709,0.5244143387000753],[0.4779904380375953,0.4658025568737186,0.42434695350318696,0.42354083780129126,0.39390518990954027,0.5144616438304599,0.4705622557651854,0.5226087363350223,0.4316664356945572,0.40263229529688077,0.481590259946104,0.43205783886260085,0.4432216181183244,0.5211624153447175,0.4273372682500222,0.47525174972667134,0.44819313988482046,0.6016161582397952,0.5593358835434211,0.5669923002950181,0.5812044761959694,0.5923802696146607,0.6055637863006081,0.5563283650797674,0.5800035721238832,0.6195408637252362,0.5788747109149756,0.5994143499239271,0.5778729847720862,0.5279925317388685,0.5939618806844037,0.5532823455921725,0.5730011228244004,0.6131069179394204,0.49339556445660504,0.5322929535755397,0.5708958371968665,0.4775772804094765,0.558568278551856,0.5611660466309158,0.5045479302525264,0.5936114060608813,0.5727610001259973,0.6172209643425879,0.5552089153896137,0.5394515892939782,0.5188505331972074,0.511758280286573,0.5698799643527219,0.5150719565858154,0.5100915537224959,0.5334267488700257,0.5554609007133715,0.542693138471811,0.5401309727557599,0.5943763895441917,1.0,0.5834398877186052,0.5041036284137315,0.5513690845289253,0.48864209822289073,0.5621480361095678,0.5111637723850526,0.40014424580740804,0.3703803952499581,0.6482856851169612,0.4839825249118083,0.5562390954715704,0.5822921370831917,0.5244595633502679,0.6008258009248811,0.5940745852334154,0.6368249064461942,0.405299589143461,0.4761702324639993,0.45149044524819015,0.28867827053059636,0.4679865496002395,0.4001685322247089,0.48182327772041766,0.4597646828218651,0.4757498170479939],[0.38105909164620433,0.40356068007026075,0.48163196419246834,0.37992643802199283,0.3852784397213252,0.4399460928437029,0.4045744247085964,0.46485008777437953,0.43884872629054794,0.4433476222470852,0.4975077461281408,0.4309749377523644,0.3844778446173679,0.47453063471391677,0.4966362399016566,0.4840179201105539,0.5260222356875769,0.5771019737477698,0.5156373275159176,0.5356821231629889,0.5456338783390348,0.5838342861565892,0.5790810208683826,0.5048374732923837,0.5788763675091716,0.560897318795529,0.5921850853913263,0.5348345804082832,0.5387624434055391,0.48304756101786817,0.5806928166031635,0.5328794795120966,0.5578633331116286,0.5310673169533457,0.5112560813155143,0.4836951270808785,0.5281224000393818,0.4674938761605476,0.5018293183108928,0.49604646766569366,0.49728590388530697,0.5335961499337568,0.5298671512452655,0.551937379938097,0.525663272220565,0.5168764951021247,0.47347950434660385,0.5153098258790025,0.5199182793949467,0.507104421709942,0.4963389356092635,0.4858639054449565,0.4947453987581468,0.5149164553998543,0.4974698084661568,0.5972811668252932,0.5834398877186052,1.0000000000000002,0.5402072927987087,0.48076113651438696,0.4049681098024489,0.5043303962286616,0.46724012937347315,0.527557675626804,0.4307177798162418,0.5956734575551844,0.5131677275108988,0.4848042198712287,0.5473313457812174,0.501143102800858,0.6189592588600005,0.7325767519937807,0.6041373265721792,0.46421052216977193,0.5651726396095023,0.5557918883109363,0.2915421923531061,0.44015476457441893,0.3850787088762602,0.45138558283209534,0.45743921210114474,0.42584885136408157],[0.6604901820174836,0.6364325203734897,0.6596954575234371,0.6236929193772965,0.6320739271273115,0.6958390634503653,0.7079682978175756,0.7658931608382725,0.7309628944314323,0.7226790409558643,0.7654679181819015,0.5918140502153919,0.5665342891888603,0.6498463328807494,0.6931550941327018,0.6647469683614453,0.7272001382533165,0.8523969862134364,0.8081202016721833,0.7637597490317605,0.7989297514850796,0.8507042894724548,0.7784493223974509,0.7835781982021817,0.8542788530114755,0.8148932075516709,0.8206732140603459,0.8385638711446567,0.845533011128781,0.8110563833862736,0.8290421308195262,0.7712065527596781,0.7411886806416548,0.7739509519594814,0.7233233349121592,0.7520864109437222,0.732354769743965,0.7111071221527892,0.7500296012924013,0.7571137881992661,0.7236651235004761,0.713987823608804,0.7935575015602356,0.7687655173362853,0.7845534031000166,0.8713783018168384,0.7570354895321569,0.875046915526486,0.8080579539215946,0.7649218958240659,0.7791484729244534,0.8094250373846805,0.768645833482814,0.8281527610611317,0.8186837631555632,0.7903253231423684,0.5041036284137315,0.5402072927987087,1.0000000000000004,0.7647458783155816,0.7481583461650874,0.7898286231921916,0.5873646384579861,0.5285418955008101,0.5271454286106882,0.6996055660212256,0.7497559862923223,0.7495978736180502,0.700076811041739,0.7335009127656089,0.5795173803450554,0.6601262502648285,0.5967385885742043,0.5788572640553445,0.652455618751826,0.6267021947533825,0.4024441148153253,0.554028871373929,0.5273023258876386,0.6049383389274153,0.5656303996772197,0.4895506441948154],[0.8547088953950073,0.7094679015855718,0.6122868753883611,0.6563786021318588,0.6157949182337148,0.799813841880199,0.7968263488611317,0.8284654896841626,0.6224582071922705,0.6676197287494506,0.7492829979745552,0.624192026850001,0.6126875475585464,0.5879933401083908,0.6415211279019298,0.5884708631415818,0.6397124848169613,0.7928952673140327,0.7239806956001554,0.7312253088578646,0.7611987828860876,0.7946245563964013,0.7308123378728808,0.7085980483897903,0.803586525894006,0.7509500796545864,0.7533115097522716,0.7614108990401749,0.785849397892108,0.7229247329580755,0.7675151868458125,0.7158698802865477,0.7114486626903405,0.7571408492364509,0.7096819848367147,0.7443476395141051,0.726672747904918,0.6378374839480312,0.6866124503475508,0.6988132606794701,0.6965362423012488,0.7551641951373259,0.7393316962172256,0.8010775974307917,0.8109441692653034,0.775696660297073,0.7712794156095932,0.8346793023258062,0.7330400033138447,0.7567571764019629,0.6841502993697921,0.7586381728634398,0.7667469827544706,0.7726548087356487,0.775200565699566,0.7686894249588841,0.5513690845289253,0.48076113651438696,0.7647458783155816,0.9999999999999987,0.8193249640920574,0.9005560075845774,0.5349281305571649,0.5212167126148185,0.5240157392035837,0.7363348939423815,0.7111380904112181,0.7899954551973393,0.7244209118473767,0.6978535574658729,0.5484505750779668,0.5963153181147721,0.6353398619415762,0.5287446324127463,0.6451750579128125,0.596772046238725,0.39711904194279557,0.5134289399370034,0.45907276883641973,0.5245892888464161,0.49052485888366065,0.40050963433261044],[0.8199135893216578,0.7560562062056186,0.7006221288009404,0.7350343445870285,0.6436583984100721,0.8727848888294703,0.8867235396419977,0.8777567599322142,0.7039579546608135,0.6565148027591591,0.6599362853543723,0.5632078162586265,0.5665507513746673,0.6449124775045494,0.6107706189142912,0.6137624594337857,0.6181856868013317,0.8072914678429217,0.7600762572221509,0.7837400569673766,0.7808540562672133,0.8127279559960499,0.7657050083239586,0.72330162309202,0.8004723298326029,0.7786958153845063,0.7432432256871891,0.8115829381679209,0.7935923601019167,0.8559179430662558,0.7941309790718403,0.7410963825304536,0.7290490044617469,0.7850640052016826,0.676585312017498,0.707281635228774,0.7260104765870813,0.6278750677055619,0.7085931608668891,0.7175625516898025,0.691871343117282,0.7866421490310924,0.7680155720167781,0.8237835694315137,0.8306602007037198,0.7649851860697194,0.78592048485335,0.8133158414078783,0.7595984256332066,0.76385438057826,0.7159372793898218,0.7666877274519824,0.8051626373730506,0.7415712252472147,0.7774382715600653,0.7615473304735951,0.48864209822289073,0.4049681098024489,0.7481583461650874,0.8193249640920574,0.9999999999999999,0.8068051097702457,0.5850835680876031,0.49641567334850445,0.5420799679735905,0.7467767968643448,0.739913625596657,0.7568483574104676,0.7034740746031667,0.6961231445478921,0.5986760489662346,0.5627112096087541,0.6383762852167693,0.5724041385860653,0.6252205800070945,0.5702584342373729,0.45453810631350827,0.5262568768720919,0.4841820386337092,0.575759834138865,0.5121196046083145,0.4514148838617056],[0.7158018843376164,0.6521173864463321,0.6027861576914028,0.6653628722273209,0.6356374430578903,0.7832433774596861,0.75534053267572,0.8057665702938547,0.6842493455868095,0.6899020955895141,0.7684397354050105,0.6753735533335155,0.6401928145011605,0.6738926071460564,0.6877888300233502,0.6507904012631465,0.6794462584648704,0.8628919891525262,0.7751171037815984,0.7837431487378522,0.8007966416334862,0.8660785636835224,0.8105031541816978,0.7692020023875911,0.870486697423859,0.7977260967788655,0.8113327956062893,0.816942166832574,0.8362388152290645,0.7993560191561773,0.8157162381442534,0.771449609103841,0.7764364250531036,0.7994485669313698,0.7413038922218732,0.7909328847707324,0.7810708003729261,0.6944563972549803,0.7362863389486802,0.7474416865607697,0.7592834970006301,0.7939764956036055,0.7907473846004001,0.8355274566722193,0.858040945714232,0.8297278560446745,0.7837884957211108,0.8332907418221009,0.8068633368450833,0.8147214709417456,0.7228982244919805,0.8470033715336783,0.7938301165387118,0.8122956484702375,0.800470782234612,0.826976484663158,0.5621480361095678,0.5043303962286616,0.7898286231921916,0.9005560075845774,0.8068051097702457,0.9999999999999992,0.6137694381611305,0.575626197145551,0.5874743917283002,0.7708161093017197,0.7653990739715976,0.7784274156443567,0.7572724461681204,0.7697293866698827,0.6090741115202974,0.6586857693441457,0.6728619523835531,0.5755799321643293,0.6501586836355218,0.6316468451481693,0.46112966772183794,0.5654714662629389,0.5484588774052804,0.6273702400641791,0.5102066799830564,0.5129195746939887],[0.42782589976519303,0.44604684985632737,0.5600986322070304,0.5016133271562553,0.5436268097219961,0.5761958965625231,0.5506741031051502,0.5857228846144932,0.5988502548964065,0.6126830827697213,0.5204358892057084,0.5298442302088131,0.4786947369636786,0.6313101210210051,0.570770041712269,0.608235518778417,0.6075693621539677,0.7184426354788868,0.7016498738784729,0.7077354294698746,0.6793456623756085,0.6967389713597617,0.7354579729208651,0.6645617090376147,0.6765044435764239,0.7202857819251247,0.6642003935199605,0.7051869849502816,0.6500786114700969,0.6850529657462392,0.7105971049280411,0.7193145406214596,0.6496399187382116,0.6558161450382963,0.5444051283067274,0.6276533355588791,0.6307080176354761,0.6301822579753507,0.6429235863505176,0.5921241158068573,0.6400316400066504,0.6033141922327123,0.6553288148502789,0.6695746351845925,0.6177359064340988,0.6667156945638077,0.6117452927197812,0.6154896408893837,0.6874858636983897,0.6141966286113999,0.6637881676642954,0.6081745432336456,0.6363487631818933,0.6237834661526532,0.6404527622741972,0.6900052802307814,0.5111637723850526,0.46724012937347315,0.5873646384579861,0.5349281305571649,0.5850835680876031,0.6137694381611305,1.0000000000000004,0.4819364725904609,0.6023788672176672,0.6375391328793574,0.6237927990022185,0.628884006590823,0.6853486876707051,0.6563589027410639,0.6692040896517797,0.5704378787159401,0.593006032308803,0.540544391552949,0.5094205761374341,0.531019069873552,0.5126633319730437,0.5924086659466486,0.48053149979006693,0.46555158635523347,0.6531785039532398,0.5053953606429396],[0.5063599685752751,0.4232819893349616,0.5138950881720954,0.4937354978066017,0.5098877739008618,0.5539200368890749,0.49986109712172366,0.5475696790613754,0.5125529272818556,0.5497222432331383,0.49371314910015496,0.5282451935949878,0.5262095411295368,0.614385181828709,0.6023422429462755,0.546488724252919,0.5944580887641191,0.6679202470506699,0.625143932273518,0.722592668113538,0.6370962913426887,0.6577882221780871,0.6505556819892088,0.6203858432824934,0.657243272541218,0.620032107994008,0.6510599472136465,0.6471093055815613,0.6518302446045052,0.6101599201922225,0.6636411858959317,0.73070241295748,0.6684692328869151,0.6383890469042403,0.540398907459432,0.61846731186747,0.6257438723341937,0.6162083804550298,0.6387329412037024,0.5894528422218506,0.5805122803503037,0.645031532055117,0.6002436355292626,0.638913234021925,0.6172035377079419,0.6331581877700257,0.578634984436069,0.6201631451052705,0.6010452838417579,0.635270009962881,0.5980509313990112,0.6013185271532211,0.6223956484803543,0.6221691364870848,0.6141830511590207,0.6536672868719301,0.40014424580740804,0.527557675626804,0.5285418955008101,0.5212167126148185,0.49641567334850445,0.575626197145551,0.4819364725904609,0.9999999999999998,0.6126767891982091,0.6527058945213708,0.6276434049205714,0.575945738993757,0.6314491135420217,0.6583883910082472,0.5705364507145537,0.5772142181517417,0.5746169420695401,0.5029420058059724,0.5638008629090336,0.5513391104621075,0.4668465658539893,0.5194678394574149,0.47775063559040065,0.4656245722629252,0.4464923991868109,0.472545904971813],[0.4983870139118398,0.45180716536079635,0.5129243529166599,0.4552050850318076,0.4866973735756746,0.595706862398517,0.5791495908139165,0.5951248168480213,0.5062077678591145,0.5645360864311022,0.47947194646367564,0.4878679331773121,0.4611741772896637,0.7109544044457596,0.5658892455965753,0.6324376507172033,0.5668704413450845,0.6694373924029275,0.6556663911448128,0.6532326345696275,0.6525820244055711,0.6488414170553672,0.6819971636184589,0.6844545374851749,0.6422250721512812,0.6979973787544648,0.6914774843651856,0.6496513875662078,0.6986258291019014,0.6128832645720405,0.6644096826700565,0.6714569598165532,0.6796175888529153,0.6609568540056464,0.5668166292503894,0.5788811822131695,0.6064627487554435,0.6201798654351709,0.6271018650731055,0.5898979336738059,0.6179536301080417,0.6185743937624351,0.6065158858192446,0.6544922246890463,0.611823260683434,0.6560617825857037,0.6190178585095036,0.6271365561048114,0.6839564459227554,0.6363858373724558,0.6306875530662569,0.6490212780855025,0.6386984677290372,0.6189331625513941,0.6402713082676366,0.6679848389167299,0.3703803952499581,0.4307177798162418,0.5271454286106882,0.5240157392035837,0.5420799679735905,0.5874743917283002,0.6023788672176672,0.6126767891982091,1.0000000000000004,0.6627098482777847,0.6068890670970215,0.581662353788541,0.6207984694074526,0.7046493399674778,0.6361786022419822,0.5817962349953513,0.5717926736218129,0.4663363617960973,0.5231859346186974,0.5160991594645842,0.6724042476275374,0.635284477498502,0.4611663790755437,0.4808507446504181,0.45213841111619224,0.5020144910387903],[0.709684751308186,0.640251062694539,0.6376065062127465,0.6242894240836321,0.6305543076148477,0.8121385711495992,0.7421474336825091,0.7875033233353775,0.6713681129466883,0.6842259547943548,0.6677528541652039,0.598065825926113,0.6067167953189976,0.7802017054850919,0.7137816655252204,0.7388307480818215,0.7203962231901705,0.8649739763256784,0.8246761089123138,0.8330961400913612,0.8543227000837286,0.8425117642014242,0.8546443150813122,0.8290639559095447,0.8335481092012951,0.8554538127002904,0.85558157193162,0.837795943078544,0.8394664723210261,0.8105560830142983,0.8398814224316922,0.8476619241773329,0.8691512836203569,0.8598485563913447,0.7211277112658532,0.7682932885685991,0.7806365811806257,0.7336057038991769,0.789379242817385,0.7650725215182077,0.7843588654960516,0.8074429432289479,0.7933480189321145,0.861209012002912,0.8238853797601599,0.7724529839982868,0.8239491007162714,0.7961219627272869,0.8099344740891639,0.8131372504703537,0.7850971809818883,0.7754900149667275,0.8273572924267083,0.7583336004229021,0.8231705518124588,0.8322712664272462,0.6482856851169612,0.5956734575551844,0.6996055660212256,0.7363348939423815,0.7467767968643448,0.7708161093017197,0.6375391328793574,0.6527058945213708,0.6627098482777847,1.0000000000000002,0.7966584400517384,0.8023218798763246,0.8268110917606664,0.7949838835541614,0.7680773898347116,0.7017329822415491,0.8044037888276918,0.6206450129349996,0.6539149857548437,0.7194319079525731,0.483571032557503,0.6157215524268781,0.5835020677327534,0.7256692179138251,0.5142600876171751,0.5904536409302346],[0.6469596481229721,0.6007303614154216,0.6094477653464416,0.5742399965337598,0.6643902426041589,0.7276846063943664,0.7275457428025316,0.7800684530768678,0.6694011300391287,0.7576708541124604,0.7364687342108472,0.5758138021981101,0.5976686216470172,0.7274022078232174,0.7054475636438915,0.672542367077459,0.7454246990109796,0.8496866702509415,0.8056164699836978,0.8243601954896449,0.8400744923950934,0.8403141974615465,0.7971288620012845,0.7971957866324584,0.8467435350611561,0.8094976306727621,0.815257016683256,0.8286646829134021,0.8417605885304713,0.8430972724133688,0.8621802198083552,0.8463434660328804,0.8548784042097353,0.8294271527424761,0.7240502708016586,0.767520562223487,0.8155996187736935,0.7179236931629006,0.8116130195724378,0.7843349477055909,0.7748360403383863,0.7559367860204106,0.7735392385081962,0.8045420289164825,0.8044602411144094,0.8195138016365402,0.8177803813095157,0.8470780869453038,0.7999566399201025,0.8051260971105334,0.7768420585644722,0.7979129496224446,0.7716025147378216,0.8211258144075985,0.8130401530086575,0.8175996046757846,0.4839825249118083,0.5131677275108988,0.7497559862923223,0.7111380904112181,0.739913625596657,0.7653990739715976,0.6237927990022185,0.6276434049205714,0.6068890670970215,0.7966584400517384,0.9999999999999994,0.8067243920483517,0.8038922454898106,0.9067640541786255,0.6480159277510704,0.6557843865810732,0.70133223492224,0.6337760572889329,0.6744456635304059,0.6919890335987404,0.4759390069209243,0.5725005762527876,0.5392704246778269,0.6220074633334499,0.5368650015087049,0.5494861652370983],[0.7127477359106581,0.6273570336499966,0.6087665844630668,0.608163977202297,0.6340186430978225,0.7376675310081673,0.7401193341274926,0.7986028930761578,0.6751480016422997,0.7443630180417603,0.7118260156353851,0.5833843766535266,0.6254255937809587,0.6989706885938964,0.77342464438443,0.696005044150428,0.7438241911378684,0.8451924976607825,0.8179714498405666,0.836067188463534,0.8138663602121633,0.8134286056354831,0.8057143563240224,0.8059245544812488,0.8216256632297125,0.8072886496141094,0.8056391165907344,0.8090868705673271,0.8308527342239396,0.8198641715085306,0.8158204870972328,0.8274695341683864,0.7919840832472866,0.8185932724100868,0.7406188164271504,0.7869937032266907,0.78221352618817,0.7638875689377942,0.8027423354991402,0.792310612123252,0.7970222882085618,0.7643360281857854,0.7719497036932065,0.7798715875182195,0.8269884165696526,0.7979767797225626,0.7818436204038907,0.8317254344949843,0.7880565035347299,0.7939234270227511,0.7731410047322227,0.7716585329311981,0.7734707586530887,0.7958007248778264,0.7833220930914098,0.7882201379936737,0.5562390954715704,0.4848042198712287,0.7495978736180502,0.7899954551973393,0.7568483574104676,0.7784274156443567,0.628884006590823,0.575945738993757,0.581662353788541,0.8023218798763246,0.8067243920483517,0.9999999999999998,0.84065686405399,0.7750598834270338,0.6292146916894732,0.6288906105105123,0.715137347140634,0.7136347683733949,0.6334416159328069,0.7000863694541144,0.450304960867646,0.553797030187122,0.574504399369772,0.5857622447478417,0.5197844984494187,0.53868988359147],[0.6490462784979616,0.584188705194159,0.6428405065746478,0.6190121028431564,0.6423796720908964,0.7396668904795345,0.7048097476583743,0.7446936013993067,0.6358747583307136,0.783674003953513,0.7082317081578531,0.6056600433952717,0.6202658065317225,0.7735415751012835,0.68647746310743,0.7060754262743183,0.7030938976378134,0.8523038307403936,0.7924333560961068,0.7977049309821421,0.8175443236762943,0.8346389161215905,0.8299300361774904,0.77249119659901,0.8543458820682563,0.8215085073931339,0.8023264802046308,0.8293989358157028,0.8188981376619858,0.7794038219766909,0.8150449877616832,0.8399140442902104,0.8141620390150603,0.8238514871974449,0.6983942186109855,0.7694709499677488,0.7932357296432865,0.7556667990329033,0.7800173263258419,0.7497454033683466,0.7937628729205537,0.8003544399787773,0.7297940787715602,0.8401868551080607,0.8097218334515687,0.7839495554378778,0.7845687276214903,0.7874827273437615,0.7886220442201812,0.7906918686487598,0.716813732656763,0.7801888565056936,0.7439342133500921,0.7821110023068965,0.7803864709798409,0.8396680772875786,0.5822921370831917,0.5473313457812174,0.700076811041739,0.7244209118473767,0.7034740746031667,0.7572724461681204,0.6853486876707051,0.6314491135420217,0.6207984694074526,0.8268110917606664,0.8038922454898106,0.84065686405399,1.0000000000000002,0.8267812876427914,0.7147141600971739,0.6575931422137058,0.6982234730639462,0.6815789958306588,0.6346376943193335,0.7614029763987081,0.47570862052831353,0.6357272264077556,0.5912055695356004,0.6581497990432907,0.5206568662979699,0.6052785238448191],[0.610169169250179,0.5696788867087157,0.5871600340109268,0.5547556588092967,0.6629858823837895,0.7100410449996596,0.7078827232250133,0.7595093230746128,0.6588327807239481,0.7526132853541807,0.7235606635285294,0.6329126210315795,0.6057550170100194,0.7476503232672523,0.7134968598265221,0.6785916217441271,0.7537220221097567,0.8486521059380878,0.8024944503019475,0.8218259489320887,0.8357568589687374,0.828976597527102,0.8082088889888461,0.8267311607246071,0.8476453268733154,0.8528270127302837,0.8345042475544795,0.8352490354095262,0.8496067665391828,0.8157767599368715,0.8562476034654132,0.8711118855791693,0.8655985088153609,0.8328753263098325,0.6995020604725707,0.767101624263774,0.8057727345586768,0.7393480845118214,0.8182215602138418,0.7865423878289106,0.7722000698211124,0.7617906695342443,0.7818586697616974,0.8135183680078957,0.7782017806235562,0.8109949224162833,0.7863601942532145,0.8278109961735765,0.8312109272752799,0.8258348111533602,0.7552896865066978,0.8123081463463739,0.7791523303926595,0.8043730961722038,0.819333590576393,0.8304521975556876,0.5244595633502679,0.501143102800858,0.7335009127656089,0.6978535574658729,0.6961231445478921,0.7697293866698827,0.6563589027410639,0.6583883910082472,0.7046493399674778,0.7949838835541614,0.9067640541786255,0.7750598834270338,0.8267812876427914,0.9999999999999998,0.6722341432597719,0.6579869477633026,0.7243139898685929,0.6256665263474579,0.6467456230427857,0.6861871579786762,0.5140803585257159,0.6494769865833437,0.5625972425985939,0.6519823446843752,0.5466186414199559,0.5882762295754504],[0.4982270124387612,0.4552530909187664,0.5498675776318066,0.5268898229098956,0.5524591586349167,0.6321289445766212,0.590567908485147,0.615068183046625,0.581631066816009,0.5667665233229776,0.5086849712933567,0.5160073759318401,0.5022613587263993,0.7274986574296018,0.5366763532668661,0.6117689650184732,0.6107328863276499,0.7263675559804998,0.6830091272334958,0.65349459220643,0.7032553961301435,0.7165144343881866,0.725702825656328,0.6706474094742332,0.6775652290043241,0.7290288512354788,0.713307636650093,0.695135700570614,0.6778916909532207,0.6767318886028035,0.7048683063446648,0.6841563001425444,0.7266985234069535,0.7243003922910545,0.5583928775991764,0.5989139141003518,0.6534131570209705,0.6180913581903056,0.6466214513227172,0.6186339169734959,0.6154561748441438,0.6542338693540731,0.6545573682718488,0.6967436131054996,0.6436385040146857,0.6438842937434215,0.6622612459101187,0.6480269292878313,0.7006281369447087,0.66175828919607,0.6280638792065649,0.6527311673691776,0.6577226273821242,0.6198933995273705,0.6447027800256951,0.7253524471836813,0.6008258009248811,0.6189592588600005,0.5795173803450554,0.5484505750779668,0.5986760489662346,0.6090741115202974,0.6692040896517797,0.5705364507145537,0.6361786022419822,0.7680773898347116,0.6480159277510704,0.6292146916894732,0.7147141600971739,0.6722341432597719,1.0,0.6799332955830253,0.7548901781462846,0.5357468043484062,0.5933226506320115,0.5785892406960471,0.43826669858847267,0.5301951968019123,0.4680601971426309,0.5720127464384321,0.5245902341310494,0.6947807093863698],[0.507656814196532,0.4855521959960585,0.5158210590972025,0.543291912012188,0.470458944987297,0.5807011689373807,0.563045901367018,0.6289393433384669,0.5515903704057061,0.584902019279541,0.531427035445168,0.5270339823839123,0.5016441392496669,0.6148187516355939,0.5983569162270266,0.6624744798675506,0.6293991544584429,0.7258815538033623,0.6864361036529737,0.671911713760694,0.7039394827653956,0.7089355908869931,0.724748548513656,0.681157989638167,0.6809414843056306,0.7207078720847658,0.727490478999891,0.6971587777652912,0.7047329590863534,0.652690079397102,0.7312417754847776,0.6994519882737087,0.7293601777922865,0.6771236848434365,0.6238775902384208,0.6546390166321643,0.6654383609855135,0.6299058059107815,0.6891527226057232,0.6635276376197556,0.6677928893003323,0.6696815900333221,0.6915657814085201,0.6754723297856055,0.6400859762365325,0.6803493454439696,0.628780489107359,0.6612337902883407,0.6836253187047888,0.6632321440036852,0.6648039253081817,0.6553035425212065,0.6644282996293243,0.6579784572171583,0.6536159982811498,0.7193809436193352,0.5940745852334154,0.7325767519937807,0.6601262502648285,0.5963153181147721,0.5627112096087541,0.6586857693441457,0.5704378787159401,0.5772142181517417,0.5817962349953513,0.7017329822415491,0.6557843865810732,0.6288906105105123,0.6575931422137058,0.6579869477633026,0.6799332955830253,1.0000000000000002,0.7271226158583576,0.512563701375221,0.6433597899371192,0.648414491734364,0.40858011088604396,0.49946496852620736,0.45804733773649364,0.522968321610002,0.5049547316975833,0.5060445695406897],[0.6138650346185983,0.5669405452117595,0.5202273791914644,0.5049001488113058,0.5492527634988379,0.65869960002223,0.637806562000963,0.6880154197676436,0.5593004052261994,0.5603183234789704,0.5443960358762108,0.491086245455409,0.49792252339097365,0.5947860767242958,0.6084241747583911,0.5677412092923553,0.6735532386815737,0.7310844955047676,0.6804691817593873,0.7052449946707064,0.7260086145985009,0.7321148681668848,0.7115861456043656,0.6598889906578775,0.7222698271782696,0.7425858216097313,0.7132077666387372,0.7241765862434664,0.7354732573613518,0.6944396383499294,0.7413912380436734,0.7237279465251507,0.7381957477008233,0.7192883823387146,0.5915129568722339,0.6409131637405506,0.6918864872243857,0.6055206568351547,0.6906094821992824,0.6905720194782771,0.6313005980735388,0.6795240049160114,0.6749253926763104,0.735757634235598,0.6864830038777749,0.6736707356258741,0.693690001025593,0.6924515723432992,0.6976871077069497,0.6696140470376574,0.624364941894848,0.6947585769674247,0.6863400182677105,0.672917788364506,0.7016674655992337,0.7612204642635227,0.6368249064461942,0.6041373265721792,0.5967385885742043,0.6353398619415762,0.6383762852167693,0.6728619523835531,0.593006032308803,0.5746169420695401,0.5717926736218129,0.8044037888276918,0.70133223492224,0.715137347140634,0.6982234730639462,0.7243139898685929,0.7548901781462846,0.7271226158583576,0.9999999999999994,0.5003189358044391,0.6268549838422246,0.6226351732024218,0.39918313803966593,0.4818889007877164,0.4376450622761963,0.580740815556259,0.4796083138154874,0.5680739693780823],[0.45873605791076555,0.4407485839319359,0.5953841544374242,0.5256037175725241,0.561338323166807,0.5373404989120327,0.5264847082970171,0.5820057403476773,0.566202230879628,0.5994219299986808,0.522640699925742,0.45668784149725716,0.4729205364671984,0.5678166766468313,0.6042144763461023,0.5898688047583124,0.6198042152463249,0.675514551650128,0.6131300269770497,0.7101559385857794,0.633171437059377,0.6545940298912212,0.6572837543237422,0.6408371177474245,0.6336683690461324,0.6401578351507612,0.649587621072766,0.6241965971859537,0.6342609107045004,0.6681572873778,0.6864061885175317,0.7081003958947563,0.6448215715765302,0.6375972532433263,0.5948216624332755,0.5721184862511879,0.6446259438769784,0.6039794057823553,0.6314001115851782,0.6254289150982602,0.6445323960378948,0.6163689610851701,0.6290272969670089,0.629325709332403,0.6430889268058948,0.6108682807753862,0.5478777457763357,0.6213044341306938,0.6239680686374335,0.6233848207087699,0.5990485757885338,0.5869758845140953,0.6203986237142799,0.5852848110812421,0.5964219199125389,0.6101453715490909,0.405299589143461,0.46421052216977193,0.5788572640553445,0.5287446324127463,0.5724041385860653,0.5755799321643293,0.540544391552949,0.5029420058059724,0.4663363617960973,0.6206450129349996,0.6337760572889329,0.7136347683733949,0.6815789958306588,0.6256665263474579,0.5357468043484062,0.512563701375221,0.5003189358044391,0.9999999999999991,0.5642970751520685,0.6225552043638294,0.3804150661444914,0.522117691960162,0.5855339084219723,0.41077777133276283,0.5202413102009223,0.361079159215562],[0.588518482149094,0.5710942940049869,0.6126183836288137,0.5911043067257286,0.5597822537757597,0.5935786824896006,0.5655496426835199,0.6195952717269525,0.5164827075931226,0.577966912993901,0.5624556045690817,0.47142945152456683,0.5247607807637916,0.5790264503452833,0.5752683011021295,0.659076063981441,0.6212760702695124,0.6660218363626073,0.6002944429837407,0.6395324154292237,0.6476444556974215,0.6679974068387632,0.6218835659646538,0.5894065157816606,0.6590781824436494,0.6387919552637822,0.6775453719232986,0.6505416498355641,0.6918871641794543,0.6737330384731229,0.7211386559669215,0.6783600225602573,0.6721415959343532,0.6459587526411072,0.5368105902523259,0.652526664387985,0.6333972070636877,0.5381170373864809,0.6182088615184543,0.6143577417270311,0.6124727731080152,0.6267483337187364,0.6142505540457668,0.6464888322189573,0.6296295008440473,0.6186228739549227,0.601744347346732,0.6793249411513761,0.6036909987974503,0.604976019496768,0.5517810921993207,0.631574298530784,0.631973197805149,0.6137123024105384,0.63455279771618,0.6644058585458741,0.4761702324639993,0.5651726396095023,0.652455618751826,0.6451750579128125,0.6252205800070945,0.6501586836355218,0.5094205761374341,0.5638008629090336,0.5231859346186974,0.6539149857548437,0.6744456635304059,0.6334416159328069,0.6346376943193335,0.6467456230427857,0.5933226506320115,0.6433597899371192,0.6268549838422246,0.5642970751520685,0.9999999999999998,0.5673325885908492,0.4357060131483369,0.5640196106803144,0.5572665891776771,0.46882974938243915,0.6607079193440333,0.424065782772011],[0.5555147330498479,0.4319015899271001,0.5477002615212776,0.4995177042630916,0.5559009226072396,0.583575501954209,0.5739084129781202,0.6278443129112214,0.5107501760456301,0.6702602250991067,0.6114858029250526,0.48664075840126564,0.5233188930414605,0.6356539184036673,0.612088658945042,0.650963285541003,0.6046958067481694,0.7260833818793284,0.6755412852458431,0.6858188911644774,0.6845091569441378,0.6939772853736367,0.7064771999745725,0.6853865886615242,0.705007454468269,0.6948373308779553,0.6912211838333199,0.6967024089430893,0.7064357371146082,0.6818671424749365,0.6931492357381724,0.718784875790605,0.6951667726798789,0.6828292065686168,0.6309074926959896,0.6605042324272659,0.6618605037309251,0.6410469193905798,0.6701888008531708,0.6648017046287753,0.7336879883676353,0.7086516062965296,0.6198486222757308,0.665477374703309,0.6915076982637585,0.6693272315102974,0.6034850579392573,0.6873189325089379,0.703263977739033,0.6531224575026103,0.641409904579385,0.6756212714271244,0.634612749380955,0.6500830094188039,0.6572567694674133,0.7163053099381667,0.45149044524819015,0.5557918883109363,0.6267021947533825,0.596772046238725,0.5702584342373729,0.6316468451481693,0.531019069873552,0.5513391104621075,0.5160991594645842,0.7194319079525731,0.6919890335987404,0.7000863694541144,0.7614029763987081,0.6861871579786762,0.5785892406960471,0.648414491734364,0.6226351732024218,0.6225552043638294,0.5673325885908492,0.9999999999999998,0.3836738976033469,0.47740514525420985,0.5238021951425311,0.581315279915112,0.43423416061791215,0.48937286027896376],[0.38972840248759133,0.37211619500569615,0.483679773804252,0.3895502440821375,0.4258701859316856,0.45025050186080806,0.4353767221878344,0.46317268553946256,0.40208391367485974,0.4470265686012702,0.4373522388967833,0.285083439789117,0.40506835998464535,0.5587871119935355,0.41298987838951645,0.5047597252875664,0.41446314809705126,0.5260380742186492,0.4872306121366633,0.5092770869093157,0.502044135733847,0.5064280593502911,0.5106343307429135,0.5335829411708559,0.4963233825818547,0.5328992576713693,0.5368302227934976,0.5129328450333972,0.5479838467550937,0.5075504917014162,0.5506924761245666,0.5235596816108721,0.5357352446919328,0.5167067511291471,0.4522012285439434,0.4515753929470516,0.49100870057008383,0.5161027490762695,0.49694713695933423,0.47606972582874607,0.5096879464875155,0.49342421975486916,0.47117472102758146,0.5050490029605348,0.48355133885416746,0.510462975753959,0.46061204033256115,0.5001301939707193,0.5405548724221867,0.49712250597568064,0.48749795238140303,0.5233302343180661,0.4948105390884343,0.5048276870948896,0.4947143616482373,0.5195878956396582,0.28867827053059636,0.2915421923531061,0.4024441148153253,0.39711904194279557,0.45453810631350827,0.46112966772183794,0.5126633319730437,0.4668465658539893,0.6724042476275374,0.483571032557503,0.4759390069209243,0.450304960867646,0.47570862052831353,0.5140803585257159,0.43826669858847267,0.40858011088604396,0.39918313803966593,0.3804150661444914,0.4357060131483369,0.3836738976033469,1.0,0.4643122263746069,0.41972489740866237,0.34029897445158513,0.3237168724142857,0.3128279703092998],[0.507234847315737,0.4782236006735241,0.4784450632381131,0.4581112669697765,0.4190461607648456,0.5538674127840939,0.5612421473699292,0.5834088771911571,0.4982562959989013,0.5712806577617136,0.5052801962847042,0.4818633280190997,0.44074598559638006,0.6763026051747227,0.575077623092331,0.6415803894852677,0.5875063994497545,0.6460096134272759,0.6282502811783466,0.6229067443148711,0.6224211172881328,0.6196454846464263,0.6314278266207114,0.6165544724416147,0.6467055493555068,0.7101874092122659,0.6619691173061365,0.6746786990675221,0.6736621891154013,0.6031109893620321,0.6744736746355449,0.7058070318937142,0.6473475605167907,0.6320292449131915,0.5247162601423405,0.5862676833676997,0.5627061972276103,0.5768982068111038,0.593588599123498,0.5605741690724446,0.6373333634595623,0.576696956451235,0.6060198101871,0.6523414156239474,0.5621187627543475,0.6254814137990268,0.5912264704934994,0.6042359936302615,0.6492019810993903,0.5915188518605154,0.5518700313266768,0.6119422183470048,0.6077425907582664,0.6176009408869562,0.6362442487532292,0.6235175628325573,0.4679865496002395,0.44015476457441893,0.554028871373929,0.5134289399370034,0.5262568768720919,0.5654714662629389,0.5924086659466486,0.5194678394574149,0.635284477498502,0.6157215524268781,0.5725005762527876,0.553797030187122,0.6357272264077556,0.6494769865833437,0.5301951968019123,0.49946496852620736,0.4818889007877164,0.522117691960162,0.5640196106803144,0.47740514525420985,0.4643122263746069,1.0,0.7117849966589456,0.45696545096005825,0.5456125323209806,0.49642442351307975],[0.43469938527352003,0.46113305072791144,0.4367676641321155,0.43075200808150954,0.42064206824705314,0.524270728693773,0.5176953893303472,0.5584520490176741,0.46493957271331243,0.5884543633094976,0.570229828815034,0.443907822017028,0.43958394267790524,0.6246988328522022,0.5322384034296828,0.6882444252636966,0.5599608511524619,0.600494240734258,0.5781822656255418,0.6237464065151778,0.5555348709320861,0.566899827953408,0.5834079969119151,0.584876414248817,0.586431737295781,0.6363801537049454,0.6485462148940679,0.5841423497508647,0.6383451766019481,0.5842549145819113,0.623569899223628,0.6817983544395639,0.5938250709949334,0.5837353246826646,0.5107330638133897,0.5672775223224744,0.5184439419729687,0.5879504215025952,0.5637874600683275,0.5516837366104791,0.6688707339268865,0.5450165371213574,0.5667628849566458,0.5452476726082993,0.5439385762145373,0.5652151861132562,0.5697412819553012,0.5720715524731181,0.5867199076545954,0.531076639129884,0.5201127721798418,0.5842179800150988,0.5782503549088915,0.5672752256516718,0.5960291098875945,0.5733185067058224,0.4001685322247089,0.3850787088762602,0.5273023258876386,0.45907276883641973,0.4841820386337092,0.5484588774052804,0.48053149979006693,0.47775063559040065,0.4611663790755437,0.5835020677327534,0.5392704246778269,0.574504399369772,0.5912055695356004,0.5625972425985939,0.4680601971426309,0.45804733773649364,0.4376450622761963,0.5855339084219723,0.5572665891776771,0.5238021951425311,0.41972489740866237,0.7117849966589456,1.0,0.5166148964248134,0.40931408432235467,0.44092196001376893],[0.4889961424037618,0.47409222464161005,0.47992361655884425,0.4452209538594983,0.5081572948808996,0.6411594529551871,0.5684251357347447,0.5978722985414178,0.5542226394762215,0.6432986672992513,0.5660060244139005,0.5341986904885635,0.46978455231397365,0.6959785330635428,0.5706432836340367,0.6196047660802252,0.5841826902073535,0.7121650713119414,0.6603079949198636,0.6459880267975078,0.6509353418785904,0.6807895106392836,0.6918049003887914,0.6541705550047916,0.7223448326512647,0.6584855497624491,0.6649942866591871,0.7216057618954951,0.6400692040968552,0.6326088295613073,0.6138565890257783,0.6352738555852001,0.6721153674201743,0.6976831217306452,0.5442584162493214,0.6151423211155543,0.5979396870623105,0.5914285081503871,0.6183017271538642,0.6015862007634907,0.6320442199236271,0.663482127379293,0.6059987888877965,0.7062598887909051,0.6973123519710213,0.6022519265547502,0.6446459236128941,0.6323131983205206,0.6359956133045065,0.6277552906655879,0.6026567895081236,0.6526904188510018,0.6345207704656883,0.5811005363945886,0.6196467175639196,0.6387849723452392,0.48182327772041766,0.45138558283209534,0.6049383389274153,0.5245892888464161,0.575759834138865,0.6273702400641791,0.46555158635523347,0.4656245722629252,0.4808507446504181,0.7256692179138251,0.6220074633334499,0.5857622447478417,0.6581497990432907,0.6519823446843752,0.5720127464384321,0.522968321610002,0.580740815556259,0.41077777133276283,0.46882974938243915,0.581315279915112,0.34029897445158513,0.45696545096005825,0.5166148964248134,1.0000000000000004,0.3509823435967765,0.7025070591120184],[0.38796067915724985,0.41413124171122484,0.4923756618302294,0.5151351227703083,0.4900447855784385,0.43640128667298506,0.4339404560881631,0.4643579958763183,0.46443577413837556,0.5283661496738002,0.47881365920747176,0.41778127635068163,0.42904991854361507,0.4807586970563013,0.5568323587743977,0.4815281232147888,0.5541458028846376,0.5645019704492893,0.5400145925546042,0.5662750047613864,0.5098562130175858,0.5561936421217114,0.5363357949423067,0.5106164801535408,0.5424237867043136,0.5308201049683179,0.5354369486800076,0.540669054169347,0.5321278189529577,0.5918216025278143,0.6048557094212634,0.628876564695074,0.5149883401841419,0.4957506459912948,0.4302624735295357,0.5082663807843187,0.489095850959023,0.4730926261436879,0.49201547970992343,0.4846865608298035,0.5084528694518266,0.4687571155950219,0.5083856873748446,0.5200913541069058,0.5019600998828491,0.5284575516488023,0.471203923601357,0.533557108099786,0.5048408150088218,0.47792125113955164,0.5044492191140669,0.47361972943087627,0.4895293924925659,0.5082192890689229,0.5067145362083015,0.5551976847113709,0.4597646828218651,0.45743921210114474,0.5656303996772197,0.49052485888366065,0.5121196046083145,0.5102066799830564,0.6531785039532398,0.4464923991868109,0.45213841111619224,0.5142600876171751,0.5368650015087049,0.5197844984494187,0.5206568662979699,0.5466186414199559,0.5245902341310494,0.5049547316975833,0.4796083138154874,0.5202413102009223,0.6607079193440333,0.43423416061791215,0.3237168724142857,0.5456125323209806,0.40931408432235467,0.3509823435967765,1.0000000000000004,0.4168025794530587],[0.3521245177020537,0.3615566160503563,0.40562319024429755,0.37179010557849224,0.4366193661027028,0.5196411519854653,0.4786378142466716,0.49617926158185144,0.5083577900574654,0.5889765809699617,0.42329561889804157,0.43683016388461804,0.3561785156899885,0.6301363915355056,0.484188431063045,0.5186882795725383,0.5321007443486399,0.5960241098799967,0.588014477458766,0.5416652194815161,0.5694166162400257,0.5727408302338317,0.613375919612425,0.5451144063343112,0.5867679267735347,0.5837213550462745,0.5588942059331818,0.5957751179988386,0.5717275721264526,0.5292742986953742,0.5379487137811868,0.5693306721800919,0.6160846154254865,0.6162709992777256,0.4366019874900482,0.5532034229053674,0.5410356492227695,0.5601250700790129,0.5680535147083924,0.5359210028924783,0.5611309513302942,0.5542205855306498,0.5108907474537934,0.5773193539918717,0.5392837918928443,0.526655107723554,0.5727950598997079,0.555222958936649,0.5407827160013334,0.5365090622178362,0.5136360077634675,0.5540852919568563,0.5350708128389953,0.5066933548049458,0.52179252835369,0.5244143387000753,0.4757498170479939,0.42584885136408157,0.4895506441948154,0.40050963433261044,0.4514148838617056,0.5129195746939887,0.5053953606429396,0.472545904971813,0.5020144910387903,0.5904536409302346,0.5494861652370983,0.53868988359147,0.6052785238448191,0.5882762295754504,0.6947807093863698,0.5060445695406897,0.5680739693780823,0.361079159215562,0.424065782772011,0.48937286027896376,0.3128279703092998,0.49642442351307975,0.44092196001376893,0.7025070591120184,0.4168025794530587,0.9999999999999994]],\"type\":\"heatmap\",\"xaxis\":\"x\",\"yaxis\":\"y\",\"hovertemplate\":\"x: %{x}<br>y: %{y}<br>Similarity Score: %{z}<extra></extra>\"}],                        {\"template\":{\"data\":{\"bar\":[{\"error_x\":{\"color\":\"#2a3f5f\"},\"error_y\":{\"color\":\"#2a3f5f\"},\"marker\":{\"line\":{\"color\":\"#E5ECF6\",\"width\":0.5},\"pattern\":{\"fillmode\":\"overlay\",\"size\":10,\"solidity\":0.2}},\"type\":\"bar\"}],\"barpolar\":[{\"marker\":{\"line\":{\"color\":\"#E5ECF6\",\"width\":0.5},\"pattern\":{\"fillmode\":\"overlay\",\"size\":10,\"solidity\":0.2}},\"type\":\"barpolar\"}],\"carpet\":[{\"aaxis\":{\"endlinecolor\":\"#2a3f5f\",\"gridcolor\":\"white\",\"linecolor\":\"white\",\"minorgridcolor\":\"white\",\"startlinecolor\":\"#2a3f5f\"},\"baxis\":{\"endlinecolor\":\"#2a3f5f\",\"gridcolor\":\"white\",\"linecolor\":\"white\",\"minorgridcolor\":\"white\",\"startlinecolor\":\"#2a3f5f\"},\"type\":\"carpet\"}],\"choropleth\":[{\"colorbar\":{\"outlinewidth\":0,\"ticks\":\"\"},\"type\":\"choropleth\"}],\"contour\":[{\"colorbar\":{\"outlinewidth\":0,\"ticks\":\"\"},\"colorscale\":[[0.0,\"#0d0887\"],[0.1111111111111111,\"#46039f\"],[0.2222222222222222,\"#7201a8\"],[0.3333333333333333,\"#9c179e\"],[0.4444444444444444,\"#bd3786\"],[0.5555555555555556,\"#d8576b\"],[0.6666666666666666,\"#ed7953\"],[0.7777777777777778,\"#fb9f3a\"],[0.8888888888888888,\"#fdca26\"],[1.0,\"#f0f921\"]],\"type\":\"contour\"}],\"contourcarpet\":[{\"colorbar\":{\"outlinewidth\":0,\"ticks\":\"\"},\"type\":\"contourcarpet\"}],\"heatmap\":[{\"colorbar\":{\"outlinewidth\":0,\"ticks\":\"\"},\"colorscale\":[[0.0,\"#0d0887\"],[0.1111111111111111,\"#46039f\"],[0.2222222222222222,\"#7201a8\"],[0.3333333333333333,\"#9c179e\"],[0.4444444444444444,\"#bd3786\"],[0.5555555555555556,\"#d8576b\"],[0.6666666666666666,\"#ed7953\"],[0.7777777777777778,\"#fb9f3a\"],[0.8888888888888888,\"#fdca26\"],[1.0,\"#f0f921\"]],\"type\":\"heatmap\"}],\"heatmapgl\":[{\"colorbar\":{\"outlinewidth\":0,\"ticks\":\"\"},\"colorscale\":[[0.0,\"#0d0887\"],[0.1111111111111111,\"#46039f\"],[0.2222222222222222,\"#7201a8\"],[0.3333333333333333,\"#9c179e\"],[0.4444444444444444,\"#bd3786\"],[0.5555555555555556,\"#d8576b\"],[0.6666666666666666,\"#ed7953\"],[0.7777777777777778,\"#fb9f3a\"],[0.8888888888888888,\"#fdca26\"],[1.0,\"#f0f921\"]],\"type\":\"heatmapgl\"}],\"histogram\":[{\"marker\":{\"pattern\":{\"fillmode\":\"overlay\",\"size\":10,\"solidity\":0.2}},\"type\":\"histogram\"}],\"histogram2d\":[{\"colorbar\":{\"outlinewidth\":0,\"ticks\":\"\"},\"colorscale\":[[0.0,\"#0d0887\"],[0.1111111111111111,\"#46039f\"],[0.2222222222222222,\"#7201a8\"],[0.3333333333333333,\"#9c179e\"],[0.4444444444444444,\"#bd3786\"],[0.5555555555555556,\"#d8576b\"],[0.6666666666666666,\"#ed7953\"],[0.7777777777777778,\"#fb9f3a\"],[0.8888888888888888,\"#fdca26\"],[1.0,\"#f0f921\"]],\"type\":\"histogram2d\"}],\"histogram2dcontour\":[{\"colorbar\":{\"outlinewidth\":0,\"ticks\":\"\"},\"colorscale\":[[0.0,\"#0d0887\"],[0.1111111111111111,\"#46039f\"],[0.2222222222222222,\"#7201a8\"],[0.3333333333333333,\"#9c179e\"],[0.4444444444444444,\"#bd3786\"],[0.5555555555555556,\"#d8576b\"],[0.6666666666666666,\"#ed7953\"],[0.7777777777777778,\"#fb9f3a\"],[0.8888888888888888,\"#fdca26\"],[1.0,\"#f0f921\"]],\"type\":\"histogram2dcontour\"}],\"mesh3d\":[{\"colorbar\":{\"outlinewidth\":0,\"ticks\":\"\"},\"type\":\"mesh3d\"}],\"parcoords\":[{\"line\":{\"colorbar\":{\"outlinewidth\":0,\"ticks\":\"\"}},\"type\":\"parcoords\"}],\"pie\":[{\"automargin\":true,\"type\":\"pie\"}],\"scatter\":[{\"marker\":{\"colorbar\":{\"outlinewidth\":0,\"ticks\":\"\"}},\"type\":\"scatter\"}],\"scatter3d\":[{\"line\":{\"colorbar\":{\"outlinewidth\":0,\"ticks\":\"\"}},\"marker\":{\"colorbar\":{\"outlinewidth\":0,\"ticks\":\"\"}},\"type\":\"scatter3d\"}],\"scattercarpet\":[{\"marker\":{\"colorbar\":{\"outlinewidth\":0,\"ticks\":\"\"}},\"type\":\"scattercarpet\"}],\"scattergeo\":[{\"marker\":{\"colorbar\":{\"outlinewidth\":0,\"ticks\":\"\"}},\"type\":\"scattergeo\"}],\"scattergl\":[{\"marker\":{\"colorbar\":{\"outlinewidth\":0,\"ticks\":\"\"}},\"type\":\"scattergl\"}],\"scattermapbox\":[{\"marker\":{\"colorbar\":{\"outlinewidth\":0,\"ticks\":\"\"}},\"type\":\"scattermapbox\"}],\"scatterpolar\":[{\"marker\":{\"colorbar\":{\"outlinewidth\":0,\"ticks\":\"\"}},\"type\":\"scatterpolar\"}],\"scatterpolargl\":[{\"marker\":{\"colorbar\":{\"outlinewidth\":0,\"ticks\":\"\"}},\"type\":\"scatterpolargl\"}],\"scatterternary\":[{\"marker\":{\"colorbar\":{\"outlinewidth\":0,\"ticks\":\"\"}},\"type\":\"scatterternary\"}],\"surface\":[{\"colorbar\":{\"outlinewidth\":0,\"ticks\":\"\"},\"colorscale\":[[0.0,\"#0d0887\"],[0.1111111111111111,\"#46039f\"],[0.2222222222222222,\"#7201a8\"],[0.3333333333333333,\"#9c179e\"],[0.4444444444444444,\"#bd3786\"],[0.5555555555555556,\"#d8576b\"],[0.6666666666666666,\"#ed7953\"],[0.7777777777777778,\"#fb9f3a\"],[0.8888888888888888,\"#fdca26\"],[1.0,\"#f0f921\"]],\"type\":\"surface\"}],\"table\":[{\"cells\":{\"fill\":{\"color\":\"#EBF0F8\"},\"line\":{\"color\":\"white\"}},\"header\":{\"fill\":{\"color\":\"#C8D4E3\"},\"line\":{\"color\":\"white\"}},\"type\":\"table\"}]},\"layout\":{\"annotationdefaults\":{\"arrowcolor\":\"#2a3f5f\",\"arrowhead\":0,\"arrowwidth\":1},\"autotypenumbers\":\"strict\",\"coloraxis\":{\"colorbar\":{\"outlinewidth\":0,\"ticks\":\"\"}},\"colorscale\":{\"diverging\":[[0,\"#8e0152\"],[0.1,\"#c51b7d\"],[0.2,\"#de77ae\"],[0.3,\"#f1b6da\"],[0.4,\"#fde0ef\"],[0.5,\"#f7f7f7\"],[0.6,\"#e6f5d0\"],[0.7,\"#b8e186\"],[0.8,\"#7fbc41\"],[0.9,\"#4d9221\"],[1,\"#276419\"]],\"sequential\":[[0.0,\"#0d0887\"],[0.1111111111111111,\"#46039f\"],[0.2222222222222222,\"#7201a8\"],[0.3333333333333333,\"#9c179e\"],[0.4444444444444444,\"#bd3786\"],[0.5555555555555556,\"#d8576b\"],[0.6666666666666666,\"#ed7953\"],[0.7777777777777778,\"#fb9f3a\"],[0.8888888888888888,\"#fdca26\"],[1.0,\"#f0f921\"]],\"sequentialminus\":[[0.0,\"#0d0887\"],[0.1111111111111111,\"#46039f\"],[0.2222222222222222,\"#7201a8\"],[0.3333333333333333,\"#9c179e\"],[0.4444444444444444,\"#bd3786\"],[0.5555555555555556,\"#d8576b\"],[0.6666666666666666,\"#ed7953\"],[0.7777777777777778,\"#fb9f3a\"],[0.8888888888888888,\"#fdca26\"],[1.0,\"#f0f921\"]]},\"colorway\":[\"#636efa\",\"#EF553B\",\"#00cc96\",\"#ab63fa\",\"#FFA15A\",\"#19d3f3\",\"#FF6692\",\"#B6E880\",\"#FF97FF\",\"#FECB52\"],\"font\":{\"color\":\"#2a3f5f\"},\"geo\":{\"bgcolor\":\"white\",\"lakecolor\":\"white\",\"landcolor\":\"#E5ECF6\",\"showlakes\":true,\"showland\":true,\"subunitcolor\":\"white\"},\"hoverlabel\":{\"align\":\"left\"},\"hovermode\":\"closest\",\"mapbox\":{\"style\":\"light\"},\"paper_bgcolor\":\"white\",\"plot_bgcolor\":\"#E5ECF6\",\"polar\":{\"angularaxis\":{\"gridcolor\":\"white\",\"linecolor\":\"white\",\"ticks\":\"\"},\"bgcolor\":\"#E5ECF6\",\"radialaxis\":{\"gridcolor\":\"white\",\"linecolor\":\"white\",\"ticks\":\"\"}},\"scene\":{\"xaxis\":{\"backgroundcolor\":\"#E5ECF6\",\"gridcolor\":\"white\",\"gridwidth\":2,\"linecolor\":\"white\",\"showbackground\":true,\"ticks\":\"\",\"zerolinecolor\":\"white\"},\"yaxis\":{\"backgroundcolor\":\"#E5ECF6\",\"gridcolor\":\"white\",\"gridwidth\":2,\"linecolor\":\"white\",\"showbackground\":true,\"ticks\":\"\",\"zerolinecolor\":\"white\"},\"zaxis\":{\"backgroundcolor\":\"#E5ECF6\",\"gridcolor\":\"white\",\"gridwidth\":2,\"linecolor\":\"white\",\"showbackground\":true,\"ticks\":\"\",\"zerolinecolor\":\"white\"}},\"shapedefaults\":{\"line\":{\"color\":\"#2a3f5f\"}},\"ternary\":{\"aaxis\":{\"gridcolor\":\"white\",\"linecolor\":\"white\",\"ticks\":\"\"},\"baxis\":{\"gridcolor\":\"white\",\"linecolor\":\"white\",\"ticks\":\"\"},\"bgcolor\":\"#E5ECF6\",\"caxis\":{\"gridcolor\":\"white\",\"linecolor\":\"white\",\"ticks\":\"\"}},\"title\":{\"x\":0.05},\"xaxis\":{\"automargin\":true,\"gridcolor\":\"white\",\"linecolor\":\"white\",\"ticks\":\"\",\"title\":{\"standoff\":15},\"zerolinecolor\":\"white\",\"zerolinewidth\":2},\"yaxis\":{\"automargin\":true,\"gridcolor\":\"white\",\"linecolor\":\"white\",\"ticks\":\"\",\"title\":{\"standoff\":15},\"zerolinecolor\":\"white\",\"zerolinewidth\":2}}},\"xaxis\":{\"anchor\":\"y\",\"domain\":[0.0,1.0],\"scaleanchor\":\"y\",\"constrain\":\"domain\"},\"yaxis\":{\"anchor\":\"x\",\"domain\":[0.0,1.0],\"autorange\":\"reversed\",\"constrain\":\"domain\"},\"coloraxis\":{\"colorbar\":{\"title\":{\"text\":\"Similarity Score\"}},\"colorscale\":[[0.0,\"rgb(247,252,240)\"],[0.125,\"rgb(224,243,219)\"],[0.25,\"rgb(204,235,197)\"],[0.375,\"rgb(168,221,181)\"],[0.5,\"rgb(123,204,196)\"],[0.625,\"rgb(78,179,211)\"],[0.75,\"rgb(43,140,190)\"],[0.875,\"rgb(8,104,172)\"],[1.0,\"rgb(8,64,129)\"]]},\"margin\":{\"t\":60},\"title\":{\"font\":{\"size\":22,\"color\":\"Black\"},\"text\":\"<b>Similarity Matrix\",\"y\":0.95,\"x\":0.55,\"xanchor\":\"center\",\"yanchor\":\"top\"},\"hoverlabel\":{\"font\":{\"size\":16,\"family\":\"Rockwell\"},\"bgcolor\":\"white\"},\"width\":800,\"height\":800,\"showlegend\":true,\"legend\":{\"title\":{\"text\":\"Trend\"}}},                        {\"responsive\": true}                    ).then(function(){\n",
              "                            \n",
              "var gd = document.getElementById('0c913cf2-109a-4719-95b6-15cf29929e01');\n",
              "var x = new MutationObserver(function (mutations, observer) {{\n",
              "        var display = window.getComputedStyle(gd).display;\n",
              "        if (!display || display === 'none') {{\n",
              "            console.log([gd, 'removed!']);\n",
              "            Plotly.purge(gd);\n",
              "            observer.disconnect();\n",
              "        }}\n",
              "}});\n",
              "\n",
              "// Listen for the removal of the full notebook cells\n",
              "var notebookContainer = gd.closest('#notebook-container');\n",
              "if (notebookContainer) {{\n",
              "    x.observe(notebookContainer, {childList: true});\n",
              "}}\n",
              "\n",
              "// Listen for the clearing of the current output cell\n",
              "var outputEl = gd.closest('.output');\n",
              "if (outputEl) {{\n",
              "    x.observe(outputEl, {childList: true});\n",
              "}}\n",
              "\n",
              "                        })                };                            </script>        </div>\n",
              "</body>\n",
              "</html>"
            ]
          },
          "metadata": {}
        }
      ]
    },
    {
      "cell_type": "markdown",
      "source": [
        "#### **Save Similarity Matrix**"
      ],
      "metadata": {
        "id": "CF3QJy6epmQY"
      }
    },
    {
      "cell_type": "code",
      "source": [
        "# Set the path to save \n",
        "path = '/content/Topic-Modeling-Reclame-Aqui/results/similarity_matrix/'\n",
        "\n",
        "# Use makedirs() to create a new directory if it does not exists\n",
        "if not os.path.exists(path):\n",
        "  os.makedirs(path)\n",
        "\n",
        "\n",
        "fig.write_image(path + \"sm_preprocessed_lemma.png\", format=\"png\")"
      ],
      "metadata": {
        "id": "VQOAZurPprA4"
      },
      "execution_count": 83,
      "outputs": []
    },
    {
      "cell_type": "markdown",
      "source": [
        "[Github link](https://github.com/punkmic/Topic-Modeling-Reclame-Aqui/blob/master/results/similarity_matrix/sm_preprocessed_lemma.png?raw=true)"
      ],
      "metadata": {
        "id": "y1pa1kWApYgp"
      }
    },
    {
      "cell_type": "markdown",
      "source": [
        "### **Visualize Term Score Decline**\n",
        "\n",
        "Topics are represented by a number of words starting with the best representative word. Each word is represented by a c-TF-IDF score. The higher the score, the more representative a word to the topic is. Since the topic words are sorted by their c-TF-IDF score, the scores slowly decline with each word that is added."
      ],
      "metadata": {
        "id": "vd41xsx7Xhgj"
      }
    },
    {
      "cell_type": "code",
      "source": [
        "fig = topic_model.visualize_term_rank()\n",
        "fig"
      ],
      "metadata": {
        "id": "Rw1wXTEtX967",
        "outputId": "d2b99009-3e67-4dd3-d61f-e841f7b51aa8",
        "colab": {
          "base_uri": "https://localhost:8080/",
          "height": 517
        }
      },
      "execution_count": 51,
      "outputs": [
        {
          "output_type": "display_data",
          "data": {
            "text/html": [
              "<html>\n",
              "<head><meta charset=\"utf-8\" /></head>\n",
              "<body>\n",
              "    <div>            <script src=\"https://cdnjs.cloudflare.com/ajax/libs/mathjax/2.7.5/MathJax.js?config=TeX-AMS-MML_SVG\"></script><script type=\"text/javascript\">if (window.MathJax) {MathJax.Hub.Config({SVG: {font: \"STIX-Web\"}});}</script>                <script type=\"text/javascript\">window.PlotlyConfig = {MathJaxConfig: 'local'};</script>\n",
              "        <script src=\"https://cdn.plot.ly/plotly-2.8.3.min.js\"></script>                <div id=\"fe01f5d9-bd0b-4fcd-afc0-ba5807805945\" class=\"plotly-graph-div\" style=\"height:500px; width:800px;\"></div>            <script type=\"text/javascript\">                                    window.PLOTLYENV=window.PLOTLYENV || {};                                    if (document.getElementById(\"fe01f5d9-bd0b-4fcd-afc0-ba5807805945\")) {                    Plotly.newPlot(                        \"fe01f5d9-bd0b-4fcd-afc0-ba5807805945\",                        [{\"hovertext\":\"<b>Topic -1</b>:entregar_pedir_produto_compra_cont\",\"line\":{\"color\":\"black\",\"width\":1.5},\"mode\":\"lines+lines\",\"name\":\"\",\"opacity\":0.1,\"x\":[1,2,3,4,5,6,7,8,9,10],\"y\":[0.010140152782070599,0.00971198605249369,0.00959796952068042,0.008740807435774144,0.008110140958105957,0.007960105534478807,0.007330459338738566,0.00730297239399308,0.007259561841758234,0.007257954911981656],\"type\":\"scatter\"},{\"hovertext\":\"<b>Topic 0</b>:cart\\u00e3o_cr\\u00e9dito_cobran\\u00e7a_cobrar_valo\",\"line\":{\"color\":\"black\",\"width\":1.5},\"mode\":\"lines+lines\",\"name\":\"\",\"opacity\":0.1,\"x\":[1,2,3,4,5,6,7,8,9,10],\"y\":[0.055043277403953185,0.02979349322344244,0.02153946577247617,0.01908109858728945,0.017324214144042543,0.016869889599734397,0.01675435481895409,0.01573841088485844,0.014450931952660383,0.013226467445292277],\"type\":\"scatter\"},{\"hovertext\":\"<b>Topic 1</b>:celular_aparelho_smartphone_comprar\",\"line\":{\"color\":\"black\",\"width\":1.5},\"mode\":\"lines+lines\",\"name\":\"\",\"opacity\":0.1,\"x\":[1,2,3,4,5,6,7,8,9,10],\"y\":[0.04254527767586973,0.01985330033722589,0.014296072032413436,0.011380728786333139,0.009934657226752271,0.00970604109265496,0.00920475222844471,0.009063513158095147,0.008828793322756816,0.008543352212944158],\"type\":\"scatter\"},{\"hovertext\":\"<b>Topic 2</b>:dinheiro_reembolso_valor_recebi_dev\",\"line\":{\"color\":\"black\",\"width\":1.5},\"mode\":\"lines+lines\",\"name\":\"\",\"opacity\":0.1,\"x\":[1,2,3,4,5,6,7,8,9,10],\"y\":[0.02472536690029429,0.023632926529111517,0.019284983431107135,0.01798501257727386,0.01610540325825998,0.01602016785089021,0.015148811654934365,0.015010458736513637,0.014390898608762045,0.013960802626571197],\"type\":\"scatter\"},{\"hovertext\":\"<b>Topic 3</b>:whatsapp_contato_entregar_atendimen\",\"line\":{\"color\":\"black\",\"width\":1.5},\"mode\":\"lines+lines\",\"name\":\"\",\"opacity\":0.1,\"x\":[1,2,3,4,5,6,7,8,9,10],\"y\":[0.04711370128691659,0.014754473882864976,0.010947198444501755,0.010800334488541797,0.01067386674940999,0.010316161401692772,0.010225422395128752,0.01000203600883317,0.009454314335502896,0.00868927396863328],\"type\":\"scatter\"},{\"hovertext\":\"<b>Topic 4</b>:brasil_brasileiro_chegar_pedir_comp\",\"line\":{\"color\":\"black\",\"width\":1.5},\"mode\":\"lines+lines\",\"name\":\"\",\"opacity\":0.1,\"x\":[1,2,3,4,5,6,7,8,9,10],\"y\":[0.04726594732267056,0.01262592888886956,0.0094156934758839,0.009052454884123623,0.008245495031549897,0.007948231168807138,0.0076984857757554205,0.007570823900147508,0.007425700877006144,0.00736290367027966],\"type\":\"scatter\"},{\"hovertext\":\"<b>Topic 5</b>:roupa_cal\\u00e7a_vestir_tamanho_camisa_d\",\"line\":{\"color\":\"black\",\"width\":1.5},\"mode\":\"lines+lines\",\"name\":\"\",\"opacity\":0.1,\"x\":[1,2,3,4,5,6,7,8,9,10],\"y\":[0.059609415786650154,0.04531961922683733,0.04439581322599637,0.02010304875107994,0.019402398538071366,0.018936425615792125,0.016801294224226715,0.016419846071252877,0.016308453151163402,0.014782779838530566],\"type\":\"scatter\"},{\"hovertext\":\"<b>Topic 6</b>:loja_magalu_poder_contato_entrar_qu\",\"line\":{\"color\":\"black\",\"width\":1.5},\"mode\":\"lines+lines\",\"name\":\"\",\"opacity\":0.1,\"x\":[1,2,3,4,5,6,7,8,9,10],\"y\":[0.010933947636867617,0.01092263176728867,0.008529042414178341,0.00834187063796202,0.008300205550733665,0.008118983385122831,0.007955058900093601,0.007840474090876043,0.007654277637238981,0.007505977852202546],\"type\":\"scatter\"},{\"hovertext\":\"<b>Topic 7</b>:novembro_dezembro_outubro_chegar_en\",\"line\":{\"color\":\"black\",\"width\":1.5},\"mode\":\"lines+lines\",\"name\":\"\",\"opacity\":0.1,\"x\":[1,2,3,4,5,6,7,8,9,10],\"y\":[0.07911420602283345,0.037492265005309354,0.02980554020622556,0.02164609414818714,0.019517567133408246,0.016695820281801207,0.016232486847332292,0.0156686588825589,0.015277041924975976,0.014717904774716727],\"type\":\"scatter\"},{\"hovertext\":\"<b>Topic 8</b>:iphone_aparelho_celular_carregador_\",\"line\":{\"color\":\"black\",\"width\":1.5},\"mode\":\"lines+lines\",\"name\":\"\",\"opacity\":0.1,\"x\":[1,2,3,4,5,6,7,8,9,10],\"y\":[0.07023112889346413,0.02188868081188561,0.013220058109695317,0.012756972786685021,0.010813677468586077,0.010518032525817268,0.009972947032917403,0.009926110701753265,0.009685158236759037,0.00925137450707388],\"type\":\"scatter\"},{\"hovertext\":\"<b>Topic 9</b>:black_friday_promo\\u00e7\\u00e3o_oferta_descon\",\"line\":{\"color\":\"black\",\"width\":1.5},\"mode\":\"lines+lines\",\"name\":\"\",\"opacity\":0.1,\"x\":[1,2,3,4,5,6,7,8,9,10],\"y\":[0.04124333911720998,0.03650494504997277,0.02139667873681984,0.01786169230448186,0.016113866428915914,0.01353911523853416,0.013077074792163213,0.012615936694893871,0.01232635177338802,0.011958358562929459],\"type\":\"scatter\"},{\"hovertext\":\"<b>Topic 10</b>:pedir_entregar_encomenda_recebi_sa\",\"line\":{\"color\":\"black\",\"width\":1.5},\"mode\":\"lines+lines\",\"name\":\"\",\"opacity\":0.1,\"x\":[1,2,3,4,5,6,7,8,9,10],\"y\":[0.036044611242120356,0.03281818344544378,0.03096526446487789,0.027015143063961616,0.025908216911522657,0.022294337558105993,0.021685014655456816,0.02023845794226191,0.018470607994500215,0.01779951225842306],\"type\":\"scatter\"},{\"hovertext\":\"<b>Topic 11</b>:cancelamento_cancelar_pedir_solici\",\"line\":{\"color\":\"black\",\"width\":1.5},\"mode\":\"lines+lines\",\"name\":\"\",\"opacity\":0.1,\"x\":[1,2,3,4,5,6,7,8,9,10],\"y\":[0.056255080186025284,0.04356502713441196,0.020499049889190286,0.019686638339133658,0.014205171103761044,0.012322912404113756,0.012252343476013564,0.011885278272916085,0.011743950995701835,0.011226086861542984],\"type\":\"scatter\"},{\"hovertext\":\"<b>Topic 12</b>:geladeira_refrigerador_geladeiro_t\",\"line\":{\"color\":\"black\",\"width\":1.5},\"mode\":\"lines+lines\",\"name\":\"\",\"opacity\":0.1,\"x\":[1,2,3,4,5,6,7,8,9,10],\"y\":[0.10985818122310789,0.028863983474089527,0.02231433766705945,0.018115833551207557,0.015238987032598093,0.014254366846524154,0.013029829754252325,0.012779028631602437,0.012581120862581363,0.012120665717108962],\"type\":\"scatter\"},{\"hovertext\":\"<b>Topic 13</b>:email_conta_senha_contar_acessar_a\",\"line\":{\"color\":\"black\",\"width\":1.5},\"mode\":\"lines+lines\",\"name\":\"\",\"opacity\":0.1,\"x\":[1,2,3,4,5,6,7,8,9,10],\"y\":[0.05898708952110246,0.05253955449483411,0.052032031921868865,0.04390172054902103,0.03750036427425564,0.03665280455952116,0.03577581792956464,0.026499611066220275,0.019688482937479178,0.019112986279345868],\"type\":\"scatter\"},{\"hovertext\":\"<b>Topic 14</b>:jogo_lan\\u00e7amento_ragnarok_pr\\u00e9venda_\",\"line\":{\"color\":\"black\",\"width\":1.5},\"mode\":\"lines+lines\",\"name\":\"\",\"opacity\":0.1,\"x\":[1,2,3,4,5,6,7,8,9,10],\"y\":[0.10900031651309573,0.06843438577876308,0.04096964359069177,0.028030832054495202,0.022523560834776146,0.018934747315686257,0.016865217536240082,0.016477137635918692,0.01581108928148016,0.015591923301687178],\"type\":\"scatter\"},{\"hovertext\":\"<b>Topic 15</b>:reclama\\u00e7\\u00e3o_produto_comprador_vende\",\"line\":{\"color\":\"black\",\"width\":1.5},\"mode\":\"lines+lines\",\"name\":\"\",\"opacity\":0.1,\"x\":[1,2,3,4,5,6,7,8,9,10],\"y\":[0.02209062876127772,0.021294242254510064,0.019631547390079804,0.01827343543123883,0.015306525593552072,0.014041945167803849,0.013568749921824488,0.012973264772339269,0.012475124674998011,0.0117766785320361],\"type\":\"scatter\"},{\"hovertext\":\"<b>Topic 16</b>:site_gr\\u00e1tis_valor_frete_anunciar_a\",\"line\":{\"color\":\"black\",\"width\":1.5},\"mode\":\"lines+lines\",\"name\":\"\",\"opacity\":0.1,\"x\":[1,2,3,4,5,6,7,8,9,10],\"y\":[0.0312099102239218,0.028987620915419593,0.025611475027458117,0.024997602389506723,0.022182964979651155,0.022168280737501357,0.02035163205838081,0.019125914041568937,0.017946311110768547,0.017197497147859928],\"type\":\"scatter\"},{\"hovertext\":\"<b>Topic 17</b>:prazo_entregar_dia_atraso_produto_\",\"line\":{\"color\":\"black\",\"width\":1.5},\"mode\":\"lines+lines\",\"name\":\"\",\"opacity\":0.1,\"x\":[1,2,3,4,5,6,7,8,9,10],\"y\":[0.02291884477300925,0.017536882122753963,0.01683191399131949,0.016490755621638997,0.016213768060602207,0.014069196127905656,0.01368051129715595,0.0132179060128351,0.012835226329914531,0.01103344561817996],\"type\":\"scatter\"},{\"hovertext\":\"<b>Topic 18</b>:contato_produto_empresa_endere\\u00e7o_p\",\"line\":{\"color\":\"black\",\"width\":1.5},\"mode\":\"lines+lines\",\"name\":\"\",\"opacity\":0.1,\"x\":[1,2,3,4,5,6,7,8,9,10],\"y\":[0.017863016255102386,0.017166305157674366,0.016234220457046984,0.015342168958668056,0.013780282335498377,0.013659235394461195,0.013523438733154447,0.012685620416328564,0.01234948701150265,0.012251069190482293],\"type\":\"scatter\"},{\"hovertext\":\"<b>Topic 19</b>:livro_compr_hoje_dois_entregar_pag\",\"line\":{\"color\":\"black\",\"width\":1.5},\"mode\":\"lines+lines\",\"name\":\"\",\"opacity\":0.1,\"x\":[1,2,3,4,5,6,7,8,9,10],\"y\":[0.1656330288494479,0.012477798066158008,0.012292542849046139,0.012270310520218413,0.011962860126453428,0.01143448082491126,0.010810380050206602,0.009698802369160445,0.009549129802275867,0.009419673224047314],\"type\":\"scatter\"},{\"hovertext\":\"<b>Topic 20</b>:previs\\u00e3o_entregar_prazo_produto_tr\",\"line\":{\"color\":\"black\",\"width\":1.5},\"mode\":\"lines+lines\",\"name\":\"\",\"opacity\":0.1,\"x\":[1,2,3,4,5,6,7,8,9,10],\"y\":[0.05529397361242253,0.020613187617468894,0.01701046940521573,0.016516164281139716,0.01598077358800042,0.01590807026403286,0.01510416672724629,0.0147948601492126,0.014389936807003356,0.013522818420382872],\"type\":\"scatter\"},{\"hovertext\":\"<b>Topic 21</b>:rob\\u00f4_aspirador_macac\\u00e3o_tentar_supo\",\"line\":{\"color\":\"black\",\"width\":1.5},\"mode\":\"lines+lines\",\"name\":\"\",\"opacity\":0.1,\"x\":[1,2,3,4,5,6,7,8,9,10],\"y\":[0.09746419428587666,0.028218475347156605,0.027952799216140124,0.01700439974869292,0.016193881503628077,0.015529332897855621,0.014215413799490657,0.013058479502644504,0.012518007088776567,0.012440692272039885],\"type\":\"scatter\"},{\"hovertext\":\"<b>Topic 22</b>:caixa_vir_garrafa_quebrar_embalage\",\"line\":{\"color\":\"black\",\"width\":1.5},\"mode\":\"lines+lines\",\"name\":\"\",\"opacity\":0.1,\"x\":[1,2,3,4,5,6,7,8,9,10],\"y\":[0.034063713598519674,0.03302866111281824,0.027552980025389105,0.02340899379965608,0.02332382319345759,0.019714204448158742,0.01955658668027598,0.018929746745964315,0.018516677173188,0.01818582313006634],\"type\":\"scatter\"},{\"hovertext\":\"<b>Topic 23</b>:absurdo_produto_querer_comprar_fre\",\"line\":{\"color\":\"black\",\"width\":1.5},\"mode\":\"lines+lines\",\"name\":\"\",\"opacity\":0.1,\"x\":[1,2,3,4,5,6,7,8,9,10],\"y\":[0.02318234205967393,0.019321718154818864,0.017989134586487113,0.016913395772650455,0.016704882055170903,0.014727760355160675,0.013928227818509746,0.013883560337096899,0.013001318875425041,0.012697316280943595],\"type\":\"scatter\"},{\"hovertext\":\"<b>Topic 24</b>:t\\u00eanis_mizuno_tenis_wave_azul_rack_\",\"line\":{\"color\":\"black\",\"width\":1.5},\"mode\":\"lines+lines\",\"name\":\"\",\"opacity\":0.1,\"x\":[1,2,3,4,5,6,7,8,9,10],\"y\":[0.13269361266160426,0.027922760644308504,0.0235204154854095,0.02164111338191755,0.018221026688956136,0.017896618562953086,0.017035321471393663,0.016940878415016295,0.01656037988507241,0.015151514049362214],\"type\":\"scatter\"},{\"hovertext\":\"<b>Topic 25</b>:cobran\\u00e7a_amazoncombr_digital_assin\",\"line\":{\"color\":\"black\",\"width\":1.5},\"mode\":\"lines+lines\",\"name\":\"\",\"opacity\":0.1,\"x\":[1,2,3,4,5,6,7,8,9,10],\"y\":[0.08495890636192774,0.07728855101242013,0.04951106876070416,0.035701387215774386,0.03444352816838325,0.034366400682429174,0.032119267449798816,0.02926277517602911,0.028109461751497162,0.0276260347063836],\"type\":\"scatter\"},{\"hovertext\":\"<b>Topic 26</b>:m\\u00e1quina_lavar_roupa_maquina_seca_c\",\"line\":{\"color\":\"black\",\"width\":1.5},\"mode\":\"lines+lines\",\"name\":\"\",\"opacity\":0.1,\"x\":[1,2,3,4,5,6,7,8,9,10],\"y\":[0.0902275820751521,0.08576760243465506,0.03297620499579627,0.02462169988577086,0.02016759927877941,0.01430245076206151,0.012742808730275265,0.012177048592061852,0.011486513749945478,0.010305009497755067],\"type\":\"scatter\"},{\"hovertext\":\"<b>Topic 27</b>:aplicativo_reembolso_compra_recebi\",\"line\":{\"color\":\"black\",\"width\":1.5},\"mode\":\"lines+lines\",\"name\":\"\",\"opacity\":0.1,\"x\":[1,2,3,4,5,6,7,8,9,10],\"y\":[0.10041109269289962,0.026289528547934395,0.022708435273247802,0.02095107091597175,0.01809393286925959,0.01768743404181795,0.017475864433223617,0.017353073574428036,0.016112969401839435,0.015138757356364687],\"type\":\"scatter\"},{\"hovertext\":\"<b>Topic 28</b>:rastreio_c\\u00f3digo_rastreamento_rastr\",\"line\":{\"color\":\"black\",\"width\":1.5},\"mode\":\"lines+lines\",\"name\":\"\",\"opacity\":0.1,\"x\":[1,2,3,4,5,6,7,8,9,10],\"y\":[0.1221273764749917,0.09890809437158828,0.08116422499888265,0.03768786630657879,0.03411665642106588,0.027954395235912238,0.026058268254182018,0.02226298216181034,0.021420575737323817,0.021204609171792455],\"type\":\"scatter\"},{\"hovertext\":\"<b>Topic 29</b>:curitiba_tr\\u00e2nsito_parado_cidade_at\",\"line\":{\"color\":\"black\",\"width\":1.5},\"mode\":\"lines+lines\",\"name\":\"\",\"opacity\":0.1,\"x\":[1,2,3,4,5,6,7,8,9,10],\"y\":[0.23560864249776226,0.04925575001908799,0.04392731641691755,0.04283402437707528,0.038663990286725014,0.03461460502491219,0.03337691247341562,0.031675130344537734,0.030922028614634472,0.029341173441354323],\"type\":\"scatter\"},{\"hovertext\":\"<b>Topic 30</b>:prime_v\\u00eddeo_assinatura_video_assis\",\"line\":{\"color\":\"black\",\"width\":1.5},\"mode\":\"lines+lines\",\"name\":\"\",\"opacity\":0.1,\"x\":[1,2,3,4,5,6,7,8,9,10],\"y\":[0.12522095937393138,0.09648513017626816,0.05866540083508614,0.0540487725578708,0.052248850010284204,0.04641481842854496,0.04519688924084005,0.03835801407621843,0.037872359705753804,0.03413271688464256],\"type\":\"scatter\"},{\"hovertext\":\"<b>Topic 31</b>:produto_juliana_fraga_m\\u00e1rcia_conta\",\"line\":{\"color\":\"black\",\"width\":1.5},\"mode\":\"lines+lines\",\"name\":\"\",\"opacity\":0.1,\"x\":[1,2,3,4,5,6,7,8,9,10],\"y\":[0.014161106728479804,0.014123183647782029,0.011731217912607696,0.010846726581374928,0.010802690910661352,0.01060024207290742,0.0102185691811687,0.009899394780882684,0.009661737204995224,0.009564580306360143],\"type\":\"scatter\"},{\"hovertext\":\"<b>Topic 32</b>:endere\\u00e7o_pedido_pedir_moro_n\\u00famero_\",\"line\":{\"color\":\"black\",\"width\":1.5},\"mode\":\"lines+lines\",\"name\":\"\",\"opacity\":0.1,\"x\":[1,2,3,4,5,6,7,8,9,10],\"y\":[0.08106595633711802,0.03003068462189988,0.029450263091321184,0.027308937772389692,0.026120503932200244,0.026025458787498842,0.02373533028063902,0.019755599456089963,0.019679252560389524,0.01900179509285876],\"type\":\"scatter\"},{\"hovertext\":\"<b>Topic 33</b>:televis\\u00e3o_monitor_televisor_defeit\",\"line\":{\"color\":\"black\",\"width\":1.5},\"mode\":\"lines+lines\",\"name\":\"\",\"opacity\":0.1,\"x\":[1,2,3,4,5,6,7,8,9,10],\"y\":[0.08110884112318016,0.05232170878462705,0.030217212878020483,0.021557553656410277,0.01641533045267872,0.01600121031564954,0.01564836581891034,0.014171573534609554,0.013518140187196692,0.012722975179696536],\"type\":\"scatter\"},{\"hovertext\":\"<b>Topic 34</b>:devolu\\u00e7\\u00e3o_postagem_solicitei_corre\",\"line\":{\"color\":\"black\",\"width\":1.5},\"mode\":\"lines+lines\",\"name\":\"\",\"opacity\":0.1,\"x\":[1,2,3,4,5,6,7,8,9,10],\"y\":[0.08490112281063573,0.051264499782688204,0.03181893669643993,0.02814746501261528,0.02402550524537307,0.02173809967369615,0.019727158656564738,0.018522495563573372,0.01848840008981753,0.0182719530066974],\"type\":\"scatter\"},{\"hovertext\":\"<b>Topic 35</b>:acessar_validar_conta_n\\u00famero_acess\",\"line\":{\"color\":\"black\",\"width\":1.5},\"mode\":\"lines+lines\",\"name\":\"\",\"opacity\":0.1,\"x\":[1,2,3,4,5,6,7,8,9,10],\"y\":[0.06231007177913824,0.051784954408050414,0.04757643171764461,0.0469168062853294,0.04513896532637058,0.041729403945901536,0.03951645709200717,0.03791535057809556,0.03132095165117903,0.031207265617727388],\"type\":\"scatter\"},{\"hovertext\":\"<b>Topic 36</b>:entregar_entregador_ligar_esperar_\",\"line\":{\"color\":\"black\",\"width\":1.5},\"mode\":\"lines+lines\",\"name\":\"\",\"opacity\":0.1,\"x\":[1,2,3,4,5,6,7,8,9,10],\"y\":[0.023629562484149477,0.02171567716206597,0.01785213609272342,0.016965663383729995,0.015983546579844802,0.015014241614160187,0.01461648236680205,0.014056492562357475,0.013855015000967518,0.013329259390700248],\"type\":\"scatter\"},{\"hovertext\":\"<b>Topic 37</b>:notebook_dell_intel_core_loja_reti\",\"line\":{\"color\":\"black\",\"width\":1.5},\"mode\":\"lines+lines\",\"name\":\"\",\"opacity\":0.1,\"x\":[1,2,3,4,5,6,7,8,9,10],\"y\":[0.09646922315252482,0.024464266164490798,0.01796631025958705,0.017011489067195195,0.015154763214090065,0.014521220756687143,0.01180496792063784,0.011660992532793003,0.011640014310724815,0.01142050641107481],\"type\":\"scatter\"},{\"hovertext\":\"<b>Topic 38</b>:foto_c\\u00e2merar_placa_devolu\\u00e7\\u00e3o_v\\u00eddeo\",\"line\":{\"color\":\"black\",\"width\":1.5},\"mode\":\"lines+lines\",\"name\":\"\",\"opacity\":0.1,\"x\":[1,2,3,4,5,6,7,8,9,10],\"y\":[0.041596798117558995,0.029099367150951513,0.02421716239737432,0.01748319687836877,0.01563684169487679,0.014125033401315998,0.013720353743966572,0.012796563163993106,0.012553625587448517,0.012072460848675432],\"type\":\"scatter\"},{\"hovertext\":\"<b>Topic 39</b>:transportadora_entregar_hoje_notif\",\"line\":{\"color\":\"black\",\"width\":1.5},\"mode\":\"lines+lines\",\"name\":\"\",\"opacity\":0.1,\"x\":[1,2,3,4,5,6,7,8,9,10],\"y\":[0.03793816561939635,0.022306857650525924,0.018600322135819452,0.01740712255044158,0.016357604265750572,0.015033613650752873,0.014884047470312075,0.014352704208541362,0.014190540202082725,0.013483770015814099],\"type\":\"scatter\"},{\"hovertext\":\"<b>Topic 40</b>:china_nacional_correios_chegar_bra\",\"line\":{\"color\":\"black\",\"width\":1.5},\"mode\":\"lines+lines\",\"name\":\"\",\"opacity\":0.1,\"x\":[1,2,3,4,5,6,7,8,9,10],\"y\":[0.13794742233473245,0.037189376806124726,0.022786248769391105,0.02179442513360714,0.01999831126176587,0.019332227263697623,0.017537494198284667,0.01676691145045861,0.016458079982129028,0.01531856594572822],\"type\":\"scatter\"},{\"hovertext\":\"<b>Topic 41</b>:internacional_nacional_processamen\",\"line\":{\"color\":\"black\",\"width\":1.5},\"mode\":\"lines+lines\",\"name\":\"\",\"opacity\":0.1,\"x\":[1,2,3,4,5,6,7,8,9,10],\"y\":[0.10688560589558037,0.09172245744228114,0.028668630916514858,0.025915032925616744,0.022715156043678332,0.0219596735128847,0.020848406503037598,0.019076737076499616,0.01742281404066715,0.017133503109014375],\"type\":\"scatter\"},{\"hovertext\":\"<b>Topic 42</b>:bluetooth_fone_controle_devolu\\u00e7\\u00e3o_\",\"line\":{\"color\":\"black\",\"width\":1.5},\"mode\":\"lines+lines\",\"name\":\"\",\"opacity\":0.1,\"x\":[1,2,3,4,5,6,7,8,9,10],\"y\":[0.08002666532981295,0.042268493590970325,0.019473758187771743,0.01915330890340198,0.01831251204058819,0.01720237203078177,0.016520942663609255,0.015249361158088016,0.013969259447984324,0.01392648556985345],\"type\":\"scatter\"},{\"hovertext\":\"<b>Topic 43</b>:cashback_valor_extrato_futuro_digi\",\"line\":{\"color\":\"black\",\"width\":1.5},\"mode\":\"lines+lines\",\"name\":\"\",\"opacity\":0.1,\"x\":[1,2,3,4,5,6,7,8,9,10],\"y\":[0.21518951112331877,0.045908932098368396,0.04124211296620143,0.030527221114366714,0.02478534037492374,0.024478451187885154,0.02257989181370648,0.022436418859631917,0.020921202470322656,0.020314589776489353],\"type\":\"scatter\"},{\"hovertext\":\"<b>Topic 44</b>:bicicleta_bike_compr_filho_bikes_l\",\"line\":{\"color\":\"black\",\"width\":1.5},\"mode\":\"lines+lines\",\"name\":\"\",\"opacity\":0.1,\"x\":[1,2,3,4,5,6,7,8,9,10],\"y\":[0.10176286013625004,0.028150218866067927,0.021153028764314585,0.02018676680135046,0.017425254235415643,0.016279852835104112,0.01548112901314602,0.015228685012953137,0.014436627208501368,0.013320279696763521],\"type\":\"scatter\"},{\"hovertext\":\"<b>Topic 45</b>:amazoncombr_transportadora_rem\\u00e9dio\",\"line\":{\"color\":\"black\",\"width\":1.5},\"mode\":\"lines+lines\",\"name\":\"\",\"opacity\":0.1,\"x\":[1,2,3,4,5,6,7,8,9,10],\"y\":[0.03249384157067497,0.02064696248619161,0.01933298999863362,0.016452004800254168,0.015432295212571176,0.015120552461895424,0.014197952811071968,0.014043969315927033,0.013012489600228062,0.012257886558146433],\"type\":\"scatter\"},{\"hovertext\":\"<b>Topic 46</b>:cadeira_montar_cadeiro_gamer_pe\\u00e7a_\",\"line\":{\"color\":\"black\",\"width\":1.5},\"mode\":\"lines+lines\",\"name\":\"\",\"opacity\":0.1,\"x\":[1,2,3,4,5,6,7,8,9,10],\"y\":[0.21418464426126044,0.02827385207469852,0.024457598428708892,0.021250050437399134,0.018434397477647396,0.018029900983786207,0.017286958566880603,0.017075496236145855,0.016967885172803773,0.016693543904640368],\"type\":\"scatter\"},{\"hovertext\":\"<b>Topic 47</b>:ningu\\u00e9m_nada_ra\\u00e7\\u00e3o_mensagem_chegar\",\"line\":{\"color\":\"black\",\"width\":1.5},\"mode\":\"lines+lines\",\"name\":\"\",\"opacity\":0.1,\"x\":[1,2,3,4,5,6,7,8,9,10],\"y\":[0.07739992536452148,0.04115701852838046,0.038744650136316484,0.035422040075255436,0.03521815771004432,0.034354846023417214,0.03214232618785728,0.03050525087387159,0.029989853254035845,0.029787134613832027],\"type\":\"scatter\"},{\"hovertext\":\"<b>Topic 48</b>:reconhecimento_facial_rosto_senha_\",\"line\":{\"color\":\"black\",\"width\":1.5},\"mode\":\"lines+lines\",\"name\":\"\",\"opacity\":0.1,\"x\":[1,2,3,4,5,6,7,8,9,10],\"y\":[0.15420874212862806,0.15160935834566044,0.07180104837333284,0.04695730288257548,0.04136357052527978,0.037869365978663166,0.03559811232363458,0.027451515305144395,0.02646241988445429,0.025567087732568453],\"type\":\"scatter\"},{\"hovertext\":\"<b>Topic 49</b>:m\\u00fasica_music_ouvir_tocar_m\\u00fasico_pr\",\"line\":{\"color\":\"black\",\"width\":1.5},\"mode\":\"lines+lines\",\"name\":\"\",\"opacity\":0.1,\"x\":[1,2,3,4,5,6,7,8,9,10],\"y\":[0.13517340868589658,0.1158838531924827,0.07041213570652653,0.06151309934582789,0.054803481827069456,0.051751835608414454,0.04610712050623871,0.043641848404961825,0.03695888646898744,0.035612747232134465],\"type\":\"scatter\"},{\"hovertext\":\"<b>Topic 50</b>:pneu_pastilha_coleta_pirelli_dur\\u00e1v\",\"line\":{\"color\":\"black\",\"width\":1.5},\"mode\":\"lines+lines\",\"name\":\"\",\"opacity\":0.1,\"x\":[1,2,3,4,5,6,7,8,9,10],\"y\":[0.20014352375470332,0.03353912124976328,0.028483123010298053,0.02395763307750462,0.023466617883981758,0.022813391410471385,0.020918302942235817,0.018537504505761325,0.018537504505761325,0.01665982160993763],\"type\":\"scatter\"},{\"hovertext\":\"<b>Topic 51</b>:sof\\u00e1_mobly_magalu_reclin\\u00e1vel_tecid\",\"line\":{\"color\":\"black\",\"width\":1.5},\"mode\":\"lines+lines\",\"name\":\"\",\"opacity\":0.1,\"x\":[1,2,3,4,5,6,7,8,9,10],\"y\":[0.15090312828207963,0.030073385073561245,0.025614697538804024,0.01766857937786064,0.015311075850655487,0.0150230801073527,0.014590262184152734,0.014213028873030187,0.013663112813027217,0.013603520714916847],\"type\":\"scatter\"},{\"hovertext\":\"<b>Topic 52</b>:cama_comprei_colch\\u00e3o_edredom_ch\\u00e3o_\",\"line\":{\"color\":\"black\",\"width\":1.5},\"mode\":\"lines+lines\",\"name\":\"\",\"opacity\":0.1,\"x\":[1,2,3,4,5,6,7,8,9,10],\"y\":[0.18157915235810837,0.042854890523064446,0.03905489738366546,0.029446146826794594,0.026975231113519463,0.02562319081175023,0.02408613482441046,0.02373256509585193,0.021211514540180294,0.020613408223449276],\"type\":\"scatter\"},{\"hovertext\":\"<b>Topic 53</b>:novembro_mesa_reclamacao_retirar_r\",\"line\":{\"color\":\"black\",\"width\":1.5},\"mode\":\"lines+lines\",\"name\":\"\",\"opacity\":0.1,\"x\":[1,2,3,4,5,6,7,8,9,10],\"y\":[0.01875153007166143,0.016276217688922005,0.015770019430614866,0.015365717282962564,0.014775770040275717,0.013914628713676859,0.013731484819082462,0.013021967675724902,0.012965312148671259,0.012965312148671259],\"type\":\"scatter\"},{\"hovertext\":\"<b>Topic 54</b>:express_cidade_transportadora_tota\",\"line\":{\"color\":\"black\",\"width\":1.5},\"mode\":\"lines+lines\",\"name\":\"\",\"opacity\":0.1,\"x\":[1,2,3,4,5,6,7,8,9,10],\"y\":[0.07938158650833106,0.07043469945216556,0.04347081477222498,0.042055503991501174,0.03699930074613308,0.021191915253634657,0.020544431885645368,0.019351139529344117,0.01766550510484149,0.017541507474235715],\"type\":\"scatter\"},{\"hovertext\":\"<b>Topic 55</b>:cancelar_reembolso_cancelamento_qu\",\"line\":{\"color\":\"black\",\"width\":1.5},\"mode\":\"lines+lines\",\"name\":\"\",\"opacity\":0.1,\"x\":[1,2,3,4,5,6,7,8,9,10],\"y\":[0.037406910948240904,0.03179332189884421,0.031203596162358755,0.02787025162291255,0.02726626113264465,0.023461665172640957,0.02317085624796797,0.022147138841799762,0.021484374680355522,0.021447997857229974],\"type\":\"scatter\"},{\"hovertext\":\"<b>Topic 56</b>:forno_electrolux_fogao_fog\\u00e3o_embut\",\"line\":{\"color\":\"black\",\"width\":1.5},\"mode\":\"lines+lines\",\"name\":\"\",\"opacity\":0.1,\"x\":[1,2,3,4,5,6,7,8,9,10],\"y\":[0.11652673963250532,0.040798928750202565,0.03581022243200914,0.033627296721124994,0.02685766682400685,0.026032878112886494,0.024245628564367037,0.022421244594081284,0.021065301513903022,0.019613608746141632],\"type\":\"scatter\"},{\"hovertext\":\"<b>Topic 57</b>:abrir_vendedor_entrar_entregar_vib\",\"line\":{\"color\":\"black\",\"width\":1.5},\"mode\":\"lines+lines\",\"name\":\"\",\"opacity\":0.1,\"x\":[1,2,3,4,5,6,7,8,9,10],\"y\":[0.017299325227538395,0.017219220482350837,0.015826812375874393,0.015420126940399197,0.014829133536218102,0.014753997847801526,0.014446868128068693,0.014069224616823079,0.014047647449568825,0.013468386637740526],\"type\":\"scatter\"},{\"hovertext\":\"<b>Topic 58</b>:pagamento_paguei_boleto_pagar_efet\",\"line\":{\"color\":\"black\",\"width\":1.5},\"mode\":\"lines+lines\",\"name\":\"\",\"opacity\":0.1,\"x\":[1,2,3,4,5,6,7,8,9,10],\"y\":[0.06950366672498544,0.03986039189101474,0.03756106017635576,0.03471305888819799,0.022980915427021707,0.022449234532910003,0.021408556780212938,0.01990711044693153,0.018878292185288702,0.018819574663611626],\"type\":\"scatter\"},{\"hovertext\":\"<b>Topic 59</b>:liquidificador_oster_tampa_multipr\",\"line\":{\"color\":\"black\",\"width\":1.5},\"mode\":\"lines+lines\",\"name\":\"\",\"opacity\":0.1,\"x\":[1,2,3,4,5,6,7,8,9,10],\"y\":[0.13506564821754816,0.029905008854220615,0.02639179736170034,0.026165682437442474,0.02557799132376324,0.025391274637476903,0.024268961606227414,0.02193933451327019,0.021072378798428923,0.019206180585076373],\"type\":\"scatter\"},{\"hovertext\":\"<b>Topic 60</b>:microondas_eletrotrader_microondo_\",\"line\":{\"color\":\"black\",\"width\":1.5},\"mode\":\"lines+lines\",\"name\":\"\",\"opacity\":0.1,\"x\":[1,2,3,4,5,6,7,8,9,10],\"y\":[0.17092796589223974,0.022372203506499103,0.020423410965091007,0.02004440325679487,0.01915287158303392,0.018320312409484063,0.01784792034198501,0.01708267648623521,0.016621161556175934,0.016554351709940074],\"type\":\"scatter\"},{\"hovertext\":\"<b>Topic 61</b>:perfume_embalagem_refresh_comfort_\",\"line\":{\"color\":\"black\",\"width\":1.5},\"mode\":\"lines+lines\",\"name\":\"\",\"opacity\":0.1,\"x\":[1,2,3,4,5,6,7,8,9,10],\"y\":[0.18817996981730553,0.04022433952332011,0.03594299509492865,0.034573917133761206,0.0342385907604396,0.03201066613192518,0.029916473564092026,0.029349118114450675,0.026740965892057374,0.026155087946219492],\"type\":\"scatter\"},{\"hovertext\":\"<b>Topic 62</b>:mouse_teclado_combo_logitech_gamer\",\"line\":{\"color\":\"black\",\"width\":1.5},\"mode\":\"lines+lines\",\"name\":\"\",\"opacity\":0.1,\"x\":[1,2,3,4,5,6,7,8,9,10],\"y\":[0.16620922799268845,0.15472845550122807,0.030990404991764628,0.02577858870519041,0.019615431172983817,0.0194220228243234,0.018805120824341666,0.01843230517688648,0.017730213914749333,0.017605762080368445],\"type\":\"scatter\"},{\"hovertext\":\"<b>Topic 63</b>:esposo_marido_evid\\u00eancia_gente_rasu\",\"line\":{\"color\":\"black\",\"width\":1.5},\"mode\":\"lines+lines\",\"name\":\"\",\"opacity\":0.1,\"x\":[1,2,3,4,5,6,7,8,9,10],\"y\":[0.0781070214417263,0.028337035310414996,0.02167410528536631,0.021038490585737694,0.01975979713431163,0.018038565461092802,0.018038565461092802,0.017983331366289018,0.01659552186993174,0.016026013471165654],\"type\":\"scatter\"},{\"hovertext\":\"<b>Topic 64</b>:previs\\u00e3o_prever_vaga_envio_prazo_e\",\"line\":{\"color\":\"black\",\"width\":1.5},\"mode\":\"lines+lines\",\"name\":\"\",\"opacity\":0.1,\"x\":[1,2,3,4,5,6,7,8,9,10],\"y\":[0.05966412466361346,0.04368307220734265,0.03402297813439039,0.029453412564828682,0.028679514603766866,0.02686273896296797,0.024257154926665303,0.023180401514076805,0.023180401514076805,0.023180401514076805],\"type\":\"scatter\"},{\"hovertext\":\"<b>Topic 65</b>:pagamento_comprovante_confirmar_pa\",\"line\":{\"color\":\"black\",\"width\":1.5},\"mode\":\"lines+lines\",\"name\":\"\",\"opacity\":0.1,\"x\":[1,2,3,4,5,6,7,8,9,10],\"y\":[0.08607958724227018,0.041704724373983364,0.037476751879197544,0.03231274360225907,0.031124203253066737,0.028318857176761844,0.02815967050231872,0.02690778436002627,0.026889707922378863,0.026542656714503142],\"type\":\"scatter\"},{\"hovertext\":\"<b>Topic 66</b>:endere\\u00e7o_assinar_local_apr\\u00f2pria_de\",\"line\":{\"color\":\"black\",\"width\":1.5},\"mode\":\"lines+lines\",\"name\":\"\",\"opacity\":0.1,\"x\":[1,2,3,4,5,6,7,8,9,10],\"y\":[0.1055742687181072,0.046667169209847675,0.04507468402915497,0.03275109759375246,0.03275109759375246,0.03275109759375246,0.03275109759375246,0.03275109759375246,0.02945612132856566,0.02750197953821914],\"type\":\"scatter\"},{\"hovertext\":\"<b>Topic 67</b>:l\\u00e2mpada_lampada_l\\u00e2mpar_l\\u00e2mpado_an\\u00fa\",\"line\":{\"color\":\"black\",\"width\":1.5},\"mode\":\"lines+lines\",\"name\":\"\",\"opacity\":0.1,\"x\":[1,2,3,4,5,6,7,8,9,10],\"y\":[0.12313441292829712,0.07561931805901946,0.06167911901680884,0.06082218556613132,0.05945224538013169,0.054002671121757974,0.04370506501773347,0.03852786141433683,0.036280626333787584,0.03321475951712804],\"type\":\"scatter\"},{\"hovertext\":\"<b>Topic 68</b>:toke_entregador_imail_residencia_b\",\"line\":{\"color\":\"black\",\"width\":1.5},\"mode\":\"lines+lines\",\"name\":\"\",\"opacity\":0.1,\"x\":[1,2,3,4,5,6,7,8,9,10],\"y\":[0.022813896616150364,0.01971128433681636,0.01963912247301376,0.017926189446568007,0.016660487222758712,0.01615571594330698,0.01563980730840111,0.014175792624215798,0.013848391767135156,0.013812534958257213],\"type\":\"scatter\"},{\"hovertext\":\"<b>Topic 69</b>:aplicativo_momento_avariar_sequoia\",\"line\":{\"color\":\"black\",\"width\":1.5},\"mode\":\"lines+lines\",\"name\":\"\",\"opacity\":0.1,\"x\":[1,2,3,4,5,6,7,8,9,10],\"y\":[0.10775597817691727,0.03154499872594069,0.02975007061235879,0.02881104545318954,0.026133170948512138,0.025857319130073247,0.02542741346053623,0.024739620565361206,0.0240174715687518,0.0240174715687518],\"type\":\"scatter\"},{\"hovertext\":\"<b>Topic 70</b>:previs\\u00e3o_prazoquero_algon\\u00famero_nfc\",\"line\":{\"color\":\"black\",\"width\":1.5},\"mode\":\"lines+lines\",\"name\":\"\",\"opacity\":0.1,\"x\":[1,2,3,4,5,6,7,8,9,10],\"y\":[0.06998339150794912,0.04078438568278608,0.04078438568278608,0.04078438568278608,0.04047603246366406,0.04033854561217923,0.03751565257811524,0.03730749699922619,0.03618671994275433,0.035889983578599446],\"type\":\"scatter\"},{\"hovertext\":\"<b>Topic 71</b>:cancelar_cadastral_plano_setor_pla\",\"line\":{\"color\":\"black\",\"width\":1.5},\"mode\":\"lines+lines\",\"name\":\"\",\"opacity\":0.1,\"x\":[1,2,3,4,5,6,7,8,9,10],\"y\":[0.02964989888844779,0.029257536048903895,0.028226706849660464,0.02790055786612207,0.023359971767825248,0.020760316948835993,0.020341964478184715,0.02026499204623135,0.019106638416025928,0.01854971677125485],\"type\":\"scatter\"},{\"hovertext\":\"<b>Topic 72</b>:remetente_correios_endere\\u00e7o_reembo\",\"line\":{\"color\":\"black\",\"width\":1.5},\"mode\":\"lines+lines\",\"name\":\"\",\"opacity\":0.1,\"x\":[1,2,3,4,5,6,7,8,9,10],\"y\":[0.12356806399688101,0.057722507809174324,0.0558325459566913,0.051154639721858304,0.049285703355710524,0.04699138089245508,0.04098443667046559,0.027712467194713614,0.027712467194713614,0.027712467194713614],\"type\":\"scatter\"},{\"hovertext\":\"<b>Topic 73</b>:rastrear_rastreamento_transportado\",\"line\":{\"color\":\"black\",\"width\":1.5},\"mode\":\"lines+lines\",\"name\":\"\",\"opacity\":0.1,\"x\":[1,2,3,4,5,6,7,8,9,10],\"y\":[0.05814930445156685,0.05009191225252929,0.048796540811428514,0.03865283754177133,0.03710853976287832,0.03710853976287832,0.03710853976287832,0.03710853976287832,0.03710853976287832,0.03710853976287832],\"type\":\"scatter\"},{\"hovertext\":\"<b>Topic 74</b>:jogo_panelo_panele_panelas_tramont\",\"line\":{\"color\":\"black\",\"width\":1.5},\"mode\":\"lines+lines\",\"name\":\"\",\"opacity\":0.1,\"x\":[1,2,3,4,5,6,7,8,9,10],\"y\":[0.19629599528605052,0.11549516155797808,0.07934997374961587,0.07691316630073204,0.06648576524120269,0.055212705942293445,0.051409516620023875,0.051409516620023875,0.04724748505328223,0.04724748505328223],\"type\":\"scatter\"},{\"hovertext\":\"<b>Topic 75</b>:https_lepsably_wwwamericanasentreg\",\"line\":{\"color\":\"black\",\"width\":1.5},\"mode\":\"lines+lines\",\"name\":\"\",\"opacity\":0.1,\"x\":[1,2,3,4,5,6,7,8,9,10],\"y\":[0.16204174070267366,0.04174970260661644,0.04174970260661644,0.03962219931724417,0.03962219931724417,0.03811297951753203,0.03686751415265828,0.03154601018297826,0.029180744615704673,0.02469275995135005],\"type\":\"scatter\"},{\"hovertext\":\"<b>Topic 76</b>:shampoo_haskell_cabelo_metade_prog\",\"line\":{\"color\":\"black\",\"width\":1.5},\"mode\":\"lines+lines\",\"name\":\"\",\"opacity\":0.1,\"x\":[1,2,3,4,5,6,7,8,9,10],\"y\":[0.2424800746895697,0.05581276032673987,0.05307031490292859,0.049316808174900154,0.04810813192006967,0.045266459102766145,0.041237433262135796,0.03639289951981836,0.030337858823686486,0.030337858823686486],\"type\":\"scatter\"},{\"hovertext\":\"<b>Topic 77</b>:inicia_embrulhar_dividir_aborrecim\",\"line\":{\"color\":\"black\",\"width\":1.5},\"mode\":\"lines+lines\",\"name\":\"\",\"opacity\":0.1,\"x\":[1,2,3,4,5,6,7,8,9,10],\"y\":[0.0387966748612704,0.035417183405316355,0.034419298322430625,0.030952611814945404,0.026694003286202316,0.023754293439169762,0.023313419566505216,0.021088511621343044,0.021088511621343044,0.021088511621343044],\"type\":\"scatter\"},{\"hovertext\":\"<b>Topic 78</b>:secador_full_prazo_sempre_esperar_\",\"line\":{\"color\":\"black\",\"width\":1.5},\"mode\":\"lines+lines\",\"name\":\"\",\"opacity\":0.1,\"x\":[1,2,3,4,5,6,7,8,9,10],\"y\":[0.03527028398607963,0.03089839095576312,0.02830015594498688,0.02637653618775112,0.026112319733466546,0.025756962302374266,0.02387008467014115,0.022830069427521495,0.02199780155249071,0.020689398316595536],\"type\":\"scatter\"},{\"hovertext\":\"<b>Topic 79</b>:anivers\\u00e1rio_mosaico_presente_afilh\",\"line\":{\"color\":\"black\",\"width\":1.5},\"mode\":\"lines+lines\",\"name\":\"\",\"opacity\":0.1,\"x\":[1,2,3,4,5,6,7,8,9,10],\"y\":[0.10555504932001913,0.06186908991750012,0.05899610320091793,0.03967498687480794,0.03662291641053334,0.02620756311595013,0.023623742526641116,0.023623742526641116,0.023623742526641116,0.023623742526641116],\"type\":\"scatter\"},{\"hovertext\":\"<b>Topic 80</b>:endere\\u00e7o_resolver_smile_corro_cria\",\"line\":{\"color\":\"black\",\"width\":1.5},\"mode\":\"lines+lines\",\"name\":\"\",\"opacity\":0.1,\"x\":[1,2,3,4,5,6,7,8,9,10],\"y\":[0.030319192677747554,0.024528430835597817,0.023886167626376627,0.022270742773787915,0.022270742773787915,0.02169433164117066,0.02080998794902426,0.020785056681683466,0.020065075207444837,0.016721214054675623],\"type\":\"scatter\"},{\"hovertext\":\"<b>Topic 81</b>:echo_studio_microfone_alexa_garant\",\"line\":{\"color\":\"black\",\"width\":1.5},\"mode\":\"lines+lines\",\"name\":\"\",\"opacity\":0.1,\"x\":[1,2,3,4,5,6,7,8,9,10],\"y\":[0.0744024025323338,0.047977021573280966,0.039710451144431884,0.038608164182148734,0.03388279616141558,0.029521734479409558,0.029521734479409558,0.028934263926925007,0.028934263926925007,0.027952799216140124],\"type\":\"scatter\"}],                        {\"template\":{\"data\":{\"barpolar\":[{\"marker\":{\"line\":{\"color\":\"white\",\"width\":0.5},\"pattern\":{\"fillmode\":\"overlay\",\"size\":10,\"solidity\":0.2}},\"type\":\"barpolar\"}],\"bar\":[{\"error_x\":{\"color\":\"#2a3f5f\"},\"error_y\":{\"color\":\"#2a3f5f\"},\"marker\":{\"line\":{\"color\":\"white\",\"width\":0.5},\"pattern\":{\"fillmode\":\"overlay\",\"size\":10,\"solidity\":0.2}},\"type\":\"bar\"}],\"carpet\":[{\"aaxis\":{\"endlinecolor\":\"#2a3f5f\",\"gridcolor\":\"#C8D4E3\",\"linecolor\":\"#C8D4E3\",\"minorgridcolor\":\"#C8D4E3\",\"startlinecolor\":\"#2a3f5f\"},\"baxis\":{\"endlinecolor\":\"#2a3f5f\",\"gridcolor\":\"#C8D4E3\",\"linecolor\":\"#C8D4E3\",\"minorgridcolor\":\"#C8D4E3\",\"startlinecolor\":\"#2a3f5f\"},\"type\":\"carpet\"}],\"choropleth\":[{\"colorbar\":{\"outlinewidth\":0,\"ticks\":\"\"},\"type\":\"choropleth\"}],\"contourcarpet\":[{\"colorbar\":{\"outlinewidth\":0,\"ticks\":\"\"},\"type\":\"contourcarpet\"}],\"contour\":[{\"colorbar\":{\"outlinewidth\":0,\"ticks\":\"\"},\"colorscale\":[[0.0,\"#0d0887\"],[0.1111111111111111,\"#46039f\"],[0.2222222222222222,\"#7201a8\"],[0.3333333333333333,\"#9c179e\"],[0.4444444444444444,\"#bd3786\"],[0.5555555555555556,\"#d8576b\"],[0.6666666666666666,\"#ed7953\"],[0.7777777777777778,\"#fb9f3a\"],[0.8888888888888888,\"#fdca26\"],[1.0,\"#f0f921\"]],\"type\":\"contour\"}],\"heatmapgl\":[{\"colorbar\":{\"outlinewidth\":0,\"ticks\":\"\"},\"colorscale\":[[0.0,\"#0d0887\"],[0.1111111111111111,\"#46039f\"],[0.2222222222222222,\"#7201a8\"],[0.3333333333333333,\"#9c179e\"],[0.4444444444444444,\"#bd3786\"],[0.5555555555555556,\"#d8576b\"],[0.6666666666666666,\"#ed7953\"],[0.7777777777777778,\"#fb9f3a\"],[0.8888888888888888,\"#fdca26\"],[1.0,\"#f0f921\"]],\"type\":\"heatmapgl\"}],\"heatmap\":[{\"colorbar\":{\"outlinewidth\":0,\"ticks\":\"\"},\"colorscale\":[[0.0,\"#0d0887\"],[0.1111111111111111,\"#46039f\"],[0.2222222222222222,\"#7201a8\"],[0.3333333333333333,\"#9c179e\"],[0.4444444444444444,\"#bd3786\"],[0.5555555555555556,\"#d8576b\"],[0.6666666666666666,\"#ed7953\"],[0.7777777777777778,\"#fb9f3a\"],[0.8888888888888888,\"#fdca26\"],[1.0,\"#f0f921\"]],\"type\":\"heatmap\"}],\"histogram2dcontour\":[{\"colorbar\":{\"outlinewidth\":0,\"ticks\":\"\"},\"colorscale\":[[0.0,\"#0d0887\"],[0.1111111111111111,\"#46039f\"],[0.2222222222222222,\"#7201a8\"],[0.3333333333333333,\"#9c179e\"],[0.4444444444444444,\"#bd3786\"],[0.5555555555555556,\"#d8576b\"],[0.6666666666666666,\"#ed7953\"],[0.7777777777777778,\"#fb9f3a\"],[0.8888888888888888,\"#fdca26\"],[1.0,\"#f0f921\"]],\"type\":\"histogram2dcontour\"}],\"histogram2d\":[{\"colorbar\":{\"outlinewidth\":0,\"ticks\":\"\"},\"colorscale\":[[0.0,\"#0d0887\"],[0.1111111111111111,\"#46039f\"],[0.2222222222222222,\"#7201a8\"],[0.3333333333333333,\"#9c179e\"],[0.4444444444444444,\"#bd3786\"],[0.5555555555555556,\"#d8576b\"],[0.6666666666666666,\"#ed7953\"],[0.7777777777777778,\"#fb9f3a\"],[0.8888888888888888,\"#fdca26\"],[1.0,\"#f0f921\"]],\"type\":\"histogram2d\"}],\"histogram\":[{\"marker\":{\"pattern\":{\"fillmode\":\"overlay\",\"size\":10,\"solidity\":0.2}},\"type\":\"histogram\"}],\"mesh3d\":[{\"colorbar\":{\"outlinewidth\":0,\"ticks\":\"\"},\"type\":\"mesh3d\"}],\"parcoords\":[{\"line\":{\"colorbar\":{\"outlinewidth\":0,\"ticks\":\"\"}},\"type\":\"parcoords\"}],\"pie\":[{\"automargin\":true,\"type\":\"pie\"}],\"scatter3d\":[{\"line\":{\"colorbar\":{\"outlinewidth\":0,\"ticks\":\"\"}},\"marker\":{\"colorbar\":{\"outlinewidth\":0,\"ticks\":\"\"}},\"type\":\"scatter3d\"}],\"scattercarpet\":[{\"marker\":{\"colorbar\":{\"outlinewidth\":0,\"ticks\":\"\"}},\"type\":\"scattercarpet\"}],\"scattergeo\":[{\"marker\":{\"colorbar\":{\"outlinewidth\":0,\"ticks\":\"\"}},\"type\":\"scattergeo\"}],\"scattergl\":[{\"marker\":{\"colorbar\":{\"outlinewidth\":0,\"ticks\":\"\"}},\"type\":\"scattergl\"}],\"scattermapbox\":[{\"marker\":{\"colorbar\":{\"outlinewidth\":0,\"ticks\":\"\"}},\"type\":\"scattermapbox\"}],\"scatterpolargl\":[{\"marker\":{\"colorbar\":{\"outlinewidth\":0,\"ticks\":\"\"}},\"type\":\"scatterpolargl\"}],\"scatterpolar\":[{\"marker\":{\"colorbar\":{\"outlinewidth\":0,\"ticks\":\"\"}},\"type\":\"scatterpolar\"}],\"scatter\":[{\"marker\":{\"colorbar\":{\"outlinewidth\":0,\"ticks\":\"\"}},\"type\":\"scatter\"}],\"scatterternary\":[{\"marker\":{\"colorbar\":{\"outlinewidth\":0,\"ticks\":\"\"}},\"type\":\"scatterternary\"}],\"surface\":[{\"colorbar\":{\"outlinewidth\":0,\"ticks\":\"\"},\"colorscale\":[[0.0,\"#0d0887\"],[0.1111111111111111,\"#46039f\"],[0.2222222222222222,\"#7201a8\"],[0.3333333333333333,\"#9c179e\"],[0.4444444444444444,\"#bd3786\"],[0.5555555555555556,\"#d8576b\"],[0.6666666666666666,\"#ed7953\"],[0.7777777777777778,\"#fb9f3a\"],[0.8888888888888888,\"#fdca26\"],[1.0,\"#f0f921\"]],\"type\":\"surface\"}],\"table\":[{\"cells\":{\"fill\":{\"color\":\"#EBF0F8\"},\"line\":{\"color\":\"white\"}},\"header\":{\"fill\":{\"color\":\"#C8D4E3\"},\"line\":{\"color\":\"white\"}},\"type\":\"table\"}]},\"layout\":{\"annotationdefaults\":{\"arrowcolor\":\"#2a3f5f\",\"arrowhead\":0,\"arrowwidth\":1},\"autotypenumbers\":\"strict\",\"coloraxis\":{\"colorbar\":{\"outlinewidth\":0,\"ticks\":\"\"}},\"colorscale\":{\"diverging\":[[0,\"#8e0152\"],[0.1,\"#c51b7d\"],[0.2,\"#de77ae\"],[0.3,\"#f1b6da\"],[0.4,\"#fde0ef\"],[0.5,\"#f7f7f7\"],[0.6,\"#e6f5d0\"],[0.7,\"#b8e186\"],[0.8,\"#7fbc41\"],[0.9,\"#4d9221\"],[1,\"#276419\"]],\"sequential\":[[0.0,\"#0d0887\"],[0.1111111111111111,\"#46039f\"],[0.2222222222222222,\"#7201a8\"],[0.3333333333333333,\"#9c179e\"],[0.4444444444444444,\"#bd3786\"],[0.5555555555555556,\"#d8576b\"],[0.6666666666666666,\"#ed7953\"],[0.7777777777777778,\"#fb9f3a\"],[0.8888888888888888,\"#fdca26\"],[1.0,\"#f0f921\"]],\"sequentialminus\":[[0.0,\"#0d0887\"],[0.1111111111111111,\"#46039f\"],[0.2222222222222222,\"#7201a8\"],[0.3333333333333333,\"#9c179e\"],[0.4444444444444444,\"#bd3786\"],[0.5555555555555556,\"#d8576b\"],[0.6666666666666666,\"#ed7953\"],[0.7777777777777778,\"#fb9f3a\"],[0.8888888888888888,\"#fdca26\"],[1.0,\"#f0f921\"]]},\"colorway\":[\"#636efa\",\"#EF553B\",\"#00cc96\",\"#ab63fa\",\"#FFA15A\",\"#19d3f3\",\"#FF6692\",\"#B6E880\",\"#FF97FF\",\"#FECB52\"],\"font\":{\"color\":\"#2a3f5f\"},\"geo\":{\"bgcolor\":\"white\",\"lakecolor\":\"white\",\"landcolor\":\"white\",\"showlakes\":true,\"showland\":true,\"subunitcolor\":\"#C8D4E3\"},\"hoverlabel\":{\"align\":\"left\"},\"hovermode\":\"closest\",\"mapbox\":{\"style\":\"light\"},\"paper_bgcolor\":\"white\",\"plot_bgcolor\":\"white\",\"polar\":{\"angularaxis\":{\"gridcolor\":\"#EBF0F8\",\"linecolor\":\"#EBF0F8\",\"ticks\":\"\"},\"bgcolor\":\"white\",\"radialaxis\":{\"gridcolor\":\"#EBF0F8\",\"linecolor\":\"#EBF0F8\",\"ticks\":\"\"}},\"scene\":{\"xaxis\":{\"backgroundcolor\":\"white\",\"gridcolor\":\"#DFE8F3\",\"gridwidth\":2,\"linecolor\":\"#EBF0F8\",\"showbackground\":true,\"ticks\":\"\",\"zerolinecolor\":\"#EBF0F8\"},\"yaxis\":{\"backgroundcolor\":\"white\",\"gridcolor\":\"#DFE8F3\",\"gridwidth\":2,\"linecolor\":\"#EBF0F8\",\"showbackground\":true,\"ticks\":\"\",\"zerolinecolor\":\"#EBF0F8\"},\"zaxis\":{\"backgroundcolor\":\"white\",\"gridcolor\":\"#DFE8F3\",\"gridwidth\":2,\"linecolor\":\"#EBF0F8\",\"showbackground\":true,\"ticks\":\"\",\"zerolinecolor\":\"#EBF0F8\"}},\"shapedefaults\":{\"line\":{\"color\":\"#2a3f5f\"}},\"ternary\":{\"aaxis\":{\"gridcolor\":\"#DFE8F3\",\"linecolor\":\"#A2B1C6\",\"ticks\":\"\"},\"baxis\":{\"gridcolor\":\"#DFE8F3\",\"linecolor\":\"#A2B1C6\",\"ticks\":\"\"},\"bgcolor\":\"white\",\"caxis\":{\"gridcolor\":\"#DFE8F3\",\"linecolor\":\"#A2B1C6\",\"ticks\":\"\"}},\"title\":{\"x\":0.05},\"xaxis\":{\"automargin\":true,\"gridcolor\":\"#EBF0F8\",\"linecolor\":\"#EBF0F8\",\"ticks\":\"\",\"title\":{\"standoff\":15},\"zerolinecolor\":\"#EBF0F8\",\"zerolinewidth\":2},\"yaxis\":{\"automargin\":true,\"gridcolor\":\"#EBF0F8\",\"linecolor\":\"#EBF0F8\",\"ticks\":\"\",\"title\":{\"standoff\":15},\"zerolinecolor\":\"#EBF0F8\",\"zerolinewidth\":2}}},\"xaxis\":{\"range\":[0,10],\"tick0\":1,\"dtick\":2,\"title\":{\"text\":\"Term Rank\"}},\"title\":{\"font\":{\"size\":22,\"color\":\"Black\"},\"text\":\"<b>Term score decline per Topic</b>\",\"y\":0.9,\"x\":0.5,\"xanchor\":\"center\",\"yanchor\":\"top\"},\"hoverlabel\":{\"font\":{\"size\":16,\"family\":\"Rockwell\"},\"bgcolor\":\"white\"},\"showlegend\":false,\"width\":800,\"height\":500,\"yaxis\":{\"title\":{\"text\":\"c-TF-IDF score\"}}},                        {\"responsive\": true}                    ).then(function(){\n",
              "                            \n",
              "var gd = document.getElementById('fe01f5d9-bd0b-4fcd-afc0-ba5807805945');\n",
              "var x = new MutationObserver(function (mutations, observer) {{\n",
              "        var display = window.getComputedStyle(gd).display;\n",
              "        if (!display || display === 'none') {{\n",
              "            console.log([gd, 'removed!']);\n",
              "            Plotly.purge(gd);\n",
              "            observer.disconnect();\n",
              "        }}\n",
              "}});\n",
              "\n",
              "// Listen for the removal of the full notebook cells\n",
              "var notebookContainer = gd.closest('#notebook-container');\n",
              "if (notebookContainer) {{\n",
              "    x.observe(notebookContainer, {childList: true});\n",
              "}}\n",
              "\n",
              "// Listen for the clearing of the current output cell\n",
              "var outputEl = gd.closest('.output');\n",
              "if (outputEl) {{\n",
              "    x.observe(outputEl, {childList: true});\n",
              "}}\n",
              "\n",
              "                        })                };                            </script>        </div>\n",
              "</body>\n",
              "</html>"
            ]
          },
          "metadata": {}
        }
      ]
    },
    {
      "cell_type": "markdown",
      "source": [
        "#### **Save Term score decline per Topic**"
      ],
      "metadata": {
        "id": "6UXg4gpFpwZg"
      }
    },
    {
      "cell_type": "code",
      "source": [
        "# Set the path to save \n",
        "path = '/content/Topic-Modeling-Reclame-Aqui/results/term_score_decline_topic/'\n",
        "\n",
        "# Use makedirs() to create a new directory if it does not exists\n",
        "if not os.path.exists(path):\n",
        "  os.makedirs(path)\n",
        "\n",
        "\n",
        "fig.write_image(path + \"tsdp_preprocessed_lemma.png\", format=\"png\")"
      ],
      "metadata": {
        "id": "F5Gppkjpp0hS"
      },
      "execution_count": 52,
      "outputs": []
    },
    {
      "cell_type": "markdown",
      "source": [
        "[Github link](https://github.com/punkmic/Topic-Modeling-Reclame-Aqui/blob/master/results/term_socore_decline_topic/tsdp_preprocessed_lemma.png?raw=true)"
      ],
      "metadata": {
        "id": "QERxP9EspLjX"
      }
    },
    {
      "cell_type": "markdown",
      "source": [
        "### **Term search**"
      ],
      "metadata": {
        "id": "AZIV-p12ZMXa"
      }
    },
    {
      "cell_type": "code",
      "source": [
        "# Find topics that contains blackfriday term\n",
        "similar_topics, similarity = topic_model.find_topics(\"blackfriday\", top_n=5)\n",
        "\n",
        "# Show similar topics\n",
        "similar_topics"
      ],
      "metadata": {
        "id": "pHHayMGRZOob",
        "outputId": "f18e3a26-61a2-4c6d-fa9a-0327cfbc41ea",
        "colab": {
          "base_uri": "https://localhost:8080/"
        }
      },
      "execution_count": 53,
      "outputs": [
        {
          "output_type": "execute_result",
          "data": {
            "text/plain": [
              "[9, 70, 72, 14, 64]"
            ]
          },
          "metadata": {},
          "execution_count": 53
        }
      ]
    },
    {
      "cell_type": "code",
      "source": [
        "# Show a specific topic\n",
        "topic_model.get_topic(64)"
      ],
      "metadata": {
        "id": "2BnwvRotZUya",
        "outputId": "0f803b0b-d283-4e75-9aeb-a6b69861f249",
        "colab": {
          "base_uri": "https://localhost:8080/"
        }
      },
      "execution_count": 59,
      "outputs": [
        {
          "output_type": "execute_result",
          "data": {
            "text/plain": [
              "[('previsão', 0.05966412466361346),\n",
              " ('prever', 0.04368307220734265),\n",
              " ('vaga', 0.03402297813439039),\n",
              " ('envio', 0.029453412564828682),\n",
              " ('prazo', 0.028679514603766866),\n",
              " ('entregar', 0.02686273896296797),\n",
              " ('esperar', 0.024257154926665303),\n",
              " ('grávida', 0.023180401514076805),\n",
              " ('fielmentegostar', 0.023180401514076805),\n",
              " ('comor', 0.023180401514076805)]"
            ]
          },
          "metadata": {},
          "execution_count": 59
        }
      ]
    },
    {
      "cell_type": "markdown",
      "source": [
        "### **Hiperparameter optimization**"
      ],
      "metadata": {
        "id": "f3Q_mQRNPRhr"
      }
    },
    {
      "cell_type": "code",
      "source": [
        "%%capture\n",
        "!pip install optuna\n",
        "!pip install hdbscan\n",
        "!pip install umap-learn"
      ],
      "metadata": {
        "id": "5vxgob5fPpc1"
      },
      "execution_count": 60,
      "outputs": []
    },
    {
      "cell_type": "code",
      "source": [
        "import json\n",
        "import optuna\n",
        "from hdbscan import HDBSCAN\n",
        "from umap import UMAP\n",
        "from sklearn.feature_extraction.text import CountVectorizer\n",
        "from bertopic.vectorizers import ClassTfidfTransformer\n",
        "import ast"
      ],
      "metadata": {
        "id": "qQOTWqh-PTwV"
      },
      "execution_count": 61,
      "outputs": []
    },
    {
      "cell_type": "code",
      "source": [
        "def save_documents(model, corpus, trial, reduced):\n",
        "  fig = topic_model.visualize_documents(corpus, hide_document_hover=True, hide_annotations=True, width=800, height=800)\n",
        "\n",
        "  # Set the path to save \n",
        "  path = '/content/Topic-Modeling-Reclame-Aqui/results/documents_n_topics/'\n",
        "\n",
        "  if reduced:\n",
        "    path = path + 'reduced/'\n",
        "\n",
        "  # Use makedirs() to create a new directory if it does not exists\n",
        "  if not os.path.exists(path):\n",
        "    os.makedirs(path)\n",
        "\n",
        "  fig.write_image(path + f\"document_n_topics_trial_{trial}.png\", format=\"png\")\n",
        "  fig.write_html(path + f\"document_n_topics_trial_{trial}.html\")"
      ],
      "metadata": {
        "id": "O-l1u6wucN1m"
      },
      "execution_count": 88,
      "outputs": []
    },
    {
      "cell_type": "code",
      "source": [
        "def save_topics(model, trial, reduced=False):\n",
        "  fig = model.visualize_topics(width=800, height=800)\n",
        "\n",
        "  # Set the path to save \n",
        "  path = '/content/Topic-Modeling-Reclame-Aqui/results/intertopic_distance_map/'\n",
        "\n",
        "  if reduced:\n",
        "    path = path + 'reduced/'\n",
        "\n",
        "  # Use makedirs() to create a new directory if it does not exists\n",
        "  if not os.path.exists(path):\n",
        "    os.makedirs(path)\n",
        "\n",
        "  fig.write_image(path + f\"intertopic_distance_map_trial_{trial}.png\", format=\"png\")\n",
        "  fig.write_html(path + f\"intertopic_distance_map_trial_{trial}.html\")"
      ],
      "metadata": {
        "id": "zEr6GcxHZptw"
      },
      "execution_count": 89,
      "outputs": []
    },
    {
      "cell_type": "code",
      "source": [
        "def save_hierarchy(model, trial, reduced=False):\n",
        "  fig = model.visualize_hierarchy(width=800, height=800)\n",
        "\n",
        "  # Set the path to save \n",
        "  path = '/content/Topic-Modeling-Reclame-Aqui/results/hierarchical_clustering/'\n",
        "\n",
        "  if reduced:\n",
        "    path = path + 'reduced/'\n",
        "\n",
        "  # Use makedirs() to create a new directory if it does not exists\n",
        "  if not os.path.exists(path):\n",
        "    os.makedirs(path)\n",
        "\n",
        "  fig.write_image(path + f\"hierarchical_clustering_trial_{trial}.png\", format=\"png\")\n",
        "  fig.write_html(path + f\"hierarchical_clustering_trial_{trial}.html\")"
      ],
      "metadata": {
        "id": "9XqbXn0KZ3r1"
      },
      "execution_count": 90,
      "outputs": []
    },
    {
      "cell_type": "code",
      "source": [
        "def save_top_words_scores(model, trial, reduced=False):\n",
        "  fig = model.visualize_barchart(top_n_topics=12, width=300, height=300)\n",
        "\n",
        "  # Set the path to save \n",
        "  path = '/content/Topic-Modeling-Reclame-Aqui/results/top_words_scores/'\n",
        "\n",
        "  if reduced:\n",
        "    path = path + 'reduced/'\n",
        "\n",
        "  # Use makedirs() to create a new directory if it does not exists\n",
        "  if not os.path.exists(path):\n",
        "    os.makedirs(path)\n",
        "\n",
        "  fig.write_image(path + f\"top_words_scores_trial_{trial}.png\", format=\"png\")\n",
        "  fig.write_html(path + f\"top_words_scores_trial_{trial}.html\")"
      ],
      "metadata": {
        "id": "A_21t9rmZ4Pr"
      },
      "execution_count": 91,
      "outputs": []
    },
    {
      "cell_type": "code",
      "source": [
        "def save_similarity_matrix(model, trial, reduced=False):\n",
        "  fig = model.visualize_heatmap()\n",
        "\n",
        "  # Set the path to save \n",
        "  path = '/content/Topic-Modeling-Reclame-Aqui/results/similarity_matrix/'\n",
        "\n",
        "  if reduced:\n",
        "    path = path + 'reduced/'\n",
        "\n",
        "  # Use makedirs() to create a new directory if it does not exists\n",
        "  if not os.path.exists(path):\n",
        "    os.makedirs(path)\n",
        "\n",
        "  fig.write_image(path + f\"similarity_matrix_trial_{trial}.png\", format=\"png\")\n",
        "  fig.write_html(path + f\"similarity_matrix_trial_{trial}.html\")"
      ],
      "metadata": {
        "id": "lTV5l7q7Z45m"
      },
      "execution_count": 92,
      "outputs": []
    },
    {
      "cell_type": "code",
      "source": [
        "def save_term_rank(model, trial, reduced=False):\n",
        "  fig = model.visualize_term_rank(width=800, height=800)\n",
        "\n",
        "  # Set the path to save \n",
        "  path = '/content/Topic-Modeling-Reclame-Aqui/results/term_score_decline_topic/'\n",
        "\n",
        "  if reduced:\n",
        "    path = path + 'reduced/'\n",
        "\n",
        "  # Use makedirs() to create a new directory if it does not exists\n",
        "  if not os.path.exists(path):\n",
        "    os.makedirs(path)\n",
        "\n",
        "  fig.write_image(path + f\"term_score_trial_{trial}.png\", format=\"png\")\n",
        "  fig.write_html(path + f\"term_score_trial_{trial}.html\")"
      ],
      "metadata": {
        "id": "Ag4Yv6r2bfeR"
      },
      "execution_count": 93,
      "outputs": []
    },
    {
      "cell_type": "code",
      "source": [
        "def save_hyperparameters(trial_params, label):\n",
        "  # Set the path to save \n",
        "  path = '/content/Topic-Modeling-Reclame-Aqui/results/hyperparameters/'\n",
        "\n",
        "  # Use makedirs() to create a new directory if it does not exists\n",
        "  if not os.path.exists(path):\n",
        "    os.makedirs(path)\n",
        "\n",
        "  with open(path + f\"hyperparameters_trial_{label}.json\", \"w\") as f:\n",
        "    f.write(json.dumps(trial_params))\n"
      ],
      "metadata": {
        "id": "3wuSDGh4dxlg"
      },
      "execution_count": 94,
      "outputs": []
    },
    {
      "cell_type": "code",
      "source": [
        "def optimizer(trial):\n",
        "\n",
        "  # BERTopic hyperparameters\n",
        "  top_n_words = trial.suggest_int('bertopic__top_n_words', 5, 10)\n",
        "  n_gram_range = ast.literal_eval(trial.suggest_categorical('bertopic__n_gram_range', ['(1,1)', '(1,2)', '(1,3)']))\n",
        "  min_topic_size = trial.suggest_int('bertopic__min_topic_size', 15, 20)\n",
        "  diversity = trial.suggest_float('bertopic__diversity', 0.1, 0.9)\n",
        "  outlier_threshold = trial.suggest_float('bertopic__outliers_threshold', 0.04, 0.09)\n",
        "  nr_topics = trial.suggest_int('bertopic__nr_topics', 12, 20)\n",
        "\n",
        "  # UMAP hyperparameters\n",
        "  n_neighbors = trial.suggest_int('umap__n_neighbors', 10, 20)\n",
        "  n_components = trial.suggest_int('umap__n_components', 2, 6)\n",
        "  metric = trial.suggest_categorical('umap__metric', ['cosine', 'euclidean'])\n",
        "  min_dist = trial.suggest_float('umap__min_dist', 0.1, 1.0)\n",
        "  spread = trial.suggest_float('umap__spread', 0.1, 1.0)\n",
        "\n",
        "  # HDBSCAN hyperprarameters\n",
        "  min_cluster_size = trial.suggest_int('hdbscan__min_cluster_size', 10, 20)\n",
        "  min_samples = trial.suggest_int('hdbscan__min_samples', 10, 20)\n",
        "  cluster_selection_epsilon = trial.suggest_float('hdbscan__cluster_selection_epsilon', 0.1, 1.0)\n",
        "\n",
        "  # CountVectorizer hyperparameters \n",
        "  max_features = trial.suggest_int('vectorizer__max_features', 3000, 6000)\n",
        "\n",
        "  # reduce the impact of frequent words.\n",
        "  ctfidf_model = ClassTfidfTransformer(reduce_frequent_words=True)\n",
        "\n",
        "  stop_words = nltk.corpus.stopwords.words('portuguese') + custom_stop_words\n",
        "  vectorizer_model = CountVectorizer(stop_words=stop_words, ngram_range=n_gram_range, max_features=max_features)\n",
        "\n",
        "  umap_model = UMAP(n_neighbors=n_neighbors, metric=metric, random_state=42)\n",
        "\n",
        "  hdbscan_model = HDBSCAN(min_cluster_size=min_cluster_size, prediction_data=True)\n",
        "\n",
        "  # create a new BERTopic model using multilingual option\n",
        "  model = BERTopic(language=\"multilingual\", \n",
        "                         calculate_probabilities=True, \n",
        "                         verbose=False,\n",
        "                         nr_topics='auto',\n",
        "                         top_n_words=top_n_words,\n",
        "                         n_gram_range=n_gram_range,\n",
        "                         min_topic_size=min_topic_size,\n",
        "                         diversity=diversity,\n",
        "                         umap_model=umap_model,\n",
        "                         hdbscan_model=hdbscan_model,\n",
        "                         vectorizer_model=vectorizer_model,\n",
        "                         ctfidf_model=ctfidf_model)\n",
        "  \n",
        "  label = trial.number\n",
        "  params = trial.params\n",
        "\n",
        "  # train model \n",
        "  topics, probs = model.fit_transform(corpus)\n",
        "\n",
        "  # save plots\n",
        "  save_topics(model, label, False)\n",
        "  save_documents(model, corpus, label, False)\n",
        "  save_hierarchy(model, label, False)\n",
        "  ##save_similarity_matrix(model, label, False)\n",
        "  save_term_rank(model, label, False)\n",
        "  save_top_words_scores(model, label, False)\n",
        "\n",
        "  # reduce outliers\n",
        "  new_topics = model.reduce_outliers(corpus,\n",
        "                                     topics, \n",
        "                                     probabilities=probs,\n",
        "                                     strategy=\"probabilities\",\n",
        "                                     threshold=outlier_threshold)\n",
        "  model.update_topics(corpus, topics=new_topics)\n",
        "\n",
        "  # save plots after reducion\n",
        "  save_topics(model, label, True)\n",
        "  save_documents(model, corpus, label, True)\n",
        "  save_hierarchy(model, label, True)\n",
        "  ##save_similarity_matrix(model, label, True)\n",
        "  save_term_rank(model, label, True)\n",
        "  save_top_words_scores(model, label, True)\n",
        "\n",
        "  # save hyperparameters\n",
        "  save_hyperparameters(params, label)\n",
        "\n",
        "  # save model\n",
        "  path = '/content/Topic-Modeling-Reclame-Aqui/results/models/'\n",
        "\n",
        "  # Use makedirs() to create a new directory if it does not exists\n",
        "  if not os.path.exists(path):\n",
        "    os.makedirs(path)\n",
        "\n",
        "  model.save(path + f\"model_trial_{label}\")\n",
        "\n",
        "  return 0"
      ],
      "metadata": {
        "id": "O87BZ5kyQEvZ"
      },
      "execution_count": 95,
      "outputs": []
    },
    {
      "cell_type": "code",
      "source": [
        "%%time\n",
        "study = optuna.create_study(study_name='Bertopic')\n",
        "study.optimize(optimizer, n_trials=50)"
      ],
      "metadata": {
        "id": "57mnK6MfYAp4"
      },
      "execution_count": null,
      "outputs": []
    },
    {
      "cell_type": "markdown",
      "source": [
        "#### **Merge of similar topics**"
      ],
      "metadata": {
        "id": "kmSbzWH0gJHM"
      }
    },
    {
      "cell_type": "code",
      "source": [
        "# TODO: select the best model and merge similar topic and save final model\n",
        "\n",
        "#topic_model = BERTopic.load(\"best_model\")"
      ],
      "metadata": {
        "id": "OWI9jDFYgTLW"
      },
      "execution_count": 97,
      "outputs": []
    },
    {
      "cell_type": "code",
      "source": [
        "##########33!rm -rf /content/Topic-Modeling-Reclame-Aqui/results"
      ],
      "metadata": {
        "id": "6f8Adw95AVkP"
      },
      "execution_count": 98,
      "outputs": []
    },
    {
      "cell_type": "code",
      "source": [
        "! ssh-keygen -t rsa -b 4096\n",
        "# Add github.com to our known hosts\n",
        "! ssh-keyscan -t rsa github.com >> ~/.ssh/known_hosts\n",
        "# Restrict the key permissions, or else SSH will complain.\n",
        "! chmod go-rwx /root/.ssh/rsa"
      ],
      "metadata": {
        "id": "yVd1eoa0zK7f"
      },
      "execution_count": null,
      "outputs": []
    },
    {
      "cell_type": "code",
      "source": [
        "! cat /root/.ssh/id_rsa.pub"
      ],
      "metadata": {
        "id": "_z-PSHRzz0PY"
      },
      "execution_count": null,
      "outputs": []
    },
    {
      "cell_type": "code",
      "source": [
        "!git config --global user.email \"mattheus_ribeiro@outlook.com\"\n",
        "!git config --global user.name \"punkmic\""
      ],
      "metadata": {
        "id": "4iixpGcjzxrO"
      },
      "execution_count": 123,
      "outputs": []
    },
    {
      "cell_type": "code",
      "source": [
        "!ssh -T git@github.com"
      ],
      "metadata": {
        "id": "bcqhgkdaz3QI"
      },
      "execution_count": null,
      "outputs": []
    },
    {
      "cell_type": "code",
      "source": [
        "%cd /content/Topic-Modeling-Reclame-Aqui/"
      ],
      "metadata": {
        "id": "2eEK0j1L6b7p"
      },
      "execution_count": null,
      "outputs": []
    },
    {
      "cell_type": "code",
      "source": [
        "!git add ./results/table"
      ],
      "metadata": {
        "id": "CGqBhuS6z7WZ"
      },
      "execution_count": 119,
      "outputs": []
    },
    {
      "cell_type": "code",
      "source": [
        "!git status"
      ],
      "metadata": {
        "id": "eyMFQF889jtB"
      },
      "execution_count": null,
      "outputs": []
    },
    {
      "cell_type": "code",
      "source": [
        "!git commit -m \"Adding preprocessed dataset\""
      ],
      "metadata": {
        "id": "PFY8B1Ikz-U-"
      },
      "execution_count": null,
      "outputs": []
    },
    {
      "cell_type": "code",
      "source": [
        "!git push "
      ],
      "metadata": {
        "id": "uEJWirD70EiH",
        "outputId": "a4693ac9-b911-42b8-e499-672cc6aec9b5",
        "colab": {
          "base_uri": "https://localhost:8080/"
        }
      },
      "execution_count": 126,
      "outputs": [
        {
          "output_type": "stream",
          "name": "stdout",
          "text": [
            "fatal: could not read Username for 'https://github.com': No such device or address\n"
          ]
        }
      ]
    }
  ]
}