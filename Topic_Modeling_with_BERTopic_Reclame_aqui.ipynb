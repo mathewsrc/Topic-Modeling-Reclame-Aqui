{
  "nbformat": 4,
  "nbformat_minor": 0,
  "metadata": {
    "colab": {
      "provenance": [],
      "include_colab_link": true
    },
    "kernelspec": {
      "name": "python3",
      "display_name": "Python 3"
    },
    "language_info": {
      "name": "python"
    },
    "gpuClass": "standard",
    "widgets": {
      "application/vnd.jupyter.widget-state+json": {
        "6b95fce49e3945e1a1fe0497b924a336": {
          "model_module": "@jupyter-widgets/controls",
          "model_name": "HBoxModel",
          "model_module_version": "1.5.0",
          "state": {
            "_dom_classes": [],
            "_model_module": "@jupyter-widgets/controls",
            "_model_module_version": "1.5.0",
            "_model_name": "HBoxModel",
            "_view_count": null,
            "_view_module": "@jupyter-widgets/controls",
            "_view_module_version": "1.5.0",
            "_view_name": "HBoxView",
            "box_style": "",
            "children": [
              "IPY_MODEL_31a64fb0159f49b4ab77a18129eafc7f",
              "IPY_MODEL_603b0c5f488041a18a1feb4b48b03c29",
              "IPY_MODEL_b42ea764db514fdc84e2e3d009f7a0aa"
            ],
            "layout": "IPY_MODEL_4efe7a3fcfcb46bfad66e3399e182880"
          }
        },
        "31a64fb0159f49b4ab77a18129eafc7f": {
          "model_module": "@jupyter-widgets/controls",
          "model_name": "HTMLModel",
          "model_module_version": "1.5.0",
          "state": {
            "_dom_classes": [],
            "_model_module": "@jupyter-widgets/controls",
            "_model_module_version": "1.5.0",
            "_model_name": "HTMLModel",
            "_view_count": null,
            "_view_module": "@jupyter-widgets/controls",
            "_view_module_version": "1.5.0",
            "_view_name": "HTMLView",
            "description": "",
            "description_tooltip": null,
            "layout": "IPY_MODEL_d7ede27f681a415c84634360cf3e215f",
            "placeholder": "​",
            "style": "IPY_MODEL_1bc481899bdb4d20924e3722bd0b9974",
            "value": "Batches: 100%"
          }
        },
        "603b0c5f488041a18a1feb4b48b03c29": {
          "model_module": "@jupyter-widgets/controls",
          "model_name": "FloatProgressModel",
          "model_module_version": "1.5.0",
          "state": {
            "_dom_classes": [],
            "_model_module": "@jupyter-widgets/controls",
            "_model_module_version": "1.5.0",
            "_model_name": "FloatProgressModel",
            "_view_count": null,
            "_view_module": "@jupyter-widgets/controls",
            "_view_module_version": "1.5.0",
            "_view_name": "ProgressView",
            "bar_style": "success",
            "description": "",
            "description_tooltip": null,
            "layout": "IPY_MODEL_dfee4e86f48840df9154a4c2d78ab0e2",
            "max": 329,
            "min": 0,
            "orientation": "horizontal",
            "style": "IPY_MODEL_80e12074c7444ce691cf3c7454453d66",
            "value": 329
          }
        },
        "b42ea764db514fdc84e2e3d009f7a0aa": {
          "model_module": "@jupyter-widgets/controls",
          "model_name": "HTMLModel",
          "model_module_version": "1.5.0",
          "state": {
            "_dom_classes": [],
            "_model_module": "@jupyter-widgets/controls",
            "_model_module_version": "1.5.0",
            "_model_name": "HTMLModel",
            "_view_count": null,
            "_view_module": "@jupyter-widgets/controls",
            "_view_module_version": "1.5.0",
            "_view_name": "HTMLView",
            "description": "",
            "description_tooltip": null,
            "layout": "IPY_MODEL_5891179f653b4df6b0c4ac53709a5477",
            "placeholder": "​",
            "style": "IPY_MODEL_032f2449b0c742ba98243671419cf90a",
            "value": " 329/329 [14:17&lt;00:00,  2.22it/s]"
          }
        },
        "4efe7a3fcfcb46bfad66e3399e182880": {
          "model_module": "@jupyter-widgets/base",
          "model_name": "LayoutModel",
          "model_module_version": "1.2.0",
          "state": {
            "_model_module": "@jupyter-widgets/base",
            "_model_module_version": "1.2.0",
            "_model_name": "LayoutModel",
            "_view_count": null,
            "_view_module": "@jupyter-widgets/base",
            "_view_module_version": "1.2.0",
            "_view_name": "LayoutView",
            "align_content": null,
            "align_items": null,
            "align_self": null,
            "border": null,
            "bottom": null,
            "display": null,
            "flex": null,
            "flex_flow": null,
            "grid_area": null,
            "grid_auto_columns": null,
            "grid_auto_flow": null,
            "grid_auto_rows": null,
            "grid_column": null,
            "grid_gap": null,
            "grid_row": null,
            "grid_template_areas": null,
            "grid_template_columns": null,
            "grid_template_rows": null,
            "height": null,
            "justify_content": null,
            "justify_items": null,
            "left": null,
            "margin": null,
            "max_height": null,
            "max_width": null,
            "min_height": null,
            "min_width": null,
            "object_fit": null,
            "object_position": null,
            "order": null,
            "overflow": null,
            "overflow_x": null,
            "overflow_y": null,
            "padding": null,
            "right": null,
            "top": null,
            "visibility": null,
            "width": null
          }
        },
        "d7ede27f681a415c84634360cf3e215f": {
          "model_module": "@jupyter-widgets/base",
          "model_name": "LayoutModel",
          "model_module_version": "1.2.0",
          "state": {
            "_model_module": "@jupyter-widgets/base",
            "_model_module_version": "1.2.0",
            "_model_name": "LayoutModel",
            "_view_count": null,
            "_view_module": "@jupyter-widgets/base",
            "_view_module_version": "1.2.0",
            "_view_name": "LayoutView",
            "align_content": null,
            "align_items": null,
            "align_self": null,
            "border": null,
            "bottom": null,
            "display": null,
            "flex": null,
            "flex_flow": null,
            "grid_area": null,
            "grid_auto_columns": null,
            "grid_auto_flow": null,
            "grid_auto_rows": null,
            "grid_column": null,
            "grid_gap": null,
            "grid_row": null,
            "grid_template_areas": null,
            "grid_template_columns": null,
            "grid_template_rows": null,
            "height": null,
            "justify_content": null,
            "justify_items": null,
            "left": null,
            "margin": null,
            "max_height": null,
            "max_width": null,
            "min_height": null,
            "min_width": null,
            "object_fit": null,
            "object_position": null,
            "order": null,
            "overflow": null,
            "overflow_x": null,
            "overflow_y": null,
            "padding": null,
            "right": null,
            "top": null,
            "visibility": null,
            "width": null
          }
        },
        "1bc481899bdb4d20924e3722bd0b9974": {
          "model_module": "@jupyter-widgets/controls",
          "model_name": "DescriptionStyleModel",
          "model_module_version": "1.5.0",
          "state": {
            "_model_module": "@jupyter-widgets/controls",
            "_model_module_version": "1.5.0",
            "_model_name": "DescriptionStyleModel",
            "_view_count": null,
            "_view_module": "@jupyter-widgets/base",
            "_view_module_version": "1.2.0",
            "_view_name": "StyleView",
            "description_width": ""
          }
        },
        "dfee4e86f48840df9154a4c2d78ab0e2": {
          "model_module": "@jupyter-widgets/base",
          "model_name": "LayoutModel",
          "model_module_version": "1.2.0",
          "state": {
            "_model_module": "@jupyter-widgets/base",
            "_model_module_version": "1.2.0",
            "_model_name": "LayoutModel",
            "_view_count": null,
            "_view_module": "@jupyter-widgets/base",
            "_view_module_version": "1.2.0",
            "_view_name": "LayoutView",
            "align_content": null,
            "align_items": null,
            "align_self": null,
            "border": null,
            "bottom": null,
            "display": null,
            "flex": null,
            "flex_flow": null,
            "grid_area": null,
            "grid_auto_columns": null,
            "grid_auto_flow": null,
            "grid_auto_rows": null,
            "grid_column": null,
            "grid_gap": null,
            "grid_row": null,
            "grid_template_areas": null,
            "grid_template_columns": null,
            "grid_template_rows": null,
            "height": null,
            "justify_content": null,
            "justify_items": null,
            "left": null,
            "margin": null,
            "max_height": null,
            "max_width": null,
            "min_height": null,
            "min_width": null,
            "object_fit": null,
            "object_position": null,
            "order": null,
            "overflow": null,
            "overflow_x": null,
            "overflow_y": null,
            "padding": null,
            "right": null,
            "top": null,
            "visibility": null,
            "width": null
          }
        },
        "80e12074c7444ce691cf3c7454453d66": {
          "model_module": "@jupyter-widgets/controls",
          "model_name": "ProgressStyleModel",
          "model_module_version": "1.5.0",
          "state": {
            "_model_module": "@jupyter-widgets/controls",
            "_model_module_version": "1.5.0",
            "_model_name": "ProgressStyleModel",
            "_view_count": null,
            "_view_module": "@jupyter-widgets/base",
            "_view_module_version": "1.2.0",
            "_view_name": "StyleView",
            "bar_color": null,
            "description_width": ""
          }
        },
        "5891179f653b4df6b0c4ac53709a5477": {
          "model_module": "@jupyter-widgets/base",
          "model_name": "LayoutModel",
          "model_module_version": "1.2.0",
          "state": {
            "_model_module": "@jupyter-widgets/base",
            "_model_module_version": "1.2.0",
            "_model_name": "LayoutModel",
            "_view_count": null,
            "_view_module": "@jupyter-widgets/base",
            "_view_module_version": "1.2.0",
            "_view_name": "LayoutView",
            "align_content": null,
            "align_items": null,
            "align_self": null,
            "border": null,
            "bottom": null,
            "display": null,
            "flex": null,
            "flex_flow": null,
            "grid_area": null,
            "grid_auto_columns": null,
            "grid_auto_flow": null,
            "grid_auto_rows": null,
            "grid_column": null,
            "grid_gap": null,
            "grid_row": null,
            "grid_template_areas": null,
            "grid_template_columns": null,
            "grid_template_rows": null,
            "height": null,
            "justify_content": null,
            "justify_items": null,
            "left": null,
            "margin": null,
            "max_height": null,
            "max_width": null,
            "min_height": null,
            "min_width": null,
            "object_fit": null,
            "object_position": null,
            "order": null,
            "overflow": null,
            "overflow_x": null,
            "overflow_y": null,
            "padding": null,
            "right": null,
            "top": null,
            "visibility": null,
            "width": null
          }
        },
        "032f2449b0c742ba98243671419cf90a": {
          "model_module": "@jupyter-widgets/controls",
          "model_name": "DescriptionStyleModel",
          "model_module_version": "1.5.0",
          "state": {
            "_model_module": "@jupyter-widgets/controls",
            "_model_module_version": "1.5.0",
            "_model_name": "DescriptionStyleModel",
            "_view_count": null,
            "_view_module": "@jupyter-widgets/base",
            "_view_module_version": "1.2.0",
            "_view_name": "StyleView",
            "description_width": ""
          }
        }
      }
    },
    "accelerator": "GPU"
  },
  "cells": [
    {
      "cell_type": "markdown",
      "metadata": {
        "id": "view-in-github",
        "colab_type": "text"
      },
      "source": [
        "<a href=\"https://colab.research.google.com/github/punkmic/Topic-Modeling-Reclame-Aqui/blob/master/Topic_Modeling_with_BERTopic_Reclame_aqui.ipynb\" target=\"_parent\"><img src=\"https://colab.research.google.com/assets/colab-badge.svg\" alt=\"Open In Colab\"/></a>"
      ]
    },
    {
      "cell_type": "markdown",
      "source": [
        "# **Topic Modeling with BERTopic - Reclame Aqui**\n",
        "\n",
        "BERTopic is a topic modeling technique that leverages 🤗 transformers and a custom class-based TF-IDF to create dense clusters allowing for easily interpretable topics whilst keeping important words in the topic descriptions (https://maartengr.github.io/BERTopic/index.html)."
      ],
      "metadata": {
        "id": "VG5Z-hvZ9GIZ"
      }
    },
    {
      "cell_type": "markdown",
      "source": [
        "## **Import dependecies**"
      ],
      "metadata": {
        "id": "eXD8VBix7DD1"
      }
    },
    {
      "cell_type": "code",
      "execution_count": null,
      "metadata": {
        "id": "CQ0hDdDm6gtj"
      },
      "outputs": [],
      "source": [
        "import pandas as pd # for data manipulation\n",
        "import os # for interacting with the operating system\n",
        "import nltk # for natural language processing\n",
        "import string # for string manipulation\n",
        "import re # for for regular expressions\n",
        "import matplotlib.pyplot as plt # for visualization\n",
        "import spacy # for lemmatize portuguese text\n",
        "try:\n",
        "  from bertopic import BERTopic # for topic modeling\n",
        "  from spellchecker import SpellChecker # for spell check\n",
        "  from sentence_transformers import SentenceTransformer # for embeddings\n",
        "  from umap import UMAP # for dimension reduction\n",
        "  from umap.evaluation import optimal_umap\n",
        "  from hdbscan import HDBSCAN # for clustering\n",
        "except:\n",
        "  !pip install pyspellchecker\n",
        "  !pip install sentence-transformers\n",
        "  !pip install umap-learn\n",
        "  !pip install hdbscan\n",
        "  !pip install bertopic\n",
        "  #os.kill(os.getpid(), 9)"
      ]
    },
    {
      "cell_type": "code",
      "source": [
        "nltk.download(\"punkt\")"
      ],
      "metadata": {
        "id": "BvRCi7Cvp0G6",
        "outputId": "d199d0c9-b475-44f2-ca93-70150780a6b9",
        "colab": {
          "base_uri": "https://localhost:8080/"
        }
      },
      "execution_count": 2,
      "outputs": [
        {
          "output_type": "stream",
          "name": "stderr",
          "text": [
            "[nltk_data] Downloading package punkt to /root/nltk_data...\n",
            "[nltk_data]   Package punkt is already up-to-date!\n"
          ]
        },
        {
          "output_type": "execute_result",
          "data": {
            "text/plain": [
              "True"
            ]
          },
          "metadata": {},
          "execution_count": 2
        }
      ]
    },
    {
      "cell_type": "code",
      "source": [
        "nltk.download(\"stopwords\")"
      ],
      "metadata": {
        "id": "JAvaPg5ep3Df",
        "outputId": "7b998670-6604-4f0a-f4d4-d0a6b534c7ff",
        "colab": {
          "base_uri": "https://localhost:8080/"
        }
      },
      "execution_count": 3,
      "outputs": [
        {
          "output_type": "stream",
          "name": "stderr",
          "text": [
            "[nltk_data] Downloading package stopwords to /root/nltk_data...\n",
            "[nltk_data]   Package stopwords is already up-to-date!\n"
          ]
        },
        {
          "output_type": "execute_result",
          "data": {
            "text/plain": [
              "True"
            ]
          },
          "metadata": {},
          "execution_count": 3
        }
      ]
    },
    {
      "cell_type": "code",
      "source": [
        "nltk.download('wordnet')"
      ],
      "metadata": {
        "id": "97RrmPshvcmu",
        "outputId": "04ac86b9-2e08-4443-b1c4-f7decc2aa411",
        "colab": {
          "base_uri": "https://localhost:8080/"
        }
      },
      "execution_count": 4,
      "outputs": [
        {
          "output_type": "stream",
          "name": "stderr",
          "text": [
            "[nltk_data] Downloading package wordnet to /root/nltk_data...\n",
            "[nltk_data]   Package wordnet is already up-to-date!\n"
          ]
        },
        {
          "output_type": "execute_result",
          "data": {
            "text/plain": [
              "True"
            ]
          },
          "metadata": {},
          "execution_count": 4
        }
      ]
    },
    {
      "cell_type": "code",
      "source": [
        "nltk.download('omw-1.4')"
      ],
      "metadata": {
        "id": "Bo7_jZ5Zvirl",
        "outputId": "17e4c611-9e51-4ab5-ca33-ca19af341d97",
        "colab": {
          "base_uri": "https://localhost:8080/"
        }
      },
      "execution_count": 5,
      "outputs": [
        {
          "output_type": "stream",
          "name": "stderr",
          "text": [
            "[nltk_data] Downloading package omw-1.4 to /root/nltk_data...\n",
            "[nltk_data]   Package omw-1.4 is already up-to-date!\n"
          ]
        },
        {
          "output_type": "execute_result",
          "data": {
            "text/plain": [
              "True"
            ]
          },
          "metadata": {},
          "execution_count": 5
        }
      ]
    },
    {
      "cell_type": "code",
      "source": [
        "# Donwload dependency need to stem portuguese text\n",
        "nltk.download('rslp')"
      ],
      "metadata": {
        "id": "qn9OrF3EXCNv",
        "outputId": "dcd258d0-e9d8-41b2-c261-82b34ffa8a8b",
        "colab": {
          "base_uri": "https://localhost:8080/"
        }
      },
      "execution_count": 69,
      "outputs": [
        {
          "output_type": "stream",
          "name": "stderr",
          "text": [
            "[nltk_data] Downloading package rslp to /root/nltk_data...\n",
            "[nltk_data]   Unzipping stemmers/rslp.zip.\n"
          ]
        },
        {
          "output_type": "execute_result",
          "data": {
            "text/plain": [
              "True"
            ]
          },
          "metadata": {},
          "execution_count": 69
        }
      ]
    },
    {
      "cell_type": "markdown",
      "source": [
        "## **Load data from [Github](https://github.com/punkmic/Topic-Modeling-Reclame-Aqui.git)**"
      ],
      "metadata": {
        "id": "EGjKdT4C8RVD"
      }
    },
    {
      "cell_type": "code",
      "source": [
        "!git clone https://github.com/punkmic/Topic-Modeling-Reclame-Aqui.git"
      ],
      "metadata": {
        "id": "C_yss1JC-8Ou",
        "outputId": "b321745a-bdd6-4bb7-aff4-34117b31821d",
        "colab": {
          "base_uri": "https://localhost:8080/"
        }
      },
      "execution_count": 6,
      "outputs": [
        {
          "output_type": "stream",
          "name": "stdout",
          "text": [
            "fatal: destination path 'Topic-Modeling-Reclame-Aqui' already exists and is not an empty directory.\n"
          ]
        }
      ]
    },
    {
      "cell_type": "markdown",
      "source": [
        "## **Run this cell to update files from remote repository**"
      ],
      "metadata": {
        "id": "4CYg7519JC64"
      }
    },
    {
      "cell_type": "code",
      "source": [
        "# Change directory\n",
        "%cd /content/Topic-Modeling-Reclame-Aqui \n",
        "\n",
        "# Update files from remote repository\n",
        "!git pull \n",
        "\n",
        "# Return to work directory\n",
        "%cd ..\n",
        "\n",
        "# Check current directory\n",
        "!pwd"
      ],
      "metadata": {
        "id": "uv3QBnDRHFPv",
        "outputId": "8edaf92b-4a98-44bd-93a9-773ba0abb50a",
        "colab": {
          "base_uri": "https://localhost:8080/"
        }
      },
      "execution_count": 7,
      "outputs": [
        {
          "output_type": "stream",
          "name": "stdout",
          "text": [
            "/content/Topic-Modeling-Reclame-Aqui\n",
            "Already up to date.\n",
            "/content\n",
            "/content\n"
          ]
        }
      ]
    },
    {
      "cell_type": "markdown",
      "source": [
        "## **Read csv file using read_csv() method as Dataframe**"
      ],
      "metadata": {
        "id": "5YitWNVVJTOP"
      }
    },
    {
      "cell_type": "code",
      "source": [
        "# Set the path to data\n",
        "path_csv = \"/content/Topic-Modeling-Reclame-Aqui/corpus.csv\"\n",
        "\n",
        "# Read the CSV file using the read_csv method\n",
        "df = pd.read_csv(path_csv)\n",
        "\n",
        "# Print the first 5 rows of the DataFrame\n",
        "df.head(5)"
      ],
      "metadata": {
        "id": "F3IoOKARBwVb",
        "outputId": "ba5517b3-91ca-4183-a6c5-e84005caf58b",
        "colab": {
          "base_uri": "https://localhost:8080/",
          "height": 206
        }
      },
      "execution_count": 8,
      "outputs": [
        {
          "output_type": "execute_result",
          "data": {
            "text/plain": [
              "                                               title  \\\n",
              "0  Pedido Cancelado sem justificativa após uma se...   \n",
              "1                                  Pedido cancelado    \n",
              "2                                  Cobrança indevida   \n",
              "3                                 PEDIDO REINCIDENTE   \n",
              "4            Assinatura para vender na amazon Brasil   \n",
              "\n",
              "                                                text  \n",
              "0  Eu estava pesquisando bastante uma nova TV par...  \n",
              "1  Eu sinceramente estou decepcionada com o Amazo...  \n",
              "2  Cancelei meu plano antes de terminar o período...  \n",
              "3  OLHA FIZ COMPRA VEIO ERRADA, E VEIO ERRADO NOV...  \n",
              "4  Eu me inscrevi na Amazon para realizar vendas ...  "
            ],
            "text/html": [
              "\n",
              "  <div id=\"df-5c473a2e-204e-4de4-a074-505c2060fe05\">\n",
              "    <div class=\"colab-df-container\">\n",
              "      <div>\n",
              "<style scoped>\n",
              "    .dataframe tbody tr th:only-of-type {\n",
              "        vertical-align: middle;\n",
              "    }\n",
              "\n",
              "    .dataframe tbody tr th {\n",
              "        vertical-align: top;\n",
              "    }\n",
              "\n",
              "    .dataframe thead th {\n",
              "        text-align: right;\n",
              "    }\n",
              "</style>\n",
              "<table border=\"1\" class=\"dataframe\">\n",
              "  <thead>\n",
              "    <tr style=\"text-align: right;\">\n",
              "      <th></th>\n",
              "      <th>title</th>\n",
              "      <th>text</th>\n",
              "    </tr>\n",
              "  </thead>\n",
              "  <tbody>\n",
              "    <tr>\n",
              "      <th>0</th>\n",
              "      <td>Pedido Cancelado sem justificativa após uma se...</td>\n",
              "      <td>Eu estava pesquisando bastante uma nova TV par...</td>\n",
              "    </tr>\n",
              "    <tr>\n",
              "      <th>1</th>\n",
              "      <td>Pedido cancelado</td>\n",
              "      <td>Eu sinceramente estou decepcionada com o Amazo...</td>\n",
              "    </tr>\n",
              "    <tr>\n",
              "      <th>2</th>\n",
              "      <td>Cobrança indevida</td>\n",
              "      <td>Cancelei meu plano antes de terminar o período...</td>\n",
              "    </tr>\n",
              "    <tr>\n",
              "      <th>3</th>\n",
              "      <td>PEDIDO REINCIDENTE</td>\n",
              "      <td>OLHA FIZ COMPRA VEIO ERRADA, E VEIO ERRADO NOV...</td>\n",
              "    </tr>\n",
              "    <tr>\n",
              "      <th>4</th>\n",
              "      <td>Assinatura para vender na amazon Brasil</td>\n",
              "      <td>Eu me inscrevi na Amazon para realizar vendas ...</td>\n",
              "    </tr>\n",
              "  </tbody>\n",
              "</table>\n",
              "</div>\n",
              "      <button class=\"colab-df-convert\" onclick=\"convertToInteractive('df-5c473a2e-204e-4de4-a074-505c2060fe05')\"\n",
              "              title=\"Convert this dataframe to an interactive table.\"\n",
              "              style=\"display:none;\">\n",
              "        \n",
              "  <svg xmlns=\"http://www.w3.org/2000/svg\" height=\"24px\"viewBox=\"0 0 24 24\"\n",
              "       width=\"24px\">\n",
              "    <path d=\"M0 0h24v24H0V0z\" fill=\"none\"/>\n",
              "    <path d=\"M18.56 5.44l.94 2.06.94-2.06 2.06-.94-2.06-.94-.94-2.06-.94 2.06-2.06.94zm-11 1L8.5 8.5l.94-2.06 2.06-.94-2.06-.94L8.5 2.5l-.94 2.06-2.06.94zm10 10l.94 2.06.94-2.06 2.06-.94-2.06-.94-.94-2.06-.94 2.06-2.06.94z\"/><path d=\"M17.41 7.96l-1.37-1.37c-.4-.4-.92-.59-1.43-.59-.52 0-1.04.2-1.43.59L10.3 9.45l-7.72 7.72c-.78.78-.78 2.05 0 2.83L4 21.41c.39.39.9.59 1.41.59.51 0 1.02-.2 1.41-.59l7.78-7.78 2.81-2.81c.8-.78.8-2.07 0-2.86zM5.41 20L4 18.59l7.72-7.72 1.47 1.35L5.41 20z\"/>\n",
              "  </svg>\n",
              "      </button>\n",
              "      \n",
              "  <style>\n",
              "    .colab-df-container {\n",
              "      display:flex;\n",
              "      flex-wrap:wrap;\n",
              "      gap: 12px;\n",
              "    }\n",
              "\n",
              "    .colab-df-convert {\n",
              "      background-color: #E8F0FE;\n",
              "      border: none;\n",
              "      border-radius: 50%;\n",
              "      cursor: pointer;\n",
              "      display: none;\n",
              "      fill: #1967D2;\n",
              "      height: 32px;\n",
              "      padding: 0 0 0 0;\n",
              "      width: 32px;\n",
              "    }\n",
              "\n",
              "    .colab-df-convert:hover {\n",
              "      background-color: #E2EBFA;\n",
              "      box-shadow: 0px 1px 2px rgba(60, 64, 67, 0.3), 0px 1px 3px 1px rgba(60, 64, 67, 0.15);\n",
              "      fill: #174EA6;\n",
              "    }\n",
              "\n",
              "    [theme=dark] .colab-df-convert {\n",
              "      background-color: #3B4455;\n",
              "      fill: #D2E3FC;\n",
              "    }\n",
              "\n",
              "    [theme=dark] .colab-df-convert:hover {\n",
              "      background-color: #434B5C;\n",
              "      box-shadow: 0px 1px 3px 1px rgba(0, 0, 0, 0.15);\n",
              "      filter: drop-shadow(0px 1px 2px rgba(0, 0, 0, 0.3));\n",
              "      fill: #FFFFFF;\n",
              "    }\n",
              "  </style>\n",
              "\n",
              "      <script>\n",
              "        const buttonEl =\n",
              "          document.querySelector('#df-5c473a2e-204e-4de4-a074-505c2060fe05 button.colab-df-convert');\n",
              "        buttonEl.style.display =\n",
              "          google.colab.kernel.accessAllowed ? 'block' : 'none';\n",
              "\n",
              "        async function convertToInteractive(key) {\n",
              "          const element = document.querySelector('#df-5c473a2e-204e-4de4-a074-505c2060fe05');\n",
              "          const dataTable =\n",
              "            await google.colab.kernel.invokeFunction('convertToInteractive',\n",
              "                                                     [key], {});\n",
              "          if (!dataTable) return;\n",
              "\n",
              "          const docLinkHtml = 'Like what you see? Visit the ' +\n",
              "            '<a target=\"_blank\" href=https://colab.research.google.com/notebooks/data_table.ipynb>data table notebook</a>'\n",
              "            + ' to learn more about interactive tables.';\n",
              "          element.innerHTML = '';\n",
              "          dataTable['output_type'] = 'display_data';\n",
              "          await google.colab.output.renderOutput(dataTable, element);\n",
              "          const docLink = document.createElement('div');\n",
              "          docLink.innerHTML = docLinkHtml;\n",
              "          element.appendChild(docLink);\n",
              "        }\n",
              "      </script>\n",
              "    </div>\n",
              "  </div>\n",
              "  "
            ]
          },
          "metadata": {},
          "execution_count": 8
        }
      ]
    },
    {
      "cell_type": "markdown",
      "source": [
        "This dataset contains just two columns called title and text "
      ],
      "metadata": {
        "id": "gDfB_6inJgr7"
      }
    },
    {
      "cell_type": "code",
      "source": [
        "print(df.shape)"
      ],
      "metadata": {
        "id": "Ytly9hiGJzFA",
        "outputId": "032dcf8d-4d26-458e-dd52-65f36372d73b",
        "colab": {
          "base_uri": "https://localhost:8080/"
        }
      },
      "execution_count": 9,
      "outputs": [
        {
          "output_type": "stream",
          "name": "stdout",
          "text": [
            "(12760, 2)\n"
          ]
        }
      ]
    },
    {
      "cell_type": "markdown",
      "source": [
        "There are 12760 rows in this dataset. To make sure that we have unique rows let's remove duplicate rows."
      ],
      "metadata": {
        "id": "Upvg5pKOJ0bv"
      }
    },
    {
      "cell_type": "code",
      "source": [
        "print(f\"Shape before remove duplicates: {df.shape}\")\n",
        "\n",
        "# User the drop_duplicated method to drop duplicates rows\n",
        "df = df.drop_duplicates(subset=\"text\")\n",
        "\n",
        "print(f\"Shape after remove duplicates: {df.shape}\")"
      ],
      "metadata": {
        "id": "JFru444PE89C",
        "outputId": "8d9b0a63-ffc0-419c-a51d-a33dc26400ae",
        "colab": {
          "base_uri": "https://localhost:8080/"
        }
      },
      "execution_count": 10,
      "outputs": [
        {
          "output_type": "stream",
          "name": "stdout",
          "text": [
            "Shape before remove duplicates: (12760, 2)\n",
            "Shape after remove duplicates: (10510, 2)\n"
          ]
        }
      ]
    },
    {
      "cell_type": "markdown",
      "source": [
        "### **Now let's lower each element in the Dataframe, remove unwanted text and join the two columns**"
      ],
      "metadata": {
        "id": "i57ZGdO7LRag"
      }
    },
    {
      "cell_type": "code",
      "source": [
        "# apply the str.lower() method to each element in the dataframe\n",
        "df = df.applymap(str.lower)\n",
        "\n",
        "# Use the replace() method to replace the string with an empty string\n",
        "df = df.replace(re.compile('\\[editado pelo reclame aqui\\]|editado pelo reclame aqui|Editado pelo Reclame Aqui'), '')\n",
        "\n",
        "# join columns\n",
        "df[\"documents\"] = df[\"title\"] + \" \" + df[\"text\"]\n",
        "\n",
        "# Drop the old index column\n",
        "df.reset_index(inplace = True, drop = True)\n",
        "\n",
        "df.head()"
      ],
      "metadata": {
        "id": "N0iqgleUNVlE",
        "outputId": "1b44f48e-6bbc-41a1-c760-33cab9694a6e",
        "colab": {
          "base_uri": "https://localhost:8080/",
          "height": 206
        }
      },
      "execution_count": 11,
      "outputs": [
        {
          "output_type": "execute_result",
          "data": {
            "text/plain": [
              "                                               title  \\\n",
              "0  pedido cancelado sem justificativa após uma se...   \n",
              "1                                  pedido cancelado    \n",
              "2                                  cobrança indevida   \n",
              "3                                 pedido reincidente   \n",
              "4            assinatura para vender na amazon brasil   \n",
              "\n",
              "                                                text  \\\n",
              "0  eu estava pesquisando bastante uma nova tv par...   \n",
              "1  eu sinceramente estou decepcionada com o amazo...   \n",
              "2  cancelei meu plano antes de terminar o período...   \n",
              "3  olha fiz compra veio errada, e veio errado nov...   \n",
              "4  eu me inscrevi na amazon para realizar vendas ...   \n",
              "\n",
              "                                           documents  \n",
              "0  pedido cancelado sem justificativa após uma se...  \n",
              "1  pedido cancelado  eu sinceramente estou decepc...  \n",
              "2  cobrança indevida cancelei meu plano antes de ...  \n",
              "3  pedido reincidente olha fiz compra veio errada...  \n",
              "4  assinatura para vender na amazon brasil eu me ...  "
            ],
            "text/html": [
              "\n",
              "  <div id=\"df-e14aad2f-90c4-4a02-af57-71a6c0d342ff\">\n",
              "    <div class=\"colab-df-container\">\n",
              "      <div>\n",
              "<style scoped>\n",
              "    .dataframe tbody tr th:only-of-type {\n",
              "        vertical-align: middle;\n",
              "    }\n",
              "\n",
              "    .dataframe tbody tr th {\n",
              "        vertical-align: top;\n",
              "    }\n",
              "\n",
              "    .dataframe thead th {\n",
              "        text-align: right;\n",
              "    }\n",
              "</style>\n",
              "<table border=\"1\" class=\"dataframe\">\n",
              "  <thead>\n",
              "    <tr style=\"text-align: right;\">\n",
              "      <th></th>\n",
              "      <th>title</th>\n",
              "      <th>text</th>\n",
              "      <th>documents</th>\n",
              "    </tr>\n",
              "  </thead>\n",
              "  <tbody>\n",
              "    <tr>\n",
              "      <th>0</th>\n",
              "      <td>pedido cancelado sem justificativa após uma se...</td>\n",
              "      <td>eu estava pesquisando bastante uma nova tv par...</td>\n",
              "      <td>pedido cancelado sem justificativa após uma se...</td>\n",
              "    </tr>\n",
              "    <tr>\n",
              "      <th>1</th>\n",
              "      <td>pedido cancelado</td>\n",
              "      <td>eu sinceramente estou decepcionada com o amazo...</td>\n",
              "      <td>pedido cancelado  eu sinceramente estou decepc...</td>\n",
              "    </tr>\n",
              "    <tr>\n",
              "      <th>2</th>\n",
              "      <td>cobrança indevida</td>\n",
              "      <td>cancelei meu plano antes de terminar o período...</td>\n",
              "      <td>cobrança indevida cancelei meu plano antes de ...</td>\n",
              "    </tr>\n",
              "    <tr>\n",
              "      <th>3</th>\n",
              "      <td>pedido reincidente</td>\n",
              "      <td>olha fiz compra veio errada, e veio errado nov...</td>\n",
              "      <td>pedido reincidente olha fiz compra veio errada...</td>\n",
              "    </tr>\n",
              "    <tr>\n",
              "      <th>4</th>\n",
              "      <td>assinatura para vender na amazon brasil</td>\n",
              "      <td>eu me inscrevi na amazon para realizar vendas ...</td>\n",
              "      <td>assinatura para vender na amazon brasil eu me ...</td>\n",
              "    </tr>\n",
              "  </tbody>\n",
              "</table>\n",
              "</div>\n",
              "      <button class=\"colab-df-convert\" onclick=\"convertToInteractive('df-e14aad2f-90c4-4a02-af57-71a6c0d342ff')\"\n",
              "              title=\"Convert this dataframe to an interactive table.\"\n",
              "              style=\"display:none;\">\n",
              "        \n",
              "  <svg xmlns=\"http://www.w3.org/2000/svg\" height=\"24px\"viewBox=\"0 0 24 24\"\n",
              "       width=\"24px\">\n",
              "    <path d=\"M0 0h24v24H0V0z\" fill=\"none\"/>\n",
              "    <path d=\"M18.56 5.44l.94 2.06.94-2.06 2.06-.94-2.06-.94-.94-2.06-.94 2.06-2.06.94zm-11 1L8.5 8.5l.94-2.06 2.06-.94-2.06-.94L8.5 2.5l-.94 2.06-2.06.94zm10 10l.94 2.06.94-2.06 2.06-.94-2.06-.94-.94-2.06-.94 2.06-2.06.94z\"/><path d=\"M17.41 7.96l-1.37-1.37c-.4-.4-.92-.59-1.43-.59-.52 0-1.04.2-1.43.59L10.3 9.45l-7.72 7.72c-.78.78-.78 2.05 0 2.83L4 21.41c.39.39.9.59 1.41.59.51 0 1.02-.2 1.41-.59l7.78-7.78 2.81-2.81c.8-.78.8-2.07 0-2.86zM5.41 20L4 18.59l7.72-7.72 1.47 1.35L5.41 20z\"/>\n",
              "  </svg>\n",
              "      </button>\n",
              "      \n",
              "  <style>\n",
              "    .colab-df-container {\n",
              "      display:flex;\n",
              "      flex-wrap:wrap;\n",
              "      gap: 12px;\n",
              "    }\n",
              "\n",
              "    .colab-df-convert {\n",
              "      background-color: #E8F0FE;\n",
              "      border: none;\n",
              "      border-radius: 50%;\n",
              "      cursor: pointer;\n",
              "      display: none;\n",
              "      fill: #1967D2;\n",
              "      height: 32px;\n",
              "      padding: 0 0 0 0;\n",
              "      width: 32px;\n",
              "    }\n",
              "\n",
              "    .colab-df-convert:hover {\n",
              "      background-color: #E2EBFA;\n",
              "      box-shadow: 0px 1px 2px rgba(60, 64, 67, 0.3), 0px 1px 3px 1px rgba(60, 64, 67, 0.15);\n",
              "      fill: #174EA6;\n",
              "    }\n",
              "\n",
              "    [theme=dark] .colab-df-convert {\n",
              "      background-color: #3B4455;\n",
              "      fill: #D2E3FC;\n",
              "    }\n",
              "\n",
              "    [theme=dark] .colab-df-convert:hover {\n",
              "      background-color: #434B5C;\n",
              "      box-shadow: 0px 1px 3px 1px rgba(0, 0, 0, 0.15);\n",
              "      filter: drop-shadow(0px 1px 2px rgba(0, 0, 0, 0.3));\n",
              "      fill: #FFFFFF;\n",
              "    }\n",
              "  </style>\n",
              "\n",
              "      <script>\n",
              "        const buttonEl =\n",
              "          document.querySelector('#df-e14aad2f-90c4-4a02-af57-71a6c0d342ff button.colab-df-convert');\n",
              "        buttonEl.style.display =\n",
              "          google.colab.kernel.accessAllowed ? 'block' : 'none';\n",
              "\n",
              "        async function convertToInteractive(key) {\n",
              "          const element = document.querySelector('#df-e14aad2f-90c4-4a02-af57-71a6c0d342ff');\n",
              "          const dataTable =\n",
              "            await google.colab.kernel.invokeFunction('convertToInteractive',\n",
              "                                                     [key], {});\n",
              "          if (!dataTable) return;\n",
              "\n",
              "          const docLinkHtml = 'Like what you see? Visit the ' +\n",
              "            '<a target=\"_blank\" href=https://colab.research.google.com/notebooks/data_table.ipynb>data table notebook</a>'\n",
              "            + ' to learn more about interactive tables.';\n",
              "          element.innerHTML = '';\n",
              "          dataTable['output_type'] = 'display_data';\n",
              "          await google.colab.output.renderOutput(dataTable, element);\n",
              "          const docLink = document.createElement('div');\n",
              "          docLink.innerHTML = docLinkHtml;\n",
              "          element.appendChild(docLink);\n",
              "        }\n",
              "      </script>\n",
              "    </div>\n",
              "  </div>\n",
              "  "
            ]
          },
          "metadata": {},
          "execution_count": 11
        }
      ]
    },
    {
      "cell_type": "markdown",
      "source": [
        "## **Preprocessing**"
      ],
      "metadata": {
        "id": "drjuwA5yk4YB"
      }
    },
    {
      "cell_type": "markdown",
      "source": [
        "### **Tokenization**\n",
        "\n",
        "Tokenization aims to breaking text down into its component parts"
      ],
      "metadata": {
        "id": "i9ukWCy8qBOP"
      }
    },
    {
      "cell_type": "code",
      "source": [
        "WORD_TOKENIZER = nltk.tokenize.word_tokenize\n",
        "def tokenize(text, lowercase=True):\n",
        "  if lowercase:\n",
        "    text = text.lower()\n",
        "  return WORD_TOKENIZER(text, language=\"portuguese\")"
      ],
      "metadata": {
        "id": "k_f8hsxJk7v4"
      },
      "execution_count": 67,
      "outputs": []
    },
    {
      "cell_type": "markdown",
      "source": [
        "### **Stem** \n",
        "\n",
        "Stem the tokens. This step aims to remove morphological affixes and normalize to standardized stem forms"
      ],
      "metadata": {
        "id": "Lm7V--yMq98r"
      }
    },
    {
      "cell_type": "code",
      "source": [
        "STEMMER = nltk.stem.RSLPStemmer()\n",
        "def stem(tokens):\n",
        "  return [STEMMER.stem(token) for token in tokens]"
      ],
      "metadata": {
        "id": "TphgFQIxrPMM"
      },
      "execution_count": 70,
      "outputs": []
    },
    {
      "cell_type": "markdown",
      "source": [
        "### **Lemmatize**\n",
        "\n",
        "Lemmatize the tokens. Retains more natural forms than stemming, but assumes all tokens nons unless tokens are passed as (word, pos) tuples. Note: nltk lemmatize does not suport portugues language"
      ],
      "metadata": {
        "id": "RTiUcqzrrdiX"
      }
    },
    {
      "cell_type": "code",
      "source": [
        "LEMMATIZER = nltk.WordNetLemmatizer()\n",
        "\n",
        "def lemmatize(tokens):\n",
        "  lemmas = []\n",
        "  for token in tokens:\n",
        "      if isinstance(token, str):\n",
        "          # treats token like a noun\n",
        "          lemmas.append(LEMMATIZER.lemmatize(token)) \n",
        "      else: \n",
        "          # assume a tuple of (word, pos)\n",
        "          lemmas.append(LEMMATIZER.lemmatize(*token))\n",
        "  return lemmas"
      ],
      "metadata": {
        "id": "4O48ihphrxy3"
      },
      "execution_count": 61,
      "outputs": []
    },
    {
      "cell_type": "markdown",
      "source": [
        "### **Remove stopwords**\n",
        "\n",
        "Stop words are things like articles and conjunctions that usually do not offer a lot of value in an analysis."
      ],
      "metadata": {
        "id": "jkLYqJgDs4Xd"
      }
    },
    {
      "cell_type": "code",
      "source": [
        "def remove_stopwords(tokens, stopwords=None):\n",
        "\n",
        "  # Use the default stop words if none is passed\n",
        "  if stopwords is None:\n",
        "    stopwords = nltk.corpus.stopwords.words('portuguese')\n",
        "  \n",
        "  # Filter the list of tokens to exclude the stop word tokens\n",
        "  return [token for token in tokens if token not in stopwords]"
      ],
      "metadata": {
        "id": "D9blZaBYtHgj"
      },
      "execution_count": 71,
      "outputs": []
    },
    {
      "cell_type": "markdown",
      "source": [
        "### **Remove hyperlinks**\n",
        "\n",
        "Removes http/s links from the tokens."
      ],
      "metadata": {
        "id": "X4qMKyfKtaAW"
      }
    },
    {
      "cell_type": "code",
      "source": [
        "def remove_links(tokens):\n",
        "  # Filter tokens that starts with \"http://\" or \"https://\"\n",
        "  return [token for token in tokens \n",
        "          if not token.startswith(\"http://\")\n",
        "          and not token.startswith(\"https://\")]"
      ],
      "metadata": {
        "id": "LqlMta5qtovS"
      },
      "execution_count": 16,
      "outputs": []
    },
    {
      "cell_type": "markdown",
      "source": [
        "### **Remove numbers**"
      ],
      "metadata": {
        "id": "EwKFluprz-pW"
      }
    },
    {
      "cell_type": "code",
      "source": [
        "def remove_numbers(tokens):\n",
        "  # Filter out number tokens using a list comprehension and the isnumeric method\n",
        "  return [token for token in tokens if not token.isnumeric()]\n"
      ],
      "metadata": {
        "id": "ALKnXv8C0EWu"
      },
      "execution_count": 72,
      "outputs": []
    },
    {
      "cell_type": "markdown",
      "source": [
        "### **Remove date**"
      ],
      "metadata": {
        "id": "a0pZKAQ7ZJHL"
      }
    },
    {
      "cell_type": "code",
      "source": [
        "def remove_date(tokens):\n",
        "  # Compile a regular expression to match dates in the format dd/mm or dd/mm/yyyy\n",
        "  date_regex = re.compile(r'\\d{2}/\\d{2}(/\\d{4})?')\n",
        "\n",
        "  # Use the regex to find all the tokens that match the date pattern\n",
        "  dates = [token for token in tokens if date_regex.fullmatch(token)]\n",
        "\n",
        "  # Filter the list of tokens to exclude the date tokens\n",
        "  filtered_tokens = [token for token in tokens if token not in dates]\n",
        "\n",
        "  # Return the filtered tokens\n",
        "  return filtered_tokens"
      ],
      "metadata": {
        "id": "ywykIjKZctc-"
      },
      "execution_count": 18,
      "outputs": []
    },
    {
      "cell_type": "markdown",
      "source": [
        "### **Remove punctuation**"
      ],
      "metadata": {
        "id": "7y1FqCD1t75_"
      }
    },
    {
      "cell_type": "code",
      "source": [
        "def remove_punctuation(tokens,\n",
        "                       strip_mentions=False,\n",
        "                       strip_hashtags=False,\n",
        "                       strict=False):\n",
        "\n",
        "    # Use the sub method to remove all punctuation characters\n",
        "    tokens = [re.sub(r\"[,!?.]\", \"\", t) for t in tokens ] \n",
        "\n",
        "    # Remove punctuation\n",
        "    #tokens = [t for t in tokens if t not in string.punctuation]\n",
        "\n",
        "    # Remove @ symbol from left side of tokens\n",
        "    if strip_mentions:\n",
        "        tokens = [t.lstrip('@') for t in tokens]\n",
        "\n",
        "    # Remove # symbol from left side of tokens\n",
        "    if strip_hashtags:\n",
        "        tokens = [t.lstrip('#') for t in tokens]\n",
        "\n",
        "    return tokens"
      ],
      "metadata": {
        "id": "ba7paG7_uBtS"
      },
      "execution_count": 19,
      "outputs": []
    },
    {
      "cell_type": "markdown",
      "source": [
        "### **Remove short tokens**"
      ],
      "metadata": {
        "id": "SiUx2T8C5YBh"
      }
    },
    {
      "cell_type": "code",
      "source": [
        "def remove_short_tokens(tokens):\n",
        "  # Filter the list of tokens to exclude tokens that are shorter than four letters\n",
        "  filtered_tokens = [token for token in tokens if len(token) >= 4]\n",
        "\n",
        "  # Return the filtered tokens\n",
        "  return filtered_tokens"
      ],
      "metadata": {
        "id": "t8SOwNYW6QI1"
      },
      "execution_count": 20,
      "outputs": []
    },
    {
      "cell_type": "markdown",
      "source": [
        "### **Correction of spelling errors**"
      ],
      "metadata": {
        "id": "WqtOisN38pZP"
      }
    },
    {
      "cell_type": "code",
      "source": [
        "def check_spell_errors(text):\n",
        "  # Create a SpellChecker object\n",
        "  spell = SpellChecker(language='pt')\n",
        "\n",
        "  # Correct the spelling errors in the text\n",
        "  corrected_text = spell.correction(text)\n",
        "\n",
        "  # If no correction is present user the original text\n",
        "  if corrected_text == None:\n",
        "     corrected_text =  text\n",
        "  \n",
        "  # Return the corrected text\n",
        "  return corrected_text"
      ],
      "metadata": {
        "id": "fUTiJYc_8hba"
      },
      "execution_count": 21,
      "outputs": []
    },
    {
      "cell_type": "code",
      "source": [
        "def preprocessing(documents):\n",
        "  corpus = []\n",
        "\n",
        "  # process each document and append to corpus list\n",
        "  for i, text in enumerate(documents):\n",
        "    if i % 1000 == 0:\n",
        "      print(f\"{i} documents of {len(documents)}\")\n",
        "    text = check_spell_errors(text)\n",
        "    tokens = tokenize(text)\n",
        "    tokens = remove_links(tokens)\n",
        "    tokens = remove_punctuation(tokens, strip_mentions=True, strip_hashtags=True)\n",
        "    tokens = remove_numbers(tokens)\n",
        "    tokens = remove_date(tokens)\n",
        "    tokens = remove_short_tokens(tokens)\n",
        "    tokens = remove_stopwords(tokens)\n",
        "    tokens = stem(tokens) \n",
        "    corpus.append(' '.join(tokens))\n",
        "  return corpus"
      ],
      "metadata": {
        "id": "5aiFtbo3uuh_"
      },
      "execution_count": 76,
      "outputs": []
    },
    {
      "cell_type": "code",
      "source": [
        "# Print the first document before and after pre-processing it\n",
        "corpus = preprocessing(df.documents) \n",
        "print(df.documents[0])\n",
        "print()\n",
        "corpus[0]"
      ],
      "metadata": {
        "id": "Tu75mPgywHwb",
        "outputId": "95a65817-9c39-41ee-b2e8-c810a1a73e83",
        "colab": {
          "base_uri": "https://localhost:8080/"
        }
      },
      "execution_count": null,
      "outputs": [
        {
          "output_type": "stream",
          "name": "stdout",
          "text": [
            "0 documents of 10510\n",
            "1000 documents of 10510\n"
          ]
        }
      ]
    },
    {
      "cell_type": "markdown",
      "source": [
        "## **Training a BERTopic Model**\n",
        "\n",
        "The BERTopic algorithm has several advantages over other topic modeling algorithms. It is able to handle sparse data, it is scalable to large datasets, and it is able to learn topics that are not well-defined or are overlapping.\n",
        "\n",
        "As our data language is portuguese we will going to set language to multilingual."
      ],
      "metadata": {
        "id": "AWmOFQ3VOD05"
      }
    },
    {
      "cell_type": "markdown",
      "source": [
        "### **Enabling the GPU**\n",
        "\n",
        "We will use the GPU provided by COLAB to accelarate our model training. To enable GPUs for the notebook:\n",
        "1- Navigate to Edit -> Notebook Settings\n",
        "2- Select GPU from the Hardware Accelerator drop-down"
      ],
      "metadata": {
        "id": "5goOGgeyhK3S"
      }
    },
    {
      "cell_type": "code",
      "source": [
        "# verify if GPU is enable\n",
        "gpu_info = !nvidia-smi\n",
        "gpu_info = '\\n'.join(gpu_info)\n",
        "if gpu_info.find('failed') >= 0:\n",
        "  print('Not connected to a GPU')\n",
        "else:\n",
        "  print(gpu_info)"
      ],
      "metadata": {
        "id": "tgfQItxxRCfq",
        "outputId": "66d2c9cc-6993-453c-d95f-c4f0ad5ac2c3",
        "colab": {
          "base_uri": "https://localhost:8080/"
        }
      },
      "execution_count": 24,
      "outputs": [
        {
          "output_type": "stream",
          "name": "stdout",
          "text": [
            "Not connected to a GPU\n"
          ]
        }
      ]
    },
    {
      "cell_type": "markdown",
      "source": [
        "Create a new BERTopic model and train it. By default BERTopic use the paraphrase-multilingual-MiniLM-L12-v2 model for multi language documents. For others model check here [BERTopic sentence transformers](https://maartengr.github.io/BERTopic/getting_started/embeddings/embeddings.html#sentence-transformers)"
      ],
      "metadata": {
        "id": "_mBsnRnhgbm9"
      }
    },
    {
      "cell_type": "code",
      "source": [
        "# Create a new BERTopic model using multilingual option\n",
        "topic_model = BERTopic(language=\"multilingual\", calculate_probabilities=True, verbose=True)\n",
        "\n",
        "# Train model \n",
        "topics, probs = topic_model.fit_transform(corpus)"
      ],
      "metadata": {
        "id": "B0EFqnutN2Y9",
        "outputId": "a02c0a8a-15d5-4e6f-b69a-d301cbd51e30",
        "colab": {
          "base_uri": "https://localhost:8080/",
          "height": 104,
          "referenced_widgets": [
            "6b95fce49e3945e1a1fe0497b924a336",
            "31a64fb0159f49b4ab77a18129eafc7f",
            "603b0c5f488041a18a1feb4b48b03c29",
            "b42ea764db514fdc84e2e3d009f7a0aa",
            "4efe7a3fcfcb46bfad66e3399e182880",
            "d7ede27f681a415c84634360cf3e215f",
            "1bc481899bdb4d20924e3722bd0b9974",
            "dfee4e86f48840df9154a4c2d78ab0e2",
            "80e12074c7444ce691cf3c7454453d66",
            "5891179f653b4df6b0c4ac53709a5477",
            "032f2449b0c742ba98243671419cf90a"
          ]
        }
      },
      "execution_count": 42,
      "outputs": [
        {
          "output_type": "display_data",
          "data": {
            "text/plain": [
              "Batches:   0%|          | 0/329 [00:00<?, ?it/s]"
            ],
            "application/vnd.jupyter.widget-view+json": {
              "version_major": 2,
              "version_minor": 0,
              "model_id": "6b95fce49e3945e1a1fe0497b924a336"
            }
          },
          "metadata": {}
        },
        {
          "output_type": "stream",
          "name": "stderr",
          "text": [
            "2022-12-11 03:43:54,636 - BERTopic - Transformed documents to Embeddings\n",
            "2022-12-11 03:44:10,984 - BERTopic - Reduced dimensionality\n",
            "2022-12-11 03:44:14,685 - BERTopic - Clustered reduced embeddings\n"
          ]
        }
      ]
    },
    {
      "cell_type": "markdown",
      "source": [
        "BERTopic works in three main steps: \n",
        "\n",
        "\n",
        "1.   Documents are first converted to numeric data. It extracts different embeddings based on the context of the word. For this, a sentence transformation model is used.\n",
        "2.  Documents with similar topics are then grouped together forming clusters with similar topics. For this purpose, BERTopic uses the clustering algorithm UMAP to lower the dimensionality of the embeddings. Then the documents are clustered with the density-based algorithm HDBSCAN.\n",
        "3. BERTopic extract topics from clusters using a class-based TF-IDF score. This score gives the importance of each word in cluster. Topic are then created based on most important words measured by its C-TF-IDF score.\n",
        "\n",
        "For more information check this link [BERTopic](https://towardsdatascience.com/topic-modeling-with-bert-779f7db187e6)\n",
        "\n"
      ],
      "metadata": {
        "id": "vnG5aC6ekXeu"
      }
    },
    {
      "cell_type": "markdown",
      "source": [
        "## **Extracting Topics**"
      ],
      "metadata": {
        "id": "GimKIMmaRZSd"
      }
    },
    {
      "cell_type": "code",
      "source": [
        "# print the most frequent topics\n",
        "freq = topic_model.get_topic_info()\n",
        "freq.head(5)"
      ],
      "metadata": {
        "id": "JIrBNmF-Rcf0",
        "outputId": "c6ae3b70-7531-4b80-fb8b-ce25932d440a",
        "colab": {
          "base_uri": "https://localhost:8080/",
          "height": 206
        }
      },
      "execution_count": 43,
      "outputs": [
        {
          "output_type": "execute_result",
          "data": {
            "text/plain": [
              "   Topic  Count                                      Name\n",
              "0     -1   4990          -1_produto_compra_pedido_entrega\n",
              "1      0    724            0_casas_bahia_whatsapp_entrega\n",
              "2      1    345        1_celular_samsung_aparelho_comprei\n",
              "3      2    313          2_endereço_pedido_entregue_shein\n",
              "4      3    270  3_cancelamento_cancelar_pedido_cancelado"
            ],
            "text/html": [
              "\n",
              "  <div id=\"df-269bb01a-601b-4bab-b5db-03ae42b502e0\">\n",
              "    <div class=\"colab-df-container\">\n",
              "      <div>\n",
              "<style scoped>\n",
              "    .dataframe tbody tr th:only-of-type {\n",
              "        vertical-align: middle;\n",
              "    }\n",
              "\n",
              "    .dataframe tbody tr th {\n",
              "        vertical-align: top;\n",
              "    }\n",
              "\n",
              "    .dataframe thead th {\n",
              "        text-align: right;\n",
              "    }\n",
              "</style>\n",
              "<table border=\"1\" class=\"dataframe\">\n",
              "  <thead>\n",
              "    <tr style=\"text-align: right;\">\n",
              "      <th></th>\n",
              "      <th>Topic</th>\n",
              "      <th>Count</th>\n",
              "      <th>Name</th>\n",
              "    </tr>\n",
              "  </thead>\n",
              "  <tbody>\n",
              "    <tr>\n",
              "      <th>0</th>\n",
              "      <td>-1</td>\n",
              "      <td>4990</td>\n",
              "      <td>-1_produto_compra_pedido_entrega</td>\n",
              "    </tr>\n",
              "    <tr>\n",
              "      <th>1</th>\n",
              "      <td>0</td>\n",
              "      <td>724</td>\n",
              "      <td>0_casas_bahia_whatsapp_entrega</td>\n",
              "    </tr>\n",
              "    <tr>\n",
              "      <th>2</th>\n",
              "      <td>1</td>\n",
              "      <td>345</td>\n",
              "      <td>1_celular_samsung_aparelho_comprei</td>\n",
              "    </tr>\n",
              "    <tr>\n",
              "      <th>3</th>\n",
              "      <td>2</td>\n",
              "      <td>313</td>\n",
              "      <td>2_endereço_pedido_entregue_shein</td>\n",
              "    </tr>\n",
              "    <tr>\n",
              "      <th>4</th>\n",
              "      <td>3</td>\n",
              "      <td>270</td>\n",
              "      <td>3_cancelamento_cancelar_pedido_cancelado</td>\n",
              "    </tr>\n",
              "  </tbody>\n",
              "</table>\n",
              "</div>\n",
              "      <button class=\"colab-df-convert\" onclick=\"convertToInteractive('df-269bb01a-601b-4bab-b5db-03ae42b502e0')\"\n",
              "              title=\"Convert this dataframe to an interactive table.\"\n",
              "              style=\"display:none;\">\n",
              "        \n",
              "  <svg xmlns=\"http://www.w3.org/2000/svg\" height=\"24px\"viewBox=\"0 0 24 24\"\n",
              "       width=\"24px\">\n",
              "    <path d=\"M0 0h24v24H0V0z\" fill=\"none\"/>\n",
              "    <path d=\"M18.56 5.44l.94 2.06.94-2.06 2.06-.94-2.06-.94-.94-2.06-.94 2.06-2.06.94zm-11 1L8.5 8.5l.94-2.06 2.06-.94-2.06-.94L8.5 2.5l-.94 2.06-2.06.94zm10 10l.94 2.06.94-2.06 2.06-.94-2.06-.94-.94-2.06-.94 2.06-2.06.94z\"/><path d=\"M17.41 7.96l-1.37-1.37c-.4-.4-.92-.59-1.43-.59-.52 0-1.04.2-1.43.59L10.3 9.45l-7.72 7.72c-.78.78-.78 2.05 0 2.83L4 21.41c.39.39.9.59 1.41.59.51 0 1.02-.2 1.41-.59l7.78-7.78 2.81-2.81c.8-.78.8-2.07 0-2.86zM5.41 20L4 18.59l7.72-7.72 1.47 1.35L5.41 20z\"/>\n",
              "  </svg>\n",
              "      </button>\n",
              "      \n",
              "  <style>\n",
              "    .colab-df-container {\n",
              "      display:flex;\n",
              "      flex-wrap:wrap;\n",
              "      gap: 12px;\n",
              "    }\n",
              "\n",
              "    .colab-df-convert {\n",
              "      background-color: #E8F0FE;\n",
              "      border: none;\n",
              "      border-radius: 50%;\n",
              "      cursor: pointer;\n",
              "      display: none;\n",
              "      fill: #1967D2;\n",
              "      height: 32px;\n",
              "      padding: 0 0 0 0;\n",
              "      width: 32px;\n",
              "    }\n",
              "\n",
              "    .colab-df-convert:hover {\n",
              "      background-color: #E2EBFA;\n",
              "      box-shadow: 0px 1px 2px rgba(60, 64, 67, 0.3), 0px 1px 3px 1px rgba(60, 64, 67, 0.15);\n",
              "      fill: #174EA6;\n",
              "    }\n",
              "\n",
              "    [theme=dark] .colab-df-convert {\n",
              "      background-color: #3B4455;\n",
              "      fill: #D2E3FC;\n",
              "    }\n",
              "\n",
              "    [theme=dark] .colab-df-convert:hover {\n",
              "      background-color: #434B5C;\n",
              "      box-shadow: 0px 1px 3px 1px rgba(0, 0, 0, 0.15);\n",
              "      filter: drop-shadow(0px 1px 2px rgba(0, 0, 0, 0.3));\n",
              "      fill: #FFFFFF;\n",
              "    }\n",
              "  </style>\n",
              "\n",
              "      <script>\n",
              "        const buttonEl =\n",
              "          document.querySelector('#df-269bb01a-601b-4bab-b5db-03ae42b502e0 button.colab-df-convert');\n",
              "        buttonEl.style.display =\n",
              "          google.colab.kernel.accessAllowed ? 'block' : 'none';\n",
              "\n",
              "        async function convertToInteractive(key) {\n",
              "          const element = document.querySelector('#df-269bb01a-601b-4bab-b5db-03ae42b502e0');\n",
              "          const dataTable =\n",
              "            await google.colab.kernel.invokeFunction('convertToInteractive',\n",
              "                                                     [key], {});\n",
              "          if (!dataTable) return;\n",
              "\n",
              "          const docLinkHtml = 'Like what you see? Visit the ' +\n",
              "            '<a target=\"_blank\" href=https://colab.research.google.com/notebooks/data_table.ipynb>data table notebook</a>'\n",
              "            + ' to learn more about interactive tables.';\n",
              "          element.innerHTML = '';\n",
              "          dataTable['output_type'] = 'display_data';\n",
              "          await google.colab.output.renderOutput(dataTable, element);\n",
              "          const docLink = document.createElement('div');\n",
              "          docLink.innerHTML = docLinkHtml;\n",
              "          element.appendChild(docLink);\n",
              "        }\n",
              "      </script>\n",
              "    </div>\n",
              "  </div>\n",
              "  "
            ]
          },
          "metadata": {},
          "execution_count": 43
        }
      ]
    },
    {
      "cell_type": "markdown",
      "source": [
        "The table above shows the five most freqeuente topics and the words present on it extract by BERTopic. -1 refers to all outliers and should be ignored."
      ],
      "metadata": {
        "id": "TVWcfF5mRrMy"
      }
    },
    {
      "cell_type": "code",
      "source": [
        "# show the most frequent topic\n",
        "topic_model.get_topic(1)"
      ],
      "metadata": {
        "id": "Br_UMf1kRxU3",
        "outputId": "81c14323-103c-471c-bc30-b762b7b26e44",
        "colab": {
          "base_uri": "https://localhost:8080/"
        }
      },
      "execution_count": 44,
      "outputs": [
        {
          "output_type": "execute_result",
          "data": {
            "text/plain": [
              "[('celular', 0.035869695068834),\n",
              " ('samsung', 0.029649884066389198),\n",
              " ('aparelho', 0.019810755291385734),\n",
              " ('comprei', 0.012916737984595703),\n",
              " ('smartphone', 0.012110300496881584),\n",
              " ('galaxy', 0.011892953898938784),\n",
              " ('produto', 0.011798878728084822),\n",
              " ('americana', 0.010137968464132147),\n",
              " ('defeito', 0.01001326182850664),\n",
              " ('loja', 0.00997724042300456)]"
            ]
          },
          "metadata": {},
          "execution_count": 44
        }
      ]
    },
    {
      "cell_type": "markdown",
      "source": [
        "**Note:** BERTopic is stocastich which means that the topics might differ across runs this is mostly due to the stocastisch nature of UMAP"
      ],
      "metadata": {
        "id": "YpP4HgF2R6Wa"
      }
    },
    {
      "cell_type": "markdown",
      "source": [
        "## **Visualization**"
      ],
      "metadata": {
        "id": "wBsA8hiVSJDY"
      }
    },
    {
      "cell_type": "markdown",
      "source": [
        "### **Intertopic Distance Map**\n",
        "\n",
        "This graph shows the distance intertopic and help us understand the promixity of topics"
      ],
      "metadata": {
        "id": "2twooZDXUc2T"
      }
    },
    {
      "cell_type": "code",
      "source": [
        "topic_model.visualize_topics()"
      ],
      "metadata": {
        "id": "Ae2JSAENSIOJ",
        "outputId": "aa569f0e-77c6-4214-c3a2-cdad76bfdfd7",
        "colab": {
          "base_uri": "https://localhost:8080/",
          "height": 667
        }
      },
      "execution_count": 45,
      "outputs": [
        {
          "output_type": "display_data",
          "data": {
            "text/html": [
              "<html>\n",
              "<head><meta charset=\"utf-8\" /></head>\n",
              "<body>\n",
              "    <div>            <script src=\"https://cdnjs.cloudflare.com/ajax/libs/mathjax/2.7.5/MathJax.js?config=TeX-AMS-MML_SVG\"></script><script type=\"text/javascript\">if (window.MathJax) {MathJax.Hub.Config({SVG: {font: \"STIX-Web\"}});}</script>                <script type=\"text/javascript\">window.PlotlyConfig = {MathJaxConfig: 'local'};</script>\n",
              "        <script src=\"https://cdn.plot.ly/plotly-2.8.3.min.js\"></script>                <div id=\"781d1d5c-c453-4253-b49e-77ea0f49447a\" class=\"plotly-graph-div\" style=\"height:650px; width:650px;\"></div>            <script type=\"text/javascript\">                                    window.PLOTLYENV=window.PLOTLYENV || {};                                    if (document.getElementById(\"781d1d5c-c453-4253-b49e-77ea0f49447a\")) {                    Plotly.newPlot(                        \"781d1d5c-c453-4253-b49e-77ea0f49447a\",                        [{\"customdata\":[[0,\"casas | bahia | whatsapp | entrega | transportadora\",724],[1,\"celular | samsung | aparelho | comprei | smartphone\",345],[2,\"endere\\u00e7o | pedido | entregue | shein | encomenda\",313],[3,\"cancelamento | cancelar | pedido | cancelado | compra\",270],[4,\"atraso | entrega | atrasada | previs\\u00e3o | prazo\",263],[5,\"magazine | loja | poi | compra | luiza\",246],[6,\"assinatura | cobran\\u00e7a | prime | amazon | indevida\",207],[7,\"defeito | produto | quebrado | pe\\u00e7a | veio\",178],[8,\"propaganda | enganosa | an\\u00fancio | americana | site\",171],[9,\"conta | senha | acessar | mail | acesso\",168],[10,\"livre | mercado | reclama\\u00e7\\u00e3o | vendedor | plataforma\",151],[11,\"amazon | reembolso | devolu\\u00e7\\u00e3o | produto | valor\",125],[12,\"americana | lojas | compra | site | pedido\",124],[13,\"iphone | apple | carregador | aparelho | celular\",121],[14,\"brasil | shein | aeroporto | pedido | encomenda\",115],[15,\"cart\\u00e3o | cr\\u00e9dito | cobran\\u00e7a | pagamento | cart\\u00f5es\",105],[16,\"roupas | vestido | cal\\u00e7a | cal\\u00e7as | comprei\",92],[17,\"amazon | transportadora | entregue | express | entrega\",90],[18,\"geladeira | refrigerador | troca | magalu | amassado\",84],[19,\"reembolso | taxada | dinheiro | shein | recebi\",79],[20,\"curitiba | parado | tr\\u00e2nsito | encomenda | parada\",63],[21,\"conta | bloqueada | amazon | senha | acessar\",58],[22,\"amazon | entrega | empresa | vendedor | data\",57],[23,\"jogo | lan\\u00e7amento | venda | ragnarok | pr\\u00e9\",56],[24,\"dinheiro | recebi | quero | volta | reembolso\",53],[25,\"cashback | 02 | valor | americana | extrato\",51],[26,\"cadeira | sof\\u00e1 | cama | veio | gamer\",51],[27,\"entregue | recebi | consta | mercadoria | pedido\",48],[28,\"livro | livros | entregue | amazon | recebi\",48],[29,\"reembolso | estorno | valor | cart\\u00e3o | reembolsado\",43],[30,\"produto | produtos | entregue | shein | mercadoria\",42],[31,\"cancelamento | amazon | cancelado | pedido | direcional\",41],[32,\"m\\u00e1quina | lavar | maquina | lavadora | roupas\",40],[33,\"t\\u00eanis | tenis | raquete | mizuno | mirai\",39],[34,\"cart\\u00e3o | fatura | conta | pagar | pago\",38],[35,\"prazo | entrega | data | dia | ap\\u00f3s\",37],[36,\"conta | bloqueada | suspensa | bloquearam | desbloquear\",37],[37,\"embalagem | amazon | danificado | produto | caixa\",33],[38,\"rastreio | c\\u00f3digo | rastreamento | rastrear | aparece\",33],[39,\"devolu\\u00e7\\u00e3o | c\\u00f3digo | devolver | livre | mercado\",33],[40,\"bluetooth | fone | ouvido | fones | defeito\",33],[41,\"taxada | taxon | shein | valor | pagamento\",30],[42,\"cancelamento | loja | cancelar | compra | cancelado\",30],[43,\"shein | reembolso | nunca | capas | bermuda\",28],[44,\"frete | paguei | livre | mercado | reais\",27],[45,\"mercado | pago | livre | conta | cr\\u00e9dito\",27],[46,\"reconhecimento | facial | rosto | acessar | senha\",26],[47,\"cart\\u00e3o | banco | amazon | cobran\\u00e7as | cobran\\u00e7a\",26],[48,\"rob\\u00f4 | falar | correios | devolver | contato\",25],[49,\"entrega | cama | aplicativo | prazo | feira\",24],[50,\"garantia | fone | amazon | celular | xiaomi\",22],[51,\"tarefas | comiss\\u00e3o | tarefa | comiss\\u00f5es | dinheiro\",21],[52,\"atraso | prazo | entrega | loja | amobeleza\",20],[53,\"cancelei | estorno | cancelado | cart\\u00e3o | cancelamento\",20],[54,\"americana | lojas | facebook | airfryer | mondial\",19],[55,\"amazon | previs\\u00e3o | entrega | data | lan\\u00e7amento\",19],[56,\"china | order | postado | paciente | correios\",18],[57,\"amazon | prime | brinquedos | assinatura | suspensa\",18],[58,\"loja | magazine | luiza | 20 | 00\",18],[59,\"pagamento | confirma\\u00e7\\u00e3o | boleto | confirmado | mail\",17],[60,\"m\\u00fasicas | music | ouvir | playlist | amazon\",17],[61,\"pneu | pneus | pastilhas | freio | coleta\",17],[62,\"vestido | vestidos | casamento | nacional | shein\",16],[63,\"fog\\u00e3o | notebook | atlas | produto | recolher\",16],[64,\"cupom | finalizar | desconto | reais | americana\",15],[65,\"cart\\u00e3o | bloqueada | conta | negado | fatura\",14],[66,\"americana | ningu\\u00e9m | entrega | recebeu | entregador\",14],[67,\"entrega | preciso | pedido | hor\\u00e1rio | prazo\",14],[68,\"11 | entrega | jogo | atraso | 11o\",14],[69,\"prime | video | v\\u00eddeo | teste | ifood\",12],[70,\"internacional | nacionais | nacional | 36 | 57\",11],[71,\"c\\u00e2mera | vendedora | v\\u00eddeo | camera | por\\u00e9m\",10],[72,\"endere\\u00e7o | croppeds | tentativa | mail | casa\",10]],\"hovertemplate\":\"<b>Topic %{customdata[0]}</b><br>Words: %{customdata[1]}<br>Size: %{customdata[2]}\",\"legendgroup\":\"\",\"marker\":{\"color\":\"#B0BEC5\",\"size\":[724,345,313,270,263,246,207,178,171,168,151,125,124,121,115,105,92,90,84,79,63,58,57,56,53,51,51,48,48,43,42,41,40,39,38,37,37,33,33,33,33,30,30,28,27,27,26,26,25,24,22,21,20,20,19,19,18,18,18,17,17,17,16,16,15,14,14,14,14,12,11,10,10],\"sizemode\":\"area\",\"sizeref\":0.4525,\"symbol\":\"circle\",\"line\":{\"color\":\"DarkSlateGrey\",\"width\":2}},\"mode\":\"markers\",\"name\":\"\",\"orientation\":\"v\",\"showlegend\":false,\"x\":[11.105981826782227,11.166693687438965,-2.039762020111084,10.158246994018555,-7.157212257385254,10.870542526245117,20.559799194335938,-2.3936357498168945,10.83758544921875,8.39699649810791,11.351366996765137,-1.9169962406158447,-2.6231160163879395,10.982821464538574,-7.086311340332031,20.199447631835938,9.844226837158203,-2.2356839179992676,-2.2854974269866943,10.446954727172852,-6.300793647766113,8.791275978088379,-2.307856798171997,-2.9693517684936523,10.36606502532959,9.020120620727539,-2.2958805561065674,-5.49281120300293,-7.182672500610352,9.877955436706543,10.194310188293457,9.750823974609375,9.720115661621094,9.566619873046875,8.476516723632812,-2.8674495220184326,8.966902732849121,-2.5436208248138428,-6.424184322357178,9.139533996582031,-2.214177370071411,10.217475891113281,10.508649826049805,10.304694175720215,10.415535926818848,8.4774751663208,8.238129615783691,20.512052536010742,10.171911239624023,-2.3511734008789062,9.03800106048584,8.404250144958496,-1.6480766534805298,9.809164047241211,-5.241048812866211,-1.4748643636703491,-5.956355571746826,20.034547805786133,-2.274411678314209,9.677087783813477,19.93257713317871,-2.348985433578491,-6.278509140014648,-2.198615550994873,8.879817962646484,8.955217361450195,-5.394946098327637,-7.638422012329102,-7.678508281707764,9.997740745544434,-5.940772533416748,-5.579317092895508,-5.323471546173096],\"xaxis\":\"x\",\"y\":[13.246469497680664,13.367445945739746,6.526158332824707,10.910120964050293,1.2991023063659668,13.052700996398926,-2.214602470397949,8.793713569641113,13.012864112854004,-3.529329299926758,13.510697364807129,6.6066975593566895,5.5849199295043945,13.13888931274414,1.2059358358383179,-1.8543529510498047,9.21230411529541,6.307094573974609,8.875143051147461,9.896607398986816,1.5240882635116577,-3.3188223838806152,6.3597564697265625,5.158414840698242,10.088085174560547,10.931425094604492,8.89449691772461,-7.615241050720215,1.291123390197754,10.748663902282715,9.385699272155762,10.5859956741333,10.903207778930664,10.933418273925781,12.054884910583496,5.197013854980469,-3.532174825668335,8.646943092346191,1.352658987045288,-3.2060952186584473,5.178630352020264,10.201788902282715,12.449374198913574,9.51967716217041,10.052918434143066,12.232605934143066,-3.65293288230896,-2.166853904724121,9.463645935058594,5.1747517585754395,-3.095241069793701,12.122011184692383,5.5208587646484375,11.456770896911621,-7.866620063781738,5.640148162841797,1.8979836702346802,-1.6895548105239868,5.427042007446289,11.14646053314209,-1.587711215019226,5.387042045593262,1.529097318649292,5.527014255523682,11.044448852539062,-3.62910532951355,-7.712752342224121,1.4987174272537231,1.5218126773834229,10.972989082336426,1.9188488721847534,-7.5285468101501465,-7.784152507781982],\"yaxis\":\"y\",\"type\":\"scatter\"}],                        {\"template\":{\"data\":{\"barpolar\":[{\"marker\":{\"line\":{\"color\":\"white\",\"width\":0.5},\"pattern\":{\"fillmode\":\"overlay\",\"size\":10,\"solidity\":0.2}},\"type\":\"barpolar\"}],\"bar\":[{\"error_x\":{\"color\":\"rgb(36,36,36)\"},\"error_y\":{\"color\":\"rgb(36,36,36)\"},\"marker\":{\"line\":{\"color\":\"white\",\"width\":0.5},\"pattern\":{\"fillmode\":\"overlay\",\"size\":10,\"solidity\":0.2}},\"type\":\"bar\"}],\"carpet\":[{\"aaxis\":{\"endlinecolor\":\"rgb(36,36,36)\",\"gridcolor\":\"white\",\"linecolor\":\"white\",\"minorgridcolor\":\"white\",\"startlinecolor\":\"rgb(36,36,36)\"},\"baxis\":{\"endlinecolor\":\"rgb(36,36,36)\",\"gridcolor\":\"white\",\"linecolor\":\"white\",\"minorgridcolor\":\"white\",\"startlinecolor\":\"rgb(36,36,36)\"},\"type\":\"carpet\"}],\"choropleth\":[{\"colorbar\":{\"outlinewidth\":1,\"tickcolor\":\"rgb(36,36,36)\",\"ticks\":\"outside\"},\"type\":\"choropleth\"}],\"contourcarpet\":[{\"colorbar\":{\"outlinewidth\":1,\"tickcolor\":\"rgb(36,36,36)\",\"ticks\":\"outside\"},\"type\":\"contourcarpet\"}],\"contour\":[{\"colorbar\":{\"outlinewidth\":1,\"tickcolor\":\"rgb(36,36,36)\",\"ticks\":\"outside\"},\"colorscale\":[[0.0,\"#440154\"],[0.1111111111111111,\"#482878\"],[0.2222222222222222,\"#3e4989\"],[0.3333333333333333,\"#31688e\"],[0.4444444444444444,\"#26828e\"],[0.5555555555555556,\"#1f9e89\"],[0.6666666666666666,\"#35b779\"],[0.7777777777777778,\"#6ece58\"],[0.8888888888888888,\"#b5de2b\"],[1.0,\"#fde725\"]],\"type\":\"contour\"}],\"heatmapgl\":[{\"colorbar\":{\"outlinewidth\":1,\"tickcolor\":\"rgb(36,36,36)\",\"ticks\":\"outside\"},\"colorscale\":[[0.0,\"#440154\"],[0.1111111111111111,\"#482878\"],[0.2222222222222222,\"#3e4989\"],[0.3333333333333333,\"#31688e\"],[0.4444444444444444,\"#26828e\"],[0.5555555555555556,\"#1f9e89\"],[0.6666666666666666,\"#35b779\"],[0.7777777777777778,\"#6ece58\"],[0.8888888888888888,\"#b5de2b\"],[1.0,\"#fde725\"]],\"type\":\"heatmapgl\"}],\"heatmap\":[{\"colorbar\":{\"outlinewidth\":1,\"tickcolor\":\"rgb(36,36,36)\",\"ticks\":\"outside\"},\"colorscale\":[[0.0,\"#440154\"],[0.1111111111111111,\"#482878\"],[0.2222222222222222,\"#3e4989\"],[0.3333333333333333,\"#31688e\"],[0.4444444444444444,\"#26828e\"],[0.5555555555555556,\"#1f9e89\"],[0.6666666666666666,\"#35b779\"],[0.7777777777777778,\"#6ece58\"],[0.8888888888888888,\"#b5de2b\"],[1.0,\"#fde725\"]],\"type\":\"heatmap\"}],\"histogram2dcontour\":[{\"colorbar\":{\"outlinewidth\":1,\"tickcolor\":\"rgb(36,36,36)\",\"ticks\":\"outside\"},\"colorscale\":[[0.0,\"#440154\"],[0.1111111111111111,\"#482878\"],[0.2222222222222222,\"#3e4989\"],[0.3333333333333333,\"#31688e\"],[0.4444444444444444,\"#26828e\"],[0.5555555555555556,\"#1f9e89\"],[0.6666666666666666,\"#35b779\"],[0.7777777777777778,\"#6ece58\"],[0.8888888888888888,\"#b5de2b\"],[1.0,\"#fde725\"]],\"type\":\"histogram2dcontour\"}],\"histogram2d\":[{\"colorbar\":{\"outlinewidth\":1,\"tickcolor\":\"rgb(36,36,36)\",\"ticks\":\"outside\"},\"colorscale\":[[0.0,\"#440154\"],[0.1111111111111111,\"#482878\"],[0.2222222222222222,\"#3e4989\"],[0.3333333333333333,\"#31688e\"],[0.4444444444444444,\"#26828e\"],[0.5555555555555556,\"#1f9e89\"],[0.6666666666666666,\"#35b779\"],[0.7777777777777778,\"#6ece58\"],[0.8888888888888888,\"#b5de2b\"],[1.0,\"#fde725\"]],\"type\":\"histogram2d\"}],\"histogram\":[{\"marker\":{\"line\":{\"color\":\"white\",\"width\":0.6}},\"type\":\"histogram\"}],\"mesh3d\":[{\"colorbar\":{\"outlinewidth\":1,\"tickcolor\":\"rgb(36,36,36)\",\"ticks\":\"outside\"},\"type\":\"mesh3d\"}],\"parcoords\":[{\"line\":{\"colorbar\":{\"outlinewidth\":1,\"tickcolor\":\"rgb(36,36,36)\",\"ticks\":\"outside\"}},\"type\":\"parcoords\"}],\"pie\":[{\"automargin\":true,\"type\":\"pie\"}],\"scatter3d\":[{\"line\":{\"colorbar\":{\"outlinewidth\":1,\"tickcolor\":\"rgb(36,36,36)\",\"ticks\":\"outside\"}},\"marker\":{\"colorbar\":{\"outlinewidth\":1,\"tickcolor\":\"rgb(36,36,36)\",\"ticks\":\"outside\"}},\"type\":\"scatter3d\"}],\"scattercarpet\":[{\"marker\":{\"colorbar\":{\"outlinewidth\":1,\"tickcolor\":\"rgb(36,36,36)\",\"ticks\":\"outside\"}},\"type\":\"scattercarpet\"}],\"scattergeo\":[{\"marker\":{\"colorbar\":{\"outlinewidth\":1,\"tickcolor\":\"rgb(36,36,36)\",\"ticks\":\"outside\"}},\"type\":\"scattergeo\"}],\"scattergl\":[{\"marker\":{\"colorbar\":{\"outlinewidth\":1,\"tickcolor\":\"rgb(36,36,36)\",\"ticks\":\"outside\"}},\"type\":\"scattergl\"}],\"scattermapbox\":[{\"marker\":{\"colorbar\":{\"outlinewidth\":1,\"tickcolor\":\"rgb(36,36,36)\",\"ticks\":\"outside\"}},\"type\":\"scattermapbox\"}],\"scatterpolargl\":[{\"marker\":{\"colorbar\":{\"outlinewidth\":1,\"tickcolor\":\"rgb(36,36,36)\",\"ticks\":\"outside\"}},\"type\":\"scatterpolargl\"}],\"scatterpolar\":[{\"marker\":{\"colorbar\":{\"outlinewidth\":1,\"tickcolor\":\"rgb(36,36,36)\",\"ticks\":\"outside\"}},\"type\":\"scatterpolar\"}],\"scatter\":[{\"marker\":{\"colorbar\":{\"outlinewidth\":1,\"tickcolor\":\"rgb(36,36,36)\",\"ticks\":\"outside\"}},\"type\":\"scatter\"}],\"scatterternary\":[{\"marker\":{\"colorbar\":{\"outlinewidth\":1,\"tickcolor\":\"rgb(36,36,36)\",\"ticks\":\"outside\"}},\"type\":\"scatterternary\"}],\"surface\":[{\"colorbar\":{\"outlinewidth\":1,\"tickcolor\":\"rgb(36,36,36)\",\"ticks\":\"outside\"},\"colorscale\":[[0.0,\"#440154\"],[0.1111111111111111,\"#482878\"],[0.2222222222222222,\"#3e4989\"],[0.3333333333333333,\"#31688e\"],[0.4444444444444444,\"#26828e\"],[0.5555555555555556,\"#1f9e89\"],[0.6666666666666666,\"#35b779\"],[0.7777777777777778,\"#6ece58\"],[0.8888888888888888,\"#b5de2b\"],[1.0,\"#fde725\"]],\"type\":\"surface\"}],\"table\":[{\"cells\":{\"fill\":{\"color\":\"rgb(237,237,237)\"},\"line\":{\"color\":\"white\"}},\"header\":{\"fill\":{\"color\":\"rgb(217,217,217)\"},\"line\":{\"color\":\"white\"}},\"type\":\"table\"}]},\"layout\":{\"annotationdefaults\":{\"arrowhead\":0,\"arrowwidth\":1},\"autotypenumbers\":\"strict\",\"coloraxis\":{\"colorbar\":{\"outlinewidth\":1,\"tickcolor\":\"rgb(36,36,36)\",\"ticks\":\"outside\"}},\"colorscale\":{\"diverging\":[[0.0,\"rgb(103,0,31)\"],[0.1,\"rgb(178,24,43)\"],[0.2,\"rgb(214,96,77)\"],[0.3,\"rgb(244,165,130)\"],[0.4,\"rgb(253,219,199)\"],[0.5,\"rgb(247,247,247)\"],[0.6,\"rgb(209,229,240)\"],[0.7,\"rgb(146,197,222)\"],[0.8,\"rgb(67,147,195)\"],[0.9,\"rgb(33,102,172)\"],[1.0,\"rgb(5,48,97)\"]],\"sequential\":[[0.0,\"#440154\"],[0.1111111111111111,\"#482878\"],[0.2222222222222222,\"#3e4989\"],[0.3333333333333333,\"#31688e\"],[0.4444444444444444,\"#26828e\"],[0.5555555555555556,\"#1f9e89\"],[0.6666666666666666,\"#35b779\"],[0.7777777777777778,\"#6ece58\"],[0.8888888888888888,\"#b5de2b\"],[1.0,\"#fde725\"]],\"sequentialminus\":[[0.0,\"#440154\"],[0.1111111111111111,\"#482878\"],[0.2222222222222222,\"#3e4989\"],[0.3333333333333333,\"#31688e\"],[0.4444444444444444,\"#26828e\"],[0.5555555555555556,\"#1f9e89\"],[0.6666666666666666,\"#35b779\"],[0.7777777777777778,\"#6ece58\"],[0.8888888888888888,\"#b5de2b\"],[1.0,\"#fde725\"]]},\"colorway\":[\"#1F77B4\",\"#FF7F0E\",\"#2CA02C\",\"#D62728\",\"#9467BD\",\"#8C564B\",\"#E377C2\",\"#7F7F7F\",\"#BCBD22\",\"#17BECF\"],\"font\":{\"color\":\"rgb(36,36,36)\"},\"geo\":{\"bgcolor\":\"white\",\"lakecolor\":\"white\",\"landcolor\":\"white\",\"showlakes\":true,\"showland\":true,\"subunitcolor\":\"white\"},\"hoverlabel\":{\"align\":\"left\"},\"hovermode\":\"closest\",\"mapbox\":{\"style\":\"light\"},\"paper_bgcolor\":\"white\",\"plot_bgcolor\":\"white\",\"polar\":{\"angularaxis\":{\"gridcolor\":\"rgb(232,232,232)\",\"linecolor\":\"rgb(36,36,36)\",\"showgrid\":false,\"showline\":true,\"ticks\":\"outside\"},\"bgcolor\":\"white\",\"radialaxis\":{\"gridcolor\":\"rgb(232,232,232)\",\"linecolor\":\"rgb(36,36,36)\",\"showgrid\":false,\"showline\":true,\"ticks\":\"outside\"}},\"scene\":{\"xaxis\":{\"backgroundcolor\":\"white\",\"gridcolor\":\"rgb(232,232,232)\",\"gridwidth\":2,\"linecolor\":\"rgb(36,36,36)\",\"showbackground\":true,\"showgrid\":false,\"showline\":true,\"ticks\":\"outside\",\"zeroline\":false,\"zerolinecolor\":\"rgb(36,36,36)\"},\"yaxis\":{\"backgroundcolor\":\"white\",\"gridcolor\":\"rgb(232,232,232)\",\"gridwidth\":2,\"linecolor\":\"rgb(36,36,36)\",\"showbackground\":true,\"showgrid\":false,\"showline\":true,\"ticks\":\"outside\",\"zeroline\":false,\"zerolinecolor\":\"rgb(36,36,36)\"},\"zaxis\":{\"backgroundcolor\":\"white\",\"gridcolor\":\"rgb(232,232,232)\",\"gridwidth\":2,\"linecolor\":\"rgb(36,36,36)\",\"showbackground\":true,\"showgrid\":false,\"showline\":true,\"ticks\":\"outside\",\"zeroline\":false,\"zerolinecolor\":\"rgb(36,36,36)\"}},\"shapedefaults\":{\"fillcolor\":\"black\",\"line\":{\"width\":0},\"opacity\":0.3},\"ternary\":{\"aaxis\":{\"gridcolor\":\"rgb(232,232,232)\",\"linecolor\":\"rgb(36,36,36)\",\"showgrid\":false,\"showline\":true,\"ticks\":\"outside\"},\"baxis\":{\"gridcolor\":\"rgb(232,232,232)\",\"linecolor\":\"rgb(36,36,36)\",\"showgrid\":false,\"showline\":true,\"ticks\":\"outside\"},\"bgcolor\":\"white\",\"caxis\":{\"gridcolor\":\"rgb(232,232,232)\",\"linecolor\":\"rgb(36,36,36)\",\"showgrid\":false,\"showline\":true,\"ticks\":\"outside\"}},\"title\":{\"x\":0.05},\"xaxis\":{\"automargin\":true,\"gridcolor\":\"rgb(232,232,232)\",\"linecolor\":\"rgb(36,36,36)\",\"showgrid\":false,\"showline\":true,\"ticks\":\"outside\",\"title\":{\"standoff\":15},\"zeroline\":false,\"zerolinecolor\":\"rgb(36,36,36)\"},\"yaxis\":{\"automargin\":true,\"gridcolor\":\"rgb(232,232,232)\",\"linecolor\":\"rgb(36,36,36)\",\"showgrid\":false,\"showline\":true,\"ticks\":\"outside\",\"title\":{\"standoff\":15},\"zeroline\":false,\"zerolinecolor\":\"rgb(36,36,36)\"}}},\"xaxis\":{\"anchor\":\"y\",\"domain\":[0.0,1.0],\"title\":{\"text\":\"\"},\"visible\":false,\"range\":[-8.830284523963929,23.64376907348633]},\"yaxis\":{\"anchor\":\"x\",\"domain\":[0.0,1.0],\"title\":{\"text\":\"\"},\"visible\":false,\"range\":[-9.046613073348999,15.537301969528198]},\"legend\":{\"tracegroupgap\":0,\"itemsizing\":\"constant\"},\"margin\":{\"t\":60},\"title\":{\"font\":{\"size\":22,\"color\":\"Black\"},\"text\":\"<b>Intertopic Distance Map\",\"y\":0.95,\"x\":0.5,\"xanchor\":\"center\",\"yanchor\":\"top\"},\"hoverlabel\":{\"font\":{\"size\":16,\"family\":\"Rockwell\"},\"bgcolor\":\"white\"},\"width\":650,\"height\":650,\"sliders\":[{\"active\":0,\"pad\":{\"t\":50},\"steps\":[{\"args\":[{\"marker.color\":[[\"red\",\"#B0BEC5\",\"#B0BEC5\",\"#B0BEC5\",\"#B0BEC5\",\"#B0BEC5\",\"#B0BEC5\",\"#B0BEC5\",\"#B0BEC5\",\"#B0BEC5\",\"#B0BEC5\",\"#B0BEC5\",\"#B0BEC5\",\"#B0BEC5\",\"#B0BEC5\",\"#B0BEC5\",\"#B0BEC5\",\"#B0BEC5\",\"#B0BEC5\",\"#B0BEC5\",\"#B0BEC5\",\"#B0BEC5\",\"#B0BEC5\",\"#B0BEC5\",\"#B0BEC5\",\"#B0BEC5\",\"#B0BEC5\",\"#B0BEC5\",\"#B0BEC5\",\"#B0BEC5\",\"#B0BEC5\",\"#B0BEC5\",\"#B0BEC5\",\"#B0BEC5\",\"#B0BEC5\",\"#B0BEC5\",\"#B0BEC5\",\"#B0BEC5\",\"#B0BEC5\",\"#B0BEC5\",\"#B0BEC5\",\"#B0BEC5\",\"#B0BEC5\",\"#B0BEC5\",\"#B0BEC5\",\"#B0BEC5\",\"#B0BEC5\",\"#B0BEC5\",\"#B0BEC5\",\"#B0BEC5\",\"#B0BEC5\",\"#B0BEC5\",\"#B0BEC5\",\"#B0BEC5\",\"#B0BEC5\",\"#B0BEC5\",\"#B0BEC5\",\"#B0BEC5\",\"#B0BEC5\",\"#B0BEC5\",\"#B0BEC5\",\"#B0BEC5\",\"#B0BEC5\",\"#B0BEC5\",\"#B0BEC5\",\"#B0BEC5\",\"#B0BEC5\",\"#B0BEC5\",\"#B0BEC5\",\"#B0BEC5\",\"#B0BEC5\",\"#B0BEC5\",\"#B0BEC5\"]]}],\"label\":\"Topic 0\",\"method\":\"update\"},{\"args\":[{\"marker.color\":[[\"#B0BEC5\",\"red\",\"#B0BEC5\",\"#B0BEC5\",\"#B0BEC5\",\"#B0BEC5\",\"#B0BEC5\",\"#B0BEC5\",\"#B0BEC5\",\"#B0BEC5\",\"#B0BEC5\",\"#B0BEC5\",\"#B0BEC5\",\"#B0BEC5\",\"#B0BEC5\",\"#B0BEC5\",\"#B0BEC5\",\"#B0BEC5\",\"#B0BEC5\",\"#B0BEC5\",\"#B0BEC5\",\"#B0BEC5\",\"#B0BEC5\",\"#B0BEC5\",\"#B0BEC5\",\"#B0BEC5\",\"#B0BEC5\",\"#B0BEC5\",\"#B0BEC5\",\"#B0BEC5\",\"#B0BEC5\",\"#B0BEC5\",\"#B0BEC5\",\"#B0BEC5\",\"#B0BEC5\",\"#B0BEC5\",\"#B0BEC5\",\"#B0BEC5\",\"#B0BEC5\",\"#B0BEC5\",\"#B0BEC5\",\"#B0BEC5\",\"#B0BEC5\",\"#B0BEC5\",\"#B0BEC5\",\"#B0BEC5\",\"#B0BEC5\",\"#B0BEC5\",\"#B0BEC5\",\"#B0BEC5\",\"#B0BEC5\",\"#B0BEC5\",\"#B0BEC5\",\"#B0BEC5\",\"#B0BEC5\",\"#B0BEC5\",\"#B0BEC5\",\"#B0BEC5\",\"#B0BEC5\",\"#B0BEC5\",\"#B0BEC5\",\"#B0BEC5\",\"#B0BEC5\",\"#B0BEC5\",\"#B0BEC5\",\"#B0BEC5\",\"#B0BEC5\",\"#B0BEC5\",\"#B0BEC5\",\"#B0BEC5\",\"#B0BEC5\",\"#B0BEC5\",\"#B0BEC5\"]]}],\"label\":\"Topic 1\",\"method\":\"update\"},{\"args\":[{\"marker.color\":[[\"#B0BEC5\",\"#B0BEC5\",\"red\",\"#B0BEC5\",\"#B0BEC5\",\"#B0BEC5\",\"#B0BEC5\",\"#B0BEC5\",\"#B0BEC5\",\"#B0BEC5\",\"#B0BEC5\",\"#B0BEC5\",\"#B0BEC5\",\"#B0BEC5\",\"#B0BEC5\",\"#B0BEC5\",\"#B0BEC5\",\"#B0BEC5\",\"#B0BEC5\",\"#B0BEC5\",\"#B0BEC5\",\"#B0BEC5\",\"#B0BEC5\",\"#B0BEC5\",\"#B0BEC5\",\"#B0BEC5\",\"#B0BEC5\",\"#B0BEC5\",\"#B0BEC5\",\"#B0BEC5\",\"#B0BEC5\",\"#B0BEC5\",\"#B0BEC5\",\"#B0BEC5\",\"#B0BEC5\",\"#B0BEC5\",\"#B0BEC5\",\"#B0BEC5\",\"#B0BEC5\",\"#B0BEC5\",\"#B0BEC5\",\"#B0BEC5\",\"#B0BEC5\",\"#B0BEC5\",\"#B0BEC5\",\"#B0BEC5\",\"#B0BEC5\",\"#B0BEC5\",\"#B0BEC5\",\"#B0BEC5\",\"#B0BEC5\",\"#B0BEC5\",\"#B0BEC5\",\"#B0BEC5\",\"#B0BEC5\",\"#B0BEC5\",\"#B0BEC5\",\"#B0BEC5\",\"#B0BEC5\",\"#B0BEC5\",\"#B0BEC5\",\"#B0BEC5\",\"#B0BEC5\",\"#B0BEC5\",\"#B0BEC5\",\"#B0BEC5\",\"#B0BEC5\",\"#B0BEC5\",\"#B0BEC5\",\"#B0BEC5\",\"#B0BEC5\",\"#B0BEC5\",\"#B0BEC5\"]]}],\"label\":\"Topic 2\",\"method\":\"update\"},{\"args\":[{\"marker.color\":[[\"#B0BEC5\",\"#B0BEC5\",\"#B0BEC5\",\"red\",\"#B0BEC5\",\"#B0BEC5\",\"#B0BEC5\",\"#B0BEC5\",\"#B0BEC5\",\"#B0BEC5\",\"#B0BEC5\",\"#B0BEC5\",\"#B0BEC5\",\"#B0BEC5\",\"#B0BEC5\",\"#B0BEC5\",\"#B0BEC5\",\"#B0BEC5\",\"#B0BEC5\",\"#B0BEC5\",\"#B0BEC5\",\"#B0BEC5\",\"#B0BEC5\",\"#B0BEC5\",\"#B0BEC5\",\"#B0BEC5\",\"#B0BEC5\",\"#B0BEC5\",\"#B0BEC5\",\"#B0BEC5\",\"#B0BEC5\",\"#B0BEC5\",\"#B0BEC5\",\"#B0BEC5\",\"#B0BEC5\",\"#B0BEC5\",\"#B0BEC5\",\"#B0BEC5\",\"#B0BEC5\",\"#B0BEC5\",\"#B0BEC5\",\"#B0BEC5\",\"#B0BEC5\",\"#B0BEC5\",\"#B0BEC5\",\"#B0BEC5\",\"#B0BEC5\",\"#B0BEC5\",\"#B0BEC5\",\"#B0BEC5\",\"#B0BEC5\",\"#B0BEC5\",\"#B0BEC5\",\"#B0BEC5\",\"#B0BEC5\",\"#B0BEC5\",\"#B0BEC5\",\"#B0BEC5\",\"#B0BEC5\",\"#B0BEC5\",\"#B0BEC5\",\"#B0BEC5\",\"#B0BEC5\",\"#B0BEC5\",\"#B0BEC5\",\"#B0BEC5\",\"#B0BEC5\",\"#B0BEC5\",\"#B0BEC5\",\"#B0BEC5\",\"#B0BEC5\",\"#B0BEC5\",\"#B0BEC5\"]]}],\"label\":\"Topic 3\",\"method\":\"update\"},{\"args\":[{\"marker.color\":[[\"#B0BEC5\",\"#B0BEC5\",\"#B0BEC5\",\"#B0BEC5\",\"red\",\"#B0BEC5\",\"#B0BEC5\",\"#B0BEC5\",\"#B0BEC5\",\"#B0BEC5\",\"#B0BEC5\",\"#B0BEC5\",\"#B0BEC5\",\"#B0BEC5\",\"#B0BEC5\",\"#B0BEC5\",\"#B0BEC5\",\"#B0BEC5\",\"#B0BEC5\",\"#B0BEC5\",\"#B0BEC5\",\"#B0BEC5\",\"#B0BEC5\",\"#B0BEC5\",\"#B0BEC5\",\"#B0BEC5\",\"#B0BEC5\",\"#B0BEC5\",\"#B0BEC5\",\"#B0BEC5\",\"#B0BEC5\",\"#B0BEC5\",\"#B0BEC5\",\"#B0BEC5\",\"#B0BEC5\",\"#B0BEC5\",\"#B0BEC5\",\"#B0BEC5\",\"#B0BEC5\",\"#B0BEC5\",\"#B0BEC5\",\"#B0BEC5\",\"#B0BEC5\",\"#B0BEC5\",\"#B0BEC5\",\"#B0BEC5\",\"#B0BEC5\",\"#B0BEC5\",\"#B0BEC5\",\"#B0BEC5\",\"#B0BEC5\",\"#B0BEC5\",\"#B0BEC5\",\"#B0BEC5\",\"#B0BEC5\",\"#B0BEC5\",\"#B0BEC5\",\"#B0BEC5\",\"#B0BEC5\",\"#B0BEC5\",\"#B0BEC5\",\"#B0BEC5\",\"#B0BEC5\",\"#B0BEC5\",\"#B0BEC5\",\"#B0BEC5\",\"#B0BEC5\",\"#B0BEC5\",\"#B0BEC5\",\"#B0BEC5\",\"#B0BEC5\",\"#B0BEC5\",\"#B0BEC5\"]]}],\"label\":\"Topic 4\",\"method\":\"update\"},{\"args\":[{\"marker.color\":[[\"#B0BEC5\",\"#B0BEC5\",\"#B0BEC5\",\"#B0BEC5\",\"#B0BEC5\",\"red\",\"#B0BEC5\",\"#B0BEC5\",\"#B0BEC5\",\"#B0BEC5\",\"#B0BEC5\",\"#B0BEC5\",\"#B0BEC5\",\"#B0BEC5\",\"#B0BEC5\",\"#B0BEC5\",\"#B0BEC5\",\"#B0BEC5\",\"#B0BEC5\",\"#B0BEC5\",\"#B0BEC5\",\"#B0BEC5\",\"#B0BEC5\",\"#B0BEC5\",\"#B0BEC5\",\"#B0BEC5\",\"#B0BEC5\",\"#B0BEC5\",\"#B0BEC5\",\"#B0BEC5\",\"#B0BEC5\",\"#B0BEC5\",\"#B0BEC5\",\"#B0BEC5\",\"#B0BEC5\",\"#B0BEC5\",\"#B0BEC5\",\"#B0BEC5\",\"#B0BEC5\",\"#B0BEC5\",\"#B0BEC5\",\"#B0BEC5\",\"#B0BEC5\",\"#B0BEC5\",\"#B0BEC5\",\"#B0BEC5\",\"#B0BEC5\",\"#B0BEC5\",\"#B0BEC5\",\"#B0BEC5\",\"#B0BEC5\",\"#B0BEC5\",\"#B0BEC5\",\"#B0BEC5\",\"#B0BEC5\",\"#B0BEC5\",\"#B0BEC5\",\"#B0BEC5\",\"#B0BEC5\",\"#B0BEC5\",\"#B0BEC5\",\"#B0BEC5\",\"#B0BEC5\",\"#B0BEC5\",\"#B0BEC5\",\"#B0BEC5\",\"#B0BEC5\",\"#B0BEC5\",\"#B0BEC5\",\"#B0BEC5\",\"#B0BEC5\",\"#B0BEC5\",\"#B0BEC5\"]]}],\"label\":\"Topic 5\",\"method\":\"update\"},{\"args\":[{\"marker.color\":[[\"#B0BEC5\",\"#B0BEC5\",\"#B0BEC5\",\"#B0BEC5\",\"#B0BEC5\",\"#B0BEC5\",\"red\",\"#B0BEC5\",\"#B0BEC5\",\"#B0BEC5\",\"#B0BEC5\",\"#B0BEC5\",\"#B0BEC5\",\"#B0BEC5\",\"#B0BEC5\",\"#B0BEC5\",\"#B0BEC5\",\"#B0BEC5\",\"#B0BEC5\",\"#B0BEC5\",\"#B0BEC5\",\"#B0BEC5\",\"#B0BEC5\",\"#B0BEC5\",\"#B0BEC5\",\"#B0BEC5\",\"#B0BEC5\",\"#B0BEC5\",\"#B0BEC5\",\"#B0BEC5\",\"#B0BEC5\",\"#B0BEC5\",\"#B0BEC5\",\"#B0BEC5\",\"#B0BEC5\",\"#B0BEC5\",\"#B0BEC5\",\"#B0BEC5\",\"#B0BEC5\",\"#B0BEC5\",\"#B0BEC5\",\"#B0BEC5\",\"#B0BEC5\",\"#B0BEC5\",\"#B0BEC5\",\"#B0BEC5\",\"#B0BEC5\",\"#B0BEC5\",\"#B0BEC5\",\"#B0BEC5\",\"#B0BEC5\",\"#B0BEC5\",\"#B0BEC5\",\"#B0BEC5\",\"#B0BEC5\",\"#B0BEC5\",\"#B0BEC5\",\"#B0BEC5\",\"#B0BEC5\",\"#B0BEC5\",\"#B0BEC5\",\"#B0BEC5\",\"#B0BEC5\",\"#B0BEC5\",\"#B0BEC5\",\"#B0BEC5\",\"#B0BEC5\",\"#B0BEC5\",\"#B0BEC5\",\"#B0BEC5\",\"#B0BEC5\",\"#B0BEC5\",\"#B0BEC5\"]]}],\"label\":\"Topic 6\",\"method\":\"update\"},{\"args\":[{\"marker.color\":[[\"#B0BEC5\",\"#B0BEC5\",\"#B0BEC5\",\"#B0BEC5\",\"#B0BEC5\",\"#B0BEC5\",\"#B0BEC5\",\"red\",\"#B0BEC5\",\"#B0BEC5\",\"#B0BEC5\",\"#B0BEC5\",\"#B0BEC5\",\"#B0BEC5\",\"#B0BEC5\",\"#B0BEC5\",\"#B0BEC5\",\"#B0BEC5\",\"#B0BEC5\",\"#B0BEC5\",\"#B0BEC5\",\"#B0BEC5\",\"#B0BEC5\",\"#B0BEC5\",\"#B0BEC5\",\"#B0BEC5\",\"#B0BEC5\",\"#B0BEC5\",\"#B0BEC5\",\"#B0BEC5\",\"#B0BEC5\",\"#B0BEC5\",\"#B0BEC5\",\"#B0BEC5\",\"#B0BEC5\",\"#B0BEC5\",\"#B0BEC5\",\"#B0BEC5\",\"#B0BEC5\",\"#B0BEC5\",\"#B0BEC5\",\"#B0BEC5\",\"#B0BEC5\",\"#B0BEC5\",\"#B0BEC5\",\"#B0BEC5\",\"#B0BEC5\",\"#B0BEC5\",\"#B0BEC5\",\"#B0BEC5\",\"#B0BEC5\",\"#B0BEC5\",\"#B0BEC5\",\"#B0BEC5\",\"#B0BEC5\",\"#B0BEC5\",\"#B0BEC5\",\"#B0BEC5\",\"#B0BEC5\",\"#B0BEC5\",\"#B0BEC5\",\"#B0BEC5\",\"#B0BEC5\",\"#B0BEC5\",\"#B0BEC5\",\"#B0BEC5\",\"#B0BEC5\",\"#B0BEC5\",\"#B0BEC5\",\"#B0BEC5\",\"#B0BEC5\",\"#B0BEC5\",\"#B0BEC5\"]]}],\"label\":\"Topic 7\",\"method\":\"update\"},{\"args\":[{\"marker.color\":[[\"#B0BEC5\",\"#B0BEC5\",\"#B0BEC5\",\"#B0BEC5\",\"#B0BEC5\",\"#B0BEC5\",\"#B0BEC5\",\"#B0BEC5\",\"red\",\"#B0BEC5\",\"#B0BEC5\",\"#B0BEC5\",\"#B0BEC5\",\"#B0BEC5\",\"#B0BEC5\",\"#B0BEC5\",\"#B0BEC5\",\"#B0BEC5\",\"#B0BEC5\",\"#B0BEC5\",\"#B0BEC5\",\"#B0BEC5\",\"#B0BEC5\",\"#B0BEC5\",\"#B0BEC5\",\"#B0BEC5\",\"#B0BEC5\",\"#B0BEC5\",\"#B0BEC5\",\"#B0BEC5\",\"#B0BEC5\",\"#B0BEC5\",\"#B0BEC5\",\"#B0BEC5\",\"#B0BEC5\",\"#B0BEC5\",\"#B0BEC5\",\"#B0BEC5\",\"#B0BEC5\",\"#B0BEC5\",\"#B0BEC5\",\"#B0BEC5\",\"#B0BEC5\",\"#B0BEC5\",\"#B0BEC5\",\"#B0BEC5\",\"#B0BEC5\",\"#B0BEC5\",\"#B0BEC5\",\"#B0BEC5\",\"#B0BEC5\",\"#B0BEC5\",\"#B0BEC5\",\"#B0BEC5\",\"#B0BEC5\",\"#B0BEC5\",\"#B0BEC5\",\"#B0BEC5\",\"#B0BEC5\",\"#B0BEC5\",\"#B0BEC5\",\"#B0BEC5\",\"#B0BEC5\",\"#B0BEC5\",\"#B0BEC5\",\"#B0BEC5\",\"#B0BEC5\",\"#B0BEC5\",\"#B0BEC5\",\"#B0BEC5\",\"#B0BEC5\",\"#B0BEC5\",\"#B0BEC5\"]]}],\"label\":\"Topic 8\",\"method\":\"update\"},{\"args\":[{\"marker.color\":[[\"#B0BEC5\",\"#B0BEC5\",\"#B0BEC5\",\"#B0BEC5\",\"#B0BEC5\",\"#B0BEC5\",\"#B0BEC5\",\"#B0BEC5\",\"#B0BEC5\",\"red\",\"#B0BEC5\",\"#B0BEC5\",\"#B0BEC5\",\"#B0BEC5\",\"#B0BEC5\",\"#B0BEC5\",\"#B0BEC5\",\"#B0BEC5\",\"#B0BEC5\",\"#B0BEC5\",\"#B0BEC5\",\"#B0BEC5\",\"#B0BEC5\",\"#B0BEC5\",\"#B0BEC5\",\"#B0BEC5\",\"#B0BEC5\",\"#B0BEC5\",\"#B0BEC5\",\"#B0BEC5\",\"#B0BEC5\",\"#B0BEC5\",\"#B0BEC5\",\"#B0BEC5\",\"#B0BEC5\",\"#B0BEC5\",\"#B0BEC5\",\"#B0BEC5\",\"#B0BEC5\",\"#B0BEC5\",\"#B0BEC5\",\"#B0BEC5\",\"#B0BEC5\",\"#B0BEC5\",\"#B0BEC5\",\"#B0BEC5\",\"#B0BEC5\",\"#B0BEC5\",\"#B0BEC5\",\"#B0BEC5\",\"#B0BEC5\",\"#B0BEC5\",\"#B0BEC5\",\"#B0BEC5\",\"#B0BEC5\",\"#B0BEC5\",\"#B0BEC5\",\"#B0BEC5\",\"#B0BEC5\",\"#B0BEC5\",\"#B0BEC5\",\"#B0BEC5\",\"#B0BEC5\",\"#B0BEC5\",\"#B0BEC5\",\"#B0BEC5\",\"#B0BEC5\",\"#B0BEC5\",\"#B0BEC5\",\"#B0BEC5\",\"#B0BEC5\",\"#B0BEC5\",\"#B0BEC5\"]]}],\"label\":\"Topic 9\",\"method\":\"update\"},{\"args\":[{\"marker.color\":[[\"#B0BEC5\",\"#B0BEC5\",\"#B0BEC5\",\"#B0BEC5\",\"#B0BEC5\",\"#B0BEC5\",\"#B0BEC5\",\"#B0BEC5\",\"#B0BEC5\",\"#B0BEC5\",\"red\",\"#B0BEC5\",\"#B0BEC5\",\"#B0BEC5\",\"#B0BEC5\",\"#B0BEC5\",\"#B0BEC5\",\"#B0BEC5\",\"#B0BEC5\",\"#B0BEC5\",\"#B0BEC5\",\"#B0BEC5\",\"#B0BEC5\",\"#B0BEC5\",\"#B0BEC5\",\"#B0BEC5\",\"#B0BEC5\",\"#B0BEC5\",\"#B0BEC5\",\"#B0BEC5\",\"#B0BEC5\",\"#B0BEC5\",\"#B0BEC5\",\"#B0BEC5\",\"#B0BEC5\",\"#B0BEC5\",\"#B0BEC5\",\"#B0BEC5\",\"#B0BEC5\",\"#B0BEC5\",\"#B0BEC5\",\"#B0BEC5\",\"#B0BEC5\",\"#B0BEC5\",\"#B0BEC5\",\"#B0BEC5\",\"#B0BEC5\",\"#B0BEC5\",\"#B0BEC5\",\"#B0BEC5\",\"#B0BEC5\",\"#B0BEC5\",\"#B0BEC5\",\"#B0BEC5\",\"#B0BEC5\",\"#B0BEC5\",\"#B0BEC5\",\"#B0BEC5\",\"#B0BEC5\",\"#B0BEC5\",\"#B0BEC5\",\"#B0BEC5\",\"#B0BEC5\",\"#B0BEC5\",\"#B0BEC5\",\"#B0BEC5\",\"#B0BEC5\",\"#B0BEC5\",\"#B0BEC5\",\"#B0BEC5\",\"#B0BEC5\",\"#B0BEC5\",\"#B0BEC5\"]]}],\"label\":\"Topic 10\",\"method\":\"update\"},{\"args\":[{\"marker.color\":[[\"#B0BEC5\",\"#B0BEC5\",\"#B0BEC5\",\"#B0BEC5\",\"#B0BEC5\",\"#B0BEC5\",\"#B0BEC5\",\"#B0BEC5\",\"#B0BEC5\",\"#B0BEC5\",\"#B0BEC5\",\"red\",\"#B0BEC5\",\"#B0BEC5\",\"#B0BEC5\",\"#B0BEC5\",\"#B0BEC5\",\"#B0BEC5\",\"#B0BEC5\",\"#B0BEC5\",\"#B0BEC5\",\"#B0BEC5\",\"#B0BEC5\",\"#B0BEC5\",\"#B0BEC5\",\"#B0BEC5\",\"#B0BEC5\",\"#B0BEC5\",\"#B0BEC5\",\"#B0BEC5\",\"#B0BEC5\",\"#B0BEC5\",\"#B0BEC5\",\"#B0BEC5\",\"#B0BEC5\",\"#B0BEC5\",\"#B0BEC5\",\"#B0BEC5\",\"#B0BEC5\",\"#B0BEC5\",\"#B0BEC5\",\"#B0BEC5\",\"#B0BEC5\",\"#B0BEC5\",\"#B0BEC5\",\"#B0BEC5\",\"#B0BEC5\",\"#B0BEC5\",\"#B0BEC5\",\"#B0BEC5\",\"#B0BEC5\",\"#B0BEC5\",\"#B0BEC5\",\"#B0BEC5\",\"#B0BEC5\",\"#B0BEC5\",\"#B0BEC5\",\"#B0BEC5\",\"#B0BEC5\",\"#B0BEC5\",\"#B0BEC5\",\"#B0BEC5\",\"#B0BEC5\",\"#B0BEC5\",\"#B0BEC5\",\"#B0BEC5\",\"#B0BEC5\",\"#B0BEC5\",\"#B0BEC5\",\"#B0BEC5\",\"#B0BEC5\",\"#B0BEC5\",\"#B0BEC5\"]]}],\"label\":\"Topic 11\",\"method\":\"update\"},{\"args\":[{\"marker.color\":[[\"#B0BEC5\",\"#B0BEC5\",\"#B0BEC5\",\"#B0BEC5\",\"#B0BEC5\",\"#B0BEC5\",\"#B0BEC5\",\"#B0BEC5\",\"#B0BEC5\",\"#B0BEC5\",\"#B0BEC5\",\"#B0BEC5\",\"red\",\"#B0BEC5\",\"#B0BEC5\",\"#B0BEC5\",\"#B0BEC5\",\"#B0BEC5\",\"#B0BEC5\",\"#B0BEC5\",\"#B0BEC5\",\"#B0BEC5\",\"#B0BEC5\",\"#B0BEC5\",\"#B0BEC5\",\"#B0BEC5\",\"#B0BEC5\",\"#B0BEC5\",\"#B0BEC5\",\"#B0BEC5\",\"#B0BEC5\",\"#B0BEC5\",\"#B0BEC5\",\"#B0BEC5\",\"#B0BEC5\",\"#B0BEC5\",\"#B0BEC5\",\"#B0BEC5\",\"#B0BEC5\",\"#B0BEC5\",\"#B0BEC5\",\"#B0BEC5\",\"#B0BEC5\",\"#B0BEC5\",\"#B0BEC5\",\"#B0BEC5\",\"#B0BEC5\",\"#B0BEC5\",\"#B0BEC5\",\"#B0BEC5\",\"#B0BEC5\",\"#B0BEC5\",\"#B0BEC5\",\"#B0BEC5\",\"#B0BEC5\",\"#B0BEC5\",\"#B0BEC5\",\"#B0BEC5\",\"#B0BEC5\",\"#B0BEC5\",\"#B0BEC5\",\"#B0BEC5\",\"#B0BEC5\",\"#B0BEC5\",\"#B0BEC5\",\"#B0BEC5\",\"#B0BEC5\",\"#B0BEC5\",\"#B0BEC5\",\"#B0BEC5\",\"#B0BEC5\",\"#B0BEC5\",\"#B0BEC5\"]]}],\"label\":\"Topic 12\",\"method\":\"update\"},{\"args\":[{\"marker.color\":[[\"#B0BEC5\",\"#B0BEC5\",\"#B0BEC5\",\"#B0BEC5\",\"#B0BEC5\",\"#B0BEC5\",\"#B0BEC5\",\"#B0BEC5\",\"#B0BEC5\",\"#B0BEC5\",\"#B0BEC5\",\"#B0BEC5\",\"#B0BEC5\",\"red\",\"#B0BEC5\",\"#B0BEC5\",\"#B0BEC5\",\"#B0BEC5\",\"#B0BEC5\",\"#B0BEC5\",\"#B0BEC5\",\"#B0BEC5\",\"#B0BEC5\",\"#B0BEC5\",\"#B0BEC5\",\"#B0BEC5\",\"#B0BEC5\",\"#B0BEC5\",\"#B0BEC5\",\"#B0BEC5\",\"#B0BEC5\",\"#B0BEC5\",\"#B0BEC5\",\"#B0BEC5\",\"#B0BEC5\",\"#B0BEC5\",\"#B0BEC5\",\"#B0BEC5\",\"#B0BEC5\",\"#B0BEC5\",\"#B0BEC5\",\"#B0BEC5\",\"#B0BEC5\",\"#B0BEC5\",\"#B0BEC5\",\"#B0BEC5\",\"#B0BEC5\",\"#B0BEC5\",\"#B0BEC5\",\"#B0BEC5\",\"#B0BEC5\",\"#B0BEC5\",\"#B0BEC5\",\"#B0BEC5\",\"#B0BEC5\",\"#B0BEC5\",\"#B0BEC5\",\"#B0BEC5\",\"#B0BEC5\",\"#B0BEC5\",\"#B0BEC5\",\"#B0BEC5\",\"#B0BEC5\",\"#B0BEC5\",\"#B0BEC5\",\"#B0BEC5\",\"#B0BEC5\",\"#B0BEC5\",\"#B0BEC5\",\"#B0BEC5\",\"#B0BEC5\",\"#B0BEC5\",\"#B0BEC5\"]]}],\"label\":\"Topic 13\",\"method\":\"update\"},{\"args\":[{\"marker.color\":[[\"#B0BEC5\",\"#B0BEC5\",\"#B0BEC5\",\"#B0BEC5\",\"#B0BEC5\",\"#B0BEC5\",\"#B0BEC5\",\"#B0BEC5\",\"#B0BEC5\",\"#B0BEC5\",\"#B0BEC5\",\"#B0BEC5\",\"#B0BEC5\",\"#B0BEC5\",\"red\",\"#B0BEC5\",\"#B0BEC5\",\"#B0BEC5\",\"#B0BEC5\",\"#B0BEC5\",\"#B0BEC5\",\"#B0BEC5\",\"#B0BEC5\",\"#B0BEC5\",\"#B0BEC5\",\"#B0BEC5\",\"#B0BEC5\",\"#B0BEC5\",\"#B0BEC5\",\"#B0BEC5\",\"#B0BEC5\",\"#B0BEC5\",\"#B0BEC5\",\"#B0BEC5\",\"#B0BEC5\",\"#B0BEC5\",\"#B0BEC5\",\"#B0BEC5\",\"#B0BEC5\",\"#B0BEC5\",\"#B0BEC5\",\"#B0BEC5\",\"#B0BEC5\",\"#B0BEC5\",\"#B0BEC5\",\"#B0BEC5\",\"#B0BEC5\",\"#B0BEC5\",\"#B0BEC5\",\"#B0BEC5\",\"#B0BEC5\",\"#B0BEC5\",\"#B0BEC5\",\"#B0BEC5\",\"#B0BEC5\",\"#B0BEC5\",\"#B0BEC5\",\"#B0BEC5\",\"#B0BEC5\",\"#B0BEC5\",\"#B0BEC5\",\"#B0BEC5\",\"#B0BEC5\",\"#B0BEC5\",\"#B0BEC5\",\"#B0BEC5\",\"#B0BEC5\",\"#B0BEC5\",\"#B0BEC5\",\"#B0BEC5\",\"#B0BEC5\",\"#B0BEC5\",\"#B0BEC5\"]]}],\"label\":\"Topic 14\",\"method\":\"update\"},{\"args\":[{\"marker.color\":[[\"#B0BEC5\",\"#B0BEC5\",\"#B0BEC5\",\"#B0BEC5\",\"#B0BEC5\",\"#B0BEC5\",\"#B0BEC5\",\"#B0BEC5\",\"#B0BEC5\",\"#B0BEC5\",\"#B0BEC5\",\"#B0BEC5\",\"#B0BEC5\",\"#B0BEC5\",\"#B0BEC5\",\"red\",\"#B0BEC5\",\"#B0BEC5\",\"#B0BEC5\",\"#B0BEC5\",\"#B0BEC5\",\"#B0BEC5\",\"#B0BEC5\",\"#B0BEC5\",\"#B0BEC5\",\"#B0BEC5\",\"#B0BEC5\",\"#B0BEC5\",\"#B0BEC5\",\"#B0BEC5\",\"#B0BEC5\",\"#B0BEC5\",\"#B0BEC5\",\"#B0BEC5\",\"#B0BEC5\",\"#B0BEC5\",\"#B0BEC5\",\"#B0BEC5\",\"#B0BEC5\",\"#B0BEC5\",\"#B0BEC5\",\"#B0BEC5\",\"#B0BEC5\",\"#B0BEC5\",\"#B0BEC5\",\"#B0BEC5\",\"#B0BEC5\",\"#B0BEC5\",\"#B0BEC5\",\"#B0BEC5\",\"#B0BEC5\",\"#B0BEC5\",\"#B0BEC5\",\"#B0BEC5\",\"#B0BEC5\",\"#B0BEC5\",\"#B0BEC5\",\"#B0BEC5\",\"#B0BEC5\",\"#B0BEC5\",\"#B0BEC5\",\"#B0BEC5\",\"#B0BEC5\",\"#B0BEC5\",\"#B0BEC5\",\"#B0BEC5\",\"#B0BEC5\",\"#B0BEC5\",\"#B0BEC5\",\"#B0BEC5\",\"#B0BEC5\",\"#B0BEC5\",\"#B0BEC5\"]]}],\"label\":\"Topic 15\",\"method\":\"update\"},{\"args\":[{\"marker.color\":[[\"#B0BEC5\",\"#B0BEC5\",\"#B0BEC5\",\"#B0BEC5\",\"#B0BEC5\",\"#B0BEC5\",\"#B0BEC5\",\"#B0BEC5\",\"#B0BEC5\",\"#B0BEC5\",\"#B0BEC5\",\"#B0BEC5\",\"#B0BEC5\",\"#B0BEC5\",\"#B0BEC5\",\"#B0BEC5\",\"red\",\"#B0BEC5\",\"#B0BEC5\",\"#B0BEC5\",\"#B0BEC5\",\"#B0BEC5\",\"#B0BEC5\",\"#B0BEC5\",\"#B0BEC5\",\"#B0BEC5\",\"#B0BEC5\",\"#B0BEC5\",\"#B0BEC5\",\"#B0BEC5\",\"#B0BEC5\",\"#B0BEC5\",\"#B0BEC5\",\"#B0BEC5\",\"#B0BEC5\",\"#B0BEC5\",\"#B0BEC5\",\"#B0BEC5\",\"#B0BEC5\",\"#B0BEC5\",\"#B0BEC5\",\"#B0BEC5\",\"#B0BEC5\",\"#B0BEC5\",\"#B0BEC5\",\"#B0BEC5\",\"#B0BEC5\",\"#B0BEC5\",\"#B0BEC5\",\"#B0BEC5\",\"#B0BEC5\",\"#B0BEC5\",\"#B0BEC5\",\"#B0BEC5\",\"#B0BEC5\",\"#B0BEC5\",\"#B0BEC5\",\"#B0BEC5\",\"#B0BEC5\",\"#B0BEC5\",\"#B0BEC5\",\"#B0BEC5\",\"#B0BEC5\",\"#B0BEC5\",\"#B0BEC5\",\"#B0BEC5\",\"#B0BEC5\",\"#B0BEC5\",\"#B0BEC5\",\"#B0BEC5\",\"#B0BEC5\",\"#B0BEC5\",\"#B0BEC5\"]]}],\"label\":\"Topic 16\",\"method\":\"update\"},{\"args\":[{\"marker.color\":[[\"#B0BEC5\",\"#B0BEC5\",\"#B0BEC5\",\"#B0BEC5\",\"#B0BEC5\",\"#B0BEC5\",\"#B0BEC5\",\"#B0BEC5\",\"#B0BEC5\",\"#B0BEC5\",\"#B0BEC5\",\"#B0BEC5\",\"#B0BEC5\",\"#B0BEC5\",\"#B0BEC5\",\"#B0BEC5\",\"#B0BEC5\",\"red\",\"#B0BEC5\",\"#B0BEC5\",\"#B0BEC5\",\"#B0BEC5\",\"#B0BEC5\",\"#B0BEC5\",\"#B0BEC5\",\"#B0BEC5\",\"#B0BEC5\",\"#B0BEC5\",\"#B0BEC5\",\"#B0BEC5\",\"#B0BEC5\",\"#B0BEC5\",\"#B0BEC5\",\"#B0BEC5\",\"#B0BEC5\",\"#B0BEC5\",\"#B0BEC5\",\"#B0BEC5\",\"#B0BEC5\",\"#B0BEC5\",\"#B0BEC5\",\"#B0BEC5\",\"#B0BEC5\",\"#B0BEC5\",\"#B0BEC5\",\"#B0BEC5\",\"#B0BEC5\",\"#B0BEC5\",\"#B0BEC5\",\"#B0BEC5\",\"#B0BEC5\",\"#B0BEC5\",\"#B0BEC5\",\"#B0BEC5\",\"#B0BEC5\",\"#B0BEC5\",\"#B0BEC5\",\"#B0BEC5\",\"#B0BEC5\",\"#B0BEC5\",\"#B0BEC5\",\"#B0BEC5\",\"#B0BEC5\",\"#B0BEC5\",\"#B0BEC5\",\"#B0BEC5\",\"#B0BEC5\",\"#B0BEC5\",\"#B0BEC5\",\"#B0BEC5\",\"#B0BEC5\",\"#B0BEC5\",\"#B0BEC5\"]]}],\"label\":\"Topic 17\",\"method\":\"update\"},{\"args\":[{\"marker.color\":[[\"#B0BEC5\",\"#B0BEC5\",\"#B0BEC5\",\"#B0BEC5\",\"#B0BEC5\",\"#B0BEC5\",\"#B0BEC5\",\"#B0BEC5\",\"#B0BEC5\",\"#B0BEC5\",\"#B0BEC5\",\"#B0BEC5\",\"#B0BEC5\",\"#B0BEC5\",\"#B0BEC5\",\"#B0BEC5\",\"#B0BEC5\",\"#B0BEC5\",\"red\",\"#B0BEC5\",\"#B0BEC5\",\"#B0BEC5\",\"#B0BEC5\",\"#B0BEC5\",\"#B0BEC5\",\"#B0BEC5\",\"#B0BEC5\",\"#B0BEC5\",\"#B0BEC5\",\"#B0BEC5\",\"#B0BEC5\",\"#B0BEC5\",\"#B0BEC5\",\"#B0BEC5\",\"#B0BEC5\",\"#B0BEC5\",\"#B0BEC5\",\"#B0BEC5\",\"#B0BEC5\",\"#B0BEC5\",\"#B0BEC5\",\"#B0BEC5\",\"#B0BEC5\",\"#B0BEC5\",\"#B0BEC5\",\"#B0BEC5\",\"#B0BEC5\",\"#B0BEC5\",\"#B0BEC5\",\"#B0BEC5\",\"#B0BEC5\",\"#B0BEC5\",\"#B0BEC5\",\"#B0BEC5\",\"#B0BEC5\",\"#B0BEC5\",\"#B0BEC5\",\"#B0BEC5\",\"#B0BEC5\",\"#B0BEC5\",\"#B0BEC5\",\"#B0BEC5\",\"#B0BEC5\",\"#B0BEC5\",\"#B0BEC5\",\"#B0BEC5\",\"#B0BEC5\",\"#B0BEC5\",\"#B0BEC5\",\"#B0BEC5\",\"#B0BEC5\",\"#B0BEC5\",\"#B0BEC5\"]]}],\"label\":\"Topic 18\",\"method\":\"update\"},{\"args\":[{\"marker.color\":[[\"#B0BEC5\",\"#B0BEC5\",\"#B0BEC5\",\"#B0BEC5\",\"#B0BEC5\",\"#B0BEC5\",\"#B0BEC5\",\"#B0BEC5\",\"#B0BEC5\",\"#B0BEC5\",\"#B0BEC5\",\"#B0BEC5\",\"#B0BEC5\",\"#B0BEC5\",\"#B0BEC5\",\"#B0BEC5\",\"#B0BEC5\",\"#B0BEC5\",\"#B0BEC5\",\"red\",\"#B0BEC5\",\"#B0BEC5\",\"#B0BEC5\",\"#B0BEC5\",\"#B0BEC5\",\"#B0BEC5\",\"#B0BEC5\",\"#B0BEC5\",\"#B0BEC5\",\"#B0BEC5\",\"#B0BEC5\",\"#B0BEC5\",\"#B0BEC5\",\"#B0BEC5\",\"#B0BEC5\",\"#B0BEC5\",\"#B0BEC5\",\"#B0BEC5\",\"#B0BEC5\",\"#B0BEC5\",\"#B0BEC5\",\"#B0BEC5\",\"#B0BEC5\",\"#B0BEC5\",\"#B0BEC5\",\"#B0BEC5\",\"#B0BEC5\",\"#B0BEC5\",\"#B0BEC5\",\"#B0BEC5\",\"#B0BEC5\",\"#B0BEC5\",\"#B0BEC5\",\"#B0BEC5\",\"#B0BEC5\",\"#B0BEC5\",\"#B0BEC5\",\"#B0BEC5\",\"#B0BEC5\",\"#B0BEC5\",\"#B0BEC5\",\"#B0BEC5\",\"#B0BEC5\",\"#B0BEC5\",\"#B0BEC5\",\"#B0BEC5\",\"#B0BEC5\",\"#B0BEC5\",\"#B0BEC5\",\"#B0BEC5\",\"#B0BEC5\",\"#B0BEC5\",\"#B0BEC5\"]]}],\"label\":\"Topic 19\",\"method\":\"update\"},{\"args\":[{\"marker.color\":[[\"#B0BEC5\",\"#B0BEC5\",\"#B0BEC5\",\"#B0BEC5\",\"#B0BEC5\",\"#B0BEC5\",\"#B0BEC5\",\"#B0BEC5\",\"#B0BEC5\",\"#B0BEC5\",\"#B0BEC5\",\"#B0BEC5\",\"#B0BEC5\",\"#B0BEC5\",\"#B0BEC5\",\"#B0BEC5\",\"#B0BEC5\",\"#B0BEC5\",\"#B0BEC5\",\"#B0BEC5\",\"red\",\"#B0BEC5\",\"#B0BEC5\",\"#B0BEC5\",\"#B0BEC5\",\"#B0BEC5\",\"#B0BEC5\",\"#B0BEC5\",\"#B0BEC5\",\"#B0BEC5\",\"#B0BEC5\",\"#B0BEC5\",\"#B0BEC5\",\"#B0BEC5\",\"#B0BEC5\",\"#B0BEC5\",\"#B0BEC5\",\"#B0BEC5\",\"#B0BEC5\",\"#B0BEC5\",\"#B0BEC5\",\"#B0BEC5\",\"#B0BEC5\",\"#B0BEC5\",\"#B0BEC5\",\"#B0BEC5\",\"#B0BEC5\",\"#B0BEC5\",\"#B0BEC5\",\"#B0BEC5\",\"#B0BEC5\",\"#B0BEC5\",\"#B0BEC5\",\"#B0BEC5\",\"#B0BEC5\",\"#B0BEC5\",\"#B0BEC5\",\"#B0BEC5\",\"#B0BEC5\",\"#B0BEC5\",\"#B0BEC5\",\"#B0BEC5\",\"#B0BEC5\",\"#B0BEC5\",\"#B0BEC5\",\"#B0BEC5\",\"#B0BEC5\",\"#B0BEC5\",\"#B0BEC5\",\"#B0BEC5\",\"#B0BEC5\",\"#B0BEC5\",\"#B0BEC5\"]]}],\"label\":\"Topic 20\",\"method\":\"update\"},{\"args\":[{\"marker.color\":[[\"#B0BEC5\",\"#B0BEC5\",\"#B0BEC5\",\"#B0BEC5\",\"#B0BEC5\",\"#B0BEC5\",\"#B0BEC5\",\"#B0BEC5\",\"#B0BEC5\",\"#B0BEC5\",\"#B0BEC5\",\"#B0BEC5\",\"#B0BEC5\",\"#B0BEC5\",\"#B0BEC5\",\"#B0BEC5\",\"#B0BEC5\",\"#B0BEC5\",\"#B0BEC5\",\"#B0BEC5\",\"#B0BEC5\",\"red\",\"#B0BEC5\",\"#B0BEC5\",\"#B0BEC5\",\"#B0BEC5\",\"#B0BEC5\",\"#B0BEC5\",\"#B0BEC5\",\"#B0BEC5\",\"#B0BEC5\",\"#B0BEC5\",\"#B0BEC5\",\"#B0BEC5\",\"#B0BEC5\",\"#B0BEC5\",\"#B0BEC5\",\"#B0BEC5\",\"#B0BEC5\",\"#B0BEC5\",\"#B0BEC5\",\"#B0BEC5\",\"#B0BEC5\",\"#B0BEC5\",\"#B0BEC5\",\"#B0BEC5\",\"#B0BEC5\",\"#B0BEC5\",\"#B0BEC5\",\"#B0BEC5\",\"#B0BEC5\",\"#B0BEC5\",\"#B0BEC5\",\"#B0BEC5\",\"#B0BEC5\",\"#B0BEC5\",\"#B0BEC5\",\"#B0BEC5\",\"#B0BEC5\",\"#B0BEC5\",\"#B0BEC5\",\"#B0BEC5\",\"#B0BEC5\",\"#B0BEC5\",\"#B0BEC5\",\"#B0BEC5\",\"#B0BEC5\",\"#B0BEC5\",\"#B0BEC5\",\"#B0BEC5\",\"#B0BEC5\",\"#B0BEC5\",\"#B0BEC5\"]]}],\"label\":\"Topic 21\",\"method\":\"update\"},{\"args\":[{\"marker.color\":[[\"#B0BEC5\",\"#B0BEC5\",\"#B0BEC5\",\"#B0BEC5\",\"#B0BEC5\",\"#B0BEC5\",\"#B0BEC5\",\"#B0BEC5\",\"#B0BEC5\",\"#B0BEC5\",\"#B0BEC5\",\"#B0BEC5\",\"#B0BEC5\",\"#B0BEC5\",\"#B0BEC5\",\"#B0BEC5\",\"#B0BEC5\",\"#B0BEC5\",\"#B0BEC5\",\"#B0BEC5\",\"#B0BEC5\",\"#B0BEC5\",\"red\",\"#B0BEC5\",\"#B0BEC5\",\"#B0BEC5\",\"#B0BEC5\",\"#B0BEC5\",\"#B0BEC5\",\"#B0BEC5\",\"#B0BEC5\",\"#B0BEC5\",\"#B0BEC5\",\"#B0BEC5\",\"#B0BEC5\",\"#B0BEC5\",\"#B0BEC5\",\"#B0BEC5\",\"#B0BEC5\",\"#B0BEC5\",\"#B0BEC5\",\"#B0BEC5\",\"#B0BEC5\",\"#B0BEC5\",\"#B0BEC5\",\"#B0BEC5\",\"#B0BEC5\",\"#B0BEC5\",\"#B0BEC5\",\"#B0BEC5\",\"#B0BEC5\",\"#B0BEC5\",\"#B0BEC5\",\"#B0BEC5\",\"#B0BEC5\",\"#B0BEC5\",\"#B0BEC5\",\"#B0BEC5\",\"#B0BEC5\",\"#B0BEC5\",\"#B0BEC5\",\"#B0BEC5\",\"#B0BEC5\",\"#B0BEC5\",\"#B0BEC5\",\"#B0BEC5\",\"#B0BEC5\",\"#B0BEC5\",\"#B0BEC5\",\"#B0BEC5\",\"#B0BEC5\",\"#B0BEC5\",\"#B0BEC5\"]]}],\"label\":\"Topic 22\",\"method\":\"update\"},{\"args\":[{\"marker.color\":[[\"#B0BEC5\",\"#B0BEC5\",\"#B0BEC5\",\"#B0BEC5\",\"#B0BEC5\",\"#B0BEC5\",\"#B0BEC5\",\"#B0BEC5\",\"#B0BEC5\",\"#B0BEC5\",\"#B0BEC5\",\"#B0BEC5\",\"#B0BEC5\",\"#B0BEC5\",\"#B0BEC5\",\"#B0BEC5\",\"#B0BEC5\",\"#B0BEC5\",\"#B0BEC5\",\"#B0BEC5\",\"#B0BEC5\",\"#B0BEC5\",\"#B0BEC5\",\"red\",\"#B0BEC5\",\"#B0BEC5\",\"#B0BEC5\",\"#B0BEC5\",\"#B0BEC5\",\"#B0BEC5\",\"#B0BEC5\",\"#B0BEC5\",\"#B0BEC5\",\"#B0BEC5\",\"#B0BEC5\",\"#B0BEC5\",\"#B0BEC5\",\"#B0BEC5\",\"#B0BEC5\",\"#B0BEC5\",\"#B0BEC5\",\"#B0BEC5\",\"#B0BEC5\",\"#B0BEC5\",\"#B0BEC5\",\"#B0BEC5\",\"#B0BEC5\",\"#B0BEC5\",\"#B0BEC5\",\"#B0BEC5\",\"#B0BEC5\",\"#B0BEC5\",\"#B0BEC5\",\"#B0BEC5\",\"#B0BEC5\",\"#B0BEC5\",\"#B0BEC5\",\"#B0BEC5\",\"#B0BEC5\",\"#B0BEC5\",\"#B0BEC5\",\"#B0BEC5\",\"#B0BEC5\",\"#B0BEC5\",\"#B0BEC5\",\"#B0BEC5\",\"#B0BEC5\",\"#B0BEC5\",\"#B0BEC5\",\"#B0BEC5\",\"#B0BEC5\",\"#B0BEC5\",\"#B0BEC5\"]]}],\"label\":\"Topic 23\",\"method\":\"update\"},{\"args\":[{\"marker.color\":[[\"#B0BEC5\",\"#B0BEC5\",\"#B0BEC5\",\"#B0BEC5\",\"#B0BEC5\",\"#B0BEC5\",\"#B0BEC5\",\"#B0BEC5\",\"#B0BEC5\",\"#B0BEC5\",\"#B0BEC5\",\"#B0BEC5\",\"#B0BEC5\",\"#B0BEC5\",\"#B0BEC5\",\"#B0BEC5\",\"#B0BEC5\",\"#B0BEC5\",\"#B0BEC5\",\"#B0BEC5\",\"#B0BEC5\",\"#B0BEC5\",\"#B0BEC5\",\"#B0BEC5\",\"red\",\"#B0BEC5\",\"#B0BEC5\",\"#B0BEC5\",\"#B0BEC5\",\"#B0BEC5\",\"#B0BEC5\",\"#B0BEC5\",\"#B0BEC5\",\"#B0BEC5\",\"#B0BEC5\",\"#B0BEC5\",\"#B0BEC5\",\"#B0BEC5\",\"#B0BEC5\",\"#B0BEC5\",\"#B0BEC5\",\"#B0BEC5\",\"#B0BEC5\",\"#B0BEC5\",\"#B0BEC5\",\"#B0BEC5\",\"#B0BEC5\",\"#B0BEC5\",\"#B0BEC5\",\"#B0BEC5\",\"#B0BEC5\",\"#B0BEC5\",\"#B0BEC5\",\"#B0BEC5\",\"#B0BEC5\",\"#B0BEC5\",\"#B0BEC5\",\"#B0BEC5\",\"#B0BEC5\",\"#B0BEC5\",\"#B0BEC5\",\"#B0BEC5\",\"#B0BEC5\",\"#B0BEC5\",\"#B0BEC5\",\"#B0BEC5\",\"#B0BEC5\",\"#B0BEC5\",\"#B0BEC5\",\"#B0BEC5\",\"#B0BEC5\",\"#B0BEC5\",\"#B0BEC5\"]]}],\"label\":\"Topic 24\",\"method\":\"update\"},{\"args\":[{\"marker.color\":[[\"#B0BEC5\",\"#B0BEC5\",\"#B0BEC5\",\"#B0BEC5\",\"#B0BEC5\",\"#B0BEC5\",\"#B0BEC5\",\"#B0BEC5\",\"#B0BEC5\",\"#B0BEC5\",\"#B0BEC5\",\"#B0BEC5\",\"#B0BEC5\",\"#B0BEC5\",\"#B0BEC5\",\"#B0BEC5\",\"#B0BEC5\",\"#B0BEC5\",\"#B0BEC5\",\"#B0BEC5\",\"#B0BEC5\",\"#B0BEC5\",\"#B0BEC5\",\"#B0BEC5\",\"#B0BEC5\",\"red\",\"#B0BEC5\",\"#B0BEC5\",\"#B0BEC5\",\"#B0BEC5\",\"#B0BEC5\",\"#B0BEC5\",\"#B0BEC5\",\"#B0BEC5\",\"#B0BEC5\",\"#B0BEC5\",\"#B0BEC5\",\"#B0BEC5\",\"#B0BEC5\",\"#B0BEC5\",\"#B0BEC5\",\"#B0BEC5\",\"#B0BEC5\",\"#B0BEC5\",\"#B0BEC5\",\"#B0BEC5\",\"#B0BEC5\",\"#B0BEC5\",\"#B0BEC5\",\"#B0BEC5\",\"#B0BEC5\",\"#B0BEC5\",\"#B0BEC5\",\"#B0BEC5\",\"#B0BEC5\",\"#B0BEC5\",\"#B0BEC5\",\"#B0BEC5\",\"#B0BEC5\",\"#B0BEC5\",\"#B0BEC5\",\"#B0BEC5\",\"#B0BEC5\",\"#B0BEC5\",\"#B0BEC5\",\"#B0BEC5\",\"#B0BEC5\",\"#B0BEC5\",\"#B0BEC5\",\"#B0BEC5\",\"#B0BEC5\",\"#B0BEC5\",\"#B0BEC5\"]]}],\"label\":\"Topic 25\",\"method\":\"update\"},{\"args\":[{\"marker.color\":[[\"#B0BEC5\",\"#B0BEC5\",\"#B0BEC5\",\"#B0BEC5\",\"#B0BEC5\",\"#B0BEC5\",\"#B0BEC5\",\"#B0BEC5\",\"#B0BEC5\",\"#B0BEC5\",\"#B0BEC5\",\"#B0BEC5\",\"#B0BEC5\",\"#B0BEC5\",\"#B0BEC5\",\"#B0BEC5\",\"#B0BEC5\",\"#B0BEC5\",\"#B0BEC5\",\"#B0BEC5\",\"#B0BEC5\",\"#B0BEC5\",\"#B0BEC5\",\"#B0BEC5\",\"#B0BEC5\",\"#B0BEC5\",\"red\",\"#B0BEC5\",\"#B0BEC5\",\"#B0BEC5\",\"#B0BEC5\",\"#B0BEC5\",\"#B0BEC5\",\"#B0BEC5\",\"#B0BEC5\",\"#B0BEC5\",\"#B0BEC5\",\"#B0BEC5\",\"#B0BEC5\",\"#B0BEC5\",\"#B0BEC5\",\"#B0BEC5\",\"#B0BEC5\",\"#B0BEC5\",\"#B0BEC5\",\"#B0BEC5\",\"#B0BEC5\",\"#B0BEC5\",\"#B0BEC5\",\"#B0BEC5\",\"#B0BEC5\",\"#B0BEC5\",\"#B0BEC5\",\"#B0BEC5\",\"#B0BEC5\",\"#B0BEC5\",\"#B0BEC5\",\"#B0BEC5\",\"#B0BEC5\",\"#B0BEC5\",\"#B0BEC5\",\"#B0BEC5\",\"#B0BEC5\",\"#B0BEC5\",\"#B0BEC5\",\"#B0BEC5\",\"#B0BEC5\",\"#B0BEC5\",\"#B0BEC5\",\"#B0BEC5\",\"#B0BEC5\",\"#B0BEC5\",\"#B0BEC5\"]]}],\"label\":\"Topic 26\",\"method\":\"update\"},{\"args\":[{\"marker.color\":[[\"#B0BEC5\",\"#B0BEC5\",\"#B0BEC5\",\"#B0BEC5\",\"#B0BEC5\",\"#B0BEC5\",\"#B0BEC5\",\"#B0BEC5\",\"#B0BEC5\",\"#B0BEC5\",\"#B0BEC5\",\"#B0BEC5\",\"#B0BEC5\",\"#B0BEC5\",\"#B0BEC5\",\"#B0BEC5\",\"#B0BEC5\",\"#B0BEC5\",\"#B0BEC5\",\"#B0BEC5\",\"#B0BEC5\",\"#B0BEC5\",\"#B0BEC5\",\"#B0BEC5\",\"#B0BEC5\",\"#B0BEC5\",\"#B0BEC5\",\"red\",\"#B0BEC5\",\"#B0BEC5\",\"#B0BEC5\",\"#B0BEC5\",\"#B0BEC5\",\"#B0BEC5\",\"#B0BEC5\",\"#B0BEC5\",\"#B0BEC5\",\"#B0BEC5\",\"#B0BEC5\",\"#B0BEC5\",\"#B0BEC5\",\"#B0BEC5\",\"#B0BEC5\",\"#B0BEC5\",\"#B0BEC5\",\"#B0BEC5\",\"#B0BEC5\",\"#B0BEC5\",\"#B0BEC5\",\"#B0BEC5\",\"#B0BEC5\",\"#B0BEC5\",\"#B0BEC5\",\"#B0BEC5\",\"#B0BEC5\",\"#B0BEC5\",\"#B0BEC5\",\"#B0BEC5\",\"#B0BEC5\",\"#B0BEC5\",\"#B0BEC5\",\"#B0BEC5\",\"#B0BEC5\",\"#B0BEC5\",\"#B0BEC5\",\"#B0BEC5\",\"#B0BEC5\",\"#B0BEC5\",\"#B0BEC5\",\"#B0BEC5\",\"#B0BEC5\",\"#B0BEC5\",\"#B0BEC5\"]]}],\"label\":\"Topic 27\",\"method\":\"update\"},{\"args\":[{\"marker.color\":[[\"#B0BEC5\",\"#B0BEC5\",\"#B0BEC5\",\"#B0BEC5\",\"#B0BEC5\",\"#B0BEC5\",\"#B0BEC5\",\"#B0BEC5\",\"#B0BEC5\",\"#B0BEC5\",\"#B0BEC5\",\"#B0BEC5\",\"#B0BEC5\",\"#B0BEC5\",\"#B0BEC5\",\"#B0BEC5\",\"#B0BEC5\",\"#B0BEC5\",\"#B0BEC5\",\"#B0BEC5\",\"#B0BEC5\",\"#B0BEC5\",\"#B0BEC5\",\"#B0BEC5\",\"#B0BEC5\",\"#B0BEC5\",\"#B0BEC5\",\"#B0BEC5\",\"red\",\"#B0BEC5\",\"#B0BEC5\",\"#B0BEC5\",\"#B0BEC5\",\"#B0BEC5\",\"#B0BEC5\",\"#B0BEC5\",\"#B0BEC5\",\"#B0BEC5\",\"#B0BEC5\",\"#B0BEC5\",\"#B0BEC5\",\"#B0BEC5\",\"#B0BEC5\",\"#B0BEC5\",\"#B0BEC5\",\"#B0BEC5\",\"#B0BEC5\",\"#B0BEC5\",\"#B0BEC5\",\"#B0BEC5\",\"#B0BEC5\",\"#B0BEC5\",\"#B0BEC5\",\"#B0BEC5\",\"#B0BEC5\",\"#B0BEC5\",\"#B0BEC5\",\"#B0BEC5\",\"#B0BEC5\",\"#B0BEC5\",\"#B0BEC5\",\"#B0BEC5\",\"#B0BEC5\",\"#B0BEC5\",\"#B0BEC5\",\"#B0BEC5\",\"#B0BEC5\",\"#B0BEC5\",\"#B0BEC5\",\"#B0BEC5\",\"#B0BEC5\",\"#B0BEC5\",\"#B0BEC5\"]]}],\"label\":\"Topic 28\",\"method\":\"update\"},{\"args\":[{\"marker.color\":[[\"#B0BEC5\",\"#B0BEC5\",\"#B0BEC5\",\"#B0BEC5\",\"#B0BEC5\",\"#B0BEC5\",\"#B0BEC5\",\"#B0BEC5\",\"#B0BEC5\",\"#B0BEC5\",\"#B0BEC5\",\"#B0BEC5\",\"#B0BEC5\",\"#B0BEC5\",\"#B0BEC5\",\"#B0BEC5\",\"#B0BEC5\",\"#B0BEC5\",\"#B0BEC5\",\"#B0BEC5\",\"#B0BEC5\",\"#B0BEC5\",\"#B0BEC5\",\"#B0BEC5\",\"#B0BEC5\",\"#B0BEC5\",\"#B0BEC5\",\"#B0BEC5\",\"#B0BEC5\",\"red\",\"#B0BEC5\",\"#B0BEC5\",\"#B0BEC5\",\"#B0BEC5\",\"#B0BEC5\",\"#B0BEC5\",\"#B0BEC5\",\"#B0BEC5\",\"#B0BEC5\",\"#B0BEC5\",\"#B0BEC5\",\"#B0BEC5\",\"#B0BEC5\",\"#B0BEC5\",\"#B0BEC5\",\"#B0BEC5\",\"#B0BEC5\",\"#B0BEC5\",\"#B0BEC5\",\"#B0BEC5\",\"#B0BEC5\",\"#B0BEC5\",\"#B0BEC5\",\"#B0BEC5\",\"#B0BEC5\",\"#B0BEC5\",\"#B0BEC5\",\"#B0BEC5\",\"#B0BEC5\",\"#B0BEC5\",\"#B0BEC5\",\"#B0BEC5\",\"#B0BEC5\",\"#B0BEC5\",\"#B0BEC5\",\"#B0BEC5\",\"#B0BEC5\",\"#B0BEC5\",\"#B0BEC5\",\"#B0BEC5\",\"#B0BEC5\",\"#B0BEC5\",\"#B0BEC5\"]]}],\"label\":\"Topic 29\",\"method\":\"update\"},{\"args\":[{\"marker.color\":[[\"#B0BEC5\",\"#B0BEC5\",\"#B0BEC5\",\"#B0BEC5\",\"#B0BEC5\",\"#B0BEC5\",\"#B0BEC5\",\"#B0BEC5\",\"#B0BEC5\",\"#B0BEC5\",\"#B0BEC5\",\"#B0BEC5\",\"#B0BEC5\",\"#B0BEC5\",\"#B0BEC5\",\"#B0BEC5\",\"#B0BEC5\",\"#B0BEC5\",\"#B0BEC5\",\"#B0BEC5\",\"#B0BEC5\",\"#B0BEC5\",\"#B0BEC5\",\"#B0BEC5\",\"#B0BEC5\",\"#B0BEC5\",\"#B0BEC5\",\"#B0BEC5\",\"#B0BEC5\",\"#B0BEC5\",\"red\",\"#B0BEC5\",\"#B0BEC5\",\"#B0BEC5\",\"#B0BEC5\",\"#B0BEC5\",\"#B0BEC5\",\"#B0BEC5\",\"#B0BEC5\",\"#B0BEC5\",\"#B0BEC5\",\"#B0BEC5\",\"#B0BEC5\",\"#B0BEC5\",\"#B0BEC5\",\"#B0BEC5\",\"#B0BEC5\",\"#B0BEC5\",\"#B0BEC5\",\"#B0BEC5\",\"#B0BEC5\",\"#B0BEC5\",\"#B0BEC5\",\"#B0BEC5\",\"#B0BEC5\",\"#B0BEC5\",\"#B0BEC5\",\"#B0BEC5\",\"#B0BEC5\",\"#B0BEC5\",\"#B0BEC5\",\"#B0BEC5\",\"#B0BEC5\",\"#B0BEC5\",\"#B0BEC5\",\"#B0BEC5\",\"#B0BEC5\",\"#B0BEC5\",\"#B0BEC5\",\"#B0BEC5\",\"#B0BEC5\",\"#B0BEC5\",\"#B0BEC5\"]]}],\"label\":\"Topic 30\",\"method\":\"update\"},{\"args\":[{\"marker.color\":[[\"#B0BEC5\",\"#B0BEC5\",\"#B0BEC5\",\"#B0BEC5\",\"#B0BEC5\",\"#B0BEC5\",\"#B0BEC5\",\"#B0BEC5\",\"#B0BEC5\",\"#B0BEC5\",\"#B0BEC5\",\"#B0BEC5\",\"#B0BEC5\",\"#B0BEC5\",\"#B0BEC5\",\"#B0BEC5\",\"#B0BEC5\",\"#B0BEC5\",\"#B0BEC5\",\"#B0BEC5\",\"#B0BEC5\",\"#B0BEC5\",\"#B0BEC5\",\"#B0BEC5\",\"#B0BEC5\",\"#B0BEC5\",\"#B0BEC5\",\"#B0BEC5\",\"#B0BEC5\",\"#B0BEC5\",\"#B0BEC5\",\"red\",\"#B0BEC5\",\"#B0BEC5\",\"#B0BEC5\",\"#B0BEC5\",\"#B0BEC5\",\"#B0BEC5\",\"#B0BEC5\",\"#B0BEC5\",\"#B0BEC5\",\"#B0BEC5\",\"#B0BEC5\",\"#B0BEC5\",\"#B0BEC5\",\"#B0BEC5\",\"#B0BEC5\",\"#B0BEC5\",\"#B0BEC5\",\"#B0BEC5\",\"#B0BEC5\",\"#B0BEC5\",\"#B0BEC5\",\"#B0BEC5\",\"#B0BEC5\",\"#B0BEC5\",\"#B0BEC5\",\"#B0BEC5\",\"#B0BEC5\",\"#B0BEC5\",\"#B0BEC5\",\"#B0BEC5\",\"#B0BEC5\",\"#B0BEC5\",\"#B0BEC5\",\"#B0BEC5\",\"#B0BEC5\",\"#B0BEC5\",\"#B0BEC5\",\"#B0BEC5\",\"#B0BEC5\",\"#B0BEC5\",\"#B0BEC5\"]]}],\"label\":\"Topic 31\",\"method\":\"update\"},{\"args\":[{\"marker.color\":[[\"#B0BEC5\",\"#B0BEC5\",\"#B0BEC5\",\"#B0BEC5\",\"#B0BEC5\",\"#B0BEC5\",\"#B0BEC5\",\"#B0BEC5\",\"#B0BEC5\",\"#B0BEC5\",\"#B0BEC5\",\"#B0BEC5\",\"#B0BEC5\",\"#B0BEC5\",\"#B0BEC5\",\"#B0BEC5\",\"#B0BEC5\",\"#B0BEC5\",\"#B0BEC5\",\"#B0BEC5\",\"#B0BEC5\",\"#B0BEC5\",\"#B0BEC5\",\"#B0BEC5\",\"#B0BEC5\",\"#B0BEC5\",\"#B0BEC5\",\"#B0BEC5\",\"#B0BEC5\",\"#B0BEC5\",\"#B0BEC5\",\"#B0BEC5\",\"red\",\"#B0BEC5\",\"#B0BEC5\",\"#B0BEC5\",\"#B0BEC5\",\"#B0BEC5\",\"#B0BEC5\",\"#B0BEC5\",\"#B0BEC5\",\"#B0BEC5\",\"#B0BEC5\",\"#B0BEC5\",\"#B0BEC5\",\"#B0BEC5\",\"#B0BEC5\",\"#B0BEC5\",\"#B0BEC5\",\"#B0BEC5\",\"#B0BEC5\",\"#B0BEC5\",\"#B0BEC5\",\"#B0BEC5\",\"#B0BEC5\",\"#B0BEC5\",\"#B0BEC5\",\"#B0BEC5\",\"#B0BEC5\",\"#B0BEC5\",\"#B0BEC5\",\"#B0BEC5\",\"#B0BEC5\",\"#B0BEC5\",\"#B0BEC5\",\"#B0BEC5\",\"#B0BEC5\",\"#B0BEC5\",\"#B0BEC5\",\"#B0BEC5\",\"#B0BEC5\",\"#B0BEC5\",\"#B0BEC5\"]]}],\"label\":\"Topic 32\",\"method\":\"update\"},{\"args\":[{\"marker.color\":[[\"#B0BEC5\",\"#B0BEC5\",\"#B0BEC5\",\"#B0BEC5\",\"#B0BEC5\",\"#B0BEC5\",\"#B0BEC5\",\"#B0BEC5\",\"#B0BEC5\",\"#B0BEC5\",\"#B0BEC5\",\"#B0BEC5\",\"#B0BEC5\",\"#B0BEC5\",\"#B0BEC5\",\"#B0BEC5\",\"#B0BEC5\",\"#B0BEC5\",\"#B0BEC5\",\"#B0BEC5\",\"#B0BEC5\",\"#B0BEC5\",\"#B0BEC5\",\"#B0BEC5\",\"#B0BEC5\",\"#B0BEC5\",\"#B0BEC5\",\"#B0BEC5\",\"#B0BEC5\",\"#B0BEC5\",\"#B0BEC5\",\"#B0BEC5\",\"#B0BEC5\",\"red\",\"#B0BEC5\",\"#B0BEC5\",\"#B0BEC5\",\"#B0BEC5\",\"#B0BEC5\",\"#B0BEC5\",\"#B0BEC5\",\"#B0BEC5\",\"#B0BEC5\",\"#B0BEC5\",\"#B0BEC5\",\"#B0BEC5\",\"#B0BEC5\",\"#B0BEC5\",\"#B0BEC5\",\"#B0BEC5\",\"#B0BEC5\",\"#B0BEC5\",\"#B0BEC5\",\"#B0BEC5\",\"#B0BEC5\",\"#B0BEC5\",\"#B0BEC5\",\"#B0BEC5\",\"#B0BEC5\",\"#B0BEC5\",\"#B0BEC5\",\"#B0BEC5\",\"#B0BEC5\",\"#B0BEC5\",\"#B0BEC5\",\"#B0BEC5\",\"#B0BEC5\",\"#B0BEC5\",\"#B0BEC5\",\"#B0BEC5\",\"#B0BEC5\",\"#B0BEC5\",\"#B0BEC5\"]]}],\"label\":\"Topic 33\",\"method\":\"update\"},{\"args\":[{\"marker.color\":[[\"#B0BEC5\",\"#B0BEC5\",\"#B0BEC5\",\"#B0BEC5\",\"#B0BEC5\",\"#B0BEC5\",\"#B0BEC5\",\"#B0BEC5\",\"#B0BEC5\",\"#B0BEC5\",\"#B0BEC5\",\"#B0BEC5\",\"#B0BEC5\",\"#B0BEC5\",\"#B0BEC5\",\"#B0BEC5\",\"#B0BEC5\",\"#B0BEC5\",\"#B0BEC5\",\"#B0BEC5\",\"#B0BEC5\",\"#B0BEC5\",\"#B0BEC5\",\"#B0BEC5\",\"#B0BEC5\",\"#B0BEC5\",\"#B0BEC5\",\"#B0BEC5\",\"#B0BEC5\",\"#B0BEC5\",\"#B0BEC5\",\"#B0BEC5\",\"#B0BEC5\",\"#B0BEC5\",\"red\",\"#B0BEC5\",\"#B0BEC5\",\"#B0BEC5\",\"#B0BEC5\",\"#B0BEC5\",\"#B0BEC5\",\"#B0BEC5\",\"#B0BEC5\",\"#B0BEC5\",\"#B0BEC5\",\"#B0BEC5\",\"#B0BEC5\",\"#B0BEC5\",\"#B0BEC5\",\"#B0BEC5\",\"#B0BEC5\",\"#B0BEC5\",\"#B0BEC5\",\"#B0BEC5\",\"#B0BEC5\",\"#B0BEC5\",\"#B0BEC5\",\"#B0BEC5\",\"#B0BEC5\",\"#B0BEC5\",\"#B0BEC5\",\"#B0BEC5\",\"#B0BEC5\",\"#B0BEC5\",\"#B0BEC5\",\"#B0BEC5\",\"#B0BEC5\",\"#B0BEC5\",\"#B0BEC5\",\"#B0BEC5\",\"#B0BEC5\",\"#B0BEC5\",\"#B0BEC5\"]]}],\"label\":\"Topic 34\",\"method\":\"update\"},{\"args\":[{\"marker.color\":[[\"#B0BEC5\",\"#B0BEC5\",\"#B0BEC5\",\"#B0BEC5\",\"#B0BEC5\",\"#B0BEC5\",\"#B0BEC5\",\"#B0BEC5\",\"#B0BEC5\",\"#B0BEC5\",\"#B0BEC5\",\"#B0BEC5\",\"#B0BEC5\",\"#B0BEC5\",\"#B0BEC5\",\"#B0BEC5\",\"#B0BEC5\",\"#B0BEC5\",\"#B0BEC5\",\"#B0BEC5\",\"#B0BEC5\",\"#B0BEC5\",\"#B0BEC5\",\"#B0BEC5\",\"#B0BEC5\",\"#B0BEC5\",\"#B0BEC5\",\"#B0BEC5\",\"#B0BEC5\",\"#B0BEC5\",\"#B0BEC5\",\"#B0BEC5\",\"#B0BEC5\",\"#B0BEC5\",\"#B0BEC5\",\"red\",\"#B0BEC5\",\"#B0BEC5\",\"#B0BEC5\",\"#B0BEC5\",\"#B0BEC5\",\"#B0BEC5\",\"#B0BEC5\",\"#B0BEC5\",\"#B0BEC5\",\"#B0BEC5\",\"#B0BEC5\",\"#B0BEC5\",\"#B0BEC5\",\"#B0BEC5\",\"#B0BEC5\",\"#B0BEC5\",\"#B0BEC5\",\"#B0BEC5\",\"#B0BEC5\",\"#B0BEC5\",\"#B0BEC5\",\"#B0BEC5\",\"#B0BEC5\",\"#B0BEC5\",\"#B0BEC5\",\"#B0BEC5\",\"#B0BEC5\",\"#B0BEC5\",\"#B0BEC5\",\"#B0BEC5\",\"#B0BEC5\",\"#B0BEC5\",\"#B0BEC5\",\"#B0BEC5\",\"#B0BEC5\",\"#B0BEC5\",\"#B0BEC5\"]]}],\"label\":\"Topic 35\",\"method\":\"update\"},{\"args\":[{\"marker.color\":[[\"#B0BEC5\",\"#B0BEC5\",\"#B0BEC5\",\"#B0BEC5\",\"#B0BEC5\",\"#B0BEC5\",\"#B0BEC5\",\"#B0BEC5\",\"#B0BEC5\",\"#B0BEC5\",\"#B0BEC5\",\"#B0BEC5\",\"#B0BEC5\",\"#B0BEC5\",\"#B0BEC5\",\"#B0BEC5\",\"#B0BEC5\",\"#B0BEC5\",\"#B0BEC5\",\"#B0BEC5\",\"#B0BEC5\",\"#B0BEC5\",\"#B0BEC5\",\"#B0BEC5\",\"#B0BEC5\",\"#B0BEC5\",\"#B0BEC5\",\"#B0BEC5\",\"#B0BEC5\",\"#B0BEC5\",\"#B0BEC5\",\"#B0BEC5\",\"#B0BEC5\",\"#B0BEC5\",\"#B0BEC5\",\"#B0BEC5\",\"red\",\"#B0BEC5\",\"#B0BEC5\",\"#B0BEC5\",\"#B0BEC5\",\"#B0BEC5\",\"#B0BEC5\",\"#B0BEC5\",\"#B0BEC5\",\"#B0BEC5\",\"#B0BEC5\",\"#B0BEC5\",\"#B0BEC5\",\"#B0BEC5\",\"#B0BEC5\",\"#B0BEC5\",\"#B0BEC5\",\"#B0BEC5\",\"#B0BEC5\",\"#B0BEC5\",\"#B0BEC5\",\"#B0BEC5\",\"#B0BEC5\",\"#B0BEC5\",\"#B0BEC5\",\"#B0BEC5\",\"#B0BEC5\",\"#B0BEC5\",\"#B0BEC5\",\"#B0BEC5\",\"#B0BEC5\",\"#B0BEC5\",\"#B0BEC5\",\"#B0BEC5\",\"#B0BEC5\",\"#B0BEC5\",\"#B0BEC5\"]]}],\"label\":\"Topic 36\",\"method\":\"update\"},{\"args\":[{\"marker.color\":[[\"#B0BEC5\",\"#B0BEC5\",\"#B0BEC5\",\"#B0BEC5\",\"#B0BEC5\",\"#B0BEC5\",\"#B0BEC5\",\"#B0BEC5\",\"#B0BEC5\",\"#B0BEC5\",\"#B0BEC5\",\"#B0BEC5\",\"#B0BEC5\",\"#B0BEC5\",\"#B0BEC5\",\"#B0BEC5\",\"#B0BEC5\",\"#B0BEC5\",\"#B0BEC5\",\"#B0BEC5\",\"#B0BEC5\",\"#B0BEC5\",\"#B0BEC5\",\"#B0BEC5\",\"#B0BEC5\",\"#B0BEC5\",\"#B0BEC5\",\"#B0BEC5\",\"#B0BEC5\",\"#B0BEC5\",\"#B0BEC5\",\"#B0BEC5\",\"#B0BEC5\",\"#B0BEC5\",\"#B0BEC5\",\"#B0BEC5\",\"#B0BEC5\",\"red\",\"#B0BEC5\",\"#B0BEC5\",\"#B0BEC5\",\"#B0BEC5\",\"#B0BEC5\",\"#B0BEC5\",\"#B0BEC5\",\"#B0BEC5\",\"#B0BEC5\",\"#B0BEC5\",\"#B0BEC5\",\"#B0BEC5\",\"#B0BEC5\",\"#B0BEC5\",\"#B0BEC5\",\"#B0BEC5\",\"#B0BEC5\",\"#B0BEC5\",\"#B0BEC5\",\"#B0BEC5\",\"#B0BEC5\",\"#B0BEC5\",\"#B0BEC5\",\"#B0BEC5\",\"#B0BEC5\",\"#B0BEC5\",\"#B0BEC5\",\"#B0BEC5\",\"#B0BEC5\",\"#B0BEC5\",\"#B0BEC5\",\"#B0BEC5\",\"#B0BEC5\",\"#B0BEC5\",\"#B0BEC5\"]]}],\"label\":\"Topic 37\",\"method\":\"update\"},{\"args\":[{\"marker.color\":[[\"#B0BEC5\",\"#B0BEC5\",\"#B0BEC5\",\"#B0BEC5\",\"#B0BEC5\",\"#B0BEC5\",\"#B0BEC5\",\"#B0BEC5\",\"#B0BEC5\",\"#B0BEC5\",\"#B0BEC5\",\"#B0BEC5\",\"#B0BEC5\",\"#B0BEC5\",\"#B0BEC5\",\"#B0BEC5\",\"#B0BEC5\",\"#B0BEC5\",\"#B0BEC5\",\"#B0BEC5\",\"#B0BEC5\",\"#B0BEC5\",\"#B0BEC5\",\"#B0BEC5\",\"#B0BEC5\",\"#B0BEC5\",\"#B0BEC5\",\"#B0BEC5\",\"#B0BEC5\",\"#B0BEC5\",\"#B0BEC5\",\"#B0BEC5\",\"#B0BEC5\",\"#B0BEC5\",\"#B0BEC5\",\"#B0BEC5\",\"#B0BEC5\",\"#B0BEC5\",\"red\",\"#B0BEC5\",\"#B0BEC5\",\"#B0BEC5\",\"#B0BEC5\",\"#B0BEC5\",\"#B0BEC5\",\"#B0BEC5\",\"#B0BEC5\",\"#B0BEC5\",\"#B0BEC5\",\"#B0BEC5\",\"#B0BEC5\",\"#B0BEC5\",\"#B0BEC5\",\"#B0BEC5\",\"#B0BEC5\",\"#B0BEC5\",\"#B0BEC5\",\"#B0BEC5\",\"#B0BEC5\",\"#B0BEC5\",\"#B0BEC5\",\"#B0BEC5\",\"#B0BEC5\",\"#B0BEC5\",\"#B0BEC5\",\"#B0BEC5\",\"#B0BEC5\",\"#B0BEC5\",\"#B0BEC5\",\"#B0BEC5\",\"#B0BEC5\",\"#B0BEC5\",\"#B0BEC5\"]]}],\"label\":\"Topic 38\",\"method\":\"update\"},{\"args\":[{\"marker.color\":[[\"#B0BEC5\",\"#B0BEC5\",\"#B0BEC5\",\"#B0BEC5\",\"#B0BEC5\",\"#B0BEC5\",\"#B0BEC5\",\"#B0BEC5\",\"#B0BEC5\",\"#B0BEC5\",\"#B0BEC5\",\"#B0BEC5\",\"#B0BEC5\",\"#B0BEC5\",\"#B0BEC5\",\"#B0BEC5\",\"#B0BEC5\",\"#B0BEC5\",\"#B0BEC5\",\"#B0BEC5\",\"#B0BEC5\",\"#B0BEC5\",\"#B0BEC5\",\"#B0BEC5\",\"#B0BEC5\",\"#B0BEC5\",\"#B0BEC5\",\"#B0BEC5\",\"#B0BEC5\",\"#B0BEC5\",\"#B0BEC5\",\"#B0BEC5\",\"#B0BEC5\",\"#B0BEC5\",\"#B0BEC5\",\"#B0BEC5\",\"#B0BEC5\",\"#B0BEC5\",\"#B0BEC5\",\"red\",\"#B0BEC5\",\"#B0BEC5\",\"#B0BEC5\",\"#B0BEC5\",\"#B0BEC5\",\"#B0BEC5\",\"#B0BEC5\",\"#B0BEC5\",\"#B0BEC5\",\"#B0BEC5\",\"#B0BEC5\",\"#B0BEC5\",\"#B0BEC5\",\"#B0BEC5\",\"#B0BEC5\",\"#B0BEC5\",\"#B0BEC5\",\"#B0BEC5\",\"#B0BEC5\",\"#B0BEC5\",\"#B0BEC5\",\"#B0BEC5\",\"#B0BEC5\",\"#B0BEC5\",\"#B0BEC5\",\"#B0BEC5\",\"#B0BEC5\",\"#B0BEC5\",\"#B0BEC5\",\"#B0BEC5\",\"#B0BEC5\",\"#B0BEC5\",\"#B0BEC5\"]]}],\"label\":\"Topic 39\",\"method\":\"update\"},{\"args\":[{\"marker.color\":[[\"#B0BEC5\",\"#B0BEC5\",\"#B0BEC5\",\"#B0BEC5\",\"#B0BEC5\",\"#B0BEC5\",\"#B0BEC5\",\"#B0BEC5\",\"#B0BEC5\",\"#B0BEC5\",\"#B0BEC5\",\"#B0BEC5\",\"#B0BEC5\",\"#B0BEC5\",\"#B0BEC5\",\"#B0BEC5\",\"#B0BEC5\",\"#B0BEC5\",\"#B0BEC5\",\"#B0BEC5\",\"#B0BEC5\",\"#B0BEC5\",\"#B0BEC5\",\"#B0BEC5\",\"#B0BEC5\",\"#B0BEC5\",\"#B0BEC5\",\"#B0BEC5\",\"#B0BEC5\",\"#B0BEC5\",\"#B0BEC5\",\"#B0BEC5\",\"#B0BEC5\",\"#B0BEC5\",\"#B0BEC5\",\"#B0BEC5\",\"#B0BEC5\",\"#B0BEC5\",\"#B0BEC5\",\"#B0BEC5\",\"red\",\"#B0BEC5\",\"#B0BEC5\",\"#B0BEC5\",\"#B0BEC5\",\"#B0BEC5\",\"#B0BEC5\",\"#B0BEC5\",\"#B0BEC5\",\"#B0BEC5\",\"#B0BEC5\",\"#B0BEC5\",\"#B0BEC5\",\"#B0BEC5\",\"#B0BEC5\",\"#B0BEC5\",\"#B0BEC5\",\"#B0BEC5\",\"#B0BEC5\",\"#B0BEC5\",\"#B0BEC5\",\"#B0BEC5\",\"#B0BEC5\",\"#B0BEC5\",\"#B0BEC5\",\"#B0BEC5\",\"#B0BEC5\",\"#B0BEC5\",\"#B0BEC5\",\"#B0BEC5\",\"#B0BEC5\",\"#B0BEC5\",\"#B0BEC5\"]]}],\"label\":\"Topic 40\",\"method\":\"update\"},{\"args\":[{\"marker.color\":[[\"#B0BEC5\",\"#B0BEC5\",\"#B0BEC5\",\"#B0BEC5\",\"#B0BEC5\",\"#B0BEC5\",\"#B0BEC5\",\"#B0BEC5\",\"#B0BEC5\",\"#B0BEC5\",\"#B0BEC5\",\"#B0BEC5\",\"#B0BEC5\",\"#B0BEC5\",\"#B0BEC5\",\"#B0BEC5\",\"#B0BEC5\",\"#B0BEC5\",\"#B0BEC5\",\"#B0BEC5\",\"#B0BEC5\",\"#B0BEC5\",\"#B0BEC5\",\"#B0BEC5\",\"#B0BEC5\",\"#B0BEC5\",\"#B0BEC5\",\"#B0BEC5\",\"#B0BEC5\",\"#B0BEC5\",\"#B0BEC5\",\"#B0BEC5\",\"#B0BEC5\",\"#B0BEC5\",\"#B0BEC5\",\"#B0BEC5\",\"#B0BEC5\",\"#B0BEC5\",\"#B0BEC5\",\"#B0BEC5\",\"#B0BEC5\",\"red\",\"#B0BEC5\",\"#B0BEC5\",\"#B0BEC5\",\"#B0BEC5\",\"#B0BEC5\",\"#B0BEC5\",\"#B0BEC5\",\"#B0BEC5\",\"#B0BEC5\",\"#B0BEC5\",\"#B0BEC5\",\"#B0BEC5\",\"#B0BEC5\",\"#B0BEC5\",\"#B0BEC5\",\"#B0BEC5\",\"#B0BEC5\",\"#B0BEC5\",\"#B0BEC5\",\"#B0BEC5\",\"#B0BEC5\",\"#B0BEC5\",\"#B0BEC5\",\"#B0BEC5\",\"#B0BEC5\",\"#B0BEC5\",\"#B0BEC5\",\"#B0BEC5\",\"#B0BEC5\",\"#B0BEC5\",\"#B0BEC5\"]]}],\"label\":\"Topic 41\",\"method\":\"update\"},{\"args\":[{\"marker.color\":[[\"#B0BEC5\",\"#B0BEC5\",\"#B0BEC5\",\"#B0BEC5\",\"#B0BEC5\",\"#B0BEC5\",\"#B0BEC5\",\"#B0BEC5\",\"#B0BEC5\",\"#B0BEC5\",\"#B0BEC5\",\"#B0BEC5\",\"#B0BEC5\",\"#B0BEC5\",\"#B0BEC5\",\"#B0BEC5\",\"#B0BEC5\",\"#B0BEC5\",\"#B0BEC5\",\"#B0BEC5\",\"#B0BEC5\",\"#B0BEC5\",\"#B0BEC5\",\"#B0BEC5\",\"#B0BEC5\",\"#B0BEC5\",\"#B0BEC5\",\"#B0BEC5\",\"#B0BEC5\",\"#B0BEC5\",\"#B0BEC5\",\"#B0BEC5\",\"#B0BEC5\",\"#B0BEC5\",\"#B0BEC5\",\"#B0BEC5\",\"#B0BEC5\",\"#B0BEC5\",\"#B0BEC5\",\"#B0BEC5\",\"#B0BEC5\",\"#B0BEC5\",\"red\",\"#B0BEC5\",\"#B0BEC5\",\"#B0BEC5\",\"#B0BEC5\",\"#B0BEC5\",\"#B0BEC5\",\"#B0BEC5\",\"#B0BEC5\",\"#B0BEC5\",\"#B0BEC5\",\"#B0BEC5\",\"#B0BEC5\",\"#B0BEC5\",\"#B0BEC5\",\"#B0BEC5\",\"#B0BEC5\",\"#B0BEC5\",\"#B0BEC5\",\"#B0BEC5\",\"#B0BEC5\",\"#B0BEC5\",\"#B0BEC5\",\"#B0BEC5\",\"#B0BEC5\",\"#B0BEC5\",\"#B0BEC5\",\"#B0BEC5\",\"#B0BEC5\",\"#B0BEC5\",\"#B0BEC5\"]]}],\"label\":\"Topic 42\",\"method\":\"update\"},{\"args\":[{\"marker.color\":[[\"#B0BEC5\",\"#B0BEC5\",\"#B0BEC5\",\"#B0BEC5\",\"#B0BEC5\",\"#B0BEC5\",\"#B0BEC5\",\"#B0BEC5\",\"#B0BEC5\",\"#B0BEC5\",\"#B0BEC5\",\"#B0BEC5\",\"#B0BEC5\",\"#B0BEC5\",\"#B0BEC5\",\"#B0BEC5\",\"#B0BEC5\",\"#B0BEC5\",\"#B0BEC5\",\"#B0BEC5\",\"#B0BEC5\",\"#B0BEC5\",\"#B0BEC5\",\"#B0BEC5\",\"#B0BEC5\",\"#B0BEC5\",\"#B0BEC5\",\"#B0BEC5\",\"#B0BEC5\",\"#B0BEC5\",\"#B0BEC5\",\"#B0BEC5\",\"#B0BEC5\",\"#B0BEC5\",\"#B0BEC5\",\"#B0BEC5\",\"#B0BEC5\",\"#B0BEC5\",\"#B0BEC5\",\"#B0BEC5\",\"#B0BEC5\",\"#B0BEC5\",\"#B0BEC5\",\"red\",\"#B0BEC5\",\"#B0BEC5\",\"#B0BEC5\",\"#B0BEC5\",\"#B0BEC5\",\"#B0BEC5\",\"#B0BEC5\",\"#B0BEC5\",\"#B0BEC5\",\"#B0BEC5\",\"#B0BEC5\",\"#B0BEC5\",\"#B0BEC5\",\"#B0BEC5\",\"#B0BEC5\",\"#B0BEC5\",\"#B0BEC5\",\"#B0BEC5\",\"#B0BEC5\",\"#B0BEC5\",\"#B0BEC5\",\"#B0BEC5\",\"#B0BEC5\",\"#B0BEC5\",\"#B0BEC5\",\"#B0BEC5\",\"#B0BEC5\",\"#B0BEC5\",\"#B0BEC5\"]]}],\"label\":\"Topic 43\",\"method\":\"update\"},{\"args\":[{\"marker.color\":[[\"#B0BEC5\",\"#B0BEC5\",\"#B0BEC5\",\"#B0BEC5\",\"#B0BEC5\",\"#B0BEC5\",\"#B0BEC5\",\"#B0BEC5\",\"#B0BEC5\",\"#B0BEC5\",\"#B0BEC5\",\"#B0BEC5\",\"#B0BEC5\",\"#B0BEC5\",\"#B0BEC5\",\"#B0BEC5\",\"#B0BEC5\",\"#B0BEC5\",\"#B0BEC5\",\"#B0BEC5\",\"#B0BEC5\",\"#B0BEC5\",\"#B0BEC5\",\"#B0BEC5\",\"#B0BEC5\",\"#B0BEC5\",\"#B0BEC5\",\"#B0BEC5\",\"#B0BEC5\",\"#B0BEC5\",\"#B0BEC5\",\"#B0BEC5\",\"#B0BEC5\",\"#B0BEC5\",\"#B0BEC5\",\"#B0BEC5\",\"#B0BEC5\",\"#B0BEC5\",\"#B0BEC5\",\"#B0BEC5\",\"#B0BEC5\",\"#B0BEC5\",\"#B0BEC5\",\"#B0BEC5\",\"red\",\"#B0BEC5\",\"#B0BEC5\",\"#B0BEC5\",\"#B0BEC5\",\"#B0BEC5\",\"#B0BEC5\",\"#B0BEC5\",\"#B0BEC5\",\"#B0BEC5\",\"#B0BEC5\",\"#B0BEC5\",\"#B0BEC5\",\"#B0BEC5\",\"#B0BEC5\",\"#B0BEC5\",\"#B0BEC5\",\"#B0BEC5\",\"#B0BEC5\",\"#B0BEC5\",\"#B0BEC5\",\"#B0BEC5\",\"#B0BEC5\",\"#B0BEC5\",\"#B0BEC5\",\"#B0BEC5\",\"#B0BEC5\",\"#B0BEC5\",\"#B0BEC5\"]]}],\"label\":\"Topic 44\",\"method\":\"update\"},{\"args\":[{\"marker.color\":[[\"#B0BEC5\",\"#B0BEC5\",\"#B0BEC5\",\"#B0BEC5\",\"#B0BEC5\",\"#B0BEC5\",\"#B0BEC5\",\"#B0BEC5\",\"#B0BEC5\",\"#B0BEC5\",\"#B0BEC5\",\"#B0BEC5\",\"#B0BEC5\",\"#B0BEC5\",\"#B0BEC5\",\"#B0BEC5\",\"#B0BEC5\",\"#B0BEC5\",\"#B0BEC5\",\"#B0BEC5\",\"#B0BEC5\",\"#B0BEC5\",\"#B0BEC5\",\"#B0BEC5\",\"#B0BEC5\",\"#B0BEC5\",\"#B0BEC5\",\"#B0BEC5\",\"#B0BEC5\",\"#B0BEC5\",\"#B0BEC5\",\"#B0BEC5\",\"#B0BEC5\",\"#B0BEC5\",\"#B0BEC5\",\"#B0BEC5\",\"#B0BEC5\",\"#B0BEC5\",\"#B0BEC5\",\"#B0BEC5\",\"#B0BEC5\",\"#B0BEC5\",\"#B0BEC5\",\"#B0BEC5\",\"#B0BEC5\",\"red\",\"#B0BEC5\",\"#B0BEC5\",\"#B0BEC5\",\"#B0BEC5\",\"#B0BEC5\",\"#B0BEC5\",\"#B0BEC5\",\"#B0BEC5\",\"#B0BEC5\",\"#B0BEC5\",\"#B0BEC5\",\"#B0BEC5\",\"#B0BEC5\",\"#B0BEC5\",\"#B0BEC5\",\"#B0BEC5\",\"#B0BEC5\",\"#B0BEC5\",\"#B0BEC5\",\"#B0BEC5\",\"#B0BEC5\",\"#B0BEC5\",\"#B0BEC5\",\"#B0BEC5\",\"#B0BEC5\",\"#B0BEC5\",\"#B0BEC5\"]]}],\"label\":\"Topic 45\",\"method\":\"update\"},{\"args\":[{\"marker.color\":[[\"#B0BEC5\",\"#B0BEC5\",\"#B0BEC5\",\"#B0BEC5\",\"#B0BEC5\",\"#B0BEC5\",\"#B0BEC5\",\"#B0BEC5\",\"#B0BEC5\",\"#B0BEC5\",\"#B0BEC5\",\"#B0BEC5\",\"#B0BEC5\",\"#B0BEC5\",\"#B0BEC5\",\"#B0BEC5\",\"#B0BEC5\",\"#B0BEC5\",\"#B0BEC5\",\"#B0BEC5\",\"#B0BEC5\",\"#B0BEC5\",\"#B0BEC5\",\"#B0BEC5\",\"#B0BEC5\",\"#B0BEC5\",\"#B0BEC5\",\"#B0BEC5\",\"#B0BEC5\",\"#B0BEC5\",\"#B0BEC5\",\"#B0BEC5\",\"#B0BEC5\",\"#B0BEC5\",\"#B0BEC5\",\"#B0BEC5\",\"#B0BEC5\",\"#B0BEC5\",\"#B0BEC5\",\"#B0BEC5\",\"#B0BEC5\",\"#B0BEC5\",\"#B0BEC5\",\"#B0BEC5\",\"#B0BEC5\",\"#B0BEC5\",\"red\",\"#B0BEC5\",\"#B0BEC5\",\"#B0BEC5\",\"#B0BEC5\",\"#B0BEC5\",\"#B0BEC5\",\"#B0BEC5\",\"#B0BEC5\",\"#B0BEC5\",\"#B0BEC5\",\"#B0BEC5\",\"#B0BEC5\",\"#B0BEC5\",\"#B0BEC5\",\"#B0BEC5\",\"#B0BEC5\",\"#B0BEC5\",\"#B0BEC5\",\"#B0BEC5\",\"#B0BEC5\",\"#B0BEC5\",\"#B0BEC5\",\"#B0BEC5\",\"#B0BEC5\",\"#B0BEC5\",\"#B0BEC5\"]]}],\"label\":\"Topic 46\",\"method\":\"update\"},{\"args\":[{\"marker.color\":[[\"#B0BEC5\",\"#B0BEC5\",\"#B0BEC5\",\"#B0BEC5\",\"#B0BEC5\",\"#B0BEC5\",\"#B0BEC5\",\"#B0BEC5\",\"#B0BEC5\",\"#B0BEC5\",\"#B0BEC5\",\"#B0BEC5\",\"#B0BEC5\",\"#B0BEC5\",\"#B0BEC5\",\"#B0BEC5\",\"#B0BEC5\",\"#B0BEC5\",\"#B0BEC5\",\"#B0BEC5\",\"#B0BEC5\",\"#B0BEC5\",\"#B0BEC5\",\"#B0BEC5\",\"#B0BEC5\",\"#B0BEC5\",\"#B0BEC5\",\"#B0BEC5\",\"#B0BEC5\",\"#B0BEC5\",\"#B0BEC5\",\"#B0BEC5\",\"#B0BEC5\",\"#B0BEC5\",\"#B0BEC5\",\"#B0BEC5\",\"#B0BEC5\",\"#B0BEC5\",\"#B0BEC5\",\"#B0BEC5\",\"#B0BEC5\",\"#B0BEC5\",\"#B0BEC5\",\"#B0BEC5\",\"#B0BEC5\",\"#B0BEC5\",\"#B0BEC5\",\"red\",\"#B0BEC5\",\"#B0BEC5\",\"#B0BEC5\",\"#B0BEC5\",\"#B0BEC5\",\"#B0BEC5\",\"#B0BEC5\",\"#B0BEC5\",\"#B0BEC5\",\"#B0BEC5\",\"#B0BEC5\",\"#B0BEC5\",\"#B0BEC5\",\"#B0BEC5\",\"#B0BEC5\",\"#B0BEC5\",\"#B0BEC5\",\"#B0BEC5\",\"#B0BEC5\",\"#B0BEC5\",\"#B0BEC5\",\"#B0BEC5\",\"#B0BEC5\",\"#B0BEC5\",\"#B0BEC5\"]]}],\"label\":\"Topic 47\",\"method\":\"update\"},{\"args\":[{\"marker.color\":[[\"#B0BEC5\",\"#B0BEC5\",\"#B0BEC5\",\"#B0BEC5\",\"#B0BEC5\",\"#B0BEC5\",\"#B0BEC5\",\"#B0BEC5\",\"#B0BEC5\",\"#B0BEC5\",\"#B0BEC5\",\"#B0BEC5\",\"#B0BEC5\",\"#B0BEC5\",\"#B0BEC5\",\"#B0BEC5\",\"#B0BEC5\",\"#B0BEC5\",\"#B0BEC5\",\"#B0BEC5\",\"#B0BEC5\",\"#B0BEC5\",\"#B0BEC5\",\"#B0BEC5\",\"#B0BEC5\",\"#B0BEC5\",\"#B0BEC5\",\"#B0BEC5\",\"#B0BEC5\",\"#B0BEC5\",\"#B0BEC5\",\"#B0BEC5\",\"#B0BEC5\",\"#B0BEC5\",\"#B0BEC5\",\"#B0BEC5\",\"#B0BEC5\",\"#B0BEC5\",\"#B0BEC5\",\"#B0BEC5\",\"#B0BEC5\",\"#B0BEC5\",\"#B0BEC5\",\"#B0BEC5\",\"#B0BEC5\",\"#B0BEC5\",\"#B0BEC5\",\"#B0BEC5\",\"red\",\"#B0BEC5\",\"#B0BEC5\",\"#B0BEC5\",\"#B0BEC5\",\"#B0BEC5\",\"#B0BEC5\",\"#B0BEC5\",\"#B0BEC5\",\"#B0BEC5\",\"#B0BEC5\",\"#B0BEC5\",\"#B0BEC5\",\"#B0BEC5\",\"#B0BEC5\",\"#B0BEC5\",\"#B0BEC5\",\"#B0BEC5\",\"#B0BEC5\",\"#B0BEC5\",\"#B0BEC5\",\"#B0BEC5\",\"#B0BEC5\",\"#B0BEC5\",\"#B0BEC5\"]]}],\"label\":\"Topic 48\",\"method\":\"update\"},{\"args\":[{\"marker.color\":[[\"#B0BEC5\",\"#B0BEC5\",\"#B0BEC5\",\"#B0BEC5\",\"#B0BEC5\",\"#B0BEC5\",\"#B0BEC5\",\"#B0BEC5\",\"#B0BEC5\",\"#B0BEC5\",\"#B0BEC5\",\"#B0BEC5\",\"#B0BEC5\",\"#B0BEC5\",\"#B0BEC5\",\"#B0BEC5\",\"#B0BEC5\",\"#B0BEC5\",\"#B0BEC5\",\"#B0BEC5\",\"#B0BEC5\",\"#B0BEC5\",\"#B0BEC5\",\"#B0BEC5\",\"#B0BEC5\",\"#B0BEC5\",\"#B0BEC5\",\"#B0BEC5\",\"#B0BEC5\",\"#B0BEC5\",\"#B0BEC5\",\"#B0BEC5\",\"#B0BEC5\",\"#B0BEC5\",\"#B0BEC5\",\"#B0BEC5\",\"#B0BEC5\",\"#B0BEC5\",\"#B0BEC5\",\"#B0BEC5\",\"#B0BEC5\",\"#B0BEC5\",\"#B0BEC5\",\"#B0BEC5\",\"#B0BEC5\",\"#B0BEC5\",\"#B0BEC5\",\"#B0BEC5\",\"#B0BEC5\",\"red\",\"#B0BEC5\",\"#B0BEC5\",\"#B0BEC5\",\"#B0BEC5\",\"#B0BEC5\",\"#B0BEC5\",\"#B0BEC5\",\"#B0BEC5\",\"#B0BEC5\",\"#B0BEC5\",\"#B0BEC5\",\"#B0BEC5\",\"#B0BEC5\",\"#B0BEC5\",\"#B0BEC5\",\"#B0BEC5\",\"#B0BEC5\",\"#B0BEC5\",\"#B0BEC5\",\"#B0BEC5\",\"#B0BEC5\",\"#B0BEC5\",\"#B0BEC5\"]]}],\"label\":\"Topic 49\",\"method\":\"update\"},{\"args\":[{\"marker.color\":[[\"#B0BEC5\",\"#B0BEC5\",\"#B0BEC5\",\"#B0BEC5\",\"#B0BEC5\",\"#B0BEC5\",\"#B0BEC5\",\"#B0BEC5\",\"#B0BEC5\",\"#B0BEC5\",\"#B0BEC5\",\"#B0BEC5\",\"#B0BEC5\",\"#B0BEC5\",\"#B0BEC5\",\"#B0BEC5\",\"#B0BEC5\",\"#B0BEC5\",\"#B0BEC5\",\"#B0BEC5\",\"#B0BEC5\",\"#B0BEC5\",\"#B0BEC5\",\"#B0BEC5\",\"#B0BEC5\",\"#B0BEC5\",\"#B0BEC5\",\"#B0BEC5\",\"#B0BEC5\",\"#B0BEC5\",\"#B0BEC5\",\"#B0BEC5\",\"#B0BEC5\",\"#B0BEC5\",\"#B0BEC5\",\"#B0BEC5\",\"#B0BEC5\",\"#B0BEC5\",\"#B0BEC5\",\"#B0BEC5\",\"#B0BEC5\",\"#B0BEC5\",\"#B0BEC5\",\"#B0BEC5\",\"#B0BEC5\",\"#B0BEC5\",\"#B0BEC5\",\"#B0BEC5\",\"#B0BEC5\",\"#B0BEC5\",\"red\",\"#B0BEC5\",\"#B0BEC5\",\"#B0BEC5\",\"#B0BEC5\",\"#B0BEC5\",\"#B0BEC5\",\"#B0BEC5\",\"#B0BEC5\",\"#B0BEC5\",\"#B0BEC5\",\"#B0BEC5\",\"#B0BEC5\",\"#B0BEC5\",\"#B0BEC5\",\"#B0BEC5\",\"#B0BEC5\",\"#B0BEC5\",\"#B0BEC5\",\"#B0BEC5\",\"#B0BEC5\",\"#B0BEC5\",\"#B0BEC5\"]]}],\"label\":\"Topic 50\",\"method\":\"update\"},{\"args\":[{\"marker.color\":[[\"#B0BEC5\",\"#B0BEC5\",\"#B0BEC5\",\"#B0BEC5\",\"#B0BEC5\",\"#B0BEC5\",\"#B0BEC5\",\"#B0BEC5\",\"#B0BEC5\",\"#B0BEC5\",\"#B0BEC5\",\"#B0BEC5\",\"#B0BEC5\",\"#B0BEC5\",\"#B0BEC5\",\"#B0BEC5\",\"#B0BEC5\",\"#B0BEC5\",\"#B0BEC5\",\"#B0BEC5\",\"#B0BEC5\",\"#B0BEC5\",\"#B0BEC5\",\"#B0BEC5\",\"#B0BEC5\",\"#B0BEC5\",\"#B0BEC5\",\"#B0BEC5\",\"#B0BEC5\",\"#B0BEC5\",\"#B0BEC5\",\"#B0BEC5\",\"#B0BEC5\",\"#B0BEC5\",\"#B0BEC5\",\"#B0BEC5\",\"#B0BEC5\",\"#B0BEC5\",\"#B0BEC5\",\"#B0BEC5\",\"#B0BEC5\",\"#B0BEC5\",\"#B0BEC5\",\"#B0BEC5\",\"#B0BEC5\",\"#B0BEC5\",\"#B0BEC5\",\"#B0BEC5\",\"#B0BEC5\",\"#B0BEC5\",\"#B0BEC5\",\"red\",\"#B0BEC5\",\"#B0BEC5\",\"#B0BEC5\",\"#B0BEC5\",\"#B0BEC5\",\"#B0BEC5\",\"#B0BEC5\",\"#B0BEC5\",\"#B0BEC5\",\"#B0BEC5\",\"#B0BEC5\",\"#B0BEC5\",\"#B0BEC5\",\"#B0BEC5\",\"#B0BEC5\",\"#B0BEC5\",\"#B0BEC5\",\"#B0BEC5\",\"#B0BEC5\",\"#B0BEC5\",\"#B0BEC5\"]]}],\"label\":\"Topic 51\",\"method\":\"update\"},{\"args\":[{\"marker.color\":[[\"#B0BEC5\",\"#B0BEC5\",\"#B0BEC5\",\"#B0BEC5\",\"#B0BEC5\",\"#B0BEC5\",\"#B0BEC5\",\"#B0BEC5\",\"#B0BEC5\",\"#B0BEC5\",\"#B0BEC5\",\"#B0BEC5\",\"#B0BEC5\",\"#B0BEC5\",\"#B0BEC5\",\"#B0BEC5\",\"#B0BEC5\",\"#B0BEC5\",\"#B0BEC5\",\"#B0BEC5\",\"#B0BEC5\",\"#B0BEC5\",\"#B0BEC5\",\"#B0BEC5\",\"#B0BEC5\",\"#B0BEC5\",\"#B0BEC5\",\"#B0BEC5\",\"#B0BEC5\",\"#B0BEC5\",\"#B0BEC5\",\"#B0BEC5\",\"#B0BEC5\",\"#B0BEC5\",\"#B0BEC5\",\"#B0BEC5\",\"#B0BEC5\",\"#B0BEC5\",\"#B0BEC5\",\"#B0BEC5\",\"#B0BEC5\",\"#B0BEC5\",\"#B0BEC5\",\"#B0BEC5\",\"#B0BEC5\",\"#B0BEC5\",\"#B0BEC5\",\"#B0BEC5\",\"#B0BEC5\",\"#B0BEC5\",\"#B0BEC5\",\"#B0BEC5\",\"red\",\"#B0BEC5\",\"#B0BEC5\",\"#B0BEC5\",\"#B0BEC5\",\"#B0BEC5\",\"#B0BEC5\",\"#B0BEC5\",\"#B0BEC5\",\"#B0BEC5\",\"#B0BEC5\",\"#B0BEC5\",\"#B0BEC5\",\"#B0BEC5\",\"#B0BEC5\",\"#B0BEC5\",\"#B0BEC5\",\"#B0BEC5\",\"#B0BEC5\",\"#B0BEC5\",\"#B0BEC5\"]]}],\"label\":\"Topic 52\",\"method\":\"update\"},{\"args\":[{\"marker.color\":[[\"#B0BEC5\",\"#B0BEC5\",\"#B0BEC5\",\"#B0BEC5\",\"#B0BEC5\",\"#B0BEC5\",\"#B0BEC5\",\"#B0BEC5\",\"#B0BEC5\",\"#B0BEC5\",\"#B0BEC5\",\"#B0BEC5\",\"#B0BEC5\",\"#B0BEC5\",\"#B0BEC5\",\"#B0BEC5\",\"#B0BEC5\",\"#B0BEC5\",\"#B0BEC5\",\"#B0BEC5\",\"#B0BEC5\",\"#B0BEC5\",\"#B0BEC5\",\"#B0BEC5\",\"#B0BEC5\",\"#B0BEC5\",\"#B0BEC5\",\"#B0BEC5\",\"#B0BEC5\",\"#B0BEC5\",\"#B0BEC5\",\"#B0BEC5\",\"#B0BEC5\",\"#B0BEC5\",\"#B0BEC5\",\"#B0BEC5\",\"#B0BEC5\",\"#B0BEC5\",\"#B0BEC5\",\"#B0BEC5\",\"#B0BEC5\",\"#B0BEC5\",\"#B0BEC5\",\"#B0BEC5\",\"#B0BEC5\",\"#B0BEC5\",\"#B0BEC5\",\"#B0BEC5\",\"#B0BEC5\",\"#B0BEC5\",\"#B0BEC5\",\"#B0BEC5\",\"#B0BEC5\",\"red\",\"#B0BEC5\",\"#B0BEC5\",\"#B0BEC5\",\"#B0BEC5\",\"#B0BEC5\",\"#B0BEC5\",\"#B0BEC5\",\"#B0BEC5\",\"#B0BEC5\",\"#B0BEC5\",\"#B0BEC5\",\"#B0BEC5\",\"#B0BEC5\",\"#B0BEC5\",\"#B0BEC5\",\"#B0BEC5\",\"#B0BEC5\",\"#B0BEC5\",\"#B0BEC5\"]]}],\"label\":\"Topic 53\",\"method\":\"update\"},{\"args\":[{\"marker.color\":[[\"#B0BEC5\",\"#B0BEC5\",\"#B0BEC5\",\"#B0BEC5\",\"#B0BEC5\",\"#B0BEC5\",\"#B0BEC5\",\"#B0BEC5\",\"#B0BEC5\",\"#B0BEC5\",\"#B0BEC5\",\"#B0BEC5\",\"#B0BEC5\",\"#B0BEC5\",\"#B0BEC5\",\"#B0BEC5\",\"#B0BEC5\",\"#B0BEC5\",\"#B0BEC5\",\"#B0BEC5\",\"#B0BEC5\",\"#B0BEC5\",\"#B0BEC5\",\"#B0BEC5\",\"#B0BEC5\",\"#B0BEC5\",\"#B0BEC5\",\"#B0BEC5\",\"#B0BEC5\",\"#B0BEC5\",\"#B0BEC5\",\"#B0BEC5\",\"#B0BEC5\",\"#B0BEC5\",\"#B0BEC5\",\"#B0BEC5\",\"#B0BEC5\",\"#B0BEC5\",\"#B0BEC5\",\"#B0BEC5\",\"#B0BEC5\",\"#B0BEC5\",\"#B0BEC5\",\"#B0BEC5\",\"#B0BEC5\",\"#B0BEC5\",\"#B0BEC5\",\"#B0BEC5\",\"#B0BEC5\",\"#B0BEC5\",\"#B0BEC5\",\"#B0BEC5\",\"#B0BEC5\",\"#B0BEC5\",\"red\",\"#B0BEC5\",\"#B0BEC5\",\"#B0BEC5\",\"#B0BEC5\",\"#B0BEC5\",\"#B0BEC5\",\"#B0BEC5\",\"#B0BEC5\",\"#B0BEC5\",\"#B0BEC5\",\"#B0BEC5\",\"#B0BEC5\",\"#B0BEC5\",\"#B0BEC5\",\"#B0BEC5\",\"#B0BEC5\",\"#B0BEC5\",\"#B0BEC5\"]]}],\"label\":\"Topic 54\",\"method\":\"update\"},{\"args\":[{\"marker.color\":[[\"#B0BEC5\",\"#B0BEC5\",\"#B0BEC5\",\"#B0BEC5\",\"#B0BEC5\",\"#B0BEC5\",\"#B0BEC5\",\"#B0BEC5\",\"#B0BEC5\",\"#B0BEC5\",\"#B0BEC5\",\"#B0BEC5\",\"#B0BEC5\",\"#B0BEC5\",\"#B0BEC5\",\"#B0BEC5\",\"#B0BEC5\",\"#B0BEC5\",\"#B0BEC5\",\"#B0BEC5\",\"#B0BEC5\",\"#B0BEC5\",\"#B0BEC5\",\"#B0BEC5\",\"#B0BEC5\",\"#B0BEC5\",\"#B0BEC5\",\"#B0BEC5\",\"#B0BEC5\",\"#B0BEC5\",\"#B0BEC5\",\"#B0BEC5\",\"#B0BEC5\",\"#B0BEC5\",\"#B0BEC5\",\"#B0BEC5\",\"#B0BEC5\",\"#B0BEC5\",\"#B0BEC5\",\"#B0BEC5\",\"#B0BEC5\",\"#B0BEC5\",\"#B0BEC5\",\"#B0BEC5\",\"#B0BEC5\",\"#B0BEC5\",\"#B0BEC5\",\"#B0BEC5\",\"#B0BEC5\",\"#B0BEC5\",\"#B0BEC5\",\"#B0BEC5\",\"#B0BEC5\",\"#B0BEC5\",\"#B0BEC5\",\"red\",\"#B0BEC5\",\"#B0BEC5\",\"#B0BEC5\",\"#B0BEC5\",\"#B0BEC5\",\"#B0BEC5\",\"#B0BEC5\",\"#B0BEC5\",\"#B0BEC5\",\"#B0BEC5\",\"#B0BEC5\",\"#B0BEC5\",\"#B0BEC5\",\"#B0BEC5\",\"#B0BEC5\",\"#B0BEC5\",\"#B0BEC5\"]]}],\"label\":\"Topic 55\",\"method\":\"update\"},{\"args\":[{\"marker.color\":[[\"#B0BEC5\",\"#B0BEC5\",\"#B0BEC5\",\"#B0BEC5\",\"#B0BEC5\",\"#B0BEC5\",\"#B0BEC5\",\"#B0BEC5\",\"#B0BEC5\",\"#B0BEC5\",\"#B0BEC5\",\"#B0BEC5\",\"#B0BEC5\",\"#B0BEC5\",\"#B0BEC5\",\"#B0BEC5\",\"#B0BEC5\",\"#B0BEC5\",\"#B0BEC5\",\"#B0BEC5\",\"#B0BEC5\",\"#B0BEC5\",\"#B0BEC5\",\"#B0BEC5\",\"#B0BEC5\",\"#B0BEC5\",\"#B0BEC5\",\"#B0BEC5\",\"#B0BEC5\",\"#B0BEC5\",\"#B0BEC5\",\"#B0BEC5\",\"#B0BEC5\",\"#B0BEC5\",\"#B0BEC5\",\"#B0BEC5\",\"#B0BEC5\",\"#B0BEC5\",\"#B0BEC5\",\"#B0BEC5\",\"#B0BEC5\",\"#B0BEC5\",\"#B0BEC5\",\"#B0BEC5\",\"#B0BEC5\",\"#B0BEC5\",\"#B0BEC5\",\"#B0BEC5\",\"#B0BEC5\",\"#B0BEC5\",\"#B0BEC5\",\"#B0BEC5\",\"#B0BEC5\",\"#B0BEC5\",\"#B0BEC5\",\"#B0BEC5\",\"red\",\"#B0BEC5\",\"#B0BEC5\",\"#B0BEC5\",\"#B0BEC5\",\"#B0BEC5\",\"#B0BEC5\",\"#B0BEC5\",\"#B0BEC5\",\"#B0BEC5\",\"#B0BEC5\",\"#B0BEC5\",\"#B0BEC5\",\"#B0BEC5\",\"#B0BEC5\",\"#B0BEC5\",\"#B0BEC5\"]]}],\"label\":\"Topic 56\",\"method\":\"update\"},{\"args\":[{\"marker.color\":[[\"#B0BEC5\",\"#B0BEC5\",\"#B0BEC5\",\"#B0BEC5\",\"#B0BEC5\",\"#B0BEC5\",\"#B0BEC5\",\"#B0BEC5\",\"#B0BEC5\",\"#B0BEC5\",\"#B0BEC5\",\"#B0BEC5\",\"#B0BEC5\",\"#B0BEC5\",\"#B0BEC5\",\"#B0BEC5\",\"#B0BEC5\",\"#B0BEC5\",\"#B0BEC5\",\"#B0BEC5\",\"#B0BEC5\",\"#B0BEC5\",\"#B0BEC5\",\"#B0BEC5\",\"#B0BEC5\",\"#B0BEC5\",\"#B0BEC5\",\"#B0BEC5\",\"#B0BEC5\",\"#B0BEC5\",\"#B0BEC5\",\"#B0BEC5\",\"#B0BEC5\",\"#B0BEC5\",\"#B0BEC5\",\"#B0BEC5\",\"#B0BEC5\",\"#B0BEC5\",\"#B0BEC5\",\"#B0BEC5\",\"#B0BEC5\",\"#B0BEC5\",\"#B0BEC5\",\"#B0BEC5\",\"#B0BEC5\",\"#B0BEC5\",\"#B0BEC5\",\"#B0BEC5\",\"#B0BEC5\",\"#B0BEC5\",\"#B0BEC5\",\"#B0BEC5\",\"#B0BEC5\",\"#B0BEC5\",\"#B0BEC5\",\"#B0BEC5\",\"#B0BEC5\",\"red\",\"#B0BEC5\",\"#B0BEC5\",\"#B0BEC5\",\"#B0BEC5\",\"#B0BEC5\",\"#B0BEC5\",\"#B0BEC5\",\"#B0BEC5\",\"#B0BEC5\",\"#B0BEC5\",\"#B0BEC5\",\"#B0BEC5\",\"#B0BEC5\",\"#B0BEC5\",\"#B0BEC5\"]]}],\"label\":\"Topic 57\",\"method\":\"update\"},{\"args\":[{\"marker.color\":[[\"#B0BEC5\",\"#B0BEC5\",\"#B0BEC5\",\"#B0BEC5\",\"#B0BEC5\",\"#B0BEC5\",\"#B0BEC5\",\"#B0BEC5\",\"#B0BEC5\",\"#B0BEC5\",\"#B0BEC5\",\"#B0BEC5\",\"#B0BEC5\",\"#B0BEC5\",\"#B0BEC5\",\"#B0BEC5\",\"#B0BEC5\",\"#B0BEC5\",\"#B0BEC5\",\"#B0BEC5\",\"#B0BEC5\",\"#B0BEC5\",\"#B0BEC5\",\"#B0BEC5\",\"#B0BEC5\",\"#B0BEC5\",\"#B0BEC5\",\"#B0BEC5\",\"#B0BEC5\",\"#B0BEC5\",\"#B0BEC5\",\"#B0BEC5\",\"#B0BEC5\",\"#B0BEC5\",\"#B0BEC5\",\"#B0BEC5\",\"#B0BEC5\",\"#B0BEC5\",\"#B0BEC5\",\"#B0BEC5\",\"#B0BEC5\",\"#B0BEC5\",\"#B0BEC5\",\"#B0BEC5\",\"#B0BEC5\",\"#B0BEC5\",\"#B0BEC5\",\"#B0BEC5\",\"#B0BEC5\",\"#B0BEC5\",\"#B0BEC5\",\"#B0BEC5\",\"#B0BEC5\",\"#B0BEC5\",\"#B0BEC5\",\"#B0BEC5\",\"#B0BEC5\",\"#B0BEC5\",\"red\",\"#B0BEC5\",\"#B0BEC5\",\"#B0BEC5\",\"#B0BEC5\",\"#B0BEC5\",\"#B0BEC5\",\"#B0BEC5\",\"#B0BEC5\",\"#B0BEC5\",\"#B0BEC5\",\"#B0BEC5\",\"#B0BEC5\",\"#B0BEC5\",\"#B0BEC5\"]]}],\"label\":\"Topic 58\",\"method\":\"update\"},{\"args\":[{\"marker.color\":[[\"#B0BEC5\",\"#B0BEC5\",\"#B0BEC5\",\"#B0BEC5\",\"#B0BEC5\",\"#B0BEC5\",\"#B0BEC5\",\"#B0BEC5\",\"#B0BEC5\",\"#B0BEC5\",\"#B0BEC5\",\"#B0BEC5\",\"#B0BEC5\",\"#B0BEC5\",\"#B0BEC5\",\"#B0BEC5\",\"#B0BEC5\",\"#B0BEC5\",\"#B0BEC5\",\"#B0BEC5\",\"#B0BEC5\",\"#B0BEC5\",\"#B0BEC5\",\"#B0BEC5\",\"#B0BEC5\",\"#B0BEC5\",\"#B0BEC5\",\"#B0BEC5\",\"#B0BEC5\",\"#B0BEC5\",\"#B0BEC5\",\"#B0BEC5\",\"#B0BEC5\",\"#B0BEC5\",\"#B0BEC5\",\"#B0BEC5\",\"#B0BEC5\",\"#B0BEC5\",\"#B0BEC5\",\"#B0BEC5\",\"#B0BEC5\",\"#B0BEC5\",\"#B0BEC5\",\"#B0BEC5\",\"#B0BEC5\",\"#B0BEC5\",\"#B0BEC5\",\"#B0BEC5\",\"#B0BEC5\",\"#B0BEC5\",\"#B0BEC5\",\"#B0BEC5\",\"#B0BEC5\",\"#B0BEC5\",\"#B0BEC5\",\"#B0BEC5\",\"#B0BEC5\",\"#B0BEC5\",\"#B0BEC5\",\"red\",\"#B0BEC5\",\"#B0BEC5\",\"#B0BEC5\",\"#B0BEC5\",\"#B0BEC5\",\"#B0BEC5\",\"#B0BEC5\",\"#B0BEC5\",\"#B0BEC5\",\"#B0BEC5\",\"#B0BEC5\",\"#B0BEC5\",\"#B0BEC5\"]]}],\"label\":\"Topic 59\",\"method\":\"update\"},{\"args\":[{\"marker.color\":[[\"#B0BEC5\",\"#B0BEC5\",\"#B0BEC5\",\"#B0BEC5\",\"#B0BEC5\",\"#B0BEC5\",\"#B0BEC5\",\"#B0BEC5\",\"#B0BEC5\",\"#B0BEC5\",\"#B0BEC5\",\"#B0BEC5\",\"#B0BEC5\",\"#B0BEC5\",\"#B0BEC5\",\"#B0BEC5\",\"#B0BEC5\",\"#B0BEC5\",\"#B0BEC5\",\"#B0BEC5\",\"#B0BEC5\",\"#B0BEC5\",\"#B0BEC5\",\"#B0BEC5\",\"#B0BEC5\",\"#B0BEC5\",\"#B0BEC5\",\"#B0BEC5\",\"#B0BEC5\",\"#B0BEC5\",\"#B0BEC5\",\"#B0BEC5\",\"#B0BEC5\",\"#B0BEC5\",\"#B0BEC5\",\"#B0BEC5\",\"#B0BEC5\",\"#B0BEC5\",\"#B0BEC5\",\"#B0BEC5\",\"#B0BEC5\",\"#B0BEC5\",\"#B0BEC5\",\"#B0BEC5\",\"#B0BEC5\",\"#B0BEC5\",\"#B0BEC5\",\"#B0BEC5\",\"#B0BEC5\",\"#B0BEC5\",\"#B0BEC5\",\"#B0BEC5\",\"#B0BEC5\",\"#B0BEC5\",\"#B0BEC5\",\"#B0BEC5\",\"#B0BEC5\",\"#B0BEC5\",\"#B0BEC5\",\"#B0BEC5\",\"red\",\"#B0BEC5\",\"#B0BEC5\",\"#B0BEC5\",\"#B0BEC5\",\"#B0BEC5\",\"#B0BEC5\",\"#B0BEC5\",\"#B0BEC5\",\"#B0BEC5\",\"#B0BEC5\",\"#B0BEC5\",\"#B0BEC5\"]]}],\"label\":\"Topic 60\",\"method\":\"update\"},{\"args\":[{\"marker.color\":[[\"#B0BEC5\",\"#B0BEC5\",\"#B0BEC5\",\"#B0BEC5\",\"#B0BEC5\",\"#B0BEC5\",\"#B0BEC5\",\"#B0BEC5\",\"#B0BEC5\",\"#B0BEC5\",\"#B0BEC5\",\"#B0BEC5\",\"#B0BEC5\",\"#B0BEC5\",\"#B0BEC5\",\"#B0BEC5\",\"#B0BEC5\",\"#B0BEC5\",\"#B0BEC5\",\"#B0BEC5\",\"#B0BEC5\",\"#B0BEC5\",\"#B0BEC5\",\"#B0BEC5\",\"#B0BEC5\",\"#B0BEC5\",\"#B0BEC5\",\"#B0BEC5\",\"#B0BEC5\",\"#B0BEC5\",\"#B0BEC5\",\"#B0BEC5\",\"#B0BEC5\",\"#B0BEC5\",\"#B0BEC5\",\"#B0BEC5\",\"#B0BEC5\",\"#B0BEC5\",\"#B0BEC5\",\"#B0BEC5\",\"#B0BEC5\",\"#B0BEC5\",\"#B0BEC5\",\"#B0BEC5\",\"#B0BEC5\",\"#B0BEC5\",\"#B0BEC5\",\"#B0BEC5\",\"#B0BEC5\",\"#B0BEC5\",\"#B0BEC5\",\"#B0BEC5\",\"#B0BEC5\",\"#B0BEC5\",\"#B0BEC5\",\"#B0BEC5\",\"#B0BEC5\",\"#B0BEC5\",\"#B0BEC5\",\"#B0BEC5\",\"#B0BEC5\",\"red\",\"#B0BEC5\",\"#B0BEC5\",\"#B0BEC5\",\"#B0BEC5\",\"#B0BEC5\",\"#B0BEC5\",\"#B0BEC5\",\"#B0BEC5\",\"#B0BEC5\",\"#B0BEC5\",\"#B0BEC5\"]]}],\"label\":\"Topic 61\",\"method\":\"update\"},{\"args\":[{\"marker.color\":[[\"#B0BEC5\",\"#B0BEC5\",\"#B0BEC5\",\"#B0BEC5\",\"#B0BEC5\",\"#B0BEC5\",\"#B0BEC5\",\"#B0BEC5\",\"#B0BEC5\",\"#B0BEC5\",\"#B0BEC5\",\"#B0BEC5\",\"#B0BEC5\",\"#B0BEC5\",\"#B0BEC5\",\"#B0BEC5\",\"#B0BEC5\",\"#B0BEC5\",\"#B0BEC5\",\"#B0BEC5\",\"#B0BEC5\",\"#B0BEC5\",\"#B0BEC5\",\"#B0BEC5\",\"#B0BEC5\",\"#B0BEC5\",\"#B0BEC5\",\"#B0BEC5\",\"#B0BEC5\",\"#B0BEC5\",\"#B0BEC5\",\"#B0BEC5\",\"#B0BEC5\",\"#B0BEC5\",\"#B0BEC5\",\"#B0BEC5\",\"#B0BEC5\",\"#B0BEC5\",\"#B0BEC5\",\"#B0BEC5\",\"#B0BEC5\",\"#B0BEC5\",\"#B0BEC5\",\"#B0BEC5\",\"#B0BEC5\",\"#B0BEC5\",\"#B0BEC5\",\"#B0BEC5\",\"#B0BEC5\",\"#B0BEC5\",\"#B0BEC5\",\"#B0BEC5\",\"#B0BEC5\",\"#B0BEC5\",\"#B0BEC5\",\"#B0BEC5\",\"#B0BEC5\",\"#B0BEC5\",\"#B0BEC5\",\"#B0BEC5\",\"#B0BEC5\",\"#B0BEC5\",\"red\",\"#B0BEC5\",\"#B0BEC5\",\"#B0BEC5\",\"#B0BEC5\",\"#B0BEC5\",\"#B0BEC5\",\"#B0BEC5\",\"#B0BEC5\",\"#B0BEC5\",\"#B0BEC5\"]]}],\"label\":\"Topic 62\",\"method\":\"update\"},{\"args\":[{\"marker.color\":[[\"#B0BEC5\",\"#B0BEC5\",\"#B0BEC5\",\"#B0BEC5\",\"#B0BEC5\",\"#B0BEC5\",\"#B0BEC5\",\"#B0BEC5\",\"#B0BEC5\",\"#B0BEC5\",\"#B0BEC5\",\"#B0BEC5\",\"#B0BEC5\",\"#B0BEC5\",\"#B0BEC5\",\"#B0BEC5\",\"#B0BEC5\",\"#B0BEC5\",\"#B0BEC5\",\"#B0BEC5\",\"#B0BEC5\",\"#B0BEC5\",\"#B0BEC5\",\"#B0BEC5\",\"#B0BEC5\",\"#B0BEC5\",\"#B0BEC5\",\"#B0BEC5\",\"#B0BEC5\",\"#B0BEC5\",\"#B0BEC5\",\"#B0BEC5\",\"#B0BEC5\",\"#B0BEC5\",\"#B0BEC5\",\"#B0BEC5\",\"#B0BEC5\",\"#B0BEC5\",\"#B0BEC5\",\"#B0BEC5\",\"#B0BEC5\",\"#B0BEC5\",\"#B0BEC5\",\"#B0BEC5\",\"#B0BEC5\",\"#B0BEC5\",\"#B0BEC5\",\"#B0BEC5\",\"#B0BEC5\",\"#B0BEC5\",\"#B0BEC5\",\"#B0BEC5\",\"#B0BEC5\",\"#B0BEC5\",\"#B0BEC5\",\"#B0BEC5\",\"#B0BEC5\",\"#B0BEC5\",\"#B0BEC5\",\"#B0BEC5\",\"#B0BEC5\",\"#B0BEC5\",\"#B0BEC5\",\"red\",\"#B0BEC5\",\"#B0BEC5\",\"#B0BEC5\",\"#B0BEC5\",\"#B0BEC5\",\"#B0BEC5\",\"#B0BEC5\",\"#B0BEC5\",\"#B0BEC5\"]]}],\"label\":\"Topic 63\",\"method\":\"update\"},{\"args\":[{\"marker.color\":[[\"#B0BEC5\",\"#B0BEC5\",\"#B0BEC5\",\"#B0BEC5\",\"#B0BEC5\",\"#B0BEC5\",\"#B0BEC5\",\"#B0BEC5\",\"#B0BEC5\",\"#B0BEC5\",\"#B0BEC5\",\"#B0BEC5\",\"#B0BEC5\",\"#B0BEC5\",\"#B0BEC5\",\"#B0BEC5\",\"#B0BEC5\",\"#B0BEC5\",\"#B0BEC5\",\"#B0BEC5\",\"#B0BEC5\",\"#B0BEC5\",\"#B0BEC5\",\"#B0BEC5\",\"#B0BEC5\",\"#B0BEC5\",\"#B0BEC5\",\"#B0BEC5\",\"#B0BEC5\",\"#B0BEC5\",\"#B0BEC5\",\"#B0BEC5\",\"#B0BEC5\",\"#B0BEC5\",\"#B0BEC5\",\"#B0BEC5\",\"#B0BEC5\",\"#B0BEC5\",\"#B0BEC5\",\"#B0BEC5\",\"#B0BEC5\",\"#B0BEC5\",\"#B0BEC5\",\"#B0BEC5\",\"#B0BEC5\",\"#B0BEC5\",\"#B0BEC5\",\"#B0BEC5\",\"#B0BEC5\",\"#B0BEC5\",\"#B0BEC5\",\"#B0BEC5\",\"#B0BEC5\",\"#B0BEC5\",\"#B0BEC5\",\"#B0BEC5\",\"#B0BEC5\",\"#B0BEC5\",\"#B0BEC5\",\"#B0BEC5\",\"#B0BEC5\",\"#B0BEC5\",\"#B0BEC5\",\"#B0BEC5\",\"red\",\"#B0BEC5\",\"#B0BEC5\",\"#B0BEC5\",\"#B0BEC5\",\"#B0BEC5\",\"#B0BEC5\",\"#B0BEC5\",\"#B0BEC5\"]]}],\"label\":\"Topic 64\",\"method\":\"update\"},{\"args\":[{\"marker.color\":[[\"#B0BEC5\",\"#B0BEC5\",\"#B0BEC5\",\"#B0BEC5\",\"#B0BEC5\",\"#B0BEC5\",\"#B0BEC5\",\"#B0BEC5\",\"#B0BEC5\",\"#B0BEC5\",\"#B0BEC5\",\"#B0BEC5\",\"#B0BEC5\",\"#B0BEC5\",\"#B0BEC5\",\"#B0BEC5\",\"#B0BEC5\",\"#B0BEC5\",\"#B0BEC5\",\"#B0BEC5\",\"#B0BEC5\",\"#B0BEC5\",\"#B0BEC5\",\"#B0BEC5\",\"#B0BEC5\",\"#B0BEC5\",\"#B0BEC5\",\"#B0BEC5\",\"#B0BEC5\",\"#B0BEC5\",\"#B0BEC5\",\"#B0BEC5\",\"#B0BEC5\",\"#B0BEC5\",\"#B0BEC5\",\"#B0BEC5\",\"#B0BEC5\",\"#B0BEC5\",\"#B0BEC5\",\"#B0BEC5\",\"#B0BEC5\",\"#B0BEC5\",\"#B0BEC5\",\"#B0BEC5\",\"#B0BEC5\",\"#B0BEC5\",\"#B0BEC5\",\"#B0BEC5\",\"#B0BEC5\",\"#B0BEC5\",\"#B0BEC5\",\"#B0BEC5\",\"#B0BEC5\",\"#B0BEC5\",\"#B0BEC5\",\"#B0BEC5\",\"#B0BEC5\",\"#B0BEC5\",\"#B0BEC5\",\"#B0BEC5\",\"#B0BEC5\",\"#B0BEC5\",\"#B0BEC5\",\"#B0BEC5\",\"#B0BEC5\",\"red\",\"#B0BEC5\",\"#B0BEC5\",\"#B0BEC5\",\"#B0BEC5\",\"#B0BEC5\",\"#B0BEC5\",\"#B0BEC5\"]]}],\"label\":\"Topic 65\",\"method\":\"update\"},{\"args\":[{\"marker.color\":[[\"#B0BEC5\",\"#B0BEC5\",\"#B0BEC5\",\"#B0BEC5\",\"#B0BEC5\",\"#B0BEC5\",\"#B0BEC5\",\"#B0BEC5\",\"#B0BEC5\",\"#B0BEC5\",\"#B0BEC5\",\"#B0BEC5\",\"#B0BEC5\",\"#B0BEC5\",\"#B0BEC5\",\"#B0BEC5\",\"#B0BEC5\",\"#B0BEC5\",\"#B0BEC5\",\"#B0BEC5\",\"#B0BEC5\",\"#B0BEC5\",\"#B0BEC5\",\"#B0BEC5\",\"#B0BEC5\",\"#B0BEC5\",\"#B0BEC5\",\"#B0BEC5\",\"#B0BEC5\",\"#B0BEC5\",\"#B0BEC5\",\"#B0BEC5\",\"#B0BEC5\",\"#B0BEC5\",\"#B0BEC5\",\"#B0BEC5\",\"#B0BEC5\",\"#B0BEC5\",\"#B0BEC5\",\"#B0BEC5\",\"#B0BEC5\",\"#B0BEC5\",\"#B0BEC5\",\"#B0BEC5\",\"#B0BEC5\",\"#B0BEC5\",\"#B0BEC5\",\"#B0BEC5\",\"#B0BEC5\",\"#B0BEC5\",\"#B0BEC5\",\"#B0BEC5\",\"#B0BEC5\",\"#B0BEC5\",\"#B0BEC5\",\"#B0BEC5\",\"#B0BEC5\",\"#B0BEC5\",\"#B0BEC5\",\"#B0BEC5\",\"#B0BEC5\",\"#B0BEC5\",\"#B0BEC5\",\"#B0BEC5\",\"#B0BEC5\",\"#B0BEC5\",\"red\",\"#B0BEC5\",\"#B0BEC5\",\"#B0BEC5\",\"#B0BEC5\",\"#B0BEC5\",\"#B0BEC5\"]]}],\"label\":\"Topic 66\",\"method\":\"update\"},{\"args\":[{\"marker.color\":[[\"#B0BEC5\",\"#B0BEC5\",\"#B0BEC5\",\"#B0BEC5\",\"#B0BEC5\",\"#B0BEC5\",\"#B0BEC5\",\"#B0BEC5\",\"#B0BEC5\",\"#B0BEC5\",\"#B0BEC5\",\"#B0BEC5\",\"#B0BEC5\",\"#B0BEC5\",\"#B0BEC5\",\"#B0BEC5\",\"#B0BEC5\",\"#B0BEC5\",\"#B0BEC5\",\"#B0BEC5\",\"#B0BEC5\",\"#B0BEC5\",\"#B0BEC5\",\"#B0BEC5\",\"#B0BEC5\",\"#B0BEC5\",\"#B0BEC5\",\"#B0BEC5\",\"#B0BEC5\",\"#B0BEC5\",\"#B0BEC5\",\"#B0BEC5\",\"#B0BEC5\",\"#B0BEC5\",\"#B0BEC5\",\"#B0BEC5\",\"#B0BEC5\",\"#B0BEC5\",\"#B0BEC5\",\"#B0BEC5\",\"#B0BEC5\",\"#B0BEC5\",\"#B0BEC5\",\"#B0BEC5\",\"#B0BEC5\",\"#B0BEC5\",\"#B0BEC5\",\"#B0BEC5\",\"#B0BEC5\",\"#B0BEC5\",\"#B0BEC5\",\"#B0BEC5\",\"#B0BEC5\",\"#B0BEC5\",\"#B0BEC5\",\"#B0BEC5\",\"#B0BEC5\",\"#B0BEC5\",\"#B0BEC5\",\"#B0BEC5\",\"#B0BEC5\",\"#B0BEC5\",\"#B0BEC5\",\"#B0BEC5\",\"#B0BEC5\",\"#B0BEC5\",\"#B0BEC5\",\"red\",\"#B0BEC5\",\"#B0BEC5\",\"#B0BEC5\",\"#B0BEC5\",\"#B0BEC5\"]]}],\"label\":\"Topic 67\",\"method\":\"update\"},{\"args\":[{\"marker.color\":[[\"#B0BEC5\",\"#B0BEC5\",\"#B0BEC5\",\"#B0BEC5\",\"#B0BEC5\",\"#B0BEC5\",\"#B0BEC5\",\"#B0BEC5\",\"#B0BEC5\",\"#B0BEC5\",\"#B0BEC5\",\"#B0BEC5\",\"#B0BEC5\",\"#B0BEC5\",\"#B0BEC5\",\"#B0BEC5\",\"#B0BEC5\",\"#B0BEC5\",\"#B0BEC5\",\"#B0BEC5\",\"#B0BEC5\",\"#B0BEC5\",\"#B0BEC5\",\"#B0BEC5\",\"#B0BEC5\",\"#B0BEC5\",\"#B0BEC5\",\"#B0BEC5\",\"#B0BEC5\",\"#B0BEC5\",\"#B0BEC5\",\"#B0BEC5\",\"#B0BEC5\",\"#B0BEC5\",\"#B0BEC5\",\"#B0BEC5\",\"#B0BEC5\",\"#B0BEC5\",\"#B0BEC5\",\"#B0BEC5\",\"#B0BEC5\",\"#B0BEC5\",\"#B0BEC5\",\"#B0BEC5\",\"#B0BEC5\",\"#B0BEC5\",\"#B0BEC5\",\"#B0BEC5\",\"#B0BEC5\",\"#B0BEC5\",\"#B0BEC5\",\"#B0BEC5\",\"#B0BEC5\",\"#B0BEC5\",\"#B0BEC5\",\"#B0BEC5\",\"#B0BEC5\",\"#B0BEC5\",\"#B0BEC5\",\"#B0BEC5\",\"#B0BEC5\",\"#B0BEC5\",\"#B0BEC5\",\"#B0BEC5\",\"#B0BEC5\",\"#B0BEC5\",\"#B0BEC5\",\"#B0BEC5\",\"red\",\"#B0BEC5\",\"#B0BEC5\",\"#B0BEC5\",\"#B0BEC5\"]]}],\"label\":\"Topic 68\",\"method\":\"update\"},{\"args\":[{\"marker.color\":[[\"#B0BEC5\",\"#B0BEC5\",\"#B0BEC5\",\"#B0BEC5\",\"#B0BEC5\",\"#B0BEC5\",\"#B0BEC5\",\"#B0BEC5\",\"#B0BEC5\",\"#B0BEC5\",\"#B0BEC5\",\"#B0BEC5\",\"#B0BEC5\",\"#B0BEC5\",\"#B0BEC5\",\"#B0BEC5\",\"#B0BEC5\",\"#B0BEC5\",\"#B0BEC5\",\"#B0BEC5\",\"#B0BEC5\",\"#B0BEC5\",\"#B0BEC5\",\"#B0BEC5\",\"#B0BEC5\",\"#B0BEC5\",\"#B0BEC5\",\"#B0BEC5\",\"#B0BEC5\",\"#B0BEC5\",\"#B0BEC5\",\"#B0BEC5\",\"#B0BEC5\",\"#B0BEC5\",\"#B0BEC5\",\"#B0BEC5\",\"#B0BEC5\",\"#B0BEC5\",\"#B0BEC5\",\"#B0BEC5\",\"#B0BEC5\",\"#B0BEC5\",\"#B0BEC5\",\"#B0BEC5\",\"#B0BEC5\",\"#B0BEC5\",\"#B0BEC5\",\"#B0BEC5\",\"#B0BEC5\",\"#B0BEC5\",\"#B0BEC5\",\"#B0BEC5\",\"#B0BEC5\",\"#B0BEC5\",\"#B0BEC5\",\"#B0BEC5\",\"#B0BEC5\",\"#B0BEC5\",\"#B0BEC5\",\"#B0BEC5\",\"#B0BEC5\",\"#B0BEC5\",\"#B0BEC5\",\"#B0BEC5\",\"#B0BEC5\",\"#B0BEC5\",\"#B0BEC5\",\"#B0BEC5\",\"#B0BEC5\",\"red\",\"#B0BEC5\",\"#B0BEC5\",\"#B0BEC5\"]]}],\"label\":\"Topic 69\",\"method\":\"update\"},{\"args\":[{\"marker.color\":[[\"#B0BEC5\",\"#B0BEC5\",\"#B0BEC5\",\"#B0BEC5\",\"#B0BEC5\",\"#B0BEC5\",\"#B0BEC5\",\"#B0BEC5\",\"#B0BEC5\",\"#B0BEC5\",\"#B0BEC5\",\"#B0BEC5\",\"#B0BEC5\",\"#B0BEC5\",\"#B0BEC5\",\"#B0BEC5\",\"#B0BEC5\",\"#B0BEC5\",\"#B0BEC5\",\"#B0BEC5\",\"#B0BEC5\",\"#B0BEC5\",\"#B0BEC5\",\"#B0BEC5\",\"#B0BEC5\",\"#B0BEC5\",\"#B0BEC5\",\"#B0BEC5\",\"#B0BEC5\",\"#B0BEC5\",\"#B0BEC5\",\"#B0BEC5\",\"#B0BEC5\",\"#B0BEC5\",\"#B0BEC5\",\"#B0BEC5\",\"#B0BEC5\",\"#B0BEC5\",\"#B0BEC5\",\"#B0BEC5\",\"#B0BEC5\",\"#B0BEC5\",\"#B0BEC5\",\"#B0BEC5\",\"#B0BEC5\",\"#B0BEC5\",\"#B0BEC5\",\"#B0BEC5\",\"#B0BEC5\",\"#B0BEC5\",\"#B0BEC5\",\"#B0BEC5\",\"#B0BEC5\",\"#B0BEC5\",\"#B0BEC5\",\"#B0BEC5\",\"#B0BEC5\",\"#B0BEC5\",\"#B0BEC5\",\"#B0BEC5\",\"#B0BEC5\",\"#B0BEC5\",\"#B0BEC5\",\"#B0BEC5\",\"#B0BEC5\",\"#B0BEC5\",\"#B0BEC5\",\"#B0BEC5\",\"#B0BEC5\",\"#B0BEC5\",\"red\",\"#B0BEC5\",\"#B0BEC5\"]]}],\"label\":\"Topic 70\",\"method\":\"update\"},{\"args\":[{\"marker.color\":[[\"#B0BEC5\",\"#B0BEC5\",\"#B0BEC5\",\"#B0BEC5\",\"#B0BEC5\",\"#B0BEC5\",\"#B0BEC5\",\"#B0BEC5\",\"#B0BEC5\",\"#B0BEC5\",\"#B0BEC5\",\"#B0BEC5\",\"#B0BEC5\",\"#B0BEC5\",\"#B0BEC5\",\"#B0BEC5\",\"#B0BEC5\",\"#B0BEC5\",\"#B0BEC5\",\"#B0BEC5\",\"#B0BEC5\",\"#B0BEC5\",\"#B0BEC5\",\"#B0BEC5\",\"#B0BEC5\",\"#B0BEC5\",\"#B0BEC5\",\"#B0BEC5\",\"#B0BEC5\",\"#B0BEC5\",\"#B0BEC5\",\"#B0BEC5\",\"#B0BEC5\",\"#B0BEC5\",\"#B0BEC5\",\"#B0BEC5\",\"#B0BEC5\",\"#B0BEC5\",\"#B0BEC5\",\"#B0BEC5\",\"#B0BEC5\",\"#B0BEC5\",\"#B0BEC5\",\"#B0BEC5\",\"#B0BEC5\",\"#B0BEC5\",\"#B0BEC5\",\"#B0BEC5\",\"#B0BEC5\",\"#B0BEC5\",\"#B0BEC5\",\"#B0BEC5\",\"#B0BEC5\",\"#B0BEC5\",\"#B0BEC5\",\"#B0BEC5\",\"#B0BEC5\",\"#B0BEC5\",\"#B0BEC5\",\"#B0BEC5\",\"#B0BEC5\",\"#B0BEC5\",\"#B0BEC5\",\"#B0BEC5\",\"#B0BEC5\",\"#B0BEC5\",\"#B0BEC5\",\"#B0BEC5\",\"#B0BEC5\",\"#B0BEC5\",\"#B0BEC5\",\"red\",\"#B0BEC5\"]]}],\"label\":\"Topic 71\",\"method\":\"update\"},{\"args\":[{\"marker.color\":[[\"#B0BEC5\",\"#B0BEC5\",\"#B0BEC5\",\"#B0BEC5\",\"#B0BEC5\",\"#B0BEC5\",\"#B0BEC5\",\"#B0BEC5\",\"#B0BEC5\",\"#B0BEC5\",\"#B0BEC5\",\"#B0BEC5\",\"#B0BEC5\",\"#B0BEC5\",\"#B0BEC5\",\"#B0BEC5\",\"#B0BEC5\",\"#B0BEC5\",\"#B0BEC5\",\"#B0BEC5\",\"#B0BEC5\",\"#B0BEC5\",\"#B0BEC5\",\"#B0BEC5\",\"#B0BEC5\",\"#B0BEC5\",\"#B0BEC5\",\"#B0BEC5\",\"#B0BEC5\",\"#B0BEC5\",\"#B0BEC5\",\"#B0BEC5\",\"#B0BEC5\",\"#B0BEC5\",\"#B0BEC5\",\"#B0BEC5\",\"#B0BEC5\",\"#B0BEC5\",\"#B0BEC5\",\"#B0BEC5\",\"#B0BEC5\",\"#B0BEC5\",\"#B0BEC5\",\"#B0BEC5\",\"#B0BEC5\",\"#B0BEC5\",\"#B0BEC5\",\"#B0BEC5\",\"#B0BEC5\",\"#B0BEC5\",\"#B0BEC5\",\"#B0BEC5\",\"#B0BEC5\",\"#B0BEC5\",\"#B0BEC5\",\"#B0BEC5\",\"#B0BEC5\",\"#B0BEC5\",\"#B0BEC5\",\"#B0BEC5\",\"#B0BEC5\",\"#B0BEC5\",\"#B0BEC5\",\"#B0BEC5\",\"#B0BEC5\",\"#B0BEC5\",\"#B0BEC5\",\"#B0BEC5\",\"#B0BEC5\",\"#B0BEC5\",\"#B0BEC5\",\"#B0BEC5\",\"red\"]]}],\"label\":\"Topic 72\",\"method\":\"update\"}]}],\"shapes\":[{\"line\":{\"color\":\"#CFD8DC\",\"width\":2},\"type\":\"line\",\"x0\":7.4067422747612,\"x1\":7.4067422747612,\"y0\":-9.046613073348999,\"y1\":15.537301969528198},{\"line\":{\"color\":\"#9E9E9E\",\"width\":2},\"type\":\"line\",\"x0\":-8.830284523963929,\"x1\":23.64376907348633,\"y0\":3.2453444480895994,\"y1\":3.2453444480895994}],\"annotations\":[{\"showarrow\":false,\"text\":\"D1\",\"x\":-8.830284523963929,\"y\":3.2453444480895994,\"yshift\":10},{\"showarrow\":false,\"text\":\"D2\",\"x\":7.4067422747612,\"xshift\":10,\"y\":15.537301969528198}]},                        {\"responsive\": true}                    ).then(function(){\n",
              "                            \n",
              "var gd = document.getElementById('781d1d5c-c453-4253-b49e-77ea0f49447a');\n",
              "var x = new MutationObserver(function (mutations, observer) {{\n",
              "        var display = window.getComputedStyle(gd).display;\n",
              "        if (!display || display === 'none') {{\n",
              "            console.log([gd, 'removed!']);\n",
              "            Plotly.purge(gd);\n",
              "            observer.disconnect();\n",
              "        }}\n",
              "}});\n",
              "\n",
              "// Listen for the removal of the full notebook cells\n",
              "var notebookContainer = gd.closest('#notebook-container');\n",
              "if (notebookContainer) {{\n",
              "    x.observe(notebookContainer, {childList: true});\n",
              "}}\n",
              "\n",
              "// Listen for the clearing of the current output cell\n",
              "var outputEl = gd.closest('.output');\n",
              "if (outputEl) {{\n",
              "    x.observe(outputEl, {childList: true});\n",
              "}}\n",
              "\n",
              "                        })                };                            </script>        </div>\n",
              "</body>\n",
              "</html>"
            ]
          },
          "metadata": {}
        }
      ]
    },
    {
      "cell_type": "markdown",
      "source": [
        "### **Visualize Topic Hierarchy**\n",
        "\n",
        "The topics that were created can be hierarchically reduced. This visualization shows how the topics relate to one another."
      ],
      "metadata": {
        "id": "r-5bT7AgSgsv"
      }
    },
    {
      "cell_type": "code",
      "source": [
        "topic_model.visualize_hierarchy(top_n_topics=50)"
      ],
      "metadata": {
        "id": "TEoOpDD6S4D7",
        "outputId": "141ead9a-dbfc-4d83-ed1d-993efdd4f361",
        "colab": {
          "base_uri": "https://localhost:8080/",
          "height": 967
        }
      },
      "execution_count": 46,
      "outputs": [
        {
          "output_type": "display_data",
          "data": {
            "text/html": [
              "<html>\n",
              "<head><meta charset=\"utf-8\" /></head>\n",
              "<body>\n",
              "    <div>            <script src=\"https://cdnjs.cloudflare.com/ajax/libs/mathjax/2.7.5/MathJax.js?config=TeX-AMS-MML_SVG\"></script><script type=\"text/javascript\">if (window.MathJax) {MathJax.Hub.Config({SVG: {font: \"STIX-Web\"}});}</script>                <script type=\"text/javascript\">window.PlotlyConfig = {MathJaxConfig: 'local'};</script>\n",
              "        <script src=\"https://cdn.plot.ly/plotly-2.8.3.min.js\"></script>                <div id=\"40885559-571a-4dab-8cad-639676f8ae44\" class=\"plotly-graph-div\" style=\"height:950px; width:1000px;\"></div>            <script type=\"text/javascript\">                                    window.PLOTLYENV=window.PLOTLYENV || {};                                    if (document.getElementById(\"40885559-571a-4dab-8cad-639676f8ae44\")) {                    Plotly.newPlot(                        \"40885559-571a-4dab-8cad-639676f8ae44\",                        [{\"hoverinfo\":\"text\",\"marker\":{\"color\":\"rgb(0,116,217)\"},\"mode\":\"lines\",\"x\":[0.0,1.2009336423092822,1.2009336423092822,0.0],\"xaxis\":\"x\",\"y\":[-15.0,-15.0,-25.0,-25.0],\"yaxis\":\"y\",\"type\":\"scatter\"},{\"hoverinfo\":\"text\",\"marker\":{\"color\":\"rgb(0,116,217)\"},\"mode\":\"lines\",\"x\":[0.0,1.595447779240279,1.595447779240279,1.2009336423092822],\"xaxis\":\"x\",\"y\":[-5.0,-5.0,-20.0,-20.0],\"yaxis\":\"y\",\"type\":\"scatter\"},{\"hoverinfo\":\"text\",\"marker\":{\"color\":\"rgb(0,116,217)\"},\"mode\":\"lines\",\"x\":[0.0,1.2704679122413722,1.2704679122413722,0.0],\"xaxis\":\"x\",\"y\":[-45.0,-45.0,-55.0,-55.0],\"yaxis\":\"y\",\"type\":\"scatter\"},{\"hoverinfo\":\"text\",\"marker\":{\"color\":\"rgb(0,116,217)\"},\"mode\":\"lines\",\"x\":[0.0,1.3500199413040572,1.3500199413040572,1.2704679122413722],\"xaxis\":\"x\",\"y\":[-35.0,-35.0,-50.0,-50.0],\"yaxis\":\"y\",\"type\":\"scatter\"},{\"hoverinfo\":\"text\",\"marker\":{\"color\":\"rgb(0,116,217)\"},\"mode\":\"lines\",\"x\":[0.0,1.1300579637126968,1.1300579637126968,0.0],\"xaxis\":\"x\",\"y\":[-65.0,-65.0,-75.0,-75.0],\"yaxis\":\"y\",\"type\":\"scatter\"},{\"hoverinfo\":\"text\",\"marker\":{\"color\":\"rgb(0,116,217)\"},\"mode\":\"lines\",\"x\":[0.0,1.2175911074621668,1.2175911074621668,0.0],\"xaxis\":\"x\",\"y\":[-85.0,-85.0,-95.0,-95.0],\"yaxis\":\"y\",\"type\":\"scatter\"},{\"hoverinfo\":\"text\",\"marker\":{\"color\":\"rgb(0,116,217)\"},\"mode\":\"lines\",\"x\":[1.2175911074621668,1.2423189921994156,1.2423189921994156,0.0],\"xaxis\":\"x\",\"y\":[-90.0,-90.0,-105.0,-105.0],\"yaxis\":\"y\",\"type\":\"scatter\"},{\"hoverinfo\":\"text\",\"marker\":{\"color\":\"rgb(0,116,217)\"},\"mode\":\"lines\",\"x\":[0.0,1.123351069987158,1.123351069987158,0.0],\"xaxis\":\"x\",\"y\":[-115.0,-115.0,-125.0,-125.0],\"yaxis\":\"y\",\"type\":\"scatter\"},{\"hoverinfo\":\"text\",\"marker\":{\"color\":\"rgb(0,116,217)\"},\"mode\":\"lines\",\"x\":[1.2423189921994156,1.3062499234345843,1.3062499234345843,1.123351069987158],\"xaxis\":\"x\",\"y\":[-97.5,-97.5,-120.0,-120.0],\"yaxis\":\"y\",\"type\":\"scatter\"},{\"hoverinfo\":\"text\",\"marker\":{\"color\":\"rgb(0,116,217)\"},\"mode\":\"lines\",\"x\":[1.1300579637126968,1.380545603281248,1.380545603281248,1.3062499234345843],\"xaxis\":\"x\",\"y\":[-70.0,-70.0,-108.75,-108.75],\"yaxis\":\"y\",\"type\":\"scatter\"},{\"hoverinfo\":\"text\",\"marker\":{\"color\":\"rgb(0,116,217)\"},\"mode\":\"lines\",\"x\":[1.3500199413040572,1.5037170651459713,1.5037170651459713,1.380545603281248],\"xaxis\":\"x\",\"y\":[-42.5,-42.5,-89.375,-89.375],\"yaxis\":\"y\",\"type\":\"scatter\"},{\"hoverinfo\":\"text\",\"marker\":{\"color\":\"rgb(0,116,217)\"},\"mode\":\"lines\",\"x\":[0.0,1.1530161899136964,1.1530161899136964,0.0],\"xaxis\":\"x\",\"y\":[-135.0,-135.0,-145.0,-145.0],\"yaxis\":\"y\",\"type\":\"scatter\"},{\"hoverinfo\":\"text\",\"marker\":{\"color\":\"rgb(0,116,217)\"},\"mode\":\"lines\",\"x\":[1.5037170651459713,1.5812889266664067,1.5812889266664067,1.1530161899136964],\"xaxis\":\"x\",\"y\":[-65.9375,-65.9375,-140.0,-140.0],\"yaxis\":\"y\",\"type\":\"scatter\"},{\"hoverinfo\":\"text\",\"marker\":{\"color\":\"rgb(0,116,217)\"},\"mode\":\"lines\",\"x\":[1.595447779240279,1.8776787242567103,1.8776787242567103,1.5812889266664067],\"xaxis\":\"x\",\"y\":[-12.5,-12.5,-102.96875,-102.96875],\"yaxis\":\"y\",\"type\":\"scatter\"},{\"hoverinfo\":\"text\",\"marker\":{\"color\":\"rgb(61,153,112)\"},\"mode\":\"lines\",\"x\":[0.0,0.8570224112200974,0.8570224112200974,0.0],\"xaxis\":\"x\",\"y\":[-155.0,-155.0,-165.0,-165.0],\"yaxis\":\"y\",\"type\":\"scatter\"},{\"hoverinfo\":\"text\",\"marker\":{\"color\":\"rgb(255,65,54)\"},\"mode\":\"lines\",\"x\":[0.0,0.6291877772698254,0.6291877772698254,0.0],\"xaxis\":\"x\",\"y\":[-175.0,-175.0,-185.0,-185.0],\"yaxis\":\"y\",\"type\":\"scatter\"},{\"hoverinfo\":\"text\",\"marker\":{\"color\":\"rgb(0,116,217)\"},\"mode\":\"lines\",\"x\":[0.8570224112200974,1.062466943149758,1.062466943149758,0.6291877772698254],\"xaxis\":\"x\",\"y\":[-160.0,-160.0,-180.0,-180.0],\"yaxis\":\"y\",\"type\":\"scatter\"},{\"hoverinfo\":\"text\",\"marker\":{\"color\":\"rgb(35,205,205)\"},\"mode\":\"lines\",\"x\":[0.0,0.6003931000754824,0.6003931000754824,0.0],\"xaxis\":\"x\",\"y\":[-195.0,-195.0,-205.0,-205.0],\"yaxis\":\"y\",\"type\":\"scatter\"},{\"hoverinfo\":\"text\",\"marker\":{\"color\":\"rgb(35,205,205)\"},\"mode\":\"lines\",\"x\":[0.6003931000754824,0.8145764353018301,0.8145764353018301,0.0],\"xaxis\":\"x\",\"y\":[-200.0,-200.0,-215.0,-215.0],\"yaxis\":\"y\",\"type\":\"scatter\"},{\"hoverinfo\":\"text\",\"marker\":{\"color\":\"rgb(0,116,217)\"},\"mode\":\"lines\",\"x\":[1.062466943149758,1.986036238919847,1.986036238919847,0.8145764353018301],\"xaxis\":\"x\",\"y\":[-170.0,-170.0,-207.5,-207.5],\"yaxis\":\"y\",\"type\":\"scatter\"},{\"hoverinfo\":\"text\",\"marker\":{\"color\":\"rgb(0,116,217)\"},\"mode\":\"lines\",\"x\":[1.8776787242567103,2.887921062380758,2.887921062380758,1.986036238919847],\"xaxis\":\"x\",\"y\":[-57.734375,-57.734375,-188.75,-188.75],\"yaxis\":\"y\",\"type\":\"scatter\"},{\"hoverinfo\":\"text\",\"marker\":{\"color\":\"rgb(0,116,217)\"},\"mode\":\"lines\",\"x\":[0.0,1.0700384785195671,1.0700384785195671,0.0],\"xaxis\":\"x\",\"y\":[-235.0,-235.0,-245.0,-245.0],\"yaxis\":\"y\",\"type\":\"scatter\"},{\"hoverinfo\":\"text\",\"marker\":{\"color\":\"rgb(0,116,217)\"},\"mode\":\"lines\",\"x\":[0.0,1.161873375836279,1.161873375836279,1.0700384785195671],\"xaxis\":\"x\",\"y\":[-225.0,-225.0,-240.0,-240.0],\"yaxis\":\"y\",\"type\":\"scatter\"},{\"hoverinfo\":\"text\",\"marker\":{\"color\":\"rgb(133,20,75)\"},\"mode\":\"lines\",\"x\":[0.0,0.7916492360441634,0.7916492360441634,0.0],\"xaxis\":\"x\",\"y\":[-255.0,-255.0,-265.0,-265.0],\"yaxis\":\"y\",\"type\":\"scatter\"},{\"hoverinfo\":\"text\",\"marker\":{\"color\":\"rgb(133,20,75)\"},\"mode\":\"lines\",\"x\":[0.7916492360441634,0.9244955377487926,0.9244955377487926,0.0],\"xaxis\":\"x\",\"y\":[-260.0,-260.0,-275.0,-275.0],\"yaxis\":\"y\",\"type\":\"scatter\"},{\"hoverinfo\":\"text\",\"marker\":{\"color\":\"rgb(0,116,217)\"},\"mode\":\"lines\",\"x\":[1.161873375836279,1.4619332319734417,1.4619332319734417,0.9244955377487926],\"xaxis\":\"x\",\"y\":[-232.5,-232.5,-267.5,-267.5],\"yaxis\":\"y\",\"type\":\"scatter\"},{\"hoverinfo\":\"text\",\"marker\":{\"color\":\"rgb(255,220,0)\"},\"mode\":\"lines\",\"x\":[0.0,0.7755856632353659,0.7755856632353659,0.0],\"xaxis\":\"x\",\"y\":[-295.0,-295.0,-305.0,-305.0],\"yaxis\":\"y\",\"type\":\"scatter\"},{\"hoverinfo\":\"text\",\"marker\":{\"color\":\"rgb(255,220,0)\"},\"mode\":\"lines\",\"x\":[0.7755856632353659,0.9426312603669157,0.9426312603669157,0.0],\"xaxis\":\"x\",\"y\":[-300.0,-300.0,-315.0,-315.0],\"yaxis\":\"y\",\"type\":\"scatter\"},{\"hoverinfo\":\"text\",\"marker\":{\"color\":\"rgb(0,116,217)\"},\"mode\":\"lines\",\"x\":[0.0,1.069591592545993,1.069591592545993,0.9426312603669157],\"xaxis\":\"x\",\"y\":[-285.0,-285.0,-307.5,-307.5],\"yaxis\":\"y\",\"type\":\"scatter\"},{\"hoverinfo\":\"text\",\"marker\":{\"color\":\"rgb(0,116,217)\"},\"mode\":\"lines\",\"x\":[1.069591592545993,1.1731897286419715,1.1731897286419715,0.0],\"xaxis\":\"x\",\"y\":[-296.25,-296.25,-325.0,-325.0],\"yaxis\":\"y\",\"type\":\"scatter\"},{\"hoverinfo\":\"text\",\"marker\":{\"color\":\"rgb(0,116,217)\"},\"mode\":\"lines\",\"x\":[1.4619332319734417,1.6614076085940768,1.6614076085940768,1.1731897286419715],\"xaxis\":\"x\",\"y\":[-250.0,-250.0,-310.625,-310.625],\"yaxis\":\"y\",\"type\":\"scatter\"},{\"hoverinfo\":\"text\",\"marker\":{\"color\":\"rgb(40,35,35)\"},\"mode\":\"lines\",\"x\":[0.0,0.6846791326429591,0.6846791326429591,0.0],\"xaxis\":\"x\",\"y\":[-345.0,-345.0,-355.0,-355.0],\"yaxis\":\"y\",\"type\":\"scatter\"},{\"hoverinfo\":\"text\",\"marker\":{\"color\":\"rgb(40,35,35)\"},\"mode\":\"lines\",\"x\":[0.0,0.9622636977686266,0.9622636977686266,0.6846791326429591],\"xaxis\":\"x\",\"y\":[-335.0,-335.0,-350.0,-350.0],\"yaxis\":\"y\",\"type\":\"scatter\"},{\"hoverinfo\":\"text\",\"marker\":{\"color\":\"rgb(61,153,112)\"},\"mode\":\"lines\",\"x\":[0.0,0.6432884486730859,0.6432884486730859,0.0],\"xaxis\":\"x\",\"y\":[-375.0,-375.0,-385.0,-385.0],\"yaxis\":\"y\",\"type\":\"scatter\"},{\"hoverinfo\":\"text\",\"marker\":{\"color\":\"rgb(61,153,112)\"},\"mode\":\"lines\",\"x\":[0.0,0.7677453080085864,0.7677453080085864,0.6432884486730859],\"xaxis\":\"x\",\"y\":[-365.0,-365.0,-380.0,-380.0],\"yaxis\":\"y\",\"type\":\"scatter\"},{\"hoverinfo\":\"text\",\"marker\":{\"color\":\"rgb(255,65,54)\"},\"mode\":\"lines\",\"x\":[0.0,0.6698719665148625,0.6698719665148625,0.0],\"xaxis\":\"x\",\"y\":[-405.0,-405.0,-415.0,-415.0],\"yaxis\":\"y\",\"type\":\"scatter\"},{\"hoverinfo\":\"text\",\"marker\":{\"color\":\"rgb(255,65,54)\"},\"mode\":\"lines\",\"x\":[0.0,0.8658535595280991,0.8658535595280991,0.6698719665148625],\"xaxis\":\"x\",\"y\":[-395.0,-395.0,-410.0,-410.0],\"yaxis\":\"y\",\"type\":\"scatter\"},{\"hoverinfo\":\"text\",\"marker\":{\"color\":\"rgb(0,116,217)\"},\"mode\":\"lines\",\"x\":[0.7677453080085864,1.2889011829012857,1.2889011829012857,0.8658535595280991],\"xaxis\":\"x\",\"y\":[-372.5,-372.5,-402.5,-402.5],\"yaxis\":\"y\",\"type\":\"scatter\"},{\"hoverinfo\":\"text\",\"marker\":{\"color\":\"rgb(0,116,217)\"},\"mode\":\"lines\",\"x\":[0.9622636977686266,1.3451079860372537,1.3451079860372537,1.2889011829012857],\"xaxis\":\"x\",\"y\":[-342.5,-342.5,-387.5,-387.5],\"yaxis\":\"y\",\"type\":\"scatter\"},{\"hoverinfo\":\"text\",\"marker\":{\"color\":\"rgb(35,205,205)\"},\"mode\":\"lines\",\"x\":[0.0,0.7866335946548813,0.7866335946548813,0.0],\"xaxis\":\"x\",\"y\":[-425.0,-425.0,-435.0,-435.0],\"yaxis\":\"y\",\"type\":\"scatter\"},{\"hoverinfo\":\"text\",\"marker\":{\"color\":\"rgb(35,205,205)\"},\"mode\":\"lines\",\"x\":[0.7866335946548813,0.8553045391958595,0.8553045391958595,0.0],\"xaxis\":\"x\",\"y\":[-430.0,-430.0,-445.0,-445.0],\"yaxis\":\"y\",\"type\":\"scatter\"},{\"hoverinfo\":\"text\",\"marker\":{\"color\":\"rgb(61,153,112)\"},\"mode\":\"lines\",\"x\":[0.0,0.778664343080902,0.778664343080902,0.0],\"xaxis\":\"x\",\"y\":[-455.0,-455.0,-465.0,-465.0],\"yaxis\":\"y\",\"type\":\"scatter\"},{\"hoverinfo\":\"text\",\"marker\":{\"color\":\"rgb(255,65,54)\"},\"mode\":\"lines\",\"x\":[0.0,0.913627040896578,0.913627040896578,0.0],\"xaxis\":\"x\",\"y\":[-475.0,-475.0,-485.0,-485.0],\"yaxis\":\"y\",\"type\":\"scatter\"},{\"hoverinfo\":\"text\",\"marker\":{\"color\":\"rgb(0,116,217)\"},\"mode\":\"lines\",\"x\":[0.913627040896578,1.0063163910410569,1.0063163910410569,0.0],\"xaxis\":\"x\",\"y\":[-480.0,-480.0,-495.0,-495.0],\"yaxis\":\"y\",\"type\":\"scatter\"},{\"hoverinfo\":\"text\",\"marker\":{\"color\":\"rgb(0,116,217)\"},\"mode\":\"lines\",\"x\":[0.778664343080902,1.1929912832669731,1.1929912832669731,1.0063163910410569],\"xaxis\":\"x\",\"y\":[-460.0,-460.0,-487.5,-487.5],\"yaxis\":\"y\",\"type\":\"scatter\"},{\"hoverinfo\":\"text\",\"marker\":{\"color\":\"rgb(0,116,217)\"},\"mode\":\"lines\",\"x\":[0.8553045391958595,1.5929030232950017,1.5929030232950017,1.1929912832669731],\"xaxis\":\"x\",\"y\":[-437.5,-437.5,-473.75,-473.75],\"yaxis\":\"y\",\"type\":\"scatter\"},{\"hoverinfo\":\"text\",\"marker\":{\"color\":\"rgb(0,116,217)\"},\"mode\":\"lines\",\"x\":[1.3451079860372537,1.6432440622568936,1.6432440622568936,1.5929030232950017],\"xaxis\":\"x\",\"y\":[-365.0,-365.0,-455.625,-455.625],\"yaxis\":\"y\",\"type\":\"scatter\"},{\"hoverinfo\":\"text\",\"marker\":{\"color\":\"rgb(0,116,217)\"},\"mode\":\"lines\",\"x\":[1.6614076085940768,3.0631492966463045,3.0631492966463045,1.6432440622568936],\"xaxis\":\"x\",\"y\":[-280.3125,-280.3125,-410.3125,-410.3125],\"yaxis\":\"y\",\"type\":\"scatter\"},{\"hoverinfo\":\"text\",\"marker\":{\"color\":\"rgb(0,116,217)\"},\"mode\":\"lines\",\"x\":[2.887921062380758,4.277609253145696,4.277609253145696,3.0631492966463045],\"xaxis\":\"x\",\"y\":[-123.2421875,-123.2421875,-345.3125,-345.3125],\"yaxis\":\"y\",\"type\":\"scatter\"}],                        {\"autosize\":false,\"height\":950,\"hovermode\":\"closest\",\"showlegend\":false,\"width\":1000,\"xaxis\":{\"mirror\":\"allticks\",\"rangemode\":\"tozero\",\"showgrid\":false,\"showline\":true,\"showticklabels\":true,\"ticks\":\"outside\",\"type\":\"linear\",\"zeroline\":false},\"yaxis\":{\"mirror\":\"allticks\",\"rangemode\":\"tozero\",\"showgrid\":false,\"showline\":true,\"showticklabels\":true,\"tickmode\":\"array\",\"ticks\":\"outside\",\"ticktext\":[\"46_reconhecimento_facial_ro...\",\"38_rastreio_c\\u00f3digo_rastream...\",\"20_curitiba_parado_tr\\u00e2nsito\",\"25_cashback_02_valor\",\"23_jogo_lan\\u00e7amento_venda\",\"28_livro_livros_entregue\",\"32_m\\u00e1quina_lavar_maquina\",\"18_geladeira_refrigerador_t...\",\"26_cadeira_sof\\u00e1_cama\",\"37_embalagem_amazon_danific...\",\"33_t\\u00eanis_tenis_raquete\",\"40_bluetooth_fone_ouvido\",\"39_devolu\\u00e7\\u00e3o_c\\u00f3digo_devolver\",\"45_mercado_pago_livre\",\"44_frete_paguei_livre\",\"34_cart\\u00e3o_fatura_conta\",\"15_cart\\u00e3o_cr\\u00e9dito_cobran\\u00e7a\",\"6_assinatura_cobran\\u00e7a_prime\",\"47_cart\\u00e3o_banco_amazon\",\"9_conta_senha_acessar\",\"21_conta_bloqueada_amazon\",\"36_conta_bloqueada_suspensa\",\"48_rob\\u00f4_falar_correios\",\"30_produto_produtos_entregue\",\"16_roupas_vestido_cal\\u00e7a\",\"27_entregue_recebi_consta\",\"2_endere\\u00e7o_pedido_entregue\",\"14_brasil_shein_aeroporto\",\"29_reembolso_estorno_valor\",\"24_dinheiro_recebi_quero\",\"19_reembolso_taxada_dinheiro\",\"43_shein_reembolso_nunca\",\"41_taxada_taxon_shein\",\"31_cancelamento_amazon_canc...\",\"3_cancelamento_cancelar_ped...\",\"42_cancelamento_loja_cancelar\",\"5_magazine_loja_poi\",\"1_celular_samsung_aparelho\",\"0_casas_bahia_whatsapp\",\"11_amazon_reembolso_devolu\\u00e7\\u00e3o\",\"22_amazon_entrega_empresa\",\"17_amazon_transportadora_en...\",\"35_prazo_entrega_data\",\"4_atraso_entrega_atrasada\",\"49_entrega_cama_aplicativo\",\"7_defeito_produto_quebrado\",\"10_livre_mercado_reclama\\u00e7\\u00e3o\",\"12_americana_lojas_compra\",\"13_iphone_apple_carregador\",\"8_propaganda_enganosa_an\\u00fancio\"],\"tickvals\":[-5.0,-15.0,-25.0,-35.0,-45.0,-55.0,-65.0,-75.0,-85.0,-95.0,-105.0,-115.0,-125.0,-135.0,-145.0,-155.0,-165.0,-175.0,-185.0,-195.0,-205.0,-215.0,-225.0,-235.0,-245.0,-255.0,-265.0,-275.0,-285.0,-295.0,-305.0,-315.0,-325.0,-335.0,-345.0,-355.0,-365.0,-375.0,-385.0,-395.0,-405.0,-415.0,-425.0,-435.0,-445.0,-455.0,-465.0,-475.0,-485.0,-495.0],\"type\":\"linear\",\"zeroline\":false,\"range\":[-500.0,0.0]},\"template\":{\"data\":{\"barpolar\":[{\"marker\":{\"line\":{\"color\":\"white\",\"width\":0.5},\"pattern\":{\"fillmode\":\"overlay\",\"size\":10,\"solidity\":0.2}},\"type\":\"barpolar\"}],\"bar\":[{\"error_x\":{\"color\":\"#2a3f5f\"},\"error_y\":{\"color\":\"#2a3f5f\"},\"marker\":{\"line\":{\"color\":\"white\",\"width\":0.5},\"pattern\":{\"fillmode\":\"overlay\",\"size\":10,\"solidity\":0.2}},\"type\":\"bar\"}],\"carpet\":[{\"aaxis\":{\"endlinecolor\":\"#2a3f5f\",\"gridcolor\":\"#C8D4E3\",\"linecolor\":\"#C8D4E3\",\"minorgridcolor\":\"#C8D4E3\",\"startlinecolor\":\"#2a3f5f\"},\"baxis\":{\"endlinecolor\":\"#2a3f5f\",\"gridcolor\":\"#C8D4E3\",\"linecolor\":\"#C8D4E3\",\"minorgridcolor\":\"#C8D4E3\",\"startlinecolor\":\"#2a3f5f\"},\"type\":\"carpet\"}],\"choropleth\":[{\"colorbar\":{\"outlinewidth\":0,\"ticks\":\"\"},\"type\":\"choropleth\"}],\"contourcarpet\":[{\"colorbar\":{\"outlinewidth\":0,\"ticks\":\"\"},\"type\":\"contourcarpet\"}],\"contour\":[{\"colorbar\":{\"outlinewidth\":0,\"ticks\":\"\"},\"colorscale\":[[0.0,\"#0d0887\"],[0.1111111111111111,\"#46039f\"],[0.2222222222222222,\"#7201a8\"],[0.3333333333333333,\"#9c179e\"],[0.4444444444444444,\"#bd3786\"],[0.5555555555555556,\"#d8576b\"],[0.6666666666666666,\"#ed7953\"],[0.7777777777777778,\"#fb9f3a\"],[0.8888888888888888,\"#fdca26\"],[1.0,\"#f0f921\"]],\"type\":\"contour\"}],\"heatmapgl\":[{\"colorbar\":{\"outlinewidth\":0,\"ticks\":\"\"},\"colorscale\":[[0.0,\"#0d0887\"],[0.1111111111111111,\"#46039f\"],[0.2222222222222222,\"#7201a8\"],[0.3333333333333333,\"#9c179e\"],[0.4444444444444444,\"#bd3786\"],[0.5555555555555556,\"#d8576b\"],[0.6666666666666666,\"#ed7953\"],[0.7777777777777778,\"#fb9f3a\"],[0.8888888888888888,\"#fdca26\"],[1.0,\"#f0f921\"]],\"type\":\"heatmapgl\"}],\"heatmap\":[{\"colorbar\":{\"outlinewidth\":0,\"ticks\":\"\"},\"colorscale\":[[0.0,\"#0d0887\"],[0.1111111111111111,\"#46039f\"],[0.2222222222222222,\"#7201a8\"],[0.3333333333333333,\"#9c179e\"],[0.4444444444444444,\"#bd3786\"],[0.5555555555555556,\"#d8576b\"],[0.6666666666666666,\"#ed7953\"],[0.7777777777777778,\"#fb9f3a\"],[0.8888888888888888,\"#fdca26\"],[1.0,\"#f0f921\"]],\"type\":\"heatmap\"}],\"histogram2dcontour\":[{\"colorbar\":{\"outlinewidth\":0,\"ticks\":\"\"},\"colorscale\":[[0.0,\"#0d0887\"],[0.1111111111111111,\"#46039f\"],[0.2222222222222222,\"#7201a8\"],[0.3333333333333333,\"#9c179e\"],[0.4444444444444444,\"#bd3786\"],[0.5555555555555556,\"#d8576b\"],[0.6666666666666666,\"#ed7953\"],[0.7777777777777778,\"#fb9f3a\"],[0.8888888888888888,\"#fdca26\"],[1.0,\"#f0f921\"]],\"type\":\"histogram2dcontour\"}],\"histogram2d\":[{\"colorbar\":{\"outlinewidth\":0,\"ticks\":\"\"},\"colorscale\":[[0.0,\"#0d0887\"],[0.1111111111111111,\"#46039f\"],[0.2222222222222222,\"#7201a8\"],[0.3333333333333333,\"#9c179e\"],[0.4444444444444444,\"#bd3786\"],[0.5555555555555556,\"#d8576b\"],[0.6666666666666666,\"#ed7953\"],[0.7777777777777778,\"#fb9f3a\"],[0.8888888888888888,\"#fdca26\"],[1.0,\"#f0f921\"]],\"type\":\"histogram2d\"}],\"histogram\":[{\"marker\":{\"pattern\":{\"fillmode\":\"overlay\",\"size\":10,\"solidity\":0.2}},\"type\":\"histogram\"}],\"mesh3d\":[{\"colorbar\":{\"outlinewidth\":0,\"ticks\":\"\"},\"type\":\"mesh3d\"}],\"parcoords\":[{\"line\":{\"colorbar\":{\"outlinewidth\":0,\"ticks\":\"\"}},\"type\":\"parcoords\"}],\"pie\":[{\"automargin\":true,\"type\":\"pie\"}],\"scatter3d\":[{\"line\":{\"colorbar\":{\"outlinewidth\":0,\"ticks\":\"\"}},\"marker\":{\"colorbar\":{\"outlinewidth\":0,\"ticks\":\"\"}},\"type\":\"scatter3d\"}],\"scattercarpet\":[{\"marker\":{\"colorbar\":{\"outlinewidth\":0,\"ticks\":\"\"}},\"type\":\"scattercarpet\"}],\"scattergeo\":[{\"marker\":{\"colorbar\":{\"outlinewidth\":0,\"ticks\":\"\"}},\"type\":\"scattergeo\"}],\"scattergl\":[{\"marker\":{\"colorbar\":{\"outlinewidth\":0,\"ticks\":\"\"}},\"type\":\"scattergl\"}],\"scattermapbox\":[{\"marker\":{\"colorbar\":{\"outlinewidth\":0,\"ticks\":\"\"}},\"type\":\"scattermapbox\"}],\"scatterpolargl\":[{\"marker\":{\"colorbar\":{\"outlinewidth\":0,\"ticks\":\"\"}},\"type\":\"scatterpolargl\"}],\"scatterpolar\":[{\"marker\":{\"colorbar\":{\"outlinewidth\":0,\"ticks\":\"\"}},\"type\":\"scatterpolar\"}],\"scatter\":[{\"marker\":{\"colorbar\":{\"outlinewidth\":0,\"ticks\":\"\"}},\"type\":\"scatter\"}],\"scatterternary\":[{\"marker\":{\"colorbar\":{\"outlinewidth\":0,\"ticks\":\"\"}},\"type\":\"scatterternary\"}],\"surface\":[{\"colorbar\":{\"outlinewidth\":0,\"ticks\":\"\"},\"colorscale\":[[0.0,\"#0d0887\"],[0.1111111111111111,\"#46039f\"],[0.2222222222222222,\"#7201a8\"],[0.3333333333333333,\"#9c179e\"],[0.4444444444444444,\"#bd3786\"],[0.5555555555555556,\"#d8576b\"],[0.6666666666666666,\"#ed7953\"],[0.7777777777777778,\"#fb9f3a\"],[0.8888888888888888,\"#fdca26\"],[1.0,\"#f0f921\"]],\"type\":\"surface\"}],\"table\":[{\"cells\":{\"fill\":{\"color\":\"#EBF0F8\"},\"line\":{\"color\":\"white\"}},\"header\":{\"fill\":{\"color\":\"#C8D4E3\"},\"line\":{\"color\":\"white\"}},\"type\":\"table\"}]},\"layout\":{\"annotationdefaults\":{\"arrowcolor\":\"#2a3f5f\",\"arrowhead\":0,\"arrowwidth\":1},\"autotypenumbers\":\"strict\",\"coloraxis\":{\"colorbar\":{\"outlinewidth\":0,\"ticks\":\"\"}},\"colorscale\":{\"diverging\":[[0,\"#8e0152\"],[0.1,\"#c51b7d\"],[0.2,\"#de77ae\"],[0.3,\"#f1b6da\"],[0.4,\"#fde0ef\"],[0.5,\"#f7f7f7\"],[0.6,\"#e6f5d0\"],[0.7,\"#b8e186\"],[0.8,\"#7fbc41\"],[0.9,\"#4d9221\"],[1,\"#276419\"]],\"sequential\":[[0.0,\"#0d0887\"],[0.1111111111111111,\"#46039f\"],[0.2222222222222222,\"#7201a8\"],[0.3333333333333333,\"#9c179e\"],[0.4444444444444444,\"#bd3786\"],[0.5555555555555556,\"#d8576b\"],[0.6666666666666666,\"#ed7953\"],[0.7777777777777778,\"#fb9f3a\"],[0.8888888888888888,\"#fdca26\"],[1.0,\"#f0f921\"]],\"sequentialminus\":[[0.0,\"#0d0887\"],[0.1111111111111111,\"#46039f\"],[0.2222222222222222,\"#7201a8\"],[0.3333333333333333,\"#9c179e\"],[0.4444444444444444,\"#bd3786\"],[0.5555555555555556,\"#d8576b\"],[0.6666666666666666,\"#ed7953\"],[0.7777777777777778,\"#fb9f3a\"],[0.8888888888888888,\"#fdca26\"],[1.0,\"#f0f921\"]]},\"colorway\":[\"#636efa\",\"#EF553B\",\"#00cc96\",\"#ab63fa\",\"#FFA15A\",\"#19d3f3\",\"#FF6692\",\"#B6E880\",\"#FF97FF\",\"#FECB52\"],\"font\":{\"color\":\"#2a3f5f\"},\"geo\":{\"bgcolor\":\"white\",\"lakecolor\":\"white\",\"landcolor\":\"white\",\"showlakes\":true,\"showland\":true,\"subunitcolor\":\"#C8D4E3\"},\"hoverlabel\":{\"align\":\"left\"},\"hovermode\":\"closest\",\"mapbox\":{\"style\":\"light\"},\"paper_bgcolor\":\"white\",\"plot_bgcolor\":\"white\",\"polar\":{\"angularaxis\":{\"gridcolor\":\"#EBF0F8\",\"linecolor\":\"#EBF0F8\",\"ticks\":\"\"},\"bgcolor\":\"white\",\"radialaxis\":{\"gridcolor\":\"#EBF0F8\",\"linecolor\":\"#EBF0F8\",\"ticks\":\"\"}},\"scene\":{\"xaxis\":{\"backgroundcolor\":\"white\",\"gridcolor\":\"#DFE8F3\",\"gridwidth\":2,\"linecolor\":\"#EBF0F8\",\"showbackground\":true,\"ticks\":\"\",\"zerolinecolor\":\"#EBF0F8\"},\"yaxis\":{\"backgroundcolor\":\"white\",\"gridcolor\":\"#DFE8F3\",\"gridwidth\":2,\"linecolor\":\"#EBF0F8\",\"showbackground\":true,\"ticks\":\"\",\"zerolinecolor\":\"#EBF0F8\"},\"zaxis\":{\"backgroundcolor\":\"white\",\"gridcolor\":\"#DFE8F3\",\"gridwidth\":2,\"linecolor\":\"#EBF0F8\",\"showbackground\":true,\"ticks\":\"\",\"zerolinecolor\":\"#EBF0F8\"}},\"shapedefaults\":{\"line\":{\"color\":\"#2a3f5f\"}},\"ternary\":{\"aaxis\":{\"gridcolor\":\"#DFE8F3\",\"linecolor\":\"#A2B1C6\",\"ticks\":\"\"},\"baxis\":{\"gridcolor\":\"#DFE8F3\",\"linecolor\":\"#A2B1C6\",\"ticks\":\"\"},\"bgcolor\":\"white\",\"caxis\":{\"gridcolor\":\"#DFE8F3\",\"linecolor\":\"#A2B1C6\",\"ticks\":\"\"}},\"title\":{\"x\":0.05},\"xaxis\":{\"automargin\":true,\"gridcolor\":\"#EBF0F8\",\"linecolor\":\"#EBF0F8\",\"ticks\":\"\",\"title\":{\"standoff\":15},\"zerolinecolor\":\"#EBF0F8\",\"zerolinewidth\":2},\"yaxis\":{\"automargin\":true,\"gridcolor\":\"#EBF0F8\",\"linecolor\":\"#EBF0F8\",\"ticks\":\"\",\"title\":{\"standoff\":15},\"zerolinecolor\":\"#EBF0F8\",\"zerolinewidth\":2}}},\"title\":{\"font\":{\"size\":22,\"color\":\"Black\"},\"text\":\"<b>Hierarchical Clustering\",\"x\":0.5,\"xanchor\":\"center\",\"yanchor\":\"top\"},\"hoverlabel\":{\"font\":{\"size\":16,\"family\":\"Rockwell\"},\"bgcolor\":\"white\"},\"plot_bgcolor\":\"#ECEFF1\"},                        {\"responsive\": true}                    ).then(function(){\n",
              "                            \n",
              "var gd = document.getElementById('40885559-571a-4dab-8cad-639676f8ae44');\n",
              "var x = new MutationObserver(function (mutations, observer) {{\n",
              "        var display = window.getComputedStyle(gd).display;\n",
              "        if (!display || display === 'none') {{\n",
              "            console.log([gd, 'removed!']);\n",
              "            Plotly.purge(gd);\n",
              "            observer.disconnect();\n",
              "        }}\n",
              "}});\n",
              "\n",
              "// Listen for the removal of the full notebook cells\n",
              "var notebookContainer = gd.closest('#notebook-container');\n",
              "if (notebookContainer) {{\n",
              "    x.observe(notebookContainer, {childList: true});\n",
              "}}\n",
              "\n",
              "// Listen for the clearing of the current output cell\n",
              "var outputEl = gd.closest('.output');\n",
              "if (outputEl) {{\n",
              "    x.observe(outputEl, {childList: true});\n",
              "}}\n",
              "\n",
              "                        })                };                            </script>        </div>\n",
              "</body>\n",
              "</html>"
            ]
          },
          "metadata": {}
        }
      ]
    },
    {
      "cell_type": "markdown",
      "source": [
        "### **Visualize Terms**\n",
        "\n",
        "We can visualize the selected terms for a few topics by creating bar charts out of the c-TF-IDF scores for each topic representation."
      ],
      "metadata": {
        "id": "uC26Cc-6UvYE"
      }
    },
    {
      "cell_type": "code",
      "source": [
        "topic_model.visualize_barchart(top_n_topics=24)"
      ],
      "metadata": {
        "id": "-NoMSyeWVF2s",
        "outputId": "17af5c15-8952-467b-e09f-0aee46702474",
        "colab": {
          "base_uri": "https://localhost:8080/",
          "height": 1000
        }
      },
      "execution_count": 53,
      "outputs": [
        {
          "output_type": "display_data",
          "data": {
            "text/html": [
              "<html>\n",
              "<head><meta charset=\"utf-8\" /></head>\n",
              "<body>\n",
              "    <div>            <script src=\"https://cdnjs.cloudflare.com/ajax/libs/mathjax/2.7.5/MathJax.js?config=TeX-AMS-MML_SVG\"></script><script type=\"text/javascript\">if (window.MathJax) {MathJax.Hub.Config({SVG: {font: \"STIX-Web\"}});}</script>                <script type=\"text/javascript\">window.PlotlyConfig = {MathJaxConfig: 'local'};</script>\n",
              "        <script src=\"https://cdn.plot.ly/plotly-2.8.3.min.js\"></script>                <div id=\"b43f6782-4acb-4c4e-aa54-8597343ddedc\" class=\"plotly-graph-div\" style=\"height:1500px; width:1000px;\"></div>            <script type=\"text/javascript\">                                    window.PLOTLYENV=window.PLOTLYENV || {};                                    if (document.getElementById(\"b43f6782-4acb-4c4e-aa54-8597343ddedc\")) {                    Plotly.newPlot(                        \"b43f6782-4acb-4c4e-aa54-8597343ddedc\",                        [{\"marker\":{\"color\":\"#D55E00\"},\"orientation\":\"h\",\"x\":[0.011525499801982813,0.014373004152103498,0.016512164702751176,0.043558571080991544,0.04386095344126214],\"y\":[\"transportadora  \",\"entrega  \",\"whatsapp  \",\"bahia  \",\"casas  \"],\"type\":\"bar\",\"xaxis\":\"x\",\"yaxis\":\"y\"},{\"marker\":{\"color\":\"#0072B2\"},\"orientation\":\"h\",\"x\":[0.012110300496881584,0.012916737984595703,0.019810755291385734,0.029649884066389198,0.035869695068834],\"y\":[\"smartphone  \",\"comprei  \",\"aparelho  \",\"samsung  \",\"celular  \"],\"type\":\"bar\",\"xaxis\":\"x2\",\"yaxis\":\"y2\"},{\"marker\":{\"color\":\"#CC79A7\"},\"orientation\":\"h\",\"x\":[0.022590794977850468,0.027901436222177726,0.029702195950004933,0.034228685156924,0.04304788019432184],\"y\":[\"encomenda  \",\"shein  \",\"entregue  \",\"pedido  \",\"endere\\u00e7o  \"],\"type\":\"bar\",\"xaxis\":\"x3\",\"yaxis\":\"y3\"},{\"marker\":{\"color\":\"#E69F00\"},\"orientation\":\"h\",\"x\":[0.017587053579324954,0.01884665739894135,0.02366418627332984,0.03913109404648663,0.0506150387490805],\"y\":[\"compra  \",\"cancelado  \",\"pedido  \",\"cancelar  \",\"cancelamento  \"],\"type\":\"bar\",\"xaxis\":\"x4\",\"yaxis\":\"y4\"},{\"marker\":{\"color\":\"#56B4E9\"},\"orientation\":\"h\",\"x\":[0.02437776265979423,0.027118115215184226,0.03271986555304585,0.049236887865214456,0.05306526112906142],\"y\":[\"prazo  \",\"previs\\u00e3o  \",\"atrasada  \",\"entrega  \",\"atraso  \"],\"type\":\"bar\",\"xaxis\":\"x5\",\"yaxis\":\"y5\"},{\"marker\":{\"color\":\"#009E73\"},\"orientation\":\"h\",\"x\":[0.00986266050128394,0.009939139663811658,0.011198268513457467,0.0114170947170713,0.011779090821114929],\"y\":[\"luiza  \",\"compra  \",\"poi  \",\"loja  \",\"magazine  \"],\"type\":\"bar\",\"xaxis\":\"x6\",\"yaxis\":\"y6\"},{\"marker\":{\"color\":\"#F0E442\"},\"orientation\":\"h\",\"x\":[0.04197378723390347,0.04855438837583076,0.04926550127243293,0.07129969032940311,0.07151538048996396],\"y\":[\"indevida  \",\"amazon  \",\"prime  \",\"cobran\\u00e7a  \",\"assinatura  \"],\"type\":\"bar\",\"xaxis\":\"x7\",\"yaxis\":\"y7\"},{\"marker\":{\"color\":\"#D55E00\"},\"orientation\":\"h\",\"x\":[0.017841432928054218,0.018706547123279665,0.01883830161420333,0.021401639827778814,0.022641986086313518],\"y\":[\"veio  \",\"pe\\u00e7a  \",\"quebrado  \",\"produto  \",\"defeito  \"],\"type\":\"bar\",\"xaxis\":\"x8\",\"yaxis\":\"y8\"},{\"marker\":{\"color\":\"#0072B2\"},\"orientation\":\"h\",\"x\":[0.01525999458253538,0.01646036577321507,0.021047738799713476,0.05539538093457467,0.06029200222413993],\"y\":[\"site  \",\"americana  \",\"an\\u00fancio  \",\"enganosa  \",\"propaganda  \"],\"type\":\"bar\",\"xaxis\":\"x9\",\"yaxis\":\"y9\"},{\"marker\":{\"color\":\"#CC79A7\"},\"orientation\":\"h\",\"x\":[0.044169401720446914,0.046077491939160165,0.048098089115364,0.0555455347595365,0.06774392633817841],\"y\":[\"acesso  \",\"mail  \",\"acessar  \",\"senha  \",\"conta  \"],\"type\":\"bar\",\"xaxis\":\"x10\",\"yaxis\":\"y10\"},{\"marker\":{\"color\":\"#E69F00\"},\"orientation\":\"h\",\"x\":[0.015012221231384263,0.018149546566178298,0.019648911446880173,0.03769717080060208,0.03816553475273958],\"y\":[\"plataforma  \",\"vendedor  \",\"reclama\\u00e7\\u00e3o  \",\"mercado  \",\"livre  \"],\"type\":\"bar\",\"xaxis\":\"x11\",\"yaxis\":\"y11\"},{\"marker\":{\"color\":\"#56B4E9\"},\"orientation\":\"h\",\"x\":[0.012750241522449766,0.01411659499050309,0.022004388854171327,0.022571075730864452,0.0445966493619802],\"y\":[\"valor  \",\"produto  \",\"devolu\\u00e7\\u00e3o  \",\"reembolso  \",\"amazon  \"],\"type\":\"bar\",\"xaxis\":\"x12\",\"yaxis\":\"y12\"},{\"marker\":{\"color\":\"#009E73\"},\"orientation\":\"h\",\"x\":[0.013330164207125395,0.014105532626790575,0.014414437902514935,0.023640798029394457,0.06825860876490196],\"y\":[\"pedido  \",\"site  \",\"compra  \",\"lojas  \",\"americana  \"],\"type\":\"bar\",\"xaxis\":\"x13\",\"yaxis\":\"y13\"},{\"marker\":{\"color\":\"#F0E442\"},\"orientation\":\"h\",\"x\":[0.014365345692548104,0.01989065676764886,0.019956258291292554,0.027360253537860747,0.06391511438155834],\"y\":[\"celular  \",\"aparelho  \",\"carregador  \",\"apple  \",\"iphone  \"],\"type\":\"bar\",\"xaxis\":\"x14\",\"yaxis\":\"y14\"},{\"marker\":{\"color\":\"#D55E00\"},\"orientation\":\"h\",\"x\":[0.01616260600393051,0.0179428708083135,0.02552415508675124,0.03786974669626854,0.0732776717719331],\"y\":[\"encomenda  \",\"pedido  \",\"aeroporto  \",\"shein  \",\"brasil  \"],\"type\":\"bar\",\"xaxis\":\"x15\",\"yaxis\":\"y15\"},{\"marker\":{\"color\":\"#0072B2\"},\"orientation\":\"h\",\"x\":[0.03309901677143745,0.03857232559766806,0.03889732958528196,0.07342344669348001,0.10719905237368534],\"y\":[\"cart\\u00f5es  \",\"pagamento  \",\"cobran\\u00e7a  \",\"cr\\u00e9dito  \",\"cart\\u00e3o  \"],\"type\":\"bar\",\"xaxis\":\"x16\",\"yaxis\":\"y16\"},{\"marker\":{\"color\":\"#CC79A7\"},\"orientation\":\"h\",\"x\":[0.03395166174330024,0.03467363247104099,0.041336442906093916,0.04927490459622872,0.0700299263499877],\"y\":[\"comprei  \",\"cal\\u00e7as  \",\"cal\\u00e7a  \",\"vestido  \",\"roupas  \"],\"type\":\"bar\",\"xaxis\":\"x17\",\"yaxis\":\"y17\"},{\"marker\":{\"color\":\"#E69F00\"},\"orientation\":\"h\",\"x\":[0.02490055816061444,0.02511259493956011,0.02622233074046775,0.0379978014691738,0.04149209056994177],\"y\":[\"entrega  \",\"express  \",\"entregue  \",\"transportadora  \",\"amazon  \"],\"type\":\"bar\",\"xaxis\":\"x18\",\"yaxis\":\"y18\"},{\"marker\":{\"color\":\"#56B4E9\"},\"orientation\":\"h\",\"x\":[0.014422247055093226,0.015830371344962735,0.016783665774723854,0.020929576752829714,0.12663432867551216],\"y\":[\"amassado  \",\"magalu  \",\"troca  \",\"refrigerador  \",\"geladeira  \"],\"type\":\"bar\",\"xaxis\":\"x19\",\"yaxis\":\"y19\"},{\"marker\":{\"color\":\"#009E73\"},\"orientation\":\"h\",\"x\":[0.025018822671085458,0.0341738521170859,0.039151518564517,0.049989646212836,0.09873936320651638],\"y\":[\"recebi  \",\"shein  \",\"dinheiro  \",\"taxada  \",\"reembolso  \"],\"type\":\"bar\",\"xaxis\":\"x20\",\"yaxis\":\"y20\"},{\"marker\":{\"color\":\"#F0E442\"},\"orientation\":\"h\",\"x\":[0.03581736973479072,0.04193574303534422,0.051179972427955314,0.0522626897800864,0.21259335087648767],\"y\":[\"parada  \",\"encomenda  \",\"tr\\u00e2nsito  \",\"parado  \",\"curitiba  \"],\"type\":\"bar\",\"xaxis\":\"x21\",\"yaxis\":\"y21\"},{\"marker\":{\"color\":\"#D55E00\"},\"orientation\":\"h\",\"x\":[0.03139402862444311,0.03845623804999328,0.039581787802132784,0.04594323847402698,0.07210654570901776],\"y\":[\"acessar  \",\"senha  \",\"amazon  \",\"bloqueada  \",\"conta  \"],\"type\":\"bar\",\"xaxis\":\"x22\",\"yaxis\":\"y22\"},{\"marker\":{\"color\":\"#0072B2\"},\"orientation\":\"h\",\"x\":[0.012291561430523661,0.013349138967241254,0.01433880680092716,0.017933227223082243,0.03832735649657566],\"y\":[\"data  \",\"vendedor  \",\"empresa  \",\"entrega  \",\"amazon  \"],\"type\":\"bar\",\"xaxis\":\"x23\",\"yaxis\":\"y23\"},{\"marker\":{\"color\":\"#CC79A7\"},\"orientation\":\"h\",\"x\":[0.05654452888229452,0.06260924050156652,0.06832193197337154,0.10690591841206334,0.14361606636934995],\"y\":[\"pr\\u00e9  \",\"ragnarok  \",\"venda  \",\"lan\\u00e7amento  \",\"jogo  \"],\"type\":\"bar\",\"xaxis\":\"x24\",\"yaxis\":\"y24\"}],                        {\"template\":{\"data\":{\"barpolar\":[{\"marker\":{\"line\":{\"color\":\"white\",\"width\":0.5},\"pattern\":{\"fillmode\":\"overlay\",\"size\":10,\"solidity\":0.2}},\"type\":\"barpolar\"}],\"bar\":[{\"error_x\":{\"color\":\"#2a3f5f\"},\"error_y\":{\"color\":\"#2a3f5f\"},\"marker\":{\"line\":{\"color\":\"white\",\"width\":0.5},\"pattern\":{\"fillmode\":\"overlay\",\"size\":10,\"solidity\":0.2}},\"type\":\"bar\"}],\"carpet\":[{\"aaxis\":{\"endlinecolor\":\"#2a3f5f\",\"gridcolor\":\"#C8D4E3\",\"linecolor\":\"#C8D4E3\",\"minorgridcolor\":\"#C8D4E3\",\"startlinecolor\":\"#2a3f5f\"},\"baxis\":{\"endlinecolor\":\"#2a3f5f\",\"gridcolor\":\"#C8D4E3\",\"linecolor\":\"#C8D4E3\",\"minorgridcolor\":\"#C8D4E3\",\"startlinecolor\":\"#2a3f5f\"},\"type\":\"carpet\"}],\"choropleth\":[{\"colorbar\":{\"outlinewidth\":0,\"ticks\":\"\"},\"type\":\"choropleth\"}],\"contourcarpet\":[{\"colorbar\":{\"outlinewidth\":0,\"ticks\":\"\"},\"type\":\"contourcarpet\"}],\"contour\":[{\"colorbar\":{\"outlinewidth\":0,\"ticks\":\"\"},\"colorscale\":[[0.0,\"#0d0887\"],[0.1111111111111111,\"#46039f\"],[0.2222222222222222,\"#7201a8\"],[0.3333333333333333,\"#9c179e\"],[0.4444444444444444,\"#bd3786\"],[0.5555555555555556,\"#d8576b\"],[0.6666666666666666,\"#ed7953\"],[0.7777777777777778,\"#fb9f3a\"],[0.8888888888888888,\"#fdca26\"],[1.0,\"#f0f921\"]],\"type\":\"contour\"}],\"heatmapgl\":[{\"colorbar\":{\"outlinewidth\":0,\"ticks\":\"\"},\"colorscale\":[[0.0,\"#0d0887\"],[0.1111111111111111,\"#46039f\"],[0.2222222222222222,\"#7201a8\"],[0.3333333333333333,\"#9c179e\"],[0.4444444444444444,\"#bd3786\"],[0.5555555555555556,\"#d8576b\"],[0.6666666666666666,\"#ed7953\"],[0.7777777777777778,\"#fb9f3a\"],[0.8888888888888888,\"#fdca26\"],[1.0,\"#f0f921\"]],\"type\":\"heatmapgl\"}],\"heatmap\":[{\"colorbar\":{\"outlinewidth\":0,\"ticks\":\"\"},\"colorscale\":[[0.0,\"#0d0887\"],[0.1111111111111111,\"#46039f\"],[0.2222222222222222,\"#7201a8\"],[0.3333333333333333,\"#9c179e\"],[0.4444444444444444,\"#bd3786\"],[0.5555555555555556,\"#d8576b\"],[0.6666666666666666,\"#ed7953\"],[0.7777777777777778,\"#fb9f3a\"],[0.8888888888888888,\"#fdca26\"],[1.0,\"#f0f921\"]],\"type\":\"heatmap\"}],\"histogram2dcontour\":[{\"colorbar\":{\"outlinewidth\":0,\"ticks\":\"\"},\"colorscale\":[[0.0,\"#0d0887\"],[0.1111111111111111,\"#46039f\"],[0.2222222222222222,\"#7201a8\"],[0.3333333333333333,\"#9c179e\"],[0.4444444444444444,\"#bd3786\"],[0.5555555555555556,\"#d8576b\"],[0.6666666666666666,\"#ed7953\"],[0.7777777777777778,\"#fb9f3a\"],[0.8888888888888888,\"#fdca26\"],[1.0,\"#f0f921\"]],\"type\":\"histogram2dcontour\"}],\"histogram2d\":[{\"colorbar\":{\"outlinewidth\":0,\"ticks\":\"\"},\"colorscale\":[[0.0,\"#0d0887\"],[0.1111111111111111,\"#46039f\"],[0.2222222222222222,\"#7201a8\"],[0.3333333333333333,\"#9c179e\"],[0.4444444444444444,\"#bd3786\"],[0.5555555555555556,\"#d8576b\"],[0.6666666666666666,\"#ed7953\"],[0.7777777777777778,\"#fb9f3a\"],[0.8888888888888888,\"#fdca26\"],[1.0,\"#f0f921\"]],\"type\":\"histogram2d\"}],\"histogram\":[{\"marker\":{\"pattern\":{\"fillmode\":\"overlay\",\"size\":10,\"solidity\":0.2}},\"type\":\"histogram\"}],\"mesh3d\":[{\"colorbar\":{\"outlinewidth\":0,\"ticks\":\"\"},\"type\":\"mesh3d\"}],\"parcoords\":[{\"line\":{\"colorbar\":{\"outlinewidth\":0,\"ticks\":\"\"}},\"type\":\"parcoords\"}],\"pie\":[{\"automargin\":true,\"type\":\"pie\"}],\"scatter3d\":[{\"line\":{\"colorbar\":{\"outlinewidth\":0,\"ticks\":\"\"}},\"marker\":{\"colorbar\":{\"outlinewidth\":0,\"ticks\":\"\"}},\"type\":\"scatter3d\"}],\"scattercarpet\":[{\"marker\":{\"colorbar\":{\"outlinewidth\":0,\"ticks\":\"\"}},\"type\":\"scattercarpet\"}],\"scattergeo\":[{\"marker\":{\"colorbar\":{\"outlinewidth\":0,\"ticks\":\"\"}},\"type\":\"scattergeo\"}],\"scattergl\":[{\"marker\":{\"colorbar\":{\"outlinewidth\":0,\"ticks\":\"\"}},\"type\":\"scattergl\"}],\"scattermapbox\":[{\"marker\":{\"colorbar\":{\"outlinewidth\":0,\"ticks\":\"\"}},\"type\":\"scattermapbox\"}],\"scatterpolargl\":[{\"marker\":{\"colorbar\":{\"outlinewidth\":0,\"ticks\":\"\"}},\"type\":\"scatterpolargl\"}],\"scatterpolar\":[{\"marker\":{\"colorbar\":{\"outlinewidth\":0,\"ticks\":\"\"}},\"type\":\"scatterpolar\"}],\"scatter\":[{\"marker\":{\"colorbar\":{\"outlinewidth\":0,\"ticks\":\"\"}},\"type\":\"scatter\"}],\"scatterternary\":[{\"marker\":{\"colorbar\":{\"outlinewidth\":0,\"ticks\":\"\"}},\"type\":\"scatterternary\"}],\"surface\":[{\"colorbar\":{\"outlinewidth\":0,\"ticks\":\"\"},\"colorscale\":[[0.0,\"#0d0887\"],[0.1111111111111111,\"#46039f\"],[0.2222222222222222,\"#7201a8\"],[0.3333333333333333,\"#9c179e\"],[0.4444444444444444,\"#bd3786\"],[0.5555555555555556,\"#d8576b\"],[0.6666666666666666,\"#ed7953\"],[0.7777777777777778,\"#fb9f3a\"],[0.8888888888888888,\"#fdca26\"],[1.0,\"#f0f921\"]],\"type\":\"surface\"}],\"table\":[{\"cells\":{\"fill\":{\"color\":\"#EBF0F8\"},\"line\":{\"color\":\"white\"}},\"header\":{\"fill\":{\"color\":\"#C8D4E3\"},\"line\":{\"color\":\"white\"}},\"type\":\"table\"}]},\"layout\":{\"annotationdefaults\":{\"arrowcolor\":\"#2a3f5f\",\"arrowhead\":0,\"arrowwidth\":1},\"autotypenumbers\":\"strict\",\"coloraxis\":{\"colorbar\":{\"outlinewidth\":0,\"ticks\":\"\"}},\"colorscale\":{\"diverging\":[[0,\"#8e0152\"],[0.1,\"#c51b7d\"],[0.2,\"#de77ae\"],[0.3,\"#f1b6da\"],[0.4,\"#fde0ef\"],[0.5,\"#f7f7f7\"],[0.6,\"#e6f5d0\"],[0.7,\"#b8e186\"],[0.8,\"#7fbc41\"],[0.9,\"#4d9221\"],[1,\"#276419\"]],\"sequential\":[[0.0,\"#0d0887\"],[0.1111111111111111,\"#46039f\"],[0.2222222222222222,\"#7201a8\"],[0.3333333333333333,\"#9c179e\"],[0.4444444444444444,\"#bd3786\"],[0.5555555555555556,\"#d8576b\"],[0.6666666666666666,\"#ed7953\"],[0.7777777777777778,\"#fb9f3a\"],[0.8888888888888888,\"#fdca26\"],[1.0,\"#f0f921\"]],\"sequentialminus\":[[0.0,\"#0d0887\"],[0.1111111111111111,\"#46039f\"],[0.2222222222222222,\"#7201a8\"],[0.3333333333333333,\"#9c179e\"],[0.4444444444444444,\"#bd3786\"],[0.5555555555555556,\"#d8576b\"],[0.6666666666666666,\"#ed7953\"],[0.7777777777777778,\"#fb9f3a\"],[0.8888888888888888,\"#fdca26\"],[1.0,\"#f0f921\"]]},\"colorway\":[\"#636efa\",\"#EF553B\",\"#00cc96\",\"#ab63fa\",\"#FFA15A\",\"#19d3f3\",\"#FF6692\",\"#B6E880\",\"#FF97FF\",\"#FECB52\"],\"font\":{\"color\":\"#2a3f5f\"},\"geo\":{\"bgcolor\":\"white\",\"lakecolor\":\"white\",\"landcolor\":\"white\",\"showlakes\":true,\"showland\":true,\"subunitcolor\":\"#C8D4E3\"},\"hoverlabel\":{\"align\":\"left\"},\"hovermode\":\"closest\",\"mapbox\":{\"style\":\"light\"},\"paper_bgcolor\":\"white\",\"plot_bgcolor\":\"white\",\"polar\":{\"angularaxis\":{\"gridcolor\":\"#EBF0F8\",\"linecolor\":\"#EBF0F8\",\"ticks\":\"\"},\"bgcolor\":\"white\",\"radialaxis\":{\"gridcolor\":\"#EBF0F8\",\"linecolor\":\"#EBF0F8\",\"ticks\":\"\"}},\"scene\":{\"xaxis\":{\"backgroundcolor\":\"white\",\"gridcolor\":\"#DFE8F3\",\"gridwidth\":2,\"linecolor\":\"#EBF0F8\",\"showbackground\":true,\"ticks\":\"\",\"zerolinecolor\":\"#EBF0F8\"},\"yaxis\":{\"backgroundcolor\":\"white\",\"gridcolor\":\"#DFE8F3\",\"gridwidth\":2,\"linecolor\":\"#EBF0F8\",\"showbackground\":true,\"ticks\":\"\",\"zerolinecolor\":\"#EBF0F8\"},\"zaxis\":{\"backgroundcolor\":\"white\",\"gridcolor\":\"#DFE8F3\",\"gridwidth\":2,\"linecolor\":\"#EBF0F8\",\"showbackground\":true,\"ticks\":\"\",\"zerolinecolor\":\"#EBF0F8\"}},\"shapedefaults\":{\"line\":{\"color\":\"#2a3f5f\"}},\"ternary\":{\"aaxis\":{\"gridcolor\":\"#DFE8F3\",\"linecolor\":\"#A2B1C6\",\"ticks\":\"\"},\"baxis\":{\"gridcolor\":\"#DFE8F3\",\"linecolor\":\"#A2B1C6\",\"ticks\":\"\"},\"bgcolor\":\"white\",\"caxis\":{\"gridcolor\":\"#DFE8F3\",\"linecolor\":\"#A2B1C6\",\"ticks\":\"\"}},\"title\":{\"x\":0.05},\"xaxis\":{\"automargin\":true,\"gridcolor\":\"#EBF0F8\",\"linecolor\":\"#EBF0F8\",\"ticks\":\"\",\"title\":{\"standoff\":15},\"zerolinecolor\":\"#EBF0F8\",\"zerolinewidth\":2},\"yaxis\":{\"automargin\":true,\"gridcolor\":\"#EBF0F8\",\"linecolor\":\"#EBF0F8\",\"ticks\":\"\",\"title\":{\"standoff\":15},\"zerolinecolor\":\"#EBF0F8\",\"zerolinewidth\":2}}},\"xaxis\":{\"anchor\":\"y\",\"domain\":[0.0,0.175],\"showgrid\":true},\"yaxis\":{\"anchor\":\"x\",\"domain\":[0.8888888888888888,1.0],\"showgrid\":true},\"xaxis2\":{\"anchor\":\"y2\",\"domain\":[0.275,0.45],\"showgrid\":true},\"yaxis2\":{\"anchor\":\"x2\",\"domain\":[0.8888888888888888,1.0],\"showgrid\":true},\"xaxis3\":{\"anchor\":\"y3\",\"domain\":[0.55,0.7250000000000001],\"showgrid\":true},\"yaxis3\":{\"anchor\":\"x3\",\"domain\":[0.8888888888888888,1.0],\"showgrid\":true},\"xaxis4\":{\"anchor\":\"y4\",\"domain\":[0.825,1.0],\"showgrid\":true},\"yaxis4\":{\"anchor\":\"x4\",\"domain\":[0.8888888888888888,1.0],\"showgrid\":true},\"xaxis5\":{\"anchor\":\"y5\",\"domain\":[0.0,0.175],\"showgrid\":true},\"yaxis5\":{\"anchor\":\"x5\",\"domain\":[0.7111111111111111,0.8222222222222223],\"showgrid\":true},\"xaxis6\":{\"anchor\":\"y6\",\"domain\":[0.275,0.45],\"showgrid\":true},\"yaxis6\":{\"anchor\":\"x6\",\"domain\":[0.7111111111111111,0.8222222222222223],\"showgrid\":true},\"xaxis7\":{\"anchor\":\"y7\",\"domain\":[0.55,0.7250000000000001],\"showgrid\":true},\"yaxis7\":{\"anchor\":\"x7\",\"domain\":[0.7111111111111111,0.8222222222222223],\"showgrid\":true},\"xaxis8\":{\"anchor\":\"y8\",\"domain\":[0.825,1.0],\"showgrid\":true},\"yaxis8\":{\"anchor\":\"x8\",\"domain\":[0.7111111111111111,0.8222222222222223],\"showgrid\":true},\"xaxis9\":{\"anchor\":\"y9\",\"domain\":[0.0,0.175],\"showgrid\":true},\"yaxis9\":{\"anchor\":\"x9\",\"domain\":[0.5333333333333334,0.6444444444444446],\"showgrid\":true},\"xaxis10\":{\"anchor\":\"y10\",\"domain\":[0.275,0.45],\"showgrid\":true},\"yaxis10\":{\"anchor\":\"x10\",\"domain\":[0.5333333333333334,0.6444444444444446],\"showgrid\":true},\"xaxis11\":{\"anchor\":\"y11\",\"domain\":[0.55,0.7250000000000001],\"showgrid\":true},\"yaxis11\":{\"anchor\":\"x11\",\"domain\":[0.5333333333333334,0.6444444444444446],\"showgrid\":true},\"xaxis12\":{\"anchor\":\"y12\",\"domain\":[0.825,1.0],\"showgrid\":true},\"yaxis12\":{\"anchor\":\"x12\",\"domain\":[0.5333333333333334,0.6444444444444446],\"showgrid\":true},\"xaxis13\":{\"anchor\":\"y13\",\"domain\":[0.0,0.175],\"showgrid\":true},\"yaxis13\":{\"anchor\":\"x13\",\"domain\":[0.35555555555555557,0.4666666666666667],\"showgrid\":true},\"xaxis14\":{\"anchor\":\"y14\",\"domain\":[0.275,0.45],\"showgrid\":true},\"yaxis14\":{\"anchor\":\"x14\",\"domain\":[0.35555555555555557,0.4666666666666667],\"showgrid\":true},\"xaxis15\":{\"anchor\":\"y15\",\"domain\":[0.55,0.7250000000000001],\"showgrid\":true},\"yaxis15\":{\"anchor\":\"x15\",\"domain\":[0.35555555555555557,0.4666666666666667],\"showgrid\":true},\"xaxis16\":{\"anchor\":\"y16\",\"domain\":[0.825,1.0],\"showgrid\":true},\"yaxis16\":{\"anchor\":\"x16\",\"domain\":[0.35555555555555557,0.4666666666666667],\"showgrid\":true},\"xaxis17\":{\"anchor\":\"y17\",\"domain\":[0.0,0.175],\"showgrid\":true},\"yaxis17\":{\"anchor\":\"x17\",\"domain\":[0.17777777777777778,0.2888888888888889],\"showgrid\":true},\"xaxis18\":{\"anchor\":\"y18\",\"domain\":[0.275,0.45],\"showgrid\":true},\"yaxis18\":{\"anchor\":\"x18\",\"domain\":[0.17777777777777778,0.2888888888888889],\"showgrid\":true},\"xaxis19\":{\"anchor\":\"y19\",\"domain\":[0.55,0.7250000000000001],\"showgrid\":true},\"yaxis19\":{\"anchor\":\"x19\",\"domain\":[0.17777777777777778,0.2888888888888889],\"showgrid\":true},\"xaxis20\":{\"anchor\":\"y20\",\"domain\":[0.825,1.0],\"showgrid\":true},\"yaxis20\":{\"anchor\":\"x20\",\"domain\":[0.17777777777777778,0.2888888888888889],\"showgrid\":true},\"xaxis21\":{\"anchor\":\"y21\",\"domain\":[0.0,0.175],\"showgrid\":true},\"yaxis21\":{\"anchor\":\"x21\",\"domain\":[0.0,0.11111111111111112],\"showgrid\":true},\"xaxis22\":{\"anchor\":\"y22\",\"domain\":[0.275,0.45],\"showgrid\":true},\"yaxis22\":{\"anchor\":\"x22\",\"domain\":[0.0,0.11111111111111112],\"showgrid\":true},\"xaxis23\":{\"anchor\":\"y23\",\"domain\":[0.55,0.7250000000000001],\"showgrid\":true},\"yaxis23\":{\"anchor\":\"x23\",\"domain\":[0.0,0.11111111111111112],\"showgrid\":true},\"xaxis24\":{\"anchor\":\"y24\",\"domain\":[0.825,1.0],\"showgrid\":true},\"yaxis24\":{\"anchor\":\"x24\",\"domain\":[0.0,0.11111111111111112],\"showgrid\":true},\"annotations\":[{\"font\":{\"size\":16},\"showarrow\":false,\"text\":\"Topic 0\",\"x\":0.0875,\"xanchor\":\"center\",\"xref\":\"paper\",\"y\":1.0,\"yanchor\":\"bottom\",\"yref\":\"paper\"},{\"font\":{\"size\":16},\"showarrow\":false,\"text\":\"Topic 1\",\"x\":0.36250000000000004,\"xanchor\":\"center\",\"xref\":\"paper\",\"y\":1.0,\"yanchor\":\"bottom\",\"yref\":\"paper\"},{\"font\":{\"size\":16},\"showarrow\":false,\"text\":\"Topic 2\",\"x\":0.6375000000000001,\"xanchor\":\"center\",\"xref\":\"paper\",\"y\":1.0,\"yanchor\":\"bottom\",\"yref\":\"paper\"},{\"font\":{\"size\":16},\"showarrow\":false,\"text\":\"Topic 3\",\"x\":0.9125,\"xanchor\":\"center\",\"xref\":\"paper\",\"y\":1.0,\"yanchor\":\"bottom\",\"yref\":\"paper\"},{\"font\":{\"size\":16},\"showarrow\":false,\"text\":\"Topic 4\",\"x\":0.0875,\"xanchor\":\"center\",\"xref\":\"paper\",\"y\":0.8222222222222223,\"yanchor\":\"bottom\",\"yref\":\"paper\"},{\"font\":{\"size\":16},\"showarrow\":false,\"text\":\"Topic 5\",\"x\":0.36250000000000004,\"xanchor\":\"center\",\"xref\":\"paper\",\"y\":0.8222222222222223,\"yanchor\":\"bottom\",\"yref\":\"paper\"},{\"font\":{\"size\":16},\"showarrow\":false,\"text\":\"Topic 6\",\"x\":0.6375000000000001,\"xanchor\":\"center\",\"xref\":\"paper\",\"y\":0.8222222222222223,\"yanchor\":\"bottom\",\"yref\":\"paper\"},{\"font\":{\"size\":16},\"showarrow\":false,\"text\":\"Topic 7\",\"x\":0.9125,\"xanchor\":\"center\",\"xref\":\"paper\",\"y\":0.8222222222222223,\"yanchor\":\"bottom\",\"yref\":\"paper\"},{\"font\":{\"size\":16},\"showarrow\":false,\"text\":\"Topic 8\",\"x\":0.0875,\"xanchor\":\"center\",\"xref\":\"paper\",\"y\":0.6444444444444446,\"yanchor\":\"bottom\",\"yref\":\"paper\"},{\"font\":{\"size\":16},\"showarrow\":false,\"text\":\"Topic 9\",\"x\":0.36250000000000004,\"xanchor\":\"center\",\"xref\":\"paper\",\"y\":0.6444444444444446,\"yanchor\":\"bottom\",\"yref\":\"paper\"},{\"font\":{\"size\":16},\"showarrow\":false,\"text\":\"Topic 10\",\"x\":0.6375000000000001,\"xanchor\":\"center\",\"xref\":\"paper\",\"y\":0.6444444444444446,\"yanchor\":\"bottom\",\"yref\":\"paper\"},{\"font\":{\"size\":16},\"showarrow\":false,\"text\":\"Topic 11\",\"x\":0.9125,\"xanchor\":\"center\",\"xref\":\"paper\",\"y\":0.6444444444444446,\"yanchor\":\"bottom\",\"yref\":\"paper\"},{\"font\":{\"size\":16},\"showarrow\":false,\"text\":\"Topic 12\",\"x\":0.0875,\"xanchor\":\"center\",\"xref\":\"paper\",\"y\":0.4666666666666667,\"yanchor\":\"bottom\",\"yref\":\"paper\"},{\"font\":{\"size\":16},\"showarrow\":false,\"text\":\"Topic 13\",\"x\":0.36250000000000004,\"xanchor\":\"center\",\"xref\":\"paper\",\"y\":0.4666666666666667,\"yanchor\":\"bottom\",\"yref\":\"paper\"},{\"font\":{\"size\":16},\"showarrow\":false,\"text\":\"Topic 14\",\"x\":0.6375000000000001,\"xanchor\":\"center\",\"xref\":\"paper\",\"y\":0.4666666666666667,\"yanchor\":\"bottom\",\"yref\":\"paper\"},{\"font\":{\"size\":16},\"showarrow\":false,\"text\":\"Topic 15\",\"x\":0.9125,\"xanchor\":\"center\",\"xref\":\"paper\",\"y\":0.4666666666666667,\"yanchor\":\"bottom\",\"yref\":\"paper\"},{\"font\":{\"size\":16},\"showarrow\":false,\"text\":\"Topic 16\",\"x\":0.0875,\"xanchor\":\"center\",\"xref\":\"paper\",\"y\":0.2888888888888889,\"yanchor\":\"bottom\",\"yref\":\"paper\"},{\"font\":{\"size\":16},\"showarrow\":false,\"text\":\"Topic 17\",\"x\":0.36250000000000004,\"xanchor\":\"center\",\"xref\":\"paper\",\"y\":0.2888888888888889,\"yanchor\":\"bottom\",\"yref\":\"paper\"},{\"font\":{\"size\":16},\"showarrow\":false,\"text\":\"Topic 18\",\"x\":0.6375000000000001,\"xanchor\":\"center\",\"xref\":\"paper\",\"y\":0.2888888888888889,\"yanchor\":\"bottom\",\"yref\":\"paper\"},{\"font\":{\"size\":16},\"showarrow\":false,\"text\":\"Topic 19\",\"x\":0.9125,\"xanchor\":\"center\",\"xref\":\"paper\",\"y\":0.2888888888888889,\"yanchor\":\"bottom\",\"yref\":\"paper\"},{\"font\":{\"size\":16},\"showarrow\":false,\"text\":\"Topic 20\",\"x\":0.0875,\"xanchor\":\"center\",\"xref\":\"paper\",\"y\":0.11111111111111112,\"yanchor\":\"bottom\",\"yref\":\"paper\"},{\"font\":{\"size\":16},\"showarrow\":false,\"text\":\"Topic 21\",\"x\":0.36250000000000004,\"xanchor\":\"center\",\"xref\":\"paper\",\"y\":0.11111111111111112,\"yanchor\":\"bottom\",\"yref\":\"paper\"},{\"font\":{\"size\":16},\"showarrow\":false,\"text\":\"Topic 22\",\"x\":0.6375000000000001,\"xanchor\":\"center\",\"xref\":\"paper\",\"y\":0.11111111111111112,\"yanchor\":\"bottom\",\"yref\":\"paper\"},{\"font\":{\"size\":16},\"showarrow\":false,\"text\":\"Topic 23\",\"x\":0.9125,\"xanchor\":\"center\",\"xref\":\"paper\",\"y\":0.11111111111111112,\"yanchor\":\"bottom\",\"yref\":\"paper\"}],\"title\":{\"font\":{\"size\":22,\"color\":\"Black\"},\"text\":\"<b>Topic Word Scores\",\"x\":0.5,\"xanchor\":\"center\",\"yanchor\":\"top\"},\"hoverlabel\":{\"font\":{\"size\":16,\"family\":\"Rockwell\"},\"bgcolor\":\"white\"},\"showlegend\":false,\"width\":1000,\"height\":1500},                        {\"responsive\": true}                    ).then(function(){\n",
              "                            \n",
              "var gd = document.getElementById('b43f6782-4acb-4c4e-aa54-8597343ddedc');\n",
              "var x = new MutationObserver(function (mutations, observer) {{\n",
              "        var display = window.getComputedStyle(gd).display;\n",
              "        if (!display || display === 'none') {{\n",
              "            console.log([gd, 'removed!']);\n",
              "            Plotly.purge(gd);\n",
              "            observer.disconnect();\n",
              "        }}\n",
              "}});\n",
              "\n",
              "// Listen for the removal of the full notebook cells\n",
              "var notebookContainer = gd.closest('#notebook-container');\n",
              "if (notebookContainer) {{\n",
              "    x.observe(notebookContainer, {childList: true});\n",
              "}}\n",
              "\n",
              "// Listen for the clearing of the current output cell\n",
              "var outputEl = gd.closest('.output');\n",
              "if (outputEl) {{\n",
              "    x.observe(outputEl, {childList: true});\n",
              "}}\n",
              "\n",
              "                        })                };                            </script>        </div>\n",
              "</body>\n",
              "</html>"
            ]
          },
          "metadata": {}
        }
      ]
    },
    {
      "cell_type": "markdown",
      "source": [
        "### **Visualize Topic Similarity**\n",
        "\n",
        "This plot shows a similarity matrix by simply applying cosine similarities through those topic embeddings generate by BERTopic through both c-TF-IDF and embeddings. This matrix indicate how similar certain topics are to each other."
      ],
      "metadata": {
        "id": "qMjOvmYVVUDX"
      }
    },
    {
      "cell_type": "code",
      "source": [
        "topic_model.visualize_heatmap(n_clusters=20, width=1000, height=1000)"
      ],
      "metadata": {
        "id": "_GL5qZ0nV3M2",
        "outputId": "8b31caec-b6ec-4d16-92af-e279b8aaa564",
        "colab": {
          "base_uri": "https://localhost:8080/",
          "height": 1000
        }
      },
      "execution_count": 48,
      "outputs": [
        {
          "output_type": "display_data",
          "data": {
            "text/html": [
              "<html>\n",
              "<head><meta charset=\"utf-8\" /></head>\n",
              "<body>\n",
              "    <div>            <script src=\"https://cdnjs.cloudflare.com/ajax/libs/mathjax/2.7.5/MathJax.js?config=TeX-AMS-MML_SVG\"></script><script type=\"text/javascript\">if (window.MathJax) {MathJax.Hub.Config({SVG: {font: \"STIX-Web\"}});}</script>                <script type=\"text/javascript\">window.PlotlyConfig = {MathJaxConfig: 'local'};</script>\n",
              "        <script src=\"https://cdn.plot.ly/plotly-2.8.3.min.js\"></script>                <div id=\"cf9ff7b0-1a8a-4f93-9e21-a0e94c009a52\" class=\"plotly-graph-div\" style=\"height:1000px; width:1000px;\"></div>            <script type=\"text/javascript\">                                    window.PLOTLYENV=window.PLOTLYENV || {};                                    if (document.getElementById(\"cf9ff7b0-1a8a-4f93-9e21-a0e94c009a52\")) {                    Plotly.newPlot(                        \"cf9ff7b0-1a8a-4f93-9e21-a0e94c009a52\",                        [{\"coloraxis\":\"coloraxis\",\"name\":\"0\",\"x\":[\"0_casas_bahia_whatsapp\",\"10_livre_mercado_reclama\\u00e7\\u00e3o\",\"12_americana_lojas_compra\",\"41_taxada_taxon_shein\",\"54_americana_lojas_facebook\",\"70_internacional_nacionais_...\",\"72_endere\\u00e7o_croppeds_tentat...\",\"1_celular_samsung_aparelho\",\"13_iphone_apple_carregador\",\"2_endere\\u00e7o_pedido_entregue\",\"5_magazine_loja_poi\",\"7_defeito_produto_quebrado\",\"20_curitiba_parado_tr\\u00e2nsito\",\"23_jogo_lan\\u00e7amento_venda\",\"27_entregue_recebi_consta\",\"30_produto_produtos_entregue\",\"42_cancelamento_loja_cancelar\",\"43_shein_reembolso_nunca\",\"44_frete_paguei_livre\",\"49_entrega_cama_aplicativo\",\"52_atraso_prazo_entrega\",\"58_loja_magazine_luiza\",\"63_fog\\u00e3o_notebook_atlas\",\"64_cupom_finalizar_desconto\",\"66_americana_ningu\\u00e9m_entrega\",\"68_11_entrega_jogo\",\"3_cancelamento_cancelar_ped...\",\"36_conta_bloqueada_suspensa\",\"53_cancelei_estorno_cancelado\",\"65_cart\\u00e3o_bloqueada_conta\",\"4_atraso_entrega_atrasada\",\"35_prazo_entrega_data\",\"67_entrega_preciso_pedido\",\"6_assinatura_cobran\\u00e7a_prime\",\"47_cart\\u00e3o_banco_amazon\",\"8_propaganda_enganosa_an\\u00fancio\",\"14_brasil_shein_aeroporto\",\"56_china_order_postado\",\"69_prime_video_v\\u00eddeo\",\"9_conta_senha_acessar\",\"17_amazon_transportadora_en...\",\"21_conta_bloqueada_amazon\",\"31_cancelamento_amazon_canc...\",\"55_amazon_previs\\u00e3o_entrega\",\"11_amazon_reembolso_devolu\\u00e7\\u00e3o\",\"22_amazon_entrega_empresa\",\"57_amazon_prime_brinquedos\",\"15_cart\\u00e3o_cr\\u00e9dito_cobran\\u00e7a\",\"29_reembolso_estorno_valor\",\"34_cart\\u00e3o_fatura_conta\",\"45_mercado_pago_livre\",\"16_roupas_vestido_cal\\u00e7a\",\"62_vestido_vestidos_casamento\",\"18_geladeira_refrigerador_t...\",\"19_reembolso_taxada_dinheiro\",\"24_dinheiro_recebi_quero\",\"59_pagamento_confirma\\u00e7\\u00e3o_bo...\",\"25_cashback_02_valor\",\"26_cadeira_sof\\u00e1_cama\",\"28_livro_livros_entregue\",\"37_embalagem_amazon_danific...\",\"38_rastreio_c\\u00f3digo_rastream...\",\"39_devolu\\u00e7\\u00e3o_c\\u00f3digo_devolver\",\"51_tarefas_comiss\\u00e3o_tarefa\",\"32_m\\u00e1quina_lavar_maquina\",\"33_t\\u00eanis_tenis_raquete\",\"61_pneu_pneus_pastilhas\",\"40_bluetooth_fone_ouvido\",\"46_reconhecimento_facial_ro...\",\"48_rob\\u00f4_falar_correios\",\"71_c\\u00e2mera_vendedora_v\\u00eddeo\",\"50_garantia_fone_amazon\",\"60_m\\u00fasicas_music_ouvir\"],\"y\":[\"0_casas_bahia_whatsapp\",\"10_livre_mercado_reclama\\u00e7\\u00e3o\",\"12_americana_lojas_compra\",\"41_taxada_taxon_shein\",\"54_americana_lojas_facebook\",\"70_internacional_nacionais_...\",\"72_endere\\u00e7o_croppeds_tentat...\",\"1_celular_samsung_aparelho\",\"13_iphone_apple_carregador\",\"2_endere\\u00e7o_pedido_entregue\",\"5_magazine_loja_poi\",\"7_defeito_produto_quebrado\",\"20_curitiba_parado_tr\\u00e2nsito\",\"23_jogo_lan\\u00e7amento_venda\",\"27_entregue_recebi_consta\",\"30_produto_produtos_entregue\",\"42_cancelamento_loja_cancelar\",\"43_shein_reembolso_nunca\",\"44_frete_paguei_livre\",\"49_entrega_cama_aplicativo\",\"52_atraso_prazo_entrega\",\"58_loja_magazine_luiza\",\"63_fog\\u00e3o_notebook_atlas\",\"64_cupom_finalizar_desconto\",\"66_americana_ningu\\u00e9m_entrega\",\"68_11_entrega_jogo\",\"3_cancelamento_cancelar_ped...\",\"36_conta_bloqueada_suspensa\",\"53_cancelei_estorno_cancelado\",\"65_cart\\u00e3o_bloqueada_conta\",\"4_atraso_entrega_atrasada\",\"35_prazo_entrega_data\",\"67_entrega_preciso_pedido\",\"6_assinatura_cobran\\u00e7a_prime\",\"47_cart\\u00e3o_banco_amazon\",\"8_propaganda_enganosa_an\\u00fancio\",\"14_brasil_shein_aeroporto\",\"56_china_order_postado\",\"69_prime_video_v\\u00eddeo\",\"9_conta_senha_acessar\",\"17_amazon_transportadora_en...\",\"21_conta_bloqueada_amazon\",\"31_cancelamento_amazon_canc...\",\"55_amazon_previs\\u00e3o_entrega\",\"11_amazon_reembolso_devolu\\u00e7\\u00e3o\",\"22_amazon_entrega_empresa\",\"57_amazon_prime_brinquedos\",\"15_cart\\u00e3o_cr\\u00e9dito_cobran\\u00e7a\",\"29_reembolso_estorno_valor\",\"34_cart\\u00e3o_fatura_conta\",\"45_mercado_pago_livre\",\"16_roupas_vestido_cal\\u00e7a\",\"62_vestido_vestidos_casamento\",\"18_geladeira_refrigerador_t...\",\"19_reembolso_taxada_dinheiro\",\"24_dinheiro_recebi_quero\",\"59_pagamento_confirma\\u00e7\\u00e3o_bo...\",\"25_cashback_02_valor\",\"26_cadeira_sof\\u00e1_cama\",\"28_livro_livros_entregue\",\"37_embalagem_amazon_danific...\",\"38_rastreio_c\\u00f3digo_rastream...\",\"39_devolu\\u00e7\\u00e3o_c\\u00f3digo_devolver\",\"51_tarefas_comiss\\u00e3o_tarefa\",\"32_m\\u00e1quina_lavar_maquina\",\"33_t\\u00eanis_tenis_raquete\",\"61_pneu_pneus_pastilhas\",\"40_bluetooth_fone_ouvido\",\"46_reconhecimento_facial_ro...\",\"48_rob\\u00f4_falar_correios\",\"71_c\\u00e2mera_vendedora_v\\u00eddeo\",\"50_garantia_fone_amazon\",\"60_m\\u00fasicas_music_ouvir\"],\"z\":[[1.0000000000000007,0.8439970078820097,0.8760036218095184,0.84660836334497,0.8810306305224367,0.8232159264359293,0.861190568278744,0.6166379736145626,0.576017084335888,0.8822741782715009,0.8819826910484696,0.8300547044178499,0.8560797573744151,0.8437843350760255,0.8877779571704231,0.8597992196435117,0.8557821870069406,0.8489460289554274,0.8431919151252023,0.8591755513201075,0.8651836561157402,0.8499240713526733,0.840157678342689,0.8593050889030136,0.8798132125005744,0.8381853301616006,0.7840552054580328,0.7793195813555509,0.7139678994718727,0.8121355949581828,0.778137878251512,0.8143747148876299,0.8237291911064711,0.7809593574462971,0.7900039813044255,0.7400065821009414,0.7927674108823591,0.7663078775041067,0.7298987576773823,0.8348203662567856,0.8857718674262052,0.8357103551057334,0.8249177823664384,0.8381344691297331,0.8142449939832783,0.8515142510750553,0.7994428561555701,0.6428410375255957,0.681326696448469,0.6978687546973507,0.7491370650829078,0.6991087121799393,0.7185260411285671,0.5464666507372287,0.7849932360744013,0.8050983459507768,0.7793621730230984,0.5967470746301335,0.6470592544544967,0.7650101258097292,0.805877732313465,0.7924271670783093,0.7995666386401517,0.7642953362281999,0.6733395352642055,0.598190278470414,0.6736163893313446,0.7249260350234313,0.7102267234812185,0.7493567993061626,0.7346431578518181,0.7998981124123689,0.6848047157260826],[0.8439970078820097,1.0,0.9081861909003206,0.8481009325860266,0.8662220662967582,0.8002492856782463,0.8000477508069717,0.6430049199789964,0.6045831102208654,0.8599500256877752,0.9462351811707916,0.8834131335529829,0.8098527101960125,0.8710307164368596,0.9039163725615642,0.9032926537323909,0.8999474640832628,0.8320682623748236,0.8882569924366062,0.8527948011207807,0.8474068572987096,0.8685252725760504,0.8567962354165792,0.8476001621504672,0.8334625820811867,0.8358365228062061,0.7840522010637754,0.7692354276645186,0.7373677223080389,0.8184283297277313,0.7904006230572629,0.8443558649916008,0.8333133003619269,0.8244257315656665,0.82934752199634,0.7828289868467824,0.7357371290753092,0.7164436094799205,0.7354616061133085,0.8172826167725118,0.8563344266972388,0.8071507618438849,0.828392518313357,0.8657888993412921,0.8596715113637362,0.8816244248449839,0.7835709157442639,0.7295951812058801,0.7563552763939101,0.7758349513874118,0.8786104263747163,0.658866975693681,0.6778246847201618,0.6010265826589447,0.8256246124708118,0.8301239320273215,0.7882926482072634,0.6319334276034055,0.5741880159064764,0.7765766673956536,0.836151902471512,0.7989847253786,0.8644365955128013,0.8124482184733814,0.6663020886367012,0.646911714795171,0.6435031431543554,0.7094105922963053,0.6803813355294638,0.7297407174884842,0.728703511643383,0.8042213003095601,0.6661774631991536],[0.8760036218095184,0.9081861909003206,0.9999999999999998,0.8586719053899197,0.9420668523931086,0.8535021709349404,0.8509237272751973,0.6436784391673819,0.628520050037574,0.8736389525719964,0.9312269800235803,0.859889360998756,0.8444775215768127,0.8676138920482312,0.9093353616145443,0.8876039074360116,0.8941893158114648,0.8673475164644464,0.8932127003272963,0.8571971408356417,0.8700992137637109,0.874779338302148,0.862983556498748,0.8757288765718758,0.8938072027475193,0.8537870207254354,0.7909357344330997,0.773851933354193,0.7424639137152604,0.8204394250097989,0.7906085800122196,0.8344768824886806,0.8212024462098438,0.8085239493048729,0.8281586836871292,0.8044477126836518,0.7623092741107517,0.7625204046084152,0.736697028760722,0.8137679611818003,0.8763355060760729,0.8049668235323348,0.8346825521535609,0.8501568726289498,0.849604461554331,0.8701033384456119,0.8085325785078723,0.720911609137287,0.7426740373555146,0.775446114919986,0.8332659877002426,0.720899523633458,0.7459165277850733,0.586192170147414,0.8274093621844397,0.843637485874138,0.8008642728719513,0.6382673976037627,0.6197453397491457,0.7982397096972131,0.8168649953094171,0.7913472092650186,0.8061004535980206,0.7924239430712261,0.6725986268608185,0.6291173535071364,0.6687044448491324,0.7143502074151071,0.6976886760061377,0.7332549026513693,0.744724245788241,0.8022213218572632,0.6989802778205607],[0.84660836334497,0.8481009325860266,0.8586719053899197,1.0000000000000002,0.8251908521065504,0.8574732797773037,0.832413442187925,0.5795991207916372,0.5769296936649928,0.8827006893293873,0.8783330998015304,0.8374899859771409,0.848649021319996,0.87797197072472,0.8897142310233177,0.8909699115128448,0.8310299575577658,0.8986051843220597,0.8667861465588629,0.846248355465549,0.8634034611329519,0.8703630413971244,0.8754972210178674,0.8572286957060766,0.844736912294347,0.8515798329031479,0.766479231726874,0.7557107882815581,0.7178632326126435,0.8162516580267691,0.7857127947259184,0.8322101620147297,0.8256185276508148,0.7950584366902625,0.7959396772504248,0.7604405740140358,0.8065512560398959,0.7426778174017347,0.7507756086695628,0.796817359601691,0.8395031007793782,0.8092013851236364,0.7968242573519685,0.8321490461969955,0.7944044127809761,0.8036860029946346,0.7617244954071519,0.6734712148564298,0.7243647642011812,0.7237362010503449,0.7854245055934443,0.7447830326646895,0.7891583671665973,0.5103729008148011,0.8771925624686043,0.8467033463883773,0.801906852247124,0.5836358707693295,0.6333680670723014,0.7991399403414637,0.7894586179477796,0.843068753785234,0.8401036844800559,0.7837810131258636,0.647061131548178,0.6680276037915885,0.6855842688978935,0.6947609879173741,0.759867991492709,0.7348914502287376,0.7214357288370792,0.7538289268435291,0.6782485328027787],[0.8810306305224367,0.8662220662967582,0.9420668523931086,0.8251908521065504,0.9999999999999996,0.8580726039714421,0.8527915011657671,0.6897441816701058,0.6816580272234292,0.8583240250675799,0.896305432484606,0.8421210222381005,0.8539384928060518,0.8678819161014859,0.8878431181423079,0.8603220170735677,0.8882563506948421,0.8331636678392608,0.8630334027717377,0.8568764208264337,0.8655426842604952,0.8771285258973384,0.8631443034943822,0.8638888552573996,0.8668695507451862,0.8568012195487495,0.7965065815648354,0.8073861440242143,0.732913879726881,0.8406614211080073,0.7752584324794607,0.8137928094040306,0.8178399395935816,0.7972772587178429,0.8101085566572492,0.8248820044858389,0.7558859406576199,0.7515601185475058,0.7756879185055612,0.8344915862684382,0.8780383208868638,0.8385418664807851,0.8426154699092399,0.8505170159325071,0.8409266644674827,0.8728002098443479,0.8342669495442967,0.6599990922124017,0.6859857949864223,0.7208586294862352,0.7559295356273446,0.689305264806237,0.714738045779764,0.602689878559947,0.7730585012750508,0.7994571731729033,0.7696410418256558,0.5992992999731532,0.6526828024862797,0.7863632625344857,0.8205554566123987,0.7953400005264866,0.8012527717902176,0.77793962861401,0.6961731541088186,0.6214025675786267,0.6755262248235432,0.7670754271684754,0.7451279454743842,0.7566509728962589,0.7637063466967391,0.8457530554462781,0.7214103969433598],[0.8232159264359293,0.8002492856782463,0.8535021709349404,0.8574732797773037,0.8580726039714421,1.0000000000000004,0.8516828482457501,0.6055939886777186,0.572251559994122,0.8625480836015955,0.8403592773308945,0.8315877189164407,0.8860145894387474,0.8845787408769894,0.8691004661247788,0.8170196937772629,0.8238705132484773,0.834694764770043,0.8483077168216006,0.860947934399777,0.8810499618483645,0.8956414817623336,0.8614385290775501,0.8421463341543921,0.872433886889777,0.8978899009417819,0.7885528222004917,0.7861116182005936,0.7392651495954646,0.8358070420784209,0.8415856108170063,0.8731877367765514,0.85570262999574,0.771776889165795,0.780011577588637,0.773180383504258,0.7655652743707755,0.7961125670213727,0.8027596294719896,0.7745272326218948,0.8085115374220707,0.7874206431036304,0.7934583558282209,0.8284621111102253,0.7415234812061604,0.7554397840616986,0.7553773335539555,0.635190496949883,0.7041860970009219,0.7074048693787397,0.7366316255562692,0.6731744779220081,0.7530823464097853,0.49572601535359706,0.7910647746449129,0.7960726540140419,0.7968535754797242,0.5720594868199183,0.6154225770261507,0.7767277528740626,0.7808470175036977,0.8337872413889997,0.838930497943694,0.7841404882282706,0.619049545604095,0.6571513526979513,0.6671009978676835,0.7199709940647031,0.7344533986537853,0.6908178951284976,0.7277778851697961,0.7659653385902327,0.7130885146348341],[0.861190568278744,0.8000477508069717,0.8509237272751973,0.832413442187925,0.8527915011657671,0.8516828482457501,1.0,0.6154213865910393,0.5898034994199652,0.9278355816771549,0.8639535374236387,0.8215082091497121,0.8837161702536567,0.8699352350668043,0.8848692840552586,0.8266724068819336,0.83578132013909,0.8639945481042804,0.8587513930551864,0.8595323242354529,0.8671572240471328,0.8791438228683586,0.8327070792237627,0.8618100932252595,0.895061156897415,0.8751495702521656,0.800453940498295,0.7989441084819777,0.7308341956674178,0.7987311926860666,0.8039259261417702,0.8376376375088326,0.8416197972860753,0.7704395766216078,0.7804891616860707,0.7439202908166274,0.7508879436742936,0.7346283148659349,0.7554842691648891,0.8714714746312446,0.8520615846077172,0.8120102453013234,0.8060306793599263,0.8154267734861598,0.7584887082622057,0.7987141604071476,0.7762272502902092,0.6206347277183619,0.6875172377675424,0.6897993915745434,0.7195621018363119,0.6705418147619615,0.7087169409445437,0.5556719244828284,0.7845346928114925,0.820529465618169,0.7882887237161375,0.5906771870939393,0.6288250598644344,0.8061498136156002,0.7688904878596662,0.8144996802686169,0.7835646944900092,0.7885275362918042,0.6402940424019471,0.6576289286560167,0.6766835078806269,0.7080270554373465,0.733257646431467,0.7434699124760688,0.7246506648824707,0.7917220242990336,0.6936102573954099],[0.6166379736145626,0.6430049199789964,0.6436784391673819,0.5795991207916372,0.6897441816701058,0.6055939886777186,0.6154213865910393,1.0000000000000002,0.7576219891660205,0.6196210651743081,0.6731423420455038,0.6405405765889388,0.6139691395014243,0.6626169099711283,0.6516594017555277,0.6373606826026225,0.6310543752161225,0.5736915631687529,0.6162892602748649,0.6633909674398037,0.6216768295837211,0.6682186891011337,0.6921820045486633,0.6075190970172307,0.6039363012698978,0.6289906097737477,0.5687918371930756,0.5950092862657956,0.5293543004756374,0.6299686211398683,0.5691468490044747,0.5999458948941504,0.6000391836438843,0.5437019766431662,0.5668777945559462,0.5881018737122242,0.5444104390364557,0.5668202097664559,0.5801308484970619,0.6208310973053401,0.5894006437399149,0.6000509506050337,0.5627168527127815,0.6089140170887877,0.5411679397532465,0.5990469932634654,0.5539001175224265,0.4947596178802001,0.48060080977015807,0.5174540625479435,0.5400641551479128,0.4962438695942169,0.4946004088647325,0.44425825164061256,0.5369562019429268,0.5719755429928715,0.550273855193914,0.39545416595991306,0.46579673040925373,0.5460042668875689,0.6265037293303755,0.5911696791957584,0.5985250160346774,0.5706568354065336,0.5677970029108831,0.5287125175576437,0.5235866264505584,0.764399867555325,0.5770112051927884,0.6054562946139663,0.6207684929022967,0.87810044869494,0.5362546338250658],[0.576017084335888,0.6045831102208654,0.628520050037574,0.5769296936649928,0.6816580272234292,0.572251559994122,0.5898034994199652,0.7576219891660205,0.9999999999999993,0.5996052123874684,0.6334903636430879,0.6208258343561752,0.5784576587113627,0.6223859895192569,0.6373684654952753,0.6387362962458625,0.6285188986584654,0.5698630925671222,0.5859035484889628,0.6397178215311122,0.5876807470727395,0.6130569795880587,0.6439124682712939,0.5791249526813854,0.5886640606526483,0.6077118977393116,0.5775466952809962,0.5898440728353644,0.5444645879441332,0.6078958470480053,0.5208314899579677,0.5688831713179251,0.573311903453766,0.5981948710591689,0.5980394141292863,0.5268972845506052,0.5177790654200133,0.502890307025357,0.5714489910313609,0.6030650202928588,0.6507452894898279,0.6410085791744519,0.6324900770134976,0.6162531743747036,0.6075087322413617,0.6472503732850385,0.6194457600612103,0.5199960170313799,0.4906119212806056,0.5186246331296133,0.5204349625757712,0.4812923271720245,0.4572057065875443,0.45454079538310244,0.5199621765797264,0.5510561748030184,0.5191986760824421,0.37400070783184947,0.4494671402557366,0.5646668460436239,0.6502265810882907,0.5618321246212384,0.581861983058892,0.5682829760364492,0.5448574914951748,0.506135169246588,0.4522441826402602,0.6952944102850216,0.5180841297401061,0.5638018665998902,0.5760337552702528,0.803194269009773,0.5347135762670088],[0.8822741782715009,0.8599500256877752,0.8736389525719964,0.8827006893293873,0.8583240250675799,0.8625480836015955,0.9278355816771549,0.6196210651743081,0.5996052123874684,0.9999999999999998,0.9032677233242785,0.861042502864378,0.904835681053713,0.8998247543004956,0.9235381236182449,0.8686754851727962,0.8798262660034037,0.9094420791467053,0.8861953045494585,0.9031824422324881,0.9004027705690119,0.913818298945094,0.8659230954606416,0.875400792341535,0.9289448832342962,0.9126499568341867,0.8525441146499377,0.838894045085728,0.7785465519805254,0.8550516750634904,0.8464857717589737,0.8879117809319111,0.8968573991891737,0.8185974374740589,0.8298133965666445,0.7693639620451124,0.7937267899456053,0.7655890276816792,0.7677628222768933,0.8906243725478473,0.8999057987349652,0.8720703254752099,0.8496774169238654,0.8627519945856088,0.7991976272112036,0.8417650136883252,0.7997490583786726,0.6817591882187697,0.7458803351878867,0.7462850441378062,0.7781029301102151,0.700902384689486,0.7374371004583844,0.5512381936692267,0.8425014037383682,0.8655801316680105,0.842808502453079,0.6234236630194291,0.6492161454368001,0.8217877637780511,0.7890894449277909,0.8448873178739398,0.82278838626103,0.8160375416161894,0.6694207173440904,0.6748461975833582,0.6981007951414062,0.7477679930720299,0.7546625507007079,0.8010559684385705,0.7450231671495139,0.825376574785889,0.715997408153879],[0.8819826910484696,0.9462351811707916,0.9312269800235803,0.8783330998015304,0.896305432484606,0.8403592773308945,0.8639535374236387,0.6731423420455038,0.6334903636430879,0.9032677233242785,1.0000000000000004,0.8983807723737783,0.8739067870308572,0.9023559480236607,0.9481741091021005,0.9347197471481388,0.9107456752654898,0.8912202918749346,0.9195961993973071,0.9027909408730626,0.9305994374287174,0.9347909973557706,0.8915337156670156,0.8921180815618899,0.8914012296817584,0.8826293594634157,0.8180641727171634,0.7994940192915578,0.7600486715276278,0.8362609616122298,0.8340826019470379,0.8740915193504334,0.8600211134525528,0.8312041238296006,0.8418724000845307,0.8124371919536093,0.7948414717488014,0.7483604267436097,0.7654184071690432,0.8603964691955481,0.8965985641245527,0.8289638702587819,0.8546270377525403,0.879804944171972,0.8556909779129669,0.8857285624779343,0.8321081351046516,0.7289676743539006,0.7544695394368826,0.771950254437944,0.8524684564643341,0.7358961534163657,0.7561138903855394,0.6198858649675003,0.8449164223442318,0.8681016626995816,0.815808697018732,0.6215198491576048,0.6289576386880424,0.8542130571822755,0.8532377266627942,0.8132967340064899,0.8463482920261456,0.8006470789478776,0.6895078170201365,0.662661603033845,0.6612109885832357,0.7361024482389114,0.7228164820916712,0.7676025283185556,0.7740587223498471,0.8359285206653664,0.7259149958287612],[0.8300547044178499,0.8834131335529829,0.859889360998756,0.8374899859771409,0.8421210222381005,0.8315877189164407,0.8215082091497121,0.6405405765889388,0.6208258343561752,0.861042502864378,0.8983807723737783,0.9999999999999998,0.8725529025640232,0.8952318445963505,0.9285701704785843,0.9124263470073181,0.8895928564296764,0.8868282718098754,0.8884256474732497,0.8857639724510804,0.8582707947471173,0.866865803126234,0.884628167405116,0.8943054432269023,0.8709151313587851,0.875934184437466,0.827788049422457,0.8066833539602133,0.8006439755433072,0.8410296010068514,0.8130892723215278,0.8529885511954057,0.8175037054191463,0.7886326908881299,0.789127147437241,0.7589327938582962,0.7337102126304482,0.7078091395886665,0.7869103281901311,0.7612442196402827,0.8326552901615967,0.7943128317728952,0.8342476427485149,0.8368771698365236,0.8154656345477578,0.8099036570262321,0.7776580648638978,0.689851394405001,0.7629165291369956,0.7308902512287501,0.7801972684542661,0.7256406681823306,0.7191001157374681,0.5897175416105074,0.8319373386181739,0.8598747427607971,0.7781848848883917,0.6335847636568637,0.6741200373112315,0.8035395392601764,0.9174332045541755,0.8300838374636104,0.8819317571459794,0.8095526685348274,0.7087950283282055,0.6698943550962966,0.7043737182602046,0.7466950157091431,0.7273792132516278,0.7575060467957289,0.7824969103534638,0.7854348176247351,0.717942123692141],[0.8560797573744151,0.8098527101960125,0.8444775215768127,0.848649021319996,0.8539384928060518,0.8860145894387474,0.8837161702536567,0.6139691395014243,0.5784576587113627,0.904835681053713,0.8739067870308572,0.8725529025640232,1.0000000000000007,0.9089941122215082,0.9277365532833384,0.8721809749068057,0.8827467041911021,0.9064896711093176,0.9027650714994631,0.9060671148683457,0.9243580792639656,0.8965087625501468,0.8536871297465924,0.9208982009199473,0.9263023999577273,0.9197690459511889,0.8796990524568411,0.8723338479731648,0.8088068673131548,0.8578514642670008,0.8676707847927159,0.8913109185658916,0.8743069948447726,0.7667226735407747,0.7780243009232416,0.795364947765898,0.8038317641516366,0.7837005493389257,0.7858699209032539,0.8274716763885395,0.8484150152292169,0.842761443654411,0.8480813011787465,0.82727692081517,0.7517878475396004,0.7697199001224362,0.7738477830382138,0.6226677048292629,0.7236267802597212,0.7043696798431862,0.7262741367628085,0.725729319683316,0.7556496633623802,0.5514473002906264,0.8262818475437406,0.8728469567829613,0.8037964041107855,0.6208527512540061,0.677020207787999,0.7968118149351747,0.8088357145615986,0.828943339480305,0.8122533264516141,0.7936824310756199,0.6849228402798891,0.6754874005765774,0.7386391355732926,0.7493549597461056,0.7768036782025654,0.7788564497006223,0.7493441645957324,0.7881501242956213,0.7597018150458192],[0.8437843350760255,0.8710307164368596,0.8676138920482312,0.87797197072472,0.8678819161014859,0.8845787408769894,0.8699352350668043,0.6626169099711283,0.6223859895192569,0.8998247543004956,0.9023559480236607,0.8952318445963505,0.9089941122215082,1.0000000000000002,0.9373928023939342,0.9002658019016716,0.8930467874718149,0.8893449014479136,0.9136256031580612,0.9130239158305689,0.9063684901762923,0.9132384202395261,0.8958747143987524,0.906051957423649,0.8994498527719862,0.9286651745689158,0.8459971710711429,0.843631311089311,0.7939958995168688,0.8850383316622805,0.8641150556258028,0.8969631224953614,0.8933713292471965,0.807660131140462,0.8171230760865603,0.7899064374767633,0.7787255994989242,0.7668077883823861,0.8411713454840097,0.8297082557780768,0.8454383324789394,0.8377681366423313,0.8370327630267886,0.8777198094960141,0.7904690096255788,0.812602699101701,0.8022428157938063,0.6841233099284343,0.7477674584737963,0.7462371902493744,0.7726115604640681,0.7040603315918732,0.7437535215580892,0.5748987309811172,0.8390890442546979,0.8571310264596872,0.8163126669932631,0.617075802689089,0.6791271122477079,0.8232821529304086,0.8293675346374463,0.8744365681523656,0.8587032695661967,0.8423848767953895,0.6736832169781732,0.7416669282690466,0.7060149049169464,0.75397535024359,0.7622246633560084,0.7937344996524488,0.7687593062239798,0.8137024567393822,0.7677369326879102],[0.8877779571704231,0.9039163725615642,0.9093353616145443,0.8897142310233177,0.8878431181423079,0.8691004661247788,0.8848692840552586,0.6516594017555277,0.6373684654952753,0.9235381236182449,0.9481741091021005,0.9285701704785843,0.9277365532833384,0.9373928023939342,1.0,0.9615206393870347,0.9161520028372498,0.9230537165552756,0.9341086415575859,0.9368482814275586,0.9283810613389432,0.9096545404394117,0.9119293194623924,0.9321163419170768,0.940351689448559,0.9264718125702798,0.8630436369629979,0.8312921813128915,0.8064198980731555,0.8620001222921279,0.86243919327385,0.9047040360950305,0.9009011094254054,0.8338714064706905,0.8410273648528752,0.7920068042269595,0.8065679788215261,0.7702547218541436,0.8074728897804325,0.8528123633528036,0.903882723488938,0.8536330693943979,0.868125702765608,0.8911998971329183,0.8409629261789304,0.8671951213134714,0.812980183812483,0.7106491944655096,0.7885659716325393,0.7665584534326809,0.8135732717636986,0.7510195774666746,0.7578316114940107,0.6222322033733594,0.8739016072532493,0.904853921364919,0.836332741221476,0.647104304796402,0.6526361624054939,0.8316851977179063,0.8849028658829694,0.8679291118718933,0.871566771843679,0.8323012567022214,0.7369562266072123,0.6946718054062543,0.7096501194307372,0.776868671994643,0.7684843265826744,0.7966477636989937,0.7903773577057428,0.8270761992988769,0.7523302126228776],[0.8597992196435117,0.9032926537323909,0.8876039074360116,0.8909699115128448,0.8603220170735677,0.8170196937772629,0.8266724068819336,0.6373606826026225,0.6387362962458625,0.8686754851727962,0.9347197471481388,0.9124263470073181,0.8721809749068057,0.9002658019016716,0.9615206393870347,1.0000000000000002,0.8832715896186072,0.9096756439193256,0.8982055598560397,0.8947441635237938,0.8871901958295133,0.8761605620960183,0.8955628558602489,0.9052896709073096,0.8644957515742862,0.8743647118516209,0.789947498551656,0.7630662943418742,0.7332894859619585,0.8075476417032712,0.8000138794186167,0.8420395136214207,0.8324822932305022,0.7716405045050896,0.7782238757529988,0.7851093362538717,0.786771921230436,0.7241021162898672,0.7670050624578608,0.7914615219246928,0.8474475377847803,0.798630799807364,0.8135757800309862,0.8412226170372437,0.8140568538116447,0.8345937312173527,0.7760902938768532,0.6678269195311192,0.7212582911385452,0.7030211307003509,0.77369607430682,0.7813618481125674,0.7721969104680446,0.6089587269231097,0.8373884276117975,0.8582496745107212,0.7579977653916903,0.5904941861415347,0.6492064934541124,0.8115629525783381,0.8832515270262915,0.8118072804810461,0.8495807440551579,0.790418516181243,0.7384462239423213,0.7009591907769701,0.7050444255728494,0.7451159373658626,0.7369681850548442,0.773834509652897,0.7768436883247376,0.7925740716939027,0.7296367264606529],[0.8557821870069406,0.8999474640832628,0.8941893158114648,0.8310299575577658,0.8882563506948421,0.8238705132484773,0.83578132013909,0.6310543752161225,0.6285188986584654,0.8798262660034037,0.9107456752654898,0.8895928564296764,0.8827467041911021,0.8930467874718149,0.9161520028372498,0.8832715896186072,0.9999999999999996,0.8622017697748532,0.8820905529844614,0.9017457746658519,0.8867621728939546,0.8754722839626223,0.8624360770868652,0.8852836439378238,0.8825305465732561,0.8806461744362895,0.9495403616709219,0.8615485970977919,0.8960314169865596,0.8652787735445712,0.8368965211709154,0.8616904106506247,0.8504673280577879,0.8080937426783286,0.8167895949553052,0.7838407614954068,0.7576710303375112,0.7298497866764495,0.7553546473170414,0.8106136211561618,0.8807350804863401,0.8366286917565524,0.9383277041787723,0.8577405917501827,0.8474874448522546,0.8622931237055065,0.8161215718415809,0.6838776445590722,0.7487304344655364,0.7443200676603945,0.7882739986416075,0.6825855179929133,0.7048093439749719,0.624447522223244,0.8147398162539815,0.8342746920104227,0.8268797085107551,0.6527488640820405,0.655450345489303,0.8092143703573353,0.8404491530663512,0.8170870953001873,0.839164556686206,0.7922994686576563,0.6862291324750275,0.6458838620287302,0.660940782700407,0.7328663520149801,0.7066772661064822,0.755132065454118,0.7271862601848031,0.8134962496376861,0.7107944866532738],[0.8489460289554274,0.8320682623748236,0.8673475164644464,0.8986051843220597,0.8331636678392608,0.834694764770043,0.8639945481042804,0.5736915631687529,0.5698630925671222,0.9094420791467053,0.8912202918749346,0.8868282718098754,0.9064896711093176,0.8893449014479136,0.9230537165552756,0.9096756439193256,0.8622017697748532,1.0000000000000004,0.9211243786692356,0.8863374488427598,0.8893596550049414,0.881132672483122,0.862879717013946,0.9144748294271356,0.9029305976816611,0.8759404748451711,0.8195730313681336,0.8181481837965978,0.7902230093799492,0.8435637103999302,0.814470691658403,0.8511954787690855,0.8297862521060257,0.7876589239366949,0.8013654178489433,0.7748608033485722,0.7695526409984581,0.7319445678000733,0.7595548050809607,0.8117572189672,0.8326792556696787,0.8159234768486717,0.7981570955993424,0.7991188345605018,0.7787364809697492,0.7670940519519764,0.7513966685089448,0.7107428786220116,0.7974913965934578,0.7634900854091206,0.792192085212917,0.8293811291631403,0.8239485625157652,0.5431373034433917,0.9106622075959123,0.9279744430133066,0.8308859508351585,0.6776242885290397,0.6926510319291311,0.7931047811895853,0.8316930788974097,0.8202000622105747,0.819892647790271,0.7763047810416988,0.6913491487812984,0.6728743893064868,0.7188810589267346,0.7082947490366016,0.775650502657833,0.7698760916641596,0.7597309180454926,0.7589838390610087,0.682431755152133],[0.8431919151252023,0.8882569924366062,0.8932127003272963,0.8667861465588629,0.8630334027717377,0.8483077168216006,0.8587513930551864,0.6162892602748649,0.5859035484889628,0.8861953045494585,0.9195961993973071,0.8884256474732497,0.9027650714994631,0.9136256031580612,0.9341086415575859,0.8982055598560397,0.8820905529844614,0.9211243786692356,0.9999999999999987,0.8933827721022145,0.8924726745526121,0.8933150689410415,0.8709164300227633,0.9266024548801701,0.8965580099114154,0.8962831544217114,0.8326944344292309,0.8325641664392911,0.8043787638164588,0.87282906050956,0.8364159523742356,0.8815469459833749,0.8627324457284449,0.8469720078506915,0.8633149829675779,0.7768364074476157,0.7670330265725125,0.7507100940404259,0.805188862038428,0.8323765707027757,0.8435037138843693,0.838885773126222,0.8277770561395182,0.8487227676573159,0.8200883390402861,0.803844371338436,0.7951310979750604,0.7584196668591924,0.828780286853888,0.8338942631895657,0.8833177583773839,0.7543461982363092,0.767175263896474,0.5890236728005416,0.9029992904669308,0.9318779684143309,0.8529209945607924,0.7056346372233614,0.649295140601318,0.8217750131597055,0.823170688861757,0.8239068961303623,0.8551198241929929,0.8269544014556065,0.6802998923612265,0.6648396780286101,0.715434572871445,0.7303806831641307,0.7382543492227653,0.7494897979066653,0.7352943177752834,0.7980294734154844,0.7230396030602563],[0.8591755513201075,0.8527948011207807,0.8571971408356417,0.846248355465549,0.8568764208264337,0.860947934399777,0.8595323242354529,0.6633909674398037,0.6397178215311122,0.9031824422324881,0.9027909408730626,0.8857639724510804,0.9060671148683457,0.9130239158305689,0.9368482814275586,0.8947441635237938,0.9017457746658519,0.8863374488427598,0.8933827721022145,1.0000000000000002,0.9268625105691859,0.8923413678563796,0.9035646243674458,0.9005043072505072,0.9270676137535446,0.9124664319812452,0.8843533154263975,0.852436564346309,0.8196337552423696,0.8703304606121975,0.9160631190069537,0.9260298427404685,0.9334795048317275,0.7987751888057513,0.8137696328631656,0.7496668337205963,0.760518862965516,0.7518155234897361,0.7940911898158918,0.8437087375507124,0.880630693265259,0.8405189751397835,0.8612828039058766,0.8821169227147362,0.7776664647794573,0.8191000698092183,0.7803861837994275,0.6784184620857008,0.7357265317044905,0.741665214738723,0.7696964622903029,0.715926677490813,0.7506496801624966,0.5865562379006983,0.8152362114169485,0.8512103175069927,0.8296488669706747,0.6275830142365058,0.6866762522993439,0.7935322570746697,0.8373764282022194,0.8448267491226922,0.8602645485447937,0.8148983200466855,0.712749432436233,0.6456961066625646,0.6796421821006957,0.7632831490845193,0.7325789288057869,0.7671906644030193,0.7564133627262896,0.8247250143206568,0.7190971005230328],[0.8651836561157402,0.8474068572987096,0.8700992137637109,0.8634034611329519,0.8655426842604952,0.8810499618483645,0.8671572240471328,0.6216768295837211,0.5876807470727395,0.9004027705690119,0.9305994374287174,0.8582707947471173,0.9243580792639656,0.9063684901762923,0.9283810613389432,0.8871901958295133,0.8867621728939546,0.8893596550049414,0.8924726745526121,0.9268625105691859,0.9999999999999999,0.9379381490744618,0.8719060779048289,0.9015129950323219,0.9138834201437948,0.9059831821374166,0.8536956659185311,0.8252562945590349,0.788076444130897,0.8434400799446982,0.9015659436986672,0.9114563016192682,0.9022786410306146,0.7875502622692894,0.8028269933846053,0.7982255012174744,0.8103115802134426,0.7653393147192911,0.7718721697414477,0.841481069816587,0.8629409879285861,0.8243502154512362,0.8384183828612451,0.8505098966466118,0.782300647390527,0.808068327356892,0.8006304756930134,0.6620161111958042,0.7307611279997446,0.7312523911134496,0.7644484558300529,0.7184455608041881,0.78339409644119,0.5598389519246727,0.830161974845774,0.8596138380072563,0.8162057577486619,0.6002892380974914,0.6667359805602067,0.8201180529068512,0.8003635120730597,0.8248179794456236,0.8269694228058219,0.8050353080620911,0.6574842211122988,0.6299046715223339,0.6533941220510235,0.7152696427733318,0.7336536543805562,0.7655038794645856,0.7506592954288053,0.7943683429609023,0.7429230531399849],[0.8499240713526733,0.8685252725760504,0.874779338302148,0.8703630413971244,0.8771285258973384,0.8956414817623336,0.8791438228683586,0.6682186891011337,0.6130569795880587,0.913818298945094,0.9347909973557706,0.866865803126234,0.8965087625501468,0.9132384202395261,0.9096545404394117,0.8761605620960183,0.8754722839626223,0.881132672483122,0.8933150689410415,0.8923413678563796,0.9379381490744618,0.9999999999999993,0.8889635031645493,0.8849989507686498,0.8773394435732055,0.9161819975284313,0.8123454168337403,0.8153898639040157,0.7423448923814844,0.8523006442894838,0.8324696244719447,0.8689741925332115,0.8653511018537074,0.8026639248377638,0.813884965188222,0.8111211015620281,0.7869017069497702,0.749233111957209,0.7980036060663122,0.8371291694035579,0.8608742803525269,0.8372016245058835,0.8240776010304676,0.8402279302609201,0.7879497877062759,0.8147410200225516,0.8184093419690652,0.6677334747261843,0.7061464209684337,0.7276618392484873,0.7710187868737487,0.7371663430534083,0.7735440130265874,0.5675226892786851,0.810346100865341,0.8325388433594256,0.7968567170228005,0.5797000046350841,0.6529506596566874,0.8369950548005052,0.8122193288747621,0.8441273211583478,0.8403654093888091,0.8108934624063611,0.6768456137993296,0.6798468424046356,0.6923729635157869,0.744655114650201,0.7415037258159359,0.7599406884931541,0.7751821876694028,0.8213825325260993,0.7619224624719829],[0.840157678342689,0.8567962354165792,0.862983556498748,0.8754972210178674,0.8631443034943822,0.8614385290775501,0.8327070792237627,0.6921820045486633,0.6439124682712939,0.8659230954606416,0.8915337156670156,0.884628167405116,0.8536871297465924,0.8958747143987524,0.9119293194623924,0.8955628558602489,0.8624360770868652,0.862879717013946,0.8709164300227633,0.9035646243674458,0.8719060779048289,0.8889635031645493,1.0000000000000002,0.8832960261012872,0.8515458954136905,0.8917567874710325,0.7952983951668432,0.7870378145154743,0.7304658412955205,0.848288617739104,0.8195254913170644,0.861536788508013,0.8569786451598864,0.7859428328193238,0.799871762091601,0.7364614670239366,0.7651375497803496,0.7379862991507891,0.7945054931314174,0.8060463721847426,0.8634615391924101,0.8139684863244873,0.8189361035435221,0.8662693583661569,0.7950040224201087,0.820624176923043,0.7868411596542848,0.6731357188544349,0.7092377394881085,0.7205934119596495,0.7576457079327684,0.7152825651212786,0.7355038896022357,0.5642422678970169,0.811089339187383,0.8260663068421901,0.7833787867959179,0.6054968729741363,0.6950030254366384,0.833034040576606,0.837118657255234,0.8606900892849974,0.8544176317589084,0.8302604459213546,0.7052019441019134,0.7073342574674709,0.7257930041876227,0.7720557562062427,0.7667795178182992,0.7639969266918849,0.774678656072193,0.8217483252391853,0.7210873556061552],[0.8593050889030136,0.8476001621504672,0.8757288765718758,0.8572286957060766,0.8638888552573996,0.8421463341543921,0.8618100932252595,0.6075190970172307,0.5791249526813854,0.875400792341535,0.8921180815618899,0.8943054432269023,0.9208982009199473,0.906051957423649,0.9321163419170768,0.9052896709073096,0.8852836439378238,0.9144748294271356,0.9266024548801701,0.9005043072505072,0.9015129950323219,0.8849989507686498,0.8832960261012872,0.9999999999999991,0.8948630882524844,0.8965978345502263,0.8449007535050528,0.8263491440994484,0.7942107143420551,0.8483653221649182,0.8272806084951436,0.8580043257690737,0.8352765231865416,0.782124119400083,0.8035169455138552,0.7745856951377912,0.7812632209656547,0.7609437554276641,0.7840822534445523,0.8065662339406723,0.8405340211927054,0.824682532995062,0.8275235691817162,0.8254838170040568,0.7864458769990385,0.7924915712646768,0.7750107847871857,0.6800825973592669,0.7520572528801959,0.7486138594885683,0.7793114217095666,0.7370982633790393,0.7392711507832235,0.5991551370738325,0.8497246062453246,0.8938386871391425,0.8059030883864076,0.6574641728404104,0.6842501255359756,0.7986556065707048,0.8431496748850325,0.8309439749491904,0.8286130597925638,0.8085939126004882,0.7029191491869977,0.6404806876318458,0.6978667625465753,0.7453760749762708,0.7724414288875147,0.7742220691016294,0.7756255540871846,0.7751120973288966,0.7341705948416573],[0.8798132125005744,0.8334625820811867,0.8938072027475193,0.844736912294347,0.8668695507451862,0.872433886889777,0.895061156897415,0.6039363012698978,0.5886640606526483,0.9289448832342962,0.8914012296817584,0.8709151313587851,0.9263023999577273,0.8994498527719862,0.940351689448559,0.8644957515742862,0.8825305465732561,0.9029305976816611,0.8965580099114154,0.9270676137535446,0.9138834201437948,0.8773394435732055,0.8515458954136905,0.8948630882524844,0.9999999999999998,0.9113250762164657,0.876254135977677,0.8505107958470259,0.823056660384717,0.8575735340358599,0.8815394510021528,0.9035609762936387,0.9025527581578556,0.8083670856715086,0.8208981113068439,0.7450726479318746,0.7717972795705628,0.7697624854638023,0.7574941481373374,0.8536421933670615,0.8876812632136999,0.8395320766998348,0.8490014667189246,0.861887390594216,0.7823358270748664,0.81485007657368,0.7691539824162676,0.6833386189510667,0.7775796673500852,0.7616794045383422,0.7757462604463607,0.6844246045402282,0.7225598573629706,0.58518696942936,0.8456635090533329,0.8798448120975979,0.8500197347054138,0.65129543523199,0.6621448531375047,0.7876354346003738,0.8001227791629231,0.8047599037398577,0.8096399233805736,0.8113128367396243,0.6827768861529528,0.6219972148310461,0.6880381153459363,0.7315470948120735,0.7227944320660038,0.7722416790590809,0.7422346882974322,0.7966217978596183,0.7066070492857215],[0.8381853301616006,0.8358365228062061,0.8537870207254354,0.8515798329031479,0.8568012195487495,0.8978899009417819,0.8751495702521656,0.6289906097737477,0.6077118977393116,0.9126499568341867,0.8826293594634157,0.875934184437466,0.9197690459511889,0.9286651745689158,0.9264718125702798,0.8743647118516209,0.8806461744362895,0.8759404748451711,0.8962831544217114,0.9124664319812452,0.9059831821374166,0.9161819975284313,0.8917567874710325,0.8965978345502263,0.9113250762164657,0.9999999999999998,0.8567110982356634,0.8406588236818492,0.7931969191519925,0.874773793144819,0.8787463602356644,0.9048708080144818,0.8995443910495543,0.7974583750671194,0.810875266366156,0.7722429524387437,0.7728836560057395,0.7545417744104519,0.8052044319430793,0.8182668002258615,0.8626468792022198,0.8278681809095052,0.8427795529429897,0.8597370022335438,0.7804474316070821,0.8007340682605003,0.7900830491280602,0.6677227164653599,0.7427252368318871,0.7360566528932322,0.7583993643322984,0.7005824611679112,0.7354332343542067,0.5499592715175285,0.8234753922413001,0.8542308927610194,0.8238693609926362,0.6137799645135242,0.6363900587099043,0.8166427133985147,0.810586647390374,0.8400735389765437,0.8469497335831788,0.8230284913718722,0.6829251173164186,0.6748260031088393,0.6871695366185675,0.7406186308203787,0.7337026010789137,0.7614668751016949,0.7431060824030036,0.8080314277240856,0.7416582555131119],[0.7840552054580328,0.7840522010637754,0.7909357344330997,0.766479231726874,0.7965065815648354,0.7885528222004917,0.800453940498295,0.5687918371930756,0.5775466952809962,0.8525441146499377,0.8180641727171634,0.827788049422457,0.8796990524568411,0.8459971710711429,0.8630436369629979,0.789947498551656,0.9495403616709219,0.8195730313681336,0.8326944344292309,0.8843533154263975,0.8536956659185311,0.8123454168337403,0.7952983951668432,0.8449007535050528,0.876254135977677,0.8567110982356634,1.0000000000000002,0.8849000415314782,0.95079123945133,0.8500554115164014,0.839218332199896,0.8488575276424769,0.8359803348966657,0.7673567097499578,0.7769313330127233,0.7056649807448894,0.7244633232136767,0.6897878552327811,0.7237776970000267,0.7830771261103884,0.8224794204119315,0.815123960376723,0.9259788696561335,0.800721502526597,0.7558087297268019,0.7568216954839826,0.7434070664364899,0.6355664846468689,0.7502491067957342,0.7204580606798244,0.7218793453494661,0.6054936300051429,0.6387702439500553,0.5691556860722256,0.7846142488129113,0.8182836061375696,0.821197654261046,0.6553500023867692,0.6365358991958359,0.752458381698121,0.7598226500527484,0.7597273316768126,0.7786566987402666,0.7574456729701557,0.6283233655832321,0.5960912973401451,0.6131302433194084,0.6944419038675822,0.6681186748958297,0.7097361725154334,0.6462609015460979,0.7544576129956264,0.6717897261726458],[0.7793195813555509,0.7692354276645186,0.773851933354193,0.7557107882815581,0.8073861440242143,0.7861116182005936,0.7989441084819777,0.5950092862657956,0.5898440728353644,0.838894045085728,0.7994940192915578,0.8066833539602133,0.8723338479731648,0.843631311089311,0.8312921813128915,0.7630662943418742,0.8615485970977919,0.8181481837965978,0.8325641664392911,0.852436564346309,0.8252562945590349,0.8153898639040157,0.7870378145154743,0.8263491440994484,0.8505107958470259,0.8406588236818492,0.8849000415314782,1.0,0.8368071500943881,0.9072831359884801,0.7979227564672813,0.8091613001974303,0.8235163855229839,0.7712049158052142,0.7774760075443756,0.7448304296701524,0.6996166531891965,0.6982225284329902,0.7497208344634536,0.8296000737672862,0.7937189520619681,0.8953671794553565,0.844972748888917,0.7753056623260359,0.7138163689170656,0.7331447605825347,0.7636211479061445,0.6395965727963496,0.6979111165568349,0.7066759638653207,0.6869214891852061,0.6072610680255106,0.6365571687968044,0.6015065087797272,0.7429276842256519,0.7826573074935119,0.7641840115673942,0.611516545272753,0.6310954573907076,0.7495156649085605,0.7772072671166272,0.7841155921293123,0.7735159417109604,0.7568669609225317,0.6179883901375872,0.5824213487372101,0.6154741461842216,0.7156357395905105,0.6945783203365754,0.7242539380042149,0.6823104176761656,0.7773423267362133,0.678098340288962],[0.7139678994718727,0.7373677223080389,0.7424639137152604,0.7178632326126435,0.732913879726881,0.7392651495954646,0.7308341956674178,0.5293543004756374,0.5444645879441332,0.7785465519805254,0.7600486715276278,0.8006439755433072,0.8088068673131548,0.7939958995168688,0.8064198980731555,0.7332894859619585,0.8960314169865596,0.7902230093799492,0.8043787638164588,0.8196337552423696,0.788076444130897,0.7423448923814844,0.7304658412955205,0.7942107143420551,0.823056660384717,0.7931969191519925,0.95079123945133,0.8368071500943881,0.9999999999999998,0.8594193695867784,0.7892636866136733,0.7869264131217408,0.7603898179120218,0.7870754741210042,0.8098249359053128,0.6598785211557932,0.682894303141207,0.6586965172857918,0.6713366573939894,0.7270873131743035,0.7559545672237341,0.7576238730633266,0.8758443099226529,0.740451797385988,0.7445361180063352,0.7013131817522263,0.7150671163405401,0.7376552661494712,0.8466160215884704,0.8047024952196716,0.7605943061165656,0.5509380996568708,0.5911434150486778,0.5170450319081181,0.8144961993481523,0.8291993544147611,0.8371523542602282,0.7133948503600283,0.5928674705763559,0.6972100952709196,0.7404761641936926,0.6918518036923018,0.738931963652055,0.6998027334613723,0.5566647013401761,0.5449420941124941,0.5602547373608696,0.6345362529816763,0.610277230025641,0.6131423891726618,0.5659558414068304,0.6999655981220755,0.5989568767608571],[0.8121355949581828,0.8184283297277313,0.8204394250097989,0.8162516580267691,0.8406614211080073,0.8358070420784209,0.7987311926860666,0.6299686211398683,0.6078958470480053,0.8550516750634904,0.8362609616122298,0.8410296010068514,0.8578514642670008,0.8850383316622805,0.8620001222921279,0.8075476417032712,0.8652787735445712,0.8435637103999302,0.87282906050956,0.8703304606121975,0.8434400799446982,0.8523006442894838,0.848288617739104,0.8483653221649182,0.8575735340358599,0.874773793144819,0.8500554115164014,0.9072831359884801,0.8594193695867784,0.9999999999999996,0.8204541825906788,0.8340612674369587,0.8407576737221463,0.8807926888639774,0.9062908149482999,0.7482889599093551,0.7478432370309533,0.755884119794777,0.8034492260660486,0.819880036830581,0.8298691214562445,0.8758839659215301,0.8429450117895189,0.8256216470870056,0.7815127331079363,0.779703663366513,0.8191713792382802,0.8329908226267524,0.8190279188973749,0.8638406676305377,0.8117474226996353,0.6285290986618878,0.678805436831498,0.5607618405110192,0.8241963248621916,0.8387815410287964,0.8502080828036714,0.6549475128910405,0.665635423022156,0.7673745371748382,0.7981942793328926,0.8236527921341963,0.826674243259661,0.7817982186796127,0.6267169349973271,0.6411007014885826,0.6579496283710876,0.7421012637586131,0.7454863173077296,0.7226194548508732,0.7047373895265696,0.804530791352076,0.6850424714998082],[0.778137878251512,0.7904006230572629,0.7906085800122196,0.7857127947259184,0.7752584324794607,0.8415856108170063,0.8039259261417702,0.5691468490044747,0.5208314899579677,0.8464857717589737,0.8340826019470379,0.8130892723215278,0.8676707847927159,0.8641150556258028,0.86243919327385,0.8000138794186167,0.8368965211709154,0.814470691658403,0.8364159523742356,0.9160631190069537,0.9015659436986672,0.8324696244719447,0.8195254913170644,0.8272806084951436,0.8815394510021528,0.8787463602356644,0.839218332199896,0.7979227564672813,0.7892636866136733,0.8204541825906788,1.0000000000000002,0.9553171872858408,0.9202854567776223,0.7523938305675781,0.7657719393599574,0.7145266902483973,0.7250895074429817,0.715245948670205,0.7378770620633062,0.7777839911023545,0.7989816895767443,0.7566047497827265,0.8062390156364183,0.8830194057673266,0.7151826686091186,0.7516401185169852,0.706390600291989,0.6463300159139183,0.7153409086638076,0.7140238009498924,0.7471324133055411,0.6050900242857664,0.665853198225899,0.5429057882542099,0.7806534922222336,0.7980833182274831,0.8251786349588606,0.6229480097241488,0.5888010241183359,0.7236270766307065,0.7418407197012411,0.7861261599458347,0.7899197291343039,0.7631474077208908,0.6018217708472116,0.5811251085244785,0.6107680784030606,0.6548894872701596,0.6610607742076797,0.6639155240927472,0.6857541119914008,0.738155087516253,0.6556405298717516],[0.8143747148876299,0.8443558649916008,0.8344768824886806,0.8322101620147297,0.8137928094040306,0.8731877367765514,0.8376376375088326,0.5999458948941504,0.5688831713179251,0.8879117809319111,0.8740915193504334,0.8529885511954057,0.8913109185658916,0.8969631224953614,0.9047040360950305,0.8420395136214207,0.8616904106506247,0.8511954787690855,0.8815469459833749,0.9260298427404685,0.9114563016192682,0.8689741925332115,0.861536788508013,0.8580043257690737,0.9035609762936387,0.9048708080144818,0.8488575276424769,0.8091613001974303,0.7869264131217408,0.8340612674369587,0.9553171872858408,1.0000000000000004,0.9600729831469808,0.7884383692287731,0.8005091260121503,0.7114225981081458,0.7441095551231321,0.7345539073082059,0.7691459502772992,0.8069596722268696,0.8313995174779465,0.8012447005172629,0.8238643124871133,0.8905383584038901,0.7551403934796652,0.7916197445882424,0.727010680284715,0.6790447563406157,0.7526951245388245,0.7488666624081096,0.7977038081435147,0.6680296877362805,0.7119355661657408,0.5549320991309931,0.8232507574414526,0.8424693683017981,0.8327649607173422,0.6415877577684604,0.6013858200137251,0.7619432387425843,0.7628814046901664,0.8302269337263368,0.8358739090021766,0.8285293182583651,0.6479615536006433,0.6215045331272284,0.638862253766103,0.7124998211065386,0.7117895317101355,0.7235246085077915,0.7260200056248269,0.772158029853127,0.6693831454755788],[0.8237291911064711,0.8333133003619269,0.8212024462098438,0.8256185276508148,0.8178399395935816,0.85570262999574,0.8416197972860753,0.6000391836438843,0.573311903453766,0.8968573991891737,0.8600211134525528,0.8175037054191463,0.8743069948447726,0.8933713292471965,0.9009011094254054,0.8324822932305022,0.8504673280577879,0.8297862521060257,0.8627324457284449,0.9334795048317275,0.9022786410306146,0.8653511018537074,0.8569786451598864,0.8352765231865416,0.9025527581578556,0.8995443910495543,0.8359803348966657,0.8235163855229839,0.7603898179120218,0.8407576737221463,0.9202854567776223,0.9600729831469808,0.9999999999999998,0.792553761830425,0.7981743399671443,0.6908782917469997,0.7365147029548691,0.7398611127050916,0.7730398019248069,0.8401199381058977,0.8584402446078819,0.8280579134488224,0.8215343716666645,0.8877656331690041,0.7478113787795859,0.8061820345661986,0.7362066773162519,0.6609499442093165,0.7181131023428255,0.7260027289347128,0.7662954208131665,0.6522643552635139,0.7039975335657792,0.5589861720276418,0.7962280764044434,0.8142875128987748,0.8222578717376671,0.5989689325993556,0.5941952838931858,0.758925053759809,0.7551126296104784,0.8388229120452799,0.8311688368658777,0.848951754973913,0.6795091909742009,0.6275981514641823,0.6509811468997708,0.7267649456429102,0.6953534529522519,0.746044011732486,0.7218417725449103,0.7878901221364213,0.6741476058441249],[0.7809593574462971,0.8244257315656665,0.8085239493048729,0.7950584366902625,0.7972772587178429,0.771776889165795,0.7704395766216078,0.5437019766431662,0.5981948710591689,0.8185974374740589,0.8312041238296006,0.7886326908881299,0.7667226735407747,0.807660131140462,0.8338714064706905,0.7716405045050896,0.8080937426783286,0.7876589239366949,0.8469720078506915,0.7987751888057513,0.7875502622692894,0.8026639248377638,0.7859428328193238,0.782124119400083,0.8083670856715086,0.7974583750671194,0.7673567097499578,0.7712049158052142,0.7870754741210042,0.8807926888639774,0.7523938305675781,0.7884383692287731,0.792553761830425,0.9999999999999998,0.9813787856315903,0.6792773546942708,0.706778289038187,0.7002863560801282,0.7891502343438823,0.8120791462414017,0.8690125017401326,0.8767612752628904,0.8626502281804946,0.8570826510478846,0.8863103858470553,0.8669413731650323,0.9001772898285776,0.8532070420955797,0.8547491165140311,0.8863902308321203,0.8776802526757774,0.5490412059888438,0.5936611554416487,0.5634684942091996,0.8421720440445557,0.8343937983576533,0.852650198556101,0.6813263288632522,0.5288941321539256,0.7846781219278595,0.7944548755457881,0.7555484284762841,0.7893490698589337,0.7533037537759238,0.5561860103971631,0.5640355880296031,0.5733096216074616,0.6664186935020114,0.6735727904354882,0.6508462863261673,0.634989936317415,0.7873057739503846,0.6637326699177641],[0.7900039813044255,0.82934752199634,0.8281586836871292,0.7959396772504248,0.8101085566572492,0.780011577588637,0.7804891616860707,0.5668777945559462,0.5980394141292863,0.8298133965666445,0.8418724000845307,0.789127147437241,0.7780243009232416,0.8171230760865603,0.8410273648528752,0.7782238757529988,0.8167895949553052,0.8013654178489433,0.8633149829675779,0.8137696328631656,0.8028269933846053,0.813884965188222,0.799871762091601,0.8035169455138552,0.8208981113068439,0.810875266366156,0.7769313330127233,0.7774760075443756,0.8098249359053128,0.9062908149482999,0.7657719393599574,0.8005091260121503,0.7981743399671443,0.9813787856315903,0.9999999999999994,0.6806163981398311,0.7235463560139452,0.719421089261255,0.7716111285083898,0.8186580437660965,0.8605817186908441,0.8600595231248662,0.842870354534665,0.8413561919713675,0.86195860650052,0.8463772474297075,0.8748824066846095,0.8987140195284771,0.8794935450213903,0.9355333425031822,0.9045737431616487,0.561646329423539,0.6057877969696949,0.5576514205501482,0.8567360161861228,0.8573166371144332,0.8746614555265153,0.719407758072024,0.5526389118205375,0.7766287112112309,0.7764898432919616,0.75615516301535,0.7845449530506304,0.7508978471977447,0.5619684366665172,0.5788481274719613,0.5926458324168548,0.6729479192305297,0.6798988230507197,0.6471375124775762,0.6263714568802694,0.7827577717502517,0.6571718303752265],[0.7400065821009414,0.7828289868467824,0.8044477126836518,0.7604405740140358,0.8248820044858389,0.773180383504258,0.7439202908166274,0.5881018737122242,0.5268972845506052,0.7693639620451124,0.8124371919536093,0.7589327938582962,0.795364947765898,0.7899064374767633,0.7920068042269595,0.7851093362538717,0.7838407614954068,0.7748608033485722,0.7768364074476157,0.7496668337205963,0.7982255012174744,0.8111211015620281,0.7364614670239366,0.7745856951377912,0.7450726479318746,0.7722429524387437,0.7056649807448894,0.7448304296701524,0.6598785211557932,0.7482889599093551,0.7145266902483973,0.7114225981081458,0.6908782917469997,0.6792773546942708,0.6806163981398311,1.0000000000000004,0.6992421673768703,0.6697462717236426,0.7271796549412145,0.7260515363048414,0.7208697870942163,0.7122229599824561,0.7035166322680607,0.7318044971870864,0.7057658591568216,0.7113197695164171,0.7217140739919916,0.5513602404120423,0.6143480777482662,0.6326815816095986,0.6528897887215288,0.640707564266128,0.6886532785682594,0.4636692787969521,0.7051176077472666,0.7267183611861632,0.7077418146792819,0.49900095973019926,0.5494948832078086,0.7240729569740634,0.7304009889546731,0.7414325750529975,0.7465980202235093,0.6512435439740123,0.5574363178981738,0.5618447336781534,0.5539912470266988,0.661728557424381,0.6994266482049152,0.671801503819361,0.7001441877979983,0.7193927890867245,0.6695560461916472],[0.7927674108823591,0.7357371290753092,0.7623092741107517,0.8065512560398959,0.7558859406576199,0.7655652743707755,0.7508879436742936,0.5444104390364557,0.5177790654200133,0.7937267899456053,0.7948414717488014,0.7337102126304482,0.8038317641516366,0.7787255994989242,0.8065679788215261,0.786771921230436,0.7576710303375112,0.7695526409984581,0.7670330265725125,0.760518862965516,0.8103115802134426,0.7869017069497702,0.7651375497803496,0.7812632209656547,0.7717972795705628,0.7728836560057395,0.7244633232136767,0.6996166531891965,0.682894303141207,0.7478432370309533,0.7250895074429817,0.7441095551231321,0.7365147029548691,0.706778289038187,0.7235463560139452,0.6992421673768703,0.9999999999999991,0.7468407681041763,0.6535428938784562,0.721123706971692,0.76724371297825,0.7344722330247058,0.7544409175464817,0.7567187456054723,0.7097534888668396,0.7346191359830114,0.7252177481586327,0.591672101412754,0.6194591547548849,0.6300823162492611,0.6558459949239502,0.6228780756800208,0.6542117043774837,0.48029987647435246,0.7211823295303657,0.7354432739405934,0.6927526309394726,0.47153800351544206,0.5802646740250492,0.7141848191368951,0.6971755264602513,0.7140313459374819,0.6917035411019922,0.6792058972209774,0.5957605289776877,0.6366281269256582,0.6204736302717913,0.6315257510531909,0.6963461169160516,0.6756268898129841,0.6628989413243496,0.704758369022918,0.6301251272627759],[0.7663078775041067,0.7164436094799205,0.7625204046084152,0.7426778174017347,0.7515601185475058,0.7961125670213727,0.7346283148659349,0.5668202097664559,0.502890307025357,0.7655890276816792,0.7483604267436097,0.7078091395886665,0.7837005493389257,0.7668077883823861,0.7702547218541436,0.7241021162898672,0.7298497866764495,0.7319445678000733,0.7507100940404259,0.7518155234897361,0.7653393147192911,0.749233111957209,0.7379862991507891,0.7609437554276641,0.7697624854638023,0.7545417744104519,0.6897878552327811,0.6982225284329902,0.6586965172857918,0.755884119794777,0.715245948670205,0.7345539073082059,0.7398611127050916,0.7002863560801282,0.719421089261255,0.6697462717236426,0.7468407681041763,1.0000000000000002,0.6818945109931531,0.6939140025125682,0.7293734560534004,0.7139412468814107,0.7179479075874835,0.7392036319810316,0.6619333084822648,0.6980730244552006,0.6994747855582486,0.6242006587883046,0.6295230385364635,0.6587038414312547,0.6688491570605949,0.5922863669332188,0.654760655562853,0.48821642456153036,0.6869022801684883,0.7154640568615792,0.6951272215154918,0.4864570467546921,0.542724150116925,0.6581168164292095,0.6628697428236671,0.7007588912770648,0.6752255804034699,0.6892915036057359,0.5635872448124462,0.5907919054291257,0.5609521717186721,0.5953934500396849,0.6339114903433524,0.6321462446502067,0.6396076410467366,0.710096399626722,0.5932327294905609],[0.7298987576773823,0.7354616061133085,0.736697028760722,0.7507756086695628,0.7756879185055612,0.8027596294719896,0.7554842691648891,0.5801308484970619,0.5714489910313609,0.7677628222768933,0.7654184071690432,0.7869103281901311,0.7858699209032539,0.8411713454840097,0.8074728897804325,0.7670050624578608,0.7553546473170414,0.7595548050809607,0.805188862038428,0.7940911898158918,0.7718721697414477,0.7980036060663122,0.7945054931314174,0.7840822534445523,0.7574941481373374,0.8052044319430793,0.7237776970000267,0.7497208344634536,0.6713366573939894,0.8034492260660486,0.7378770620633062,0.7691459502772992,0.7730398019248069,0.7891502343438823,0.7716111285083898,0.7271796549412145,0.6535428938784562,0.6818945109931531,1.0000000000000004,0.7209344453495812,0.7521872946013493,0.7951407386893696,0.7640343045677926,0.7915922749884754,0.707113038577041,0.7188935036598274,0.7895825795367208,0.6226189301289436,0.6494968144887917,0.6775706568564099,0.6857623727347362,0.6104611173500727,0.6521070726721382,0.5209625641192545,0.713850018263931,0.7404325656433595,0.7499481369468987,0.5406906270450289,0.5820524489763975,0.7408612788549654,0.7518439480002578,0.8086412276742155,0.7759321619585168,0.7499611174330274,0.6026155392312619,0.6112890546114709,0.6058311406830119,0.7110706618436933,0.7164018368465398,0.6905118295437702,0.798945979644079,0.746452164050112,0.7205146292893556],[0.8348203662567856,0.8172826167725118,0.8137679611818003,0.796817359601691,0.8344915862684382,0.7745272326218948,0.8714714746312446,0.6208310973053401,0.6030650202928588,0.8906243725478473,0.8603964691955481,0.7612442196402827,0.8274716763885395,0.8297082557780768,0.8528123633528036,0.7914615219246928,0.8106136211561618,0.8117572189672,0.8323765707027757,0.8437087375507124,0.841481069816587,0.8371291694035579,0.8060463721847426,0.8065662339406723,0.8536421933670615,0.8182668002258615,0.7830771261103884,0.8296000737672862,0.7270873131743035,0.819880036830581,0.7777839911023545,0.8069596722268696,0.8401199381058977,0.8120791462414017,0.8186580437660965,0.7260515363048414,0.721123706971692,0.6939140025125682,0.7209344453495812,0.9999999999999998,0.865867974293132,0.8948571464219203,0.7998057298882995,0.8256130424274508,0.7680767197671217,0.8207263724141545,0.7852850695370802,0.6619455465873086,0.7081739294664838,0.7298423479518653,0.7551446158187539,0.582925132273558,0.6414280507329202,0.5324246968163215,0.777621490484949,0.8022185284681174,0.8088449020168644,0.6234076652631643,0.5854986113050122,0.7725044894382791,0.7189779045613303,0.7849630578169668,0.7527121614300206,0.7547495815302994,0.5991065647813727,0.5708691419324511,0.5826909498024834,0.7317152419271622,0.7150726641902405,0.7139636717843355,0.6662089915944674,0.8096842406681577,0.6679544482556048],[0.8857718674262052,0.8563344266972388,0.8763355060760729,0.8395031007793782,0.8780383208868638,0.8085115374220707,0.8520615846077172,0.5894006437399149,0.6507452894898279,0.8999057987349652,0.8965985641245527,0.8326552901615967,0.8484150152292169,0.8454383324789394,0.903882723488938,0.8474475377847803,0.8807350804863401,0.8326792556696787,0.8435037138843693,0.880630693265259,0.8629409879285861,0.8608742803525269,0.8634615391924101,0.8405340211927054,0.8876812632136999,0.8626468792022198,0.8224794204119315,0.7937189520619681,0.7559545672237341,0.8298691214562445,0.7989816895767443,0.8313995174779465,0.8584402446078819,0.8690125017401326,0.8605817186908441,0.7208697870942163,0.76724371297825,0.7293734560534004,0.7521872946013493,0.865867974293132,1.0000000000000009,0.8858917347587582,0.9184206654560199,0.9094486684387286,0.9115246981475127,0.9454010619693045,0.8903283089595608,0.6808026532355083,0.7212244208251795,0.7297427023139548,0.7754657159364045,0.6379169716739086,0.6567908565230659,0.5928973168055869,0.7994298726440641,0.8139741275288114,0.813176751351198,0.6100412523734383,0.5997327570165765,0.8206265148315718,0.8426198235186229,0.804390689526904,0.8055955259724961,0.7607153078158024,0.6562402753560955,0.6152108008397084,0.6652289897837094,0.7364464341765884,0.7071871288676901,0.7639003529615946,0.7202760649490316,0.8353502670858548,0.7190288617033705],[0.8357103551057334,0.8071507618438849,0.8049668235323348,0.8092013851236364,0.8385418664807851,0.7874206431036304,0.8120102453013234,0.6000509506050337,0.6410085791744519,0.8720703254752099,0.8289638702587819,0.7943128317728952,0.842761443654411,0.8377681366423313,0.8536330693943979,0.798630799807364,0.8366286917565524,0.8159234768486717,0.838885773126222,0.8405189751397835,0.8243502154512362,0.8372016245058835,0.8139684863244873,0.824682532995062,0.8395320766998348,0.8278681809095052,0.815123960376723,0.8953671794553565,0.7576238730633266,0.8758839659215301,0.7566047497827265,0.8012447005172629,0.8280579134488224,0.8767612752628904,0.8600595231248662,0.7122229599824561,0.7344722330247058,0.7139412468814107,0.7951407386893696,0.8948571464219203,0.8858917347587582,1.0000000000000002,0.8872131447961047,0.8523664842585296,0.8409290050178708,0.8600608907424667,0.8749579393115998,0.6606288277258734,0.7026619656366909,0.7212618095906436,0.7395677286725368,0.59923159697358,0.6261053774902273,0.5787904497092929,0.7725770201807727,0.7980210943235451,0.7719647595895014,0.6117052490562307,0.6002894942764125,0.7910022735260627,0.8070013488573973,0.8086519661991711,0.7926973336448639,0.7705809522105105,0.6147477056183487,0.5856041192014769,0.6229333472105731,0.7538207013173477,0.725503907444049,0.7261519340846638,0.6851281638303274,0.8282510966699513,0.7169213746535359],[0.8249177823664384,0.828392518313357,0.8346825521535609,0.7968242573519685,0.8426154699092399,0.7934583558282209,0.8060306793599263,0.5627168527127815,0.6324900770134976,0.8496774169238654,0.8546270377525403,0.8342476427485149,0.8480813011787465,0.8370327630267886,0.868125702765608,0.8135757800309862,0.9383277041787723,0.7981570955993424,0.8277770561395182,0.8612828039058766,0.8384183828612451,0.8240776010304676,0.8189361035435221,0.8275235691817162,0.8490014667189246,0.8427795529429897,0.9259788696561335,0.844972748888917,0.8758443099226529,0.8429450117895189,0.8062390156364183,0.8238643124871133,0.8215343716666645,0.8626502281804946,0.842870354534665,0.7035166322680607,0.7544409175464817,0.7179479075874835,0.7640343045677926,0.7998057298882995,0.9184206654560199,0.8872131447961047,1.0000000000000009,0.8866688410550236,0.8937332030682881,0.8995563025844457,0.8944672320733749,0.6534408295069425,0.7188808965679054,0.7064458967304797,0.7473523824903341,0.5908257713004818,0.6216542396175104,0.6037580619655426,0.7706755292381716,0.7845071873250278,0.7956838191581708,0.6187156046502008,0.6036068763925253,0.8145076058371534,0.8340569920223142,0.7703026211100088,0.7867273460364459,0.7519446621290728,0.6021155994612198,0.6112960491656888,0.6164871287163605,0.6969655914133036,0.6674327753222074,0.7089422117895893,0.6659619673862076,0.8062330181424,0.7178644860111338],[0.8381344691297331,0.8657888993412921,0.8501568726289498,0.8321490461969955,0.8505170159325071,0.8284621111102253,0.8154267734861598,0.6089140170887877,0.6162531743747036,0.8627519945856088,0.879804944171972,0.8368771698365236,0.82727692081517,0.8777198094960141,0.8911998971329183,0.8412226170372437,0.8577405917501827,0.7991188345605018,0.8487227676573159,0.8821169227147362,0.8505098966466118,0.8402279302609201,0.8662693583661569,0.8254838170040568,0.861887390594216,0.8597370022335438,0.800721502526597,0.7753056623260359,0.740451797385988,0.8256216470870056,0.8830194057673266,0.8905383584038901,0.8877656331690041,0.8570826510478846,0.8413561919713675,0.7318044971870864,0.7567187456054723,0.7392036319810316,0.7915922749884754,0.8256130424274508,0.9094486684387286,0.8523664842585296,0.8866688410550236,1.0000000000000004,0.8837613587447122,0.9277470202403142,0.8510930448256884,0.6669638640522377,0.7129378975993637,0.7197943884608894,0.785762412677429,0.586719778318225,0.6291892784392757,0.603911345469244,0.7883049073229283,0.7868100814965421,0.8186913190459963,0.612285217129533,0.5522112283999028,0.7953961014287475,0.831188571355921,0.8173350850021741,0.8219345968860327,0.7944013758604638,0.6377687621016677,0.6137409388679536,0.6221540469222233,0.7079330392756085,0.7087603700511629,0.7206181424525346,0.7368366705107912,0.8242652281892274,0.6971803182686327],[0.8142449939832783,0.8596715113637362,0.849604461554331,0.7944044127809761,0.8409266644674827,0.7415234812061604,0.7584887082622057,0.5411679397532465,0.6075087322413617,0.7991976272112036,0.8556909779129669,0.8154656345477578,0.7517878475396004,0.7904690096255788,0.8409629261789304,0.8140568538116447,0.8474874448522546,0.7787364809697492,0.8200883390402861,0.7776664647794573,0.782300647390527,0.7879497877062759,0.7950040224201087,0.7864458769990385,0.7823358270748664,0.7804474316070821,0.7558087297268019,0.7138163689170656,0.7445361180063352,0.7815127331079363,0.7151826686091186,0.7551403934796652,0.7478113787795859,0.8863103858470553,0.86195860650052,0.7057658591568216,0.7097534888668396,0.6619333084822648,0.707113038577041,0.7680767197671217,0.9115246981475127,0.8409290050178708,0.8937332030682881,0.8837613587447122,1.0000000000000004,0.9553330182666631,0.9022665828205925,0.6945361560994855,0.7801094916504138,0.7487069402484963,0.8106324220808439,0.5667905713067133,0.576696222130049,0.5666519642674829,0.8286000949901797,0.8121813644158319,0.7819316227780031,0.6701816859614126,0.5135466262600892,0.8078298286940087,0.8536907276368622,0.7323116998629123,0.7964790234320499,0.7293037933184363,0.5837671843554494,0.5561408936517214,0.5720778881682532,0.6590737486623589,0.6489005803593239,0.6922629849941477,0.6632040131065761,0.7865539255002323,0.6734213242856313],[0.8515142510750553,0.8816244248449839,0.8701033384456119,0.8036860029946346,0.8728002098443479,0.7554397840616986,0.7987141604071476,0.5990469932634654,0.6472503732850385,0.8417650136883252,0.8857285624779343,0.8099036570262321,0.7697199001224362,0.812602699101701,0.8671951213134714,0.8345937312173527,0.8622931237055065,0.7670940519519764,0.803844371338436,0.8191000698092183,0.808068327356892,0.8147410200225516,0.820624176923043,0.7924915712646768,0.81485007657368,0.8007340682605003,0.7568216954839826,0.7331447605825347,0.7013131817522263,0.779703663366513,0.7516401185169852,0.7916197445882424,0.8061820345661986,0.8669413731650323,0.8463772474297075,0.7113197695164171,0.7346191359830114,0.6980730244552006,0.7188935036598274,0.8207263724141545,0.9454010619693045,0.8600608907424667,0.8995563025844457,0.9277470202403142,0.9553330182666631,1.0000000000000004,0.9070180599332559,0.6688427444020266,0.6880872886354182,0.7014304566728669,0.7696549212575636,0.5781437148738782,0.5943034215999786,0.6008190113270138,0.7558996962876945,0.7545327505657932,0.7619316561739814,0.5818878675388129,0.5195354427077353,0.8032696690448176,0.8466578522955919,0.765384014014293,0.7759791500993407,0.7444436798285917,0.6213057619605764,0.5761864496736262,0.5889310580342652,0.6948576509486143,0.6704918595667457,0.7314785302958631,0.7139601025819541,0.8343033530190993,0.6935455342402562],[0.7994428561555701,0.7835709157442639,0.8085325785078723,0.7617244954071519,0.8342669495442967,0.7553773335539555,0.7762272502902092,0.5539001175224265,0.6194457600612103,0.7997490583786726,0.8321081351046516,0.7776580648638978,0.7738477830382138,0.8022428157938063,0.812980183812483,0.7760902938768532,0.8161215718415809,0.7513966685089448,0.7951310979750604,0.7803861837994275,0.8006304756930134,0.8184093419690652,0.7868411596542848,0.7750107847871857,0.7691539824162676,0.7900830491280602,0.7434070664364899,0.7636211479061445,0.7150671163405401,0.8191713792382802,0.706390600291989,0.727010680284715,0.7362066773162519,0.9001772898285776,0.8748824066846095,0.7217140739919916,0.7252177481586327,0.6994747855582486,0.7895825795367208,0.7852850695370802,0.8903283089595608,0.8749579393115998,0.8944672320733749,0.8510930448256884,0.9022665828205925,0.9070180599332559,0.9999999999999998,0.6885011582309899,0.6795224983739208,0.7135311616607696,0.7237613249423982,0.5663770434514129,0.6229728770874786,0.567932388939705,0.7244121636176503,0.7407240723257397,0.735212561767566,0.562062340000687,0.5854504152092449,0.8330608780718626,0.8085803113922889,0.73164098561762,0.7269828335873587,0.7015004198385073,0.5180851387968941,0.5618630174588906,0.5653849921247276,0.6652958387323175,0.6647146130702672,0.6988005594926749,0.6734074623722657,0.8005974746292498,0.793762279701582],[0.6428410375255957,0.7295951812058801,0.720911609137287,0.6734712148564298,0.6599990922124017,0.635190496949883,0.6206347277183619,0.4947596178802001,0.5199960170313799,0.6817591882187697,0.7289676743539006,0.689851394405001,0.6226677048292629,0.6841233099284343,0.7106491944655096,0.6678269195311192,0.6838776445590722,0.7107428786220116,0.7584196668591924,0.6784184620857008,0.6620161111958042,0.6677334747261843,0.6731357188544349,0.6800825973592669,0.6833386189510667,0.6677227164653599,0.6355664846468689,0.6395965727963496,0.7376552661494712,0.8329908226267524,0.6463300159139183,0.6790447563406157,0.6609499442093165,0.8532070420955797,0.8987140195284771,0.5513602404120423,0.591672101412754,0.6242006587883046,0.6226189301289436,0.6619455465873086,0.6808026532355083,0.6606288277258734,0.6534408295069425,0.6669638640522377,0.6945361560994855,0.6688427444020266,0.6885011582309899,1.0,0.8704417672797736,0.9542785281147912,0.8841140428964606,0.539375742952653,0.5598105147605159,0.4796928768121931,0.7760135611921133,0.7830439315081028,0.7890824166389445,0.6730302577429483,0.49235501063681497,0.6136350184208533,0.6469528046878872,0.6244643951859897,0.6691477790681397,0.6219140725393216,0.4831053452615215,0.5153366601521344,0.4888091454663852,0.5774581670135243,0.5393170170206768,0.5085944744129093,0.5366751272667584,0.6494964690986442,0.4880261481043798],[0.681326696448469,0.7563552763939101,0.7426740373555146,0.7243647642011812,0.6859857949864223,0.7041860970009219,0.6875172377675424,0.48060080977015807,0.4906119212806056,0.7458803351878867,0.7544695394368826,0.7629165291369956,0.7236267802597212,0.7477674584737963,0.7885659716325393,0.7212582911385452,0.7487304344655364,0.7974913965934578,0.828780286853888,0.7357265317044905,0.7307611279997446,0.7061464209684337,0.7092377394881085,0.7520572528801959,0.7775796673500852,0.7427252368318871,0.7502491067957342,0.6979111165568349,0.8466160215884704,0.8190279188973749,0.7153409086638076,0.7526951245388245,0.7181131023428255,0.8547491165140311,0.8794935450213903,0.6143480777482662,0.6194591547548849,0.6295230385364635,0.6494968144887917,0.7081739294664838,0.7212244208251795,0.7026619656366909,0.7188808965679054,0.7129378975993637,0.7801094916504138,0.6880872886354182,0.6795224983739208,0.8704417672797736,1.0000000000000004,0.9341125955287403,0.8960499059323046,0.5379082584458545,0.569273221714994,0.4621020555711861,0.9345818463125113,0.911616384181939,0.8689496518553087,0.8247158170762949,0.5065491694925677,0.6620299547967647,0.7099088816078442,0.6612409336937422,0.7351187866205036,0.7053094323188689,0.523191020890465,0.5145210303882635,0.5155049321635636,0.5837359811387848,0.599211380798006,0.5723049483564813,0.5538075364077475,0.6621687035226208,0.5232976066511728],[0.6978687546973507,0.7758349513874118,0.775446114919986,0.7237362010503449,0.7208586294862352,0.7074048693787397,0.6897993915745434,0.5174540625479435,0.5186246331296133,0.7462850441378062,0.771950254437944,0.7308902512287501,0.7043696798431862,0.7462371902493744,0.7665584534326809,0.7030211307003509,0.7443200676603945,0.7634900854091206,0.8338942631895657,0.741665214738723,0.7312523911134496,0.7276618392484873,0.7205934119596495,0.7486138594885683,0.7616794045383422,0.7360566528932322,0.7204580606798244,0.7066759638653207,0.8047024952196716,0.8638406676305377,0.7140238009498924,0.7488666624081096,0.7260027289347128,0.8863902308321203,0.9355333425031822,0.6326815816095986,0.6300823162492611,0.6587038414312547,0.6775706568564099,0.7298423479518653,0.7297427023139548,0.7212618095906436,0.7064458967304797,0.7197943884608894,0.7487069402484963,0.7014304566728669,0.7135311616607696,0.9542785281147912,0.9341125955287403,1.0000000000000004,0.9355990674104122,0.5469581847262986,0.5834078261784915,0.47329888124113595,0.8624104739649106,0.8677915597526284,0.8719165202332392,0.76886228621858,0.5225937645219113,0.6672998106252173,0.6719622136162201,0.6806404885455625,0.7291500543140685,0.7115712213678522,0.5076823729700982,0.5161011054689114,0.5327495052532071,0.6081120433326862,0.6055430813151562,0.5670951281580519,0.5577908664394408,0.6854378071948626,0.5368201666173933],[0.7491370650829078,0.8786104263747163,0.8332659877002426,0.7854245055934443,0.7559295356273446,0.7366316255562692,0.7195621018363119,0.5400641551479128,0.5204349625757712,0.7781029301102151,0.8524684564643341,0.7801972684542661,0.7262741367628085,0.7726115604640681,0.8135732717636986,0.77369607430682,0.7882739986416075,0.792192085212917,0.8833177583773839,0.7696964622903029,0.7644484558300529,0.7710187868737487,0.7576457079327684,0.7793114217095666,0.7757462604463607,0.7583993643322984,0.7218793453494661,0.6869214891852061,0.7605943061165656,0.8117474226996353,0.7471324133055411,0.7977038081435147,0.7662954208131665,0.8776802526757774,0.9045737431616487,0.6528897887215288,0.6558459949239502,0.6688491570605949,0.6857623727347362,0.7551446158187539,0.7754657159364045,0.7395677286725368,0.7473523824903341,0.785762412677429,0.8106324220808439,0.7696549212575636,0.7237613249423982,0.8841140428964606,0.8960499059323046,0.9355990674104122,0.9999999999999999,0.5909648105702201,0.6189799769642002,0.515277433521971,0.8916529676891921,0.89010753310822,0.8672061949324563,0.7638970161797723,0.510999280648081,0.6957364109328145,0.7179759429419441,0.7061883680339482,0.787922462891218,0.7506528383540063,0.5618968491792276,0.540806576512297,0.5523313070247331,0.6227974171190631,0.6110302716815815,0.5877436861017931,0.5970282231263537,0.7112567720101675,0.5519037118795731],[0.6991087121799393,0.658866975693681,0.720899523633458,0.7447830326646895,0.689305264806237,0.6731744779220081,0.6705418147619615,0.4962438695942169,0.4812923271720245,0.700902384689486,0.7358961534163657,0.7256406681823306,0.725729319683316,0.7040603315918732,0.7510195774666746,0.7813618481125674,0.6825855179929133,0.8293811291631403,0.7543461982363092,0.715926677490813,0.7184455608041881,0.7371663430534083,0.7152825651212786,0.7370982633790393,0.6844246045402282,0.7005824611679112,0.6054936300051429,0.6072610680255106,0.5509380996568708,0.6285290986618878,0.6050900242857664,0.6680296877362805,0.6522643552635139,0.5490412059888438,0.561646329423539,0.640707564266128,0.6228780756800208,0.5922863669332188,0.6104611173500727,0.582925132273558,0.6379169716739086,0.59923159697358,0.5908257713004818,0.586719778318225,0.5667905713067133,0.5781437148738782,0.5663770434514129,0.539375742952653,0.5379082584458545,0.5469581847262986,0.5909648105702201,0.9999999999999998,0.9140166589571235,0.4474784786582018,0.6775005158222448,0.7116103997475096,0.5891030476155853,0.44780756322847104,0.6423648493414887,0.6265431763319473,0.6806879043194342,0.6618784274957838,0.6750599728427147,0.6262013869519543,0.683797122279743,0.5655451189050894,0.6727952518392354,0.5836006173486357,0.6249010002777128,0.6464683569357599,0.6508864594667924,0.605708500248514,0.5554003381241287],[0.7185260411285671,0.6778246847201618,0.7459165277850733,0.7891583671665973,0.714738045779764,0.7530823464097853,0.7087169409445437,0.4946004088647325,0.4572057065875443,0.7374371004583844,0.7561138903855394,0.7191001157374681,0.7556496633623802,0.7437535215580892,0.7578316114940107,0.7721969104680446,0.7048093439749719,0.8239485625157652,0.767175263896474,0.7506496801624966,0.78339409644119,0.7735440130265874,0.7355038896022357,0.7392711507832235,0.7225598573629706,0.7354332343542067,0.6387702439500553,0.6365571687968044,0.5911434150486778,0.678805436831498,0.665853198225899,0.7119355661657408,0.7039975335657792,0.5936611554416487,0.6057877969696949,0.6886532785682594,0.6542117043774837,0.654760655562853,0.6521070726721382,0.6414280507329202,0.6567908565230659,0.6261053774902273,0.6216542396175104,0.6291892784392757,0.576696222130049,0.5943034215999786,0.6229728770874786,0.5598105147605159,0.569273221714994,0.5834078261784915,0.6189799769642002,0.9140166589571235,1.0,0.39635640639251046,0.7086852954115042,0.7221690612013179,0.6407390665902366,0.4613724357489547,0.6228073476203315,0.6629574472163675,0.6475337918060315,0.7060779268934447,0.7009541003662253,0.6623828807121548,0.6132436673043169,0.5578937717874307,0.6150559806441899,0.5873086220073502,0.6549460935897378,0.6305243638030009,0.6502007605406629,0.61820686732265,0.6046692238121298],[0.5464666507372287,0.6010265826589447,0.586192170147414,0.5103729008148011,0.602689878559947,0.49572601535359706,0.5556719244828284,0.44425825164061256,0.45454079538310244,0.5512381936692267,0.6198858649675003,0.5897175416105074,0.5514473002906264,0.5748987309811172,0.6222322033733594,0.6089587269231097,0.624447522223244,0.5431373034433917,0.5890236728005416,0.5865562379006983,0.5598389519246727,0.5675226892786851,0.5642422678970169,0.5991551370738325,0.58518696942936,0.5499592715175285,0.5691556860722256,0.6015065087797272,0.5170450319081181,0.5607618405110192,0.5429057882542099,0.5549320991309931,0.5589861720276418,0.5634684942091996,0.5576514205501482,0.4636692787969521,0.48029987647435246,0.48821642456153036,0.5209625641192545,0.5324246968163215,0.5928973168055869,0.5787904497092929,0.6037580619655426,0.603911345469244,0.5666519642674829,0.6008190113270138,0.567932388939705,0.4796928768121931,0.4621020555711861,0.47329888124113595,0.515277433521971,0.4474784786582018,0.39635640639251046,1.0000000000000007,0.4963029892591545,0.5195665123670673,0.5074262127537117,0.43743325077408,0.45086935850903226,0.5281979483373607,0.6376155845817714,0.477436725105059,0.5114143363340382,0.5073171764185787,0.6111809311049007,0.3942308172610323,0.3975993198539405,0.4716938549435512,0.3851883037424735,0.5247595797221398,0.5314786326590776,0.5483021201439822,0.43183748085869145],[0.7849932360744013,0.8256246124708118,0.8274093621844397,0.8771925624686043,0.7730585012750508,0.7910647746449129,0.7845346928114925,0.5369562019429268,0.5199621765797264,0.8425014037383682,0.8449164223442318,0.8319373386181739,0.8262818475437406,0.8390890442546979,0.8739016072532493,0.8373884276117975,0.8147398162539815,0.9106622075959123,0.9029992904669308,0.8152362114169485,0.830161974845774,0.810346100865341,0.811089339187383,0.8497246062453246,0.8456635090533329,0.8234753922413001,0.7846142488129113,0.7429276842256519,0.8144961993481523,0.8241963248621916,0.7806534922222336,0.8232507574414526,0.7962280764044434,0.8421720440445557,0.8567360161861228,0.7051176077472666,0.7211823295303657,0.6869022801684883,0.713850018263931,0.777621490484949,0.7994298726440641,0.7725770201807727,0.7706755292381716,0.7883049073229283,0.8286000949901797,0.7558996962876945,0.7244121636176503,0.7760135611921133,0.9345818463125113,0.8624104739649106,0.8916529676891921,0.6775005158222448,0.7086852954115042,0.4963029892591545,0.9999999999999998,0.9680856481741218,0.8928498950630055,0.8077408824218948,0.5934347230435425,0.7458571721739242,0.7736224736737282,0.7671743636220908,0.8092715994074355,0.7784318711543643,0.6133284874826814,0.5871252446201587,0.6300417261361437,0.6481789334790536,0.7083145114506729,0.6855605032346848,0.6549701795972941,0.7229016595590682,0.6112844019604108],[0.8050983459507768,0.8301239320273215,0.843637485874138,0.8467033463883773,0.7994571731729033,0.7960726540140419,0.820529465618169,0.5719755429928715,0.5510561748030184,0.8655801316680105,0.8681016626995816,0.8598747427607971,0.8728469567829613,0.8571310264596872,0.904853921364919,0.8582496745107212,0.8342746920104227,0.9279744430133066,0.9318779684143309,0.8512103175069927,0.8596138380072563,0.8325388433594256,0.8260663068421901,0.8938386871391425,0.8798448120975979,0.8542308927610194,0.8182836061375696,0.7826573074935119,0.8291993544147611,0.8387815410287964,0.7980833182274831,0.8424693683017981,0.8142875128987748,0.8343937983576533,0.8573166371144332,0.7267183611861632,0.7354432739405934,0.7154640568615792,0.7404325656433595,0.8022185284681174,0.8139741275288114,0.7980210943235451,0.7845071873250278,0.7868100814965421,0.8121813644158319,0.7545327505657932,0.7407240723257397,0.7830439315081028,0.911616384181939,0.8677915597526284,0.89010753310822,0.7116103997475096,0.7221690612013179,0.5195665123670673,0.9680856481741218,1.0000000000000004,0.8809416747132379,0.7979978885375235,0.6314494889688559,0.7605579609923006,0.7815200025213132,0.7741114240853915,0.815865680662722,0.7977989630463587,0.6497824644676029,0.6058299528969054,0.6666456848598858,0.6949108527811936,0.7228761288221391,0.7253164873713639,0.6888164856691635,0.747221696552469,0.6520211983426163],[0.7793621730230984,0.7882926482072634,0.8008642728719513,0.801906852247124,0.7696410418256558,0.7968535754797242,0.7882887237161375,0.550273855193914,0.5191986760824421,0.842808502453079,0.815808697018732,0.7781848848883917,0.8037964041107855,0.8163126669932631,0.836332741221476,0.7579977653916903,0.8268797085107551,0.8308859508351585,0.8529209945607924,0.8296488669706747,0.8162057577486619,0.7968567170228005,0.7833787867959179,0.8059030883864076,0.8500197347054138,0.8238693609926362,0.821197654261046,0.7641840115673942,0.8371523542602282,0.8502080828036714,0.8251786349588606,0.8327649607173422,0.8222578717376671,0.852650198556101,0.8746614555265153,0.7077418146792819,0.6927526309394726,0.6951272215154918,0.7499481369468987,0.8088449020168644,0.813176751351198,0.7719647595895014,0.7956838191581708,0.8186913190459963,0.7819316227780031,0.7619316561739814,0.735212561767566,0.7890824166389445,0.8689496518553087,0.8719165202332392,0.8672061949324563,0.5891030476155853,0.6407390665902366,0.5074262127537117,0.8928498950630055,0.8809416747132379,0.9999999999999994,0.7679381580393255,0.5776463602976544,0.7263417304242659,0.7165766760818962,0.773302733751442,0.7803167598617746,0.7373522183146478,0.5567409521968563,0.5490081006807798,0.5802992820907179,0.6730450379318147,0.6845016466936578,0.6466615964872222,0.6394981018809835,0.747424229873849,0.6050470596022672],[0.5967470746301335,0.6319334276034055,0.6382673976037627,0.5836358707693295,0.5992992999731532,0.5720594868199183,0.5906771870939393,0.39545416595991306,0.37400070783184947,0.6234236630194291,0.6215198491576048,0.6335847636568637,0.6208527512540061,0.617075802689089,0.647104304796402,0.5904941861415347,0.6527488640820405,0.6776242885290397,0.7056346372233614,0.6275830142365058,0.6002892380974914,0.5797000046350841,0.6054968729741363,0.6574641728404104,0.65129543523199,0.6137799645135242,0.6553500023867692,0.611516545272753,0.7133948503600283,0.6549475128910405,0.6229480097241488,0.6415877577684604,0.5989689325993556,0.6813263288632522,0.719407758072024,0.49900095973019926,0.47153800351544206,0.4864570467546921,0.5406906270450289,0.6234076652631643,0.6100412523734383,0.6117052490562307,0.6187156046502008,0.612285217129533,0.6701816859614126,0.5818878675388129,0.562062340000687,0.6730302577429483,0.8247158170762949,0.76886228621858,0.7638970161797723,0.44780756322847104,0.4613724357489547,0.43743325077408,0.8077408824218948,0.7979978885375235,0.7679381580393255,1.0000000000000007,0.4717332368043065,0.5393361530781156,0.5782178220646406,0.565982831124775,0.5954488124373889,0.5938064418827739,0.4194638437445108,0.4098717336048921,0.44591928351763627,0.5107465077091462,0.5094297344756362,0.4723473421941106,0.459276802914394,0.5490406528710154,0.4488759912401915],[0.6470592544544967,0.5741880159064764,0.6197453397491457,0.6333680670723014,0.6526828024862797,0.6154225770261507,0.6288250598644344,0.46579673040925373,0.4494671402557366,0.6492161454368001,0.6289576386880424,0.6741200373112315,0.677020207787999,0.6791271122477079,0.6526361624054939,0.6492064934541124,0.655450345489303,0.6926510319291311,0.649295140601318,0.6866762522993439,0.6667359805602067,0.6529506596566874,0.6950030254366384,0.6842501255359756,0.6621448531375047,0.6363900587099043,0.6365358991958359,0.6310954573907076,0.5928674705763559,0.665635423022156,0.5888010241183359,0.6013858200137251,0.5941952838931858,0.5288941321539256,0.5526389118205375,0.5494948832078086,0.5802646740250492,0.542724150116925,0.5820524489763975,0.5854986113050122,0.5997327570165765,0.6002894942764125,0.6036068763925253,0.5522112283999028,0.5135466262600892,0.5195354427077353,0.5854504152092449,0.49235501063681497,0.5065491694925677,0.5225937645219113,0.510999280648081,0.6423648493414887,0.6228073476203315,0.45086935850903226,0.5934347230435425,0.6314494889688559,0.5776463602976544,0.4717332368043065,1.0000000000000002,0.5948532732019739,0.5965336405336141,0.595296173165781,0.5717054017520478,0.6129725657318037,0.5101681640429987,0.5302864527172899,0.5919551964102614,0.550231720089722,0.6222662368609535,0.6184926869682867,0.5990796231572841,0.5741791340872976,0.5697948599717673],[0.7650101258097292,0.7765766673956536,0.7982397096972131,0.7991399403414637,0.7863632625344857,0.7767277528740626,0.8061498136156002,0.5460042668875689,0.5646668460436239,0.8217877637780511,0.8542130571822755,0.8035395392601764,0.7968118149351747,0.8232821529304086,0.8316851977179063,0.8115629525783381,0.8092143703573353,0.7931047811895853,0.8217750131597055,0.7935322570746697,0.8201180529068512,0.8369950548005052,0.833034040576606,0.7986556065707048,0.7876354346003738,0.8166427133985147,0.752458381698121,0.7495156649085605,0.6972100952709196,0.7673745371748382,0.7236270766307065,0.7619432387425843,0.758925053759809,0.7846781219278595,0.7766287112112309,0.7240729569740634,0.7141848191368951,0.6581168164292095,0.7408612788549654,0.7725044894382791,0.8206265148315718,0.7910022735260627,0.8145076058371534,0.7953961014287475,0.8078298286940087,0.8032696690448176,0.8330608780718626,0.6136350184208533,0.6620299547967647,0.6672998106252173,0.6957364109328145,0.6265431763319473,0.6629574472163675,0.5281979483373607,0.7458571721739242,0.7605579609923006,0.7263417304242659,0.5393361530781156,0.5948532732019739,0.9999999999999999,0.7732263966652042,0.7647433283212544,0.7712092832591706,0.7311548841870021,0.55790602921837,0.6354510548779583,0.5805181651587668,0.6710865630211019,0.6427623588880339,0.7010100669714666,0.6808136713559628,0.7454618539967682,0.7433653255507885],[0.805877732313465,0.836151902471512,0.8168649953094171,0.7894586179477796,0.8205554566123987,0.7808470175036977,0.7688904878596662,0.6265037293303755,0.6502265810882907,0.7890894449277909,0.8532377266627942,0.9174332045541755,0.8088357145615986,0.8293675346374463,0.8849028658829694,0.8832515270262915,0.8404491530663512,0.8316930788974097,0.823170688861757,0.8373764282022194,0.8003635120730597,0.8122193288747621,0.837118657255234,0.8431496748850325,0.8001227791629231,0.810586647390374,0.7598226500527484,0.7772072671166272,0.7404761641936926,0.7981942793328926,0.7418407197012411,0.7628814046901664,0.7551126296104784,0.7944548755457881,0.7764898432919616,0.7304009889546731,0.6971755264602513,0.6628697428236671,0.7518439480002578,0.7189779045613303,0.8426198235186229,0.8070013488573973,0.8340569920223142,0.831188571355921,0.8536907276368622,0.8466578522955919,0.8085803113922889,0.6469528046878872,0.7099088816078442,0.6719622136162201,0.7179759429419441,0.6806879043194342,0.6475337918060315,0.6376155845817714,0.7736224736737282,0.7815200025213132,0.7165766760818962,0.5782178220646406,0.5965336405336141,0.7732263966652042,1.0,0.7799986948939213,0.8305766271830834,0.7177049022112038,0.7035440043329579,0.6244118471814686,0.6460009544047163,0.7067698460082905,0.6807891114423487,0.7001584898588462,0.7294882236522362,0.7933158972393721,0.689433341969593],[0.7924271670783093,0.7989847253786,0.7913472092650186,0.843068753785234,0.7953400005264866,0.8337872413889997,0.8144996802686169,0.5911696791957584,0.5618321246212384,0.8448873178739398,0.8132967340064899,0.8300838374636104,0.828943339480305,0.8744365681523656,0.8679291118718933,0.8118072804810461,0.8170870953001873,0.8202000622105747,0.8239068961303623,0.8448267491226922,0.8248179794456236,0.8441273211583478,0.8606900892849974,0.8309439749491904,0.8047599037398577,0.8400735389765437,0.7597273316768126,0.7841155921293123,0.6918518036923018,0.8236527921341963,0.7861261599458347,0.8302269337263368,0.8388229120452799,0.7555484284762841,0.75615516301535,0.7414325750529975,0.7140313459374819,0.7007588912770648,0.8086412276742155,0.7849630578169668,0.804390689526904,0.8086519661991711,0.7703026211100088,0.8173350850021741,0.7323116998629123,0.765384014014293,0.73164098561762,0.6244643951859897,0.6612409336937422,0.6806404885455625,0.7061883680339482,0.6618784274957838,0.7060779268934447,0.477436725105059,0.7671743636220908,0.7741114240853915,0.773302733751442,0.565982831124775,0.595296173165781,0.7647433283212544,0.7799986948939213,0.9999999999999999,0.895874893742532,0.8074003062432794,0.6273042716385222,0.6394975179409468,0.6459409360847282,0.7443416911964877,0.7525001866269581,0.7328940767573832,0.7446868340039496,0.7525476960121925,0.6863976227522941],[0.7995666386401517,0.8644365955128013,0.8061004535980206,0.8401036844800559,0.8012527717902176,0.838930497943694,0.7835646944900092,0.5985250160346774,0.581861983058892,0.82278838626103,0.8463482920261456,0.8819317571459794,0.8122533264516141,0.8587032695661967,0.871566771843679,0.8495807440551579,0.839164556686206,0.819892647790271,0.8551198241929929,0.8602645485447937,0.8269694228058219,0.8403654093888091,0.8544176317589084,0.8286130597925638,0.8096399233805736,0.8469497335831788,0.7786566987402666,0.7735159417109604,0.738931963652055,0.826674243259661,0.7899197291343039,0.8358739090021766,0.8311688368658777,0.7893490698589337,0.7845449530506304,0.7465980202235093,0.6917035411019922,0.6752255804034699,0.7759321619585168,0.7527121614300206,0.8055955259724961,0.7926973336448639,0.7867273460364459,0.8219345968860327,0.7964790234320499,0.7759791500993407,0.7269828335873587,0.6691477790681397,0.7351187866205036,0.7291500543140685,0.787922462891218,0.6750599728427147,0.7009541003662253,0.5114143363340382,0.8092715994074355,0.815865680662722,0.7803167598617746,0.5954488124373889,0.5717054017520478,0.7712092832591706,0.8305766271830834,0.895874893742532,1.0,0.8129311949465416,0.6753913041378165,0.6143028554684046,0.6477735851929298,0.73134983761658,0.6884649200513648,0.7037395481550923,0.6853076587398331,0.7529744267815685,0.6635463135060067],[0.7642953362281999,0.8124482184733814,0.7924239430712261,0.7837810131258636,0.77793962861401,0.7841404882282706,0.7885275362918042,0.5706568354065336,0.5682829760364492,0.8160375416161894,0.8006470789478776,0.8095526685348274,0.7936824310756199,0.8423848767953895,0.8323012567022214,0.790418516181243,0.7922994686576563,0.7763047810416988,0.8269544014556065,0.8148983200466855,0.8050353080620911,0.8108934624063611,0.8302604459213546,0.8085939126004882,0.8113128367396243,0.8230284913718722,0.7574456729701557,0.7568669609225317,0.6998027334613723,0.7817982186796127,0.7631474077208908,0.8285293182583651,0.848951754973913,0.7533037537759238,0.7508978471977447,0.6512435439740123,0.6792058972209774,0.6892915036057359,0.7499611174330274,0.7547495815302994,0.7607153078158024,0.7705809522105105,0.7519446621290728,0.7944013758604638,0.7293037933184363,0.7444436798285917,0.7015004198385073,0.6219140725393216,0.7053094323188689,0.7115712213678522,0.7506528383540063,0.6262013869519543,0.6623828807121548,0.5073171764185787,0.7784318711543643,0.7977989630463587,0.7373522183146478,0.5938064418827739,0.6129725657318037,0.7311548841870021,0.7177049022112038,0.8074003062432794,0.8129311949465416,1.0,0.682060417601117,0.5706224653254955,0.6229312188931132,0.6560835159228803,0.6696328500623535,0.7448704358707723,0.6951797715267234,0.717708974823759,0.6366091969101947],[0.6733395352642055,0.6663020886367012,0.6725986268608185,0.647061131548178,0.6961731541088186,0.619049545604095,0.6402940424019471,0.5677970029108831,0.5448574914951748,0.6694207173440904,0.6895078170201365,0.7087950283282055,0.6849228402798891,0.6736832169781732,0.7369562266072123,0.7384462239423213,0.6862291324750275,0.6913491487812984,0.6802998923612265,0.712749432436233,0.6574842211122988,0.6768456137993296,0.7052019441019134,0.7029191491869977,0.6827768861529528,0.6829251173164186,0.6283233655832321,0.6179883901375872,0.5566647013401761,0.6267169349973271,0.6018217708472116,0.6479615536006433,0.6795091909742009,0.5561860103971631,0.5619684366665172,0.5574363178981738,0.5957605289776877,0.5635872448124462,0.6026155392312619,0.5991065647813727,0.6562402753560955,0.6147477056183487,0.6021155994612198,0.6377687621016677,0.5837671843554494,0.6213057619605764,0.5180851387968941,0.4831053452615215,0.523191020890465,0.5076823729700982,0.5618968491792276,0.683797122279743,0.6132436673043169,0.6111809311049007,0.6133284874826814,0.6497824644676029,0.5567409521968563,0.4194638437445108,0.5101681640429987,0.55790602921837,0.7035440043329579,0.6273042716385222,0.6753913041378165,0.682060417601117,0.9999999999999998,0.5657471022531584,0.6405878524503704,0.6266919847874514,0.5481997008569635,0.6834095595438328,0.6565309425261208,0.6172254695374889,0.47542531483412587],[0.598190278470414,0.646911714795171,0.6291173535071364,0.6680276037915885,0.6214025675786267,0.6571513526979513,0.6576289286560167,0.5287125175576437,0.506135169246588,0.6748461975833582,0.662661603033845,0.6698943550962966,0.6754874005765774,0.7416669282690466,0.6946718054062543,0.7009591907769701,0.6458838620287302,0.6728743893064868,0.6648396780286101,0.6456961066625646,0.6299046715223339,0.6798468424046356,0.7073342574674709,0.6404806876318458,0.6219972148310461,0.6748260031088393,0.5960912973401451,0.5824213487372101,0.5449420941124941,0.6411007014885826,0.5811251085244785,0.6215045331272284,0.6275981514641823,0.5640355880296031,0.5788481274719613,0.5618447336781534,0.6366281269256582,0.5907919054291257,0.6112890546114709,0.5708691419324511,0.6152108008397084,0.5856041192014769,0.6112960491656888,0.6137409388679536,0.5561408936517214,0.5761864496736262,0.5618630174588906,0.5153366601521344,0.5145210303882635,0.5161011054689114,0.540806576512297,0.5655451189050894,0.5578937717874307,0.3942308172610323,0.5871252446201587,0.6058299528969054,0.5490081006807798,0.4098717336048921,0.5302864527172899,0.6354510548779583,0.6244118471814686,0.6394975179409468,0.6143028554684046,0.5706224653254955,0.5657471022531584,1.0000000000000004,0.6341933565112001,0.6065375192321283,0.566957340250906,0.5739447332973813,0.5984111022258107,0.6115442579374303,0.583413430589914],[0.6736163893313446,0.6435031431543554,0.6687044448491324,0.6855842688978935,0.6755262248235432,0.6671009978676835,0.6766835078806269,0.5235866264505584,0.4522441826402602,0.6981007951414062,0.6612109885832357,0.7043737182602046,0.7386391355732926,0.7060149049169464,0.7096501194307372,0.7050444255728494,0.660940782700407,0.7188810589267346,0.715434572871445,0.6796421821006957,0.6533941220510235,0.6923729635157869,0.7257930041876227,0.6978667625465753,0.6880381153459363,0.6871695366185675,0.6131302433194084,0.6154741461842216,0.5602547373608696,0.6579496283710876,0.6107680784030606,0.638862253766103,0.6509811468997708,0.5733096216074616,0.5926458324168548,0.5539912470266988,0.6204736302717913,0.5609521717186721,0.6058311406830119,0.5826909498024834,0.6652289897837094,0.6229333472105731,0.6164871287163605,0.6221540469222233,0.5720778881682532,0.5889310580342652,0.5653849921247276,0.4888091454663852,0.5155049321635636,0.5327495052532071,0.5523313070247331,0.6727952518392354,0.6150559806441899,0.3975993198539405,0.6300417261361437,0.6666456848598858,0.5802992820907179,0.44591928351763627,0.5919551964102614,0.5805181651587668,0.6460009544047163,0.6459409360847282,0.6477735851929298,0.6229312188931132,0.6405878524503704,0.6341933565112001,1.0,0.6004680651555467,0.5853239686983134,0.6702486041635857,0.595473110579478,0.6096924319894796,0.549221017437227],[0.7249260350234313,0.7094105922963053,0.7143502074151071,0.6947609879173741,0.7670754271684754,0.7199709940647031,0.7080270554373465,0.764399867555325,0.6952944102850216,0.7477679930720299,0.7361024482389114,0.7466950157091431,0.7493549597461056,0.75397535024359,0.776868671994643,0.7451159373658626,0.7328663520149801,0.7082947490366016,0.7303806831641307,0.7632831490845193,0.7152696427733318,0.744655114650201,0.7720557562062427,0.7453760749762708,0.7315470948120735,0.7406186308203787,0.6944419038675822,0.7156357395905105,0.6345362529816763,0.7421012637586131,0.6548894872701596,0.7124998211065386,0.7267649456429102,0.6664186935020114,0.6729479192305297,0.661728557424381,0.6315257510531909,0.5953934500396849,0.7110706618436933,0.7317152419271622,0.7364464341765884,0.7538207013173477,0.6969655914133036,0.7079330392756085,0.6590737486623589,0.6948576509486143,0.6652958387323175,0.5774581670135243,0.5837359811387848,0.6081120433326862,0.6227974171190631,0.5836006173486357,0.5873086220073502,0.4716938549435512,0.6481789334790536,0.6949108527811936,0.6730450379318147,0.5107465077091462,0.550231720089722,0.6710865630211019,0.7067698460082905,0.7443416911964877,0.73134983761658,0.6560835159228803,0.6266919847874514,0.6065375192321283,0.6004680651555467,0.9999999999999993,0.6813631111701047,0.6887548793826777,0.7110740539552236,0.8514262668473853,0.6850838068461794],[0.7102267234812185,0.6803813355294638,0.6976886760061377,0.759867991492709,0.7451279454743842,0.7344533986537853,0.733257646431467,0.5770112051927884,0.5180841297401061,0.7546625507007079,0.7228164820916712,0.7273792132516278,0.7768036782025654,0.7622246633560084,0.7684843265826744,0.7369681850548442,0.7066772661064822,0.775650502657833,0.7382543492227653,0.7325789288057869,0.7336536543805562,0.7415037258159359,0.7667795178182992,0.7724414288875147,0.7227944320660038,0.7337026010789137,0.6681186748958297,0.6945783203365754,0.610277230025641,0.7454863173077296,0.6610607742076797,0.7117895317101355,0.6953534529522519,0.6735727904354882,0.6798988230507197,0.6994266482049152,0.6963461169160516,0.6339114903433524,0.7164018368465398,0.7150726641902405,0.7071871288676901,0.725503907444049,0.6674327753222074,0.7087603700511629,0.6489005803593239,0.6704918595667457,0.6647146130702672,0.5393170170206768,0.599211380798006,0.6055430813151562,0.6110302716815815,0.6249010002777128,0.6549460935897378,0.3851883037424735,0.7083145114506729,0.7228761288221391,0.6845016466936578,0.5094297344756362,0.6222662368609535,0.6427623588880339,0.6807891114423487,0.7525001866269581,0.6884649200513648,0.6696328500623535,0.5481997008569635,0.566957340250906,0.5853239686983134,0.6813631111701047,1.0000000000000007,0.6972641481461885,0.7295505078916522,0.7120279667490591,0.5904107374385063],[0.7493567993061626,0.7297407174884842,0.7332549026513693,0.7348914502287376,0.7566509728962589,0.6908178951284976,0.7434699124760688,0.6054562946139663,0.5638018665998902,0.8010559684385705,0.7676025283185556,0.7575060467957289,0.7788564497006223,0.7937344996524488,0.7966477636989937,0.773834509652897,0.755132065454118,0.7698760916641596,0.7494897979066653,0.7671906644030193,0.7655038794645856,0.7599406884931541,0.7639969266918849,0.7742220691016294,0.7722416790590809,0.7614668751016949,0.7097361725154334,0.7242539380042149,0.6131423891726618,0.7226194548508732,0.6639155240927472,0.7235246085077915,0.746044011732486,0.6508462863261673,0.6471375124775762,0.671801503819361,0.6756268898129841,0.6321462446502067,0.6905118295437702,0.7139636717843355,0.7639003529615946,0.7261519340846638,0.7089422117895893,0.7206181424525346,0.6922629849941477,0.7314785302958631,0.6988005594926749,0.5085944744129093,0.5723049483564813,0.5670951281580519,0.5877436861017931,0.6464683569357599,0.6305243638030009,0.5247595797221398,0.6855605032346848,0.7253164873713639,0.6466615964872222,0.4723473421941106,0.6184926869682867,0.7010100669714666,0.7001584898588462,0.7328940767573832,0.7037395481550923,0.7448704358707723,0.6834095595438328,0.5739447332973813,0.6702486041635857,0.6887548793826777,0.6972641481461885,0.9999999999999998,0.7343144726125627,0.7457185113047758,0.5974592997350161],[0.7346431578518181,0.728703511643383,0.744724245788241,0.7214357288370792,0.7637063466967391,0.7277778851697961,0.7246506648824707,0.6207684929022967,0.5760337552702528,0.7450231671495139,0.7740587223498471,0.7824969103534638,0.7493441645957324,0.7687593062239798,0.7903773577057428,0.7768436883247376,0.7271862601848031,0.7597309180454926,0.7352943177752834,0.7564133627262896,0.7506592954288053,0.7751821876694028,0.774678656072193,0.7756255540871846,0.7422346882974322,0.7431060824030036,0.6462609015460979,0.6823104176761656,0.5659558414068304,0.7047373895265696,0.6857541119914008,0.7260200056248269,0.7218417725449103,0.634989936317415,0.6263714568802694,0.7001441877979983,0.6628989413243496,0.6396076410467366,0.798945979644079,0.6662089915944674,0.7202760649490316,0.6851281638303274,0.6659619673862076,0.7368366705107912,0.6632040131065761,0.7139601025819541,0.6734074623722657,0.5366751272667584,0.5538075364077475,0.5577908664394408,0.5970282231263537,0.6508864594667924,0.6502007605406629,0.5314786326590776,0.6549701795972941,0.6888164856691635,0.6394981018809835,0.459276802914394,0.5990796231572841,0.6808136713559628,0.7294882236522362,0.7446868340039496,0.6853076587398331,0.6951797715267234,0.6565309425261208,0.5984111022258107,0.595473110579478,0.7110740539552236,0.7295505078916522,0.7343144726125627,1.0000000000000002,0.7381433746272466,0.6168968442322805],[0.7998981124123689,0.8042213003095601,0.8022213218572632,0.7538289268435291,0.8457530554462781,0.7659653385902327,0.7917220242990336,0.87810044869494,0.803194269009773,0.825376574785889,0.8359285206653664,0.7854348176247351,0.7881501242956213,0.8137024567393822,0.8270761992988769,0.7925740716939027,0.8134962496376861,0.7589838390610087,0.7980294734154844,0.8247250143206568,0.7943683429609023,0.8213825325260993,0.8217483252391853,0.7751120973288966,0.7966217978596183,0.8080314277240856,0.7544576129956264,0.7773423267362133,0.6999655981220755,0.804530791352076,0.738155087516253,0.772158029853127,0.7878901221364213,0.7873057739503846,0.7827577717502517,0.7193927890867245,0.704758369022918,0.710096399626722,0.746452164050112,0.8096842406681577,0.8353502670858548,0.8282510966699513,0.8062330181424,0.8242652281892274,0.7865539255002323,0.8343033530190993,0.8005974746292498,0.6494964690986442,0.6621687035226208,0.6854378071948626,0.7112567720101675,0.605708500248514,0.61820686732265,0.5483021201439822,0.7229016595590682,0.747221696552469,0.747424229873849,0.5490406528710154,0.5741791340872976,0.7454618539967682,0.7933158972393721,0.7525476960121925,0.7529744267815685,0.717708974823759,0.6172254695374889,0.6115442579374303,0.6096924319894796,0.8514262668473853,0.7120279667490591,0.7457185113047758,0.7381433746272466,0.9999999999999993,0.6825237190853883],[0.6848047157260826,0.6661774631991536,0.6989802778205607,0.6782485328027787,0.7214103969433598,0.7130885146348341,0.6936102573954099,0.5362546338250658,0.5347135762670088,0.715997408153879,0.7259149958287612,0.717942123692141,0.7597018150458192,0.7677369326879102,0.7523302126228776,0.7296367264606529,0.7107944866532738,0.682431755152133,0.7230396030602563,0.7190971005230328,0.7429230531399849,0.7619224624719829,0.7210873556061552,0.7341705948416573,0.7066070492857215,0.7416582555131119,0.6717897261726458,0.678098340288962,0.5989568767608571,0.6850424714998082,0.6556405298717516,0.6693831454755788,0.6741476058441249,0.6637326699177641,0.6571718303752265,0.6695560461916472,0.6301251272627759,0.5932327294905609,0.7205146292893556,0.6679544482556048,0.7190288617033705,0.7169213746535359,0.7178644860111338,0.6971803182686327,0.6734213242856313,0.6935455342402562,0.793762279701582,0.4880261481043798,0.5232976066511728,0.5368201666173933,0.5519037118795731,0.5554003381241287,0.6046692238121298,0.43183748085869145,0.6112844019604108,0.6520211983426163,0.6050470596022672,0.4488759912401915,0.5697948599717673,0.7433653255507885,0.689433341969593,0.6863976227522941,0.6635463135060067,0.6366091969101947,0.47542531483412587,0.583413430589914,0.549221017437227,0.6850838068461794,0.5904107374385063,0.5974592997350161,0.6168968442322805,0.6825237190853883,0.9999999999999996]],\"type\":\"heatmap\",\"xaxis\":\"x\",\"yaxis\":\"y\",\"hovertemplate\":\"x: %{x}<br>y: %{y}<br>Similarity Score: %{z}<extra></extra>\"}],                        {\"template\":{\"data\":{\"bar\":[{\"error_x\":{\"color\":\"#2a3f5f\"},\"error_y\":{\"color\":\"#2a3f5f\"},\"marker\":{\"line\":{\"color\":\"#E5ECF6\",\"width\":0.5},\"pattern\":{\"fillmode\":\"overlay\",\"size\":10,\"solidity\":0.2}},\"type\":\"bar\"}],\"barpolar\":[{\"marker\":{\"line\":{\"color\":\"#E5ECF6\",\"width\":0.5},\"pattern\":{\"fillmode\":\"overlay\",\"size\":10,\"solidity\":0.2}},\"type\":\"barpolar\"}],\"carpet\":[{\"aaxis\":{\"endlinecolor\":\"#2a3f5f\",\"gridcolor\":\"white\",\"linecolor\":\"white\",\"minorgridcolor\":\"white\",\"startlinecolor\":\"#2a3f5f\"},\"baxis\":{\"endlinecolor\":\"#2a3f5f\",\"gridcolor\":\"white\",\"linecolor\":\"white\",\"minorgridcolor\":\"white\",\"startlinecolor\":\"#2a3f5f\"},\"type\":\"carpet\"}],\"choropleth\":[{\"colorbar\":{\"outlinewidth\":0,\"ticks\":\"\"},\"type\":\"choropleth\"}],\"contour\":[{\"colorbar\":{\"outlinewidth\":0,\"ticks\":\"\"},\"colorscale\":[[0.0,\"#0d0887\"],[0.1111111111111111,\"#46039f\"],[0.2222222222222222,\"#7201a8\"],[0.3333333333333333,\"#9c179e\"],[0.4444444444444444,\"#bd3786\"],[0.5555555555555556,\"#d8576b\"],[0.6666666666666666,\"#ed7953\"],[0.7777777777777778,\"#fb9f3a\"],[0.8888888888888888,\"#fdca26\"],[1.0,\"#f0f921\"]],\"type\":\"contour\"}],\"contourcarpet\":[{\"colorbar\":{\"outlinewidth\":0,\"ticks\":\"\"},\"type\":\"contourcarpet\"}],\"heatmap\":[{\"colorbar\":{\"outlinewidth\":0,\"ticks\":\"\"},\"colorscale\":[[0.0,\"#0d0887\"],[0.1111111111111111,\"#46039f\"],[0.2222222222222222,\"#7201a8\"],[0.3333333333333333,\"#9c179e\"],[0.4444444444444444,\"#bd3786\"],[0.5555555555555556,\"#d8576b\"],[0.6666666666666666,\"#ed7953\"],[0.7777777777777778,\"#fb9f3a\"],[0.8888888888888888,\"#fdca26\"],[1.0,\"#f0f921\"]],\"type\":\"heatmap\"}],\"heatmapgl\":[{\"colorbar\":{\"outlinewidth\":0,\"ticks\":\"\"},\"colorscale\":[[0.0,\"#0d0887\"],[0.1111111111111111,\"#46039f\"],[0.2222222222222222,\"#7201a8\"],[0.3333333333333333,\"#9c179e\"],[0.4444444444444444,\"#bd3786\"],[0.5555555555555556,\"#d8576b\"],[0.6666666666666666,\"#ed7953\"],[0.7777777777777778,\"#fb9f3a\"],[0.8888888888888888,\"#fdca26\"],[1.0,\"#f0f921\"]],\"type\":\"heatmapgl\"}],\"histogram\":[{\"marker\":{\"pattern\":{\"fillmode\":\"overlay\",\"size\":10,\"solidity\":0.2}},\"type\":\"histogram\"}],\"histogram2d\":[{\"colorbar\":{\"outlinewidth\":0,\"ticks\":\"\"},\"colorscale\":[[0.0,\"#0d0887\"],[0.1111111111111111,\"#46039f\"],[0.2222222222222222,\"#7201a8\"],[0.3333333333333333,\"#9c179e\"],[0.4444444444444444,\"#bd3786\"],[0.5555555555555556,\"#d8576b\"],[0.6666666666666666,\"#ed7953\"],[0.7777777777777778,\"#fb9f3a\"],[0.8888888888888888,\"#fdca26\"],[1.0,\"#f0f921\"]],\"type\":\"histogram2d\"}],\"histogram2dcontour\":[{\"colorbar\":{\"outlinewidth\":0,\"ticks\":\"\"},\"colorscale\":[[0.0,\"#0d0887\"],[0.1111111111111111,\"#46039f\"],[0.2222222222222222,\"#7201a8\"],[0.3333333333333333,\"#9c179e\"],[0.4444444444444444,\"#bd3786\"],[0.5555555555555556,\"#d8576b\"],[0.6666666666666666,\"#ed7953\"],[0.7777777777777778,\"#fb9f3a\"],[0.8888888888888888,\"#fdca26\"],[1.0,\"#f0f921\"]],\"type\":\"histogram2dcontour\"}],\"mesh3d\":[{\"colorbar\":{\"outlinewidth\":0,\"ticks\":\"\"},\"type\":\"mesh3d\"}],\"parcoords\":[{\"line\":{\"colorbar\":{\"outlinewidth\":0,\"ticks\":\"\"}},\"type\":\"parcoords\"}],\"pie\":[{\"automargin\":true,\"type\":\"pie\"}],\"scatter\":[{\"marker\":{\"colorbar\":{\"outlinewidth\":0,\"ticks\":\"\"}},\"type\":\"scatter\"}],\"scatter3d\":[{\"line\":{\"colorbar\":{\"outlinewidth\":0,\"ticks\":\"\"}},\"marker\":{\"colorbar\":{\"outlinewidth\":0,\"ticks\":\"\"}},\"type\":\"scatter3d\"}],\"scattercarpet\":[{\"marker\":{\"colorbar\":{\"outlinewidth\":0,\"ticks\":\"\"}},\"type\":\"scattercarpet\"}],\"scattergeo\":[{\"marker\":{\"colorbar\":{\"outlinewidth\":0,\"ticks\":\"\"}},\"type\":\"scattergeo\"}],\"scattergl\":[{\"marker\":{\"colorbar\":{\"outlinewidth\":0,\"ticks\":\"\"}},\"type\":\"scattergl\"}],\"scattermapbox\":[{\"marker\":{\"colorbar\":{\"outlinewidth\":0,\"ticks\":\"\"}},\"type\":\"scattermapbox\"}],\"scatterpolar\":[{\"marker\":{\"colorbar\":{\"outlinewidth\":0,\"ticks\":\"\"}},\"type\":\"scatterpolar\"}],\"scatterpolargl\":[{\"marker\":{\"colorbar\":{\"outlinewidth\":0,\"ticks\":\"\"}},\"type\":\"scatterpolargl\"}],\"scatterternary\":[{\"marker\":{\"colorbar\":{\"outlinewidth\":0,\"ticks\":\"\"}},\"type\":\"scatterternary\"}],\"surface\":[{\"colorbar\":{\"outlinewidth\":0,\"ticks\":\"\"},\"colorscale\":[[0.0,\"#0d0887\"],[0.1111111111111111,\"#46039f\"],[0.2222222222222222,\"#7201a8\"],[0.3333333333333333,\"#9c179e\"],[0.4444444444444444,\"#bd3786\"],[0.5555555555555556,\"#d8576b\"],[0.6666666666666666,\"#ed7953\"],[0.7777777777777778,\"#fb9f3a\"],[0.8888888888888888,\"#fdca26\"],[1.0,\"#f0f921\"]],\"type\":\"surface\"}],\"table\":[{\"cells\":{\"fill\":{\"color\":\"#EBF0F8\"},\"line\":{\"color\":\"white\"}},\"header\":{\"fill\":{\"color\":\"#C8D4E3\"},\"line\":{\"color\":\"white\"}},\"type\":\"table\"}]},\"layout\":{\"annotationdefaults\":{\"arrowcolor\":\"#2a3f5f\",\"arrowhead\":0,\"arrowwidth\":1},\"autotypenumbers\":\"strict\",\"coloraxis\":{\"colorbar\":{\"outlinewidth\":0,\"ticks\":\"\"}},\"colorscale\":{\"diverging\":[[0,\"#8e0152\"],[0.1,\"#c51b7d\"],[0.2,\"#de77ae\"],[0.3,\"#f1b6da\"],[0.4,\"#fde0ef\"],[0.5,\"#f7f7f7\"],[0.6,\"#e6f5d0\"],[0.7,\"#b8e186\"],[0.8,\"#7fbc41\"],[0.9,\"#4d9221\"],[1,\"#276419\"]],\"sequential\":[[0.0,\"#0d0887\"],[0.1111111111111111,\"#46039f\"],[0.2222222222222222,\"#7201a8\"],[0.3333333333333333,\"#9c179e\"],[0.4444444444444444,\"#bd3786\"],[0.5555555555555556,\"#d8576b\"],[0.6666666666666666,\"#ed7953\"],[0.7777777777777778,\"#fb9f3a\"],[0.8888888888888888,\"#fdca26\"],[1.0,\"#f0f921\"]],\"sequentialminus\":[[0.0,\"#0d0887\"],[0.1111111111111111,\"#46039f\"],[0.2222222222222222,\"#7201a8\"],[0.3333333333333333,\"#9c179e\"],[0.4444444444444444,\"#bd3786\"],[0.5555555555555556,\"#d8576b\"],[0.6666666666666666,\"#ed7953\"],[0.7777777777777778,\"#fb9f3a\"],[0.8888888888888888,\"#fdca26\"],[1.0,\"#f0f921\"]]},\"colorway\":[\"#636efa\",\"#EF553B\",\"#00cc96\",\"#ab63fa\",\"#FFA15A\",\"#19d3f3\",\"#FF6692\",\"#B6E880\",\"#FF97FF\",\"#FECB52\"],\"font\":{\"color\":\"#2a3f5f\"},\"geo\":{\"bgcolor\":\"white\",\"lakecolor\":\"white\",\"landcolor\":\"#E5ECF6\",\"showlakes\":true,\"showland\":true,\"subunitcolor\":\"white\"},\"hoverlabel\":{\"align\":\"left\"},\"hovermode\":\"closest\",\"mapbox\":{\"style\":\"light\"},\"paper_bgcolor\":\"white\",\"plot_bgcolor\":\"#E5ECF6\",\"polar\":{\"angularaxis\":{\"gridcolor\":\"white\",\"linecolor\":\"white\",\"ticks\":\"\"},\"bgcolor\":\"#E5ECF6\",\"radialaxis\":{\"gridcolor\":\"white\",\"linecolor\":\"white\",\"ticks\":\"\"}},\"scene\":{\"xaxis\":{\"backgroundcolor\":\"#E5ECF6\",\"gridcolor\":\"white\",\"gridwidth\":2,\"linecolor\":\"white\",\"showbackground\":true,\"ticks\":\"\",\"zerolinecolor\":\"white\"},\"yaxis\":{\"backgroundcolor\":\"#E5ECF6\",\"gridcolor\":\"white\",\"gridwidth\":2,\"linecolor\":\"white\",\"showbackground\":true,\"ticks\":\"\",\"zerolinecolor\":\"white\"},\"zaxis\":{\"backgroundcolor\":\"#E5ECF6\",\"gridcolor\":\"white\",\"gridwidth\":2,\"linecolor\":\"white\",\"showbackground\":true,\"ticks\":\"\",\"zerolinecolor\":\"white\"}},\"shapedefaults\":{\"line\":{\"color\":\"#2a3f5f\"}},\"ternary\":{\"aaxis\":{\"gridcolor\":\"white\",\"linecolor\":\"white\",\"ticks\":\"\"},\"baxis\":{\"gridcolor\":\"white\",\"linecolor\":\"white\",\"ticks\":\"\"},\"bgcolor\":\"#E5ECF6\",\"caxis\":{\"gridcolor\":\"white\",\"linecolor\":\"white\",\"ticks\":\"\"}},\"title\":{\"x\":0.05},\"xaxis\":{\"automargin\":true,\"gridcolor\":\"white\",\"linecolor\":\"white\",\"ticks\":\"\",\"title\":{\"standoff\":15},\"zerolinecolor\":\"white\",\"zerolinewidth\":2},\"yaxis\":{\"automargin\":true,\"gridcolor\":\"white\",\"linecolor\":\"white\",\"ticks\":\"\",\"title\":{\"standoff\":15},\"zerolinecolor\":\"white\",\"zerolinewidth\":2}}},\"xaxis\":{\"anchor\":\"y\",\"domain\":[0.0,1.0],\"scaleanchor\":\"y\",\"constrain\":\"domain\"},\"yaxis\":{\"anchor\":\"x\",\"domain\":[0.0,1.0],\"autorange\":\"reversed\",\"constrain\":\"domain\"},\"coloraxis\":{\"colorbar\":{\"title\":{\"text\":\"Similarity Score\"}},\"colorscale\":[[0.0,\"rgb(247,252,240)\"],[0.125,\"rgb(224,243,219)\"],[0.25,\"rgb(204,235,197)\"],[0.375,\"rgb(168,221,181)\"],[0.5,\"rgb(123,204,196)\"],[0.625,\"rgb(78,179,211)\"],[0.75,\"rgb(43,140,190)\"],[0.875,\"rgb(8,104,172)\"],[1.0,\"rgb(8,64,129)\"]]},\"margin\":{\"t\":60},\"title\":{\"font\":{\"size\":22,\"color\":\"Black\"},\"text\":\"<b>Similarity Matrix\",\"y\":0.95,\"x\":0.55,\"xanchor\":\"center\",\"yanchor\":\"top\"},\"hoverlabel\":{\"font\":{\"size\":16,\"family\":\"Rockwell\"},\"bgcolor\":\"white\"},\"width\":1000,\"height\":1000,\"showlegend\":true,\"legend\":{\"title\":{\"text\":\"Trend\"}}},                        {\"responsive\": true}                    ).then(function(){\n",
              "                            \n",
              "var gd = document.getElementById('cf9ff7b0-1a8a-4f93-9e21-a0e94c009a52');\n",
              "var x = new MutationObserver(function (mutations, observer) {{\n",
              "        var display = window.getComputedStyle(gd).display;\n",
              "        if (!display || display === 'none') {{\n",
              "            console.log([gd, 'removed!']);\n",
              "            Plotly.purge(gd);\n",
              "            observer.disconnect();\n",
              "        }}\n",
              "}});\n",
              "\n",
              "// Listen for the removal of the full notebook cells\n",
              "var notebookContainer = gd.closest('#notebook-container');\n",
              "if (notebookContainer) {{\n",
              "    x.observe(notebookContainer, {childList: true});\n",
              "}}\n",
              "\n",
              "// Listen for the clearing of the current output cell\n",
              "var outputEl = gd.closest('.output');\n",
              "if (outputEl) {{\n",
              "    x.observe(outputEl, {childList: true});\n",
              "}}\n",
              "\n",
              "                        })                };                            </script>        </div>\n",
              "</body>\n",
              "</html>"
            ]
          },
          "metadata": {}
        }
      ]
    },
    {
      "cell_type": "markdown",
      "source": [
        "### **Visualize Term Score Decline**\n",
        "\n",
        "Topics are represented by a number of words starting with the best representative word. Each word is represented by a c-TF-IDF score. The higher the score, the more representative a word to the topic is. Since the topic words are sorted by their c-TF-IDF score, the scores slowly decline with each word that is added."
      ],
      "metadata": {
        "id": "vd41xsx7Xhgj"
      }
    },
    {
      "cell_type": "code",
      "source": [
        "topic_model.visualize_term_rank()"
      ],
      "metadata": {
        "id": "Rw1wXTEtX967",
        "outputId": "f515b6e0-98ae-4794-e459-6c8f0ac417f6",
        "colab": {
          "base_uri": "https://localhost:8080/",
          "height": 517
        }
      },
      "execution_count": 49,
      "outputs": [
        {
          "output_type": "display_data",
          "data": {
            "text/html": [
              "<html>\n",
              "<head><meta charset=\"utf-8\" /></head>\n",
              "<body>\n",
              "    <div>            <script src=\"https://cdnjs.cloudflare.com/ajax/libs/mathjax/2.7.5/MathJax.js?config=TeX-AMS-MML_SVG\"></script><script type=\"text/javascript\">if (window.MathJax) {MathJax.Hub.Config({SVG: {font: \"STIX-Web\"}});}</script>                <script type=\"text/javascript\">window.PlotlyConfig = {MathJaxConfig: 'local'};</script>\n",
              "        <script src=\"https://cdn.plot.ly/plotly-2.8.3.min.js\"></script>                <div id=\"e70721dd-5f5a-426c-bcd8-195597d11c05\" class=\"plotly-graph-div\" style=\"height:500px; width:800px;\"></div>            <script type=\"text/javascript\">                                    window.PLOTLYENV=window.PLOTLYENV || {};                                    if (document.getElementById(\"e70721dd-5f5a-426c-bcd8-195597d11c05\")) {                    Plotly.newPlot(                        \"e70721dd-5f5a-426c-bcd8-195597d11c05\",                        [{\"hovertext\":\"<b>Topic -1</b>:produto_compra_pedido_entrega_rece\",\"line\":{\"color\":\"black\",\"width\":1.5},\"mode\":\"lines+lines\",\"name\":\"\",\"opacity\":0.1,\"x\":[1,2,3,4,5,6,7,8,9,10],\"y\":[0.010297724486299484,0.010191722100670129,0.00954493498122825,0.009201553321182126,0.008259189334842399,0.007994984994633435,0.007852836731329823,0.007800614790471524,0.007650681886408597,0.007443832466224225],\"type\":\"scatter\"},{\"hovertext\":\"<b>Topic 0</b>:casas_bahia_whatsapp_entrega_transp\",\"line\":{\"color\":\"black\",\"width\":1.5},\"mode\":\"lines+lines\",\"name\":\"\",\"opacity\":0.1,\"x\":[1,2,3,4,5,6,7,8,9,10],\"y\":[0.04386095344126214,0.043558571080991544,0.016512164702751176,0.014373004152103498,0.011525499801982813,0.011175437721986939,0.010811290096717857,0.009966972207666897,0.009569464798545558,0.009173815124675454],\"type\":\"scatter\"},{\"hovertext\":\"<b>Topic 1</b>:celular_samsung_aparelho_comprei_sm\",\"line\":{\"color\":\"black\",\"width\":1.5},\"mode\":\"lines+lines\",\"name\":\"\",\"opacity\":0.1,\"x\":[1,2,3,4,5,6,7,8,9,10],\"y\":[0.035869695068834,0.029649884066389198,0.019810755291385734,0.012916737984595703,0.012110300496881584,0.011892953898938784,0.011798878728084822,0.010137968464132147,0.01001326182850664,0.00997724042300456],\"type\":\"scatter\"},{\"hovertext\":\"<b>Topic 2</b>:endere\\u00e7o_pedido_entregue_shein_enco\",\"line\":{\"color\":\"black\",\"width\":1.5},\"mode\":\"lines+lines\",\"name\":\"\",\"opacity\":0.1,\"x\":[1,2,3,4,5,6,7,8,9,10],\"y\":[0.04304788019432184,0.034228685156924,0.029702195950004933,0.027901436222177726,0.022590794977850468,0.019971452555436326,0.018285151878845968,0.017232303121972884,0.016897745134482136,0.016775596877221396],\"type\":\"scatter\"},{\"hovertext\":\"<b>Topic 3</b>:cancelamento_cancelar_pedido_cancel\",\"line\":{\"color\":\"black\",\"width\":1.5},\"mode\":\"lines+lines\",\"name\":\"\",\"opacity\":0.1,\"x\":[1,2,3,4,5,6,7,8,9,10],\"y\":[0.0506150387490805,0.03913109404648663,0.02366418627332984,0.01884665739894135,0.017587053579324954,0.014698425035990859,0.01401435382057984,0.012578465540921588,0.011684713053316538,0.010211496104472502],\"type\":\"scatter\"},{\"hovertext\":\"<b>Topic 4</b>:atraso_entrega_atrasada_previs\\u00e3o_pr\",\"line\":{\"color\":\"black\",\"width\":1.5},\"mode\":\"lines+lines\",\"name\":\"\",\"opacity\":0.1,\"x\":[1,2,3,4,5,6,7,8,9,10],\"y\":[0.05306526112906142,0.049236887865214456,0.03271986555304585,0.027118115215184226,0.02437776265979423,0.024024872812122122,0.02352284271473937,0.02263319290662004,0.019545871915529794,0.01809446475093769],\"type\":\"scatter\"},{\"hovertext\":\"<b>Topic 5</b>:magazine_loja_poi_compra_luiza_cont\",\"line\":{\"color\":\"black\",\"width\":1.5},\"mode\":\"lines+lines\",\"name\":\"\",\"opacity\":0.1,\"x\":[1,2,3,4,5,6,7,8,9,10],\"y\":[0.011779090821114929,0.0114170947170713,0.011198268513457467,0.009939139663811658,0.00986266050128394,0.008853637784586846,0.008475434478586511,0.008369061951518257,0.008221288490949384,0.007934989044824323],\"type\":\"scatter\"},{\"hovertext\":\"<b>Topic 6</b>:assinatura_cobran\\u00e7a_prime_amazon_in\",\"line\":{\"color\":\"black\",\"width\":1.5},\"mode\":\"lines+lines\",\"name\":\"\",\"opacity\":0.1,\"x\":[1,2,3,4,5,6,7,8,9,10],\"y\":[0.07151538048996396,0.07129969032940311,0.04926550127243293,0.04855438837583076,0.04197378723390347,0.041614302172450136,0.03366039709701939,0.024563213308861732,0.022648408985670034,0.022445898781762928],\"type\":\"scatter\"},{\"hovertext\":\"<b>Topic 7</b>:defeito_produto_quebrado_pe\\u00e7a_veio_\",\"line\":{\"color\":\"black\",\"width\":1.5},\"mode\":\"lines+lines\",\"name\":\"\",\"opacity\":0.1,\"x\":[1,2,3,4,5,6,7,8,9,10],\"y\":[0.022641986086313518,0.021401639827778814,0.01883830161420333,0.018706547123279665,0.017841432928054218,0.014083301518600964,0.01406449332170943,0.012577290978431837,0.012407989603265805,0.012094406023743494],\"type\":\"scatter\"},{\"hovertext\":\"<b>Topic 8</b>:propaganda_enganosa_an\\u00fancio_america\",\"line\":{\"color\":\"black\",\"width\":1.5},\"mode\":\"lines+lines\",\"name\":\"\",\"opacity\":0.1,\"x\":[1,2,3,4,5,6,7,8,9,10],\"y\":[0.06029200222413993,0.05539538093457467,0.021047738799713476,0.01646036577321507,0.01525999458253538,0.014781530285146071,0.014531451891814583,0.014143084384762975,0.014097993428085077,0.013667351485676878],\"type\":\"scatter\"},{\"hovertext\":\"<b>Topic 9</b>:conta_senha_acessar_mail_acesso_con\",\"line\":{\"color\":\"black\",\"width\":1.5},\"mode\":\"lines+lines\",\"name\":\"\",\"opacity\":0.1,\"x\":[1,2,3,4,5,6,7,8,9,10],\"y\":[0.06774392633817841,0.0555455347595365,0.048098089115364,0.046077491939160165,0.044169401720446914,0.033478782630384465,0.02702668791939778,0.023363171354927287,0.020170577700638202,0.019408861856699162],\"type\":\"scatter\"},{\"hovertext\":\"<b>Topic 10</b>:livre_mercado_reclama\\u00e7\\u00e3o_vendedor_\",\"line\":{\"color\":\"black\",\"width\":1.5},\"mode\":\"lines+lines\",\"name\":\"\",\"opacity\":0.1,\"x\":[1,2,3,4,5,6,7,8,9,10],\"y\":[0.03816553475273958,0.03769717080060208,0.019648911446880173,0.018149546566178298,0.015012221231384263,0.01421834546665629,0.012632415142272537,0.01182177250935918,0.010799440750153768,0.010323691733336249],\"type\":\"scatter\"},{\"hovertext\":\"<b>Topic 11</b>:amazon_reembolso_devolu\\u00e7\\u00e3o_produto\",\"line\":{\"color\":\"black\",\"width\":1.5},\"mode\":\"lines+lines\",\"name\":\"\",\"opacity\":0.1,\"x\":[1,2,3,4,5,6,7,8,9,10],\"y\":[0.0445966493619802,0.022571075730864452,0.022004388854171327,0.01411659499050309,0.012750241522449766,0.011970949423467075,0.011371126820956168,0.011271929668133777,0.010989150510130585,0.010432948258203381],\"type\":\"scatter\"},{\"hovertext\":\"<b>Topic 12</b>:americana_lojas_compra_site_pedido\",\"line\":{\"color\":\"black\",\"width\":1.5},\"mode\":\"lines+lines\",\"name\":\"\",\"opacity\":0.1,\"x\":[1,2,3,4,5,6,7,8,9,10],\"y\":[0.06825860876490196,0.023640798029394457,0.014414437902514935,0.014105532626790575,0.013330164207125395,0.012566693987271445,0.011728743838406816,0.011049352584541221,0.010926578437956611,0.010811718629318377],\"type\":\"scatter\"},{\"hovertext\":\"<b>Topic 13</b>:iphone_apple_carregador_aparelho_c\",\"line\":{\"color\":\"black\",\"width\":1.5},\"mode\":\"lines+lines\",\"name\":\"\",\"opacity\":0.1,\"x\":[1,2,3,4,5,6,7,8,9,10],\"y\":[0.06391511438155834,0.027360253537860747,0.019956258291292554,0.01989065676764886,0.014365345692548104,0.01188208197828085,0.010400433654409088,0.010319111107986109,0.010124969468427706,0.009890216633387666],\"type\":\"scatter\"},{\"hovertext\":\"<b>Topic 14</b>:brasil_shein_aeroporto_pedido_enco\",\"line\":{\"color\":\"black\",\"width\":1.5},\"mode\":\"lines+lines\",\"name\":\"\",\"opacity\":0.1,\"x\":[1,2,3,4,5,6,7,8,9,10],\"y\":[0.0732776717719331,0.03786974669626854,0.02552415508675124,0.0179428708083135,0.01616260600393051,0.015382214835660064,0.013324867297247045,0.012519420497644358,0.011998487837469355,0.011759874439355769],\"type\":\"scatter\"},{\"hovertext\":\"<b>Topic 15</b>:cart\\u00e3o_cr\\u00e9dito_cobran\\u00e7a_pagamento_\",\"line\":{\"color\":\"black\",\"width\":1.5},\"mode\":\"lines+lines\",\"name\":\"\",\"opacity\":0.1,\"x\":[1,2,3,4,5,6,7,8,9,10],\"y\":[0.10719905237368534,0.07342344669348001,0.03889732958528196,0.03857232559766806,0.03309901677143745,0.02845711934950092,0.026730792656321355,0.026034282710052165,0.0236239694974221,0.019227732060654142],\"type\":\"scatter\"},{\"hovertext\":\"<b>Topic 16</b>:roupas_vestido_cal\\u00e7a_cal\\u00e7as_compre\",\"line\":{\"color\":\"black\",\"width\":1.5},\"mode\":\"lines+lines\",\"name\":\"\",\"opacity\":0.1,\"x\":[1,2,3,4,5,6,7,8,9,10],\"y\":[0.0700299263499877,0.04927490459622872,0.041336442906093916,0.03467363247104099,0.03395166174330024,0.03286590788226088,0.02926059780310052,0.028739250980330838,0.02695030206580581,0.0263324666704965],\"type\":\"scatter\"},{\"hovertext\":\"<b>Topic 17</b>:amazon_transportadora_entregue_exp\",\"line\":{\"color\":\"black\",\"width\":1.5},\"mode\":\"lines+lines\",\"name\":\"\",\"opacity\":0.1,\"x\":[1,2,3,4,5,6,7,8,9,10],\"y\":[0.04149209056994177,0.0379978014691738,0.02622233074046775,0.02511259493956011,0.02490055816061444,0.0201593913317093,0.017895238287870482,0.016708192649056246,0.01400094479761072,0.013496668326432214],\"type\":\"scatter\"},{\"hovertext\":\"<b>Topic 18</b>:geladeira_refrigerador_troca_magal\",\"line\":{\"color\":\"black\",\"width\":1.5},\"mode\":\"lines+lines\",\"name\":\"\",\"opacity\":0.1,\"x\":[1,2,3,4,5,6,7,8,9,10],\"y\":[0.12663432867551216,0.020929576752829714,0.016783665774723854,0.015830371344962735,0.014422247055093226,0.013122148454689205,0.012877212281211664,0.012296715040812723,0.012118338494275672,0.01151925721413454],\"type\":\"scatter\"},{\"hovertext\":\"<b>Topic 19</b>:reembolso_taxada_dinheiro_shein_re\",\"line\":{\"color\":\"black\",\"width\":1.5},\"mode\":\"lines+lines\",\"name\":\"\",\"opacity\":0.1,\"x\":[1,2,3,4,5,6,7,8,9,10],\"y\":[0.09873936320651638,0.049989646212836,0.039151518564517,0.0341738521170859,0.025018822671085458,0.023341276045191033,0.02099692008225333,0.019517170540357367,0.018838882072950702,0.016925422465811083],\"type\":\"scatter\"},{\"hovertext\":\"<b>Topic 20</b>:curitiba_parado_tr\\u00e2nsito_encomenda\",\"line\":{\"color\":\"black\",\"width\":1.5},\"mode\":\"lines+lines\",\"name\":\"\",\"opacity\":0.1,\"x\":[1,2,3,4,5,6,7,8,9,10],\"y\":[0.21259335087648767,0.0522626897800864,0.051179972427955314,0.04193574303534422,0.03581736973479072,0.03351346729632609,0.02820351870096115,0.027765812432384497,0.025759335897538982,0.023678144634788456],\"type\":\"scatter\"},{\"hovertext\":\"<b>Topic 21</b>:conta_bloqueada_amazon_senha_acess\",\"line\":{\"color\":\"black\",\"width\":1.5},\"mode\":\"lines+lines\",\"name\":\"\",\"opacity\":0.1,\"x\":[1,2,3,4,5,6,7,8,9,10],\"y\":[0.07210654570901776,0.04594323847402698,0.039581787802132784,0.03845623804999328,0.03139402862444311,0.029263271153952438,0.02451375698621002,0.02448559984391377,0.023844019956034974,0.02343436503916896],\"type\":\"scatter\"},{\"hovertext\":\"<b>Topic 22</b>:amazon_entrega_empresa_vendedor_da\",\"line\":{\"color\":\"black\",\"width\":1.5},\"mode\":\"lines+lines\",\"name\":\"\",\"opacity\":0.1,\"x\":[1,2,3,4,5,6,7,8,9,10],\"y\":[0.03832735649657566,0.017933227223082243,0.01433880680092716,0.013349138967241254,0.012291561430523661,0.01206357398508199,0.011953874898544143,0.011342332702554064,0.011302851593290248,0.011282438355845652],\"type\":\"scatter\"},{\"hovertext\":\"<b>Topic 23</b>:jogo_lan\\u00e7amento_venda_ragnarok_pr\\u00e9\",\"line\":{\"color\":\"black\",\"width\":1.5},\"mode\":\"lines+lines\",\"name\":\"\",\"opacity\":0.1,\"x\":[1,2,3,4,5,6,7,8,9,10],\"y\":[0.14361606636934995,0.10690591841206334,0.06832193197337154,0.06260924050156652,0.05654452888229452,0.02949332774588012,0.024208843473645675,0.02254657544583016,0.02202171611101824,0.01849759673193685],\"type\":\"scatter\"},{\"hovertext\":\"<b>Topic 24</b>:dinheiro_recebi_quero_volta_reembo\",\"line\":{\"color\":\"black\",\"width\":1.5},\"mode\":\"lines+lines\",\"name\":\"\",\"opacity\":0.1,\"x\":[1,2,3,4,5,6,7,8,9,10],\"y\":[0.049710097389987135,0.04595935509942236,0.04297991137971712,0.0418590317713447,0.04147509217632075,0.03683660176229216,0.030063884290546544,0.02820351870096115,0.027861120477352962,0.026865850115431314],\"type\":\"scatter\"},{\"hovertext\":\"<b>Topic 25</b>:cashback_02_valor_americana_extrat\",\"line\":{\"color\":\"black\",\"width\":1.5},\"mode\":\"lines+lines\",\"name\":\"\",\"opacity\":0.1,\"x\":[1,2,3,4,5,6,7,8,9,10],\"y\":[0.19157848247209294,0.03250509049842894,0.03069314698352961,0.027008102646797656,0.022791756042070874,0.02275927683034648,0.02219916936663805,0.020874183903254493,0.02085408117310266,0.017819448574631573],\"type\":\"scatter\"},{\"hovertext\":\"<b>Topic 26</b>:cadeira_sof\\u00e1_cama_veio_gamer_encos\",\"line\":{\"color\":\"black\",\"width\":1.5},\"mode\":\"lines+lines\",\"name\":\"\",\"opacity\":0.1,\"x\":[1,2,3,4,5,6,7,8,9,10],\"y\":[0.09574358956889437,0.08069312890200886,0.048335749607965196,0.022366777088825396,0.022202756391076547,0.02014010045576959,0.017030972490260338,0.016853027902791133,0.01606626532384623,0.01412902679432144],\"type\":\"scatter\"},{\"hovertext\":\"<b>Topic 27</b>:entregue_recebi_consta_mercadoria_\",\"line\":{\"color\":\"black\",\"width\":1.5},\"mode\":\"lines+lines\",\"name\":\"\",\"opacity\":0.1,\"x\":[1,2,3,4,5,6,7,8,9,10],\"y\":[0.05205058633671395,0.04370977086349448,0.03644351715766074,0.03398834074069663,0.024452981112425137,0.024133724054607373,0.02361156303585119,0.022587955435963585,0.020335640945410762,0.020280486742062426],\"type\":\"scatter\"},{\"hovertext\":\"<b>Topic 28</b>:livro_livros_entregue_amazon_receb\",\"line\":{\"color\":\"black\",\"width\":1.5},\"mode\":\"lines+lines\",\"name\":\"\",\"opacity\":0.1,\"x\":[1,2,3,4,5,6,7,8,9,10],\"y\":[0.15210253810448496,0.11103557812067506,0.02756816071123677,0.022433977451371673,0.018453310712941092,0.01818987151266493,0.018111673013895806,0.017900196072923272,0.013741320945317255,0.013545267477765901],\"type\":\"scatter\"},{\"hovertext\":\"<b>Topic 29</b>:reembolso_estorno_valor_cart\\u00e3o_ree\",\"line\":{\"color\":\"black\",\"width\":1.5},\"mode\":\"lines+lines\",\"name\":\"\",\"opacity\":0.1,\"x\":[1,2,3,4,5,6,7,8,9,10],\"y\":[0.05548519491015554,0.035941015483331167,0.028316869201720007,0.02479688144269944,0.022328964515257316,0.01737563157818292,0.016757426886805107,0.016603358766473723,0.015912805019225703,0.0156526540008035],\"type\":\"scatter\"},{\"hovertext\":\"<b>Topic 30</b>:produto_produtos_entregue_shein_me\",\"line\":{\"color\":\"black\",\"width\":1.5},\"mode\":\"lines+lines\",\"name\":\"\",\"opacity\":0.1,\"x\":[1,2,3,4,5,6,7,8,9,10],\"y\":[0.04860199205109354,0.04091516432786136,0.03991325990218503,0.037209391231987826,0.03702106246273628,0.028151952239356782,0.026331529595914525,0.026331529595914525,0.025245805728520518,0.02352248764228811],\"type\":\"scatter\"},{\"hovertext\":\"<b>Topic 31</b>:cancelamento_amazon_cancelado_pedi\",\"line\":{\"color\":\"black\",\"width\":1.5},\"mode\":\"lines+lines\",\"name\":\"\",\"opacity\":0.1,\"x\":[1,2,3,4,5,6,7,8,9,10],\"y\":[0.037831976057106774,0.0368609122733359,0.025115789157277524,0.024653780866765784,0.020884204667033196,0.020796370133147547,0.01661424531409835,0.016298351068912496,0.01517120909033443,0.01498864236595641],\"type\":\"scatter\"},{\"hovertext\":\"<b>Topic 32</b>:m\\u00e1quina_lavar_maquina_lavadora_rou\",\"line\":{\"color\":\"black\",\"width\":1.5},\"mode\":\"lines+lines\",\"name\":\"\",\"opacity\":0.1,\"x\":[1,2,3,4,5,6,7,8,9,10],\"y\":[0.10627109758268216,0.09590146537430619,0.03289048701182003,0.030098614050350813,0.028645776742112137,0.023230673395149257,0.019641939279811636,0.01838110286038351,0.017232366180752794,0.017201138135583386],\"type\":\"scatter\"},{\"hovertext\":\"<b>Topic 33</b>:t\\u00eanis_tenis_raquete_mizuno_mirai_w\",\"line\":{\"color\":\"black\",\"width\":1.5},\"mode\":\"lines+lines\",\"name\":\"\",\"opacity\":0.1,\"x\":[1,2,3,4,5,6,7,8,9,10],\"y\":[0.13729942377126392,0.03324247212467882,0.026593977699743056,0.02295803950743706,0.020923559147282653,0.020923559147282653,0.01966653173600809,0.01943258689083121,0.018705240914651998,0.016581620212339818],\"type\":\"scatter\"},{\"hovertext\":\"<b>Topic 34</b>:cart\\u00e3o_fatura_conta_pagar_pago_ban\",\"line\":{\"color\":\"black\",\"width\":1.5},\"mode\":\"lines+lines\",\"name\":\"\",\"opacity\":0.1,\"x\":[1,2,3,4,5,6,7,8,9,10],\"y\":[0.04295404869538227,0.027783533063352493,0.02524129615757593,0.022980226447488802,0.02091246039456804,0.019185734131751803,0.01867314398826717,0.017684382293176957,0.016166126943826086,0.01605289284057777],\"type\":\"scatter\"},{\"hovertext\":\"<b>Topic 35</b>:prazo_entrega_data_dia_ap\\u00f3s_prazos\",\"line\":{\"color\":\"black\",\"width\":1.5},\"mode\":\"lines+lines\",\"name\":\"\",\"opacity\":0.1,\"x\":[1,2,3,4,5,6,7,8,9,10],\"y\":[0.043108178672355286,0.029517721993606413,0.023557235041062666,0.023556075999485917,0.018614258139854227,0.018178857449159952,0.01515528727121587,0.015139511735219435,0.014952444044373644,0.014117819198155798],\"type\":\"scatter\"},{\"hovertext\":\"<b>Topic 36</b>:conta_bloqueada_suspensa_bloqueara\",\"line\":{\"color\":\"black\",\"width\":1.5},\"mode\":\"lines+lines\",\"name\":\"\",\"opacity\":0.1,\"x\":[1,2,3,4,5,6,7,8,9,10],\"y\":[0.09987524977779123,0.09047975893291632,0.05490046612327793,0.02699506765081952,0.0241889915679456,0.022875754635362983,0.02250024262506918,0.019908732578909346,0.018862609195904444,0.016869732281065735],\"type\":\"scatter\"},{\"hovertext\":\"<b>Topic 37</b>:embalagem_amazon_danificado_produt\",\"line\":{\"color\":\"black\",\"width\":1.5},\"mode\":\"lines+lines\",\"name\":\"\",\"opacity\":0.1,\"x\":[1,2,3,4,5,6,7,8,9,10],\"y\":[0.05695733273725879,0.03819033763457507,0.03797176706773518,0.03138511949873359,0.030258911904790686,0.02813842586596276,0.021428124623312263,0.01992827397401377,0.019833112065291737,0.019397819758613776],\"type\":\"scatter\"},{\"hovertext\":\"<b>Topic 38</b>:rastreio_c\\u00f3digo_rastreamento_rastr\",\"line\":{\"color\":\"black\",\"width\":1.5},\"mode\":\"lines+lines\",\"name\":\"\",\"opacity\":0.1,\"x\":[1,2,3,4,5,6,7,8,9,10],\"y\":[0.19787824108843055,0.1646299003851816,0.060888619925193614,0.03810918549451122,0.035133206827797546,0.03399687469038291,0.03167117140850799,0.02743821598071434,0.027321597591044865,0.023302102469909675],\"type\":\"scatter\"},{\"hovertext\":\"<b>Topic 39</b>:devolu\\u00e7\\u00e3o_c\\u00f3digo_devolver_livre_me\",\"line\":{\"color\":\"black\",\"width\":1.5},\"mode\":\"lines+lines\",\"name\":\"\",\"opacity\":0.1,\"x\":[1,2,3,4,5,6,7,8,9,10],\"y\":[0.0929083517775389,0.05379550413401654,0.03521440122337398,0.02573203698713303,0.023793941583613143,0.023696518908690574,0.022966630724978905,0.020450793776503568,0.01841261298929876,0.01716827809761369],\"type\":\"scatter\"},{\"hovertext\":\"<b>Topic 40</b>:bluetooth_fone_ouvido_fones_defeit\",\"line\":{\"color\":\"black\",\"width\":1.5},\"mode\":\"lines+lines\",\"name\":\"\",\"opacity\":0.1,\"x\":[1,2,3,4,5,6,7,8,9,10],\"y\":[0.08049907292185099,0.05467397065751043,0.042231619391596226,0.039009184407611044,0.023140168639460307,0.021436850860857632,0.020527952373141985,0.017804480481163995,0.017302879423141248,0.015713466195906228],\"type\":\"scatter\"},{\"hovertext\":\"<b>Topic 41</b>:taxada_taxon_shein_valor_pagamento\",\"line\":{\"color\":\"black\",\"width\":1.5},\"mode\":\"lines+lines\",\"name\":\"\",\"opacity\":0.1,\"x\":[1,2,3,4,5,6,7,8,9,10],\"y\":[0.07857836346209394,0.07032246753257697,0.06714703883688182,0.030678899265305853,0.028340108353209766,0.02715678169351249,0.026574900231942485,0.02458322013540907,0.0221457501932854,0.019035515069557658],\"type\":\"scatter\"},{\"hovertext\":\"<b>Topic 42</b>:cancelamento_loja_cancelar_compra_\",\"line\":{\"color\":\"black\",\"width\":1.5},\"mode\":\"lines+lines\",\"name\":\"\",\"opacity\":0.1,\"x\":[1,2,3,4,5,6,7,8,9,10],\"y\":[0.022024772008266774,0.01575626539529032,0.015379282254309111,0.014561813116290335,0.013001498127390678,0.012942959492984237,0.01251497514888397,0.011730351266065808,0.01115940961327347,0.0111107841685663],\"type\":\"scatter\"},{\"hovertext\":\"<b>Topic 43</b>:shein_reembolso_nunca_capas_bermud\",\"line\":{\"color\":\"black\",\"width\":1.5},\"mode\":\"lines+lines\",\"name\":\"\",\"opacity\":0.1,\"x\":[1,2,3,4,5,6,7,8,9,10],\"y\":[0.04436446585750929,0.040580406058495645,0.03648688083902613,0.033271279394899385,0.025398728645097443,0.02327751983101352,0.020252274100851567,0.01927460150982382,0.01866329547885685,0.018200731504866643],\"type\":\"scatter\"},{\"hovertext\":\"<b>Topic 44</b>:frete_paguei_livre_mercado_reais_g\",\"line\":{\"color\":\"black\",\"width\":1.5},\"mode\":\"lines+lines\",\"name\":\"\",\"opacity\":0.1,\"x\":[1,2,3,4,5,6,7,8,9,10],\"y\":[0.07732702022651616,0.03104804397228462,0.030567176794773047,0.028689942669625285,0.026247319932934603,0.026016559481860598,0.025339608130561103,0.025022585019061717,0.02386595177832406,0.02386595177832406],\"type\":\"scatter\"},{\"hovertext\":\"<b>Topic 45</b>:mercado_pago_livre_conta_cr\\u00e9dito_v\",\"line\":{\"color\":\"black\",\"width\":1.5},\"mode\":\"lines+lines\",\"name\":\"\",\"opacity\":0.1,\"x\":[1,2,3,4,5,6,7,8,9,10],\"y\":[0.06882649330392,0.051073937763503295,0.04308245788874366,0.026965678442884132,0.024936021171507696,0.024894523931253243,0.023461059158665996,0.023383201243689696,0.020722015206661195,0.020195720948587223],\"type\":\"scatter\"},{\"hovertext\":\"<b>Topic 46</b>:reconhecimento_facial_rosto_acessa\",\"line\":{\"color\":\"black\",\"width\":1.5},\"mode\":\"lines+lines\",\"name\":\"\",\"opacity\":0.1,\"x\":[1,2,3,4,5,6,7,8,9,10],\"y\":[0.1937656362811463,0.1905182033555455,0.05005762291618341,0.045210802658896564,0.043857395079486716,0.039936148202440236,0.03937875159657941,0.035981714518425446,0.031221985395614393,0.029812813036223504],\"type\":\"scatter\"},{\"hovertext\":\"<b>Topic 47</b>:cart\\u00e3o_banco_amazon_cobran\\u00e7as_cobr\",\"line\":{\"color\":\"black\",\"width\":1.5},\"mode\":\"lines+lines\",\"name\":\"\",\"opacity\":0.1,\"x\":[1,2,3,4,5,6,7,8,9,10],\"y\":[0.0400201526688286,0.02971822143414858,0.029285113162033548,0.027352434332297296,0.026106035558586416,0.02515686793171895,0.023154784559230118,0.02310845901416601,0.019731276343412363,0.01938327631625436],\"type\":\"scatter\"},{\"hovertext\":\"<b>Topic 48</b>:rob\\u00f4_falar_correios_devolver_conta\",\"line\":{\"color\":\"black\",\"width\":1.5},\"mode\":\"lines+lines\",\"name\":\"\",\"opacity\":0.1,\"x\":[1,2,3,4,5,6,7,8,9,10],\"y\":[0.08393153620739599,0.03458474227316123,0.027010823097498717,0.024854046126201807,0.024465666106995347,0.024413756694405514,0.0238691495164508,0.023722266288967505,0.02311891541307201,0.023016554996436515],\"type\":\"scatter\"},{\"hovertext\":\"<b>Topic 49</b>:entrega_cama_aplicativo_prazo_feir\",\"line\":{\"color\":\"black\",\"width\":1.5},\"mode\":\"lines+lines\",\"name\":\"\",\"opacity\":0.1,\"x\":[1,2,3,4,5,6,7,8,9,10],\"y\":[0.022056621231916235,0.017766947827493638,0.014770420648601488,0.014693935338715877,0.014636409354525596,0.014011582539136327,0.01296956098772109,0.012679195391947784,0.012300246647734965,0.01221920127886369],\"type\":\"scatter\"},{\"hovertext\":\"<b>Topic 50</b>:garantia_fone_amazon_celular_xiaom\",\"line\":{\"color\":\"black\",\"width\":1.5},\"mode\":\"lines+lines\",\"name\":\"\",\"opacity\":0.1,\"x\":[1,2,3,4,5,6,7,8,9,10],\"y\":[0.053571787228719144,0.04438434374874743,0.03695513828306878,0.03591584803828853,0.030315741346772458,0.026456403127745304,0.024763257034425012,0.02208462430423081,0.01777859836684419,0.016250168670441132],\"type\":\"scatter\"},{\"hovertext\":\"<b>Topic 51</b>:tarefas_comiss\\u00e3o_tarefa_comiss\\u00f5es_\",\"line\":{\"color\":\"black\",\"width\":1.5},\"mode\":\"lines+lines\",\"name\":\"\",\"opacity\":0.1,\"x\":[1,2,3,4,5,6,7,8,9,10],\"y\":[0.08738287376859608,0.048653279268170514,0.044372078496475606,0.03632938118960869,0.033508008671781844,0.03174307905160966,0.030753512733826115,0.02967533910036871,0.027882111663793386,0.02479166267495556],\"type\":\"scatter\"},{\"hovertext\":\"<b>Topic 52</b>:atraso_prazo_entrega_loja_amobelez\",\"line\":{\"color\":\"black\",\"width\":1.5},\"mode\":\"lines+lines\",\"name\":\"\",\"opacity\":0.1,\"x\":[1,2,3,4,5,6,7,8,9,10],\"y\":[0.03406290690452652,0.03261420760339512,0.030960442113518633,0.0283286365718343,0.026237458711104732,0.026000429684420175,0.02356475217659497,0.02283839272667282,0.022806842121542024,0.020637992374207274],\"type\":\"scatter\"},{\"hovertext\":\"<b>Topic 53</b>:cancelei_estorno_cancelado_cart\\u00e3o_\",\"line\":{\"color\":\"black\",\"width\":1.5},\"mode\":\"lines+lines\",\"name\":\"\",\"opacity\":0.1,\"x\":[1,2,3,4,5,6,7,8,9,10],\"y\":[0.05821185817911124,0.047883465900417886,0.042929474948931484,0.031593400553450564,0.030268618338745,0.030255705968536013,0.027510616714034018,0.027104648574919732,0.02411249257217324,0.023375511091201406],\"type\":\"scatter\"},{\"hovertext\":\"<b>Topic 54</b>:americana_lojas_facebook_airfryer_\",\"line\":{\"color\":\"black\",\"width\":1.5},\"mode\":\"lines+lines\",\"name\":\"\",\"opacity\":0.1,\"x\":[1,2,3,4,5,6,7,8,9,10],\"y\":[0.07703228977098059,0.04921620027304703,0.04577528535919798,0.03314681603817788,0.02685616492898188,0.026631729280217554,0.02655380574386049,0.025452653758993617,0.024233298732946065,0.022582957279287854],\"type\":\"scatter\"},{\"hovertext\":\"<b>Topic 55</b>:amazon_previs\\u00e3o_entrega_data_lan\\u00e7a\",\"line\":{\"color\":\"black\",\"width\":1.5},\"mode\":\"lines+lines\",\"name\":\"\",\"opacity\":0.1,\"x\":[1,2,3,4,5,6,7,8,9,10],\"y\":[0.036248584618795286,0.034168875515725484,0.03303352434860512,0.026672688304236344,0.023625253745725293,0.02110407887588692,0.018829503091267578,0.01715625655830232,0.01591495668473624,0.01587926578357569],\"type\":\"scatter\"},{\"hovertext\":\"<b>Topic 56</b>:china_order_postado_paciente_corre\",\"line\":{\"color\":\"black\",\"width\":1.5},\"mode\":\"lines+lines\",\"name\":\"\",\"opacity\":0.1,\"x\":[1,2,3,4,5,6,7,8,9,10],\"y\":[0.17742221026820904,0.05068453922560236,0.041085138875309325,0.041038442180468225,0.04055473597787264,0.03800378084261257,0.03715314135906461,0.0362562891127153,0.0355670886469444,0.0335153000975053],\"type\":\"scatter\"},{\"hovertext\":\"<b>Topic 57</b>:amazon_prime_brinquedos_assinatura\",\"line\":{\"color\":\"black\",\"width\":1.5},\"mode\":\"lines+lines\",\"name\":\"\",\"opacity\":0.1,\"x\":[1,2,3,4,5,6,7,8,9,10],\"y\":[0.05900275845271195,0.03433298063676621,0.02109088619493307,0.020106563336614796,0.01767537417816005,0.01747212768310562,0.01607898700242624,0.015692453263008718,0.015131014918129198,0.015012488946556206],\"type\":\"scatter\"},{\"hovertext\":\"<b>Topic 58</b>:loja_magazine_luiza_20_00_lumin\\u00e1ri\",\"line\":{\"color\":\"black\",\"width\":1.5},\"mode\":\"lines+lines\",\"name\":\"\",\"opacity\":0.1,\"x\":[1,2,3,4,5,6,7,8,9,10],\"y\":[0.060103517679132926,0.03413803800813156,0.029478194164501856,0.026845417308001093,0.02592911596201566,0.022359623156411705,0.019432206721973582,0.018277894938233664,0.01594696676942254,0.015669059873620703],\"type\":\"scatter\"},{\"hovertext\":\"<b>Topic 59</b>:pagamento_confirma\\u00e7\\u00e3o_boleto_confi\",\"line\":{\"color\":\"black\",\"width\":1.5},\"mode\":\"lines+lines\",\"name\":\"\",\"opacity\":0.1,\"x\":[1,2,3,4,5,6,7,8,9,10],\"y\":[0.1631604622494955,0.07585974140421646,0.05553756593726105,0.047560808415682686,0.044443046742754594,0.036900895003661394,0.03655850760861347,0.03655850760861347,0.033519487359679086,0.030004309209805968],\"type\":\"scatter\"},{\"hovertext\":\"<b>Topic 60</b>:m\\u00fasicas_music_ouvir_playlist_amazo\",\"line\":{\"color\":\"black\",\"width\":1.5},\"mode\":\"lines+lines\",\"name\":\"\",\"opacity\":0.1,\"x\":[1,2,3,4,5,6,7,8,9,10],\"y\":[0.14388959555816408,0.12166702245362594,0.07971021725000005,0.05820577057935707,0.050756238100013805,0.04621500984152568,0.044767196081106894,0.044194032218153205,0.04375775603632182,0.041164080552017125],\"type\":\"scatter\"},{\"hovertext\":\"<b>Topic 61</b>:pneu_pneus_pastilhas_freio_coleta_\",\"line\":{\"color\":\"black\",\"width\":1.5},\"mode\":\"lines+lines\",\"name\":\"\",\"opacity\":0.1,\"x\":[1,2,3,4,5,6,7,8,9,10],\"y\":[0.12619356236939316,0.06870603951126086,0.05233572294403648,0.04002136528980497,0.035039453025155744,0.02797396684182284,0.024537871254021737,0.024018692852279665,0.023710652092990066,0.02162375811725115],\"type\":\"scatter\"},{\"hovertext\":\"<b>Topic 62</b>:vestido_vestidos_casamento_naciona\",\"line\":{\"color\":\"black\",\"width\":1.5},\"mode\":\"lines+lines\",\"name\":\"\",\"opacity\":0.1,\"x\":[1,2,3,4,5,6,7,8,9,10],\"y\":[0.16864744223536834,0.10052409222175965,0.05598808347045483,0.05092009851461161,0.04630700549479077,0.03639386884283852,0.035558906005843674,0.03373555393633529,0.03197338197553326,0.03177372530557765],\"type\":\"scatter\"},{\"hovertext\":\"<b>Topic 63</b>:fog\\u00e3o_notebook_atlas_produto_recol\",\"line\":{\"color\":\"black\",\"width\":1.5},\"mode\":\"lines+lines\",\"name\":\"\",\"opacity\":0.1,\"x\":[1,2,3,4,5,6,7,8,9,10],\"y\":[0.02528782931789786,0.021596076948637143,0.020260097695442517,0.01937848657421807,0.019111506653729793,0.017528665706823886,0.016691907731460134,0.01613568987627976,0.015994024355307782,0.015278631572786317],\"type\":\"scatter\"},{\"hovertext\":\"<b>Topic 64</b>:cupom_finalizar_desconto_reais_ame\",\"line\":{\"color\":\"black\",\"width\":1.5},\"mode\":\"lines+lines\",\"name\":\"\",\"opacity\":0.1,\"x\":[1,2,3,4,5,6,7,8,9,10],\"y\":[0.23353187017440774,0.05827469403109045,0.03525009361123136,0.03405902229392704,0.03290903263685429,0.028862029281245784,0.028139081689271372,0.02805880196559328,0.02699858723303469,0.02634247287068],\"type\":\"scatter\"},{\"hovertext\":\"<b>Topic 65</b>:cart\\u00e3o_bloqueada_conta_negado_fatu\",\"line\":{\"color\":\"black\",\"width\":1.5},\"mode\":\"lines+lines\",\"name\":\"\",\"opacity\":0.1,\"x\":[1,2,3,4,5,6,7,8,9,10],\"y\":[0.0836418650402966,0.07451447377399385,0.06652744723702184,0.0575347955039294,0.05253307060512554,0.03652148279668352,0.033408413390449296,0.03162239880813779,0.029603880276032817,0.029535201153027282],\"type\":\"scatter\"},{\"hovertext\":\"<b>Topic 66</b>:americana_ningu\\u00e9m_entrega_recebeu_\",\"line\":{\"color\":\"black\",\"width\":1.5},\"mode\":\"lines+lines\",\"name\":\"\",\"opacity\":0.1,\"x\":[1,2,3,4,5,6,7,8,9,10],\"y\":[0.03224663673748485,0.029146598847669118,0.02584049708879906,0.02344480295032062,0.022561512440820816,0.021165118143002818,0.01951960458692058,0.019108953605105505,0.018583916570941675,0.016963873981354613],\"type\":\"scatter\"},{\"hovertext\":\"<b>Topic 67</b>:entrega_preciso_pedido_hor\\u00e1rio_pra\",\"line\":{\"color\":\"black\",\"width\":1.5},\"mode\":\"lines+lines\",\"name\":\"\",\"opacity\":0.1,\"x\":[1,2,3,4,5,6,7,8,9,10],\"y\":[0.03198602867277166,0.024092659139040632,0.0219653328667808,0.020420161975577722,0.019424811179413238,0.019367399274055622,0.019304409667248782,0.01916970631562783,0.01870940454327779,0.01844778231687597],\"type\":\"scatter\"},{\"hovertext\":\"<b>Topic 68</b>:11_entrega_jogo_atraso_11o_chegar_\",\"line\":{\"color\":\"black\",\"width\":1.5},\"mode\":\"lines+lines\",\"name\":\"\",\"opacity\":0.1,\"x\":[1,2,3,4,5,6,7,8,9,10],\"y\":[0.09352868218914825,0.04217570430770141,0.034640576351118925,0.032080409677278945,0.03146048367452545,0.026892514584978572,0.026276567821734837,0.02612779009984973,0.02369077024603227,0.02292427794378896],\"type\":\"scatter\"},{\"hovertext\":\"<b>Topic 69</b>:prime_video_v\\u00eddeo_teste_ifood_assi\",\"line\":{\"color\":\"black\",\"width\":1.5},\"mode\":\"lines+lines\",\"name\":\"\",\"opacity\":0.1,\"x\":[1,2,3,4,5,6,7,8,9,10],\"y\":[0.17258659393918052,0.1603871371745292,0.1217818619023894,0.10417611993868346,0.0783941579075702,0.07580444264659975,0.06730872133835009,0.046705491733658594,0.04516690164718452,0.04359936636541393],\"type\":\"scatter\"},{\"hovertext\":\"<b>Topic 70</b>:internacional_nacionais_nacional_3\",\"line\":{\"color\":\"black\",\"width\":1.5},\"mode\":\"lines+lines\",\"name\":\"\",\"opacity\":0.1,\"x\":[1,2,3,4,5,6,7,8,9,10],\"y\":[0.13569306712160156,0.12522005945582626,0.09492676328833599,0.08062670836344973,0.07899634257371432,0.06721560968252732,0.06096955157410759,0.060511573939347585,0.05524164248949605,0.054327465601301944],\"type\":\"scatter\"},{\"hovertext\":\"<b>Topic 71</b>:c\\u00e2mera_vendedora_v\\u00eddeo_camera_por\\u00e9\",\"line\":{\"color\":\"black\",\"width\":1.5},\"mode\":\"lines+lines\",\"name\":\"\",\"opacity\":0.1,\"x\":[1,2,3,4,5,6,7,8,9,10],\"y\":[0.08984358277516401,0.07581026850484106,0.03877243039200005,0.035832569139152504,0.02984175734106131,0.028312579100467264,0.02624713366772249,0.02624713366772249,0.025154766226148453,0.024122200944197054],\"type\":\"scatter\"},{\"hovertext\":\"<b>Topic 72</b>:endere\\u00e7o_croppeds_tentativa_mail_c\",\"line\":{\"color\":\"black\",\"width\":1.5},\"mode\":\"lines+lines\",\"name\":\"\",\"opacity\":0.1,\"x\":[1,2,3,4,5,6,7,8,9,10],\"y\":[0.06633945467336246,0.05232655402127423,0.03701164533867635,0.0346973307129028,0.033364355096454176,0.02975977677910738,0.028414668018342772,0.028377361163606455,0.028377361163606455,0.028377361163606455],\"type\":\"scatter\"}],                        {\"template\":{\"data\":{\"barpolar\":[{\"marker\":{\"line\":{\"color\":\"white\",\"width\":0.5},\"pattern\":{\"fillmode\":\"overlay\",\"size\":10,\"solidity\":0.2}},\"type\":\"barpolar\"}],\"bar\":[{\"error_x\":{\"color\":\"#2a3f5f\"},\"error_y\":{\"color\":\"#2a3f5f\"},\"marker\":{\"line\":{\"color\":\"white\",\"width\":0.5},\"pattern\":{\"fillmode\":\"overlay\",\"size\":10,\"solidity\":0.2}},\"type\":\"bar\"}],\"carpet\":[{\"aaxis\":{\"endlinecolor\":\"#2a3f5f\",\"gridcolor\":\"#C8D4E3\",\"linecolor\":\"#C8D4E3\",\"minorgridcolor\":\"#C8D4E3\",\"startlinecolor\":\"#2a3f5f\"},\"baxis\":{\"endlinecolor\":\"#2a3f5f\",\"gridcolor\":\"#C8D4E3\",\"linecolor\":\"#C8D4E3\",\"minorgridcolor\":\"#C8D4E3\",\"startlinecolor\":\"#2a3f5f\"},\"type\":\"carpet\"}],\"choropleth\":[{\"colorbar\":{\"outlinewidth\":0,\"ticks\":\"\"},\"type\":\"choropleth\"}],\"contourcarpet\":[{\"colorbar\":{\"outlinewidth\":0,\"ticks\":\"\"},\"type\":\"contourcarpet\"}],\"contour\":[{\"colorbar\":{\"outlinewidth\":0,\"ticks\":\"\"},\"colorscale\":[[0.0,\"#0d0887\"],[0.1111111111111111,\"#46039f\"],[0.2222222222222222,\"#7201a8\"],[0.3333333333333333,\"#9c179e\"],[0.4444444444444444,\"#bd3786\"],[0.5555555555555556,\"#d8576b\"],[0.6666666666666666,\"#ed7953\"],[0.7777777777777778,\"#fb9f3a\"],[0.8888888888888888,\"#fdca26\"],[1.0,\"#f0f921\"]],\"type\":\"contour\"}],\"heatmapgl\":[{\"colorbar\":{\"outlinewidth\":0,\"ticks\":\"\"},\"colorscale\":[[0.0,\"#0d0887\"],[0.1111111111111111,\"#46039f\"],[0.2222222222222222,\"#7201a8\"],[0.3333333333333333,\"#9c179e\"],[0.4444444444444444,\"#bd3786\"],[0.5555555555555556,\"#d8576b\"],[0.6666666666666666,\"#ed7953\"],[0.7777777777777778,\"#fb9f3a\"],[0.8888888888888888,\"#fdca26\"],[1.0,\"#f0f921\"]],\"type\":\"heatmapgl\"}],\"heatmap\":[{\"colorbar\":{\"outlinewidth\":0,\"ticks\":\"\"},\"colorscale\":[[0.0,\"#0d0887\"],[0.1111111111111111,\"#46039f\"],[0.2222222222222222,\"#7201a8\"],[0.3333333333333333,\"#9c179e\"],[0.4444444444444444,\"#bd3786\"],[0.5555555555555556,\"#d8576b\"],[0.6666666666666666,\"#ed7953\"],[0.7777777777777778,\"#fb9f3a\"],[0.8888888888888888,\"#fdca26\"],[1.0,\"#f0f921\"]],\"type\":\"heatmap\"}],\"histogram2dcontour\":[{\"colorbar\":{\"outlinewidth\":0,\"ticks\":\"\"},\"colorscale\":[[0.0,\"#0d0887\"],[0.1111111111111111,\"#46039f\"],[0.2222222222222222,\"#7201a8\"],[0.3333333333333333,\"#9c179e\"],[0.4444444444444444,\"#bd3786\"],[0.5555555555555556,\"#d8576b\"],[0.6666666666666666,\"#ed7953\"],[0.7777777777777778,\"#fb9f3a\"],[0.8888888888888888,\"#fdca26\"],[1.0,\"#f0f921\"]],\"type\":\"histogram2dcontour\"}],\"histogram2d\":[{\"colorbar\":{\"outlinewidth\":0,\"ticks\":\"\"},\"colorscale\":[[0.0,\"#0d0887\"],[0.1111111111111111,\"#46039f\"],[0.2222222222222222,\"#7201a8\"],[0.3333333333333333,\"#9c179e\"],[0.4444444444444444,\"#bd3786\"],[0.5555555555555556,\"#d8576b\"],[0.6666666666666666,\"#ed7953\"],[0.7777777777777778,\"#fb9f3a\"],[0.8888888888888888,\"#fdca26\"],[1.0,\"#f0f921\"]],\"type\":\"histogram2d\"}],\"histogram\":[{\"marker\":{\"pattern\":{\"fillmode\":\"overlay\",\"size\":10,\"solidity\":0.2}},\"type\":\"histogram\"}],\"mesh3d\":[{\"colorbar\":{\"outlinewidth\":0,\"ticks\":\"\"},\"type\":\"mesh3d\"}],\"parcoords\":[{\"line\":{\"colorbar\":{\"outlinewidth\":0,\"ticks\":\"\"}},\"type\":\"parcoords\"}],\"pie\":[{\"automargin\":true,\"type\":\"pie\"}],\"scatter3d\":[{\"line\":{\"colorbar\":{\"outlinewidth\":0,\"ticks\":\"\"}},\"marker\":{\"colorbar\":{\"outlinewidth\":0,\"ticks\":\"\"}},\"type\":\"scatter3d\"}],\"scattercarpet\":[{\"marker\":{\"colorbar\":{\"outlinewidth\":0,\"ticks\":\"\"}},\"type\":\"scattercarpet\"}],\"scattergeo\":[{\"marker\":{\"colorbar\":{\"outlinewidth\":0,\"ticks\":\"\"}},\"type\":\"scattergeo\"}],\"scattergl\":[{\"marker\":{\"colorbar\":{\"outlinewidth\":0,\"ticks\":\"\"}},\"type\":\"scattergl\"}],\"scattermapbox\":[{\"marker\":{\"colorbar\":{\"outlinewidth\":0,\"ticks\":\"\"}},\"type\":\"scattermapbox\"}],\"scatterpolargl\":[{\"marker\":{\"colorbar\":{\"outlinewidth\":0,\"ticks\":\"\"}},\"type\":\"scatterpolargl\"}],\"scatterpolar\":[{\"marker\":{\"colorbar\":{\"outlinewidth\":0,\"ticks\":\"\"}},\"type\":\"scatterpolar\"}],\"scatter\":[{\"marker\":{\"colorbar\":{\"outlinewidth\":0,\"ticks\":\"\"}},\"type\":\"scatter\"}],\"scatterternary\":[{\"marker\":{\"colorbar\":{\"outlinewidth\":0,\"ticks\":\"\"}},\"type\":\"scatterternary\"}],\"surface\":[{\"colorbar\":{\"outlinewidth\":0,\"ticks\":\"\"},\"colorscale\":[[0.0,\"#0d0887\"],[0.1111111111111111,\"#46039f\"],[0.2222222222222222,\"#7201a8\"],[0.3333333333333333,\"#9c179e\"],[0.4444444444444444,\"#bd3786\"],[0.5555555555555556,\"#d8576b\"],[0.6666666666666666,\"#ed7953\"],[0.7777777777777778,\"#fb9f3a\"],[0.8888888888888888,\"#fdca26\"],[1.0,\"#f0f921\"]],\"type\":\"surface\"}],\"table\":[{\"cells\":{\"fill\":{\"color\":\"#EBF0F8\"},\"line\":{\"color\":\"white\"}},\"header\":{\"fill\":{\"color\":\"#C8D4E3\"},\"line\":{\"color\":\"white\"}},\"type\":\"table\"}]},\"layout\":{\"annotationdefaults\":{\"arrowcolor\":\"#2a3f5f\",\"arrowhead\":0,\"arrowwidth\":1},\"autotypenumbers\":\"strict\",\"coloraxis\":{\"colorbar\":{\"outlinewidth\":0,\"ticks\":\"\"}},\"colorscale\":{\"diverging\":[[0,\"#8e0152\"],[0.1,\"#c51b7d\"],[0.2,\"#de77ae\"],[0.3,\"#f1b6da\"],[0.4,\"#fde0ef\"],[0.5,\"#f7f7f7\"],[0.6,\"#e6f5d0\"],[0.7,\"#b8e186\"],[0.8,\"#7fbc41\"],[0.9,\"#4d9221\"],[1,\"#276419\"]],\"sequential\":[[0.0,\"#0d0887\"],[0.1111111111111111,\"#46039f\"],[0.2222222222222222,\"#7201a8\"],[0.3333333333333333,\"#9c179e\"],[0.4444444444444444,\"#bd3786\"],[0.5555555555555556,\"#d8576b\"],[0.6666666666666666,\"#ed7953\"],[0.7777777777777778,\"#fb9f3a\"],[0.8888888888888888,\"#fdca26\"],[1.0,\"#f0f921\"]],\"sequentialminus\":[[0.0,\"#0d0887\"],[0.1111111111111111,\"#46039f\"],[0.2222222222222222,\"#7201a8\"],[0.3333333333333333,\"#9c179e\"],[0.4444444444444444,\"#bd3786\"],[0.5555555555555556,\"#d8576b\"],[0.6666666666666666,\"#ed7953\"],[0.7777777777777778,\"#fb9f3a\"],[0.8888888888888888,\"#fdca26\"],[1.0,\"#f0f921\"]]},\"colorway\":[\"#636efa\",\"#EF553B\",\"#00cc96\",\"#ab63fa\",\"#FFA15A\",\"#19d3f3\",\"#FF6692\",\"#B6E880\",\"#FF97FF\",\"#FECB52\"],\"font\":{\"color\":\"#2a3f5f\"},\"geo\":{\"bgcolor\":\"white\",\"lakecolor\":\"white\",\"landcolor\":\"white\",\"showlakes\":true,\"showland\":true,\"subunitcolor\":\"#C8D4E3\"},\"hoverlabel\":{\"align\":\"left\"},\"hovermode\":\"closest\",\"mapbox\":{\"style\":\"light\"},\"paper_bgcolor\":\"white\",\"plot_bgcolor\":\"white\",\"polar\":{\"angularaxis\":{\"gridcolor\":\"#EBF0F8\",\"linecolor\":\"#EBF0F8\",\"ticks\":\"\"},\"bgcolor\":\"white\",\"radialaxis\":{\"gridcolor\":\"#EBF0F8\",\"linecolor\":\"#EBF0F8\",\"ticks\":\"\"}},\"scene\":{\"xaxis\":{\"backgroundcolor\":\"white\",\"gridcolor\":\"#DFE8F3\",\"gridwidth\":2,\"linecolor\":\"#EBF0F8\",\"showbackground\":true,\"ticks\":\"\",\"zerolinecolor\":\"#EBF0F8\"},\"yaxis\":{\"backgroundcolor\":\"white\",\"gridcolor\":\"#DFE8F3\",\"gridwidth\":2,\"linecolor\":\"#EBF0F8\",\"showbackground\":true,\"ticks\":\"\",\"zerolinecolor\":\"#EBF0F8\"},\"zaxis\":{\"backgroundcolor\":\"white\",\"gridcolor\":\"#DFE8F3\",\"gridwidth\":2,\"linecolor\":\"#EBF0F8\",\"showbackground\":true,\"ticks\":\"\",\"zerolinecolor\":\"#EBF0F8\"}},\"shapedefaults\":{\"line\":{\"color\":\"#2a3f5f\"}},\"ternary\":{\"aaxis\":{\"gridcolor\":\"#DFE8F3\",\"linecolor\":\"#A2B1C6\",\"ticks\":\"\"},\"baxis\":{\"gridcolor\":\"#DFE8F3\",\"linecolor\":\"#A2B1C6\",\"ticks\":\"\"},\"bgcolor\":\"white\",\"caxis\":{\"gridcolor\":\"#DFE8F3\",\"linecolor\":\"#A2B1C6\",\"ticks\":\"\"}},\"title\":{\"x\":0.05},\"xaxis\":{\"automargin\":true,\"gridcolor\":\"#EBF0F8\",\"linecolor\":\"#EBF0F8\",\"ticks\":\"\",\"title\":{\"standoff\":15},\"zerolinecolor\":\"#EBF0F8\",\"zerolinewidth\":2},\"yaxis\":{\"automargin\":true,\"gridcolor\":\"#EBF0F8\",\"linecolor\":\"#EBF0F8\",\"ticks\":\"\",\"title\":{\"standoff\":15},\"zerolinecolor\":\"#EBF0F8\",\"zerolinewidth\":2}}},\"xaxis\":{\"range\":[0,10],\"tick0\":1,\"dtick\":2,\"title\":{\"text\":\"Term Rank\"}},\"title\":{\"font\":{\"size\":22,\"color\":\"Black\"},\"text\":\"<b>Term score decline per Topic</b>\",\"y\":0.9,\"x\":0.5,\"xanchor\":\"center\",\"yanchor\":\"top\"},\"hoverlabel\":{\"font\":{\"size\":16,\"family\":\"Rockwell\"},\"bgcolor\":\"white\"},\"showlegend\":false,\"width\":800,\"height\":500,\"yaxis\":{\"title\":{\"text\":\"c-TF-IDF score\"}}},                        {\"responsive\": true}                    ).then(function(){\n",
              "                            \n",
              "var gd = document.getElementById('e70721dd-5f5a-426c-bcd8-195597d11c05');\n",
              "var x = new MutationObserver(function (mutations, observer) {{\n",
              "        var display = window.getComputedStyle(gd).display;\n",
              "        if (!display || display === 'none') {{\n",
              "            console.log([gd, 'removed!']);\n",
              "            Plotly.purge(gd);\n",
              "            observer.disconnect();\n",
              "        }}\n",
              "}});\n",
              "\n",
              "// Listen for the removal of the full notebook cells\n",
              "var notebookContainer = gd.closest('#notebook-container');\n",
              "if (notebookContainer) {{\n",
              "    x.observe(notebookContainer, {childList: true});\n",
              "}}\n",
              "\n",
              "// Listen for the clearing of the current output cell\n",
              "var outputEl = gd.closest('.output');\n",
              "if (outputEl) {{\n",
              "    x.observe(outputEl, {childList: true});\n",
              "}}\n",
              "\n",
              "                        })                };                            </script>        </div>\n",
              "</body>\n",
              "</html>"
            ]
          },
          "metadata": {}
        }
      ]
    },
    {
      "cell_type": "markdown",
      "source": [
        "## **Term search**"
      ],
      "metadata": {
        "id": "AZIV-p12ZMXa"
      }
    },
    {
      "cell_type": "code",
      "source": [
        "# Find topics that contains blackfriday term\n",
        "similar_topics, similarity = topic_model.find_topics(\"blackfriday\", top_n=5)\n",
        "\n",
        "# Show similar topics\n",
        "similar_topics"
      ],
      "metadata": {
        "id": "pHHayMGRZOob",
        "outputId": "ab8a2648-7b80-41fe-f4ed-49ea17d67166",
        "colab": {
          "base_uri": "https://localhost:8080/"
        }
      },
      "execution_count": 59,
      "outputs": [
        {
          "output_type": "execute_result",
          "data": {
            "text/plain": [
              "[65, 23, 68, 64, 20]"
            ]
          },
          "metadata": {},
          "execution_count": 59
        }
      ]
    },
    {
      "cell_type": "code",
      "source": [
        "# Show a specific topic\n",
        "topic_model.get_topic(20)"
      ],
      "metadata": {
        "id": "2BnwvRotZUya",
        "outputId": "9dd0fab7-94b0-4bdc-d92e-0dfb7cbc1a01",
        "colab": {
          "base_uri": "https://localhost:8080/"
        }
      },
      "execution_count": 60,
      "outputs": [
        {
          "output_type": "execute_result",
          "data": {
            "text/plain": [
              "[('curitiba', 0.21259335087648767),\n",
              " ('parado', 0.0522626897800864),\n",
              " ('trânsito', 0.051179972427955314),\n",
              " ('encomenda', 0.04193574303534422),\n",
              " ('parada', 0.03581736973479072),\n",
              " ('pedido', 0.03351346729632609),\n",
              " ('shein', 0.02820351870096115),\n",
              " ('novembro', 0.027765812432384497),\n",
              " ('chegou', 0.025759335897538982),\n",
              " ('dia', 0.023678144634788456)]"
            ]
          },
          "metadata": {},
          "execution_count": 60
        }
      ]
    },
    {
      "cell_type": "markdown",
      "source": [
        "### **Topic Reduction**"
      ],
      "metadata": {
        "id": "Lf78SHIeYzMC"
      }
    },
    {
      "cell_type": "code",
      "source": [
        "#new_topic_model = topic_model.reduce_topics(df.documents, nr_topics=40)\n",
        "#new_topics = new_topic_model.topics_\n",
        "#new_probs = new_topic_model.probabilities_"
      ],
      "metadata": {
        "id": "wtVMrXHGY4GM",
        "outputId": "58720d45-e150-484f-ca8f-a2d442703c01",
        "colab": {
          "base_uri": "https://localhost:8080/",
          "height": 363
        }
      },
      "execution_count": 41,
      "outputs": [
        {
          "output_type": "stream",
          "name": "stderr",
          "text": [
            "2022-12-11 03:28:29,843 - BERTopic - Reduced number of topics from 13 to 13\n"
          ]
        },
        {
          "output_type": "error",
          "ename": "IndexError",
          "evalue": "ignored",
          "traceback": [
            "\u001b[0;31m---------------------------------------------------------------------------\u001b[0m",
            "\u001b[0;31mIndexError\u001b[0m                                Traceback (most recent call last)",
            "\u001b[0;32m<ipython-input-41-99862a886a4d>\u001b[0m in \u001b[0;36m<module>\u001b[0;34m\u001b[0m\n\u001b[0;32m----> 1\u001b[0;31m \u001b[0mnew_topic_model\u001b[0m \u001b[0;34m=\u001b[0m \u001b[0mtopic_model\u001b[0m\u001b[0;34m.\u001b[0m\u001b[0mreduce_topics\u001b[0m\u001b[0;34m(\u001b[0m\u001b[0mdf\u001b[0m\u001b[0;34m.\u001b[0m\u001b[0mdocuments\u001b[0m\u001b[0;34m,\u001b[0m \u001b[0mnr_topics\u001b[0m\u001b[0;34m=\u001b[0m\u001b[0;36m40\u001b[0m\u001b[0;34m)\u001b[0m\u001b[0;34m\u001b[0m\u001b[0;34m\u001b[0m\u001b[0m\n\u001b[0m\u001b[1;32m      2\u001b[0m \u001b[0mnew_topics\u001b[0m \u001b[0;34m=\u001b[0m \u001b[0mnew_topic_model\u001b[0m\u001b[0;34m.\u001b[0m\u001b[0mtopics_\u001b[0m\u001b[0;34m\u001b[0m\u001b[0;34m\u001b[0m\u001b[0m\n\u001b[1;32m      3\u001b[0m \u001b[0mnew_probs\u001b[0m \u001b[0;34m=\u001b[0m \u001b[0mnew_topic_model\u001b[0m\u001b[0;34m.\u001b[0m\u001b[0mprobabilities_\u001b[0m\u001b[0;34m\u001b[0m\u001b[0;34m\u001b[0m\u001b[0m\n",
            "\u001b[0;32m/usr/local/lib/python3.8/dist-packages/bertopic/_bertopic.py\u001b[0m in \u001b[0;36mreduce_topics\u001b[0;34m(self, docs, nr_topics)\u001b[0m\n\u001b[1;32m   1502\u001b[0m \u001b[0;34m\u001b[0m\u001b[0m\n\u001b[1;32m   1503\u001b[0m         \u001b[0;31m# Map probabilities\u001b[0m\u001b[0;34m\u001b[0m\u001b[0;34m\u001b[0m\u001b[0;34m\u001b[0m\u001b[0m\n\u001b[0;32m-> 1504\u001b[0;31m         \u001b[0mself\u001b[0m\u001b[0;34m.\u001b[0m\u001b[0mprobabilities_\u001b[0m \u001b[0;34m=\u001b[0m \u001b[0mself\u001b[0m\u001b[0;34m.\u001b[0m\u001b[0m_map_probabilities\u001b[0m\u001b[0;34m(\u001b[0m\u001b[0mself\u001b[0m\u001b[0;34m.\u001b[0m\u001b[0mprobabilities_\u001b[0m\u001b[0;34m)\u001b[0m\u001b[0;34m\u001b[0m\u001b[0;34m\u001b[0m\u001b[0m\n\u001b[0m\u001b[1;32m   1505\u001b[0m \u001b[0;34m\u001b[0m\u001b[0m\n\u001b[1;32m   1506\u001b[0m         \u001b[0;32mreturn\u001b[0m \u001b[0mself\u001b[0m\u001b[0;34m\u001b[0m\u001b[0;34m\u001b[0m\u001b[0m\n",
            "\u001b[0;32m/usr/local/lib/python3.8/dist-packages/bertopic/_bertopic.py\u001b[0m in \u001b[0;36m_map_probabilities\u001b[0;34m(self, probabilities, original_topics)\u001b[0m\n\u001b[1;32m   2778\u001b[0m                 \u001b[0;32mfor\u001b[0m \u001b[0mfrom_topic\u001b[0m\u001b[0;34m,\u001b[0m \u001b[0mto_topic\u001b[0m \u001b[0;32min\u001b[0m \u001b[0mmappings\u001b[0m\u001b[0;34m.\u001b[0m\u001b[0mitems\u001b[0m\u001b[0;34m(\u001b[0m\u001b[0;34m)\u001b[0m\u001b[0;34m:\u001b[0m\u001b[0;34m\u001b[0m\u001b[0;34m\u001b[0m\u001b[0m\n\u001b[1;32m   2779\u001b[0m                     \u001b[0;32mif\u001b[0m \u001b[0mto_topic\u001b[0m \u001b[0;34m!=\u001b[0m \u001b[0;34m-\u001b[0m\u001b[0;36m1\u001b[0m \u001b[0;32mand\u001b[0m \u001b[0mfrom_topic\u001b[0m \u001b[0;34m!=\u001b[0m \u001b[0;34m-\u001b[0m\u001b[0;36m1\u001b[0m\u001b[0;34m:\u001b[0m\u001b[0;34m\u001b[0m\u001b[0;34m\u001b[0m\u001b[0m\n\u001b[0;32m-> 2780\u001b[0;31m                         \u001b[0mmapped_probabilities\u001b[0m\u001b[0;34m[\u001b[0m\u001b[0;34m:\u001b[0m\u001b[0;34m,\u001b[0m \u001b[0mto_topic\u001b[0m\u001b[0;34m]\u001b[0m \u001b[0;34m+=\u001b[0m \u001b[0mprobabilities\u001b[0m\u001b[0;34m[\u001b[0m\u001b[0;34m:\u001b[0m\u001b[0;34m,\u001b[0m \u001b[0mfrom_topic\u001b[0m\u001b[0;34m]\u001b[0m\u001b[0;34m\u001b[0m\u001b[0;34m\u001b[0m\u001b[0m\n\u001b[0m\u001b[1;32m   2781\u001b[0m \u001b[0;34m\u001b[0m\u001b[0m\n\u001b[1;32m   2782\u001b[0m                 \u001b[0;32mreturn\u001b[0m \u001b[0mmapped_probabilities\u001b[0m\u001b[0;34m\u001b[0m\u001b[0;34m\u001b[0m\u001b[0m\n",
            "\u001b[0;31mIndexError\u001b[0m: index 50 is out of bounds for axis 1 with size 12"
          ]
        }
      ]
    },
    {
      "cell_type": "code",
      "source": [
        "#new_topic_model.visualize_topics()"
      ],
      "metadata": {
        "id": "W1mW2iTeaU04",
        "outputId": "bb501975-a2e6-4bb5-c295-612d082f30b7",
        "colab": {
          "base_uri": "https://localhost:8080/",
          "height": 667
        }
      },
      "execution_count": 36,
      "outputs": [
        {
          "output_type": "display_data",
          "data": {
            "text/html": [
              "<html>\n",
              "<head><meta charset=\"utf-8\" /></head>\n",
              "<body>\n",
              "    <div>            <script src=\"https://cdnjs.cloudflare.com/ajax/libs/mathjax/2.7.5/MathJax.js?config=TeX-AMS-MML_SVG\"></script><script type=\"text/javascript\">if (window.MathJax) {MathJax.Hub.Config({SVG: {font: \"STIX-Web\"}});}</script>                <script type=\"text/javascript\">window.PlotlyConfig = {MathJaxConfig: 'local'};</script>\n",
              "        <script src=\"https://cdn.plot.ly/plotly-2.8.3.min.js\"></script>                <div id=\"756b99b9-4165-4169-bdac-dca0695cc431\" class=\"plotly-graph-div\" style=\"height:650px; width:650px;\"></div>            <script type=\"text/javascript\">                                    window.PLOTLYENV=window.PLOTLYENV || {};                                    if (document.getElementById(\"756b99b9-4165-4169-bdac-dca0695cc431\")) {                    Plotly.newPlot(                        \"756b99b9-4165-4169-bdac-dca0695cc431\",                        [{\"customdata\":[[0,\"amazon | de | que | n\\u00e3o | da\",1618],[1,\"entrega | dia | de | 11 | n\\u00e3o\",775],[2,\"bahia | casas | que | n\\u00e3o | de\",725],[3,\"pedido | n\\u00e3o | endere\\u00e7o | entregue | meu\",367],[4,\"de | celular | que | no | um\",350],[5,\"reembolso | n\\u00e3o | shein | de | meu\",332],[6,\"que | de | n\\u00e3o | no | com\",279],[7,\"conta | minha | n\\u00e3o | que | senha\",261],[8,\"produto | que | de | com | n\\u00e3o\",208],[9,\"mercado | livre | que | de | n\\u00e3o\",198],[10,\"propaganda | enganosa | de | que | no\",178],[11,\"cancelamento | cancelar | pedido | n\\u00e3o | de\",170]],\"hovertemplate\":\"<b>Topic %{customdata[0]}</b><br>Words: %{customdata[1]}<br>Size: %{customdata[2]}\",\"legendgroup\":\"\",\"marker\":{\"color\":\"#B0BEC5\",\"size\":[1618,775,725,367,350,332,279,261,208,198,178,170],\"sizemode\":\"area\",\"sizeref\":1.01125,\"symbol\":\"circle\",\"line\":{\"color\":\"DarkSlateGrey\",\"width\":2}},\"mode\":\"markers\",\"name\":\"\",\"orientation\":\"v\",\"showlegend\":false,\"x\":[11.56080150604248,12.656901359558105,12.182873725891113,12.947060585021973,11.149822235107422,-9.185405731201172,11.31379222869873,-0.5761516690254211,-1.1617240905761719,-0.971488893032074,-0.5657019019126892,-8.953418731689453],\"xaxis\":\"x\",\"y\":[6.107334136962891,4.8793134689331055,5.327291488647461,4.536489009857178,6.625256061553955,31.953630447387695,5.709216117858887,1.3729403018951416,2.150768756866455,1.6987360715866089,1.9363454580307007,32.18560028076172],\"yaxis\":\"y\",\"type\":\"scatter\"}],                        {\"template\":{\"data\":{\"barpolar\":[{\"marker\":{\"line\":{\"color\":\"white\",\"width\":0.5},\"pattern\":{\"fillmode\":\"overlay\",\"size\":10,\"solidity\":0.2}},\"type\":\"barpolar\"}],\"bar\":[{\"error_x\":{\"color\":\"rgb(36,36,36)\"},\"error_y\":{\"color\":\"rgb(36,36,36)\"},\"marker\":{\"line\":{\"color\":\"white\",\"width\":0.5},\"pattern\":{\"fillmode\":\"overlay\",\"size\":10,\"solidity\":0.2}},\"type\":\"bar\"}],\"carpet\":[{\"aaxis\":{\"endlinecolor\":\"rgb(36,36,36)\",\"gridcolor\":\"white\",\"linecolor\":\"white\",\"minorgridcolor\":\"white\",\"startlinecolor\":\"rgb(36,36,36)\"},\"baxis\":{\"endlinecolor\":\"rgb(36,36,36)\",\"gridcolor\":\"white\",\"linecolor\":\"white\",\"minorgridcolor\":\"white\",\"startlinecolor\":\"rgb(36,36,36)\"},\"type\":\"carpet\"}],\"choropleth\":[{\"colorbar\":{\"outlinewidth\":1,\"tickcolor\":\"rgb(36,36,36)\",\"ticks\":\"outside\"},\"type\":\"choropleth\"}],\"contourcarpet\":[{\"colorbar\":{\"outlinewidth\":1,\"tickcolor\":\"rgb(36,36,36)\",\"ticks\":\"outside\"},\"type\":\"contourcarpet\"}],\"contour\":[{\"colorbar\":{\"outlinewidth\":1,\"tickcolor\":\"rgb(36,36,36)\",\"ticks\":\"outside\"},\"colorscale\":[[0.0,\"#440154\"],[0.1111111111111111,\"#482878\"],[0.2222222222222222,\"#3e4989\"],[0.3333333333333333,\"#31688e\"],[0.4444444444444444,\"#26828e\"],[0.5555555555555556,\"#1f9e89\"],[0.6666666666666666,\"#35b779\"],[0.7777777777777778,\"#6ece58\"],[0.8888888888888888,\"#b5de2b\"],[1.0,\"#fde725\"]],\"type\":\"contour\"}],\"heatmapgl\":[{\"colorbar\":{\"outlinewidth\":1,\"tickcolor\":\"rgb(36,36,36)\",\"ticks\":\"outside\"},\"colorscale\":[[0.0,\"#440154\"],[0.1111111111111111,\"#482878\"],[0.2222222222222222,\"#3e4989\"],[0.3333333333333333,\"#31688e\"],[0.4444444444444444,\"#26828e\"],[0.5555555555555556,\"#1f9e89\"],[0.6666666666666666,\"#35b779\"],[0.7777777777777778,\"#6ece58\"],[0.8888888888888888,\"#b5de2b\"],[1.0,\"#fde725\"]],\"type\":\"heatmapgl\"}],\"heatmap\":[{\"colorbar\":{\"outlinewidth\":1,\"tickcolor\":\"rgb(36,36,36)\",\"ticks\":\"outside\"},\"colorscale\":[[0.0,\"#440154\"],[0.1111111111111111,\"#482878\"],[0.2222222222222222,\"#3e4989\"],[0.3333333333333333,\"#31688e\"],[0.4444444444444444,\"#26828e\"],[0.5555555555555556,\"#1f9e89\"],[0.6666666666666666,\"#35b779\"],[0.7777777777777778,\"#6ece58\"],[0.8888888888888888,\"#b5de2b\"],[1.0,\"#fde725\"]],\"type\":\"heatmap\"}],\"histogram2dcontour\":[{\"colorbar\":{\"outlinewidth\":1,\"tickcolor\":\"rgb(36,36,36)\",\"ticks\":\"outside\"},\"colorscale\":[[0.0,\"#440154\"],[0.1111111111111111,\"#482878\"],[0.2222222222222222,\"#3e4989\"],[0.3333333333333333,\"#31688e\"],[0.4444444444444444,\"#26828e\"],[0.5555555555555556,\"#1f9e89\"],[0.6666666666666666,\"#35b779\"],[0.7777777777777778,\"#6ece58\"],[0.8888888888888888,\"#b5de2b\"],[1.0,\"#fde725\"]],\"type\":\"histogram2dcontour\"}],\"histogram2d\":[{\"colorbar\":{\"outlinewidth\":1,\"tickcolor\":\"rgb(36,36,36)\",\"ticks\":\"outside\"},\"colorscale\":[[0.0,\"#440154\"],[0.1111111111111111,\"#482878\"],[0.2222222222222222,\"#3e4989\"],[0.3333333333333333,\"#31688e\"],[0.4444444444444444,\"#26828e\"],[0.5555555555555556,\"#1f9e89\"],[0.6666666666666666,\"#35b779\"],[0.7777777777777778,\"#6ece58\"],[0.8888888888888888,\"#b5de2b\"],[1.0,\"#fde725\"]],\"type\":\"histogram2d\"}],\"histogram\":[{\"marker\":{\"line\":{\"color\":\"white\",\"width\":0.6}},\"type\":\"histogram\"}],\"mesh3d\":[{\"colorbar\":{\"outlinewidth\":1,\"tickcolor\":\"rgb(36,36,36)\",\"ticks\":\"outside\"},\"type\":\"mesh3d\"}],\"parcoords\":[{\"line\":{\"colorbar\":{\"outlinewidth\":1,\"tickcolor\":\"rgb(36,36,36)\",\"ticks\":\"outside\"}},\"type\":\"parcoords\"}],\"pie\":[{\"automargin\":true,\"type\":\"pie\"}],\"scatter3d\":[{\"line\":{\"colorbar\":{\"outlinewidth\":1,\"tickcolor\":\"rgb(36,36,36)\",\"ticks\":\"outside\"}},\"marker\":{\"colorbar\":{\"outlinewidth\":1,\"tickcolor\":\"rgb(36,36,36)\",\"ticks\":\"outside\"}},\"type\":\"scatter3d\"}],\"scattercarpet\":[{\"marker\":{\"colorbar\":{\"outlinewidth\":1,\"tickcolor\":\"rgb(36,36,36)\",\"ticks\":\"outside\"}},\"type\":\"scattercarpet\"}],\"scattergeo\":[{\"marker\":{\"colorbar\":{\"outlinewidth\":1,\"tickcolor\":\"rgb(36,36,36)\",\"ticks\":\"outside\"}},\"type\":\"scattergeo\"}],\"scattergl\":[{\"marker\":{\"colorbar\":{\"outlinewidth\":1,\"tickcolor\":\"rgb(36,36,36)\",\"ticks\":\"outside\"}},\"type\":\"scattergl\"}],\"scattermapbox\":[{\"marker\":{\"colorbar\":{\"outlinewidth\":1,\"tickcolor\":\"rgb(36,36,36)\",\"ticks\":\"outside\"}},\"type\":\"scattermapbox\"}],\"scatterpolargl\":[{\"marker\":{\"colorbar\":{\"outlinewidth\":1,\"tickcolor\":\"rgb(36,36,36)\",\"ticks\":\"outside\"}},\"type\":\"scatterpolargl\"}],\"scatterpolar\":[{\"marker\":{\"colorbar\":{\"outlinewidth\":1,\"tickcolor\":\"rgb(36,36,36)\",\"ticks\":\"outside\"}},\"type\":\"scatterpolar\"}],\"scatter\":[{\"marker\":{\"colorbar\":{\"outlinewidth\":1,\"tickcolor\":\"rgb(36,36,36)\",\"ticks\":\"outside\"}},\"type\":\"scatter\"}],\"scatterternary\":[{\"marker\":{\"colorbar\":{\"outlinewidth\":1,\"tickcolor\":\"rgb(36,36,36)\",\"ticks\":\"outside\"}},\"type\":\"scatterternary\"}],\"surface\":[{\"colorbar\":{\"outlinewidth\":1,\"tickcolor\":\"rgb(36,36,36)\",\"ticks\":\"outside\"},\"colorscale\":[[0.0,\"#440154\"],[0.1111111111111111,\"#482878\"],[0.2222222222222222,\"#3e4989\"],[0.3333333333333333,\"#31688e\"],[0.4444444444444444,\"#26828e\"],[0.5555555555555556,\"#1f9e89\"],[0.6666666666666666,\"#35b779\"],[0.7777777777777778,\"#6ece58\"],[0.8888888888888888,\"#b5de2b\"],[1.0,\"#fde725\"]],\"type\":\"surface\"}],\"table\":[{\"cells\":{\"fill\":{\"color\":\"rgb(237,237,237)\"},\"line\":{\"color\":\"white\"}},\"header\":{\"fill\":{\"color\":\"rgb(217,217,217)\"},\"line\":{\"color\":\"white\"}},\"type\":\"table\"}]},\"layout\":{\"annotationdefaults\":{\"arrowhead\":0,\"arrowwidth\":1},\"autotypenumbers\":\"strict\",\"coloraxis\":{\"colorbar\":{\"outlinewidth\":1,\"tickcolor\":\"rgb(36,36,36)\",\"ticks\":\"outside\"}},\"colorscale\":{\"diverging\":[[0.0,\"rgb(103,0,31)\"],[0.1,\"rgb(178,24,43)\"],[0.2,\"rgb(214,96,77)\"],[0.3,\"rgb(244,165,130)\"],[0.4,\"rgb(253,219,199)\"],[0.5,\"rgb(247,247,247)\"],[0.6,\"rgb(209,229,240)\"],[0.7,\"rgb(146,197,222)\"],[0.8,\"rgb(67,147,195)\"],[0.9,\"rgb(33,102,172)\"],[1.0,\"rgb(5,48,97)\"]],\"sequential\":[[0.0,\"#440154\"],[0.1111111111111111,\"#482878\"],[0.2222222222222222,\"#3e4989\"],[0.3333333333333333,\"#31688e\"],[0.4444444444444444,\"#26828e\"],[0.5555555555555556,\"#1f9e89\"],[0.6666666666666666,\"#35b779\"],[0.7777777777777778,\"#6ece58\"],[0.8888888888888888,\"#b5de2b\"],[1.0,\"#fde725\"]],\"sequentialminus\":[[0.0,\"#440154\"],[0.1111111111111111,\"#482878\"],[0.2222222222222222,\"#3e4989\"],[0.3333333333333333,\"#31688e\"],[0.4444444444444444,\"#26828e\"],[0.5555555555555556,\"#1f9e89\"],[0.6666666666666666,\"#35b779\"],[0.7777777777777778,\"#6ece58\"],[0.8888888888888888,\"#b5de2b\"],[1.0,\"#fde725\"]]},\"colorway\":[\"#1F77B4\",\"#FF7F0E\",\"#2CA02C\",\"#D62728\",\"#9467BD\",\"#8C564B\",\"#E377C2\",\"#7F7F7F\",\"#BCBD22\",\"#17BECF\"],\"font\":{\"color\":\"rgb(36,36,36)\"},\"geo\":{\"bgcolor\":\"white\",\"lakecolor\":\"white\",\"landcolor\":\"white\",\"showlakes\":true,\"showland\":true,\"subunitcolor\":\"white\"},\"hoverlabel\":{\"align\":\"left\"},\"hovermode\":\"closest\",\"mapbox\":{\"style\":\"light\"},\"paper_bgcolor\":\"white\",\"plot_bgcolor\":\"white\",\"polar\":{\"angularaxis\":{\"gridcolor\":\"rgb(232,232,232)\",\"linecolor\":\"rgb(36,36,36)\",\"showgrid\":false,\"showline\":true,\"ticks\":\"outside\"},\"bgcolor\":\"white\",\"radialaxis\":{\"gridcolor\":\"rgb(232,232,232)\",\"linecolor\":\"rgb(36,36,36)\",\"showgrid\":false,\"showline\":true,\"ticks\":\"outside\"}},\"scene\":{\"xaxis\":{\"backgroundcolor\":\"white\",\"gridcolor\":\"rgb(232,232,232)\",\"gridwidth\":2,\"linecolor\":\"rgb(36,36,36)\",\"showbackground\":true,\"showgrid\":false,\"showline\":true,\"ticks\":\"outside\",\"zeroline\":false,\"zerolinecolor\":\"rgb(36,36,36)\"},\"yaxis\":{\"backgroundcolor\":\"white\",\"gridcolor\":\"rgb(232,232,232)\",\"gridwidth\":2,\"linecolor\":\"rgb(36,36,36)\",\"showbackground\":true,\"showgrid\":false,\"showline\":true,\"ticks\":\"outside\",\"zeroline\":false,\"zerolinecolor\":\"rgb(36,36,36)\"},\"zaxis\":{\"backgroundcolor\":\"white\",\"gridcolor\":\"rgb(232,232,232)\",\"gridwidth\":2,\"linecolor\":\"rgb(36,36,36)\",\"showbackground\":true,\"showgrid\":false,\"showline\":true,\"ticks\":\"outside\",\"zeroline\":false,\"zerolinecolor\":\"rgb(36,36,36)\"}},\"shapedefaults\":{\"fillcolor\":\"black\",\"line\":{\"width\":0},\"opacity\":0.3},\"ternary\":{\"aaxis\":{\"gridcolor\":\"rgb(232,232,232)\",\"linecolor\":\"rgb(36,36,36)\",\"showgrid\":false,\"showline\":true,\"ticks\":\"outside\"},\"baxis\":{\"gridcolor\":\"rgb(232,232,232)\",\"linecolor\":\"rgb(36,36,36)\",\"showgrid\":false,\"showline\":true,\"ticks\":\"outside\"},\"bgcolor\":\"white\",\"caxis\":{\"gridcolor\":\"rgb(232,232,232)\",\"linecolor\":\"rgb(36,36,36)\",\"showgrid\":false,\"showline\":true,\"ticks\":\"outside\"}},\"title\":{\"x\":0.05},\"xaxis\":{\"automargin\":true,\"gridcolor\":\"rgb(232,232,232)\",\"linecolor\":\"rgb(36,36,36)\",\"showgrid\":false,\"showline\":true,\"ticks\":\"outside\",\"title\":{\"standoff\":15},\"zeroline\":false,\"zerolinecolor\":\"rgb(36,36,36)\"},\"yaxis\":{\"automargin\":true,\"gridcolor\":\"rgb(232,232,232)\",\"linecolor\":\"rgb(36,36,36)\",\"showgrid\":false,\"showline\":true,\"ticks\":\"outside\",\"title\":{\"standoff\":15},\"zeroline\":false,\"zerolinecolor\":\"rgb(36,36,36)\"}}},\"xaxis\":{\"anchor\":\"y\",\"domain\":[0.0,1.0],\"title\":{\"text\":\"\"},\"visible\":false,\"range\":[-10.563216590881348,14.88911967277527]},\"yaxis\":{\"anchor\":\"x\",\"domain\":[0.0,1.0],\"title\":{\"text\":\"\"},\"visible\":false,\"range\":[1.1669992566108705,37.01344032287598]},\"legend\":{\"tracegroupgap\":0,\"itemsizing\":\"constant\"},\"margin\":{\"t\":60},\"title\":{\"font\":{\"size\":22,\"color\":\"Black\"},\"text\":\"<b>Intertopic Distance Map\",\"y\":0.95,\"x\":0.5,\"xanchor\":\"center\",\"yanchor\":\"top\"},\"hoverlabel\":{\"font\":{\"size\":16,\"family\":\"Rockwell\"},\"bgcolor\":\"white\"},\"width\":650,\"height\":650,\"sliders\":[{\"active\":0,\"pad\":{\"t\":50},\"steps\":[{\"args\":[{\"marker.color\":[[\"red\",\"#B0BEC5\",\"#B0BEC5\",\"#B0BEC5\",\"#B0BEC5\",\"#B0BEC5\",\"#B0BEC5\",\"#B0BEC5\",\"#B0BEC5\",\"#B0BEC5\",\"#B0BEC5\",\"#B0BEC5\"]]}],\"label\":\"Topic 0\",\"method\":\"update\"},{\"args\":[{\"marker.color\":[[\"#B0BEC5\",\"red\",\"#B0BEC5\",\"#B0BEC5\",\"#B0BEC5\",\"#B0BEC5\",\"#B0BEC5\",\"#B0BEC5\",\"#B0BEC5\",\"#B0BEC5\",\"#B0BEC5\",\"#B0BEC5\"]]}],\"label\":\"Topic 1\",\"method\":\"update\"},{\"args\":[{\"marker.color\":[[\"#B0BEC5\",\"#B0BEC5\",\"red\",\"#B0BEC5\",\"#B0BEC5\",\"#B0BEC5\",\"#B0BEC5\",\"#B0BEC5\",\"#B0BEC5\",\"#B0BEC5\",\"#B0BEC5\",\"#B0BEC5\"]]}],\"label\":\"Topic 2\",\"method\":\"update\"},{\"args\":[{\"marker.color\":[[\"#B0BEC5\",\"#B0BEC5\",\"#B0BEC5\",\"red\",\"#B0BEC5\",\"#B0BEC5\",\"#B0BEC5\",\"#B0BEC5\",\"#B0BEC5\",\"#B0BEC5\",\"#B0BEC5\",\"#B0BEC5\"]]}],\"label\":\"Topic 3\",\"method\":\"update\"},{\"args\":[{\"marker.color\":[[\"#B0BEC5\",\"#B0BEC5\",\"#B0BEC5\",\"#B0BEC5\",\"red\",\"#B0BEC5\",\"#B0BEC5\",\"#B0BEC5\",\"#B0BEC5\",\"#B0BEC5\",\"#B0BEC5\",\"#B0BEC5\"]]}],\"label\":\"Topic 4\",\"method\":\"update\"},{\"args\":[{\"marker.color\":[[\"#B0BEC5\",\"#B0BEC5\",\"#B0BEC5\",\"#B0BEC5\",\"#B0BEC5\",\"red\",\"#B0BEC5\",\"#B0BEC5\",\"#B0BEC5\",\"#B0BEC5\",\"#B0BEC5\",\"#B0BEC5\"]]}],\"label\":\"Topic 5\",\"method\":\"update\"},{\"args\":[{\"marker.color\":[[\"#B0BEC5\",\"#B0BEC5\",\"#B0BEC5\",\"#B0BEC5\",\"#B0BEC5\",\"#B0BEC5\",\"red\",\"#B0BEC5\",\"#B0BEC5\",\"#B0BEC5\",\"#B0BEC5\",\"#B0BEC5\"]]}],\"label\":\"Topic 6\",\"method\":\"update\"},{\"args\":[{\"marker.color\":[[\"#B0BEC5\",\"#B0BEC5\",\"#B0BEC5\",\"#B0BEC5\",\"#B0BEC5\",\"#B0BEC5\",\"#B0BEC5\",\"red\",\"#B0BEC5\",\"#B0BEC5\",\"#B0BEC5\",\"#B0BEC5\"]]}],\"label\":\"Topic 7\",\"method\":\"update\"},{\"args\":[{\"marker.color\":[[\"#B0BEC5\",\"#B0BEC5\",\"#B0BEC5\",\"#B0BEC5\",\"#B0BEC5\",\"#B0BEC5\",\"#B0BEC5\",\"#B0BEC5\",\"red\",\"#B0BEC5\",\"#B0BEC5\",\"#B0BEC5\"]]}],\"label\":\"Topic 8\",\"method\":\"update\"},{\"args\":[{\"marker.color\":[[\"#B0BEC5\",\"#B0BEC5\",\"#B0BEC5\",\"#B0BEC5\",\"#B0BEC5\",\"#B0BEC5\",\"#B0BEC5\",\"#B0BEC5\",\"#B0BEC5\",\"red\",\"#B0BEC5\",\"#B0BEC5\"]]}],\"label\":\"Topic 9\",\"method\":\"update\"},{\"args\":[{\"marker.color\":[[\"#B0BEC5\",\"#B0BEC5\",\"#B0BEC5\",\"#B0BEC5\",\"#B0BEC5\",\"#B0BEC5\",\"#B0BEC5\",\"#B0BEC5\",\"#B0BEC5\",\"#B0BEC5\",\"red\",\"#B0BEC5\"]]}],\"label\":\"Topic 10\",\"method\":\"update\"},{\"args\":[{\"marker.color\":[[\"#B0BEC5\",\"#B0BEC5\",\"#B0BEC5\",\"#B0BEC5\",\"#B0BEC5\",\"#B0BEC5\",\"#B0BEC5\",\"#B0BEC5\",\"#B0BEC5\",\"#B0BEC5\",\"#B0BEC5\",\"red\"]]}],\"label\":\"Topic 11\",\"method\":\"update\"}]}],\"shapes\":[{\"line\":{\"color\":\"#CFD8DC\",\"width\":2},\"type\":\"line\",\"x0\":2.1629515409469606,\"x1\":2.1629515409469606,\"y0\":1.1669992566108705,\"y1\":37.01344032287598},{\"line\":{\"color\":\"#9E9E9E\",\"width\":2},\"type\":\"line\",\"x0\":-10.563216590881348,\"x1\":14.88911967277527,\"y0\":19.090219789743426,\"y1\":19.090219789743426}],\"annotations\":[{\"showarrow\":false,\"text\":\"D1\",\"x\":-10.563216590881348,\"y\":19.090219789743426,\"yshift\":10},{\"showarrow\":false,\"text\":\"D2\",\"x\":2.1629515409469606,\"xshift\":10,\"y\":37.01344032287598}]},                        {\"responsive\": true}                    ).then(function(){\n",
              "                            \n",
              "var gd = document.getElementById('756b99b9-4165-4169-bdac-dca0695cc431');\n",
              "var x = new MutationObserver(function (mutations, observer) {{\n",
              "        var display = window.getComputedStyle(gd).display;\n",
              "        if (!display || display === 'none') {{\n",
              "            console.log([gd, 'removed!']);\n",
              "            Plotly.purge(gd);\n",
              "            observer.disconnect();\n",
              "        }}\n",
              "}});\n",
              "\n",
              "// Listen for the removal of the full notebook cells\n",
              "var notebookContainer = gd.closest('#notebook-container');\n",
              "if (notebookContainer) {{\n",
              "    x.observe(notebookContainer, {childList: true});\n",
              "}}\n",
              "\n",
              "// Listen for the clearing of the current output cell\n",
              "var outputEl = gd.closest('.output');\n",
              "if (outputEl) {{\n",
              "    x.observe(outputEl, {childList: true});\n",
              "}}\n",
              "\n",
              "                        })                };                            </script>        </div>\n",
              "</body>\n",
              "</html>"
            ]
          },
          "metadata": {}
        }
      ]
    }
  ]
}