{
  "nbformat": 4,
  "nbformat_minor": 0,
  "metadata": {
    "colab": {
      "provenance": [],
      "include_colab_link": true
    },
    "kernelspec": {
      "name": "python3",
      "display_name": "Python 3"
    },
    "language_info": {
      "name": "python"
    },
    "gpuClass": "standard",
    "accelerator": "GPU"
  },
  "cells": [
    {
      "cell_type": "markdown",
      "metadata": {
        "id": "view-in-github",
        "colab_type": "text"
      },
      "source": [
        "<a href=\"https://colab.research.google.com/github/punkmic/Topic-Modeling-Reclame-Aqui/blob/master/Topic_Modeling_with_BERTopic_Reclame_aqui.ipynb\" target=\"_parent\"><img src=\"https://colab.research.google.com/assets/colab-badge.svg\" alt=\"Open In Colab\"/></a>"
      ]
    },
    {
      "cell_type": "markdown",
      "source": [
        "# **Topic Modeling with BERTopic - Reclame Aqui**\n",
        "\n",
        "BERTopic is a topic modeling technique that leverages transformers and a custom class-based TF-IDF to create dense clusters allowing for easily interpretable topics whilst keeping important words in the topic descriptions \n",
        "\n",
        "Reference: (https://maartengr.github.io/BERTopic/index.html)."
      ],
      "metadata": {
        "id": "VG5Z-hvZ9GIZ"
      }
    },
    {
      "cell_type": "markdown",
      "source": [
        "### **Enabling the GPU**\n",
        "\n",
        "We will use the GPU provided by COLAB to accelarate our model training. To enable GPUs for the notebook:\n",
        "1- Navigate to Edit -> Notebook Settings\n",
        "2- Select GPU from the Hardware Accelerator drop-down"
      ],
      "metadata": {
        "id": "W_0vnbvROpuu"
      }
    },
    {
      "cell_type": "code",
      "source": [
        "# verify if GPU is enable\n",
        "gpu_info = !nvidia-smi\n",
        "gpu_info = '\\n'.join(gpu_info)\n",
        "if gpu_info.find('failed') >= 0:\n",
        "  print('Not connected to a GPU')\n",
        "else:\n",
        "  print(gpu_info)"
      ],
      "metadata": {
        "id": "gj08UQrDOqW2",
        "colab": {
          "base_uri": "https://localhost:8080/"
        },
        "outputId": "a113247a-4251-41b9-c95f-7e8810be534b"
      },
      "execution_count": 9,
      "outputs": [
        {
          "output_type": "stream",
          "name": "stdout",
          "text": [
            "Not connected to a GPU\n"
          ]
        }
      ]
    },
    {
      "cell_type": "markdown",
      "source": [
        "### **Setup**"
      ],
      "metadata": {
        "id": "eXD8VBix7DD1"
      }
    },
    {
      "cell_type": "code",
      "source": [
        "%%capture\n",
        "!pip install pyspellchecker\n",
        "!pip install bertopic\n",
        "!pip install kaleido # for save BERTopic plots as image\n",
        "!pip install optuna\n",
        "!pip install hdbscan\n",
        "!pip install umap-learn\n",
        "!pip install gensim\n",
        "!pip install pyldavis"
      ],
      "metadata": {
        "id": "csLlF-UUb2il"
      },
      "execution_count": null,
      "outputs": []
    },
    {
      "cell_type": "code",
      "execution_count": null,
      "metadata": {
        "id": "CQ0hDdDm6gtj"
      },
      "outputs": [],
      "source": [
        "import pandas as pd # for data manipulation\n",
        "import os # for interacting with the operating system\n",
        "import nltk # for natural language processing\n",
        "import string # for string manipulation\n",
        "import re # for for regular expressions\n",
        "import matplotlib.pyplot as plt # for visualization\n",
        "import spacy # for lemmatize portuguese text\n",
        "from bertopic import BERTopic # for topic modeling\n",
        "from spellchecker import SpellChecker # for spell check\n",
        "from bertopic import BERTopic\n",
        "from gensim.models.coherencemodel import CoherenceModel\n",
        "import json\n",
        "import optuna # for hyperparameter optimization\n",
        "from hdbscan import HDBSCAN # for clustering\n",
        "from sklearn.cluster import KMeans # for clustering\n",
        "from umap import UMAP # for dimension reduction\n",
        "from sklearn.decomposition import PCA # for dimension reduction\n",
        "from sklearn.feature_extraction.text import CountVectorizer # for convert text documents to matrix of tokens count\n",
        "from bertopic.vectorizers import ClassTfidfTransformer \n",
        "import ast # for convert str to tuple\n",
        "import csv\n",
        "from gensim import models\n",
        "from gensim.corpora import Dictionary\n",
        "from gensim.models.coherencemodel import CoherenceModel\n",
        "import matplotlib.pyplot as plt\n",
        "import numpy as np\n",
        "import pickle \n",
        "import pyLDAvis\n",
        "from gensim.utils import simple_tokenize\n",
        "from gensim.models import LdaMulticore"
      ]
    },
    {
      "cell_type": "code",
      "source": [
        "%%capture\n",
        "# Install spacy pt_core_news_sm for portuguese text\n",
        "!python -m spacy download pt_core_news_sm"
      ],
      "metadata": {
        "id": "dafLrQKmvlGD"
      },
      "execution_count": null,
      "outputs": []
    },
    {
      "cell_type": "code",
      "source": [
        "nltk.download(\"punkt\")"
      ],
      "metadata": {
        "id": "BvRCi7Cvp0G6"
      },
      "execution_count": null,
      "outputs": []
    },
    {
      "cell_type": "code",
      "source": [
        "# Download dataset with stopwords\n",
        "nltk.download(\"stopwords\")"
      ],
      "metadata": {
        "id": "JAvaPg5ep3Df"
      },
      "execution_count": null,
      "outputs": []
    },
    {
      "cell_type": "code",
      "source": [
        "# Donwload datasets for lemmatization\n",
        "nltk.download('wordnet')\n",
        "nltk.download('omw-1.4')"
      ],
      "metadata": {
        "id": "97RrmPshvcmu"
      },
      "execution_count": null,
      "outputs": []
    },
    {
      "cell_type": "code",
      "source": [
        "# Donwload dependency need to stem portuguese text\n",
        "nltk.download('rslp')"
      ],
      "metadata": {
        "id": "qn9OrF3EXCNv"
      },
      "execution_count": null,
      "outputs": []
    },
    {
      "cell_type": "markdown",
      "source": [
        "### **Load data from [Github](https://github.com/punkmic/Topic-Modeling-Reclame-Aqui.git)**"
      ],
      "metadata": {
        "id": "EGjKdT4C8RVD"
      }
    },
    {
      "cell_type": "code",
      "source": [
        "#!git clone https://github.com/punkmic/Topic-Modeling-Reclame-Aqui.git"
      ],
      "metadata": {
        "id": "C_yss1JC-8Ou"
      },
      "execution_count": null,
      "outputs": []
    },
    {
      "cell_type": "code",
      "source": [
        "# Change directory\n",
        "%cd /content/Topic-Modeling-Reclame-Aqui \n",
        "\n",
        "# Update files from remote repository\n",
        "!git pull \n",
        "\n",
        "# Return to work directory\n",
        "%cd ..\n",
        "\n",
        "# Check current directory\n",
        "!pwd"
      ],
      "metadata": {
        "id": "uv3QBnDRHFPv"
      },
      "execution_count": null,
      "outputs": []
    },
    {
      "cell_type": "code",
      "source": [
        "WORK_DIR = '/content/Topic-Modeling-Reclame-Aqui/'"
      ],
      "metadata": {
        "id": "AXc0CHKwGrm7"
      },
      "execution_count": null,
      "outputs": []
    },
    {
      "cell_type": "code",
      "source": [
        "def read_data(path_csv, drop_duplicates = True, lower=True):\n",
        " \n",
        "  # use the read_csv method to read csv file\n",
        "  df = pd.read_csv(path_csv)\n",
        "  \n",
        "  if drop_duplicates:\n",
        "    # read and return the CSV file using the read_csv method\n",
        "    print(f\"Shape before remove duplicates: {df.shape}\")\n",
        "\n",
        "    # use the drop_duplicated method to drop duplicates rows\n",
        "    df = df.drop_duplicates(subset=\"text\")\n",
        "\n",
        "    print(f\"Shape after remove duplicates: {df.shape}\")\n",
        "\n",
        "    if lower:\n",
        "      # apply the str.lower() method to each element in the dataframe\n",
        "      df = df.applymap(str.lower)\n",
        "    \n",
        "     # rename columns\n",
        "    df.columns = [\"title\", \"documents\"] \n",
        "\n",
        "    # use the replace() method to replace the string with an empty string\n",
        "    df = df.replace(re.compile('\\[editado pelo reclame aqui\\]|editado pelo reclame aqui|Editado pelo Reclame Aqui'), '')\n",
        "    df = df.replace(re.compile('\\[casas bahia\\]|Casa Bahia|Casas Bahia|casa bahia'), '')\n",
        "    df = df.replace(re.compile('\\[magazine luiza\\]|Magazine luiza|Magazine Luiza| Magazine luizar|Magazine Luizar'), '')\n",
        "    df = df.replace(re.compile('\\[mercado livre\\]|Mercado Livre|Mercado livre'), '')\n",
        "    df = df.replace(re.compile('\\[americana\\]|Ameriacanas|ameriacanas'), '')\n",
        "\n",
        "  return df"
      ],
      "metadata": {
        "id": "F3IoOKARBwVb"
      },
      "execution_count": null,
      "outputs": []
    },
    {
      "cell_type": "markdown",
      "source": [
        "### **Preprocessing**"
      ],
      "metadata": {
        "id": "drjuwA5yk4YB"
      }
    },
    {
      "cell_type": "markdown",
      "source": [
        "#### **Tokenization**\n",
        "\n",
        "Tokenization aims to breaking text down into its component parts"
      ],
      "metadata": {
        "id": "i9ukWCy8qBOP"
      }
    },
    {
      "cell_type": "code",
      "source": [
        "WORD_TOKENIZER = nltk.tokenize.word_tokenize\n",
        "def tokenize(text):\n",
        "  tokens = [token.strip().lower() for token in WORD_TOKENIZER(text, language=\"portuguese\")]\n",
        " \n",
        "  # set a pattern to detect patterns such as x x, xxx x, xxx xxx\n",
        "  pattern = r\"\\b\\w+\\s+\\w+\\b\"\n",
        " \n",
        "  # filter tokens by pattern\n",
        "  filtered_words = [word for word in tokens if re.search(pattern, word)]\n",
        "\n",
        "  # return token if not in filter list\n",
        "  return [token for token in tokens if token not in filtered_words]"
      ],
      "metadata": {
        "id": "k_f8hsxJk7v4"
      },
      "execution_count": null,
      "outputs": []
    },
    {
      "cell_type": "markdown",
      "source": [
        "#### **Stem** \n",
        "\n",
        "Stem the tokens. This step aims to remove morphological affixes and normalize to standardized stem forms"
      ],
      "metadata": {
        "id": "Lm7V--yMq98r"
      }
    },
    {
      "cell_type": "code",
      "source": [
        "STEMMER = nltk.stem.RSLPStemmer()\n",
        "def stem(tokens):\n",
        "  return [STEMMER.stem(token) for token in tokens]"
      ],
      "metadata": {
        "id": "TphgFQIxrPMM"
      },
      "execution_count": null,
      "outputs": []
    },
    {
      "cell_type": "markdown",
      "source": [
        "#### **Lemmatize**\n",
        "\n",
        "Lemmatize the tokens. Retains more natural forms than stemming, but assumes all tokens nons unless tokens are passed as (word, pos) tuples. Note: nltk lemmatize does not suport portugues language"
      ],
      "metadata": {
        "id": "RTiUcqzrrdiX"
      }
    },
    {
      "cell_type": "code",
      "source": [
        "LEMMATIZER = nltk.WordNetLemmatizer()\n",
        "\n",
        "def lemmatize(tokens):\n",
        "  lemmas = []\n",
        "  for token in tokens:\n",
        "      if isinstance(token, str):\n",
        "          # treats token like a noun\n",
        "          lemmas.append(LEMMATIZER.lemmatize(token)) \n",
        "      else: \n",
        "          # assume a tuple of (word, pos)\n",
        "          lemmas.append(LEMMATIZER.lemmatize(*token))\n",
        "  return lemmas"
      ],
      "metadata": {
        "id": "4O48ihphrxy3"
      },
      "execution_count": null,
      "outputs": []
    },
    {
      "cell_type": "markdown",
      "source": [
        "**Lemmatize option for portuguese text**"
      ],
      "metadata": {
        "id": "eHdBPARlU24i"
      }
    },
    {
      "cell_type": "code",
      "source": [
        "# load portuguese model\n",
        "nlp = spacy.load('pt_core_news_sm')\n",
        "\n",
        "def lemmatize_pt(tokens):\n",
        "\n",
        "  # Create a spaCy Doc object and apply the lemmatization\n",
        "  doc = nlp(' '.join(tokens))\n",
        "\n",
        "  # Return lemmatize\n",
        "  return [token.lemma_ for token in doc]"
      ],
      "metadata": {
        "id": "pfgdVUHVU6Zy"
      },
      "execution_count": null,
      "outputs": []
    },
    {
      "cell_type": "markdown",
      "source": [
        "#### **Remove stopwords**\n",
        "\n",
        "Stop words are things like articles and conjunctions that usually do not offer a lot of value in an analysis."
      ],
      "metadata": {
        "id": "jkLYqJgDs4Xd"
      }
    },
    {
      "cell_type": "code",
      "source": [
        "custom_stop_words = ['amazon', 'americanas', 'casas bahia', 'magazine luiza', 'shein', 'kabum',\n",
        "                       'samsung', 'mercado livre', 'banco brasil', 'apple', 'magazine', 'luiza', 'luizar',\n",
        "                      'casas', 'bahia', 'casa', 'mercado', 'livre','magalu']"
      ],
      "metadata": {
        "id": "TW2aSpqiodwr"
      },
      "execution_count": null,
      "outputs": []
    },
    {
      "cell_type": "code",
      "source": [
        "def remove_stopwords(tokens, stopwords=None, custom_stop_words = None):\n",
        "\n",
        "  if custom_stop_words is None:\n",
        "    custom_stop_words = ['amazon', 'americanas', 'casas bahia', 'magazine luiza', 'shein', 'kabum',\n",
        "                       'samsung', 'mercado livre', 'banco brasil', 'apple', 'magazine', 'luiza', 'luizar',\n",
        "                      'casas', 'bahia', 'casa', 'mercado', 'livre']\n",
        "\n",
        "  # Use the default stop words if none is passed\n",
        "  if stopwords is None:\n",
        "    stopwords = nltk.corpus.stopwords.words('portuguese') + custom_stop_words\n",
        "  \n",
        "  # Filter the list of tokens to exclude the stop word tokens\n",
        "  return [token for token in tokens if token not in stopwords]"
      ],
      "metadata": {
        "id": "D9blZaBYtHgj"
      },
      "execution_count": null,
      "outputs": []
    },
    {
      "cell_type": "code",
      "source": [
        "assert remove_stopwords(['compra', 'echar', 'em esse', 'amazon', 'pude'], custom_stop_words=custom_stop_words) == ['compra', 'echar', 'em esse', 'pude']"
      ],
      "metadata": {
        "id": "-E4DqCin2HDc"
      },
      "execution_count": null,
      "outputs": []
    },
    {
      "cell_type": "markdown",
      "source": [
        "#### **Remove hyperlinks**\n",
        "\n",
        "Removes http/s links from the tokens."
      ],
      "metadata": {
        "id": "X4qMKyfKtaAW"
      }
    },
    {
      "cell_type": "code",
      "source": [
        "def remove_links(tokens):\n",
        "  # Filter tokens that starts with \"http://\" or \"https://\"\n",
        "  return [token for token in tokens \n",
        "          if not token.startswith(\"http://\")\n",
        "          and not token.startswith(\"https://\")]"
      ],
      "metadata": {
        "id": "LqlMta5qtovS"
      },
      "execution_count": null,
      "outputs": []
    },
    {
      "cell_type": "code",
      "source": [
        "assert remove_links(['bom', 'http://online', 'https://offline']) == ['bom']"
      ],
      "metadata": {
        "id": "vxvsG7s_6wkd"
      },
      "execution_count": null,
      "outputs": []
    },
    {
      "cell_type": "markdown",
      "source": [
        "#### **Remove numbers**"
      ],
      "metadata": {
        "id": "EwKFluprz-pW"
      }
    },
    {
      "cell_type": "code",
      "source": [
        "def remove_numbers(tokens):\n",
        "  # Use a regular expression to match words that contain numbers\n",
        "  pattern = r\"\\b\\w*\\d\\w*\\b\"\n",
        "  tokens = [token for token in tokens if not re.sub(pattern, \"\", token) == \"\"]\n",
        "  \n",
        "  # Filter out number tokens using a list comprehension and the isnumeric method\n",
        "  return [token for token in tokens if not token.isnumeric()]"
      ],
      "metadata": {
        "id": "ALKnXv8C0EWu"
      },
      "execution_count": null,
      "outputs": []
    },
    {
      "cell_type": "code",
      "source": [
        "assert remove_numbers(['ola', 'bicicleta', '1', '2002']) == ['ola', 'bicicleta']"
      ],
      "metadata": {
        "id": "32uzYfBG3cv2"
      },
      "execution_count": null,
      "outputs": []
    },
    {
      "cell_type": "markdown",
      "source": [
        "#### **Remove date**"
      ],
      "metadata": {
        "id": "a0pZKAQ7ZJHL"
      }
    },
    {
      "cell_type": "code",
      "source": [
        "def remove_date(tokens):\n",
        "  # Compile a regular expression to match dates in the format dd/mm or dd/mm/yyyy\n",
        "  date_regex = re.compile(r'\\d{2}/\\d{2}(/\\d{4})?')\n",
        "\n",
        "  # Use the regex to find all the tokens that match the date pattern\n",
        "  dates = [token for token in tokens if date_regex.fullmatch(token)]\n",
        "\n",
        "  # Filter the list of tokens to exclude the date tokens\n",
        "  filtered_tokens = [token for token in tokens if token not in dates]\n",
        "\n",
        "  # Return the filtered tokens\n",
        "  return filtered_tokens"
      ],
      "metadata": {
        "id": "ywykIjKZctc-"
      },
      "execution_count": null,
      "outputs": []
    },
    {
      "cell_type": "code",
      "source": [
        "assert remove_date(['texto', 'data', '20/10', 'seguro', '02/09/2014']) == ['texto', 'data', 'seguro']"
      ],
      "metadata": {
        "id": "k6r3cMbB7F3f"
      },
      "execution_count": null,
      "outputs": []
    },
    {
      "cell_type": "markdown",
      "source": [
        "#### **Remove punctuation**"
      ],
      "metadata": {
        "id": "7y1FqCD1t75_"
      }
    },
    {
      "cell_type": "code",
      "source": [
        "def remove_punctuation(tokens,\n",
        "                       strip_mentions=True,\n",
        "                       strip_hashtags=True):\n",
        "\n",
        "    tokens = [re.sub(r'[^\\w\\s]', '', token) for token in tokens]\n",
        "\n",
        "    # Filter punctuation tokens\n",
        "    tokens = [token.strip() for token in tokens if token not in string.punctuation]\n",
        "\n",
        "    # Remove @ symbol from left side of tokens\n",
        "    if strip_mentions:\n",
        "        tokens = [t.lstrip(r\"([!\\\"#$%&'()*+,-./:;<=>?@[\\]^_`{|}~])\\1+\") for t in tokens]\n",
        "\n",
        "    # Remove # symbol from left side of tokens\n",
        "    if strip_hashtags:\n",
        "        tokens = [t.lstrip(r\"([!\\\"#$%&'()*+,-./:;<=>?@[\\]^_`{|}~])\\1+\") for t in tokens]\n",
        "\n",
        "    return tokens"
      ],
      "metadata": {
        "id": "ba7paG7_uBtS"
      },
      "execution_count": null,
      "outputs": []
    },
    {
      "cell_type": "code",
      "source": [
        "assert remove_punctuation(['limpo', 'acento/  ///', 'simples???', 'onde', ',']) == ['limpo', 'acento', 'simples', 'onde']"
      ],
      "metadata": {
        "id": "7E8n6Z0l7Xe_"
      },
      "execution_count": null,
      "outputs": []
    },
    {
      "cell_type": "markdown",
      "source": [
        "#### **Remove short tokens**"
      ],
      "metadata": {
        "id": "SiUx2T8C5YBh"
      }
    },
    {
      "cell_type": "code",
      "source": [
        "def remove_short_tokens(tokens):\n",
        "  # Filter the list of tokens to exclude tokens that are shorter than four letters\n",
        "  filtered_tokens = [token for token in tokens if len(token) >= 4]\n",
        "\n",
        "  # Return the filtered tokens\n",
        "  return filtered_tokens"
      ],
      "metadata": {
        "id": "t8SOwNYW6QI1"
      },
      "execution_count": null,
      "outputs": []
    },
    {
      "cell_type": "code",
      "source": [
        "assert remove_short_tokens(['sair', 'um', 'correto', 'igual', 'oi', 'de', 'em']) == ['sair', 'correto', 'igual']"
      ],
      "metadata": {
        "id": "GTF9de9N7uFK"
      },
      "execution_count": null,
      "outputs": []
    },
    {
      "cell_type": "markdown",
      "source": [
        "#### **Correction of spelling errors**"
      ],
      "metadata": {
        "id": "WqtOisN38pZP"
      }
    },
    {
      "cell_type": "code",
      "source": [
        "# Create a SpellChecker object\n",
        "spell = SpellChecker(language='pt')\n",
        "\n",
        "def check_spell_errors(text):\n",
        "  result = []\n",
        "  for token in text:\n",
        "    # Correct the spelling errors in the text\n",
        "    corrected_text = spell.correction(token)\n",
        "\n",
        "    # If no correction is present user the original text\n",
        "    if corrected_text == None:\n",
        "      corrected_text =  token\n",
        "  \n",
        "    result.append(corrected_text)\n",
        "  # Return the corrected text\n",
        "  return result"
      ],
      "metadata": {
        "id": "fUTiJYc_8hba"
      },
      "execution_count": null,
      "outputs": []
    },
    {
      "cell_type": "markdown",
      "source": [
        "#### **Remove extra white spaces**"
      ],
      "metadata": {
        "id": "ybMjuBaSw67b"
      }
    },
    {
      "cell_type": "code",
      "source": [
        "def remove_whitespace(document):\n",
        "    return  \" \".join(document.split())"
      ],
      "metadata": {
        "id": "3ig6LBnhw_6L"
      },
      "execution_count": null,
      "outputs": []
    },
    {
      "cell_type": "code",
      "source": [
        "def preprocess(df, colname, custom_process = None, check_spell = False):\n",
        "  df[colname]= df[colname].str.lower()\n",
        "  df[colname]= df[colname].apply(remove_whitespace)\n",
        "\n",
        "  if custom_process is None:\n",
        "    df[colname] = df[colname].apply(tokenize)\n",
        "    if check_spell:\n",
        "      df[colname] = df[colname].apply(check_spell_errors)\n",
        "    df[colname] = df[colname].apply(remove_links)\n",
        "    df[colname] = df[colname].apply(remove_punctuation)\n",
        "    df[colname] = df[colname].apply(remove_numbers)\n",
        "    df[colname] = df[colname].apply(remove_date)\n",
        "    df[colname] = df[colname].apply(remove_short_tokens)\n",
        "    df[colname] = df[colname].apply(remove_stopwords)\n",
        "    df[colname] = df[colname].apply(lemmatize_pt) \n",
        "    df[colname] = df[colname].apply(lambda x: ' '.join(x))\n",
        "  else:\n",
        "    if 'tokenize' in custom_process:\n",
        "      df[colname] = df[colname].apply(tokenize)\n",
        "    if 'check_spell' in custom_process:\n",
        "      df[colname] = df[colname].apply(check_spell_errors) \n",
        "    if 'remove_links' in custom_process:\n",
        "      df[colname] = df[colname].apply(remove_links)\n",
        "    if 'remove_punctuation' in custom_process:\n",
        "      df[colname] = df[colname].apply(remove_punctuation)\n",
        "    if 'remove_numbers' in custom_process:\n",
        "      df[colname] = df[colname].apply(remove_numbers)\n",
        "    if 'remove_date' in custom_process:\n",
        "      df[colname] = df[colname].apply(remove_date)\n",
        "    if 'remove_short_tokens' in custom_process:\n",
        "      df[colname] = df[colname].apply(remove_short_tokens)\n",
        "    if 'remove_stopwords' in custom_process:\n",
        "      df[colname] = df[colname].apply(remove_stopwords)\n",
        "    if 'lemmatize' in custom_process:\n",
        "      df[colname] = df[colname].apply(lemmatize_pt)\n",
        "    if 'steam' in custom_process and 'lemmatize' not in custom_process:\n",
        "      df[colname] = df[colname].apply(stem)\n",
        "  return df"
      ],
      "metadata": {
        "id": "Tu75mPgywHwb"
      },
      "execution_count": null,
      "outputs": []
    },
    {
      "cell_type": "code",
      "source": [
        "def get_data(features):\n",
        "  dfs = {}\n",
        "  # create models for documents and title features\n",
        "  df = None\n",
        "  for feature in features:\n",
        "    if not os.path.exists(WORK_DIR + f'results/dataset/preprocessed/table_{feature}.csv'):\n",
        "\n",
        "      path_csv = WORK_DIR + \"docs.csv\"\n",
        "  \n",
        "      if df is None:\n",
        "        # read data \n",
        "        df = read_data(path_csv)\n",
        "        dfs['raw'] = df\n",
        "  \n",
        "      # preprocess data\n",
        "      df = preprocess(df, feature)\n",
        "\n",
        "      # Set the path to save \n",
        "      path = WORK_DIR + 'results/dataset/preprocessed/'\n",
        "\n",
        "      # Use makedirs() to create a new directory if it does not exists\n",
        "      if not os.path.exists(path):\n",
        "        os.makedirs(path)\n",
        "\n",
        "      # Save the DataFrame to a CSV file\n",
        "      df.to_csv(path + f'table_{feature}.csv', index=False)\n",
        "      print(f'Dataset saved into {path}')\n",
        "  for feature in features:\n",
        "    df_processed = pd.read_csv(WORK_DIR + f'results/dataset/preprocessed/table_{feature}.csv')\n",
        "    dfs[feature] = df_processed\n",
        "  return dfs"
      ],
      "metadata": {
        "id": "73uvqVnafwvQ"
      },
      "execution_count": null,
      "outputs": []
    },
    {
      "cell_type": "code",
      "source": [
        "features=['title', 'documents']\n",
        "dfs = get_data(features)\n",
        "print(dfs.keys())"
      ],
      "metadata": {
        "id": "oo923nmEwgFF"
      },
      "execution_count": null,
      "outputs": []
    },
    {
      "cell_type": "code",
      "source": [
        "DATA_FRAME_FEATURE_NAME = 'documents'\n",
        "\n",
        "docs = list(dfs[DATA_FRAME_FEATURE_NAME]['documents'])\n",
        "print(docs[0:10])"
      ],
      "metadata": {
        "id": "xdRUWhqa2hB_"
      },
      "execution_count": null,
      "outputs": []
    },
    {
      "cell_type": "markdown",
      "source": [
        "## **Training a BERTopic Model**\n",
        "\n",
        "The BERTopic algorithm has several advantages over other topic modeling algorithms. It is able to handle sparse data, it is scalable to large datasets, and it is able to learn topics that are not well-defined or are overlapping.\n",
        "\n",
        "As our data language is portuguese we will going to set language to multilingual."
      ],
      "metadata": {
        "id": "AWmOFQ3VOD05"
      }
    },
    {
      "cell_type": "markdown",
      "source": [
        "Create a new BERTopic model and train it. By default BERTopic use the paraphrase-multilingual-MiniLM-L12-v2 model for multi language documents. For others model check here [BERTopic sentence transformers](https://maartengr.github.io/BERTopic/getting_started/embeddings/embeddings.html#sentence-transformers)"
      ],
      "metadata": {
        "id": "_mBsnRnhgbm9"
      }
    },
    {
      "cell_type": "code",
      "source": [
        "# Create a new BERTopic model using multilingual option\n",
        "topic_model = BERTopic(language=\"multilingual\", calculate_probabilities=True, verbose=True)\n",
        "\n",
        "# Train model \n",
        "topics, probs = topic_model.fit_transform(docs)"
      ],
      "metadata": {
        "id": "B0EFqnutN2Y9"
      },
      "execution_count": null,
      "outputs": []
    },
    {
      "cell_type": "markdown",
      "source": [
        "BERTopic works in three main steps: \n",
        "\n",
        "\n",
        "1.   Documents are first converted to numeric data. It extracts different embeddings based on the context of the word. For this, a sentence transformation model is used.\n",
        "2.  Documents with similar topics are then grouped together forming clusters with similar topics. For this purpose, BERTopic uses the clustering algorithm UMAP to lower the dimensionality of the embeddings. Then the documents are clustered with the density-based algorithm HDBSCAN.\n",
        "3. BERTopic extracts topics from clusters using a class-based TF-IDF score. This score gives the importance of each word in a cluster. Topics are then created based on the most important words measured by their C-TF-IDF score.\n",
        "\n",
        "For more information check this link [BERTopic](https://towardsdatascience.com/topic-modeling-with-bert-779f7db187e6)\n",
        "\n"
      ],
      "metadata": {
        "id": "vnG5aC6ekXeu"
      }
    },
    {
      "cell_type": "markdown",
      "source": [
        "#### **BERTopic coherence score**"
      ],
      "metadata": {
        "id": "sO7nj4sKER-o"
      }
    },
    {
      "cell_type": "code",
      "source": [
        "def get_bertopic_coherence(model, topics, docs):\n",
        "  # Preprocess Documents\n",
        "  documents = pd.DataFrame({\"Document\": docs,\n",
        "                          \"ID\": range(len(docs)),\n",
        "                          \"Topic\": topics})\n",
        "  documents_per_topic = documents.groupby(['Topic'], as_index=False).agg({'Document': ' '.join})\n",
        "  cleaned_docs = model._preprocess_text(documents_per_topic.Document.values)\n",
        "\n",
        "  # Extract vectorizer and analyzer from BERTopic\n",
        "  vectorizer = model.vectorizer_model\n",
        "  analyzer = vectorizer.build_analyzer()\n",
        "\n",
        "  # Extract features for Topic Coherence evaluation\n",
        "  tokens = [analyzer(doc) for doc in cleaned_docs]\n",
        "  dictionary = corpora.Dictionary(tokens)\n",
        "  corpus = [dictionary.doc2bow(token) for token in tokens]\n",
        "  topic_words = [[words for words, _ in model.get_topic(topic)] \n",
        "               for topic in range(len(set(topics))-1)]\n",
        "\n",
        "  # Evaluate\n",
        "  coherence_model = CoherenceModel(topics=topic_words, \n",
        "                                 texts=tokens, \n",
        "                                 corpus=corpus,\n",
        "                                 dictionary=dictionary, \n",
        "                                 coherence='u_mass')\n",
        "  coherence = coherence_model.get_coherence()\n",
        "  return coherence"
      ],
      "metadata": {
        "id": "4i-8_eIQDWMS"
      },
      "execution_count": null,
      "outputs": []
    },
    {
      "cell_type": "code",
      "source": [
        "print(f\"Coeherence score: {get_bertopic_coherence(topic_model, topics, docs)}\")"
      ],
      "metadata": {
        "id": "bGCBVYq7EX8h"
      },
      "execution_count": null,
      "outputs": []
    },
    {
      "cell_type": "markdown",
      "source": [
        "### **Extracting Topics**"
      ],
      "metadata": {
        "id": "GimKIMmaRZSd"
      }
    },
    {
      "cell_type": "code",
      "source": [
        "# Print the most frequent topics\n",
        "freq = topic_model.get_topic_info()\n",
        "\n",
        "# Show the top 5 most frequent topics\n",
        "freq.head(5)"
      ],
      "metadata": {
        "id": "JIrBNmF-Rcf0"
      },
      "execution_count": null,
      "outputs": []
    },
    {
      "cell_type": "markdown",
      "source": [
        "The table above shows the five most freqeuente topics and the words present on it extract by BERTopic. -1 refers to all outliers and should be ignored."
      ],
      "metadata": {
        "id": "TVWcfF5mRrMy"
      }
    },
    {
      "cell_type": "code",
      "source": [
        "# show the most frequent topic\n",
        "topic_model.get_topic(0)"
      ],
      "metadata": {
        "id": "Br_UMf1kRxU3"
      },
      "execution_count": null,
      "outputs": []
    },
    {
      "cell_type": "markdown",
      "source": [
        "**Note:** BERTopic is stocastich which means that the topics might differ across runs this is mostly due to the stocastisch nature of UMAP"
      ],
      "metadata": {
        "id": "YpP4HgF2R6Wa"
      }
    },
    {
      "cell_type": "markdown",
      "source": [
        "#### **Save topic info table as CSV**"
      ],
      "metadata": {
        "id": "CxWLChzJlPmZ"
      }
    },
    {
      "cell_type": "code",
      "source": [
        "# Set the path to save \n",
        "path = WORK_DIR + f'results/{DATA_FRAME_FEATURE_NAME}/topic_info_tables/'\n",
        "\n",
        "# Use makedirs() to create a new directory if it does not exists\n",
        "if not os.path.exists(path):\n",
        "  os.makedirs(path)\n",
        "\n",
        "# Save table as csv\n",
        "freq.head(10).to_csv(path + 'topic_info_preprocessed_lemma.csv', index=False)"
      ],
      "metadata": {
        "id": "9wM4Ymh_lOdt"
      },
      "execution_count": null,
      "outputs": []
    },
    {
      "cell_type": "markdown",
      "source": [
        "## **Visualization**"
      ],
      "metadata": {
        "id": "wBsA8hiVSJDY"
      }
    },
    {
      "cell_type": "markdown",
      "source": [
        "### **Intertopic Distance Map**\n",
        "\n",
        "This graph shows the distance intertopic and help us understand the promixity of topics"
      ],
      "metadata": {
        "id": "2twooZDXUc2T"
      }
    },
    {
      "cell_type": "code",
      "source": [
        "fig = topic_model.visualize_topics(width=800, height=800)\n",
        "fig"
      ],
      "metadata": {
        "id": "Ae2JSAENSIOJ"
      },
      "execution_count": null,
      "outputs": []
    },
    {
      "cell_type": "markdown",
      "source": [
        "#### **Save intertopic distance map**"
      ],
      "metadata": {
        "id": "VEy11A_SlliP"
      }
    },
    {
      "cell_type": "code",
      "source": [
        "# Set the path to save \n",
        "path = WORK_DIR + f'results/{DATA_FRAME_FEATURE_NAME}/intertopic_distance_map/'\n",
        "\n",
        "# Use makedirs() to create a new directory if it does not exists\n",
        "if not os.path.exists(path):\n",
        "  os.makedirs(path)\n",
        "\n",
        "\n",
        "fig.write_image(path + \"idm_preprocessed_lemma.png\", format=\"png\")\n",
        "fig.write_html(path + \"idm_preprocessed_lemma.html\")"
      ],
      "metadata": {
        "id": "hLy_Eeu4lqCg"
      },
      "execution_count": null,
      "outputs": []
    },
    {
      "cell_type": "markdown",
      "source": [
        "[Github link](https://github.com/punkmic/Topic-Modeling-Reclame-Aqui/blob/master/results/intertopic_distance_map/idm_preprocessed_lemma.png?raw=true)"
      ],
      "metadata": {
        "id": "Jf-iwAsQoOCs"
      }
    },
    {
      "cell_type": "markdown",
      "source": [
        "### **Visualize Topic Hierarchy**\n",
        "\n",
        "The topics that were created can be hierarchically reduced. This visualization shows how the topics relate to one another."
      ],
      "metadata": {
        "id": "r-5bT7AgSgsv"
      }
    },
    {
      "cell_type": "code",
      "source": [
        "fig = topic_model.visualize_hierarchy(top_n_topics=30, width=800, height=800)\n",
        "fig"
      ],
      "metadata": {
        "id": "TEoOpDD6S4D7",
        "outputId": "c203763a-ece5-4794-d787-bf2b0b0226ef",
        "colab": {
          "base_uri": "https://localhost:8080/",
          "height": 667
        }
      },
      "execution_count": null,
      "outputs": [
        {
          "output_type": "display_data",
          "data": {
            "text/html": [
              "<html>\n",
              "<head><meta charset=\"utf-8\" /></head>\n",
              "<body>\n",
              "    <div>            <script src=\"https://cdnjs.cloudflare.com/ajax/libs/mathjax/2.7.5/MathJax.js?config=TeX-AMS-MML_SVG\"></script><script type=\"text/javascript\">if (window.MathJax) {MathJax.Hub.Config({SVG: {font: \"STIX-Web\"}});}</script>                <script type=\"text/javascript\">window.PlotlyConfig = {MathJaxConfig: 'local'};</script>\n",
              "        <script src=\"https://cdn.plot.ly/plotly-2.8.3.min.js\"></script>                <div id=\"d4c2c47e-4b2e-46d9-8bb4-a332ba33d9a3\" class=\"plotly-graph-div\" style=\"height:650px; width:800px;\"></div>            <script type=\"text/javascript\">                                    window.PLOTLYENV=window.PLOTLYENV || {};                                    if (document.getElementById(\"d4c2c47e-4b2e-46d9-8bb4-a332ba33d9a3\")) {                    Plotly.newPlot(                        \"d4c2c47e-4b2e-46d9-8bb4-a332ba33d9a3\",                        [{\"hoverinfo\":\"text\",\"marker\":{\"color\":\"rgb(61,153,112)\"},\"mode\":\"lines\",\"x\":[0.0,0.7072065805456504,0.7072065805456504,0.0],\"xaxis\":\"x\",\"y\":[-15.0,-15.0,-25.0,-25.0],\"yaxis\":\"y\",\"type\":\"scatter\"},{\"hoverinfo\":\"text\",\"marker\":{\"color\":\"rgb(61,153,112)\"},\"mode\":\"lines\",\"x\":[0.0,0.9566407527403172,0.9566407527403172,0.7072065805456504],\"xaxis\":\"x\",\"y\":[-5.0,-5.0,-20.0,-20.0],\"yaxis\":\"y\",\"type\":\"scatter\"},{\"hoverinfo\":\"text\",\"marker\":{\"color\":\"rgb(255,65,54)\"},\"mode\":\"lines\",\"x\":[0.0,0.49371316474483945,0.49371316474483945,0.0],\"xaxis\":\"x\",\"y\":[-55.0,-55.0,-65.0,-65.0],\"yaxis\":\"y\",\"type\":\"scatter\"},{\"hoverinfo\":\"text\",\"marker\":{\"color\":\"rgb(255,65,54)\"},\"mode\":\"lines\",\"x\":[0.0,0.5394342785220099,0.5394342785220099,0.49371316474483945],\"xaxis\":\"x\",\"y\":[-45.0,-45.0,-60.0,-60.0],\"yaxis\":\"y\",\"type\":\"scatter\"},{\"hoverinfo\":\"text\",\"marker\":{\"color\":\"rgb(255,65,54)\"},\"mode\":\"lines\",\"x\":[0.0,0.6127881103686608,0.6127881103686608,0.5394342785220099],\"xaxis\":\"x\",\"y\":[-35.0,-35.0,-52.5,-52.5],\"yaxis\":\"y\",\"type\":\"scatter\"},{\"hoverinfo\":\"text\",\"marker\":{\"color\":\"rgb(255,65,54)\"},\"mode\":\"lines\",\"x\":[0.6127881103686608,0.6316666099535434,0.6316666099535434,0.0],\"xaxis\":\"x\",\"y\":[-43.75,-43.75,-75.0,-75.0],\"yaxis\":\"y\",\"type\":\"scatter\"},{\"hoverinfo\":\"text\",\"marker\":{\"color\":\"rgb(255,65,54)\"},\"mode\":\"lines\",\"x\":[0.6316666099535434,0.6968425603669842,0.6968425603669842,0.0],\"xaxis\":\"x\",\"y\":[-59.375,-59.375,-85.0,-85.0],\"yaxis\":\"y\",\"type\":\"scatter\"},{\"hoverinfo\":\"text\",\"marker\":{\"color\":\"rgb(0,116,217)\"},\"mode\":\"lines\",\"x\":[0.9566407527403172,1.1944451244389056,1.1944451244389056,0.6968425603669842],\"xaxis\":\"x\",\"y\":[-12.5,-12.5,-72.1875,-72.1875],\"yaxis\":\"y\",\"type\":\"scatter\"},{\"hoverinfo\":\"text\",\"marker\":{\"color\":\"rgb(35,205,205)\"},\"mode\":\"lines\",\"x\":[0.0,0.6874893786096945,0.6874893786096945,0.0],\"xaxis\":\"x\",\"y\":[-95.0,-95.0,-105.0,-105.0],\"yaxis\":\"y\",\"type\":\"scatter\"},{\"hoverinfo\":\"text\",\"marker\":{\"color\":\"rgb(133,20,75)\"},\"mode\":\"lines\",\"x\":[0.0,0.8976746138291102,0.8976746138291102,0.0],\"xaxis\":\"x\",\"y\":[-115.0,-115.0,-125.0,-125.0],\"yaxis\":\"y\",\"type\":\"scatter\"},{\"hoverinfo\":\"text\",\"marker\":{\"color\":\"rgb(0,116,217)\"},\"mode\":\"lines\",\"x\":[0.6874893786096945,1.1285270933109148,1.1285270933109148,0.8976746138291102],\"xaxis\":\"x\",\"y\":[-100.0,-100.0,-120.0,-120.0],\"yaxis\":\"y\",\"type\":\"scatter\"},{\"hoverinfo\":\"text\",\"marker\":{\"color\":\"rgb(0,116,217)\"},\"mode\":\"lines\",\"x\":[0.0,1.0432586916323594,1.0432586916323594,0.0],\"xaxis\":\"x\",\"y\":[-135.0,-135.0,-145.0,-145.0],\"yaxis\":\"y\",\"type\":\"scatter\"},{\"hoverinfo\":\"text\",\"marker\":{\"color\":\"rgb(255,220,0)\"},\"mode\":\"lines\",\"x\":[0.0,0.8211198939780232,0.8211198939780232,0.0],\"xaxis\":\"x\",\"y\":[-155.0,-155.0,-165.0,-165.0],\"yaxis\":\"y\",\"type\":\"scatter\"},{\"hoverinfo\":\"text\",\"marker\":{\"color\":\"rgb(255,220,0)\"},\"mode\":\"lines\",\"x\":[0.8211198939780232,0.8832492407842708,0.8832492407842708,0.0],\"xaxis\":\"x\",\"y\":[-160.0,-160.0,-175.0,-175.0],\"yaxis\":\"y\",\"type\":\"scatter\"},{\"hoverinfo\":\"text\",\"marker\":{\"color\":\"rgb(0,116,217)\"},\"mode\":\"lines\",\"x\":[1.0432586916323594,1.1098370282365098,1.1098370282365098,0.8832492407842708],\"xaxis\":\"x\",\"y\":[-140.0,-140.0,-167.5,-167.5],\"yaxis\":\"y\",\"type\":\"scatter\"},{\"hoverinfo\":\"text\",\"marker\":{\"color\":\"rgb(0,116,217)\"},\"mode\":\"lines\",\"x\":[1.1285270933109148,1.4628213529450729,1.4628213529450729,1.1098370282365098],\"xaxis\":\"x\",\"y\":[-110.0,-110.0,-153.75,-153.75],\"yaxis\":\"y\",\"type\":\"scatter\"},{\"hoverinfo\":\"text\",\"marker\":{\"color\":\"rgb(0,116,217)\"},\"mode\":\"lines\",\"x\":[0.0,1.1249201267887519,1.1249201267887519,0.0],\"xaxis\":\"x\",\"y\":[-185.0,-185.0,-195.0,-195.0],\"yaxis\":\"y\",\"type\":\"scatter\"},{\"hoverinfo\":\"text\",\"marker\":{\"color\":\"rgb(0,116,217)\"},\"mode\":\"lines\",\"x\":[0.0,1.200419836925995,1.200419836925995,0.0],\"xaxis\":\"x\",\"y\":[-215.0,-215.0,-225.0,-225.0],\"yaxis\":\"y\",\"type\":\"scatter\"},{\"hoverinfo\":\"text\",\"marker\":{\"color\":\"rgb(0,116,217)\"},\"mode\":\"lines\",\"x\":[0.0,1.2491745204833888,1.2491745204833888,1.200419836925995],\"xaxis\":\"x\",\"y\":[-205.0,-205.0,-220.0,-220.0],\"yaxis\":\"y\",\"type\":\"scatter\"},{\"hoverinfo\":\"text\",\"marker\":{\"color\":\"rgb(0,116,217)\"},\"mode\":\"lines\",\"x\":[0.0,1.0781938459114295,1.0781938459114295,0.0],\"xaxis\":\"x\",\"y\":[-245.0,-245.0,-255.0,-255.0],\"yaxis\":\"y\",\"type\":\"scatter\"},{\"hoverinfo\":\"text\",\"marker\":{\"color\":\"rgb(0,116,217)\"},\"mode\":\"lines\",\"x\":[0.0,1.1417170619998827,1.1417170619998827,1.0781938459114295],\"xaxis\":\"x\",\"y\":[-235.0,-235.0,-250.0,-250.0],\"yaxis\":\"y\",\"type\":\"scatter\"},{\"hoverinfo\":\"text\",\"marker\":{\"color\":\"rgb(40,35,35)\"},\"mode\":\"lines\",\"x\":[0.0,0.9845748383755053,0.9845748383755053,0.0],\"xaxis\":\"x\",\"y\":[-265.0,-265.0,-275.0,-275.0],\"yaxis\":\"y\",\"type\":\"scatter\"},{\"hoverinfo\":\"text\",\"marker\":{\"color\":\"rgb(0,116,217)\"},\"mode\":\"lines\",\"x\":[1.1417170619998827,1.2811299020037452,1.2811299020037452,0.9845748383755053],\"xaxis\":\"x\",\"y\":[-242.5,-242.5,-270.0,-270.0],\"yaxis\":\"y\",\"type\":\"scatter\"},{\"hoverinfo\":\"text\",\"marker\":{\"color\":\"rgb(0,116,217)\"},\"mode\":\"lines\",\"x\":[1.2491745204833888,1.3912718671519313,1.3912718671519313,1.2811299020037452],\"xaxis\":\"x\",\"y\":[-212.5,-212.5,-256.25,-256.25],\"yaxis\":\"y\",\"type\":\"scatter\"},{\"hoverinfo\":\"text\",\"marker\":{\"color\":\"rgb(0,116,217)\"},\"mode\":\"lines\",\"x\":[1.1249201267887519,1.7249176487166475,1.7249176487166475,1.3912718671519313],\"xaxis\":\"x\",\"y\":[-190.0,-190.0,-234.375,-234.375],\"yaxis\":\"y\",\"type\":\"scatter\"},{\"hoverinfo\":\"text\",\"marker\":{\"color\":\"rgb(0,116,217)\"},\"mode\":\"lines\",\"x\":[0.0,1.0195608456252305,1.0195608456252305,0.0],\"xaxis\":\"x\",\"y\":[-285.0,-285.0,-295.0,-295.0],\"yaxis\":\"y\",\"type\":\"scatter\"},{\"hoverinfo\":\"text\",\"marker\":{\"color\":\"rgb(0,116,217)\"},\"mode\":\"lines\",\"x\":[1.7249176487166475,1.818353447252927,1.818353447252927,1.0195608456252305],\"xaxis\":\"x\",\"y\":[-212.1875,-212.1875,-290.0,-290.0],\"yaxis\":\"y\",\"type\":\"scatter\"},{\"hoverinfo\":\"text\",\"marker\":{\"color\":\"rgb(0,116,217)\"},\"mode\":\"lines\",\"x\":[1.4628213529450729,2.134205559449137,2.134205559449137,1.818353447252927],\"xaxis\":\"x\",\"y\":[-131.875,-131.875,-251.09375,-251.09375],\"yaxis\":\"y\",\"type\":\"scatter\"},{\"hoverinfo\":\"text\",\"marker\":{\"color\":\"rgb(0,116,217)\"},\"mode\":\"lines\",\"x\":[1.1944451244389056,3.2591048759128474,3.2591048759128474,2.134205559449137],\"xaxis\":\"x\",\"y\":[-42.34375,-42.34375,-191.484375,-191.484375],\"yaxis\":\"y\",\"type\":\"scatter\"}],                        {\"autosize\":false,\"height\":650,\"hovermode\":\"closest\",\"showlegend\":false,\"width\":800,\"xaxis\":{\"mirror\":\"allticks\",\"rangemode\":\"tozero\",\"showgrid\":false,\"showline\":true,\"showticklabels\":true,\"ticks\":\"outside\",\"type\":\"linear\",\"zeroline\":false},\"yaxis\":{\"mirror\":\"allticks\",\"rangemode\":\"tozero\",\"showgrid\":false,\"showline\":true,\"showticklabels\":true,\"tickmode\":\"array\",\"ticks\":\"outside\",\"ticktext\":[\"0_cart\\u00e3o_cr\\u00e9dito_cobrar\",\"9_iphone_aparelho_celular\",\"11_black_friday_promo\\u00e7\\u00e3o\",\"2_cancelamento_cancelar_pedir\",\"3_whatsapp_contato_atendime...\",\"8_loja_magalu_entrar\",\"1_celular_aparelho_smartphone\",\"18_boneca_falar_esperar\",\"4_brasil_brasileiro_chegar\",\"16_previs\\u00e3o_entregar_data\",\"5_novembro_dezembro_outubro\",\"15_endere\\u00e7o_pedir_remetente\",\"12_pedir_encomenda_entregar\",\"7_roupa_cal\\u00e7a_vestir\",\"23_nota_valor_desconto\",\"10_dinheiro_reembolso_voltar\",\"20_aplicativo_reembolso_com...\",\"21_pagamento_boleto_paguei\",\"25_curitiba_tr\\u00e2nsito_parado\",\"29_rastreio_c\\u00f3digo_rastream...\",\"22_t\\u00eanis_mizuno_tenis\",\"13_jogo_lan\\u00e7amento_ragnarok\",\"19_livro_compr_dois\",\"27_rob\\u00f4_aspirador_arranhador\",\"28_lavar_m\\u00e1quina_roupa\",\"14_geladeira_refrigerador_g...\",\"17_ariano_infra\\u00e7\\u00e3o_reclama\\u00e7\\u00e3o\",\"6_conta_email_senha\",\"26_prime_v\\u00eddeo_assinatura\",\"24_cobran\\u00e7a_amazoncombr_dig...\"],\"tickvals\":[-5.0,-15.0,-25.0,-35.0,-45.0,-55.0,-65.0,-75.0,-85.0,-95.0,-105.0,-115.0,-125.0,-135.0,-145.0,-155.0,-165.0,-175.0,-185.0,-195.0,-205.0,-215.0,-225.0,-235.0,-245.0,-255.0,-265.0,-275.0,-285.0,-295.0],\"type\":\"linear\",\"zeroline\":false,\"range\":[-300.0,0.0]},\"template\":{\"data\":{\"barpolar\":[{\"marker\":{\"line\":{\"color\":\"white\",\"width\":0.5},\"pattern\":{\"fillmode\":\"overlay\",\"size\":10,\"solidity\":0.2}},\"type\":\"barpolar\"}],\"bar\":[{\"error_x\":{\"color\":\"#2a3f5f\"},\"error_y\":{\"color\":\"#2a3f5f\"},\"marker\":{\"line\":{\"color\":\"white\",\"width\":0.5},\"pattern\":{\"fillmode\":\"overlay\",\"size\":10,\"solidity\":0.2}},\"type\":\"bar\"}],\"carpet\":[{\"aaxis\":{\"endlinecolor\":\"#2a3f5f\",\"gridcolor\":\"#C8D4E3\",\"linecolor\":\"#C8D4E3\",\"minorgridcolor\":\"#C8D4E3\",\"startlinecolor\":\"#2a3f5f\"},\"baxis\":{\"endlinecolor\":\"#2a3f5f\",\"gridcolor\":\"#C8D4E3\",\"linecolor\":\"#C8D4E3\",\"minorgridcolor\":\"#C8D4E3\",\"startlinecolor\":\"#2a3f5f\"},\"type\":\"carpet\"}],\"choropleth\":[{\"colorbar\":{\"outlinewidth\":0,\"ticks\":\"\"},\"type\":\"choropleth\"}],\"contourcarpet\":[{\"colorbar\":{\"outlinewidth\":0,\"ticks\":\"\"},\"type\":\"contourcarpet\"}],\"contour\":[{\"colorbar\":{\"outlinewidth\":0,\"ticks\":\"\"},\"colorscale\":[[0.0,\"#0d0887\"],[0.1111111111111111,\"#46039f\"],[0.2222222222222222,\"#7201a8\"],[0.3333333333333333,\"#9c179e\"],[0.4444444444444444,\"#bd3786\"],[0.5555555555555556,\"#d8576b\"],[0.6666666666666666,\"#ed7953\"],[0.7777777777777778,\"#fb9f3a\"],[0.8888888888888888,\"#fdca26\"],[1.0,\"#f0f921\"]],\"type\":\"contour\"}],\"heatmapgl\":[{\"colorbar\":{\"outlinewidth\":0,\"ticks\":\"\"},\"colorscale\":[[0.0,\"#0d0887\"],[0.1111111111111111,\"#46039f\"],[0.2222222222222222,\"#7201a8\"],[0.3333333333333333,\"#9c179e\"],[0.4444444444444444,\"#bd3786\"],[0.5555555555555556,\"#d8576b\"],[0.6666666666666666,\"#ed7953\"],[0.7777777777777778,\"#fb9f3a\"],[0.8888888888888888,\"#fdca26\"],[1.0,\"#f0f921\"]],\"type\":\"heatmapgl\"}],\"heatmap\":[{\"colorbar\":{\"outlinewidth\":0,\"ticks\":\"\"},\"colorscale\":[[0.0,\"#0d0887\"],[0.1111111111111111,\"#46039f\"],[0.2222222222222222,\"#7201a8\"],[0.3333333333333333,\"#9c179e\"],[0.4444444444444444,\"#bd3786\"],[0.5555555555555556,\"#d8576b\"],[0.6666666666666666,\"#ed7953\"],[0.7777777777777778,\"#fb9f3a\"],[0.8888888888888888,\"#fdca26\"],[1.0,\"#f0f921\"]],\"type\":\"heatmap\"}],\"histogram2dcontour\":[{\"colorbar\":{\"outlinewidth\":0,\"ticks\":\"\"},\"colorscale\":[[0.0,\"#0d0887\"],[0.1111111111111111,\"#46039f\"],[0.2222222222222222,\"#7201a8\"],[0.3333333333333333,\"#9c179e\"],[0.4444444444444444,\"#bd3786\"],[0.5555555555555556,\"#d8576b\"],[0.6666666666666666,\"#ed7953\"],[0.7777777777777778,\"#fb9f3a\"],[0.8888888888888888,\"#fdca26\"],[1.0,\"#f0f921\"]],\"type\":\"histogram2dcontour\"}],\"histogram2d\":[{\"colorbar\":{\"outlinewidth\":0,\"ticks\":\"\"},\"colorscale\":[[0.0,\"#0d0887\"],[0.1111111111111111,\"#46039f\"],[0.2222222222222222,\"#7201a8\"],[0.3333333333333333,\"#9c179e\"],[0.4444444444444444,\"#bd3786\"],[0.5555555555555556,\"#d8576b\"],[0.6666666666666666,\"#ed7953\"],[0.7777777777777778,\"#fb9f3a\"],[0.8888888888888888,\"#fdca26\"],[1.0,\"#f0f921\"]],\"type\":\"histogram2d\"}],\"histogram\":[{\"marker\":{\"pattern\":{\"fillmode\":\"overlay\",\"size\":10,\"solidity\":0.2}},\"type\":\"histogram\"}],\"mesh3d\":[{\"colorbar\":{\"outlinewidth\":0,\"ticks\":\"\"},\"type\":\"mesh3d\"}],\"parcoords\":[{\"line\":{\"colorbar\":{\"outlinewidth\":0,\"ticks\":\"\"}},\"type\":\"parcoords\"}],\"pie\":[{\"automargin\":true,\"type\":\"pie\"}],\"scatter3d\":[{\"line\":{\"colorbar\":{\"outlinewidth\":0,\"ticks\":\"\"}},\"marker\":{\"colorbar\":{\"outlinewidth\":0,\"ticks\":\"\"}},\"type\":\"scatter3d\"}],\"scattercarpet\":[{\"marker\":{\"colorbar\":{\"outlinewidth\":0,\"ticks\":\"\"}},\"type\":\"scattercarpet\"}],\"scattergeo\":[{\"marker\":{\"colorbar\":{\"outlinewidth\":0,\"ticks\":\"\"}},\"type\":\"scattergeo\"}],\"scattergl\":[{\"marker\":{\"colorbar\":{\"outlinewidth\":0,\"ticks\":\"\"}},\"type\":\"scattergl\"}],\"scattermapbox\":[{\"marker\":{\"colorbar\":{\"outlinewidth\":0,\"ticks\":\"\"}},\"type\":\"scattermapbox\"}],\"scatterpolargl\":[{\"marker\":{\"colorbar\":{\"outlinewidth\":0,\"ticks\":\"\"}},\"type\":\"scatterpolargl\"}],\"scatterpolar\":[{\"marker\":{\"colorbar\":{\"outlinewidth\":0,\"ticks\":\"\"}},\"type\":\"scatterpolar\"}],\"scatter\":[{\"marker\":{\"colorbar\":{\"outlinewidth\":0,\"ticks\":\"\"}},\"type\":\"scatter\"}],\"scatterternary\":[{\"marker\":{\"colorbar\":{\"outlinewidth\":0,\"ticks\":\"\"}},\"type\":\"scatterternary\"}],\"surface\":[{\"colorbar\":{\"outlinewidth\":0,\"ticks\":\"\"},\"colorscale\":[[0.0,\"#0d0887\"],[0.1111111111111111,\"#46039f\"],[0.2222222222222222,\"#7201a8\"],[0.3333333333333333,\"#9c179e\"],[0.4444444444444444,\"#bd3786\"],[0.5555555555555556,\"#d8576b\"],[0.6666666666666666,\"#ed7953\"],[0.7777777777777778,\"#fb9f3a\"],[0.8888888888888888,\"#fdca26\"],[1.0,\"#f0f921\"]],\"type\":\"surface\"}],\"table\":[{\"cells\":{\"fill\":{\"color\":\"#EBF0F8\"},\"line\":{\"color\":\"white\"}},\"header\":{\"fill\":{\"color\":\"#C8D4E3\"},\"line\":{\"color\":\"white\"}},\"type\":\"table\"}]},\"layout\":{\"annotationdefaults\":{\"arrowcolor\":\"#2a3f5f\",\"arrowhead\":0,\"arrowwidth\":1},\"autotypenumbers\":\"strict\",\"coloraxis\":{\"colorbar\":{\"outlinewidth\":0,\"ticks\":\"\"}},\"colorscale\":{\"diverging\":[[0,\"#8e0152\"],[0.1,\"#c51b7d\"],[0.2,\"#de77ae\"],[0.3,\"#f1b6da\"],[0.4,\"#fde0ef\"],[0.5,\"#f7f7f7\"],[0.6,\"#e6f5d0\"],[0.7,\"#b8e186\"],[0.8,\"#7fbc41\"],[0.9,\"#4d9221\"],[1,\"#276419\"]],\"sequential\":[[0.0,\"#0d0887\"],[0.1111111111111111,\"#46039f\"],[0.2222222222222222,\"#7201a8\"],[0.3333333333333333,\"#9c179e\"],[0.4444444444444444,\"#bd3786\"],[0.5555555555555556,\"#d8576b\"],[0.6666666666666666,\"#ed7953\"],[0.7777777777777778,\"#fb9f3a\"],[0.8888888888888888,\"#fdca26\"],[1.0,\"#f0f921\"]],\"sequentialminus\":[[0.0,\"#0d0887\"],[0.1111111111111111,\"#46039f\"],[0.2222222222222222,\"#7201a8\"],[0.3333333333333333,\"#9c179e\"],[0.4444444444444444,\"#bd3786\"],[0.5555555555555556,\"#d8576b\"],[0.6666666666666666,\"#ed7953\"],[0.7777777777777778,\"#fb9f3a\"],[0.8888888888888888,\"#fdca26\"],[1.0,\"#f0f921\"]]},\"colorway\":[\"#636efa\",\"#EF553B\",\"#00cc96\",\"#ab63fa\",\"#FFA15A\",\"#19d3f3\",\"#FF6692\",\"#B6E880\",\"#FF97FF\",\"#FECB52\"],\"font\":{\"color\":\"#2a3f5f\"},\"geo\":{\"bgcolor\":\"white\",\"lakecolor\":\"white\",\"landcolor\":\"white\",\"showlakes\":true,\"showland\":true,\"subunitcolor\":\"#C8D4E3\"},\"hoverlabel\":{\"align\":\"left\"},\"hovermode\":\"closest\",\"mapbox\":{\"style\":\"light\"},\"paper_bgcolor\":\"white\",\"plot_bgcolor\":\"white\",\"polar\":{\"angularaxis\":{\"gridcolor\":\"#EBF0F8\",\"linecolor\":\"#EBF0F8\",\"ticks\":\"\"},\"bgcolor\":\"white\",\"radialaxis\":{\"gridcolor\":\"#EBF0F8\",\"linecolor\":\"#EBF0F8\",\"ticks\":\"\"}},\"scene\":{\"xaxis\":{\"backgroundcolor\":\"white\",\"gridcolor\":\"#DFE8F3\",\"gridwidth\":2,\"linecolor\":\"#EBF0F8\",\"showbackground\":true,\"ticks\":\"\",\"zerolinecolor\":\"#EBF0F8\"},\"yaxis\":{\"backgroundcolor\":\"white\",\"gridcolor\":\"#DFE8F3\",\"gridwidth\":2,\"linecolor\":\"#EBF0F8\",\"showbackground\":true,\"ticks\":\"\",\"zerolinecolor\":\"#EBF0F8\"},\"zaxis\":{\"backgroundcolor\":\"white\",\"gridcolor\":\"#DFE8F3\",\"gridwidth\":2,\"linecolor\":\"#EBF0F8\",\"showbackground\":true,\"ticks\":\"\",\"zerolinecolor\":\"#EBF0F8\"}},\"shapedefaults\":{\"line\":{\"color\":\"#2a3f5f\"}},\"ternary\":{\"aaxis\":{\"gridcolor\":\"#DFE8F3\",\"linecolor\":\"#A2B1C6\",\"ticks\":\"\"},\"baxis\":{\"gridcolor\":\"#DFE8F3\",\"linecolor\":\"#A2B1C6\",\"ticks\":\"\"},\"bgcolor\":\"white\",\"caxis\":{\"gridcolor\":\"#DFE8F3\",\"linecolor\":\"#A2B1C6\",\"ticks\":\"\"}},\"title\":{\"x\":0.05},\"xaxis\":{\"automargin\":true,\"gridcolor\":\"#EBF0F8\",\"linecolor\":\"#EBF0F8\",\"ticks\":\"\",\"title\":{\"standoff\":15},\"zerolinecolor\":\"#EBF0F8\",\"zerolinewidth\":2},\"yaxis\":{\"automargin\":true,\"gridcolor\":\"#EBF0F8\",\"linecolor\":\"#EBF0F8\",\"ticks\":\"\",\"title\":{\"standoff\":15},\"zerolinecolor\":\"#EBF0F8\",\"zerolinewidth\":2}}},\"title\":{\"font\":{\"size\":22,\"color\":\"Black\"},\"text\":\"<b>Hierarchical Clustering\",\"x\":0.5,\"xanchor\":\"center\",\"yanchor\":\"top\"},\"hoverlabel\":{\"font\":{\"size\":16,\"family\":\"Rockwell\"},\"bgcolor\":\"white\"},\"plot_bgcolor\":\"#ECEFF1\"},                        {\"responsive\": true}                    ).then(function(){\n",
              "                            \n",
              "var gd = document.getElementById('d4c2c47e-4b2e-46d9-8bb4-a332ba33d9a3');\n",
              "var x = new MutationObserver(function (mutations, observer) {{\n",
              "        var display = window.getComputedStyle(gd).display;\n",
              "        if (!display || display === 'none') {{\n",
              "            console.log([gd, 'removed!']);\n",
              "            Plotly.purge(gd);\n",
              "            observer.disconnect();\n",
              "        }}\n",
              "}});\n",
              "\n",
              "// Listen for the removal of the full notebook cells\n",
              "var notebookContainer = gd.closest('#notebook-container');\n",
              "if (notebookContainer) {{\n",
              "    x.observe(notebookContainer, {childList: true});\n",
              "}}\n",
              "\n",
              "// Listen for the clearing of the current output cell\n",
              "var outputEl = gd.closest('.output');\n",
              "if (outputEl) {{\n",
              "    x.observe(outputEl, {childList: true});\n",
              "}}\n",
              "\n",
              "                        })                };                            </script>        </div>\n",
              "</body>\n",
              "</html>"
            ]
          },
          "metadata": {}
        }
      ]
    },
    {
      "cell_type": "markdown",
      "source": [
        "#### **Save Hierarchical Clustering**"
      ],
      "metadata": {
        "id": "CyM_L5c6pBXw"
      }
    },
    {
      "cell_type": "code",
      "source": [
        "# Set the path to save \n",
        "path = WORK_DIR + f'results/{DATA_FRAME_FEATURE_NAME}/hierarchical_clustering/'\n",
        "\n",
        "# Use makedirs() to create a new directory if it does not exists\n",
        "if not os.path.exists(path):\n",
        "  os.makedirs(path)\n",
        "\n",
        "\n",
        "fig.write_image(path + \"hc_preprocessed_lemma.png\", format=\"png\")"
      ],
      "metadata": {
        "id": "CHYmk_TZpHPJ"
      },
      "execution_count": null,
      "outputs": []
    },
    {
      "cell_type": "markdown",
      "source": [
        "[Github link](https://github.com/punkmic/Topic-Modeling-Reclame-Aqui/blob/master/results/hierarchical_clustering/hc_preprocessed_lemma.png?raw=true)"
      ],
      "metadata": {
        "id": "VrqyRupApBx1"
      }
    },
    {
      "cell_type": "markdown",
      "source": [
        "### **Visualize Terms**\n",
        "\n",
        "We can visualize the selected terms for a few topics by creating bar charts out of the c-TF-IDF scores for each topic representation."
      ],
      "metadata": {
        "id": "uC26Cc-6UvYE"
      }
    },
    {
      "cell_type": "code",
      "source": [
        "fig = topic_model.visualize_barchart(top_n_topics=12, width=300, height=300)\n",
        "fig"
      ],
      "metadata": {
        "id": "-NoMSyeWVF2s",
        "outputId": "51598b98-5ae1-416b-d2c8-a62e528f4d83",
        "colab": {
          "base_uri": "https://localhost:8080/",
          "height": 937
        }
      },
      "execution_count": null,
      "outputs": [
        {
          "output_type": "display_data",
          "data": {
            "text/html": [
              "<html>\n",
              "<head><meta charset=\"utf-8\" /></head>\n",
              "<body>\n",
              "    <div>            <script src=\"https://cdnjs.cloudflare.com/ajax/libs/mathjax/2.7.5/MathJax.js?config=TeX-AMS-MML_SVG\"></script><script type=\"text/javascript\">if (window.MathJax) {MathJax.Hub.Config({SVG: {font: \"STIX-Web\"}});}</script>                <script type=\"text/javascript\">window.PlotlyConfig = {MathJaxConfig: 'local'};</script>\n",
              "        <script src=\"https://cdn.plot.ly/plotly-2.8.3.min.js\"></script>                <div id=\"f6770e9d-f3d1-4a71-9df5-a62e60aa2e71\" class=\"plotly-graph-div\" style=\"height:900px; width:1200px;\"></div>            <script type=\"text/javascript\">                                    window.PLOTLYENV=window.PLOTLYENV || {};                                    if (document.getElementById(\"f6770e9d-f3d1-4a71-9df5-a62e60aa2e71\")) {                    Plotly.newPlot(                        \"f6770e9d-f3d1-4a71-9df5-a62e60aa2e71\",                        [{\"marker\":{\"color\":\"#D55E00\"},\"orientation\":\"h\",\"x\":[0.01785393229944193,0.019223991786533376,0.01990638777896304,0.02875922894774029,0.05592131108166056],\"y\":[\"fatura  \",\"cobran\\u00e7a  \",\"cobrar  \",\"cr\\u00e9dito  \",\"cart\\u00e3o  \"],\"type\":\"bar\",\"xaxis\":\"x\",\"yaxis\":\"y\"},{\"marker\":{\"color\":\"#0072B2\"},\"orientation\":\"h\",\"x\":[0.010021079179990303,0.011505396649212405,0.014290945782451657,0.01954683569128237,0.04338205324746702],\"y\":[\"loja  \",\"comprar  \",\"smartphone  \",\"aparelho  \",\"celular  \"],\"type\":\"bar\",\"xaxis\":\"x2\",\"yaxis\":\"y2\"},{\"marker\":{\"color\":\"#CC79A7\"},\"orientation\":\"h\",\"x\":[0.013291960751965684,0.014749585899995034,0.016368621233917757,0.03165634324556861,0.04029542877882243],\"y\":[\"compra  \",\"solicitei  \",\"pedir  \",\"cancelar  \",\"cancelamento  \"],\"type\":\"bar\",\"xaxis\":\"x3\",\"yaxis\":\"y3\"},{\"marker\":{\"color\":\"#E69F00\"},\"orientation\":\"h\",\"x\":[0.010654452401116378,0.01098191099116304,0.010983636521074506,0.014952629984801444,0.04755522463168637],\"y\":[\"entrar  \",\"entregar  \",\"atendimento  \",\"contato  \",\"whatsapp  \"],\"type\":\"bar\",\"xaxis\":\"x4\",\"yaxis\":\"y4\"},{\"marker\":{\"color\":\"#56B4E9\"},\"orientation\":\"h\",\"x\":[0.008264690711687365,0.009116532489995431,0.00919563708415373,0.012572303750098707,0.04735351799245061],\"y\":[\"compra  \",\"pedir  \",\"chegar  \",\"brasileiro  \",\"brasil  \"],\"type\":\"bar\",\"xaxis\":\"x5\",\"yaxis\":\"y5\"},{\"marker\":{\"color\":\"#009E73\"},\"orientation\":\"h\",\"x\":[0.020129270630288087,0.02328811962677115,0.02348418800309927,0.033586801950136545,0.07108213835633813],\"y\":[\"previs\\u00e3o  \",\"chegar  \",\"outubro  \",\"dezembro  \",\"novembro  \"],\"type\":\"bar\",\"xaxis\":\"x6\",\"yaxis\":\"y6\"},{\"marker\":{\"color\":\"#F0E442\"},\"orientation\":\"h\",\"x\":[0.034702345854259166,0.03760737529853085,0.03894717816659942,0.04100978324529309,0.04702099215755797],\"y\":[\"acesso  \",\"acessar  \",\"senha  \",\"email  \",\"conta  \"],\"type\":\"bar\",\"xaxis\":\"x7\",\"yaxis\":\"y7\"},{\"marker\":{\"color\":\"#D55E00\"},\"orientation\":\"h\",\"x\":[0.02211236994164703,0.024079381234711917,0.04887449934459176,0.053355522582220774,0.059277437044097395],\"y\":[\"camisa  \",\"tamanho  \",\"vestir  \",\"cal\\u00e7a  \",\"roupa  \"],\"type\":\"bar\",\"xaxis\":\"x8\",\"yaxis\":\"y8\"},{\"marker\":{\"color\":\"#0072B2\"},\"orientation\":\"h\",\"x\":[0.00846383582268413,0.008483864002370587,0.008521438890679503,0.010752576161251831,0.011709061230009712],\"y\":[\"contato  \",\"produto  \",\"entrar  \",\"magalu  \",\"loja  \"],\"type\":\"bar\",\"xaxis\":\"x9\",\"yaxis\":\"y9\"},{\"marker\":{\"color\":\"#CC79A7\"},\"orientation\":\"h\",\"x\":[0.01089826548391714,0.012792747338287367,0.013289212142736578,0.021983194104190466,0.07047402540161242],\"y\":[\"valor  \",\"carregador  \",\"celular  \",\"aparelho  \",\"iphone  \"],\"type\":\"bar\",\"xaxis\":\"x10\",\"yaxis\":\"y10\"},{\"marker\":{\"color\":\"#E69F00\"},\"orientation\":\"h\",\"x\":[0.023322684014129604,0.024685437169516253,0.032007612909730414,0.038429210987715796,0.05198322338593897],\"y\":[\"compra  \",\"devolver  \",\"voltar  \",\"reembolso  \",\"dinheiro  \"],\"type\":\"bar\",\"xaxis\":\"x11\",\"yaxis\":\"y11\"},{\"marker\":{\"color\":\"#56B4E9\"},\"orientation\":\"h\",\"x\":[0.016083202834225152,0.01643948004704311,0.02155948046185511,0.03812851221753674,0.042206711835241426],\"y\":[\"desconto  \",\"oferta  \",\"promo\\u00e7\\u00e3o  \",\"friday  \",\"black  \"],\"type\":\"bar\",\"xaxis\":\"x12\",\"yaxis\":\"y12\"}],                        {\"template\":{\"data\":{\"barpolar\":[{\"marker\":{\"line\":{\"color\":\"white\",\"width\":0.5},\"pattern\":{\"fillmode\":\"overlay\",\"size\":10,\"solidity\":0.2}},\"type\":\"barpolar\"}],\"bar\":[{\"error_x\":{\"color\":\"#2a3f5f\"},\"error_y\":{\"color\":\"#2a3f5f\"},\"marker\":{\"line\":{\"color\":\"white\",\"width\":0.5},\"pattern\":{\"fillmode\":\"overlay\",\"size\":10,\"solidity\":0.2}},\"type\":\"bar\"}],\"carpet\":[{\"aaxis\":{\"endlinecolor\":\"#2a3f5f\",\"gridcolor\":\"#C8D4E3\",\"linecolor\":\"#C8D4E3\",\"minorgridcolor\":\"#C8D4E3\",\"startlinecolor\":\"#2a3f5f\"},\"baxis\":{\"endlinecolor\":\"#2a3f5f\",\"gridcolor\":\"#C8D4E3\",\"linecolor\":\"#C8D4E3\",\"minorgridcolor\":\"#C8D4E3\",\"startlinecolor\":\"#2a3f5f\"},\"type\":\"carpet\"}],\"choropleth\":[{\"colorbar\":{\"outlinewidth\":0,\"ticks\":\"\"},\"type\":\"choropleth\"}],\"contourcarpet\":[{\"colorbar\":{\"outlinewidth\":0,\"ticks\":\"\"},\"type\":\"contourcarpet\"}],\"contour\":[{\"colorbar\":{\"outlinewidth\":0,\"ticks\":\"\"},\"colorscale\":[[0.0,\"#0d0887\"],[0.1111111111111111,\"#46039f\"],[0.2222222222222222,\"#7201a8\"],[0.3333333333333333,\"#9c179e\"],[0.4444444444444444,\"#bd3786\"],[0.5555555555555556,\"#d8576b\"],[0.6666666666666666,\"#ed7953\"],[0.7777777777777778,\"#fb9f3a\"],[0.8888888888888888,\"#fdca26\"],[1.0,\"#f0f921\"]],\"type\":\"contour\"}],\"heatmapgl\":[{\"colorbar\":{\"outlinewidth\":0,\"ticks\":\"\"},\"colorscale\":[[0.0,\"#0d0887\"],[0.1111111111111111,\"#46039f\"],[0.2222222222222222,\"#7201a8\"],[0.3333333333333333,\"#9c179e\"],[0.4444444444444444,\"#bd3786\"],[0.5555555555555556,\"#d8576b\"],[0.6666666666666666,\"#ed7953\"],[0.7777777777777778,\"#fb9f3a\"],[0.8888888888888888,\"#fdca26\"],[1.0,\"#f0f921\"]],\"type\":\"heatmapgl\"}],\"heatmap\":[{\"colorbar\":{\"outlinewidth\":0,\"ticks\":\"\"},\"colorscale\":[[0.0,\"#0d0887\"],[0.1111111111111111,\"#46039f\"],[0.2222222222222222,\"#7201a8\"],[0.3333333333333333,\"#9c179e\"],[0.4444444444444444,\"#bd3786\"],[0.5555555555555556,\"#d8576b\"],[0.6666666666666666,\"#ed7953\"],[0.7777777777777778,\"#fb9f3a\"],[0.8888888888888888,\"#fdca26\"],[1.0,\"#f0f921\"]],\"type\":\"heatmap\"}],\"histogram2dcontour\":[{\"colorbar\":{\"outlinewidth\":0,\"ticks\":\"\"},\"colorscale\":[[0.0,\"#0d0887\"],[0.1111111111111111,\"#46039f\"],[0.2222222222222222,\"#7201a8\"],[0.3333333333333333,\"#9c179e\"],[0.4444444444444444,\"#bd3786\"],[0.5555555555555556,\"#d8576b\"],[0.6666666666666666,\"#ed7953\"],[0.7777777777777778,\"#fb9f3a\"],[0.8888888888888888,\"#fdca26\"],[1.0,\"#f0f921\"]],\"type\":\"histogram2dcontour\"}],\"histogram2d\":[{\"colorbar\":{\"outlinewidth\":0,\"ticks\":\"\"},\"colorscale\":[[0.0,\"#0d0887\"],[0.1111111111111111,\"#46039f\"],[0.2222222222222222,\"#7201a8\"],[0.3333333333333333,\"#9c179e\"],[0.4444444444444444,\"#bd3786\"],[0.5555555555555556,\"#d8576b\"],[0.6666666666666666,\"#ed7953\"],[0.7777777777777778,\"#fb9f3a\"],[0.8888888888888888,\"#fdca26\"],[1.0,\"#f0f921\"]],\"type\":\"histogram2d\"}],\"histogram\":[{\"marker\":{\"pattern\":{\"fillmode\":\"overlay\",\"size\":10,\"solidity\":0.2}},\"type\":\"histogram\"}],\"mesh3d\":[{\"colorbar\":{\"outlinewidth\":0,\"ticks\":\"\"},\"type\":\"mesh3d\"}],\"parcoords\":[{\"line\":{\"colorbar\":{\"outlinewidth\":0,\"ticks\":\"\"}},\"type\":\"parcoords\"}],\"pie\":[{\"automargin\":true,\"type\":\"pie\"}],\"scatter3d\":[{\"line\":{\"colorbar\":{\"outlinewidth\":0,\"ticks\":\"\"}},\"marker\":{\"colorbar\":{\"outlinewidth\":0,\"ticks\":\"\"}},\"type\":\"scatter3d\"}],\"scattercarpet\":[{\"marker\":{\"colorbar\":{\"outlinewidth\":0,\"ticks\":\"\"}},\"type\":\"scattercarpet\"}],\"scattergeo\":[{\"marker\":{\"colorbar\":{\"outlinewidth\":0,\"ticks\":\"\"}},\"type\":\"scattergeo\"}],\"scattergl\":[{\"marker\":{\"colorbar\":{\"outlinewidth\":0,\"ticks\":\"\"}},\"type\":\"scattergl\"}],\"scattermapbox\":[{\"marker\":{\"colorbar\":{\"outlinewidth\":0,\"ticks\":\"\"}},\"type\":\"scattermapbox\"}],\"scatterpolargl\":[{\"marker\":{\"colorbar\":{\"outlinewidth\":0,\"ticks\":\"\"}},\"type\":\"scatterpolargl\"}],\"scatterpolar\":[{\"marker\":{\"colorbar\":{\"outlinewidth\":0,\"ticks\":\"\"}},\"type\":\"scatterpolar\"}],\"scatter\":[{\"marker\":{\"colorbar\":{\"outlinewidth\":0,\"ticks\":\"\"}},\"type\":\"scatter\"}],\"scatterternary\":[{\"marker\":{\"colorbar\":{\"outlinewidth\":0,\"ticks\":\"\"}},\"type\":\"scatterternary\"}],\"surface\":[{\"colorbar\":{\"outlinewidth\":0,\"ticks\":\"\"},\"colorscale\":[[0.0,\"#0d0887\"],[0.1111111111111111,\"#46039f\"],[0.2222222222222222,\"#7201a8\"],[0.3333333333333333,\"#9c179e\"],[0.4444444444444444,\"#bd3786\"],[0.5555555555555556,\"#d8576b\"],[0.6666666666666666,\"#ed7953\"],[0.7777777777777778,\"#fb9f3a\"],[0.8888888888888888,\"#fdca26\"],[1.0,\"#f0f921\"]],\"type\":\"surface\"}],\"table\":[{\"cells\":{\"fill\":{\"color\":\"#EBF0F8\"},\"line\":{\"color\":\"white\"}},\"header\":{\"fill\":{\"color\":\"#C8D4E3\"},\"line\":{\"color\":\"white\"}},\"type\":\"table\"}]},\"layout\":{\"annotationdefaults\":{\"arrowcolor\":\"#2a3f5f\",\"arrowhead\":0,\"arrowwidth\":1},\"autotypenumbers\":\"strict\",\"coloraxis\":{\"colorbar\":{\"outlinewidth\":0,\"ticks\":\"\"}},\"colorscale\":{\"diverging\":[[0,\"#8e0152\"],[0.1,\"#c51b7d\"],[0.2,\"#de77ae\"],[0.3,\"#f1b6da\"],[0.4,\"#fde0ef\"],[0.5,\"#f7f7f7\"],[0.6,\"#e6f5d0\"],[0.7,\"#b8e186\"],[0.8,\"#7fbc41\"],[0.9,\"#4d9221\"],[1,\"#276419\"]],\"sequential\":[[0.0,\"#0d0887\"],[0.1111111111111111,\"#46039f\"],[0.2222222222222222,\"#7201a8\"],[0.3333333333333333,\"#9c179e\"],[0.4444444444444444,\"#bd3786\"],[0.5555555555555556,\"#d8576b\"],[0.6666666666666666,\"#ed7953\"],[0.7777777777777778,\"#fb9f3a\"],[0.8888888888888888,\"#fdca26\"],[1.0,\"#f0f921\"]],\"sequentialminus\":[[0.0,\"#0d0887\"],[0.1111111111111111,\"#46039f\"],[0.2222222222222222,\"#7201a8\"],[0.3333333333333333,\"#9c179e\"],[0.4444444444444444,\"#bd3786\"],[0.5555555555555556,\"#d8576b\"],[0.6666666666666666,\"#ed7953\"],[0.7777777777777778,\"#fb9f3a\"],[0.8888888888888888,\"#fdca26\"],[1.0,\"#f0f921\"]]},\"colorway\":[\"#636efa\",\"#EF553B\",\"#00cc96\",\"#ab63fa\",\"#FFA15A\",\"#19d3f3\",\"#FF6692\",\"#B6E880\",\"#FF97FF\",\"#FECB52\"],\"font\":{\"color\":\"#2a3f5f\"},\"geo\":{\"bgcolor\":\"white\",\"lakecolor\":\"white\",\"landcolor\":\"white\",\"showlakes\":true,\"showland\":true,\"subunitcolor\":\"#C8D4E3\"},\"hoverlabel\":{\"align\":\"left\"},\"hovermode\":\"closest\",\"mapbox\":{\"style\":\"light\"},\"paper_bgcolor\":\"white\",\"plot_bgcolor\":\"white\",\"polar\":{\"angularaxis\":{\"gridcolor\":\"#EBF0F8\",\"linecolor\":\"#EBF0F8\",\"ticks\":\"\"},\"bgcolor\":\"white\",\"radialaxis\":{\"gridcolor\":\"#EBF0F8\",\"linecolor\":\"#EBF0F8\",\"ticks\":\"\"}},\"scene\":{\"xaxis\":{\"backgroundcolor\":\"white\",\"gridcolor\":\"#DFE8F3\",\"gridwidth\":2,\"linecolor\":\"#EBF0F8\",\"showbackground\":true,\"ticks\":\"\",\"zerolinecolor\":\"#EBF0F8\"},\"yaxis\":{\"backgroundcolor\":\"white\",\"gridcolor\":\"#DFE8F3\",\"gridwidth\":2,\"linecolor\":\"#EBF0F8\",\"showbackground\":true,\"ticks\":\"\",\"zerolinecolor\":\"#EBF0F8\"},\"zaxis\":{\"backgroundcolor\":\"white\",\"gridcolor\":\"#DFE8F3\",\"gridwidth\":2,\"linecolor\":\"#EBF0F8\",\"showbackground\":true,\"ticks\":\"\",\"zerolinecolor\":\"#EBF0F8\"}},\"shapedefaults\":{\"line\":{\"color\":\"#2a3f5f\"}},\"ternary\":{\"aaxis\":{\"gridcolor\":\"#DFE8F3\",\"linecolor\":\"#A2B1C6\",\"ticks\":\"\"},\"baxis\":{\"gridcolor\":\"#DFE8F3\",\"linecolor\":\"#A2B1C6\",\"ticks\":\"\"},\"bgcolor\":\"white\",\"caxis\":{\"gridcolor\":\"#DFE8F3\",\"linecolor\":\"#A2B1C6\",\"ticks\":\"\"}},\"title\":{\"x\":0.05},\"xaxis\":{\"automargin\":true,\"gridcolor\":\"#EBF0F8\",\"linecolor\":\"#EBF0F8\",\"ticks\":\"\",\"title\":{\"standoff\":15},\"zerolinecolor\":\"#EBF0F8\",\"zerolinewidth\":2},\"yaxis\":{\"automargin\":true,\"gridcolor\":\"#EBF0F8\",\"linecolor\":\"#EBF0F8\",\"ticks\":\"\",\"title\":{\"standoff\":15},\"zerolinecolor\":\"#EBF0F8\",\"zerolinewidth\":2}}},\"xaxis\":{\"anchor\":\"y\",\"domain\":[0.0,0.175],\"showgrid\":true},\"yaxis\":{\"anchor\":\"x\",\"domain\":[0.7555555555555555,1.0],\"showgrid\":true},\"xaxis2\":{\"anchor\":\"y2\",\"domain\":[0.275,0.45],\"showgrid\":true},\"yaxis2\":{\"anchor\":\"x2\",\"domain\":[0.7555555555555555,1.0],\"showgrid\":true},\"xaxis3\":{\"anchor\":\"y3\",\"domain\":[0.55,0.7250000000000001],\"showgrid\":true},\"yaxis3\":{\"anchor\":\"x3\",\"domain\":[0.7555555555555555,1.0],\"showgrid\":true},\"xaxis4\":{\"anchor\":\"y4\",\"domain\":[0.825,1.0],\"showgrid\":true},\"yaxis4\":{\"anchor\":\"x4\",\"domain\":[0.7555555555555555,1.0],\"showgrid\":true},\"xaxis5\":{\"anchor\":\"y5\",\"domain\":[0.0,0.175],\"showgrid\":true},\"yaxis5\":{\"anchor\":\"x5\",\"domain\":[0.37777777777777777,0.6222222222222222],\"showgrid\":true},\"xaxis6\":{\"anchor\":\"y6\",\"domain\":[0.275,0.45],\"showgrid\":true},\"yaxis6\":{\"anchor\":\"x6\",\"domain\":[0.37777777777777777,0.6222222222222222],\"showgrid\":true},\"xaxis7\":{\"anchor\":\"y7\",\"domain\":[0.55,0.7250000000000001],\"showgrid\":true},\"yaxis7\":{\"anchor\":\"x7\",\"domain\":[0.37777777777777777,0.6222222222222222],\"showgrid\":true},\"xaxis8\":{\"anchor\":\"y8\",\"domain\":[0.825,1.0],\"showgrid\":true},\"yaxis8\":{\"anchor\":\"x8\",\"domain\":[0.37777777777777777,0.6222222222222222],\"showgrid\":true},\"xaxis9\":{\"anchor\":\"y9\",\"domain\":[0.0,0.175],\"showgrid\":true},\"yaxis9\":{\"anchor\":\"x9\",\"domain\":[0.0,0.24444444444444446],\"showgrid\":true},\"xaxis10\":{\"anchor\":\"y10\",\"domain\":[0.275,0.45],\"showgrid\":true},\"yaxis10\":{\"anchor\":\"x10\",\"domain\":[0.0,0.24444444444444446],\"showgrid\":true},\"xaxis11\":{\"anchor\":\"y11\",\"domain\":[0.55,0.7250000000000001],\"showgrid\":true},\"yaxis11\":{\"anchor\":\"x11\",\"domain\":[0.0,0.24444444444444446],\"showgrid\":true},\"xaxis12\":{\"anchor\":\"y12\",\"domain\":[0.825,1.0],\"showgrid\":true},\"yaxis12\":{\"anchor\":\"x12\",\"domain\":[0.0,0.24444444444444446],\"showgrid\":true},\"annotations\":[{\"font\":{\"size\":16},\"showarrow\":false,\"text\":\"Topic 0\",\"x\":0.0875,\"xanchor\":\"center\",\"xref\":\"paper\",\"y\":1.0,\"yanchor\":\"bottom\",\"yref\":\"paper\"},{\"font\":{\"size\":16},\"showarrow\":false,\"text\":\"Topic 1\",\"x\":0.36250000000000004,\"xanchor\":\"center\",\"xref\":\"paper\",\"y\":1.0,\"yanchor\":\"bottom\",\"yref\":\"paper\"},{\"font\":{\"size\":16},\"showarrow\":false,\"text\":\"Topic 2\",\"x\":0.6375000000000001,\"xanchor\":\"center\",\"xref\":\"paper\",\"y\":1.0,\"yanchor\":\"bottom\",\"yref\":\"paper\"},{\"font\":{\"size\":16},\"showarrow\":false,\"text\":\"Topic 3\",\"x\":0.9125,\"xanchor\":\"center\",\"xref\":\"paper\",\"y\":1.0,\"yanchor\":\"bottom\",\"yref\":\"paper\"},{\"font\":{\"size\":16},\"showarrow\":false,\"text\":\"Topic 4\",\"x\":0.0875,\"xanchor\":\"center\",\"xref\":\"paper\",\"y\":0.6222222222222222,\"yanchor\":\"bottom\",\"yref\":\"paper\"},{\"font\":{\"size\":16},\"showarrow\":false,\"text\":\"Topic 5\",\"x\":0.36250000000000004,\"xanchor\":\"center\",\"xref\":\"paper\",\"y\":0.6222222222222222,\"yanchor\":\"bottom\",\"yref\":\"paper\"},{\"font\":{\"size\":16},\"showarrow\":false,\"text\":\"Topic 6\",\"x\":0.6375000000000001,\"xanchor\":\"center\",\"xref\":\"paper\",\"y\":0.6222222222222222,\"yanchor\":\"bottom\",\"yref\":\"paper\"},{\"font\":{\"size\":16},\"showarrow\":false,\"text\":\"Topic 7\",\"x\":0.9125,\"xanchor\":\"center\",\"xref\":\"paper\",\"y\":0.6222222222222222,\"yanchor\":\"bottom\",\"yref\":\"paper\"},{\"font\":{\"size\":16},\"showarrow\":false,\"text\":\"Topic 8\",\"x\":0.0875,\"xanchor\":\"center\",\"xref\":\"paper\",\"y\":0.24444444444444446,\"yanchor\":\"bottom\",\"yref\":\"paper\"},{\"font\":{\"size\":16},\"showarrow\":false,\"text\":\"Topic 9\",\"x\":0.36250000000000004,\"xanchor\":\"center\",\"xref\":\"paper\",\"y\":0.24444444444444446,\"yanchor\":\"bottom\",\"yref\":\"paper\"},{\"font\":{\"size\":16},\"showarrow\":false,\"text\":\"Topic 10\",\"x\":0.6375000000000001,\"xanchor\":\"center\",\"xref\":\"paper\",\"y\":0.24444444444444446,\"yanchor\":\"bottom\",\"yref\":\"paper\"},{\"font\":{\"size\":16},\"showarrow\":false,\"text\":\"Topic 11\",\"x\":0.9125,\"xanchor\":\"center\",\"xref\":\"paper\",\"y\":0.24444444444444446,\"yanchor\":\"bottom\",\"yref\":\"paper\"}],\"title\":{\"font\":{\"size\":22,\"color\":\"Black\"},\"text\":\"<b>Topic Word Scores\",\"x\":0.5,\"xanchor\":\"center\",\"yanchor\":\"top\"},\"hoverlabel\":{\"font\":{\"size\":16,\"family\":\"Rockwell\"},\"bgcolor\":\"white\"},\"showlegend\":false,\"width\":1200,\"height\":900},                        {\"responsive\": true}                    ).then(function(){\n",
              "                            \n",
              "var gd = document.getElementById('f6770e9d-f3d1-4a71-9df5-a62e60aa2e71');\n",
              "var x = new MutationObserver(function (mutations, observer) {{\n",
              "        var display = window.getComputedStyle(gd).display;\n",
              "        if (!display || display === 'none') {{\n",
              "            console.log([gd, 'removed!']);\n",
              "            Plotly.purge(gd);\n",
              "            observer.disconnect();\n",
              "        }}\n",
              "}});\n",
              "\n",
              "// Listen for the removal of the full notebook cells\n",
              "var notebookContainer = gd.closest('#notebook-container');\n",
              "if (notebookContainer) {{\n",
              "    x.observe(notebookContainer, {childList: true});\n",
              "}}\n",
              "\n",
              "// Listen for the clearing of the current output cell\n",
              "var outputEl = gd.closest('.output');\n",
              "if (outputEl) {{\n",
              "    x.observe(outputEl, {childList: true});\n",
              "}}\n",
              "\n",
              "                        })                };                            </script>        </div>\n",
              "</body>\n",
              "</html>"
            ]
          },
          "metadata": {}
        }
      ]
    },
    {
      "cell_type": "markdown",
      "source": [
        "#### **Save Top Word Scores Bar Chart**"
      ],
      "metadata": {
        "id": "MZWFicVqpWUA"
      }
    },
    {
      "cell_type": "code",
      "source": [
        "# Set the path to save \n",
        "path = WORK_DIR + f'results/{DATA_FRAME_FEATURE_NAME}/top_words_scores/'\n",
        "\n",
        "# Use makedirs() to create a new directory if it does not exists\n",
        "if not os.path.exists(path):\n",
        "  os.makedirs(path)\n",
        "\n",
        "\n",
        "fig.write_image(path + \"tws_preprocessed_lemma.png\", format=\"png\")"
      ],
      "metadata": {
        "id": "Qrz2ywMapdO5"
      },
      "execution_count": null,
      "outputs": []
    },
    {
      "cell_type": "markdown",
      "source": [
        "[Github link](https://github.com/punkmic/Topic-Modeling-Reclame-Aqui/blob/master/results/top_words_scores/tws_preprocessed_lemma.png?raw=true)"
      ],
      "metadata": {
        "id": "HtFLmwl4pTAv"
      }
    },
    {
      "cell_type": "markdown",
      "source": [
        "### **Visualize Topic Similarity**\n",
        "\n",
        "This plot shows a similarity matrix by simply applying cosine similarities through those topic embeddings generate by BERTopic through both c-TF-IDF and embeddings. This matrix indicate how similar certain topics are to each other."
      ],
      "metadata": {
        "id": "qMjOvmYVVUDX"
      }
    },
    {
      "cell_type": "code",
      "source": [
        "fig = topic_model.visualize_heatmap(n_clusters=20, width=800, height=800)\n",
        "fig"
      ],
      "metadata": {
        "id": "_GL5qZ0nV3M2",
        "outputId": "64a60b7e-13b5-43c0-c8e0-2659493ea5c6",
        "colab": {
          "base_uri": "https://localhost:8080/",
          "height": 817
        }
      },
      "execution_count": null,
      "outputs": [
        {
          "output_type": "display_data",
          "data": {
            "text/html": [
              "<html>\n",
              "<head><meta charset=\"utf-8\" /></head>\n",
              "<body>\n",
              "    <div>            <script src=\"https://cdnjs.cloudflare.com/ajax/libs/mathjax/2.7.5/MathJax.js?config=TeX-AMS-MML_SVG\"></script><script type=\"text/javascript\">if (window.MathJax) {MathJax.Hub.Config({SVG: {font: \"STIX-Web\"}});}</script>                <script type=\"text/javascript\">window.PlotlyConfig = {MathJaxConfig: 'local'};</script>\n",
              "        <script src=\"https://cdn.plot.ly/plotly-2.8.3.min.js\"></script>                <div id=\"61d82fbf-2493-433a-97d0-cb2dbdcb9348\" class=\"plotly-graph-div\" style=\"height:800px; width:800px;\"></div>            <script type=\"text/javascript\">                                    window.PLOTLYENV=window.PLOTLYENV || {};                                    if (document.getElementById(\"61d82fbf-2493-433a-97d0-cb2dbdcb9348\")) {                    Plotly.newPlot(                        \"61d82fbf-2493-433a-97d0-cb2dbdcb9348\",                        [{\"coloraxis\":\"coloraxis\",\"name\":\"0\",\"x\":[\"0_cart\\u00e3o_cr\\u00e9dito_cobrar\",\"47_cashback_valor_extrato\",\"1_celular_aparelho_smartphone\",\"9_iphone_aparelho_celular\",\"40_bluetooth_fone_controle\",\"2_cancelamento_cancelar_pedir\",\"5_novembro_dezembro_outubro\",\"16_previs\\u00e3o_entregar_data\",\"19_livro_compr_dois\",\"57_ningu\\u00e9m_nada_pedir\",\"67_esposo_marido_evid\\u00eancia\",\"69_atraso_cadeirinha_semana\",\"70_frete_oralb_porcar\",\"79_carta_gritar_ninguem\",\"3_whatsapp_contato_atendime...\",\"51_m\\u00fasica_music_ouvir\",\"4_brasil_brasileiro_chegar\",\"36_china_nacional_correios\",\"6_conta_email_senha\",\"26_prime_v\\u00eddeo_assinatura\",\"29_rastreio_c\\u00f3digo_rastream...\",\"50_aplicativo_entregar_compra\",\"64_chat_servi\\u00e7o_falar\",\"7_roupa_cal\\u00e7a_vestir\",\"37_foto_c\\u00e2merar_placa\",\"52_reconhecimento_facial_ro...\",\"59_cama_comprei_colch\\u00e3o\",\"76_l\\u00e2mpada_lampada_an\\u00fancio\",\"8_loja_magalu_entrar\",\"12_pedir_encomenda_entregar\",\"13_jogo_lan\\u00e7amento_ragnarok\",\"18_boneca_falar_esperar\",\"25_curitiba_tr\\u00e2nsito_parado\",\"32_contato_entregar_entrar\",\"41_prazo_atraso_cumprir\",\"44_entregar_ligar_ningu\\u00e9m\",\"48_pessoa_assador_ningu\\u00e9m\",\"54_contato_efetuar_mensagem\",\"55_transportadora_entregar_...\",\"56_produto_separa\\u00e7\\u00e3o_estoque\",\"60_carrinho_pr\\u00e9dio_traseira\",\"71_secador_chegar_bagun\\u00e7a\",\"80_condom\\u00ednio_associar_extr...\",\"10_dinheiro_reembolso_voltar\",\"20_aplicativo_reembolso_com...\",\"21_pagamento_boleto_paguei\",\"11_black_friday_promo\\u00e7\\u00e3o\",\"15_endere\\u00e7o_pedir_remetente\",\"17_ariano_infra\\u00e7\\u00e3o_reclama\\u00e7\\u00e3o\",\"23_nota_valor_desconto\",\"30_mercadoria_produto_constar\",\"34_juliana_fraga_m\\u00e1rcia_pro...\",\"38_devolu\\u00e7\\u00e3o_postagem_solic...\",\"39_internacional_nacional_p...\",\"43_coleira_tamanho_empresa\",\"45_gr\\u00e1tis_frete_anunciar\",\"49_site_paguei_produto\",\"58_endere\\u00e7o_terceiro_goi\\u00e2nia\",\"72_novembro_correios_agosto\",\"75_jogo_panelo_panele\",\"14_geladeira_refrigerador_g...\",\"62_microondas_eletrotrader_...\",\"22_t\\u00eanis_mizuno_tenis\",\"27_rob\\u00f4_aspirador_arranhador\",\"61_pneu_pastilha_pirelli\",\"24_cobran\\u00e7a_amazoncombr_dig...\",\"74_amazoncombr_fiscal_nota\",\"77_https_lepsably_wwwameric...\",\"78_amazoncom_norte_email\",\"28_lavar_m\\u00e1quina_roupa\",\"73_forno_fogao_fog\\u00e3o\",\"31_televis\\u00e3o_monitor_televi...\",\"35_notebook_dell_intel\",\"33_vir_garrafa_caixa\",\"65_liquidificador_piscina_o...\",\"42_cadeira_montar_gamer\",\"53_sof\\u00e1_mobly_magalu\",\"46_bicicleta_bike_capacete\",\"63_perfume_embalagem_refresh\",\"68_shampoo_cabelo_natural\",\"66_mouse_teclado_combo\"],\"y\":[\"0_cart\\u00e3o_cr\\u00e9dito_cobrar\",\"47_cashback_valor_extrato\",\"1_celular_aparelho_smartphone\",\"9_iphone_aparelho_celular\",\"40_bluetooth_fone_controle\",\"2_cancelamento_cancelar_pedir\",\"5_novembro_dezembro_outubro\",\"16_previs\\u00e3o_entregar_data\",\"19_livro_compr_dois\",\"57_ningu\\u00e9m_nada_pedir\",\"67_esposo_marido_evid\\u00eancia\",\"69_atraso_cadeirinha_semana\",\"70_frete_oralb_porcar\",\"79_carta_gritar_ninguem\",\"3_whatsapp_contato_atendime...\",\"51_m\\u00fasica_music_ouvir\",\"4_brasil_brasileiro_chegar\",\"36_china_nacional_correios\",\"6_conta_email_senha\",\"26_prime_v\\u00eddeo_assinatura\",\"29_rastreio_c\\u00f3digo_rastream...\",\"50_aplicativo_entregar_compra\",\"64_chat_servi\\u00e7o_falar\",\"7_roupa_cal\\u00e7a_vestir\",\"37_foto_c\\u00e2merar_placa\",\"52_reconhecimento_facial_ro...\",\"59_cama_comprei_colch\\u00e3o\",\"76_l\\u00e2mpada_lampada_an\\u00fancio\",\"8_loja_magalu_entrar\",\"12_pedir_encomenda_entregar\",\"13_jogo_lan\\u00e7amento_ragnarok\",\"18_boneca_falar_esperar\",\"25_curitiba_tr\\u00e2nsito_parado\",\"32_contato_entregar_entrar\",\"41_prazo_atraso_cumprir\",\"44_entregar_ligar_ningu\\u00e9m\",\"48_pessoa_assador_ningu\\u00e9m\",\"54_contato_efetuar_mensagem\",\"55_transportadora_entregar_...\",\"56_produto_separa\\u00e7\\u00e3o_estoque\",\"60_carrinho_pr\\u00e9dio_traseira\",\"71_secador_chegar_bagun\\u00e7a\",\"80_condom\\u00ednio_associar_extr...\",\"10_dinheiro_reembolso_voltar\",\"20_aplicativo_reembolso_com...\",\"21_pagamento_boleto_paguei\",\"11_black_friday_promo\\u00e7\\u00e3o\",\"15_endere\\u00e7o_pedir_remetente\",\"17_ariano_infra\\u00e7\\u00e3o_reclama\\u00e7\\u00e3o\",\"23_nota_valor_desconto\",\"30_mercadoria_produto_constar\",\"34_juliana_fraga_m\\u00e1rcia_pro...\",\"38_devolu\\u00e7\\u00e3o_postagem_solic...\",\"39_internacional_nacional_p...\",\"43_coleira_tamanho_empresa\",\"45_gr\\u00e1tis_frete_anunciar\",\"49_site_paguei_produto\",\"58_endere\\u00e7o_terceiro_goi\\u00e2nia\",\"72_novembro_correios_agosto\",\"75_jogo_panelo_panele\",\"14_geladeira_refrigerador_g...\",\"62_microondas_eletrotrader_...\",\"22_t\\u00eanis_mizuno_tenis\",\"27_rob\\u00f4_aspirador_arranhador\",\"61_pneu_pastilha_pirelli\",\"24_cobran\\u00e7a_amazoncombr_dig...\",\"74_amazoncombr_fiscal_nota\",\"77_https_lepsably_wwwameric...\",\"78_amazoncom_norte_email\",\"28_lavar_m\\u00e1quina_roupa\",\"73_forno_fogao_fog\\u00e3o\",\"31_televis\\u00e3o_monitor_televi...\",\"35_notebook_dell_intel\",\"33_vir_garrafa_caixa\",\"65_liquidificador_piscina_o...\",\"42_cadeira_montar_gamer\",\"53_sof\\u00e1_mobly_magalu\",\"46_bicicleta_bike_capacete\",\"63_perfume_embalagem_refresh\",\"68_shampoo_cabelo_natural\",\"66_mouse_teclado_combo\"],\"z\":[[0.9999999999999994,0.7351034430685752,0.5807914070523773,0.5970712148934784,0.5274541983247673,0.6853602885238101,0.6537148443437373,0.6781825320607492,0.645204100021654,0.6132616669602363,0.6023461709639965,0.6267802996120927,0.623585231052588,0.62683635817337,0.5308965738644477,0.5380366056799236,0.539442157480243,0.5939363670931653,0.6693759285310326,0.6913954336621254,0.668690822124403,0.6908884899050908,0.6505277587123773,0.606251502863591,0.6035902065513937,0.5832297430190864,0.5836403562160208,0.5931102260925738,0.730629647762176,0.6745196335327678,0.7101367468733053,0.7053003591421068,0.6476574346037937,0.742279191533958,0.6964199705235714,0.7328121696347359,0.7255647135145532,0.6958274327850854,0.6947691627482286,0.6750304316623122,0.7120816372559345,0.667439273617105,0.6985530562170618,0.8323536268070694,0.8165907884080962,0.876361723592663,0.7595308016598579,0.7295931803933691,0.7340064499336925,0.8176163380743507,0.7421819330517347,0.6675441393572953,0.69547109907054,0.703947804315994,0.7266189868085748,0.7576146156932818,0.794849810845945,0.6998488720149914,0.6777598453391643,0.6802297833205186,0.46804196372091283,0.3827955381708033,0.5176233779467024,0.43092357487286936,0.516991764765184,0.8368728239664975,0.7039918025605931,0.6147559233694463,0.6117486464422321,0.47930925982894257,0.49987095528348596,0.4590110284760159,0.598306082139379,0.65294955903615,0.6589450767185506,0.5202825325258276,0.43577012043732666,0.3973323178478216,0.46600923085735935,0.38848959984245546,0.3826706891295026],[0.7351034430685752,1.0000000000000004,0.4838151620519626,0.46224134883283774,0.4696335438312328,0.6781259424848047,0.600123468058339,0.6404291537860155,0.5722843034300882,0.5572867362920341,0.5594017775214839,0.5914177677417688,0.5812445550298496,0.5754070646636585,0.5416281067310923,0.501500797584904,0.4096299982501579,0.45013126617328514,0.6308336431678215,0.6091669922692451,0.572305403114632,0.6186165186384436,0.6114021460128435,0.5206649622016859,0.5300105867410271,0.5386179547057541,0.5733484618455383,0.4504446898808148,0.6443535723929622,0.6389180779605761,0.6324457926326963,0.6785564535519675,0.6338608618519905,0.6552561164943309,0.6578014785659863,0.6578940110930865,0.6502739057246271,0.6383377290177783,0.643448470879492,0.6423392142677439,0.6530168245761033,0.6395099976851292,0.6063523971893676,0.8474930967253149,0.7443721160481339,0.7997537930876244,0.6572022805770222,0.6715797098433475,0.6348007079154705,0.733710918684906,0.654210991089267,0.6174052778695914,0.6305090032084425,0.5919201862673944,0.6323494339134049,0.6826428565421002,0.7320273552929595,0.6248150241024434,0.6064677500568836,0.5887573558739961,0.45996514556416834,0.3923534842829959,0.41943547274181947,0.43797595297681985,0.4695974562949045,0.6914601198654322,0.6181175212653452,0.5682985085038841,0.5724497023430485,0.4381062795780335,0.48121137581969753,0.4251118254749506,0.588941523303599,0.598817838857128,0.591784675416632,0.48343406609185346,0.4507265208583516,0.37857576444336055,0.4317825944127207,0.381991804400311,0.41162307724255565],[0.5807914070523773,0.4838151620519626,1.0000000000000007,0.8165766215453225,0.7549190665943691,0.5831804604250286,0.5729027639062134,0.6208499973387708,0.5943192791787092,0.6051547928007017,0.5732055364022,0.5717101129145092,0.6207246977381482,0.6004840281434078,0.6646504102359271,0.5663875891327022,0.49252054937767475,0.5054523101018134,0.6701160352850938,0.6079051945092226,0.6303517430279199,0.7556505760746814,0.7187293407193251,0.6026920275082104,0.6222864330316545,0.5959151861928348,0.5806060390483682,0.5784642839390494,0.7274869578977602,0.6173519400931785,0.6753437515954743,0.650552773597497,0.6268581576326739,0.6927988418325604,0.6458223668902507,0.6532094650036524,0.6766163058854165,0.785144454105597,0.6528833898129093,0.6652029865830769,0.701020413972344,0.6296187420791948,0.6446909489273625,0.5938123219247716,0.7083396359779975,0.583172078069297,0.6448521988732098,0.6603275358131323,0.64967540416042,0.6319926937812204,0.6558179827433882,0.6432058858018097,0.6099498064996569,0.6554053003928019,0.69688639834701,0.6468623509208191,0.670625066336861,0.6548708161282574,0.6362853186854867,0.6432420610424009,0.4232922737492151,0.4837923838251507,0.5241749990565008,0.557688213478085,0.526859241493557,0.6142560903843501,0.5452751500541849,0.5251074089556785,0.5595892977402167,0.5396403520212428,0.505963884565081,0.5902184892974797,0.6170429581415052,0.5864263980551304,0.5429287692543833,0.49183256497782024,0.43639756221515,0.4883719794059421,0.4579167342115717,0.46637860445340545,0.4888338855526725],[0.5970712148934784,0.46224134883283774,0.8165766215453225,0.9999999999999991,0.6997352529204375,0.5876079745567467,0.536523505638121,0.597503232105685,0.5778636408556053,0.5732905751386029,0.5358512955650637,0.5366571990704758,0.5583474227731237,0.5708240031323106,0.5908694918917345,0.5263415253833481,0.46997413252883297,0.4809258528880984,0.6360028741963525,0.6099434198482734,0.5869959952089682,0.7594353779521905,0.6306514388325716,0.568101245852241,0.5909300968887972,0.5575942203638088,0.5343371910862987,0.5308410416832727,0.679430441907193,0.5931873872236264,0.6450421491038173,0.6061940473950882,0.5910552706601466,0.6548407554250973,0.5982363859852871,0.6104056718610891,0.6483573578921037,0.7111829218890805,0.5991580254302281,0.6363613185209195,0.6540649295178317,0.6070353566054181,0.6166917854919223,0.5892016916823412,0.7450318243231571,0.5813737277461447,0.6226879123013267,0.6160943670709963,0.6353765469733026,0.6349565706022946,0.6562731094790791,0.6120530439823001,0.5846519016916956,0.6522563278435289,0.6576810044820026,0.6355754640605051,0.6729744026671124,0.6199906051582462,0.5950886459526548,0.6251082294701448,0.4244873194926179,0.3833614921042677,0.5037409280743469,0.4969099832017633,0.4703214559456876,0.6600307032577063,0.6294000788997558,0.5250226760226703,0.6393563659652923,0.5206840273929315,0.5367662299036987,0.5218779037188989,0.5956370171391444,0.5658551455436367,0.5365373309897433,0.47276895571687494,0.4310393655306437,0.39661494937115727,0.4242339500807129,0.4275359828871799,0.512983343950161],[0.5274541983247673,0.4696335438312328,0.7549190665943691,0.6997352529204375,0.9999999999999998,0.5520777838699584,0.5186383252600641,0.5871504967941792,0.5900459442519516,0.5963697048186907,0.5755308338608122,0.5403333997647923,0.5668681649988707,0.5994928804949343,0.6557016924031647,0.5784088541827286,0.4640075621596722,0.45958699107668094,0.6546493728994345,0.6349429355234975,0.672118233504086,0.7073331774749181,0.6998456337492545,0.5644920390171969,0.6356957215522825,0.61069580108488,0.5138925526844648,0.5830641934245121,0.6953365882717223,0.608243639975554,0.6473401169184316,0.5922745158413972,0.6195376578571927,0.6378071022108767,0.6179374786799295,0.6297401412957782,0.6416966193108948,0.7298023232503874,0.6467321941093471,0.6375767328203589,0.6691097654753485,0.6066200762735819,0.5996515105375719,0.545428603946261,0.6505041735918687,0.5586460936542847,0.6090571444446266,0.6305611150894446,0.6055472592435988,0.5970656484669267,0.6027335270323674,0.6363790119281983,0.6327761239474265,0.6436391050813267,0.6533860902892559,0.6234370674976454,0.6460403773977765,0.6475583061950425,0.5858383018717611,0.6330195598219419,0.39391130581049927,0.3915694291845995,0.528851004850509,0.5400734948832787,0.5000224787524082,0.6184139005179442,0.574925012033007,0.6059683391284306,0.6099782061064933,0.5430970357067997,0.4661346028661254,0.5569701551379581,0.5627675234627149,0.5743865248655748,0.5666772296421465,0.42504191640675765,0.4207802614267324,0.43690337358465364,0.49618241242280486,0.4827229177510741,0.4871386402887736],[0.6853602885238101,0.6781259424848047,0.5831804604250286,0.5876079745567467,0.5520777838699584,1.0000000000000002,0.73122568220296,0.7370944920076914,0.7357652587157458,0.7944567841061496,0.730638361388857,0.8259801284171381,0.7185250245828416,0.8053389448971561,0.6612018800221373,0.6665310814496949,0.6074612038795008,0.5853962196094578,0.7456709446877356,0.7245692914406365,0.7212605924961281,0.7463109401128993,0.791564240451384,0.6702231832761556,0.6370245796048956,0.640143260967739,0.7142403265569796,0.6256628778778113,0.8046251235518901,0.8148781842133126,0.8051953973764907,0.8176842670917933,0.8410738776887847,0.8358069277439479,0.8279831008200199,0.852228345657963,0.8040865862317784,0.8094511705969855,0.8190273803966995,0.8345929772842391,0.8055720390318505,0.820716261206578,0.8071305414469618,0.789118516164245,0.7552300399324746,0.7992638792880025,0.8034981801104063,0.8052338827514879,0.8142730641314238,0.7917583654210828,0.7679534891945108,0.8330587415353019,0.8162677505906033,0.7479109438531879,0.7536104119154654,0.7980002224907887,0.7730275877732021,0.783163229485397,0.7529377457648309,0.7824967668038323,0.5606447403530924,0.500349608792965,0.5697303764445314,0.6049920059248491,0.5912461396858792,0.7125838680930087,0.7003414779131156,0.6044281880802027,0.6824876863846029,0.6218846463713837,0.678766245156791,0.5845173286220579,0.6071284585656498,0.7186763162784778,0.6928550594076834,0.602795676631733,0.5427610843147118,0.4455844618649959,0.5446561582797194,0.48734529106052743,0.46400978353980116],[0.6537148443437373,0.600123468058339,0.5729027639062134,0.536523505638121,0.5186383252600641,0.73122568220296,1.0,0.8754581683604012,0.7521725834115685,0.7633236602689991,0.7469679645349209,0.8089204550889251,0.7492811878178837,0.8015994261347843,0.6323378287109163,0.7030883277995189,0.627832253544911,0.6373047361123014,0.7347374241403554,0.7497905672106513,0.7442093714550431,0.7409907352468492,0.7406317855417892,0.6734209179197795,0.6737525094142529,0.6628898012264325,0.6709073864571999,0.6769536999027438,0.8254443894655615,0.8266318769530957,0.8204318196558847,0.857482875702745,0.859426136748681,0.8303499859138406,0.8621248852698029,0.795455256513305,0.7956447515051988,0.801623322752618,0.7981804064953593,0.8099712553967541,0.7791414019313903,0.8295820421577844,0.8124404318663642,0.743545045719078,0.6971074274503547,0.7485907913657276,0.8084269816254126,0.8022137512887947,0.7679538824414911,0.8081371304750697,0.7391614428450578,0.7807737163326313,0.7870977946194679,0.7995484511724,0.7709692534260786,0.8005870540593216,0.8066477567096028,0.7815713546505232,0.9422073868542999,0.7547705165459129,0.5037026649034072,0.5083506764066614,0.5688489227208969,0.5468426718636445,0.5921981086379824,0.7157593419873983,0.7498114402203944,0.6654543844725033,0.7201904653570136,0.5539054926067232,0.6345785623024935,0.6044312884455015,0.5549482628902491,0.6582547092547324,0.6128215739223177,0.5358518248546369,0.5145497005789714,0.4616494263658909,0.5346956739464322,0.4969682927971223,0.43323820202569807],[0.6781825320607492,0.6404291537860155,0.6208499973387708,0.597503232105685,0.5871504967941792,0.7370944920076914,0.8754581683604012,1.0000000000000002,0.7606435691266799,0.7672238808696574,0.7572816621689366,0.7863006822939183,0.7585002371598355,0.7922956695038941,0.6854731349865313,0.6942337623204454,0.6319592399674283,0.6440268784793908,0.7597347737089541,0.7882934000726054,0.804580897545683,0.8232255106942435,0.7743549125455247,0.6914997632104218,0.7329712704458277,0.6985932515486322,0.6989010899260333,0.7027039228838833,0.8625886159433891,0.8349785743519148,0.8540298297107627,0.8281278204381368,0.8245045428919373,0.862329406947908,0.8905103007557186,0.8238082301901143,0.8254059361131252,0.8388018878855468,0.8456064108071478,0.8584841113936108,0.7981629388858971,0.8482058557248472,0.8226402681152585,0.7714854258269237,0.7567900766111945,0.7708760459170505,0.828252798230422,0.7996513949698582,0.8063311357827116,0.8453259204567201,0.8140578625403699,0.8258794095698015,0.8138812277889315,0.8262258456515252,0.8211171064540679,0.8426960167354451,0.8425242468419255,0.7916969373208245,0.8334303150432761,0.7887140683880866,0.5662762937524118,0.5070746469004408,0.6186973072778585,0.5893207179622267,0.6047702409199758,0.7441452383989482,0.7461442401303953,0.6541677432487555,0.7025388856706007,0.628651655503903,0.6672620173401493,0.6378355768211543,0.6373837986557973,0.7073833547773495,0.7049256567408432,0.5385423913658878,0.5078604933216698,0.47599094892403776,0.582230712832988,0.5861136249927185,0.4607078562041313],[0.645204100021654,0.5722843034300882,0.5943192791787092,0.5778636408556053,0.5900459442519516,0.7357652587157458,0.7521725834115685,0.7606435691266799,0.9999999999999994,0.7965882012910616,0.8216995484952649,0.7684011886274938,0.8019904748822168,0.8362650496494533,0.6442610008870517,0.7605653445983419,0.6183213877963354,0.5741312711409425,0.7629074069284152,0.7847966345977155,0.7669259957719615,0.7687167391578732,0.7522594519766078,0.7234050875436113,0.717796998317568,0.668089549660334,0.7532656207746878,0.7025334607882151,0.8579549654406474,0.8360625849167224,0.841039950804884,0.8368793071606121,0.8110965605788288,0.845950795740573,0.8227296020086146,0.8247543976537494,0.8487616699984267,0.834571710698599,0.791449240597967,0.8441209368470614,0.8252188163837394,0.8407568058044779,0.8458927316449152,0.7491088503520479,0.7023482615650453,0.7181618222840529,0.7670973769806365,0.8225361392620373,0.8240991778363476,0.7901330665356459,0.8069021993897828,0.8508797507841117,0.8293762999834505,0.7796532611746865,0.8116596447663482,0.804361610617798,0.8076354394820682,0.839011056962711,0.8115264663140705,0.8348480257197597,0.5306545476437653,0.4837415329705205,0.6457406088029979,0.6203919814585362,0.6000981627675488,0.7273363093587099,0.7581262968207819,0.6846728920518395,0.7351602402644852,0.5855774633634259,0.6499243319656167,0.5725637300121781,0.649546488786829,0.710268365581751,0.6570147531154037,0.5916082944529844,0.5676175563998511,0.45745516394638,0.5975693755916521,0.599005309077744,0.5043392568456571],[0.6132616669602363,0.5572867362920341,0.6051547928007017,0.5732905751386029,0.5963697048186907,0.7944567841061496,0.7633236602689991,0.7672238808696574,0.7965882012910616,1.0,0.8141563198499111,0.8341886709582141,0.8308035121261622,0.9360591685815173,0.7356388740694008,0.7678573143755942,0.6749839329989921,0.6771565150833404,0.7872334115183276,0.7708377185077244,0.768163120296981,0.7747214679963402,0.8327818712418775,0.7596826861229404,0.6918501857157136,0.7262716712637887,0.7569360531635805,0.7035878106608856,0.8710874566047395,0.9079054871406455,0.8684907278008956,0.8972403124396299,0.9087007319105903,0.8691186954928888,0.8788989226643794,0.9022203552583962,0.9030019586117721,0.8801047120187329,0.8645777008014925,0.8835963677307319,0.8478798683292166,0.9154252986992159,0.8785722343397041,0.767661191585222,0.7084166372925296,0.7344864750699861,0.7846221780234945,0.8498082427782451,0.8225381091971012,0.7809479588984343,0.7947769550849879,0.8644627575484304,0.8285430234026632,0.8262499025575635,0.8082523272301294,0.8444233577241449,0.7969679564101502,0.8578383066005033,0.8324254739336784,0.8496784715656106,0.5062909789801414,0.5039924367336585,0.6365560598525486,0.6689854911353685,0.6786864602519898,0.6682045578585206,0.7020020342887479,0.651216221689335,0.692994511082933,0.6331750947302858,0.692804676624901,0.6074406288546128,0.5717023992231458,0.7613373050229918,0.6571226340650694,0.6090041105828301,0.5447362984835111,0.5139295180919956,0.5973357128703229,0.5725822165293836,0.510326471488536],[0.6023461709639965,0.5594017775214839,0.5732055364022,0.5358512955650637,0.5755308338608122,0.730638361388857,0.7469679645349209,0.7572816621689366,0.8216995484952649,0.8141563198499111,0.9999999999999988,0.7667222862838217,0.8291963144914395,0.8353295494341909,0.6238717862106068,0.7550460696118375,0.5981249979691726,0.6156648009591804,0.7411777660699166,0.7738107614206639,0.741135916229658,0.7331792364111649,0.7662524579769608,0.7423549802862707,0.7260694482651763,0.7072292453118416,0.7467818362153296,0.6907297810043587,0.8485631841899735,0.8321892563050551,0.8262200795806979,0.8555543740153007,0.8449628645035855,0.8538236400997132,0.835903572194609,0.8298995590090315,0.8777348916274068,0.8302864840207648,0.8024354354787757,0.8517007556960239,0.8370455495121132,0.8505911505156131,0.861481265031441,0.7292198873514505,0.6506024091653769,0.7046543496329577,0.7570425642247046,0.812004137555159,0.832182612338446,0.7604058015540978,0.774262309359694,0.8210721364265325,0.7908514595187995,0.7869268965342621,0.8132494141534604,0.7804713268972303,0.7871930181700072,0.8168648331569736,0.805177572646087,0.8195775348138395,0.4933163242794597,0.47395608696641783,0.6530081299046889,0.6356669899368952,0.6481456234757842,0.6454787514218827,0.7088464032586709,0.6751449662254628,0.662601078709061,0.607347908240035,0.6491328835682638,0.6169420641951686,0.5492681790471755,0.690535029204091,0.6380999375684725,0.603819233763647,0.5985640059832251,0.5285468969065182,0.5811535333335683,0.6090019778656405,0.4763476111575283],[0.6267802996120927,0.5914177677417688,0.5717101129145092,0.5366571990704758,0.5403333997647923,0.8259801284171381,0.8089204550889251,0.7863006822939183,0.7684011886274938,0.8341886709582141,0.7667222862838217,0.999999999999999,0.7869520861030336,0.8563704910402287,0.6539099530164069,0.7125019453587917,0.6265594390000193,0.6164388922400168,0.7170487982750298,0.7332557080540971,0.7522311222346094,0.723192620657366,0.794617225838254,0.7494095334313583,0.6764199336684484,0.648812790227993,0.7591977171776357,0.6792134337073054,0.8371339724755691,0.8711000471690853,0.845309423075786,0.8701912884961971,0.8988901338589712,0.8670602039136072,0.917465890113354,0.85519768965762,0.8243513410724155,0.8223735668341139,0.8369730294968217,0.9002560391100158,0.8208848731287023,0.8977428827656774,0.8587188291681791,0.7502199768441749,0.6697106406135633,0.7288790889904415,0.8073557849270876,0.7995746975823246,0.8147283609576831,0.7799462437453492,0.7724312132120954,0.8321440905985114,0.8171750056238615,0.7840370227389015,0.7754288303987698,0.7983254932609596,0.7656133699563291,0.7912067631631922,0.8487407516605971,0.8258536719667572,0.5278639026375747,0.46088360664408584,0.6056400878271011,0.6095054738728007,0.6504997352038688,0.6331531254530111,0.6705626911774051,0.6272759585862043,0.6400724333154542,0.6160440479946444,0.6539211689994079,0.5791660433803179,0.5796305460041787,0.7394772474429848,0.6487801086228351,0.613649092012603,0.5603309094005526,0.5025079968393721,0.5824814152293694,0.5516620120016978,0.4571468737691422],[0.623585231052588,0.5812445550298496,0.6207246977381482,0.5583474227731237,0.5668681649988707,0.7185250245828416,0.7492811878178837,0.7585002371598355,0.8019904748822168,0.8308035121261622,0.8291963144914395,0.7869520861030336,1.0000000000000002,0.864141675502504,0.7038041362325388,0.7309994028529224,0.6378924100470129,0.5885967349742178,0.7587834070432833,0.7620467421550156,0.7558976186113229,0.776304297712652,0.8054696096332042,0.7827733110906294,0.7448597034054638,0.7999578659619724,0.77108069730776,0.7020840427351951,0.8557576505643925,0.8489459618483165,0.8448486451894042,0.8741925625861197,0.841012946357016,0.8797466151122421,0.8414432578200192,0.8239227853287999,0.8712472202445617,0.8488061040430698,0.7790007045362584,0.8562450718209917,0.8270271671461124,0.8804390087222972,0.8742171337110544,0.7372097245579431,0.6954345483557828,0.7117468015006285,0.7779516789702189,0.8037258747468718,0.810186495963427,0.7757087399751478,0.8266271479010734,0.8371051720904781,0.8144232535003418,0.782080399448338,0.8254730474537826,0.8080767908301213,0.7832869545598636,0.8128960251610644,0.8237147291270432,0.8422487203341756,0.5098909225802953,0.5407811475379111,0.6629113973422164,0.6968783161850416,0.6909051962235547,0.6660176992077631,0.6966905091737564,0.6646900439409184,0.6572747261393298,0.6862911737057659,0.6813030121748005,0.6225032208323257,0.5951491873041328,0.7859816083326967,0.69532793971471,0.6375784349576533,0.6131320486849974,0.5293492281867349,0.6306137969465742,0.675022477331277,0.5414964434875862],[0.62683635817337,0.5754070646636585,0.6004840281434078,0.5708240031323106,0.5994928804949343,0.8053389448971561,0.8015994261347843,0.7922956695038941,0.8362650496494533,0.9360591685815173,0.8353295494341909,0.8563704910402287,0.864141675502504,0.9999999999999994,0.7388672031786537,0.8171450478631628,0.6850485723595874,0.6558590389867566,0.8001001893331979,0.7941465966400745,0.7829254120112086,0.7755171992407762,0.8498971985601944,0.7613308918758372,0.6998950370962761,0.7540461442464229,0.7761949874064773,0.7097133797785904,0.8800900899140287,0.9209547851033738,0.8824276505273102,0.9243843662091695,0.9322896629084279,0.8760020045806047,0.9067060630690341,0.877798945767227,0.9021172409393187,0.893218429145309,0.8449391568933902,0.9028115656956393,0.8531729614020506,0.9316668120002305,0.8955113884393432,0.7741525272904487,0.7052406772365358,0.7599189258036801,0.792013991166944,0.8535340620415355,0.8464740135994714,0.8022342907728545,0.7795515777817317,0.8650315338720566,0.8402220423296232,0.8248252611566895,0.815373173882245,0.8500004685150456,0.8025964726025536,0.8498793662818517,0.8516369596984326,0.8576586767579859,0.5081997929116603,0.49207415829248025,0.6552101424172162,0.661318948602768,0.6812615473846371,0.6748469099538454,0.7241384763028214,0.6550901116648545,0.7052681216332692,0.6171352760190452,0.7004300160285282,0.6080614478060744,0.5818226355740459,0.7691889415667214,0.6659256479814758,0.5978096155977229,0.5652753479776883,0.4911154234453133,0.6208717551631437,0.596143569154173,0.5057971207142101],[0.5308965738644477,0.5416281067310923,0.6646504102359271,0.5908694918917345,0.6557016924031647,0.6612018800221373,0.6323378287109163,0.6854731349865313,0.6442610008870517,0.7356388740694008,0.6238717862106068,0.6539099530164069,0.7038041362325388,0.7388672031786537,0.9999999999999986,0.6574168907324758,0.5491689217419119,0.49417057033910544,0.7527709096091606,0.6771488137104632,0.6619082143406327,0.7692164011354797,0.8125010921669931,0.6244924298190232,0.5928586148874091,0.6432579897192445,0.5975010163122991,0.547150870133107,0.7925594164795761,0.7758801920065187,0.7348528880651604,0.7570228092149519,0.740732390140937,0.7596607541111492,0.7441570425830145,0.7481940058017293,0.741638351658902,0.802057159171034,0.7344513718804214,0.7413096448204002,0.7439468205742559,0.7485218903272266,0.7161643574182393,0.6570078161119098,0.7109997259833603,0.6599521846898269,0.650108464854897,0.7555462934178232,0.7006866684951826,0.6754249879813276,0.7081943559895342,0.7321609509986269,0.7238979207106174,0.6959088695879856,0.725291830521972,0.723695882187134,0.7229801046699069,0.7504434184080391,0.6759476742991979,0.722356980016646,0.4338570014813926,0.43648367463096577,0.5264549131780979,0.5859626544162801,0.523122380747122,0.6231462782350978,0.5962872909548327,0.625304966403799,0.6518436001813311,0.5673122859605275,0.550890980469465,0.5644293499055663,0.5247979520666376,0.6156485058738081,0.5851692757509239,0.5124717479726515,0.46496847054871515,0.40618585031713844,0.5376952919893575,0.5267158646025334,0.4612616436237628],[0.5380366056799236,0.501500797584904,0.5663875891327022,0.5263415253833481,0.5784088541827286,0.6665310814496949,0.7030883277995189,0.6942337623204454,0.7605653445983419,0.7678573143755942,0.7550460696118375,0.7125019453587917,0.7309994028529224,0.8171450478631628,0.6574168907324758,1.0,0.5774938472415158,0.5492974640214334,0.7058939508070284,0.774070644587942,0.6963130924633432,0.7112069242196863,0.7567049756785661,0.6574624216763286,0.6451476992620262,0.6319341674014347,0.7034603241194259,0.6483132131268755,0.7893248335298699,0.7789358698664187,0.7993467762080104,0.7925786776045689,0.7949340762513621,0.7695831477415271,0.7605445637982127,0.7572624984095744,0.771820255449084,0.7824577693381309,0.7453474691494328,0.7751066068620722,0.7527328991730249,0.7897611681071759,0.769826093159043,0.6498148293570353,0.6231343460137875,0.6258729987540994,0.7192756747375243,0.7327272985641102,0.7489622313697142,0.7081662054705007,0.7179061795935745,0.774659924409581,0.7202443249853838,0.7284500867981547,0.7334652477116873,0.7566289237252586,0.7283909354659578,0.7440873615498435,0.7571233892288173,0.7850727004657729,0.42808727503079097,0.4930821083751822,0.623063076945708,0.5540100218095239,0.5852564175971708,0.6383932698801807,0.6656608675580966,0.5831358068499506,0.6625820793645991,0.530380657993827,0.5930089703138981,0.6056224162401487,0.5709019336033235,0.6766527418112791,0.615935320403207,0.5865354974483802,0.5323157497166391,0.4188522913780144,0.5561088528464505,0.552235305186229,0.5537619665027443],[0.539442157480243,0.4096299982501579,0.49252054937767475,0.46997413252883297,0.4640075621596722,0.6074612038795008,0.627832253544911,0.6319592399674283,0.6183213877963354,0.6749839329989921,0.5981249979691726,0.6265594390000193,0.6378924100470129,0.6850485723595874,0.5491689217419119,0.5774938472415158,0.9999999999999998,0.6874905162044408,0.6071216448216687,0.5880663072724976,0.5761666453210073,0.6160097885432019,0.6256484541800105,0.5830777173193841,0.5498982168569668,0.6024350806689645,0.5340688949133927,0.5264720645063447,0.7109395866370113,0.690810043426658,0.6750681049913007,0.7027780010438747,0.6975240395561614,0.6709498212972015,0.6680574526997454,0.657228694861651,0.6900726892837196,0.6692019116417444,0.6461681184525895,0.6872565225077492,0.6493596463145926,0.6920420135964742,0.6734605485988729,0.6129065630548443,0.5586147518588841,0.5908732270640522,0.6411552470136512,0.6494673530537654,0.6862086581421994,0.6406891243610684,0.6601002684173138,0.7312765477908362,0.6505133859504394,0.7089493161558909,0.6866012153739773,0.6500732050436657,0.6595289077327966,0.6596545342864253,0.6556129300129127,0.6756893147878588,0.42929235370671087,0.43448778259124177,0.556337654500193,0.5105760266777013,0.5127010031755743,0.6133780556267888,0.6635680987451443,0.4809898408563596,0.6323712410847532,0.5041552119117562,0.534080190675056,0.4659997745436093,0.4805072326970593,0.5537328936892609,0.5167934352955886,0.49349467017500775,0.4471689444051166,0.2967069070570902,0.5231752428387008,0.48493040487390754,0.4219499229740781],[0.5939363670931653,0.45013126617328514,0.5054523101018134,0.4809258528880984,0.45958699107668094,0.5853962196094578,0.6373047361123014,0.6440268784793908,0.5741312711409425,0.6771565150833404,0.6156648009591804,0.6164388922400168,0.5885967349742178,0.6558590389867566,0.49417057033910544,0.5492974640214334,0.6874905162044408,0.9999999999999987,0.5856065972883624,0.626993398559394,0.602054390242006,0.6101991144559733,0.6174247370294706,0.5966075404010935,0.579902995337474,0.5668412960666208,0.5522017788905591,0.5567833930681008,0.6897804248314451,0.6703011180428499,0.6687330796006504,0.6811042049110798,0.7005979685094037,0.6600227277165338,0.6613442765125025,0.6574204403134839,0.6728641984016578,0.6531451080616818,0.6728193845156673,0.6537269499928243,0.6646556822542327,0.6976179127084354,0.6802015663536188,0.6125176392106954,0.5710087176590165,0.6045317353843812,0.64880534751129,0.6460596257211291,0.6457800135742893,0.6627489583962473,0.6428006168948609,0.663871019190083,0.6222484132919937,0.7728347750700872,0.677159956558373,0.6552563862390901,0.6639111528916992,0.6506299828530833,0.6674231257557353,0.657588037424212,0.44289661649721795,0.3833132267808628,0.5383385457463347,0.4691613551952334,0.4801573066480997,0.6117234884231211,0.655809187370791,0.5510723885908803,0.590503819101144,0.47831951094582825,0.5202769780395681,0.47166431728888825,0.5274870669592243,0.5718281090490746,0.5324954482536227,0.4507332941901414,0.4398487662961532,0.4082923970210331,0.45613997483736357,0.4052565113361962,0.42643383447675315],[0.6693759285310326,0.6308336431678215,0.6701160352850938,0.6360028741963525,0.6546493728994345,0.7456709446877356,0.7347374241403554,0.7597347737089541,0.7629074069284152,0.7872334115183276,0.7411777660699166,0.7170487982750298,0.7587834070432833,0.8001001893331979,0.7527709096091606,0.7058939508070284,0.6071216448216687,0.5856065972883624,1.0000000000000007,0.7696615496753756,0.7647486767690023,0.8335073197911677,0.8648743974657214,0.667800451798585,0.6704729820955929,0.745417261913348,0.6962117980668606,0.6746997525711962,0.876044141941881,0.8258657778986366,0.8045089667540702,0.8104001091924663,0.8036222384690167,0.8353409377384174,0.8196031086089931,0.8301862043807003,0.815888714374437,0.8698452599108234,0.7988910048593054,0.7914769684957313,0.837757805392052,0.8095382503704783,0.8356011574172313,0.7280166175373325,0.7742144226322037,0.7643543869721011,0.7247140285012372,0.8777969179704098,0.793332509548745,0.7617359886330808,0.7571271837794594,0.8204968106817169,0.7677802579318088,0.7803699773947979,0.817369658099307,0.8124390747377666,0.7965172497669176,0.8885707267218208,0.7772934342913878,0.7904041685717784,0.5142323667750378,0.5434438352821874,0.5638726219961445,0.5955433099706919,0.5694066360184852,0.7687791764828951,0.7308834427838308,0.7799553185311092,0.8075418860271745,0.5836557151306777,0.656425416250107,0.5888954932118341,0.6652542679053217,0.657569009331026,0.6441790211116132,0.5785665747267063,0.5408698700039886,0.423972563173702,0.5978762376180321,0.5289550283390511,0.5703770525298072],[0.6913954336621254,0.6091669922692451,0.6079051945092226,0.6099434198482734,0.6349429355234975,0.7245692914406365,0.7497905672106513,0.7882934000726054,0.7847966345977155,0.7708377185077244,0.7738107614206639,0.7332557080540971,0.7620467421550156,0.7941465966400745,0.6771488137104632,0.774070644587942,0.5880663072724976,0.626993398559394,0.7696615496753756,0.9999999999999998,0.8036353820164558,0.8135582058184117,0.7708009526478197,0.6985510459568558,0.8121992538145845,0.737910146855851,0.7092882826102168,0.7371944920834261,0.844940906810826,0.813949033629451,0.8509611646065571,0.8099353007204751,0.8113002257002212,0.8345976384781202,0.8190178602245275,0.8038865152758666,0.8166804306921511,0.8216697835435341,0.7770087001606466,0.8109756817484346,0.8045865095682636,0.8320351000048366,0.8298613934630747,0.7317719952952293,0.7672072525808238,0.7570188937325039,0.7670185930961498,0.7844633801513196,0.7970725971449716,0.8072777474456088,0.789961951019571,0.8167937974955114,0.7856191257515298,0.7954187412867696,0.7997081798070717,0.8412623936544682,0.8181381554381139,0.7974733650869228,0.7876283787471535,0.8287164159914876,0.5611949031720407,0.4845538539713991,0.5969914526377557,0.6272895750578684,0.6021294305560112,0.7853352900919305,0.7538386207722859,0.7116365220595191,0.7244966472398551,0.6151032626278041,0.6317446614172694,0.7104825115272868,0.6406637853676856,0.7325226717608294,0.7190114834259325,0.568759992022237,0.5754518629880416,0.4595418008937974,0.5715037293578638,0.5815116739097707,0.5186153458824144],[0.668690822124403,0.572305403114632,0.6303517430279199,0.5869959952089682,0.672118233504086,0.7212605924961281,0.7442093714550431,0.804580897545683,0.7669259957719615,0.768163120296981,0.741135916229658,0.7522311222346094,0.7558976186113229,0.7829254120112086,0.6619082143406327,0.6963130924633432,0.5761666453210073,0.602054390242006,0.7647486767690023,0.8036353820164558,1.0,0.8368298791241758,0.8118901015449428,0.7262130186123174,0.7882243463934668,0.7446903144279864,0.6923931447618358,0.7452720575554463,0.8586426329264587,0.7904224896037482,0.8437403811770631,0.7846687347752508,0.7898896040889906,0.8422303193309799,0.8410339485763029,0.8176508620862363,0.8007760955081554,0.8455062880280007,0.807272034445394,0.8310343756737991,0.8284498721025176,0.8201094025279599,0.8260006621220142,0.701596318136801,0.754096716376863,0.7403662083036827,0.7726800343970109,0.8190734917242801,0.8298254333764626,0.8217514288505733,0.8079746156848506,0.8486781320301218,0.8267651886522634,0.8230137524990434,0.8357491598673744,0.7989771934659272,0.8062850548210589,0.8518659413168779,0.7988098452807263,0.8441488726272264,0.48367570277030564,0.5264381969768186,0.6513616828569501,0.641201903909422,0.6392511382179175,0.7243322155235816,0.7313867215551838,0.7282978588262449,0.6905165859864876,0.6559480307820407,0.6798516705862857,0.6303292279559841,0.6653006161042914,0.7300919553945192,0.7399851838120339,0.5870651298182442,0.5272945510050442,0.4982549054600497,0.6098257173260114,0.595473279941122,0.51381308404598],[0.6908884899050908,0.6186165186384436,0.7556505760746814,0.7594353779521905,0.7073331774749181,0.7463109401128993,0.7409907352468492,0.8232255106942435,0.7687167391578732,0.7747214679963402,0.7331792364111649,0.723192620657366,0.776304297712652,0.7755171992407762,0.7692164011354797,0.7112069242196863,0.6160097885432019,0.6101991144559733,0.8335073197911677,0.8135582058184117,0.8368298791241758,1.0000000000000002,0.8301711475816914,0.7057603328200439,0.73078534247848,0.738560943914288,0.6890236678619763,0.6822444491807622,0.8899883590006655,0.8107251263886286,0.8881226103868302,0.8200096639038178,0.793260951660676,0.8618889225264041,0.8337022353508464,0.8214746624738211,0.8351849071951813,0.883335089107069,0.7970280411789732,0.8349725802252668,0.837866407708948,0.8177988198827928,0.8203555924580397,0.7474766925551554,0.9178393461062584,0.7472346171182931,0.7935083548067007,0.8197580698545159,0.8255414871208069,0.8120296902093611,0.8363934806410473,0.8321773921069003,0.7936528934312902,0.8170729562808969,0.8566324027723909,0.8437016124828094,0.8498606314527739,0.8441777181085043,0.7924752432319059,0.8375132840427417,0.5482121616492104,0.5148285543712557,0.6653268603768173,0.6676339573079757,0.630078810509976,0.7790654164552895,0.7566509213753777,0.7014579388472243,0.7494994712941331,0.656606386922134,0.6543646585132751,0.6670270376354525,0.7092329473213115,0.725106965845891,0.7285943514108453,0.5997502215034571,0.527543102050917,0.5178148489838417,0.5825794433611368,0.568492120401426,0.5923569835266275],[0.6505277587123773,0.6114021460128435,0.7187293407193251,0.6306514388325716,0.6998456337492545,0.791564240451384,0.7406317855417892,0.7743549125455247,0.7522594519766078,0.8327818712418775,0.7662524579769608,0.794617225838254,0.8054696096332042,0.8498971985601944,0.8125010921669931,0.7567049756785661,0.6256484541800105,0.6174247370294706,0.8648743974657214,0.7708009526478197,0.8118901015449428,0.8301711475816914,0.9999999999999999,0.7366699357097739,0.7244740769597798,0.7744231074276494,0.7205038595424319,0.6723675615756769,0.9075804839792126,0.8766006530245705,0.8474194282843077,0.8738594717887002,0.8539583778868826,0.8822520049689355,0.865901356191341,0.8534678299067732,0.8430943134683992,0.9140030022134104,0.848313219495322,0.84243913060722,0.8601786209624113,0.8638504919502461,0.8609077181052596,0.7532614782987236,0.771607112947863,0.7777702305907872,0.7733658465528848,0.872537639255857,0.8216673031497727,0.7719213670965309,0.7812523087940686,0.8370011677771749,0.8242891405459495,0.8042588797349546,0.8321205459618383,0.8321462899570097,0.8244168388769538,0.8680009982693594,0.790328422245683,0.8515458672996189,0.513587299583398,0.49497434565178894,0.6064417218997704,0.6513904612094179,0.623053871159515,0.7042545949923993,0.6816016771315312,0.7002414589013418,0.721767862353244,0.6417768450150373,0.6434304843706037,0.6136991095037937,0.6427403679188636,0.7049130678076507,0.682802065964047,0.6401287279171047,0.5712164662142785,0.4864680836692956,0.6092407607684591,0.5705138755599732,0.5531566550046976],[0.606251502863591,0.5206649622016859,0.6026920275082104,0.568101245852241,0.5644920390171969,0.6702231832761556,0.6734209179197795,0.6914997632104218,0.7234050875436113,0.7596826861229404,0.7423549802862707,0.7494095334313583,0.7827733110906294,0.7613308918758372,0.6244924298190232,0.6574624216763286,0.5830777173193841,0.5966075404010935,0.667800451798585,0.6985510459568558,0.7262130186123174,0.7057603328200439,0.7366699357097739,0.9999999999999996,0.7261106354815391,0.6893648541406745,0.7825484784686533,0.6782095168447562,0.821109597086886,0.7875671200610506,0.7810502723638283,0.8215601132745847,0.7832108329022041,0.8108269784982507,0.757001190931257,0.7975162195317018,0.804256142731267,0.7763316403866576,0.7782000808848831,0.8101025904126504,0.827845453374702,0.8323863893235794,0.814394817934766,0.7174914059319883,0.6502286768942248,0.6681831567685179,0.766273776130386,0.7402366475998821,0.7678339174100328,0.7308295859509335,0.8396745559606217,0.773173673353872,0.7459826868483328,0.7563616332553479,0.839056545673132,0.7576386607100831,0.7779088043276624,0.7550855688060402,0.7773077150691043,0.8073751482981537,0.5176981619919386,0.4713930468440723,0.6245638336843673,0.6323019955013293,0.7281454237625323,0.5877400098774768,0.6568887172836562,0.6229495512724237,0.5970743181329815,0.7188823316120816,0.6087780509356747,0.5665998245663504,0.5743437600374344,0.7412730330505221,0.6221562771583613,0.6812925679029587,0.6235046559359878,0.566076951409082,0.674420137691625,0.6857360183167486,0.47822213474505004],[0.6035902065513937,0.5300105867410271,0.6222864330316545,0.5909300968887972,0.6356957215522825,0.6370245796048956,0.6737525094142529,0.7329712704458277,0.717796998317568,0.6918501857157136,0.7260694482651763,0.6764199336684484,0.7448597034054638,0.6998950370962761,0.5928586148874091,0.6451476992620262,0.5498982168569668,0.579902995337474,0.6704729820955929,0.8121992538145845,0.7882243463934668,0.73078534247848,0.7244740769597798,0.7261106354815391,0.9999999999999992,0.7420817086796699,0.6728329806503476,0.7730609434051341,0.7996535478462241,0.7414198445536814,0.7662012297803836,0.7369005025654352,0.733250493877195,0.7939236744456569,0.7408143388896039,0.7645309756353208,0.7652917954971316,0.7671958595892577,0.7537803022589813,0.7580041768742674,0.7897145562802806,0.7623248698687017,0.767946519439254,0.6528626751299125,0.6605926104498382,0.662362193983278,0.7469366566050312,0.7287962823161481,0.7705854154904326,0.7074561716120269,0.7739180830931354,0.7721264406708557,0.7614224973093763,0.7389253933106251,0.7887892312941086,0.7492484588544959,0.7609191109914797,0.7503726728070124,0.739576174811727,0.7994192460192242,0.5351579448750736,0.5100488845102857,0.6082144628534846,0.6441242443396753,0.5950936360440999,0.6783604000565889,0.6648259894006218,0.6878508536062522,0.6547767992069984,0.6474068957948007,0.6129943383800898,0.6865710556449661,0.5934949968563122,0.724975734668927,0.6661097317016479,0.6049393491926697,0.5698575555740801,0.4732532489188131,0.5929448893947693,0.6150002397450528,0.49623986948453686],[0.5832297430190864,0.5386179547057541,0.5959151861928348,0.5575942203638088,0.61069580108488,0.640143260967739,0.6628898012264325,0.6985932515486322,0.668089549660334,0.7262716712637887,0.7072292453118416,0.648812790227993,0.7999578659619724,0.7540461442464229,0.6432579897192445,0.6319341674014347,0.6024350806689645,0.5668412960666208,0.745417261913348,0.737910146855851,0.7446903144279864,0.738560943914288,0.7744231074276494,0.6893648541406745,0.7420817086796699,1.0000000000000004,0.6729146372716953,0.691326025363614,0.7792899452395093,0.76031271704554,0.7508099991606227,0.7592675302131231,0.7563801045477563,0.7618094457846143,0.74615916331232,0.7309100677290948,0.7662157508466949,0.7613423479517454,0.7170923610597336,0.7407665028367457,0.7574216005866109,0.7694836390025923,0.7622088506414642,0.6611784380145811,0.6690952096996579,0.6761108780659139,0.7019264768318361,0.7433384064670502,0.7272235402910131,0.6926035783365619,0.7175380985334839,0.7686800981801514,0.712463826276993,0.7129319038759387,0.7600724009045366,0.7209726484743908,0.7266653526013255,0.7551392942597842,0.7082580357847331,0.7655182537062657,0.3978199970959616,0.44029282967116823,0.567038473964644,0.6048152258497889,0.5879868189437069,0.6656966881827278,0.665191632292164,0.6821891711100608,0.6505905623257761,0.5475879856581373,0.5967199004061068,0.584896721123736,0.5800224649777312,0.6253016942337241,0.6022829027532123,0.5852021312145999,0.5868095107539242,0.4557123589512806,0.6344309870436946,0.6503805063758015,0.5261627568655923],[0.5836403562160208,0.5733484618455383,0.5806060390483682,0.5343371910862987,0.5138925526844648,0.7142403265569796,0.6709073864571999,0.6989010899260333,0.7532656207746878,0.7569360531635805,0.7467818362153296,0.7591977171776357,0.77108069730776,0.7761949874064773,0.5975010163122991,0.7034603241194259,0.5340688949133927,0.5522017788905591,0.6962117980668606,0.7092882826102168,0.6923931447618358,0.6890236678619763,0.7205038595424319,0.7825484784686533,0.6728329806503476,0.6729146372716953,1.0000000000000002,0.688321274688644,0.7768264003098712,0.7952364720837931,0.7650952035909918,0.7983558385881259,0.7832283028532027,0.7811592668118531,0.7692272250410676,0.7929548554547515,0.7715833127141621,0.7612173181444387,0.810292378720201,0.7964454406337885,0.8012379829177569,0.8130457062912747,0.8119276602859407,0.6899488200321964,0.6323932620707909,0.6673176802783286,0.7251409243500109,0.7343421075168597,0.7256968440456028,0.7098116464635574,0.7611448792319444,0.773347310240872,0.7340052825457258,0.692169096841584,0.768436194427073,0.7219475644863003,0.7200342494214149,0.7348880910556884,0.7457314912286717,0.7757638757153738,0.4757729689105062,0.4788181822278745,0.5729982249612452,0.6000915967161704,0.652704943953711,0.5973851413602393,0.6394797417342022,0.5817691450978655,0.5983878748740555,0.6060344750535732,0.6815835921504709,0.5911319253434096,0.6569001794584697,0.7294952335191905,0.5988829655517126,0.6492661831815293,0.6862225709644454,0.511415151795359,0.605564270065378,0.5839127381769298,0.4837644392823128],[0.5931102260925738,0.4504446898808148,0.5784642839390494,0.5308410416832727,0.5830641934245121,0.6256628778778113,0.6769536999027438,0.7027039228838833,0.7025334607882151,0.7035878106608856,0.6907297810043587,0.6792134337073054,0.7020840427351951,0.7097133797785904,0.547150870133107,0.6483132131268755,0.5264720645063447,0.5567833930681008,0.6746997525711962,0.7371944920834261,0.7452720575554463,0.6822444491807622,0.6723675615756769,0.6782095168447562,0.7730609434051341,0.691326025363614,0.688321274688644,0.999999999999999,0.7729355232399102,0.7218999320747802,0.7472360366887303,0.7038640758944841,0.7303645834764747,0.7714302361337654,0.709315331361367,0.7251499364192068,0.7348549382888006,0.7425646898960863,0.7314881652444005,0.7411286203357524,0.7540969102455424,0.7461557966074802,0.7583390209511623,0.6116791549649949,0.6178712668490481,0.6265447715279274,0.7499002396430956,0.6913168044176168,0.7334517697617121,0.7147023210784873,0.7241632894800081,0.7515315437845626,0.6686768758728735,0.69563170174561,0.7443978244437083,0.738014672682575,0.7129868770549371,0.7173029347083616,0.7317162601204228,0.7617020953468049,0.4760645827598497,0.5706429871370621,0.5956556643380734,0.5795093602193917,0.5683815313916207,0.632072971289992,0.6667580085445436,0.644191534475443,0.6133135466519359,0.5989003009772,0.6715196878915713,0.6453499365242873,0.5905048720884355,0.7127504782585969,0.6443675499530842,0.5180283411177885,0.5482690978710584,0.4197188349176474,0.6069996220339172,0.5627802647443355,0.4596541259863821],[0.730629647762176,0.6443535723929622,0.7274869578977602,0.679430441907193,0.6953365882717223,0.8046251235518901,0.8254443894655615,0.8625886159433891,0.8579549654406474,0.8710874566047395,0.8485631841899735,0.8371339724755691,0.8557576505643925,0.8800900899140287,0.7925594164795761,0.7893248335298699,0.7109395866370113,0.6897804248314451,0.876044141941881,0.844940906810826,0.8586426329264587,0.8899883590006655,0.9075804839792126,0.821109597086886,0.7996535478462241,0.7792899452395093,0.7768264003098712,0.7729355232399102,0.9999999999999998,0.9203802558223065,0.930830475737512,0.9245140684841263,0.9047273678080956,0.9591735040660024,0.9107061366620365,0.9193273590984263,0.9366968346010938,0.9610674389973431,0.9030989092804487,0.9232292349449892,0.9345558776363962,0.9224804532462806,0.930990566403912,0.8297460156435943,0.8257288557046689,0.818387450587561,0.8787969020100643,0.918545508936936,0.9220349407263032,0.877836015599798,0.9008953931751321,0.9251138706588642,0.8816665598950132,0.9026012447825841,0.9454929188976712,0.9138984856467733,0.934904909020891,0.9327356940408624,0.8930653178270186,0.9118148324742273,0.6004058978135476,0.5826248711398455,0.6849151239966852,0.7072397864342359,0.6892603121979531,0.7978077578718876,0.807391454184247,0.7763029519917153,0.8053047160708648,0.7141881174075856,0.7192018248868716,0.6784396056472134,0.6762884522359013,0.7956480063131444,0.7609120681572986,0.665399210612306,0.6021707016649813,0.5299983673232537,0.6887224019244008,0.6448419329734877,0.560785396156725],[0.6745196335327678,0.6389180779605761,0.6173519400931785,0.5931873872236264,0.608243639975554,0.8148781842133126,0.8266318769530957,0.8349785743519148,0.8360625849167224,0.9079054871406455,0.8321892563050551,0.8711000471690853,0.8489459618483165,0.9209547851033738,0.7758801920065187,0.7789358698664187,0.690810043426658,0.6703011180428499,0.8258657778986366,0.813949033629451,0.7904224896037482,0.8107251263886286,0.8766006530245705,0.7875671200610506,0.7414198445536814,0.76031271704554,0.7952364720837931,0.7218999320747802,0.9203802558223065,0.9999999999999991,0.8855277412002257,0.9515436199887102,0.9409726931703215,0.9255289766348608,0.9360328959736959,0.9189374438897541,0.889097135281102,0.9023368981138896,0.8979892566485288,0.9309939945775042,0.8972003244179763,0.9543530500041311,0.9115944958766267,0.8402478024836225,0.7610378980152265,0.8122703650419468,0.8100465573581876,0.9032101178030094,0.8423330747993788,0.8170954282915737,0.8297873114800041,0.8727680096598466,0.8726540174321055,0.8504388565411621,0.843459334777791,0.856263707533913,0.8561099408019325,0.8764207321024995,0.8684789721409236,0.8759488337463601,0.5608398060029941,0.5030232247684348,0.640927386398595,0.6778174195718127,0.6772766919081973,0.7178622108457692,0.7367377597287363,0.6903843397135938,0.7291565228122958,0.6628681158292369,0.6889034236247654,0.6102525806739579,0.6005138870220912,0.7825476800713671,0.6910103866995725,0.6440538976177572,0.5766975206096508,0.4935188435143119,0.624199637328498,0.6152379609788474,0.5324474660084988],[0.7101367468733053,0.6324457926326963,0.6753437515954743,0.6450421491038173,0.6473401169184316,0.8051953973764907,0.8204318196558847,0.8540298297107627,0.841039950804884,0.8684907278008956,0.8262200795806979,0.845309423075786,0.8448486451894042,0.8824276505273102,0.7348528880651604,0.7993467762080104,0.6750681049913007,0.6687330796006504,0.8045089667540702,0.8509611646065571,0.8437403811770631,0.8881226103868302,0.8474194282843077,0.7810502723638283,0.7662012297803836,0.7508099991606227,0.7650952035909918,0.7472360366887303,0.930830475737512,0.8855277412002257,0.9999999999999993,0.903087803558843,0.887325707569774,0.9209082342313558,0.9014512440153367,0.8783879950220006,0.9063500343519785,0.9110278539284288,0.8465938429679077,0.9073508645826043,0.8665370309299146,0.906266866762213,0.8916800474816171,0.8051079514517314,0.8129328475180934,0.7818374626276052,0.8578251841583476,0.8543448005120465,0.8896730287946835,0.8515084631740011,0.8596021690882295,0.8984212632027275,0.8564890301888743,0.8616731429283869,0.8788484593459697,0.887373419570068,0.8845299628436231,0.8723778413297185,0.8695761989412076,0.9346401915413968,0.5734953736640849,0.5457526974821372,0.7376001499118953,0.7123439818741493,0.6841151164382754,0.7501484071166545,0.7695660160388834,0.7223741983873538,0.7314024279750551,0.6535306554152377,0.6903363849979376,0.7163390542644107,0.6593876386787678,0.784137787802605,0.739547322041047,0.6402733566242562,0.6220694212057002,0.5272971599527593,0.6384495541816808,0.611522530306559,0.5670231490059272],[0.7053003591421068,0.6785564535519675,0.650552773597497,0.6061940473950882,0.5922745158413972,0.8176842670917933,0.857482875702745,0.8281278204381368,0.8368793071606121,0.8972403124396299,0.8555543740153007,0.8701912884961971,0.8741925625861197,0.9243843662091695,0.7570228092149519,0.7925786776045689,0.7027780010438747,0.6811042049110798,0.8104001091924663,0.8099353007204751,0.7846687347752508,0.8200096639038178,0.8738594717887002,0.8215601132745847,0.7369005025654352,0.7592675302131231,0.7983558385881259,0.7038640758944841,0.9245140684841263,0.9515436199887102,0.903087803558843,1.0000000000000007,0.9372740057236606,0.9274545567807644,0.931730181667057,0.9081116580537841,0.9236699997703648,0.8992644348121738,0.873610867855026,0.9241247109296614,0.8950018111207793,0.9411051080039611,0.9134083889606364,0.8717417909897555,0.7863306711535955,0.8293618657851398,0.8412007367217249,0.8836740547709712,0.8701694937180424,0.8443623033268991,0.8487609210320078,0.8737388349892844,0.8494485109542856,0.8591335888138069,0.8649357496611896,0.8711582680427422,0.8797775314376601,0.8669515794283805,0.8995854144847708,0.8749828824441825,0.5572480642762653,0.5037685331968664,0.6466277462460494,0.6936516949407788,0.691808549452101,0.7172891916950881,0.7659428551791465,0.6779699870347783,0.7259184020706622,0.6524350867409104,0.681686482622958,0.6338335091524393,0.6100475908645405,0.7737840097893801,0.6786700142093091,0.6694706490091328,0.5984763758911641,0.5265516711927117,0.6371644304802097,0.6269588097763996,0.5363879552266662],[0.6476574346037937,0.6338608618519905,0.6268581576326739,0.5910552706601466,0.6195376578571927,0.8410738776887847,0.859426136748681,0.8245045428919373,0.8110965605788288,0.9087007319105903,0.8449628645035855,0.8988901338589712,0.841012946357016,0.9322896629084279,0.740732390140937,0.7949340762513621,0.6975240395561614,0.7005979685094037,0.8036222384690167,0.8113002257002212,0.7898896040889906,0.793260951660676,0.8539583778868826,0.7832108329022041,0.733250493877195,0.7563801045477563,0.7832283028532027,0.7303645834764747,0.9047273678080956,0.9409726931703215,0.887325707569774,0.9372740057236606,1.0000000000000007,0.899103084355941,0.9254271097825971,0.9040869187585191,0.8856890900171784,0.889335023804808,0.8953586369364086,0.9230282116101893,0.8998755454533323,0.9490236361722375,0.9059339543446651,0.8119738843183107,0.7326247146989968,0.7741347271142174,0.827642649409571,0.8719950053470151,0.8527147212454447,0.8191875924255676,0.8126935105340153,0.8798323270513462,0.8614390571403806,0.858159904637308,0.8339255208573355,0.8573960225142971,0.8343728137188016,0.8613717464262303,0.8938815218126803,0.8596869701255411,0.5578586340843511,0.49641001352885716,0.6443320938356424,0.6633792683242729,0.704287563437521,0.7124963647546072,0.7552907915572282,0.6951906795309998,0.7411676779216977,0.6572325274277492,0.6893579398856897,0.6434828942744841,0.594196110993627,0.7786666628158019,0.6730711087263735,0.6300217717216282,0.5868419683523293,0.5369885755940008,0.634218003716089,0.593257708090961,0.5135281975928032],[0.742279191533958,0.6552561164943309,0.6927988418325604,0.6548407554250973,0.6378071022108767,0.8358069277439479,0.8303499859138406,0.862329406947908,0.845950795740573,0.8691186954928888,0.8538236400997132,0.8670602039136072,0.8797466151122421,0.8760020045806047,0.7596607541111492,0.7695831477415271,0.6709498212972015,0.6600227277165338,0.8353409377384174,0.8345976384781202,0.8422303193309799,0.8618889225264041,0.8822520049689355,0.8108269784982507,0.7939236744456569,0.7618094457846143,0.7811592668118531,0.7714302361337654,0.9591735040660024,0.9255289766348608,0.9209082342313558,0.9274545567807644,0.899103084355941,1.0000000000000009,0.9236791706200622,0.9329461157090048,0.9288256270476954,0.9332738682738942,0.902733752332911,0.9418574179076107,0.9167812625334305,0.9332521402583718,0.9344545864074713,0.8370785005743119,0.8080944216351242,0.8230014909869972,0.8785497929370369,0.901424923628546,0.9206821195796144,0.8771925244194017,0.9153630676041608,0.9135400828858716,0.8838155001336846,0.8776247785452675,0.9083593281816642,0.8911746558237856,0.894692055585031,0.9010963546589371,0.8805974105502745,0.9015037276507828,0.6187995139557082,0.5754947249858595,0.6813078834708641,0.7146131716456045,0.700457653316841,0.7734558809828949,0.7704437969895934,0.7058693433023624,0.7391765426970295,0.7047026786855305,0.7284363322895748,0.6564555219530491,0.6665992498190351,0.8196001211913915,0.7814467604970563,0.679486036298679,0.5889689089247601,0.5206066039130567,0.6656954853660627,0.6395203709381173,0.5452969143254063],[0.6964199705235714,0.6578014785659863,0.6458223668902507,0.5982363859852871,0.6179374786799295,0.8279831008200199,0.8621248852698029,0.8905103007557186,0.8227296020086146,0.8788989226643794,0.835903572194609,0.917465890113354,0.8414432578200192,0.9067060630690341,0.7441570425830145,0.7605445637982127,0.6680574526997454,0.6613442765125025,0.8196031086089931,0.8190178602245275,0.8410339485763029,0.8337022353508464,0.865901356191341,0.757001190931257,0.7408143388896039,0.74615916331232,0.7692272250410676,0.709315331361367,0.9107061366620365,0.9360328959736959,0.9014512440153367,0.931730181667057,0.9254271097825971,0.9236791706200622,1.0,0.901114181401606,0.8932856037531459,0.9035687756499642,0.8714882969312644,0.9408117958172826,0.869142534647035,0.9317358081428464,0.9062421844192723,0.8235479887638115,0.7648019876469523,0.8198122737108604,0.8169350880205314,0.8696000757048091,0.8506819301487347,0.8487223810864111,0.819297701156361,0.8692491574241725,0.875812205015378,0.847578175646467,0.832978132247193,0.8500673028163785,0.8446215586779601,0.8509595031699876,0.8760520328158536,0.861130065738195,0.5453028090917788,0.49919244815691,0.643635303929685,0.6565554602418217,0.6526680338374911,0.7359479646462189,0.7349795042017601,0.6904059649011429,0.6976019717353075,0.6498443168547229,0.6776019084225554,0.6330226239349651,0.6233533058679234,0.7584312954944731,0.6964137862504212,0.6117268323931202,0.5475196390356254,0.5015099090285947,0.5880737503979973,0.5768874473715999,0.5006690395821274],[0.7328121696347359,0.6578940110930865,0.6532094650036524,0.6104056718610891,0.6297401412957782,0.852228345657963,0.795455256513305,0.8238082301901143,0.8247543976537494,0.9022203552583962,0.8298995590090315,0.85519768965762,0.8239227853287999,0.877798945767227,0.7481940058017293,0.7572624984095744,0.657228694861651,0.6574204403134839,0.8301862043807003,0.8038865152758666,0.8176508620862363,0.8214746624738211,0.8534678299067732,0.7975162195317018,0.7645309756353208,0.7309100677290948,0.7929548554547515,0.7251499364192068,0.9193273590984263,0.9189374438897541,0.8783879950220006,0.9081116580537841,0.9040869187585191,0.9329461157090048,0.901114181401606,0.9999999999999996,0.9139551638991139,0.8897702722896853,0.9569322214096759,0.9156108186744951,0.9462190782882474,0.9194798716960204,0.9216617039165826,0.8354834709966104,0.787878470736363,0.835051748088713,0.8389312869282294,0.8989952054518181,0.8838595397076613,0.838219580054832,0.8838656541664326,0.9048273751669671,0.8930233974401368,0.8662860474991726,0.8742013903841859,0.8561116094759622,0.8533493198574559,0.8918458495284625,0.8515756190096578,0.8788760697317786,0.6005825280186,0.5416471127468497,0.6375020191026243,0.6954041974712724,0.7241791464758472,0.7644010135387029,0.7404816159039629,0.7034176228119532,0.7229042288423092,0.7018414233472985,0.7134303241247039,0.6096527123783183,0.6334120221418483,0.8016403489649305,0.7675898915167193,0.6939983133908707,0.6034261700883761,0.5301240524959157,0.6387757954595349,0.6098515326671768,0.503077951406322],[0.7255647135145532,0.6502739057246271,0.6766163058854165,0.6483573578921037,0.6416966193108948,0.8040865862317784,0.7956447515051988,0.8254059361131252,0.8487616699984267,0.9030019586117721,0.8777348916274068,0.8243513410724155,0.8712472202445617,0.9021172409393187,0.741638351658902,0.771820255449084,0.6900726892837196,0.6728641984016578,0.815888714374437,0.8166804306921511,0.8007760955081554,0.8351849071951813,0.8430943134683992,0.804256142731267,0.7652917954971316,0.7662157508466949,0.7715833127141621,0.7348549382888006,0.9366968346010938,0.889097135281102,0.9063500343519785,0.9236699997703648,0.8856890900171784,0.9288256270476954,0.8932856037531459,0.9139551638991139,1.0000000000000007,0.9180427749798576,0.8866369329086684,0.9110869898509127,0.8928176456263518,0.9025580333298133,0.905534862162306,0.8486771515249676,0.8041527898887696,0.8223549730180207,0.8617778696459386,0.8752995149586619,0.9039405099998806,0.8642944386396483,0.8773171760764692,0.8913416774365936,0.8506844943065696,0.8692922778674681,0.8975646266301238,0.8766071676545694,0.8999921018165455,0.8848457219177474,0.8598541819151541,0.8819629128221876,0.5671535302229803,0.5333274977098322,0.6635683217453642,0.7416572837932393,0.6844393282027512,0.7603654501272761,0.7946489915464615,0.7035298661809595,0.7470502045081479,0.6774560926674815,0.708323606077141,0.6673660685851511,0.6185884424590868,0.781391304966151,0.7178440104843211,0.6519886022401838,0.5973135967503361,0.5190064895286592,0.640826337055468,0.6444153538556003,0.5464606458443836],[0.6958274327850854,0.6383377290177783,0.785144454105597,0.7111829218890805,0.7298023232503874,0.8094511705969855,0.801623322752618,0.8388018878855468,0.834571710698599,0.8801047120187329,0.8302864840207648,0.8223735668341139,0.8488061040430698,0.893218429145309,0.802057159171034,0.7824577693381309,0.6692019116417444,0.6531451080616818,0.8698452599108234,0.8216697835435341,0.8455062880280007,0.883335089107069,0.9140030022134104,0.7763316403866576,0.7671958595892577,0.7613423479517454,0.7612173181444387,0.7425646898960863,0.9610674389973431,0.9023368981138896,0.9110278539284288,0.8992644348121738,0.889335023804808,0.9332738682738942,0.9035687756499642,0.8897702722896853,0.9180427749798576,0.9999999999999997,0.874250711281459,0.9178907288874331,0.8980860326791211,0.8964767913141833,0.8920012871054817,0.8008028287906259,0.8167015653330618,0.7967898471885781,0.8423517791919799,0.9084516089677453,0.8812291460215139,0.8448487412742877,0.8506890722375016,0.8835823147268687,0.8668465715466966,0.8620617753107568,0.9012554798778346,0.8822522925141877,0.9022942406383759,0.914496679253746,0.8756523817645463,0.8744130730039675,0.5672352149936992,0.5803675428909637,0.6808119701071046,0.70168048706444,0.6681873581264064,0.7681764245403934,0.7659380470955423,0.752400768835437,0.7864050946571081,0.6820578200449088,0.7114322432567514,0.6753370960377856,0.658209757563878,0.780893476122615,0.7378129294505246,0.6154099398443388,0.5700776393753393,0.5226085734853085,0.6471115482970115,0.6158056072258508,0.558098065863371],[0.6947691627482286,0.643448470879492,0.6528833898129093,0.5991580254302281,0.6467321941093471,0.8190273803966995,0.7981804064953593,0.8456064108071478,0.791449240597967,0.8645777008014925,0.8024354354787757,0.8369730294968217,0.7790007045362584,0.8449391568933902,0.7344513718804214,0.7453474691494328,0.6461681184525895,0.6728193845156673,0.7988910048593054,0.7770087001606466,0.807272034445394,0.7970280411789732,0.848313219495322,0.7782000808848831,0.7537803022589813,0.7170923610597336,0.810292378720201,0.7314881652444005,0.9030989092804487,0.8979892566485288,0.8465938429679077,0.873610867855026,0.8953586369364086,0.902733752332911,0.8714882969312644,0.9569322214096759,0.8866369329086684,0.874250711281459,1.0,0.8809341691536232,0.9394428104719652,0.8954042306278917,0.8928850184614774,0.7988073168761283,0.7551054806645587,0.7958018964123332,0.840858373450701,0.8815339948259286,0.8491969382490915,0.8190249533799723,0.8452540752515538,0.8706998563679705,0.8513141694750626,0.8565545832523924,0.8606014922590054,0.8391099363460484,0.8475085815105088,0.8747729950365495,0.8368608957045228,0.8482674780476201,0.561368638307131,0.5264284239593493,0.6304412096622035,0.6899784144797996,0.7206166394497511,0.7305628226051123,0.7186769867815469,0.675328138919413,0.7088268281037104,0.6881170198864832,0.7057398966831304,0.6283396261419747,0.6474637862190926,0.7550803813568149,0.737656987654531,0.6858951066052474,0.6020926437704983,0.5617529024790233,0.6123348001436143,0.5836876518501593,0.4871924513436481],[0.6750304316623122,0.6423392142677439,0.6652029865830769,0.6363613185209195,0.6375767328203589,0.8345929772842391,0.8099712553967541,0.8584841113936108,0.8441209368470614,0.8835963677307319,0.8517007556960239,0.9002560391100158,0.8562450718209917,0.9028115656956393,0.7413096448204002,0.7751066068620722,0.6872565225077492,0.6537269499928243,0.7914769684957313,0.8109756817484346,0.8310343756737991,0.8349725802252668,0.84243913060722,0.8101025904126504,0.7580041768742674,0.7407665028367457,0.7964454406337885,0.7411286203357524,0.9232292349449892,0.9309939945775042,0.9073508645826043,0.9241247109296614,0.9230282116101893,0.9418574179076107,0.9408117958172826,0.9156108186744951,0.9110869898509127,0.9178907288874331,0.8809341691536232,1.000000000000001,0.898259663122554,0.9480301926590706,0.9161497055247312,0.8344757327685424,0.7714773027968536,0.78738404030801,0.8542476473225163,0.8569784435037193,0.887984012544949,0.8640269389533971,0.8913927356014877,0.9132361236476149,0.8847114214207445,0.863446501628991,0.8713251028388669,0.8644063327268314,0.8612717563838548,0.860939618723421,0.8688317379120386,0.8829265292297515,0.5962842332428863,0.5498913758845263,0.6834019604688037,0.7044378174746282,0.6865045404679095,0.7198929380676824,0.7667520395912787,0.6825400787171195,0.7141896156363818,0.7205938602264046,0.7298177102213345,0.6434258096630996,0.6563731710951545,0.8262396946164574,0.7626201442106818,0.6303122300224947,0.5894947983921113,0.5249273811200638,0.6713687719173951,0.6565411790149499,0.51720982342229],[0.7120816372559345,0.6530168245761033,0.701020413972344,0.6540649295178317,0.6691097654753485,0.8055720390318505,0.7791414019313903,0.7981629388858971,0.8252188163837394,0.8478798683292166,0.8370455495121132,0.8208848731287023,0.8270271671461124,0.8531729614020506,0.7439468205742559,0.7527328991730249,0.6493596463145926,0.6646556822542327,0.837757805392052,0.8045865095682636,0.8284498721025176,0.837866407708948,0.8601786209624113,0.827845453374702,0.7897145562802806,0.7574216005866109,0.8012379829177569,0.7540969102455424,0.9345558776363962,0.8972003244179763,0.8665370309299146,0.8950018111207793,0.8998755454533323,0.9167812625334305,0.869142534647035,0.9462190782882474,0.8928176456263518,0.8980860326791211,0.9394428104719652,0.898259663122554,1.0000000000000009,0.903102587612957,0.9288716569541503,0.8155987606967936,0.7848115994780078,0.799571332366544,0.8429126652949113,0.9177081618347144,0.8732929291723451,0.8336041176130663,0.8719312859141791,0.8877605963533713,0.8662722712935613,0.8643020315695571,0.9090717949208977,0.8537034809611672,0.8700006388480632,0.9196956990471206,0.8552624480078141,0.8853586955466972,0.5727985862684665,0.5348856342820645,0.6603205798627941,0.7110052467886292,0.7568987329269072,0.751579900079443,0.7582977705854566,0.7305328589539142,0.7440888673178913,0.7080438443703677,0.7138061599279644,0.6460934239120119,0.6758420994630265,0.773175017029631,0.733380633012097,0.7206807807530603,0.6483368860209634,0.5967002674415612,0.6229688837594279,0.5984739134694155,0.5340797608666151],[0.667439273617105,0.6395099976851292,0.6296187420791948,0.6070353566054181,0.6066200762735819,0.820716261206578,0.8295820421577844,0.8482058557248472,0.8407568058044779,0.9154252986992159,0.8505911505156131,0.8977428827656774,0.8804390087222972,0.9316668120002305,0.7485218903272266,0.7897611681071759,0.6920420135964742,0.6976179127084354,0.8095382503704783,0.8320351000048366,0.8201094025279599,0.8177988198827928,0.8638504919502461,0.8323863893235794,0.7623248698687017,0.7694836390025923,0.8130457062912747,0.7461557966074802,0.9224804532462806,0.9543530500041311,0.906266866762213,0.9411051080039611,0.9490236361722375,0.9332521402583718,0.9317358081428464,0.9194798716960204,0.9025580333298133,0.8964767913141833,0.8954042306278917,0.9480301926590706,0.903102587612957,0.9999999999999991,0.9410068733872977,0.8268813652907866,0.7529132275060734,0.7871456854297575,0.8451897815103787,0.8746724573240294,0.8728127277054445,0.8536041063113848,0.8728482908207544,0.9074740922968737,0.880961466625933,0.8700911770118251,0.8732415269330246,0.8872483252908452,0.8608284587123717,0.8709131978051243,0.885447018474056,0.8960205956912335,0.5955210493976915,0.5388971698650362,0.6724319752643565,0.6763145365317921,0.7052258339400007,0.7202603402764433,0.7613455892272769,0.695203288493963,0.7211051347556994,0.7274591742512655,0.7311226510237626,0.6381172539801842,0.6590638054376342,0.8289015418367658,0.7511788194301058,0.6550896684807345,0.6266733590673266,0.5341137882551257,0.676061551997279,0.6754541367615013,0.5246054712240772],[0.6985530562170618,0.6063523971893676,0.6446909489273625,0.6166917854919223,0.5996515105375719,0.8071305414469618,0.8124404318663642,0.8226402681152585,0.8458927316449152,0.8785722343397041,0.861481265031441,0.8587188291681791,0.8742171337110544,0.8955113884393432,0.7161643574182393,0.769826093159043,0.6734605485988729,0.6802015663536188,0.8356011574172313,0.8298613934630747,0.8260006621220142,0.8203555924580397,0.8609077181052596,0.814394817934766,0.767946519439254,0.7622088506414642,0.8119276602859407,0.7583390209511623,0.930990566403912,0.9115944958766267,0.8916800474816171,0.9134083889606364,0.9059339543446651,0.9344545864074713,0.9062421844192723,0.9216617039165826,0.905534862162306,0.8920012871054817,0.8928850184614774,0.9161497055247312,0.9288716569541503,0.9410068733872977,1.0000000000000009,0.799933278161743,0.7484426171115742,0.7844717421383108,0.83179132186094,0.8946303693723338,0.8921211153616736,0.8658896804544582,0.867597713702278,0.907704576084862,0.8778945100293184,0.8613411245256979,0.8908814458868752,0.8692034830654662,0.8534706428869778,0.9014132292078771,0.8658388563389502,0.9022903968477872,0.574980324529039,0.5508886409331618,0.6599433954864447,0.6861211451292749,0.7083792485159716,0.734881305060245,0.7663610691480354,0.7197154544210448,0.7285039885211883,0.7030930584710791,0.7390694905557093,0.6458047155842963,0.678912024760825,0.7864709170273948,0.749670396235487,0.6856944150756548,0.6597578290592478,0.546404764722935,0.612209649414191,0.6064355755014333,0.5134020646519825],[0.8323536268070694,0.8474930967253149,0.5938123219247716,0.5892016916823412,0.545428603946261,0.789118516164245,0.743545045719078,0.7714854258269237,0.7491088503520479,0.767661191585222,0.7292198873514505,0.7502199768441749,0.7372097245579431,0.7741525272904487,0.6570078161119098,0.6498148293570353,0.6129065630548443,0.6125176392106954,0.7280166175373325,0.7317719952952293,0.701596318136801,0.7474766925551554,0.7532614782987236,0.7174914059319883,0.6528626751299125,0.6611784380145811,0.6899488200321964,0.6116791549649949,0.8297460156435943,0.8402478024836225,0.8051079514517314,0.8717417909897555,0.8119738843183107,0.8370785005743119,0.8235479887638115,0.8354834709966104,0.8486771515249676,0.8008028287906259,0.7988073168761283,0.8344757327685424,0.8155987606967936,0.8268813652907866,0.799933278161743,1.0000000000000007,0.8686602828194377,0.9273831976624315,0.818396723013903,0.8338926377994365,0.8162873490076707,0.8802891147895541,0.81614492875093,0.7867831245198685,0.7990553992549275,0.788262426328335,0.792219097749241,0.8453536068229998,0.8981741496310348,0.7787057802003517,0.7751536703428179,0.7605386347612554,0.4938320599519048,0.39761506249697626,0.5482053389795946,0.566410985819869,0.6025586434163975,0.7747102852312239,0.748060857082587,0.6396794846035895,0.6715453742866284,0.5789324425904894,0.5666461459292484,0.5249472118547649,0.5895594417768509,0.732352198797776,0.6646825780053102,0.56153128411082,0.5288963883541108,0.45477111425857086,0.5896273501883113,0.5332398666377903,0.43112907686964547],[0.8165907884080962,0.7443721160481339,0.7083396359779975,0.7450318243231571,0.6505041735918687,0.7552300399324746,0.6971074274503547,0.7567900766111945,0.7023482615650453,0.7084166372925296,0.6506024091653769,0.6697106406135633,0.6954345483557828,0.7052406772365358,0.7109997259833603,0.6231343460137875,0.5586147518588841,0.5710087176590165,0.7742144226322037,0.7672072525808238,0.754096716376863,0.9178393461062584,0.771607112947863,0.6502286768942248,0.6605926104498382,0.6690952096996579,0.6323932620707909,0.6178712668490481,0.8257288557046689,0.7610378980152265,0.8129328475180934,0.7863306711535955,0.7326247146989968,0.8080944216351242,0.7648019876469523,0.787878470736363,0.8041527898887696,0.8167015653330618,0.7551054806645587,0.7714773027968536,0.7848115994780078,0.7529132275060734,0.7484426171115742,0.8686602828194377,0.999999999999999,0.8764580302482136,0.7907586196376364,0.7930660203471993,0.7974735801763021,0.8490539134979656,0.7969975639618565,0.7630860132216094,0.7566848473110124,0.7707004431129301,0.7977848316250422,0.8405681049629228,0.8794435794636128,0.7803281344965941,0.7395333466567027,0.7529778376701228,0.4919708282436968,0.4162996616882549,0.5280285186772662,0.5978449746243124,0.5678104857887758,0.8231990505074499,0.7638960932276534,0.664920397168635,0.7197272684978404,0.5869435408838704,0.5800207024584615,0.5781647675027752,0.6508388429077759,0.6917947061289655,0.6917660319274043,0.5377339362905226,0.48734898695256534,0.46686009549007307,0.5574013936165079,0.5026379263477123,0.5127206855410642],[0.876361723592663,0.7997537930876244,0.583172078069297,0.5813737277461447,0.5586460936542847,0.7992638792880025,0.7485907913657276,0.7708760459170505,0.7181618222840529,0.7344864750699861,0.7046543496329577,0.7288790889904415,0.7117468015006285,0.7599189258036801,0.6599521846898269,0.6258729987540994,0.5908732270640522,0.6045317353843812,0.7643543869721011,0.7570188937325039,0.7403662083036827,0.7472346171182931,0.7777702305907872,0.6681831567685179,0.662362193983278,0.6761108780659139,0.6673176802783286,0.6265447715279274,0.818387450587561,0.8122703650419468,0.7818374626276052,0.8293618657851398,0.7741347271142174,0.8230014909869972,0.8198122737108604,0.835051748088713,0.8223549730180207,0.7967898471885781,0.7958018964123332,0.78738404030801,0.799571332366544,0.7871456854297575,0.7844717421383108,0.9273831976624315,0.8764580302482136,1.0000000000000009,0.7962004319458315,0.8299047752515496,0.8100684949415989,0.8716214473366952,0.7687400124067445,0.7688131545295469,0.8044674309966376,0.7799499714967746,0.77724770405587,0.8314960694827319,0.8807016138210256,0.7838792780405366,0.7688152920444665,0.7486523143706045,0.4889888761959815,0.4156937171474619,0.5163836886097567,0.5496630334700014,0.5781987140203755,0.8128521981557295,0.737204741844839,0.6740182044549388,0.6809007238327425,0.5553710022172259,0.579232749991225,0.5247630404331827,0.5962128988069803,0.6852467036839814,0.6764436660905137,0.5640951127099951,0.5152889786248,0.42993122552341406,0.5440070765100647,0.4943354052590653,0.43550409831871284],[0.7595308016598579,0.6572022805770222,0.6448521988732098,0.6226879123013267,0.6090571444446266,0.8034981801104063,0.8084269816254126,0.828252798230422,0.7670973769806365,0.7846221780234945,0.7570425642247046,0.8073557849270876,0.7779516789702189,0.792013991166944,0.650108464854897,0.7192756747375243,0.6411552470136512,0.64880534751129,0.7247140285012372,0.7670185930961498,0.7726800343970109,0.7935083548067007,0.7733658465528848,0.766273776130386,0.7469366566050312,0.7019264768318361,0.7251409243500109,0.7499002396430956,0.8787969020100643,0.8100465573581876,0.8578251841583476,0.8412007367217249,0.827642649409571,0.8785497929370369,0.8169350880205314,0.8389312869282294,0.8617778696459386,0.8423517791919799,0.840858373450701,0.8542476473225163,0.8429126652949113,0.8451897815103787,0.83179132186094,0.818396723013903,0.7907586196376364,0.7962004319458315,0.9999999999999982,0.8268970364110886,0.859268225513658,0.8757756883781265,0.8597612836450728,0.8444423767407594,0.7843424964789251,0.8268278343888271,0.8705310546131375,0.8935639095397422,0.8894264546763087,0.830169679992227,0.8523914626339486,0.8221733686442508,0.5900587517592364,0.5385015988187459,0.665575671424079,0.5980129975181062,0.6405838224609155,0.7519651365865109,0.7750914493012687,0.6528594019592547,0.7101184214277227,0.6457822435370997,0.677957471631992,0.6176860904392303,0.6418434979062001,0.7468126014137894,0.7208954958372856,0.5840243482891891,0.5461765498948431,0.5038740993251026,0.6421599683296628,0.620987745804546,0.47049066048786264],[0.7295931803933691,0.6715797098433475,0.6603275358131323,0.6160943670709963,0.6305611150894446,0.8052338827514879,0.8022137512887947,0.7996513949698582,0.8225361392620373,0.8498082427782451,0.812004137555159,0.7995746975823246,0.8037258747468718,0.8535340620415355,0.7555462934178232,0.7327272985641102,0.6494673530537654,0.6460596257211291,0.8777969179704098,0.7844633801513196,0.8190734917242801,0.8197580698545159,0.872537639255857,0.7402366475998821,0.7287962823161481,0.7433384064670502,0.7343421075168597,0.6913168044176168,0.918545508936936,0.9032101178030094,0.8543448005120465,0.8836740547709712,0.8719950053470151,0.901424923628546,0.8696000757048091,0.8989952054518181,0.8752995149586619,0.9084516089677453,0.8815339948259286,0.8569784435037193,0.9177081618347144,0.8746724573240294,0.8946303693723338,0.8338926377994365,0.7930660203471993,0.8299047752515496,0.8268970364110886,0.9999999999999996,0.8625458902265273,0.8307079321629521,0.8066234111017155,0.8574074930753413,0.8481950225142186,0.8403570926595267,0.8957041670520348,0.8587356028724615,0.879527551353303,0.9652996574633879,0.8525712367395714,0.8473589979650378,0.530606179933598,0.4930967299711689,0.6366448389374864,0.6447261137943603,0.6621133265565978,0.7849409398925062,0.7755738254456349,0.7496548993431312,0.8014486371348977,0.6143616731029863,0.6575757809542307,0.5926899129800932,0.6181153413207676,0.7121475578178377,0.695998495746658,0.6306498340201173,0.5579730034415041,0.5049572351251865,0.5684445510647845,0.5561890855220981,0.513307877957461],[0.7340064499336925,0.6348007079154705,0.64967540416042,0.6353765469733026,0.6055472592435988,0.8142730641314238,0.7679538824414911,0.8063311357827116,0.8240991778363476,0.8225381091971012,0.832182612338446,0.8147283609576831,0.810186495963427,0.8464740135994714,0.7006866684951826,0.7489622313697142,0.6862086581421994,0.6457800135742893,0.793332509548745,0.7970725971449716,0.8298254333764626,0.8255414871208069,0.8216673031497727,0.7678339174100328,0.7705854154904326,0.7272235402910131,0.7256968440456028,0.7334517697617121,0.9220349407263032,0.8423330747993788,0.8896730287946835,0.8701694937180424,0.8527147212454447,0.9206821195796144,0.8506819301487347,0.8838595397076613,0.9039405099998806,0.8812291460215139,0.8491969382490915,0.887984012544949,0.8732929291723451,0.8728127277054445,0.8921211153616736,0.8162873490076707,0.7974735801763021,0.8100684949415989,0.859268225513658,0.8625458902265273,1.0,0.8713575503205127,0.8846087848197145,0.9197505023872691,0.8556475670754051,0.8627114654543759,0.8904706920198745,0.8727838852401866,0.8735610388190137,0.8779261788916587,0.834146328715869,0.8706758047582831,0.5571023277676505,0.5368948503675787,0.6619372559702265,0.6626632645179183,0.6764869597363428,0.7668899133642448,0.7934829351645017,0.7021752153743924,0.7458684714056303,0.6638117145128283,0.7146647445693598,0.6286361746177357,0.6287780627004306,0.790280589255744,0.7468526754652483,0.6233356185012854,0.5617508016324922,0.5141232857184036,0.704453552320206,0.6340340150112712,0.48686014084228635],[0.8176163380743507,0.733710918684906,0.6319926937812204,0.6349565706022946,0.5970656484669267,0.7917583654210828,0.8081371304750697,0.8453259204567201,0.7901330665356459,0.7809479588984343,0.7604058015540978,0.7799462437453492,0.7757087399751478,0.8022342907728545,0.6754249879813276,0.7081662054705007,0.6406891243610684,0.6627489583962473,0.7617359886330808,0.8072777474456088,0.8217514288505733,0.8120296902093611,0.7719213670965309,0.7308295859509335,0.7074561716120269,0.6926035783365619,0.7098116464635574,0.7147023210784873,0.877836015599798,0.8170954282915737,0.8515084631740011,0.8443623033268991,0.8191875924255676,0.8771925244194017,0.8487223810864111,0.838219580054832,0.8642944386396483,0.8448487412742877,0.8190249533799723,0.8640269389533971,0.8336041176130663,0.8536041063113848,0.8658896804544582,0.8802891147895541,0.8490539134979656,0.8716214473366952,0.8757756883781265,0.8307079321629521,0.8713575503205127,1.0000000000000009,0.8710293786360983,0.8620969541106728,0.8610488078409065,0.8476785047963082,0.8580724412901487,0.9039714990288429,0.9087837431699075,0.8313058881485914,0.8359887644705679,0.8191412821440786,0.5219032153500943,0.5226998731098745,0.6391558754158915,0.5850373379227685,0.6614877901548003,0.81104530893458,0.8278580981805271,0.677966570534212,0.7007064194129651,0.6549238744534374,0.6823805766809484,0.6087019239034913,0.693601709297449,0.7692871776539568,0.7570590928319674,0.590347162083491,0.5644137278637765,0.5032594241690926,0.6145282339707825,0.589032667036179,0.4769942627781991],[0.7421819330517347,0.654210991089267,0.6558179827433882,0.6562731094790791,0.6027335270323674,0.7679534891945108,0.7391614428450578,0.8140578625403699,0.8069021993897828,0.7947769550849879,0.774262309359694,0.7724312132120954,0.8266271479010734,0.7795515777817317,0.7081943559895342,0.7179061795935745,0.6601002684173138,0.6428006168948609,0.7571271837794594,0.789961951019571,0.8079746156848506,0.8363934806410473,0.7812523087940686,0.8396745559606217,0.7739180830931354,0.7175380985334839,0.7611448792319444,0.7241632894800081,0.9008953931751321,0.8297873114800041,0.8596021690882295,0.8487609210320078,0.8126935105340153,0.9153630676041608,0.819297701156361,0.8838656541664326,0.8773171760764692,0.8506890722375016,0.8452540752515538,0.8913927356014877,0.8719312859141791,0.8728482908207544,0.867597713702278,0.81614492875093,0.7969975639618565,0.7687400124067445,0.8597612836450728,0.8066234111017155,0.8846087848197145,0.8710293786360983,1.0,0.8943073726469687,0.8431815067972823,0.8511137855728089,0.9035559618109953,0.8569014214005336,0.8753149023365006,0.8375533119915691,0.8223142337409491,0.86299774383824,0.652151709998353,0.5897528553030043,0.6763073882968985,0.6781989594899035,0.7052864496101833,0.7801830913369191,0.7921143141573929,0.692359552492272,0.7287702299050582,0.7448307887096964,0.7094205376251489,0.6012659509029135,0.7054632871649312,0.8497583695640113,0.7979806483812499,0.6976125950301517,0.609226972855594,0.5127820340118812,0.7210740753509839,0.6896351475425054,0.5419712130125927],[0.6675441393572953,0.6174052778695914,0.6432058858018097,0.6120530439823001,0.6363790119281983,0.8330587415353019,0.7807737163326313,0.8258794095698015,0.8508797507841117,0.8644627575484304,0.8210721364265325,0.8321440905985114,0.8371051720904781,0.8650315338720566,0.7321609509986269,0.774659924409581,0.7312765477908362,0.663871019190083,0.8204968106817169,0.8167937974955114,0.8486781320301218,0.8321773921069003,0.8370011677771749,0.773173673353872,0.7721264406708557,0.7686800981801514,0.773347310240872,0.7515315437845626,0.9251138706588642,0.8727680096598466,0.8984212632027275,0.8737388349892844,0.8798323270513462,0.9135400828858716,0.8692491574241725,0.9048273751669671,0.8913416774365936,0.8835823147268687,0.8706998563679705,0.9132361236476149,0.8877605963533713,0.9074740922968737,0.907704576084862,0.7867831245198685,0.7630860132216094,0.7688131545295469,0.8444423767407594,0.8574074930753413,0.9197505023872691,0.8620969541106728,0.8943073726469687,1.0000000000000002,0.8961000759825628,0.861052702932014,0.8897950766416229,0.8667179353033341,0.8535933123713946,0.8885571070977,0.8470196744022928,0.8985510018442106,0.5667607154496469,0.5826917002751881,0.6741639546171112,0.6733138062880497,0.6807650878865068,0.7425553917710334,0.7786202171488624,0.7117555125063801,0.7418582822345248,0.6903769709536074,0.7215992092621532,0.6277093850915122,0.674465390777767,0.8077111187342352,0.7697874543494638,0.6486141773593305,0.6202625899080634,0.49454345102766867,0.750279897471699,0.6821231829200354,0.5196315917971691],[0.69547109907054,0.6305090032084425,0.6099498064996569,0.5846519016916956,0.6327761239474265,0.8162677505906033,0.7870977946194679,0.8138812277889315,0.8293762999834505,0.8285430234026632,0.7908514595187995,0.8171750056238615,0.8144232535003418,0.8402220423296232,0.7238979207106174,0.7202443249853838,0.6505133859504394,0.6222484132919937,0.7677802579318088,0.7856191257515298,0.8267651886522634,0.7936528934312902,0.8242891405459495,0.7459826868483328,0.7614224973093763,0.712463826276993,0.7340052825457258,0.6686768758728735,0.8816665598950132,0.8726540174321055,0.8564890301888743,0.8494485109542856,0.8614390571403806,0.8838155001336846,0.875812205015378,0.8930233974401368,0.8506844943065696,0.8668465715466966,0.8513141694750626,0.8847114214207445,0.8662722712935613,0.880961466625933,0.8778945100293184,0.7990553992549275,0.7566848473110124,0.8044674309966376,0.7843424964789251,0.8481950225142186,0.8556475670754051,0.8610488078409065,0.8431815067972823,0.8961000759825628,1.0000000000000002,0.8271162839278167,0.8391835883355061,0.8327377905206506,0.8387362638254231,0.8465499597067488,0.8391847525432733,0.8476892798134501,0.5577745818136218,0.5147934952806623,0.6388207280773245,0.6686976819388675,0.6869802073813239,0.7480868887111506,0.7281912154971701,0.7076223141800778,0.7040176761090764,0.6885535438610791,0.6689149453543156,0.5800855445368559,0.620688050739108,0.7871900279549983,0.7425072364258443,0.6410477186666586,0.5900407867010149,0.4896198994242896,0.6377774938074572,0.6276537039138748,0.4999062080751059],[0.703947804315994,0.5919201862673944,0.6554053003928019,0.6522563278435289,0.6436391050813267,0.7479109438531879,0.7995484511724,0.8262258456515252,0.7796532611746865,0.8262499025575635,0.7869268965342621,0.7840370227389015,0.782080399448338,0.8248252611566895,0.6959088695879856,0.7284500867981547,0.7089493161558909,0.7728347750700872,0.7803699773947979,0.7954187412867696,0.8230137524990434,0.8170729562808969,0.8042588797349546,0.7563616332553479,0.7389253933106251,0.7129319038759387,0.692169096841584,0.69563170174561,0.9026012447825841,0.8504388565411621,0.8616731429283869,0.8591335888138069,0.858159904637308,0.8776247785452675,0.847578175646467,0.8662860474991726,0.8692922778674681,0.8620617753107568,0.8565545832523924,0.863446501628991,0.8643020315695571,0.8700911770118251,0.8613411245256979,0.788262426328335,0.7707004431129301,0.7799499714967746,0.8268278343888271,0.8403570926595267,0.8627114654543759,0.8476785047963082,0.8511137855728089,0.861052702932014,0.8271162839278167,1.0000000000000004,0.8700685791157481,0.8503543255837823,0.8574178636795432,0.8469666148726224,0.8463063503789287,0.8400836927294022,0.5131480201892722,0.5068770751944931,0.654760058365422,0.6127204897526064,0.6564725870426139,0.755936646367098,0.7808531320817983,0.7174916205655322,0.7565250667037547,0.6390844202661792,0.6724157092758936,0.6226294991127523,0.6085052764250147,0.7411048654736407,0.7006034330205763,0.5994708603861784,0.5303472755872091,0.5036592472521625,0.6036838736192602,0.5838137857460669,0.47539361488379234],[0.7266189868085748,0.6323494339134049,0.69688639834701,0.6576810044820026,0.6533860902892559,0.7536104119154654,0.7709692534260786,0.8211171064540679,0.8116596447663482,0.8082523272301294,0.8132494141534604,0.7754288303987698,0.8254730474537826,0.815373173882245,0.725291830521972,0.7334652477116873,0.6866012153739773,0.677159956558373,0.817369658099307,0.7997081798070717,0.8357491598673744,0.8566324027723909,0.8321205459618383,0.839056545673132,0.7887892312941086,0.7600724009045366,0.768436194427073,0.7443978244437083,0.9454929188976712,0.843459334777791,0.8788484593459697,0.8649357496611896,0.8339255208573355,0.9083593281816642,0.832978132247193,0.8742013903841859,0.8975646266301238,0.9012554798778346,0.8606014922590054,0.8713251028388669,0.9090717949208977,0.8732415269330246,0.8908814458868752,0.792219097749241,0.7977848316250422,0.77724770405587,0.8705310546131375,0.8957041670520348,0.8904706920198745,0.8580724412901487,0.9035559618109953,0.8897950766416229,0.8391835883355061,0.8700685791157481,0.9999999999999999,0.873270218125369,0.9171541843846641,0.9160681608565042,0.85549048390007,0.8765592910864622,0.5971990484029229,0.5848266460303838,0.6743024504545391,0.6700176692561811,0.7068717547124224,0.7875678988237259,0.8090562221881177,0.7561095187277361,0.7897705436584785,0.6974760931414732,0.7012688698924703,0.6353582776705425,0.6862819328925303,0.7756886886362174,0.7562111187905607,0.6618344406299486,0.6037138188661068,0.5308539170953784,0.6579246255971113,0.648188411059394,0.553521550682024],[0.7576146156932818,0.6826428565421002,0.6468623509208191,0.6355754640605051,0.6234370674976454,0.7980002224907887,0.8005870540593216,0.8426960167354451,0.804361610617798,0.8444233577241449,0.7804713268972303,0.7983254932609596,0.8080767908301213,0.8500004685150456,0.723695882187134,0.7566289237252586,0.6500732050436657,0.6552563862390901,0.8124390747377666,0.8412623936544682,0.7989771934659272,0.8437016124828094,0.8321462899570097,0.7576386607100831,0.7492484588544959,0.7209726484743908,0.7219475644863003,0.738014672682575,0.9138984856467733,0.856263707533913,0.887373419570068,0.8711582680427422,0.8573960225142971,0.8911746558237856,0.8500673028163785,0.8561116094759622,0.8766071676545694,0.8822522925141877,0.8391099363460484,0.8644063327268314,0.8537034809611672,0.8872483252908452,0.8692034830654662,0.8453536068229998,0.8405681049629228,0.8314960694827319,0.8935639095397422,0.8587356028724615,0.8727838852401866,0.9039714990288429,0.8569014214005336,0.8667179353033341,0.8327377905206506,0.8503543255837823,0.873270218125369,1.0,0.9238162221882763,0.8671523881598543,0.8529742794389729,0.8431846447562572,0.5709408350169227,0.5132988304645226,0.6341974307129599,0.621837120676136,0.6530126613722701,0.8011605419105827,0.7922577526085846,0.737358598810383,0.7646839624454363,0.6355976608974834,0.6520248983893929,0.6277917638277903,0.6413658675447707,0.7737507575863092,0.7259789506830842,0.591487077466985,0.5505706778955723,0.5028796697821377,0.6630316870899837,0.5901227044105598,0.48478410033848757],[0.794849810845945,0.7320273552929595,0.670625066336861,0.6729744026671124,0.6460403773977765,0.7730275877732021,0.8066477567096028,0.8425242468419255,0.8076354394820682,0.7969679564101502,0.7871930181700072,0.7656133699563291,0.7832869545598636,0.8025964726025536,0.7229801046699069,0.7283909354659578,0.6595289077327966,0.6639111528916992,0.7965172497669176,0.8181381554381139,0.8062850548210589,0.8498606314527739,0.8244168388769538,0.7779088043276624,0.7609191109914797,0.7266653526013255,0.7200342494214149,0.7129868770549371,0.934904909020891,0.8561099408019325,0.8845299628436231,0.8797775314376601,0.8343728137188016,0.894692055585031,0.8446215586779601,0.8533493198574559,0.8999921018165455,0.9022942406383759,0.8475085815105088,0.8612717563838548,0.8700006388480632,0.8608284587123717,0.8534706428869778,0.8981741496310348,0.8794435794636128,0.8807016138210256,0.8894264546763087,0.879527551353303,0.8735610388190137,0.9087837431699075,0.8753149023365006,0.8535933123713946,0.8387362638254231,0.8574178636795432,0.9171541843846641,0.9238162221882763,0.9999999999999998,0.8801379364792317,0.8713895833510341,0.8456219318675552,0.5554809519553059,0.5350478506018289,0.6377862903618466,0.6412573247429818,0.6524915878447778,0.8368208071022779,0.8357250624460525,0.7793670180796448,0.796899037903217,0.6566895917147837,0.6532670289897905,0.6306714280697069,0.6571568911721951,0.7574168312658338,0.7290748080206502,0.6111474710317955,0.5819048956955939,0.5066373039066949,0.6516163719100747,0.6003722171694043,0.5271385486921023],[0.6998488720149914,0.6248150241024434,0.6548708161282574,0.6199906051582462,0.6475583061950425,0.783163229485397,0.7815713546505232,0.7916969373208245,0.839011056962711,0.8578383066005033,0.8168648331569736,0.7912067631631922,0.8128960251610644,0.8498793662818517,0.7504434184080391,0.7440873615498435,0.6596545342864253,0.6506299828530833,0.8885707267218208,0.7974733650869228,0.8518659413168779,0.8441777181085043,0.8680009982693594,0.7550855688060402,0.7503726728070124,0.7551392942597842,0.7348880910556884,0.7173029347083616,0.9327356940408624,0.8764207321024995,0.8723778413297185,0.8669515794283805,0.8613717464262303,0.9010963546589371,0.8509595031699876,0.8918458495284625,0.8848457219177474,0.914496679253746,0.8747729950365495,0.860939618723421,0.9196956990471206,0.8709131978051243,0.9014132292078771,0.7787057802003517,0.7803281344965941,0.7838792780405366,0.830169679992227,0.9652996574633879,0.8779261788916587,0.8313058881485914,0.8375533119915691,0.8885571070977,0.8465499597067488,0.8469666148726224,0.9160681608565042,0.8671523881598543,0.8801379364792317,0.9999999999999998,0.8576670232249076,0.8700797062493881,0.5637283493513933,0.5476333334200731,0.6612787699360243,0.6646296814420976,0.6731852820046642,0.7827252772048935,0.7943866963242308,0.7894664551172117,0.8177616915281036,0.6365647196238841,0.6973143908448807,0.6096321613158054,0.6488741556491322,0.7222471159026426,0.7120918602543453,0.6414726940757336,0.5738100277098406,0.5167626371678848,0.610371873876774,0.5878711693153235,0.5473130047528804],[0.6777598453391643,0.6064677500568836,0.6362853186854867,0.5950886459526548,0.5858383018717611,0.7529377457648309,0.9422073868542999,0.8334303150432761,0.8115264663140705,0.8324254739336784,0.805177572646087,0.8487407516605971,0.8237147291270432,0.8516369596984326,0.6759476742991979,0.7571233892288173,0.6556129300129127,0.6674231257557353,0.7772934342913878,0.7876283787471535,0.7988098452807263,0.7924752432319059,0.790328422245683,0.7773077150691043,0.739576174811727,0.7082580357847331,0.7457314912286717,0.7317162601204228,0.8930653178270186,0.8684789721409236,0.8695761989412076,0.8995854144847708,0.8938815218126803,0.8805974105502745,0.8760520328158536,0.8515756190096578,0.8598541819151541,0.8756523817645463,0.8368608957045228,0.8688317379120386,0.8552624480078141,0.885447018474056,0.8658388563389502,0.7751536703428179,0.7395333466567027,0.7688152920444665,0.8523914626339486,0.8525712367395714,0.834146328715869,0.8359887644705679,0.8223142337409491,0.8470196744022928,0.8391847525432733,0.8463063503789287,0.85549048390007,0.8529742794389729,0.8713895833510341,0.8576670232249076,0.9999999999999996,0.8313137427100357,0.5465192313637209,0.571628087730072,0.6564891576918386,0.6263122088066033,0.6719406551767941,0.7352084277997712,0.7860072864981643,0.733969605661558,0.7592888187037189,0.6444268868429017,0.6925972385134782,0.6204665783841546,0.613962318641857,0.7547302747000084,0.6709697948662425,0.6161190624952723,0.5919817914295169,0.5105980296213489,0.6376561232527578,0.5903487715360826,0.49552643908501687],[0.6802297833205186,0.5887573558739961,0.6432420610424009,0.6251082294701448,0.6330195598219419,0.7824967668038323,0.7547705165459129,0.7887140683880866,0.8348480257197597,0.8496784715656106,0.8195775348138395,0.8258536719667572,0.8422487203341756,0.8576586767579859,0.722356980016646,0.7850727004657729,0.6756893147878588,0.657588037424212,0.7904041685717784,0.8287164159914876,0.8441488726272264,0.8375132840427417,0.8515458672996189,0.8073751482981537,0.7994192460192242,0.7655182537062657,0.7757638757153738,0.7617020953468049,0.9118148324742273,0.8759488337463601,0.9346401915413968,0.8749828824441825,0.8596869701255411,0.9015037276507828,0.861130065738195,0.8788760697317786,0.8819629128221876,0.8744130730039675,0.8482674780476201,0.8829265292297515,0.8853586955466972,0.8960205956912335,0.9022903968477872,0.7605386347612554,0.7529778376701228,0.7486523143706045,0.8221733686442508,0.8473589979650378,0.8706758047582831,0.8191412821440786,0.86299774383824,0.8985510018442106,0.8476892798134501,0.8400836927294022,0.8765592910864622,0.8431846447562572,0.8456219318675552,0.8700797062493881,0.8313137427100357,1.0000000000000002,0.5483885513764676,0.5307911323806435,0.7397744359727938,0.7108239377006323,0.6930504708801947,0.713299381169551,0.7399515316283765,0.7251027209137717,0.6933162113987231,0.6691477791281558,0.702696028869675,0.7071616022420535,0.6772451835283262,0.7988304811025699,0.7420523611468379,0.7218047800792271,0.6818314111145919,0.5327713904770948,0.618076839350022,0.6194902847192693,0.624847017979427],[0.46804196372091283,0.45996514556416834,0.4232922737492151,0.4244873194926179,0.39391130581049927,0.5606447403530924,0.5037026649034072,0.5662762937524118,0.5306545476437653,0.5062909789801414,0.4933163242794597,0.5278639026375747,0.5098909225802953,0.5081997929116603,0.4338570014813926,0.42808727503079097,0.42929235370671087,0.44289661649721795,0.5142323667750378,0.5611949031720407,0.48367570277030564,0.5482121616492104,0.513587299583398,0.5176981619919386,0.5351579448750736,0.3978199970959616,0.4757729689105062,0.4760645827598497,0.6004058978135476,0.5608398060029941,0.5734953736640849,0.5572480642762653,0.5578586340843511,0.6187995139557082,0.5453028090917788,0.6005825280186,0.5671535302229803,0.5672352149936992,0.561368638307131,0.5962842332428863,0.5727985862684665,0.5955210493976915,0.574980324529039,0.4938320599519048,0.4919708282436968,0.4889888761959815,0.5900587517592364,0.530606179933598,0.5571023277676505,0.5219032153500943,0.652151709998353,0.5667607154496469,0.5577745818136218,0.5131480201892722,0.5971990484029229,0.5709408350169227,0.5554809519553059,0.5637283493513933,0.5465192313637209,0.5483885513764676,1.0000000000000002,0.577928751732081,0.40056295929529845,0.5206505961040493,0.38532645628978807,0.5532118399319178,0.5433994699983875,0.478672011669609,0.5335833961382106,0.6009238380595106,0.5729965194658408,0.40083808829923107,0.4726031604927935,0.6177560432256707,0.6447223834564434,0.4600921523096941,0.3954849441079513,0.2919361457101722,0.465059971745787,0.4808037625194781,0.45816324743101067],[0.3827955381708033,0.3923534842829959,0.4837923838251507,0.3833614921042677,0.3915694291845995,0.500349608792965,0.5083506764066614,0.5070746469004408,0.4837415329705205,0.5039924367336585,0.47395608696641783,0.46088360664408584,0.5407811475379111,0.49207415829248025,0.43648367463096577,0.4930821083751822,0.43448778259124177,0.3833132267808628,0.5434438352821874,0.4845538539713991,0.5264381969768186,0.5148285543712557,0.49497434565178894,0.4713930468440723,0.5100488845102857,0.44029282967116823,0.4788181822278745,0.5706429871370621,0.5826248711398455,0.5030232247684348,0.5457526974821372,0.5037685331968664,0.49641001352885716,0.5754947249858595,0.49919244815691,0.5416471127468497,0.5333274977098322,0.5803675428909637,0.5264284239593493,0.5498913758845263,0.5348856342820645,0.5388971698650362,0.5508886409331618,0.39761506249697626,0.4162996616882549,0.4156937171474619,0.5385015988187459,0.4930967299711689,0.5368948503675787,0.5226998731098745,0.5897528553030043,0.5826917002751881,0.5147934952806623,0.5068770751944931,0.5848266460303838,0.5132988304645226,0.5350478506018289,0.5476333334200731,0.571628087730072,0.5307911323806435,0.577928751732081,1.0000000000000002,0.5283943266987112,0.4904442736823946,0.4380269833166005,0.4889322209671022,0.4900998727144338,0.5140916877279602,0.47839903333733724,0.615230003968521,0.7115372795681971,0.458971909823157,0.5578360431568209,0.5844482899518497,0.5878511334983191,0.43571346136290684,0.3842621310009352,0.29311759566818907,0.4436054026771613,0.42507338301982844,0.4579622728221797],[0.5176233779467024,0.41943547274181947,0.5241749990565008,0.5037409280743469,0.528851004850509,0.5697303764445314,0.5688489227208969,0.6186973072778585,0.6457406088029979,0.6365560598525486,0.6530081299046889,0.6056400878271011,0.6629113973422164,0.6552101424172162,0.5264549131780979,0.623063076945708,0.556337654500193,0.5383385457463347,0.5638726219961445,0.5969914526377557,0.6513616828569501,0.6653268603768173,0.6064417218997704,0.6245638336843673,0.6082144628534846,0.567038473964644,0.5729982249612452,0.5956556643380734,0.6849151239966852,0.640927386398595,0.7376001499118953,0.6466277462460494,0.6443320938356424,0.6813078834708641,0.643635303929685,0.6375020191026243,0.6635683217453642,0.6808119701071046,0.6304412096622035,0.6834019604688037,0.6603205798627941,0.6724319752643565,0.6599433954864447,0.5482053389795946,0.5280285186772662,0.5163836886097567,0.665575671424079,0.6366448389374864,0.6619372559702265,0.6391558754158915,0.6763073882968985,0.6741639546171112,0.6388207280773245,0.654760058365422,0.6743024504545391,0.6341974307129599,0.6377862903618466,0.6612787699360243,0.6564891576918386,0.7397744359727938,0.40056295929529845,0.5283943266987112,0.9999999999999992,0.5055144027411483,0.6336117210877911,0.5341144110903139,0.5616890213985029,0.508255919964099,0.4975428470225038,0.5677998398387571,0.5787137708092831,0.514894755488344,0.5522203392321237,0.6410813263495787,0.632988843212561,0.526845038656691,0.48770384515690374,0.476638441457107,0.4681446908479283,0.536112589028485,0.4467993266524588],[0.43092357487286936,0.43797595297681985,0.557688213478085,0.4969099832017633,0.5400734948832787,0.6049920059248491,0.5468426718636445,0.5893207179622267,0.6203919814585362,0.6689854911353685,0.6356669899368952,0.6095054738728007,0.6968783161850416,0.661318948602768,0.5859626544162801,0.5540100218095239,0.5105760266777013,0.4691613551952334,0.5955433099706919,0.6272895750578684,0.641201903909422,0.6676339573079757,0.6513904612094179,0.6323019955013293,0.6441242443396753,0.6048152258497889,0.6000915967161704,0.5795093602193917,0.7072397864342359,0.6778174195718127,0.7123439818741493,0.6936516949407788,0.6633792683242729,0.7146131716456045,0.6565554602418217,0.6954041974712724,0.7416572837932393,0.70168048706444,0.6899784144797996,0.7044378174746282,0.7110052467886292,0.6763145365317921,0.6861211451292749,0.566410985819869,0.5978449746243124,0.5496630334700014,0.5980129975181062,0.6447261137943603,0.6626632645179183,0.5850373379227685,0.6781989594899035,0.6733138062880497,0.6686976819388675,0.6127204897526064,0.6700176692561811,0.621837120676136,0.6412573247429818,0.6646296814420976,0.6263122088066033,0.7108239377006323,0.5206505961040493,0.4904442736823946,0.5055144027411483,0.9999999999999994,0.6408940758738585,0.5374168667256684,0.5816709791775689,0.5323695158928368,0.5634482532103772,0.6717675716257502,0.5843464614523276,0.5386312798128121,0.5079336257286939,0.6370353536282732,0.6021769233834814,0.5866234476155987,0.4815689441049857,0.5171549453930646,0.47628127142872767,0.5473460129162792,0.6205696871741861],[0.516991764765184,0.4695974562949045,0.526859241493557,0.4703214559456876,0.5000224787524082,0.5912461396858792,0.5921981086379824,0.6047702409199758,0.6000981627675488,0.6786864602519898,0.6481456234757842,0.6504997352038688,0.6909051962235547,0.6812615473846371,0.523122380747122,0.5852564175971708,0.5127010031755743,0.4801573066480997,0.5694066360184852,0.6021294305560112,0.6392511382179175,0.630078810509976,0.623053871159515,0.7281454237625323,0.5950936360440999,0.5879868189437069,0.652704943953711,0.5683815313916207,0.6892603121979531,0.6772766919081973,0.6841151164382754,0.691808549452101,0.704287563437521,0.700457653316841,0.6526680338374911,0.7241791464758472,0.6844393282027512,0.6681873581264064,0.7206166394497511,0.6865045404679095,0.7568987329269072,0.7052258339400007,0.7083792485159716,0.6025586434163975,0.5678104857887758,0.5781987140203755,0.6405838224609155,0.6621133265565978,0.6764869597363428,0.6614877901548003,0.7052864496101833,0.6807650878865068,0.6869802073813239,0.6564725870426139,0.7068717547124224,0.6530126613722701,0.6524915878447778,0.6731852820046642,0.6719406551767941,0.6930504708801947,0.38532645628978807,0.4380269833166005,0.6336117210877911,0.6408940758738585,0.9999999999999991,0.5415006228657323,0.5728762386676058,0.49680598966769446,0.5063103091147925,0.6408751717572698,0.6031184866555891,0.4796620537095194,0.5352956373325094,0.6663023764142181,0.5662366417904976,0.6410085604634089,0.4763802841098935,0.6846648384001869,0.4832252608834854,0.5492059323073057,0.46112016673053263],[0.8368728239664975,0.6914601198654322,0.6142560903843501,0.6600307032577063,0.6184139005179442,0.7125838680930087,0.7157593419873983,0.7441452383989482,0.7273363093587099,0.6682045578585206,0.6454787514218827,0.6331531254530111,0.6660176992077631,0.6748469099538454,0.6231462782350978,0.6383932698801807,0.6133780556267888,0.6117234884231211,0.7687791764828951,0.7853352900919305,0.7243322155235816,0.7790654164552895,0.7042545949923993,0.5877400098774768,0.6783604000565889,0.6656966881827278,0.5973851413602393,0.632072971289992,0.7978077578718876,0.7178622108457692,0.7501484071166545,0.7172891916950881,0.7124963647546072,0.7734558809828949,0.7359479646462189,0.7644010135387029,0.7603654501272761,0.7681764245403934,0.7305628226051123,0.7198929380676824,0.751579900079443,0.7202603402764433,0.734881305060245,0.7747102852312239,0.8231990505074499,0.8128521981557295,0.7519651365865109,0.7849409398925062,0.7668899133642448,0.81104530893458,0.7801830913369191,0.7425553917710334,0.7480868887111506,0.755936646367098,0.7875678988237259,0.8011605419105827,0.8368208071022779,0.7827252772048935,0.7352084277997712,0.713299381169551,0.5532118399319178,0.4889322209671022,0.5341144110903139,0.5374168667256684,0.5415006228657323,0.9999999999999999,0.8948286062552441,0.7479668205028865,0.8615666670536916,0.5338322477808345,0.5972149922750589,0.5308304865675196,0.6566064377322387,0.657501265184353,0.6746964553754946,0.522171142396577,0.4588380705457142,0.40361836187796185,0.5019101245618938,0.44337790303384916,0.48662158079953255],[0.7039918025605931,0.6181175212653452,0.5452751500541849,0.6294000788997558,0.574925012033007,0.7003414779131156,0.7498114402203944,0.7461442401303953,0.7581262968207819,0.7020020342887479,0.7088464032586709,0.6705626911774051,0.6966905091737564,0.7241384763028214,0.5962872909548327,0.6656608675580966,0.6635680987451443,0.655809187370791,0.7308834427838308,0.7538386207722859,0.7313867215551838,0.7566509213753777,0.6816016771315312,0.6568887172836562,0.6648259894006218,0.665191632292164,0.6394797417342022,0.6667580085445436,0.807391454184247,0.7367377597287363,0.7695660160388834,0.7659428551791465,0.7552907915572282,0.7704437969895934,0.7349795042017601,0.7404816159039629,0.7946489915464615,0.7659380470955423,0.7186769867815469,0.7667520395912787,0.7582977705854566,0.7613455892272769,0.7663610691480354,0.748060857082587,0.7638960932276534,0.737204741844839,0.7750914493012687,0.7755738254456349,0.7934829351645017,0.8278580981805271,0.7921143141573929,0.7786202171488624,0.7281912154971701,0.7808531320817983,0.8090562221881177,0.7922577526085846,0.8357250624460525,0.7943866963242308,0.7860072864981643,0.7399515316283765,0.5433994699983875,0.4900998727144338,0.5616890213985029,0.5816709791775689,0.5728762386676058,0.8948286062552441,0.9999999999999996,0.732394374031177,0.8958236821365702,0.546631404226728,0.6651141103440984,0.5513041353645759,0.6245733790731398,0.670956934921695,0.6323123663360884,0.5236376513752103,0.5313319370323395,0.4480317853390884,0.5586697526056692,0.5167012440754623,0.46653945612350634],[0.6147559233694463,0.5682985085038841,0.5251074089556785,0.5250226760226703,0.6059683391284306,0.6044281880802027,0.6654543844725033,0.6541677432487555,0.6846728920518395,0.651216221689335,0.6751449662254628,0.6272759585862043,0.6646900439409184,0.6550901116648545,0.625304966403799,0.5831358068499506,0.4809898408563596,0.5510723885908803,0.7799553185311092,0.7116365220595191,0.7282978588262449,0.7014579388472243,0.7002414589013418,0.6229495512724237,0.6878508536062522,0.6821891711100608,0.5817691450978655,0.644191534475443,0.7763029519917153,0.6903843397135938,0.7223741983873538,0.6779699870347783,0.6951906795309998,0.7058693433023624,0.6904059649011429,0.7034176228119532,0.7035298661809595,0.752400768835437,0.675328138919413,0.6825400787171195,0.7305328589539142,0.695203288493963,0.7197154544210448,0.6396794846035895,0.664920397168635,0.6740182044549388,0.6528594019592547,0.7496548993431312,0.7021752153743924,0.677966570534212,0.692359552492272,0.7117555125063801,0.7076223141800778,0.7174916205655322,0.7561095187277361,0.737358598810383,0.7793670180796448,0.7894664551172117,0.733969605661558,0.7251027209137717,0.478672011669609,0.5140916877279602,0.508255919964099,0.5323695158928368,0.49680598966769446,0.7479668205028865,0.732394374031177,0.9999999999999988,0.7845552970288154,0.48749942063881196,0.5446793427059055,0.520279475879425,0.5654305792982223,0.5802718025510855,0.56834509034823,0.5173675452066729,0.5702251223847792,0.44755099774488416,0.5549799579040899,0.46785591073815286,0.475276337936949],[0.6117486464422321,0.5724497023430485,0.5595892977402167,0.6393563659652923,0.6099782061064933,0.6824876863846029,0.7201904653570136,0.7025388856706007,0.7351602402644852,0.692994511082933,0.662601078709061,0.6400724333154542,0.6572747261393298,0.7052681216332692,0.6518436001813311,0.6625820793645991,0.6323712410847532,0.590503819101144,0.8075418860271745,0.7244966472398551,0.6905165859864876,0.7494994712941331,0.721767862353244,0.5970743181329815,0.6547767992069984,0.6505905623257761,0.5983878748740555,0.6133135466519359,0.8053047160708648,0.7291565228122958,0.7314024279750551,0.7259184020706622,0.7411676779216977,0.7391765426970295,0.6976019717353075,0.7229042288423092,0.7470502045081479,0.7864050946571081,0.7088268281037104,0.7141896156363818,0.7440888673178913,0.7211051347556994,0.7285039885211883,0.6715453742866284,0.7197272684978404,0.6809007238327425,0.7101184214277227,0.8014486371348977,0.7458684714056303,0.7007064194129651,0.7287702299050582,0.7418582822345248,0.7040176761090764,0.7565250667037547,0.7897705436584785,0.7646839624454363,0.796899037903217,0.8177616915281036,0.7592888187037189,0.6933162113987231,0.5335833961382106,0.47839903333733724,0.4975428470225038,0.5634482532103772,0.5063103091147925,0.8615666670536916,0.8958236821365702,0.7845552970288154,0.9999999999999996,0.49940679729794274,0.6067976153424334,0.5465244427670485,0.6025562739176545,0.6003165667731208,0.5845054856232706,0.5011832405132028,0.48908686635549165,0.39278389213265,0.5368468885458109,0.45793198990665246,0.51266656138486],[0.47930925982894257,0.4381062795780335,0.5396403520212428,0.5206840273929315,0.5430970357067997,0.6218846463713837,0.5539054926067232,0.628651655503903,0.5855774633634259,0.6331750947302858,0.607347908240035,0.6160440479946444,0.6862911737057659,0.6171352760190452,0.5673122859605275,0.530380657993827,0.5041552119117562,0.47831951094582825,0.5836557151306777,0.6151032626278041,0.6559480307820407,0.656606386922134,0.6417768450150373,0.7188823316120816,0.6474068957948007,0.5475879856581373,0.6060344750535732,0.5989003009772,0.7141881174075856,0.6628681158292369,0.6535306554152377,0.6524350867409104,0.6572325274277492,0.7047026786855305,0.6498443168547229,0.7018414233472985,0.6774560926674815,0.6820578200449088,0.6881170198864832,0.7205938602264046,0.7080438443703677,0.7274591742512655,0.7030930584710791,0.5789324425904894,0.5869435408838704,0.5553710022172259,0.6457822435370997,0.6143616731029863,0.6638117145128283,0.6549238744534374,0.7448307887096964,0.6903769709536074,0.6885535438610791,0.6390844202661792,0.6974760931414732,0.6355976608974834,0.6566895917147837,0.6365647196238841,0.6444268868429017,0.6691477791281558,0.6009238380595106,0.615230003968521,0.5677998398387571,0.6717675716257502,0.6408751717572698,0.5338322477808345,0.546631404226728,0.48749942063881196,0.49940679729794274,0.9999999999999997,0.6809947817017553,0.5171326876234618,0.5802196222413504,0.7498623634582942,0.7719326198009306,0.5133320805067045,0.464006980344009,0.4433718672643617,0.5582752361372815,0.6970336613527361,0.5093456840461998],[0.49987095528348596,0.48121137581969753,0.505963884565081,0.5367662299036987,0.4661346028661254,0.678766245156791,0.6345785623024935,0.6672620173401493,0.6499243319656167,0.692804676624901,0.6491328835682638,0.6539211689994079,0.6813030121748005,0.7004300160285282,0.550890980469465,0.5930089703138981,0.534080190675056,0.5202769780395681,0.656425416250107,0.6317446614172694,0.6798516705862857,0.6543646585132751,0.6434304843706037,0.6087780509356747,0.6129943383800898,0.5967199004061068,0.6815835921504709,0.6715196878915713,0.7192018248868716,0.6889034236247654,0.6903363849979376,0.681686482622958,0.6893579398856897,0.7284363322895748,0.6776019084225554,0.7134303241247039,0.708323606077141,0.7114322432567514,0.7057398966831304,0.7298177102213345,0.7138061599279644,0.7311226510237626,0.7390694905557093,0.5666461459292484,0.5800207024584615,0.579232749991225,0.677957471631992,0.6575757809542307,0.7146647445693598,0.6823805766809484,0.7094205376251489,0.7215992092621532,0.6689149453543156,0.6724157092758936,0.7012688698924703,0.6520248983893929,0.6532670289897905,0.6973143908448807,0.6925972385134782,0.702696028869675,0.5729965194658408,0.7115372795681971,0.5787137708092831,0.5843464614523276,0.6031184866555891,0.5972149922750589,0.6651141103440984,0.5446793427059055,0.6067976153424334,0.6809947817017553,0.9999999999999998,0.5305909371192704,0.6361285829711351,0.6761590152114907,0.6796555082935435,0.4921099597451449,0.4701676967518946,0.43182187931330634,0.5130530877104097,0.520427003736905,0.4910980817622586],[0.4590110284760159,0.4251118254749506,0.5902184892974797,0.5218779037188989,0.5569701551379581,0.5845173286220579,0.6044312884455015,0.6378355768211543,0.5725637300121781,0.6074406288546128,0.6169420641951686,0.5791660433803179,0.6225032208323257,0.6080614478060744,0.5644293499055663,0.6056224162401487,0.4659997745436093,0.47166431728888825,0.5888954932118341,0.7104825115272868,0.6303292279559841,0.6670270376354525,0.6136991095037937,0.5665998245663504,0.6865710556449661,0.584896721123736,0.5911319253434096,0.6453499365242873,0.6784396056472134,0.6102525806739579,0.7163390542644107,0.6338335091524393,0.6434828942744841,0.6564555219530491,0.6330226239349651,0.6096527123783183,0.6673660685851511,0.6753370960377856,0.6283396261419747,0.6434258096630996,0.6460934239120119,0.6381172539801842,0.6458047155842963,0.5249472118547649,0.5781647675027752,0.5247630404331827,0.6176860904392303,0.5926899129800932,0.6286361746177357,0.6087019239034913,0.6012659509029135,0.6277093850915122,0.5800855445368559,0.6226294991127523,0.6353582776705425,0.6277917638277903,0.6306714280697069,0.6096321613158054,0.6204665783841546,0.7071616022420535,0.40083808829923107,0.458971909823157,0.514894755488344,0.5386312798128121,0.4796620537095194,0.5308304865675196,0.5513041353645759,0.520279475879425,0.5465244427670485,0.5171326876234618,0.5305909371192704,0.9999999999999996,0.5521948011088242,0.5654955690212342,0.5107301612323691,0.5329498971895715,0.5854168223804243,0.3827435342162659,0.3929987677740479,0.4038844020958031,0.5099276585335344],[0.598306082139379,0.588941523303599,0.6170429581415052,0.5956370171391444,0.5627675234627149,0.6071284585656498,0.5549482628902491,0.6373837986557973,0.649546488786829,0.5717023992231458,0.5492681790471755,0.5796305460041787,0.5951491873041328,0.5818226355740459,0.5247979520666376,0.5709019336033235,0.4805072326970593,0.5274870669592243,0.6652542679053217,0.6406637853676856,0.6653006161042914,0.7092329473213115,0.6427403679188636,0.5743437600374344,0.5934949968563122,0.5800224649777312,0.6569001794584697,0.5905048720884355,0.6762884522359013,0.6005138870220912,0.6593876386787678,0.6100475908645405,0.594196110993627,0.6665992498190351,0.6233533058679234,0.6334120221418483,0.6185884424590868,0.658209757563878,0.6474637862190926,0.6563731710951545,0.6758420994630265,0.6590638054376342,0.678912024760825,0.5895594417768509,0.6508388429077759,0.5962128988069803,0.6418434979062001,0.6181153413207676,0.6287780627004306,0.693601709297449,0.7054632871649312,0.674465390777767,0.620688050739108,0.6085052764250147,0.6862819328925303,0.6413658675447707,0.6571568911721951,0.6488741556491322,0.613962318641857,0.6772451835283262,0.4726031604927935,0.5578360431568209,0.5522203392321237,0.5079336257286939,0.5352956373325094,0.6566064377322387,0.6245733790731398,0.5654305792982223,0.6025562739176545,0.5802196222413504,0.6361285829711351,0.5521948011088242,1.0000000000000002,0.6055267152421404,0.6111231453911091,0.5672745369241214,0.550225527989253,0.4418722412475687,0.4458548859873214,0.4397001158242386,0.6548550804067828],[0.65294955903615,0.598817838857128,0.5864263980551304,0.5658551455436367,0.5743865248655748,0.7186763162784778,0.6582547092547324,0.7073833547773495,0.710268365581751,0.7613373050229918,0.690535029204091,0.7394772474429848,0.7859816083326967,0.7691889415667214,0.6156485058738081,0.6766527418112791,0.5537328936892609,0.5718281090490746,0.657569009331026,0.7325226717608294,0.7300919553945192,0.725106965845891,0.7049130678076507,0.7412730330505221,0.724975734668927,0.6253016942337241,0.7294952335191905,0.7127504782585969,0.7956480063131444,0.7825476800713671,0.784137787802605,0.7737840097893801,0.7786666628158019,0.8196001211913915,0.7584312954944731,0.8016403489649305,0.781391304966151,0.780893476122615,0.7550803813568149,0.8262396946164574,0.773175017029631,0.8289015418367658,0.7864709170273948,0.732352198797776,0.6917947061289655,0.6852467036839814,0.7468126014137894,0.7121475578178377,0.790280589255744,0.7692871776539568,0.8497583695640113,0.8077111187342352,0.7871900279549983,0.7411048654736407,0.7756886886362174,0.7737507575863092,0.7574168312658338,0.7222471159026426,0.7547302747000084,0.7988304811025699,0.6177560432256707,0.5844482899518497,0.6410813263495787,0.6370353536282732,0.6663023764142181,0.657501265184353,0.670956934921695,0.5802718025510855,0.6003165667731208,0.7498623634582942,0.6761590152114907,0.5654955690212342,0.6055267152421404,0.9999999999999996,0.8029788546581198,0.58807267153387,0.5484733143101996,0.46272282788280367,0.68373579718728,0.6094024152758447,0.4999744260126838],[0.6589450767185506,0.591784675416632,0.5429287692543833,0.5365373309897433,0.5666772296421465,0.6928550594076834,0.6128215739223177,0.7049256567408432,0.6570147531154037,0.6571226340650694,0.6380999375684725,0.6487801086228351,0.69532793971471,0.6659256479814758,0.5851692757509239,0.615935320403207,0.5167934352955886,0.5324954482536227,0.6441790211116132,0.7190114834259325,0.7399851838120339,0.7285943514108453,0.682802065964047,0.6221562771583613,0.6661097317016479,0.6022829027532123,0.5988829655517126,0.6443675499530842,0.7609120681572986,0.6910103866995725,0.739547322041047,0.6786700142093091,0.6730711087263735,0.7814467604970563,0.6964137862504212,0.7675898915167193,0.7178440104843211,0.7378129294505246,0.737656987654531,0.7626201442106818,0.733380633012097,0.7511788194301058,0.749670396235487,0.6646825780053102,0.6917660319274043,0.6764436660905137,0.7208954958372856,0.695998495746658,0.7468526754652483,0.7570590928319674,0.7979806483812499,0.7697874543494638,0.7425072364258443,0.7006034330205763,0.7562111187905607,0.7259789506830842,0.7290748080206502,0.7120918602543453,0.6709697948662425,0.7420523611468379,0.6447223834564434,0.5878511334983191,0.632988843212561,0.6021769233834814,0.5662366417904976,0.6746964553754946,0.6323123663360884,0.56834509034823,0.5845054856232706,0.7719326198009306,0.6796555082935435,0.5107301612323691,0.6111231453911091,0.8029788546581198,1.0000000000000004,0.5219199361282486,0.46797769476835016,0.42148084002831177,0.5940424399929882,0.6171281968237203,0.4546713158912233],[0.5202825325258276,0.48343406609185346,0.49183256497782024,0.47276895571687494,0.42504191640675765,0.602795676631733,0.5358518248546369,0.5385423913658878,0.5916082944529844,0.6090041105828301,0.603819233763647,0.613649092012603,0.6375784349576533,0.5978096155977229,0.5124717479726515,0.5865354974483802,0.49349467017500775,0.4507332941901414,0.5785665747267063,0.568759992022237,0.5870651298182442,0.5997502215034571,0.6401287279171047,0.6812925679029587,0.6049393491926697,0.5852021312145999,0.6492661831815293,0.5180283411177885,0.665399210612306,0.6440538976177572,0.6402733566242562,0.6694706490091328,0.6300217717216282,0.679486036298679,0.6117268323931202,0.6939983133908707,0.6519886022401838,0.6154099398443388,0.6858951066052474,0.6303122300224947,0.7206807807530603,0.6550896684807345,0.6856944150756548,0.56153128411082,0.5377339362905226,0.5640951127099951,0.5840243482891891,0.6306498340201173,0.6233356185012854,0.590347162083491,0.6976125950301517,0.6486141773593305,0.6410477186666586,0.5994708603861784,0.6618344406299486,0.591487077466985,0.6111474710317955,0.6414726940757336,0.6161190624952723,0.7218047800792271,0.4600921523096941,0.43571346136290684,0.526845038656691,0.5866234476155987,0.6410085604634089,0.522171142396577,0.5236376513752103,0.5173675452066729,0.5011832405132028,0.5133320805067045,0.4921099597451449,0.5329498971895715,0.5672745369241214,0.58807267153387,0.5219199361282486,1.0,0.7178725579075114,0.4747581595076866,0.4302472588035942,0.5219768573030232,0.552811741640987],[0.43577012043732666,0.4507265208583516,0.43639756221515,0.4310393655306437,0.4207802614267324,0.5427610843147118,0.5145497005789714,0.5078604933216698,0.5676175563998511,0.5447362984835111,0.5985640059832251,0.5603309094005526,0.6131320486849974,0.5652753479776883,0.46496847054871515,0.5323157497166391,0.4471689444051166,0.4398487662961532,0.5408698700039886,0.5754518629880416,0.5272945510050442,0.527543102050917,0.5712164662142785,0.6235046559359878,0.5698575555740801,0.5868095107539242,0.6862225709644454,0.5482690978710584,0.6021707016649813,0.5766975206096508,0.6220694212057002,0.5984763758911641,0.5868419683523293,0.5889689089247601,0.5475196390356254,0.6034261700883761,0.5973135967503361,0.5700776393753393,0.6020926437704983,0.5894947983921113,0.6483368860209634,0.6266733590673266,0.6597578290592478,0.5288963883541108,0.48734898695256534,0.5152889786248,0.5461765498948431,0.5579730034415041,0.5617508016324922,0.5644137278637765,0.609226972855594,0.6202625899080634,0.5900407867010149,0.5303472755872091,0.6037138188661068,0.5505706778955723,0.5819048956955939,0.5738100277098406,0.5919817914295169,0.6818314111145919,0.3954849441079513,0.3842621310009352,0.48770384515690374,0.4815689441049857,0.4763802841098935,0.4588380705457142,0.5313319370323395,0.5702251223847792,0.48908686635549165,0.464006980344009,0.4701676967518946,0.5854168223804243,0.550225527989253,0.5484733143101996,0.46797769476835016,0.7178725579075114,0.9999999999999992,0.42805725490793173,0.5057699369881754,0.4991188348812646,0.4062075468990158],[0.3973323178478216,0.37857576444336055,0.4883719794059421,0.39661494937115727,0.43690337358465364,0.4455844618649959,0.4616494263658909,0.47599094892403776,0.45745516394638,0.5139295180919956,0.5285468969065182,0.5025079968393721,0.5293492281867349,0.4911154234453133,0.40618585031713844,0.4188522913780144,0.2967069070570902,0.4082923970210331,0.423972563173702,0.4595418008937974,0.4982549054600497,0.5178148489838417,0.4864680836692956,0.566076951409082,0.4732532489188131,0.4557123589512806,0.511415151795359,0.4197188349176474,0.5299983673232537,0.4935188435143119,0.5272971599527593,0.5265516711927117,0.5369885755940008,0.5206066039130567,0.5015099090285947,0.5301240524959157,0.5190064895286592,0.5226085734853085,0.5617529024790233,0.5249273811200638,0.5967002674415612,0.5341137882551257,0.546404764722935,0.45477111425857086,0.46686009549007307,0.42993122552341406,0.5038740993251026,0.5049572351251865,0.5141232857184036,0.5032594241690926,0.5127820340118812,0.49454345102766867,0.4896198994242896,0.5036592472521625,0.5308539170953784,0.5028796697821377,0.5066373039066949,0.5167626371678848,0.5105980296213489,0.5327713904770948,0.2919361457101722,0.29311759566818907,0.476638441457107,0.5171549453930646,0.6846648384001869,0.40361836187796185,0.4480317853390884,0.44755099774488416,0.39278389213265,0.4433718672643617,0.43182187931330634,0.3827435342162659,0.4418722412475687,0.46272282788280367,0.42148084002831177,0.4747581595076866,0.42805725490793173,0.9999999999999992,0.33072464825137526,0.3696848368670834,0.3291590538854777],[0.46600923085735935,0.4317825944127207,0.4579167342115717,0.4242339500807129,0.49618241242280486,0.5446561582797194,0.5346956739464322,0.582230712832988,0.5975693755916521,0.5973357128703229,0.5811535333335683,0.5824814152293694,0.6306137969465742,0.6208717551631437,0.5376952919893575,0.5561088528464505,0.5231752428387008,0.45613997483736357,0.5978762376180321,0.5715037293578638,0.6098257173260114,0.5825794433611368,0.6092407607684591,0.674420137691625,0.5929448893947693,0.6344309870436946,0.605564270065378,0.6069996220339172,0.6887224019244008,0.624199637328498,0.6384495541816808,0.6371644304802097,0.634218003716089,0.6656954853660627,0.5880737503979973,0.6387757954595349,0.640826337055468,0.6471115482970115,0.6123348001436143,0.6713687719173951,0.6229688837594279,0.676061551997279,0.612209649414191,0.5896273501883113,0.5574013936165079,0.5440070765100647,0.6421599683296628,0.5684445510647845,0.704453552320206,0.6145282339707825,0.7210740753509839,0.750279897471699,0.6377774938074572,0.6036838736192602,0.6579246255971113,0.6630316870899837,0.6516163719100747,0.610371873876774,0.6376561232527578,0.618076839350022,0.465059971745787,0.4436054026771613,0.4681446908479283,0.47628127142872767,0.4832252608834854,0.5019101245618938,0.5586697526056692,0.5549799579040899,0.5368468885458109,0.5582752361372815,0.5130530877104097,0.3929987677740479,0.4458548859873214,0.68373579718728,0.5940424399929882,0.4302472588035942,0.5057699369881754,0.33072464825137526,0.999999999999999,0.7321665396581587,0.33127011738105616],[0.38848959984245546,0.381991804400311,0.46637860445340545,0.4275359828871799,0.4827229177510741,0.48734529106052743,0.4969682927971223,0.5861136249927185,0.599005309077744,0.5725822165293836,0.6090019778656405,0.5516620120016978,0.675022477331277,0.596143569154173,0.5267158646025334,0.552235305186229,0.48493040487390754,0.4052565113361962,0.5289550283390511,0.5815116739097707,0.595473279941122,0.568492120401426,0.5705138755599732,0.6857360183167486,0.6150002397450528,0.6503805063758015,0.5839127381769298,0.5627802647443355,0.6448419329734877,0.6152379609788474,0.611522530306559,0.6269588097763996,0.593257708090961,0.6395203709381173,0.5768874473715999,0.6098515326671768,0.6444153538556003,0.6158056072258508,0.5836876518501593,0.6565411790149499,0.5984739134694155,0.6754541367615013,0.6064355755014333,0.5332398666377903,0.5026379263477123,0.4943354052590653,0.620987745804546,0.5561890855220981,0.6340340150112712,0.589032667036179,0.6896351475425054,0.6821231829200354,0.6276537039138748,0.5838137857460669,0.648188411059394,0.5901227044105598,0.6003722171694043,0.5878711693153235,0.5903487715360826,0.6194902847192693,0.4808037625194781,0.42507338301982844,0.536112589028485,0.5473460129162792,0.5492059323073057,0.44337790303384916,0.5167012440754623,0.46785591073815286,0.45793198990665246,0.6970336613527361,0.520427003736905,0.4038844020958031,0.4397001158242386,0.6094024152758447,0.6171281968237203,0.5219768573030232,0.4991188348812646,0.3696848368670834,0.7321665396581587,1.0000000000000004,0.44062526856458717],[0.3826706891295026,0.41162307724255565,0.4888338855526725,0.512983343950161,0.4871386402887736,0.46400978353980116,0.43323820202569807,0.4607078562041313,0.5043392568456571,0.510326471488536,0.4763476111575283,0.4571468737691422,0.5414964434875862,0.5057971207142101,0.4612616436237628,0.5537619665027443,0.4219499229740781,0.42643383447675315,0.5703770525298072,0.5186153458824144,0.51381308404598,0.5923569835266275,0.5531566550046976,0.47822213474505004,0.49623986948453686,0.5261627568655923,0.4837644392823128,0.4596541259863821,0.560785396156725,0.5324474660084988,0.5670231490059272,0.5363879552266662,0.5135281975928032,0.5452969143254063,0.5006690395821274,0.503077951406322,0.5464606458443836,0.558098065863371,0.4871924513436481,0.51720982342229,0.5340797608666151,0.5246054712240772,0.5134020646519825,0.43112907686964547,0.5127206855410642,0.43550409831871284,0.47049066048786264,0.513307877957461,0.48686014084228635,0.4769942627781991,0.5419712130125927,0.5196315917971691,0.4999062080751059,0.47539361488379234,0.553521550682024,0.48478410033848757,0.5271385486921023,0.5473130047528804,0.49552643908501687,0.624847017979427,0.45816324743101067,0.4579622728221797,0.4467993266524588,0.6205696871741861,0.46112016673053263,0.48662158079953255,0.46653945612350634,0.475276337936949,0.51266656138486,0.5093456840461998,0.4910980817622586,0.5099276585335344,0.6548550804067828,0.4999744260126838,0.4546713158912233,0.552811741640987,0.4062075468990158,0.3291590538854777,0.33127011738105616,0.44062526856458717,0.9999999999999988]],\"type\":\"heatmap\",\"xaxis\":\"x\",\"yaxis\":\"y\",\"hovertemplate\":\"x: %{x}<br>y: %{y}<br>Similarity Score: %{z}<extra></extra>\"}],                        {\"template\":{\"data\":{\"bar\":[{\"error_x\":{\"color\":\"#2a3f5f\"},\"error_y\":{\"color\":\"#2a3f5f\"},\"marker\":{\"line\":{\"color\":\"#E5ECF6\",\"width\":0.5},\"pattern\":{\"fillmode\":\"overlay\",\"size\":10,\"solidity\":0.2}},\"type\":\"bar\"}],\"barpolar\":[{\"marker\":{\"line\":{\"color\":\"#E5ECF6\",\"width\":0.5},\"pattern\":{\"fillmode\":\"overlay\",\"size\":10,\"solidity\":0.2}},\"type\":\"barpolar\"}],\"carpet\":[{\"aaxis\":{\"endlinecolor\":\"#2a3f5f\",\"gridcolor\":\"white\",\"linecolor\":\"white\",\"minorgridcolor\":\"white\",\"startlinecolor\":\"#2a3f5f\"},\"baxis\":{\"endlinecolor\":\"#2a3f5f\",\"gridcolor\":\"white\",\"linecolor\":\"white\",\"minorgridcolor\":\"white\",\"startlinecolor\":\"#2a3f5f\"},\"type\":\"carpet\"}],\"choropleth\":[{\"colorbar\":{\"outlinewidth\":0,\"ticks\":\"\"},\"type\":\"choropleth\"}],\"contour\":[{\"colorbar\":{\"outlinewidth\":0,\"ticks\":\"\"},\"colorscale\":[[0.0,\"#0d0887\"],[0.1111111111111111,\"#46039f\"],[0.2222222222222222,\"#7201a8\"],[0.3333333333333333,\"#9c179e\"],[0.4444444444444444,\"#bd3786\"],[0.5555555555555556,\"#d8576b\"],[0.6666666666666666,\"#ed7953\"],[0.7777777777777778,\"#fb9f3a\"],[0.8888888888888888,\"#fdca26\"],[1.0,\"#f0f921\"]],\"type\":\"contour\"}],\"contourcarpet\":[{\"colorbar\":{\"outlinewidth\":0,\"ticks\":\"\"},\"type\":\"contourcarpet\"}],\"heatmap\":[{\"colorbar\":{\"outlinewidth\":0,\"ticks\":\"\"},\"colorscale\":[[0.0,\"#0d0887\"],[0.1111111111111111,\"#46039f\"],[0.2222222222222222,\"#7201a8\"],[0.3333333333333333,\"#9c179e\"],[0.4444444444444444,\"#bd3786\"],[0.5555555555555556,\"#d8576b\"],[0.6666666666666666,\"#ed7953\"],[0.7777777777777778,\"#fb9f3a\"],[0.8888888888888888,\"#fdca26\"],[1.0,\"#f0f921\"]],\"type\":\"heatmap\"}],\"heatmapgl\":[{\"colorbar\":{\"outlinewidth\":0,\"ticks\":\"\"},\"colorscale\":[[0.0,\"#0d0887\"],[0.1111111111111111,\"#46039f\"],[0.2222222222222222,\"#7201a8\"],[0.3333333333333333,\"#9c179e\"],[0.4444444444444444,\"#bd3786\"],[0.5555555555555556,\"#d8576b\"],[0.6666666666666666,\"#ed7953\"],[0.7777777777777778,\"#fb9f3a\"],[0.8888888888888888,\"#fdca26\"],[1.0,\"#f0f921\"]],\"type\":\"heatmapgl\"}],\"histogram\":[{\"marker\":{\"pattern\":{\"fillmode\":\"overlay\",\"size\":10,\"solidity\":0.2}},\"type\":\"histogram\"}],\"histogram2d\":[{\"colorbar\":{\"outlinewidth\":0,\"ticks\":\"\"},\"colorscale\":[[0.0,\"#0d0887\"],[0.1111111111111111,\"#46039f\"],[0.2222222222222222,\"#7201a8\"],[0.3333333333333333,\"#9c179e\"],[0.4444444444444444,\"#bd3786\"],[0.5555555555555556,\"#d8576b\"],[0.6666666666666666,\"#ed7953\"],[0.7777777777777778,\"#fb9f3a\"],[0.8888888888888888,\"#fdca26\"],[1.0,\"#f0f921\"]],\"type\":\"histogram2d\"}],\"histogram2dcontour\":[{\"colorbar\":{\"outlinewidth\":0,\"ticks\":\"\"},\"colorscale\":[[0.0,\"#0d0887\"],[0.1111111111111111,\"#46039f\"],[0.2222222222222222,\"#7201a8\"],[0.3333333333333333,\"#9c179e\"],[0.4444444444444444,\"#bd3786\"],[0.5555555555555556,\"#d8576b\"],[0.6666666666666666,\"#ed7953\"],[0.7777777777777778,\"#fb9f3a\"],[0.8888888888888888,\"#fdca26\"],[1.0,\"#f0f921\"]],\"type\":\"histogram2dcontour\"}],\"mesh3d\":[{\"colorbar\":{\"outlinewidth\":0,\"ticks\":\"\"},\"type\":\"mesh3d\"}],\"parcoords\":[{\"line\":{\"colorbar\":{\"outlinewidth\":0,\"ticks\":\"\"}},\"type\":\"parcoords\"}],\"pie\":[{\"automargin\":true,\"type\":\"pie\"}],\"scatter\":[{\"marker\":{\"colorbar\":{\"outlinewidth\":0,\"ticks\":\"\"}},\"type\":\"scatter\"}],\"scatter3d\":[{\"line\":{\"colorbar\":{\"outlinewidth\":0,\"ticks\":\"\"}},\"marker\":{\"colorbar\":{\"outlinewidth\":0,\"ticks\":\"\"}},\"type\":\"scatter3d\"}],\"scattercarpet\":[{\"marker\":{\"colorbar\":{\"outlinewidth\":0,\"ticks\":\"\"}},\"type\":\"scattercarpet\"}],\"scattergeo\":[{\"marker\":{\"colorbar\":{\"outlinewidth\":0,\"ticks\":\"\"}},\"type\":\"scattergeo\"}],\"scattergl\":[{\"marker\":{\"colorbar\":{\"outlinewidth\":0,\"ticks\":\"\"}},\"type\":\"scattergl\"}],\"scattermapbox\":[{\"marker\":{\"colorbar\":{\"outlinewidth\":0,\"ticks\":\"\"}},\"type\":\"scattermapbox\"}],\"scatterpolar\":[{\"marker\":{\"colorbar\":{\"outlinewidth\":0,\"ticks\":\"\"}},\"type\":\"scatterpolar\"}],\"scatterpolargl\":[{\"marker\":{\"colorbar\":{\"outlinewidth\":0,\"ticks\":\"\"}},\"type\":\"scatterpolargl\"}],\"scatterternary\":[{\"marker\":{\"colorbar\":{\"outlinewidth\":0,\"ticks\":\"\"}},\"type\":\"scatterternary\"}],\"surface\":[{\"colorbar\":{\"outlinewidth\":0,\"ticks\":\"\"},\"colorscale\":[[0.0,\"#0d0887\"],[0.1111111111111111,\"#46039f\"],[0.2222222222222222,\"#7201a8\"],[0.3333333333333333,\"#9c179e\"],[0.4444444444444444,\"#bd3786\"],[0.5555555555555556,\"#d8576b\"],[0.6666666666666666,\"#ed7953\"],[0.7777777777777778,\"#fb9f3a\"],[0.8888888888888888,\"#fdca26\"],[1.0,\"#f0f921\"]],\"type\":\"surface\"}],\"table\":[{\"cells\":{\"fill\":{\"color\":\"#EBF0F8\"},\"line\":{\"color\":\"white\"}},\"header\":{\"fill\":{\"color\":\"#C8D4E3\"},\"line\":{\"color\":\"white\"}},\"type\":\"table\"}]},\"layout\":{\"annotationdefaults\":{\"arrowcolor\":\"#2a3f5f\",\"arrowhead\":0,\"arrowwidth\":1},\"autotypenumbers\":\"strict\",\"coloraxis\":{\"colorbar\":{\"outlinewidth\":0,\"ticks\":\"\"}},\"colorscale\":{\"diverging\":[[0,\"#8e0152\"],[0.1,\"#c51b7d\"],[0.2,\"#de77ae\"],[0.3,\"#f1b6da\"],[0.4,\"#fde0ef\"],[0.5,\"#f7f7f7\"],[0.6,\"#e6f5d0\"],[0.7,\"#b8e186\"],[0.8,\"#7fbc41\"],[0.9,\"#4d9221\"],[1,\"#276419\"]],\"sequential\":[[0.0,\"#0d0887\"],[0.1111111111111111,\"#46039f\"],[0.2222222222222222,\"#7201a8\"],[0.3333333333333333,\"#9c179e\"],[0.4444444444444444,\"#bd3786\"],[0.5555555555555556,\"#d8576b\"],[0.6666666666666666,\"#ed7953\"],[0.7777777777777778,\"#fb9f3a\"],[0.8888888888888888,\"#fdca26\"],[1.0,\"#f0f921\"]],\"sequentialminus\":[[0.0,\"#0d0887\"],[0.1111111111111111,\"#46039f\"],[0.2222222222222222,\"#7201a8\"],[0.3333333333333333,\"#9c179e\"],[0.4444444444444444,\"#bd3786\"],[0.5555555555555556,\"#d8576b\"],[0.6666666666666666,\"#ed7953\"],[0.7777777777777778,\"#fb9f3a\"],[0.8888888888888888,\"#fdca26\"],[1.0,\"#f0f921\"]]},\"colorway\":[\"#636efa\",\"#EF553B\",\"#00cc96\",\"#ab63fa\",\"#FFA15A\",\"#19d3f3\",\"#FF6692\",\"#B6E880\",\"#FF97FF\",\"#FECB52\"],\"font\":{\"color\":\"#2a3f5f\"},\"geo\":{\"bgcolor\":\"white\",\"lakecolor\":\"white\",\"landcolor\":\"#E5ECF6\",\"showlakes\":true,\"showland\":true,\"subunitcolor\":\"white\"},\"hoverlabel\":{\"align\":\"left\"},\"hovermode\":\"closest\",\"mapbox\":{\"style\":\"light\"},\"paper_bgcolor\":\"white\",\"plot_bgcolor\":\"#E5ECF6\",\"polar\":{\"angularaxis\":{\"gridcolor\":\"white\",\"linecolor\":\"white\",\"ticks\":\"\"},\"bgcolor\":\"#E5ECF6\",\"radialaxis\":{\"gridcolor\":\"white\",\"linecolor\":\"white\",\"ticks\":\"\"}},\"scene\":{\"xaxis\":{\"backgroundcolor\":\"#E5ECF6\",\"gridcolor\":\"white\",\"gridwidth\":2,\"linecolor\":\"white\",\"showbackground\":true,\"ticks\":\"\",\"zerolinecolor\":\"white\"},\"yaxis\":{\"backgroundcolor\":\"#E5ECF6\",\"gridcolor\":\"white\",\"gridwidth\":2,\"linecolor\":\"white\",\"showbackground\":true,\"ticks\":\"\",\"zerolinecolor\":\"white\"},\"zaxis\":{\"backgroundcolor\":\"#E5ECF6\",\"gridcolor\":\"white\",\"gridwidth\":2,\"linecolor\":\"white\",\"showbackground\":true,\"ticks\":\"\",\"zerolinecolor\":\"white\"}},\"shapedefaults\":{\"line\":{\"color\":\"#2a3f5f\"}},\"ternary\":{\"aaxis\":{\"gridcolor\":\"white\",\"linecolor\":\"white\",\"ticks\":\"\"},\"baxis\":{\"gridcolor\":\"white\",\"linecolor\":\"white\",\"ticks\":\"\"},\"bgcolor\":\"#E5ECF6\",\"caxis\":{\"gridcolor\":\"white\",\"linecolor\":\"white\",\"ticks\":\"\"}},\"title\":{\"x\":0.05},\"xaxis\":{\"automargin\":true,\"gridcolor\":\"white\",\"linecolor\":\"white\",\"ticks\":\"\",\"title\":{\"standoff\":15},\"zerolinecolor\":\"white\",\"zerolinewidth\":2},\"yaxis\":{\"automargin\":true,\"gridcolor\":\"white\",\"linecolor\":\"white\",\"ticks\":\"\",\"title\":{\"standoff\":15},\"zerolinecolor\":\"white\",\"zerolinewidth\":2}}},\"xaxis\":{\"anchor\":\"y\",\"domain\":[0.0,1.0],\"scaleanchor\":\"y\",\"constrain\":\"domain\"},\"yaxis\":{\"anchor\":\"x\",\"domain\":[0.0,1.0],\"autorange\":\"reversed\",\"constrain\":\"domain\"},\"coloraxis\":{\"colorbar\":{\"title\":{\"text\":\"Similarity Score\"}},\"colorscale\":[[0.0,\"rgb(247,252,240)\"],[0.125,\"rgb(224,243,219)\"],[0.25,\"rgb(204,235,197)\"],[0.375,\"rgb(168,221,181)\"],[0.5,\"rgb(123,204,196)\"],[0.625,\"rgb(78,179,211)\"],[0.75,\"rgb(43,140,190)\"],[0.875,\"rgb(8,104,172)\"],[1.0,\"rgb(8,64,129)\"]]},\"margin\":{\"t\":60},\"title\":{\"font\":{\"size\":22,\"color\":\"Black\"},\"text\":\"<b>Similarity Matrix\",\"y\":0.95,\"x\":0.55,\"xanchor\":\"center\",\"yanchor\":\"top\"},\"hoverlabel\":{\"font\":{\"size\":16,\"family\":\"Rockwell\"},\"bgcolor\":\"white\"},\"width\":800,\"height\":800,\"showlegend\":true,\"legend\":{\"title\":{\"text\":\"Trend\"}}},                        {\"responsive\": true}                    ).then(function(){\n",
              "                            \n",
              "var gd = document.getElementById('61d82fbf-2493-433a-97d0-cb2dbdcb9348');\n",
              "var x = new MutationObserver(function (mutations, observer) {{\n",
              "        var display = window.getComputedStyle(gd).display;\n",
              "        if (!display || display === 'none') {{\n",
              "            console.log([gd, 'removed!']);\n",
              "            Plotly.purge(gd);\n",
              "            observer.disconnect();\n",
              "        }}\n",
              "}});\n",
              "\n",
              "// Listen for the removal of the full notebook cells\n",
              "var notebookContainer = gd.closest('#notebook-container');\n",
              "if (notebookContainer) {{\n",
              "    x.observe(notebookContainer, {childList: true});\n",
              "}}\n",
              "\n",
              "// Listen for the clearing of the current output cell\n",
              "var outputEl = gd.closest('.output');\n",
              "if (outputEl) {{\n",
              "    x.observe(outputEl, {childList: true});\n",
              "}}\n",
              "\n",
              "                        })                };                            </script>        </div>\n",
              "</body>\n",
              "</html>"
            ]
          },
          "metadata": {}
        }
      ]
    },
    {
      "cell_type": "markdown",
      "source": [
        "#### **Save Similarity Matrix**"
      ],
      "metadata": {
        "id": "CF3QJy6epmQY"
      }
    },
    {
      "cell_type": "code",
      "source": [
        "# Set the path to save \n",
        "path = WORK_DIR + f'results/{DATA_FRAME_FEATURE_NAME}/similarity_matrix/'\n",
        "\n",
        "# Use makedirs() to create a new directory if it does not exists\n",
        "if not os.path.exists(path):\n",
        "  os.makedirs(path)\n",
        "\n",
        "\n",
        "fig.write_image(path + \"sm_preprocessed_lemma.png\", format=\"png\")"
      ],
      "metadata": {
        "id": "VQOAZurPprA4"
      },
      "execution_count": null,
      "outputs": []
    },
    {
      "cell_type": "markdown",
      "source": [
        "[Github link](https://github.com/punkmic/Topic-Modeling-Reclame-Aqui/blob/master/results/similarity_matrix/sm_preprocessed_lemma.png?raw=true)"
      ],
      "metadata": {
        "id": "y1pa1kWApYgp"
      }
    },
    {
      "cell_type": "markdown",
      "source": [
        "### **Visualize Term Score Decline**\n",
        "\n",
        "Topics are represented by a number of words starting with the best representative word. Each word is represented by a c-TF-IDF score. The higher the score, the more representative a word to the topic is. Since the topic words are sorted by their c-TF-IDF score, the scores slowly decline with each word that is added."
      ],
      "metadata": {
        "id": "vd41xsx7Xhgj"
      }
    },
    {
      "cell_type": "code",
      "source": [
        "fig = topic_model.visualize_term_rank()\n",
        "fig"
      ],
      "metadata": {
        "id": "Rw1wXTEtX967",
        "outputId": "0fe9c8e1-7372-4e4b-d096-7d21a661215f",
        "colab": {
          "base_uri": "https://localhost:8080/",
          "height": 517
        }
      },
      "execution_count": null,
      "outputs": [
        {
          "output_type": "display_data",
          "data": {
            "text/html": [
              "<html>\n",
              "<head><meta charset=\"utf-8\" /></head>\n",
              "<body>\n",
              "    <div>            <script src=\"https://cdnjs.cloudflare.com/ajax/libs/mathjax/2.7.5/MathJax.js?config=TeX-AMS-MML_SVG\"></script><script type=\"text/javascript\">if (window.MathJax) {MathJax.Hub.Config({SVG: {font: \"STIX-Web\"}});}</script>                <script type=\"text/javascript\">window.PlotlyConfig = {MathJaxConfig: 'local'};</script>\n",
              "        <script src=\"https://cdn.plot.ly/plotly-2.8.3.min.js\"></script>                <div id=\"3d48b13a-4885-488a-b2b3-c7c4eb92187a\" class=\"plotly-graph-div\" style=\"height:500px; width:800px;\"></div>            <script type=\"text/javascript\">                                    window.PLOTLYENV=window.PLOTLYENV || {};                                    if (document.getElementById(\"3d48b13a-4885-488a-b2b3-c7c4eb92187a\")) {                    Plotly.newPlot(                        \"3d48b13a-4885-488a-b2b3-c7c4eb92187a\",                        [{\"hovertext\":\"<b>Topic -1</b>:entregar_produto_pedir_compra_faze\",\"line\":{\"color\":\"black\",\"width\":1.5},\"mode\":\"lines+lines\",\"name\":\"\",\"opacity\":0.1,\"x\":[1,2,3,4,5,6,7,8,9,10],\"y\":[0.01049308470984783,0.010119816948584734,0.009615582752856257,0.008784457610483265,0.008109942037260764,0.008081185259998857,0.007442287802961395,0.0074337735263269615,0.007416083214632584,0.007182046875591557],\"type\":\"scatter\"},{\"hovertext\":\"<b>Topic 0</b>:cart\\u00e3o_cr\\u00e9dito_cobrar_cobran\\u00e7a_fatu\",\"line\":{\"color\":\"black\",\"width\":1.5},\"mode\":\"lines+lines\",\"name\":\"\",\"opacity\":0.1,\"x\":[1,2,3,4,5,6,7,8,9,10],\"y\":[0.05592131108166056,0.02875922894774029,0.01990638777896304,0.019223991786533376,0.01785393229944193,0.01729279951139605,0.01683850004718759,0.01490484401160435,0.014199756821180872,0.013543214202596642],\"type\":\"scatter\"},{\"hovertext\":\"<b>Topic 1</b>:celular_aparelho_smartphone_comprar\",\"line\":{\"color\":\"black\",\"width\":1.5},\"mode\":\"lines+lines\",\"name\":\"\",\"opacity\":0.1,\"x\":[1,2,3,4,5,6,7,8,9,10],\"y\":[0.04338205324746702,0.01954683569128237,0.014290945782451657,0.011505396649212405,0.010021079179990303,0.009699111211062046,0.009159540508538263,0.009013836654759725,0.008825455771400028,0.00876064088298482],\"type\":\"scatter\"},{\"hovertext\":\"<b>Topic 2</b>:cancelamento_cancelar_pedir_solicit\",\"line\":{\"color\":\"black\",\"width\":1.5},\"mode\":\"lines+lines\",\"name\":\"\",\"opacity\":0.1,\"x\":[1,2,3,4,5,6,7,8,9,10],\"y\":[0.04029542877882243,0.03165634324556861,0.016368621233917757,0.014749585899995034,0.013291960751965684,0.013178554378029325,0.012223503012742646,0.011739052554198938,0.011350332098587712,0.00999053086437686],\"type\":\"scatter\"},{\"hovertext\":\"<b>Topic 3</b>:whatsapp_contato_atendimento_entreg\",\"line\":{\"color\":\"black\",\"width\":1.5},\"mode\":\"lines+lines\",\"name\":\"\",\"opacity\":0.1,\"x\":[1,2,3,4,5,6,7,8,9,10],\"y\":[0.04755522463168637,0.014952629984801444,0.010983636521074506,0.01098191099116304,0.010654452401116378,0.01039602333030447,0.010317570190467452,0.00994116649690398,0.009627012500949236,0.008818102766369424],\"type\":\"scatter\"},{\"hovertext\":\"<b>Topic 4</b>:brasil_brasileiro_chegar_pedir_comp\",\"line\":{\"color\":\"black\",\"width\":1.5},\"mode\":\"lines+lines\",\"name\":\"\",\"opacity\":0.1,\"x\":[1,2,3,4,5,6,7,8,9,10],\"y\":[0.04735351799245061,0.012572303750098707,0.00919563708415373,0.009116532489995431,0.008264690711687365,0.008225575459121774,0.007704093818999465,0.0075290087164202185,0.007465598220028706,0.007427590465363751],\"type\":\"scatter\"},{\"hovertext\":\"<b>Topic 5</b>:novembro_dezembro_outubro_chegar_pr\",\"line\":{\"color\":\"black\",\"width\":1.5},\"mode\":\"lines+lines\",\"name\":\"\",\"opacity\":0.1,\"x\":[1,2,3,4,5,6,7,8,9,10],\"y\":[0.07108213835633813,0.033586801950136545,0.02348418800309927,0.02328811962677115,0.020129270630288087,0.019948917068456477,0.017557138770940128,0.017489290514595652,0.015845210306794092,0.015462555435011927],\"type\":\"scatter\"},{\"hovertext\":\"<b>Topic 6</b>:conta_email_senha_acessar_acesso_co\",\"line\":{\"color\":\"black\",\"width\":1.5},\"mode\":\"lines+lines\",\"name\":\"\",\"opacity\":0.1,\"x\":[1,2,3,4,5,6,7,8,9,10],\"y\":[0.04702099215755797,0.04100978324529309,0.03894717816659942,0.03760737529853085,0.034702345854259166,0.033746999955247735,0.020922804099539616,0.020748915341895234,0.020142368441339396,0.01931913696296435],\"type\":\"scatter\"},{\"hovertext\":\"<b>Topic 7</b>:roupa_cal\\u00e7a_vestir_tamanho_camisa_d\",\"line\":{\"color\":\"black\",\"width\":1.5},\"mode\":\"lines+lines\",\"name\":\"\",\"opacity\":0.1,\"x\":[1,2,3,4,5,6,7,8,9,10],\"y\":[0.059277437044097395,0.053355522582220774,0.04887449934459176,0.024079381234711917,0.02211236994164703,0.021367660596580684,0.017268461731272416,0.016754067352968853,0.016584277456235273,0.01638573678936728],\"type\":\"scatter\"},{\"hovertext\":\"<b>Topic 8</b>:loja_magalu_entrar_produto_contato_\",\"line\":{\"color\":\"black\",\"width\":1.5},\"mode\":\"lines+lines\",\"name\":\"\",\"opacity\":0.1,\"x\":[1,2,3,4,5,6,7,8,9,10],\"y\":[0.011709061230009712,0.010752576161251831,0.008521438890679503,0.008483864002370587,0.00846383582268413,0.008155887183444835,0.00805204793631772,0.0077927031313317595,0.007672742472391116,0.0075897630102917755],\"type\":\"scatter\"},{\"hovertext\":\"<b>Topic 9</b>:iphone_aparelho_celular_carregador_\",\"line\":{\"color\":\"black\",\"width\":1.5},\"mode\":\"lines+lines\",\"name\":\"\",\"opacity\":0.1,\"x\":[1,2,3,4,5,6,7,8,9,10],\"y\":[0.07047402540161242,0.021983194104190466,0.013289212142736578,0.012792747338287367,0.01089826548391714,0.010591195752622158,0.010013623864433465,0.009998973622703269,0.009774614608747604,0.00932909395096407],\"type\":\"scatter\"},{\"hovertext\":\"<b>Topic 10</b>:dinheiro_reembolso_voltar_devolver\",\"line\":{\"color\":\"black\",\"width\":1.5},\"mode\":\"lines+lines\",\"name\":\"\",\"opacity\":0.1,\"x\":[1,2,3,4,5,6,7,8,9,10],\"y\":[0.05198322338593897,0.038429210987715796,0.032007612909730414,0.024685437169516253,0.023322684014129604,0.021516339822122692,0.02085143725693356,0.020690882965602182,0.020561285892271405,0.02025045569994609],\"type\":\"scatter\"},{\"hovertext\":\"<b>Topic 11</b>:black_friday_promo\\u00e7\\u00e3o_oferta_desco\",\"line\":{\"color\":\"black\",\"width\":1.5},\"mode\":\"lines+lines\",\"name\":\"\",\"opacity\":0.1,\"x\":[1,2,3,4,5,6,7,8,9,10],\"y\":[0.042206711835241426,0.03812851221753674,0.02155948046185511,0.01643948004704311,0.016083202834225152,0.013753680652230106,0.012851809560620334,0.012737014277448198,0.012104235038111918,0.01176561608083707],\"type\":\"scatter\"},{\"hovertext\":\"<b>Topic 12</b>:pedir_encomenda_entregar_recebi_sa\",\"line\":{\"color\":\"black\",\"width\":1.5},\"mode\":\"lines+lines\",\"name\":\"\",\"opacity\":0.1,\"x\":[1,2,3,4,5,6,7,8,9,10],\"y\":[0.0356831243093163,0.031962821511673074,0.029253986462040124,0.02684528771950545,0.02498902325234623,0.022942414998500263,0.022432381593794036,0.021191762266527824,0.01806011583930421,0.01799039519322915],\"type\":\"scatter\"},{\"hovertext\":\"<b>Topic 13</b>:jogo_lan\\u00e7amento_ragnarok_pr\\u00e9venda_\",\"line\":{\"color\":\"black\",\"width\":1.5},\"mode\":\"lines+lines\",\"name\":\"\",\"opacity\":0.1,\"x\":[1,2,3,4,5,6,7,8,9,10],\"y\":[0.11472291233955698,0.07394340611626564,0.04478107272191179,0.029924147526669907,0.0246209399088785,0.019612845349780257,0.01846656067663565,0.0168870868785329,0.0164138745667588,0.015363278812440576],\"type\":\"scatter\"},{\"hovertext\":\"<b>Topic 14</b>:geladeira_refrigerador_geladeiro_t\",\"line\":{\"color\":\"black\",\"width\":1.5},\"mode\":\"lines+lines\",\"name\":\"\",\"opacity\":0.1,\"x\":[1,2,3,4,5,6,7,8,9,10],\"y\":[0.11006546783306202,0.02915822806649153,0.02170833637852719,0.018346270784719548,0.015402419371527318,0.014419041835025096,0.013267040228933933,0.012140828950243085,0.01203059747775414,0.011193372862529546],\"type\":\"scatter\"},{\"hovertext\":\"<b>Topic 15</b>:endere\\u00e7o_pedir_remetente_pedido_en\",\"line\":{\"color\":\"black\",\"width\":1.5},\"mode\":\"lines+lines\",\"name\":\"\",\"opacity\":0.1,\"x\":[1,2,3,4,5,6,7,8,9,10],\"y\":[0.06948028237543645,0.030882671233508338,0.02771594175170238,0.023800527573346646,0.020542466191712752,0.01783942397618101,0.017544160498207353,0.017421920078292817,0.01677189171247889,0.016047362830035168],\"type\":\"scatter\"},{\"hovertext\":\"<b>Topic 16</b>:previs\\u00e3o_entregar_data_pedir_produ\",\"line\":{\"color\":\"black\",\"width\":1.5},\"mode\":\"lines+lines\",\"name\":\"\",\"opacity\":0.1,\"x\":[1,2,3,4,5,6,7,8,9,10],\"y\":[0.04905934295194746,0.022960315551108303,0.02007278347823545,0.017170950687339544,0.016882616912780028,0.014982696030413745,0.014348984111111629,0.01388415320661466,0.013584480284564864,0.013550235286613936],\"type\":\"scatter\"},{\"hovertext\":\"<b>Topic 17</b>:ariano_infra\\u00e7\\u00e3o_reclama\\u00e7\\u00e3o_an\\u00fancio\",\"line\":{\"color\":\"black\",\"width\":1.5},\"mode\":\"lines+lines\",\"name\":\"\",\"opacity\":0.1,\"x\":[1,2,3,4,5,6,7,8,9,10],\"y\":[0.04768253281284985,0.024297042357145075,0.018018799810106047,0.01735247483706838,0.01617083219901332,0.01549168924049975,0.01515382870241492,0.011827734116815482,0.011239708710634315,0.010421175039779214],\"type\":\"scatter\"},{\"hovertext\":\"<b>Topic 18</b>:boneca_falar_esperar_dia_novembro_\",\"line\":{\"color\":\"black\",\"width\":1.5},\"mode\":\"lines+lines\",\"name\":\"\",\"opacity\":0.1,\"x\":[1,2,3,4,5,6,7,8,9,10],\"y\":[0.019377221668093542,0.016068115496778588,0.012674048535864117,0.010911010635896792,0.010873187006736755,0.010345894401809875,0.010298450346865485,0.009858768847828499,0.009622148666348878,0.009454075847189639],\"type\":\"scatter\"},{\"hovertext\":\"<b>Topic 19</b>:livro_compr_dois_hoje_enviar_pedir\",\"line\":{\"color\":\"black\",\"width\":1.5},\"mode\":\"lines+lines\",\"name\":\"\",\"opacity\":0.1,\"x\":[1,2,3,4,5,6,7,8,9,10],\"y\":[0.17520003153512737,0.014489206611853524,0.012525015998178032,0.012334092096401841,0.01089360657479479,0.010655477438080051,0.010618916860724545,0.01030676973001602,0.009954801333399635,0.009788978221194502],\"type\":\"scatter\"},{\"hovertext\":\"<b>Topic 20</b>:aplicativo_reembolso_compra_recebi\",\"line\":{\"color\":\"black\",\"width\":1.5},\"mode\":\"lines+lines\",\"name\":\"\",\"opacity\":0.1,\"x\":[1,2,3,4,5,6,7,8,9,10],\"y\":[0.09962893469207021,0.027428813251938394,0.023131458270571423,0.020779382173569116,0.019554190146007008,0.016489802838224085,0.016187686173737278,0.015809198653141086,0.015546279862230707,0.015500799226527591],\"type\":\"scatter\"},{\"hovertext\":\"<b>Topic 21</b>:pagamento_boleto_paguei_comprovant\",\"line\":{\"color\":\"black\",\"width\":1.5},\"mode\":\"lines+lines\",\"name\":\"\",\"opacity\":0.1,\"x\":[1,2,3,4,5,6,7,8,9,10],\"y\":[0.07655479743502486,0.057406157998779433,0.03606575559514907,0.03217685508234188,0.031849763537349,0.0286524163859947,0.0196361573482879,0.0194432229240529,0.01933720591192714,0.018679134900300272],\"type\":\"scatter\"},{\"hovertext\":\"<b>Topic 22</b>:t\\u00eanis_mizuno_tenis_wave_azul_mirai\",\"line\":{\"color\":\"black\",\"width\":1.5},\"mode\":\"lines+lines\",\"name\":\"\",\"opacity\":0.1,\"x\":[1,2,3,4,5,6,7,8,9,10],\"y\":[0.14287499194075456,0.030421284284306134,0.02562358274685923,0.02357471504350564,0.019866328090218602,0.018453096698319814,0.018039364846344413,0.017589293073344954,0.015553976905462568,0.014736545702360087],\"type\":\"scatter\"},{\"hovertext\":\"<b>Topic 23</b>:nota_valor_desconto_fiscal_emitir_\",\"line\":{\"color\":\"black\",\"width\":1.5},\"mode\":\"lines+lines\",\"name\":\"\",\"opacity\":0.1,\"x\":[1,2,3,4,5,6,7,8,9,10],\"y\":[0.03424478260354609,0.027204618834753624,0.026825103609346607,0.025078517479619117,0.02162995244597925,0.019589887015554433,0.018674628044510866,0.01764253911397834,0.01663439921808524,0.016405128757671097],\"type\":\"scatter\"},{\"hovertext\":\"<b>Topic 24</b>:cobran\\u00e7a_amazoncombr_digital_amazo\",\"line\":{\"color\":\"black\",\"width\":1.5},\"mode\":\"lines+lines\",\"name\":\"\",\"opacity\":0.1,\"x\":[1,2,3,4,5,6,7,8,9,10],\"y\":[0.12278700917694398,0.10644314695723804,0.06765290285827302,0.04102607820780207,0.040595492088505936,0.04045462697956971,0.038249941486812135,0.037295156080583015,0.0321648075341278,0.03198782363609974],\"type\":\"scatter\"},{\"hovertext\":\"<b>Topic 25</b>:curitiba_tr\\u00e2nsito_parado_cidade_at\",\"line\":{\"color\":\"black\",\"width\":1.5},\"mode\":\"lines+lines\",\"name\":\"\",\"opacity\":0.1,\"x\":[1,2,3,4,5,6,7,8,9,10],\"y\":[0.240223825819633,0.050194491342217366,0.04476412690769859,0.04006350334513339,0.039452768322340584,0.032917177078183396,0.031724720675767,0.03138701358683391,0.03008218956804816,0.0299779079739307],\"type\":\"scatter\"},{\"hovertext\":\"<b>Topic 26</b>:prime_v\\u00eddeo_assinatura_assistir_cu\",\"line\":{\"color\":\"black\",\"width\":1.5},\"mode\":\"lines+lines\",\"name\":\"\",\"opacity\":0.1,\"x\":[1,2,3,4,5,6,7,8,9,10],\"y\":[0.12327427741168798,0.09487911627518512,0.05774140692273424,0.051358672344149196,0.050737657557736786,0.04932025295711779,0.0423861333747061,0.037228261400096586,0.0370149998269454,0.033615277494131984],\"type\":\"scatter\"},{\"hovertext\":\"<b>Topic 27</b>:rob\\u00f4_aspirador_arranhador_comedour\",\"line\":{\"color\":\"black\",\"width\":1.5},\"mode\":\"lines+lines\",\"name\":\"\",\"opacity\":0.1,\"x\":[1,2,3,4,5,6,7,8,9,10],\"y\":[0.1045826749989127,0.032838595175604085,0.018061067005598692,0.01652896716937405,0.01652896716937405,0.016327695482065866,0.014838978636027199,0.013568808716899345,0.013008261132574674,0.01288679669499592],\"type\":\"scatter\"},{\"hovertext\":\"<b>Topic 28</b>:lavar_m\\u00e1quina_roupa_maquina_seca_a\",\"line\":{\"color\":\"black\",\"width\":1.5},\"mode\":\"lines+lines\",\"name\":\"\",\"opacity\":0.1,\"x\":[1,2,3,4,5,6,7,8,9,10],\"y\":[0.09101357797480006,0.08362283017721796,0.03429252137557332,0.024256621704980795,0.021849839101978106,0.015637426274097185,0.013961545936569971,0.013805419652037857,0.012534216664696472,0.012353321365391204],\"type\":\"scatter\"},{\"hovertext\":\"<b>Topic 29</b>:rastreio_c\\u00f3digo_rastreamento_inspe\",\"line\":{\"color\":\"black\",\"width\":1.5},\"mode\":\"lines+lines\",\"name\":\"\",\"opacity\":0.1,\"x\":[1,2,3,4,5,6,7,8,9,10],\"y\":[0.10862382439438549,0.10079623717637311,0.0843868174647604,0.04235610912012445,0.032638027668490215,0.031112156629894132,0.027908059569262397,0.026485740687255743,0.025608994775135015,0.025122001032452223],\"type\":\"scatter\"},{\"hovertext\":\"<b>Topic 30</b>:mercadoria_produto_constar_derrete\",\"line\":{\"color\":\"black\",\"width\":1.5},\"mode\":\"lines+lines\",\"name\":\"\",\"opacity\":0.1,\"x\":[1,2,3,4,5,6,7,8,9,10],\"y\":[0.047895102736784774,0.03719520006892195,0.03522982011733524,0.032232831502639364,0.03175829881370549,0.030800602043462067,0.026956380178638994,0.026489746707476915,0.024819894540487105,0.024697599507092927],\"type\":\"scatter\"},{\"hovertext\":\"<b>Topic 31</b>:televis\\u00e3o_monitor_televisor_defeit\",\"line\":{\"color\":\"black\",\"width\":1.5},\"mode\":\"lines+lines\",\"name\":\"\",\"opacity\":0.1,\"x\":[1,2,3,4,5,6,7,8,9,10],\"y\":[0.09118045791834012,0.04904081938923255,0.02311981843807266,0.02066489955964162,0.017501310722165687,0.01706428067913462,0.015511467985549974,0.01478602020297407,0.014648161690920909,0.013911979469734066],\"type\":\"scatter\"},{\"hovertext\":\"<b>Topic 32</b>:contato_entregar_entrar_vendedor_p\",\"line\":{\"color\":\"black\",\"width\":1.5},\"mode\":\"lines+lines\",\"name\":\"\",\"opacity\":0.1,\"x\":[1,2,3,4,5,6,7,8,9,10],\"y\":[0.013527137099669042,0.013324250295091872,0.013200147614938765,0.012653093088835294,0.012457913229750976,0.012366595213843453,0.011964556822170081,0.01187094490283505,0.011757570659241184,0.011499366397159988],\"type\":\"scatter\"},{\"hovertext\":\"<b>Topic 33</b>:vir_garrafa_caixa_copo_derramar_ga\",\"line\":{\"color\":\"black\",\"width\":1.5},\"mode\":\"lines+lines\",\"name\":\"\",\"opacity\":0.1,\"x\":[1,2,3,4,5,6,7,8,9,10],\"y\":[0.04643130535100022,0.04447605167931362,0.037833527774593145,0.03382200575323433,0.03332232939844923,0.029208002863113196,0.028272634625221477,0.02819532656866188,0.02627219622690841,0.023216357785751787],\"type\":\"scatter\"},{\"hovertext\":\"<b>Topic 34</b>:juliana_fraga_m\\u00e1rcia_produto_loja_\",\"line\":{\"color\":\"black\",\"width\":1.5},\"mode\":\"lines+lines\",\"name\":\"\",\"opacity\":0.1,\"x\":[1,2,3,4,5,6,7,8,9,10],\"y\":[0.01738227261570621,0.014437915789486918,0.01241998694201474,0.012356875588995711,0.012320950350875196,0.011825893395889625,0.0114152861503796,0.010834593537468478,0.01049973439276486,0.010340366809723906],\"type\":\"scatter\"},{\"hovertext\":\"<b>Topic 35</b>:notebook_dell_intel_core_loja_reti\",\"line\":{\"color\":\"black\",\"width\":1.5},\"mode\":\"lines+lines\",\"name\":\"\",\"opacity\":0.1,\"x\":[1,2,3,4,5,6,7,8,9,10],\"y\":[0.10015264476510208,0.024925425568034926,0.018301636393406213,0.017330746713232367,0.015005215819622265,0.014839190144938086,0.013112030721872186,0.012529881862751807,0.012197862521466544,0.012031061952720048],\"type\":\"scatter\"},{\"hovertext\":\"<b>Topic 36</b>:china_nacional_correios_chegar_bra\",\"line\":{\"color\":\"black\",\"width\":1.5},\"mode\":\"lines+lines\",\"name\":\"\",\"opacity\":0.1,\"x\":[1,2,3,4,5,6,7,8,9,10],\"y\":[0.13830827571996449,0.037322192670152896,0.02288635766565832,0.021963133200995275,0.020073585184918558,0.019516132515619854,0.01756701824764392,0.016832350062470844,0.01651522229270359,0.015382978885152825],\"type\":\"scatter\"},{\"hovertext\":\"<b>Topic 37</b>:foto_c\\u00e2merar_placa_c\\u00e2mera_devolu\\u00e7\\u00e3\",\"line\":{\"color\":\"black\",\"width\":1.5},\"mode\":\"lines+lines\",\"name\":\"\",\"opacity\":0.1,\"x\":[1,2,3,4,5,6,7,8,9,10],\"y\":[0.037885532334967296,0.03584795357460507,0.027701789586855385,0.024555862430984413,0.02161469398915752,0.021025105710349577,0.016007138802425575,0.015761706894321426,0.015248377749541004,0.013503805582894168],\"type\":\"scatter\"},{\"hovertext\":\"<b>Topic 38</b>:devolu\\u00e7\\u00e3o_postagem_solicitei_corre\",\"line\":{\"color\":\"black\",\"width\":1.5},\"mode\":\"lines+lines\",\"name\":\"\",\"opacity\":0.1,\"x\":[1,2,3,4,5,6,7,8,9,10],\"y\":[0.093482614991235,0.048137548309743504,0.028865535948845958,0.02765290258239239,0.023087845426603665,0.021012545918589986,0.02087250117947488,0.02000379522591507,0.018696239527526366,0.018435830023590023],\"type\":\"scatter\"},{\"hovertext\":\"<b>Topic 39</b>:internacional_nacional_processamen\",\"line\":{\"color\":\"black\",\"width\":1.5},\"mode\":\"lines+lines\",\"name\":\"\",\"opacity\":0.1,\"x\":[1,2,3,4,5,6,7,8,9,10],\"y\":[0.11481542390597117,0.09849028571898616,0.03358871518549622,0.027045897994199847,0.023642844382402092,0.02209764057842919,0.021785903061091738,0.019843186511979718,0.017833954048793985,0.017429246077887716],\"type\":\"scatter\"},{\"hovertext\":\"<b>Topic 40</b>:bluetooth_fone_controle_devolu\\u00e7\\u00e3o_\",\"line\":{\"color\":\"black\",\"width\":1.5},\"mode\":\"lines+lines\",\"name\":\"\",\"opacity\":0.1,\"x\":[1,2,3,4,5,6,7,8,9,10],\"y\":[0.08021956893856551,0.04240608772935082,0.01953157144157542,0.01927336205728726,0.018347750608862165,0.017254332583102668,0.016572734479973164,0.015284483323484458,0.013992776439681737,0.013961504235252479],\"type\":\"scatter\"},{\"hovertext\":\"<b>Topic 41</b>:prazo_atraso_cumprir_data_entregar\",\"line\":{\"color\":\"black\",\"width\":1.5},\"mode\":\"lines+lines\",\"name\":\"\",\"opacity\":0.1,\"x\":[1,2,3,4,5,6,7,8,9,10],\"y\":[0.03735187517695422,0.0321981298850033,0.02562553672314204,0.023922661194075785,0.02051720519813939,0.01718532692224184,0.01594089706585713,0.014619560189862059,0.014266748250681187,0.012945233198823342],\"type\":\"scatter\"},{\"hovertext\":\"<b>Topic 42</b>:cadeira_montar_gamer_cadeiro_mesa_\",\"line\":{\"color\":\"black\",\"width\":1.5},\"mode\":\"lines+lines\",\"name\":\"\",\"opacity\":0.1,\"x\":[1,2,3,4,5,6,7,8,9,10],\"y\":[0.19567493830941868,0.025103143550487334,0.02263044317761116,0.021698948382692006,0.02122673547482192,0.02048476630415317,0.017935980405806233,0.017359158706153604,0.017248662111726258,0.016144912078478502],\"type\":\"scatter\"},{\"hovertext\":\"<b>Topic 43</b>:coleira_tamanho_empresa_endere\\u00e7o_s\",\"line\":{\"color\":\"black\",\"width\":1.5},\"mode\":\"lines+lines\",\"name\":\"\",\"opacity\":0.1,\"x\":[1,2,3,4,5,6,7,8,9,10],\"y\":[0.04083967315139495,0.02712312493742044,0.019618064112636568,0.017670268379833532,0.015516240493884241,0.014656851788213928,0.013734663084688702,0.013564189739333852,0.01311342105641485,0.01310567819184413],\"type\":\"scatter\"},{\"hovertext\":\"<b>Topic 44</b>:entregar_ligar_ningu\\u00e9m_portaria_en\",\"line\":{\"color\":\"black\",\"width\":1.5},\"mode\":\"lines+lines\",\"name\":\"\",\"opacity\":0.1,\"x\":[1,2,3,4,5,6,7,8,9,10],\"y\":[0.028772924940945452,0.023575631478216275,0.022236565851518918,0.021998280654650388,0.020701906408160033,0.016991087318383096,0.016985419681402807,0.015801496484893613,0.015537781450145876,0.015035369600917513],\"type\":\"scatter\"},{\"hovertext\":\"<b>Topic 45</b>:gr\\u00e1tis_frete_anunciar_an\\u00fancio_valo\",\"line\":{\"color\":\"black\",\"width\":1.5},\"mode\":\"lines+lines\",\"name\":\"\",\"opacity\":0.1,\"x\":[1,2,3,4,5,6,7,8,9,10],\"y\":[0.06520373732260115,0.061170878882688684,0.03082428638711278,0.030498654631705386,0.027397680895900785,0.02531874720888405,0.02342823542193931,0.02166657066889151,0.02166657066889151,0.021589116390502563],\"type\":\"scatter\"},{\"hovertext\":\"<b>Topic 46</b>:bicicleta_bike_capacete_compr_filh\",\"line\":{\"color\":\"black\",\"width\":1.5},\"mode\":\"lines+lines\",\"name\":\"\",\"opacity\":0.1,\"x\":[1,2,3,4,5,6,7,8,9,10],\"y\":[0.10064658443100634,0.027820740090775717,0.02508877500383086,0.022844008438501654,0.019981660996997032,0.017220391999663576,0.017078167824096657,0.015302326873589251,0.014353176235535982,0.013202903588023509],\"type\":\"scatter\"},{\"hovertext\":\"<b>Topic 47</b>:cashback_valor_extrato_futuro_digi\",\"line\":{\"color\":\"black\",\"width\":1.5},\"mode\":\"lines+lines\",\"name\":\"\",\"opacity\":0.1,\"x\":[1,2,3,4,5,6,7,8,9,10],\"y\":[0.22014224391363518,0.04739831381105288,0.03958808229388378,0.027903813933658764,0.026455351615401638,0.023913719579201458,0.022333271121673135,0.021727767280625723,0.019472135822716813,0.019136034897294527],\"type\":\"scatter\"},{\"hovertext\":\"<b>Topic 48</b>:pessoa_assador_ningu\\u00e9m_atendimento\",\"line\":{\"color\":\"black\",\"width\":1.5},\"mode\":\"lines+lines\",\"name\":\"\",\"opacity\":0.1,\"x\":[1,2,3,4,5,6,7,8,9,10],\"y\":[0.025147914610025864,0.02084628877131693,0.01976152161933239,0.01873605077633642,0.017707085633904166,0.0176083461801869,0.017467712856569825,0.016907634296035385,0.01570097617535589,0.015275419184145643],\"type\":\"scatter\"},{\"hovertext\":\"<b>Topic 49</b>:site_paguei_produto_ganhar_dinheir\",\"line\":{\"color\":\"black\",\"width\":1.5},\"mode\":\"lines+lines\",\"name\":\"\",\"opacity\":0.1,\"x\":[1,2,3,4,5,6,7,8,9,10],\"y\":[0.050206475117020685,0.02504837191248249,0.024620528863512712,0.02431721507823271,0.02354126400103631,0.020391268866812844,0.020239479859369507,0.020003412129869086,0.01810151113904596,0.016644743017522962],\"type\":\"scatter\"},{\"hovertext\":\"<b>Topic 50</b>:aplicativo_entregar_compra_saber_d\",\"line\":{\"color\":\"black\",\"width\":1.5},\"mode\":\"lines+lines\",\"name\":\"\",\"opacity\":0.1,\"x\":[1,2,3,4,5,6,7,8,9,10],\"y\":[0.08351079362030879,0.022247065714756018,0.020262598896736258,0.017681965113825346,0.015776158256587014,0.015540857138073717,0.015384554298279262,0.015283534079603499,0.014202272836703389,0.013531269256410744],\"type\":\"scatter\"},{\"hovertext\":\"<b>Topic 51</b>:m\\u00fasica_music_ouvir_tocar_m\\u00fasico_pr\",\"line\":{\"color\":\"black\",\"width\":1.5},\"mode\":\"lines+lines\",\"name\":\"\",\"opacity\":0.1,\"x\":[1,2,3,4,5,6,7,8,9,10],\"y\":[0.13554492192509948,0.11620329944288116,0.07063287204564209,0.06166972965097779,0.05491602356050483,0.051975295231596254,0.04621194024030028,0.04383586495179322,0.03703392736948649,0.03570229680822866],\"type\":\"scatter\"},{\"hovertext\":\"<b>Topic 52</b>:reconhecimento_facial_rosto_senha_\",\"line\":{\"color\":\"black\",\"width\":1.5},\"mode\":\"lines+lines\",\"name\":\"\",\"opacity\":0.1,\"x\":[1,2,3,4,5,6,7,8,9,10],\"y\":[0.15692294436462437,0.15428419826688394,0.07303358635756614,0.04782675264808483,0.04214621223263098,0.03854479088007441,0.0362389822795615,0.02697460727592743,0.02609463364903421,0.025902519828367464],\"type\":\"scatter\"},{\"hovertext\":\"<b>Topic 53</b>:sof\\u00e1_mobly_magalu_reclin\\u00e1vel_tecid\",\"line\":{\"color\":\"black\",\"width\":1.5},\"mode\":\"lines+lines\",\"name\":\"\",\"opacity\":0.1,\"x\":[1,2,3,4,5,6,7,8,9,10],\"y\":[0.14772796606815644,0.02942350000623008,0.02512586255944343,0.017277050284003417,0.01497584139360685,0.014728111460984381,0.014264630303894856,0.013903994317366856,0.013417103707986244,0.013301463281136919],\"type\":\"scatter\"},{\"hovertext\":\"<b>Topic 54</b>:contato_efetuar_mensagem_produto_s\",\"line\":{\"color\":\"black\",\"width\":1.5},\"mode\":\"lines+lines\",\"name\":\"\",\"opacity\":0.1,\"x\":[1,2,3,4,5,6,7,8,9,10],\"y\":[0.022012453482901217,0.018977812369718877,0.01696713374535265,0.016784220907013227,0.016510612006244305,0.01617620730476193,0.015959791204304307,0.015706144028438975,0.014954397124207415,0.014432604634509271],\"type\":\"scatter\"},{\"hovertext\":\"<b>Topic 55</b>:transportadora_entregar_hoje_motel\",\"line\":{\"color\":\"black\",\"width\":1.5},\"mode\":\"lines+lines\",\"name\":\"\",\"opacity\":0.1,\"x\":[1,2,3,4,5,6,7,8,9,10],\"y\":[0.050583303686975556,0.02450849089720802,0.02302673732000124,0.021441576239919224,0.021045428138341996,0.017588519560903633,0.016715693107520524,0.016078276314238638,0.015343725378930091,0.01522415936211745],\"type\":\"scatter\"},{\"hovertext\":\"<b>Topic 56</b>:produto_separa\\u00e7\\u00e3o_estoque_entregar\",\"line\":{\"color\":\"black\",\"width\":1.5},\"mode\":\"lines+lines\",\"name\":\"\",\"opacity\":0.1,\"x\":[1,2,3,4,5,6,7,8,9,10],\"y\":[0.026948258463131747,0.021707925142000494,0.020009806791961456,0.018675504290420728,0.017959516160028752,0.0176569606830173,0.017166582995848993,0.015986778625423022,0.01587280639820554,0.015124543917566947],\"type\":\"scatter\"},{\"hovertext\":\"<b>Topic 57</b>:ningu\\u00e9m_nada_pedir_mandar_entregar\",\"line\":{\"color\":\"black\",\"width\":1.5},\"mode\":\"lines+lines\",\"name\":\"\",\"opacity\":0.1,\"x\":[1,2,3,4,5,6,7,8,9,10],\"y\":[0.08731863848292326,0.060841122312627734,0.03887130723729645,0.03660862666628517,0.0347648124028743,0.03471835488817123,0.029754361262909524,0.029754361262909524,0.029754361262909524,0.029754361262909524],\"type\":\"scatter\"},{\"hovertext\":\"<b>Topic 58</b>:endere\\u00e7o_terceiro_goi\\u00e2nia_sheim_er\",\"line\":{\"color\":\"black\",\"width\":1.5},\"mode\":\"lines+lines\",\"name\":\"\",\"opacity\":0.1,\"x\":[1,2,3,4,5,6,7,8,9,10],\"y\":[0.10191040689756341,0.03148071414597419,0.03003870372996799,0.02944202387704032,0.02738249658668754,0.026026945124433747,0.025134064870668257,0.02228836877450315,0.022245004068065177,0.02074970337785048],\"type\":\"scatter\"},{\"hovertext\":\"<b>Topic 59</b>:cama_comprei_colch\\u00e3o_edredom_pe\\u00e7a_\",\"line\":{\"color\":\"black\",\"width\":1.5},\"mode\":\"lines+lines\",\"name\":\"\",\"opacity\":0.1,\"x\":[1,2,3,4,5,6,7,8,9,10],\"y\":[0.19537998321410127,0.03849567773066337,0.03600438822373865,0.03163286218018524,0.028458683006369556,0.027532603918487494,0.02590054332152676,0.025504817143303053,0.022887238381823976,0.018831057892623494],\"type\":\"scatter\"},{\"hovertext\":\"<b>Topic 60</b>:carrinho_pr\\u00e9dio_traseira_querer_to\",\"line\":{\"color\":\"black\",\"width\":1.5},\"mode\":\"lines+lines\",\"name\":\"\",\"opacity\":0.1,\"x\":[1,2,3,4,5,6,7,8,9,10],\"y\":[0.02705280150618404,0.02098261615058132,0.018567416299431466,0.016683483962332053,0.016417032854457298,0.014896702864229543,0.014460295782662006,0.014218855842590208,0.014136250025865731,0.012905645184232109],\"type\":\"scatter\"},{\"hovertext\":\"<b>Topic 61</b>:pneu_pastilha_pirelli_dur\\u00e1vel_cole\",\"line\":{\"color\":\"black\",\"width\":1.5},\"mode\":\"lines+lines\",\"name\":\"\",\"opacity\":0.1,\"x\":[1,2,3,4,5,6,7,8,9,10],\"y\":[0.20645869301364742,0.04057734226013471,0.028981605504635424,0.028401016141589547,0.02825025702449761,0.027599795616229585,0.025323451070149758,0.022423675913230984,0.022423675913230984,0.020218844286577164],\"type\":\"scatter\"},{\"hovertext\":\"<b>Topic 62</b>:microondas_eletrotrader_microondo_\",\"line\":{\"color\":\"black\",\"width\":1.5},\"mode\":\"lines+lines\",\"name\":\"\",\"opacity\":0.1,\"x\":[1,2,3,4,5,6,7,8,9,10],\"y\":[0.1706117628430829,0.021384014961422795,0.01952414913966331,0.01919344637332159,0.018412722742322096,0.017653058432224627,0.017081926244715596,0.016619088651710974,0.016351464574645085,0.01601640292900693],\"type\":\"scatter\"},{\"hovertext\":\"<b>Topic 63</b>:perfume_embalagem_refresh_comfort_\",\"line\":{\"color\":\"black\",\"width\":1.5},\"mode\":\"lines+lines\",\"name\":\"\",\"opacity\":0.1,\"x\":[1,2,3,4,5,6,7,8,9,10],\"y\":[0.17440543853184867,0.031993824156797225,0.02852926060778971,0.02744432284726258,0.02719373195379682,0.02542808977675284,0.02520083001075485,0.023795739951045735,0.02330385173477036,0.021992755438995388],\"type\":\"scatter\"},{\"hovertext\":\"<b>Topic 64</b>:chat_servi\\u00e7o_falar_contato_ocupar_\",\"line\":{\"color\":\"black\",\"width\":1.5},\"mode\":\"lines+lines\",\"name\":\"\",\"opacity\":0.1,\"x\":[1,2,3,4,5,6,7,8,9,10],\"y\":[0.04182711317316064,0.02698527880298427,0.01903516075105502,0.018617738163678767,0.018594857618689817,0.017809785774003,0.016908073508319677,0.016607245085989555,0.016106718561081947,0.015858263088170323],\"type\":\"scatter\"},{\"hovertext\":\"<b>Topic 65</b>:liquidificador_piscina_oster_tampa\",\"line\":{\"color\":\"black\",\"width\":1.5},\"mode\":\"lines+lines\",\"name\":\"\",\"opacity\":0.1,\"x\":[1,2,3,4,5,6,7,8,9,10],\"y\":[0.10374217057876375,0.03439983802059498,0.026584792948004962,0.023467953353351306,0.02235606637098028,0.019600468639897242,0.018760533660297084,0.018007671545632657,0.017395542966770833,0.01726994587859005],\"type\":\"scatter\"},{\"hovertext\":\"<b>Topic 66</b>:mouse_teclado_combo_logitech_gamer\",\"line\":{\"color\":\"black\",\"width\":1.5},\"mode\":\"lines+lines\",\"name\":\"\",\"opacity\":0.1,\"x\":[1,2,3,4,5,6,7,8,9,10],\"y\":[0.16531228926124947,0.154331238594279,0.029707923298928688,0.02470715726285946,0.018810234019708345,0.018611087787686897,0.018071472364852494,0.017664145002486618,0.01699239615543127,0.01690037682456291],\"type\":\"scatter\"},{\"hovertext\":\"<b>Topic 67</b>:esposo_marido_evid\\u00eancia_gente_rasu\",\"line\":{\"color\":\"black\",\"width\":1.5},\"mode\":\"lines+lines\",\"name\":\"\",\"opacity\":0.1,\"x\":[1,2,3,4,5,6,7,8,9,10],\"y\":[0.07490265314774074,0.027163701168842314,0.020765131323041964,0.02018418915026244,0.018920535803159128,0.017274930058253167,0.017274930058253167,0.016469084799530492,0.015909340827943947,0.015350790299950578],\"type\":\"scatter\"},{\"hovertext\":\"<b>Topic 68</b>:shampoo_cabelo_natural_metade_dani\",\"line\":{\"color\":\"black\",\"width\":1.5},\"mode\":\"lines+lines\",\"name\":\"\",\"opacity\":0.1,\"x\":[1,2,3,4,5,6,7,8,9,10],\"y\":[0.12777331932125086,0.1118929780766707,0.04621666982626213,0.043332251277887306,0.03574991693874,0.032949614136302895,0.03259334854972195,0.030270853783028545,0.029393157096420635,0.029393157096420635],\"type\":\"scatter\"},{\"hovertext\":\"<b>Topic 69</b>:atraso_cadeirinha_semana_atrasar_g\",\"line\":{\"color\":\"black\",\"width\":1.5},\"mode\":\"lines+lines\",\"name\":\"\",\"opacity\":0.1,\"x\":[1,2,3,4,5,6,7,8,9,10],\"y\":[0.06909278278049248,0.054582522631283305,0.05177833613859142,0.050442562887962686,0.047874240959212194,0.03696234611874814,0.03519723222563688,0.03519723222563688,0.03519723222563688,0.03519723222563688],\"type\":\"scatter\"},{\"hovertext\":\"<b>Topic 70</b>:frete_oralb_porcar_presentear_dent\",\"line\":{\"color\":\"black\",\"width\":1.5},\"mode\":\"lines+lines\",\"name\":\"\",\"opacity\":0.1,\"x\":[1,2,3,4,5,6,7,8,9,10],\"y\":[0.044027928874824075,0.027949282712736813,0.0276965510846801,0.02502615026882361,0.024736054522816023,0.024096938554004767,0.022362992385876107,0.021973188636696558,0.020826636682143435,0.02045601575495436],\"type\":\"scatter\"},{\"hovertext\":\"<b>Topic 71</b>:secador_chegar_bagun\\u00e7a_colocar_dob\",\"line\":{\"color\":\"black\",\"width\":1.5},\"mode\":\"lines+lines\",\"name\":\"\",\"opacity\":0.1,\"x\":[1,2,3,4,5,6,7,8,9,10],\"y\":[0.03069813176667303,0.026586950716994278,0.026502915560160024,0.02466491051784482,0.023216243269602047,0.02149323615268731,0.020252158636827902,0.020191651592348033,0.02005531769562269,0.02002464353362591],\"type\":\"scatter\"},{\"hovertext\":\"<b>Topic 72</b>:novembro_correios_agosto_recebi_ag\",\"line\":{\"color\":\"black\",\"width\":1.5},\"mode\":\"lines+lines\",\"name\":\"\",\"opacity\":0.1,\"x\":[1,2,3,4,5,6,7,8,9,10],\"y\":[0.03362582207678251,0.0311334679307203,0.03066514470436896,0.028195638035516717,0.023312947206967888,0.02318038523601661,0.02294943659967503,0.020982161991408805,0.020949027466861087,0.02086390151206427],\"type\":\"scatter\"},{\"hovertext\":\"<b>Topic 73</b>:forno_fogao_fog\\u00e3o_el\\u00e9trico_embutir\",\"line\":{\"color\":\"black\",\"width\":1.5},\"mode\":\"lines+lines\",\"name\":\"\",\"opacity\":0.1,\"x\":[1,2,3,4,5,6,7,8,9,10],\"y\":[0.21668478201543842,0.05704114160411438,0.0536384870388171,0.05362364518215716,0.04278085620308578,0.0336139643405879,0.03113824484568389,0.02534385378933017,0.02504967866788491,0.023614574863837265],\"type\":\"scatter\"},{\"hovertext\":\"<b>Topic 74</b>:amazoncombr_fiscal_nota_moda_amazo\",\"line\":{\"color\":\"black\",\"width\":1.5},\"mode\":\"lines+lines\",\"name\":\"\",\"opacity\":0.1,\"x\":[1,2,3,4,5,6,7,8,9,10],\"y\":[0.04307947216008316,0.0358593822679953,0.0326440548452921,0.02213866393484744,0.01952339601257351,0.01952339601257351,0.018814394771915027,0.01829554726238112,0.017825356751285742,0.01683242031345921],\"type\":\"scatter\"},{\"hovertext\":\"<b>Topic 75</b>:jogo_panelo_panele_panelas_tramont\",\"line\":{\"color\":\"black\",\"width\":1.5},\"mode\":\"lines+lines\",\"name\":\"\",\"opacity\":0.1,\"x\":[1,2,3,4,5,6,7,8,9,10],\"y\":[0.19711039621275295,0.1157611687778659,0.07948355797294626,0.07704672720221384,0.0666191398606495,0.05540635331439572,0.051541990505623275,0.051541990505623275,0.047314312172167604,0.047314312172167604],\"type\":\"scatter\"},{\"hovertext\":\"<b>Topic 76</b>:l\\u00e2mpada_lampada_an\\u00fancio_l\\u00e2mpado_po\",\"line\":{\"color\":\"black\",\"width\":1.5},\"mode\":\"lines+lines\",\"name\":\"\",\"opacity\":0.1,\"x\":[1,2,3,4,5,6,7,8,9,10],\"y\":[0.14531533977962405,0.08284540711444169,0.08034570363408065,0.07774936145323563,0.04932060334737721,0.04796226663075637,0.03976142259822537,0.03905957776841887,0.0376129745483848,0.03642924522739917],\"type\":\"scatter\"},{\"hovertext\":\"<b>Topic 77</b>:https_lepsably_wwwamericanasentreg\",\"line\":{\"color\":\"black\",\"width\":1.5},\"mode\":\"lines+lines\",\"name\":\"\",\"opacity\":0.1,\"x\":[1,2,3,4,5,6,7,8,9,10],\"y\":[0.16248576103338666,0.04181388752299208,0.04181388752299208,0.039686373023959436,0.039686373023959436,0.038177142018501746,0.03699211855469952,0.03161006084135697,0.029244706080357518,0.02475638914049622],\"type\":\"scatter\"},{\"hovertext\":\"<b>Topic 78</b>:amazoncom_norte_email_ingl\\u00eas_amazo\",\"line\":{\"color\":\"black\",\"width\":1.5},\"mode\":\"lines+lines\",\"name\":\"\",\"opacity\":0.1,\"x\":[1,2,3,4,5,6,7,8,9,10],\"y\":[0.08903535658222757,0.03981730012090234,0.037281060740284734,0.03548693491109931,0.02752049787262098,0.02747512457836539,0.024076221904392275,0.022899587023917933,0.021704182328882313,0.0213406474378547],\"type\":\"scatter\"},{\"hovertext\":\"<b>Topic 79</b>:carta_gritar_ninguem_algum_alexa_m\",\"line\":{\"color\":\"black\",\"width\":1.5},\"mode\":\"lines+lines\",\"name\":\"\",\"opacity\":0.1,\"x\":[1,2,3,4,5,6,7,8,9,10],\"y\":[0.07146866777308357,0.06111726628345367,0.05343767285390818,0.045789913724735905,0.04081213152007879,0.04002992894540487,0.03936529774594885,0.0355569814074966,0.03221588242901165,0.032186697633234146],\"type\":\"scatter\"},{\"hovertext\":\"<b>Topic 80</b>:condom\\u00ednio_associar_extremamente_e\",\"line\":{\"color\":\"black\",\"width\":1.5},\"mode\":\"lines+lines\",\"name\":\"\",\"opacity\":0.1,\"x\":[1,2,3,4,5,6,7,8,9,10],\"y\":[0.028693498846802824,0.02540843321736408,0.025352255230234898,0.02390579361148375,0.023039786589459155,0.021993656859966376,0.02041482908407941,0.020339493601811108,0.019766461260108677,0.0194137200168311],\"type\":\"scatter\"}],                        {\"template\":{\"data\":{\"barpolar\":[{\"marker\":{\"line\":{\"color\":\"white\",\"width\":0.5},\"pattern\":{\"fillmode\":\"overlay\",\"size\":10,\"solidity\":0.2}},\"type\":\"barpolar\"}],\"bar\":[{\"error_x\":{\"color\":\"#2a3f5f\"},\"error_y\":{\"color\":\"#2a3f5f\"},\"marker\":{\"line\":{\"color\":\"white\",\"width\":0.5},\"pattern\":{\"fillmode\":\"overlay\",\"size\":10,\"solidity\":0.2}},\"type\":\"bar\"}],\"carpet\":[{\"aaxis\":{\"endlinecolor\":\"#2a3f5f\",\"gridcolor\":\"#C8D4E3\",\"linecolor\":\"#C8D4E3\",\"minorgridcolor\":\"#C8D4E3\",\"startlinecolor\":\"#2a3f5f\"},\"baxis\":{\"endlinecolor\":\"#2a3f5f\",\"gridcolor\":\"#C8D4E3\",\"linecolor\":\"#C8D4E3\",\"minorgridcolor\":\"#C8D4E3\",\"startlinecolor\":\"#2a3f5f\"},\"type\":\"carpet\"}],\"choropleth\":[{\"colorbar\":{\"outlinewidth\":0,\"ticks\":\"\"},\"type\":\"choropleth\"}],\"contourcarpet\":[{\"colorbar\":{\"outlinewidth\":0,\"ticks\":\"\"},\"type\":\"contourcarpet\"}],\"contour\":[{\"colorbar\":{\"outlinewidth\":0,\"ticks\":\"\"},\"colorscale\":[[0.0,\"#0d0887\"],[0.1111111111111111,\"#46039f\"],[0.2222222222222222,\"#7201a8\"],[0.3333333333333333,\"#9c179e\"],[0.4444444444444444,\"#bd3786\"],[0.5555555555555556,\"#d8576b\"],[0.6666666666666666,\"#ed7953\"],[0.7777777777777778,\"#fb9f3a\"],[0.8888888888888888,\"#fdca26\"],[1.0,\"#f0f921\"]],\"type\":\"contour\"}],\"heatmapgl\":[{\"colorbar\":{\"outlinewidth\":0,\"ticks\":\"\"},\"colorscale\":[[0.0,\"#0d0887\"],[0.1111111111111111,\"#46039f\"],[0.2222222222222222,\"#7201a8\"],[0.3333333333333333,\"#9c179e\"],[0.4444444444444444,\"#bd3786\"],[0.5555555555555556,\"#d8576b\"],[0.6666666666666666,\"#ed7953\"],[0.7777777777777778,\"#fb9f3a\"],[0.8888888888888888,\"#fdca26\"],[1.0,\"#f0f921\"]],\"type\":\"heatmapgl\"}],\"heatmap\":[{\"colorbar\":{\"outlinewidth\":0,\"ticks\":\"\"},\"colorscale\":[[0.0,\"#0d0887\"],[0.1111111111111111,\"#46039f\"],[0.2222222222222222,\"#7201a8\"],[0.3333333333333333,\"#9c179e\"],[0.4444444444444444,\"#bd3786\"],[0.5555555555555556,\"#d8576b\"],[0.6666666666666666,\"#ed7953\"],[0.7777777777777778,\"#fb9f3a\"],[0.8888888888888888,\"#fdca26\"],[1.0,\"#f0f921\"]],\"type\":\"heatmap\"}],\"histogram2dcontour\":[{\"colorbar\":{\"outlinewidth\":0,\"ticks\":\"\"},\"colorscale\":[[0.0,\"#0d0887\"],[0.1111111111111111,\"#46039f\"],[0.2222222222222222,\"#7201a8\"],[0.3333333333333333,\"#9c179e\"],[0.4444444444444444,\"#bd3786\"],[0.5555555555555556,\"#d8576b\"],[0.6666666666666666,\"#ed7953\"],[0.7777777777777778,\"#fb9f3a\"],[0.8888888888888888,\"#fdca26\"],[1.0,\"#f0f921\"]],\"type\":\"histogram2dcontour\"}],\"histogram2d\":[{\"colorbar\":{\"outlinewidth\":0,\"ticks\":\"\"},\"colorscale\":[[0.0,\"#0d0887\"],[0.1111111111111111,\"#46039f\"],[0.2222222222222222,\"#7201a8\"],[0.3333333333333333,\"#9c179e\"],[0.4444444444444444,\"#bd3786\"],[0.5555555555555556,\"#d8576b\"],[0.6666666666666666,\"#ed7953\"],[0.7777777777777778,\"#fb9f3a\"],[0.8888888888888888,\"#fdca26\"],[1.0,\"#f0f921\"]],\"type\":\"histogram2d\"}],\"histogram\":[{\"marker\":{\"pattern\":{\"fillmode\":\"overlay\",\"size\":10,\"solidity\":0.2}},\"type\":\"histogram\"}],\"mesh3d\":[{\"colorbar\":{\"outlinewidth\":0,\"ticks\":\"\"},\"type\":\"mesh3d\"}],\"parcoords\":[{\"line\":{\"colorbar\":{\"outlinewidth\":0,\"ticks\":\"\"}},\"type\":\"parcoords\"}],\"pie\":[{\"automargin\":true,\"type\":\"pie\"}],\"scatter3d\":[{\"line\":{\"colorbar\":{\"outlinewidth\":0,\"ticks\":\"\"}},\"marker\":{\"colorbar\":{\"outlinewidth\":0,\"ticks\":\"\"}},\"type\":\"scatter3d\"}],\"scattercarpet\":[{\"marker\":{\"colorbar\":{\"outlinewidth\":0,\"ticks\":\"\"}},\"type\":\"scattercarpet\"}],\"scattergeo\":[{\"marker\":{\"colorbar\":{\"outlinewidth\":0,\"ticks\":\"\"}},\"type\":\"scattergeo\"}],\"scattergl\":[{\"marker\":{\"colorbar\":{\"outlinewidth\":0,\"ticks\":\"\"}},\"type\":\"scattergl\"}],\"scattermapbox\":[{\"marker\":{\"colorbar\":{\"outlinewidth\":0,\"ticks\":\"\"}},\"type\":\"scattermapbox\"}],\"scatterpolargl\":[{\"marker\":{\"colorbar\":{\"outlinewidth\":0,\"ticks\":\"\"}},\"type\":\"scatterpolargl\"}],\"scatterpolar\":[{\"marker\":{\"colorbar\":{\"outlinewidth\":0,\"ticks\":\"\"}},\"type\":\"scatterpolar\"}],\"scatter\":[{\"marker\":{\"colorbar\":{\"outlinewidth\":0,\"ticks\":\"\"}},\"type\":\"scatter\"}],\"scatterternary\":[{\"marker\":{\"colorbar\":{\"outlinewidth\":0,\"ticks\":\"\"}},\"type\":\"scatterternary\"}],\"surface\":[{\"colorbar\":{\"outlinewidth\":0,\"ticks\":\"\"},\"colorscale\":[[0.0,\"#0d0887\"],[0.1111111111111111,\"#46039f\"],[0.2222222222222222,\"#7201a8\"],[0.3333333333333333,\"#9c179e\"],[0.4444444444444444,\"#bd3786\"],[0.5555555555555556,\"#d8576b\"],[0.6666666666666666,\"#ed7953\"],[0.7777777777777778,\"#fb9f3a\"],[0.8888888888888888,\"#fdca26\"],[1.0,\"#f0f921\"]],\"type\":\"surface\"}],\"table\":[{\"cells\":{\"fill\":{\"color\":\"#EBF0F8\"},\"line\":{\"color\":\"white\"}},\"header\":{\"fill\":{\"color\":\"#C8D4E3\"},\"line\":{\"color\":\"white\"}},\"type\":\"table\"}]},\"layout\":{\"annotationdefaults\":{\"arrowcolor\":\"#2a3f5f\",\"arrowhead\":0,\"arrowwidth\":1},\"autotypenumbers\":\"strict\",\"coloraxis\":{\"colorbar\":{\"outlinewidth\":0,\"ticks\":\"\"}},\"colorscale\":{\"diverging\":[[0,\"#8e0152\"],[0.1,\"#c51b7d\"],[0.2,\"#de77ae\"],[0.3,\"#f1b6da\"],[0.4,\"#fde0ef\"],[0.5,\"#f7f7f7\"],[0.6,\"#e6f5d0\"],[0.7,\"#b8e186\"],[0.8,\"#7fbc41\"],[0.9,\"#4d9221\"],[1,\"#276419\"]],\"sequential\":[[0.0,\"#0d0887\"],[0.1111111111111111,\"#46039f\"],[0.2222222222222222,\"#7201a8\"],[0.3333333333333333,\"#9c179e\"],[0.4444444444444444,\"#bd3786\"],[0.5555555555555556,\"#d8576b\"],[0.6666666666666666,\"#ed7953\"],[0.7777777777777778,\"#fb9f3a\"],[0.8888888888888888,\"#fdca26\"],[1.0,\"#f0f921\"]],\"sequentialminus\":[[0.0,\"#0d0887\"],[0.1111111111111111,\"#46039f\"],[0.2222222222222222,\"#7201a8\"],[0.3333333333333333,\"#9c179e\"],[0.4444444444444444,\"#bd3786\"],[0.5555555555555556,\"#d8576b\"],[0.6666666666666666,\"#ed7953\"],[0.7777777777777778,\"#fb9f3a\"],[0.8888888888888888,\"#fdca26\"],[1.0,\"#f0f921\"]]},\"colorway\":[\"#636efa\",\"#EF553B\",\"#00cc96\",\"#ab63fa\",\"#FFA15A\",\"#19d3f3\",\"#FF6692\",\"#B6E880\",\"#FF97FF\",\"#FECB52\"],\"font\":{\"color\":\"#2a3f5f\"},\"geo\":{\"bgcolor\":\"white\",\"lakecolor\":\"white\",\"landcolor\":\"white\",\"showlakes\":true,\"showland\":true,\"subunitcolor\":\"#C8D4E3\"},\"hoverlabel\":{\"align\":\"left\"},\"hovermode\":\"closest\",\"mapbox\":{\"style\":\"light\"},\"paper_bgcolor\":\"white\",\"plot_bgcolor\":\"white\",\"polar\":{\"angularaxis\":{\"gridcolor\":\"#EBF0F8\",\"linecolor\":\"#EBF0F8\",\"ticks\":\"\"},\"bgcolor\":\"white\",\"radialaxis\":{\"gridcolor\":\"#EBF0F8\",\"linecolor\":\"#EBF0F8\",\"ticks\":\"\"}},\"scene\":{\"xaxis\":{\"backgroundcolor\":\"white\",\"gridcolor\":\"#DFE8F3\",\"gridwidth\":2,\"linecolor\":\"#EBF0F8\",\"showbackground\":true,\"ticks\":\"\",\"zerolinecolor\":\"#EBF0F8\"},\"yaxis\":{\"backgroundcolor\":\"white\",\"gridcolor\":\"#DFE8F3\",\"gridwidth\":2,\"linecolor\":\"#EBF0F8\",\"showbackground\":true,\"ticks\":\"\",\"zerolinecolor\":\"#EBF0F8\"},\"zaxis\":{\"backgroundcolor\":\"white\",\"gridcolor\":\"#DFE8F3\",\"gridwidth\":2,\"linecolor\":\"#EBF0F8\",\"showbackground\":true,\"ticks\":\"\",\"zerolinecolor\":\"#EBF0F8\"}},\"shapedefaults\":{\"line\":{\"color\":\"#2a3f5f\"}},\"ternary\":{\"aaxis\":{\"gridcolor\":\"#DFE8F3\",\"linecolor\":\"#A2B1C6\",\"ticks\":\"\"},\"baxis\":{\"gridcolor\":\"#DFE8F3\",\"linecolor\":\"#A2B1C6\",\"ticks\":\"\"},\"bgcolor\":\"white\",\"caxis\":{\"gridcolor\":\"#DFE8F3\",\"linecolor\":\"#A2B1C6\",\"ticks\":\"\"}},\"title\":{\"x\":0.05},\"xaxis\":{\"automargin\":true,\"gridcolor\":\"#EBF0F8\",\"linecolor\":\"#EBF0F8\",\"ticks\":\"\",\"title\":{\"standoff\":15},\"zerolinecolor\":\"#EBF0F8\",\"zerolinewidth\":2},\"yaxis\":{\"automargin\":true,\"gridcolor\":\"#EBF0F8\",\"linecolor\":\"#EBF0F8\",\"ticks\":\"\",\"title\":{\"standoff\":15},\"zerolinecolor\":\"#EBF0F8\",\"zerolinewidth\":2}}},\"xaxis\":{\"range\":[0,10],\"tick0\":1,\"dtick\":2,\"title\":{\"text\":\"Term Rank\"}},\"title\":{\"font\":{\"size\":22,\"color\":\"Black\"},\"text\":\"<b>Term score decline per Topic</b>\",\"y\":0.9,\"x\":0.5,\"xanchor\":\"center\",\"yanchor\":\"top\"},\"hoverlabel\":{\"font\":{\"size\":16,\"family\":\"Rockwell\"},\"bgcolor\":\"white\"},\"showlegend\":false,\"width\":800,\"height\":500,\"yaxis\":{\"title\":{\"text\":\"c-TF-IDF score\"}}},                        {\"responsive\": true}                    ).then(function(){\n",
              "                            \n",
              "var gd = document.getElementById('3d48b13a-4885-488a-b2b3-c7c4eb92187a');\n",
              "var x = new MutationObserver(function (mutations, observer) {{\n",
              "        var display = window.getComputedStyle(gd).display;\n",
              "        if (!display || display === 'none') {{\n",
              "            console.log([gd, 'removed!']);\n",
              "            Plotly.purge(gd);\n",
              "            observer.disconnect();\n",
              "        }}\n",
              "}});\n",
              "\n",
              "// Listen for the removal of the full notebook cells\n",
              "var notebookContainer = gd.closest('#notebook-container');\n",
              "if (notebookContainer) {{\n",
              "    x.observe(notebookContainer, {childList: true});\n",
              "}}\n",
              "\n",
              "// Listen for the clearing of the current output cell\n",
              "var outputEl = gd.closest('.output');\n",
              "if (outputEl) {{\n",
              "    x.observe(outputEl, {childList: true});\n",
              "}}\n",
              "\n",
              "                        })                };                            </script>        </div>\n",
              "</body>\n",
              "</html>"
            ]
          },
          "metadata": {}
        }
      ]
    },
    {
      "cell_type": "markdown",
      "source": [
        "#### **Save Term score decline per Topic**"
      ],
      "metadata": {
        "id": "6UXg4gpFpwZg"
      }
    },
    {
      "cell_type": "code",
      "source": [
        "# Set the path to save \n",
        "path = WORK_DIR + f'results/{DATA_FRAME_FEATURE_NAME}/term_score_decline_topic/'\n",
        "\n",
        "# Use makedirs() to create a new directory if it does not exists\n",
        "if not os.path.exists(path):\n",
        "  os.makedirs(path)\n",
        "\n",
        "\n",
        "fig.write_image(path + \"tsdp_preprocessed_lemma.png\", format=\"png\")"
      ],
      "metadata": {
        "id": "F5Gppkjpp0hS"
      },
      "execution_count": null,
      "outputs": []
    },
    {
      "cell_type": "markdown",
      "source": [
        "[Github link](https://github.com/punkmic/Topic-Modeling-Reclame-Aqui/blob/master/results/term_socore_decline_topic/tsdp_preprocessed_lemma.png?raw=true)"
      ],
      "metadata": {
        "id": "QERxP9EspLjX"
      }
    },
    {
      "cell_type": "markdown",
      "source": [
        "### **Term search**"
      ],
      "metadata": {
        "id": "AZIV-p12ZMXa"
      }
    },
    {
      "cell_type": "code",
      "source": [
        "# Find topics that contains blackfriday term\n",
        "similar_topics, similarity = topic_model.find_topics(\"blackfriday\", top_n=5)\n",
        "\n",
        "# Show similar topics\n",
        "similar_topics"
      ],
      "metadata": {
        "id": "pHHayMGRZOob",
        "outputId": "decb65aa-e12d-402f-c97a-c6d805cbddff",
        "colab": {
          "base_uri": "https://localhost:8080/"
        }
      },
      "execution_count": null,
      "outputs": [
        {
          "output_type": "execute_result",
          "data": {
            "text/plain": [
              "[11, 69, 34, 13, 71]"
            ]
          },
          "metadata": {},
          "execution_count": 72
        }
      ]
    },
    {
      "cell_type": "code",
      "source": [
        "# Show a specific topic\n",
        "topic_model.get_topic(64)"
      ],
      "metadata": {
        "id": "2BnwvRotZUya",
        "outputId": "4274ebc8-bf59-4060-f022-7f4f07675883",
        "colab": {
          "base_uri": "https://localhost:8080/"
        }
      },
      "execution_count": null,
      "outputs": [
        {
          "output_type": "execute_result",
          "data": {
            "text/plain": [
              "[('chat', 0.04182711317316064),\n",
              " ('serviço', 0.02698527880298427),\n",
              " ('falar', 0.01903516075105502),\n",
              " ('contato', 0.018617738163678767),\n",
              " ('ocupar', 0.018594857618689817),\n",
              " ('sugirar', 0.017809785774003),\n",
              " ('preciso', 0.016908073508319677),\n",
              " ('batepapo', 0.016607245085989555),\n",
              " ('notificação', 0.016106718561081947),\n",
              " ('ajudar', 0.015858263088170323)]"
            ]
          },
          "metadata": {},
          "execution_count": 73
        }
      ]
    },
    {
      "cell_type": "markdown",
      "source": [
        "### **\"Hiperparameter optimization\"**"
      ],
      "metadata": {
        "id": "f3Q_mQRNPRhr"
      }
    },
    {
      "cell_type": "code",
      "source": [
        "def save_documents(model, docs, label):\n",
        "  fig = topic_model.visualize_documents(docs, hide_document_hover=True, hide_annotations=True, width=800, height=800)\n",
        "\n",
        "  # Set the path to save \n",
        "  path = WORK_DIR + f'results/{DATA_FRAME_FEATURE_NAME}/documents_n_topics/'\n",
        "\n",
        "  # Use makedirs() to create a new directory if it does not exists\n",
        "  if not os.path.exists(path):\n",
        "    os.makedirs(path)\n",
        "\n",
        "  fig.write_image(path + f\"document_n_topics_trial_{label}.png\", format=\"png\")\n",
        "  fig.write_html(path + f\"document_n_topics_trial_{label}.html\")"
      ],
      "metadata": {
        "id": "O-l1u6wucN1m"
      },
      "execution_count": null,
      "outputs": []
    },
    {
      "cell_type": "code",
      "source": [
        "def save_topics(model, label):\n",
        "  fig = model.visualize_topics(width=800, height=800)\n",
        "\n",
        "  # Set the path to save \n",
        "  path = WORK_DIR + f'results/{DATA_FRAME_FEATURE_NAME}/intertopic_distance_map/'\n",
        "\n",
        "  # Use makedirs() to create a new directory if it does not exists\n",
        "  if not os.path.exists(path):\n",
        "    os.makedirs(path)\n",
        "\n",
        "  fig.write_image(path + f\"intertopic_distance_map_trial_{label}.png\", format=\"png\")\n",
        "  fig.write_html(path + f\"intertopic_distance_map_trial_{label}.html\")"
      ],
      "metadata": {
        "id": "zEr6GcxHZptw"
      },
      "execution_count": null,
      "outputs": []
    },
    {
      "cell_type": "code",
      "source": [
        "def save_hierarchy(model, label):\n",
        "  fig = model.visualize_hierarchy(width=800, height=800)\n",
        "\n",
        "  # Set the path to save \n",
        "  path = WORK_DIR + f'results/{DATA_FRAME_FEATURE_NAME}/hierarchical_clustering/'\n",
        "\n",
        "  # Use makedirs() to create a new directory if it does not exists\n",
        "  if not os.path.exists(path):\n",
        "    os.makedirs(path)\n",
        "\n",
        "  fig.write_image(path + f\"hierarchical_clustering_trial_{label}.png\", format=\"png\")\n",
        "  fig.write_html(path + f\"hierarchical_clustering_trial_{label}.html\")"
      ],
      "metadata": {
        "id": "9XqbXn0KZ3r1"
      },
      "execution_count": null,
      "outputs": []
    },
    {
      "cell_type": "code",
      "source": [
        "def save_top_words_scores(model, label):\n",
        "  fig = model.visualize_barchart(top_n_topics=12, width=300, height=300)\n",
        "\n",
        "  # Set the path to save \n",
        "  path = WORK_DIR + f'results/{DATA_FRAME_FEATURE_NAME}/top_words_scores/'\n",
        "\n",
        "  # Use makedirs() to create a new directory if it does not exists\n",
        "  if not os.path.exists(path):\n",
        "    os.makedirs(path)\n",
        "\n",
        "  fig.write_image(path + f\"top_words_scores_trial_{label}.png\", format=\"png\")\n",
        "  fig.write_html(path + f\"top_words_scores_trial_{label}.html\")"
      ],
      "metadata": {
        "id": "A_21t9rmZ4Pr"
      },
      "execution_count": null,
      "outputs": []
    },
    {
      "cell_type": "code",
      "source": [
        "def save_similarity_matrix(model, label):\n",
        "  fig = model.visualize_heatmap()\n",
        "\n",
        "  # Set the path to save \n",
        "  path = WORK_DIR + f'results/{DATA_FRAME_FEATURE_NAME}/similarity_matrix/'\n",
        "\n",
        "  # Use makedirs() to create a new directory if it does not exists\n",
        "  if not os.path.exists(path):\n",
        "    os.makedirs(path)\n",
        "\n",
        "  fig.write_image(path + f\"similarity_matrix_trial_{label}.png\", format=\"png\")\n",
        "  fig.write_html(path + f\"similarity_matrix_trial_{label}.html\")"
      ],
      "metadata": {
        "id": "lTV5l7q7Z45m"
      },
      "execution_count": null,
      "outputs": []
    },
    {
      "cell_type": "code",
      "source": [
        "def save_term_rank(model, label):\n",
        "  fig = model.visualize_term_rank(width=800, height=800)\n",
        "\n",
        "  # Set the path to save \n",
        "  path = WORK_DIR + f'results/{DATA_FRAME_FEATURE_NAME}/term_score_decline_topic/'\n",
        "\n",
        "  # Use makedirs() to create a new directory if it does not exists\n",
        "  if not os.path.exists(path):\n",
        "    os.makedirs(path)\n",
        "\n",
        "  fig.write_image(path + f\"term_score_trial_{label}.png\", format=\"png\")\n",
        "  fig.write_html(path + f\"term_score_trial_{label}.html\")"
      ],
      "metadata": {
        "id": "Ag4Yv6r2bfeR"
      },
      "execution_count": null,
      "outputs": []
    },
    {
      "cell_type": "code",
      "source": [
        "def save_hyperparameters(trial_params, label):\n",
        "  # Set the path to save \n",
        "  path = WORK_DIR + f'results/{DATA_FRAME_FEATURE_NAME}/hyperparameters/'\n",
        "\n",
        "  # Use makedirs() to create a new directory if it does not exists\n",
        "  if not os.path.exists(path):\n",
        "    os.makedirs(path)\n",
        "\n",
        "  with open(path + f\"hyperparameters_trial_{label}.json\", \"w\") as f:\n",
        "    f.write(json.dumps(trial_params))"
      ],
      "metadata": {
        "id": "3wuSDGh4dxlg"
      },
      "execution_count": null,
      "outputs": []
    },
    {
      "cell_type": "code",
      "source": [
        "def save_freq_topics(model, label):\n",
        "  # Print the most frequent topics\n",
        "  freq = topic_model.get_topic_info()\n",
        "\n",
        "  # Show the top 5 most frequent topics\n",
        "  freq = freq.head(5)\n",
        "\n",
        "  # Set the path to save \n",
        "  path = WORK_DIR + f'results/{DATA_FRAME_FEATURE_NAME}/frequent_topics/' \n",
        "\n",
        "  # Use makedirs() to create a new directory if it does not exists\n",
        "  if not os.path.exists(path):\n",
        "    os.makedirs(path)\n",
        "\n",
        "  freq.to_html(path + f\"freq_topics_trial_{label}.json\")\n",
        "  freq.to_csv(path + f\"freq_topics_trial_{label}.csv\", index=False)"
      ],
      "metadata": {
        "id": "DQcgSa44ZtdC"
      },
      "execution_count": null,
      "outputs": []
    },
    {
      "cell_type": "code",
      "source": [
        "def save_model(model, label):\n",
        "  # save model\n",
        "  path = WORK_DIR + f'results/{DATA_FRAME_FEATURE_NAME}/models/'\n",
        "\n",
        "  # Use makedirs() to create a new directory if it does not exists\n",
        "  if not os.path.exists(path):\n",
        "    os.makedirs(path)\n",
        "\n",
        "  model.save(path + label)"
      ],
      "metadata": {
        "id": "lv9hK2GrQhoe"
      },
      "execution_count": null,
      "outputs": []
    },
    {
      "cell_type": "code",
      "source": [
        "lda_scores = {'scores': []}\n",
        "bertopic_scores = {'scores': []}\n",
        "def save_coherence(model, topics, docs, label, clustering_model, reduction_model):\n",
        "  \n",
        "  # compute coherence score for BERTopic\n",
        "  coherence_score = get_bertopic_coherence(model, topics, docs)\n",
        "  bertopic_scores['scores'].append(coherence_score)\n",
        "  print(f\"Bertopic Coeherence score: {coherence_score}\")\n",
        "\n",
        "  # compute coherence score for LDA\n",
        "  lda_score = get_lda_coherence_score(docs, len(topics))\n",
        "  lda_scores['scores'].append(lda_score)\n",
        "  print(f\"LDA Coeherence score: {lda_score}\")\n",
        "\n",
        "  # save scores\n",
        "  path = WORK_DIR + f'results/{DATA_FRAME_FEATURE_NAME}/coherence/'\n",
        "\n",
        "  if not os.path.exists(path):\n",
        "    os.makedirs(path)\n",
        "\n",
        "  with open(path + 'coherence_scores.csv', 'a', newline='') as f:\n",
        "    fieldnames = ['model', 'clustering', 'reduction', 'coherence_score', 'lda_coherence_score']\n",
        "    writer = csv.DictWriter(f, fieldnames=fieldnames)\n",
        "    data = [{'model': label,\n",
        "             'clustering': clustering_model, \n",
        "             'reduction': reduction_model,\n",
        "             'coherence_score': round(coherence_score, 4),\n",
        "             'lda_coherence_score': lda_score}]\n",
        "    writer.writerows(data)\n",
        "  return coherence_score"
      ],
      "metadata": {
        "id": "MkxTHUdDPuIH"
      },
      "execution_count": null,
      "outputs": []
    },
    {
      "cell_type": "code",
      "source": [
        "def visualize_lda(lda_model, nr_topics, corpus, id2word):\n",
        "  path = WORK_DIR + 'results/lda/topics/ldavis_' + str(nr_topics)\n",
        "\n",
        "  vis = pyLDAvis.gensim.prepare(lda_model, corpus, id2word)\n",
        " \n",
        "  with open(path, 'wb') as f:\n",
        "        pickle.dump(LDAvis_prepared, f)\n",
        "\n",
        "  with open(path, 'rb') as f:\n",
        "    LDAvis_prepared = pickle.load(f)\n",
        "  \n",
        "  pyLDAvis.save_html(LDAvis_prepared, WORK_DIR + 'results/lda/topics/ldavis_'+ str(nr_topics) +'.html')\n",
        "  LDAvis_prepared"
      ],
      "metadata": {
        "id": "YKE1YbPBWOcM"
      },
      "execution_count": null,
      "outputs": []
    },
    {
      "cell_type": "code",
      "source": [
        "def get_lda_coherence_score(docs, nr_topics):\n",
        "\n",
        "  # tokenize the text data\n",
        "  tokens = [simple_preprocess(doc) for doc in docs]\n",
        "  # create a corpus from a list of texts\n",
        "  dictionary = Dictionary(tokens)\n",
        "  corpus = [dictionary.doc2bow(token) for token in tokens]\n",
        "\n",
        "  # create a new LDA model\n",
        "  lda_model = LdaMulticore(corpus=corpus,\n",
        "                                       id2word=dictionary,\n",
        "                                       num_topics=nr_topics,\n",
        "                                       random_state=100)\n",
        "  \n",
        "  # save topics\n",
        "  path = WORK_DIR + \"result/lda_topics/\"\n",
        "\n",
        "  if not os.path.exists(path):\n",
        "    os.makedirs(path)\n",
        "\n",
        "  # Compute Coherence Score\n",
        "  coherence = 'u_mass'\n",
        "\n",
        "  # Extract the top 10 topics\n",
        "  topic_words = []\n",
        "  topics = lda_model.get_topics()\n",
        "  for topic_id, topic in enumerate(topics):\n",
        "    topic_words.append([dictionary[word_id] for word_id, prob in lda_model.get_topic_terms(topic_id)])\n",
        "  print(tokens[:2])\n",
        "  print(topic_words[:10])\n",
        "\n",
        "  coherence_model_lda = CoherenceModel(model=lda_model, corpus=corpus, topics=topic_words, texts=tokenized_text, dictionary=dictionary, coherence=coherence)\n",
        "  coherence_lda = coherence_model_lda.get_coherence()\n",
        "  print(f'LDA coherence Score ({coherence}): ', coherence_lda)\n",
        "  return coherence_lda"
      ],
      "metadata": {
        "id": "jXoevUW7MHgs"
      },
      "execution_count": 1,
      "outputs": []
    },
    {
      "cell_type": "code",
      "source": [
        "get_lda_coherence_score(docs, 2)"
      ],
      "metadata": {
        "id": "o6e_Z6t9ZNqO",
        "outputId": "6ccbc3b4-d4aa-493b-b87a-17de14d70e43",
        "colab": {
          "base_uri": "https://localhost:8080/",
          "height": 165
        }
      },
      "execution_count": 2,
      "outputs": [
        {
          "output_type": "error",
          "ename": "NameError",
          "evalue": "ignored",
          "traceback": [
            "\u001b[0;31m---------------------------------------------------------------------------\u001b[0m",
            "\u001b[0;31mNameError\u001b[0m                                 Traceback (most recent call last)",
            "\u001b[0;32m<ipython-input-2-38aceec196db>\u001b[0m in \u001b[0;36m<module>\u001b[0;34m\u001b[0m\n\u001b[0;32m----> 1\u001b[0;31m \u001b[0mget_lda_coherence_score\u001b[0m\u001b[0;34m(\u001b[0m\u001b[0mdocs\u001b[0m\u001b[0;34m,\u001b[0m \u001b[0;36m2\u001b[0m\u001b[0;34m)\u001b[0m\u001b[0;34m\u001b[0m\u001b[0;34m\u001b[0m\u001b[0m\n\u001b[0m",
            "\u001b[0;31mNameError\u001b[0m: name 'docs' is not defined"
          ]
        }
      ]
    },
    {
      "cell_type": "code",
      "source": [
        "# define the number of models to generate by optuna\n",
        "NUMBER_OF_MODELS = 20"
      ],
      "metadata": {
        "id": "ZcAm5WqZxLnm"
      },
      "execution_count": null,
      "outputs": []
    },
    {
      "cell_type": "code",
      "source": [
        "def optimizer(trial):\n",
        "\n",
        "  clustering_option = trial.suggest_categorical('clustering_algorithm__name', ['HDBSCAN', 'K-means'])\n",
        "  dimensionality_option = trial.suggest_categorical('reduction_algorithm__name', ['UMAP', 'PCA'])\n",
        "\n",
        "  # BERTopic hyperparameters\n",
        "  top_n_words = trial.suggest_int('bertopic__top_n_words', 5, 14)\n",
        "  n_gram_range = ast.literal_eval(trial.suggest_categorical('bertopic__n_gram_range', ['(1,1)', '(1,2)', '(1,3)']))\n",
        "  min_topic_size = trial.suggest_int('bertopic__min_topic_size', 15, 20)\n",
        "  diversity = trial.suggest_float('bertopic__diversity', 0.1, 1.0)\n",
        "  outlier_threshold = trial.suggest_float('bertopic__outliers_threshold', 0.04, 0.09)\n",
        "  nr_topics = trial.suggest_int('bertopic__nr_topics', 6, 20, step=1)\n",
        "\n",
        "  if clustering_option == 'HDBSCAN':\n",
        "    # HDBSCAN hyperparameters\n",
        "    min_cluster_size = trial.suggest_int('hdbscan__min_cluster_size', 10, 14)\n",
        "    cluster_selection_epsilon = trial.suggest_float('hdbscan__cluster_selection_epsilon', 0.1, 1.0)\n",
        "\n",
        "    # create a new HDBSCAN model to cluster documents\n",
        "    clustering_model = HDBSCAN(min_cluster_size=min_cluster_size, prediction_data=True)\n",
        "  elif clustering_option == 'K-means':\n",
        "    # K-means hyperparameters\n",
        "    k_means_n_clusters = trial.suggest_int('k-means__n_cluster',6, 10)\n",
        "\n",
        "    # create a new HDBSCAN model to cluster documents\n",
        "    clustering_model = KMeans(n_clusters=k_means_n_clusters)\n",
        "\n",
        "\n",
        "  if dimensionality_option == 'UMAP':\n",
        "    \n",
        "    # UMAP hyperparameters\n",
        "    n_neighbors = trial.suggest_int('umap__n_neighbors', 13, 17)\n",
        "    n_components = trial.suggest_int('umap__n_components', 2, 8)\n",
        "    metric = trial.suggest_categorical('umap__metric', ['cosine', 'euclidean'])\n",
        "    min_dist = trial.suggest_float('umap__min_dist', 0.1, 1.0)\n",
        "    spread = trial.suggest_float('umap__spread', 0.1, 1.0)\n",
        "\n",
        "    # create a new UMAP model to reduce dimension\n",
        "    reduction_model = UMAP(n_neighbors=n_neighbors, metric=metric, random_state=42)\n",
        "  elif dimensionality_option == 'PCA':\n",
        "    \n",
        "    # PCA hyperparameters\n",
        "    pca_n_components = trial.suggest_int('pca__n_components', 4, 6)\n",
        "    \n",
        "    # create a new PCA model to reduce dimension\n",
        "    reduction_model = PCA(n_components=pca_n_components, random_state=12) # k-Means, that does not produce any outliers at all\n",
        "\n",
        "\n",
        "  # CountVectorizer hyperparameters \n",
        "  max_features = trial.suggest_int('vectorizer__max_features', 3000, 6000)\n",
        "\n",
        "  # reduce the impact of frequent words.\n",
        "  ctfidf_model = ClassTfidfTransformer(reduce_frequent_words=True)\n",
        "\n",
        "  # list of portuguese stop words + custom words\n",
        "  stop_words = nltk.corpus.stopwords.words('portuguese') + custom_stop_words\n",
        "\n",
        "  # create a new CountVectorizer to create a matrix of tokens count\n",
        "  vectorizer_model = CountVectorizer(stop_words=stop_words, ngram_range=n_gram_range, max_features=max_features)\n",
        "\n",
        "\n",
        "  # create a new BERTopic model using multilingual option\n",
        "  model = BERTopic(language=\"multilingual\", \n",
        "                   nr_topics=nr_topics,\n",
        "                   calculate_probabilities=True, \n",
        "                   verbose=False,\n",
        "                   top_n_words=top_n_words,\n",
        "                   n_gram_range=n_gram_range,\n",
        "                   min_topic_size=min_topic_size,\n",
        "                   diversity=diversity,\n",
        "                   umap_model=reduction_model,\n",
        "                   hdbscan_model=clustering_model,\n",
        "                   vectorizer_model=vectorizer_model,\n",
        "                   ctfidf_model=ctfidf_model)\n",
        "  \n",
        "  try:\n",
        "    label = trial.number\n",
        "    params = trial.params\n",
        "  \n",
        "    # define model id\n",
        "    model_id = f\"model_trial_{label}\"\n",
        "\n",
        "    # train BERTopic model \n",
        "    topics, probs = model.fit_transform(docs)\n",
        "\n",
        "    # save plots\n",
        "    save_topics(model, label)\n",
        "    save_documents(model, docs, label)\n",
        "    save_hierarchy(model, label)\n",
        "    save_term_rank(model, label)\n",
        "    save_top_words_scores(model, label)\n",
        "  \n",
        "    # save model\n",
        "    save_model(model, model_id)\n",
        "\n",
        "    # save hyperparameters\n",
        "    save_hyperparameters(params, label)\n",
        "\n",
        "    # save model coherence score\n",
        "    save_coherence(model, topics, docs, model_id,\n",
        "                           clustering_option,dimensionality_option)\n",
        "    \n",
        "  except Exception as error:\n",
        "    print(error)\n",
        "  \n",
        "  return 0.0"
      ],
      "metadata": {
        "id": "O87BZ5kyQEvZ"
      },
      "execution_count": null,
      "outputs": []
    },
    {
      "cell_type": "code",
      "source": [
        "%%time\n",
        "\n",
        "# create a new study\n",
        "study = optuna.create_study(study_name='Bertopic')\n",
        "\n",
        "# run the optmize function \n",
        "study.optimize(optimizer, n_trials=NUMBER_OF_MODELS)"
      ],
      "metadata": {
        "id": "57mnK6MfYAp4",
        "colab": {
          "base_uri": "https://localhost:8080/"
        },
        "outputId": "d30278ed-59d8-429e-a298-8145a88facdb"
      },
      "execution_count": null,
      "outputs": [
        {
          "output_type": "stream",
          "name": "stderr",
          "text": [
            "\u001b[32m[I 2023-01-09 23:24:49,172]\u001b[0m A new study created in memory with name: Bertopic\u001b[0m\n",
            "2023-01-09 23:25:09,730 - BERTopic - Transformed documents to Embeddings\n",
            "2023-01-09 23:25:10,238 - BERTopic - Reduced dimensionality\n",
            "2023-01-09 23:25:11,873 - BERTopic - Clustered reduced embeddings\n",
            "2023-01-09 23:25:13,894 - BERTopic - Reduced number of topics from 3 to 3\n"
          ]
        },
        {
          "output_type": "stream",
          "name": "stdout",
          "text": [
            "zero-size array to reduction operation maximum which has no identity\n"
          ]
        },
        {
          "output_type": "stream",
          "name": "stderr",
          "text": [
            "\u001b[32m[I 2023-01-09 23:25:14,167]\u001b[0m Trial 0 finished with value: 0.0 and parameters: {'clustering_algorithm__name': 'HDBSCAN', 'reduction_algorithm__name': 'PCA', 'bertopic__top_n_words': 10, 'bertopic__n_gram_range': '(1,1)', 'bertopic__min_topic_size': 18, 'bertopic__diversity': 0.5601903854087097, 'bertopic__outliers_threshold': 0.04008691289014846, 'bertopic__nr_topics': 13, 'hdbscan__min_cluster_size': 10, 'hdbscan__cluster_selection_epsilon': 0.3954708116630201, 'pca__n_components': 4, 'vectorizer__max_features': 3784}. Best is trial 0 with value: 0.0.\u001b[0m\n",
            "2023-01-09 23:25:34,941 - BERTopic - Transformed documents to Embeddings\n",
            "2023-01-09 23:25:35,411 - BERTopic - Reduced dimensionality\n",
            "2023-01-09 23:25:36,442 - BERTopic - Clustered reduced embeddings\n",
            "2023-01-09 23:25:37,272 - BERTopic - Reduced number of topics from 3 to 3\n"
          ]
        },
        {
          "output_type": "stream",
          "name": "stdout",
          "text": [
            "zero-size array to reduction operation maximum which has no identity\n"
          ]
        },
        {
          "output_type": "stream",
          "name": "stderr",
          "text": [
            "\u001b[32m[I 2023-01-09 23:25:37,526]\u001b[0m Trial 1 finished with value: 0.0 and parameters: {'clustering_algorithm__name': 'HDBSCAN', 'reduction_algorithm__name': 'PCA', 'bertopic__top_n_words': 5, 'bertopic__n_gram_range': '(1,1)', 'bertopic__min_topic_size': 16, 'bertopic__diversity': 0.8529988150497148, 'bertopic__outliers_threshold': 0.05909827048643102, 'bertopic__nr_topics': 12, 'hdbscan__min_cluster_size': 12, 'hdbscan__cluster_selection_epsilon': 0.7365448407488658, 'pca__n_components': 5, 'vectorizer__max_features': 4749}. Best is trial 0 with value: 0.0.\u001b[0m\n",
            "2023-01-09 23:25:54,684 - BERTopic - Transformed documents to Embeddings\n",
            "2023-01-09 23:25:54,909 - BERTopic - Reduced dimensionality\n",
            "2023-01-09 23:25:55,739 - BERTopic - Clustered reduced embeddings\n",
            "2023-01-09 23:25:58,318 - BERTopic - Reduced number of topics from 9 to 9\n",
            "/usr/local/lib/python3.8/dist-packages/plotly/figure_factory/_dendrogram.py:350: DeprecationWarning:\n",
            "\n",
            "scipy.array is deprecated and will be removed in SciPy 2.0.0, use numpy.array instead\n",
            "\n",
            "/usr/local/lib/python3.8/dist-packages/plotly/figure_factory/_dendrogram.py:351: DeprecationWarning:\n",
            "\n",
            "scipy.array is deprecated and will be removed in SciPy 2.0.0, use numpy.array instead\n",
            "\n",
            "/usr/local/lib/python3.8/dist-packages/plotly/figure_factory/_dendrogram.py:352: DeprecationWarning:\n",
            "\n",
            "scipy.array is deprecated and will be removed in SciPy 2.0.0, use numpy.array instead\n",
            "\n",
            "/usr/local/lib/python3.8/dist-packages/plotly/figure_factory/_dendrogram.py:353: DeprecationWarning:\n",
            "\n",
            "scipy.array is deprecated and will be removed in SciPy 2.0.0, use numpy.array instead\n",
            "\n"
          ]
        },
        {
          "output_type": "stream",
          "name": "stdout",
          "text": [
            "Bertopic Coeherence score: 0.6980682195973587\n"
          ]
        },
        {
          "output_type": "stream",
          "name": "stderr",
          "text": [
            "WARNING:gensim.models.ldamulticore:too few updates, training might not converge; consider increasing the number of passes or iterations to improve accuracy\n"
          ]
        }
      ]
    },
    {
      "cell_type": "code",
      "source": [
        "def plot_coherence(model_label, nr_topics, coherences):\n",
        "  topicsname=[]\n",
        "  for i in range(1,nr_topics+1):\n",
        "      topicsname.append(\"t{0}\".format(i))\n",
        "  topicsname\n",
        "\n",
        "  plt.plot(topicsname, coherences)\n",
        "  plt.xlabel(\"Number of Topics\")\n",
        "  plt.ylabel(\"Coherence score\")\n",
        "  plt.legend((\"coherence_values\"), loc='best')\n",
        "  plt.show()"
      ],
      "metadata": {
        "id": "SEyIUv8SWBfX"
      },
      "execution_count": null,
      "outputs": []
    },
    {
      "cell_type": "code",
      "source": [
        "label = \"BERTopic\"\n",
        "plot_coherence(label, 20, bertopic_scores['scores'])"
      ],
      "metadata": {
        "id": "SsWLIc6ZWZxF"
      },
      "execution_count": null,
      "outputs": []
    },
    {
      "cell_type": "code",
      "source": [
        "label = \"LDA\"\n",
        "plot_coherence(label, 20, lda_scores['scores'])"
      ],
      "metadata": {
        "id": "wOHD8SQCWw3n"
      },
      "execution_count": null,
      "outputs": []
    },
    {
      "cell_type": "markdown",
      "source": [
        "#### **Merge of similar topics**"
      ],
      "metadata": {
        "id": "kmSbzWH0gJHM"
      }
    },
    {
      "cell_type": "code",
      "source": [
        "# TODO: select the best model and merge similar topic and save final model\n",
        "\n",
        "#topic_model = BERTopic.load(\"best_model\")"
      ],
      "metadata": {
        "id": "OWI9jDFYgTLW"
      },
      "execution_count": null,
      "outputs": []
    },
    {
      "cell_type": "markdown",
      "source": [
        "#### **Github**"
      ],
      "metadata": {
        "id": "F0gliNtXRkfH"
      }
    },
    {
      "cell_type": "code",
      "source": [
        "! ssh-keygen -t rsa -b 4096\n",
        "# Add github.com to our known hosts\n",
        "! ssh-keyscan -t rsa github.com >> ~/.ssh/known_hosts\n",
        "# Restrict the key permissions, or else SSH will complain.\n",
        "! chmod go-rwx /root/.ssh/id_rsa"
      ],
      "metadata": {
        "id": "yVd1eoa0zK7f"
      },
      "execution_count": null,
      "outputs": []
    },
    {
      "cell_type": "code",
      "source": [
        "! cat /root/.ssh/id_rsa.pub"
      ],
      "metadata": {
        "id": "_z-PSHRzz0PY",
        "outputId": "56bb2e15-b194-4b05-a4af-4431782d0420",
        "colab": {
          "base_uri": "https://localhost:8080/"
        }
      },
      "execution_count": 6,
      "outputs": [
        {
          "output_type": "stream",
          "name": "stdout",
          "text": [
            "ssh-rsa AAAAB3NzaC1yc2EAAAADAQABAAACAQDOnbMuCERTClE7azGE4jJizVi+C27xAxhup15e0vwPM8ath9zIvbCyL/9p2LQ5VqwWeYUTyOuQgvpl0Loj5hB3oPLxVsKLBFjHfTIib0XVrs54pXBD4kqyDNzIfC94WcEVVDN976LP870SlAeQY3s0oqL3GOxIaxElsZxU6Am3nTLBr0uJdHt2YDAyPKNjldSs9/5xu9BgCJdYUyGDKUBtjii6NFjcDekBgBwyxWOBJw28yPPxRkpqwO1/EE4gws/roY/BX2iFLveM1K7ORoHiCybFeMZCZIuvLVhcpG89AxDLfwAYGtHT3q6Je9qn+skQGFxL5U4ToyD+cH/9f/VwPNGyLNKGc1NqtuTY4Gtyr2W5QDlvFl3ul9K9SVjEU8jbKSMGOz/mEs4lrw/S1Mcu1SrkuCwZntfhCPk1g6SGROfEk8uQDeCItW55qS6+FDRs9o0/2vIiyBTuKkdFo0LjNq9/wFe2i/tIsdcldK50O8kPtZkTlDPhkhZ7/3gsWAQ7XojF5L0AGg1lQFxR9qHz8BxV7S+1cWw3/cBdkw4TIVc2orvSHgFGh8GeTUPgnmZWOp5OPhTf8+sDw9jEdg/lIEUaqiYGcKi9OE1RJkTLaoypuhgZFBBH/UEWyJnj/F4z09znPEv1xnPV5jciTxVpa9RwNyvzMEcfvhqZsn1Y9w== root@34e0f49f3d51\n"
          ]
        }
      ]
    },
    {
      "cell_type": "code",
      "source": [
        "!git config --global user.email \"mattheus_ribeiro@outlook.com\"\n",
        "!git config --global user.name \"punkmic\""
      ],
      "metadata": {
        "id": "4iixpGcjzxrO"
      },
      "execution_count": 7,
      "outputs": []
    },
    {
      "cell_type": "code",
      "source": [
        "!ssh -T git@github.com"
      ],
      "metadata": {
        "id": "bcqhgkdaz3QI"
      },
      "execution_count": null,
      "outputs": []
    },
    {
      "cell_type": "code",
      "source": [
        "!git clone git@github.com:punkmic/Topic-Modeling-Reclame-Aqui.git"
      ],
      "metadata": {
        "id": "zSA4ju5NDpqK",
        "outputId": "a58f059d-2230-466e-ba94-ad5a099ad0f9",
        "colab": {
          "base_uri": "https://localhost:8080/"
        }
      },
      "execution_count": 8,
      "outputs": [
        {
          "output_type": "stream",
          "name": "stdout",
          "text": [
            "Cloning into 'Topic-Modeling-Reclame-Aqui'...\n",
            "Warning: Permanently added the RSA host key for IP address '140.82.113.4' to the list of known hosts.\n",
            "remote: Enumerating objects: 16296, done.\u001b[K\n",
            "remote: Counting objects: 100% (2115/2115), done.\u001b[K\n",
            "remote: Compressing objects: 100% (1847/1847), done.\u001b[K\n",
            "remote: Total 16296 (delta 314), reused 1951 (delta 234), pack-reused 14181\u001b[K\n",
            "Receiving objects: 100% (16296/16296), 127.20 MiB | 15.04 MiB/s, done.\n",
            "Resolving deltas: 100% (1462/1462), done.\n",
            "Checking out files: 100% (14808/14808), done.\n"
          ]
        }
      ]
    },
    {
      "cell_type": "code",
      "source": [
        "%cd /content/Topic-Modeling-Reclame-Aqui/"
      ],
      "metadata": {
        "id": "2eEK0j1L6b7p"
      },
      "execution_count": null,
      "outputs": []
    },
    {
      "cell_type": "code",
      "source": [
        "!git add ./results/documents"
      ],
      "metadata": {
        "id": "CGqBhuS6z7WZ"
      },
      "execution_count": null,
      "outputs": []
    },
    {
      "cell_type": "code",
      "source": [
        "!git status"
      ],
      "metadata": {
        "id": "eyMFQF889jtB"
      },
      "execution_count": null,
      "outputs": []
    },
    {
      "cell_type": "code",
      "source": [
        "!git commit -m \"Adding preprocessed BERTopic result\""
      ],
      "metadata": {
        "id": "PFY8B1Ikz-U-"
      },
      "execution_count": null,
      "outputs": []
    },
    {
      "cell_type": "code",
      "source": [
        "!git push origin master"
      ],
      "metadata": {
        "id": "uEJWirD70EiH"
      },
      "execution_count": null,
      "outputs": []
    },
    {
      "cell_type": "code",
      "source": [
        "# run this command to push a new version of this notebook in case you have saved the notebook in github and it is outdate \n",
        "!git stash\n",
        "!git pull\n",
        "!git stash pop"
      ],
      "metadata": {
        "id": "pKF8mcLoIU3Q"
      },
      "execution_count": null,
      "outputs": []
    },
    {
      "cell_type": "code",
      "source": [
        "!rm -rf /root/.ssh/"
      ],
      "metadata": {
        "id": "awCNnf2Qlu_5"
      },
      "execution_count": null,
      "outputs": []
    },
    {
      "cell_type": "code",
      "source": [
        "from sklearn.cluster import KMeans\n",
        "from sklearn.feature_extraction.text import CountVectorizer, TfidfVectorizer"
      ],
      "metadata": {
        "id": "9wMVQ_18HwqL"
      },
      "execution_count": 33,
      "outputs": []
    },
    {
      "cell_type": "code",
      "source": [
        "# convert text documents to bag of words representation\n",
        "vectorizer = CountVectorizer(max_df=0.95, min_df=2, max_features=6000, stop_words='english', ngram_range=(1, 2))\n",
        "x = vectorizer.fit_transform(docs)\n",
        "\n",
        "# perform k-means clustering\n",
        "kmeans = KMeans(n_clusters=20)\n",
        "kmeans.fit(x)"
      ],
      "metadata": {
        "colab": {
          "base_uri": "https://localhost:8080/"
        },
        "id": "aBQCMZL5H17r",
        "outputId": "898fb028-3d12-42bb-c334-cfbaabaf2c14"
      },
      "execution_count": 34,
      "outputs": [
        {
          "output_type": "execute_result",
          "data": {
            "text/plain": [
              "KMeans(n_clusters=20)"
            ]
          },
          "metadata": {},
          "execution_count": 34
        }
      ]
    },
    {
      "cell_type": "code",
      "source": [
        "# use elbow method to find the best number of clusters\n",
        "ls = []\n",
        "for i in range(1, 20):\n",
        "    kmeans = KMeans(n_clusters=i)\n",
        "    kmeans.fit(x)\n",
        "    ls.append(kmeans.inertia_)\n",
        "plt.plot(range(1, 20), ls)\n",
        "plt.title('Elbow Method')\n",
        "plt.xlabel('Number of clusters')\n",
        "plt.ylabel('Within-cluster sum of squares')\n",
        "plt.show()"
      ],
      "metadata": {
        "colab": {
          "base_uri": "https://localhost:8080/",
          "height": 295
        },
        "id": "5WEHZdF3H778",
        "outputId": "0b33b9ec-36d0-40df-ba19-d0f8585916e5"
      },
      "execution_count": 35,
      "outputs": [
        {
          "output_type": "display_data",
          "data": {
            "text/plain": [
              "<Figure size 432x288 with 1 Axes>"
            ],
            "image/png": "[encoded data removed]"
          },
          "metadata": {
            "needs_background": "light"
          }
        }
      ]
    },
    {
      "cell_type": "code",
      "source": [
        "from gensim.corpora import Dictionary\n",
        "from gensim.models import LdaModel, LdaMulticore\n",
        "from gensim.utils import simple_preprocess\n",
        "from gensim.models.coherencemodel import CoherenceModel\n",
        "from gensim.utils import ClippedCorpus\n",
        "import matplotlib.pyplot as plt"
      ],
      "metadata": {
        "id": "6H7YeH_ZIFic"
      },
      "execution_count": 36,
      "outputs": []
    },
    {
      "cell_type": "code",
      "source": [
        "# tokenize the text data\n",
        "tokenized_text = [simple_preprocess(doc) for doc in docs]\n",
        "\n",
        "print(tokenized_text[:3])"
      ],
      "metadata": {
        "colab": {
          "base_uri": "https://localhost:8080/"
        },
        "id": "JNsFBxqDIISO",
        "outputId": "28ffd83e-8f36-45cf-837c-f52cc8f12677"
      },
      "execution_count": 37,
      "outputs": [
        {
          "output_type": "stream",
          "name": "stdout",
          "text": [
            "[['pesquisando', 'bastante', 'novo', 'comprar', 'resolver', 'aguardar', 'semana', 'cliente', 'porque', 'ocorrer', 'vários', 'desconto', 'promoção', 'em', 'esse', 'semana', 'ser', 'assim', 'recebi', 'desconto', 'cashback', 'cupom', 'varia', 'plataforma', 'assim', 'decidir', 'efetuar', 'compra', 'entender', 'melhor', 'custo', 'beneficio', 'ser', 'assim', 'setembro', 'recebi', 'oferta', 'produto', 'entendi', 'preço', 'além', 'cachback', 'efetuei', 'comprar', 'aguardei', 'semana', 'consumidor', 'efetuar', 'todo', 'expectativa', 'estavar', 'ancioso', 'estar', 'dentro', 'prazo', 'entregar', 'hoje', 'resolver', 'enviar', 'mensagem', 'perguntar', 'pedir', 'enviar', 'após', 'confirmação', 'comprar', 'pagamento', 'passado', 'dia', 'nenhum', 'retorno', 'complei', 'inclusive', 'site', 'confio', 'tambem', 'assinante', 'surpresa', 'após', 'pedir', 'informação', 'pedir', 'retorno', 'email', 'estar', 'ser', 'cancelar', 'ser', 'nenhum', 'justificativa', 'após', 'dia', 'realização', 'aguardei', 'chegar', 'periodo', 'compro', 'ansiosamente', 'aproveitar', 'desconto', 'produto', 'familia', 'aguardar', 'além', 'cancelar', 'compra', 'produto', 'justificativa', 'empresa', 'tirar', 'todo', 'oportunidade', 'desconto', 'efetuar', 'compra', 'semano', 'consumidor', 'levar', 'dia', 'cancelar', 'sinto', 'extremamente', 'empresa', 'sempre', 'acreditar', 'aguardo', 'satisfação', 'reparação', 'transtorno', 'sofrer', 'hoje', 'com', 'si', 'comprar', 'produto', 'valor', 'próximo'], ['sinceramente', 'decepcionar', 'entrar', 'contato', 'procon', 'hoje', 'informar', 'marcar', 'audiência', 'conciliação', 'porque', 'amozan', 'responder', 'solicitação', 'esclarecimento', 'procon', 'procon', 'importar', 'fazer', 'somente', 'querer', 'contar', 'produto', 'vender', 'estoque', 'cancelar', 'satisfação', 'algunhar', 'total', 'falta', 'respeito', 'consumidor', 'fazer', 'sair', 'criança', 'recém', 'nascir', 'desistir', 'direito', 'em', 'esse', 'audiência', 'assim'], ['cancelei', 'plano', 'antes', 'terminar', 'período', 'testir', 'grátis', 'pois', 'gostar', 'plataforma', 'segundo', 'cobr', 'fatura', 'dois', 'mês', 'assinar', 'contando', 'gratuito', 'caso', 'resolr', 'problema', 'ir', 'entrar', 'processo', 'contra', 'tentar', 'contato', 'onde', 'conversar', 'retornar', 'maisengraçar', 'contratar', 'poder', 'qualquer', 'pessoa', 'precisar', 'ficar', 'vir', 'reclamar', 'outro', 'local', 'respondar', 'agora', 'cancelar', 'nenhum', 'canal', 'atendimento', 'funcionar']]\n"
          ]
        }
      ]
    },
    {
      "cell_type": "code",
      "source": [
        "# tokenize the text data\n",
        "tokenized_text = [simple_preprocess(doc) for doc in docs]\n",
        "\n",
        "# create a corpus from a list of texts\n",
        "dictionary = Dictionary(tokenized_text)\n",
        "corpus = [dictionary.doc2bow(text) for text in tokenized_text]\n",
        "\n",
        "# create a gensim LdaModel\n",
        "lda = LdaModel(corpus=corpus, id2word=dictionary, num_topics=15)\n",
        "coherence_model = CoherenceModel(\n",
        "                                 texts=tokenized_text, \n",
        "                                 corpus=corpus,\n",
        "                                 dictionary=dictionary, \n",
        "                                 coherence='c_v')\n",
        "coherence_model.get_coherence()"
      ],
      "metadata": {
        "colab": {
          "base_uri": "https://localhost:8080/",
          "height": 235
        },
        "id": "9H2vbmeHILOg",
        "outputId": "fd0f002d-1fc3-4a07-d1c8-243a8f06b442"
      },
      "execution_count": 3,
      "outputs": [
        {
          "output_type": "error",
          "ename": "NameError",
          "evalue": "ignored",
          "traceback": [
            "\u001b[0;31m---------------------------------------------------------------------------\u001b[0m",
            "\u001b[0;31mNameError\u001b[0m                                 Traceback (most recent call last)",
            "\u001b[0;32m<ipython-input-3-fec99fd79937>\u001b[0m in \u001b[0;36m<module>\u001b[0;34m\u001b[0m\n\u001b[1;32m      1\u001b[0m \u001b[0;31m# tokenize the text data\u001b[0m\u001b[0;34m\u001b[0m\u001b[0;34m\u001b[0m\u001b[0;34m\u001b[0m\u001b[0m\n\u001b[0;32m----> 2\u001b[0;31m \u001b[0mtokenized_text\u001b[0m \u001b[0;34m=\u001b[0m \u001b[0;34m[\u001b[0m\u001b[0msimple_preprocess\u001b[0m\u001b[0;34m(\u001b[0m\u001b[0mdoc\u001b[0m\u001b[0;34m)\u001b[0m \u001b[0;32mfor\u001b[0m \u001b[0mdoc\u001b[0m \u001b[0;32min\u001b[0m \u001b[0mdocs\u001b[0m\u001b[0;34m]\u001b[0m\u001b[0;34m\u001b[0m\u001b[0;34m\u001b[0m\u001b[0m\n\u001b[0m\u001b[1;32m      3\u001b[0m \u001b[0;34m\u001b[0m\u001b[0m\n\u001b[1;32m      4\u001b[0m \u001b[0;31m# create a corpus from a list of texts\u001b[0m\u001b[0;34m\u001b[0m\u001b[0;34m\u001b[0m\u001b[0;34m\u001b[0m\u001b[0m\n\u001b[1;32m      5\u001b[0m \u001b[0mdictionary\u001b[0m \u001b[0;34m=\u001b[0m \u001b[0mDictionary\u001b[0m\u001b[0;34m(\u001b[0m\u001b[0mtokenized_text\u001b[0m\u001b[0;34m)\u001b[0m\u001b[0;34m\u001b[0m\u001b[0;34m\u001b[0m\u001b[0m\n",
            "\u001b[0;31mNameError\u001b[0m: name 'docs' is not defined"
          ]
        }
      ]
    },
    {
      "cell_type": "code",
      "source": [
        "print(topics)"
      ],
      "metadata": {
        "id": "PGrH5RCacptg",
        "outputId": "7c24fcc4-f6bf-41b6-a204-fc239d4196db",
        "colab": {
          "base_uri": "https://localhost:8080/"
        }
      },
      "execution_count": 89,
      "outputs": [
        {
          "output_type": "stream",
          "name": "stdout",
          "text": [
            "[['human', 'computer', 'system', 'interface'], ['graph', 'minors', 'trees', 'eps']]\n"
          ]
        }
      ]
    },
    {
      "cell_type": "code",
      "source": [
        "for topic_id, topic in enumerate(topics):\n",
        "  topic_words = [dictionary[word_id] for word_id, prob in lda.get_topic_terms(topic_id, topn=5)]\n",
        "topic_words"
      ],
      "metadata": {
        "id": "aBBxJmaccUne",
        "outputId": "bfa606ce-b619-40eb-e2d8-5243daf1ab49",
        "colab": {
          "base_uri": "https://localhost:8080/"
        }
      },
      "execution_count": 90,
      "outputs": [
        {
          "output_type": "execute_result",
          "data": {
            "text/plain": [
              "['compra', 'receber', 'entregar', 'pedir', 'mercadoria']"
            ]
          },
          "metadata": {},
          "execution_count": 90
        }
      ]
    }
  ]
}