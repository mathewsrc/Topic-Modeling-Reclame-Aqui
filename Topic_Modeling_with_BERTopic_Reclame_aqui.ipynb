{
  "nbformat": 4,
  "nbformat_minor": 0,
  "metadata": {
    "colab": {
      "provenance": [],
      "include_colab_link": true
    },
    "kernelspec": {
      "name": "python3",
      "display_name": "Python 3"
    },
    "language_info": {
      "name": "python"
    },
    "gpuClass": "standard",
    "widgets": {
      "application/vnd.jupyter.widget-state+json": {
        "1505cca241194f9aa648c701fe97a1c2": {
          "model_module": "@jupyter-widgets/controls",
          "model_name": "HBoxModel",
          "model_module_version": "1.5.0",
          "state": {
            "_dom_classes": [],
            "_model_module": "@jupyter-widgets/controls",
            "_model_module_version": "1.5.0",
            "_model_name": "HBoxModel",
            "_view_count": null,
            "_view_module": "@jupyter-widgets/controls",
            "_view_module_version": "1.5.0",
            "_view_name": "HBoxView",
            "box_style": "",
            "children": [
              "IPY_MODEL_0777ed1da6ab4396b8ee4a7b0cebb7f1",
              "IPY_MODEL_2b16f6ab11254f8284df4b448b5a3a5b",
              "IPY_MODEL_a4cdefb1329a404e8da04e144e3dd68e"
            ],
            "layout": "IPY_MODEL_c8e9ce620c344c808884eb904e57ad38"
          }
        },
        "0777ed1da6ab4396b8ee4a7b0cebb7f1": {
          "model_module": "@jupyter-widgets/controls",
          "model_name": "HTMLModel",
          "model_module_version": "1.5.0",
          "state": {
            "_dom_classes": [],
            "_model_module": "@jupyter-widgets/controls",
            "_model_module_version": "1.5.0",
            "_model_name": "HTMLModel",
            "_view_count": null,
            "_view_module": "@jupyter-widgets/controls",
            "_view_module_version": "1.5.0",
            "_view_name": "HTMLView",
            "description": "",
            "description_tooltip": null,
            "layout": "IPY_MODEL_7338210885cf4a21b1e62519df7fd170",
            "placeholder": "​",
            "style": "IPY_MODEL_11f47786d67e4db6a33d7b4a7495b304",
            "value": "Downloading: 100%"
          }
        },
        "2b16f6ab11254f8284df4b448b5a3a5b": {
          "model_module": "@jupyter-widgets/controls",
          "model_name": "FloatProgressModel",
          "model_module_version": "1.5.0",
          "state": {
            "_dom_classes": [],
            "_model_module": "@jupyter-widgets/controls",
            "_model_module_version": "1.5.0",
            "_model_name": "FloatProgressModel",
            "_view_count": null,
            "_view_module": "@jupyter-widgets/controls",
            "_view_module_version": "1.5.0",
            "_view_name": "ProgressView",
            "bar_style": "success",
            "description": "",
            "description_tooltip": null,
            "layout": "IPY_MODEL_d608b3b17bbc4055b683bd161adb08e8",
            "max": 968,
            "min": 0,
            "orientation": "horizontal",
            "style": "IPY_MODEL_b2048f779fef4f519ed57e3f8f25fb9e",
            "value": 968
          }
        },
        "a4cdefb1329a404e8da04e144e3dd68e": {
          "model_module": "@jupyter-widgets/controls",
          "model_name": "HTMLModel",
          "model_module_version": "1.5.0",
          "state": {
            "_dom_classes": [],
            "_model_module": "@jupyter-widgets/controls",
            "_model_module_version": "1.5.0",
            "_model_name": "HTMLModel",
            "_view_count": null,
            "_view_module": "@jupyter-widgets/controls",
            "_view_module_version": "1.5.0",
            "_view_name": "HTMLView",
            "description": "",
            "description_tooltip": null,
            "layout": "IPY_MODEL_9dd73bdcb26e4677b37c0081922e18fb",
            "placeholder": "​",
            "style": "IPY_MODEL_80326698566e448c84697f86b43e69e0",
            "value": " 968/968 [00:00&lt;00:00, 29.8kB/s]"
          }
        },
        "c8e9ce620c344c808884eb904e57ad38": {
          "model_module": "@jupyter-widgets/base",
          "model_name": "LayoutModel",
          "model_module_version": "1.2.0",
          "state": {
            "_model_module": "@jupyter-widgets/base",
            "_model_module_version": "1.2.0",
            "_model_name": "LayoutModel",
            "_view_count": null,
            "_view_module": "@jupyter-widgets/base",
            "_view_module_version": "1.2.0",
            "_view_name": "LayoutView",
            "align_content": null,
            "align_items": null,
            "align_self": null,
            "border": null,
            "bottom": null,
            "display": null,
            "flex": null,
            "flex_flow": null,
            "grid_area": null,
            "grid_auto_columns": null,
            "grid_auto_flow": null,
            "grid_auto_rows": null,
            "grid_column": null,
            "grid_gap": null,
            "grid_row": null,
            "grid_template_areas": null,
            "grid_template_columns": null,
            "grid_template_rows": null,
            "height": null,
            "justify_content": null,
            "justify_items": null,
            "left": null,
            "margin": null,
            "max_height": null,
            "max_width": null,
            "min_height": null,
            "min_width": null,
            "object_fit": null,
            "object_position": null,
            "order": null,
            "overflow": null,
            "overflow_x": null,
            "overflow_y": null,
            "padding": null,
            "right": null,
            "top": null,
            "visibility": null,
            "width": null
          }
        },
        "7338210885cf4a21b1e62519df7fd170": {
          "model_module": "@jupyter-widgets/base",
          "model_name": "LayoutModel",
          "model_module_version": "1.2.0",
          "state": {
            "_model_module": "@jupyter-widgets/base",
            "_model_module_version": "1.2.0",
            "_model_name": "LayoutModel",
            "_view_count": null,
            "_view_module": "@jupyter-widgets/base",
            "_view_module_version": "1.2.0",
            "_view_name": "LayoutView",
            "align_content": null,
            "align_items": null,
            "align_self": null,
            "border": null,
            "bottom": null,
            "display": null,
            "flex": null,
            "flex_flow": null,
            "grid_area": null,
            "grid_auto_columns": null,
            "grid_auto_flow": null,
            "grid_auto_rows": null,
            "grid_column": null,
            "grid_gap": null,
            "grid_row": null,
            "grid_template_areas": null,
            "grid_template_columns": null,
            "grid_template_rows": null,
            "height": null,
            "justify_content": null,
            "justify_items": null,
            "left": null,
            "margin": null,
            "max_height": null,
            "max_width": null,
            "min_height": null,
            "min_width": null,
            "object_fit": null,
            "object_position": null,
            "order": null,
            "overflow": null,
            "overflow_x": null,
            "overflow_y": null,
            "padding": null,
            "right": null,
            "top": null,
            "visibility": null,
            "width": null
          }
        },
        "11f47786d67e4db6a33d7b4a7495b304": {
          "model_module": "@jupyter-widgets/controls",
          "model_name": "DescriptionStyleModel",
          "model_module_version": "1.5.0",
          "state": {
            "_model_module": "@jupyter-widgets/controls",
            "_model_module_version": "1.5.0",
            "_model_name": "DescriptionStyleModel",
            "_view_count": null,
            "_view_module": "@jupyter-widgets/base",
            "_view_module_version": "1.2.0",
            "_view_name": "StyleView",
            "description_width": ""
          }
        },
        "d608b3b17bbc4055b683bd161adb08e8": {
          "model_module": "@jupyter-widgets/base",
          "model_name": "LayoutModel",
          "model_module_version": "1.2.0",
          "state": {
            "_model_module": "@jupyter-widgets/base",
            "_model_module_version": "1.2.0",
            "_model_name": "LayoutModel",
            "_view_count": null,
            "_view_module": "@jupyter-widgets/base",
            "_view_module_version": "1.2.0",
            "_view_name": "LayoutView",
            "align_content": null,
            "align_items": null,
            "align_self": null,
            "border": null,
            "bottom": null,
            "display": null,
            "flex": null,
            "flex_flow": null,
            "grid_area": null,
            "grid_auto_columns": null,
            "grid_auto_flow": null,
            "grid_auto_rows": null,
            "grid_column": null,
            "grid_gap": null,
            "grid_row": null,
            "grid_template_areas": null,
            "grid_template_columns": null,
            "grid_template_rows": null,
            "height": null,
            "justify_content": null,
            "justify_items": null,
            "left": null,
            "margin": null,
            "max_height": null,
            "max_width": null,
            "min_height": null,
            "min_width": null,
            "object_fit": null,
            "object_position": null,
            "order": null,
            "overflow": null,
            "overflow_x": null,
            "overflow_y": null,
            "padding": null,
            "right": null,
            "top": null,
            "visibility": null,
            "width": null
          }
        },
        "b2048f779fef4f519ed57e3f8f25fb9e": {
          "model_module": "@jupyter-widgets/controls",
          "model_name": "ProgressStyleModel",
          "model_module_version": "1.5.0",
          "state": {
            "_model_module": "@jupyter-widgets/controls",
            "_model_module_version": "1.5.0",
            "_model_name": "ProgressStyleModel",
            "_view_count": null,
            "_view_module": "@jupyter-widgets/base",
            "_view_module_version": "1.2.0",
            "_view_name": "StyleView",
            "bar_color": null,
            "description_width": ""
          }
        },
        "9dd73bdcb26e4677b37c0081922e18fb": {
          "model_module": "@jupyter-widgets/base",
          "model_name": "LayoutModel",
          "model_module_version": "1.2.0",
          "state": {
            "_model_module": "@jupyter-widgets/base",
            "_model_module_version": "1.2.0",
            "_model_name": "LayoutModel",
            "_view_count": null,
            "_view_module": "@jupyter-widgets/base",
            "_view_module_version": "1.2.0",
            "_view_name": "LayoutView",
            "align_content": null,
            "align_items": null,
            "align_self": null,
            "border": null,
            "bottom": null,
            "display": null,
            "flex": null,
            "flex_flow": null,
            "grid_area": null,
            "grid_auto_columns": null,
            "grid_auto_flow": null,
            "grid_auto_rows": null,
            "grid_column": null,
            "grid_gap": null,
            "grid_row": null,
            "grid_template_areas": null,
            "grid_template_columns": null,
            "grid_template_rows": null,
            "height": null,
            "justify_content": null,
            "justify_items": null,
            "left": null,
            "margin": null,
            "max_height": null,
            "max_width": null,
            "min_height": null,
            "min_width": null,
            "object_fit": null,
            "object_position": null,
            "order": null,
            "overflow": null,
            "overflow_x": null,
            "overflow_y": null,
            "padding": null,
            "right": null,
            "top": null,
            "visibility": null,
            "width": null
          }
        },
        "80326698566e448c84697f86b43e69e0": {
          "model_module": "@jupyter-widgets/controls",
          "model_name": "DescriptionStyleModel",
          "model_module_version": "1.5.0",
          "state": {
            "_model_module": "@jupyter-widgets/controls",
            "_model_module_version": "1.5.0",
            "_model_name": "DescriptionStyleModel",
            "_view_count": null,
            "_view_module": "@jupyter-widgets/base",
            "_view_module_version": "1.2.0",
            "_view_name": "StyleView",
            "description_width": ""
          }
        },
        "b745580860454419a738e6c6249171f6": {
          "model_module": "@jupyter-widgets/controls",
          "model_name": "HBoxModel",
          "model_module_version": "1.5.0",
          "state": {
            "_dom_classes": [],
            "_model_module": "@jupyter-widgets/controls",
            "_model_module_version": "1.5.0",
            "_model_name": "HBoxModel",
            "_view_count": null,
            "_view_module": "@jupyter-widgets/controls",
            "_view_module_version": "1.5.0",
            "_view_name": "HBoxView",
            "box_style": "",
            "children": [
              "IPY_MODEL_2affe1a8fd934bd29580a485ecc5e641",
              "IPY_MODEL_9657a1fd29b541398f1d9e1e98c10a3a",
              "IPY_MODEL_4859cc7ef1c6473f80a8ea33fefbd1d2"
            ],
            "layout": "IPY_MODEL_a256c3179f064264a611d8f2f58e9849"
          }
        },
        "2affe1a8fd934bd29580a485ecc5e641": {
          "model_module": "@jupyter-widgets/controls",
          "model_name": "HTMLModel",
          "model_module_version": "1.5.0",
          "state": {
            "_dom_classes": [],
            "_model_module": "@jupyter-widgets/controls",
            "_model_module_version": "1.5.0",
            "_model_name": "HTMLModel",
            "_view_count": null,
            "_view_module": "@jupyter-widgets/controls",
            "_view_module_version": "1.5.0",
            "_view_name": "HTMLView",
            "description": "",
            "description_tooltip": null,
            "layout": "IPY_MODEL_e981ae66fff04465bc8bd102e8b63be8",
            "placeholder": "​",
            "style": "IPY_MODEL_c62fe3894c6f48fbb1c531761afa6ff4",
            "value": "Downloading: 100%"
          }
        },
        "9657a1fd29b541398f1d9e1e98c10a3a": {
          "model_module": "@jupyter-widgets/controls",
          "model_name": "FloatProgressModel",
          "model_module_version": "1.5.0",
          "state": {
            "_dom_classes": [],
            "_model_module": "@jupyter-widgets/controls",
            "_model_module_version": "1.5.0",
            "_model_name": "FloatProgressModel",
            "_view_count": null,
            "_view_module": "@jupyter-widgets/controls",
            "_view_module_version": "1.5.0",
            "_view_name": "ProgressView",
            "bar_style": "success",
            "description": "",
            "description_tooltip": null,
            "layout": "IPY_MODEL_8dc340615ff944d8abe7877a927475d0",
            "max": 190,
            "min": 0,
            "orientation": "horizontal",
            "style": "IPY_MODEL_171a52ec9b0546e4b7f039f1ba1af5a5",
            "value": 190
          }
        },
        "4859cc7ef1c6473f80a8ea33fefbd1d2": {
          "model_module": "@jupyter-widgets/controls",
          "model_name": "HTMLModel",
          "model_module_version": "1.5.0",
          "state": {
            "_dom_classes": [],
            "_model_module": "@jupyter-widgets/controls",
            "_model_module_version": "1.5.0",
            "_model_name": "HTMLModel",
            "_view_count": null,
            "_view_module": "@jupyter-widgets/controls",
            "_view_module_version": "1.5.0",
            "_view_name": "HTMLView",
            "description": "",
            "description_tooltip": null,
            "layout": "IPY_MODEL_a201d85d15544ba1a1a3242ca432590e",
            "placeholder": "​",
            "style": "IPY_MODEL_cb71f74f4e2842a7a72d2bb98275872d",
            "value": " 190/190 [00:00&lt;00:00, 7.07kB/s]"
          }
        },
        "a256c3179f064264a611d8f2f58e9849": {
          "model_module": "@jupyter-widgets/base",
          "model_name": "LayoutModel",
          "model_module_version": "1.2.0",
          "state": {
            "_model_module": "@jupyter-widgets/base",
            "_model_module_version": "1.2.0",
            "_model_name": "LayoutModel",
            "_view_count": null,
            "_view_module": "@jupyter-widgets/base",
            "_view_module_version": "1.2.0",
            "_view_name": "LayoutView",
            "align_content": null,
            "align_items": null,
            "align_self": null,
            "border": null,
            "bottom": null,
            "display": null,
            "flex": null,
            "flex_flow": null,
            "grid_area": null,
            "grid_auto_columns": null,
            "grid_auto_flow": null,
            "grid_auto_rows": null,
            "grid_column": null,
            "grid_gap": null,
            "grid_row": null,
            "grid_template_areas": null,
            "grid_template_columns": null,
            "grid_template_rows": null,
            "height": null,
            "justify_content": null,
            "justify_items": null,
            "left": null,
            "margin": null,
            "max_height": null,
            "max_width": null,
            "min_height": null,
            "min_width": null,
            "object_fit": null,
            "object_position": null,
            "order": null,
            "overflow": null,
            "overflow_x": null,
            "overflow_y": null,
            "padding": null,
            "right": null,
            "top": null,
            "visibility": null,
            "width": null
          }
        },
        "e981ae66fff04465bc8bd102e8b63be8": {
          "model_module": "@jupyter-widgets/base",
          "model_name": "LayoutModel",
          "model_module_version": "1.2.0",
          "state": {
            "_model_module": "@jupyter-widgets/base",
            "_model_module_version": "1.2.0",
            "_model_name": "LayoutModel",
            "_view_count": null,
            "_view_module": "@jupyter-widgets/base",
            "_view_module_version": "1.2.0",
            "_view_name": "LayoutView",
            "align_content": null,
            "align_items": null,
            "align_self": null,
            "border": null,
            "bottom": null,
            "display": null,
            "flex": null,
            "flex_flow": null,
            "grid_area": null,
            "grid_auto_columns": null,
            "grid_auto_flow": null,
            "grid_auto_rows": null,
            "grid_column": null,
            "grid_gap": null,
            "grid_row": null,
            "grid_template_areas": null,
            "grid_template_columns": null,
            "grid_template_rows": null,
            "height": null,
            "justify_content": null,
            "justify_items": null,
            "left": null,
            "margin": null,
            "max_height": null,
            "max_width": null,
            "min_height": null,
            "min_width": null,
            "object_fit": null,
            "object_position": null,
            "order": null,
            "overflow": null,
            "overflow_x": null,
            "overflow_y": null,
            "padding": null,
            "right": null,
            "top": null,
            "visibility": null,
            "width": null
          }
        },
        "c62fe3894c6f48fbb1c531761afa6ff4": {
          "model_module": "@jupyter-widgets/controls",
          "model_name": "DescriptionStyleModel",
          "model_module_version": "1.5.0",
          "state": {
            "_model_module": "@jupyter-widgets/controls",
            "_model_module_version": "1.5.0",
            "_model_name": "DescriptionStyleModel",
            "_view_count": null,
            "_view_module": "@jupyter-widgets/base",
            "_view_module_version": "1.2.0",
            "_view_name": "StyleView",
            "description_width": ""
          }
        },
        "8dc340615ff944d8abe7877a927475d0": {
          "model_module": "@jupyter-widgets/base",
          "model_name": "LayoutModel",
          "model_module_version": "1.2.0",
          "state": {
            "_model_module": "@jupyter-widgets/base",
            "_model_module_version": "1.2.0",
            "_model_name": "LayoutModel",
            "_view_count": null,
            "_view_module": "@jupyter-widgets/base",
            "_view_module_version": "1.2.0",
            "_view_name": "LayoutView",
            "align_content": null,
            "align_items": null,
            "align_self": null,
            "border": null,
            "bottom": null,
            "display": null,
            "flex": null,
            "flex_flow": null,
            "grid_area": null,
            "grid_auto_columns": null,
            "grid_auto_flow": null,
            "grid_auto_rows": null,
            "grid_column": null,
            "grid_gap": null,
            "grid_row": null,
            "grid_template_areas": null,
            "grid_template_columns": null,
            "grid_template_rows": null,
            "height": null,
            "justify_content": null,
            "justify_items": null,
            "left": null,
            "margin": null,
            "max_height": null,
            "max_width": null,
            "min_height": null,
            "min_width": null,
            "object_fit": null,
            "object_position": null,
            "order": null,
            "overflow": null,
            "overflow_x": null,
            "overflow_y": null,
            "padding": null,
            "right": null,
            "top": null,
            "visibility": null,
            "width": null
          }
        },
        "171a52ec9b0546e4b7f039f1ba1af5a5": {
          "model_module": "@jupyter-widgets/controls",
          "model_name": "ProgressStyleModel",
          "model_module_version": "1.5.0",
          "state": {
            "_model_module": "@jupyter-widgets/controls",
            "_model_module_version": "1.5.0",
            "_model_name": "ProgressStyleModel",
            "_view_count": null,
            "_view_module": "@jupyter-widgets/base",
            "_view_module_version": "1.2.0",
            "_view_name": "StyleView",
            "bar_color": null,
            "description_width": ""
          }
        },
        "a201d85d15544ba1a1a3242ca432590e": {
          "model_module": "@jupyter-widgets/base",
          "model_name": "LayoutModel",
          "model_module_version": "1.2.0",
          "state": {
            "_model_module": "@jupyter-widgets/base",
            "_model_module_version": "1.2.0",
            "_model_name": "LayoutModel",
            "_view_count": null,
            "_view_module": "@jupyter-widgets/base",
            "_view_module_version": "1.2.0",
            "_view_name": "LayoutView",
            "align_content": null,
            "align_items": null,
            "align_self": null,
            "border": null,
            "bottom": null,
            "display": null,
            "flex": null,
            "flex_flow": null,
            "grid_area": null,
            "grid_auto_columns": null,
            "grid_auto_flow": null,
            "grid_auto_rows": null,
            "grid_column": null,
            "grid_gap": null,
            "grid_row": null,
            "grid_template_areas": null,
            "grid_template_columns": null,
            "grid_template_rows": null,
            "height": null,
            "justify_content": null,
            "justify_items": null,
            "left": null,
            "margin": null,
            "max_height": null,
            "max_width": null,
            "min_height": null,
            "min_width": null,
            "object_fit": null,
            "object_position": null,
            "order": null,
            "overflow": null,
            "overflow_x": null,
            "overflow_y": null,
            "padding": null,
            "right": null,
            "top": null,
            "visibility": null,
            "width": null
          }
        },
        "cb71f74f4e2842a7a72d2bb98275872d": {
          "model_module": "@jupyter-widgets/controls",
          "model_name": "DescriptionStyleModel",
          "model_module_version": "1.5.0",
          "state": {
            "_model_module": "@jupyter-widgets/controls",
            "_model_module_version": "1.5.0",
            "_model_name": "DescriptionStyleModel",
            "_view_count": null,
            "_view_module": "@jupyter-widgets/base",
            "_view_module_version": "1.2.0",
            "_view_name": "StyleView",
            "description_width": ""
          }
        },
        "a6afad077e63415395c0f46f52e9bf9e": {
          "model_module": "@jupyter-widgets/controls",
          "model_name": "HBoxModel",
          "model_module_version": "1.5.0",
          "state": {
            "_dom_classes": [],
            "_model_module": "@jupyter-widgets/controls",
            "_model_module_version": "1.5.0",
            "_model_name": "HBoxModel",
            "_view_count": null,
            "_view_module": "@jupyter-widgets/controls",
            "_view_module_version": "1.5.0",
            "_view_name": "HBoxView",
            "box_style": "",
            "children": [
              "IPY_MODEL_161b12c98d304c6aa300ecb4e4048561",
              "IPY_MODEL_d2d4a4b8970d410abe2522d49b9a9042",
              "IPY_MODEL_5cfc3f6cfc0147e59216f007692019fa"
            ],
            "layout": "IPY_MODEL_c7d3428365d6425594dd7dc152befae6"
          }
        },
        "161b12c98d304c6aa300ecb4e4048561": {
          "model_module": "@jupyter-widgets/controls",
          "model_name": "HTMLModel",
          "model_module_version": "1.5.0",
          "state": {
            "_dom_classes": [],
            "_model_module": "@jupyter-widgets/controls",
            "_model_module_version": "1.5.0",
            "_model_name": "HTMLModel",
            "_view_count": null,
            "_view_module": "@jupyter-widgets/controls",
            "_view_module_version": "1.5.0",
            "_view_name": "HTMLView",
            "description": "",
            "description_tooltip": null,
            "layout": "IPY_MODEL_bc755c0afc294515b9ef9702e31b6ed8",
            "placeholder": "​",
            "style": "IPY_MODEL_05d7bb40713a4d20941d7e5ac27fd22b",
            "value": "Downloading: 100%"
          }
        },
        "d2d4a4b8970d410abe2522d49b9a9042": {
          "model_module": "@jupyter-widgets/controls",
          "model_name": "FloatProgressModel",
          "model_module_version": "1.5.0",
          "state": {
            "_dom_classes": [],
            "_model_module": "@jupyter-widgets/controls",
            "_model_module_version": "1.5.0",
            "_model_name": "FloatProgressModel",
            "_view_count": null,
            "_view_module": "@jupyter-widgets/controls",
            "_view_module_version": "1.5.0",
            "_view_name": "ProgressView",
            "bar_style": "success",
            "description": "",
            "description_tooltip": null,
            "layout": "IPY_MODEL_808fb3cd55d046eab00656e05e4348bb",
            "max": 3786,
            "min": 0,
            "orientation": "horizontal",
            "style": "IPY_MODEL_6a5fdaf6986741989be3d8593a4feead",
            "value": 3786
          }
        },
        "5cfc3f6cfc0147e59216f007692019fa": {
          "model_module": "@jupyter-widgets/controls",
          "model_name": "HTMLModel",
          "model_module_version": "1.5.0",
          "state": {
            "_dom_classes": [],
            "_model_module": "@jupyter-widgets/controls",
            "_model_module_version": "1.5.0",
            "_model_name": "HTMLModel",
            "_view_count": null,
            "_view_module": "@jupyter-widgets/controls",
            "_view_module_version": "1.5.0",
            "_view_name": "HTMLView",
            "description": "",
            "description_tooltip": null,
            "layout": "IPY_MODEL_332f21945de544e1a6fbf39c46b5a348",
            "placeholder": "​",
            "style": "IPY_MODEL_1cb545407397411c856ceeff08322160",
            "value": " 3.79k/3.79k [00:00&lt;00:00, 116kB/s]"
          }
        },
        "c7d3428365d6425594dd7dc152befae6": {
          "model_module": "@jupyter-widgets/base",
          "model_name": "LayoutModel",
          "model_module_version": "1.2.0",
          "state": {
            "_model_module": "@jupyter-widgets/base",
            "_model_module_version": "1.2.0",
            "_model_name": "LayoutModel",
            "_view_count": null,
            "_view_module": "@jupyter-widgets/base",
            "_view_module_version": "1.2.0",
            "_view_name": "LayoutView",
            "align_content": null,
            "align_items": null,
            "align_self": null,
            "border": null,
            "bottom": null,
            "display": null,
            "flex": null,
            "flex_flow": null,
            "grid_area": null,
            "grid_auto_columns": null,
            "grid_auto_flow": null,
            "grid_auto_rows": null,
            "grid_column": null,
            "grid_gap": null,
            "grid_row": null,
            "grid_template_areas": null,
            "grid_template_columns": null,
            "grid_template_rows": null,
            "height": null,
            "justify_content": null,
            "justify_items": null,
            "left": null,
            "margin": null,
            "max_height": null,
            "max_width": null,
            "min_height": null,
            "min_width": null,
            "object_fit": null,
            "object_position": null,
            "order": null,
            "overflow": null,
            "overflow_x": null,
            "overflow_y": null,
            "padding": null,
            "right": null,
            "top": null,
            "visibility": null,
            "width": null
          }
        },
        "bc755c0afc294515b9ef9702e31b6ed8": {
          "model_module": "@jupyter-widgets/base",
          "model_name": "LayoutModel",
          "model_module_version": "1.2.0",
          "state": {
            "_model_module": "@jupyter-widgets/base",
            "_model_module_version": "1.2.0",
            "_model_name": "LayoutModel",
            "_view_count": null,
            "_view_module": "@jupyter-widgets/base",
            "_view_module_version": "1.2.0",
            "_view_name": "LayoutView",
            "align_content": null,
            "align_items": null,
            "align_self": null,
            "border": null,
            "bottom": null,
            "display": null,
            "flex": null,
            "flex_flow": null,
            "grid_area": null,
            "grid_auto_columns": null,
            "grid_auto_flow": null,
            "grid_auto_rows": null,
            "grid_column": null,
            "grid_gap": null,
            "grid_row": null,
            "grid_template_areas": null,
            "grid_template_columns": null,
            "grid_template_rows": null,
            "height": null,
            "justify_content": null,
            "justify_items": null,
            "left": null,
            "margin": null,
            "max_height": null,
            "max_width": null,
            "min_height": null,
            "min_width": null,
            "object_fit": null,
            "object_position": null,
            "order": null,
            "overflow": null,
            "overflow_x": null,
            "overflow_y": null,
            "padding": null,
            "right": null,
            "top": null,
            "visibility": null,
            "width": null
          }
        },
        "05d7bb40713a4d20941d7e5ac27fd22b": {
          "model_module": "@jupyter-widgets/controls",
          "model_name": "DescriptionStyleModel",
          "model_module_version": "1.5.0",
          "state": {
            "_model_module": "@jupyter-widgets/controls",
            "_model_module_version": "1.5.0",
            "_model_name": "DescriptionStyleModel",
            "_view_count": null,
            "_view_module": "@jupyter-widgets/base",
            "_view_module_version": "1.2.0",
            "_view_name": "StyleView",
            "description_width": ""
          }
        },
        "808fb3cd55d046eab00656e05e4348bb": {
          "model_module": "@jupyter-widgets/base",
          "model_name": "LayoutModel",
          "model_module_version": "1.2.0",
          "state": {
            "_model_module": "@jupyter-widgets/base",
            "_model_module_version": "1.2.0",
            "_model_name": "LayoutModel",
            "_view_count": null,
            "_view_module": "@jupyter-widgets/base",
            "_view_module_version": "1.2.0",
            "_view_name": "LayoutView",
            "align_content": null,
            "align_items": null,
            "align_self": null,
            "border": null,
            "bottom": null,
            "display": null,
            "flex": null,
            "flex_flow": null,
            "grid_area": null,
            "grid_auto_columns": null,
            "grid_auto_flow": null,
            "grid_auto_rows": null,
            "grid_column": null,
            "grid_gap": null,
            "grid_row": null,
            "grid_template_areas": null,
            "grid_template_columns": null,
            "grid_template_rows": null,
            "height": null,
            "justify_content": null,
            "justify_items": null,
            "left": null,
            "margin": null,
            "max_height": null,
            "max_width": null,
            "min_height": null,
            "min_width": null,
            "object_fit": null,
            "object_position": null,
            "order": null,
            "overflow": null,
            "overflow_x": null,
            "overflow_y": null,
            "padding": null,
            "right": null,
            "top": null,
            "visibility": null,
            "width": null
          }
        },
        "6a5fdaf6986741989be3d8593a4feead": {
          "model_module": "@jupyter-widgets/controls",
          "model_name": "ProgressStyleModel",
          "model_module_version": "1.5.0",
          "state": {
            "_model_module": "@jupyter-widgets/controls",
            "_model_module_version": "1.5.0",
            "_model_name": "ProgressStyleModel",
            "_view_count": null,
            "_view_module": "@jupyter-widgets/base",
            "_view_module_version": "1.2.0",
            "_view_name": "StyleView",
            "bar_color": null,
            "description_width": ""
          }
        },
        "332f21945de544e1a6fbf39c46b5a348": {
          "model_module": "@jupyter-widgets/base",
          "model_name": "LayoutModel",
          "model_module_version": "1.2.0",
          "state": {
            "_model_module": "@jupyter-widgets/base",
            "_model_module_version": "1.2.0",
            "_model_name": "LayoutModel",
            "_view_count": null,
            "_view_module": "@jupyter-widgets/base",
            "_view_module_version": "1.2.0",
            "_view_name": "LayoutView",
            "align_content": null,
            "align_items": null,
            "align_self": null,
            "border": null,
            "bottom": null,
            "display": null,
            "flex": null,
            "flex_flow": null,
            "grid_area": null,
            "grid_auto_columns": null,
            "grid_auto_flow": null,
            "grid_auto_rows": null,
            "grid_column": null,
            "grid_gap": null,
            "grid_row": null,
            "grid_template_areas": null,
            "grid_template_columns": null,
            "grid_template_rows": null,
            "height": null,
            "justify_content": null,
            "justify_items": null,
            "left": null,
            "margin": null,
            "max_height": null,
            "max_width": null,
            "min_height": null,
            "min_width": null,
            "object_fit": null,
            "object_position": null,
            "order": null,
            "overflow": null,
            "overflow_x": null,
            "overflow_y": null,
            "padding": null,
            "right": null,
            "top": null,
            "visibility": null,
            "width": null
          }
        },
        "1cb545407397411c856ceeff08322160": {
          "model_module": "@jupyter-widgets/controls",
          "model_name": "DescriptionStyleModel",
          "model_module_version": "1.5.0",
          "state": {
            "_model_module": "@jupyter-widgets/controls",
            "_model_module_version": "1.5.0",
            "_model_name": "DescriptionStyleModel",
            "_view_count": null,
            "_view_module": "@jupyter-widgets/base",
            "_view_module_version": "1.2.0",
            "_view_name": "StyleView",
            "description_width": ""
          }
        },
        "f3507ef504e14353968abf2cecefba76": {
          "model_module": "@jupyter-widgets/controls",
          "model_name": "HBoxModel",
          "model_module_version": "1.5.0",
          "state": {
            "_dom_classes": [],
            "_model_module": "@jupyter-widgets/controls",
            "_model_module_version": "1.5.0",
            "_model_name": "HBoxModel",
            "_view_count": null,
            "_view_module": "@jupyter-widgets/controls",
            "_view_module_version": "1.5.0",
            "_view_name": "HBoxView",
            "box_style": "",
            "children": [
              "IPY_MODEL_8b48ff5dfa2d4f21abbfb1bbca82fd49",
              "IPY_MODEL_8a7e461d8f344c02a522ee7ff48efd14",
              "IPY_MODEL_2a3ec6d7ec9a40f9ab2c45ac0be4f128"
            ],
            "layout": "IPY_MODEL_ab0a383e94c8487cb120e5dc3d18c03c"
          }
        },
        "8b48ff5dfa2d4f21abbfb1bbca82fd49": {
          "model_module": "@jupyter-widgets/controls",
          "model_name": "HTMLModel",
          "model_module_version": "1.5.0",
          "state": {
            "_dom_classes": [],
            "_model_module": "@jupyter-widgets/controls",
            "_model_module_version": "1.5.0",
            "_model_name": "HTMLModel",
            "_view_count": null,
            "_view_module": "@jupyter-widgets/controls",
            "_view_module_version": "1.5.0",
            "_view_name": "HTMLView",
            "description": "",
            "description_tooltip": null,
            "layout": "IPY_MODEL_98ccdb61503747fc9d10c93eb61c1ecc",
            "placeholder": "​",
            "style": "IPY_MODEL_91acb69f83ad4fdfaaace93bc6462b82",
            "value": "Downloading: 100%"
          }
        },
        "8a7e461d8f344c02a522ee7ff48efd14": {
          "model_module": "@jupyter-widgets/controls",
          "model_name": "FloatProgressModel",
          "model_module_version": "1.5.0",
          "state": {
            "_dom_classes": [],
            "_model_module": "@jupyter-widgets/controls",
            "_model_module_version": "1.5.0",
            "_model_name": "FloatProgressModel",
            "_view_count": null,
            "_view_module": "@jupyter-widgets/controls",
            "_view_module_version": "1.5.0",
            "_view_name": "ProgressView",
            "bar_style": "success",
            "description": "",
            "description_tooltip": null,
            "layout": "IPY_MODEL_01e4e11a958e427385d349e17eb4922d",
            "max": 645,
            "min": 0,
            "orientation": "horizontal",
            "style": "IPY_MODEL_9d92b6ab849742d2a985cadafd580b9e",
            "value": 645
          }
        },
        "2a3ec6d7ec9a40f9ab2c45ac0be4f128": {
          "model_module": "@jupyter-widgets/controls",
          "model_name": "HTMLModel",
          "model_module_version": "1.5.0",
          "state": {
            "_dom_classes": [],
            "_model_module": "@jupyter-widgets/controls",
            "_model_module_version": "1.5.0",
            "_model_name": "HTMLModel",
            "_view_count": null,
            "_view_module": "@jupyter-widgets/controls",
            "_view_module_version": "1.5.0",
            "_view_name": "HTMLView",
            "description": "",
            "description_tooltip": null,
            "layout": "IPY_MODEL_4c1a77c6c164496580b705f8d40a6c3f",
            "placeholder": "​",
            "style": "IPY_MODEL_007730f4a11b45db800e29e75a449203",
            "value": " 645/645 [00:00&lt;00:00, 26.2kB/s]"
          }
        },
        "ab0a383e94c8487cb120e5dc3d18c03c": {
          "model_module": "@jupyter-widgets/base",
          "model_name": "LayoutModel",
          "model_module_version": "1.2.0",
          "state": {
            "_model_module": "@jupyter-widgets/base",
            "_model_module_version": "1.2.0",
            "_model_name": "LayoutModel",
            "_view_count": null,
            "_view_module": "@jupyter-widgets/base",
            "_view_module_version": "1.2.0",
            "_view_name": "LayoutView",
            "align_content": null,
            "align_items": null,
            "align_self": null,
            "border": null,
            "bottom": null,
            "display": null,
            "flex": null,
            "flex_flow": null,
            "grid_area": null,
            "grid_auto_columns": null,
            "grid_auto_flow": null,
            "grid_auto_rows": null,
            "grid_column": null,
            "grid_gap": null,
            "grid_row": null,
            "grid_template_areas": null,
            "grid_template_columns": null,
            "grid_template_rows": null,
            "height": null,
            "justify_content": null,
            "justify_items": null,
            "left": null,
            "margin": null,
            "max_height": null,
            "max_width": null,
            "min_height": null,
            "min_width": null,
            "object_fit": null,
            "object_position": null,
            "order": null,
            "overflow": null,
            "overflow_x": null,
            "overflow_y": null,
            "padding": null,
            "right": null,
            "top": null,
            "visibility": null,
            "width": null
          }
        },
        "98ccdb61503747fc9d10c93eb61c1ecc": {
          "model_module": "@jupyter-widgets/base",
          "model_name": "LayoutModel",
          "model_module_version": "1.2.0",
          "state": {
            "_model_module": "@jupyter-widgets/base",
            "_model_module_version": "1.2.0",
            "_model_name": "LayoutModel",
            "_view_count": null,
            "_view_module": "@jupyter-widgets/base",
            "_view_module_version": "1.2.0",
            "_view_name": "LayoutView",
            "align_content": null,
            "align_items": null,
            "align_self": null,
            "border": null,
            "bottom": null,
            "display": null,
            "flex": null,
            "flex_flow": null,
            "grid_area": null,
            "grid_auto_columns": null,
            "grid_auto_flow": null,
            "grid_auto_rows": null,
            "grid_column": null,
            "grid_gap": null,
            "grid_row": null,
            "grid_template_areas": null,
            "grid_template_columns": null,
            "grid_template_rows": null,
            "height": null,
            "justify_content": null,
            "justify_items": null,
            "left": null,
            "margin": null,
            "max_height": null,
            "max_width": null,
            "min_height": null,
            "min_width": null,
            "object_fit": null,
            "object_position": null,
            "order": null,
            "overflow": null,
            "overflow_x": null,
            "overflow_y": null,
            "padding": null,
            "right": null,
            "top": null,
            "visibility": null,
            "width": null
          }
        },
        "91acb69f83ad4fdfaaace93bc6462b82": {
          "model_module": "@jupyter-widgets/controls",
          "model_name": "DescriptionStyleModel",
          "model_module_version": "1.5.0",
          "state": {
            "_model_module": "@jupyter-widgets/controls",
            "_model_module_version": "1.5.0",
            "_model_name": "DescriptionStyleModel",
            "_view_count": null,
            "_view_module": "@jupyter-widgets/base",
            "_view_module_version": "1.2.0",
            "_view_name": "StyleView",
            "description_width": ""
          }
        },
        "01e4e11a958e427385d349e17eb4922d": {
          "model_module": "@jupyter-widgets/base",
          "model_name": "LayoutModel",
          "model_module_version": "1.2.0",
          "state": {
            "_model_module": "@jupyter-widgets/base",
            "_model_module_version": "1.2.0",
            "_model_name": "LayoutModel",
            "_view_count": null,
            "_view_module": "@jupyter-widgets/base",
            "_view_module_version": "1.2.0",
            "_view_name": "LayoutView",
            "align_content": null,
            "align_items": null,
            "align_self": null,
            "border": null,
            "bottom": null,
            "display": null,
            "flex": null,
            "flex_flow": null,
            "grid_area": null,
            "grid_auto_columns": null,
            "grid_auto_flow": null,
            "grid_auto_rows": null,
            "grid_column": null,
            "grid_gap": null,
            "grid_row": null,
            "grid_template_areas": null,
            "grid_template_columns": null,
            "grid_template_rows": null,
            "height": null,
            "justify_content": null,
            "justify_items": null,
            "left": null,
            "margin": null,
            "max_height": null,
            "max_width": null,
            "min_height": null,
            "min_width": null,
            "object_fit": null,
            "object_position": null,
            "order": null,
            "overflow": null,
            "overflow_x": null,
            "overflow_y": null,
            "padding": null,
            "right": null,
            "top": null,
            "visibility": null,
            "width": null
          }
        },
        "9d92b6ab849742d2a985cadafd580b9e": {
          "model_module": "@jupyter-widgets/controls",
          "model_name": "ProgressStyleModel",
          "model_module_version": "1.5.0",
          "state": {
            "_model_module": "@jupyter-widgets/controls",
            "_model_module_version": "1.5.0",
            "_model_name": "ProgressStyleModel",
            "_view_count": null,
            "_view_module": "@jupyter-widgets/base",
            "_view_module_version": "1.2.0",
            "_view_name": "StyleView",
            "bar_color": null,
            "description_width": ""
          }
        },
        "4c1a77c6c164496580b705f8d40a6c3f": {
          "model_module": "@jupyter-widgets/base",
          "model_name": "LayoutModel",
          "model_module_version": "1.2.0",
          "state": {
            "_model_module": "@jupyter-widgets/base",
            "_model_module_version": "1.2.0",
            "_model_name": "LayoutModel",
            "_view_count": null,
            "_view_module": "@jupyter-widgets/base",
            "_view_module_version": "1.2.0",
            "_view_name": "LayoutView",
            "align_content": null,
            "align_items": null,
            "align_self": null,
            "border": null,
            "bottom": null,
            "display": null,
            "flex": null,
            "flex_flow": null,
            "grid_area": null,
            "grid_auto_columns": null,
            "grid_auto_flow": null,
            "grid_auto_rows": null,
            "grid_column": null,
            "grid_gap": null,
            "grid_row": null,
            "grid_template_areas": null,
            "grid_template_columns": null,
            "grid_template_rows": null,
            "height": null,
            "justify_content": null,
            "justify_items": null,
            "left": null,
            "margin": null,
            "max_height": null,
            "max_width": null,
            "min_height": null,
            "min_width": null,
            "object_fit": null,
            "object_position": null,
            "order": null,
            "overflow": null,
            "overflow_x": null,
            "overflow_y": null,
            "padding": null,
            "right": null,
            "top": null,
            "visibility": null,
            "width": null
          }
        },
        "007730f4a11b45db800e29e75a449203": {
          "model_module": "@jupyter-widgets/controls",
          "model_name": "DescriptionStyleModel",
          "model_module_version": "1.5.0",
          "state": {
            "_model_module": "@jupyter-widgets/controls",
            "_model_module_version": "1.5.0",
            "_model_name": "DescriptionStyleModel",
            "_view_count": null,
            "_view_module": "@jupyter-widgets/base",
            "_view_module_version": "1.2.0",
            "_view_name": "StyleView",
            "description_width": ""
          }
        },
        "f70a4817fedb4e1abcbb127881543181": {
          "model_module": "@jupyter-widgets/controls",
          "model_name": "HBoxModel",
          "model_module_version": "1.5.0",
          "state": {
            "_dom_classes": [],
            "_model_module": "@jupyter-widgets/controls",
            "_model_module_version": "1.5.0",
            "_model_name": "HBoxModel",
            "_view_count": null,
            "_view_module": "@jupyter-widgets/controls",
            "_view_module_version": "1.5.0",
            "_view_name": "HBoxView",
            "box_style": "",
            "children": [
              "IPY_MODEL_ebbd779e9e09447ca4bfb6675f79d9fd",
              "IPY_MODEL_39418846e0a14cd3ac35be6b26f97092",
              "IPY_MODEL_fb2f750fce534f608117fa4046d5380d"
            ],
            "layout": "IPY_MODEL_1779d6d43f2c43a29217855b10a53cad"
          }
        },
        "ebbd779e9e09447ca4bfb6675f79d9fd": {
          "model_module": "@jupyter-widgets/controls",
          "model_name": "HTMLModel",
          "model_module_version": "1.5.0",
          "state": {
            "_dom_classes": [],
            "_model_module": "@jupyter-widgets/controls",
            "_model_module_version": "1.5.0",
            "_model_name": "HTMLModel",
            "_view_count": null,
            "_view_module": "@jupyter-widgets/controls",
            "_view_module_version": "1.5.0",
            "_view_name": "HTMLView",
            "description": "",
            "description_tooltip": null,
            "layout": "IPY_MODEL_5dd723b5a36f47c7bebe2be9599d469f",
            "placeholder": "​",
            "style": "IPY_MODEL_de970082e52d48b188424e6161cec12c",
            "value": "Downloading: 100%"
          }
        },
        "39418846e0a14cd3ac35be6b26f97092": {
          "model_module": "@jupyter-widgets/controls",
          "model_name": "FloatProgressModel",
          "model_module_version": "1.5.0",
          "state": {
            "_dom_classes": [],
            "_model_module": "@jupyter-widgets/controls",
            "_model_module_version": "1.5.0",
            "_model_name": "FloatProgressModel",
            "_view_count": null,
            "_view_module": "@jupyter-widgets/controls",
            "_view_module_version": "1.5.0",
            "_view_name": "ProgressView",
            "bar_style": "success",
            "description": "",
            "description_tooltip": null,
            "layout": "IPY_MODEL_c128435099da4a9fb00772c1407be473",
            "max": 122,
            "min": 0,
            "orientation": "horizontal",
            "style": "IPY_MODEL_f963a609bd7e4f3998cc9d36a31643a0",
            "value": 122
          }
        },
        "fb2f750fce534f608117fa4046d5380d": {
          "model_module": "@jupyter-widgets/controls",
          "model_name": "HTMLModel",
          "model_module_version": "1.5.0",
          "state": {
            "_dom_classes": [],
            "_model_module": "@jupyter-widgets/controls",
            "_model_module_version": "1.5.0",
            "_model_name": "HTMLModel",
            "_view_count": null,
            "_view_module": "@jupyter-widgets/controls",
            "_view_module_version": "1.5.0",
            "_view_name": "HTMLView",
            "description": "",
            "description_tooltip": null,
            "layout": "IPY_MODEL_1fa9b705577942d393abd3f560c3f1ae",
            "placeholder": "​",
            "style": "IPY_MODEL_0d848bbf0e24476ba11999e7a8f15390",
            "value": " 122/122 [00:00&lt;00:00, 3.80kB/s]"
          }
        },
        "1779d6d43f2c43a29217855b10a53cad": {
          "model_module": "@jupyter-widgets/base",
          "model_name": "LayoutModel",
          "model_module_version": "1.2.0",
          "state": {
            "_model_module": "@jupyter-widgets/base",
            "_model_module_version": "1.2.0",
            "_model_name": "LayoutModel",
            "_view_count": null,
            "_view_module": "@jupyter-widgets/base",
            "_view_module_version": "1.2.0",
            "_view_name": "LayoutView",
            "align_content": null,
            "align_items": null,
            "align_self": null,
            "border": null,
            "bottom": null,
            "display": null,
            "flex": null,
            "flex_flow": null,
            "grid_area": null,
            "grid_auto_columns": null,
            "grid_auto_flow": null,
            "grid_auto_rows": null,
            "grid_column": null,
            "grid_gap": null,
            "grid_row": null,
            "grid_template_areas": null,
            "grid_template_columns": null,
            "grid_template_rows": null,
            "height": null,
            "justify_content": null,
            "justify_items": null,
            "left": null,
            "margin": null,
            "max_height": null,
            "max_width": null,
            "min_height": null,
            "min_width": null,
            "object_fit": null,
            "object_position": null,
            "order": null,
            "overflow": null,
            "overflow_x": null,
            "overflow_y": null,
            "padding": null,
            "right": null,
            "top": null,
            "visibility": null,
            "width": null
          }
        },
        "5dd723b5a36f47c7bebe2be9599d469f": {
          "model_module": "@jupyter-widgets/base",
          "model_name": "LayoutModel",
          "model_module_version": "1.2.0",
          "state": {
            "_model_module": "@jupyter-widgets/base",
            "_model_module_version": "1.2.0",
            "_model_name": "LayoutModel",
            "_view_count": null,
            "_view_module": "@jupyter-widgets/base",
            "_view_module_version": "1.2.0",
            "_view_name": "LayoutView",
            "align_content": null,
            "align_items": null,
            "align_self": null,
            "border": null,
            "bottom": null,
            "display": null,
            "flex": null,
            "flex_flow": null,
            "grid_area": null,
            "grid_auto_columns": null,
            "grid_auto_flow": null,
            "grid_auto_rows": null,
            "grid_column": null,
            "grid_gap": null,
            "grid_row": null,
            "grid_template_areas": null,
            "grid_template_columns": null,
            "grid_template_rows": null,
            "height": null,
            "justify_content": null,
            "justify_items": null,
            "left": null,
            "margin": null,
            "max_height": null,
            "max_width": null,
            "min_height": null,
            "min_width": null,
            "object_fit": null,
            "object_position": null,
            "order": null,
            "overflow": null,
            "overflow_x": null,
            "overflow_y": null,
            "padding": null,
            "right": null,
            "top": null,
            "visibility": null,
            "width": null
          }
        },
        "de970082e52d48b188424e6161cec12c": {
          "model_module": "@jupyter-widgets/controls",
          "model_name": "DescriptionStyleModel",
          "model_module_version": "1.5.0",
          "state": {
            "_model_module": "@jupyter-widgets/controls",
            "_model_module_version": "1.5.0",
            "_model_name": "DescriptionStyleModel",
            "_view_count": null,
            "_view_module": "@jupyter-widgets/base",
            "_view_module_version": "1.2.0",
            "_view_name": "StyleView",
            "description_width": ""
          }
        },
        "c128435099da4a9fb00772c1407be473": {
          "model_module": "@jupyter-widgets/base",
          "model_name": "LayoutModel",
          "model_module_version": "1.2.0",
          "state": {
            "_model_module": "@jupyter-widgets/base",
            "_model_module_version": "1.2.0",
            "_model_name": "LayoutModel",
            "_view_count": null,
            "_view_module": "@jupyter-widgets/base",
            "_view_module_version": "1.2.0",
            "_view_name": "LayoutView",
            "align_content": null,
            "align_items": null,
            "align_self": null,
            "border": null,
            "bottom": null,
            "display": null,
            "flex": null,
            "flex_flow": null,
            "grid_area": null,
            "grid_auto_columns": null,
            "grid_auto_flow": null,
            "grid_auto_rows": null,
            "grid_column": null,
            "grid_gap": null,
            "grid_row": null,
            "grid_template_areas": null,
            "grid_template_columns": null,
            "grid_template_rows": null,
            "height": null,
            "justify_content": null,
            "justify_items": null,
            "left": null,
            "margin": null,
            "max_height": null,
            "max_width": null,
            "min_height": null,
            "min_width": null,
            "object_fit": null,
            "object_position": null,
            "order": null,
            "overflow": null,
            "overflow_x": null,
            "overflow_y": null,
            "padding": null,
            "right": null,
            "top": null,
            "visibility": null,
            "width": null
          }
        },
        "f963a609bd7e4f3998cc9d36a31643a0": {
          "model_module": "@jupyter-widgets/controls",
          "model_name": "ProgressStyleModel",
          "model_module_version": "1.5.0",
          "state": {
            "_model_module": "@jupyter-widgets/controls",
            "_model_module_version": "1.5.0",
            "_model_name": "ProgressStyleModel",
            "_view_count": null,
            "_view_module": "@jupyter-widgets/base",
            "_view_module_version": "1.2.0",
            "_view_name": "StyleView",
            "bar_color": null,
            "description_width": ""
          }
        },
        "1fa9b705577942d393abd3f560c3f1ae": {
          "model_module": "@jupyter-widgets/base",
          "model_name": "LayoutModel",
          "model_module_version": "1.2.0",
          "state": {
            "_model_module": "@jupyter-widgets/base",
            "_model_module_version": "1.2.0",
            "_model_name": "LayoutModel",
            "_view_count": null,
            "_view_module": "@jupyter-widgets/base",
            "_view_module_version": "1.2.0",
            "_view_name": "LayoutView",
            "align_content": null,
            "align_items": null,
            "align_self": null,
            "border": null,
            "bottom": null,
            "display": null,
            "flex": null,
            "flex_flow": null,
            "grid_area": null,
            "grid_auto_columns": null,
            "grid_auto_flow": null,
            "grid_auto_rows": null,
            "grid_column": null,
            "grid_gap": null,
            "grid_row": null,
            "grid_template_areas": null,
            "grid_template_columns": null,
            "grid_template_rows": null,
            "height": null,
            "justify_content": null,
            "justify_items": null,
            "left": null,
            "margin": null,
            "max_height": null,
            "max_width": null,
            "min_height": null,
            "min_width": null,
            "object_fit": null,
            "object_position": null,
            "order": null,
            "overflow": null,
            "overflow_x": null,
            "overflow_y": null,
            "padding": null,
            "right": null,
            "top": null,
            "visibility": null,
            "width": null
          }
        },
        "0d848bbf0e24476ba11999e7a8f15390": {
          "model_module": "@jupyter-widgets/controls",
          "model_name": "DescriptionStyleModel",
          "model_module_version": "1.5.0",
          "state": {
            "_model_module": "@jupyter-widgets/controls",
            "_model_module_version": "1.5.0",
            "_model_name": "DescriptionStyleModel",
            "_view_count": null,
            "_view_module": "@jupyter-widgets/base",
            "_view_module_version": "1.2.0",
            "_view_name": "StyleView",
            "description_width": ""
          }
        },
        "449342e9957e40be960ec5f94f6d32b5": {
          "model_module": "@jupyter-widgets/controls",
          "model_name": "HBoxModel",
          "model_module_version": "1.5.0",
          "state": {
            "_dom_classes": [],
            "_model_module": "@jupyter-widgets/controls",
            "_model_module_version": "1.5.0",
            "_model_name": "HBoxModel",
            "_view_count": null,
            "_view_module": "@jupyter-widgets/controls",
            "_view_module_version": "1.5.0",
            "_view_name": "HBoxView",
            "box_style": "",
            "children": [
              "IPY_MODEL_1557bb49cc154b3eac37d7071e0ab3bb",
              "IPY_MODEL_9b5540ef1b49417787030dcaf160c968",
              "IPY_MODEL_40f0ccb3b62f4bdf80931811d689cbf9"
            ],
            "layout": "IPY_MODEL_e18e9318184849a7849b1207c0789f4f"
          }
        },
        "1557bb49cc154b3eac37d7071e0ab3bb": {
          "model_module": "@jupyter-widgets/controls",
          "model_name": "HTMLModel",
          "model_module_version": "1.5.0",
          "state": {
            "_dom_classes": [],
            "_model_module": "@jupyter-widgets/controls",
            "_model_module_version": "1.5.0",
            "_model_name": "HTMLModel",
            "_view_count": null,
            "_view_module": "@jupyter-widgets/controls",
            "_view_module_version": "1.5.0",
            "_view_name": "HTMLView",
            "description": "",
            "description_tooltip": null,
            "layout": "IPY_MODEL_92850e8aa7c84c48a6195947a3e7bfcf",
            "placeholder": "​",
            "style": "IPY_MODEL_d4d2f8758d3c4857a7426eb277191906",
            "value": "Downloading: 100%"
          }
        },
        "9b5540ef1b49417787030dcaf160c968": {
          "model_module": "@jupyter-widgets/controls",
          "model_name": "FloatProgressModel",
          "model_module_version": "1.5.0",
          "state": {
            "_dom_classes": [],
            "_model_module": "@jupyter-widgets/controls",
            "_model_module_version": "1.5.0",
            "_model_name": "FloatProgressModel",
            "_view_count": null,
            "_view_module": "@jupyter-widgets/controls",
            "_view_module_version": "1.5.0",
            "_view_name": "ProgressView",
            "bar_style": "success",
            "description": "",
            "description_tooltip": null,
            "layout": "IPY_MODEL_468ff4861c3b47d6b853b77efdba43ea",
            "max": 470693617,
            "min": 0,
            "orientation": "horizontal",
            "style": "IPY_MODEL_09e00b8d9cc648d68cb9c43bd83c46a2",
            "value": 470693617
          }
        },
        "40f0ccb3b62f4bdf80931811d689cbf9": {
          "model_module": "@jupyter-widgets/controls",
          "model_name": "HTMLModel",
          "model_module_version": "1.5.0",
          "state": {
            "_dom_classes": [],
            "_model_module": "@jupyter-widgets/controls",
            "_model_module_version": "1.5.0",
            "_model_name": "HTMLModel",
            "_view_count": null,
            "_view_module": "@jupyter-widgets/controls",
            "_view_module_version": "1.5.0",
            "_view_name": "HTMLView",
            "description": "",
            "description_tooltip": null,
            "layout": "IPY_MODEL_63d8603c8e67430683c1dc1a733b5e69",
            "placeholder": "​",
            "style": "IPY_MODEL_9500f1ff2aec453486957f3b52bd800b",
            "value": " 471M/471M [00:13&lt;00:00, 53.5MB/s]"
          }
        },
        "e18e9318184849a7849b1207c0789f4f": {
          "model_module": "@jupyter-widgets/base",
          "model_name": "LayoutModel",
          "model_module_version": "1.2.0",
          "state": {
            "_model_module": "@jupyter-widgets/base",
            "_model_module_version": "1.2.0",
            "_model_name": "LayoutModel",
            "_view_count": null,
            "_view_module": "@jupyter-widgets/base",
            "_view_module_version": "1.2.0",
            "_view_name": "LayoutView",
            "align_content": null,
            "align_items": null,
            "align_self": null,
            "border": null,
            "bottom": null,
            "display": null,
            "flex": null,
            "flex_flow": null,
            "grid_area": null,
            "grid_auto_columns": null,
            "grid_auto_flow": null,
            "grid_auto_rows": null,
            "grid_column": null,
            "grid_gap": null,
            "grid_row": null,
            "grid_template_areas": null,
            "grid_template_columns": null,
            "grid_template_rows": null,
            "height": null,
            "justify_content": null,
            "justify_items": null,
            "left": null,
            "margin": null,
            "max_height": null,
            "max_width": null,
            "min_height": null,
            "min_width": null,
            "object_fit": null,
            "object_position": null,
            "order": null,
            "overflow": null,
            "overflow_x": null,
            "overflow_y": null,
            "padding": null,
            "right": null,
            "top": null,
            "visibility": null,
            "width": null
          }
        },
        "92850e8aa7c84c48a6195947a3e7bfcf": {
          "model_module": "@jupyter-widgets/base",
          "model_name": "LayoutModel",
          "model_module_version": "1.2.0",
          "state": {
            "_model_module": "@jupyter-widgets/base",
            "_model_module_version": "1.2.0",
            "_model_name": "LayoutModel",
            "_view_count": null,
            "_view_module": "@jupyter-widgets/base",
            "_view_module_version": "1.2.0",
            "_view_name": "LayoutView",
            "align_content": null,
            "align_items": null,
            "align_self": null,
            "border": null,
            "bottom": null,
            "display": null,
            "flex": null,
            "flex_flow": null,
            "grid_area": null,
            "grid_auto_columns": null,
            "grid_auto_flow": null,
            "grid_auto_rows": null,
            "grid_column": null,
            "grid_gap": null,
            "grid_row": null,
            "grid_template_areas": null,
            "grid_template_columns": null,
            "grid_template_rows": null,
            "height": null,
            "justify_content": null,
            "justify_items": null,
            "left": null,
            "margin": null,
            "max_height": null,
            "max_width": null,
            "min_height": null,
            "min_width": null,
            "object_fit": null,
            "object_position": null,
            "order": null,
            "overflow": null,
            "overflow_x": null,
            "overflow_y": null,
            "padding": null,
            "right": null,
            "top": null,
            "visibility": null,
            "width": null
          }
        },
        "d4d2f8758d3c4857a7426eb277191906": {
          "model_module": "@jupyter-widgets/controls",
          "model_name": "DescriptionStyleModel",
          "model_module_version": "1.5.0",
          "state": {
            "_model_module": "@jupyter-widgets/controls",
            "_model_module_version": "1.5.0",
            "_model_name": "DescriptionStyleModel",
            "_view_count": null,
            "_view_module": "@jupyter-widgets/base",
            "_view_module_version": "1.2.0",
            "_view_name": "StyleView",
            "description_width": ""
          }
        },
        "468ff4861c3b47d6b853b77efdba43ea": {
          "model_module": "@jupyter-widgets/base",
          "model_name": "LayoutModel",
          "model_module_version": "1.2.0",
          "state": {
            "_model_module": "@jupyter-widgets/base",
            "_model_module_version": "1.2.0",
            "_model_name": "LayoutModel",
            "_view_count": null,
            "_view_module": "@jupyter-widgets/base",
            "_view_module_version": "1.2.0",
            "_view_name": "LayoutView",
            "align_content": null,
            "align_items": null,
            "align_self": null,
            "border": null,
            "bottom": null,
            "display": null,
            "flex": null,
            "flex_flow": null,
            "grid_area": null,
            "grid_auto_columns": null,
            "grid_auto_flow": null,
            "grid_auto_rows": null,
            "grid_column": null,
            "grid_gap": null,
            "grid_row": null,
            "grid_template_areas": null,
            "grid_template_columns": null,
            "grid_template_rows": null,
            "height": null,
            "justify_content": null,
            "justify_items": null,
            "left": null,
            "margin": null,
            "max_height": null,
            "max_width": null,
            "min_height": null,
            "min_width": null,
            "object_fit": null,
            "object_position": null,
            "order": null,
            "overflow": null,
            "overflow_x": null,
            "overflow_y": null,
            "padding": null,
            "right": null,
            "top": null,
            "visibility": null,
            "width": null
          }
        },
        "09e00b8d9cc648d68cb9c43bd83c46a2": {
          "model_module": "@jupyter-widgets/controls",
          "model_name": "ProgressStyleModel",
          "model_module_version": "1.5.0",
          "state": {
            "_model_module": "@jupyter-widgets/controls",
            "_model_module_version": "1.5.0",
            "_model_name": "ProgressStyleModel",
            "_view_count": null,
            "_view_module": "@jupyter-widgets/base",
            "_view_module_version": "1.2.0",
            "_view_name": "StyleView",
            "bar_color": null,
            "description_width": ""
          }
        },
        "63d8603c8e67430683c1dc1a733b5e69": {
          "model_module": "@jupyter-widgets/base",
          "model_name": "LayoutModel",
          "model_module_version": "1.2.0",
          "state": {
            "_model_module": "@jupyter-widgets/base",
            "_model_module_version": "1.2.0",
            "_model_name": "LayoutModel",
            "_view_count": null,
            "_view_module": "@jupyter-widgets/base",
            "_view_module_version": "1.2.0",
            "_view_name": "LayoutView",
            "align_content": null,
            "align_items": null,
            "align_self": null,
            "border": null,
            "bottom": null,
            "display": null,
            "flex": null,
            "flex_flow": null,
            "grid_area": null,
            "grid_auto_columns": null,
            "grid_auto_flow": null,
            "grid_auto_rows": null,
            "grid_column": null,
            "grid_gap": null,
            "grid_row": null,
            "grid_template_areas": null,
            "grid_template_columns": null,
            "grid_template_rows": null,
            "height": null,
            "justify_content": null,
            "justify_items": null,
            "left": null,
            "margin": null,
            "max_height": null,
            "max_width": null,
            "min_height": null,
            "min_width": null,
            "object_fit": null,
            "object_position": null,
            "order": null,
            "overflow": null,
            "overflow_x": null,
            "overflow_y": null,
            "padding": null,
            "right": null,
            "top": null,
            "visibility": null,
            "width": null
          }
        },
        "9500f1ff2aec453486957f3b52bd800b": {
          "model_module": "@jupyter-widgets/controls",
          "model_name": "DescriptionStyleModel",
          "model_module_version": "1.5.0",
          "state": {
            "_model_module": "@jupyter-widgets/controls",
            "_model_module_version": "1.5.0",
            "_model_name": "DescriptionStyleModel",
            "_view_count": null,
            "_view_module": "@jupyter-widgets/base",
            "_view_module_version": "1.2.0",
            "_view_name": "StyleView",
            "description_width": ""
          }
        },
        "b0ddbf176c3f496ba98cc8936bdcc904": {
          "model_module": "@jupyter-widgets/controls",
          "model_name": "HBoxModel",
          "model_module_version": "1.5.0",
          "state": {
            "_dom_classes": [],
            "_model_module": "@jupyter-widgets/controls",
            "_model_module_version": "1.5.0",
            "_model_name": "HBoxModel",
            "_view_count": null,
            "_view_module": "@jupyter-widgets/controls",
            "_view_module_version": "1.5.0",
            "_view_name": "HBoxView",
            "box_style": "",
            "children": [
              "IPY_MODEL_62039d4ff78e4e60819116e82d6ce39b",
              "IPY_MODEL_1f15c1dfd1964561811bce4d3a3e1cc7",
              "IPY_MODEL_8f1b7cf4b9d240e0a628ac94fb554bea"
            ],
            "layout": "IPY_MODEL_a0d690c9195c4b0ea292f83d7a89e521"
          }
        },
        "62039d4ff78e4e60819116e82d6ce39b": {
          "model_module": "@jupyter-widgets/controls",
          "model_name": "HTMLModel",
          "model_module_version": "1.5.0",
          "state": {
            "_dom_classes": [],
            "_model_module": "@jupyter-widgets/controls",
            "_model_module_version": "1.5.0",
            "_model_name": "HTMLModel",
            "_view_count": null,
            "_view_module": "@jupyter-widgets/controls",
            "_view_module_version": "1.5.0",
            "_view_name": "HTMLView",
            "description": "",
            "description_tooltip": null,
            "layout": "IPY_MODEL_93a2b7c442544fdbb141390e7a57ca06",
            "placeholder": "​",
            "style": "IPY_MODEL_2355f314cbae4cc5a4e4dfa74f2478e4",
            "value": "Downloading: 100%"
          }
        },
        "1f15c1dfd1964561811bce4d3a3e1cc7": {
          "model_module": "@jupyter-widgets/controls",
          "model_name": "FloatProgressModel",
          "model_module_version": "1.5.0",
          "state": {
            "_dom_classes": [],
            "_model_module": "@jupyter-widgets/controls",
            "_model_module_version": "1.5.0",
            "_model_name": "FloatProgressModel",
            "_view_count": null,
            "_view_module": "@jupyter-widgets/controls",
            "_view_module_version": "1.5.0",
            "_view_name": "ProgressView",
            "bar_style": "success",
            "description": "",
            "description_tooltip": null,
            "layout": "IPY_MODEL_1dc7aa3f5b854a5592b9dba09a7e8f71",
            "max": 53,
            "min": 0,
            "orientation": "horizontal",
            "style": "IPY_MODEL_aef1a14d8f644c84a047b3199d3f4112",
            "value": 53
          }
        },
        "8f1b7cf4b9d240e0a628ac94fb554bea": {
          "model_module": "@jupyter-widgets/controls",
          "model_name": "HTMLModel",
          "model_module_version": "1.5.0",
          "state": {
            "_dom_classes": [],
            "_model_module": "@jupyter-widgets/controls",
            "_model_module_version": "1.5.0",
            "_model_name": "HTMLModel",
            "_view_count": null,
            "_view_module": "@jupyter-widgets/controls",
            "_view_module_version": "1.5.0",
            "_view_name": "HTMLView",
            "description": "",
            "description_tooltip": null,
            "layout": "IPY_MODEL_104a85c2f45c45b4aff82ed46ea78c43",
            "placeholder": "​",
            "style": "IPY_MODEL_e8304e4acd41420c845d85e7718a8b5d",
            "value": " 53.0/53.0 [00:00&lt;00:00, 1.41kB/s]"
          }
        },
        "a0d690c9195c4b0ea292f83d7a89e521": {
          "model_module": "@jupyter-widgets/base",
          "model_name": "LayoutModel",
          "model_module_version": "1.2.0",
          "state": {
            "_model_module": "@jupyter-widgets/base",
            "_model_module_version": "1.2.0",
            "_model_name": "LayoutModel",
            "_view_count": null,
            "_view_module": "@jupyter-widgets/base",
            "_view_module_version": "1.2.0",
            "_view_name": "LayoutView",
            "align_content": null,
            "align_items": null,
            "align_self": null,
            "border": null,
            "bottom": null,
            "display": null,
            "flex": null,
            "flex_flow": null,
            "grid_area": null,
            "grid_auto_columns": null,
            "grid_auto_flow": null,
            "grid_auto_rows": null,
            "grid_column": null,
            "grid_gap": null,
            "grid_row": null,
            "grid_template_areas": null,
            "grid_template_columns": null,
            "grid_template_rows": null,
            "height": null,
            "justify_content": null,
            "justify_items": null,
            "left": null,
            "margin": null,
            "max_height": null,
            "max_width": null,
            "min_height": null,
            "min_width": null,
            "object_fit": null,
            "object_position": null,
            "order": null,
            "overflow": null,
            "overflow_x": null,
            "overflow_y": null,
            "padding": null,
            "right": null,
            "top": null,
            "visibility": null,
            "width": null
          }
        },
        "93a2b7c442544fdbb141390e7a57ca06": {
          "model_module": "@jupyter-widgets/base",
          "model_name": "LayoutModel",
          "model_module_version": "1.2.0",
          "state": {
            "_model_module": "@jupyter-widgets/base",
            "_model_module_version": "1.2.0",
            "_model_name": "LayoutModel",
            "_view_count": null,
            "_view_module": "@jupyter-widgets/base",
            "_view_module_version": "1.2.0",
            "_view_name": "LayoutView",
            "align_content": null,
            "align_items": null,
            "align_self": null,
            "border": null,
            "bottom": null,
            "display": null,
            "flex": null,
            "flex_flow": null,
            "grid_area": null,
            "grid_auto_columns": null,
            "grid_auto_flow": null,
            "grid_auto_rows": null,
            "grid_column": null,
            "grid_gap": null,
            "grid_row": null,
            "grid_template_areas": null,
            "grid_template_columns": null,
            "grid_template_rows": null,
            "height": null,
            "justify_content": null,
            "justify_items": null,
            "left": null,
            "margin": null,
            "max_height": null,
            "max_width": null,
            "min_height": null,
            "min_width": null,
            "object_fit": null,
            "object_position": null,
            "order": null,
            "overflow": null,
            "overflow_x": null,
            "overflow_y": null,
            "padding": null,
            "right": null,
            "top": null,
            "visibility": null,
            "width": null
          }
        },
        "2355f314cbae4cc5a4e4dfa74f2478e4": {
          "model_module": "@jupyter-widgets/controls",
          "model_name": "DescriptionStyleModel",
          "model_module_version": "1.5.0",
          "state": {
            "_model_module": "@jupyter-widgets/controls",
            "_model_module_version": "1.5.0",
            "_model_name": "DescriptionStyleModel",
            "_view_count": null,
            "_view_module": "@jupyter-widgets/base",
            "_view_module_version": "1.2.0",
            "_view_name": "StyleView",
            "description_width": ""
          }
        },
        "1dc7aa3f5b854a5592b9dba09a7e8f71": {
          "model_module": "@jupyter-widgets/base",
          "model_name": "LayoutModel",
          "model_module_version": "1.2.0",
          "state": {
            "_model_module": "@jupyter-widgets/base",
            "_model_module_version": "1.2.0",
            "_model_name": "LayoutModel",
            "_view_count": null,
            "_view_module": "@jupyter-widgets/base",
            "_view_module_version": "1.2.0",
            "_view_name": "LayoutView",
            "align_content": null,
            "align_items": null,
            "align_self": null,
            "border": null,
            "bottom": null,
            "display": null,
            "flex": null,
            "flex_flow": null,
            "grid_area": null,
            "grid_auto_columns": null,
            "grid_auto_flow": null,
            "grid_auto_rows": null,
            "grid_column": null,
            "grid_gap": null,
            "grid_row": null,
            "grid_template_areas": null,
            "grid_template_columns": null,
            "grid_template_rows": null,
            "height": null,
            "justify_content": null,
            "justify_items": null,
            "left": null,
            "margin": null,
            "max_height": null,
            "max_width": null,
            "min_height": null,
            "min_width": null,
            "object_fit": null,
            "object_position": null,
            "order": null,
            "overflow": null,
            "overflow_x": null,
            "overflow_y": null,
            "padding": null,
            "right": null,
            "top": null,
            "visibility": null,
            "width": null
          }
        },
        "aef1a14d8f644c84a047b3199d3f4112": {
          "model_module": "@jupyter-widgets/controls",
          "model_name": "ProgressStyleModel",
          "model_module_version": "1.5.0",
          "state": {
            "_model_module": "@jupyter-widgets/controls",
            "_model_module_version": "1.5.0",
            "_model_name": "ProgressStyleModel",
            "_view_count": null,
            "_view_module": "@jupyter-widgets/base",
            "_view_module_version": "1.2.0",
            "_view_name": "StyleView",
            "bar_color": null,
            "description_width": ""
          }
        },
        "104a85c2f45c45b4aff82ed46ea78c43": {
          "model_module": "@jupyter-widgets/base",
          "model_name": "LayoutModel",
          "model_module_version": "1.2.0",
          "state": {
            "_model_module": "@jupyter-widgets/base",
            "_model_module_version": "1.2.0",
            "_model_name": "LayoutModel",
            "_view_count": null,
            "_view_module": "@jupyter-widgets/base",
            "_view_module_version": "1.2.0",
            "_view_name": "LayoutView",
            "align_content": null,
            "align_items": null,
            "align_self": null,
            "border": null,
            "bottom": null,
            "display": null,
            "flex": null,
            "flex_flow": null,
            "grid_area": null,
            "grid_auto_columns": null,
            "grid_auto_flow": null,
            "grid_auto_rows": null,
            "grid_column": null,
            "grid_gap": null,
            "grid_row": null,
            "grid_template_areas": null,
            "grid_template_columns": null,
            "grid_template_rows": null,
            "height": null,
            "justify_content": null,
            "justify_items": null,
            "left": null,
            "margin": null,
            "max_height": null,
            "max_width": null,
            "min_height": null,
            "min_width": null,
            "object_fit": null,
            "object_position": null,
            "order": null,
            "overflow": null,
            "overflow_x": null,
            "overflow_y": null,
            "padding": null,
            "right": null,
            "top": null,
            "visibility": null,
            "width": null
          }
        },
        "e8304e4acd41420c845d85e7718a8b5d": {
          "model_module": "@jupyter-widgets/controls",
          "model_name": "DescriptionStyleModel",
          "model_module_version": "1.5.0",
          "state": {
            "_model_module": "@jupyter-widgets/controls",
            "_model_module_version": "1.5.0",
            "_model_name": "DescriptionStyleModel",
            "_view_count": null,
            "_view_module": "@jupyter-widgets/base",
            "_view_module_version": "1.2.0",
            "_view_name": "StyleView",
            "description_width": ""
          }
        },
        "c3134f58443c4371ae76bb8ec008dc54": {
          "model_module": "@jupyter-widgets/controls",
          "model_name": "HBoxModel",
          "model_module_version": "1.5.0",
          "state": {
            "_dom_classes": [],
            "_model_module": "@jupyter-widgets/controls",
            "_model_module_version": "1.5.0",
            "_model_name": "HBoxModel",
            "_view_count": null,
            "_view_module": "@jupyter-widgets/controls",
            "_view_module_version": "1.5.0",
            "_view_name": "HBoxView",
            "box_style": "",
            "children": [
              "IPY_MODEL_ce335483d1454847a2c808cdfd0ee994",
              "IPY_MODEL_72fc1ab317ee43f682b0cf87a0c0e3a2",
              "IPY_MODEL_a268752183f54be989e2a08af8aacf90"
            ],
            "layout": "IPY_MODEL_02f3001afd8642aab14847f22192b779"
          }
        },
        "ce335483d1454847a2c808cdfd0ee994": {
          "model_module": "@jupyter-widgets/controls",
          "model_name": "HTMLModel",
          "model_module_version": "1.5.0",
          "state": {
            "_dom_classes": [],
            "_model_module": "@jupyter-widgets/controls",
            "_model_module_version": "1.5.0",
            "_model_name": "HTMLModel",
            "_view_count": null,
            "_view_module": "@jupyter-widgets/controls",
            "_view_module_version": "1.5.0",
            "_view_name": "HTMLView",
            "description": "",
            "description_tooltip": null,
            "layout": "IPY_MODEL_a96979ce6eb84e08a9d1317fe5bd1ff1",
            "placeholder": "​",
            "style": "IPY_MODEL_86f9523c000548f2adc3c8836886a2b7",
            "value": "Downloading: 100%"
          }
        },
        "72fc1ab317ee43f682b0cf87a0c0e3a2": {
          "model_module": "@jupyter-widgets/controls",
          "model_name": "FloatProgressModel",
          "model_module_version": "1.5.0",
          "state": {
            "_dom_classes": [],
            "_model_module": "@jupyter-widgets/controls",
            "_model_module_version": "1.5.0",
            "_model_name": "FloatProgressModel",
            "_view_count": null,
            "_view_module": "@jupyter-widgets/controls",
            "_view_module_version": "1.5.0",
            "_view_name": "ProgressView",
            "bar_style": "success",
            "description": "",
            "description_tooltip": null,
            "layout": "IPY_MODEL_45d3a24df46742b5b24c61d4396891ff",
            "max": 5069051,
            "min": 0,
            "orientation": "horizontal",
            "style": "IPY_MODEL_02e1ec8ffbce4705acfb3bac22894e73",
            "value": 5069051
          }
        },
        "a268752183f54be989e2a08af8aacf90": {
          "model_module": "@jupyter-widgets/controls",
          "model_name": "HTMLModel",
          "model_module_version": "1.5.0",
          "state": {
            "_dom_classes": [],
            "_model_module": "@jupyter-widgets/controls",
            "_model_module_version": "1.5.0",
            "_model_name": "HTMLModel",
            "_view_count": null,
            "_view_module": "@jupyter-widgets/controls",
            "_view_module_version": "1.5.0",
            "_view_name": "HTMLView",
            "description": "",
            "description_tooltip": null,
            "layout": "IPY_MODEL_5e109e6f5a8144b9beffc3cd5f9b162a",
            "placeholder": "​",
            "style": "IPY_MODEL_3efdb7c9a547450ab59224f6fba9d254",
            "value": " 5.07M/5.07M [00:00&lt;00:00, 16.9MB/s]"
          }
        },
        "02f3001afd8642aab14847f22192b779": {
          "model_module": "@jupyter-widgets/base",
          "model_name": "LayoutModel",
          "model_module_version": "1.2.0",
          "state": {
            "_model_module": "@jupyter-widgets/base",
            "_model_module_version": "1.2.0",
            "_model_name": "LayoutModel",
            "_view_count": null,
            "_view_module": "@jupyter-widgets/base",
            "_view_module_version": "1.2.0",
            "_view_name": "LayoutView",
            "align_content": null,
            "align_items": null,
            "align_self": null,
            "border": null,
            "bottom": null,
            "display": null,
            "flex": null,
            "flex_flow": null,
            "grid_area": null,
            "grid_auto_columns": null,
            "grid_auto_flow": null,
            "grid_auto_rows": null,
            "grid_column": null,
            "grid_gap": null,
            "grid_row": null,
            "grid_template_areas": null,
            "grid_template_columns": null,
            "grid_template_rows": null,
            "height": null,
            "justify_content": null,
            "justify_items": null,
            "left": null,
            "margin": null,
            "max_height": null,
            "max_width": null,
            "min_height": null,
            "min_width": null,
            "object_fit": null,
            "object_position": null,
            "order": null,
            "overflow": null,
            "overflow_x": null,
            "overflow_y": null,
            "padding": null,
            "right": null,
            "top": null,
            "visibility": null,
            "width": null
          }
        },
        "a96979ce6eb84e08a9d1317fe5bd1ff1": {
          "model_module": "@jupyter-widgets/base",
          "model_name": "LayoutModel",
          "model_module_version": "1.2.0",
          "state": {
            "_model_module": "@jupyter-widgets/base",
            "_model_module_version": "1.2.0",
            "_model_name": "LayoutModel",
            "_view_count": null,
            "_view_module": "@jupyter-widgets/base",
            "_view_module_version": "1.2.0",
            "_view_name": "LayoutView",
            "align_content": null,
            "align_items": null,
            "align_self": null,
            "border": null,
            "bottom": null,
            "display": null,
            "flex": null,
            "flex_flow": null,
            "grid_area": null,
            "grid_auto_columns": null,
            "grid_auto_flow": null,
            "grid_auto_rows": null,
            "grid_column": null,
            "grid_gap": null,
            "grid_row": null,
            "grid_template_areas": null,
            "grid_template_columns": null,
            "grid_template_rows": null,
            "height": null,
            "justify_content": null,
            "justify_items": null,
            "left": null,
            "margin": null,
            "max_height": null,
            "max_width": null,
            "min_height": null,
            "min_width": null,
            "object_fit": null,
            "object_position": null,
            "order": null,
            "overflow": null,
            "overflow_x": null,
            "overflow_y": null,
            "padding": null,
            "right": null,
            "top": null,
            "visibility": null,
            "width": null
          }
        },
        "86f9523c000548f2adc3c8836886a2b7": {
          "model_module": "@jupyter-widgets/controls",
          "model_name": "DescriptionStyleModel",
          "model_module_version": "1.5.0",
          "state": {
            "_model_module": "@jupyter-widgets/controls",
            "_model_module_version": "1.5.0",
            "_model_name": "DescriptionStyleModel",
            "_view_count": null,
            "_view_module": "@jupyter-widgets/base",
            "_view_module_version": "1.2.0",
            "_view_name": "StyleView",
            "description_width": ""
          }
        },
        "45d3a24df46742b5b24c61d4396891ff": {
          "model_module": "@jupyter-widgets/base",
          "model_name": "LayoutModel",
          "model_module_version": "1.2.0",
          "state": {
            "_model_module": "@jupyter-widgets/base",
            "_model_module_version": "1.2.0",
            "_model_name": "LayoutModel",
            "_view_count": null,
            "_view_module": "@jupyter-widgets/base",
            "_view_module_version": "1.2.0",
            "_view_name": "LayoutView",
            "align_content": null,
            "align_items": null,
            "align_self": null,
            "border": null,
            "bottom": null,
            "display": null,
            "flex": null,
            "flex_flow": null,
            "grid_area": null,
            "grid_auto_columns": null,
            "grid_auto_flow": null,
            "grid_auto_rows": null,
            "grid_column": null,
            "grid_gap": null,
            "grid_row": null,
            "grid_template_areas": null,
            "grid_template_columns": null,
            "grid_template_rows": null,
            "height": null,
            "justify_content": null,
            "justify_items": null,
            "left": null,
            "margin": null,
            "max_height": null,
            "max_width": null,
            "min_height": null,
            "min_width": null,
            "object_fit": null,
            "object_position": null,
            "order": null,
            "overflow": null,
            "overflow_x": null,
            "overflow_y": null,
            "padding": null,
            "right": null,
            "top": null,
            "visibility": null,
            "width": null
          }
        },
        "02e1ec8ffbce4705acfb3bac22894e73": {
          "model_module": "@jupyter-widgets/controls",
          "model_name": "ProgressStyleModel",
          "model_module_version": "1.5.0",
          "state": {
            "_model_module": "@jupyter-widgets/controls",
            "_model_module_version": "1.5.0",
            "_model_name": "ProgressStyleModel",
            "_view_count": null,
            "_view_module": "@jupyter-widgets/base",
            "_view_module_version": "1.2.0",
            "_view_name": "StyleView",
            "bar_color": null,
            "description_width": ""
          }
        },
        "5e109e6f5a8144b9beffc3cd5f9b162a": {
          "model_module": "@jupyter-widgets/base",
          "model_name": "LayoutModel",
          "model_module_version": "1.2.0",
          "state": {
            "_model_module": "@jupyter-widgets/base",
            "_model_module_version": "1.2.0",
            "_model_name": "LayoutModel",
            "_view_count": null,
            "_view_module": "@jupyter-widgets/base",
            "_view_module_version": "1.2.0",
            "_view_name": "LayoutView",
            "align_content": null,
            "align_items": null,
            "align_self": null,
            "border": null,
            "bottom": null,
            "display": null,
            "flex": null,
            "flex_flow": null,
            "grid_area": null,
            "grid_auto_columns": null,
            "grid_auto_flow": null,
            "grid_auto_rows": null,
            "grid_column": null,
            "grid_gap": null,
            "grid_row": null,
            "grid_template_areas": null,
            "grid_template_columns": null,
            "grid_template_rows": null,
            "height": null,
            "justify_content": null,
            "justify_items": null,
            "left": null,
            "margin": null,
            "max_height": null,
            "max_width": null,
            "min_height": null,
            "min_width": null,
            "object_fit": null,
            "object_position": null,
            "order": null,
            "overflow": null,
            "overflow_x": null,
            "overflow_y": null,
            "padding": null,
            "right": null,
            "top": null,
            "visibility": null,
            "width": null
          }
        },
        "3efdb7c9a547450ab59224f6fba9d254": {
          "model_module": "@jupyter-widgets/controls",
          "model_name": "DescriptionStyleModel",
          "model_module_version": "1.5.0",
          "state": {
            "_model_module": "@jupyter-widgets/controls",
            "_model_module_version": "1.5.0",
            "_model_name": "DescriptionStyleModel",
            "_view_count": null,
            "_view_module": "@jupyter-widgets/base",
            "_view_module_version": "1.2.0",
            "_view_name": "StyleView",
            "description_width": ""
          }
        },
        "797f435259e749ad81794afa9e88c1f9": {
          "model_module": "@jupyter-widgets/controls",
          "model_name": "HBoxModel",
          "model_module_version": "1.5.0",
          "state": {
            "_dom_classes": [],
            "_model_module": "@jupyter-widgets/controls",
            "_model_module_version": "1.5.0",
            "_model_name": "HBoxModel",
            "_view_count": null,
            "_view_module": "@jupyter-widgets/controls",
            "_view_module_version": "1.5.0",
            "_view_name": "HBoxView",
            "box_style": "",
            "children": [
              "IPY_MODEL_66b863de96094b99af50650bc36b98b8",
              "IPY_MODEL_36c89d58223243f1b48cfaf48ad96fdd",
              "IPY_MODEL_ae6c9503843943c19b3b3e117646bd96"
            ],
            "layout": "IPY_MODEL_ff93058d8c3b4fcd8bdce368f8a3e6b5"
          }
        },
        "66b863de96094b99af50650bc36b98b8": {
          "model_module": "@jupyter-widgets/controls",
          "model_name": "HTMLModel",
          "model_module_version": "1.5.0",
          "state": {
            "_dom_classes": [],
            "_model_module": "@jupyter-widgets/controls",
            "_model_module_version": "1.5.0",
            "_model_name": "HTMLModel",
            "_view_count": null,
            "_view_module": "@jupyter-widgets/controls",
            "_view_module_version": "1.5.0",
            "_view_name": "HTMLView",
            "description": "",
            "description_tooltip": null,
            "layout": "IPY_MODEL_78f536d6d1f947faae9962f6150a9f9c",
            "placeholder": "​",
            "style": "IPY_MODEL_88217356bdae4ed8ab4e8cbf6a067da0",
            "value": "Downloading: 100%"
          }
        },
        "36c89d58223243f1b48cfaf48ad96fdd": {
          "model_module": "@jupyter-widgets/controls",
          "model_name": "FloatProgressModel",
          "model_module_version": "1.5.0",
          "state": {
            "_dom_classes": [],
            "_model_module": "@jupyter-widgets/controls",
            "_model_module_version": "1.5.0",
            "_model_name": "FloatProgressModel",
            "_view_count": null,
            "_view_module": "@jupyter-widgets/controls",
            "_view_module_version": "1.5.0",
            "_view_name": "ProgressView",
            "bar_style": "success",
            "description": "",
            "description_tooltip": null,
            "layout": "IPY_MODEL_37e396a5bd6147e995e18e8432a1af93",
            "max": 239,
            "min": 0,
            "orientation": "horizontal",
            "style": "IPY_MODEL_8e22c9503bce4c4493c9e1076054af64",
            "value": 239
          }
        },
        "ae6c9503843943c19b3b3e117646bd96": {
          "model_module": "@jupyter-widgets/controls",
          "model_name": "HTMLModel",
          "model_module_version": "1.5.0",
          "state": {
            "_dom_classes": [],
            "_model_module": "@jupyter-widgets/controls",
            "_model_module_version": "1.5.0",
            "_model_name": "HTMLModel",
            "_view_count": null,
            "_view_module": "@jupyter-widgets/controls",
            "_view_module_version": "1.5.0",
            "_view_name": "HTMLView",
            "description": "",
            "description_tooltip": null,
            "layout": "IPY_MODEL_d4ecfdd650864bf3abde5365fb4bf64f",
            "placeholder": "​",
            "style": "IPY_MODEL_116a0aa550494f78822705eefffc27ab",
            "value": " 239/239 [00:00&lt;00:00, 9.45kB/s]"
          }
        },
        "ff93058d8c3b4fcd8bdce368f8a3e6b5": {
          "model_module": "@jupyter-widgets/base",
          "model_name": "LayoutModel",
          "model_module_version": "1.2.0",
          "state": {
            "_model_module": "@jupyter-widgets/base",
            "_model_module_version": "1.2.0",
            "_model_name": "LayoutModel",
            "_view_count": null,
            "_view_module": "@jupyter-widgets/base",
            "_view_module_version": "1.2.0",
            "_view_name": "LayoutView",
            "align_content": null,
            "align_items": null,
            "align_self": null,
            "border": null,
            "bottom": null,
            "display": null,
            "flex": null,
            "flex_flow": null,
            "grid_area": null,
            "grid_auto_columns": null,
            "grid_auto_flow": null,
            "grid_auto_rows": null,
            "grid_column": null,
            "grid_gap": null,
            "grid_row": null,
            "grid_template_areas": null,
            "grid_template_columns": null,
            "grid_template_rows": null,
            "height": null,
            "justify_content": null,
            "justify_items": null,
            "left": null,
            "margin": null,
            "max_height": null,
            "max_width": null,
            "min_height": null,
            "min_width": null,
            "object_fit": null,
            "object_position": null,
            "order": null,
            "overflow": null,
            "overflow_x": null,
            "overflow_y": null,
            "padding": null,
            "right": null,
            "top": null,
            "visibility": null,
            "width": null
          }
        },
        "78f536d6d1f947faae9962f6150a9f9c": {
          "model_module": "@jupyter-widgets/base",
          "model_name": "LayoutModel",
          "model_module_version": "1.2.0",
          "state": {
            "_model_module": "@jupyter-widgets/base",
            "_model_module_version": "1.2.0",
            "_model_name": "LayoutModel",
            "_view_count": null,
            "_view_module": "@jupyter-widgets/base",
            "_view_module_version": "1.2.0",
            "_view_name": "LayoutView",
            "align_content": null,
            "align_items": null,
            "align_self": null,
            "border": null,
            "bottom": null,
            "display": null,
            "flex": null,
            "flex_flow": null,
            "grid_area": null,
            "grid_auto_columns": null,
            "grid_auto_flow": null,
            "grid_auto_rows": null,
            "grid_column": null,
            "grid_gap": null,
            "grid_row": null,
            "grid_template_areas": null,
            "grid_template_columns": null,
            "grid_template_rows": null,
            "height": null,
            "justify_content": null,
            "justify_items": null,
            "left": null,
            "margin": null,
            "max_height": null,
            "max_width": null,
            "min_height": null,
            "min_width": null,
            "object_fit": null,
            "object_position": null,
            "order": null,
            "overflow": null,
            "overflow_x": null,
            "overflow_y": null,
            "padding": null,
            "right": null,
            "top": null,
            "visibility": null,
            "width": null
          }
        },
        "88217356bdae4ed8ab4e8cbf6a067da0": {
          "model_module": "@jupyter-widgets/controls",
          "model_name": "DescriptionStyleModel",
          "model_module_version": "1.5.0",
          "state": {
            "_model_module": "@jupyter-widgets/controls",
            "_model_module_version": "1.5.0",
            "_model_name": "DescriptionStyleModel",
            "_view_count": null,
            "_view_module": "@jupyter-widgets/base",
            "_view_module_version": "1.2.0",
            "_view_name": "StyleView",
            "description_width": ""
          }
        },
        "37e396a5bd6147e995e18e8432a1af93": {
          "model_module": "@jupyter-widgets/base",
          "model_name": "LayoutModel",
          "model_module_version": "1.2.0",
          "state": {
            "_model_module": "@jupyter-widgets/base",
            "_model_module_version": "1.2.0",
            "_model_name": "LayoutModel",
            "_view_count": null,
            "_view_module": "@jupyter-widgets/base",
            "_view_module_version": "1.2.0",
            "_view_name": "LayoutView",
            "align_content": null,
            "align_items": null,
            "align_self": null,
            "border": null,
            "bottom": null,
            "display": null,
            "flex": null,
            "flex_flow": null,
            "grid_area": null,
            "grid_auto_columns": null,
            "grid_auto_flow": null,
            "grid_auto_rows": null,
            "grid_column": null,
            "grid_gap": null,
            "grid_row": null,
            "grid_template_areas": null,
            "grid_template_columns": null,
            "grid_template_rows": null,
            "height": null,
            "justify_content": null,
            "justify_items": null,
            "left": null,
            "margin": null,
            "max_height": null,
            "max_width": null,
            "min_height": null,
            "min_width": null,
            "object_fit": null,
            "object_position": null,
            "order": null,
            "overflow": null,
            "overflow_x": null,
            "overflow_y": null,
            "padding": null,
            "right": null,
            "top": null,
            "visibility": null,
            "width": null
          }
        },
        "8e22c9503bce4c4493c9e1076054af64": {
          "model_module": "@jupyter-widgets/controls",
          "model_name": "ProgressStyleModel",
          "model_module_version": "1.5.0",
          "state": {
            "_model_module": "@jupyter-widgets/controls",
            "_model_module_version": "1.5.0",
            "_model_name": "ProgressStyleModel",
            "_view_count": null,
            "_view_module": "@jupyter-widgets/base",
            "_view_module_version": "1.2.0",
            "_view_name": "StyleView",
            "bar_color": null,
            "description_width": ""
          }
        },
        "d4ecfdd650864bf3abde5365fb4bf64f": {
          "model_module": "@jupyter-widgets/base",
          "model_name": "LayoutModel",
          "model_module_version": "1.2.0",
          "state": {
            "_model_module": "@jupyter-widgets/base",
            "_model_module_version": "1.2.0",
            "_model_name": "LayoutModel",
            "_view_count": null,
            "_view_module": "@jupyter-widgets/base",
            "_view_module_version": "1.2.0",
            "_view_name": "LayoutView",
            "align_content": null,
            "align_items": null,
            "align_self": null,
            "border": null,
            "bottom": null,
            "display": null,
            "flex": null,
            "flex_flow": null,
            "grid_area": null,
            "grid_auto_columns": null,
            "grid_auto_flow": null,
            "grid_auto_rows": null,
            "grid_column": null,
            "grid_gap": null,
            "grid_row": null,
            "grid_template_areas": null,
            "grid_template_columns": null,
            "grid_template_rows": null,
            "height": null,
            "justify_content": null,
            "justify_items": null,
            "left": null,
            "margin": null,
            "max_height": null,
            "max_width": null,
            "min_height": null,
            "min_width": null,
            "object_fit": null,
            "object_position": null,
            "order": null,
            "overflow": null,
            "overflow_x": null,
            "overflow_y": null,
            "padding": null,
            "right": null,
            "top": null,
            "visibility": null,
            "width": null
          }
        },
        "116a0aa550494f78822705eefffc27ab": {
          "model_module": "@jupyter-widgets/controls",
          "model_name": "DescriptionStyleModel",
          "model_module_version": "1.5.0",
          "state": {
            "_model_module": "@jupyter-widgets/controls",
            "_model_module_version": "1.5.0",
            "_model_name": "DescriptionStyleModel",
            "_view_count": null,
            "_view_module": "@jupyter-widgets/base",
            "_view_module_version": "1.2.0",
            "_view_name": "StyleView",
            "description_width": ""
          }
        },
        "bf6a81a20dd7414e873051dcf66ead07": {
          "model_module": "@jupyter-widgets/controls",
          "model_name": "HBoxModel",
          "model_module_version": "1.5.0",
          "state": {
            "_dom_classes": [],
            "_model_module": "@jupyter-widgets/controls",
            "_model_module_version": "1.5.0",
            "_model_name": "HBoxModel",
            "_view_count": null,
            "_view_module": "@jupyter-widgets/controls",
            "_view_module_version": "1.5.0",
            "_view_name": "HBoxView",
            "box_style": "",
            "children": [
              "IPY_MODEL_3f81699e6a2e4c5784cae457e65bfcf8",
              "IPY_MODEL_2ee5d12632c8430a91995afd402d981a",
              "IPY_MODEL_e4d243ea8e96410f8c1ea876192e128a"
            ],
            "layout": "IPY_MODEL_ebbaf9eda7df4dd7ad8cf312a7a3146a"
          }
        },
        "3f81699e6a2e4c5784cae457e65bfcf8": {
          "model_module": "@jupyter-widgets/controls",
          "model_name": "HTMLModel",
          "model_module_version": "1.5.0",
          "state": {
            "_dom_classes": [],
            "_model_module": "@jupyter-widgets/controls",
            "_model_module_version": "1.5.0",
            "_model_name": "HTMLModel",
            "_view_count": null,
            "_view_module": "@jupyter-widgets/controls",
            "_view_module_version": "1.5.0",
            "_view_name": "HTMLView",
            "description": "",
            "description_tooltip": null,
            "layout": "IPY_MODEL_2a613b6f05e44a7a903617d75c7b50cd",
            "placeholder": "​",
            "style": "IPY_MODEL_281e4da4251743e3b09231e8ac12ffe1",
            "value": "Downloading: 100%"
          }
        },
        "2ee5d12632c8430a91995afd402d981a": {
          "model_module": "@jupyter-widgets/controls",
          "model_name": "FloatProgressModel",
          "model_module_version": "1.5.0",
          "state": {
            "_dom_classes": [],
            "_model_module": "@jupyter-widgets/controls",
            "_model_module_version": "1.5.0",
            "_model_name": "FloatProgressModel",
            "_view_count": null,
            "_view_module": "@jupyter-widgets/controls",
            "_view_module_version": "1.5.0",
            "_view_name": "ProgressView",
            "bar_style": "success",
            "description": "",
            "description_tooltip": null,
            "layout": "IPY_MODEL_75ab5c4f572c47e08a1ca94f6981a760",
            "max": 9081518,
            "min": 0,
            "orientation": "horizontal",
            "style": "IPY_MODEL_d54dbe202d0e460bab78acd24a56fd8e",
            "value": 9081518
          }
        },
        "e4d243ea8e96410f8c1ea876192e128a": {
          "model_module": "@jupyter-widgets/controls",
          "model_name": "HTMLModel",
          "model_module_version": "1.5.0",
          "state": {
            "_dom_classes": [],
            "_model_module": "@jupyter-widgets/controls",
            "_model_module_version": "1.5.0",
            "_model_name": "HTMLModel",
            "_view_count": null,
            "_view_module": "@jupyter-widgets/controls",
            "_view_module_version": "1.5.0",
            "_view_name": "HTMLView",
            "description": "",
            "description_tooltip": null,
            "layout": "IPY_MODEL_4531ce075c764c6ab6c71e8b86ee4c86",
            "placeholder": "​",
            "style": "IPY_MODEL_ddfc7e71979a47f682323a04c38611f8",
            "value": " 9.08M/9.08M [00:00&lt;00:00, 36.6MB/s]"
          }
        },
        "ebbaf9eda7df4dd7ad8cf312a7a3146a": {
          "model_module": "@jupyter-widgets/base",
          "model_name": "LayoutModel",
          "model_module_version": "1.2.0",
          "state": {
            "_model_module": "@jupyter-widgets/base",
            "_model_module_version": "1.2.0",
            "_model_name": "LayoutModel",
            "_view_count": null,
            "_view_module": "@jupyter-widgets/base",
            "_view_module_version": "1.2.0",
            "_view_name": "LayoutView",
            "align_content": null,
            "align_items": null,
            "align_self": null,
            "border": null,
            "bottom": null,
            "display": null,
            "flex": null,
            "flex_flow": null,
            "grid_area": null,
            "grid_auto_columns": null,
            "grid_auto_flow": null,
            "grid_auto_rows": null,
            "grid_column": null,
            "grid_gap": null,
            "grid_row": null,
            "grid_template_areas": null,
            "grid_template_columns": null,
            "grid_template_rows": null,
            "height": null,
            "justify_content": null,
            "justify_items": null,
            "left": null,
            "margin": null,
            "max_height": null,
            "max_width": null,
            "min_height": null,
            "min_width": null,
            "object_fit": null,
            "object_position": null,
            "order": null,
            "overflow": null,
            "overflow_x": null,
            "overflow_y": null,
            "padding": null,
            "right": null,
            "top": null,
            "visibility": null,
            "width": null
          }
        },
        "2a613b6f05e44a7a903617d75c7b50cd": {
          "model_module": "@jupyter-widgets/base",
          "model_name": "LayoutModel",
          "model_module_version": "1.2.0",
          "state": {
            "_model_module": "@jupyter-widgets/base",
            "_model_module_version": "1.2.0",
            "_model_name": "LayoutModel",
            "_view_count": null,
            "_view_module": "@jupyter-widgets/base",
            "_view_module_version": "1.2.0",
            "_view_name": "LayoutView",
            "align_content": null,
            "align_items": null,
            "align_self": null,
            "border": null,
            "bottom": null,
            "display": null,
            "flex": null,
            "flex_flow": null,
            "grid_area": null,
            "grid_auto_columns": null,
            "grid_auto_flow": null,
            "grid_auto_rows": null,
            "grid_column": null,
            "grid_gap": null,
            "grid_row": null,
            "grid_template_areas": null,
            "grid_template_columns": null,
            "grid_template_rows": null,
            "height": null,
            "justify_content": null,
            "justify_items": null,
            "left": null,
            "margin": null,
            "max_height": null,
            "max_width": null,
            "min_height": null,
            "min_width": null,
            "object_fit": null,
            "object_position": null,
            "order": null,
            "overflow": null,
            "overflow_x": null,
            "overflow_y": null,
            "padding": null,
            "right": null,
            "top": null,
            "visibility": null,
            "width": null
          }
        },
        "281e4da4251743e3b09231e8ac12ffe1": {
          "model_module": "@jupyter-widgets/controls",
          "model_name": "DescriptionStyleModel",
          "model_module_version": "1.5.0",
          "state": {
            "_model_module": "@jupyter-widgets/controls",
            "_model_module_version": "1.5.0",
            "_model_name": "DescriptionStyleModel",
            "_view_count": null,
            "_view_module": "@jupyter-widgets/base",
            "_view_module_version": "1.2.0",
            "_view_name": "StyleView",
            "description_width": ""
          }
        },
        "75ab5c4f572c47e08a1ca94f6981a760": {
          "model_module": "@jupyter-widgets/base",
          "model_name": "LayoutModel",
          "model_module_version": "1.2.0",
          "state": {
            "_model_module": "@jupyter-widgets/base",
            "_model_module_version": "1.2.0",
            "_model_name": "LayoutModel",
            "_view_count": null,
            "_view_module": "@jupyter-widgets/base",
            "_view_module_version": "1.2.0",
            "_view_name": "LayoutView",
            "align_content": null,
            "align_items": null,
            "align_self": null,
            "border": null,
            "bottom": null,
            "display": null,
            "flex": null,
            "flex_flow": null,
            "grid_area": null,
            "grid_auto_columns": null,
            "grid_auto_flow": null,
            "grid_auto_rows": null,
            "grid_column": null,
            "grid_gap": null,
            "grid_row": null,
            "grid_template_areas": null,
            "grid_template_columns": null,
            "grid_template_rows": null,
            "height": null,
            "justify_content": null,
            "justify_items": null,
            "left": null,
            "margin": null,
            "max_height": null,
            "max_width": null,
            "min_height": null,
            "min_width": null,
            "object_fit": null,
            "object_position": null,
            "order": null,
            "overflow": null,
            "overflow_x": null,
            "overflow_y": null,
            "padding": null,
            "right": null,
            "top": null,
            "visibility": null,
            "width": null
          }
        },
        "d54dbe202d0e460bab78acd24a56fd8e": {
          "model_module": "@jupyter-widgets/controls",
          "model_name": "ProgressStyleModel",
          "model_module_version": "1.5.0",
          "state": {
            "_model_module": "@jupyter-widgets/controls",
            "_model_module_version": "1.5.0",
            "_model_name": "ProgressStyleModel",
            "_view_count": null,
            "_view_module": "@jupyter-widgets/base",
            "_view_module_version": "1.2.0",
            "_view_name": "StyleView",
            "bar_color": null,
            "description_width": ""
          }
        },
        "4531ce075c764c6ab6c71e8b86ee4c86": {
          "model_module": "@jupyter-widgets/base",
          "model_name": "LayoutModel",
          "model_module_version": "1.2.0",
          "state": {
            "_model_module": "@jupyter-widgets/base",
            "_model_module_version": "1.2.0",
            "_model_name": "LayoutModel",
            "_view_count": null,
            "_view_module": "@jupyter-widgets/base",
            "_view_module_version": "1.2.0",
            "_view_name": "LayoutView",
            "align_content": null,
            "align_items": null,
            "align_self": null,
            "border": null,
            "bottom": null,
            "display": null,
            "flex": null,
            "flex_flow": null,
            "grid_area": null,
            "grid_auto_columns": null,
            "grid_auto_flow": null,
            "grid_auto_rows": null,
            "grid_column": null,
            "grid_gap": null,
            "grid_row": null,
            "grid_template_areas": null,
            "grid_template_columns": null,
            "grid_template_rows": null,
            "height": null,
            "justify_content": null,
            "justify_items": null,
            "left": null,
            "margin": null,
            "max_height": null,
            "max_width": null,
            "min_height": null,
            "min_width": null,
            "object_fit": null,
            "object_position": null,
            "order": null,
            "overflow": null,
            "overflow_x": null,
            "overflow_y": null,
            "padding": null,
            "right": null,
            "top": null,
            "visibility": null,
            "width": null
          }
        },
        "ddfc7e71979a47f682323a04c38611f8": {
          "model_module": "@jupyter-widgets/controls",
          "model_name": "DescriptionStyleModel",
          "model_module_version": "1.5.0",
          "state": {
            "_model_module": "@jupyter-widgets/controls",
            "_model_module_version": "1.5.0",
            "_model_name": "DescriptionStyleModel",
            "_view_count": null,
            "_view_module": "@jupyter-widgets/base",
            "_view_module_version": "1.2.0",
            "_view_name": "StyleView",
            "description_width": ""
          }
        },
        "3d81913c0499461bbebb1d09d5ce4ac6": {
          "model_module": "@jupyter-widgets/controls",
          "model_name": "HBoxModel",
          "model_module_version": "1.5.0",
          "state": {
            "_dom_classes": [],
            "_model_module": "@jupyter-widgets/controls",
            "_model_module_version": "1.5.0",
            "_model_name": "HBoxModel",
            "_view_count": null,
            "_view_module": "@jupyter-widgets/controls",
            "_view_module_version": "1.5.0",
            "_view_name": "HBoxView",
            "box_style": "",
            "children": [
              "IPY_MODEL_650daa142b404ce8b1a914035b0b845f",
              "IPY_MODEL_8506cabbc4e8420da916273e2dca1d46",
              "IPY_MODEL_3074d2eb68204fb3bfa5d09243ad4698"
            ],
            "layout": "IPY_MODEL_3182d30c662f4c0485e35523855d590e"
          }
        },
        "650daa142b404ce8b1a914035b0b845f": {
          "model_module": "@jupyter-widgets/controls",
          "model_name": "HTMLModel",
          "model_module_version": "1.5.0",
          "state": {
            "_dom_classes": [],
            "_model_module": "@jupyter-widgets/controls",
            "_model_module_version": "1.5.0",
            "_model_name": "HTMLModel",
            "_view_count": null,
            "_view_module": "@jupyter-widgets/controls",
            "_view_module_version": "1.5.0",
            "_view_name": "HTMLView",
            "description": "",
            "description_tooltip": null,
            "layout": "IPY_MODEL_5d797a128a3d4924987927ed8d7efc63",
            "placeholder": "​",
            "style": "IPY_MODEL_f58000d4f69f4050a133002a182fbcb6",
            "value": "Downloading: 100%"
          }
        },
        "8506cabbc4e8420da916273e2dca1d46": {
          "model_module": "@jupyter-widgets/controls",
          "model_name": "FloatProgressModel",
          "model_module_version": "1.5.0",
          "state": {
            "_dom_classes": [],
            "_model_module": "@jupyter-widgets/controls",
            "_model_module_version": "1.5.0",
            "_model_name": "FloatProgressModel",
            "_view_count": null,
            "_view_module": "@jupyter-widgets/controls",
            "_view_module_version": "1.5.0",
            "_view_name": "ProgressView",
            "bar_style": "success",
            "description": "",
            "description_tooltip": null,
            "layout": "IPY_MODEL_a5a0d3a7e10f46bbab6687df153b4268",
            "max": 480,
            "min": 0,
            "orientation": "horizontal",
            "style": "IPY_MODEL_085834ebf1d741f4add649e9dc372f63",
            "value": 480
          }
        },
        "3074d2eb68204fb3bfa5d09243ad4698": {
          "model_module": "@jupyter-widgets/controls",
          "model_name": "HTMLModel",
          "model_module_version": "1.5.0",
          "state": {
            "_dom_classes": [],
            "_model_module": "@jupyter-widgets/controls",
            "_model_module_version": "1.5.0",
            "_model_name": "HTMLModel",
            "_view_count": null,
            "_view_module": "@jupyter-widgets/controls",
            "_view_module_version": "1.5.0",
            "_view_name": "HTMLView",
            "description": "",
            "description_tooltip": null,
            "layout": "IPY_MODEL_90a82a24656e499fbd576b40c106be5c",
            "placeholder": "​",
            "style": "IPY_MODEL_315667d7e7204e78992b6d784e475a73",
            "value": " 480/480 [00:00&lt;00:00, 21.3kB/s]"
          }
        },
        "3182d30c662f4c0485e35523855d590e": {
          "model_module": "@jupyter-widgets/base",
          "model_name": "LayoutModel",
          "model_module_version": "1.2.0",
          "state": {
            "_model_module": "@jupyter-widgets/base",
            "_model_module_version": "1.2.0",
            "_model_name": "LayoutModel",
            "_view_count": null,
            "_view_module": "@jupyter-widgets/base",
            "_view_module_version": "1.2.0",
            "_view_name": "LayoutView",
            "align_content": null,
            "align_items": null,
            "align_self": null,
            "border": null,
            "bottom": null,
            "display": null,
            "flex": null,
            "flex_flow": null,
            "grid_area": null,
            "grid_auto_columns": null,
            "grid_auto_flow": null,
            "grid_auto_rows": null,
            "grid_column": null,
            "grid_gap": null,
            "grid_row": null,
            "grid_template_areas": null,
            "grid_template_columns": null,
            "grid_template_rows": null,
            "height": null,
            "justify_content": null,
            "justify_items": null,
            "left": null,
            "margin": null,
            "max_height": null,
            "max_width": null,
            "min_height": null,
            "min_width": null,
            "object_fit": null,
            "object_position": null,
            "order": null,
            "overflow": null,
            "overflow_x": null,
            "overflow_y": null,
            "padding": null,
            "right": null,
            "top": null,
            "visibility": null,
            "width": null
          }
        },
        "5d797a128a3d4924987927ed8d7efc63": {
          "model_module": "@jupyter-widgets/base",
          "model_name": "LayoutModel",
          "model_module_version": "1.2.0",
          "state": {
            "_model_module": "@jupyter-widgets/base",
            "_model_module_version": "1.2.0",
            "_model_name": "LayoutModel",
            "_view_count": null,
            "_view_module": "@jupyter-widgets/base",
            "_view_module_version": "1.2.0",
            "_view_name": "LayoutView",
            "align_content": null,
            "align_items": null,
            "align_self": null,
            "border": null,
            "bottom": null,
            "display": null,
            "flex": null,
            "flex_flow": null,
            "grid_area": null,
            "grid_auto_columns": null,
            "grid_auto_flow": null,
            "grid_auto_rows": null,
            "grid_column": null,
            "grid_gap": null,
            "grid_row": null,
            "grid_template_areas": null,
            "grid_template_columns": null,
            "grid_template_rows": null,
            "height": null,
            "justify_content": null,
            "justify_items": null,
            "left": null,
            "margin": null,
            "max_height": null,
            "max_width": null,
            "min_height": null,
            "min_width": null,
            "object_fit": null,
            "object_position": null,
            "order": null,
            "overflow": null,
            "overflow_x": null,
            "overflow_y": null,
            "padding": null,
            "right": null,
            "top": null,
            "visibility": null,
            "width": null
          }
        },
        "f58000d4f69f4050a133002a182fbcb6": {
          "model_module": "@jupyter-widgets/controls",
          "model_name": "DescriptionStyleModel",
          "model_module_version": "1.5.0",
          "state": {
            "_model_module": "@jupyter-widgets/controls",
            "_model_module_version": "1.5.0",
            "_model_name": "DescriptionStyleModel",
            "_view_count": null,
            "_view_module": "@jupyter-widgets/base",
            "_view_module_version": "1.2.0",
            "_view_name": "StyleView",
            "description_width": ""
          }
        },
        "a5a0d3a7e10f46bbab6687df153b4268": {
          "model_module": "@jupyter-widgets/base",
          "model_name": "LayoutModel",
          "model_module_version": "1.2.0",
          "state": {
            "_model_module": "@jupyter-widgets/base",
            "_model_module_version": "1.2.0",
            "_model_name": "LayoutModel",
            "_view_count": null,
            "_view_module": "@jupyter-widgets/base",
            "_view_module_version": "1.2.0",
            "_view_name": "LayoutView",
            "align_content": null,
            "align_items": null,
            "align_self": null,
            "border": null,
            "bottom": null,
            "display": null,
            "flex": null,
            "flex_flow": null,
            "grid_area": null,
            "grid_auto_columns": null,
            "grid_auto_flow": null,
            "grid_auto_rows": null,
            "grid_column": null,
            "grid_gap": null,
            "grid_row": null,
            "grid_template_areas": null,
            "grid_template_columns": null,
            "grid_template_rows": null,
            "height": null,
            "justify_content": null,
            "justify_items": null,
            "left": null,
            "margin": null,
            "max_height": null,
            "max_width": null,
            "min_height": null,
            "min_width": null,
            "object_fit": null,
            "object_position": null,
            "order": null,
            "overflow": null,
            "overflow_x": null,
            "overflow_y": null,
            "padding": null,
            "right": null,
            "top": null,
            "visibility": null,
            "width": null
          }
        },
        "085834ebf1d741f4add649e9dc372f63": {
          "model_module": "@jupyter-widgets/controls",
          "model_name": "ProgressStyleModel",
          "model_module_version": "1.5.0",
          "state": {
            "_model_module": "@jupyter-widgets/controls",
            "_model_module_version": "1.5.0",
            "_model_name": "ProgressStyleModel",
            "_view_count": null,
            "_view_module": "@jupyter-widgets/base",
            "_view_module_version": "1.2.0",
            "_view_name": "StyleView",
            "bar_color": null,
            "description_width": ""
          }
        },
        "90a82a24656e499fbd576b40c106be5c": {
          "model_module": "@jupyter-widgets/base",
          "model_name": "LayoutModel",
          "model_module_version": "1.2.0",
          "state": {
            "_model_module": "@jupyter-widgets/base",
            "_model_module_version": "1.2.0",
            "_model_name": "LayoutModel",
            "_view_count": null,
            "_view_module": "@jupyter-widgets/base",
            "_view_module_version": "1.2.0",
            "_view_name": "LayoutView",
            "align_content": null,
            "align_items": null,
            "align_self": null,
            "border": null,
            "bottom": null,
            "display": null,
            "flex": null,
            "flex_flow": null,
            "grid_area": null,
            "grid_auto_columns": null,
            "grid_auto_flow": null,
            "grid_auto_rows": null,
            "grid_column": null,
            "grid_gap": null,
            "grid_row": null,
            "grid_template_areas": null,
            "grid_template_columns": null,
            "grid_template_rows": null,
            "height": null,
            "justify_content": null,
            "justify_items": null,
            "left": null,
            "margin": null,
            "max_height": null,
            "max_width": null,
            "min_height": null,
            "min_width": null,
            "object_fit": null,
            "object_position": null,
            "order": null,
            "overflow": null,
            "overflow_x": null,
            "overflow_y": null,
            "padding": null,
            "right": null,
            "top": null,
            "visibility": null,
            "width": null
          }
        },
        "315667d7e7204e78992b6d784e475a73": {
          "model_module": "@jupyter-widgets/controls",
          "model_name": "DescriptionStyleModel",
          "model_module_version": "1.5.0",
          "state": {
            "_model_module": "@jupyter-widgets/controls",
            "_model_module_version": "1.5.0",
            "_model_name": "DescriptionStyleModel",
            "_view_count": null,
            "_view_module": "@jupyter-widgets/base",
            "_view_module_version": "1.2.0",
            "_view_name": "StyleView",
            "description_width": ""
          }
        },
        "225bc5e8308f44dba3c9ce01e7084c45": {
          "model_module": "@jupyter-widgets/controls",
          "model_name": "HBoxModel",
          "model_module_version": "1.5.0",
          "state": {
            "_dom_classes": [],
            "_model_module": "@jupyter-widgets/controls",
            "_model_module_version": "1.5.0",
            "_model_name": "HBoxModel",
            "_view_count": null,
            "_view_module": "@jupyter-widgets/controls",
            "_view_module_version": "1.5.0",
            "_view_name": "HBoxView",
            "box_style": "",
            "children": [
              "IPY_MODEL_3f955735dfcb44d5bb57754993111750",
              "IPY_MODEL_d20a8ff5b6434511b89f0c68ace33a7b",
              "IPY_MODEL_76b1148c3d444a62a161a66a0ad71d12"
            ],
            "layout": "IPY_MODEL_d06fa55e9fe348609ef795e70d950061"
          }
        },
        "3f955735dfcb44d5bb57754993111750": {
          "model_module": "@jupyter-widgets/controls",
          "model_name": "HTMLModel",
          "model_module_version": "1.5.0",
          "state": {
            "_dom_classes": [],
            "_model_module": "@jupyter-widgets/controls",
            "_model_module_version": "1.5.0",
            "_model_name": "HTMLModel",
            "_view_count": null,
            "_view_module": "@jupyter-widgets/controls",
            "_view_module_version": "1.5.0",
            "_view_name": "HTMLView",
            "description": "",
            "description_tooltip": null,
            "layout": "IPY_MODEL_9df04cf69abd46419d6b3e5a57ed648b",
            "placeholder": "​",
            "style": "IPY_MODEL_7964bb4bcfef4530aa0ecb36a4fce52c",
            "value": "Downloading: 100%"
          }
        },
        "d20a8ff5b6434511b89f0c68ace33a7b": {
          "model_module": "@jupyter-widgets/controls",
          "model_name": "FloatProgressModel",
          "model_module_version": "1.5.0",
          "state": {
            "_dom_classes": [],
            "_model_module": "@jupyter-widgets/controls",
            "_model_module_version": "1.5.0",
            "_model_name": "FloatProgressModel",
            "_view_count": null,
            "_view_module": "@jupyter-widgets/controls",
            "_view_module_version": "1.5.0",
            "_view_name": "ProgressView",
            "bar_style": "success",
            "description": "",
            "description_tooltip": null,
            "layout": "IPY_MODEL_f16617c56ca0448c9a7588654866adea",
            "max": 14763234,
            "min": 0,
            "orientation": "horizontal",
            "style": "IPY_MODEL_ff5dd6ba6ded4bb996c8d809d02cb2be",
            "value": 14763234
          }
        },
        "76b1148c3d444a62a161a66a0ad71d12": {
          "model_module": "@jupyter-widgets/controls",
          "model_name": "HTMLModel",
          "model_module_version": "1.5.0",
          "state": {
            "_dom_classes": [],
            "_model_module": "@jupyter-widgets/controls",
            "_model_module_version": "1.5.0",
            "_model_name": "HTMLModel",
            "_view_count": null,
            "_view_module": "@jupyter-widgets/controls",
            "_view_module_version": "1.5.0",
            "_view_name": "HTMLView",
            "description": "",
            "description_tooltip": null,
            "layout": "IPY_MODEL_d280f203f65247e29dea8215eca13a7d",
            "placeholder": "​",
            "style": "IPY_MODEL_4e979f3db717437a8ca31d46153f1fa8",
            "value": " 14.8M/14.8M [00:00&lt;00:00, 44.2MB/s]"
          }
        },
        "d06fa55e9fe348609ef795e70d950061": {
          "model_module": "@jupyter-widgets/base",
          "model_name": "LayoutModel",
          "model_module_version": "1.2.0",
          "state": {
            "_model_module": "@jupyter-widgets/base",
            "_model_module_version": "1.2.0",
            "_model_name": "LayoutModel",
            "_view_count": null,
            "_view_module": "@jupyter-widgets/base",
            "_view_module_version": "1.2.0",
            "_view_name": "LayoutView",
            "align_content": null,
            "align_items": null,
            "align_self": null,
            "border": null,
            "bottom": null,
            "display": null,
            "flex": null,
            "flex_flow": null,
            "grid_area": null,
            "grid_auto_columns": null,
            "grid_auto_flow": null,
            "grid_auto_rows": null,
            "grid_column": null,
            "grid_gap": null,
            "grid_row": null,
            "grid_template_areas": null,
            "grid_template_columns": null,
            "grid_template_rows": null,
            "height": null,
            "justify_content": null,
            "justify_items": null,
            "left": null,
            "margin": null,
            "max_height": null,
            "max_width": null,
            "min_height": null,
            "min_width": null,
            "object_fit": null,
            "object_position": null,
            "order": null,
            "overflow": null,
            "overflow_x": null,
            "overflow_y": null,
            "padding": null,
            "right": null,
            "top": null,
            "visibility": null,
            "width": null
          }
        },
        "9df04cf69abd46419d6b3e5a57ed648b": {
          "model_module": "@jupyter-widgets/base",
          "model_name": "LayoutModel",
          "model_module_version": "1.2.0",
          "state": {
            "_model_module": "@jupyter-widgets/base",
            "_model_module_version": "1.2.0",
            "_model_name": "LayoutModel",
            "_view_count": null,
            "_view_module": "@jupyter-widgets/base",
            "_view_module_version": "1.2.0",
            "_view_name": "LayoutView",
            "align_content": null,
            "align_items": null,
            "align_self": null,
            "border": null,
            "bottom": null,
            "display": null,
            "flex": null,
            "flex_flow": null,
            "grid_area": null,
            "grid_auto_columns": null,
            "grid_auto_flow": null,
            "grid_auto_rows": null,
            "grid_column": null,
            "grid_gap": null,
            "grid_row": null,
            "grid_template_areas": null,
            "grid_template_columns": null,
            "grid_template_rows": null,
            "height": null,
            "justify_content": null,
            "justify_items": null,
            "left": null,
            "margin": null,
            "max_height": null,
            "max_width": null,
            "min_height": null,
            "min_width": null,
            "object_fit": null,
            "object_position": null,
            "order": null,
            "overflow": null,
            "overflow_x": null,
            "overflow_y": null,
            "padding": null,
            "right": null,
            "top": null,
            "visibility": null,
            "width": null
          }
        },
        "7964bb4bcfef4530aa0ecb36a4fce52c": {
          "model_module": "@jupyter-widgets/controls",
          "model_name": "DescriptionStyleModel",
          "model_module_version": "1.5.0",
          "state": {
            "_model_module": "@jupyter-widgets/controls",
            "_model_module_version": "1.5.0",
            "_model_name": "DescriptionStyleModel",
            "_view_count": null,
            "_view_module": "@jupyter-widgets/base",
            "_view_module_version": "1.2.0",
            "_view_name": "StyleView",
            "description_width": ""
          }
        },
        "f16617c56ca0448c9a7588654866adea": {
          "model_module": "@jupyter-widgets/base",
          "model_name": "LayoutModel",
          "model_module_version": "1.2.0",
          "state": {
            "_model_module": "@jupyter-widgets/base",
            "_model_module_version": "1.2.0",
            "_model_name": "LayoutModel",
            "_view_count": null,
            "_view_module": "@jupyter-widgets/base",
            "_view_module_version": "1.2.0",
            "_view_name": "LayoutView",
            "align_content": null,
            "align_items": null,
            "align_self": null,
            "border": null,
            "bottom": null,
            "display": null,
            "flex": null,
            "flex_flow": null,
            "grid_area": null,
            "grid_auto_columns": null,
            "grid_auto_flow": null,
            "grid_auto_rows": null,
            "grid_column": null,
            "grid_gap": null,
            "grid_row": null,
            "grid_template_areas": null,
            "grid_template_columns": null,
            "grid_template_rows": null,
            "height": null,
            "justify_content": null,
            "justify_items": null,
            "left": null,
            "margin": null,
            "max_height": null,
            "max_width": null,
            "min_height": null,
            "min_width": null,
            "object_fit": null,
            "object_position": null,
            "order": null,
            "overflow": null,
            "overflow_x": null,
            "overflow_y": null,
            "padding": null,
            "right": null,
            "top": null,
            "visibility": null,
            "width": null
          }
        },
        "ff5dd6ba6ded4bb996c8d809d02cb2be": {
          "model_module": "@jupyter-widgets/controls",
          "model_name": "ProgressStyleModel",
          "model_module_version": "1.5.0",
          "state": {
            "_model_module": "@jupyter-widgets/controls",
            "_model_module_version": "1.5.0",
            "_model_name": "ProgressStyleModel",
            "_view_count": null,
            "_view_module": "@jupyter-widgets/base",
            "_view_module_version": "1.2.0",
            "_view_name": "StyleView",
            "bar_color": null,
            "description_width": ""
          }
        },
        "d280f203f65247e29dea8215eca13a7d": {
          "model_module": "@jupyter-widgets/base",
          "model_name": "LayoutModel",
          "model_module_version": "1.2.0",
          "state": {
            "_model_module": "@jupyter-widgets/base",
            "_model_module_version": "1.2.0",
            "_model_name": "LayoutModel",
            "_view_count": null,
            "_view_module": "@jupyter-widgets/base",
            "_view_module_version": "1.2.0",
            "_view_name": "LayoutView",
            "align_content": null,
            "align_items": null,
            "align_self": null,
            "border": null,
            "bottom": null,
            "display": null,
            "flex": null,
            "flex_flow": null,
            "grid_area": null,
            "grid_auto_columns": null,
            "grid_auto_flow": null,
            "grid_auto_rows": null,
            "grid_column": null,
            "grid_gap": null,
            "grid_row": null,
            "grid_template_areas": null,
            "grid_template_columns": null,
            "grid_template_rows": null,
            "height": null,
            "justify_content": null,
            "justify_items": null,
            "left": null,
            "margin": null,
            "max_height": null,
            "max_width": null,
            "min_height": null,
            "min_width": null,
            "object_fit": null,
            "object_position": null,
            "order": null,
            "overflow": null,
            "overflow_x": null,
            "overflow_y": null,
            "padding": null,
            "right": null,
            "top": null,
            "visibility": null,
            "width": null
          }
        },
        "4e979f3db717437a8ca31d46153f1fa8": {
          "model_module": "@jupyter-widgets/controls",
          "model_name": "DescriptionStyleModel",
          "model_module_version": "1.5.0",
          "state": {
            "_model_module": "@jupyter-widgets/controls",
            "_model_module_version": "1.5.0",
            "_model_name": "DescriptionStyleModel",
            "_view_count": null,
            "_view_module": "@jupyter-widgets/base",
            "_view_module_version": "1.2.0",
            "_view_name": "StyleView",
            "description_width": ""
          }
        },
        "1920b1223a964638bfb0458d556b1c56": {
          "model_module": "@jupyter-widgets/controls",
          "model_name": "HBoxModel",
          "model_module_version": "1.5.0",
          "state": {
            "_dom_classes": [],
            "_model_module": "@jupyter-widgets/controls",
            "_model_module_version": "1.5.0",
            "_model_name": "HBoxModel",
            "_view_count": null,
            "_view_module": "@jupyter-widgets/controls",
            "_view_module_version": "1.5.0",
            "_view_name": "HBoxView",
            "box_style": "",
            "children": [
              "IPY_MODEL_090f324861ac4436bf70d0c54fa3d9c8",
              "IPY_MODEL_e48b033491534ced9e60bd1595292a72",
              "IPY_MODEL_2a796dc5913441659f3f07769fa74848"
            ],
            "layout": "IPY_MODEL_336e5829ff444048a581a99710413551"
          }
        },
        "090f324861ac4436bf70d0c54fa3d9c8": {
          "model_module": "@jupyter-widgets/controls",
          "model_name": "HTMLModel",
          "model_module_version": "1.5.0",
          "state": {
            "_dom_classes": [],
            "_model_module": "@jupyter-widgets/controls",
            "_model_module_version": "1.5.0",
            "_model_name": "HTMLModel",
            "_view_count": null,
            "_view_module": "@jupyter-widgets/controls",
            "_view_module_version": "1.5.0",
            "_view_name": "HTMLView",
            "description": "",
            "description_tooltip": null,
            "layout": "IPY_MODEL_af0ac99cf26e42c599c4a2ecc6f2189a",
            "placeholder": "​",
            "style": "IPY_MODEL_c3549ce76504476ba64f80397d25766f",
            "value": "Downloading: 100%"
          }
        },
        "e48b033491534ced9e60bd1595292a72": {
          "model_module": "@jupyter-widgets/controls",
          "model_name": "FloatProgressModel",
          "model_module_version": "1.5.0",
          "state": {
            "_dom_classes": [],
            "_model_module": "@jupyter-widgets/controls",
            "_model_module_version": "1.5.0",
            "_model_name": "FloatProgressModel",
            "_view_count": null,
            "_view_module": "@jupyter-widgets/controls",
            "_view_module_version": "1.5.0",
            "_view_name": "ProgressView",
            "bar_style": "success",
            "description": "",
            "description_tooltip": null,
            "layout": "IPY_MODEL_b0920393eb8845fd86ea313f57f3696c",
            "max": 229,
            "min": 0,
            "orientation": "horizontal",
            "style": "IPY_MODEL_41333eaf7dc4402ab15ef8540c8b62e9",
            "value": 229
          }
        },
        "2a796dc5913441659f3f07769fa74848": {
          "model_module": "@jupyter-widgets/controls",
          "model_name": "HTMLModel",
          "model_module_version": "1.5.0",
          "state": {
            "_dom_classes": [],
            "_model_module": "@jupyter-widgets/controls",
            "_model_module_version": "1.5.0",
            "_model_name": "HTMLModel",
            "_view_count": null,
            "_view_module": "@jupyter-widgets/controls",
            "_view_module_version": "1.5.0",
            "_view_name": "HTMLView",
            "description": "",
            "description_tooltip": null,
            "layout": "IPY_MODEL_3c8a05b07d6041b486cc8e39d859bcc2",
            "placeholder": "​",
            "style": "IPY_MODEL_1949fbe5643a40b3a3c606f37baae5e7",
            "value": " 229/229 [00:00&lt;00:00, 9.17kB/s]"
          }
        },
        "336e5829ff444048a581a99710413551": {
          "model_module": "@jupyter-widgets/base",
          "model_name": "LayoutModel",
          "model_module_version": "1.2.0",
          "state": {
            "_model_module": "@jupyter-widgets/base",
            "_model_module_version": "1.2.0",
            "_model_name": "LayoutModel",
            "_view_count": null,
            "_view_module": "@jupyter-widgets/base",
            "_view_module_version": "1.2.0",
            "_view_name": "LayoutView",
            "align_content": null,
            "align_items": null,
            "align_self": null,
            "border": null,
            "bottom": null,
            "display": null,
            "flex": null,
            "flex_flow": null,
            "grid_area": null,
            "grid_auto_columns": null,
            "grid_auto_flow": null,
            "grid_auto_rows": null,
            "grid_column": null,
            "grid_gap": null,
            "grid_row": null,
            "grid_template_areas": null,
            "grid_template_columns": null,
            "grid_template_rows": null,
            "height": null,
            "justify_content": null,
            "justify_items": null,
            "left": null,
            "margin": null,
            "max_height": null,
            "max_width": null,
            "min_height": null,
            "min_width": null,
            "object_fit": null,
            "object_position": null,
            "order": null,
            "overflow": null,
            "overflow_x": null,
            "overflow_y": null,
            "padding": null,
            "right": null,
            "top": null,
            "visibility": null,
            "width": null
          }
        },
        "af0ac99cf26e42c599c4a2ecc6f2189a": {
          "model_module": "@jupyter-widgets/base",
          "model_name": "LayoutModel",
          "model_module_version": "1.2.0",
          "state": {
            "_model_module": "@jupyter-widgets/base",
            "_model_module_version": "1.2.0",
            "_model_name": "LayoutModel",
            "_view_count": null,
            "_view_module": "@jupyter-widgets/base",
            "_view_module_version": "1.2.0",
            "_view_name": "LayoutView",
            "align_content": null,
            "align_items": null,
            "align_self": null,
            "border": null,
            "bottom": null,
            "display": null,
            "flex": null,
            "flex_flow": null,
            "grid_area": null,
            "grid_auto_columns": null,
            "grid_auto_flow": null,
            "grid_auto_rows": null,
            "grid_column": null,
            "grid_gap": null,
            "grid_row": null,
            "grid_template_areas": null,
            "grid_template_columns": null,
            "grid_template_rows": null,
            "height": null,
            "justify_content": null,
            "justify_items": null,
            "left": null,
            "margin": null,
            "max_height": null,
            "max_width": null,
            "min_height": null,
            "min_width": null,
            "object_fit": null,
            "object_position": null,
            "order": null,
            "overflow": null,
            "overflow_x": null,
            "overflow_y": null,
            "padding": null,
            "right": null,
            "top": null,
            "visibility": null,
            "width": null
          }
        },
        "c3549ce76504476ba64f80397d25766f": {
          "model_module": "@jupyter-widgets/controls",
          "model_name": "DescriptionStyleModel",
          "model_module_version": "1.5.0",
          "state": {
            "_model_module": "@jupyter-widgets/controls",
            "_model_module_version": "1.5.0",
            "_model_name": "DescriptionStyleModel",
            "_view_count": null,
            "_view_module": "@jupyter-widgets/base",
            "_view_module_version": "1.2.0",
            "_view_name": "StyleView",
            "description_width": ""
          }
        },
        "b0920393eb8845fd86ea313f57f3696c": {
          "model_module": "@jupyter-widgets/base",
          "model_name": "LayoutModel",
          "model_module_version": "1.2.0",
          "state": {
            "_model_module": "@jupyter-widgets/base",
            "_model_module_version": "1.2.0",
            "_model_name": "LayoutModel",
            "_view_count": null,
            "_view_module": "@jupyter-widgets/base",
            "_view_module_version": "1.2.0",
            "_view_name": "LayoutView",
            "align_content": null,
            "align_items": null,
            "align_self": null,
            "border": null,
            "bottom": null,
            "display": null,
            "flex": null,
            "flex_flow": null,
            "grid_area": null,
            "grid_auto_columns": null,
            "grid_auto_flow": null,
            "grid_auto_rows": null,
            "grid_column": null,
            "grid_gap": null,
            "grid_row": null,
            "grid_template_areas": null,
            "grid_template_columns": null,
            "grid_template_rows": null,
            "height": null,
            "justify_content": null,
            "justify_items": null,
            "left": null,
            "margin": null,
            "max_height": null,
            "max_width": null,
            "min_height": null,
            "min_width": null,
            "object_fit": null,
            "object_position": null,
            "order": null,
            "overflow": null,
            "overflow_x": null,
            "overflow_y": null,
            "padding": null,
            "right": null,
            "top": null,
            "visibility": null,
            "width": null
          }
        },
        "41333eaf7dc4402ab15ef8540c8b62e9": {
          "model_module": "@jupyter-widgets/controls",
          "model_name": "ProgressStyleModel",
          "model_module_version": "1.5.0",
          "state": {
            "_model_module": "@jupyter-widgets/controls",
            "_model_module_version": "1.5.0",
            "_model_name": "ProgressStyleModel",
            "_view_count": null,
            "_view_module": "@jupyter-widgets/base",
            "_view_module_version": "1.2.0",
            "_view_name": "StyleView",
            "bar_color": null,
            "description_width": ""
          }
        },
        "3c8a05b07d6041b486cc8e39d859bcc2": {
          "model_module": "@jupyter-widgets/base",
          "model_name": "LayoutModel",
          "model_module_version": "1.2.0",
          "state": {
            "_model_module": "@jupyter-widgets/base",
            "_model_module_version": "1.2.0",
            "_model_name": "LayoutModel",
            "_view_count": null,
            "_view_module": "@jupyter-widgets/base",
            "_view_module_version": "1.2.0",
            "_view_name": "LayoutView",
            "align_content": null,
            "align_items": null,
            "align_self": null,
            "border": null,
            "bottom": null,
            "display": null,
            "flex": null,
            "flex_flow": null,
            "grid_area": null,
            "grid_auto_columns": null,
            "grid_auto_flow": null,
            "grid_auto_rows": null,
            "grid_column": null,
            "grid_gap": null,
            "grid_row": null,
            "grid_template_areas": null,
            "grid_template_columns": null,
            "grid_template_rows": null,
            "height": null,
            "justify_content": null,
            "justify_items": null,
            "left": null,
            "margin": null,
            "max_height": null,
            "max_width": null,
            "min_height": null,
            "min_width": null,
            "object_fit": null,
            "object_position": null,
            "order": null,
            "overflow": null,
            "overflow_x": null,
            "overflow_y": null,
            "padding": null,
            "right": null,
            "top": null,
            "visibility": null,
            "width": null
          }
        },
        "1949fbe5643a40b3a3c606f37baae5e7": {
          "model_module": "@jupyter-widgets/controls",
          "model_name": "DescriptionStyleModel",
          "model_module_version": "1.5.0",
          "state": {
            "_model_module": "@jupyter-widgets/controls",
            "_model_module_version": "1.5.0",
            "_model_name": "DescriptionStyleModel",
            "_view_count": null,
            "_view_module": "@jupyter-widgets/base",
            "_view_module_version": "1.2.0",
            "_view_name": "StyleView",
            "description_width": ""
          }
        },
        "27879d5195d2451593dbe267b26f159d": {
          "model_module": "@jupyter-widgets/controls",
          "model_name": "HBoxModel",
          "model_module_version": "1.5.0",
          "state": {
            "_dom_classes": [],
            "_model_module": "@jupyter-widgets/controls",
            "_model_module_version": "1.5.0",
            "_model_name": "HBoxModel",
            "_view_count": null,
            "_view_module": "@jupyter-widgets/controls",
            "_view_module_version": "1.5.0",
            "_view_name": "HBoxView",
            "box_style": "",
            "children": [
              "IPY_MODEL_278f65e33316418c86c58d0c4e510791",
              "IPY_MODEL_edebbc9ef7794cea9bddfec5d105cd6c",
              "IPY_MODEL_bbc6352388ae490296100bbc14164451"
            ],
            "layout": "IPY_MODEL_e8ca305ccd14497295cef7a4155e43d0"
          }
        },
        "278f65e33316418c86c58d0c4e510791": {
          "model_module": "@jupyter-widgets/controls",
          "model_name": "HTMLModel",
          "model_module_version": "1.5.0",
          "state": {
            "_dom_classes": [],
            "_model_module": "@jupyter-widgets/controls",
            "_model_module_version": "1.5.0",
            "_model_name": "HTMLModel",
            "_view_count": null,
            "_view_module": "@jupyter-widgets/controls",
            "_view_module_version": "1.5.0",
            "_view_name": "HTMLView",
            "description": "",
            "description_tooltip": null,
            "layout": "IPY_MODEL_11380586b7584795b618b93181aa4413",
            "placeholder": "​",
            "style": "IPY_MODEL_210e8ef2eee14ed7acdb856eced98997",
            "value": "Batches: 100%"
          }
        },
        "edebbc9ef7794cea9bddfec5d105cd6c": {
          "model_module": "@jupyter-widgets/controls",
          "model_name": "FloatProgressModel",
          "model_module_version": "1.5.0",
          "state": {
            "_dom_classes": [],
            "_model_module": "@jupyter-widgets/controls",
            "_model_module_version": "1.5.0",
            "_model_name": "FloatProgressModel",
            "_view_count": null,
            "_view_module": "@jupyter-widgets/controls",
            "_view_module_version": "1.5.0",
            "_view_name": "ProgressView",
            "bar_style": "success",
            "description": "",
            "description_tooltip": null,
            "layout": "IPY_MODEL_e0edcc18b8d14f42a740f2c333b5723d",
            "max": 329,
            "min": 0,
            "orientation": "horizontal",
            "style": "IPY_MODEL_ba8581e7262447808a497a3d598beac2",
            "value": 329
          }
        },
        "bbc6352388ae490296100bbc14164451": {
          "model_module": "@jupyter-widgets/controls",
          "model_name": "HTMLModel",
          "model_module_version": "1.5.0",
          "state": {
            "_dom_classes": [],
            "_model_module": "@jupyter-widgets/controls",
            "_model_module_version": "1.5.0",
            "_model_name": "HTMLModel",
            "_view_count": null,
            "_view_module": "@jupyter-widgets/controls",
            "_view_module_version": "1.5.0",
            "_view_name": "HTMLView",
            "description": "",
            "description_tooltip": null,
            "layout": "IPY_MODEL_cdb25fec82204749921893c44d4fd2e4",
            "placeholder": "​",
            "style": "IPY_MODEL_a04af16b54824f4ca6ffece525e5b91d",
            "value": " 329/329 [11:11&lt;00:00,  3.51it/s]"
          }
        },
        "e8ca305ccd14497295cef7a4155e43d0": {
          "model_module": "@jupyter-widgets/base",
          "model_name": "LayoutModel",
          "model_module_version": "1.2.0",
          "state": {
            "_model_module": "@jupyter-widgets/base",
            "_model_module_version": "1.2.0",
            "_model_name": "LayoutModel",
            "_view_count": null,
            "_view_module": "@jupyter-widgets/base",
            "_view_module_version": "1.2.0",
            "_view_name": "LayoutView",
            "align_content": null,
            "align_items": null,
            "align_self": null,
            "border": null,
            "bottom": null,
            "display": null,
            "flex": null,
            "flex_flow": null,
            "grid_area": null,
            "grid_auto_columns": null,
            "grid_auto_flow": null,
            "grid_auto_rows": null,
            "grid_column": null,
            "grid_gap": null,
            "grid_row": null,
            "grid_template_areas": null,
            "grid_template_columns": null,
            "grid_template_rows": null,
            "height": null,
            "justify_content": null,
            "justify_items": null,
            "left": null,
            "margin": null,
            "max_height": null,
            "max_width": null,
            "min_height": null,
            "min_width": null,
            "object_fit": null,
            "object_position": null,
            "order": null,
            "overflow": null,
            "overflow_x": null,
            "overflow_y": null,
            "padding": null,
            "right": null,
            "top": null,
            "visibility": null,
            "width": null
          }
        },
        "11380586b7584795b618b93181aa4413": {
          "model_module": "@jupyter-widgets/base",
          "model_name": "LayoutModel",
          "model_module_version": "1.2.0",
          "state": {
            "_model_module": "@jupyter-widgets/base",
            "_model_module_version": "1.2.0",
            "_model_name": "LayoutModel",
            "_view_count": null,
            "_view_module": "@jupyter-widgets/base",
            "_view_module_version": "1.2.0",
            "_view_name": "LayoutView",
            "align_content": null,
            "align_items": null,
            "align_self": null,
            "border": null,
            "bottom": null,
            "display": null,
            "flex": null,
            "flex_flow": null,
            "grid_area": null,
            "grid_auto_columns": null,
            "grid_auto_flow": null,
            "grid_auto_rows": null,
            "grid_column": null,
            "grid_gap": null,
            "grid_row": null,
            "grid_template_areas": null,
            "grid_template_columns": null,
            "grid_template_rows": null,
            "height": null,
            "justify_content": null,
            "justify_items": null,
            "left": null,
            "margin": null,
            "max_height": null,
            "max_width": null,
            "min_height": null,
            "min_width": null,
            "object_fit": null,
            "object_position": null,
            "order": null,
            "overflow": null,
            "overflow_x": null,
            "overflow_y": null,
            "padding": null,
            "right": null,
            "top": null,
            "visibility": null,
            "width": null
          }
        },
        "210e8ef2eee14ed7acdb856eced98997": {
          "model_module": "@jupyter-widgets/controls",
          "model_name": "DescriptionStyleModel",
          "model_module_version": "1.5.0",
          "state": {
            "_model_module": "@jupyter-widgets/controls",
            "_model_module_version": "1.5.0",
            "_model_name": "DescriptionStyleModel",
            "_view_count": null,
            "_view_module": "@jupyter-widgets/base",
            "_view_module_version": "1.2.0",
            "_view_name": "StyleView",
            "description_width": ""
          }
        },
        "e0edcc18b8d14f42a740f2c333b5723d": {
          "model_module": "@jupyter-widgets/base",
          "model_name": "LayoutModel",
          "model_module_version": "1.2.0",
          "state": {
            "_model_module": "@jupyter-widgets/base",
            "_model_module_version": "1.2.0",
            "_model_name": "LayoutModel",
            "_view_count": null,
            "_view_module": "@jupyter-widgets/base",
            "_view_module_version": "1.2.0",
            "_view_name": "LayoutView",
            "align_content": null,
            "align_items": null,
            "align_self": null,
            "border": null,
            "bottom": null,
            "display": null,
            "flex": null,
            "flex_flow": null,
            "grid_area": null,
            "grid_auto_columns": null,
            "grid_auto_flow": null,
            "grid_auto_rows": null,
            "grid_column": null,
            "grid_gap": null,
            "grid_row": null,
            "grid_template_areas": null,
            "grid_template_columns": null,
            "grid_template_rows": null,
            "height": null,
            "justify_content": null,
            "justify_items": null,
            "left": null,
            "margin": null,
            "max_height": null,
            "max_width": null,
            "min_height": null,
            "min_width": null,
            "object_fit": null,
            "object_position": null,
            "order": null,
            "overflow": null,
            "overflow_x": null,
            "overflow_y": null,
            "padding": null,
            "right": null,
            "top": null,
            "visibility": null,
            "width": null
          }
        },
        "ba8581e7262447808a497a3d598beac2": {
          "model_module": "@jupyter-widgets/controls",
          "model_name": "ProgressStyleModel",
          "model_module_version": "1.5.0",
          "state": {
            "_model_module": "@jupyter-widgets/controls",
            "_model_module_version": "1.5.0",
            "_model_name": "ProgressStyleModel",
            "_view_count": null,
            "_view_module": "@jupyter-widgets/base",
            "_view_module_version": "1.2.0",
            "_view_name": "StyleView",
            "bar_color": null,
            "description_width": ""
          }
        },
        "cdb25fec82204749921893c44d4fd2e4": {
          "model_module": "@jupyter-widgets/base",
          "model_name": "LayoutModel",
          "model_module_version": "1.2.0",
          "state": {
            "_model_module": "@jupyter-widgets/base",
            "_model_module_version": "1.2.0",
            "_model_name": "LayoutModel",
            "_view_count": null,
            "_view_module": "@jupyter-widgets/base",
            "_view_module_version": "1.2.0",
            "_view_name": "LayoutView",
            "align_content": null,
            "align_items": null,
            "align_self": null,
            "border": null,
            "bottom": null,
            "display": null,
            "flex": null,
            "flex_flow": null,
            "grid_area": null,
            "grid_auto_columns": null,
            "grid_auto_flow": null,
            "grid_auto_rows": null,
            "grid_column": null,
            "grid_gap": null,
            "grid_row": null,
            "grid_template_areas": null,
            "grid_template_columns": null,
            "grid_template_rows": null,
            "height": null,
            "justify_content": null,
            "justify_items": null,
            "left": null,
            "margin": null,
            "max_height": null,
            "max_width": null,
            "min_height": null,
            "min_width": null,
            "object_fit": null,
            "object_position": null,
            "order": null,
            "overflow": null,
            "overflow_x": null,
            "overflow_y": null,
            "padding": null,
            "right": null,
            "top": null,
            "visibility": null,
            "width": null
          }
        },
        "a04af16b54824f4ca6ffece525e5b91d": {
          "model_module": "@jupyter-widgets/controls",
          "model_name": "DescriptionStyleModel",
          "model_module_version": "1.5.0",
          "state": {
            "_model_module": "@jupyter-widgets/controls",
            "_model_module_version": "1.5.0",
            "_model_name": "DescriptionStyleModel",
            "_view_count": null,
            "_view_module": "@jupyter-widgets/base",
            "_view_module_version": "1.2.0",
            "_view_name": "StyleView",
            "description_width": ""
          }
        }
      }
    },
    "accelerator": "GPU"
  },
  "cells": [
    {
      "cell_type": "markdown",
      "metadata": {
        "id": "view-in-github",
        "colab_type": "text"
      },
      "source": [
        "<a href=\"https://colab.research.google.com/github/punkmic/Topic-Modeling-Reclame-Aqui/blob/master/Topic_Modeling_with_BERTopic_Reclame_aqui.ipynb\" target=\"_parent\"><img src=\"https://colab.research.google.com/assets/colab-badge.svg\" alt=\"Open In Colab\"/></a>"
      ]
    },
    {
      "cell_type": "markdown",
      "source": [
        "# **Topic Modeling with BERTopic - Reclame Aqui**\n",
        "\n",
        "BERTopic is a topic modeling technique that leverages transformers and a custom class-based TF-IDF to create dense clusters allowing for easily interpretable topics whilst keeping important words in the topic descriptions \n",
        "\n",
        "Reference: (https://maartengr.github.io/BERTopic/index.html)."
      ],
      "metadata": {
        "id": "VG5Z-hvZ9GIZ"
      }
    },
    {
      "cell_type": "markdown",
      "source": [
        "### **Enabling the GPU**\n",
        "\n",
        "We will use the GPU provided by COLAB to accelarate our model training. To enable GPUs for the notebook:\n",
        "1- Navigate to Edit -> Notebook Settings\n",
        "2- Select GPU from the Hardware Accelerator drop-down"
      ],
      "metadata": {
        "id": "W_0vnbvROpuu"
      }
    },
    {
      "cell_type": "code",
      "source": [
        "# verify if GPU is enable\n",
        "gpu_info = !nvidia-smi\n",
        "gpu_info = '\\n'.join(gpu_info)\n",
        "if gpu_info.find('failed') >= 0:\n",
        "  print('Not connected to a GPU')\n",
        "else:\n",
        "  print(gpu_info)"
      ],
      "metadata": {
        "id": "gj08UQrDOqW2",
        "colab": {
          "base_uri": "https://localhost:8080/"
        },
        "outputId": "6709e3b9-618f-4c68-d6a7-90426029bf88"
      },
      "execution_count": 12,
      "outputs": [
        {
          "output_type": "stream",
          "name": "stdout",
          "text": [
            "Not connected to a GPU\n"
          ]
        }
      ]
    },
    {
      "cell_type": "markdown",
      "source": [
        "### **Setup**"
      ],
      "metadata": {
        "id": "eXD8VBix7DD1"
      }
    },
    {
      "cell_type": "code",
      "source": [
        "%%capture\n",
        "!pip install pyspellchecker\n",
        "!pip install bertopic\n",
        "!pip install kaleido # for save BERTopic plots as image\n",
        "!pip install optuna\n",
        "!pip install hdbscan\n",
        "!pip install umap-learn\n",
        "!pip install gensim\n",
        "!pip install pyldavis"
      ],
      "metadata": {
        "id": "csLlF-UUb2il"
      },
      "execution_count": 13,
      "outputs": []
    },
    {
      "cell_type": "code",
      "execution_count": 15,
      "metadata": {
        "id": "CQ0hDdDm6gtj",
        "colab": {
          "base_uri": "https://localhost:8080/"
        },
        "outputId": "e4bc149d-abe5-4943-8886-6766639d3d5d"
      },
      "outputs": [
        {
          "output_type": "stream",
          "name": "stderr",
          "text": [
            "/usr/local/lib/python3.8/dist-packages/past/types/oldstr.py:5: DeprecationWarning: Using or importing the ABCs from 'collections' instead of from 'collections.abc' is deprecated since Python 3.3, and in 3.10 it will stop working\n",
            "  from collections import Iterable\n"
          ]
        }
      ],
      "source": [
        "import pandas as pd # for data manipulation\n",
        "import os # for interacting with the operating system\n",
        "import nltk # for natural language processing\n",
        "import string # for string manipulation\n",
        "import re # for for regular expressions\n",
        "import matplotlib.pyplot as plt # for visualization\n",
        "import spacy # for lemmatize portuguese text\n",
        "from bertopic import BERTopic # for topic modeling\n",
        "from spellchecker import SpellChecker # for spell check\n",
        "import json\n",
        "import optuna # for hyperparameter optimization\n",
        "from hdbscan import HDBSCAN # for clustering\n",
        "from sklearn.cluster import KMeans # for clustering\n",
        "from umap import UMAP # for dimension reduction\n",
        "from sklearn.decomposition import PCA # for dimension reduction\n",
        "from sklearn.feature_extraction.text import CountVectorizer # for convert text documents to matrix of tokens count\n",
        "from bertopic.vectorizers import ClassTfidfTransformer \n",
        "import ast # for convert str to tuple\n",
        "import csv\n",
        "from gensim import models\n",
        "from gensim.corpora import Dictionary\n",
        "from gensim.models.coherencemodel import CoherenceModel\n",
        "import numpy as np\n",
        "import pickle \n",
        "import pyLDAvis\n",
        "from gensim.utils import simple_tokenize\n",
        "from gensim.models import LdaMulticore\n",
        "from gensim.utils import simple_preprocess"
      ]
    },
    {
      "cell_type": "code",
      "source": [
        "%%capture\n",
        "# Install spacy pt_core_news_sm for portuguese text\n",
        "!python -m spacy download pt_core_news_sm"
      ],
      "metadata": {
        "id": "dafLrQKmvlGD"
      },
      "execution_count": 16,
      "outputs": []
    },
    {
      "cell_type": "code",
      "source": [
        "nltk.download(\"punkt\")"
      ],
      "metadata": {
        "id": "BvRCi7Cvp0G6",
        "colab": {
          "base_uri": "https://localhost:8080/"
        },
        "outputId": "ee73c3f1-33ff-48df-cebd-54f9e841798e"
      },
      "execution_count": 17,
      "outputs": [
        {
          "output_type": "stream",
          "name": "stderr",
          "text": [
            "[nltk_data] Downloading package punkt to /root/nltk_data...\n",
            "[nltk_data]   Unzipping tokenizers/punkt.zip.\n"
          ]
        },
        {
          "output_type": "execute_result",
          "data": {
            "text/plain": [
              "True"
            ]
          },
          "metadata": {},
          "execution_count": 17
        }
      ]
    },
    {
      "cell_type": "code",
      "source": [
        "# Download dataset with stopwords\n",
        "nltk.download(\"stopwords\")"
      ],
      "metadata": {
        "id": "JAvaPg5ep3Df",
        "colab": {
          "base_uri": "https://localhost:8080/"
        },
        "outputId": "7f309b6c-7daa-4ee7-9ef3-baa33b5ff134"
      },
      "execution_count": 18,
      "outputs": [
        {
          "output_type": "stream",
          "name": "stderr",
          "text": [
            "[nltk_data] Downloading package stopwords to /root/nltk_data...\n",
            "[nltk_data]   Unzipping corpora/stopwords.zip.\n"
          ]
        },
        {
          "output_type": "execute_result",
          "data": {
            "text/plain": [
              "True"
            ]
          },
          "metadata": {},
          "execution_count": 18
        }
      ]
    },
    {
      "cell_type": "code",
      "source": [
        "# Donwload datasets for lemmatization\n",
        "nltk.download('wordnet')\n",
        "nltk.download('omw-1.4')"
      ],
      "metadata": {
        "id": "97RrmPshvcmu",
        "colab": {
          "base_uri": "https://localhost:8080/"
        },
        "outputId": "c95740c9-1090-46c5-8471-04c11e7a4909"
      },
      "execution_count": 19,
      "outputs": [
        {
          "output_type": "stream",
          "name": "stderr",
          "text": [
            "[nltk_data] Downloading package wordnet to /root/nltk_data...\n",
            "[nltk_data] Downloading package omw-1.4 to /root/nltk_data...\n"
          ]
        },
        {
          "output_type": "execute_result",
          "data": {
            "text/plain": [
              "True"
            ]
          },
          "metadata": {},
          "execution_count": 19
        }
      ]
    },
    {
      "cell_type": "code",
      "source": [
        "# Donwload dependency need to stem portuguese text\n",
        "nltk.download('rslp')"
      ],
      "metadata": {
        "id": "qn9OrF3EXCNv",
        "colab": {
          "base_uri": "https://localhost:8080/"
        },
        "outputId": "f9df724d-81e7-46dd-95bd-c242f30ce9c7"
      },
      "execution_count": 20,
      "outputs": [
        {
          "output_type": "stream",
          "name": "stderr",
          "text": [
            "[nltk_data] Downloading package rslp to /root/nltk_data...\n",
            "[nltk_data]   Unzipping stemmers/rslp.zip.\n"
          ]
        },
        {
          "output_type": "execute_result",
          "data": {
            "text/plain": [
              "True"
            ]
          },
          "metadata": {},
          "execution_count": 20
        }
      ]
    },
    {
      "cell_type": "markdown",
      "source": [
        "### **Load data from [Github](https://github.com/punkmic/Topic-Modeling-Reclame-Aqui.git)**"
      ],
      "metadata": {
        "id": "EGjKdT4C8RVD"
      }
    },
    {
      "cell_type": "code",
      "source": [
        "#!git clone https://github.com/punkmic/Topic-Modeling-Reclame-Aqui.git"
      ],
      "metadata": {
        "id": "C_yss1JC-8Ou"
      },
      "execution_count": null,
      "outputs": []
    },
    {
      "cell_type": "code",
      "source": [
        "# Change directory\n",
        "%cd /content/Topic-Modeling-Reclame-Aqui \n",
        "\n",
        "# Update files from remote repository\n",
        "!git pull \n",
        "\n",
        "# Return to work directory\n",
        "%cd ..\n",
        "\n",
        "# Check current directory\n",
        "!pwd"
      ],
      "metadata": {
        "id": "uv3QBnDRHFPv"
      },
      "execution_count": null,
      "outputs": []
    },
    {
      "cell_type": "code",
      "source": [
        "WORK_DIR = '/content/Topic-Modeling-Reclame-Aqui/'"
      ],
      "metadata": {
        "id": "AXc0CHKwGrm7"
      },
      "execution_count": 21,
      "outputs": []
    },
    {
      "cell_type": "code",
      "source": [
        "def read_data(path_csv, drop_duplicates = True, lower=True):\n",
        " \n",
        "  # use the read_csv method to read csv file\n",
        "  df = pd.read_csv(path_csv)\n",
        "  \n",
        "  if drop_duplicates:\n",
        "    # read and return the CSV file using the read_csv method\n",
        "    print(f\"Shape before remove duplicates: {df.shape}\")\n",
        "\n",
        "    # use the drop_duplicated method to drop duplicates rows\n",
        "    df = df.drop_duplicates(subset=\"text\")\n",
        "\n",
        "    print(f\"Shape after remove duplicates: {df.shape}\")\n",
        "\n",
        "    if lower:\n",
        "      # apply the str.lower() method to each element in the dataframe\n",
        "      df = df.applymap(str.lower)\n",
        "    \n",
        "     # rename columns\n",
        "    df.columns = [\"title\", \"documents\"] \n",
        "\n",
        "    # use the replace() method to replace the string with an empty string\n",
        "    df = df.replace(re.compile('\\[editado pelo reclame aqui\\]|editado pelo reclame aqui|Editado pelo Reclame Aqui'), '')\n",
        "    df = df.replace(re.compile('\\[casas bahia\\]|Casa Bahia|Casas Bahia|casa bahia'), '')\n",
        "    df = df.replace(re.compile('\\[magazine luiza\\]|Magazine luiza|Magazine Luiza| Magazine luizar|Magazine Luizar'), '')\n",
        "    df = df.replace(re.compile('\\[mercado livre\\]|Mercado Livre|Mercado livre'), '')\n",
        "    df = df.replace(re.compile('\\[americana\\]|Ameriacanas|ameriacanas'), '')\n",
        "\n",
        "  return df"
      ],
      "metadata": {
        "id": "F3IoOKARBwVb",
        "colab": {
          "base_uri": "https://localhost:8080/"
        },
        "outputId": "b3036335-584e-4679-abe6-277b4187c8c0"
      },
      "execution_count": 22,
      "outputs": [
        {
          "output_type": "stream",
          "name": "stderr",
          "text": [
            "<>:23: DeprecationWarning: invalid escape sequence \\[\n",
            "<>:24: DeprecationWarning: invalid escape sequence \\[\n",
            "<>:25: DeprecationWarning: invalid escape sequence \\[\n",
            "<>:26: DeprecationWarning: invalid escape sequence \\[\n",
            "<>:27: DeprecationWarning: invalid escape sequence \\[\n",
            "<>:23: DeprecationWarning: invalid escape sequence \\[\n",
            "<>:24: DeprecationWarning: invalid escape sequence \\[\n",
            "<>:25: DeprecationWarning: invalid escape sequence \\[\n",
            "<>:26: DeprecationWarning: invalid escape sequence \\[\n",
            "<>:27: DeprecationWarning: invalid escape sequence \\[\n",
            "<ipython-input-22-c602cfad55fa>:23: DeprecationWarning: invalid escape sequence \\[\n",
            "  df = df.replace(re.compile('\\[editado pelo reclame aqui\\]|editado pelo reclame aqui|Editado pelo Reclame Aqui'), '')\n",
            "<ipython-input-22-c602cfad55fa>:24: DeprecationWarning: invalid escape sequence \\[\n",
            "  df = df.replace(re.compile('\\[casas bahia\\]|Casa Bahia|Casas Bahia|casa bahia'), '')\n",
            "<ipython-input-22-c602cfad55fa>:25: DeprecationWarning: invalid escape sequence \\[\n",
            "  df = df.replace(re.compile('\\[magazine luiza\\]|Magazine luiza|Magazine Luiza| Magazine luizar|Magazine Luizar'), '')\n",
            "<ipython-input-22-c602cfad55fa>:26: DeprecationWarning: invalid escape sequence \\[\n",
            "  df = df.replace(re.compile('\\[mercado livre\\]|Mercado Livre|Mercado livre'), '')\n",
            "<ipython-input-22-c602cfad55fa>:27: DeprecationWarning: invalid escape sequence \\[\n",
            "  df = df.replace(re.compile('\\[americana\\]|Ameriacanas|ameriacanas'), '')\n"
          ]
        }
      ]
    },
    {
      "cell_type": "markdown",
      "source": [
        "### **Preprocessing**"
      ],
      "metadata": {
        "id": "drjuwA5yk4YB"
      }
    },
    {
      "cell_type": "markdown",
      "source": [
        "#### **Tokenization**\n",
        "\n",
        "Tokenization aims to breaking text down into its component parts"
      ],
      "metadata": {
        "id": "i9ukWCy8qBOP"
      }
    },
    {
      "cell_type": "code",
      "source": [
        "WORD_TOKENIZER = nltk.tokenize.word_tokenize\n",
        "def tokenize(text):\n",
        "  tokens = [token.strip().lower() for token in WORD_TOKENIZER(text, language=\"portuguese\")]\n",
        " \n",
        "  # set a pattern to detect patterns such as x x, xxx x, xxx xxx\n",
        "  pattern = r\"\\b\\w+\\s+\\w+\\b\"\n",
        " \n",
        "  # filter tokens by pattern\n",
        "  filtered_words = [word for word in tokens if re.search(pattern, word)]\n",
        "\n",
        "  # return token if not in filter list\n",
        "  return [token for token in tokens if token not in filtered_words]"
      ],
      "metadata": {
        "id": "k_f8hsxJk7v4"
      },
      "execution_count": 23,
      "outputs": []
    },
    {
      "cell_type": "markdown",
      "source": [
        "#### **Stem** \n",
        "\n",
        "Stem the tokens. This step aims to remove morphological affixes and normalize to standardized stem forms"
      ],
      "metadata": {
        "id": "Lm7V--yMq98r"
      }
    },
    {
      "cell_type": "code",
      "source": [
        "STEMMER = nltk.stem.RSLPStemmer()\n",
        "def stem(tokens):\n",
        "  return [STEMMER.stem(token) for token in tokens]"
      ],
      "metadata": {
        "id": "TphgFQIxrPMM"
      },
      "execution_count": 24,
      "outputs": []
    },
    {
      "cell_type": "markdown",
      "source": [
        "#### **Lemmatize**\n",
        "\n",
        "Lemmatize the tokens. Retains more natural forms than stemming, but assumes all tokens nons unless tokens are passed as (word, pos) tuples. Note: nltk lemmatize does not suport portugues language"
      ],
      "metadata": {
        "id": "RTiUcqzrrdiX"
      }
    },
    {
      "cell_type": "code",
      "source": [
        "LEMMATIZER = nltk.WordNetLemmatizer()\n",
        "\n",
        "def lemmatize(tokens):\n",
        "  lemmas = []\n",
        "  for token in tokens:\n",
        "      if isinstance(token, str):\n",
        "          # treats token like a noun\n",
        "          lemmas.append(LEMMATIZER.lemmatize(token)) \n",
        "      else: \n",
        "          # assume a tuple of (word, pos)\n",
        "          lemmas.append(LEMMATIZER.lemmatize(*token))\n",
        "  return lemmas"
      ],
      "metadata": {
        "id": "4O48ihphrxy3"
      },
      "execution_count": 25,
      "outputs": []
    },
    {
      "cell_type": "markdown",
      "source": [
        "**Lemmatize option for portuguese text**"
      ],
      "metadata": {
        "id": "eHdBPARlU24i"
      }
    },
    {
      "cell_type": "code",
      "source": [
        "# load portuguese model\n",
        "nlp = spacy.load('pt_core_news_sm')\n",
        "\n",
        "def lemmatize_pt(tokens):\n",
        "\n",
        "  # Create a spaCy Doc object and apply the lemmatization\n",
        "  doc = nlp(' '.join(tokens))\n",
        "\n",
        "  # Return lemmatize\n",
        "  return [token.lemma_ for token in doc]"
      ],
      "metadata": {
        "id": "pfgdVUHVU6Zy"
      },
      "execution_count": 26,
      "outputs": []
    },
    {
      "cell_type": "markdown",
      "source": [
        "#### **Remove stopwords**\n",
        "\n",
        "Stop words are things like articles and conjunctions that usually do not offer a lot of value in an analysis."
      ],
      "metadata": {
        "id": "jkLYqJgDs4Xd"
      }
    },
    {
      "cell_type": "code",
      "source": [
        "custom_stop_words = ['amazon', 'americanas', 'casas bahia', 'magazine luiza', 'shein', 'kabum',\n",
        "                       'samsung', 'mercado livre', 'banco brasil', 'apple', 'magazine', 'luiza', 'luizar',\n",
        "                      'casas', 'bahia', 'casa', 'mercado', 'livre','magalu']"
      ],
      "metadata": {
        "id": "TW2aSpqiodwr"
      },
      "execution_count": 27,
      "outputs": []
    },
    {
      "cell_type": "code",
      "source": [
        "def remove_stopwords(tokens, stopwords=None, custom_stop_words = None):\n",
        "\n",
        "  if custom_stop_words is None:\n",
        "    custom_stop_words = ['amazon', 'americanas', 'casas bahia', 'magazine luiza', 'shein', 'kabum',\n",
        "                       'samsung', 'mercado livre', 'banco brasil', 'apple', 'magazine', 'luiza', 'luizar',\n",
        "                      'casas', 'bahia', 'casa', 'mercado', 'livre']\n",
        "\n",
        "  # Use the default stop words if none is passed\n",
        "  if stopwords is None:\n",
        "    stopwords = nltk.corpus.stopwords.words('portuguese') + custom_stop_words\n",
        "  \n",
        "  # Filter the list of tokens to exclude the stop word tokens\n",
        "  return [token for token in tokens if token not in stopwords]"
      ],
      "metadata": {
        "id": "D9blZaBYtHgj"
      },
      "execution_count": 28,
      "outputs": []
    },
    {
      "cell_type": "code",
      "source": [
        "assert remove_stopwords(['compra', 'echar', 'em esse', 'amazon', 'pude'], custom_stop_words=custom_stop_words) == ['compra', 'echar', 'em esse', 'pude']"
      ],
      "metadata": {
        "id": "-E4DqCin2HDc"
      },
      "execution_count": 29,
      "outputs": []
    },
    {
      "cell_type": "markdown",
      "source": [
        "#### **Remove hyperlinks**\n",
        "\n",
        "Removes http/s links from the tokens."
      ],
      "metadata": {
        "id": "X4qMKyfKtaAW"
      }
    },
    {
      "cell_type": "code",
      "source": [
        "def remove_links(tokens):\n",
        "  # Filter tokens that starts with \"http://\" or \"https://\"\n",
        "  return [token for token in tokens \n",
        "          if not token.startswith(\"http://\")\n",
        "          and not token.startswith(\"https://\")]"
      ],
      "metadata": {
        "id": "LqlMta5qtovS"
      },
      "execution_count": 30,
      "outputs": []
    },
    {
      "cell_type": "code",
      "source": [
        "assert remove_links(['bom', 'http://online', 'https://offline']) == ['bom']"
      ],
      "metadata": {
        "id": "vxvsG7s_6wkd"
      },
      "execution_count": 31,
      "outputs": []
    },
    {
      "cell_type": "markdown",
      "source": [
        "#### **Remove numbers**"
      ],
      "metadata": {
        "id": "EwKFluprz-pW"
      }
    },
    {
      "cell_type": "code",
      "source": [
        "def remove_numbers(tokens):\n",
        "  # Use a regular expression to match words that contain numbers\n",
        "  pattern = r\"\\b\\w*\\d\\w*\\b\"\n",
        "  tokens = [token for token in tokens if not re.sub(pattern, \"\", token) == \"\"]\n",
        "  \n",
        "  # Filter out number tokens using a list comprehension and the isnumeric method\n",
        "  return [token for token in tokens if not token.isnumeric()]"
      ],
      "metadata": {
        "id": "ALKnXv8C0EWu"
      },
      "execution_count": 32,
      "outputs": []
    },
    {
      "cell_type": "code",
      "source": [
        "assert remove_numbers(['ola', 'bicicleta', '1', '2002']) == ['ola', 'bicicleta']"
      ],
      "metadata": {
        "id": "32uzYfBG3cv2"
      },
      "execution_count": 33,
      "outputs": []
    },
    {
      "cell_type": "markdown",
      "source": [
        "#### **Remove date**"
      ],
      "metadata": {
        "id": "a0pZKAQ7ZJHL"
      }
    },
    {
      "cell_type": "code",
      "source": [
        "def remove_date(tokens):\n",
        "  # Compile a regular expression to match dates in the format dd/mm or dd/mm/yyyy\n",
        "  date_regex = re.compile(r'\\d{2}/\\d{2}(/\\d{4})?')\n",
        "\n",
        "  # Use the regex to find all the tokens that match the date pattern\n",
        "  dates = [token for token in tokens if date_regex.fullmatch(token)]\n",
        "\n",
        "  # Filter the list of tokens to exclude the date tokens\n",
        "  filtered_tokens = [token for token in tokens if token not in dates]\n",
        "\n",
        "  # Return the filtered tokens\n",
        "  return filtered_tokens"
      ],
      "metadata": {
        "id": "ywykIjKZctc-"
      },
      "execution_count": 34,
      "outputs": []
    },
    {
      "cell_type": "code",
      "source": [
        "assert remove_date(['texto', 'data', '20/10', 'seguro', '02/09/2014']) == ['texto', 'data', 'seguro']"
      ],
      "metadata": {
        "id": "k6r3cMbB7F3f"
      },
      "execution_count": 35,
      "outputs": []
    },
    {
      "cell_type": "markdown",
      "source": [
        "#### **Remove punctuation**"
      ],
      "metadata": {
        "id": "7y1FqCD1t75_"
      }
    },
    {
      "cell_type": "code",
      "source": [
        "def remove_punctuation(tokens,\n",
        "                       strip_mentions=True,\n",
        "                       strip_hashtags=True):\n",
        "\n",
        "    tokens = [re.sub(r'[^\\w\\s]', '', token) for token in tokens]\n",
        "\n",
        "    # Filter punctuation tokens\n",
        "    tokens = [token.strip() for token in tokens if token not in string.punctuation]\n",
        "\n",
        "    # Remove @ symbol from left side of tokens\n",
        "    if strip_mentions:\n",
        "        tokens = [t.lstrip(r\"([!\\\"#$%&'()*+,-./:;<=>?@[\\]^_`{|}~])\\1+\") for t in tokens]\n",
        "\n",
        "    # Remove # symbol from left side of tokens\n",
        "    if strip_hashtags:\n",
        "        tokens = [t.lstrip(r\"([!\\\"#$%&'()*+,-./:;<=>?@[\\]^_`{|}~])\\1+\") for t in tokens]\n",
        "\n",
        "    return tokens"
      ],
      "metadata": {
        "id": "ba7paG7_uBtS"
      },
      "execution_count": 36,
      "outputs": []
    },
    {
      "cell_type": "code",
      "source": [
        "assert remove_punctuation(['limpo', 'acento/  ///', 'simples???', 'onde', ',']) == ['limpo', 'acento', 'simples', 'onde']"
      ],
      "metadata": {
        "id": "7E8n6Z0l7Xe_"
      },
      "execution_count": 37,
      "outputs": []
    },
    {
      "cell_type": "markdown",
      "source": [
        "#### **Remove short tokens**"
      ],
      "metadata": {
        "id": "SiUx2T8C5YBh"
      }
    },
    {
      "cell_type": "code",
      "source": [
        "def remove_short_tokens(tokens):\n",
        "  # Filter the list of tokens to exclude tokens that are shorter than four letters\n",
        "  filtered_tokens = [token for token in tokens if len(token) >= 4]\n",
        "\n",
        "  # Return the filtered tokens\n",
        "  return filtered_tokens"
      ],
      "metadata": {
        "id": "t8SOwNYW6QI1"
      },
      "execution_count": 38,
      "outputs": []
    },
    {
      "cell_type": "code",
      "source": [
        "assert remove_short_tokens(['sair', 'um', 'correto', 'igual', 'oi', 'de', 'em']) == ['sair', 'correto', 'igual']"
      ],
      "metadata": {
        "id": "GTF9de9N7uFK"
      },
      "execution_count": 39,
      "outputs": []
    },
    {
      "cell_type": "markdown",
      "source": [
        "#### **Correction of spelling errors**"
      ],
      "metadata": {
        "id": "WqtOisN38pZP"
      }
    },
    {
      "cell_type": "code",
      "source": [
        "# Create a SpellChecker object\n",
        "spell = SpellChecker(language='pt')\n",
        "\n",
        "def check_spell_errors(text):\n",
        "  result = []\n",
        "  for token in text:\n",
        "    # Correct the spelling errors in the text\n",
        "    corrected_text = spell.correction(token)\n",
        "\n",
        "    # If no correction is present user the original text\n",
        "    if corrected_text == None:\n",
        "      corrected_text =  token\n",
        "  \n",
        "    result.append(corrected_text)\n",
        "  # Return the corrected text\n",
        "  return result"
      ],
      "metadata": {
        "id": "fUTiJYc_8hba"
      },
      "execution_count": 40,
      "outputs": []
    },
    {
      "cell_type": "markdown",
      "source": [
        "#### **Remove extra white spaces**"
      ],
      "metadata": {
        "id": "ybMjuBaSw67b"
      }
    },
    {
      "cell_type": "code",
      "source": [
        "def remove_whitespace(document):\n",
        "    return  \" \".join(document.split())"
      ],
      "metadata": {
        "id": "3ig6LBnhw_6L"
      },
      "execution_count": 41,
      "outputs": []
    },
    {
      "cell_type": "code",
      "source": [
        "def preprocess(df, colname, custom_process = None, check_spell = False):\n",
        "  df[colname]= df[colname].str.lower()\n",
        "  df[colname]= df[colname].apply(remove_whitespace)\n",
        "\n",
        "  if custom_process is None:\n",
        "    df[colname] = df[colname].apply(tokenize)\n",
        "    if check_spell:\n",
        "      df[colname] = df[colname].apply(check_spell_errors)\n",
        "    df[colname] = df[colname].apply(remove_links)\n",
        "    df[colname] = df[colname].apply(remove_punctuation)\n",
        "    df[colname] = df[colname].apply(remove_numbers)\n",
        "    df[colname] = df[colname].apply(remove_date)\n",
        "    df[colname] = df[colname].apply(remove_short_tokens)\n",
        "    df[colname] = df[colname].apply(remove_stopwords)\n",
        "    df[colname] = df[colname].apply(lemmatize_pt) \n",
        "    df[colname] = df[colname].apply(lambda x: ' '.join(x))\n",
        "  else:\n",
        "    if 'tokenize' in custom_process:\n",
        "      df[colname] = df[colname].apply(tokenize)\n",
        "    if 'check_spell' in custom_process:\n",
        "      df[colname] = df[colname].apply(check_spell_errors) \n",
        "    if 'remove_links' in custom_process:\n",
        "      df[colname] = df[colname].apply(remove_links)\n",
        "    if 'remove_punctuation' in custom_process:\n",
        "      df[colname] = df[colname].apply(remove_punctuation)\n",
        "    if 'remove_numbers' in custom_process:\n",
        "      df[colname] = df[colname].apply(remove_numbers)\n",
        "    if 'remove_date' in custom_process:\n",
        "      df[colname] = df[colname].apply(remove_date)\n",
        "    if 'remove_short_tokens' in custom_process:\n",
        "      df[colname] = df[colname].apply(remove_short_tokens)\n",
        "    if 'remove_stopwords' in custom_process:\n",
        "      df[colname] = df[colname].apply(remove_stopwords)\n",
        "    if 'lemmatize' in custom_process:\n",
        "      df[colname] = df[colname].apply(lemmatize_pt)\n",
        "    if 'steam' in custom_process and 'lemmatize' not in custom_process:\n",
        "      df[colname] = df[colname].apply(stem)\n",
        "  return df"
      ],
      "metadata": {
        "id": "Tu75mPgywHwb"
      },
      "execution_count": 42,
      "outputs": []
    },
    {
      "cell_type": "code",
      "source": [
        "def get_data(features):\n",
        "  dfs = {}\n",
        "  # create models for documents and title features\n",
        "  df = None\n",
        "  for feature in features:\n",
        "    if not os.path.exists(WORK_DIR + f'results/dataset/preprocessed/table_{feature}.csv'):\n",
        "\n",
        "      path_csv = WORK_DIR + \"docs.csv\"\n",
        "  \n",
        "      if df is None:\n",
        "        # read data \n",
        "        df = read_data(path_csv)\n",
        "        dfs['raw'] = df\n",
        "  \n",
        "      # preprocess data\n",
        "      df = preprocess(df, feature)\n",
        "\n",
        "      # Set the path to save \n",
        "      path = WORK_DIR + 'results/dataset/preprocessed/'\n",
        "\n",
        "      # Use makedirs() to create a new directory if it does not exists\n",
        "      if not os.path.exists(path):\n",
        "        os.makedirs(path)\n",
        "\n",
        "      # Save the DataFrame to a CSV file\n",
        "      df.to_csv(path + f'table_{feature}.csv', index=False)\n",
        "      print(f'Dataset saved into {path}')\n",
        "  for feature in features:\n",
        "    df_processed = pd.read_csv(WORK_DIR + f'results/dataset/preprocessed/table_{feature}.csv')\n",
        "    dfs[feature] = df_processed\n",
        "  return dfs"
      ],
      "metadata": {
        "id": "73uvqVnafwvQ"
      },
      "execution_count": 43,
      "outputs": []
    },
    {
      "cell_type": "code",
      "source": [
        "features=['title', 'documents']\n",
        "dfs = get_data(features)\n",
        "print(dfs.keys())"
      ],
      "metadata": {
        "id": "oo923nmEwgFF",
        "colab": {
          "base_uri": "https://localhost:8080/"
        },
        "outputId": "407eb33f-3e60-4771-b0f7-f372df9d937a"
      },
      "execution_count": 44,
      "outputs": [
        {
          "output_type": "stream",
          "name": "stdout",
          "text": [
            "Shape before remove duplicates: (12760, 2)\n",
            "Shape after remove duplicates: (10510, 2)\n",
            "Dataset saved into /content/Topic-Modeling-Reclame-Aqui/results/dataset/preprocessed/\n",
            "Dataset saved into /content/Topic-Modeling-Reclame-Aqui/results/dataset/preprocessed/\n",
            "dict_keys(['raw', 'title', 'documents'])\n"
          ]
        }
      ]
    },
    {
      "cell_type": "code",
      "source": [
        "DATA_FRAME_FEATURE_NAME = 'documents'\n",
        "\n",
        "docs = list(dfs[DATA_FRAME_FEATURE_NAME]['documents'])\n",
        "print(docs[0:10])"
      ],
      "metadata": {
        "colab": {
          "base_uri": "https://localhost:8080/"
        },
        "id": "xdRUWhqa2hB_",
        "outputId": "7ba07bbb-c7cf-4574-b862-d71fdeba47a4"
      },
      "execution_count": 45,
      "outputs": [
        {
          "output_type": "stream",
          "name": "stdout",
          "text": [
            "['pesquisando bastante novo comprar resolver aguardar semana cliente porque ocorrer vários desconto promoção em esse semana ser assim recebi desconto cashback cupom varia plataforma assim decidir efetuar compra entender melhor custo beneficio ser assim setembro recebi oferta produto entendi preço além cachback efetuei comprar aguardei semana consumidor efetuar todo expectativa estavar ancioso estar dentro prazo entregar hoje resolver enviar mensagem perguntar pedir enviar após confirmação comprar pagamento passado dia nenhum retorno complei inclusive site confio tambem assinante surpresa após pedir informação pedir retorno email estar ser cancelar ser nenhum justificativa após dia realização aguardei chegar periodo compro ansiosamente aproveitar desconto produto familia aguardar além cancelar compra produto justificativa empresa tirar todo oportunidade desconto efetuar compra semano consumidor levar dia cancelar sinto extremamente empresa sempre acreditar aguardo satisfação reparação transtorno sofrer hoje com si comprar produto valor próximo', 'sinceramente decepcionar entrar contato procon hoje informar marcar audiência conciliação porque amozan responder solicitação esclarecimento procon procon importar fazer somente querer contar produto vender estoque cancelar satisfação algunhar total falta respeito consumidor fazer sair criança recém nascir desistir direito em esse audiência assim', 'cancelei plano antes terminar período testir grátis pois gostar plataforma segundo cobr fatura dois mês assinar contando gratuito caso resolr problema ir entrar processo contra tentar contato onde conversar retornar maisengraçar contratar poder qualquer pessoa precisar ficar vir reclamar outro local respondar agora cancelar nenhum canal atendimento funcionar', 'olhar compra vir errar vir errar novamente falar mariano pensar entendir problema falei escolher desodorante cinca vir verde errar agora vir verde novamente acreditar', 'inscrevi realizar venda Brasil cadastro plano individual cobrar apenas real venda realizar por surpresa conseguir finalizar recebi mensagem nubank realizar pagamento valor dolar real realizei encerramento contar abri afim evitar cobrança por consigo contato saber faço receber reembolsolembrar autorizei interesse plano global vender querer apenas vender brasil pagar plano real vendafico aguardo soluçao', 'pedido chegar cancelar compra site linkr solicitar reembolsosobre devolução dinheiro entregar pedir dar necessita judicial', 'compra xaropurer kaly gengibre status informar entregue acontecer', 'setembro solicitei devolução coleto após algum dia cancelar solicitar novamente presente data reembolsar sabese atendimento chat central saber dizer resolver', 'compra smart loja oficial efacil algum dia pedir cancelar informar pedir cancelar efacil nenhum motivo pedir ser aprovar cartão querer cumprimento ofertar', 'compra echar em esse pude aproveitar promoção site oferecer echo compr prazo grande quase mês previsão primeiro quinzena outubro porém hoje recebi email avisar cancelamento compra primeiro experiência preter outro esperar todo tempo produto demorar avisar cancelamento chancer aproveitar consumidor tiveno prejudicar péssimo experiência']\n"
          ]
        }
      ]
    },
    {
      "cell_type": "markdown",
      "source": [
        "## **Training a BERTopic Model**\n",
        "\n",
        "The BERTopic algorithm has several advantages over other topic modeling algorithms. It is able to handle sparse data, it is scalable to large datasets, and it is able to learn topics that are not well-defined or are overlapping.\n",
        "\n",
        "As our data language is portuguese we will going to set language to multilingual."
      ],
      "metadata": {
        "id": "AWmOFQ3VOD05"
      }
    },
    {
      "cell_type": "markdown",
      "source": [
        "Create a new BERTopic model and train it. By default BERTopic use the paraphrase-multilingual-MiniLM-L12-v2 model for multi language documents. For others model check here [BERTopic sentence transformers](https://maartengr.github.io/BERTopic/getting_started/embeddings/embeddings.html#sentence-transformers)"
      ],
      "metadata": {
        "id": "_mBsnRnhgbm9"
      }
    },
    {
      "cell_type": "code",
      "source": [
        "# Create a new BERTopic model using multilingual option\n",
        "topic_model = BERTopic(language=\"multilingual\", calculate_probabilities=True, verbose=True)\n",
        "\n",
        "# Train model \n",
        "topics, probs = topic_model.fit_transform(docs)"
      ],
      "metadata": {
        "id": "B0EFqnutN2Y9",
        "outputId": "9b234c96-47b9-49b0-86dc-29e66b2b26de",
        "colab": {
          "base_uri": "https://localhost:8080/",
          "height": 517,
          "referenced_widgets": [
            "1505cca241194f9aa648c701fe97a1c2",
            "0777ed1da6ab4396b8ee4a7b0cebb7f1",
            "2b16f6ab11254f8284df4b448b5a3a5b",
            "a4cdefb1329a404e8da04e144e3dd68e",
            "c8e9ce620c344c808884eb904e57ad38",
            "7338210885cf4a21b1e62519df7fd170",
            "11f47786d67e4db6a33d7b4a7495b304",
            "d608b3b17bbc4055b683bd161adb08e8",
            "b2048f779fef4f519ed57e3f8f25fb9e",
            "9dd73bdcb26e4677b37c0081922e18fb",
            "80326698566e448c84697f86b43e69e0",
            "b745580860454419a738e6c6249171f6",
            "2affe1a8fd934bd29580a485ecc5e641",
            "9657a1fd29b541398f1d9e1e98c10a3a",
            "4859cc7ef1c6473f80a8ea33fefbd1d2",
            "a256c3179f064264a611d8f2f58e9849",
            "e981ae66fff04465bc8bd102e8b63be8",
            "c62fe3894c6f48fbb1c531761afa6ff4",
            "8dc340615ff944d8abe7877a927475d0",
            "171a52ec9b0546e4b7f039f1ba1af5a5",
            "a201d85d15544ba1a1a3242ca432590e",
            "cb71f74f4e2842a7a72d2bb98275872d",
            "a6afad077e63415395c0f46f52e9bf9e",
            "161b12c98d304c6aa300ecb4e4048561",
            "d2d4a4b8970d410abe2522d49b9a9042",
            "5cfc3f6cfc0147e59216f007692019fa",
            "c7d3428365d6425594dd7dc152befae6",
            "bc755c0afc294515b9ef9702e31b6ed8",
            "05d7bb40713a4d20941d7e5ac27fd22b",
            "808fb3cd55d046eab00656e05e4348bb",
            "6a5fdaf6986741989be3d8593a4feead",
            "332f21945de544e1a6fbf39c46b5a348",
            "1cb545407397411c856ceeff08322160",
            "f3507ef504e14353968abf2cecefba76",
            "8b48ff5dfa2d4f21abbfb1bbca82fd49",
            "8a7e461d8f344c02a522ee7ff48efd14",
            "2a3ec6d7ec9a40f9ab2c45ac0be4f128",
            "ab0a383e94c8487cb120e5dc3d18c03c",
            "98ccdb61503747fc9d10c93eb61c1ecc",
            "91acb69f83ad4fdfaaace93bc6462b82",
            "01e4e11a958e427385d349e17eb4922d",
            "9d92b6ab849742d2a985cadafd580b9e",
            "4c1a77c6c164496580b705f8d40a6c3f",
            "007730f4a11b45db800e29e75a449203",
            "f70a4817fedb4e1abcbb127881543181",
            "ebbd779e9e09447ca4bfb6675f79d9fd",
            "39418846e0a14cd3ac35be6b26f97092",
            "fb2f750fce534f608117fa4046d5380d",
            "1779d6d43f2c43a29217855b10a53cad",
            "5dd723b5a36f47c7bebe2be9599d469f",
            "de970082e52d48b188424e6161cec12c",
            "c128435099da4a9fb00772c1407be473",
            "f963a609bd7e4f3998cc9d36a31643a0",
            "1fa9b705577942d393abd3f560c3f1ae",
            "0d848bbf0e24476ba11999e7a8f15390",
            "449342e9957e40be960ec5f94f6d32b5",
            "1557bb49cc154b3eac37d7071e0ab3bb",
            "9b5540ef1b49417787030dcaf160c968",
            "40f0ccb3b62f4bdf80931811d689cbf9",
            "e18e9318184849a7849b1207c0789f4f",
            "92850e8aa7c84c48a6195947a3e7bfcf",
            "d4d2f8758d3c4857a7426eb277191906",
            "468ff4861c3b47d6b853b77efdba43ea",
            "09e00b8d9cc648d68cb9c43bd83c46a2",
            "63d8603c8e67430683c1dc1a733b5e69",
            "9500f1ff2aec453486957f3b52bd800b",
            "b0ddbf176c3f496ba98cc8936bdcc904",
            "62039d4ff78e4e60819116e82d6ce39b",
            "1f15c1dfd1964561811bce4d3a3e1cc7",
            "8f1b7cf4b9d240e0a628ac94fb554bea",
            "a0d690c9195c4b0ea292f83d7a89e521",
            "93a2b7c442544fdbb141390e7a57ca06",
            "2355f314cbae4cc5a4e4dfa74f2478e4",
            "1dc7aa3f5b854a5592b9dba09a7e8f71",
            "aef1a14d8f644c84a047b3199d3f4112",
            "104a85c2f45c45b4aff82ed46ea78c43",
            "e8304e4acd41420c845d85e7718a8b5d",
            "c3134f58443c4371ae76bb8ec008dc54",
            "ce335483d1454847a2c808cdfd0ee994",
            "72fc1ab317ee43f682b0cf87a0c0e3a2",
            "a268752183f54be989e2a08af8aacf90",
            "02f3001afd8642aab14847f22192b779",
            "a96979ce6eb84e08a9d1317fe5bd1ff1",
            "86f9523c000548f2adc3c8836886a2b7",
            "45d3a24df46742b5b24c61d4396891ff",
            "02e1ec8ffbce4705acfb3bac22894e73",
            "5e109e6f5a8144b9beffc3cd5f9b162a",
            "3efdb7c9a547450ab59224f6fba9d254",
            "797f435259e749ad81794afa9e88c1f9",
            "66b863de96094b99af50650bc36b98b8",
            "36c89d58223243f1b48cfaf48ad96fdd",
            "ae6c9503843943c19b3b3e117646bd96",
            "ff93058d8c3b4fcd8bdce368f8a3e6b5",
            "78f536d6d1f947faae9962f6150a9f9c",
            "88217356bdae4ed8ab4e8cbf6a067da0",
            "37e396a5bd6147e995e18e8432a1af93",
            "8e22c9503bce4c4493c9e1076054af64",
            "d4ecfdd650864bf3abde5365fb4bf64f",
            "116a0aa550494f78822705eefffc27ab",
            "bf6a81a20dd7414e873051dcf66ead07",
            "3f81699e6a2e4c5784cae457e65bfcf8",
            "2ee5d12632c8430a91995afd402d981a",
            "e4d243ea8e96410f8c1ea876192e128a",
            "ebbaf9eda7df4dd7ad8cf312a7a3146a",
            "2a613b6f05e44a7a903617d75c7b50cd",
            "281e4da4251743e3b09231e8ac12ffe1",
            "75ab5c4f572c47e08a1ca94f6981a760",
            "d54dbe202d0e460bab78acd24a56fd8e",
            "4531ce075c764c6ab6c71e8b86ee4c86",
            "ddfc7e71979a47f682323a04c38611f8",
            "3d81913c0499461bbebb1d09d5ce4ac6",
            "650daa142b404ce8b1a914035b0b845f",
            "8506cabbc4e8420da916273e2dca1d46",
            "3074d2eb68204fb3bfa5d09243ad4698",
            "3182d30c662f4c0485e35523855d590e",
            "5d797a128a3d4924987927ed8d7efc63",
            "f58000d4f69f4050a133002a182fbcb6",
            "a5a0d3a7e10f46bbab6687df153b4268",
            "085834ebf1d741f4add649e9dc372f63",
            "90a82a24656e499fbd576b40c106be5c",
            "315667d7e7204e78992b6d784e475a73",
            "225bc5e8308f44dba3c9ce01e7084c45",
            "3f955735dfcb44d5bb57754993111750",
            "d20a8ff5b6434511b89f0c68ace33a7b",
            "76b1148c3d444a62a161a66a0ad71d12",
            "d06fa55e9fe348609ef795e70d950061",
            "9df04cf69abd46419d6b3e5a57ed648b",
            "7964bb4bcfef4530aa0ecb36a4fce52c",
            "f16617c56ca0448c9a7588654866adea",
            "ff5dd6ba6ded4bb996c8d809d02cb2be",
            "d280f203f65247e29dea8215eca13a7d",
            "4e979f3db717437a8ca31d46153f1fa8",
            "1920b1223a964638bfb0458d556b1c56",
            "090f324861ac4436bf70d0c54fa3d9c8",
            "e48b033491534ced9e60bd1595292a72",
            "2a796dc5913441659f3f07769fa74848",
            "336e5829ff444048a581a99710413551",
            "af0ac99cf26e42c599c4a2ecc6f2189a",
            "c3549ce76504476ba64f80397d25766f",
            "b0920393eb8845fd86ea313f57f3696c",
            "41333eaf7dc4402ab15ef8540c8b62e9",
            "3c8a05b07d6041b486cc8e39d859bcc2",
            "1949fbe5643a40b3a3c606f37baae5e7",
            "27879d5195d2451593dbe267b26f159d",
            "278f65e33316418c86c58d0c4e510791",
            "edebbc9ef7794cea9bddfec5d105cd6c",
            "bbc6352388ae490296100bbc14164451",
            "e8ca305ccd14497295cef7a4155e43d0",
            "11380586b7584795b618b93181aa4413",
            "210e8ef2eee14ed7acdb856eced98997",
            "e0edcc18b8d14f42a740f2c333b5723d",
            "ba8581e7262447808a497a3d598beac2",
            "cdb25fec82204749921893c44d4fd2e4",
            "a04af16b54824f4ca6ffece525e5b91d"
          ]
        }
      },
      "execution_count": 46,
      "outputs": [
        {
          "output_type": "display_data",
          "data": {
            "text/plain": [
              "Downloading:   0%|          | 0.00/968 [00:00<?, ?B/s]"
            ],
            "application/vnd.jupyter.widget-view+json": {
              "version_major": 2,
              "version_minor": 0,
              "model_id": "1505cca241194f9aa648c701fe97a1c2"
            }
          },
          "metadata": {}
        },
        {
          "output_type": "display_data",
          "data": {
            "text/plain": [
              "Downloading:   0%|          | 0.00/190 [00:00<?, ?B/s]"
            ],
            "application/vnd.jupyter.widget-view+json": {
              "version_major": 2,
              "version_minor": 0,
              "model_id": "b745580860454419a738e6c6249171f6"
            }
          },
          "metadata": {}
        },
        {
          "output_type": "display_data",
          "data": {
            "text/plain": [
              "Downloading:   0%|          | 0.00/3.79k [00:00<?, ?B/s]"
            ],
            "application/vnd.jupyter.widget-view+json": {
              "version_major": 2,
              "version_minor": 0,
              "model_id": "a6afad077e63415395c0f46f52e9bf9e"
            }
          },
          "metadata": {}
        },
        {
          "output_type": "display_data",
          "data": {
            "text/plain": [
              "Downloading:   0%|          | 0.00/645 [00:00<?, ?B/s]"
            ],
            "application/vnd.jupyter.widget-view+json": {
              "version_major": 2,
              "version_minor": 0,
              "model_id": "f3507ef504e14353968abf2cecefba76"
            }
          },
          "metadata": {}
        },
        {
          "output_type": "display_data",
          "data": {
            "text/plain": [
              "Downloading:   0%|          | 0.00/122 [00:00<?, ?B/s]"
            ],
            "application/vnd.jupyter.widget-view+json": {
              "version_major": 2,
              "version_minor": 0,
              "model_id": "f70a4817fedb4e1abcbb127881543181"
            }
          },
          "metadata": {}
        },
        {
          "output_type": "display_data",
          "data": {
            "text/plain": [
              "Downloading:   0%|          | 0.00/471M [00:00<?, ?B/s]"
            ],
            "application/vnd.jupyter.widget-view+json": {
              "version_major": 2,
              "version_minor": 0,
              "model_id": "449342e9957e40be960ec5f94f6d32b5"
            }
          },
          "metadata": {}
        },
        {
          "output_type": "display_data",
          "data": {
            "text/plain": [
              "Downloading:   0%|          | 0.00/53.0 [00:00<?, ?B/s]"
            ],
            "application/vnd.jupyter.widget-view+json": {
              "version_major": 2,
              "version_minor": 0,
              "model_id": "b0ddbf176c3f496ba98cc8936bdcc904"
            }
          },
          "metadata": {}
        },
        {
          "output_type": "display_data",
          "data": {
            "text/plain": [
              "Downloading:   0%|          | 0.00/5.07M [00:00<?, ?B/s]"
            ],
            "application/vnd.jupyter.widget-view+json": {
              "version_major": 2,
              "version_minor": 0,
              "model_id": "c3134f58443c4371ae76bb8ec008dc54"
            }
          },
          "metadata": {}
        },
        {
          "output_type": "display_data",
          "data": {
            "text/plain": [
              "Downloading:   0%|          | 0.00/239 [00:00<?, ?B/s]"
            ],
            "application/vnd.jupyter.widget-view+json": {
              "version_major": 2,
              "version_minor": 0,
              "model_id": "797f435259e749ad81794afa9e88c1f9"
            }
          },
          "metadata": {}
        },
        {
          "output_type": "display_data",
          "data": {
            "text/plain": [
              "Downloading:   0%|          | 0.00/9.08M [00:00<?, ?B/s]"
            ],
            "application/vnd.jupyter.widget-view+json": {
              "version_major": 2,
              "version_minor": 0,
              "model_id": "bf6a81a20dd7414e873051dcf66ead07"
            }
          },
          "metadata": {}
        },
        {
          "output_type": "display_data",
          "data": {
            "text/plain": [
              "Downloading:   0%|          | 0.00/480 [00:00<?, ?B/s]"
            ],
            "application/vnd.jupyter.widget-view+json": {
              "version_major": 2,
              "version_minor": 0,
              "model_id": "3d81913c0499461bbebb1d09d5ce4ac6"
            }
          },
          "metadata": {}
        },
        {
          "output_type": "display_data",
          "data": {
            "text/plain": [
              "Downloading:   0%|          | 0.00/14.8M [00:00<?, ?B/s]"
            ],
            "application/vnd.jupyter.widget-view+json": {
              "version_major": 2,
              "version_minor": 0,
              "model_id": "225bc5e8308f44dba3c9ce01e7084c45"
            }
          },
          "metadata": {}
        },
        {
          "output_type": "display_data",
          "data": {
            "text/plain": [
              "Downloading:   0%|          | 0.00/229 [00:00<?, ?B/s]"
            ],
            "application/vnd.jupyter.widget-view+json": {
              "version_major": 2,
              "version_minor": 0,
              "model_id": "1920b1223a964638bfb0458d556b1c56"
            }
          },
          "metadata": {}
        },
        {
          "output_type": "display_data",
          "data": {
            "text/plain": [
              "Batches:   0%|          | 0/329 [00:00<?, ?it/s]"
            ],
            "application/vnd.jupyter.widget-view+json": {
              "version_major": 2,
              "version_minor": 0,
              "model_id": "27879d5195d2451593dbe267b26f159d"
            }
          },
          "metadata": {}
        },
        {
          "output_type": "stream",
          "name": "stderr",
          "text": [
            "2023-01-11 03:51:06,774 - BERTopic - Transformed documents to Embeddings\n",
            "2023-01-11 03:51:45,511 - BERTopic - Reduced dimensionality\n",
            "2023-01-11 03:51:50,429 - BERTopic - Clustered reduced embeddings\n"
          ]
        }
      ]
    },
    {
      "cell_type": "markdown",
      "source": [
        "BERTopic works in three main steps: \n",
        "\n",
        "\n",
        "1.   Documents are first converted to numeric data. It extracts different embeddings based on the context of the word. For this, a sentence transformation model is used.\n",
        "2.  Documents with similar topics are then grouped together forming clusters with similar topics. For this purpose, BERTopic uses the clustering algorithm UMAP to lower the dimensionality of the embeddings. Then the documents are clustered with the density-based algorithm HDBSCAN.\n",
        "3. BERTopic extracts topics from clusters using a class-based TF-IDF score. This score gives the importance of each word in a cluster. Topics are then created based on the most important words measured by their C-TF-IDF score.\n",
        "\n",
        "For more information check this link [BERTopic](https://towardsdatascience.com/topic-modeling-with-bert-779f7db187e6)\n",
        "\n"
      ],
      "metadata": {
        "id": "vnG5aC6ekXeu"
      }
    },
    {
      "cell_type": "markdown",
      "source": [
        "#### **BERTopic coherence score**"
      ],
      "metadata": {
        "id": "sO7nj4sKER-o"
      }
    },
    {
      "cell_type": "code",
      "source": [
        "def get_coherence(model, topics, docs):\n",
        "  # Preprocess Documents\n",
        "  documents = pd.DataFrame({\"Document\": docs,\n",
        "                          \"ID\": range(len(docs)),\n",
        "                          \"Topic\": topics})\n",
        "  documents_per_topic = documents.groupby(['Topic'], as_index=False).agg({'Document': ' '.join})\n",
        "  #cleaned_docs = model._preprocess_text(documents_per_topic.Document.values)\n",
        "\n",
        "  # Extract vectorizer and analyzer from BERTopic\n",
        "  vectorizer = model.vectorizer_model\n",
        "  analyzer = vectorizer.build_analyzer()\n",
        "\n",
        "  # Extract features for Topic Coherence evaluation\n",
        "  tokens = [analyzer(doc) for doc in documents_per_topic.Document.values]\n",
        "  dictionary = Dictionary(tokens)\n",
        "  corpus = [dictionary.doc2bow(token) for token in tokens]\n",
        "  topic_words = [[words for words, _ in model.get_topic(topic)] \n",
        "               for topic in range(len(set(topics))-1)]\n",
        "\n",
        "  # Evaluate\n",
        "  coherence_model = CoherenceModel(topics=topic_words, \n",
        "                                 texts=tokens, \n",
        "                                 corpus=corpus,\n",
        "                                 dictionary=dictionary, \n",
        "                                 coherence='c_v')\n",
        "  coherence = coherence_model.get_coherence()\n",
        "  return coherence"
      ],
      "metadata": {
        "id": "4i-8_eIQDWMS"
      },
      "execution_count": 100,
      "outputs": []
    },
    {
      "cell_type": "code",
      "source": [
        "print(f\"Coeherence score: {get_coherence(topic_model, topics, docs)}\")"
      ],
      "metadata": {
        "id": "bGCBVYq7EX8h",
        "outputId": "a9c48688-0dff-4fa1-e0e3-63131010b723",
        "colab": {
          "base_uri": "https://localhost:8080/"
        }
      },
      "execution_count": 99,
      "outputs": [
        {
          "output_type": "stream",
          "name": "stdout",
          "text": [
            "Coeherence score: 0.4877774840016643\n"
          ]
        }
      ]
    },
    {
      "cell_type": "markdown",
      "source": [
        "### **Extracting Topics**"
      ],
      "metadata": {
        "id": "GimKIMmaRZSd"
      }
    },
    {
      "cell_type": "code",
      "source": [
        "# Print the most frequent topics\n",
        "freq = topic_model.get_topic_info()\n",
        "\n",
        "# Show the top 5 most frequent topics\n",
        "freq.head(5)"
      ],
      "metadata": {
        "id": "JIrBNmF-Rcf0"
      },
      "execution_count": null,
      "outputs": []
    },
    {
      "cell_type": "markdown",
      "source": [
        "The table above shows the five most freqeuente topics and the words present on it extract by BERTopic. -1 refers to all outliers and should be ignored."
      ],
      "metadata": {
        "id": "TVWcfF5mRrMy"
      }
    },
    {
      "cell_type": "code",
      "source": [
        "# show the most frequent topic\n",
        "topic_model.get_topic(0)"
      ],
      "metadata": {
        "id": "Br_UMf1kRxU3"
      },
      "execution_count": null,
      "outputs": []
    },
    {
      "cell_type": "markdown",
      "source": [
        "**Note:** BERTopic is stocastich which means that the topics might differ across runs this is mostly due to the stocastisch nature of UMAP"
      ],
      "metadata": {
        "id": "YpP4HgF2R6Wa"
      }
    },
    {
      "cell_type": "markdown",
      "source": [
        "#### **Save topic info table as CSV**"
      ],
      "metadata": {
        "id": "CxWLChzJlPmZ"
      }
    },
    {
      "cell_type": "code",
      "source": [
        "# Set the path to save \n",
        "path = WORK_DIR + f'results/{DATA_FRAME_FEATURE_NAME}/topic_info_tables/'\n",
        "\n",
        "# Use makedirs() to create a new directory if it does not exists\n",
        "if not os.path.exists(path):\n",
        "  os.makedirs(path)\n",
        "\n",
        "# Save table as csv\n",
        "freq.head(10).to_csv(path + 'topic_info_preprocessed_lemma.csv', index=False)"
      ],
      "metadata": {
        "id": "9wM4Ymh_lOdt"
      },
      "execution_count": null,
      "outputs": []
    },
    {
      "cell_type": "markdown",
      "source": [
        "## **Visualization**"
      ],
      "metadata": {
        "id": "wBsA8hiVSJDY"
      }
    },
    {
      "cell_type": "markdown",
      "source": [
        "### **Intertopic Distance Map**\n",
        "\n",
        "This graph shows the distance intertopic and help us understand the promixity of topics"
      ],
      "metadata": {
        "id": "2twooZDXUc2T"
      }
    },
    {
      "cell_type": "code",
      "source": [
        "fig = topic_model.visualize_topics(width=800, height=800)\n",
        "fig"
      ],
      "metadata": {
        "id": "Ae2JSAENSIOJ"
      },
      "execution_count": null,
      "outputs": []
    },
    {
      "cell_type": "markdown",
      "source": [
        "#### **Save intertopic distance map**"
      ],
      "metadata": {
        "id": "VEy11A_SlliP"
      }
    },
    {
      "cell_type": "code",
      "source": [
        "# Set the path to save \n",
        "path = WORK_DIR + f'results/{DATA_FRAME_FEATURE_NAME}/intertopic_distance_map/'\n",
        "\n",
        "# Use makedirs() to create a new directory if it does not exists\n",
        "if not os.path.exists(path):\n",
        "  os.makedirs(path)\n",
        "\n",
        "\n",
        "fig.write_image(path + \"idm_preprocessed_lemma.png\", format=\"png\")\n",
        "fig.write_html(path + \"idm_preprocessed_lemma.html\")"
      ],
      "metadata": {
        "id": "hLy_Eeu4lqCg"
      },
      "execution_count": null,
      "outputs": []
    },
    {
      "cell_type": "markdown",
      "source": [
        "[Github link](https://github.com/punkmic/Topic-Modeling-Reclame-Aqui/blob/master/results/intertopic_distance_map/idm_preprocessed_lemma.png?raw=true)"
      ],
      "metadata": {
        "id": "Jf-iwAsQoOCs"
      }
    },
    {
      "cell_type": "markdown",
      "source": [
        "### **Visualize Topic Hierarchy**\n",
        "\n",
        "The topics that were created can be hierarchically reduced. This visualization shows how the topics relate to one another."
      ],
      "metadata": {
        "id": "r-5bT7AgSgsv"
      }
    },
    {
      "cell_type": "code",
      "source": [
        "fig = topic_model.visualize_hierarchy(top_n_topics=30, width=800, height=800)\n",
        "fig"
      ],
      "metadata": {
        "id": "TEoOpDD6S4D7"
      },
      "execution_count": null,
      "outputs": []
    },
    {
      "cell_type": "markdown",
      "source": [
        "#### **Save Hierarchical Clustering**"
      ],
      "metadata": {
        "id": "CyM_L5c6pBXw"
      }
    },
    {
      "cell_type": "code",
      "source": [
        "# Set the path to save \n",
        "path = WORK_DIR + f'results/{DATA_FRAME_FEATURE_NAME}/hierarchical_clustering/'\n",
        "\n",
        "# Use makedirs() to create a new directory if it does not exists\n",
        "if not os.path.exists(path):\n",
        "  os.makedirs(path)\n",
        "\n",
        "\n",
        "fig.write_image(path + \"hc_preprocessed_lemma.png\", format=\"png\")"
      ],
      "metadata": {
        "id": "CHYmk_TZpHPJ"
      },
      "execution_count": null,
      "outputs": []
    },
    {
      "cell_type": "markdown",
      "source": [
        "[Github link](https://github.com/punkmic/Topic-Modeling-Reclame-Aqui/blob/master/results/hierarchical_clustering/hc_preprocessed_lemma.png?raw=true)"
      ],
      "metadata": {
        "id": "VrqyRupApBx1"
      }
    },
    {
      "cell_type": "markdown",
      "source": [
        "### **Visualize Terms**\n",
        "\n",
        "We can visualize the selected terms for a few topics by creating bar charts out of the c-TF-IDF scores for each topic representation."
      ],
      "metadata": {
        "id": "uC26Cc-6UvYE"
      }
    },
    {
      "cell_type": "code",
      "source": [
        "fig = topic_model.visualize_barchart(top_n_topics=12, width=300, height=300)\n",
        "fig"
      ],
      "metadata": {
        "id": "-NoMSyeWVF2s"
      },
      "execution_count": null,
      "outputs": []
    },
    {
      "cell_type": "markdown",
      "source": [
        "#### **Save Top Word Scores Bar Chart**"
      ],
      "metadata": {
        "id": "MZWFicVqpWUA"
      }
    },
    {
      "cell_type": "code",
      "source": [
        "# Set the path to save \n",
        "path = WORK_DIR + f'results/{DATA_FRAME_FEATURE_NAME}/top_words_scores/'\n",
        "\n",
        "# Use makedirs() to create a new directory if it does not exists\n",
        "if not os.path.exists(path):\n",
        "  os.makedirs(path)\n",
        "\n",
        "\n",
        "fig.write_image(path + \"tws_preprocessed_lemma.png\", format=\"png\")"
      ],
      "metadata": {
        "id": "Qrz2ywMapdO5"
      },
      "execution_count": null,
      "outputs": []
    },
    {
      "cell_type": "markdown",
      "source": [
        "[Github link](https://github.com/punkmic/Topic-Modeling-Reclame-Aqui/blob/master/results/top_words_scores/tws_preprocessed_lemma.png?raw=true)"
      ],
      "metadata": {
        "id": "HtFLmwl4pTAv"
      }
    },
    {
      "cell_type": "markdown",
      "source": [
        "### **Visualize Topic Similarity**\n",
        "\n",
        "This plot shows a similarity matrix by simply applying cosine similarities through those topic embeddings generate by BERTopic through both c-TF-IDF and embeddings. This matrix indicate how similar certain topics are to each other."
      ],
      "metadata": {
        "id": "qMjOvmYVVUDX"
      }
    },
    {
      "cell_type": "code",
      "source": [
        "fig = topic_model.visualize_heatmap(n_clusters=20, width=800, height=800)\n",
        "fig"
      ],
      "metadata": {
        "id": "_GL5qZ0nV3M2"
      },
      "execution_count": null,
      "outputs": []
    },
    {
      "cell_type": "markdown",
      "source": [
        "#### **Save Similarity Matrix**"
      ],
      "metadata": {
        "id": "CF3QJy6epmQY"
      }
    },
    {
      "cell_type": "code",
      "source": [
        "# Set the path to save \n",
        "path = WORK_DIR + f'results/{DATA_FRAME_FEATURE_NAME}/similarity_matrix/'\n",
        "\n",
        "# Use makedirs() to create a new directory if it does not exists\n",
        "if not os.path.exists(path):\n",
        "  os.makedirs(path)\n",
        "\n",
        "\n",
        "fig.write_image(path + \"sm_preprocessed_lemma.png\", format=\"png\")"
      ],
      "metadata": {
        "id": "VQOAZurPprA4"
      },
      "execution_count": null,
      "outputs": []
    },
    {
      "cell_type": "markdown",
      "source": [
        "[Github link](https://github.com/punkmic/Topic-Modeling-Reclame-Aqui/blob/master/results/similarity_matrix/sm_preprocessed_lemma.png?raw=true)"
      ],
      "metadata": {
        "id": "y1pa1kWApYgp"
      }
    },
    {
      "cell_type": "markdown",
      "source": [
        "### **Visualize Term Score Decline**\n",
        "\n",
        "Topics are represented by a number of words starting with the best representative word. Each word is represented by a c-TF-IDF score. The higher the score, the more representative a word to the topic is. Since the topic words are sorted by their c-TF-IDF score, the scores slowly decline with each word that is added."
      ],
      "metadata": {
        "id": "vd41xsx7Xhgj"
      }
    },
    {
      "cell_type": "code",
      "source": [
        "fig = topic_model.visualize_term_rank()\n",
        "fig"
      ],
      "metadata": {
        "id": "Rw1wXTEtX967"
      },
      "execution_count": null,
      "outputs": []
    },
    {
      "cell_type": "markdown",
      "source": [
        "#### **Save Term score decline per Topic**"
      ],
      "metadata": {
        "id": "6UXg4gpFpwZg"
      }
    },
    {
      "cell_type": "code",
      "source": [
        "# Set the path to save \n",
        "path = WORK_DIR + f'results/{DATA_FRAME_FEATURE_NAME}/term_score_decline_topic/'\n",
        "\n",
        "# Use makedirs() to create a new directory if it does not exists\n",
        "if not os.path.exists(path):\n",
        "  os.makedirs(path)\n",
        "\n",
        "\n",
        "fig.write_image(path + \"tsdp_preprocessed_lemma.png\", format=\"png\")"
      ],
      "metadata": {
        "id": "F5Gppkjpp0hS"
      },
      "execution_count": null,
      "outputs": []
    },
    {
      "cell_type": "markdown",
      "source": [
        "[Github link](https://github.com/punkmic/Topic-Modeling-Reclame-Aqui/blob/master/results/term_socore_decline_topic/tsdp_preprocessed_lemma.png?raw=true)"
      ],
      "metadata": {
        "id": "QERxP9EspLjX"
      }
    },
    {
      "cell_type": "markdown",
      "source": [
        "### **Term search**"
      ],
      "metadata": {
        "id": "AZIV-p12ZMXa"
      }
    },
    {
      "cell_type": "code",
      "source": [
        "# Find topics that contains blackfriday term\n",
        "similar_topics, similarity = topic_model.find_topics(\"blackfriday\", top_n=5)\n",
        "\n",
        "# Show similar topics\n",
        "similar_topics"
      ],
      "metadata": {
        "id": "pHHayMGRZOob"
      },
      "execution_count": null,
      "outputs": []
    },
    {
      "cell_type": "code",
      "source": [
        "# Show a specific topic\n",
        "topic_model.get_topic(64)"
      ],
      "metadata": {
        "id": "2BnwvRotZUya"
      },
      "execution_count": null,
      "outputs": []
    },
    {
      "cell_type": "markdown",
      "source": [
        "### **\"Hiperparameter optimization\"**"
      ],
      "metadata": {
        "id": "f3Q_mQRNPRhr"
      }
    },
    {
      "cell_type": "code",
      "source": [
        "def save_documents(model, docs, label):\n",
        "  fig = topic_model.visualize_documents(docs, hide_document_hover=True, hide_annotations=True, width=800, height=800)\n",
        "\n",
        "  # Set the path to save \n",
        "  path = WORK_DIR + f'results/{DATA_FRAME_FEATURE_NAME}/documents_n_topics/'\n",
        "\n",
        "  # Use makedirs() to create a new directory if it does not exists\n",
        "  if not os.path.exists(path):\n",
        "    os.makedirs(path)\n",
        "\n",
        "  fig.write_image(path + f\"document_n_topics_trial_{label}.png\", format=\"png\")\n",
        "  fig.write_html(path + f\"document_n_topics_trial_{label}.html\")"
      ],
      "metadata": {
        "id": "O-l1u6wucN1m"
      },
      "execution_count": null,
      "outputs": []
    },
    {
      "cell_type": "code",
      "source": [
        "def save_topics(model, label):\n",
        "  fig = model.visualize_topics(width=800, height=800)\n",
        "\n",
        "  # Set the path to save \n",
        "  path = WORK_DIR + f'results/{DATA_FRAME_FEATURE_NAME}/intertopic_distance_map/'\n",
        "\n",
        "  # Use makedirs() to create a new directory if it does not exists\n",
        "  if not os.path.exists(path):\n",
        "    os.makedirs(path)\n",
        "\n",
        "  fig.write_image(path + f\"intertopic_distance_map_trial_{label}.png\", format=\"png\")\n",
        "  fig.write_html(path + f\"intertopic_distance_map_trial_{label}.html\")"
      ],
      "metadata": {
        "id": "zEr6GcxHZptw"
      },
      "execution_count": null,
      "outputs": []
    },
    {
      "cell_type": "code",
      "source": [
        "def save_hierarchy(model, label):\n",
        "  fig = model.visualize_hierarchy(width=800, height=800)\n",
        "\n",
        "  # Set the path to save \n",
        "  path = WORK_DIR + f'results/{DATA_FRAME_FEATURE_NAME}/hierarchical_clustering/'\n",
        "\n",
        "  # Use makedirs() to create a new directory if it does not exists\n",
        "  if not os.path.exists(path):\n",
        "    os.makedirs(path)\n",
        "\n",
        "  fig.write_image(path + f\"hierarchical_clustering_trial_{label}.png\", format=\"png\")\n",
        "  fig.write_html(path + f\"hierarchical_clustering_trial_{label}.html\")"
      ],
      "metadata": {
        "id": "9XqbXn0KZ3r1"
      },
      "execution_count": null,
      "outputs": []
    },
    {
      "cell_type": "code",
      "source": [
        "def save_top_words_scores(model, label):\n",
        "  fig = model.visualize_barchart(top_n_topics=12, width=300, height=300)\n",
        "\n",
        "  # Set the path to save \n",
        "  path = WORK_DIR + f'results/{DATA_FRAME_FEATURE_NAME}/top_words_scores/'\n",
        "\n",
        "  # Use makedirs() to create a new directory if it does not exists\n",
        "  if not os.path.exists(path):\n",
        "    os.makedirs(path)\n",
        "\n",
        "  fig.write_image(path + f\"top_words_scores_trial_{label}.png\", format=\"png\")\n",
        "  fig.write_html(path + f\"top_words_scores_trial_{label}.html\")"
      ],
      "metadata": {
        "id": "A_21t9rmZ4Pr"
      },
      "execution_count": null,
      "outputs": []
    },
    {
      "cell_type": "code",
      "source": [
        "def save_similarity_matrix(model, label):\n",
        "  fig = model.visualize_heatmap()\n",
        "\n",
        "  # Set the path to save \n",
        "  path = WORK_DIR + f'results/{DATA_FRAME_FEATURE_NAME}/similarity_matrix/'\n",
        "\n",
        "  # Use makedirs() to create a new directory if it does not exists\n",
        "  if not os.path.exists(path):\n",
        "    os.makedirs(path)\n",
        "\n",
        "  fig.write_image(path + f\"similarity_matrix_trial_{label}.png\", format=\"png\")\n",
        "  fig.write_html(path + f\"similarity_matrix_trial_{label}.html\")"
      ],
      "metadata": {
        "id": "lTV5l7q7Z45m"
      },
      "execution_count": null,
      "outputs": []
    },
    {
      "cell_type": "code",
      "source": [
        "def save_term_rank(model, label):\n",
        "  fig = model.visualize_term_rank(width=800, height=800)\n",
        "\n",
        "  # Set the path to save \n",
        "  path = WORK_DIR + f'results/{DATA_FRAME_FEATURE_NAME}/term_score_decline_topic/'\n",
        "\n",
        "  # Use makedirs() to create a new directory if it does not exists\n",
        "  if not os.path.exists(path):\n",
        "    os.makedirs(path)\n",
        "\n",
        "  fig.write_image(path + f\"term_score_trial_{label}.png\", format=\"png\")\n",
        "  fig.write_html(path + f\"term_score_trial_{label}.html\")"
      ],
      "metadata": {
        "id": "Ag4Yv6r2bfeR"
      },
      "execution_count": null,
      "outputs": []
    },
    {
      "cell_type": "code",
      "source": [
        "def save_hyperparameters(trial_params, label):\n",
        "  # Set the path to save \n",
        "  path = WORK_DIR + f'results/{DATA_FRAME_FEATURE_NAME}/hyperparameters/'\n",
        "\n",
        "  # Use makedirs() to create a new directory if it does not exists\n",
        "  if not os.path.exists(path):\n",
        "    os.makedirs(path)\n",
        "\n",
        "  with open(path + f\"hyperparameters_trial_{label}.json\", \"w\") as f:\n",
        "    f.write(json.dumps(trial_params))"
      ],
      "metadata": {
        "id": "3wuSDGh4dxlg"
      },
      "execution_count": null,
      "outputs": []
    },
    {
      "cell_type": "code",
      "source": [
        "def save_freq_topics(model, label):\n",
        "  # Print the most frequent topics\n",
        "  freq = topic_model.get_topic_info()\n",
        "\n",
        "  # Show the top 5 most frequent topics\n",
        "  freq = freq.head(5)\n",
        "\n",
        "  # Set the path to save \n",
        "  path = WORK_DIR + f'results/{DATA_FRAME_FEATURE_NAME}/frequent_topics/' \n",
        "\n",
        "  # Use makedirs() to create a new directory if it does not exists\n",
        "  if not os.path.exists(path):\n",
        "    os.makedirs(path)\n",
        "\n",
        "  freq.to_html(path + f\"freq_topics_trial_{label}.json\")\n",
        "  freq.to_csv(path + f\"freq_topics_trial_{label}.csv\", index=False)"
      ],
      "metadata": {
        "id": "DQcgSa44ZtdC"
      },
      "execution_count": null,
      "outputs": []
    },
    {
      "cell_type": "code",
      "source": [
        "def save_model(model, label):\n",
        "  # save model\n",
        "  path = WORK_DIR + f'results/{DATA_FRAME_FEATURE_NAME}/models/'\n",
        "\n",
        "  # Use makedirs() to create a new directory if it does not exists\n",
        "  if not os.path.exists(path):\n",
        "    os.makedirs(path)\n",
        "\n",
        "  model.save(path + label)"
      ],
      "metadata": {
        "id": "lv9hK2GrQhoe"
      },
      "execution_count": null,
      "outputs": []
    },
    {
      "cell_type": "code",
      "source": [
        "lda_scores = {'scores': []}\n",
        "bertopic_scores = {'scores': []}\n",
        "def save_coherence(model, topics, docs, label, clustering_model, reduction_model):\n",
        "  \n",
        "  # compute coherence score for BERTopic\n",
        "  coherence_score = get_coherence(model, topics, docs)\n",
        "  bertopic_scores['scores'].append(coherence_score)\n",
        "  print(f\"Bertopic Coeherence score: {coherence_score}\")\n",
        "\n",
        "  # compute coherence score for LDA\n",
        "  lda_score = get_lda_coherence_score(docs, len(topics))\n",
        "  lda_scores['scores'].append(lda_score)\n",
        "  print(f\"LDA Coeherence score: {lda_score}\")\n",
        "\n",
        "  # save scores\n",
        "  path = WORK_DIR + f'results/{DATA_FRAME_FEATURE_NAME}/coherence/'\n",
        "\n",
        "  if not os.path.exists(path):\n",
        "    os.makedirs(path)\n",
        "\n",
        "  with open(path + 'coherence_scores.csv', 'a', newline='') as f:\n",
        "    fieldnames = ['model', 'clustering', 'reduction', 'coherence_score', 'lda_coherence_score']\n",
        "    writer = csv.DictWriter(f, fieldnames=fieldnames)\n",
        "    data = [{'model': label,\n",
        "             'clustering': clustering_model, \n",
        "             'reduction': reduction_model,\n",
        "             'coherence_score': round(coherence_score, 4),\n",
        "             'lda_coherence_score': lda_score}]\n",
        "    writer.writerows(data)\n",
        "  return coherence_score"
      ],
      "metadata": {
        "id": "MkxTHUdDPuIH"
      },
      "execution_count": null,
      "outputs": []
    },
    {
      "cell_type": "code",
      "source": [
        "def visualize_lda(lda_model, nr_topics, corpus, id2word):\n",
        "  path = WORK_DIR + 'results/lda/topics/ldavis_' + str(nr_topics)\n",
        "\n",
        "  vis = pyLDAvis.gensim.prepare(lda_model, corpus, id2word)\n",
        " \n",
        "  with open(path, 'wb') as f:\n",
        "        pickle.dump(LDAvis_prepared, f)\n",
        "\n",
        "  with open(path, 'rb') as f:\n",
        "    LDAvis_prepared = pickle.load(f)\n",
        "  \n",
        "  pyLDAvis.save_html(LDAvis_prepared, WORK_DIR + 'results/lda/topics/ldavis_'+ str(nr_topics) +'.html')\n",
        "  LDAvis_prepared"
      ],
      "metadata": {
        "id": "YKE1YbPBWOcM"
      },
      "execution_count": null,
      "outputs": []
    },
    {
      "cell_type": "code",
      "source": [
        "def get_topics_words(lda, nr_topics):\n",
        "  x=lda.show_topics(num_topics=nr_topics, num_words=10,formatted=False)\n",
        "  topics_words = [(tp[0], [wd[0] for wd in tp[1]]) for tp in x]\n",
        "  topics = []\n",
        "  words = []\n",
        "  #Below Code Prints Topics and Words\n",
        "  for t, w in topics_words:\n",
        "    topics.append(t)\n",
        "    words.append(w)\n",
        "  df_topics = pd.DataFrame({'topic': topics, 'words': words})\n",
        "  return df_topics"
      ],
      "metadata": {
        "id": "5Rwi_4B9MmrU"
      },
      "execution_count": 155,
      "outputs": []
    },
    {
      "cell_type": "code",
      "source": [
        "def get_lda_coherence_score(docs, nr_topics):\n",
        "\n",
        "  # tokenize the text data\n",
        "  tokens = [simple_preprocess(doc) for doc in docs]\n",
        "  # create a corpus from a list of texts\n",
        "  dictionary = Dictionary(tokens)\n",
        "  corpus = [dictionary.doc2bow(token) for token in tokens]\n",
        "\n",
        "  # create a new LDA model\n",
        "  lda_model = LdaMulticore(corpus=corpus,\n",
        "                                       id2word=dictionary,\n",
        "                                       num_topics=nr_topics,\n",
        "                                       random_state=100)\n",
        "  \n",
        "  # save topics\n",
        "  path = WORK_DIR + \"result/lda_topics/\"\n",
        "\n",
        "  if not os.path.exists(path):\n",
        "    os.makedirs(path)\n",
        "\n",
        "  df = get_topics_words(lda_model, nr_topics)\n",
        "\n",
        "  topics = df.topic.values\n",
        "\n",
        "  # Compute Coherence Score\n",
        "  #coherence = 'u_mass'\n",
        "\n",
        "  # Extract the top 10 topics\n",
        "  #topic_words = []\n",
        "  #topics = lda_model.get_topics()\n",
        "  #for topic_id, topic in enumerate(topics):\n",
        "    #topic_words.append([dictionary[word_id] for word_id, prob in lda_model.get_topic_terms(topic_id)])\n",
        "\n",
        "  score = get_coherence(lda_model, topics, docs)\n",
        "  print(f'LDA coherence Score: ', score)\n",
        "  return score"
      ],
      "metadata": {
        "id": "jXoevUW7MHgs"
      },
      "execution_count": 158,
      "outputs": []
    },
    {
      "cell_type": "code",
      "source": [
        "get_lda_coherence_score(docs, 13)"
      ],
      "metadata": {
        "colab": {
          "base_uri": "https://localhost:8080/"
        },
        "id": "06j7CxTRHCeD",
        "outputId": "90dc7028-e0f8-468a-897a-3adb5def2e12"
      },
      "execution_count": 159,
      "outputs": [
        {
          "output_type": "stream",
          "name": "stderr",
          "text": [
            "WARNING:gensim.models.ldamulticore:too few updates, training might not converge; consider increasing the number of passes or iterations to improve accuracy\n"
          ]
        }
      ]
    },
    {
      "cell_type": "code",
      "source": [
        "# define the number of models to generate by optuna\n",
        "NUMBER_OF_MODELS = 4"
      ],
      "metadata": {
        "id": "ZcAm5WqZxLnm"
      },
      "execution_count": null,
      "outputs": []
    },
    {
      "cell_type": "code",
      "source": [
        "def optimizer(trial):\n",
        "\n",
        "  clustering_option = trial.suggest_categorical('clustering_algorithm__name', ['HDBSCAN', 'K-means'])\n",
        "  dimensionality_option = trial.suggest_categorical('reduction_algorithm__name', ['UMAP', 'PCA'])\n",
        "\n",
        "  # BERTopic hyperparameters\n",
        "  top_n_words = trial.suggest_int('bertopic__top_n_words', 5, 14)\n",
        "  n_gram_range = ast.literal_eval(trial.suggest_categorical('bertopic__n_gram_range', ['(1,1)', '(1,2)', '(1,3)']))\n",
        "  min_topic_size = trial.suggest_int('bertopic__min_topic_size', 15, 20)\n",
        "  diversity = trial.suggest_float('bertopic__diversity', 0.1, 1.0)\n",
        "  outlier_threshold = trial.suggest_float('bertopic__outliers_threshold', 0.04, 0.09)\n",
        "  nr_topics = trial.suggest_int('bertopic__nr_topics', 6, 20, step=1)\n",
        "\n",
        "  if clustering_option == 'HDBSCAN':\n",
        "    # HDBSCAN hyperparameters\n",
        "    min_cluster_size = trial.suggest_int('hdbscan__min_cluster_size', 10, 14)\n",
        "    cluster_selection_epsilon = trial.suggest_float('hdbscan__cluster_selection_epsilon', 0.1, 1.0)\n",
        "\n",
        "    # create a new HDBSCAN model to cluster documents\n",
        "    clustering_model = HDBSCAN(min_cluster_size=min_cluster_size, prediction_data=True)\n",
        "  elif clustering_option == 'K-means':\n",
        "    # K-means hyperparameters\n",
        "    k_means_n_clusters = trial.suggest_int('k-means__n_cluster',6, 10)\n",
        "\n",
        "    # create a new HDBSCAN model to cluster documents\n",
        "    clustering_model = KMeans(n_clusters=k_means_n_clusters)\n",
        "\n",
        "\n",
        "  if dimensionality_option == 'UMAP':\n",
        "    \n",
        "    # UMAP hyperparameters\n",
        "    n_neighbors = trial.suggest_int('umap__n_neighbors', 13, 17)\n",
        "    n_components = trial.suggest_int('umap__n_components', 2, 8)\n",
        "    metric = trial.suggest_categorical('umap__metric', ['cosine', 'euclidean'])\n",
        "    min_dist = trial.suggest_float('umap__min_dist', 0.1, 1.0)\n",
        "    spread = trial.suggest_float('umap__spread', 0.1, 1.0)\n",
        "\n",
        "    # create a new UMAP model to reduce dimension\n",
        "    reduction_model = UMAP(n_neighbors=n_neighbors, metric=metric, random_state=42)\n",
        "  elif dimensionality_option == 'PCA':\n",
        "    \n",
        "    # PCA hyperparameters\n",
        "    pca_n_components = trial.suggest_int('pca__n_components', 4, 6)\n",
        "    \n",
        "    # create a new PCA model to reduce dimension\n",
        "    reduction_model = PCA(n_components=pca_n_components, random_state=12) # k-Means, that does not produce any outliers at all\n",
        "\n",
        "\n",
        "  # CountVectorizer hyperparameters \n",
        "  max_features = trial.suggest_int('vectorizer__max_features', 3000, 6000)\n",
        "\n",
        "  # reduce the impact of frequent words.\n",
        "  ctfidf_model = ClassTfidfTransformer(reduce_frequent_words=True)\n",
        "\n",
        "  # list of portuguese stop words + custom words\n",
        "  stop_words = nltk.corpus.stopwords.words('portuguese') + custom_stop_words\n",
        "\n",
        "  # create a new CountVectorizer to create a matrix of tokens count\n",
        "  vectorizer_model = CountVectorizer(stop_words=stop_words, ngram_range=n_gram_range, max_features=max_features)\n",
        "\n",
        "\n",
        "  # create a new BERTopic model using multilingual option\n",
        "  model = BERTopic(language=\"multilingual\", \n",
        "                   nr_topics=nr_topics,\n",
        "                   calculate_probabilities=True, \n",
        "                   verbose=False,\n",
        "                   top_n_words=top_n_words,\n",
        "                   n_gram_range=n_gram_range,\n",
        "                   min_topic_size=min_topic_size,\n",
        "                   diversity=diversity,\n",
        "                   umap_model=reduction_model,\n",
        "                   hdbscan_model=clustering_model,\n",
        "                   vectorizer_model=vectorizer_model,\n",
        "                   ctfidf_model=ctfidf_model)\n",
        "  \n",
        "  try:\n",
        "    label = trial.number\n",
        "    params = trial.params\n",
        "  \n",
        "    # define model id\n",
        "    model_id = f\"model_trial_{label}\"\n",
        "\n",
        "    # train BERTopic model \n",
        "    topics, probs = model.fit_transform(docs)\n",
        "\n",
        "    # save plots\n",
        "    save_topics(model, label)\n",
        "    save_documents(model, docs, label)\n",
        "    save_hierarchy(model, label)\n",
        "    save_term_rank(model, label)\n",
        "    save_top_words_scores(model, label)\n",
        "  \n",
        "    # save model\n",
        "    save_model(model, model_id)\n",
        "\n",
        "    # save hyperparameters\n",
        "    save_hyperparameters(params, label)\n",
        "\n",
        "    # save model coherence score\n",
        "    save_coherence(model, topics, docs, model_id,\n",
        "                           clustering_option,dimensionality_option)\n",
        "    \n",
        "  except Exception as error:\n",
        "    print(error)\n",
        "  \n",
        "  return 0.0"
      ],
      "metadata": {
        "id": "O87BZ5kyQEvZ"
      },
      "execution_count": null,
      "outputs": []
    },
    {
      "cell_type": "code",
      "source": [
        "%%time\n",
        "\n",
        "# create a new study\n",
        "study = optuna.create_study(study_name='Bertopic')\n",
        "\n",
        "# run the optmize function \n",
        "study.optimize(optimizer, n_trials=NUMBER_OF_MODELS)"
      ],
      "metadata": {
        "id": "57mnK6MfYAp4"
      },
      "execution_count": null,
      "outputs": []
    },
    {
      "cell_type": "code",
      "source": [
        "def plot_coherence(model_label, nr_topics, coherences):\n",
        "  topicsname=[]\n",
        "  for i in range(1,nr_topics+1):\n",
        "      topicsname.append(\"t{0}\".format(i))\n",
        "  topicsname\n",
        "\n",
        "  plt.plot(topicsname, coherences)\n",
        "  plt.xlabel(\"Number of Topics\")\n",
        "  plt.ylabel(\"Coherence score\")\n",
        "  plt.legend((\"coherence_values\"), loc='best')\n",
        "  plt.show()"
      ],
      "metadata": {
        "id": "SEyIUv8SWBfX"
      },
      "execution_count": null,
      "outputs": []
    },
    {
      "cell_type": "code",
      "source": [
        "label = \"BERTopic\"\n",
        "plot_coherence(label, 20, bertopic_scores['scores'])"
      ],
      "metadata": {
        "id": "SsWLIc6ZWZxF"
      },
      "execution_count": null,
      "outputs": []
    },
    {
      "cell_type": "code",
      "source": [
        "label = \"LDA\"\n",
        "plot_coherence(label, 20, lda_scores['scores'])"
      ],
      "metadata": {
        "id": "wOHD8SQCWw3n"
      },
      "execution_count": null,
      "outputs": []
    },
    {
      "cell_type": "markdown",
      "source": [
        "#### **Merge of similar topics**"
      ],
      "metadata": {
        "id": "kmSbzWH0gJHM"
      }
    },
    {
      "cell_type": "code",
      "source": [
        "# TODO: select the best model and merge similar topic and save final model\n",
        "\n",
        "#topic_model = BERTopic.load(\"best_model\")"
      ],
      "metadata": {
        "id": "OWI9jDFYgTLW"
      },
      "execution_count": null,
      "outputs": []
    },
    {
      "cell_type": "markdown",
      "source": [
        "#### **Github**"
      ],
      "metadata": {
        "id": "F0gliNtXRkfH"
      }
    },
    {
      "cell_type": "code",
      "source": [
        "! ssh-keygen -t rsa -b 4096\n",
        "# Add github.com to our known hosts\n",
        "! ssh-keyscan -t rsa github.com >> ~/.ssh/known_hosts\n",
        "# Restrict the key permissions, or else SSH will complain.\n",
        "! chmod go-rwx /root/.ssh/id_rsa"
      ],
      "metadata": {
        "id": "yVd1eoa0zK7f"
      },
      "execution_count": null,
      "outputs": []
    },
    {
      "cell_type": "code",
      "source": [
        "! cat /root/.ssh/id_rsa.pub"
      ],
      "metadata": {
        "id": "_z-PSHRzz0PY",
        "outputId": "56bb2e15-b194-4b05-a4af-4431782d0420",
        "colab": {
          "base_uri": "https://localhost:8080/"
        }
      },
      "execution_count": 6,
      "outputs": [
        {
          "output_type": "stream",
          "name": "stdout",
          "text": [
            "ssh-rsa AAAAB3NzaC1yc2EAAAADAQABAAACAQDOnbMuCERTClE7azGE4jJizVi+C27xAxhup15e0vwPM8ath9zIvbCyL/9p2LQ5VqwWeYUTyOuQgvpl0Loj5hB3oPLxVsKLBFjHfTIib0XVrs54pXBD4kqyDNzIfC94WcEVVDN976LP870SlAeQY3s0oqL3GOxIaxElsZxU6Am3nTLBr0uJdHt2YDAyPKNjldSs9/5xu9BgCJdYUyGDKUBtjii6NFjcDekBgBwyxWOBJw28yPPxRkpqwO1/EE4gws/roY/BX2iFLveM1K7ORoHiCybFeMZCZIuvLVhcpG89AxDLfwAYGtHT3q6Je9qn+skQGFxL5U4ToyD+cH/9f/VwPNGyLNKGc1NqtuTY4Gtyr2W5QDlvFl3ul9K9SVjEU8jbKSMGOz/mEs4lrw/S1Mcu1SrkuCwZntfhCPk1g6SGROfEk8uQDeCItW55qS6+FDRs9o0/2vIiyBTuKkdFo0LjNq9/wFe2i/tIsdcldK50O8kPtZkTlDPhkhZ7/3gsWAQ7XojF5L0AGg1lQFxR9qHz8BxV7S+1cWw3/cBdkw4TIVc2orvSHgFGh8GeTUPgnmZWOp5OPhTf8+sDw9jEdg/lIEUaqiYGcKi9OE1RJkTLaoypuhgZFBBH/UEWyJnj/F4z09znPEv1xnPV5jciTxVpa9RwNyvzMEcfvhqZsn1Y9w== root@34e0f49f3d51\n"
          ]
        }
      ]
    },
    {
      "cell_type": "code",
      "source": [
        "!git config --global user.email \"mattheus_ribeiro@outlook.com\"\n",
        "!git config --global user.name \"punkmic\""
      ],
      "metadata": {
        "id": "4iixpGcjzxrO"
      },
      "execution_count": 7,
      "outputs": []
    },
    {
      "cell_type": "code",
      "source": [
        "!ssh -T git@github.com"
      ],
      "metadata": {
        "id": "bcqhgkdaz3QI"
      },
      "execution_count": null,
      "outputs": []
    },
    {
      "cell_type": "code",
      "source": [
        "!git clone git@github.com:punkmic/Topic-Modeling-Reclame-Aqui.git"
      ],
      "metadata": {
        "id": "zSA4ju5NDpqK",
        "outputId": "a58f059d-2230-466e-ba94-ad5a099ad0f9",
        "colab": {
          "base_uri": "https://localhost:8080/"
        }
      },
      "execution_count": 8,
      "outputs": [
        {
          "output_type": "stream",
          "name": "stdout",
          "text": [
            "Cloning into 'Topic-Modeling-Reclame-Aqui'...\n",
            "Warning: Permanently added the RSA host key for IP address '140.82.113.4' to the list of known hosts.\n",
            "remote: Enumerating objects: 16296, done.\u001b[K\n",
            "remote: Counting objects: 100% (2115/2115), done.\u001b[K\n",
            "remote: Compressing objects: 100% (1847/1847), done.\u001b[K\n",
            "remote: Total 16296 (delta 314), reused 1951 (delta 234), pack-reused 14181\u001b[K\n",
            "Receiving objects: 100% (16296/16296), 127.20 MiB | 15.04 MiB/s, done.\n",
            "Resolving deltas: 100% (1462/1462), done.\n",
            "Checking out files: 100% (14808/14808), done.\n"
          ]
        }
      ]
    },
    {
      "cell_type": "code",
      "source": [
        "%cd /content/Topic-Modeling-Reclame-Aqui/"
      ],
      "metadata": {
        "id": "2eEK0j1L6b7p"
      },
      "execution_count": null,
      "outputs": []
    },
    {
      "cell_type": "code",
      "source": [
        "!git add ./results/documents"
      ],
      "metadata": {
        "id": "CGqBhuS6z7WZ"
      },
      "execution_count": null,
      "outputs": []
    },
    {
      "cell_type": "code",
      "source": [
        "!git status"
      ],
      "metadata": {
        "id": "eyMFQF889jtB"
      },
      "execution_count": null,
      "outputs": []
    },
    {
      "cell_type": "code",
      "source": [
        "!git commit -m \"Adding preprocessed BERTopic result\""
      ],
      "metadata": {
        "id": "PFY8B1Ikz-U-"
      },
      "execution_count": null,
      "outputs": []
    },
    {
      "cell_type": "code",
      "source": [
        "!git push origin master"
      ],
      "metadata": {
        "id": "uEJWirD70EiH"
      },
      "execution_count": null,
      "outputs": []
    },
    {
      "cell_type": "code",
      "source": [
        "# run this command to push a new version of this notebook in case you have saved the notebook in github and it is outdate \n",
        "!git stash\n",
        "!git pull\n",
        "!git stash pop"
      ],
      "metadata": {
        "id": "pKF8mcLoIU3Q"
      },
      "execution_count": null,
      "outputs": []
    },
    {
      "cell_type": "code",
      "source": [
        "!rm -rf /root/.ssh/"
      ],
      "metadata": {
        "id": "awCNnf2Qlu_5"
      },
      "execution_count": null,
      "outputs": []
    },
    {
      "cell_type": "code",
      "source": [
        "from sklearn.cluster import KMeans\n",
        "from sklearn.feature_extraction.text import CountVectorizer, TfidfVectorizer"
      ],
      "metadata": {
        "id": "9wMVQ_18HwqL"
      },
      "execution_count": 33,
      "outputs": []
    },
    {
      "cell_type": "code",
      "source": [
        "# convert text documents to bag of words representation\n",
        "vectorizer = CountVectorizer(max_df=0.95, min_df=2, max_features=6000, stop_words='english', ngram_range=(1, 2))\n",
        "x = vectorizer.fit_transform(docs)\n",
        "\n",
        "# perform k-means clustering\n",
        "kmeans = KMeans(n_clusters=20)\n",
        "kmeans.fit(x)"
      ],
      "metadata": {
        "colab": {
          "base_uri": "https://localhost:8080/"
        },
        "id": "aBQCMZL5H17r",
        "outputId": "898fb028-3d12-42bb-c334-cfbaabaf2c14"
      },
      "execution_count": 34,
      "outputs": [
        {
          "output_type": "execute_result",
          "data": {
            "text/plain": [
              "KMeans(n_clusters=20)"
            ]
          },
          "metadata": {},
          "execution_count": 34
        }
      ]
    },
    {
      "cell_type": "code",
      "source": [
        "# use elbow method to find the best number of clusters\n",
        "ls = []\n",
        "for i in range(1, 20):\n",
        "    kmeans = KMeans(n_clusters=i)\n",
        "    kmeans.fit(x)\n",
        "    ls.append(kmeans.inertia_)\n",
        "plt.plot(range(1, 20), ls)\n",
        "plt.title('Elbow Method')\n",
        "plt.xlabel('Number of clusters')\n",
        "plt.ylabel('Within-cluster sum of squares')\n",
        "plt.show()"
      ],
      "metadata": {
        "colab": {
          "base_uri": "https://localhost:8080/",
          "height": 295
        },
        "id": "5WEHZdF3H778",
        "outputId": "0b33b9ec-36d0-40df-ba19-d0f8585916e5"
      },
      "execution_count": 35,
      "outputs": [
        {
          "output_type": "display_data",
          "data": {
            "text/plain": [
              "<Figure size 432x288 with 1 Axes>"
            ],
            "image/png": "[encoded data removed]"
          },
          "metadata": {
            "needs_background": "light"
          }
        }
      ]
    },
    {
      "cell_type": "code",
      "source": [
        "from gensim.corpora import Dictionary\n",
        "from gensim.models import LdaModel, LdaMulticore\n",
        "from gensim.utils import simple_preprocess\n",
        "from gensim.models.coherencemodel import CoherenceModel\n",
        "from gensim.utils import ClippedCorpus\n",
        "import matplotlib.pyplot as plt"
      ],
      "metadata": {
        "id": "6H7YeH_ZIFic"
      },
      "execution_count": 36,
      "outputs": []
    },
    {
      "cell_type": "code",
      "source": [
        "# tokenize the text data\n",
        "tokenized_text = [simple_preprocess(doc) for doc in docs]\n",
        "\n",
        "print(tokenized_text[:3])"
      ],
      "metadata": {
        "colab": {
          "base_uri": "https://localhost:8080/"
        },
        "id": "JNsFBxqDIISO",
        "outputId": "3967fbbf-334d-4a04-946b-7dd0a8e05c0a"
      },
      "execution_count": 101,
      "outputs": [
        {
          "output_type": "stream",
          "name": "stdout",
          "text": [
            "[['pesquisando', 'bastante', 'novo', 'comprar', 'resolver', 'aguardar', 'semana', 'cliente', 'porque', 'ocorrer', 'vários', 'desconto', 'promoção', 'em', 'esse', 'semana', 'ser', 'assim', 'recebi', 'desconto', 'cashback', 'cupom', 'varia', 'plataforma', 'assim', 'decidir', 'efetuar', 'compra', 'entender', 'melhor', 'custo', 'beneficio', 'ser', 'assim', 'setembro', 'recebi', 'oferta', 'produto', 'entendi', 'preço', 'além', 'cachback', 'efetuei', 'comprar', 'aguardei', 'semana', 'consumidor', 'efetuar', 'todo', 'expectativa', 'estavar', 'ancioso', 'estar', 'dentro', 'prazo', 'entregar', 'hoje', 'resolver', 'enviar', 'mensagem', 'perguntar', 'pedir', 'enviar', 'após', 'confirmação', 'comprar', 'pagamento', 'passado', 'dia', 'nenhum', 'retorno', 'complei', 'inclusive', 'site', 'confio', 'tambem', 'assinante', 'surpresa', 'após', 'pedir', 'informação', 'pedir', 'retorno', 'email', 'estar', 'ser', 'cancelar', 'ser', 'nenhum', 'justificativa', 'após', 'dia', 'realização', 'aguardei', 'chegar', 'periodo', 'compro', 'ansiosamente', 'aproveitar', 'desconto', 'produto', 'familia', 'aguardar', 'além', 'cancelar', 'compra', 'produto', 'justificativa', 'empresa', 'tirar', 'todo', 'oportunidade', 'desconto', 'efetuar', 'compra', 'semano', 'consumidor', 'levar', 'dia', 'cancelar', 'sinto', 'extremamente', 'empresa', 'sempre', 'acreditar', 'aguardo', 'satisfação', 'reparação', 'transtorno', 'sofrer', 'hoje', 'com', 'si', 'comprar', 'produto', 'valor', 'próximo'], ['sinceramente', 'decepcionar', 'entrar', 'contato', 'procon', 'hoje', 'informar', 'marcar', 'audiência', 'conciliação', 'porque', 'amozan', 'responder', 'solicitação', 'esclarecimento', 'procon', 'procon', 'importar', 'fazer', 'somente', 'querer', 'contar', 'produto', 'vender', 'estoque', 'cancelar', 'satisfação', 'algunhar', 'total', 'falta', 'respeito', 'consumidor', 'fazer', 'sair', 'criança', 'recém', 'nascir', 'desistir', 'direito', 'em', 'esse', 'audiência', 'assim'], ['cancelei', 'plano', 'antes', 'terminar', 'período', 'testir', 'grátis', 'pois', 'gostar', 'plataforma', 'segundo', 'cobr', 'fatura', 'dois', 'mês', 'assinar', 'contando', 'gratuito', 'caso', 'resolr', 'problema', 'ir', 'entrar', 'processo', 'contra', 'tentar', 'contato', 'onde', 'conversar', 'retornar', 'maisengraçar', 'contratar', 'poder', 'qualquer', 'pessoa', 'precisar', 'ficar', 'vir', 'reclamar', 'outro', 'local', 'respondar', 'agora', 'cancelar', 'nenhum', 'canal', 'atendimento', 'funcionar']]\n"
          ]
        }
      ]
    },
    {
      "cell_type": "code",
      "source": [
        "# tokenize the text data\n",
        "tokenized_text = [simple_preprocess(doc) for doc in docs]\n",
        "\n",
        "# create a corpus from a list of texts\n",
        "dictionary = Dictionary(tokenized_text)\n",
        "corpus = [dictionary.doc2bow(text) for text in tokenized_text]\n",
        "\n",
        "# create a gensim LdaModel\n",
        "lda = LdaMulticore(corpus=corpus, id2word=dictionary, num_topics=15)\n",
        "coherence_model = CoherenceModel(model=lda,\n",
        "                                 texts=tokenized_text, \n",
        "                                 corpus=corpus,\n",
        "                                 dictionary=dictionary, \n",
        "                                 coherence='c_v')\n",
        "coherence_model.get_coherence()"
      ],
      "metadata": {
        "colab": {
          "base_uri": "https://localhost:8080/"
        },
        "id": "9H2vbmeHILOg",
        "outputId": "81a9088c-cb08-44cb-a591-1099cc78f0da"
      },
      "execution_count": 105,
      "outputs": [
        {
          "output_type": "stream",
          "name": "stderr",
          "text": [
            "WARNING:gensim.models.ldamulticore:too few updates, training might not converge; consider increasing the number of passes or iterations to improve accuracy\n"
          ]
        },
        {
          "output_type": "execute_result",
          "data": {
            "text/plain": [
              "0.36861880932105906"
            ]
          },
          "metadata": {},
          "execution_count": 105
        }
      ]
    },
    {
      "cell_type": "code",
      "source": [
        "def get_topics_words():\n",
        "  x=lda.show_topics(num_words=10,formatted=False)\n",
        "  topics_words = [(tp[0], [wd[0] for wd in tp[1]]) for tp in x]\n",
        "  topics = []\n",
        "  words = []\n",
        "  #Below Code Prints Topics and Words\n",
        "  for t, w in topics_words:\n",
        "    topics.append(t)\n",
        "    words.append(w)\n",
        "  df_topics = pd.DataFrame({'topic': topics, 'words': words})\n",
        "  return df_topics\n"
      ],
      "metadata": {
        "colab": {
          "base_uri": "https://localhost:8080/",
          "height": 206
        },
        "id": "lRBnm80xJCvO",
        "outputId": "769164e6-c2d0-48c1-bf23-43053a00e870"
      },
      "execution_count": 142,
      "outputs": [
        {
          "output_type": "execute_result",
          "data": {
            "text/plain": [
              "   topic                                              words\n",
              "0      8  [pedir, contato, chegar, hering, informar, com...\n",
              "1     12  [entregar, contato, compra, receber, informar,...\n",
              "2      7  [compra, valor, comprar, pedir, site, produto,...\n",
              "3      0  [compra, pedir, entregar, contato, produto, em...\n",
              "4      4  [pedir, fazer, produto, contato, compra, site,..."
            ],
            "text/html": [
              "\n",
              "  <div id=\"df-2206af25-a8b5-4835-9c1f-2d2d70374f26\">\n",
              "    <div class=\"colab-df-container\">\n",
              "      <div>\n",
              "<style scoped>\n",
              "    .dataframe tbody tr th:only-of-type {\n",
              "        vertical-align: middle;\n",
              "    }\n",
              "\n",
              "    .dataframe tbody tr th {\n",
              "        vertical-align: top;\n",
              "    }\n",
              "\n",
              "    .dataframe thead th {\n",
              "        text-align: right;\n",
              "    }\n",
              "</style>\n",
              "<table border=\"1\" class=\"dataframe\">\n",
              "  <thead>\n",
              "    <tr style=\"text-align: right;\">\n",
              "      <th></th>\n",
              "      <th>topic</th>\n",
              "      <th>words</th>\n",
              "    </tr>\n",
              "  </thead>\n",
              "  <tbody>\n",
              "    <tr>\n",
              "      <th>0</th>\n",
              "      <td>8</td>\n",
              "      <td>[pedir, contato, chegar, hering, informar, com...</td>\n",
              "    </tr>\n",
              "    <tr>\n",
              "      <th>1</th>\n",
              "      <td>12</td>\n",
              "      <td>[entregar, contato, compra, receber, informar,...</td>\n",
              "    </tr>\n",
              "    <tr>\n",
              "      <th>2</th>\n",
              "      <td>7</td>\n",
              "      <td>[compra, valor, comprar, pedir, site, produto,...</td>\n",
              "    </tr>\n",
              "    <tr>\n",
              "      <th>3</th>\n",
              "      <td>0</td>\n",
              "      <td>[compra, pedir, entregar, contato, produto, em...</td>\n",
              "    </tr>\n",
              "    <tr>\n",
              "      <th>4</th>\n",
              "      <td>4</td>\n",
              "      <td>[pedir, fazer, produto, contato, compra, site,...</td>\n",
              "    </tr>\n",
              "  </tbody>\n",
              "</table>\n",
              "</div>\n",
              "      <button class=\"colab-df-convert\" onclick=\"convertToInteractive('df-2206af25-a8b5-4835-9c1f-2d2d70374f26')\"\n",
              "              title=\"Convert this dataframe to an interactive table.\"\n",
              "              style=\"display:none;\">\n",
              "        \n",
              "  <svg xmlns=\"http://www.w3.org/2000/svg\" height=\"24px\"viewBox=\"0 0 24 24\"\n",
              "       width=\"24px\">\n",
              "    <path d=\"M0 0h24v24H0V0z\" fill=\"none\"/>\n",
              "    <path d=\"M18.56 5.44l.94 2.06.94-2.06 2.06-.94-2.06-.94-.94-2.06-.94 2.06-2.06.94zm-11 1L8.5 8.5l.94-2.06 2.06-.94-2.06-.94L8.5 2.5l-.94 2.06-2.06.94zm10 10l.94 2.06.94-2.06 2.06-.94-2.06-.94-.94-2.06-.94 2.06-2.06.94z\"/><path d=\"M17.41 7.96l-1.37-1.37c-.4-.4-.92-.59-1.43-.59-.52 0-1.04.2-1.43.59L10.3 9.45l-7.72 7.72c-.78.78-.78 2.05 0 2.83L4 21.41c.39.39.9.59 1.41.59.51 0 1.02-.2 1.41-.59l7.78-7.78 2.81-2.81c.8-.78.8-2.07 0-2.86zM5.41 20L4 18.59l7.72-7.72 1.47 1.35L5.41 20z\"/>\n",
              "  </svg>\n",
              "      </button>\n",
              "      \n",
              "  <style>\n",
              "    .colab-df-container {\n",
              "      display:flex;\n",
              "      flex-wrap:wrap;\n",
              "      gap: 12px;\n",
              "    }\n",
              "\n",
              "    .colab-df-convert {\n",
              "      background-color: #E8F0FE;\n",
              "      border: none;\n",
              "      border-radius: 50%;\n",
              "      cursor: pointer;\n",
              "      display: none;\n",
              "      fill: #1967D2;\n",
              "      height: 32px;\n",
              "      padding: 0 0 0 0;\n",
              "      width: 32px;\n",
              "    }\n",
              "\n",
              "    .colab-df-convert:hover {\n",
              "      background-color: #E2EBFA;\n",
              "      box-shadow: 0px 1px 2px rgba(60, 64, 67, 0.3), 0px 1px 3px 1px rgba(60, 64, 67, 0.15);\n",
              "      fill: #174EA6;\n",
              "    }\n",
              "\n",
              "    [theme=dark] .colab-df-convert {\n",
              "      background-color: #3B4455;\n",
              "      fill: #D2E3FC;\n",
              "    }\n",
              "\n",
              "    [theme=dark] .colab-df-convert:hover {\n",
              "      background-color: #434B5C;\n",
              "      box-shadow: 0px 1px 3px 1px rgba(0, 0, 0, 0.15);\n",
              "      filter: drop-shadow(0px 1px 2px rgba(0, 0, 0, 0.3));\n",
              "      fill: #FFFFFF;\n",
              "    }\n",
              "  </style>\n",
              "\n",
              "      <script>\n",
              "        const buttonEl =\n",
              "          document.querySelector('#df-2206af25-a8b5-4835-9c1f-2d2d70374f26 button.colab-df-convert');\n",
              "        buttonEl.style.display =\n",
              "          google.colab.kernel.accessAllowed ? 'block' : 'none';\n",
              "\n",
              "        async function convertToInteractive(key) {\n",
              "          const element = document.querySelector('#df-2206af25-a8b5-4835-9c1f-2d2d70374f26');\n",
              "          const dataTable =\n",
              "            await google.colab.kernel.invokeFunction('convertToInteractive',\n",
              "                                                     [key], {});\n",
              "          if (!dataTable) return;\n",
              "\n",
              "          const docLinkHtml = 'Like what you see? Visit the ' +\n",
              "            '<a target=\"_blank\" href=https://colab.research.google.com/notebooks/data_table.ipynb>data table notebook</a>'\n",
              "            + ' to learn more about interactive tables.';\n",
              "          element.innerHTML = '';\n",
              "          dataTable['output_type'] = 'display_data';\n",
              "          await google.colab.output.renderOutput(dataTable, element);\n",
              "          const docLink = document.createElement('div');\n",
              "          docLink.innerHTML = docLinkHtml;\n",
              "          element.appendChild(docLink);\n",
              "        }\n",
              "      </script>\n",
              "    </div>\n",
              "  </div>\n",
              "  "
            ]
          },
          "metadata": {},
          "execution_count": 142
        }
      ]
    },
    {
      "cell_type": "code",
      "source": [
        "print(f\"{lda.print_topics()[0][0]}    {lda.print_topics()[0][1]}\")"
      ],
      "metadata": {
        "colab": {
          "base_uri": "https://localhost:8080/"
        },
        "id": "nwf3B7jTHP-1",
        "outputId": "a0f7dc0f-5602-47c9-fa0d-2c9fca56c3f3"
      },
      "execution_count": 127,
      "outputs": [
        {
          "output_type": "stream",
          "name": "stdout",
          "text": [
            "0    0.029*\"compra\" + 0.020*\"pedir\" + 0.018*\"entregar\" + 0.014*\"contato\" + 0.012*\"produto\" + 0.011*\"empresa\" + 0.011*\"entrar\" + 0.008*\"dizer\" + 0.008*\"chegar\" + 0.008*\"pois\"\n"
          ]
        }
      ]
    },
    {
      "cell_type": "code",
      "source": [
        "print(topics)"
      ],
      "metadata": {
        "colab": {
          "base_uri": "https://localhost:8080/"
        },
        "id": "PGrH5RCacptg",
        "outputId": "7c24fcc4-f6bf-41b6-a204-fc239d4196db"
      },
      "execution_count": 89,
      "outputs": [
        {
          "output_type": "stream",
          "name": "stdout",
          "text": [
            "[['human', 'computer', 'system', 'interface'], ['graph', 'minors', 'trees', 'eps']]\n"
          ]
        }
      ]
    },
    {
      "cell_type": "code",
      "source": [
        "for topic_id, topic in enumerate(topics):\n",
        "  topic_words = [dictionary[word_id] for word_id, prob in lda.get_topic_terms(topic_id, topn=5)]\n",
        "topic_words"
      ],
      "metadata": {
        "colab": {
          "base_uri": "https://localhost:8080/"
        },
        "id": "aBBxJmaccUne",
        "outputId": "bfa606ce-b619-40eb-e2d8-5243daf1ab49"
      },
      "execution_count": 90,
      "outputs": [
        {
          "output_type": "execute_result",
          "data": {
            "text/plain": [
              "['compra', 'receber', 'entregar', 'pedir', 'mercadoria']"
            ]
          },
          "metadata": {},
          "execution_count": 90
        }
      ]
    }
  ]
}