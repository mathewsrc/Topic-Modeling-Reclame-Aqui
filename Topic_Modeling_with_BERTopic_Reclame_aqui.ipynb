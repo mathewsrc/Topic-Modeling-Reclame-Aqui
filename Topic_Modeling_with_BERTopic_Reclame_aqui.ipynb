{
  "nbformat": 4,
  "nbformat_minor": 0,
  "metadata": {
    "colab": {
      "provenance": [],
      "include_colab_link": true
    },
    "kernelspec": {
      "name": "python3",
      "display_name": "Python 3"
    },
    "language_info": {
      "name": "python"
    },
    "gpuClass": "standard",
    "widgets": {
      "application/vnd.jupyter.widget-state+json": {
        "c5724d00a171484984ec7dff570f1e09": {
          "model_module": "@jupyter-widgets/controls",
          "model_name": "HBoxModel",
          "model_module_version": "1.5.0",
          "state": {
            "_dom_classes": [],
            "_model_module": "@jupyter-widgets/controls",
            "_model_module_version": "1.5.0",
            "_model_name": "HBoxModel",
            "_view_count": null,
            "_view_module": "@jupyter-widgets/controls",
            "_view_module_version": "1.5.0",
            "_view_name": "HBoxView",
            "box_style": "",
            "children": [
              "IPY_MODEL_2f3df96eefd245e5b1d4f480d6506d27",
              "IPY_MODEL_0f9bc76cca79484f9805b6182cbbc129",
              "IPY_MODEL_21c4ed129ae34974ae056b52792a7fff"
            ],
            "layout": "IPY_MODEL_0944bb33aa084e52baa3aa12ad07cc77"
          }
        },
        "2f3df96eefd245e5b1d4f480d6506d27": {
          "model_module": "@jupyter-widgets/controls",
          "model_name": "HTMLModel",
          "model_module_version": "1.5.0",
          "state": {
            "_dom_classes": [],
            "_model_module": "@jupyter-widgets/controls",
            "_model_module_version": "1.5.0",
            "_model_name": "HTMLModel",
            "_view_count": null,
            "_view_module": "@jupyter-widgets/controls",
            "_view_module_version": "1.5.0",
            "_view_name": "HTMLView",
            "description": "",
            "description_tooltip": null,
            "layout": "IPY_MODEL_0a6e17afb52e46aaa86eca7b2d1fa742",
            "placeholder": "​",
            "style": "IPY_MODEL_7fb4b0dd43ef4a20a76ea0db1f8f0583",
            "value": "Downloading: 100%"
          }
        },
        "0f9bc76cca79484f9805b6182cbbc129": {
          "model_module": "@jupyter-widgets/controls",
          "model_name": "FloatProgressModel",
          "model_module_version": "1.5.0",
          "state": {
            "_dom_classes": [],
            "_model_module": "@jupyter-widgets/controls",
            "_model_module_version": "1.5.0",
            "_model_name": "FloatProgressModel",
            "_view_count": null,
            "_view_module": "@jupyter-widgets/controls",
            "_view_module_version": "1.5.0",
            "_view_name": "ProgressView",
            "bar_style": "success",
            "description": "",
            "description_tooltip": null,
            "layout": "IPY_MODEL_52f70fcb0b494d9092d4da008dad6f61",
            "max": 968,
            "min": 0,
            "orientation": "horizontal",
            "style": "IPY_MODEL_eb5c3160c0aa4056a6cbbf34852b7223",
            "value": 968
          }
        },
        "21c4ed129ae34974ae056b52792a7fff": {
          "model_module": "@jupyter-widgets/controls",
          "model_name": "HTMLModel",
          "model_module_version": "1.5.0",
          "state": {
            "_dom_classes": [],
            "_model_module": "@jupyter-widgets/controls",
            "_model_module_version": "1.5.0",
            "_model_name": "HTMLModel",
            "_view_count": null,
            "_view_module": "@jupyter-widgets/controls",
            "_view_module_version": "1.5.0",
            "_view_name": "HTMLView",
            "description": "",
            "description_tooltip": null,
            "layout": "IPY_MODEL_e00fcfeda0dd41379f2b270994f94746",
            "placeholder": "​",
            "style": "IPY_MODEL_e8bb3a00d0364ea2b3bc64ad1112eefb",
            "value": " 968/968 [00:00&lt;00:00, 58.0kB/s]"
          }
        },
        "0944bb33aa084e52baa3aa12ad07cc77": {
          "model_module": "@jupyter-widgets/base",
          "model_name": "LayoutModel",
          "model_module_version": "1.2.0",
          "state": {
            "_model_module": "@jupyter-widgets/base",
            "_model_module_version": "1.2.0",
            "_model_name": "LayoutModel",
            "_view_count": null,
            "_view_module": "@jupyter-widgets/base",
            "_view_module_version": "1.2.0",
            "_view_name": "LayoutView",
            "align_content": null,
            "align_items": null,
            "align_self": null,
            "border": null,
            "bottom": null,
            "display": null,
            "flex": null,
            "flex_flow": null,
            "grid_area": null,
            "grid_auto_columns": null,
            "grid_auto_flow": null,
            "grid_auto_rows": null,
            "grid_column": null,
            "grid_gap": null,
            "grid_row": null,
            "grid_template_areas": null,
            "grid_template_columns": null,
            "grid_template_rows": null,
            "height": null,
            "justify_content": null,
            "justify_items": null,
            "left": null,
            "margin": null,
            "max_height": null,
            "max_width": null,
            "min_height": null,
            "min_width": null,
            "object_fit": null,
            "object_position": null,
            "order": null,
            "overflow": null,
            "overflow_x": null,
            "overflow_y": null,
            "padding": null,
            "right": null,
            "top": null,
            "visibility": null,
            "width": null
          }
        },
        "0a6e17afb52e46aaa86eca7b2d1fa742": {
          "model_module": "@jupyter-widgets/base",
          "model_name": "LayoutModel",
          "model_module_version": "1.2.0",
          "state": {
            "_model_module": "@jupyter-widgets/base",
            "_model_module_version": "1.2.0",
            "_model_name": "LayoutModel",
            "_view_count": null,
            "_view_module": "@jupyter-widgets/base",
            "_view_module_version": "1.2.0",
            "_view_name": "LayoutView",
            "align_content": null,
            "align_items": null,
            "align_self": null,
            "border": null,
            "bottom": null,
            "display": null,
            "flex": null,
            "flex_flow": null,
            "grid_area": null,
            "grid_auto_columns": null,
            "grid_auto_flow": null,
            "grid_auto_rows": null,
            "grid_column": null,
            "grid_gap": null,
            "grid_row": null,
            "grid_template_areas": null,
            "grid_template_columns": null,
            "grid_template_rows": null,
            "height": null,
            "justify_content": null,
            "justify_items": null,
            "left": null,
            "margin": null,
            "max_height": null,
            "max_width": null,
            "min_height": null,
            "min_width": null,
            "object_fit": null,
            "object_position": null,
            "order": null,
            "overflow": null,
            "overflow_x": null,
            "overflow_y": null,
            "padding": null,
            "right": null,
            "top": null,
            "visibility": null,
            "width": null
          }
        },
        "7fb4b0dd43ef4a20a76ea0db1f8f0583": {
          "model_module": "@jupyter-widgets/controls",
          "model_name": "DescriptionStyleModel",
          "model_module_version": "1.5.0",
          "state": {
            "_model_module": "@jupyter-widgets/controls",
            "_model_module_version": "1.5.0",
            "_model_name": "DescriptionStyleModel",
            "_view_count": null,
            "_view_module": "@jupyter-widgets/base",
            "_view_module_version": "1.2.0",
            "_view_name": "StyleView",
            "description_width": ""
          }
        },
        "52f70fcb0b494d9092d4da008dad6f61": {
          "model_module": "@jupyter-widgets/base",
          "model_name": "LayoutModel",
          "model_module_version": "1.2.0",
          "state": {
            "_model_module": "@jupyter-widgets/base",
            "_model_module_version": "1.2.0",
            "_model_name": "LayoutModel",
            "_view_count": null,
            "_view_module": "@jupyter-widgets/base",
            "_view_module_version": "1.2.0",
            "_view_name": "LayoutView",
            "align_content": null,
            "align_items": null,
            "align_self": null,
            "border": null,
            "bottom": null,
            "display": null,
            "flex": null,
            "flex_flow": null,
            "grid_area": null,
            "grid_auto_columns": null,
            "grid_auto_flow": null,
            "grid_auto_rows": null,
            "grid_column": null,
            "grid_gap": null,
            "grid_row": null,
            "grid_template_areas": null,
            "grid_template_columns": null,
            "grid_template_rows": null,
            "height": null,
            "justify_content": null,
            "justify_items": null,
            "left": null,
            "margin": null,
            "max_height": null,
            "max_width": null,
            "min_height": null,
            "min_width": null,
            "object_fit": null,
            "object_position": null,
            "order": null,
            "overflow": null,
            "overflow_x": null,
            "overflow_y": null,
            "padding": null,
            "right": null,
            "top": null,
            "visibility": null,
            "width": null
          }
        },
        "eb5c3160c0aa4056a6cbbf34852b7223": {
          "model_module": "@jupyter-widgets/controls",
          "model_name": "ProgressStyleModel",
          "model_module_version": "1.5.0",
          "state": {
            "_model_module": "@jupyter-widgets/controls",
            "_model_module_version": "1.5.0",
            "_model_name": "ProgressStyleModel",
            "_view_count": null,
            "_view_module": "@jupyter-widgets/base",
            "_view_module_version": "1.2.0",
            "_view_name": "StyleView",
            "bar_color": null,
            "description_width": ""
          }
        },
        "e00fcfeda0dd41379f2b270994f94746": {
          "model_module": "@jupyter-widgets/base",
          "model_name": "LayoutModel",
          "model_module_version": "1.2.0",
          "state": {
            "_model_module": "@jupyter-widgets/base",
            "_model_module_version": "1.2.0",
            "_model_name": "LayoutModel",
            "_view_count": null,
            "_view_module": "@jupyter-widgets/base",
            "_view_module_version": "1.2.0",
            "_view_name": "LayoutView",
            "align_content": null,
            "align_items": null,
            "align_self": null,
            "border": null,
            "bottom": null,
            "display": null,
            "flex": null,
            "flex_flow": null,
            "grid_area": null,
            "grid_auto_columns": null,
            "grid_auto_flow": null,
            "grid_auto_rows": null,
            "grid_column": null,
            "grid_gap": null,
            "grid_row": null,
            "grid_template_areas": null,
            "grid_template_columns": null,
            "grid_template_rows": null,
            "height": null,
            "justify_content": null,
            "justify_items": null,
            "left": null,
            "margin": null,
            "max_height": null,
            "max_width": null,
            "min_height": null,
            "min_width": null,
            "object_fit": null,
            "object_position": null,
            "order": null,
            "overflow": null,
            "overflow_x": null,
            "overflow_y": null,
            "padding": null,
            "right": null,
            "top": null,
            "visibility": null,
            "width": null
          }
        },
        "e8bb3a00d0364ea2b3bc64ad1112eefb": {
          "model_module": "@jupyter-widgets/controls",
          "model_name": "DescriptionStyleModel",
          "model_module_version": "1.5.0",
          "state": {
            "_model_module": "@jupyter-widgets/controls",
            "_model_module_version": "1.5.0",
            "_model_name": "DescriptionStyleModel",
            "_view_count": null,
            "_view_module": "@jupyter-widgets/base",
            "_view_module_version": "1.2.0",
            "_view_name": "StyleView",
            "description_width": ""
          }
        },
        "04332299a72d45f4bf633cca7664dae2": {
          "model_module": "@jupyter-widgets/controls",
          "model_name": "HBoxModel",
          "model_module_version": "1.5.0",
          "state": {
            "_dom_classes": [],
            "_model_module": "@jupyter-widgets/controls",
            "_model_module_version": "1.5.0",
            "_model_name": "HBoxModel",
            "_view_count": null,
            "_view_module": "@jupyter-widgets/controls",
            "_view_module_version": "1.5.0",
            "_view_name": "HBoxView",
            "box_style": "",
            "children": [
              "IPY_MODEL_1018fab7b3104296ae5512a3997aa4e3",
              "IPY_MODEL_253a0b1d6138454592c55cac9d3ce01c",
              "IPY_MODEL_97ba966d9ceb43f6840acb50b8457db1"
            ],
            "layout": "IPY_MODEL_04e17e56ffcb46d9a5fa883243191d10"
          }
        },
        "1018fab7b3104296ae5512a3997aa4e3": {
          "model_module": "@jupyter-widgets/controls",
          "model_name": "HTMLModel",
          "model_module_version": "1.5.0",
          "state": {
            "_dom_classes": [],
            "_model_module": "@jupyter-widgets/controls",
            "_model_module_version": "1.5.0",
            "_model_name": "HTMLModel",
            "_view_count": null,
            "_view_module": "@jupyter-widgets/controls",
            "_view_module_version": "1.5.0",
            "_view_name": "HTMLView",
            "description": "",
            "description_tooltip": null,
            "layout": "IPY_MODEL_f01c83ba9e7b41eca683cd46b635d827",
            "placeholder": "​",
            "style": "IPY_MODEL_7adf573a01b44541a8a8a60f70789707",
            "value": "Downloading: 100%"
          }
        },
        "253a0b1d6138454592c55cac9d3ce01c": {
          "model_module": "@jupyter-widgets/controls",
          "model_name": "FloatProgressModel",
          "model_module_version": "1.5.0",
          "state": {
            "_dom_classes": [],
            "_model_module": "@jupyter-widgets/controls",
            "_model_module_version": "1.5.0",
            "_model_name": "FloatProgressModel",
            "_view_count": null,
            "_view_module": "@jupyter-widgets/controls",
            "_view_module_version": "1.5.0",
            "_view_name": "ProgressView",
            "bar_style": "success",
            "description": "",
            "description_tooltip": null,
            "layout": "IPY_MODEL_640f79ec57ad4c2396d50960b13df2a5",
            "max": 190,
            "min": 0,
            "orientation": "horizontal",
            "style": "IPY_MODEL_5a9c4196eefd4a17b0cda001fcb95b43",
            "value": 190
          }
        },
        "97ba966d9ceb43f6840acb50b8457db1": {
          "model_module": "@jupyter-widgets/controls",
          "model_name": "HTMLModel",
          "model_module_version": "1.5.0",
          "state": {
            "_dom_classes": [],
            "_model_module": "@jupyter-widgets/controls",
            "_model_module_version": "1.5.0",
            "_model_name": "HTMLModel",
            "_view_count": null,
            "_view_module": "@jupyter-widgets/controls",
            "_view_module_version": "1.5.0",
            "_view_name": "HTMLView",
            "description": "",
            "description_tooltip": null,
            "layout": "IPY_MODEL_b0d90f6ed8594cedad60bbc80be4b2bd",
            "placeholder": "​",
            "style": "IPY_MODEL_32177e3862b2496aa0675e06dda4b24d",
            "value": " 190/190 [00:00&lt;00:00, 12.2kB/s]"
          }
        },
        "04e17e56ffcb46d9a5fa883243191d10": {
          "model_module": "@jupyter-widgets/base",
          "model_name": "LayoutModel",
          "model_module_version": "1.2.0",
          "state": {
            "_model_module": "@jupyter-widgets/base",
            "_model_module_version": "1.2.0",
            "_model_name": "LayoutModel",
            "_view_count": null,
            "_view_module": "@jupyter-widgets/base",
            "_view_module_version": "1.2.0",
            "_view_name": "LayoutView",
            "align_content": null,
            "align_items": null,
            "align_self": null,
            "border": null,
            "bottom": null,
            "display": null,
            "flex": null,
            "flex_flow": null,
            "grid_area": null,
            "grid_auto_columns": null,
            "grid_auto_flow": null,
            "grid_auto_rows": null,
            "grid_column": null,
            "grid_gap": null,
            "grid_row": null,
            "grid_template_areas": null,
            "grid_template_columns": null,
            "grid_template_rows": null,
            "height": null,
            "justify_content": null,
            "justify_items": null,
            "left": null,
            "margin": null,
            "max_height": null,
            "max_width": null,
            "min_height": null,
            "min_width": null,
            "object_fit": null,
            "object_position": null,
            "order": null,
            "overflow": null,
            "overflow_x": null,
            "overflow_y": null,
            "padding": null,
            "right": null,
            "top": null,
            "visibility": null,
            "width": null
          }
        },
        "f01c83ba9e7b41eca683cd46b635d827": {
          "model_module": "@jupyter-widgets/base",
          "model_name": "LayoutModel",
          "model_module_version": "1.2.0",
          "state": {
            "_model_module": "@jupyter-widgets/base",
            "_model_module_version": "1.2.0",
            "_model_name": "LayoutModel",
            "_view_count": null,
            "_view_module": "@jupyter-widgets/base",
            "_view_module_version": "1.2.0",
            "_view_name": "LayoutView",
            "align_content": null,
            "align_items": null,
            "align_self": null,
            "border": null,
            "bottom": null,
            "display": null,
            "flex": null,
            "flex_flow": null,
            "grid_area": null,
            "grid_auto_columns": null,
            "grid_auto_flow": null,
            "grid_auto_rows": null,
            "grid_column": null,
            "grid_gap": null,
            "grid_row": null,
            "grid_template_areas": null,
            "grid_template_columns": null,
            "grid_template_rows": null,
            "height": null,
            "justify_content": null,
            "justify_items": null,
            "left": null,
            "margin": null,
            "max_height": null,
            "max_width": null,
            "min_height": null,
            "min_width": null,
            "object_fit": null,
            "object_position": null,
            "order": null,
            "overflow": null,
            "overflow_x": null,
            "overflow_y": null,
            "padding": null,
            "right": null,
            "top": null,
            "visibility": null,
            "width": null
          }
        },
        "7adf573a01b44541a8a8a60f70789707": {
          "model_module": "@jupyter-widgets/controls",
          "model_name": "DescriptionStyleModel",
          "model_module_version": "1.5.0",
          "state": {
            "_model_module": "@jupyter-widgets/controls",
            "_model_module_version": "1.5.0",
            "_model_name": "DescriptionStyleModel",
            "_view_count": null,
            "_view_module": "@jupyter-widgets/base",
            "_view_module_version": "1.2.0",
            "_view_name": "StyleView",
            "description_width": ""
          }
        },
        "640f79ec57ad4c2396d50960b13df2a5": {
          "model_module": "@jupyter-widgets/base",
          "model_name": "LayoutModel",
          "model_module_version": "1.2.0",
          "state": {
            "_model_module": "@jupyter-widgets/base",
            "_model_module_version": "1.2.0",
            "_model_name": "LayoutModel",
            "_view_count": null,
            "_view_module": "@jupyter-widgets/base",
            "_view_module_version": "1.2.0",
            "_view_name": "LayoutView",
            "align_content": null,
            "align_items": null,
            "align_self": null,
            "border": null,
            "bottom": null,
            "display": null,
            "flex": null,
            "flex_flow": null,
            "grid_area": null,
            "grid_auto_columns": null,
            "grid_auto_flow": null,
            "grid_auto_rows": null,
            "grid_column": null,
            "grid_gap": null,
            "grid_row": null,
            "grid_template_areas": null,
            "grid_template_columns": null,
            "grid_template_rows": null,
            "height": null,
            "justify_content": null,
            "justify_items": null,
            "left": null,
            "margin": null,
            "max_height": null,
            "max_width": null,
            "min_height": null,
            "min_width": null,
            "object_fit": null,
            "object_position": null,
            "order": null,
            "overflow": null,
            "overflow_x": null,
            "overflow_y": null,
            "padding": null,
            "right": null,
            "top": null,
            "visibility": null,
            "width": null
          }
        },
        "5a9c4196eefd4a17b0cda001fcb95b43": {
          "model_module": "@jupyter-widgets/controls",
          "model_name": "ProgressStyleModel",
          "model_module_version": "1.5.0",
          "state": {
            "_model_module": "@jupyter-widgets/controls",
            "_model_module_version": "1.5.0",
            "_model_name": "ProgressStyleModel",
            "_view_count": null,
            "_view_module": "@jupyter-widgets/base",
            "_view_module_version": "1.2.0",
            "_view_name": "StyleView",
            "bar_color": null,
            "description_width": ""
          }
        },
        "b0d90f6ed8594cedad60bbc80be4b2bd": {
          "model_module": "@jupyter-widgets/base",
          "model_name": "LayoutModel",
          "model_module_version": "1.2.0",
          "state": {
            "_model_module": "@jupyter-widgets/base",
            "_model_module_version": "1.2.0",
            "_model_name": "LayoutModel",
            "_view_count": null,
            "_view_module": "@jupyter-widgets/base",
            "_view_module_version": "1.2.0",
            "_view_name": "LayoutView",
            "align_content": null,
            "align_items": null,
            "align_self": null,
            "border": null,
            "bottom": null,
            "display": null,
            "flex": null,
            "flex_flow": null,
            "grid_area": null,
            "grid_auto_columns": null,
            "grid_auto_flow": null,
            "grid_auto_rows": null,
            "grid_column": null,
            "grid_gap": null,
            "grid_row": null,
            "grid_template_areas": null,
            "grid_template_columns": null,
            "grid_template_rows": null,
            "height": null,
            "justify_content": null,
            "justify_items": null,
            "left": null,
            "margin": null,
            "max_height": null,
            "max_width": null,
            "min_height": null,
            "min_width": null,
            "object_fit": null,
            "object_position": null,
            "order": null,
            "overflow": null,
            "overflow_x": null,
            "overflow_y": null,
            "padding": null,
            "right": null,
            "top": null,
            "visibility": null,
            "width": null
          }
        },
        "32177e3862b2496aa0675e06dda4b24d": {
          "model_module": "@jupyter-widgets/controls",
          "model_name": "DescriptionStyleModel",
          "model_module_version": "1.5.0",
          "state": {
            "_model_module": "@jupyter-widgets/controls",
            "_model_module_version": "1.5.0",
            "_model_name": "DescriptionStyleModel",
            "_view_count": null,
            "_view_module": "@jupyter-widgets/base",
            "_view_module_version": "1.2.0",
            "_view_name": "StyleView",
            "description_width": ""
          }
        },
        "a0589c0896d6451e80cf325aef8846d1": {
          "model_module": "@jupyter-widgets/controls",
          "model_name": "HBoxModel",
          "model_module_version": "1.5.0",
          "state": {
            "_dom_classes": [],
            "_model_module": "@jupyter-widgets/controls",
            "_model_module_version": "1.5.0",
            "_model_name": "HBoxModel",
            "_view_count": null,
            "_view_module": "@jupyter-widgets/controls",
            "_view_module_version": "1.5.0",
            "_view_name": "HBoxView",
            "box_style": "",
            "children": [
              "IPY_MODEL_6afdf47cb8394b45afc2facb15397ebc",
              "IPY_MODEL_70908a9c1e704f808eb21e7c4555a541",
              "IPY_MODEL_e272334b04484ea29c0b06c8d62ea42e"
            ],
            "layout": "IPY_MODEL_0892bb5520364f8ea49e8be40910b915"
          }
        },
        "6afdf47cb8394b45afc2facb15397ebc": {
          "model_module": "@jupyter-widgets/controls",
          "model_name": "HTMLModel",
          "model_module_version": "1.5.0",
          "state": {
            "_dom_classes": [],
            "_model_module": "@jupyter-widgets/controls",
            "_model_module_version": "1.5.0",
            "_model_name": "HTMLModel",
            "_view_count": null,
            "_view_module": "@jupyter-widgets/controls",
            "_view_module_version": "1.5.0",
            "_view_name": "HTMLView",
            "description": "",
            "description_tooltip": null,
            "layout": "IPY_MODEL_2383ce7e25ca4b7a96f2759c08eed0c0",
            "placeholder": "​",
            "style": "IPY_MODEL_0d8936424d764ece89e896cc1ffed03a",
            "value": "Downloading: 100%"
          }
        },
        "70908a9c1e704f808eb21e7c4555a541": {
          "model_module": "@jupyter-widgets/controls",
          "model_name": "FloatProgressModel",
          "model_module_version": "1.5.0",
          "state": {
            "_dom_classes": [],
            "_model_module": "@jupyter-widgets/controls",
            "_model_module_version": "1.5.0",
            "_model_name": "FloatProgressModel",
            "_view_count": null,
            "_view_module": "@jupyter-widgets/controls",
            "_view_module_version": "1.5.0",
            "_view_name": "ProgressView",
            "bar_style": "success",
            "description": "",
            "description_tooltip": null,
            "layout": "IPY_MODEL_ea016b524c384648b2592b4c0161a4ae",
            "max": 3786,
            "min": 0,
            "orientation": "horizontal",
            "style": "IPY_MODEL_c68da15facb14c05a0ef98e0f19feba9",
            "value": 3786
          }
        },
        "e272334b04484ea29c0b06c8d62ea42e": {
          "model_module": "@jupyter-widgets/controls",
          "model_name": "HTMLModel",
          "model_module_version": "1.5.0",
          "state": {
            "_dom_classes": [],
            "_model_module": "@jupyter-widgets/controls",
            "_model_module_version": "1.5.0",
            "_model_name": "HTMLModel",
            "_view_count": null,
            "_view_module": "@jupyter-widgets/controls",
            "_view_module_version": "1.5.0",
            "_view_name": "HTMLView",
            "description": "",
            "description_tooltip": null,
            "layout": "IPY_MODEL_0b3efd70d775456a9089b7046d843199",
            "placeholder": "​",
            "style": "IPY_MODEL_2a53c67d8bf34cc9a5a750da7d5614f5",
            "value": " 3.79k/3.79k [00:00&lt;00:00, 219kB/s]"
          }
        },
        "0892bb5520364f8ea49e8be40910b915": {
          "model_module": "@jupyter-widgets/base",
          "model_name": "LayoutModel",
          "model_module_version": "1.2.0",
          "state": {
            "_model_module": "@jupyter-widgets/base",
            "_model_module_version": "1.2.0",
            "_model_name": "LayoutModel",
            "_view_count": null,
            "_view_module": "@jupyter-widgets/base",
            "_view_module_version": "1.2.0",
            "_view_name": "LayoutView",
            "align_content": null,
            "align_items": null,
            "align_self": null,
            "border": null,
            "bottom": null,
            "display": null,
            "flex": null,
            "flex_flow": null,
            "grid_area": null,
            "grid_auto_columns": null,
            "grid_auto_flow": null,
            "grid_auto_rows": null,
            "grid_column": null,
            "grid_gap": null,
            "grid_row": null,
            "grid_template_areas": null,
            "grid_template_columns": null,
            "grid_template_rows": null,
            "height": null,
            "justify_content": null,
            "justify_items": null,
            "left": null,
            "margin": null,
            "max_height": null,
            "max_width": null,
            "min_height": null,
            "min_width": null,
            "object_fit": null,
            "object_position": null,
            "order": null,
            "overflow": null,
            "overflow_x": null,
            "overflow_y": null,
            "padding": null,
            "right": null,
            "top": null,
            "visibility": null,
            "width": null
          }
        },
        "2383ce7e25ca4b7a96f2759c08eed0c0": {
          "model_module": "@jupyter-widgets/base",
          "model_name": "LayoutModel",
          "model_module_version": "1.2.0",
          "state": {
            "_model_module": "@jupyter-widgets/base",
            "_model_module_version": "1.2.0",
            "_model_name": "LayoutModel",
            "_view_count": null,
            "_view_module": "@jupyter-widgets/base",
            "_view_module_version": "1.2.0",
            "_view_name": "LayoutView",
            "align_content": null,
            "align_items": null,
            "align_self": null,
            "border": null,
            "bottom": null,
            "display": null,
            "flex": null,
            "flex_flow": null,
            "grid_area": null,
            "grid_auto_columns": null,
            "grid_auto_flow": null,
            "grid_auto_rows": null,
            "grid_column": null,
            "grid_gap": null,
            "grid_row": null,
            "grid_template_areas": null,
            "grid_template_columns": null,
            "grid_template_rows": null,
            "height": null,
            "justify_content": null,
            "justify_items": null,
            "left": null,
            "margin": null,
            "max_height": null,
            "max_width": null,
            "min_height": null,
            "min_width": null,
            "object_fit": null,
            "object_position": null,
            "order": null,
            "overflow": null,
            "overflow_x": null,
            "overflow_y": null,
            "padding": null,
            "right": null,
            "top": null,
            "visibility": null,
            "width": null
          }
        },
        "0d8936424d764ece89e896cc1ffed03a": {
          "model_module": "@jupyter-widgets/controls",
          "model_name": "DescriptionStyleModel",
          "model_module_version": "1.5.0",
          "state": {
            "_model_module": "@jupyter-widgets/controls",
            "_model_module_version": "1.5.0",
            "_model_name": "DescriptionStyleModel",
            "_view_count": null,
            "_view_module": "@jupyter-widgets/base",
            "_view_module_version": "1.2.0",
            "_view_name": "StyleView",
            "description_width": ""
          }
        },
        "ea016b524c384648b2592b4c0161a4ae": {
          "model_module": "@jupyter-widgets/base",
          "model_name": "LayoutModel",
          "model_module_version": "1.2.0",
          "state": {
            "_model_module": "@jupyter-widgets/base",
            "_model_module_version": "1.2.0",
            "_model_name": "LayoutModel",
            "_view_count": null,
            "_view_module": "@jupyter-widgets/base",
            "_view_module_version": "1.2.0",
            "_view_name": "LayoutView",
            "align_content": null,
            "align_items": null,
            "align_self": null,
            "border": null,
            "bottom": null,
            "display": null,
            "flex": null,
            "flex_flow": null,
            "grid_area": null,
            "grid_auto_columns": null,
            "grid_auto_flow": null,
            "grid_auto_rows": null,
            "grid_column": null,
            "grid_gap": null,
            "grid_row": null,
            "grid_template_areas": null,
            "grid_template_columns": null,
            "grid_template_rows": null,
            "height": null,
            "justify_content": null,
            "justify_items": null,
            "left": null,
            "margin": null,
            "max_height": null,
            "max_width": null,
            "min_height": null,
            "min_width": null,
            "object_fit": null,
            "object_position": null,
            "order": null,
            "overflow": null,
            "overflow_x": null,
            "overflow_y": null,
            "padding": null,
            "right": null,
            "top": null,
            "visibility": null,
            "width": null
          }
        },
        "c68da15facb14c05a0ef98e0f19feba9": {
          "model_module": "@jupyter-widgets/controls",
          "model_name": "ProgressStyleModel",
          "model_module_version": "1.5.0",
          "state": {
            "_model_module": "@jupyter-widgets/controls",
            "_model_module_version": "1.5.0",
            "_model_name": "ProgressStyleModel",
            "_view_count": null,
            "_view_module": "@jupyter-widgets/base",
            "_view_module_version": "1.2.0",
            "_view_name": "StyleView",
            "bar_color": null,
            "description_width": ""
          }
        },
        "0b3efd70d775456a9089b7046d843199": {
          "model_module": "@jupyter-widgets/base",
          "model_name": "LayoutModel",
          "model_module_version": "1.2.0",
          "state": {
            "_model_module": "@jupyter-widgets/base",
            "_model_module_version": "1.2.0",
            "_model_name": "LayoutModel",
            "_view_count": null,
            "_view_module": "@jupyter-widgets/base",
            "_view_module_version": "1.2.0",
            "_view_name": "LayoutView",
            "align_content": null,
            "align_items": null,
            "align_self": null,
            "border": null,
            "bottom": null,
            "display": null,
            "flex": null,
            "flex_flow": null,
            "grid_area": null,
            "grid_auto_columns": null,
            "grid_auto_flow": null,
            "grid_auto_rows": null,
            "grid_column": null,
            "grid_gap": null,
            "grid_row": null,
            "grid_template_areas": null,
            "grid_template_columns": null,
            "grid_template_rows": null,
            "height": null,
            "justify_content": null,
            "justify_items": null,
            "left": null,
            "margin": null,
            "max_height": null,
            "max_width": null,
            "min_height": null,
            "min_width": null,
            "object_fit": null,
            "object_position": null,
            "order": null,
            "overflow": null,
            "overflow_x": null,
            "overflow_y": null,
            "padding": null,
            "right": null,
            "top": null,
            "visibility": null,
            "width": null
          }
        },
        "2a53c67d8bf34cc9a5a750da7d5614f5": {
          "model_module": "@jupyter-widgets/controls",
          "model_name": "DescriptionStyleModel",
          "model_module_version": "1.5.0",
          "state": {
            "_model_module": "@jupyter-widgets/controls",
            "_model_module_version": "1.5.0",
            "_model_name": "DescriptionStyleModel",
            "_view_count": null,
            "_view_module": "@jupyter-widgets/base",
            "_view_module_version": "1.2.0",
            "_view_name": "StyleView",
            "description_width": ""
          }
        },
        "126e23f06cdd47a283d79963ec5a1ff8": {
          "model_module": "@jupyter-widgets/controls",
          "model_name": "HBoxModel",
          "model_module_version": "1.5.0",
          "state": {
            "_dom_classes": [],
            "_model_module": "@jupyter-widgets/controls",
            "_model_module_version": "1.5.0",
            "_model_name": "HBoxModel",
            "_view_count": null,
            "_view_module": "@jupyter-widgets/controls",
            "_view_module_version": "1.5.0",
            "_view_name": "HBoxView",
            "box_style": "",
            "children": [
              "IPY_MODEL_d90b6ac372574f14bf47dbe94b03da1f",
              "IPY_MODEL_e68e2e899ed74387a05c7f142c8d6eb2",
              "IPY_MODEL_709a5277af524bc99723eeb5f49352b1"
            ],
            "layout": "IPY_MODEL_1f4bf66ae7fb41268d3c6add441f854b"
          }
        },
        "d90b6ac372574f14bf47dbe94b03da1f": {
          "model_module": "@jupyter-widgets/controls",
          "model_name": "HTMLModel",
          "model_module_version": "1.5.0",
          "state": {
            "_dom_classes": [],
            "_model_module": "@jupyter-widgets/controls",
            "_model_module_version": "1.5.0",
            "_model_name": "HTMLModel",
            "_view_count": null,
            "_view_module": "@jupyter-widgets/controls",
            "_view_module_version": "1.5.0",
            "_view_name": "HTMLView",
            "description": "",
            "description_tooltip": null,
            "layout": "IPY_MODEL_802d158cabd64bc382638be818380345",
            "placeholder": "​",
            "style": "IPY_MODEL_f7bf42e4a1ee4602bf0e39003eab656e",
            "value": "Downloading: 100%"
          }
        },
        "e68e2e899ed74387a05c7f142c8d6eb2": {
          "model_module": "@jupyter-widgets/controls",
          "model_name": "FloatProgressModel",
          "model_module_version": "1.5.0",
          "state": {
            "_dom_classes": [],
            "_model_module": "@jupyter-widgets/controls",
            "_model_module_version": "1.5.0",
            "_model_name": "FloatProgressModel",
            "_view_count": null,
            "_view_module": "@jupyter-widgets/controls",
            "_view_module_version": "1.5.0",
            "_view_name": "ProgressView",
            "bar_style": "success",
            "description": "",
            "description_tooltip": null,
            "layout": "IPY_MODEL_19ce83b321414487b9d5b69f24357f90",
            "max": 645,
            "min": 0,
            "orientation": "horizontal",
            "style": "IPY_MODEL_3d0c38418e2b4db38869a3b2493d8de2",
            "value": 645
          }
        },
        "709a5277af524bc99723eeb5f49352b1": {
          "model_module": "@jupyter-widgets/controls",
          "model_name": "HTMLModel",
          "model_module_version": "1.5.0",
          "state": {
            "_dom_classes": [],
            "_model_module": "@jupyter-widgets/controls",
            "_model_module_version": "1.5.0",
            "_model_name": "HTMLModel",
            "_view_count": null,
            "_view_module": "@jupyter-widgets/controls",
            "_view_module_version": "1.5.0",
            "_view_name": "HTMLView",
            "description": "",
            "description_tooltip": null,
            "layout": "IPY_MODEL_e181b89be3ba4480a4c660c01ee22240",
            "placeholder": "​",
            "style": "IPY_MODEL_d089148151574b0ba7cce69a541d3caa",
            "value": " 645/645 [00:00&lt;00:00, 31.0kB/s]"
          }
        },
        "1f4bf66ae7fb41268d3c6add441f854b": {
          "model_module": "@jupyter-widgets/base",
          "model_name": "LayoutModel",
          "model_module_version": "1.2.0",
          "state": {
            "_model_module": "@jupyter-widgets/base",
            "_model_module_version": "1.2.0",
            "_model_name": "LayoutModel",
            "_view_count": null,
            "_view_module": "@jupyter-widgets/base",
            "_view_module_version": "1.2.0",
            "_view_name": "LayoutView",
            "align_content": null,
            "align_items": null,
            "align_self": null,
            "border": null,
            "bottom": null,
            "display": null,
            "flex": null,
            "flex_flow": null,
            "grid_area": null,
            "grid_auto_columns": null,
            "grid_auto_flow": null,
            "grid_auto_rows": null,
            "grid_column": null,
            "grid_gap": null,
            "grid_row": null,
            "grid_template_areas": null,
            "grid_template_columns": null,
            "grid_template_rows": null,
            "height": null,
            "justify_content": null,
            "justify_items": null,
            "left": null,
            "margin": null,
            "max_height": null,
            "max_width": null,
            "min_height": null,
            "min_width": null,
            "object_fit": null,
            "object_position": null,
            "order": null,
            "overflow": null,
            "overflow_x": null,
            "overflow_y": null,
            "padding": null,
            "right": null,
            "top": null,
            "visibility": null,
            "width": null
          }
        },
        "802d158cabd64bc382638be818380345": {
          "model_module": "@jupyter-widgets/base",
          "model_name": "LayoutModel",
          "model_module_version": "1.2.0",
          "state": {
            "_model_module": "@jupyter-widgets/base",
            "_model_module_version": "1.2.0",
            "_model_name": "LayoutModel",
            "_view_count": null,
            "_view_module": "@jupyter-widgets/base",
            "_view_module_version": "1.2.0",
            "_view_name": "LayoutView",
            "align_content": null,
            "align_items": null,
            "align_self": null,
            "border": null,
            "bottom": null,
            "display": null,
            "flex": null,
            "flex_flow": null,
            "grid_area": null,
            "grid_auto_columns": null,
            "grid_auto_flow": null,
            "grid_auto_rows": null,
            "grid_column": null,
            "grid_gap": null,
            "grid_row": null,
            "grid_template_areas": null,
            "grid_template_columns": null,
            "grid_template_rows": null,
            "height": null,
            "justify_content": null,
            "justify_items": null,
            "left": null,
            "margin": null,
            "max_height": null,
            "max_width": null,
            "min_height": null,
            "min_width": null,
            "object_fit": null,
            "object_position": null,
            "order": null,
            "overflow": null,
            "overflow_x": null,
            "overflow_y": null,
            "padding": null,
            "right": null,
            "top": null,
            "visibility": null,
            "width": null
          }
        },
        "f7bf42e4a1ee4602bf0e39003eab656e": {
          "model_module": "@jupyter-widgets/controls",
          "model_name": "DescriptionStyleModel",
          "model_module_version": "1.5.0",
          "state": {
            "_model_module": "@jupyter-widgets/controls",
            "_model_module_version": "1.5.0",
            "_model_name": "DescriptionStyleModel",
            "_view_count": null,
            "_view_module": "@jupyter-widgets/base",
            "_view_module_version": "1.2.0",
            "_view_name": "StyleView",
            "description_width": ""
          }
        },
        "19ce83b321414487b9d5b69f24357f90": {
          "model_module": "@jupyter-widgets/base",
          "model_name": "LayoutModel",
          "model_module_version": "1.2.0",
          "state": {
            "_model_module": "@jupyter-widgets/base",
            "_model_module_version": "1.2.0",
            "_model_name": "LayoutModel",
            "_view_count": null,
            "_view_module": "@jupyter-widgets/base",
            "_view_module_version": "1.2.0",
            "_view_name": "LayoutView",
            "align_content": null,
            "align_items": null,
            "align_self": null,
            "border": null,
            "bottom": null,
            "display": null,
            "flex": null,
            "flex_flow": null,
            "grid_area": null,
            "grid_auto_columns": null,
            "grid_auto_flow": null,
            "grid_auto_rows": null,
            "grid_column": null,
            "grid_gap": null,
            "grid_row": null,
            "grid_template_areas": null,
            "grid_template_columns": null,
            "grid_template_rows": null,
            "height": null,
            "justify_content": null,
            "justify_items": null,
            "left": null,
            "margin": null,
            "max_height": null,
            "max_width": null,
            "min_height": null,
            "min_width": null,
            "object_fit": null,
            "object_position": null,
            "order": null,
            "overflow": null,
            "overflow_x": null,
            "overflow_y": null,
            "padding": null,
            "right": null,
            "top": null,
            "visibility": null,
            "width": null
          }
        },
        "3d0c38418e2b4db38869a3b2493d8de2": {
          "model_module": "@jupyter-widgets/controls",
          "model_name": "ProgressStyleModel",
          "model_module_version": "1.5.0",
          "state": {
            "_model_module": "@jupyter-widgets/controls",
            "_model_module_version": "1.5.0",
            "_model_name": "ProgressStyleModel",
            "_view_count": null,
            "_view_module": "@jupyter-widgets/base",
            "_view_module_version": "1.2.0",
            "_view_name": "StyleView",
            "bar_color": null,
            "description_width": ""
          }
        },
        "e181b89be3ba4480a4c660c01ee22240": {
          "model_module": "@jupyter-widgets/base",
          "model_name": "LayoutModel",
          "model_module_version": "1.2.0",
          "state": {
            "_model_module": "@jupyter-widgets/base",
            "_model_module_version": "1.2.0",
            "_model_name": "LayoutModel",
            "_view_count": null,
            "_view_module": "@jupyter-widgets/base",
            "_view_module_version": "1.2.0",
            "_view_name": "LayoutView",
            "align_content": null,
            "align_items": null,
            "align_self": null,
            "border": null,
            "bottom": null,
            "display": null,
            "flex": null,
            "flex_flow": null,
            "grid_area": null,
            "grid_auto_columns": null,
            "grid_auto_flow": null,
            "grid_auto_rows": null,
            "grid_column": null,
            "grid_gap": null,
            "grid_row": null,
            "grid_template_areas": null,
            "grid_template_columns": null,
            "grid_template_rows": null,
            "height": null,
            "justify_content": null,
            "justify_items": null,
            "left": null,
            "margin": null,
            "max_height": null,
            "max_width": null,
            "min_height": null,
            "min_width": null,
            "object_fit": null,
            "object_position": null,
            "order": null,
            "overflow": null,
            "overflow_x": null,
            "overflow_y": null,
            "padding": null,
            "right": null,
            "top": null,
            "visibility": null,
            "width": null
          }
        },
        "d089148151574b0ba7cce69a541d3caa": {
          "model_module": "@jupyter-widgets/controls",
          "model_name": "DescriptionStyleModel",
          "model_module_version": "1.5.0",
          "state": {
            "_model_module": "@jupyter-widgets/controls",
            "_model_module_version": "1.5.0",
            "_model_name": "DescriptionStyleModel",
            "_view_count": null,
            "_view_module": "@jupyter-widgets/base",
            "_view_module_version": "1.2.0",
            "_view_name": "StyleView",
            "description_width": ""
          }
        },
        "3025b10bf2264d098c722105fd1df8ca": {
          "model_module": "@jupyter-widgets/controls",
          "model_name": "HBoxModel",
          "model_module_version": "1.5.0",
          "state": {
            "_dom_classes": [],
            "_model_module": "@jupyter-widgets/controls",
            "_model_module_version": "1.5.0",
            "_model_name": "HBoxModel",
            "_view_count": null,
            "_view_module": "@jupyter-widgets/controls",
            "_view_module_version": "1.5.0",
            "_view_name": "HBoxView",
            "box_style": "",
            "children": [
              "IPY_MODEL_7563a93d3e104c849ea73fc54f43c650",
              "IPY_MODEL_0573577d356e4d4986d852fe126123cd",
              "IPY_MODEL_cb739d006e184f539653573d9b33f5e0"
            ],
            "layout": "IPY_MODEL_bd990cd8c4a642a49704c3929b79b6b1"
          }
        },
        "7563a93d3e104c849ea73fc54f43c650": {
          "model_module": "@jupyter-widgets/controls",
          "model_name": "HTMLModel",
          "model_module_version": "1.5.0",
          "state": {
            "_dom_classes": [],
            "_model_module": "@jupyter-widgets/controls",
            "_model_module_version": "1.5.0",
            "_model_name": "HTMLModel",
            "_view_count": null,
            "_view_module": "@jupyter-widgets/controls",
            "_view_module_version": "1.5.0",
            "_view_name": "HTMLView",
            "description": "",
            "description_tooltip": null,
            "layout": "IPY_MODEL_e8c984a2172149c9a23292e773ab0d97",
            "placeholder": "​",
            "style": "IPY_MODEL_3b3b65167e5942ed8b071357708bdb0b",
            "value": "Downloading: 100%"
          }
        },
        "0573577d356e4d4986d852fe126123cd": {
          "model_module": "@jupyter-widgets/controls",
          "model_name": "FloatProgressModel",
          "model_module_version": "1.5.0",
          "state": {
            "_dom_classes": [],
            "_model_module": "@jupyter-widgets/controls",
            "_model_module_version": "1.5.0",
            "_model_name": "FloatProgressModel",
            "_view_count": null,
            "_view_module": "@jupyter-widgets/controls",
            "_view_module_version": "1.5.0",
            "_view_name": "ProgressView",
            "bar_style": "success",
            "description": "",
            "description_tooltip": null,
            "layout": "IPY_MODEL_7653ee95df3f4f89b7d3ee1cc12438c2",
            "max": 122,
            "min": 0,
            "orientation": "horizontal",
            "style": "IPY_MODEL_190aa37f790b4779815ecf29521220c3",
            "value": 122
          }
        },
        "cb739d006e184f539653573d9b33f5e0": {
          "model_module": "@jupyter-widgets/controls",
          "model_name": "HTMLModel",
          "model_module_version": "1.5.0",
          "state": {
            "_dom_classes": [],
            "_model_module": "@jupyter-widgets/controls",
            "_model_module_version": "1.5.0",
            "_model_name": "HTMLModel",
            "_view_count": null,
            "_view_module": "@jupyter-widgets/controls",
            "_view_module_version": "1.5.0",
            "_view_name": "HTMLView",
            "description": "",
            "description_tooltip": null,
            "layout": "IPY_MODEL_f020ffc402074f8f88242724973efcb0",
            "placeholder": "​",
            "style": "IPY_MODEL_8aa5e181f10f4cb7a728f6103dba1e8a",
            "value": " 122/122 [00:00&lt;00:00, 4.01kB/s]"
          }
        },
        "bd990cd8c4a642a49704c3929b79b6b1": {
          "model_module": "@jupyter-widgets/base",
          "model_name": "LayoutModel",
          "model_module_version": "1.2.0",
          "state": {
            "_model_module": "@jupyter-widgets/base",
            "_model_module_version": "1.2.0",
            "_model_name": "LayoutModel",
            "_view_count": null,
            "_view_module": "@jupyter-widgets/base",
            "_view_module_version": "1.2.0",
            "_view_name": "LayoutView",
            "align_content": null,
            "align_items": null,
            "align_self": null,
            "border": null,
            "bottom": null,
            "display": null,
            "flex": null,
            "flex_flow": null,
            "grid_area": null,
            "grid_auto_columns": null,
            "grid_auto_flow": null,
            "grid_auto_rows": null,
            "grid_column": null,
            "grid_gap": null,
            "grid_row": null,
            "grid_template_areas": null,
            "grid_template_columns": null,
            "grid_template_rows": null,
            "height": null,
            "justify_content": null,
            "justify_items": null,
            "left": null,
            "margin": null,
            "max_height": null,
            "max_width": null,
            "min_height": null,
            "min_width": null,
            "object_fit": null,
            "object_position": null,
            "order": null,
            "overflow": null,
            "overflow_x": null,
            "overflow_y": null,
            "padding": null,
            "right": null,
            "top": null,
            "visibility": null,
            "width": null
          }
        },
        "e8c984a2172149c9a23292e773ab0d97": {
          "model_module": "@jupyter-widgets/base",
          "model_name": "LayoutModel",
          "model_module_version": "1.2.0",
          "state": {
            "_model_module": "@jupyter-widgets/base",
            "_model_module_version": "1.2.0",
            "_model_name": "LayoutModel",
            "_view_count": null,
            "_view_module": "@jupyter-widgets/base",
            "_view_module_version": "1.2.0",
            "_view_name": "LayoutView",
            "align_content": null,
            "align_items": null,
            "align_self": null,
            "border": null,
            "bottom": null,
            "display": null,
            "flex": null,
            "flex_flow": null,
            "grid_area": null,
            "grid_auto_columns": null,
            "grid_auto_flow": null,
            "grid_auto_rows": null,
            "grid_column": null,
            "grid_gap": null,
            "grid_row": null,
            "grid_template_areas": null,
            "grid_template_columns": null,
            "grid_template_rows": null,
            "height": null,
            "justify_content": null,
            "justify_items": null,
            "left": null,
            "margin": null,
            "max_height": null,
            "max_width": null,
            "min_height": null,
            "min_width": null,
            "object_fit": null,
            "object_position": null,
            "order": null,
            "overflow": null,
            "overflow_x": null,
            "overflow_y": null,
            "padding": null,
            "right": null,
            "top": null,
            "visibility": null,
            "width": null
          }
        },
        "3b3b65167e5942ed8b071357708bdb0b": {
          "model_module": "@jupyter-widgets/controls",
          "model_name": "DescriptionStyleModel",
          "model_module_version": "1.5.0",
          "state": {
            "_model_module": "@jupyter-widgets/controls",
            "_model_module_version": "1.5.0",
            "_model_name": "DescriptionStyleModel",
            "_view_count": null,
            "_view_module": "@jupyter-widgets/base",
            "_view_module_version": "1.2.0",
            "_view_name": "StyleView",
            "description_width": ""
          }
        },
        "7653ee95df3f4f89b7d3ee1cc12438c2": {
          "model_module": "@jupyter-widgets/base",
          "model_name": "LayoutModel",
          "model_module_version": "1.2.0",
          "state": {
            "_model_module": "@jupyter-widgets/base",
            "_model_module_version": "1.2.0",
            "_model_name": "LayoutModel",
            "_view_count": null,
            "_view_module": "@jupyter-widgets/base",
            "_view_module_version": "1.2.0",
            "_view_name": "LayoutView",
            "align_content": null,
            "align_items": null,
            "align_self": null,
            "border": null,
            "bottom": null,
            "display": null,
            "flex": null,
            "flex_flow": null,
            "grid_area": null,
            "grid_auto_columns": null,
            "grid_auto_flow": null,
            "grid_auto_rows": null,
            "grid_column": null,
            "grid_gap": null,
            "grid_row": null,
            "grid_template_areas": null,
            "grid_template_columns": null,
            "grid_template_rows": null,
            "height": null,
            "justify_content": null,
            "justify_items": null,
            "left": null,
            "margin": null,
            "max_height": null,
            "max_width": null,
            "min_height": null,
            "min_width": null,
            "object_fit": null,
            "object_position": null,
            "order": null,
            "overflow": null,
            "overflow_x": null,
            "overflow_y": null,
            "padding": null,
            "right": null,
            "top": null,
            "visibility": null,
            "width": null
          }
        },
        "190aa37f790b4779815ecf29521220c3": {
          "model_module": "@jupyter-widgets/controls",
          "model_name": "ProgressStyleModel",
          "model_module_version": "1.5.0",
          "state": {
            "_model_module": "@jupyter-widgets/controls",
            "_model_module_version": "1.5.0",
            "_model_name": "ProgressStyleModel",
            "_view_count": null,
            "_view_module": "@jupyter-widgets/base",
            "_view_module_version": "1.2.0",
            "_view_name": "StyleView",
            "bar_color": null,
            "description_width": ""
          }
        },
        "f020ffc402074f8f88242724973efcb0": {
          "model_module": "@jupyter-widgets/base",
          "model_name": "LayoutModel",
          "model_module_version": "1.2.0",
          "state": {
            "_model_module": "@jupyter-widgets/base",
            "_model_module_version": "1.2.0",
            "_model_name": "LayoutModel",
            "_view_count": null,
            "_view_module": "@jupyter-widgets/base",
            "_view_module_version": "1.2.0",
            "_view_name": "LayoutView",
            "align_content": null,
            "align_items": null,
            "align_self": null,
            "border": null,
            "bottom": null,
            "display": null,
            "flex": null,
            "flex_flow": null,
            "grid_area": null,
            "grid_auto_columns": null,
            "grid_auto_flow": null,
            "grid_auto_rows": null,
            "grid_column": null,
            "grid_gap": null,
            "grid_row": null,
            "grid_template_areas": null,
            "grid_template_columns": null,
            "grid_template_rows": null,
            "height": null,
            "justify_content": null,
            "justify_items": null,
            "left": null,
            "margin": null,
            "max_height": null,
            "max_width": null,
            "min_height": null,
            "min_width": null,
            "object_fit": null,
            "object_position": null,
            "order": null,
            "overflow": null,
            "overflow_x": null,
            "overflow_y": null,
            "padding": null,
            "right": null,
            "top": null,
            "visibility": null,
            "width": null
          }
        },
        "8aa5e181f10f4cb7a728f6103dba1e8a": {
          "model_module": "@jupyter-widgets/controls",
          "model_name": "DescriptionStyleModel",
          "model_module_version": "1.5.0",
          "state": {
            "_model_module": "@jupyter-widgets/controls",
            "_model_module_version": "1.5.0",
            "_model_name": "DescriptionStyleModel",
            "_view_count": null,
            "_view_module": "@jupyter-widgets/base",
            "_view_module_version": "1.2.0",
            "_view_name": "StyleView",
            "description_width": ""
          }
        },
        "0eb7a8811f6d4bc8b83b23fefbed098d": {
          "model_module": "@jupyter-widgets/controls",
          "model_name": "HBoxModel",
          "model_module_version": "1.5.0",
          "state": {
            "_dom_classes": [],
            "_model_module": "@jupyter-widgets/controls",
            "_model_module_version": "1.5.0",
            "_model_name": "HBoxModel",
            "_view_count": null,
            "_view_module": "@jupyter-widgets/controls",
            "_view_module_version": "1.5.0",
            "_view_name": "HBoxView",
            "box_style": "",
            "children": [
              "IPY_MODEL_f64f9842b74f495992a2e59e4003e685",
              "IPY_MODEL_b3ea3ac213344c82b1ad6a8e34282344",
              "IPY_MODEL_a0f5ce90d25f41a7b5e73f5c4fce32e7"
            ],
            "layout": "IPY_MODEL_2ef4b21bc3c845a9ba9bc5c72142f668"
          }
        },
        "f64f9842b74f495992a2e59e4003e685": {
          "model_module": "@jupyter-widgets/controls",
          "model_name": "HTMLModel",
          "model_module_version": "1.5.0",
          "state": {
            "_dom_classes": [],
            "_model_module": "@jupyter-widgets/controls",
            "_model_module_version": "1.5.0",
            "_model_name": "HTMLModel",
            "_view_count": null,
            "_view_module": "@jupyter-widgets/controls",
            "_view_module_version": "1.5.0",
            "_view_name": "HTMLView",
            "description": "",
            "description_tooltip": null,
            "layout": "IPY_MODEL_9f423f030c7c490683e8a55349ed132c",
            "placeholder": "​",
            "style": "IPY_MODEL_c7e76f644c8b425098dacdf3d41b10cc",
            "value": "Downloading: 100%"
          }
        },
        "b3ea3ac213344c82b1ad6a8e34282344": {
          "model_module": "@jupyter-widgets/controls",
          "model_name": "FloatProgressModel",
          "model_module_version": "1.5.0",
          "state": {
            "_dom_classes": [],
            "_model_module": "@jupyter-widgets/controls",
            "_model_module_version": "1.5.0",
            "_model_name": "FloatProgressModel",
            "_view_count": null,
            "_view_module": "@jupyter-widgets/controls",
            "_view_module_version": "1.5.0",
            "_view_name": "ProgressView",
            "bar_style": "success",
            "description": "",
            "description_tooltip": null,
            "layout": "IPY_MODEL_e766dbc2d306404ba82ecc816cd4edd9",
            "max": 470693617,
            "min": 0,
            "orientation": "horizontal",
            "style": "IPY_MODEL_e554658a30b4481ca9ded6f75ff863a5",
            "value": 470693617
          }
        },
        "a0f5ce90d25f41a7b5e73f5c4fce32e7": {
          "model_module": "@jupyter-widgets/controls",
          "model_name": "HTMLModel",
          "model_module_version": "1.5.0",
          "state": {
            "_dom_classes": [],
            "_model_module": "@jupyter-widgets/controls",
            "_model_module_version": "1.5.0",
            "_model_name": "HTMLModel",
            "_view_count": null,
            "_view_module": "@jupyter-widgets/controls",
            "_view_module_version": "1.5.0",
            "_view_name": "HTMLView",
            "description": "",
            "description_tooltip": null,
            "layout": "IPY_MODEL_fd6c8879dd9d42e7ace20723820fe9f6",
            "placeholder": "​",
            "style": "IPY_MODEL_12a0acaf90a645e58b67008394d41128",
            "value": " 471M/471M [00:06&lt;00:00, 71.0MB/s]"
          }
        },
        "2ef4b21bc3c845a9ba9bc5c72142f668": {
          "model_module": "@jupyter-widgets/base",
          "model_name": "LayoutModel",
          "model_module_version": "1.2.0",
          "state": {
            "_model_module": "@jupyter-widgets/base",
            "_model_module_version": "1.2.0",
            "_model_name": "LayoutModel",
            "_view_count": null,
            "_view_module": "@jupyter-widgets/base",
            "_view_module_version": "1.2.0",
            "_view_name": "LayoutView",
            "align_content": null,
            "align_items": null,
            "align_self": null,
            "border": null,
            "bottom": null,
            "display": null,
            "flex": null,
            "flex_flow": null,
            "grid_area": null,
            "grid_auto_columns": null,
            "grid_auto_flow": null,
            "grid_auto_rows": null,
            "grid_column": null,
            "grid_gap": null,
            "grid_row": null,
            "grid_template_areas": null,
            "grid_template_columns": null,
            "grid_template_rows": null,
            "height": null,
            "justify_content": null,
            "justify_items": null,
            "left": null,
            "margin": null,
            "max_height": null,
            "max_width": null,
            "min_height": null,
            "min_width": null,
            "object_fit": null,
            "object_position": null,
            "order": null,
            "overflow": null,
            "overflow_x": null,
            "overflow_y": null,
            "padding": null,
            "right": null,
            "top": null,
            "visibility": null,
            "width": null
          }
        },
        "9f423f030c7c490683e8a55349ed132c": {
          "model_module": "@jupyter-widgets/base",
          "model_name": "LayoutModel",
          "model_module_version": "1.2.0",
          "state": {
            "_model_module": "@jupyter-widgets/base",
            "_model_module_version": "1.2.0",
            "_model_name": "LayoutModel",
            "_view_count": null,
            "_view_module": "@jupyter-widgets/base",
            "_view_module_version": "1.2.0",
            "_view_name": "LayoutView",
            "align_content": null,
            "align_items": null,
            "align_self": null,
            "border": null,
            "bottom": null,
            "display": null,
            "flex": null,
            "flex_flow": null,
            "grid_area": null,
            "grid_auto_columns": null,
            "grid_auto_flow": null,
            "grid_auto_rows": null,
            "grid_column": null,
            "grid_gap": null,
            "grid_row": null,
            "grid_template_areas": null,
            "grid_template_columns": null,
            "grid_template_rows": null,
            "height": null,
            "justify_content": null,
            "justify_items": null,
            "left": null,
            "margin": null,
            "max_height": null,
            "max_width": null,
            "min_height": null,
            "min_width": null,
            "object_fit": null,
            "object_position": null,
            "order": null,
            "overflow": null,
            "overflow_x": null,
            "overflow_y": null,
            "padding": null,
            "right": null,
            "top": null,
            "visibility": null,
            "width": null
          }
        },
        "c7e76f644c8b425098dacdf3d41b10cc": {
          "model_module": "@jupyter-widgets/controls",
          "model_name": "DescriptionStyleModel",
          "model_module_version": "1.5.0",
          "state": {
            "_model_module": "@jupyter-widgets/controls",
            "_model_module_version": "1.5.0",
            "_model_name": "DescriptionStyleModel",
            "_view_count": null,
            "_view_module": "@jupyter-widgets/base",
            "_view_module_version": "1.2.0",
            "_view_name": "StyleView",
            "description_width": ""
          }
        },
        "e766dbc2d306404ba82ecc816cd4edd9": {
          "model_module": "@jupyter-widgets/base",
          "model_name": "LayoutModel",
          "model_module_version": "1.2.0",
          "state": {
            "_model_module": "@jupyter-widgets/base",
            "_model_module_version": "1.2.0",
            "_model_name": "LayoutModel",
            "_view_count": null,
            "_view_module": "@jupyter-widgets/base",
            "_view_module_version": "1.2.0",
            "_view_name": "LayoutView",
            "align_content": null,
            "align_items": null,
            "align_self": null,
            "border": null,
            "bottom": null,
            "display": null,
            "flex": null,
            "flex_flow": null,
            "grid_area": null,
            "grid_auto_columns": null,
            "grid_auto_flow": null,
            "grid_auto_rows": null,
            "grid_column": null,
            "grid_gap": null,
            "grid_row": null,
            "grid_template_areas": null,
            "grid_template_columns": null,
            "grid_template_rows": null,
            "height": null,
            "justify_content": null,
            "justify_items": null,
            "left": null,
            "margin": null,
            "max_height": null,
            "max_width": null,
            "min_height": null,
            "min_width": null,
            "object_fit": null,
            "object_position": null,
            "order": null,
            "overflow": null,
            "overflow_x": null,
            "overflow_y": null,
            "padding": null,
            "right": null,
            "top": null,
            "visibility": null,
            "width": null
          }
        },
        "e554658a30b4481ca9ded6f75ff863a5": {
          "model_module": "@jupyter-widgets/controls",
          "model_name": "ProgressStyleModel",
          "model_module_version": "1.5.0",
          "state": {
            "_model_module": "@jupyter-widgets/controls",
            "_model_module_version": "1.5.0",
            "_model_name": "ProgressStyleModel",
            "_view_count": null,
            "_view_module": "@jupyter-widgets/base",
            "_view_module_version": "1.2.0",
            "_view_name": "StyleView",
            "bar_color": null,
            "description_width": ""
          }
        },
        "fd6c8879dd9d42e7ace20723820fe9f6": {
          "model_module": "@jupyter-widgets/base",
          "model_name": "LayoutModel",
          "model_module_version": "1.2.0",
          "state": {
            "_model_module": "@jupyter-widgets/base",
            "_model_module_version": "1.2.0",
            "_model_name": "LayoutModel",
            "_view_count": null,
            "_view_module": "@jupyter-widgets/base",
            "_view_module_version": "1.2.0",
            "_view_name": "LayoutView",
            "align_content": null,
            "align_items": null,
            "align_self": null,
            "border": null,
            "bottom": null,
            "display": null,
            "flex": null,
            "flex_flow": null,
            "grid_area": null,
            "grid_auto_columns": null,
            "grid_auto_flow": null,
            "grid_auto_rows": null,
            "grid_column": null,
            "grid_gap": null,
            "grid_row": null,
            "grid_template_areas": null,
            "grid_template_columns": null,
            "grid_template_rows": null,
            "height": null,
            "justify_content": null,
            "justify_items": null,
            "left": null,
            "margin": null,
            "max_height": null,
            "max_width": null,
            "min_height": null,
            "min_width": null,
            "object_fit": null,
            "object_position": null,
            "order": null,
            "overflow": null,
            "overflow_x": null,
            "overflow_y": null,
            "padding": null,
            "right": null,
            "top": null,
            "visibility": null,
            "width": null
          }
        },
        "12a0acaf90a645e58b67008394d41128": {
          "model_module": "@jupyter-widgets/controls",
          "model_name": "DescriptionStyleModel",
          "model_module_version": "1.5.0",
          "state": {
            "_model_module": "@jupyter-widgets/controls",
            "_model_module_version": "1.5.0",
            "_model_name": "DescriptionStyleModel",
            "_view_count": null,
            "_view_module": "@jupyter-widgets/base",
            "_view_module_version": "1.2.0",
            "_view_name": "StyleView",
            "description_width": ""
          }
        },
        "d2c5b873f4d649d3bf6e7f1a373ae6be": {
          "model_module": "@jupyter-widgets/controls",
          "model_name": "HBoxModel",
          "model_module_version": "1.5.0",
          "state": {
            "_dom_classes": [],
            "_model_module": "@jupyter-widgets/controls",
            "_model_module_version": "1.5.0",
            "_model_name": "HBoxModel",
            "_view_count": null,
            "_view_module": "@jupyter-widgets/controls",
            "_view_module_version": "1.5.0",
            "_view_name": "HBoxView",
            "box_style": "",
            "children": [
              "IPY_MODEL_107ce953f6fb43379b2f8dc4425724d1",
              "IPY_MODEL_e5f944f001c946a5842e157027af17ee",
              "IPY_MODEL_313be27d96874f1489f7df0d3c13cdc6"
            ],
            "layout": "IPY_MODEL_c13072316dfd46c7af6a25150648878a"
          }
        },
        "107ce953f6fb43379b2f8dc4425724d1": {
          "model_module": "@jupyter-widgets/controls",
          "model_name": "HTMLModel",
          "model_module_version": "1.5.0",
          "state": {
            "_dom_classes": [],
            "_model_module": "@jupyter-widgets/controls",
            "_model_module_version": "1.5.0",
            "_model_name": "HTMLModel",
            "_view_count": null,
            "_view_module": "@jupyter-widgets/controls",
            "_view_module_version": "1.5.0",
            "_view_name": "HTMLView",
            "description": "",
            "description_tooltip": null,
            "layout": "IPY_MODEL_1fa66f83541e4d0d8b136a0de6034d08",
            "placeholder": "​",
            "style": "IPY_MODEL_b41ef9b8c855412991512aa4ae7dce0f",
            "value": "Downloading: 100%"
          }
        },
        "e5f944f001c946a5842e157027af17ee": {
          "model_module": "@jupyter-widgets/controls",
          "model_name": "FloatProgressModel",
          "model_module_version": "1.5.0",
          "state": {
            "_dom_classes": [],
            "_model_module": "@jupyter-widgets/controls",
            "_model_module_version": "1.5.0",
            "_model_name": "FloatProgressModel",
            "_view_count": null,
            "_view_module": "@jupyter-widgets/controls",
            "_view_module_version": "1.5.0",
            "_view_name": "ProgressView",
            "bar_style": "success",
            "description": "",
            "description_tooltip": null,
            "layout": "IPY_MODEL_3775b00881f34697b7aac9a586e3adfc",
            "max": 53,
            "min": 0,
            "orientation": "horizontal",
            "style": "IPY_MODEL_f2849d010aec4368bf14a61db59dfd75",
            "value": 53
          }
        },
        "313be27d96874f1489f7df0d3c13cdc6": {
          "model_module": "@jupyter-widgets/controls",
          "model_name": "HTMLModel",
          "model_module_version": "1.5.0",
          "state": {
            "_dom_classes": [],
            "_model_module": "@jupyter-widgets/controls",
            "_model_module_version": "1.5.0",
            "_model_name": "HTMLModel",
            "_view_count": null,
            "_view_module": "@jupyter-widgets/controls",
            "_view_module_version": "1.5.0",
            "_view_name": "HTMLView",
            "description": "",
            "description_tooltip": null,
            "layout": "IPY_MODEL_a0d52c5ad6544768969453259d7fad78",
            "placeholder": "​",
            "style": "IPY_MODEL_e1211df686fd4dabba991db9a30d18b4",
            "value": " 53.0/53.0 [00:00&lt;00:00, 3.36kB/s]"
          }
        },
        "c13072316dfd46c7af6a25150648878a": {
          "model_module": "@jupyter-widgets/base",
          "model_name": "LayoutModel",
          "model_module_version": "1.2.0",
          "state": {
            "_model_module": "@jupyter-widgets/base",
            "_model_module_version": "1.2.0",
            "_model_name": "LayoutModel",
            "_view_count": null,
            "_view_module": "@jupyter-widgets/base",
            "_view_module_version": "1.2.0",
            "_view_name": "LayoutView",
            "align_content": null,
            "align_items": null,
            "align_self": null,
            "border": null,
            "bottom": null,
            "display": null,
            "flex": null,
            "flex_flow": null,
            "grid_area": null,
            "grid_auto_columns": null,
            "grid_auto_flow": null,
            "grid_auto_rows": null,
            "grid_column": null,
            "grid_gap": null,
            "grid_row": null,
            "grid_template_areas": null,
            "grid_template_columns": null,
            "grid_template_rows": null,
            "height": null,
            "justify_content": null,
            "justify_items": null,
            "left": null,
            "margin": null,
            "max_height": null,
            "max_width": null,
            "min_height": null,
            "min_width": null,
            "object_fit": null,
            "object_position": null,
            "order": null,
            "overflow": null,
            "overflow_x": null,
            "overflow_y": null,
            "padding": null,
            "right": null,
            "top": null,
            "visibility": null,
            "width": null
          }
        },
        "1fa66f83541e4d0d8b136a0de6034d08": {
          "model_module": "@jupyter-widgets/base",
          "model_name": "LayoutModel",
          "model_module_version": "1.2.0",
          "state": {
            "_model_module": "@jupyter-widgets/base",
            "_model_module_version": "1.2.0",
            "_model_name": "LayoutModel",
            "_view_count": null,
            "_view_module": "@jupyter-widgets/base",
            "_view_module_version": "1.2.0",
            "_view_name": "LayoutView",
            "align_content": null,
            "align_items": null,
            "align_self": null,
            "border": null,
            "bottom": null,
            "display": null,
            "flex": null,
            "flex_flow": null,
            "grid_area": null,
            "grid_auto_columns": null,
            "grid_auto_flow": null,
            "grid_auto_rows": null,
            "grid_column": null,
            "grid_gap": null,
            "grid_row": null,
            "grid_template_areas": null,
            "grid_template_columns": null,
            "grid_template_rows": null,
            "height": null,
            "justify_content": null,
            "justify_items": null,
            "left": null,
            "margin": null,
            "max_height": null,
            "max_width": null,
            "min_height": null,
            "min_width": null,
            "object_fit": null,
            "object_position": null,
            "order": null,
            "overflow": null,
            "overflow_x": null,
            "overflow_y": null,
            "padding": null,
            "right": null,
            "top": null,
            "visibility": null,
            "width": null
          }
        },
        "b41ef9b8c855412991512aa4ae7dce0f": {
          "model_module": "@jupyter-widgets/controls",
          "model_name": "DescriptionStyleModel",
          "model_module_version": "1.5.0",
          "state": {
            "_model_module": "@jupyter-widgets/controls",
            "_model_module_version": "1.5.0",
            "_model_name": "DescriptionStyleModel",
            "_view_count": null,
            "_view_module": "@jupyter-widgets/base",
            "_view_module_version": "1.2.0",
            "_view_name": "StyleView",
            "description_width": ""
          }
        },
        "3775b00881f34697b7aac9a586e3adfc": {
          "model_module": "@jupyter-widgets/base",
          "model_name": "LayoutModel",
          "model_module_version": "1.2.0",
          "state": {
            "_model_module": "@jupyter-widgets/base",
            "_model_module_version": "1.2.0",
            "_model_name": "LayoutModel",
            "_view_count": null,
            "_view_module": "@jupyter-widgets/base",
            "_view_module_version": "1.2.0",
            "_view_name": "LayoutView",
            "align_content": null,
            "align_items": null,
            "align_self": null,
            "border": null,
            "bottom": null,
            "display": null,
            "flex": null,
            "flex_flow": null,
            "grid_area": null,
            "grid_auto_columns": null,
            "grid_auto_flow": null,
            "grid_auto_rows": null,
            "grid_column": null,
            "grid_gap": null,
            "grid_row": null,
            "grid_template_areas": null,
            "grid_template_columns": null,
            "grid_template_rows": null,
            "height": null,
            "justify_content": null,
            "justify_items": null,
            "left": null,
            "margin": null,
            "max_height": null,
            "max_width": null,
            "min_height": null,
            "min_width": null,
            "object_fit": null,
            "object_position": null,
            "order": null,
            "overflow": null,
            "overflow_x": null,
            "overflow_y": null,
            "padding": null,
            "right": null,
            "top": null,
            "visibility": null,
            "width": null
          }
        },
        "f2849d010aec4368bf14a61db59dfd75": {
          "model_module": "@jupyter-widgets/controls",
          "model_name": "ProgressStyleModel",
          "model_module_version": "1.5.0",
          "state": {
            "_model_module": "@jupyter-widgets/controls",
            "_model_module_version": "1.5.0",
            "_model_name": "ProgressStyleModel",
            "_view_count": null,
            "_view_module": "@jupyter-widgets/base",
            "_view_module_version": "1.2.0",
            "_view_name": "StyleView",
            "bar_color": null,
            "description_width": ""
          }
        },
        "a0d52c5ad6544768969453259d7fad78": {
          "model_module": "@jupyter-widgets/base",
          "model_name": "LayoutModel",
          "model_module_version": "1.2.0",
          "state": {
            "_model_module": "@jupyter-widgets/base",
            "_model_module_version": "1.2.0",
            "_model_name": "LayoutModel",
            "_view_count": null,
            "_view_module": "@jupyter-widgets/base",
            "_view_module_version": "1.2.0",
            "_view_name": "LayoutView",
            "align_content": null,
            "align_items": null,
            "align_self": null,
            "border": null,
            "bottom": null,
            "display": null,
            "flex": null,
            "flex_flow": null,
            "grid_area": null,
            "grid_auto_columns": null,
            "grid_auto_flow": null,
            "grid_auto_rows": null,
            "grid_column": null,
            "grid_gap": null,
            "grid_row": null,
            "grid_template_areas": null,
            "grid_template_columns": null,
            "grid_template_rows": null,
            "height": null,
            "justify_content": null,
            "justify_items": null,
            "left": null,
            "margin": null,
            "max_height": null,
            "max_width": null,
            "min_height": null,
            "min_width": null,
            "object_fit": null,
            "object_position": null,
            "order": null,
            "overflow": null,
            "overflow_x": null,
            "overflow_y": null,
            "padding": null,
            "right": null,
            "top": null,
            "visibility": null,
            "width": null
          }
        },
        "e1211df686fd4dabba991db9a30d18b4": {
          "model_module": "@jupyter-widgets/controls",
          "model_name": "DescriptionStyleModel",
          "model_module_version": "1.5.0",
          "state": {
            "_model_module": "@jupyter-widgets/controls",
            "_model_module_version": "1.5.0",
            "_model_name": "DescriptionStyleModel",
            "_view_count": null,
            "_view_module": "@jupyter-widgets/base",
            "_view_module_version": "1.2.0",
            "_view_name": "StyleView",
            "description_width": ""
          }
        },
        "68f00aed584641829f9deea9a9949462": {
          "model_module": "@jupyter-widgets/controls",
          "model_name": "HBoxModel",
          "model_module_version": "1.5.0",
          "state": {
            "_dom_classes": [],
            "_model_module": "@jupyter-widgets/controls",
            "_model_module_version": "1.5.0",
            "_model_name": "HBoxModel",
            "_view_count": null,
            "_view_module": "@jupyter-widgets/controls",
            "_view_module_version": "1.5.0",
            "_view_name": "HBoxView",
            "box_style": "",
            "children": [
              "IPY_MODEL_2265441820154e73b9f73a47af4ddeaa",
              "IPY_MODEL_92cb85521a00493d9db27b3cd6d02b63",
              "IPY_MODEL_38662a9042f344f9b15ea5c46d9110c0"
            ],
            "layout": "IPY_MODEL_f794af04447d4cb4aeabe3c6d7065a45"
          }
        },
        "2265441820154e73b9f73a47af4ddeaa": {
          "model_module": "@jupyter-widgets/controls",
          "model_name": "HTMLModel",
          "model_module_version": "1.5.0",
          "state": {
            "_dom_classes": [],
            "_model_module": "@jupyter-widgets/controls",
            "_model_module_version": "1.5.0",
            "_model_name": "HTMLModel",
            "_view_count": null,
            "_view_module": "@jupyter-widgets/controls",
            "_view_module_version": "1.5.0",
            "_view_name": "HTMLView",
            "description": "",
            "description_tooltip": null,
            "layout": "IPY_MODEL_bb317a34e96b42898cc1ff40f5f64b2f",
            "placeholder": "​",
            "style": "IPY_MODEL_36ce0e8415674ef99db8501533e119b6",
            "value": "Downloading: 100%"
          }
        },
        "92cb85521a00493d9db27b3cd6d02b63": {
          "model_module": "@jupyter-widgets/controls",
          "model_name": "FloatProgressModel",
          "model_module_version": "1.5.0",
          "state": {
            "_dom_classes": [],
            "_model_module": "@jupyter-widgets/controls",
            "_model_module_version": "1.5.0",
            "_model_name": "FloatProgressModel",
            "_view_count": null,
            "_view_module": "@jupyter-widgets/controls",
            "_view_module_version": "1.5.0",
            "_view_name": "ProgressView",
            "bar_style": "success",
            "description": "",
            "description_tooltip": null,
            "layout": "IPY_MODEL_cb99c7041e4b448883dd684cdddbb6bd",
            "max": 5069051,
            "min": 0,
            "orientation": "horizontal",
            "style": "IPY_MODEL_05a8c71a47e64401b9c01dd871c8d482",
            "value": 5069051
          }
        },
        "38662a9042f344f9b15ea5c46d9110c0": {
          "model_module": "@jupyter-widgets/controls",
          "model_name": "HTMLModel",
          "model_module_version": "1.5.0",
          "state": {
            "_dom_classes": [],
            "_model_module": "@jupyter-widgets/controls",
            "_model_module_version": "1.5.0",
            "_model_name": "HTMLModel",
            "_view_count": null,
            "_view_module": "@jupyter-widgets/controls",
            "_view_module_version": "1.5.0",
            "_view_name": "HTMLView",
            "description": "",
            "description_tooltip": null,
            "layout": "IPY_MODEL_36e08fa213a449149989105baecf89f1",
            "placeholder": "​",
            "style": "IPY_MODEL_9f68e2ec01944d29998dc95ba0c2ce73",
            "value": " 5.07M/5.07M [00:00&lt;00:00, 53.1MB/s]"
          }
        },
        "f794af04447d4cb4aeabe3c6d7065a45": {
          "model_module": "@jupyter-widgets/base",
          "model_name": "LayoutModel",
          "model_module_version": "1.2.0",
          "state": {
            "_model_module": "@jupyter-widgets/base",
            "_model_module_version": "1.2.0",
            "_model_name": "LayoutModel",
            "_view_count": null,
            "_view_module": "@jupyter-widgets/base",
            "_view_module_version": "1.2.0",
            "_view_name": "LayoutView",
            "align_content": null,
            "align_items": null,
            "align_self": null,
            "border": null,
            "bottom": null,
            "display": null,
            "flex": null,
            "flex_flow": null,
            "grid_area": null,
            "grid_auto_columns": null,
            "grid_auto_flow": null,
            "grid_auto_rows": null,
            "grid_column": null,
            "grid_gap": null,
            "grid_row": null,
            "grid_template_areas": null,
            "grid_template_columns": null,
            "grid_template_rows": null,
            "height": null,
            "justify_content": null,
            "justify_items": null,
            "left": null,
            "margin": null,
            "max_height": null,
            "max_width": null,
            "min_height": null,
            "min_width": null,
            "object_fit": null,
            "object_position": null,
            "order": null,
            "overflow": null,
            "overflow_x": null,
            "overflow_y": null,
            "padding": null,
            "right": null,
            "top": null,
            "visibility": null,
            "width": null
          }
        },
        "bb317a34e96b42898cc1ff40f5f64b2f": {
          "model_module": "@jupyter-widgets/base",
          "model_name": "LayoutModel",
          "model_module_version": "1.2.0",
          "state": {
            "_model_module": "@jupyter-widgets/base",
            "_model_module_version": "1.2.0",
            "_model_name": "LayoutModel",
            "_view_count": null,
            "_view_module": "@jupyter-widgets/base",
            "_view_module_version": "1.2.0",
            "_view_name": "LayoutView",
            "align_content": null,
            "align_items": null,
            "align_self": null,
            "border": null,
            "bottom": null,
            "display": null,
            "flex": null,
            "flex_flow": null,
            "grid_area": null,
            "grid_auto_columns": null,
            "grid_auto_flow": null,
            "grid_auto_rows": null,
            "grid_column": null,
            "grid_gap": null,
            "grid_row": null,
            "grid_template_areas": null,
            "grid_template_columns": null,
            "grid_template_rows": null,
            "height": null,
            "justify_content": null,
            "justify_items": null,
            "left": null,
            "margin": null,
            "max_height": null,
            "max_width": null,
            "min_height": null,
            "min_width": null,
            "object_fit": null,
            "object_position": null,
            "order": null,
            "overflow": null,
            "overflow_x": null,
            "overflow_y": null,
            "padding": null,
            "right": null,
            "top": null,
            "visibility": null,
            "width": null
          }
        },
        "36ce0e8415674ef99db8501533e119b6": {
          "model_module": "@jupyter-widgets/controls",
          "model_name": "DescriptionStyleModel",
          "model_module_version": "1.5.0",
          "state": {
            "_model_module": "@jupyter-widgets/controls",
            "_model_module_version": "1.5.0",
            "_model_name": "DescriptionStyleModel",
            "_view_count": null,
            "_view_module": "@jupyter-widgets/base",
            "_view_module_version": "1.2.0",
            "_view_name": "StyleView",
            "description_width": ""
          }
        },
        "cb99c7041e4b448883dd684cdddbb6bd": {
          "model_module": "@jupyter-widgets/base",
          "model_name": "LayoutModel",
          "model_module_version": "1.2.0",
          "state": {
            "_model_module": "@jupyter-widgets/base",
            "_model_module_version": "1.2.0",
            "_model_name": "LayoutModel",
            "_view_count": null,
            "_view_module": "@jupyter-widgets/base",
            "_view_module_version": "1.2.0",
            "_view_name": "LayoutView",
            "align_content": null,
            "align_items": null,
            "align_self": null,
            "border": null,
            "bottom": null,
            "display": null,
            "flex": null,
            "flex_flow": null,
            "grid_area": null,
            "grid_auto_columns": null,
            "grid_auto_flow": null,
            "grid_auto_rows": null,
            "grid_column": null,
            "grid_gap": null,
            "grid_row": null,
            "grid_template_areas": null,
            "grid_template_columns": null,
            "grid_template_rows": null,
            "height": null,
            "justify_content": null,
            "justify_items": null,
            "left": null,
            "margin": null,
            "max_height": null,
            "max_width": null,
            "min_height": null,
            "min_width": null,
            "object_fit": null,
            "object_position": null,
            "order": null,
            "overflow": null,
            "overflow_x": null,
            "overflow_y": null,
            "padding": null,
            "right": null,
            "top": null,
            "visibility": null,
            "width": null
          }
        },
        "05a8c71a47e64401b9c01dd871c8d482": {
          "model_module": "@jupyter-widgets/controls",
          "model_name": "ProgressStyleModel",
          "model_module_version": "1.5.0",
          "state": {
            "_model_module": "@jupyter-widgets/controls",
            "_model_module_version": "1.5.0",
            "_model_name": "ProgressStyleModel",
            "_view_count": null,
            "_view_module": "@jupyter-widgets/base",
            "_view_module_version": "1.2.0",
            "_view_name": "StyleView",
            "bar_color": null,
            "description_width": ""
          }
        },
        "36e08fa213a449149989105baecf89f1": {
          "model_module": "@jupyter-widgets/base",
          "model_name": "LayoutModel",
          "model_module_version": "1.2.0",
          "state": {
            "_model_module": "@jupyter-widgets/base",
            "_model_module_version": "1.2.0",
            "_model_name": "LayoutModel",
            "_view_count": null,
            "_view_module": "@jupyter-widgets/base",
            "_view_module_version": "1.2.0",
            "_view_name": "LayoutView",
            "align_content": null,
            "align_items": null,
            "align_self": null,
            "border": null,
            "bottom": null,
            "display": null,
            "flex": null,
            "flex_flow": null,
            "grid_area": null,
            "grid_auto_columns": null,
            "grid_auto_flow": null,
            "grid_auto_rows": null,
            "grid_column": null,
            "grid_gap": null,
            "grid_row": null,
            "grid_template_areas": null,
            "grid_template_columns": null,
            "grid_template_rows": null,
            "height": null,
            "justify_content": null,
            "justify_items": null,
            "left": null,
            "margin": null,
            "max_height": null,
            "max_width": null,
            "min_height": null,
            "min_width": null,
            "object_fit": null,
            "object_position": null,
            "order": null,
            "overflow": null,
            "overflow_x": null,
            "overflow_y": null,
            "padding": null,
            "right": null,
            "top": null,
            "visibility": null,
            "width": null
          }
        },
        "9f68e2ec01944d29998dc95ba0c2ce73": {
          "model_module": "@jupyter-widgets/controls",
          "model_name": "DescriptionStyleModel",
          "model_module_version": "1.5.0",
          "state": {
            "_model_module": "@jupyter-widgets/controls",
            "_model_module_version": "1.5.0",
            "_model_name": "DescriptionStyleModel",
            "_view_count": null,
            "_view_module": "@jupyter-widgets/base",
            "_view_module_version": "1.2.0",
            "_view_name": "StyleView",
            "description_width": ""
          }
        },
        "b6049a3245864c18b832bf5f10f90a4c": {
          "model_module": "@jupyter-widgets/controls",
          "model_name": "HBoxModel",
          "model_module_version": "1.5.0",
          "state": {
            "_dom_classes": [],
            "_model_module": "@jupyter-widgets/controls",
            "_model_module_version": "1.5.0",
            "_model_name": "HBoxModel",
            "_view_count": null,
            "_view_module": "@jupyter-widgets/controls",
            "_view_module_version": "1.5.0",
            "_view_name": "HBoxView",
            "box_style": "",
            "children": [
              "IPY_MODEL_2f38481744324ba3a9642572d5f93e1f",
              "IPY_MODEL_0e13105413e44f9f80e792b640524dc8",
              "IPY_MODEL_75a495a9d4a44c9fa373b9a4dd75425f"
            ],
            "layout": "IPY_MODEL_ed6bc4797ca4484ca18cb8140baf2679"
          }
        },
        "2f38481744324ba3a9642572d5f93e1f": {
          "model_module": "@jupyter-widgets/controls",
          "model_name": "HTMLModel",
          "model_module_version": "1.5.0",
          "state": {
            "_dom_classes": [],
            "_model_module": "@jupyter-widgets/controls",
            "_model_module_version": "1.5.0",
            "_model_name": "HTMLModel",
            "_view_count": null,
            "_view_module": "@jupyter-widgets/controls",
            "_view_module_version": "1.5.0",
            "_view_name": "HTMLView",
            "description": "",
            "description_tooltip": null,
            "layout": "IPY_MODEL_3b432abd749f4ae0b94666e58c70ce4e",
            "placeholder": "​",
            "style": "IPY_MODEL_6499192f0d4147309fcac73a828f2b0b",
            "value": "Downloading: 100%"
          }
        },
        "0e13105413e44f9f80e792b640524dc8": {
          "model_module": "@jupyter-widgets/controls",
          "model_name": "FloatProgressModel",
          "model_module_version": "1.5.0",
          "state": {
            "_dom_classes": [],
            "_model_module": "@jupyter-widgets/controls",
            "_model_module_version": "1.5.0",
            "_model_name": "FloatProgressModel",
            "_view_count": null,
            "_view_module": "@jupyter-widgets/controls",
            "_view_module_version": "1.5.0",
            "_view_name": "ProgressView",
            "bar_style": "success",
            "description": "",
            "description_tooltip": null,
            "layout": "IPY_MODEL_a94e2b7b7e2e44628975d55a333b9fe7",
            "max": 239,
            "min": 0,
            "orientation": "horizontal",
            "style": "IPY_MODEL_e74a1ee6ff78461c8155c14da5bf37eb",
            "value": 239
          }
        },
        "75a495a9d4a44c9fa373b9a4dd75425f": {
          "model_module": "@jupyter-widgets/controls",
          "model_name": "HTMLModel",
          "model_module_version": "1.5.0",
          "state": {
            "_dom_classes": [],
            "_model_module": "@jupyter-widgets/controls",
            "_model_module_version": "1.5.0",
            "_model_name": "HTMLModel",
            "_view_count": null,
            "_view_module": "@jupyter-widgets/controls",
            "_view_module_version": "1.5.0",
            "_view_name": "HTMLView",
            "description": "",
            "description_tooltip": null,
            "layout": "IPY_MODEL_f74512d049684c559a90ad0af2439784",
            "placeholder": "​",
            "style": "IPY_MODEL_d58797bf4c39415a8104a7b675374040",
            "value": " 239/239 [00:00&lt;00:00, 11.9kB/s]"
          }
        },
        "ed6bc4797ca4484ca18cb8140baf2679": {
          "model_module": "@jupyter-widgets/base",
          "model_name": "LayoutModel",
          "model_module_version": "1.2.0",
          "state": {
            "_model_module": "@jupyter-widgets/base",
            "_model_module_version": "1.2.0",
            "_model_name": "LayoutModel",
            "_view_count": null,
            "_view_module": "@jupyter-widgets/base",
            "_view_module_version": "1.2.0",
            "_view_name": "LayoutView",
            "align_content": null,
            "align_items": null,
            "align_self": null,
            "border": null,
            "bottom": null,
            "display": null,
            "flex": null,
            "flex_flow": null,
            "grid_area": null,
            "grid_auto_columns": null,
            "grid_auto_flow": null,
            "grid_auto_rows": null,
            "grid_column": null,
            "grid_gap": null,
            "grid_row": null,
            "grid_template_areas": null,
            "grid_template_columns": null,
            "grid_template_rows": null,
            "height": null,
            "justify_content": null,
            "justify_items": null,
            "left": null,
            "margin": null,
            "max_height": null,
            "max_width": null,
            "min_height": null,
            "min_width": null,
            "object_fit": null,
            "object_position": null,
            "order": null,
            "overflow": null,
            "overflow_x": null,
            "overflow_y": null,
            "padding": null,
            "right": null,
            "top": null,
            "visibility": null,
            "width": null
          }
        },
        "3b432abd749f4ae0b94666e58c70ce4e": {
          "model_module": "@jupyter-widgets/base",
          "model_name": "LayoutModel",
          "model_module_version": "1.2.0",
          "state": {
            "_model_module": "@jupyter-widgets/base",
            "_model_module_version": "1.2.0",
            "_model_name": "LayoutModel",
            "_view_count": null,
            "_view_module": "@jupyter-widgets/base",
            "_view_module_version": "1.2.0",
            "_view_name": "LayoutView",
            "align_content": null,
            "align_items": null,
            "align_self": null,
            "border": null,
            "bottom": null,
            "display": null,
            "flex": null,
            "flex_flow": null,
            "grid_area": null,
            "grid_auto_columns": null,
            "grid_auto_flow": null,
            "grid_auto_rows": null,
            "grid_column": null,
            "grid_gap": null,
            "grid_row": null,
            "grid_template_areas": null,
            "grid_template_columns": null,
            "grid_template_rows": null,
            "height": null,
            "justify_content": null,
            "justify_items": null,
            "left": null,
            "margin": null,
            "max_height": null,
            "max_width": null,
            "min_height": null,
            "min_width": null,
            "object_fit": null,
            "object_position": null,
            "order": null,
            "overflow": null,
            "overflow_x": null,
            "overflow_y": null,
            "padding": null,
            "right": null,
            "top": null,
            "visibility": null,
            "width": null
          }
        },
        "6499192f0d4147309fcac73a828f2b0b": {
          "model_module": "@jupyter-widgets/controls",
          "model_name": "DescriptionStyleModel",
          "model_module_version": "1.5.0",
          "state": {
            "_model_module": "@jupyter-widgets/controls",
            "_model_module_version": "1.5.0",
            "_model_name": "DescriptionStyleModel",
            "_view_count": null,
            "_view_module": "@jupyter-widgets/base",
            "_view_module_version": "1.2.0",
            "_view_name": "StyleView",
            "description_width": ""
          }
        },
        "a94e2b7b7e2e44628975d55a333b9fe7": {
          "model_module": "@jupyter-widgets/base",
          "model_name": "LayoutModel",
          "model_module_version": "1.2.0",
          "state": {
            "_model_module": "@jupyter-widgets/base",
            "_model_module_version": "1.2.0",
            "_model_name": "LayoutModel",
            "_view_count": null,
            "_view_module": "@jupyter-widgets/base",
            "_view_module_version": "1.2.0",
            "_view_name": "LayoutView",
            "align_content": null,
            "align_items": null,
            "align_self": null,
            "border": null,
            "bottom": null,
            "display": null,
            "flex": null,
            "flex_flow": null,
            "grid_area": null,
            "grid_auto_columns": null,
            "grid_auto_flow": null,
            "grid_auto_rows": null,
            "grid_column": null,
            "grid_gap": null,
            "grid_row": null,
            "grid_template_areas": null,
            "grid_template_columns": null,
            "grid_template_rows": null,
            "height": null,
            "justify_content": null,
            "justify_items": null,
            "left": null,
            "margin": null,
            "max_height": null,
            "max_width": null,
            "min_height": null,
            "min_width": null,
            "object_fit": null,
            "object_position": null,
            "order": null,
            "overflow": null,
            "overflow_x": null,
            "overflow_y": null,
            "padding": null,
            "right": null,
            "top": null,
            "visibility": null,
            "width": null
          }
        },
        "e74a1ee6ff78461c8155c14da5bf37eb": {
          "model_module": "@jupyter-widgets/controls",
          "model_name": "ProgressStyleModel",
          "model_module_version": "1.5.0",
          "state": {
            "_model_module": "@jupyter-widgets/controls",
            "_model_module_version": "1.5.0",
            "_model_name": "ProgressStyleModel",
            "_view_count": null,
            "_view_module": "@jupyter-widgets/base",
            "_view_module_version": "1.2.0",
            "_view_name": "StyleView",
            "bar_color": null,
            "description_width": ""
          }
        },
        "f74512d049684c559a90ad0af2439784": {
          "model_module": "@jupyter-widgets/base",
          "model_name": "LayoutModel",
          "model_module_version": "1.2.0",
          "state": {
            "_model_module": "@jupyter-widgets/base",
            "_model_module_version": "1.2.0",
            "_model_name": "LayoutModel",
            "_view_count": null,
            "_view_module": "@jupyter-widgets/base",
            "_view_module_version": "1.2.0",
            "_view_name": "LayoutView",
            "align_content": null,
            "align_items": null,
            "align_self": null,
            "border": null,
            "bottom": null,
            "display": null,
            "flex": null,
            "flex_flow": null,
            "grid_area": null,
            "grid_auto_columns": null,
            "grid_auto_flow": null,
            "grid_auto_rows": null,
            "grid_column": null,
            "grid_gap": null,
            "grid_row": null,
            "grid_template_areas": null,
            "grid_template_columns": null,
            "grid_template_rows": null,
            "height": null,
            "justify_content": null,
            "justify_items": null,
            "left": null,
            "margin": null,
            "max_height": null,
            "max_width": null,
            "min_height": null,
            "min_width": null,
            "object_fit": null,
            "object_position": null,
            "order": null,
            "overflow": null,
            "overflow_x": null,
            "overflow_y": null,
            "padding": null,
            "right": null,
            "top": null,
            "visibility": null,
            "width": null
          }
        },
        "d58797bf4c39415a8104a7b675374040": {
          "model_module": "@jupyter-widgets/controls",
          "model_name": "DescriptionStyleModel",
          "model_module_version": "1.5.0",
          "state": {
            "_model_module": "@jupyter-widgets/controls",
            "_model_module_version": "1.5.0",
            "_model_name": "DescriptionStyleModel",
            "_view_count": null,
            "_view_module": "@jupyter-widgets/base",
            "_view_module_version": "1.2.0",
            "_view_name": "StyleView",
            "description_width": ""
          }
        },
        "d90c1c9254fc4961ba7d73697b81afca": {
          "model_module": "@jupyter-widgets/controls",
          "model_name": "HBoxModel",
          "model_module_version": "1.5.0",
          "state": {
            "_dom_classes": [],
            "_model_module": "@jupyter-widgets/controls",
            "_model_module_version": "1.5.0",
            "_model_name": "HBoxModel",
            "_view_count": null,
            "_view_module": "@jupyter-widgets/controls",
            "_view_module_version": "1.5.0",
            "_view_name": "HBoxView",
            "box_style": "",
            "children": [
              "IPY_MODEL_26bc652b79934cd4845532f593b99b0c",
              "IPY_MODEL_ede3e61a2c8f4af2bf5d15127b01331c",
              "IPY_MODEL_456ff526f13b4972bbbf1539adc0daca"
            ],
            "layout": "IPY_MODEL_df3f753fad6d4a29adda47ce0fcf86cd"
          }
        },
        "26bc652b79934cd4845532f593b99b0c": {
          "model_module": "@jupyter-widgets/controls",
          "model_name": "HTMLModel",
          "model_module_version": "1.5.0",
          "state": {
            "_dom_classes": [],
            "_model_module": "@jupyter-widgets/controls",
            "_model_module_version": "1.5.0",
            "_model_name": "HTMLModel",
            "_view_count": null,
            "_view_module": "@jupyter-widgets/controls",
            "_view_module_version": "1.5.0",
            "_view_name": "HTMLView",
            "description": "",
            "description_tooltip": null,
            "layout": "IPY_MODEL_d892d685ffef4d6590006d6851bd9dda",
            "placeholder": "​",
            "style": "IPY_MODEL_baf270efda2e4cb5aed4d234096dcc14",
            "value": "Downloading: 100%"
          }
        },
        "ede3e61a2c8f4af2bf5d15127b01331c": {
          "model_module": "@jupyter-widgets/controls",
          "model_name": "FloatProgressModel",
          "model_module_version": "1.5.0",
          "state": {
            "_dom_classes": [],
            "_model_module": "@jupyter-widgets/controls",
            "_model_module_version": "1.5.0",
            "_model_name": "FloatProgressModel",
            "_view_count": null,
            "_view_module": "@jupyter-widgets/controls",
            "_view_module_version": "1.5.0",
            "_view_name": "ProgressView",
            "bar_style": "success",
            "description": "",
            "description_tooltip": null,
            "layout": "IPY_MODEL_40d2b82ea12a439fb42efdcd72485b2f",
            "max": 9081518,
            "min": 0,
            "orientation": "horizontal",
            "style": "IPY_MODEL_af18fd88f05f4b9c92a32814183351af",
            "value": 9081518
          }
        },
        "456ff526f13b4972bbbf1539adc0daca": {
          "model_module": "@jupyter-widgets/controls",
          "model_name": "HTMLModel",
          "model_module_version": "1.5.0",
          "state": {
            "_dom_classes": [],
            "_model_module": "@jupyter-widgets/controls",
            "_model_module_version": "1.5.0",
            "_model_name": "HTMLModel",
            "_view_count": null,
            "_view_module": "@jupyter-widgets/controls",
            "_view_module_version": "1.5.0",
            "_view_name": "HTMLView",
            "description": "",
            "description_tooltip": null,
            "layout": "IPY_MODEL_f45cbccf6fd145edb62dabb153d9517e",
            "placeholder": "​",
            "style": "IPY_MODEL_b9e2a92b9ea24ce7995d17654ae90ed6",
            "value": " 9.08M/9.08M [00:00&lt;00:00, 55.1MB/s]"
          }
        },
        "df3f753fad6d4a29adda47ce0fcf86cd": {
          "model_module": "@jupyter-widgets/base",
          "model_name": "LayoutModel",
          "model_module_version": "1.2.0",
          "state": {
            "_model_module": "@jupyter-widgets/base",
            "_model_module_version": "1.2.0",
            "_model_name": "LayoutModel",
            "_view_count": null,
            "_view_module": "@jupyter-widgets/base",
            "_view_module_version": "1.2.0",
            "_view_name": "LayoutView",
            "align_content": null,
            "align_items": null,
            "align_self": null,
            "border": null,
            "bottom": null,
            "display": null,
            "flex": null,
            "flex_flow": null,
            "grid_area": null,
            "grid_auto_columns": null,
            "grid_auto_flow": null,
            "grid_auto_rows": null,
            "grid_column": null,
            "grid_gap": null,
            "grid_row": null,
            "grid_template_areas": null,
            "grid_template_columns": null,
            "grid_template_rows": null,
            "height": null,
            "justify_content": null,
            "justify_items": null,
            "left": null,
            "margin": null,
            "max_height": null,
            "max_width": null,
            "min_height": null,
            "min_width": null,
            "object_fit": null,
            "object_position": null,
            "order": null,
            "overflow": null,
            "overflow_x": null,
            "overflow_y": null,
            "padding": null,
            "right": null,
            "top": null,
            "visibility": null,
            "width": null
          }
        },
        "d892d685ffef4d6590006d6851bd9dda": {
          "model_module": "@jupyter-widgets/base",
          "model_name": "LayoutModel",
          "model_module_version": "1.2.0",
          "state": {
            "_model_module": "@jupyter-widgets/base",
            "_model_module_version": "1.2.0",
            "_model_name": "LayoutModel",
            "_view_count": null,
            "_view_module": "@jupyter-widgets/base",
            "_view_module_version": "1.2.0",
            "_view_name": "LayoutView",
            "align_content": null,
            "align_items": null,
            "align_self": null,
            "border": null,
            "bottom": null,
            "display": null,
            "flex": null,
            "flex_flow": null,
            "grid_area": null,
            "grid_auto_columns": null,
            "grid_auto_flow": null,
            "grid_auto_rows": null,
            "grid_column": null,
            "grid_gap": null,
            "grid_row": null,
            "grid_template_areas": null,
            "grid_template_columns": null,
            "grid_template_rows": null,
            "height": null,
            "justify_content": null,
            "justify_items": null,
            "left": null,
            "margin": null,
            "max_height": null,
            "max_width": null,
            "min_height": null,
            "min_width": null,
            "object_fit": null,
            "object_position": null,
            "order": null,
            "overflow": null,
            "overflow_x": null,
            "overflow_y": null,
            "padding": null,
            "right": null,
            "top": null,
            "visibility": null,
            "width": null
          }
        },
        "baf270efda2e4cb5aed4d234096dcc14": {
          "model_module": "@jupyter-widgets/controls",
          "model_name": "DescriptionStyleModel",
          "model_module_version": "1.5.0",
          "state": {
            "_model_module": "@jupyter-widgets/controls",
            "_model_module_version": "1.5.0",
            "_model_name": "DescriptionStyleModel",
            "_view_count": null,
            "_view_module": "@jupyter-widgets/base",
            "_view_module_version": "1.2.0",
            "_view_name": "StyleView",
            "description_width": ""
          }
        },
        "40d2b82ea12a439fb42efdcd72485b2f": {
          "model_module": "@jupyter-widgets/base",
          "model_name": "LayoutModel",
          "model_module_version": "1.2.0",
          "state": {
            "_model_module": "@jupyter-widgets/base",
            "_model_module_version": "1.2.0",
            "_model_name": "LayoutModel",
            "_view_count": null,
            "_view_module": "@jupyter-widgets/base",
            "_view_module_version": "1.2.0",
            "_view_name": "LayoutView",
            "align_content": null,
            "align_items": null,
            "align_self": null,
            "border": null,
            "bottom": null,
            "display": null,
            "flex": null,
            "flex_flow": null,
            "grid_area": null,
            "grid_auto_columns": null,
            "grid_auto_flow": null,
            "grid_auto_rows": null,
            "grid_column": null,
            "grid_gap": null,
            "grid_row": null,
            "grid_template_areas": null,
            "grid_template_columns": null,
            "grid_template_rows": null,
            "height": null,
            "justify_content": null,
            "justify_items": null,
            "left": null,
            "margin": null,
            "max_height": null,
            "max_width": null,
            "min_height": null,
            "min_width": null,
            "object_fit": null,
            "object_position": null,
            "order": null,
            "overflow": null,
            "overflow_x": null,
            "overflow_y": null,
            "padding": null,
            "right": null,
            "top": null,
            "visibility": null,
            "width": null
          }
        },
        "af18fd88f05f4b9c92a32814183351af": {
          "model_module": "@jupyter-widgets/controls",
          "model_name": "ProgressStyleModel",
          "model_module_version": "1.5.0",
          "state": {
            "_model_module": "@jupyter-widgets/controls",
            "_model_module_version": "1.5.0",
            "_model_name": "ProgressStyleModel",
            "_view_count": null,
            "_view_module": "@jupyter-widgets/base",
            "_view_module_version": "1.2.0",
            "_view_name": "StyleView",
            "bar_color": null,
            "description_width": ""
          }
        },
        "f45cbccf6fd145edb62dabb153d9517e": {
          "model_module": "@jupyter-widgets/base",
          "model_name": "LayoutModel",
          "model_module_version": "1.2.0",
          "state": {
            "_model_module": "@jupyter-widgets/base",
            "_model_module_version": "1.2.0",
            "_model_name": "LayoutModel",
            "_view_count": null,
            "_view_module": "@jupyter-widgets/base",
            "_view_module_version": "1.2.0",
            "_view_name": "LayoutView",
            "align_content": null,
            "align_items": null,
            "align_self": null,
            "border": null,
            "bottom": null,
            "display": null,
            "flex": null,
            "flex_flow": null,
            "grid_area": null,
            "grid_auto_columns": null,
            "grid_auto_flow": null,
            "grid_auto_rows": null,
            "grid_column": null,
            "grid_gap": null,
            "grid_row": null,
            "grid_template_areas": null,
            "grid_template_columns": null,
            "grid_template_rows": null,
            "height": null,
            "justify_content": null,
            "justify_items": null,
            "left": null,
            "margin": null,
            "max_height": null,
            "max_width": null,
            "min_height": null,
            "min_width": null,
            "object_fit": null,
            "object_position": null,
            "order": null,
            "overflow": null,
            "overflow_x": null,
            "overflow_y": null,
            "padding": null,
            "right": null,
            "top": null,
            "visibility": null,
            "width": null
          }
        },
        "b9e2a92b9ea24ce7995d17654ae90ed6": {
          "model_module": "@jupyter-widgets/controls",
          "model_name": "DescriptionStyleModel",
          "model_module_version": "1.5.0",
          "state": {
            "_model_module": "@jupyter-widgets/controls",
            "_model_module_version": "1.5.0",
            "_model_name": "DescriptionStyleModel",
            "_view_count": null,
            "_view_module": "@jupyter-widgets/base",
            "_view_module_version": "1.2.0",
            "_view_name": "StyleView",
            "description_width": ""
          }
        },
        "555495feba624c6586180ea9a1fba2ce": {
          "model_module": "@jupyter-widgets/controls",
          "model_name": "HBoxModel",
          "model_module_version": "1.5.0",
          "state": {
            "_dom_classes": [],
            "_model_module": "@jupyter-widgets/controls",
            "_model_module_version": "1.5.0",
            "_model_name": "HBoxModel",
            "_view_count": null,
            "_view_module": "@jupyter-widgets/controls",
            "_view_module_version": "1.5.0",
            "_view_name": "HBoxView",
            "box_style": "",
            "children": [
              "IPY_MODEL_38592a8ed6dd492a8da409da8d0aa50c",
              "IPY_MODEL_a8107a275937486daa57d5cda69b8bbf",
              "IPY_MODEL_e7884f780c77408598e44f1f7404abae"
            ],
            "layout": "IPY_MODEL_c76acc94709a44428a58eecf9528b918"
          }
        },
        "38592a8ed6dd492a8da409da8d0aa50c": {
          "model_module": "@jupyter-widgets/controls",
          "model_name": "HTMLModel",
          "model_module_version": "1.5.0",
          "state": {
            "_dom_classes": [],
            "_model_module": "@jupyter-widgets/controls",
            "_model_module_version": "1.5.0",
            "_model_name": "HTMLModel",
            "_view_count": null,
            "_view_module": "@jupyter-widgets/controls",
            "_view_module_version": "1.5.0",
            "_view_name": "HTMLView",
            "description": "",
            "description_tooltip": null,
            "layout": "IPY_MODEL_e1bf68f8aa5a4bac8aee5a0cd90570c8",
            "placeholder": "​",
            "style": "IPY_MODEL_de22414ad2704225960339c1f103a57f",
            "value": "Downloading: 100%"
          }
        },
        "a8107a275937486daa57d5cda69b8bbf": {
          "model_module": "@jupyter-widgets/controls",
          "model_name": "FloatProgressModel",
          "model_module_version": "1.5.0",
          "state": {
            "_dom_classes": [],
            "_model_module": "@jupyter-widgets/controls",
            "_model_module_version": "1.5.0",
            "_model_name": "FloatProgressModel",
            "_view_count": null,
            "_view_module": "@jupyter-widgets/controls",
            "_view_module_version": "1.5.0",
            "_view_name": "ProgressView",
            "bar_style": "success",
            "description": "",
            "description_tooltip": null,
            "layout": "IPY_MODEL_4bac482420e0488894060f00bbdb589c",
            "max": 480,
            "min": 0,
            "orientation": "horizontal",
            "style": "IPY_MODEL_3349227761e345019bb6556855fca1e2",
            "value": 480
          }
        },
        "e7884f780c77408598e44f1f7404abae": {
          "model_module": "@jupyter-widgets/controls",
          "model_name": "HTMLModel",
          "model_module_version": "1.5.0",
          "state": {
            "_dom_classes": [],
            "_model_module": "@jupyter-widgets/controls",
            "_model_module_version": "1.5.0",
            "_model_name": "HTMLModel",
            "_view_count": null,
            "_view_module": "@jupyter-widgets/controls",
            "_view_module_version": "1.5.0",
            "_view_name": "HTMLView",
            "description": "",
            "description_tooltip": null,
            "layout": "IPY_MODEL_97388b3132d24c6da41f74732350455b",
            "placeholder": "​",
            "style": "IPY_MODEL_e58a4007a5f645538ee14733ef78d392",
            "value": " 480/480 [00:00&lt;00:00, 31.9kB/s]"
          }
        },
        "c76acc94709a44428a58eecf9528b918": {
          "model_module": "@jupyter-widgets/base",
          "model_name": "LayoutModel",
          "model_module_version": "1.2.0",
          "state": {
            "_model_module": "@jupyter-widgets/base",
            "_model_module_version": "1.2.0",
            "_model_name": "LayoutModel",
            "_view_count": null,
            "_view_module": "@jupyter-widgets/base",
            "_view_module_version": "1.2.0",
            "_view_name": "LayoutView",
            "align_content": null,
            "align_items": null,
            "align_self": null,
            "border": null,
            "bottom": null,
            "display": null,
            "flex": null,
            "flex_flow": null,
            "grid_area": null,
            "grid_auto_columns": null,
            "grid_auto_flow": null,
            "grid_auto_rows": null,
            "grid_column": null,
            "grid_gap": null,
            "grid_row": null,
            "grid_template_areas": null,
            "grid_template_columns": null,
            "grid_template_rows": null,
            "height": null,
            "justify_content": null,
            "justify_items": null,
            "left": null,
            "margin": null,
            "max_height": null,
            "max_width": null,
            "min_height": null,
            "min_width": null,
            "object_fit": null,
            "object_position": null,
            "order": null,
            "overflow": null,
            "overflow_x": null,
            "overflow_y": null,
            "padding": null,
            "right": null,
            "top": null,
            "visibility": null,
            "width": null
          }
        },
        "e1bf68f8aa5a4bac8aee5a0cd90570c8": {
          "model_module": "@jupyter-widgets/base",
          "model_name": "LayoutModel",
          "model_module_version": "1.2.0",
          "state": {
            "_model_module": "@jupyter-widgets/base",
            "_model_module_version": "1.2.0",
            "_model_name": "LayoutModel",
            "_view_count": null,
            "_view_module": "@jupyter-widgets/base",
            "_view_module_version": "1.2.0",
            "_view_name": "LayoutView",
            "align_content": null,
            "align_items": null,
            "align_self": null,
            "border": null,
            "bottom": null,
            "display": null,
            "flex": null,
            "flex_flow": null,
            "grid_area": null,
            "grid_auto_columns": null,
            "grid_auto_flow": null,
            "grid_auto_rows": null,
            "grid_column": null,
            "grid_gap": null,
            "grid_row": null,
            "grid_template_areas": null,
            "grid_template_columns": null,
            "grid_template_rows": null,
            "height": null,
            "justify_content": null,
            "justify_items": null,
            "left": null,
            "margin": null,
            "max_height": null,
            "max_width": null,
            "min_height": null,
            "min_width": null,
            "object_fit": null,
            "object_position": null,
            "order": null,
            "overflow": null,
            "overflow_x": null,
            "overflow_y": null,
            "padding": null,
            "right": null,
            "top": null,
            "visibility": null,
            "width": null
          }
        },
        "de22414ad2704225960339c1f103a57f": {
          "model_module": "@jupyter-widgets/controls",
          "model_name": "DescriptionStyleModel",
          "model_module_version": "1.5.0",
          "state": {
            "_model_module": "@jupyter-widgets/controls",
            "_model_module_version": "1.5.0",
            "_model_name": "DescriptionStyleModel",
            "_view_count": null,
            "_view_module": "@jupyter-widgets/base",
            "_view_module_version": "1.2.0",
            "_view_name": "StyleView",
            "description_width": ""
          }
        },
        "4bac482420e0488894060f00bbdb589c": {
          "model_module": "@jupyter-widgets/base",
          "model_name": "LayoutModel",
          "model_module_version": "1.2.0",
          "state": {
            "_model_module": "@jupyter-widgets/base",
            "_model_module_version": "1.2.0",
            "_model_name": "LayoutModel",
            "_view_count": null,
            "_view_module": "@jupyter-widgets/base",
            "_view_module_version": "1.2.0",
            "_view_name": "LayoutView",
            "align_content": null,
            "align_items": null,
            "align_self": null,
            "border": null,
            "bottom": null,
            "display": null,
            "flex": null,
            "flex_flow": null,
            "grid_area": null,
            "grid_auto_columns": null,
            "grid_auto_flow": null,
            "grid_auto_rows": null,
            "grid_column": null,
            "grid_gap": null,
            "grid_row": null,
            "grid_template_areas": null,
            "grid_template_columns": null,
            "grid_template_rows": null,
            "height": null,
            "justify_content": null,
            "justify_items": null,
            "left": null,
            "margin": null,
            "max_height": null,
            "max_width": null,
            "min_height": null,
            "min_width": null,
            "object_fit": null,
            "object_position": null,
            "order": null,
            "overflow": null,
            "overflow_x": null,
            "overflow_y": null,
            "padding": null,
            "right": null,
            "top": null,
            "visibility": null,
            "width": null
          }
        },
        "3349227761e345019bb6556855fca1e2": {
          "model_module": "@jupyter-widgets/controls",
          "model_name": "ProgressStyleModel",
          "model_module_version": "1.5.0",
          "state": {
            "_model_module": "@jupyter-widgets/controls",
            "_model_module_version": "1.5.0",
            "_model_name": "ProgressStyleModel",
            "_view_count": null,
            "_view_module": "@jupyter-widgets/base",
            "_view_module_version": "1.2.0",
            "_view_name": "StyleView",
            "bar_color": null,
            "description_width": ""
          }
        },
        "97388b3132d24c6da41f74732350455b": {
          "model_module": "@jupyter-widgets/base",
          "model_name": "LayoutModel",
          "model_module_version": "1.2.0",
          "state": {
            "_model_module": "@jupyter-widgets/base",
            "_model_module_version": "1.2.0",
            "_model_name": "LayoutModel",
            "_view_count": null,
            "_view_module": "@jupyter-widgets/base",
            "_view_module_version": "1.2.0",
            "_view_name": "LayoutView",
            "align_content": null,
            "align_items": null,
            "align_self": null,
            "border": null,
            "bottom": null,
            "display": null,
            "flex": null,
            "flex_flow": null,
            "grid_area": null,
            "grid_auto_columns": null,
            "grid_auto_flow": null,
            "grid_auto_rows": null,
            "grid_column": null,
            "grid_gap": null,
            "grid_row": null,
            "grid_template_areas": null,
            "grid_template_columns": null,
            "grid_template_rows": null,
            "height": null,
            "justify_content": null,
            "justify_items": null,
            "left": null,
            "margin": null,
            "max_height": null,
            "max_width": null,
            "min_height": null,
            "min_width": null,
            "object_fit": null,
            "object_position": null,
            "order": null,
            "overflow": null,
            "overflow_x": null,
            "overflow_y": null,
            "padding": null,
            "right": null,
            "top": null,
            "visibility": null,
            "width": null
          }
        },
        "e58a4007a5f645538ee14733ef78d392": {
          "model_module": "@jupyter-widgets/controls",
          "model_name": "DescriptionStyleModel",
          "model_module_version": "1.5.0",
          "state": {
            "_model_module": "@jupyter-widgets/controls",
            "_model_module_version": "1.5.0",
            "_model_name": "DescriptionStyleModel",
            "_view_count": null,
            "_view_module": "@jupyter-widgets/base",
            "_view_module_version": "1.2.0",
            "_view_name": "StyleView",
            "description_width": ""
          }
        },
        "c1eb5be1700a460cbf8c266b77a43c2a": {
          "model_module": "@jupyter-widgets/controls",
          "model_name": "HBoxModel",
          "model_module_version": "1.5.0",
          "state": {
            "_dom_classes": [],
            "_model_module": "@jupyter-widgets/controls",
            "_model_module_version": "1.5.0",
            "_model_name": "HBoxModel",
            "_view_count": null,
            "_view_module": "@jupyter-widgets/controls",
            "_view_module_version": "1.5.0",
            "_view_name": "HBoxView",
            "box_style": "",
            "children": [
              "IPY_MODEL_9a373fafaec04f618561582db0960936",
              "IPY_MODEL_91ba7763c30f4ff0999f43536a8f2ae7",
              "IPY_MODEL_2c4255be3fc84267ba7b69e177aabe17"
            ],
            "layout": "IPY_MODEL_cd5732ea197044e4915db73e17754aa2"
          }
        },
        "9a373fafaec04f618561582db0960936": {
          "model_module": "@jupyter-widgets/controls",
          "model_name": "HTMLModel",
          "model_module_version": "1.5.0",
          "state": {
            "_dom_classes": [],
            "_model_module": "@jupyter-widgets/controls",
            "_model_module_version": "1.5.0",
            "_model_name": "HTMLModel",
            "_view_count": null,
            "_view_module": "@jupyter-widgets/controls",
            "_view_module_version": "1.5.0",
            "_view_name": "HTMLView",
            "description": "",
            "description_tooltip": null,
            "layout": "IPY_MODEL_45e4fcfcee3748eda16851e1ba200a19",
            "placeholder": "​",
            "style": "IPY_MODEL_abe0e5cd5f1a4c05a1b455dd58c7ebe6",
            "value": "Downloading: 100%"
          }
        },
        "91ba7763c30f4ff0999f43536a8f2ae7": {
          "model_module": "@jupyter-widgets/controls",
          "model_name": "FloatProgressModel",
          "model_module_version": "1.5.0",
          "state": {
            "_dom_classes": [],
            "_model_module": "@jupyter-widgets/controls",
            "_model_module_version": "1.5.0",
            "_model_name": "FloatProgressModel",
            "_view_count": null,
            "_view_module": "@jupyter-widgets/controls",
            "_view_module_version": "1.5.0",
            "_view_name": "ProgressView",
            "bar_style": "success",
            "description": "",
            "description_tooltip": null,
            "layout": "IPY_MODEL_625a13e225004c1dbd61950d56259459",
            "max": 14763234,
            "min": 0,
            "orientation": "horizontal",
            "style": "IPY_MODEL_303416cbe53f44e6a49c44995a0a5139",
            "value": 14763234
          }
        },
        "2c4255be3fc84267ba7b69e177aabe17": {
          "model_module": "@jupyter-widgets/controls",
          "model_name": "HTMLModel",
          "model_module_version": "1.5.0",
          "state": {
            "_dom_classes": [],
            "_model_module": "@jupyter-widgets/controls",
            "_model_module_version": "1.5.0",
            "_model_name": "HTMLModel",
            "_view_count": null,
            "_view_module": "@jupyter-widgets/controls",
            "_view_module_version": "1.5.0",
            "_view_name": "HTMLView",
            "description": "",
            "description_tooltip": null,
            "layout": "IPY_MODEL_3f4af0b4c0be4cdaa05b779ee7de5a76",
            "placeholder": "​",
            "style": "IPY_MODEL_2d5b36bbc5ef491c87a23293dce65632",
            "value": " 14.8M/14.8M [00:00&lt;00:00, 70.7MB/s]"
          }
        },
        "cd5732ea197044e4915db73e17754aa2": {
          "model_module": "@jupyter-widgets/base",
          "model_name": "LayoutModel",
          "model_module_version": "1.2.0",
          "state": {
            "_model_module": "@jupyter-widgets/base",
            "_model_module_version": "1.2.0",
            "_model_name": "LayoutModel",
            "_view_count": null,
            "_view_module": "@jupyter-widgets/base",
            "_view_module_version": "1.2.0",
            "_view_name": "LayoutView",
            "align_content": null,
            "align_items": null,
            "align_self": null,
            "border": null,
            "bottom": null,
            "display": null,
            "flex": null,
            "flex_flow": null,
            "grid_area": null,
            "grid_auto_columns": null,
            "grid_auto_flow": null,
            "grid_auto_rows": null,
            "grid_column": null,
            "grid_gap": null,
            "grid_row": null,
            "grid_template_areas": null,
            "grid_template_columns": null,
            "grid_template_rows": null,
            "height": null,
            "justify_content": null,
            "justify_items": null,
            "left": null,
            "margin": null,
            "max_height": null,
            "max_width": null,
            "min_height": null,
            "min_width": null,
            "object_fit": null,
            "object_position": null,
            "order": null,
            "overflow": null,
            "overflow_x": null,
            "overflow_y": null,
            "padding": null,
            "right": null,
            "top": null,
            "visibility": null,
            "width": null
          }
        },
        "45e4fcfcee3748eda16851e1ba200a19": {
          "model_module": "@jupyter-widgets/base",
          "model_name": "LayoutModel",
          "model_module_version": "1.2.0",
          "state": {
            "_model_module": "@jupyter-widgets/base",
            "_model_module_version": "1.2.0",
            "_model_name": "LayoutModel",
            "_view_count": null,
            "_view_module": "@jupyter-widgets/base",
            "_view_module_version": "1.2.0",
            "_view_name": "LayoutView",
            "align_content": null,
            "align_items": null,
            "align_self": null,
            "border": null,
            "bottom": null,
            "display": null,
            "flex": null,
            "flex_flow": null,
            "grid_area": null,
            "grid_auto_columns": null,
            "grid_auto_flow": null,
            "grid_auto_rows": null,
            "grid_column": null,
            "grid_gap": null,
            "grid_row": null,
            "grid_template_areas": null,
            "grid_template_columns": null,
            "grid_template_rows": null,
            "height": null,
            "justify_content": null,
            "justify_items": null,
            "left": null,
            "margin": null,
            "max_height": null,
            "max_width": null,
            "min_height": null,
            "min_width": null,
            "object_fit": null,
            "object_position": null,
            "order": null,
            "overflow": null,
            "overflow_x": null,
            "overflow_y": null,
            "padding": null,
            "right": null,
            "top": null,
            "visibility": null,
            "width": null
          }
        },
        "abe0e5cd5f1a4c05a1b455dd58c7ebe6": {
          "model_module": "@jupyter-widgets/controls",
          "model_name": "DescriptionStyleModel",
          "model_module_version": "1.5.0",
          "state": {
            "_model_module": "@jupyter-widgets/controls",
            "_model_module_version": "1.5.0",
            "_model_name": "DescriptionStyleModel",
            "_view_count": null,
            "_view_module": "@jupyter-widgets/base",
            "_view_module_version": "1.2.0",
            "_view_name": "StyleView",
            "description_width": ""
          }
        },
        "625a13e225004c1dbd61950d56259459": {
          "model_module": "@jupyter-widgets/base",
          "model_name": "LayoutModel",
          "model_module_version": "1.2.0",
          "state": {
            "_model_module": "@jupyter-widgets/base",
            "_model_module_version": "1.2.0",
            "_model_name": "LayoutModel",
            "_view_count": null,
            "_view_module": "@jupyter-widgets/base",
            "_view_module_version": "1.2.0",
            "_view_name": "LayoutView",
            "align_content": null,
            "align_items": null,
            "align_self": null,
            "border": null,
            "bottom": null,
            "display": null,
            "flex": null,
            "flex_flow": null,
            "grid_area": null,
            "grid_auto_columns": null,
            "grid_auto_flow": null,
            "grid_auto_rows": null,
            "grid_column": null,
            "grid_gap": null,
            "grid_row": null,
            "grid_template_areas": null,
            "grid_template_columns": null,
            "grid_template_rows": null,
            "height": null,
            "justify_content": null,
            "justify_items": null,
            "left": null,
            "margin": null,
            "max_height": null,
            "max_width": null,
            "min_height": null,
            "min_width": null,
            "object_fit": null,
            "object_position": null,
            "order": null,
            "overflow": null,
            "overflow_x": null,
            "overflow_y": null,
            "padding": null,
            "right": null,
            "top": null,
            "visibility": null,
            "width": null
          }
        },
        "303416cbe53f44e6a49c44995a0a5139": {
          "model_module": "@jupyter-widgets/controls",
          "model_name": "ProgressStyleModel",
          "model_module_version": "1.5.0",
          "state": {
            "_model_module": "@jupyter-widgets/controls",
            "_model_module_version": "1.5.0",
            "_model_name": "ProgressStyleModel",
            "_view_count": null,
            "_view_module": "@jupyter-widgets/base",
            "_view_module_version": "1.2.0",
            "_view_name": "StyleView",
            "bar_color": null,
            "description_width": ""
          }
        },
        "3f4af0b4c0be4cdaa05b779ee7de5a76": {
          "model_module": "@jupyter-widgets/base",
          "model_name": "LayoutModel",
          "model_module_version": "1.2.0",
          "state": {
            "_model_module": "@jupyter-widgets/base",
            "_model_module_version": "1.2.0",
            "_model_name": "LayoutModel",
            "_view_count": null,
            "_view_module": "@jupyter-widgets/base",
            "_view_module_version": "1.2.0",
            "_view_name": "LayoutView",
            "align_content": null,
            "align_items": null,
            "align_self": null,
            "border": null,
            "bottom": null,
            "display": null,
            "flex": null,
            "flex_flow": null,
            "grid_area": null,
            "grid_auto_columns": null,
            "grid_auto_flow": null,
            "grid_auto_rows": null,
            "grid_column": null,
            "grid_gap": null,
            "grid_row": null,
            "grid_template_areas": null,
            "grid_template_columns": null,
            "grid_template_rows": null,
            "height": null,
            "justify_content": null,
            "justify_items": null,
            "left": null,
            "margin": null,
            "max_height": null,
            "max_width": null,
            "min_height": null,
            "min_width": null,
            "object_fit": null,
            "object_position": null,
            "order": null,
            "overflow": null,
            "overflow_x": null,
            "overflow_y": null,
            "padding": null,
            "right": null,
            "top": null,
            "visibility": null,
            "width": null
          }
        },
        "2d5b36bbc5ef491c87a23293dce65632": {
          "model_module": "@jupyter-widgets/controls",
          "model_name": "DescriptionStyleModel",
          "model_module_version": "1.5.0",
          "state": {
            "_model_module": "@jupyter-widgets/controls",
            "_model_module_version": "1.5.0",
            "_model_name": "DescriptionStyleModel",
            "_view_count": null,
            "_view_module": "@jupyter-widgets/base",
            "_view_module_version": "1.2.0",
            "_view_name": "StyleView",
            "description_width": ""
          }
        },
        "d4ab37575b7d4724807420af694b7b84": {
          "model_module": "@jupyter-widgets/controls",
          "model_name": "HBoxModel",
          "model_module_version": "1.5.0",
          "state": {
            "_dom_classes": [],
            "_model_module": "@jupyter-widgets/controls",
            "_model_module_version": "1.5.0",
            "_model_name": "HBoxModel",
            "_view_count": null,
            "_view_module": "@jupyter-widgets/controls",
            "_view_module_version": "1.5.0",
            "_view_name": "HBoxView",
            "box_style": "",
            "children": [
              "IPY_MODEL_db44939d4011402db04f8da0731055b8",
              "IPY_MODEL_c9307ea12e924bc592fb51a0df0dbd48",
              "IPY_MODEL_17015298c53c437d987a20af6ac07a6d"
            ],
            "layout": "IPY_MODEL_20fd7ecb93024176820254c632d1c467"
          }
        },
        "db44939d4011402db04f8da0731055b8": {
          "model_module": "@jupyter-widgets/controls",
          "model_name": "HTMLModel",
          "model_module_version": "1.5.0",
          "state": {
            "_dom_classes": [],
            "_model_module": "@jupyter-widgets/controls",
            "_model_module_version": "1.5.0",
            "_model_name": "HTMLModel",
            "_view_count": null,
            "_view_module": "@jupyter-widgets/controls",
            "_view_module_version": "1.5.0",
            "_view_name": "HTMLView",
            "description": "",
            "description_tooltip": null,
            "layout": "IPY_MODEL_7f77fa10173e469b9085f17c8b169d6f",
            "placeholder": "​",
            "style": "IPY_MODEL_76c2455f0ae0451bac49e485ff6f4fec",
            "value": "Downloading: 100%"
          }
        },
        "c9307ea12e924bc592fb51a0df0dbd48": {
          "model_module": "@jupyter-widgets/controls",
          "model_name": "FloatProgressModel",
          "model_module_version": "1.5.0",
          "state": {
            "_dom_classes": [],
            "_model_module": "@jupyter-widgets/controls",
            "_model_module_version": "1.5.0",
            "_model_name": "FloatProgressModel",
            "_view_count": null,
            "_view_module": "@jupyter-widgets/controls",
            "_view_module_version": "1.5.0",
            "_view_name": "ProgressView",
            "bar_style": "success",
            "description": "",
            "description_tooltip": null,
            "layout": "IPY_MODEL_069b0f69bff24a64829fc18a9a37f10d",
            "max": 229,
            "min": 0,
            "orientation": "horizontal",
            "style": "IPY_MODEL_dddc947acf2649ab8c4b2cc64bd66cd5",
            "value": 229
          }
        },
        "17015298c53c437d987a20af6ac07a6d": {
          "model_module": "@jupyter-widgets/controls",
          "model_name": "HTMLModel",
          "model_module_version": "1.5.0",
          "state": {
            "_dom_classes": [],
            "_model_module": "@jupyter-widgets/controls",
            "_model_module_version": "1.5.0",
            "_model_name": "HTMLModel",
            "_view_count": null,
            "_view_module": "@jupyter-widgets/controls",
            "_view_module_version": "1.5.0",
            "_view_name": "HTMLView",
            "description": "",
            "description_tooltip": null,
            "layout": "IPY_MODEL_7546a02ca5bc4eab9fa687def4ee8fdf",
            "placeholder": "​",
            "style": "IPY_MODEL_56a85037f6e64636b9626b226b7d34c4",
            "value": " 229/229 [00:00&lt;00:00, 16.5kB/s]"
          }
        },
        "20fd7ecb93024176820254c632d1c467": {
          "model_module": "@jupyter-widgets/base",
          "model_name": "LayoutModel",
          "model_module_version": "1.2.0",
          "state": {
            "_model_module": "@jupyter-widgets/base",
            "_model_module_version": "1.2.0",
            "_model_name": "LayoutModel",
            "_view_count": null,
            "_view_module": "@jupyter-widgets/base",
            "_view_module_version": "1.2.0",
            "_view_name": "LayoutView",
            "align_content": null,
            "align_items": null,
            "align_self": null,
            "border": null,
            "bottom": null,
            "display": null,
            "flex": null,
            "flex_flow": null,
            "grid_area": null,
            "grid_auto_columns": null,
            "grid_auto_flow": null,
            "grid_auto_rows": null,
            "grid_column": null,
            "grid_gap": null,
            "grid_row": null,
            "grid_template_areas": null,
            "grid_template_columns": null,
            "grid_template_rows": null,
            "height": null,
            "justify_content": null,
            "justify_items": null,
            "left": null,
            "margin": null,
            "max_height": null,
            "max_width": null,
            "min_height": null,
            "min_width": null,
            "object_fit": null,
            "object_position": null,
            "order": null,
            "overflow": null,
            "overflow_x": null,
            "overflow_y": null,
            "padding": null,
            "right": null,
            "top": null,
            "visibility": null,
            "width": null
          }
        },
        "7f77fa10173e469b9085f17c8b169d6f": {
          "model_module": "@jupyter-widgets/base",
          "model_name": "LayoutModel",
          "model_module_version": "1.2.0",
          "state": {
            "_model_module": "@jupyter-widgets/base",
            "_model_module_version": "1.2.0",
            "_model_name": "LayoutModel",
            "_view_count": null,
            "_view_module": "@jupyter-widgets/base",
            "_view_module_version": "1.2.0",
            "_view_name": "LayoutView",
            "align_content": null,
            "align_items": null,
            "align_self": null,
            "border": null,
            "bottom": null,
            "display": null,
            "flex": null,
            "flex_flow": null,
            "grid_area": null,
            "grid_auto_columns": null,
            "grid_auto_flow": null,
            "grid_auto_rows": null,
            "grid_column": null,
            "grid_gap": null,
            "grid_row": null,
            "grid_template_areas": null,
            "grid_template_columns": null,
            "grid_template_rows": null,
            "height": null,
            "justify_content": null,
            "justify_items": null,
            "left": null,
            "margin": null,
            "max_height": null,
            "max_width": null,
            "min_height": null,
            "min_width": null,
            "object_fit": null,
            "object_position": null,
            "order": null,
            "overflow": null,
            "overflow_x": null,
            "overflow_y": null,
            "padding": null,
            "right": null,
            "top": null,
            "visibility": null,
            "width": null
          }
        },
        "76c2455f0ae0451bac49e485ff6f4fec": {
          "model_module": "@jupyter-widgets/controls",
          "model_name": "DescriptionStyleModel",
          "model_module_version": "1.5.0",
          "state": {
            "_model_module": "@jupyter-widgets/controls",
            "_model_module_version": "1.5.0",
            "_model_name": "DescriptionStyleModel",
            "_view_count": null,
            "_view_module": "@jupyter-widgets/base",
            "_view_module_version": "1.2.0",
            "_view_name": "StyleView",
            "description_width": ""
          }
        },
        "069b0f69bff24a64829fc18a9a37f10d": {
          "model_module": "@jupyter-widgets/base",
          "model_name": "LayoutModel",
          "model_module_version": "1.2.0",
          "state": {
            "_model_module": "@jupyter-widgets/base",
            "_model_module_version": "1.2.0",
            "_model_name": "LayoutModel",
            "_view_count": null,
            "_view_module": "@jupyter-widgets/base",
            "_view_module_version": "1.2.0",
            "_view_name": "LayoutView",
            "align_content": null,
            "align_items": null,
            "align_self": null,
            "border": null,
            "bottom": null,
            "display": null,
            "flex": null,
            "flex_flow": null,
            "grid_area": null,
            "grid_auto_columns": null,
            "grid_auto_flow": null,
            "grid_auto_rows": null,
            "grid_column": null,
            "grid_gap": null,
            "grid_row": null,
            "grid_template_areas": null,
            "grid_template_columns": null,
            "grid_template_rows": null,
            "height": null,
            "justify_content": null,
            "justify_items": null,
            "left": null,
            "margin": null,
            "max_height": null,
            "max_width": null,
            "min_height": null,
            "min_width": null,
            "object_fit": null,
            "object_position": null,
            "order": null,
            "overflow": null,
            "overflow_x": null,
            "overflow_y": null,
            "padding": null,
            "right": null,
            "top": null,
            "visibility": null,
            "width": null
          }
        },
        "dddc947acf2649ab8c4b2cc64bd66cd5": {
          "model_module": "@jupyter-widgets/controls",
          "model_name": "ProgressStyleModel",
          "model_module_version": "1.5.0",
          "state": {
            "_model_module": "@jupyter-widgets/controls",
            "_model_module_version": "1.5.0",
            "_model_name": "ProgressStyleModel",
            "_view_count": null,
            "_view_module": "@jupyter-widgets/base",
            "_view_module_version": "1.2.0",
            "_view_name": "StyleView",
            "bar_color": null,
            "description_width": ""
          }
        },
        "7546a02ca5bc4eab9fa687def4ee8fdf": {
          "model_module": "@jupyter-widgets/base",
          "model_name": "LayoutModel",
          "model_module_version": "1.2.0",
          "state": {
            "_model_module": "@jupyter-widgets/base",
            "_model_module_version": "1.2.0",
            "_model_name": "LayoutModel",
            "_view_count": null,
            "_view_module": "@jupyter-widgets/base",
            "_view_module_version": "1.2.0",
            "_view_name": "LayoutView",
            "align_content": null,
            "align_items": null,
            "align_self": null,
            "border": null,
            "bottom": null,
            "display": null,
            "flex": null,
            "flex_flow": null,
            "grid_area": null,
            "grid_auto_columns": null,
            "grid_auto_flow": null,
            "grid_auto_rows": null,
            "grid_column": null,
            "grid_gap": null,
            "grid_row": null,
            "grid_template_areas": null,
            "grid_template_columns": null,
            "grid_template_rows": null,
            "height": null,
            "justify_content": null,
            "justify_items": null,
            "left": null,
            "margin": null,
            "max_height": null,
            "max_width": null,
            "min_height": null,
            "min_width": null,
            "object_fit": null,
            "object_position": null,
            "order": null,
            "overflow": null,
            "overflow_x": null,
            "overflow_y": null,
            "padding": null,
            "right": null,
            "top": null,
            "visibility": null,
            "width": null
          }
        },
        "56a85037f6e64636b9626b226b7d34c4": {
          "model_module": "@jupyter-widgets/controls",
          "model_name": "DescriptionStyleModel",
          "model_module_version": "1.5.0",
          "state": {
            "_model_module": "@jupyter-widgets/controls",
            "_model_module_version": "1.5.0",
            "_model_name": "DescriptionStyleModel",
            "_view_count": null,
            "_view_module": "@jupyter-widgets/base",
            "_view_module_version": "1.2.0",
            "_view_name": "StyleView",
            "description_width": ""
          }
        },
        "0519ef0a40f2401eb3d527f1948f52c8": {
          "model_module": "@jupyter-widgets/controls",
          "model_name": "HBoxModel",
          "model_module_version": "1.5.0",
          "state": {
            "_dom_classes": [],
            "_model_module": "@jupyter-widgets/controls",
            "_model_module_version": "1.5.0",
            "_model_name": "HBoxModel",
            "_view_count": null,
            "_view_module": "@jupyter-widgets/controls",
            "_view_module_version": "1.5.0",
            "_view_name": "HBoxView",
            "box_style": "",
            "children": [
              "IPY_MODEL_36008a5f20ef4c8d99b1a18047a2f5b8",
              "IPY_MODEL_e37e4774638c416cb96f1238ec68f955",
              "IPY_MODEL_9d04e1a4453644eaa2c2d9aecd2c32ad"
            ],
            "layout": "IPY_MODEL_c6fcb2eafa804c6b8268ab5964db2b21"
          }
        },
        "36008a5f20ef4c8d99b1a18047a2f5b8": {
          "model_module": "@jupyter-widgets/controls",
          "model_name": "HTMLModel",
          "model_module_version": "1.5.0",
          "state": {
            "_dom_classes": [],
            "_model_module": "@jupyter-widgets/controls",
            "_model_module_version": "1.5.0",
            "_model_name": "HTMLModel",
            "_view_count": null,
            "_view_module": "@jupyter-widgets/controls",
            "_view_module_version": "1.5.0",
            "_view_name": "HTMLView",
            "description": "",
            "description_tooltip": null,
            "layout": "IPY_MODEL_9f4fe0f2db894a30b7241c0c131249fd",
            "placeholder": "​",
            "style": "IPY_MODEL_28153514e5e746469f1329995028b01a",
            "value": "Batches: 100%"
          }
        },
        "e37e4774638c416cb96f1238ec68f955": {
          "model_module": "@jupyter-widgets/controls",
          "model_name": "FloatProgressModel",
          "model_module_version": "1.5.0",
          "state": {
            "_dom_classes": [],
            "_model_module": "@jupyter-widgets/controls",
            "_model_module_version": "1.5.0",
            "_model_name": "FloatProgressModel",
            "_view_count": null,
            "_view_module": "@jupyter-widgets/controls",
            "_view_module_version": "1.5.0",
            "_view_name": "ProgressView",
            "bar_style": "success",
            "description": "",
            "description_tooltip": null,
            "layout": "IPY_MODEL_97e6fb158b6b441dae5845418559109b",
            "max": 329,
            "min": 0,
            "orientation": "horizontal",
            "style": "IPY_MODEL_61d8943ffd124521adec6ae6fa36a497",
            "value": 329
          }
        },
        "9d04e1a4453644eaa2c2d9aecd2c32ad": {
          "model_module": "@jupyter-widgets/controls",
          "model_name": "HTMLModel",
          "model_module_version": "1.5.0",
          "state": {
            "_dom_classes": [],
            "_model_module": "@jupyter-widgets/controls",
            "_model_module_version": "1.5.0",
            "_model_name": "HTMLModel",
            "_view_count": null,
            "_view_module": "@jupyter-widgets/controls",
            "_view_module_version": "1.5.0",
            "_view_name": "HTMLView",
            "description": "",
            "description_tooltip": null,
            "layout": "IPY_MODEL_9f1fe9dc43b548d6a0483102fdd76fe3",
            "placeholder": "​",
            "style": "IPY_MODEL_309189a924454ff393b0e2a2363580f3",
            "value": " 329/329 [00:17&lt;00:00, 50.83it/s]"
          }
        },
        "c6fcb2eafa804c6b8268ab5964db2b21": {
          "model_module": "@jupyter-widgets/base",
          "model_name": "LayoutModel",
          "model_module_version": "1.2.0",
          "state": {
            "_model_module": "@jupyter-widgets/base",
            "_model_module_version": "1.2.0",
            "_model_name": "LayoutModel",
            "_view_count": null,
            "_view_module": "@jupyter-widgets/base",
            "_view_module_version": "1.2.0",
            "_view_name": "LayoutView",
            "align_content": null,
            "align_items": null,
            "align_self": null,
            "border": null,
            "bottom": null,
            "display": null,
            "flex": null,
            "flex_flow": null,
            "grid_area": null,
            "grid_auto_columns": null,
            "grid_auto_flow": null,
            "grid_auto_rows": null,
            "grid_column": null,
            "grid_gap": null,
            "grid_row": null,
            "grid_template_areas": null,
            "grid_template_columns": null,
            "grid_template_rows": null,
            "height": null,
            "justify_content": null,
            "justify_items": null,
            "left": null,
            "margin": null,
            "max_height": null,
            "max_width": null,
            "min_height": null,
            "min_width": null,
            "object_fit": null,
            "object_position": null,
            "order": null,
            "overflow": null,
            "overflow_x": null,
            "overflow_y": null,
            "padding": null,
            "right": null,
            "top": null,
            "visibility": null,
            "width": null
          }
        },
        "9f4fe0f2db894a30b7241c0c131249fd": {
          "model_module": "@jupyter-widgets/base",
          "model_name": "LayoutModel",
          "model_module_version": "1.2.0",
          "state": {
            "_model_module": "@jupyter-widgets/base",
            "_model_module_version": "1.2.0",
            "_model_name": "LayoutModel",
            "_view_count": null,
            "_view_module": "@jupyter-widgets/base",
            "_view_module_version": "1.2.0",
            "_view_name": "LayoutView",
            "align_content": null,
            "align_items": null,
            "align_self": null,
            "border": null,
            "bottom": null,
            "display": null,
            "flex": null,
            "flex_flow": null,
            "grid_area": null,
            "grid_auto_columns": null,
            "grid_auto_flow": null,
            "grid_auto_rows": null,
            "grid_column": null,
            "grid_gap": null,
            "grid_row": null,
            "grid_template_areas": null,
            "grid_template_columns": null,
            "grid_template_rows": null,
            "height": null,
            "justify_content": null,
            "justify_items": null,
            "left": null,
            "margin": null,
            "max_height": null,
            "max_width": null,
            "min_height": null,
            "min_width": null,
            "object_fit": null,
            "object_position": null,
            "order": null,
            "overflow": null,
            "overflow_x": null,
            "overflow_y": null,
            "padding": null,
            "right": null,
            "top": null,
            "visibility": null,
            "width": null
          }
        },
        "28153514e5e746469f1329995028b01a": {
          "model_module": "@jupyter-widgets/controls",
          "model_name": "DescriptionStyleModel",
          "model_module_version": "1.5.0",
          "state": {
            "_model_module": "@jupyter-widgets/controls",
            "_model_module_version": "1.5.0",
            "_model_name": "DescriptionStyleModel",
            "_view_count": null,
            "_view_module": "@jupyter-widgets/base",
            "_view_module_version": "1.2.0",
            "_view_name": "StyleView",
            "description_width": ""
          }
        },
        "97e6fb158b6b441dae5845418559109b": {
          "model_module": "@jupyter-widgets/base",
          "model_name": "LayoutModel",
          "model_module_version": "1.2.0",
          "state": {
            "_model_module": "@jupyter-widgets/base",
            "_model_module_version": "1.2.0",
            "_model_name": "LayoutModel",
            "_view_count": null,
            "_view_module": "@jupyter-widgets/base",
            "_view_module_version": "1.2.0",
            "_view_name": "LayoutView",
            "align_content": null,
            "align_items": null,
            "align_self": null,
            "border": null,
            "bottom": null,
            "display": null,
            "flex": null,
            "flex_flow": null,
            "grid_area": null,
            "grid_auto_columns": null,
            "grid_auto_flow": null,
            "grid_auto_rows": null,
            "grid_column": null,
            "grid_gap": null,
            "grid_row": null,
            "grid_template_areas": null,
            "grid_template_columns": null,
            "grid_template_rows": null,
            "height": null,
            "justify_content": null,
            "justify_items": null,
            "left": null,
            "margin": null,
            "max_height": null,
            "max_width": null,
            "min_height": null,
            "min_width": null,
            "object_fit": null,
            "object_position": null,
            "order": null,
            "overflow": null,
            "overflow_x": null,
            "overflow_y": null,
            "padding": null,
            "right": null,
            "top": null,
            "visibility": null,
            "width": null
          }
        },
        "61d8943ffd124521adec6ae6fa36a497": {
          "model_module": "@jupyter-widgets/controls",
          "model_name": "ProgressStyleModel",
          "model_module_version": "1.5.0",
          "state": {
            "_model_module": "@jupyter-widgets/controls",
            "_model_module_version": "1.5.0",
            "_model_name": "ProgressStyleModel",
            "_view_count": null,
            "_view_module": "@jupyter-widgets/base",
            "_view_module_version": "1.2.0",
            "_view_name": "StyleView",
            "bar_color": null,
            "description_width": ""
          }
        },
        "9f1fe9dc43b548d6a0483102fdd76fe3": {
          "model_module": "@jupyter-widgets/base",
          "model_name": "LayoutModel",
          "model_module_version": "1.2.0",
          "state": {
            "_model_module": "@jupyter-widgets/base",
            "_model_module_version": "1.2.0",
            "_model_name": "LayoutModel",
            "_view_count": null,
            "_view_module": "@jupyter-widgets/base",
            "_view_module_version": "1.2.0",
            "_view_name": "LayoutView",
            "align_content": null,
            "align_items": null,
            "align_self": null,
            "border": null,
            "bottom": null,
            "display": null,
            "flex": null,
            "flex_flow": null,
            "grid_area": null,
            "grid_auto_columns": null,
            "grid_auto_flow": null,
            "grid_auto_rows": null,
            "grid_column": null,
            "grid_gap": null,
            "grid_row": null,
            "grid_template_areas": null,
            "grid_template_columns": null,
            "grid_template_rows": null,
            "height": null,
            "justify_content": null,
            "justify_items": null,
            "left": null,
            "margin": null,
            "max_height": null,
            "max_width": null,
            "min_height": null,
            "min_width": null,
            "object_fit": null,
            "object_position": null,
            "order": null,
            "overflow": null,
            "overflow_x": null,
            "overflow_y": null,
            "padding": null,
            "right": null,
            "top": null,
            "visibility": null,
            "width": null
          }
        },
        "309189a924454ff393b0e2a2363580f3": {
          "model_module": "@jupyter-widgets/controls",
          "model_name": "DescriptionStyleModel",
          "model_module_version": "1.5.0",
          "state": {
            "_model_module": "@jupyter-widgets/controls",
            "_model_module_version": "1.5.0",
            "_model_name": "DescriptionStyleModel",
            "_view_count": null,
            "_view_module": "@jupyter-widgets/base",
            "_view_module_version": "1.2.0",
            "_view_name": "StyleView",
            "description_width": ""
          }
        }
      }
    },
    "accelerator": "GPU"
  },
  "cells": [
    {
      "cell_type": "markdown",
      "metadata": {
        "id": "view-in-github",
        "colab_type": "text"
      },
      "source": [
        "<a href=\"https://colab.research.google.com/github/punkmic/Topic-Modeling-Reclame-Aqui/blob/master/Topic_Modeling_with_BERTopic_Reclame_aqui.ipynb\" target=\"_parent\"><img src=\"https://colab.research.google.com/assets/colab-badge.svg\" alt=\"Open In Colab\"/></a>"
      ]
    },
    {
      "cell_type": "markdown",
      "source": [
        "# **Topic Modeling with BERTopic - Reclame Aqui**\n",
        "\n",
        "BERTopic is a topic modeling technique that leverages transformers and a custom class-based TF-IDF to create dense clusters allowing for easily interpretable topics whilst keeping important words in the topic descriptions \n",
        "\n",
        "Reference: (https://maartengr.github.io/BERTopic/index.html)."
      ],
      "metadata": {
        "id": "VG5Z-hvZ9GIZ"
      }
    },
    {
      "cell_type": "markdown",
      "source": [
        "### **Enabling the GPU**\n",
        "\n",
        "We will use the GPU provided by COLAB to accelarate our model training. To enable GPUs for the notebook:\n",
        "1- Navigate to Edit -> Notebook Settings\n",
        "2- Select GPU from the Hardware Accelerator drop-down"
      ],
      "metadata": {
        "id": "W_0vnbvROpuu"
      }
    },
    {
      "cell_type": "code",
      "source": [
        "# verify if GPU is enable\n",
        "gpu_info = !nvidia-smi\n",
        "gpu_info = '\\n'.join(gpu_info)\n",
        "if gpu_info.find('failed') >= 0:\n",
        "  print('Not connected to a GPU')\n",
        "else:\n",
        "  print(gpu_info)"
      ],
      "metadata": {
        "id": "gj08UQrDOqW2",
        "colab": {
          "base_uri": "https://localhost:8080/"
        },
        "outputId": "8f440935-4a6c-47f6-f2a9-09e2b0ee6000"
      },
      "execution_count": 6,
      "outputs": [
        {
          "output_type": "stream",
          "name": "stdout",
          "text": [
            "Mon Jan  9 19:45:01 2023       \n",
            "+-----------------------------------------------------------------------------+\n",
            "| NVIDIA-SMI 460.32.03    Driver Version: 460.32.03    CUDA Version: 11.2     |\n",
            "|-------------------------------+----------------------+----------------------+\n",
            "| GPU  Name        Persistence-M| Bus-Id        Disp.A | Volatile Uncorr. ECC |\n",
            "| Fan  Temp  Perf  Pwr:Usage/Cap|         Memory-Usage | GPU-Util  Compute M. |\n",
            "|                               |                      |               MIG M. |\n",
            "|===============================+======================+======================|\n",
            "|   0  Tesla T4            Off  | 00000000:00:04.0 Off |                    0 |\n",
            "| N/A   62C    P0    30W /  70W |      0MiB / 15109MiB |      0%      Default |\n",
            "|                               |                      |                  N/A |\n",
            "+-------------------------------+----------------------+----------------------+\n",
            "                                                                               \n",
            "+-----------------------------------------------------------------------------+\n",
            "| Processes:                                                                  |\n",
            "|  GPU   GI   CI        PID   Type   Process name                  GPU Memory |\n",
            "|        ID   ID                                                   Usage      |\n",
            "|=============================================================================|\n",
            "|  No running processes found                                                 |\n",
            "+-----------------------------------------------------------------------------+\n"
          ]
        }
      ]
    },
    {
      "cell_type": "markdown",
      "source": [
        "### **Setup**"
      ],
      "metadata": {
        "id": "eXD8VBix7DD1"
      }
    },
    {
      "cell_type": "code",
      "source": [
        "%%capture\n",
        "!pip install pyspellchecker\n",
        "!pip install bertopic\n",
        "!pip install kaleido # for save BERTopic plots as image"
      ],
      "metadata": {
        "id": "csLlF-UUb2il"
      },
      "execution_count": 7,
      "outputs": []
    },
    {
      "cell_type": "code",
      "execution_count": 8,
      "metadata": {
        "id": "CQ0hDdDm6gtj"
      },
      "outputs": [],
      "source": [
        "import pandas as pd # for data manipulation\n",
        "import os # for interacting with the operating system\n",
        "import nltk # for natural language processing\n",
        "import string # for string manipulation\n",
        "import re # for for regular expressions\n",
        "import matplotlib.pyplot as plt # for visualization\n",
        "import spacy # for lemmatize portuguese text\n",
        "from bertopic import BERTopic # for topic modeling\n",
        "from spellchecker import SpellChecker # for spell check"
      ]
    },
    {
      "cell_type": "code",
      "source": [
        "%%capture\n",
        "# Install spacy pt_core_news_sm for portuguese text\n",
        "!python -m spacy download pt_core_news_sm"
      ],
      "metadata": {
        "id": "dafLrQKmvlGD"
      },
      "execution_count": 9,
      "outputs": []
    },
    {
      "cell_type": "code",
      "source": [
        "nltk.download(\"punkt\")"
      ],
      "metadata": {
        "id": "BvRCi7Cvp0G6",
        "colab": {
          "base_uri": "https://localhost:8080/"
        },
        "outputId": "fb31dec4-3c3c-41e2-9bff-2de1b3644902"
      },
      "execution_count": 10,
      "outputs": [
        {
          "output_type": "stream",
          "name": "stderr",
          "text": [
            "[nltk_data] Downloading package punkt to /root/nltk_data...\n",
            "[nltk_data]   Unzipping tokenizers/punkt.zip.\n"
          ]
        },
        {
          "output_type": "execute_result",
          "data": {
            "text/plain": [
              "True"
            ]
          },
          "metadata": {},
          "execution_count": 10
        }
      ]
    },
    {
      "cell_type": "code",
      "source": [
        "# Download dataset with stopwords\n",
        "nltk.download(\"stopwords\")"
      ],
      "metadata": {
        "id": "JAvaPg5ep3Df",
        "colab": {
          "base_uri": "https://localhost:8080/"
        },
        "outputId": "7908184b-b11a-412a-8d76-a5536544fa60"
      },
      "execution_count": 11,
      "outputs": [
        {
          "output_type": "stream",
          "name": "stderr",
          "text": [
            "[nltk_data] Downloading package stopwords to /root/nltk_data...\n",
            "[nltk_data]   Unzipping corpora/stopwords.zip.\n"
          ]
        },
        {
          "output_type": "execute_result",
          "data": {
            "text/plain": [
              "True"
            ]
          },
          "metadata": {},
          "execution_count": 11
        }
      ]
    },
    {
      "cell_type": "code",
      "source": [
        "# Donwload datasets for lemmatization\n",
        "nltk.download('wordnet')\n",
        "nltk.download('omw-1.4')"
      ],
      "metadata": {
        "id": "97RrmPshvcmu",
        "colab": {
          "base_uri": "https://localhost:8080/"
        },
        "outputId": "5ee64abf-7def-46fc-c41a-e2e4362794fd"
      },
      "execution_count": 12,
      "outputs": [
        {
          "output_type": "stream",
          "name": "stderr",
          "text": [
            "[nltk_data] Downloading package wordnet to /root/nltk_data...\n",
            "[nltk_data] Downloading package omw-1.4 to /root/nltk_data...\n"
          ]
        },
        {
          "output_type": "execute_result",
          "data": {
            "text/plain": [
              "True"
            ]
          },
          "metadata": {},
          "execution_count": 12
        }
      ]
    },
    {
      "cell_type": "code",
      "source": [
        "# Donwload dependency need to stem portuguese text\n",
        "nltk.download('rslp')"
      ],
      "metadata": {
        "id": "qn9OrF3EXCNv",
        "colab": {
          "base_uri": "https://localhost:8080/"
        },
        "outputId": "cf7b2078-835c-4666-c1a5-0115df0f6c5c"
      },
      "execution_count": 13,
      "outputs": [
        {
          "output_type": "stream",
          "name": "stderr",
          "text": [
            "[nltk_data] Downloading package rslp to /root/nltk_data...\n",
            "[nltk_data]   Unzipping stemmers/rslp.zip.\n"
          ]
        },
        {
          "output_type": "execute_result",
          "data": {
            "text/plain": [
              "True"
            ]
          },
          "metadata": {},
          "execution_count": 13
        }
      ]
    },
    {
      "cell_type": "markdown",
      "source": [
        "### **Load data from [Github](https://github.com/punkmic/Topic-Modeling-Reclame-Aqui.git)**"
      ],
      "metadata": {
        "id": "EGjKdT4C8RVD"
      }
    },
    {
      "cell_type": "code",
      "source": [
        "#!git clone https://github.com/punkmic/Topic-Modeling-Reclame-Aqui.git"
      ],
      "metadata": {
        "id": "C_yss1JC-8Ou"
      },
      "execution_count": 14,
      "outputs": []
    },
    {
      "cell_type": "code",
      "source": [
        "# Change directory\n",
        "%cd /content/Topic-Modeling-Reclame-Aqui \n",
        "\n",
        "# Update files from remote repository\n",
        "!git pull \n",
        "\n",
        "# Return to work directory\n",
        "%cd ..\n",
        "\n",
        "# Check current directory\n",
        "!pwd"
      ],
      "metadata": {
        "id": "uv3QBnDRHFPv",
        "outputId": "e5524540-66ac-4424-9f7b-c5d7755a1845",
        "colab": {
          "base_uri": "https://localhost:8080/"
        }
      },
      "execution_count": 15,
      "outputs": [
        {
          "output_type": "stream",
          "name": "stdout",
          "text": [
            "/content/Topic-Modeling-Reclame-Aqui\n",
            "Already up to date.\n",
            "/content\n",
            "/content\n"
          ]
        }
      ]
    },
    {
      "cell_type": "code",
      "source": [
        "WORK_DIR = '/content/Topic-Modeling-Reclame-Aqui/'"
      ],
      "metadata": {
        "id": "AXc0CHKwGrm7"
      },
      "execution_count": 134,
      "outputs": []
    },
    {
      "cell_type": "code",
      "source": [
        "def read_data(path_csv, drop_duplicates = True, lower=True):\n",
        " \n",
        "  # use the read_csv method to read csv file\n",
        "  df = pd.read_csv(path_csv)\n",
        "  \n",
        "  if drop_duplicates:\n",
        "    # read and return the CSV file using the read_csv method\n",
        "    print(f\"Shape before remove duplicates: {df.shape}\")\n",
        "\n",
        "    # use the drop_duplicated method to drop duplicates rows\n",
        "    df = df.drop_duplicates(subset=\"text\")\n",
        "\n",
        "    print(f\"Shape after remove duplicates: {df.shape}\")\n",
        "\n",
        "    if lower:\n",
        "      # apply the str.lower() method to each element in the dataframe\n",
        "      df = df.applymap(str.lower)\n",
        "    \n",
        "     # rename columns\n",
        "    df.columns = [\"title\", \"documents\"] \n",
        "\n",
        "    # use the replace() method to replace the string with an empty string\n",
        "    df = df.replace(re.compile('\\[editado pelo reclame aqui\\]|editado pelo reclame aqui|Editado pelo Reclame Aqui'), '')\n",
        "    df = df.replace(re.compile('\\[casas bahia\\]|Casa Bahia|Casas Bahia|casa bahia'), '')\n",
        "    df = df.replace(re.compile('\\[magazine luiza\\]|Magazine luiza|Magazine Luiza| Magazine luizar|Magazine Luizar'), '')\n",
        "    df = df.replace(re.compile('\\[mercado livre\\]|Mercado Livre|Mercado livre'), '')\n",
        "    df = df.replace(re.compile('\\[americana\\]|Ameriacanas|ameriacanas'), '')\n",
        "\n",
        "  return df"
      ],
      "metadata": {
        "id": "F3IoOKARBwVb"
      },
      "execution_count": 16,
      "outputs": []
    },
    {
      "cell_type": "markdown",
      "source": [
        "### **Preprocessing**"
      ],
      "metadata": {
        "id": "drjuwA5yk4YB"
      }
    },
    {
      "cell_type": "markdown",
      "source": [
        "#### **Tokenization**\n",
        "\n",
        "Tokenization aims to breaking text down into its component parts"
      ],
      "metadata": {
        "id": "i9ukWCy8qBOP"
      }
    },
    {
      "cell_type": "code",
      "source": [
        "WORD_TOKENIZER = nltk.tokenize.word_tokenize\n",
        "def tokenize(text):\n",
        "  tokens = [token.strip().lower() for token in WORD_TOKENIZER(text, language=\"portuguese\")]\n",
        " \n",
        "  # set a pattern to detect patterns such as x x, xxx x, xxx xxx\n",
        "  pattern = r\"\\b\\w+\\s+\\w+\\b\"\n",
        " \n",
        "  # filter tokens by pattern\n",
        "  filtered_words = [word for word in tokens if re.search(pattern, word)]\n",
        "\n",
        "  # return token if not in filter list\n",
        "  return [token for token in tokens if token not in filtered_words]"
      ],
      "metadata": {
        "id": "k_f8hsxJk7v4"
      },
      "execution_count": 17,
      "outputs": []
    },
    {
      "cell_type": "markdown",
      "source": [
        "#### **Stem** \n",
        "\n",
        "Stem the tokens. This step aims to remove morphological affixes and normalize to standardized stem forms"
      ],
      "metadata": {
        "id": "Lm7V--yMq98r"
      }
    },
    {
      "cell_type": "code",
      "source": [
        "STEMMER = nltk.stem.RSLPStemmer()\n",
        "def stem(tokens):\n",
        "  return [STEMMER.stem(token) for token in tokens]"
      ],
      "metadata": {
        "id": "TphgFQIxrPMM"
      },
      "execution_count": 18,
      "outputs": []
    },
    {
      "cell_type": "markdown",
      "source": [
        "#### **Lemmatize**\n",
        "\n",
        "Lemmatize the tokens. Retains more natural forms than stemming, but assumes all tokens nons unless tokens are passed as (word, pos) tuples. Note: nltk lemmatize does not suport portugues language"
      ],
      "metadata": {
        "id": "RTiUcqzrrdiX"
      }
    },
    {
      "cell_type": "code",
      "source": [
        "LEMMATIZER = nltk.WordNetLemmatizer()\n",
        "\n",
        "def lemmatize(tokens):\n",
        "  lemmas = []\n",
        "  for token in tokens:\n",
        "      if isinstance(token, str):\n",
        "          # treats token like a noun\n",
        "          lemmas.append(LEMMATIZER.lemmatize(token)) \n",
        "      else: \n",
        "          # assume a tuple of (word, pos)\n",
        "          lemmas.append(LEMMATIZER.lemmatize(*token))\n",
        "  return lemmas"
      ],
      "metadata": {
        "id": "4O48ihphrxy3"
      },
      "execution_count": 19,
      "outputs": []
    },
    {
      "cell_type": "markdown",
      "source": [
        "**Lemmatize option for portuguese text**"
      ],
      "metadata": {
        "id": "eHdBPARlU24i"
      }
    },
    {
      "cell_type": "code",
      "source": [
        "# load portuguese model\n",
        "nlp = spacy.load('pt_core_news_sm')\n",
        "\n",
        "def lemmatize_pt(tokens):\n",
        "\n",
        "  # Create a spaCy Doc object and apply the lemmatization\n",
        "  doc = nlp(' '.join(tokens))\n",
        "\n",
        "  # Return lemmatize\n",
        "  return [token.lemma_ for token in doc]"
      ],
      "metadata": {
        "id": "pfgdVUHVU6Zy"
      },
      "execution_count": 20,
      "outputs": []
    },
    {
      "cell_type": "markdown",
      "source": [
        "#### **Remove stopwords**\n",
        "\n",
        "Stop words are things like articles and conjunctions that usually do not offer a lot of value in an analysis."
      ],
      "metadata": {
        "id": "jkLYqJgDs4Xd"
      }
    },
    {
      "cell_type": "code",
      "source": [
        "def remove_stopwords(tokens, stopwords=None, custom_stop_words = None):\n",
        "\n",
        "  if custom_stop_words is None:\n",
        "    custom_stop_words = ['amazon', 'americanas', 'casas bahia', 'magazine luiza', 'shein', 'kabum',\n",
        "                       'samsung', 'mercado livre', 'banco brasil', 'apple', 'magazine', 'luiza', 'luizar',\n",
        "                      'casas', 'bahia', 'casa', 'mercado', 'livre']\n",
        "\n",
        "  # Use the default stop words if none is passed\n",
        "  if stopwords is None:\n",
        "    stopwords = nltk.corpus.stopwords.words('portuguese') + custom_stop_words\n",
        "  \n",
        "  # Filter the list of tokens to exclude the stop word tokens\n",
        "  return [token for token in tokens if token not in stopwords]"
      ],
      "metadata": {
        "id": "D9blZaBYtHgj"
      },
      "execution_count": 21,
      "outputs": []
    },
    {
      "cell_type": "code",
      "source": [
        "custom_stop_words = ['amazon', 'americanas', 'casas bahia', 'magazine luiza', 'shein', 'kabum',\n",
        "                       'samsung', 'mercado livre', 'banco brasil', 'apple', 'magazine', 'luiza', 'luizar',\n",
        "                      'casas', 'bahia', 'casa', 'mercado', 'livre']\n",
        "assert remove_stopwords(['compra', 'echar', 'em esse', 'amazon', 'pude'], custom_stop_words=custom_stop_words) == ['compra', 'echar', 'em esse', 'pude']"
      ],
      "metadata": {
        "id": "-E4DqCin2HDc"
      },
      "execution_count": 22,
      "outputs": []
    },
    {
      "cell_type": "markdown",
      "source": [
        "#### **Remove hyperlinks**\n",
        "\n",
        "Removes http/s links from the tokens."
      ],
      "metadata": {
        "id": "X4qMKyfKtaAW"
      }
    },
    {
      "cell_type": "code",
      "source": [
        "def remove_links(tokens):\n",
        "  # Filter tokens that starts with \"http://\" or \"https://\"\n",
        "  return [token for token in tokens \n",
        "          if not token.startswith(\"http://\")\n",
        "          and not token.startswith(\"https://\")]"
      ],
      "metadata": {
        "id": "LqlMta5qtovS"
      },
      "execution_count": 23,
      "outputs": []
    },
    {
      "cell_type": "code",
      "source": [
        "assert remove_links(['bom', 'http://online', 'https://offline']) == ['bom']"
      ],
      "metadata": {
        "id": "vxvsG7s_6wkd"
      },
      "execution_count": 24,
      "outputs": []
    },
    {
      "cell_type": "markdown",
      "source": [
        "#### **Remove numbers**"
      ],
      "metadata": {
        "id": "EwKFluprz-pW"
      }
    },
    {
      "cell_type": "code",
      "source": [
        "def remove_numbers(tokens):\n",
        "  # Use a regular expression to match words that contain numbers\n",
        "  pattern = r\"\\b\\w*\\d\\w*\\b\"\n",
        "  tokens = [token for token in tokens if not re.sub(pattern, \"\", token) == \"\"]\n",
        "  \n",
        "  # Filter out number tokens using a list comprehension and the isnumeric method\n",
        "  return [token for token in tokens if not token.isnumeric()]"
      ],
      "metadata": {
        "id": "ALKnXv8C0EWu"
      },
      "execution_count": 25,
      "outputs": []
    },
    {
      "cell_type": "code",
      "source": [
        "assert remove_numbers(['ola', 'bicicleta', '1', '2002']) == ['ola', 'bicicleta']"
      ],
      "metadata": {
        "id": "32uzYfBG3cv2"
      },
      "execution_count": 26,
      "outputs": []
    },
    {
      "cell_type": "markdown",
      "source": [
        "#### **Remove date**"
      ],
      "metadata": {
        "id": "a0pZKAQ7ZJHL"
      }
    },
    {
      "cell_type": "code",
      "source": [
        "def remove_date(tokens):\n",
        "  # Compile a regular expression to match dates in the format dd/mm or dd/mm/yyyy\n",
        "  date_regex = re.compile(r'\\d{2}/\\d{2}(/\\d{4})?')\n",
        "\n",
        "  # Use the regex to find all the tokens that match the date pattern\n",
        "  dates = [token for token in tokens if date_regex.fullmatch(token)]\n",
        "\n",
        "  # Filter the list of tokens to exclude the date tokens\n",
        "  filtered_tokens = [token for token in tokens if token not in dates]\n",
        "\n",
        "  # Return the filtered tokens\n",
        "  return filtered_tokens"
      ],
      "metadata": {
        "id": "ywykIjKZctc-"
      },
      "execution_count": 27,
      "outputs": []
    },
    {
      "cell_type": "code",
      "source": [
        "assert remove_date(['texto', 'data', '20/10', 'seguro', '02/09/2014']) == ['texto', 'data', 'seguro']"
      ],
      "metadata": {
        "id": "k6r3cMbB7F3f"
      },
      "execution_count": 28,
      "outputs": []
    },
    {
      "cell_type": "markdown",
      "source": [
        "#### **Remove punctuation**"
      ],
      "metadata": {
        "id": "7y1FqCD1t75_"
      }
    },
    {
      "cell_type": "code",
      "source": [
        "def remove_punctuation(tokens,\n",
        "                       strip_mentions=True,\n",
        "                       strip_hashtags=True):\n",
        "\n",
        "    tokens = [re.sub(r'[^\\w\\s]', '', token) for token in tokens]\n",
        "\n",
        "    # Filter punctuation tokens\n",
        "    tokens = [token.strip() for token in tokens if token not in string.punctuation]\n",
        "\n",
        "    # Remove @ symbol from left side of tokens\n",
        "    if strip_mentions:\n",
        "        tokens = [t.lstrip(r\"([!\\\"#$%&'()*+,-./:;<=>?@[\\]^_`{|}~])\\1+\") for t in tokens]\n",
        "\n",
        "    # Remove # symbol from left side of tokens\n",
        "    if strip_hashtags:\n",
        "        tokens = [t.lstrip(r\"([!\\\"#$%&'()*+,-./:;<=>?@[\\]^_`{|}~])\\1+\") for t in tokens]\n",
        "\n",
        "    return tokens"
      ],
      "metadata": {
        "id": "ba7paG7_uBtS"
      },
      "execution_count": 29,
      "outputs": []
    },
    {
      "cell_type": "code",
      "source": [
        "assert remove_punctuation(['limpo', 'acento/  ///', 'simples???', 'onde', ',']) == ['limpo', 'acento', 'simples', 'onde']"
      ],
      "metadata": {
        "id": "7E8n6Z0l7Xe_"
      },
      "execution_count": 30,
      "outputs": []
    },
    {
      "cell_type": "markdown",
      "source": [
        "#### **Remove short tokens**"
      ],
      "metadata": {
        "id": "SiUx2T8C5YBh"
      }
    },
    {
      "cell_type": "code",
      "source": [
        "def remove_short_tokens(tokens):\n",
        "  # Filter the list of tokens to exclude tokens that are shorter than four letters\n",
        "  filtered_tokens = [token for token in tokens if len(token) >= 4]\n",
        "\n",
        "  # Return the filtered tokens\n",
        "  return filtered_tokens"
      ],
      "metadata": {
        "id": "t8SOwNYW6QI1"
      },
      "execution_count": 31,
      "outputs": []
    },
    {
      "cell_type": "code",
      "source": [
        "assert remove_short_tokens(['sair', 'um', 'correto', 'igual', 'oi', 'de', 'em']) == ['sair', 'correto', 'igual']"
      ],
      "metadata": {
        "id": "GTF9de9N7uFK"
      },
      "execution_count": 32,
      "outputs": []
    },
    {
      "cell_type": "markdown",
      "source": [
        "#### **Correction of spelling errors**"
      ],
      "metadata": {
        "id": "WqtOisN38pZP"
      }
    },
    {
      "cell_type": "code",
      "source": [
        "# Create a SpellChecker object\n",
        "spell = SpellChecker(language='pt')\n",
        "\n",
        "def check_spell_errors(text):\n",
        "  result = []\n",
        "  for token in text:\n",
        "    # Correct the spelling errors in the text\n",
        "    corrected_text = spell.correction(token)\n",
        "\n",
        "    # If no correction is present user the original text\n",
        "    if corrected_text == None:\n",
        "      corrected_text =  token\n",
        "  \n",
        "    result.append(corrected_text)\n",
        "  # Return the corrected text\n",
        "  return result"
      ],
      "metadata": {
        "id": "fUTiJYc_8hba"
      },
      "execution_count": 33,
      "outputs": []
    },
    {
      "cell_type": "markdown",
      "source": [
        "#### **Remove extra white spaces**"
      ],
      "metadata": {
        "id": "ybMjuBaSw67b"
      }
    },
    {
      "cell_type": "code",
      "source": [
        "def remove_whitespace(document):\n",
        "    return  \" \".join(document.split())"
      ],
      "metadata": {
        "id": "3ig6LBnhw_6L"
      },
      "execution_count": 34,
      "outputs": []
    },
    {
      "cell_type": "code",
      "source": [
        "def preprocess(df, colname, custom_process = None, check_spell = False):\n",
        "  df[colname]= df[colname].str.lower()\n",
        "  df[colname]= df[colname].apply(remove_whitespace)\n",
        "\n",
        "  if custom_process is None:\n",
        "    df[colname] = df[colname].apply(tokenize)\n",
        "    if check_spell:\n",
        "      df[colname] = df[colname].apply(check_spell_errors)\n",
        "    df[colname] = df[colname].apply(remove_links)\n",
        "    df[colname] = df[colname].apply(remove_punctuation)\n",
        "    df[colname] = df[colname].apply(remove_numbers)\n",
        "    df[colname] = df[colname].apply(remove_date)\n",
        "    df[colname] = df[colname].apply(remove_short_tokens)\n",
        "    df[colname] = df[colname].apply(remove_stopwords)\n",
        "    df[colname] = df[colname].apply(lemmatize_pt) \n",
        "    df[colname] = df[colname].apply(lambda x: ' '.join(x))\n",
        "  else:\n",
        "    if 'tokenize' in custom_process:\n",
        "      df[colname] = df[colname].apply(tokenize)\n",
        "    if 'check_spell' in custom_process:\n",
        "      df[colname] = df[colname].apply(check_spell_errors) \n",
        "    if 'remove_links' in custom_process:\n",
        "      df[colname] = df[colname].apply(remove_links)\n",
        "    if 'remove_punctuation' in custom_process:\n",
        "      df[colname] = df[colname].apply(remove_punctuation)\n",
        "    if 'remove_numbers' in custom_process:\n",
        "      df[colname] = df[colname].apply(remove_numbers)\n",
        "    if 'remove_date' in custom_process:\n",
        "      df[colname] = df[colname].apply(remove_date)\n",
        "    if 'remove_short_tokens' in custom_process:\n",
        "      df[colname] = df[colname].apply(remove_short_tokens)\n",
        "    if 'remove_stopwords' in custom_process:\n",
        "      df[colname] = df[colname].apply(remove_stopwords)\n",
        "    if 'lemmatize' in custom_process:\n",
        "      df[colname] = df[colname].apply(lemmatize_pt)\n",
        "    if 'steam' in custom_process and 'lemmatize' not in custom_process:\n",
        "      df[colname] = df[colname].apply(stem)\n",
        "  return df"
      ],
      "metadata": {
        "id": "Tu75mPgywHwb"
      },
      "execution_count": 35,
      "outputs": []
    },
    {
      "cell_type": "code",
      "source": [
        "def get_data(features):\n",
        "  dfs = {}\n",
        "  # create models for documents and title features\n",
        "  df = None\n",
        "  for feature in features:\n",
        "    if not os.path.exists(WORK_DIR + f'results/dataset/preprocessed/table_{feature}.csv'):\n",
        "\n",
        "      path_csv = WORK_DIR + \"docs.csv\"\n",
        "  \n",
        "      if df is None:\n",
        "        # read data \n",
        "        df = read_data(path_csv)\n",
        "  \n",
        "      # preprocess data\n",
        "      df = preprocess(df, feature)\n",
        "\n",
        "      # Set the path to save \n",
        "      path = WORK_DIR + 'results/dataset/preprocessed/'\n",
        "\n",
        "      # Use makedirs() to create a new directory if it does not exists\n",
        "      if not os.path.exists(path):\n",
        "        os.makedirs(path)\n",
        "\n",
        "      # Save the DataFrame to a CSV file\n",
        "      df.to_csv(path + f'table_{feature}.csv', index=False)\n",
        "      print(f'Dataset saved into {path} directory.')\n",
        "  for feature in features:\n",
        "    df_processed = pd.read_csv(WORK_DIR + f'results/dataset/preprocessed/table_{feature}.csv')\n",
        "    dfs[feature] = df_processed\n",
        "  dfs['raw'] = df\n",
        "  return dfs"
      ],
      "metadata": {
        "id": "73uvqVnafwvQ"
      },
      "execution_count": 36,
      "outputs": []
    },
    {
      "cell_type": "code",
      "source": [
        "features=['title', 'documents']\n",
        "dfs = get_data(features)\n",
        "print(dfs.keys())"
      ],
      "metadata": {
        "colab": {
          "base_uri": "https://localhost:8080/"
        },
        "id": "oo923nmEwgFF",
        "outputId": "c04a6826-7b8a-4c6e-b191-a28ce860f4eb"
      },
      "execution_count": 38,
      "outputs": [
        {
          "output_type": "stream",
          "name": "stdout",
          "text": [
            "Shape before remove duplicates: (12760, 2)\n",
            "Shape after remove duplicates: (10510, 2)\n",
            "Dataset saved into /content/Topic-Modeling-Reclame-Aqui/results/dataset/preprocessed/ directory.\n",
            "Dataset saved into /content/Topic-Modeling-Reclame-Aqui/results/dataset/preprocessed/ directory.\n",
            "dict_keys(['title', 'documents', 'raw'])\n"
          ]
        }
      ]
    },
    {
      "cell_type": "code",
      "source": [
        "DATA_FRAME_FEATURE_NAME = 'raw'\n",
        "\n",
        "docs = list(dfs[DATA_FRAME_FEATURE_NAME]['documents'])\n",
        "print(docs[0:10])"
      ],
      "metadata": {
        "colab": {
          "base_uri": "https://localhost:8080/"
        },
        "id": "xdRUWhqa2hB_",
        "outputId": "30c20ba0-3323-4723-a98e-b54484429985"
      },
      "execution_count": 39,
      "outputs": [
        {
          "output_type": "stream",
          "name": "stdout",
          "text": [
            "['pesquisando bastante novo comprar resolver aguardar semana cliente porque ocorrer vários desconto promoção em esse semana ser assim recebi desconto cashback cupom varia plataforma assim decidir efetuar compra entender melhor custo beneficio ser assim setembro recebi oferta produto entendi preço além cachback efetuei comprar aguardei semana consumidor efetuar todo expectativa estavar ancioso estar dentro prazo entregar hoje resolver enviar mensagem perguntar pedir enviar após confirmação comprar pagamento passado dia nenhum retorno complei inclusive site confio tambem assinante surpresa após pedir informação pedir retorno email estar ser cancelar ser nenhum justificativa após dia realização aguardei chegar periodo compro ansiosamente aproveitar desconto produto familia aguardar além cancelar compra produto justificativa empresa tirar todo oportunidade desconto efetuar compra semano consumidor levar dia cancelar sinto extremamente empresa sempre acreditar aguardo satisfação reparação transtorno sofrer hoje com si comprar produto valor próximo', 'sinceramente decepcionar entrar contato procon hoje informar marcar audiência conciliação porque amozan responder solicitação esclarecimento procon procon importar fazer somente querer contar produto vender estoque cancelar satisfação algunhar total falta respeito consumidor fazer sair criança recém nascir desistir direito em esse audiência assim', 'cancelei plano antes terminar período testir grátis pois gostar plataforma segundo cobr fatura dois mês assinar contando gratuito caso resolr problema ir entrar processo contra tentar contato onde conversar retornar maisengraçar contratar poder qualquer pessoa precisar ficar vir reclamar outro local respondar agora cancelar nenhum canal atendimento funcionar', 'olhar compra vir errar vir errar novamente falar mariano pensar entendir problema falei escolher desodorante cinca vir verde errar agora vir verde novamente acreditar', 'inscrevi realizar venda Brasil cadastro plano individual cobrar apenas real venda realizar por surpresa conseguir finalizar recebi mensagem nubank realizar pagamento valor dolar real realizei encerramento contar abri afim evitar cobrança por consigo contato saber faço receber reembolsolembrar autorizei interesse plano global vender querer apenas vender brasil pagar plano real vendafico aguardo soluçao', 'pedido chegar cancelar compra site linkr solicitar reembolsosobre devolução dinheiro entregar pedir dar necessita judicial', 'compra xaropurer kaly gengibre status informar entregue acontecer', 'setembro solicitei devolução coleto após algum dia cancelar solicitar novamente presente data reembolsar sabese atendimento chat central saber dizer resolver', 'compra smart loja oficial efacil algum dia pedir cancelar informar pedir cancelar efacil nenhum motivo pedir ser aprovar cartão querer cumprimento ofertar', 'compra echar em esse pude aproveitar promoção site oferecer echo compr prazo grande quase mês previsão primeiro quinzena outubro porém hoje recebi email avisar cancelamento compra primeiro experiência preter outro esperar todo tempo produto demorar avisar cancelamento chancer aproveitar consumidor tiveno prejudicar péssimo experiência']\n"
          ]
        }
      ]
    },
    {
      "cell_type": "markdown",
      "source": [
        "## **Training a BERTopic Model**\n",
        "\n",
        "The BERTopic algorithm has several advantages over other topic modeling algorithms. It is able to handle sparse data, it is scalable to large datasets, and it is able to learn topics that are not well-defined or are overlapping.\n",
        "\n",
        "As our data language is portuguese we will going to set language to multilingual."
      ],
      "metadata": {
        "id": "AWmOFQ3VOD05"
      }
    },
    {
      "cell_type": "markdown",
      "source": [
        "Create a new BERTopic model and train it. By default BERTopic use the paraphrase-multilingual-MiniLM-L12-v2 model for multi language documents. For others model check here [BERTopic sentence transformers](https://maartengr.github.io/BERTopic/getting_started/embeddings/embeddings.html#sentence-transformers)"
      ],
      "metadata": {
        "id": "_mBsnRnhgbm9"
      }
    },
    {
      "cell_type": "code",
      "source": [
        "# Create a new BERTopic model using multilingual option\n",
        "topic_model = BERTopic(language=\"multilingual\", calculate_probabilities=True, verbose=True)\n",
        "\n",
        "# Train model \n",
        "topics, probs = topic_model.fit_transform(docs)"
      ],
      "metadata": {
        "id": "B0EFqnutN2Y9",
        "outputId": "06fd6627-eb57-4f38-c352-99a53dbbeb49",
        "colab": {
          "base_uri": "https://localhost:8080/",
          "height": 517,
          "referenced_widgets": [
            "c5724d00a171484984ec7dff570f1e09",
            "2f3df96eefd245e5b1d4f480d6506d27",
            "0f9bc76cca79484f9805b6182cbbc129",
            "21c4ed129ae34974ae056b52792a7fff",
            "0944bb33aa084e52baa3aa12ad07cc77",
            "0a6e17afb52e46aaa86eca7b2d1fa742",
            "7fb4b0dd43ef4a20a76ea0db1f8f0583",
            "52f70fcb0b494d9092d4da008dad6f61",
            "eb5c3160c0aa4056a6cbbf34852b7223",
            "e00fcfeda0dd41379f2b270994f94746",
            "e8bb3a00d0364ea2b3bc64ad1112eefb",
            "04332299a72d45f4bf633cca7664dae2",
            "1018fab7b3104296ae5512a3997aa4e3",
            "253a0b1d6138454592c55cac9d3ce01c",
            "97ba966d9ceb43f6840acb50b8457db1",
            "04e17e56ffcb46d9a5fa883243191d10",
            "f01c83ba9e7b41eca683cd46b635d827",
            "7adf573a01b44541a8a8a60f70789707",
            "640f79ec57ad4c2396d50960b13df2a5",
            "5a9c4196eefd4a17b0cda001fcb95b43",
            "b0d90f6ed8594cedad60bbc80be4b2bd",
            "32177e3862b2496aa0675e06dda4b24d",
            "a0589c0896d6451e80cf325aef8846d1",
            "6afdf47cb8394b45afc2facb15397ebc",
            "70908a9c1e704f808eb21e7c4555a541",
            "e272334b04484ea29c0b06c8d62ea42e",
            "0892bb5520364f8ea49e8be40910b915",
            "2383ce7e25ca4b7a96f2759c08eed0c0",
            "0d8936424d764ece89e896cc1ffed03a",
            "ea016b524c384648b2592b4c0161a4ae",
            "c68da15facb14c05a0ef98e0f19feba9",
            "0b3efd70d775456a9089b7046d843199",
            "2a53c67d8bf34cc9a5a750da7d5614f5",
            "126e23f06cdd47a283d79963ec5a1ff8",
            "d90b6ac372574f14bf47dbe94b03da1f",
            "e68e2e899ed74387a05c7f142c8d6eb2",
            "709a5277af524bc99723eeb5f49352b1",
            "1f4bf66ae7fb41268d3c6add441f854b",
            "802d158cabd64bc382638be818380345",
            "f7bf42e4a1ee4602bf0e39003eab656e",
            "19ce83b321414487b9d5b69f24357f90",
            "3d0c38418e2b4db38869a3b2493d8de2",
            "e181b89be3ba4480a4c660c01ee22240",
            "d089148151574b0ba7cce69a541d3caa",
            "3025b10bf2264d098c722105fd1df8ca",
            "7563a93d3e104c849ea73fc54f43c650",
            "0573577d356e4d4986d852fe126123cd",
            "cb739d006e184f539653573d9b33f5e0",
            "bd990cd8c4a642a49704c3929b79b6b1",
            "e8c984a2172149c9a23292e773ab0d97",
            "3b3b65167e5942ed8b071357708bdb0b",
            "7653ee95df3f4f89b7d3ee1cc12438c2",
            "190aa37f790b4779815ecf29521220c3",
            "f020ffc402074f8f88242724973efcb0",
            "8aa5e181f10f4cb7a728f6103dba1e8a",
            "0eb7a8811f6d4bc8b83b23fefbed098d",
            "f64f9842b74f495992a2e59e4003e685",
            "b3ea3ac213344c82b1ad6a8e34282344",
            "a0f5ce90d25f41a7b5e73f5c4fce32e7",
            "2ef4b21bc3c845a9ba9bc5c72142f668",
            "9f423f030c7c490683e8a55349ed132c",
            "c7e76f644c8b425098dacdf3d41b10cc",
            "e766dbc2d306404ba82ecc816cd4edd9",
            "e554658a30b4481ca9ded6f75ff863a5",
            "fd6c8879dd9d42e7ace20723820fe9f6",
            "12a0acaf90a645e58b67008394d41128",
            "d2c5b873f4d649d3bf6e7f1a373ae6be",
            "107ce953f6fb43379b2f8dc4425724d1",
            "e5f944f001c946a5842e157027af17ee",
            "313be27d96874f1489f7df0d3c13cdc6",
            "c13072316dfd46c7af6a25150648878a",
            "1fa66f83541e4d0d8b136a0de6034d08",
            "b41ef9b8c855412991512aa4ae7dce0f",
            "3775b00881f34697b7aac9a586e3adfc",
            "f2849d010aec4368bf14a61db59dfd75",
            "a0d52c5ad6544768969453259d7fad78",
            "e1211df686fd4dabba991db9a30d18b4",
            "68f00aed584641829f9deea9a9949462",
            "2265441820154e73b9f73a47af4ddeaa",
            "92cb85521a00493d9db27b3cd6d02b63",
            "38662a9042f344f9b15ea5c46d9110c0",
            "f794af04447d4cb4aeabe3c6d7065a45",
            "bb317a34e96b42898cc1ff40f5f64b2f",
            "36ce0e8415674ef99db8501533e119b6",
            "cb99c7041e4b448883dd684cdddbb6bd",
            "05a8c71a47e64401b9c01dd871c8d482",
            "36e08fa213a449149989105baecf89f1",
            "9f68e2ec01944d29998dc95ba0c2ce73",
            "b6049a3245864c18b832bf5f10f90a4c",
            "2f38481744324ba3a9642572d5f93e1f",
            "0e13105413e44f9f80e792b640524dc8",
            "75a495a9d4a44c9fa373b9a4dd75425f",
            "ed6bc4797ca4484ca18cb8140baf2679",
            "3b432abd749f4ae0b94666e58c70ce4e",
            "6499192f0d4147309fcac73a828f2b0b",
            "a94e2b7b7e2e44628975d55a333b9fe7",
            "e74a1ee6ff78461c8155c14da5bf37eb",
            "f74512d049684c559a90ad0af2439784",
            "d58797bf4c39415a8104a7b675374040",
            "d90c1c9254fc4961ba7d73697b81afca",
            "26bc652b79934cd4845532f593b99b0c",
            "ede3e61a2c8f4af2bf5d15127b01331c",
            "456ff526f13b4972bbbf1539adc0daca",
            "df3f753fad6d4a29adda47ce0fcf86cd",
            "d892d685ffef4d6590006d6851bd9dda",
            "baf270efda2e4cb5aed4d234096dcc14",
            "40d2b82ea12a439fb42efdcd72485b2f",
            "af18fd88f05f4b9c92a32814183351af",
            "f45cbccf6fd145edb62dabb153d9517e",
            "b9e2a92b9ea24ce7995d17654ae90ed6",
            "555495feba624c6586180ea9a1fba2ce",
            "38592a8ed6dd492a8da409da8d0aa50c",
            "a8107a275937486daa57d5cda69b8bbf",
            "e7884f780c77408598e44f1f7404abae",
            "c76acc94709a44428a58eecf9528b918",
            "e1bf68f8aa5a4bac8aee5a0cd90570c8",
            "de22414ad2704225960339c1f103a57f",
            "4bac482420e0488894060f00bbdb589c",
            "3349227761e345019bb6556855fca1e2",
            "97388b3132d24c6da41f74732350455b",
            "e58a4007a5f645538ee14733ef78d392",
            "c1eb5be1700a460cbf8c266b77a43c2a",
            "9a373fafaec04f618561582db0960936",
            "91ba7763c30f4ff0999f43536a8f2ae7",
            "2c4255be3fc84267ba7b69e177aabe17",
            "cd5732ea197044e4915db73e17754aa2",
            "45e4fcfcee3748eda16851e1ba200a19",
            "abe0e5cd5f1a4c05a1b455dd58c7ebe6",
            "625a13e225004c1dbd61950d56259459",
            "303416cbe53f44e6a49c44995a0a5139",
            "3f4af0b4c0be4cdaa05b779ee7de5a76",
            "2d5b36bbc5ef491c87a23293dce65632",
            "d4ab37575b7d4724807420af694b7b84",
            "db44939d4011402db04f8da0731055b8",
            "c9307ea12e924bc592fb51a0df0dbd48",
            "17015298c53c437d987a20af6ac07a6d",
            "20fd7ecb93024176820254c632d1c467",
            "7f77fa10173e469b9085f17c8b169d6f",
            "76c2455f0ae0451bac49e485ff6f4fec",
            "069b0f69bff24a64829fc18a9a37f10d",
            "dddc947acf2649ab8c4b2cc64bd66cd5",
            "7546a02ca5bc4eab9fa687def4ee8fdf",
            "56a85037f6e64636b9626b226b7d34c4",
            "0519ef0a40f2401eb3d527f1948f52c8",
            "36008a5f20ef4c8d99b1a18047a2f5b8",
            "e37e4774638c416cb96f1238ec68f955",
            "9d04e1a4453644eaa2c2d9aecd2c32ad",
            "c6fcb2eafa804c6b8268ab5964db2b21",
            "9f4fe0f2db894a30b7241c0c131249fd",
            "28153514e5e746469f1329995028b01a",
            "97e6fb158b6b441dae5845418559109b",
            "61d8943ffd124521adec6ae6fa36a497",
            "9f1fe9dc43b548d6a0483102fdd76fe3",
            "309189a924454ff393b0e2a2363580f3"
          ]
        }
      },
      "execution_count": 40,
      "outputs": [
        {
          "output_type": "display_data",
          "data": {
            "text/plain": [
              "Downloading:   0%|          | 0.00/968 [00:00<?, ?B/s]"
            ],
            "application/vnd.jupyter.widget-view+json": {
              "version_major": 2,
              "version_minor": 0,
              "model_id": "c5724d00a171484984ec7dff570f1e09"
            }
          },
          "metadata": {}
        },
        {
          "output_type": "display_data",
          "data": {
            "text/plain": [
              "Downloading:   0%|          | 0.00/190 [00:00<?, ?B/s]"
            ],
            "application/vnd.jupyter.widget-view+json": {
              "version_major": 2,
              "version_minor": 0,
              "model_id": "04332299a72d45f4bf633cca7664dae2"
            }
          },
          "metadata": {}
        },
        {
          "output_type": "display_data",
          "data": {
            "text/plain": [
              "Downloading:   0%|          | 0.00/3.79k [00:00<?, ?B/s]"
            ],
            "application/vnd.jupyter.widget-view+json": {
              "version_major": 2,
              "version_minor": 0,
              "model_id": "a0589c0896d6451e80cf325aef8846d1"
            }
          },
          "metadata": {}
        },
        {
          "output_type": "display_data",
          "data": {
            "text/plain": [
              "Downloading:   0%|          | 0.00/645 [00:00<?, ?B/s]"
            ],
            "application/vnd.jupyter.widget-view+json": {
              "version_major": 2,
              "version_minor": 0,
              "model_id": "126e23f06cdd47a283d79963ec5a1ff8"
            }
          },
          "metadata": {}
        },
        {
          "output_type": "display_data",
          "data": {
            "text/plain": [
              "Downloading:   0%|          | 0.00/122 [00:00<?, ?B/s]"
            ],
            "application/vnd.jupyter.widget-view+json": {
              "version_major": 2,
              "version_minor": 0,
              "model_id": "3025b10bf2264d098c722105fd1df8ca"
            }
          },
          "metadata": {}
        },
        {
          "output_type": "display_data",
          "data": {
            "text/plain": [
              "Downloading:   0%|          | 0.00/471M [00:00<?, ?B/s]"
            ],
            "application/vnd.jupyter.widget-view+json": {
              "version_major": 2,
              "version_minor": 0,
              "model_id": "0eb7a8811f6d4bc8b83b23fefbed098d"
            }
          },
          "metadata": {}
        },
        {
          "output_type": "display_data",
          "data": {
            "text/plain": [
              "Downloading:   0%|          | 0.00/53.0 [00:00<?, ?B/s]"
            ],
            "application/vnd.jupyter.widget-view+json": {
              "version_major": 2,
              "version_minor": 0,
              "model_id": "d2c5b873f4d649d3bf6e7f1a373ae6be"
            }
          },
          "metadata": {}
        },
        {
          "output_type": "display_data",
          "data": {
            "text/plain": [
              "Downloading:   0%|          | 0.00/5.07M [00:00<?, ?B/s]"
            ],
            "application/vnd.jupyter.widget-view+json": {
              "version_major": 2,
              "version_minor": 0,
              "model_id": "68f00aed584641829f9deea9a9949462"
            }
          },
          "metadata": {}
        },
        {
          "output_type": "display_data",
          "data": {
            "text/plain": [
              "Downloading:   0%|          | 0.00/239 [00:00<?, ?B/s]"
            ],
            "application/vnd.jupyter.widget-view+json": {
              "version_major": 2,
              "version_minor": 0,
              "model_id": "b6049a3245864c18b832bf5f10f90a4c"
            }
          },
          "metadata": {}
        },
        {
          "output_type": "display_data",
          "data": {
            "text/plain": [
              "Downloading:   0%|          | 0.00/9.08M [00:00<?, ?B/s]"
            ],
            "application/vnd.jupyter.widget-view+json": {
              "version_major": 2,
              "version_minor": 0,
              "model_id": "d90c1c9254fc4961ba7d73697b81afca"
            }
          },
          "metadata": {}
        },
        {
          "output_type": "display_data",
          "data": {
            "text/plain": [
              "Downloading:   0%|          | 0.00/480 [00:00<?, ?B/s]"
            ],
            "application/vnd.jupyter.widget-view+json": {
              "version_major": 2,
              "version_minor": 0,
              "model_id": "555495feba624c6586180ea9a1fba2ce"
            }
          },
          "metadata": {}
        },
        {
          "output_type": "display_data",
          "data": {
            "text/plain": [
              "Downloading:   0%|          | 0.00/14.8M [00:00<?, ?B/s]"
            ],
            "application/vnd.jupyter.widget-view+json": {
              "version_major": 2,
              "version_minor": 0,
              "model_id": "c1eb5be1700a460cbf8c266b77a43c2a"
            }
          },
          "metadata": {}
        },
        {
          "output_type": "display_data",
          "data": {
            "text/plain": [
              "Downloading:   0%|          | 0.00/229 [00:00<?, ?B/s]"
            ],
            "application/vnd.jupyter.widget-view+json": {
              "version_major": 2,
              "version_minor": 0,
              "model_id": "d4ab37575b7d4724807420af694b7b84"
            }
          },
          "metadata": {}
        },
        {
          "output_type": "display_data",
          "data": {
            "text/plain": [
              "Batches:   0%|          | 0/329 [00:00<?, ?it/s]"
            ],
            "application/vnd.jupyter.widget-view+json": {
              "version_major": 2,
              "version_minor": 0,
              "model_id": "0519ef0a40f2401eb3d527f1948f52c8"
            }
          },
          "metadata": {}
        },
        {
          "output_type": "stream",
          "name": "stderr",
          "text": [
            "2023-01-09 19:52:43,063 - BERTopic - Transformed documents to Embeddings\n",
            "2023-01-09 19:53:22,656 - BERTopic - Reduced dimensionality\n",
            "2023-01-09 19:53:26,199 - BERTopic - Clustered reduced embeddings\n"
          ]
        }
      ]
    },
    {
      "cell_type": "markdown",
      "source": [
        "BERTopic works in three main steps: \n",
        "\n",
        "\n",
        "1.   Documents are first converted to numeric data. It extracts different embeddings based on the context of the word. For this, a sentence transformation model is used.\n",
        "2.  Documents with similar topics are then grouped together forming clusters with similar topics. For this purpose, BERTopic uses the clustering algorithm UMAP to lower the dimensionality of the embeddings. Then the documents are clustered with the density-based algorithm HDBSCAN.\n",
        "3. BERTopic extracts topics from clusters using a class-based TF-IDF score. This score gives the importance of each word in a cluster. Topics are then created based on the most important words measured by their C-TF-IDF score.\n",
        "\n",
        "For more information check this link [BERTopic](https://towardsdatascience.com/topic-modeling-with-bert-779f7db187e6)\n",
        "\n"
      ],
      "metadata": {
        "id": "vnG5aC6ekXeu"
      }
    },
    {
      "cell_type": "markdown",
      "source": [
        "#### **BERTopic coherence score**"
      ],
      "metadata": {
        "id": "sO7nj4sKER-o"
      }
    },
    {
      "cell_type": "code",
      "source": [
        "from bertopic import BERTopic\n",
        "import gensim.corpora as corpora\n",
        "from gensim.models.coherencemodel import CoherenceModel\n",
        "\n",
        "def get_coherence(model, topics, docs):\n",
        "  # Preprocess Documents\n",
        "  documents = pd.DataFrame({\"Document\": docs,\n",
        "                          \"ID\": range(len(docs)),\n",
        "                          \"Topic\": topics})\n",
        "  documents_per_topic = documents.groupby(['Topic'], as_index=False).agg({'Document': ' '.join})\n",
        "  cleaned_docs = model._preprocess_text(documents_per_topic.Document.values)\n",
        "\n",
        "  # Extract vectorizer and analyzer from BERTopic\n",
        "  vectorizer = model.vectorizer_model\n",
        "  analyzer = vectorizer.build_analyzer()\n",
        "\n",
        "  # Extract features for Topic Coherence evaluation\n",
        "  words = vectorizer.get_feature_names()\n",
        "  tokens = [analyzer(doc) for doc in cleaned_docs]\n",
        "  dictionary = corpora.Dictionary(tokens)\n",
        "  corpus = [dictionary.doc2bow(token) for token in tokens]\n",
        "  topic_words = [[words for words, _ in model.get_topic(topic)] \n",
        "               for topic in range(len(set(topics))-1)]\n",
        "\n",
        "  # Evaluate\n",
        "  coherence_model = CoherenceModel(topics=topic_words, \n",
        "                                 texts=tokens, \n",
        "                                 corpus=corpus,\n",
        "                                 dictionary=dictionary, \n",
        "                                 coherence='c_v')\n",
        "  coherence = coherence_model.get_coherence()\n",
        "  return coherence"
      ],
      "metadata": {
        "id": "4i-8_eIQDWMS"
      },
      "execution_count": 41,
      "outputs": []
    },
    {
      "cell_type": "code",
      "source": [
        "print(f\"Coeherence score: {get_coherence(topic_model, topics, docs)}\")"
      ],
      "metadata": {
        "id": "bGCBVYq7EX8h",
        "outputId": "343ce543-3112-49e3-f649-24bcc11caa7e",
        "colab": {
          "base_uri": "https://localhost:8080/"
        }
      },
      "execution_count": 42,
      "outputs": [
        {
          "output_type": "stream",
          "name": "stdout",
          "text": [
            "Coeherence score: 0.5050490648264276\n"
          ]
        }
      ]
    },
    {
      "cell_type": "markdown",
      "source": [
        "### **Extracting Topics**"
      ],
      "metadata": {
        "id": "GimKIMmaRZSd"
      }
    },
    {
      "cell_type": "code",
      "source": [
        "# Print the most frequent topics\n",
        "freq = topic_model.get_topic_info()\n",
        "\n",
        "# Show the top 5 most frequent topics\n",
        "freq.head(5)"
      ],
      "metadata": {
        "id": "JIrBNmF-Rcf0",
        "outputId": "9a8a846d-9eeb-4ce1-d423-16b07d4c48ea",
        "colab": {
          "base_uri": "https://localhost:8080/",
          "height": 206
        }
      },
      "execution_count": 43,
      "outputs": [
        {
          "output_type": "execute_result",
          "data": {
            "text/plain": [
              "   Topic  Count                                     Name\n",
              "0     -1   5025         -1_entregar_produto_pedir_compra\n",
              "1      0    611         0_cartão_crédito_cobrar_cobrança\n",
              "2      1    498    1_celular_aparelho_smartphone_comprar\n",
              "3      2    300  2_cancelamento_cancelar_pedir_solicitei\n",
              "4      3    261  3_whatsapp_contato_entregar_atendimento"
            ],
            "text/html": [
              "\n",
              "  <div id=\"df-a33a0b81-c8a9-44d0-94e8-4915c5bc9426\">\n",
              "    <div class=\"colab-df-container\">\n",
              "      <div>\n",
              "<style scoped>\n",
              "    .dataframe tbody tr th:only-of-type {\n",
              "        vertical-align: middle;\n",
              "    }\n",
              "\n",
              "    .dataframe tbody tr th {\n",
              "        vertical-align: top;\n",
              "    }\n",
              "\n",
              "    .dataframe thead th {\n",
              "        text-align: right;\n",
              "    }\n",
              "</style>\n",
              "<table border=\"1\" class=\"dataframe\">\n",
              "  <thead>\n",
              "    <tr style=\"text-align: right;\">\n",
              "      <th></th>\n",
              "      <th>Topic</th>\n",
              "      <th>Count</th>\n",
              "      <th>Name</th>\n",
              "    </tr>\n",
              "  </thead>\n",
              "  <tbody>\n",
              "    <tr>\n",
              "      <th>0</th>\n",
              "      <td>-1</td>\n",
              "      <td>5025</td>\n",
              "      <td>-1_entregar_produto_pedir_compra</td>\n",
              "    </tr>\n",
              "    <tr>\n",
              "      <th>1</th>\n",
              "      <td>0</td>\n",
              "      <td>611</td>\n",
              "      <td>0_cartão_crédito_cobrar_cobrança</td>\n",
              "    </tr>\n",
              "    <tr>\n",
              "      <th>2</th>\n",
              "      <td>1</td>\n",
              "      <td>498</td>\n",
              "      <td>1_celular_aparelho_smartphone_comprar</td>\n",
              "    </tr>\n",
              "    <tr>\n",
              "      <th>3</th>\n",
              "      <td>2</td>\n",
              "      <td>300</td>\n",
              "      <td>2_cancelamento_cancelar_pedir_solicitei</td>\n",
              "    </tr>\n",
              "    <tr>\n",
              "      <th>4</th>\n",
              "      <td>3</td>\n",
              "      <td>261</td>\n",
              "      <td>3_whatsapp_contato_entregar_atendimento</td>\n",
              "    </tr>\n",
              "  </tbody>\n",
              "</table>\n",
              "</div>\n",
              "      <button class=\"colab-df-convert\" onclick=\"convertToInteractive('df-a33a0b81-c8a9-44d0-94e8-4915c5bc9426')\"\n",
              "              title=\"Convert this dataframe to an interactive table.\"\n",
              "              style=\"display:none;\">\n",
              "        \n",
              "  <svg xmlns=\"http://www.w3.org/2000/svg\" height=\"24px\"viewBox=\"0 0 24 24\"\n",
              "       width=\"24px\">\n",
              "    <path d=\"M0 0h24v24H0V0z\" fill=\"none\"/>\n",
              "    <path d=\"M18.56 5.44l.94 2.06.94-2.06 2.06-.94-2.06-.94-.94-2.06-.94 2.06-2.06.94zm-11 1L8.5 8.5l.94-2.06 2.06-.94-2.06-.94L8.5 2.5l-.94 2.06-2.06.94zm10 10l.94 2.06.94-2.06 2.06-.94-2.06-.94-.94-2.06-.94 2.06-2.06.94z\"/><path d=\"M17.41 7.96l-1.37-1.37c-.4-.4-.92-.59-1.43-.59-.52 0-1.04.2-1.43.59L10.3 9.45l-7.72 7.72c-.78.78-.78 2.05 0 2.83L4 21.41c.39.39.9.59 1.41.59.51 0 1.02-.2 1.41-.59l7.78-7.78 2.81-2.81c.8-.78.8-2.07 0-2.86zM5.41 20L4 18.59l7.72-7.72 1.47 1.35L5.41 20z\"/>\n",
              "  </svg>\n",
              "      </button>\n",
              "      \n",
              "  <style>\n",
              "    .colab-df-container {\n",
              "      display:flex;\n",
              "      flex-wrap:wrap;\n",
              "      gap: 12px;\n",
              "    }\n",
              "\n",
              "    .colab-df-convert {\n",
              "      background-color: #E8F0FE;\n",
              "      border: none;\n",
              "      border-radius: 50%;\n",
              "      cursor: pointer;\n",
              "      display: none;\n",
              "      fill: #1967D2;\n",
              "      height: 32px;\n",
              "      padding: 0 0 0 0;\n",
              "      width: 32px;\n",
              "    }\n",
              "\n",
              "    .colab-df-convert:hover {\n",
              "      background-color: #E2EBFA;\n",
              "      box-shadow: 0px 1px 2px rgba(60, 64, 67, 0.3), 0px 1px 3px 1px rgba(60, 64, 67, 0.15);\n",
              "      fill: #174EA6;\n",
              "    }\n",
              "\n",
              "    [theme=dark] .colab-df-convert {\n",
              "      background-color: #3B4455;\n",
              "      fill: #D2E3FC;\n",
              "    }\n",
              "\n",
              "    [theme=dark] .colab-df-convert:hover {\n",
              "      background-color: #434B5C;\n",
              "      box-shadow: 0px 1px 3px 1px rgba(0, 0, 0, 0.15);\n",
              "      filter: drop-shadow(0px 1px 2px rgba(0, 0, 0, 0.3));\n",
              "      fill: #FFFFFF;\n",
              "    }\n",
              "  </style>\n",
              "\n",
              "      <script>\n",
              "        const buttonEl =\n",
              "          document.querySelector('#df-a33a0b81-c8a9-44d0-94e8-4915c5bc9426 button.colab-df-convert');\n",
              "        buttonEl.style.display =\n",
              "          google.colab.kernel.accessAllowed ? 'block' : 'none';\n",
              "\n",
              "        async function convertToInteractive(key) {\n",
              "          const element = document.querySelector('#df-a33a0b81-c8a9-44d0-94e8-4915c5bc9426');\n",
              "          const dataTable =\n",
              "            await google.colab.kernel.invokeFunction('convertToInteractive',\n",
              "                                                     [key], {});\n",
              "          if (!dataTable) return;\n",
              "\n",
              "          const docLinkHtml = 'Like what you see? Visit the ' +\n",
              "            '<a target=\"_blank\" href=https://colab.research.google.com/notebooks/data_table.ipynb>data table notebook</a>'\n",
              "            + ' to learn more about interactive tables.';\n",
              "          element.innerHTML = '';\n",
              "          dataTable['output_type'] = 'display_data';\n",
              "          await google.colab.output.renderOutput(dataTable, element);\n",
              "          const docLink = document.createElement('div');\n",
              "          docLink.innerHTML = docLinkHtml;\n",
              "          element.appendChild(docLink);\n",
              "        }\n",
              "      </script>\n",
              "    </div>\n",
              "  </div>\n",
              "  "
            ]
          },
          "metadata": {},
          "execution_count": 43
        }
      ]
    },
    {
      "cell_type": "markdown",
      "source": [
        "The table above shows the five most freqeuente topics and the words present on it extract by BERTopic. -1 refers to all outliers and should be ignored."
      ],
      "metadata": {
        "id": "TVWcfF5mRrMy"
      }
    },
    {
      "cell_type": "code",
      "source": [
        "# show the most frequent topic\n",
        "topic_model.get_topic(0)"
      ],
      "metadata": {
        "id": "Br_UMf1kRxU3",
        "outputId": "fb0b86a3-102c-4eb6-941b-71d52b8e8ce4",
        "colab": {
          "base_uri": "https://localhost:8080/"
        }
      },
      "execution_count": 44,
      "outputs": [
        {
          "output_type": "execute_result",
          "data": {
            "text/plain": [
              "[('cartão', 0.05688374054075061),\n",
              " ('crédito', 0.02962023057550382),\n",
              " ('cobrar', 0.01891031458742223),\n",
              " ('cobrança', 0.018713831726087895),\n",
              " ('fatura', 0.017916486382023058),\n",
              " ('compra', 0.016871480648145372),\n",
              " ('valor', 0.016825356762886295),\n",
              " ('assinatura', 0.01561669854195153),\n",
              " ('pagamento', 0.014798557140072433),\n",
              " ('contar', 0.013791023034168189)]"
            ]
          },
          "metadata": {},
          "execution_count": 44
        }
      ]
    },
    {
      "cell_type": "markdown",
      "source": [
        "**Note:** BERTopic is stocastich which means that the topics might differ across runs this is mostly due to the stocastisch nature of UMAP"
      ],
      "metadata": {
        "id": "YpP4HgF2R6Wa"
      }
    },
    {
      "cell_type": "markdown",
      "source": [
        "#### **Save topic info table as CSV**"
      ],
      "metadata": {
        "id": "CxWLChzJlPmZ"
      }
    },
    {
      "cell_type": "code",
      "source": [
        "# Set the path to save \n",
        "path = WORK_DIR + f'results/{DATA_FRAME_FEATURE_NAME}/topic_info_tables/'\n",
        "\n",
        "# Use makedirs() to create a new directory if it does not exists\n",
        "if not os.path.exists(path):\n",
        "  os.makedirs(path)\n",
        "\n",
        "# Save table as csv\n",
        "freq.head(10).to_csv(path + 'topic_info_preprocessed_lemma.csv', index=False)"
      ],
      "metadata": {
        "id": "9wM4Ymh_lOdt"
      },
      "execution_count": 45,
      "outputs": []
    },
    {
      "cell_type": "markdown",
      "source": [
        "## **Visualization**"
      ],
      "metadata": {
        "id": "wBsA8hiVSJDY"
      }
    },
    {
      "cell_type": "markdown",
      "source": [
        "### **Intertopic Distance Map**\n",
        "\n",
        "This graph shows the distance intertopic and help us understand the promixity of topics"
      ],
      "metadata": {
        "id": "2twooZDXUc2T"
      }
    },
    {
      "cell_type": "code",
      "source": [
        "fig = topic_model.visualize_topics(width=800, height=800)\n",
        "fig"
      ],
      "metadata": {
        "id": "Ae2JSAENSIOJ",
        "outputId": "e059a7c9-e2e7-40a4-fd8a-e283abd4a988",
        "colab": {
          "base_uri": "https://localhost:8080/",
          "height": 817
        }
      },
      "execution_count": 47,
      "outputs": [
        {
          "output_type": "display_data",
          "data": {
            "text/html": [
              "<html>\n",
              "<head><meta charset=\"utf-8\" /></head>\n",
              "<body>\n",
              "    <div>            <script src=\"https://cdnjs.cloudflare.com/ajax/libs/mathjax/2.7.5/MathJax.js?config=TeX-AMS-MML_SVG\"></script><script type=\"text/javascript\">if (window.MathJax) {MathJax.Hub.Config({SVG: {font: \"STIX-Web\"}});}</script>                <script type=\"text/javascript\">window.PlotlyConfig = {MathJaxConfig: 'local'};</script>\n",
              "        <script src=\"https://cdn.plot.ly/plotly-2.8.3.min.js\"></script>                <div id=\"e1f2a0ba-b21a-4c1e-b6f4-d98e143d317d\" class=\"plotly-graph-div\" style=\"height:800px; width:800px;\"></div>            <script type=\"text/javascript\">                                    window.PLOTLYENV=window.PLOTLYENV || {};                                    if (document.getElementById(\"e1f2a0ba-b21a-4c1e-b6f4-d98e143d317d\")) {                    Plotly.newPlot(                        \"e1f2a0ba-b21a-4c1e-b6f4-d98e143d317d\",                        [{\"customdata\":[[0,\"cart\\u00e3o | cr\\u00e9dito | cobrar | cobran\\u00e7a | fatura\",611],[1,\"celular | aparelho | smartphone | comprar | loja\",498],[2,\"cancelamento | cancelar | pedir | solicitei | cancelei\",300],[3,\"whatsapp | contato | entregar | atendimento | entrar\",261],[4,\"brasil | brasileiro | chegar | pedir | compra\",242],[5,\"endere\\u00e7o | pedir | entregar | remetente | contato\",227],[6,\"novembro | dezembro | outubro | chegar | entregar\",214],[7,\"conta | email | senha | acessar | acesso\",213],[8,\"roupa | vestir | cal\\u00e7a | tamanho | dois\",190],[9,\"loja | magalu | poder | contato | entrar\",165],[10,\"iphone | aparelho | celular | carregador | valor\",143],[11,\"dinheiro | reembolso | voltar | devolver | recebi\",133],[12,\"prazo | atraso | entregar | data | dia\",121],[13,\"black | friday | promo\\u00e7\\u00e3o | oferta | pre\\u00e7o\",116],[14,\"previs\\u00e3o | entregar | prazo | entrega | status\",113],[15,\"geladeira | refrigerador | geladeiro | troca | amassar\",100],[16,\"jogo | lan\\u00e7amento | ragnarok | pr\\u00e9venda | venda\",80],[17,\"reclama\\u00e7\\u00e3o | comprador | produto | vendedor | abrir\",61],[18,\"t\\u00eanis | mizuno | tenis | rack | wave\",60],[19,\"livro | compr | dois | hoje | enviar\",59],[20,\"rastreio | c\\u00f3digo | rastreamento | rastrear | localizar\",57],[21,\"rob\\u00f4 | aspirador | macac\\u00e3o | tentar | suporte\",56],[22,\"amazoncombr | cobran\\u00e7a | digital | cart\\u00e3o | amazonprimebr\",55],[23,\"trip\\u00e9 | pedir | recebi | remetente | entregar\",50],[24,\"gr\\u00e1tis | site | valor | frete | anunciar\",49],[25,\"aplicativo | reembolso | compra | recebi | pagar\",48],[26,\"curitiba | tr\\u00e2nsito | parado | cidade | atualiza\\u00e7\\u00e3o\",47],[27,\"m\\u00e1quina | lavar | roupa | maquina | seca\",47],[28,\"prime | v\\u00eddeo | assinatura | cupom | video\",44],[29,\"juliana_fraga | produto | magalu | m\\u00e1rcia | loja\",43],[30,\"pagamento | paguei | comprovante | pagar | confirma\\u00e7\\u00e3o\",41],[31,\"vir | garrafa | caixa | derramar | danificar\",40],[32,\"foto | c\\u00e2merar | placa | devolu\\u00e7\\u00e3o | c\\u00e2mera\",40],[33,\"notebook | dell | intel | core | loja\",38],[34,\"identidade | pessoa | nunca | liga\\u00e7\\u00e3o | documento\",36],[35,\"televis\\u00e3o | monitor | televisor | assistir | copa\",36],[36,\"produto | compr | constar | desdo | mercadoria\",35],[37,\"china | nacional | correios | chegar | pedir\",34],[38,\"internacional | nacional | processamento | envio | chegar\",34],[39,\"bluetooth | fone | controle | devolu\\u00e7\\u00e3o | projetor\",33],[40,\"devolu\\u00e7\\u00e3o | postagem | correio | solicitei | reembolso\",33],[41,\"entregar | esperar | ligar | entregador | ningu\\u00e9m\",32],[42,\"cashback | valor | extrato | futuro | digital\",32],[43,\"arma | produto | entregar | prazo | informar\",32],[44,\"ningu\\u00e9m | nada | recebi | mensagem | chegar\",31],[45,\"falar | novembro | esperar | dia | entregar\",30],[46,\"bicicleta | capacete | bike | compr | filho\",28],[47,\"facial | reconhecimento | rosto | login | acessar\",27],[48,\"desconto | valor | helena | dinheiro | estorno\",26],[49,\"m\\u00fasica | music | ouvir | tocar | m\\u00fasico\",25],[50,\"sof\\u00e1 | mobly | magalu | reclin\\u00e1vel | tecido\",24],[51,\"amazoncombr | nota | fiscal | rem\\u00e9dio | transportadora\",23],[52,\"pneu | pastilha | pirelli | coleta | dur\\u00e1vel\",23],[53,\"aplicativo | compra | entregar | data | momento\",20],[54,\"echo | microfone | studio | gritar | echar\",18],[55,\"cama | colch\\u00e3o | comprei | pl\\u00e1stico | vir\",18],[56,\"mouse | teclado | combo | logitech | gamer\",18],[57,\"cadeira | pe\\u00e7a | gamer | base | montar\",18],[58,\"liquidificador | oster | tampa | quebrar | compr\",17],[59,\"chat | servi\\u00e7o | ninguem | sugirar | batepapo\",17],[60,\"comiss\\u00e3o | tarefa | miss\\u00e3o | shoptime | yell\",17],[61,\"esposo | marido | evid\\u00eancia | gente | rasura\",16],[62,\"microondas | promessa | dia | assist\\u00eancia | agora\",16],[63,\"cadastral | plano | derrepente | cancelar | contar\",14],[64,\"shampoo | cabelo | natural | metade | boneca\",14],[65,\"forno | el\\u00e9trico | fogao | embutir | vale\",14],[66,\"perfume | refresh | embalagem | comfort | feminino\",14],[67,\"jogo | panelo | fifa | panele | panelas\",13],[68,\"l\\u00e2mpada | lampada | an\\u00fancio | l\\u00e2mpado | positivo\",13],[69,\"pr\\u00e9dio | toke | imail | residencia | hall\",13],[70,\"rastrear | transportadora | rastreio | rastreamento | tranckr\",12],[71,\"https | livelo | wwwamericanasentregacombr | lepsably | ponto\",12],[72,\"amobeleza | compra | site | tentar | agilidade\",12],[73,\"encomenda | loiro | celularaguardo | consuelitar | assinadoproduto\",12],[74,\"ganhar | site | dinheiro | paguei | querer\",11],[75,\"site | constar | inte | based | m\\u00e1ximohoje\",10],[76,\"lembran\\u00e7a | frezer | atrase | temo | atar\",10]],\"hovertemplate\":\"<b>Topic %{customdata[0]}</b><br>Words: %{customdata[1]}<br>Size: %{customdata[2]}\",\"legendgroup\":\"\",\"marker\":{\"color\":\"#B0BEC5\",\"size\":[611,498,300,261,242,227,214,213,190,165,143,133,121,116,113,100,80,61,60,59,57,56,55,50,49,48,47,47,44,43,41,40,40,38,36,36,35,34,34,33,33,32,32,32,31,30,28,27,26,25,24,23,23,20,18,18,18,18,17,17,17,16,16,14,14,14,14,13,13,13,12,12,12,12,11,10,10],\"sizemode\":\"area\",\"sizeref\":0.381875,\"symbol\":\"circle\",\"line\":{\"color\":\"DarkSlateGrey\",\"width\":2}},\"mode\":\"markers\",\"name\":\"\",\"orientation\":\"v\",\"showlegend\":false,\"x\":[4.054047584533691,3.473379611968994,3.9420840740203857,-1.2325072288513184,3.990630626678467,-0.8154283761978149,-6.820629119873047,18.192689895629883,3.945490598678589,3.8876638412475586,4.168858528137207,3.4962971210479736,-1.179017186164856,4.172674655914307,-0.9725797772407532,-1.2976925373077393,-1.0594455003738403,5.734854221343994,5.610169887542725,5.9908766746521,-6.172306060791016,3.8371872901916504,11.040326118469238,8.700210571289062,2.5216598510742188,3.303697347640991,-6.3684539794921875,-3.5578482151031494,11.10955810546875,4.021214962005615,2.375774621963501,3.827523708343506,5.620059490203857,3.9483020305633545,2.517796754837036,7.113712787628174,5.566803932189941,-6.633903503417969,3.06062388420105,-3.718935966491699,5.914463043212891,-1.595311164855957,3.8357412815093994,5.794944763183594,8.456620216369629,6.271692276000977,-6.4564528465271,18.192691802978516,3.3058977127075195,11.110254287719727,3.017456531524658,5.979573726654053,7.306884765625,5.61917781829834,5.914553165435791,8.374726295471191,5.503573894500732,5.540466785430908,6.844106674194336,3.352893829345703,5.78848123550415,-1.598280429840088,-3.63287615776062,11.231348037719727,3.5719428062438965,-3.526782989501953,6.139415264129639,2.0621776580810547,6.866400718688965,-1.7612584829330444,-6.161003112792969,5.753288269042969,5.678777694702148,8.620113372802734,5.707285404205322,1.9951932430267334,-6.370732307434082],\"xaxis\":\"x\",\"y\":[15.663601875305176,15.337437629699707,15.513050079345703,15.569982528686523,15.32726001739502,25.96653175354004,5.008193492889404,-2.526885986328125,1.5211232900619507,15.172304153442383,15.138384819030762,2.63907527923584,25.603382110595703,15.259281158447266,25.809612274169922,15.635226249694824,25.72273063659668,8.40648078918457,8.036221504211426,7.148681640625,4.358158111572266,1.6649757623672485,1.6254111528396606,-6.7739996910095215,-5.714017391204834,2.427279472351074,4.75590705871582,4.234077453613281,1.6958489418029785,15.388466835021973,1.9257745742797852,1.6549134254455566,8.257650375366211,14.794156074523926,-5.714956760406494,6.24697732925415,5.809241771697998,4.87083625793457,2.2230441570281982,4.068691253662109,7.265422821044922,15.935239791870117,14.647150993347168,6.577496528625488,-6.534107208251953,6.9599609375,4.728780746459961,-2.5268869400024414,2.3390374183654785,1.697048544883728,2.5490024089813232,6.578332424163818,6.28115701675415,5.839723110198975,6.849030017852783,-6.453422546386719,7.947264194488525,7.095805644989014,6.367525100708008,2.341118812561035,6.9451189041137695,15.939703941345215,4.154768466949463,1.8163397312164307,2.210860013961792,4.258791446685791,6.653886795043945,1.7531657218933105,6.1828460693359375,16.100126266479492,4.3199143409729,6.955280780792236,5.425873756408691,-6.693716526031494,5.3520002365112305,1.7140132188796997,4.7800774574279785],\"yaxis\":\"y\",\"type\":\"scatter\"}],                        {\"template\":{\"data\":{\"barpolar\":[{\"marker\":{\"line\":{\"color\":\"white\",\"width\":0.5},\"pattern\":{\"fillmode\":\"overlay\",\"size\":10,\"solidity\":0.2}},\"type\":\"barpolar\"}],\"bar\":[{\"error_x\":{\"color\":\"rgb(36,36,36)\"},\"error_y\":{\"color\":\"rgb(36,36,36)\"},\"marker\":{\"line\":{\"color\":\"white\",\"width\":0.5},\"pattern\":{\"fillmode\":\"overlay\",\"size\":10,\"solidity\":0.2}},\"type\":\"bar\"}],\"carpet\":[{\"aaxis\":{\"endlinecolor\":\"rgb(36,36,36)\",\"gridcolor\":\"white\",\"linecolor\":\"white\",\"minorgridcolor\":\"white\",\"startlinecolor\":\"rgb(36,36,36)\"},\"baxis\":{\"endlinecolor\":\"rgb(36,36,36)\",\"gridcolor\":\"white\",\"linecolor\":\"white\",\"minorgridcolor\":\"white\",\"startlinecolor\":\"rgb(36,36,36)\"},\"type\":\"carpet\"}],\"choropleth\":[{\"colorbar\":{\"outlinewidth\":1,\"tickcolor\":\"rgb(36,36,36)\",\"ticks\":\"outside\"},\"type\":\"choropleth\"}],\"contourcarpet\":[{\"colorbar\":{\"outlinewidth\":1,\"tickcolor\":\"rgb(36,36,36)\",\"ticks\":\"outside\"},\"type\":\"contourcarpet\"}],\"contour\":[{\"colorbar\":{\"outlinewidth\":1,\"tickcolor\":\"rgb(36,36,36)\",\"ticks\":\"outside\"},\"colorscale\":[[0.0,\"#440154\"],[0.1111111111111111,\"#482878\"],[0.2222222222222222,\"#3e4989\"],[0.3333333333333333,\"#31688e\"],[0.4444444444444444,\"#26828e\"],[0.5555555555555556,\"#1f9e89\"],[0.6666666666666666,\"#35b779\"],[0.7777777777777778,\"#6ece58\"],[0.8888888888888888,\"#b5de2b\"],[1.0,\"#fde725\"]],\"type\":\"contour\"}],\"heatmapgl\":[{\"colorbar\":{\"outlinewidth\":1,\"tickcolor\":\"rgb(36,36,36)\",\"ticks\":\"outside\"},\"colorscale\":[[0.0,\"#440154\"],[0.1111111111111111,\"#482878\"],[0.2222222222222222,\"#3e4989\"],[0.3333333333333333,\"#31688e\"],[0.4444444444444444,\"#26828e\"],[0.5555555555555556,\"#1f9e89\"],[0.6666666666666666,\"#35b779\"],[0.7777777777777778,\"#6ece58\"],[0.8888888888888888,\"#b5de2b\"],[1.0,\"#fde725\"]],\"type\":\"heatmapgl\"}],\"heatmap\":[{\"colorbar\":{\"outlinewidth\":1,\"tickcolor\":\"rgb(36,36,36)\",\"ticks\":\"outside\"},\"colorscale\":[[0.0,\"#440154\"],[0.1111111111111111,\"#482878\"],[0.2222222222222222,\"#3e4989\"],[0.3333333333333333,\"#31688e\"],[0.4444444444444444,\"#26828e\"],[0.5555555555555556,\"#1f9e89\"],[0.6666666666666666,\"#35b779\"],[0.7777777777777778,\"#6ece58\"],[0.8888888888888888,\"#b5de2b\"],[1.0,\"#fde725\"]],\"type\":\"heatmap\"}],\"histogram2dcontour\":[{\"colorbar\":{\"outlinewidth\":1,\"tickcolor\":\"rgb(36,36,36)\",\"ticks\":\"outside\"},\"colorscale\":[[0.0,\"#440154\"],[0.1111111111111111,\"#482878\"],[0.2222222222222222,\"#3e4989\"],[0.3333333333333333,\"#31688e\"],[0.4444444444444444,\"#26828e\"],[0.5555555555555556,\"#1f9e89\"],[0.6666666666666666,\"#35b779\"],[0.7777777777777778,\"#6ece58\"],[0.8888888888888888,\"#b5de2b\"],[1.0,\"#fde725\"]],\"type\":\"histogram2dcontour\"}],\"histogram2d\":[{\"colorbar\":{\"outlinewidth\":1,\"tickcolor\":\"rgb(36,36,36)\",\"ticks\":\"outside\"},\"colorscale\":[[0.0,\"#440154\"],[0.1111111111111111,\"#482878\"],[0.2222222222222222,\"#3e4989\"],[0.3333333333333333,\"#31688e\"],[0.4444444444444444,\"#26828e\"],[0.5555555555555556,\"#1f9e89\"],[0.6666666666666666,\"#35b779\"],[0.7777777777777778,\"#6ece58\"],[0.8888888888888888,\"#b5de2b\"],[1.0,\"#fde725\"]],\"type\":\"histogram2d\"}],\"histogram\":[{\"marker\":{\"line\":{\"color\":\"white\",\"width\":0.6}},\"type\":\"histogram\"}],\"mesh3d\":[{\"colorbar\":{\"outlinewidth\":1,\"tickcolor\":\"rgb(36,36,36)\",\"ticks\":\"outside\"},\"type\":\"mesh3d\"}],\"parcoords\":[{\"line\":{\"colorbar\":{\"outlinewidth\":1,\"tickcolor\":\"rgb(36,36,36)\",\"ticks\":\"outside\"}},\"type\":\"parcoords\"}],\"pie\":[{\"automargin\":true,\"type\":\"pie\"}],\"scatter3d\":[{\"line\":{\"colorbar\":{\"outlinewidth\":1,\"tickcolor\":\"rgb(36,36,36)\",\"ticks\":\"outside\"}},\"marker\":{\"colorbar\":{\"outlinewidth\":1,\"tickcolor\":\"rgb(36,36,36)\",\"ticks\":\"outside\"}},\"type\":\"scatter3d\"}],\"scattercarpet\":[{\"marker\":{\"colorbar\":{\"outlinewidth\":1,\"tickcolor\":\"rgb(36,36,36)\",\"ticks\":\"outside\"}},\"type\":\"scattercarpet\"}],\"scattergeo\":[{\"marker\":{\"colorbar\":{\"outlinewidth\":1,\"tickcolor\":\"rgb(36,36,36)\",\"ticks\":\"outside\"}},\"type\":\"scattergeo\"}],\"scattergl\":[{\"marker\":{\"colorbar\":{\"outlinewidth\":1,\"tickcolor\":\"rgb(36,36,36)\",\"ticks\":\"outside\"}},\"type\":\"scattergl\"}],\"scattermapbox\":[{\"marker\":{\"colorbar\":{\"outlinewidth\":1,\"tickcolor\":\"rgb(36,36,36)\",\"ticks\":\"outside\"}},\"type\":\"scattermapbox\"}],\"scatterpolargl\":[{\"marker\":{\"colorbar\":{\"outlinewidth\":1,\"tickcolor\":\"rgb(36,36,36)\",\"ticks\":\"outside\"}},\"type\":\"scatterpolargl\"}],\"scatterpolar\":[{\"marker\":{\"colorbar\":{\"outlinewidth\":1,\"tickcolor\":\"rgb(36,36,36)\",\"ticks\":\"outside\"}},\"type\":\"scatterpolar\"}],\"scatter\":[{\"marker\":{\"colorbar\":{\"outlinewidth\":1,\"tickcolor\":\"rgb(36,36,36)\",\"ticks\":\"outside\"}},\"type\":\"scatter\"}],\"scatterternary\":[{\"marker\":{\"colorbar\":{\"outlinewidth\":1,\"tickcolor\":\"rgb(36,36,36)\",\"ticks\":\"outside\"}},\"type\":\"scatterternary\"}],\"surface\":[{\"colorbar\":{\"outlinewidth\":1,\"tickcolor\":\"rgb(36,36,36)\",\"ticks\":\"outside\"},\"colorscale\":[[0.0,\"#440154\"],[0.1111111111111111,\"#482878\"],[0.2222222222222222,\"#3e4989\"],[0.3333333333333333,\"#31688e\"],[0.4444444444444444,\"#26828e\"],[0.5555555555555556,\"#1f9e89\"],[0.6666666666666666,\"#35b779\"],[0.7777777777777778,\"#6ece58\"],[0.8888888888888888,\"#b5de2b\"],[1.0,\"#fde725\"]],\"type\":\"surface\"}],\"table\":[{\"cells\":{\"fill\":{\"color\":\"rgb(237,237,237)\"},\"line\":{\"color\":\"white\"}},\"header\":{\"fill\":{\"color\":\"rgb(217,217,217)\"},\"line\":{\"color\":\"white\"}},\"type\":\"table\"}]},\"layout\":{\"annotationdefaults\":{\"arrowhead\":0,\"arrowwidth\":1},\"autotypenumbers\":\"strict\",\"coloraxis\":{\"colorbar\":{\"outlinewidth\":1,\"tickcolor\":\"rgb(36,36,36)\",\"ticks\":\"outside\"}},\"colorscale\":{\"diverging\":[[0.0,\"rgb(103,0,31)\"],[0.1,\"rgb(178,24,43)\"],[0.2,\"rgb(214,96,77)\"],[0.3,\"rgb(244,165,130)\"],[0.4,\"rgb(253,219,199)\"],[0.5,\"rgb(247,247,247)\"],[0.6,\"rgb(209,229,240)\"],[0.7,\"rgb(146,197,222)\"],[0.8,\"rgb(67,147,195)\"],[0.9,\"rgb(33,102,172)\"],[1.0,\"rgb(5,48,97)\"]],\"sequential\":[[0.0,\"#440154\"],[0.1111111111111111,\"#482878\"],[0.2222222222222222,\"#3e4989\"],[0.3333333333333333,\"#31688e\"],[0.4444444444444444,\"#26828e\"],[0.5555555555555556,\"#1f9e89\"],[0.6666666666666666,\"#35b779\"],[0.7777777777777778,\"#6ece58\"],[0.8888888888888888,\"#b5de2b\"],[1.0,\"#fde725\"]],\"sequentialminus\":[[0.0,\"#440154\"],[0.1111111111111111,\"#482878\"],[0.2222222222222222,\"#3e4989\"],[0.3333333333333333,\"#31688e\"],[0.4444444444444444,\"#26828e\"],[0.5555555555555556,\"#1f9e89\"],[0.6666666666666666,\"#35b779\"],[0.7777777777777778,\"#6ece58\"],[0.8888888888888888,\"#b5de2b\"],[1.0,\"#fde725\"]]},\"colorway\":[\"#1F77B4\",\"#FF7F0E\",\"#2CA02C\",\"#D62728\",\"#9467BD\",\"#8C564B\",\"#E377C2\",\"#7F7F7F\",\"#BCBD22\",\"#17BECF\"],\"font\":{\"color\":\"rgb(36,36,36)\"},\"geo\":{\"bgcolor\":\"white\",\"lakecolor\":\"white\",\"landcolor\":\"white\",\"showlakes\":true,\"showland\":true,\"subunitcolor\":\"white\"},\"hoverlabel\":{\"align\":\"left\"},\"hovermode\":\"closest\",\"mapbox\":{\"style\":\"light\"},\"paper_bgcolor\":\"white\",\"plot_bgcolor\":\"white\",\"polar\":{\"angularaxis\":{\"gridcolor\":\"rgb(232,232,232)\",\"linecolor\":\"rgb(36,36,36)\",\"showgrid\":false,\"showline\":true,\"ticks\":\"outside\"},\"bgcolor\":\"white\",\"radialaxis\":{\"gridcolor\":\"rgb(232,232,232)\",\"linecolor\":\"rgb(36,36,36)\",\"showgrid\":false,\"showline\":true,\"ticks\":\"outside\"}},\"scene\":{\"xaxis\":{\"backgroundcolor\":\"white\",\"gridcolor\":\"rgb(232,232,232)\",\"gridwidth\":2,\"linecolor\":\"rgb(36,36,36)\",\"showbackground\":true,\"showgrid\":false,\"showline\":true,\"ticks\":\"outside\",\"zeroline\":false,\"zerolinecolor\":\"rgb(36,36,36)\"},\"yaxis\":{\"backgroundcolor\":\"white\",\"gridcolor\":\"rgb(232,232,232)\",\"gridwidth\":2,\"linecolor\":\"rgb(36,36,36)\",\"showbackground\":true,\"showgrid\":false,\"showline\":true,\"ticks\":\"outside\",\"zeroline\":false,\"zerolinecolor\":\"rgb(36,36,36)\"},\"zaxis\":{\"backgroundcolor\":\"white\",\"gridcolor\":\"rgb(232,232,232)\",\"gridwidth\":2,\"linecolor\":\"rgb(36,36,36)\",\"showbackground\":true,\"showgrid\":false,\"showline\":true,\"ticks\":\"outside\",\"zeroline\":false,\"zerolinecolor\":\"rgb(36,36,36)\"}},\"shapedefaults\":{\"fillcolor\":\"black\",\"line\":{\"width\":0},\"opacity\":0.3},\"ternary\":{\"aaxis\":{\"gridcolor\":\"rgb(232,232,232)\",\"linecolor\":\"rgb(36,36,36)\",\"showgrid\":false,\"showline\":true,\"ticks\":\"outside\"},\"baxis\":{\"gridcolor\":\"rgb(232,232,232)\",\"linecolor\":\"rgb(36,36,36)\",\"showgrid\":false,\"showline\":true,\"ticks\":\"outside\"},\"bgcolor\":\"white\",\"caxis\":{\"gridcolor\":\"rgb(232,232,232)\",\"linecolor\":\"rgb(36,36,36)\",\"showgrid\":false,\"showline\":true,\"ticks\":\"outside\"}},\"title\":{\"x\":0.05},\"xaxis\":{\"automargin\":true,\"gridcolor\":\"rgb(232,232,232)\",\"linecolor\":\"rgb(36,36,36)\",\"showgrid\":false,\"showline\":true,\"ticks\":\"outside\",\"title\":{\"standoff\":15},\"zeroline\":false,\"zerolinecolor\":\"rgb(36,36,36)\"},\"yaxis\":{\"automargin\":true,\"gridcolor\":\"rgb(232,232,232)\",\"linecolor\":\"rgb(36,36,36)\",\"showgrid\":false,\"showline\":true,\"ticks\":\"outside\",\"title\":{\"standoff\":15},\"zeroline\":false,\"zerolinecolor\":\"rgb(36,36,36)\"}}},\"xaxis\":{\"anchor\":\"y\",\"domain\":[0.0,1.0],\"title\":{\"text\":\"\"},\"visible\":false,\"range\":[-7.843723487854004,20.921595573425293]},\"yaxis\":{\"anchor\":\"x\",\"domain\":[0.0,1.0],\"title\":{\"text\":\"\"},\"visible\":false,\"range\":[-7.79009964466095,29.861511516571046]},\"legend\":{\"tracegroupgap\":0,\"itemsizing\":\"constant\"},\"margin\":{\"t\":60},\"title\":{\"font\":{\"size\":22,\"color\":\"Black\"},\"text\":\"<b>Intertopic Distance Map\",\"y\":0.95,\"x\":0.5,\"xanchor\":\"center\",\"yanchor\":\"top\"},\"hoverlabel\":{\"font\":{\"size\":16,\"family\":\"Rockwell\"},\"bgcolor\":\"white\"},\"width\":800,\"height\":800,\"sliders\":[{\"active\":0,\"pad\":{\"t\":50},\"steps\":[{\"args\":[{\"marker.color\":[[\"red\",\"#B0BEC5\",\"#B0BEC5\",\"#B0BEC5\",\"#B0BEC5\",\"#B0BEC5\",\"#B0BEC5\",\"#B0BEC5\",\"#B0BEC5\",\"#B0BEC5\",\"#B0BEC5\",\"#B0BEC5\",\"#B0BEC5\",\"#B0BEC5\",\"#B0BEC5\",\"#B0BEC5\",\"#B0BEC5\",\"#B0BEC5\",\"#B0BEC5\",\"#B0BEC5\",\"#B0BEC5\",\"#B0BEC5\",\"#B0BEC5\",\"#B0BEC5\",\"#B0BEC5\",\"#B0BEC5\",\"#B0BEC5\",\"#B0BEC5\",\"#B0BEC5\",\"#B0BEC5\",\"#B0BEC5\",\"#B0BEC5\",\"#B0BEC5\",\"#B0BEC5\",\"#B0BEC5\",\"#B0BEC5\",\"#B0BEC5\",\"#B0BEC5\",\"#B0BEC5\",\"#B0BEC5\",\"#B0BEC5\",\"#B0BEC5\",\"#B0BEC5\",\"#B0BEC5\",\"#B0BEC5\",\"#B0BEC5\",\"#B0BEC5\",\"#B0BEC5\",\"#B0BEC5\",\"#B0BEC5\",\"#B0BEC5\",\"#B0BEC5\",\"#B0BEC5\",\"#B0BEC5\",\"#B0BEC5\",\"#B0BEC5\",\"#B0BEC5\",\"#B0BEC5\",\"#B0BEC5\",\"#B0BEC5\",\"#B0BEC5\",\"#B0BEC5\",\"#B0BEC5\",\"#B0BEC5\",\"#B0BEC5\",\"#B0BEC5\",\"#B0BEC5\",\"#B0BEC5\",\"#B0BEC5\",\"#B0BEC5\",\"#B0BEC5\",\"#B0BEC5\",\"#B0BEC5\",\"#B0BEC5\",\"#B0BEC5\",\"#B0BEC5\",\"#B0BEC5\"]]}],\"label\":\"Topic 0\",\"method\":\"update\"},{\"args\":[{\"marker.color\":[[\"#B0BEC5\",\"red\",\"#B0BEC5\",\"#B0BEC5\",\"#B0BEC5\",\"#B0BEC5\",\"#B0BEC5\",\"#B0BEC5\",\"#B0BEC5\",\"#B0BEC5\",\"#B0BEC5\",\"#B0BEC5\",\"#B0BEC5\",\"#B0BEC5\",\"#B0BEC5\",\"#B0BEC5\",\"#B0BEC5\",\"#B0BEC5\",\"#B0BEC5\",\"#B0BEC5\",\"#B0BEC5\",\"#B0BEC5\",\"#B0BEC5\",\"#B0BEC5\",\"#B0BEC5\",\"#B0BEC5\",\"#B0BEC5\",\"#B0BEC5\",\"#B0BEC5\",\"#B0BEC5\",\"#B0BEC5\",\"#B0BEC5\",\"#B0BEC5\",\"#B0BEC5\",\"#B0BEC5\",\"#B0BEC5\",\"#B0BEC5\",\"#B0BEC5\",\"#B0BEC5\",\"#B0BEC5\",\"#B0BEC5\",\"#B0BEC5\",\"#B0BEC5\",\"#B0BEC5\",\"#B0BEC5\",\"#B0BEC5\",\"#B0BEC5\",\"#B0BEC5\",\"#B0BEC5\",\"#B0BEC5\",\"#B0BEC5\",\"#B0BEC5\",\"#B0BEC5\",\"#B0BEC5\",\"#B0BEC5\",\"#B0BEC5\",\"#B0BEC5\",\"#B0BEC5\",\"#B0BEC5\",\"#B0BEC5\",\"#B0BEC5\",\"#B0BEC5\",\"#B0BEC5\",\"#B0BEC5\",\"#B0BEC5\",\"#B0BEC5\",\"#B0BEC5\",\"#B0BEC5\",\"#B0BEC5\",\"#B0BEC5\",\"#B0BEC5\",\"#B0BEC5\",\"#B0BEC5\",\"#B0BEC5\",\"#B0BEC5\",\"#B0BEC5\",\"#B0BEC5\"]]}],\"label\":\"Topic 1\",\"method\":\"update\"},{\"args\":[{\"marker.color\":[[\"#B0BEC5\",\"#B0BEC5\",\"red\",\"#B0BEC5\",\"#B0BEC5\",\"#B0BEC5\",\"#B0BEC5\",\"#B0BEC5\",\"#B0BEC5\",\"#B0BEC5\",\"#B0BEC5\",\"#B0BEC5\",\"#B0BEC5\",\"#B0BEC5\",\"#B0BEC5\",\"#B0BEC5\",\"#B0BEC5\",\"#B0BEC5\",\"#B0BEC5\",\"#B0BEC5\",\"#B0BEC5\",\"#B0BEC5\",\"#B0BEC5\",\"#B0BEC5\",\"#B0BEC5\",\"#B0BEC5\",\"#B0BEC5\",\"#B0BEC5\",\"#B0BEC5\",\"#B0BEC5\",\"#B0BEC5\",\"#B0BEC5\",\"#B0BEC5\",\"#B0BEC5\",\"#B0BEC5\",\"#B0BEC5\",\"#B0BEC5\",\"#B0BEC5\",\"#B0BEC5\",\"#B0BEC5\",\"#B0BEC5\",\"#B0BEC5\",\"#B0BEC5\",\"#B0BEC5\",\"#B0BEC5\",\"#B0BEC5\",\"#B0BEC5\",\"#B0BEC5\",\"#B0BEC5\",\"#B0BEC5\",\"#B0BEC5\",\"#B0BEC5\",\"#B0BEC5\",\"#B0BEC5\",\"#B0BEC5\",\"#B0BEC5\",\"#B0BEC5\",\"#B0BEC5\",\"#B0BEC5\",\"#B0BEC5\",\"#B0BEC5\",\"#B0BEC5\",\"#B0BEC5\",\"#B0BEC5\",\"#B0BEC5\",\"#B0BEC5\",\"#B0BEC5\",\"#B0BEC5\",\"#B0BEC5\",\"#B0BEC5\",\"#B0BEC5\",\"#B0BEC5\",\"#B0BEC5\",\"#B0BEC5\",\"#B0BEC5\",\"#B0BEC5\",\"#B0BEC5\"]]}],\"label\":\"Topic 2\",\"method\":\"update\"},{\"args\":[{\"marker.color\":[[\"#B0BEC5\",\"#B0BEC5\",\"#B0BEC5\",\"red\",\"#B0BEC5\",\"#B0BEC5\",\"#B0BEC5\",\"#B0BEC5\",\"#B0BEC5\",\"#B0BEC5\",\"#B0BEC5\",\"#B0BEC5\",\"#B0BEC5\",\"#B0BEC5\",\"#B0BEC5\",\"#B0BEC5\",\"#B0BEC5\",\"#B0BEC5\",\"#B0BEC5\",\"#B0BEC5\",\"#B0BEC5\",\"#B0BEC5\",\"#B0BEC5\",\"#B0BEC5\",\"#B0BEC5\",\"#B0BEC5\",\"#B0BEC5\",\"#B0BEC5\",\"#B0BEC5\",\"#B0BEC5\",\"#B0BEC5\",\"#B0BEC5\",\"#B0BEC5\",\"#B0BEC5\",\"#B0BEC5\",\"#B0BEC5\",\"#B0BEC5\",\"#B0BEC5\",\"#B0BEC5\",\"#B0BEC5\",\"#B0BEC5\",\"#B0BEC5\",\"#B0BEC5\",\"#B0BEC5\",\"#B0BEC5\",\"#B0BEC5\",\"#B0BEC5\",\"#B0BEC5\",\"#B0BEC5\",\"#B0BEC5\",\"#B0BEC5\",\"#B0BEC5\",\"#B0BEC5\",\"#B0BEC5\",\"#B0BEC5\",\"#B0BEC5\",\"#B0BEC5\",\"#B0BEC5\",\"#B0BEC5\",\"#B0BEC5\",\"#B0BEC5\",\"#B0BEC5\",\"#B0BEC5\",\"#B0BEC5\",\"#B0BEC5\",\"#B0BEC5\",\"#B0BEC5\",\"#B0BEC5\",\"#B0BEC5\",\"#B0BEC5\",\"#B0BEC5\",\"#B0BEC5\",\"#B0BEC5\",\"#B0BEC5\",\"#B0BEC5\",\"#B0BEC5\",\"#B0BEC5\"]]}],\"label\":\"Topic 3\",\"method\":\"update\"},{\"args\":[{\"marker.color\":[[\"#B0BEC5\",\"#B0BEC5\",\"#B0BEC5\",\"#B0BEC5\",\"red\",\"#B0BEC5\",\"#B0BEC5\",\"#B0BEC5\",\"#B0BEC5\",\"#B0BEC5\",\"#B0BEC5\",\"#B0BEC5\",\"#B0BEC5\",\"#B0BEC5\",\"#B0BEC5\",\"#B0BEC5\",\"#B0BEC5\",\"#B0BEC5\",\"#B0BEC5\",\"#B0BEC5\",\"#B0BEC5\",\"#B0BEC5\",\"#B0BEC5\",\"#B0BEC5\",\"#B0BEC5\",\"#B0BEC5\",\"#B0BEC5\",\"#B0BEC5\",\"#B0BEC5\",\"#B0BEC5\",\"#B0BEC5\",\"#B0BEC5\",\"#B0BEC5\",\"#B0BEC5\",\"#B0BEC5\",\"#B0BEC5\",\"#B0BEC5\",\"#B0BEC5\",\"#B0BEC5\",\"#B0BEC5\",\"#B0BEC5\",\"#B0BEC5\",\"#B0BEC5\",\"#B0BEC5\",\"#B0BEC5\",\"#B0BEC5\",\"#B0BEC5\",\"#B0BEC5\",\"#B0BEC5\",\"#B0BEC5\",\"#B0BEC5\",\"#B0BEC5\",\"#B0BEC5\",\"#B0BEC5\",\"#B0BEC5\",\"#B0BEC5\",\"#B0BEC5\",\"#B0BEC5\",\"#B0BEC5\",\"#B0BEC5\",\"#B0BEC5\",\"#B0BEC5\",\"#B0BEC5\",\"#B0BEC5\",\"#B0BEC5\",\"#B0BEC5\",\"#B0BEC5\",\"#B0BEC5\",\"#B0BEC5\",\"#B0BEC5\",\"#B0BEC5\",\"#B0BEC5\",\"#B0BEC5\",\"#B0BEC5\",\"#B0BEC5\",\"#B0BEC5\",\"#B0BEC5\"]]}],\"label\":\"Topic 4\",\"method\":\"update\"},{\"args\":[{\"marker.color\":[[\"#B0BEC5\",\"#B0BEC5\",\"#B0BEC5\",\"#B0BEC5\",\"#B0BEC5\",\"red\",\"#B0BEC5\",\"#B0BEC5\",\"#B0BEC5\",\"#B0BEC5\",\"#B0BEC5\",\"#B0BEC5\",\"#B0BEC5\",\"#B0BEC5\",\"#B0BEC5\",\"#B0BEC5\",\"#B0BEC5\",\"#B0BEC5\",\"#B0BEC5\",\"#B0BEC5\",\"#B0BEC5\",\"#B0BEC5\",\"#B0BEC5\",\"#B0BEC5\",\"#B0BEC5\",\"#B0BEC5\",\"#B0BEC5\",\"#B0BEC5\",\"#B0BEC5\",\"#B0BEC5\",\"#B0BEC5\",\"#B0BEC5\",\"#B0BEC5\",\"#B0BEC5\",\"#B0BEC5\",\"#B0BEC5\",\"#B0BEC5\",\"#B0BEC5\",\"#B0BEC5\",\"#B0BEC5\",\"#B0BEC5\",\"#B0BEC5\",\"#B0BEC5\",\"#B0BEC5\",\"#B0BEC5\",\"#B0BEC5\",\"#B0BEC5\",\"#B0BEC5\",\"#B0BEC5\",\"#B0BEC5\",\"#B0BEC5\",\"#B0BEC5\",\"#B0BEC5\",\"#B0BEC5\",\"#B0BEC5\",\"#B0BEC5\",\"#B0BEC5\",\"#B0BEC5\",\"#B0BEC5\",\"#B0BEC5\",\"#B0BEC5\",\"#B0BEC5\",\"#B0BEC5\",\"#B0BEC5\",\"#B0BEC5\",\"#B0BEC5\",\"#B0BEC5\",\"#B0BEC5\",\"#B0BEC5\",\"#B0BEC5\",\"#B0BEC5\",\"#B0BEC5\",\"#B0BEC5\",\"#B0BEC5\",\"#B0BEC5\",\"#B0BEC5\",\"#B0BEC5\"]]}],\"label\":\"Topic 5\",\"method\":\"update\"},{\"args\":[{\"marker.color\":[[\"#B0BEC5\",\"#B0BEC5\",\"#B0BEC5\",\"#B0BEC5\",\"#B0BEC5\",\"#B0BEC5\",\"red\",\"#B0BEC5\",\"#B0BEC5\",\"#B0BEC5\",\"#B0BEC5\",\"#B0BEC5\",\"#B0BEC5\",\"#B0BEC5\",\"#B0BEC5\",\"#B0BEC5\",\"#B0BEC5\",\"#B0BEC5\",\"#B0BEC5\",\"#B0BEC5\",\"#B0BEC5\",\"#B0BEC5\",\"#B0BEC5\",\"#B0BEC5\",\"#B0BEC5\",\"#B0BEC5\",\"#B0BEC5\",\"#B0BEC5\",\"#B0BEC5\",\"#B0BEC5\",\"#B0BEC5\",\"#B0BEC5\",\"#B0BEC5\",\"#B0BEC5\",\"#B0BEC5\",\"#B0BEC5\",\"#B0BEC5\",\"#B0BEC5\",\"#B0BEC5\",\"#B0BEC5\",\"#B0BEC5\",\"#B0BEC5\",\"#B0BEC5\",\"#B0BEC5\",\"#B0BEC5\",\"#B0BEC5\",\"#B0BEC5\",\"#B0BEC5\",\"#B0BEC5\",\"#B0BEC5\",\"#B0BEC5\",\"#B0BEC5\",\"#B0BEC5\",\"#B0BEC5\",\"#B0BEC5\",\"#B0BEC5\",\"#B0BEC5\",\"#B0BEC5\",\"#B0BEC5\",\"#B0BEC5\",\"#B0BEC5\",\"#B0BEC5\",\"#B0BEC5\",\"#B0BEC5\",\"#B0BEC5\",\"#B0BEC5\",\"#B0BEC5\",\"#B0BEC5\",\"#B0BEC5\",\"#B0BEC5\",\"#B0BEC5\",\"#B0BEC5\",\"#B0BEC5\",\"#B0BEC5\",\"#B0BEC5\",\"#B0BEC5\",\"#B0BEC5\"]]}],\"label\":\"Topic 6\",\"method\":\"update\"},{\"args\":[{\"marker.color\":[[\"#B0BEC5\",\"#B0BEC5\",\"#B0BEC5\",\"#B0BEC5\",\"#B0BEC5\",\"#B0BEC5\",\"#B0BEC5\",\"red\",\"#B0BEC5\",\"#B0BEC5\",\"#B0BEC5\",\"#B0BEC5\",\"#B0BEC5\",\"#B0BEC5\",\"#B0BEC5\",\"#B0BEC5\",\"#B0BEC5\",\"#B0BEC5\",\"#B0BEC5\",\"#B0BEC5\",\"#B0BEC5\",\"#B0BEC5\",\"#B0BEC5\",\"#B0BEC5\",\"#B0BEC5\",\"#B0BEC5\",\"#B0BEC5\",\"#B0BEC5\",\"#B0BEC5\",\"#B0BEC5\",\"#B0BEC5\",\"#B0BEC5\",\"#B0BEC5\",\"#B0BEC5\",\"#B0BEC5\",\"#B0BEC5\",\"#B0BEC5\",\"#B0BEC5\",\"#B0BEC5\",\"#B0BEC5\",\"#B0BEC5\",\"#B0BEC5\",\"#B0BEC5\",\"#B0BEC5\",\"#B0BEC5\",\"#B0BEC5\",\"#B0BEC5\",\"#B0BEC5\",\"#B0BEC5\",\"#B0BEC5\",\"#B0BEC5\",\"#B0BEC5\",\"#B0BEC5\",\"#B0BEC5\",\"#B0BEC5\",\"#B0BEC5\",\"#B0BEC5\",\"#B0BEC5\",\"#B0BEC5\",\"#B0BEC5\",\"#B0BEC5\",\"#B0BEC5\",\"#B0BEC5\",\"#B0BEC5\",\"#B0BEC5\",\"#B0BEC5\",\"#B0BEC5\",\"#B0BEC5\",\"#B0BEC5\",\"#B0BEC5\",\"#B0BEC5\",\"#B0BEC5\",\"#B0BEC5\",\"#B0BEC5\",\"#B0BEC5\",\"#B0BEC5\",\"#B0BEC5\"]]}],\"label\":\"Topic 7\",\"method\":\"update\"},{\"args\":[{\"marker.color\":[[\"#B0BEC5\",\"#B0BEC5\",\"#B0BEC5\",\"#B0BEC5\",\"#B0BEC5\",\"#B0BEC5\",\"#B0BEC5\",\"#B0BEC5\",\"red\",\"#B0BEC5\",\"#B0BEC5\",\"#B0BEC5\",\"#B0BEC5\",\"#B0BEC5\",\"#B0BEC5\",\"#B0BEC5\",\"#B0BEC5\",\"#B0BEC5\",\"#B0BEC5\",\"#B0BEC5\",\"#B0BEC5\",\"#B0BEC5\",\"#B0BEC5\",\"#B0BEC5\",\"#B0BEC5\",\"#B0BEC5\",\"#B0BEC5\",\"#B0BEC5\",\"#B0BEC5\",\"#B0BEC5\",\"#B0BEC5\",\"#B0BEC5\",\"#B0BEC5\",\"#B0BEC5\",\"#B0BEC5\",\"#B0BEC5\",\"#B0BEC5\",\"#B0BEC5\",\"#B0BEC5\",\"#B0BEC5\",\"#B0BEC5\",\"#B0BEC5\",\"#B0BEC5\",\"#B0BEC5\",\"#B0BEC5\",\"#B0BEC5\",\"#B0BEC5\",\"#B0BEC5\",\"#B0BEC5\",\"#B0BEC5\",\"#B0BEC5\",\"#B0BEC5\",\"#B0BEC5\",\"#B0BEC5\",\"#B0BEC5\",\"#B0BEC5\",\"#B0BEC5\",\"#B0BEC5\",\"#B0BEC5\",\"#B0BEC5\",\"#B0BEC5\",\"#B0BEC5\",\"#B0BEC5\",\"#B0BEC5\",\"#B0BEC5\",\"#B0BEC5\",\"#B0BEC5\",\"#B0BEC5\",\"#B0BEC5\",\"#B0BEC5\",\"#B0BEC5\",\"#B0BEC5\",\"#B0BEC5\",\"#B0BEC5\",\"#B0BEC5\",\"#B0BEC5\",\"#B0BEC5\"]]}],\"label\":\"Topic 8\",\"method\":\"update\"},{\"args\":[{\"marker.color\":[[\"#B0BEC5\",\"#B0BEC5\",\"#B0BEC5\",\"#B0BEC5\",\"#B0BEC5\",\"#B0BEC5\",\"#B0BEC5\",\"#B0BEC5\",\"#B0BEC5\",\"red\",\"#B0BEC5\",\"#B0BEC5\",\"#B0BEC5\",\"#B0BEC5\",\"#B0BEC5\",\"#B0BEC5\",\"#B0BEC5\",\"#B0BEC5\",\"#B0BEC5\",\"#B0BEC5\",\"#B0BEC5\",\"#B0BEC5\",\"#B0BEC5\",\"#B0BEC5\",\"#B0BEC5\",\"#B0BEC5\",\"#B0BEC5\",\"#B0BEC5\",\"#B0BEC5\",\"#B0BEC5\",\"#B0BEC5\",\"#B0BEC5\",\"#B0BEC5\",\"#B0BEC5\",\"#B0BEC5\",\"#B0BEC5\",\"#B0BEC5\",\"#B0BEC5\",\"#B0BEC5\",\"#B0BEC5\",\"#B0BEC5\",\"#B0BEC5\",\"#B0BEC5\",\"#B0BEC5\",\"#B0BEC5\",\"#B0BEC5\",\"#B0BEC5\",\"#B0BEC5\",\"#B0BEC5\",\"#B0BEC5\",\"#B0BEC5\",\"#B0BEC5\",\"#B0BEC5\",\"#B0BEC5\",\"#B0BEC5\",\"#B0BEC5\",\"#B0BEC5\",\"#B0BEC5\",\"#B0BEC5\",\"#B0BEC5\",\"#B0BEC5\",\"#B0BEC5\",\"#B0BEC5\",\"#B0BEC5\",\"#B0BEC5\",\"#B0BEC5\",\"#B0BEC5\",\"#B0BEC5\",\"#B0BEC5\",\"#B0BEC5\",\"#B0BEC5\",\"#B0BEC5\",\"#B0BEC5\",\"#B0BEC5\",\"#B0BEC5\",\"#B0BEC5\",\"#B0BEC5\"]]}],\"label\":\"Topic 9\",\"method\":\"update\"},{\"args\":[{\"marker.color\":[[\"#B0BEC5\",\"#B0BEC5\",\"#B0BEC5\",\"#B0BEC5\",\"#B0BEC5\",\"#B0BEC5\",\"#B0BEC5\",\"#B0BEC5\",\"#B0BEC5\",\"#B0BEC5\",\"red\",\"#B0BEC5\",\"#B0BEC5\",\"#B0BEC5\",\"#B0BEC5\",\"#B0BEC5\",\"#B0BEC5\",\"#B0BEC5\",\"#B0BEC5\",\"#B0BEC5\",\"#B0BEC5\",\"#B0BEC5\",\"#B0BEC5\",\"#B0BEC5\",\"#B0BEC5\",\"#B0BEC5\",\"#B0BEC5\",\"#B0BEC5\",\"#B0BEC5\",\"#B0BEC5\",\"#B0BEC5\",\"#B0BEC5\",\"#B0BEC5\",\"#B0BEC5\",\"#B0BEC5\",\"#B0BEC5\",\"#B0BEC5\",\"#B0BEC5\",\"#B0BEC5\",\"#B0BEC5\",\"#B0BEC5\",\"#B0BEC5\",\"#B0BEC5\",\"#B0BEC5\",\"#B0BEC5\",\"#B0BEC5\",\"#B0BEC5\",\"#B0BEC5\",\"#B0BEC5\",\"#B0BEC5\",\"#B0BEC5\",\"#B0BEC5\",\"#B0BEC5\",\"#B0BEC5\",\"#B0BEC5\",\"#B0BEC5\",\"#B0BEC5\",\"#B0BEC5\",\"#B0BEC5\",\"#B0BEC5\",\"#B0BEC5\",\"#B0BEC5\",\"#B0BEC5\",\"#B0BEC5\",\"#B0BEC5\",\"#B0BEC5\",\"#B0BEC5\",\"#B0BEC5\",\"#B0BEC5\",\"#B0BEC5\",\"#B0BEC5\",\"#B0BEC5\",\"#B0BEC5\",\"#B0BEC5\",\"#B0BEC5\",\"#B0BEC5\",\"#B0BEC5\"]]}],\"label\":\"Topic 10\",\"method\":\"update\"},{\"args\":[{\"marker.color\":[[\"#B0BEC5\",\"#B0BEC5\",\"#B0BEC5\",\"#B0BEC5\",\"#B0BEC5\",\"#B0BEC5\",\"#B0BEC5\",\"#B0BEC5\",\"#B0BEC5\",\"#B0BEC5\",\"#B0BEC5\",\"red\",\"#B0BEC5\",\"#B0BEC5\",\"#B0BEC5\",\"#B0BEC5\",\"#B0BEC5\",\"#B0BEC5\",\"#B0BEC5\",\"#B0BEC5\",\"#B0BEC5\",\"#B0BEC5\",\"#B0BEC5\",\"#B0BEC5\",\"#B0BEC5\",\"#B0BEC5\",\"#B0BEC5\",\"#B0BEC5\",\"#B0BEC5\",\"#B0BEC5\",\"#B0BEC5\",\"#B0BEC5\",\"#B0BEC5\",\"#B0BEC5\",\"#B0BEC5\",\"#B0BEC5\",\"#B0BEC5\",\"#B0BEC5\",\"#B0BEC5\",\"#B0BEC5\",\"#B0BEC5\",\"#B0BEC5\",\"#B0BEC5\",\"#B0BEC5\",\"#B0BEC5\",\"#B0BEC5\",\"#B0BEC5\",\"#B0BEC5\",\"#B0BEC5\",\"#B0BEC5\",\"#B0BEC5\",\"#B0BEC5\",\"#B0BEC5\",\"#B0BEC5\",\"#B0BEC5\",\"#B0BEC5\",\"#B0BEC5\",\"#B0BEC5\",\"#B0BEC5\",\"#B0BEC5\",\"#B0BEC5\",\"#B0BEC5\",\"#B0BEC5\",\"#B0BEC5\",\"#B0BEC5\",\"#B0BEC5\",\"#B0BEC5\",\"#B0BEC5\",\"#B0BEC5\",\"#B0BEC5\",\"#B0BEC5\",\"#B0BEC5\",\"#B0BEC5\",\"#B0BEC5\",\"#B0BEC5\",\"#B0BEC5\",\"#B0BEC5\"]]}],\"label\":\"Topic 11\",\"method\":\"update\"},{\"args\":[{\"marker.color\":[[\"#B0BEC5\",\"#B0BEC5\",\"#B0BEC5\",\"#B0BEC5\",\"#B0BEC5\",\"#B0BEC5\",\"#B0BEC5\",\"#B0BEC5\",\"#B0BEC5\",\"#B0BEC5\",\"#B0BEC5\",\"#B0BEC5\",\"red\",\"#B0BEC5\",\"#B0BEC5\",\"#B0BEC5\",\"#B0BEC5\",\"#B0BEC5\",\"#B0BEC5\",\"#B0BEC5\",\"#B0BEC5\",\"#B0BEC5\",\"#B0BEC5\",\"#B0BEC5\",\"#B0BEC5\",\"#B0BEC5\",\"#B0BEC5\",\"#B0BEC5\",\"#B0BEC5\",\"#B0BEC5\",\"#B0BEC5\",\"#B0BEC5\",\"#B0BEC5\",\"#B0BEC5\",\"#B0BEC5\",\"#B0BEC5\",\"#B0BEC5\",\"#B0BEC5\",\"#B0BEC5\",\"#B0BEC5\",\"#B0BEC5\",\"#B0BEC5\",\"#B0BEC5\",\"#B0BEC5\",\"#B0BEC5\",\"#B0BEC5\",\"#B0BEC5\",\"#B0BEC5\",\"#B0BEC5\",\"#B0BEC5\",\"#B0BEC5\",\"#B0BEC5\",\"#B0BEC5\",\"#B0BEC5\",\"#B0BEC5\",\"#B0BEC5\",\"#B0BEC5\",\"#B0BEC5\",\"#B0BEC5\",\"#B0BEC5\",\"#B0BEC5\",\"#B0BEC5\",\"#B0BEC5\",\"#B0BEC5\",\"#B0BEC5\",\"#B0BEC5\",\"#B0BEC5\",\"#B0BEC5\",\"#B0BEC5\",\"#B0BEC5\",\"#B0BEC5\",\"#B0BEC5\",\"#B0BEC5\",\"#B0BEC5\",\"#B0BEC5\",\"#B0BEC5\",\"#B0BEC5\"]]}],\"label\":\"Topic 12\",\"method\":\"update\"},{\"args\":[{\"marker.color\":[[\"#B0BEC5\",\"#B0BEC5\",\"#B0BEC5\",\"#B0BEC5\",\"#B0BEC5\",\"#B0BEC5\",\"#B0BEC5\",\"#B0BEC5\",\"#B0BEC5\",\"#B0BEC5\",\"#B0BEC5\",\"#B0BEC5\",\"#B0BEC5\",\"red\",\"#B0BEC5\",\"#B0BEC5\",\"#B0BEC5\",\"#B0BEC5\",\"#B0BEC5\",\"#B0BEC5\",\"#B0BEC5\",\"#B0BEC5\",\"#B0BEC5\",\"#B0BEC5\",\"#B0BEC5\",\"#B0BEC5\",\"#B0BEC5\",\"#B0BEC5\",\"#B0BEC5\",\"#B0BEC5\",\"#B0BEC5\",\"#B0BEC5\",\"#B0BEC5\",\"#B0BEC5\",\"#B0BEC5\",\"#B0BEC5\",\"#B0BEC5\",\"#B0BEC5\",\"#B0BEC5\",\"#B0BEC5\",\"#B0BEC5\",\"#B0BEC5\",\"#B0BEC5\",\"#B0BEC5\",\"#B0BEC5\",\"#B0BEC5\",\"#B0BEC5\",\"#B0BEC5\",\"#B0BEC5\",\"#B0BEC5\",\"#B0BEC5\",\"#B0BEC5\",\"#B0BEC5\",\"#B0BEC5\",\"#B0BEC5\",\"#B0BEC5\",\"#B0BEC5\",\"#B0BEC5\",\"#B0BEC5\",\"#B0BEC5\",\"#B0BEC5\",\"#B0BEC5\",\"#B0BEC5\",\"#B0BEC5\",\"#B0BEC5\",\"#B0BEC5\",\"#B0BEC5\",\"#B0BEC5\",\"#B0BEC5\",\"#B0BEC5\",\"#B0BEC5\",\"#B0BEC5\",\"#B0BEC5\",\"#B0BEC5\",\"#B0BEC5\",\"#B0BEC5\",\"#B0BEC5\"]]}],\"label\":\"Topic 13\",\"method\":\"update\"},{\"args\":[{\"marker.color\":[[\"#B0BEC5\",\"#B0BEC5\",\"#B0BEC5\",\"#B0BEC5\",\"#B0BEC5\",\"#B0BEC5\",\"#B0BEC5\",\"#B0BEC5\",\"#B0BEC5\",\"#B0BEC5\",\"#B0BEC5\",\"#B0BEC5\",\"#B0BEC5\",\"#B0BEC5\",\"red\",\"#B0BEC5\",\"#B0BEC5\",\"#B0BEC5\",\"#B0BEC5\",\"#B0BEC5\",\"#B0BEC5\",\"#B0BEC5\",\"#B0BEC5\",\"#B0BEC5\",\"#B0BEC5\",\"#B0BEC5\",\"#B0BEC5\",\"#B0BEC5\",\"#B0BEC5\",\"#B0BEC5\",\"#B0BEC5\",\"#B0BEC5\",\"#B0BEC5\",\"#B0BEC5\",\"#B0BEC5\",\"#B0BEC5\",\"#B0BEC5\",\"#B0BEC5\",\"#B0BEC5\",\"#B0BEC5\",\"#B0BEC5\",\"#B0BEC5\",\"#B0BEC5\",\"#B0BEC5\",\"#B0BEC5\",\"#B0BEC5\",\"#B0BEC5\",\"#B0BEC5\",\"#B0BEC5\",\"#B0BEC5\",\"#B0BEC5\",\"#B0BEC5\",\"#B0BEC5\",\"#B0BEC5\",\"#B0BEC5\",\"#B0BEC5\",\"#B0BEC5\",\"#B0BEC5\",\"#B0BEC5\",\"#B0BEC5\",\"#B0BEC5\",\"#B0BEC5\",\"#B0BEC5\",\"#B0BEC5\",\"#B0BEC5\",\"#B0BEC5\",\"#B0BEC5\",\"#B0BEC5\",\"#B0BEC5\",\"#B0BEC5\",\"#B0BEC5\",\"#B0BEC5\",\"#B0BEC5\",\"#B0BEC5\",\"#B0BEC5\",\"#B0BEC5\",\"#B0BEC5\"]]}],\"label\":\"Topic 14\",\"method\":\"update\"},{\"args\":[{\"marker.color\":[[\"#B0BEC5\",\"#B0BEC5\",\"#B0BEC5\",\"#B0BEC5\",\"#B0BEC5\",\"#B0BEC5\",\"#B0BEC5\",\"#B0BEC5\",\"#B0BEC5\",\"#B0BEC5\",\"#B0BEC5\",\"#B0BEC5\",\"#B0BEC5\",\"#B0BEC5\",\"#B0BEC5\",\"red\",\"#B0BEC5\",\"#B0BEC5\",\"#B0BEC5\",\"#B0BEC5\",\"#B0BEC5\",\"#B0BEC5\",\"#B0BEC5\",\"#B0BEC5\",\"#B0BEC5\",\"#B0BEC5\",\"#B0BEC5\",\"#B0BEC5\",\"#B0BEC5\",\"#B0BEC5\",\"#B0BEC5\",\"#B0BEC5\",\"#B0BEC5\",\"#B0BEC5\",\"#B0BEC5\",\"#B0BEC5\",\"#B0BEC5\",\"#B0BEC5\",\"#B0BEC5\",\"#B0BEC5\",\"#B0BEC5\",\"#B0BEC5\",\"#B0BEC5\",\"#B0BEC5\",\"#B0BEC5\",\"#B0BEC5\",\"#B0BEC5\",\"#B0BEC5\",\"#B0BEC5\",\"#B0BEC5\",\"#B0BEC5\",\"#B0BEC5\",\"#B0BEC5\",\"#B0BEC5\",\"#B0BEC5\",\"#B0BEC5\",\"#B0BEC5\",\"#B0BEC5\",\"#B0BEC5\",\"#B0BEC5\",\"#B0BEC5\",\"#B0BEC5\",\"#B0BEC5\",\"#B0BEC5\",\"#B0BEC5\",\"#B0BEC5\",\"#B0BEC5\",\"#B0BEC5\",\"#B0BEC5\",\"#B0BEC5\",\"#B0BEC5\",\"#B0BEC5\",\"#B0BEC5\",\"#B0BEC5\",\"#B0BEC5\",\"#B0BEC5\",\"#B0BEC5\"]]}],\"label\":\"Topic 15\",\"method\":\"update\"},{\"args\":[{\"marker.color\":[[\"#B0BEC5\",\"#B0BEC5\",\"#B0BEC5\",\"#B0BEC5\",\"#B0BEC5\",\"#B0BEC5\",\"#B0BEC5\",\"#B0BEC5\",\"#B0BEC5\",\"#B0BEC5\",\"#B0BEC5\",\"#B0BEC5\",\"#B0BEC5\",\"#B0BEC5\",\"#B0BEC5\",\"#B0BEC5\",\"red\",\"#B0BEC5\",\"#B0BEC5\",\"#B0BEC5\",\"#B0BEC5\",\"#B0BEC5\",\"#B0BEC5\",\"#B0BEC5\",\"#B0BEC5\",\"#B0BEC5\",\"#B0BEC5\",\"#B0BEC5\",\"#B0BEC5\",\"#B0BEC5\",\"#B0BEC5\",\"#B0BEC5\",\"#B0BEC5\",\"#B0BEC5\",\"#B0BEC5\",\"#B0BEC5\",\"#B0BEC5\",\"#B0BEC5\",\"#B0BEC5\",\"#B0BEC5\",\"#B0BEC5\",\"#B0BEC5\",\"#B0BEC5\",\"#B0BEC5\",\"#B0BEC5\",\"#B0BEC5\",\"#B0BEC5\",\"#B0BEC5\",\"#B0BEC5\",\"#B0BEC5\",\"#B0BEC5\",\"#B0BEC5\",\"#B0BEC5\",\"#B0BEC5\",\"#B0BEC5\",\"#B0BEC5\",\"#B0BEC5\",\"#B0BEC5\",\"#B0BEC5\",\"#B0BEC5\",\"#B0BEC5\",\"#B0BEC5\",\"#B0BEC5\",\"#B0BEC5\",\"#B0BEC5\",\"#B0BEC5\",\"#B0BEC5\",\"#B0BEC5\",\"#B0BEC5\",\"#B0BEC5\",\"#B0BEC5\",\"#B0BEC5\",\"#B0BEC5\",\"#B0BEC5\",\"#B0BEC5\",\"#B0BEC5\",\"#B0BEC5\"]]}],\"label\":\"Topic 16\",\"method\":\"update\"},{\"args\":[{\"marker.color\":[[\"#B0BEC5\",\"#B0BEC5\",\"#B0BEC5\",\"#B0BEC5\",\"#B0BEC5\",\"#B0BEC5\",\"#B0BEC5\",\"#B0BEC5\",\"#B0BEC5\",\"#B0BEC5\",\"#B0BEC5\",\"#B0BEC5\",\"#B0BEC5\",\"#B0BEC5\",\"#B0BEC5\",\"#B0BEC5\",\"#B0BEC5\",\"red\",\"#B0BEC5\",\"#B0BEC5\",\"#B0BEC5\",\"#B0BEC5\",\"#B0BEC5\",\"#B0BEC5\",\"#B0BEC5\",\"#B0BEC5\",\"#B0BEC5\",\"#B0BEC5\",\"#B0BEC5\",\"#B0BEC5\",\"#B0BEC5\",\"#B0BEC5\",\"#B0BEC5\",\"#B0BEC5\",\"#B0BEC5\",\"#B0BEC5\",\"#B0BEC5\",\"#B0BEC5\",\"#B0BEC5\",\"#B0BEC5\",\"#B0BEC5\",\"#B0BEC5\",\"#B0BEC5\",\"#B0BEC5\",\"#B0BEC5\",\"#B0BEC5\",\"#B0BEC5\",\"#B0BEC5\",\"#B0BEC5\",\"#B0BEC5\",\"#B0BEC5\",\"#B0BEC5\",\"#B0BEC5\",\"#B0BEC5\",\"#B0BEC5\",\"#B0BEC5\",\"#B0BEC5\",\"#B0BEC5\",\"#B0BEC5\",\"#B0BEC5\",\"#B0BEC5\",\"#B0BEC5\",\"#B0BEC5\",\"#B0BEC5\",\"#B0BEC5\",\"#B0BEC5\",\"#B0BEC5\",\"#B0BEC5\",\"#B0BEC5\",\"#B0BEC5\",\"#B0BEC5\",\"#B0BEC5\",\"#B0BEC5\",\"#B0BEC5\",\"#B0BEC5\",\"#B0BEC5\",\"#B0BEC5\"]]}],\"label\":\"Topic 17\",\"method\":\"update\"},{\"args\":[{\"marker.color\":[[\"#B0BEC5\",\"#B0BEC5\",\"#B0BEC5\",\"#B0BEC5\",\"#B0BEC5\",\"#B0BEC5\",\"#B0BEC5\",\"#B0BEC5\",\"#B0BEC5\",\"#B0BEC5\",\"#B0BEC5\",\"#B0BEC5\",\"#B0BEC5\",\"#B0BEC5\",\"#B0BEC5\",\"#B0BEC5\",\"#B0BEC5\",\"#B0BEC5\",\"red\",\"#B0BEC5\",\"#B0BEC5\",\"#B0BEC5\",\"#B0BEC5\",\"#B0BEC5\",\"#B0BEC5\",\"#B0BEC5\",\"#B0BEC5\",\"#B0BEC5\",\"#B0BEC5\",\"#B0BEC5\",\"#B0BEC5\",\"#B0BEC5\",\"#B0BEC5\",\"#B0BEC5\",\"#B0BEC5\",\"#B0BEC5\",\"#B0BEC5\",\"#B0BEC5\",\"#B0BEC5\",\"#B0BEC5\",\"#B0BEC5\",\"#B0BEC5\",\"#B0BEC5\",\"#B0BEC5\",\"#B0BEC5\",\"#B0BEC5\",\"#B0BEC5\",\"#B0BEC5\",\"#B0BEC5\",\"#B0BEC5\",\"#B0BEC5\",\"#B0BEC5\",\"#B0BEC5\",\"#B0BEC5\",\"#B0BEC5\",\"#B0BEC5\",\"#B0BEC5\",\"#B0BEC5\",\"#B0BEC5\",\"#B0BEC5\",\"#B0BEC5\",\"#B0BEC5\",\"#B0BEC5\",\"#B0BEC5\",\"#B0BEC5\",\"#B0BEC5\",\"#B0BEC5\",\"#B0BEC5\",\"#B0BEC5\",\"#B0BEC5\",\"#B0BEC5\",\"#B0BEC5\",\"#B0BEC5\",\"#B0BEC5\",\"#B0BEC5\",\"#B0BEC5\",\"#B0BEC5\"]]}],\"label\":\"Topic 18\",\"method\":\"update\"},{\"args\":[{\"marker.color\":[[\"#B0BEC5\",\"#B0BEC5\",\"#B0BEC5\",\"#B0BEC5\",\"#B0BEC5\",\"#B0BEC5\",\"#B0BEC5\",\"#B0BEC5\",\"#B0BEC5\",\"#B0BEC5\",\"#B0BEC5\",\"#B0BEC5\",\"#B0BEC5\",\"#B0BEC5\",\"#B0BEC5\",\"#B0BEC5\",\"#B0BEC5\",\"#B0BEC5\",\"#B0BEC5\",\"red\",\"#B0BEC5\",\"#B0BEC5\",\"#B0BEC5\",\"#B0BEC5\",\"#B0BEC5\",\"#B0BEC5\",\"#B0BEC5\",\"#B0BEC5\",\"#B0BEC5\",\"#B0BEC5\",\"#B0BEC5\",\"#B0BEC5\",\"#B0BEC5\",\"#B0BEC5\",\"#B0BEC5\",\"#B0BEC5\",\"#B0BEC5\",\"#B0BEC5\",\"#B0BEC5\",\"#B0BEC5\",\"#B0BEC5\",\"#B0BEC5\",\"#B0BEC5\",\"#B0BEC5\",\"#B0BEC5\",\"#B0BEC5\",\"#B0BEC5\",\"#B0BEC5\",\"#B0BEC5\",\"#B0BEC5\",\"#B0BEC5\",\"#B0BEC5\",\"#B0BEC5\",\"#B0BEC5\",\"#B0BEC5\",\"#B0BEC5\",\"#B0BEC5\",\"#B0BEC5\",\"#B0BEC5\",\"#B0BEC5\",\"#B0BEC5\",\"#B0BEC5\",\"#B0BEC5\",\"#B0BEC5\",\"#B0BEC5\",\"#B0BEC5\",\"#B0BEC5\",\"#B0BEC5\",\"#B0BEC5\",\"#B0BEC5\",\"#B0BEC5\",\"#B0BEC5\",\"#B0BEC5\",\"#B0BEC5\",\"#B0BEC5\",\"#B0BEC5\",\"#B0BEC5\"]]}],\"label\":\"Topic 19\",\"method\":\"update\"},{\"args\":[{\"marker.color\":[[\"#B0BEC5\",\"#B0BEC5\",\"#B0BEC5\",\"#B0BEC5\",\"#B0BEC5\",\"#B0BEC5\",\"#B0BEC5\",\"#B0BEC5\",\"#B0BEC5\",\"#B0BEC5\",\"#B0BEC5\",\"#B0BEC5\",\"#B0BEC5\",\"#B0BEC5\",\"#B0BEC5\",\"#B0BEC5\",\"#B0BEC5\",\"#B0BEC5\",\"#B0BEC5\",\"#B0BEC5\",\"red\",\"#B0BEC5\",\"#B0BEC5\",\"#B0BEC5\",\"#B0BEC5\",\"#B0BEC5\",\"#B0BEC5\",\"#B0BEC5\",\"#B0BEC5\",\"#B0BEC5\",\"#B0BEC5\",\"#B0BEC5\",\"#B0BEC5\",\"#B0BEC5\",\"#B0BEC5\",\"#B0BEC5\",\"#B0BEC5\",\"#B0BEC5\",\"#B0BEC5\",\"#B0BEC5\",\"#B0BEC5\",\"#B0BEC5\",\"#B0BEC5\",\"#B0BEC5\",\"#B0BEC5\",\"#B0BEC5\",\"#B0BEC5\",\"#B0BEC5\",\"#B0BEC5\",\"#B0BEC5\",\"#B0BEC5\",\"#B0BEC5\",\"#B0BEC5\",\"#B0BEC5\",\"#B0BEC5\",\"#B0BEC5\",\"#B0BEC5\",\"#B0BEC5\",\"#B0BEC5\",\"#B0BEC5\",\"#B0BEC5\",\"#B0BEC5\",\"#B0BEC5\",\"#B0BEC5\",\"#B0BEC5\",\"#B0BEC5\",\"#B0BEC5\",\"#B0BEC5\",\"#B0BEC5\",\"#B0BEC5\",\"#B0BEC5\",\"#B0BEC5\",\"#B0BEC5\",\"#B0BEC5\",\"#B0BEC5\",\"#B0BEC5\",\"#B0BEC5\"]]}],\"label\":\"Topic 20\",\"method\":\"update\"},{\"args\":[{\"marker.color\":[[\"#B0BEC5\",\"#B0BEC5\",\"#B0BEC5\",\"#B0BEC5\",\"#B0BEC5\",\"#B0BEC5\",\"#B0BEC5\",\"#B0BEC5\",\"#B0BEC5\",\"#B0BEC5\",\"#B0BEC5\",\"#B0BEC5\",\"#B0BEC5\",\"#B0BEC5\",\"#B0BEC5\",\"#B0BEC5\",\"#B0BEC5\",\"#B0BEC5\",\"#B0BEC5\",\"#B0BEC5\",\"#B0BEC5\",\"red\",\"#B0BEC5\",\"#B0BEC5\",\"#B0BEC5\",\"#B0BEC5\",\"#B0BEC5\",\"#B0BEC5\",\"#B0BEC5\",\"#B0BEC5\",\"#B0BEC5\",\"#B0BEC5\",\"#B0BEC5\",\"#B0BEC5\",\"#B0BEC5\",\"#B0BEC5\",\"#B0BEC5\",\"#B0BEC5\",\"#B0BEC5\",\"#B0BEC5\",\"#B0BEC5\",\"#B0BEC5\",\"#B0BEC5\",\"#B0BEC5\",\"#B0BEC5\",\"#B0BEC5\",\"#B0BEC5\",\"#B0BEC5\",\"#B0BEC5\",\"#B0BEC5\",\"#B0BEC5\",\"#B0BEC5\",\"#B0BEC5\",\"#B0BEC5\",\"#B0BEC5\",\"#B0BEC5\",\"#B0BEC5\",\"#B0BEC5\",\"#B0BEC5\",\"#B0BEC5\",\"#B0BEC5\",\"#B0BEC5\",\"#B0BEC5\",\"#B0BEC5\",\"#B0BEC5\",\"#B0BEC5\",\"#B0BEC5\",\"#B0BEC5\",\"#B0BEC5\",\"#B0BEC5\",\"#B0BEC5\",\"#B0BEC5\",\"#B0BEC5\",\"#B0BEC5\",\"#B0BEC5\",\"#B0BEC5\",\"#B0BEC5\"]]}],\"label\":\"Topic 21\",\"method\":\"update\"},{\"args\":[{\"marker.color\":[[\"#B0BEC5\",\"#B0BEC5\",\"#B0BEC5\",\"#B0BEC5\",\"#B0BEC5\",\"#B0BEC5\",\"#B0BEC5\",\"#B0BEC5\",\"#B0BEC5\",\"#B0BEC5\",\"#B0BEC5\",\"#B0BEC5\",\"#B0BEC5\",\"#B0BEC5\",\"#B0BEC5\",\"#B0BEC5\",\"#B0BEC5\",\"#B0BEC5\",\"#B0BEC5\",\"#B0BEC5\",\"#B0BEC5\",\"#B0BEC5\",\"red\",\"#B0BEC5\",\"#B0BEC5\",\"#B0BEC5\",\"#B0BEC5\",\"#B0BEC5\",\"#B0BEC5\",\"#B0BEC5\",\"#B0BEC5\",\"#B0BEC5\",\"#B0BEC5\",\"#B0BEC5\",\"#B0BEC5\",\"#B0BEC5\",\"#B0BEC5\",\"#B0BEC5\",\"#B0BEC5\",\"#B0BEC5\",\"#B0BEC5\",\"#B0BEC5\",\"#B0BEC5\",\"#B0BEC5\",\"#B0BEC5\",\"#B0BEC5\",\"#B0BEC5\",\"#B0BEC5\",\"#B0BEC5\",\"#B0BEC5\",\"#B0BEC5\",\"#B0BEC5\",\"#B0BEC5\",\"#B0BEC5\",\"#B0BEC5\",\"#B0BEC5\",\"#B0BEC5\",\"#B0BEC5\",\"#B0BEC5\",\"#B0BEC5\",\"#B0BEC5\",\"#B0BEC5\",\"#B0BEC5\",\"#B0BEC5\",\"#B0BEC5\",\"#B0BEC5\",\"#B0BEC5\",\"#B0BEC5\",\"#B0BEC5\",\"#B0BEC5\",\"#B0BEC5\",\"#B0BEC5\",\"#B0BEC5\",\"#B0BEC5\",\"#B0BEC5\",\"#B0BEC5\",\"#B0BEC5\"]]}],\"label\":\"Topic 22\",\"method\":\"update\"},{\"args\":[{\"marker.color\":[[\"#B0BEC5\",\"#B0BEC5\",\"#B0BEC5\",\"#B0BEC5\",\"#B0BEC5\",\"#B0BEC5\",\"#B0BEC5\",\"#B0BEC5\",\"#B0BEC5\",\"#B0BEC5\",\"#B0BEC5\",\"#B0BEC5\",\"#B0BEC5\",\"#B0BEC5\",\"#B0BEC5\",\"#B0BEC5\",\"#B0BEC5\",\"#B0BEC5\",\"#B0BEC5\",\"#B0BEC5\",\"#B0BEC5\",\"#B0BEC5\",\"#B0BEC5\",\"red\",\"#B0BEC5\",\"#B0BEC5\",\"#B0BEC5\",\"#B0BEC5\",\"#B0BEC5\",\"#B0BEC5\",\"#B0BEC5\",\"#B0BEC5\",\"#B0BEC5\",\"#B0BEC5\",\"#B0BEC5\",\"#B0BEC5\",\"#B0BEC5\",\"#B0BEC5\",\"#B0BEC5\",\"#B0BEC5\",\"#B0BEC5\",\"#B0BEC5\",\"#B0BEC5\",\"#B0BEC5\",\"#B0BEC5\",\"#B0BEC5\",\"#B0BEC5\",\"#B0BEC5\",\"#B0BEC5\",\"#B0BEC5\",\"#B0BEC5\",\"#B0BEC5\",\"#B0BEC5\",\"#B0BEC5\",\"#B0BEC5\",\"#B0BEC5\",\"#B0BEC5\",\"#B0BEC5\",\"#B0BEC5\",\"#B0BEC5\",\"#B0BEC5\",\"#B0BEC5\",\"#B0BEC5\",\"#B0BEC5\",\"#B0BEC5\",\"#B0BEC5\",\"#B0BEC5\",\"#B0BEC5\",\"#B0BEC5\",\"#B0BEC5\",\"#B0BEC5\",\"#B0BEC5\",\"#B0BEC5\",\"#B0BEC5\",\"#B0BEC5\",\"#B0BEC5\",\"#B0BEC5\"]]}],\"label\":\"Topic 23\",\"method\":\"update\"},{\"args\":[{\"marker.color\":[[\"#B0BEC5\",\"#B0BEC5\",\"#B0BEC5\",\"#B0BEC5\",\"#B0BEC5\",\"#B0BEC5\",\"#B0BEC5\",\"#B0BEC5\",\"#B0BEC5\",\"#B0BEC5\",\"#B0BEC5\",\"#B0BEC5\",\"#B0BEC5\",\"#B0BEC5\",\"#B0BEC5\",\"#B0BEC5\",\"#B0BEC5\",\"#B0BEC5\",\"#B0BEC5\",\"#B0BEC5\",\"#B0BEC5\",\"#B0BEC5\",\"#B0BEC5\",\"#B0BEC5\",\"red\",\"#B0BEC5\",\"#B0BEC5\",\"#B0BEC5\",\"#B0BEC5\",\"#B0BEC5\",\"#B0BEC5\",\"#B0BEC5\",\"#B0BEC5\",\"#B0BEC5\",\"#B0BEC5\",\"#B0BEC5\",\"#B0BEC5\",\"#B0BEC5\",\"#B0BEC5\",\"#B0BEC5\",\"#B0BEC5\",\"#B0BEC5\",\"#B0BEC5\",\"#B0BEC5\",\"#B0BEC5\",\"#B0BEC5\",\"#B0BEC5\",\"#B0BEC5\",\"#B0BEC5\",\"#B0BEC5\",\"#B0BEC5\",\"#B0BEC5\",\"#B0BEC5\",\"#B0BEC5\",\"#B0BEC5\",\"#B0BEC5\",\"#B0BEC5\",\"#B0BEC5\",\"#B0BEC5\",\"#B0BEC5\",\"#B0BEC5\",\"#B0BEC5\",\"#B0BEC5\",\"#B0BEC5\",\"#B0BEC5\",\"#B0BEC5\",\"#B0BEC5\",\"#B0BEC5\",\"#B0BEC5\",\"#B0BEC5\",\"#B0BEC5\",\"#B0BEC5\",\"#B0BEC5\",\"#B0BEC5\",\"#B0BEC5\",\"#B0BEC5\",\"#B0BEC5\"]]}],\"label\":\"Topic 24\",\"method\":\"update\"},{\"args\":[{\"marker.color\":[[\"#B0BEC5\",\"#B0BEC5\",\"#B0BEC5\",\"#B0BEC5\",\"#B0BEC5\",\"#B0BEC5\",\"#B0BEC5\",\"#B0BEC5\",\"#B0BEC5\",\"#B0BEC5\",\"#B0BEC5\",\"#B0BEC5\",\"#B0BEC5\",\"#B0BEC5\",\"#B0BEC5\",\"#B0BEC5\",\"#B0BEC5\",\"#B0BEC5\",\"#B0BEC5\",\"#B0BEC5\",\"#B0BEC5\",\"#B0BEC5\",\"#B0BEC5\",\"#B0BEC5\",\"#B0BEC5\",\"red\",\"#B0BEC5\",\"#B0BEC5\",\"#B0BEC5\",\"#B0BEC5\",\"#B0BEC5\",\"#B0BEC5\",\"#B0BEC5\",\"#B0BEC5\",\"#B0BEC5\",\"#B0BEC5\",\"#B0BEC5\",\"#B0BEC5\",\"#B0BEC5\",\"#B0BEC5\",\"#B0BEC5\",\"#B0BEC5\",\"#B0BEC5\",\"#B0BEC5\",\"#B0BEC5\",\"#B0BEC5\",\"#B0BEC5\",\"#B0BEC5\",\"#B0BEC5\",\"#B0BEC5\",\"#B0BEC5\",\"#B0BEC5\",\"#B0BEC5\",\"#B0BEC5\",\"#B0BEC5\",\"#B0BEC5\",\"#B0BEC5\",\"#B0BEC5\",\"#B0BEC5\",\"#B0BEC5\",\"#B0BEC5\",\"#B0BEC5\",\"#B0BEC5\",\"#B0BEC5\",\"#B0BEC5\",\"#B0BEC5\",\"#B0BEC5\",\"#B0BEC5\",\"#B0BEC5\",\"#B0BEC5\",\"#B0BEC5\",\"#B0BEC5\",\"#B0BEC5\",\"#B0BEC5\",\"#B0BEC5\",\"#B0BEC5\",\"#B0BEC5\"]]}],\"label\":\"Topic 25\",\"method\":\"update\"},{\"args\":[{\"marker.color\":[[\"#B0BEC5\",\"#B0BEC5\",\"#B0BEC5\",\"#B0BEC5\",\"#B0BEC5\",\"#B0BEC5\",\"#B0BEC5\",\"#B0BEC5\",\"#B0BEC5\",\"#B0BEC5\",\"#B0BEC5\",\"#B0BEC5\",\"#B0BEC5\",\"#B0BEC5\",\"#B0BEC5\",\"#B0BEC5\",\"#B0BEC5\",\"#B0BEC5\",\"#B0BEC5\",\"#B0BEC5\",\"#B0BEC5\",\"#B0BEC5\",\"#B0BEC5\",\"#B0BEC5\",\"#B0BEC5\",\"#B0BEC5\",\"red\",\"#B0BEC5\",\"#B0BEC5\",\"#B0BEC5\",\"#B0BEC5\",\"#B0BEC5\",\"#B0BEC5\",\"#B0BEC5\",\"#B0BEC5\",\"#B0BEC5\",\"#B0BEC5\",\"#B0BEC5\",\"#B0BEC5\",\"#B0BEC5\",\"#B0BEC5\",\"#B0BEC5\",\"#B0BEC5\",\"#B0BEC5\",\"#B0BEC5\",\"#B0BEC5\",\"#B0BEC5\",\"#B0BEC5\",\"#B0BEC5\",\"#B0BEC5\",\"#B0BEC5\",\"#B0BEC5\",\"#B0BEC5\",\"#B0BEC5\",\"#B0BEC5\",\"#B0BEC5\",\"#B0BEC5\",\"#B0BEC5\",\"#B0BEC5\",\"#B0BEC5\",\"#B0BEC5\",\"#B0BEC5\",\"#B0BEC5\",\"#B0BEC5\",\"#B0BEC5\",\"#B0BEC5\",\"#B0BEC5\",\"#B0BEC5\",\"#B0BEC5\",\"#B0BEC5\",\"#B0BEC5\",\"#B0BEC5\",\"#B0BEC5\",\"#B0BEC5\",\"#B0BEC5\",\"#B0BEC5\",\"#B0BEC5\"]]}],\"label\":\"Topic 26\",\"method\":\"update\"},{\"args\":[{\"marker.color\":[[\"#B0BEC5\",\"#B0BEC5\",\"#B0BEC5\",\"#B0BEC5\",\"#B0BEC5\",\"#B0BEC5\",\"#B0BEC5\",\"#B0BEC5\",\"#B0BEC5\",\"#B0BEC5\",\"#B0BEC5\",\"#B0BEC5\",\"#B0BEC5\",\"#B0BEC5\",\"#B0BEC5\",\"#B0BEC5\",\"#B0BEC5\",\"#B0BEC5\",\"#B0BEC5\",\"#B0BEC5\",\"#B0BEC5\",\"#B0BEC5\",\"#B0BEC5\",\"#B0BEC5\",\"#B0BEC5\",\"#B0BEC5\",\"#B0BEC5\",\"red\",\"#B0BEC5\",\"#B0BEC5\",\"#B0BEC5\",\"#B0BEC5\",\"#B0BEC5\",\"#B0BEC5\",\"#B0BEC5\",\"#B0BEC5\",\"#B0BEC5\",\"#B0BEC5\",\"#B0BEC5\",\"#B0BEC5\",\"#B0BEC5\",\"#B0BEC5\",\"#B0BEC5\",\"#B0BEC5\",\"#B0BEC5\",\"#B0BEC5\",\"#B0BEC5\",\"#B0BEC5\",\"#B0BEC5\",\"#B0BEC5\",\"#B0BEC5\",\"#B0BEC5\",\"#B0BEC5\",\"#B0BEC5\",\"#B0BEC5\",\"#B0BEC5\",\"#B0BEC5\",\"#B0BEC5\",\"#B0BEC5\",\"#B0BEC5\",\"#B0BEC5\",\"#B0BEC5\",\"#B0BEC5\",\"#B0BEC5\",\"#B0BEC5\",\"#B0BEC5\",\"#B0BEC5\",\"#B0BEC5\",\"#B0BEC5\",\"#B0BEC5\",\"#B0BEC5\",\"#B0BEC5\",\"#B0BEC5\",\"#B0BEC5\",\"#B0BEC5\",\"#B0BEC5\",\"#B0BEC5\"]]}],\"label\":\"Topic 27\",\"method\":\"update\"},{\"args\":[{\"marker.color\":[[\"#B0BEC5\",\"#B0BEC5\",\"#B0BEC5\",\"#B0BEC5\",\"#B0BEC5\",\"#B0BEC5\",\"#B0BEC5\",\"#B0BEC5\",\"#B0BEC5\",\"#B0BEC5\",\"#B0BEC5\",\"#B0BEC5\",\"#B0BEC5\",\"#B0BEC5\",\"#B0BEC5\",\"#B0BEC5\",\"#B0BEC5\",\"#B0BEC5\",\"#B0BEC5\",\"#B0BEC5\",\"#B0BEC5\",\"#B0BEC5\",\"#B0BEC5\",\"#B0BEC5\",\"#B0BEC5\",\"#B0BEC5\",\"#B0BEC5\",\"#B0BEC5\",\"red\",\"#B0BEC5\",\"#B0BEC5\",\"#B0BEC5\",\"#B0BEC5\",\"#B0BEC5\",\"#B0BEC5\",\"#B0BEC5\",\"#B0BEC5\",\"#B0BEC5\",\"#B0BEC5\",\"#B0BEC5\",\"#B0BEC5\",\"#B0BEC5\",\"#B0BEC5\",\"#B0BEC5\",\"#B0BEC5\",\"#B0BEC5\",\"#B0BEC5\",\"#B0BEC5\",\"#B0BEC5\",\"#B0BEC5\",\"#B0BEC5\",\"#B0BEC5\",\"#B0BEC5\",\"#B0BEC5\",\"#B0BEC5\",\"#B0BEC5\",\"#B0BEC5\",\"#B0BEC5\",\"#B0BEC5\",\"#B0BEC5\",\"#B0BEC5\",\"#B0BEC5\",\"#B0BEC5\",\"#B0BEC5\",\"#B0BEC5\",\"#B0BEC5\",\"#B0BEC5\",\"#B0BEC5\",\"#B0BEC5\",\"#B0BEC5\",\"#B0BEC5\",\"#B0BEC5\",\"#B0BEC5\",\"#B0BEC5\",\"#B0BEC5\",\"#B0BEC5\",\"#B0BEC5\"]]}],\"label\":\"Topic 28\",\"method\":\"update\"},{\"args\":[{\"marker.color\":[[\"#B0BEC5\",\"#B0BEC5\",\"#B0BEC5\",\"#B0BEC5\",\"#B0BEC5\",\"#B0BEC5\",\"#B0BEC5\",\"#B0BEC5\",\"#B0BEC5\",\"#B0BEC5\",\"#B0BEC5\",\"#B0BEC5\",\"#B0BEC5\",\"#B0BEC5\",\"#B0BEC5\",\"#B0BEC5\",\"#B0BEC5\",\"#B0BEC5\",\"#B0BEC5\",\"#B0BEC5\",\"#B0BEC5\",\"#B0BEC5\",\"#B0BEC5\",\"#B0BEC5\",\"#B0BEC5\",\"#B0BEC5\",\"#B0BEC5\",\"#B0BEC5\",\"#B0BEC5\",\"red\",\"#B0BEC5\",\"#B0BEC5\",\"#B0BEC5\",\"#B0BEC5\",\"#B0BEC5\",\"#B0BEC5\",\"#B0BEC5\",\"#B0BEC5\",\"#B0BEC5\",\"#B0BEC5\",\"#B0BEC5\",\"#B0BEC5\",\"#B0BEC5\",\"#B0BEC5\",\"#B0BEC5\",\"#B0BEC5\",\"#B0BEC5\",\"#B0BEC5\",\"#B0BEC5\",\"#B0BEC5\",\"#B0BEC5\",\"#B0BEC5\",\"#B0BEC5\",\"#B0BEC5\",\"#B0BEC5\",\"#B0BEC5\",\"#B0BEC5\",\"#B0BEC5\",\"#B0BEC5\",\"#B0BEC5\",\"#B0BEC5\",\"#B0BEC5\",\"#B0BEC5\",\"#B0BEC5\",\"#B0BEC5\",\"#B0BEC5\",\"#B0BEC5\",\"#B0BEC5\",\"#B0BEC5\",\"#B0BEC5\",\"#B0BEC5\",\"#B0BEC5\",\"#B0BEC5\",\"#B0BEC5\",\"#B0BEC5\",\"#B0BEC5\",\"#B0BEC5\"]]}],\"label\":\"Topic 29\",\"method\":\"update\"},{\"args\":[{\"marker.color\":[[\"#B0BEC5\",\"#B0BEC5\",\"#B0BEC5\",\"#B0BEC5\",\"#B0BEC5\",\"#B0BEC5\",\"#B0BEC5\",\"#B0BEC5\",\"#B0BEC5\",\"#B0BEC5\",\"#B0BEC5\",\"#B0BEC5\",\"#B0BEC5\",\"#B0BEC5\",\"#B0BEC5\",\"#B0BEC5\",\"#B0BEC5\",\"#B0BEC5\",\"#B0BEC5\",\"#B0BEC5\",\"#B0BEC5\",\"#B0BEC5\",\"#B0BEC5\",\"#B0BEC5\",\"#B0BEC5\",\"#B0BEC5\",\"#B0BEC5\",\"#B0BEC5\",\"#B0BEC5\",\"#B0BEC5\",\"red\",\"#B0BEC5\",\"#B0BEC5\",\"#B0BEC5\",\"#B0BEC5\",\"#B0BEC5\",\"#B0BEC5\",\"#B0BEC5\",\"#B0BEC5\",\"#B0BEC5\",\"#B0BEC5\",\"#B0BEC5\",\"#B0BEC5\",\"#B0BEC5\",\"#B0BEC5\",\"#B0BEC5\",\"#B0BEC5\",\"#B0BEC5\",\"#B0BEC5\",\"#B0BEC5\",\"#B0BEC5\",\"#B0BEC5\",\"#B0BEC5\",\"#B0BEC5\",\"#B0BEC5\",\"#B0BEC5\",\"#B0BEC5\",\"#B0BEC5\",\"#B0BEC5\",\"#B0BEC5\",\"#B0BEC5\",\"#B0BEC5\",\"#B0BEC5\",\"#B0BEC5\",\"#B0BEC5\",\"#B0BEC5\",\"#B0BEC5\",\"#B0BEC5\",\"#B0BEC5\",\"#B0BEC5\",\"#B0BEC5\",\"#B0BEC5\",\"#B0BEC5\",\"#B0BEC5\",\"#B0BEC5\",\"#B0BEC5\",\"#B0BEC5\"]]}],\"label\":\"Topic 30\",\"method\":\"update\"},{\"args\":[{\"marker.color\":[[\"#B0BEC5\",\"#B0BEC5\",\"#B0BEC5\",\"#B0BEC5\",\"#B0BEC5\",\"#B0BEC5\",\"#B0BEC5\",\"#B0BEC5\",\"#B0BEC5\",\"#B0BEC5\",\"#B0BEC5\",\"#B0BEC5\",\"#B0BEC5\",\"#B0BEC5\",\"#B0BEC5\",\"#B0BEC5\",\"#B0BEC5\",\"#B0BEC5\",\"#B0BEC5\",\"#B0BEC5\",\"#B0BEC5\",\"#B0BEC5\",\"#B0BEC5\",\"#B0BEC5\",\"#B0BEC5\",\"#B0BEC5\",\"#B0BEC5\",\"#B0BEC5\",\"#B0BEC5\",\"#B0BEC5\",\"#B0BEC5\",\"red\",\"#B0BEC5\",\"#B0BEC5\",\"#B0BEC5\",\"#B0BEC5\",\"#B0BEC5\",\"#B0BEC5\",\"#B0BEC5\",\"#B0BEC5\",\"#B0BEC5\",\"#B0BEC5\",\"#B0BEC5\",\"#B0BEC5\",\"#B0BEC5\",\"#B0BEC5\",\"#B0BEC5\",\"#B0BEC5\",\"#B0BEC5\",\"#B0BEC5\",\"#B0BEC5\",\"#B0BEC5\",\"#B0BEC5\",\"#B0BEC5\",\"#B0BEC5\",\"#B0BEC5\",\"#B0BEC5\",\"#B0BEC5\",\"#B0BEC5\",\"#B0BEC5\",\"#B0BEC5\",\"#B0BEC5\",\"#B0BEC5\",\"#B0BEC5\",\"#B0BEC5\",\"#B0BEC5\",\"#B0BEC5\",\"#B0BEC5\",\"#B0BEC5\",\"#B0BEC5\",\"#B0BEC5\",\"#B0BEC5\",\"#B0BEC5\",\"#B0BEC5\",\"#B0BEC5\",\"#B0BEC5\",\"#B0BEC5\"]]}],\"label\":\"Topic 31\",\"method\":\"update\"},{\"args\":[{\"marker.color\":[[\"#B0BEC5\",\"#B0BEC5\",\"#B0BEC5\",\"#B0BEC5\",\"#B0BEC5\",\"#B0BEC5\",\"#B0BEC5\",\"#B0BEC5\",\"#B0BEC5\",\"#B0BEC5\",\"#B0BEC5\",\"#B0BEC5\",\"#B0BEC5\",\"#B0BEC5\",\"#B0BEC5\",\"#B0BEC5\",\"#B0BEC5\",\"#B0BEC5\",\"#B0BEC5\",\"#B0BEC5\",\"#B0BEC5\",\"#B0BEC5\",\"#B0BEC5\",\"#B0BEC5\",\"#B0BEC5\",\"#B0BEC5\",\"#B0BEC5\",\"#B0BEC5\",\"#B0BEC5\",\"#B0BEC5\",\"#B0BEC5\",\"#B0BEC5\",\"red\",\"#B0BEC5\",\"#B0BEC5\",\"#B0BEC5\",\"#B0BEC5\",\"#B0BEC5\",\"#B0BEC5\",\"#B0BEC5\",\"#B0BEC5\",\"#B0BEC5\",\"#B0BEC5\",\"#B0BEC5\",\"#B0BEC5\",\"#B0BEC5\",\"#B0BEC5\",\"#B0BEC5\",\"#B0BEC5\",\"#B0BEC5\",\"#B0BEC5\",\"#B0BEC5\",\"#B0BEC5\",\"#B0BEC5\",\"#B0BEC5\",\"#B0BEC5\",\"#B0BEC5\",\"#B0BEC5\",\"#B0BEC5\",\"#B0BEC5\",\"#B0BEC5\",\"#B0BEC5\",\"#B0BEC5\",\"#B0BEC5\",\"#B0BEC5\",\"#B0BEC5\",\"#B0BEC5\",\"#B0BEC5\",\"#B0BEC5\",\"#B0BEC5\",\"#B0BEC5\",\"#B0BEC5\",\"#B0BEC5\",\"#B0BEC5\",\"#B0BEC5\",\"#B0BEC5\",\"#B0BEC5\"]]}],\"label\":\"Topic 32\",\"method\":\"update\"},{\"args\":[{\"marker.color\":[[\"#B0BEC5\",\"#B0BEC5\",\"#B0BEC5\",\"#B0BEC5\",\"#B0BEC5\",\"#B0BEC5\",\"#B0BEC5\",\"#B0BEC5\",\"#B0BEC5\",\"#B0BEC5\",\"#B0BEC5\",\"#B0BEC5\",\"#B0BEC5\",\"#B0BEC5\",\"#B0BEC5\",\"#B0BEC5\",\"#B0BEC5\",\"#B0BEC5\",\"#B0BEC5\",\"#B0BEC5\",\"#B0BEC5\",\"#B0BEC5\",\"#B0BEC5\",\"#B0BEC5\",\"#B0BEC5\",\"#B0BEC5\",\"#B0BEC5\",\"#B0BEC5\",\"#B0BEC5\",\"#B0BEC5\",\"#B0BEC5\",\"#B0BEC5\",\"#B0BEC5\",\"red\",\"#B0BEC5\",\"#B0BEC5\",\"#B0BEC5\",\"#B0BEC5\",\"#B0BEC5\",\"#B0BEC5\",\"#B0BEC5\",\"#B0BEC5\",\"#B0BEC5\",\"#B0BEC5\",\"#B0BEC5\",\"#B0BEC5\",\"#B0BEC5\",\"#B0BEC5\",\"#B0BEC5\",\"#B0BEC5\",\"#B0BEC5\",\"#B0BEC5\",\"#B0BEC5\",\"#B0BEC5\",\"#B0BEC5\",\"#B0BEC5\",\"#B0BEC5\",\"#B0BEC5\",\"#B0BEC5\",\"#B0BEC5\",\"#B0BEC5\",\"#B0BEC5\",\"#B0BEC5\",\"#B0BEC5\",\"#B0BEC5\",\"#B0BEC5\",\"#B0BEC5\",\"#B0BEC5\",\"#B0BEC5\",\"#B0BEC5\",\"#B0BEC5\",\"#B0BEC5\",\"#B0BEC5\",\"#B0BEC5\",\"#B0BEC5\",\"#B0BEC5\",\"#B0BEC5\"]]}],\"label\":\"Topic 33\",\"method\":\"update\"},{\"args\":[{\"marker.color\":[[\"#B0BEC5\",\"#B0BEC5\",\"#B0BEC5\",\"#B0BEC5\",\"#B0BEC5\",\"#B0BEC5\",\"#B0BEC5\",\"#B0BEC5\",\"#B0BEC5\",\"#B0BEC5\",\"#B0BEC5\",\"#B0BEC5\",\"#B0BEC5\",\"#B0BEC5\",\"#B0BEC5\",\"#B0BEC5\",\"#B0BEC5\",\"#B0BEC5\",\"#B0BEC5\",\"#B0BEC5\",\"#B0BEC5\",\"#B0BEC5\",\"#B0BEC5\",\"#B0BEC5\",\"#B0BEC5\",\"#B0BEC5\",\"#B0BEC5\",\"#B0BEC5\",\"#B0BEC5\",\"#B0BEC5\",\"#B0BEC5\",\"#B0BEC5\",\"#B0BEC5\",\"#B0BEC5\",\"red\",\"#B0BEC5\",\"#B0BEC5\",\"#B0BEC5\",\"#B0BEC5\",\"#B0BEC5\",\"#B0BEC5\",\"#B0BEC5\",\"#B0BEC5\",\"#B0BEC5\",\"#B0BEC5\",\"#B0BEC5\",\"#B0BEC5\",\"#B0BEC5\",\"#B0BEC5\",\"#B0BEC5\",\"#B0BEC5\",\"#B0BEC5\",\"#B0BEC5\",\"#B0BEC5\",\"#B0BEC5\",\"#B0BEC5\",\"#B0BEC5\",\"#B0BEC5\",\"#B0BEC5\",\"#B0BEC5\",\"#B0BEC5\",\"#B0BEC5\",\"#B0BEC5\",\"#B0BEC5\",\"#B0BEC5\",\"#B0BEC5\",\"#B0BEC5\",\"#B0BEC5\",\"#B0BEC5\",\"#B0BEC5\",\"#B0BEC5\",\"#B0BEC5\",\"#B0BEC5\",\"#B0BEC5\",\"#B0BEC5\",\"#B0BEC5\",\"#B0BEC5\"]]}],\"label\":\"Topic 34\",\"method\":\"update\"},{\"args\":[{\"marker.color\":[[\"#B0BEC5\",\"#B0BEC5\",\"#B0BEC5\",\"#B0BEC5\",\"#B0BEC5\",\"#B0BEC5\",\"#B0BEC5\",\"#B0BEC5\",\"#B0BEC5\",\"#B0BEC5\",\"#B0BEC5\",\"#B0BEC5\",\"#B0BEC5\",\"#B0BEC5\",\"#B0BEC5\",\"#B0BEC5\",\"#B0BEC5\",\"#B0BEC5\",\"#B0BEC5\",\"#B0BEC5\",\"#B0BEC5\",\"#B0BEC5\",\"#B0BEC5\",\"#B0BEC5\",\"#B0BEC5\",\"#B0BEC5\",\"#B0BEC5\",\"#B0BEC5\",\"#B0BEC5\",\"#B0BEC5\",\"#B0BEC5\",\"#B0BEC5\",\"#B0BEC5\",\"#B0BEC5\",\"#B0BEC5\",\"red\",\"#B0BEC5\",\"#B0BEC5\",\"#B0BEC5\",\"#B0BEC5\",\"#B0BEC5\",\"#B0BEC5\",\"#B0BEC5\",\"#B0BEC5\",\"#B0BEC5\",\"#B0BEC5\",\"#B0BEC5\",\"#B0BEC5\",\"#B0BEC5\",\"#B0BEC5\",\"#B0BEC5\",\"#B0BEC5\",\"#B0BEC5\",\"#B0BEC5\",\"#B0BEC5\",\"#B0BEC5\",\"#B0BEC5\",\"#B0BEC5\",\"#B0BEC5\",\"#B0BEC5\",\"#B0BEC5\",\"#B0BEC5\",\"#B0BEC5\",\"#B0BEC5\",\"#B0BEC5\",\"#B0BEC5\",\"#B0BEC5\",\"#B0BEC5\",\"#B0BEC5\",\"#B0BEC5\",\"#B0BEC5\",\"#B0BEC5\",\"#B0BEC5\",\"#B0BEC5\",\"#B0BEC5\",\"#B0BEC5\",\"#B0BEC5\"]]}],\"label\":\"Topic 35\",\"method\":\"update\"},{\"args\":[{\"marker.color\":[[\"#B0BEC5\",\"#B0BEC5\",\"#B0BEC5\",\"#B0BEC5\",\"#B0BEC5\",\"#B0BEC5\",\"#B0BEC5\",\"#B0BEC5\",\"#B0BEC5\",\"#B0BEC5\",\"#B0BEC5\",\"#B0BEC5\",\"#B0BEC5\",\"#B0BEC5\",\"#B0BEC5\",\"#B0BEC5\",\"#B0BEC5\",\"#B0BEC5\",\"#B0BEC5\",\"#B0BEC5\",\"#B0BEC5\",\"#B0BEC5\",\"#B0BEC5\",\"#B0BEC5\",\"#B0BEC5\",\"#B0BEC5\",\"#B0BEC5\",\"#B0BEC5\",\"#B0BEC5\",\"#B0BEC5\",\"#B0BEC5\",\"#B0BEC5\",\"#B0BEC5\",\"#B0BEC5\",\"#B0BEC5\",\"#B0BEC5\",\"red\",\"#B0BEC5\",\"#B0BEC5\",\"#B0BEC5\",\"#B0BEC5\",\"#B0BEC5\",\"#B0BEC5\",\"#B0BEC5\",\"#B0BEC5\",\"#B0BEC5\",\"#B0BEC5\",\"#B0BEC5\",\"#B0BEC5\",\"#B0BEC5\",\"#B0BEC5\",\"#B0BEC5\",\"#B0BEC5\",\"#B0BEC5\",\"#B0BEC5\",\"#B0BEC5\",\"#B0BEC5\",\"#B0BEC5\",\"#B0BEC5\",\"#B0BEC5\",\"#B0BEC5\",\"#B0BEC5\",\"#B0BEC5\",\"#B0BEC5\",\"#B0BEC5\",\"#B0BEC5\",\"#B0BEC5\",\"#B0BEC5\",\"#B0BEC5\",\"#B0BEC5\",\"#B0BEC5\",\"#B0BEC5\",\"#B0BEC5\",\"#B0BEC5\",\"#B0BEC5\",\"#B0BEC5\",\"#B0BEC5\"]]}],\"label\":\"Topic 36\",\"method\":\"update\"},{\"args\":[{\"marker.color\":[[\"#B0BEC5\",\"#B0BEC5\",\"#B0BEC5\",\"#B0BEC5\",\"#B0BEC5\",\"#B0BEC5\",\"#B0BEC5\",\"#B0BEC5\",\"#B0BEC5\",\"#B0BEC5\",\"#B0BEC5\",\"#B0BEC5\",\"#B0BEC5\",\"#B0BEC5\",\"#B0BEC5\",\"#B0BEC5\",\"#B0BEC5\",\"#B0BEC5\",\"#B0BEC5\",\"#B0BEC5\",\"#B0BEC5\",\"#B0BEC5\",\"#B0BEC5\",\"#B0BEC5\",\"#B0BEC5\",\"#B0BEC5\",\"#B0BEC5\",\"#B0BEC5\",\"#B0BEC5\",\"#B0BEC5\",\"#B0BEC5\",\"#B0BEC5\",\"#B0BEC5\",\"#B0BEC5\",\"#B0BEC5\",\"#B0BEC5\",\"#B0BEC5\",\"red\",\"#B0BEC5\",\"#B0BEC5\",\"#B0BEC5\",\"#B0BEC5\",\"#B0BEC5\",\"#B0BEC5\",\"#B0BEC5\",\"#B0BEC5\",\"#B0BEC5\",\"#B0BEC5\",\"#B0BEC5\",\"#B0BEC5\",\"#B0BEC5\",\"#B0BEC5\",\"#B0BEC5\",\"#B0BEC5\",\"#B0BEC5\",\"#B0BEC5\",\"#B0BEC5\",\"#B0BEC5\",\"#B0BEC5\",\"#B0BEC5\",\"#B0BEC5\",\"#B0BEC5\",\"#B0BEC5\",\"#B0BEC5\",\"#B0BEC5\",\"#B0BEC5\",\"#B0BEC5\",\"#B0BEC5\",\"#B0BEC5\",\"#B0BEC5\",\"#B0BEC5\",\"#B0BEC5\",\"#B0BEC5\",\"#B0BEC5\",\"#B0BEC5\",\"#B0BEC5\",\"#B0BEC5\"]]}],\"label\":\"Topic 37\",\"method\":\"update\"},{\"args\":[{\"marker.color\":[[\"#B0BEC5\",\"#B0BEC5\",\"#B0BEC5\",\"#B0BEC5\",\"#B0BEC5\",\"#B0BEC5\",\"#B0BEC5\",\"#B0BEC5\",\"#B0BEC5\",\"#B0BEC5\",\"#B0BEC5\",\"#B0BEC5\",\"#B0BEC5\",\"#B0BEC5\",\"#B0BEC5\",\"#B0BEC5\",\"#B0BEC5\",\"#B0BEC5\",\"#B0BEC5\",\"#B0BEC5\",\"#B0BEC5\",\"#B0BEC5\",\"#B0BEC5\",\"#B0BEC5\",\"#B0BEC5\",\"#B0BEC5\",\"#B0BEC5\",\"#B0BEC5\",\"#B0BEC5\",\"#B0BEC5\",\"#B0BEC5\",\"#B0BEC5\",\"#B0BEC5\",\"#B0BEC5\",\"#B0BEC5\",\"#B0BEC5\",\"#B0BEC5\",\"#B0BEC5\",\"red\",\"#B0BEC5\",\"#B0BEC5\",\"#B0BEC5\",\"#B0BEC5\",\"#B0BEC5\",\"#B0BEC5\",\"#B0BEC5\",\"#B0BEC5\",\"#B0BEC5\",\"#B0BEC5\",\"#B0BEC5\",\"#B0BEC5\",\"#B0BEC5\",\"#B0BEC5\",\"#B0BEC5\",\"#B0BEC5\",\"#B0BEC5\",\"#B0BEC5\",\"#B0BEC5\",\"#B0BEC5\",\"#B0BEC5\",\"#B0BEC5\",\"#B0BEC5\",\"#B0BEC5\",\"#B0BEC5\",\"#B0BEC5\",\"#B0BEC5\",\"#B0BEC5\",\"#B0BEC5\",\"#B0BEC5\",\"#B0BEC5\",\"#B0BEC5\",\"#B0BEC5\",\"#B0BEC5\",\"#B0BEC5\",\"#B0BEC5\",\"#B0BEC5\",\"#B0BEC5\"]]}],\"label\":\"Topic 38\",\"method\":\"update\"},{\"args\":[{\"marker.color\":[[\"#B0BEC5\",\"#B0BEC5\",\"#B0BEC5\",\"#B0BEC5\",\"#B0BEC5\",\"#B0BEC5\",\"#B0BEC5\",\"#B0BEC5\",\"#B0BEC5\",\"#B0BEC5\",\"#B0BEC5\",\"#B0BEC5\",\"#B0BEC5\",\"#B0BEC5\",\"#B0BEC5\",\"#B0BEC5\",\"#B0BEC5\",\"#B0BEC5\",\"#B0BEC5\",\"#B0BEC5\",\"#B0BEC5\",\"#B0BEC5\",\"#B0BEC5\",\"#B0BEC5\",\"#B0BEC5\",\"#B0BEC5\",\"#B0BEC5\",\"#B0BEC5\",\"#B0BEC5\",\"#B0BEC5\",\"#B0BEC5\",\"#B0BEC5\",\"#B0BEC5\",\"#B0BEC5\",\"#B0BEC5\",\"#B0BEC5\",\"#B0BEC5\",\"#B0BEC5\",\"#B0BEC5\",\"red\",\"#B0BEC5\",\"#B0BEC5\",\"#B0BEC5\",\"#B0BEC5\",\"#B0BEC5\",\"#B0BEC5\",\"#B0BEC5\",\"#B0BEC5\",\"#B0BEC5\",\"#B0BEC5\",\"#B0BEC5\",\"#B0BEC5\",\"#B0BEC5\",\"#B0BEC5\",\"#B0BEC5\",\"#B0BEC5\",\"#B0BEC5\",\"#B0BEC5\",\"#B0BEC5\",\"#B0BEC5\",\"#B0BEC5\",\"#B0BEC5\",\"#B0BEC5\",\"#B0BEC5\",\"#B0BEC5\",\"#B0BEC5\",\"#B0BEC5\",\"#B0BEC5\",\"#B0BEC5\",\"#B0BEC5\",\"#B0BEC5\",\"#B0BEC5\",\"#B0BEC5\",\"#B0BEC5\",\"#B0BEC5\",\"#B0BEC5\",\"#B0BEC5\"]]}],\"label\":\"Topic 39\",\"method\":\"update\"},{\"args\":[{\"marker.color\":[[\"#B0BEC5\",\"#B0BEC5\",\"#B0BEC5\",\"#B0BEC5\",\"#B0BEC5\",\"#B0BEC5\",\"#B0BEC5\",\"#B0BEC5\",\"#B0BEC5\",\"#B0BEC5\",\"#B0BEC5\",\"#B0BEC5\",\"#B0BEC5\",\"#B0BEC5\",\"#B0BEC5\",\"#B0BEC5\",\"#B0BEC5\",\"#B0BEC5\",\"#B0BEC5\",\"#B0BEC5\",\"#B0BEC5\",\"#B0BEC5\",\"#B0BEC5\",\"#B0BEC5\",\"#B0BEC5\",\"#B0BEC5\",\"#B0BEC5\",\"#B0BEC5\",\"#B0BEC5\",\"#B0BEC5\",\"#B0BEC5\",\"#B0BEC5\",\"#B0BEC5\",\"#B0BEC5\",\"#B0BEC5\",\"#B0BEC5\",\"#B0BEC5\",\"#B0BEC5\",\"#B0BEC5\",\"#B0BEC5\",\"red\",\"#B0BEC5\",\"#B0BEC5\",\"#B0BEC5\",\"#B0BEC5\",\"#B0BEC5\",\"#B0BEC5\",\"#B0BEC5\",\"#B0BEC5\",\"#B0BEC5\",\"#B0BEC5\",\"#B0BEC5\",\"#B0BEC5\",\"#B0BEC5\",\"#B0BEC5\",\"#B0BEC5\",\"#B0BEC5\",\"#B0BEC5\",\"#B0BEC5\",\"#B0BEC5\",\"#B0BEC5\",\"#B0BEC5\",\"#B0BEC5\",\"#B0BEC5\",\"#B0BEC5\",\"#B0BEC5\",\"#B0BEC5\",\"#B0BEC5\",\"#B0BEC5\",\"#B0BEC5\",\"#B0BEC5\",\"#B0BEC5\",\"#B0BEC5\",\"#B0BEC5\",\"#B0BEC5\",\"#B0BEC5\",\"#B0BEC5\"]]}],\"label\":\"Topic 40\",\"method\":\"update\"},{\"args\":[{\"marker.color\":[[\"#B0BEC5\",\"#B0BEC5\",\"#B0BEC5\",\"#B0BEC5\",\"#B0BEC5\",\"#B0BEC5\",\"#B0BEC5\",\"#B0BEC5\",\"#B0BEC5\",\"#B0BEC5\",\"#B0BEC5\",\"#B0BEC5\",\"#B0BEC5\",\"#B0BEC5\",\"#B0BEC5\",\"#B0BEC5\",\"#B0BEC5\",\"#B0BEC5\",\"#B0BEC5\",\"#B0BEC5\",\"#B0BEC5\",\"#B0BEC5\",\"#B0BEC5\",\"#B0BEC5\",\"#B0BEC5\",\"#B0BEC5\",\"#B0BEC5\",\"#B0BEC5\",\"#B0BEC5\",\"#B0BEC5\",\"#B0BEC5\",\"#B0BEC5\",\"#B0BEC5\",\"#B0BEC5\",\"#B0BEC5\",\"#B0BEC5\",\"#B0BEC5\",\"#B0BEC5\",\"#B0BEC5\",\"#B0BEC5\",\"#B0BEC5\",\"red\",\"#B0BEC5\",\"#B0BEC5\",\"#B0BEC5\",\"#B0BEC5\",\"#B0BEC5\",\"#B0BEC5\",\"#B0BEC5\",\"#B0BEC5\",\"#B0BEC5\",\"#B0BEC5\",\"#B0BEC5\",\"#B0BEC5\",\"#B0BEC5\",\"#B0BEC5\",\"#B0BEC5\",\"#B0BEC5\",\"#B0BEC5\",\"#B0BEC5\",\"#B0BEC5\",\"#B0BEC5\",\"#B0BEC5\",\"#B0BEC5\",\"#B0BEC5\",\"#B0BEC5\",\"#B0BEC5\",\"#B0BEC5\",\"#B0BEC5\",\"#B0BEC5\",\"#B0BEC5\",\"#B0BEC5\",\"#B0BEC5\",\"#B0BEC5\",\"#B0BEC5\",\"#B0BEC5\",\"#B0BEC5\"]]}],\"label\":\"Topic 41\",\"method\":\"update\"},{\"args\":[{\"marker.color\":[[\"#B0BEC5\",\"#B0BEC5\",\"#B0BEC5\",\"#B0BEC5\",\"#B0BEC5\",\"#B0BEC5\",\"#B0BEC5\",\"#B0BEC5\",\"#B0BEC5\",\"#B0BEC5\",\"#B0BEC5\",\"#B0BEC5\",\"#B0BEC5\",\"#B0BEC5\",\"#B0BEC5\",\"#B0BEC5\",\"#B0BEC5\",\"#B0BEC5\",\"#B0BEC5\",\"#B0BEC5\",\"#B0BEC5\",\"#B0BEC5\",\"#B0BEC5\",\"#B0BEC5\",\"#B0BEC5\",\"#B0BEC5\",\"#B0BEC5\",\"#B0BEC5\",\"#B0BEC5\",\"#B0BEC5\",\"#B0BEC5\",\"#B0BEC5\",\"#B0BEC5\",\"#B0BEC5\",\"#B0BEC5\",\"#B0BEC5\",\"#B0BEC5\",\"#B0BEC5\",\"#B0BEC5\",\"#B0BEC5\",\"#B0BEC5\",\"#B0BEC5\",\"red\",\"#B0BEC5\",\"#B0BEC5\",\"#B0BEC5\",\"#B0BEC5\",\"#B0BEC5\",\"#B0BEC5\",\"#B0BEC5\",\"#B0BEC5\",\"#B0BEC5\",\"#B0BEC5\",\"#B0BEC5\",\"#B0BEC5\",\"#B0BEC5\",\"#B0BEC5\",\"#B0BEC5\",\"#B0BEC5\",\"#B0BEC5\",\"#B0BEC5\",\"#B0BEC5\",\"#B0BEC5\",\"#B0BEC5\",\"#B0BEC5\",\"#B0BEC5\",\"#B0BEC5\",\"#B0BEC5\",\"#B0BEC5\",\"#B0BEC5\",\"#B0BEC5\",\"#B0BEC5\",\"#B0BEC5\",\"#B0BEC5\",\"#B0BEC5\",\"#B0BEC5\",\"#B0BEC5\"]]}],\"label\":\"Topic 42\",\"method\":\"update\"},{\"args\":[{\"marker.color\":[[\"#B0BEC5\",\"#B0BEC5\",\"#B0BEC5\",\"#B0BEC5\",\"#B0BEC5\",\"#B0BEC5\",\"#B0BEC5\",\"#B0BEC5\",\"#B0BEC5\",\"#B0BEC5\",\"#B0BEC5\",\"#B0BEC5\",\"#B0BEC5\",\"#B0BEC5\",\"#B0BEC5\",\"#B0BEC5\",\"#B0BEC5\",\"#B0BEC5\",\"#B0BEC5\",\"#B0BEC5\",\"#B0BEC5\",\"#B0BEC5\",\"#B0BEC5\",\"#B0BEC5\",\"#B0BEC5\",\"#B0BEC5\",\"#B0BEC5\",\"#B0BEC5\",\"#B0BEC5\",\"#B0BEC5\",\"#B0BEC5\",\"#B0BEC5\",\"#B0BEC5\",\"#B0BEC5\",\"#B0BEC5\",\"#B0BEC5\",\"#B0BEC5\",\"#B0BEC5\",\"#B0BEC5\",\"#B0BEC5\",\"#B0BEC5\",\"#B0BEC5\",\"#B0BEC5\",\"red\",\"#B0BEC5\",\"#B0BEC5\",\"#B0BEC5\",\"#B0BEC5\",\"#B0BEC5\",\"#B0BEC5\",\"#B0BEC5\",\"#B0BEC5\",\"#B0BEC5\",\"#B0BEC5\",\"#B0BEC5\",\"#B0BEC5\",\"#B0BEC5\",\"#B0BEC5\",\"#B0BEC5\",\"#B0BEC5\",\"#B0BEC5\",\"#B0BEC5\",\"#B0BEC5\",\"#B0BEC5\",\"#B0BEC5\",\"#B0BEC5\",\"#B0BEC5\",\"#B0BEC5\",\"#B0BEC5\",\"#B0BEC5\",\"#B0BEC5\",\"#B0BEC5\",\"#B0BEC5\",\"#B0BEC5\",\"#B0BEC5\",\"#B0BEC5\",\"#B0BEC5\"]]}],\"label\":\"Topic 43\",\"method\":\"update\"},{\"args\":[{\"marker.color\":[[\"#B0BEC5\",\"#B0BEC5\",\"#B0BEC5\",\"#B0BEC5\",\"#B0BEC5\",\"#B0BEC5\",\"#B0BEC5\",\"#B0BEC5\",\"#B0BEC5\",\"#B0BEC5\",\"#B0BEC5\",\"#B0BEC5\",\"#B0BEC5\",\"#B0BEC5\",\"#B0BEC5\",\"#B0BEC5\",\"#B0BEC5\",\"#B0BEC5\",\"#B0BEC5\",\"#B0BEC5\",\"#B0BEC5\",\"#B0BEC5\",\"#B0BEC5\",\"#B0BEC5\",\"#B0BEC5\",\"#B0BEC5\",\"#B0BEC5\",\"#B0BEC5\",\"#B0BEC5\",\"#B0BEC5\",\"#B0BEC5\",\"#B0BEC5\",\"#B0BEC5\",\"#B0BEC5\",\"#B0BEC5\",\"#B0BEC5\",\"#B0BEC5\",\"#B0BEC5\",\"#B0BEC5\",\"#B0BEC5\",\"#B0BEC5\",\"#B0BEC5\",\"#B0BEC5\",\"#B0BEC5\",\"red\",\"#B0BEC5\",\"#B0BEC5\",\"#B0BEC5\",\"#B0BEC5\",\"#B0BEC5\",\"#B0BEC5\",\"#B0BEC5\",\"#B0BEC5\",\"#B0BEC5\",\"#B0BEC5\",\"#B0BEC5\",\"#B0BEC5\",\"#B0BEC5\",\"#B0BEC5\",\"#B0BEC5\",\"#B0BEC5\",\"#B0BEC5\",\"#B0BEC5\",\"#B0BEC5\",\"#B0BEC5\",\"#B0BEC5\",\"#B0BEC5\",\"#B0BEC5\",\"#B0BEC5\",\"#B0BEC5\",\"#B0BEC5\",\"#B0BEC5\",\"#B0BEC5\",\"#B0BEC5\",\"#B0BEC5\",\"#B0BEC5\",\"#B0BEC5\"]]}],\"label\":\"Topic 44\",\"method\":\"update\"},{\"args\":[{\"marker.color\":[[\"#B0BEC5\",\"#B0BEC5\",\"#B0BEC5\",\"#B0BEC5\",\"#B0BEC5\",\"#B0BEC5\",\"#B0BEC5\",\"#B0BEC5\",\"#B0BEC5\",\"#B0BEC5\",\"#B0BEC5\",\"#B0BEC5\",\"#B0BEC5\",\"#B0BEC5\",\"#B0BEC5\",\"#B0BEC5\",\"#B0BEC5\",\"#B0BEC5\",\"#B0BEC5\",\"#B0BEC5\",\"#B0BEC5\",\"#B0BEC5\",\"#B0BEC5\",\"#B0BEC5\",\"#B0BEC5\",\"#B0BEC5\",\"#B0BEC5\",\"#B0BEC5\",\"#B0BEC5\",\"#B0BEC5\",\"#B0BEC5\",\"#B0BEC5\",\"#B0BEC5\",\"#B0BEC5\",\"#B0BEC5\",\"#B0BEC5\",\"#B0BEC5\",\"#B0BEC5\",\"#B0BEC5\",\"#B0BEC5\",\"#B0BEC5\",\"#B0BEC5\",\"#B0BEC5\",\"#B0BEC5\",\"#B0BEC5\",\"red\",\"#B0BEC5\",\"#B0BEC5\",\"#B0BEC5\",\"#B0BEC5\",\"#B0BEC5\",\"#B0BEC5\",\"#B0BEC5\",\"#B0BEC5\",\"#B0BEC5\",\"#B0BEC5\",\"#B0BEC5\",\"#B0BEC5\",\"#B0BEC5\",\"#B0BEC5\",\"#B0BEC5\",\"#B0BEC5\",\"#B0BEC5\",\"#B0BEC5\",\"#B0BEC5\",\"#B0BEC5\",\"#B0BEC5\",\"#B0BEC5\",\"#B0BEC5\",\"#B0BEC5\",\"#B0BEC5\",\"#B0BEC5\",\"#B0BEC5\",\"#B0BEC5\",\"#B0BEC5\",\"#B0BEC5\",\"#B0BEC5\"]]}],\"label\":\"Topic 45\",\"method\":\"update\"},{\"args\":[{\"marker.color\":[[\"#B0BEC5\",\"#B0BEC5\",\"#B0BEC5\",\"#B0BEC5\",\"#B0BEC5\",\"#B0BEC5\",\"#B0BEC5\",\"#B0BEC5\",\"#B0BEC5\",\"#B0BEC5\",\"#B0BEC5\",\"#B0BEC5\",\"#B0BEC5\",\"#B0BEC5\",\"#B0BEC5\",\"#B0BEC5\",\"#B0BEC5\",\"#B0BEC5\",\"#B0BEC5\",\"#B0BEC5\",\"#B0BEC5\",\"#B0BEC5\",\"#B0BEC5\",\"#B0BEC5\",\"#B0BEC5\",\"#B0BEC5\",\"#B0BEC5\",\"#B0BEC5\",\"#B0BEC5\",\"#B0BEC5\",\"#B0BEC5\",\"#B0BEC5\",\"#B0BEC5\",\"#B0BEC5\",\"#B0BEC5\",\"#B0BEC5\",\"#B0BEC5\",\"#B0BEC5\",\"#B0BEC5\",\"#B0BEC5\",\"#B0BEC5\",\"#B0BEC5\",\"#B0BEC5\",\"#B0BEC5\",\"#B0BEC5\",\"#B0BEC5\",\"red\",\"#B0BEC5\",\"#B0BEC5\",\"#B0BEC5\",\"#B0BEC5\",\"#B0BEC5\",\"#B0BEC5\",\"#B0BEC5\",\"#B0BEC5\",\"#B0BEC5\",\"#B0BEC5\",\"#B0BEC5\",\"#B0BEC5\",\"#B0BEC5\",\"#B0BEC5\",\"#B0BEC5\",\"#B0BEC5\",\"#B0BEC5\",\"#B0BEC5\",\"#B0BEC5\",\"#B0BEC5\",\"#B0BEC5\",\"#B0BEC5\",\"#B0BEC5\",\"#B0BEC5\",\"#B0BEC5\",\"#B0BEC5\",\"#B0BEC5\",\"#B0BEC5\",\"#B0BEC5\",\"#B0BEC5\"]]}],\"label\":\"Topic 46\",\"method\":\"update\"},{\"args\":[{\"marker.color\":[[\"#B0BEC5\",\"#B0BEC5\",\"#B0BEC5\",\"#B0BEC5\",\"#B0BEC5\",\"#B0BEC5\",\"#B0BEC5\",\"#B0BEC5\",\"#B0BEC5\",\"#B0BEC5\",\"#B0BEC5\",\"#B0BEC5\",\"#B0BEC5\",\"#B0BEC5\",\"#B0BEC5\",\"#B0BEC5\",\"#B0BEC5\",\"#B0BEC5\",\"#B0BEC5\",\"#B0BEC5\",\"#B0BEC5\",\"#B0BEC5\",\"#B0BEC5\",\"#B0BEC5\",\"#B0BEC5\",\"#B0BEC5\",\"#B0BEC5\",\"#B0BEC5\",\"#B0BEC5\",\"#B0BEC5\",\"#B0BEC5\",\"#B0BEC5\",\"#B0BEC5\",\"#B0BEC5\",\"#B0BEC5\",\"#B0BEC5\",\"#B0BEC5\",\"#B0BEC5\",\"#B0BEC5\",\"#B0BEC5\",\"#B0BEC5\",\"#B0BEC5\",\"#B0BEC5\",\"#B0BEC5\",\"#B0BEC5\",\"#B0BEC5\",\"#B0BEC5\",\"red\",\"#B0BEC5\",\"#B0BEC5\",\"#B0BEC5\",\"#B0BEC5\",\"#B0BEC5\",\"#B0BEC5\",\"#B0BEC5\",\"#B0BEC5\",\"#B0BEC5\",\"#B0BEC5\",\"#B0BEC5\",\"#B0BEC5\",\"#B0BEC5\",\"#B0BEC5\",\"#B0BEC5\",\"#B0BEC5\",\"#B0BEC5\",\"#B0BEC5\",\"#B0BEC5\",\"#B0BEC5\",\"#B0BEC5\",\"#B0BEC5\",\"#B0BEC5\",\"#B0BEC5\",\"#B0BEC5\",\"#B0BEC5\",\"#B0BEC5\",\"#B0BEC5\",\"#B0BEC5\"]]}],\"label\":\"Topic 47\",\"method\":\"update\"},{\"args\":[{\"marker.color\":[[\"#B0BEC5\",\"#B0BEC5\",\"#B0BEC5\",\"#B0BEC5\",\"#B0BEC5\",\"#B0BEC5\",\"#B0BEC5\",\"#B0BEC5\",\"#B0BEC5\",\"#B0BEC5\",\"#B0BEC5\",\"#B0BEC5\",\"#B0BEC5\",\"#B0BEC5\",\"#B0BEC5\",\"#B0BEC5\",\"#B0BEC5\",\"#B0BEC5\",\"#B0BEC5\",\"#B0BEC5\",\"#B0BEC5\",\"#B0BEC5\",\"#B0BEC5\",\"#B0BEC5\",\"#B0BEC5\",\"#B0BEC5\",\"#B0BEC5\",\"#B0BEC5\",\"#B0BEC5\",\"#B0BEC5\",\"#B0BEC5\",\"#B0BEC5\",\"#B0BEC5\",\"#B0BEC5\",\"#B0BEC5\",\"#B0BEC5\",\"#B0BEC5\",\"#B0BEC5\",\"#B0BEC5\",\"#B0BEC5\",\"#B0BEC5\",\"#B0BEC5\",\"#B0BEC5\",\"#B0BEC5\",\"#B0BEC5\",\"#B0BEC5\",\"#B0BEC5\",\"#B0BEC5\",\"red\",\"#B0BEC5\",\"#B0BEC5\",\"#B0BEC5\",\"#B0BEC5\",\"#B0BEC5\",\"#B0BEC5\",\"#B0BEC5\",\"#B0BEC5\",\"#B0BEC5\",\"#B0BEC5\",\"#B0BEC5\",\"#B0BEC5\",\"#B0BEC5\",\"#B0BEC5\",\"#B0BEC5\",\"#B0BEC5\",\"#B0BEC5\",\"#B0BEC5\",\"#B0BEC5\",\"#B0BEC5\",\"#B0BEC5\",\"#B0BEC5\",\"#B0BEC5\",\"#B0BEC5\",\"#B0BEC5\",\"#B0BEC5\",\"#B0BEC5\",\"#B0BEC5\"]]}],\"label\":\"Topic 48\",\"method\":\"update\"},{\"args\":[{\"marker.color\":[[\"#B0BEC5\",\"#B0BEC5\",\"#B0BEC5\",\"#B0BEC5\",\"#B0BEC5\",\"#B0BEC5\",\"#B0BEC5\",\"#B0BEC5\",\"#B0BEC5\",\"#B0BEC5\",\"#B0BEC5\",\"#B0BEC5\",\"#B0BEC5\",\"#B0BEC5\",\"#B0BEC5\",\"#B0BEC5\",\"#B0BEC5\",\"#B0BEC5\",\"#B0BEC5\",\"#B0BEC5\",\"#B0BEC5\",\"#B0BEC5\",\"#B0BEC5\",\"#B0BEC5\",\"#B0BEC5\",\"#B0BEC5\",\"#B0BEC5\",\"#B0BEC5\",\"#B0BEC5\",\"#B0BEC5\",\"#B0BEC5\",\"#B0BEC5\",\"#B0BEC5\",\"#B0BEC5\",\"#B0BEC5\",\"#B0BEC5\",\"#B0BEC5\",\"#B0BEC5\",\"#B0BEC5\",\"#B0BEC5\",\"#B0BEC5\",\"#B0BEC5\",\"#B0BEC5\",\"#B0BEC5\",\"#B0BEC5\",\"#B0BEC5\",\"#B0BEC5\",\"#B0BEC5\",\"#B0BEC5\",\"red\",\"#B0BEC5\",\"#B0BEC5\",\"#B0BEC5\",\"#B0BEC5\",\"#B0BEC5\",\"#B0BEC5\",\"#B0BEC5\",\"#B0BEC5\",\"#B0BEC5\",\"#B0BEC5\",\"#B0BEC5\",\"#B0BEC5\",\"#B0BEC5\",\"#B0BEC5\",\"#B0BEC5\",\"#B0BEC5\",\"#B0BEC5\",\"#B0BEC5\",\"#B0BEC5\",\"#B0BEC5\",\"#B0BEC5\",\"#B0BEC5\",\"#B0BEC5\",\"#B0BEC5\",\"#B0BEC5\",\"#B0BEC5\",\"#B0BEC5\"]]}],\"label\":\"Topic 49\",\"method\":\"update\"},{\"args\":[{\"marker.color\":[[\"#B0BEC5\",\"#B0BEC5\",\"#B0BEC5\",\"#B0BEC5\",\"#B0BEC5\",\"#B0BEC5\",\"#B0BEC5\",\"#B0BEC5\",\"#B0BEC5\",\"#B0BEC5\",\"#B0BEC5\",\"#B0BEC5\",\"#B0BEC5\",\"#B0BEC5\",\"#B0BEC5\",\"#B0BEC5\",\"#B0BEC5\",\"#B0BEC5\",\"#B0BEC5\",\"#B0BEC5\",\"#B0BEC5\",\"#B0BEC5\",\"#B0BEC5\",\"#B0BEC5\",\"#B0BEC5\",\"#B0BEC5\",\"#B0BEC5\",\"#B0BEC5\",\"#B0BEC5\",\"#B0BEC5\",\"#B0BEC5\",\"#B0BEC5\",\"#B0BEC5\",\"#B0BEC5\",\"#B0BEC5\",\"#B0BEC5\",\"#B0BEC5\",\"#B0BEC5\",\"#B0BEC5\",\"#B0BEC5\",\"#B0BEC5\",\"#B0BEC5\",\"#B0BEC5\",\"#B0BEC5\",\"#B0BEC5\",\"#B0BEC5\",\"#B0BEC5\",\"#B0BEC5\",\"#B0BEC5\",\"#B0BEC5\",\"red\",\"#B0BEC5\",\"#B0BEC5\",\"#B0BEC5\",\"#B0BEC5\",\"#B0BEC5\",\"#B0BEC5\",\"#B0BEC5\",\"#B0BEC5\",\"#B0BEC5\",\"#B0BEC5\",\"#B0BEC5\",\"#B0BEC5\",\"#B0BEC5\",\"#B0BEC5\",\"#B0BEC5\",\"#B0BEC5\",\"#B0BEC5\",\"#B0BEC5\",\"#B0BEC5\",\"#B0BEC5\",\"#B0BEC5\",\"#B0BEC5\",\"#B0BEC5\",\"#B0BEC5\",\"#B0BEC5\",\"#B0BEC5\"]]}],\"label\":\"Topic 50\",\"method\":\"update\"},{\"args\":[{\"marker.color\":[[\"#B0BEC5\",\"#B0BEC5\",\"#B0BEC5\",\"#B0BEC5\",\"#B0BEC5\",\"#B0BEC5\",\"#B0BEC5\",\"#B0BEC5\",\"#B0BEC5\",\"#B0BEC5\",\"#B0BEC5\",\"#B0BEC5\",\"#B0BEC5\",\"#B0BEC5\",\"#B0BEC5\",\"#B0BEC5\",\"#B0BEC5\",\"#B0BEC5\",\"#B0BEC5\",\"#B0BEC5\",\"#B0BEC5\",\"#B0BEC5\",\"#B0BEC5\",\"#B0BEC5\",\"#B0BEC5\",\"#B0BEC5\",\"#B0BEC5\",\"#B0BEC5\",\"#B0BEC5\",\"#B0BEC5\",\"#B0BEC5\",\"#B0BEC5\",\"#B0BEC5\",\"#B0BEC5\",\"#B0BEC5\",\"#B0BEC5\",\"#B0BEC5\",\"#B0BEC5\",\"#B0BEC5\",\"#B0BEC5\",\"#B0BEC5\",\"#B0BEC5\",\"#B0BEC5\",\"#B0BEC5\",\"#B0BEC5\",\"#B0BEC5\",\"#B0BEC5\",\"#B0BEC5\",\"#B0BEC5\",\"#B0BEC5\",\"#B0BEC5\",\"red\",\"#B0BEC5\",\"#B0BEC5\",\"#B0BEC5\",\"#B0BEC5\",\"#B0BEC5\",\"#B0BEC5\",\"#B0BEC5\",\"#B0BEC5\",\"#B0BEC5\",\"#B0BEC5\",\"#B0BEC5\",\"#B0BEC5\",\"#B0BEC5\",\"#B0BEC5\",\"#B0BEC5\",\"#B0BEC5\",\"#B0BEC5\",\"#B0BEC5\",\"#B0BEC5\",\"#B0BEC5\",\"#B0BEC5\",\"#B0BEC5\",\"#B0BEC5\",\"#B0BEC5\",\"#B0BEC5\"]]}],\"label\":\"Topic 51\",\"method\":\"update\"},{\"args\":[{\"marker.color\":[[\"#B0BEC5\",\"#B0BEC5\",\"#B0BEC5\",\"#B0BEC5\",\"#B0BEC5\",\"#B0BEC5\",\"#B0BEC5\",\"#B0BEC5\",\"#B0BEC5\",\"#B0BEC5\",\"#B0BEC5\",\"#B0BEC5\",\"#B0BEC5\",\"#B0BEC5\",\"#B0BEC5\",\"#B0BEC5\",\"#B0BEC5\",\"#B0BEC5\",\"#B0BEC5\",\"#B0BEC5\",\"#B0BEC5\",\"#B0BEC5\",\"#B0BEC5\",\"#B0BEC5\",\"#B0BEC5\",\"#B0BEC5\",\"#B0BEC5\",\"#B0BEC5\",\"#B0BEC5\",\"#B0BEC5\",\"#B0BEC5\",\"#B0BEC5\",\"#B0BEC5\",\"#B0BEC5\",\"#B0BEC5\",\"#B0BEC5\",\"#B0BEC5\",\"#B0BEC5\",\"#B0BEC5\",\"#B0BEC5\",\"#B0BEC5\",\"#B0BEC5\",\"#B0BEC5\",\"#B0BEC5\",\"#B0BEC5\",\"#B0BEC5\",\"#B0BEC5\",\"#B0BEC5\",\"#B0BEC5\",\"#B0BEC5\",\"#B0BEC5\",\"#B0BEC5\",\"red\",\"#B0BEC5\",\"#B0BEC5\",\"#B0BEC5\",\"#B0BEC5\",\"#B0BEC5\",\"#B0BEC5\",\"#B0BEC5\",\"#B0BEC5\",\"#B0BEC5\",\"#B0BEC5\",\"#B0BEC5\",\"#B0BEC5\",\"#B0BEC5\",\"#B0BEC5\",\"#B0BEC5\",\"#B0BEC5\",\"#B0BEC5\",\"#B0BEC5\",\"#B0BEC5\",\"#B0BEC5\",\"#B0BEC5\",\"#B0BEC5\",\"#B0BEC5\",\"#B0BEC5\"]]}],\"label\":\"Topic 52\",\"method\":\"update\"},{\"args\":[{\"marker.color\":[[\"#B0BEC5\",\"#B0BEC5\",\"#B0BEC5\",\"#B0BEC5\",\"#B0BEC5\",\"#B0BEC5\",\"#B0BEC5\",\"#B0BEC5\",\"#B0BEC5\",\"#B0BEC5\",\"#B0BEC5\",\"#B0BEC5\",\"#B0BEC5\",\"#B0BEC5\",\"#B0BEC5\",\"#B0BEC5\",\"#B0BEC5\",\"#B0BEC5\",\"#B0BEC5\",\"#B0BEC5\",\"#B0BEC5\",\"#B0BEC5\",\"#B0BEC5\",\"#B0BEC5\",\"#B0BEC5\",\"#B0BEC5\",\"#B0BEC5\",\"#B0BEC5\",\"#B0BEC5\",\"#B0BEC5\",\"#B0BEC5\",\"#B0BEC5\",\"#B0BEC5\",\"#B0BEC5\",\"#B0BEC5\",\"#B0BEC5\",\"#B0BEC5\",\"#B0BEC5\",\"#B0BEC5\",\"#B0BEC5\",\"#B0BEC5\",\"#B0BEC5\",\"#B0BEC5\",\"#B0BEC5\",\"#B0BEC5\",\"#B0BEC5\",\"#B0BEC5\",\"#B0BEC5\",\"#B0BEC5\",\"#B0BEC5\",\"#B0BEC5\",\"#B0BEC5\",\"#B0BEC5\",\"red\",\"#B0BEC5\",\"#B0BEC5\",\"#B0BEC5\",\"#B0BEC5\",\"#B0BEC5\",\"#B0BEC5\",\"#B0BEC5\",\"#B0BEC5\",\"#B0BEC5\",\"#B0BEC5\",\"#B0BEC5\",\"#B0BEC5\",\"#B0BEC5\",\"#B0BEC5\",\"#B0BEC5\",\"#B0BEC5\",\"#B0BEC5\",\"#B0BEC5\",\"#B0BEC5\",\"#B0BEC5\",\"#B0BEC5\",\"#B0BEC5\",\"#B0BEC5\"]]}],\"label\":\"Topic 53\",\"method\":\"update\"},{\"args\":[{\"marker.color\":[[\"#B0BEC5\",\"#B0BEC5\",\"#B0BEC5\",\"#B0BEC5\",\"#B0BEC5\",\"#B0BEC5\",\"#B0BEC5\",\"#B0BEC5\",\"#B0BEC5\",\"#B0BEC5\",\"#B0BEC5\",\"#B0BEC5\",\"#B0BEC5\",\"#B0BEC5\",\"#B0BEC5\",\"#B0BEC5\",\"#B0BEC5\",\"#B0BEC5\",\"#B0BEC5\",\"#B0BEC5\",\"#B0BEC5\",\"#B0BEC5\",\"#B0BEC5\",\"#B0BEC5\",\"#B0BEC5\",\"#B0BEC5\",\"#B0BEC5\",\"#B0BEC5\",\"#B0BEC5\",\"#B0BEC5\",\"#B0BEC5\",\"#B0BEC5\",\"#B0BEC5\",\"#B0BEC5\",\"#B0BEC5\",\"#B0BEC5\",\"#B0BEC5\",\"#B0BEC5\",\"#B0BEC5\",\"#B0BEC5\",\"#B0BEC5\",\"#B0BEC5\",\"#B0BEC5\",\"#B0BEC5\",\"#B0BEC5\",\"#B0BEC5\",\"#B0BEC5\",\"#B0BEC5\",\"#B0BEC5\",\"#B0BEC5\",\"#B0BEC5\",\"#B0BEC5\",\"#B0BEC5\",\"#B0BEC5\",\"red\",\"#B0BEC5\",\"#B0BEC5\",\"#B0BEC5\",\"#B0BEC5\",\"#B0BEC5\",\"#B0BEC5\",\"#B0BEC5\",\"#B0BEC5\",\"#B0BEC5\",\"#B0BEC5\",\"#B0BEC5\",\"#B0BEC5\",\"#B0BEC5\",\"#B0BEC5\",\"#B0BEC5\",\"#B0BEC5\",\"#B0BEC5\",\"#B0BEC5\",\"#B0BEC5\",\"#B0BEC5\",\"#B0BEC5\",\"#B0BEC5\"]]}],\"label\":\"Topic 54\",\"method\":\"update\"},{\"args\":[{\"marker.color\":[[\"#B0BEC5\",\"#B0BEC5\",\"#B0BEC5\",\"#B0BEC5\",\"#B0BEC5\",\"#B0BEC5\",\"#B0BEC5\",\"#B0BEC5\",\"#B0BEC5\",\"#B0BEC5\",\"#B0BEC5\",\"#B0BEC5\",\"#B0BEC5\",\"#B0BEC5\",\"#B0BEC5\",\"#B0BEC5\",\"#B0BEC5\",\"#B0BEC5\",\"#B0BEC5\",\"#B0BEC5\",\"#B0BEC5\",\"#B0BEC5\",\"#B0BEC5\",\"#B0BEC5\",\"#B0BEC5\",\"#B0BEC5\",\"#B0BEC5\",\"#B0BEC5\",\"#B0BEC5\",\"#B0BEC5\",\"#B0BEC5\",\"#B0BEC5\",\"#B0BEC5\",\"#B0BEC5\",\"#B0BEC5\",\"#B0BEC5\",\"#B0BEC5\",\"#B0BEC5\",\"#B0BEC5\",\"#B0BEC5\",\"#B0BEC5\",\"#B0BEC5\",\"#B0BEC5\",\"#B0BEC5\",\"#B0BEC5\",\"#B0BEC5\",\"#B0BEC5\",\"#B0BEC5\",\"#B0BEC5\",\"#B0BEC5\",\"#B0BEC5\",\"#B0BEC5\",\"#B0BEC5\",\"#B0BEC5\",\"#B0BEC5\",\"red\",\"#B0BEC5\",\"#B0BEC5\",\"#B0BEC5\",\"#B0BEC5\",\"#B0BEC5\",\"#B0BEC5\",\"#B0BEC5\",\"#B0BEC5\",\"#B0BEC5\",\"#B0BEC5\",\"#B0BEC5\",\"#B0BEC5\",\"#B0BEC5\",\"#B0BEC5\",\"#B0BEC5\",\"#B0BEC5\",\"#B0BEC5\",\"#B0BEC5\",\"#B0BEC5\",\"#B0BEC5\",\"#B0BEC5\"]]}],\"label\":\"Topic 55\",\"method\":\"update\"},{\"args\":[{\"marker.color\":[[\"#B0BEC5\",\"#B0BEC5\",\"#B0BEC5\",\"#B0BEC5\",\"#B0BEC5\",\"#B0BEC5\",\"#B0BEC5\",\"#B0BEC5\",\"#B0BEC5\",\"#B0BEC5\",\"#B0BEC5\",\"#B0BEC5\",\"#B0BEC5\",\"#B0BEC5\",\"#B0BEC5\",\"#B0BEC5\",\"#B0BEC5\",\"#B0BEC5\",\"#B0BEC5\",\"#B0BEC5\",\"#B0BEC5\",\"#B0BEC5\",\"#B0BEC5\",\"#B0BEC5\",\"#B0BEC5\",\"#B0BEC5\",\"#B0BEC5\",\"#B0BEC5\",\"#B0BEC5\",\"#B0BEC5\",\"#B0BEC5\",\"#B0BEC5\",\"#B0BEC5\",\"#B0BEC5\",\"#B0BEC5\",\"#B0BEC5\",\"#B0BEC5\",\"#B0BEC5\",\"#B0BEC5\",\"#B0BEC5\",\"#B0BEC5\",\"#B0BEC5\",\"#B0BEC5\",\"#B0BEC5\",\"#B0BEC5\",\"#B0BEC5\",\"#B0BEC5\",\"#B0BEC5\",\"#B0BEC5\",\"#B0BEC5\",\"#B0BEC5\",\"#B0BEC5\",\"#B0BEC5\",\"#B0BEC5\",\"#B0BEC5\",\"#B0BEC5\",\"red\",\"#B0BEC5\",\"#B0BEC5\",\"#B0BEC5\",\"#B0BEC5\",\"#B0BEC5\",\"#B0BEC5\",\"#B0BEC5\",\"#B0BEC5\",\"#B0BEC5\",\"#B0BEC5\",\"#B0BEC5\",\"#B0BEC5\",\"#B0BEC5\",\"#B0BEC5\",\"#B0BEC5\",\"#B0BEC5\",\"#B0BEC5\",\"#B0BEC5\",\"#B0BEC5\",\"#B0BEC5\"]]}],\"label\":\"Topic 56\",\"method\":\"update\"},{\"args\":[{\"marker.color\":[[\"#B0BEC5\",\"#B0BEC5\",\"#B0BEC5\",\"#B0BEC5\",\"#B0BEC5\",\"#B0BEC5\",\"#B0BEC5\",\"#B0BEC5\",\"#B0BEC5\",\"#B0BEC5\",\"#B0BEC5\",\"#B0BEC5\",\"#B0BEC5\",\"#B0BEC5\",\"#B0BEC5\",\"#B0BEC5\",\"#B0BEC5\",\"#B0BEC5\",\"#B0BEC5\",\"#B0BEC5\",\"#B0BEC5\",\"#B0BEC5\",\"#B0BEC5\",\"#B0BEC5\",\"#B0BEC5\",\"#B0BEC5\",\"#B0BEC5\",\"#B0BEC5\",\"#B0BEC5\",\"#B0BEC5\",\"#B0BEC5\",\"#B0BEC5\",\"#B0BEC5\",\"#B0BEC5\",\"#B0BEC5\",\"#B0BEC5\",\"#B0BEC5\",\"#B0BEC5\",\"#B0BEC5\",\"#B0BEC5\",\"#B0BEC5\",\"#B0BEC5\",\"#B0BEC5\",\"#B0BEC5\",\"#B0BEC5\",\"#B0BEC5\",\"#B0BEC5\",\"#B0BEC5\",\"#B0BEC5\",\"#B0BEC5\",\"#B0BEC5\",\"#B0BEC5\",\"#B0BEC5\",\"#B0BEC5\",\"#B0BEC5\",\"#B0BEC5\",\"#B0BEC5\",\"red\",\"#B0BEC5\",\"#B0BEC5\",\"#B0BEC5\",\"#B0BEC5\",\"#B0BEC5\",\"#B0BEC5\",\"#B0BEC5\",\"#B0BEC5\",\"#B0BEC5\",\"#B0BEC5\",\"#B0BEC5\",\"#B0BEC5\",\"#B0BEC5\",\"#B0BEC5\",\"#B0BEC5\",\"#B0BEC5\",\"#B0BEC5\",\"#B0BEC5\",\"#B0BEC5\"]]}],\"label\":\"Topic 57\",\"method\":\"update\"},{\"args\":[{\"marker.color\":[[\"#B0BEC5\",\"#B0BEC5\",\"#B0BEC5\",\"#B0BEC5\",\"#B0BEC5\",\"#B0BEC5\",\"#B0BEC5\",\"#B0BEC5\",\"#B0BEC5\",\"#B0BEC5\",\"#B0BEC5\",\"#B0BEC5\",\"#B0BEC5\",\"#B0BEC5\",\"#B0BEC5\",\"#B0BEC5\",\"#B0BEC5\",\"#B0BEC5\",\"#B0BEC5\",\"#B0BEC5\",\"#B0BEC5\",\"#B0BEC5\",\"#B0BEC5\",\"#B0BEC5\",\"#B0BEC5\",\"#B0BEC5\",\"#B0BEC5\",\"#B0BEC5\",\"#B0BEC5\",\"#B0BEC5\",\"#B0BEC5\",\"#B0BEC5\",\"#B0BEC5\",\"#B0BEC5\",\"#B0BEC5\",\"#B0BEC5\",\"#B0BEC5\",\"#B0BEC5\",\"#B0BEC5\",\"#B0BEC5\",\"#B0BEC5\",\"#B0BEC5\",\"#B0BEC5\",\"#B0BEC5\",\"#B0BEC5\",\"#B0BEC5\",\"#B0BEC5\",\"#B0BEC5\",\"#B0BEC5\",\"#B0BEC5\",\"#B0BEC5\",\"#B0BEC5\",\"#B0BEC5\",\"#B0BEC5\",\"#B0BEC5\",\"#B0BEC5\",\"#B0BEC5\",\"#B0BEC5\",\"red\",\"#B0BEC5\",\"#B0BEC5\",\"#B0BEC5\",\"#B0BEC5\",\"#B0BEC5\",\"#B0BEC5\",\"#B0BEC5\",\"#B0BEC5\",\"#B0BEC5\",\"#B0BEC5\",\"#B0BEC5\",\"#B0BEC5\",\"#B0BEC5\",\"#B0BEC5\",\"#B0BEC5\",\"#B0BEC5\",\"#B0BEC5\",\"#B0BEC5\"]]}],\"label\":\"Topic 58\",\"method\":\"update\"},{\"args\":[{\"marker.color\":[[\"#B0BEC5\",\"#B0BEC5\",\"#B0BEC5\",\"#B0BEC5\",\"#B0BEC5\",\"#B0BEC5\",\"#B0BEC5\",\"#B0BEC5\",\"#B0BEC5\",\"#B0BEC5\",\"#B0BEC5\",\"#B0BEC5\",\"#B0BEC5\",\"#B0BEC5\",\"#B0BEC5\",\"#B0BEC5\",\"#B0BEC5\",\"#B0BEC5\",\"#B0BEC5\",\"#B0BEC5\",\"#B0BEC5\",\"#B0BEC5\",\"#B0BEC5\",\"#B0BEC5\",\"#B0BEC5\",\"#B0BEC5\",\"#B0BEC5\",\"#B0BEC5\",\"#B0BEC5\",\"#B0BEC5\",\"#B0BEC5\",\"#B0BEC5\",\"#B0BEC5\",\"#B0BEC5\",\"#B0BEC5\",\"#B0BEC5\",\"#B0BEC5\",\"#B0BEC5\",\"#B0BEC5\",\"#B0BEC5\",\"#B0BEC5\",\"#B0BEC5\",\"#B0BEC5\",\"#B0BEC5\",\"#B0BEC5\",\"#B0BEC5\",\"#B0BEC5\",\"#B0BEC5\",\"#B0BEC5\",\"#B0BEC5\",\"#B0BEC5\",\"#B0BEC5\",\"#B0BEC5\",\"#B0BEC5\",\"#B0BEC5\",\"#B0BEC5\",\"#B0BEC5\",\"#B0BEC5\",\"#B0BEC5\",\"red\",\"#B0BEC5\",\"#B0BEC5\",\"#B0BEC5\",\"#B0BEC5\",\"#B0BEC5\",\"#B0BEC5\",\"#B0BEC5\",\"#B0BEC5\",\"#B0BEC5\",\"#B0BEC5\",\"#B0BEC5\",\"#B0BEC5\",\"#B0BEC5\",\"#B0BEC5\",\"#B0BEC5\",\"#B0BEC5\",\"#B0BEC5\"]]}],\"label\":\"Topic 59\",\"method\":\"update\"},{\"args\":[{\"marker.color\":[[\"#B0BEC5\",\"#B0BEC5\",\"#B0BEC5\",\"#B0BEC5\",\"#B0BEC5\",\"#B0BEC5\",\"#B0BEC5\",\"#B0BEC5\",\"#B0BEC5\",\"#B0BEC5\",\"#B0BEC5\",\"#B0BEC5\",\"#B0BEC5\",\"#B0BEC5\",\"#B0BEC5\",\"#B0BEC5\",\"#B0BEC5\",\"#B0BEC5\",\"#B0BEC5\",\"#B0BEC5\",\"#B0BEC5\",\"#B0BEC5\",\"#B0BEC5\",\"#B0BEC5\",\"#B0BEC5\",\"#B0BEC5\",\"#B0BEC5\",\"#B0BEC5\",\"#B0BEC5\",\"#B0BEC5\",\"#B0BEC5\",\"#B0BEC5\",\"#B0BEC5\",\"#B0BEC5\",\"#B0BEC5\",\"#B0BEC5\",\"#B0BEC5\",\"#B0BEC5\",\"#B0BEC5\",\"#B0BEC5\",\"#B0BEC5\",\"#B0BEC5\",\"#B0BEC5\",\"#B0BEC5\",\"#B0BEC5\",\"#B0BEC5\",\"#B0BEC5\",\"#B0BEC5\",\"#B0BEC5\",\"#B0BEC5\",\"#B0BEC5\",\"#B0BEC5\",\"#B0BEC5\",\"#B0BEC5\",\"#B0BEC5\",\"#B0BEC5\",\"#B0BEC5\",\"#B0BEC5\",\"#B0BEC5\",\"#B0BEC5\",\"red\",\"#B0BEC5\",\"#B0BEC5\",\"#B0BEC5\",\"#B0BEC5\",\"#B0BEC5\",\"#B0BEC5\",\"#B0BEC5\",\"#B0BEC5\",\"#B0BEC5\",\"#B0BEC5\",\"#B0BEC5\",\"#B0BEC5\",\"#B0BEC5\",\"#B0BEC5\",\"#B0BEC5\",\"#B0BEC5\"]]}],\"label\":\"Topic 60\",\"method\":\"update\"},{\"args\":[{\"marker.color\":[[\"#B0BEC5\",\"#B0BEC5\",\"#B0BEC5\",\"#B0BEC5\",\"#B0BEC5\",\"#B0BEC5\",\"#B0BEC5\",\"#B0BEC5\",\"#B0BEC5\",\"#B0BEC5\",\"#B0BEC5\",\"#B0BEC5\",\"#B0BEC5\",\"#B0BEC5\",\"#B0BEC5\",\"#B0BEC5\",\"#B0BEC5\",\"#B0BEC5\",\"#B0BEC5\",\"#B0BEC5\",\"#B0BEC5\",\"#B0BEC5\",\"#B0BEC5\",\"#B0BEC5\",\"#B0BEC5\",\"#B0BEC5\",\"#B0BEC5\",\"#B0BEC5\",\"#B0BEC5\",\"#B0BEC5\",\"#B0BEC5\",\"#B0BEC5\",\"#B0BEC5\",\"#B0BEC5\",\"#B0BEC5\",\"#B0BEC5\",\"#B0BEC5\",\"#B0BEC5\",\"#B0BEC5\",\"#B0BEC5\",\"#B0BEC5\",\"#B0BEC5\",\"#B0BEC5\",\"#B0BEC5\",\"#B0BEC5\",\"#B0BEC5\",\"#B0BEC5\",\"#B0BEC5\",\"#B0BEC5\",\"#B0BEC5\",\"#B0BEC5\",\"#B0BEC5\",\"#B0BEC5\",\"#B0BEC5\",\"#B0BEC5\",\"#B0BEC5\",\"#B0BEC5\",\"#B0BEC5\",\"#B0BEC5\",\"#B0BEC5\",\"#B0BEC5\",\"red\",\"#B0BEC5\",\"#B0BEC5\",\"#B0BEC5\",\"#B0BEC5\",\"#B0BEC5\",\"#B0BEC5\",\"#B0BEC5\",\"#B0BEC5\",\"#B0BEC5\",\"#B0BEC5\",\"#B0BEC5\",\"#B0BEC5\",\"#B0BEC5\",\"#B0BEC5\",\"#B0BEC5\"]]}],\"label\":\"Topic 61\",\"method\":\"update\"},{\"args\":[{\"marker.color\":[[\"#B0BEC5\",\"#B0BEC5\",\"#B0BEC5\",\"#B0BEC5\",\"#B0BEC5\",\"#B0BEC5\",\"#B0BEC5\",\"#B0BEC5\",\"#B0BEC5\",\"#B0BEC5\",\"#B0BEC5\",\"#B0BEC5\",\"#B0BEC5\",\"#B0BEC5\",\"#B0BEC5\",\"#B0BEC5\",\"#B0BEC5\",\"#B0BEC5\",\"#B0BEC5\",\"#B0BEC5\",\"#B0BEC5\",\"#B0BEC5\",\"#B0BEC5\",\"#B0BEC5\",\"#B0BEC5\",\"#B0BEC5\",\"#B0BEC5\",\"#B0BEC5\",\"#B0BEC5\",\"#B0BEC5\",\"#B0BEC5\",\"#B0BEC5\",\"#B0BEC5\",\"#B0BEC5\",\"#B0BEC5\",\"#B0BEC5\",\"#B0BEC5\",\"#B0BEC5\",\"#B0BEC5\",\"#B0BEC5\",\"#B0BEC5\",\"#B0BEC5\",\"#B0BEC5\",\"#B0BEC5\",\"#B0BEC5\",\"#B0BEC5\",\"#B0BEC5\",\"#B0BEC5\",\"#B0BEC5\",\"#B0BEC5\",\"#B0BEC5\",\"#B0BEC5\",\"#B0BEC5\",\"#B0BEC5\",\"#B0BEC5\",\"#B0BEC5\",\"#B0BEC5\",\"#B0BEC5\",\"#B0BEC5\",\"#B0BEC5\",\"#B0BEC5\",\"#B0BEC5\",\"red\",\"#B0BEC5\",\"#B0BEC5\",\"#B0BEC5\",\"#B0BEC5\",\"#B0BEC5\",\"#B0BEC5\",\"#B0BEC5\",\"#B0BEC5\",\"#B0BEC5\",\"#B0BEC5\",\"#B0BEC5\",\"#B0BEC5\",\"#B0BEC5\",\"#B0BEC5\"]]}],\"label\":\"Topic 62\",\"method\":\"update\"},{\"args\":[{\"marker.color\":[[\"#B0BEC5\",\"#B0BEC5\",\"#B0BEC5\",\"#B0BEC5\",\"#B0BEC5\",\"#B0BEC5\",\"#B0BEC5\",\"#B0BEC5\",\"#B0BEC5\",\"#B0BEC5\",\"#B0BEC5\",\"#B0BEC5\",\"#B0BEC5\",\"#B0BEC5\",\"#B0BEC5\",\"#B0BEC5\",\"#B0BEC5\",\"#B0BEC5\",\"#B0BEC5\",\"#B0BEC5\",\"#B0BEC5\",\"#B0BEC5\",\"#B0BEC5\",\"#B0BEC5\",\"#B0BEC5\",\"#B0BEC5\",\"#B0BEC5\",\"#B0BEC5\",\"#B0BEC5\",\"#B0BEC5\",\"#B0BEC5\",\"#B0BEC5\",\"#B0BEC5\",\"#B0BEC5\",\"#B0BEC5\",\"#B0BEC5\",\"#B0BEC5\",\"#B0BEC5\",\"#B0BEC5\",\"#B0BEC5\",\"#B0BEC5\",\"#B0BEC5\",\"#B0BEC5\",\"#B0BEC5\",\"#B0BEC5\",\"#B0BEC5\",\"#B0BEC5\",\"#B0BEC5\",\"#B0BEC5\",\"#B0BEC5\",\"#B0BEC5\",\"#B0BEC5\",\"#B0BEC5\",\"#B0BEC5\",\"#B0BEC5\",\"#B0BEC5\",\"#B0BEC5\",\"#B0BEC5\",\"#B0BEC5\",\"#B0BEC5\",\"#B0BEC5\",\"#B0BEC5\",\"#B0BEC5\",\"red\",\"#B0BEC5\",\"#B0BEC5\",\"#B0BEC5\",\"#B0BEC5\",\"#B0BEC5\",\"#B0BEC5\",\"#B0BEC5\",\"#B0BEC5\",\"#B0BEC5\",\"#B0BEC5\",\"#B0BEC5\",\"#B0BEC5\",\"#B0BEC5\"]]}],\"label\":\"Topic 63\",\"method\":\"update\"},{\"args\":[{\"marker.color\":[[\"#B0BEC5\",\"#B0BEC5\",\"#B0BEC5\",\"#B0BEC5\",\"#B0BEC5\",\"#B0BEC5\",\"#B0BEC5\",\"#B0BEC5\",\"#B0BEC5\",\"#B0BEC5\",\"#B0BEC5\",\"#B0BEC5\",\"#B0BEC5\",\"#B0BEC5\",\"#B0BEC5\",\"#B0BEC5\",\"#B0BEC5\",\"#B0BEC5\",\"#B0BEC5\",\"#B0BEC5\",\"#B0BEC5\",\"#B0BEC5\",\"#B0BEC5\",\"#B0BEC5\",\"#B0BEC5\",\"#B0BEC5\",\"#B0BEC5\",\"#B0BEC5\",\"#B0BEC5\",\"#B0BEC5\",\"#B0BEC5\",\"#B0BEC5\",\"#B0BEC5\",\"#B0BEC5\",\"#B0BEC5\",\"#B0BEC5\",\"#B0BEC5\",\"#B0BEC5\",\"#B0BEC5\",\"#B0BEC5\",\"#B0BEC5\",\"#B0BEC5\",\"#B0BEC5\",\"#B0BEC5\",\"#B0BEC5\",\"#B0BEC5\",\"#B0BEC5\",\"#B0BEC5\",\"#B0BEC5\",\"#B0BEC5\",\"#B0BEC5\",\"#B0BEC5\",\"#B0BEC5\",\"#B0BEC5\",\"#B0BEC5\",\"#B0BEC5\",\"#B0BEC5\",\"#B0BEC5\",\"#B0BEC5\",\"#B0BEC5\",\"#B0BEC5\",\"#B0BEC5\",\"#B0BEC5\",\"#B0BEC5\",\"red\",\"#B0BEC5\",\"#B0BEC5\",\"#B0BEC5\",\"#B0BEC5\",\"#B0BEC5\",\"#B0BEC5\",\"#B0BEC5\",\"#B0BEC5\",\"#B0BEC5\",\"#B0BEC5\",\"#B0BEC5\",\"#B0BEC5\"]]}],\"label\":\"Topic 64\",\"method\":\"update\"},{\"args\":[{\"marker.color\":[[\"#B0BEC5\",\"#B0BEC5\",\"#B0BEC5\",\"#B0BEC5\",\"#B0BEC5\",\"#B0BEC5\",\"#B0BEC5\",\"#B0BEC5\",\"#B0BEC5\",\"#B0BEC5\",\"#B0BEC5\",\"#B0BEC5\",\"#B0BEC5\",\"#B0BEC5\",\"#B0BEC5\",\"#B0BEC5\",\"#B0BEC5\",\"#B0BEC5\",\"#B0BEC5\",\"#B0BEC5\",\"#B0BEC5\",\"#B0BEC5\",\"#B0BEC5\",\"#B0BEC5\",\"#B0BEC5\",\"#B0BEC5\",\"#B0BEC5\",\"#B0BEC5\",\"#B0BEC5\",\"#B0BEC5\",\"#B0BEC5\",\"#B0BEC5\",\"#B0BEC5\",\"#B0BEC5\",\"#B0BEC5\",\"#B0BEC5\",\"#B0BEC5\",\"#B0BEC5\",\"#B0BEC5\",\"#B0BEC5\",\"#B0BEC5\",\"#B0BEC5\",\"#B0BEC5\",\"#B0BEC5\",\"#B0BEC5\",\"#B0BEC5\",\"#B0BEC5\",\"#B0BEC5\",\"#B0BEC5\",\"#B0BEC5\",\"#B0BEC5\",\"#B0BEC5\",\"#B0BEC5\",\"#B0BEC5\",\"#B0BEC5\",\"#B0BEC5\",\"#B0BEC5\",\"#B0BEC5\",\"#B0BEC5\",\"#B0BEC5\",\"#B0BEC5\",\"#B0BEC5\",\"#B0BEC5\",\"#B0BEC5\",\"#B0BEC5\",\"red\",\"#B0BEC5\",\"#B0BEC5\",\"#B0BEC5\",\"#B0BEC5\",\"#B0BEC5\",\"#B0BEC5\",\"#B0BEC5\",\"#B0BEC5\",\"#B0BEC5\",\"#B0BEC5\",\"#B0BEC5\"]]}],\"label\":\"Topic 65\",\"method\":\"update\"},{\"args\":[{\"marker.color\":[[\"#B0BEC5\",\"#B0BEC5\",\"#B0BEC5\",\"#B0BEC5\",\"#B0BEC5\",\"#B0BEC5\",\"#B0BEC5\",\"#B0BEC5\",\"#B0BEC5\",\"#B0BEC5\",\"#B0BEC5\",\"#B0BEC5\",\"#B0BEC5\",\"#B0BEC5\",\"#B0BEC5\",\"#B0BEC5\",\"#B0BEC5\",\"#B0BEC5\",\"#B0BEC5\",\"#B0BEC5\",\"#B0BEC5\",\"#B0BEC5\",\"#B0BEC5\",\"#B0BEC5\",\"#B0BEC5\",\"#B0BEC5\",\"#B0BEC5\",\"#B0BEC5\",\"#B0BEC5\",\"#B0BEC5\",\"#B0BEC5\",\"#B0BEC5\",\"#B0BEC5\",\"#B0BEC5\",\"#B0BEC5\",\"#B0BEC5\",\"#B0BEC5\",\"#B0BEC5\",\"#B0BEC5\",\"#B0BEC5\",\"#B0BEC5\",\"#B0BEC5\",\"#B0BEC5\",\"#B0BEC5\",\"#B0BEC5\",\"#B0BEC5\",\"#B0BEC5\",\"#B0BEC5\",\"#B0BEC5\",\"#B0BEC5\",\"#B0BEC5\",\"#B0BEC5\",\"#B0BEC5\",\"#B0BEC5\",\"#B0BEC5\",\"#B0BEC5\",\"#B0BEC5\",\"#B0BEC5\",\"#B0BEC5\",\"#B0BEC5\",\"#B0BEC5\",\"#B0BEC5\",\"#B0BEC5\",\"#B0BEC5\",\"#B0BEC5\",\"#B0BEC5\",\"red\",\"#B0BEC5\",\"#B0BEC5\",\"#B0BEC5\",\"#B0BEC5\",\"#B0BEC5\",\"#B0BEC5\",\"#B0BEC5\",\"#B0BEC5\",\"#B0BEC5\",\"#B0BEC5\"]]}],\"label\":\"Topic 66\",\"method\":\"update\"},{\"args\":[{\"marker.color\":[[\"#B0BEC5\",\"#B0BEC5\",\"#B0BEC5\",\"#B0BEC5\",\"#B0BEC5\",\"#B0BEC5\",\"#B0BEC5\",\"#B0BEC5\",\"#B0BEC5\",\"#B0BEC5\",\"#B0BEC5\",\"#B0BEC5\",\"#B0BEC5\",\"#B0BEC5\",\"#B0BEC5\",\"#B0BEC5\",\"#B0BEC5\",\"#B0BEC5\",\"#B0BEC5\",\"#B0BEC5\",\"#B0BEC5\",\"#B0BEC5\",\"#B0BEC5\",\"#B0BEC5\",\"#B0BEC5\",\"#B0BEC5\",\"#B0BEC5\",\"#B0BEC5\",\"#B0BEC5\",\"#B0BEC5\",\"#B0BEC5\",\"#B0BEC5\",\"#B0BEC5\",\"#B0BEC5\",\"#B0BEC5\",\"#B0BEC5\",\"#B0BEC5\",\"#B0BEC5\",\"#B0BEC5\",\"#B0BEC5\",\"#B0BEC5\",\"#B0BEC5\",\"#B0BEC5\",\"#B0BEC5\",\"#B0BEC5\",\"#B0BEC5\",\"#B0BEC5\",\"#B0BEC5\",\"#B0BEC5\",\"#B0BEC5\",\"#B0BEC5\",\"#B0BEC5\",\"#B0BEC5\",\"#B0BEC5\",\"#B0BEC5\",\"#B0BEC5\",\"#B0BEC5\",\"#B0BEC5\",\"#B0BEC5\",\"#B0BEC5\",\"#B0BEC5\",\"#B0BEC5\",\"#B0BEC5\",\"#B0BEC5\",\"#B0BEC5\",\"#B0BEC5\",\"#B0BEC5\",\"red\",\"#B0BEC5\",\"#B0BEC5\",\"#B0BEC5\",\"#B0BEC5\",\"#B0BEC5\",\"#B0BEC5\",\"#B0BEC5\",\"#B0BEC5\",\"#B0BEC5\"]]}],\"label\":\"Topic 67\",\"method\":\"update\"},{\"args\":[{\"marker.color\":[[\"#B0BEC5\",\"#B0BEC5\",\"#B0BEC5\",\"#B0BEC5\",\"#B0BEC5\",\"#B0BEC5\",\"#B0BEC5\",\"#B0BEC5\",\"#B0BEC5\",\"#B0BEC5\",\"#B0BEC5\",\"#B0BEC5\",\"#B0BEC5\",\"#B0BEC5\",\"#B0BEC5\",\"#B0BEC5\",\"#B0BEC5\",\"#B0BEC5\",\"#B0BEC5\",\"#B0BEC5\",\"#B0BEC5\",\"#B0BEC5\",\"#B0BEC5\",\"#B0BEC5\",\"#B0BEC5\",\"#B0BEC5\",\"#B0BEC5\",\"#B0BEC5\",\"#B0BEC5\",\"#B0BEC5\",\"#B0BEC5\",\"#B0BEC5\",\"#B0BEC5\",\"#B0BEC5\",\"#B0BEC5\",\"#B0BEC5\",\"#B0BEC5\",\"#B0BEC5\",\"#B0BEC5\",\"#B0BEC5\",\"#B0BEC5\",\"#B0BEC5\",\"#B0BEC5\",\"#B0BEC5\",\"#B0BEC5\",\"#B0BEC5\",\"#B0BEC5\",\"#B0BEC5\",\"#B0BEC5\",\"#B0BEC5\",\"#B0BEC5\",\"#B0BEC5\",\"#B0BEC5\",\"#B0BEC5\",\"#B0BEC5\",\"#B0BEC5\",\"#B0BEC5\",\"#B0BEC5\",\"#B0BEC5\",\"#B0BEC5\",\"#B0BEC5\",\"#B0BEC5\",\"#B0BEC5\",\"#B0BEC5\",\"#B0BEC5\",\"#B0BEC5\",\"#B0BEC5\",\"#B0BEC5\",\"red\",\"#B0BEC5\",\"#B0BEC5\",\"#B0BEC5\",\"#B0BEC5\",\"#B0BEC5\",\"#B0BEC5\",\"#B0BEC5\",\"#B0BEC5\"]]}],\"label\":\"Topic 68\",\"method\":\"update\"},{\"args\":[{\"marker.color\":[[\"#B0BEC5\",\"#B0BEC5\",\"#B0BEC5\",\"#B0BEC5\",\"#B0BEC5\",\"#B0BEC5\",\"#B0BEC5\",\"#B0BEC5\",\"#B0BEC5\",\"#B0BEC5\",\"#B0BEC5\",\"#B0BEC5\",\"#B0BEC5\",\"#B0BEC5\",\"#B0BEC5\",\"#B0BEC5\",\"#B0BEC5\",\"#B0BEC5\",\"#B0BEC5\",\"#B0BEC5\",\"#B0BEC5\",\"#B0BEC5\",\"#B0BEC5\",\"#B0BEC5\",\"#B0BEC5\",\"#B0BEC5\",\"#B0BEC5\",\"#B0BEC5\",\"#B0BEC5\",\"#B0BEC5\",\"#B0BEC5\",\"#B0BEC5\",\"#B0BEC5\",\"#B0BEC5\",\"#B0BEC5\",\"#B0BEC5\",\"#B0BEC5\",\"#B0BEC5\",\"#B0BEC5\",\"#B0BEC5\",\"#B0BEC5\",\"#B0BEC5\",\"#B0BEC5\",\"#B0BEC5\",\"#B0BEC5\",\"#B0BEC5\",\"#B0BEC5\",\"#B0BEC5\",\"#B0BEC5\",\"#B0BEC5\",\"#B0BEC5\",\"#B0BEC5\",\"#B0BEC5\",\"#B0BEC5\",\"#B0BEC5\",\"#B0BEC5\",\"#B0BEC5\",\"#B0BEC5\",\"#B0BEC5\",\"#B0BEC5\",\"#B0BEC5\",\"#B0BEC5\",\"#B0BEC5\",\"#B0BEC5\",\"#B0BEC5\",\"#B0BEC5\",\"#B0BEC5\",\"#B0BEC5\",\"#B0BEC5\",\"red\",\"#B0BEC5\",\"#B0BEC5\",\"#B0BEC5\",\"#B0BEC5\",\"#B0BEC5\",\"#B0BEC5\",\"#B0BEC5\"]]}],\"label\":\"Topic 69\",\"method\":\"update\"},{\"args\":[{\"marker.color\":[[\"#B0BEC5\",\"#B0BEC5\",\"#B0BEC5\",\"#B0BEC5\",\"#B0BEC5\",\"#B0BEC5\",\"#B0BEC5\",\"#B0BEC5\",\"#B0BEC5\",\"#B0BEC5\",\"#B0BEC5\",\"#B0BEC5\",\"#B0BEC5\",\"#B0BEC5\",\"#B0BEC5\",\"#B0BEC5\",\"#B0BEC5\",\"#B0BEC5\",\"#B0BEC5\",\"#B0BEC5\",\"#B0BEC5\",\"#B0BEC5\",\"#B0BEC5\",\"#B0BEC5\",\"#B0BEC5\",\"#B0BEC5\",\"#B0BEC5\",\"#B0BEC5\",\"#B0BEC5\",\"#B0BEC5\",\"#B0BEC5\",\"#B0BEC5\",\"#B0BEC5\",\"#B0BEC5\",\"#B0BEC5\",\"#B0BEC5\",\"#B0BEC5\",\"#B0BEC5\",\"#B0BEC5\",\"#B0BEC5\",\"#B0BEC5\",\"#B0BEC5\",\"#B0BEC5\",\"#B0BEC5\",\"#B0BEC5\",\"#B0BEC5\",\"#B0BEC5\",\"#B0BEC5\",\"#B0BEC5\",\"#B0BEC5\",\"#B0BEC5\",\"#B0BEC5\",\"#B0BEC5\",\"#B0BEC5\",\"#B0BEC5\",\"#B0BEC5\",\"#B0BEC5\",\"#B0BEC5\",\"#B0BEC5\",\"#B0BEC5\",\"#B0BEC5\",\"#B0BEC5\",\"#B0BEC5\",\"#B0BEC5\",\"#B0BEC5\",\"#B0BEC5\",\"#B0BEC5\",\"#B0BEC5\",\"#B0BEC5\",\"#B0BEC5\",\"red\",\"#B0BEC5\",\"#B0BEC5\",\"#B0BEC5\",\"#B0BEC5\",\"#B0BEC5\",\"#B0BEC5\"]]}],\"label\":\"Topic 70\",\"method\":\"update\"},{\"args\":[{\"marker.color\":[[\"#B0BEC5\",\"#B0BEC5\",\"#B0BEC5\",\"#B0BEC5\",\"#B0BEC5\",\"#B0BEC5\",\"#B0BEC5\",\"#B0BEC5\",\"#B0BEC5\",\"#B0BEC5\",\"#B0BEC5\",\"#B0BEC5\",\"#B0BEC5\",\"#B0BEC5\",\"#B0BEC5\",\"#B0BEC5\",\"#B0BEC5\",\"#B0BEC5\",\"#B0BEC5\",\"#B0BEC5\",\"#B0BEC5\",\"#B0BEC5\",\"#B0BEC5\",\"#B0BEC5\",\"#B0BEC5\",\"#B0BEC5\",\"#B0BEC5\",\"#B0BEC5\",\"#B0BEC5\",\"#B0BEC5\",\"#B0BEC5\",\"#B0BEC5\",\"#B0BEC5\",\"#B0BEC5\",\"#B0BEC5\",\"#B0BEC5\",\"#B0BEC5\",\"#B0BEC5\",\"#B0BEC5\",\"#B0BEC5\",\"#B0BEC5\",\"#B0BEC5\",\"#B0BEC5\",\"#B0BEC5\",\"#B0BEC5\",\"#B0BEC5\",\"#B0BEC5\",\"#B0BEC5\",\"#B0BEC5\",\"#B0BEC5\",\"#B0BEC5\",\"#B0BEC5\",\"#B0BEC5\",\"#B0BEC5\",\"#B0BEC5\",\"#B0BEC5\",\"#B0BEC5\",\"#B0BEC5\",\"#B0BEC5\",\"#B0BEC5\",\"#B0BEC5\",\"#B0BEC5\",\"#B0BEC5\",\"#B0BEC5\",\"#B0BEC5\",\"#B0BEC5\",\"#B0BEC5\",\"#B0BEC5\",\"#B0BEC5\",\"#B0BEC5\",\"#B0BEC5\",\"red\",\"#B0BEC5\",\"#B0BEC5\",\"#B0BEC5\",\"#B0BEC5\",\"#B0BEC5\"]]}],\"label\":\"Topic 71\",\"method\":\"update\"},{\"args\":[{\"marker.color\":[[\"#B0BEC5\",\"#B0BEC5\",\"#B0BEC5\",\"#B0BEC5\",\"#B0BEC5\",\"#B0BEC5\",\"#B0BEC5\",\"#B0BEC5\",\"#B0BEC5\",\"#B0BEC5\",\"#B0BEC5\",\"#B0BEC5\",\"#B0BEC5\",\"#B0BEC5\",\"#B0BEC5\",\"#B0BEC5\",\"#B0BEC5\",\"#B0BEC5\",\"#B0BEC5\",\"#B0BEC5\",\"#B0BEC5\",\"#B0BEC5\",\"#B0BEC5\",\"#B0BEC5\",\"#B0BEC5\",\"#B0BEC5\",\"#B0BEC5\",\"#B0BEC5\",\"#B0BEC5\",\"#B0BEC5\",\"#B0BEC5\",\"#B0BEC5\",\"#B0BEC5\",\"#B0BEC5\",\"#B0BEC5\",\"#B0BEC5\",\"#B0BEC5\",\"#B0BEC5\",\"#B0BEC5\",\"#B0BEC5\",\"#B0BEC5\",\"#B0BEC5\",\"#B0BEC5\",\"#B0BEC5\",\"#B0BEC5\",\"#B0BEC5\",\"#B0BEC5\",\"#B0BEC5\",\"#B0BEC5\",\"#B0BEC5\",\"#B0BEC5\",\"#B0BEC5\",\"#B0BEC5\",\"#B0BEC5\",\"#B0BEC5\",\"#B0BEC5\",\"#B0BEC5\",\"#B0BEC5\",\"#B0BEC5\",\"#B0BEC5\",\"#B0BEC5\",\"#B0BEC5\",\"#B0BEC5\",\"#B0BEC5\",\"#B0BEC5\",\"#B0BEC5\",\"#B0BEC5\",\"#B0BEC5\",\"#B0BEC5\",\"#B0BEC5\",\"#B0BEC5\",\"#B0BEC5\",\"red\",\"#B0BEC5\",\"#B0BEC5\",\"#B0BEC5\",\"#B0BEC5\"]]}],\"label\":\"Topic 72\",\"method\":\"update\"},{\"args\":[{\"marker.color\":[[\"#B0BEC5\",\"#B0BEC5\",\"#B0BEC5\",\"#B0BEC5\",\"#B0BEC5\",\"#B0BEC5\",\"#B0BEC5\",\"#B0BEC5\",\"#B0BEC5\",\"#B0BEC5\",\"#B0BEC5\",\"#B0BEC5\",\"#B0BEC5\",\"#B0BEC5\",\"#B0BEC5\",\"#B0BEC5\",\"#B0BEC5\",\"#B0BEC5\",\"#B0BEC5\",\"#B0BEC5\",\"#B0BEC5\",\"#B0BEC5\",\"#B0BEC5\",\"#B0BEC5\",\"#B0BEC5\",\"#B0BEC5\",\"#B0BEC5\",\"#B0BEC5\",\"#B0BEC5\",\"#B0BEC5\",\"#B0BEC5\",\"#B0BEC5\",\"#B0BEC5\",\"#B0BEC5\",\"#B0BEC5\",\"#B0BEC5\",\"#B0BEC5\",\"#B0BEC5\",\"#B0BEC5\",\"#B0BEC5\",\"#B0BEC5\",\"#B0BEC5\",\"#B0BEC5\",\"#B0BEC5\",\"#B0BEC5\",\"#B0BEC5\",\"#B0BEC5\",\"#B0BEC5\",\"#B0BEC5\",\"#B0BEC5\",\"#B0BEC5\",\"#B0BEC5\",\"#B0BEC5\",\"#B0BEC5\",\"#B0BEC5\",\"#B0BEC5\",\"#B0BEC5\",\"#B0BEC5\",\"#B0BEC5\",\"#B0BEC5\",\"#B0BEC5\",\"#B0BEC5\",\"#B0BEC5\",\"#B0BEC5\",\"#B0BEC5\",\"#B0BEC5\",\"#B0BEC5\",\"#B0BEC5\",\"#B0BEC5\",\"#B0BEC5\",\"#B0BEC5\",\"#B0BEC5\",\"#B0BEC5\",\"red\",\"#B0BEC5\",\"#B0BEC5\",\"#B0BEC5\"]]}],\"label\":\"Topic 73\",\"method\":\"update\"},{\"args\":[{\"marker.color\":[[\"#B0BEC5\",\"#B0BEC5\",\"#B0BEC5\",\"#B0BEC5\",\"#B0BEC5\",\"#B0BEC5\",\"#B0BEC5\",\"#B0BEC5\",\"#B0BEC5\",\"#B0BEC5\",\"#B0BEC5\",\"#B0BEC5\",\"#B0BEC5\",\"#B0BEC5\",\"#B0BEC5\",\"#B0BEC5\",\"#B0BEC5\",\"#B0BEC5\",\"#B0BEC5\",\"#B0BEC5\",\"#B0BEC5\",\"#B0BEC5\",\"#B0BEC5\",\"#B0BEC5\",\"#B0BEC5\",\"#B0BEC5\",\"#B0BEC5\",\"#B0BEC5\",\"#B0BEC5\",\"#B0BEC5\",\"#B0BEC5\",\"#B0BEC5\",\"#B0BEC5\",\"#B0BEC5\",\"#B0BEC5\",\"#B0BEC5\",\"#B0BEC5\",\"#B0BEC5\",\"#B0BEC5\",\"#B0BEC5\",\"#B0BEC5\",\"#B0BEC5\",\"#B0BEC5\",\"#B0BEC5\",\"#B0BEC5\",\"#B0BEC5\",\"#B0BEC5\",\"#B0BEC5\",\"#B0BEC5\",\"#B0BEC5\",\"#B0BEC5\",\"#B0BEC5\",\"#B0BEC5\",\"#B0BEC5\",\"#B0BEC5\",\"#B0BEC5\",\"#B0BEC5\",\"#B0BEC5\",\"#B0BEC5\",\"#B0BEC5\",\"#B0BEC5\",\"#B0BEC5\",\"#B0BEC5\",\"#B0BEC5\",\"#B0BEC5\",\"#B0BEC5\",\"#B0BEC5\",\"#B0BEC5\",\"#B0BEC5\",\"#B0BEC5\",\"#B0BEC5\",\"#B0BEC5\",\"#B0BEC5\",\"#B0BEC5\",\"red\",\"#B0BEC5\",\"#B0BEC5\"]]}],\"label\":\"Topic 74\",\"method\":\"update\"},{\"args\":[{\"marker.color\":[[\"#B0BEC5\",\"#B0BEC5\",\"#B0BEC5\",\"#B0BEC5\",\"#B0BEC5\",\"#B0BEC5\",\"#B0BEC5\",\"#B0BEC5\",\"#B0BEC5\",\"#B0BEC5\",\"#B0BEC5\",\"#B0BEC5\",\"#B0BEC5\",\"#B0BEC5\",\"#B0BEC5\",\"#B0BEC5\",\"#B0BEC5\",\"#B0BEC5\",\"#B0BEC5\",\"#B0BEC5\",\"#B0BEC5\",\"#B0BEC5\",\"#B0BEC5\",\"#B0BEC5\",\"#B0BEC5\",\"#B0BEC5\",\"#B0BEC5\",\"#B0BEC5\",\"#B0BEC5\",\"#B0BEC5\",\"#B0BEC5\",\"#B0BEC5\",\"#B0BEC5\",\"#B0BEC5\",\"#B0BEC5\",\"#B0BEC5\",\"#B0BEC5\",\"#B0BEC5\",\"#B0BEC5\",\"#B0BEC5\",\"#B0BEC5\",\"#B0BEC5\",\"#B0BEC5\",\"#B0BEC5\",\"#B0BEC5\",\"#B0BEC5\",\"#B0BEC5\",\"#B0BEC5\",\"#B0BEC5\",\"#B0BEC5\",\"#B0BEC5\",\"#B0BEC5\",\"#B0BEC5\",\"#B0BEC5\",\"#B0BEC5\",\"#B0BEC5\",\"#B0BEC5\",\"#B0BEC5\",\"#B0BEC5\",\"#B0BEC5\",\"#B0BEC5\",\"#B0BEC5\",\"#B0BEC5\",\"#B0BEC5\",\"#B0BEC5\",\"#B0BEC5\",\"#B0BEC5\",\"#B0BEC5\",\"#B0BEC5\",\"#B0BEC5\",\"#B0BEC5\",\"#B0BEC5\",\"#B0BEC5\",\"#B0BEC5\",\"#B0BEC5\",\"red\",\"#B0BEC5\"]]}],\"label\":\"Topic 75\",\"method\":\"update\"},{\"args\":[{\"marker.color\":[[\"#B0BEC5\",\"#B0BEC5\",\"#B0BEC5\",\"#B0BEC5\",\"#B0BEC5\",\"#B0BEC5\",\"#B0BEC5\",\"#B0BEC5\",\"#B0BEC5\",\"#B0BEC5\",\"#B0BEC5\",\"#B0BEC5\",\"#B0BEC5\",\"#B0BEC5\",\"#B0BEC5\",\"#B0BEC5\",\"#B0BEC5\",\"#B0BEC5\",\"#B0BEC5\",\"#B0BEC5\",\"#B0BEC5\",\"#B0BEC5\",\"#B0BEC5\",\"#B0BEC5\",\"#B0BEC5\",\"#B0BEC5\",\"#B0BEC5\",\"#B0BEC5\",\"#B0BEC5\",\"#B0BEC5\",\"#B0BEC5\",\"#B0BEC5\",\"#B0BEC5\",\"#B0BEC5\",\"#B0BEC5\",\"#B0BEC5\",\"#B0BEC5\",\"#B0BEC5\",\"#B0BEC5\",\"#B0BEC5\",\"#B0BEC5\",\"#B0BEC5\",\"#B0BEC5\",\"#B0BEC5\",\"#B0BEC5\",\"#B0BEC5\",\"#B0BEC5\",\"#B0BEC5\",\"#B0BEC5\",\"#B0BEC5\",\"#B0BEC5\",\"#B0BEC5\",\"#B0BEC5\",\"#B0BEC5\",\"#B0BEC5\",\"#B0BEC5\",\"#B0BEC5\",\"#B0BEC5\",\"#B0BEC5\",\"#B0BEC5\",\"#B0BEC5\",\"#B0BEC5\",\"#B0BEC5\",\"#B0BEC5\",\"#B0BEC5\",\"#B0BEC5\",\"#B0BEC5\",\"#B0BEC5\",\"#B0BEC5\",\"#B0BEC5\",\"#B0BEC5\",\"#B0BEC5\",\"#B0BEC5\",\"#B0BEC5\",\"#B0BEC5\",\"#B0BEC5\",\"red\"]]}],\"label\":\"Topic 76\",\"method\":\"update\"}]}],\"shapes\":[{\"line\":{\"color\":\"#CFD8DC\",\"width\":2},\"type\":\"line\",\"x0\":6.538936042785645,\"x1\":6.538936042785645,\"y0\":-7.79009964466095,\"y1\":29.861511516571046},{\"line\":{\"color\":\"#9E9E9E\",\"width\":2},\"type\":\"line\",\"x0\":-7.843723487854004,\"x1\":20.921595573425293,\"y0\":11.035705935955047,\"y1\":11.035705935955047}],\"annotations\":[{\"showarrow\":false,\"text\":\"D1\",\"x\":-7.843723487854004,\"y\":11.035705935955047,\"yshift\":10},{\"showarrow\":false,\"text\":\"D2\",\"x\":6.538936042785645,\"xshift\":10,\"y\":29.861511516571046}]},                        {\"responsive\": true}                    ).then(function(){\n",
              "                            \n",
              "var gd = document.getElementById('e1f2a0ba-b21a-4c1e-b6f4-d98e143d317d');\n",
              "var x = new MutationObserver(function (mutations, observer) {{\n",
              "        var display = window.getComputedStyle(gd).display;\n",
              "        if (!display || display === 'none') {{\n",
              "            console.log([gd, 'removed!']);\n",
              "            Plotly.purge(gd);\n",
              "            observer.disconnect();\n",
              "        }}\n",
              "}});\n",
              "\n",
              "// Listen for the removal of the full notebook cells\n",
              "var notebookContainer = gd.closest('#notebook-container');\n",
              "if (notebookContainer) {{\n",
              "    x.observe(notebookContainer, {childList: true});\n",
              "}}\n",
              "\n",
              "// Listen for the clearing of the current output cell\n",
              "var outputEl = gd.closest('.output');\n",
              "if (outputEl) {{\n",
              "    x.observe(outputEl, {childList: true});\n",
              "}}\n",
              "\n",
              "                        })                };                            </script>        </div>\n",
              "</body>\n",
              "</html>"
            ]
          },
          "metadata": {}
        }
      ]
    },
    {
      "cell_type": "markdown",
      "source": [
        "#### **Save intertopic distance map**"
      ],
      "metadata": {
        "id": "VEy11A_SlliP"
      }
    },
    {
      "cell_type": "code",
      "source": [
        "# Set the path to save \n",
        "path = WORK_DIR + f'results/{DATA_FRAME_FEATURE_NAME}/intertopic_distance_map/'\n",
        "\n",
        "# Use makedirs() to create a new directory if it does not exists\n",
        "if not os.path.exists(path):\n",
        "  os.makedirs(path)\n",
        "\n",
        "\n",
        "fig.write_image(path + \"idm_preprocessed_lemma.png\", format=\"png\")\n",
        "fig.write_html(path + \"idm_preprocessed_lemma.html\")"
      ],
      "metadata": {
        "id": "hLy_Eeu4lqCg"
      },
      "execution_count": 48,
      "outputs": []
    },
    {
      "cell_type": "markdown",
      "source": [
        "[Github link](https://github.com/punkmic/Topic-Modeling-Reclame-Aqui/blob/master/results/intertopic_distance_map/idm_preprocessed_lemma.png?raw=true)"
      ],
      "metadata": {
        "id": "Jf-iwAsQoOCs"
      }
    },
    {
      "cell_type": "markdown",
      "source": [
        "### **Visualize Topic Hierarchy**\n",
        "\n",
        "The topics that were created can be hierarchically reduced. This visualization shows how the topics relate to one another."
      ],
      "metadata": {
        "id": "r-5bT7AgSgsv"
      }
    },
    {
      "cell_type": "code",
      "source": [
        "fig = topic_model.visualize_hierarchy(top_n_topics=30, width=800, height=800)\n",
        "fig"
      ],
      "metadata": {
        "id": "TEoOpDD6S4D7",
        "outputId": "5ecad9c7-af02-42f4-8857-79a26c8b753c",
        "colab": {
          "base_uri": "https://localhost:8080/",
          "height": 667
        }
      },
      "execution_count": 49,
      "outputs": [
        {
          "output_type": "display_data",
          "data": {
            "text/html": [
              "<html>\n",
              "<head><meta charset=\"utf-8\" /></head>\n",
              "<body>\n",
              "    <div>            <script src=\"https://cdnjs.cloudflare.com/ajax/libs/mathjax/2.7.5/MathJax.js?config=TeX-AMS-MML_SVG\"></script><script type=\"text/javascript\">if (window.MathJax) {MathJax.Hub.Config({SVG: {font: \"STIX-Web\"}});}</script>                <script type=\"text/javascript\">window.PlotlyConfig = {MathJaxConfig: 'local'};</script>\n",
              "        <script src=\"https://cdn.plot.ly/plotly-2.8.3.min.js\"></script>                <div id=\"c46f2ee2-c14c-4d1a-ac7d-1d7bfffc09d9\" class=\"plotly-graph-div\" style=\"height:650px; width:800px;\"></div>            <script type=\"text/javascript\">                                    window.PLOTLYENV=window.PLOTLYENV || {};                                    if (document.getElementById(\"c46f2ee2-c14c-4d1a-ac7d-1d7bfffc09d9\")) {                    Plotly.newPlot(                        \"c46f2ee2-c14c-4d1a-ac7d-1d7bfffc09d9\",                        [{\"hoverinfo\":\"text\",\"marker\":{\"color\":\"rgb(61,153,112)\"},\"mode\":\"lines\",\"x\":[0.0,0.5519707444564427,0.5519707444564427,0.0],\"xaxis\":\"x\",\"y\":[-15.0,-15.0,-25.0,-25.0],\"yaxis\":\"y\",\"type\":\"scatter\"},{\"hoverinfo\":\"text\",\"marker\":{\"color\":\"rgb(61,153,112)\"},\"mode\":\"lines\",\"x\":[0.0,0.7482978225658306,0.7482978225658306,0.5519707444564427],\"xaxis\":\"x\",\"y\":[-5.0,-5.0,-20.0,-20.0],\"yaxis\":\"y\",\"type\":\"scatter\"},{\"hoverinfo\":\"text\",\"marker\":{\"color\":\"rgb(255,65,54)\"},\"mode\":\"lines\",\"x\":[0.0,0.49637047118781363,0.49637047118781363,0.0],\"xaxis\":\"x\",\"y\":[-55.0,-55.0,-65.0,-65.0],\"yaxis\":\"y\",\"type\":\"scatter\"},{\"hoverinfo\":\"text\",\"marker\":{\"color\":\"rgb(255,65,54)\"},\"mode\":\"lines\",\"x\":[0.0,0.5291290001353256,0.5291290001353256,0.49637047118781363],\"xaxis\":\"x\",\"y\":[-45.0,-45.0,-60.0,-60.0],\"yaxis\":\"y\",\"type\":\"scatter\"},{\"hoverinfo\":\"text\",\"marker\":{\"color\":\"rgb(255,65,54)\"},\"mode\":\"lines\",\"x\":[0.0,0.6566776280262315,0.6566776280262315,0.5291290001353256],\"xaxis\":\"x\",\"y\":[-35.0,-35.0,-52.5,-52.5],\"yaxis\":\"y\",\"type\":\"scatter\"},{\"hoverinfo\":\"text\",\"marker\":{\"color\":\"rgb(255,65,54)\"},\"mode\":\"lines\",\"x\":[0.0,0.6528298307108319,0.6528298307108319,0.0],\"xaxis\":\"x\",\"y\":[-75.0,-75.0,-85.0,-85.0],\"yaxis\":\"y\",\"type\":\"scatter\"},{\"hoverinfo\":\"text\",\"marker\":{\"color\":\"rgb(255,65,54)\"},\"mode\":\"lines\",\"x\":[0.6528298307108319,0.7097483532973643,0.7097483532973643,0.0],\"xaxis\":\"x\",\"y\":[-80.0,-80.0,-95.0,-95.0],\"yaxis\":\"y\",\"type\":\"scatter\"},{\"hoverinfo\":\"text\",\"marker\":{\"color\":\"rgb(255,65,54)\"},\"mode\":\"lines\",\"x\":[0.6566776280262315,0.7574839038537562,0.7574839038537562,0.7097483532973643],\"xaxis\":\"x\",\"y\":[-43.75,-43.75,-87.5,-87.5],\"yaxis\":\"y\",\"type\":\"scatter\"},{\"hoverinfo\":\"text\",\"marker\":{\"color\":\"rgb(35,205,205)\"},\"mode\":\"lines\",\"x\":[0.0,0.7108210489488714,0.7108210489488714,0.0],\"xaxis\":\"x\",\"y\":[-105.0,-105.0,-115.0,-115.0],\"yaxis\":\"y\",\"type\":\"scatter\"},{\"hoverinfo\":\"text\",\"marker\":{\"color\":\"rgb(35,205,205)\"},\"mode\":\"lines\",\"x\":[0.7108210489488714,0.9472679638497941,0.9472679638497941,0.0],\"xaxis\":\"x\",\"y\":[-110.0,-110.0,-125.0,-125.0],\"yaxis\":\"y\",\"type\":\"scatter\"},{\"hoverinfo\":\"text\",\"marker\":{\"color\":\"rgb(0,116,217)\"},\"mode\":\"lines\",\"x\":[0.7574839038537562,1.2634374282005791,1.2634374282005791,0.9472679638497941],\"xaxis\":\"x\",\"y\":[-65.625,-65.625,-117.5,-117.5],\"yaxis\":\"y\",\"type\":\"scatter\"},{\"hoverinfo\":\"text\",\"marker\":{\"color\":\"rgb(0,116,217)\"},\"mode\":\"lines\",\"x\":[0.7482978225658306,1.3459472467182156,1.3459472467182156,1.2634374282005791],\"xaxis\":\"x\",\"y\":[-12.5,-12.5,-91.5625,-91.5625],\"yaxis\":\"y\",\"type\":\"scatter\"},{\"hoverinfo\":\"text\",\"marker\":{\"color\":\"rgb(0,116,217)\"},\"mode\":\"lines\",\"x\":[0.0,1.073631908879332,1.073631908879332,0.0],\"xaxis\":\"x\",\"y\":[-135.0,-135.0,-145.0,-145.0],\"yaxis\":\"y\",\"type\":\"scatter\"},{\"hoverinfo\":\"text\",\"marker\":{\"color\":\"rgb(0,116,217)\"},\"mode\":\"lines\",\"x\":[0.0,1.0080751721208676,1.0080751721208676,0.0],\"xaxis\":\"x\",\"y\":[-165.0,-165.0,-175.0,-175.0],\"yaxis\":\"y\",\"type\":\"scatter\"},{\"hoverinfo\":\"text\",\"marker\":{\"color\":\"rgb(0,116,217)\"},\"mode\":\"lines\",\"x\":[1.0080751721208676,1.1575496323161878,1.1575496323161878,0.0],\"xaxis\":\"x\",\"y\":[-170.0,-170.0,-185.0,-185.0],\"yaxis\":\"y\",\"type\":\"scatter\"},{\"hoverinfo\":\"text\",\"marker\":{\"color\":\"rgb(0,116,217)\"},\"mode\":\"lines\",\"x\":[0.0,1.207003721711039,1.207003721711039,1.1575496323161878],\"xaxis\":\"x\",\"y\":[-155.0,-155.0,-177.5,-177.5],\"yaxis\":\"y\",\"type\":\"scatter\"},{\"hoverinfo\":\"text\",\"marker\":{\"color\":\"rgb(0,116,217)\"},\"mode\":\"lines\",\"x\":[1.073631908879332,1.279542504063997,1.279542504063997,1.207003721711039],\"xaxis\":\"x\",\"y\":[-140.0,-140.0,-166.25,-166.25],\"yaxis\":\"y\",\"type\":\"scatter\"},{\"hoverinfo\":\"text\",\"marker\":{\"color\":\"rgb(0,116,217)\"},\"mode\":\"lines\",\"x\":[0.0,1.0178207849011205,1.0178207849011205,0.0],\"xaxis\":\"x\",\"y\":[-195.0,-195.0,-205.0,-205.0],\"yaxis\":\"y\",\"type\":\"scatter\"},{\"hoverinfo\":\"text\",\"marker\":{\"color\":\"rgb(133,20,75)\"},\"mode\":\"lines\",\"x\":[0.0,0.7915225722299615,0.7915225722299615,0.0],\"xaxis\":\"x\",\"y\":[-215.0,-215.0,-225.0,-225.0],\"yaxis\":\"y\",\"type\":\"scatter\"},{\"hoverinfo\":\"text\",\"marker\":{\"color\":\"rgb(0,116,217)\"},\"mode\":\"lines\",\"x\":[1.0178207849011205,1.108910775576609,1.108910775576609,0.7915225722299615],\"xaxis\":\"x\",\"y\":[-200.0,-200.0,-220.0,-220.0],\"yaxis\":\"y\",\"type\":\"scatter\"},{\"hoverinfo\":\"text\",\"marker\":{\"color\":\"rgb(0,116,217)\"},\"mode\":\"lines\",\"x\":[1.279542504063997,1.3662032868618765,1.3662032868618765,1.108910775576609],\"xaxis\":\"x\",\"y\":[-153.125,-153.125,-210.0,-210.0],\"yaxis\":\"y\",\"type\":\"scatter\"},{\"hoverinfo\":\"text\",\"marker\":{\"color\":\"rgb(0,116,217)\"},\"mode\":\"lines\",\"x\":[0.0,1.1329549960390963,1.1329549960390963,0.0],\"xaxis\":\"x\",\"y\":[-235.0,-235.0,-245.0,-245.0],\"yaxis\":\"y\",\"type\":\"scatter\"},{\"hoverinfo\":\"text\",\"marker\":{\"color\":\"rgb(0,116,217)\"},\"mode\":\"lines\",\"x\":[0.0,1.2150534287377177,1.2150534287377177,0.0],\"xaxis\":\"x\",\"y\":[-265.0,-265.0,-275.0,-275.0],\"yaxis\":\"y\",\"type\":\"scatter\"},{\"hoverinfo\":\"text\",\"marker\":{\"color\":\"rgb(0,116,217)\"},\"mode\":\"lines\",\"x\":[0.0,1.2912544750342985,1.2912544750342985,1.2150534287377177],\"xaxis\":\"x\",\"y\":[-255.0,-255.0,-270.0,-270.0],\"yaxis\":\"y\",\"type\":\"scatter\"},{\"hoverinfo\":\"text\",\"marker\":{\"color\":\"rgb(0,116,217)\"},\"mode\":\"lines\",\"x\":[1.1329549960390963,1.3843174008390888,1.3843174008390888,1.2912544750342985],\"xaxis\":\"x\",\"y\":[-240.0,-240.0,-262.5,-262.5],\"yaxis\":\"y\",\"type\":\"scatter\"},{\"hoverinfo\":\"text\",\"marker\":{\"color\":\"rgb(0,116,217)\"},\"mode\":\"lines\",\"x\":[0.0,1.0123585722280648,1.0123585722280648,0.0],\"xaxis\":\"x\",\"y\":[-285.0,-285.0,-295.0,-295.0],\"yaxis\":\"y\",\"type\":\"scatter\"},{\"hoverinfo\":\"text\",\"marker\":{\"color\":\"rgb(0,116,217)\"},\"mode\":\"lines\",\"x\":[1.3843174008390888,1.7067687706713288,1.7067687706713288,1.0123585722280648],\"xaxis\":\"x\",\"y\":[-251.25,-251.25,-290.0,-290.0],\"yaxis\":\"y\",\"type\":\"scatter\"},{\"hoverinfo\":\"text\",\"marker\":{\"color\":\"rgb(0,116,217)\"},\"mode\":\"lines\",\"x\":[1.3662032868618765,2.0146575607766155,2.0146575607766155,1.7067687706713288],\"xaxis\":\"x\",\"y\":[-181.5625,-181.5625,-270.625,-270.625],\"yaxis\":\"y\",\"type\":\"scatter\"},{\"hoverinfo\":\"text\",\"marker\":{\"color\":\"rgb(0,116,217)\"},\"mode\":\"lines\",\"x\":[1.3459472467182156,3.7609093208798607,3.7609093208798607,2.0146575607766155],\"xaxis\":\"x\",\"y\":[-52.03125,-52.03125,-226.09375,-226.09375],\"yaxis\":\"y\",\"type\":\"scatter\"}],                        {\"autosize\":false,\"height\":650,\"hovermode\":\"closest\",\"showlegend\":false,\"width\":800,\"xaxis\":{\"mirror\":\"allticks\",\"rangemode\":\"tozero\",\"showgrid\":false,\"showline\":true,\"showticklabels\":true,\"ticks\":\"outside\",\"type\":\"linear\",\"zeroline\":false},\"yaxis\":{\"mirror\":\"allticks\",\"rangemode\":\"tozero\",\"showgrid\":false,\"showline\":true,\"showticklabels\":true,\"tickmode\":\"array\",\"ticks\":\"outside\",\"ticktext\":[\"6_novembro_dezembro_outubro\",\"14_previs\\u00e3o_entregar_prazo\",\"12_prazo_atraso_entregar\",\"2_cancelamento_cancelar_pedir\",\"3_whatsapp_contato_entregar\",\"9_loja_magalu_poder\",\"1_celular_aparelho_smartphone\",\"4_brasil_brasileiro_chegar\",\"5_endere\\u00e7o_pedir_entregar\",\"29_juliana_fraga_produto_ma...\",\"13_black_friday_promo\\u00e7\\u00e3o\",\"10_iphone_aparelho_celular\",\"0_cart\\u00e3o_cr\\u00e9dito_cobrar\",\"27_m\\u00e1quina_lavar_roupa\",\"15_geladeira_refrigerador_g...\",\"18_t\\u00eanis_mizuno_tenis\",\"24_gr\\u00e1tis_site_valor\",\"17_reclama\\u00e7\\u00e3o_comprador_pro...\",\"7_conta_email_senha\",\"21_rob\\u00f4_aspirador_macac\\u00e3o\",\"8_roupa_vestir_cal\\u00e7a\",\"11_dinheiro_reembolso_voltar\",\"25_aplicativo_reembolso_com...\",\"26_curitiba_tr\\u00e2nsito_parado\",\"20_rastreio_c\\u00f3digo_rastream...\",\"23_trip\\u00e9_pedir_recebi\",\"19_livro_compr_dois\",\"16_jogo_lan\\u00e7amento_ragnarok\",\"22_amazoncombr_cobran\\u00e7a_dig...\",\"28_prime_v\\u00eddeo_assinatura\"],\"tickvals\":[-5.0,-15.0,-25.0,-35.0,-45.0,-55.0,-65.0,-75.0,-85.0,-95.0,-105.0,-115.0,-125.0,-135.0,-145.0,-155.0,-165.0,-175.0,-185.0,-195.0,-205.0,-215.0,-225.0,-235.0,-245.0,-255.0,-265.0,-275.0,-285.0,-295.0],\"type\":\"linear\",\"zeroline\":false,\"range\":[-300.0,0.0]},\"template\":{\"data\":{\"barpolar\":[{\"marker\":{\"line\":{\"color\":\"white\",\"width\":0.5},\"pattern\":{\"fillmode\":\"overlay\",\"size\":10,\"solidity\":0.2}},\"type\":\"barpolar\"}],\"bar\":[{\"error_x\":{\"color\":\"#2a3f5f\"},\"error_y\":{\"color\":\"#2a3f5f\"},\"marker\":{\"line\":{\"color\":\"white\",\"width\":0.5},\"pattern\":{\"fillmode\":\"overlay\",\"size\":10,\"solidity\":0.2}},\"type\":\"bar\"}],\"carpet\":[{\"aaxis\":{\"endlinecolor\":\"#2a3f5f\",\"gridcolor\":\"#C8D4E3\",\"linecolor\":\"#C8D4E3\",\"minorgridcolor\":\"#C8D4E3\",\"startlinecolor\":\"#2a3f5f\"},\"baxis\":{\"endlinecolor\":\"#2a3f5f\",\"gridcolor\":\"#C8D4E3\",\"linecolor\":\"#C8D4E3\",\"minorgridcolor\":\"#C8D4E3\",\"startlinecolor\":\"#2a3f5f\"},\"type\":\"carpet\"}],\"choropleth\":[{\"colorbar\":{\"outlinewidth\":0,\"ticks\":\"\"},\"type\":\"choropleth\"}],\"contourcarpet\":[{\"colorbar\":{\"outlinewidth\":0,\"ticks\":\"\"},\"type\":\"contourcarpet\"}],\"contour\":[{\"colorbar\":{\"outlinewidth\":0,\"ticks\":\"\"},\"colorscale\":[[0.0,\"#0d0887\"],[0.1111111111111111,\"#46039f\"],[0.2222222222222222,\"#7201a8\"],[0.3333333333333333,\"#9c179e\"],[0.4444444444444444,\"#bd3786\"],[0.5555555555555556,\"#d8576b\"],[0.6666666666666666,\"#ed7953\"],[0.7777777777777778,\"#fb9f3a\"],[0.8888888888888888,\"#fdca26\"],[1.0,\"#f0f921\"]],\"type\":\"contour\"}],\"heatmapgl\":[{\"colorbar\":{\"outlinewidth\":0,\"ticks\":\"\"},\"colorscale\":[[0.0,\"#0d0887\"],[0.1111111111111111,\"#46039f\"],[0.2222222222222222,\"#7201a8\"],[0.3333333333333333,\"#9c179e\"],[0.4444444444444444,\"#bd3786\"],[0.5555555555555556,\"#d8576b\"],[0.6666666666666666,\"#ed7953\"],[0.7777777777777778,\"#fb9f3a\"],[0.8888888888888888,\"#fdca26\"],[1.0,\"#f0f921\"]],\"type\":\"heatmapgl\"}],\"heatmap\":[{\"colorbar\":{\"outlinewidth\":0,\"ticks\":\"\"},\"colorscale\":[[0.0,\"#0d0887\"],[0.1111111111111111,\"#46039f\"],[0.2222222222222222,\"#7201a8\"],[0.3333333333333333,\"#9c179e\"],[0.4444444444444444,\"#bd3786\"],[0.5555555555555556,\"#d8576b\"],[0.6666666666666666,\"#ed7953\"],[0.7777777777777778,\"#fb9f3a\"],[0.8888888888888888,\"#fdca26\"],[1.0,\"#f0f921\"]],\"type\":\"heatmap\"}],\"histogram2dcontour\":[{\"colorbar\":{\"outlinewidth\":0,\"ticks\":\"\"},\"colorscale\":[[0.0,\"#0d0887\"],[0.1111111111111111,\"#46039f\"],[0.2222222222222222,\"#7201a8\"],[0.3333333333333333,\"#9c179e\"],[0.4444444444444444,\"#bd3786\"],[0.5555555555555556,\"#d8576b\"],[0.6666666666666666,\"#ed7953\"],[0.7777777777777778,\"#fb9f3a\"],[0.8888888888888888,\"#fdca26\"],[1.0,\"#f0f921\"]],\"type\":\"histogram2dcontour\"}],\"histogram2d\":[{\"colorbar\":{\"outlinewidth\":0,\"ticks\":\"\"},\"colorscale\":[[0.0,\"#0d0887\"],[0.1111111111111111,\"#46039f\"],[0.2222222222222222,\"#7201a8\"],[0.3333333333333333,\"#9c179e\"],[0.4444444444444444,\"#bd3786\"],[0.5555555555555556,\"#d8576b\"],[0.6666666666666666,\"#ed7953\"],[0.7777777777777778,\"#fb9f3a\"],[0.8888888888888888,\"#fdca26\"],[1.0,\"#f0f921\"]],\"type\":\"histogram2d\"}],\"histogram\":[{\"marker\":{\"pattern\":{\"fillmode\":\"overlay\",\"size\":10,\"solidity\":0.2}},\"type\":\"histogram\"}],\"mesh3d\":[{\"colorbar\":{\"outlinewidth\":0,\"ticks\":\"\"},\"type\":\"mesh3d\"}],\"parcoords\":[{\"line\":{\"colorbar\":{\"outlinewidth\":0,\"ticks\":\"\"}},\"type\":\"parcoords\"}],\"pie\":[{\"automargin\":true,\"type\":\"pie\"}],\"scatter3d\":[{\"line\":{\"colorbar\":{\"outlinewidth\":0,\"ticks\":\"\"}},\"marker\":{\"colorbar\":{\"outlinewidth\":0,\"ticks\":\"\"}},\"type\":\"scatter3d\"}],\"scattercarpet\":[{\"marker\":{\"colorbar\":{\"outlinewidth\":0,\"ticks\":\"\"}},\"type\":\"scattercarpet\"}],\"scattergeo\":[{\"marker\":{\"colorbar\":{\"outlinewidth\":0,\"ticks\":\"\"}},\"type\":\"scattergeo\"}],\"scattergl\":[{\"marker\":{\"colorbar\":{\"outlinewidth\":0,\"ticks\":\"\"}},\"type\":\"scattergl\"}],\"scattermapbox\":[{\"marker\":{\"colorbar\":{\"outlinewidth\":0,\"ticks\":\"\"}},\"type\":\"scattermapbox\"}],\"scatterpolargl\":[{\"marker\":{\"colorbar\":{\"outlinewidth\":0,\"ticks\":\"\"}},\"type\":\"scatterpolargl\"}],\"scatterpolar\":[{\"marker\":{\"colorbar\":{\"outlinewidth\":0,\"ticks\":\"\"}},\"type\":\"scatterpolar\"}],\"scatter\":[{\"marker\":{\"colorbar\":{\"outlinewidth\":0,\"ticks\":\"\"}},\"type\":\"scatter\"}],\"scatterternary\":[{\"marker\":{\"colorbar\":{\"outlinewidth\":0,\"ticks\":\"\"}},\"type\":\"scatterternary\"}],\"surface\":[{\"colorbar\":{\"outlinewidth\":0,\"ticks\":\"\"},\"colorscale\":[[0.0,\"#0d0887\"],[0.1111111111111111,\"#46039f\"],[0.2222222222222222,\"#7201a8\"],[0.3333333333333333,\"#9c179e\"],[0.4444444444444444,\"#bd3786\"],[0.5555555555555556,\"#d8576b\"],[0.6666666666666666,\"#ed7953\"],[0.7777777777777778,\"#fb9f3a\"],[0.8888888888888888,\"#fdca26\"],[1.0,\"#f0f921\"]],\"type\":\"surface\"}],\"table\":[{\"cells\":{\"fill\":{\"color\":\"#EBF0F8\"},\"line\":{\"color\":\"white\"}},\"header\":{\"fill\":{\"color\":\"#C8D4E3\"},\"line\":{\"color\":\"white\"}},\"type\":\"table\"}]},\"layout\":{\"annotationdefaults\":{\"arrowcolor\":\"#2a3f5f\",\"arrowhead\":0,\"arrowwidth\":1},\"autotypenumbers\":\"strict\",\"coloraxis\":{\"colorbar\":{\"outlinewidth\":0,\"ticks\":\"\"}},\"colorscale\":{\"diverging\":[[0,\"#8e0152\"],[0.1,\"#c51b7d\"],[0.2,\"#de77ae\"],[0.3,\"#f1b6da\"],[0.4,\"#fde0ef\"],[0.5,\"#f7f7f7\"],[0.6,\"#e6f5d0\"],[0.7,\"#b8e186\"],[0.8,\"#7fbc41\"],[0.9,\"#4d9221\"],[1,\"#276419\"]],\"sequential\":[[0.0,\"#0d0887\"],[0.1111111111111111,\"#46039f\"],[0.2222222222222222,\"#7201a8\"],[0.3333333333333333,\"#9c179e\"],[0.4444444444444444,\"#bd3786\"],[0.5555555555555556,\"#d8576b\"],[0.6666666666666666,\"#ed7953\"],[0.7777777777777778,\"#fb9f3a\"],[0.8888888888888888,\"#fdca26\"],[1.0,\"#f0f921\"]],\"sequentialminus\":[[0.0,\"#0d0887\"],[0.1111111111111111,\"#46039f\"],[0.2222222222222222,\"#7201a8\"],[0.3333333333333333,\"#9c179e\"],[0.4444444444444444,\"#bd3786\"],[0.5555555555555556,\"#d8576b\"],[0.6666666666666666,\"#ed7953\"],[0.7777777777777778,\"#fb9f3a\"],[0.8888888888888888,\"#fdca26\"],[1.0,\"#f0f921\"]]},\"colorway\":[\"#636efa\",\"#EF553B\",\"#00cc96\",\"#ab63fa\",\"#FFA15A\",\"#19d3f3\",\"#FF6692\",\"#B6E880\",\"#FF97FF\",\"#FECB52\"],\"font\":{\"color\":\"#2a3f5f\"},\"geo\":{\"bgcolor\":\"white\",\"lakecolor\":\"white\",\"landcolor\":\"white\",\"showlakes\":true,\"showland\":true,\"subunitcolor\":\"#C8D4E3\"},\"hoverlabel\":{\"align\":\"left\"},\"hovermode\":\"closest\",\"mapbox\":{\"style\":\"light\"},\"paper_bgcolor\":\"white\",\"plot_bgcolor\":\"white\",\"polar\":{\"angularaxis\":{\"gridcolor\":\"#EBF0F8\",\"linecolor\":\"#EBF0F8\",\"ticks\":\"\"},\"bgcolor\":\"white\",\"radialaxis\":{\"gridcolor\":\"#EBF0F8\",\"linecolor\":\"#EBF0F8\",\"ticks\":\"\"}},\"scene\":{\"xaxis\":{\"backgroundcolor\":\"white\",\"gridcolor\":\"#DFE8F3\",\"gridwidth\":2,\"linecolor\":\"#EBF0F8\",\"showbackground\":true,\"ticks\":\"\",\"zerolinecolor\":\"#EBF0F8\"},\"yaxis\":{\"backgroundcolor\":\"white\",\"gridcolor\":\"#DFE8F3\",\"gridwidth\":2,\"linecolor\":\"#EBF0F8\",\"showbackground\":true,\"ticks\":\"\",\"zerolinecolor\":\"#EBF0F8\"},\"zaxis\":{\"backgroundcolor\":\"white\",\"gridcolor\":\"#DFE8F3\",\"gridwidth\":2,\"linecolor\":\"#EBF0F8\",\"showbackground\":true,\"ticks\":\"\",\"zerolinecolor\":\"#EBF0F8\"}},\"shapedefaults\":{\"line\":{\"color\":\"#2a3f5f\"}},\"ternary\":{\"aaxis\":{\"gridcolor\":\"#DFE8F3\",\"linecolor\":\"#A2B1C6\",\"ticks\":\"\"},\"baxis\":{\"gridcolor\":\"#DFE8F3\",\"linecolor\":\"#A2B1C6\",\"ticks\":\"\"},\"bgcolor\":\"white\",\"caxis\":{\"gridcolor\":\"#DFE8F3\",\"linecolor\":\"#A2B1C6\",\"ticks\":\"\"}},\"title\":{\"x\":0.05},\"xaxis\":{\"automargin\":true,\"gridcolor\":\"#EBF0F8\",\"linecolor\":\"#EBF0F8\",\"ticks\":\"\",\"title\":{\"standoff\":15},\"zerolinecolor\":\"#EBF0F8\",\"zerolinewidth\":2},\"yaxis\":{\"automargin\":true,\"gridcolor\":\"#EBF0F8\",\"linecolor\":\"#EBF0F8\",\"ticks\":\"\",\"title\":{\"standoff\":15},\"zerolinecolor\":\"#EBF0F8\",\"zerolinewidth\":2}}},\"title\":{\"font\":{\"size\":22,\"color\":\"Black\"},\"text\":\"<b>Hierarchical Clustering\",\"x\":0.5,\"xanchor\":\"center\",\"yanchor\":\"top\"},\"hoverlabel\":{\"font\":{\"size\":16,\"family\":\"Rockwell\"},\"bgcolor\":\"white\"},\"plot_bgcolor\":\"#ECEFF1\"},                        {\"responsive\": true}                    ).then(function(){\n",
              "                            \n",
              "var gd = document.getElementById('c46f2ee2-c14c-4d1a-ac7d-1d7bfffc09d9');\n",
              "var x = new MutationObserver(function (mutations, observer) {{\n",
              "        var display = window.getComputedStyle(gd).display;\n",
              "        if (!display || display === 'none') {{\n",
              "            console.log([gd, 'removed!']);\n",
              "            Plotly.purge(gd);\n",
              "            observer.disconnect();\n",
              "        }}\n",
              "}});\n",
              "\n",
              "// Listen for the removal of the full notebook cells\n",
              "var notebookContainer = gd.closest('#notebook-container');\n",
              "if (notebookContainer) {{\n",
              "    x.observe(notebookContainer, {childList: true});\n",
              "}}\n",
              "\n",
              "// Listen for the clearing of the current output cell\n",
              "var outputEl = gd.closest('.output');\n",
              "if (outputEl) {{\n",
              "    x.observe(outputEl, {childList: true});\n",
              "}}\n",
              "\n",
              "                        })                };                            </script>        </div>\n",
              "</body>\n",
              "</html>"
            ]
          },
          "metadata": {}
        }
      ]
    },
    {
      "cell_type": "markdown",
      "source": [
        "#### **Save Hierarchical Clustering**"
      ],
      "metadata": {
        "id": "CyM_L5c6pBXw"
      }
    },
    {
      "cell_type": "code",
      "source": [
        "# Set the path to save \n",
        "path = WORK_DIR + f'results/{DATA_FRAME_FEATURE_NAME}/hierarchical_clustering/'\n",
        "\n",
        "# Use makedirs() to create a new directory if it does not exists\n",
        "if not os.path.exists(path):\n",
        "  os.makedirs(path)\n",
        "\n",
        "\n",
        "fig.write_image(path + \"hc_preprocessed_lemma.png\", format=\"png\")"
      ],
      "metadata": {
        "id": "CHYmk_TZpHPJ"
      },
      "execution_count": 50,
      "outputs": []
    },
    {
      "cell_type": "markdown",
      "source": [
        "[Github link](https://github.com/punkmic/Topic-Modeling-Reclame-Aqui/blob/master/results/hierarchical_clustering/hc_preprocessed_lemma.png?raw=true)"
      ],
      "metadata": {
        "id": "VrqyRupApBx1"
      }
    },
    {
      "cell_type": "markdown",
      "source": [
        "### **Visualize Terms**\n",
        "\n",
        "We can visualize the selected terms for a few topics by creating bar charts out of the c-TF-IDF scores for each topic representation."
      ],
      "metadata": {
        "id": "uC26Cc-6UvYE"
      }
    },
    {
      "cell_type": "code",
      "source": [
        "fig = topic_model.visualize_barchart(top_n_topics=12, width=300, height=300)\n",
        "fig"
      ],
      "metadata": {
        "id": "-NoMSyeWVF2s",
        "outputId": "4a40839e-a321-4b4c-e814-faade69c1083",
        "colab": {
          "base_uri": "https://localhost:8080/",
          "height": 937
        }
      },
      "execution_count": 51,
      "outputs": [
        {
          "output_type": "display_data",
          "data": {
            "text/html": [
              "<html>\n",
              "<head><meta charset=\"utf-8\" /></head>\n",
              "<body>\n",
              "    <div>            <script src=\"https://cdnjs.cloudflare.com/ajax/libs/mathjax/2.7.5/MathJax.js?config=TeX-AMS-MML_SVG\"></script><script type=\"text/javascript\">if (window.MathJax) {MathJax.Hub.Config({SVG: {font: \"STIX-Web\"}});}</script>                <script type=\"text/javascript\">window.PlotlyConfig = {MathJaxConfig: 'local'};</script>\n",
              "        <script src=\"https://cdn.plot.ly/plotly-2.8.3.min.js\"></script>                <div id=\"7ccc65b1-5507-4936-a4fc-15ad1d1c357d\" class=\"plotly-graph-div\" style=\"height:900px; width:1200px;\"></div>            <script type=\"text/javascript\">                                    window.PLOTLYENV=window.PLOTLYENV || {};                                    if (document.getElementById(\"7ccc65b1-5507-4936-a4fc-15ad1d1c357d\")) {                    Plotly.newPlot(                        \"7ccc65b1-5507-4936-a4fc-15ad1d1c357d\",                        [{\"marker\":{\"color\":\"#D55E00\"},\"orientation\":\"h\",\"x\":[0.017916486382023058,0.018713831726087895,0.01891031458742223,0.02962023057550382,0.05688374054075061],\"y\":[\"fatura  \",\"cobran\\u00e7a  \",\"cobrar  \",\"cr\\u00e9dito  \",\"cart\\u00e3o  \"],\"type\":\"bar\",\"xaxis\":\"x\",\"yaxis\":\"y\"},{\"marker\":{\"color\":\"#0072B2\"},\"orientation\":\"h\",\"x\":[0.010450061399769443,0.011853266139672674,0.014575471372641622,0.020266045351519137,0.04464751867292642],\"y\":[\"loja  \",\"comprar  \",\"smartphone  \",\"aparelho  \",\"celular  \"],\"type\":\"bar\",\"xaxis\":\"x2\",\"yaxis\":\"y2\"},{\"marker\":{\"color\":\"#CC79A7\"},\"orientation\":\"h\",\"x\":[0.014724356965564756,0.01677710903178007,0.018567107860275114,0.035842462967712756,0.04331887322532676],\"y\":[\"cancelei  \",\"solicitei  \",\"pedir  \",\"cancelar  \",\"cancelamento  \"],\"type\":\"bar\",\"xaxis\":\"x3\",\"yaxis\":\"y3\"},{\"marker\":{\"color\":\"#E69F00\"},\"orientation\":\"h\",\"x\":[0.011103959583008307,0.01111234439858292,0.01165039986505451,0.015378576311367544,0.047808380171449893],\"y\":[\"entrar  \",\"atendimento  \",\"entregar  \",\"contato  \",\"whatsapp  \"],\"type\":\"bar\",\"xaxis\":\"x4\",\"yaxis\":\"y4\"},{\"marker\":{\"color\":\"#56B4E9\"},\"orientation\":\"h\",\"x\":[0.008558827794257168,0.009705453125948449,0.00988911032865594,0.012663899607686463,0.05124042807644144],\"y\":[\"compra  \",\"pedir  \",\"chegar  \",\"brasileiro  \",\"brasil  \"],\"type\":\"bar\",\"xaxis\":\"x5\",\"yaxis\":\"y5\"},{\"marker\":{\"color\":\"#009E73\"},\"orientation\":\"h\",\"x\":[0.015260427603778258,0.015558281585882724,0.019104223670519213,0.019140400236922678,0.03969835810132461],\"y\":[\"contato  \",\"remetente  \",\"entregar  \",\"pedir  \",\"endere\\u00e7o  \"],\"type\":\"bar\",\"xaxis\":\"x6\",\"yaxis\":\"y6\"},{\"marker\":{\"color\":\"#F0E442\"},\"orientation\":\"h\",\"x\":[0.02159841660159549,0.022596174769642794,0.023877371608988437,0.031013268915224646,0.07035944172421661],\"y\":[\"entregar  \",\"chegar  \",\"outubro  \",\"dezembro  \",\"novembro  \"],\"type\":\"bar\",\"xaxis\":\"x7\",\"yaxis\":\"y7\"},{\"marker\":{\"color\":\"#D55E00\"},\"orientation\":\"h\",\"x\":[0.03666420247369928,0.039682894711339435,0.039771618902952444,0.04283230880303158,0.04947331761279899],\"y\":[\"acesso  \",\"acessar  \",\"senha  \",\"email  \",\"conta  \"],\"type\":\"bar\",\"xaxis\":\"x8\",\"yaxis\":\"y8\"},{\"marker\":{\"color\":\"#0072B2\"},\"orientation\":\"h\",\"x\":[0.01969742806119035,0.02438344467514788,0.04776964755982538,0.05069737114504657,0.06284009515037388],\"y\":[\"dois  \",\"tamanho  \",\"cal\\u00e7a  \",\"vestir  \",\"roupa  \"],\"type\":\"bar\",\"xaxis\":\"x9\",\"yaxis\":\"y9\"},{\"marker\":{\"color\":\"#CC79A7\"},\"orientation\":\"h\",\"x\":[0.008703002605882228,0.008841242631913835,0.009010897635272744,0.009703139476872232,0.011205650200577478],\"y\":[\"entrar  \",\"contato  \",\"poder  \",\"magalu  \",\"loja  \"],\"type\":\"bar\",\"xaxis\":\"x10\",\"yaxis\":\"y10\"},{\"marker\":{\"color\":\"#E69F00\"},\"orientation\":\"h\",\"x\":[0.01124780213115199,0.012938940974675087,0.013572823181731128,0.02237011373237983,0.07146720514204577],\"y\":[\"valor  \",\"carregador  \",\"celular  \",\"aparelho  \",\"iphone  \"],\"type\":\"bar\",\"xaxis\":\"x11\",\"yaxis\":\"y11\"},{\"marker\":{\"color\":\"#56B4E9\"},\"orientation\":\"h\",\"x\":[0.024698421902794494,0.025162458312788686,0.03046006653925214,0.03922852433573342,0.058913486856597246],\"y\":[\"recebi  \",\"devolver  \",\"voltar  \",\"reembolso  \",\"dinheiro  \"],\"type\":\"bar\",\"xaxis\":\"x12\",\"yaxis\":\"y12\"}],                        {\"template\":{\"data\":{\"barpolar\":[{\"marker\":{\"line\":{\"color\":\"white\",\"width\":0.5},\"pattern\":{\"fillmode\":\"overlay\",\"size\":10,\"solidity\":0.2}},\"type\":\"barpolar\"}],\"bar\":[{\"error_x\":{\"color\":\"#2a3f5f\"},\"error_y\":{\"color\":\"#2a3f5f\"},\"marker\":{\"line\":{\"color\":\"white\",\"width\":0.5},\"pattern\":{\"fillmode\":\"overlay\",\"size\":10,\"solidity\":0.2}},\"type\":\"bar\"}],\"carpet\":[{\"aaxis\":{\"endlinecolor\":\"#2a3f5f\",\"gridcolor\":\"#C8D4E3\",\"linecolor\":\"#C8D4E3\",\"minorgridcolor\":\"#C8D4E3\",\"startlinecolor\":\"#2a3f5f\"},\"baxis\":{\"endlinecolor\":\"#2a3f5f\",\"gridcolor\":\"#C8D4E3\",\"linecolor\":\"#C8D4E3\",\"minorgridcolor\":\"#C8D4E3\",\"startlinecolor\":\"#2a3f5f\"},\"type\":\"carpet\"}],\"choropleth\":[{\"colorbar\":{\"outlinewidth\":0,\"ticks\":\"\"},\"type\":\"choropleth\"}],\"contourcarpet\":[{\"colorbar\":{\"outlinewidth\":0,\"ticks\":\"\"},\"type\":\"contourcarpet\"}],\"contour\":[{\"colorbar\":{\"outlinewidth\":0,\"ticks\":\"\"},\"colorscale\":[[0.0,\"#0d0887\"],[0.1111111111111111,\"#46039f\"],[0.2222222222222222,\"#7201a8\"],[0.3333333333333333,\"#9c179e\"],[0.4444444444444444,\"#bd3786\"],[0.5555555555555556,\"#d8576b\"],[0.6666666666666666,\"#ed7953\"],[0.7777777777777778,\"#fb9f3a\"],[0.8888888888888888,\"#fdca26\"],[1.0,\"#f0f921\"]],\"type\":\"contour\"}],\"heatmapgl\":[{\"colorbar\":{\"outlinewidth\":0,\"ticks\":\"\"},\"colorscale\":[[0.0,\"#0d0887\"],[0.1111111111111111,\"#46039f\"],[0.2222222222222222,\"#7201a8\"],[0.3333333333333333,\"#9c179e\"],[0.4444444444444444,\"#bd3786\"],[0.5555555555555556,\"#d8576b\"],[0.6666666666666666,\"#ed7953\"],[0.7777777777777778,\"#fb9f3a\"],[0.8888888888888888,\"#fdca26\"],[1.0,\"#f0f921\"]],\"type\":\"heatmapgl\"}],\"heatmap\":[{\"colorbar\":{\"outlinewidth\":0,\"ticks\":\"\"},\"colorscale\":[[0.0,\"#0d0887\"],[0.1111111111111111,\"#46039f\"],[0.2222222222222222,\"#7201a8\"],[0.3333333333333333,\"#9c179e\"],[0.4444444444444444,\"#bd3786\"],[0.5555555555555556,\"#d8576b\"],[0.6666666666666666,\"#ed7953\"],[0.7777777777777778,\"#fb9f3a\"],[0.8888888888888888,\"#fdca26\"],[1.0,\"#f0f921\"]],\"type\":\"heatmap\"}],\"histogram2dcontour\":[{\"colorbar\":{\"outlinewidth\":0,\"ticks\":\"\"},\"colorscale\":[[0.0,\"#0d0887\"],[0.1111111111111111,\"#46039f\"],[0.2222222222222222,\"#7201a8\"],[0.3333333333333333,\"#9c179e\"],[0.4444444444444444,\"#bd3786\"],[0.5555555555555556,\"#d8576b\"],[0.6666666666666666,\"#ed7953\"],[0.7777777777777778,\"#fb9f3a\"],[0.8888888888888888,\"#fdca26\"],[1.0,\"#f0f921\"]],\"type\":\"histogram2dcontour\"}],\"histogram2d\":[{\"colorbar\":{\"outlinewidth\":0,\"ticks\":\"\"},\"colorscale\":[[0.0,\"#0d0887\"],[0.1111111111111111,\"#46039f\"],[0.2222222222222222,\"#7201a8\"],[0.3333333333333333,\"#9c179e\"],[0.4444444444444444,\"#bd3786\"],[0.5555555555555556,\"#d8576b\"],[0.6666666666666666,\"#ed7953\"],[0.7777777777777778,\"#fb9f3a\"],[0.8888888888888888,\"#fdca26\"],[1.0,\"#f0f921\"]],\"type\":\"histogram2d\"}],\"histogram\":[{\"marker\":{\"pattern\":{\"fillmode\":\"overlay\",\"size\":10,\"solidity\":0.2}},\"type\":\"histogram\"}],\"mesh3d\":[{\"colorbar\":{\"outlinewidth\":0,\"ticks\":\"\"},\"type\":\"mesh3d\"}],\"parcoords\":[{\"line\":{\"colorbar\":{\"outlinewidth\":0,\"ticks\":\"\"}},\"type\":\"parcoords\"}],\"pie\":[{\"automargin\":true,\"type\":\"pie\"}],\"scatter3d\":[{\"line\":{\"colorbar\":{\"outlinewidth\":0,\"ticks\":\"\"}},\"marker\":{\"colorbar\":{\"outlinewidth\":0,\"ticks\":\"\"}},\"type\":\"scatter3d\"}],\"scattercarpet\":[{\"marker\":{\"colorbar\":{\"outlinewidth\":0,\"ticks\":\"\"}},\"type\":\"scattercarpet\"}],\"scattergeo\":[{\"marker\":{\"colorbar\":{\"outlinewidth\":0,\"ticks\":\"\"}},\"type\":\"scattergeo\"}],\"scattergl\":[{\"marker\":{\"colorbar\":{\"outlinewidth\":0,\"ticks\":\"\"}},\"type\":\"scattergl\"}],\"scattermapbox\":[{\"marker\":{\"colorbar\":{\"outlinewidth\":0,\"ticks\":\"\"}},\"type\":\"scattermapbox\"}],\"scatterpolargl\":[{\"marker\":{\"colorbar\":{\"outlinewidth\":0,\"ticks\":\"\"}},\"type\":\"scatterpolargl\"}],\"scatterpolar\":[{\"marker\":{\"colorbar\":{\"outlinewidth\":0,\"ticks\":\"\"}},\"type\":\"scatterpolar\"}],\"scatter\":[{\"marker\":{\"colorbar\":{\"outlinewidth\":0,\"ticks\":\"\"}},\"type\":\"scatter\"}],\"scatterternary\":[{\"marker\":{\"colorbar\":{\"outlinewidth\":0,\"ticks\":\"\"}},\"type\":\"scatterternary\"}],\"surface\":[{\"colorbar\":{\"outlinewidth\":0,\"ticks\":\"\"},\"colorscale\":[[0.0,\"#0d0887\"],[0.1111111111111111,\"#46039f\"],[0.2222222222222222,\"#7201a8\"],[0.3333333333333333,\"#9c179e\"],[0.4444444444444444,\"#bd3786\"],[0.5555555555555556,\"#d8576b\"],[0.6666666666666666,\"#ed7953\"],[0.7777777777777778,\"#fb9f3a\"],[0.8888888888888888,\"#fdca26\"],[1.0,\"#f0f921\"]],\"type\":\"surface\"}],\"table\":[{\"cells\":{\"fill\":{\"color\":\"#EBF0F8\"},\"line\":{\"color\":\"white\"}},\"header\":{\"fill\":{\"color\":\"#C8D4E3\"},\"line\":{\"color\":\"white\"}},\"type\":\"table\"}]},\"layout\":{\"annotationdefaults\":{\"arrowcolor\":\"#2a3f5f\",\"arrowhead\":0,\"arrowwidth\":1},\"autotypenumbers\":\"strict\",\"coloraxis\":{\"colorbar\":{\"outlinewidth\":0,\"ticks\":\"\"}},\"colorscale\":{\"diverging\":[[0,\"#8e0152\"],[0.1,\"#c51b7d\"],[0.2,\"#de77ae\"],[0.3,\"#f1b6da\"],[0.4,\"#fde0ef\"],[0.5,\"#f7f7f7\"],[0.6,\"#e6f5d0\"],[0.7,\"#b8e186\"],[0.8,\"#7fbc41\"],[0.9,\"#4d9221\"],[1,\"#276419\"]],\"sequential\":[[0.0,\"#0d0887\"],[0.1111111111111111,\"#46039f\"],[0.2222222222222222,\"#7201a8\"],[0.3333333333333333,\"#9c179e\"],[0.4444444444444444,\"#bd3786\"],[0.5555555555555556,\"#d8576b\"],[0.6666666666666666,\"#ed7953\"],[0.7777777777777778,\"#fb9f3a\"],[0.8888888888888888,\"#fdca26\"],[1.0,\"#f0f921\"]],\"sequentialminus\":[[0.0,\"#0d0887\"],[0.1111111111111111,\"#46039f\"],[0.2222222222222222,\"#7201a8\"],[0.3333333333333333,\"#9c179e\"],[0.4444444444444444,\"#bd3786\"],[0.5555555555555556,\"#d8576b\"],[0.6666666666666666,\"#ed7953\"],[0.7777777777777778,\"#fb9f3a\"],[0.8888888888888888,\"#fdca26\"],[1.0,\"#f0f921\"]]},\"colorway\":[\"#636efa\",\"#EF553B\",\"#00cc96\",\"#ab63fa\",\"#FFA15A\",\"#19d3f3\",\"#FF6692\",\"#B6E880\",\"#FF97FF\",\"#FECB52\"],\"font\":{\"color\":\"#2a3f5f\"},\"geo\":{\"bgcolor\":\"white\",\"lakecolor\":\"white\",\"landcolor\":\"white\",\"showlakes\":true,\"showland\":true,\"subunitcolor\":\"#C8D4E3\"},\"hoverlabel\":{\"align\":\"left\"},\"hovermode\":\"closest\",\"mapbox\":{\"style\":\"light\"},\"paper_bgcolor\":\"white\",\"plot_bgcolor\":\"white\",\"polar\":{\"angularaxis\":{\"gridcolor\":\"#EBF0F8\",\"linecolor\":\"#EBF0F8\",\"ticks\":\"\"},\"bgcolor\":\"white\",\"radialaxis\":{\"gridcolor\":\"#EBF0F8\",\"linecolor\":\"#EBF0F8\",\"ticks\":\"\"}},\"scene\":{\"xaxis\":{\"backgroundcolor\":\"white\",\"gridcolor\":\"#DFE8F3\",\"gridwidth\":2,\"linecolor\":\"#EBF0F8\",\"showbackground\":true,\"ticks\":\"\",\"zerolinecolor\":\"#EBF0F8\"},\"yaxis\":{\"backgroundcolor\":\"white\",\"gridcolor\":\"#DFE8F3\",\"gridwidth\":2,\"linecolor\":\"#EBF0F8\",\"showbackground\":true,\"ticks\":\"\",\"zerolinecolor\":\"#EBF0F8\"},\"zaxis\":{\"backgroundcolor\":\"white\",\"gridcolor\":\"#DFE8F3\",\"gridwidth\":2,\"linecolor\":\"#EBF0F8\",\"showbackground\":true,\"ticks\":\"\",\"zerolinecolor\":\"#EBF0F8\"}},\"shapedefaults\":{\"line\":{\"color\":\"#2a3f5f\"}},\"ternary\":{\"aaxis\":{\"gridcolor\":\"#DFE8F3\",\"linecolor\":\"#A2B1C6\",\"ticks\":\"\"},\"baxis\":{\"gridcolor\":\"#DFE8F3\",\"linecolor\":\"#A2B1C6\",\"ticks\":\"\"},\"bgcolor\":\"white\",\"caxis\":{\"gridcolor\":\"#DFE8F3\",\"linecolor\":\"#A2B1C6\",\"ticks\":\"\"}},\"title\":{\"x\":0.05},\"xaxis\":{\"automargin\":true,\"gridcolor\":\"#EBF0F8\",\"linecolor\":\"#EBF0F8\",\"ticks\":\"\",\"title\":{\"standoff\":15},\"zerolinecolor\":\"#EBF0F8\",\"zerolinewidth\":2},\"yaxis\":{\"automargin\":true,\"gridcolor\":\"#EBF0F8\",\"linecolor\":\"#EBF0F8\",\"ticks\":\"\",\"title\":{\"standoff\":15},\"zerolinecolor\":\"#EBF0F8\",\"zerolinewidth\":2}}},\"xaxis\":{\"anchor\":\"y\",\"domain\":[0.0,0.175],\"showgrid\":true},\"yaxis\":{\"anchor\":\"x\",\"domain\":[0.7555555555555555,1.0],\"showgrid\":true},\"xaxis2\":{\"anchor\":\"y2\",\"domain\":[0.275,0.45],\"showgrid\":true},\"yaxis2\":{\"anchor\":\"x2\",\"domain\":[0.7555555555555555,1.0],\"showgrid\":true},\"xaxis3\":{\"anchor\":\"y3\",\"domain\":[0.55,0.7250000000000001],\"showgrid\":true},\"yaxis3\":{\"anchor\":\"x3\",\"domain\":[0.7555555555555555,1.0],\"showgrid\":true},\"xaxis4\":{\"anchor\":\"y4\",\"domain\":[0.825,1.0],\"showgrid\":true},\"yaxis4\":{\"anchor\":\"x4\",\"domain\":[0.7555555555555555,1.0],\"showgrid\":true},\"xaxis5\":{\"anchor\":\"y5\",\"domain\":[0.0,0.175],\"showgrid\":true},\"yaxis5\":{\"anchor\":\"x5\",\"domain\":[0.37777777777777777,0.6222222222222222],\"showgrid\":true},\"xaxis6\":{\"anchor\":\"y6\",\"domain\":[0.275,0.45],\"showgrid\":true},\"yaxis6\":{\"anchor\":\"x6\",\"domain\":[0.37777777777777777,0.6222222222222222],\"showgrid\":true},\"xaxis7\":{\"anchor\":\"y7\",\"domain\":[0.55,0.7250000000000001],\"showgrid\":true},\"yaxis7\":{\"anchor\":\"x7\",\"domain\":[0.37777777777777777,0.6222222222222222],\"showgrid\":true},\"xaxis8\":{\"anchor\":\"y8\",\"domain\":[0.825,1.0],\"showgrid\":true},\"yaxis8\":{\"anchor\":\"x8\",\"domain\":[0.37777777777777777,0.6222222222222222],\"showgrid\":true},\"xaxis9\":{\"anchor\":\"y9\",\"domain\":[0.0,0.175],\"showgrid\":true},\"yaxis9\":{\"anchor\":\"x9\",\"domain\":[0.0,0.24444444444444446],\"showgrid\":true},\"xaxis10\":{\"anchor\":\"y10\",\"domain\":[0.275,0.45],\"showgrid\":true},\"yaxis10\":{\"anchor\":\"x10\",\"domain\":[0.0,0.24444444444444446],\"showgrid\":true},\"xaxis11\":{\"anchor\":\"y11\",\"domain\":[0.55,0.7250000000000001],\"showgrid\":true},\"yaxis11\":{\"anchor\":\"x11\",\"domain\":[0.0,0.24444444444444446],\"showgrid\":true},\"xaxis12\":{\"anchor\":\"y12\",\"domain\":[0.825,1.0],\"showgrid\":true},\"yaxis12\":{\"anchor\":\"x12\",\"domain\":[0.0,0.24444444444444446],\"showgrid\":true},\"annotations\":[{\"font\":{\"size\":16},\"showarrow\":false,\"text\":\"Topic 0\",\"x\":0.0875,\"xanchor\":\"center\",\"xref\":\"paper\",\"y\":1.0,\"yanchor\":\"bottom\",\"yref\":\"paper\"},{\"font\":{\"size\":16},\"showarrow\":false,\"text\":\"Topic 1\",\"x\":0.36250000000000004,\"xanchor\":\"center\",\"xref\":\"paper\",\"y\":1.0,\"yanchor\":\"bottom\",\"yref\":\"paper\"},{\"font\":{\"size\":16},\"showarrow\":false,\"text\":\"Topic 2\",\"x\":0.6375000000000001,\"xanchor\":\"center\",\"xref\":\"paper\",\"y\":1.0,\"yanchor\":\"bottom\",\"yref\":\"paper\"},{\"font\":{\"size\":16},\"showarrow\":false,\"text\":\"Topic 3\",\"x\":0.9125,\"xanchor\":\"center\",\"xref\":\"paper\",\"y\":1.0,\"yanchor\":\"bottom\",\"yref\":\"paper\"},{\"font\":{\"size\":16},\"showarrow\":false,\"text\":\"Topic 4\",\"x\":0.0875,\"xanchor\":\"center\",\"xref\":\"paper\",\"y\":0.6222222222222222,\"yanchor\":\"bottom\",\"yref\":\"paper\"},{\"font\":{\"size\":16},\"showarrow\":false,\"text\":\"Topic 5\",\"x\":0.36250000000000004,\"xanchor\":\"center\",\"xref\":\"paper\",\"y\":0.6222222222222222,\"yanchor\":\"bottom\",\"yref\":\"paper\"},{\"font\":{\"size\":16},\"showarrow\":false,\"text\":\"Topic 6\",\"x\":0.6375000000000001,\"xanchor\":\"center\",\"xref\":\"paper\",\"y\":0.6222222222222222,\"yanchor\":\"bottom\",\"yref\":\"paper\"},{\"font\":{\"size\":16},\"showarrow\":false,\"text\":\"Topic 7\",\"x\":0.9125,\"xanchor\":\"center\",\"xref\":\"paper\",\"y\":0.6222222222222222,\"yanchor\":\"bottom\",\"yref\":\"paper\"},{\"font\":{\"size\":16},\"showarrow\":false,\"text\":\"Topic 8\",\"x\":0.0875,\"xanchor\":\"center\",\"xref\":\"paper\",\"y\":0.24444444444444446,\"yanchor\":\"bottom\",\"yref\":\"paper\"},{\"font\":{\"size\":16},\"showarrow\":false,\"text\":\"Topic 9\",\"x\":0.36250000000000004,\"xanchor\":\"center\",\"xref\":\"paper\",\"y\":0.24444444444444446,\"yanchor\":\"bottom\",\"yref\":\"paper\"},{\"font\":{\"size\":16},\"showarrow\":false,\"text\":\"Topic 10\",\"x\":0.6375000000000001,\"xanchor\":\"center\",\"xref\":\"paper\",\"y\":0.24444444444444446,\"yanchor\":\"bottom\",\"yref\":\"paper\"},{\"font\":{\"size\":16},\"showarrow\":false,\"text\":\"Topic 11\",\"x\":0.9125,\"xanchor\":\"center\",\"xref\":\"paper\",\"y\":0.24444444444444446,\"yanchor\":\"bottom\",\"yref\":\"paper\"}],\"title\":{\"font\":{\"size\":22,\"color\":\"Black\"},\"text\":\"<b>Topic Word Scores\",\"x\":0.5,\"xanchor\":\"center\",\"yanchor\":\"top\"},\"hoverlabel\":{\"font\":{\"size\":16,\"family\":\"Rockwell\"},\"bgcolor\":\"white\"},\"showlegend\":false,\"width\":1200,\"height\":900},                        {\"responsive\": true}                    ).then(function(){\n",
              "                            \n",
              "var gd = document.getElementById('7ccc65b1-5507-4936-a4fc-15ad1d1c357d');\n",
              "var x = new MutationObserver(function (mutations, observer) {{\n",
              "        var display = window.getComputedStyle(gd).display;\n",
              "        if (!display || display === 'none') {{\n",
              "            console.log([gd, 'removed!']);\n",
              "            Plotly.purge(gd);\n",
              "            observer.disconnect();\n",
              "        }}\n",
              "}});\n",
              "\n",
              "// Listen for the removal of the full notebook cells\n",
              "var notebookContainer = gd.closest('#notebook-container');\n",
              "if (notebookContainer) {{\n",
              "    x.observe(notebookContainer, {childList: true});\n",
              "}}\n",
              "\n",
              "// Listen for the clearing of the current output cell\n",
              "var outputEl = gd.closest('.output');\n",
              "if (outputEl) {{\n",
              "    x.observe(outputEl, {childList: true});\n",
              "}}\n",
              "\n",
              "                        })                };                            </script>        </div>\n",
              "</body>\n",
              "</html>"
            ]
          },
          "metadata": {}
        }
      ]
    },
    {
      "cell_type": "markdown",
      "source": [
        "#### **Save Top Word Scores Bar Chart**"
      ],
      "metadata": {
        "id": "MZWFicVqpWUA"
      }
    },
    {
      "cell_type": "code",
      "source": [
        "# Set the path to save \n",
        "path = WORK_DIR + f'results/{DATA_FRAME_FEATURE_NAME}/top_words_scores/'\n",
        "\n",
        "# Use makedirs() to create a new directory if it does not exists\n",
        "if not os.path.exists(path):\n",
        "  os.makedirs(path)\n",
        "\n",
        "\n",
        "fig.write_image(path + \"tws_preprocessed_lemma.png\", format=\"png\")"
      ],
      "metadata": {
        "id": "Qrz2ywMapdO5"
      },
      "execution_count": 52,
      "outputs": []
    },
    {
      "cell_type": "markdown",
      "source": [
        "[Github link](https://github.com/punkmic/Topic-Modeling-Reclame-Aqui/blob/master/results/top_words_scores/tws_preprocessed_lemma.png?raw=true)"
      ],
      "metadata": {
        "id": "HtFLmwl4pTAv"
      }
    },
    {
      "cell_type": "markdown",
      "source": [
        "### **Visualize Topic Similarity**\n",
        "\n",
        "This plot shows a similarity matrix by simply applying cosine similarities through those topic embeddings generate by BERTopic through both c-TF-IDF and embeddings. This matrix indicate how similar certain topics are to each other."
      ],
      "metadata": {
        "id": "qMjOvmYVVUDX"
      }
    },
    {
      "cell_type": "code",
      "source": [
        "fig = topic_model.visualize_heatmap(n_clusters=20, width=800, height=800)\n",
        "fig"
      ],
      "metadata": {
        "id": "_GL5qZ0nV3M2",
        "outputId": "7607769b-d721-432e-d5b1-d8c809f6b9c2",
        "colab": {
          "base_uri": "https://localhost:8080/",
          "height": 817
        }
      },
      "execution_count": 53,
      "outputs": [
        {
          "output_type": "display_data",
          "data": {
            "text/html": [
              "<html>\n",
              "<head><meta charset=\"utf-8\" /></head>\n",
              "<body>\n",
              "    <div>            <script src=\"https://cdnjs.cloudflare.com/ajax/libs/mathjax/2.7.5/MathJax.js?config=TeX-AMS-MML_SVG\"></script><script type=\"text/javascript\">if (window.MathJax) {MathJax.Hub.Config({SVG: {font: \"STIX-Web\"}});}</script>                <script type=\"text/javascript\">window.PlotlyConfig = {MathJaxConfig: 'local'};</script>\n",
              "        <script src=\"https://cdn.plot.ly/plotly-2.8.3.min.js\"></script>                <div id=\"bf89aae3-b650-43b6-b363-faf8a9009256\" class=\"plotly-graph-div\" style=\"height:800px; width:800px;\"></div>            <script type=\"text/javascript\">                                    window.PLOTLYENV=window.PLOTLYENV || {};                                    if (document.getElementById(\"bf89aae3-b650-43b6-b363-faf8a9009256\")) {                    Plotly.newPlot(                        \"bf89aae3-b650-43b6-b363-faf8a9009256\",                        [{\"coloraxis\":\"coloraxis\",\"name\":\"0\",\"x\":[\"0_cart\\u00e3o_cr\\u00e9dito_cobrar\",\"42_cashback_valor_extrato\",\"1_celular_aparelho_smartphone\",\"10_iphone_aparelho_celular\",\"39_bluetooth_fone_controle\",\"2_cancelamento_cancelar_pedir\",\"6_novembro_dezembro_outubro\",\"19_livro_compr_dois\",\"44_ningu\\u00e9m_nada_recebi\",\"61_esposo_marido_evid\\u00eancia\",\"3_whatsapp_contato_entregar\",\"71_https_livelo_wwwamerican...\",\"4_brasil_brasileiro_chegar\",\"37_china_nacional_correios\",\"5_endere\\u00e7o_pedir_entregar\",\"9_loja_magalu_poder\",\"12_prazo_atraso_entregar\",\"16_jogo_lan\\u00e7amento_ragnarok\",\"17_reclama\\u00e7\\u00e3o_comprador_pro...\",\"23_trip\\u00e9_pedir_recebi\",\"24_gr\\u00e1tis_site_valor\",\"26_curitiba_tr\\u00e2nsito_parado\",\"29_juliana_fraga_produto_ma...\",\"34_identidade_pessoa_nunca\",\"36_produto_compr_constar\",\"41_entregar_esperar_ligar\",\"43_arma_produto_entregar\",\"45_falar_novembro_esperar\",\"59_chat_servi\\u00e7o_ninguem\",\"69_pr\\u00e9dio_toke_imail\",\"72_amobeleza_compra_site\",\"73_encomenda_loiro_celulara...\",\"75_site_constar_inte\",\"76_lembran\\u00e7a_frezer_atrase\",\"7_conta_email_senha\",\"13_black_friday_promo\\u00e7\\u00e3o\",\"14_previs\\u00e3o_entregar_prazo\",\"20_rastreio_c\\u00f3digo_rastream...\",\"28_prime_v\\u00eddeo_assinatura\",\"38_internacional_nacional_p...\",\"40_devolu\\u00e7\\u00e3o_postagem_correio\",\"53_aplicativo_compra_entregar\",\"60_comiss\\u00e3o_tarefa_miss\\u00e3o\",\"63_cadastral_plano_derrepente\",\"67_jogo_panelo_fifa\",\"70_rastrear_transportadora_...\",\"74_ganhar_site_dinheiro\",\"8_roupa_vestir_cal\\u00e7a\",\"32_foto_c\\u00e2merar_placa\",\"47_facial_reconhecimento_ro...\",\"55_cama_colch\\u00e3o_comprei\",\"68_l\\u00e2mpada_lampada_an\\u00fancio\",\"11_dinheiro_reembolso_voltar\",\"22_amazoncombr_cobran\\u00e7a_dig...\",\"25_aplicativo_reembolso_com...\",\"30_pagamento_paguei_comprov...\",\"48_desconto_valor_helena\",\"51_amazoncombr_nota_fiscal\",\"15_geladeira_refrigerador_g...\",\"18_t\\u00eanis_mizuno_tenis\",\"52_pneu_pastilha_pirelli\",\"57_cadeira_pe\\u00e7a_gamer\",\"21_rob\\u00f4_aspirador_macac\\u00e3o\",\"27_m\\u00e1quina_lavar_roupa\",\"31_vir_garrafa_caixa\",\"58_liquidificador_oster_tampa\",\"33_notebook_dell_intel\",\"35_televis\\u00e3o_monitor_televi...\",\"50_sof\\u00e1_mobly_magalu\",\"46_bicicleta_capacete_bike\",\"49_m\\u00fasica_music_ouvir\",\"54_echo_microfone_studio\",\"56_mouse_teclado_combo\",\"62_microondas_promessa_dia\",\"65_forno_el\\u00e9trico_fogao\",\"64_shampoo_cabelo_natural\",\"66_perfume_refresh_embalagem\"],\"y\":[\"0_cart\\u00e3o_cr\\u00e9dito_cobrar\",\"42_cashback_valor_extrato\",\"1_celular_aparelho_smartphone\",\"10_iphone_aparelho_celular\",\"39_bluetooth_fone_controle\",\"2_cancelamento_cancelar_pedir\",\"6_novembro_dezembro_outubro\",\"19_livro_compr_dois\",\"44_ningu\\u00e9m_nada_recebi\",\"61_esposo_marido_evid\\u00eancia\",\"3_whatsapp_contato_entregar\",\"71_https_livelo_wwwamerican...\",\"4_brasil_brasileiro_chegar\",\"37_china_nacional_correios\",\"5_endere\\u00e7o_pedir_entregar\",\"9_loja_magalu_poder\",\"12_prazo_atraso_entregar\",\"16_jogo_lan\\u00e7amento_ragnarok\",\"17_reclama\\u00e7\\u00e3o_comprador_pro...\",\"23_trip\\u00e9_pedir_recebi\",\"24_gr\\u00e1tis_site_valor\",\"26_curitiba_tr\\u00e2nsito_parado\",\"29_juliana_fraga_produto_ma...\",\"34_identidade_pessoa_nunca\",\"36_produto_compr_constar\",\"41_entregar_esperar_ligar\",\"43_arma_produto_entregar\",\"45_falar_novembro_esperar\",\"59_chat_servi\\u00e7o_ninguem\",\"69_pr\\u00e9dio_toke_imail\",\"72_amobeleza_compra_site\",\"73_encomenda_loiro_celulara...\",\"75_site_constar_inte\",\"76_lembran\\u00e7a_frezer_atrase\",\"7_conta_email_senha\",\"13_black_friday_promo\\u00e7\\u00e3o\",\"14_previs\\u00e3o_entregar_prazo\",\"20_rastreio_c\\u00f3digo_rastream...\",\"28_prime_v\\u00eddeo_assinatura\",\"38_internacional_nacional_p...\",\"40_devolu\\u00e7\\u00e3o_postagem_correio\",\"53_aplicativo_compra_entregar\",\"60_comiss\\u00e3o_tarefa_miss\\u00e3o\",\"63_cadastral_plano_derrepente\",\"67_jogo_panelo_fifa\",\"70_rastrear_transportadora_...\",\"74_ganhar_site_dinheiro\",\"8_roupa_vestir_cal\\u00e7a\",\"32_foto_c\\u00e2merar_placa\",\"47_facial_reconhecimento_ro...\",\"55_cama_colch\\u00e3o_comprei\",\"68_l\\u00e2mpada_lampada_an\\u00fancio\",\"11_dinheiro_reembolso_voltar\",\"22_amazoncombr_cobran\\u00e7a_dig...\",\"25_aplicativo_reembolso_com...\",\"30_pagamento_paguei_comprov...\",\"48_desconto_valor_helena\",\"51_amazoncombr_nota_fiscal\",\"15_geladeira_refrigerador_g...\",\"18_t\\u00eanis_mizuno_tenis\",\"52_pneu_pastilha_pirelli\",\"57_cadeira_pe\\u00e7a_gamer\",\"21_rob\\u00f4_aspirador_macac\\u00e3o\",\"27_m\\u00e1quina_lavar_roupa\",\"31_vir_garrafa_caixa\",\"58_liquidificador_oster_tampa\",\"33_notebook_dell_intel\",\"35_televis\\u00e3o_monitor_televi...\",\"50_sof\\u00e1_mobly_magalu\",\"46_bicicleta_capacete_bike\",\"49_m\\u00fasica_music_ouvir\",\"54_echo_microfone_studio\",\"56_mouse_teclado_combo\",\"62_microondas_promessa_dia\",\"65_forno_el\\u00e9trico_fogao\",\"64_shampoo_cabelo_natural\",\"66_perfume_refresh_embalagem\"],\"z\":[[0.9999999999999991,0.7379365236203622,0.5809090504309298,0.5984601568148135,0.5373340933922935,0.6792929249113365,0.6540266845297092,0.6499278579355067,0.6095984140597892,0.5908445217625029,0.5341212751911647,0.6239082045848429,0.5566559110870851,0.5864654273013704,0.7143789072082373,0.7440333009288759,0.7131303649203462,0.710372666648646,0.7787908606895678,0.6873761737497581,0.7333083803356816,0.6373835332901641,0.7160856676490811,0.713295796669539,0.6961842570078669,0.7077946082245414,0.7390524526232362,0.6793112184675615,0.6525984147590133,0.7022356081984953,0.6856933633222613,0.7140958410326704,0.6661134503607211,0.688494948802193,0.6682681858383229,0.7616140929230207,0.6855504759475777,0.6550213926566406,0.7048534300996376,0.7004329120087252,0.768048050161749,0.6801172679331091,0.683130394086347,0.6473531286466699,0.6879674893472401,0.608820424901294,0.7507399137603012,0.6068678017932831,0.5973250736262691,0.5618800015160632,0.5662843440020078,0.5571222640325356,0.8316902634294814,0.8417102585858539,0.8224403777851297,0.8790725830076476,0.8309633332332504,0.7290370609504401,0.4664304754487828,0.5094115523113973,0.5068104913222412,0.5368326926224481,0.42799743361783554,0.48153441133542535,0.6498961659515845,0.6655309472279202,0.6003549906787645,0.4421708307768505,0.43552352989129567,0.4067125803646675,0.5374669128845313,0.5456043583376582,0.3758355055876244,0.473310295087894,0.46431715210515895,0.39151229745027166,0.494546040554357],[0.7379365236203622,1.000000000000001,0.4860166656841741,0.4690726982253057,0.47979637980286377,0.6786355945330602,0.6146364113460936,0.5860447853218075,0.5901784331543162,0.5677020607092588,0.5512551826788592,0.5810152405823104,0.4417061736258736,0.45959868672131926,0.659540311119737,0.6646744445473725,0.6778798369764352,0.6406221648613921,0.6811435403079042,0.6690294259555081,0.6648571574054636,0.6421234805873937,0.6438636790307323,0.6353781634013762,0.615474774903771,0.6605064189065519,0.6505543218524373,0.652220098030126,0.6232689823333208,0.636060422799018,0.6316319416702723,0.6566374185747023,0.6303268784261911,0.6382912940858684,0.6370995543901273,0.6660867887192052,0.6509581873318354,0.5922286024288764,0.6318494446028086,0.60898726825003,0.7214024042986119,0.6200009346243766,0.6204461837258953,0.6288545471512929,0.592747461589996,0.5622954762473058,0.7169553678004936,0.5286205422778633,0.5421235874890665,0.5291557890924732,0.5713466229911234,0.4299637684745444,0.8523737600281206,0.705977309670485,0.7553812841683168,0.8050043071338837,0.7735407030131126,0.659786647963316,0.4600364102673149,0.41862164325931167,0.4547676440003264,0.5002874029350364,0.44013515260338215,0.4403015564086494,0.6030724365257503,0.6400323709833883,0.5883009972313209,0.4188809481235305,0.4572255630920872,0.3809910061793947,0.5117616880370972,0.5532071039788108,0.40288271321792324,0.4928711205265488,0.4437924172008417,0.39493137578165965,0.4698392072981765],[0.5809090504309298,0.4860166656841741,0.9999999999999994,0.8179094409453346,0.765230200948365,0.5839829676892062,0.5757400136863505,0.5955170972219826,0.6101503905943545,0.5673747488588745,0.6682239829080088,0.5442906736686669,0.48818807299432526,0.5028882741412563,0.6939722294692248,0.7286423678345171,0.6721389018534267,0.6805900525733622,0.6688440567137448,0.6252414050795616,0.6684836288349205,0.6253324130462108,0.6793155042049931,0.7023317022853722,0.6201588222780609,0.6476370287950767,0.702048820618242,0.6502042957234618,0.7254415161856245,0.6999015488338508,0.6733338221124278,0.7117833110985889,0.6620376269703263,0.6445499967596334,0.6706766156308773,0.6447405738484057,0.6238298592820999,0.612916563132877,0.6074663423324171,0.651796341558979,0.5842448889685781,0.7418854266053212,0.633903854078454,0.6951594863830662,0.6417886927246633,0.6000430813809496,0.60347790131871,0.6067062247610057,0.6294189315216286,0.5969776486389031,0.5771203487129828,0.5582497373200535,0.5965391531100857,0.6192018466903751,0.6955677621572711,0.5542136817396199,0.6180828937063917,0.5864353524854846,0.4244817906052394,0.515221813873486,0.5206104602799589,0.5109764202934605,0.5610008201549352,0.5483326632079055,0.5870140138233033,0.5593863959619599,0.6195947128302284,0.5745047113382021,0.4372899261702651,0.4914316363826619,0.5674860206296877,0.5530377978992729,0.4828768542541292,0.5158780323010028,0.4750492999651634,0.47137948012681835,0.48450568558408635],[0.5984601568148135,0.4690726982253057,0.8179094409453346,1.0,0.7093551304650269,0.5885109777682139,0.5398810314799419,0.5792856014912992,0.570992924330819,0.5287327565789893,0.5948659792896659,0.5307205584806584,0.4693690111846222,0.4784353354669726,0.6387860516192805,0.6927131488852352,0.6335680905691431,0.6502150503479888,0.6559324619732704,0.6100453666908768,0.6556561624239778,0.5927674463023963,0.6358003392988478,0.6680598163839925,0.6138077389354234,0.6140077053021448,0.6824615787275852,0.6045887533474448,0.6520305253086225,0.6487533890376717,0.66226721166172,0.6606068893287087,0.6380154138307259,0.6068950610100796,0.6369842397363794,0.6263011073892643,0.598410716334452,0.5793153466402595,0.6100661272322394,0.6447408648162397,0.5734155326038431,0.7703917257250421,0.6187536264346786,0.646192289416115,0.6354819682779467,0.5740220065353996,0.6349633015488033,0.5723099948630692,0.6073312643014588,0.5596724407931329,0.5290901297801256,0.5103682633613305,0.5920927140868595,0.6616088782390005,0.7308680561298612,0.5635753823174788,0.6304379494267175,0.6612282832017071,0.42568362744444044,0.4969252747974018,0.4644250436179338,0.48969573323173843,0.5056445630051369,0.5285996574535121,0.5682541091901223,0.5420525195666462,0.598931337500441,0.505596949968489,0.4322085179898761,0.40251320392711026,0.5278864855972538,0.48772027638500104,0.5077850763263626,0.4214491964908025,0.5083937182662496,0.4315648017188426,0.46151751164566207],[0.5373340933922935,0.47979637980286377,0.765230200948365,0.7093551304650269,1.0000000000000004,0.5579882641470854,0.5219500658414344,0.591292654418368,0.6021272718762339,0.5530405029011076,0.6682100025802212,0.6108212702132322,0.4672773255202156,0.463742645980341,0.6679360514468632,0.6956154391572086,0.6286293606094605,0.6559289075383016,0.6374340442349609,0.617080661025966,0.6680050206220064,0.6209693795544564,0.6770408361383815,0.6852333612077548,0.6287226717402193,0.6377734789356195,0.6989173937168852,0.6097026770270378,0.7167311507859178,0.6623858844355939,0.6746729187700347,0.7133405396450488,0.6608995612979451,0.6105994387176633,0.6549250300093913,0.6181612494647968,0.6106364283372426,0.6719356925451975,0.6389355486182537,0.6477353154155453,0.589945603937084,0.7109166925899756,0.6236096886724949,0.6411730412866338,0.6420179752511491,0.6799876484743418,0.6139226845262947,0.5733828904126899,0.6490058652415344,0.6082909060102865,0.5128491354837048,0.574375583247934,0.5557835240677422,0.632480963521855,0.6510874513559864,0.5389153331718117,0.5903577870300274,0.6198247434108792,0.4108432530597794,0.5172331234638818,0.4990253048441156,0.45690575777897746,0.5467270490989783,0.5651098491668419,0.5899161501811083,0.5921583717536562,0.5800476739615595,0.5407606262631552,0.419038398582933,0.4460441089786567,0.583286816763407,0.58779549850914,0.4802072347538194,0.4354326820809763,0.44827685063829814,0.496389387411045,0.5364058849460848],[0.6792929249113365,0.6786355945330602,0.5839829676892062,0.5885109777682139,0.5579882641470854,1.0000000000000004,0.7332611914089049,0.7397813913160699,0.8033080212228634,0.7085537873526786,0.6694224742583457,0.6133992035778283,0.6134836039075905,0.5808049024896179,0.8156012231479678,0.8086749741974677,0.8357427107064538,0.8104420682520053,0.8141844325895565,0.853968084288223,0.7782921252585607,0.8482004507000751,0.7810611714868445,0.7832366591309112,0.759525237145779,0.8564538804070969,0.7955401767023914,0.8188140954535892,0.8085357341717054,0.7949667437196194,0.7827258074342718,0.8120887674496325,0.779115743285744,0.8435557345690052,0.7466434178406275,0.8020656062894574,0.7485381437717555,0.7151270960357361,0.7309470464657674,0.7566812836939606,0.8115082816633498,0.7398973967751523,0.7886555842303277,0.9151269722070635,0.7723878085780578,0.7423378514262636,0.769546595418828,0.6726406041908495,0.6445955270314981,0.616849301583787,0.7045531095157357,0.5978532344370292,0.7861457602063296,0.7098283878334131,0.7504871794912923,0.7658003666269821,0.7857336134401836,0.7355771986830233,0.5593178356009415,0.559643510923319,0.5827171004809165,0.6157846313551806,0.6124610388147691,0.6239437340039037,0.720582939745492,0.7279130905974698,0.6075214426686076,0.5770120125990323,0.542415512096038,0.4572887780824117,0.6695665749927201,0.7361950542300035,0.4554768597458564,0.5937632923836691,0.6405219781382842,0.49518856887584684,0.5755149062258428],[0.6540266845297092,0.6146364113460936,0.5757400136863505,0.5398810314799419,0.5219500658414344,0.7332611914089049,0.9999999999999997,0.7683263724334782,0.7663658729844088,0.7433403373024052,0.6377172675059469,0.6906402743785206,0.6265453164283685,0.6335120897563465,0.7942241575178771,0.8149458120586262,0.8563381910538601,0.8224053495285271,0.7697525286445462,0.8151717433953,0.8151330613195196,0.8265463326453104,0.806974171878086,0.7697014501893646,0.7601144625438001,0.8073537195808843,0.7995010680139563,0.8909047714181889,0.7560065560605261,0.788815384181591,0.8007233957175975,0.8083184813990054,0.8358952628310417,0.812990566745044,0.7344360698898619,0.8092887513859359,0.8807797728963088,0.7451236341219869,0.7523761078015458,0.8084312116594026,0.8059157019838638,0.7277066223299988,0.7919899654221514,0.7717306252087645,0.7505311919839582,0.7118267557021568,0.7859827621938308,0.6773885687485782,0.6844294675673338,0.6475356144897505,0.6638150981365839,0.6514144654218764,0.7438652783157862,0.7142020362340619,0.6885661140501872,0.7197353111315219,0.7520235432086727,0.746436093064397,0.5046748116544643,0.549303429516424,0.5829785512776875,0.5725348848476939,0.5521236083724389,0.5578917255042111,0.6609739728204067,0.6660118670101365,0.5600149861812486,0.5959341704396517,0.5143838862236267,0.47004838229371776,0.7034229595762249,0.7170866169795511,0.42490037968755295,0.6168996439661216,0.5882614020595511,0.5062067595265842,0.5634191373996091],[0.6499278579355067,0.5860447853218075,0.5955170972219826,0.5792856014912992,0.591292654418368,0.7397813913160699,0.7683263724334782,1.0000000000000007,0.7766423199835873,0.8148495708122446,0.645053065831029,0.6994986029716521,0.6128252834657668,0.5730353845441033,0.8307070242435955,0.8545542141157808,0.8244252951989122,0.8415320586938071,0.8009510777237054,0.8532819619540168,0.8206547947237969,0.8008121465693073,0.8448145780933466,0.8377861553459546,0.812819722440564,0.8262716626434123,0.8360293990185191,0.8567725096030521,0.7895600623059631,0.8295835631868708,0.8380748338815454,0.8816723366092362,0.8611883322994361,0.8341149217495066,0.759825673629091,0.776297255674825,0.7624565279707252,0.7751598367424861,0.7906368033492752,0.7834935432120866,0.8093083561088236,0.7495908452298627,0.800521946008451,0.7874320544448762,0.811630659301472,0.7712863593825586,0.8153616575237046,0.7278918067381707,0.7371995203224521,0.6495696130427469,0.7299610115650118,0.676890946950066,0.7498327187630333,0.7233541936679844,0.6886318794456378,0.6906638332193747,0.7679974662247727,0.7763114693723362,0.5311456877024971,0.6232985229378091,0.5887742671138588,0.6123787030891505,0.6215492370019186,0.5893274050808697,0.7112688903315993,0.7053992852145152,0.6526071413904178,0.5572938582518302,0.5714810950032244,0.4673041978732656,0.7613752758747188,0.7370247690824082,0.4902334052163625,0.5709728098363197,0.6132067080265613,0.6092568684110736,0.6289240064054287],[0.6095984140597892,0.5901784331543162,0.6101503905943545,0.570992924330819,0.6021272718762339,0.8033080212228634,0.7663658729844088,0.7766423199835873,1.0000000000000007,0.7846273162633439,0.7717952952247528,0.6744577939441357,0.622035282752729,0.6218692738426121,0.8745719829217458,0.8579560336489664,0.867355686918912,0.8534122400585719,0.7715266391227421,0.896768429998836,0.8165806869136869,0.9031420547475841,0.8037324450261681,0.8612040494586783,0.7495552369553388,0.894721509479134,0.8354094208433261,0.9005580753187575,0.8983060639827922,0.8126500474313756,0.8257680428315267,0.8373143254916028,0.8602212852160619,0.83498562489838,0.7956617834258773,0.7622997869838768,0.7652772420996502,0.7555430686525789,0.7687192595985181,0.8062948931067456,0.7873208743933008,0.7398617709166602,0.7941014843837818,0.7956308981114585,0.8049262796485032,0.7312347451343998,0.7738720809267143,0.7269174535343412,0.6803867479009871,0.6871234047778698,0.7288137483030344,0.6437482613494366,0.7787761184873107,0.656593768408581,0.7058106786670564,0.7164943644884961,0.7441892502017579,0.6946886534368062,0.5092563206470383,0.5705294091758398,0.6284107244122031,0.588016188026345,0.6629664799791954,0.599782181285965,0.7314456146292698,0.6702170918687239,0.5376432288629263,0.5845561471578291,0.5074194658419748,0.4890801168041206,0.7619438861855291,0.8044136061056844,0.4889066600294244,0.5800838795820589,0.6097541111549679,0.5526691883233653,0.6010113976339366],[0.5908445217625029,0.5677020607092588,0.5673747488588745,0.5287327565789893,0.5530405029011076,0.7085537873526786,0.7433403373024052,0.8148495708122446,0.7846273162633439,1.0000000000000002,0.6221504837680969,0.6818028502802365,0.5857640316430537,0.6077109388427242,0.814135013934588,0.8360970296994101,0.8182884922936653,0.8199417281507363,0.7786168085948909,0.8524841100854998,0.7830952107318226,0.8294420699053613,0.8152965850493862,0.8039221114300603,0.7782836413784663,0.8254456017458273,0.8013538227952157,0.8581390186594,0.7972126502006813,0.8109364378455303,0.8258723435211246,0.8596301373481864,0.8516181219880198,0.8088027342844935,0.7255872221217803,0.7435104801254359,0.7498341221259405,0.7165300816494221,0.7667852517409838,0.7830032408418454,0.7541643149638075,0.6931881044741827,0.7683909456151029,0.7504670367255297,0.7858530861155548,0.7457610755759707,0.7657284790621215,0.7419962181975911,0.736140755090136,0.684345673813033,0.7230680878788643,0.6597058051245108,0.7330055634728485,0.625769214079616,0.6280389653124997,0.6704501217442803,0.7136248944590695,0.6779741679978828,0.48299696675765713,0.6153129712438024,0.630550537445892,0.6036813628097157,0.6289598697102285,0.6046065991051314,0.685225069120204,0.6764394200724527,0.5366571970466707,0.5938169873996675,0.5881488370592701,0.5301465246650461,0.7487251425876338,0.7440981717564266,0.46097404582836676,0.56086884521748,0.5924502870703637,0.6180338206339528,0.6009396892011618],[0.5341212751911647,0.5512551826788592,0.6682239829080088,0.5948659792896659,0.6682100025802212,0.6694224742583457,0.6377172675059469,0.645053065831029,0.7717952952247528,0.6221504837680969,1.0000000000000007,0.6438648850254629,0.5451075448271785,0.5013390191152854,0.7888491941418964,0.7852044584445795,0.7495908043071358,0.742547666816583,0.727127077821577,0.732583318846013,0.7500530836811323,0.7465411817061121,0.7588615540743039,0.7611134943613856,0.7058677067848259,0.7639752884069885,0.7645460932844742,0.7601512893002179,0.8094938131368791,0.7301346835252155,0.7412866659296634,0.7680675563157899,0.7534930372225963,0.7062146134050316,0.7550822693285949,0.6519952010750736,0.6981914765137169,0.6777851938084503,0.6826664005226082,0.7068021844859734,0.6922283732710615,0.7524797416049426,0.7263349069600589,0.6925609406968971,0.7118522445231842,0.6644874921726278,0.6987338882058792,0.6313671901726357,0.6065037406006542,0.6292755750100825,0.5897205398893657,0.5320272495306112,0.6615340913869394,0.6284891593119467,0.7050321756637208,0.6309474814207399,0.6556872074274478,0.6708646896188474,0.4378802284570718,0.5169918308628758,0.5183803864424822,0.5345537882312319,0.6040290183949909,0.5759651076929024,0.6202969270358532,0.6175917239179541,0.5310778842190867,0.5546586836728753,0.4681330666020378,0.4145355937834153,0.6611521945179581,0.7454554585234566,0.4521398225893628,0.5130552546104734,0.5183548919802572,0.5402044847171903,0.5641969289741658],[0.6239082045848429,0.5810152405823104,0.5442906736686669,0.5307205584806584,0.6108212702132322,0.6133992035778283,0.6906402743785206,0.6994986029716521,0.6744577939441357,0.6818028502802365,0.6438648850254629,1.0000000000000002,0.5015164152357316,0.5674156347136441,0.776222035166297,0.7806228702992656,0.6946126317213033,0.7548404736266162,0.7230935881175774,0.6979492402342107,0.8126560399622866,0.7136076701457289,0.8181986604848935,0.7968713957927643,0.7330097590278897,0.71158740705936,0.7401678812322551,0.722146710737598,0.7413461970246515,0.7520770859825624,0.7751603276865089,0.7605469938711842,0.8079081411362553,0.7208967614215678,0.7988378183813147,0.6747295756522956,0.7151190605411731,0.7472181592737629,0.7393255249850632,0.7349755513233723,0.7063127159399666,0.7041076024547557,0.6854313780342335,0.6898481342716063,0.7244208663753897,0.7336080551953715,0.8194775189441276,0.6300768286485948,0.6955178985128642,0.6793137633383588,0.5880694905595873,0.6350786643133678,0.6449484981514256,0.7569487972058279,0.6695190393009411,0.6413149121234263,0.6502896666464405,0.7382156873637226,0.5063625497003994,0.5002619733103262,0.4958592412005337,0.5373701210691272,0.536737727224399,0.5012625644306812,0.5956942169268994,0.6249986680069406,0.577456319180456,0.5293750998592838,0.5848457892730696,0.4733170700037904,0.606415824114499,0.6555433961626165,0.45787489017504474,0.5863184431740606,0.5255625522224867,0.47784795513469386,0.57757893363911],[0.5566559110870851,0.4417061736258736,0.48818807299432526,0.4693690111846222,0.4672773255202156,0.6134836039075905,0.6265453164283685,0.6128252834657668,0.622035282752729,0.5857640316430537,0.5451075448271785,0.5015164152357316,0.9999999999999997,0.6791526402470566,0.6533936573360825,0.7110243476353406,0.6800992495933401,0.6702631453153426,0.6546837710822399,0.7019957191818355,0.6647785152785254,0.6784205004094231,0.7067755806165703,0.6404886349188349,0.6999629465717844,0.673292357368199,0.6616651008832285,0.6941613606398869,0.6426439531497201,0.6391870816112117,0.7054015292406072,0.6833651260136981,0.6781443368727605,0.6466272628542701,0.6011309461402582,0.6432444415883778,0.6230586470703028,0.5808127590033901,0.5870425494228729,0.6996711328082038,0.6330635343740824,0.5718055608423295,0.6463563701916725,0.614252670894764,0.7024624485638021,0.6038681763144567,0.6600818763200353,0.5791845709688079,0.5657641850938454,0.5825335372464387,0.5125045103195552,0.4989411579015958,0.6302907872483127,0.6243935678190814,0.5637082824909143,0.5793755704833774,0.6403945058313973,0.6739910215565352,0.4296610297441259,0.5270413341864618,0.4965441800240846,0.5080540417429067,0.524765302748579,0.5017952236038954,0.5532619367029196,0.5472481856888657,0.48091101829273303,0.4380920220563089,0.4439371821867167,0.2975473609947886,0.5657654230345893,0.602846567026484,0.4059508420296805,0.49242923370524355,0.4996212619449878,0.49174265921757154,0.5401560393624002],[0.5864654273013704,0.45959868672131926,0.5028882741412563,0.4784353354669726,0.463742645980341,0.5808049024896179,0.6335120897563465,0.5730353845441033,0.6218692738426121,0.6077109388427242,0.5013390191152854,0.5674156347136441,0.6791526402470566,1.0,0.6563592705174252,0.6919903003885544,0.661829726236289,0.670375710736743,0.6344232915578173,0.6657246117907881,0.6638687649297444,0.6881694237769045,0.6834038596291239,0.6346965691090088,0.6472743945359649,0.6719127980480202,0.6436139626774888,0.6880473801472369,0.6477085893877308,0.6622184512971413,0.6922858339130902,0.6631236523361671,0.6762672213190025,0.6650010230531893,0.5854402162596943,0.6415941464179945,0.6341331787723485,0.6022236049592837,0.6276378093751661,0.7725114012985751,0.6144522844349842,0.5747481042573268,0.6425173093649938,0.6263750361922124,0.6600366925941783,0.5966395383523507,0.6263517570807478,0.5950220485956557,0.5834395690933427,0.5549422362039171,0.5456748882697513,0.5312096914403384,0.6081064022927984,0.6005003698445623,0.5619933822695192,0.5788995255957882,0.6058763088739064,0.6334207313548419,0.4420319149657172,0.5253977505244415,0.4651687685240901,0.4520050500494219,0.47402400586280774,0.48080908259806815,0.5691367283762466,0.5529551139069926,0.5216634738975121,0.4530666172715683,0.4331542798988741,0.40932688123407185,0.5483835967987263,0.5677056267612148,0.4214700500085275,0.4661898771333974,0.4793469731256359,0.40902786579300304,0.4706018481425539],[0.7143789072082373,0.659540311119737,0.6939722294692248,0.6387860516192805,0.6679360514468632,0.8156012231479678,0.7942241575178771,0.8307070242435955,0.8745719829217458,0.814135013934588,0.7888491941418964,0.776222035166297,0.6533936573360825,0.6563592705174252,0.9999999999999998,0.9390875323346689,0.885008467995513,0.8769117204814779,0.8799825969527855,0.9103623441668935,0.8759996521676606,0.8894198564375104,0.9068599512116285,0.914339023528036,0.8341510982701691,0.9242793722879339,0.9050266690363817,0.9168488044940206,0.9074624778296078,0.9182918314042047,0.9042226566127409,0.921634684093934,0.9136756675803659,0.8879019836961362,0.8939971696211383,0.8265812688431615,0.8195789013800941,0.8224714226479759,0.8064599644615225,0.8672201717839696,0.8380640877772362,0.8119164871352262,0.8529806032730713,0.8459548487680457,0.8468230165751996,0.8309090715850881,0.8656326692554289,0.7694661997112269,0.7571444394664925,0.7346894786029057,0.7398615567886219,0.6792758227533113,0.8197903858095583,0.7752751445591108,0.788178179287342,0.7747353098800615,0.7894112091067953,0.8075091181369219,0.5639629495361405,0.6364638464682052,0.6715790467812606,0.6677956833914896,0.6852931345258695,0.6549167863538606,0.7396531426865518,0.7600611715286867,0.6342979324904245,0.5952620924578677,0.5719860342752967,0.5274332639217925,0.75472243864697,0.7969214490043183,0.5259776006539365,0.6145279448536484,0.6282006385064657,0.5886720279510643,0.6383520033120494],[0.7440333009288759,0.6646744445473725,0.7286423678345171,0.6927131488852352,0.6956154391572086,0.8086749741974677,0.8149458120586262,0.8545542141157808,0.8579560336489664,0.8360970296994101,0.7852044584445795,0.7806228702992656,0.7110243476353406,0.6919903003885544,0.9390875323346689,0.9999999999999997,0.9237267950422962,0.9305891984058564,0.9402610176255712,0.9179509916892106,0.9350979809679271,0.8947125022095448,0.9541516160414572,0.8926651596660732,0.9071451667751818,0.9205044051006336,0.9405822909052128,0.9281168281274093,0.9077452192135749,0.9105958432006913,0.9507391516911594,0.9349771704698551,0.943819795296028,0.892854657231032,0.8546228185025809,0.8920355154380462,0.8599495569062456,0.8366393171973592,0.8390926824129524,0.8951906498041896,0.8466322464682665,0.8572830041645085,0.8899190331125444,0.8502641549879371,0.8846328717106625,0.8431082947965786,0.9090435248403608,0.8381640061631892,0.809228490835357,0.7466609568278587,0.7655623107583821,0.7279436812653959,0.8532922703492838,0.7980325998043241,0.824051883868174,0.7908792307619207,0.8696923617469288,0.8424532423071048,0.6117808452195337,0.6644453515837078,0.6796750948834475,0.6806511754903283,0.7114397954501528,0.7120978029676756,0.7964863974918911,0.7885105979441045,0.6730512834394836,0.6428276161822606,0.5961973128427033,0.5400959357499308,0.7793223453443714,0.7923711057345908,0.5428262716282359,0.6522726624342322,0.6686475254647565,0.6569253993470434,0.7313566370992706],[0.7131303649203462,0.6778798369764352,0.6721389018534267,0.6335680905691431,0.6286293606094605,0.8357427107064538,0.8563381910538601,0.8244252951989122,0.867355686918912,0.8182884922936653,0.7495908043071358,0.6946126317213033,0.6800992495933401,0.661829726236289,0.885008467995513,0.9237267950422962,0.9999999999999997,0.9082327686746245,0.8764956875108585,0.9104724066529577,0.8624253022576701,0.9146987269902203,0.8850197510578736,0.8517723482101281,0.865769268867698,0.922864465841857,0.9295823707992563,0.9403719658941775,0.8772512710717326,0.8650384785011292,0.8885946783472412,0.9080952440366292,0.8778910931021427,0.9298682749367103,0.8042043162264696,0.8588580509526895,0.8875171211214624,0.8390803126517942,0.8155626808811102,0.8640188977483917,0.8509829854429484,0.8352390477293529,0.8843554532830054,0.8642884222314232,0.8452096721433826,0.8352151499327305,0.82280873925402,0.7935776720421721,0.7767112807275987,0.7135881902534144,0.7682773960997371,0.6892085355342589,0.8408706964926975,0.7470448083752039,0.7800998691245726,0.7882955792073694,0.8394229362136388,0.7864509571987798,0.5784597898951573,0.6330195248448187,0.6583555089039834,0.6521909222634423,0.6757537612469554,0.6808909773818485,0.7852301462225336,0.7678047534559946,0.6474268900514127,0.6173685051737858,0.5540239538228707,0.5228541968775172,0.755503269155319,0.7924479917084984,0.4979953371788369,0.635181531345523,0.6489851947236572,0.614598489640745,0.6631515721990396],[0.710372666648646,0.6406221648613921,0.6805900525733622,0.6502150503479888,0.6559289075383016,0.8104420682520053,0.8224053495285271,0.8415320586938071,0.8534122400585719,0.8199417281507363,0.742547666816583,0.7548404736266162,0.6702631453153426,0.670375710736743,0.8769117204814779,0.9305891984058564,0.9082327686746245,0.9999999999999992,0.8839870673971038,0.9160443880273192,0.8980513320377874,0.8873748426013368,0.9104711943684639,0.8596957066551671,0.8680033825291494,0.8953942540511951,0.9252775035864951,0.9067763214452201,0.8803645984147359,0.8759995028035537,0.90365924688379,0.9098679086907834,0.918211725022622,0.8937701216301309,0.8039829655353041,0.86103752534347,0.8561266771030304,0.8468459499201109,0.8482986105278285,0.8667105993831453,0.8382286905527031,0.8665554180960494,0.8697431790790241,0.8640441271788895,0.9415970160724804,0.8444069811264069,0.8532575054400292,0.7883000120843202,0.7865094760183576,0.7349120710074027,0.748114215164506,0.7178871018704742,0.8049979866705446,0.7448323619178074,0.7954964352250353,0.7546502847573153,0.8299911523381257,0.7835680328840384,0.5803126231932784,0.7213774304000288,0.6745690707922677,0.6749607614895884,0.7158148033315591,0.6614266080060781,0.7867790100634164,0.7706986911014625,0.6562562053224746,0.6982982401144862,0.6241546268893117,0.5424515535028597,0.7955651961529271,0.811514167804491,0.5599944934270005,0.6400999729937986,0.6412991699280023,0.6245378272221073,0.6645146656200962],[0.7787908606895678,0.6811435403079042,0.6688440567137448,0.6559324619732704,0.6374340442349609,0.8141844325895565,0.7697525286445462,0.8009510777237054,0.7715266391227421,0.7786168085948909,0.727127077821577,0.7230935881175774,0.6546837710822399,0.6344232915578173,0.8799825969527855,0.9402610176255712,0.8764956875108585,0.8839870673971038,1.0,0.8520433185832033,0.8943069086339815,0.8186627240110046,0.9278865452632157,0.8378807757517104,0.900755299306254,0.8830665022941696,0.9036622680381176,0.8607035169689744,0.828986158610395,0.8495575019442585,0.8847790007992156,0.8887055739537286,0.8612565997129986,0.848863173491416,0.7830535005395295,0.8829201063295745,0.8286329672296835,0.8061705730153977,0.7882819990073642,0.8504034294187601,0.8565356502111625,0.8374744528201528,0.8586021914712679,0.8195863850389898,0.8320450619695907,0.8182460219092734,0.862290490455808,0.7798360861524796,0.7897468327143685,0.7001451223550781,0.6921207753709117,0.6792242024220405,0.8404134581326203,0.8080165554288682,0.8356913262934322,0.8161162903219938,0.881771168752633,0.8230280978915618,0.6177262957290641,0.6392568305252715,0.6593171289014605,0.6748412108695794,0.6644350532433678,0.6891445407791342,0.7873871497913184,0.8034372669479874,0.6473795885735527,0.5913812835413736,0.5505487593197439,0.5190248340614287,0.7011488123638553,0.7389998937166729,0.500073087045416,0.624625187767145,0.6375098016442767,0.6189690457765257,0.7185983386162562],[0.6873761737497581,0.6690294259555081,0.6252414050795616,0.6100453666908768,0.617080661025966,0.853968084288223,0.8151717433953,0.8532819619540168,0.896768429998836,0.8524841100854998,0.732583318846013,0.6979492402342107,0.7019957191818355,0.6657246117907881,0.9103623441668935,0.9179509916892106,0.9104724066529577,0.9160443880273192,0.8520433185832033,0.9999999999999996,0.8606251399232077,0.9342455397754075,0.87646393946676,0.8655849562105559,0.8514021508276891,0.9354349481609543,0.901064873987352,0.9435208584953085,0.8875805804405504,0.8967660204751344,0.9113367083257935,0.9247599523721909,0.913246762365627,0.903211677796804,0.8078688034009639,0.8397430262985198,0.8194083765714569,0.8074391966673947,0.829342758726493,0.8611700491515686,0.8611870131050727,0.7945383896860017,0.858824088619848,0.8640213771198496,0.8884179907984435,0.8311622384872558,0.8560185530292868,0.7949217823558627,0.7682521991367788,0.7401277549631432,0.7771648733748434,0.701198601053576,0.8566897696516133,0.7163307482844175,0.7604696798448118,0.7769296655851017,0.8240268718778032,0.7612833368553267,0.5480820264539533,0.665182469426394,0.692114707311233,0.650389139203451,0.6964481584193434,0.6710115470062304,0.7974512616684786,0.7767853732371908,0.6184225370231451,0.6085891661607721,0.5907929823315012,0.5291073131310717,0.790351276897113,0.8150659234785652,0.51029764949986,0.6026041360491132,0.6551118657320711,0.6280591364900775,0.6733169728915703],[0.7333083803356816,0.6648571574054636,0.6684836288349205,0.6556561624239778,0.6680050206220064,0.7782921252585607,0.8151330613195196,0.8206547947237969,0.8165806869136869,0.7830952107318226,0.7500530836811323,0.8126560399622866,0.6647785152785254,0.6638687649297444,0.8759996521676606,0.9350979809679271,0.8624253022576701,0.8980513320377874,0.8943069086339815,0.8606251399232077,1.0000000000000009,0.8512456053255895,0.9297919702949209,0.8680249123824464,0.8546453275390272,0.8463637733260057,0.8875338076772183,0.8765900178248496,0.8560448369478741,0.8687893351799607,0.9059670139064456,0.8861399611549746,0.9318472355951524,0.8519003168372693,0.8259548641127563,0.8793087623416382,0.8683401278134134,0.8388674526566259,0.8554880361062561,0.8700097241238697,0.8466069882599923,0.8469535522926503,0.8403608083656062,0.8251875255113721,0.8481826112770461,0.8075955128410139,0.9111676315714581,0.7577101566210152,0.7820838723676505,0.7284169928192178,0.6986832518133959,0.7201235686486294,0.8064050104827599,0.8079139504795868,0.8179604685713306,0.779218882399093,0.8527164395183731,0.837743097064249,0.5633682925252936,0.629474585479867,0.6321812068791264,0.6202561005162174,0.6415706491198248,0.6450217780165152,0.7612338263232501,0.7576692656499322,0.6477561258630465,0.6338602751054891,0.5568688605642186,0.5034853314359826,0.7625061982574621,0.7926169860084692,0.5083302343747722,0.6126017854483156,0.613895767333938,0.6075303311224851,0.6986303975480426],[0.6373835332901641,0.6421234805873937,0.6253324130462108,0.5927674463023963,0.6209693795544564,0.8482004507000751,0.8265463326453104,0.8008121465693073,0.9031420547475841,0.8294420699053613,0.7465411817061121,0.7136076701457289,0.6784205004094231,0.6881694237769045,0.8894198564375104,0.8947125022095448,0.9146987269902203,0.8873748426013368,0.8186627240110046,0.9342455397754075,0.8512456053255895,1.0,0.8511782127362929,0.8425849651422955,0.8161109686340473,0.9217491854843531,0.8671245246236675,0.9331869080415863,0.8849513903923298,0.881315161901033,0.8873959589381537,0.8870750750605892,0.8916106493062266,0.9037580809024746,0.8001801304566536,0.8128732865633161,0.8099759199397789,0.7948623190834019,0.8130362457681485,0.8594052991984518,0.8338307308141157,0.783878714464951,0.8313064533919355,0.8604944402974259,0.8378360212192242,0.8301645926808449,0.8047712325153298,0.7812322579616451,0.7470055666956323,0.7287309282748899,0.7774331304141818,0.6982883765965385,0.8065248165998827,0.6948176371047068,0.7251707504995696,0.7289735300936503,0.7719081134649901,0.7517685075181725,0.5606557480596859,0.6151403235147613,0.6848947122883334,0.6458731709178267,0.6587559993156873,0.6582144338010952,0.7806972206823861,0.7322718081584374,0.5987812888299819,0.6321275691090316,0.5852086655778925,0.542348790042155,0.7879838756689552,0.8126899665731122,0.49963379333891317,0.5926485290857013,0.6279022878118289,0.6016612089648503,0.6715882048602104],[0.7160856676490811,0.6438636790307323,0.6793155042049931,0.6358003392988478,0.6770408361383815,0.7810611714868445,0.806974171878086,0.8448145780933466,0.8037324450261681,0.8152965850493862,0.7588615540743039,0.8181986604848935,0.7067755806165703,0.6834038596291239,0.9068599512116285,0.9541516160414572,0.8850197510578736,0.9104711943684639,0.9278865452632157,0.87646393946676,0.9297919702949209,0.8511782127362929,1.0000000000000002,0.8909051592348928,0.9169199509767384,0.8967283508556546,0.9237279767562763,0.8961889662030296,0.8743524611978801,0.8946935867782748,0.929926252205318,0.9432260914796469,0.9343918766672739,0.8822307110953402,0.8406108700348229,0.8560106298781968,0.8606923758935726,0.8701312532942892,0.8389186695020356,0.87992723008825,0.8474730490075214,0.8397702198384012,0.8755553540170402,0.8532620784794706,0.8818767138393883,0.864375290548009,0.8892856612279393,0.784092739321923,0.8105416166704306,0.7446301580193545,0.7175513208532486,0.7212715580249849,0.7977486864262233,0.7928844915155328,0.7908028522296753,0.7650245975376485,0.8435468973626978,0.8323859054281821,0.5865015158412171,0.6600198790345482,0.6581114432405945,0.6698577950079001,0.67885805705362,0.6783911210711429,0.7758784268289344,0.8037176978735076,0.6639953416690215,0.6178253308413642,0.5899253415516162,0.523395603400763,0.7631460352837222,0.7834096690211486,0.5297328183009953,0.6640816731004,0.652902534654466,0.644307139181827,0.7303112153706771],[0.713295796669539,0.6353781634013762,0.7023317022853722,0.6680598163839925,0.6852333612077548,0.7832366591309112,0.7697014501893646,0.8377861553459546,0.8612040494586783,0.8039221114300603,0.7611134943613856,0.7968713957927643,0.6404886349188349,0.6346965691090088,0.914339023528036,0.8926651596660732,0.8517723482101281,0.8596957066551671,0.8378807757517104,0.8655849562105559,0.8680249123824464,0.8425849651422955,0.8909051592348928,1.0000000000000002,0.8080453679877864,0.8754215321303436,0.8777269162916477,0.8801486166100833,0.9012841018015421,0.8820963383291311,0.8699856240750472,0.9181345972274225,0.8884433812729776,0.8535505693769855,0.9267980187877934,0.7821292039198343,0.7929220005068263,0.8127964956559829,0.8281853297576125,0.8385872969081231,0.813346217539092,0.8217819751169613,0.8148666058804526,0.8203273578918616,0.8323714697295016,0.7852731147911886,0.8417203806189029,0.7286108682658583,0.7360230831924813,0.77810446669863,0.7187857030387428,0.6781497460033996,0.78013780275949,0.7861600454743976,0.7796349997046891,0.751940337835528,0.7810540846681059,0.7983338736281992,0.501628887427252,0.6078468400049105,0.610770524281351,0.636379288658721,0.6797744029923243,0.6031258552543677,0.7191178366638211,0.7251036009711453,0.6543430575901166,0.5992623039655468,0.5757056749266406,0.5037741227000277,0.75452142960572,0.7867047961123823,0.5544164163216696,0.6001333658592001,0.6297350163503451,0.5871932227315445,0.6409669913068721],[0.6961842570078669,0.615474774903771,0.6201588222780609,0.6138077389354234,0.6287226717402193,0.759525237145779,0.7601144625438001,0.812819722440564,0.7495552369553388,0.7782836413784663,0.7058677067848259,0.7330097590278897,0.6999629465717844,0.6472743945359649,0.8341510982701691,0.9071451667751818,0.865769268867698,0.8680033825291494,0.900755299306254,0.8514021508276891,0.8546453275390272,0.8161109686340473,0.9169199509767384,0.8080453679877864,1.0000000000000007,0.8767219664546201,0.9010048725371649,0.8567614961689873,0.8164695090282809,0.8483088487176564,0.8793965237939023,0.9037619868123327,0.8671855530988295,0.8567504846527592,0.7561783491304485,0.8466623277922645,0.8213929991503749,0.8224358395094876,0.7915497759963425,0.8371129049303832,0.832550715990797,0.7962213508772037,0.8398933804475127,0.8313172776047091,0.8511723708949985,0.8545372283750639,0.8147341369158201,0.7981594346073652,0.8007663902423476,0.7196798395319159,0.7220922959754221,0.7173128241855872,0.7887051294617843,0.7659134378704456,0.7455091247305778,0.7372574403116802,0.8388020763001907,0.8298262304917537,0.6141093031637098,0.6751991694245402,0.7018059028072942,0.7022644427930502,0.6718897562899798,0.7218758607901264,0.8166414504902151,0.8292439645233058,0.6813020199948577,0.5756550036124863,0.6327514441724689,0.5093448045941125,0.7310182879712426,0.7515352224641825,0.5143966551758508,0.6524139255307989,0.7048019499435709,0.6978393564434352,0.7461070979979669],[0.7077946082245414,0.6605064189065519,0.6476370287950767,0.6140077053021448,0.6377734789356195,0.8564538804070969,0.8073537195808843,0.8262716626434123,0.894721509479134,0.8254456017458273,0.7639752884069885,0.71158740705936,0.673292357368199,0.6719127980480202,0.9242793722879339,0.9205044051006336,0.922864465841857,0.8953942540511951,0.8830665022941696,0.9354349481609543,0.8463637733260057,0.9217491854843531,0.8967283508556546,0.8754215321303436,0.8767219664546201,1.0000000000000013,0.9075579234143766,0.9318076142479014,0.888391807407064,0.8912439485370931,0.8943859941350094,0.9276777605266927,0.889069494294689,0.9199510668698886,0.8232358110981569,0.8411249690051815,0.8323564043852834,0.8152234231459236,0.8140976229977265,0.8792552492500366,0.8470825950556555,0.8042481307747091,0.8617976385049516,0.8809207521856287,0.8620351008154367,0.8696651908280096,0.8206395409336908,0.8124545313638946,0.7814177125003909,0.7238391307993823,0.7819214148294215,0.6975155155682636,0.8325014338531744,0.7469628730350139,0.7779816082909833,0.7922289434173991,0.8275140105226059,0.7870241507276741,0.5981220291022386,0.6417826880766953,0.7227483758662873,0.7052200889654485,0.7172495580387521,0.714469799291303,0.8145519166025692,0.8140575056690648,0.6304358890751218,0.5993590798589395,0.5872885733036847,0.5330242887742331,0.7779591842079169,0.8092130461866438,0.521134765226051,0.6367253283346925,0.6754769656705444,0.6451396793520546,0.6844530319217348],[0.7390524526232362,0.6505543218524373,0.702048820618242,0.6824615787275852,0.6989173937168852,0.7955401767023914,0.7995010680139563,0.8360293990185191,0.8354094208433261,0.8013538227952157,0.7645460932844742,0.7401678812322551,0.6616651008832285,0.6436139626774888,0.9050266690363817,0.9405822909052128,0.9295823707992563,0.9252775035864951,0.9036622680381176,0.901064873987352,0.8875338076772183,0.8671245246236675,0.9237279767562763,0.8777269162916477,0.9010048725371649,0.9075579234143766,1.0000000000000022,0.9140490464735458,0.8888152939809272,0.8927545301784222,0.8995948875565994,0.932991192326848,0.8967994498202111,0.9041469833573752,0.8232646367772497,0.8536667449977781,0.8567495205244223,0.8811223596245359,0.840917235083524,0.878772387695058,0.8474999662207832,0.8693642759626721,0.9020136980134689,0.8683238639855351,0.8940668024245925,0.8579232437194073,0.8365522352182477,0.8203334927870317,0.8187165654036224,0.742474977988742,0.7651720040787692,0.724169248401368,0.8137324459894453,0.7631930470011773,0.8019265888600965,0.7725402053612372,0.8257644563229013,0.7965045974344303,0.581142091810599,0.690896970440541,0.6828732349009322,0.6800423143734198,0.7040416192487945,0.7160260391314701,0.8193425107270246,0.8094957062948487,0.6951552865679126,0.6257205980221073,0.5895646941516886,0.5282737724285167,0.7695061980714244,0.801168203409456,0.5443170962738799,0.6537635519987766,0.6932496184869016,0.6412914208510648,0.6818116404955058],[0.6793112184675615,0.652220098030126,0.6502042957234618,0.6045887533474448,0.6097026770270378,0.8188140954535892,0.8909047714181889,0.8567725096030521,0.9005580753187575,0.8581390186594,0.7601512893002179,0.722146710737598,0.6941613606398869,0.6880473801472369,0.9168488044940206,0.9281168281274093,0.9403719658941775,0.9067763214452201,0.8607035169689744,0.9435208584953085,0.8765900178248496,0.9331869080415863,0.8961889662030296,0.8801486166100833,0.8567614961689873,0.9318076142479014,0.9140490464735458,1.0,0.9078107671638681,0.8926644535736132,0.9062325459774933,0.9277457861463502,0.9237869806737021,0.9173827901312164,0.8247474338210347,0.8414854189746892,0.8500088401878098,0.822772428076197,0.8235610593211067,0.8809812698349408,0.8573539173076307,0.8017788074948909,0.8863344456806533,0.8582725235375371,0.8644211255139317,0.8163681811744837,0.8457681510409806,0.8039562897616643,0.768336683687249,0.7553968692774242,0.7835175089992299,0.709941567859646,0.832738998548332,0.7239980198627609,0.7533257164973229,0.7710969975092101,0.8151166493189187,0.7806657824395162,0.5573274120800049,0.642824275115093,0.6865834857732274,0.6920016218700729,0.692915387739574,0.6658276994932395,0.782494515405334,0.7488407530848479,0.6298255386306821,0.6354935291974909,0.6046126126728465,0.5315420940208809,0.8109503967716217,0.8395060269410695,0.5268922852880176,0.6391177273910659,0.6439171779873543,0.6233251411589666,0.6645072542204503],[0.6525984147590133,0.6232689823333208,0.7254415161856245,0.6520305253086225,0.7167311507859178,0.8085357341717054,0.7560065560605261,0.7895600623059631,0.8983060639827922,0.7972126502006813,0.8094938131368791,0.7413461970246515,0.6426439531497201,0.6477085893877308,0.9074624778296078,0.9077452192135749,0.8772512710717326,0.8803645984147359,0.828986158610395,0.8875805804405504,0.8560448369478741,0.8849513903923298,0.8743524611978801,0.9012841018015421,0.8164695090282809,0.888391807407064,0.8888152939809272,0.9078107671638681,0.9999999999999993,0.8757014305122734,0.8813784546906692,0.9000298780648527,0.8895561151681629,0.874368829063095,0.8596626591773464,0.7886722585715253,0.7990245425862956,0.8280644330934438,0.7932094560405651,0.8350688043032347,0.8162865686948725,0.8170249649199455,0.8740731275663564,0.8638075944467555,0.8593114292942529,0.821143728754221,0.8296046351745613,0.7682243872371015,0.7413515668897248,0.7656760934703628,0.7426285713222734,0.6614570269718945,0.7756309166016894,0.707566678590225,0.7668860960347075,0.7339640849042806,0.7708189715576113,0.7428971319415173,0.5166399906707498,0.6324729961673823,0.6487204908768529,0.6639465987456407,0.7062537837798112,0.663553528753443,0.7395894030104252,0.7346258477687962,0.6581212515362647,0.6232141536807125,0.6008998124084455,0.5315687453575338,0.7781575865171455,0.8411589428814585,0.5624363655668129,0.594999301517642,0.6259434878841721,0.6083904611990308,0.6495858998264175],[0.7022356081984953,0.636060422799018,0.6999015488338508,0.6487533890376717,0.6623858844355939,0.7949667437196194,0.788815384181591,0.8295835631868708,0.8126500474313756,0.8109364378455303,0.7301346835252155,0.7520770859825624,0.6391870816112117,0.6622184512971413,0.9182918314042047,0.9105958432006913,0.8650384785011292,0.8759995028035537,0.8495575019442585,0.8967660204751344,0.8687893351799607,0.881315161901033,0.8946935867782748,0.8820963383291311,0.8483088487176564,0.8912439485370931,0.8927545301784222,0.8926644535736132,0.8757014305122734,1.0000000000000007,0.905820325580448,0.9244041271786573,0.9028754409362586,0.8915554172134267,0.8411367708532956,0.8323627334389107,0.818417719327149,0.8293892826519802,0.8218973041850813,0.8513947830713202,0.8379683857530545,0.8284684156555697,0.8708580629203412,0.8725859923502116,0.8641348843971908,0.837942600403823,0.8284619528571525,0.809222206561429,0.7793244179431725,0.7523639429831883,0.7765347229551423,0.7401071721333766,0.7963029940457449,0.7296638676456103,0.7665304077618337,0.7407761982043362,0.8029386291521681,0.777051812354703,0.5493870465716676,0.6368329573944981,0.6744713164473494,0.6964128105686471,0.647193771651726,0.6697463507724805,0.7610327507852508,0.7700758553792125,0.7029372282403825,0.6377083220476788,0.6664864002972231,0.5773833121763023,0.7518994772200276,0.7858466109127493,0.48939850694899273,0.6093651734868687,0.65120497937364,0.5922349513324283,0.6581776048602018],[0.6856933633222613,0.6316319416702723,0.6733338221124278,0.66226721166172,0.6746729187700347,0.7827258074342718,0.8007233957175975,0.8380748338815454,0.8257680428315267,0.8258723435211246,0.7412866659296634,0.7751603276865089,0.7054015292406072,0.6922858339130902,0.9042226566127409,0.9507391516911594,0.8885946783472412,0.90365924688379,0.8847790007992156,0.9113367083257935,0.9059670139064456,0.8873959589381537,0.929926252205318,0.8699856240750472,0.8793965237939023,0.8943859941350094,0.8995948875565994,0.9062325459774933,0.8813784546906692,0.905820325580448,1.0000000000000004,0.9165641949212835,0.9354231620236066,0.8834792267822272,0.8279128318405288,0.849769860619095,0.837580068709722,0.8371963492048142,0.8194531095829206,0.8755178781602182,0.8287012456956485,0.842142055397724,0.8641132499465937,0.8413982988847231,0.8751170848004258,0.857263696667786,0.881726748044967,0.8135963035714122,0.7841625421459695,0.7381999619188515,0.758074641069283,0.7070715255400911,0.8002881610301668,0.7544380143548594,0.7707650424988235,0.7375965957170618,0.821240487472411,0.8280703827027066,0.5692077211282826,0.6689053131876285,0.6770575630748485,0.6769898718971313,0.6708491528699163,0.6823539141233548,0.7858696738589547,0.7831038052460301,0.6639860967271847,0.6398549836452083,0.6139982177228481,0.559149024059356,0.777906623827866,0.7959644984205911,0.5239988898310953,0.6068419258564652,0.6408945870525086,0.643482141395413,0.7131479944549055],[0.7140958410326704,0.6566374185747023,0.7117833110985889,0.6606068893287087,0.7133405396450488,0.8120887674496325,0.8083184813990054,0.8816723366092362,0.8373143254916028,0.8596301373481864,0.7680675563157899,0.7605469938711842,0.6833651260136981,0.6631236523361671,0.921634684093934,0.9349771704698551,0.9080952440366292,0.9098679086907834,0.8887055739537286,0.9247599523721909,0.8861399611549746,0.8870750750605892,0.9432260914796469,0.9181345972274225,0.9037619868123327,0.9276777605266927,0.932991192326848,0.9277457861463502,0.9000298780648527,0.9244041271786573,0.9165641949212835,0.9999999999999992,0.9229370149436993,0.9138010796110199,0.8619146906366006,0.8357897408239934,0.8431085252284322,0.8610793052779747,0.8640408497645571,0.8801552176785974,0.865226631370125,0.835172601454248,0.8828107562484699,0.8822910535425394,0.8852970953659731,0.8734827714040447,0.8439245312858227,0.7969022191206745,0.8023858582572524,0.7875580603486596,0.7692578391049485,0.736106588880689,0.8134989119310594,0.7686969453973264,0.7768998566976649,0.774243504732147,0.8268739500065979,0.8033672736194621,0.568702363735028,0.6686150209969938,0.6810868825440239,0.6750524303487306,0.6973330696006674,0.6989584681080043,0.7947680381645859,0.8247450529766059,0.7112457739664805,0.618843484555801,0.6134254471481826,0.5251671242700119,0.7971371275151884,0.8240658905789737,0.5703216803250959,0.645975118253154,0.679416570709323,0.6639402905114995,0.704204058418584],[0.6661134503607211,0.6303268784261911,0.6620376269703263,0.6380154138307259,0.6608995612979451,0.779115743285744,0.8358952628310417,0.8611883322994361,0.8602212852160619,0.8516181219880198,0.7534930372225963,0.8079081411362553,0.6781443368727605,0.6762672213190025,0.9136756675803659,0.943819795296028,0.8778910931021427,0.918211725022622,0.8612565997129986,0.913246762365627,0.9318472355951524,0.8916106493062266,0.9343918766672739,0.8884433812729776,0.8671855530988295,0.889069494294689,0.8967994498202111,0.9237869806737021,0.8895561151681629,0.9028754409362586,0.9354231620236066,0.9229370149436993,0.9999999999999998,0.8780195913598549,0.8264388311335749,0.8489659180674212,0.8532424852179874,0.8474919748680404,0.8512200722617811,0.8730236491506905,0.8397268967619272,0.8272447787597322,0.8571416862827633,0.8503358043871233,0.8879341321938634,0.8411538364092971,0.9093116575397932,0.7966092837380329,0.7920501671584974,0.7663777413806703,0.7604894230856394,0.7233680736190625,0.7942274495327033,0.755241933877649,0.7683391636352358,0.7428258878809537,0.8102221639821698,0.8106134931432767,0.5397005289961403,0.663942015491367,0.6675104339218482,0.671617215846672,0.6770352135188414,0.6584819545356557,0.7559602121595516,0.7520316355383365,0.6590147345845415,0.6637789363393323,0.6237783258368746,0.5416292885608553,0.8266302647120698,0.8220096976061808,0.5639519308623793,0.6417085575260597,0.6556302364301807,0.6438435036264004,0.675472457630524],[0.688494948802193,0.6382912940858684,0.6445499967596334,0.6068950610100796,0.6105994387176633,0.8435557345690052,0.812990566745044,0.8341149217495066,0.83498562489838,0.8088027342844935,0.7062146134050316,0.7208967614215678,0.6466272628542701,0.6650010230531893,0.8879019836961362,0.892854657231032,0.9298682749367103,0.8937701216301309,0.848863173491416,0.903211677796804,0.8519003168372693,0.9037580809024746,0.8822307110953402,0.8535505693769855,0.8567504846527592,0.9199510668698886,0.9041469833573752,0.9173827901312164,0.874368829063095,0.8915554172134267,0.8834792267822272,0.9138010796110199,0.8780195913598549,1.0000000000000002,0.8017727069011478,0.8429448868718443,0.8354562449248222,0.8191984971339228,0.7981111005303665,0.8413129398069707,0.8345850629421144,0.7959745637682643,0.8676823149230225,0.9064481588609175,0.8648664500778599,0.8677795556139466,0.8042448482020456,0.785149625311329,0.7728530761418635,0.7141077007657651,0.7813589974196764,0.7259107856339082,0.7833035336259397,0.7183463621025836,0.7207254628802254,0.7348851584776188,0.7976915643732366,0.7560863720995444,0.5843813029797802,0.6794490620777462,0.7178304607625251,0.7153425314820044,0.6634814964245663,0.6834474523659821,0.7952392022763984,0.789743714357412,0.6960367030197319,0.6115154385178327,0.610154648339781,0.5443295863523308,0.7707988892792219,0.8029924515105582,0.5382327264066599,0.6739971030170218,0.6936614075635613,0.5977533502704858,0.6565316756719607],[0.6682681858383229,0.6370995543901273,0.6706766156308773,0.6369842397363794,0.6549250300093913,0.7466434178406275,0.7344360698898619,0.759825673629091,0.7956617834258773,0.7255872221217803,0.7550822693285949,0.7988378183813147,0.6011309461402582,0.5854402162596943,0.8939971696211383,0.8546228185025809,0.8042043162264696,0.8039829655353041,0.7830535005395295,0.8078688034009639,0.8259548641127563,0.8001801304566536,0.8406108700348229,0.9267980187877934,0.7561783491304485,0.8232358110981569,0.8232646367772497,0.8247474338210347,0.8596626591773464,0.8411367708532956,0.8279128318405288,0.8619146906366006,0.8264388311335749,0.8017727069011478,0.9999999999999996,0.7235605787779038,0.7667953659299316,0.7667804772055249,0.7780416961697503,0.7900770447019532,0.7531066034596932,0.8080624199476363,0.7749164227088294,0.7717847104021182,0.7702043001256675,0.7522498393626893,0.8099964595490123,0.6680146859020183,0.6728785714089549,0.7141213479010546,0.6694387727148112,0.6459402348640911,0.725829722602134,0.7686469645677316,0.7628743219419465,0.6979670823890379,0.7152718725266337,0.7851997854394182,0.513931064508345,0.5446945881423044,0.5564122392255978,0.5883180834150125,0.6040519894889634,0.5870684529944934,0.6547527252224317,0.6863579160879296,0.6668522079141934,0.5736292929988298,0.5390057074457736,0.42653495159833477,0.7043793213845747,0.7555383776593747,0.5580738052834568,0.6195541240619235,0.6166676408959506,0.5420809491384903,0.631471751137243],[0.7616140929230207,0.6660867887192052,0.6447405738484057,0.6263011073892643,0.6181612494647968,0.8020656062894574,0.8092887513859359,0.776297255674825,0.7622997869838768,0.7435104801254359,0.6519952010750736,0.6747295756522956,0.6432444415883778,0.6415941464179945,0.8265812688431615,0.8920355154380462,0.8588580509526895,0.86103752534347,0.8829201063295745,0.8397430262985198,0.8793087623416382,0.8128732865633161,0.8560106298781968,0.7821292039198343,0.8466623277922645,0.8411249690051815,0.8536667449977781,0.8414854189746892,0.7886722585715253,0.8323627334389107,0.849769860619095,0.8357897408239934,0.8489659180674212,0.8429448868718443,0.7235605787779038,1.0000000000000016,0.8342131784224295,0.7608121618780592,0.7679088967691393,0.8207615300384827,0.7942497287604092,0.7844986677030371,0.8151541586869012,0.8198728222268825,0.8112985238583167,0.7705619165163977,0.8364390466902772,0.7697657414776939,0.7579066819724173,0.6865140811033631,0.713863724874245,0.7183200373010846,0.823193840930206,0.753271513482316,0.783904348167524,0.7848311674759907,0.8766842903331944,0.7851248005727745,0.5902949139182969,0.6481000002853023,0.6286946444752625,0.6099695368058861,0.6011300008515317,0.6461788095655754,0.7433316333601055,0.7392021319780467,0.6423532016634302,0.5952533354878247,0.5459804323447108,0.510648240671021,0.7147991482619833,0.7206253805483792,0.45930990644335634,0.6166450109316987,0.6333319967605954,0.627909129090112,0.6717827480023988],[0.6855504759475777,0.6509581873318354,0.6238298592820999,0.598410716334452,0.6106364283372426,0.7485381437717555,0.8807797728963088,0.7624565279707252,0.7652772420996502,0.7498341221259405,0.6981914765137169,0.7151190605411731,0.6230586470703028,0.6341331787723485,0.8195789013800941,0.8599495569062456,0.8875171211214624,0.8561266771030304,0.8286329672296835,0.8194083765714569,0.8683401278134134,0.8099759199397789,0.8606923758935726,0.7929220005068263,0.8213929991503749,0.8323564043852834,0.8567495205244223,0.8500088401878098,0.7990245425862956,0.818417719327149,0.837580068709722,0.8431085252284322,0.8532424852179874,0.8354562449248222,0.7667953659299316,0.8342131784224295,0.9999999999999997,0.8084157978971149,0.7904501427158945,0.8220025380946147,0.8251589576113958,0.7992720353164777,0.8243788066601689,0.8122110492987024,0.790798285734471,0.7832381427821421,0.8218712937211249,0.6950034109977554,0.7481769811470282,0.696879251240841,0.6798852755188679,0.6650356845636155,0.7633395078041579,0.747967227377071,0.74743736046494,0.760057238212511,0.7975672622053065,0.777860091892596,0.5589550255874117,0.6093209964842737,0.5935446090898239,0.583392156485303,0.594780227255997,0.6246342332837781,0.693216793398213,0.7332050266215672,0.6325465301346249,0.6128689371279082,0.5187701877906213,0.48809634789983264,0.6881770765294772,0.746838766043239,0.4512221090871965,0.604458024240984,0.6171206984532225,0.5837648969744629,0.6086905406430732],[0.6550213926566406,0.5922286024288764,0.612916563132877,0.5793153466402595,0.6719356925451975,0.7151270960357361,0.7451236341219869,0.7751598367424861,0.7555430686525789,0.7165300816494221,0.6777851938084503,0.7472181592737629,0.5808127590033901,0.6022236049592837,0.8224714226479759,0.8366393171973592,0.8390803126517942,0.8468459499201109,0.8061705730153977,0.8074391966673947,0.8388674526566259,0.7948623190834019,0.8701312532942892,0.8127964956559829,0.8224358395094876,0.8152234231459236,0.8811223596245359,0.822772428076197,0.8280644330934438,0.8293892826519802,0.8371963492048142,0.8610793052779747,0.8474919748680404,0.8191984971339228,0.7667804772055249,0.7608121618780592,0.8084157978971149,0.9999999999999996,0.8177097941354007,0.8093455004487847,0.8015234727929231,0.8257891461353534,0.8376529429090372,0.816884092262041,0.8267068943189392,0.9145095675435322,0.7874655098715246,0.7310397389437032,0.7777601133436212,0.7409870574282443,0.6845103707464373,0.6851097197570893,0.7083041810661551,0.7149188747577672,0.7412806136230478,0.704874104814123,0.7631602378142072,0.7527194091844147,0.48126791178117034,0.6266753775492279,0.6168478762830725,0.6055017196938809,0.6221349351690884,0.6339957593525036,0.7293031112772683,0.7493273177846004,0.6786700362895329,0.6006401154722268,0.5406527508255049,0.4939967483809803,0.7101486580940063,0.7741059973960248,0.5182732874258865,0.5865109055285553,0.6274483421262628,0.5946562851696432,0.6321929013444014],[0.7048534300996376,0.6318494446028086,0.6074663423324171,0.6100661272322394,0.6389355486182537,0.7309470464657674,0.7523761078015458,0.7906368033492752,0.7687192595985181,0.7667852517409838,0.6826664005226082,0.7393255249850632,0.5870425494228729,0.6276378093751661,0.8064599644615225,0.8390926824129524,0.8155626808811102,0.8482986105278285,0.7882819990073642,0.829342758726493,0.8554880361062561,0.8130362457681485,0.8389186695020356,0.8281853297576125,0.7915497759963425,0.8140976229977265,0.840917235083524,0.8235610593211067,0.7932094560405651,0.8218973041850813,0.8194531095829206,0.8640408497645571,0.8512200722617811,0.7981111005303665,0.7780416961697503,0.7679088967691393,0.7904501427158945,0.8177097941354007,0.9999999999999996,0.8023141362532331,0.7872013561433776,0.7992022464808403,0.7897599296679054,0.7867743069264408,0.815759994224812,0.7858979849026315,0.8035493245139096,0.7053732582009563,0.8107389329130372,0.7366158551459067,0.6942449617411195,0.7038388526449,0.742924884754498,0.7714702440916038,0.764722649164693,0.7379773719270095,0.76308987311436,0.7772670822671862,0.5650700445467758,0.5763618626685333,0.5972351348835675,0.5947045605945035,0.6287704935717141,0.6182458213029799,0.7359551135450838,0.7528977240400209,0.648504880437576,0.6771981750659041,0.5642339715390954,0.4711382127099681,0.7757940281765789,0.7751088166438355,0.5131037300626046,0.5765194497777779,0.5932215064741617,0.5893416215140573,0.5982375678119476],[0.7004329120087252,0.60898726825003,0.651796341558979,0.6447408648162397,0.6477353154155453,0.7566812836939606,0.8084312116594026,0.7834935432120866,0.8062948931067456,0.7830032408418454,0.7068021844859734,0.7349755513233723,0.6996711328082038,0.7725114012985751,0.8672201717839696,0.8951906498041896,0.8640188977483917,0.8667105993831453,0.8504034294187601,0.8611700491515686,0.8700097241238697,0.8594052991984518,0.87992723008825,0.8385872969081231,0.8371129049303832,0.8792552492500366,0.878772387695058,0.8809812698349408,0.8350688043032347,0.8513947830713202,0.8755178781602182,0.8801552176785974,0.8730236491506905,0.8413129398069707,0.7900770447019532,0.8207615300384827,0.8220025380946147,0.8093455004487847,0.8023141362532331,1.0000000000000004,0.8297326695045527,0.7804679861434872,0.8387355640421775,0.7999785882078362,0.8372141272107554,0.8032344441476139,0.8142326620395076,0.7553038548507144,0.7421342796005166,0.696454060591093,0.681236691329368,0.6587569359537154,0.7901869390411376,0.745620613729738,0.7600043654759697,0.7565737254123491,0.7944090412608985,0.7945343927652864,0.5052300416247469,0.6258617135317708,0.6426540724900652,0.6196605086288848,0.6117663758401564,0.6306492740481617,0.7334683615605547,0.7277415087566959,0.6033987750193207,0.6024771621170564,0.5290027004321213,0.5106229465999083,0.7302075096584302,0.7509278380453093,0.4693400643699383,0.5934508779397346,0.6210616648315392,0.5803421139961369,0.619562977607157],[0.768048050161749,0.7214024042986119,0.5842448889685781,0.5734155326038431,0.589945603937084,0.8115082816633498,0.8059157019838638,0.8093083561088236,0.7873208743933008,0.7541643149638075,0.6922283732710615,0.7063127159399666,0.6330635343740824,0.6144522844349842,0.8380640877772362,0.8466322464682665,0.8509829854429484,0.8382286905527031,0.8565356502111625,0.8611870131050727,0.8466069882599923,0.8338307308141157,0.8474730490075214,0.813346217539092,0.832550715990797,0.8470825950556555,0.8474999662207832,0.8573539173076307,0.8162865686948725,0.8379683857530545,0.8287012456956485,0.865226631370125,0.8397268967619272,0.8345850629421144,0.7531066034596932,0.7942497287604092,0.8251589576113958,0.8015234727929231,0.7872013561433776,0.8297326695045527,0.9999999999999998,0.7601632214287654,0.8376116847774054,0.8044394162899094,0.8002105098586573,0.7710583162852497,0.8471463055348866,0.7113758641371422,0.7270466639694689,0.6755944893659035,0.6971897760143145,0.6209029949407738,0.8668459316677533,0.7747141556933624,0.8041818344247441,0.8652094082749937,0.8760493732546928,0.8006508846651516,0.511498253438173,0.5791169203494747,0.6314694344797576,0.627512989196288,0.5885230518529693,0.6348524675826018,0.7657020012367624,0.7622725284212222,0.6225219510608447,0.546246361983733,0.5805883313002528,0.48462768713302823,0.6835315621418357,0.7285174740284475,0.4571331223822635,0.583134439767237,0.6012579281345909,0.5878573408292392,0.6300963556949165],[0.6801172679331091,0.6200009346243766,0.7418854266053212,0.7703917257250421,0.7109166925899756,0.7398973967751523,0.7277066223299988,0.7495908452298627,0.7398617709166602,0.6931881044741827,0.7524797416049426,0.7041076024547557,0.5718055608423295,0.5747481042573268,0.8119164871352262,0.8572830041645085,0.8352390477293529,0.8665554180960494,0.8374744528201528,0.7945383896860017,0.8469535522926503,0.783878714464951,0.8397702198384012,0.8217819751169613,0.7962213508772037,0.8042481307747091,0.8693642759626721,0.8017788074948909,0.8170249649199455,0.8284684156555697,0.842142055397724,0.835172601454248,0.8272447787597322,0.7959745637682643,0.8080624199476363,0.7844986677030371,0.7992720353164777,0.8257891461353534,0.7992022464808403,0.7804679861434872,0.7601632214287654,1.0000000000000016,0.8265420611807537,0.8017563534822926,0.801467581033999,0.8038413871611667,0.7997054392120019,0.7033813402649429,0.739130090109163,0.7070459190762771,0.6692858698127341,0.6520786737281873,0.7365589843587685,0.7585185180779473,0.8994857717306461,0.7028637046344971,0.7685293021585813,0.7919932821254316,0.5366312839175962,0.5925662946752708,0.6003789765958624,0.6079212276340918,0.6658296282055091,0.6606001291339993,0.7292330322469343,0.7330185763478123,0.6996662891566917,0.6299466338591302,0.5280097611974053,0.5047227978546712,0.6890044122399803,0.7162766111794985,0.5735664909068087,0.5516629945247158,0.5953756376535936,0.568808849972715,0.6219115585596264],[0.683130394086347,0.6204461837258953,0.633903854078454,0.6187536264346786,0.6236096886724949,0.7886555842303277,0.7919899654221514,0.800521946008451,0.7941014843837818,0.7683909456151029,0.7263349069600589,0.6854313780342335,0.6463563701916725,0.6425173093649938,0.8529806032730713,0.8899190331125444,0.8843554532830054,0.8697431790790241,0.8586021914712679,0.858824088619848,0.8403608083656062,0.8313064533919355,0.8755553540170402,0.8148666058804526,0.8398933804475127,0.8617976385049516,0.9020136980134689,0.8863344456806533,0.8740731275663564,0.8708580629203412,0.8641132499465937,0.8828107562484699,0.8571416862827633,0.8676823149230225,0.7749164227088294,0.8151541586869012,0.8243788066601689,0.8376529429090372,0.7897599296679054,0.8387355640421775,0.8376116847774054,0.8265420611807537,0.9999999999999994,0.8505779225009809,0.8489808890725051,0.823222435523621,0.8241232609594742,0.761210773799673,0.7555631733936092,0.6924798090128866,0.694789677488987,0.6613384050252145,0.7832465381431024,0.7178252872783295,0.7794358004563978,0.7654092032682649,0.8209386891642715,0.7636313254711896,0.5353122040248292,0.6145876598832607,0.6401454806087997,0.6842665168491571,0.694201672955629,0.692619586466681,0.721693016487781,0.7363701705324047,0.6868016558342486,0.6137561271201626,0.5595359142823815,0.5200737258306117,0.726615630053339,0.7861342986420514,0.5298166562432419,0.6076261920604956,0.6703918727181746,0.5566809540709766,0.5702369705190165],[0.6473531286466699,0.6288545471512929,0.6951594863830662,0.646192289416115,0.6411730412866338,0.9151269722070635,0.7717306252087645,0.7874320544448762,0.7956308981114585,0.7504670367255297,0.6925609406968971,0.6898481342716063,0.614252670894764,0.6263750361922124,0.8459548487680457,0.8502641549879371,0.8642884222314232,0.8640441271788895,0.8195863850389898,0.8640213771198496,0.8251875255113721,0.8604944402974259,0.8532620784794706,0.8203273578918616,0.8313172776047091,0.8809207521856287,0.8683238639855351,0.8582725235375371,0.8638075944467555,0.8725859923502116,0.8413982988847231,0.8822910535425394,0.8503358043871233,0.9064481588609175,0.7717847104021182,0.8198728222268825,0.8122110492987024,0.816884092262041,0.7867743069264408,0.7999785882078362,0.8044394162899094,0.8017563534822926,0.8505779225009809,0.9999999999999989,0.8575250190466658,0.8497455451623309,0.7757555934817388,0.7528811526918653,0.7563872309248305,0.7085714227221124,0.7736441085438215,0.707167272923559,0.7183238391687595,0.7113858369369099,0.7220307802068844,0.6985722989788765,0.7610193028052706,0.7427150312682658,0.6049960392830475,0.6490133455592804,0.6588312862633071,0.7037185213675476,0.6890466310690729,0.6922279137469801,0.771564805876415,0.7923191741680619,0.7038989511298853,0.6513852751464752,0.6194316352772972,0.5469852591072926,0.7400283221709072,0.7894591848236019,0.5619461907066757,0.6715737751507298,0.7150441597832549,0.5592225181725808,0.585537934443083],[0.6879674893472401,0.592747461589996,0.6417886927246633,0.6354819682779467,0.6420179752511491,0.7723878085780578,0.7505311919839582,0.811630659301472,0.8049262796485032,0.7858530861155548,0.7118522445231842,0.7244208663753897,0.7024624485638021,0.6600366925941783,0.8468230165751996,0.8846328717106625,0.8452096721433826,0.9415970160724804,0.8320450619695907,0.8884179907984435,0.8481826112770461,0.8378360212192242,0.8818767138393883,0.8323714697295016,0.8511723708949985,0.8620351008154367,0.8940668024245925,0.8644211255139317,0.8593114292942529,0.8641348843971908,0.8751170848004258,0.8852970953659731,0.8879341321938634,0.8648664500778599,0.7702043001256675,0.8112985238583167,0.790798285734471,0.8267068943189392,0.815759994224812,0.8372141272107554,0.8002105098586573,0.801467581033999,0.8489808890725051,0.8575250190466658,1.0000000000000004,0.8391159660433044,0.8138768077359294,0.7897065727409328,0.7825931717413497,0.7494113267073256,0.73558809248891,0.7047190613046543,0.7501600696688775,0.7077692976806536,0.7298447118780168,0.7085996064057691,0.7841299297537772,0.7416887832891114,0.5191865508522189,0.7567820911934765,0.6710219032298975,0.7114143957286164,0.6872750078103194,0.6508421917358749,0.7718121951395854,0.7498141128390676,0.6623501048296696,0.6945756305619811,0.6657433594308898,0.5415350867079003,0.7704013426855246,0.7916327273173381,0.5919942378223503,0.6029339198521958,0.6504565787104051,0.6091824755837312,0.6236690017316795],[0.608820424901294,0.5622954762473058,0.6000430813809496,0.5740220065353996,0.6799876484743418,0.7423378514262636,0.7118267557021568,0.7712863593825586,0.7312347451343998,0.7457610755759707,0.6644874921726278,0.7336080551953715,0.6038681763144567,0.5966395383523507,0.8309090715850881,0.8431082947965786,0.8352151499327305,0.8444069811264069,0.8182460219092734,0.8311622384872558,0.8075955128410139,0.8301645926808449,0.864375290548009,0.7852731147911886,0.8545372283750639,0.8696651908280096,0.8579232437194073,0.8163681811744837,0.821143728754221,0.837942600403823,0.857263696667786,0.8734827714040447,0.8411538364092971,0.8677795556139466,0.7522498393626893,0.7705619165163977,0.7832381427821421,0.9145095675435322,0.7858979849026315,0.8032344441476139,0.7710583162852497,0.8038413871611667,0.823222435523621,0.8497455451623309,0.8391159660433044,0.9999999999999998,0.7681459361728408,0.76330086519998,0.8166971577562191,0.7427139872695038,0.6988907421828763,0.7115276398326091,0.6906302838008573,0.7025324235339222,0.7006426479667589,0.6649257789391639,0.7405353218961899,0.7461344923107324,0.5357906623166884,0.6694096985115804,0.7085180364639309,0.6581539117956497,0.6703575132040842,0.6950762687598018,0.753522002780985,0.7817073800086618,0.6698881830755401,0.617978089821182,0.5778941906715621,0.5297673009854535,0.7207697417035142,0.7816775409220691,0.5443697289117497,0.5824552451486663,0.653060979000803,0.6417074736528405,0.6734174720529221],[0.7507399137603012,0.7169553678004936,0.60347790131871,0.6349633015488033,0.6139226845262947,0.769546595418828,0.7859827621938308,0.8153616575237046,0.7738720809267143,0.7657284790621215,0.6987338882058792,0.8194775189441276,0.6600818763200353,0.6263517570807478,0.8656326692554289,0.9090435248403608,0.82280873925402,0.8532575054400292,0.862290490455808,0.8560185530292868,0.9111676315714581,0.8047712325153298,0.8892856612279393,0.8417203806189029,0.8147341369158201,0.8206395409336908,0.8365522352182477,0.8457681510409806,0.8296046351745613,0.8284619528571525,0.881726748044967,0.8439245312858227,0.9093116575397932,0.8042448482020456,0.8099964595490123,0.8364390466902772,0.8218712937211249,0.7874655098715246,0.8035493245139096,0.8142326620395076,0.8471463055348866,0.7997054392120019,0.8241232609594742,0.7757555934817388,0.8138768077359294,0.7681459361728408,1.0000000000000004,0.7318080351664372,0.73921591462067,0.7013070570339484,0.6723107150312518,0.646905432062146,0.8514451040410311,0.8487783934961639,0.8377380267723292,0.8305085587018781,0.862427902201415,0.8726842606098234,0.5344788416057994,0.5860389129256519,0.5940222186920368,0.610045179111569,0.6167948293238831,0.5819672084281465,0.6863788053462829,0.7004335129780732,0.6254499101901787,0.5574350110455839,0.5700145307620943,0.4878176482910251,0.6927323116783769,0.7102784264075093,0.49441909696708725,0.5755395883743885,0.581225398694029,0.56735766507262,0.633124673139571],[0.6068678017932831,0.5286205422778633,0.6067062247610057,0.5723099948630692,0.5733828904126899,0.6726406041908495,0.6773885687485782,0.7278918067381707,0.7269174535343412,0.7419962181975911,0.6313671901726357,0.6300768286485948,0.5791845709688079,0.5950220485956557,0.7694661997112269,0.8381640061631892,0.7935776720421721,0.7883000120843202,0.7798360861524796,0.7949217823558627,0.7577101566210152,0.7812322579616451,0.784092739321923,0.7286108682658583,0.7981594346073652,0.8124545313638946,0.8203334927870317,0.8039562897616643,0.7682243872371015,0.809222206561429,0.8135963035714122,0.7969022191206745,0.7966092837380329,0.785149625311329,0.6680146859020183,0.7697657414776939,0.6950034109977554,0.7310397389437032,0.7053732582009563,0.7553038548507144,0.7113758641371422,0.7033813402649429,0.761210773799673,0.7528811526918653,0.7897065727409328,0.76330086519998,0.7318080351664372,1.0,0.7455884229389252,0.6867795637114109,0.7917946462977994,0.6526465812589319,0.7218762813006633,0.5891524965363755,0.6469861841056763,0.6518999516024535,0.7469702978926089,0.6526656227391155,0.5191918617811093,0.6163929153904684,0.7204593422613171,0.7094872619903767,0.6314702275364773,0.7201128726759739,0.7456982467606227,0.6594334948022134,0.5785765926565758,0.5583462910445575,0.6249134512084779,0.5758179326971115,0.6604469935108805,0.6677987114485775,0.470733860630886,0.5412778876583372,0.5701602885861594,0.7008484258417873,0.7050151464148704],[0.5973250736262691,0.5421235874890665,0.6294189315216286,0.6073312643014588,0.6490058652415344,0.6445955270314981,0.6844294675673338,0.7371995203224521,0.6803867479009871,0.736140755090136,0.6065037406006542,0.6955178985128642,0.5657641850938454,0.5834395690933427,0.7571444394664925,0.809228490835357,0.7767112807275987,0.7865094760183576,0.7897468327143685,0.7682521991367788,0.7820838723676505,0.7470055666956323,0.8105416166704306,0.7360230831924813,0.8007663902423476,0.7814177125003909,0.8187165654036224,0.768336683687249,0.7413515668897248,0.7793244179431725,0.7841625421459695,0.8023858582572524,0.7920501671584974,0.7728530761418635,0.6728785714089549,0.7579066819724173,0.7481769811470282,0.7777601133436212,0.8107389329130372,0.7421342796005166,0.7270466639694689,0.739130090109163,0.7555631733936092,0.7563872309248305,0.7825931717413497,0.8166971577562191,0.73921591462067,0.7455884229389252,0.9999999999999999,0.7596869821024412,0.6959628119372209,0.7559204344329962,0.6691609207156411,0.6826593113444187,0.661251749516052,0.6336755621110017,0.7113209817653063,0.6830303104442014,0.5518803168556605,0.6069714151325121,0.599264584571956,0.6221654077803059,0.6655465011523529,0.6764400270928687,0.7428474343185225,0.6978081786713011,0.6083604563002596,0.669911106867978,0.577734613837602,0.49025714915780017,0.6615545605357375,0.6928600012840936,0.49864078300390696,0.5813229601941661,0.6066981150583154,0.6382647196780623,0.6273572670734401],[0.5618800015160632,0.5291557890924732,0.5969776486389031,0.5596724407931329,0.6082909060102865,0.616849301583787,0.6475356144897505,0.6495696130427469,0.6871234047778698,0.684345673813033,0.6292755750100825,0.6793137633383588,0.5825335372464387,0.5549422362039171,0.7346894786029057,0.7466609568278587,0.7135881902534144,0.7349120710074027,0.7001451223550781,0.7401277549631432,0.7284169928192178,0.7287309282748899,0.7446301580193545,0.77810446669863,0.7196798395319159,0.7238391307993823,0.742474977988742,0.7553968692774242,0.7656760934703628,0.7523639429831883,0.7381999619188515,0.7875580603486596,0.7663777413806703,0.7141077007657651,0.7141213479010546,0.6865140811033631,0.696879251240841,0.7409870574282443,0.7366158551459067,0.696454060591093,0.6755944893659035,0.7070459190762771,0.6924798090128866,0.7085714227221124,0.7494113267073256,0.7427139872695038,0.7013070570339484,0.6867795637114109,0.7596869821024412,0.9999999999999987,0.6565382065881632,0.6659228602306294,0.6366029333263988,0.6476901544442102,0.6458045775688189,0.6216296238018675,0.6389133019422493,0.6538032561059698,0.39296529846568407,0.5411346343605618,0.5696893853885172,0.5977106852628685,0.6110055807529271,0.5466260072137904,0.6089944249200548,0.6111602189004606,0.5966248700931052,0.5885620542641543,0.598958276808969,0.4745602508461162,0.6172556982329708,0.7134630950750253,0.539811340785385,0.5023605224563472,0.5470664996246796,0.6525703827987116,0.6381115910390182],[0.5662843440020078,0.5713466229911234,0.5771203487129828,0.5290901297801256,0.5128491354837048,0.7045531095157357,0.6638150981365839,0.7299610115650118,0.7288137483030344,0.7230680878788643,0.5897205398893657,0.5880694905595873,0.5125045103195552,0.5456748882697513,0.7398615567886219,0.7655623107583821,0.7682773960997371,0.748114215164506,0.6921207753709117,0.7771648733748434,0.6986832518133959,0.7774331304141818,0.7175513208532486,0.7187857030387428,0.7220922959754221,0.7819214148294215,0.7651720040787692,0.7835175089992299,0.7426285713222734,0.7765347229551423,0.758074641069283,0.7692578391049485,0.7604894230856394,0.7813589974196764,0.6694387727148112,0.713863724874245,0.6798852755188679,0.6845103707464373,0.6942449617411195,0.681236691329368,0.6971897760143145,0.6692858698127341,0.694789677488987,0.7736441085438215,0.73558809248891,0.6988907421828763,0.6723107150312518,0.7917946462977994,0.6959628119372209,0.6565382065881632,1.0000000000000002,0.6569210133449184,0.6783634391523939,0.5819064016358312,0.6109477106037147,0.6210742683339993,0.6852180549078972,0.6358883230430792,0.4773805773954087,0.5551900018066164,0.6510936435627704,0.6640199761091199,0.6033142049522976,0.6175477526309431,0.7385945730948854,0.6315730791919794,0.6529420287160068,0.5829591325597435,0.6867832357765835,0.525834190855983,0.6909356444855408,0.6925091888802662,0.4732461974432637,0.5616151327140387,0.6239103600425017,0.5859522100537475,0.6314156592584276],[0.5571222640325356,0.4299637684745444,0.5582497373200535,0.5103682633613305,0.574375583247934,0.5978532344370292,0.6514144654218764,0.676890946950066,0.6437482613494366,0.6597058051245108,0.5320272495306112,0.6350786643133678,0.4989411579015958,0.5312096914403384,0.6792758227533113,0.7279436812653959,0.6892085355342589,0.7178871018704742,0.6792242024220405,0.701198601053576,0.7201235686486294,0.6982883765965385,0.7212715580249849,0.6781497460033996,0.7173128241855872,0.6975155155682636,0.724169248401368,0.709941567859646,0.6614570269718945,0.7401071721333766,0.7070715255400911,0.736106588880689,0.7233680736190625,0.7259107856339082,0.6459402348640911,0.7183200373010846,0.6650356845636155,0.6851097197570893,0.7038388526449,0.6587569359537154,0.6209029949407738,0.6520786737281873,0.6613384050252145,0.707167272923559,0.7047190613046543,0.7115276398326091,0.646905432062146,0.6526465812589319,0.7559204344329962,0.6659228602306294,0.6569210133449184,1.0000000000000016,0.5823090675391186,0.5955602188877199,0.5724629440324668,0.5563713741617805,0.6354767782628516,0.6273027825049218,0.45715729515422376,0.5582885668543048,0.5354154124626719,0.49979224341852724,0.5478367183799391,0.5841523247807128,0.6816782947471417,0.6516614864599533,0.5586261887433738,0.612835231311054,0.529297826149415,0.40878836906966554,0.6205805464423702,0.6344209365904273,0.41989194586970185,0.5970996808846942,0.6222599197300462,0.550722060363656,0.5945751857440285],[0.8316902634294814,0.8523737600281206,0.5965391531100857,0.5920927140868595,0.5557835240677422,0.7861457602063296,0.7438652783157862,0.7498327187630333,0.7787761184873107,0.7330055634728485,0.6615340913869394,0.6449484981514256,0.6302907872483127,0.6081064022927984,0.8197903858095583,0.8532922703492838,0.8408706964926975,0.8049979866705446,0.8404134581326203,0.8566897696516133,0.8064050104827599,0.8065248165998827,0.7977486864262233,0.78013780275949,0.7887051294617843,0.8325014338531744,0.8137324459894453,0.832738998548332,0.7756309166016894,0.7963029940457449,0.8002881610301668,0.8134989119310594,0.7942274495327033,0.7833035336259397,0.725829722602134,0.823193840930206,0.7633395078041579,0.7083041810661551,0.742924884754498,0.7901869390411376,0.8668459316677533,0.7365589843587685,0.7832465381431024,0.7183238391687595,0.7501600696688775,0.6906302838008573,0.8514451040410311,0.7218762813006633,0.6691609207156411,0.6366029333263988,0.6783634391523939,0.5823090675391186,1.0000000000000002,0.7772658981465433,0.8750372498609411,0.9335243628409419,0.9274536209823092,0.7738269321448848,0.49430667157761415,0.5313137979107581,0.592256596208541,0.5809871792588577,0.5679043244781652,0.580880990567607,0.7337835288488699,0.7125542739752029,0.5940718725037222,0.5089647920506245,0.5287449538794438,0.46474646776995415,0.6505823022988078,0.6715760535683918,0.4266532257347032,0.5185743959180213,0.5201057309835336,0.5399038926864159,0.6249032712460155],[0.8417102585858539,0.705977309670485,0.6192018466903751,0.6616088782390005,0.632480963521855,0.7098283878334131,0.7142020362340619,0.7233541936679844,0.656593768408581,0.625769214079616,0.6284891593119467,0.7569487972058279,0.6243935678190814,0.6005003698445623,0.7752751445591108,0.7980325998043241,0.7470448083752039,0.7448323619178074,0.8080165554288682,0.7163307482844175,0.8079139504795868,0.6948176371047068,0.7928844915155328,0.7861600454743976,0.7659134378704456,0.7469628730350139,0.7631930470011773,0.7239980198627609,0.707566678590225,0.7296638676456103,0.7544380143548594,0.7686969453973264,0.755241933877649,0.7183463621025836,0.7686469645677316,0.753271513482316,0.747967227377071,0.7149188747577672,0.7714702440916038,0.745620613729738,0.7747141556933624,0.7585185180779473,0.7178252872783295,0.7113858369369099,0.7077692976806536,0.7025324235339222,0.8487783934961639,0.5891524965363755,0.6826593113444187,0.6476901544442102,0.5819064016358312,0.5955602188877199,0.7772658981465433,0.9999999999999987,0.8231777700313693,0.8016530898136291,0.7966643016407586,0.9085828568337431,0.5418853428654699,0.5177599735251643,0.5314807674012464,0.5401142072575227,0.5378818223683596,0.5387103904327375,0.6576452676714342,0.688248629302171,0.6554882041382631,0.5173656458172711,0.4594731780928574,0.4073285510969591,0.6243244858918473,0.6393177164921978,0.47499113818648486,0.554103335057778,0.5585054130870021,0.43499979387089094,0.5268181393700015],[0.8224403777851297,0.7553812841683168,0.6955677621572711,0.7308680561298612,0.6510874513559864,0.7504871794912923,0.6885661140501872,0.6886318794456378,0.7058106786670564,0.6280389653124997,0.7050321756637208,0.6695190393009411,0.5637082824909143,0.5619933822695192,0.788178179287342,0.824051883868174,0.7800998691245726,0.7954964352250353,0.8356913262934322,0.7604696798448118,0.8179604685713306,0.7251707504995696,0.7908028522296753,0.7796349997046891,0.7455091247305778,0.7779816082909833,0.8019265888600965,0.7533257164973229,0.7668860960347075,0.7665304077618337,0.7707650424988235,0.7768998566976649,0.7683391636352358,0.7207254628802254,0.7628743219419465,0.783904348167524,0.74743736046494,0.7412806136230478,0.764722649164693,0.7600043654759697,0.8041818344247441,0.8994857717306461,0.7794358004563978,0.7220307802068844,0.7298447118780168,0.7006426479667589,0.8377380267723292,0.6469861841056763,0.661251749516052,0.6458045775688189,0.6109477106037147,0.5724629440324668,0.8750372498609411,0.8231777700313693,1.0000000000000002,0.8891856037941559,0.8609005594410764,0.8114179926272664,0.48756699386833063,0.49541122145491034,0.5504379637463097,0.556661628628967,0.5855928456179512,0.584573110561359,0.6834693311609803,0.7034785200983111,0.6421660619207141,0.5454855894686822,0.4842510727661283,0.4614392380366779,0.6087318458196739,0.6416575881659057,0.4983497760749491,0.4950830989517813,0.5197691239971347,0.4982023329078582,0.5847588007980753],[0.8790725830076476,0.8050043071338837,0.5542136817396199,0.5635753823174788,0.5389153331718117,0.7658003666269821,0.7197353111315219,0.6906638332193747,0.7164943644884961,0.6704501217442803,0.6309474814207399,0.6413149121234263,0.5793755704833774,0.5788995255957882,0.7747353098800615,0.7908792307619207,0.7882955792073694,0.7546502847573153,0.8161162903219938,0.7769296655851017,0.779218882399093,0.7289735300936503,0.7650245975376485,0.751940337835528,0.7372574403116802,0.7922289434173991,0.7725402053612372,0.7710969975092101,0.7339640849042806,0.7407761982043362,0.7375965957170618,0.774243504732147,0.7428258878809537,0.7348851584776188,0.6979670823890379,0.7848311674759907,0.760057238212511,0.704874104814123,0.7379773719270095,0.7565737254123491,0.8652094082749937,0.7028637046344971,0.7654092032682649,0.6985722989788765,0.7085996064057691,0.6649257789391639,0.8305085587018781,0.6518999516024535,0.6336755621110017,0.6216296238018675,0.6210742683339993,0.5563713741617805,0.9335243628409419,0.8016530898136291,0.8891856037941559,1.0000000000000007,0.9014314722308218,0.760660953736984,0.4611277564116407,0.48380291932036174,0.5544767058216463,0.5559311106632608,0.5155410261967004,0.5431709382606817,0.666969485015304,0.6986189641445749,0.5697321349829563,0.4849978092171486,0.48917136835840974,0.43139824272061106,0.5883875419967323,0.6406199226858151,0.39163468644381944,0.49630934268953636,0.5000400248261447,0.48050093947489614,0.5496097011478245],[0.8309633332332504,0.7735407030131126,0.6180828937063917,0.6304379494267175,0.5903577870300274,0.7857336134401836,0.7520235432086727,0.7679974662247727,0.7441892502017579,0.7136248944590695,0.6556872074274478,0.6502896666464405,0.6403945058313973,0.6058763088739064,0.7894112091067953,0.8696923617469288,0.8394229362136388,0.8299911523381257,0.881771168752633,0.8240268718778032,0.8527164395183731,0.7719081134649901,0.8435468973626978,0.7810540846681059,0.8388020763001907,0.8275140105226059,0.8257644563229013,0.8151166493189187,0.7708189715576113,0.8029386291521681,0.821240487472411,0.8268739500065979,0.8102221639821698,0.7976915643732366,0.7152718725266337,0.8766842903331944,0.7975672622053065,0.7631602378142072,0.76308987311436,0.7944090412608985,0.8760493732546928,0.7685293021585813,0.8209386891642715,0.7610193028052706,0.7841299297537772,0.7405353218961899,0.862427902201415,0.7469702978926089,0.7113209817653063,0.6389133019422493,0.6852180549078972,0.6354767782628516,0.9274536209823092,0.7966643016407586,0.8609005594410764,0.9014314722308218,1.0000000000000004,0.8036395348746761,0.5164166981464478,0.5911916324712241,0.6269564989598473,0.604541257118439,0.5879071294016703,0.6434025660141864,0.7503414705862851,0.7353173174678617,0.6503274839050894,0.5546812568176567,0.5311465471793305,0.4843729280000377,0.6620986497452301,0.6775018395206556,0.4498077040242237,0.5752106188402694,0.5805156877253088,0.5831311507773402,0.6507066536911035],[0.7290370609504401,0.659786647963316,0.5864353524854846,0.6612282832017071,0.6198247434108792,0.7355771986830233,0.746436093064397,0.7763114693723362,0.6946886534368062,0.6779741679978828,0.6708646896188474,0.7382156873637226,0.6739910215565352,0.6334207313548419,0.8075091181369219,0.8424532423071048,0.7864509571987798,0.7835680328840384,0.8230280978915618,0.7612833368553267,0.837743097064249,0.7517685075181725,0.8323859054281821,0.7983338736281992,0.8298262304917537,0.7870241507276741,0.7965045974344303,0.7806657824395162,0.7428971319415173,0.777051812354703,0.8280703827027066,0.8033672736194621,0.8106134931432767,0.7560863720995444,0.7851997854394182,0.7851248005727745,0.777860091892596,0.7527194091844147,0.7772670822671862,0.7945343927652864,0.8006508846651516,0.7919932821254316,0.7636313254711896,0.7427150312682658,0.7416887832891114,0.7461344923107324,0.8726842606098234,0.6526656227391155,0.6830303104442014,0.6538032561059698,0.6358883230430792,0.6273027825049218,0.7738269321448848,0.9085828568337431,0.8114179926272664,0.760660953736984,0.8036395348746761,1.0000000000000002,0.5494175701837642,0.5574768861343062,0.5815767753255771,0.5734000572506341,0.5904228620736943,0.5796568493942846,0.6848431162669948,0.7277572235432799,0.6612499177884885,0.5354115117389323,0.5322509332625887,0.4571465281246983,0.6728430021641537,0.6885515442895074,0.48076809370543644,0.5675687205858727,0.6161482902346709,0.5555036530278217,0.6111081374896304],[0.4664304754487828,0.4600364102673149,0.4244817906052394,0.42568362744444044,0.4108432530597794,0.5593178356009415,0.5046748116544643,0.5311456877024971,0.5092563206470383,0.48299696675765713,0.4378802284570718,0.5063625497003994,0.4296610297441259,0.4420319149657172,0.5639629495361405,0.6117808452195337,0.5784597898951573,0.5803126231932784,0.6177262957290641,0.5480820264539533,0.5633682925252936,0.5606557480596859,0.5865015158412171,0.501628887427252,0.6141093031637098,0.5981220291022386,0.581142091810599,0.5573274120800049,0.5166399906707498,0.5493870465716676,0.5692077211282826,0.568702363735028,0.5397005289961403,0.5843813029797802,0.513931064508345,0.5902949139182969,0.5589550255874117,0.48126791178117034,0.5650700445467758,0.5052300416247469,0.511498253438173,0.5366312839175962,0.5353122040248292,0.6049960392830475,0.5191865508522189,0.5357906623166884,0.5344788416057994,0.5191918617811093,0.5518803168556605,0.39296529846568407,0.4773805773954087,0.45715729515422376,0.49430667157761415,0.5418853428654699,0.48756699386833063,0.4611277564116407,0.5164166981464478,0.5494175701837642,1.0000000000000002,0.3986576572639493,0.3774131665253312,0.48018147378713,0.5163445400182215,0.6067610423179043,0.6165463408799624,0.6544713140855738,0.4748358629926636,0.3832396000521501,0.3959117140308518,0.29909267140960305,0.428704807581712,0.4622659712650628,0.454948306904941,0.5949050930578028,0.5700769433810311,0.4780040661509675,0.4797220427007796],[0.5094115523113973,0.41862164325931167,0.515221813873486,0.4969252747974018,0.5172331234638818,0.559643510923319,0.549303429516424,0.6232985229378091,0.5705294091758398,0.6153129712438024,0.5169918308628758,0.5002619733103262,0.5270413341864618,0.5253977505244415,0.6364638464682052,0.6644453515837078,0.6330195248448187,0.7213774304000288,0.6392568305252715,0.665182469426394,0.629474585479867,0.6151403235147613,0.6600198790345482,0.6078468400049105,0.6751991694245402,0.6417826880766953,0.690896970440541,0.642824275115093,0.6324729961673823,0.6368329573944981,0.6689053131876285,0.6686150209969938,0.663942015491367,0.6794490620777462,0.5446945881423044,0.6481000002853023,0.6093209964842737,0.6266753775492279,0.5763618626685333,0.6258617135317708,0.5791169203494747,0.5925662946752708,0.6145876598832607,0.6490133455592804,0.7567820911934765,0.6694096985115804,0.5860389129256519,0.6163929153904684,0.6069714151325121,0.5411346343605618,0.5551900018066164,0.5582885668543048,0.5313137979107581,0.5177599735251643,0.49541122145491034,0.48380291932036174,0.5911916324712241,0.5574768861343062,0.3986576572639493,0.9999999999999996,0.6207814937953523,0.5446064908816862,0.4821729404932888,0.5706702931775487,0.6367925798634855,0.6049892143168116,0.558755378771595,0.4795034370125645,0.47840590311972714,0.4858985278425376,0.6015658678604606,0.6129916158964106,0.4365741734451907,0.568175726910094,0.5509227165844608,0.5313204077722437,0.4643213278524825],[0.5068104913222412,0.4547676440003264,0.5206104602799589,0.4644250436179338,0.4990253048441156,0.5827171004809165,0.5829785512776875,0.5887742671138588,0.6284107244122031,0.630550537445892,0.5183803864424822,0.4958592412005337,0.4965441800240846,0.4651687685240901,0.6715790467812606,0.6796750948834475,0.6583555089039834,0.6745690707922677,0.6593171289014605,0.692114707311233,0.6321812068791264,0.6848947122883334,0.6581114432405945,0.610770524281351,0.7018059028072942,0.7227483758662873,0.6828732349009322,0.6865834857732274,0.6487204908768529,0.6744713164473494,0.6770575630748485,0.6810868825440239,0.6675104339218482,0.7178304607625251,0.5564122392255978,0.6286946444752625,0.5935446090898239,0.6168478762830725,0.5972351348835675,0.6426540724900652,0.6314694344797576,0.6003789765958624,0.6401454806087997,0.6588312862633071,0.6710219032298975,0.7085180364639309,0.5940222186920368,0.7204593422613171,0.599264584571956,0.5696893853885172,0.6510936435627704,0.5354154124626719,0.592256596208541,0.5314807674012464,0.5504379637463097,0.5544767058216463,0.6269564989598473,0.5815767753255771,0.3774131665253312,0.6207814937953523,0.9999999999999989,0.6557466861151892,0.613868790374186,0.640272491036737,0.6577052512570747,0.5986432438925502,0.5301133384513554,0.4571167058532598,0.46890496178620156,0.690204242145277,0.5757841717638073,0.5933417304880014,0.4511251934323697,0.4917309244577199,0.5504306651741352,0.5495716155936788,0.4988067053208819],[0.5368326926224481,0.5002874029350364,0.5109764202934605,0.48969573323173843,0.45690575777897746,0.6157846313551806,0.5725348848476939,0.6123787030891505,0.588016188026345,0.6036813628097157,0.5345537882312319,0.5373701210691272,0.5080540417429067,0.4520050500494219,0.6677956833914896,0.6806511754903283,0.6521909222634423,0.6749607614895884,0.6748412108695794,0.650389139203451,0.6202561005162174,0.6458731709178267,0.6698577950079001,0.636379288658721,0.7022644427930502,0.7052200889654485,0.6800423143734198,0.6920016218700729,0.6639465987456407,0.6964128105686471,0.6769898718971313,0.6750524303487306,0.671617215846672,0.7153425314820044,0.5883180834150125,0.6099695368058861,0.583392156485303,0.6055017196938809,0.5947045605945035,0.6196605086288848,0.627512989196288,0.6079212276340918,0.6842665168491571,0.7037185213675476,0.7114143957286164,0.6581539117956497,0.610045179111569,0.7094872619903767,0.6221654077803059,0.5977106852628685,0.6640199761091199,0.49979224341852724,0.5809871792588577,0.5401142072575227,0.556661628628967,0.5559311106632608,0.604541257118439,0.5734000572506341,0.48018147378713,0.5446064908816862,0.6557466861151892,1.0,0.5958354514758091,0.5424705809814611,0.6054414756359692,0.5669482164127043,0.5835987645147327,0.5351212196269778,0.7160045094191155,0.49375949282082543,0.6090990386658678,0.6218417367696287,0.5487765030368478,0.5004549763230535,0.4852164140512612,0.558172768835539,0.47261255996675805],[0.42799743361783554,0.44013515260338215,0.5610008201549352,0.5056445630051369,0.5467270490989783,0.6124610388147691,0.5521236083724389,0.6215492370019186,0.6629664799791954,0.6289598697102285,0.6040290183949909,0.536737727224399,0.524765302748579,0.47402400586280774,0.6852931345258695,0.7114397954501528,0.6757537612469554,0.7158148033315591,0.6644350532433678,0.6964481584193434,0.6415706491198248,0.6587559993156873,0.67885805705362,0.6797744029923243,0.6718897562899798,0.7172495580387521,0.7040416192487945,0.692915387739574,0.7062537837798112,0.647193771651726,0.6708491528699163,0.6973330696006674,0.6770352135188414,0.6634814964245663,0.6040519894889634,0.6011300008515317,0.594780227255997,0.6221349351690884,0.6287704935717141,0.6117663758401564,0.5885230518529693,0.6658296282055091,0.694201672955629,0.6890466310690729,0.6872750078103194,0.6703575132040842,0.6167948293238831,0.6314702275364773,0.6655465011523529,0.6110055807529271,0.6033142049522976,0.5478367183799391,0.5679043244781652,0.5378818223683596,0.5855928456179512,0.5155410261967004,0.5879071294016703,0.5904228620736943,0.5163445400182215,0.4821729404932888,0.613868790374186,0.5958354514758091,1.0000000000000009,0.6660804888744633,0.6162746472420331,0.6163013174486259,0.5093029929347783,0.5180056956328827,0.477444478641115,0.5286742394278505,0.5676949679498214,0.6308944554626414,0.6385344971423536,0.5044539678008169,0.5413285928780105,0.5500886870435948,0.46821872401186787],[0.48153441133542535,0.4403015564086494,0.5483326632079055,0.5285996574535121,0.5651098491668419,0.6239437340039037,0.5578917255042111,0.5893274050808697,0.599782181285965,0.6046065991051314,0.5759651076929024,0.5012625644306812,0.5017952236038954,0.48080908259806815,0.6549167863538606,0.7120978029676756,0.6808909773818485,0.6614266080060781,0.6891445407791342,0.6710115470062304,0.6450217780165152,0.6582144338010952,0.6783911210711429,0.6031258552543677,0.7218758607901264,0.714469799291303,0.7160260391314701,0.6658276994932395,0.663553528753443,0.6697463507724805,0.6823539141233548,0.6989584681080043,0.6584819545356557,0.6834474523659821,0.5870684529944934,0.6461788095655754,0.6246342332837781,0.6339957593525036,0.6182458213029799,0.6306492740481617,0.6348524675826018,0.6606001291339993,0.692619586466681,0.6922279137469801,0.6508421917358749,0.6950762687598018,0.5819672084281465,0.7201128726759739,0.6764400270928687,0.5466260072137904,0.6175477526309431,0.5841523247807128,0.580880990567607,0.5387103904327375,0.584573110561359,0.5431709382606817,0.6434025660141864,0.5796568493942846,0.6067610423179043,0.5706702931775487,0.640272491036737,0.5424705809814611,0.6660804888744633,1.000000000000001,0.751981000557625,0.7778640945980481,0.5920962811363276,0.5045117035300128,0.46424092651094,0.45268508653142886,0.5346579564267946,0.6076767840987882,0.5172567902764384,0.6419699522551813,0.6824277481651054,0.6834131749925977,0.5748633974663367],[0.6498961659515845,0.6030724365257503,0.5870140138233033,0.5682541091901223,0.5899161501811083,0.720582939745492,0.6609739728204067,0.7112688903315993,0.7314456146292698,0.685225069120204,0.6202969270358532,0.5956942169268994,0.5532619367029196,0.5691367283762466,0.7396531426865518,0.7964863974918911,0.7852301462225336,0.7867790100634164,0.7873871497913184,0.7974512616684786,0.7612338263232501,0.7806972206823861,0.7758784268289344,0.7191178366638211,0.8166414504902151,0.8145519166025692,0.8193425107270246,0.782494515405334,0.7395894030104252,0.7610327507852508,0.7858696738589547,0.7947680381645859,0.7559602121595516,0.7952392022763984,0.6547527252224317,0.7433316333601055,0.693216793398213,0.7293031112772683,0.7359551135450838,0.7334683615605547,0.7657020012367624,0.7292330322469343,0.721693016487781,0.771564805876415,0.7718121951395854,0.753522002780985,0.6863788053462829,0.7456982467606227,0.7428474343185225,0.6089944249200548,0.7385945730948854,0.6816782947471417,0.7337835288488699,0.6576452676714342,0.6834693311609803,0.666969485015304,0.7503414705862851,0.6848431162669948,0.6165463408799624,0.6367925798634855,0.6577052512570747,0.6054414756359692,0.6162746472420331,0.751981000557625,0.9999999999999998,0.8258993396804715,0.6076834616068886,0.5537657216732887,0.5498272522933254,0.47287637396445137,0.677608540017422,0.7011683873643585,0.4948273827371253,0.6469928753004732,0.6423356429489342,0.600597539793519,0.6937996059045841],[0.6655309472279202,0.6400323709833883,0.5593863959619599,0.5420525195666462,0.5921583717536562,0.7279130905974698,0.6660118670101365,0.7053992852145152,0.6702170918687239,0.6764394200724527,0.6175917239179541,0.6249986680069406,0.5472481856888657,0.5529551139069926,0.7600611715286867,0.7885105979441045,0.7678047534559946,0.7706986911014625,0.8034372669479874,0.7767853732371908,0.7576692656499322,0.7322718081584374,0.8037176978735076,0.7251036009711453,0.8292439645233058,0.8140575056690648,0.8094957062948487,0.7488407530848479,0.7346258477687962,0.7700758553792125,0.7831038052460301,0.8247450529766059,0.7520316355383365,0.789743714357412,0.6863579160879296,0.7392021319780467,0.7332050266215672,0.7493273177846004,0.7528977240400209,0.7277415087566959,0.7622725284212222,0.7330185763478123,0.7363701705324047,0.7923191741680619,0.7498141128390676,0.7817073800086618,0.7004335129780732,0.6594334948022134,0.6978081786713011,0.6111602189004606,0.6315730791919794,0.6516614864599533,0.7125542739752029,0.688248629302171,0.7034785200983111,0.6986189641445749,0.7353173174678617,0.7277572235432799,0.6544713140855738,0.6049892143168116,0.5986432438925502,0.5669482164127043,0.6163013174486259,0.7778640945980481,0.8258993396804715,1.0000000000000002,0.6464482779502653,0.5085316567158634,0.496517947115402,0.4396278898805121,0.658662777774849,0.7228482353926615,0.4801550213111524,0.6578791963980248,0.6968011345666094,0.6239995509261226,0.6461345876966971],[0.6003549906787645,0.5883009972313209,0.6195947128302284,0.598931337500441,0.5800476739615595,0.6075214426686076,0.5600149861812486,0.6526071413904178,0.5376432288629263,0.5366571970466707,0.5310778842190867,0.577456319180456,0.48091101829273303,0.5216634738975121,0.6342979324904245,0.6730512834394836,0.6474268900514127,0.6562562053224746,0.6473795885735527,0.6184225370231451,0.6477561258630465,0.5987812888299819,0.6639953416690215,0.6543430575901166,0.6813020199948577,0.6304358890751218,0.6951552865679126,0.6298255386306821,0.6581212515362647,0.7029372282403825,0.6639860967271847,0.7112457739664805,0.6590147345845415,0.6960367030197319,0.6668522079141934,0.6423532016634302,0.6325465301346249,0.6786700362895329,0.648504880437576,0.6033987750193207,0.6225219510608447,0.6996662891566917,0.6868016558342486,0.7038989511298853,0.6623501048296696,0.6698881830755401,0.6254499101901787,0.5785765926565758,0.6083604563002596,0.5966248700931052,0.6529420287160068,0.5586261887433738,0.5940718725037222,0.6554882041382631,0.6421660619207141,0.5697321349829563,0.6503274839050894,0.6612499177884885,0.4748358629926636,0.558755378771595,0.5301133384513554,0.5835987645147327,0.5093029929347783,0.5920962811363276,0.6076834616068886,0.6464482779502653,0.9999999999999997,0.5239011436450735,0.5516869610166926,0.44710586640012817,0.5738546833497473,0.6132632345531513,0.6486383379782896,0.593284271868038,0.6219093702637952,0.45412547065349845,0.4779993418861976],[0.4421708307768505,0.4188809481235305,0.5745047113382021,0.505596949968489,0.5407606262631552,0.5770120125990323,0.5959341704396517,0.5572938582518302,0.5845561471578291,0.5938169873996675,0.5546586836728753,0.5293750998592838,0.4380920220563089,0.4530666172715683,0.5952620924578677,0.6428276161822606,0.6173685051737858,0.6982982401144862,0.5913812835413736,0.6085891661607721,0.6338602751054891,0.6321275691090316,0.6178253308413642,0.5992623039655468,0.5756550036124863,0.5993590798589395,0.6257205980221073,0.6354935291974909,0.6232141536807125,0.6377083220476788,0.6398549836452083,0.618843484555801,0.6637789363393323,0.6115154385178327,0.5736292929988298,0.5952533354878247,0.6128689371279082,0.6006401154722268,0.6771981750659041,0.6024771621170564,0.546246361983733,0.6299466338591302,0.6137561271201626,0.6513852751464752,0.6945756305619811,0.617978089821182,0.5574350110455839,0.5583462910445575,0.669911106867978,0.5885620542641543,0.5829591325597435,0.612835231311054,0.5089647920506245,0.5173656458172711,0.5454855894686822,0.4849978092171486,0.5546812568176567,0.5354115117389323,0.3832396000521501,0.4795034370125645,0.4571167058532598,0.5351212196269778,0.5180056956328827,0.5045117035300128,0.5537657216732887,0.5085316567158634,0.5239011436450735,1.0000000000000004,0.5785860665194827,0.3739274800218484,0.5936711727204156,0.6423731735023159,0.4845165211406178,0.4831219351684882,0.47107055275683196,0.38363185564238195,0.386981924412808],[0.43552352989129567,0.4572255630920872,0.4372899261702651,0.4322085179898761,0.419038398582933,0.542415512096038,0.5143838862236267,0.5714810950032244,0.5074194658419748,0.5881488370592701,0.4681330666020378,0.5848457892730696,0.4439371821867167,0.4331542798988741,0.5719860342752967,0.5961973128427033,0.5540239538228707,0.6241546268893117,0.5505487593197439,0.5907929823315012,0.5568688605642186,0.5852086655778925,0.5899253415516162,0.5757056749266406,0.6327514441724689,0.5872885733036847,0.5895646941516886,0.6046126126728465,0.6008998124084455,0.6664864002972231,0.6139982177228481,0.6134254471481826,0.6237783258368746,0.610154648339781,0.5390057074457736,0.5459804323447108,0.5187701877906213,0.5406527508255049,0.5642339715390954,0.5290027004321213,0.5805883313002528,0.5280097611974053,0.5595359142823815,0.6194316352772972,0.6657433594308898,0.5778941906715621,0.5700145307620943,0.6249134512084779,0.577734613837602,0.598958276808969,0.6867832357765835,0.529297826149415,0.5287449538794438,0.4594731780928574,0.4842510727661283,0.48917136835840974,0.5311465471793305,0.5322509332625887,0.3959117140308518,0.47840590311972714,0.46890496178620156,0.7160045094191155,0.477444478641115,0.46424092651094,0.5498272522933254,0.496517947115402,0.5516869610166926,0.5785860665194827,1.0000000000000002,0.4350994158612924,0.532631423646085,0.580469645727286,0.39894712560053003,0.4378425112088983,0.4388261612144251,0.510136590510476,0.5207214677928786],[0.4067125803646675,0.3809910061793947,0.4914316363826619,0.40251320392711026,0.4460441089786567,0.4572887780824117,0.47004838229371776,0.4673041978732656,0.4890801168041206,0.5301465246650461,0.4145355937834153,0.4733170700037904,0.2975473609947886,0.40932688123407185,0.5274332639217925,0.5400959357499308,0.5228541968775172,0.5424515535028597,0.5190248340614287,0.5291073131310717,0.5034853314359826,0.542348790042155,0.523395603400763,0.5037741227000277,0.5093448045941125,0.5330242887742331,0.5282737724285167,0.5315420940208809,0.5315687453575338,0.5773833121763023,0.559149024059356,0.5251671242700119,0.5416292885608553,0.5443295863523308,0.42653495159833477,0.510648240671021,0.48809634789983264,0.4939967483809803,0.4711382127099681,0.5106229465999083,0.48462768713302823,0.5047227978546712,0.5200737258306117,0.5469852591072926,0.5415350867079003,0.5297673009854535,0.4878176482910251,0.5758179326971115,0.49025714915780017,0.4745602508461162,0.525834190855983,0.40878836906966554,0.46474646776995415,0.4073285510969591,0.4614392380366779,0.43139824272061106,0.4843729280000377,0.4571465281246983,0.29909267140960305,0.4858985278425376,0.690204242145277,0.49375949282082543,0.5286742394278505,0.45268508653142886,0.47287637396445137,0.4396278898805121,0.44710586640012817,0.3739274800218484,0.4350994158612924,1.0000000000000013,0.426426755933834,0.4538756505090778,0.32891011926482083,0.345060447384143,0.3934817176709158,0.38142665113408425,0.351810301863621],[0.5374669128845313,0.5117616880370972,0.5674860206296877,0.5278864855972538,0.583286816763407,0.6695665749927201,0.7034229595762249,0.7613752758747188,0.7619438861855291,0.7487251425876338,0.6611521945179581,0.606415824114499,0.5657654230345893,0.5483835967987263,0.75472243864697,0.7793223453443714,0.755503269155319,0.7955651961529271,0.7011488123638553,0.790351276897113,0.7625061982574621,0.7879838756689552,0.7631460352837222,0.75452142960572,0.7310182879712426,0.7779591842079169,0.7695061980714244,0.8109503967716217,0.7781575865171455,0.7518994772200276,0.777906623827866,0.7971371275151884,0.8266302647120698,0.7707988892792219,0.7043793213845747,0.7147991482619833,0.6881770765294772,0.7101486580940063,0.7757940281765789,0.7302075096584302,0.6835315621418357,0.6890044122399803,0.726615630053339,0.7400283221709072,0.7704013426855246,0.7207697417035142,0.6927323116783769,0.6604469935108805,0.6615545605357375,0.6172556982329708,0.6909356444855408,0.6205805464423702,0.6505823022988078,0.6243244858918473,0.6087318458196739,0.5883875419967323,0.6620986497452301,0.6728430021641537,0.428704807581712,0.6015658678604606,0.5757841717638073,0.6090990386658678,0.5676949679498214,0.5346579564267946,0.677608540017422,0.658662777774849,0.5738546833497473,0.5936711727204156,0.532631423646085,0.426426755933834,1.0,0.8763934069088292,0.5411652507617716,0.5666334867841628,0.5510252318132124,0.5664612664650129,0.5840837892355166],[0.5456043583376582,0.5532071039788108,0.5530377978992729,0.48772027638500104,0.58779549850914,0.7361950542300035,0.7170866169795511,0.7370247690824082,0.8044136061056844,0.7440981717564266,0.7454554585234566,0.6555433961626165,0.602846567026484,0.5677056267612148,0.7969214490043183,0.7923711057345908,0.7924479917084984,0.811514167804491,0.7389998937166729,0.8150659234785652,0.7926169860084692,0.8126899665731122,0.7834096690211486,0.7867047961123823,0.7515352224641825,0.8092130461866438,0.801168203409456,0.8395060269410695,0.8411589428814585,0.7858466109127493,0.7959644984205911,0.8240658905789737,0.8220096976061808,0.8029924515105582,0.7555383776593747,0.7206253805483792,0.746838766043239,0.7741059973960248,0.7751088166438355,0.7509278380453093,0.7285174740284475,0.7162766111794985,0.7861342986420514,0.7894591848236019,0.7916327273173381,0.7816775409220691,0.7102784264075093,0.6677987114485775,0.6928600012840936,0.7134630950750253,0.6925091888802662,0.6344209365904273,0.6715760535683918,0.6393177164921978,0.6416575881659057,0.6406199226858151,0.6775018395206556,0.6885515442895074,0.4622659712650628,0.6129916158964106,0.5933417304880014,0.6218417367696287,0.6308944554626414,0.6076767840987882,0.7011683873643585,0.7228482353926615,0.6132632345531513,0.6423731735023159,0.580469645727286,0.4538756505090778,0.8763934069088292,1.0000000000000009,0.5253742600785374,0.5935928725280126,0.6148502593077309,0.6119869486105206,0.6244251469708618],[0.3758355055876244,0.40288271321792324,0.4828768542541292,0.5077850763263626,0.4802072347538194,0.4554768597458564,0.42490037968755295,0.4902334052163625,0.4889066600294244,0.46097404582836676,0.4521398225893628,0.45787489017504474,0.4059508420296805,0.4214700500085275,0.5259776006539365,0.5428262716282359,0.4979953371788369,0.5599944934270005,0.500073087045416,0.51029764949986,0.5083302343747722,0.49963379333891317,0.5297328183009953,0.5544164163216696,0.5143966551758508,0.521134765226051,0.5443170962738799,0.5268922852880176,0.5624363655668129,0.48939850694899273,0.5239988898310953,0.5703216803250959,0.5639519308623793,0.5382327264066599,0.5580738052834568,0.45930990644335634,0.4512221090871965,0.5182732874258865,0.5131037300626046,0.4693400643699383,0.4571331223822635,0.5735664909068087,0.5298166562432419,0.5619461907066757,0.5919942378223503,0.5443697289117497,0.49441909696708725,0.470733860630886,0.49864078300390696,0.539811340785385,0.4732461974432637,0.41989194586970185,0.4266532257347032,0.47499113818648486,0.4983497760749491,0.39163468644381944,0.4498077040242237,0.48076809370543644,0.454948306904941,0.4365741734451907,0.4511251934323697,0.5487765030368478,0.6385344971423536,0.5172567902764384,0.4948273827371253,0.4801550213111524,0.6486383379782896,0.4845165211406178,0.39894712560053003,0.32891011926482083,0.5411652507617716,0.5253742600785374,1.0,0.46554834119125427,0.45964243203362093,0.44892212829606254,0.34940474893331686],[0.473310295087894,0.4928711205265488,0.5158780323010028,0.4214491964908025,0.4354326820809763,0.5937632923836691,0.6168996439661216,0.5709728098363197,0.5800838795820589,0.56086884521748,0.5130552546104734,0.5863184431740606,0.49242923370524355,0.4661898771333974,0.6145279448536484,0.6522726624342322,0.635181531345523,0.6400999729937986,0.624625187767145,0.6026041360491132,0.6126017854483156,0.5926485290857013,0.6640816731004,0.6001333658592001,0.6524139255307989,0.6367253283346925,0.6537635519987766,0.6391177273910659,0.594999301517642,0.6093651734868687,0.6068419258564652,0.645975118253154,0.6417085575260597,0.6739971030170218,0.6195541240619235,0.6166450109316987,0.604458024240984,0.5865109055285553,0.5765194497777779,0.5934508779397346,0.583134439767237,0.5516629945247158,0.6076261920604956,0.6715737751507298,0.6029339198521958,0.5824552451486663,0.5755395883743885,0.5412778876583372,0.5813229601941661,0.5023605224563472,0.5616151327140387,0.5970996808846942,0.5185743959180213,0.554103335057778,0.4950830989517813,0.49630934268953636,0.5752106188402694,0.5675687205858727,0.5949050930578028,0.568175726910094,0.4917309244577199,0.5004549763230535,0.5044539678008169,0.6419699522551813,0.6469928753004732,0.6578791963980248,0.593284271868038,0.4831219351684882,0.4378425112088983,0.345060447384143,0.5666334867841628,0.5935928725280126,0.46554834119125427,0.9999999999999994,0.7591461424606474,0.46864911870254833,0.48689376266491013],[0.46431715210515895,0.4437924172008417,0.4750492999651634,0.5083937182662496,0.44827685063829814,0.6405219781382842,0.5882614020595511,0.6132067080265613,0.6097541111549679,0.5924502870703637,0.5183548919802572,0.5255625522224867,0.4996212619449878,0.4793469731256359,0.6282006385064657,0.6686475254647565,0.6489851947236572,0.6412991699280023,0.6375098016442767,0.6551118657320711,0.613895767333938,0.6279022878118289,0.652902534654466,0.6297350163503451,0.7048019499435709,0.6754769656705444,0.6932496184869016,0.6439171779873543,0.6259434878841721,0.65120497937364,0.6408945870525086,0.679416570709323,0.6556302364301807,0.6936614075635613,0.6166676408959506,0.6333319967605954,0.6171206984532225,0.6274483421262628,0.5932215064741617,0.6210616648315392,0.6012579281345909,0.5953756376535936,0.6703918727181746,0.7150441597832549,0.6504565787104051,0.653060979000803,0.581225398694029,0.5701602885861594,0.6066981150583154,0.5470664996246796,0.6239103600425017,0.6222599197300462,0.5201057309835336,0.5585054130870021,0.5197691239971347,0.5000400248261447,0.5805156877253088,0.6161482902346709,0.5700769433810311,0.5509227165844608,0.5504306651741352,0.4852164140512612,0.5413285928780105,0.6824277481651054,0.6423356429489342,0.6968011345666094,0.6219093702637952,0.47107055275683196,0.4388261612144251,0.3934817176709158,0.5510252318132124,0.6148502593077309,0.45964243203362093,0.7591461424606474,0.9999999999999994,0.4968899637461047,0.499737154342476],[0.39151229745027166,0.39493137578165965,0.47137948012681835,0.4315648017188426,0.496389387411045,0.49518856887584684,0.5062067595265842,0.6092568684110736,0.5526691883233653,0.6180338206339528,0.5402044847171903,0.47784795513469386,0.49174265921757154,0.40902786579300304,0.5886720279510643,0.6569253993470434,0.614598489640745,0.6245378272221073,0.6189690457765257,0.6280591364900775,0.6075303311224851,0.6016612089648503,0.644307139181827,0.5871932227315445,0.6978393564434352,0.6451396793520546,0.6412914208510648,0.6233251411589666,0.6083904611990308,0.5922349513324283,0.643482141395413,0.6639402905114995,0.6438435036264004,0.5977533502704858,0.5420809491384903,0.627909129090112,0.5837648969744629,0.5946562851696432,0.5893416215140573,0.5803421139961369,0.5878573408292392,0.568808849972715,0.5566809540709766,0.5592225181725808,0.6091824755837312,0.6417074736528405,0.56735766507262,0.7008484258417873,0.6382647196780623,0.6525703827987116,0.5859522100537475,0.550722060363656,0.5399038926864159,0.43499979387089094,0.4982023329078582,0.48050093947489614,0.5831311507773402,0.5555036530278217,0.4780040661509675,0.5313204077722437,0.5495716155936788,0.558172768835539,0.5500886870435948,0.6834131749925977,0.600597539793519,0.6239995509261226,0.45412547065349845,0.38363185564238195,0.510136590510476,0.38142665113408425,0.5664612664650129,0.6119869486105206,0.44892212829606254,0.46864911870254833,0.4968899637461047,1.0,0.7317073622048202],[0.494546040554357,0.4698392072981765,0.48450568558408635,0.46151751164566207,0.5364058849460848,0.5755149062258428,0.5634191373996091,0.6289240064054287,0.6010113976339366,0.6009396892011618,0.5641969289741658,0.57757893363911,0.5401560393624002,0.4706018481425539,0.6383520033120494,0.7313566370992706,0.6631515721990396,0.6645146656200962,0.7185983386162562,0.6733169728915703,0.6986303975480426,0.6715882048602104,0.7303112153706771,0.6409669913068721,0.7461070979979669,0.6844530319217348,0.6818116404955058,0.6645072542204503,0.6495858998264175,0.6581776048602018,0.7131479944549055,0.704204058418584,0.675472457630524,0.6565316756719607,0.631471751137243,0.6717827480023988,0.6086905406430732,0.6321929013444014,0.5982375678119476,0.619562977607157,0.6300963556949165,0.6219115585596264,0.5702369705190165,0.585537934443083,0.6236690017316795,0.6734174720529221,0.633124673139571,0.7050151464148704,0.6273572670734401,0.6381115910390182,0.6314156592584276,0.5945751857440285,0.6249032712460155,0.5268181393700015,0.5847588007980753,0.5496097011478245,0.6507066536911035,0.6111081374896304,0.4797220427007796,0.4643213278524825,0.4988067053208819,0.47261255996675805,0.46821872401186787,0.5748633974663367,0.6937996059045841,0.6461345876966971,0.4779993418861976,0.386981924412808,0.5207214677928786,0.351810301863621,0.5840837892355166,0.6244251469708618,0.34940474893331686,0.48689376266491013,0.499737154342476,0.7317073622048202,0.9999999999999992]],\"type\":\"heatmap\",\"xaxis\":\"x\",\"yaxis\":\"y\",\"hovertemplate\":\"x: %{x}<br>y: %{y}<br>Similarity Score: %{z}<extra></extra>\"}],                        {\"template\":{\"data\":{\"bar\":[{\"error_x\":{\"color\":\"#2a3f5f\"},\"error_y\":{\"color\":\"#2a3f5f\"},\"marker\":{\"line\":{\"color\":\"#E5ECF6\",\"width\":0.5},\"pattern\":{\"fillmode\":\"overlay\",\"size\":10,\"solidity\":0.2}},\"type\":\"bar\"}],\"barpolar\":[{\"marker\":{\"line\":{\"color\":\"#E5ECF6\",\"width\":0.5},\"pattern\":{\"fillmode\":\"overlay\",\"size\":10,\"solidity\":0.2}},\"type\":\"barpolar\"}],\"carpet\":[{\"aaxis\":{\"endlinecolor\":\"#2a3f5f\",\"gridcolor\":\"white\",\"linecolor\":\"white\",\"minorgridcolor\":\"white\",\"startlinecolor\":\"#2a3f5f\"},\"baxis\":{\"endlinecolor\":\"#2a3f5f\",\"gridcolor\":\"white\",\"linecolor\":\"white\",\"minorgridcolor\":\"white\",\"startlinecolor\":\"#2a3f5f\"},\"type\":\"carpet\"}],\"choropleth\":[{\"colorbar\":{\"outlinewidth\":0,\"ticks\":\"\"},\"type\":\"choropleth\"}],\"contour\":[{\"colorbar\":{\"outlinewidth\":0,\"ticks\":\"\"},\"colorscale\":[[0.0,\"#0d0887\"],[0.1111111111111111,\"#46039f\"],[0.2222222222222222,\"#7201a8\"],[0.3333333333333333,\"#9c179e\"],[0.4444444444444444,\"#bd3786\"],[0.5555555555555556,\"#d8576b\"],[0.6666666666666666,\"#ed7953\"],[0.7777777777777778,\"#fb9f3a\"],[0.8888888888888888,\"#fdca26\"],[1.0,\"#f0f921\"]],\"type\":\"contour\"}],\"contourcarpet\":[{\"colorbar\":{\"outlinewidth\":0,\"ticks\":\"\"},\"type\":\"contourcarpet\"}],\"heatmap\":[{\"colorbar\":{\"outlinewidth\":0,\"ticks\":\"\"},\"colorscale\":[[0.0,\"#0d0887\"],[0.1111111111111111,\"#46039f\"],[0.2222222222222222,\"#7201a8\"],[0.3333333333333333,\"#9c179e\"],[0.4444444444444444,\"#bd3786\"],[0.5555555555555556,\"#d8576b\"],[0.6666666666666666,\"#ed7953\"],[0.7777777777777778,\"#fb9f3a\"],[0.8888888888888888,\"#fdca26\"],[1.0,\"#f0f921\"]],\"type\":\"heatmap\"}],\"heatmapgl\":[{\"colorbar\":{\"outlinewidth\":0,\"ticks\":\"\"},\"colorscale\":[[0.0,\"#0d0887\"],[0.1111111111111111,\"#46039f\"],[0.2222222222222222,\"#7201a8\"],[0.3333333333333333,\"#9c179e\"],[0.4444444444444444,\"#bd3786\"],[0.5555555555555556,\"#d8576b\"],[0.6666666666666666,\"#ed7953\"],[0.7777777777777778,\"#fb9f3a\"],[0.8888888888888888,\"#fdca26\"],[1.0,\"#f0f921\"]],\"type\":\"heatmapgl\"}],\"histogram\":[{\"marker\":{\"pattern\":{\"fillmode\":\"overlay\",\"size\":10,\"solidity\":0.2}},\"type\":\"histogram\"}],\"histogram2d\":[{\"colorbar\":{\"outlinewidth\":0,\"ticks\":\"\"},\"colorscale\":[[0.0,\"#0d0887\"],[0.1111111111111111,\"#46039f\"],[0.2222222222222222,\"#7201a8\"],[0.3333333333333333,\"#9c179e\"],[0.4444444444444444,\"#bd3786\"],[0.5555555555555556,\"#d8576b\"],[0.6666666666666666,\"#ed7953\"],[0.7777777777777778,\"#fb9f3a\"],[0.8888888888888888,\"#fdca26\"],[1.0,\"#f0f921\"]],\"type\":\"histogram2d\"}],\"histogram2dcontour\":[{\"colorbar\":{\"outlinewidth\":0,\"ticks\":\"\"},\"colorscale\":[[0.0,\"#0d0887\"],[0.1111111111111111,\"#46039f\"],[0.2222222222222222,\"#7201a8\"],[0.3333333333333333,\"#9c179e\"],[0.4444444444444444,\"#bd3786\"],[0.5555555555555556,\"#d8576b\"],[0.6666666666666666,\"#ed7953\"],[0.7777777777777778,\"#fb9f3a\"],[0.8888888888888888,\"#fdca26\"],[1.0,\"#f0f921\"]],\"type\":\"histogram2dcontour\"}],\"mesh3d\":[{\"colorbar\":{\"outlinewidth\":0,\"ticks\":\"\"},\"type\":\"mesh3d\"}],\"parcoords\":[{\"line\":{\"colorbar\":{\"outlinewidth\":0,\"ticks\":\"\"}},\"type\":\"parcoords\"}],\"pie\":[{\"automargin\":true,\"type\":\"pie\"}],\"scatter\":[{\"marker\":{\"colorbar\":{\"outlinewidth\":0,\"ticks\":\"\"}},\"type\":\"scatter\"}],\"scatter3d\":[{\"line\":{\"colorbar\":{\"outlinewidth\":0,\"ticks\":\"\"}},\"marker\":{\"colorbar\":{\"outlinewidth\":0,\"ticks\":\"\"}},\"type\":\"scatter3d\"}],\"scattercarpet\":[{\"marker\":{\"colorbar\":{\"outlinewidth\":0,\"ticks\":\"\"}},\"type\":\"scattercarpet\"}],\"scattergeo\":[{\"marker\":{\"colorbar\":{\"outlinewidth\":0,\"ticks\":\"\"}},\"type\":\"scattergeo\"}],\"scattergl\":[{\"marker\":{\"colorbar\":{\"outlinewidth\":0,\"ticks\":\"\"}},\"type\":\"scattergl\"}],\"scattermapbox\":[{\"marker\":{\"colorbar\":{\"outlinewidth\":0,\"ticks\":\"\"}},\"type\":\"scattermapbox\"}],\"scatterpolar\":[{\"marker\":{\"colorbar\":{\"outlinewidth\":0,\"ticks\":\"\"}},\"type\":\"scatterpolar\"}],\"scatterpolargl\":[{\"marker\":{\"colorbar\":{\"outlinewidth\":0,\"ticks\":\"\"}},\"type\":\"scatterpolargl\"}],\"scatterternary\":[{\"marker\":{\"colorbar\":{\"outlinewidth\":0,\"ticks\":\"\"}},\"type\":\"scatterternary\"}],\"surface\":[{\"colorbar\":{\"outlinewidth\":0,\"ticks\":\"\"},\"colorscale\":[[0.0,\"#0d0887\"],[0.1111111111111111,\"#46039f\"],[0.2222222222222222,\"#7201a8\"],[0.3333333333333333,\"#9c179e\"],[0.4444444444444444,\"#bd3786\"],[0.5555555555555556,\"#d8576b\"],[0.6666666666666666,\"#ed7953\"],[0.7777777777777778,\"#fb9f3a\"],[0.8888888888888888,\"#fdca26\"],[1.0,\"#f0f921\"]],\"type\":\"surface\"}],\"table\":[{\"cells\":{\"fill\":{\"color\":\"#EBF0F8\"},\"line\":{\"color\":\"white\"}},\"header\":{\"fill\":{\"color\":\"#C8D4E3\"},\"line\":{\"color\":\"white\"}},\"type\":\"table\"}]},\"layout\":{\"annotationdefaults\":{\"arrowcolor\":\"#2a3f5f\",\"arrowhead\":0,\"arrowwidth\":1},\"autotypenumbers\":\"strict\",\"coloraxis\":{\"colorbar\":{\"outlinewidth\":0,\"ticks\":\"\"}},\"colorscale\":{\"diverging\":[[0,\"#8e0152\"],[0.1,\"#c51b7d\"],[0.2,\"#de77ae\"],[0.3,\"#f1b6da\"],[0.4,\"#fde0ef\"],[0.5,\"#f7f7f7\"],[0.6,\"#e6f5d0\"],[0.7,\"#b8e186\"],[0.8,\"#7fbc41\"],[0.9,\"#4d9221\"],[1,\"#276419\"]],\"sequential\":[[0.0,\"#0d0887\"],[0.1111111111111111,\"#46039f\"],[0.2222222222222222,\"#7201a8\"],[0.3333333333333333,\"#9c179e\"],[0.4444444444444444,\"#bd3786\"],[0.5555555555555556,\"#d8576b\"],[0.6666666666666666,\"#ed7953\"],[0.7777777777777778,\"#fb9f3a\"],[0.8888888888888888,\"#fdca26\"],[1.0,\"#f0f921\"]],\"sequentialminus\":[[0.0,\"#0d0887\"],[0.1111111111111111,\"#46039f\"],[0.2222222222222222,\"#7201a8\"],[0.3333333333333333,\"#9c179e\"],[0.4444444444444444,\"#bd3786\"],[0.5555555555555556,\"#d8576b\"],[0.6666666666666666,\"#ed7953\"],[0.7777777777777778,\"#fb9f3a\"],[0.8888888888888888,\"#fdca26\"],[1.0,\"#f0f921\"]]},\"colorway\":[\"#636efa\",\"#EF553B\",\"#00cc96\",\"#ab63fa\",\"#FFA15A\",\"#19d3f3\",\"#FF6692\",\"#B6E880\",\"#FF97FF\",\"#FECB52\"],\"font\":{\"color\":\"#2a3f5f\"},\"geo\":{\"bgcolor\":\"white\",\"lakecolor\":\"white\",\"landcolor\":\"#E5ECF6\",\"showlakes\":true,\"showland\":true,\"subunitcolor\":\"white\"},\"hoverlabel\":{\"align\":\"left\"},\"hovermode\":\"closest\",\"mapbox\":{\"style\":\"light\"},\"paper_bgcolor\":\"white\",\"plot_bgcolor\":\"#E5ECF6\",\"polar\":{\"angularaxis\":{\"gridcolor\":\"white\",\"linecolor\":\"white\",\"ticks\":\"\"},\"bgcolor\":\"#E5ECF6\",\"radialaxis\":{\"gridcolor\":\"white\",\"linecolor\":\"white\",\"ticks\":\"\"}},\"scene\":{\"xaxis\":{\"backgroundcolor\":\"#E5ECF6\",\"gridcolor\":\"white\",\"gridwidth\":2,\"linecolor\":\"white\",\"showbackground\":true,\"ticks\":\"\",\"zerolinecolor\":\"white\"},\"yaxis\":{\"backgroundcolor\":\"#E5ECF6\",\"gridcolor\":\"white\",\"gridwidth\":2,\"linecolor\":\"white\",\"showbackground\":true,\"ticks\":\"\",\"zerolinecolor\":\"white\"},\"zaxis\":{\"backgroundcolor\":\"#E5ECF6\",\"gridcolor\":\"white\",\"gridwidth\":2,\"linecolor\":\"white\",\"showbackground\":true,\"ticks\":\"\",\"zerolinecolor\":\"white\"}},\"shapedefaults\":{\"line\":{\"color\":\"#2a3f5f\"}},\"ternary\":{\"aaxis\":{\"gridcolor\":\"white\",\"linecolor\":\"white\",\"ticks\":\"\"},\"baxis\":{\"gridcolor\":\"white\",\"linecolor\":\"white\",\"ticks\":\"\"},\"bgcolor\":\"#E5ECF6\",\"caxis\":{\"gridcolor\":\"white\",\"linecolor\":\"white\",\"ticks\":\"\"}},\"title\":{\"x\":0.05},\"xaxis\":{\"automargin\":true,\"gridcolor\":\"white\",\"linecolor\":\"white\",\"ticks\":\"\",\"title\":{\"standoff\":15},\"zerolinecolor\":\"white\",\"zerolinewidth\":2},\"yaxis\":{\"automargin\":true,\"gridcolor\":\"white\",\"linecolor\":\"white\",\"ticks\":\"\",\"title\":{\"standoff\":15},\"zerolinecolor\":\"white\",\"zerolinewidth\":2}}},\"xaxis\":{\"anchor\":\"y\",\"domain\":[0.0,1.0],\"scaleanchor\":\"y\",\"constrain\":\"domain\"},\"yaxis\":{\"anchor\":\"x\",\"domain\":[0.0,1.0],\"autorange\":\"reversed\",\"constrain\":\"domain\"},\"coloraxis\":{\"colorbar\":{\"title\":{\"text\":\"Similarity Score\"}},\"colorscale\":[[0.0,\"rgb(247,252,240)\"],[0.125,\"rgb(224,243,219)\"],[0.25,\"rgb(204,235,197)\"],[0.375,\"rgb(168,221,181)\"],[0.5,\"rgb(123,204,196)\"],[0.625,\"rgb(78,179,211)\"],[0.75,\"rgb(43,140,190)\"],[0.875,\"rgb(8,104,172)\"],[1.0,\"rgb(8,64,129)\"]]},\"margin\":{\"t\":60},\"title\":{\"font\":{\"size\":22,\"color\":\"Black\"},\"text\":\"<b>Similarity Matrix\",\"y\":0.95,\"x\":0.55,\"xanchor\":\"center\",\"yanchor\":\"top\"},\"hoverlabel\":{\"font\":{\"size\":16,\"family\":\"Rockwell\"},\"bgcolor\":\"white\"},\"width\":800,\"height\":800,\"showlegend\":true,\"legend\":{\"title\":{\"text\":\"Trend\"}}},                        {\"responsive\": true}                    ).then(function(){\n",
              "                            \n",
              "var gd = document.getElementById('bf89aae3-b650-43b6-b363-faf8a9009256');\n",
              "var x = new MutationObserver(function (mutations, observer) {{\n",
              "        var display = window.getComputedStyle(gd).display;\n",
              "        if (!display || display === 'none') {{\n",
              "            console.log([gd, 'removed!']);\n",
              "            Plotly.purge(gd);\n",
              "            observer.disconnect();\n",
              "        }}\n",
              "}});\n",
              "\n",
              "// Listen for the removal of the full notebook cells\n",
              "var notebookContainer = gd.closest('#notebook-container');\n",
              "if (notebookContainer) {{\n",
              "    x.observe(notebookContainer, {childList: true});\n",
              "}}\n",
              "\n",
              "// Listen for the clearing of the current output cell\n",
              "var outputEl = gd.closest('.output');\n",
              "if (outputEl) {{\n",
              "    x.observe(outputEl, {childList: true});\n",
              "}}\n",
              "\n",
              "                        })                };                            </script>        </div>\n",
              "</body>\n",
              "</html>"
            ]
          },
          "metadata": {}
        }
      ]
    },
    {
      "cell_type": "markdown",
      "source": [
        "#### **Save Similarity Matrix**"
      ],
      "metadata": {
        "id": "CF3QJy6epmQY"
      }
    },
    {
      "cell_type": "code",
      "source": [
        "# Set the path to save \n",
        "path = WORK_DIR + f'results/{DATA_FRAME_FEATURE_NAME}/similarity_matrix/'\n",
        "\n",
        "# Use makedirs() to create a new directory if it does not exists\n",
        "if not os.path.exists(path):\n",
        "  os.makedirs(path)\n",
        "\n",
        "\n",
        "fig.write_image(path + \"sm_preprocessed_lemma.png\", format=\"png\")"
      ],
      "metadata": {
        "id": "VQOAZurPprA4"
      },
      "execution_count": 54,
      "outputs": []
    },
    {
      "cell_type": "markdown",
      "source": [
        "[Github link](https://github.com/punkmic/Topic-Modeling-Reclame-Aqui/blob/master/results/similarity_matrix/sm_preprocessed_lemma.png?raw=true)"
      ],
      "metadata": {
        "id": "y1pa1kWApYgp"
      }
    },
    {
      "cell_type": "markdown",
      "source": [
        "### **Visualize Term Score Decline**\n",
        "\n",
        "Topics are represented by a number of words starting with the best representative word. Each word is represented by a c-TF-IDF score. The higher the score, the more representative a word to the topic is. Since the topic words are sorted by their c-TF-IDF score, the scores slowly decline with each word that is added."
      ],
      "metadata": {
        "id": "vd41xsx7Xhgj"
      }
    },
    {
      "cell_type": "code",
      "source": [
        "fig = topic_model.visualize_term_rank()\n",
        "fig"
      ],
      "metadata": {
        "id": "Rw1wXTEtX967",
        "outputId": "51c45757-8f87-46c0-f777-1f6691effd53",
        "colab": {
          "base_uri": "https://localhost:8080/",
          "height": 517
        }
      },
      "execution_count": 55,
      "outputs": [
        {
          "output_type": "display_data",
          "data": {
            "text/html": [
              "<html>\n",
              "<head><meta charset=\"utf-8\" /></head>\n",
              "<body>\n",
              "    <div>            <script src=\"https://cdnjs.cloudflare.com/ajax/libs/mathjax/2.7.5/MathJax.js?config=TeX-AMS-MML_SVG\"></script><script type=\"text/javascript\">if (window.MathJax) {MathJax.Hub.Config({SVG: {font: \"STIX-Web\"}});}</script>                <script type=\"text/javascript\">window.PlotlyConfig = {MathJaxConfig: 'local'};</script>\n",
              "        <script src=\"https://cdn.plot.ly/plotly-2.8.3.min.js\"></script>                <div id=\"362df7f4-4d06-46dc-9f2f-215a06040ec5\" class=\"plotly-graph-div\" style=\"height:500px; width:800px;\"></div>            <script type=\"text/javascript\">                                    window.PLOTLYENV=window.PLOTLYENV || {};                                    if (document.getElementById(\"362df7f4-4d06-46dc-9f2f-215a06040ec5\")) {                    Plotly.newPlot(                        \"362df7f4-4d06-46dc-9f2f-215a06040ec5\",                        [{\"hovertext\":\"<b>Topic -1</b>:entregar_produto_pedir_compra_faze\",\"line\":{\"color\":\"black\",\"width\":1.5},\"mode\":\"lines+lines\",\"name\":\"\",\"opacity\":0.1,\"x\":[1,2,3,4,5,6,7,8,9,10],\"y\":[0.010690850387256345,0.010663390895700139,0.009864968937378985,0.009169263941409687,0.008410626494601385,0.00834217097640857,0.0077913290628818235,0.007574496886516111,0.007530009169649339,0.007452675719623277],\"type\":\"scatter\"},{\"hovertext\":\"<b>Topic 0</b>:cart\\u00e3o_cr\\u00e9dito_cobrar_cobran\\u00e7a_fatu\",\"line\":{\"color\":\"black\",\"width\":1.5},\"mode\":\"lines+lines\",\"name\":\"\",\"opacity\":0.1,\"x\":[1,2,3,4,5,6,7,8,9,10],\"y\":[0.05688374054075061,0.02962023057550382,0.01891031458742223,0.018713831726087895,0.017916486382023058,0.016871480648145372,0.016825356762886295,0.01561669854195153,0.014798557140072433,0.013791023034168189],\"type\":\"scatter\"},{\"hovertext\":\"<b>Topic 1</b>:celular_aparelho_smartphone_comprar\",\"line\":{\"color\":\"black\",\"width\":1.5},\"mode\":\"lines+lines\",\"name\":\"\",\"opacity\":0.1,\"x\":[1,2,3,4,5,6,7,8,9,10],\"y\":[0.04464751867292642,0.020266045351519137,0.014575471372641622,0.011853266139672674,0.010450061399769443,0.00987802651754239,0.00965858188602838,0.009276501167371295,0.009099110371731297,0.008984125767676867],\"type\":\"scatter\"},{\"hovertext\":\"<b>Topic 2</b>:cancelamento_cancelar_pedir_solicit\",\"line\":{\"color\":\"black\",\"width\":1.5},\"mode\":\"lines+lines\",\"name\":\"\",\"opacity\":0.1,\"x\":[1,2,3,4,5,6,7,8,9,10],\"y\":[0.04331887322532676,0.035842462967712756,0.018567107860275114,0.01677710903178007,0.014724356965564756,0.013530235242559103,0.012820418565004503,0.01120984597410605,0.010788094607009212,0.010498446325712271],\"type\":\"scatter\"},{\"hovertext\":\"<b>Topic 3</b>:whatsapp_contato_entregar_atendimen\",\"line\":{\"color\":\"black\",\"width\":1.5},\"mode\":\"lines+lines\",\"name\":\"\",\"opacity\":0.1,\"x\":[1,2,3,4,5,6,7,8,9,10],\"y\":[0.047808380171449893,0.015378576311367544,0.01165039986505451,0.01111234439858292,0.011103959583008307,0.010566179650960524,0.010522055529341389,0.01017796121487651,0.009841983275470334,0.009180515347622913],\"type\":\"scatter\"},{\"hovertext\":\"<b>Topic 4</b>:brasil_brasileiro_chegar_pedir_comp\",\"line\":{\"color\":\"black\",\"width\":1.5},\"mode\":\"lines+lines\",\"name\":\"\",\"opacity\":0.1,\"x\":[1,2,3,4,5,6,7,8,9,10],\"y\":[0.05124042807644144,0.012663899607686463,0.00988911032865594,0.009705453125948449,0.008558827794257168,0.00836973696844804,0.00834082609265377,0.008203752371596026,0.008109354728348766,0.00796827884996158],\"type\":\"scatter\"},{\"hovertext\":\"<b>Topic 5</b>:endere\\u00e7o_pedir_entregar_remetente_c\",\"line\":{\"color\":\"black\",\"width\":1.5},\"mode\":\"lines+lines\",\"name\":\"\",\"opacity\":0.1,\"x\":[1,2,3,4,5,6,7,8,9,10],\"y\":[0.03969835810132461,0.019140400236922678,0.019104223670519213,0.015558281585882724,0.015260427603778258,0.013304519337091612,0.012998646969172209,0.012776192471254045,0.012595327549073058,0.012137626010563571],\"type\":\"scatter\"},{\"hovertext\":\"<b>Topic 6</b>:novembro_dezembro_outubro_chegar_en\",\"line\":{\"color\":\"black\",\"width\":1.5},\"mode\":\"lines+lines\",\"name\":\"\",\"opacity\":0.1,\"x\":[1,2,3,4,5,6,7,8,9,10],\"y\":[0.07035944172421661,0.031013268915224646,0.023877371608988437,0.022596174769642794,0.02159841660159549,0.0209556906101647,0.019373888428670397,0.01706697842124795,0.016844338297045385,0.015382237213574453],\"type\":\"scatter\"},{\"hovertext\":\"<b>Topic 7</b>:conta_email_senha_acessar_acesso_co\",\"line\":{\"color\":\"black\",\"width\":1.5},\"mode\":\"lines+lines\",\"name\":\"\",\"opacity\":0.1,\"x\":[1,2,3,4,5,6,7,8,9,10],\"y\":[0.04947331761279899,0.04283230880303158,0.039771618902952444,0.039682894711339435,0.03666420247369928,0.03525382790971934,0.022968079931984457,0.021542122112752252,0.021163993731214654,0.020194737404270195],\"type\":\"scatter\"},{\"hovertext\":\"<b>Topic 8</b>:roupa_vestir_cal\\u00e7a_tamanho_dois_gua\",\"line\":{\"color\":\"black\",\"width\":1.5},\"mode\":\"lines+lines\",\"name\":\"\",\"opacity\":0.1,\"x\":[1,2,3,4,5,6,7,8,9,10],\"y\":[0.06284009515037388,0.05069737114504657,0.04776964755982538,0.02438344467514788,0.01969742806119035,0.017961019072323465,0.017466698950253642,0.016792900694631976,0.016389361308349084,0.015805083006712448],\"type\":\"scatter\"},{\"hovertext\":\"<b>Topic 9</b>:loja_magalu_poder_contato_entrar_pr\",\"line\":{\"color\":\"black\",\"width\":1.5},\"mode\":\"lines+lines\",\"name\":\"\",\"opacity\":0.1,\"x\":[1,2,3,4,5,6,7,8,9,10],\"y\":[0.011205650200577478,0.009703139476872232,0.009010897635272744,0.008841242631913835,0.008703002605882228,0.008196090553647667,0.008150974193553663,0.007919323389924664,0.007870316531045723,0.007733093795344633],\"type\":\"scatter\"},{\"hovertext\":\"<b>Topic 10</b>:iphone_aparelho_celular_carregador\",\"line\":{\"color\":\"black\",\"width\":1.5},\"mode\":\"lines+lines\",\"name\":\"\",\"opacity\":0.1,\"x\":[1,2,3,4,5,6,7,8,9,10],\"y\":[0.07146720514204577,0.02237011373237983,0.013572823181731128,0.012938940974675087,0.01124780213115199,0.010892650192861364,0.01029956344569199,0.010180083381831233,0.010146271527549896,0.009650927323547867],\"type\":\"scatter\"},{\"hovertext\":\"<b>Topic 11</b>:dinheiro_reembolso_voltar_devolver\",\"line\":{\"color\":\"black\",\"width\":1.5},\"mode\":\"lines+lines\",\"name\":\"\",\"opacity\":0.1,\"x\":[1,2,3,4,5,6,7,8,9,10],\"y\":[0.058913486856597246,0.03922852433573342,0.03046006653925214,0.025162458312788686,0.024698421902794494,0.02364677153776577,0.022620032835945228,0.0210444161074907,0.02054130347515339,0.019506859146443296],\"type\":\"scatter\"},{\"hovertext\":\"<b>Topic 12</b>:prazo_atraso_entregar_data_dia_che\",\"line\":{\"color\":\"black\",\"width\":1.5},\"mode\":\"lines+lines\",\"name\":\"\",\"opacity\":0.1,\"x\":[1,2,3,4,5,6,7,8,9,10],\"y\":[0.026282221235516247,0.02009972531317041,0.019871856058255265,0.01630397768632718,0.01602429457574418,0.014821335881529578,0.01438869664368191,0.013410142890404538,0.012157176350100258,0.011787391037149715],\"type\":\"scatter\"},{\"hovertext\":\"<b>Topic 13</b>:black_friday_promo\\u00e7\\u00e3o_oferta_pre\\u00e7o\",\"line\":{\"color\":\"black\",\"width\":1.5},\"mode\":\"lines+lines\",\"name\":\"\",\"opacity\":0.1,\"x\":[1,2,3,4,5,6,7,8,9,10],\"y\":[0.0447319036516377,0.040316607543913204,0.0230720041935332,0.020447232236219973,0.013907180597330954,0.013739240714424396,0.013596593271185349,0.01346941007581115,0.013195592559201396,0.013125938449811143],\"type\":\"scatter\"},{\"hovertext\":\"<b>Topic 14</b>:previs\\u00e3o_entregar_prazo_entrega_st\",\"line\":{\"color\":\"black\",\"width\":1.5},\"mode\":\"lines+lines\",\"name\":\"\",\"opacity\":0.1,\"x\":[1,2,3,4,5,6,7,8,9,10],\"y\":[0.05232768499084171,0.02594249466316379,0.018626056958794435,0.016708240977658682,0.01592394985722427,0.01588280167501485,0.015269435572060388,0.01480805259171389,0.014566279368354,0.014081861906853111],\"type\":\"scatter\"},{\"hovertext\":\"<b>Topic 15</b>:geladeira_refrigerador_geladeiro_t\",\"line\":{\"color\":\"black\",\"width\":1.5},\"mode\":\"lines+lines\",\"name\":\"\",\"opacity\":0.1,\"x\":[1,2,3,4,5,6,7,8,9,10],\"y\":[0.11068694309429096,0.027818726899567176,0.02151327701296147,0.017680755136662667,0.014726023267620894,0.013831443884313762,0.013550826199326377,0.013087311250684902,0.012414187226124392,0.011278407945550212],\"type\":\"scatter\"},{\"hovertext\":\"<b>Topic 16</b>:jogo_lan\\u00e7amento_ragnarok_pr\\u00e9venda_\",\"line\":{\"color\":\"black\",\"width\":1.5},\"mode\":\"lines+lines\",\"name\":\"\",\"opacity\":0.1,\"x\":[1,2,3,4,5,6,7,8,9,10],\"y\":[0.12619998985914466,0.08803605357111538,0.051955714966411236,0.03299777522808296,0.02824013902828247,0.021006485864119493,0.01917290725645979,0.019035202461510966,0.01625507573572374,0.015337621920624163],\"type\":\"scatter\"},{\"hovertext\":\"<b>Topic 17</b>:reclama\\u00e7\\u00e3o_comprador_produto_vende\",\"line\":{\"color\":\"black\",\"width\":1.5},\"mode\":\"lines+lines\",\"name\":\"\",\"opacity\":0.1,\"x\":[1,2,3,4,5,6,7,8,9,10],\"y\":[0.022279680719030127,0.021700068975671314,0.020859440607197542,0.016895737235674602,0.01671400134160117,0.015433681737992574,0.015260200138519574,0.0148419783612215,0.013890682913545904,0.013115138635857629],\"type\":\"scatter\"},{\"hovertext\":\"<b>Topic 18</b>:t\\u00eanis_mizuno_tenis_rack_wave_produ\",\"line\":{\"color\":\"black\",\"width\":1.5},\"mode\":\"lines+lines\",\"name\":\"\",\"opacity\":0.1,\"x\":[1,2,3,4,5,6,7,8,9,10],\"y\":[0.12748730042340745,0.02603772429182192,0.02192637802954341,0.020888042390146532,0.02016787388675726,0.017300459922740003,0.017055276102312163,0.01586667047931825,0.01578146139859377,0.0154301633384214],\"type\":\"scatter\"},{\"hovertext\":\"<b>Topic 19</b>:livro_compr_dois_hoje_enviar_receb\",\"line\":{\"color\":\"black\",\"width\":1.5},\"mode\":\"lines+lines\",\"name\":\"\",\"opacity\":0.1,\"x\":[1,2,3,4,5,6,7,8,9,10],\"y\":[0.17971460349393786,0.01492198940125407,0.014600600667881167,0.012591367564381202,0.01155930937842395,0.010981160825705471,0.010971279890049687,0.010550523679270908,0.010275063397491272,0.010243382524640052],\"type\":\"scatter\"},{\"hovertext\":\"<b>Topic 20</b>:rastreio_c\\u00f3digo_rastreamento_rastr\",\"line\":{\"color\":\"black\",\"width\":1.5},\"mode\":\"lines+lines\",\"name\":\"\",\"opacity\":0.1,\"x\":[1,2,3,4,5,6,7,8,9,10],\"y\":[0.12094060057142648,0.10010494504079204,0.06118776290319148,0.03897314546247238,0.02935938148035855,0.026800614719224316,0.025587850250547876,0.022436320461264984,0.020218750272688508,0.01979939574597403],\"type\":\"scatter\"},{\"hovertext\":\"<b>Topic 21</b>:rob\\u00f4_aspirador_macac\\u00e3o_tentar_supo\",\"line\":{\"color\":\"black\",\"width\":1.5},\"mode\":\"lines+lines\",\"name\":\"\",\"opacity\":0.1,\"x\":[1,2,3,4,5,6,7,8,9,10],\"y\":[0.10393662198387185,0.028877723729681566,0.01901298193791598,0.018434330013707874,0.017949951434177207,0.01584415161492998,0.014486005036322566,0.014395344417283766,0.013011124586610136,0.013004426575501417],\"type\":\"scatter\"},{\"hovertext\":\"<b>Topic 22</b>:amazoncombr_cobran\\u00e7a_digital_cart\\u00e3\",\"line\":{\"color\":\"black\",\"width\":1.5},\"mode\":\"lines+lines\",\"name\":\"\",\"opacity\":0.1,\"x\":[1,2,3,4,5,6,7,8,9,10],\"y\":[0.09262900622777047,0.09176488024071203,0.06220389034759392,0.03610512416630471,0.03350340881970776,0.03335299227390842,0.03149875922081632,0.031175366668416363,0.028458213026111612,0.028026962958914214],\"type\":\"scatter\"},{\"hovertext\":\"<b>Topic 23</b>:trip\\u00e9_pedir_recebi_remetente_entre\",\"line\":{\"color\":\"black\",\"width\":1.5},\"mode\":\"lines+lines\",\"name\":\"\",\"opacity\":0.1,\"x\":[1,2,3,4,5,6,7,8,9,10],\"y\":[0.05073096503434966,0.04959875970843097,0.04164848496711395,0.037179510155052484,0.03661768821024559,0.036593575320247845,0.0319694308094013,0.027558463574625516,0.027558463574625516,0.027558463574625516],\"type\":\"scatter\"},{\"hovertext\":\"<b>Topic 24</b>:gr\\u00e1tis_site_valor_frete_anunciar_a\",\"line\":{\"color\":\"black\",\"width\":1.5},\"mode\":\"lines+lines\",\"name\":\"\",\"opacity\":0.1,\"x\":[1,2,3,4,5,6,7,8,9,10],\"y\":[0.03700592133036731,0.03390977091362904,0.03167334026725781,0.02975955528814266,0.027231548781309872,0.02684246239865432,0.022982364275687225,0.022816057475575656,0.02148023945045164,0.016678962462172365],\"type\":\"scatter\"},{\"hovertext\":\"<b>Topic 25</b>:aplicativo_reembolso_compra_recebi\",\"line\":{\"color\":\"black\",\"width\":1.5},\"mode\":\"lines+lines\",\"name\":\"\",\"opacity\":0.1,\"x\":[1,2,3,4,5,6,7,8,9,10],\"y\":[0.09884461286200433,0.029246722851326155,0.022416370417101535,0.021399871950582124,0.02051530161455311,0.018296274096879245,0.01734394420610798,0.017214532833783665,0.016383144321809255,0.01628545202114143],\"type\":\"scatter\"},{\"hovertext\":\"<b>Topic 26</b>:curitiba_tr\\u00e2nsito_parado_cidade_at\",\"line\":{\"color\":\"black\",\"width\":1.5},\"mode\":\"lines+lines\",\"name\":\"\",\"opacity\":0.1,\"x\":[1,2,3,4,5,6,7,8,9,10],\"y\":[0.23317837391406998,0.04770289458312682,0.04254063374431477,0.04174870506423015,0.03769403036702143,0.035604873965982387,0.033696332260047014,0.030987749419048322,0.03093542104364357,0.03079746310260543],\"type\":\"scatter\"},{\"hovertext\":\"<b>Topic 27</b>:m\\u00e1quina_lavar_roupa_maquina_seca_a\",\"line\":{\"color\":\"black\",\"width\":1.5},\"mode\":\"lines+lines\",\"name\":\"\",\"opacity\":0.1,\"x\":[1,2,3,4,5,6,7,8,9,10],\"y\":[0.09217217445326442,0.0872109494967113,0.03296958186075353,0.02551570076354763,0.02087297154163822,0.014965410869577946,0.014667607508121969,0.013187025789468834,0.012971745261005406,0.011982642683935063],\"type\":\"scatter\"},{\"hovertext\":\"<b>Topic 28</b>:prime_v\\u00eddeo_assinatura_cupom_video\",\"line\":{\"color\":\"black\",\"width\":1.5},\"mode\":\"lines+lines\",\"name\":\"\",\"opacity\":0.1,\"x\":[1,2,3,4,5,6,7,8,9,10],\"y\":[0.13022032308067344,0.08246451673818768,0.06199463397001469,0.05981736309828504,0.05666674807302879,0.0474005702923194,0.045133339393730924,0.044587056948120166,0.04388114894312354,0.04019872188012934],\"type\":\"scatter\"},{\"hovertext\":\"<b>Topic 29</b>:juliana_fraga_produto_magalu_m\\u00e1rci\",\"line\":{\"color\":\"black\",\"width\":1.5},\"mode\":\"lines+lines\",\"name\":\"\",\"opacity\":0.1,\"x\":[1,2,3,4,5,6,7,8,9,10],\"y\":[0.014633198356114268,0.013076025365496563,0.012406053952704046,0.012153082026912364,0.011866774945871936,0.010155065219866569,0.01015355845873041,0.010090382759436573,0.009976118906977532,0.009814670547599092],\"type\":\"scatter\"},{\"hovertext\":\"<b>Topic 30</b>:pagamento_paguei_comprovante_pagar\",\"line\":{\"color\":\"black\",\"width\":1.5},\"mode\":\"lines+lines\",\"name\":\"\",\"opacity\":0.1,\"x\":[1,2,3,4,5,6,7,8,9,10],\"y\":[0.0777596831023479,0.033358701483432444,0.03173885131835264,0.027073652221659167,0.02587276085752337,0.024466941101229368,0.021751081775386462,0.020161388991350945,0.019018487500465857,0.018055972070438367],\"type\":\"scatter\"},{\"hovertext\":\"<b>Topic 31</b>:vir_garrafa_caixa_derramar_danific\",\"line\":{\"color\":\"black\",\"width\":1.5},\"mode\":\"lines+lines\",\"name\":\"\",\"opacity\":0.1,\"x\":[1,2,3,4,5,6,7,8,9,10],\"y\":[0.0419498465993934,0.038505107932598384,0.034924716119536285,0.02880701512485968,0.02719503199419904,0.02561054271812769,0.025245580866224696,0.024690285747240553,0.024601885508080044,0.022761723335691143],\"type\":\"scatter\"},{\"hovertext\":\"<b>Topic 32</b>:foto_c\\u00e2merar_placa_devolu\\u00e7\\u00e3o_c\\u00e2mer\",\"line\":{\"color\":\"black\",\"width\":1.5},\"mode\":\"lines+lines\",\"name\":\"\",\"opacity\":0.1,\"x\":[1,2,3,4,5,6,7,8,9,10],\"y\":[0.04384459540850326,0.030058958311686836,0.021260539530614558,0.01823368869628446,0.017491782214510834,0.016832824853799704,0.015015976857503777,0.01470524703600615,0.0134630122181477,0.01163102643724526],\"type\":\"scatter\"},{\"hovertext\":\"<b>Topic 33</b>:notebook_dell_intel_core_loja_reti\",\"line\":{\"color\":\"black\",\"width\":1.5},\"mode\":\"lines+lines\",\"name\":\"\",\"opacity\":0.1,\"x\":[1,2,3,4,5,6,7,8,9,10],\"y\":[0.09368198942101791,0.02362646218585344,0.01733504040155843,0.016422148431638663,0.014531962537614872,0.0142364084722732,0.012512377240841612,0.011963879622534871,0.011926776233095487,0.011417755314504136],\"type\":\"scatter\"},{\"hovertext\":\"<b>Topic 34</b>:identidade_pessoa_nunca_liga\\u00e7\\u00e3o_do\",\"line\":{\"color\":\"black\",\"width\":1.5},\"mode\":\"lines+lines\",\"name\":\"\",\"opacity\":0.1,\"x\":[1,2,3,4,5,6,7,8,9,10],\"y\":[0.0238159060656295,0.019739612844550142,0.017157681053709916,0.01651957508069653,0.015583171083784668,0.015080926796123828,0.014940161218523778,0.013917862097954618,0.013845104620586735,0.013692777280366547],\"type\":\"scatter\"},{\"hovertext\":\"<b>Topic 35</b>:televis\\u00e3o_monitor_televisor_assist\",\"line\":{\"color\":\"black\",\"width\":1.5},\"mode\":\"lines+lines\",\"name\":\"\",\"opacity\":0.1,\"x\":[1,2,3,4,5,6,7,8,9,10],\"y\":[0.10742853385595251,0.04943588867181927,0.03988246431472355,0.021189496714755198,0.017904755642658754,0.017442839051096323,0.01682536807901571,0.01567940251055431,0.015106307331839812,0.014913201573366711],\"type\":\"scatter\"},{\"hovertext\":\"<b>Topic 36</b>:produto_compr_constar_desdo_mercad\",\"line\":{\"color\":\"black\",\"width\":1.5},\"mode\":\"lines+lines\",\"name\":\"\",\"opacity\":0.1,\"x\":[1,2,3,4,5,6,7,8,9,10],\"y\":[0.05188369291866075,0.049505894248866436,0.0437799885199433,0.043082236481592734,0.04232315044582458,0.03821877618169074,0.03013312972173586,0.03013312972173586,0.03013312972173586,0.03013312972173586],\"type\":\"scatter\"},{\"hovertext\":\"<b>Topic 37</b>:china_nacional_correios_chegar_ped\",\"line\":{\"color\":\"black\",\"width\":1.5},\"mode\":\"lines+lines\",\"name\":\"\",\"opacity\":0.1,\"x\":[1,2,3,4,5,6,7,8,9,10],\"y\":[0.14266723019334987,0.036883064713514456,0.024437438131766815,0.023770110843494126,0.019383492120609063,0.018707416217216704,0.018554076552012813,0.01793774422736925,0.016551016482513795,0.015220927569021825],\"type\":\"scatter\"},{\"hovertext\":\"<b>Topic 38</b>:internacional_nacional_processamen\",\"line\":{\"color\":\"black\",\"width\":1.5},\"mode\":\"lines+lines\",\"name\":\"\",\"opacity\":0.1,\"x\":[1,2,3,4,5,6,7,8,9,10],\"y\":[0.10767989313223869,0.10434086084481582,0.033507691966287174,0.033042151651129344,0.02158474642024507,0.020655248573566237,0.019698513821697607,0.01946421056689262,0.01887357380233564,0.01882484538301032],\"type\":\"scatter\"},{\"hovertext\":\"<b>Topic 39</b>:bluetooth_fone_controle_devolu\\u00e7\\u00e3o_\",\"line\":{\"color\":\"black\",\"width\":1.5},\"mode\":\"lines+lines\",\"name\":\"\",\"opacity\":0.1,\"x\":[1,2,3,4,5,6,7,8,9,10],\"y\":[0.07836901804838096,0.04156894962356663,0.019123950856401714,0.0191231310126664,0.01788936690482369,0.017413006639253537,0.01689775671118996,0.016237713248793348,0.013714158525201754,0.013645152273077788],\"type\":\"scatter\"},{\"hovertext\":\"<b>Topic 40</b>:devolu\\u00e7\\u00e3o_postagem_correio_solicit\",\"line\":{\"color\":\"black\",\"width\":1.5},\"mode\":\"lines+lines\",\"name\":\"\",\"opacity\":0.1,\"x\":[1,2,3,4,5,6,7,8,9,10],\"y\":[0.07791691761200992,0.04400415800609344,0.029348546300295715,0.026588994294729138,0.025802566521807697,0.024089738481065777,0.023296791195236703,0.021235878613622423,0.018218800805115083,0.017644865133551776],\"type\":\"scatter\"},{\"hovertext\":\"<b>Topic 41</b>:entregar_esperar_ligar_entregador_\",\"line\":{\"color\":\"black\",\"width\":1.5},\"mode\":\"lines+lines\",\"name\":\"\",\"opacity\":0.1,\"x\":[1,2,3,4,5,6,7,8,9,10],\"y\":[0.026536990813773063,0.022777788601786912,0.021303144263411084,0.02010666381455491,0.019149851936507416,0.017783136037835396,0.01637640590090764,0.015409561335144735,0.01538110634493472,0.015207082863456739],\"type\":\"scatter\"},{\"hovertext\":\"<b>Topic 42</b>:cashback_valor_extrato_futuro_digi\",\"line\":{\"color\":\"black\",\"width\":1.5},\"mode\":\"lines+lines\",\"name\":\"\",\"opacity\":0.1,\"x\":[1,2,3,4,5,6,7,8,9,10],\"y\":[0.20879456165797505,0.04633350095991911,0.037741655358337386,0.027917415347816724,0.02277063071640123,0.02230855327306546,0.021978374911365797,0.02046369357511871,0.018856556180845613,0.01779064894515363],\"type\":\"scatter\"},{\"hovertext\":\"<b>Topic 43</b>:arma_produto_entregar_prazo_inform\",\"line\":{\"color\":\"black\",\"width\":1.5},\"mode\":\"lines+lines\",\"name\":\"\",\"opacity\":0.1,\"x\":[1,2,3,4,5,6,7,8,9,10],\"y\":[0.020874265376690907,0.015057670164590085,0.014696333810687811,0.014548532652211895,0.013628268102628415,0.013596116114230951,0.012777398861956007,0.012576888108505348,0.012529093329564358,0.012023152399650404],\"type\":\"scatter\"},{\"hovertext\":\"<b>Topic 44</b>:ningu\\u00e9m_nada_recebi_mensagem_chega\",\"line\":{\"color\":\"black\",\"width\":1.5},\"mode\":\"lines+lines\",\"name\":\"\",\"opacity\":0.1,\"x\":[1,2,3,4,5,6,7,8,9,10],\"y\":[0.07667678088516706,0.04607125110325479,0.03988157954426669,0.03847730689482274,0.03790412288040006,0.03081400319179895,0.02940140041590684,0.02798248822053615,0.027958480101715963,0.026673550491982972],\"type\":\"scatter\"},{\"hovertext\":\"<b>Topic 45</b>:falar_novembro_esperar_dia_entrega\",\"line\":{\"color\":\"black\",\"width\":1.5},\"mode\":\"lines+lines\",\"name\":\"\",\"opacity\":0.1,\"x\":[1,2,3,4,5,6,7,8,9,10],\"y\":[0.019899859366515477,0.01797206508147682,0.016788416061398182,0.015391201286974654,0.013063137255752495,0.012858256112402952,0.012516862852010523,0.011616909585351299,0.011581815324566685,0.0114102073753545],\"type\":\"scatter\"},{\"hovertext\":\"<b>Topic 46</b>:bicicleta_capacete_bike_compr_filh\",\"line\":{\"color\":\"black\",\"width\":1.5},\"mode\":\"lines+lines\",\"name\":\"\",\"opacity\":0.1,\"x\":[1,2,3,4,5,6,7,8,9,10],\"y\":[0.09908375963345839,0.032036874565388423,0.02958207116313784,0.02483889485750417,0.021381114895282022,0.018573769014671608,0.018306688864652643,0.016281426200703823,0.015635450688165024,0.014463986843047007],\"type\":\"scatter\"},{\"hovertext\":\"<b>Topic 47</b>:facial_reconhecimento_rosto_login_\",\"line\":{\"color\":\"black\",\"width\":1.5},\"mode\":\"lines+lines\",\"name\":\"\",\"opacity\":0.1,\"x\":[1,2,3,4,5,6,7,8,9,10],\"y\":[0.14752951511531248,0.1450267184019414,0.060410077492264416,0.03866785394833818,0.03829623651998739,0.0361568249957803,0.03196739508199189,0.028437987994725324,0.023872274017686664,0.02343239453177232],\"type\":\"scatter\"},{\"hovertext\":\"<b>Topic 48</b>:desconto_valor_helena_dinheiro_est\",\"line\":{\"color\":\"black\",\"width\":1.5},\"mode\":\"lines+lines\",\"name\":\"\",\"opacity\":0.1,\"x\":[1,2,3,4,5,6,7,8,9,10],\"y\":[0.04466896682034152,0.03527664277630205,0.027309303252808045,0.027136716574103603,0.024808124042879666,0.022883696105396773,0.022688042995704875,0.02245721059055658,0.02130635039620067,0.019175819319203938],\"type\":\"scatter\"},{\"hovertext\":\"<b>Topic 49</b>:m\\u00fasica_music_ouvir_tocar_m\\u00fasico_pr\",\"line\":{\"color\":\"black\",\"width\":1.5},\"mode\":\"lines+lines\",\"name\":\"\",\"opacity\":0.1,\"x\":[1,2,3,4,5,6,7,8,9,10],\"y\":[0.13706306518254177,0.11750868413595664,0.07153514918338849,0.06230970658701461,0.05537577619341525,0.05289009686646006,0.04664017436985385,0.044630306633100775,0.03734048092452054,0.03606818233068163],\"type\":\"scatter\"},{\"hovertext\":\"<b>Topic 50</b>:sof\\u00e1_mobly_magalu_reclin\\u00e1vel_tecid\",\"line\":{\"color\":\"black\",\"width\":1.5},\"mode\":\"lines+lines\",\"name\":\"\",\"opacity\":0.1,\"x\":[1,2,3,4,5,6,7,8,9,10],\"y\":[0.15315096465483433,0.03043209724458577,0.026258947960459272,0.017828712834321997,0.015470964276717044,0.015357473251002432,0.014710423659373407,0.014372700123161117,0.014084642976052778,0.013723641261249515],\"type\":\"scatter\"},{\"hovertext\":\"<b>Topic 51</b>:amazoncombr_nota_fiscal_rem\\u00e9dio_tr\",\"line\":{\"color\":\"black\",\"width\":1.5},\"mode\":\"lines+lines\",\"name\":\"\",\"opacity\":0.1,\"x\":[1,2,3,4,5,6,7,8,9,10],\"y\":[0.027428814298746124,0.027413588755767132,0.026732479593726155,0.02276113085476663,0.01860520878726621,0.016700135629649497,0.015331120261251099,0.014934756336255047,0.01328572820974051,0.013085778573716714],\"type\":\"scatter\"},{\"hovertext\":\"<b>Topic 52</b>:pneu_pastilha_pirelli_coleta_dur\\u00e1v\",\"line\":{\"color\":\"black\",\"width\":1.5},\"mode\":\"lines+lines\",\"name\":\"\",\"opacity\":0.1,\"x\":[1,2,3,4,5,6,7,8,9,10],\"y\":[0.20074524634188567,0.036902719148078564,0.02634395947737693,0.025896534545306066,0.02586552712331407,0.025096678775540063,0.02308698712259742,0.02037850337438142,0.02037850337438142,0.018620762816412183],\"type\":\"scatter\"},{\"hovertext\":\"<b>Topic 53</b>:aplicativo_compra_entregar_data_mo\",\"line\":{\"color\":\"black\",\"width\":1.5},\"mode\":\"lines+lines\",\"name\":\"\",\"opacity\":0.1,\"x\":[1,2,3,4,5,6,7,8,9,10],\"y\":[0.10334573366628504,0.020423804157803618,0.01948011696033267,0.01809505233650631,0.017295720498975313,0.01695353108408424,0.0167675044732343,0.01657580010498612,0.01645799122646497,0.016050142545054467],\"type\":\"scatter\"},{\"hovertext\":\"<b>Topic 54</b>:echo_microfone_studio_gritar_echar\",\"line\":{\"color\":\"black\",\"width\":1.5},\"mode\":\"lines+lines\",\"name\":\"\",\"opacity\":0.1,\"x\":[1,2,3,4,5,6,7,8,9,10],\"y\":[0.07507279117983658,0.037306065734728354,0.03374504859843805,0.030553864240882255,0.030553864240882255,0.029527073332155228,0.028902934670791875,0.028320301063534514,0.027302414232853286,0.024791451901244054],\"type\":\"scatter\"},{\"hovertext\":\"<b>Topic 55</b>:cama_colch\\u00e3o_comprei_pl\\u00e1stico_vir_\",\"line\":{\"color\":\"black\",\"width\":1.5},\"mode\":\"lines+lines\",\"name\":\"\",\"opacity\":0.1,\"x\":[1,2,3,4,5,6,7,8,9,10],\"y\":[0.19541685367787998,0.039029851009189986,0.03776253344761477,0.028054808262568714,0.025134374955540887,0.02353294216422377,0.02063058830768538,0.01982119145073677,0.01982119145073677,0.019365719436482194],\"type\":\"scatter\"},{\"hovertext\":\"<b>Topic 56</b>:mouse_teclado_combo_logitech_gamer\",\"line\":{\"color\":\"black\",\"width\":1.5},\"mode\":\"lines+lines\",\"name\":\"\",\"opacity\":0.1,\"x\":[1,2,3,4,5,6,7,8,9,10],\"y\":[0.16671027280279374,0.14056767685349217,0.027006848948694137,0.022443721008913852,0.01712409834232629,0.016892502582565323,0.01666912338715263,0.016592965787110642,0.016038340371863382,0.015449247553417686],\"type\":\"scatter\"},{\"hovertext\":\"<b>Topic 57</b>:cadeira_pe\\u00e7a_gamer_base_montar_m\\u00eas\",\"line\":{\"color\":\"black\",\"width\":1.5},\"mode\":\"lines+lines\",\"name\":\"\",\"opacity\":0.1,\"x\":[1,2,3,4,5,6,7,8,9,10],\"y\":[0.24078980513411405,0.03436543887233795,0.03142066768535895,0.0299518867882865,0.026186918538952466,0.02539292016779418,0.02475678564486072,0.024498517164241472,0.023603388962003945,0.02307490211231363],\"type\":\"scatter\"},{\"hovertext\":\"<b>Topic 58</b>:liquidificador_oster_tampa_quebrar\",\"line\":{\"color\":\"black\",\"width\":1.5},\"mode\":\"lines+lines\",\"name\":\"\",\"opacity\":0.1,\"x\":[1,2,3,4,5,6,7,8,9,10],\"y\":[0.11567428889484878,0.028110581792170766,0.024841875041997166,0.02299822420652057,0.022575468935577755,0.01995606257602514,0.018476301934601754,0.018012289956092723,0.018012289956092723,0.018012289956092723],\"type\":\"scatter\"},{\"hovertext\":\"<b>Topic 59</b>:chat_servi\\u00e7o_ninguem_sugirar_batep\",\"line\":{\"color\":\"black\",\"width\":1.5},\"mode\":\"lines+lines\",\"name\":\"\",\"opacity\":0.1,\"x\":[1,2,3,4,5,6,7,8,9,10],\"y\":[0.04179885870218748,0.027911107148239175,0.02685787274506521,0.023415976942920542,0.021845221782009483,0.02034678158756235,0.020038678400866244,0.019856398846417694,0.01971499973254672,0.019155025143354307],\"type\":\"scatter\"},{\"hovertext\":\"<b>Topic 60</b>:comiss\\u00e3o_tarefa_miss\\u00e3o_shoptime_ye\",\"line\":{\"color\":\"black\",\"width\":1.5},\"mode\":\"lines+lines\",\"name\":\"\",\"opacity\":0.1,\"x\":[1,2,3,4,5,6,7,8,9,10],\"y\":[0.046747032548307,0.041084757271235874,0.02067603205024186,0.018098695897586572,0.017838434872243927,0.01755047293638473,0.017446339895112236,0.015960207577050682,0.015082246581322144,0.014365295794011775],\"type\":\"scatter\"},{\"hovertext\":\"<b>Topic 61</b>:esposo_marido_evid\\u00eancia_gente_rasu\",\"line\":{\"color\":\"black\",\"width\":1.5},\"mode\":\"lines+lines\",\"name\":\"\",\"opacity\":0.1,\"x\":[1,2,3,4,5,6,7,8,9,10],\"y\":[0.07931963878950554,0.028719430855941766,0.02190521940371675,0.021412123396378106,0.019914267019695023,0.018213311947108176,0.018192982722636166,0.018192982722636166,0.0168246885321071,0.016180299329891998],\"type\":\"scatter\"},{\"hovertext\":\"<b>Topic 62</b>:microondas_promessa_dia_assist\\u00eanci\",\"line\":{\"color\":\"black\",\"width\":1.5},\"mode\":\"lines+lines\",\"name\":\"\",\"opacity\":0.1,\"x\":[1,2,3,4,5,6,7,8,9,10],\"y\":[0.1472029967054578,0.02382456254516364,0.022183405333183033,0.018657715232807754,0.017687686228860876,0.0175321052642994,0.016175455929019693,0.016072965856204532,0.01575381135977107,0.015690803239795787],\"type\":\"scatter\"},{\"hovertext\":\"<b>Topic 63</b>:cadastral_plano_derrepente_cancela\",\"line\":{\"color\":\"black\",\"width\":1.5},\"mode\":\"lines+lines\",\"name\":\"\",\"opacity\":0.1,\"x\":[1,2,3,4,5,6,7,8,9,10],\"y\":[0.027418999096831383,0.026535538948321242,0.025974501509096644,0.025301183062785986,0.024322704251212003,0.023756555056948122,0.021387968564078576,0.019706654532182198,0.01966447351483172,0.0178601842581977],\"type\":\"scatter\"},{\"hovertext\":\"<b>Topic 64</b>:shampoo_cabelo_natural_metade_bone\",\"line\":{\"color\":\"black\",\"width\":1.5},\"mode\":\"lines+lines\",\"name\":\"\",\"opacity\":0.1,\"x\":[1,2,3,4,5,6,7,8,9,10],\"y\":[0.13423474932825358,0.12838957102037027,0.052932743434162155,0.049756134798141526,0.043750429928640984,0.0377530449016743,0.03734817863896902,0.033607934907451766,0.033607934907451766,0.0292668586600383],\"type\":\"scatter\"},{\"hovertext\":\"<b>Topic 65</b>:forno_el\\u00e9trico_fogao_embutir_vale_\",\"line\":{\"color\":\"black\",\"width\":1.5},\"mode\":\"lines+lines\",\"name\":\"\",\"opacity\":0.1,\"x\":[1,2,3,4,5,6,7,8,9,10],\"y\":[0.17800540028309075,0.056882254793549,0.051659086743287876,0.03874431505746591,0.030661431648484463,0.028273342064999103,0.026843712544794267,0.022972029912809628,0.022972029912809628,0.0229386040242211],\"type\":\"scatter\"},{\"hovertext\":\"<b>Topic 66</b>:perfume_refresh_embalagem_comfort_\",\"line\":{\"color\":\"black\",\"width\":1.5},\"mode\":\"lines+lines\",\"name\":\"\",\"opacity\":0.1,\"x\":[1,2,3,4,5,6,7,8,9,10],\"y\":[0.2165998693750189,0.04494208173099907,0.04447094586920481,0.04324414692437632,0.042948810627773545,0.0378049000469296,0.036764073847973325,0.03422559766871752,0.03315372031030746,0.031557056989871046],\"type\":\"scatter\"},{\"hovertext\":\"<b>Topic 67</b>:jogo_panelo_fifa_panele_panelas_tr\",\"line\":{\"color\":\"black\",\"width\":1.5},\"mode\":\"lines+lines\",\"name\":\"\",\"opacity\":0.1,\"x\":[1,2,3,4,5,6,7,8,9,10],\"y\":[0.18889556612094577,0.08946933955231523,0.06127761963063646,0.06127761963063646,0.059411691038937925,0.05142682285177397,0.0430304222156907,0.03987966249341739,0.03987966249341739,0.036711077404764314],\"type\":\"scatter\"},{\"hovertext\":\"<b>Topic 68</b>:l\\u00e2mpada_lampada_an\\u00fancio_l\\u00e2mpado_po\",\"line\":{\"color\":\"black\",\"width\":1.5},\"mode\":\"lines+lines\",\"name\":\"\",\"opacity\":0.1,\"x\":[1,2,3,4,5,6,7,8,9,10],\"y\":[0.1450392074061695,0.07709521558455174,0.0754547545714762,0.07238817641383895,0.055158265134093776,0.04493822333292641,0.04194172527922815,0.03977476818021894,0.037053871413863876,0.03699539091005408],\"type\":\"scatter\"},{\"hovertext\":\"<b>Topic 69</b>:pr\\u00e9dio_toke_imail_residencia_hall_\",\"line\":{\"color\":\"black\",\"width\":1.5},\"mode\":\"lines+lines\",\"name\":\"\",\"opacity\":0.1,\"x\":[1,2,3,4,5,6,7,8,9,10],\"y\":[0.032267428723613246,0.0251206708262815,0.021654304132157243,0.01978389138905326,0.018840503119711124,0.01779813185175884,0.017396583358477814,0.0168065210251255,0.015305051260922279,0.01527880035230551],\"type\":\"scatter\"},{\"hovertext\":\"<b>Topic 70</b>:rastrear_transportadora_rastreio_r\",\"line\":{\"color\":\"black\",\"width\":1.5},\"mode\":\"lines+lines\",\"name\":\"\",\"opacity\":0.1,\"x\":[1,2,3,4,5,6,7,8,9,10],\"y\":[0.07272894233790875,0.05652215327777075,0.038942733302224856,0.03768081854734513,0.036744618099500685,0.036744618099500685,0.036744618099500685,0.036744618099500685,0.036744618099500685,0.0338206433562331],\"type\":\"scatter\"},{\"hovertext\":\"<b>Topic 71</b>:https_livelo_wwwamericanasentregac\",\"line\":{\"color\":\"black\",\"width\":1.5},\"mode\":\"lines+lines\",\"name\":\"\",\"opacity\":0.1,\"x\":[1,2,3,4,5,6,7,8,9,10],\"y\":[0.13941730719821901,0.042980414852258245,0.03570375267450889,0.03570375267450889,0.03461643692484437,0.03389840760110991,0.03389840760110991,0.032617708444815395,0.03182204506931292,0.03162448587596028],\"type\":\"scatter\"},{\"hovertext\":\"<b>Topic 72</b>:amobeleza_compra_site_tentar_agili\",\"line\":{\"color\":\"black\",\"width\":1.5},\"mode\":\"lines+lines\",\"name\":\"\",\"opacity\":0.1,\"x\":[1,2,3,4,5,6,7,8,9,10],\"y\":[0.058390223834648404,0.03365582700963338,0.030180563370697973,0.029585319480505856,0.02734420991432653,0.026450270077878837,0.024827789725571942,0.02461619234980437,0.023574909314785394,0.0233510618067563],\"type\":\"scatter\"},{\"hovertext\":\"<b>Topic 73</b>:encomenda_loiro_celularaguardo_con\",\"line\":{\"color\":\"black\",\"width\":1.5},\"mode\":\"lines+lines\",\"name\":\"\",\"opacity\":0.1,\"x\":[1,2,3,4,5,6,7,8,9,10],\"y\":[0.1134977607649603,0.08293785228173013,0.08293785228173013,0.08293785228173013,0.08293785228173013,0.08293785228173013,0.07633802357549758,0.06973976710343864,0.06973976710343864,0.0644148088572195],\"type\":\"scatter\"},{\"hovertext\":\"<b>Topic 74</b>:ganhar_site_dinheiro_paguei_querer\",\"line\":{\"color\":\"black\",\"width\":1.5},\"mode\":\"lines+lines\",\"name\":\"\",\"opacity\":0.1,\"x\":[1,2,3,4,5,6,7,8,9,10],\"y\":[0.06318890601747715,0.04433285623544125,0.043389088904823576,0.04104734833197532,0.04015656458052527,0.03569046921959698,0.03569046921959698,0.03569046921959698,0.03569046921959698,0.03569046921959698],\"type\":\"scatter\"},{\"hovertext\":\"<b>Topic 75</b>:site_constar_inte_based_m\\u00e1ximohoje\",\"line\":{\"color\":\"black\",\"width\":1.5},\"mode\":\"lines+lines\",\"name\":\"\",\"opacity\":0.1,\"x\":[1,2,3,4,5,6,7,8,9,10],\"y\":[0.08939848695411293,0.05134909367801791,0.049479968690804906,0.049479968690804906,0.049479968690804906,0.04681278250854999,0.04362047762654169,0.04323973015027941,0.043122312084891624,0.04160611105602873],\"type\":\"scatter\"},{\"hovertext\":\"<b>Topic 76</b>:lembran\\u00e7a_frezer_atrase_temo_atar_\",\"line\":{\"color\":\"black\",\"width\":1.5},\"mode\":\"lines+lines\",\"name\":\"\",\"opacity\":0.1,\"x\":[1,2,3,4,5,6,7,8,9,10],\"y\":[0.1280658013173774,0.1280658013173774,0.11191459568307612,0.10768640508619201,0.10172853793701374,0.09577309529825778,0.09264671698381358,0.08979117490030389,0.0833419148217981,0.07811846900968457],\"type\":\"scatter\"}],                        {\"template\":{\"data\":{\"barpolar\":[{\"marker\":{\"line\":{\"color\":\"white\",\"width\":0.5},\"pattern\":{\"fillmode\":\"overlay\",\"size\":10,\"solidity\":0.2}},\"type\":\"barpolar\"}],\"bar\":[{\"error_x\":{\"color\":\"#2a3f5f\"},\"error_y\":{\"color\":\"#2a3f5f\"},\"marker\":{\"line\":{\"color\":\"white\",\"width\":0.5},\"pattern\":{\"fillmode\":\"overlay\",\"size\":10,\"solidity\":0.2}},\"type\":\"bar\"}],\"carpet\":[{\"aaxis\":{\"endlinecolor\":\"#2a3f5f\",\"gridcolor\":\"#C8D4E3\",\"linecolor\":\"#C8D4E3\",\"minorgridcolor\":\"#C8D4E3\",\"startlinecolor\":\"#2a3f5f\"},\"baxis\":{\"endlinecolor\":\"#2a3f5f\",\"gridcolor\":\"#C8D4E3\",\"linecolor\":\"#C8D4E3\",\"minorgridcolor\":\"#C8D4E3\",\"startlinecolor\":\"#2a3f5f\"},\"type\":\"carpet\"}],\"choropleth\":[{\"colorbar\":{\"outlinewidth\":0,\"ticks\":\"\"},\"type\":\"choropleth\"}],\"contourcarpet\":[{\"colorbar\":{\"outlinewidth\":0,\"ticks\":\"\"},\"type\":\"contourcarpet\"}],\"contour\":[{\"colorbar\":{\"outlinewidth\":0,\"ticks\":\"\"},\"colorscale\":[[0.0,\"#0d0887\"],[0.1111111111111111,\"#46039f\"],[0.2222222222222222,\"#7201a8\"],[0.3333333333333333,\"#9c179e\"],[0.4444444444444444,\"#bd3786\"],[0.5555555555555556,\"#d8576b\"],[0.6666666666666666,\"#ed7953\"],[0.7777777777777778,\"#fb9f3a\"],[0.8888888888888888,\"#fdca26\"],[1.0,\"#f0f921\"]],\"type\":\"contour\"}],\"heatmapgl\":[{\"colorbar\":{\"outlinewidth\":0,\"ticks\":\"\"},\"colorscale\":[[0.0,\"#0d0887\"],[0.1111111111111111,\"#46039f\"],[0.2222222222222222,\"#7201a8\"],[0.3333333333333333,\"#9c179e\"],[0.4444444444444444,\"#bd3786\"],[0.5555555555555556,\"#d8576b\"],[0.6666666666666666,\"#ed7953\"],[0.7777777777777778,\"#fb9f3a\"],[0.8888888888888888,\"#fdca26\"],[1.0,\"#f0f921\"]],\"type\":\"heatmapgl\"}],\"heatmap\":[{\"colorbar\":{\"outlinewidth\":0,\"ticks\":\"\"},\"colorscale\":[[0.0,\"#0d0887\"],[0.1111111111111111,\"#46039f\"],[0.2222222222222222,\"#7201a8\"],[0.3333333333333333,\"#9c179e\"],[0.4444444444444444,\"#bd3786\"],[0.5555555555555556,\"#d8576b\"],[0.6666666666666666,\"#ed7953\"],[0.7777777777777778,\"#fb9f3a\"],[0.8888888888888888,\"#fdca26\"],[1.0,\"#f0f921\"]],\"type\":\"heatmap\"}],\"histogram2dcontour\":[{\"colorbar\":{\"outlinewidth\":0,\"ticks\":\"\"},\"colorscale\":[[0.0,\"#0d0887\"],[0.1111111111111111,\"#46039f\"],[0.2222222222222222,\"#7201a8\"],[0.3333333333333333,\"#9c179e\"],[0.4444444444444444,\"#bd3786\"],[0.5555555555555556,\"#d8576b\"],[0.6666666666666666,\"#ed7953\"],[0.7777777777777778,\"#fb9f3a\"],[0.8888888888888888,\"#fdca26\"],[1.0,\"#f0f921\"]],\"type\":\"histogram2dcontour\"}],\"histogram2d\":[{\"colorbar\":{\"outlinewidth\":0,\"ticks\":\"\"},\"colorscale\":[[0.0,\"#0d0887\"],[0.1111111111111111,\"#46039f\"],[0.2222222222222222,\"#7201a8\"],[0.3333333333333333,\"#9c179e\"],[0.4444444444444444,\"#bd3786\"],[0.5555555555555556,\"#d8576b\"],[0.6666666666666666,\"#ed7953\"],[0.7777777777777778,\"#fb9f3a\"],[0.8888888888888888,\"#fdca26\"],[1.0,\"#f0f921\"]],\"type\":\"histogram2d\"}],\"histogram\":[{\"marker\":{\"pattern\":{\"fillmode\":\"overlay\",\"size\":10,\"solidity\":0.2}},\"type\":\"histogram\"}],\"mesh3d\":[{\"colorbar\":{\"outlinewidth\":0,\"ticks\":\"\"},\"type\":\"mesh3d\"}],\"parcoords\":[{\"line\":{\"colorbar\":{\"outlinewidth\":0,\"ticks\":\"\"}},\"type\":\"parcoords\"}],\"pie\":[{\"automargin\":true,\"type\":\"pie\"}],\"scatter3d\":[{\"line\":{\"colorbar\":{\"outlinewidth\":0,\"ticks\":\"\"}},\"marker\":{\"colorbar\":{\"outlinewidth\":0,\"ticks\":\"\"}},\"type\":\"scatter3d\"}],\"scattercarpet\":[{\"marker\":{\"colorbar\":{\"outlinewidth\":0,\"ticks\":\"\"}},\"type\":\"scattercarpet\"}],\"scattergeo\":[{\"marker\":{\"colorbar\":{\"outlinewidth\":0,\"ticks\":\"\"}},\"type\":\"scattergeo\"}],\"scattergl\":[{\"marker\":{\"colorbar\":{\"outlinewidth\":0,\"ticks\":\"\"}},\"type\":\"scattergl\"}],\"scattermapbox\":[{\"marker\":{\"colorbar\":{\"outlinewidth\":0,\"ticks\":\"\"}},\"type\":\"scattermapbox\"}],\"scatterpolargl\":[{\"marker\":{\"colorbar\":{\"outlinewidth\":0,\"ticks\":\"\"}},\"type\":\"scatterpolargl\"}],\"scatterpolar\":[{\"marker\":{\"colorbar\":{\"outlinewidth\":0,\"ticks\":\"\"}},\"type\":\"scatterpolar\"}],\"scatter\":[{\"marker\":{\"colorbar\":{\"outlinewidth\":0,\"ticks\":\"\"}},\"type\":\"scatter\"}],\"scatterternary\":[{\"marker\":{\"colorbar\":{\"outlinewidth\":0,\"ticks\":\"\"}},\"type\":\"scatterternary\"}],\"surface\":[{\"colorbar\":{\"outlinewidth\":0,\"ticks\":\"\"},\"colorscale\":[[0.0,\"#0d0887\"],[0.1111111111111111,\"#46039f\"],[0.2222222222222222,\"#7201a8\"],[0.3333333333333333,\"#9c179e\"],[0.4444444444444444,\"#bd3786\"],[0.5555555555555556,\"#d8576b\"],[0.6666666666666666,\"#ed7953\"],[0.7777777777777778,\"#fb9f3a\"],[0.8888888888888888,\"#fdca26\"],[1.0,\"#f0f921\"]],\"type\":\"surface\"}],\"table\":[{\"cells\":{\"fill\":{\"color\":\"#EBF0F8\"},\"line\":{\"color\":\"white\"}},\"header\":{\"fill\":{\"color\":\"#C8D4E3\"},\"line\":{\"color\":\"white\"}},\"type\":\"table\"}]},\"layout\":{\"annotationdefaults\":{\"arrowcolor\":\"#2a3f5f\",\"arrowhead\":0,\"arrowwidth\":1},\"autotypenumbers\":\"strict\",\"coloraxis\":{\"colorbar\":{\"outlinewidth\":0,\"ticks\":\"\"}},\"colorscale\":{\"diverging\":[[0,\"#8e0152\"],[0.1,\"#c51b7d\"],[0.2,\"#de77ae\"],[0.3,\"#f1b6da\"],[0.4,\"#fde0ef\"],[0.5,\"#f7f7f7\"],[0.6,\"#e6f5d0\"],[0.7,\"#b8e186\"],[0.8,\"#7fbc41\"],[0.9,\"#4d9221\"],[1,\"#276419\"]],\"sequential\":[[0.0,\"#0d0887\"],[0.1111111111111111,\"#46039f\"],[0.2222222222222222,\"#7201a8\"],[0.3333333333333333,\"#9c179e\"],[0.4444444444444444,\"#bd3786\"],[0.5555555555555556,\"#d8576b\"],[0.6666666666666666,\"#ed7953\"],[0.7777777777777778,\"#fb9f3a\"],[0.8888888888888888,\"#fdca26\"],[1.0,\"#f0f921\"]],\"sequentialminus\":[[0.0,\"#0d0887\"],[0.1111111111111111,\"#46039f\"],[0.2222222222222222,\"#7201a8\"],[0.3333333333333333,\"#9c179e\"],[0.4444444444444444,\"#bd3786\"],[0.5555555555555556,\"#d8576b\"],[0.6666666666666666,\"#ed7953\"],[0.7777777777777778,\"#fb9f3a\"],[0.8888888888888888,\"#fdca26\"],[1.0,\"#f0f921\"]]},\"colorway\":[\"#636efa\",\"#EF553B\",\"#00cc96\",\"#ab63fa\",\"#FFA15A\",\"#19d3f3\",\"#FF6692\",\"#B6E880\",\"#FF97FF\",\"#FECB52\"],\"font\":{\"color\":\"#2a3f5f\"},\"geo\":{\"bgcolor\":\"white\",\"lakecolor\":\"white\",\"landcolor\":\"white\",\"showlakes\":true,\"showland\":true,\"subunitcolor\":\"#C8D4E3\"},\"hoverlabel\":{\"align\":\"left\"},\"hovermode\":\"closest\",\"mapbox\":{\"style\":\"light\"},\"paper_bgcolor\":\"white\",\"plot_bgcolor\":\"white\",\"polar\":{\"angularaxis\":{\"gridcolor\":\"#EBF0F8\",\"linecolor\":\"#EBF0F8\",\"ticks\":\"\"},\"bgcolor\":\"white\",\"radialaxis\":{\"gridcolor\":\"#EBF0F8\",\"linecolor\":\"#EBF0F8\",\"ticks\":\"\"}},\"scene\":{\"xaxis\":{\"backgroundcolor\":\"white\",\"gridcolor\":\"#DFE8F3\",\"gridwidth\":2,\"linecolor\":\"#EBF0F8\",\"showbackground\":true,\"ticks\":\"\",\"zerolinecolor\":\"#EBF0F8\"},\"yaxis\":{\"backgroundcolor\":\"white\",\"gridcolor\":\"#DFE8F3\",\"gridwidth\":2,\"linecolor\":\"#EBF0F8\",\"showbackground\":true,\"ticks\":\"\",\"zerolinecolor\":\"#EBF0F8\"},\"zaxis\":{\"backgroundcolor\":\"white\",\"gridcolor\":\"#DFE8F3\",\"gridwidth\":2,\"linecolor\":\"#EBF0F8\",\"showbackground\":true,\"ticks\":\"\",\"zerolinecolor\":\"#EBF0F8\"}},\"shapedefaults\":{\"line\":{\"color\":\"#2a3f5f\"}},\"ternary\":{\"aaxis\":{\"gridcolor\":\"#DFE8F3\",\"linecolor\":\"#A2B1C6\",\"ticks\":\"\"},\"baxis\":{\"gridcolor\":\"#DFE8F3\",\"linecolor\":\"#A2B1C6\",\"ticks\":\"\"},\"bgcolor\":\"white\",\"caxis\":{\"gridcolor\":\"#DFE8F3\",\"linecolor\":\"#A2B1C6\",\"ticks\":\"\"}},\"title\":{\"x\":0.05},\"xaxis\":{\"automargin\":true,\"gridcolor\":\"#EBF0F8\",\"linecolor\":\"#EBF0F8\",\"ticks\":\"\",\"title\":{\"standoff\":15},\"zerolinecolor\":\"#EBF0F8\",\"zerolinewidth\":2},\"yaxis\":{\"automargin\":true,\"gridcolor\":\"#EBF0F8\",\"linecolor\":\"#EBF0F8\",\"ticks\":\"\",\"title\":{\"standoff\":15},\"zerolinecolor\":\"#EBF0F8\",\"zerolinewidth\":2}}},\"xaxis\":{\"range\":[0,10],\"tick0\":1,\"dtick\":2,\"title\":{\"text\":\"Term Rank\"}},\"title\":{\"font\":{\"size\":22,\"color\":\"Black\"},\"text\":\"<b>Term score decline per Topic</b>\",\"y\":0.9,\"x\":0.5,\"xanchor\":\"center\",\"yanchor\":\"top\"},\"hoverlabel\":{\"font\":{\"size\":16,\"family\":\"Rockwell\"},\"bgcolor\":\"white\"},\"showlegend\":false,\"width\":800,\"height\":500,\"yaxis\":{\"title\":{\"text\":\"c-TF-IDF score\"}}},                        {\"responsive\": true}                    ).then(function(){\n",
              "                            \n",
              "var gd = document.getElementById('362df7f4-4d06-46dc-9f2f-215a06040ec5');\n",
              "var x = new MutationObserver(function (mutations, observer) {{\n",
              "        var display = window.getComputedStyle(gd).display;\n",
              "        if (!display || display === 'none') {{\n",
              "            console.log([gd, 'removed!']);\n",
              "            Plotly.purge(gd);\n",
              "            observer.disconnect();\n",
              "        }}\n",
              "}});\n",
              "\n",
              "// Listen for the removal of the full notebook cells\n",
              "var notebookContainer = gd.closest('#notebook-container');\n",
              "if (notebookContainer) {{\n",
              "    x.observe(notebookContainer, {childList: true});\n",
              "}}\n",
              "\n",
              "// Listen for the clearing of the current output cell\n",
              "var outputEl = gd.closest('.output');\n",
              "if (outputEl) {{\n",
              "    x.observe(outputEl, {childList: true});\n",
              "}}\n",
              "\n",
              "                        })                };                            </script>        </div>\n",
              "</body>\n",
              "</html>"
            ]
          },
          "metadata": {}
        }
      ]
    },
    {
      "cell_type": "markdown",
      "source": [
        "#### **Save Term score decline per Topic**"
      ],
      "metadata": {
        "id": "6UXg4gpFpwZg"
      }
    },
    {
      "cell_type": "code",
      "source": [
        "# Set the path to save \n",
        "path = WORK_DIR + f'results/{DATA_FRAME_FEATURE_NAME}/term_score_decline_topic/'\n",
        "\n",
        "# Use makedirs() to create a new directory if it does not exists\n",
        "if not os.path.exists(path):\n",
        "  os.makedirs(path)\n",
        "\n",
        "\n",
        "fig.write_image(path + \"tsdp_preprocessed_lemma.png\", format=\"png\")"
      ],
      "metadata": {
        "id": "F5Gppkjpp0hS"
      },
      "execution_count": 56,
      "outputs": []
    },
    {
      "cell_type": "markdown",
      "source": [
        "[Github link](https://github.com/punkmic/Topic-Modeling-Reclame-Aqui/blob/master/results/term_socore_decline_topic/tsdp_preprocessed_lemma.png?raw=true)"
      ],
      "metadata": {
        "id": "QERxP9EspLjX"
      }
    },
    {
      "cell_type": "markdown",
      "source": [
        "### **Term search**"
      ],
      "metadata": {
        "id": "AZIV-p12ZMXa"
      }
    },
    {
      "cell_type": "code",
      "source": [
        "# Find topics that contains blackfriday term\n",
        "similar_topics, similarity = topic_model.find_topics(\"blackfriday\", top_n=5)\n",
        "\n",
        "# Show similar topics\n",
        "similar_topics"
      ],
      "metadata": {
        "id": "pHHayMGRZOob",
        "outputId": "3311f1a6-ce3f-4232-b9f8-b7e919a72bbf",
        "colab": {
          "base_uri": "https://localhost:8080/"
        }
      },
      "execution_count": 57,
      "outputs": [
        {
          "output_type": "execute_result",
          "data": {
            "text/plain": [
              "[13, 63, 76, 16, 19]"
            ]
          },
          "metadata": {},
          "execution_count": 57
        }
      ]
    },
    {
      "cell_type": "code",
      "source": [
        "# Show a specific topic\n",
        "topic_model.get_topic(64)"
      ],
      "metadata": {
        "id": "2BnwvRotZUya",
        "outputId": "31122920-7d1d-46f7-9255-d2eed2a8e872",
        "colab": {
          "base_uri": "https://localhost:8080/"
        }
      },
      "execution_count": 58,
      "outputs": [
        {
          "output_type": "execute_result",
          "data": {
            "text/plain": [
              "[('shampoo', 0.13423474932825358),\n",
              " ('cabelo', 0.12838957102037027),\n",
              " ('natural', 0.052932743434162155),\n",
              " ('metade', 0.049756134798141526),\n",
              " ('boneca', 0.043750429928640984),\n",
              " ('creme', 0.0377530449016743),\n",
              " ('derramar', 0.03734817863896902),\n",
              " ('haskell', 0.033607934907451766),\n",
              " ('embolar', 0.033607934907451766),\n",
              " ('produto', 0.0292668586600383)]"
            ]
          },
          "metadata": {},
          "execution_count": 58
        }
      ]
    },
    {
      "cell_type": "markdown",
      "source": [
        "### **\"Hiperparameter optimization\"**"
      ],
      "metadata": {
        "id": "f3Q_mQRNPRhr"
      }
    },
    {
      "cell_type": "code",
      "source": [
        "%%capture\n",
        "!pip install optuna\n",
        "!pip install hdbscan\n",
        "!pip install umap-learn\n",
        "!pip install tabulate\n",
        "!pip install gensim\n",
        "!pip install pyldavis"
      ],
      "metadata": {
        "id": "5vxgob5fPpc1"
      },
      "execution_count": 98,
      "outputs": []
    },
    {
      "cell_type": "code",
      "source": [
        "import json\n",
        "import optuna # for hyperparameter optimization\n",
        "from hdbscan import HDBSCAN # for clustering\n",
        "from sklearn.cluster import KMeans # for clustering\n",
        "from umap import UMAP # for dimension reduction\n",
        "from sklearn.decomposition import PCA # for dimension reduction\n",
        "from sklearn.feature_extraction.text import CountVectorizer # for convert text documents to matrix of tokens count\n",
        "from bertopic.vectorizers import ClassTfidfTransformer \n",
        "import ast # for convert str to tuple\n",
        "import csv\n",
        "from tabulate import tabulate\n",
        "import gensim\n",
        "from gensim import models\n",
        "import gensim.corpora as corpora\n",
        "from gensim.corpora import Dictionary\n",
        "from gensim.models.coherencemodel import CoherenceModel\n",
        "import matplotlib.pyplot as plt\n",
        "import numpy as np\n",
        "import pickle \n",
        "import pyLDAvis"
      ],
      "metadata": {
        "id": "qQOTWqh-PTwV"
      },
      "execution_count": 102,
      "outputs": []
    },
    {
      "cell_type": "code",
      "source": [
        "def plot_coherence(model_label, nr_topics, coherences):\n",
        "  topicsname=[]\n",
        "  for i in range(1,nr_topics+1):\n",
        "      topicsname.append(\"t{0}\".format(i))\n",
        "  topicsname\n",
        "\n",
        "  plt.plot(topicsname, coherences)\n",
        "  plt.xlabel(\"Number of Topics\")\n",
        "  plt.ylabel(\"Coherence score\")\n",
        "  plt.legend((\"coherence_values\"), loc='best')\n",
        "  plt.show()"
      ],
      "metadata": {
        "id": "cfB6RxCOPx5D"
      },
      "execution_count": 118,
      "outputs": []
    },
    {
      "cell_type": "code",
      "source": [
        "def save_documents(model, docs, label):\n",
        "  fig = topic_model.visualize_documents(docs, hide_document_hover=True, hide_annotations=True, width=800, height=800)\n",
        "\n",
        "  # Set the path to save \n",
        "  path = WORK_DIR + f'results/{DATA_FRAME_FEATURE_NAME}/documents_n_topics/'\n",
        "\n",
        "  # Use makedirs() to create a new directory if it does not exists\n",
        "  if not os.path.exists(path):\n",
        "    os.makedirs(path)\n",
        "\n",
        "  fig.write_image(path + f\"document_n_topics_trial_{label}.png\", format=\"png\")\n",
        "  fig.write_html(path + f\"document_n_topics_trial_{label}.html\")"
      ],
      "metadata": {
        "id": "O-l1u6wucN1m"
      },
      "execution_count": 119,
      "outputs": []
    },
    {
      "cell_type": "code",
      "source": [
        "def save_topics(model, label):\n",
        "  fig = model.visualize_topics(width=800, height=800)\n",
        "\n",
        "  # Set the path to save \n",
        "  path = WORK_DIR + f'results/{DATA_FRAME_FEATURE_NAME}/intertopic_distance_map/'\n",
        "\n",
        "  # Use makedirs() to create a new directory if it does not exists\n",
        "  if not os.path.exists(path):\n",
        "    os.makedirs(path)\n",
        "\n",
        "  fig.write_image(path + f\"intertopic_distance_map_trial_{label}.png\", format=\"png\")\n",
        "  fig.write_html(path + f\"intertopic_distance_map_trial_{label}.html\")"
      ],
      "metadata": {
        "id": "zEr6GcxHZptw"
      },
      "execution_count": 120,
      "outputs": []
    },
    {
      "cell_type": "code",
      "source": [
        "def save_hierarchy(model, label):\n",
        "  fig = model.visualize_hierarchy(width=800, height=800)\n",
        "\n",
        "  # Set the path to save \n",
        "  path = WORK_DIR + f'results/{DATA_FRAME_FEATURE_NAME}/hierarchical_clustering/'\n",
        "\n",
        "  # Use makedirs() to create a new directory if it does not exists\n",
        "  if not os.path.exists(path):\n",
        "    os.makedirs(path)\n",
        "\n",
        "  fig.write_image(path + f\"hierarchical_clustering_trial_{label}.png\", format=\"png\")\n",
        "  fig.write_html(path + f\"hierarchical_clustering_trial_{label}.html\")"
      ],
      "metadata": {
        "id": "9XqbXn0KZ3r1"
      },
      "execution_count": 121,
      "outputs": []
    },
    {
      "cell_type": "code",
      "source": [
        "def save_top_words_scores(model, label):\n",
        "  fig = model.visualize_barchart(top_n_topics=12, width=300, height=300)\n",
        "\n",
        "  # Set the path to save \n",
        "  path = WORK_DIR + f'results/{DATA_FRAME_FEATURE_NAME}/top_words_scores/'\n",
        "\n",
        "  # Use makedirs() to create a new directory if it does not exists\n",
        "  if not os.path.exists(path):\n",
        "    os.makedirs(path)\n",
        "\n",
        "  fig.write_image(path + f\"top_words_scores_trial_{label}.png\", format=\"png\")\n",
        "  fig.write_html(path + f\"top_words_scores_trial_{label}.html\")"
      ],
      "metadata": {
        "id": "A_21t9rmZ4Pr"
      },
      "execution_count": 122,
      "outputs": []
    },
    {
      "cell_type": "code",
      "source": [
        "def save_similarity_matrix(model, label):\n",
        "  fig = model.visualize_heatmap()\n",
        "\n",
        "  # Set the path to save \n",
        "  path = WORK_DIR + f'results/{DATA_FRAME_FEATURE_NAME}/similarity_matrix/'\n",
        "\n",
        "  # Use makedirs() to create a new directory if it does not exists\n",
        "  if not os.path.exists(path):\n",
        "    os.makedirs(path)\n",
        "\n",
        "  fig.write_image(path + f\"similarity_matrix_trial_{label}.png\", format=\"png\")\n",
        "  fig.write_html(path + f\"similarity_matrix_trial_{label}.html\")"
      ],
      "metadata": {
        "id": "lTV5l7q7Z45m"
      },
      "execution_count": 123,
      "outputs": []
    },
    {
      "cell_type": "code",
      "source": [
        "def save_term_rank(model, label):\n",
        "  fig = model.visualize_term_rank(width=800, height=800)\n",
        "\n",
        "  # Set the path to save \n",
        "  path = WORK_DIR + f'results/{DATA_FRAME_FEATURE_NAME}/term_score_decline_topic/'\n",
        "\n",
        "  # Use makedirs() to create a new directory if it does not exists\n",
        "  if not os.path.exists(path):\n",
        "    os.makedirs(path)\n",
        "\n",
        "  fig.write_image(path + f\"term_score_trial_{label}.png\", format=\"png\")\n",
        "  fig.write_html(path + f\"term_score_trial_{label}.html\")"
      ],
      "metadata": {
        "id": "Ag4Yv6r2bfeR"
      },
      "execution_count": 124,
      "outputs": []
    },
    {
      "cell_type": "code",
      "source": [
        "def save_hyperparameters(trial_params, label):\n",
        "  # Set the path to save \n",
        "  path = WORK_DIR + f'results/{DATA_FRAME_FEATURE_NAME}/hyperparameters/'\n",
        "\n",
        "  # Use makedirs() to create a new directory if it does not exists\n",
        "  if not os.path.exists(path):\n",
        "    os.makedirs(path)\n",
        "\n",
        "  with open(path + f\"hyperparameters_trial_{label}.json\", \"w\") as f:\n",
        "    f.write(json.dumps(trial_params))"
      ],
      "metadata": {
        "id": "3wuSDGh4dxlg"
      },
      "execution_count": 125,
      "outputs": []
    },
    {
      "cell_type": "code",
      "source": [
        "def save_freq_topics(model, label):\n",
        "  # Print the most frequent topics\n",
        "  freq = topic_model.get_topic_info()\n",
        "\n",
        "  # Show the top 5 most frequent topics\n",
        "  freq = freq.head(5)\n",
        "\n",
        "  # Set the path to save \n",
        "  path = WORK_DIR + f'results/{DATA_FRAME_FEATURE_NAME}/frequent_topics/' \n",
        "\n",
        "  # Use makedirs() to create a new directory if it does not exists\n",
        "  if not os.path.exists(path):\n",
        "    os.makedirs(path)\n",
        "\n",
        "  freq.to_html(path + f\"freq_topics_trial_{label}.json\")\n",
        "  freq.to_csv(path + f\"freq_topics_trial_{label}.csv\", index=False)"
      ],
      "metadata": {
        "id": "DQcgSa44ZtdC"
      },
      "execution_count": 126,
      "outputs": []
    },
    {
      "cell_type": "code",
      "source": [
        "def save_model(model, label):\n",
        "  # save model\n",
        "  path = WORK_DIR + f'results/{DATA_FRAME_FEATURE_NAME}/models/'\n",
        "\n",
        "  # Use makedirs() to create a new directory if it does not exists\n",
        "  if not os.path.exists(path):\n",
        "    os.makedirs(path)\n",
        "\n",
        "  model.save(path + label)"
      ],
      "metadata": {
        "id": "lv9hK2GrQhoe"
      },
      "execution_count": 127,
      "outputs": []
    },
    {
      "cell_type": "code",
      "source": [
        "lda_scores = {'scores': []}\n",
        "bertopic_scores = {'scores': []}\n",
        "def save_coherence(model, topics, docs, label, clustering_model, reduction_model):\n",
        "  \n",
        "  # compute coherence score for BERTopic\n",
        "  coherence_score = get_coherence(model, topics, docs)\n",
        "  bertopic_scores['scores'].append(coherence_score)\n",
        "  print(f\"Bertopic Coeherence score: {coherence_score}\")\n",
        "\n",
        "  # compute coherence score for LDA\n",
        "  lda_score = get_lda_coherence_score(docs, len(topics))\n",
        "  lda_scores['scores'].append(lda_score)\n",
        "  print(f\"LDA Coeherence score: {lda_score}\")\n",
        "\n",
        "  \n",
        "  # save scores\n",
        "  path = WORK_DIR + f'results/{DATA_FRAME_FEATURE_NAME}/coherence/'\n",
        "\n",
        "  if not os.path.exists(path):\n",
        "    os.makedirs(path)\n",
        "\n",
        "  with open(path + 'coherence_scores.csv', 'a', newline='') as f:\n",
        "    fieldnames = ['model', 'clustering', 'reduction', 'coherence_score', 'lda_coherence_score']\n",
        "    writer = csv.DictWriter(f, fieldnames=fieldnames)\n",
        "    data = [{'model': label,\n",
        "             'clustering': clustering_model, \n",
        "             'reduction': reduction_model,\n",
        "             'coherence_score': round(coherence_score, 4),\n",
        "             'lda_coherence_score': lda_score}]\n",
        "    writer.writerows(data)\n",
        "  return coherence_score"
      ],
      "metadata": {
        "id": "MkxTHUdDPuIH"
      },
      "execution_count": 128,
      "outputs": []
    },
    {
      "cell_type": "code",
      "source": [
        "def visualize_lda(lda_model, nr_topics, corpus, id2word):\n",
        "  path = WORK_DIR + 'results/lda/topics/ldavis_' + str(nr_topics)\n",
        "\n",
        "  vis = pyLDAvis.gensim.prepare(lda_model, corpus, id2word)\n",
        " \n",
        "  with open(path, 'wb') as f:\n",
        "        pickle.dump(LDAvis_prepared, f)\n",
        "\n",
        "  with open(path, 'rb') as f:\n",
        "    LDAvis_prepared = pickle.load(f)\n",
        "  \n",
        "  pyLDAvis.save_html(LDAvis_prepared, WORK_DIR + 'results/lda/topics/ldavis_'+ str(nr_topics) +'.html')\n",
        "  LDAvis_prepared"
      ],
      "metadata": {
        "id": "YKE1YbPBWOcM"
      },
      "execution_count": 129,
      "outputs": []
    },
    {
      "cell_type": "code",
      "source": [
        "def get_lda_coherence_score(docs, nr_topics):\n",
        "\n",
        "  # tokenize docs \n",
        "  docs = [tokenize(doc) for doc in docs] \n",
        "\n",
        "  # create a new Dictionary\n",
        "  id2word = corpora.Dictionary(docs)\n",
        "  \n",
        "  # term Document Frequency\n",
        "  corpus = [id2word.doc2bow(text) for text in docs]\n",
        "\n",
        "  # create a new LDA model\n",
        "  lda_model = models.LdaMulticore(corpus=corpus,\n",
        "                                       id2word=id2word,\n",
        "                                       num_topics=nr_topics,\n",
        "                                       random_state=100)\n",
        "\n",
        "  # Compute Coherence Score\n",
        "  coherence_model_lda = CoherenceModel(model=lda_model, texts=docs, dictionary=id2word, coherence='c_v')\n",
        "  coherence_lda = coherence_model_lda.get_coherence()\n",
        "  print('LDA coherence Score: ', coherence_lda)\n",
        "  return coherence_lda"
      ],
      "metadata": {
        "id": "jXoevUW7MHgs"
      },
      "execution_count": 130,
      "outputs": []
    },
    {
      "cell_type": "code",
      "source": [
        "# define the number of models to generate by optuna\n",
        "NUMBER_OF_MODELS = 20"
      ],
      "metadata": {
        "id": "ZcAm5WqZxLnm"
      },
      "execution_count": 131,
      "outputs": []
    },
    {
      "cell_type": "code",
      "source": [
        "def optimizer(trial):\n",
        "\n",
        "  clustering_option = trial.suggest_categorical('clustering_algorithm__name', ['HDBSCAN', 'K-means'])\n",
        "  dimensionality_option = trial.suggest_categorical('reduction_algorithm__name', ['UMAP', 'PCA'])\n",
        "\n",
        "  # BERTopic hyperparameters\n",
        "  top_n_words = trial.suggest_int('bertopic__top_n_words', 5, 14)\n",
        "  n_gram_range = ast.literal_eval(trial.suggest_categorical('bertopic__n_gram_range', ['(1,1)', '(1,2)', '(1,3)']))\n",
        "  min_topic_size = trial.suggest_int('bertopic__min_topic_size', 15, 20)\n",
        "  diversity = trial.suggest_float('bertopic__diversity', 0.1, 1.0)\n",
        "  outlier_threshold = trial.suggest_float('bertopic__outliers_threshold', 0.04, 0.09)\n",
        "  nr_topics = trial.suggest_int('bertopic__nr_topics', 6, 20, step=1)\n",
        "\n",
        "  if clustering_option == 'HDBSCAN':\n",
        "    # HDBSCAN hyperparameters\n",
        "    min_cluster_size = trial.suggest_int('hdbscan__min_cluster_size', 10, 14)\n",
        "    cluster_selection_epsilon = trial.suggest_float('hdbscan__cluster_selection_epsilon', 0.1, 1.0)\n",
        "\n",
        "    # create a new HDBSCAN model to cluster documents\n",
        "    clustering_model = HDBSCAN(min_cluster_size=min_cluster_size, prediction_data=True)\n",
        "  elif clustering_option == 'K-means':\n",
        "    # K-means hyperparameters\n",
        "    k_means_n_clusters = trial.suggest_int('k-means__n_cluster',6, 10)\n",
        "\n",
        "    # create a new HDBSCAN model to cluster documents\n",
        "    clustering_model = KMeans(n_clusters=k_means_n_clusters)\n",
        "\n",
        "\n",
        "  if dimensionality_option == 'UMAP':\n",
        "    \n",
        "    # UMAP hyperparameters\n",
        "    n_neighbors = trial.suggest_int('umap__n_neighbors', 13, 17)\n",
        "    n_components = trial.suggest_int('umap__n_components', 2, 8)\n",
        "    metric = trial.suggest_categorical('umap__metric', ['cosine', 'euclidean'])\n",
        "    min_dist = trial.suggest_float('umap__min_dist', 0.1, 1.0)\n",
        "    spread = trial.suggest_float('umap__spread', 0.1, 1.0)\n",
        "\n",
        "    # create a new UMAP model to reduce dimension\n",
        "    reduction_model = UMAP(n_neighbors=n_neighbors, metric=metric, random_state=42)\n",
        "  elif dimensionality_option == 'PCA':\n",
        "    \n",
        "    # PCA hyperparameters\n",
        "    pca_n_components = trial.suggest_int('pca__n_components', 4, 6)\n",
        "    \n",
        "    # create a new PCA model to reduce dimension\n",
        "    reduction_model = PCA(n_components=pca_n_components, random_state=12) # k-Means, that does not produce any outliers at all\n",
        "\n",
        "\n",
        "  # CountVectorizer hyperparameters \n",
        "  max_features = trial.suggest_int('vectorizer__max_features', 3000, 6000)\n",
        "\n",
        "  # reduce the impact of frequent words.\n",
        "  ctfidf_model = ClassTfidfTransformer(reduce_frequent_words=True)\n",
        "\n",
        "  # list of portuguese stop words + custom words\n",
        "  stop_words = nltk.corpus.stopwords.words('portuguese') + custom_stop_words\n",
        "\n",
        "  # create a new CountVectorizer to create a matrix of tokens count\n",
        "  vectorizer_model = CountVectorizer(stop_words=stop_words, ngram_range=n_gram_range, max_features=max_features)\n",
        "\n",
        "\n",
        "  # create a new BERTopic model using multilingual option\n",
        "  model = BERTopic(language=\"multilingual\", \n",
        "                   nr_topics=nr_topics,\n",
        "                   calculate_probabilities=True, \n",
        "                   verbose=False,\n",
        "                   top_n_words=top_n_words,\n",
        "                   n_gram_range=n_gram_range,\n",
        "                   min_topic_size=min_topic_size,\n",
        "                   diversity=diversity,\n",
        "                   umap_model=reduction_model,\n",
        "                   hdbscan_model=clustering_model,\n",
        "                   vectorizer_model=vectorizer_model,\n",
        "                   ctfidf_model=ctfidf_model)\n",
        "  \n",
        "  try:\n",
        "    label = trial.number\n",
        "    params = trial.params\n",
        "  \n",
        "    # define model id\n",
        "    model_id = f\"model_trial_{label}\"\n",
        "\n",
        "    # train BERTopic model \n",
        "    topics, probs = model.fit_transform(docs)\n",
        "\n",
        "    # save plots\n",
        "    save_topics(model, label)\n",
        "    save_documents(model, docs, label)\n",
        "    save_hierarchy(model, label)\n",
        "    save_term_rank(model, label)\n",
        "    save_top_words_scores(model, label)\n",
        "  \n",
        "    # save model\n",
        "    save_model(model, model_id)\n",
        "\n",
        "    # save hyperparameters\n",
        "    save_hyperparameters(params, label)\n",
        "\n",
        "    # save model coherence score\n",
        "    save_coherence(model, topics, docs, model_id,\n",
        "                           clustering_option,dimensionality_option)\n",
        "    \n",
        "  except Exception as error:\n",
        "    print(error)\n",
        "  \n",
        "  return 0.0"
      ],
      "metadata": {
        "id": "O87BZ5kyQEvZ"
      },
      "execution_count": 132,
      "outputs": []
    },
    {
      "cell_type": "code",
      "source": [
        "%%time\n",
        "\n",
        "# create a new study\n",
        "study = optuna.create_study(study_name='Bertopic')\n",
        "\n",
        "# run the optmize function \n",
        "study.optimize(optimizer, n_trials=NUMBER_OF_MODELS)"
      ],
      "metadata": {
        "id": "57mnK6MfYAp4",
        "colab": {
          "base_uri": "https://localhost:8080/"
        },
        "outputId": "2c24fe18-a9d6-4f3f-886c-b670213bdd85"
      },
      "execution_count": null,
      "outputs": [
        {
          "output_type": "stream",
          "name": "stderr",
          "text": [
            "\u001b[32m[I 2023-01-09 21:26:46,213]\u001b[0m A new study created in memory with name: Bertopic\u001b[0m\n",
            "2023-01-09 21:27:03,812 - BERTopic - Transformed documents to Embeddings\n",
            "2023-01-09 21:27:04,106 - BERTopic - Reduced dimensionality\n",
            "2023-01-09 21:27:05,839 - BERTopic - Clustered reduced embeddings\n",
            "2023-01-09 21:27:11,155 - BERTopic - Reduced number of topics from 6 to 6\n",
            "/usr/local/lib/python3.8/dist-packages/plotly/figure_factory/_dendrogram.py:350: DeprecationWarning:\n",
            "\n",
            "scipy.array is deprecated and will be removed in SciPy 2.0.0, use numpy.array instead\n",
            "\n",
            "/usr/local/lib/python3.8/dist-packages/plotly/figure_factory/_dendrogram.py:351: DeprecationWarning:\n",
            "\n",
            "scipy.array is deprecated and will be removed in SciPy 2.0.0, use numpy.array instead\n",
            "\n",
            "/usr/local/lib/python3.8/dist-packages/plotly/figure_factory/_dendrogram.py:352: DeprecationWarning:\n",
            "\n",
            "scipy.array is deprecated and will be removed in SciPy 2.0.0, use numpy.array instead\n",
            "\n",
            "/usr/local/lib/python3.8/dist-packages/plotly/figure_factory/_dendrogram.py:353: DeprecationWarning:\n",
            "\n",
            "scipy.array is deprecated and will be removed in SciPy 2.0.0, use numpy.array instead\n",
            "\n"
          ]
        },
        {
          "output_type": "stream",
          "name": "stdout",
          "text": [
            "Bertopic Coeherence score: 0.7275030888404456\n"
          ]
        },
        {
          "output_type": "stream",
          "name": "stderr",
          "text": [
            "WARNING:gensim.models.ldamulticore:too few updates, training might not converge; consider increasing the number of passes or iterations to improve accuracy\n"
          ]
        }
      ]
    },
    {
      "cell_type": "markdown",
      "source": [
        "#### **Merge of similar topics**"
      ],
      "metadata": {
        "id": "kmSbzWH0gJHM"
      }
    },
    {
      "cell_type": "code",
      "source": [
        "# TODO: select the best model and merge similar topic and save final model\n",
        "\n",
        "#topic_model = BERTopic.load(\"best_model\")"
      ],
      "metadata": {
        "id": "OWI9jDFYgTLW"
      },
      "execution_count": null,
      "outputs": []
    },
    {
      "cell_type": "markdown",
      "source": [
        "#### **Github**"
      ],
      "metadata": {
        "id": "F0gliNtXRkfH"
      }
    },
    {
      "cell_type": "code",
      "source": [
        "! ssh-keygen -t rsa -b 4096\n",
        "# Add github.com to our known hosts\n",
        "! ssh-keyscan -t rsa github.com >> ~/.ssh/known_hosts\n",
        "# Restrict the key permissions, or else SSH will complain.\n",
        "! chmod go-rwx /root/.ssh/id_rsa"
      ],
      "metadata": {
        "id": "yVd1eoa0zK7f",
        "outputId": "b0816ac1-7f04-4da8-c0ab-932b320300cf",
        "colab": {
          "base_uri": "https://localhost:8080/"
        }
      },
      "execution_count": 1,
      "outputs": [
        {
          "output_type": "stream",
          "name": "stdout",
          "text": [
            "Generating public/private rsa key pair.\n",
            "Enter file in which to save the key (/root/.ssh/id_rsa): \n",
            "Created directory '/root/.ssh'.\n",
            "Enter passphrase (empty for no passphrase): \n",
            "Enter same passphrase again: \n",
            "Your identification has been saved in /root/.ssh/id_rsa.\n",
            "Your public key has been saved in /root/.ssh/id_rsa.pub.\n",
            "The key fingerprint is:\n",
            "SHA256:hdJALtbrI2IShZJMVwLP6MA4If6G7MtQAor4BoqsWCo root@46d33c55a4d7\n",
            "The key's randomart image is:\n",
            "+---[RSA 4096]----+\n",
            "|oo.o.oo          |\n",
            "|B+= .o o .       |\n",
            "|O=.oo + o .      |\n",
            "|Xoo. . o .       |\n",
            "|B+.o  . S        |\n",
            "|=*.  .           |\n",
            "|=o* . o          |\n",
            "|E*.. . .         |\n",
            "|=o               |\n",
            "+----[SHA256]-----+\n",
            "# github.com:22 SSH-2.0-babeld-4ce3b487\n"
          ]
        }
      ]
    },
    {
      "cell_type": "code",
      "source": [
        "! cat /root/.ssh/id_rsa.pub"
      ],
      "metadata": {
        "id": "_z-PSHRzz0PY"
      },
      "execution_count": null,
      "outputs": []
    },
    {
      "cell_type": "code",
      "source": [
        "!git config --global user.email \"\"\n",
        "!git config --global user.name \"\""
      ],
      "metadata": {
        "id": "4iixpGcjzxrO"
      },
      "execution_count": 3,
      "outputs": []
    },
    {
      "cell_type": "code",
      "source": [
        "!ssh -T git@github.com"
      ],
      "metadata": {
        "id": "bcqhgkdaz3QI"
      },
      "execution_count": null,
      "outputs": []
    },
    {
      "cell_type": "code",
      "source": [
        "!git clone git@github.com:punkmic/Topic-Modeling-Reclame-Aqui.git"
      ],
      "metadata": {
        "id": "zSA4ju5NDpqK"
      },
      "execution_count": null,
      "outputs": []
    },
    {
      "cell_type": "code",
      "source": [
        "%cd /content/Topic-Modeling-Reclame-Aqui/"
      ],
      "metadata": {
        "id": "2eEK0j1L6b7p"
      },
      "execution_count": null,
      "outputs": []
    },
    {
      "cell_type": "code",
      "source": [
        "!git add ./results/documents"
      ],
      "metadata": {
        "id": "CGqBhuS6z7WZ"
      },
      "execution_count": null,
      "outputs": []
    },
    {
      "cell_type": "code",
      "source": [
        "!git status"
      ],
      "metadata": {
        "id": "eyMFQF889jtB"
      },
      "execution_count": null,
      "outputs": []
    },
    {
      "cell_type": "code",
      "source": [
        "!git commit -m \"Adding preprocessed BERTopic result\""
      ],
      "metadata": {
        "id": "PFY8B1Ikz-U-"
      },
      "execution_count": null,
      "outputs": []
    },
    {
      "cell_type": "code",
      "source": [
        "!git push origin master"
      ],
      "metadata": {
        "id": "uEJWirD70EiH"
      },
      "execution_count": null,
      "outputs": []
    },
    {
      "cell_type": "code",
      "source": [
        "# run this command to push a new version of this notebook in case you have saved the notebook in github and it is outdate \n",
        "!git stash\n",
        "!git pull\n",
        "!git stash pop"
      ],
      "metadata": {
        "id": "pKF8mcLoIU3Q"
      },
      "execution_count": null,
      "outputs": []
    }
  ]
}