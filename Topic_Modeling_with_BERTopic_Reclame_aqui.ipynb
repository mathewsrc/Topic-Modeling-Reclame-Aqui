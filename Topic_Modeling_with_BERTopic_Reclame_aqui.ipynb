{
  "nbformat": 4,
  "nbformat_minor": 0,
  "metadata": {
    "colab": {
      "provenance": [],
      "include_colab_link": true
    },
    "kernelspec": {
      "name": "python3",
      "display_name": "Python 3"
    },
    "language_info": {
      "name": "python"
    },
    "gpuClass": "standard",
    "widgets": {
      "application/vnd.jupyter.widget-state+json": {
        "eb97fe63250a4c4dab5620bd8d5c1be5": {
          "model_module": "@jupyter-widgets/controls",
          "model_name": "HBoxModel",
          "model_module_version": "1.5.0",
          "state": {
            "_dom_classes": [],
            "_model_module": "@jupyter-widgets/controls",
            "_model_module_version": "1.5.0",
            "_model_name": "HBoxModel",
            "_view_count": null,
            "_view_module": "@jupyter-widgets/controls",
            "_view_module_version": "1.5.0",
            "_view_name": "HBoxView",
            "box_style": "",
            "children": [
              "IPY_MODEL_76c87c47209243128c3f7e2af075abe4",
              "IPY_MODEL_9674c43cf1194cc3bfe95fbd647b587c",
              "IPY_MODEL_1b90e58ae9194f4eaf2428198d3e7999"
            ],
            "layout": "IPY_MODEL_d2c738b045604b9992959b4cdc6f5d68"
          }
        },
        "76c87c47209243128c3f7e2af075abe4": {
          "model_module": "@jupyter-widgets/controls",
          "model_name": "HTMLModel",
          "model_module_version": "1.5.0",
          "state": {
            "_dom_classes": [],
            "_model_module": "@jupyter-widgets/controls",
            "_model_module_version": "1.5.0",
            "_model_name": "HTMLModel",
            "_view_count": null,
            "_view_module": "@jupyter-widgets/controls",
            "_view_module_version": "1.5.0",
            "_view_name": "HTMLView",
            "description": "",
            "description_tooltip": null,
            "layout": "IPY_MODEL_4ceb272928b643cc83f769cde19cef85",
            "placeholder": "​",
            "style": "IPY_MODEL_51ac7a4a725d47eb8923f7675cd5ba70",
            "value": "Batches: 100%"
          }
        },
        "9674c43cf1194cc3bfe95fbd647b587c": {
          "model_module": "@jupyter-widgets/controls",
          "model_name": "FloatProgressModel",
          "model_module_version": "1.5.0",
          "state": {
            "_dom_classes": [],
            "_model_module": "@jupyter-widgets/controls",
            "_model_module_version": "1.5.0",
            "_model_name": "FloatProgressModel",
            "_view_count": null,
            "_view_module": "@jupyter-widgets/controls",
            "_view_module_version": "1.5.0",
            "_view_name": "ProgressView",
            "bar_style": "success",
            "description": "",
            "description_tooltip": null,
            "layout": "IPY_MODEL_e502565250094eb3b32c1609ce041ce3",
            "max": 329,
            "min": 0,
            "orientation": "horizontal",
            "style": "IPY_MODEL_907eb44c1cd645a7a53ede6460e85c22",
            "value": 329
          }
        },
        "1b90e58ae9194f4eaf2428198d3e7999": {
          "model_module": "@jupyter-widgets/controls",
          "model_name": "HTMLModel",
          "model_module_version": "1.5.0",
          "state": {
            "_dom_classes": [],
            "_model_module": "@jupyter-widgets/controls",
            "_model_module_version": "1.5.0",
            "_model_name": "HTMLModel",
            "_view_count": null,
            "_view_module": "@jupyter-widgets/controls",
            "_view_module_version": "1.5.0",
            "_view_name": "HTMLView",
            "description": "",
            "description_tooltip": null,
            "layout": "IPY_MODEL_a072e17aacf24e8cba85b0fc04b7f2fb",
            "placeholder": "​",
            "style": "IPY_MODEL_d2b14ba2f01c441293a0575dcde168d8",
            "value": " 329/329 [00:17&lt;00:00, 53.80it/s]"
          }
        },
        "d2c738b045604b9992959b4cdc6f5d68": {
          "model_module": "@jupyter-widgets/base",
          "model_name": "LayoutModel",
          "model_module_version": "1.2.0",
          "state": {
            "_model_module": "@jupyter-widgets/base",
            "_model_module_version": "1.2.0",
            "_model_name": "LayoutModel",
            "_view_count": null,
            "_view_module": "@jupyter-widgets/base",
            "_view_module_version": "1.2.0",
            "_view_name": "LayoutView",
            "align_content": null,
            "align_items": null,
            "align_self": null,
            "border": null,
            "bottom": null,
            "display": null,
            "flex": null,
            "flex_flow": null,
            "grid_area": null,
            "grid_auto_columns": null,
            "grid_auto_flow": null,
            "grid_auto_rows": null,
            "grid_column": null,
            "grid_gap": null,
            "grid_row": null,
            "grid_template_areas": null,
            "grid_template_columns": null,
            "grid_template_rows": null,
            "height": null,
            "justify_content": null,
            "justify_items": null,
            "left": null,
            "margin": null,
            "max_height": null,
            "max_width": null,
            "min_height": null,
            "min_width": null,
            "object_fit": null,
            "object_position": null,
            "order": null,
            "overflow": null,
            "overflow_x": null,
            "overflow_y": null,
            "padding": null,
            "right": null,
            "top": null,
            "visibility": null,
            "width": null
          }
        },
        "4ceb272928b643cc83f769cde19cef85": {
          "model_module": "@jupyter-widgets/base",
          "model_name": "LayoutModel",
          "model_module_version": "1.2.0",
          "state": {
            "_model_module": "@jupyter-widgets/base",
            "_model_module_version": "1.2.0",
            "_model_name": "LayoutModel",
            "_view_count": null,
            "_view_module": "@jupyter-widgets/base",
            "_view_module_version": "1.2.0",
            "_view_name": "LayoutView",
            "align_content": null,
            "align_items": null,
            "align_self": null,
            "border": null,
            "bottom": null,
            "display": null,
            "flex": null,
            "flex_flow": null,
            "grid_area": null,
            "grid_auto_columns": null,
            "grid_auto_flow": null,
            "grid_auto_rows": null,
            "grid_column": null,
            "grid_gap": null,
            "grid_row": null,
            "grid_template_areas": null,
            "grid_template_columns": null,
            "grid_template_rows": null,
            "height": null,
            "justify_content": null,
            "justify_items": null,
            "left": null,
            "margin": null,
            "max_height": null,
            "max_width": null,
            "min_height": null,
            "min_width": null,
            "object_fit": null,
            "object_position": null,
            "order": null,
            "overflow": null,
            "overflow_x": null,
            "overflow_y": null,
            "padding": null,
            "right": null,
            "top": null,
            "visibility": null,
            "width": null
          }
        },
        "51ac7a4a725d47eb8923f7675cd5ba70": {
          "model_module": "@jupyter-widgets/controls",
          "model_name": "DescriptionStyleModel",
          "model_module_version": "1.5.0",
          "state": {
            "_model_module": "@jupyter-widgets/controls",
            "_model_module_version": "1.5.0",
            "_model_name": "DescriptionStyleModel",
            "_view_count": null,
            "_view_module": "@jupyter-widgets/base",
            "_view_module_version": "1.2.0",
            "_view_name": "StyleView",
            "description_width": ""
          }
        },
        "e502565250094eb3b32c1609ce041ce3": {
          "model_module": "@jupyter-widgets/base",
          "model_name": "LayoutModel",
          "model_module_version": "1.2.0",
          "state": {
            "_model_module": "@jupyter-widgets/base",
            "_model_module_version": "1.2.0",
            "_model_name": "LayoutModel",
            "_view_count": null,
            "_view_module": "@jupyter-widgets/base",
            "_view_module_version": "1.2.0",
            "_view_name": "LayoutView",
            "align_content": null,
            "align_items": null,
            "align_self": null,
            "border": null,
            "bottom": null,
            "display": null,
            "flex": null,
            "flex_flow": null,
            "grid_area": null,
            "grid_auto_columns": null,
            "grid_auto_flow": null,
            "grid_auto_rows": null,
            "grid_column": null,
            "grid_gap": null,
            "grid_row": null,
            "grid_template_areas": null,
            "grid_template_columns": null,
            "grid_template_rows": null,
            "height": null,
            "justify_content": null,
            "justify_items": null,
            "left": null,
            "margin": null,
            "max_height": null,
            "max_width": null,
            "min_height": null,
            "min_width": null,
            "object_fit": null,
            "object_position": null,
            "order": null,
            "overflow": null,
            "overflow_x": null,
            "overflow_y": null,
            "padding": null,
            "right": null,
            "top": null,
            "visibility": null,
            "width": null
          }
        },
        "907eb44c1cd645a7a53ede6460e85c22": {
          "model_module": "@jupyter-widgets/controls",
          "model_name": "ProgressStyleModel",
          "model_module_version": "1.5.0",
          "state": {
            "_model_module": "@jupyter-widgets/controls",
            "_model_module_version": "1.5.0",
            "_model_name": "ProgressStyleModel",
            "_view_count": null,
            "_view_module": "@jupyter-widgets/base",
            "_view_module_version": "1.2.0",
            "_view_name": "StyleView",
            "bar_color": null,
            "description_width": ""
          }
        },
        "a072e17aacf24e8cba85b0fc04b7f2fb": {
          "model_module": "@jupyter-widgets/base",
          "model_name": "LayoutModel",
          "model_module_version": "1.2.0",
          "state": {
            "_model_module": "@jupyter-widgets/base",
            "_model_module_version": "1.2.0",
            "_model_name": "LayoutModel",
            "_view_count": null,
            "_view_module": "@jupyter-widgets/base",
            "_view_module_version": "1.2.0",
            "_view_name": "LayoutView",
            "align_content": null,
            "align_items": null,
            "align_self": null,
            "border": null,
            "bottom": null,
            "display": null,
            "flex": null,
            "flex_flow": null,
            "grid_area": null,
            "grid_auto_columns": null,
            "grid_auto_flow": null,
            "grid_auto_rows": null,
            "grid_column": null,
            "grid_gap": null,
            "grid_row": null,
            "grid_template_areas": null,
            "grid_template_columns": null,
            "grid_template_rows": null,
            "height": null,
            "justify_content": null,
            "justify_items": null,
            "left": null,
            "margin": null,
            "max_height": null,
            "max_width": null,
            "min_height": null,
            "min_width": null,
            "object_fit": null,
            "object_position": null,
            "order": null,
            "overflow": null,
            "overflow_x": null,
            "overflow_y": null,
            "padding": null,
            "right": null,
            "top": null,
            "visibility": null,
            "width": null
          }
        },
        "d2b14ba2f01c441293a0575dcde168d8": {
          "model_module": "@jupyter-widgets/controls",
          "model_name": "DescriptionStyleModel",
          "model_module_version": "1.5.0",
          "state": {
            "_model_module": "@jupyter-widgets/controls",
            "_model_module_version": "1.5.0",
            "_model_name": "DescriptionStyleModel",
            "_view_count": null,
            "_view_module": "@jupyter-widgets/base",
            "_view_module_version": "1.2.0",
            "_view_name": "StyleView",
            "description_width": ""
          }
        }
      }
    }
  },
  "cells": [
    {
      "cell_type": "markdown",
      "metadata": {
        "id": "view-in-github",
        "colab_type": "text"
      },
      "source": [
        "<a href=\"https://colab.research.google.com/github/punkmic/Topic-Modeling-Reclame-Aqui/blob/master/Topic_Modeling_with_BERTopic_Reclame_aqui.ipynb\" target=\"_parent\"><img src=\"https://colab.research.google.com/assets/colab-badge.svg\" alt=\"Open In Colab\"/></a>"
      ]
    },
    {
      "cell_type": "markdown",
      "source": [
        "# **Topic Modeling with BERTopic - Reclame Aqui**\n",
        "\n",
        "BERTopic is a topic modeling technique that leverages 🤗 transformers and a custom class-based TF-IDF to create dense clusters allowing for easily interpretable topics whilst keeping important words in the topic descriptions (https://maartengr.github.io/BERTopic/index.html)."
      ],
      "metadata": {
        "id": "VG5Z-hvZ9GIZ"
      }
    },
    {
      "cell_type": "markdown",
      "source": [
        "## **Import dependecies**"
      ],
      "metadata": {
        "id": "eXD8VBix7DD1"
      }
    },
    {
      "cell_type": "code",
      "execution_count": null,
      "metadata": {
        "id": "CQ0hDdDm6gtj",
        "outputId": "8e4d47ea-5bd2-48e8-c066-c277b96bc3ab",
        "colab": {
          "base_uri": "https://localhost:8080/"
        }
      },
      "outputs": [
        {
          "output_type": "stream",
          "name": "stdout",
          "text": [
            "Looking in indexes: https://pypi.org/simple, https://us-python.pkg.dev/colab-wheels/public/simple/\n",
            "Requirement already satisfied: pyspellchecker in /usr/local/lib/python3.8/dist-packages (0.7.0)\n",
            "Looking in indexes: https://pypi.org/simple, https://us-python.pkg.dev/colab-wheels/public/simple/\n",
            "Requirement already satisfied: sentence-transformers in /usr/local/lib/python3.8/dist-packages (2.2.2)\n",
            "Requirement already satisfied: torchvision in /usr/local/lib/python3.8/dist-packages (from sentence-transformers) (0.14.0+cu116)\n",
            "Requirement already satisfied: numpy in /usr/local/lib/python3.8/dist-packages (from sentence-transformers) (1.21.6)\n",
            "Requirement already satisfied: nltk in /usr/local/lib/python3.8/dist-packages (from sentence-transformers) (3.7)\n",
            "Requirement already satisfied: sentencepiece in /usr/local/lib/python3.8/dist-packages (from sentence-transformers) (0.1.97)\n",
            "Requirement already satisfied: huggingface-hub>=0.4.0 in /usr/local/lib/python3.8/dist-packages (from sentence-transformers) (0.11.1)\n",
            "Requirement already satisfied: scikit-learn in /usr/local/lib/python3.8/dist-packages (from sentence-transformers) (1.0.2)\n",
            "Requirement already satisfied: torch>=1.6.0 in /usr/local/lib/python3.8/dist-packages (from sentence-transformers) (1.13.0+cu116)\n",
            "Requirement already satisfied: transformers<5.0.0,>=4.6.0 in /usr/local/lib/python3.8/dist-packages (from sentence-transformers) (4.25.1)\n",
            "Requirement already satisfied: tqdm in /usr/local/lib/python3.8/dist-packages (from sentence-transformers) (4.64.1)\n",
            "Requirement already satisfied: scipy in /usr/local/lib/python3.8/dist-packages (from sentence-transformers) (1.7.3)\n",
            "Requirement already satisfied: typing-extensions>=3.7.4.3 in /usr/local/lib/python3.8/dist-packages (from huggingface-hub>=0.4.0->sentence-transformers) (4.4.0)\n",
            "Requirement already satisfied: filelock in /usr/local/lib/python3.8/dist-packages (from huggingface-hub>=0.4.0->sentence-transformers) (3.8.0)\n",
            "Requirement already satisfied: packaging>=20.9 in /usr/local/lib/python3.8/dist-packages (from huggingface-hub>=0.4.0->sentence-transformers) (21.3)\n",
            "Requirement already satisfied: pyyaml>=5.1 in /usr/local/lib/python3.8/dist-packages (from huggingface-hub>=0.4.0->sentence-transformers) (5.4.1)\n",
            "Requirement already satisfied: requests in /usr/local/lib/python3.8/dist-packages (from huggingface-hub>=0.4.0->sentence-transformers) (2.23.0)\n",
            "Requirement already satisfied: pyparsing!=3.0.5,>=2.0.2 in /usr/local/lib/python3.8/dist-packages (from packaging>=20.9->huggingface-hub>=0.4.0->sentence-transformers) (3.0.9)\n",
            "Requirement already satisfied: regex!=2019.12.17 in /usr/local/lib/python3.8/dist-packages (from transformers<5.0.0,>=4.6.0->sentence-transformers) (2022.6.2)\n",
            "Requirement already satisfied: tokenizers!=0.11.3,<0.14,>=0.11.1 in /usr/local/lib/python3.8/dist-packages (from transformers<5.0.0,>=4.6.0->sentence-transformers) (0.13.2)\n",
            "Requirement already satisfied: click in /usr/local/lib/python3.8/dist-packages (from nltk->sentence-transformers) (7.1.2)\n",
            "Requirement already satisfied: joblib in /usr/local/lib/python3.8/dist-packages (from nltk->sentence-transformers) (1.2.0)\n",
            "Requirement already satisfied: chardet<4,>=3.0.2 in /usr/local/lib/python3.8/dist-packages (from requests->huggingface-hub>=0.4.0->sentence-transformers) (3.0.4)\n",
            "Requirement already satisfied: idna<3,>=2.5 in /usr/local/lib/python3.8/dist-packages (from requests->huggingface-hub>=0.4.0->sentence-transformers) (2.10)\n",
            "Requirement already satisfied: urllib3!=1.25.0,!=1.25.1,<1.26,>=1.21.1 in /usr/local/lib/python3.8/dist-packages (from requests->huggingface-hub>=0.4.0->sentence-transformers) (1.24.3)\n",
            "Requirement already satisfied: certifi>=2017.4.17 in /usr/local/lib/python3.8/dist-packages (from requests->huggingface-hub>=0.4.0->sentence-transformers) (2022.9.24)\n",
            "Requirement already satisfied: threadpoolctl>=2.0.0 in /usr/local/lib/python3.8/dist-packages (from scikit-learn->sentence-transformers) (3.1.0)\n",
            "Requirement already satisfied: pillow!=8.3.*,>=5.3.0 in /usr/local/lib/python3.8/dist-packages (from torchvision->sentence-transformers) (7.1.2)\n",
            "Looking in indexes: https://pypi.org/simple, https://us-python.pkg.dev/colab-wheels/public/simple/\n",
            "Requirement already satisfied: bertopic in /usr/local/lib/python3.8/dist-packages (0.12.0)\n",
            "Requirement already satisfied: numpy>=1.20.0 in /usr/local/lib/python3.8/dist-packages (from bertopic) (1.21.6)\n",
            "Requirement already satisfied: hdbscan>=0.8.28 in /usr/local/lib/python3.8/dist-packages (from bertopic) (0.8.29)\n",
            "Requirement already satisfied: scikit-learn>=0.22.2.post1 in /usr/local/lib/python3.8/dist-packages (from bertopic) (1.0.2)\n",
            "Requirement already satisfied: tqdm>=4.41.1 in /usr/local/lib/python3.8/dist-packages (from bertopic) (4.64.1)\n",
            "Requirement already satisfied: pyyaml<6.0 in /usr/local/lib/python3.8/dist-packages (from bertopic) (5.4.1)\n",
            "Requirement already satisfied: pandas>=1.1.5 in /usr/local/lib/python3.8/dist-packages (from bertopic) (1.3.5)\n",
            "Requirement already satisfied: umap-learn>=0.5.0 in /usr/local/lib/python3.8/dist-packages (from bertopic) (0.5.3)\n",
            "Requirement already satisfied: sentence-transformers>=0.4.1 in /usr/local/lib/python3.8/dist-packages (from bertopic) (2.2.2)\n",
            "Requirement already satisfied: plotly>=4.7.0 in /usr/local/lib/python3.8/dist-packages (from bertopic) (5.5.0)\n",
            "Requirement already satisfied: scipy>=1.0 in /usr/local/lib/python3.8/dist-packages (from hdbscan>=0.8.28->bertopic) (1.7.3)\n",
            "Requirement already satisfied: joblib>=1.0 in /usr/local/lib/python3.8/dist-packages (from hdbscan>=0.8.28->bertopic) (1.2.0)\n",
            "Requirement already satisfied: cython>=0.27 in /usr/local/lib/python3.8/dist-packages (from hdbscan>=0.8.28->bertopic) (0.29.32)\n",
            "Requirement already satisfied: python-dateutil>=2.7.3 in /usr/local/lib/python3.8/dist-packages (from pandas>=1.1.5->bertopic) (2.8.2)\n",
            "Requirement already satisfied: pytz>=2017.3 in /usr/local/lib/python3.8/dist-packages (from pandas>=1.1.5->bertopic) (2022.6)\n",
            "Requirement already satisfied: tenacity>=6.2.0 in /usr/local/lib/python3.8/dist-packages (from plotly>=4.7.0->bertopic) (8.1.0)\n",
            "Requirement already satisfied: six in /usr/local/lib/python3.8/dist-packages (from plotly>=4.7.0->bertopic) (1.15.0)\n",
            "Requirement already satisfied: threadpoolctl>=2.0.0 in /usr/local/lib/python3.8/dist-packages (from scikit-learn>=0.22.2.post1->bertopic) (3.1.0)\n",
            "Requirement already satisfied: nltk in /usr/local/lib/python3.8/dist-packages (from sentence-transformers>=0.4.1->bertopic) (3.7)\n",
            "Requirement already satisfied: huggingface-hub>=0.4.0 in /usr/local/lib/python3.8/dist-packages (from sentence-transformers>=0.4.1->bertopic) (0.11.1)\n",
            "Requirement already satisfied: sentencepiece in /usr/local/lib/python3.8/dist-packages (from sentence-transformers>=0.4.1->bertopic) (0.1.97)\n",
            "Requirement already satisfied: torch>=1.6.0 in /usr/local/lib/python3.8/dist-packages (from sentence-transformers>=0.4.1->bertopic) (1.13.0+cu116)\n",
            "Requirement already satisfied: transformers<5.0.0,>=4.6.0 in /usr/local/lib/python3.8/dist-packages (from sentence-transformers>=0.4.1->bertopic) (4.25.1)\n",
            "Requirement already satisfied: torchvision in /usr/local/lib/python3.8/dist-packages (from sentence-transformers>=0.4.1->bertopic) (0.14.0+cu116)\n",
            "Requirement already satisfied: filelock in /usr/local/lib/python3.8/dist-packages (from huggingface-hub>=0.4.0->sentence-transformers>=0.4.1->bertopic) (3.8.0)\n",
            "Requirement already satisfied: packaging>=20.9 in /usr/local/lib/python3.8/dist-packages (from huggingface-hub>=0.4.0->sentence-transformers>=0.4.1->bertopic) (21.3)\n",
            "Requirement already satisfied: requests in /usr/local/lib/python3.8/dist-packages (from huggingface-hub>=0.4.0->sentence-transformers>=0.4.1->bertopic) (2.23.0)\n",
            "Requirement already satisfied: typing-extensions>=3.7.4.3 in /usr/local/lib/python3.8/dist-packages (from huggingface-hub>=0.4.0->sentence-transformers>=0.4.1->bertopic) (4.4.0)\n",
            "Requirement already satisfied: pyparsing!=3.0.5,>=2.0.2 in /usr/local/lib/python3.8/dist-packages (from packaging>=20.9->huggingface-hub>=0.4.0->sentence-transformers>=0.4.1->bertopic) (3.0.9)\n",
            "Requirement already satisfied: tokenizers!=0.11.3,<0.14,>=0.11.1 in /usr/local/lib/python3.8/dist-packages (from transformers<5.0.0,>=4.6.0->sentence-transformers>=0.4.1->bertopic) (0.13.2)\n",
            "Requirement already satisfied: regex!=2019.12.17 in /usr/local/lib/python3.8/dist-packages (from transformers<5.0.0,>=4.6.0->sentence-transformers>=0.4.1->bertopic) (2022.6.2)\n",
            "Requirement already satisfied: numba>=0.49 in /usr/local/lib/python3.8/dist-packages (from umap-learn>=0.5.0->bertopic) (0.56.4)\n",
            "Requirement already satisfied: pynndescent>=0.5 in /usr/local/lib/python3.8/dist-packages (from umap-learn>=0.5.0->bertopic) (0.5.8)\n",
            "Requirement already satisfied: setuptools in /usr/local/lib/python3.8/dist-packages (from numba>=0.49->umap-learn>=0.5.0->bertopic) (57.4.0)\n",
            "Requirement already satisfied: llvmlite<0.40,>=0.39.0dev0 in /usr/local/lib/python3.8/dist-packages (from numba>=0.49->umap-learn>=0.5.0->bertopic) (0.39.1)\n",
            "Requirement already satisfied: importlib-metadata in /usr/local/lib/python3.8/dist-packages (from numba>=0.49->umap-learn>=0.5.0->bertopic) (4.13.0)\n",
            "Requirement already satisfied: zipp>=0.5 in /usr/local/lib/python3.8/dist-packages (from importlib-metadata->numba>=0.49->umap-learn>=0.5.0->bertopic) (3.11.0)\n",
            "Requirement already satisfied: click in /usr/local/lib/python3.8/dist-packages (from nltk->sentence-transformers>=0.4.1->bertopic) (7.1.2)\n",
            "Requirement already satisfied: urllib3!=1.25.0,!=1.25.1,<1.26,>=1.21.1 in /usr/local/lib/python3.8/dist-packages (from requests->huggingface-hub>=0.4.0->sentence-transformers>=0.4.1->bertopic) (1.24.3)\n",
            "Requirement already satisfied: chardet<4,>=3.0.2 in /usr/local/lib/python3.8/dist-packages (from requests->huggingface-hub>=0.4.0->sentence-transformers>=0.4.1->bertopic) (3.0.4)\n",
            "Requirement already satisfied: certifi>=2017.4.17 in /usr/local/lib/python3.8/dist-packages (from requests->huggingface-hub>=0.4.0->sentence-transformers>=0.4.1->bertopic) (2022.9.24)\n",
            "Requirement already satisfied: idna<3,>=2.5 in /usr/local/lib/python3.8/dist-packages (from requests->huggingface-hub>=0.4.0->sentence-transformers>=0.4.1->bertopic) (2.10)\n",
            "Requirement already satisfied: pillow!=8.3.*,>=5.3.0 in /usr/local/lib/python3.8/dist-packages (from torchvision->sentence-transformers>=0.4.1->bertopic) (7.1.2)\n"
          ]
        }
      ],
      "source": [
        "import pandas as pd # for data manipulation\n",
        "import os # for interacting with the operating system\n",
        "import nltk # for natural language processing\n",
        "import string # for string manipulation\n",
        "import re # for for regular expressions\n",
        "import matplotlib.pyplot as plt # for visualization\n",
        "try:\n",
        "  from bertopic import BERTopic # for topic modeling\n",
        "  from spellchecker import SpellChecker # for spell check\n",
        "  from sentence_transformers import SentenceTransformer # for embeddings\n",
        "  from umap import UMAP # for dimension reduction\n",
        "  from hdbscan import HDBSCAN # for clustering\n",
        "except:\n",
        "  !pip install pyspellchecker\n",
        "  !pip install sentence-transformers\n",
        "  !pip install umap-learn\n",
        "  !pip install hdbscan\n",
        "  !pip install bertopic\n",
        "  os.kill(os.getpid(), 9)"
      ]
    },
    {
      "cell_type": "code",
      "source": [
        "nltk.download(\"punkt\")"
      ],
      "metadata": {
        "id": "BvRCi7Cvp0G6",
        "outputId": "f7f963fe-9093-49d5-d64e-9f48450d5555",
        "colab": {
          "base_uri": "https://localhost:8080/",
          "height": 165
        }
      },
      "execution_count": 1,
      "outputs": [
        {
          "output_type": "error",
          "ename": "NameError",
          "evalue": "ignored",
          "traceback": [
            "\u001b[0;31m---------------------------------------------------------------------------\u001b[0m",
            "\u001b[0;31mNameError\u001b[0m                                 Traceback (most recent call last)",
            "\u001b[0;32m<ipython-input-1-96585c82b0ef>\u001b[0m in \u001b[0;36m<module>\u001b[0;34m\u001b[0m\n\u001b[0;32m----> 1\u001b[0;31m \u001b[0mnltk\u001b[0m\u001b[0;34m.\u001b[0m\u001b[0mdownload\u001b[0m\u001b[0;34m(\u001b[0m\u001b[0;34m\"punkt\"\u001b[0m\u001b[0;34m)\u001b[0m\u001b[0;34m\u001b[0m\u001b[0;34m\u001b[0m\u001b[0m\n\u001b[0m",
            "\u001b[0;31mNameError\u001b[0m: name 'nltk' is not defined"
          ]
        }
      ]
    },
    {
      "cell_type": "code",
      "source": [
        "nltk.download(\"stopwords\")"
      ],
      "metadata": {
        "id": "JAvaPg5ep3Df",
        "outputId": "7e3c699e-11b0-4460-ea81-ac67228b319a",
        "colab": {
          "base_uri": "https://localhost:8080/"
        }
      },
      "execution_count": 3,
      "outputs": [
        {
          "output_type": "stream",
          "name": "stderr",
          "text": [
            "[nltk_data] Downloading package stopwords to /root/nltk_data...\n",
            "[nltk_data]   Unzipping corpora/stopwords.zip.\n"
          ]
        },
        {
          "output_type": "execute_result",
          "data": {
            "text/plain": [
              "True"
            ]
          },
          "metadata": {},
          "execution_count": 3
        }
      ]
    },
    {
      "cell_type": "code",
      "source": [
        "nltk.download('wordnet')"
      ],
      "metadata": {
        "id": "97RrmPshvcmu",
        "outputId": "c6dd8788-d7fd-44d5-9499-42749b9efaa5",
        "colab": {
          "base_uri": "https://localhost:8080/"
        }
      },
      "execution_count": 4,
      "outputs": [
        {
          "output_type": "stream",
          "name": "stderr",
          "text": [
            "[nltk_data] Downloading package wordnet to /root/nltk_data...\n"
          ]
        },
        {
          "output_type": "execute_result",
          "data": {
            "text/plain": [
              "True"
            ]
          },
          "metadata": {},
          "execution_count": 4
        }
      ]
    },
    {
      "cell_type": "code",
      "source": [
        "nltk.download('omw-1.4')"
      ],
      "metadata": {
        "id": "Bo7_jZ5Zvirl",
        "outputId": "58d4604d-cca7-4cc5-cc7f-b211af9e0249",
        "colab": {
          "base_uri": "https://localhost:8080/"
        }
      },
      "execution_count": 5,
      "outputs": [
        {
          "output_type": "stream",
          "name": "stderr",
          "text": [
            "[nltk_data] Downloading package omw-1.4 to /root/nltk_data...\n"
          ]
        },
        {
          "output_type": "execute_result",
          "data": {
            "text/plain": [
              "True"
            ]
          },
          "metadata": {},
          "execution_count": 5
        }
      ]
    },
    {
      "cell_type": "markdown",
      "source": [
        "## **Load data from [Github](https://github.com/punkmic/Topic-Modeling-Reclame-Aqui.git)**"
      ],
      "metadata": {
        "id": "EGjKdT4C8RVD"
      }
    },
    {
      "cell_type": "code",
      "source": [
        "!git clone https://github.com/punkmic/Topic-Modeling-Reclame-Aqui.git"
      ],
      "metadata": {
        "id": "C_yss1JC-8Ou",
        "outputId": "919f5a5c-bf16-49ed-8e5f-f8daff159e77",
        "colab": {
          "base_uri": "https://localhost:8080/"
        }
      },
      "execution_count": 6,
      "outputs": [
        {
          "output_type": "stream",
          "name": "stdout",
          "text": [
            "Cloning into 'Topic-Modeling-Reclame-Aqui'...\n",
            "remote: Enumerating objects: 16133, done.\u001b[K\n",
            "remote: Counting objects: 100% (1952/1952), done.\u001b[K\n",
            "remote: Compressing objects: 100% (1753/1753), done.\u001b[K\n",
            "remote: Total 16133 (delta 234), reused 1808 (delta 173), pack-reused 14181\u001b[K\n",
            "Receiving objects: 100% (16133/16133), 118.15 MiB | 29.05 MiB/s, done.\n",
            "Resolving deltas: 100% (1382/1382), done.\n",
            "Checking out files: 100% (14795/14795), done.\n"
          ]
        }
      ]
    },
    {
      "cell_type": "markdown",
      "source": [
        "## **Run this cell to update files from remote repository**"
      ],
      "metadata": {
        "id": "4CYg7519JC64"
      }
    },
    {
      "cell_type": "code",
      "source": [
        "# Change directory\n",
        "%cd /content/Topic-Modeling-Reclame-Aqui \n",
        "\n",
        "# Update files from remote repository\n",
        "!git pull \n",
        "\n",
        "# Return to work directory\n",
        "%cd ..\n",
        "\n",
        "# Check current directory\n",
        "!pwd"
      ],
      "metadata": {
        "id": "uv3QBnDRHFPv",
        "outputId": "e4f8c512-9772-4117-e7e3-da2aeee77a1d",
        "colab": {
          "base_uri": "https://localhost:8080/"
        }
      },
      "execution_count": 7,
      "outputs": [
        {
          "output_type": "stream",
          "name": "stdout",
          "text": [
            "/content/Topic-Modeling-Reclame-Aqui\n",
            "Already up to date.\n",
            "/content\n",
            "/content\n"
          ]
        }
      ]
    },
    {
      "cell_type": "markdown",
      "source": [
        "## **Read csv file using read_csv() method as Dataframe**"
      ],
      "metadata": {
        "id": "5YitWNVVJTOP"
      }
    },
    {
      "cell_type": "code",
      "source": [
        "# Set the path to data\n",
        "path_csv = \"/content/Topic-Modeling-Reclame-Aqui/corpus.csv\"\n",
        "\n",
        "# Read the CSV file using the read_csv method\n",
        "df = pd.read_csv(path_csv)\n",
        "\n",
        "# Print the first 5 rows of the DataFrame\n",
        "df.head(5)"
      ],
      "metadata": {
        "id": "F3IoOKARBwVb",
        "outputId": "bad7a765-62e2-453a-f058-b03c4d8357a9",
        "colab": {
          "base_uri": "https://localhost:8080/",
          "height": 206
        }
      },
      "execution_count": 8,
      "outputs": [
        {
          "output_type": "execute_result",
          "data": {
            "text/plain": [
              "                                               title  \\\n",
              "0  Pedido Cancelado sem justificativa após uma se...   \n",
              "1                                  Pedido cancelado    \n",
              "2                                  Cobrança indevida   \n",
              "3                                 PEDIDO REINCIDENTE   \n",
              "4            Assinatura para vender na amazon Brasil   \n",
              "\n",
              "                                                text  \n",
              "0  Eu estava pesquisando bastante uma nova TV par...  \n",
              "1  Eu sinceramente estou decepcionada com o Amazo...  \n",
              "2  Cancelei meu plano antes de terminar o período...  \n",
              "3  OLHA FIZ COMPRA VEIO ERRADA, E VEIO ERRADO NOV...  \n",
              "4  Eu me inscrevi na Amazon para realizar vendas ...  "
            ],
            "text/html": [
              "\n",
              "  <div id=\"df-e4607ad0-85b4-4cac-9a14-998915285f3a\">\n",
              "    <div class=\"colab-df-container\">\n",
              "      <div>\n",
              "<style scoped>\n",
              "    .dataframe tbody tr th:only-of-type {\n",
              "        vertical-align: middle;\n",
              "    }\n",
              "\n",
              "    .dataframe tbody tr th {\n",
              "        vertical-align: top;\n",
              "    }\n",
              "\n",
              "    .dataframe thead th {\n",
              "        text-align: right;\n",
              "    }\n",
              "</style>\n",
              "<table border=\"1\" class=\"dataframe\">\n",
              "  <thead>\n",
              "    <tr style=\"text-align: right;\">\n",
              "      <th></th>\n",
              "      <th>title</th>\n",
              "      <th>text</th>\n",
              "    </tr>\n",
              "  </thead>\n",
              "  <tbody>\n",
              "    <tr>\n",
              "      <th>0</th>\n",
              "      <td>Pedido Cancelado sem justificativa após uma se...</td>\n",
              "      <td>Eu estava pesquisando bastante uma nova TV par...</td>\n",
              "    </tr>\n",
              "    <tr>\n",
              "      <th>1</th>\n",
              "      <td>Pedido cancelado</td>\n",
              "      <td>Eu sinceramente estou decepcionada com o Amazo...</td>\n",
              "    </tr>\n",
              "    <tr>\n",
              "      <th>2</th>\n",
              "      <td>Cobrança indevida</td>\n",
              "      <td>Cancelei meu plano antes de terminar o período...</td>\n",
              "    </tr>\n",
              "    <tr>\n",
              "      <th>3</th>\n",
              "      <td>PEDIDO REINCIDENTE</td>\n",
              "      <td>OLHA FIZ COMPRA VEIO ERRADA, E VEIO ERRADO NOV...</td>\n",
              "    </tr>\n",
              "    <tr>\n",
              "      <th>4</th>\n",
              "      <td>Assinatura para vender na amazon Brasil</td>\n",
              "      <td>Eu me inscrevi na Amazon para realizar vendas ...</td>\n",
              "    </tr>\n",
              "  </tbody>\n",
              "</table>\n",
              "</div>\n",
              "      <button class=\"colab-df-convert\" onclick=\"convertToInteractive('df-e4607ad0-85b4-4cac-9a14-998915285f3a')\"\n",
              "              title=\"Convert this dataframe to an interactive table.\"\n",
              "              style=\"display:none;\">\n",
              "        \n",
              "  <svg xmlns=\"http://www.w3.org/2000/svg\" height=\"24px\"viewBox=\"0 0 24 24\"\n",
              "       width=\"24px\">\n",
              "    <path d=\"M0 0h24v24H0V0z\" fill=\"none\"/>\n",
              "    <path d=\"M18.56 5.44l.94 2.06.94-2.06 2.06-.94-2.06-.94-.94-2.06-.94 2.06-2.06.94zm-11 1L8.5 8.5l.94-2.06 2.06-.94-2.06-.94L8.5 2.5l-.94 2.06-2.06.94zm10 10l.94 2.06.94-2.06 2.06-.94-2.06-.94-.94-2.06-.94 2.06-2.06.94z\"/><path d=\"M17.41 7.96l-1.37-1.37c-.4-.4-.92-.59-1.43-.59-.52 0-1.04.2-1.43.59L10.3 9.45l-7.72 7.72c-.78.78-.78 2.05 0 2.83L4 21.41c.39.39.9.59 1.41.59.51 0 1.02-.2 1.41-.59l7.78-7.78 2.81-2.81c.8-.78.8-2.07 0-2.86zM5.41 20L4 18.59l7.72-7.72 1.47 1.35L5.41 20z\"/>\n",
              "  </svg>\n",
              "      </button>\n",
              "      \n",
              "  <style>\n",
              "    .colab-df-container {\n",
              "      display:flex;\n",
              "      flex-wrap:wrap;\n",
              "      gap: 12px;\n",
              "    }\n",
              "\n",
              "    .colab-df-convert {\n",
              "      background-color: #E8F0FE;\n",
              "      border: none;\n",
              "      border-radius: 50%;\n",
              "      cursor: pointer;\n",
              "      display: none;\n",
              "      fill: #1967D2;\n",
              "      height: 32px;\n",
              "      padding: 0 0 0 0;\n",
              "      width: 32px;\n",
              "    }\n",
              "\n",
              "    .colab-df-convert:hover {\n",
              "      background-color: #E2EBFA;\n",
              "      box-shadow: 0px 1px 2px rgba(60, 64, 67, 0.3), 0px 1px 3px 1px rgba(60, 64, 67, 0.15);\n",
              "      fill: #174EA6;\n",
              "    }\n",
              "\n",
              "    [theme=dark] .colab-df-convert {\n",
              "      background-color: #3B4455;\n",
              "      fill: #D2E3FC;\n",
              "    }\n",
              "\n",
              "    [theme=dark] .colab-df-convert:hover {\n",
              "      background-color: #434B5C;\n",
              "      box-shadow: 0px 1px 3px 1px rgba(0, 0, 0, 0.15);\n",
              "      filter: drop-shadow(0px 1px 2px rgba(0, 0, 0, 0.3));\n",
              "      fill: #FFFFFF;\n",
              "    }\n",
              "  </style>\n",
              "\n",
              "      <script>\n",
              "        const buttonEl =\n",
              "          document.querySelector('#df-e4607ad0-85b4-4cac-9a14-998915285f3a button.colab-df-convert');\n",
              "        buttonEl.style.display =\n",
              "          google.colab.kernel.accessAllowed ? 'block' : 'none';\n",
              "\n",
              "        async function convertToInteractive(key) {\n",
              "          const element = document.querySelector('#df-e4607ad0-85b4-4cac-9a14-998915285f3a');\n",
              "          const dataTable =\n",
              "            await google.colab.kernel.invokeFunction('convertToInteractive',\n",
              "                                                     [key], {});\n",
              "          if (!dataTable) return;\n",
              "\n",
              "          const docLinkHtml = 'Like what you see? Visit the ' +\n",
              "            '<a target=\"_blank\" href=https://colab.research.google.com/notebooks/data_table.ipynb>data table notebook</a>'\n",
              "            + ' to learn more about interactive tables.';\n",
              "          element.innerHTML = '';\n",
              "          dataTable['output_type'] = 'display_data';\n",
              "          await google.colab.output.renderOutput(dataTable, element);\n",
              "          const docLink = document.createElement('div');\n",
              "          docLink.innerHTML = docLinkHtml;\n",
              "          element.appendChild(docLink);\n",
              "        }\n",
              "      </script>\n",
              "    </div>\n",
              "  </div>\n",
              "  "
            ]
          },
          "metadata": {},
          "execution_count": 8
        }
      ]
    },
    {
      "cell_type": "markdown",
      "source": [
        "This dataset contains just two columns called title and text "
      ],
      "metadata": {
        "id": "gDfB_6inJgr7"
      }
    },
    {
      "cell_type": "code",
      "source": [
        "print(df.shape)"
      ],
      "metadata": {
        "id": "Ytly9hiGJzFA",
        "outputId": "022b2caf-cfe3-4ba8-9d1a-14e255853651",
        "colab": {
          "base_uri": "https://localhost:8080/"
        }
      },
      "execution_count": 9,
      "outputs": [
        {
          "output_type": "stream",
          "name": "stdout",
          "text": [
            "(12760, 2)\n"
          ]
        }
      ]
    },
    {
      "cell_type": "markdown",
      "source": [
        "There are 12760 rows in this dataset. To make sure that we have unique rows let's remove duplicate rows."
      ],
      "metadata": {
        "id": "Upvg5pKOJ0bv"
      }
    },
    {
      "cell_type": "code",
      "source": [
        "print(f\"Shape before remove duplicates: {df.shape}\")\n",
        "\n",
        "# User the drop_duplicated method to drop duplicates rows\n",
        "df = df.drop_duplicates(subset=\"text\")\n",
        "\n",
        "print(f\"Shape after remove duplicates: {df.shape}\")"
      ],
      "metadata": {
        "id": "JFru444PE89C",
        "outputId": "b2630494-0d68-4d03-db66-7d50acb0ba28",
        "colab": {
          "base_uri": "https://localhost:8080/"
        }
      },
      "execution_count": 10,
      "outputs": [
        {
          "output_type": "stream",
          "name": "stdout",
          "text": [
            "Shape before remove duplicates: (12760, 2)\n",
            "Shape after remove duplicates: (10510, 2)\n"
          ]
        }
      ]
    },
    {
      "cell_type": "markdown",
      "source": [
        "### **Now let's lower each element in the Dataframe, remove unwanted text and join the two columns**"
      ],
      "metadata": {
        "id": "i57ZGdO7LRag"
      }
    },
    {
      "cell_type": "code",
      "source": [
        "# apply the str.lower() method to each element in the dataframe\n",
        "df = df.applymap(str.lower)\n",
        "\n",
        "# Use the replace() method to replace the string with an empty string\n",
        "df = df.replace(re.compile('\\[editado pelo reclame aqui\\]|editado pelo reclame aqui|Editado pelo Reclame Aqui'), '')\n",
        "\n",
        "# join columns\n",
        "df[\"documents\"] = df[\"title\"] + \" \" + df[\"text\"]\n",
        "\n",
        "# Drop the old index column\n",
        "df.reset_index(inplace = True, drop = True)\n",
        "\n",
        "df.head()"
      ],
      "metadata": {
        "id": "N0iqgleUNVlE",
        "outputId": "6c7d161d-f180-479f-f6e1-4858cc82a7ac",
        "colab": {
          "base_uri": "https://localhost:8080/",
          "height": 206
        }
      },
      "execution_count": 11,
      "outputs": [
        {
          "output_type": "execute_result",
          "data": {
            "text/plain": [
              "                                               title  \\\n",
              "0  pedido cancelado sem justificativa após uma se...   \n",
              "1                                  pedido cancelado    \n",
              "2                                  cobrança indevida   \n",
              "3                                 pedido reincidente   \n",
              "4            assinatura para vender na amazon brasil   \n",
              "\n",
              "                                                text  \\\n",
              "0  eu estava pesquisando bastante uma nova tv par...   \n",
              "1  eu sinceramente estou decepcionada com o amazo...   \n",
              "2  cancelei meu plano antes de terminar o período...   \n",
              "3  olha fiz compra veio errada, e veio errado nov...   \n",
              "4  eu me inscrevi na amazon para realizar vendas ...   \n",
              "\n",
              "                                           documents  \n",
              "0  pedido cancelado sem justificativa após uma se...  \n",
              "1  pedido cancelado  eu sinceramente estou decepc...  \n",
              "2  cobrança indevida cancelei meu plano antes de ...  \n",
              "3  pedido reincidente olha fiz compra veio errada...  \n",
              "4  assinatura para vender na amazon brasil eu me ...  "
            ],
            "text/html": [
              "\n",
              "  <div id=\"df-085cf0fe-abbf-4dcf-a78a-e730d5b8def4\">\n",
              "    <div class=\"colab-df-container\">\n",
              "      <div>\n",
              "<style scoped>\n",
              "    .dataframe tbody tr th:only-of-type {\n",
              "        vertical-align: middle;\n",
              "    }\n",
              "\n",
              "    .dataframe tbody tr th {\n",
              "        vertical-align: top;\n",
              "    }\n",
              "\n",
              "    .dataframe thead th {\n",
              "        text-align: right;\n",
              "    }\n",
              "</style>\n",
              "<table border=\"1\" class=\"dataframe\">\n",
              "  <thead>\n",
              "    <tr style=\"text-align: right;\">\n",
              "      <th></th>\n",
              "      <th>title</th>\n",
              "      <th>text</th>\n",
              "      <th>documents</th>\n",
              "    </tr>\n",
              "  </thead>\n",
              "  <tbody>\n",
              "    <tr>\n",
              "      <th>0</th>\n",
              "      <td>pedido cancelado sem justificativa após uma se...</td>\n",
              "      <td>eu estava pesquisando bastante uma nova tv par...</td>\n",
              "      <td>pedido cancelado sem justificativa após uma se...</td>\n",
              "    </tr>\n",
              "    <tr>\n",
              "      <th>1</th>\n",
              "      <td>pedido cancelado</td>\n",
              "      <td>eu sinceramente estou decepcionada com o amazo...</td>\n",
              "      <td>pedido cancelado  eu sinceramente estou decepc...</td>\n",
              "    </tr>\n",
              "    <tr>\n",
              "      <th>2</th>\n",
              "      <td>cobrança indevida</td>\n",
              "      <td>cancelei meu plano antes de terminar o período...</td>\n",
              "      <td>cobrança indevida cancelei meu plano antes de ...</td>\n",
              "    </tr>\n",
              "    <tr>\n",
              "      <th>3</th>\n",
              "      <td>pedido reincidente</td>\n",
              "      <td>olha fiz compra veio errada, e veio errado nov...</td>\n",
              "      <td>pedido reincidente olha fiz compra veio errada...</td>\n",
              "    </tr>\n",
              "    <tr>\n",
              "      <th>4</th>\n",
              "      <td>assinatura para vender na amazon brasil</td>\n",
              "      <td>eu me inscrevi na amazon para realizar vendas ...</td>\n",
              "      <td>assinatura para vender na amazon brasil eu me ...</td>\n",
              "    </tr>\n",
              "  </tbody>\n",
              "</table>\n",
              "</div>\n",
              "      <button class=\"colab-df-convert\" onclick=\"convertToInteractive('df-085cf0fe-abbf-4dcf-a78a-e730d5b8def4')\"\n",
              "              title=\"Convert this dataframe to an interactive table.\"\n",
              "              style=\"display:none;\">\n",
              "        \n",
              "  <svg xmlns=\"http://www.w3.org/2000/svg\" height=\"24px\"viewBox=\"0 0 24 24\"\n",
              "       width=\"24px\">\n",
              "    <path d=\"M0 0h24v24H0V0z\" fill=\"none\"/>\n",
              "    <path d=\"M18.56 5.44l.94 2.06.94-2.06 2.06-.94-2.06-.94-.94-2.06-.94 2.06-2.06.94zm-11 1L8.5 8.5l.94-2.06 2.06-.94-2.06-.94L8.5 2.5l-.94 2.06-2.06.94zm10 10l.94 2.06.94-2.06 2.06-.94-2.06-.94-.94-2.06-.94 2.06-2.06.94z\"/><path d=\"M17.41 7.96l-1.37-1.37c-.4-.4-.92-.59-1.43-.59-.52 0-1.04.2-1.43.59L10.3 9.45l-7.72 7.72c-.78.78-.78 2.05 0 2.83L4 21.41c.39.39.9.59 1.41.59.51 0 1.02-.2 1.41-.59l7.78-7.78 2.81-2.81c.8-.78.8-2.07 0-2.86zM5.41 20L4 18.59l7.72-7.72 1.47 1.35L5.41 20z\"/>\n",
              "  </svg>\n",
              "      </button>\n",
              "      \n",
              "  <style>\n",
              "    .colab-df-container {\n",
              "      display:flex;\n",
              "      flex-wrap:wrap;\n",
              "      gap: 12px;\n",
              "    }\n",
              "\n",
              "    .colab-df-convert {\n",
              "      background-color: #E8F0FE;\n",
              "      border: none;\n",
              "      border-radius: 50%;\n",
              "      cursor: pointer;\n",
              "      display: none;\n",
              "      fill: #1967D2;\n",
              "      height: 32px;\n",
              "      padding: 0 0 0 0;\n",
              "      width: 32px;\n",
              "    }\n",
              "\n",
              "    .colab-df-convert:hover {\n",
              "      background-color: #E2EBFA;\n",
              "      box-shadow: 0px 1px 2px rgba(60, 64, 67, 0.3), 0px 1px 3px 1px rgba(60, 64, 67, 0.15);\n",
              "      fill: #174EA6;\n",
              "    }\n",
              "\n",
              "    [theme=dark] .colab-df-convert {\n",
              "      background-color: #3B4455;\n",
              "      fill: #D2E3FC;\n",
              "    }\n",
              "\n",
              "    [theme=dark] .colab-df-convert:hover {\n",
              "      background-color: #434B5C;\n",
              "      box-shadow: 0px 1px 3px 1px rgba(0, 0, 0, 0.15);\n",
              "      filter: drop-shadow(0px 1px 2px rgba(0, 0, 0, 0.3));\n",
              "      fill: #FFFFFF;\n",
              "    }\n",
              "  </style>\n",
              "\n",
              "      <script>\n",
              "        const buttonEl =\n",
              "          document.querySelector('#df-085cf0fe-abbf-4dcf-a78a-e730d5b8def4 button.colab-df-convert');\n",
              "        buttonEl.style.display =\n",
              "          google.colab.kernel.accessAllowed ? 'block' : 'none';\n",
              "\n",
              "        async function convertToInteractive(key) {\n",
              "          const element = document.querySelector('#df-085cf0fe-abbf-4dcf-a78a-e730d5b8def4');\n",
              "          const dataTable =\n",
              "            await google.colab.kernel.invokeFunction('convertToInteractive',\n",
              "                                                     [key], {});\n",
              "          if (!dataTable) return;\n",
              "\n",
              "          const docLinkHtml = 'Like what you see? Visit the ' +\n",
              "            '<a target=\"_blank\" href=https://colab.research.google.com/notebooks/data_table.ipynb>data table notebook</a>'\n",
              "            + ' to learn more about interactive tables.';\n",
              "          element.innerHTML = '';\n",
              "          dataTable['output_type'] = 'display_data';\n",
              "          await google.colab.output.renderOutput(dataTable, element);\n",
              "          const docLink = document.createElement('div');\n",
              "          docLink.innerHTML = docLinkHtml;\n",
              "          element.appendChild(docLink);\n",
              "        }\n",
              "      </script>\n",
              "    </div>\n",
              "  </div>\n",
              "  "
            ]
          },
          "metadata": {},
          "execution_count": 11
        }
      ]
    },
    {
      "cell_type": "markdown",
      "source": [
        "## **Preprocessing**"
      ],
      "metadata": {
        "id": "drjuwA5yk4YB"
      }
    },
    {
      "cell_type": "markdown",
      "source": [
        "### **Tokenization**\n",
        "\n",
        "Tokenization aims to breaking text down into its component parts"
      ],
      "metadata": {
        "id": "i9ukWCy8qBOP"
      }
    },
    {
      "cell_type": "code",
      "source": [
        "WORD_TOKENIZER = nltk.tokenize.word_tokenize\n",
        "def tokenize(text, lowercase=True):\n",
        "  if lowercase:\n",
        "    text = text.lower()\n",
        "  return WORD_TOKENIZER(text, language=\"portuguese\")"
      ],
      "metadata": {
        "id": "k_f8hsxJk7v4"
      },
      "execution_count": 12,
      "outputs": []
    },
    {
      "cell_type": "markdown",
      "source": [
        "### **Stem** \n",
        "\n",
        "Stem the tokens. This step aims to remove morphological affixes and normalize to standardized stem forms"
      ],
      "metadata": {
        "id": "Lm7V--yMq98r"
      }
    },
    {
      "cell_type": "code",
      "source": [
        "STEMMER = nltk.PorterStemmer()\n",
        "def stem(tokens):\n",
        "  return [STEMMER.stem(token) for token in tokens]"
      ],
      "metadata": {
        "id": "TphgFQIxrPMM"
      },
      "execution_count": 13,
      "outputs": []
    },
    {
      "cell_type": "markdown",
      "source": [
        "### **Lemmatize**\n",
        "\n",
        "Lemmatize the tokens. Retains more natural forms than stemming, but assumes all tokens nons unless tokens are passed as (word, pos) tuples."
      ],
      "metadata": {
        "id": "RTiUcqzrrdiX"
      }
    },
    {
      "cell_type": "code",
      "source": [
        "LEMMATIZER = nltk.WordNetLemmatizer()\n",
        "def lemmatize(tokens):\n",
        "  lemmas = []\n",
        "  for token in tokens:\n",
        "    if isinstance(token, str):\n",
        "      # For str token\n",
        "      lemmas.append(LEMMATIZER.lemmatize(token)) \n",
        "    else:\n",
        "      # For tuple of (str, pos)\n",
        "      lemmas.append(LEMMATIZER.lemmatize(*tokens)) \n",
        "  return lemmas"
      ],
      "metadata": {
        "id": "4O48ihphrxy3"
      },
      "execution_count": 14,
      "outputs": []
    },
    {
      "cell_type": "markdown",
      "source": [
        "### **Remove stopwords**\n",
        "\n",
        "Stop words are things like articles and conjunctions that usually do not offer a lot of value in an analysis."
      ],
      "metadata": {
        "id": "jkLYqJgDs4Xd"
      }
    },
    {
      "cell_type": "code",
      "source": [
        "def remove_stopwords(tokens, stopwords=None):\n",
        "\n",
        "  # Use the default stop words if none is passed\n",
        "  if stopwords is None:\n",
        "    stopwords = nltk.corpus.stopwords.words(\"portuguese\")\n",
        "  \n",
        "  # Filter the list of tokens to exclude the stop word tokens\n",
        "  return [token for token in tokens if token not in stopwords]"
      ],
      "metadata": {
        "id": "D9blZaBYtHgj"
      },
      "execution_count": 15,
      "outputs": []
    },
    {
      "cell_type": "markdown",
      "source": [
        "### **Remove hyperlinks**\n",
        "\n",
        "Removes http/s links from the tokens."
      ],
      "metadata": {
        "id": "X4qMKyfKtaAW"
      }
    },
    {
      "cell_type": "code",
      "source": [
        "def remove_links(tokens):\n",
        "  # Filter tokens that starts with \"http://\" or \"https://\"\n",
        "  return [token for token in tokens \n",
        "          if not token.startswith(\"http://\")\n",
        "          and not token.startswith(\"https://\")]"
      ],
      "metadata": {
        "id": "LqlMta5qtovS"
      },
      "execution_count": 16,
      "outputs": []
    },
    {
      "cell_type": "markdown",
      "source": [
        "### **Remove numbers**"
      ],
      "metadata": {
        "id": "EwKFluprz-pW"
      }
    },
    {
      "cell_type": "code",
      "source": [
        "def remove_numbers(tokens):\n",
        "  # Filter number tokens\n",
        "  return [token for token in tokens if not token.isdigit()]"
      ],
      "metadata": {
        "id": "ALKnXv8C0EWu"
      },
      "execution_count": 17,
      "outputs": []
    },
    {
      "cell_type": "markdown",
      "source": [
        "### **Remove date**"
      ],
      "metadata": {
        "id": "a0pZKAQ7ZJHL"
      }
    },
    {
      "cell_type": "code",
      "source": [
        "def remove_date(tokens):\n",
        "  # Compile a regular expression to match dates in the format dd/mm or dd/mm/yyyy\n",
        "  date_regex = re.compile(r'\\d{2}/\\d{2}(/\\d{4})?')\n",
        "\n",
        "  # Use the regex to find all the tokens that match the date pattern\n",
        "  dates = [token for token in tokens if date_regex.fullmatch(token)]\n",
        "\n",
        "  # Filter the list of tokens to exclude the date tokens\n",
        "  filtered_tokens = [token for token in tokens if token not in dates]\n",
        "\n",
        "  # Return the filtered tokens\n",
        "  return filtered_tokens"
      ],
      "metadata": {
        "id": "ywykIjKZctc-"
      },
      "execution_count": 18,
      "outputs": []
    },
    {
      "cell_type": "markdown",
      "source": [
        "### **Remove punctuation**"
      ],
      "metadata": {
        "id": "7y1FqCD1t75_"
      }
    },
    {
      "cell_type": "code",
      "source": [
        "def remove_punctuation(tokens,\n",
        "                       strip_mentions=False,\n",
        "                       strip_hashtags=False,\n",
        "                       strict=False):\n",
        "\n",
        "    # Use the sub method to remove all punctuation characters\n",
        "    tokens = [re.sub(r\"[,!?.]\", \"\", t) for t in tokens ] \n",
        "\n",
        "    # Remove punctuation\n",
        "    #tokens = [t for t in tokens if t not in string.punctuation]\n",
        "\n",
        "    # Remove @ symbol from left side of tokens\n",
        "    if strip_mentions:\n",
        "        tokens = [t.lstrip('@') for t in tokens]\n",
        "\n",
        "    # Remove # symbol from left side of tokens\n",
        "    if strip_hashtags:\n",
        "        tokens = [t.lstrip('#') for t in tokens]\n",
        "\n",
        "    return tokens"
      ],
      "metadata": {
        "id": "ba7paG7_uBtS"
      },
      "execution_count": 19,
      "outputs": []
    },
    {
      "cell_type": "markdown",
      "source": [
        "### **Remove short tokens**"
      ],
      "metadata": {
        "id": "SiUx2T8C5YBh"
      }
    },
    {
      "cell_type": "code",
      "source": [
        "def remove_short_tokens(tokens):\n",
        "  # Filter the list of tokens to exclude tokens that are shorter than four letters\n",
        "  filtered_tokens = [token for token in tokens if len(token) >= 4]\n",
        "\n",
        "  # Return the filtered tokens\n",
        "  return filtered_tokens"
      ],
      "metadata": {
        "id": "t8SOwNYW6QI1"
      },
      "execution_count": 20,
      "outputs": []
    },
    {
      "cell_type": "markdown",
      "source": [
        "### **Correction of spelling errors and abbreviations**"
      ],
      "metadata": {
        "id": "WqtOisN38pZP"
      }
    },
    {
      "cell_type": "code",
      "source": [
        "def check_spell_errors(text):\n",
        "  # Create a SpellChecker object\n",
        "  spell = SpellChecker(language='pt')\n",
        "\n",
        "  # Correct the spelling errors in the text\n",
        "  corrected_text = spell.correction(text)\n",
        "\n",
        "  # If no correction is present user the original text\n",
        "  if corrected_text == None:\n",
        "     corrected_text =  text\n",
        "  \n",
        "  # Return the corrected text\n",
        "  return corrected_text"
      ],
      "metadata": {
        "id": "fUTiJYc_8hba"
      },
      "execution_count": 21,
      "outputs": []
    },
    {
      "cell_type": "code",
      "source": [
        "def preprocessing(documents):\n",
        "  corpus = []\n",
        "\n",
        "  # process each document and append to corpus list\n",
        "  for i, text in enumerate(documents):\n",
        "    if i % 1000 == 0:\n",
        "      print(f\"Processed {i} documents\")\n",
        "    text = check_spell_errors(text)\n",
        "    tokens = tokenize(text)\n",
        "    tokens = remove_links(tokens)\n",
        "    tokens = remove_punctuation(tokens, strip_mentions=True, strip_hashtags=True)\n",
        "    tokens = remove_numbers(tokens)\n",
        "    tokens = remove_date(tokens)\n",
        "    tokens = remove_short_tokens(tokens)\n",
        "    tokens = remove_stopwords(tokens)\n",
        "    tokens = lemmatize(tokens) \n",
        "    corpus.append(' '.join(tokens))\n",
        "  return corpus"
      ],
      "metadata": {
        "id": "5aiFtbo3uuh_"
      },
      "execution_count": 22,
      "outputs": []
    },
    {
      "cell_type": "code",
      "source": [
        "# Print the first document before and after pre-processing it\n",
        "corpus = preprocessing(df.documents) \n",
        "print(df.documents[0])\n",
        "print()\n",
        "corpus[0]"
      ],
      "metadata": {
        "id": "Tu75mPgywHwb",
        "outputId": "d76e6acc-9798-4365-ae05-9f60dce9a809",
        "colab": {
          "base_uri": "https://localhost:8080/",
          "height": 397
        }
      },
      "execution_count": 23,
      "outputs": [
        {
          "output_type": "stream",
          "name": "stdout",
          "text": [
            "Processed 0 documents\n"
          ]
        },
        {
          "output_type": "error",
          "ename": "NameError",
          "evalue": "ignored",
          "traceback": [
            "\u001b[0;31m---------------------------------------------------------------------------\u001b[0m",
            "\u001b[0;31mNameError\u001b[0m                                 Traceback (most recent call last)",
            "\u001b[0;32m<ipython-input-23-21b1872f69ff>\u001b[0m in \u001b[0;36m<module>\u001b[0;34m\u001b[0m\n\u001b[1;32m      1\u001b[0m \u001b[0;31m# Print the first document before and after pre-processing it\u001b[0m\u001b[0;34m\u001b[0m\u001b[0;34m\u001b[0m\u001b[0;34m\u001b[0m\u001b[0m\n\u001b[0;32m----> 2\u001b[0;31m \u001b[0mcorpus\u001b[0m \u001b[0;34m=\u001b[0m \u001b[0mpreprocessing\u001b[0m\u001b[0;34m(\u001b[0m\u001b[0mdf\u001b[0m\u001b[0;34m.\u001b[0m\u001b[0mdocuments\u001b[0m\u001b[0;34m)\u001b[0m\u001b[0;34m\u001b[0m\u001b[0;34m\u001b[0m\u001b[0m\n\u001b[0m\u001b[1;32m      3\u001b[0m \u001b[0mprint\u001b[0m\u001b[0;34m(\u001b[0m\u001b[0mdf\u001b[0m\u001b[0;34m.\u001b[0m\u001b[0mdocuments\u001b[0m\u001b[0;34m[\u001b[0m\u001b[0;36m0\u001b[0m\u001b[0;34m]\u001b[0m\u001b[0;34m)\u001b[0m\u001b[0;34m\u001b[0m\u001b[0;34m\u001b[0m\u001b[0m\n\u001b[1;32m      4\u001b[0m \u001b[0mprint\u001b[0m\u001b[0;34m(\u001b[0m\u001b[0;34m)\u001b[0m\u001b[0;34m\u001b[0m\u001b[0;34m\u001b[0m\u001b[0m\n\u001b[1;32m      5\u001b[0m \u001b[0mcorpus\u001b[0m\u001b[0;34m[\u001b[0m\u001b[0;36m0\u001b[0m\u001b[0;34m]\u001b[0m\u001b[0;34m\u001b[0m\u001b[0;34m\u001b[0m\u001b[0m\n",
            "\u001b[0;32m<ipython-input-22-f83d8a6a629c>\u001b[0m in \u001b[0;36mpreprocessing\u001b[0;34m(documents)\u001b[0m\n\u001b[1;32m      6\u001b[0m     \u001b[0;32mif\u001b[0m \u001b[0mi\u001b[0m \u001b[0;34m%\u001b[0m \u001b[0;36m1000\u001b[0m \u001b[0;34m==\u001b[0m \u001b[0;36m0\u001b[0m\u001b[0;34m:\u001b[0m\u001b[0;34m\u001b[0m\u001b[0;34m\u001b[0m\u001b[0m\n\u001b[1;32m      7\u001b[0m       \u001b[0mprint\u001b[0m\u001b[0;34m(\u001b[0m\u001b[0;34mf\"Processed {i} documents\"\u001b[0m\u001b[0;34m)\u001b[0m\u001b[0;34m\u001b[0m\u001b[0;34m\u001b[0m\u001b[0m\n\u001b[0;32m----> 8\u001b[0;31m     \u001b[0mtext\u001b[0m \u001b[0;34m=\u001b[0m \u001b[0mcheck_spell_errors\u001b[0m\u001b[0;34m(\u001b[0m\u001b[0mtext\u001b[0m\u001b[0;34m)\u001b[0m\u001b[0;34m\u001b[0m\u001b[0;34m\u001b[0m\u001b[0m\n\u001b[0m\u001b[1;32m      9\u001b[0m     \u001b[0mtokens\u001b[0m \u001b[0;34m=\u001b[0m \u001b[0mtokenize\u001b[0m\u001b[0;34m(\u001b[0m\u001b[0mtext\u001b[0m\u001b[0;34m)\u001b[0m\u001b[0;34m\u001b[0m\u001b[0;34m\u001b[0m\u001b[0m\n\u001b[1;32m     10\u001b[0m     \u001b[0mtokens\u001b[0m \u001b[0;34m=\u001b[0m \u001b[0mremove_links\u001b[0m\u001b[0;34m(\u001b[0m\u001b[0mtokens\u001b[0m\u001b[0;34m)\u001b[0m\u001b[0;34m\u001b[0m\u001b[0;34m\u001b[0m\u001b[0m\n",
            "\u001b[0;32m<ipython-input-21-b4005b0d589c>\u001b[0m in \u001b[0;36mcheck_spell_errors\u001b[0;34m(text)\u001b[0m\n\u001b[1;32m      1\u001b[0m \u001b[0;32mdef\u001b[0m \u001b[0mcheck_spell_errors\u001b[0m\u001b[0;34m(\u001b[0m\u001b[0mtext\u001b[0m\u001b[0;34m)\u001b[0m\u001b[0;34m:\u001b[0m\u001b[0;34m\u001b[0m\u001b[0;34m\u001b[0m\u001b[0m\n\u001b[1;32m      2\u001b[0m   \u001b[0;31m# Create a SpellChecker object\u001b[0m\u001b[0;34m\u001b[0m\u001b[0;34m\u001b[0m\u001b[0;34m\u001b[0m\u001b[0m\n\u001b[0;32m----> 3\u001b[0;31m   \u001b[0mspell\u001b[0m \u001b[0;34m=\u001b[0m \u001b[0mSpellChecker\u001b[0m\u001b[0;34m(\u001b[0m\u001b[0mlanguage\u001b[0m\u001b[0;34m=\u001b[0m\u001b[0;34m'pt'\u001b[0m\u001b[0;34m)\u001b[0m\u001b[0;34m\u001b[0m\u001b[0;34m\u001b[0m\u001b[0m\n\u001b[0m\u001b[1;32m      4\u001b[0m \u001b[0;34m\u001b[0m\u001b[0m\n\u001b[1;32m      5\u001b[0m   \u001b[0;31m# Correct the spelling errors in the text\u001b[0m\u001b[0;34m\u001b[0m\u001b[0;34m\u001b[0m\u001b[0;34m\u001b[0m\u001b[0m\n",
            "\u001b[0;31mNameError\u001b[0m: name 'SpellChecker' is not defined"
          ]
        }
      ]
    },
    {
      "cell_type": "markdown",
      "source": [
        "## **Training a BERTopic Model**\n",
        "\n",
        "The BERTopic algorithm has several advantages over other topic modeling algorithms. It is able to handle sparse data, it is scalable to large datasets, and it is able to learn topics that are not well-defined or are overlapping.\n",
        "\n",
        "As our data language is portuguese we will going to set language to multilingual."
      ],
      "metadata": {
        "id": "AWmOFQ3VOD05"
      }
    },
    {
      "cell_type": "markdown",
      "source": [
        "### **Enabling the GPU**\n",
        "\n",
        "We will use the GPU provided by COLAB to accelarate our model training. To enable GPUs for the notebook:\n",
        "1- Navigate to Edit -> Notebook Settings\n",
        "2- Select GPU from the Hardware Accelerator drop-down"
      ],
      "metadata": {
        "id": "5goOGgeyhK3S"
      }
    },
    {
      "cell_type": "code",
      "source": [
        "# verify if GPU is enable\n",
        "gpu_info = !nvidia-smi\n",
        "gpu_info = '\\n'.join(gpu_info)\n",
        "if gpu_info.find('failed') >= 0:\n",
        "  print('Not connected to a GPU')\n",
        "else:\n",
        "  print(gpu_info)"
      ],
      "metadata": {
        "id": "tgfQItxxRCfq",
        "outputId": "ee841925-82a3-488b-85d5-a61c62a37202",
        "colab": {
          "base_uri": "https://localhost:8080/"
        }
      },
      "execution_count": 24,
      "outputs": [
        {
          "output_type": "stream",
          "name": "stdout",
          "text": [
            "Sat Dec 10 23:48:58 2022       \n",
            "+-----------------------------------------------------------------------------+\n",
            "| NVIDIA-SMI 460.32.03    Driver Version: 460.32.03    CUDA Version: 11.2     |\n",
            "|-------------------------------+----------------------+----------------------+\n",
            "| GPU  Name        Persistence-M| Bus-Id        Disp.A | Volatile Uncorr. ECC |\n",
            "| Fan  Temp  Perf  Pwr:Usage/Cap|         Memory-Usage | GPU-Util  Compute M. |\n",
            "|                               |                      |               MIG M. |\n",
            "|===============================+======================+======================|\n",
            "|   0  Tesla T4            Off  | 00000000:00:04.0 Off |                    0 |\n",
            "| N/A   42C    P0    26W /  70W |      0MiB / 15109MiB |      0%      Default |\n",
            "|                               |                      |                  N/A |\n",
            "+-------------------------------+----------------------+----------------------+\n",
            "                                                                               \n",
            "+-----------------------------------------------------------------------------+\n",
            "| Processes:                                                                  |\n",
            "|  GPU   GI   CI        PID   Type   Process name                  GPU Memory |\n",
            "|        ID   ID                                                   Usage      |\n",
            "|=============================================================================|\n",
            "|  No running processes found                                                 |\n",
            "+-----------------------------------------------------------------------------+\n"
          ]
        }
      ]
    },
    {
      "cell_type": "markdown",
      "source": [
        "Create a new BERTopic model and train it. By default BERTopic use the paraphrase-multilingual-MiniLM-L12-v2 model for multi language documents. For others model check here [BERTopic sentence transformers](https://maartengr.github.io/BERTopic/getting_started/embeddings/embeddings.html#sentence-transformers)"
      ],
      "metadata": {
        "id": "_mBsnRnhgbm9"
      }
    },
    {
      "cell_type": "code",
      "source": [
        "model = SentenceTransformer('paraphrase-multilingual-MiniLM-L12-v2')\n",
        "embeddings = model.encode(corpus, show_progress_bar=True)"
      ],
      "metadata": {
        "id": "-dC8mFh4q12v"
      },
      "execution_count": null,
      "outputs": []
    },
    {
      "cell_type": "code",
      "source": [
        "# Create a new BERTopic model using multilingual option\n",
        "topic_model = BERTopic(embedding_model = \"paraphrase-multilingual-MiniLM-L12-v2\", language=\"multilingual\", calculate_probabilities=True, verbose=True)\n",
        "\n",
        "# Train model \n",
        "topics, probs = topic_model.fit_transform(corpus)"
      ],
      "metadata": {
        "id": "B0EFqnutN2Y9",
        "outputId": "630ed60c-aeaa-4172-b7f6-19d72cd3b513",
        "colab": {
          "base_uri": "https://localhost:8080/",
          "height": 101,
          "referenced_widgets": [
            "eb97fe63250a4c4dab5620bd8d5c1be5",
            "76c87c47209243128c3f7e2af075abe4",
            "9674c43cf1194cc3bfe95fbd647b587c",
            "1b90e58ae9194f4eaf2428198d3e7999",
            "d2c738b045604b9992959b4cdc6f5d68",
            "4ceb272928b643cc83f769cde19cef85",
            "51ac7a4a725d47eb8923f7675cd5ba70",
            "e502565250094eb3b32c1609ce041ce3",
            "907eb44c1cd645a7a53ede6460e85c22",
            "a072e17aacf24e8cba85b0fc04b7f2fb",
            "d2b14ba2f01c441293a0575dcde168d8"
          ]
        }
      },
      "execution_count": 45,
      "outputs": [
        {
          "output_type": "display_data",
          "data": {
            "text/plain": [
              "Batches:   0%|          | 0/329 [00:00<?, ?it/s]"
            ],
            "application/vnd.jupyter.widget-view+json": {
              "version_major": 2,
              "version_minor": 0,
              "model_id": "eb97fe63250a4c4dab5620bd8d5c1be5"
            }
          },
          "metadata": {}
        },
        {
          "output_type": "stream",
          "name": "stderr",
          "text": [
            "2022-12-11 00:22:00,882 - BERTopic - Transformed documents to Embeddings\n",
            "2022-12-11 00:22:13,116 - BERTopic - Reduced dimensionality\n",
            "2022-12-11 00:22:15,754 - BERTopic - Clustered reduced embeddings\n"
          ]
        }
      ]
    },
    {
      "cell_type": "markdown",
      "source": [
        "BERTopic works in three main steps: \n",
        "\n",
        "\n",
        "1.   Documents are first converted to numeric data. It extracts different embeddings based on the context of the word. For this, a sentence transformation model is used.\n",
        "2.  Documents with similar topics are then grouped together forming clusters with similar topics. For this purpose, BERTopic uses the clustering algorithm UMAP to lower the dimensionality of the embeddings. Then the documents are clustered with the density-based algorithm HDBSCAN.\n",
        "3. BERTopic extract topics from clusters using a class-based TF-IDF score. This score gives the importance of each word in cluster. Topic are then created based on most important words measured by its C-TF-IDF score.\n",
        "\n",
        "For more information check this link [BERTopic](https://towardsdatascience.com/topic-modeling-with-bert-779f7db187e6)\n",
        "\n"
      ],
      "metadata": {
        "id": "vnG5aC6ekXeu"
      }
    },
    {
      "cell_type": "markdown",
      "source": [
        "## **Extracting Topics**"
      ],
      "metadata": {
        "id": "GimKIMmaRZSd"
      }
    },
    {
      "cell_type": "code",
      "source": [
        "# print the most frequent topics\n",
        "freq = topic_model.get_topic_info()\n",
        "freq.head(5)"
      ],
      "metadata": {
        "id": "JIrBNmF-Rcf0",
        "outputId": "2c7bc1eb-df33-406b-d254-2d0f87d92a96",
        "colab": {
          "base_uri": "https://localhost:8080/",
          "height": 206
        }
      },
      "execution_count": 42,
      "outputs": [
        {
          "output_type": "execute_result",
          "data": {
            "text/plain": [
              "   Topic  Count                                      Name\n",
              "0     -1   3976           -1_produto_compra_pedido_recebi\n",
              "1      0    600            0_conta_suspensa_senha_acessar\n",
              "2      1    535  1_amazon_transportadora_entregue_entrega\n",
              "3      2    460      2_casas_bahia_transportadora_entrega\n",
              "4      3    410           3_entrega_atraso_atrasada_prazo"
            ],
            "text/html": [
              "\n",
              "  <div id=\"df-85a782e0-0fef-40cd-991b-4c8a9da79213\">\n",
              "    <div class=\"colab-df-container\">\n",
              "      <div>\n",
              "<style scoped>\n",
              "    .dataframe tbody tr th:only-of-type {\n",
              "        vertical-align: middle;\n",
              "    }\n",
              "\n",
              "    .dataframe tbody tr th {\n",
              "        vertical-align: top;\n",
              "    }\n",
              "\n",
              "    .dataframe thead th {\n",
              "        text-align: right;\n",
              "    }\n",
              "</style>\n",
              "<table border=\"1\" class=\"dataframe\">\n",
              "  <thead>\n",
              "    <tr style=\"text-align: right;\">\n",
              "      <th></th>\n",
              "      <th>Topic</th>\n",
              "      <th>Count</th>\n",
              "      <th>Name</th>\n",
              "    </tr>\n",
              "  </thead>\n",
              "  <tbody>\n",
              "    <tr>\n",
              "      <th>0</th>\n",
              "      <td>-1</td>\n",
              "      <td>3976</td>\n",
              "      <td>-1_produto_compra_pedido_recebi</td>\n",
              "    </tr>\n",
              "    <tr>\n",
              "      <th>1</th>\n",
              "      <td>0</td>\n",
              "      <td>600</td>\n",
              "      <td>0_conta_suspensa_senha_acessar</td>\n",
              "    </tr>\n",
              "    <tr>\n",
              "      <th>2</th>\n",
              "      <td>1</td>\n",
              "      <td>535</td>\n",
              "      <td>1_amazon_transportadora_entregue_entrega</td>\n",
              "    </tr>\n",
              "    <tr>\n",
              "      <th>3</th>\n",
              "      <td>2</td>\n",
              "      <td>460</td>\n",
              "      <td>2_casas_bahia_transportadora_entrega</td>\n",
              "    </tr>\n",
              "    <tr>\n",
              "      <th>4</th>\n",
              "      <td>3</td>\n",
              "      <td>410</td>\n",
              "      <td>3_entrega_atraso_atrasada_prazo</td>\n",
              "    </tr>\n",
              "  </tbody>\n",
              "</table>\n",
              "</div>\n",
              "      <button class=\"colab-df-convert\" onclick=\"convertToInteractive('df-85a782e0-0fef-40cd-991b-4c8a9da79213')\"\n",
              "              title=\"Convert this dataframe to an interactive table.\"\n",
              "              style=\"display:none;\">\n",
              "        \n",
              "  <svg xmlns=\"http://www.w3.org/2000/svg\" height=\"24px\"viewBox=\"0 0 24 24\"\n",
              "       width=\"24px\">\n",
              "    <path d=\"M0 0h24v24H0V0z\" fill=\"none\"/>\n",
              "    <path d=\"M18.56 5.44l.94 2.06.94-2.06 2.06-.94-2.06-.94-.94-2.06-.94 2.06-2.06.94zm-11 1L8.5 8.5l.94-2.06 2.06-.94-2.06-.94L8.5 2.5l-.94 2.06-2.06.94zm10 10l.94 2.06.94-2.06 2.06-.94-2.06-.94-.94-2.06-.94 2.06-2.06.94z\"/><path d=\"M17.41 7.96l-1.37-1.37c-.4-.4-.92-.59-1.43-.59-.52 0-1.04.2-1.43.59L10.3 9.45l-7.72 7.72c-.78.78-.78 2.05 0 2.83L4 21.41c.39.39.9.59 1.41.59.51 0 1.02-.2 1.41-.59l7.78-7.78 2.81-2.81c.8-.78.8-2.07 0-2.86zM5.41 20L4 18.59l7.72-7.72 1.47 1.35L5.41 20z\"/>\n",
              "  </svg>\n",
              "      </button>\n",
              "      \n",
              "  <style>\n",
              "    .colab-df-container {\n",
              "      display:flex;\n",
              "      flex-wrap:wrap;\n",
              "      gap: 12px;\n",
              "    }\n",
              "\n",
              "    .colab-df-convert {\n",
              "      background-color: #E8F0FE;\n",
              "      border: none;\n",
              "      border-radius: 50%;\n",
              "      cursor: pointer;\n",
              "      display: none;\n",
              "      fill: #1967D2;\n",
              "      height: 32px;\n",
              "      padding: 0 0 0 0;\n",
              "      width: 32px;\n",
              "    }\n",
              "\n",
              "    .colab-df-convert:hover {\n",
              "      background-color: #E2EBFA;\n",
              "      box-shadow: 0px 1px 2px rgba(60, 64, 67, 0.3), 0px 1px 3px 1px rgba(60, 64, 67, 0.15);\n",
              "      fill: #174EA6;\n",
              "    }\n",
              "\n",
              "    [theme=dark] .colab-df-convert {\n",
              "      background-color: #3B4455;\n",
              "      fill: #D2E3FC;\n",
              "    }\n",
              "\n",
              "    [theme=dark] .colab-df-convert:hover {\n",
              "      background-color: #434B5C;\n",
              "      box-shadow: 0px 1px 3px 1px rgba(0, 0, 0, 0.15);\n",
              "      filter: drop-shadow(0px 1px 2px rgba(0, 0, 0, 0.3));\n",
              "      fill: #FFFFFF;\n",
              "    }\n",
              "  </style>\n",
              "\n",
              "      <script>\n",
              "        const buttonEl =\n",
              "          document.querySelector('#df-85a782e0-0fef-40cd-991b-4c8a9da79213 button.colab-df-convert');\n",
              "        buttonEl.style.display =\n",
              "          google.colab.kernel.accessAllowed ? 'block' : 'none';\n",
              "\n",
              "        async function convertToInteractive(key) {\n",
              "          const element = document.querySelector('#df-85a782e0-0fef-40cd-991b-4c8a9da79213');\n",
              "          const dataTable =\n",
              "            await google.colab.kernel.invokeFunction('convertToInteractive',\n",
              "                                                     [key], {});\n",
              "          if (!dataTable) return;\n",
              "\n",
              "          const docLinkHtml = 'Like what you see? Visit the ' +\n",
              "            '<a target=\"_blank\" href=https://colab.research.google.com/notebooks/data_table.ipynb>data table notebook</a>'\n",
              "            + ' to learn more about interactive tables.';\n",
              "          element.innerHTML = '';\n",
              "          dataTable['output_type'] = 'display_data';\n",
              "          await google.colab.output.renderOutput(dataTable, element);\n",
              "          const docLink = document.createElement('div');\n",
              "          docLink.innerHTML = docLinkHtml;\n",
              "          element.appendChild(docLink);\n",
              "        }\n",
              "      </script>\n",
              "    </div>\n",
              "  </div>\n",
              "  "
            ]
          },
          "metadata": {},
          "execution_count": 42
        }
      ]
    },
    {
      "cell_type": "markdown",
      "source": [
        "The table above shows the five most freqeuente topics and the words present on it extract by BERTopic. -1 refers to all outliers and should be ignored."
      ],
      "metadata": {
        "id": "TVWcfF5mRrMy"
      }
    },
    {
      "cell_type": "code",
      "source": [
        "# show the most frequent topic\n",
        "topic_model.get_topic(1)"
      ],
      "metadata": {
        "id": "Br_UMf1kRxU3",
        "outputId": "38831030-a646-45bb-e7a0-14dc1f48a02c",
        "colab": {
          "base_uri": "https://localhost:8080/"
        }
      },
      "execution_count": 43,
      "outputs": [
        {
          "output_type": "execute_result",
          "data": {
            "text/plain": [
              "[('amazon', 0.03766850116243189),\n",
              " ('transportadora', 0.015238758364451608),\n",
              " ('entregue', 0.012792559309914473),\n",
              " ('entrega', 0.011923976904959275),\n",
              " ('produto', 0.011880702842787161),\n",
              " ('pedido', 0.011260814728494996),\n",
              " ('empresa', 0.010297151568065207),\n",
              " ('reembolso', 0.009938759655023615),\n",
              " ('site', 0.009658567920815474),\n",
              " ('contato', 0.00884245284652742)]"
            ]
          },
          "metadata": {},
          "execution_count": 43
        }
      ]
    },
    {
      "cell_type": "markdown",
      "source": [
        "**Note:** BERTopic is stocastich which means that the topics might differ across runs this is mostly due to the stocastisch nature of UMAP"
      ],
      "metadata": {
        "id": "YpP4HgF2R6Wa"
      }
    },
    {
      "cell_type": "markdown",
      "source": [
        "## **Visualization**"
      ],
      "metadata": {
        "id": "wBsA8hiVSJDY"
      }
    },
    {
      "cell_type": "markdown",
      "source": [
        "### **Intertopic Distance Map**\n",
        "\n",
        "This graph shows the distance intertopic and help us understand the promixity of topics"
      ],
      "metadata": {
        "id": "2twooZDXUc2T"
      }
    },
    {
      "cell_type": "code",
      "source": [
        "topic_model.visualize_topics()"
      ],
      "metadata": {
        "id": "Ae2JSAENSIOJ",
        "outputId": "c6bb3312-52e6-4778-9b26-69a471b68f66",
        "colab": {
          "base_uri": "https://localhost:8080/",
          "height": 667
        }
      },
      "execution_count": 44,
      "outputs": [
        {
          "output_type": "display_data",
          "data": {
            "text/html": [
              "<html>\n",
              "<head><meta charset=\"utf-8\" /></head>\n",
              "<body>\n",
              "    <div>            <script src=\"https://cdnjs.cloudflare.com/ajax/libs/mathjax/2.7.5/MathJax.js?config=TeX-AMS-MML_SVG\"></script><script type=\"text/javascript\">if (window.MathJax) {MathJax.Hub.Config({SVG: {font: \"STIX-Web\"}});}</script>                <script type=\"text/javascript\">window.PlotlyConfig = {MathJaxConfig: 'local'};</script>\n",
              "        <script src=\"https://cdn.plot.ly/plotly-2.8.3.min.js\"></script>                <div id=\"2628eebd-54e7-4c85-a4af-743a524d61e7\" class=\"plotly-graph-div\" style=\"height:650px; width:650px;\"></div>            <script type=\"text/javascript\">                                    window.PLOTLYENV=window.PLOTLYENV || {};                                    if (document.getElementById(\"2628eebd-54e7-4c85-a4af-743a524d61e7\")) {                    Plotly.newPlot(                        \"2628eebd-54e7-4c85-a4af-743a524d61e7\",                        [{\"customdata\":[[0,\"conta | suspensa | senha | acessar | bloqueada\",600],[1,\"amazon | transportadora | entregue | entrega | produto\",535],[2,\"casas | bahia | transportadora | entrega | site\",460],[3,\"entrega | atraso | atrasada | prazo | data\",410],[4,\"magazine | luiza | loja | entrega | produto\",352],[5,\"cart\\u00e3o | cr\\u00e9dito | compra | pagamento | valor\",349],[6,\"cancelamento | cancelar | cancelado | pedido | compra\",328],[7,\"assinatura | cobran\\u00e7a | amazon | prime | cart\\u00e3o\",242],[8,\"propaganda | enganosa | an\\u00fancio | cupom | valor\",210],[9,\"whatsapp | contato | atendimento | entrega | produto\",208],[10,\"mercado | livre | vendedor | reclama\\u00e7\\u00e3o | 09\",177],[11,\"quebrado | veio | caixa | embalagem | produto\",129],[12,\"brasil | shein | encomenda | correios | aeroporto\",126],[13,\"shein | remetente | pedido | correios | 01\",123],[14,\"geladeira | refrigerador | troca | entrega | coleta\",118],[15,\"celular | aparelho | garantia | smartphone | samsung\",105],[16,\"amazon | cancelado | cancelamento | pedido | compra\",94],[17,\"celular | entrega | aparelho | samsung | prazo\",87],[18,\"estorno | cancelamento | valor | dinheiro | feito\",73],[19,\"devolu\\u00e7\\u00e3o | c\\u00f3digo | postagem | solicitei | devolver\",71],[20,\"livro | livros | amazon | entregue | comprei\",71],[21,\"m\\u00e1quina | lavar | secador | escova | roupas\",70],[22,\"cama | colch\\u00e3o | dormindo | ch\\u00e3o | solteiro\",67],[23,\"jogo | lan\\u00e7amento | venda | ragnarok | pr\\u00e9\",64],[24,\"nota | fiscal | taxada | shein | taxon\",63],[25,\"cal\\u00e7a | vestido | roupas | cal\\u00e7as | tamanho\",63],[26,\"nacional | shein | internacional | nacionais | envio\",59],[27,\"entregador | casa | entregar | entrega | ningu\\u00e9m\",58],[28,\"magalu | magalupay | parceiro | superapp | parceira\",50],[29,\"entregue | pedido | chegou | consta | marcou\",50],[30,\"prime | v\\u00eddeo | assistir | video | assinatura\",49],[31,\"reembolso | dinheiro | devolvem | taxada | agora\",44],[32,\"comprei | oculos | recebi | itens | doi\",40],[33,\"reembolso | dinheiro | volta | quero | paguei\",40],[34,\"t\\u00eanis | raquete | tenis | devolu\\u00e7\\u00e3o | adidas\",39],[35,\"fone | ouvido | bluetooth | fones | echo\",36],[36,\"entrega | atraso | prazo | full | livre\",36],[37,\"rastreio | c\\u00f3digo | rastreamento | aparece | shein\",35],[38,\"endere\\u00e7o | errado | incorreto | pedido | altera\\u00e7\\u00e3o\",35],[39,\"pagamento | shein | confirma\\u00e7\\u00e3o | realizado | boleto\",31],[40,\"curitiba | tr\\u00e2nsito | shein | parado | desde\",30],[41,\"xbox | garantia | series | jogos | game\",29],[42,\"smartwatch | smart | rel\\u00f3gio | defeito | samsung\",28],[43,\"ventilador | ventiladores | troca | coluna | chegou\",27],[44,\"sof\\u00e1 | bahia | magalu | casas | sof\\u00e1s\",26],[45,\"reembolso | cancelei | valor | devolvi | nf\",26],[46,\"pneu | pneus | coleta | pastilhas | moto\",25],[47,\"cashback | 02 | extrato | valor | receber\",24],[48,\"bicicleta | capacete | bicicletas | bike | comprei\",23],[49,\"music | m\\u00fasicas | ouvir | amazon | m\\u00fasica\",22],[50,\"televis\\u00e3o | televisor | polegadas | copa | defeito\",22],[51,\"iphone | entrega | celular | prazo | inter\",22],[52,\"tarefas | tarefa | comiss\\u00e3o | dinheiro | ganhar\",22],[53,\"roupa | atrasada | chegou | comprei | ocasi\\u00e3o\",21],[54,\"iphone | macbook | caixa | ipad | meli\",21],[55,\"shein | coral | chic | feminino | vestu\\u00e1rio\",20],[56,\"cadeira | gamer | mesa | tampo | cadeiras\",19],[57,\"perfume | beleza | devolu\\u00e7\\u00e3o | falsificado | cheiro\",19],[58,\"arma | bateria | produto | full | entregue\",19],[59,\"filtro | frete | cupons | compras | gr\\u00e1tis\",19],[60,\"assinatura | n\\u00edvel | star | disney | cancelada\",18],[61,\"mercadoria | esqueci | recebi | colocar | shein\",17],[62,\"cal\\u00e7a | reembolso | setembro | sapatilha | comprei\",17],[63,\"notebook | dell | acer | irm\\u00e3 | mem\\u00f3ria\",17],[64,\"endere\\u00e7o | devolta | reembolso | entregue | arno\",16],[65,\"kabum | placa | azul | 10 | computadores\",16],[66,\"disjuntores | estorno | churrasqueira | devolvir | cobrou\",15],[67,\"black | friday | promo\\u00e7\\u00e3o | cashback | cancelaram\",15],[68,\"sequoia | transportadora | tungst\\u00eanio | alvim | amazon\",15],[69,\"americana | pagamento | lojas | aplicativo | efetuei\",14],[70,\"cart\\u00e3o | clonado | compras | microsd | nintendo\",13],[71,\"l\\u00e2mpadas | l\\u00e2mpada | an\\u00fancio | positivo | lampadas\",13],[72,\"cupom | ifood | s\\u00e9rie | prime | an\\u00e9is\",12],[73,\"pedido | rembolso | entregue | despachado | incluia\",11],[74,\"fire | controle | funcionar | stick | parou\",11],[75,\"sand\\u00e1lias | esponja | tiras | novembro | figurinhas\",11],[76,\"entregue | pedido | marcado | consta | indo\",11],[77,\"microondas | dinheiro | ondas | micro | coleta\",11],[78,\"fryer | fog\\u00e3o | mondial | fryier | americana\",10],[79,\"music | assinatura | amazon | prime | unlimited\",10]],\"hovertemplate\":\"<b>Topic %{customdata[0]}</b><br>Words: %{customdata[1]}<br>Size: %{customdata[2]}\",\"legendgroup\":\"\",\"marker\":{\"color\":\"#B0BEC5\",\"size\":[600,535,460,410,352,349,328,242,210,208,177,129,126,123,118,105,94,87,73,71,71,70,67,64,63,63,59,58,50,50,49,44,40,40,39,36,36,35,35,31,30,29,28,27,26,26,25,24,23,22,22,22,22,21,21,20,19,19,19,19,18,17,17,17,16,16,15,15,15,14,13,13,12,11,11,11,11,11,10,10],\"sizemode\":\"area\",\"sizeref\":0.375,\"symbol\":\"circle\",\"line\":{\"color\":\"DarkSlateGrey\",\"width\":2}},\"mode\":\"markers\",\"name\":\"\",\"orientation\":\"v\",\"showlegend\":false,\"x\":[15.309534072875977,14.427472114562988,13.195928573608398,12.989034652709961,14.467544555664062,15.309632301330566,14.269973754882812,15.126246452331543,14.30395793914795,14.213626861572266,14.295722007751465,12.000185012817383,-5.317600727081299,6.925204277038574,12.075697898864746,13.431879043579102,12.788865089416504,12.892475128173828,14.162650108337402,14.077519416809082,14.422431945800781,13.050192832946777,13.210502624511719,13.387757301330566,7.054088592529297,-1.5484434366226196,-5.149827003479004,12.308365821838379,12.88405990600586,-6.320163726806641,14.704490661621094,5.9801411628723145,-5.998923301696777,5.907867908477783,13.956273078918457,14.731524467468262,14.180975914001465,4.325786590576172,-6.171080112457275,6.736817359924316,4.110361099243164,-4.617815971374512,10.471272468566895,10.768653869628906,14.256696701049805,6.4237751960754395,10.790078163146973,6.762376308441162,-4.846733093261719,14.717700958251953,10.553598403930664,13.0770902633667,5.87799596786499,4.0152130126953125,14.330304145812988,-1.5464211702346802,10.651037216186523,7.046003818511963,-4.770634174346924,6.0107269287109375,14.61866569519043,-5.869346618652344,-1.409940242767334,14.6376953125,-6.486674785614014,-4.579143524169922,-1.2392265796661377,14.401470184326172,-4.739776134490967,6.977749347686768,7.099246501922607,-6.4776105880737305,5.889152526855469,4.439260005950928,14.699873924255371,14.439815521240234,-6.225973129272461,13.024514198303223,13.059549331665039,14.493154525756836],\"xaxis\":\"x\",\"y\":[-9.26777172088623,5.17288064956665,4.589071750640869,4.513270378112793,5.208220958709717,-9.128202438354492,3.8957343101501465,-9.039170265197754,3.933135986328125,5.021462917327881,5.058937072753906,4.48184871673584,-3.0356671810150146,14.216104507446289,4.491888523101807,4.714055061340332,5.4598259925842285,4.686038970947266,7.021146297454834,6.762558937072754,4.041746616363525,4.84006929397583,4.683394432067871,4.543888568878174,14.447461128234863,7.939895153045654,-2.868230104446411,4.547958850860596,5.22324275970459,11.84614086151123,-9.014839172363281,14.629233360290527,11.89522647857666,14.681985855102539,6.62044095993042,8.580811500549316,3.8319103717803955,0.784376323223114,11.778899192810059,14.26047134399414,0.9999855756759644,-2.3372931480407715,11.675545692443848,11.996641159057617,6.956913948059082,14.197354316711426,12.022102355957031,14.036725044250488,-2.566422462463379,-9.206387519836426,11.759231567382812,4.04243278503418,15.103409767150879,1.0956025123596191,7.762811183929443,7.941919803619385,11.856579780578613,14.010056495666504,-2.491025924682617,14.515488624572754,-8.95146369934082,12.014270782470703,8.078457832336426,8.297191619873047,11.39047908782959,-2.3039724826812744,8.249377250671387,7.679986476898193,-2.459596633911133,13.985328674316406,13.93790054321289,11.369665145874023,14.95272159576416,0.6712557077407837,8.67124080657959,7.671558856964111,11.75068473815918,3.8927900791168213,3.9613542556762695,-8.830009460449219],\"yaxis\":\"y\",\"type\":\"scatter\"}],                        {\"template\":{\"data\":{\"barpolar\":[{\"marker\":{\"line\":{\"color\":\"white\",\"width\":0.5},\"pattern\":{\"fillmode\":\"overlay\",\"size\":10,\"solidity\":0.2}},\"type\":\"barpolar\"}],\"bar\":[{\"error_x\":{\"color\":\"rgb(36,36,36)\"},\"error_y\":{\"color\":\"rgb(36,36,36)\"},\"marker\":{\"line\":{\"color\":\"white\",\"width\":0.5},\"pattern\":{\"fillmode\":\"overlay\",\"size\":10,\"solidity\":0.2}},\"type\":\"bar\"}],\"carpet\":[{\"aaxis\":{\"endlinecolor\":\"rgb(36,36,36)\",\"gridcolor\":\"white\",\"linecolor\":\"white\",\"minorgridcolor\":\"white\",\"startlinecolor\":\"rgb(36,36,36)\"},\"baxis\":{\"endlinecolor\":\"rgb(36,36,36)\",\"gridcolor\":\"white\",\"linecolor\":\"white\",\"minorgridcolor\":\"white\",\"startlinecolor\":\"rgb(36,36,36)\"},\"type\":\"carpet\"}],\"choropleth\":[{\"colorbar\":{\"outlinewidth\":1,\"tickcolor\":\"rgb(36,36,36)\",\"ticks\":\"outside\"},\"type\":\"choropleth\"}],\"contourcarpet\":[{\"colorbar\":{\"outlinewidth\":1,\"tickcolor\":\"rgb(36,36,36)\",\"ticks\":\"outside\"},\"type\":\"contourcarpet\"}],\"contour\":[{\"colorbar\":{\"outlinewidth\":1,\"tickcolor\":\"rgb(36,36,36)\",\"ticks\":\"outside\"},\"colorscale\":[[0.0,\"#440154\"],[0.1111111111111111,\"#482878\"],[0.2222222222222222,\"#3e4989\"],[0.3333333333333333,\"#31688e\"],[0.4444444444444444,\"#26828e\"],[0.5555555555555556,\"#1f9e89\"],[0.6666666666666666,\"#35b779\"],[0.7777777777777778,\"#6ece58\"],[0.8888888888888888,\"#b5de2b\"],[1.0,\"#fde725\"]],\"type\":\"contour\"}],\"heatmapgl\":[{\"colorbar\":{\"outlinewidth\":1,\"tickcolor\":\"rgb(36,36,36)\",\"ticks\":\"outside\"},\"colorscale\":[[0.0,\"#440154\"],[0.1111111111111111,\"#482878\"],[0.2222222222222222,\"#3e4989\"],[0.3333333333333333,\"#31688e\"],[0.4444444444444444,\"#26828e\"],[0.5555555555555556,\"#1f9e89\"],[0.6666666666666666,\"#35b779\"],[0.7777777777777778,\"#6ece58\"],[0.8888888888888888,\"#b5de2b\"],[1.0,\"#fde725\"]],\"type\":\"heatmapgl\"}],\"heatmap\":[{\"colorbar\":{\"outlinewidth\":1,\"tickcolor\":\"rgb(36,36,36)\",\"ticks\":\"outside\"},\"colorscale\":[[0.0,\"#440154\"],[0.1111111111111111,\"#482878\"],[0.2222222222222222,\"#3e4989\"],[0.3333333333333333,\"#31688e\"],[0.4444444444444444,\"#26828e\"],[0.5555555555555556,\"#1f9e89\"],[0.6666666666666666,\"#35b779\"],[0.7777777777777778,\"#6ece58\"],[0.8888888888888888,\"#b5de2b\"],[1.0,\"#fde725\"]],\"type\":\"heatmap\"}],\"histogram2dcontour\":[{\"colorbar\":{\"outlinewidth\":1,\"tickcolor\":\"rgb(36,36,36)\",\"ticks\":\"outside\"},\"colorscale\":[[0.0,\"#440154\"],[0.1111111111111111,\"#482878\"],[0.2222222222222222,\"#3e4989\"],[0.3333333333333333,\"#31688e\"],[0.4444444444444444,\"#26828e\"],[0.5555555555555556,\"#1f9e89\"],[0.6666666666666666,\"#35b779\"],[0.7777777777777778,\"#6ece58\"],[0.8888888888888888,\"#b5de2b\"],[1.0,\"#fde725\"]],\"type\":\"histogram2dcontour\"}],\"histogram2d\":[{\"colorbar\":{\"outlinewidth\":1,\"tickcolor\":\"rgb(36,36,36)\",\"ticks\":\"outside\"},\"colorscale\":[[0.0,\"#440154\"],[0.1111111111111111,\"#482878\"],[0.2222222222222222,\"#3e4989\"],[0.3333333333333333,\"#31688e\"],[0.4444444444444444,\"#26828e\"],[0.5555555555555556,\"#1f9e89\"],[0.6666666666666666,\"#35b779\"],[0.7777777777777778,\"#6ece58\"],[0.8888888888888888,\"#b5de2b\"],[1.0,\"#fde725\"]],\"type\":\"histogram2d\"}],\"histogram\":[{\"marker\":{\"line\":{\"color\":\"white\",\"width\":0.6}},\"type\":\"histogram\"}],\"mesh3d\":[{\"colorbar\":{\"outlinewidth\":1,\"tickcolor\":\"rgb(36,36,36)\",\"ticks\":\"outside\"},\"type\":\"mesh3d\"}],\"parcoords\":[{\"line\":{\"colorbar\":{\"outlinewidth\":1,\"tickcolor\":\"rgb(36,36,36)\",\"ticks\":\"outside\"}},\"type\":\"parcoords\"}],\"pie\":[{\"automargin\":true,\"type\":\"pie\"}],\"scatter3d\":[{\"line\":{\"colorbar\":{\"outlinewidth\":1,\"tickcolor\":\"rgb(36,36,36)\",\"ticks\":\"outside\"}},\"marker\":{\"colorbar\":{\"outlinewidth\":1,\"tickcolor\":\"rgb(36,36,36)\",\"ticks\":\"outside\"}},\"type\":\"scatter3d\"}],\"scattercarpet\":[{\"marker\":{\"colorbar\":{\"outlinewidth\":1,\"tickcolor\":\"rgb(36,36,36)\",\"ticks\":\"outside\"}},\"type\":\"scattercarpet\"}],\"scattergeo\":[{\"marker\":{\"colorbar\":{\"outlinewidth\":1,\"tickcolor\":\"rgb(36,36,36)\",\"ticks\":\"outside\"}},\"type\":\"scattergeo\"}],\"scattergl\":[{\"marker\":{\"colorbar\":{\"outlinewidth\":1,\"tickcolor\":\"rgb(36,36,36)\",\"ticks\":\"outside\"}},\"type\":\"scattergl\"}],\"scattermapbox\":[{\"marker\":{\"colorbar\":{\"outlinewidth\":1,\"tickcolor\":\"rgb(36,36,36)\",\"ticks\":\"outside\"}},\"type\":\"scattermapbox\"}],\"scatterpolargl\":[{\"marker\":{\"colorbar\":{\"outlinewidth\":1,\"tickcolor\":\"rgb(36,36,36)\",\"ticks\":\"outside\"}},\"type\":\"scatterpolargl\"}],\"scatterpolar\":[{\"marker\":{\"colorbar\":{\"outlinewidth\":1,\"tickcolor\":\"rgb(36,36,36)\",\"ticks\":\"outside\"}},\"type\":\"scatterpolar\"}],\"scatter\":[{\"marker\":{\"colorbar\":{\"outlinewidth\":1,\"tickcolor\":\"rgb(36,36,36)\",\"ticks\":\"outside\"}},\"type\":\"scatter\"}],\"scatterternary\":[{\"marker\":{\"colorbar\":{\"outlinewidth\":1,\"tickcolor\":\"rgb(36,36,36)\",\"ticks\":\"outside\"}},\"type\":\"scatterternary\"}],\"surface\":[{\"colorbar\":{\"outlinewidth\":1,\"tickcolor\":\"rgb(36,36,36)\",\"ticks\":\"outside\"},\"colorscale\":[[0.0,\"#440154\"],[0.1111111111111111,\"#482878\"],[0.2222222222222222,\"#3e4989\"],[0.3333333333333333,\"#31688e\"],[0.4444444444444444,\"#26828e\"],[0.5555555555555556,\"#1f9e89\"],[0.6666666666666666,\"#35b779\"],[0.7777777777777778,\"#6ece58\"],[0.8888888888888888,\"#b5de2b\"],[1.0,\"#fde725\"]],\"type\":\"surface\"}],\"table\":[{\"cells\":{\"fill\":{\"color\":\"rgb(237,237,237)\"},\"line\":{\"color\":\"white\"}},\"header\":{\"fill\":{\"color\":\"rgb(217,217,217)\"},\"line\":{\"color\":\"white\"}},\"type\":\"table\"}]},\"layout\":{\"annotationdefaults\":{\"arrowhead\":0,\"arrowwidth\":1},\"autotypenumbers\":\"strict\",\"coloraxis\":{\"colorbar\":{\"outlinewidth\":1,\"tickcolor\":\"rgb(36,36,36)\",\"ticks\":\"outside\"}},\"colorscale\":{\"diverging\":[[0.0,\"rgb(103,0,31)\"],[0.1,\"rgb(178,24,43)\"],[0.2,\"rgb(214,96,77)\"],[0.3,\"rgb(244,165,130)\"],[0.4,\"rgb(253,219,199)\"],[0.5,\"rgb(247,247,247)\"],[0.6,\"rgb(209,229,240)\"],[0.7,\"rgb(146,197,222)\"],[0.8,\"rgb(67,147,195)\"],[0.9,\"rgb(33,102,172)\"],[1.0,\"rgb(5,48,97)\"]],\"sequential\":[[0.0,\"#440154\"],[0.1111111111111111,\"#482878\"],[0.2222222222222222,\"#3e4989\"],[0.3333333333333333,\"#31688e\"],[0.4444444444444444,\"#26828e\"],[0.5555555555555556,\"#1f9e89\"],[0.6666666666666666,\"#35b779\"],[0.7777777777777778,\"#6ece58\"],[0.8888888888888888,\"#b5de2b\"],[1.0,\"#fde725\"]],\"sequentialminus\":[[0.0,\"#440154\"],[0.1111111111111111,\"#482878\"],[0.2222222222222222,\"#3e4989\"],[0.3333333333333333,\"#31688e\"],[0.4444444444444444,\"#26828e\"],[0.5555555555555556,\"#1f9e89\"],[0.6666666666666666,\"#35b779\"],[0.7777777777777778,\"#6ece58\"],[0.8888888888888888,\"#b5de2b\"],[1.0,\"#fde725\"]]},\"colorway\":[\"#1F77B4\",\"#FF7F0E\",\"#2CA02C\",\"#D62728\",\"#9467BD\",\"#8C564B\",\"#E377C2\",\"#7F7F7F\",\"#BCBD22\",\"#17BECF\"],\"font\":{\"color\":\"rgb(36,36,36)\"},\"geo\":{\"bgcolor\":\"white\",\"lakecolor\":\"white\",\"landcolor\":\"white\",\"showlakes\":true,\"showland\":true,\"subunitcolor\":\"white\"},\"hoverlabel\":{\"align\":\"left\"},\"hovermode\":\"closest\",\"mapbox\":{\"style\":\"light\"},\"paper_bgcolor\":\"white\",\"plot_bgcolor\":\"white\",\"polar\":{\"angularaxis\":{\"gridcolor\":\"rgb(232,232,232)\",\"linecolor\":\"rgb(36,36,36)\",\"showgrid\":false,\"showline\":true,\"ticks\":\"outside\"},\"bgcolor\":\"white\",\"radialaxis\":{\"gridcolor\":\"rgb(232,232,232)\",\"linecolor\":\"rgb(36,36,36)\",\"showgrid\":false,\"showline\":true,\"ticks\":\"outside\"}},\"scene\":{\"xaxis\":{\"backgroundcolor\":\"white\",\"gridcolor\":\"rgb(232,232,232)\",\"gridwidth\":2,\"linecolor\":\"rgb(36,36,36)\",\"showbackground\":true,\"showgrid\":false,\"showline\":true,\"ticks\":\"outside\",\"zeroline\":false,\"zerolinecolor\":\"rgb(36,36,36)\"},\"yaxis\":{\"backgroundcolor\":\"white\",\"gridcolor\":\"rgb(232,232,232)\",\"gridwidth\":2,\"linecolor\":\"rgb(36,36,36)\",\"showbackground\":true,\"showgrid\":false,\"showline\":true,\"ticks\":\"outside\",\"zeroline\":false,\"zerolinecolor\":\"rgb(36,36,36)\"},\"zaxis\":{\"backgroundcolor\":\"white\",\"gridcolor\":\"rgb(232,232,232)\",\"gridwidth\":2,\"linecolor\":\"rgb(36,36,36)\",\"showbackground\":true,\"showgrid\":false,\"showline\":true,\"ticks\":\"outside\",\"zeroline\":false,\"zerolinecolor\":\"rgb(36,36,36)\"}},\"shapedefaults\":{\"fillcolor\":\"black\",\"line\":{\"width\":0},\"opacity\":0.3},\"ternary\":{\"aaxis\":{\"gridcolor\":\"rgb(232,232,232)\",\"linecolor\":\"rgb(36,36,36)\",\"showgrid\":false,\"showline\":true,\"ticks\":\"outside\"},\"baxis\":{\"gridcolor\":\"rgb(232,232,232)\",\"linecolor\":\"rgb(36,36,36)\",\"showgrid\":false,\"showline\":true,\"ticks\":\"outside\"},\"bgcolor\":\"white\",\"caxis\":{\"gridcolor\":\"rgb(232,232,232)\",\"linecolor\":\"rgb(36,36,36)\",\"showgrid\":false,\"showline\":true,\"ticks\":\"outside\"}},\"title\":{\"x\":0.05},\"xaxis\":{\"automargin\":true,\"gridcolor\":\"rgb(232,232,232)\",\"linecolor\":\"rgb(36,36,36)\",\"showgrid\":false,\"showline\":true,\"ticks\":\"outside\",\"title\":{\"standoff\":15},\"zeroline\":false,\"zerolinecolor\":\"rgb(36,36,36)\"},\"yaxis\":{\"automargin\":true,\"gridcolor\":\"rgb(232,232,232)\",\"linecolor\":\"rgb(36,36,36)\",\"showgrid\":false,\"showline\":true,\"ticks\":\"outside\",\"title\":{\"standoff\":15},\"zeroline\":false,\"zerolinecolor\":\"rgb(36,36,36)\"}}},\"xaxis\":{\"anchor\":\"y\",\"domain\":[0.0,1.0],\"title\":{\"text\":\"\"},\"visible\":false,\"range\":[-7.459676003456115,17.60607714653015]},\"yaxis\":{\"anchor\":\"x\",\"domain\":[0.0,1.0],\"title\":{\"text\":\"\"},\"visible\":false,\"range\":[-10.657937479019164,17.36892123222351]},\"legend\":{\"tracegroupgap\":0,\"itemsizing\":\"constant\"},\"margin\":{\"t\":60},\"title\":{\"font\":{\"size\":22,\"color\":\"Black\"},\"text\":\"<b>Intertopic Distance Map\",\"y\":0.95,\"x\":0.5,\"xanchor\":\"center\",\"yanchor\":\"top\"},\"hoverlabel\":{\"font\":{\"size\":16,\"family\":\"Rockwell\"},\"bgcolor\":\"white\"},\"width\":650,\"height\":650,\"sliders\":[{\"active\":0,\"pad\":{\"t\":50},\"steps\":[{\"args\":[{\"marker.color\":[[\"red\",\"#B0BEC5\",\"#B0BEC5\",\"#B0BEC5\",\"#B0BEC5\",\"#B0BEC5\",\"#B0BEC5\",\"#B0BEC5\",\"#B0BEC5\",\"#B0BEC5\",\"#B0BEC5\",\"#B0BEC5\",\"#B0BEC5\",\"#B0BEC5\",\"#B0BEC5\",\"#B0BEC5\",\"#B0BEC5\",\"#B0BEC5\",\"#B0BEC5\",\"#B0BEC5\",\"#B0BEC5\",\"#B0BEC5\",\"#B0BEC5\",\"#B0BEC5\",\"#B0BEC5\",\"#B0BEC5\",\"#B0BEC5\",\"#B0BEC5\",\"#B0BEC5\",\"#B0BEC5\",\"#B0BEC5\",\"#B0BEC5\",\"#B0BEC5\",\"#B0BEC5\",\"#B0BEC5\",\"#B0BEC5\",\"#B0BEC5\",\"#B0BEC5\",\"#B0BEC5\",\"#B0BEC5\",\"#B0BEC5\",\"#B0BEC5\",\"#B0BEC5\",\"#B0BEC5\",\"#B0BEC5\",\"#B0BEC5\",\"#B0BEC5\",\"#B0BEC5\",\"#B0BEC5\",\"#B0BEC5\",\"#B0BEC5\",\"#B0BEC5\",\"#B0BEC5\",\"#B0BEC5\",\"#B0BEC5\",\"#B0BEC5\",\"#B0BEC5\",\"#B0BEC5\",\"#B0BEC5\",\"#B0BEC5\",\"#B0BEC5\",\"#B0BEC5\",\"#B0BEC5\",\"#B0BEC5\",\"#B0BEC5\",\"#B0BEC5\",\"#B0BEC5\",\"#B0BEC5\",\"#B0BEC5\",\"#B0BEC5\",\"#B0BEC5\",\"#B0BEC5\",\"#B0BEC5\",\"#B0BEC5\",\"#B0BEC5\",\"#B0BEC5\",\"#B0BEC5\",\"#B0BEC5\",\"#B0BEC5\",\"#B0BEC5\"]]}],\"label\":\"Topic 0\",\"method\":\"update\"},{\"args\":[{\"marker.color\":[[\"#B0BEC5\",\"red\",\"#B0BEC5\",\"#B0BEC5\",\"#B0BEC5\",\"#B0BEC5\",\"#B0BEC5\",\"#B0BEC5\",\"#B0BEC5\",\"#B0BEC5\",\"#B0BEC5\",\"#B0BEC5\",\"#B0BEC5\",\"#B0BEC5\",\"#B0BEC5\",\"#B0BEC5\",\"#B0BEC5\",\"#B0BEC5\",\"#B0BEC5\",\"#B0BEC5\",\"#B0BEC5\",\"#B0BEC5\",\"#B0BEC5\",\"#B0BEC5\",\"#B0BEC5\",\"#B0BEC5\",\"#B0BEC5\",\"#B0BEC5\",\"#B0BEC5\",\"#B0BEC5\",\"#B0BEC5\",\"#B0BEC5\",\"#B0BEC5\",\"#B0BEC5\",\"#B0BEC5\",\"#B0BEC5\",\"#B0BEC5\",\"#B0BEC5\",\"#B0BEC5\",\"#B0BEC5\",\"#B0BEC5\",\"#B0BEC5\",\"#B0BEC5\",\"#B0BEC5\",\"#B0BEC5\",\"#B0BEC5\",\"#B0BEC5\",\"#B0BEC5\",\"#B0BEC5\",\"#B0BEC5\",\"#B0BEC5\",\"#B0BEC5\",\"#B0BEC5\",\"#B0BEC5\",\"#B0BEC5\",\"#B0BEC5\",\"#B0BEC5\",\"#B0BEC5\",\"#B0BEC5\",\"#B0BEC5\",\"#B0BEC5\",\"#B0BEC5\",\"#B0BEC5\",\"#B0BEC5\",\"#B0BEC5\",\"#B0BEC5\",\"#B0BEC5\",\"#B0BEC5\",\"#B0BEC5\",\"#B0BEC5\",\"#B0BEC5\",\"#B0BEC5\",\"#B0BEC5\",\"#B0BEC5\",\"#B0BEC5\",\"#B0BEC5\",\"#B0BEC5\",\"#B0BEC5\",\"#B0BEC5\",\"#B0BEC5\"]]}],\"label\":\"Topic 1\",\"method\":\"update\"},{\"args\":[{\"marker.color\":[[\"#B0BEC5\",\"#B0BEC5\",\"red\",\"#B0BEC5\",\"#B0BEC5\",\"#B0BEC5\",\"#B0BEC5\",\"#B0BEC5\",\"#B0BEC5\",\"#B0BEC5\",\"#B0BEC5\",\"#B0BEC5\",\"#B0BEC5\",\"#B0BEC5\",\"#B0BEC5\",\"#B0BEC5\",\"#B0BEC5\",\"#B0BEC5\",\"#B0BEC5\",\"#B0BEC5\",\"#B0BEC5\",\"#B0BEC5\",\"#B0BEC5\",\"#B0BEC5\",\"#B0BEC5\",\"#B0BEC5\",\"#B0BEC5\",\"#B0BEC5\",\"#B0BEC5\",\"#B0BEC5\",\"#B0BEC5\",\"#B0BEC5\",\"#B0BEC5\",\"#B0BEC5\",\"#B0BEC5\",\"#B0BEC5\",\"#B0BEC5\",\"#B0BEC5\",\"#B0BEC5\",\"#B0BEC5\",\"#B0BEC5\",\"#B0BEC5\",\"#B0BEC5\",\"#B0BEC5\",\"#B0BEC5\",\"#B0BEC5\",\"#B0BEC5\",\"#B0BEC5\",\"#B0BEC5\",\"#B0BEC5\",\"#B0BEC5\",\"#B0BEC5\",\"#B0BEC5\",\"#B0BEC5\",\"#B0BEC5\",\"#B0BEC5\",\"#B0BEC5\",\"#B0BEC5\",\"#B0BEC5\",\"#B0BEC5\",\"#B0BEC5\",\"#B0BEC5\",\"#B0BEC5\",\"#B0BEC5\",\"#B0BEC5\",\"#B0BEC5\",\"#B0BEC5\",\"#B0BEC5\",\"#B0BEC5\",\"#B0BEC5\",\"#B0BEC5\",\"#B0BEC5\",\"#B0BEC5\",\"#B0BEC5\",\"#B0BEC5\",\"#B0BEC5\",\"#B0BEC5\",\"#B0BEC5\",\"#B0BEC5\",\"#B0BEC5\"]]}],\"label\":\"Topic 2\",\"method\":\"update\"},{\"args\":[{\"marker.color\":[[\"#B0BEC5\",\"#B0BEC5\",\"#B0BEC5\",\"red\",\"#B0BEC5\",\"#B0BEC5\",\"#B0BEC5\",\"#B0BEC5\",\"#B0BEC5\",\"#B0BEC5\",\"#B0BEC5\",\"#B0BEC5\",\"#B0BEC5\",\"#B0BEC5\",\"#B0BEC5\",\"#B0BEC5\",\"#B0BEC5\",\"#B0BEC5\",\"#B0BEC5\",\"#B0BEC5\",\"#B0BEC5\",\"#B0BEC5\",\"#B0BEC5\",\"#B0BEC5\",\"#B0BEC5\",\"#B0BEC5\",\"#B0BEC5\",\"#B0BEC5\",\"#B0BEC5\",\"#B0BEC5\",\"#B0BEC5\",\"#B0BEC5\",\"#B0BEC5\",\"#B0BEC5\",\"#B0BEC5\",\"#B0BEC5\",\"#B0BEC5\",\"#B0BEC5\",\"#B0BEC5\",\"#B0BEC5\",\"#B0BEC5\",\"#B0BEC5\",\"#B0BEC5\",\"#B0BEC5\",\"#B0BEC5\",\"#B0BEC5\",\"#B0BEC5\",\"#B0BEC5\",\"#B0BEC5\",\"#B0BEC5\",\"#B0BEC5\",\"#B0BEC5\",\"#B0BEC5\",\"#B0BEC5\",\"#B0BEC5\",\"#B0BEC5\",\"#B0BEC5\",\"#B0BEC5\",\"#B0BEC5\",\"#B0BEC5\",\"#B0BEC5\",\"#B0BEC5\",\"#B0BEC5\",\"#B0BEC5\",\"#B0BEC5\",\"#B0BEC5\",\"#B0BEC5\",\"#B0BEC5\",\"#B0BEC5\",\"#B0BEC5\",\"#B0BEC5\",\"#B0BEC5\",\"#B0BEC5\",\"#B0BEC5\",\"#B0BEC5\",\"#B0BEC5\",\"#B0BEC5\",\"#B0BEC5\",\"#B0BEC5\",\"#B0BEC5\"]]}],\"label\":\"Topic 3\",\"method\":\"update\"},{\"args\":[{\"marker.color\":[[\"#B0BEC5\",\"#B0BEC5\",\"#B0BEC5\",\"#B0BEC5\",\"red\",\"#B0BEC5\",\"#B0BEC5\",\"#B0BEC5\",\"#B0BEC5\",\"#B0BEC5\",\"#B0BEC5\",\"#B0BEC5\",\"#B0BEC5\",\"#B0BEC5\",\"#B0BEC5\",\"#B0BEC5\",\"#B0BEC5\",\"#B0BEC5\",\"#B0BEC5\",\"#B0BEC5\",\"#B0BEC5\",\"#B0BEC5\",\"#B0BEC5\",\"#B0BEC5\",\"#B0BEC5\",\"#B0BEC5\",\"#B0BEC5\",\"#B0BEC5\",\"#B0BEC5\",\"#B0BEC5\",\"#B0BEC5\",\"#B0BEC5\",\"#B0BEC5\",\"#B0BEC5\",\"#B0BEC5\",\"#B0BEC5\",\"#B0BEC5\",\"#B0BEC5\",\"#B0BEC5\",\"#B0BEC5\",\"#B0BEC5\",\"#B0BEC5\",\"#B0BEC5\",\"#B0BEC5\",\"#B0BEC5\",\"#B0BEC5\",\"#B0BEC5\",\"#B0BEC5\",\"#B0BEC5\",\"#B0BEC5\",\"#B0BEC5\",\"#B0BEC5\",\"#B0BEC5\",\"#B0BEC5\",\"#B0BEC5\",\"#B0BEC5\",\"#B0BEC5\",\"#B0BEC5\",\"#B0BEC5\",\"#B0BEC5\",\"#B0BEC5\",\"#B0BEC5\",\"#B0BEC5\",\"#B0BEC5\",\"#B0BEC5\",\"#B0BEC5\",\"#B0BEC5\",\"#B0BEC5\",\"#B0BEC5\",\"#B0BEC5\",\"#B0BEC5\",\"#B0BEC5\",\"#B0BEC5\",\"#B0BEC5\",\"#B0BEC5\",\"#B0BEC5\",\"#B0BEC5\",\"#B0BEC5\",\"#B0BEC5\",\"#B0BEC5\"]]}],\"label\":\"Topic 4\",\"method\":\"update\"},{\"args\":[{\"marker.color\":[[\"#B0BEC5\",\"#B0BEC5\",\"#B0BEC5\",\"#B0BEC5\",\"#B0BEC5\",\"red\",\"#B0BEC5\",\"#B0BEC5\",\"#B0BEC5\",\"#B0BEC5\",\"#B0BEC5\",\"#B0BEC5\",\"#B0BEC5\",\"#B0BEC5\",\"#B0BEC5\",\"#B0BEC5\",\"#B0BEC5\",\"#B0BEC5\",\"#B0BEC5\",\"#B0BEC5\",\"#B0BEC5\",\"#B0BEC5\",\"#B0BEC5\",\"#B0BEC5\",\"#B0BEC5\",\"#B0BEC5\",\"#B0BEC5\",\"#B0BEC5\",\"#B0BEC5\",\"#B0BEC5\",\"#B0BEC5\",\"#B0BEC5\",\"#B0BEC5\",\"#B0BEC5\",\"#B0BEC5\",\"#B0BEC5\",\"#B0BEC5\",\"#B0BEC5\",\"#B0BEC5\",\"#B0BEC5\",\"#B0BEC5\",\"#B0BEC5\",\"#B0BEC5\",\"#B0BEC5\",\"#B0BEC5\",\"#B0BEC5\",\"#B0BEC5\",\"#B0BEC5\",\"#B0BEC5\",\"#B0BEC5\",\"#B0BEC5\",\"#B0BEC5\",\"#B0BEC5\",\"#B0BEC5\",\"#B0BEC5\",\"#B0BEC5\",\"#B0BEC5\",\"#B0BEC5\",\"#B0BEC5\",\"#B0BEC5\",\"#B0BEC5\",\"#B0BEC5\",\"#B0BEC5\",\"#B0BEC5\",\"#B0BEC5\",\"#B0BEC5\",\"#B0BEC5\",\"#B0BEC5\",\"#B0BEC5\",\"#B0BEC5\",\"#B0BEC5\",\"#B0BEC5\",\"#B0BEC5\",\"#B0BEC5\",\"#B0BEC5\",\"#B0BEC5\",\"#B0BEC5\",\"#B0BEC5\",\"#B0BEC5\",\"#B0BEC5\"]]}],\"label\":\"Topic 5\",\"method\":\"update\"},{\"args\":[{\"marker.color\":[[\"#B0BEC5\",\"#B0BEC5\",\"#B0BEC5\",\"#B0BEC5\",\"#B0BEC5\",\"#B0BEC5\",\"red\",\"#B0BEC5\",\"#B0BEC5\",\"#B0BEC5\",\"#B0BEC5\",\"#B0BEC5\",\"#B0BEC5\",\"#B0BEC5\",\"#B0BEC5\",\"#B0BEC5\",\"#B0BEC5\",\"#B0BEC5\",\"#B0BEC5\",\"#B0BEC5\",\"#B0BEC5\",\"#B0BEC5\",\"#B0BEC5\",\"#B0BEC5\",\"#B0BEC5\",\"#B0BEC5\",\"#B0BEC5\",\"#B0BEC5\",\"#B0BEC5\",\"#B0BEC5\",\"#B0BEC5\",\"#B0BEC5\",\"#B0BEC5\",\"#B0BEC5\",\"#B0BEC5\",\"#B0BEC5\",\"#B0BEC5\",\"#B0BEC5\",\"#B0BEC5\",\"#B0BEC5\",\"#B0BEC5\",\"#B0BEC5\",\"#B0BEC5\",\"#B0BEC5\",\"#B0BEC5\",\"#B0BEC5\",\"#B0BEC5\",\"#B0BEC5\",\"#B0BEC5\",\"#B0BEC5\",\"#B0BEC5\",\"#B0BEC5\",\"#B0BEC5\",\"#B0BEC5\",\"#B0BEC5\",\"#B0BEC5\",\"#B0BEC5\",\"#B0BEC5\",\"#B0BEC5\",\"#B0BEC5\",\"#B0BEC5\",\"#B0BEC5\",\"#B0BEC5\",\"#B0BEC5\",\"#B0BEC5\",\"#B0BEC5\",\"#B0BEC5\",\"#B0BEC5\",\"#B0BEC5\",\"#B0BEC5\",\"#B0BEC5\",\"#B0BEC5\",\"#B0BEC5\",\"#B0BEC5\",\"#B0BEC5\",\"#B0BEC5\",\"#B0BEC5\",\"#B0BEC5\",\"#B0BEC5\",\"#B0BEC5\"]]}],\"label\":\"Topic 6\",\"method\":\"update\"},{\"args\":[{\"marker.color\":[[\"#B0BEC5\",\"#B0BEC5\",\"#B0BEC5\",\"#B0BEC5\",\"#B0BEC5\",\"#B0BEC5\",\"#B0BEC5\",\"red\",\"#B0BEC5\",\"#B0BEC5\",\"#B0BEC5\",\"#B0BEC5\",\"#B0BEC5\",\"#B0BEC5\",\"#B0BEC5\",\"#B0BEC5\",\"#B0BEC5\",\"#B0BEC5\",\"#B0BEC5\",\"#B0BEC5\",\"#B0BEC5\",\"#B0BEC5\",\"#B0BEC5\",\"#B0BEC5\",\"#B0BEC5\",\"#B0BEC5\",\"#B0BEC5\",\"#B0BEC5\",\"#B0BEC5\",\"#B0BEC5\",\"#B0BEC5\",\"#B0BEC5\",\"#B0BEC5\",\"#B0BEC5\",\"#B0BEC5\",\"#B0BEC5\",\"#B0BEC5\",\"#B0BEC5\",\"#B0BEC5\",\"#B0BEC5\",\"#B0BEC5\",\"#B0BEC5\",\"#B0BEC5\",\"#B0BEC5\",\"#B0BEC5\",\"#B0BEC5\",\"#B0BEC5\",\"#B0BEC5\",\"#B0BEC5\",\"#B0BEC5\",\"#B0BEC5\",\"#B0BEC5\",\"#B0BEC5\",\"#B0BEC5\",\"#B0BEC5\",\"#B0BEC5\",\"#B0BEC5\",\"#B0BEC5\",\"#B0BEC5\",\"#B0BEC5\",\"#B0BEC5\",\"#B0BEC5\",\"#B0BEC5\",\"#B0BEC5\",\"#B0BEC5\",\"#B0BEC5\",\"#B0BEC5\",\"#B0BEC5\",\"#B0BEC5\",\"#B0BEC5\",\"#B0BEC5\",\"#B0BEC5\",\"#B0BEC5\",\"#B0BEC5\",\"#B0BEC5\",\"#B0BEC5\",\"#B0BEC5\",\"#B0BEC5\",\"#B0BEC5\",\"#B0BEC5\"]]}],\"label\":\"Topic 7\",\"method\":\"update\"},{\"args\":[{\"marker.color\":[[\"#B0BEC5\",\"#B0BEC5\",\"#B0BEC5\",\"#B0BEC5\",\"#B0BEC5\",\"#B0BEC5\",\"#B0BEC5\",\"#B0BEC5\",\"red\",\"#B0BEC5\",\"#B0BEC5\",\"#B0BEC5\",\"#B0BEC5\",\"#B0BEC5\",\"#B0BEC5\",\"#B0BEC5\",\"#B0BEC5\",\"#B0BEC5\",\"#B0BEC5\",\"#B0BEC5\",\"#B0BEC5\",\"#B0BEC5\",\"#B0BEC5\",\"#B0BEC5\",\"#B0BEC5\",\"#B0BEC5\",\"#B0BEC5\",\"#B0BEC5\",\"#B0BEC5\",\"#B0BEC5\",\"#B0BEC5\",\"#B0BEC5\",\"#B0BEC5\",\"#B0BEC5\",\"#B0BEC5\",\"#B0BEC5\",\"#B0BEC5\",\"#B0BEC5\",\"#B0BEC5\",\"#B0BEC5\",\"#B0BEC5\",\"#B0BEC5\",\"#B0BEC5\",\"#B0BEC5\",\"#B0BEC5\",\"#B0BEC5\",\"#B0BEC5\",\"#B0BEC5\",\"#B0BEC5\",\"#B0BEC5\",\"#B0BEC5\",\"#B0BEC5\",\"#B0BEC5\",\"#B0BEC5\",\"#B0BEC5\",\"#B0BEC5\",\"#B0BEC5\",\"#B0BEC5\",\"#B0BEC5\",\"#B0BEC5\",\"#B0BEC5\",\"#B0BEC5\",\"#B0BEC5\",\"#B0BEC5\",\"#B0BEC5\",\"#B0BEC5\",\"#B0BEC5\",\"#B0BEC5\",\"#B0BEC5\",\"#B0BEC5\",\"#B0BEC5\",\"#B0BEC5\",\"#B0BEC5\",\"#B0BEC5\",\"#B0BEC5\",\"#B0BEC5\",\"#B0BEC5\",\"#B0BEC5\",\"#B0BEC5\",\"#B0BEC5\"]]}],\"label\":\"Topic 8\",\"method\":\"update\"},{\"args\":[{\"marker.color\":[[\"#B0BEC5\",\"#B0BEC5\",\"#B0BEC5\",\"#B0BEC5\",\"#B0BEC5\",\"#B0BEC5\",\"#B0BEC5\",\"#B0BEC5\",\"#B0BEC5\",\"red\",\"#B0BEC5\",\"#B0BEC5\",\"#B0BEC5\",\"#B0BEC5\",\"#B0BEC5\",\"#B0BEC5\",\"#B0BEC5\",\"#B0BEC5\",\"#B0BEC5\",\"#B0BEC5\",\"#B0BEC5\",\"#B0BEC5\",\"#B0BEC5\",\"#B0BEC5\",\"#B0BEC5\",\"#B0BEC5\",\"#B0BEC5\",\"#B0BEC5\",\"#B0BEC5\",\"#B0BEC5\",\"#B0BEC5\",\"#B0BEC5\",\"#B0BEC5\",\"#B0BEC5\",\"#B0BEC5\",\"#B0BEC5\",\"#B0BEC5\",\"#B0BEC5\",\"#B0BEC5\",\"#B0BEC5\",\"#B0BEC5\",\"#B0BEC5\",\"#B0BEC5\",\"#B0BEC5\",\"#B0BEC5\",\"#B0BEC5\",\"#B0BEC5\",\"#B0BEC5\",\"#B0BEC5\",\"#B0BEC5\",\"#B0BEC5\",\"#B0BEC5\",\"#B0BEC5\",\"#B0BEC5\",\"#B0BEC5\",\"#B0BEC5\",\"#B0BEC5\",\"#B0BEC5\",\"#B0BEC5\",\"#B0BEC5\",\"#B0BEC5\",\"#B0BEC5\",\"#B0BEC5\",\"#B0BEC5\",\"#B0BEC5\",\"#B0BEC5\",\"#B0BEC5\",\"#B0BEC5\",\"#B0BEC5\",\"#B0BEC5\",\"#B0BEC5\",\"#B0BEC5\",\"#B0BEC5\",\"#B0BEC5\",\"#B0BEC5\",\"#B0BEC5\",\"#B0BEC5\",\"#B0BEC5\",\"#B0BEC5\",\"#B0BEC5\"]]}],\"label\":\"Topic 9\",\"method\":\"update\"},{\"args\":[{\"marker.color\":[[\"#B0BEC5\",\"#B0BEC5\",\"#B0BEC5\",\"#B0BEC5\",\"#B0BEC5\",\"#B0BEC5\",\"#B0BEC5\",\"#B0BEC5\",\"#B0BEC5\",\"#B0BEC5\",\"red\",\"#B0BEC5\",\"#B0BEC5\",\"#B0BEC5\",\"#B0BEC5\",\"#B0BEC5\",\"#B0BEC5\",\"#B0BEC5\",\"#B0BEC5\",\"#B0BEC5\",\"#B0BEC5\",\"#B0BEC5\",\"#B0BEC5\",\"#B0BEC5\",\"#B0BEC5\",\"#B0BEC5\",\"#B0BEC5\",\"#B0BEC5\",\"#B0BEC5\",\"#B0BEC5\",\"#B0BEC5\",\"#B0BEC5\",\"#B0BEC5\",\"#B0BEC5\",\"#B0BEC5\",\"#B0BEC5\",\"#B0BEC5\",\"#B0BEC5\",\"#B0BEC5\",\"#B0BEC5\",\"#B0BEC5\",\"#B0BEC5\",\"#B0BEC5\",\"#B0BEC5\",\"#B0BEC5\",\"#B0BEC5\",\"#B0BEC5\",\"#B0BEC5\",\"#B0BEC5\",\"#B0BEC5\",\"#B0BEC5\",\"#B0BEC5\",\"#B0BEC5\",\"#B0BEC5\",\"#B0BEC5\",\"#B0BEC5\",\"#B0BEC5\",\"#B0BEC5\",\"#B0BEC5\",\"#B0BEC5\",\"#B0BEC5\",\"#B0BEC5\",\"#B0BEC5\",\"#B0BEC5\",\"#B0BEC5\",\"#B0BEC5\",\"#B0BEC5\",\"#B0BEC5\",\"#B0BEC5\",\"#B0BEC5\",\"#B0BEC5\",\"#B0BEC5\",\"#B0BEC5\",\"#B0BEC5\",\"#B0BEC5\",\"#B0BEC5\",\"#B0BEC5\",\"#B0BEC5\",\"#B0BEC5\",\"#B0BEC5\"]]}],\"label\":\"Topic 10\",\"method\":\"update\"},{\"args\":[{\"marker.color\":[[\"#B0BEC5\",\"#B0BEC5\",\"#B0BEC5\",\"#B0BEC5\",\"#B0BEC5\",\"#B0BEC5\",\"#B0BEC5\",\"#B0BEC5\",\"#B0BEC5\",\"#B0BEC5\",\"#B0BEC5\",\"red\",\"#B0BEC5\",\"#B0BEC5\",\"#B0BEC5\",\"#B0BEC5\",\"#B0BEC5\",\"#B0BEC5\",\"#B0BEC5\",\"#B0BEC5\",\"#B0BEC5\",\"#B0BEC5\",\"#B0BEC5\",\"#B0BEC5\",\"#B0BEC5\",\"#B0BEC5\",\"#B0BEC5\",\"#B0BEC5\",\"#B0BEC5\",\"#B0BEC5\",\"#B0BEC5\",\"#B0BEC5\",\"#B0BEC5\",\"#B0BEC5\",\"#B0BEC5\",\"#B0BEC5\",\"#B0BEC5\",\"#B0BEC5\",\"#B0BEC5\",\"#B0BEC5\",\"#B0BEC5\",\"#B0BEC5\",\"#B0BEC5\",\"#B0BEC5\",\"#B0BEC5\",\"#B0BEC5\",\"#B0BEC5\",\"#B0BEC5\",\"#B0BEC5\",\"#B0BEC5\",\"#B0BEC5\",\"#B0BEC5\",\"#B0BEC5\",\"#B0BEC5\",\"#B0BEC5\",\"#B0BEC5\",\"#B0BEC5\",\"#B0BEC5\",\"#B0BEC5\",\"#B0BEC5\",\"#B0BEC5\",\"#B0BEC5\",\"#B0BEC5\",\"#B0BEC5\",\"#B0BEC5\",\"#B0BEC5\",\"#B0BEC5\",\"#B0BEC5\",\"#B0BEC5\",\"#B0BEC5\",\"#B0BEC5\",\"#B0BEC5\",\"#B0BEC5\",\"#B0BEC5\",\"#B0BEC5\",\"#B0BEC5\",\"#B0BEC5\",\"#B0BEC5\",\"#B0BEC5\",\"#B0BEC5\"]]}],\"label\":\"Topic 11\",\"method\":\"update\"},{\"args\":[{\"marker.color\":[[\"#B0BEC5\",\"#B0BEC5\",\"#B0BEC5\",\"#B0BEC5\",\"#B0BEC5\",\"#B0BEC5\",\"#B0BEC5\",\"#B0BEC5\",\"#B0BEC5\",\"#B0BEC5\",\"#B0BEC5\",\"#B0BEC5\",\"red\",\"#B0BEC5\",\"#B0BEC5\",\"#B0BEC5\",\"#B0BEC5\",\"#B0BEC5\",\"#B0BEC5\",\"#B0BEC5\",\"#B0BEC5\",\"#B0BEC5\",\"#B0BEC5\",\"#B0BEC5\",\"#B0BEC5\",\"#B0BEC5\",\"#B0BEC5\",\"#B0BEC5\",\"#B0BEC5\",\"#B0BEC5\",\"#B0BEC5\",\"#B0BEC5\",\"#B0BEC5\",\"#B0BEC5\",\"#B0BEC5\",\"#B0BEC5\",\"#B0BEC5\",\"#B0BEC5\",\"#B0BEC5\",\"#B0BEC5\",\"#B0BEC5\",\"#B0BEC5\",\"#B0BEC5\",\"#B0BEC5\",\"#B0BEC5\",\"#B0BEC5\",\"#B0BEC5\",\"#B0BEC5\",\"#B0BEC5\",\"#B0BEC5\",\"#B0BEC5\",\"#B0BEC5\",\"#B0BEC5\",\"#B0BEC5\",\"#B0BEC5\",\"#B0BEC5\",\"#B0BEC5\",\"#B0BEC5\",\"#B0BEC5\",\"#B0BEC5\",\"#B0BEC5\",\"#B0BEC5\",\"#B0BEC5\",\"#B0BEC5\",\"#B0BEC5\",\"#B0BEC5\",\"#B0BEC5\",\"#B0BEC5\",\"#B0BEC5\",\"#B0BEC5\",\"#B0BEC5\",\"#B0BEC5\",\"#B0BEC5\",\"#B0BEC5\",\"#B0BEC5\",\"#B0BEC5\",\"#B0BEC5\",\"#B0BEC5\",\"#B0BEC5\",\"#B0BEC5\"]]}],\"label\":\"Topic 12\",\"method\":\"update\"},{\"args\":[{\"marker.color\":[[\"#B0BEC5\",\"#B0BEC5\",\"#B0BEC5\",\"#B0BEC5\",\"#B0BEC5\",\"#B0BEC5\",\"#B0BEC5\",\"#B0BEC5\",\"#B0BEC5\",\"#B0BEC5\",\"#B0BEC5\",\"#B0BEC5\",\"#B0BEC5\",\"red\",\"#B0BEC5\",\"#B0BEC5\",\"#B0BEC5\",\"#B0BEC5\",\"#B0BEC5\",\"#B0BEC5\",\"#B0BEC5\",\"#B0BEC5\",\"#B0BEC5\",\"#B0BEC5\",\"#B0BEC5\",\"#B0BEC5\",\"#B0BEC5\",\"#B0BEC5\",\"#B0BEC5\",\"#B0BEC5\",\"#B0BEC5\",\"#B0BEC5\",\"#B0BEC5\",\"#B0BEC5\",\"#B0BEC5\",\"#B0BEC5\",\"#B0BEC5\",\"#B0BEC5\",\"#B0BEC5\",\"#B0BEC5\",\"#B0BEC5\",\"#B0BEC5\",\"#B0BEC5\",\"#B0BEC5\",\"#B0BEC5\",\"#B0BEC5\",\"#B0BEC5\",\"#B0BEC5\",\"#B0BEC5\",\"#B0BEC5\",\"#B0BEC5\",\"#B0BEC5\",\"#B0BEC5\",\"#B0BEC5\",\"#B0BEC5\",\"#B0BEC5\",\"#B0BEC5\",\"#B0BEC5\",\"#B0BEC5\",\"#B0BEC5\",\"#B0BEC5\",\"#B0BEC5\",\"#B0BEC5\",\"#B0BEC5\",\"#B0BEC5\",\"#B0BEC5\",\"#B0BEC5\",\"#B0BEC5\",\"#B0BEC5\",\"#B0BEC5\",\"#B0BEC5\",\"#B0BEC5\",\"#B0BEC5\",\"#B0BEC5\",\"#B0BEC5\",\"#B0BEC5\",\"#B0BEC5\",\"#B0BEC5\",\"#B0BEC5\",\"#B0BEC5\"]]}],\"label\":\"Topic 13\",\"method\":\"update\"},{\"args\":[{\"marker.color\":[[\"#B0BEC5\",\"#B0BEC5\",\"#B0BEC5\",\"#B0BEC5\",\"#B0BEC5\",\"#B0BEC5\",\"#B0BEC5\",\"#B0BEC5\",\"#B0BEC5\",\"#B0BEC5\",\"#B0BEC5\",\"#B0BEC5\",\"#B0BEC5\",\"#B0BEC5\",\"red\",\"#B0BEC5\",\"#B0BEC5\",\"#B0BEC5\",\"#B0BEC5\",\"#B0BEC5\",\"#B0BEC5\",\"#B0BEC5\",\"#B0BEC5\",\"#B0BEC5\",\"#B0BEC5\",\"#B0BEC5\",\"#B0BEC5\",\"#B0BEC5\",\"#B0BEC5\",\"#B0BEC5\",\"#B0BEC5\",\"#B0BEC5\",\"#B0BEC5\",\"#B0BEC5\",\"#B0BEC5\",\"#B0BEC5\",\"#B0BEC5\",\"#B0BEC5\",\"#B0BEC5\",\"#B0BEC5\",\"#B0BEC5\",\"#B0BEC5\",\"#B0BEC5\",\"#B0BEC5\",\"#B0BEC5\",\"#B0BEC5\",\"#B0BEC5\",\"#B0BEC5\",\"#B0BEC5\",\"#B0BEC5\",\"#B0BEC5\",\"#B0BEC5\",\"#B0BEC5\",\"#B0BEC5\",\"#B0BEC5\",\"#B0BEC5\",\"#B0BEC5\",\"#B0BEC5\",\"#B0BEC5\",\"#B0BEC5\",\"#B0BEC5\",\"#B0BEC5\",\"#B0BEC5\",\"#B0BEC5\",\"#B0BEC5\",\"#B0BEC5\",\"#B0BEC5\",\"#B0BEC5\",\"#B0BEC5\",\"#B0BEC5\",\"#B0BEC5\",\"#B0BEC5\",\"#B0BEC5\",\"#B0BEC5\",\"#B0BEC5\",\"#B0BEC5\",\"#B0BEC5\",\"#B0BEC5\",\"#B0BEC5\",\"#B0BEC5\"]]}],\"label\":\"Topic 14\",\"method\":\"update\"},{\"args\":[{\"marker.color\":[[\"#B0BEC5\",\"#B0BEC5\",\"#B0BEC5\",\"#B0BEC5\",\"#B0BEC5\",\"#B0BEC5\",\"#B0BEC5\",\"#B0BEC5\",\"#B0BEC5\",\"#B0BEC5\",\"#B0BEC5\",\"#B0BEC5\",\"#B0BEC5\",\"#B0BEC5\",\"#B0BEC5\",\"red\",\"#B0BEC5\",\"#B0BEC5\",\"#B0BEC5\",\"#B0BEC5\",\"#B0BEC5\",\"#B0BEC5\",\"#B0BEC5\",\"#B0BEC5\",\"#B0BEC5\",\"#B0BEC5\",\"#B0BEC5\",\"#B0BEC5\",\"#B0BEC5\",\"#B0BEC5\",\"#B0BEC5\",\"#B0BEC5\",\"#B0BEC5\",\"#B0BEC5\",\"#B0BEC5\",\"#B0BEC5\",\"#B0BEC5\",\"#B0BEC5\",\"#B0BEC5\",\"#B0BEC5\",\"#B0BEC5\",\"#B0BEC5\",\"#B0BEC5\",\"#B0BEC5\",\"#B0BEC5\",\"#B0BEC5\",\"#B0BEC5\",\"#B0BEC5\",\"#B0BEC5\",\"#B0BEC5\",\"#B0BEC5\",\"#B0BEC5\",\"#B0BEC5\",\"#B0BEC5\",\"#B0BEC5\",\"#B0BEC5\",\"#B0BEC5\",\"#B0BEC5\",\"#B0BEC5\",\"#B0BEC5\",\"#B0BEC5\",\"#B0BEC5\",\"#B0BEC5\",\"#B0BEC5\",\"#B0BEC5\",\"#B0BEC5\",\"#B0BEC5\",\"#B0BEC5\",\"#B0BEC5\",\"#B0BEC5\",\"#B0BEC5\",\"#B0BEC5\",\"#B0BEC5\",\"#B0BEC5\",\"#B0BEC5\",\"#B0BEC5\",\"#B0BEC5\",\"#B0BEC5\",\"#B0BEC5\",\"#B0BEC5\"]]}],\"label\":\"Topic 15\",\"method\":\"update\"},{\"args\":[{\"marker.color\":[[\"#B0BEC5\",\"#B0BEC5\",\"#B0BEC5\",\"#B0BEC5\",\"#B0BEC5\",\"#B0BEC5\",\"#B0BEC5\",\"#B0BEC5\",\"#B0BEC5\",\"#B0BEC5\",\"#B0BEC5\",\"#B0BEC5\",\"#B0BEC5\",\"#B0BEC5\",\"#B0BEC5\",\"#B0BEC5\",\"red\",\"#B0BEC5\",\"#B0BEC5\",\"#B0BEC5\",\"#B0BEC5\",\"#B0BEC5\",\"#B0BEC5\",\"#B0BEC5\",\"#B0BEC5\",\"#B0BEC5\",\"#B0BEC5\",\"#B0BEC5\",\"#B0BEC5\",\"#B0BEC5\",\"#B0BEC5\",\"#B0BEC5\",\"#B0BEC5\",\"#B0BEC5\",\"#B0BEC5\",\"#B0BEC5\",\"#B0BEC5\",\"#B0BEC5\",\"#B0BEC5\",\"#B0BEC5\",\"#B0BEC5\",\"#B0BEC5\",\"#B0BEC5\",\"#B0BEC5\",\"#B0BEC5\",\"#B0BEC5\",\"#B0BEC5\",\"#B0BEC5\",\"#B0BEC5\",\"#B0BEC5\",\"#B0BEC5\",\"#B0BEC5\",\"#B0BEC5\",\"#B0BEC5\",\"#B0BEC5\",\"#B0BEC5\",\"#B0BEC5\",\"#B0BEC5\",\"#B0BEC5\",\"#B0BEC5\",\"#B0BEC5\",\"#B0BEC5\",\"#B0BEC5\",\"#B0BEC5\",\"#B0BEC5\",\"#B0BEC5\",\"#B0BEC5\",\"#B0BEC5\",\"#B0BEC5\",\"#B0BEC5\",\"#B0BEC5\",\"#B0BEC5\",\"#B0BEC5\",\"#B0BEC5\",\"#B0BEC5\",\"#B0BEC5\",\"#B0BEC5\",\"#B0BEC5\",\"#B0BEC5\",\"#B0BEC5\"]]}],\"label\":\"Topic 16\",\"method\":\"update\"},{\"args\":[{\"marker.color\":[[\"#B0BEC5\",\"#B0BEC5\",\"#B0BEC5\",\"#B0BEC5\",\"#B0BEC5\",\"#B0BEC5\",\"#B0BEC5\",\"#B0BEC5\",\"#B0BEC5\",\"#B0BEC5\",\"#B0BEC5\",\"#B0BEC5\",\"#B0BEC5\",\"#B0BEC5\",\"#B0BEC5\",\"#B0BEC5\",\"#B0BEC5\",\"red\",\"#B0BEC5\",\"#B0BEC5\",\"#B0BEC5\",\"#B0BEC5\",\"#B0BEC5\",\"#B0BEC5\",\"#B0BEC5\",\"#B0BEC5\",\"#B0BEC5\",\"#B0BEC5\",\"#B0BEC5\",\"#B0BEC5\",\"#B0BEC5\",\"#B0BEC5\",\"#B0BEC5\",\"#B0BEC5\",\"#B0BEC5\",\"#B0BEC5\",\"#B0BEC5\",\"#B0BEC5\",\"#B0BEC5\",\"#B0BEC5\",\"#B0BEC5\",\"#B0BEC5\",\"#B0BEC5\",\"#B0BEC5\",\"#B0BEC5\",\"#B0BEC5\",\"#B0BEC5\",\"#B0BEC5\",\"#B0BEC5\",\"#B0BEC5\",\"#B0BEC5\",\"#B0BEC5\",\"#B0BEC5\",\"#B0BEC5\",\"#B0BEC5\",\"#B0BEC5\",\"#B0BEC5\",\"#B0BEC5\",\"#B0BEC5\",\"#B0BEC5\",\"#B0BEC5\",\"#B0BEC5\",\"#B0BEC5\",\"#B0BEC5\",\"#B0BEC5\",\"#B0BEC5\",\"#B0BEC5\",\"#B0BEC5\",\"#B0BEC5\",\"#B0BEC5\",\"#B0BEC5\",\"#B0BEC5\",\"#B0BEC5\",\"#B0BEC5\",\"#B0BEC5\",\"#B0BEC5\",\"#B0BEC5\",\"#B0BEC5\",\"#B0BEC5\",\"#B0BEC5\"]]}],\"label\":\"Topic 17\",\"method\":\"update\"},{\"args\":[{\"marker.color\":[[\"#B0BEC5\",\"#B0BEC5\",\"#B0BEC5\",\"#B0BEC5\",\"#B0BEC5\",\"#B0BEC5\",\"#B0BEC5\",\"#B0BEC5\",\"#B0BEC5\",\"#B0BEC5\",\"#B0BEC5\",\"#B0BEC5\",\"#B0BEC5\",\"#B0BEC5\",\"#B0BEC5\",\"#B0BEC5\",\"#B0BEC5\",\"#B0BEC5\",\"red\",\"#B0BEC5\",\"#B0BEC5\",\"#B0BEC5\",\"#B0BEC5\",\"#B0BEC5\",\"#B0BEC5\",\"#B0BEC5\",\"#B0BEC5\",\"#B0BEC5\",\"#B0BEC5\",\"#B0BEC5\",\"#B0BEC5\",\"#B0BEC5\",\"#B0BEC5\",\"#B0BEC5\",\"#B0BEC5\",\"#B0BEC5\",\"#B0BEC5\",\"#B0BEC5\",\"#B0BEC5\",\"#B0BEC5\",\"#B0BEC5\",\"#B0BEC5\",\"#B0BEC5\",\"#B0BEC5\",\"#B0BEC5\",\"#B0BEC5\",\"#B0BEC5\",\"#B0BEC5\",\"#B0BEC5\",\"#B0BEC5\",\"#B0BEC5\",\"#B0BEC5\",\"#B0BEC5\",\"#B0BEC5\",\"#B0BEC5\",\"#B0BEC5\",\"#B0BEC5\",\"#B0BEC5\",\"#B0BEC5\",\"#B0BEC5\",\"#B0BEC5\",\"#B0BEC5\",\"#B0BEC5\",\"#B0BEC5\",\"#B0BEC5\",\"#B0BEC5\",\"#B0BEC5\",\"#B0BEC5\",\"#B0BEC5\",\"#B0BEC5\",\"#B0BEC5\",\"#B0BEC5\",\"#B0BEC5\",\"#B0BEC5\",\"#B0BEC5\",\"#B0BEC5\",\"#B0BEC5\",\"#B0BEC5\",\"#B0BEC5\",\"#B0BEC5\"]]}],\"label\":\"Topic 18\",\"method\":\"update\"},{\"args\":[{\"marker.color\":[[\"#B0BEC5\",\"#B0BEC5\",\"#B0BEC5\",\"#B0BEC5\",\"#B0BEC5\",\"#B0BEC5\",\"#B0BEC5\",\"#B0BEC5\",\"#B0BEC5\",\"#B0BEC5\",\"#B0BEC5\",\"#B0BEC5\",\"#B0BEC5\",\"#B0BEC5\",\"#B0BEC5\",\"#B0BEC5\",\"#B0BEC5\",\"#B0BEC5\",\"#B0BEC5\",\"red\",\"#B0BEC5\",\"#B0BEC5\",\"#B0BEC5\",\"#B0BEC5\",\"#B0BEC5\",\"#B0BEC5\",\"#B0BEC5\",\"#B0BEC5\",\"#B0BEC5\",\"#B0BEC5\",\"#B0BEC5\",\"#B0BEC5\",\"#B0BEC5\",\"#B0BEC5\",\"#B0BEC5\",\"#B0BEC5\",\"#B0BEC5\",\"#B0BEC5\",\"#B0BEC5\",\"#B0BEC5\",\"#B0BEC5\",\"#B0BEC5\",\"#B0BEC5\",\"#B0BEC5\",\"#B0BEC5\",\"#B0BEC5\",\"#B0BEC5\",\"#B0BEC5\",\"#B0BEC5\",\"#B0BEC5\",\"#B0BEC5\",\"#B0BEC5\",\"#B0BEC5\",\"#B0BEC5\",\"#B0BEC5\",\"#B0BEC5\",\"#B0BEC5\",\"#B0BEC5\",\"#B0BEC5\",\"#B0BEC5\",\"#B0BEC5\",\"#B0BEC5\",\"#B0BEC5\",\"#B0BEC5\",\"#B0BEC5\",\"#B0BEC5\",\"#B0BEC5\",\"#B0BEC5\",\"#B0BEC5\",\"#B0BEC5\",\"#B0BEC5\",\"#B0BEC5\",\"#B0BEC5\",\"#B0BEC5\",\"#B0BEC5\",\"#B0BEC5\",\"#B0BEC5\",\"#B0BEC5\",\"#B0BEC5\",\"#B0BEC5\"]]}],\"label\":\"Topic 19\",\"method\":\"update\"},{\"args\":[{\"marker.color\":[[\"#B0BEC5\",\"#B0BEC5\",\"#B0BEC5\",\"#B0BEC5\",\"#B0BEC5\",\"#B0BEC5\",\"#B0BEC5\",\"#B0BEC5\",\"#B0BEC5\",\"#B0BEC5\",\"#B0BEC5\",\"#B0BEC5\",\"#B0BEC5\",\"#B0BEC5\",\"#B0BEC5\",\"#B0BEC5\",\"#B0BEC5\",\"#B0BEC5\",\"#B0BEC5\",\"#B0BEC5\",\"red\",\"#B0BEC5\",\"#B0BEC5\",\"#B0BEC5\",\"#B0BEC5\",\"#B0BEC5\",\"#B0BEC5\",\"#B0BEC5\",\"#B0BEC5\",\"#B0BEC5\",\"#B0BEC5\",\"#B0BEC5\",\"#B0BEC5\",\"#B0BEC5\",\"#B0BEC5\",\"#B0BEC5\",\"#B0BEC5\",\"#B0BEC5\",\"#B0BEC5\",\"#B0BEC5\",\"#B0BEC5\",\"#B0BEC5\",\"#B0BEC5\",\"#B0BEC5\",\"#B0BEC5\",\"#B0BEC5\",\"#B0BEC5\",\"#B0BEC5\",\"#B0BEC5\",\"#B0BEC5\",\"#B0BEC5\",\"#B0BEC5\",\"#B0BEC5\",\"#B0BEC5\",\"#B0BEC5\",\"#B0BEC5\",\"#B0BEC5\",\"#B0BEC5\",\"#B0BEC5\",\"#B0BEC5\",\"#B0BEC5\",\"#B0BEC5\",\"#B0BEC5\",\"#B0BEC5\",\"#B0BEC5\",\"#B0BEC5\",\"#B0BEC5\",\"#B0BEC5\",\"#B0BEC5\",\"#B0BEC5\",\"#B0BEC5\",\"#B0BEC5\",\"#B0BEC5\",\"#B0BEC5\",\"#B0BEC5\",\"#B0BEC5\",\"#B0BEC5\",\"#B0BEC5\",\"#B0BEC5\",\"#B0BEC5\"]]}],\"label\":\"Topic 20\",\"method\":\"update\"},{\"args\":[{\"marker.color\":[[\"#B0BEC5\",\"#B0BEC5\",\"#B0BEC5\",\"#B0BEC5\",\"#B0BEC5\",\"#B0BEC5\",\"#B0BEC5\",\"#B0BEC5\",\"#B0BEC5\",\"#B0BEC5\",\"#B0BEC5\",\"#B0BEC5\",\"#B0BEC5\",\"#B0BEC5\",\"#B0BEC5\",\"#B0BEC5\",\"#B0BEC5\",\"#B0BEC5\",\"#B0BEC5\",\"#B0BEC5\",\"#B0BEC5\",\"red\",\"#B0BEC5\",\"#B0BEC5\",\"#B0BEC5\",\"#B0BEC5\",\"#B0BEC5\",\"#B0BEC5\",\"#B0BEC5\",\"#B0BEC5\",\"#B0BEC5\",\"#B0BEC5\",\"#B0BEC5\",\"#B0BEC5\",\"#B0BEC5\",\"#B0BEC5\",\"#B0BEC5\",\"#B0BEC5\",\"#B0BEC5\",\"#B0BEC5\",\"#B0BEC5\",\"#B0BEC5\",\"#B0BEC5\",\"#B0BEC5\",\"#B0BEC5\",\"#B0BEC5\",\"#B0BEC5\",\"#B0BEC5\",\"#B0BEC5\",\"#B0BEC5\",\"#B0BEC5\",\"#B0BEC5\",\"#B0BEC5\",\"#B0BEC5\",\"#B0BEC5\",\"#B0BEC5\",\"#B0BEC5\",\"#B0BEC5\",\"#B0BEC5\",\"#B0BEC5\",\"#B0BEC5\",\"#B0BEC5\",\"#B0BEC5\",\"#B0BEC5\",\"#B0BEC5\",\"#B0BEC5\",\"#B0BEC5\",\"#B0BEC5\",\"#B0BEC5\",\"#B0BEC5\",\"#B0BEC5\",\"#B0BEC5\",\"#B0BEC5\",\"#B0BEC5\",\"#B0BEC5\",\"#B0BEC5\",\"#B0BEC5\",\"#B0BEC5\",\"#B0BEC5\",\"#B0BEC5\"]]}],\"label\":\"Topic 21\",\"method\":\"update\"},{\"args\":[{\"marker.color\":[[\"#B0BEC5\",\"#B0BEC5\",\"#B0BEC5\",\"#B0BEC5\",\"#B0BEC5\",\"#B0BEC5\",\"#B0BEC5\",\"#B0BEC5\",\"#B0BEC5\",\"#B0BEC5\",\"#B0BEC5\",\"#B0BEC5\",\"#B0BEC5\",\"#B0BEC5\",\"#B0BEC5\",\"#B0BEC5\",\"#B0BEC5\",\"#B0BEC5\",\"#B0BEC5\",\"#B0BEC5\",\"#B0BEC5\",\"#B0BEC5\",\"red\",\"#B0BEC5\",\"#B0BEC5\",\"#B0BEC5\",\"#B0BEC5\",\"#B0BEC5\",\"#B0BEC5\",\"#B0BEC5\",\"#B0BEC5\",\"#B0BEC5\",\"#B0BEC5\",\"#B0BEC5\",\"#B0BEC5\",\"#B0BEC5\",\"#B0BEC5\",\"#B0BEC5\",\"#B0BEC5\",\"#B0BEC5\",\"#B0BEC5\",\"#B0BEC5\",\"#B0BEC5\",\"#B0BEC5\",\"#B0BEC5\",\"#B0BEC5\",\"#B0BEC5\",\"#B0BEC5\",\"#B0BEC5\",\"#B0BEC5\",\"#B0BEC5\",\"#B0BEC5\",\"#B0BEC5\",\"#B0BEC5\",\"#B0BEC5\",\"#B0BEC5\",\"#B0BEC5\",\"#B0BEC5\",\"#B0BEC5\",\"#B0BEC5\",\"#B0BEC5\",\"#B0BEC5\",\"#B0BEC5\",\"#B0BEC5\",\"#B0BEC5\",\"#B0BEC5\",\"#B0BEC5\",\"#B0BEC5\",\"#B0BEC5\",\"#B0BEC5\",\"#B0BEC5\",\"#B0BEC5\",\"#B0BEC5\",\"#B0BEC5\",\"#B0BEC5\",\"#B0BEC5\",\"#B0BEC5\",\"#B0BEC5\",\"#B0BEC5\",\"#B0BEC5\"]]}],\"label\":\"Topic 22\",\"method\":\"update\"},{\"args\":[{\"marker.color\":[[\"#B0BEC5\",\"#B0BEC5\",\"#B0BEC5\",\"#B0BEC5\",\"#B0BEC5\",\"#B0BEC5\",\"#B0BEC5\",\"#B0BEC5\",\"#B0BEC5\",\"#B0BEC5\",\"#B0BEC5\",\"#B0BEC5\",\"#B0BEC5\",\"#B0BEC5\",\"#B0BEC5\",\"#B0BEC5\",\"#B0BEC5\",\"#B0BEC5\",\"#B0BEC5\",\"#B0BEC5\",\"#B0BEC5\",\"#B0BEC5\",\"#B0BEC5\",\"red\",\"#B0BEC5\",\"#B0BEC5\",\"#B0BEC5\",\"#B0BEC5\",\"#B0BEC5\",\"#B0BEC5\",\"#B0BEC5\",\"#B0BEC5\",\"#B0BEC5\",\"#B0BEC5\",\"#B0BEC5\",\"#B0BEC5\",\"#B0BEC5\",\"#B0BEC5\",\"#B0BEC5\",\"#B0BEC5\",\"#B0BEC5\",\"#B0BEC5\",\"#B0BEC5\",\"#B0BEC5\",\"#B0BEC5\",\"#B0BEC5\",\"#B0BEC5\",\"#B0BEC5\",\"#B0BEC5\",\"#B0BEC5\",\"#B0BEC5\",\"#B0BEC5\",\"#B0BEC5\",\"#B0BEC5\",\"#B0BEC5\",\"#B0BEC5\",\"#B0BEC5\",\"#B0BEC5\",\"#B0BEC5\",\"#B0BEC5\",\"#B0BEC5\",\"#B0BEC5\",\"#B0BEC5\",\"#B0BEC5\",\"#B0BEC5\",\"#B0BEC5\",\"#B0BEC5\",\"#B0BEC5\",\"#B0BEC5\",\"#B0BEC5\",\"#B0BEC5\",\"#B0BEC5\",\"#B0BEC5\",\"#B0BEC5\",\"#B0BEC5\",\"#B0BEC5\",\"#B0BEC5\",\"#B0BEC5\",\"#B0BEC5\",\"#B0BEC5\"]]}],\"label\":\"Topic 23\",\"method\":\"update\"},{\"args\":[{\"marker.color\":[[\"#B0BEC5\",\"#B0BEC5\",\"#B0BEC5\",\"#B0BEC5\",\"#B0BEC5\",\"#B0BEC5\",\"#B0BEC5\",\"#B0BEC5\",\"#B0BEC5\",\"#B0BEC5\",\"#B0BEC5\",\"#B0BEC5\",\"#B0BEC5\",\"#B0BEC5\",\"#B0BEC5\",\"#B0BEC5\",\"#B0BEC5\",\"#B0BEC5\",\"#B0BEC5\",\"#B0BEC5\",\"#B0BEC5\",\"#B0BEC5\",\"#B0BEC5\",\"#B0BEC5\",\"red\",\"#B0BEC5\",\"#B0BEC5\",\"#B0BEC5\",\"#B0BEC5\",\"#B0BEC5\",\"#B0BEC5\",\"#B0BEC5\",\"#B0BEC5\",\"#B0BEC5\",\"#B0BEC5\",\"#B0BEC5\",\"#B0BEC5\",\"#B0BEC5\",\"#B0BEC5\",\"#B0BEC5\",\"#B0BEC5\",\"#B0BEC5\",\"#B0BEC5\",\"#B0BEC5\",\"#B0BEC5\",\"#B0BEC5\",\"#B0BEC5\",\"#B0BEC5\",\"#B0BEC5\",\"#B0BEC5\",\"#B0BEC5\",\"#B0BEC5\",\"#B0BEC5\",\"#B0BEC5\",\"#B0BEC5\",\"#B0BEC5\",\"#B0BEC5\",\"#B0BEC5\",\"#B0BEC5\",\"#B0BEC5\",\"#B0BEC5\",\"#B0BEC5\",\"#B0BEC5\",\"#B0BEC5\",\"#B0BEC5\",\"#B0BEC5\",\"#B0BEC5\",\"#B0BEC5\",\"#B0BEC5\",\"#B0BEC5\",\"#B0BEC5\",\"#B0BEC5\",\"#B0BEC5\",\"#B0BEC5\",\"#B0BEC5\",\"#B0BEC5\",\"#B0BEC5\",\"#B0BEC5\",\"#B0BEC5\",\"#B0BEC5\"]]}],\"label\":\"Topic 24\",\"method\":\"update\"},{\"args\":[{\"marker.color\":[[\"#B0BEC5\",\"#B0BEC5\",\"#B0BEC5\",\"#B0BEC5\",\"#B0BEC5\",\"#B0BEC5\",\"#B0BEC5\",\"#B0BEC5\",\"#B0BEC5\",\"#B0BEC5\",\"#B0BEC5\",\"#B0BEC5\",\"#B0BEC5\",\"#B0BEC5\",\"#B0BEC5\",\"#B0BEC5\",\"#B0BEC5\",\"#B0BEC5\",\"#B0BEC5\",\"#B0BEC5\",\"#B0BEC5\",\"#B0BEC5\",\"#B0BEC5\",\"#B0BEC5\",\"#B0BEC5\",\"red\",\"#B0BEC5\",\"#B0BEC5\",\"#B0BEC5\",\"#B0BEC5\",\"#B0BEC5\",\"#B0BEC5\",\"#B0BEC5\",\"#B0BEC5\",\"#B0BEC5\",\"#B0BEC5\",\"#B0BEC5\",\"#B0BEC5\",\"#B0BEC5\",\"#B0BEC5\",\"#B0BEC5\",\"#B0BEC5\",\"#B0BEC5\",\"#B0BEC5\",\"#B0BEC5\",\"#B0BEC5\",\"#B0BEC5\",\"#B0BEC5\",\"#B0BEC5\",\"#B0BEC5\",\"#B0BEC5\",\"#B0BEC5\",\"#B0BEC5\",\"#B0BEC5\",\"#B0BEC5\",\"#B0BEC5\",\"#B0BEC5\",\"#B0BEC5\",\"#B0BEC5\",\"#B0BEC5\",\"#B0BEC5\",\"#B0BEC5\",\"#B0BEC5\",\"#B0BEC5\",\"#B0BEC5\",\"#B0BEC5\",\"#B0BEC5\",\"#B0BEC5\",\"#B0BEC5\",\"#B0BEC5\",\"#B0BEC5\",\"#B0BEC5\",\"#B0BEC5\",\"#B0BEC5\",\"#B0BEC5\",\"#B0BEC5\",\"#B0BEC5\",\"#B0BEC5\",\"#B0BEC5\",\"#B0BEC5\"]]}],\"label\":\"Topic 25\",\"method\":\"update\"},{\"args\":[{\"marker.color\":[[\"#B0BEC5\",\"#B0BEC5\",\"#B0BEC5\",\"#B0BEC5\",\"#B0BEC5\",\"#B0BEC5\",\"#B0BEC5\",\"#B0BEC5\",\"#B0BEC5\",\"#B0BEC5\",\"#B0BEC5\",\"#B0BEC5\",\"#B0BEC5\",\"#B0BEC5\",\"#B0BEC5\",\"#B0BEC5\",\"#B0BEC5\",\"#B0BEC5\",\"#B0BEC5\",\"#B0BEC5\",\"#B0BEC5\",\"#B0BEC5\",\"#B0BEC5\",\"#B0BEC5\",\"#B0BEC5\",\"#B0BEC5\",\"red\",\"#B0BEC5\",\"#B0BEC5\",\"#B0BEC5\",\"#B0BEC5\",\"#B0BEC5\",\"#B0BEC5\",\"#B0BEC5\",\"#B0BEC5\",\"#B0BEC5\",\"#B0BEC5\",\"#B0BEC5\",\"#B0BEC5\",\"#B0BEC5\",\"#B0BEC5\",\"#B0BEC5\",\"#B0BEC5\",\"#B0BEC5\",\"#B0BEC5\",\"#B0BEC5\",\"#B0BEC5\",\"#B0BEC5\",\"#B0BEC5\",\"#B0BEC5\",\"#B0BEC5\",\"#B0BEC5\",\"#B0BEC5\",\"#B0BEC5\",\"#B0BEC5\",\"#B0BEC5\",\"#B0BEC5\",\"#B0BEC5\",\"#B0BEC5\",\"#B0BEC5\",\"#B0BEC5\",\"#B0BEC5\",\"#B0BEC5\",\"#B0BEC5\",\"#B0BEC5\",\"#B0BEC5\",\"#B0BEC5\",\"#B0BEC5\",\"#B0BEC5\",\"#B0BEC5\",\"#B0BEC5\",\"#B0BEC5\",\"#B0BEC5\",\"#B0BEC5\",\"#B0BEC5\",\"#B0BEC5\",\"#B0BEC5\",\"#B0BEC5\",\"#B0BEC5\",\"#B0BEC5\"]]}],\"label\":\"Topic 26\",\"method\":\"update\"},{\"args\":[{\"marker.color\":[[\"#B0BEC5\",\"#B0BEC5\",\"#B0BEC5\",\"#B0BEC5\",\"#B0BEC5\",\"#B0BEC5\",\"#B0BEC5\",\"#B0BEC5\",\"#B0BEC5\",\"#B0BEC5\",\"#B0BEC5\",\"#B0BEC5\",\"#B0BEC5\",\"#B0BEC5\",\"#B0BEC5\",\"#B0BEC5\",\"#B0BEC5\",\"#B0BEC5\",\"#B0BEC5\",\"#B0BEC5\",\"#B0BEC5\",\"#B0BEC5\",\"#B0BEC5\",\"#B0BEC5\",\"#B0BEC5\",\"#B0BEC5\",\"#B0BEC5\",\"red\",\"#B0BEC5\",\"#B0BEC5\",\"#B0BEC5\",\"#B0BEC5\",\"#B0BEC5\",\"#B0BEC5\",\"#B0BEC5\",\"#B0BEC5\",\"#B0BEC5\",\"#B0BEC5\",\"#B0BEC5\",\"#B0BEC5\",\"#B0BEC5\",\"#B0BEC5\",\"#B0BEC5\",\"#B0BEC5\",\"#B0BEC5\",\"#B0BEC5\",\"#B0BEC5\",\"#B0BEC5\",\"#B0BEC5\",\"#B0BEC5\",\"#B0BEC5\",\"#B0BEC5\",\"#B0BEC5\",\"#B0BEC5\",\"#B0BEC5\",\"#B0BEC5\",\"#B0BEC5\",\"#B0BEC5\",\"#B0BEC5\",\"#B0BEC5\",\"#B0BEC5\",\"#B0BEC5\",\"#B0BEC5\",\"#B0BEC5\",\"#B0BEC5\",\"#B0BEC5\",\"#B0BEC5\",\"#B0BEC5\",\"#B0BEC5\",\"#B0BEC5\",\"#B0BEC5\",\"#B0BEC5\",\"#B0BEC5\",\"#B0BEC5\",\"#B0BEC5\",\"#B0BEC5\",\"#B0BEC5\",\"#B0BEC5\",\"#B0BEC5\",\"#B0BEC5\"]]}],\"label\":\"Topic 27\",\"method\":\"update\"},{\"args\":[{\"marker.color\":[[\"#B0BEC5\",\"#B0BEC5\",\"#B0BEC5\",\"#B0BEC5\",\"#B0BEC5\",\"#B0BEC5\",\"#B0BEC5\",\"#B0BEC5\",\"#B0BEC5\",\"#B0BEC5\",\"#B0BEC5\",\"#B0BEC5\",\"#B0BEC5\",\"#B0BEC5\",\"#B0BEC5\",\"#B0BEC5\",\"#B0BEC5\",\"#B0BEC5\",\"#B0BEC5\",\"#B0BEC5\",\"#B0BEC5\",\"#B0BEC5\",\"#B0BEC5\",\"#B0BEC5\",\"#B0BEC5\",\"#B0BEC5\",\"#B0BEC5\",\"#B0BEC5\",\"red\",\"#B0BEC5\",\"#B0BEC5\",\"#B0BEC5\",\"#B0BEC5\",\"#B0BEC5\",\"#B0BEC5\",\"#B0BEC5\",\"#B0BEC5\",\"#B0BEC5\",\"#B0BEC5\",\"#B0BEC5\",\"#B0BEC5\",\"#B0BEC5\",\"#B0BEC5\",\"#B0BEC5\",\"#B0BEC5\",\"#B0BEC5\",\"#B0BEC5\",\"#B0BEC5\",\"#B0BEC5\",\"#B0BEC5\",\"#B0BEC5\",\"#B0BEC5\",\"#B0BEC5\",\"#B0BEC5\",\"#B0BEC5\",\"#B0BEC5\",\"#B0BEC5\",\"#B0BEC5\",\"#B0BEC5\",\"#B0BEC5\",\"#B0BEC5\",\"#B0BEC5\",\"#B0BEC5\",\"#B0BEC5\",\"#B0BEC5\",\"#B0BEC5\",\"#B0BEC5\",\"#B0BEC5\",\"#B0BEC5\",\"#B0BEC5\",\"#B0BEC5\",\"#B0BEC5\",\"#B0BEC5\",\"#B0BEC5\",\"#B0BEC5\",\"#B0BEC5\",\"#B0BEC5\",\"#B0BEC5\",\"#B0BEC5\",\"#B0BEC5\"]]}],\"label\":\"Topic 28\",\"method\":\"update\"},{\"args\":[{\"marker.color\":[[\"#B0BEC5\",\"#B0BEC5\",\"#B0BEC5\",\"#B0BEC5\",\"#B0BEC5\",\"#B0BEC5\",\"#B0BEC5\",\"#B0BEC5\",\"#B0BEC5\",\"#B0BEC5\",\"#B0BEC5\",\"#B0BEC5\",\"#B0BEC5\",\"#B0BEC5\",\"#B0BEC5\",\"#B0BEC5\",\"#B0BEC5\",\"#B0BEC5\",\"#B0BEC5\",\"#B0BEC5\",\"#B0BEC5\",\"#B0BEC5\",\"#B0BEC5\",\"#B0BEC5\",\"#B0BEC5\",\"#B0BEC5\",\"#B0BEC5\",\"#B0BEC5\",\"#B0BEC5\",\"red\",\"#B0BEC5\",\"#B0BEC5\",\"#B0BEC5\",\"#B0BEC5\",\"#B0BEC5\",\"#B0BEC5\",\"#B0BEC5\",\"#B0BEC5\",\"#B0BEC5\",\"#B0BEC5\",\"#B0BEC5\",\"#B0BEC5\",\"#B0BEC5\",\"#B0BEC5\",\"#B0BEC5\",\"#B0BEC5\",\"#B0BEC5\",\"#B0BEC5\",\"#B0BEC5\",\"#B0BEC5\",\"#B0BEC5\",\"#B0BEC5\",\"#B0BEC5\",\"#B0BEC5\",\"#B0BEC5\",\"#B0BEC5\",\"#B0BEC5\",\"#B0BEC5\",\"#B0BEC5\",\"#B0BEC5\",\"#B0BEC5\",\"#B0BEC5\",\"#B0BEC5\",\"#B0BEC5\",\"#B0BEC5\",\"#B0BEC5\",\"#B0BEC5\",\"#B0BEC5\",\"#B0BEC5\",\"#B0BEC5\",\"#B0BEC5\",\"#B0BEC5\",\"#B0BEC5\",\"#B0BEC5\",\"#B0BEC5\",\"#B0BEC5\",\"#B0BEC5\",\"#B0BEC5\",\"#B0BEC5\",\"#B0BEC5\"]]}],\"label\":\"Topic 29\",\"method\":\"update\"},{\"args\":[{\"marker.color\":[[\"#B0BEC5\",\"#B0BEC5\",\"#B0BEC5\",\"#B0BEC5\",\"#B0BEC5\",\"#B0BEC5\",\"#B0BEC5\",\"#B0BEC5\",\"#B0BEC5\",\"#B0BEC5\",\"#B0BEC5\",\"#B0BEC5\",\"#B0BEC5\",\"#B0BEC5\",\"#B0BEC5\",\"#B0BEC5\",\"#B0BEC5\",\"#B0BEC5\",\"#B0BEC5\",\"#B0BEC5\",\"#B0BEC5\",\"#B0BEC5\",\"#B0BEC5\",\"#B0BEC5\",\"#B0BEC5\",\"#B0BEC5\",\"#B0BEC5\",\"#B0BEC5\",\"#B0BEC5\",\"#B0BEC5\",\"red\",\"#B0BEC5\",\"#B0BEC5\",\"#B0BEC5\",\"#B0BEC5\",\"#B0BEC5\",\"#B0BEC5\",\"#B0BEC5\",\"#B0BEC5\",\"#B0BEC5\",\"#B0BEC5\",\"#B0BEC5\",\"#B0BEC5\",\"#B0BEC5\",\"#B0BEC5\",\"#B0BEC5\",\"#B0BEC5\",\"#B0BEC5\",\"#B0BEC5\",\"#B0BEC5\",\"#B0BEC5\",\"#B0BEC5\",\"#B0BEC5\",\"#B0BEC5\",\"#B0BEC5\",\"#B0BEC5\",\"#B0BEC5\",\"#B0BEC5\",\"#B0BEC5\",\"#B0BEC5\",\"#B0BEC5\",\"#B0BEC5\",\"#B0BEC5\",\"#B0BEC5\",\"#B0BEC5\",\"#B0BEC5\",\"#B0BEC5\",\"#B0BEC5\",\"#B0BEC5\",\"#B0BEC5\",\"#B0BEC5\",\"#B0BEC5\",\"#B0BEC5\",\"#B0BEC5\",\"#B0BEC5\",\"#B0BEC5\",\"#B0BEC5\",\"#B0BEC5\",\"#B0BEC5\",\"#B0BEC5\"]]}],\"label\":\"Topic 30\",\"method\":\"update\"},{\"args\":[{\"marker.color\":[[\"#B0BEC5\",\"#B0BEC5\",\"#B0BEC5\",\"#B0BEC5\",\"#B0BEC5\",\"#B0BEC5\",\"#B0BEC5\",\"#B0BEC5\",\"#B0BEC5\",\"#B0BEC5\",\"#B0BEC5\",\"#B0BEC5\",\"#B0BEC5\",\"#B0BEC5\",\"#B0BEC5\",\"#B0BEC5\",\"#B0BEC5\",\"#B0BEC5\",\"#B0BEC5\",\"#B0BEC5\",\"#B0BEC5\",\"#B0BEC5\",\"#B0BEC5\",\"#B0BEC5\",\"#B0BEC5\",\"#B0BEC5\",\"#B0BEC5\",\"#B0BEC5\",\"#B0BEC5\",\"#B0BEC5\",\"#B0BEC5\",\"red\",\"#B0BEC5\",\"#B0BEC5\",\"#B0BEC5\",\"#B0BEC5\",\"#B0BEC5\",\"#B0BEC5\",\"#B0BEC5\",\"#B0BEC5\",\"#B0BEC5\",\"#B0BEC5\",\"#B0BEC5\",\"#B0BEC5\",\"#B0BEC5\",\"#B0BEC5\",\"#B0BEC5\",\"#B0BEC5\",\"#B0BEC5\",\"#B0BEC5\",\"#B0BEC5\",\"#B0BEC5\",\"#B0BEC5\",\"#B0BEC5\",\"#B0BEC5\",\"#B0BEC5\",\"#B0BEC5\",\"#B0BEC5\",\"#B0BEC5\",\"#B0BEC5\",\"#B0BEC5\",\"#B0BEC5\",\"#B0BEC5\",\"#B0BEC5\",\"#B0BEC5\",\"#B0BEC5\",\"#B0BEC5\",\"#B0BEC5\",\"#B0BEC5\",\"#B0BEC5\",\"#B0BEC5\",\"#B0BEC5\",\"#B0BEC5\",\"#B0BEC5\",\"#B0BEC5\",\"#B0BEC5\",\"#B0BEC5\",\"#B0BEC5\",\"#B0BEC5\",\"#B0BEC5\"]]}],\"label\":\"Topic 31\",\"method\":\"update\"},{\"args\":[{\"marker.color\":[[\"#B0BEC5\",\"#B0BEC5\",\"#B0BEC5\",\"#B0BEC5\",\"#B0BEC5\",\"#B0BEC5\",\"#B0BEC5\",\"#B0BEC5\",\"#B0BEC5\",\"#B0BEC5\",\"#B0BEC5\",\"#B0BEC5\",\"#B0BEC5\",\"#B0BEC5\",\"#B0BEC5\",\"#B0BEC5\",\"#B0BEC5\",\"#B0BEC5\",\"#B0BEC5\",\"#B0BEC5\",\"#B0BEC5\",\"#B0BEC5\",\"#B0BEC5\",\"#B0BEC5\",\"#B0BEC5\",\"#B0BEC5\",\"#B0BEC5\",\"#B0BEC5\",\"#B0BEC5\",\"#B0BEC5\",\"#B0BEC5\",\"#B0BEC5\",\"red\",\"#B0BEC5\",\"#B0BEC5\",\"#B0BEC5\",\"#B0BEC5\",\"#B0BEC5\",\"#B0BEC5\",\"#B0BEC5\",\"#B0BEC5\",\"#B0BEC5\",\"#B0BEC5\",\"#B0BEC5\",\"#B0BEC5\",\"#B0BEC5\",\"#B0BEC5\",\"#B0BEC5\",\"#B0BEC5\",\"#B0BEC5\",\"#B0BEC5\",\"#B0BEC5\",\"#B0BEC5\",\"#B0BEC5\",\"#B0BEC5\",\"#B0BEC5\",\"#B0BEC5\",\"#B0BEC5\",\"#B0BEC5\",\"#B0BEC5\",\"#B0BEC5\",\"#B0BEC5\",\"#B0BEC5\",\"#B0BEC5\",\"#B0BEC5\",\"#B0BEC5\",\"#B0BEC5\",\"#B0BEC5\",\"#B0BEC5\",\"#B0BEC5\",\"#B0BEC5\",\"#B0BEC5\",\"#B0BEC5\",\"#B0BEC5\",\"#B0BEC5\",\"#B0BEC5\",\"#B0BEC5\",\"#B0BEC5\",\"#B0BEC5\",\"#B0BEC5\"]]}],\"label\":\"Topic 32\",\"method\":\"update\"},{\"args\":[{\"marker.color\":[[\"#B0BEC5\",\"#B0BEC5\",\"#B0BEC5\",\"#B0BEC5\",\"#B0BEC5\",\"#B0BEC5\",\"#B0BEC5\",\"#B0BEC5\",\"#B0BEC5\",\"#B0BEC5\",\"#B0BEC5\",\"#B0BEC5\",\"#B0BEC5\",\"#B0BEC5\",\"#B0BEC5\",\"#B0BEC5\",\"#B0BEC5\",\"#B0BEC5\",\"#B0BEC5\",\"#B0BEC5\",\"#B0BEC5\",\"#B0BEC5\",\"#B0BEC5\",\"#B0BEC5\",\"#B0BEC5\",\"#B0BEC5\",\"#B0BEC5\",\"#B0BEC5\",\"#B0BEC5\",\"#B0BEC5\",\"#B0BEC5\",\"#B0BEC5\",\"#B0BEC5\",\"red\",\"#B0BEC5\",\"#B0BEC5\",\"#B0BEC5\",\"#B0BEC5\",\"#B0BEC5\",\"#B0BEC5\",\"#B0BEC5\",\"#B0BEC5\",\"#B0BEC5\",\"#B0BEC5\",\"#B0BEC5\",\"#B0BEC5\",\"#B0BEC5\",\"#B0BEC5\",\"#B0BEC5\",\"#B0BEC5\",\"#B0BEC5\",\"#B0BEC5\",\"#B0BEC5\",\"#B0BEC5\",\"#B0BEC5\",\"#B0BEC5\",\"#B0BEC5\",\"#B0BEC5\",\"#B0BEC5\",\"#B0BEC5\",\"#B0BEC5\",\"#B0BEC5\",\"#B0BEC5\",\"#B0BEC5\",\"#B0BEC5\",\"#B0BEC5\",\"#B0BEC5\",\"#B0BEC5\",\"#B0BEC5\",\"#B0BEC5\",\"#B0BEC5\",\"#B0BEC5\",\"#B0BEC5\",\"#B0BEC5\",\"#B0BEC5\",\"#B0BEC5\",\"#B0BEC5\",\"#B0BEC5\",\"#B0BEC5\",\"#B0BEC5\"]]}],\"label\":\"Topic 33\",\"method\":\"update\"},{\"args\":[{\"marker.color\":[[\"#B0BEC5\",\"#B0BEC5\",\"#B0BEC5\",\"#B0BEC5\",\"#B0BEC5\",\"#B0BEC5\",\"#B0BEC5\",\"#B0BEC5\",\"#B0BEC5\",\"#B0BEC5\",\"#B0BEC5\",\"#B0BEC5\",\"#B0BEC5\",\"#B0BEC5\",\"#B0BEC5\",\"#B0BEC5\",\"#B0BEC5\",\"#B0BEC5\",\"#B0BEC5\",\"#B0BEC5\",\"#B0BEC5\",\"#B0BEC5\",\"#B0BEC5\",\"#B0BEC5\",\"#B0BEC5\",\"#B0BEC5\",\"#B0BEC5\",\"#B0BEC5\",\"#B0BEC5\",\"#B0BEC5\",\"#B0BEC5\",\"#B0BEC5\",\"#B0BEC5\",\"#B0BEC5\",\"red\",\"#B0BEC5\",\"#B0BEC5\",\"#B0BEC5\",\"#B0BEC5\",\"#B0BEC5\",\"#B0BEC5\",\"#B0BEC5\",\"#B0BEC5\",\"#B0BEC5\",\"#B0BEC5\",\"#B0BEC5\",\"#B0BEC5\",\"#B0BEC5\",\"#B0BEC5\",\"#B0BEC5\",\"#B0BEC5\",\"#B0BEC5\",\"#B0BEC5\",\"#B0BEC5\",\"#B0BEC5\",\"#B0BEC5\",\"#B0BEC5\",\"#B0BEC5\",\"#B0BEC5\",\"#B0BEC5\",\"#B0BEC5\",\"#B0BEC5\",\"#B0BEC5\",\"#B0BEC5\",\"#B0BEC5\",\"#B0BEC5\",\"#B0BEC5\",\"#B0BEC5\",\"#B0BEC5\",\"#B0BEC5\",\"#B0BEC5\",\"#B0BEC5\",\"#B0BEC5\",\"#B0BEC5\",\"#B0BEC5\",\"#B0BEC5\",\"#B0BEC5\",\"#B0BEC5\",\"#B0BEC5\",\"#B0BEC5\"]]}],\"label\":\"Topic 34\",\"method\":\"update\"},{\"args\":[{\"marker.color\":[[\"#B0BEC5\",\"#B0BEC5\",\"#B0BEC5\",\"#B0BEC5\",\"#B0BEC5\",\"#B0BEC5\",\"#B0BEC5\",\"#B0BEC5\",\"#B0BEC5\",\"#B0BEC5\",\"#B0BEC5\",\"#B0BEC5\",\"#B0BEC5\",\"#B0BEC5\",\"#B0BEC5\",\"#B0BEC5\",\"#B0BEC5\",\"#B0BEC5\",\"#B0BEC5\",\"#B0BEC5\",\"#B0BEC5\",\"#B0BEC5\",\"#B0BEC5\",\"#B0BEC5\",\"#B0BEC5\",\"#B0BEC5\",\"#B0BEC5\",\"#B0BEC5\",\"#B0BEC5\",\"#B0BEC5\",\"#B0BEC5\",\"#B0BEC5\",\"#B0BEC5\",\"#B0BEC5\",\"#B0BEC5\",\"red\",\"#B0BEC5\",\"#B0BEC5\",\"#B0BEC5\",\"#B0BEC5\",\"#B0BEC5\",\"#B0BEC5\",\"#B0BEC5\",\"#B0BEC5\",\"#B0BEC5\",\"#B0BEC5\",\"#B0BEC5\",\"#B0BEC5\",\"#B0BEC5\",\"#B0BEC5\",\"#B0BEC5\",\"#B0BEC5\",\"#B0BEC5\",\"#B0BEC5\",\"#B0BEC5\",\"#B0BEC5\",\"#B0BEC5\",\"#B0BEC5\",\"#B0BEC5\",\"#B0BEC5\",\"#B0BEC5\",\"#B0BEC5\",\"#B0BEC5\",\"#B0BEC5\",\"#B0BEC5\",\"#B0BEC5\",\"#B0BEC5\",\"#B0BEC5\",\"#B0BEC5\",\"#B0BEC5\",\"#B0BEC5\",\"#B0BEC5\",\"#B0BEC5\",\"#B0BEC5\",\"#B0BEC5\",\"#B0BEC5\",\"#B0BEC5\",\"#B0BEC5\",\"#B0BEC5\",\"#B0BEC5\"]]}],\"label\":\"Topic 35\",\"method\":\"update\"},{\"args\":[{\"marker.color\":[[\"#B0BEC5\",\"#B0BEC5\",\"#B0BEC5\",\"#B0BEC5\",\"#B0BEC5\",\"#B0BEC5\",\"#B0BEC5\",\"#B0BEC5\",\"#B0BEC5\",\"#B0BEC5\",\"#B0BEC5\",\"#B0BEC5\",\"#B0BEC5\",\"#B0BEC5\",\"#B0BEC5\",\"#B0BEC5\",\"#B0BEC5\",\"#B0BEC5\",\"#B0BEC5\",\"#B0BEC5\",\"#B0BEC5\",\"#B0BEC5\",\"#B0BEC5\",\"#B0BEC5\",\"#B0BEC5\",\"#B0BEC5\",\"#B0BEC5\",\"#B0BEC5\",\"#B0BEC5\",\"#B0BEC5\",\"#B0BEC5\",\"#B0BEC5\",\"#B0BEC5\",\"#B0BEC5\",\"#B0BEC5\",\"#B0BEC5\",\"red\",\"#B0BEC5\",\"#B0BEC5\",\"#B0BEC5\",\"#B0BEC5\",\"#B0BEC5\",\"#B0BEC5\",\"#B0BEC5\",\"#B0BEC5\",\"#B0BEC5\",\"#B0BEC5\",\"#B0BEC5\",\"#B0BEC5\",\"#B0BEC5\",\"#B0BEC5\",\"#B0BEC5\",\"#B0BEC5\",\"#B0BEC5\",\"#B0BEC5\",\"#B0BEC5\",\"#B0BEC5\",\"#B0BEC5\",\"#B0BEC5\",\"#B0BEC5\",\"#B0BEC5\",\"#B0BEC5\",\"#B0BEC5\",\"#B0BEC5\",\"#B0BEC5\",\"#B0BEC5\",\"#B0BEC5\",\"#B0BEC5\",\"#B0BEC5\",\"#B0BEC5\",\"#B0BEC5\",\"#B0BEC5\",\"#B0BEC5\",\"#B0BEC5\",\"#B0BEC5\",\"#B0BEC5\",\"#B0BEC5\",\"#B0BEC5\",\"#B0BEC5\",\"#B0BEC5\"]]}],\"label\":\"Topic 36\",\"method\":\"update\"},{\"args\":[{\"marker.color\":[[\"#B0BEC5\",\"#B0BEC5\",\"#B0BEC5\",\"#B0BEC5\",\"#B0BEC5\",\"#B0BEC5\",\"#B0BEC5\",\"#B0BEC5\",\"#B0BEC5\",\"#B0BEC5\",\"#B0BEC5\",\"#B0BEC5\",\"#B0BEC5\",\"#B0BEC5\",\"#B0BEC5\",\"#B0BEC5\",\"#B0BEC5\",\"#B0BEC5\",\"#B0BEC5\",\"#B0BEC5\",\"#B0BEC5\",\"#B0BEC5\",\"#B0BEC5\",\"#B0BEC5\",\"#B0BEC5\",\"#B0BEC5\",\"#B0BEC5\",\"#B0BEC5\",\"#B0BEC5\",\"#B0BEC5\",\"#B0BEC5\",\"#B0BEC5\",\"#B0BEC5\",\"#B0BEC5\",\"#B0BEC5\",\"#B0BEC5\",\"#B0BEC5\",\"red\",\"#B0BEC5\",\"#B0BEC5\",\"#B0BEC5\",\"#B0BEC5\",\"#B0BEC5\",\"#B0BEC5\",\"#B0BEC5\",\"#B0BEC5\",\"#B0BEC5\",\"#B0BEC5\",\"#B0BEC5\",\"#B0BEC5\",\"#B0BEC5\",\"#B0BEC5\",\"#B0BEC5\",\"#B0BEC5\",\"#B0BEC5\",\"#B0BEC5\",\"#B0BEC5\",\"#B0BEC5\",\"#B0BEC5\",\"#B0BEC5\",\"#B0BEC5\",\"#B0BEC5\",\"#B0BEC5\",\"#B0BEC5\",\"#B0BEC5\",\"#B0BEC5\",\"#B0BEC5\",\"#B0BEC5\",\"#B0BEC5\",\"#B0BEC5\",\"#B0BEC5\",\"#B0BEC5\",\"#B0BEC5\",\"#B0BEC5\",\"#B0BEC5\",\"#B0BEC5\",\"#B0BEC5\",\"#B0BEC5\",\"#B0BEC5\",\"#B0BEC5\"]]}],\"label\":\"Topic 37\",\"method\":\"update\"},{\"args\":[{\"marker.color\":[[\"#B0BEC5\",\"#B0BEC5\",\"#B0BEC5\",\"#B0BEC5\",\"#B0BEC5\",\"#B0BEC5\",\"#B0BEC5\",\"#B0BEC5\",\"#B0BEC5\",\"#B0BEC5\",\"#B0BEC5\",\"#B0BEC5\",\"#B0BEC5\",\"#B0BEC5\",\"#B0BEC5\",\"#B0BEC5\",\"#B0BEC5\",\"#B0BEC5\",\"#B0BEC5\",\"#B0BEC5\",\"#B0BEC5\",\"#B0BEC5\",\"#B0BEC5\",\"#B0BEC5\",\"#B0BEC5\",\"#B0BEC5\",\"#B0BEC5\",\"#B0BEC5\",\"#B0BEC5\",\"#B0BEC5\",\"#B0BEC5\",\"#B0BEC5\",\"#B0BEC5\",\"#B0BEC5\",\"#B0BEC5\",\"#B0BEC5\",\"#B0BEC5\",\"#B0BEC5\",\"red\",\"#B0BEC5\",\"#B0BEC5\",\"#B0BEC5\",\"#B0BEC5\",\"#B0BEC5\",\"#B0BEC5\",\"#B0BEC5\",\"#B0BEC5\",\"#B0BEC5\",\"#B0BEC5\",\"#B0BEC5\",\"#B0BEC5\",\"#B0BEC5\",\"#B0BEC5\",\"#B0BEC5\",\"#B0BEC5\",\"#B0BEC5\",\"#B0BEC5\",\"#B0BEC5\",\"#B0BEC5\",\"#B0BEC5\",\"#B0BEC5\",\"#B0BEC5\",\"#B0BEC5\",\"#B0BEC5\",\"#B0BEC5\",\"#B0BEC5\",\"#B0BEC5\",\"#B0BEC5\",\"#B0BEC5\",\"#B0BEC5\",\"#B0BEC5\",\"#B0BEC5\",\"#B0BEC5\",\"#B0BEC5\",\"#B0BEC5\",\"#B0BEC5\",\"#B0BEC5\",\"#B0BEC5\",\"#B0BEC5\",\"#B0BEC5\"]]}],\"label\":\"Topic 38\",\"method\":\"update\"},{\"args\":[{\"marker.color\":[[\"#B0BEC5\",\"#B0BEC5\",\"#B0BEC5\",\"#B0BEC5\",\"#B0BEC5\",\"#B0BEC5\",\"#B0BEC5\",\"#B0BEC5\",\"#B0BEC5\",\"#B0BEC5\",\"#B0BEC5\",\"#B0BEC5\",\"#B0BEC5\",\"#B0BEC5\",\"#B0BEC5\",\"#B0BEC5\",\"#B0BEC5\",\"#B0BEC5\",\"#B0BEC5\",\"#B0BEC5\",\"#B0BEC5\",\"#B0BEC5\",\"#B0BEC5\",\"#B0BEC5\",\"#B0BEC5\",\"#B0BEC5\",\"#B0BEC5\",\"#B0BEC5\",\"#B0BEC5\",\"#B0BEC5\",\"#B0BEC5\",\"#B0BEC5\",\"#B0BEC5\",\"#B0BEC5\",\"#B0BEC5\",\"#B0BEC5\",\"#B0BEC5\",\"#B0BEC5\",\"#B0BEC5\",\"red\",\"#B0BEC5\",\"#B0BEC5\",\"#B0BEC5\",\"#B0BEC5\",\"#B0BEC5\",\"#B0BEC5\",\"#B0BEC5\",\"#B0BEC5\",\"#B0BEC5\",\"#B0BEC5\",\"#B0BEC5\",\"#B0BEC5\",\"#B0BEC5\",\"#B0BEC5\",\"#B0BEC5\",\"#B0BEC5\",\"#B0BEC5\",\"#B0BEC5\",\"#B0BEC5\",\"#B0BEC5\",\"#B0BEC5\",\"#B0BEC5\",\"#B0BEC5\",\"#B0BEC5\",\"#B0BEC5\",\"#B0BEC5\",\"#B0BEC5\",\"#B0BEC5\",\"#B0BEC5\",\"#B0BEC5\",\"#B0BEC5\",\"#B0BEC5\",\"#B0BEC5\",\"#B0BEC5\",\"#B0BEC5\",\"#B0BEC5\",\"#B0BEC5\",\"#B0BEC5\",\"#B0BEC5\",\"#B0BEC5\"]]}],\"label\":\"Topic 39\",\"method\":\"update\"},{\"args\":[{\"marker.color\":[[\"#B0BEC5\",\"#B0BEC5\",\"#B0BEC5\",\"#B0BEC5\",\"#B0BEC5\",\"#B0BEC5\",\"#B0BEC5\",\"#B0BEC5\",\"#B0BEC5\",\"#B0BEC5\",\"#B0BEC5\",\"#B0BEC5\",\"#B0BEC5\",\"#B0BEC5\",\"#B0BEC5\",\"#B0BEC5\",\"#B0BEC5\",\"#B0BEC5\",\"#B0BEC5\",\"#B0BEC5\",\"#B0BEC5\",\"#B0BEC5\",\"#B0BEC5\",\"#B0BEC5\",\"#B0BEC5\",\"#B0BEC5\",\"#B0BEC5\",\"#B0BEC5\",\"#B0BEC5\",\"#B0BEC5\",\"#B0BEC5\",\"#B0BEC5\",\"#B0BEC5\",\"#B0BEC5\",\"#B0BEC5\",\"#B0BEC5\",\"#B0BEC5\",\"#B0BEC5\",\"#B0BEC5\",\"#B0BEC5\",\"red\",\"#B0BEC5\",\"#B0BEC5\",\"#B0BEC5\",\"#B0BEC5\",\"#B0BEC5\",\"#B0BEC5\",\"#B0BEC5\",\"#B0BEC5\",\"#B0BEC5\",\"#B0BEC5\",\"#B0BEC5\",\"#B0BEC5\",\"#B0BEC5\",\"#B0BEC5\",\"#B0BEC5\",\"#B0BEC5\",\"#B0BEC5\",\"#B0BEC5\",\"#B0BEC5\",\"#B0BEC5\",\"#B0BEC5\",\"#B0BEC5\",\"#B0BEC5\",\"#B0BEC5\",\"#B0BEC5\",\"#B0BEC5\",\"#B0BEC5\",\"#B0BEC5\",\"#B0BEC5\",\"#B0BEC5\",\"#B0BEC5\",\"#B0BEC5\",\"#B0BEC5\",\"#B0BEC5\",\"#B0BEC5\",\"#B0BEC5\",\"#B0BEC5\",\"#B0BEC5\",\"#B0BEC5\"]]}],\"label\":\"Topic 40\",\"method\":\"update\"},{\"args\":[{\"marker.color\":[[\"#B0BEC5\",\"#B0BEC5\",\"#B0BEC5\",\"#B0BEC5\",\"#B0BEC5\",\"#B0BEC5\",\"#B0BEC5\",\"#B0BEC5\",\"#B0BEC5\",\"#B0BEC5\",\"#B0BEC5\",\"#B0BEC5\",\"#B0BEC5\",\"#B0BEC5\",\"#B0BEC5\",\"#B0BEC5\",\"#B0BEC5\",\"#B0BEC5\",\"#B0BEC5\",\"#B0BEC5\",\"#B0BEC5\",\"#B0BEC5\",\"#B0BEC5\",\"#B0BEC5\",\"#B0BEC5\",\"#B0BEC5\",\"#B0BEC5\",\"#B0BEC5\",\"#B0BEC5\",\"#B0BEC5\",\"#B0BEC5\",\"#B0BEC5\",\"#B0BEC5\",\"#B0BEC5\",\"#B0BEC5\",\"#B0BEC5\",\"#B0BEC5\",\"#B0BEC5\",\"#B0BEC5\",\"#B0BEC5\",\"#B0BEC5\",\"red\",\"#B0BEC5\",\"#B0BEC5\",\"#B0BEC5\",\"#B0BEC5\",\"#B0BEC5\",\"#B0BEC5\",\"#B0BEC5\",\"#B0BEC5\",\"#B0BEC5\",\"#B0BEC5\",\"#B0BEC5\",\"#B0BEC5\",\"#B0BEC5\",\"#B0BEC5\",\"#B0BEC5\",\"#B0BEC5\",\"#B0BEC5\",\"#B0BEC5\",\"#B0BEC5\",\"#B0BEC5\",\"#B0BEC5\",\"#B0BEC5\",\"#B0BEC5\",\"#B0BEC5\",\"#B0BEC5\",\"#B0BEC5\",\"#B0BEC5\",\"#B0BEC5\",\"#B0BEC5\",\"#B0BEC5\",\"#B0BEC5\",\"#B0BEC5\",\"#B0BEC5\",\"#B0BEC5\",\"#B0BEC5\",\"#B0BEC5\",\"#B0BEC5\",\"#B0BEC5\"]]}],\"label\":\"Topic 41\",\"method\":\"update\"},{\"args\":[{\"marker.color\":[[\"#B0BEC5\",\"#B0BEC5\",\"#B0BEC5\",\"#B0BEC5\",\"#B0BEC5\",\"#B0BEC5\",\"#B0BEC5\",\"#B0BEC5\",\"#B0BEC5\",\"#B0BEC5\",\"#B0BEC5\",\"#B0BEC5\",\"#B0BEC5\",\"#B0BEC5\",\"#B0BEC5\",\"#B0BEC5\",\"#B0BEC5\",\"#B0BEC5\",\"#B0BEC5\",\"#B0BEC5\",\"#B0BEC5\",\"#B0BEC5\",\"#B0BEC5\",\"#B0BEC5\",\"#B0BEC5\",\"#B0BEC5\",\"#B0BEC5\",\"#B0BEC5\",\"#B0BEC5\",\"#B0BEC5\",\"#B0BEC5\",\"#B0BEC5\",\"#B0BEC5\",\"#B0BEC5\",\"#B0BEC5\",\"#B0BEC5\",\"#B0BEC5\",\"#B0BEC5\",\"#B0BEC5\",\"#B0BEC5\",\"#B0BEC5\",\"#B0BEC5\",\"red\",\"#B0BEC5\",\"#B0BEC5\",\"#B0BEC5\",\"#B0BEC5\",\"#B0BEC5\",\"#B0BEC5\",\"#B0BEC5\",\"#B0BEC5\",\"#B0BEC5\",\"#B0BEC5\",\"#B0BEC5\",\"#B0BEC5\",\"#B0BEC5\",\"#B0BEC5\",\"#B0BEC5\",\"#B0BEC5\",\"#B0BEC5\",\"#B0BEC5\",\"#B0BEC5\",\"#B0BEC5\",\"#B0BEC5\",\"#B0BEC5\",\"#B0BEC5\",\"#B0BEC5\",\"#B0BEC5\",\"#B0BEC5\",\"#B0BEC5\",\"#B0BEC5\",\"#B0BEC5\",\"#B0BEC5\",\"#B0BEC5\",\"#B0BEC5\",\"#B0BEC5\",\"#B0BEC5\",\"#B0BEC5\",\"#B0BEC5\",\"#B0BEC5\"]]}],\"label\":\"Topic 42\",\"method\":\"update\"},{\"args\":[{\"marker.color\":[[\"#B0BEC5\",\"#B0BEC5\",\"#B0BEC5\",\"#B0BEC5\",\"#B0BEC5\",\"#B0BEC5\",\"#B0BEC5\",\"#B0BEC5\",\"#B0BEC5\",\"#B0BEC5\",\"#B0BEC5\",\"#B0BEC5\",\"#B0BEC5\",\"#B0BEC5\",\"#B0BEC5\",\"#B0BEC5\",\"#B0BEC5\",\"#B0BEC5\",\"#B0BEC5\",\"#B0BEC5\",\"#B0BEC5\",\"#B0BEC5\",\"#B0BEC5\",\"#B0BEC5\",\"#B0BEC5\",\"#B0BEC5\",\"#B0BEC5\",\"#B0BEC5\",\"#B0BEC5\",\"#B0BEC5\",\"#B0BEC5\",\"#B0BEC5\",\"#B0BEC5\",\"#B0BEC5\",\"#B0BEC5\",\"#B0BEC5\",\"#B0BEC5\",\"#B0BEC5\",\"#B0BEC5\",\"#B0BEC5\",\"#B0BEC5\",\"#B0BEC5\",\"#B0BEC5\",\"red\",\"#B0BEC5\",\"#B0BEC5\",\"#B0BEC5\",\"#B0BEC5\",\"#B0BEC5\",\"#B0BEC5\",\"#B0BEC5\",\"#B0BEC5\",\"#B0BEC5\",\"#B0BEC5\",\"#B0BEC5\",\"#B0BEC5\",\"#B0BEC5\",\"#B0BEC5\",\"#B0BEC5\",\"#B0BEC5\",\"#B0BEC5\",\"#B0BEC5\",\"#B0BEC5\",\"#B0BEC5\",\"#B0BEC5\",\"#B0BEC5\",\"#B0BEC5\",\"#B0BEC5\",\"#B0BEC5\",\"#B0BEC5\",\"#B0BEC5\",\"#B0BEC5\",\"#B0BEC5\",\"#B0BEC5\",\"#B0BEC5\",\"#B0BEC5\",\"#B0BEC5\",\"#B0BEC5\",\"#B0BEC5\",\"#B0BEC5\"]]}],\"label\":\"Topic 43\",\"method\":\"update\"},{\"args\":[{\"marker.color\":[[\"#B0BEC5\",\"#B0BEC5\",\"#B0BEC5\",\"#B0BEC5\",\"#B0BEC5\",\"#B0BEC5\",\"#B0BEC5\",\"#B0BEC5\",\"#B0BEC5\",\"#B0BEC5\",\"#B0BEC5\",\"#B0BEC5\",\"#B0BEC5\",\"#B0BEC5\",\"#B0BEC5\",\"#B0BEC5\",\"#B0BEC5\",\"#B0BEC5\",\"#B0BEC5\",\"#B0BEC5\",\"#B0BEC5\",\"#B0BEC5\",\"#B0BEC5\",\"#B0BEC5\",\"#B0BEC5\",\"#B0BEC5\",\"#B0BEC5\",\"#B0BEC5\",\"#B0BEC5\",\"#B0BEC5\",\"#B0BEC5\",\"#B0BEC5\",\"#B0BEC5\",\"#B0BEC5\",\"#B0BEC5\",\"#B0BEC5\",\"#B0BEC5\",\"#B0BEC5\",\"#B0BEC5\",\"#B0BEC5\",\"#B0BEC5\",\"#B0BEC5\",\"#B0BEC5\",\"#B0BEC5\",\"red\",\"#B0BEC5\",\"#B0BEC5\",\"#B0BEC5\",\"#B0BEC5\",\"#B0BEC5\",\"#B0BEC5\",\"#B0BEC5\",\"#B0BEC5\",\"#B0BEC5\",\"#B0BEC5\",\"#B0BEC5\",\"#B0BEC5\",\"#B0BEC5\",\"#B0BEC5\",\"#B0BEC5\",\"#B0BEC5\",\"#B0BEC5\",\"#B0BEC5\",\"#B0BEC5\",\"#B0BEC5\",\"#B0BEC5\",\"#B0BEC5\",\"#B0BEC5\",\"#B0BEC5\",\"#B0BEC5\",\"#B0BEC5\",\"#B0BEC5\",\"#B0BEC5\",\"#B0BEC5\",\"#B0BEC5\",\"#B0BEC5\",\"#B0BEC5\",\"#B0BEC5\",\"#B0BEC5\",\"#B0BEC5\"]]}],\"label\":\"Topic 44\",\"method\":\"update\"},{\"args\":[{\"marker.color\":[[\"#B0BEC5\",\"#B0BEC5\",\"#B0BEC5\",\"#B0BEC5\",\"#B0BEC5\",\"#B0BEC5\",\"#B0BEC5\",\"#B0BEC5\",\"#B0BEC5\",\"#B0BEC5\",\"#B0BEC5\",\"#B0BEC5\",\"#B0BEC5\",\"#B0BEC5\",\"#B0BEC5\",\"#B0BEC5\",\"#B0BEC5\",\"#B0BEC5\",\"#B0BEC5\",\"#B0BEC5\",\"#B0BEC5\",\"#B0BEC5\",\"#B0BEC5\",\"#B0BEC5\",\"#B0BEC5\",\"#B0BEC5\",\"#B0BEC5\",\"#B0BEC5\",\"#B0BEC5\",\"#B0BEC5\",\"#B0BEC5\",\"#B0BEC5\",\"#B0BEC5\",\"#B0BEC5\",\"#B0BEC5\",\"#B0BEC5\",\"#B0BEC5\",\"#B0BEC5\",\"#B0BEC5\",\"#B0BEC5\",\"#B0BEC5\",\"#B0BEC5\",\"#B0BEC5\",\"#B0BEC5\",\"#B0BEC5\",\"red\",\"#B0BEC5\",\"#B0BEC5\",\"#B0BEC5\",\"#B0BEC5\",\"#B0BEC5\",\"#B0BEC5\",\"#B0BEC5\",\"#B0BEC5\",\"#B0BEC5\",\"#B0BEC5\",\"#B0BEC5\",\"#B0BEC5\",\"#B0BEC5\",\"#B0BEC5\",\"#B0BEC5\",\"#B0BEC5\",\"#B0BEC5\",\"#B0BEC5\",\"#B0BEC5\",\"#B0BEC5\",\"#B0BEC5\",\"#B0BEC5\",\"#B0BEC5\",\"#B0BEC5\",\"#B0BEC5\",\"#B0BEC5\",\"#B0BEC5\",\"#B0BEC5\",\"#B0BEC5\",\"#B0BEC5\",\"#B0BEC5\",\"#B0BEC5\",\"#B0BEC5\",\"#B0BEC5\"]]}],\"label\":\"Topic 45\",\"method\":\"update\"},{\"args\":[{\"marker.color\":[[\"#B0BEC5\",\"#B0BEC5\",\"#B0BEC5\",\"#B0BEC5\",\"#B0BEC5\",\"#B0BEC5\",\"#B0BEC5\",\"#B0BEC5\",\"#B0BEC5\",\"#B0BEC5\",\"#B0BEC5\",\"#B0BEC5\",\"#B0BEC5\",\"#B0BEC5\",\"#B0BEC5\",\"#B0BEC5\",\"#B0BEC5\",\"#B0BEC5\",\"#B0BEC5\",\"#B0BEC5\",\"#B0BEC5\",\"#B0BEC5\",\"#B0BEC5\",\"#B0BEC5\",\"#B0BEC5\",\"#B0BEC5\",\"#B0BEC5\",\"#B0BEC5\",\"#B0BEC5\",\"#B0BEC5\",\"#B0BEC5\",\"#B0BEC5\",\"#B0BEC5\",\"#B0BEC5\",\"#B0BEC5\",\"#B0BEC5\",\"#B0BEC5\",\"#B0BEC5\",\"#B0BEC5\",\"#B0BEC5\",\"#B0BEC5\",\"#B0BEC5\",\"#B0BEC5\",\"#B0BEC5\",\"#B0BEC5\",\"#B0BEC5\",\"red\",\"#B0BEC5\",\"#B0BEC5\",\"#B0BEC5\",\"#B0BEC5\",\"#B0BEC5\",\"#B0BEC5\",\"#B0BEC5\",\"#B0BEC5\",\"#B0BEC5\",\"#B0BEC5\",\"#B0BEC5\",\"#B0BEC5\",\"#B0BEC5\",\"#B0BEC5\",\"#B0BEC5\",\"#B0BEC5\",\"#B0BEC5\",\"#B0BEC5\",\"#B0BEC5\",\"#B0BEC5\",\"#B0BEC5\",\"#B0BEC5\",\"#B0BEC5\",\"#B0BEC5\",\"#B0BEC5\",\"#B0BEC5\",\"#B0BEC5\",\"#B0BEC5\",\"#B0BEC5\",\"#B0BEC5\",\"#B0BEC5\",\"#B0BEC5\",\"#B0BEC5\"]]}],\"label\":\"Topic 46\",\"method\":\"update\"},{\"args\":[{\"marker.color\":[[\"#B0BEC5\",\"#B0BEC5\",\"#B0BEC5\",\"#B0BEC5\",\"#B0BEC5\",\"#B0BEC5\",\"#B0BEC5\",\"#B0BEC5\",\"#B0BEC5\",\"#B0BEC5\",\"#B0BEC5\",\"#B0BEC5\",\"#B0BEC5\",\"#B0BEC5\",\"#B0BEC5\",\"#B0BEC5\",\"#B0BEC5\",\"#B0BEC5\",\"#B0BEC5\",\"#B0BEC5\",\"#B0BEC5\",\"#B0BEC5\",\"#B0BEC5\",\"#B0BEC5\",\"#B0BEC5\",\"#B0BEC5\",\"#B0BEC5\",\"#B0BEC5\",\"#B0BEC5\",\"#B0BEC5\",\"#B0BEC5\",\"#B0BEC5\",\"#B0BEC5\",\"#B0BEC5\",\"#B0BEC5\",\"#B0BEC5\",\"#B0BEC5\",\"#B0BEC5\",\"#B0BEC5\",\"#B0BEC5\",\"#B0BEC5\",\"#B0BEC5\",\"#B0BEC5\",\"#B0BEC5\",\"#B0BEC5\",\"#B0BEC5\",\"#B0BEC5\",\"red\",\"#B0BEC5\",\"#B0BEC5\",\"#B0BEC5\",\"#B0BEC5\",\"#B0BEC5\",\"#B0BEC5\",\"#B0BEC5\",\"#B0BEC5\",\"#B0BEC5\",\"#B0BEC5\",\"#B0BEC5\",\"#B0BEC5\",\"#B0BEC5\",\"#B0BEC5\",\"#B0BEC5\",\"#B0BEC5\",\"#B0BEC5\",\"#B0BEC5\",\"#B0BEC5\",\"#B0BEC5\",\"#B0BEC5\",\"#B0BEC5\",\"#B0BEC5\",\"#B0BEC5\",\"#B0BEC5\",\"#B0BEC5\",\"#B0BEC5\",\"#B0BEC5\",\"#B0BEC5\",\"#B0BEC5\",\"#B0BEC5\",\"#B0BEC5\"]]}],\"label\":\"Topic 47\",\"method\":\"update\"},{\"args\":[{\"marker.color\":[[\"#B0BEC5\",\"#B0BEC5\",\"#B0BEC5\",\"#B0BEC5\",\"#B0BEC5\",\"#B0BEC5\",\"#B0BEC5\",\"#B0BEC5\",\"#B0BEC5\",\"#B0BEC5\",\"#B0BEC5\",\"#B0BEC5\",\"#B0BEC5\",\"#B0BEC5\",\"#B0BEC5\",\"#B0BEC5\",\"#B0BEC5\",\"#B0BEC5\",\"#B0BEC5\",\"#B0BEC5\",\"#B0BEC5\",\"#B0BEC5\",\"#B0BEC5\",\"#B0BEC5\",\"#B0BEC5\",\"#B0BEC5\",\"#B0BEC5\",\"#B0BEC5\",\"#B0BEC5\",\"#B0BEC5\",\"#B0BEC5\",\"#B0BEC5\",\"#B0BEC5\",\"#B0BEC5\",\"#B0BEC5\",\"#B0BEC5\",\"#B0BEC5\",\"#B0BEC5\",\"#B0BEC5\",\"#B0BEC5\",\"#B0BEC5\",\"#B0BEC5\",\"#B0BEC5\",\"#B0BEC5\",\"#B0BEC5\",\"#B0BEC5\",\"#B0BEC5\",\"#B0BEC5\",\"red\",\"#B0BEC5\",\"#B0BEC5\",\"#B0BEC5\",\"#B0BEC5\",\"#B0BEC5\",\"#B0BEC5\",\"#B0BEC5\",\"#B0BEC5\",\"#B0BEC5\",\"#B0BEC5\",\"#B0BEC5\",\"#B0BEC5\",\"#B0BEC5\",\"#B0BEC5\",\"#B0BEC5\",\"#B0BEC5\",\"#B0BEC5\",\"#B0BEC5\",\"#B0BEC5\",\"#B0BEC5\",\"#B0BEC5\",\"#B0BEC5\",\"#B0BEC5\",\"#B0BEC5\",\"#B0BEC5\",\"#B0BEC5\",\"#B0BEC5\",\"#B0BEC5\",\"#B0BEC5\",\"#B0BEC5\",\"#B0BEC5\"]]}],\"label\":\"Topic 48\",\"method\":\"update\"},{\"args\":[{\"marker.color\":[[\"#B0BEC5\",\"#B0BEC5\",\"#B0BEC5\",\"#B0BEC5\",\"#B0BEC5\",\"#B0BEC5\",\"#B0BEC5\",\"#B0BEC5\",\"#B0BEC5\",\"#B0BEC5\",\"#B0BEC5\",\"#B0BEC5\",\"#B0BEC5\",\"#B0BEC5\",\"#B0BEC5\",\"#B0BEC5\",\"#B0BEC5\",\"#B0BEC5\",\"#B0BEC5\",\"#B0BEC5\",\"#B0BEC5\",\"#B0BEC5\",\"#B0BEC5\",\"#B0BEC5\",\"#B0BEC5\",\"#B0BEC5\",\"#B0BEC5\",\"#B0BEC5\",\"#B0BEC5\",\"#B0BEC5\",\"#B0BEC5\",\"#B0BEC5\",\"#B0BEC5\",\"#B0BEC5\",\"#B0BEC5\",\"#B0BEC5\",\"#B0BEC5\",\"#B0BEC5\",\"#B0BEC5\",\"#B0BEC5\",\"#B0BEC5\",\"#B0BEC5\",\"#B0BEC5\",\"#B0BEC5\",\"#B0BEC5\",\"#B0BEC5\",\"#B0BEC5\",\"#B0BEC5\",\"#B0BEC5\",\"red\",\"#B0BEC5\",\"#B0BEC5\",\"#B0BEC5\",\"#B0BEC5\",\"#B0BEC5\",\"#B0BEC5\",\"#B0BEC5\",\"#B0BEC5\",\"#B0BEC5\",\"#B0BEC5\",\"#B0BEC5\",\"#B0BEC5\",\"#B0BEC5\",\"#B0BEC5\",\"#B0BEC5\",\"#B0BEC5\",\"#B0BEC5\",\"#B0BEC5\",\"#B0BEC5\",\"#B0BEC5\",\"#B0BEC5\",\"#B0BEC5\",\"#B0BEC5\",\"#B0BEC5\",\"#B0BEC5\",\"#B0BEC5\",\"#B0BEC5\",\"#B0BEC5\",\"#B0BEC5\",\"#B0BEC5\"]]}],\"label\":\"Topic 49\",\"method\":\"update\"},{\"args\":[{\"marker.color\":[[\"#B0BEC5\",\"#B0BEC5\",\"#B0BEC5\",\"#B0BEC5\",\"#B0BEC5\",\"#B0BEC5\",\"#B0BEC5\",\"#B0BEC5\",\"#B0BEC5\",\"#B0BEC5\",\"#B0BEC5\",\"#B0BEC5\",\"#B0BEC5\",\"#B0BEC5\",\"#B0BEC5\",\"#B0BEC5\",\"#B0BEC5\",\"#B0BEC5\",\"#B0BEC5\",\"#B0BEC5\",\"#B0BEC5\",\"#B0BEC5\",\"#B0BEC5\",\"#B0BEC5\",\"#B0BEC5\",\"#B0BEC5\",\"#B0BEC5\",\"#B0BEC5\",\"#B0BEC5\",\"#B0BEC5\",\"#B0BEC5\",\"#B0BEC5\",\"#B0BEC5\",\"#B0BEC5\",\"#B0BEC5\",\"#B0BEC5\",\"#B0BEC5\",\"#B0BEC5\",\"#B0BEC5\",\"#B0BEC5\",\"#B0BEC5\",\"#B0BEC5\",\"#B0BEC5\",\"#B0BEC5\",\"#B0BEC5\",\"#B0BEC5\",\"#B0BEC5\",\"#B0BEC5\",\"#B0BEC5\",\"#B0BEC5\",\"red\",\"#B0BEC5\",\"#B0BEC5\",\"#B0BEC5\",\"#B0BEC5\",\"#B0BEC5\",\"#B0BEC5\",\"#B0BEC5\",\"#B0BEC5\",\"#B0BEC5\",\"#B0BEC5\",\"#B0BEC5\",\"#B0BEC5\",\"#B0BEC5\",\"#B0BEC5\",\"#B0BEC5\",\"#B0BEC5\",\"#B0BEC5\",\"#B0BEC5\",\"#B0BEC5\",\"#B0BEC5\",\"#B0BEC5\",\"#B0BEC5\",\"#B0BEC5\",\"#B0BEC5\",\"#B0BEC5\",\"#B0BEC5\",\"#B0BEC5\",\"#B0BEC5\",\"#B0BEC5\"]]}],\"label\":\"Topic 50\",\"method\":\"update\"},{\"args\":[{\"marker.color\":[[\"#B0BEC5\",\"#B0BEC5\",\"#B0BEC5\",\"#B0BEC5\",\"#B0BEC5\",\"#B0BEC5\",\"#B0BEC5\",\"#B0BEC5\",\"#B0BEC5\",\"#B0BEC5\",\"#B0BEC5\",\"#B0BEC5\",\"#B0BEC5\",\"#B0BEC5\",\"#B0BEC5\",\"#B0BEC5\",\"#B0BEC5\",\"#B0BEC5\",\"#B0BEC5\",\"#B0BEC5\",\"#B0BEC5\",\"#B0BEC5\",\"#B0BEC5\",\"#B0BEC5\",\"#B0BEC5\",\"#B0BEC5\",\"#B0BEC5\",\"#B0BEC5\",\"#B0BEC5\",\"#B0BEC5\",\"#B0BEC5\",\"#B0BEC5\",\"#B0BEC5\",\"#B0BEC5\",\"#B0BEC5\",\"#B0BEC5\",\"#B0BEC5\",\"#B0BEC5\",\"#B0BEC5\",\"#B0BEC5\",\"#B0BEC5\",\"#B0BEC5\",\"#B0BEC5\",\"#B0BEC5\",\"#B0BEC5\",\"#B0BEC5\",\"#B0BEC5\",\"#B0BEC5\",\"#B0BEC5\",\"#B0BEC5\",\"#B0BEC5\",\"red\",\"#B0BEC5\",\"#B0BEC5\",\"#B0BEC5\",\"#B0BEC5\",\"#B0BEC5\",\"#B0BEC5\",\"#B0BEC5\",\"#B0BEC5\",\"#B0BEC5\",\"#B0BEC5\",\"#B0BEC5\",\"#B0BEC5\",\"#B0BEC5\",\"#B0BEC5\",\"#B0BEC5\",\"#B0BEC5\",\"#B0BEC5\",\"#B0BEC5\",\"#B0BEC5\",\"#B0BEC5\",\"#B0BEC5\",\"#B0BEC5\",\"#B0BEC5\",\"#B0BEC5\",\"#B0BEC5\",\"#B0BEC5\",\"#B0BEC5\",\"#B0BEC5\"]]}],\"label\":\"Topic 51\",\"method\":\"update\"},{\"args\":[{\"marker.color\":[[\"#B0BEC5\",\"#B0BEC5\",\"#B0BEC5\",\"#B0BEC5\",\"#B0BEC5\",\"#B0BEC5\",\"#B0BEC5\",\"#B0BEC5\",\"#B0BEC5\",\"#B0BEC5\",\"#B0BEC5\",\"#B0BEC5\",\"#B0BEC5\",\"#B0BEC5\",\"#B0BEC5\",\"#B0BEC5\",\"#B0BEC5\",\"#B0BEC5\",\"#B0BEC5\",\"#B0BEC5\",\"#B0BEC5\",\"#B0BEC5\",\"#B0BEC5\",\"#B0BEC5\",\"#B0BEC5\",\"#B0BEC5\",\"#B0BEC5\",\"#B0BEC5\",\"#B0BEC5\",\"#B0BEC5\",\"#B0BEC5\",\"#B0BEC5\",\"#B0BEC5\",\"#B0BEC5\",\"#B0BEC5\",\"#B0BEC5\",\"#B0BEC5\",\"#B0BEC5\",\"#B0BEC5\",\"#B0BEC5\",\"#B0BEC5\",\"#B0BEC5\",\"#B0BEC5\",\"#B0BEC5\",\"#B0BEC5\",\"#B0BEC5\",\"#B0BEC5\",\"#B0BEC5\",\"#B0BEC5\",\"#B0BEC5\",\"#B0BEC5\",\"#B0BEC5\",\"red\",\"#B0BEC5\",\"#B0BEC5\",\"#B0BEC5\",\"#B0BEC5\",\"#B0BEC5\",\"#B0BEC5\",\"#B0BEC5\",\"#B0BEC5\",\"#B0BEC5\",\"#B0BEC5\",\"#B0BEC5\",\"#B0BEC5\",\"#B0BEC5\",\"#B0BEC5\",\"#B0BEC5\",\"#B0BEC5\",\"#B0BEC5\",\"#B0BEC5\",\"#B0BEC5\",\"#B0BEC5\",\"#B0BEC5\",\"#B0BEC5\",\"#B0BEC5\",\"#B0BEC5\",\"#B0BEC5\",\"#B0BEC5\",\"#B0BEC5\"]]}],\"label\":\"Topic 52\",\"method\":\"update\"},{\"args\":[{\"marker.color\":[[\"#B0BEC5\",\"#B0BEC5\",\"#B0BEC5\",\"#B0BEC5\",\"#B0BEC5\",\"#B0BEC5\",\"#B0BEC5\",\"#B0BEC5\",\"#B0BEC5\",\"#B0BEC5\",\"#B0BEC5\",\"#B0BEC5\",\"#B0BEC5\",\"#B0BEC5\",\"#B0BEC5\",\"#B0BEC5\",\"#B0BEC5\",\"#B0BEC5\",\"#B0BEC5\",\"#B0BEC5\",\"#B0BEC5\",\"#B0BEC5\",\"#B0BEC5\",\"#B0BEC5\",\"#B0BEC5\",\"#B0BEC5\",\"#B0BEC5\",\"#B0BEC5\",\"#B0BEC5\",\"#B0BEC5\",\"#B0BEC5\",\"#B0BEC5\",\"#B0BEC5\",\"#B0BEC5\",\"#B0BEC5\",\"#B0BEC5\",\"#B0BEC5\",\"#B0BEC5\",\"#B0BEC5\",\"#B0BEC5\",\"#B0BEC5\",\"#B0BEC5\",\"#B0BEC5\",\"#B0BEC5\",\"#B0BEC5\",\"#B0BEC5\",\"#B0BEC5\",\"#B0BEC5\",\"#B0BEC5\",\"#B0BEC5\",\"#B0BEC5\",\"#B0BEC5\",\"#B0BEC5\",\"red\",\"#B0BEC5\",\"#B0BEC5\",\"#B0BEC5\",\"#B0BEC5\",\"#B0BEC5\",\"#B0BEC5\",\"#B0BEC5\",\"#B0BEC5\",\"#B0BEC5\",\"#B0BEC5\",\"#B0BEC5\",\"#B0BEC5\",\"#B0BEC5\",\"#B0BEC5\",\"#B0BEC5\",\"#B0BEC5\",\"#B0BEC5\",\"#B0BEC5\",\"#B0BEC5\",\"#B0BEC5\",\"#B0BEC5\",\"#B0BEC5\",\"#B0BEC5\",\"#B0BEC5\",\"#B0BEC5\",\"#B0BEC5\"]]}],\"label\":\"Topic 53\",\"method\":\"update\"},{\"args\":[{\"marker.color\":[[\"#B0BEC5\",\"#B0BEC5\",\"#B0BEC5\",\"#B0BEC5\",\"#B0BEC5\",\"#B0BEC5\",\"#B0BEC5\",\"#B0BEC5\",\"#B0BEC5\",\"#B0BEC5\",\"#B0BEC5\",\"#B0BEC5\",\"#B0BEC5\",\"#B0BEC5\",\"#B0BEC5\",\"#B0BEC5\",\"#B0BEC5\",\"#B0BEC5\",\"#B0BEC5\",\"#B0BEC5\",\"#B0BEC5\",\"#B0BEC5\",\"#B0BEC5\",\"#B0BEC5\",\"#B0BEC5\",\"#B0BEC5\",\"#B0BEC5\",\"#B0BEC5\",\"#B0BEC5\",\"#B0BEC5\",\"#B0BEC5\",\"#B0BEC5\",\"#B0BEC5\",\"#B0BEC5\",\"#B0BEC5\",\"#B0BEC5\",\"#B0BEC5\",\"#B0BEC5\",\"#B0BEC5\",\"#B0BEC5\",\"#B0BEC5\",\"#B0BEC5\",\"#B0BEC5\",\"#B0BEC5\",\"#B0BEC5\",\"#B0BEC5\",\"#B0BEC5\",\"#B0BEC5\",\"#B0BEC5\",\"#B0BEC5\",\"#B0BEC5\",\"#B0BEC5\",\"#B0BEC5\",\"#B0BEC5\",\"red\",\"#B0BEC5\",\"#B0BEC5\",\"#B0BEC5\",\"#B0BEC5\",\"#B0BEC5\",\"#B0BEC5\",\"#B0BEC5\",\"#B0BEC5\",\"#B0BEC5\",\"#B0BEC5\",\"#B0BEC5\",\"#B0BEC5\",\"#B0BEC5\",\"#B0BEC5\",\"#B0BEC5\",\"#B0BEC5\",\"#B0BEC5\",\"#B0BEC5\",\"#B0BEC5\",\"#B0BEC5\",\"#B0BEC5\",\"#B0BEC5\",\"#B0BEC5\",\"#B0BEC5\",\"#B0BEC5\"]]}],\"label\":\"Topic 54\",\"method\":\"update\"},{\"args\":[{\"marker.color\":[[\"#B0BEC5\",\"#B0BEC5\",\"#B0BEC5\",\"#B0BEC5\",\"#B0BEC5\",\"#B0BEC5\",\"#B0BEC5\",\"#B0BEC5\",\"#B0BEC5\",\"#B0BEC5\",\"#B0BEC5\",\"#B0BEC5\",\"#B0BEC5\",\"#B0BEC5\",\"#B0BEC5\",\"#B0BEC5\",\"#B0BEC5\",\"#B0BEC5\",\"#B0BEC5\",\"#B0BEC5\",\"#B0BEC5\",\"#B0BEC5\",\"#B0BEC5\",\"#B0BEC5\",\"#B0BEC5\",\"#B0BEC5\",\"#B0BEC5\",\"#B0BEC5\",\"#B0BEC5\",\"#B0BEC5\",\"#B0BEC5\",\"#B0BEC5\",\"#B0BEC5\",\"#B0BEC5\",\"#B0BEC5\",\"#B0BEC5\",\"#B0BEC5\",\"#B0BEC5\",\"#B0BEC5\",\"#B0BEC5\",\"#B0BEC5\",\"#B0BEC5\",\"#B0BEC5\",\"#B0BEC5\",\"#B0BEC5\",\"#B0BEC5\",\"#B0BEC5\",\"#B0BEC5\",\"#B0BEC5\",\"#B0BEC5\",\"#B0BEC5\",\"#B0BEC5\",\"#B0BEC5\",\"#B0BEC5\",\"#B0BEC5\",\"red\",\"#B0BEC5\",\"#B0BEC5\",\"#B0BEC5\",\"#B0BEC5\",\"#B0BEC5\",\"#B0BEC5\",\"#B0BEC5\",\"#B0BEC5\",\"#B0BEC5\",\"#B0BEC5\",\"#B0BEC5\",\"#B0BEC5\",\"#B0BEC5\",\"#B0BEC5\",\"#B0BEC5\",\"#B0BEC5\",\"#B0BEC5\",\"#B0BEC5\",\"#B0BEC5\",\"#B0BEC5\",\"#B0BEC5\",\"#B0BEC5\",\"#B0BEC5\",\"#B0BEC5\"]]}],\"label\":\"Topic 55\",\"method\":\"update\"},{\"args\":[{\"marker.color\":[[\"#B0BEC5\",\"#B0BEC5\",\"#B0BEC5\",\"#B0BEC5\",\"#B0BEC5\",\"#B0BEC5\",\"#B0BEC5\",\"#B0BEC5\",\"#B0BEC5\",\"#B0BEC5\",\"#B0BEC5\",\"#B0BEC5\",\"#B0BEC5\",\"#B0BEC5\",\"#B0BEC5\",\"#B0BEC5\",\"#B0BEC5\",\"#B0BEC5\",\"#B0BEC5\",\"#B0BEC5\",\"#B0BEC5\",\"#B0BEC5\",\"#B0BEC5\",\"#B0BEC5\",\"#B0BEC5\",\"#B0BEC5\",\"#B0BEC5\",\"#B0BEC5\",\"#B0BEC5\",\"#B0BEC5\",\"#B0BEC5\",\"#B0BEC5\",\"#B0BEC5\",\"#B0BEC5\",\"#B0BEC5\",\"#B0BEC5\",\"#B0BEC5\",\"#B0BEC5\",\"#B0BEC5\",\"#B0BEC5\",\"#B0BEC5\",\"#B0BEC5\",\"#B0BEC5\",\"#B0BEC5\",\"#B0BEC5\",\"#B0BEC5\",\"#B0BEC5\",\"#B0BEC5\",\"#B0BEC5\",\"#B0BEC5\",\"#B0BEC5\",\"#B0BEC5\",\"#B0BEC5\",\"#B0BEC5\",\"#B0BEC5\",\"#B0BEC5\",\"red\",\"#B0BEC5\",\"#B0BEC5\",\"#B0BEC5\",\"#B0BEC5\",\"#B0BEC5\",\"#B0BEC5\",\"#B0BEC5\",\"#B0BEC5\",\"#B0BEC5\",\"#B0BEC5\",\"#B0BEC5\",\"#B0BEC5\",\"#B0BEC5\",\"#B0BEC5\",\"#B0BEC5\",\"#B0BEC5\",\"#B0BEC5\",\"#B0BEC5\",\"#B0BEC5\",\"#B0BEC5\",\"#B0BEC5\",\"#B0BEC5\",\"#B0BEC5\"]]}],\"label\":\"Topic 56\",\"method\":\"update\"},{\"args\":[{\"marker.color\":[[\"#B0BEC5\",\"#B0BEC5\",\"#B0BEC5\",\"#B0BEC5\",\"#B0BEC5\",\"#B0BEC5\",\"#B0BEC5\",\"#B0BEC5\",\"#B0BEC5\",\"#B0BEC5\",\"#B0BEC5\",\"#B0BEC5\",\"#B0BEC5\",\"#B0BEC5\",\"#B0BEC5\",\"#B0BEC5\",\"#B0BEC5\",\"#B0BEC5\",\"#B0BEC5\",\"#B0BEC5\",\"#B0BEC5\",\"#B0BEC5\",\"#B0BEC5\",\"#B0BEC5\",\"#B0BEC5\",\"#B0BEC5\",\"#B0BEC5\",\"#B0BEC5\",\"#B0BEC5\",\"#B0BEC5\",\"#B0BEC5\",\"#B0BEC5\",\"#B0BEC5\",\"#B0BEC5\",\"#B0BEC5\",\"#B0BEC5\",\"#B0BEC5\",\"#B0BEC5\",\"#B0BEC5\",\"#B0BEC5\",\"#B0BEC5\",\"#B0BEC5\",\"#B0BEC5\",\"#B0BEC5\",\"#B0BEC5\",\"#B0BEC5\",\"#B0BEC5\",\"#B0BEC5\",\"#B0BEC5\",\"#B0BEC5\",\"#B0BEC5\",\"#B0BEC5\",\"#B0BEC5\",\"#B0BEC5\",\"#B0BEC5\",\"#B0BEC5\",\"#B0BEC5\",\"red\",\"#B0BEC5\",\"#B0BEC5\",\"#B0BEC5\",\"#B0BEC5\",\"#B0BEC5\",\"#B0BEC5\",\"#B0BEC5\",\"#B0BEC5\",\"#B0BEC5\",\"#B0BEC5\",\"#B0BEC5\",\"#B0BEC5\",\"#B0BEC5\",\"#B0BEC5\",\"#B0BEC5\",\"#B0BEC5\",\"#B0BEC5\",\"#B0BEC5\",\"#B0BEC5\",\"#B0BEC5\",\"#B0BEC5\",\"#B0BEC5\"]]}],\"label\":\"Topic 57\",\"method\":\"update\"},{\"args\":[{\"marker.color\":[[\"#B0BEC5\",\"#B0BEC5\",\"#B0BEC5\",\"#B0BEC5\",\"#B0BEC5\",\"#B0BEC5\",\"#B0BEC5\",\"#B0BEC5\",\"#B0BEC5\",\"#B0BEC5\",\"#B0BEC5\",\"#B0BEC5\",\"#B0BEC5\",\"#B0BEC5\",\"#B0BEC5\",\"#B0BEC5\",\"#B0BEC5\",\"#B0BEC5\",\"#B0BEC5\",\"#B0BEC5\",\"#B0BEC5\",\"#B0BEC5\",\"#B0BEC5\",\"#B0BEC5\",\"#B0BEC5\",\"#B0BEC5\",\"#B0BEC5\",\"#B0BEC5\",\"#B0BEC5\",\"#B0BEC5\",\"#B0BEC5\",\"#B0BEC5\",\"#B0BEC5\",\"#B0BEC5\",\"#B0BEC5\",\"#B0BEC5\",\"#B0BEC5\",\"#B0BEC5\",\"#B0BEC5\",\"#B0BEC5\",\"#B0BEC5\",\"#B0BEC5\",\"#B0BEC5\",\"#B0BEC5\",\"#B0BEC5\",\"#B0BEC5\",\"#B0BEC5\",\"#B0BEC5\",\"#B0BEC5\",\"#B0BEC5\",\"#B0BEC5\",\"#B0BEC5\",\"#B0BEC5\",\"#B0BEC5\",\"#B0BEC5\",\"#B0BEC5\",\"#B0BEC5\",\"#B0BEC5\",\"red\",\"#B0BEC5\",\"#B0BEC5\",\"#B0BEC5\",\"#B0BEC5\",\"#B0BEC5\",\"#B0BEC5\",\"#B0BEC5\",\"#B0BEC5\",\"#B0BEC5\",\"#B0BEC5\",\"#B0BEC5\",\"#B0BEC5\",\"#B0BEC5\",\"#B0BEC5\",\"#B0BEC5\",\"#B0BEC5\",\"#B0BEC5\",\"#B0BEC5\",\"#B0BEC5\",\"#B0BEC5\",\"#B0BEC5\"]]}],\"label\":\"Topic 58\",\"method\":\"update\"},{\"args\":[{\"marker.color\":[[\"#B0BEC5\",\"#B0BEC5\",\"#B0BEC5\",\"#B0BEC5\",\"#B0BEC5\",\"#B0BEC5\",\"#B0BEC5\",\"#B0BEC5\",\"#B0BEC5\",\"#B0BEC5\",\"#B0BEC5\",\"#B0BEC5\",\"#B0BEC5\",\"#B0BEC5\",\"#B0BEC5\",\"#B0BEC5\",\"#B0BEC5\",\"#B0BEC5\",\"#B0BEC5\",\"#B0BEC5\",\"#B0BEC5\",\"#B0BEC5\",\"#B0BEC5\",\"#B0BEC5\",\"#B0BEC5\",\"#B0BEC5\",\"#B0BEC5\",\"#B0BEC5\",\"#B0BEC5\",\"#B0BEC5\",\"#B0BEC5\",\"#B0BEC5\",\"#B0BEC5\",\"#B0BEC5\",\"#B0BEC5\",\"#B0BEC5\",\"#B0BEC5\",\"#B0BEC5\",\"#B0BEC5\",\"#B0BEC5\",\"#B0BEC5\",\"#B0BEC5\",\"#B0BEC5\",\"#B0BEC5\",\"#B0BEC5\",\"#B0BEC5\",\"#B0BEC5\",\"#B0BEC5\",\"#B0BEC5\",\"#B0BEC5\",\"#B0BEC5\",\"#B0BEC5\",\"#B0BEC5\",\"#B0BEC5\",\"#B0BEC5\",\"#B0BEC5\",\"#B0BEC5\",\"#B0BEC5\",\"#B0BEC5\",\"red\",\"#B0BEC5\",\"#B0BEC5\",\"#B0BEC5\",\"#B0BEC5\",\"#B0BEC5\",\"#B0BEC5\",\"#B0BEC5\",\"#B0BEC5\",\"#B0BEC5\",\"#B0BEC5\",\"#B0BEC5\",\"#B0BEC5\",\"#B0BEC5\",\"#B0BEC5\",\"#B0BEC5\",\"#B0BEC5\",\"#B0BEC5\",\"#B0BEC5\",\"#B0BEC5\",\"#B0BEC5\"]]}],\"label\":\"Topic 59\",\"method\":\"update\"},{\"args\":[{\"marker.color\":[[\"#B0BEC5\",\"#B0BEC5\",\"#B0BEC5\",\"#B0BEC5\",\"#B0BEC5\",\"#B0BEC5\",\"#B0BEC5\",\"#B0BEC5\",\"#B0BEC5\",\"#B0BEC5\",\"#B0BEC5\",\"#B0BEC5\",\"#B0BEC5\",\"#B0BEC5\",\"#B0BEC5\",\"#B0BEC5\",\"#B0BEC5\",\"#B0BEC5\",\"#B0BEC5\",\"#B0BEC5\",\"#B0BEC5\",\"#B0BEC5\",\"#B0BEC5\",\"#B0BEC5\",\"#B0BEC5\",\"#B0BEC5\",\"#B0BEC5\",\"#B0BEC5\",\"#B0BEC5\",\"#B0BEC5\",\"#B0BEC5\",\"#B0BEC5\",\"#B0BEC5\",\"#B0BEC5\",\"#B0BEC5\",\"#B0BEC5\",\"#B0BEC5\",\"#B0BEC5\",\"#B0BEC5\",\"#B0BEC5\",\"#B0BEC5\",\"#B0BEC5\",\"#B0BEC5\",\"#B0BEC5\",\"#B0BEC5\",\"#B0BEC5\",\"#B0BEC5\",\"#B0BEC5\",\"#B0BEC5\",\"#B0BEC5\",\"#B0BEC5\",\"#B0BEC5\",\"#B0BEC5\",\"#B0BEC5\",\"#B0BEC5\",\"#B0BEC5\",\"#B0BEC5\",\"#B0BEC5\",\"#B0BEC5\",\"#B0BEC5\",\"red\",\"#B0BEC5\",\"#B0BEC5\",\"#B0BEC5\",\"#B0BEC5\",\"#B0BEC5\",\"#B0BEC5\",\"#B0BEC5\",\"#B0BEC5\",\"#B0BEC5\",\"#B0BEC5\",\"#B0BEC5\",\"#B0BEC5\",\"#B0BEC5\",\"#B0BEC5\",\"#B0BEC5\",\"#B0BEC5\",\"#B0BEC5\",\"#B0BEC5\",\"#B0BEC5\"]]}],\"label\":\"Topic 60\",\"method\":\"update\"},{\"args\":[{\"marker.color\":[[\"#B0BEC5\",\"#B0BEC5\",\"#B0BEC5\",\"#B0BEC5\",\"#B0BEC5\",\"#B0BEC5\",\"#B0BEC5\",\"#B0BEC5\",\"#B0BEC5\",\"#B0BEC5\",\"#B0BEC5\",\"#B0BEC5\",\"#B0BEC5\",\"#B0BEC5\",\"#B0BEC5\",\"#B0BEC5\",\"#B0BEC5\",\"#B0BEC5\",\"#B0BEC5\",\"#B0BEC5\",\"#B0BEC5\",\"#B0BEC5\",\"#B0BEC5\",\"#B0BEC5\",\"#B0BEC5\",\"#B0BEC5\",\"#B0BEC5\",\"#B0BEC5\",\"#B0BEC5\",\"#B0BEC5\",\"#B0BEC5\",\"#B0BEC5\",\"#B0BEC5\",\"#B0BEC5\",\"#B0BEC5\",\"#B0BEC5\",\"#B0BEC5\",\"#B0BEC5\",\"#B0BEC5\",\"#B0BEC5\",\"#B0BEC5\",\"#B0BEC5\",\"#B0BEC5\",\"#B0BEC5\",\"#B0BEC5\",\"#B0BEC5\",\"#B0BEC5\",\"#B0BEC5\",\"#B0BEC5\",\"#B0BEC5\",\"#B0BEC5\",\"#B0BEC5\",\"#B0BEC5\",\"#B0BEC5\",\"#B0BEC5\",\"#B0BEC5\",\"#B0BEC5\",\"#B0BEC5\",\"#B0BEC5\",\"#B0BEC5\",\"#B0BEC5\",\"red\",\"#B0BEC5\",\"#B0BEC5\",\"#B0BEC5\",\"#B0BEC5\",\"#B0BEC5\",\"#B0BEC5\",\"#B0BEC5\",\"#B0BEC5\",\"#B0BEC5\",\"#B0BEC5\",\"#B0BEC5\",\"#B0BEC5\",\"#B0BEC5\",\"#B0BEC5\",\"#B0BEC5\",\"#B0BEC5\",\"#B0BEC5\",\"#B0BEC5\"]]}],\"label\":\"Topic 61\",\"method\":\"update\"},{\"args\":[{\"marker.color\":[[\"#B0BEC5\",\"#B0BEC5\",\"#B0BEC5\",\"#B0BEC5\",\"#B0BEC5\",\"#B0BEC5\",\"#B0BEC5\",\"#B0BEC5\",\"#B0BEC5\",\"#B0BEC5\",\"#B0BEC5\",\"#B0BEC5\",\"#B0BEC5\",\"#B0BEC5\",\"#B0BEC5\",\"#B0BEC5\",\"#B0BEC5\",\"#B0BEC5\",\"#B0BEC5\",\"#B0BEC5\",\"#B0BEC5\",\"#B0BEC5\",\"#B0BEC5\",\"#B0BEC5\",\"#B0BEC5\",\"#B0BEC5\",\"#B0BEC5\",\"#B0BEC5\",\"#B0BEC5\",\"#B0BEC5\",\"#B0BEC5\",\"#B0BEC5\",\"#B0BEC5\",\"#B0BEC5\",\"#B0BEC5\",\"#B0BEC5\",\"#B0BEC5\",\"#B0BEC5\",\"#B0BEC5\",\"#B0BEC5\",\"#B0BEC5\",\"#B0BEC5\",\"#B0BEC5\",\"#B0BEC5\",\"#B0BEC5\",\"#B0BEC5\",\"#B0BEC5\",\"#B0BEC5\",\"#B0BEC5\",\"#B0BEC5\",\"#B0BEC5\",\"#B0BEC5\",\"#B0BEC5\",\"#B0BEC5\",\"#B0BEC5\",\"#B0BEC5\",\"#B0BEC5\",\"#B0BEC5\",\"#B0BEC5\",\"#B0BEC5\",\"#B0BEC5\",\"#B0BEC5\",\"red\",\"#B0BEC5\",\"#B0BEC5\",\"#B0BEC5\",\"#B0BEC5\",\"#B0BEC5\",\"#B0BEC5\",\"#B0BEC5\",\"#B0BEC5\",\"#B0BEC5\",\"#B0BEC5\",\"#B0BEC5\",\"#B0BEC5\",\"#B0BEC5\",\"#B0BEC5\",\"#B0BEC5\",\"#B0BEC5\",\"#B0BEC5\"]]}],\"label\":\"Topic 62\",\"method\":\"update\"},{\"args\":[{\"marker.color\":[[\"#B0BEC5\",\"#B0BEC5\",\"#B0BEC5\",\"#B0BEC5\",\"#B0BEC5\",\"#B0BEC5\",\"#B0BEC5\",\"#B0BEC5\",\"#B0BEC5\",\"#B0BEC5\",\"#B0BEC5\",\"#B0BEC5\",\"#B0BEC5\",\"#B0BEC5\",\"#B0BEC5\",\"#B0BEC5\",\"#B0BEC5\",\"#B0BEC5\",\"#B0BEC5\",\"#B0BEC5\",\"#B0BEC5\",\"#B0BEC5\",\"#B0BEC5\",\"#B0BEC5\",\"#B0BEC5\",\"#B0BEC5\",\"#B0BEC5\",\"#B0BEC5\",\"#B0BEC5\",\"#B0BEC5\",\"#B0BEC5\",\"#B0BEC5\",\"#B0BEC5\",\"#B0BEC5\",\"#B0BEC5\",\"#B0BEC5\",\"#B0BEC5\",\"#B0BEC5\",\"#B0BEC5\",\"#B0BEC5\",\"#B0BEC5\",\"#B0BEC5\",\"#B0BEC5\",\"#B0BEC5\",\"#B0BEC5\",\"#B0BEC5\",\"#B0BEC5\",\"#B0BEC5\",\"#B0BEC5\",\"#B0BEC5\",\"#B0BEC5\",\"#B0BEC5\",\"#B0BEC5\",\"#B0BEC5\",\"#B0BEC5\",\"#B0BEC5\",\"#B0BEC5\",\"#B0BEC5\",\"#B0BEC5\",\"#B0BEC5\",\"#B0BEC5\",\"#B0BEC5\",\"#B0BEC5\",\"red\",\"#B0BEC5\",\"#B0BEC5\",\"#B0BEC5\",\"#B0BEC5\",\"#B0BEC5\",\"#B0BEC5\",\"#B0BEC5\",\"#B0BEC5\",\"#B0BEC5\",\"#B0BEC5\",\"#B0BEC5\",\"#B0BEC5\",\"#B0BEC5\",\"#B0BEC5\",\"#B0BEC5\",\"#B0BEC5\"]]}],\"label\":\"Topic 63\",\"method\":\"update\"},{\"args\":[{\"marker.color\":[[\"#B0BEC5\",\"#B0BEC5\",\"#B0BEC5\",\"#B0BEC5\",\"#B0BEC5\",\"#B0BEC5\",\"#B0BEC5\",\"#B0BEC5\",\"#B0BEC5\",\"#B0BEC5\",\"#B0BEC5\",\"#B0BEC5\",\"#B0BEC5\",\"#B0BEC5\",\"#B0BEC5\",\"#B0BEC5\",\"#B0BEC5\",\"#B0BEC5\",\"#B0BEC5\",\"#B0BEC5\",\"#B0BEC5\",\"#B0BEC5\",\"#B0BEC5\",\"#B0BEC5\",\"#B0BEC5\",\"#B0BEC5\",\"#B0BEC5\",\"#B0BEC5\",\"#B0BEC5\",\"#B0BEC5\",\"#B0BEC5\",\"#B0BEC5\",\"#B0BEC5\",\"#B0BEC5\",\"#B0BEC5\",\"#B0BEC5\",\"#B0BEC5\",\"#B0BEC5\",\"#B0BEC5\",\"#B0BEC5\",\"#B0BEC5\",\"#B0BEC5\",\"#B0BEC5\",\"#B0BEC5\",\"#B0BEC5\",\"#B0BEC5\",\"#B0BEC5\",\"#B0BEC5\",\"#B0BEC5\",\"#B0BEC5\",\"#B0BEC5\",\"#B0BEC5\",\"#B0BEC5\",\"#B0BEC5\",\"#B0BEC5\",\"#B0BEC5\",\"#B0BEC5\",\"#B0BEC5\",\"#B0BEC5\",\"#B0BEC5\",\"#B0BEC5\",\"#B0BEC5\",\"#B0BEC5\",\"#B0BEC5\",\"red\",\"#B0BEC5\",\"#B0BEC5\",\"#B0BEC5\",\"#B0BEC5\",\"#B0BEC5\",\"#B0BEC5\",\"#B0BEC5\",\"#B0BEC5\",\"#B0BEC5\",\"#B0BEC5\",\"#B0BEC5\",\"#B0BEC5\",\"#B0BEC5\",\"#B0BEC5\",\"#B0BEC5\"]]}],\"label\":\"Topic 64\",\"method\":\"update\"},{\"args\":[{\"marker.color\":[[\"#B0BEC5\",\"#B0BEC5\",\"#B0BEC5\",\"#B0BEC5\",\"#B0BEC5\",\"#B0BEC5\",\"#B0BEC5\",\"#B0BEC5\",\"#B0BEC5\",\"#B0BEC5\",\"#B0BEC5\",\"#B0BEC5\",\"#B0BEC5\",\"#B0BEC5\",\"#B0BEC5\",\"#B0BEC5\",\"#B0BEC5\",\"#B0BEC5\",\"#B0BEC5\",\"#B0BEC5\",\"#B0BEC5\",\"#B0BEC5\",\"#B0BEC5\",\"#B0BEC5\",\"#B0BEC5\",\"#B0BEC5\",\"#B0BEC5\",\"#B0BEC5\",\"#B0BEC5\",\"#B0BEC5\",\"#B0BEC5\",\"#B0BEC5\",\"#B0BEC5\",\"#B0BEC5\",\"#B0BEC5\",\"#B0BEC5\",\"#B0BEC5\",\"#B0BEC5\",\"#B0BEC5\",\"#B0BEC5\",\"#B0BEC5\",\"#B0BEC5\",\"#B0BEC5\",\"#B0BEC5\",\"#B0BEC5\",\"#B0BEC5\",\"#B0BEC5\",\"#B0BEC5\",\"#B0BEC5\",\"#B0BEC5\",\"#B0BEC5\",\"#B0BEC5\",\"#B0BEC5\",\"#B0BEC5\",\"#B0BEC5\",\"#B0BEC5\",\"#B0BEC5\",\"#B0BEC5\",\"#B0BEC5\",\"#B0BEC5\",\"#B0BEC5\",\"#B0BEC5\",\"#B0BEC5\",\"#B0BEC5\",\"#B0BEC5\",\"red\",\"#B0BEC5\",\"#B0BEC5\",\"#B0BEC5\",\"#B0BEC5\",\"#B0BEC5\",\"#B0BEC5\",\"#B0BEC5\",\"#B0BEC5\",\"#B0BEC5\",\"#B0BEC5\",\"#B0BEC5\",\"#B0BEC5\",\"#B0BEC5\",\"#B0BEC5\"]]}],\"label\":\"Topic 65\",\"method\":\"update\"},{\"args\":[{\"marker.color\":[[\"#B0BEC5\",\"#B0BEC5\",\"#B0BEC5\",\"#B0BEC5\",\"#B0BEC5\",\"#B0BEC5\",\"#B0BEC5\",\"#B0BEC5\",\"#B0BEC5\",\"#B0BEC5\",\"#B0BEC5\",\"#B0BEC5\",\"#B0BEC5\",\"#B0BEC5\",\"#B0BEC5\",\"#B0BEC5\",\"#B0BEC5\",\"#B0BEC5\",\"#B0BEC5\",\"#B0BEC5\",\"#B0BEC5\",\"#B0BEC5\",\"#B0BEC5\",\"#B0BEC5\",\"#B0BEC5\",\"#B0BEC5\",\"#B0BEC5\",\"#B0BEC5\",\"#B0BEC5\",\"#B0BEC5\",\"#B0BEC5\",\"#B0BEC5\",\"#B0BEC5\",\"#B0BEC5\",\"#B0BEC5\",\"#B0BEC5\",\"#B0BEC5\",\"#B0BEC5\",\"#B0BEC5\",\"#B0BEC5\",\"#B0BEC5\",\"#B0BEC5\",\"#B0BEC5\",\"#B0BEC5\",\"#B0BEC5\",\"#B0BEC5\",\"#B0BEC5\",\"#B0BEC5\",\"#B0BEC5\",\"#B0BEC5\",\"#B0BEC5\",\"#B0BEC5\",\"#B0BEC5\",\"#B0BEC5\",\"#B0BEC5\",\"#B0BEC5\",\"#B0BEC5\",\"#B0BEC5\",\"#B0BEC5\",\"#B0BEC5\",\"#B0BEC5\",\"#B0BEC5\",\"#B0BEC5\",\"#B0BEC5\",\"#B0BEC5\",\"#B0BEC5\",\"red\",\"#B0BEC5\",\"#B0BEC5\",\"#B0BEC5\",\"#B0BEC5\",\"#B0BEC5\",\"#B0BEC5\",\"#B0BEC5\",\"#B0BEC5\",\"#B0BEC5\",\"#B0BEC5\",\"#B0BEC5\",\"#B0BEC5\",\"#B0BEC5\"]]}],\"label\":\"Topic 66\",\"method\":\"update\"},{\"args\":[{\"marker.color\":[[\"#B0BEC5\",\"#B0BEC5\",\"#B0BEC5\",\"#B0BEC5\",\"#B0BEC5\",\"#B0BEC5\",\"#B0BEC5\",\"#B0BEC5\",\"#B0BEC5\",\"#B0BEC5\",\"#B0BEC5\",\"#B0BEC5\",\"#B0BEC5\",\"#B0BEC5\",\"#B0BEC5\",\"#B0BEC5\",\"#B0BEC5\",\"#B0BEC5\",\"#B0BEC5\",\"#B0BEC5\",\"#B0BEC5\",\"#B0BEC5\",\"#B0BEC5\",\"#B0BEC5\",\"#B0BEC5\",\"#B0BEC5\",\"#B0BEC5\",\"#B0BEC5\",\"#B0BEC5\",\"#B0BEC5\",\"#B0BEC5\",\"#B0BEC5\",\"#B0BEC5\",\"#B0BEC5\",\"#B0BEC5\",\"#B0BEC5\",\"#B0BEC5\",\"#B0BEC5\",\"#B0BEC5\",\"#B0BEC5\",\"#B0BEC5\",\"#B0BEC5\",\"#B0BEC5\",\"#B0BEC5\",\"#B0BEC5\",\"#B0BEC5\",\"#B0BEC5\",\"#B0BEC5\",\"#B0BEC5\",\"#B0BEC5\",\"#B0BEC5\",\"#B0BEC5\",\"#B0BEC5\",\"#B0BEC5\",\"#B0BEC5\",\"#B0BEC5\",\"#B0BEC5\",\"#B0BEC5\",\"#B0BEC5\",\"#B0BEC5\",\"#B0BEC5\",\"#B0BEC5\",\"#B0BEC5\",\"#B0BEC5\",\"#B0BEC5\",\"#B0BEC5\",\"#B0BEC5\",\"red\",\"#B0BEC5\",\"#B0BEC5\",\"#B0BEC5\",\"#B0BEC5\",\"#B0BEC5\",\"#B0BEC5\",\"#B0BEC5\",\"#B0BEC5\",\"#B0BEC5\",\"#B0BEC5\",\"#B0BEC5\",\"#B0BEC5\"]]}],\"label\":\"Topic 67\",\"method\":\"update\"},{\"args\":[{\"marker.color\":[[\"#B0BEC5\",\"#B0BEC5\",\"#B0BEC5\",\"#B0BEC5\",\"#B0BEC5\",\"#B0BEC5\",\"#B0BEC5\",\"#B0BEC5\",\"#B0BEC5\",\"#B0BEC5\",\"#B0BEC5\",\"#B0BEC5\",\"#B0BEC5\",\"#B0BEC5\",\"#B0BEC5\",\"#B0BEC5\",\"#B0BEC5\",\"#B0BEC5\",\"#B0BEC5\",\"#B0BEC5\",\"#B0BEC5\",\"#B0BEC5\",\"#B0BEC5\",\"#B0BEC5\",\"#B0BEC5\",\"#B0BEC5\",\"#B0BEC5\",\"#B0BEC5\",\"#B0BEC5\",\"#B0BEC5\",\"#B0BEC5\",\"#B0BEC5\",\"#B0BEC5\",\"#B0BEC5\",\"#B0BEC5\",\"#B0BEC5\",\"#B0BEC5\",\"#B0BEC5\",\"#B0BEC5\",\"#B0BEC5\",\"#B0BEC5\",\"#B0BEC5\",\"#B0BEC5\",\"#B0BEC5\",\"#B0BEC5\",\"#B0BEC5\",\"#B0BEC5\",\"#B0BEC5\",\"#B0BEC5\",\"#B0BEC5\",\"#B0BEC5\",\"#B0BEC5\",\"#B0BEC5\",\"#B0BEC5\",\"#B0BEC5\",\"#B0BEC5\",\"#B0BEC5\",\"#B0BEC5\",\"#B0BEC5\",\"#B0BEC5\",\"#B0BEC5\",\"#B0BEC5\",\"#B0BEC5\",\"#B0BEC5\",\"#B0BEC5\",\"#B0BEC5\",\"#B0BEC5\",\"#B0BEC5\",\"red\",\"#B0BEC5\",\"#B0BEC5\",\"#B0BEC5\",\"#B0BEC5\",\"#B0BEC5\",\"#B0BEC5\",\"#B0BEC5\",\"#B0BEC5\",\"#B0BEC5\",\"#B0BEC5\",\"#B0BEC5\"]]}],\"label\":\"Topic 68\",\"method\":\"update\"},{\"args\":[{\"marker.color\":[[\"#B0BEC5\",\"#B0BEC5\",\"#B0BEC5\",\"#B0BEC5\",\"#B0BEC5\",\"#B0BEC5\",\"#B0BEC5\",\"#B0BEC5\",\"#B0BEC5\",\"#B0BEC5\",\"#B0BEC5\",\"#B0BEC5\",\"#B0BEC5\",\"#B0BEC5\",\"#B0BEC5\",\"#B0BEC5\",\"#B0BEC5\",\"#B0BEC5\",\"#B0BEC5\",\"#B0BEC5\",\"#B0BEC5\",\"#B0BEC5\",\"#B0BEC5\",\"#B0BEC5\",\"#B0BEC5\",\"#B0BEC5\",\"#B0BEC5\",\"#B0BEC5\",\"#B0BEC5\",\"#B0BEC5\",\"#B0BEC5\",\"#B0BEC5\",\"#B0BEC5\",\"#B0BEC5\",\"#B0BEC5\",\"#B0BEC5\",\"#B0BEC5\",\"#B0BEC5\",\"#B0BEC5\",\"#B0BEC5\",\"#B0BEC5\",\"#B0BEC5\",\"#B0BEC5\",\"#B0BEC5\",\"#B0BEC5\",\"#B0BEC5\",\"#B0BEC5\",\"#B0BEC5\",\"#B0BEC5\",\"#B0BEC5\",\"#B0BEC5\",\"#B0BEC5\",\"#B0BEC5\",\"#B0BEC5\",\"#B0BEC5\",\"#B0BEC5\",\"#B0BEC5\",\"#B0BEC5\",\"#B0BEC5\",\"#B0BEC5\",\"#B0BEC5\",\"#B0BEC5\",\"#B0BEC5\",\"#B0BEC5\",\"#B0BEC5\",\"#B0BEC5\",\"#B0BEC5\",\"#B0BEC5\",\"#B0BEC5\",\"red\",\"#B0BEC5\",\"#B0BEC5\",\"#B0BEC5\",\"#B0BEC5\",\"#B0BEC5\",\"#B0BEC5\",\"#B0BEC5\",\"#B0BEC5\",\"#B0BEC5\",\"#B0BEC5\"]]}],\"label\":\"Topic 69\",\"method\":\"update\"},{\"args\":[{\"marker.color\":[[\"#B0BEC5\",\"#B0BEC5\",\"#B0BEC5\",\"#B0BEC5\",\"#B0BEC5\",\"#B0BEC5\",\"#B0BEC5\",\"#B0BEC5\",\"#B0BEC5\",\"#B0BEC5\",\"#B0BEC5\",\"#B0BEC5\",\"#B0BEC5\",\"#B0BEC5\",\"#B0BEC5\",\"#B0BEC5\",\"#B0BEC5\",\"#B0BEC5\",\"#B0BEC5\",\"#B0BEC5\",\"#B0BEC5\",\"#B0BEC5\",\"#B0BEC5\",\"#B0BEC5\",\"#B0BEC5\",\"#B0BEC5\",\"#B0BEC5\",\"#B0BEC5\",\"#B0BEC5\",\"#B0BEC5\",\"#B0BEC5\",\"#B0BEC5\",\"#B0BEC5\",\"#B0BEC5\",\"#B0BEC5\",\"#B0BEC5\",\"#B0BEC5\",\"#B0BEC5\",\"#B0BEC5\",\"#B0BEC5\",\"#B0BEC5\",\"#B0BEC5\",\"#B0BEC5\",\"#B0BEC5\",\"#B0BEC5\",\"#B0BEC5\",\"#B0BEC5\",\"#B0BEC5\",\"#B0BEC5\",\"#B0BEC5\",\"#B0BEC5\",\"#B0BEC5\",\"#B0BEC5\",\"#B0BEC5\",\"#B0BEC5\",\"#B0BEC5\",\"#B0BEC5\",\"#B0BEC5\",\"#B0BEC5\",\"#B0BEC5\",\"#B0BEC5\",\"#B0BEC5\",\"#B0BEC5\",\"#B0BEC5\",\"#B0BEC5\",\"#B0BEC5\",\"#B0BEC5\",\"#B0BEC5\",\"#B0BEC5\",\"#B0BEC5\",\"red\",\"#B0BEC5\",\"#B0BEC5\",\"#B0BEC5\",\"#B0BEC5\",\"#B0BEC5\",\"#B0BEC5\",\"#B0BEC5\",\"#B0BEC5\",\"#B0BEC5\"]]}],\"label\":\"Topic 70\",\"method\":\"update\"},{\"args\":[{\"marker.color\":[[\"#B0BEC5\",\"#B0BEC5\",\"#B0BEC5\",\"#B0BEC5\",\"#B0BEC5\",\"#B0BEC5\",\"#B0BEC5\",\"#B0BEC5\",\"#B0BEC5\",\"#B0BEC5\",\"#B0BEC5\",\"#B0BEC5\",\"#B0BEC5\",\"#B0BEC5\",\"#B0BEC5\",\"#B0BEC5\",\"#B0BEC5\",\"#B0BEC5\",\"#B0BEC5\",\"#B0BEC5\",\"#B0BEC5\",\"#B0BEC5\",\"#B0BEC5\",\"#B0BEC5\",\"#B0BEC5\",\"#B0BEC5\",\"#B0BEC5\",\"#B0BEC5\",\"#B0BEC5\",\"#B0BEC5\",\"#B0BEC5\",\"#B0BEC5\",\"#B0BEC5\",\"#B0BEC5\",\"#B0BEC5\",\"#B0BEC5\",\"#B0BEC5\",\"#B0BEC5\",\"#B0BEC5\",\"#B0BEC5\",\"#B0BEC5\",\"#B0BEC5\",\"#B0BEC5\",\"#B0BEC5\",\"#B0BEC5\",\"#B0BEC5\",\"#B0BEC5\",\"#B0BEC5\",\"#B0BEC5\",\"#B0BEC5\",\"#B0BEC5\",\"#B0BEC5\",\"#B0BEC5\",\"#B0BEC5\",\"#B0BEC5\",\"#B0BEC5\",\"#B0BEC5\",\"#B0BEC5\",\"#B0BEC5\",\"#B0BEC5\",\"#B0BEC5\",\"#B0BEC5\",\"#B0BEC5\",\"#B0BEC5\",\"#B0BEC5\",\"#B0BEC5\",\"#B0BEC5\",\"#B0BEC5\",\"#B0BEC5\",\"#B0BEC5\",\"#B0BEC5\",\"red\",\"#B0BEC5\",\"#B0BEC5\",\"#B0BEC5\",\"#B0BEC5\",\"#B0BEC5\",\"#B0BEC5\",\"#B0BEC5\",\"#B0BEC5\"]]}],\"label\":\"Topic 71\",\"method\":\"update\"},{\"args\":[{\"marker.color\":[[\"#B0BEC5\",\"#B0BEC5\",\"#B0BEC5\",\"#B0BEC5\",\"#B0BEC5\",\"#B0BEC5\",\"#B0BEC5\",\"#B0BEC5\",\"#B0BEC5\",\"#B0BEC5\",\"#B0BEC5\",\"#B0BEC5\",\"#B0BEC5\",\"#B0BEC5\",\"#B0BEC5\",\"#B0BEC5\",\"#B0BEC5\",\"#B0BEC5\",\"#B0BEC5\",\"#B0BEC5\",\"#B0BEC5\",\"#B0BEC5\",\"#B0BEC5\",\"#B0BEC5\",\"#B0BEC5\",\"#B0BEC5\",\"#B0BEC5\",\"#B0BEC5\",\"#B0BEC5\",\"#B0BEC5\",\"#B0BEC5\",\"#B0BEC5\",\"#B0BEC5\",\"#B0BEC5\",\"#B0BEC5\",\"#B0BEC5\",\"#B0BEC5\",\"#B0BEC5\",\"#B0BEC5\",\"#B0BEC5\",\"#B0BEC5\",\"#B0BEC5\",\"#B0BEC5\",\"#B0BEC5\",\"#B0BEC5\",\"#B0BEC5\",\"#B0BEC5\",\"#B0BEC5\",\"#B0BEC5\",\"#B0BEC5\",\"#B0BEC5\",\"#B0BEC5\",\"#B0BEC5\",\"#B0BEC5\",\"#B0BEC5\",\"#B0BEC5\",\"#B0BEC5\",\"#B0BEC5\",\"#B0BEC5\",\"#B0BEC5\",\"#B0BEC5\",\"#B0BEC5\",\"#B0BEC5\",\"#B0BEC5\",\"#B0BEC5\",\"#B0BEC5\",\"#B0BEC5\",\"#B0BEC5\",\"#B0BEC5\",\"#B0BEC5\",\"#B0BEC5\",\"#B0BEC5\",\"red\",\"#B0BEC5\",\"#B0BEC5\",\"#B0BEC5\",\"#B0BEC5\",\"#B0BEC5\",\"#B0BEC5\",\"#B0BEC5\"]]}],\"label\":\"Topic 72\",\"method\":\"update\"},{\"args\":[{\"marker.color\":[[\"#B0BEC5\",\"#B0BEC5\",\"#B0BEC5\",\"#B0BEC5\",\"#B0BEC5\",\"#B0BEC5\",\"#B0BEC5\",\"#B0BEC5\",\"#B0BEC5\",\"#B0BEC5\",\"#B0BEC5\",\"#B0BEC5\",\"#B0BEC5\",\"#B0BEC5\",\"#B0BEC5\",\"#B0BEC5\",\"#B0BEC5\",\"#B0BEC5\",\"#B0BEC5\",\"#B0BEC5\",\"#B0BEC5\",\"#B0BEC5\",\"#B0BEC5\",\"#B0BEC5\",\"#B0BEC5\",\"#B0BEC5\",\"#B0BEC5\",\"#B0BEC5\",\"#B0BEC5\",\"#B0BEC5\",\"#B0BEC5\",\"#B0BEC5\",\"#B0BEC5\",\"#B0BEC5\",\"#B0BEC5\",\"#B0BEC5\",\"#B0BEC5\",\"#B0BEC5\",\"#B0BEC5\",\"#B0BEC5\",\"#B0BEC5\",\"#B0BEC5\",\"#B0BEC5\",\"#B0BEC5\",\"#B0BEC5\",\"#B0BEC5\",\"#B0BEC5\",\"#B0BEC5\",\"#B0BEC5\",\"#B0BEC5\",\"#B0BEC5\",\"#B0BEC5\",\"#B0BEC5\",\"#B0BEC5\",\"#B0BEC5\",\"#B0BEC5\",\"#B0BEC5\",\"#B0BEC5\",\"#B0BEC5\",\"#B0BEC5\",\"#B0BEC5\",\"#B0BEC5\",\"#B0BEC5\",\"#B0BEC5\",\"#B0BEC5\",\"#B0BEC5\",\"#B0BEC5\",\"#B0BEC5\",\"#B0BEC5\",\"#B0BEC5\",\"#B0BEC5\",\"#B0BEC5\",\"#B0BEC5\",\"red\",\"#B0BEC5\",\"#B0BEC5\",\"#B0BEC5\",\"#B0BEC5\",\"#B0BEC5\",\"#B0BEC5\"]]}],\"label\":\"Topic 73\",\"method\":\"update\"},{\"args\":[{\"marker.color\":[[\"#B0BEC5\",\"#B0BEC5\",\"#B0BEC5\",\"#B0BEC5\",\"#B0BEC5\",\"#B0BEC5\",\"#B0BEC5\",\"#B0BEC5\",\"#B0BEC5\",\"#B0BEC5\",\"#B0BEC5\",\"#B0BEC5\",\"#B0BEC5\",\"#B0BEC5\",\"#B0BEC5\",\"#B0BEC5\",\"#B0BEC5\",\"#B0BEC5\",\"#B0BEC5\",\"#B0BEC5\",\"#B0BEC5\",\"#B0BEC5\",\"#B0BEC5\",\"#B0BEC5\",\"#B0BEC5\",\"#B0BEC5\",\"#B0BEC5\",\"#B0BEC5\",\"#B0BEC5\",\"#B0BEC5\",\"#B0BEC5\",\"#B0BEC5\",\"#B0BEC5\",\"#B0BEC5\",\"#B0BEC5\",\"#B0BEC5\",\"#B0BEC5\",\"#B0BEC5\",\"#B0BEC5\",\"#B0BEC5\",\"#B0BEC5\",\"#B0BEC5\",\"#B0BEC5\",\"#B0BEC5\",\"#B0BEC5\",\"#B0BEC5\",\"#B0BEC5\",\"#B0BEC5\",\"#B0BEC5\",\"#B0BEC5\",\"#B0BEC5\",\"#B0BEC5\",\"#B0BEC5\",\"#B0BEC5\",\"#B0BEC5\",\"#B0BEC5\",\"#B0BEC5\",\"#B0BEC5\",\"#B0BEC5\",\"#B0BEC5\",\"#B0BEC5\",\"#B0BEC5\",\"#B0BEC5\",\"#B0BEC5\",\"#B0BEC5\",\"#B0BEC5\",\"#B0BEC5\",\"#B0BEC5\",\"#B0BEC5\",\"#B0BEC5\",\"#B0BEC5\",\"#B0BEC5\",\"#B0BEC5\",\"#B0BEC5\",\"red\",\"#B0BEC5\",\"#B0BEC5\",\"#B0BEC5\",\"#B0BEC5\",\"#B0BEC5\"]]}],\"label\":\"Topic 74\",\"method\":\"update\"},{\"args\":[{\"marker.color\":[[\"#B0BEC5\",\"#B0BEC5\",\"#B0BEC5\",\"#B0BEC5\",\"#B0BEC5\",\"#B0BEC5\",\"#B0BEC5\",\"#B0BEC5\",\"#B0BEC5\",\"#B0BEC5\",\"#B0BEC5\",\"#B0BEC5\",\"#B0BEC5\",\"#B0BEC5\",\"#B0BEC5\",\"#B0BEC5\",\"#B0BEC5\",\"#B0BEC5\",\"#B0BEC5\",\"#B0BEC5\",\"#B0BEC5\",\"#B0BEC5\",\"#B0BEC5\",\"#B0BEC5\",\"#B0BEC5\",\"#B0BEC5\",\"#B0BEC5\",\"#B0BEC5\",\"#B0BEC5\",\"#B0BEC5\",\"#B0BEC5\",\"#B0BEC5\",\"#B0BEC5\",\"#B0BEC5\",\"#B0BEC5\",\"#B0BEC5\",\"#B0BEC5\",\"#B0BEC5\",\"#B0BEC5\",\"#B0BEC5\",\"#B0BEC5\",\"#B0BEC5\",\"#B0BEC5\",\"#B0BEC5\",\"#B0BEC5\",\"#B0BEC5\",\"#B0BEC5\",\"#B0BEC5\",\"#B0BEC5\",\"#B0BEC5\",\"#B0BEC5\",\"#B0BEC5\",\"#B0BEC5\",\"#B0BEC5\",\"#B0BEC5\",\"#B0BEC5\",\"#B0BEC5\",\"#B0BEC5\",\"#B0BEC5\",\"#B0BEC5\",\"#B0BEC5\",\"#B0BEC5\",\"#B0BEC5\",\"#B0BEC5\",\"#B0BEC5\",\"#B0BEC5\",\"#B0BEC5\",\"#B0BEC5\",\"#B0BEC5\",\"#B0BEC5\",\"#B0BEC5\",\"#B0BEC5\",\"#B0BEC5\",\"#B0BEC5\",\"#B0BEC5\",\"red\",\"#B0BEC5\",\"#B0BEC5\",\"#B0BEC5\",\"#B0BEC5\"]]}],\"label\":\"Topic 75\",\"method\":\"update\"},{\"args\":[{\"marker.color\":[[\"#B0BEC5\",\"#B0BEC5\",\"#B0BEC5\",\"#B0BEC5\",\"#B0BEC5\",\"#B0BEC5\",\"#B0BEC5\",\"#B0BEC5\",\"#B0BEC5\",\"#B0BEC5\",\"#B0BEC5\",\"#B0BEC5\",\"#B0BEC5\",\"#B0BEC5\",\"#B0BEC5\",\"#B0BEC5\",\"#B0BEC5\",\"#B0BEC5\",\"#B0BEC5\",\"#B0BEC5\",\"#B0BEC5\",\"#B0BEC5\",\"#B0BEC5\",\"#B0BEC5\",\"#B0BEC5\",\"#B0BEC5\",\"#B0BEC5\",\"#B0BEC5\",\"#B0BEC5\",\"#B0BEC5\",\"#B0BEC5\",\"#B0BEC5\",\"#B0BEC5\",\"#B0BEC5\",\"#B0BEC5\",\"#B0BEC5\",\"#B0BEC5\",\"#B0BEC5\",\"#B0BEC5\",\"#B0BEC5\",\"#B0BEC5\",\"#B0BEC5\",\"#B0BEC5\",\"#B0BEC5\",\"#B0BEC5\",\"#B0BEC5\",\"#B0BEC5\",\"#B0BEC5\",\"#B0BEC5\",\"#B0BEC5\",\"#B0BEC5\",\"#B0BEC5\",\"#B0BEC5\",\"#B0BEC5\",\"#B0BEC5\",\"#B0BEC5\",\"#B0BEC5\",\"#B0BEC5\",\"#B0BEC5\",\"#B0BEC5\",\"#B0BEC5\",\"#B0BEC5\",\"#B0BEC5\",\"#B0BEC5\",\"#B0BEC5\",\"#B0BEC5\",\"#B0BEC5\",\"#B0BEC5\",\"#B0BEC5\",\"#B0BEC5\",\"#B0BEC5\",\"#B0BEC5\",\"#B0BEC5\",\"#B0BEC5\",\"#B0BEC5\",\"#B0BEC5\",\"red\",\"#B0BEC5\",\"#B0BEC5\",\"#B0BEC5\"]]}],\"label\":\"Topic 76\",\"method\":\"update\"},{\"args\":[{\"marker.color\":[[\"#B0BEC5\",\"#B0BEC5\",\"#B0BEC5\",\"#B0BEC5\",\"#B0BEC5\",\"#B0BEC5\",\"#B0BEC5\",\"#B0BEC5\",\"#B0BEC5\",\"#B0BEC5\",\"#B0BEC5\",\"#B0BEC5\",\"#B0BEC5\",\"#B0BEC5\",\"#B0BEC5\",\"#B0BEC5\",\"#B0BEC5\",\"#B0BEC5\",\"#B0BEC5\",\"#B0BEC5\",\"#B0BEC5\",\"#B0BEC5\",\"#B0BEC5\",\"#B0BEC5\",\"#B0BEC5\",\"#B0BEC5\",\"#B0BEC5\",\"#B0BEC5\",\"#B0BEC5\",\"#B0BEC5\",\"#B0BEC5\",\"#B0BEC5\",\"#B0BEC5\",\"#B0BEC5\",\"#B0BEC5\",\"#B0BEC5\",\"#B0BEC5\",\"#B0BEC5\",\"#B0BEC5\",\"#B0BEC5\",\"#B0BEC5\",\"#B0BEC5\",\"#B0BEC5\",\"#B0BEC5\",\"#B0BEC5\",\"#B0BEC5\",\"#B0BEC5\",\"#B0BEC5\",\"#B0BEC5\",\"#B0BEC5\",\"#B0BEC5\",\"#B0BEC5\",\"#B0BEC5\",\"#B0BEC5\",\"#B0BEC5\",\"#B0BEC5\",\"#B0BEC5\",\"#B0BEC5\",\"#B0BEC5\",\"#B0BEC5\",\"#B0BEC5\",\"#B0BEC5\",\"#B0BEC5\",\"#B0BEC5\",\"#B0BEC5\",\"#B0BEC5\",\"#B0BEC5\",\"#B0BEC5\",\"#B0BEC5\",\"#B0BEC5\",\"#B0BEC5\",\"#B0BEC5\",\"#B0BEC5\",\"#B0BEC5\",\"#B0BEC5\",\"#B0BEC5\",\"#B0BEC5\",\"red\",\"#B0BEC5\",\"#B0BEC5\"]]}],\"label\":\"Topic 77\",\"method\":\"update\"},{\"args\":[{\"marker.color\":[[\"#B0BEC5\",\"#B0BEC5\",\"#B0BEC5\",\"#B0BEC5\",\"#B0BEC5\",\"#B0BEC5\",\"#B0BEC5\",\"#B0BEC5\",\"#B0BEC5\",\"#B0BEC5\",\"#B0BEC5\",\"#B0BEC5\",\"#B0BEC5\",\"#B0BEC5\",\"#B0BEC5\",\"#B0BEC5\",\"#B0BEC5\",\"#B0BEC5\",\"#B0BEC5\",\"#B0BEC5\",\"#B0BEC5\",\"#B0BEC5\",\"#B0BEC5\",\"#B0BEC5\",\"#B0BEC5\",\"#B0BEC5\",\"#B0BEC5\",\"#B0BEC5\",\"#B0BEC5\",\"#B0BEC5\",\"#B0BEC5\",\"#B0BEC5\",\"#B0BEC5\",\"#B0BEC5\",\"#B0BEC5\",\"#B0BEC5\",\"#B0BEC5\",\"#B0BEC5\",\"#B0BEC5\",\"#B0BEC5\",\"#B0BEC5\",\"#B0BEC5\",\"#B0BEC5\",\"#B0BEC5\",\"#B0BEC5\",\"#B0BEC5\",\"#B0BEC5\",\"#B0BEC5\",\"#B0BEC5\",\"#B0BEC5\",\"#B0BEC5\",\"#B0BEC5\",\"#B0BEC5\",\"#B0BEC5\",\"#B0BEC5\",\"#B0BEC5\",\"#B0BEC5\",\"#B0BEC5\",\"#B0BEC5\",\"#B0BEC5\",\"#B0BEC5\",\"#B0BEC5\",\"#B0BEC5\",\"#B0BEC5\",\"#B0BEC5\",\"#B0BEC5\",\"#B0BEC5\",\"#B0BEC5\",\"#B0BEC5\",\"#B0BEC5\",\"#B0BEC5\",\"#B0BEC5\",\"#B0BEC5\",\"#B0BEC5\",\"#B0BEC5\",\"#B0BEC5\",\"#B0BEC5\",\"#B0BEC5\",\"red\",\"#B0BEC5\"]]}],\"label\":\"Topic 78\",\"method\":\"update\"},{\"args\":[{\"marker.color\":[[\"#B0BEC5\",\"#B0BEC5\",\"#B0BEC5\",\"#B0BEC5\",\"#B0BEC5\",\"#B0BEC5\",\"#B0BEC5\",\"#B0BEC5\",\"#B0BEC5\",\"#B0BEC5\",\"#B0BEC5\",\"#B0BEC5\",\"#B0BEC5\",\"#B0BEC5\",\"#B0BEC5\",\"#B0BEC5\",\"#B0BEC5\",\"#B0BEC5\",\"#B0BEC5\",\"#B0BEC5\",\"#B0BEC5\",\"#B0BEC5\",\"#B0BEC5\",\"#B0BEC5\",\"#B0BEC5\",\"#B0BEC5\",\"#B0BEC5\",\"#B0BEC5\",\"#B0BEC5\",\"#B0BEC5\",\"#B0BEC5\",\"#B0BEC5\",\"#B0BEC5\",\"#B0BEC5\",\"#B0BEC5\",\"#B0BEC5\",\"#B0BEC5\",\"#B0BEC5\",\"#B0BEC5\",\"#B0BEC5\",\"#B0BEC5\",\"#B0BEC5\",\"#B0BEC5\",\"#B0BEC5\",\"#B0BEC5\",\"#B0BEC5\",\"#B0BEC5\",\"#B0BEC5\",\"#B0BEC5\",\"#B0BEC5\",\"#B0BEC5\",\"#B0BEC5\",\"#B0BEC5\",\"#B0BEC5\",\"#B0BEC5\",\"#B0BEC5\",\"#B0BEC5\",\"#B0BEC5\",\"#B0BEC5\",\"#B0BEC5\",\"#B0BEC5\",\"#B0BEC5\",\"#B0BEC5\",\"#B0BEC5\",\"#B0BEC5\",\"#B0BEC5\",\"#B0BEC5\",\"#B0BEC5\",\"#B0BEC5\",\"#B0BEC5\",\"#B0BEC5\",\"#B0BEC5\",\"#B0BEC5\",\"#B0BEC5\",\"#B0BEC5\",\"#B0BEC5\",\"#B0BEC5\",\"#B0BEC5\",\"#B0BEC5\",\"red\"]]}],\"label\":\"Topic 79\",\"method\":\"update\"}]}],\"shapes\":[{\"line\":{\"color\":\"#CFD8DC\",\"width\":2},\"type\":\"line\",\"x0\":5.073200571537018,\"x1\":5.073200571537018,\"y0\":-10.657937479019164,\"y1\":17.36892123222351},{\"line\":{\"color\":\"#9E9E9E\",\"width\":2},\"type\":\"line\",\"x0\":-7.459676003456115,\"x1\":17.60607714653015,\"y0\":3.355491876602173,\"y1\":3.355491876602173}],\"annotations\":[{\"showarrow\":false,\"text\":\"D1\",\"x\":-7.459676003456115,\"y\":3.355491876602173,\"yshift\":10},{\"showarrow\":false,\"text\":\"D2\",\"x\":5.073200571537018,\"xshift\":10,\"y\":17.36892123222351}]},                        {\"responsive\": true}                    ).then(function(){\n",
              "                            \n",
              "var gd = document.getElementById('2628eebd-54e7-4c85-a4af-743a524d61e7');\n",
              "var x = new MutationObserver(function (mutations, observer) {{\n",
              "        var display = window.getComputedStyle(gd).display;\n",
              "        if (!display || display === 'none') {{\n",
              "            console.log([gd, 'removed!']);\n",
              "            Plotly.purge(gd);\n",
              "            observer.disconnect();\n",
              "        }}\n",
              "}});\n",
              "\n",
              "// Listen for the removal of the full notebook cells\n",
              "var notebookContainer = gd.closest('#notebook-container');\n",
              "if (notebookContainer) {{\n",
              "    x.observe(notebookContainer, {childList: true});\n",
              "}}\n",
              "\n",
              "// Listen for the clearing of the current output cell\n",
              "var outputEl = gd.closest('.output');\n",
              "if (outputEl) {{\n",
              "    x.observe(outputEl, {childList: true});\n",
              "}}\n",
              "\n",
              "                        })                };                            </script>        </div>\n",
              "</body>\n",
              "</html>"
            ]
          },
          "metadata": {}
        }
      ]
    },
    {
      "cell_type": "markdown",
      "source": [
        "### **Visualize Topic Hierarchy**\n",
        "\n",
        "The topics that were created can be hierarchically reduced. This visualization shows how the topics relate to one another."
      ],
      "metadata": {
        "id": "r-5bT7AgSgsv"
      }
    },
    {
      "cell_type": "code",
      "source": [
        "topic_model.visualize_hierarchy(top_n_topics=50)"
      ],
      "metadata": {
        "id": "TEoOpDD6S4D7",
        "outputId": "b0399cda-ce53-43d0-d81b-3d611bcb8c2e",
        "colab": {
          "base_uri": "https://localhost:8080/",
          "height": 967
        }
      },
      "execution_count": 29,
      "outputs": [
        {
          "output_type": "display_data",
          "data": {
            "text/html": [
              "<html>\n",
              "<head><meta charset=\"utf-8\" /></head>\n",
              "<body>\n",
              "    <div>            <script src=\"https://cdnjs.cloudflare.com/ajax/libs/mathjax/2.7.5/MathJax.js?config=TeX-AMS-MML_SVG\"></script><script type=\"text/javascript\">if (window.MathJax) {MathJax.Hub.Config({SVG: {font: \"STIX-Web\"}});}</script>                <script type=\"text/javascript\">window.PlotlyConfig = {MathJaxConfig: 'local'};</script>\n",
              "        <script src=\"https://cdn.plot.ly/plotly-2.8.3.min.js\"></script>                <div id=\"bbcc9e08-9ebb-4b05-9504-7276831b003d\" class=\"plotly-graph-div\" style=\"height:950px; width:1000px;\"></div>            <script type=\"text/javascript\">                                    window.PLOTLYENV=window.PLOTLYENV || {};                                    if (document.getElementById(\"bbcc9e08-9ebb-4b05-9504-7276831b003d\")) {                    Plotly.newPlot(                        \"bbcc9e08-9ebb-4b05-9504-7276831b003d\",                        [{\"hoverinfo\":\"text\",\"marker\":{\"color\":\"rgb(61,153,112)\"},\"mode\":\"lines\",\"x\":[0.0,0.5872936046243774,0.5872936046243774,0.0],\"xaxis\":\"x\",\"y\":[-5.0,-5.0,-15.0,-15.0],\"yaxis\":\"y\",\"type\":\"scatter\"},{\"hoverinfo\":\"text\",\"marker\":{\"color\":\"rgb(61,153,112)\"},\"mode\":\"lines\",\"x\":[0.0,0.6403683558564014,0.6403683558564014,0.0],\"xaxis\":\"x\",\"y\":[-25.0,-25.0,-35.0,-35.0],\"yaxis\":\"y\",\"type\":\"scatter\"},{\"hoverinfo\":\"text\",\"marker\":{\"color\":\"rgb(61,153,112)\"},\"mode\":\"lines\",\"x\":[0.6403683558564014,0.773804079198305,0.773804079198305,0.0],\"xaxis\":\"x\",\"y\":[-30.0,-30.0,-45.0,-45.0],\"yaxis\":\"y\",\"type\":\"scatter\"},{\"hoverinfo\":\"text\",\"marker\":{\"color\":\"rgb(61,153,112)\"},\"mode\":\"lines\",\"x\":[0.5872936046243774,0.9023386145084041,0.9023386145084041,0.773804079198305],\"xaxis\":\"x\",\"y\":[-10.0,-10.0,-37.5,-37.5],\"yaxis\":\"y\",\"type\":\"scatter\"},{\"hoverinfo\":\"text\",\"marker\":{\"color\":\"rgb(255,65,54)\"},\"mode\":\"lines\",\"x\":[0.0,0.9933066037303914,0.9933066037303914,0.0],\"xaxis\":\"x\",\"y\":[-55.0,-55.0,-65.0,-65.0],\"yaxis\":\"y\",\"type\":\"scatter\"},{\"hoverinfo\":\"text\",\"marker\":{\"color\":\"rgb(35,205,205)\"},\"mode\":\"lines\",\"x\":[0.0,0.909910104400072,0.909910104400072,0.0],\"xaxis\":\"x\",\"y\":[-75.0,-75.0,-85.0,-85.0],\"yaxis\":\"y\",\"type\":\"scatter\"},{\"hoverinfo\":\"text\",\"marker\":{\"color\":\"rgb(35,205,205)\"},\"mode\":\"lines\",\"x\":[0.909910104400072,0.9298343018104441,0.9298343018104441,0.0],\"xaxis\":\"x\",\"y\":[-80.0,-80.0,-95.0,-95.0],\"yaxis\":\"y\",\"type\":\"scatter\"},{\"hoverinfo\":\"text\",\"marker\":{\"color\":\"rgb(0,116,217)\"},\"mode\":\"lines\",\"x\":[0.9298343018104441,1.0814993039354548,1.0814993039354548,0.0],\"xaxis\":\"x\",\"y\":[-87.5,-87.5,-105.0,-105.0],\"yaxis\":\"y\",\"type\":\"scatter\"},{\"hoverinfo\":\"text\",\"marker\":{\"color\":\"rgb(0,116,217)\"},\"mode\":\"lines\",\"x\":[0.9933066037303914,1.1737943126331436,1.1737943126331436,1.0814993039354548],\"xaxis\":\"x\",\"y\":[-60.0,-60.0,-96.25,-96.25],\"yaxis\":\"y\",\"type\":\"scatter\"},{\"hoverinfo\":\"text\",\"marker\":{\"color\":\"rgb(133,20,75)\"},\"mode\":\"lines\",\"x\":[0.0,0.7591642140042401,0.7591642140042401,0.0],\"xaxis\":\"x\",\"y\":[-115.0,-115.0,-125.0,-125.0],\"yaxis\":\"y\",\"type\":\"scatter\"},{\"hoverinfo\":\"text\",\"marker\":{\"color\":\"rgb(0,116,217)\"},\"mode\":\"lines\",\"x\":[1.1737943126331436,1.2387616820560612,1.2387616820560612,0.7591642140042401],\"xaxis\":\"x\",\"y\":[-78.125,-78.125,-120.0,-120.0],\"yaxis\":\"y\",\"type\":\"scatter\"},{\"hoverinfo\":\"text\",\"marker\":{\"color\":\"rgb(0,116,217)\"},\"mode\":\"lines\",\"x\":[0.9023386145084041,1.4951588988043325,1.4951588988043325,1.2387616820560612],\"xaxis\":\"x\",\"y\":[-23.75,-23.75,-99.0625,-99.0625],\"yaxis\":\"y\",\"type\":\"scatter\"},{\"hoverinfo\":\"text\",\"marker\":{\"color\":\"rgb(255,220,0)\"},\"mode\":\"lines\",\"x\":[0.0,0.9795150829780596,0.9795150829780596,0.0],\"xaxis\":\"x\",\"y\":[-145.0,-145.0,-155.0,-155.0],\"yaxis\":\"y\",\"type\":\"scatter\"},{\"hoverinfo\":\"text\",\"marker\":{\"color\":\"rgb(0,116,217)\"},\"mode\":\"lines\",\"x\":[0.0,1.190134440403591,1.190134440403591,0.9795150829780596],\"xaxis\":\"x\",\"y\":[-135.0,-135.0,-150.0,-150.0],\"yaxis\":\"y\",\"type\":\"scatter\"},{\"hoverinfo\":\"text\",\"marker\":{\"color\":\"rgb(40,35,35)\"},\"mode\":\"lines\",\"x\":[0.0,0.8502719665049996,0.8502719665049996,0.0],\"xaxis\":\"x\",\"y\":[-165.0,-165.0,-175.0,-175.0],\"yaxis\":\"y\",\"type\":\"scatter\"},{\"hoverinfo\":\"text\",\"marker\":{\"color\":\"rgb(0,116,217)\"},\"mode\":\"lines\",\"x\":[1.190134440403591,1.320882413245601,1.320882413245601,0.8502719665049996],\"xaxis\":\"x\",\"y\":[-142.5,-142.5,-170.0,-170.0],\"yaxis\":\"y\",\"type\":\"scatter\"},{\"hoverinfo\":\"text\",\"marker\":{\"color\":\"rgb(61,153,112)\"},\"mode\":\"lines\",\"x\":[0.0,0.8613227496560761,0.8613227496560761,0.0],\"xaxis\":\"x\",\"y\":[-185.0,-185.0,-195.0,-195.0],\"yaxis\":\"y\",\"type\":\"scatter\"},{\"hoverinfo\":\"text\",\"marker\":{\"color\":\"rgb(255,65,54)\"},\"mode\":\"lines\",\"x\":[0.0,0.8482900428950039,0.8482900428950039,0.0],\"xaxis\":\"x\",\"y\":[-205.0,-205.0,-215.0,-215.0],\"yaxis\":\"y\",\"type\":\"scatter\"},{\"hoverinfo\":\"text\",\"marker\":{\"color\":\"rgb(0,116,217)\"},\"mode\":\"lines\",\"x\":[0.8613227496560761,1.0522622245195545,1.0522622245195545,0.8482900428950039],\"xaxis\":\"x\",\"y\":[-190.0,-190.0,-210.0,-210.0],\"yaxis\":\"y\",\"type\":\"scatter\"},{\"hoverinfo\":\"text\",\"marker\":{\"color\":\"rgb(0,116,217)\"},\"mode\":\"lines\",\"x\":[1.320882413245601,1.9895512563663527,1.9895512563663527,1.0522622245195545],\"xaxis\":\"x\",\"y\":[-156.25,-156.25,-200.0,-200.0],\"yaxis\":\"y\",\"type\":\"scatter\"},{\"hoverinfo\":\"text\",\"marker\":{\"color\":\"rgb(0,116,217)\"},\"mode\":\"lines\",\"x\":[0.0,1.4231682683068996,1.4231682683068996,0.0],\"xaxis\":\"x\",\"y\":[-225.0,-225.0,-235.0,-235.0],\"yaxis\":\"y\",\"type\":\"scatter\"},{\"hoverinfo\":\"text\",\"marker\":{\"color\":\"rgb(0,116,217)\"},\"mode\":\"lines\",\"x\":[0.0,1.14979683993627,1.14979683993627,0.0],\"xaxis\":\"x\",\"y\":[-255.0,-255.0,-265.0,-265.0],\"yaxis\":\"y\",\"type\":\"scatter\"},{\"hoverinfo\":\"text\",\"marker\":{\"color\":\"rgb(0,116,217)\"},\"mode\":\"lines\",\"x\":[1.14979683993627,1.2377540184610136,1.2377540184610136,0.0],\"xaxis\":\"x\",\"y\":[-260.0,-260.0,-275.0,-275.0],\"yaxis\":\"y\",\"type\":\"scatter\"},{\"hoverinfo\":\"text\",\"marker\":{\"color\":\"rgb(0,116,217)\"},\"mode\":\"lines\",\"x\":[0.0,1.3122525975470232,1.3122525975470232,1.2377540184610136],\"xaxis\":\"x\",\"y\":[-245.0,-245.0,-267.5,-267.5],\"yaxis\":\"y\",\"type\":\"scatter\"},{\"hoverinfo\":\"text\",\"marker\":{\"color\":\"rgb(0,116,217)\"},\"mode\":\"lines\",\"x\":[0.0,1.1468011861481318,1.1468011861481318,0.0],\"xaxis\":\"x\",\"y\":[-285.0,-285.0,-295.0,-295.0],\"yaxis\":\"y\",\"type\":\"scatter\"},{\"hoverinfo\":\"text\",\"marker\":{\"color\":\"rgb(0,116,217)\"},\"mode\":\"lines\",\"x\":[1.1468011861481318,1.274325722786042,1.274325722786042,0.0],\"xaxis\":\"x\",\"y\":[-290.0,-290.0,-305.0,-305.0],\"yaxis\":\"y\",\"type\":\"scatter\"},{\"hoverinfo\":\"text\",\"marker\":{\"color\":\"rgb(0,116,217)\"},\"mode\":\"lines\",\"x\":[1.3122525975470232,1.4305153087615643,1.4305153087615643,1.274325722786042],\"xaxis\":\"x\",\"y\":[-256.25,-256.25,-297.5,-297.5],\"yaxis\":\"y\",\"type\":\"scatter\"},{\"hoverinfo\":\"text\",\"marker\":{\"color\":\"rgb(0,116,217)\"},\"mode\":\"lines\",\"x\":[0.0,1.2050352267789934,1.2050352267789934,0.0],\"xaxis\":\"x\",\"y\":[-315.0,-315.0,-325.0,-325.0],\"yaxis\":\"y\",\"type\":\"scatter\"},{\"hoverinfo\":\"text\",\"marker\":{\"color\":\"rgb(0,116,217)\"},\"mode\":\"lines\",\"x\":[1.2050352267789934,1.3117057696917194,1.3117057696917194,0.0],\"xaxis\":\"x\",\"y\":[-320.0,-320.0,-335.0,-335.0],\"yaxis\":\"y\",\"type\":\"scatter\"},{\"hoverinfo\":\"text\",\"marker\":{\"color\":\"rgb(0,116,217)\"},\"mode\":\"lines\",\"x\":[1.4305153087615643,1.5996334539120767,1.5996334539120767,1.3117057696917194],\"xaxis\":\"x\",\"y\":[-276.875,-276.875,-327.5,-327.5],\"yaxis\":\"y\",\"type\":\"scatter\"},{\"hoverinfo\":\"text\",\"marker\":{\"color\":\"rgb(0,116,217)\"},\"mode\":\"lines\",\"x\":[1.4231682683068996,1.6842961158120937,1.6842961158120937,1.5996334539120767],\"xaxis\":\"x\",\"y\":[-230.0,-230.0,-302.1875,-302.1875],\"yaxis\":\"y\",\"type\":\"scatter\"},{\"hoverinfo\":\"text\",\"marker\":{\"color\":\"rgb(0,116,217)\"},\"mode\":\"lines\",\"x\":[0.0,1.0956117580655835,1.0956117580655835,0.0],\"xaxis\":\"x\",\"y\":[-355.0,-355.0,-365.0,-365.0],\"yaxis\":\"y\",\"type\":\"scatter\"},{\"hoverinfo\":\"text\",\"marker\":{\"color\":\"rgb(35,205,205)\"},\"mode\":\"lines\",\"x\":[0.0,0.9847357572275074,0.9847357572275074,0.0],\"xaxis\":\"x\",\"y\":[-375.0,-375.0,-385.0,-385.0],\"yaxis\":\"y\",\"type\":\"scatter\"},{\"hoverinfo\":\"text\",\"marker\":{\"color\":\"rgb(0,116,217)\"},\"mode\":\"lines\",\"x\":[1.0956117580655835,1.2654203010687644,1.2654203010687644,0.9847357572275074],\"xaxis\":\"x\",\"y\":[-360.0,-360.0,-380.0,-380.0],\"yaxis\":\"y\",\"type\":\"scatter\"},{\"hoverinfo\":\"text\",\"marker\":{\"color\":\"rgb(0,116,217)\"},\"mode\":\"lines\",\"x\":[0.0,1.2985086717916485,1.2985086717916485,1.2654203010687644],\"xaxis\":\"x\",\"y\":[-345.0,-345.0,-370.0,-370.0],\"yaxis\":\"y\",\"type\":\"scatter\"},{\"hoverinfo\":\"text\",\"marker\":{\"color\":\"rgb(61,153,112)\"},\"mode\":\"lines\",\"x\":[0.0,0.8128232528056457,0.8128232528056457,0.0],\"xaxis\":\"x\",\"y\":[-395.0,-395.0,-405.0,-405.0],\"yaxis\":\"y\",\"type\":\"scatter\"},{\"hoverinfo\":\"text\",\"marker\":{\"color\":\"rgb(0,116,217)\"},\"mode\":\"lines\",\"x\":[1.2985086717916485,1.4748682436403089,1.4748682436403089,0.8128232528056457],\"xaxis\":\"x\",\"y\":[-357.5,-357.5,-400.0,-400.0],\"yaxis\":\"y\",\"type\":\"scatter\"},{\"hoverinfo\":\"text\",\"marker\":{\"color\":\"rgb(255,65,54)\"},\"mode\":\"lines\",\"x\":[0.0,0.9488201938213012,0.9488201938213012,0.0],\"xaxis\":\"x\",\"y\":[-425.0,-425.0,-435.0,-435.0],\"yaxis\":\"y\",\"type\":\"scatter\"},{\"hoverinfo\":\"text\",\"marker\":{\"color\":\"rgb(255,65,54)\"},\"mode\":\"lines\",\"x\":[0.0,0.9992573386589876,0.9992573386589876,0.9488201938213012],\"xaxis\":\"x\",\"y\":[-415.0,-415.0,-430.0,-430.0],\"yaxis\":\"y\",\"type\":\"scatter\"},{\"hoverinfo\":\"text\",\"marker\":{\"color\":\"rgb(35,205,205)\"},\"mode\":\"lines\",\"x\":[0.0,0.7842501928433909,0.7842501928433909,0.0],\"xaxis\":\"x\",\"y\":[-445.0,-445.0,-455.0,-455.0],\"yaxis\":\"y\",\"type\":\"scatter\"},{\"hoverinfo\":\"text\",\"marker\":{\"color\":\"rgb(0,116,217)\"},\"mode\":\"lines\",\"x\":[0.9992573386589876,1.0890373940365574,1.0890373940365574,0.7842501928433909],\"xaxis\":\"x\",\"y\":[-422.5,-422.5,-450.0,-450.0],\"yaxis\":\"y\",\"type\":\"scatter\"},{\"hoverinfo\":\"text\",\"marker\":{\"color\":\"rgb(0,116,217)\"},\"mode\":\"lines\",\"x\":[0.0,1.1287986212965118,1.1287986212965118,0.0],\"xaxis\":\"x\",\"y\":[-475.0,-475.0,-485.0,-485.0],\"yaxis\":\"y\",\"type\":\"scatter\"},{\"hoverinfo\":\"text\",\"marker\":{\"color\":\"rgb(0,116,217)\"},\"mode\":\"lines\",\"x\":[1.1287986212965118,1.2041856200907395,1.2041856200907395,0.0],\"xaxis\":\"x\",\"y\":[-480.0,-480.0,-495.0,-495.0],\"yaxis\":\"y\",\"type\":\"scatter\"},{\"hoverinfo\":\"text\",\"marker\":{\"color\":\"rgb(0,116,217)\"},\"mode\":\"lines\",\"x\":[0.0,1.3732548238019566,1.3732548238019566,1.2041856200907395],\"xaxis\":\"x\",\"y\":[-465.0,-465.0,-487.5,-487.5],\"yaxis\":\"y\",\"type\":\"scatter\"},{\"hoverinfo\":\"text\",\"marker\":{\"color\":\"rgb(0,116,217)\"},\"mode\":\"lines\",\"x\":[1.0890373940365574,1.7319920375830988,1.7319920375830988,1.3732548238019566],\"xaxis\":\"x\",\"y\":[-436.25,-436.25,-476.25,-476.25],\"yaxis\":\"y\",\"type\":\"scatter\"},{\"hoverinfo\":\"text\",\"marker\":{\"color\":\"rgb(0,116,217)\"},\"mode\":\"lines\",\"x\":[1.4748682436403089,1.8787172568390587,1.8787172568390587,1.7319920375830988],\"xaxis\":\"x\",\"y\":[-378.75,-378.75,-456.25,-456.25],\"yaxis\":\"y\",\"type\":\"scatter\"},{\"hoverinfo\":\"text\",\"marker\":{\"color\":\"rgb(0,116,217)\"},\"mode\":\"lines\",\"x\":[1.6842961158120937,2.4886326009952637,2.4886326009952637,1.8787172568390587],\"xaxis\":\"x\",\"y\":[-266.09375,-266.09375,-417.5,-417.5],\"yaxis\":\"y\",\"type\":\"scatter\"},{\"hoverinfo\":\"text\",\"marker\":{\"color\":\"rgb(0,116,217)\"},\"mode\":\"lines\",\"x\":[1.9895512563663527,2.9806760603483493,2.9806760603483493,2.4886326009952637],\"xaxis\":\"x\",\"y\":[-178.125,-178.125,-341.796875,-341.796875],\"yaxis\":\"y\",\"type\":\"scatter\"},{\"hoverinfo\":\"text\",\"marker\":{\"color\":\"rgb(0,116,217)\"},\"mode\":\"lines\",\"x\":[1.4951588988043325,4.322018798627396,4.322018798627396,2.9806760603483493],\"xaxis\":\"x\",\"y\":[-61.40625,-61.40625,-259.9609375,-259.9609375],\"yaxis\":\"y\",\"type\":\"scatter\"}],                        {\"autosize\":false,\"height\":950,\"hovermode\":\"closest\",\"showlegend\":false,\"width\":1000,\"xaxis\":{\"mirror\":\"allticks\",\"rangemode\":\"tozero\",\"showgrid\":false,\"showline\":true,\"showticklabels\":true,\"ticks\":\"outside\",\"type\":\"linear\",\"zeroline\":false},\"yaxis\":{\"mirror\":\"allticks\",\"rangemode\":\"tozero\",\"showgrid\":false,\"showline\":true,\"showticklabels\":true,\"tickmode\":\"array\",\"ticks\":\"outside\",\"ticktext\":[\"0_amazon_prime_assinatura\",\"10_loja_compra_poi\",\"3_celular_samsung_aparelho\",\"1_casas_bahia_whatsapp\",\"2_entrega_atraso_prazo\",\"46_rota_mercado_noite\",\"44_entrega_feira_separa\\u00e7\\u00e3o\",\"9_americana_lojas_site\",\"5_cancelamento_cancelar_ped...\",\"11_iphone_apple_aparelho\",\"4_propaganda_enganosa_an\\u00fancio\",\"8_livre_mercado_plataforma\",\"7_produto_quebrado_defeito\",\"47_estorno_cancelei_cancela...\",\"29_cart\\u00e3o_fatura_gift\",\"25_mercado_livre_pago\",\"14_cart\\u00e3o_cr\\u00e9dito_pagamento\",\"49_cart\\u00e3o_duas_cart\\u00f5es\",\"40_cart\\u00e3o_conta_bloqueada\",\"39_bloqueada_conta_contas\",\"6_conta_senha_mail\",\"36_conta_suspensa_mercado\",\"35_reconhecimento_facial_ro...\",\"42_cadeira_cama_gamer\",\"38_pneu_pneus_pastilhas\",\"30_bluetooth_fone_ouvido\",\"28_devolu\\u00e7\\u00e3o_c\\u00f3digo_devolver\",\"24_t\\u00eanis_tenis_raquete\",\"15_geladeira_refrigerador_t...\",\"23_m\\u00e1quina_lavar_maquina\",\"16_jogo_lan\\u00e7amento_venda\",\"20_cashback_02_valor\",\"41_americana_lojas_fritadeira\",\"48_pagamento_confirma\\u00e7\\u00e3o_bo...\",\"43_frete_disjuntores_paguei\",\"31_produtos_produto_notinha\",\"12_roupas_vestido_cal\\u00e7a\",\"19_dinheiro_quero_volta\",\"34_aplicativo_postagem_bota\",\"18_reembolso_taxada_shein\",\"45_taxon_shein_taxada\",\"13_brasil_shein_pedido\",\"32_remetente_pedido_shein\",\"27_shein_encomenda_pedido\",\"21_entregue_recebi_chegou\",\"26_endere\\u00e7o_casa_pedido\",\"33_endere\\u00e7o_errado_alterar\",\"17_curitiba_parado_tr\\u00e2nsito\",\"37_china_nacional_order\",\"22_rastreio_c\\u00f3digo_rastream...\"],\"tickvals\":[-5.0,-15.0,-25.0,-35.0,-45.0,-55.0,-65.0,-75.0,-85.0,-95.0,-105.0,-115.0,-125.0,-135.0,-145.0,-155.0,-165.0,-175.0,-185.0,-195.0,-205.0,-215.0,-225.0,-235.0,-245.0,-255.0,-265.0,-275.0,-285.0,-295.0,-305.0,-315.0,-325.0,-335.0,-345.0,-355.0,-365.0,-375.0,-385.0,-395.0,-405.0,-415.0,-425.0,-435.0,-445.0,-455.0,-465.0,-475.0,-485.0,-495.0],\"type\":\"linear\",\"zeroline\":false,\"range\":[-500.0,0.0]},\"template\":{\"data\":{\"barpolar\":[{\"marker\":{\"line\":{\"color\":\"white\",\"width\":0.5},\"pattern\":{\"fillmode\":\"overlay\",\"size\":10,\"solidity\":0.2}},\"type\":\"barpolar\"}],\"bar\":[{\"error_x\":{\"color\":\"#2a3f5f\"},\"error_y\":{\"color\":\"#2a3f5f\"},\"marker\":{\"line\":{\"color\":\"white\",\"width\":0.5},\"pattern\":{\"fillmode\":\"overlay\",\"size\":10,\"solidity\":0.2}},\"type\":\"bar\"}],\"carpet\":[{\"aaxis\":{\"endlinecolor\":\"#2a3f5f\",\"gridcolor\":\"#C8D4E3\",\"linecolor\":\"#C8D4E3\",\"minorgridcolor\":\"#C8D4E3\",\"startlinecolor\":\"#2a3f5f\"},\"baxis\":{\"endlinecolor\":\"#2a3f5f\",\"gridcolor\":\"#C8D4E3\",\"linecolor\":\"#C8D4E3\",\"minorgridcolor\":\"#C8D4E3\",\"startlinecolor\":\"#2a3f5f\"},\"type\":\"carpet\"}],\"choropleth\":[{\"colorbar\":{\"outlinewidth\":0,\"ticks\":\"\"},\"type\":\"choropleth\"}],\"contourcarpet\":[{\"colorbar\":{\"outlinewidth\":0,\"ticks\":\"\"},\"type\":\"contourcarpet\"}],\"contour\":[{\"colorbar\":{\"outlinewidth\":0,\"ticks\":\"\"},\"colorscale\":[[0.0,\"#0d0887\"],[0.1111111111111111,\"#46039f\"],[0.2222222222222222,\"#7201a8\"],[0.3333333333333333,\"#9c179e\"],[0.4444444444444444,\"#bd3786\"],[0.5555555555555556,\"#d8576b\"],[0.6666666666666666,\"#ed7953\"],[0.7777777777777778,\"#fb9f3a\"],[0.8888888888888888,\"#fdca26\"],[1.0,\"#f0f921\"]],\"type\":\"contour\"}],\"heatmapgl\":[{\"colorbar\":{\"outlinewidth\":0,\"ticks\":\"\"},\"colorscale\":[[0.0,\"#0d0887\"],[0.1111111111111111,\"#46039f\"],[0.2222222222222222,\"#7201a8\"],[0.3333333333333333,\"#9c179e\"],[0.4444444444444444,\"#bd3786\"],[0.5555555555555556,\"#d8576b\"],[0.6666666666666666,\"#ed7953\"],[0.7777777777777778,\"#fb9f3a\"],[0.8888888888888888,\"#fdca26\"],[1.0,\"#f0f921\"]],\"type\":\"heatmapgl\"}],\"heatmap\":[{\"colorbar\":{\"outlinewidth\":0,\"ticks\":\"\"},\"colorscale\":[[0.0,\"#0d0887\"],[0.1111111111111111,\"#46039f\"],[0.2222222222222222,\"#7201a8\"],[0.3333333333333333,\"#9c179e\"],[0.4444444444444444,\"#bd3786\"],[0.5555555555555556,\"#d8576b\"],[0.6666666666666666,\"#ed7953\"],[0.7777777777777778,\"#fb9f3a\"],[0.8888888888888888,\"#fdca26\"],[1.0,\"#f0f921\"]],\"type\":\"heatmap\"}],\"histogram2dcontour\":[{\"colorbar\":{\"outlinewidth\":0,\"ticks\":\"\"},\"colorscale\":[[0.0,\"#0d0887\"],[0.1111111111111111,\"#46039f\"],[0.2222222222222222,\"#7201a8\"],[0.3333333333333333,\"#9c179e\"],[0.4444444444444444,\"#bd3786\"],[0.5555555555555556,\"#d8576b\"],[0.6666666666666666,\"#ed7953\"],[0.7777777777777778,\"#fb9f3a\"],[0.8888888888888888,\"#fdca26\"],[1.0,\"#f0f921\"]],\"type\":\"histogram2dcontour\"}],\"histogram2d\":[{\"colorbar\":{\"outlinewidth\":0,\"ticks\":\"\"},\"colorscale\":[[0.0,\"#0d0887\"],[0.1111111111111111,\"#46039f\"],[0.2222222222222222,\"#7201a8\"],[0.3333333333333333,\"#9c179e\"],[0.4444444444444444,\"#bd3786\"],[0.5555555555555556,\"#d8576b\"],[0.6666666666666666,\"#ed7953\"],[0.7777777777777778,\"#fb9f3a\"],[0.8888888888888888,\"#fdca26\"],[1.0,\"#f0f921\"]],\"type\":\"histogram2d\"}],\"histogram\":[{\"marker\":{\"pattern\":{\"fillmode\":\"overlay\",\"size\":10,\"solidity\":0.2}},\"type\":\"histogram\"}],\"mesh3d\":[{\"colorbar\":{\"outlinewidth\":0,\"ticks\":\"\"},\"type\":\"mesh3d\"}],\"parcoords\":[{\"line\":{\"colorbar\":{\"outlinewidth\":0,\"ticks\":\"\"}},\"type\":\"parcoords\"}],\"pie\":[{\"automargin\":true,\"type\":\"pie\"}],\"scatter3d\":[{\"line\":{\"colorbar\":{\"outlinewidth\":0,\"ticks\":\"\"}},\"marker\":{\"colorbar\":{\"outlinewidth\":0,\"ticks\":\"\"}},\"type\":\"scatter3d\"}],\"scattercarpet\":[{\"marker\":{\"colorbar\":{\"outlinewidth\":0,\"ticks\":\"\"}},\"type\":\"scattercarpet\"}],\"scattergeo\":[{\"marker\":{\"colorbar\":{\"outlinewidth\":0,\"ticks\":\"\"}},\"type\":\"scattergeo\"}],\"scattergl\":[{\"marker\":{\"colorbar\":{\"outlinewidth\":0,\"ticks\":\"\"}},\"type\":\"scattergl\"}],\"scattermapbox\":[{\"marker\":{\"colorbar\":{\"outlinewidth\":0,\"ticks\":\"\"}},\"type\":\"scattermapbox\"}],\"scatterpolargl\":[{\"marker\":{\"colorbar\":{\"outlinewidth\":0,\"ticks\":\"\"}},\"type\":\"scatterpolargl\"}],\"scatterpolar\":[{\"marker\":{\"colorbar\":{\"outlinewidth\":0,\"ticks\":\"\"}},\"type\":\"scatterpolar\"}],\"scatter\":[{\"marker\":{\"colorbar\":{\"outlinewidth\":0,\"ticks\":\"\"}},\"type\":\"scatter\"}],\"scatterternary\":[{\"marker\":{\"colorbar\":{\"outlinewidth\":0,\"ticks\":\"\"}},\"type\":\"scatterternary\"}],\"surface\":[{\"colorbar\":{\"outlinewidth\":0,\"ticks\":\"\"},\"colorscale\":[[0.0,\"#0d0887\"],[0.1111111111111111,\"#46039f\"],[0.2222222222222222,\"#7201a8\"],[0.3333333333333333,\"#9c179e\"],[0.4444444444444444,\"#bd3786\"],[0.5555555555555556,\"#d8576b\"],[0.6666666666666666,\"#ed7953\"],[0.7777777777777778,\"#fb9f3a\"],[0.8888888888888888,\"#fdca26\"],[1.0,\"#f0f921\"]],\"type\":\"surface\"}],\"table\":[{\"cells\":{\"fill\":{\"color\":\"#EBF0F8\"},\"line\":{\"color\":\"white\"}},\"header\":{\"fill\":{\"color\":\"#C8D4E3\"},\"line\":{\"color\":\"white\"}},\"type\":\"table\"}]},\"layout\":{\"annotationdefaults\":{\"arrowcolor\":\"#2a3f5f\",\"arrowhead\":0,\"arrowwidth\":1},\"autotypenumbers\":\"strict\",\"coloraxis\":{\"colorbar\":{\"outlinewidth\":0,\"ticks\":\"\"}},\"colorscale\":{\"diverging\":[[0,\"#8e0152\"],[0.1,\"#c51b7d\"],[0.2,\"#de77ae\"],[0.3,\"#f1b6da\"],[0.4,\"#fde0ef\"],[0.5,\"#f7f7f7\"],[0.6,\"#e6f5d0\"],[0.7,\"#b8e186\"],[0.8,\"#7fbc41\"],[0.9,\"#4d9221\"],[1,\"#276419\"]],\"sequential\":[[0.0,\"#0d0887\"],[0.1111111111111111,\"#46039f\"],[0.2222222222222222,\"#7201a8\"],[0.3333333333333333,\"#9c179e\"],[0.4444444444444444,\"#bd3786\"],[0.5555555555555556,\"#d8576b\"],[0.6666666666666666,\"#ed7953\"],[0.7777777777777778,\"#fb9f3a\"],[0.8888888888888888,\"#fdca26\"],[1.0,\"#f0f921\"]],\"sequentialminus\":[[0.0,\"#0d0887\"],[0.1111111111111111,\"#46039f\"],[0.2222222222222222,\"#7201a8\"],[0.3333333333333333,\"#9c179e\"],[0.4444444444444444,\"#bd3786\"],[0.5555555555555556,\"#d8576b\"],[0.6666666666666666,\"#ed7953\"],[0.7777777777777778,\"#fb9f3a\"],[0.8888888888888888,\"#fdca26\"],[1.0,\"#f0f921\"]]},\"colorway\":[\"#636efa\",\"#EF553B\",\"#00cc96\",\"#ab63fa\",\"#FFA15A\",\"#19d3f3\",\"#FF6692\",\"#B6E880\",\"#FF97FF\",\"#FECB52\"],\"font\":{\"color\":\"#2a3f5f\"},\"geo\":{\"bgcolor\":\"white\",\"lakecolor\":\"white\",\"landcolor\":\"white\",\"showlakes\":true,\"showland\":true,\"subunitcolor\":\"#C8D4E3\"},\"hoverlabel\":{\"align\":\"left\"},\"hovermode\":\"closest\",\"mapbox\":{\"style\":\"light\"},\"paper_bgcolor\":\"white\",\"plot_bgcolor\":\"white\",\"polar\":{\"angularaxis\":{\"gridcolor\":\"#EBF0F8\",\"linecolor\":\"#EBF0F8\",\"ticks\":\"\"},\"bgcolor\":\"white\",\"radialaxis\":{\"gridcolor\":\"#EBF0F8\",\"linecolor\":\"#EBF0F8\",\"ticks\":\"\"}},\"scene\":{\"xaxis\":{\"backgroundcolor\":\"white\",\"gridcolor\":\"#DFE8F3\",\"gridwidth\":2,\"linecolor\":\"#EBF0F8\",\"showbackground\":true,\"ticks\":\"\",\"zerolinecolor\":\"#EBF0F8\"},\"yaxis\":{\"backgroundcolor\":\"white\",\"gridcolor\":\"#DFE8F3\",\"gridwidth\":2,\"linecolor\":\"#EBF0F8\",\"showbackground\":true,\"ticks\":\"\",\"zerolinecolor\":\"#EBF0F8\"},\"zaxis\":{\"backgroundcolor\":\"white\",\"gridcolor\":\"#DFE8F3\",\"gridwidth\":2,\"linecolor\":\"#EBF0F8\",\"showbackground\":true,\"ticks\":\"\",\"zerolinecolor\":\"#EBF0F8\"}},\"shapedefaults\":{\"line\":{\"color\":\"#2a3f5f\"}},\"ternary\":{\"aaxis\":{\"gridcolor\":\"#DFE8F3\",\"linecolor\":\"#A2B1C6\",\"ticks\":\"\"},\"baxis\":{\"gridcolor\":\"#DFE8F3\",\"linecolor\":\"#A2B1C6\",\"ticks\":\"\"},\"bgcolor\":\"white\",\"caxis\":{\"gridcolor\":\"#DFE8F3\",\"linecolor\":\"#A2B1C6\",\"ticks\":\"\"}},\"title\":{\"x\":0.05},\"xaxis\":{\"automargin\":true,\"gridcolor\":\"#EBF0F8\",\"linecolor\":\"#EBF0F8\",\"ticks\":\"\",\"title\":{\"standoff\":15},\"zerolinecolor\":\"#EBF0F8\",\"zerolinewidth\":2},\"yaxis\":{\"automargin\":true,\"gridcolor\":\"#EBF0F8\",\"linecolor\":\"#EBF0F8\",\"ticks\":\"\",\"title\":{\"standoff\":15},\"zerolinecolor\":\"#EBF0F8\",\"zerolinewidth\":2}}},\"title\":{\"font\":{\"size\":22,\"color\":\"Black\"},\"text\":\"<b>Hierarchical Clustering\",\"x\":0.5,\"xanchor\":\"center\",\"yanchor\":\"top\"},\"hoverlabel\":{\"font\":{\"size\":16,\"family\":\"Rockwell\"},\"bgcolor\":\"white\"},\"plot_bgcolor\":\"#ECEFF1\"},                        {\"responsive\": true}                    ).then(function(){\n",
              "                            \n",
              "var gd = document.getElementById('bbcc9e08-9ebb-4b05-9504-7276831b003d');\n",
              "var x = new MutationObserver(function (mutations, observer) {{\n",
              "        var display = window.getComputedStyle(gd).display;\n",
              "        if (!display || display === 'none') {{\n",
              "            console.log([gd, 'removed!']);\n",
              "            Plotly.purge(gd);\n",
              "            observer.disconnect();\n",
              "        }}\n",
              "}});\n",
              "\n",
              "// Listen for the removal of the full notebook cells\n",
              "var notebookContainer = gd.closest('#notebook-container');\n",
              "if (notebookContainer) {{\n",
              "    x.observe(notebookContainer, {childList: true});\n",
              "}}\n",
              "\n",
              "// Listen for the clearing of the current output cell\n",
              "var outputEl = gd.closest('.output');\n",
              "if (outputEl) {{\n",
              "    x.observe(outputEl, {childList: true});\n",
              "}}\n",
              "\n",
              "                        })                };                            </script>        </div>\n",
              "</body>\n",
              "</html>"
            ]
          },
          "metadata": {}
        }
      ]
    },
    {
      "cell_type": "markdown",
      "source": [
        "### **Visualize Terms**\n",
        "\n",
        "We can visualize the selected terms for a few topics by creating bar charts out of the c-TF-IDF scores for each topic representation."
      ],
      "metadata": {
        "id": "uC26Cc-6UvYE"
      }
    },
    {
      "cell_type": "code",
      "source": [
        "topic_model.visualize_barchart(top_n_topics=8)"
      ],
      "metadata": {
        "id": "-NoMSyeWVF2s",
        "outputId": "85eda5aa-3bb2-402a-95e6-44f2a2b1fba4",
        "colab": {
          "base_uri": "https://localhost:8080/",
          "height": 517
        }
      },
      "execution_count": 30,
      "outputs": [
        {
          "output_type": "display_data",
          "data": {
            "text/html": [
              "<html>\n",
              "<head><meta charset=\"utf-8\" /></head>\n",
              "<body>\n",
              "    <div>            <script src=\"https://cdnjs.cloudflare.com/ajax/libs/mathjax/2.7.5/MathJax.js?config=TeX-AMS-MML_SVG\"></script><script type=\"text/javascript\">if (window.MathJax) {MathJax.Hub.Config({SVG: {font: \"STIX-Web\"}});}</script>                <script type=\"text/javascript\">window.PlotlyConfig = {MathJaxConfig: 'local'};</script>\n",
              "        <script src=\"https://cdn.plot.ly/plotly-2.8.3.min.js\"></script>                <div id=\"ca951e54-fb17-4756-acd6-5fd4726a9e3e\" class=\"plotly-graph-div\" style=\"height:500px; width:1000px;\"></div>            <script type=\"text/javascript\">                                    window.PLOTLYENV=window.PLOTLYENV || {};                                    if (document.getElementById(\"ca951e54-fb17-4756-acd6-5fd4726a9e3e\")) {                    Plotly.newPlot(                        \"ca951e54-fb17-4756-acd6-5fd4726a9e3e\",                        [{\"marker\":{\"color\":\"#D55E00\"},\"orientation\":\"h\",\"x\":[0.009773862553290056,0.010441396141928832,0.011543349946505055,0.013198900321145748,0.0386071240555949],\"y\":[\"cobran\\u00e7a  \",\"cart\\u00e3o  \",\"assinatura  \",\"prime  \",\"amazon  \"],\"type\":\"bar\",\"xaxis\":\"x\",\"yaxis\":\"y\"},{\"marker\":{\"color\":\"#0072B2\"},\"orientation\":\"h\",\"x\":[0.011498262696618708,0.014348905381288652,0.016236085587428863,0.04340788834276676,0.043707343242833464],\"y\":[\"transportadora  \",\"entrega  \",\"whatsapp  \",\"bahia  \",\"casas  \"],\"type\":\"bar\",\"xaxis\":\"x2\",\"yaxis\":\"y2\"},{\"marker\":{\"color\":\"#CC79A7\"},\"orientation\":\"h\",\"x\":[0.019047187548493588,0.020491305379104163,0.02479916252956062,0.0314585867584242,0.03749502000845217],\"y\":[\"atrasada  \",\"data  \",\"prazo  \",\"atraso  \",\"entrega  \"],\"type\":\"bar\",\"xaxis\":\"x3\",\"yaxis\":\"y3\"},{\"marker\":{\"color\":\"#E69F00\"},\"orientation\":\"h\",\"x\":[0.012699245709251739,0.01278317126156991,0.020850022405338127,0.03160282920283169,0.03775141002236478],\"y\":[\"comprei  \",\"galaxy  \",\"aparelho  \",\"samsung  \",\"celular  \"],\"type\":\"bar\",\"xaxis\":\"x4\",\"yaxis\":\"y4\"},{\"marker\":{\"color\":\"#56B4E9\"},\"orientation\":\"h\",\"x\":[0.015856938146410992,0.015895647346062095,0.020279529447049395,0.05489099097772926,0.05932922268592898],\"y\":[\"perfume  \",\"site  \",\"an\\u00fancio  \",\"enganosa  \",\"propaganda  \"],\"type\":\"bar\",\"xaxis\":\"x5\",\"yaxis\":\"y5\"},{\"marker\":{\"color\":\"#009E73\"},\"orientation\":\"h\",\"x\":[0.019073359656119702,0.019876019611838512,0.02782798812839146,0.0501569137476409,0.05376333527353644],\"y\":[\"quero  \",\"cancelado  \",\"pedido  \",\"cancelar  \",\"cancelamento  \"],\"type\":\"bar\",\"xaxis\":\"x6\",\"yaxis\":\"y6\"},{\"marker\":{\"color\":\"#F0E442\"},\"orientation\":\"h\",\"x\":[0.04265734663600005,0.04764448087071186,0.048638919958732436,0.057211874196232276,0.06893750176331197],\"y\":[\"acesso  \",\"acessar  \",\"mail  \",\"senha  \",\"conta  \"],\"type\":\"bar\",\"xaxis\":\"x7\",\"yaxis\":\"y7\"},{\"marker\":{\"color\":\"#D55E00\"},\"orientation\":\"h\",\"x\":[0.016804604052546735,0.018622655724377067,0.018800711368272792,0.019794394223168647,0.02005125908292135],\"y\":[\"veio  \",\"pe\\u00e7a  \",\"defeito  \",\"quebrado  \",\"produto  \"],\"type\":\"bar\",\"xaxis\":\"x8\",\"yaxis\":\"y8\"}],                        {\"template\":{\"data\":{\"barpolar\":[{\"marker\":{\"line\":{\"color\":\"white\",\"width\":0.5},\"pattern\":{\"fillmode\":\"overlay\",\"size\":10,\"solidity\":0.2}},\"type\":\"barpolar\"}],\"bar\":[{\"error_x\":{\"color\":\"#2a3f5f\"},\"error_y\":{\"color\":\"#2a3f5f\"},\"marker\":{\"line\":{\"color\":\"white\",\"width\":0.5},\"pattern\":{\"fillmode\":\"overlay\",\"size\":10,\"solidity\":0.2}},\"type\":\"bar\"}],\"carpet\":[{\"aaxis\":{\"endlinecolor\":\"#2a3f5f\",\"gridcolor\":\"#C8D4E3\",\"linecolor\":\"#C8D4E3\",\"minorgridcolor\":\"#C8D4E3\",\"startlinecolor\":\"#2a3f5f\"},\"baxis\":{\"endlinecolor\":\"#2a3f5f\",\"gridcolor\":\"#C8D4E3\",\"linecolor\":\"#C8D4E3\",\"minorgridcolor\":\"#C8D4E3\",\"startlinecolor\":\"#2a3f5f\"},\"type\":\"carpet\"}],\"choropleth\":[{\"colorbar\":{\"outlinewidth\":0,\"ticks\":\"\"},\"type\":\"choropleth\"}],\"contourcarpet\":[{\"colorbar\":{\"outlinewidth\":0,\"ticks\":\"\"},\"type\":\"contourcarpet\"}],\"contour\":[{\"colorbar\":{\"outlinewidth\":0,\"ticks\":\"\"},\"colorscale\":[[0.0,\"#0d0887\"],[0.1111111111111111,\"#46039f\"],[0.2222222222222222,\"#7201a8\"],[0.3333333333333333,\"#9c179e\"],[0.4444444444444444,\"#bd3786\"],[0.5555555555555556,\"#d8576b\"],[0.6666666666666666,\"#ed7953\"],[0.7777777777777778,\"#fb9f3a\"],[0.8888888888888888,\"#fdca26\"],[1.0,\"#f0f921\"]],\"type\":\"contour\"}],\"heatmapgl\":[{\"colorbar\":{\"outlinewidth\":0,\"ticks\":\"\"},\"colorscale\":[[0.0,\"#0d0887\"],[0.1111111111111111,\"#46039f\"],[0.2222222222222222,\"#7201a8\"],[0.3333333333333333,\"#9c179e\"],[0.4444444444444444,\"#bd3786\"],[0.5555555555555556,\"#d8576b\"],[0.6666666666666666,\"#ed7953\"],[0.7777777777777778,\"#fb9f3a\"],[0.8888888888888888,\"#fdca26\"],[1.0,\"#f0f921\"]],\"type\":\"heatmapgl\"}],\"heatmap\":[{\"colorbar\":{\"outlinewidth\":0,\"ticks\":\"\"},\"colorscale\":[[0.0,\"#0d0887\"],[0.1111111111111111,\"#46039f\"],[0.2222222222222222,\"#7201a8\"],[0.3333333333333333,\"#9c179e\"],[0.4444444444444444,\"#bd3786\"],[0.5555555555555556,\"#d8576b\"],[0.6666666666666666,\"#ed7953\"],[0.7777777777777778,\"#fb9f3a\"],[0.8888888888888888,\"#fdca26\"],[1.0,\"#f0f921\"]],\"type\":\"heatmap\"}],\"histogram2dcontour\":[{\"colorbar\":{\"outlinewidth\":0,\"ticks\":\"\"},\"colorscale\":[[0.0,\"#0d0887\"],[0.1111111111111111,\"#46039f\"],[0.2222222222222222,\"#7201a8\"],[0.3333333333333333,\"#9c179e\"],[0.4444444444444444,\"#bd3786\"],[0.5555555555555556,\"#d8576b\"],[0.6666666666666666,\"#ed7953\"],[0.7777777777777778,\"#fb9f3a\"],[0.8888888888888888,\"#fdca26\"],[1.0,\"#f0f921\"]],\"type\":\"histogram2dcontour\"}],\"histogram2d\":[{\"colorbar\":{\"outlinewidth\":0,\"ticks\":\"\"},\"colorscale\":[[0.0,\"#0d0887\"],[0.1111111111111111,\"#46039f\"],[0.2222222222222222,\"#7201a8\"],[0.3333333333333333,\"#9c179e\"],[0.4444444444444444,\"#bd3786\"],[0.5555555555555556,\"#d8576b\"],[0.6666666666666666,\"#ed7953\"],[0.7777777777777778,\"#fb9f3a\"],[0.8888888888888888,\"#fdca26\"],[1.0,\"#f0f921\"]],\"type\":\"histogram2d\"}],\"histogram\":[{\"marker\":{\"pattern\":{\"fillmode\":\"overlay\",\"size\":10,\"solidity\":0.2}},\"type\":\"histogram\"}],\"mesh3d\":[{\"colorbar\":{\"outlinewidth\":0,\"ticks\":\"\"},\"type\":\"mesh3d\"}],\"parcoords\":[{\"line\":{\"colorbar\":{\"outlinewidth\":0,\"ticks\":\"\"}},\"type\":\"parcoords\"}],\"pie\":[{\"automargin\":true,\"type\":\"pie\"}],\"scatter3d\":[{\"line\":{\"colorbar\":{\"outlinewidth\":0,\"ticks\":\"\"}},\"marker\":{\"colorbar\":{\"outlinewidth\":0,\"ticks\":\"\"}},\"type\":\"scatter3d\"}],\"scattercarpet\":[{\"marker\":{\"colorbar\":{\"outlinewidth\":0,\"ticks\":\"\"}},\"type\":\"scattercarpet\"}],\"scattergeo\":[{\"marker\":{\"colorbar\":{\"outlinewidth\":0,\"ticks\":\"\"}},\"type\":\"scattergeo\"}],\"scattergl\":[{\"marker\":{\"colorbar\":{\"outlinewidth\":0,\"ticks\":\"\"}},\"type\":\"scattergl\"}],\"scattermapbox\":[{\"marker\":{\"colorbar\":{\"outlinewidth\":0,\"ticks\":\"\"}},\"type\":\"scattermapbox\"}],\"scatterpolargl\":[{\"marker\":{\"colorbar\":{\"outlinewidth\":0,\"ticks\":\"\"}},\"type\":\"scatterpolargl\"}],\"scatterpolar\":[{\"marker\":{\"colorbar\":{\"outlinewidth\":0,\"ticks\":\"\"}},\"type\":\"scatterpolar\"}],\"scatter\":[{\"marker\":{\"colorbar\":{\"outlinewidth\":0,\"ticks\":\"\"}},\"type\":\"scatter\"}],\"scatterternary\":[{\"marker\":{\"colorbar\":{\"outlinewidth\":0,\"ticks\":\"\"}},\"type\":\"scatterternary\"}],\"surface\":[{\"colorbar\":{\"outlinewidth\":0,\"ticks\":\"\"},\"colorscale\":[[0.0,\"#0d0887\"],[0.1111111111111111,\"#46039f\"],[0.2222222222222222,\"#7201a8\"],[0.3333333333333333,\"#9c179e\"],[0.4444444444444444,\"#bd3786\"],[0.5555555555555556,\"#d8576b\"],[0.6666666666666666,\"#ed7953\"],[0.7777777777777778,\"#fb9f3a\"],[0.8888888888888888,\"#fdca26\"],[1.0,\"#f0f921\"]],\"type\":\"surface\"}],\"table\":[{\"cells\":{\"fill\":{\"color\":\"#EBF0F8\"},\"line\":{\"color\":\"white\"}},\"header\":{\"fill\":{\"color\":\"#C8D4E3\"},\"line\":{\"color\":\"white\"}},\"type\":\"table\"}]},\"layout\":{\"annotationdefaults\":{\"arrowcolor\":\"#2a3f5f\",\"arrowhead\":0,\"arrowwidth\":1},\"autotypenumbers\":\"strict\",\"coloraxis\":{\"colorbar\":{\"outlinewidth\":0,\"ticks\":\"\"}},\"colorscale\":{\"diverging\":[[0,\"#8e0152\"],[0.1,\"#c51b7d\"],[0.2,\"#de77ae\"],[0.3,\"#f1b6da\"],[0.4,\"#fde0ef\"],[0.5,\"#f7f7f7\"],[0.6,\"#e6f5d0\"],[0.7,\"#b8e186\"],[0.8,\"#7fbc41\"],[0.9,\"#4d9221\"],[1,\"#276419\"]],\"sequential\":[[0.0,\"#0d0887\"],[0.1111111111111111,\"#46039f\"],[0.2222222222222222,\"#7201a8\"],[0.3333333333333333,\"#9c179e\"],[0.4444444444444444,\"#bd3786\"],[0.5555555555555556,\"#d8576b\"],[0.6666666666666666,\"#ed7953\"],[0.7777777777777778,\"#fb9f3a\"],[0.8888888888888888,\"#fdca26\"],[1.0,\"#f0f921\"]],\"sequentialminus\":[[0.0,\"#0d0887\"],[0.1111111111111111,\"#46039f\"],[0.2222222222222222,\"#7201a8\"],[0.3333333333333333,\"#9c179e\"],[0.4444444444444444,\"#bd3786\"],[0.5555555555555556,\"#d8576b\"],[0.6666666666666666,\"#ed7953\"],[0.7777777777777778,\"#fb9f3a\"],[0.8888888888888888,\"#fdca26\"],[1.0,\"#f0f921\"]]},\"colorway\":[\"#636efa\",\"#EF553B\",\"#00cc96\",\"#ab63fa\",\"#FFA15A\",\"#19d3f3\",\"#FF6692\",\"#B6E880\",\"#FF97FF\",\"#FECB52\"],\"font\":{\"color\":\"#2a3f5f\"},\"geo\":{\"bgcolor\":\"white\",\"lakecolor\":\"white\",\"landcolor\":\"white\",\"showlakes\":true,\"showland\":true,\"subunitcolor\":\"#C8D4E3\"},\"hoverlabel\":{\"align\":\"left\"},\"hovermode\":\"closest\",\"mapbox\":{\"style\":\"light\"},\"paper_bgcolor\":\"white\",\"plot_bgcolor\":\"white\",\"polar\":{\"angularaxis\":{\"gridcolor\":\"#EBF0F8\",\"linecolor\":\"#EBF0F8\",\"ticks\":\"\"},\"bgcolor\":\"white\",\"radialaxis\":{\"gridcolor\":\"#EBF0F8\",\"linecolor\":\"#EBF0F8\",\"ticks\":\"\"}},\"scene\":{\"xaxis\":{\"backgroundcolor\":\"white\",\"gridcolor\":\"#DFE8F3\",\"gridwidth\":2,\"linecolor\":\"#EBF0F8\",\"showbackground\":true,\"ticks\":\"\",\"zerolinecolor\":\"#EBF0F8\"},\"yaxis\":{\"backgroundcolor\":\"white\",\"gridcolor\":\"#DFE8F3\",\"gridwidth\":2,\"linecolor\":\"#EBF0F8\",\"showbackground\":true,\"ticks\":\"\",\"zerolinecolor\":\"#EBF0F8\"},\"zaxis\":{\"backgroundcolor\":\"white\",\"gridcolor\":\"#DFE8F3\",\"gridwidth\":2,\"linecolor\":\"#EBF0F8\",\"showbackground\":true,\"ticks\":\"\",\"zerolinecolor\":\"#EBF0F8\"}},\"shapedefaults\":{\"line\":{\"color\":\"#2a3f5f\"}},\"ternary\":{\"aaxis\":{\"gridcolor\":\"#DFE8F3\",\"linecolor\":\"#A2B1C6\",\"ticks\":\"\"},\"baxis\":{\"gridcolor\":\"#DFE8F3\",\"linecolor\":\"#A2B1C6\",\"ticks\":\"\"},\"bgcolor\":\"white\",\"caxis\":{\"gridcolor\":\"#DFE8F3\",\"linecolor\":\"#A2B1C6\",\"ticks\":\"\"}},\"title\":{\"x\":0.05},\"xaxis\":{\"automargin\":true,\"gridcolor\":\"#EBF0F8\",\"linecolor\":\"#EBF0F8\",\"ticks\":\"\",\"title\":{\"standoff\":15},\"zerolinecolor\":\"#EBF0F8\",\"zerolinewidth\":2},\"yaxis\":{\"automargin\":true,\"gridcolor\":\"#EBF0F8\",\"linecolor\":\"#EBF0F8\",\"ticks\":\"\",\"title\":{\"standoff\":15},\"zerolinecolor\":\"#EBF0F8\",\"zerolinewidth\":2}}},\"xaxis\":{\"anchor\":\"y\",\"domain\":[0.0,0.175],\"showgrid\":true},\"yaxis\":{\"anchor\":\"x\",\"domain\":[0.6000000000000001,1.0],\"showgrid\":true},\"xaxis2\":{\"anchor\":\"y2\",\"domain\":[0.275,0.45],\"showgrid\":true},\"yaxis2\":{\"anchor\":\"x2\",\"domain\":[0.6000000000000001,1.0],\"showgrid\":true},\"xaxis3\":{\"anchor\":\"y3\",\"domain\":[0.55,0.7250000000000001],\"showgrid\":true},\"yaxis3\":{\"anchor\":\"x3\",\"domain\":[0.6000000000000001,1.0],\"showgrid\":true},\"xaxis4\":{\"anchor\":\"y4\",\"domain\":[0.825,1.0],\"showgrid\":true},\"yaxis4\":{\"anchor\":\"x4\",\"domain\":[0.6000000000000001,1.0],\"showgrid\":true},\"xaxis5\":{\"anchor\":\"y5\",\"domain\":[0.0,0.175],\"showgrid\":true},\"yaxis5\":{\"anchor\":\"x5\",\"domain\":[0.0,0.4],\"showgrid\":true},\"xaxis6\":{\"anchor\":\"y6\",\"domain\":[0.275,0.45],\"showgrid\":true},\"yaxis6\":{\"anchor\":\"x6\",\"domain\":[0.0,0.4],\"showgrid\":true},\"xaxis7\":{\"anchor\":\"y7\",\"domain\":[0.55,0.7250000000000001],\"showgrid\":true},\"yaxis7\":{\"anchor\":\"x7\",\"domain\":[0.0,0.4],\"showgrid\":true},\"xaxis8\":{\"anchor\":\"y8\",\"domain\":[0.825,1.0],\"showgrid\":true},\"yaxis8\":{\"anchor\":\"x8\",\"domain\":[0.0,0.4],\"showgrid\":true},\"annotations\":[{\"font\":{\"size\":16},\"showarrow\":false,\"text\":\"Topic 0\",\"x\":0.0875,\"xanchor\":\"center\",\"xref\":\"paper\",\"y\":1.0,\"yanchor\":\"bottom\",\"yref\":\"paper\"},{\"font\":{\"size\":16},\"showarrow\":false,\"text\":\"Topic 1\",\"x\":0.36250000000000004,\"xanchor\":\"center\",\"xref\":\"paper\",\"y\":1.0,\"yanchor\":\"bottom\",\"yref\":\"paper\"},{\"font\":{\"size\":16},\"showarrow\":false,\"text\":\"Topic 2\",\"x\":0.6375000000000001,\"xanchor\":\"center\",\"xref\":\"paper\",\"y\":1.0,\"yanchor\":\"bottom\",\"yref\":\"paper\"},{\"font\":{\"size\":16},\"showarrow\":false,\"text\":\"Topic 3\",\"x\":0.9125,\"xanchor\":\"center\",\"xref\":\"paper\",\"y\":1.0,\"yanchor\":\"bottom\",\"yref\":\"paper\"},{\"font\":{\"size\":16},\"showarrow\":false,\"text\":\"Topic 4\",\"x\":0.0875,\"xanchor\":\"center\",\"xref\":\"paper\",\"y\":0.4,\"yanchor\":\"bottom\",\"yref\":\"paper\"},{\"font\":{\"size\":16},\"showarrow\":false,\"text\":\"Topic 5\",\"x\":0.36250000000000004,\"xanchor\":\"center\",\"xref\":\"paper\",\"y\":0.4,\"yanchor\":\"bottom\",\"yref\":\"paper\"},{\"font\":{\"size\":16},\"showarrow\":false,\"text\":\"Topic 6\",\"x\":0.6375000000000001,\"xanchor\":\"center\",\"xref\":\"paper\",\"y\":0.4,\"yanchor\":\"bottom\",\"yref\":\"paper\"},{\"font\":{\"size\":16},\"showarrow\":false,\"text\":\"Topic 7\",\"x\":0.9125,\"xanchor\":\"center\",\"xref\":\"paper\",\"y\":0.4,\"yanchor\":\"bottom\",\"yref\":\"paper\"}],\"title\":{\"font\":{\"size\":22,\"color\":\"Black\"},\"text\":\"<b>Topic Word Scores\",\"x\":0.5,\"xanchor\":\"center\",\"yanchor\":\"top\"},\"hoverlabel\":{\"font\":{\"size\":16,\"family\":\"Rockwell\"},\"bgcolor\":\"white\"},\"showlegend\":false,\"width\":1000,\"height\":500},                        {\"responsive\": true}                    ).then(function(){\n",
              "                            \n",
              "var gd = document.getElementById('ca951e54-fb17-4756-acd6-5fd4726a9e3e');\n",
              "var x = new MutationObserver(function (mutations, observer) {{\n",
              "        var display = window.getComputedStyle(gd).display;\n",
              "        if (!display || display === 'none') {{\n",
              "            console.log([gd, 'removed!']);\n",
              "            Plotly.purge(gd);\n",
              "            observer.disconnect();\n",
              "        }}\n",
              "}});\n",
              "\n",
              "// Listen for the removal of the full notebook cells\n",
              "var notebookContainer = gd.closest('#notebook-container');\n",
              "if (notebookContainer) {{\n",
              "    x.observe(notebookContainer, {childList: true});\n",
              "}}\n",
              "\n",
              "// Listen for the clearing of the current output cell\n",
              "var outputEl = gd.closest('.output');\n",
              "if (outputEl) {{\n",
              "    x.observe(outputEl, {childList: true});\n",
              "}}\n",
              "\n",
              "                        })                };                            </script>        </div>\n",
              "</body>\n",
              "</html>"
            ]
          },
          "metadata": {}
        }
      ]
    },
    {
      "cell_type": "markdown",
      "source": [
        "### **Visualize Topic Similarity**\n",
        "\n",
        "This plot shows a similarity matrix by simply applying cosine similarities through those topic embeddings generate by BERTopic through both c-TF-IDF and embeddings. This matrix indicate how similar certain topics are to each other."
      ],
      "metadata": {
        "id": "qMjOvmYVVUDX"
      }
    },
    {
      "cell_type": "code",
      "source": [
        "topic_model.visualize_heatmap(n_clusters=20, width=1000, height=1000)"
      ],
      "metadata": {
        "id": "_GL5qZ0nV3M2",
        "outputId": "8d383a61-3102-431e-8e50-b51999f1afd7",
        "colab": {
          "base_uri": "https://localhost:8080/",
          "height": 1000
        }
      },
      "execution_count": 31,
      "outputs": [
        {
          "output_type": "display_data",
          "data": {
            "text/html": [
              "<html>\n",
              "<head><meta charset=\"utf-8\" /></head>\n",
              "<body>\n",
              "    <div>            <script src=\"https://cdnjs.cloudflare.com/ajax/libs/mathjax/2.7.5/MathJax.js?config=TeX-AMS-MML_SVG\"></script><script type=\"text/javascript\">if (window.MathJax) {MathJax.Hub.Config({SVG: {font: \"STIX-Web\"}});}</script>                <script type=\"text/javascript\">window.PlotlyConfig = {MathJaxConfig: 'local'};</script>\n",
              "        <script src=\"https://cdn.plot.ly/plotly-2.8.3.min.js\"></script>                <div id=\"c57926b5-c070-420a-8036-60754f671c4f\" class=\"plotly-graph-div\" style=\"height:1000px; width:1000px;\"></div>            <script type=\"text/javascript\">                                    window.PLOTLYENV=window.PLOTLYENV || {};                                    if (document.getElementById(\"c57926b5-c070-420a-8036-60754f671c4f\")) {                    Plotly.newPlot(                        \"c57926b5-c070-420a-8036-60754f671c4f\",                        [{\"coloraxis\":\"coloraxis\",\"name\":\"0\",\"x\":[\"0_amazon_prime_assinatura\",\"67_nota_fiscal_polegadas\",\"1_casas_bahia_whatsapp\",\"2_entrega_atraso_prazo\",\"7_produto_quebrado_defeito\",\"26_endere\\u00e7o_casa_pedido\",\"31_produtos_produto_notinha\",\"36_conta_suspensa_mercado\",\"41_americana_lojas_fritadeira\",\"43_frete_disjuntores_paguei\",\"54_black_friday_promo\\u00e7\\u00e3o\",\"56_internacional_nacionais_...\",\"62_armazenamento_full_retirar\",\"72_absurdo_cardigam_shoppee\",\"3_celular_samsung_aparelho\",\"11_iphone_apple_aparelho\",\"4_propaganda_enganosa_an\\u00fancio\",\"13_brasil_shein_pedido\",\"35_reconhecimento_facial_ro...\",\"37_china_nacional_order\",\"58_brasil_vendedor_latinhas\",\"5_cancelamento_cancelar_ped...\",\"39_bloqueada_conta_contas\",\"47_estorno_cancelei_cancela...\",\"55_cancelamento_cancelar_ca...\",\"69_cancelamento_cancelado_a...\",\"6_conta_senha_mail\",\"22_rastreio_c\\u00f3digo_rastream...\",\"28_devolu\\u00e7\\u00e3o_c\\u00f3digo_devolver\",\"33_endere\\u00e7o_errado_alterar\",\"45_taxon_shein_taxada\",\"61_destilada_errado_\\u00e1gua\",\"8_livre_mercado_plataforma\",\"9_americana_lojas_site\",\"10_loja_compra_poi\",\"34_aplicativo_postagem_bota\",\"57_frete_livre_gr\\u00e1tis\",\"71_assinatura_kindle_unlimi...\",\"12_roupas_vestido_cal\\u00e7a\",\"65_vestido_vestidos_casamento\",\"14_cart\\u00e3o_cr\\u00e9dito_pagamento\",\"29_cart\\u00e3o_fatura_gift\",\"15_geladeira_refrigerador_t...\",\"16_jogo_lan\\u00e7amento_venda\",\"21_entregue_recebi_chegou\",\"27_shein_encomenda_pedido\",\"32_remetente_pedido_shein\",\"44_entrega_feira_separa\\u00e7\\u00e3o\",\"53_entregue_rastrear_produto\",\"59_entrega_pedido_preciso\",\"64_item_entregue_faltando\",\"17_curitiba_parado_tr\\u00e2nsito\",\"46_rota_mercado_noite\",\"52_cupom_finalizar_inv\\u00e1lido\",\"63_loja_lumin\\u00e1ria_magazine\",\"66_esperando_casa_saiu\",\"68_placa_kabum_sof\\u00e1\",\"70_fog\\u00e3o_recolher_divergente\",\"18_reembolso_taxada_shein\",\"19_dinheiro_quero_volta\",\"48_pagamento_confirma\\u00e7\\u00e3o_bo...\",\"20_cashback_02_valor\",\"23_m\\u00e1quina_lavar_maquina\",\"24_t\\u00eanis_tenis_raquete\",\"25_mercado_livre_pago\",\"40_cart\\u00e3o_conta_bloqueada\",\"49_cart\\u00e3o_duas_cart\\u00f5es\",\"50_estorno_reembolso_cart\\u00e3o\",\"30_bluetooth_fone_ouvido\",\"51_rob\\u00f4_devolver_falar\",\"38_pneu_pneus_pastilhas\",\"42_cadeira_cama_gamer\",\"60_sof\\u00e1_tecido_reclin\\u00e1vel\"],\"y\":[\"0_amazon_prime_assinatura\",\"67_nota_fiscal_polegadas\",\"1_casas_bahia_whatsapp\",\"2_entrega_atraso_prazo\",\"7_produto_quebrado_defeito\",\"26_endere\\u00e7o_casa_pedido\",\"31_produtos_produto_notinha\",\"36_conta_suspensa_mercado\",\"41_americana_lojas_fritadeira\",\"43_frete_disjuntores_paguei\",\"54_black_friday_promo\\u00e7\\u00e3o\",\"56_internacional_nacionais_...\",\"62_armazenamento_full_retirar\",\"72_absurdo_cardigam_shoppee\",\"3_celular_samsung_aparelho\",\"11_iphone_apple_aparelho\",\"4_propaganda_enganosa_an\\u00fancio\",\"13_brasil_shein_pedido\",\"35_reconhecimento_facial_ro...\",\"37_china_nacional_order\",\"58_brasil_vendedor_latinhas\",\"5_cancelamento_cancelar_ped...\",\"39_bloqueada_conta_contas\",\"47_estorno_cancelei_cancela...\",\"55_cancelamento_cancelar_ca...\",\"69_cancelamento_cancelado_a...\",\"6_conta_senha_mail\",\"22_rastreio_c\\u00f3digo_rastream...\",\"28_devolu\\u00e7\\u00e3o_c\\u00f3digo_devolver\",\"33_endere\\u00e7o_errado_alterar\",\"45_taxon_shein_taxada\",\"61_destilada_errado_\\u00e1gua\",\"8_livre_mercado_plataforma\",\"9_americana_lojas_site\",\"10_loja_compra_poi\",\"34_aplicativo_postagem_bota\",\"57_frete_livre_gr\\u00e1tis\",\"71_assinatura_kindle_unlimi...\",\"12_roupas_vestido_cal\\u00e7a\",\"65_vestido_vestidos_casamento\",\"14_cart\\u00e3o_cr\\u00e9dito_pagamento\",\"29_cart\\u00e3o_fatura_gift\",\"15_geladeira_refrigerador_t...\",\"16_jogo_lan\\u00e7amento_venda\",\"21_entregue_recebi_chegou\",\"27_shein_encomenda_pedido\",\"32_remetente_pedido_shein\",\"44_entrega_feira_separa\\u00e7\\u00e3o\",\"53_entregue_rastrear_produto\",\"59_entrega_pedido_preciso\",\"64_item_entregue_faltando\",\"17_curitiba_parado_tr\\u00e2nsito\",\"46_rota_mercado_noite\",\"52_cupom_finalizar_inv\\u00e1lido\",\"63_loja_lumin\\u00e1ria_magazine\",\"66_esperando_casa_saiu\",\"68_placa_kabum_sof\\u00e1\",\"70_fog\\u00e3o_recolher_divergente\",\"18_reembolso_taxada_shein\",\"19_dinheiro_quero_volta\",\"48_pagamento_confirma\\u00e7\\u00e3o_bo...\",\"20_cashback_02_valor\",\"23_m\\u00e1quina_lavar_maquina\",\"24_t\\u00eanis_tenis_raquete\",\"25_mercado_livre_pago\",\"40_cart\\u00e3o_conta_bloqueada\",\"49_cart\\u00e3o_duas_cart\\u00f5es\",\"50_estorno_reembolso_cart\\u00e3o\",\"30_bluetooth_fone_ouvido\",\"51_rob\\u00f4_devolver_falar\",\"38_pneu_pneus_pastilhas\",\"42_cadeira_cama_gamer\",\"60_sof\\u00e1_tecido_reclin\\u00e1vel\"],\"z\":[[1.0000000000000002,0.6941901178160119,0.7955330956549912,0.7166821507036397,0.740283419146297,0.7404812361641494,0.7557795352661023,0.7371890772187297,0.8136494660287653,0.7452651009616027,0.7520721997358247,0.7538362265244919,0.7847307901633015,0.7266073478931492,0.5483439754268468,0.6317631679826419,0.6892354292106936,0.7121602993688141,0.6495674950560266,0.6804657030831829,0.720503135077478,0.7435967724617064,0.7451173440755386,0.7246846608976036,0.7650100171736911,0.7300027416275445,0.7894559114360836,0.7195213413745987,0.7444773234547849,0.7197696301241658,0.7276011526996756,0.6655616800090933,0.8215919151072216,0.8156725700366617,0.8476298161963304,0.8218013863671662,0.8216273771639306,0.8023698157327459,0.5212856683708595,0.571754593989891,0.7294472031885018,0.7546219017580119,0.5609624433426993,0.783422463853109,0.7848143735472601,0.8085397723415285,0.7909642160589931,0.7843772595838825,0.8073725751242408,0.7864670360199789,0.7683145840630617,0.7404999406407996,0.7123412451560032,0.750116881570018,0.7661641214699199,0.7055681927592115,0.7283080152047485,0.7155952962121218,0.7498855696243988,0.7485570158821163,0.7502499054513558,0.591782257802746,0.5391761338261073,0.516777544263073,0.78966558851621,0.7593701490409778,0.7832072655092224,0.744351471398235,0.6496688701459902,0.6204151711247298,0.5642891443274555,0.5500854160735048,0.4313410119138702],[0.6941901178160119,0.9999999999999992,0.7098557897814934,0.7753705308186898,0.7268458148141966,0.7635295372272453,0.7243658426232011,0.7624866618087374,0.7175545540289974,0.7941223971091358,0.7658492535888489,0.8072631035527132,0.7593723917895726,0.7218160973153726,0.5563741507568921,0.5148730584643947,0.6835629899171612,0.6531061691655857,0.6250555627515055,0.6727434773438006,0.6808225037753455,0.7269069992715194,0.7195732254730445,0.7405586078701302,0.7430339899222186,0.7506900023321773,0.7491773807924141,0.7584925115056977,0.7885769213804613,0.7188442896704299,0.7262088186355212,0.7258197868048862,0.779980855968147,0.7766487879580786,0.7806840728858391,0.8077844449026138,0.8358051361932626,0.8369435449107712,0.5539755642594495,0.6405560465352291,0.7426276829577562,0.7395221245824902,0.46237024038176316,0.7861395537123292,0.790332931490155,0.7735692593233457,0.780978704874498,0.7963188923060429,0.7712890184284409,0.7894066024752926,0.7810292638882721,0.7524292806587665,0.7674677266927177,0.7709537455195097,0.7592072345528068,0.7604727401421859,0.8020586917865995,0.7515373870577363,0.7854408351531411,0.8250267979415831,0.82046659265962,0.6776619829004731,0.5761088284385156,0.51702672128477,0.8270465826476453,0.7284434992426319,0.7423288762474595,0.7815037197138437,0.603432191077115,0.5863484642833008,0.5912934480012376,0.5817827609247614,0.469180885917054],[0.7955330956549912,0.7098557897814934,0.9999999999999997,0.8094181778559141,0.8172103647682176,0.889805225999989,0.8384975910399141,0.8087710533538549,0.862256428372056,0.8410511533378301,0.8023919443567868,0.8387652237208711,0.8490914850198795,0.8191628988648256,0.6242102937676867,0.5761915526696562,0.7421849850682187,0.7854632298317372,0.7076883428752555,0.7533378844166232,0.8068707766822844,0.7935607809466368,0.7816283857707957,0.7440356673577976,0.8171988924469925,0.8047884171586986,0.8367575200133678,0.7879926914258452,0.8090036099014895,0.8074716290319949,0.8123673208265929,0.8191816319095935,0.8521855960108285,0.8734205615919939,0.8773680205447236,0.8465474870420732,0.8531943513367864,0.813074404414013,0.6970136446420313,0.7204915543488577,0.6653389899300777,0.677654801575755,0.5339925830237179,0.847093778996186,0.8723598943623122,0.8708613331298111,0.8728803160463534,0.876688313257658,0.8846913972107351,0.8606814311438298,0.8576423940832183,0.8634033293105309,0.8475007166805016,0.8504759953543871,0.8501515571653149,0.857737503101965,0.8548115540712906,0.8404303068989023,0.7685386142233384,0.7843594451197139,0.768642763069964,0.5967263665536177,0.6745893651157816,0.53168734748931,0.7471387605168865,0.7254871253602757,0.7718304717551627,0.7125168798982825,0.73202436022533,0.7268125598540915,0.6960386037973139,0.684813739520234,0.5558594344990416],[0.7166821507036397,0.7753705308186898,0.8094181778559141,1.0000000000000004,0.8062277921049023,0.8406068616083407,0.7826591988936238,0.8669359228843523,0.775398453445679,0.8428741528313992,0.836982196257464,0.8529416714572621,0.8409866053031684,0.8338295850889331,0.5960649233796621,0.548525290936114,0.7247561514736214,0.7384467826180685,0.6962643305089486,0.7292340698606777,0.7418331749328428,0.8541377988956446,0.784298769363268,0.8260684102974611,0.837799196767673,0.8572437197071201,0.8084937543013888,0.8052131102768594,0.8263794756693505,0.7838545562270253,0.7761904234199597,0.8253334923579698,0.8305711598360425,0.8132718281666813,0.8322528050248341,0.8411587495230649,0.8554947119367886,0.8277207964434492,0.634485699510889,0.7086520600962813,0.6885681437206193,0.7033688970204897,0.5528136082061728,0.8838020814017926,0.910848149586259,0.8798113268237351,0.8820170086357869,0.9238236937723119,0.8961423450838495,0.9296079969456262,0.8675432878303325,0.891947519935137,0.8710457801602242,0.8518723007548745,0.8402913307225702,0.9250669774975623,0.8378611655011721,0.8450912009584864,0.7798381949062734,0.8091198802773183,0.8305238251893697,0.6392324300902471,0.6435422968756903,0.5644796286670999,0.763727085127949,0.7346844720553897,0.7673647341832256,0.7533337885156636,0.7071737736104668,0.7342609437102736,0.6537447813773614,0.6672648288163506,0.4672818407499804],[0.740283419146297,0.7268458148141966,0.8172103647682176,0.8062277921049023,1.0,0.8045816188840011,0.8976167771126009,0.846884616335292,0.8173881754531299,0.8598325615874701,0.8377319250499089,0.8164772172813718,0.9073529265841251,0.8618265699762098,0.6362471443816922,0.6274677036655609,0.7538519118243717,0.7075520571872755,0.7142678380171599,0.6785591612265461,0.7660575556922681,0.7934313936681132,0.7838936682075291,0.78836725705217,0.8328400608155825,0.8243950384797089,0.7333399214151878,0.813812085056023,0.8637602369082005,0.7935622050562552,0.783219417302851,0.8978429708061144,0.8691736742253698,0.83515951727495,0.871217168023153,0.8588883092739924,0.8491204302083879,0.8090834428398281,0.7294604101841133,0.7331577415391991,0.6836379124030012,0.7117685648437041,0.5847055628052233,0.8811465778745952,0.8520483999048933,0.8393858114447336,0.8635750040785917,0.8750730591391102,0.8947811513638407,0.8272543773332044,0.9153446826096144,0.8488333980033171,0.850333047651834,0.8717786382630822,0.8572905886130625,0.8247568227786912,0.8499150645883985,0.8690587135944108,0.7859269781648155,0.8063170347197565,0.7460716916483957,0.6007714327810545,0.7166397549422512,0.610891663358524,0.7473068115150512,0.7463634855755336,0.8135763278048154,0.750592587957992,0.7292194748524145,0.7598241900287322,0.6962028897027908,0.7239732214410495,0.558759334916368],[0.7404812361641494,0.7635295372272453,0.889805225999989,0.8406068616083407,0.8045816188840011,0.9999999999999986,0.7806006772232845,0.8375304419097991,0.8418794684376668,0.8484148127399278,0.8252875306254952,0.8630435248039272,0.8235055985311751,0.8451024275411431,0.6048628491383635,0.5705484703182495,0.7498639884585264,0.7430769611001287,0.7312605333528257,0.7482941991689662,0.786980959121493,0.8291395041012305,0.7918334980633639,0.7772901052572473,0.8282122912345766,0.8290093759404987,0.8599257523925122,0.8273916282608981,0.8199736709366994,0.8834373053527208,0.8223986380069139,0.8318900085498611,0.8412478488072361,0.8621380553916979,0.8706336768055193,0.8458561121591274,0.8742220096329975,0.8417329563738593,0.6715441618346415,0.7264672975131468,0.6676504755409227,0.6778535955531599,0.5480629562330632,0.8750797482648146,0.9296170805966134,0.8885585123505235,0.8878700218171862,0.8826529691167277,0.8960369669390674,0.897717361614323,0.8681967376744611,0.8909955602041861,0.8676084596774359,0.8558118329446723,0.8565869815349998,0.9059640172159859,0.857399048666244,0.8565112531709853,0.7720071601441724,0.8148895252372154,0.7897653179763151,0.6055867339010773,0.6500858127740794,0.5560983670146868,0.7443448486893556,0.729203330013513,0.770799311353891,0.7294810298219269,0.7401621395949544,0.7464626090849438,0.6935146221060416,0.7050821100395052,0.5530086150672906],[0.7557795352661023,0.7243658426232011,0.8384975910399141,0.7826591988936238,0.8976167771126009,0.7806006772232845,1.000000000000001,0.806908662474035,0.8399783325911975,0.8690693984991495,0.8389700239357782,0.7985767856305052,0.8896329721429458,0.8420846327570284,0.6403857581746292,0.6283115862995815,0.7485018483739267,0.7376402779380618,0.7067577765704064,0.6941359724864586,0.7998728262866842,0.7413368778976709,0.7542891296483454,0.7066228581034991,0.8056139361624929,0.7685790767107653,0.734378835505018,0.7755699827593339,0.8249877619298404,0.7155567941933727,0.810537514231024,0.8104389620628369,0.8788720290312935,0.8650246293807514,0.900606980017087,0.8507973488386044,0.8612386985442281,0.8017583723257806,0.7584655138831087,0.7448935100511213,0.6795379778866498,0.7074613889882171,0.5988816231399204,0.8617024528559276,0.8287530128331088,0.8318515961951909,0.859352968185572,0.8627015188590533,0.897500597467144,0.8140043165903447,0.8846627884469307,0.8181783127745017,0.8500907841055098,0.8536958601983605,0.8354449527901022,0.810943724625804,0.8448210708674168,0.8402557921836826,0.7953040396025092,0.791447857508321,0.7228522689384678,0.5689786434974984,0.7461001074334318,0.6324664351422423,0.7648165360625648,0.7244678879640688,0.8192586764645969,0.7299893210906939,0.7176005117868339,0.7557106953754947,0.7206023813625394,0.7026977859888563,0.5519050208863763],[0.7371890772187297,0.7624866618087374,0.8087710533538549,0.8669359228843523,0.846884616335292,0.8375304419097991,0.806908662474035,0.9999999999999996,0.8273855730196945,0.8655303907650761,0.87321690655283,0.8501018563093058,0.8730787065090589,0.8665235668121419,0.610207482561778,0.5880874294980126,0.7879442586432599,0.7386843455085098,0.7026199389306141,0.7329140348713483,0.7776924144501692,0.881969582194208,0.8444699700069421,0.8384569008324102,0.8812992098149249,0.8719114762349398,0.7900284732603399,0.8024570816675984,0.8448796820342049,0.7872073640847,0.7898694872758903,0.820794686980938,0.8825128713570646,0.8401647236394525,0.882346143377966,0.8475567523065864,0.8885684861776352,0.8347184944284195,0.6700838096052124,0.7361170386362735,0.679052463404399,0.6977652368361431,0.6009246296232943,0.8941046516548814,0.8748694073708078,0.8576424687531692,0.8614578515135564,0.8854758519067223,0.8657476665618539,0.8754184150465935,0.8677396349341314,0.8964606493764172,0.8797879242197341,0.8658594934166963,0.8703684901062879,0.859271949530684,0.8499001500086278,0.8761925317403092,0.7642590496781969,0.8049026127368689,0.7777278865490455,0.6119284168036441,0.6559963777900646,0.5942439015707109,0.7729964540621377,0.7842677050563541,0.8085218967014648,0.7281303462581734,0.6881636993922703,0.7452300682405252,0.6645619301707262,0.7204518021421077,0.5158138885527621],[0.8136494660287653,0.7175545540289974,0.862256428372056,0.775398453445679,0.8173881754531299,0.8418794684376668,0.8399783325911975,0.8273855730196945,0.9999999999999999,0.8207402652132035,0.8196919292679721,0.8654029499834133,0.8432143032482947,0.837887436594229,0.6877273578101393,0.6879228208895236,0.8372318541530067,0.7358559036814369,0.7434779000377888,0.7209640077485183,0.7894535609979862,0.7781158643940509,0.7778828170778946,0.7209141053417285,0.797610774968406,0.7800031651208857,0.8255422547847553,0.7740329478245093,0.7921585398616567,0.7881305482709478,0.8027457147227616,0.7778957016020602,0.859839855987383,0.9364440108060174,0.9093578438929658,0.867402498468619,0.8634447421992711,0.7995590757894879,0.7012338045591561,0.7225771921307662,0.6614514873829953,0.6809078484588656,0.5758382297394429,0.8525284308466271,0.852782097525508,0.8526218318027573,0.8316034425747645,0.8535111836793048,0.8592009443922839,0.8381075691310116,0.8314992949306298,0.837928200185714,0.829846711254094,0.8454334800669383,0.8488708513747061,0.8166686037101343,0.8272626191715922,0.8303771552825168,0.7418995271494732,0.7705040641782774,0.744917895116492,0.5744032160821857,0.6698732810665428,0.5610428478803252,0.7423303276989751,0.7352606367283528,0.7892452137480751,0.6981987856345534,0.7543317470050934,0.7264009606413178,0.6746079366860197,0.6921637106381467,0.5413151048749963],[0.7452651009616027,0.7941223971091358,0.8410511533378301,0.8428741528313992,0.8598325615874701,0.8484148127399278,0.8690693984991495,0.8655303907650761,0.8207402652132035,1.0000000000000004,0.8599129945825363,0.8471395945653977,0.9179330202781532,0.8912086149588812,0.5885125429120798,0.5702992943154445,0.7409942814361342,0.767411904610225,0.730540647079375,0.7392801864451668,0.8124183461942848,0.8071695599413155,0.8213217983554586,0.8009213807968814,0.8377309614250062,0.8156803548902729,0.7961183790354807,0.8135594163003403,0.8459633081548331,0.7574445094015356,0.8334258237742428,0.852261297931318,0.8458116036309768,0.8549402049793979,0.871474952557823,0.8702442078751463,0.9115554367466211,0.8993849648075699,0.7966625288371283,0.7935330911520186,0.7571816778782755,0.7667832138693209,0.5700072261199911,0.8960387648299233,0.9003810193052599,0.8700443164413959,0.9014279433327292,0.8965461874567215,0.9027456668810254,0.8735570882485243,0.9047402569497476,0.8985567170890296,0.8874117295221862,0.9009812458783142,0.8754542753091463,0.8806294102870628,0.899778012967823,0.9046499091641426,0.8529213479636116,0.9013949838323517,0.826054968593478,0.6720622242937127,0.702966241103973,0.6131824330470952,0.8223196064880987,0.7885883718197229,0.8518748235775159,0.8150925672622005,0.7153770964724104,0.7357697633893043,0.7448705374793192,0.7350771913627665,0.5652528039342138],[0.7520721997358247,0.7658492535888489,0.8023919443567868,0.836982196257464,0.8377319250499089,0.8252875306254952,0.8389700239357782,0.87321690655283,0.8196919292679721,0.8599129945825363,1.0,0.8292610864770269,0.8500623201618331,0.845803078444906,0.6081801474985457,0.5671038955496339,0.8061790715642456,0.7297874317616387,0.7166895310311803,0.7093739226946832,0.8012551548697652,0.8355074628381775,0.7799404814716793,0.8043942593388163,0.8432229266257175,0.8331767403000283,0.7513988265288394,0.7723729032441834,0.8047935384023364,0.7798031170005594,0.7933852805409868,0.796712297949557,0.8840406212494836,0.8665546553077565,0.8960691462311106,0.847057591417499,0.8998042796238765,0.8434195563621991,0.6929892763744587,0.7364641428209955,0.7387327616193072,0.7636687795426775,0.5680547108326715,0.8754983540097594,0.861235058683315,0.8623239990184874,0.8466272016791468,0.8623473798014285,0.8622653341944908,0.8399338929135161,0.86073595849448,0.8599916972148344,0.8568638804222848,0.8586139784912329,0.8448430148590718,0.8479930567329096,0.8200419972328079,0.8363033016243062,0.8050716353526002,0.8315775263412377,0.8048832417024836,0.6394894597439366,0.6338450282061073,0.6084103423059606,0.8299487141028924,0.7744759240637005,0.8352670493091341,0.7758079734603317,0.7144593293033766,0.6789027924750922,0.6541089603477417,0.651090599781588,0.5133657845233065],[0.7538362265244919,0.8072631035527132,0.8387652237208711,0.8529416714572621,0.8164772172813718,0.8630435248039272,0.7985767856305052,0.8501018563093058,0.8654029499834133,0.8471395945653977,0.8292610864770269,0.9999999999999992,0.83791712225719,0.8325010576035368,0.6124520313962933,0.5809702421027372,0.7902526590908814,0.7684814699205881,0.7361059190356263,0.790382413828807,0.8113295172797371,0.7905201545039665,0.7714954028102184,0.775435001805028,0.8100128861439035,0.814721162546862,0.7891929786744653,0.8362138138414179,0.8587128267776121,0.8095465128717331,0.8434034529094608,0.8376332540186558,0.8451217895834753,0.8859393202095058,0.8595009633959009,0.8482005557971993,0.8686034089482607,0.8397353236017637,0.6818715819843375,0.7577757119277551,0.6902455377013739,0.6910328939776698,0.499977174715841,0.8916605036395362,0.8967347975301236,0.8895048972778934,0.8614973113762733,0.8795517724365568,0.8717524859374289,0.8961104295289151,0.8614653695476628,0.8904818078924385,0.8738884614094659,0.8565205651655119,0.8614651575282483,0.8613663779039459,0.8382167276763273,0.8758691959072941,0.7859714828264609,0.7852230530553789,0.7786009760281869,0.5765207041223396,0.6236400161134752,0.6156710552610228,0.7640735383951547,0.7417609611773937,0.7893899438502842,0.7345125679158896,0.7312000615316788,0.6902916126822296,0.6961332860464959,0.6791735606639852,0.4993135505754974],[0.7847307901633015,0.7593723917895726,0.8490914850198795,0.8409866053031684,0.9073529265841251,0.8235055985311751,0.8896329721429458,0.8730787065090589,0.8432143032482947,0.9179330202781532,0.8500623201618331,0.83791712225719,1.0000000000000004,0.8648024845844796,0.6585355751384838,0.6482459049793982,0.7492116453835259,0.736703921073952,0.7216852656021542,0.7180953276741953,0.7762210101565319,0.8143613450900352,0.8259918191181113,0.7941545323686893,0.8428223785228195,0.8266804916021698,0.808995376742093,0.8056826738377649,0.8686397047583255,0.7691429083185434,0.8145095219830032,0.8536761084542279,0.8894217212362613,0.8615849694721182,0.8981788468940098,0.8847027706239351,0.8951630984585093,0.8733416924901727,0.7479049596606783,0.7419462971420389,0.729576831323371,0.7463107646756832,0.6261613208192396,0.8979036230262666,0.8686054764473448,0.8608373505954006,0.8883576048433394,0.911585187680696,0.9086502654546781,0.8695891695859216,0.9051488189917626,0.8589041749542844,0.8672435869239832,0.8721406771398521,0.8562635162208825,0.8482486172642372,0.8668736871827337,0.8741548249103791,0.8194955772782004,0.8386104259237861,0.7860465989514797,0.6460930149117059,0.7331616060830761,0.6215981484817386,0.8036079610056089,0.7793524831312605,0.8392889052730212,0.7775979352147959,0.7179834307184956,0.7410110069204694,0.7040939908039224,0.7207885129487454,0.565922961593496],[0.7266073478931492,0.7218160973153726,0.8191628988648256,0.8338295850889331,0.8618265699762098,0.8451024275411431,0.8420846327570284,0.8665235668121419,0.837887436594229,0.8912086149588812,0.845803078444906,0.8325010576035368,0.8648024845844796,0.9999999999999989,0.6215235055489667,0.5971079278911768,0.7685142850489541,0.7358417623830577,0.7403210143305051,0.7410378046340396,0.7727689116585079,0.8239861311193032,0.8026811441832112,0.8058292066594639,0.8299770533571106,0.830152304308429,0.7969186540486322,0.7954779104859265,0.8107864085053206,0.8145931537547149,0.7992326659374838,0.8495425461612472,0.8545510358961942,0.8526999097341762,0.8794079812527615,0.8517432203549149,0.8714029603431751,0.8334827789815198,0.7488737091638136,0.7478431567221937,0.7192457777377051,0.7344039299417788,0.5679666013684728,0.8860489411856262,0.8894264614434874,0.8517611089737948,0.8677239667429003,0.8794766242326635,0.8910678748410619,0.8580013373076395,0.8739923366932308,0.8998090180938859,0.8784457961898885,0.8773092291722937,0.8707042144256654,0.866118175195663,0.8658397028104846,0.8765988033382447,0.7624154684515753,0.8322603733611104,0.7757404052820567,0.6171010641859738,0.6889664764581306,0.6746550072791764,0.7650356454030525,0.7822275911612553,0.8517595812379529,0.7510035879077248,0.7443212049745709,0.7783692970896657,0.7386629639525903,0.7579086927420381,0.5224611857714749],[0.5483439754268468,0.5563741507568921,0.6242102937676867,0.5960649233796621,0.6362471443816922,0.6048628491383635,0.6403857581746292,0.610207482561778,0.6877273578101393,0.5885125429120798,0.6081801474985457,0.6124520313962933,0.6585355751384838,0.6215235055489667,1.0,0.7587456519585158,0.5828038089765002,0.5392980115643468,0.5743567717659781,0.5720729102201115,0.5692101845586611,0.5725542996227975,0.5940683789611568,0.5621059888780293,0.5633713519595226,0.5878397779072565,0.6311774743119576,0.5872785819093066,0.5983909764704625,0.566253637226673,0.5740590386781441,0.590081511808751,0.6520763565799764,0.6472249956242748,0.6778113132901401,0.679300692331705,0.6287250504018198,0.6063482891636861,0.49469371657939065,0.5082452153825852,0.5168310827763085,0.5270597533048764,0.43830492090469136,0.6637845301546886,0.6201452494036193,0.6301324296722788,0.6120017398779936,0.6817805839154768,0.6537143203945892,0.624214174377213,0.6281797112842225,0.6137314844155779,0.6209531369036336,0.6311750431715546,0.6303377330643889,0.6158511526417607,0.6219191170385776,0.602283740599094,0.5143659440791728,0.573477401936252,0.5436747303721224,0.4012685950187891,0.5686198506853476,0.4673312144950921,0.5562422409259608,0.5831024017689944,0.6104227480503619,0.5086094036025809,0.7697885195370935,0.6111986377234006,0.5296574201184506,0.5066680850314836,0.38209728574335533],[0.6317631679826419,0.5148730584643947,0.5761915526696562,0.548525290936114,0.6274677036655609,0.5705484703182495,0.6283115862995815,0.5880874294980126,0.6879228208895236,0.5702992943154445,0.5671038955496339,0.5809702421027372,0.6482459049793982,0.5971079278911768,0.7587456519585158,1.0,0.5281861531406271,0.5063998254356055,0.516049326169893,0.5032667114045513,0.5318608064400925,0.5810085759693772,0.6028860053635174,0.5646313410413171,0.56570788051687,0.5745408042780317,0.6013448450978104,0.5630811307823941,0.5809131942801209,0.5463107602376613,0.5642041824499197,0.5635512569120287,0.6080208309807411,0.6265410516260662,0.6379084079314535,0.6735463166485635,0.5962459200577895,0.5761138679689196,0.47938688482621317,0.46148300457344915,0.5212739724216777,0.5390451931913288,0.4399426004027875,0.6274582407249427,0.5939273300936665,0.5993828052696082,0.5928201672248071,0.6550196280850857,0.6185448632895635,0.5921816571381028,0.6479708122255231,0.5780129957134893,0.580124158519361,0.5838164230789568,0.5838956185879425,0.5640390381182308,0.5830667316248266,0.5660953212176799,0.5058147692287253,0.5363515351125967,0.5198478235937267,0.3743026913178755,0.5405594336398231,0.47718089613957826,0.53392386127892,0.5899949704240545,0.6048654616716993,0.5147324462691664,0.7026066778482547,0.5625491724925873,0.46289254960384135,0.493272627300525,0.392520352085188],[0.6892354292106936,0.6835629899171612,0.7421849850682187,0.7247561514736214,0.7538519118243717,0.7498639884585264,0.7485018483739267,0.7879442586432599,0.8372318541530067,0.7409942814361342,0.8061790715642456,0.7902526590908814,0.7492116453835259,0.7685142850489541,0.5828038089765002,0.5281861531406271,0.9999999999999997,0.6981216580391143,0.7034412977650679,0.6566322682253102,0.756047589973384,0.718948428868751,0.7078340745379961,0.6940171123817515,0.753579092101249,0.7399128121769292,0.7274050621364815,0.7456607312251603,0.7606242616469879,0.7435832516706443,0.7594076767344744,0.7547533215929055,0.7958164522402829,0.8087560012829822,0.8274191447891832,0.7847220332040813,0.7950008951620139,0.7433588474574462,0.6480053512658762,0.6955240793583952,0.5873296078157428,0.6066964178804426,0.4547660020129492,0.7935762425164916,0.7948292820065236,0.7913314548306042,0.765678000531646,0.7651836284082799,0.7773509115001528,0.758480316829556,0.7657756198089761,0.7971597928314781,0.7851971712788317,0.7727837006138503,0.818020406090579,0.7326387335741612,0.7677335244484847,0.7668268076235825,0.696757737136197,0.7180551979200216,0.7051407640256252,0.5045014368363391,0.5525972065117507,0.5041981976699068,0.6648368883732909,0.6676683356089478,0.7121917321036283,0.6504583993123947,0.6721871125316059,0.6409232911216667,0.5717637518309606,0.5768073966039491,0.48098587262149534],[0.7121602993688141,0.6531061691655857,0.7854632298317372,0.7384467826180685,0.7075520571872755,0.7430769611001287,0.7376402779380618,0.7386843455085098,0.7358559036814369,0.767411904610225,0.7297874317616387,0.7684814699205881,0.736703921073952,0.7358417623830577,0.5392980115643468,0.5063998254356055,0.6981216580391143,0.9999999999999991,0.6846782818073638,0.7292402641854678,0.9203241117600368,0.7185973522907168,0.6751377411177766,0.7032334255127614,0.7398418439910536,0.725254443849158,0.7211629869435194,0.706882622865593,0.7099916942056647,0.7020073964310147,0.7806621001880225,0.7214625567668427,0.7393909885893027,0.7460018886669691,0.7652753401733188,0.7281226053407523,0.7580856405612911,0.7198410541202379,0.6120704730981541,0.6494512694548752,0.6243013752725683,0.6237170683384218,0.4666944237764134,0.7715974010300045,0.8001439098350216,0.7964310366612389,0.8032967233462492,0.7690347758660506,0.7834017939279354,0.7670761376085204,0.7520046991826838,0.8175906225113966,0.781920273578608,0.7599137054679856,0.8026763283192349,0.7507015653699447,0.7765044252864928,0.7704234775568809,0.7144763358721004,0.6990900983621535,0.6901464538061117,0.469159816523802,0.5857382142519161,0.5807883344155161,0.6617819369874918,0.6596164018896961,0.7322148405591992,0.6582300508676482,0.632551487450377,0.6379824340377441,0.6132666230716789,0.6135173431653538,0.4746283349434596],[0.6495674950560266,0.6250555627515055,0.7076883428752555,0.6962643305089486,0.7142678380171599,0.7312605333528257,0.7067577765704064,0.7026199389306141,0.7434779000377888,0.730540647079375,0.7166895310311803,0.7361059190356263,0.7216852656021542,0.7403210143305051,0.5743567717659781,0.516049326169893,0.7034412977650679,0.6846782818073638,1.0000000000000007,0.6239397998301485,0.7020350527941678,0.6694613728404798,0.6813176548896591,0.636487529083793,0.6829943680489959,0.6800105064960252,0.7128022413225883,0.7524201410862934,0.7009040633127058,0.7143198333089331,0.7662230644815592,0.7295737550896135,0.6972498012567154,0.6939938026963312,0.7177147315226632,0.7455445289428294,0.7431301034389479,0.7144447716758066,0.6228228479602128,0.6725919087509641,0.5686207659988984,0.5743951560412728,0.3721492670928529,0.7619341861465171,0.7748787352887652,0.7601879083033454,0.7526812056285397,0.7472500094817741,0.7716306420870064,0.7473899498349061,0.7304642261990766,0.7753641006906182,0.761326703900475,0.7652426102935912,0.7494923822615561,0.7462563725222585,0.7560038125916917,0.7764329439848592,0.6958422476871766,0.6910344050927647,0.6855794478739083,0.5064176338880546,0.5430790506983172,0.5010287503853295,0.6122243417400017,0.6379063313431185,0.6705036917815548,0.6315702179613034,0.6897004621837027,0.6631432623584134,0.5896694432764993,0.6456405322418924,0.5467414055801387],[0.6804657030831829,0.6727434773438006,0.7533378844166232,0.7292340698606777,0.6785591612265461,0.7482941991689662,0.6941359724864586,0.7329140348713483,0.7209640077485183,0.7392801864451668,0.7093739226946832,0.790382413828807,0.7180953276741953,0.7410378046340396,0.5720729102201115,0.5032667114045513,0.6566322682253102,0.7292402641854678,0.6239397998301485,1.0,0.7318552795046533,0.6820941325599862,0.6811306734011473,0.6833316306818626,0.6888248220445218,0.6950468718920425,0.6894450126536051,0.6789767593755532,0.6715261502033923,0.6896280938113789,0.6893453902187202,0.6933488900418899,0.7273156922129143,0.7483369671838707,0.7324787667171746,0.7004813316171967,0.7329136629083637,0.7187974917611031,0.5805658840708428,0.6355856169755403,0.6452441178411522,0.6397164686040916,0.4713121379680281,0.7550067234706648,0.7608127973404443,0.7631416033971296,0.7441906333430931,0.7515802638536658,0.7374118291292626,0.7678562707765745,0.7329060958693009,0.7692981906877193,0.7326849154452235,0.746246638054017,0.7242797160781949,0.7598596464745041,0.7338581606763449,0.7268246598190499,0.6470462541015698,0.6941138301563213,0.6820343341713702,0.4799693972706208,0.559052920161073,0.5248816241339855,0.673479719901488,0.6873738355407498,0.7341909035748729,0.6624740989812293,0.601684429392393,0.6079551145246179,0.5772047282381838,0.5689092322425033,0.4367769871014947],[0.720503135077478,0.6808225037753455,0.8068707766822844,0.7418331749328428,0.7660575556922681,0.786980959121493,0.7998728262866842,0.7776924144501692,0.7894535609979862,0.8124183461942848,0.8012551548697652,0.8113295172797371,0.7762210101565319,0.7727689116585079,0.5692101845586611,0.5318608064400925,0.756047589973384,0.9203241117600368,0.7020350527941678,0.7318552795046533,0.9999999999999996,0.725947039143255,0.7034931823348048,0.6985211442964154,0.7563805551929659,0.7456342999545233,0.7296723677941241,0.7389327862735746,0.7689468702953165,0.7380714438791166,0.8043166876871878,0.768920336654395,0.8038016605932066,0.8178208985101845,0.819806333017644,0.7718779540771306,0.817288447118851,0.7531204192578032,0.6451809616827532,0.6826095947359193,0.6267085142226991,0.6404365634428516,0.478454644651783,0.8122462623428859,0.8106313814612494,0.7848322795753764,0.8121800397435843,0.7900329513132697,0.8107312134551832,0.7765038188516792,0.7856442794106693,0.843332977322803,0.8120133163174462,0.8014401500467485,0.8201931990654949,0.7745763848607775,0.798807599350351,0.8192281067596803,0.7440651719427016,0.7435543961362306,0.6971606178632508,0.5137757944146005,0.592534581711808,0.6034099494200128,0.7124303894483347,0.6765801066411181,0.7567448673772664,0.6766937874639315,0.665235940982456,0.6405064275545614,0.6345956757442598,0.6348975615200353,0.5154808274778182],[0.7435967724617064,0.7269069992715194,0.7935607809466368,0.8541377988956446,0.7934313936681132,0.8291395041012305,0.7413368778976709,0.881969582194208,0.7781158643940509,0.8071695599413155,0.8355074628381775,0.7905201545039665,0.8143613450900352,0.8239861311193032,0.5725542996227975,0.5810085759693772,0.718948428868751,0.7185973522907168,0.6694613728404798,0.6820941325599862,0.725947039143255,0.9999999999999992,0.8470429128655432,0.9487838307390514,0.9630526211865211,0.9605865702551223,0.7941212552848597,0.7638122873648365,0.7950236852235867,0.7975530183635466,0.7411529767142339,0.8009215859067642,0.8053155551442956,0.7955882025804822,0.8114860216954202,0.8420300954994878,0.8333566965768335,0.8272524299840048,0.603213793883072,0.6640687799116934,0.6575217841851984,0.6929531379271004,0.5713009704555929,0.8518089334628702,0.8721464549513052,0.834699102471963,0.857615069098211,0.8778550812009026,0.8598134100026614,0.8749541714340756,0.8548470999485881,0.8760680672010053,0.8203556599012093,0.836308584422442,0.8353400959394781,0.8459505426823198,0.8140997136741196,0.8237205217023964,0.7487210813446743,0.7843117126783418,0.8135456679545948,0.6426381354805617,0.6304309456373821,0.5546641552837971,0.7118803623368989,0.7766718318135268,0.7444376360090187,0.7197908913455334,0.7074537641753252,0.7264109216275167,0.6356569962289597,0.6892394352685778,0.513999993878868],[0.7451173440755386,0.7195732254730445,0.7816283857707957,0.784298769363268,0.7838936682075291,0.7918334980633639,0.7542891296483454,0.8444699700069421,0.7778828170778946,0.8213217983554586,0.7799404814716793,0.7714954028102184,0.8259918191181113,0.8026811441832112,0.5940683789611568,0.6028860053635174,0.7078340745379961,0.6751377411177766,0.6813176548896591,0.6811306734011473,0.7034931823348048,0.8470429128655432,0.9999999999999996,0.8378936152384566,0.8516265759476138,0.8507329926776377,0.8183046283928327,0.782584915715959,0.8056885362657732,0.7528075762894887,0.7303257537111522,0.7699115871294344,0.8211861088201342,0.7932175409211607,0.7984596278110816,0.8330312587871532,0.8443223063731944,0.8395598530413869,0.6167918269575975,0.6310043705816809,0.7164706544066547,0.7119958198889097,0.6024533573493402,0.8203295739050595,0.8155300400156711,0.8177850962363271,0.8409411925242043,0.8414165180335696,0.8321193935195739,0.8476262627194285,0.8442350516385676,0.8307441517660693,0.7845982937282265,0.8031352045621322,0.7676197556728179,0.8085420825771955,0.8044820116555457,0.802919957564113,0.7351538438161154,0.7775969742629176,0.7590234010422453,0.6327620998322557,0.63103077195694,0.5314740707662835,0.7496552164233157,0.9061012934909034,0.7627228074177859,0.7391342317188713,0.7328847454229674,0.6998958700655297,0.6512056701750311,0.6770293770318754,0.49384880339213966],[0.7246846608976036,0.7405586078701302,0.7440356673577976,0.8260684102974611,0.78836725705217,0.7772901052572473,0.7066228581034991,0.8384569008324102,0.7209141053417285,0.8009213807968814,0.8043942593388163,0.775435001805028,0.7941545323686893,0.8058292066594639,0.5621059888780293,0.5646313410413171,0.6940171123817515,0.7032334255127614,0.636487529083793,0.6833316306818626,0.6985211442964154,0.9487838307390514,0.8378936152384566,0.9999999999999991,0.9253991376712228,0.9339204136004502,0.7640990584604225,0.7346223202163837,0.7879758376766477,0.7597630686670884,0.6984907056171423,0.7821549240873522,0.7679525146458294,0.7506639237400692,0.7591781998857402,0.8269214449700097,0.8069540756588873,0.8324574928061895,0.5629668419752966,0.6268765660386753,0.7644275595597881,0.7982616703845195,0.5199966665481014,0.830225372421585,0.8349065509533816,0.7878000599605165,0.8266875757271883,0.8412862708552311,0.819664356838218,0.8353850936271351,0.8392164826092372,0.8449985594409167,0.7811912941846522,0.8219495624052879,0.7946860510676015,0.8084284546926819,0.7915005039703006,0.786284832563138,0.7680034147134757,0.8234237152634964,0.8391601234000549,0.6888645595550366,0.5899300330967469,0.5455208871365962,0.7607907752292719,0.8474790617289565,0.7906728651164241,0.8138821340229975,0.6856285836332594,0.6771443652737941,0.6167278057331611,0.6627045942170213,0.47642530179152087],[0.7650100171736911,0.7430339899222186,0.8171988924469925,0.837799196767673,0.8328400608155825,0.8282122912345766,0.8056139361624929,0.8812992098149249,0.797610774968406,0.8377309614250062,0.8432229266257175,0.8100128861439035,0.8428223785228195,0.8299770533571106,0.5633713519595226,0.56570788051687,0.753579092101249,0.7398418439910536,0.6829943680489959,0.6888248220445218,0.7563805551929659,0.9630526211865211,0.8516265759476138,0.9253991376712228,1.0000000000000002,0.9452680680047075,0.7917543718181335,0.8104658597143732,0.8501109911952698,0.7908330006571395,0.7842769938356734,0.8255031794219975,0.8393699378678617,0.8104626309387212,0.8380352961905737,0.8757317178622762,0.8551627914193984,0.8489692158611548,0.6357719589710137,0.6971025152885904,0.6840525101570963,0.705986797871644,0.5798726175143051,0.8701344454018507,0.8649498218230214,0.8606010902312468,0.886076086185894,0.8858426881829089,0.8870886612306016,0.8770581588682643,0.8757958617666954,0.8717526100419936,0.84790313052042,0.8590417305841737,0.8633757530388305,0.8450033387657964,0.8461141472497872,0.8514956181844585,0.795536901869991,0.7917021174362538,0.816868534053555,0.641383723660896,0.670887754663458,0.5737274655548724,0.7338143475905938,0.7887856508948795,0.7703095644037661,0.7506586253774452,0.6988367239767634,0.736252756849222,0.6634215943789208,0.7200265086981195,0.5559263216958356],[0.7300027416275445,0.7506900023321773,0.8047884171586986,0.8572437197071201,0.8243950384797089,0.8290093759404987,0.7685790767107653,0.8719114762349398,0.7800031651208857,0.8156803548902729,0.8331767403000283,0.814721162546862,0.8266804916021698,0.830152304308429,0.5878397779072565,0.5745408042780317,0.7399128121769292,0.725254443849158,0.6800105064960252,0.6950468718920425,0.7456342999545233,0.9605865702551223,0.8507329926776377,0.9339204136004502,0.9452680680047075,1.0000000000000002,0.8002694951109084,0.7773291588370763,0.828507337832839,0.8086709986756593,0.754467619963413,0.8578715992788599,0.8186466058366305,0.8022140801096388,0.8062979682205832,0.8437663333061869,0.8408787619428862,0.8434036572108894,0.5986100237469586,0.6727661992609676,0.6704307912452376,0.6935569862315937,0.5582764977263498,0.8590039725070628,0.8691034332037265,0.8283764954915083,0.8722368206381703,0.8948613599646923,0.8736167287896796,0.885247015192358,0.8724947435559709,0.8843371287223382,0.8434615795063897,0.842859662932616,0.8362430486348815,0.8504431722511965,0.829960960461591,0.8389561496097498,0.7570094221476408,0.786623790226562,0.8183029364961654,0.6383265743336027,0.6630399161019053,0.5601172915555755,0.7210622807324626,0.7816485464201226,0.745371873301293,0.7339485153209632,0.7507564294499147,0.7332290208000499,0.6670515896968949,0.699638364681911,0.5120874397142862],[0.7894559114360836,0.7491773807924141,0.8367575200133678,0.8084937543013888,0.7333399214151878,0.8599257523925122,0.734378835505018,0.7900284732603399,0.8255422547847553,0.7961183790354807,0.7513988265288394,0.7891929786744653,0.808995376742093,0.7969186540486322,0.6311774743119576,0.6013448450978104,0.7274050621364815,0.7211629869435194,0.7128022413225883,0.6894450126536051,0.7296723677941241,0.7941212552848597,0.8183046283928327,0.7640990584604225,0.7917543718181335,0.8002694951109084,0.9999999999999999,0.781930948718471,0.7641524953456184,0.8215968503682219,0.7745935055522187,0.7355442316427273,0.834374771946032,0.8175411710761674,0.857478891969185,0.8450776083703411,0.8632119869270851,0.8321195045478756,0.5868480809953689,0.6610493769470441,0.685207937783908,0.6978056211205931,0.5272086403382175,0.833156099564562,0.8767240163944402,0.856719111719677,0.867997625151034,0.8651670662075845,0.8609335066791585,0.8735450291561837,0.8132564283718143,0.8307715478693466,0.8194197989454435,0.8019281562877039,0.824428127950786,0.8341617939330201,0.8072867413004752,0.7934659435316151,0.7528550818909634,0.7866259874026482,0.7982485863459222,0.625567471430425,0.6057138455493771,0.5201312587272529,0.7591378828909896,0.7557229692453837,0.7534430481660067,0.7344648858608878,0.7475949575571542,0.6757618345210921,0.6113006971127426,0.6383446672271829,0.4793559139406769],[0.7195213413745987,0.7584925115056977,0.7879926914258452,0.8052131102768594,0.813812085056023,0.8273916282608981,0.7755699827593339,0.8024570816675984,0.7740329478245093,0.8135594163003403,0.7723729032441834,0.8362138138414179,0.8056826738377649,0.7954779104859265,0.5872785819093066,0.5630811307823941,0.7456607312251603,0.706882622865593,0.7524201410862934,0.6789767593755532,0.7389327862735746,0.7638122873648365,0.782584915715959,0.7346223202163837,0.8104658597143732,0.7773291588370763,0.781930948718471,0.9999999999999984,0.8902129350416795,0.7660300732622192,0.82574785826208,0.8142518463963315,0.804203900894006,0.785010110432403,0.8072711573536917,0.8575103377212189,0.8429260400514715,0.7943769428087357,0.6731519202745387,0.7342331996018924,0.657595031104162,0.6416787643675975,0.4572764135409975,0.8729877213912545,0.8398915479195246,0.8862916174690807,0.8599592063527933,0.8601514163476907,0.8764098572588824,0.8538904755302684,0.883885373829492,0.821996048278351,0.8401378204393523,0.8328064835399819,0.8254213930383079,0.8266918236327806,0.8146580898189287,0.8500948951226088,0.7596625458734224,0.7390230267298148,0.7496783199164009,0.560361587834041,0.6317319834353401,0.5825973009970147,0.7087703793360615,0.7291340890103092,0.7417937013014922,0.6918021233137482,0.7451119553757899,0.7034682217969201,0.6600365357481067,0.6476605026117566,0.5066616901926342],[0.7444773234547849,0.7885769213804613,0.8090036099014895,0.8263794756693505,0.8637602369082005,0.8199736709366994,0.8249877619298404,0.8448796820342049,0.7921585398616567,0.8459633081548331,0.8047935384023364,0.8587128267776121,0.8686397047583255,0.8107864085053206,0.5983909764704625,0.5809131942801209,0.7606242616469879,0.7099916942056647,0.7009040633127058,0.6715261502033923,0.7689468702953165,0.7950236852235867,0.8056885362657732,0.7879758376766477,0.8501109911952698,0.828507337832839,0.7641524953456184,0.8902129350416795,1.0000000000000009,0.7689666692931834,0.8136032338256273,0.8583214914694132,0.8607981759626219,0.8169114920251564,0.846520915145132,0.9047169512608838,0.8757660957448492,0.8424758554960363,0.6787698521257879,0.7207038441464584,0.698204376402802,0.6982833358552835,0.5109589795584156,0.876231537139057,0.8450029431559716,0.8436946912680033,0.8683577375342542,0.8934934508555555,0.885470025655846,0.862158940093482,0.8874361982265954,0.8354281909810947,0.858173337774086,0.8412266246518748,0.8276651840694188,0.8184866652780255,0.8188215837086494,0.8563851600425993,0.8053092020814329,0.812298955138916,0.7815217276643318,0.6043216981155278,0.6874060842244424,0.5804319994149778,0.7891134134445351,0.7504989001002541,0.7711506172937687,0.7542200156561804,0.7220215552713787,0.7216908328907593,0.6715307185868109,0.6534093789175169,0.496649061118384],[0.7197696301241658,0.7188442896704299,0.8074716290319949,0.7838545562270253,0.7935622050562552,0.8834373053527208,0.7155567941933727,0.7872073640847,0.7881305482709478,0.7574445094015356,0.7798031170005594,0.8095465128717331,0.7691429083185434,0.8145931537547149,0.566253637226673,0.5463107602376613,0.7435832516706443,0.7020073964310147,0.7143198333089331,0.6896280938113789,0.7380714438791166,0.7975530183635466,0.7528075762894887,0.7597630686670884,0.7908330006571395,0.8086709986756593,0.8215968503682219,0.7660300732622192,0.7689666692931834,0.999999999999999,0.7857418085234615,0.8407237944516626,0.8022132650007509,0.7979147895483318,0.8206847905796958,0.7763208059229536,0.8158882401492835,0.7794113428700311,0.6028473101493939,0.662219111212764,0.6128224501751308,0.6278914546849269,0.467987439803355,0.8144192569346478,0.870489887194122,0.8362431164696688,0.8337574430506369,0.8120897840965159,0.8185521441849702,0.8343925992098968,0.817414920807753,0.8319110417689025,0.811655026456134,0.7852857094683448,0.8124698444134882,0.801259553198289,0.7808480598956492,0.8011801271192459,0.7161611846622401,0.7382216086545419,0.7189812889290951,0.5376695592979431,0.5783615489609825,0.5533906043440723,0.6830067491336218,0.6918157965530842,0.7216590068495834,0.6666440442842634,0.6908155741807243,0.7057793568293611,0.6500254300236731,0.6749105437669864,0.4774580546424315],[0.7276011526996756,0.7262088186355212,0.8123673208265929,0.7761904234199597,0.783219417302851,0.8223986380069139,0.810537514231024,0.7898694872758903,0.8027457147227616,0.8334258237742428,0.7933852805409868,0.8434034529094608,0.8145095219830032,0.7992326659374838,0.5740590386781441,0.5642041824499197,0.7594076767344744,0.7806621001880225,0.7662230644815592,0.6893453902187202,0.8043166876871878,0.7411529767142339,0.7303257537111522,0.6984907056171423,0.7842769938356734,0.754467619963413,0.7745935055522187,0.82574785826208,0.8136032338256273,0.7857418085234615,0.9999999999999992,0.803499721375317,0.799414130957517,0.8075277990450314,0.8243863417481928,0.804485477928075,0.832997618402097,0.8087699692321634,0.7261567823407956,0.7847797892829516,0.6148469750589034,0.6197464338473871,0.48412353711483813,0.8647009030862016,0.8657165219288381,0.8809816718877908,0.8687730883848309,0.8275588328426511,0.8477880385662724,0.8392134977214644,0.845870958625242,0.8386262988083021,0.8774464841474624,0.8252263754494217,0.8731901617639434,0.8181330497303201,0.8270958815833939,0.8678310059408926,0.8337227827952473,0.7416328782164447,0.723536784569198,0.5155635269777131,0.6171827498145188,0.599979296914129,0.6890917313769832,0.6663925582960741,0.7614953133843222,0.6817125777017788,0.6862771800482917,0.6951357537082463,0.6751822219445074,0.6686807686611278,0.5392671606920696],[0.6655616800090933,0.7258197868048862,0.8191816319095935,0.8253334923579698,0.8978429708061144,0.8318900085498611,0.8104389620628369,0.820794686980938,0.7778957016020602,0.852261297931318,0.796712297949557,0.8376332540186558,0.8536761084542279,0.8495425461612472,0.590081511808751,0.5635512569120287,0.7547533215929055,0.7214625567668427,0.7295737550896135,0.6933488900418899,0.768920336654395,0.8009215859067642,0.7699115871294344,0.7821549240873522,0.8255031794219975,0.8578715992788599,0.7355442316427273,0.8142518463963315,0.8583214914694132,0.8407237944516626,0.803499721375317,0.9999999999999996,0.7841435440760147,0.7831422788952408,0.7928504497491575,0.8094761340773421,0.8361488802965619,0.7901960952776539,0.7058154771336784,0.736580275785313,0.5963026654355832,0.6048496674030275,0.5104511136013518,0.8735421448348223,0.8780114062309284,0.8311872452404367,0.8519885852434312,0.8697781357804594,0.8608065312338001,0.8464061259135511,0.8964725243534882,0.8906827253595657,0.8878481950879152,0.8679000054510064,0.8631082439424096,0.8515060359461205,0.8531146471008884,0.8872264369411106,0.7391940348986792,0.7721340415516688,0.7336769385901838,0.5455134994857923,0.7200113944832868,0.5776580962997342,0.6580310505013478,0.6840163910890779,0.7312451707721758,0.6698838114505007,0.747198422295938,0.75056377394749,0.7246391683588715,0.7071301225983194,0.5506651543019552],[0.8215919151072216,0.779980855968147,0.8521855960108285,0.8305711598360425,0.8691736742253698,0.8412478488072361,0.8788720290312935,0.8825128713570646,0.859839855987383,0.8458116036309768,0.8840406212494836,0.8451217895834753,0.8894217212362613,0.8545510358961942,0.6520763565799764,0.6080208309807411,0.7958164522402829,0.7393909885893027,0.6972498012567154,0.7273156922129143,0.8038016605932066,0.8053155551442956,0.8211861088201342,0.7679525146458294,0.8393699378678617,0.8186466058366305,0.834374771946032,0.804203900894006,0.8607981759626219,0.8022132650007509,0.799414130957517,0.7841435440760147,0.9999999999999998,0.9024524057031335,0.9606573110461478,0.9027067051191509,0.9206620350260228,0.867333053699523,0.6525393466824762,0.6983230858246056,0.7506189619614251,0.7635265911316351,0.5915656582282032,0.887118795756521,0.8594814937573596,0.8904940331069364,0.8870580040837303,0.884700725024157,0.9002744181043187,0.8757789811228894,0.8673706574527529,0.8325224926386777,0.8608008310592576,0.8470964092745921,0.8357527201780387,0.8334388192733808,0.823691184119381,0.836379501324885,0.8192108713530346,0.8334389701255894,0.8039676637655091,0.6420921927001461,0.6644610245279405,0.6122597340528004,0.8826423913167724,0.7945394177251596,0.8409594468254982,0.786806701617647,0.716653957835304,0.7194146761790032,0.6663377732199653,0.6636778903914642,0.4786371279171363],[0.8156725700366617,0.7766487879580786,0.8734205615919939,0.8132718281666813,0.83515951727495,0.8621380553916979,0.8650246293807514,0.8401647236394525,0.9364440108060174,0.8549402049793979,0.8665546553077565,0.8859393202095058,0.8615849694721182,0.8526999097341762,0.6472249956242748,0.6265410516260662,0.8087560012829822,0.7460018886669691,0.6939938026963312,0.7483369671838707,0.8178208985101845,0.7955882025804822,0.7932175409211607,0.7506639237400692,0.8104626309387212,0.8022140801096388,0.8175411710761674,0.785010110432403,0.8169114920251564,0.7979147895483318,0.8075277990450314,0.7831422788952408,0.9024524057031335,1.0000000000000009,0.9353232478786616,0.8812936568525634,0.8877602322775278,0.8342737718008792,0.7057020048600604,0.7393538031331808,0.7266390456224185,0.7531421224304593,0.5635107166574984,0.8699236700106416,0.8786346088749815,0.8726947818860512,0.8682243104733672,0.8773776630553358,0.8886575192387834,0.8591739541414702,0.8560248760349339,0.8468127337475542,0.8360863099671537,0.854790425436748,0.8398500045258903,0.84306063199662,0.8252003019890081,0.8425367313037713,0.8115620860077374,0.8289627277950787,0.8027295724139691,0.6339814520017689,0.659753678348422,0.5869113079200161,0.8215487845961805,0.7668107223874532,0.834658605798286,0.7624890352715992,0.7205780948319975,0.7079644536478108,0.6841827817401438,0.6759902188927045,0.5091586782879891],[0.8476298161963304,0.7806840728858391,0.8773680205447236,0.8322528050248341,0.871217168023153,0.8706336768055193,0.900606980017087,0.882346143377966,0.9093578438929658,0.871474952557823,0.8960691462311106,0.8595009633959009,0.8981788468940098,0.8794079812527615,0.6778113132901401,0.6379084079314535,0.8274191447891832,0.7652753401733188,0.7177147315226632,0.7324787667171746,0.819806333017644,0.8114860216954202,0.7984596278110816,0.7591781998857402,0.8380352961905737,0.8062979682205832,0.857478891969185,0.8072711573536917,0.846520915145132,0.8206847905796958,0.8243863417481928,0.7928504497491575,0.9606573110461478,0.9353232478786616,1.0,0.9095616190188146,0.9287793230920464,0.8532695382936161,0.7168672166182806,0.7509313170814894,0.7370973048485906,0.7631993690562621,0.6030157368673211,0.9019190573684145,0.8950163647328702,0.9077227677313462,0.889267072785596,0.8965761617049393,0.9162163513580649,0.8728716789316824,0.8779589284134248,0.8566996551091344,0.8740424202796822,0.8650472591388487,0.896237219537801,0.8547672315907986,0.859652919334517,0.8500155405840458,0.8166287722021405,0.8449306070399571,0.8041206941566733,0.6264591142913691,0.6826234143372725,0.6131232726589819,0.858594643249927,0.7712392209571675,0.8574724309548958,0.7709730372423552,0.7410647599870217,0.7359357688505157,0.6669014330842553,0.6868587442375791,0.5200958920040731],[0.8218013863671662,0.8077844449026138,0.8465474870420732,0.8411587495230649,0.8588883092739924,0.8458561121591274,0.8507973488386044,0.8475567523065864,0.867402498468619,0.8702442078751463,0.847057591417499,0.8482005557971993,0.8847027706239351,0.8517432203549149,0.679300692331705,0.6735463166485635,0.7847220332040813,0.7281226053407523,0.7455445289428294,0.7004813316171967,0.7718779540771306,0.8420300954994878,0.8330312587871532,0.8269214449700097,0.8757317178622762,0.8437663333061869,0.8450776083703411,0.8575103377212189,0.9047169512608838,0.7763208059229536,0.804485477928075,0.8094761340773421,0.9027067051191509,0.8812936568525634,0.9095616190188146,0.9999999999999991,0.9006819536093443,0.8817341908291085,0.6832392979644674,0.7257346038142792,0.7840030799480423,0.7990685139454314,0.569418590057562,0.9051561175444348,0.8842395785708909,0.8760227841690535,0.9187631748423462,0.9277123965361433,0.9237289300381794,0.8895275046484893,0.8965339260871864,0.8488394035721343,0.8390879508718361,0.8689507438819953,0.8511806668376544,0.8549280163188685,0.8558344131224638,0.8412505838723117,0.8727536286121719,0.8865787962227459,0.880253833142756,0.7059219753414993,0.6846722476573633,0.5719820144998448,0.8542231479231004,0.811700198365667,0.8383603410882986,0.8483676166087505,0.7699163729253773,0.7580213883727579,0.6594340806923901,0.6874579581212366,0.5331873732600867],[0.8216273771639306,0.8358051361932626,0.8531943513367864,0.8554947119367886,0.8491204302083879,0.8742220096329975,0.8612386985442281,0.8885684861776352,0.8634447421992711,0.9115554367466211,0.8998042796238765,0.8686034089482607,0.8951630984585093,0.8714029603431751,0.6287250504018198,0.5962459200577895,0.7950008951620139,0.7580856405612911,0.7431301034389479,0.7329136629083637,0.817288447118851,0.8333566965768335,0.8443223063731944,0.8069540756588873,0.8551627914193984,0.8408787619428862,0.8632119869270851,0.8429260400514715,0.8757660957448492,0.8158882401492835,0.832997618402097,0.8361488802965619,0.9206620350260228,0.8877602322775278,0.9287793230920464,0.9006819536093443,1.0,0.8982792235848126,0.6854944841800141,0.7364688070858583,0.7562772275823924,0.7698943634954848,0.5848296878724829,0.9238663919685439,0.9045868082681682,0.901057946798437,0.8943620300876434,0.9075609764832248,0.901616114336577,0.8937103620430933,0.8943264879490989,0.88906073164961,0.8949678127285525,0.9079862640762124,0.8824359155910685,0.8764041150154126,0.8643888007637889,0.8801180350128571,0.8272486579010702,0.8652769792368386,0.8240650612372732,0.6635372103853082,0.6828986919800988,0.6368356981614952,0.8642472622178058,0.8128843519548339,0.8437998699901411,0.7993194537552892,0.7385884054751112,0.732646805088488,0.713371239237995,0.6951184747800667,0.516770437139485],[0.8023698157327459,0.8369435449107712,0.813074404414013,0.8277207964434492,0.8090834428398281,0.8417329563738593,0.8017583723257806,0.8347184944284195,0.7995590757894879,0.8993849648075699,0.8434195563621991,0.8397353236017637,0.8733416924901727,0.8334827789815198,0.6063482891636861,0.5761138679689196,0.7433588474574462,0.7198410541202379,0.7144447716758066,0.7187974917611031,0.7531204192578032,0.8272524299840048,0.8395598530413869,0.8324574928061895,0.8489692158611548,0.8434036572108894,0.8321195045478756,0.7943769428087357,0.8424758554960363,0.7794113428700311,0.8087699692321634,0.7901960952776539,0.867333053699523,0.8342737718008792,0.8532695382936161,0.8817341908291085,0.8982792235848126,0.9999999999999991,0.6539052454250678,0.7058853644110398,0.8026336830861038,0.8090383909881146,0.5419287424775258,0.8785747239666546,0.8747606348570526,0.8551735501880822,0.8867637749553435,0.8763907493306756,0.8788580217194083,0.8871282011261156,0.8647990515084221,0.855414897176875,0.8398219449586195,0.8351783780679773,0.8344733252124288,0.832960431671474,0.8358473698721699,0.8299673480056181,0.8548685925798825,0.8809221456603948,0.8581130499575111,0.6915982098451791,0.633805230113963,0.5895686674520169,0.856613410955271,0.8305944588952803,0.8535628054114279,0.8492736897648248,0.7244497255317037,0.6983924613573773,0.6919982040892392,0.6520991314320098,0.4910159143049969],[0.5212856683708595,0.5539755642594495,0.6970136446420313,0.634485699510889,0.7294604101841133,0.6715441618346415,0.7584655138831087,0.6700838096052124,0.7012338045591561,0.7966625288371283,0.6929892763744587,0.6818715819843375,0.7479049596606783,0.7488737091638136,0.49469371657939065,0.47938688482621317,0.6480053512658762,0.6120704730981541,0.6228228479602128,0.5805658840708428,0.6451809616827532,0.603213793883072,0.6167918269575975,0.5629668419752966,0.6357719589710137,0.5986100237469586,0.5868480809953689,0.6731519202745387,0.6787698521257879,0.6028473101493939,0.7261567823407956,0.7058154771336784,0.6525393466824762,0.7057020048600604,0.7168672166182806,0.6832392979644674,0.6854944841800141,0.6539052454250678,0.999999999999999,0.9042586646867757,0.550306867952777,0.5471868987452106,0.4325159353983101,0.7115400075952575,0.7261405299750603,0.7220381092151231,0.7185990982726616,0.7010367176452578,0.712859637921886,0.6721004692319982,0.7707996702149549,0.719371060705184,0.7394348616511828,0.7093390440494493,0.743423353269973,0.7168142173383003,0.7473617459202831,0.7254268587443103,0.6622693838530148,0.6702948425386721,0.5973808586776816,0.44618121318545584,0.6811454103311689,0.5259563960524507,0.5846941310453394,0.5771431838234311,0.6636576452121862,0.579675030614913,0.5886292525325979,0.6394565034169811,0.681023349032153,0.6792654066449895,0.5437868662931882],[0.571754593989891,0.6405560465352291,0.7204915543488577,0.7086520600962813,0.7331577415391991,0.7264672975131468,0.7448935100511213,0.7361170386362735,0.7225771921307662,0.7935330911520186,0.7364641428209955,0.7577757119277551,0.7419462971420389,0.7478431567221937,0.5082452153825852,0.46148300457344915,0.6955240793583952,0.6494512694548752,0.6725919087509641,0.6355856169755403,0.6826095947359193,0.6640687799116934,0.6310043705816809,0.6268765660386753,0.6971025152885904,0.6727661992609676,0.6610493769470441,0.7342331996018924,0.7207038441464584,0.662219111212764,0.7847797892829516,0.736580275785313,0.6983230858246056,0.7393538031331808,0.7509313170814894,0.7257346038142792,0.7364688070858583,0.7058853644110398,0.9042586646867757,1.0000000000000016,0.5930622062709349,0.5991698558444526,0.4133228999793403,0.7666341003524564,0.7924982082264994,0.7872269974035442,0.7745366901128619,0.7641105303796836,0.7497728846612537,0.7559655684432228,0.8002747918149499,0.7701502656401275,0.7980537906871357,0.7473656023687738,0.8070929588132123,0.7788547708868767,0.7695241125735804,0.7668108060282968,0.7128168537182319,0.7018503829060811,0.6676553902123518,0.4820474278262491,0.6186056343514609,0.516228611510413,0.6343039801461902,0.6091669650515392,0.7124787631221374,0.6329974272593778,0.6111486375311005,0.6222918263030783,0.6272744295606575,0.6672860599023155,0.5360323883435814],[0.7294472031885018,0.7426276829577562,0.6653389899300777,0.6885681437206193,0.6836379124030012,0.6676504755409227,0.6795379778866498,0.679052463404399,0.6614514873829953,0.7571816778782755,0.7387327616193072,0.6902455377013739,0.729576831323371,0.7192457777377051,0.5168310827763085,0.5212739724216777,0.5873296078157428,0.6243013752725683,0.5686207659988984,0.6452441178411522,0.6267085142226991,0.6575217841851984,0.7164706544066547,0.7644275595597881,0.6840525101570963,0.6704307912452376,0.685207937783908,0.657595031104162,0.698204376402802,0.6128224501751308,0.6148469750589034,0.5963026654355832,0.7506189619614251,0.7266390456224185,0.7370973048485906,0.7840030799480423,0.7562772275823924,0.8026336830861038,0.550306867952777,0.5930622062709349,0.9999999999999991,0.9746401633378989,0.4637280490109329,0.7214276504616245,0.6982160840872257,0.7154142688965704,0.7423911140956614,0.7181797037683096,0.7248028223528854,0.7239787876503819,0.7252187779238057,0.6592646239600203,0.6434939311115776,0.6881665920019278,0.6462628823933774,0.6763819070131246,0.7041588891100248,0.637209584654841,0.7857649744210206,0.8224253286619253,0.8381264180804742,0.6899141823325476,0.51004517607485,0.5257049979946187,0.9267067994422312,0.9101003255588022,0.8949110054407697,0.9361102169746761,0.5979987225690195,0.5106578855110647,0.5320638136034582,0.5622424554762577,0.4287309461708336],[0.7546219017580119,0.7395221245824902,0.677654801575755,0.7033688970204897,0.7117685648437041,0.6778535955531599,0.7074613889882171,0.6977652368361431,0.6809078484588656,0.7667832138693209,0.7636687795426775,0.6910328939776698,0.7463107646756832,0.7344039299417788,0.5270597533048764,0.5390451931913288,0.6066964178804426,0.6237170683384218,0.5743951560412728,0.6397164686040916,0.6404365634428516,0.6929531379271004,0.7119958198889097,0.7982616703845195,0.705986797871644,0.6935569862315937,0.6978056211205931,0.6416787643675975,0.6982833358552835,0.6278914546849269,0.6197464338473871,0.6048496674030275,0.7635265911316351,0.7531421224304593,0.7631993690562621,0.7990685139454314,0.7698943634954848,0.8090383909881146,0.5471868987452106,0.5991698558444526,0.9746401633378989,1.0000000000000004,0.4806921564313806,0.7429127005857333,0.719870317671075,0.7056985120179359,0.7502826322044001,0.7328203458159547,0.7422640109078305,0.7248337496345977,0.7414317366987663,0.6775511868418718,0.6475404450718742,0.7144341179666631,0.6689350806255683,0.6888148612688508,0.7089425405532565,0.6477009577501072,0.806663291720574,0.8532856358678074,0.8447706689018286,0.7161389240278061,0.5024007543398963,0.5011507465043173,0.9235960978140275,0.8998285929505038,0.9072703908256666,0.9462661369510237,0.5978918250940647,0.5412818098284691,0.5209874878696175,0.570605743028303,0.42916469039530075],[0.5609624433426993,0.46237024038176316,0.5339925830237179,0.5528136082061728,0.5847055628052233,0.5480629562330632,0.5988816231399204,0.6009246296232943,0.5758382297394429,0.5700072261199911,0.5680547108326715,0.499977174715841,0.6261613208192396,0.5679666013684728,0.43830492090469136,0.4399426004027875,0.4547660020129492,0.4666944237764134,0.3721492670928529,0.4713121379680281,0.478454644651783,0.5713009704555929,0.6024533573493402,0.5199966665481014,0.5798726175143051,0.5582764977263498,0.5272086403382175,0.4572764135409975,0.5109589795584156,0.467987439803355,0.48412353711483813,0.5104511136013518,0.5915656582282032,0.5635107166574984,0.6030157368673211,0.569418590057562,0.5848296878724829,0.5419287424775258,0.4325159353983101,0.4133228999793403,0.4637280490109329,0.4806921564313806,1.0000000000000013,0.5644250381944682,0.5634614234171141,0.5492671374075244,0.5609359631493018,0.5927965064815518,0.6102842454812206,0.576720807468805,0.5674205831344413,0.5488274279423485,0.5336796226556025,0.5808754400319917,0.55118593760006,0.5623100609412592,0.575158367228698,0.5309673875625801,0.4776782082651453,0.5031913791079269,0.5072698589618867,0.43641232955726555,0.6028710703735533,0.3501721431691124,0.5097149869448209,0.5613022091130255,0.5455123054456975,0.46444479613979983,0.45939678627632236,0.5431861369228875,0.4085502348501019,0.4803261064633075,0.3684841756171007],[0.783422463853109,0.7861395537123292,0.847093778996186,0.8838020814017926,0.8811465778745952,0.8750797482648146,0.8617024528559276,0.8941046516548814,0.8525284308466271,0.8960387648299233,0.8754983540097594,0.8916605036395362,0.8979036230262666,0.8860489411856262,0.6637845301546886,0.6274582407249427,0.7935762425164916,0.7715974010300045,0.7619341861465171,0.7550067234706648,0.8122462623428859,0.8518089334628702,0.8203295739050595,0.830225372421585,0.8701344454018507,0.8590039725070628,0.833156099564562,0.8729877213912545,0.876231537139057,0.8144192569346478,0.8647009030862016,0.8735421448348223,0.887118795756521,0.8699236700106416,0.9019190573684145,0.9051561175444348,0.9238663919685439,0.8785747239666546,0.7115400075952575,0.7666341003524564,0.7214276504616245,0.7429127005857333,0.5644250381944682,0.9999999999999999,0.928451258538967,0.917330887387441,0.9202420179547853,0.9309793833030879,0.9298547355079337,0.9216164022798373,0.9234526437345312,0.9054122803967061,0.9142392264715183,0.9199857373693184,0.9029266517697893,0.9002484044494261,0.8852044976411974,0.9056918878322887,0.8248112263949621,0.8376855839054808,0.8120954849608382,0.6232680487577453,0.6766578541901411,0.6886121796333816,0.7839695162285781,0.7849476783615325,0.8546023012685068,0.7747463646093764,0.7670896544808852,0.7871828448603655,0.7223344090859847,0.7335135695807651,0.5678197810120605],[0.7848143735472601,0.790332931490155,0.8723598943623122,0.910848149586259,0.8520483999048933,0.9296170805966134,0.8287530128331088,0.8748694073708078,0.852782097525508,0.9003810193052599,0.861235058683315,0.8967347975301236,0.8686054764473448,0.8894264614434874,0.6201452494036193,0.5939273300936665,0.7948292820065236,0.8001439098350216,0.7748787352887652,0.7608127973404443,0.8106313814612494,0.8721464549513052,0.8155300400156711,0.8349065509533816,0.8649498218230214,0.8691034332037265,0.8767240163944402,0.8398915479195246,0.8450029431559716,0.870489887194122,0.8657165219288381,0.8780114062309284,0.8594814937573596,0.8786346088749815,0.8950163647328702,0.8842395785708909,0.9045868082681682,0.8747606348570526,0.7261405299750603,0.7924982082264994,0.6982160840872257,0.719870317671075,0.5634614234171141,0.928451258538967,0.9999999999999997,0.9386677483224533,0.9427066591633154,0.9371559568243536,0.9444120784118893,0.948428455403098,0.9165334502606213,0.9496334220798607,0.91938195446101,0.9050945900367405,0.9250947757796002,0.9336707714255451,0.8944593710474685,0.8993509365930693,0.8346611446372114,0.8658608035780825,0.8381489200957352,0.6315691063362623,0.6838329417805011,0.6120264229094892,0.7656340945912513,0.7558119479395206,0.8110053131286981,0.7807761155489622,0.7575025439577252,0.7871290926942343,0.7197155916254712,0.7149019349493051,0.5352513634905517],[0.8085397723415285,0.7735692593233457,0.8708613331298111,0.8798113268237351,0.8393858114447336,0.8885585123505235,0.8318515961951909,0.8576424687531692,0.8526218318027573,0.8700443164413959,0.8623239990184874,0.8895048972778934,0.8608373505954006,0.8517611089737948,0.6301324296722788,0.5993828052696082,0.7913314548306042,0.7964310366612389,0.7601879083033454,0.7631416033971296,0.7848322795753764,0.834699102471963,0.8177850962363271,0.7878000599605165,0.8606010902312468,0.8283764954915083,0.856719111719677,0.8862916174690807,0.8436946912680033,0.8362431164696688,0.8809816718877908,0.8311872452404367,0.8904940331069364,0.8726947818860512,0.9077227677313462,0.8760227841690535,0.901057946798437,0.8551735501880822,0.7220381092151231,0.7872269974035442,0.7154142688965704,0.7056985120179359,0.5492671374075244,0.917330887387441,0.9386677483224533,0.9999999999999997,0.9383394007087301,0.9064830549098805,0.9213807199038245,0.9339669052136634,0.9110995877228596,0.886076782974782,0.9033331341244002,0.876497035126895,0.8998378887160141,0.9008672934316828,0.8745185328256581,0.8822029160544278,0.8209325773169117,0.801033392379837,0.8147183040603755,0.5990358512460624,0.6894021854176259,0.6414374127673281,0.7829331469744896,0.7670578897073682,0.815134807951167,0.7554327691982382,0.7551964981755673,0.7414685895574215,0.7126839680865529,0.694017176253943,0.5405151628248946],[0.7909642160589931,0.780978704874498,0.8728803160463534,0.8820170086357869,0.8635750040785917,0.8878700218171862,0.859352968185572,0.8614578515135564,0.8316034425747645,0.9014279433327292,0.8466272016791468,0.8614973113762733,0.8883576048433394,0.8677239667429003,0.6120017398779936,0.5928201672248071,0.765678000531646,0.8032967233462492,0.7526812056285397,0.7441906333430931,0.8121800397435843,0.857615069098211,0.8409411925242043,0.8266875757271883,0.886076086185894,0.8722368206381703,0.867997625151034,0.8599592063527933,0.8683577375342542,0.8337574430506369,0.8687730883848309,0.8519885852434312,0.8870580040837303,0.8682243104733672,0.889267072785596,0.9187631748423462,0.8943620300876434,0.8867637749553435,0.7185990982726616,0.7745366901128619,0.7423911140956614,0.7502826322044001,0.5609359631493018,0.9202420179547853,0.9427066591633154,0.9383394007087301,1.0000000000000002,0.9351497300466316,0.9501882840199605,0.9386194984169626,0.9320247979601487,0.9034668882156356,0.8976843970407237,0.8799609093677045,0.8885106490061977,0.9039197315666313,0.890348313928547,0.8954755360850152,0.9060760282262917,0.8745305541391093,0.8543838044838235,0.6907862595134988,0.6965717311245229,0.6342565761721275,0.7981635437319063,0.7868535257831792,0.833004675659849,0.8387694814870268,0.7523366096584287,0.7813108745973291,0.7205876110529826,0.7212918134427063,0.5553871843296327],[0.7843772595838825,0.7963188923060429,0.876688313257658,0.9238236937723119,0.8750730591391102,0.8826529691167277,0.8627015188590533,0.8854758519067223,0.8535111836793048,0.8965461874567215,0.8623473798014285,0.8795517724365568,0.911585187680696,0.8794766242326635,0.6817805839154768,0.6550196280850857,0.7651836284082799,0.7690347758660506,0.7472500094817741,0.7515802638536658,0.7900329513132697,0.8778550812009026,0.8414165180335696,0.8412862708552311,0.8858426881829089,0.8948613599646923,0.8651670662075845,0.8601514163476907,0.8934934508555555,0.8120897840965159,0.8275588328426511,0.8697781357804594,0.884700725024157,0.8773776630553358,0.8965761617049393,0.9277123965361433,0.9075609764832248,0.8763907493306756,0.7010367176452578,0.7641105303796836,0.7181797037683096,0.7328203458159547,0.5927965064815518,0.9309793833030879,0.9371559568243536,0.9064830549098805,0.9351497300466316,1.0000000000000002,0.9583426174598468,0.9511740393739281,0.9314865851185516,0.9133683752973846,0.9011285663351969,0.9044933987012274,0.8874326940167272,0.9251349915011636,0.8774033648273485,0.8980106868920325,0.8165671575298874,0.8461778443199417,0.8371131949799173,0.6318271095170761,0.7272988070370607,0.6032750724302876,0.789566980976275,0.7800198896082399,0.8263134575754777,0.7811147334791331,0.7882384570866735,0.7957002372745495,0.6927717881679598,0.6988142289352561,0.5146679405229337],[0.8073725751242408,0.7712890184284409,0.8846913972107351,0.8961423450838495,0.8947811513638407,0.8960369669390674,0.897500597467144,0.8657476665618539,0.8592009443922839,0.9027456668810254,0.8622653341944908,0.8717524859374289,0.9086502654546781,0.8910678748410619,0.6537143203945892,0.6185448632895635,0.7773509115001528,0.7834017939279354,0.7716306420870064,0.7374118291292626,0.8107312134551832,0.8598134100026614,0.8321193935195739,0.819664356838218,0.8870886612306016,0.8736167287896796,0.8609335066791585,0.8764098572588824,0.885470025655846,0.8185521441849702,0.8477880385662724,0.8608065312338001,0.9002744181043187,0.8886575192387834,0.9162163513580649,0.9237289300381794,0.901616114336577,0.8788580217194083,0.712859637921886,0.7497728846612537,0.7248028223528854,0.7422640109078305,0.6102842454812206,0.9298547355079337,0.9444120784118893,0.9213807199038245,0.9501882840199605,0.9583426174598468,0.9999999999999996,0.9404604145309763,0.9228353560380952,0.9076172886933093,0.9016404319992677,0.9021150736503697,0.8945197914298602,0.9131871821628028,0.8795607746198418,0.900582600840873,0.8472099569307785,0.8549423991569095,0.8401017374696268,0.636885979836022,0.7477361117142189,0.6163891361209526,0.7932975410982757,0.7766001230399624,0.8300694562816147,0.7913123412728801,0.7890214492189639,0.8093053061781365,0.7234033106369996,0.7108140493873273,0.514026141840642],[0.7864670360199789,0.7894066024752926,0.8606814311438298,0.9296079969456262,0.8272543773332044,0.897717361614323,0.8140043165903447,0.8754184150465935,0.8381075691310116,0.8735570882485243,0.8399338929135161,0.8961104295289151,0.8695891695859216,0.8580013373076395,0.624214174377213,0.5921816571381028,0.758480316829556,0.7670761376085204,0.7473899498349061,0.7678562707765745,0.7765038188516792,0.8749541714340756,0.8476262627194285,0.8353850936271351,0.8770581588682643,0.885247015192358,0.8735450291561837,0.8538904755302684,0.862158940093482,0.8343925992098968,0.8392134977214644,0.8464061259135511,0.8757789811228894,0.8591739541414702,0.8728716789316824,0.8895275046484893,0.8937103620430933,0.8871282011261156,0.6721004692319982,0.7559655684432228,0.7239787876503819,0.7248337496345977,0.576720807468805,0.9216164022798373,0.948428455403098,0.9339669052136634,0.9386194984169626,0.9511740393739281,0.9404604145309763,1.0000000000000007,0.9095284391102032,0.90733750916468,0.8878274838869147,0.8734820670173891,0.8733841294122845,0.9269449986002701,0.8639829406376663,0.8780206864468773,0.8130954221462307,0.8214328538554471,0.8483532530930129,0.617272954087479,0.6848368447290387,0.6117830323542824,0.7806383892848946,0.7911739225747081,0.8024271027080242,0.7766733041880179,0.7613007046013924,0.7618858777910544,0.6988441148808908,0.7000503523786747,0.5079518959370249],[0.7683145840630617,0.7810292638882721,0.8576423940832183,0.8675432878303325,0.9153446826096144,0.8681967376744611,0.8846627884469307,0.8677396349341314,0.8314992949306298,0.9047402569497476,0.86073595849448,0.8614653695476628,0.9051488189917626,0.8739923366932308,0.6281797112842225,0.6479708122255231,0.7657756198089761,0.7520046991826838,0.7304642261990766,0.7329060958693009,0.7856442794106693,0.8548470999485881,0.8442350516385676,0.8392164826092372,0.8757958617666954,0.8724947435559709,0.8132564283718143,0.883885373829492,0.8874361982265954,0.817414920807753,0.845870958625242,0.8964725243534882,0.8673706574527529,0.8560248760349339,0.8779589284134248,0.8965339260871864,0.8943264879490989,0.8647990515084221,0.7707996702149549,0.8002747918149499,0.7252187779238057,0.7414317366987663,0.5674205831344413,0.9234526437345312,0.9165334502606213,0.9110995877228596,0.9320247979601487,0.9314865851185516,0.9228353560380952,0.9095284391102032,1.0000000000000007,0.9009102110059902,0.8988867577858273,0.8904907246676056,0.8896559268455604,0.8904504240724368,0.8852712920735593,0.8962403798719599,0.8216798731484707,0.837401241379281,0.7986726258860084,0.6195981565081639,0.7275911157937571,0.6247472938249157,0.7716522241225015,0.7994285562275081,0.8288382202190332,0.7788808803400381,0.7810148990143541,0.7921453394255721,0.7251630993791875,0.7380461523447173,0.5608556116080875],[0.7404999406407996,0.7524292806587665,0.8634033293105309,0.891947519935137,0.8488333980033171,0.8909955602041861,0.8181783127745017,0.8964606493764172,0.837928200185714,0.8985567170890296,0.8599916972148344,0.8904818078924385,0.8589041749542844,0.8998090180938859,0.6137314844155779,0.5780129957134893,0.7971597928314781,0.8175906225113966,0.7753641006906182,0.7692981906877193,0.843332977322803,0.8760680672010053,0.8307441517660693,0.8449985594409167,0.8717526100419936,0.8843371287223382,0.8307715478693466,0.821996048278351,0.8354281909810947,0.8319110417689025,0.8386262988083021,0.8906827253595657,0.8325224926386777,0.8468127337475542,0.8566996551091344,0.8488394035721343,0.88906073164961,0.855414897176875,0.719371060705184,0.7701502656401275,0.6592646239600203,0.6775511868418718,0.5488274279423485,0.9054122803967061,0.9496334220798607,0.886076782974782,0.9034668882156356,0.9133683752973846,0.9076172886933093,0.90733750916468,0.9009102110059902,0.9999999999999999,0.9215847222857801,0.9103479761553759,0.9127122363981055,0.9217098797020471,0.9002111708905585,0.9105202221460992,0.7891164256181454,0.8365747741858917,0.7928795470141091,0.6047079960661738,0.6768492155048268,0.5976794736555284,0.7253797898690333,0.760799772877801,0.7932607790857376,0.7363598235185821,0.765782383805032,0.7819022446469371,0.7536029452082094,0.7342438277503026,0.5355201264379488],[0.7123412451560032,0.7674677266927177,0.8475007166805016,0.8710457801602242,0.850333047651834,0.8676084596774359,0.8500907841055098,0.8797879242197341,0.829846711254094,0.8874117295221862,0.8568638804222848,0.8738884614094659,0.8672435869239832,0.8784457961898885,0.6209531369036336,0.580124158519361,0.7851971712788317,0.781920273578608,0.761326703900475,0.7326849154452235,0.8120133163174462,0.8203556599012093,0.7845982937282265,0.7811912941846522,0.84790313052042,0.8434615795063897,0.8194197989454435,0.8401378204393523,0.858173337774086,0.811655026456134,0.8774464841474624,0.8878481950879152,0.8608008310592576,0.8360863099671537,0.8740424202796822,0.8390879508718361,0.8949678127285525,0.8398219449586195,0.7394348616511828,0.7980537906871357,0.6434939311115776,0.6475404450718742,0.5336796226556025,0.9142392264715183,0.91938195446101,0.9033331341244002,0.8976843970407237,0.9011285663351969,0.9016404319992677,0.8878274838869147,0.8988867577858273,0.9215847222857801,1.0000000000000009,0.9056756144011376,0.9238735336107717,0.9029178895394188,0.8952519723002819,0.9255095867332663,0.7796173722087489,0.8041733565928761,0.7589976185574224,0.5771688025992527,0.7045074659675427,0.6396557292759758,0.7365806134413501,0.71537803578005,0.7890491854189594,0.7062349120450606,0.7582368712457517,0.7541049722200119,0.7463857103629037,0.7343508854162356,0.5657482060572578],[0.750116881570018,0.7709537455195097,0.8504759953543871,0.8518723007548745,0.8717786382630822,0.8558118329446723,0.8536958601983605,0.8658594934166963,0.8454334800669383,0.9009812458783142,0.8586139784912329,0.8565205651655119,0.8721406771398521,0.8773092291722937,0.6311750431715546,0.5838164230789568,0.7727837006138503,0.7599137054679856,0.7652426102935912,0.746246638054017,0.8014401500467485,0.836308584422442,0.8031352045621322,0.8219495624052879,0.8590417305841737,0.842859662932616,0.8019281562877039,0.8328064835399819,0.8412266246518748,0.7852857094683448,0.8252263754494217,0.8679000054510064,0.8470964092745921,0.854790425436748,0.8650472591388487,0.8689507438819953,0.9079862640762124,0.8351783780679773,0.7093390440494493,0.7473656023687738,0.6881665920019278,0.7144341179666631,0.5808754400319917,0.9199857373693184,0.9050945900367405,0.876497035126895,0.8799609093677045,0.9044933987012274,0.9021150736503697,0.8734820670173891,0.8904907246676056,0.9103479761553759,0.9056756144011376,1.0000000000000004,0.8928895268327556,0.8972284382730186,0.8923805073203084,0.9233452286878139,0.7975789760936958,0.848378643936982,0.7890646218863505,0.6410094608570712,0.7040468556810777,0.5843803686972061,0.7546138395436092,0.7634511971444791,0.8132796598024679,0.7578269794174324,0.7684115151007755,0.7815932041565529,0.708885862384582,0.7377735861381085,0.5930202526069535],[0.7661641214699199,0.7592072345528068,0.8501515571653149,0.8402913307225702,0.8572905886130625,0.8565869815349998,0.8354449527901022,0.8703684901062879,0.8488708513747061,0.8754542753091463,0.8448430148590718,0.8614651575282483,0.8562635162208825,0.8707042144256654,0.6303377330643889,0.5838956185879425,0.818020406090579,0.8026763283192349,0.7494923822615561,0.7242797160781949,0.8201931990654949,0.8353400959394781,0.7676197556728179,0.7946860510676015,0.8633757530388305,0.8362430486348815,0.824428127950786,0.8254213930383079,0.8276651840694188,0.8124698444134882,0.8731901617639434,0.8631082439424096,0.8357527201780387,0.8398500045258903,0.896237219537801,0.8511806668376544,0.8824359155910685,0.8344733252124288,0.743423353269973,0.8070929588132123,0.6462628823933774,0.6689350806255683,0.55118593760006,0.9029266517697893,0.9250947757796002,0.8998378887160141,0.8885106490061977,0.8874326940167272,0.8945197914298602,0.8733841294122845,0.8896559268455604,0.9127122363981055,0.9238735336107717,0.8928895268327556,0.9999999999999986,0.8725317738093256,0.9000064199704625,0.8900757188225553,0.783139972394566,0.7975996235200642,0.7729942138517584,0.5539838805439596,0.6553414780767731,0.6045565855496194,0.7191553127152192,0.7116207035708745,0.7915368675304856,0.7080207147488076,0.731684754359892,0.7355456129334287,0.6894763143000071,0.7059710256168867,0.546745256295729],[0.7055681927592115,0.7604727401421859,0.857737503101965,0.9250669774975623,0.8247568227786912,0.9059640172159859,0.810943724625804,0.859271949530684,0.8166686037101343,0.8806294102870628,0.8479930567329096,0.8613663779039459,0.8482486172642372,0.866118175195663,0.6158511526417607,0.5640390381182308,0.7326387335741612,0.7507015653699447,0.7462563725222585,0.7598596464745041,0.7745763848607775,0.8459505426823198,0.8085420825771955,0.8084284546926819,0.8450033387657964,0.8504431722511965,0.8341617939330201,0.8266918236327806,0.8184866652780255,0.801259553198289,0.8181330497303201,0.8515060359461205,0.8334388192733808,0.84306063199662,0.8547672315907986,0.8549280163188685,0.8764041150154126,0.832960431671474,0.7168142173383003,0.7788547708868767,0.6763819070131246,0.6888148612688508,0.5623100609412592,0.9002484044494261,0.9336707714255451,0.9008672934316828,0.9039197315666313,0.9251349915011636,0.9131871821628028,0.9269449986002701,0.8904504240724368,0.9217098797020471,0.9029178895394188,0.8972284382730186,0.8725317738093256,1.0000000000000002,0.8837273728299058,0.8959506368790258,0.7891314876247013,0.8308486820879027,0.81382256614306,0.6307240561389356,0.7061670212906308,0.5683638879557502,0.7454321053682145,0.7435324581497968,0.7848305962642923,0.7473662094647132,0.7504756929621693,0.761389665743153,0.701912638363904,0.7438089145532754,0.5646662446641951],[0.7283080152047485,0.8020586917865995,0.8548115540712906,0.8378611655011721,0.8499150645883985,0.857399048666244,0.8448210708674168,0.8499001500086278,0.8272626191715922,0.899778012967823,0.8200419972328079,0.8382167276763273,0.8668736871827337,0.8658397028104846,0.6219191170385776,0.5830667316248266,0.7677335244484847,0.7765044252864928,0.7560038125916917,0.7338581606763449,0.798807599350351,0.8140997136741196,0.8044820116555457,0.7915005039703006,0.8461141472497872,0.829960960461591,0.8072867413004752,0.8146580898189287,0.8188215837086494,0.7808480598956492,0.8270958815833939,0.8531146471008884,0.823691184119381,0.8252003019890081,0.859652919334517,0.8558344131224638,0.8643888007637889,0.8358473698721699,0.7473617459202831,0.7695241125735804,0.7041588891100248,0.7089425405532565,0.575158367228698,0.8852044976411974,0.8944593710474685,0.8745185328256581,0.890348313928547,0.8774033648273485,0.8795607746198418,0.8639829406376663,0.8852712920735593,0.9002111708905585,0.8952519723002819,0.8923805073203084,0.9000064199704625,0.8837273728299058,1.0000000000000004,0.881957906938291,0.7996932993747412,0.8322273054585677,0.7955358280882285,0.6258468684259547,0.6889871139170075,0.603421170529093,0.7556869815015143,0.7670487120323399,0.7980431193967452,0.761527532862675,0.7193174507004563,0.7510709025731789,0.7181113734536135,0.8066339141207374,0.746192157961019],[0.7155952962121218,0.7515373870577363,0.8404303068989023,0.8450912009584864,0.8690587135944108,0.8565112531709853,0.8402557921836826,0.8761925317403092,0.8303771552825168,0.9046499091641426,0.8363033016243062,0.8758691959072941,0.8741548249103791,0.8765988033382447,0.602283740599094,0.5660953212176799,0.7668268076235825,0.7704234775568809,0.7764329439848592,0.7268246598190499,0.8192281067596803,0.8237205217023964,0.802919957564113,0.786284832563138,0.8514956181844585,0.8389561496097498,0.7934659435316151,0.8500948951226088,0.8563851600425993,0.8011801271192459,0.8678310059408926,0.8872264369411106,0.836379501324885,0.8425367313037713,0.8500155405840458,0.8412505838723117,0.8801180350128571,0.8299673480056181,0.7254268587443103,0.7668108060282968,0.637209584654841,0.6477009577501072,0.5309673875625801,0.9056918878322887,0.8993509365930693,0.8822029160544278,0.8954755360850152,0.8980106868920325,0.900582600840873,0.8780206864468773,0.8962403798719599,0.9105202221460992,0.9255095867332663,0.9233452286878139,0.8900757188225553,0.8959506368790258,0.881957906938291,1.000000000000001,0.7865978708217891,0.8036956971249042,0.7479117335879304,0.5887101419085649,0.6911607053943415,0.6326616144159825,0.7082588136251944,0.728138273525653,0.7913356460162608,0.7101527608776722,0.7305944744134153,0.756895198047546,0.7548066752533539,0.7563835547648242,0.5746074024210107],[0.7498855696243988,0.7854408351531411,0.7685386142233384,0.7798381949062734,0.7859269781648155,0.7720071601441724,0.7953040396025092,0.7642590496781969,0.7418995271494732,0.8529213479636116,0.8050716353526002,0.7859714828264609,0.8194955772782004,0.7624154684515753,0.5143659440791728,0.5058147692287253,0.696757737136197,0.7144763358721004,0.6958422476871766,0.6470462541015698,0.7440651719427016,0.7487210813446743,0.7351538438161154,0.7680034147134757,0.795536901869991,0.7570094221476408,0.7528550818909634,0.7596625458734224,0.8053092020814329,0.7161611846622401,0.8337227827952473,0.7391940348986792,0.8192108713530346,0.8115620860077374,0.8166287722021405,0.8727536286121719,0.8272486579010702,0.8548685925798825,0.6622693838530148,0.7128168537182319,0.7857649744210206,0.806663291720574,0.4776782082651453,0.8248112263949621,0.8346611446372114,0.8209325773169117,0.9060760282262917,0.8165671575298874,0.8472099569307785,0.8130954221462307,0.8216798731484707,0.7891164256181454,0.7796173722087489,0.7975789760936958,0.783139972394566,0.7891314876247013,0.7996932993747412,0.7865978708217891,1.0000000000000007,0.9071665115846836,0.8819531091391934,0.7666615780480959,0.5973331634296828,0.5460739659095423,0.8506278688858078,0.746088710918946,0.808093895351103,0.9071452264035614,0.6186839327703517,0.6401386053379428,0.6148633647612477,0.6094389016933004,0.5003522420017427],[0.7485570158821163,0.8250267979415831,0.7843594451197139,0.8091198802773183,0.8063170347197565,0.8148895252372154,0.791447857508321,0.8049026127368689,0.7705040641782774,0.9013949838323517,0.8315775263412377,0.7852230530553789,0.8386104259237861,0.8322603733611104,0.573477401936252,0.5363515351125967,0.7180551979200216,0.6990900983621535,0.6910344050927647,0.6941138301563213,0.7435543961362306,0.7843117126783418,0.7775969742629176,0.8234237152634964,0.7917021174362538,0.786623790226562,0.7866259874026482,0.7390230267298148,0.812298955138916,0.7382216086545419,0.7416328782164447,0.7721340415516688,0.8334389701255894,0.8289627277950787,0.8449306070399571,0.8865787962227459,0.8652769792368386,0.8809221456603948,0.6702948425386721,0.7018503829060811,0.8224253286619253,0.8532856358678074,0.5031913791079269,0.8376855839054808,0.8658608035780825,0.801033392379837,0.8745305541391093,0.8461778443199417,0.8549423991569095,0.8214328538554471,0.837401241379281,0.8365747741858917,0.8041733565928761,0.848378643936982,0.7975996235200642,0.8308486820879027,0.8322273054585677,0.8036956971249042,0.9071665115846836,1.0000000000000009,0.9005588078668182,0.8204791456988901,0.6217008792060824,0.536289132778891,0.894119279851569,0.7930841374240787,0.8333241666482529,0.9191986110280245,0.6843439523789668,0.700289419403423,0.646617068836737,0.6494617233483095,0.4998029790889649],[0.7502499054513558,0.82046659265962,0.768642763069964,0.8305238251893697,0.7460716916483957,0.7897653179763151,0.7228522689384678,0.7777278865490455,0.744917895116492,0.826054968593478,0.8048832417024836,0.7786009760281869,0.7860465989514797,0.7757404052820567,0.5436747303721224,0.5198478235937267,0.7051407640256252,0.6901464538061117,0.6855794478739083,0.6820343341713702,0.6971606178632508,0.8135456679545948,0.7590234010422453,0.8391601234000549,0.816868534053555,0.8183029364961654,0.7982485863459222,0.7496783199164009,0.7815217276643318,0.7189812889290951,0.723536784569198,0.7336769385901838,0.8039676637655091,0.8027295724139691,0.8041206941566733,0.880253833142756,0.8240650612372732,0.8581130499575111,0.5973808586776816,0.6676553902123518,0.8381264180804742,0.8447706689018286,0.5072698589618867,0.8120954849608382,0.8381489200957352,0.8147183040603755,0.8543838044838235,0.8371131949799173,0.8401017374696268,0.8483532530930129,0.7986726258860084,0.7928795470141091,0.7589976185574224,0.7890646218863505,0.7729942138517584,0.81382256614306,0.7955358280882285,0.7479117335879304,0.8819531091391934,0.9005588078668182,0.9999999999999993,0.7792344367562395,0.5686685541295131,0.5013603033281684,0.8767814817156148,0.7977266274417288,0.8082054542696195,0.8913302846964043,0.6655096123364775,0.6270953534673546,0.5924044475199959,0.6223578326684993,0.48863524811941234],[0.591782257802746,0.6776619829004731,0.5967263665536177,0.6392324300902471,0.6007714327810545,0.6055867339010773,0.5689786434974984,0.6119284168036441,0.5744032160821857,0.6720622242937127,0.6394894597439366,0.5765207041223396,0.6460930149117059,0.6171010641859738,0.4012685950187891,0.3743026913178755,0.5045014368363391,0.469159816523802,0.5064176338880546,0.4799693972706208,0.5137757944146005,0.6426381354805617,0.6327620998322557,0.6888645595550366,0.641383723660896,0.6383265743336027,0.625567471430425,0.560361587834041,0.6043216981155278,0.5376695592979431,0.5155635269777131,0.5455134994857923,0.6420921927001461,0.6339814520017689,0.6264591142913691,0.7059219753414993,0.6635372103853082,0.6915982098451791,0.44618121318545584,0.4820474278262491,0.6899141823325476,0.7161389240278061,0.43641232955726555,0.6232680487577453,0.6315691063362623,0.5990358512460624,0.6907862595134988,0.6318271095170761,0.636885979836022,0.617272954087479,0.6195981565081639,0.6047079960661738,0.5771688025992527,0.6410094608570712,0.5539838805439596,0.6307240561389356,0.6258468684259547,0.5887101419085649,0.7666615780480959,0.8204791456988901,0.7792344367562395,1.0,0.4241593785468756,0.40905970951298704,0.748262574757174,0.6662310419505288,0.6375312545943908,0.7984486209705421,0.5138198763193425,0.4711597851025368,0.4623557711511536,0.5018655274406131,0.3955251483933985],[0.5391761338261073,0.5761088284385156,0.6745893651157816,0.6435422968756903,0.7166397549422512,0.6500858127740794,0.7461001074334318,0.6559963777900646,0.6698732810665428,0.702966241103973,0.6338450282061073,0.6236400161134752,0.7331616060830761,0.6889664764581306,0.5686198506853476,0.5405594336398231,0.5525972065117507,0.5857382142519161,0.5430790506983172,0.559052920161073,0.592534581711808,0.6304309456373821,0.63103077195694,0.5899300330967469,0.670887754663458,0.6630399161019053,0.6057138455493771,0.6317319834353401,0.6874060842244424,0.5783615489609825,0.6171827498145188,0.7200113944832868,0.6644610245279405,0.659753678348422,0.6826234143372725,0.6846722476573633,0.6828986919800988,0.633805230113963,0.6811454103311689,0.6186056343514609,0.51004517607485,0.5024007543398963,0.6028710703735533,0.6766578541901411,0.6838329417805011,0.6894021854176259,0.6965717311245229,0.7272988070370607,0.7477361117142189,0.6848368447290387,0.7275911157937571,0.6768492155048268,0.7045074659675427,0.7040468556810777,0.6553414780767731,0.7061670212906308,0.6889871139170075,0.6911607053943415,0.5973331634296828,0.6217008792060824,0.5686685541295131,0.4241593785468756,1.0000000000000004,0.5128059239516993,0.5644461983468781,0.5593457814410622,0.5927784601060453,0.5486722751556136,0.6228050853377456,0.7730056229038283,0.6499976623017013,0.5674094388984982,0.4032430290147947],[0.516777544263073,0.51702672128477,0.53168734748931,0.5644796286670999,0.610891663358524,0.5560983670146868,0.6324664351422423,0.5942439015707109,0.5610428478803252,0.6131824330470952,0.6084103423059606,0.6156710552610228,0.6215981484817386,0.6746550072791764,0.4673312144950921,0.47718089613957826,0.5041981976699068,0.5807883344155161,0.5010287503853295,0.5248816241339855,0.6034099494200128,0.5546641552837971,0.5314740707662835,0.5455208871365962,0.5737274655548724,0.5601172915555755,0.5201312587272529,0.5825973009970147,0.5804319994149778,0.5533906043440723,0.599979296914129,0.5776580962997342,0.6122597340528004,0.5869113079200161,0.6131232726589819,0.5719820144998448,0.6368356981614952,0.5895686674520169,0.5259563960524507,0.516228611510413,0.5257049979946187,0.5011507465043173,0.3501721431691124,0.6886121796333816,0.6120264229094892,0.6414374127673281,0.6342565761721275,0.6032750724302876,0.6163891361209526,0.6117830323542824,0.6247472938249157,0.5976794736555284,0.6396557292759758,0.5843803686972061,0.6045565855496194,0.5683638879557502,0.603421170529093,0.6326616144159825,0.5460739659095423,0.536289132778891,0.5013603033281684,0.40905970951298704,0.5128059239516993,0.9999999999999998,0.5349654217413924,0.5365519317576449,0.6303270105614681,0.5257038967203952,0.5331422454340363,0.4917171932821186,0.6124607594710226,0.5514562876768825,0.39325345346389107],[0.78966558851621,0.8270465826476453,0.7471387605168865,0.763727085127949,0.7473068115150512,0.7443448486893556,0.7648165360625648,0.7729964540621377,0.7423303276989751,0.8223196064880987,0.8299487141028924,0.7640735383951547,0.8036079610056089,0.7650356454030525,0.5562422409259608,0.53392386127892,0.6648368883732909,0.6617819369874918,0.6122243417400017,0.673479719901488,0.7124303894483347,0.7118803623368989,0.7496552164233157,0.7607907752292719,0.7338143475905938,0.7210622807324626,0.7591378828909896,0.7087703793360615,0.7891134134445351,0.6830067491336218,0.6890917313769832,0.6580310505013478,0.8826423913167724,0.8215487845961805,0.858594643249927,0.8542231479231004,0.8642472622178058,0.856613410955271,0.5846941310453394,0.6343039801461902,0.9267067994422312,0.9235960978140275,0.5097149869448209,0.7839695162285781,0.7656340945912513,0.7829331469744896,0.7981635437319063,0.789566980976275,0.7932975410982757,0.7806383892848946,0.7716522241225015,0.7253797898690333,0.7365806134413501,0.7546138395436092,0.7191553127152192,0.7454321053682145,0.7556869815015143,0.7082588136251944,0.8506278688858078,0.894119279851569,0.8767814817156148,0.748262574757174,0.5644461983468781,0.5349654217413924,0.9999999999999994,0.853707905064234,0.8711738165655873,0.9189603084162011,0.6256994181611988,0.5657089100638216,0.5650338040131259,0.5714621557792569,0.4308137703461781],[0.7593701490409778,0.7284434992426319,0.7254871253602757,0.7346844720553897,0.7463634855755336,0.729203330013513,0.7244678879640688,0.7842677050563541,0.7352606367283528,0.7885883718197229,0.7744759240637005,0.7417609611773937,0.7793524831312605,0.7822275911612553,0.5831024017689944,0.5899949704240545,0.6676683356089478,0.6596164018896961,0.6379063313431185,0.6873738355407498,0.6765801066411181,0.7766718318135268,0.9061012934909034,0.8474790617289565,0.7887856508948795,0.7816485464201226,0.7557229692453837,0.7291340890103092,0.7504989001002541,0.6918157965530842,0.6663925582960741,0.6840163910890779,0.7945394177251596,0.7668107223874532,0.7712392209571675,0.811700198365667,0.8128843519548339,0.8305944588952803,0.5771431838234311,0.6091669650515392,0.9101003255588022,0.8998285929505038,0.5613022091130255,0.7849476783615325,0.7558119479395206,0.7670578897073682,0.7868535257831792,0.7800198896082399,0.7766001230399624,0.7911739225747081,0.7994285562275081,0.760799772877801,0.71537803578005,0.7634511971444791,0.7116207035708745,0.7435324581497968,0.7670487120323399,0.728138273525653,0.746088710918946,0.7930841374240787,0.7977266274417288,0.6662310419505288,0.5593457814410622,0.5365519317576449,0.853707905064234,1.0000000000000002,0.8799864313911808,0.8636321204426787,0.6902013029330171,0.6136280442492951,0.6005925511770888,0.6462949579682523,0.47287952485623364],[0.7832072655092224,0.7423288762474595,0.7718304717551627,0.7673647341832256,0.8135763278048154,0.770799311353891,0.8192586764645969,0.8085218967014648,0.7892452137480751,0.8518748235775159,0.8352670493091341,0.7893899438502842,0.8392889052730212,0.8517595812379529,0.6104227480503619,0.6048654616716993,0.7121917321036283,0.7322148405591992,0.6705036917815548,0.7341909035748729,0.7567448673772664,0.7444376360090187,0.7627228074177859,0.7906728651164241,0.7703095644037661,0.745371873301293,0.7534430481660067,0.7417937013014922,0.7711506172937687,0.7216590068495834,0.7614953133843222,0.7312451707721758,0.8409594468254982,0.834658605798286,0.8574724309548958,0.8383603410882986,0.8437998699901411,0.8535628054114279,0.6636576452121862,0.7124787631221374,0.8949110054407697,0.9072703908256666,0.5455123054456975,0.8546023012685068,0.8110053131286981,0.815134807951167,0.833004675659849,0.8263134575754777,0.8300694562816147,0.8024271027080242,0.8288382202190332,0.7932607790857376,0.7890491854189594,0.8132796598024679,0.7915368675304856,0.7848305962642923,0.7980431193967452,0.7913356460162608,0.808093895351103,0.8333241666482529,0.8082054542696195,0.6375312545943908,0.5927784601060453,0.6303270105614681,0.8711738165655873,0.8799864313911808,1.0000000000000009,0.8708525858066787,0.6826071149410073,0.6547697178139235,0.6433738515324282,0.6598815524314731,0.4888144517472029],[0.744351471398235,0.7815037197138437,0.7125168798982825,0.7533337885156636,0.750592587957992,0.7294810298219269,0.7299893210906939,0.7281303462581734,0.6981987856345534,0.8150925672622005,0.7758079734603317,0.7345125679158896,0.7775979352147959,0.7510035879077248,0.5086094036025809,0.5147324462691664,0.6504583993123947,0.6582300508676482,0.6315702179613034,0.6624740989812293,0.6766937874639315,0.7197908913455334,0.7391342317188713,0.8138821340229975,0.7506586253774452,0.7339485153209632,0.7344648858608878,0.6918021233137482,0.7542200156561804,0.6666440442842634,0.6817125777017788,0.6698838114505007,0.786806701617647,0.7624890352715992,0.7709730372423552,0.8483676166087505,0.7993194537552892,0.8492736897648248,0.579675030614913,0.6329974272593778,0.9361102169746761,0.9462661369510237,0.46444479613979983,0.7747463646093764,0.7807761155489622,0.7554327691982382,0.8387694814870268,0.7811147334791331,0.7913123412728801,0.7766733041880179,0.7788808803400381,0.7363598235185821,0.7062349120450606,0.7578269794174324,0.7080207147488076,0.7473662094647132,0.761527532862675,0.7101527608776722,0.9071452264035614,0.9191986110280245,0.8913302846964043,0.7984486209705421,0.5486722751556136,0.5257038967203952,0.9189603084162011,0.8636321204426787,0.8708525858066787,1.0,0.6082714209428646,0.5864332710250814,0.5489370401191069,0.5862936873647022,0.46492491996374724],[0.6496688701459902,0.603432191077115,0.73202436022533,0.7071737736104668,0.7292194748524145,0.7401621395949544,0.7176005117868339,0.6881636993922703,0.7543317470050934,0.7153770964724104,0.7144593293033766,0.7312000615316788,0.7179834307184956,0.7443212049745709,0.7697885195370935,0.7026066778482547,0.6721871125316059,0.632551487450377,0.6897004621837027,0.601684429392393,0.665235940982456,0.7074537641753252,0.7328847454229674,0.6856285836332594,0.6988367239767634,0.7507564294499147,0.7475949575571542,0.7451119553757899,0.7220215552713787,0.6908155741807243,0.6862771800482917,0.747198422295938,0.716653957835304,0.7205780948319975,0.7410647599870217,0.7699163729253773,0.7385884054751112,0.7244497255317037,0.5886292525325979,0.6111486375311005,0.5979987225690195,0.5978918250940647,0.45939678627632236,0.7670896544808852,0.7575025439577252,0.7551964981755673,0.7523366096584287,0.7882384570866735,0.7890214492189639,0.7613007046013924,0.7810148990143541,0.765782383805032,0.7582368712457517,0.7684115151007755,0.731684754359892,0.7504756929621693,0.7193174507004563,0.7305944744134153,0.6186839327703517,0.6843439523789668,0.6655096123364775,0.5138198763193425,0.6228050853377456,0.5331422454340363,0.6256994181611988,0.6902013029330171,0.6826071149410073,0.6082714209428646,1.0,0.6955148307280093,0.6189969876121835,0.6109175600447435,0.461111836073224],[0.6204151711247298,0.5863484642833008,0.7268125598540915,0.7342609437102736,0.7598241900287322,0.7464626090849438,0.7557106953754947,0.7452300682405252,0.7264009606413178,0.7357697633893043,0.6789027924750922,0.6902916126822296,0.7410110069204694,0.7783692970896657,0.6111986377234006,0.5625491724925873,0.6409232911216667,0.6379824340377441,0.6631432623584134,0.6079551145246179,0.6405064275545614,0.7264109216275167,0.6998958700655297,0.6771443652737941,0.736252756849222,0.7332290208000499,0.6757618345210921,0.7034682217969201,0.7216908328907593,0.7057793568293611,0.6951357537082463,0.75056377394749,0.7194146761790032,0.7079644536478108,0.7359357688505157,0.7580213883727579,0.732646805088488,0.6983924613573773,0.6394565034169811,0.6222918263030783,0.5106578855110647,0.5412818098284691,0.5431861369228875,0.7871828448603655,0.7871290926942343,0.7414685895574215,0.7813108745973291,0.7957002372745495,0.8093053061781365,0.7618858777910544,0.7921453394255721,0.7819022446469371,0.7541049722200119,0.7815932041565529,0.7355456129334287,0.761389665743153,0.7510709025731789,0.756895198047546,0.6401386053379428,0.700289419403423,0.6270953534673546,0.4711597851025368,0.7730056229038283,0.4917171932821186,0.5657089100638216,0.6136280442492951,0.6547697178139235,0.5864332710250814,0.6955148307280093,0.9999999999999997,0.6829477705500477,0.6713184298905919,0.45182239234483673],[0.5642891443274555,0.5912934480012376,0.6960386037973139,0.6537447813773614,0.6962028897027908,0.6935146221060416,0.7206023813625394,0.6645619301707262,0.6746079366860197,0.7448705374793192,0.6541089603477417,0.6961332860464959,0.7040939908039224,0.7386629639525903,0.5296574201184506,0.46289254960384135,0.5717637518309606,0.6132666230716789,0.5896694432764993,0.5772047282381838,0.6345956757442598,0.6356569962289597,0.6512056701750311,0.6167278057331611,0.6634215943789208,0.6670515896968949,0.6113006971127426,0.6600365357481067,0.6715307185868109,0.6500254300236731,0.6751822219445074,0.7246391683588715,0.6663377732199653,0.6841827817401438,0.6669014330842553,0.6594340806923901,0.713371239237995,0.6919982040892392,0.681023349032153,0.6272744295606575,0.5320638136034582,0.5209874878696175,0.4085502348501019,0.7223344090859847,0.7197155916254712,0.7126839680865529,0.7205876110529826,0.6927717881679598,0.7234033106369996,0.6988441148808908,0.7251630993791875,0.7536029452082094,0.7463857103629037,0.708885862384582,0.6894763143000071,0.701912638363904,0.7181113734536135,0.7548066752533539,0.6148633647612477,0.646617068836737,0.5924044475199959,0.4623557711511536,0.6499976623017013,0.6124607594710226,0.5650338040131259,0.6005925511770888,0.6433738515324282,0.5489370401191069,0.6189969876121835,0.6829477705500477,1.0000000000000007,0.6873502849546059,0.43445796722052815],[0.5500854160735048,0.5817827609247614,0.684813739520234,0.6672648288163506,0.7239732214410495,0.7050821100395052,0.7026977859888563,0.7204518021421077,0.6921637106381467,0.7350771913627665,0.651090599781588,0.6791735606639852,0.7207885129487454,0.7579086927420381,0.5066680850314836,0.493272627300525,0.5768073966039491,0.6135173431653538,0.6456405322418924,0.5689092322425033,0.6348975615200353,0.6892394352685778,0.6770293770318754,0.6627045942170213,0.7200265086981195,0.699638364681911,0.6383446672271829,0.6476605026117566,0.6534093789175169,0.6749105437669864,0.6686807686611278,0.7071301225983194,0.6636778903914642,0.6759902188927045,0.6868587442375791,0.6874579581212366,0.6951184747800667,0.6520991314320098,0.6792654066449895,0.6672860599023155,0.5622424554762577,0.570605743028303,0.4803261064633075,0.7335135695807651,0.7149019349493051,0.694017176253943,0.7212918134427063,0.6988142289352561,0.7108140493873273,0.7000503523786747,0.7380461523447173,0.7342438277503026,0.7343508854162356,0.7377735861381085,0.7059710256168867,0.7438089145532754,0.8066339141207374,0.7563835547648242,0.6094389016933004,0.6494617233483095,0.6223578326684993,0.5018655274406131,0.5674094388984982,0.5514562876768825,0.5714621557792569,0.6462949579682523,0.6598815524314731,0.5862936873647022,0.6109175600447435,0.6713184298905919,0.6873502849546059,1.0000000000000004,0.7544364376885397],[0.4313410119138702,0.469180885917054,0.5558594344990416,0.4672818407499804,0.558759334916368,0.5530086150672906,0.5519050208863763,0.5158138885527621,0.5413151048749963,0.5652528039342138,0.5133657845233065,0.4993135505754974,0.565922961593496,0.5224611857714749,0.38209728574335533,0.392520352085188,0.48098587262149534,0.4746283349434596,0.5467414055801387,0.4367769871014947,0.5154808274778182,0.513999993878868,0.49384880339213966,0.47642530179152087,0.5559263216958356,0.5120874397142862,0.4793559139406769,0.5066616901926342,0.496649061118384,0.4774580546424315,0.5392671606920696,0.5506651543019552,0.4786371279171363,0.5091586782879891,0.5200958920040731,0.5331873732600867,0.516770437139485,0.4910159143049969,0.5437868662931882,0.5360323883435814,0.4287309461708336,0.42916469039530075,0.3684841756171007,0.5678197810120605,0.5352513634905517,0.5405151628248946,0.5553871843296327,0.5146679405229337,0.514026141840642,0.5079518959370249,0.5608556116080875,0.5355201264379488,0.5657482060572578,0.5930202526069535,0.546745256295729,0.5646662446641951,0.746192157961019,0.5746074024210107,0.5003522420017427,0.4998029790889649,0.48863524811941234,0.3955251483933985,0.4032430290147947,0.39325345346389107,0.4308137703461781,0.47287952485623364,0.4888144517472029,0.46492491996374724,0.461111836073224,0.45182239234483673,0.43445796722052815,0.7544364376885397,1.0000000000000002]],\"type\":\"heatmap\",\"xaxis\":\"x\",\"yaxis\":\"y\",\"hovertemplate\":\"x: %{x}<br>y: %{y}<br>Similarity Score: %{z}<extra></extra>\"}],                        {\"template\":{\"data\":{\"bar\":[{\"error_x\":{\"color\":\"#2a3f5f\"},\"error_y\":{\"color\":\"#2a3f5f\"},\"marker\":{\"line\":{\"color\":\"#E5ECF6\",\"width\":0.5},\"pattern\":{\"fillmode\":\"overlay\",\"size\":10,\"solidity\":0.2}},\"type\":\"bar\"}],\"barpolar\":[{\"marker\":{\"line\":{\"color\":\"#E5ECF6\",\"width\":0.5},\"pattern\":{\"fillmode\":\"overlay\",\"size\":10,\"solidity\":0.2}},\"type\":\"barpolar\"}],\"carpet\":[{\"aaxis\":{\"endlinecolor\":\"#2a3f5f\",\"gridcolor\":\"white\",\"linecolor\":\"white\",\"minorgridcolor\":\"white\",\"startlinecolor\":\"#2a3f5f\"},\"baxis\":{\"endlinecolor\":\"#2a3f5f\",\"gridcolor\":\"white\",\"linecolor\":\"white\",\"minorgridcolor\":\"white\",\"startlinecolor\":\"#2a3f5f\"},\"type\":\"carpet\"}],\"choropleth\":[{\"colorbar\":{\"outlinewidth\":0,\"ticks\":\"\"},\"type\":\"choropleth\"}],\"contour\":[{\"colorbar\":{\"outlinewidth\":0,\"ticks\":\"\"},\"colorscale\":[[0.0,\"#0d0887\"],[0.1111111111111111,\"#46039f\"],[0.2222222222222222,\"#7201a8\"],[0.3333333333333333,\"#9c179e\"],[0.4444444444444444,\"#bd3786\"],[0.5555555555555556,\"#d8576b\"],[0.6666666666666666,\"#ed7953\"],[0.7777777777777778,\"#fb9f3a\"],[0.8888888888888888,\"#fdca26\"],[1.0,\"#f0f921\"]],\"type\":\"contour\"}],\"contourcarpet\":[{\"colorbar\":{\"outlinewidth\":0,\"ticks\":\"\"},\"type\":\"contourcarpet\"}],\"heatmap\":[{\"colorbar\":{\"outlinewidth\":0,\"ticks\":\"\"},\"colorscale\":[[0.0,\"#0d0887\"],[0.1111111111111111,\"#46039f\"],[0.2222222222222222,\"#7201a8\"],[0.3333333333333333,\"#9c179e\"],[0.4444444444444444,\"#bd3786\"],[0.5555555555555556,\"#d8576b\"],[0.6666666666666666,\"#ed7953\"],[0.7777777777777778,\"#fb9f3a\"],[0.8888888888888888,\"#fdca26\"],[1.0,\"#f0f921\"]],\"type\":\"heatmap\"}],\"heatmapgl\":[{\"colorbar\":{\"outlinewidth\":0,\"ticks\":\"\"},\"colorscale\":[[0.0,\"#0d0887\"],[0.1111111111111111,\"#46039f\"],[0.2222222222222222,\"#7201a8\"],[0.3333333333333333,\"#9c179e\"],[0.4444444444444444,\"#bd3786\"],[0.5555555555555556,\"#d8576b\"],[0.6666666666666666,\"#ed7953\"],[0.7777777777777778,\"#fb9f3a\"],[0.8888888888888888,\"#fdca26\"],[1.0,\"#f0f921\"]],\"type\":\"heatmapgl\"}],\"histogram\":[{\"marker\":{\"pattern\":{\"fillmode\":\"overlay\",\"size\":10,\"solidity\":0.2}},\"type\":\"histogram\"}],\"histogram2d\":[{\"colorbar\":{\"outlinewidth\":0,\"ticks\":\"\"},\"colorscale\":[[0.0,\"#0d0887\"],[0.1111111111111111,\"#46039f\"],[0.2222222222222222,\"#7201a8\"],[0.3333333333333333,\"#9c179e\"],[0.4444444444444444,\"#bd3786\"],[0.5555555555555556,\"#d8576b\"],[0.6666666666666666,\"#ed7953\"],[0.7777777777777778,\"#fb9f3a\"],[0.8888888888888888,\"#fdca26\"],[1.0,\"#f0f921\"]],\"type\":\"histogram2d\"}],\"histogram2dcontour\":[{\"colorbar\":{\"outlinewidth\":0,\"ticks\":\"\"},\"colorscale\":[[0.0,\"#0d0887\"],[0.1111111111111111,\"#46039f\"],[0.2222222222222222,\"#7201a8\"],[0.3333333333333333,\"#9c179e\"],[0.4444444444444444,\"#bd3786\"],[0.5555555555555556,\"#d8576b\"],[0.6666666666666666,\"#ed7953\"],[0.7777777777777778,\"#fb9f3a\"],[0.8888888888888888,\"#fdca26\"],[1.0,\"#f0f921\"]],\"type\":\"histogram2dcontour\"}],\"mesh3d\":[{\"colorbar\":{\"outlinewidth\":0,\"ticks\":\"\"},\"type\":\"mesh3d\"}],\"parcoords\":[{\"line\":{\"colorbar\":{\"outlinewidth\":0,\"ticks\":\"\"}},\"type\":\"parcoords\"}],\"pie\":[{\"automargin\":true,\"type\":\"pie\"}],\"scatter\":[{\"marker\":{\"colorbar\":{\"outlinewidth\":0,\"ticks\":\"\"}},\"type\":\"scatter\"}],\"scatter3d\":[{\"line\":{\"colorbar\":{\"outlinewidth\":0,\"ticks\":\"\"}},\"marker\":{\"colorbar\":{\"outlinewidth\":0,\"ticks\":\"\"}},\"type\":\"scatter3d\"}],\"scattercarpet\":[{\"marker\":{\"colorbar\":{\"outlinewidth\":0,\"ticks\":\"\"}},\"type\":\"scattercarpet\"}],\"scattergeo\":[{\"marker\":{\"colorbar\":{\"outlinewidth\":0,\"ticks\":\"\"}},\"type\":\"scattergeo\"}],\"scattergl\":[{\"marker\":{\"colorbar\":{\"outlinewidth\":0,\"ticks\":\"\"}},\"type\":\"scattergl\"}],\"scattermapbox\":[{\"marker\":{\"colorbar\":{\"outlinewidth\":0,\"ticks\":\"\"}},\"type\":\"scattermapbox\"}],\"scatterpolar\":[{\"marker\":{\"colorbar\":{\"outlinewidth\":0,\"ticks\":\"\"}},\"type\":\"scatterpolar\"}],\"scatterpolargl\":[{\"marker\":{\"colorbar\":{\"outlinewidth\":0,\"ticks\":\"\"}},\"type\":\"scatterpolargl\"}],\"scatterternary\":[{\"marker\":{\"colorbar\":{\"outlinewidth\":0,\"ticks\":\"\"}},\"type\":\"scatterternary\"}],\"surface\":[{\"colorbar\":{\"outlinewidth\":0,\"ticks\":\"\"},\"colorscale\":[[0.0,\"#0d0887\"],[0.1111111111111111,\"#46039f\"],[0.2222222222222222,\"#7201a8\"],[0.3333333333333333,\"#9c179e\"],[0.4444444444444444,\"#bd3786\"],[0.5555555555555556,\"#d8576b\"],[0.6666666666666666,\"#ed7953\"],[0.7777777777777778,\"#fb9f3a\"],[0.8888888888888888,\"#fdca26\"],[1.0,\"#f0f921\"]],\"type\":\"surface\"}],\"table\":[{\"cells\":{\"fill\":{\"color\":\"#EBF0F8\"},\"line\":{\"color\":\"white\"}},\"header\":{\"fill\":{\"color\":\"#C8D4E3\"},\"line\":{\"color\":\"white\"}},\"type\":\"table\"}]},\"layout\":{\"annotationdefaults\":{\"arrowcolor\":\"#2a3f5f\",\"arrowhead\":0,\"arrowwidth\":1},\"autotypenumbers\":\"strict\",\"coloraxis\":{\"colorbar\":{\"outlinewidth\":0,\"ticks\":\"\"}},\"colorscale\":{\"diverging\":[[0,\"#8e0152\"],[0.1,\"#c51b7d\"],[0.2,\"#de77ae\"],[0.3,\"#f1b6da\"],[0.4,\"#fde0ef\"],[0.5,\"#f7f7f7\"],[0.6,\"#e6f5d0\"],[0.7,\"#b8e186\"],[0.8,\"#7fbc41\"],[0.9,\"#4d9221\"],[1,\"#276419\"]],\"sequential\":[[0.0,\"#0d0887\"],[0.1111111111111111,\"#46039f\"],[0.2222222222222222,\"#7201a8\"],[0.3333333333333333,\"#9c179e\"],[0.4444444444444444,\"#bd3786\"],[0.5555555555555556,\"#d8576b\"],[0.6666666666666666,\"#ed7953\"],[0.7777777777777778,\"#fb9f3a\"],[0.8888888888888888,\"#fdca26\"],[1.0,\"#f0f921\"]],\"sequentialminus\":[[0.0,\"#0d0887\"],[0.1111111111111111,\"#46039f\"],[0.2222222222222222,\"#7201a8\"],[0.3333333333333333,\"#9c179e\"],[0.4444444444444444,\"#bd3786\"],[0.5555555555555556,\"#d8576b\"],[0.6666666666666666,\"#ed7953\"],[0.7777777777777778,\"#fb9f3a\"],[0.8888888888888888,\"#fdca26\"],[1.0,\"#f0f921\"]]},\"colorway\":[\"#636efa\",\"#EF553B\",\"#00cc96\",\"#ab63fa\",\"#FFA15A\",\"#19d3f3\",\"#FF6692\",\"#B6E880\",\"#FF97FF\",\"#FECB52\"],\"font\":{\"color\":\"#2a3f5f\"},\"geo\":{\"bgcolor\":\"white\",\"lakecolor\":\"white\",\"landcolor\":\"#E5ECF6\",\"showlakes\":true,\"showland\":true,\"subunitcolor\":\"white\"},\"hoverlabel\":{\"align\":\"left\"},\"hovermode\":\"closest\",\"mapbox\":{\"style\":\"light\"},\"paper_bgcolor\":\"white\",\"plot_bgcolor\":\"#E5ECF6\",\"polar\":{\"angularaxis\":{\"gridcolor\":\"white\",\"linecolor\":\"white\",\"ticks\":\"\"},\"bgcolor\":\"#E5ECF6\",\"radialaxis\":{\"gridcolor\":\"white\",\"linecolor\":\"white\",\"ticks\":\"\"}},\"scene\":{\"xaxis\":{\"backgroundcolor\":\"#E5ECF6\",\"gridcolor\":\"white\",\"gridwidth\":2,\"linecolor\":\"white\",\"showbackground\":true,\"ticks\":\"\",\"zerolinecolor\":\"white\"},\"yaxis\":{\"backgroundcolor\":\"#E5ECF6\",\"gridcolor\":\"white\",\"gridwidth\":2,\"linecolor\":\"white\",\"showbackground\":true,\"ticks\":\"\",\"zerolinecolor\":\"white\"},\"zaxis\":{\"backgroundcolor\":\"#E5ECF6\",\"gridcolor\":\"white\",\"gridwidth\":2,\"linecolor\":\"white\",\"showbackground\":true,\"ticks\":\"\",\"zerolinecolor\":\"white\"}},\"shapedefaults\":{\"line\":{\"color\":\"#2a3f5f\"}},\"ternary\":{\"aaxis\":{\"gridcolor\":\"white\",\"linecolor\":\"white\",\"ticks\":\"\"},\"baxis\":{\"gridcolor\":\"white\",\"linecolor\":\"white\",\"ticks\":\"\"},\"bgcolor\":\"#E5ECF6\",\"caxis\":{\"gridcolor\":\"white\",\"linecolor\":\"white\",\"ticks\":\"\"}},\"title\":{\"x\":0.05},\"xaxis\":{\"automargin\":true,\"gridcolor\":\"white\",\"linecolor\":\"white\",\"ticks\":\"\",\"title\":{\"standoff\":15},\"zerolinecolor\":\"white\",\"zerolinewidth\":2},\"yaxis\":{\"automargin\":true,\"gridcolor\":\"white\",\"linecolor\":\"white\",\"ticks\":\"\",\"title\":{\"standoff\":15},\"zerolinecolor\":\"white\",\"zerolinewidth\":2}}},\"xaxis\":{\"anchor\":\"y\",\"domain\":[0.0,1.0],\"scaleanchor\":\"y\",\"constrain\":\"domain\"},\"yaxis\":{\"anchor\":\"x\",\"domain\":[0.0,1.0],\"autorange\":\"reversed\",\"constrain\":\"domain\"},\"coloraxis\":{\"colorbar\":{\"title\":{\"text\":\"Similarity Score\"}},\"colorscale\":[[0.0,\"rgb(247,252,240)\"],[0.125,\"rgb(224,243,219)\"],[0.25,\"rgb(204,235,197)\"],[0.375,\"rgb(168,221,181)\"],[0.5,\"rgb(123,204,196)\"],[0.625,\"rgb(78,179,211)\"],[0.75,\"rgb(43,140,190)\"],[0.875,\"rgb(8,104,172)\"],[1.0,\"rgb(8,64,129)\"]]},\"margin\":{\"t\":60},\"title\":{\"font\":{\"size\":22,\"color\":\"Black\"},\"text\":\"<b>Similarity Matrix\",\"y\":0.95,\"x\":0.55,\"xanchor\":\"center\",\"yanchor\":\"top\"},\"hoverlabel\":{\"font\":{\"size\":16,\"family\":\"Rockwell\"},\"bgcolor\":\"white\"},\"width\":1000,\"height\":1000,\"showlegend\":true,\"legend\":{\"title\":{\"text\":\"Trend\"}}},                        {\"responsive\": true}                    ).then(function(){\n",
              "                            \n",
              "var gd = document.getElementById('c57926b5-c070-420a-8036-60754f671c4f');\n",
              "var x = new MutationObserver(function (mutations, observer) {{\n",
              "        var display = window.getComputedStyle(gd).display;\n",
              "        if (!display || display === 'none') {{\n",
              "            console.log([gd, 'removed!']);\n",
              "            Plotly.purge(gd);\n",
              "            observer.disconnect();\n",
              "        }}\n",
              "}});\n",
              "\n",
              "// Listen for the removal of the full notebook cells\n",
              "var notebookContainer = gd.closest('#notebook-container');\n",
              "if (notebookContainer) {{\n",
              "    x.observe(notebookContainer, {childList: true});\n",
              "}}\n",
              "\n",
              "// Listen for the clearing of the current output cell\n",
              "var outputEl = gd.closest('.output');\n",
              "if (outputEl) {{\n",
              "    x.observe(outputEl, {childList: true});\n",
              "}}\n",
              "\n",
              "                        })                };                            </script>        </div>\n",
              "</body>\n",
              "</html>"
            ]
          },
          "metadata": {}
        }
      ]
    },
    {
      "cell_type": "markdown",
      "source": [
        "### **Visualize Term Score Decline**\n",
        "\n",
        "Topics are represented by a number of words starting with the best representative word. Each word is represented by a c-TF-IDF score. The higher the score, the more representative a word to the topic is. Since the topic words are sorted by their c-TF-IDF score, the scores slowly decline with each word that is added."
      ],
      "metadata": {
        "id": "vd41xsx7Xhgj"
      }
    },
    {
      "cell_type": "code",
      "source": [
        "topic_model.visualize_term_rank()"
      ],
      "metadata": {
        "id": "Rw1wXTEtX967",
        "outputId": "2744b3f6-cee2-492b-c44e-47a49ee80e30",
        "colab": {
          "base_uri": "https://localhost:8080/",
          "height": 517
        }
      },
      "execution_count": 32,
      "outputs": [
        {
          "output_type": "display_data",
          "data": {
            "text/html": [
              "<html>\n",
              "<head><meta charset=\"utf-8\" /></head>\n",
              "<body>\n",
              "    <div>            <script src=\"https://cdnjs.cloudflare.com/ajax/libs/mathjax/2.7.5/MathJax.js?config=TeX-AMS-MML_SVG\"></script><script type=\"text/javascript\">if (window.MathJax) {MathJax.Hub.Config({SVG: {font: \"STIX-Web\"}});}</script>                <script type=\"text/javascript\">window.PlotlyConfig = {MathJaxConfig: 'local'};</script>\n",
              "        <script src=\"https://cdn.plot.ly/plotly-2.8.3.min.js\"></script>                <div id=\"02080ebd-c15e-4ed1-b79a-51e8139b76dc\" class=\"plotly-graph-div\" style=\"height:500px; width:800px;\"></div>            <script type=\"text/javascript\">                                    window.PLOTLYENV=window.PLOTLYENV || {};                                    if (document.getElementById(\"02080ebd-c15e-4ed1-b79a-51e8139b76dc\")) {                    Plotly.newPlot(                        \"02080ebd-c15e-4ed1-b79a-51e8139b76dc\",                        [{\"hovertext\":\"<b>Topic -1</b>:compra_produto_pedido_recebi_merca\",\"line\":{\"color\":\"black\",\"width\":1.5},\"mode\":\"lines+lines\",\"name\":\"\",\"opacity\":0.1,\"x\":[1,2,3,4,5,6,7,8,9,10],\"y\":[0.010448679832889106,0.010161180657686272,0.009984329122098609,0.009029495014277278,0.008830997436404888,0.008333978316666652,0.008315001995720392,0.007915554939088262,0.007863847718965873,0.0077837916022678606],\"type\":\"scatter\"},{\"hovertext\":\"<b>Topic 0</b>:amazon_prime_assinatura_cart\\u00e3o_cobr\",\"line\":{\"color\":\"black\",\"width\":1.5},\"mode\":\"lines+lines\",\"name\":\"\",\"opacity\":0.1,\"x\":[1,2,3,4,5,6,7,8,9,10],\"y\":[0.0386071240555949,0.013198900321145748,0.011543349946505055,0.010441396141928832,0.009773862553290056,0.009300267338497604,0.009192195361885714,0.009051754924291494,0.008540071734260286,0.008383023768751038],\"type\":\"scatter\"},{\"hovertext\":\"<b>Topic 1</b>:casas_bahia_whatsapp_entrega_transp\",\"line\":{\"color\":\"black\",\"width\":1.5},\"mode\":\"lines+lines\",\"name\":\"\",\"opacity\":0.1,\"x\":[1,2,3,4,5,6,7,8,9,10],\"y\":[0.043707343242833464,0.04340788834276676,0.016236085587428863,0.014348905381288652,0.011498262696618708,0.011223662357242927,0.010735313370702456,0.00994055426950696,0.009443104700650741,0.009040004028283883],\"type\":\"scatter\"},{\"hovertext\":\"<b>Topic 2</b>:entrega_atraso_prazo_data_atrasada_\",\"line\":{\"color\":\"black\",\"width\":1.5},\"mode\":\"lines+lines\",\"name\":\"\",\"opacity\":0.1,\"x\":[1,2,3,4,5,6,7,8,9,10],\"y\":[0.03749502000845217,0.0314585867584242,0.02479916252956062,0.020491305379104163,0.019047187548493588,0.01651883344257433,0.015859722355917438,0.01451677145643482,0.013521714826898033,0.012898661485767468],\"type\":\"scatter\"},{\"hovertext\":\"<b>Topic 3</b>:celular_samsung_aparelho_galaxy_com\",\"line\":{\"color\":\"black\",\"width\":1.5},\"mode\":\"lines+lines\",\"name\":\"\",\"opacity\":0.1,\"x\":[1,2,3,4,5,6,7,8,9,10],\"y\":[0.03775141002236478,0.03160282920283169,0.020850022405338127,0.01278317126156991,0.012699245709251739,0.011999627290437727,0.01135517423934818,0.010440345531906682,0.010353781730540896,0.009606286255907197],\"type\":\"scatter\"},{\"hovertext\":\"<b>Topic 4</b>:propaganda_enganosa_an\\u00fancio_site_pe\",\"line\":{\"color\":\"black\",\"width\":1.5},\"mode\":\"lines+lines\",\"name\":\"\",\"opacity\":0.1,\"x\":[1,2,3,4,5,6,7,8,9,10],\"y\":[0.05932922268592898,0.05489099097772926,0.020279529447049395,0.015895647346062095,0.015856938146410992,0.015550661351895409,0.014769100082506755,0.014549180393051744,0.014105309766830715,0.013526463987979622],\"type\":\"scatter\"},{\"hovertext\":\"<b>Topic 5</b>:cancelamento_cancelar_pedido_cancel\",\"line\":{\"color\":\"black\",\"width\":1.5},\"mode\":\"lines+lines\",\"name\":\"\",\"opacity\":0.1,\"x\":[1,2,3,4,5,6,7,8,9,10],\"y\":[0.05376333527353644,0.0501569137476409,0.02782798812839146,0.019876019611838512,0.019073359656119702,0.014978232808541778,0.014918718035566356,0.014099992011155452,0.011038727550847468,0.009754659047629602],\"type\":\"scatter\"},{\"hovertext\":\"<b>Topic 6</b>:conta_senha_mail_acessar_acesso_con\",\"line\":{\"color\":\"black\",\"width\":1.5},\"mode\":\"lines+lines\",\"name\":\"\",\"opacity\":0.1,\"x\":[1,2,3,4,5,6,7,8,9,10],\"y\":[0.06893750176331197,0.057211874196232276,0.048638919958732436,0.04764448087071186,0.04265734663600005,0.03317152052586271,0.025429389485758354,0.023179023191309198,0.02246877246004567,0.01840527841644453],\"type\":\"scatter\"},{\"hovertext\":\"<b>Topic 7</b>:produto_quebrado_defeito_pe\\u00e7a_veio_\",\"line\":{\"color\":\"black\",\"width\":1.5},\"mode\":\"lines+lines\",\"name\":\"\",\"opacity\":0.1,\"x\":[1,2,3,4,5,6,7,8,9,10],\"y\":[0.02005125908292135,0.019794394223168647,0.018800711368272792,0.018622655724377067,0.016804604052546735,0.01596452107730089,0.01580884649549181,0.013235466898038492,0.012867883090893248,0.012200526912632697],\"type\":\"scatter\"},{\"hovertext\":\"<b>Topic 8</b>:livre_mercado_plataforma_vendedor_r\",\"line\":{\"color\":\"black\",\"width\":1.5},\"mode\":\"lines+lines\",\"name\":\"\",\"opacity\":0.1,\"x\":[1,2,3,4,5,6,7,8,9,10],\"y\":[0.03800821167268467,0.036832164593023735,0.020249899451153363,0.019471690787501106,0.019278546894249956,0.013891257544265446,0.012797216772780486,0.010683759394981559,0.010232407141287656,0.009817767488823828],\"type\":\"scatter\"},{\"hovertext\":\"<b>Topic 9</b>:americana_lojas_site_compra_pedido_\",\"line\":{\"color\":\"black\",\"width\":1.5},\"mode\":\"lines+lines\",\"name\":\"\",\"opacity\":0.1,\"x\":[1,2,3,4,5,6,7,8,9,10],\"y\":[0.06396486828831735,0.023144955647351757,0.01392947785654077,0.013070864486714172,0.012877972774908247,0.01236368920266122,0.011445024323789956,0.011339081605858227,0.01115443207690239,0.010564125422222346],\"type\":\"scatter\"},{\"hovertext\":\"<b>Topic 10</b>:loja_compra_poi_livre_mercado_prod\",\"line\":{\"color\":\"black\",\"width\":1.5},\"mode\":\"lines+lines\",\"name\":\"\",\"opacity\":0.1,\"x\":[1,2,3,4,5,6,7,8,9,10],\"y\":[0.013033161453853845,0.012714400976665673,0.01053006214572039,0.009031368251087224,0.008982064256720256,0.008876741539031882,0.008654931263275635,0.00837498763443077,0.007929456302376963,0.007856282717639105],\"type\":\"scatter\"},{\"hovertext\":\"<b>Topic 11</b>:iphone_apple_aparelho_carregador_c\",\"line\":{\"color\":\"black\",\"width\":1.5},\"mode\":\"lines+lines\",\"name\":\"\",\"opacity\":0.1,\"x\":[1,2,3,4,5,6,7,8,9,10],\"y\":[0.06365250106722865,0.026531707173881185,0.020009982559845294,0.019746863245352898,0.014214614419314252,0.011957817192034875,0.010291305016611912,0.010018731193895845,0.009879315121664548,0.009786441550099383],\"type\":\"scatter\"},{\"hovertext\":\"<b>Topic 12</b>:roupas_vestido_cal\\u00e7a_roupa_comprei\",\"line\":{\"color\":\"black\",\"width\":1.5},\"mode\":\"lines+lines\",\"name\":\"\",\"opacity\":0.1,\"x\":[1,2,3,4,5,6,7,8,9,10],\"y\":[0.06385765167157631,0.0459868241072986,0.039227371130721125,0.03521523953322559,0.03243164578505059,0.030272150322250686,0.028295156692982357,0.026801836674615193,0.025546248030233667,0.02487374895339789],\"type\":\"scatter\"},{\"hovertext\":\"<b>Topic 13</b>:brasil_shein_pedido_correios_encom\",\"line\":{\"color\":\"black\",\"width\":1.5},\"mode\":\"lines+lines\",\"name\":\"\",\"opacity\":0.1,\"x\":[1,2,3,4,5,6,7,8,9,10],\"y\":[0.0721951273156141,0.041687982251264424,0.01648435968846958,0.016305980982977652,0.014590886465645747,0.012858694559946617,0.012658853409182809,0.012144638490575064,0.011921067950176048,0.011917026271505406],\"type\":\"scatter\"},{\"hovertext\":\"<b>Topic 14</b>:cart\\u00e3o_cr\\u00e9dito_pagamento_cobran\\u00e7a_\",\"line\":{\"color\":\"black\",\"width\":1.5},\"mode\":\"lines+lines\",\"name\":\"\",\"opacity\":0.1,\"x\":[1,2,3,4,5,6,7,8,9,10],\"y\":[0.10237301313173455,0.07399198325687004,0.04481268257264126,0.044403989232859924,0.03158460490503126,0.027871196226272193,0.026817411438593952,0.02515404438547331,0.022007295424434126,0.021136551971147576],\"type\":\"scatter\"},{\"hovertext\":\"<b>Topic 15</b>:geladeira_refrigerador_troca_magal\",\"line\":{\"color\":\"black\",\"width\":1.5},\"mode\":\"lines+lines\",\"name\":\"\",\"opacity\":0.1,\"x\":[1,2,3,4,5,6,7,8,9,10],\"y\":[0.13630523133333672,0.01943888321408412,0.017868897229499758,0.017838034644468703,0.013871978411503312,0.013382389385140706,0.01279148921214597,0.012586831395307193,0.01207682328563414,0.011256330449177863],\"type\":\"scatter\"},{\"hovertext\":\"<b>Topic 16</b>:jogo_lan\\u00e7amento_venda_ragnarok_pr\\u00e9\",\"line\":{\"color\":\"black\",\"width\":1.5},\"mode\":\"lines+lines\",\"name\":\"\",\"opacity\":0.1,\"x\":[1,2,3,4,5,6,7,8,9,10],\"y\":[0.12492151870197347,0.08840593080318052,0.0579663769919876,0.0531372528687428,0.048058417451675974,0.026734676987926417,0.024000360000034707,0.021687815047798133,0.020359252443131613,0.01833876228368237],\"type\":\"scatter\"},{\"hovertext\":\"<b>Topic 17</b>:curitiba_parado_tr\\u00e2nsito_encomenda\",\"line\":{\"color\":\"black\",\"width\":1.5},\"mode\":\"lines+lines\",\"name\":\"\",\"opacity\":0.1,\"x\":[1,2,3,4,5,6,7,8,9,10],\"y\":[0.20441439071153503,0.056154641209025594,0.042456514486448396,0.039426324729095984,0.03648024517713725,0.03390104993453081,0.027535670941658742,0.025043910534450833,0.025020285276278666,0.02479910131992984],\"type\":\"scatter\"},{\"hovertext\":\"<b>Topic 18</b>:reembolso_taxada_shein_taxon_valor\",\"line\":{\"color\":\"black\",\"width\":1.5},\"mode\":\"lines+lines\",\"name\":\"\",\"opacity\":0.1,\"x\":[1,2,3,4,5,6,7,8,9,10],\"y\":[0.12297707599635929,0.07009417784191134,0.055105336538801016,0.051324283122096186,0.027743415974722865,0.024190104415297568,0.022806444529059028,0.021160958520395935,0.01952442106885694,0.01892381861088701],\"type\":\"scatter\"},{\"hovertext\":\"<b>Topic 19</b>:dinheiro_quero_volta_reembolso_pag\",\"line\":{\"color\":\"black\",\"width\":1.5},\"mode\":\"lines+lines\",\"name\":\"\",\"opacity\":0.1,\"x\":[1,2,3,4,5,6,7,8,9,10],\"y\":[0.07289316991774719,0.04247286925249656,0.04117458977164114,0.03605789092547053,0.03345553826856001,0.029990840685891664,0.026390539247337773,0.02615962842564998,0.02415618807475613,0.022979581306745954],\"type\":\"scatter\"},{\"hovertext\":\"<b>Topic 20</b>:cashback_02_valor_americana_extrat\",\"line\":{\"color\":\"black\",\"width\":1.5},\"mode\":\"lines+lines\",\"name\":\"\",\"opacity\":0.1,\"x\":[1,2,3,4,5,6,7,8,9,10],\"y\":[0.19157848247209294,0.03250509049842894,0.03069314698352961,0.027008102646797656,0.022791756042070878,0.02275927683034648,0.02219916936663805,0.020874183903254497,0.02085408117310266,0.017819448574631573],\"type\":\"scatter\"},{\"hovertext\":\"<b>Topic 21</b>:entregue_recebi_chegou_pedido_cons\",\"line\":{\"color\":\"black\",\"width\":1.5},\"mode\":\"lines+lines\",\"name\":\"\",\"opacity\":0.1,\"x\":[1,2,3,4,5,6,7,8,9,10],\"y\":[0.05472201616757335,0.04589912003376125,0.03910287445604921,0.03558786958049073,0.029975339628057304,0.02792052091999327,0.02772942211464873,0.02599989666313023,0.023914760828627812,0.022265964948750393],\"type\":\"scatter\"},{\"hovertext\":\"<b>Topic 22</b>:rastreio_c\\u00f3digo_rastreamento_apare\",\"line\":{\"color\":\"black\",\"width\":1.5},\"mode\":\"lines+lines\",\"name\":\"\",\"opacity\":0.1,\"x\":[1,2,3,4,5,6,7,8,9,10],\"y\":[0.19376648542945019,0.15078602239824584,0.05217047661772271,0.03612332447476274,0.03265264302597893,0.02912914035971444,0.027917605265604665,0.0271364355022898,0.024421683238786813,0.02405198282772245],\"type\":\"scatter\"},{\"hovertext\":\"<b>Topic 23</b>:m\\u00e1quina_lavar_maquina_lavadora_rou\",\"line\":{\"color\":\"black\",\"width\":1.5},\"mode\":\"lines+lines\",\"name\":\"\",\"opacity\":0.1,\"x\":[1,2,3,4,5,6,7,8,9,10],\"y\":[0.11346072152507529,0.10174961154573257,0.03579094827459217,0.03275287283602336,0.031171916466119765,0.022119369983015558,0.021374071856211083,0.019430560966035706,0.018718027648953094,0.018302364239803342],\"type\":\"scatter\"},{\"hovertext\":\"<b>Topic 24</b>:t\\u00eanis_tenis_raquete_produto_compre\",\"line\":{\"color\":\"black\",\"width\":1.5},\"mode\":\"lines+lines\",\"name\":\"\",\"opacity\":0.1,\"x\":[1,2,3,4,5,6,7,8,9,10],\"y\":[0.1470336331789394,0.036766475688916306,0.029413180551133046,0.019444399793858265,0.01833942235503117,0.01649258816071188,0.01649258816071188,0.016308914138035494,0.01606169242301413,0.015149337939382368],\"type\":\"scatter\"},{\"hovertext\":\"<b>Topic 25</b>:mercado_livre_pago_cr\\u00e9dito_conta_v\",\"line\":{\"color\":\"black\",\"width\":1.5},\"mode\":\"lines+lines\",\"name\":\"\",\"opacity\":0.1,\"x\":[1,2,3,4,5,6,7,8,9,10],\"y\":[0.06580319555431276,0.04316530876929894,0.041702267062481715,0.030720333658116956,0.028299202287060038,0.024421778702314982,0.02308464739970304,0.018984986375715416,0.018546579367061337,0.01819833025558062],\"type\":\"scatter\"},{\"hovertext\":\"<b>Topic 26</b>:endere\\u00e7o_casa_pedido_consta_entreg\",\"line\":{\"color\":\"black\",\"width\":1.5},\"mode\":\"lines+lines\",\"name\":\"\",\"opacity\":0.1,\"x\":[1,2,3,4,5,6,7,8,9,10],\"y\":[0.04535964393646645,0.04053676636765126,0.03764354596568544,0.03266762983662673,0.03233101484766979,0.03150793666576835,0.03141497073312152,0.026669753589604498,0.026154753842248666,0.02544196647776769],\"type\":\"scatter\"},{\"hovertext\":\"<b>Topic 27</b>:shein_encomenda_pedido_n\\u00famero_sete\",\"line\":{\"color\":\"black\",\"width\":1.5},\"mode\":\"lines+lines\",\"name\":\"\",\"opacity\":0.1,\"x\":[1,2,3,4,5,6,7,8,9,10],\"y\":[0.056325727296900524,0.030243267265694013,0.029186701102568848,0.028654200182050282,0.027720080144982895,0.026987858107829006,0.026415134912462924,0.02607042556706189,0.025540838662057006,0.024991375218295503],\"type\":\"scatter\"},{\"hovertext\":\"<b>Topic 28</b>:devolu\\u00e7\\u00e3o_c\\u00f3digo_devolver_livre_ge\",\"line\":{\"color\":\"black\",\"width\":1.5},\"mode\":\"lines+lines\",\"name\":\"\",\"opacity\":0.1,\"x\":[1,2,3,4,5,6,7,8,9,10],\"y\":[0.09536392262889207,0.055843149510955266,0.0322762133255333,0.023793011030696413,0.022052759574148043,0.022031181024581136,0.01963703094521412,0.01822040761332902,0.01820288367049838,0.017874271413875164],\"type\":\"scatter\"},{\"hovertext\":\"<b>Topic 29</b>:cart\\u00e3o_fatura_gift_cr\\u00e9dito_pagar_c\",\"line\":{\"color\":\"black\",\"width\":1.5},\"mode\":\"lines+lines\",\"name\":\"\",\"opacity\":0.1,\"x\":[1,2,3,4,5,6,7,8,9,10],\"y\":[0.040176668162857115,0.02935362704635092,0.02279651578288801,0.021228214101888087,0.0205731541170516,0.019675573218192306,0.01898207603916647,0.017881498577458098,0.017854331501695,0.016155127673578486],\"type\":\"scatter\"},{\"hovertext\":\"<b>Topic 30</b>:bluetooth_fone_ouvido_fones_defeit\",\"line\":{\"color\":\"black\",\"width\":1.5},\"mode\":\"lines+lines\",\"name\":\"\",\"opacity\":0.1,\"x\":[1,2,3,4,5,6,7,8,9,10],\"y\":[0.0815241211407581,0.06439976774278042,0.05181675209414564,0.04254483077348695,0.02523750685348102,0.02238852908883493,0.021983997374112933,0.0175977545392027,0.01713767591714383,0.016377242383806605],\"type\":\"scatter\"},{\"hovertext\":\"<b>Topic 31</b>:produtos_produto_notinha_chandon_m\",\"line\":{\"color\":\"black\",\"width\":1.5},\"mode\":\"lines+lines\",\"name\":\"\",\"opacity\":0.1,\"x\":[1,2,3,4,5,6,7,8,9,10],\"y\":[0.051447234929777166,0.043875818658606944,0.038627857095893475,0.038627857095893475,0.03801644008555514,0.037260363124809945,0.036715940649187435,0.03430769518336763,0.033380776420979495,0.03272187099166443],\"type\":\"scatter\"},{\"hovertext\":\"<b>Topic 32</b>:remetente_pedido_shein_reembolso_c\",\"line\":{\"color\":\"black\",\"width\":1.5},\"mode\":\"lines+lines\",\"name\":\"\",\"opacity\":0.1,\"x\":[1,2,3,4,5,6,7,8,9,10],\"y\":[0.07500374420887548,0.044155319664682946,0.040444283698202584,0.0366092348234135,0.03559391200504418,0.03404368834166397,0.028757816304280284,0.021727128845300224,0.021037433033310717,0.020124702825451726],\"type\":\"scatter\"},{\"hovertext\":\"<b>Topic 33</b>:endere\\u00e7o_errado_alterar_nome_deved\",\"line\":{\"color\":\"black\",\"width\":1.5},\"mode\":\"lines+lines\",\"name\":\"\",\"opacity\":0.1,\"x\":[1,2,3,4,5,6,7,8,9,10],\"y\":[0.1647763978606426,0.10162753744018056,0.06072606873815252,0.046633441018865504,0.028868688628936066,0.025748394042141624,0.024711669647820907,0.02454190853813078,0.024308495178382385,0.022509235580393853],\"type\":\"scatter\"},{\"hovertext\":\"<b>Topic 34</b>:aplicativo_postagem_bota_devolu\\u00e7\\u00e3o\",\"line\":{\"color\":\"black\",\"width\":1.5},\"mode\":\"lines+lines\",\"name\":\"\",\"opacity\":0.1,\"x\":[1,2,3,4,5,6,7,8,9,10],\"y\":[0.0584577713457047,0.04225797255650348,0.040222897824476446,0.03680913515849931,0.033638138245182754,0.03240134768662242,0.02695671459769231,0.025465458838438478,0.02162062551668958,0.020594258195278173],\"type\":\"scatter\"},{\"hovertext\":\"<b>Topic 35</b>:reconhecimento_facial_rosto_senha_\",\"line\":{\"color\":\"black\",\"width\":1.5},\"mode\":\"lines+lines\",\"name\":\"\",\"opacity\":0.1,\"x\":[1,2,3,4,5,6,7,8,9,10],\"y\":[0.20071939820394205,0.19276576206700086,0.05185406525168175,0.045431326813668106,0.043711084471763424,0.041369356236863414,0.03366594258499404,0.032633564853654165,0.029402240016326762,0.029338584002475625],\"type\":\"scatter\"},{\"hovertext\":\"<b>Topic 36</b>:conta_suspensa_mercado_opera\\u00e7\\u00f5es_s\",\"line\":{\"color\":\"black\",\"width\":1.5},\"mode\":\"lines+lines\",\"name\":\"\",\"opacity\":0.1,\"x\":[1,2,3,4,5,6,7,8,9,10],\"y\":[0.1050915344731405,0.08749471342839892,0.03762906974754499,0.03456059892799607,0.030294310261829695,0.02813418028263331,0.026122220501748436,0.025437096845879262,0.025313637702620826,0.022519620275807655],\"type\":\"scatter\"},{\"hovertext\":\"<b>Topic 37</b>:china_nacional_order_pedido_pacien\",\"line\":{\"color\":\"black\",\"width\":1.5},\"mode\":\"lines+lines\",\"name\":\"\",\"opacity\":0.1,\"x\":[1,2,3,4,5,6,7,8,9,10],\"y\":[0.17883621950849327,0.04861999302450136,0.043228715476219544,0.03554380337249111,0.035001583672494445,0.03458903187414397,0.031687820416200725,0.030922897400740834,0.03033508006440726,0.028311523688327348],\"type\":\"scatter\"},{\"hovertext\":\"<b>Topic 38</b>:pneu_pneus_pastilhas_coleta_freio_\",\"line\":{\"color\":\"black\",\"width\":1.5},\"mode\":\"lines+lines\",\"name\":\"\",\"opacity\":0.1,\"x\":[1,2,3,4,5,6,7,8,9,10],\"y\":[0.11796971223745518,0.06690475757650872,0.050963625338762114,0.04549442090656925,0.03897211601254416,0.023894556277324543,0.02338898929435473,0.023089024510027777,0.020430425221556005,0.019866581651979735],\"type\":\"scatter\"},{\"hovertext\":\"<b>Topic 39</b>:bloqueada_conta_contas_bloquearam_\",\"line\":{\"color\":\"black\",\"width\":1.5},\"mode\":\"lines+lines\",\"name\":\"\",\"opacity\":0.1,\"x\":[1,2,3,4,5,6,7,8,9,10],\"y\":[0.08862466136098418,0.07912519788403233,0.03651571419632336,0.03462589224512412,0.03017467483275058,0.028958168628859703,0.02659031949007147,0.02515808054534248,0.024655247679542688,0.023834000420708497],\"type\":\"scatter\"},{\"hovertext\":\"<b>Topic 40</b>:cart\\u00e3o_conta_bloqueada_negado_fatu\",\"line\":{\"color\":\"black\",\"width\":1.5},\"mode\":\"lines+lines\",\"name\":\"\",\"opacity\":0.1,\"x\":[1,2,3,4,5,6,7,8,9,10],\"y\":[0.09184632583032473,0.06981964857567288,0.062709089999492,0.03417848106981566,0.03404423124521129,0.0316731270978224,0.027225623827850258,0.0259418215013948,0.023921286942663114,0.022932431634335393],\"type\":\"scatter\"},{\"hovertext\":\"<b>Topic 41</b>:americana_lojas_fritadeira_instagr\",\"line\":{\"color\":\"black\",\"width\":1.5},\"mode\":\"lines+lines\",\"name\":\"\",\"opacity\":0.1,\"x\":[1,2,3,4,5,6,7,8,9,10],\"y\":[0.0791944105668472,0.05146250285162097,0.03439953435333095,0.03233694182193787,0.03167506278773102,0.03058207708909262,0.029733799055554472,0.026084618322730388,0.024499201773473638,0.02348325155824876],\"type\":\"scatter\"},{\"hovertext\":\"<b>Topic 42</b>:cadeira_cama_gamer_montar_edredom_\",\"line\":{\"color\":\"black\",\"width\":1.5},\"mode\":\"lines+lines\",\"name\":\"\",\"opacity\":0.1,\"x\":[1,2,3,4,5,6,7,8,9,10],\"y\":[0.21770215193912135,0.06251064909101844,0.05922245429211642,0.03230315688660896,0.0305968822339336,0.029968581590405458,0.028614706146987086,0.02727668289843848,0.02686031764866414,0.02523750685348102],\"type\":\"scatter\"},{\"hovertext\":\"<b>Topic 43</b>:frete_disjuntores_paguei_sach\\u00eas_pa\",\"line\":{\"color\":\"black\",\"width\":1.5},\"mode\":\"lines+lines\",\"name\":\"\",\"opacity\":0.1,\"x\":[1,2,3,4,5,6,7,8,9,10],\"y\":[0.03727839542100956,0.03377661631056009,0.03223850243371301,0.032215340480957554,0.032215340480957554,0.031761366405134966,0.028681141767679177,0.02667412641911675,0.025353268434456403,0.025353268434456403],\"type\":\"scatter\"},{\"hovertext\":\"<b>Topic 44</b>:entrega_feira_separa\\u00e7\\u00e3o_aplicativo\",\"line\":{\"color\":\"black\",\"width\":1.5},\"mode\":\"lines+lines\",\"name\":\"\",\"opacity\":0.1,\"x\":[1,2,3,4,5,6,7,8,9,10],\"y\":[0.022013471376030738,0.017378216065566204,0.015399120621784545,0.015199020549883221,0.014538765222650468,0.01418607271452835,0.013773139218039288,0.013068428575179668,0.01299975728213927,0.012825574904296913],\"type\":\"scatter\"},{\"hovertext\":\"<b>Topic 45</b>:taxon_shein_taxada_your_valor_corr\",\"line\":{\"color\":\"black\",\"width\":1.5},\"mode\":\"lines+lines\",\"name\":\"\",\"opacity\":0.1,\"x\":[1,2,3,4,5,6,7,8,9,10],\"y\":[0.082103139475837,0.07402209385809091,0.06277090553006985,0.038381169075446475,0.030219937894395317,0.029398691499918236,0.027163837500830724,0.0269032365678823,0.02680980281616901,0.02680980281616901],\"type\":\"scatter\"},{\"hovertext\":\"<b>Topic 46</b>:rota_mercado_noite_thyelli_aspirad\",\"line\":{\"color\":\"black\",\"width\":1.5},\"mode\":\"lines+lines\",\"name\":\"\",\"opacity\":0.1,\"x\":[1,2,3,4,5,6,7,8,9,10],\"y\":[0.028204976889305528,0.020533182869265636,0.019727815824947315,0.019688079178762263,0.019234080656188448,0.018533261808254008,0.01842248896916895,0.015601237695917088,0.015332461098413137,0.015243446718977998],\"type\":\"scatter\"},{\"hovertext\":\"<b>Topic 47</b>:estorno_cancelei_cancelamento_cart\",\"line\":{\"color\":\"black\",\"width\":1.5},\"mode\":\"lines+lines\",\"name\":\"\",\"opacity\":0.1,\"x\":[1,2,3,4,5,6,7,8,9,10],\"y\":[0.06679209718746706,0.05536299073152015,0.04448943739512113,0.03235855632039949,0.031130721061470898,0.03029125251941143,0.028294664322465652,0.026718126278399406,0.025064171614353228,0.023979168814106163],\"type\":\"scatter\"},{\"hovertext\":\"<b>Topic 48</b>:pagamento_confirma\\u00e7\\u00e3o_boleto_confi\",\"line\":{\"color\":\"black\",\"width\":1.5},\"mode\":\"lines+lines\",\"name\":\"\",\"opacity\":0.1,\"x\":[1,2,3,4,5,6,7,8,9,10],\"y\":[0.15329316937057558,0.07292953680062013,0.06101981493535979,0.04572369564426147,0.03884214775800636,0.034417788721634826,0.032224743212738695,0.03192798468986325,0.031556356057741666,0.028845344476379986],\"type\":\"scatter\"},{\"hovertext\":\"<b>Topic 49</b>:cart\\u00e3o_duas_cart\\u00f5es_duplicada_comp\",\"line\":{\"color\":\"black\",\"width\":1.5},\"mode\":\"lines+lines\",\"name\":\"\",\"opacity\":0.1,\"x\":[1,2,3,4,5,6,7,8,9,10],\"y\":[0.0891390977917911,0.06254251071181793,0.057637744088567984,0.05629038165734489,0.05430633674781401,0.05371219629000497,0.04567885485329844,0.04253857694850427,0.04135668967942194,0.04059663129558263],\"type\":\"scatter\"},{\"hovertext\":\"<b>Topic 50</b>:estorno_reembolso_cart\\u00e3o_valor_cr\\u00e9\",\"line\":{\"color\":\"black\",\"width\":1.5},\"mode\":\"lines+lines\",\"name\":\"\",\"opacity\":0.1,\"x\":[1,2,3,4,5,6,7,8,9,10],\"y\":[0.04708434547527109,0.04399542824610806,0.04150537288728433,0.028953265339798997,0.027475131966757948,0.027370242788712362,0.024946178994378346,0.02236350983969637,0.022012784236538355,0.021930730205911235],\"type\":\"scatter\"},{\"hovertext\":\"<b>Topic 51</b>:rob\\u00f4_devolver_falar_m\\u00e1quina_despac\",\"line\":{\"color\":\"black\",\"width\":1.5},\"mode\":\"lines+lines\",\"name\":\"\",\"opacity\":0.1,\"x\":[1,2,3,4,5,6,7,8,9,10],\"y\":[0.10601878257776334,0.029824855351442164,0.02964406480556677,0.027919323463327053,0.026293716021365997,0.02539640504047571,0.025037566118291964,0.024889880405917393,0.02447100608543713,0.024465666106995347],\"type\":\"scatter\"},{\"hovertext\":\"<b>Topic 52</b>:cupom_finalizar_inv\\u00e1lido_aplicar_t\",\"line\":{\"color\":\"black\",\"width\":1.5},\"mode\":\"lines+lines\",\"name\":\"\",\"opacity\":0.1,\"x\":[1,2,3,4,5,6,7,8,9,10],\"y\":[0.2655251616585145,0.05852806226600823,0.04458024959399775,0.04428699935385864,0.043456441433702794,0.03862184169578393,0.03731684181769397,0.03305211538744931,0.030830646024766897,0.030742687370997862],\"type\":\"scatter\"},{\"hovertext\":\"<b>Topic 53</b>:entregue_rastrear_produto_jos\\u00e9_rec\",\"line\":{\"color\":\"black\",\"width\":1.5},\"mode\":\"lines+lines\",\"name\":\"\",\"opacity\":0.1,\"x\":[1,2,3,4,5,6,7,8,9,10],\"y\":[0.06923047311533487,0.04407105193690408,0.042799111452260764,0.039788995776225994,0.0393024073998473,0.03583045867554589,0.03188954843308383,0.03173069762186904,0.03159602001602295,0.028366257397795806],\"type\":\"scatter\"},{\"hovertext\":\"<b>Topic 54</b>:black_friday_promo\\u00e7\\u00e3o_cancelada_va\",\"line\":{\"color\":\"black\",\"width\":1.5},\"mode\":\"lines+lines\",\"name\":\"\",\"opacity\":0.1,\"x\":[1,2,3,4,5,6,7,8,9,10],\"y\":[0.06985306625981177,0.06430106595817871,0.03844630637165133,0.02956269817819524,0.02940957084471321,0.028640942476590735,0.02752816202495268,0.026177994729193667,0.02376887794088174,0.02322466014033331],\"type\":\"scatter\"},{\"hovertext\":\"<b>Topic 55</b>:cancelamento_cancelar_cancelado_pu\",\"line\":{\"color\":\"black\",\"width\":1.5},\"mode\":\"lines+lines\",\"name\":\"\",\"opacity\":0.1,\"x\":[1,2,3,4,5,6,7,8,9,10],\"y\":[0.029583578359578103,0.021506931456501007,0.018881052393716975,0.01654847734431529,0.016311853359572605,0.0163091525017389,0.014039929901061336,0.013728592966185109,0.013728592966185109,0.013707377083996974],\"type\":\"scatter\"},{\"hovertext\":\"<b>Topic 56</b>:internacional_nacionais_nacional_3\",\"line\":{\"color\":\"black\",\"width\":1.5},\"mode\":\"lines+lines\",\"name\":\"\",\"opacity\":0.1,\"x\":[1,2,3,4,5,6,7,8,9,10],\"y\":[0.14100508253992783,0.12268653732265025,0.09300615203110688,0.07181402163535174,0.07036185861798276,0.06984691843366503,0.06774508617539092,0.059044322995749715,0.054305437797402815,0.04809207454396973],\"type\":\"scatter\"},{\"hovertext\":\"<b>Topic 57</b>:frete_livre_gr\\u00e1tis_mercado_nota_co\",\"line\":{\"color\":\"black\",\"width\":1.5},\"mode\":\"lines+lines\",\"name\":\"\",\"opacity\":0.1,\"x\":[1,2,3,4,5,6,7,8,9,10],\"y\":[0.09056419755955349,0.05995181773513742,0.05817035863636524,0.05773299232595365,0.03395554658778437,0.02799694257890399,0.02799694257890399,0.02799694257890399,0.02799694257890399,0.027387731154534113],\"type\":\"scatter\"},{\"hovertext\":\"<b>Topic 58</b>:brasil_vendedor_latinhas_mercado_l\",\"line\":{\"color\":\"black\",\"width\":1.5},\"mode\":\"lines+lines\",\"name\":\"\",\"opacity\":0.1,\"x\":[1,2,3,4,5,6,7,8,9,10],\"y\":[0.04564544888851892,0.03151059158126089,0.02970908174667075,0.022280332068116124,0.02141790129774375,0.020837419094985796,0.020837419094985796,0.020837419094985796,0.020482474736684193,0.019975457933633783],\"type\":\"scatter\"},{\"hovertext\":\"<b>Topic 59</b>:entrega_pedido_preciso_protocolo_1\",\"line\":{\"color\":\"black\",\"width\":1.5},\"mode\":\"lines+lines\",\"name\":\"\",\"opacity\":0.1,\"x\":[1,2,3,4,5,6,7,8,9,10],\"y\":[0.03526357499060589,0.02616838187803545,0.02302361257551177,0.02294500584960318,0.02104395349255836,0.020419176513597488,0.020292611590691283,0.020151012710356398,0.019056431719654238,0.01895638418612906],\"type\":\"scatter\"},{\"hovertext\":\"<b>Topic 60</b>:sof\\u00e1_tecido_reclin\\u00e1vel_sofa_assent\",\"line\":{\"color\":\"black\",\"width\":1.5},\"mode\":\"lines+lines\",\"name\":\"\",\"opacity\":0.1,\"x\":[1,2,3,4,5,6,7,8,9,10],\"y\":[0.24930574655405635,0.03778427147346208,0.03216554861004417,0.03216554861004417,0.03216554861004417,0.027306104109260543,0.02531408254815894,0.02531408254815894,0.02531408254815894,0.024992456805466287],\"type\":\"scatter\"},{\"hovertext\":\"<b>Topic 61</b>:destilada_errado_\\u00e1gua_vazia_aditiv\",\"line\":{\"color\":\"black\",\"width\":1.5},\"mode\":\"lines+lines\",\"name\":\"\",\"opacity\":0.1,\"x\":[1,2,3,4,5,6,7,8,9,10],\"y\":[0.0611127291367867,0.05908048631783631,0.05906174206879996,0.05876476337201592,0.058087906101699525,0.058087906101699525,0.05660862773621299,0.05594206080084874,0.05427784611099954,0.050903891439219785],\"type\":\"scatter\"},{\"hovertext\":\"<b>Topic 62</b>:armazenamento_full_retirar_retirad\",\"line\":{\"color\":\"black\",\"width\":1.5},\"mode\":\"lines+lines\",\"name\":\"\",\"opacity\":0.1,\"x\":[1,2,3,4,5,6,7,8,9,10],\"y\":[0.03711362696151552,0.024651624702073566,0.024632012921053097,0.024004061904267918,0.023683706674399473,0.023060043771495536,0.021624062271659646,0.01913018498696073,0.018939707095052757,0.018760984201100114],\"type\":\"scatter\"},{\"hovertext\":\"<b>Topic 63</b>:loja_lumin\\u00e1ria_magazine_luiza_arno\",\"line\":{\"color\":\"black\",\"width\":1.5},\"mode\":\"lines+lines\",\"name\":\"\",\"opacity\":0.1,\"x\":[1,2,3,4,5,6,7,8,9,10],\"y\":[0.03823211456210151,0.03792814828332501,0.03524811670112524,0.0333354848775039,0.021587394814800705,0.020821883829137387,0.019226567845663595,0.01819641327497289,0.01799816601996094,0.017462740405459636],\"type\":\"scatter\"},{\"hovertext\":\"<b>Topic 64</b>:item_entregue_faltando_pedido_c\\u00f3di\",\"line\":{\"color\":\"black\",\"width\":1.5},\"mode\":\"lines+lines\",\"name\":\"\",\"opacity\":0.1,\"x\":[1,2,3,4,5,6,7,8,9,10],\"y\":[0.06995708271536044,0.04687950731430094,0.040713329085055344,0.04028715799690568,0.038104249940783874,0.03750047183383945,0.03591169045190812,0.034949652539449205,0.029433117439122206,0.0289153092533084],\"type\":\"scatter\"},{\"hovertext\":\"<b>Topic 65</b>:vestido_vestidos_casamento_acess\\u00f3r\",\"line\":{\"color\":\"black\",\"width\":1.5},\"mode\":\"lines+lines\",\"name\":\"\",\"opacity\":0.1,\"x\":[1,2,3,4,5,6,7,8,9,10],\"y\":[0.17697571098773218,0.10548824492406875,0.08225409793807563,0.046973240186277264,0.04570906570226414,0.04353405159151642,0.04121462757392971,0.04081876780651927,0.0387725707731846,0.037171582577999074],\"type\":\"scatter\"},{\"hovertext\":\"<b>Topic 66</b>:esperando_casa_saiu_msgn_entrega_s\",\"line\":{\"color\":\"black\",\"width\":1.5},\"mode\":\"lines+lines\",\"name\":\"\",\"opacity\":0.1,\"x\":[1,2,3,4,5,6,7,8,9,10],\"y\":[0.0613800905579949,0.059111564972774484,0.05517505011270949,0.05507391097378116,0.05361486939115814,0.03878311761193016,0.03727237652932965,0.036715940649187435,0.03599794931756834,0.03448943571014047],\"type\":\"scatter\"},{\"hovertext\":\"<b>Topic 67</b>:nota_fiscal_polegadas_imprimir_emi\",\"line\":{\"color\":\"black\",\"width\":1.5},\"mode\":\"lines+lines\",\"name\":\"\",\"opacity\":0.1,\"x\":[1,2,3,4,5,6,7,8,9,10],\"y\":[0.21471612954553784,0.18392067068222157,0.04253594924308777,0.039872061819798195,0.038540908235205305,0.03452085893604329,0.029649665866708537,0.02658137454653213,0.024178641674442863,0.02316547600554375],\"type\":\"scatter\"},{\"hovertext\":\"<b>Topic 68</b>:placa_kabum_sof\\u00e1_transportadora_ag\",\"line\":{\"color\":\"black\",\"width\":1.5},\"mode\":\"lines+lines\",\"name\":\"\",\"opacity\":0.1,\"x\":[1,2,3,4,5,6,7,8,9,10],\"y\":[0.048825269010778403,0.040230093370774676,0.028063907791561638,0.026797244960752163,0.01921122979513123,0.018286818833063826,0.01819497869195746,0.01778848976859162,0.017664414060407602,0.01641610283697409],\"type\":\"scatter\"},{\"hovertext\":\"<b>Topic 69</b>:cancelamento_cancelado_ac\\u00fastica_es\",\"line\":{\"color\":\"black\",\"width\":1.5},\"mode\":\"lines+lines\",\"name\":\"\",\"opacity\":0.1,\"x\":[1,2,3,4,5,6,7,8,9,10],\"y\":[0.06468696661102763,0.053823406226294744,0.04402745002327644,0.040023025978413805,0.029544947281652925,0.02867761360185432,0.027727117547545376,0.026988917453628105,0.024858601913122128,0.024813215167411213],\"type\":\"scatter\"},{\"hovertext\":\"<b>Topic 70</b>:fog\\u00e3o_recolher_divergente_retira_a\",\"line\":{\"color\":\"black\",\"width\":1.5},\"mode\":\"lines+lines\",\"name\":\"\",\"opacity\":0.1,\"x\":[1,2,3,4,5,6,7,8,9,10],\"y\":[0.053262790403921484,0.04025383754390905,0.03515752861844544,0.0305141847122358,0.028448714031551164,0.025373812724640513,0.0252019899732632,0.024613306685103746,0.023739038595808268,0.02319395032574001],\"type\":\"scatter\"},{\"hovertext\":\"<b>Topic 71</b>:assinatura_kindle_unlimited_cobran\",\"line\":{\"color\":\"black\",\"width\":1.5},\"mode\":\"lines+lines\",\"name\":\"\",\"opacity\":0.1,\"x\":[1,2,3,4,5,6,7,8,9,10],\"y\":[0.17928352308481524,0.10905519695538424,0.10707720963724486,0.09139700463187227,0.0800814801956327,0.07597552056103271,0.04242415638751583,0.04199780138013451,0.04138559431923237,0.04087199674847565],\"type\":\"scatter\"},{\"hovertext\":\"<b>Topic 72</b>:absurdo_cardigam_shoppee_voltado_l\",\"line\":{\"color\":\"black\",\"width\":1.5},\"mode\":\"lines+lines\",\"name\":\"\",\"opacity\":0.1,\"x\":[1,2,3,4,5,6,7,8,9,10],\"y\":[0.058046021524288026,0.04125494057596684,0.03921299454724301,0.03267307965503696,0.030082510796817275,0.029498204608157236,0.028404827159491185,0.028350039059251878,0.02780200748194628,0.027308177652642592],\"type\":\"scatter\"}],                        {\"template\":{\"data\":{\"barpolar\":[{\"marker\":{\"line\":{\"color\":\"white\",\"width\":0.5},\"pattern\":{\"fillmode\":\"overlay\",\"size\":10,\"solidity\":0.2}},\"type\":\"barpolar\"}],\"bar\":[{\"error_x\":{\"color\":\"#2a3f5f\"},\"error_y\":{\"color\":\"#2a3f5f\"},\"marker\":{\"line\":{\"color\":\"white\",\"width\":0.5},\"pattern\":{\"fillmode\":\"overlay\",\"size\":10,\"solidity\":0.2}},\"type\":\"bar\"}],\"carpet\":[{\"aaxis\":{\"endlinecolor\":\"#2a3f5f\",\"gridcolor\":\"#C8D4E3\",\"linecolor\":\"#C8D4E3\",\"minorgridcolor\":\"#C8D4E3\",\"startlinecolor\":\"#2a3f5f\"},\"baxis\":{\"endlinecolor\":\"#2a3f5f\",\"gridcolor\":\"#C8D4E3\",\"linecolor\":\"#C8D4E3\",\"minorgridcolor\":\"#C8D4E3\",\"startlinecolor\":\"#2a3f5f\"},\"type\":\"carpet\"}],\"choropleth\":[{\"colorbar\":{\"outlinewidth\":0,\"ticks\":\"\"},\"type\":\"choropleth\"}],\"contourcarpet\":[{\"colorbar\":{\"outlinewidth\":0,\"ticks\":\"\"},\"type\":\"contourcarpet\"}],\"contour\":[{\"colorbar\":{\"outlinewidth\":0,\"ticks\":\"\"},\"colorscale\":[[0.0,\"#0d0887\"],[0.1111111111111111,\"#46039f\"],[0.2222222222222222,\"#7201a8\"],[0.3333333333333333,\"#9c179e\"],[0.4444444444444444,\"#bd3786\"],[0.5555555555555556,\"#d8576b\"],[0.6666666666666666,\"#ed7953\"],[0.7777777777777778,\"#fb9f3a\"],[0.8888888888888888,\"#fdca26\"],[1.0,\"#f0f921\"]],\"type\":\"contour\"}],\"heatmapgl\":[{\"colorbar\":{\"outlinewidth\":0,\"ticks\":\"\"},\"colorscale\":[[0.0,\"#0d0887\"],[0.1111111111111111,\"#46039f\"],[0.2222222222222222,\"#7201a8\"],[0.3333333333333333,\"#9c179e\"],[0.4444444444444444,\"#bd3786\"],[0.5555555555555556,\"#d8576b\"],[0.6666666666666666,\"#ed7953\"],[0.7777777777777778,\"#fb9f3a\"],[0.8888888888888888,\"#fdca26\"],[1.0,\"#f0f921\"]],\"type\":\"heatmapgl\"}],\"heatmap\":[{\"colorbar\":{\"outlinewidth\":0,\"ticks\":\"\"},\"colorscale\":[[0.0,\"#0d0887\"],[0.1111111111111111,\"#46039f\"],[0.2222222222222222,\"#7201a8\"],[0.3333333333333333,\"#9c179e\"],[0.4444444444444444,\"#bd3786\"],[0.5555555555555556,\"#d8576b\"],[0.6666666666666666,\"#ed7953\"],[0.7777777777777778,\"#fb9f3a\"],[0.8888888888888888,\"#fdca26\"],[1.0,\"#f0f921\"]],\"type\":\"heatmap\"}],\"histogram2dcontour\":[{\"colorbar\":{\"outlinewidth\":0,\"ticks\":\"\"},\"colorscale\":[[0.0,\"#0d0887\"],[0.1111111111111111,\"#46039f\"],[0.2222222222222222,\"#7201a8\"],[0.3333333333333333,\"#9c179e\"],[0.4444444444444444,\"#bd3786\"],[0.5555555555555556,\"#d8576b\"],[0.6666666666666666,\"#ed7953\"],[0.7777777777777778,\"#fb9f3a\"],[0.8888888888888888,\"#fdca26\"],[1.0,\"#f0f921\"]],\"type\":\"histogram2dcontour\"}],\"histogram2d\":[{\"colorbar\":{\"outlinewidth\":0,\"ticks\":\"\"},\"colorscale\":[[0.0,\"#0d0887\"],[0.1111111111111111,\"#46039f\"],[0.2222222222222222,\"#7201a8\"],[0.3333333333333333,\"#9c179e\"],[0.4444444444444444,\"#bd3786\"],[0.5555555555555556,\"#d8576b\"],[0.6666666666666666,\"#ed7953\"],[0.7777777777777778,\"#fb9f3a\"],[0.8888888888888888,\"#fdca26\"],[1.0,\"#f0f921\"]],\"type\":\"histogram2d\"}],\"histogram\":[{\"marker\":{\"pattern\":{\"fillmode\":\"overlay\",\"size\":10,\"solidity\":0.2}},\"type\":\"histogram\"}],\"mesh3d\":[{\"colorbar\":{\"outlinewidth\":0,\"ticks\":\"\"},\"type\":\"mesh3d\"}],\"parcoords\":[{\"line\":{\"colorbar\":{\"outlinewidth\":0,\"ticks\":\"\"}},\"type\":\"parcoords\"}],\"pie\":[{\"automargin\":true,\"type\":\"pie\"}],\"scatter3d\":[{\"line\":{\"colorbar\":{\"outlinewidth\":0,\"ticks\":\"\"}},\"marker\":{\"colorbar\":{\"outlinewidth\":0,\"ticks\":\"\"}},\"type\":\"scatter3d\"}],\"scattercarpet\":[{\"marker\":{\"colorbar\":{\"outlinewidth\":0,\"ticks\":\"\"}},\"type\":\"scattercarpet\"}],\"scattergeo\":[{\"marker\":{\"colorbar\":{\"outlinewidth\":0,\"ticks\":\"\"}},\"type\":\"scattergeo\"}],\"scattergl\":[{\"marker\":{\"colorbar\":{\"outlinewidth\":0,\"ticks\":\"\"}},\"type\":\"scattergl\"}],\"scattermapbox\":[{\"marker\":{\"colorbar\":{\"outlinewidth\":0,\"ticks\":\"\"}},\"type\":\"scattermapbox\"}],\"scatterpolargl\":[{\"marker\":{\"colorbar\":{\"outlinewidth\":0,\"ticks\":\"\"}},\"type\":\"scatterpolargl\"}],\"scatterpolar\":[{\"marker\":{\"colorbar\":{\"outlinewidth\":0,\"ticks\":\"\"}},\"type\":\"scatterpolar\"}],\"scatter\":[{\"marker\":{\"colorbar\":{\"outlinewidth\":0,\"ticks\":\"\"}},\"type\":\"scatter\"}],\"scatterternary\":[{\"marker\":{\"colorbar\":{\"outlinewidth\":0,\"ticks\":\"\"}},\"type\":\"scatterternary\"}],\"surface\":[{\"colorbar\":{\"outlinewidth\":0,\"ticks\":\"\"},\"colorscale\":[[0.0,\"#0d0887\"],[0.1111111111111111,\"#46039f\"],[0.2222222222222222,\"#7201a8\"],[0.3333333333333333,\"#9c179e\"],[0.4444444444444444,\"#bd3786\"],[0.5555555555555556,\"#d8576b\"],[0.6666666666666666,\"#ed7953\"],[0.7777777777777778,\"#fb9f3a\"],[0.8888888888888888,\"#fdca26\"],[1.0,\"#f0f921\"]],\"type\":\"surface\"}],\"table\":[{\"cells\":{\"fill\":{\"color\":\"#EBF0F8\"},\"line\":{\"color\":\"white\"}},\"header\":{\"fill\":{\"color\":\"#C8D4E3\"},\"line\":{\"color\":\"white\"}},\"type\":\"table\"}]},\"layout\":{\"annotationdefaults\":{\"arrowcolor\":\"#2a3f5f\",\"arrowhead\":0,\"arrowwidth\":1},\"autotypenumbers\":\"strict\",\"coloraxis\":{\"colorbar\":{\"outlinewidth\":0,\"ticks\":\"\"}},\"colorscale\":{\"diverging\":[[0,\"#8e0152\"],[0.1,\"#c51b7d\"],[0.2,\"#de77ae\"],[0.3,\"#f1b6da\"],[0.4,\"#fde0ef\"],[0.5,\"#f7f7f7\"],[0.6,\"#e6f5d0\"],[0.7,\"#b8e186\"],[0.8,\"#7fbc41\"],[0.9,\"#4d9221\"],[1,\"#276419\"]],\"sequential\":[[0.0,\"#0d0887\"],[0.1111111111111111,\"#46039f\"],[0.2222222222222222,\"#7201a8\"],[0.3333333333333333,\"#9c179e\"],[0.4444444444444444,\"#bd3786\"],[0.5555555555555556,\"#d8576b\"],[0.6666666666666666,\"#ed7953\"],[0.7777777777777778,\"#fb9f3a\"],[0.8888888888888888,\"#fdca26\"],[1.0,\"#f0f921\"]],\"sequentialminus\":[[0.0,\"#0d0887\"],[0.1111111111111111,\"#46039f\"],[0.2222222222222222,\"#7201a8\"],[0.3333333333333333,\"#9c179e\"],[0.4444444444444444,\"#bd3786\"],[0.5555555555555556,\"#d8576b\"],[0.6666666666666666,\"#ed7953\"],[0.7777777777777778,\"#fb9f3a\"],[0.8888888888888888,\"#fdca26\"],[1.0,\"#f0f921\"]]},\"colorway\":[\"#636efa\",\"#EF553B\",\"#00cc96\",\"#ab63fa\",\"#FFA15A\",\"#19d3f3\",\"#FF6692\",\"#B6E880\",\"#FF97FF\",\"#FECB52\"],\"font\":{\"color\":\"#2a3f5f\"},\"geo\":{\"bgcolor\":\"white\",\"lakecolor\":\"white\",\"landcolor\":\"white\",\"showlakes\":true,\"showland\":true,\"subunitcolor\":\"#C8D4E3\"},\"hoverlabel\":{\"align\":\"left\"},\"hovermode\":\"closest\",\"mapbox\":{\"style\":\"light\"},\"paper_bgcolor\":\"white\",\"plot_bgcolor\":\"white\",\"polar\":{\"angularaxis\":{\"gridcolor\":\"#EBF0F8\",\"linecolor\":\"#EBF0F8\",\"ticks\":\"\"},\"bgcolor\":\"white\",\"radialaxis\":{\"gridcolor\":\"#EBF0F8\",\"linecolor\":\"#EBF0F8\",\"ticks\":\"\"}},\"scene\":{\"xaxis\":{\"backgroundcolor\":\"white\",\"gridcolor\":\"#DFE8F3\",\"gridwidth\":2,\"linecolor\":\"#EBF0F8\",\"showbackground\":true,\"ticks\":\"\",\"zerolinecolor\":\"#EBF0F8\"},\"yaxis\":{\"backgroundcolor\":\"white\",\"gridcolor\":\"#DFE8F3\",\"gridwidth\":2,\"linecolor\":\"#EBF0F8\",\"showbackground\":true,\"ticks\":\"\",\"zerolinecolor\":\"#EBF0F8\"},\"zaxis\":{\"backgroundcolor\":\"white\",\"gridcolor\":\"#DFE8F3\",\"gridwidth\":2,\"linecolor\":\"#EBF0F8\",\"showbackground\":true,\"ticks\":\"\",\"zerolinecolor\":\"#EBF0F8\"}},\"shapedefaults\":{\"line\":{\"color\":\"#2a3f5f\"}},\"ternary\":{\"aaxis\":{\"gridcolor\":\"#DFE8F3\",\"linecolor\":\"#A2B1C6\",\"ticks\":\"\"},\"baxis\":{\"gridcolor\":\"#DFE8F3\",\"linecolor\":\"#A2B1C6\",\"ticks\":\"\"},\"bgcolor\":\"white\",\"caxis\":{\"gridcolor\":\"#DFE8F3\",\"linecolor\":\"#A2B1C6\",\"ticks\":\"\"}},\"title\":{\"x\":0.05},\"xaxis\":{\"automargin\":true,\"gridcolor\":\"#EBF0F8\",\"linecolor\":\"#EBF0F8\",\"ticks\":\"\",\"title\":{\"standoff\":15},\"zerolinecolor\":\"#EBF0F8\",\"zerolinewidth\":2},\"yaxis\":{\"automargin\":true,\"gridcolor\":\"#EBF0F8\",\"linecolor\":\"#EBF0F8\",\"ticks\":\"\",\"title\":{\"standoff\":15},\"zerolinecolor\":\"#EBF0F8\",\"zerolinewidth\":2}}},\"xaxis\":{\"range\":[0,10],\"tick0\":1,\"dtick\":2,\"title\":{\"text\":\"Term Rank\"}},\"title\":{\"font\":{\"size\":22,\"color\":\"Black\"},\"text\":\"<b>Term score decline per Topic</b>\",\"y\":0.9,\"x\":0.5,\"xanchor\":\"center\",\"yanchor\":\"top\"},\"hoverlabel\":{\"font\":{\"size\":16,\"family\":\"Rockwell\"},\"bgcolor\":\"white\"},\"showlegend\":false,\"width\":800,\"height\":500,\"yaxis\":{\"title\":{\"text\":\"c-TF-IDF score\"}}},                        {\"responsive\": true}                    ).then(function(){\n",
              "                            \n",
              "var gd = document.getElementById('02080ebd-c15e-4ed1-b79a-51e8139b76dc');\n",
              "var x = new MutationObserver(function (mutations, observer) {{\n",
              "        var display = window.getComputedStyle(gd).display;\n",
              "        if (!display || display === 'none') {{\n",
              "            console.log([gd, 'removed!']);\n",
              "            Plotly.purge(gd);\n",
              "            observer.disconnect();\n",
              "        }}\n",
              "}});\n",
              "\n",
              "// Listen for the removal of the full notebook cells\n",
              "var notebookContainer = gd.closest('#notebook-container');\n",
              "if (notebookContainer) {{\n",
              "    x.observe(notebookContainer, {childList: true});\n",
              "}}\n",
              "\n",
              "// Listen for the clearing of the current output cell\n",
              "var outputEl = gd.closest('.output');\n",
              "if (outputEl) {{\n",
              "    x.observe(outputEl, {childList: true});\n",
              "}}\n",
              "\n",
              "                        })                };                            </script>        </div>\n",
              "</body>\n",
              "</html>"
            ]
          },
          "metadata": {}
        }
      ]
    },
    {
      "cell_type": "markdown",
      "source": [
        "## **Term search**"
      ],
      "metadata": {
        "id": "AZIV-p12ZMXa"
      }
    },
    {
      "cell_type": "code",
      "source": [
        "# Find topics that contains blackfriday term\n",
        "similar_topics, similarity = topic_model.find_topics(\"blackfriday\", top_n=5)\n",
        "\n",
        "# Show similar topics\n",
        "similar_topics"
      ],
      "metadata": {
        "id": "pHHayMGRZOob",
        "outputId": "b59e9196-115a-4a85-ee81-4fc75e62c747",
        "colab": {
          "base_uri": "https://localhost:8080/"
        }
      },
      "execution_count": 33,
      "outputs": [
        {
          "output_type": "execute_result",
          "data": {
            "text/plain": [
              "[54, 55, 46, 52, 47]"
            ]
          },
          "metadata": {},
          "execution_count": 33
        }
      ]
    },
    {
      "cell_type": "code",
      "source": [
        "# Show a specific topic\n",
        "topic_model.get_topic(54)"
      ],
      "metadata": {
        "id": "2BnwvRotZUya",
        "outputId": "1cf305e5-2c32-4d1e-c2fb-c3e6c0e7f734",
        "colab": {
          "base_uri": "https://localhost:8080/"
        }
      },
      "execution_count": 34,
      "outputs": [
        {
          "output_type": "execute_result",
          "data": {
            "text/plain": [
              "[('black', 0.06985306625981177),\n",
              " ('friday', 0.06430106595817871),\n",
              " ('promoção', 0.03844630637165133),\n",
              " ('cancelada', 0.02956269817819524),\n",
              " ('valor', 0.02940957084471321),\n",
              " ('promocional', 0.028640942476590735),\n",
              " ('preço', 0.02752816202495268),\n",
              " ('compra', 0.026177994729193667),\n",
              " ('divergencia', 0.02376887794088174),\n",
              " ('comprar', 0.02322466014033331)]"
            ]
          },
          "metadata": {},
          "execution_count": 34
        }
      ]
    },
    {
      "cell_type": "markdown",
      "source": [
        "### **Topic Reduction**"
      ],
      "metadata": {
        "id": "Lf78SHIeYzMC"
      }
    },
    {
      "cell_type": "code",
      "source": [
        "#new_topic_model = topic_model.reduce_topics(df.documents, nr_topics=40)\n",
        "#new_topics = new_topic_model.topics_\n",
        "#new_probs = new_topic_model.probabilities_"
      ],
      "metadata": {
        "id": "wtVMrXHGY4GM"
      },
      "execution_count": 35,
      "outputs": []
    },
    {
      "cell_type": "code",
      "source": [
        "#new_topic_model.visualize_topics()"
      ],
      "metadata": {
        "id": "W1mW2iTeaU04"
      },
      "execution_count": 36,
      "outputs": []
    }
  ]
}