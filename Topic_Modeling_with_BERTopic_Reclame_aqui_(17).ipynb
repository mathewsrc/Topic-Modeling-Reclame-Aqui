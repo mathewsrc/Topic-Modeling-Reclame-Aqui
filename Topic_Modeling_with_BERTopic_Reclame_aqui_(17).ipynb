{
  "nbformat": 4,
  "nbformat_minor": 0,
  "metadata": {
    "colab": {
      "provenance": [],
      "include_colab_link": true
    },
    "kernelspec": {
      "name": "python3",
      "display_name": "Python 3"
    },
    "language_info": {
      "name": "python"
    },
    "gpuClass": "standard",
    "widgets": {
      "application/vnd.jupyter.widget-state+json": {
        "bcefb373d6c7454b91fa155e70ef701b": {
          "model_module": "@jupyter-widgets/controls",
          "model_name": "HBoxModel",
          "model_module_version": "1.5.0",
          "state": {
            "_dom_classes": [],
            "_model_module": "@jupyter-widgets/controls",
            "_model_module_version": "1.5.0",
            "_model_name": "HBoxModel",
            "_view_count": null,
            "_view_module": "@jupyter-widgets/controls",
            "_view_module_version": "1.5.0",
            "_view_name": "HBoxView",
            "box_style": "",
            "children": [
              "IPY_MODEL_60a66642a34c442c8a277ae2e4bdc438",
              "IPY_MODEL_ef4229ecfa144498bf84772f775dc7ff",
              "IPY_MODEL_d9242c146f7747988f6c113faa1c568b"
            ],
            "layout": "IPY_MODEL_8ae639acb82f4abdbdb06bbda9116961"
          }
        },
        "60a66642a34c442c8a277ae2e4bdc438": {
          "model_module": "@jupyter-widgets/controls",
          "model_name": "HTMLModel",
          "model_module_version": "1.5.0",
          "state": {
            "_dom_classes": [],
            "_model_module": "@jupyter-widgets/controls",
            "_model_module_version": "1.5.0",
            "_model_name": "HTMLModel",
            "_view_count": null,
            "_view_module": "@jupyter-widgets/controls",
            "_view_module_version": "1.5.0",
            "_view_name": "HTMLView",
            "description": "",
            "description_tooltip": null,
            "layout": "IPY_MODEL_c49d8e56ec65402abe62ad7d0572db03",
            "placeholder": "​",
            "style": "IPY_MODEL_718da9264dfd4bc0a0e2ba4084c7b4fe",
            "value": "Downloading (…)e900fe39/config.json: 100%"
          }
        },
        "ef4229ecfa144498bf84772f775dc7ff": {
          "model_module": "@jupyter-widgets/controls",
          "model_name": "FloatProgressModel",
          "model_module_version": "1.5.0",
          "state": {
            "_dom_classes": [],
            "_model_module": "@jupyter-widgets/controls",
            "_model_module_version": "1.5.0",
            "_model_name": "FloatProgressModel",
            "_view_count": null,
            "_view_module": "@jupyter-widgets/controls",
            "_view_module_version": "1.5.0",
            "_view_name": "ProgressView",
            "bar_style": "success",
            "description": "",
            "description_tooltip": null,
            "layout": "IPY_MODEL_ec48bc6d96194625888574afa66b3505",
            "max": 645,
            "min": 0,
            "orientation": "horizontal",
            "style": "IPY_MODEL_8d9c6cc92a92417a94f4e95323f881f3",
            "value": 645
          }
        },
        "d9242c146f7747988f6c113faa1c568b": {
          "model_module": "@jupyter-widgets/controls",
          "model_name": "HTMLModel",
          "model_module_version": "1.5.0",
          "state": {
            "_dom_classes": [],
            "_model_module": "@jupyter-widgets/controls",
            "_model_module_version": "1.5.0",
            "_model_name": "HTMLModel",
            "_view_count": null,
            "_view_module": "@jupyter-widgets/controls",
            "_view_module_version": "1.5.0",
            "_view_name": "HTMLView",
            "description": "",
            "description_tooltip": null,
            "layout": "IPY_MODEL_c61d45c14c924770b0b931bd515d2b66",
            "placeholder": "​",
            "style": "IPY_MODEL_efb1d71f8a2c4fd093df38a1c5cdcc97",
            "value": " 645/645 [00:00&lt;00:00, 35.3kB/s]"
          }
        },
        "8ae639acb82f4abdbdb06bbda9116961": {
          "model_module": "@jupyter-widgets/base",
          "model_name": "LayoutModel",
          "model_module_version": "1.2.0",
          "state": {
            "_model_module": "@jupyter-widgets/base",
            "_model_module_version": "1.2.0",
            "_model_name": "LayoutModel",
            "_view_count": null,
            "_view_module": "@jupyter-widgets/base",
            "_view_module_version": "1.2.0",
            "_view_name": "LayoutView",
            "align_content": null,
            "align_items": null,
            "align_self": null,
            "border": null,
            "bottom": null,
            "display": null,
            "flex": null,
            "flex_flow": null,
            "grid_area": null,
            "grid_auto_columns": null,
            "grid_auto_flow": null,
            "grid_auto_rows": null,
            "grid_column": null,
            "grid_gap": null,
            "grid_row": null,
            "grid_template_areas": null,
            "grid_template_columns": null,
            "grid_template_rows": null,
            "height": null,
            "justify_content": null,
            "justify_items": null,
            "left": null,
            "margin": null,
            "max_height": null,
            "max_width": null,
            "min_height": null,
            "min_width": null,
            "object_fit": null,
            "object_position": null,
            "order": null,
            "overflow": null,
            "overflow_x": null,
            "overflow_y": null,
            "padding": null,
            "right": null,
            "top": null,
            "visibility": null,
            "width": null
          }
        },
        "c49d8e56ec65402abe62ad7d0572db03": {
          "model_module": "@jupyter-widgets/base",
          "model_name": "LayoutModel",
          "model_module_version": "1.2.0",
          "state": {
            "_model_module": "@jupyter-widgets/base",
            "_model_module_version": "1.2.0",
            "_model_name": "LayoutModel",
            "_view_count": null,
            "_view_module": "@jupyter-widgets/base",
            "_view_module_version": "1.2.0",
            "_view_name": "LayoutView",
            "align_content": null,
            "align_items": null,
            "align_self": null,
            "border": null,
            "bottom": null,
            "display": null,
            "flex": null,
            "flex_flow": null,
            "grid_area": null,
            "grid_auto_columns": null,
            "grid_auto_flow": null,
            "grid_auto_rows": null,
            "grid_column": null,
            "grid_gap": null,
            "grid_row": null,
            "grid_template_areas": null,
            "grid_template_columns": null,
            "grid_template_rows": null,
            "height": null,
            "justify_content": null,
            "justify_items": null,
            "left": null,
            "margin": null,
            "max_height": null,
            "max_width": null,
            "min_height": null,
            "min_width": null,
            "object_fit": null,
            "object_position": null,
            "order": null,
            "overflow": null,
            "overflow_x": null,
            "overflow_y": null,
            "padding": null,
            "right": null,
            "top": null,
            "visibility": null,
            "width": null
          }
        },
        "718da9264dfd4bc0a0e2ba4084c7b4fe": {
          "model_module": "@jupyter-widgets/controls",
          "model_name": "DescriptionStyleModel",
          "model_module_version": "1.5.0",
          "state": {
            "_model_module": "@jupyter-widgets/controls",
            "_model_module_version": "1.5.0",
            "_model_name": "DescriptionStyleModel",
            "_view_count": null,
            "_view_module": "@jupyter-widgets/base",
            "_view_module_version": "1.2.0",
            "_view_name": "StyleView",
            "description_width": ""
          }
        },
        "ec48bc6d96194625888574afa66b3505": {
          "model_module": "@jupyter-widgets/base",
          "model_name": "LayoutModel",
          "model_module_version": "1.2.0",
          "state": {
            "_model_module": "@jupyter-widgets/base",
            "_model_module_version": "1.2.0",
            "_model_name": "LayoutModel",
            "_view_count": null,
            "_view_module": "@jupyter-widgets/base",
            "_view_module_version": "1.2.0",
            "_view_name": "LayoutView",
            "align_content": null,
            "align_items": null,
            "align_self": null,
            "border": null,
            "bottom": null,
            "display": null,
            "flex": null,
            "flex_flow": null,
            "grid_area": null,
            "grid_auto_columns": null,
            "grid_auto_flow": null,
            "grid_auto_rows": null,
            "grid_column": null,
            "grid_gap": null,
            "grid_row": null,
            "grid_template_areas": null,
            "grid_template_columns": null,
            "grid_template_rows": null,
            "height": null,
            "justify_content": null,
            "justify_items": null,
            "left": null,
            "margin": null,
            "max_height": null,
            "max_width": null,
            "min_height": null,
            "min_width": null,
            "object_fit": null,
            "object_position": null,
            "order": null,
            "overflow": null,
            "overflow_x": null,
            "overflow_y": null,
            "padding": null,
            "right": null,
            "top": null,
            "visibility": null,
            "width": null
          }
        },
        "8d9c6cc92a92417a94f4e95323f881f3": {
          "model_module": "@jupyter-widgets/controls",
          "model_name": "ProgressStyleModel",
          "model_module_version": "1.5.0",
          "state": {
            "_model_module": "@jupyter-widgets/controls",
            "_model_module_version": "1.5.0",
            "_model_name": "ProgressStyleModel",
            "_view_count": null,
            "_view_module": "@jupyter-widgets/base",
            "_view_module_version": "1.2.0",
            "_view_name": "StyleView",
            "bar_color": null,
            "description_width": ""
          }
        },
        "c61d45c14c924770b0b931bd515d2b66": {
          "model_module": "@jupyter-widgets/base",
          "model_name": "LayoutModel",
          "model_module_version": "1.2.0",
          "state": {
            "_model_module": "@jupyter-widgets/base",
            "_model_module_version": "1.2.0",
            "_model_name": "LayoutModel",
            "_view_count": null,
            "_view_module": "@jupyter-widgets/base",
            "_view_module_version": "1.2.0",
            "_view_name": "LayoutView",
            "align_content": null,
            "align_items": null,
            "align_self": null,
            "border": null,
            "bottom": null,
            "display": null,
            "flex": null,
            "flex_flow": null,
            "grid_area": null,
            "grid_auto_columns": null,
            "grid_auto_flow": null,
            "grid_auto_rows": null,
            "grid_column": null,
            "grid_gap": null,
            "grid_row": null,
            "grid_template_areas": null,
            "grid_template_columns": null,
            "grid_template_rows": null,
            "height": null,
            "justify_content": null,
            "justify_items": null,
            "left": null,
            "margin": null,
            "max_height": null,
            "max_width": null,
            "min_height": null,
            "min_width": null,
            "object_fit": null,
            "object_position": null,
            "order": null,
            "overflow": null,
            "overflow_x": null,
            "overflow_y": null,
            "padding": null,
            "right": null,
            "top": null,
            "visibility": null,
            "width": null
          }
        },
        "efb1d71f8a2c4fd093df38a1c5cdcc97": {
          "model_module": "@jupyter-widgets/controls",
          "model_name": "DescriptionStyleModel",
          "model_module_version": "1.5.0",
          "state": {
            "_model_module": "@jupyter-widgets/controls",
            "_model_module_version": "1.5.0",
            "_model_name": "DescriptionStyleModel",
            "_view_count": null,
            "_view_module": "@jupyter-widgets/base",
            "_view_module_version": "1.2.0",
            "_view_name": "StyleView",
            "description_width": ""
          }
        },
        "d5bdca4a51c24019bcfadf162bd6f781": {
          "model_module": "@jupyter-widgets/controls",
          "model_name": "HBoxModel",
          "model_module_version": "1.5.0",
          "state": {
            "_dom_classes": [],
            "_model_module": "@jupyter-widgets/controls",
            "_model_module_version": "1.5.0",
            "_model_name": "HBoxModel",
            "_view_count": null,
            "_view_module": "@jupyter-widgets/controls",
            "_view_module_version": "1.5.0",
            "_view_name": "HBoxView",
            "box_style": "",
            "children": [
              "IPY_MODEL_b31d50b67aeb47ce85ea4fd66c4d7384",
              "IPY_MODEL_4a815f2a43404745ba41ce8de7d813a6",
              "IPY_MODEL_b40143228e6142a7959128901e1798bb"
            ],
            "layout": "IPY_MODEL_a82055092b3f4ebbbacff693f08fdb28"
          }
        },
        "b31d50b67aeb47ce85ea4fd66c4d7384": {
          "model_module": "@jupyter-widgets/controls",
          "model_name": "HTMLModel",
          "model_module_version": "1.5.0",
          "state": {
            "_dom_classes": [],
            "_model_module": "@jupyter-widgets/controls",
            "_model_module_version": "1.5.0",
            "_model_name": "HTMLModel",
            "_view_count": null,
            "_view_module": "@jupyter-widgets/controls",
            "_view_module_version": "1.5.0",
            "_view_name": "HTMLView",
            "description": "",
            "description_tooltip": null,
            "layout": "IPY_MODEL_333c42adffbf42bab12f805d84190d6c",
            "placeholder": "​",
            "style": "IPY_MODEL_9f43ee5451284fd293ac34f1e776cd79",
            "value": "Downloading (…)ce_transformers.json: 100%"
          }
        },
        "4a815f2a43404745ba41ce8de7d813a6": {
          "model_module": "@jupyter-widgets/controls",
          "model_name": "FloatProgressModel",
          "model_module_version": "1.5.0",
          "state": {
            "_dom_classes": [],
            "_model_module": "@jupyter-widgets/controls",
            "_model_module_version": "1.5.0",
            "_model_name": "FloatProgressModel",
            "_view_count": null,
            "_view_module": "@jupyter-widgets/controls",
            "_view_module_version": "1.5.0",
            "_view_name": "ProgressView",
            "bar_style": "success",
            "description": "",
            "description_tooltip": null,
            "layout": "IPY_MODEL_b01354f01c27448ba2f36d42d807e711",
            "max": 122,
            "min": 0,
            "orientation": "horizontal",
            "style": "IPY_MODEL_4dd3645abd954893bf1e894a527790f6",
            "value": 122
          }
        },
        "b40143228e6142a7959128901e1798bb": {
          "model_module": "@jupyter-widgets/controls",
          "model_name": "HTMLModel",
          "model_module_version": "1.5.0",
          "state": {
            "_dom_classes": [],
            "_model_module": "@jupyter-widgets/controls",
            "_model_module_version": "1.5.0",
            "_model_name": "HTMLModel",
            "_view_count": null,
            "_view_module": "@jupyter-widgets/controls",
            "_view_module_version": "1.5.0",
            "_view_name": "HTMLView",
            "description": "",
            "description_tooltip": null,
            "layout": "IPY_MODEL_c597e28ba9b0449a8dd25de0a945f5c1",
            "placeholder": "​",
            "style": "IPY_MODEL_b4864c74732948a9b1c9286ad793195c",
            "value": " 122/122 [00:00&lt;00:00, 6.21kB/s]"
          }
        },
        "a82055092b3f4ebbbacff693f08fdb28": {
          "model_module": "@jupyter-widgets/base",
          "model_name": "LayoutModel",
          "model_module_version": "1.2.0",
          "state": {
            "_model_module": "@jupyter-widgets/base",
            "_model_module_version": "1.2.0",
            "_model_name": "LayoutModel",
            "_view_count": null,
            "_view_module": "@jupyter-widgets/base",
            "_view_module_version": "1.2.0",
            "_view_name": "LayoutView",
            "align_content": null,
            "align_items": null,
            "align_self": null,
            "border": null,
            "bottom": null,
            "display": null,
            "flex": null,
            "flex_flow": null,
            "grid_area": null,
            "grid_auto_columns": null,
            "grid_auto_flow": null,
            "grid_auto_rows": null,
            "grid_column": null,
            "grid_gap": null,
            "grid_row": null,
            "grid_template_areas": null,
            "grid_template_columns": null,
            "grid_template_rows": null,
            "height": null,
            "justify_content": null,
            "justify_items": null,
            "left": null,
            "margin": null,
            "max_height": null,
            "max_width": null,
            "min_height": null,
            "min_width": null,
            "object_fit": null,
            "object_position": null,
            "order": null,
            "overflow": null,
            "overflow_x": null,
            "overflow_y": null,
            "padding": null,
            "right": null,
            "top": null,
            "visibility": null,
            "width": null
          }
        },
        "333c42adffbf42bab12f805d84190d6c": {
          "model_module": "@jupyter-widgets/base",
          "model_name": "LayoutModel",
          "model_module_version": "1.2.0",
          "state": {
            "_model_module": "@jupyter-widgets/base",
            "_model_module_version": "1.2.0",
            "_model_name": "LayoutModel",
            "_view_count": null,
            "_view_module": "@jupyter-widgets/base",
            "_view_module_version": "1.2.0",
            "_view_name": "LayoutView",
            "align_content": null,
            "align_items": null,
            "align_self": null,
            "border": null,
            "bottom": null,
            "display": null,
            "flex": null,
            "flex_flow": null,
            "grid_area": null,
            "grid_auto_columns": null,
            "grid_auto_flow": null,
            "grid_auto_rows": null,
            "grid_column": null,
            "grid_gap": null,
            "grid_row": null,
            "grid_template_areas": null,
            "grid_template_columns": null,
            "grid_template_rows": null,
            "height": null,
            "justify_content": null,
            "justify_items": null,
            "left": null,
            "margin": null,
            "max_height": null,
            "max_width": null,
            "min_height": null,
            "min_width": null,
            "object_fit": null,
            "object_position": null,
            "order": null,
            "overflow": null,
            "overflow_x": null,
            "overflow_y": null,
            "padding": null,
            "right": null,
            "top": null,
            "visibility": null,
            "width": null
          }
        },
        "9f43ee5451284fd293ac34f1e776cd79": {
          "model_module": "@jupyter-widgets/controls",
          "model_name": "DescriptionStyleModel",
          "model_module_version": "1.5.0",
          "state": {
            "_model_module": "@jupyter-widgets/controls",
            "_model_module_version": "1.5.0",
            "_model_name": "DescriptionStyleModel",
            "_view_count": null,
            "_view_module": "@jupyter-widgets/base",
            "_view_module_version": "1.2.0",
            "_view_name": "StyleView",
            "description_width": ""
          }
        },
        "b01354f01c27448ba2f36d42d807e711": {
          "model_module": "@jupyter-widgets/base",
          "model_name": "LayoutModel",
          "model_module_version": "1.2.0",
          "state": {
            "_model_module": "@jupyter-widgets/base",
            "_model_module_version": "1.2.0",
            "_model_name": "LayoutModel",
            "_view_count": null,
            "_view_module": "@jupyter-widgets/base",
            "_view_module_version": "1.2.0",
            "_view_name": "LayoutView",
            "align_content": null,
            "align_items": null,
            "align_self": null,
            "border": null,
            "bottom": null,
            "display": null,
            "flex": null,
            "flex_flow": null,
            "grid_area": null,
            "grid_auto_columns": null,
            "grid_auto_flow": null,
            "grid_auto_rows": null,
            "grid_column": null,
            "grid_gap": null,
            "grid_row": null,
            "grid_template_areas": null,
            "grid_template_columns": null,
            "grid_template_rows": null,
            "height": null,
            "justify_content": null,
            "justify_items": null,
            "left": null,
            "margin": null,
            "max_height": null,
            "max_width": null,
            "min_height": null,
            "min_width": null,
            "object_fit": null,
            "object_position": null,
            "order": null,
            "overflow": null,
            "overflow_x": null,
            "overflow_y": null,
            "padding": null,
            "right": null,
            "top": null,
            "visibility": null,
            "width": null
          }
        },
        "4dd3645abd954893bf1e894a527790f6": {
          "model_module": "@jupyter-widgets/controls",
          "model_name": "ProgressStyleModel",
          "model_module_version": "1.5.0",
          "state": {
            "_model_module": "@jupyter-widgets/controls",
            "_model_module_version": "1.5.0",
            "_model_name": "ProgressStyleModel",
            "_view_count": null,
            "_view_module": "@jupyter-widgets/base",
            "_view_module_version": "1.2.0",
            "_view_name": "StyleView",
            "bar_color": null,
            "description_width": ""
          }
        },
        "c597e28ba9b0449a8dd25de0a945f5c1": {
          "model_module": "@jupyter-widgets/base",
          "model_name": "LayoutModel",
          "model_module_version": "1.2.0",
          "state": {
            "_model_module": "@jupyter-widgets/base",
            "_model_module_version": "1.2.0",
            "_model_name": "LayoutModel",
            "_view_count": null,
            "_view_module": "@jupyter-widgets/base",
            "_view_module_version": "1.2.0",
            "_view_name": "LayoutView",
            "align_content": null,
            "align_items": null,
            "align_self": null,
            "border": null,
            "bottom": null,
            "display": null,
            "flex": null,
            "flex_flow": null,
            "grid_area": null,
            "grid_auto_columns": null,
            "grid_auto_flow": null,
            "grid_auto_rows": null,
            "grid_column": null,
            "grid_gap": null,
            "grid_row": null,
            "grid_template_areas": null,
            "grid_template_columns": null,
            "grid_template_rows": null,
            "height": null,
            "justify_content": null,
            "justify_items": null,
            "left": null,
            "margin": null,
            "max_height": null,
            "max_width": null,
            "min_height": null,
            "min_width": null,
            "object_fit": null,
            "object_position": null,
            "order": null,
            "overflow": null,
            "overflow_x": null,
            "overflow_y": null,
            "padding": null,
            "right": null,
            "top": null,
            "visibility": null,
            "width": null
          }
        },
        "b4864c74732948a9b1c9286ad793195c": {
          "model_module": "@jupyter-widgets/controls",
          "model_name": "DescriptionStyleModel",
          "model_module_version": "1.5.0",
          "state": {
            "_model_module": "@jupyter-widgets/controls",
            "_model_module_version": "1.5.0",
            "_model_name": "DescriptionStyleModel",
            "_view_count": null,
            "_view_module": "@jupyter-widgets/base",
            "_view_module_version": "1.2.0",
            "_view_name": "StyleView",
            "description_width": ""
          }
        },
        "31b2bbff19ab448fb6aed456fc85080f": {
          "model_module": "@jupyter-widgets/controls",
          "model_name": "HBoxModel",
          "model_module_version": "1.5.0",
          "state": {
            "_dom_classes": [],
            "_model_module": "@jupyter-widgets/controls",
            "_model_module_version": "1.5.0",
            "_model_name": "HBoxModel",
            "_view_count": null,
            "_view_module": "@jupyter-widgets/controls",
            "_view_module_version": "1.5.0",
            "_view_name": "HBoxView",
            "box_style": "",
            "children": [
              "IPY_MODEL_285167275cff4073b33c2e8118a9d49c",
              "IPY_MODEL_a045afb2a73d43de9db417105b7271cf",
              "IPY_MODEL_39866e5bf40e4f83a43439edf9f62847"
            ],
            "layout": "IPY_MODEL_f6583cd41c4c483cb4959544ce009693"
          }
        },
        "285167275cff4073b33c2e8118a9d49c": {
          "model_module": "@jupyter-widgets/controls",
          "model_name": "HTMLModel",
          "model_module_version": "1.5.0",
          "state": {
            "_dom_classes": [],
            "_model_module": "@jupyter-widgets/controls",
            "_model_module_version": "1.5.0",
            "_model_name": "HTMLModel",
            "_view_count": null,
            "_view_module": "@jupyter-widgets/controls",
            "_view_module_version": "1.5.0",
            "_view_name": "HTMLView",
            "description": "",
            "description_tooltip": null,
            "layout": "IPY_MODEL_d08b60d85f5f4138b523cc64a346fd14",
            "placeholder": "​",
            "style": "IPY_MODEL_21af602561514b81ad1990675d3789e5",
            "value": "Downloading (…)&quot;pytorch_model.bin&quot;;: 100%"
          }
        },
        "a045afb2a73d43de9db417105b7271cf": {
          "model_module": "@jupyter-widgets/controls",
          "model_name": "FloatProgressModel",
          "model_module_version": "1.5.0",
          "state": {
            "_dom_classes": [],
            "_model_module": "@jupyter-widgets/controls",
            "_model_module_version": "1.5.0",
            "_model_name": "FloatProgressModel",
            "_view_count": null,
            "_view_module": "@jupyter-widgets/controls",
            "_view_module_version": "1.5.0",
            "_view_name": "ProgressView",
            "bar_style": "success",
            "description": "",
            "description_tooltip": null,
            "layout": "IPY_MODEL_305acfc3719749d8a4d27963dda5b0a7",
            "max": 470693617,
            "min": 0,
            "orientation": "horizontal",
            "style": "IPY_MODEL_d127ab6aade042eeb7eb4091aeb31b62",
            "value": 470693617
          }
        },
        "39866e5bf40e4f83a43439edf9f62847": {
          "model_module": "@jupyter-widgets/controls",
          "model_name": "HTMLModel",
          "model_module_version": "1.5.0",
          "state": {
            "_dom_classes": [],
            "_model_module": "@jupyter-widgets/controls",
            "_model_module_version": "1.5.0",
            "_model_name": "HTMLModel",
            "_view_count": null,
            "_view_module": "@jupyter-widgets/controls",
            "_view_module_version": "1.5.0",
            "_view_name": "HTMLView",
            "description": "",
            "description_tooltip": null,
            "layout": "IPY_MODEL_294f0e6217d243b4917bd61736966d56",
            "placeholder": "​",
            "style": "IPY_MODEL_65e154e6402b4c04804f699893320f20",
            "value": " 471M/471M [00:01&lt;00:00, 265MB/s]"
          }
        },
        "f6583cd41c4c483cb4959544ce009693": {
          "model_module": "@jupyter-widgets/base",
          "model_name": "LayoutModel",
          "model_module_version": "1.2.0",
          "state": {
            "_model_module": "@jupyter-widgets/base",
            "_model_module_version": "1.2.0",
            "_model_name": "LayoutModel",
            "_view_count": null,
            "_view_module": "@jupyter-widgets/base",
            "_view_module_version": "1.2.0",
            "_view_name": "LayoutView",
            "align_content": null,
            "align_items": null,
            "align_self": null,
            "border": null,
            "bottom": null,
            "display": null,
            "flex": null,
            "flex_flow": null,
            "grid_area": null,
            "grid_auto_columns": null,
            "grid_auto_flow": null,
            "grid_auto_rows": null,
            "grid_column": null,
            "grid_gap": null,
            "grid_row": null,
            "grid_template_areas": null,
            "grid_template_columns": null,
            "grid_template_rows": null,
            "height": null,
            "justify_content": null,
            "justify_items": null,
            "left": null,
            "margin": null,
            "max_height": null,
            "max_width": null,
            "min_height": null,
            "min_width": null,
            "object_fit": null,
            "object_position": null,
            "order": null,
            "overflow": null,
            "overflow_x": null,
            "overflow_y": null,
            "padding": null,
            "right": null,
            "top": null,
            "visibility": null,
            "width": null
          }
        },
        "d08b60d85f5f4138b523cc64a346fd14": {
          "model_module": "@jupyter-widgets/base",
          "model_name": "LayoutModel",
          "model_module_version": "1.2.0",
          "state": {
            "_model_module": "@jupyter-widgets/base",
            "_model_module_version": "1.2.0",
            "_model_name": "LayoutModel",
            "_view_count": null,
            "_view_module": "@jupyter-widgets/base",
            "_view_module_version": "1.2.0",
            "_view_name": "LayoutView",
            "align_content": null,
            "align_items": null,
            "align_self": null,
            "border": null,
            "bottom": null,
            "display": null,
            "flex": null,
            "flex_flow": null,
            "grid_area": null,
            "grid_auto_columns": null,
            "grid_auto_flow": null,
            "grid_auto_rows": null,
            "grid_column": null,
            "grid_gap": null,
            "grid_row": null,
            "grid_template_areas": null,
            "grid_template_columns": null,
            "grid_template_rows": null,
            "height": null,
            "justify_content": null,
            "justify_items": null,
            "left": null,
            "margin": null,
            "max_height": null,
            "max_width": null,
            "min_height": null,
            "min_width": null,
            "object_fit": null,
            "object_position": null,
            "order": null,
            "overflow": null,
            "overflow_x": null,
            "overflow_y": null,
            "padding": null,
            "right": null,
            "top": null,
            "visibility": null,
            "width": null
          }
        },
        "21af602561514b81ad1990675d3789e5": {
          "model_module": "@jupyter-widgets/controls",
          "model_name": "DescriptionStyleModel",
          "model_module_version": "1.5.0",
          "state": {
            "_model_module": "@jupyter-widgets/controls",
            "_model_module_version": "1.5.0",
            "_model_name": "DescriptionStyleModel",
            "_view_count": null,
            "_view_module": "@jupyter-widgets/base",
            "_view_module_version": "1.2.0",
            "_view_name": "StyleView",
            "description_width": ""
          }
        },
        "305acfc3719749d8a4d27963dda5b0a7": {
          "model_module": "@jupyter-widgets/base",
          "model_name": "LayoutModel",
          "model_module_version": "1.2.0",
          "state": {
            "_model_module": "@jupyter-widgets/base",
            "_model_module_version": "1.2.0",
            "_model_name": "LayoutModel",
            "_view_count": null,
            "_view_module": "@jupyter-widgets/base",
            "_view_module_version": "1.2.0",
            "_view_name": "LayoutView",
            "align_content": null,
            "align_items": null,
            "align_self": null,
            "border": null,
            "bottom": null,
            "display": null,
            "flex": null,
            "flex_flow": null,
            "grid_area": null,
            "grid_auto_columns": null,
            "grid_auto_flow": null,
            "grid_auto_rows": null,
            "grid_column": null,
            "grid_gap": null,
            "grid_row": null,
            "grid_template_areas": null,
            "grid_template_columns": null,
            "grid_template_rows": null,
            "height": null,
            "justify_content": null,
            "justify_items": null,
            "left": null,
            "margin": null,
            "max_height": null,
            "max_width": null,
            "min_height": null,
            "min_width": null,
            "object_fit": null,
            "object_position": null,
            "order": null,
            "overflow": null,
            "overflow_x": null,
            "overflow_y": null,
            "padding": null,
            "right": null,
            "top": null,
            "visibility": null,
            "width": null
          }
        },
        "d127ab6aade042eeb7eb4091aeb31b62": {
          "model_module": "@jupyter-widgets/controls",
          "model_name": "ProgressStyleModel",
          "model_module_version": "1.5.0",
          "state": {
            "_model_module": "@jupyter-widgets/controls",
            "_model_module_version": "1.5.0",
            "_model_name": "ProgressStyleModel",
            "_view_count": null,
            "_view_module": "@jupyter-widgets/base",
            "_view_module_version": "1.2.0",
            "_view_name": "StyleView",
            "bar_color": null,
            "description_width": ""
          }
        },
        "294f0e6217d243b4917bd61736966d56": {
          "model_module": "@jupyter-widgets/base",
          "model_name": "LayoutModel",
          "model_module_version": "1.2.0",
          "state": {
            "_model_module": "@jupyter-widgets/base",
            "_model_module_version": "1.2.0",
            "_model_name": "LayoutModel",
            "_view_count": null,
            "_view_module": "@jupyter-widgets/base",
            "_view_module_version": "1.2.0",
            "_view_name": "LayoutView",
            "align_content": null,
            "align_items": null,
            "align_self": null,
            "border": null,
            "bottom": null,
            "display": null,
            "flex": null,
            "flex_flow": null,
            "grid_area": null,
            "grid_auto_columns": null,
            "grid_auto_flow": null,
            "grid_auto_rows": null,
            "grid_column": null,
            "grid_gap": null,
            "grid_row": null,
            "grid_template_areas": null,
            "grid_template_columns": null,
            "grid_template_rows": null,
            "height": null,
            "justify_content": null,
            "justify_items": null,
            "left": null,
            "margin": null,
            "max_height": null,
            "max_width": null,
            "min_height": null,
            "min_width": null,
            "object_fit": null,
            "object_position": null,
            "order": null,
            "overflow": null,
            "overflow_x": null,
            "overflow_y": null,
            "padding": null,
            "right": null,
            "top": null,
            "visibility": null,
            "width": null
          }
        },
        "65e154e6402b4c04804f699893320f20": {
          "model_module": "@jupyter-widgets/controls",
          "model_name": "DescriptionStyleModel",
          "model_module_version": "1.5.0",
          "state": {
            "_model_module": "@jupyter-widgets/controls",
            "_model_module_version": "1.5.0",
            "_model_name": "DescriptionStyleModel",
            "_view_count": null,
            "_view_module": "@jupyter-widgets/base",
            "_view_module_version": "1.2.0",
            "_view_name": "StyleView",
            "description_width": ""
          }
        },
        "2350af6a6c0a4ad19c5dbeee1ae802e8": {
          "model_module": "@jupyter-widgets/controls",
          "model_name": "HBoxModel",
          "model_module_version": "1.5.0",
          "state": {
            "_dom_classes": [],
            "_model_module": "@jupyter-widgets/controls",
            "_model_module_version": "1.5.0",
            "_model_name": "HBoxModel",
            "_view_count": null,
            "_view_module": "@jupyter-widgets/controls",
            "_view_module_version": "1.5.0",
            "_view_name": "HBoxView",
            "box_style": "",
            "children": [
              "IPY_MODEL_2d4558664b204f6287bfef57d36601b5",
              "IPY_MODEL_de875c9270a64c52aea9306e35001c51",
              "IPY_MODEL_333756e483824cfca778b5b375b04a83"
            ],
            "layout": "IPY_MODEL_2f4c078dbd5d4015a90ffd8879b6064f"
          }
        },
        "2d4558664b204f6287bfef57d36601b5": {
          "model_module": "@jupyter-widgets/controls",
          "model_name": "HTMLModel",
          "model_module_version": "1.5.0",
          "state": {
            "_dom_classes": [],
            "_model_module": "@jupyter-widgets/controls",
            "_model_module_version": "1.5.0",
            "_model_name": "HTMLModel",
            "_view_count": null,
            "_view_module": "@jupyter-widgets/controls",
            "_view_module_version": "1.5.0",
            "_view_name": "HTMLView",
            "description": "",
            "description_tooltip": null,
            "layout": "IPY_MODEL_0d915663b8154bbcaab25f83ee28cf0a",
            "placeholder": "​",
            "style": "IPY_MODEL_0024f722b5084231bf8467e730b48b7c",
            "value": "Downloading (…)nce_bert_config.json: 100%"
          }
        },
        "de875c9270a64c52aea9306e35001c51": {
          "model_module": "@jupyter-widgets/controls",
          "model_name": "FloatProgressModel",
          "model_module_version": "1.5.0",
          "state": {
            "_dom_classes": [],
            "_model_module": "@jupyter-widgets/controls",
            "_model_module_version": "1.5.0",
            "_model_name": "FloatProgressModel",
            "_view_count": null,
            "_view_module": "@jupyter-widgets/controls",
            "_view_module_version": "1.5.0",
            "_view_name": "ProgressView",
            "bar_style": "success",
            "description": "",
            "description_tooltip": null,
            "layout": "IPY_MODEL_7f5c5c82f2f04df89ac16fbcd9bc92b1",
            "max": 53,
            "min": 0,
            "orientation": "horizontal",
            "style": "IPY_MODEL_cac859b3113c4ac39947ab43a879990f",
            "value": 53
          }
        },
        "333756e483824cfca778b5b375b04a83": {
          "model_module": "@jupyter-widgets/controls",
          "model_name": "HTMLModel",
          "model_module_version": "1.5.0",
          "state": {
            "_dom_classes": [],
            "_model_module": "@jupyter-widgets/controls",
            "_model_module_version": "1.5.0",
            "_model_name": "HTMLModel",
            "_view_count": null,
            "_view_module": "@jupyter-widgets/controls",
            "_view_module_version": "1.5.0",
            "_view_name": "HTMLView",
            "description": "",
            "description_tooltip": null,
            "layout": "IPY_MODEL_89dc14f94904492287b90f805bfb79e1",
            "placeholder": "​",
            "style": "IPY_MODEL_5af90814b0cb485090449c1492e82033",
            "value": " 53.0/53.0 [00:00&lt;00:00, 3.53kB/s]"
          }
        },
        "2f4c078dbd5d4015a90ffd8879b6064f": {
          "model_module": "@jupyter-widgets/base",
          "model_name": "LayoutModel",
          "model_module_version": "1.2.0",
          "state": {
            "_model_module": "@jupyter-widgets/base",
            "_model_module_version": "1.2.0",
            "_model_name": "LayoutModel",
            "_view_count": null,
            "_view_module": "@jupyter-widgets/base",
            "_view_module_version": "1.2.0",
            "_view_name": "LayoutView",
            "align_content": null,
            "align_items": null,
            "align_self": null,
            "border": null,
            "bottom": null,
            "display": null,
            "flex": null,
            "flex_flow": null,
            "grid_area": null,
            "grid_auto_columns": null,
            "grid_auto_flow": null,
            "grid_auto_rows": null,
            "grid_column": null,
            "grid_gap": null,
            "grid_row": null,
            "grid_template_areas": null,
            "grid_template_columns": null,
            "grid_template_rows": null,
            "height": null,
            "justify_content": null,
            "justify_items": null,
            "left": null,
            "margin": null,
            "max_height": null,
            "max_width": null,
            "min_height": null,
            "min_width": null,
            "object_fit": null,
            "object_position": null,
            "order": null,
            "overflow": null,
            "overflow_x": null,
            "overflow_y": null,
            "padding": null,
            "right": null,
            "top": null,
            "visibility": null,
            "width": null
          }
        },
        "0d915663b8154bbcaab25f83ee28cf0a": {
          "model_module": "@jupyter-widgets/base",
          "model_name": "LayoutModel",
          "model_module_version": "1.2.0",
          "state": {
            "_model_module": "@jupyter-widgets/base",
            "_model_module_version": "1.2.0",
            "_model_name": "LayoutModel",
            "_view_count": null,
            "_view_module": "@jupyter-widgets/base",
            "_view_module_version": "1.2.0",
            "_view_name": "LayoutView",
            "align_content": null,
            "align_items": null,
            "align_self": null,
            "border": null,
            "bottom": null,
            "display": null,
            "flex": null,
            "flex_flow": null,
            "grid_area": null,
            "grid_auto_columns": null,
            "grid_auto_flow": null,
            "grid_auto_rows": null,
            "grid_column": null,
            "grid_gap": null,
            "grid_row": null,
            "grid_template_areas": null,
            "grid_template_columns": null,
            "grid_template_rows": null,
            "height": null,
            "justify_content": null,
            "justify_items": null,
            "left": null,
            "margin": null,
            "max_height": null,
            "max_width": null,
            "min_height": null,
            "min_width": null,
            "object_fit": null,
            "object_position": null,
            "order": null,
            "overflow": null,
            "overflow_x": null,
            "overflow_y": null,
            "padding": null,
            "right": null,
            "top": null,
            "visibility": null,
            "width": null
          }
        },
        "0024f722b5084231bf8467e730b48b7c": {
          "model_module": "@jupyter-widgets/controls",
          "model_name": "DescriptionStyleModel",
          "model_module_version": "1.5.0",
          "state": {
            "_model_module": "@jupyter-widgets/controls",
            "_model_module_version": "1.5.0",
            "_model_name": "DescriptionStyleModel",
            "_view_count": null,
            "_view_module": "@jupyter-widgets/base",
            "_view_module_version": "1.2.0",
            "_view_name": "StyleView",
            "description_width": ""
          }
        },
        "7f5c5c82f2f04df89ac16fbcd9bc92b1": {
          "model_module": "@jupyter-widgets/base",
          "model_name": "LayoutModel",
          "model_module_version": "1.2.0",
          "state": {
            "_model_module": "@jupyter-widgets/base",
            "_model_module_version": "1.2.0",
            "_model_name": "LayoutModel",
            "_view_count": null,
            "_view_module": "@jupyter-widgets/base",
            "_view_module_version": "1.2.0",
            "_view_name": "LayoutView",
            "align_content": null,
            "align_items": null,
            "align_self": null,
            "border": null,
            "bottom": null,
            "display": null,
            "flex": null,
            "flex_flow": null,
            "grid_area": null,
            "grid_auto_columns": null,
            "grid_auto_flow": null,
            "grid_auto_rows": null,
            "grid_column": null,
            "grid_gap": null,
            "grid_row": null,
            "grid_template_areas": null,
            "grid_template_columns": null,
            "grid_template_rows": null,
            "height": null,
            "justify_content": null,
            "justify_items": null,
            "left": null,
            "margin": null,
            "max_height": null,
            "max_width": null,
            "min_height": null,
            "min_width": null,
            "object_fit": null,
            "object_position": null,
            "order": null,
            "overflow": null,
            "overflow_x": null,
            "overflow_y": null,
            "padding": null,
            "right": null,
            "top": null,
            "visibility": null,
            "width": null
          }
        },
        "cac859b3113c4ac39947ab43a879990f": {
          "model_module": "@jupyter-widgets/controls",
          "model_name": "ProgressStyleModel",
          "model_module_version": "1.5.0",
          "state": {
            "_model_module": "@jupyter-widgets/controls",
            "_model_module_version": "1.5.0",
            "_model_name": "ProgressStyleModel",
            "_view_count": null,
            "_view_module": "@jupyter-widgets/base",
            "_view_module_version": "1.2.0",
            "_view_name": "StyleView",
            "bar_color": null,
            "description_width": ""
          }
        },
        "89dc14f94904492287b90f805bfb79e1": {
          "model_module": "@jupyter-widgets/base",
          "model_name": "LayoutModel",
          "model_module_version": "1.2.0",
          "state": {
            "_model_module": "@jupyter-widgets/base",
            "_model_module_version": "1.2.0",
            "_model_name": "LayoutModel",
            "_view_count": null,
            "_view_module": "@jupyter-widgets/base",
            "_view_module_version": "1.2.0",
            "_view_name": "LayoutView",
            "align_content": null,
            "align_items": null,
            "align_self": null,
            "border": null,
            "bottom": null,
            "display": null,
            "flex": null,
            "flex_flow": null,
            "grid_area": null,
            "grid_auto_columns": null,
            "grid_auto_flow": null,
            "grid_auto_rows": null,
            "grid_column": null,
            "grid_gap": null,
            "grid_row": null,
            "grid_template_areas": null,
            "grid_template_columns": null,
            "grid_template_rows": null,
            "height": null,
            "justify_content": null,
            "justify_items": null,
            "left": null,
            "margin": null,
            "max_height": null,
            "max_width": null,
            "min_height": null,
            "min_width": null,
            "object_fit": null,
            "object_position": null,
            "order": null,
            "overflow": null,
            "overflow_x": null,
            "overflow_y": null,
            "padding": null,
            "right": null,
            "top": null,
            "visibility": null,
            "width": null
          }
        },
        "5af90814b0cb485090449c1492e82033": {
          "model_module": "@jupyter-widgets/controls",
          "model_name": "DescriptionStyleModel",
          "model_module_version": "1.5.0",
          "state": {
            "_model_module": "@jupyter-widgets/controls",
            "_model_module_version": "1.5.0",
            "_model_name": "DescriptionStyleModel",
            "_view_count": null,
            "_view_module": "@jupyter-widgets/base",
            "_view_module_version": "1.2.0",
            "_view_name": "StyleView",
            "description_width": ""
          }
        },
        "eda5f5177a8f46ccbc069e0cacb1a5c1": {
          "model_module": "@jupyter-widgets/controls",
          "model_name": "HBoxModel",
          "model_module_version": "1.5.0",
          "state": {
            "_dom_classes": [],
            "_model_module": "@jupyter-widgets/controls",
            "_model_module_version": "1.5.0",
            "_model_name": "HBoxModel",
            "_view_count": null,
            "_view_module": "@jupyter-widgets/controls",
            "_view_module_version": "1.5.0",
            "_view_name": "HBoxView",
            "box_style": "",
            "children": [
              "IPY_MODEL_a373803ba9114b2a85b8e4ec0a22b42c",
              "IPY_MODEL_dbee6a9e7ab44e769eca9a7e62ea78dd",
              "IPY_MODEL_43385a0ce99b4fd6ac8d13b81627e769"
            ],
            "layout": "IPY_MODEL_283bced1a1154779afe9b00957b0ff9d"
          }
        },
        "a373803ba9114b2a85b8e4ec0a22b42c": {
          "model_module": "@jupyter-widgets/controls",
          "model_name": "HTMLModel",
          "model_module_version": "1.5.0",
          "state": {
            "_dom_classes": [],
            "_model_module": "@jupyter-widgets/controls",
            "_model_module_version": "1.5.0",
            "_model_name": "HTMLModel",
            "_view_count": null,
            "_view_module": "@jupyter-widgets/controls",
            "_view_module_version": "1.5.0",
            "_view_name": "HTMLView",
            "description": "",
            "description_tooltip": null,
            "layout": "IPY_MODEL_e2943d52e134449289db82794f77ce69",
            "placeholder": "​",
            "style": "IPY_MODEL_b462ec243cea4540a583c53c9834e59f",
            "value": "Downloading (…)ncepiece.bpe.model&quot;;: 100%"
          }
        },
        "dbee6a9e7ab44e769eca9a7e62ea78dd": {
          "model_module": "@jupyter-widgets/controls",
          "model_name": "FloatProgressModel",
          "model_module_version": "1.5.0",
          "state": {
            "_dom_classes": [],
            "_model_module": "@jupyter-widgets/controls",
            "_model_module_version": "1.5.0",
            "_model_name": "FloatProgressModel",
            "_view_count": null,
            "_view_module": "@jupyter-widgets/controls",
            "_view_module_version": "1.5.0",
            "_view_name": "ProgressView",
            "bar_style": "success",
            "description": "",
            "description_tooltip": null,
            "layout": "IPY_MODEL_2677ad301829421bbca53a20a5ed75e9",
            "max": 5069051,
            "min": 0,
            "orientation": "horizontal",
            "style": "IPY_MODEL_c901ad7914c146b78ee9bec4b4b6536e",
            "value": 5069051
          }
        },
        "43385a0ce99b4fd6ac8d13b81627e769": {
          "model_module": "@jupyter-widgets/controls",
          "model_name": "HTMLModel",
          "model_module_version": "1.5.0",
          "state": {
            "_dom_classes": [],
            "_model_module": "@jupyter-widgets/controls",
            "_model_module_version": "1.5.0",
            "_model_name": "HTMLModel",
            "_view_count": null,
            "_view_module": "@jupyter-widgets/controls",
            "_view_module_version": "1.5.0",
            "_view_name": "HTMLView",
            "description": "",
            "description_tooltip": null,
            "layout": "IPY_MODEL_ec900dd6c546450cad634f9882434b2e",
            "placeholder": "​",
            "style": "IPY_MODEL_ca7994cda17b45fbbaa15a7787a43cd8",
            "value": " 5.07M/5.07M [00:00&lt;00:00, 106MB/s]"
          }
        },
        "283bced1a1154779afe9b00957b0ff9d": {
          "model_module": "@jupyter-widgets/base",
          "model_name": "LayoutModel",
          "model_module_version": "1.2.0",
          "state": {
            "_model_module": "@jupyter-widgets/base",
            "_model_module_version": "1.2.0",
            "_model_name": "LayoutModel",
            "_view_count": null,
            "_view_module": "@jupyter-widgets/base",
            "_view_module_version": "1.2.0",
            "_view_name": "LayoutView",
            "align_content": null,
            "align_items": null,
            "align_self": null,
            "border": null,
            "bottom": null,
            "display": null,
            "flex": null,
            "flex_flow": null,
            "grid_area": null,
            "grid_auto_columns": null,
            "grid_auto_flow": null,
            "grid_auto_rows": null,
            "grid_column": null,
            "grid_gap": null,
            "grid_row": null,
            "grid_template_areas": null,
            "grid_template_columns": null,
            "grid_template_rows": null,
            "height": null,
            "justify_content": null,
            "justify_items": null,
            "left": null,
            "margin": null,
            "max_height": null,
            "max_width": null,
            "min_height": null,
            "min_width": null,
            "object_fit": null,
            "object_position": null,
            "order": null,
            "overflow": null,
            "overflow_x": null,
            "overflow_y": null,
            "padding": null,
            "right": null,
            "top": null,
            "visibility": null,
            "width": null
          }
        },
        "e2943d52e134449289db82794f77ce69": {
          "model_module": "@jupyter-widgets/base",
          "model_name": "LayoutModel",
          "model_module_version": "1.2.0",
          "state": {
            "_model_module": "@jupyter-widgets/base",
            "_model_module_version": "1.2.0",
            "_model_name": "LayoutModel",
            "_view_count": null,
            "_view_module": "@jupyter-widgets/base",
            "_view_module_version": "1.2.0",
            "_view_name": "LayoutView",
            "align_content": null,
            "align_items": null,
            "align_self": null,
            "border": null,
            "bottom": null,
            "display": null,
            "flex": null,
            "flex_flow": null,
            "grid_area": null,
            "grid_auto_columns": null,
            "grid_auto_flow": null,
            "grid_auto_rows": null,
            "grid_column": null,
            "grid_gap": null,
            "grid_row": null,
            "grid_template_areas": null,
            "grid_template_columns": null,
            "grid_template_rows": null,
            "height": null,
            "justify_content": null,
            "justify_items": null,
            "left": null,
            "margin": null,
            "max_height": null,
            "max_width": null,
            "min_height": null,
            "min_width": null,
            "object_fit": null,
            "object_position": null,
            "order": null,
            "overflow": null,
            "overflow_x": null,
            "overflow_y": null,
            "padding": null,
            "right": null,
            "top": null,
            "visibility": null,
            "width": null
          }
        },
        "b462ec243cea4540a583c53c9834e59f": {
          "model_module": "@jupyter-widgets/controls",
          "model_name": "DescriptionStyleModel",
          "model_module_version": "1.5.0",
          "state": {
            "_model_module": "@jupyter-widgets/controls",
            "_model_module_version": "1.5.0",
            "_model_name": "DescriptionStyleModel",
            "_view_count": null,
            "_view_module": "@jupyter-widgets/base",
            "_view_module_version": "1.2.0",
            "_view_name": "StyleView",
            "description_width": ""
          }
        },
        "2677ad301829421bbca53a20a5ed75e9": {
          "model_module": "@jupyter-widgets/base",
          "model_name": "LayoutModel",
          "model_module_version": "1.2.0",
          "state": {
            "_model_module": "@jupyter-widgets/base",
            "_model_module_version": "1.2.0",
            "_model_name": "LayoutModel",
            "_view_count": null,
            "_view_module": "@jupyter-widgets/base",
            "_view_module_version": "1.2.0",
            "_view_name": "LayoutView",
            "align_content": null,
            "align_items": null,
            "align_self": null,
            "border": null,
            "bottom": null,
            "display": null,
            "flex": null,
            "flex_flow": null,
            "grid_area": null,
            "grid_auto_columns": null,
            "grid_auto_flow": null,
            "grid_auto_rows": null,
            "grid_column": null,
            "grid_gap": null,
            "grid_row": null,
            "grid_template_areas": null,
            "grid_template_columns": null,
            "grid_template_rows": null,
            "height": null,
            "justify_content": null,
            "justify_items": null,
            "left": null,
            "margin": null,
            "max_height": null,
            "max_width": null,
            "min_height": null,
            "min_width": null,
            "object_fit": null,
            "object_position": null,
            "order": null,
            "overflow": null,
            "overflow_x": null,
            "overflow_y": null,
            "padding": null,
            "right": null,
            "top": null,
            "visibility": null,
            "width": null
          }
        },
        "c901ad7914c146b78ee9bec4b4b6536e": {
          "model_module": "@jupyter-widgets/controls",
          "model_name": "ProgressStyleModel",
          "model_module_version": "1.5.0",
          "state": {
            "_model_module": "@jupyter-widgets/controls",
            "_model_module_version": "1.5.0",
            "_model_name": "ProgressStyleModel",
            "_view_count": null,
            "_view_module": "@jupyter-widgets/base",
            "_view_module_version": "1.2.0",
            "_view_name": "StyleView",
            "bar_color": null,
            "description_width": ""
          }
        },
        "ec900dd6c546450cad634f9882434b2e": {
          "model_module": "@jupyter-widgets/base",
          "model_name": "LayoutModel",
          "model_module_version": "1.2.0",
          "state": {
            "_model_module": "@jupyter-widgets/base",
            "_model_module_version": "1.2.0",
            "_model_name": "LayoutModel",
            "_view_count": null,
            "_view_module": "@jupyter-widgets/base",
            "_view_module_version": "1.2.0",
            "_view_name": "LayoutView",
            "align_content": null,
            "align_items": null,
            "align_self": null,
            "border": null,
            "bottom": null,
            "display": null,
            "flex": null,
            "flex_flow": null,
            "grid_area": null,
            "grid_auto_columns": null,
            "grid_auto_flow": null,
            "grid_auto_rows": null,
            "grid_column": null,
            "grid_gap": null,
            "grid_row": null,
            "grid_template_areas": null,
            "grid_template_columns": null,
            "grid_template_rows": null,
            "height": null,
            "justify_content": null,
            "justify_items": null,
            "left": null,
            "margin": null,
            "max_height": null,
            "max_width": null,
            "min_height": null,
            "min_width": null,
            "object_fit": null,
            "object_position": null,
            "order": null,
            "overflow": null,
            "overflow_x": null,
            "overflow_y": null,
            "padding": null,
            "right": null,
            "top": null,
            "visibility": null,
            "width": null
          }
        },
        "ca7994cda17b45fbbaa15a7787a43cd8": {
          "model_module": "@jupyter-widgets/controls",
          "model_name": "DescriptionStyleModel",
          "model_module_version": "1.5.0",
          "state": {
            "_model_module": "@jupyter-widgets/controls",
            "_model_module_version": "1.5.0",
            "_model_name": "DescriptionStyleModel",
            "_view_count": null,
            "_view_module": "@jupyter-widgets/base",
            "_view_module_version": "1.2.0",
            "_view_name": "StyleView",
            "description_width": ""
          }
        },
        "237e45c96b35440b98ace858367f32a7": {
          "model_module": "@jupyter-widgets/controls",
          "model_name": "HBoxModel",
          "model_module_version": "1.5.0",
          "state": {
            "_dom_classes": [],
            "_model_module": "@jupyter-widgets/controls",
            "_model_module_version": "1.5.0",
            "_model_name": "HBoxModel",
            "_view_count": null,
            "_view_module": "@jupyter-widgets/controls",
            "_view_module_version": "1.5.0",
            "_view_name": "HBoxView",
            "box_style": "",
            "children": [
              "IPY_MODEL_e2bc8e75ece4496594c0598d7a2fbabc",
              "IPY_MODEL_538c5715dcb442568ea2577b675a8254",
              "IPY_MODEL_d6f34ffe60d341e6a93b58c0b7815857"
            ],
            "layout": "IPY_MODEL_09d1eb3686774be091ab3e3578e2bd55"
          }
        },
        "e2bc8e75ece4496594c0598d7a2fbabc": {
          "model_module": "@jupyter-widgets/controls",
          "model_name": "HTMLModel",
          "model_module_version": "1.5.0",
          "state": {
            "_dom_classes": [],
            "_model_module": "@jupyter-widgets/controls",
            "_model_module_version": "1.5.0",
            "_model_name": "HTMLModel",
            "_view_count": null,
            "_view_module": "@jupyter-widgets/controls",
            "_view_module_version": "1.5.0",
            "_view_name": "HTMLView",
            "description": "",
            "description_tooltip": null,
            "layout": "IPY_MODEL_eb7127f5b7b94063b913d52126b26824",
            "placeholder": "​",
            "style": "IPY_MODEL_5f3369e147e4422f9ef910321162e2ad",
            "value": "Downloading (…)cial_tokens_map.json: 100%"
          }
        },
        "538c5715dcb442568ea2577b675a8254": {
          "model_module": "@jupyter-widgets/controls",
          "model_name": "FloatProgressModel",
          "model_module_version": "1.5.0",
          "state": {
            "_dom_classes": [],
            "_model_module": "@jupyter-widgets/controls",
            "_model_module_version": "1.5.0",
            "_model_name": "FloatProgressModel",
            "_view_count": null,
            "_view_module": "@jupyter-widgets/controls",
            "_view_module_version": "1.5.0",
            "_view_name": "ProgressView",
            "bar_style": "success",
            "description": "",
            "description_tooltip": null,
            "layout": "IPY_MODEL_694e40bc339649fd8036a1e1a123d4a1",
            "max": 239,
            "min": 0,
            "orientation": "horizontal",
            "style": "IPY_MODEL_06195b182dfb48af849e66e36a31920d",
            "value": 239
          }
        },
        "d6f34ffe60d341e6a93b58c0b7815857": {
          "model_module": "@jupyter-widgets/controls",
          "model_name": "HTMLModel",
          "model_module_version": "1.5.0",
          "state": {
            "_dom_classes": [],
            "_model_module": "@jupyter-widgets/controls",
            "_model_module_version": "1.5.0",
            "_model_name": "HTMLModel",
            "_view_count": null,
            "_view_module": "@jupyter-widgets/controls",
            "_view_module_version": "1.5.0",
            "_view_name": "HTMLView",
            "description": "",
            "description_tooltip": null,
            "layout": "IPY_MODEL_64f7a8aed961496dbf02e27a2e8df759",
            "placeholder": "​",
            "style": "IPY_MODEL_ab5d1280c5654b45a2600b8777e34652",
            "value": " 239/239 [00:00&lt;00:00, 10.5kB/s]"
          }
        },
        "09d1eb3686774be091ab3e3578e2bd55": {
          "model_module": "@jupyter-widgets/base",
          "model_name": "LayoutModel",
          "model_module_version": "1.2.0",
          "state": {
            "_model_module": "@jupyter-widgets/base",
            "_model_module_version": "1.2.0",
            "_model_name": "LayoutModel",
            "_view_count": null,
            "_view_module": "@jupyter-widgets/base",
            "_view_module_version": "1.2.0",
            "_view_name": "LayoutView",
            "align_content": null,
            "align_items": null,
            "align_self": null,
            "border": null,
            "bottom": null,
            "display": null,
            "flex": null,
            "flex_flow": null,
            "grid_area": null,
            "grid_auto_columns": null,
            "grid_auto_flow": null,
            "grid_auto_rows": null,
            "grid_column": null,
            "grid_gap": null,
            "grid_row": null,
            "grid_template_areas": null,
            "grid_template_columns": null,
            "grid_template_rows": null,
            "height": null,
            "justify_content": null,
            "justify_items": null,
            "left": null,
            "margin": null,
            "max_height": null,
            "max_width": null,
            "min_height": null,
            "min_width": null,
            "object_fit": null,
            "object_position": null,
            "order": null,
            "overflow": null,
            "overflow_x": null,
            "overflow_y": null,
            "padding": null,
            "right": null,
            "top": null,
            "visibility": null,
            "width": null
          }
        },
        "eb7127f5b7b94063b913d52126b26824": {
          "model_module": "@jupyter-widgets/base",
          "model_name": "LayoutModel",
          "model_module_version": "1.2.0",
          "state": {
            "_model_module": "@jupyter-widgets/base",
            "_model_module_version": "1.2.0",
            "_model_name": "LayoutModel",
            "_view_count": null,
            "_view_module": "@jupyter-widgets/base",
            "_view_module_version": "1.2.0",
            "_view_name": "LayoutView",
            "align_content": null,
            "align_items": null,
            "align_self": null,
            "border": null,
            "bottom": null,
            "display": null,
            "flex": null,
            "flex_flow": null,
            "grid_area": null,
            "grid_auto_columns": null,
            "grid_auto_flow": null,
            "grid_auto_rows": null,
            "grid_column": null,
            "grid_gap": null,
            "grid_row": null,
            "grid_template_areas": null,
            "grid_template_columns": null,
            "grid_template_rows": null,
            "height": null,
            "justify_content": null,
            "justify_items": null,
            "left": null,
            "margin": null,
            "max_height": null,
            "max_width": null,
            "min_height": null,
            "min_width": null,
            "object_fit": null,
            "object_position": null,
            "order": null,
            "overflow": null,
            "overflow_x": null,
            "overflow_y": null,
            "padding": null,
            "right": null,
            "top": null,
            "visibility": null,
            "width": null
          }
        },
        "5f3369e147e4422f9ef910321162e2ad": {
          "model_module": "@jupyter-widgets/controls",
          "model_name": "DescriptionStyleModel",
          "model_module_version": "1.5.0",
          "state": {
            "_model_module": "@jupyter-widgets/controls",
            "_model_module_version": "1.5.0",
            "_model_name": "DescriptionStyleModel",
            "_view_count": null,
            "_view_module": "@jupyter-widgets/base",
            "_view_module_version": "1.2.0",
            "_view_name": "StyleView",
            "description_width": ""
          }
        },
        "694e40bc339649fd8036a1e1a123d4a1": {
          "model_module": "@jupyter-widgets/base",
          "model_name": "LayoutModel",
          "model_module_version": "1.2.0",
          "state": {
            "_model_module": "@jupyter-widgets/base",
            "_model_module_version": "1.2.0",
            "_model_name": "LayoutModel",
            "_view_count": null,
            "_view_module": "@jupyter-widgets/base",
            "_view_module_version": "1.2.0",
            "_view_name": "LayoutView",
            "align_content": null,
            "align_items": null,
            "align_self": null,
            "border": null,
            "bottom": null,
            "display": null,
            "flex": null,
            "flex_flow": null,
            "grid_area": null,
            "grid_auto_columns": null,
            "grid_auto_flow": null,
            "grid_auto_rows": null,
            "grid_column": null,
            "grid_gap": null,
            "grid_row": null,
            "grid_template_areas": null,
            "grid_template_columns": null,
            "grid_template_rows": null,
            "height": null,
            "justify_content": null,
            "justify_items": null,
            "left": null,
            "margin": null,
            "max_height": null,
            "max_width": null,
            "min_height": null,
            "min_width": null,
            "object_fit": null,
            "object_position": null,
            "order": null,
            "overflow": null,
            "overflow_x": null,
            "overflow_y": null,
            "padding": null,
            "right": null,
            "top": null,
            "visibility": null,
            "width": null
          }
        },
        "06195b182dfb48af849e66e36a31920d": {
          "model_module": "@jupyter-widgets/controls",
          "model_name": "ProgressStyleModel",
          "model_module_version": "1.5.0",
          "state": {
            "_model_module": "@jupyter-widgets/controls",
            "_model_module_version": "1.5.0",
            "_model_name": "ProgressStyleModel",
            "_view_count": null,
            "_view_module": "@jupyter-widgets/base",
            "_view_module_version": "1.2.0",
            "_view_name": "StyleView",
            "bar_color": null,
            "description_width": ""
          }
        },
        "64f7a8aed961496dbf02e27a2e8df759": {
          "model_module": "@jupyter-widgets/base",
          "model_name": "LayoutModel",
          "model_module_version": "1.2.0",
          "state": {
            "_model_module": "@jupyter-widgets/base",
            "_model_module_version": "1.2.0",
            "_model_name": "LayoutModel",
            "_view_count": null,
            "_view_module": "@jupyter-widgets/base",
            "_view_module_version": "1.2.0",
            "_view_name": "LayoutView",
            "align_content": null,
            "align_items": null,
            "align_self": null,
            "border": null,
            "bottom": null,
            "display": null,
            "flex": null,
            "flex_flow": null,
            "grid_area": null,
            "grid_auto_columns": null,
            "grid_auto_flow": null,
            "grid_auto_rows": null,
            "grid_column": null,
            "grid_gap": null,
            "grid_row": null,
            "grid_template_areas": null,
            "grid_template_columns": null,
            "grid_template_rows": null,
            "height": null,
            "justify_content": null,
            "justify_items": null,
            "left": null,
            "margin": null,
            "max_height": null,
            "max_width": null,
            "min_height": null,
            "min_width": null,
            "object_fit": null,
            "object_position": null,
            "order": null,
            "overflow": null,
            "overflow_x": null,
            "overflow_y": null,
            "padding": null,
            "right": null,
            "top": null,
            "visibility": null,
            "width": null
          }
        },
        "ab5d1280c5654b45a2600b8777e34652": {
          "model_module": "@jupyter-widgets/controls",
          "model_name": "DescriptionStyleModel",
          "model_module_version": "1.5.0",
          "state": {
            "_model_module": "@jupyter-widgets/controls",
            "_model_module_version": "1.5.0",
            "_model_name": "DescriptionStyleModel",
            "_view_count": null,
            "_view_module": "@jupyter-widgets/base",
            "_view_module_version": "1.2.0",
            "_view_name": "StyleView",
            "description_width": ""
          }
        },
        "aff5c43ee1a848fd804d6a6656d266d3": {
          "model_module": "@jupyter-widgets/controls",
          "model_name": "HBoxModel",
          "model_module_version": "1.5.0",
          "state": {
            "_dom_classes": [],
            "_model_module": "@jupyter-widgets/controls",
            "_model_module_version": "1.5.0",
            "_model_name": "HBoxModel",
            "_view_count": null,
            "_view_module": "@jupyter-widgets/controls",
            "_view_module_version": "1.5.0",
            "_view_name": "HBoxView",
            "box_style": "",
            "children": [
              "IPY_MODEL_98a383c516014fa29c4b6a02c27d6dd3",
              "IPY_MODEL_bfb977aa91da4aa69d893bc577f62de8",
              "IPY_MODEL_a7e550e7c7304478a00316c182eeddde"
            ],
            "layout": "IPY_MODEL_dcc5f6775f8842bd883b71c67175bf8e"
          }
        },
        "98a383c516014fa29c4b6a02c27d6dd3": {
          "model_module": "@jupyter-widgets/controls",
          "model_name": "HTMLModel",
          "model_module_version": "1.5.0",
          "state": {
            "_dom_classes": [],
            "_model_module": "@jupyter-widgets/controls",
            "_model_module_version": "1.5.0",
            "_model_name": "HTMLModel",
            "_view_count": null,
            "_view_module": "@jupyter-widgets/controls",
            "_view_module_version": "1.5.0",
            "_view_name": "HTMLView",
            "description": "",
            "description_tooltip": null,
            "layout": "IPY_MODEL_6f1e763d2cd5499b8970e3f544169240",
            "placeholder": "​",
            "style": "IPY_MODEL_a454621907e647dfa13dcba24f66feee",
            "value": "Downloading (…)&quot;tokenizer.json&quot;;: 100%"
          }
        },
        "bfb977aa91da4aa69d893bc577f62de8": {
          "model_module": "@jupyter-widgets/controls",
          "model_name": "FloatProgressModel",
          "model_module_version": "1.5.0",
          "state": {
            "_dom_classes": [],
            "_model_module": "@jupyter-widgets/controls",
            "_model_module_version": "1.5.0",
            "_model_name": "FloatProgressModel",
            "_view_count": null,
            "_view_module": "@jupyter-widgets/controls",
            "_view_module_version": "1.5.0",
            "_view_name": "ProgressView",
            "bar_style": "success",
            "description": "",
            "description_tooltip": null,
            "layout": "IPY_MODEL_cbbb96a09bf44826be3cfe7df736774f",
            "max": 9081518,
            "min": 0,
            "orientation": "horizontal",
            "style": "IPY_MODEL_e1e0c897bdee4b72a4ad9df43cb2d16e",
            "value": 9081518
          }
        },
        "a7e550e7c7304478a00316c182eeddde": {
          "model_module": "@jupyter-widgets/controls",
          "model_name": "HTMLModel",
          "model_module_version": "1.5.0",
          "state": {
            "_dom_classes": [],
            "_model_module": "@jupyter-widgets/controls",
            "_model_module_version": "1.5.0",
            "_model_name": "HTMLModel",
            "_view_count": null,
            "_view_module": "@jupyter-widgets/controls",
            "_view_module_version": "1.5.0",
            "_view_name": "HTMLView",
            "description": "",
            "description_tooltip": null,
            "layout": "IPY_MODEL_f77c81fac2e44d7c846972d47e15370e",
            "placeholder": "​",
            "style": "IPY_MODEL_fd1e8f7a1abb488fbf315550415519a4",
            "value": " 9.08M/9.08M [00:00&lt;00:00, 172MB/s]"
          }
        },
        "dcc5f6775f8842bd883b71c67175bf8e": {
          "model_module": "@jupyter-widgets/base",
          "model_name": "LayoutModel",
          "model_module_version": "1.2.0",
          "state": {
            "_model_module": "@jupyter-widgets/base",
            "_model_module_version": "1.2.0",
            "_model_name": "LayoutModel",
            "_view_count": null,
            "_view_module": "@jupyter-widgets/base",
            "_view_module_version": "1.2.0",
            "_view_name": "LayoutView",
            "align_content": null,
            "align_items": null,
            "align_self": null,
            "border": null,
            "bottom": null,
            "display": null,
            "flex": null,
            "flex_flow": null,
            "grid_area": null,
            "grid_auto_columns": null,
            "grid_auto_flow": null,
            "grid_auto_rows": null,
            "grid_column": null,
            "grid_gap": null,
            "grid_row": null,
            "grid_template_areas": null,
            "grid_template_columns": null,
            "grid_template_rows": null,
            "height": null,
            "justify_content": null,
            "justify_items": null,
            "left": null,
            "margin": null,
            "max_height": null,
            "max_width": null,
            "min_height": null,
            "min_width": null,
            "object_fit": null,
            "object_position": null,
            "order": null,
            "overflow": null,
            "overflow_x": null,
            "overflow_y": null,
            "padding": null,
            "right": null,
            "top": null,
            "visibility": null,
            "width": null
          }
        },
        "6f1e763d2cd5499b8970e3f544169240": {
          "model_module": "@jupyter-widgets/base",
          "model_name": "LayoutModel",
          "model_module_version": "1.2.0",
          "state": {
            "_model_module": "@jupyter-widgets/base",
            "_model_module_version": "1.2.0",
            "_model_name": "LayoutModel",
            "_view_count": null,
            "_view_module": "@jupyter-widgets/base",
            "_view_module_version": "1.2.0",
            "_view_name": "LayoutView",
            "align_content": null,
            "align_items": null,
            "align_self": null,
            "border": null,
            "bottom": null,
            "display": null,
            "flex": null,
            "flex_flow": null,
            "grid_area": null,
            "grid_auto_columns": null,
            "grid_auto_flow": null,
            "grid_auto_rows": null,
            "grid_column": null,
            "grid_gap": null,
            "grid_row": null,
            "grid_template_areas": null,
            "grid_template_columns": null,
            "grid_template_rows": null,
            "height": null,
            "justify_content": null,
            "justify_items": null,
            "left": null,
            "margin": null,
            "max_height": null,
            "max_width": null,
            "min_height": null,
            "min_width": null,
            "object_fit": null,
            "object_position": null,
            "order": null,
            "overflow": null,
            "overflow_x": null,
            "overflow_y": null,
            "padding": null,
            "right": null,
            "top": null,
            "visibility": null,
            "width": null
          }
        },
        "a454621907e647dfa13dcba24f66feee": {
          "model_module": "@jupyter-widgets/controls",
          "model_name": "DescriptionStyleModel",
          "model_module_version": "1.5.0",
          "state": {
            "_model_module": "@jupyter-widgets/controls",
            "_model_module_version": "1.5.0",
            "_model_name": "DescriptionStyleModel",
            "_view_count": null,
            "_view_module": "@jupyter-widgets/base",
            "_view_module_version": "1.2.0",
            "_view_name": "StyleView",
            "description_width": ""
          }
        },
        "cbbb96a09bf44826be3cfe7df736774f": {
          "model_module": "@jupyter-widgets/base",
          "model_name": "LayoutModel",
          "model_module_version": "1.2.0",
          "state": {
            "_model_module": "@jupyter-widgets/base",
            "_model_module_version": "1.2.0",
            "_model_name": "LayoutModel",
            "_view_count": null,
            "_view_module": "@jupyter-widgets/base",
            "_view_module_version": "1.2.0",
            "_view_name": "LayoutView",
            "align_content": null,
            "align_items": null,
            "align_self": null,
            "border": null,
            "bottom": null,
            "display": null,
            "flex": null,
            "flex_flow": null,
            "grid_area": null,
            "grid_auto_columns": null,
            "grid_auto_flow": null,
            "grid_auto_rows": null,
            "grid_column": null,
            "grid_gap": null,
            "grid_row": null,
            "grid_template_areas": null,
            "grid_template_columns": null,
            "grid_template_rows": null,
            "height": null,
            "justify_content": null,
            "justify_items": null,
            "left": null,
            "margin": null,
            "max_height": null,
            "max_width": null,
            "min_height": null,
            "min_width": null,
            "object_fit": null,
            "object_position": null,
            "order": null,
            "overflow": null,
            "overflow_x": null,
            "overflow_y": null,
            "padding": null,
            "right": null,
            "top": null,
            "visibility": null,
            "width": null
          }
        },
        "e1e0c897bdee4b72a4ad9df43cb2d16e": {
          "model_module": "@jupyter-widgets/controls",
          "model_name": "ProgressStyleModel",
          "model_module_version": "1.5.0",
          "state": {
            "_model_module": "@jupyter-widgets/controls",
            "_model_module_version": "1.5.0",
            "_model_name": "ProgressStyleModel",
            "_view_count": null,
            "_view_module": "@jupyter-widgets/base",
            "_view_module_version": "1.2.0",
            "_view_name": "StyleView",
            "bar_color": null,
            "description_width": ""
          }
        },
        "f77c81fac2e44d7c846972d47e15370e": {
          "model_module": "@jupyter-widgets/base",
          "model_name": "LayoutModel",
          "model_module_version": "1.2.0",
          "state": {
            "_model_module": "@jupyter-widgets/base",
            "_model_module_version": "1.2.0",
            "_model_name": "LayoutModel",
            "_view_count": null,
            "_view_module": "@jupyter-widgets/base",
            "_view_module_version": "1.2.0",
            "_view_name": "LayoutView",
            "align_content": null,
            "align_items": null,
            "align_self": null,
            "border": null,
            "bottom": null,
            "display": null,
            "flex": null,
            "flex_flow": null,
            "grid_area": null,
            "grid_auto_columns": null,
            "grid_auto_flow": null,
            "grid_auto_rows": null,
            "grid_column": null,
            "grid_gap": null,
            "grid_row": null,
            "grid_template_areas": null,
            "grid_template_columns": null,
            "grid_template_rows": null,
            "height": null,
            "justify_content": null,
            "justify_items": null,
            "left": null,
            "margin": null,
            "max_height": null,
            "max_width": null,
            "min_height": null,
            "min_width": null,
            "object_fit": null,
            "object_position": null,
            "order": null,
            "overflow": null,
            "overflow_x": null,
            "overflow_y": null,
            "padding": null,
            "right": null,
            "top": null,
            "visibility": null,
            "width": null
          }
        },
        "fd1e8f7a1abb488fbf315550415519a4": {
          "model_module": "@jupyter-widgets/controls",
          "model_name": "DescriptionStyleModel",
          "model_module_version": "1.5.0",
          "state": {
            "_model_module": "@jupyter-widgets/controls",
            "_model_module_version": "1.5.0",
            "_model_name": "DescriptionStyleModel",
            "_view_count": null,
            "_view_module": "@jupyter-widgets/base",
            "_view_module_version": "1.2.0",
            "_view_name": "StyleView",
            "description_width": ""
          }
        },
        "8134409b13554ae9b7441e485707bab1": {
          "model_module": "@jupyter-widgets/controls",
          "model_name": "HBoxModel",
          "model_module_version": "1.5.0",
          "state": {
            "_dom_classes": [],
            "_model_module": "@jupyter-widgets/controls",
            "_model_module_version": "1.5.0",
            "_model_name": "HBoxModel",
            "_view_count": null,
            "_view_module": "@jupyter-widgets/controls",
            "_view_module_version": "1.5.0",
            "_view_name": "HBoxView",
            "box_style": "",
            "children": [
              "IPY_MODEL_902272c1f939465bab34d6adea904e50",
              "IPY_MODEL_6e3b9ae48e294eef96ab17ee7b2f26ce",
              "IPY_MODEL_0f5d9c9d9c9543379afcd4b41ede9597"
            ],
            "layout": "IPY_MODEL_2bb74750b3b84be3accfbf20964a714e"
          }
        },
        "902272c1f939465bab34d6adea904e50": {
          "model_module": "@jupyter-widgets/controls",
          "model_name": "HTMLModel",
          "model_module_version": "1.5.0",
          "state": {
            "_dom_classes": [],
            "_model_module": "@jupyter-widgets/controls",
            "_model_module_version": "1.5.0",
            "_model_name": "HTMLModel",
            "_view_count": null,
            "_view_module": "@jupyter-widgets/controls",
            "_view_module_version": "1.5.0",
            "_view_name": "HTMLView",
            "description": "",
            "description_tooltip": null,
            "layout": "IPY_MODEL_ba58760047784181a6b36d68f817b9ac",
            "placeholder": "​",
            "style": "IPY_MODEL_1931abcca0d440bba5def766ff767599",
            "value": "Downloading (…)okenizer_config.json: 100%"
          }
        },
        "6e3b9ae48e294eef96ab17ee7b2f26ce": {
          "model_module": "@jupyter-widgets/controls",
          "model_name": "FloatProgressModel",
          "model_module_version": "1.5.0",
          "state": {
            "_dom_classes": [],
            "_model_module": "@jupyter-widgets/controls",
            "_model_module_version": "1.5.0",
            "_model_name": "FloatProgressModel",
            "_view_count": null,
            "_view_module": "@jupyter-widgets/controls",
            "_view_module_version": "1.5.0",
            "_view_name": "ProgressView",
            "bar_style": "success",
            "description": "",
            "description_tooltip": null,
            "layout": "IPY_MODEL_ed85d812f2064b84ab1168937a5eacba",
            "max": 480,
            "min": 0,
            "orientation": "horizontal",
            "style": "IPY_MODEL_d4e1d0fcc45e437280eb1367f3ab2433",
            "value": 480
          }
        },
        "0f5d9c9d9c9543379afcd4b41ede9597": {
          "model_module": "@jupyter-widgets/controls",
          "model_name": "HTMLModel",
          "model_module_version": "1.5.0",
          "state": {
            "_dom_classes": [],
            "_model_module": "@jupyter-widgets/controls",
            "_model_module_version": "1.5.0",
            "_model_name": "HTMLModel",
            "_view_count": null,
            "_view_module": "@jupyter-widgets/controls",
            "_view_module_version": "1.5.0",
            "_view_name": "HTMLView",
            "description": "",
            "description_tooltip": null,
            "layout": "IPY_MODEL_897b7553127b40d88241cf20ca291a45",
            "placeholder": "​",
            "style": "IPY_MODEL_a10d7b6b9b1b4fa6bdaaedf161783a99",
            "value": " 480/480 [00:00&lt;00:00, 24.2kB/s]"
          }
        },
        "2bb74750b3b84be3accfbf20964a714e": {
          "model_module": "@jupyter-widgets/base",
          "model_name": "LayoutModel",
          "model_module_version": "1.2.0",
          "state": {
            "_model_module": "@jupyter-widgets/base",
            "_model_module_version": "1.2.0",
            "_model_name": "LayoutModel",
            "_view_count": null,
            "_view_module": "@jupyter-widgets/base",
            "_view_module_version": "1.2.0",
            "_view_name": "LayoutView",
            "align_content": null,
            "align_items": null,
            "align_self": null,
            "border": null,
            "bottom": null,
            "display": null,
            "flex": null,
            "flex_flow": null,
            "grid_area": null,
            "grid_auto_columns": null,
            "grid_auto_flow": null,
            "grid_auto_rows": null,
            "grid_column": null,
            "grid_gap": null,
            "grid_row": null,
            "grid_template_areas": null,
            "grid_template_columns": null,
            "grid_template_rows": null,
            "height": null,
            "justify_content": null,
            "justify_items": null,
            "left": null,
            "margin": null,
            "max_height": null,
            "max_width": null,
            "min_height": null,
            "min_width": null,
            "object_fit": null,
            "object_position": null,
            "order": null,
            "overflow": null,
            "overflow_x": null,
            "overflow_y": null,
            "padding": null,
            "right": null,
            "top": null,
            "visibility": null,
            "width": null
          }
        },
        "ba58760047784181a6b36d68f817b9ac": {
          "model_module": "@jupyter-widgets/base",
          "model_name": "LayoutModel",
          "model_module_version": "1.2.0",
          "state": {
            "_model_module": "@jupyter-widgets/base",
            "_model_module_version": "1.2.0",
            "_model_name": "LayoutModel",
            "_view_count": null,
            "_view_module": "@jupyter-widgets/base",
            "_view_module_version": "1.2.0",
            "_view_name": "LayoutView",
            "align_content": null,
            "align_items": null,
            "align_self": null,
            "border": null,
            "bottom": null,
            "display": null,
            "flex": null,
            "flex_flow": null,
            "grid_area": null,
            "grid_auto_columns": null,
            "grid_auto_flow": null,
            "grid_auto_rows": null,
            "grid_column": null,
            "grid_gap": null,
            "grid_row": null,
            "grid_template_areas": null,
            "grid_template_columns": null,
            "grid_template_rows": null,
            "height": null,
            "justify_content": null,
            "justify_items": null,
            "left": null,
            "margin": null,
            "max_height": null,
            "max_width": null,
            "min_height": null,
            "min_width": null,
            "object_fit": null,
            "object_position": null,
            "order": null,
            "overflow": null,
            "overflow_x": null,
            "overflow_y": null,
            "padding": null,
            "right": null,
            "top": null,
            "visibility": null,
            "width": null
          }
        },
        "1931abcca0d440bba5def766ff767599": {
          "model_module": "@jupyter-widgets/controls",
          "model_name": "DescriptionStyleModel",
          "model_module_version": "1.5.0",
          "state": {
            "_model_module": "@jupyter-widgets/controls",
            "_model_module_version": "1.5.0",
            "_model_name": "DescriptionStyleModel",
            "_view_count": null,
            "_view_module": "@jupyter-widgets/base",
            "_view_module_version": "1.2.0",
            "_view_name": "StyleView",
            "description_width": ""
          }
        },
        "ed85d812f2064b84ab1168937a5eacba": {
          "model_module": "@jupyter-widgets/base",
          "model_name": "LayoutModel",
          "model_module_version": "1.2.0",
          "state": {
            "_model_module": "@jupyter-widgets/base",
            "_model_module_version": "1.2.0",
            "_model_name": "LayoutModel",
            "_view_count": null,
            "_view_module": "@jupyter-widgets/base",
            "_view_module_version": "1.2.0",
            "_view_name": "LayoutView",
            "align_content": null,
            "align_items": null,
            "align_self": null,
            "border": null,
            "bottom": null,
            "display": null,
            "flex": null,
            "flex_flow": null,
            "grid_area": null,
            "grid_auto_columns": null,
            "grid_auto_flow": null,
            "grid_auto_rows": null,
            "grid_column": null,
            "grid_gap": null,
            "grid_row": null,
            "grid_template_areas": null,
            "grid_template_columns": null,
            "grid_template_rows": null,
            "height": null,
            "justify_content": null,
            "justify_items": null,
            "left": null,
            "margin": null,
            "max_height": null,
            "max_width": null,
            "min_height": null,
            "min_width": null,
            "object_fit": null,
            "object_position": null,
            "order": null,
            "overflow": null,
            "overflow_x": null,
            "overflow_y": null,
            "padding": null,
            "right": null,
            "top": null,
            "visibility": null,
            "width": null
          }
        },
        "d4e1d0fcc45e437280eb1367f3ab2433": {
          "model_module": "@jupyter-widgets/controls",
          "model_name": "ProgressStyleModel",
          "model_module_version": "1.5.0",
          "state": {
            "_model_module": "@jupyter-widgets/controls",
            "_model_module_version": "1.5.0",
            "_model_name": "ProgressStyleModel",
            "_view_count": null,
            "_view_module": "@jupyter-widgets/base",
            "_view_module_version": "1.2.0",
            "_view_name": "StyleView",
            "bar_color": null,
            "description_width": ""
          }
        },
        "897b7553127b40d88241cf20ca291a45": {
          "model_module": "@jupyter-widgets/base",
          "model_name": "LayoutModel",
          "model_module_version": "1.2.0",
          "state": {
            "_model_module": "@jupyter-widgets/base",
            "_model_module_version": "1.2.0",
            "_model_name": "LayoutModel",
            "_view_count": null,
            "_view_module": "@jupyter-widgets/base",
            "_view_module_version": "1.2.0",
            "_view_name": "LayoutView",
            "align_content": null,
            "align_items": null,
            "align_self": null,
            "border": null,
            "bottom": null,
            "display": null,
            "flex": null,
            "flex_flow": null,
            "grid_area": null,
            "grid_auto_columns": null,
            "grid_auto_flow": null,
            "grid_auto_rows": null,
            "grid_column": null,
            "grid_gap": null,
            "grid_row": null,
            "grid_template_areas": null,
            "grid_template_columns": null,
            "grid_template_rows": null,
            "height": null,
            "justify_content": null,
            "justify_items": null,
            "left": null,
            "margin": null,
            "max_height": null,
            "max_width": null,
            "min_height": null,
            "min_width": null,
            "object_fit": null,
            "object_position": null,
            "order": null,
            "overflow": null,
            "overflow_x": null,
            "overflow_y": null,
            "padding": null,
            "right": null,
            "top": null,
            "visibility": null,
            "width": null
          }
        },
        "a10d7b6b9b1b4fa6bdaaedf161783a99": {
          "model_module": "@jupyter-widgets/controls",
          "model_name": "DescriptionStyleModel",
          "model_module_version": "1.5.0",
          "state": {
            "_model_module": "@jupyter-widgets/controls",
            "_model_module_version": "1.5.0",
            "_model_name": "DescriptionStyleModel",
            "_view_count": null,
            "_view_module": "@jupyter-widgets/base",
            "_view_module_version": "1.2.0",
            "_view_name": "StyleView",
            "description_width": ""
          }
        },
        "03327ec369854a7888047425f023ee9c": {
          "model_module": "@jupyter-widgets/controls",
          "model_name": "HBoxModel",
          "model_module_version": "1.5.0",
          "state": {
            "_dom_classes": [],
            "_model_module": "@jupyter-widgets/controls",
            "_model_module_version": "1.5.0",
            "_model_name": "HBoxModel",
            "_view_count": null,
            "_view_module": "@jupyter-widgets/controls",
            "_view_module_version": "1.5.0",
            "_view_name": "HBoxView",
            "box_style": "",
            "children": [
              "IPY_MODEL_36cb2d43ccbf4420b4758b15d606f7c3",
              "IPY_MODEL_7df92ccc603f4edc9034798b7a11762c",
              "IPY_MODEL_2895a2d6c0db453ea8208ae9ea0a1567"
            ],
            "layout": "IPY_MODEL_084f4e4ff5e347aabb1158e2bb9b223d"
          }
        },
        "36cb2d43ccbf4420b4758b15d606f7c3": {
          "model_module": "@jupyter-widgets/controls",
          "model_name": "HTMLModel",
          "model_module_version": "1.5.0",
          "state": {
            "_dom_classes": [],
            "_model_module": "@jupyter-widgets/controls",
            "_model_module_version": "1.5.0",
            "_model_name": "HTMLModel",
            "_view_count": null,
            "_view_module": "@jupyter-widgets/controls",
            "_view_module_version": "1.5.0",
            "_view_name": "HTMLView",
            "description": "",
            "description_tooltip": null,
            "layout": "IPY_MODEL_f254e30d0d03432ab2f1c6f81a3eb805",
            "placeholder": "​",
            "style": "IPY_MODEL_e1d42ffefa00412aa5959ef15ca61ea5",
            "value": "Downloading (…)&quot;unigram.json&quot;;: 100%"
          }
        },
        "7df92ccc603f4edc9034798b7a11762c": {
          "model_module": "@jupyter-widgets/controls",
          "model_name": "FloatProgressModel",
          "model_module_version": "1.5.0",
          "state": {
            "_dom_classes": [],
            "_model_module": "@jupyter-widgets/controls",
            "_model_module_version": "1.5.0",
            "_model_name": "FloatProgressModel",
            "_view_count": null,
            "_view_module": "@jupyter-widgets/controls",
            "_view_module_version": "1.5.0",
            "_view_name": "ProgressView",
            "bar_style": "success",
            "description": "",
            "description_tooltip": null,
            "layout": "IPY_MODEL_1a52da53e21b43bea0902f492b0b1277",
            "max": 14763234,
            "min": 0,
            "orientation": "horizontal",
            "style": "IPY_MODEL_e7152855adae43a5a386942d3cb2227e",
            "value": 14763234
          }
        },
        "2895a2d6c0db453ea8208ae9ea0a1567": {
          "model_module": "@jupyter-widgets/controls",
          "model_name": "HTMLModel",
          "model_module_version": "1.5.0",
          "state": {
            "_dom_classes": [],
            "_model_module": "@jupyter-widgets/controls",
            "_model_module_version": "1.5.0",
            "_model_name": "HTMLModel",
            "_view_count": null,
            "_view_module": "@jupyter-widgets/controls",
            "_view_module_version": "1.5.0",
            "_view_name": "HTMLView",
            "description": "",
            "description_tooltip": null,
            "layout": "IPY_MODEL_f24c43c1d4be453ab5cabaab1ef34d11",
            "placeholder": "​",
            "style": "IPY_MODEL_5bc77066b8214641a3eb2d548d9ddddd",
            "value": " 14.8M/14.8M [00:00&lt;00:00, 198MB/s]"
          }
        },
        "084f4e4ff5e347aabb1158e2bb9b223d": {
          "model_module": "@jupyter-widgets/base",
          "model_name": "LayoutModel",
          "model_module_version": "1.2.0",
          "state": {
            "_model_module": "@jupyter-widgets/base",
            "_model_module_version": "1.2.0",
            "_model_name": "LayoutModel",
            "_view_count": null,
            "_view_module": "@jupyter-widgets/base",
            "_view_module_version": "1.2.0",
            "_view_name": "LayoutView",
            "align_content": null,
            "align_items": null,
            "align_self": null,
            "border": null,
            "bottom": null,
            "display": null,
            "flex": null,
            "flex_flow": null,
            "grid_area": null,
            "grid_auto_columns": null,
            "grid_auto_flow": null,
            "grid_auto_rows": null,
            "grid_column": null,
            "grid_gap": null,
            "grid_row": null,
            "grid_template_areas": null,
            "grid_template_columns": null,
            "grid_template_rows": null,
            "height": null,
            "justify_content": null,
            "justify_items": null,
            "left": null,
            "margin": null,
            "max_height": null,
            "max_width": null,
            "min_height": null,
            "min_width": null,
            "object_fit": null,
            "object_position": null,
            "order": null,
            "overflow": null,
            "overflow_x": null,
            "overflow_y": null,
            "padding": null,
            "right": null,
            "top": null,
            "visibility": null,
            "width": null
          }
        },
        "f254e30d0d03432ab2f1c6f81a3eb805": {
          "model_module": "@jupyter-widgets/base",
          "model_name": "LayoutModel",
          "model_module_version": "1.2.0",
          "state": {
            "_model_module": "@jupyter-widgets/base",
            "_model_module_version": "1.2.0",
            "_model_name": "LayoutModel",
            "_view_count": null,
            "_view_module": "@jupyter-widgets/base",
            "_view_module_version": "1.2.0",
            "_view_name": "LayoutView",
            "align_content": null,
            "align_items": null,
            "align_self": null,
            "border": null,
            "bottom": null,
            "display": null,
            "flex": null,
            "flex_flow": null,
            "grid_area": null,
            "grid_auto_columns": null,
            "grid_auto_flow": null,
            "grid_auto_rows": null,
            "grid_column": null,
            "grid_gap": null,
            "grid_row": null,
            "grid_template_areas": null,
            "grid_template_columns": null,
            "grid_template_rows": null,
            "height": null,
            "justify_content": null,
            "justify_items": null,
            "left": null,
            "margin": null,
            "max_height": null,
            "max_width": null,
            "min_height": null,
            "min_width": null,
            "object_fit": null,
            "object_position": null,
            "order": null,
            "overflow": null,
            "overflow_x": null,
            "overflow_y": null,
            "padding": null,
            "right": null,
            "top": null,
            "visibility": null,
            "width": null
          }
        },
        "e1d42ffefa00412aa5959ef15ca61ea5": {
          "model_module": "@jupyter-widgets/controls",
          "model_name": "DescriptionStyleModel",
          "model_module_version": "1.5.0",
          "state": {
            "_model_module": "@jupyter-widgets/controls",
            "_model_module_version": "1.5.0",
            "_model_name": "DescriptionStyleModel",
            "_view_count": null,
            "_view_module": "@jupyter-widgets/base",
            "_view_module_version": "1.2.0",
            "_view_name": "StyleView",
            "description_width": ""
          }
        },
        "1a52da53e21b43bea0902f492b0b1277": {
          "model_module": "@jupyter-widgets/base",
          "model_name": "LayoutModel",
          "model_module_version": "1.2.0",
          "state": {
            "_model_module": "@jupyter-widgets/base",
            "_model_module_version": "1.2.0",
            "_model_name": "LayoutModel",
            "_view_count": null,
            "_view_module": "@jupyter-widgets/base",
            "_view_module_version": "1.2.0",
            "_view_name": "LayoutView",
            "align_content": null,
            "align_items": null,
            "align_self": null,
            "border": null,
            "bottom": null,
            "display": null,
            "flex": null,
            "flex_flow": null,
            "grid_area": null,
            "grid_auto_columns": null,
            "grid_auto_flow": null,
            "grid_auto_rows": null,
            "grid_column": null,
            "grid_gap": null,
            "grid_row": null,
            "grid_template_areas": null,
            "grid_template_columns": null,
            "grid_template_rows": null,
            "height": null,
            "justify_content": null,
            "justify_items": null,
            "left": null,
            "margin": null,
            "max_height": null,
            "max_width": null,
            "min_height": null,
            "min_width": null,
            "object_fit": null,
            "object_position": null,
            "order": null,
            "overflow": null,
            "overflow_x": null,
            "overflow_y": null,
            "padding": null,
            "right": null,
            "top": null,
            "visibility": null,
            "width": null
          }
        },
        "e7152855adae43a5a386942d3cb2227e": {
          "model_module": "@jupyter-widgets/controls",
          "model_name": "ProgressStyleModel",
          "model_module_version": "1.5.0",
          "state": {
            "_model_module": "@jupyter-widgets/controls",
            "_model_module_version": "1.5.0",
            "_model_name": "ProgressStyleModel",
            "_view_count": null,
            "_view_module": "@jupyter-widgets/base",
            "_view_module_version": "1.2.0",
            "_view_name": "StyleView",
            "bar_color": null,
            "description_width": ""
          }
        },
        "f24c43c1d4be453ab5cabaab1ef34d11": {
          "model_module": "@jupyter-widgets/base",
          "model_name": "LayoutModel",
          "model_module_version": "1.2.0",
          "state": {
            "_model_module": "@jupyter-widgets/base",
            "_model_module_version": "1.2.0",
            "_model_name": "LayoutModel",
            "_view_count": null,
            "_view_module": "@jupyter-widgets/base",
            "_view_module_version": "1.2.0",
            "_view_name": "LayoutView",
            "align_content": null,
            "align_items": null,
            "align_self": null,
            "border": null,
            "bottom": null,
            "display": null,
            "flex": null,
            "flex_flow": null,
            "grid_area": null,
            "grid_auto_columns": null,
            "grid_auto_flow": null,
            "grid_auto_rows": null,
            "grid_column": null,
            "grid_gap": null,
            "grid_row": null,
            "grid_template_areas": null,
            "grid_template_columns": null,
            "grid_template_rows": null,
            "height": null,
            "justify_content": null,
            "justify_items": null,
            "left": null,
            "margin": null,
            "max_height": null,
            "max_width": null,
            "min_height": null,
            "min_width": null,
            "object_fit": null,
            "object_position": null,
            "order": null,
            "overflow": null,
            "overflow_x": null,
            "overflow_y": null,
            "padding": null,
            "right": null,
            "top": null,
            "visibility": null,
            "width": null
          }
        },
        "5bc77066b8214641a3eb2d548d9ddddd": {
          "model_module": "@jupyter-widgets/controls",
          "model_name": "DescriptionStyleModel",
          "model_module_version": "1.5.0",
          "state": {
            "_model_module": "@jupyter-widgets/controls",
            "_model_module_version": "1.5.0",
            "_model_name": "DescriptionStyleModel",
            "_view_count": null,
            "_view_module": "@jupyter-widgets/base",
            "_view_module_version": "1.2.0",
            "_view_name": "StyleView",
            "description_width": ""
          }
        },
        "6b06e8ca72c64bd88b566ccbe09c1fc5": {
          "model_module": "@jupyter-widgets/controls",
          "model_name": "HBoxModel",
          "model_module_version": "1.5.0",
          "state": {
            "_dom_classes": [],
            "_model_module": "@jupyter-widgets/controls",
            "_model_module_version": "1.5.0",
            "_model_name": "HBoxModel",
            "_view_count": null,
            "_view_module": "@jupyter-widgets/controls",
            "_view_module_version": "1.5.0",
            "_view_name": "HBoxView",
            "box_style": "",
            "children": [
              "IPY_MODEL_73bd1b63eb4b4b3cb237fd091d207ed5",
              "IPY_MODEL_88682343273042f0bb9fae2f11577c56",
              "IPY_MODEL_d9e9470839564679992adea6a86b93c3"
            ],
            "layout": "IPY_MODEL_9fa5233ea03145ab943208a7c3ec6d16"
          }
        },
        "73bd1b63eb4b4b3cb237fd091d207ed5": {
          "model_module": "@jupyter-widgets/controls",
          "model_name": "HTMLModel",
          "model_module_version": "1.5.0",
          "state": {
            "_dom_classes": [],
            "_model_module": "@jupyter-widgets/controls",
            "_model_module_version": "1.5.0",
            "_model_name": "HTMLModel",
            "_view_count": null,
            "_view_module": "@jupyter-widgets/controls",
            "_view_module_version": "1.5.0",
            "_view_name": "HTMLView",
            "description": "",
            "description_tooltip": null,
            "layout": "IPY_MODEL_95f44c5d7061488e9e60486e10c611a8",
            "placeholder": "​",
            "style": "IPY_MODEL_ecf6d29390334e8d894a23841b409b6d",
            "value": "Downloading (…)900fe39/modules.json: 100%"
          }
        },
        "88682343273042f0bb9fae2f11577c56": {
          "model_module": "@jupyter-widgets/controls",
          "model_name": "FloatProgressModel",
          "model_module_version": "1.5.0",
          "state": {
            "_dom_classes": [],
            "_model_module": "@jupyter-widgets/controls",
            "_model_module_version": "1.5.0",
            "_model_name": "FloatProgressModel",
            "_view_count": null,
            "_view_module": "@jupyter-widgets/controls",
            "_view_module_version": "1.5.0",
            "_view_name": "ProgressView",
            "bar_style": "success",
            "description": "",
            "description_tooltip": null,
            "layout": "IPY_MODEL_d27e7c6f54494fa980163960ef2e56bd",
            "max": 229,
            "min": 0,
            "orientation": "horizontal",
            "style": "IPY_MODEL_3d3427a0a16d40c590d3044a71cd2cea",
            "value": 229
          }
        },
        "d9e9470839564679992adea6a86b93c3": {
          "model_module": "@jupyter-widgets/controls",
          "model_name": "HTMLModel",
          "model_module_version": "1.5.0",
          "state": {
            "_dom_classes": [],
            "_model_module": "@jupyter-widgets/controls",
            "_model_module_version": "1.5.0",
            "_model_name": "HTMLModel",
            "_view_count": null,
            "_view_module": "@jupyter-widgets/controls",
            "_view_module_version": "1.5.0",
            "_view_name": "HTMLView",
            "description": "",
            "description_tooltip": null,
            "layout": "IPY_MODEL_2af9eb947fd5456bbdb28fb9d79349d1",
            "placeholder": "​",
            "style": "IPY_MODEL_09049e5581fc4a48bd92a03d5307f252",
            "value": " 229/229 [00:00&lt;00:00, 8.88kB/s]"
          }
        },
        "9fa5233ea03145ab943208a7c3ec6d16": {
          "model_module": "@jupyter-widgets/base",
          "model_name": "LayoutModel",
          "model_module_version": "1.2.0",
          "state": {
            "_model_module": "@jupyter-widgets/base",
            "_model_module_version": "1.2.0",
            "_model_name": "LayoutModel",
            "_view_count": null,
            "_view_module": "@jupyter-widgets/base",
            "_view_module_version": "1.2.0",
            "_view_name": "LayoutView",
            "align_content": null,
            "align_items": null,
            "align_self": null,
            "border": null,
            "bottom": null,
            "display": null,
            "flex": null,
            "flex_flow": null,
            "grid_area": null,
            "grid_auto_columns": null,
            "grid_auto_flow": null,
            "grid_auto_rows": null,
            "grid_column": null,
            "grid_gap": null,
            "grid_row": null,
            "grid_template_areas": null,
            "grid_template_columns": null,
            "grid_template_rows": null,
            "height": null,
            "justify_content": null,
            "justify_items": null,
            "left": null,
            "margin": null,
            "max_height": null,
            "max_width": null,
            "min_height": null,
            "min_width": null,
            "object_fit": null,
            "object_position": null,
            "order": null,
            "overflow": null,
            "overflow_x": null,
            "overflow_y": null,
            "padding": null,
            "right": null,
            "top": null,
            "visibility": null,
            "width": null
          }
        },
        "95f44c5d7061488e9e60486e10c611a8": {
          "model_module": "@jupyter-widgets/base",
          "model_name": "LayoutModel",
          "model_module_version": "1.2.0",
          "state": {
            "_model_module": "@jupyter-widgets/base",
            "_model_module_version": "1.2.0",
            "_model_name": "LayoutModel",
            "_view_count": null,
            "_view_module": "@jupyter-widgets/base",
            "_view_module_version": "1.2.0",
            "_view_name": "LayoutView",
            "align_content": null,
            "align_items": null,
            "align_self": null,
            "border": null,
            "bottom": null,
            "display": null,
            "flex": null,
            "flex_flow": null,
            "grid_area": null,
            "grid_auto_columns": null,
            "grid_auto_flow": null,
            "grid_auto_rows": null,
            "grid_column": null,
            "grid_gap": null,
            "grid_row": null,
            "grid_template_areas": null,
            "grid_template_columns": null,
            "grid_template_rows": null,
            "height": null,
            "justify_content": null,
            "justify_items": null,
            "left": null,
            "margin": null,
            "max_height": null,
            "max_width": null,
            "min_height": null,
            "min_width": null,
            "object_fit": null,
            "object_position": null,
            "order": null,
            "overflow": null,
            "overflow_x": null,
            "overflow_y": null,
            "padding": null,
            "right": null,
            "top": null,
            "visibility": null,
            "width": null
          }
        },
        "ecf6d29390334e8d894a23841b409b6d": {
          "model_module": "@jupyter-widgets/controls",
          "model_name": "DescriptionStyleModel",
          "model_module_version": "1.5.0",
          "state": {
            "_model_module": "@jupyter-widgets/controls",
            "_model_module_version": "1.5.0",
            "_model_name": "DescriptionStyleModel",
            "_view_count": null,
            "_view_module": "@jupyter-widgets/base",
            "_view_module_version": "1.2.0",
            "_view_name": "StyleView",
            "description_width": ""
          }
        },
        "d27e7c6f54494fa980163960ef2e56bd": {
          "model_module": "@jupyter-widgets/base",
          "model_name": "LayoutModel",
          "model_module_version": "1.2.0",
          "state": {
            "_model_module": "@jupyter-widgets/base",
            "_model_module_version": "1.2.0",
            "_model_name": "LayoutModel",
            "_view_count": null,
            "_view_module": "@jupyter-widgets/base",
            "_view_module_version": "1.2.0",
            "_view_name": "LayoutView",
            "align_content": null,
            "align_items": null,
            "align_self": null,
            "border": null,
            "bottom": null,
            "display": null,
            "flex": null,
            "flex_flow": null,
            "grid_area": null,
            "grid_auto_columns": null,
            "grid_auto_flow": null,
            "grid_auto_rows": null,
            "grid_column": null,
            "grid_gap": null,
            "grid_row": null,
            "grid_template_areas": null,
            "grid_template_columns": null,
            "grid_template_rows": null,
            "height": null,
            "justify_content": null,
            "justify_items": null,
            "left": null,
            "margin": null,
            "max_height": null,
            "max_width": null,
            "min_height": null,
            "min_width": null,
            "object_fit": null,
            "object_position": null,
            "order": null,
            "overflow": null,
            "overflow_x": null,
            "overflow_y": null,
            "padding": null,
            "right": null,
            "top": null,
            "visibility": null,
            "width": null
          }
        },
        "3d3427a0a16d40c590d3044a71cd2cea": {
          "model_module": "@jupyter-widgets/controls",
          "model_name": "ProgressStyleModel",
          "model_module_version": "1.5.0",
          "state": {
            "_model_module": "@jupyter-widgets/controls",
            "_model_module_version": "1.5.0",
            "_model_name": "ProgressStyleModel",
            "_view_count": null,
            "_view_module": "@jupyter-widgets/base",
            "_view_module_version": "1.2.0",
            "_view_name": "StyleView",
            "bar_color": null,
            "description_width": ""
          }
        },
        "2af9eb947fd5456bbdb28fb9d79349d1": {
          "model_module": "@jupyter-widgets/base",
          "model_name": "LayoutModel",
          "model_module_version": "1.2.0",
          "state": {
            "_model_module": "@jupyter-widgets/base",
            "_model_module_version": "1.2.0",
            "_model_name": "LayoutModel",
            "_view_count": null,
            "_view_module": "@jupyter-widgets/base",
            "_view_module_version": "1.2.0",
            "_view_name": "LayoutView",
            "align_content": null,
            "align_items": null,
            "align_self": null,
            "border": null,
            "bottom": null,
            "display": null,
            "flex": null,
            "flex_flow": null,
            "grid_area": null,
            "grid_auto_columns": null,
            "grid_auto_flow": null,
            "grid_auto_rows": null,
            "grid_column": null,
            "grid_gap": null,
            "grid_row": null,
            "grid_template_areas": null,
            "grid_template_columns": null,
            "grid_template_rows": null,
            "height": null,
            "justify_content": null,
            "justify_items": null,
            "left": null,
            "margin": null,
            "max_height": null,
            "max_width": null,
            "min_height": null,
            "min_width": null,
            "object_fit": null,
            "object_position": null,
            "order": null,
            "overflow": null,
            "overflow_x": null,
            "overflow_y": null,
            "padding": null,
            "right": null,
            "top": null,
            "visibility": null,
            "width": null
          }
        },
        "09049e5581fc4a48bd92a03d5307f252": {
          "model_module": "@jupyter-widgets/controls",
          "model_name": "DescriptionStyleModel",
          "model_module_version": "1.5.0",
          "state": {
            "_model_module": "@jupyter-widgets/controls",
            "_model_module_version": "1.5.0",
            "_model_name": "DescriptionStyleModel",
            "_view_count": null,
            "_view_module": "@jupyter-widgets/base",
            "_view_module_version": "1.2.0",
            "_view_name": "StyleView",
            "description_width": ""
          }
        },
        "df98d330f658484cb448fe6eb2879850": {
          "model_module": "@jupyter-widgets/controls",
          "model_name": "HBoxModel",
          "model_module_version": "1.5.0",
          "state": {
            "_dom_classes": [],
            "_model_module": "@jupyter-widgets/controls",
            "_model_module_version": "1.5.0",
            "_model_name": "HBoxModel",
            "_view_count": null,
            "_view_module": "@jupyter-widgets/controls",
            "_view_module_version": "1.5.0",
            "_view_name": "HBoxView",
            "box_style": "",
            "children": [
              "IPY_MODEL_4d2357bd539f4a5f8a177fd93b274cfb",
              "IPY_MODEL_7575c6b1331c4bf8a20f38494cd41141",
              "IPY_MODEL_8ef6566f8e74471ebe376838bf86cf3f"
            ],
            "layout": "IPY_MODEL_139d696966a644aa952bd8631966c145"
          }
        },
        "4d2357bd539f4a5f8a177fd93b274cfb": {
          "model_module": "@jupyter-widgets/controls",
          "model_name": "HTMLModel",
          "model_module_version": "1.5.0",
          "state": {
            "_dom_classes": [],
            "_model_module": "@jupyter-widgets/controls",
            "_model_module_version": "1.5.0",
            "_model_name": "HTMLModel",
            "_view_count": null,
            "_view_module": "@jupyter-widgets/controls",
            "_view_module_version": "1.5.0",
            "_view_name": "HTMLView",
            "description": "",
            "description_tooltip": null,
            "layout": "IPY_MODEL_0b329b26813743c69254f86c423cfdcb",
            "placeholder": "​",
            "style": "IPY_MODEL_6207ee79e2ea4e69a125a9d8e1f8a1ea",
            "value": "Batches: 100%"
          }
        },
        "7575c6b1331c4bf8a20f38494cd41141": {
          "model_module": "@jupyter-widgets/controls",
          "model_name": "FloatProgressModel",
          "model_module_version": "1.5.0",
          "state": {
            "_dom_classes": [],
            "_model_module": "@jupyter-widgets/controls",
            "_model_module_version": "1.5.0",
            "_model_name": "FloatProgressModel",
            "_view_count": null,
            "_view_module": "@jupyter-widgets/controls",
            "_view_module_version": "1.5.0",
            "_view_name": "ProgressView",
            "bar_style": "success",
            "description": "",
            "description_tooltip": null,
            "layout": "IPY_MODEL_5ef4722d0003464e82e93b8652c0b249",
            "max": 322,
            "min": 0,
            "orientation": "horizontal",
            "style": "IPY_MODEL_610ea91aae314faca6d6c097aa51299c",
            "value": 322
          }
        },
        "8ef6566f8e74471ebe376838bf86cf3f": {
          "model_module": "@jupyter-widgets/controls",
          "model_name": "HTMLModel",
          "model_module_version": "1.5.0",
          "state": {
            "_dom_classes": [],
            "_model_module": "@jupyter-widgets/controls",
            "_model_module_version": "1.5.0",
            "_model_name": "HTMLModel",
            "_view_count": null,
            "_view_module": "@jupyter-widgets/controls",
            "_view_module_version": "1.5.0",
            "_view_name": "HTMLView",
            "description": "",
            "description_tooltip": null,
            "layout": "IPY_MODEL_4dce285ca1584e9383eb608824650420",
            "placeholder": "​",
            "style": "IPY_MODEL_9fef56f9aebb4ba5af2e3f699e50c688",
            "value": " 322/322 [00:07&lt;00:00, 91.49it/s]"
          }
        },
        "139d696966a644aa952bd8631966c145": {
          "model_module": "@jupyter-widgets/base",
          "model_name": "LayoutModel",
          "model_module_version": "1.2.0",
          "state": {
            "_model_module": "@jupyter-widgets/base",
            "_model_module_version": "1.2.0",
            "_model_name": "LayoutModel",
            "_view_count": null,
            "_view_module": "@jupyter-widgets/base",
            "_view_module_version": "1.2.0",
            "_view_name": "LayoutView",
            "align_content": null,
            "align_items": null,
            "align_self": null,
            "border": null,
            "bottom": null,
            "display": null,
            "flex": null,
            "flex_flow": null,
            "grid_area": null,
            "grid_auto_columns": null,
            "grid_auto_flow": null,
            "grid_auto_rows": null,
            "grid_column": null,
            "grid_gap": null,
            "grid_row": null,
            "grid_template_areas": null,
            "grid_template_columns": null,
            "grid_template_rows": null,
            "height": null,
            "justify_content": null,
            "justify_items": null,
            "left": null,
            "margin": null,
            "max_height": null,
            "max_width": null,
            "min_height": null,
            "min_width": null,
            "object_fit": null,
            "object_position": null,
            "order": null,
            "overflow": null,
            "overflow_x": null,
            "overflow_y": null,
            "padding": null,
            "right": null,
            "top": null,
            "visibility": null,
            "width": null
          }
        },
        "0b329b26813743c69254f86c423cfdcb": {
          "model_module": "@jupyter-widgets/base",
          "model_name": "LayoutModel",
          "model_module_version": "1.2.0",
          "state": {
            "_model_module": "@jupyter-widgets/base",
            "_model_module_version": "1.2.0",
            "_model_name": "LayoutModel",
            "_view_count": null,
            "_view_module": "@jupyter-widgets/base",
            "_view_module_version": "1.2.0",
            "_view_name": "LayoutView",
            "align_content": null,
            "align_items": null,
            "align_self": null,
            "border": null,
            "bottom": null,
            "display": null,
            "flex": null,
            "flex_flow": null,
            "grid_area": null,
            "grid_auto_columns": null,
            "grid_auto_flow": null,
            "grid_auto_rows": null,
            "grid_column": null,
            "grid_gap": null,
            "grid_row": null,
            "grid_template_areas": null,
            "grid_template_columns": null,
            "grid_template_rows": null,
            "height": null,
            "justify_content": null,
            "justify_items": null,
            "left": null,
            "margin": null,
            "max_height": null,
            "max_width": null,
            "min_height": null,
            "min_width": null,
            "object_fit": null,
            "object_position": null,
            "order": null,
            "overflow": null,
            "overflow_x": null,
            "overflow_y": null,
            "padding": null,
            "right": null,
            "top": null,
            "visibility": null,
            "width": null
          }
        },
        "6207ee79e2ea4e69a125a9d8e1f8a1ea": {
          "model_module": "@jupyter-widgets/controls",
          "model_name": "DescriptionStyleModel",
          "model_module_version": "1.5.0",
          "state": {
            "_model_module": "@jupyter-widgets/controls",
            "_model_module_version": "1.5.0",
            "_model_name": "DescriptionStyleModel",
            "_view_count": null,
            "_view_module": "@jupyter-widgets/base",
            "_view_module_version": "1.2.0",
            "_view_name": "StyleView",
            "description_width": ""
          }
        },
        "5ef4722d0003464e82e93b8652c0b249": {
          "model_module": "@jupyter-widgets/base",
          "model_name": "LayoutModel",
          "model_module_version": "1.2.0",
          "state": {
            "_model_module": "@jupyter-widgets/base",
            "_model_module_version": "1.2.0",
            "_model_name": "LayoutModel",
            "_view_count": null,
            "_view_module": "@jupyter-widgets/base",
            "_view_module_version": "1.2.0",
            "_view_name": "LayoutView",
            "align_content": null,
            "align_items": null,
            "align_self": null,
            "border": null,
            "bottom": null,
            "display": null,
            "flex": null,
            "flex_flow": null,
            "grid_area": null,
            "grid_auto_columns": null,
            "grid_auto_flow": null,
            "grid_auto_rows": null,
            "grid_column": null,
            "grid_gap": null,
            "grid_row": null,
            "grid_template_areas": null,
            "grid_template_columns": null,
            "grid_template_rows": null,
            "height": null,
            "justify_content": null,
            "justify_items": null,
            "left": null,
            "margin": null,
            "max_height": null,
            "max_width": null,
            "min_height": null,
            "min_width": null,
            "object_fit": null,
            "object_position": null,
            "order": null,
            "overflow": null,
            "overflow_x": null,
            "overflow_y": null,
            "padding": null,
            "right": null,
            "top": null,
            "visibility": null,
            "width": null
          }
        },
        "610ea91aae314faca6d6c097aa51299c": {
          "model_module": "@jupyter-widgets/controls",
          "model_name": "ProgressStyleModel",
          "model_module_version": "1.5.0",
          "state": {
            "_model_module": "@jupyter-widgets/controls",
            "_model_module_version": "1.5.0",
            "_model_name": "ProgressStyleModel",
            "_view_count": null,
            "_view_module": "@jupyter-widgets/base",
            "_view_module_version": "1.2.0",
            "_view_name": "StyleView",
            "bar_color": null,
            "description_width": ""
          }
        },
        "4dce285ca1584e9383eb608824650420": {
          "model_module": "@jupyter-widgets/base",
          "model_name": "LayoutModel",
          "model_module_version": "1.2.0",
          "state": {
            "_model_module": "@jupyter-widgets/base",
            "_model_module_version": "1.2.0",
            "_model_name": "LayoutModel",
            "_view_count": null,
            "_view_module": "@jupyter-widgets/base",
            "_view_module_version": "1.2.0",
            "_view_name": "LayoutView",
            "align_content": null,
            "align_items": null,
            "align_self": null,
            "border": null,
            "bottom": null,
            "display": null,
            "flex": null,
            "flex_flow": null,
            "grid_area": null,
            "grid_auto_columns": null,
            "grid_auto_flow": null,
            "grid_auto_rows": null,
            "grid_column": null,
            "grid_gap": null,
            "grid_row": null,
            "grid_template_areas": null,
            "grid_template_columns": null,
            "grid_template_rows": null,
            "height": null,
            "justify_content": null,
            "justify_items": null,
            "left": null,
            "margin": null,
            "max_height": null,
            "max_width": null,
            "min_height": null,
            "min_width": null,
            "object_fit": null,
            "object_position": null,
            "order": null,
            "overflow": null,
            "overflow_x": null,
            "overflow_y": null,
            "padding": null,
            "right": null,
            "top": null,
            "visibility": null,
            "width": null
          }
        },
        "9fef56f9aebb4ba5af2e3f699e50c688": {
          "model_module": "@jupyter-widgets/controls",
          "model_name": "DescriptionStyleModel",
          "model_module_version": "1.5.0",
          "state": {
            "_model_module": "@jupyter-widgets/controls",
            "_model_module_version": "1.5.0",
            "_model_name": "DescriptionStyleModel",
            "_view_count": null,
            "_view_module": "@jupyter-widgets/base",
            "_view_module_version": "1.2.0",
            "_view_name": "StyleView",
            "description_width": ""
          }
        },
        "4cd6bd003ffb47c8afa14acdde62b9b0": {
          "model_module": "@jupyter-widgets/controls",
          "model_name": "HBoxModel",
          "model_module_version": "1.5.0",
          "state": {
            "_dom_classes": [],
            "_model_module": "@jupyter-widgets/controls",
            "_model_module_version": "1.5.0",
            "_model_name": "HBoxModel",
            "_view_count": null,
            "_view_module": "@jupyter-widgets/controls",
            "_view_module_version": "1.5.0",
            "_view_name": "HBoxView",
            "box_style": "",
            "children": [
              "IPY_MODEL_e430ccd684b8425bb11fba183aed4198",
              "IPY_MODEL_16feac04d6c44e7aa5032b6ba0ba3551",
              "IPY_MODEL_06b65b5e6666497c9f67df1488b7040c"
            ],
            "layout": "IPY_MODEL_b44250e98ecd4110a759061f1327de7b"
          }
        },
        "e430ccd684b8425bb11fba183aed4198": {
          "model_module": "@jupyter-widgets/controls",
          "model_name": "HTMLModel",
          "model_module_version": "1.5.0",
          "state": {
            "_dom_classes": [],
            "_model_module": "@jupyter-widgets/controls",
            "_model_module_version": "1.5.0",
            "_model_name": "HTMLModel",
            "_view_count": null,
            "_view_module": "@jupyter-widgets/controls",
            "_view_module_version": "1.5.0",
            "_view_name": "HTMLView",
            "description": "",
            "description_tooltip": null,
            "layout": "IPY_MODEL_c45f63198a3448d08c5953a5c301e449",
            "placeholder": "​",
            "style": "IPY_MODEL_e3dbdc0fccad48f88df2d02f1159b6cd",
            "value": "  0%"
          }
        },
        "16feac04d6c44e7aa5032b6ba0ba3551": {
          "model_module": "@jupyter-widgets/controls",
          "model_name": "FloatProgressModel",
          "model_module_version": "1.5.0",
          "state": {
            "_dom_classes": [],
            "_model_module": "@jupyter-widgets/controls",
            "_model_module_version": "1.5.0",
            "_model_name": "FloatProgressModel",
            "_view_count": null,
            "_view_module": "@jupyter-widgets/controls",
            "_view_module_version": "1.5.0",
            "_view_name": "ProgressView",
            "bar_style": "",
            "description": "",
            "description_tooltip": null,
            "layout": "IPY_MODEL_1711226a105a483aacf146e67cd88eac",
            "max": 20,
            "min": 0,
            "orientation": "horizontal",
            "style": "IPY_MODEL_e4e0dc824c7148af8d2b6a5de63c3dab",
            "value": 0
          }
        },
        "06b65b5e6666497c9f67df1488b7040c": {
          "model_module": "@jupyter-widgets/controls",
          "model_name": "HTMLModel",
          "model_module_version": "1.5.0",
          "state": {
            "_dom_classes": [],
            "_model_module": "@jupyter-widgets/controls",
            "_model_module_version": "1.5.0",
            "_model_name": "HTMLModel",
            "_view_count": null,
            "_view_module": "@jupyter-widgets/controls",
            "_view_module_version": "1.5.0",
            "_view_name": "HTMLView",
            "description": "",
            "description_tooltip": null,
            "layout": "IPY_MODEL_567c331c82554b989aee1e4ab8d2c6fc",
            "placeholder": "​",
            "style": "IPY_MODEL_8e46e8f57fe444eba38dd74eb54f06af",
            "value": " 0/20 [00:00&lt;?, ?it/s]"
          }
        },
        "b44250e98ecd4110a759061f1327de7b": {
          "model_module": "@jupyter-widgets/base",
          "model_name": "LayoutModel",
          "model_module_version": "1.2.0",
          "state": {
            "_model_module": "@jupyter-widgets/base",
            "_model_module_version": "1.2.0",
            "_model_name": "LayoutModel",
            "_view_count": null,
            "_view_module": "@jupyter-widgets/base",
            "_view_module_version": "1.2.0",
            "_view_name": "LayoutView",
            "align_content": null,
            "align_items": null,
            "align_self": null,
            "border": null,
            "bottom": null,
            "display": null,
            "flex": null,
            "flex_flow": null,
            "grid_area": null,
            "grid_auto_columns": null,
            "grid_auto_flow": null,
            "grid_auto_rows": null,
            "grid_column": null,
            "grid_gap": null,
            "grid_row": null,
            "grid_template_areas": null,
            "grid_template_columns": null,
            "grid_template_rows": null,
            "height": null,
            "justify_content": null,
            "justify_items": null,
            "left": null,
            "margin": null,
            "max_height": null,
            "max_width": null,
            "min_height": null,
            "min_width": null,
            "object_fit": null,
            "object_position": null,
            "order": null,
            "overflow": null,
            "overflow_x": null,
            "overflow_y": null,
            "padding": null,
            "right": null,
            "top": null,
            "visibility": null,
            "width": null
          }
        },
        "c45f63198a3448d08c5953a5c301e449": {
          "model_module": "@jupyter-widgets/base",
          "model_name": "LayoutModel",
          "model_module_version": "1.2.0",
          "state": {
            "_model_module": "@jupyter-widgets/base",
            "_model_module_version": "1.2.0",
            "_model_name": "LayoutModel",
            "_view_count": null,
            "_view_module": "@jupyter-widgets/base",
            "_view_module_version": "1.2.0",
            "_view_name": "LayoutView",
            "align_content": null,
            "align_items": null,
            "align_self": null,
            "border": null,
            "bottom": null,
            "display": null,
            "flex": null,
            "flex_flow": null,
            "grid_area": null,
            "grid_auto_columns": null,
            "grid_auto_flow": null,
            "grid_auto_rows": null,
            "grid_column": null,
            "grid_gap": null,
            "grid_row": null,
            "grid_template_areas": null,
            "grid_template_columns": null,
            "grid_template_rows": null,
            "height": null,
            "justify_content": null,
            "justify_items": null,
            "left": null,
            "margin": null,
            "max_height": null,
            "max_width": null,
            "min_height": null,
            "min_width": null,
            "object_fit": null,
            "object_position": null,
            "order": null,
            "overflow": null,
            "overflow_x": null,
            "overflow_y": null,
            "padding": null,
            "right": null,
            "top": null,
            "visibility": null,
            "width": null
          }
        },
        "e3dbdc0fccad48f88df2d02f1159b6cd": {
          "model_module": "@jupyter-widgets/controls",
          "model_name": "DescriptionStyleModel",
          "model_module_version": "1.5.0",
          "state": {
            "_model_module": "@jupyter-widgets/controls",
            "_model_module_version": "1.5.0",
            "_model_name": "DescriptionStyleModel",
            "_view_count": null,
            "_view_module": "@jupyter-widgets/base",
            "_view_module_version": "1.2.0",
            "_view_name": "StyleView",
            "description_width": ""
          }
        },
        "1711226a105a483aacf146e67cd88eac": {
          "model_module": "@jupyter-widgets/base",
          "model_name": "LayoutModel",
          "model_module_version": "1.2.0",
          "state": {
            "_model_module": "@jupyter-widgets/base",
            "_model_module_version": "1.2.0",
            "_model_name": "LayoutModel",
            "_view_count": null,
            "_view_module": "@jupyter-widgets/base",
            "_view_module_version": "1.2.0",
            "_view_name": "LayoutView",
            "align_content": null,
            "align_items": null,
            "align_self": null,
            "border": null,
            "bottom": null,
            "display": null,
            "flex": null,
            "flex_flow": null,
            "grid_area": null,
            "grid_auto_columns": null,
            "grid_auto_flow": null,
            "grid_auto_rows": null,
            "grid_column": null,
            "grid_gap": null,
            "grid_row": null,
            "grid_template_areas": null,
            "grid_template_columns": null,
            "grid_template_rows": null,
            "height": null,
            "justify_content": null,
            "justify_items": null,
            "left": null,
            "margin": null,
            "max_height": null,
            "max_width": null,
            "min_height": null,
            "min_width": null,
            "object_fit": null,
            "object_position": null,
            "order": null,
            "overflow": null,
            "overflow_x": null,
            "overflow_y": null,
            "padding": null,
            "right": null,
            "top": null,
            "visibility": null,
            "width": null
          }
        },
        "e4e0dc824c7148af8d2b6a5de63c3dab": {
          "model_module": "@jupyter-widgets/controls",
          "model_name": "ProgressStyleModel",
          "model_module_version": "1.5.0",
          "state": {
            "_model_module": "@jupyter-widgets/controls",
            "_model_module_version": "1.5.0",
            "_model_name": "ProgressStyleModel",
            "_view_count": null,
            "_view_module": "@jupyter-widgets/base",
            "_view_module_version": "1.2.0",
            "_view_name": "StyleView",
            "bar_color": null,
            "description_width": ""
          }
        },
        "567c331c82554b989aee1e4ab8d2c6fc": {
          "model_module": "@jupyter-widgets/base",
          "model_name": "LayoutModel",
          "model_module_version": "1.2.0",
          "state": {
            "_model_module": "@jupyter-widgets/base",
            "_model_module_version": "1.2.0",
            "_model_name": "LayoutModel",
            "_view_count": null,
            "_view_module": "@jupyter-widgets/base",
            "_view_module_version": "1.2.0",
            "_view_name": "LayoutView",
            "align_content": null,
            "align_items": null,
            "align_self": null,
            "border": null,
            "bottom": null,
            "display": null,
            "flex": null,
            "flex_flow": null,
            "grid_area": null,
            "grid_auto_columns": null,
            "grid_auto_flow": null,
            "grid_auto_rows": null,
            "grid_column": null,
            "grid_gap": null,
            "grid_row": null,
            "grid_template_areas": null,
            "grid_template_columns": null,
            "grid_template_rows": null,
            "height": null,
            "justify_content": null,
            "justify_items": null,
            "left": null,
            "margin": null,
            "max_height": null,
            "max_width": null,
            "min_height": null,
            "min_width": null,
            "object_fit": null,
            "object_position": null,
            "order": null,
            "overflow": null,
            "overflow_x": null,
            "overflow_y": null,
            "padding": null,
            "right": null,
            "top": null,
            "visibility": null,
            "width": null
          }
        },
        "8e46e8f57fe444eba38dd74eb54f06af": {
          "model_module": "@jupyter-widgets/controls",
          "model_name": "DescriptionStyleModel",
          "model_module_version": "1.5.0",
          "state": {
            "_model_module": "@jupyter-widgets/controls",
            "_model_module_version": "1.5.0",
            "_model_name": "DescriptionStyleModel",
            "_view_count": null,
            "_view_module": "@jupyter-widgets/base",
            "_view_module_version": "1.2.0",
            "_view_name": "StyleView",
            "description_width": ""
          }
        },
        "ffe7f8078c2c489aa1ab73ac901f0709": {
          "model_module": "@jupyter-widgets/controls",
          "model_name": "HBoxModel",
          "model_module_version": "1.5.0",
          "state": {
            "_dom_classes": [],
            "_model_module": "@jupyter-widgets/controls",
            "_model_module_version": "1.5.0",
            "_model_name": "HBoxModel",
            "_view_count": null,
            "_view_module": "@jupyter-widgets/controls",
            "_view_module_version": "1.5.0",
            "_view_name": "HBoxView",
            "box_style": "",
            "children": [
              "IPY_MODEL_43b0118fc15f4f97a3108a25864d2516",
              "IPY_MODEL_5fac5f774ecb48b49a81d4b41c84729f",
              "IPY_MODEL_27216afabf7e41dcb54562943bedbbde"
            ],
            "layout": "IPY_MODEL_88fed65c2c0b48c48b1b06a18788527c"
          }
        },
        "43b0118fc15f4f97a3108a25864d2516": {
          "model_module": "@jupyter-widgets/controls",
          "model_name": "HTMLModel",
          "model_module_version": "1.5.0",
          "state": {
            "_dom_classes": [],
            "_model_module": "@jupyter-widgets/controls",
            "_model_module_version": "1.5.0",
            "_model_name": "HTMLModel",
            "_view_count": null,
            "_view_module": "@jupyter-widgets/controls",
            "_view_module_version": "1.5.0",
            "_view_name": "HTMLView",
            "description": "",
            "description_tooltip": null,
            "layout": "IPY_MODEL_c6e7d7062331498bbac5745f54652533",
            "placeholder": "​",
            "style": "IPY_MODEL_6147f3d94dc74d7e9296d0fa2cb831da",
            "value": "Batches: 100%"
          }
        },
        "5fac5f774ecb48b49a81d4b41c84729f": {
          "model_module": "@jupyter-widgets/controls",
          "model_name": "FloatProgressModel",
          "model_module_version": "1.5.0",
          "state": {
            "_dom_classes": [],
            "_model_module": "@jupyter-widgets/controls",
            "_model_module_version": "1.5.0",
            "_model_name": "FloatProgressModel",
            "_view_count": null,
            "_view_module": "@jupyter-widgets/controls",
            "_view_module_version": "1.5.0",
            "_view_name": "ProgressView",
            "bar_style": "success",
            "description": "",
            "description_tooltip": null,
            "layout": "IPY_MODEL_dd6e20e887f744e584ae8c3ca1f5f6fc",
            "max": 322,
            "min": 0,
            "orientation": "horizontal",
            "style": "IPY_MODEL_51a1fb61be1a43f9889ae20c00789df2",
            "value": 322
          }
        },
        "27216afabf7e41dcb54562943bedbbde": {
          "model_module": "@jupyter-widgets/controls",
          "model_name": "HTMLModel",
          "model_module_version": "1.5.0",
          "state": {
            "_dom_classes": [],
            "_model_module": "@jupyter-widgets/controls",
            "_model_module_version": "1.5.0",
            "_model_name": "HTMLModel",
            "_view_count": null,
            "_view_module": "@jupyter-widgets/controls",
            "_view_module_version": "1.5.0",
            "_view_name": "HTMLView",
            "description": "",
            "description_tooltip": null,
            "layout": "IPY_MODEL_98daafc2c6434f5fa4680c269826d340",
            "placeholder": "​",
            "style": "IPY_MODEL_36ceec5b12044c1c8a0d1319688a5cfd",
            "value": " 322/322 [00:10&lt;00:00, 28.91it/s]"
          }
        },
        "88fed65c2c0b48c48b1b06a18788527c": {
          "model_module": "@jupyter-widgets/base",
          "model_name": "LayoutModel",
          "model_module_version": "1.2.0",
          "state": {
            "_model_module": "@jupyter-widgets/base",
            "_model_module_version": "1.2.0",
            "_model_name": "LayoutModel",
            "_view_count": null,
            "_view_module": "@jupyter-widgets/base",
            "_view_module_version": "1.2.0",
            "_view_name": "LayoutView",
            "align_content": null,
            "align_items": null,
            "align_self": null,
            "border": null,
            "bottom": null,
            "display": null,
            "flex": null,
            "flex_flow": null,
            "grid_area": null,
            "grid_auto_columns": null,
            "grid_auto_flow": null,
            "grid_auto_rows": null,
            "grid_column": null,
            "grid_gap": null,
            "grid_row": null,
            "grid_template_areas": null,
            "grid_template_columns": null,
            "grid_template_rows": null,
            "height": null,
            "justify_content": null,
            "justify_items": null,
            "left": null,
            "margin": null,
            "max_height": null,
            "max_width": null,
            "min_height": null,
            "min_width": null,
            "object_fit": null,
            "object_position": null,
            "order": null,
            "overflow": null,
            "overflow_x": null,
            "overflow_y": null,
            "padding": null,
            "right": null,
            "top": null,
            "visibility": null,
            "width": null
          }
        },
        "c6e7d7062331498bbac5745f54652533": {
          "model_module": "@jupyter-widgets/base",
          "model_name": "LayoutModel",
          "model_module_version": "1.2.0",
          "state": {
            "_model_module": "@jupyter-widgets/base",
            "_model_module_version": "1.2.0",
            "_model_name": "LayoutModel",
            "_view_count": null,
            "_view_module": "@jupyter-widgets/base",
            "_view_module_version": "1.2.0",
            "_view_name": "LayoutView",
            "align_content": null,
            "align_items": null,
            "align_self": null,
            "border": null,
            "bottom": null,
            "display": null,
            "flex": null,
            "flex_flow": null,
            "grid_area": null,
            "grid_auto_columns": null,
            "grid_auto_flow": null,
            "grid_auto_rows": null,
            "grid_column": null,
            "grid_gap": null,
            "grid_row": null,
            "grid_template_areas": null,
            "grid_template_columns": null,
            "grid_template_rows": null,
            "height": null,
            "justify_content": null,
            "justify_items": null,
            "left": null,
            "margin": null,
            "max_height": null,
            "max_width": null,
            "min_height": null,
            "min_width": null,
            "object_fit": null,
            "object_position": null,
            "order": null,
            "overflow": null,
            "overflow_x": null,
            "overflow_y": null,
            "padding": null,
            "right": null,
            "top": null,
            "visibility": null,
            "width": null
          }
        },
        "6147f3d94dc74d7e9296d0fa2cb831da": {
          "model_module": "@jupyter-widgets/controls",
          "model_name": "DescriptionStyleModel",
          "model_module_version": "1.5.0",
          "state": {
            "_model_module": "@jupyter-widgets/controls",
            "_model_module_version": "1.5.0",
            "_model_name": "DescriptionStyleModel",
            "_view_count": null,
            "_view_module": "@jupyter-widgets/base",
            "_view_module_version": "1.2.0",
            "_view_name": "StyleView",
            "description_width": ""
          }
        },
        "dd6e20e887f744e584ae8c3ca1f5f6fc": {
          "model_module": "@jupyter-widgets/base",
          "model_name": "LayoutModel",
          "model_module_version": "1.2.0",
          "state": {
            "_model_module": "@jupyter-widgets/base",
            "_model_module_version": "1.2.0",
            "_model_name": "LayoutModel",
            "_view_count": null,
            "_view_module": "@jupyter-widgets/base",
            "_view_module_version": "1.2.0",
            "_view_name": "LayoutView",
            "align_content": null,
            "align_items": null,
            "align_self": null,
            "border": null,
            "bottom": null,
            "display": null,
            "flex": null,
            "flex_flow": null,
            "grid_area": null,
            "grid_auto_columns": null,
            "grid_auto_flow": null,
            "grid_auto_rows": null,
            "grid_column": null,
            "grid_gap": null,
            "grid_row": null,
            "grid_template_areas": null,
            "grid_template_columns": null,
            "grid_template_rows": null,
            "height": null,
            "justify_content": null,
            "justify_items": null,
            "left": null,
            "margin": null,
            "max_height": null,
            "max_width": null,
            "min_height": null,
            "min_width": null,
            "object_fit": null,
            "object_position": null,
            "order": null,
            "overflow": null,
            "overflow_x": null,
            "overflow_y": null,
            "padding": null,
            "right": null,
            "top": null,
            "visibility": null,
            "width": null
          }
        },
        "51a1fb61be1a43f9889ae20c00789df2": {
          "model_module": "@jupyter-widgets/controls",
          "model_name": "ProgressStyleModel",
          "model_module_version": "1.5.0",
          "state": {
            "_model_module": "@jupyter-widgets/controls",
            "_model_module_version": "1.5.0",
            "_model_name": "ProgressStyleModel",
            "_view_count": null,
            "_view_module": "@jupyter-widgets/base",
            "_view_module_version": "1.2.0",
            "_view_name": "StyleView",
            "bar_color": null,
            "description_width": ""
          }
        },
        "98daafc2c6434f5fa4680c269826d340": {
          "model_module": "@jupyter-widgets/base",
          "model_name": "LayoutModel",
          "model_module_version": "1.2.0",
          "state": {
            "_model_module": "@jupyter-widgets/base",
            "_model_module_version": "1.2.0",
            "_model_name": "LayoutModel",
            "_view_count": null,
            "_view_module": "@jupyter-widgets/base",
            "_view_module_version": "1.2.0",
            "_view_name": "LayoutView",
            "align_content": null,
            "align_items": null,
            "align_self": null,
            "border": null,
            "bottom": null,
            "display": null,
            "flex": null,
            "flex_flow": null,
            "grid_area": null,
            "grid_auto_columns": null,
            "grid_auto_flow": null,
            "grid_auto_rows": null,
            "grid_column": null,
            "grid_gap": null,
            "grid_row": null,
            "grid_template_areas": null,
            "grid_template_columns": null,
            "grid_template_rows": null,
            "height": null,
            "justify_content": null,
            "justify_items": null,
            "left": null,
            "margin": null,
            "max_height": null,
            "max_width": null,
            "min_height": null,
            "min_width": null,
            "object_fit": null,
            "object_position": null,
            "order": null,
            "overflow": null,
            "overflow_x": null,
            "overflow_y": null,
            "padding": null,
            "right": null,
            "top": null,
            "visibility": null,
            "width": null
          }
        },
        "36ceec5b12044c1c8a0d1319688a5cfd": {
          "model_module": "@jupyter-widgets/controls",
          "model_name": "DescriptionStyleModel",
          "model_module_version": "1.5.0",
          "state": {
            "_model_module": "@jupyter-widgets/controls",
            "_model_module_version": "1.5.0",
            "_model_name": "DescriptionStyleModel",
            "_view_count": null,
            "_view_module": "@jupyter-widgets/base",
            "_view_module_version": "1.2.0",
            "_view_name": "StyleView",
            "description_width": ""
          }
        }
      }
    },
    "accelerator": "GPU"
  },
  "cells": [
    {
      "cell_type": "markdown",
      "metadata": {
        "id": "view-in-github",
        "colab_type": "text"
      },
      "source": [
        "<a href=\"https://colab.research.google.com/github/punkmic/Topic-Modeling-Reclame-Aqui/blob/master/Topic_Modeling_with_BERTopic_Reclame_aqui_(17).ipynb\" target=\"_parent\"><img src=\"https://colab.research.google.com/assets/colab-badge.svg\" alt=\"Open In Colab\"/></a>"
      ]
    },
    {
      "cell_type": "markdown",
      "source": [
        "# **Topic Modeling with BERTopic - Reclame Aqui**\n",
        "\n",
        "BERTopic is a topic modeling technique that leverages transformers and a custom class-based TF-IDF to create dense clusters allowing for easily interpretable topics whilst keeping important words in the topic descriptions \n",
        "\n",
        "Reference: (https://maartengr.github.io/BERTopic/index.html)."
      ],
      "metadata": {
        "id": "VG5Z-hvZ9GIZ"
      }
    },
    {
      "cell_type": "markdown",
      "source": [
        "### **Enabling the GPU**\n",
        "\n",
        "We will use the GPU provided by COLAB to accelarate our model training. To enable GPUs for the notebook:\n",
        "1- Navigate to Edit -> Notebook Settings\n",
        "2- Select GPU from the Hardware Accelerator drop-down"
      ],
      "metadata": {
        "id": "W_0vnbvROpuu"
      }
    },
    {
      "cell_type": "code",
      "source": [
        "# verify if GPU is enable\n",
        "gpu_info = !nvidia-smi\n",
        "gpu_info = '\\n'.join(gpu_info)\n",
        "if gpu_info.find('failed') >= 0:\n",
        "  print('Not connected to a GPU')\n",
        "else:\n",
        "  print(gpu_info)"
      ],
      "metadata": {
        "id": "gj08UQrDOqW2",
        "colab": {
          "base_uri": "https://localhost:8080/"
        },
        "outputId": "bc031a4a-3ba2-4205-c01e-dc507baf4ddc"
      },
      "execution_count": 1,
      "outputs": [
        {
          "output_type": "stream",
          "name": "stdout",
          "text": [
            "Thu Feb  2 04:50:55 2023       \n",
            "+-----------------------------------------------------------------------------+\n",
            "| NVIDIA-SMI 510.47.03    Driver Version: 510.47.03    CUDA Version: 11.6     |\n",
            "|-------------------------------+----------------------+----------------------+\n",
            "| GPU  Name        Persistence-M| Bus-Id        Disp.A | Volatile Uncorr. ECC |\n",
            "| Fan  Temp  Perf  Pwr:Usage/Cap|         Memory-Usage | GPU-Util  Compute M. |\n",
            "|                               |                      |               MIG M. |\n",
            "|===============================+======================+======================|\n",
            "|   0  Tesla T4            Off  | 00000000:00:04.0 Off |                    0 |\n",
            "| N/A   40C    P0    28W /  70W |      0MiB / 15360MiB |      0%      Default |\n",
            "|                               |                      |                  N/A |\n",
            "+-------------------------------+----------------------+----------------------+\n",
            "                                                                               \n",
            "+-----------------------------------------------------------------------------+\n",
            "| Processes:                                                                  |\n",
            "|  GPU   GI   CI        PID   Type   Process name                  GPU Memory |\n",
            "|        ID   ID                                                   Usage      |\n",
            "|=============================================================================|\n",
            "|  No running processes found                                                 |\n",
            "+-----------------------------------------------------------------------------+\n"
          ]
        }
      ]
    },
    {
      "cell_type": "markdown",
      "source": [
        "#### **Github**"
      ],
      "metadata": {
        "id": "F0gliNtXRkfH"
      }
    },
    {
      "cell_type": "code",
      "source": [
        "!ssh-keygen -t rsa -b 4096\n",
        "# Add github.com to our known hosts\n",
        "!ssh-keyscan -t rsa github.com >> ~/.ssh/known_hosts\n",
        "# Restrict the key permissions, or else SSH will complain.\n",
        "!chmod go-rwx /root/.ssh/id_rsa"
      ],
      "metadata": {
        "id": "yVd1eoa0zK7f",
        "colab": {
          "base_uri": "https://localhost:8080/"
        },
        "outputId": "eae08c69-38f3-4704-c53a-18fd034503d7"
      },
      "execution_count": 2,
      "outputs": [
        {
          "output_type": "stream",
          "name": "stdout",
          "text": [
            "Generating public/private rsa key pair.\n",
            "Enter file in which to save the key (/root/.ssh/id_rsa): \n",
            "Created directory '/root/.ssh'.\n",
            "Enter passphrase (empty for no passphrase): \n",
            "Enter same passphrase again: \n",
            "Your identification has been saved in /root/.ssh/id_rsa\n",
            "Your public key has been saved in /root/.ssh/id_rsa.pub\n",
            "The key fingerprint is:\n",
            "SHA256:b+qL2n66SsMtyqf51cbD0fbfVR+a2amIJ+xtBrsZvao root@857fc5a72474\n",
            "The key's randomart image is:\n",
            "+---[RSA 4096]----+\n",
            "|                 |\n",
            "|                 |\n",
            "|                 |\n",
            "|         .       |\n",
            "|        S o    ..|\n",
            "|   . . + =..  = =|\n",
            "|    = o B.=..+ oo|\n",
            "| . +.= o.B=+o....|\n",
            "|  =+++*E*BB+ .. .|\n",
            "+----[SHA256]-----+\n",
            "# github.com:22 SSH-2.0-babeld-9c9abdde\n"
          ]
        }
      ]
    },
    {
      "cell_type": "code",
      "source": [
        "!cat /root/.ssh/id_rsa.pub"
      ],
      "metadata": {
        "id": "_z-PSHRzz0PY",
        "outputId": "22980faa-7548-48e8-fdac-a65ee2f4eff0",
        "colab": {
          "base_uri": "https://localhost:8080/"
        }
      },
      "execution_count": 3,
      "outputs": [
        {
          "output_type": "stream",
          "name": "stdout",
          "text": [
            "ssh-rsa AAAAB3NzaC1yc2EAAAADAQABAAACAQCi76aSn3FhWYOVRXpLQsxqXuTuuxVU6Cu66Z9wA9fsuO40TiwPooolPOrkg6oTzgOfCsNek/kKPqrFKuV09pLRO4cExqQD+jrpv+f3FMR2uGGRqc4pkucN5+TJ5C6igzg8dJbEKXiBMs483o8Gntj5Pb7MFFCPQGjnsWzjTckpz6VXcOjr2gN3J05Tac4xRWC8fPB8Qa9DMnAqmD6nHlgRSFiPPHWwc9nMdRSr8PdUnVtl8FC7rwlMPLP109e07aN2Wk+vPkFa/vJG5AQDaZ3riqt/PCCEfO++q8n6bzCx3i151kW0m11kn68EUs+hRE5sEQYxcGLDulBOOKNjBwHX2kYFjPHT55q7W/xrLsWSmy0MnzDA2EKuNe543ZS0Ty9dli6v1OtkUSgqaPi6Rl553g+hEd31VubZG/k1FpVDXMMUGSoT6C1BI4Kdz09B9xhxkAZd1NbSlqaXH5xX358JzzGG6m97NErlUBoPTtt+QRo+DOp6IwxFoChDs8EsHbsjaTCToWSi9+jTGvQWiN5KSDcvLX96w1Q11erzZPvXmCIM1NcKc3z3hvzxbxKBRbP+F1tI+pPGPBCSed0EYvPN5Vpi0FwFVw/pQ5cfkcoyDBh0UkX6jCZzDWUab1ZB1+w2UwcqLz0/8OvG+oIXcujznQ4wORPfOktP1nM982ajPQ== root@857fc5a72474\n"
          ]
        }
      ]
    },
    {
      "cell_type": "code",
      "source": [
        "!git config --global user.email \"mattheus_ribeiro@outlook.com\"\n",
        "!git config --global user.name \"punkmic\""
      ],
      "metadata": {
        "id": "4iixpGcjzxrO"
      },
      "execution_count": 4,
      "outputs": []
    },
    {
      "cell_type": "code",
      "source": [
        "!ssh -T git@github.com"
      ],
      "metadata": {
        "id": "bcqhgkdaz3QI",
        "colab": {
          "base_uri": "https://localhost:8080/"
        },
        "outputId": "1daa7dc7-d2ea-420a-c81e-15274c160ee6"
      },
      "execution_count": 5,
      "outputs": [
        {
          "output_type": "stream",
          "name": "stdout",
          "text": [
            "Warning: Permanently added the RSA host key for IP address '20.205.243.166' to the list of known hosts.\r\n",
            "Hi punkmic! You've successfully authenticated, but GitHub does not provide shell access.\n"
          ]
        }
      ]
    },
    {
      "cell_type": "code",
      "source": [
        "!git clone git@github.com:punkmic/Topic-Modeling-Reclame-Aqui.git"
      ],
      "metadata": {
        "id": "zSA4ju5NDpqK",
        "outputId": "caab3a22-124e-4cd2-cdac-fd91feec2465",
        "colab": {
          "base_uri": "https://localhost:8080/"
        }
      },
      "execution_count": 6,
      "outputs": [
        {
          "output_type": "stream",
          "name": "stdout",
          "text": [
            "Cloning into 'Topic-Modeling-Reclame-Aqui'...\n",
            "remote: Enumerating objects: 18628, done.\u001b[K\n",
            "remote: Counting objects: 100% (4447/4447), done.\u001b[K\n",
            "remote: Compressing objects: 100% (2958/2958), done.\u001b[K\n",
            "remote: Total 18628 (delta 1454), reused 4416 (delta 1440), pack-reused 14181\u001b[K\n",
            "Receiving objects: 100% (18628/18628), 237.44 MiB | 8.12 MiB/s, done.\n",
            "Resolving deltas: 100% (2602/2602), done.\n",
            "Updating files: 100% (1084/1084), done.\n"
          ]
        }
      ]
    },
    {
      "cell_type": "markdown",
      "source": [
        "### **Setup**"
      ],
      "metadata": {
        "id": "eXD8VBix7DD1"
      }
    },
    {
      "cell_type": "code",
      "execution_count": 7,
      "metadata": {
        "id": "CQ0hDdDm6gtj"
      },
      "outputs": [],
      "source": [
        "%%capture\n",
        "import pandas as pd # for data manipulation\n",
        "import os # for interacting with the operating system\n",
        "import nltk # for natural language processing\n",
        "import matplotlib.pyplot as plt # for visualization\n",
        "import ast # for convert str to tuple\n",
        "import csv\n",
        "import json\n",
        "import pickle \n",
        "from sklearn.decomposition import PCA # for dimension reduction\n",
        "from sklearn.feature_extraction.text import CountVectorizer # for convert text documents to matrix of tokens count\n",
        "from sklearn.cluster import KMeans # for clustering\n",
        "\n",
        "try:\n",
        "  from gensim import models\n",
        "  from gensim.corpora import Dictionary\n",
        "  from gensim.models.coherencemodel import CoherenceModel\n",
        "  from bertopic import BERTopic # for topic modeling\n",
        "  import optuna # for hyperparameter optimization\n",
        "  from hdbscan import HDBSCAN # for clustering\n",
        "  from umap import UMAP # for dimension reduction\n",
        "  from bertopic.vectorizers import ClassTfidfTransformer \n",
        "except:\n",
        "  !pip install gensim\n",
        "  !pip install bertopic\n",
        "  !pip install kaleido # for save BERTopic plots as image\n",
        "  !pip install optuna\n",
        "  !pip install hdbscan\n",
        "  !pip install umap-learn\n",
        "  from gensim import models\n",
        "  from gensim.corpora import Dictionary\n",
        "  from gensim.models.coherencemodel import CoherenceModel\n",
        "  from umap import UMAP # for dimension reduction\n",
        "  import optuna # for hyperparameter optimization\n",
        "  from hdbscan import HDBSCAN # for clustering\n",
        "  from bertopic import BERTopic # for topic modeling\n",
        "  from bertopic.vectorizers import ClassTfidfTransformer \n",
        "\n",
        "# import custom module\n",
        "%cd /content/Topic-Modeling-Reclame-Aqui/utils\n",
        "from max_limit import max_limit\n",
        "%cd ../"
      ]
    },
    {
      "cell_type": "code",
      "source": [
        "WORK_DIR = '/content/Topic-Modeling-Reclame-Aqui/bertopic'"
      ],
      "metadata": {
        "id": "gm7oJoCxgCHy"
      },
      "execution_count": 8,
      "outputs": []
    },
    {
      "cell_type": "code",
      "source": [
        "df = pd.read_csv(os.path.join('/content/Topic-Modeling-Reclame-Aqui/datasets', 'processed_v1.csv'))"
      ],
      "metadata": {
        "id": "xdRUWhqa2hB_"
      },
      "execution_count": 41,
      "outputs": []
    },
    {
      "cell_type": "code",
      "source": [
        "df.head(3)"
      ],
      "metadata": {
        "colab": {
          "base_uri": "https://localhost:8080/",
          "height": 433
        },
        "id": "2jC5nplkfPhm",
        "outputId": "e8311c7a-0957-41e6-d393-88ddee2ca08e"
      },
      "execution_count": 42,
      "outputs": [
        {
          "output_type": "execute_result",
          "data": {
            "text/plain": [
              "                                         title  \\\n",
              "0  pedir cancelado justificativa semana compro   \n",
              "1                               pedir cancelar   \n",
              "2                             cobrança indever   \n",
              "\n",
              "                                           documents  \\\n",
              "0  pesquisando bastante novo comprar resolver agu...   \n",
              "1  sinceramente decepcionar entrar contato procon...   \n",
              "2  cancelei plano antes terminar período testir g...   \n",
              "\n",
              "                                     documents_nouns  \\\n",
              "0  semana desconto promoção desconto compra custo...   \n",
              "1  procon audiência conciliação solicitação produ...   \n",
              "2  cancelei período plataforma fatura gratuito ca...   \n",
              "\n",
              "                                             bigrams  \\\n",
              "0  [('pesquisando', 'bastante'), ('bastante', 'no...   \n",
              "1  [('sinceramente', 'decepcionar'), ('decepciona...   \n",
              "2  [('cancelei', 'plano'), ('plano', 'antes'), ('...   \n",
              "\n",
              "                                        noun_bigrams  \\\n",
              "0  [('semana', 'desconto'), ('desconto', 'promoçã...   \n",
              "1  [('procon', 'audiência'), ('audiência', 'conci...   \n",
              "2  [('cancelei', 'período'), ('período', 'platafo...   \n",
              "\n",
              "                                            trigrams  \\\n",
              "0  [('pesquisando', 'bastante', 'novo'), ('bastan...   \n",
              "1  [('sinceramente', 'decepcionar', 'entrar'), ('...   \n",
              "2  [('cancelei', 'plano', 'antes'), ('plano', 'an...   \n",
              "\n",
              "                                       noun_trigrams  \\\n",
              "0  [('semana', 'desconto', 'promoção'), ('descont...   \n",
              "1  [('procon', 'audiência', 'conciliação'), ('aud...   \n",
              "2  [('cancelei', 'período', 'plataforma'), ('perí...   \n",
              "\n",
              "                                  freq_words_removed  \\\n",
              "0  pesquisando bastante novo resolver aguardar se...   \n",
              "1  sinceramente decepcionar procon hoje informar ...   \n",
              "2  cancelei plano antes terminar período testir g...   \n",
              "\n",
              "                            freq_words_removed_nouns  \n",
              "0  semana desconto promoção desconto plataforma c...  \n",
              "1  procon audiência conciliação solicitação estoq...  \n",
              "2  cancelei período plataforma fatura gratuito ca...  "
            ],
            "text/html": [
              "\n",
              "  <div id=\"df-0ce5c42f-347a-469c-af3f-a014e52ffd14\">\n",
              "    <div class=\"colab-df-container\">\n",
              "      <div>\n",
              "<style scoped>\n",
              "    .dataframe tbody tr th:only-of-type {\n",
              "        vertical-align: middle;\n",
              "    }\n",
              "\n",
              "    .dataframe tbody tr th {\n",
              "        vertical-align: top;\n",
              "    }\n",
              "\n",
              "    .dataframe thead th {\n",
              "        text-align: right;\n",
              "    }\n",
              "</style>\n",
              "<table border=\"1\" class=\"dataframe\">\n",
              "  <thead>\n",
              "    <tr style=\"text-align: right;\">\n",
              "      <th></th>\n",
              "      <th>title</th>\n",
              "      <th>documents</th>\n",
              "      <th>documents_nouns</th>\n",
              "      <th>bigrams</th>\n",
              "      <th>noun_bigrams</th>\n",
              "      <th>trigrams</th>\n",
              "      <th>noun_trigrams</th>\n",
              "      <th>freq_words_removed</th>\n",
              "      <th>freq_words_removed_nouns</th>\n",
              "    </tr>\n",
              "  </thead>\n",
              "  <tbody>\n",
              "    <tr>\n",
              "      <th>0</th>\n",
              "      <td>pedir cancelado justificativa semana compro</td>\n",
              "      <td>pesquisando bastante novo comprar resolver agu...</td>\n",
              "      <td>semana desconto promoção desconto compra custo...</td>\n",
              "      <td>[('pesquisando', 'bastante'), ('bastante', 'no...</td>\n",
              "      <td>[('semana', 'desconto'), ('desconto', 'promoçã...</td>\n",
              "      <td>[('pesquisando', 'bastante', 'novo'), ('bastan...</td>\n",
              "      <td>[('semana', 'desconto', 'promoção'), ('descont...</td>\n",
              "      <td>pesquisando bastante novo resolver aguardar se...</td>\n",
              "      <td>semana desconto promoção desconto plataforma c...</td>\n",
              "    </tr>\n",
              "    <tr>\n",
              "      <th>1</th>\n",
              "      <td>pedir cancelar</td>\n",
              "      <td>sinceramente decepcionar entrar contato procon...</td>\n",
              "      <td>procon audiência conciliação solicitação produ...</td>\n",
              "      <td>[('sinceramente', 'decepcionar'), ('decepciona...</td>\n",
              "      <td>[('procon', 'audiência'), ('audiência', 'conci...</td>\n",
              "      <td>[('sinceramente', 'decepcionar', 'entrar'), ('...</td>\n",
              "      <td>[('procon', 'audiência', 'conciliação'), ('aud...</td>\n",
              "      <td>sinceramente decepcionar procon hoje informar ...</td>\n",
              "      <td>procon audiência conciliação solicitação estoq...</td>\n",
              "    </tr>\n",
              "    <tr>\n",
              "      <th>2</th>\n",
              "      <td>cobrança indever</td>\n",
              "      <td>cancelei plano antes terminar período testir g...</td>\n",
              "      <td>cancelei período plataforma fatura gratuito ca...</td>\n",
              "      <td>[('cancelei', 'plano'), ('plano', 'antes'), ('...</td>\n",
              "      <td>[('cancelei', 'período'), ('período', 'platafo...</td>\n",
              "      <td>[('cancelei', 'plano', 'antes'), ('plano', 'an...</td>\n",
              "      <td>[('cancelei', 'período', 'plataforma'), ('perí...</td>\n",
              "      <td>cancelei plano antes terminar período testir g...</td>\n",
              "      <td>cancelei período plataforma fatura gratuito ca...</td>\n",
              "    </tr>\n",
              "  </tbody>\n",
              "</table>\n",
              "</div>\n",
              "      <button class=\"colab-df-convert\" onclick=\"convertToInteractive('df-0ce5c42f-347a-469c-af3f-a014e52ffd14')\"\n",
              "              title=\"Convert this dataframe to an interactive table.\"\n",
              "              style=\"display:none;\">\n",
              "        \n",
              "  <svg xmlns=\"http://www.w3.org/2000/svg\" height=\"24px\"viewBox=\"0 0 24 24\"\n",
              "       width=\"24px\">\n",
              "    <path d=\"M0 0h24v24H0V0z\" fill=\"none\"/>\n",
              "    <path d=\"M18.56 5.44l.94 2.06.94-2.06 2.06-.94-2.06-.94-.94-2.06-.94 2.06-2.06.94zm-11 1L8.5 8.5l.94-2.06 2.06-.94-2.06-.94L8.5 2.5l-.94 2.06-2.06.94zm10 10l.94 2.06.94-2.06 2.06-.94-2.06-.94-.94-2.06-.94 2.06-2.06.94z\"/><path d=\"M17.41 7.96l-1.37-1.37c-.4-.4-.92-.59-1.43-.59-.52 0-1.04.2-1.43.59L10.3 9.45l-7.72 7.72c-.78.78-.78 2.05 0 2.83L4 21.41c.39.39.9.59 1.41.59.51 0 1.02-.2 1.41-.59l7.78-7.78 2.81-2.81c.8-.78.8-2.07 0-2.86zM5.41 20L4 18.59l7.72-7.72 1.47 1.35L5.41 20z\"/>\n",
              "  </svg>\n",
              "      </button>\n",
              "      \n",
              "  <style>\n",
              "    .colab-df-container {\n",
              "      display:flex;\n",
              "      flex-wrap:wrap;\n",
              "      gap: 12px;\n",
              "    }\n",
              "\n",
              "    .colab-df-convert {\n",
              "      background-color: #E8F0FE;\n",
              "      border: none;\n",
              "      border-radius: 50%;\n",
              "      cursor: pointer;\n",
              "      display: none;\n",
              "      fill: #1967D2;\n",
              "      height: 32px;\n",
              "      padding: 0 0 0 0;\n",
              "      width: 32px;\n",
              "    }\n",
              "\n",
              "    .colab-df-convert:hover {\n",
              "      background-color: #E2EBFA;\n",
              "      box-shadow: 0px 1px 2px rgba(60, 64, 67, 0.3), 0px 1px 3px 1px rgba(60, 64, 67, 0.15);\n",
              "      fill: #174EA6;\n",
              "    }\n",
              "\n",
              "    [theme=dark] .colab-df-convert {\n",
              "      background-color: #3B4455;\n",
              "      fill: #D2E3FC;\n",
              "    }\n",
              "\n",
              "    [theme=dark] .colab-df-convert:hover {\n",
              "      background-color: #434B5C;\n",
              "      box-shadow: 0px 1px 3px 1px rgba(0, 0, 0, 0.15);\n",
              "      filter: drop-shadow(0px 1px 2px rgba(0, 0, 0, 0.3));\n",
              "      fill: #FFFFFF;\n",
              "    }\n",
              "  </style>\n",
              "\n",
              "      <script>\n",
              "        const buttonEl =\n",
              "          document.querySelector('#df-0ce5c42f-347a-469c-af3f-a014e52ffd14 button.colab-df-convert');\n",
              "        buttonEl.style.display =\n",
              "          google.colab.kernel.accessAllowed ? 'block' : 'none';\n",
              "\n",
              "        async function convertToInteractive(key) {\n",
              "          const element = document.querySelector('#df-0ce5c42f-347a-469c-af3f-a014e52ffd14');\n",
              "          const dataTable =\n",
              "            await google.colab.kernel.invokeFunction('convertToInteractive',\n",
              "                                                     [key], {});\n",
              "          if (!dataTable) return;\n",
              "\n",
              "          const docLinkHtml = 'Like what you see? Visit the ' +\n",
              "            '<a target=\"_blank\" href=https://colab.research.google.com/notebooks/data_table.ipynb>data table notebook</a>'\n",
              "            + ' to learn more about interactive tables.';\n",
              "          element.innerHTML = '';\n",
              "          dataTable['output_type'] = 'display_data';\n",
              "          await google.colab.output.renderOutput(dataTable, element);\n",
              "          const docLink = document.createElement('div');\n",
              "          docLink.innerHTML = docLinkHtml;\n",
              "          element.appendChild(docLink);\n",
              "        }\n",
              "      </script>\n",
              "    </div>\n",
              "  </div>\n",
              "  "
            ]
          },
          "metadata": {},
          "execution_count": 42
        }
      ]
    },
    {
      "cell_type": "code",
      "source": [
        "COLNAME = 'freq_words_removed_nouns'"
      ],
      "metadata": {
        "id": "p-06v2DRCfrT"
      },
      "execution_count": 43,
      "outputs": []
    },
    {
      "cell_type": "code",
      "source": [
        "df.dropna(subset=[COLNAME], inplace=True)\n",
        "documents = df[COLNAME].values\n",
        "print(len(documents))"
      ],
      "metadata": {
        "colab": {
          "base_uri": "https://localhost:8080/"
        },
        "id": "PE9sw_JAzUo5",
        "outputId": "3505af25-9579-452e-f173-047ab4faef49"
      },
      "execution_count": 44,
      "outputs": [
        {
          "output_type": "stream",
          "name": "stdout",
          "text": [
            "10292\n"
          ]
        }
      ]
    },
    {
      "cell_type": "markdown",
      "source": [
        "## **Training a BERTopic Model**\n",
        "\n",
        "The BERTopic algorithm has several advantages over other topic modeling algorithms. It is able to handle sparse data, it is scalable to large datasets, and it is able to learn topics that are not well-defined or are overlapping.\n",
        "\n",
        "As our data language is portuguese we will going to set language to multilingual."
      ],
      "metadata": {
        "id": "AWmOFQ3VOD05"
      }
    },
    {
      "cell_type": "markdown",
      "source": [
        "Create a new BERTopic model and train it. By default BERTopic use the paraphrase-multilingual-MiniLM-L12-v2 model for multi language documents. For others model check here [BERTopic sentence transformers](https://maartengr.github.io/BERTopic/getting_started/embeddings/embeddings.html#sentence-transformers)"
      ],
      "metadata": {
        "id": "_mBsnRnhgbm9"
      }
    },
    {
      "cell_type": "code",
      "source": [
        "# Create a new BERTopic model using multilingual option\n",
        "topic_model = BERTopic(language=\"multilingual\", verbose=True)\n",
        "\n",
        "# Train model \n",
        "topics, probs = topic_model.fit_transform(documents)\n",
        "\n",
        "print(f'Clustering algorithm parameters: {topic_model.hdbscan_model.get_params(False)}')\n",
        "print(f'\\nReduction algorithm parameters: {topic_model.umap_model.get_params(False)}')"
      ],
      "metadata": {
        "id": "B0EFqnutN2Y9",
        "outputId": "a8febb51-3287-4ed2-f8b2-fafe2f150596",
        "colab": {
          "base_uri": "https://localhost:8080/",
          "height": 441,
          "referenced_widgets": [
            "bcefb373d6c7454b91fa155e70ef701b",
            "60a66642a34c442c8a277ae2e4bdc438",
            "ef4229ecfa144498bf84772f775dc7ff",
            "d9242c146f7747988f6c113faa1c568b",
            "8ae639acb82f4abdbdb06bbda9116961",
            "c49d8e56ec65402abe62ad7d0572db03",
            "718da9264dfd4bc0a0e2ba4084c7b4fe",
            "ec48bc6d96194625888574afa66b3505",
            "8d9c6cc92a92417a94f4e95323f881f3",
            "c61d45c14c924770b0b931bd515d2b66",
            "efb1d71f8a2c4fd093df38a1c5cdcc97",
            "d5bdca4a51c24019bcfadf162bd6f781",
            "b31d50b67aeb47ce85ea4fd66c4d7384",
            "4a815f2a43404745ba41ce8de7d813a6",
            "b40143228e6142a7959128901e1798bb",
            "a82055092b3f4ebbbacff693f08fdb28",
            "333c42adffbf42bab12f805d84190d6c",
            "9f43ee5451284fd293ac34f1e776cd79",
            "b01354f01c27448ba2f36d42d807e711",
            "4dd3645abd954893bf1e894a527790f6",
            "c597e28ba9b0449a8dd25de0a945f5c1",
            "b4864c74732948a9b1c9286ad793195c",
            "31b2bbff19ab448fb6aed456fc85080f",
            "285167275cff4073b33c2e8118a9d49c",
            "a045afb2a73d43de9db417105b7271cf",
            "39866e5bf40e4f83a43439edf9f62847",
            "f6583cd41c4c483cb4959544ce009693",
            "d08b60d85f5f4138b523cc64a346fd14",
            "21af602561514b81ad1990675d3789e5",
            "305acfc3719749d8a4d27963dda5b0a7",
            "d127ab6aade042eeb7eb4091aeb31b62",
            "294f0e6217d243b4917bd61736966d56",
            "65e154e6402b4c04804f699893320f20",
            "2350af6a6c0a4ad19c5dbeee1ae802e8",
            "2d4558664b204f6287bfef57d36601b5",
            "de875c9270a64c52aea9306e35001c51",
            "333756e483824cfca778b5b375b04a83",
            "2f4c078dbd5d4015a90ffd8879b6064f",
            "0d915663b8154bbcaab25f83ee28cf0a",
            "0024f722b5084231bf8467e730b48b7c",
            "7f5c5c82f2f04df89ac16fbcd9bc92b1",
            "cac859b3113c4ac39947ab43a879990f",
            "89dc14f94904492287b90f805bfb79e1",
            "5af90814b0cb485090449c1492e82033",
            "eda5f5177a8f46ccbc069e0cacb1a5c1",
            "a373803ba9114b2a85b8e4ec0a22b42c",
            "dbee6a9e7ab44e769eca9a7e62ea78dd",
            "43385a0ce99b4fd6ac8d13b81627e769",
            "283bced1a1154779afe9b00957b0ff9d",
            "e2943d52e134449289db82794f77ce69",
            "b462ec243cea4540a583c53c9834e59f",
            "2677ad301829421bbca53a20a5ed75e9",
            "c901ad7914c146b78ee9bec4b4b6536e",
            "ec900dd6c546450cad634f9882434b2e",
            "ca7994cda17b45fbbaa15a7787a43cd8",
            "237e45c96b35440b98ace858367f32a7",
            "e2bc8e75ece4496594c0598d7a2fbabc",
            "538c5715dcb442568ea2577b675a8254",
            "d6f34ffe60d341e6a93b58c0b7815857",
            "09d1eb3686774be091ab3e3578e2bd55",
            "eb7127f5b7b94063b913d52126b26824",
            "5f3369e147e4422f9ef910321162e2ad",
            "694e40bc339649fd8036a1e1a123d4a1",
            "06195b182dfb48af849e66e36a31920d",
            "64f7a8aed961496dbf02e27a2e8df759",
            "ab5d1280c5654b45a2600b8777e34652",
            "aff5c43ee1a848fd804d6a6656d266d3",
            "98a383c516014fa29c4b6a02c27d6dd3",
            "bfb977aa91da4aa69d893bc577f62de8",
            "a7e550e7c7304478a00316c182eeddde",
            "dcc5f6775f8842bd883b71c67175bf8e",
            "6f1e763d2cd5499b8970e3f544169240",
            "a454621907e647dfa13dcba24f66feee",
            "cbbb96a09bf44826be3cfe7df736774f",
            "e1e0c897bdee4b72a4ad9df43cb2d16e",
            "f77c81fac2e44d7c846972d47e15370e",
            "fd1e8f7a1abb488fbf315550415519a4",
            "8134409b13554ae9b7441e485707bab1",
            "902272c1f939465bab34d6adea904e50",
            "6e3b9ae48e294eef96ab17ee7b2f26ce",
            "0f5d9c9d9c9543379afcd4b41ede9597",
            "2bb74750b3b84be3accfbf20964a714e",
            "ba58760047784181a6b36d68f817b9ac",
            "1931abcca0d440bba5def766ff767599",
            "ed85d812f2064b84ab1168937a5eacba",
            "d4e1d0fcc45e437280eb1367f3ab2433",
            "897b7553127b40d88241cf20ca291a45",
            "a10d7b6b9b1b4fa6bdaaedf161783a99",
            "03327ec369854a7888047425f023ee9c",
            "36cb2d43ccbf4420b4758b15d606f7c3",
            "7df92ccc603f4edc9034798b7a11762c",
            "2895a2d6c0db453ea8208ae9ea0a1567",
            "084f4e4ff5e347aabb1158e2bb9b223d",
            "f254e30d0d03432ab2f1c6f81a3eb805",
            "e1d42ffefa00412aa5959ef15ca61ea5",
            "1a52da53e21b43bea0902f492b0b1277",
            "e7152855adae43a5a386942d3cb2227e",
            "f24c43c1d4be453ab5cabaab1ef34d11",
            "5bc77066b8214641a3eb2d548d9ddddd",
            "6b06e8ca72c64bd88b566ccbe09c1fc5",
            "73bd1b63eb4b4b3cb237fd091d207ed5",
            "88682343273042f0bb9fae2f11577c56",
            "d9e9470839564679992adea6a86b93c3",
            "9fa5233ea03145ab943208a7c3ec6d16",
            "95f44c5d7061488e9e60486e10c611a8",
            "ecf6d29390334e8d894a23841b409b6d",
            "d27e7c6f54494fa980163960ef2e56bd",
            "3d3427a0a16d40c590d3044a71cd2cea",
            "2af9eb947fd5456bbdb28fb9d79349d1",
            "09049e5581fc4a48bd92a03d5307f252",
            "df98d330f658484cb448fe6eb2879850",
            "4d2357bd539f4a5f8a177fd93b274cfb",
            "7575c6b1331c4bf8a20f38494cd41141",
            "8ef6566f8e74471ebe376838bf86cf3f",
            "139d696966a644aa952bd8631966c145",
            "0b329b26813743c69254f86c423cfdcb",
            "6207ee79e2ea4e69a125a9d8e1f8a1ea",
            "5ef4722d0003464e82e93b8652c0b249",
            "610ea91aae314faca6d6c097aa51299c",
            "4dce285ca1584e9383eb608824650420",
            "9fef56f9aebb4ba5af2e3f699e50c688"
          ]
        }
      },
      "execution_count": null,
      "outputs": [
        {
          "output_type": "display_data",
          "data": {
            "text/plain": [
              "Downloading (…)e900fe39/config.json:   0%|          | 0.00/645 [00:00<?, ?B/s]"
            ],
            "application/vnd.jupyter.widget-view+json": {
              "version_major": 2,
              "version_minor": 0,
              "model_id": "bcefb373d6c7454b91fa155e70ef701b"
            }
          },
          "metadata": {}
        },
        {
          "output_type": "display_data",
          "data": {
            "text/plain": [
              "Downloading (…)ce_transformers.json:   0%|          | 0.00/122 [00:00<?, ?B/s]"
            ],
            "application/vnd.jupyter.widget-view+json": {
              "version_major": 2,
              "version_minor": 0,
              "model_id": "d5bdca4a51c24019bcfadf162bd6f781"
            }
          },
          "metadata": {}
        },
        {
          "output_type": "display_data",
          "data": {
            "text/plain": [
              "Downloading (…)\"pytorch_model.bin\";:   0%|          | 0.00/471M [00:00<?, ?B/s]"
            ],
            "application/vnd.jupyter.widget-view+json": {
              "version_major": 2,
              "version_minor": 0,
              "model_id": "31b2bbff19ab448fb6aed456fc85080f"
            }
          },
          "metadata": {}
        },
        {
          "output_type": "display_data",
          "data": {
            "text/plain": [
              "Downloading (…)nce_bert_config.json:   0%|          | 0.00/53.0 [00:00<?, ?B/s]"
            ],
            "application/vnd.jupyter.widget-view+json": {
              "version_major": 2,
              "version_minor": 0,
              "model_id": "2350af6a6c0a4ad19c5dbeee1ae802e8"
            }
          },
          "metadata": {}
        },
        {
          "output_type": "display_data",
          "data": {
            "text/plain": [
              "Downloading (…)ncepiece.bpe.model\";:   0%|          | 0.00/5.07M [00:00<?, ?B/s]"
            ],
            "application/vnd.jupyter.widget-view+json": {
              "version_major": 2,
              "version_minor": 0,
              "model_id": "eda5f5177a8f46ccbc069e0cacb1a5c1"
            }
          },
          "metadata": {}
        },
        {
          "output_type": "display_data",
          "data": {
            "text/plain": [
              "Downloading (…)cial_tokens_map.json:   0%|          | 0.00/239 [00:00<?, ?B/s]"
            ],
            "application/vnd.jupyter.widget-view+json": {
              "version_major": 2,
              "version_minor": 0,
              "model_id": "237e45c96b35440b98ace858367f32a7"
            }
          },
          "metadata": {}
        },
        {
          "output_type": "display_data",
          "data": {
            "text/plain": [
              "Downloading (…)\"tokenizer.json\";:   0%|          | 0.00/9.08M [00:00<?, ?B/s]"
            ],
            "application/vnd.jupyter.widget-view+json": {
              "version_major": 2,
              "version_minor": 0,
              "model_id": "aff5c43ee1a848fd804d6a6656d266d3"
            }
          },
          "metadata": {}
        },
        {
          "output_type": "display_data",
          "data": {
            "text/plain": [
              "Downloading (…)okenizer_config.json:   0%|          | 0.00/480 [00:00<?, ?B/s]"
            ],
            "application/vnd.jupyter.widget-view+json": {
              "version_major": 2,
              "version_minor": 0,
              "model_id": "8134409b13554ae9b7441e485707bab1"
            }
          },
          "metadata": {}
        },
        {
          "output_type": "display_data",
          "data": {
            "text/plain": [
              "Downloading (…)\"unigram.json\";:   0%|          | 0.00/14.8M [00:00<?, ?B/s]"
            ],
            "application/vnd.jupyter.widget-view+json": {
              "version_major": 2,
              "version_minor": 0,
              "model_id": "03327ec369854a7888047425f023ee9c"
            }
          },
          "metadata": {}
        },
        {
          "output_type": "display_data",
          "data": {
            "text/plain": [
              "Downloading (…)900fe39/modules.json:   0%|          | 0.00/229 [00:00<?, ?B/s]"
            ],
            "application/vnd.jupyter.widget-view+json": {
              "version_major": 2,
              "version_minor": 0,
              "model_id": "6b06e8ca72c64bd88b566ccbe09c1fc5"
            }
          },
          "metadata": {}
        },
        {
          "output_type": "display_data",
          "data": {
            "text/plain": [
              "Batches:   0%|          | 0/322 [00:00<?, ?it/s]"
            ],
            "application/vnd.jupyter.widget-view+json": {
              "version_major": 2,
              "version_minor": 0,
              "model_id": "df98d330f658484cb448fe6eb2879850"
            }
          },
          "metadata": {}
        },
        {
          "output_type": "stream",
          "name": "stdout",
          "text": [
            "HDBCAM parameters: {'algorithm': 'best', 'allow_single_cluster': False, 'alpha': 1.0, 'approx_min_span_tree': True, 'cluster_selection_epsilon': 0.0, 'cluster_selection_method': 'eom', 'core_dist_n_jobs': 4, 'gen_min_span_tree': False, 'leaf_size': 40, 'match_reference_implementation': False, 'max_cluster_size': 0, 'memory': Memory(location=None), 'metric': 'euclidean', 'min_cluster_size': 10, 'min_samples': None, 'p': None, 'prediction_data': True}\n",
            "\n",
            "UMAP parameters: {'a': None, 'angular_rp_forest': True, 'b': None, 'dens_frac': 0.3, 'dens_lambda': 2.0, 'dens_var_shift': 0.1, 'densmap': False, 'disconnection_distance': None, 'force_approximation_algorithm': False, 'init': 'spectral', 'learning_rate': 1.0, 'local_connectivity': 1.0, 'low_memory': False, 'metric': 'cosine', 'metric_kwds': None, 'min_dist': 0.0, 'n_components': 5, 'n_epochs': None, 'n_jobs': -1, 'n_neighbors': 15, 'negative_sample_rate': 5, 'output_dens': False, 'output_metric': 'euclidean', 'output_metric_kwds': None, 'precomputed_knn': (None, None, None), 'random_state': None, 'repulsion_strength': 1.0, 'set_op_mix_ratio': 1.0, 'spread': 1.0, 'target_metric': 'categorical', 'target_metric_kwds': None, 'target_n_neighbors': -1, 'target_weight': 0.5, 'tqdm_kwds': {'desc': 'Epochs completed', 'bar_format': '{desc}: {percentage:3.0f}%| {bar} {n_fmt}/{total_fmt} [{elapsed}]', 'disable': True}, 'transform_mode': 'embedding', 'transform_queue_size': 4.0, 'transform_seed': 42, 'unique': False, 'verbose': False}\n"
          ]
        }
      ]
    },
    {
      "cell_type": "markdown",
      "source": [
        "#### **Load best model from optimization**"
      ],
      "metadata": {
        "id": "QxYATfWiZl0B"
      }
    },
    {
      "cell_type": "code",
      "source": [
        "try:\n",
        "  dir = os.path.join(WORK_DIR, COLNAME, 'models')\n",
        "\n",
        "  topic_model = BERTopic.load(os.path.join(dir, 'model_trial_3'))\n",
        "  topics = topic_model.topics_\n",
        "\n",
        "  print(f'Reduction algorithm parameters: {topic_model.umap_model.get_params(False)}')\n",
        "  print(f'\\nClustering algorithm parameters: {topic_model.hdbscan_model.get_params(False)}')\n",
        "\n",
        "except:\n",
        "  print('None model founded from optimization')"
      ],
      "metadata": {
        "colab": {
          "base_uri": "https://localhost:8080/"
        },
        "id": "UjgmpqzTZkjq",
        "outputId": "5d9ff1e0-14e1-4203-cd7f-337b11dd378f"
      },
      "execution_count": null,
      "outputs": [
        {
          "output_type": "stream",
          "name": "stdout",
          "text": [
            "Reduction algorithm parameters: {'a': None, 'angular_rp_forest': False, 'b': None, 'dens_frac': 0.3, 'dens_lambda': 2.0, 'dens_var_shift': 0.1, 'densmap': False, 'disconnection_distance': None, 'force_approximation_algorithm': False, 'init': 'spectral', 'learning_rate': 1.0, 'local_connectivity': 1.0, 'low_memory': True, 'metric': 'euclidean', 'metric_kwds': None, 'min_dist': 0.1, 'n_components': 2, 'n_epochs': None, 'n_jobs': -1, 'n_neighbors': 8, 'negative_sample_rate': 5, 'output_dens': False, 'output_metric': 'euclidean', 'output_metric_kwds': None, 'precomputed_knn': (None, None, None), 'random_state': 42, 'repulsion_strength': 1.0, 'set_op_mix_ratio': 1.0, 'spread': 1.0, 'target_metric': 'categorical', 'target_metric_kwds': None, 'target_n_neighbors': -1, 'target_weight': 0.5, 'tqdm_kwds': {'desc': 'Epochs completed', 'bar_format': '{desc}: {percentage:3.0f}%| {bar} {n_fmt}/{total_fmt} [{elapsed}]', 'disable': True}, 'transform_mode': 'embedding', 'transform_queue_size': 4.0, 'transform_seed': 42, 'unique': False, 'verbose': False}\n",
            "\n",
            "Clustering algorithm parameters: {'algorithm': 'auto', 'copy_x': True, 'init': 'k-means++', 'max_iter': 300, 'n_clusters': 12, 'n_init': 10, 'random_state': 42, 'tol': 0.0001, 'verbose': 0}\n"
          ]
        }
      ]
    },
    {
      "cell_type": "code",
      "source": [
        "topic_range = range(0, min(len(topics), 20), 1)\n",
        "top_n_topics = len(topic_range)"
      ],
      "metadata": {
        "id": "moMXVA_mJLIJ"
      },
      "execution_count": null,
      "outputs": []
    },
    {
      "cell_type": "markdown",
      "source": [
        "BERTopic works in three main steps: \n",
        "\n",
        "\n",
        "1.   Documents are first converted to numeric data. It extracts different embeddings based on the context of the word. For this, a sentence transformation model is used.\n",
        "2.  Documents with similar topics are then grouped together forming clusters with similar topics. For this purpose, BERTopic uses the clustering algorithm UMAP to lower the dimensionality of the embeddings. Then the documents are clustered with the density-based algorithm HDBSCAN.\n",
        "3. BERTopic extracts topics from clusters using a class-based TF-IDF score. This score gives the importance of each word in a cluster. Topics are then created based on the most important words measured by their C-TF-IDF score.\n",
        "\n",
        "For more information check this link [BERTopic](https://towardsdatascience.com/topic-modeling-with-bert-779f7db187e6)\n",
        "\n"
      ],
      "metadata": {
        "id": "vnG5aC6ekXeu"
      }
    },
    {
      "cell_type": "markdown",
      "source": [
        "#### **BERTopic coherence score**"
      ],
      "metadata": {
        "id": "sO7nj4sKER-o"
      }
    },
    {
      "cell_type": "code",
      "source": [
        "def get_bertopic_coherence(model, topics, docs):\n",
        "  # Preprocess Documents\n",
        "  documents = pd.DataFrame({\"Document\": docs,\n",
        "                          \"ID\": range(len(docs)),\n",
        "                          \"Topic\": topics})\n",
        "  documents_per_topic = documents.groupby(['Topic'], as_index=False).agg({'Document': ' '.join})\n",
        "  cleaned_docs = model._preprocess_text(documents_per_topic.Document.values)\n",
        "\n",
        "  # Extract vectorizer and analyzer from BERTopic\n",
        "  vectorizer = model.vectorizer_model\n",
        "  analyzer = vectorizer.build_analyzer()\n",
        "\n",
        "  # Extract features for Topic Coherence evaluation\n",
        "  words = vectorizer.get_feature_names()\n",
        "  tokens = [analyzer(doc) for doc in cleaned_docs]\n",
        "  dictionary = Dictionary(tokens)\n",
        "  corpus = [dictionary.doc2bow(token) for token in tokens]\n",
        "  topic_words = [[words for words, _ in model.get_topic(topic)] \n",
        "               for topic in range(len(set(topics))-1)]\n",
        "\n",
        "  # Evaluate\n",
        "  coherence_model = CoherenceModel(topics=topic_words, \n",
        "                                 texts=tokens, \n",
        "                                 corpus=corpus,\n",
        "                                 dictionary=dictionary, \n",
        "                                 coherence='c_v')\n",
        "  return coherence_model.get_coherence()"
      ],
      "metadata": {
        "id": "l3lLDFgdIS-0"
      },
      "execution_count": 14,
      "outputs": []
    },
    {
      "cell_type": "code",
      "source": [
        "print(f\"Coherence score: {get_bertopic_coherence(topic_model, topics, documents)}\")"
      ],
      "metadata": {
        "id": "bGCBVYq7EX8h",
        "outputId": "d0846879-dbb6-4a4e-cb75-e3ce08d31ec9",
        "colab": {
          "base_uri": "https://localhost:8080/"
        }
      },
      "execution_count": null,
      "outputs": [
        {
          "output_type": "stream",
          "name": "stdout",
          "text": [
            "Coherence score: 0.7431635911233789\n"
          ]
        }
      ]
    },
    {
      "cell_type": "markdown",
      "source": [
        "### **Extracting Topics**"
      ],
      "metadata": {
        "id": "GimKIMmaRZSd"
      }
    },
    {
      "cell_type": "code",
      "source": [
        "# Print the most frequent topics\n",
        "freq = topic_model.get_topic_info()\n",
        "\n",
        "# Show the top 5 most frequent topics\n",
        "freq.head(5)"
      ],
      "metadata": {
        "id": "JIrBNmF-Rcf0",
        "colab": {
          "base_uri": "https://localhost:8080/",
          "height": 206
        },
        "outputId": "19e7dc93-7162-4971-f904-83f296a364ee"
      },
      "execution_count": null,
      "outputs": [
        {
          "output_type": "execute_result",
          "data": {
            "text/plain": [
              "   Topic  Count                                         Name\n",
              "0      0   2145     0_cancelamento_empresa_cliente_pagamento\n",
              "1      1   1673       1_loja loja_geladeira_compr_propaganda\n",
              "2      2   1255  2_devolução_retorno_pagamento valor_empresa\n",
              "3      3   1173          3_foto_devolução_defeito_reclamação\n",
              "4      4   1169              4_email_protocolo_login_retorno"
            ],
            "text/html": [
              "\n",
              "  <div id=\"df-434d3e30-a952-45f8-bec2-8b4e2ad82ff3\">\n",
              "    <div class=\"colab-df-container\">\n",
              "      <div>\n",
              "<style scoped>\n",
              "    .dataframe tbody tr th:only-of-type {\n",
              "        vertical-align: middle;\n",
              "    }\n",
              "\n",
              "    .dataframe tbody tr th {\n",
              "        vertical-align: top;\n",
              "    }\n",
              "\n",
              "    .dataframe thead th {\n",
              "        text-align: right;\n",
              "    }\n",
              "</style>\n",
              "<table border=\"1\" class=\"dataframe\">\n",
              "  <thead>\n",
              "    <tr style=\"text-align: right;\">\n",
              "      <th></th>\n",
              "      <th>Topic</th>\n",
              "      <th>Count</th>\n",
              "      <th>Name</th>\n",
              "    </tr>\n",
              "  </thead>\n",
              "  <tbody>\n",
              "    <tr>\n",
              "      <th>0</th>\n",
              "      <td>0</td>\n",
              "      <td>2145</td>\n",
              "      <td>0_cancelamento_empresa_cliente_pagamento</td>\n",
              "    </tr>\n",
              "    <tr>\n",
              "      <th>1</th>\n",
              "      <td>1</td>\n",
              "      <td>1673</td>\n",
              "      <td>1_loja loja_geladeira_compr_propaganda</td>\n",
              "    </tr>\n",
              "    <tr>\n",
              "      <th>2</th>\n",
              "      <td>2</td>\n",
              "      <td>1255</td>\n",
              "      <td>2_devolução_retorno_pagamento valor_empresa</td>\n",
              "    </tr>\n",
              "    <tr>\n",
              "      <th>3</th>\n",
              "      <td>3</td>\n",
              "      <td>1173</td>\n",
              "      <td>3_foto_devolução_defeito_reclamação</td>\n",
              "    </tr>\n",
              "    <tr>\n",
              "      <th>4</th>\n",
              "      <td>4</td>\n",
              "      <td>1169</td>\n",
              "      <td>4_email_protocolo_login_retorno</td>\n",
              "    </tr>\n",
              "  </tbody>\n",
              "</table>\n",
              "</div>\n",
              "      <button class=\"colab-df-convert\" onclick=\"convertToInteractive('df-434d3e30-a952-45f8-bec2-8b4e2ad82ff3')\"\n",
              "              title=\"Convert this dataframe to an interactive table.\"\n",
              "              style=\"display:none;\">\n",
              "        \n",
              "  <svg xmlns=\"http://www.w3.org/2000/svg\" height=\"24px\"viewBox=\"0 0 24 24\"\n",
              "       width=\"24px\">\n",
              "    <path d=\"M0 0h24v24H0V0z\" fill=\"none\"/>\n",
              "    <path d=\"M18.56 5.44l.94 2.06.94-2.06 2.06-.94-2.06-.94-.94-2.06-.94 2.06-2.06.94zm-11 1L8.5 8.5l.94-2.06 2.06-.94-2.06-.94L8.5 2.5l-.94 2.06-2.06.94zm10 10l.94 2.06.94-2.06 2.06-.94-2.06-.94-.94-2.06-.94 2.06-2.06.94z\"/><path d=\"M17.41 7.96l-1.37-1.37c-.4-.4-.92-.59-1.43-.59-.52 0-1.04.2-1.43.59L10.3 9.45l-7.72 7.72c-.78.78-.78 2.05 0 2.83L4 21.41c.39.39.9.59 1.41.59.51 0 1.02-.2 1.41-.59l7.78-7.78 2.81-2.81c.8-.78.8-2.07 0-2.86zM5.41 20L4 18.59l7.72-7.72 1.47 1.35L5.41 20z\"/>\n",
              "  </svg>\n",
              "      </button>\n",
              "      \n",
              "  <style>\n",
              "    .colab-df-container {\n",
              "      display:flex;\n",
              "      flex-wrap:wrap;\n",
              "      gap: 12px;\n",
              "    }\n",
              "\n",
              "    .colab-df-convert {\n",
              "      background-color: #E8F0FE;\n",
              "      border: none;\n",
              "      border-radius: 50%;\n",
              "      cursor: pointer;\n",
              "      display: none;\n",
              "      fill: #1967D2;\n",
              "      height: 32px;\n",
              "      padding: 0 0 0 0;\n",
              "      width: 32px;\n",
              "    }\n",
              "\n",
              "    .colab-df-convert:hover {\n",
              "      background-color: #E2EBFA;\n",
              "      box-shadow: 0px 1px 2px rgba(60, 64, 67, 0.3), 0px 1px 3px 1px rgba(60, 64, 67, 0.15);\n",
              "      fill: #174EA6;\n",
              "    }\n",
              "\n",
              "    [theme=dark] .colab-df-convert {\n",
              "      background-color: #3B4455;\n",
              "      fill: #D2E3FC;\n",
              "    }\n",
              "\n",
              "    [theme=dark] .colab-df-convert:hover {\n",
              "      background-color: #434B5C;\n",
              "      box-shadow: 0px 1px 3px 1px rgba(0, 0, 0, 0.15);\n",
              "      filter: drop-shadow(0px 1px 2px rgba(0, 0, 0, 0.3));\n",
              "      fill: #FFFFFF;\n",
              "    }\n",
              "  </style>\n",
              "\n",
              "      <script>\n",
              "        const buttonEl =\n",
              "          document.querySelector('#df-434d3e30-a952-45f8-bec2-8b4e2ad82ff3 button.colab-df-convert');\n",
              "        buttonEl.style.display =\n",
              "          google.colab.kernel.accessAllowed ? 'block' : 'none';\n",
              "\n",
              "        async function convertToInteractive(key) {\n",
              "          const element = document.querySelector('#df-434d3e30-a952-45f8-bec2-8b4e2ad82ff3');\n",
              "          const dataTable =\n",
              "            await google.colab.kernel.invokeFunction('convertToInteractive',\n",
              "                                                     [key], {});\n",
              "          if (!dataTable) return;\n",
              "\n",
              "          const docLinkHtml = 'Like what you see? Visit the ' +\n",
              "            '<a target=\"_blank\" href=https://colab.research.google.com/notebooks/data_table.ipynb>data table notebook</a>'\n",
              "            + ' to learn more about interactive tables.';\n",
              "          element.innerHTML = '';\n",
              "          dataTable['output_type'] = 'display_data';\n",
              "          await google.colab.output.renderOutput(dataTable, element);\n",
              "          const docLink = document.createElement('div');\n",
              "          docLink.innerHTML = docLinkHtml;\n",
              "          element.appendChild(docLink);\n",
              "        }\n",
              "      </script>\n",
              "    </div>\n",
              "  </div>\n",
              "  "
            ]
          },
          "metadata": {},
          "execution_count": 46
        }
      ]
    },
    {
      "cell_type": "markdown",
      "source": [
        "The table above shows the five most freqeuente topics and the words present on it extract by BERTopic. -1 refers to all outliers and should be ignored."
      ],
      "metadata": {
        "id": "TVWcfF5mRrMy"
      }
    },
    {
      "cell_type": "code",
      "source": [
        "# show the most frequent topic\n",
        "topic_model.get_topic(0)"
      ],
      "metadata": {
        "id": "Br_UMf1kRxU3",
        "colab": {
          "base_uri": "https://localhost:8080/"
        },
        "outputId": "8bb1d34c-5dbb-4b98-9606-5aec5d52ab33"
      },
      "execution_count": null,
      "outputs": [
        {
          "output_type": "execute_result",
          "data": {
            "text/plain": [
              "[('cancelamento', 0.06115138373972569),\n",
              " ('cancelei', 0.03045038223129544),\n",
              " ('estorno', 0.014307466778663083),\n",
              " ('dia', 0.010254876641504302),\n",
              " ('dinheiro', 0.008898062382302705),\n",
              " ('valor', 0.008841850166428371),\n",
              " ('solicitação', 0.008766808911345918),\n",
              " ('momento', 0.007861828631775878),\n",
              " ('prazo', 0.007573517252191604),\n",
              " ('loja', 0.00715142710309922)]"
            ]
          },
          "metadata": {},
          "execution_count": 175
        }
      ]
    },
    {
      "cell_type": "markdown",
      "source": [
        "**Note:** BERTopic is stocastich which means that the topics might differ across runs this is mostly due to the stocastisch nature of UMAP"
      ],
      "metadata": {
        "id": "YpP4HgF2R6Wa"
      }
    },
    {
      "cell_type": "markdown",
      "source": [
        "**Save topic info table as CSV**"
      ],
      "metadata": {
        "id": "CxWLChzJlPmZ"
      }
    },
    {
      "cell_type": "code",
      "source": [
        "def save_freq_topics(model, label):\n",
        "  # Print the most frequent topics\n",
        "  freq = model.get_topic_info()\n",
        "\n",
        "  # Show the top 5 most frequent topics\n",
        "  freq = freq.head(5)\n",
        "\n",
        "  dir = os.path.join(WORK_DIR, COLNAME, 'frequent_topics')\n",
        "  \n",
        "  # Use makedirs() to create a new directory if it does not exists\n",
        "  if not os.path.exists(dir):\n",
        "    os.makedirs(dir)\n",
        "\n",
        "  freq.to_html(os.path.join(dir, f\"freq_topics_trial_{label}.json\"))\n",
        "  freq.to_csv(os.path.join(dir, f\"freq_topics_trial_{label}.csv\"), index=False)"
      ],
      "metadata": {
        "id": "9wM4Ymh_lOdt"
      },
      "execution_count": 15,
      "outputs": []
    },
    {
      "cell_type": "code",
      "source": [
        "#save_freq_topics(topic_model, COLNAME)"
      ],
      "metadata": {
        "id": "poaPkdhA2iyJ"
      },
      "execution_count": null,
      "outputs": []
    },
    {
      "cell_type": "markdown",
      "source": [
        "## **Visualization**"
      ],
      "metadata": {
        "id": "wBsA8hiVSJDY"
      }
    },
    {
      "cell_type": "markdown",
      "source": [
        "### **Intertopic Distance Map**\n",
        "\n",
        "This graph shows the distance intertopic and help us understand the promixity of topics"
      ],
      "metadata": {
        "id": "2twooZDXUc2T"
      }
    },
    {
      "cell_type": "code",
      "source": [
        "fig = topic_model.visualize_topics(top_n_topics=20, width=800, height=800)\n",
        "fig"
      ],
      "metadata": {
        "id": "Ae2JSAENSIOJ",
        "colab": {
          "base_uri": "https://localhost:8080/",
          "height": 817
        },
        "outputId": "7de4f88c-4db9-4f9a-d4de-bfe839612893"
      },
      "execution_count": null,
      "outputs": [
        {
          "output_type": "display_data",
          "data": {
            "text/html": [
              "<html>\n",
              "<head><meta charset=\"utf-8\" /></head>\n",
              "<body>\n",
              "    <div>            <script src=\"https://cdnjs.cloudflare.com/ajax/libs/mathjax/2.7.5/MathJax.js?config=TeX-AMS-MML_SVG\"></script><script type=\"text/javascript\">if (window.MathJax) {MathJax.Hub.Config({SVG: {font: \"STIX-Web\"}});}</script>                <script type=\"text/javascript\">window.PlotlyConfig = {MathJaxConfig: 'local'};</script>\n",
              "        <script src=\"https://cdn.plot.ly/plotly-2.8.3.min.js\"></script>                <div id=\"816f2dda-a1ea-44d0-ac89-bc50e681bed1\" class=\"plotly-graph-div\" style=\"height:800px; width:800px;\"></div>            <script type=\"text/javascript\">                                    window.PLOTLYENV=window.PLOTLYENV || {};                                    if (document.getElementById(\"816f2dda-a1ea-44d0-ac89-bc50e681bed1\")) {                    Plotly.newPlot(                        \"816f2dda-a1ea-44d0-ac89-bc50e681bed1\",                        [{\"customdata\":[[0,\"cancelamento | empresa | cliente | pagamento | forma\",2145],[1,\"loja loja | geladeira | compr | propaganda | cadeira\",1673],[2,\"devolu\\u00e7\\u00e3o | retorno | pagamento valor | empresa | m\\u00eas\",1255],[3,\"foto | devolu\\u00e7\\u00e3o | defeito | reclama\\u00e7\\u00e3o | loja\",1173],[4,\"email | protocolo | login | retorno | m\\u00eas\",1169],[5,\"atualiza\\u00e7\\u00e3o | data | t\\u00eanis | cama | problema\",1073],[6,\"televis\\u00e3o | livelo | rastreamento | respeito | \\u00e1gua\",987],[7,\"valor | assinatura | cashback | anivers\\u00e1rio | cart\\u00e3o fatura\",817]],\"hovertemplate\":\"<b>Topic %{customdata[0]}</b><br>Words: %{customdata[1]}<br>Size: %{customdata[2]}\",\"legendgroup\":\"\",\"marker\":{\"color\":\"#B0BEC5\",\"size\":[2145,1673,1255,1173,1169,1073,987,817],\"sizemode\":\"area\",\"sizeref\":1.340625,\"symbol\":\"circle\",\"line\":{\"color\":\"DarkSlateGrey\",\"width\":2}},\"mode\":\"markers\",\"name\":\"\",\"orientation\":\"v\",\"showlegend\":false,\"x\":[6.32283878326416,5.602672100067139,5.991001605987549,6.144958019256592,6.414981365203857,7.1338605880737305,7.658094882965088,5.455293655395508],\"xaxis\":\"x\",\"y\":[8.553028106689453,8.722936630249023,7.788434982299805,9.446232795715332,10.076048851013184,9.946171760559082,10.220706939697266,7.54349946975708],\"yaxis\":\"y\",\"type\":\"scatter\"}],                        {\"template\":{\"data\":{\"barpolar\":[{\"marker\":{\"line\":{\"color\":\"white\",\"width\":0.5},\"pattern\":{\"fillmode\":\"overlay\",\"size\":10,\"solidity\":0.2}},\"type\":\"barpolar\"}],\"bar\":[{\"error_x\":{\"color\":\"rgb(36,36,36)\"},\"error_y\":{\"color\":\"rgb(36,36,36)\"},\"marker\":{\"line\":{\"color\":\"white\",\"width\":0.5},\"pattern\":{\"fillmode\":\"overlay\",\"size\":10,\"solidity\":0.2}},\"type\":\"bar\"}],\"carpet\":[{\"aaxis\":{\"endlinecolor\":\"rgb(36,36,36)\",\"gridcolor\":\"white\",\"linecolor\":\"white\",\"minorgridcolor\":\"white\",\"startlinecolor\":\"rgb(36,36,36)\"},\"baxis\":{\"endlinecolor\":\"rgb(36,36,36)\",\"gridcolor\":\"white\",\"linecolor\":\"white\",\"minorgridcolor\":\"white\",\"startlinecolor\":\"rgb(36,36,36)\"},\"type\":\"carpet\"}],\"choropleth\":[{\"colorbar\":{\"outlinewidth\":1,\"tickcolor\":\"rgb(36,36,36)\",\"ticks\":\"outside\"},\"type\":\"choropleth\"}],\"contourcarpet\":[{\"colorbar\":{\"outlinewidth\":1,\"tickcolor\":\"rgb(36,36,36)\",\"ticks\":\"outside\"},\"type\":\"contourcarpet\"}],\"contour\":[{\"colorbar\":{\"outlinewidth\":1,\"tickcolor\":\"rgb(36,36,36)\",\"ticks\":\"outside\"},\"colorscale\":[[0.0,\"#440154\"],[0.1111111111111111,\"#482878\"],[0.2222222222222222,\"#3e4989\"],[0.3333333333333333,\"#31688e\"],[0.4444444444444444,\"#26828e\"],[0.5555555555555556,\"#1f9e89\"],[0.6666666666666666,\"#35b779\"],[0.7777777777777778,\"#6ece58\"],[0.8888888888888888,\"#b5de2b\"],[1.0,\"#fde725\"]],\"type\":\"contour\"}],\"heatmapgl\":[{\"colorbar\":{\"outlinewidth\":1,\"tickcolor\":\"rgb(36,36,36)\",\"ticks\":\"outside\"},\"colorscale\":[[0.0,\"#440154\"],[0.1111111111111111,\"#482878\"],[0.2222222222222222,\"#3e4989\"],[0.3333333333333333,\"#31688e\"],[0.4444444444444444,\"#26828e\"],[0.5555555555555556,\"#1f9e89\"],[0.6666666666666666,\"#35b779\"],[0.7777777777777778,\"#6ece58\"],[0.8888888888888888,\"#b5de2b\"],[1.0,\"#fde725\"]],\"type\":\"heatmapgl\"}],\"heatmap\":[{\"colorbar\":{\"outlinewidth\":1,\"tickcolor\":\"rgb(36,36,36)\",\"ticks\":\"outside\"},\"colorscale\":[[0.0,\"#440154\"],[0.1111111111111111,\"#482878\"],[0.2222222222222222,\"#3e4989\"],[0.3333333333333333,\"#31688e\"],[0.4444444444444444,\"#26828e\"],[0.5555555555555556,\"#1f9e89\"],[0.6666666666666666,\"#35b779\"],[0.7777777777777778,\"#6ece58\"],[0.8888888888888888,\"#b5de2b\"],[1.0,\"#fde725\"]],\"type\":\"heatmap\"}],\"histogram2dcontour\":[{\"colorbar\":{\"outlinewidth\":1,\"tickcolor\":\"rgb(36,36,36)\",\"ticks\":\"outside\"},\"colorscale\":[[0.0,\"#440154\"],[0.1111111111111111,\"#482878\"],[0.2222222222222222,\"#3e4989\"],[0.3333333333333333,\"#31688e\"],[0.4444444444444444,\"#26828e\"],[0.5555555555555556,\"#1f9e89\"],[0.6666666666666666,\"#35b779\"],[0.7777777777777778,\"#6ece58\"],[0.8888888888888888,\"#b5de2b\"],[1.0,\"#fde725\"]],\"type\":\"histogram2dcontour\"}],\"histogram2d\":[{\"colorbar\":{\"outlinewidth\":1,\"tickcolor\":\"rgb(36,36,36)\",\"ticks\":\"outside\"},\"colorscale\":[[0.0,\"#440154\"],[0.1111111111111111,\"#482878\"],[0.2222222222222222,\"#3e4989\"],[0.3333333333333333,\"#31688e\"],[0.4444444444444444,\"#26828e\"],[0.5555555555555556,\"#1f9e89\"],[0.6666666666666666,\"#35b779\"],[0.7777777777777778,\"#6ece58\"],[0.8888888888888888,\"#b5de2b\"],[1.0,\"#fde725\"]],\"type\":\"histogram2d\"}],\"histogram\":[{\"marker\":{\"line\":{\"color\":\"white\",\"width\":0.6}},\"type\":\"histogram\"}],\"mesh3d\":[{\"colorbar\":{\"outlinewidth\":1,\"tickcolor\":\"rgb(36,36,36)\",\"ticks\":\"outside\"},\"type\":\"mesh3d\"}],\"parcoords\":[{\"line\":{\"colorbar\":{\"outlinewidth\":1,\"tickcolor\":\"rgb(36,36,36)\",\"ticks\":\"outside\"}},\"type\":\"parcoords\"}],\"pie\":[{\"automargin\":true,\"type\":\"pie\"}],\"scatter3d\":[{\"line\":{\"colorbar\":{\"outlinewidth\":1,\"tickcolor\":\"rgb(36,36,36)\",\"ticks\":\"outside\"}},\"marker\":{\"colorbar\":{\"outlinewidth\":1,\"tickcolor\":\"rgb(36,36,36)\",\"ticks\":\"outside\"}},\"type\":\"scatter3d\"}],\"scattercarpet\":[{\"marker\":{\"colorbar\":{\"outlinewidth\":1,\"tickcolor\":\"rgb(36,36,36)\",\"ticks\":\"outside\"}},\"type\":\"scattercarpet\"}],\"scattergeo\":[{\"marker\":{\"colorbar\":{\"outlinewidth\":1,\"tickcolor\":\"rgb(36,36,36)\",\"ticks\":\"outside\"}},\"type\":\"scattergeo\"}],\"scattergl\":[{\"marker\":{\"colorbar\":{\"outlinewidth\":1,\"tickcolor\":\"rgb(36,36,36)\",\"ticks\":\"outside\"}},\"type\":\"scattergl\"}],\"scattermapbox\":[{\"marker\":{\"colorbar\":{\"outlinewidth\":1,\"tickcolor\":\"rgb(36,36,36)\",\"ticks\":\"outside\"}},\"type\":\"scattermapbox\"}],\"scatterpolargl\":[{\"marker\":{\"colorbar\":{\"outlinewidth\":1,\"tickcolor\":\"rgb(36,36,36)\",\"ticks\":\"outside\"}},\"type\":\"scatterpolargl\"}],\"scatterpolar\":[{\"marker\":{\"colorbar\":{\"outlinewidth\":1,\"tickcolor\":\"rgb(36,36,36)\",\"ticks\":\"outside\"}},\"type\":\"scatterpolar\"}],\"scatter\":[{\"marker\":{\"colorbar\":{\"outlinewidth\":1,\"tickcolor\":\"rgb(36,36,36)\",\"ticks\":\"outside\"}},\"type\":\"scatter\"}],\"scatterternary\":[{\"marker\":{\"colorbar\":{\"outlinewidth\":1,\"tickcolor\":\"rgb(36,36,36)\",\"ticks\":\"outside\"}},\"type\":\"scatterternary\"}],\"surface\":[{\"colorbar\":{\"outlinewidth\":1,\"tickcolor\":\"rgb(36,36,36)\",\"ticks\":\"outside\"},\"colorscale\":[[0.0,\"#440154\"],[0.1111111111111111,\"#482878\"],[0.2222222222222222,\"#3e4989\"],[0.3333333333333333,\"#31688e\"],[0.4444444444444444,\"#26828e\"],[0.5555555555555556,\"#1f9e89\"],[0.6666666666666666,\"#35b779\"],[0.7777777777777778,\"#6ece58\"],[0.8888888888888888,\"#b5de2b\"],[1.0,\"#fde725\"]],\"type\":\"surface\"}],\"table\":[{\"cells\":{\"fill\":{\"color\":\"rgb(237,237,237)\"},\"line\":{\"color\":\"white\"}},\"header\":{\"fill\":{\"color\":\"rgb(217,217,217)\"},\"line\":{\"color\":\"white\"}},\"type\":\"table\"}]},\"layout\":{\"annotationdefaults\":{\"arrowhead\":0,\"arrowwidth\":1},\"autotypenumbers\":\"strict\",\"coloraxis\":{\"colorbar\":{\"outlinewidth\":1,\"tickcolor\":\"rgb(36,36,36)\",\"ticks\":\"outside\"}},\"colorscale\":{\"diverging\":[[0.0,\"rgb(103,0,31)\"],[0.1,\"rgb(178,24,43)\"],[0.2,\"rgb(214,96,77)\"],[0.3,\"rgb(244,165,130)\"],[0.4,\"rgb(253,219,199)\"],[0.5,\"rgb(247,247,247)\"],[0.6,\"rgb(209,229,240)\"],[0.7,\"rgb(146,197,222)\"],[0.8,\"rgb(67,147,195)\"],[0.9,\"rgb(33,102,172)\"],[1.0,\"rgb(5,48,97)\"]],\"sequential\":[[0.0,\"#440154\"],[0.1111111111111111,\"#482878\"],[0.2222222222222222,\"#3e4989\"],[0.3333333333333333,\"#31688e\"],[0.4444444444444444,\"#26828e\"],[0.5555555555555556,\"#1f9e89\"],[0.6666666666666666,\"#35b779\"],[0.7777777777777778,\"#6ece58\"],[0.8888888888888888,\"#b5de2b\"],[1.0,\"#fde725\"]],\"sequentialminus\":[[0.0,\"#440154\"],[0.1111111111111111,\"#482878\"],[0.2222222222222222,\"#3e4989\"],[0.3333333333333333,\"#31688e\"],[0.4444444444444444,\"#26828e\"],[0.5555555555555556,\"#1f9e89\"],[0.6666666666666666,\"#35b779\"],[0.7777777777777778,\"#6ece58\"],[0.8888888888888888,\"#b5de2b\"],[1.0,\"#fde725\"]]},\"colorway\":[\"#1F77B4\",\"#FF7F0E\",\"#2CA02C\",\"#D62728\",\"#9467BD\",\"#8C564B\",\"#E377C2\",\"#7F7F7F\",\"#BCBD22\",\"#17BECF\"],\"font\":{\"color\":\"rgb(36,36,36)\"},\"geo\":{\"bgcolor\":\"white\",\"lakecolor\":\"white\",\"landcolor\":\"white\",\"showlakes\":true,\"showland\":true,\"subunitcolor\":\"white\"},\"hoverlabel\":{\"align\":\"left\"},\"hovermode\":\"closest\",\"mapbox\":{\"style\":\"light\"},\"paper_bgcolor\":\"white\",\"plot_bgcolor\":\"white\",\"polar\":{\"angularaxis\":{\"gridcolor\":\"rgb(232,232,232)\",\"linecolor\":\"rgb(36,36,36)\",\"showgrid\":false,\"showline\":true,\"ticks\":\"outside\"},\"bgcolor\":\"white\",\"radialaxis\":{\"gridcolor\":\"rgb(232,232,232)\",\"linecolor\":\"rgb(36,36,36)\",\"showgrid\":false,\"showline\":true,\"ticks\":\"outside\"}},\"scene\":{\"xaxis\":{\"backgroundcolor\":\"white\",\"gridcolor\":\"rgb(232,232,232)\",\"gridwidth\":2,\"linecolor\":\"rgb(36,36,36)\",\"showbackground\":true,\"showgrid\":false,\"showline\":true,\"ticks\":\"outside\",\"zeroline\":false,\"zerolinecolor\":\"rgb(36,36,36)\"},\"yaxis\":{\"backgroundcolor\":\"white\",\"gridcolor\":\"rgb(232,232,232)\",\"gridwidth\":2,\"linecolor\":\"rgb(36,36,36)\",\"showbackground\":true,\"showgrid\":false,\"showline\":true,\"ticks\":\"outside\",\"zeroline\":false,\"zerolinecolor\":\"rgb(36,36,36)\"},\"zaxis\":{\"backgroundcolor\":\"white\",\"gridcolor\":\"rgb(232,232,232)\",\"gridwidth\":2,\"linecolor\":\"rgb(36,36,36)\",\"showbackground\":true,\"showgrid\":false,\"showline\":true,\"ticks\":\"outside\",\"zeroline\":false,\"zerolinecolor\":\"rgb(36,36,36)\"}},\"shapedefaults\":{\"fillcolor\":\"black\",\"line\":{\"width\":0},\"opacity\":0.3},\"ternary\":{\"aaxis\":{\"gridcolor\":\"rgb(232,232,232)\",\"linecolor\":\"rgb(36,36,36)\",\"showgrid\":false,\"showline\":true,\"ticks\":\"outside\"},\"baxis\":{\"gridcolor\":\"rgb(232,232,232)\",\"linecolor\":\"rgb(36,36,36)\",\"showgrid\":false,\"showline\":true,\"ticks\":\"outside\"},\"bgcolor\":\"white\",\"caxis\":{\"gridcolor\":\"rgb(232,232,232)\",\"linecolor\":\"rgb(36,36,36)\",\"showgrid\":false,\"showline\":true,\"ticks\":\"outside\"}},\"title\":{\"x\":0.05},\"xaxis\":{\"automargin\":true,\"gridcolor\":\"rgb(232,232,232)\",\"linecolor\":\"rgb(36,36,36)\",\"showgrid\":false,\"showline\":true,\"ticks\":\"outside\",\"title\":{\"standoff\":15},\"zeroline\":false,\"zerolinecolor\":\"rgb(36,36,36)\"},\"yaxis\":{\"automargin\":true,\"gridcolor\":\"rgb(232,232,232)\",\"linecolor\":\"rgb(36,36,36)\",\"showgrid\":false,\"showline\":true,\"ticks\":\"outside\",\"title\":{\"standoff\":15},\"zeroline\":false,\"zerolinecolor\":\"rgb(36,36,36)\"}}},\"xaxis\":{\"anchor\":\"y\",\"domain\":[0.0,1.0],\"title\":{\"text\":\"\"},\"visible\":false,\"range\":[4.636999607086182,8.806809115409852]},\"yaxis\":{\"anchor\":\"x\",\"domain\":[0.0,1.0],\"title\":{\"text\":\"\"},\"visible\":false,\"range\":[6.411974549293518,11.753812980651855]},\"legend\":{\"tracegroupgap\":0,\"itemsizing\":\"constant\"},\"margin\":{\"t\":60},\"title\":{\"font\":{\"size\":22,\"color\":\"Black\"},\"text\":\"<b>Intertopic Distance Map\",\"y\":0.95,\"x\":0.5,\"xanchor\":\"center\",\"yanchor\":\"top\"},\"hoverlabel\":{\"font\":{\"size\":16,\"family\":\"Rockwell\"},\"bgcolor\":\"white\"},\"width\":800,\"height\":800,\"sliders\":[{\"active\":0,\"pad\":{\"t\":50},\"steps\":[{\"args\":[{\"marker.color\":[[\"red\",\"#B0BEC5\",\"#B0BEC5\",\"#B0BEC5\",\"#B0BEC5\",\"#B0BEC5\",\"#B0BEC5\",\"#B0BEC5\"]]}],\"label\":\"Topic 0\",\"method\":\"update\"},{\"args\":[{\"marker.color\":[[\"#B0BEC5\",\"red\",\"#B0BEC5\",\"#B0BEC5\",\"#B0BEC5\",\"#B0BEC5\",\"#B0BEC5\",\"#B0BEC5\"]]}],\"label\":\"Topic 1\",\"method\":\"update\"},{\"args\":[{\"marker.color\":[[\"#B0BEC5\",\"#B0BEC5\",\"red\",\"#B0BEC5\",\"#B0BEC5\",\"#B0BEC5\",\"#B0BEC5\",\"#B0BEC5\"]]}],\"label\":\"Topic 2\",\"method\":\"update\"},{\"args\":[{\"marker.color\":[[\"#B0BEC5\",\"#B0BEC5\",\"#B0BEC5\",\"red\",\"#B0BEC5\",\"#B0BEC5\",\"#B0BEC5\",\"#B0BEC5\"]]}],\"label\":\"Topic 3\",\"method\":\"update\"},{\"args\":[{\"marker.color\":[[\"#B0BEC5\",\"#B0BEC5\",\"#B0BEC5\",\"#B0BEC5\",\"red\",\"#B0BEC5\",\"#B0BEC5\",\"#B0BEC5\"]]}],\"label\":\"Topic 4\",\"method\":\"update\"},{\"args\":[{\"marker.color\":[[\"#B0BEC5\",\"#B0BEC5\",\"#B0BEC5\",\"#B0BEC5\",\"#B0BEC5\",\"red\",\"#B0BEC5\",\"#B0BEC5\"]]}],\"label\":\"Topic 5\",\"method\":\"update\"},{\"args\":[{\"marker.color\":[[\"#B0BEC5\",\"#B0BEC5\",\"#B0BEC5\",\"#B0BEC5\",\"#B0BEC5\",\"#B0BEC5\",\"red\",\"#B0BEC5\"]]}],\"label\":\"Topic 6\",\"method\":\"update\"},{\"args\":[{\"marker.color\":[[\"#B0BEC5\",\"#B0BEC5\",\"#B0BEC5\",\"#B0BEC5\",\"#B0BEC5\",\"#B0BEC5\",\"#B0BEC5\",\"red\"]]}],\"label\":\"Topic 7\",\"method\":\"update\"}]}],\"shapes\":[{\"line\":{\"color\":\"#CFD8DC\",\"width\":2},\"type\":\"line\",\"x0\":6.721904361248017,\"x1\":6.721904361248017,\"y0\":6.411974549293518,\"y1\":11.753812980651855},{\"line\":{\"color\":\"#9E9E9E\",\"width\":2},\"type\":\"line\",\"x0\":4.636999607086182,\"x1\":8.806809115409852,\"y0\":9.082893764972686,\"y1\":9.082893764972686}],\"annotations\":[{\"showarrow\":false,\"text\":\"D1\",\"x\":4.636999607086182,\"y\":9.082893764972686,\"yshift\":10},{\"showarrow\":false,\"text\":\"D2\",\"x\":6.721904361248017,\"xshift\":10,\"y\":11.753812980651855}]},                        {\"responsive\": true}                    ).then(function(){\n",
              "                            \n",
              "var gd = document.getElementById('816f2dda-a1ea-44d0-ac89-bc50e681bed1');\n",
              "var x = new MutationObserver(function (mutations, observer) {{\n",
              "        var display = window.getComputedStyle(gd).display;\n",
              "        if (!display || display === 'none') {{\n",
              "            console.log([gd, 'removed!']);\n",
              "            Plotly.purge(gd);\n",
              "            observer.disconnect();\n",
              "        }}\n",
              "}});\n",
              "\n",
              "// Listen for the removal of the full notebook cells\n",
              "var notebookContainer = gd.closest('#notebook-container');\n",
              "if (notebookContainer) {{\n",
              "    x.observe(notebookContainer, {childList: true});\n",
              "}}\n",
              "\n",
              "// Listen for the clearing of the current output cell\n",
              "var outputEl = gd.closest('.output');\n",
              "if (outputEl) {{\n",
              "    x.observe(outputEl, {childList: true});\n",
              "}}\n",
              "\n",
              "                        })                };                            </script>        </div>\n",
              "</body>\n",
              "</html>"
            ]
          },
          "metadata": {}
        }
      ]
    },
    {
      "cell_type": "markdown",
      "source": [
        "**Save intertopic distance map**"
      ],
      "metadata": {
        "id": "VEy11A_SlliP"
      }
    },
    {
      "cell_type": "code",
      "source": [
        "def save_topics(model, label, top_n_topics=-1):\n",
        "  fig = model.visualize_topics(top_n_topics=max_limit(top_n_topics, 20))\n",
        "\n",
        "  dir = os.path.join(WORK_DIR, COLNAME, 'topics')\n",
        "  \n",
        "  # Use makedirs() to create a new directory if it does not exists\n",
        "  if not os.path.exists(dir):\n",
        "    os.makedirs(dir)\n",
        "\n",
        "  fig.write_image(os.path.join(dir, f\"intertopic_distance_map_trial_{label}.png\"), format=\"png\")\n",
        "  fig.write_html(os.path.join(dir, f\"intertopic_distance_map_trial_{label}.html\"))"
      ],
      "metadata": {
        "id": "hLy_Eeu4lqCg"
      },
      "execution_count": 35,
      "outputs": []
    },
    {
      "cell_type": "code",
      "source": [
        "#save_topics(topic_model, COLNAME, top_n_topics)"
      ],
      "metadata": {
        "id": "0IAol_ps15Y5"
      },
      "execution_count": null,
      "outputs": []
    },
    {
      "cell_type": "markdown",
      "source": [
        "[Github link](https://github.com/punkmic/Topic-Modeling-Reclame-Aqui/blob/master/results/intertopic_distance_map/idm_preprocessed_lemma.png?raw=true)"
      ],
      "metadata": {
        "id": "Jf-iwAsQoOCs"
      }
    },
    {
      "cell_type": "markdown",
      "source": [
        "### **Visualize Topic Hierarchy**\n",
        "\n",
        "The topics that were created can be hierarchically reduced. This visualization shows how the topics relate to one another."
      ],
      "metadata": {
        "id": "r-5bT7AgSgsv"
      }
    },
    {
      "cell_type": "code",
      "source": [
        "fig = topic_model.visualize_hierarchy(top_n_topics=20, width=800, height=800)\n",
        "fig"
      ],
      "metadata": {
        "id": "TEoOpDD6S4D7",
        "colab": {
          "base_uri": "https://localhost:8080/",
          "height": 337
        },
        "outputId": "3f7a66f6-9665-4727-d082-ddf71b05df50"
      },
      "execution_count": null,
      "outputs": [
        {
          "output_type": "display_data",
          "data": {
            "text/html": [
              "<html>\n",
              "<head><meta charset=\"utf-8\" /></head>\n",
              "<body>\n",
              "    <div>            <script src=\"https://cdnjs.cloudflare.com/ajax/libs/mathjax/2.7.5/MathJax.js?config=TeX-AMS-MML_SVG\"></script><script type=\"text/javascript\">if (window.MathJax) {MathJax.Hub.Config({SVG: {font: \"STIX-Web\"}});}</script>                <script type=\"text/javascript\">window.PlotlyConfig = {MathJaxConfig: 'local'};</script>\n",
              "        <script src=\"https://cdn.plot.ly/plotly-2.8.3.min.js\"></script>                <div id=\"b6af86f6-e702-4774-8ccf-b2c392039f41\" class=\"plotly-graph-div\" style=\"height:320px; width:800px;\"></div>            <script type=\"text/javascript\">                                    window.PLOTLYENV=window.PLOTLYENV || {};                                    if (document.getElementById(\"b6af86f6-e702-4774-8ccf-b2c392039f41\")) {                    Plotly.newPlot(                        \"b6af86f6-e702-4774-8ccf-b2c392039f41\",                        [{\"hoverinfo\":\"text\",\"marker\":{\"color\":\"rgb(0,116,217)\"},\"mode\":\"lines\",\"x\":[0.0,1.1606573087434824,1.1606573087434824,0.0],\"xaxis\":\"x\",\"y\":[-35.0,-35.0,-45.0,-45.0],\"yaxis\":\"y\",\"type\":\"scatter\"},{\"hoverinfo\":\"text\",\"marker\":{\"color\":\"rgb(0,116,217)\"},\"mode\":\"lines\",\"x\":[1.1606573087434824,1.1810937184627097,1.1810937184627097,0.0],\"xaxis\":\"x\",\"y\":[-40.0,-40.0,-55.0,-55.0],\"yaxis\":\"y\",\"type\":\"scatter\"},{\"hoverinfo\":\"text\",\"marker\":{\"color\":\"rgb(0,116,217)\"},\"mode\":\"lines\",\"x\":[0.0,1.2207267692587689,1.2207267692587689,1.1810937184627097],\"xaxis\":\"x\",\"y\":[-25.0,-25.0,-47.5,-47.5],\"yaxis\":\"y\",\"type\":\"scatter\"},{\"hoverinfo\":\"text\",\"marker\":{\"color\":\"rgb(0,116,217)\"},\"mode\":\"lines\",\"x\":[0.0,1.2571004568091382,1.2571004568091382,1.2207267692587689],\"xaxis\":\"x\",\"y\":[-15.0,-15.0,-36.25,-36.25],\"yaxis\":\"y\",\"type\":\"scatter\"},{\"hoverinfo\":\"text\",\"marker\":{\"color\":\"rgb(0,116,217)\"},\"mode\":\"lines\",\"x\":[0.0,1.2276503741133522,1.2276503741133522,0.0],\"xaxis\":\"x\",\"y\":[-65.0,-65.0,-75.0,-75.0],\"yaxis\":\"y\",\"type\":\"scatter\"},{\"hoverinfo\":\"text\",\"marker\":{\"color\":\"rgb(0,116,217)\"},\"mode\":\"lines\",\"x\":[1.2571004568091382,1.2775525655699884,1.2775525655699884,1.2276503741133522],\"xaxis\":\"x\",\"y\":[-25.625,-25.625,-70.0,-70.0],\"yaxis\":\"y\",\"type\":\"scatter\"},{\"hoverinfo\":\"text\",\"marker\":{\"color\":\"rgb(0,116,217)\"},\"mode\":\"lines\",\"x\":[0.0,1.3059122081165488,1.3059122081165488,1.2775525655699884],\"xaxis\":\"x\",\"y\":[-5.0,-5.0,-47.8125,-47.8125],\"yaxis\":\"y\",\"type\":\"scatter\"}],                        {\"autosize\":false,\"height\":320,\"hovermode\":\"closest\",\"showlegend\":false,\"width\":800,\"xaxis\":{\"mirror\":\"allticks\",\"rangemode\":\"tozero\",\"showgrid\":false,\"showline\":true,\"showticklabels\":true,\"ticks\":\"outside\",\"type\":\"linear\",\"zeroline\":false},\"yaxis\":{\"mirror\":\"allticks\",\"rangemode\":\"tozero\",\"showgrid\":false,\"showline\":true,\"showticklabels\":true,\"tickmode\":\"array\",\"ticks\":\"outside\",\"ticktext\":[\"6_televis\\u00e3o_livelo_rastream...\",\"5_atualiza\\u00e7\\u00e3o_data_t\\u00eanis\",\"4_email_protocolo_login\",\"3_foto_devolu\\u00e7\\u00e3o_defeito\",\"0_cancelamento_empresa_clie...\",\"1_loja loja_geladeira_compr\",\"2_devolu\\u00e7\\u00e3o_retorno_pagamen...\",\"7_valor_assinatura_cashback\"],\"tickvals\":[-5.0,-15.0,-25.0,-35.0,-45.0,-55.0,-65.0,-75.0],\"type\":\"linear\",\"zeroline\":false,\"range\":[-80.0,0.0]},\"template\":{\"data\":{\"barpolar\":[{\"marker\":{\"line\":{\"color\":\"white\",\"width\":0.5},\"pattern\":{\"fillmode\":\"overlay\",\"size\":10,\"solidity\":0.2}},\"type\":\"barpolar\"}],\"bar\":[{\"error_x\":{\"color\":\"#2a3f5f\"},\"error_y\":{\"color\":\"#2a3f5f\"},\"marker\":{\"line\":{\"color\":\"white\",\"width\":0.5},\"pattern\":{\"fillmode\":\"overlay\",\"size\":10,\"solidity\":0.2}},\"type\":\"bar\"}],\"carpet\":[{\"aaxis\":{\"endlinecolor\":\"#2a3f5f\",\"gridcolor\":\"#C8D4E3\",\"linecolor\":\"#C8D4E3\",\"minorgridcolor\":\"#C8D4E3\",\"startlinecolor\":\"#2a3f5f\"},\"baxis\":{\"endlinecolor\":\"#2a3f5f\",\"gridcolor\":\"#C8D4E3\",\"linecolor\":\"#C8D4E3\",\"minorgridcolor\":\"#C8D4E3\",\"startlinecolor\":\"#2a3f5f\"},\"type\":\"carpet\"}],\"choropleth\":[{\"colorbar\":{\"outlinewidth\":0,\"ticks\":\"\"},\"type\":\"choropleth\"}],\"contourcarpet\":[{\"colorbar\":{\"outlinewidth\":0,\"ticks\":\"\"},\"type\":\"contourcarpet\"}],\"contour\":[{\"colorbar\":{\"outlinewidth\":0,\"ticks\":\"\"},\"colorscale\":[[0.0,\"#0d0887\"],[0.1111111111111111,\"#46039f\"],[0.2222222222222222,\"#7201a8\"],[0.3333333333333333,\"#9c179e\"],[0.4444444444444444,\"#bd3786\"],[0.5555555555555556,\"#d8576b\"],[0.6666666666666666,\"#ed7953\"],[0.7777777777777778,\"#fb9f3a\"],[0.8888888888888888,\"#fdca26\"],[1.0,\"#f0f921\"]],\"type\":\"contour\"}],\"heatmapgl\":[{\"colorbar\":{\"outlinewidth\":0,\"ticks\":\"\"},\"colorscale\":[[0.0,\"#0d0887\"],[0.1111111111111111,\"#46039f\"],[0.2222222222222222,\"#7201a8\"],[0.3333333333333333,\"#9c179e\"],[0.4444444444444444,\"#bd3786\"],[0.5555555555555556,\"#d8576b\"],[0.6666666666666666,\"#ed7953\"],[0.7777777777777778,\"#fb9f3a\"],[0.8888888888888888,\"#fdca26\"],[1.0,\"#f0f921\"]],\"type\":\"heatmapgl\"}],\"heatmap\":[{\"colorbar\":{\"outlinewidth\":0,\"ticks\":\"\"},\"colorscale\":[[0.0,\"#0d0887\"],[0.1111111111111111,\"#46039f\"],[0.2222222222222222,\"#7201a8\"],[0.3333333333333333,\"#9c179e\"],[0.4444444444444444,\"#bd3786\"],[0.5555555555555556,\"#d8576b\"],[0.6666666666666666,\"#ed7953\"],[0.7777777777777778,\"#fb9f3a\"],[0.8888888888888888,\"#fdca26\"],[1.0,\"#f0f921\"]],\"type\":\"heatmap\"}],\"histogram2dcontour\":[{\"colorbar\":{\"outlinewidth\":0,\"ticks\":\"\"},\"colorscale\":[[0.0,\"#0d0887\"],[0.1111111111111111,\"#46039f\"],[0.2222222222222222,\"#7201a8\"],[0.3333333333333333,\"#9c179e\"],[0.4444444444444444,\"#bd3786\"],[0.5555555555555556,\"#d8576b\"],[0.6666666666666666,\"#ed7953\"],[0.7777777777777778,\"#fb9f3a\"],[0.8888888888888888,\"#fdca26\"],[1.0,\"#f0f921\"]],\"type\":\"histogram2dcontour\"}],\"histogram2d\":[{\"colorbar\":{\"outlinewidth\":0,\"ticks\":\"\"},\"colorscale\":[[0.0,\"#0d0887\"],[0.1111111111111111,\"#46039f\"],[0.2222222222222222,\"#7201a8\"],[0.3333333333333333,\"#9c179e\"],[0.4444444444444444,\"#bd3786\"],[0.5555555555555556,\"#d8576b\"],[0.6666666666666666,\"#ed7953\"],[0.7777777777777778,\"#fb9f3a\"],[0.8888888888888888,\"#fdca26\"],[1.0,\"#f0f921\"]],\"type\":\"histogram2d\"}],\"histogram\":[{\"marker\":{\"pattern\":{\"fillmode\":\"overlay\",\"size\":10,\"solidity\":0.2}},\"type\":\"histogram\"}],\"mesh3d\":[{\"colorbar\":{\"outlinewidth\":0,\"ticks\":\"\"},\"type\":\"mesh3d\"}],\"parcoords\":[{\"line\":{\"colorbar\":{\"outlinewidth\":0,\"ticks\":\"\"}},\"type\":\"parcoords\"}],\"pie\":[{\"automargin\":true,\"type\":\"pie\"}],\"scatter3d\":[{\"line\":{\"colorbar\":{\"outlinewidth\":0,\"ticks\":\"\"}},\"marker\":{\"colorbar\":{\"outlinewidth\":0,\"ticks\":\"\"}},\"type\":\"scatter3d\"}],\"scattercarpet\":[{\"marker\":{\"colorbar\":{\"outlinewidth\":0,\"ticks\":\"\"}},\"type\":\"scattercarpet\"}],\"scattergeo\":[{\"marker\":{\"colorbar\":{\"outlinewidth\":0,\"ticks\":\"\"}},\"type\":\"scattergeo\"}],\"scattergl\":[{\"marker\":{\"colorbar\":{\"outlinewidth\":0,\"ticks\":\"\"}},\"type\":\"scattergl\"}],\"scattermapbox\":[{\"marker\":{\"colorbar\":{\"outlinewidth\":0,\"ticks\":\"\"}},\"type\":\"scattermapbox\"}],\"scatterpolargl\":[{\"marker\":{\"colorbar\":{\"outlinewidth\":0,\"ticks\":\"\"}},\"type\":\"scatterpolargl\"}],\"scatterpolar\":[{\"marker\":{\"colorbar\":{\"outlinewidth\":0,\"ticks\":\"\"}},\"type\":\"scatterpolar\"}],\"scatter\":[{\"marker\":{\"colorbar\":{\"outlinewidth\":0,\"ticks\":\"\"}},\"type\":\"scatter\"}],\"scatterternary\":[{\"marker\":{\"colorbar\":{\"outlinewidth\":0,\"ticks\":\"\"}},\"type\":\"scatterternary\"}],\"surface\":[{\"colorbar\":{\"outlinewidth\":0,\"ticks\":\"\"},\"colorscale\":[[0.0,\"#0d0887\"],[0.1111111111111111,\"#46039f\"],[0.2222222222222222,\"#7201a8\"],[0.3333333333333333,\"#9c179e\"],[0.4444444444444444,\"#bd3786\"],[0.5555555555555556,\"#d8576b\"],[0.6666666666666666,\"#ed7953\"],[0.7777777777777778,\"#fb9f3a\"],[0.8888888888888888,\"#fdca26\"],[1.0,\"#f0f921\"]],\"type\":\"surface\"}],\"table\":[{\"cells\":{\"fill\":{\"color\":\"#EBF0F8\"},\"line\":{\"color\":\"white\"}},\"header\":{\"fill\":{\"color\":\"#C8D4E3\"},\"line\":{\"color\":\"white\"}},\"type\":\"table\"}]},\"layout\":{\"annotationdefaults\":{\"arrowcolor\":\"#2a3f5f\",\"arrowhead\":0,\"arrowwidth\":1},\"autotypenumbers\":\"strict\",\"coloraxis\":{\"colorbar\":{\"outlinewidth\":0,\"ticks\":\"\"}},\"colorscale\":{\"diverging\":[[0,\"#8e0152\"],[0.1,\"#c51b7d\"],[0.2,\"#de77ae\"],[0.3,\"#f1b6da\"],[0.4,\"#fde0ef\"],[0.5,\"#f7f7f7\"],[0.6,\"#e6f5d0\"],[0.7,\"#b8e186\"],[0.8,\"#7fbc41\"],[0.9,\"#4d9221\"],[1,\"#276419\"]],\"sequential\":[[0.0,\"#0d0887\"],[0.1111111111111111,\"#46039f\"],[0.2222222222222222,\"#7201a8\"],[0.3333333333333333,\"#9c179e\"],[0.4444444444444444,\"#bd3786\"],[0.5555555555555556,\"#d8576b\"],[0.6666666666666666,\"#ed7953\"],[0.7777777777777778,\"#fb9f3a\"],[0.8888888888888888,\"#fdca26\"],[1.0,\"#f0f921\"]],\"sequentialminus\":[[0.0,\"#0d0887\"],[0.1111111111111111,\"#46039f\"],[0.2222222222222222,\"#7201a8\"],[0.3333333333333333,\"#9c179e\"],[0.4444444444444444,\"#bd3786\"],[0.5555555555555556,\"#d8576b\"],[0.6666666666666666,\"#ed7953\"],[0.7777777777777778,\"#fb9f3a\"],[0.8888888888888888,\"#fdca26\"],[1.0,\"#f0f921\"]]},\"colorway\":[\"#636efa\",\"#EF553B\",\"#00cc96\",\"#ab63fa\",\"#FFA15A\",\"#19d3f3\",\"#FF6692\",\"#B6E880\",\"#FF97FF\",\"#FECB52\"],\"font\":{\"color\":\"#2a3f5f\"},\"geo\":{\"bgcolor\":\"white\",\"lakecolor\":\"white\",\"landcolor\":\"white\",\"showlakes\":true,\"showland\":true,\"subunitcolor\":\"#C8D4E3\"},\"hoverlabel\":{\"align\":\"left\"},\"hovermode\":\"closest\",\"mapbox\":{\"style\":\"light\"},\"paper_bgcolor\":\"white\",\"plot_bgcolor\":\"white\",\"polar\":{\"angularaxis\":{\"gridcolor\":\"#EBF0F8\",\"linecolor\":\"#EBF0F8\",\"ticks\":\"\"},\"bgcolor\":\"white\",\"radialaxis\":{\"gridcolor\":\"#EBF0F8\",\"linecolor\":\"#EBF0F8\",\"ticks\":\"\"}},\"scene\":{\"xaxis\":{\"backgroundcolor\":\"white\",\"gridcolor\":\"#DFE8F3\",\"gridwidth\":2,\"linecolor\":\"#EBF0F8\",\"showbackground\":true,\"ticks\":\"\",\"zerolinecolor\":\"#EBF0F8\"},\"yaxis\":{\"backgroundcolor\":\"white\",\"gridcolor\":\"#DFE8F3\",\"gridwidth\":2,\"linecolor\":\"#EBF0F8\",\"showbackground\":true,\"ticks\":\"\",\"zerolinecolor\":\"#EBF0F8\"},\"zaxis\":{\"backgroundcolor\":\"white\",\"gridcolor\":\"#DFE8F3\",\"gridwidth\":2,\"linecolor\":\"#EBF0F8\",\"showbackground\":true,\"ticks\":\"\",\"zerolinecolor\":\"#EBF0F8\"}},\"shapedefaults\":{\"line\":{\"color\":\"#2a3f5f\"}},\"ternary\":{\"aaxis\":{\"gridcolor\":\"#DFE8F3\",\"linecolor\":\"#A2B1C6\",\"ticks\":\"\"},\"baxis\":{\"gridcolor\":\"#DFE8F3\",\"linecolor\":\"#A2B1C6\",\"ticks\":\"\"},\"bgcolor\":\"white\",\"caxis\":{\"gridcolor\":\"#DFE8F3\",\"linecolor\":\"#A2B1C6\",\"ticks\":\"\"}},\"title\":{\"x\":0.05},\"xaxis\":{\"automargin\":true,\"gridcolor\":\"#EBF0F8\",\"linecolor\":\"#EBF0F8\",\"ticks\":\"\",\"title\":{\"standoff\":15},\"zerolinecolor\":\"#EBF0F8\",\"zerolinewidth\":2},\"yaxis\":{\"automargin\":true,\"gridcolor\":\"#EBF0F8\",\"linecolor\":\"#EBF0F8\",\"ticks\":\"\",\"title\":{\"standoff\":15},\"zerolinecolor\":\"#EBF0F8\",\"zerolinewidth\":2}}},\"title\":{\"font\":{\"size\":22,\"color\":\"Black\"},\"text\":\"<b>Hierarchical Clustering\",\"x\":0.5,\"xanchor\":\"center\",\"yanchor\":\"top\"},\"hoverlabel\":{\"font\":{\"size\":16,\"family\":\"Rockwell\"},\"bgcolor\":\"white\"},\"plot_bgcolor\":\"#ECEFF1\"},                        {\"responsive\": true}                    ).then(function(){\n",
              "                            \n",
              "var gd = document.getElementById('b6af86f6-e702-4774-8ccf-b2c392039f41');\n",
              "var x = new MutationObserver(function (mutations, observer) {{\n",
              "        var display = window.getComputedStyle(gd).display;\n",
              "        if (!display || display === 'none') {{\n",
              "            console.log([gd, 'removed!']);\n",
              "            Plotly.purge(gd);\n",
              "            observer.disconnect();\n",
              "        }}\n",
              "}});\n",
              "\n",
              "// Listen for the removal of the full notebook cells\n",
              "var notebookContainer = gd.closest('#notebook-container');\n",
              "if (notebookContainer) {{\n",
              "    x.observe(notebookContainer, {childList: true});\n",
              "}}\n",
              "\n",
              "// Listen for the clearing of the current output cell\n",
              "var outputEl = gd.closest('.output');\n",
              "if (outputEl) {{\n",
              "    x.observe(outputEl, {childList: true});\n",
              "}}\n",
              "\n",
              "                        })                };                            </script>        </div>\n",
              "</body>\n",
              "</html>"
            ]
          },
          "metadata": {}
        }
      ]
    },
    {
      "cell_type": "markdown",
      "source": [
        "**Save Hierarchical Clustering**"
      ],
      "metadata": {
        "id": "CyM_L5c6pBXw"
      }
    },
    {
      "cell_type": "code",
      "source": [
        "def save_hierarchy(model, label, top_n_topics=-1):\n",
        "  fig = model.visualize_hierarchy(top_n_topics=max_limit(top_n_topics, 20), width=500, height=500)\n",
        "\n",
        "  # Set the path to save \n",
        "  dir = os.path.join(WORK_DIR, COLNAME, 'hierarchical_clusterings')\n",
        "\n",
        "  # Use makedirs() to create a new directory if it does not exists\n",
        "  if not os.path.exists(dir):\n",
        "    os.makedirs(dir)\n",
        "\n",
        "  fig.write_image(os.path.join(dir, f\"hierarchical_clustering_trial_{label}.png\"), format=\"png\")\n",
        "  fig.write_html(os.path.join(dir, f\"hierarchical_clustering_trial_{label}.html\"))"
      ],
      "metadata": {
        "id": "CHYmk_TZpHPJ"
      },
      "execution_count": 17,
      "outputs": []
    },
    {
      "cell_type": "code",
      "source": [
        "#save_hierarchy(topic_model, COLNAME, top_n_topics)"
      ],
      "metadata": {
        "id": "Ojdkrn5I2CS_"
      },
      "execution_count": null,
      "outputs": []
    },
    {
      "cell_type": "markdown",
      "source": [
        "[Github link](https://github.com/punkmic/Topic-Modeling-Reclame-Aqui/blob/master/results/hierarchical_clustering/hc_preprocessed_lemma.png?raw=true)"
      ],
      "metadata": {
        "id": "VrqyRupApBx1"
      }
    },
    {
      "cell_type": "markdown",
      "source": [
        "### **Visualize Terms**\n",
        "\n",
        "We can visualize the selected terms for a few topics by creating bar charts out of the c-TF-IDF scores for each topic representation."
      ],
      "metadata": {
        "id": "uC26Cc-6UvYE"
      }
    },
    {
      "cell_type": "code",
      "source": [
        "fig = topic_model.visualize_barchart(top_n_topics=8, width=300, height=300)\n",
        "fig"
      ],
      "metadata": {
        "id": "-NoMSyeWVF2s",
        "colab": {
          "base_uri": "https://localhost:8080/",
          "height": 637
        },
        "outputId": "c7c17921-c6c9-4fee-c22b-08720ac505ca"
      },
      "execution_count": null,
      "outputs": [
        {
          "output_type": "display_data",
          "data": {
            "text/html": [
              "<html>\n",
              "<head><meta charset=\"utf-8\" /></head>\n",
              "<body>\n",
              "    <div>            <script src=\"https://cdnjs.cloudflare.com/ajax/libs/mathjax/2.7.5/MathJax.js?config=TeX-AMS-MML_SVG\"></script><script type=\"text/javascript\">if (window.MathJax) {MathJax.Hub.Config({SVG: {font: \"STIX-Web\"}});}</script>                <script type=\"text/javascript\">window.PlotlyConfig = {MathJaxConfig: 'local'};</script>\n",
              "        <script src=\"https://cdn.plot.ly/plotly-2.8.3.min.js\"></script>                <div id=\"b9d055a8-65c4-4644-9197-7a628016abe5\" class=\"plotly-graph-div\" style=\"height:600px; width:1200px;\"></div>            <script type=\"text/javascript\">                                    window.PLOTLYENV=window.PLOTLYENV || {};                                    if (document.getElementById(\"b9d055a8-65c4-4644-9197-7a628016abe5\")) {                    Plotly.newPlot(                        \"b9d055a8-65c4-4644-9197-7a628016abe5\",                        [{\"marker\":{\"color\":\"#D55E00\"},\"orientation\":\"h\",\"x\":[0.20257200948147475,0.2331203067580334,0.24872545410720806,0.27614257287518673,0.31905798690907305],\"y\":[\"forma  \",\"pagamento  \",\"cliente  \",\"empresa  \",\"cancelamento  \"],\"type\":\"bar\",\"xaxis\":\"x\",\"yaxis\":\"y\"},{\"marker\":{\"color\":\"#0072B2\"},\"orientation\":\"h\",\"x\":[0.20113835175813843,0.2203705954644722,0.22876953823359555,0.23639892135437002,0.2504264996675137],\"y\":[\"cadeira  \",\"propaganda  \",\"compr  \",\"geladeira  \",\"loja loja  \"],\"type\":\"bar\",\"xaxis\":\"x2\",\"yaxis\":\"y2\"},{\"marker\":{\"color\":\"#CC79A7\"},\"orientation\":\"h\",\"x\":[0.2151968850155305,0.21901854217412475,0.23259059699268786,0.23656196051798706,0.3032804397944867],\"y\":[\"m\\u00eas  \",\"empresa  \",\"pagamento valor  \",\"retorno  \",\"devolu\\u00e7\\u00e3o  \"],\"type\":\"bar\",\"xaxis\":\"x3\",\"yaxis\":\"y3\"},{\"marker\":{\"color\":\"#E69F00\"},\"orientation\":\"h\",\"x\":[0.18902206404483754,0.19101040244970902,0.19555426490749206,0.21581270968385763,0.2407046982539316],\"y\":[\"loja  \",\"reclama\\u00e7\\u00e3o  \",\"defeito  \",\"devolu\\u00e7\\u00e3o  \",\"foto  \"],\"type\":\"bar\",\"xaxis\":\"x4\",\"yaxis\":\"y4\"},{\"marker\":{\"color\":\"#56B4E9\"},\"orientation\":\"h\",\"x\":[0.22316253582405743,0.22659333362404233,0.23760681812169132,0.2584021726687643,0.2900640470114842],\"y\":[\"m\\u00eas  \",\"retorno  \",\"login  \",\"protocolo  \",\"email  \"],\"type\":\"bar\",\"xaxis\":\"x5\",\"yaxis\":\"y5\"},{\"marker\":{\"color\":\"#009E73\"},\"orientation\":\"h\",\"x\":[0.22686292320777512,0.22937422811938465,0.26168033201936786,0.3460219596096229,0.36440933723479696],\"y\":[\"problema  \",\"cama  \",\"t\\u00eanis  \",\"data  \",\"atualiza\\u00e7\\u00e3o  \"],\"type\":\"bar\",\"xaxis\":\"x6\",\"yaxis\":\"y6\"},{\"marker\":{\"color\":\"#F0E442\"},\"orientation\":\"h\",\"x\":[0.2231006018685571,0.25119500763073893,0.25735129600629125,0.2943414423015455,0.40597231694989794],\"y\":[\"\\u00e1gua  \",\"respeito  \",\"rastreamento  \",\"livelo  \",\"televis\\u00e3o  \"],\"type\":\"bar\",\"xaxis\":\"x7\",\"yaxis\":\"y7\"},{\"marker\":{\"color\":\"#D55E00\"},\"orientation\":\"h\",\"x\":[0.2720559250429075,0.27726632868961754,0.27911739622588283,0.2840425826086939,0.354365932897315],\"y\":[\"cart\\u00e3o fatura  \",\"anivers\\u00e1rio  \",\"cashback  \",\"assinatura  \",\"valor  \"],\"type\":\"bar\",\"xaxis\":\"x8\",\"yaxis\":\"y8\"}],                        {\"template\":{\"data\":{\"barpolar\":[{\"marker\":{\"line\":{\"color\":\"white\",\"width\":0.5},\"pattern\":{\"fillmode\":\"overlay\",\"size\":10,\"solidity\":0.2}},\"type\":\"barpolar\"}],\"bar\":[{\"error_x\":{\"color\":\"#2a3f5f\"},\"error_y\":{\"color\":\"#2a3f5f\"},\"marker\":{\"line\":{\"color\":\"white\",\"width\":0.5},\"pattern\":{\"fillmode\":\"overlay\",\"size\":10,\"solidity\":0.2}},\"type\":\"bar\"}],\"carpet\":[{\"aaxis\":{\"endlinecolor\":\"#2a3f5f\",\"gridcolor\":\"#C8D4E3\",\"linecolor\":\"#C8D4E3\",\"minorgridcolor\":\"#C8D4E3\",\"startlinecolor\":\"#2a3f5f\"},\"baxis\":{\"endlinecolor\":\"#2a3f5f\",\"gridcolor\":\"#C8D4E3\",\"linecolor\":\"#C8D4E3\",\"minorgridcolor\":\"#C8D4E3\",\"startlinecolor\":\"#2a3f5f\"},\"type\":\"carpet\"}],\"choropleth\":[{\"colorbar\":{\"outlinewidth\":0,\"ticks\":\"\"},\"type\":\"choropleth\"}],\"contourcarpet\":[{\"colorbar\":{\"outlinewidth\":0,\"ticks\":\"\"},\"type\":\"contourcarpet\"}],\"contour\":[{\"colorbar\":{\"outlinewidth\":0,\"ticks\":\"\"},\"colorscale\":[[0.0,\"#0d0887\"],[0.1111111111111111,\"#46039f\"],[0.2222222222222222,\"#7201a8\"],[0.3333333333333333,\"#9c179e\"],[0.4444444444444444,\"#bd3786\"],[0.5555555555555556,\"#d8576b\"],[0.6666666666666666,\"#ed7953\"],[0.7777777777777778,\"#fb9f3a\"],[0.8888888888888888,\"#fdca26\"],[1.0,\"#f0f921\"]],\"type\":\"contour\"}],\"heatmapgl\":[{\"colorbar\":{\"outlinewidth\":0,\"ticks\":\"\"},\"colorscale\":[[0.0,\"#0d0887\"],[0.1111111111111111,\"#46039f\"],[0.2222222222222222,\"#7201a8\"],[0.3333333333333333,\"#9c179e\"],[0.4444444444444444,\"#bd3786\"],[0.5555555555555556,\"#d8576b\"],[0.6666666666666666,\"#ed7953\"],[0.7777777777777778,\"#fb9f3a\"],[0.8888888888888888,\"#fdca26\"],[1.0,\"#f0f921\"]],\"type\":\"heatmapgl\"}],\"heatmap\":[{\"colorbar\":{\"outlinewidth\":0,\"ticks\":\"\"},\"colorscale\":[[0.0,\"#0d0887\"],[0.1111111111111111,\"#46039f\"],[0.2222222222222222,\"#7201a8\"],[0.3333333333333333,\"#9c179e\"],[0.4444444444444444,\"#bd3786\"],[0.5555555555555556,\"#d8576b\"],[0.6666666666666666,\"#ed7953\"],[0.7777777777777778,\"#fb9f3a\"],[0.8888888888888888,\"#fdca26\"],[1.0,\"#f0f921\"]],\"type\":\"heatmap\"}],\"histogram2dcontour\":[{\"colorbar\":{\"outlinewidth\":0,\"ticks\":\"\"},\"colorscale\":[[0.0,\"#0d0887\"],[0.1111111111111111,\"#46039f\"],[0.2222222222222222,\"#7201a8\"],[0.3333333333333333,\"#9c179e\"],[0.4444444444444444,\"#bd3786\"],[0.5555555555555556,\"#d8576b\"],[0.6666666666666666,\"#ed7953\"],[0.7777777777777778,\"#fb9f3a\"],[0.8888888888888888,\"#fdca26\"],[1.0,\"#f0f921\"]],\"type\":\"histogram2dcontour\"}],\"histogram2d\":[{\"colorbar\":{\"outlinewidth\":0,\"ticks\":\"\"},\"colorscale\":[[0.0,\"#0d0887\"],[0.1111111111111111,\"#46039f\"],[0.2222222222222222,\"#7201a8\"],[0.3333333333333333,\"#9c179e\"],[0.4444444444444444,\"#bd3786\"],[0.5555555555555556,\"#d8576b\"],[0.6666666666666666,\"#ed7953\"],[0.7777777777777778,\"#fb9f3a\"],[0.8888888888888888,\"#fdca26\"],[1.0,\"#f0f921\"]],\"type\":\"histogram2d\"}],\"histogram\":[{\"marker\":{\"pattern\":{\"fillmode\":\"overlay\",\"size\":10,\"solidity\":0.2}},\"type\":\"histogram\"}],\"mesh3d\":[{\"colorbar\":{\"outlinewidth\":0,\"ticks\":\"\"},\"type\":\"mesh3d\"}],\"parcoords\":[{\"line\":{\"colorbar\":{\"outlinewidth\":0,\"ticks\":\"\"}},\"type\":\"parcoords\"}],\"pie\":[{\"automargin\":true,\"type\":\"pie\"}],\"scatter3d\":[{\"line\":{\"colorbar\":{\"outlinewidth\":0,\"ticks\":\"\"}},\"marker\":{\"colorbar\":{\"outlinewidth\":0,\"ticks\":\"\"}},\"type\":\"scatter3d\"}],\"scattercarpet\":[{\"marker\":{\"colorbar\":{\"outlinewidth\":0,\"ticks\":\"\"}},\"type\":\"scattercarpet\"}],\"scattergeo\":[{\"marker\":{\"colorbar\":{\"outlinewidth\":0,\"ticks\":\"\"}},\"type\":\"scattergeo\"}],\"scattergl\":[{\"marker\":{\"colorbar\":{\"outlinewidth\":0,\"ticks\":\"\"}},\"type\":\"scattergl\"}],\"scattermapbox\":[{\"marker\":{\"colorbar\":{\"outlinewidth\":0,\"ticks\":\"\"}},\"type\":\"scattermapbox\"}],\"scatterpolargl\":[{\"marker\":{\"colorbar\":{\"outlinewidth\":0,\"ticks\":\"\"}},\"type\":\"scatterpolargl\"}],\"scatterpolar\":[{\"marker\":{\"colorbar\":{\"outlinewidth\":0,\"ticks\":\"\"}},\"type\":\"scatterpolar\"}],\"scatter\":[{\"marker\":{\"colorbar\":{\"outlinewidth\":0,\"ticks\":\"\"}},\"type\":\"scatter\"}],\"scatterternary\":[{\"marker\":{\"colorbar\":{\"outlinewidth\":0,\"ticks\":\"\"}},\"type\":\"scatterternary\"}],\"surface\":[{\"colorbar\":{\"outlinewidth\":0,\"ticks\":\"\"},\"colorscale\":[[0.0,\"#0d0887\"],[0.1111111111111111,\"#46039f\"],[0.2222222222222222,\"#7201a8\"],[0.3333333333333333,\"#9c179e\"],[0.4444444444444444,\"#bd3786\"],[0.5555555555555556,\"#d8576b\"],[0.6666666666666666,\"#ed7953\"],[0.7777777777777778,\"#fb9f3a\"],[0.8888888888888888,\"#fdca26\"],[1.0,\"#f0f921\"]],\"type\":\"surface\"}],\"table\":[{\"cells\":{\"fill\":{\"color\":\"#EBF0F8\"},\"line\":{\"color\":\"white\"}},\"header\":{\"fill\":{\"color\":\"#C8D4E3\"},\"line\":{\"color\":\"white\"}},\"type\":\"table\"}]},\"layout\":{\"annotationdefaults\":{\"arrowcolor\":\"#2a3f5f\",\"arrowhead\":0,\"arrowwidth\":1},\"autotypenumbers\":\"strict\",\"coloraxis\":{\"colorbar\":{\"outlinewidth\":0,\"ticks\":\"\"}},\"colorscale\":{\"diverging\":[[0,\"#8e0152\"],[0.1,\"#c51b7d\"],[0.2,\"#de77ae\"],[0.3,\"#f1b6da\"],[0.4,\"#fde0ef\"],[0.5,\"#f7f7f7\"],[0.6,\"#e6f5d0\"],[0.7,\"#b8e186\"],[0.8,\"#7fbc41\"],[0.9,\"#4d9221\"],[1,\"#276419\"]],\"sequential\":[[0.0,\"#0d0887\"],[0.1111111111111111,\"#46039f\"],[0.2222222222222222,\"#7201a8\"],[0.3333333333333333,\"#9c179e\"],[0.4444444444444444,\"#bd3786\"],[0.5555555555555556,\"#d8576b\"],[0.6666666666666666,\"#ed7953\"],[0.7777777777777778,\"#fb9f3a\"],[0.8888888888888888,\"#fdca26\"],[1.0,\"#f0f921\"]],\"sequentialminus\":[[0.0,\"#0d0887\"],[0.1111111111111111,\"#46039f\"],[0.2222222222222222,\"#7201a8\"],[0.3333333333333333,\"#9c179e\"],[0.4444444444444444,\"#bd3786\"],[0.5555555555555556,\"#d8576b\"],[0.6666666666666666,\"#ed7953\"],[0.7777777777777778,\"#fb9f3a\"],[0.8888888888888888,\"#fdca26\"],[1.0,\"#f0f921\"]]},\"colorway\":[\"#636efa\",\"#EF553B\",\"#00cc96\",\"#ab63fa\",\"#FFA15A\",\"#19d3f3\",\"#FF6692\",\"#B6E880\",\"#FF97FF\",\"#FECB52\"],\"font\":{\"color\":\"#2a3f5f\"},\"geo\":{\"bgcolor\":\"white\",\"lakecolor\":\"white\",\"landcolor\":\"white\",\"showlakes\":true,\"showland\":true,\"subunitcolor\":\"#C8D4E3\"},\"hoverlabel\":{\"align\":\"left\"},\"hovermode\":\"closest\",\"mapbox\":{\"style\":\"light\"},\"paper_bgcolor\":\"white\",\"plot_bgcolor\":\"white\",\"polar\":{\"angularaxis\":{\"gridcolor\":\"#EBF0F8\",\"linecolor\":\"#EBF0F8\",\"ticks\":\"\"},\"bgcolor\":\"white\",\"radialaxis\":{\"gridcolor\":\"#EBF0F8\",\"linecolor\":\"#EBF0F8\",\"ticks\":\"\"}},\"scene\":{\"xaxis\":{\"backgroundcolor\":\"white\",\"gridcolor\":\"#DFE8F3\",\"gridwidth\":2,\"linecolor\":\"#EBF0F8\",\"showbackground\":true,\"ticks\":\"\",\"zerolinecolor\":\"#EBF0F8\"},\"yaxis\":{\"backgroundcolor\":\"white\",\"gridcolor\":\"#DFE8F3\",\"gridwidth\":2,\"linecolor\":\"#EBF0F8\",\"showbackground\":true,\"ticks\":\"\",\"zerolinecolor\":\"#EBF0F8\"},\"zaxis\":{\"backgroundcolor\":\"white\",\"gridcolor\":\"#DFE8F3\",\"gridwidth\":2,\"linecolor\":\"#EBF0F8\",\"showbackground\":true,\"ticks\":\"\",\"zerolinecolor\":\"#EBF0F8\"}},\"shapedefaults\":{\"line\":{\"color\":\"#2a3f5f\"}},\"ternary\":{\"aaxis\":{\"gridcolor\":\"#DFE8F3\",\"linecolor\":\"#A2B1C6\",\"ticks\":\"\"},\"baxis\":{\"gridcolor\":\"#DFE8F3\",\"linecolor\":\"#A2B1C6\",\"ticks\":\"\"},\"bgcolor\":\"white\",\"caxis\":{\"gridcolor\":\"#DFE8F3\",\"linecolor\":\"#A2B1C6\",\"ticks\":\"\"}},\"title\":{\"x\":0.05},\"xaxis\":{\"automargin\":true,\"gridcolor\":\"#EBF0F8\",\"linecolor\":\"#EBF0F8\",\"ticks\":\"\",\"title\":{\"standoff\":15},\"zerolinecolor\":\"#EBF0F8\",\"zerolinewidth\":2},\"yaxis\":{\"automargin\":true,\"gridcolor\":\"#EBF0F8\",\"linecolor\":\"#EBF0F8\",\"ticks\":\"\",\"title\":{\"standoff\":15},\"zerolinecolor\":\"#EBF0F8\",\"zerolinewidth\":2}}},\"xaxis\":{\"anchor\":\"y\",\"domain\":[0.0,0.175],\"showgrid\":true},\"yaxis\":{\"anchor\":\"x\",\"domain\":[0.6000000000000001,1.0],\"showgrid\":true},\"xaxis2\":{\"anchor\":\"y2\",\"domain\":[0.275,0.45],\"showgrid\":true},\"yaxis2\":{\"anchor\":\"x2\",\"domain\":[0.6000000000000001,1.0],\"showgrid\":true},\"xaxis3\":{\"anchor\":\"y3\",\"domain\":[0.55,0.7250000000000001],\"showgrid\":true},\"yaxis3\":{\"anchor\":\"x3\",\"domain\":[0.6000000000000001,1.0],\"showgrid\":true},\"xaxis4\":{\"anchor\":\"y4\",\"domain\":[0.825,1.0],\"showgrid\":true},\"yaxis4\":{\"anchor\":\"x4\",\"domain\":[0.6000000000000001,1.0],\"showgrid\":true},\"xaxis5\":{\"anchor\":\"y5\",\"domain\":[0.0,0.175],\"showgrid\":true},\"yaxis5\":{\"anchor\":\"x5\",\"domain\":[0.0,0.4],\"showgrid\":true},\"xaxis6\":{\"anchor\":\"y6\",\"domain\":[0.275,0.45],\"showgrid\":true},\"yaxis6\":{\"anchor\":\"x6\",\"domain\":[0.0,0.4],\"showgrid\":true},\"xaxis7\":{\"anchor\":\"y7\",\"domain\":[0.55,0.7250000000000001],\"showgrid\":true},\"yaxis7\":{\"anchor\":\"x7\",\"domain\":[0.0,0.4],\"showgrid\":true},\"xaxis8\":{\"anchor\":\"y8\",\"domain\":[0.825,1.0],\"showgrid\":true},\"yaxis8\":{\"anchor\":\"x8\",\"domain\":[0.0,0.4],\"showgrid\":true},\"annotations\":[{\"font\":{\"size\":16},\"showarrow\":false,\"text\":\"Topic 0\",\"x\":0.0875,\"xanchor\":\"center\",\"xref\":\"paper\",\"y\":1.0,\"yanchor\":\"bottom\",\"yref\":\"paper\"},{\"font\":{\"size\":16},\"showarrow\":false,\"text\":\"Topic 1\",\"x\":0.36250000000000004,\"xanchor\":\"center\",\"xref\":\"paper\",\"y\":1.0,\"yanchor\":\"bottom\",\"yref\":\"paper\"},{\"font\":{\"size\":16},\"showarrow\":false,\"text\":\"Topic 2\",\"x\":0.6375000000000001,\"xanchor\":\"center\",\"xref\":\"paper\",\"y\":1.0,\"yanchor\":\"bottom\",\"yref\":\"paper\"},{\"font\":{\"size\":16},\"showarrow\":false,\"text\":\"Topic 3\",\"x\":0.9125,\"xanchor\":\"center\",\"xref\":\"paper\",\"y\":1.0,\"yanchor\":\"bottom\",\"yref\":\"paper\"},{\"font\":{\"size\":16},\"showarrow\":false,\"text\":\"Topic 4\",\"x\":0.0875,\"xanchor\":\"center\",\"xref\":\"paper\",\"y\":0.4,\"yanchor\":\"bottom\",\"yref\":\"paper\"},{\"font\":{\"size\":16},\"showarrow\":false,\"text\":\"Topic 5\",\"x\":0.36250000000000004,\"xanchor\":\"center\",\"xref\":\"paper\",\"y\":0.4,\"yanchor\":\"bottom\",\"yref\":\"paper\"},{\"font\":{\"size\":16},\"showarrow\":false,\"text\":\"Topic 6\",\"x\":0.6375000000000001,\"xanchor\":\"center\",\"xref\":\"paper\",\"y\":0.4,\"yanchor\":\"bottom\",\"yref\":\"paper\"},{\"font\":{\"size\":16},\"showarrow\":false,\"text\":\"Topic 7\",\"x\":0.9125,\"xanchor\":\"center\",\"xref\":\"paper\",\"y\":0.4,\"yanchor\":\"bottom\",\"yref\":\"paper\"}],\"title\":{\"font\":{\"size\":22,\"color\":\"Black\"},\"text\":\"<b>Topic Word Scores\",\"x\":0.5,\"xanchor\":\"center\",\"yanchor\":\"top\"},\"hoverlabel\":{\"font\":{\"size\":16,\"family\":\"Rockwell\"},\"bgcolor\":\"white\"},\"showlegend\":false,\"width\":1200,\"height\":600},                        {\"responsive\": true}                    ).then(function(){\n",
              "                            \n",
              "var gd = document.getElementById('b9d055a8-65c4-4644-9197-7a628016abe5');\n",
              "var x = new MutationObserver(function (mutations, observer) {{\n",
              "        var display = window.getComputedStyle(gd).display;\n",
              "        if (!display || display === 'none') {{\n",
              "            console.log([gd, 'removed!']);\n",
              "            Plotly.purge(gd);\n",
              "            observer.disconnect();\n",
              "        }}\n",
              "}});\n",
              "\n",
              "// Listen for the removal of the full notebook cells\n",
              "var notebookContainer = gd.closest('#notebook-container');\n",
              "if (notebookContainer) {{\n",
              "    x.observe(notebookContainer, {childList: true});\n",
              "}}\n",
              "\n",
              "// Listen for the clearing of the current output cell\n",
              "var outputEl = gd.closest('.output');\n",
              "if (outputEl) {{\n",
              "    x.observe(outputEl, {childList: true});\n",
              "}}\n",
              "\n",
              "                        })                };                            </script>        </div>\n",
              "</body>\n",
              "</html>"
            ]
          },
          "metadata": {}
        }
      ]
    },
    {
      "cell_type": "markdown",
      "source": [
        "**Save Top Word Scores Bar Chart**"
      ],
      "metadata": {
        "id": "MZWFicVqpWUA"
      }
    },
    {
      "cell_type": "code",
      "source": [
        "def save_top_words_scores(model, label, top_n_topics=-1):\n",
        "  fig = model.visualize_barchart(top_n_topics=max_limit(top_n_topics, 8), width=250, height=250)\n",
        "\n",
        "  # Set the path to save \n",
        "  dir = os.path.join(WORK_DIR, COLNAME, 'top_words_scores')\n",
        "\n",
        "  # Use makedirs() to create a new directory if it does not exists\n",
        "  if not os.path.exists(dir):\n",
        "    os.makedirs(dir)\n",
        "\n",
        "  fig.write_image(os.path.join(dir, f\"top_words_scores_trial_{label}.png\"), format=\"png\")\n",
        "  fig.write_html(os.path.join(dir, f\"top_words_scores_trial_{label}.html\"))"
      ],
      "metadata": {
        "id": "Qrz2ywMapdO5"
      },
      "execution_count": 18,
      "outputs": []
    },
    {
      "cell_type": "code",
      "source": [
        "#save_top_words_scores(topic_model, COLNAME, top_n_topics)"
      ],
      "metadata": {
        "id": "LaOHGpWA2FoG"
      },
      "execution_count": null,
      "outputs": []
    },
    {
      "cell_type": "markdown",
      "source": [
        "[Github link](https://github.com/punkmic/Topic-Modeling-Reclame-Aqui/blob/master/results/top_words_scores/tws_preprocessed_lemma.png?raw=true)"
      ],
      "metadata": {
        "id": "HtFLmwl4pTAv"
      }
    },
    {
      "cell_type": "markdown",
      "source": [
        "### **Visualize Topic Similarity**\n",
        "\n",
        "This plot shows a similarity matrix by simply applying cosine similarities through those topic embeddings generate by BERTopic through both c-TF-IDF and embeddings. This matrix indicate how similar certain topics are to each other."
      ],
      "metadata": {
        "id": "qMjOvmYVVUDX"
      }
    },
    {
      "cell_type": "code",
      "source": [
        "fig = topic_model.visualize_heatmap(n_clusters=max_limit(len(set(topics)) - 1, 10), width=1000, height=800)\n",
        "fig"
      ],
      "metadata": {
        "id": "_GL5qZ0nV3M2",
        "colab": {
          "base_uri": "https://localhost:8080/",
          "height": 837
        },
        "outputId": "3dc3cb90-cc4b-4434-cecb-29cb3e669bd6"
      },
      "execution_count": null,
      "outputs": [
        {
          "output_type": "display_data",
          "data": {
            "text/html": [
              "<html>\n",
              "<head><meta charset=\"utf-8\" /></head>\n",
              "<body>\n",
              "    <div>            <script src=\"https://cdnjs.cloudflare.com/ajax/libs/mathjax/2.7.5/MathJax.js?config=TeX-AMS-MML_SVG\"></script><script type=\"text/javascript\">if (window.MathJax) {MathJax.Hub.Config({SVG: {font: \"STIX-Web\"}});}</script>                <script type=\"text/javascript\">window.PlotlyConfig = {MathJaxConfig: 'local'};</script>\n",
              "        <script src=\"https://cdn.plot.ly/plotly-2.8.3.min.js\"></script>                <div id=\"25e23fd7-b232-4b0e-8fa0-8868cb2fe0b9\" class=\"plotly-graph-div\" style=\"height:800px; width:1000px;\"></div>            <script type=\"text/javascript\">                                    window.PLOTLYENV=window.PLOTLYENV || {};                                    if (document.getElementById(\"25e23fd7-b232-4b0e-8fa0-8868cb2fe0b9\")) {                    Plotly.newPlot(                        \"25e23fd7-b232-4b0e-8fa0-8868cb2fe0b9\",                        [{\"coloraxis\":\"coloraxis\",\"name\":\"0\",\"x\":[\"0_cancelamento_empresa_clie...\",\"2_devolu\\u00e7\\u00e3o_retorno_pagamen...\",\"4_email_protocolo_login\",\"1_loja loja_geladeira_compr\",\"3_foto_devolu\\u00e7\\u00e3o_defeito\",\"5_atualiza\\u00e7\\u00e3o_data_t\\u00eanis\",\"6_televis\\u00e3o_livelo_rastream...\",\"7_valor_assinatura_cashback\"],\"y\":[\"0_cancelamento_empresa_clie...\",\"2_devolu\\u00e7\\u00e3o_retorno_pagamen...\",\"4_email_protocolo_login\",\"1_loja loja_geladeira_compr\",\"3_foto_devolu\\u00e7\\u00e3o_defeito\",\"5_atualiza\\u00e7\\u00e3o_data_t\\u00eanis\",\"6_televis\\u00e3o_livelo_rastream...\",\"7_valor_assinatura_cashback\"],\"z\":[[1.0000000000000004,0.8481970925630921,0.8711792366247506,0.7462861177564696,0.8928185611137711,0.8050464075929786,0.6957345955625891,0.824184646212059],[0.8481970925630921,1.0000000000000007,0.8205469041773126,0.7239339706403599,0.8373848328788895,0.8128330608481792,0.7120071032602603,0.8346377907346512],[0.8711792366247506,0.8205469041773126,1.0,0.6995293078206324,0.8186243827436954,0.8090925816522354,0.6781686702988716,0.8118139264364864],[0.7462861177564696,0.7239339706403599,0.6995293078206324,1.0000000000000002,0.8133405511014604,0.7251607709957518,0.7155240410174616,0.6550525103600301],[0.8928185611137711,0.8373848328788895,0.8186243827436954,0.8133405511014604,0.9999999999999997,0.8271261362633242,0.7974608014909894,0.7791467552264162],[0.8050464075929786,0.8128330608481792,0.8090925816522354,0.7251607709957518,0.8271261362633242,0.9999999999999998,0.7877799121971369,0.7606035047714632],[0.6957345955625891,0.7120071032602603,0.6781686702988716,0.7155240410174616,0.7974608014909894,0.7877799121971369,1.0000000000000002,0.6424730396907065],[0.824184646212059,0.8346377907346512,0.8118139264364864,0.6550525103600301,0.7791467552264162,0.7606035047714632,0.6424730396907065,1.0000000000000002]],\"type\":\"heatmap\",\"xaxis\":\"x\",\"yaxis\":\"y\",\"hovertemplate\":\"x: %{x}<br>y: %{y}<br>Similarity Score: %{z}<extra></extra>\"}],                        {\"template\":{\"data\":{\"bar\":[{\"error_x\":{\"color\":\"#2a3f5f\"},\"error_y\":{\"color\":\"#2a3f5f\"},\"marker\":{\"line\":{\"color\":\"#E5ECF6\",\"width\":0.5},\"pattern\":{\"fillmode\":\"overlay\",\"size\":10,\"solidity\":0.2}},\"type\":\"bar\"}],\"barpolar\":[{\"marker\":{\"line\":{\"color\":\"#E5ECF6\",\"width\":0.5},\"pattern\":{\"fillmode\":\"overlay\",\"size\":10,\"solidity\":0.2}},\"type\":\"barpolar\"}],\"carpet\":[{\"aaxis\":{\"endlinecolor\":\"#2a3f5f\",\"gridcolor\":\"white\",\"linecolor\":\"white\",\"minorgridcolor\":\"white\",\"startlinecolor\":\"#2a3f5f\"},\"baxis\":{\"endlinecolor\":\"#2a3f5f\",\"gridcolor\":\"white\",\"linecolor\":\"white\",\"minorgridcolor\":\"white\",\"startlinecolor\":\"#2a3f5f\"},\"type\":\"carpet\"}],\"choropleth\":[{\"colorbar\":{\"outlinewidth\":0,\"ticks\":\"\"},\"type\":\"choropleth\"}],\"contour\":[{\"colorbar\":{\"outlinewidth\":0,\"ticks\":\"\"},\"colorscale\":[[0.0,\"#0d0887\"],[0.1111111111111111,\"#46039f\"],[0.2222222222222222,\"#7201a8\"],[0.3333333333333333,\"#9c179e\"],[0.4444444444444444,\"#bd3786\"],[0.5555555555555556,\"#d8576b\"],[0.6666666666666666,\"#ed7953\"],[0.7777777777777778,\"#fb9f3a\"],[0.8888888888888888,\"#fdca26\"],[1.0,\"#f0f921\"]],\"type\":\"contour\"}],\"contourcarpet\":[{\"colorbar\":{\"outlinewidth\":0,\"ticks\":\"\"},\"type\":\"contourcarpet\"}],\"heatmap\":[{\"colorbar\":{\"outlinewidth\":0,\"ticks\":\"\"},\"colorscale\":[[0.0,\"#0d0887\"],[0.1111111111111111,\"#46039f\"],[0.2222222222222222,\"#7201a8\"],[0.3333333333333333,\"#9c179e\"],[0.4444444444444444,\"#bd3786\"],[0.5555555555555556,\"#d8576b\"],[0.6666666666666666,\"#ed7953\"],[0.7777777777777778,\"#fb9f3a\"],[0.8888888888888888,\"#fdca26\"],[1.0,\"#f0f921\"]],\"type\":\"heatmap\"}],\"heatmapgl\":[{\"colorbar\":{\"outlinewidth\":0,\"ticks\":\"\"},\"colorscale\":[[0.0,\"#0d0887\"],[0.1111111111111111,\"#46039f\"],[0.2222222222222222,\"#7201a8\"],[0.3333333333333333,\"#9c179e\"],[0.4444444444444444,\"#bd3786\"],[0.5555555555555556,\"#d8576b\"],[0.6666666666666666,\"#ed7953\"],[0.7777777777777778,\"#fb9f3a\"],[0.8888888888888888,\"#fdca26\"],[1.0,\"#f0f921\"]],\"type\":\"heatmapgl\"}],\"histogram\":[{\"marker\":{\"pattern\":{\"fillmode\":\"overlay\",\"size\":10,\"solidity\":0.2}},\"type\":\"histogram\"}],\"histogram2d\":[{\"colorbar\":{\"outlinewidth\":0,\"ticks\":\"\"},\"colorscale\":[[0.0,\"#0d0887\"],[0.1111111111111111,\"#46039f\"],[0.2222222222222222,\"#7201a8\"],[0.3333333333333333,\"#9c179e\"],[0.4444444444444444,\"#bd3786\"],[0.5555555555555556,\"#d8576b\"],[0.6666666666666666,\"#ed7953\"],[0.7777777777777778,\"#fb9f3a\"],[0.8888888888888888,\"#fdca26\"],[1.0,\"#f0f921\"]],\"type\":\"histogram2d\"}],\"histogram2dcontour\":[{\"colorbar\":{\"outlinewidth\":0,\"ticks\":\"\"},\"colorscale\":[[0.0,\"#0d0887\"],[0.1111111111111111,\"#46039f\"],[0.2222222222222222,\"#7201a8\"],[0.3333333333333333,\"#9c179e\"],[0.4444444444444444,\"#bd3786\"],[0.5555555555555556,\"#d8576b\"],[0.6666666666666666,\"#ed7953\"],[0.7777777777777778,\"#fb9f3a\"],[0.8888888888888888,\"#fdca26\"],[1.0,\"#f0f921\"]],\"type\":\"histogram2dcontour\"}],\"mesh3d\":[{\"colorbar\":{\"outlinewidth\":0,\"ticks\":\"\"},\"type\":\"mesh3d\"}],\"parcoords\":[{\"line\":{\"colorbar\":{\"outlinewidth\":0,\"ticks\":\"\"}},\"type\":\"parcoords\"}],\"pie\":[{\"automargin\":true,\"type\":\"pie\"}],\"scatter\":[{\"marker\":{\"colorbar\":{\"outlinewidth\":0,\"ticks\":\"\"}},\"type\":\"scatter\"}],\"scatter3d\":[{\"line\":{\"colorbar\":{\"outlinewidth\":0,\"ticks\":\"\"}},\"marker\":{\"colorbar\":{\"outlinewidth\":0,\"ticks\":\"\"}},\"type\":\"scatter3d\"}],\"scattercarpet\":[{\"marker\":{\"colorbar\":{\"outlinewidth\":0,\"ticks\":\"\"}},\"type\":\"scattercarpet\"}],\"scattergeo\":[{\"marker\":{\"colorbar\":{\"outlinewidth\":0,\"ticks\":\"\"}},\"type\":\"scattergeo\"}],\"scattergl\":[{\"marker\":{\"colorbar\":{\"outlinewidth\":0,\"ticks\":\"\"}},\"type\":\"scattergl\"}],\"scattermapbox\":[{\"marker\":{\"colorbar\":{\"outlinewidth\":0,\"ticks\":\"\"}},\"type\":\"scattermapbox\"}],\"scatterpolar\":[{\"marker\":{\"colorbar\":{\"outlinewidth\":0,\"ticks\":\"\"}},\"type\":\"scatterpolar\"}],\"scatterpolargl\":[{\"marker\":{\"colorbar\":{\"outlinewidth\":0,\"ticks\":\"\"}},\"type\":\"scatterpolargl\"}],\"scatterternary\":[{\"marker\":{\"colorbar\":{\"outlinewidth\":0,\"ticks\":\"\"}},\"type\":\"scatterternary\"}],\"surface\":[{\"colorbar\":{\"outlinewidth\":0,\"ticks\":\"\"},\"colorscale\":[[0.0,\"#0d0887\"],[0.1111111111111111,\"#46039f\"],[0.2222222222222222,\"#7201a8\"],[0.3333333333333333,\"#9c179e\"],[0.4444444444444444,\"#bd3786\"],[0.5555555555555556,\"#d8576b\"],[0.6666666666666666,\"#ed7953\"],[0.7777777777777778,\"#fb9f3a\"],[0.8888888888888888,\"#fdca26\"],[1.0,\"#f0f921\"]],\"type\":\"surface\"}],\"table\":[{\"cells\":{\"fill\":{\"color\":\"#EBF0F8\"},\"line\":{\"color\":\"white\"}},\"header\":{\"fill\":{\"color\":\"#C8D4E3\"},\"line\":{\"color\":\"white\"}},\"type\":\"table\"}]},\"layout\":{\"annotationdefaults\":{\"arrowcolor\":\"#2a3f5f\",\"arrowhead\":0,\"arrowwidth\":1},\"autotypenumbers\":\"strict\",\"coloraxis\":{\"colorbar\":{\"outlinewidth\":0,\"ticks\":\"\"}},\"colorscale\":{\"diverging\":[[0,\"#8e0152\"],[0.1,\"#c51b7d\"],[0.2,\"#de77ae\"],[0.3,\"#f1b6da\"],[0.4,\"#fde0ef\"],[0.5,\"#f7f7f7\"],[0.6,\"#e6f5d0\"],[0.7,\"#b8e186\"],[0.8,\"#7fbc41\"],[0.9,\"#4d9221\"],[1,\"#276419\"]],\"sequential\":[[0.0,\"#0d0887\"],[0.1111111111111111,\"#46039f\"],[0.2222222222222222,\"#7201a8\"],[0.3333333333333333,\"#9c179e\"],[0.4444444444444444,\"#bd3786\"],[0.5555555555555556,\"#d8576b\"],[0.6666666666666666,\"#ed7953\"],[0.7777777777777778,\"#fb9f3a\"],[0.8888888888888888,\"#fdca26\"],[1.0,\"#f0f921\"]],\"sequentialminus\":[[0.0,\"#0d0887\"],[0.1111111111111111,\"#46039f\"],[0.2222222222222222,\"#7201a8\"],[0.3333333333333333,\"#9c179e\"],[0.4444444444444444,\"#bd3786\"],[0.5555555555555556,\"#d8576b\"],[0.6666666666666666,\"#ed7953\"],[0.7777777777777778,\"#fb9f3a\"],[0.8888888888888888,\"#fdca26\"],[1.0,\"#f0f921\"]]},\"colorway\":[\"#636efa\",\"#EF553B\",\"#00cc96\",\"#ab63fa\",\"#FFA15A\",\"#19d3f3\",\"#FF6692\",\"#B6E880\",\"#FF97FF\",\"#FECB52\"],\"font\":{\"color\":\"#2a3f5f\"},\"geo\":{\"bgcolor\":\"white\",\"lakecolor\":\"white\",\"landcolor\":\"#E5ECF6\",\"showlakes\":true,\"showland\":true,\"subunitcolor\":\"white\"},\"hoverlabel\":{\"align\":\"left\"},\"hovermode\":\"closest\",\"mapbox\":{\"style\":\"light\"},\"paper_bgcolor\":\"white\",\"plot_bgcolor\":\"#E5ECF6\",\"polar\":{\"angularaxis\":{\"gridcolor\":\"white\",\"linecolor\":\"white\",\"ticks\":\"\"},\"bgcolor\":\"#E5ECF6\",\"radialaxis\":{\"gridcolor\":\"white\",\"linecolor\":\"white\",\"ticks\":\"\"}},\"scene\":{\"xaxis\":{\"backgroundcolor\":\"#E5ECF6\",\"gridcolor\":\"white\",\"gridwidth\":2,\"linecolor\":\"white\",\"showbackground\":true,\"ticks\":\"\",\"zerolinecolor\":\"white\"},\"yaxis\":{\"backgroundcolor\":\"#E5ECF6\",\"gridcolor\":\"white\",\"gridwidth\":2,\"linecolor\":\"white\",\"showbackground\":true,\"ticks\":\"\",\"zerolinecolor\":\"white\"},\"zaxis\":{\"backgroundcolor\":\"#E5ECF6\",\"gridcolor\":\"white\",\"gridwidth\":2,\"linecolor\":\"white\",\"showbackground\":true,\"ticks\":\"\",\"zerolinecolor\":\"white\"}},\"shapedefaults\":{\"line\":{\"color\":\"#2a3f5f\"}},\"ternary\":{\"aaxis\":{\"gridcolor\":\"white\",\"linecolor\":\"white\",\"ticks\":\"\"},\"baxis\":{\"gridcolor\":\"white\",\"linecolor\":\"white\",\"ticks\":\"\"},\"bgcolor\":\"#E5ECF6\",\"caxis\":{\"gridcolor\":\"white\",\"linecolor\":\"white\",\"ticks\":\"\"}},\"title\":{\"x\":0.05},\"xaxis\":{\"automargin\":true,\"gridcolor\":\"white\",\"linecolor\":\"white\",\"ticks\":\"\",\"title\":{\"standoff\":15},\"zerolinecolor\":\"white\",\"zerolinewidth\":2},\"yaxis\":{\"automargin\":true,\"gridcolor\":\"white\",\"linecolor\":\"white\",\"ticks\":\"\",\"title\":{\"standoff\":15},\"zerolinecolor\":\"white\",\"zerolinewidth\":2}}},\"xaxis\":{\"anchor\":\"y\",\"domain\":[0.0,1.0],\"scaleanchor\":\"y\",\"constrain\":\"domain\"},\"yaxis\":{\"anchor\":\"x\",\"domain\":[0.0,1.0],\"autorange\":\"reversed\",\"constrain\":\"domain\"},\"coloraxis\":{\"colorbar\":{\"title\":{\"text\":\"Similarity Score\"}},\"colorscale\":[[0.0,\"rgb(247,252,240)\"],[0.125,\"rgb(224,243,219)\"],[0.25,\"rgb(204,235,197)\"],[0.375,\"rgb(168,221,181)\"],[0.5,\"rgb(123,204,196)\"],[0.625,\"rgb(78,179,211)\"],[0.75,\"rgb(43,140,190)\"],[0.875,\"rgb(8,104,172)\"],[1.0,\"rgb(8,64,129)\"]]},\"margin\":{\"t\":60},\"title\":{\"font\":{\"size\":22,\"color\":\"Black\"},\"text\":\"<b>Similarity Matrix\",\"y\":0.95,\"x\":0.55,\"xanchor\":\"center\",\"yanchor\":\"top\"},\"hoverlabel\":{\"font\":{\"size\":16,\"family\":\"Rockwell\"},\"bgcolor\":\"white\"},\"width\":1000,\"height\":800,\"showlegend\":true,\"legend\":{\"title\":{\"text\":\"Trend\"}}},                        {\"responsive\": true}                    ).then(function(){\n",
              "                            \n",
              "var gd = document.getElementById('25e23fd7-b232-4b0e-8fa0-8868cb2fe0b9');\n",
              "var x = new MutationObserver(function (mutations, observer) {{\n",
              "        var display = window.getComputedStyle(gd).display;\n",
              "        if (!display || display === 'none') {{\n",
              "            console.log([gd, 'removed!']);\n",
              "            Plotly.purge(gd);\n",
              "            observer.disconnect();\n",
              "        }}\n",
              "}});\n",
              "\n",
              "// Listen for the removal of the full notebook cells\n",
              "var notebookContainer = gd.closest('#notebook-container');\n",
              "if (notebookContainer) {{\n",
              "    x.observe(notebookContainer, {childList: true});\n",
              "}}\n",
              "\n",
              "// Listen for the clearing of the current output cell\n",
              "var outputEl = gd.closest('.output');\n",
              "if (outputEl) {{\n",
              "    x.observe(outputEl, {childList: true});\n",
              "}}\n",
              "\n",
              "                        })                };                            </script>        </div>\n",
              "</body>\n",
              "</html>"
            ]
          },
          "metadata": {}
        }
      ]
    },
    {
      "cell_type": "markdown",
      "source": [
        " **Save Similarity Matrix**"
      ],
      "metadata": {
        "id": "CF3QJy6epmQY"
      }
    },
    {
      "cell_type": "code",
      "source": [
        "def save_similarity_matrix(model, label):\n",
        "  fig = model.visualize_heatmap(n_clusters=max_limit(len(set(range(0, len(set(model.topics_))))) - 1, 14), width=1000, height=800)\n",
        "\n",
        "  # Set the path to save \n",
        "  dir = os.path.join(WORK_DIR, COLNAME, 'similarity_matrixes')\n",
        "\n",
        "  # Use makedirs() to create a new directory if it does not exists\n",
        "  if not os.path.exists(dir):\n",
        "    os.makedirs(dir)\n",
        "\n",
        "  fig.write_image(os.path.join(dir, f\"similarity_matrix_trial_{label}.png\"), format=\"png\")\n",
        "  fig.write_html(os.path.join(dir, f\"similarity_matrix_trial_{label}.html\"))"
      ],
      "metadata": {
        "id": "VQOAZurPprA4"
      },
      "execution_count": 19,
      "outputs": []
    },
    {
      "cell_type": "code",
      "source": [
        "#save_similarity_matrix(topic_model, COLNAME)"
      ],
      "metadata": {
        "id": "gQ2rhtAJ2I2c"
      },
      "execution_count": null,
      "outputs": []
    },
    {
      "cell_type": "markdown",
      "source": [
        "[Github link](https://github.com/punkmic/Topic-Modeling-Reclame-Aqui/blob/master/results/similarity_matrix/sm_preprocessed_lemma.png?raw=true)"
      ],
      "metadata": {
        "id": "y1pa1kWApYgp"
      }
    },
    {
      "cell_type": "markdown",
      "source": [
        "### **Visualize Term Score Decline**\n",
        "\n",
        "Topics are represented by a number of words starting with the best representative word. Each word is represented by a c-TF-IDF score. The higher the score, the more representative a word to the topic is. Since the topic words are sorted by their c-TF-IDF score, the scores slowly decline with each word that is added."
      ],
      "metadata": {
        "id": "vd41xsx7Xhgj"
      }
    },
    {
      "cell_type": "code",
      "source": [
        "fig = topic_model.visualize_term_rank(topics=range(0, 20, 1), width=800, height=500)\n",
        "fig"
      ],
      "metadata": {
        "id": "Rw1wXTEtX967",
        "colab": {
          "base_uri": "https://localhost:8080/",
          "height": 517
        },
        "outputId": "718401e8-8034-4d90-b1ba-1d9b64b3a536"
      },
      "execution_count": null,
      "outputs": [
        {
          "output_type": "display_data",
          "data": {
            "text/html": [
              "<html>\n",
              "<head><meta charset=\"utf-8\" /></head>\n",
              "<body>\n",
              "    <div>            <script src=\"https://cdnjs.cloudflare.com/ajax/libs/mathjax/2.7.5/MathJax.js?config=TeX-AMS-MML_SVG\"></script><script type=\"text/javascript\">if (window.MathJax) {MathJax.Hub.Config({SVG: {font: \"STIX-Web\"}});}</script>                <script type=\"text/javascript\">window.PlotlyConfig = {MathJaxConfig: 'local'};</script>\n",
              "        <script src=\"https://cdn.plot.ly/plotly-2.8.3.min.js\"></script>                <div id=\"6c8c6f8e-cd1d-4c56-9dcf-d003904f9642\" class=\"plotly-graph-div\" style=\"height:500px; width:800px;\"></div>            <script type=\"text/javascript\">                                    window.PLOTLYENV=window.PLOTLYENV || {};                                    if (document.getElementById(\"6c8c6f8e-cd1d-4c56-9dcf-d003904f9642\")) {                    Plotly.newPlot(                        \"6c8c6f8e-cd1d-4c56-9dcf-d003904f9642\",                        [{\"hovertext\":\"<b>Topic 0</b>:cancelamento_empresa_cliente_pagame\",\"line\":{\"color\":\"red\",\"width\":1.5},\"mode\":\"lines+lines\",\"name\":\"\",\"opacity\":1,\"x\":[1,2,3,4,5,6,7],\"y\":[0.31905798690907305,0.27614257287518673,0.24872545410720806,0.2331203067580334,0.20257200948147475,0.1951931005391551,0.18598595890593783],\"type\":\"scatter\"},{\"hovertext\":\"<b>Topic 1</b>:loja loja_geladeira_compr_propagand\",\"line\":{\"color\":\"red\",\"width\":1.5},\"mode\":\"lines+lines\",\"name\":\"\",\"opacity\":1,\"x\":[1,2,3,4,5,6,7],\"y\":[0.2504264996675137,0.23639892135437002,0.22876953823359555,0.2203705954644722,0.20113835175813843,0.19721417920538134,0.1958998189985753],\"type\":\"scatter\"},{\"hovertext\":\"<b>Topic 2</b>:devolu\\u00e7\\u00e3o_retorno_pagamento valor_e\",\"line\":{\"color\":\"red\",\"width\":1.5},\"mode\":\"lines+lines\",\"name\":\"\",\"opacity\":1,\"x\":[1,2,3,4,5,6,7],\"y\":[0.3032804397944867,0.23656196051798706,0.23259059699268786,0.21901854217412475,0.2151968850155305,0.2064698246474791,0.2029707011498563],\"type\":\"scatter\"},{\"hovertext\":\"<b>Topic 3</b>:foto_devolu\\u00e7\\u00e3o_defeito_reclama\\u00e7\\u00e3o_l\",\"line\":{\"color\":\"red\",\"width\":1.5},\"mode\":\"lines+lines\",\"name\":\"\",\"opacity\":1,\"x\":[1,2,3,4,5,6,7],\"y\":[0.2407046982539316,0.21581270968385763,0.19555426490749206,0.19101040244970902,0.18902206404483754,0.18759987596646815,0.18517148169420955],\"type\":\"scatter\"},{\"hovertext\":\"<b>Topic 4</b>:email_protocolo_login_retorno_m\\u00eas_e\",\"line\":{\"color\":\"red\",\"width\":1.5},\"mode\":\"lines+lines\",\"name\":\"\",\"opacity\":1,\"x\":[1,2,3,4,5,6,7],\"y\":[0.2900640470114842,0.2584021726687643,0.23760681812169132,0.22659333362404233,0.22316253582405743,0.21871165747936094,0.21697595289960936],\"type\":\"scatter\"},{\"hovertext\":\"<b>Topic 5</b>:atualiza\\u00e7\\u00e3o_data_t\\u00eanis_cama_problem\",\"line\":{\"color\":\"red\",\"width\":1.5},\"mode\":\"lines+lines\",\"name\":\"\",\"opacity\":1,\"x\":[1,2,3,4,5,6,7],\"y\":[0.36440933723479696,0.3460219596096229,0.26168033201936786,0.22937422811938465,0.22686292320777512,0.21845886231765252,0.2068819118109646],\"type\":\"scatter\"},{\"hovertext\":\"<b>Topic 6</b>:televis\\u00e3o_livelo_rastreamento_respe\",\"line\":{\"color\":\"red\",\"width\":1.5},\"mode\":\"lines+lines\",\"name\":\"\",\"opacity\":1,\"x\":[1,2,3,4,5,6,7],\"y\":[0.40597231694989794,0.2943414423015455,0.25735129600629125,0.25119500763073893,0.2231006018685571,0.21241010838059088,0.2098726169970462],\"type\":\"scatter\"},{\"hovertext\":\"<b>Topic 7</b>:valor_assinatura_cashback_anivers\\u00e1r\",\"line\":{\"color\":\"red\",\"width\":1.5},\"mode\":\"lines+lines\",\"name\":\"\",\"opacity\":1,\"x\":[1,2,3,4,5,6,7],\"y\":[0.354365932897315,0.2840425826086939,0.27911739622588283,0.27726632868961754,0.2720559250429075,0.2261740022664867,0.21727784292170105],\"type\":\"scatter\"}],                        {\"template\":{\"data\":{\"barpolar\":[{\"marker\":{\"line\":{\"color\":\"white\",\"width\":0.5},\"pattern\":{\"fillmode\":\"overlay\",\"size\":10,\"solidity\":0.2}},\"type\":\"barpolar\"}],\"bar\":[{\"error_x\":{\"color\":\"#2a3f5f\"},\"error_y\":{\"color\":\"#2a3f5f\"},\"marker\":{\"line\":{\"color\":\"white\",\"width\":0.5},\"pattern\":{\"fillmode\":\"overlay\",\"size\":10,\"solidity\":0.2}},\"type\":\"bar\"}],\"carpet\":[{\"aaxis\":{\"endlinecolor\":\"#2a3f5f\",\"gridcolor\":\"#C8D4E3\",\"linecolor\":\"#C8D4E3\",\"minorgridcolor\":\"#C8D4E3\",\"startlinecolor\":\"#2a3f5f\"},\"baxis\":{\"endlinecolor\":\"#2a3f5f\",\"gridcolor\":\"#C8D4E3\",\"linecolor\":\"#C8D4E3\",\"minorgridcolor\":\"#C8D4E3\",\"startlinecolor\":\"#2a3f5f\"},\"type\":\"carpet\"}],\"choropleth\":[{\"colorbar\":{\"outlinewidth\":0,\"ticks\":\"\"},\"type\":\"choropleth\"}],\"contourcarpet\":[{\"colorbar\":{\"outlinewidth\":0,\"ticks\":\"\"},\"type\":\"contourcarpet\"}],\"contour\":[{\"colorbar\":{\"outlinewidth\":0,\"ticks\":\"\"},\"colorscale\":[[0.0,\"#0d0887\"],[0.1111111111111111,\"#46039f\"],[0.2222222222222222,\"#7201a8\"],[0.3333333333333333,\"#9c179e\"],[0.4444444444444444,\"#bd3786\"],[0.5555555555555556,\"#d8576b\"],[0.6666666666666666,\"#ed7953\"],[0.7777777777777778,\"#fb9f3a\"],[0.8888888888888888,\"#fdca26\"],[1.0,\"#f0f921\"]],\"type\":\"contour\"}],\"heatmapgl\":[{\"colorbar\":{\"outlinewidth\":0,\"ticks\":\"\"},\"colorscale\":[[0.0,\"#0d0887\"],[0.1111111111111111,\"#46039f\"],[0.2222222222222222,\"#7201a8\"],[0.3333333333333333,\"#9c179e\"],[0.4444444444444444,\"#bd3786\"],[0.5555555555555556,\"#d8576b\"],[0.6666666666666666,\"#ed7953\"],[0.7777777777777778,\"#fb9f3a\"],[0.8888888888888888,\"#fdca26\"],[1.0,\"#f0f921\"]],\"type\":\"heatmapgl\"}],\"heatmap\":[{\"colorbar\":{\"outlinewidth\":0,\"ticks\":\"\"},\"colorscale\":[[0.0,\"#0d0887\"],[0.1111111111111111,\"#46039f\"],[0.2222222222222222,\"#7201a8\"],[0.3333333333333333,\"#9c179e\"],[0.4444444444444444,\"#bd3786\"],[0.5555555555555556,\"#d8576b\"],[0.6666666666666666,\"#ed7953\"],[0.7777777777777778,\"#fb9f3a\"],[0.8888888888888888,\"#fdca26\"],[1.0,\"#f0f921\"]],\"type\":\"heatmap\"}],\"histogram2dcontour\":[{\"colorbar\":{\"outlinewidth\":0,\"ticks\":\"\"},\"colorscale\":[[0.0,\"#0d0887\"],[0.1111111111111111,\"#46039f\"],[0.2222222222222222,\"#7201a8\"],[0.3333333333333333,\"#9c179e\"],[0.4444444444444444,\"#bd3786\"],[0.5555555555555556,\"#d8576b\"],[0.6666666666666666,\"#ed7953\"],[0.7777777777777778,\"#fb9f3a\"],[0.8888888888888888,\"#fdca26\"],[1.0,\"#f0f921\"]],\"type\":\"histogram2dcontour\"}],\"histogram2d\":[{\"colorbar\":{\"outlinewidth\":0,\"ticks\":\"\"},\"colorscale\":[[0.0,\"#0d0887\"],[0.1111111111111111,\"#46039f\"],[0.2222222222222222,\"#7201a8\"],[0.3333333333333333,\"#9c179e\"],[0.4444444444444444,\"#bd3786\"],[0.5555555555555556,\"#d8576b\"],[0.6666666666666666,\"#ed7953\"],[0.7777777777777778,\"#fb9f3a\"],[0.8888888888888888,\"#fdca26\"],[1.0,\"#f0f921\"]],\"type\":\"histogram2d\"}],\"histogram\":[{\"marker\":{\"pattern\":{\"fillmode\":\"overlay\",\"size\":10,\"solidity\":0.2}},\"type\":\"histogram\"}],\"mesh3d\":[{\"colorbar\":{\"outlinewidth\":0,\"ticks\":\"\"},\"type\":\"mesh3d\"}],\"parcoords\":[{\"line\":{\"colorbar\":{\"outlinewidth\":0,\"ticks\":\"\"}},\"type\":\"parcoords\"}],\"pie\":[{\"automargin\":true,\"type\":\"pie\"}],\"scatter3d\":[{\"line\":{\"colorbar\":{\"outlinewidth\":0,\"ticks\":\"\"}},\"marker\":{\"colorbar\":{\"outlinewidth\":0,\"ticks\":\"\"}},\"type\":\"scatter3d\"}],\"scattercarpet\":[{\"marker\":{\"colorbar\":{\"outlinewidth\":0,\"ticks\":\"\"}},\"type\":\"scattercarpet\"}],\"scattergeo\":[{\"marker\":{\"colorbar\":{\"outlinewidth\":0,\"ticks\":\"\"}},\"type\":\"scattergeo\"}],\"scattergl\":[{\"marker\":{\"colorbar\":{\"outlinewidth\":0,\"ticks\":\"\"}},\"type\":\"scattergl\"}],\"scattermapbox\":[{\"marker\":{\"colorbar\":{\"outlinewidth\":0,\"ticks\":\"\"}},\"type\":\"scattermapbox\"}],\"scatterpolargl\":[{\"marker\":{\"colorbar\":{\"outlinewidth\":0,\"ticks\":\"\"}},\"type\":\"scatterpolargl\"}],\"scatterpolar\":[{\"marker\":{\"colorbar\":{\"outlinewidth\":0,\"ticks\":\"\"}},\"type\":\"scatterpolar\"}],\"scatter\":[{\"marker\":{\"colorbar\":{\"outlinewidth\":0,\"ticks\":\"\"}},\"type\":\"scatter\"}],\"scatterternary\":[{\"marker\":{\"colorbar\":{\"outlinewidth\":0,\"ticks\":\"\"}},\"type\":\"scatterternary\"}],\"surface\":[{\"colorbar\":{\"outlinewidth\":0,\"ticks\":\"\"},\"colorscale\":[[0.0,\"#0d0887\"],[0.1111111111111111,\"#46039f\"],[0.2222222222222222,\"#7201a8\"],[0.3333333333333333,\"#9c179e\"],[0.4444444444444444,\"#bd3786\"],[0.5555555555555556,\"#d8576b\"],[0.6666666666666666,\"#ed7953\"],[0.7777777777777778,\"#fb9f3a\"],[0.8888888888888888,\"#fdca26\"],[1.0,\"#f0f921\"]],\"type\":\"surface\"}],\"table\":[{\"cells\":{\"fill\":{\"color\":\"#EBF0F8\"},\"line\":{\"color\":\"white\"}},\"header\":{\"fill\":{\"color\":\"#C8D4E3\"},\"line\":{\"color\":\"white\"}},\"type\":\"table\"}]},\"layout\":{\"annotationdefaults\":{\"arrowcolor\":\"#2a3f5f\",\"arrowhead\":0,\"arrowwidth\":1},\"autotypenumbers\":\"strict\",\"coloraxis\":{\"colorbar\":{\"outlinewidth\":0,\"ticks\":\"\"}},\"colorscale\":{\"diverging\":[[0,\"#8e0152\"],[0.1,\"#c51b7d\"],[0.2,\"#de77ae\"],[0.3,\"#f1b6da\"],[0.4,\"#fde0ef\"],[0.5,\"#f7f7f7\"],[0.6,\"#e6f5d0\"],[0.7,\"#b8e186\"],[0.8,\"#7fbc41\"],[0.9,\"#4d9221\"],[1,\"#276419\"]],\"sequential\":[[0.0,\"#0d0887\"],[0.1111111111111111,\"#46039f\"],[0.2222222222222222,\"#7201a8\"],[0.3333333333333333,\"#9c179e\"],[0.4444444444444444,\"#bd3786\"],[0.5555555555555556,\"#d8576b\"],[0.6666666666666666,\"#ed7953\"],[0.7777777777777778,\"#fb9f3a\"],[0.8888888888888888,\"#fdca26\"],[1.0,\"#f0f921\"]],\"sequentialminus\":[[0.0,\"#0d0887\"],[0.1111111111111111,\"#46039f\"],[0.2222222222222222,\"#7201a8\"],[0.3333333333333333,\"#9c179e\"],[0.4444444444444444,\"#bd3786\"],[0.5555555555555556,\"#d8576b\"],[0.6666666666666666,\"#ed7953\"],[0.7777777777777778,\"#fb9f3a\"],[0.8888888888888888,\"#fdca26\"],[1.0,\"#f0f921\"]]},\"colorway\":[\"#636efa\",\"#EF553B\",\"#00cc96\",\"#ab63fa\",\"#FFA15A\",\"#19d3f3\",\"#FF6692\",\"#B6E880\",\"#FF97FF\",\"#FECB52\"],\"font\":{\"color\":\"#2a3f5f\"},\"geo\":{\"bgcolor\":\"white\",\"lakecolor\":\"white\",\"landcolor\":\"white\",\"showlakes\":true,\"showland\":true,\"subunitcolor\":\"#C8D4E3\"},\"hoverlabel\":{\"align\":\"left\"},\"hovermode\":\"closest\",\"mapbox\":{\"style\":\"light\"},\"paper_bgcolor\":\"white\",\"plot_bgcolor\":\"white\",\"polar\":{\"angularaxis\":{\"gridcolor\":\"#EBF0F8\",\"linecolor\":\"#EBF0F8\",\"ticks\":\"\"},\"bgcolor\":\"white\",\"radialaxis\":{\"gridcolor\":\"#EBF0F8\",\"linecolor\":\"#EBF0F8\",\"ticks\":\"\"}},\"scene\":{\"xaxis\":{\"backgroundcolor\":\"white\",\"gridcolor\":\"#DFE8F3\",\"gridwidth\":2,\"linecolor\":\"#EBF0F8\",\"showbackground\":true,\"ticks\":\"\",\"zerolinecolor\":\"#EBF0F8\"},\"yaxis\":{\"backgroundcolor\":\"white\",\"gridcolor\":\"#DFE8F3\",\"gridwidth\":2,\"linecolor\":\"#EBF0F8\",\"showbackground\":true,\"ticks\":\"\",\"zerolinecolor\":\"#EBF0F8\"},\"zaxis\":{\"backgroundcolor\":\"white\",\"gridcolor\":\"#DFE8F3\",\"gridwidth\":2,\"linecolor\":\"#EBF0F8\",\"showbackground\":true,\"ticks\":\"\",\"zerolinecolor\":\"#EBF0F8\"}},\"shapedefaults\":{\"line\":{\"color\":\"#2a3f5f\"}},\"ternary\":{\"aaxis\":{\"gridcolor\":\"#DFE8F3\",\"linecolor\":\"#A2B1C6\",\"ticks\":\"\"},\"baxis\":{\"gridcolor\":\"#DFE8F3\",\"linecolor\":\"#A2B1C6\",\"ticks\":\"\"},\"bgcolor\":\"white\",\"caxis\":{\"gridcolor\":\"#DFE8F3\",\"linecolor\":\"#A2B1C6\",\"ticks\":\"\"}},\"title\":{\"x\":0.05},\"xaxis\":{\"automargin\":true,\"gridcolor\":\"#EBF0F8\",\"linecolor\":\"#EBF0F8\",\"ticks\":\"\",\"title\":{\"standoff\":15},\"zerolinecolor\":\"#EBF0F8\",\"zerolinewidth\":2},\"yaxis\":{\"automargin\":true,\"gridcolor\":\"#EBF0F8\",\"linecolor\":\"#EBF0F8\",\"ticks\":\"\",\"title\":{\"standoff\":15},\"zerolinecolor\":\"#EBF0F8\",\"zerolinewidth\":2}}},\"xaxis\":{\"range\":[0,7],\"tick0\":1,\"dtick\":2,\"title\":{\"text\":\"Term Rank\"}},\"title\":{\"font\":{\"size\":22,\"color\":\"Black\"},\"text\":\"<b>Term score decline per Topic</b>\",\"y\":0.9,\"x\":0.5,\"xanchor\":\"center\",\"yanchor\":\"top\"},\"hoverlabel\":{\"font\":{\"size\":16,\"family\":\"Rockwell\"},\"bgcolor\":\"white\"},\"showlegend\":false,\"width\":800,\"height\":500,\"yaxis\":{\"title\":{\"text\":\"c-TF-IDF score\"}}},                        {\"responsive\": true}                    ).then(function(){\n",
              "                            \n",
              "var gd = document.getElementById('6c8c6f8e-cd1d-4c56-9dcf-d003904f9642');\n",
              "var x = new MutationObserver(function (mutations, observer) {{\n",
              "        var display = window.getComputedStyle(gd).display;\n",
              "        if (!display || display === 'none') {{\n",
              "            console.log([gd, 'removed!']);\n",
              "            Plotly.purge(gd);\n",
              "            observer.disconnect();\n",
              "        }}\n",
              "}});\n",
              "\n",
              "// Listen for the removal of the full notebook cells\n",
              "var notebookContainer = gd.closest('#notebook-container');\n",
              "if (notebookContainer) {{\n",
              "    x.observe(notebookContainer, {childList: true});\n",
              "}}\n",
              "\n",
              "// Listen for the clearing of the current output cell\n",
              "var outputEl = gd.closest('.output');\n",
              "if (outputEl) {{\n",
              "    x.observe(outputEl, {childList: true});\n",
              "}}\n",
              "\n",
              "                        })                };                            </script>        </div>\n",
              "</body>\n",
              "</html>"
            ]
          },
          "metadata": {}
        }
      ]
    },
    {
      "cell_type": "markdown",
      "source": [
        "**Save Term score decline per Topic**"
      ],
      "metadata": {
        "id": "6UXg4gpFpwZg"
      }
    },
    {
      "cell_type": "code",
      "source": [
        "def save_term_rank(model, label, topics=range(0, 20, 1)):\n",
        "  fig = model.visualize_term_rank(topics=topics, width=800, height=500)\n",
        "\n",
        "  # Set the path to save \n",
        "  dir = os.path.join(WORK_DIR, COLNAME, 'term_ranks')\n",
        "\n",
        "  # Use makedirs() to create a new directory if it does not exists\n",
        "  if not os.path.exists(dir):\n",
        "    os.makedirs(dir)\n",
        "\n",
        "  fig.write_image(os.path.join(dir, f\"term_score_trial_{label}.png\"), format=\"png\")\n",
        "  fig.write_html(os.path.join(dir, f\"term_score_trial_{label}.html\"))"
      ],
      "metadata": {
        "id": "F5Gppkjpp0hS"
      },
      "execution_count": 20,
      "outputs": []
    },
    {
      "cell_type": "code",
      "source": [
        "#save_term_rank(topic_model, COLNAME, topic_range)"
      ],
      "metadata": {
        "id": "d6TqDFLt2LzR"
      },
      "execution_count": null,
      "outputs": []
    },
    {
      "cell_type": "markdown",
      "source": [
        "[Github link](https://github.com/punkmic/Topic-Modeling-Reclame-Aqui/blob/master/results/term_socore_decline_topic/tsdp_preprocessed_lemma.png?raw=true)"
      ],
      "metadata": {
        "id": "QERxP9EspLjX"
      }
    },
    {
      "cell_type": "markdown",
      "source": [
        "### **Visualize documents**\n",
        "\n",
        "This plot shows documents and their topics in 2D"
      ],
      "metadata": {
        "id": "wGqVbPHhlSng"
      }
    },
    {
      "cell_type": "code",
      "source": [
        "fig = topic_model.visualize_documents(documents, topics=range(0, 20, 1), width=800, height=700, hide_document_hover=True)\n",
        "fig"
      ],
      "metadata": {
        "colab": {
          "base_uri": "https://localhost:8080/",
          "height": 717
        },
        "id": "BpfPHAZ0lkXG",
        "outputId": "258ea25c-e744-462d-aca1-78f888a22f45"
      },
      "execution_count": null,
      "outputs": [
        {
          "output_type": "display_data",
          "data": {
            "text/html": [
              "<html>\n",
              "<head><meta charset=\"utf-8\" /></head>\n",
              "<body>\n",
              "    <div>            <script src=\"https://cdnjs.cloudflare.com/ajax/libs/mathjax/2.7.5/MathJax.js?config=TeX-AMS-MML_SVG\"></script><script type=\"text/javascript\">if (window.MathJax) {MathJax.Hub.Config({SVG: {font: \"STIX-Web\"}});}</script>                <script type=\"text/javascript\">window.PlotlyConfig = {MathJaxConfig: 'local'};</script>\n",
              "        <script src=\"https://cdn.plot.ly/plotly-2.8.3.min.js\"></script>                <div id=\"573af693-b885-4bd8-812b-32d64b50d656\" class=\"plotly-graph-div\" style=\"height:700px; width:800px;\"></div>            <script type=\"text/javascript\">                                    window.PLOTLYENV=window.PLOTLYENV || {};                                    if (document.getElementById(\"573af693-b885-4bd8-812b-32d64b50d656\")) {                    Plotly.newPlot(                        \"573af693-b885-4bd8-812b-32d64b50d656\",                        [{\"hoverinfo\":\"text\",\"marker\":{\"color\":\"#CFD8DC\",\"opacity\":0.5,\"size\":5},\"mode\":\"markers+text\",\"name\":\"other\",\"showlegend\":false,\"x\":[null],\"y\":[null],\"type\":\"scattergl\"},{\"hoverinfo\":\"text\",\"marker\":{\"opacity\":0.5,\"size\":5},\"mode\":\"markers+text\",\"name\":\"0_cancelamento_empresa_cliente\",\"text\":[\"\",\"\",\"\",\"\",\"\",\"\",\"\",\"\",\"\",\"\",\"\",\"\",\"\",\"\",\"\",\"\",\"\",\"\",\"\",\"\",\"\",\"\",\"\",\"\",\"\",\"\",\"\",\"\",\"\",\"\",\"\",\"\",\"\",\"\",\"\",\"\",\"\",\"\",\"\",\"\",\"\",\"\",\"\",\"\",\"\",\"\",\"\",\"\",\"\",\"\",\"\",\"\",\"\",\"\",\"\",\"\",\"\",\"\",\"\",\"\",\"\",\"\",\"\",\"\",\"\",\"\",\"\",\"\",\"\",\"\",\"\",\"\",\"\",\"\",\"\",\"\",\"\",\"\",\"\",\"\",\"\",\"\",\"\",\"\",\"\",\"\",\"\",\"\",\"\",\"\",\"\",\"\",\"\",\"\",\"\",\"\",\"\",\"\",\"\",\"\",\"\",\"\",\"\",\"\",\"\",\"\",\"\",\"\",\"\",\"\",\"\",\"\",\"\",\"\",\"\",\"\",\"\",\"\",\"\",\"\",\"\",\"\",\"\",\"\",\"\",\"\",\"\",\"\",\"\",\"\",\"\",\"\",\"\",\"\",\"\",\"\",\"\",\"\",\"\",\"\",\"\",\"\",\"\",\"\",\"\",\"\",\"\",\"\",\"\",\"\",\"\",\"\",\"\",\"\",\"\",\"\",\"\",\"\",\"\",\"\",\"\",\"\",\"\",\"\",\"\",\"\",\"\",\"\",\"\",\"\",\"\",\"\",\"\",\"\",\"\",\"\",\"\",\"\",\"\",\"\",\"\",\"\",\"\",\"\",\"\",\"\",\"\",\"\",\"\",\"\",\"\",\"\",\"\",\"\",\"\",\"\",\"\",\"\",\"\",\"\",\"\",\"\",\"\",\"\",\"\",\"\",\"\",\"\",\"\",\"\",\"\",\"\",\"\",\"\",\"\",\"\",\"\",\"\",\"\",\"\",\"\",\"\",\"\",\"\",\"\",\"\",\"\",\"\",\"\",\"\",\"\",\"\",\"\",\"\",\"\",\"\",\"\",\"\",\"\",\"\",\"\",\"\",\"\",\"\",\"\",\"\",\"\",\"\",\"\",\"\",\"\",\"\",\"\",\"\",\"\",\"\",\"\",\"\",\"\",\"\",\"\",\"\",\"\",\"\",\"\",\"\",\"\",\"\",\"\",\"\",\"\",\"\",\"\",\"\",\"\",\"\",\"\",\"\",\"\",\"\",\"\",\"\",\"\",\"\",\"\",\"\",\"\",\"\",\"\",\"\",\"\",\"\",\"\",\"\",\"\",\"\",\"\",\"\",\"\",\"\",\"\",\"\",\"\",\"\",\"\",\"\",\"\",\"\",\"\",\"\",\"\",\"\",\"\",\"\",\"\",\"\",\"\",\"\",\"\",\"\",\"\",\"\",\"\",\"\",\"\",\"\",\"\",\"\",\"\",\"\",\"\",\"\",\"\",\"\",\"\",\"\",\"\",\"\",\"\",\"\",\"\",\"\",\"\",\"\",\"\",\"\",\"\",\"\",\"\",\"\",\"\",\"\",\"\",\"\",\"\",\"\",\"\",\"\",\"\",\"\",\"\",\"\",\"\",\"\",\"\",\"\",\"\",\"\",\"\",\"\",\"\",\"\",\"\",\"\",\"\",\"\",\"\",\"\",\"\",\"\",\"\",\"\",\"\",\"\",\"\",\"\",\"\",\"\",\"\",\"\",\"\",\"\",\"\",\"\",\"\",\"\",\"\",\"\",\"\",\"\",\"\",\"\",\"\",\"\",\"\",\"\",\"\",\"\",\"\",\"\",\"\",\"\",\"\",\"\",\"\",\"\",\"\",\"\",\"\",\"\",\"\",\"\",\"\",\"\",\"\",\"\",\"\",\"\",\"\",\"\",\"\",\"\",\"\",\"\",\"\",\"\",\"\",\"\",\"\",\"\",\"\",\"\",\"\",\"\",\"\",\"\",\"\",\"\",\"\",\"\",\"\",\"\",\"\",\"\",\"\",\"\",\"\",\"\",\"\",\"\",\"\",\"\",\"\",\"\",\"\",\"\",\"\",\"\",\"\",\"\",\"\",\"\",\"\",\"\",\"\",\"\",\"\",\"\",\"\",\"\",\"\",\"\",\"\",\"\",\"\",\"\",\"\",\"\",\"\",\"\",\"\",\"\",\"\",\"\",\"\",\"\",\"\",\"\",\"\",\"\",\"\",\"\",\"\",\"\",\"\",\"\",\"\",\"\",\"\",\"\",\"\",\"\",\"\",\"\",\"\",\"\",\"\",\"\",\"\",\"\",\"\",\"\",\"\",\"\",\"\",\"\",\"\",\"\",\"\",\"\",\"\",\"\",\"\",\"\",\"\",\"\",\"\",\"\",\"\",\"\",\"\",\"\",\"\",\"\",\"\",\"\",\"\",\"\",\"\",\"\",\"\",\"\",\"\",\"\",\"\",\"\",\"\",\"\",\"\",\"\",\"\",\"\",\"\",\"\",\"\",\"\",\"\",\"\",\"\",\"\",\"\",\"\",\"\",\"\",\"\",\"\",\"\",\"\",\"\",\"\",\"\",\"\",\"\",\"\",\"\",\"\",\"\",\"\",\"\",\"\",\"\",\"\",\"\",\"\",\"\",\"\",\"\",\"\",\"\",\"\",\"\",\"\",\"\",\"\",\"\",\"\",\"\",\"\",\"\",\"\",\"\",\"\",\"\",\"\",\"\",\"\",\"\",\"\",\"\",\"\",\"\",\"\",\"\",\"\",\"\",\"\",\"\",\"\",\"\",\"\",\"\",\"\",\"\",\"\",\"\",\"\",\"\",\"\",\"\",\"\",\"\",\"\",\"\",\"\",\"\",\"\",\"\",\"\",\"\",\"\",\"\",\"\",\"\",\"\",\"\",\"\",\"\",\"\",\"\",\"\",\"\",\"\",\"\",\"\",\"\",\"\",\"\",\"\",\"\",\"\",\"\",\"\",\"\",\"\",\"\",\"\",\"\",\"\",\"\",\"\",\"\",\"\",\"\",\"\",\"\",\"\",\"\",\"\",\"\",\"\",\"\",\"\",\"\",\"\",\"\",\"\",\"\",\"\",\"\",\"\",\"\",\"\",\"\",\"\",\"\",\"\",\"\",\"\",\"\",\"\",\"\",\"\",\"\",\"\",\"\",\"\",\"\",\"\",\"\",\"\",\"\",\"\",\"\",\"\",\"\",\"\",\"\",\"\",\"\",\"\",\"\",\"\",\"\",\"\",\"\",\"\",\"\",\"\",\"\",\"\",\"\",\"\",\"\",\"\",\"\",\"\",\"\",\"\",\"\",\"\",\"\",\"\",\"\",\"\",\"\",\"\",\"\",\"\",\"\",\"\",\"\",\"\",\"\",\"\",\"\",\"\",\"\",\"\",\"\",\"\",\"\",\"\",\"\",\"\",\"\",\"\",\"\",\"\",\"\",\"\",\"\",\"\",\"\",\"\",\"\",\"\",\"\",\"\",\"\",\"\",\"\",\"\",\"\",\"\",\"\",\"\",\"\",\"\",\"\",\"\",\"\",\"\",\"\",\"\",\"\",\"\",\"\",\"\",\"\",\"\",\"\",\"\",\"\",\"\",\"\",\"\",\"\",\"\",\"\",\"\",\"\",\"\",\"\",\"\",\"\",\"\",\"\",\"\",\"\",\"\",\"\",\"\",\"\",\"\",\"\",\"\",\"\",\"\",\"\",\"\",\"\",\"\",\"\",\"\",\"\",\"\",\"\",\"\",\"\",\"\",\"\",\"\",\"\",\"\",\"\",\"\",\"\",\"\",\"\",\"\",\"\",\"\",\"\",\"\",\"\",\"\",\"\",\"\",\"\",\"\",\"\",\"\",\"\",\"\",\"\",\"\",\"\",\"\",\"\",\"\",\"\",\"\",\"\",\"\",\"\",\"\",\"\",\"\",\"\",\"\",\"\",\"\",\"\",\"\",\"\",\"\",\"\",\"\",\"\",\"\",\"\",\"\",\"\",\"\",\"\",\"\",\"\",\"\",\"\",\"\",\"\",\"\",\"\",\"\",\"\",\"\",\"\",\"\",\"\",\"\",\"\",\"\",\"\",\"\",\"\",\"\",\"\",\"\",\"\",\"\",\"\",\"\",\"\",\"\",\"\",\"\",\"\",\"\",\"\",\"\",\"\",\"\",\"\",\"\",\"\",\"\",\"\",\"\",\"\",\"\",\"\",\"\",\"\",\"\",\"\",\"\",\"\",\"\",\"\",\"\",\"\",\"\",\"\",\"\",\"\",\"\",\"\",\"\",\"\",\"\",\"\",\"\",\"\",\"\",\"\",\"\",\"\",\"\",\"\",\"\",\"\",\"\",\"\",\"\",\"\",\"\",\"\",\"\",\"\",\"\",\"\",\"\",\"\",\"\",\"\",\"\",\"\",\"\",\"\",\"\",\"\",\"\",\"\",\"\",\"\",\"\",\"\",\"\",\"\",\"\",\"\",\"\",\"\",\"\",\"\",\"\",\"\",\"\",\"\",\"\",\"\",\"\",\"\",\"\",\"\",\"\",\"\",\"\",\"\",\"\",\"\",\"\",\"\",\"\",\"\",\"\",\"\",\"\",\"\",\"\",\"\",\"\",\"\",\"\",\"\",\"\",\"\",\"\",\"\",\"\",\"\",\"\",\"\",\"\",\"\",\"\",\"\",\"\",\"\",\"\",\"\",\"\",\"\",\"\",\"\",\"\",\"\",\"\",\"\",\"\",\"\",\"\",\"\",\"\",\"\",\"\",\"\",\"\",\"\",\"\",\"\",\"\",\"\",\"\",\"\",\"\",\"\",\"\",\"\",\"\",\"\",\"\",\"\",\"\",\"\",\"\",\"\",\"\",\"\",\"\",\"\",\"\",\"\",\"\",\"\",\"\",\"\",\"\",\"\",\"\",\"\",\"\",\"\",\"\",\"\",\"\",\"\",\"\",\"\",\"\",\"\",\"\",\"\",\"\",\"\",\"\",\"\",\"\",\"\",\"\",\"\",\"\",\"\",\"\",\"\",\"\",\"\",\"\",\"\",\"\",\"\",\"\",\"\",\"\",\"\",\"\",\"\",\"\",\"\",\"\",\"\",\"\",\"\",\"\",\"\",\"\",\"\",\"\",\"\",\"\",\"\",\"\",\"\",\"\",\"\",\"\",\"\",\"\",\"\",\"\",\"\",\"\",\"\",\"\",\"\",\"\",\"\",\"\",\"\",\"\",\"\",\"\",\"\",\"\",\"\",\"\",\"\",\"\",\"\",\"\",\"\",\"\",\"\",\"\",\"\",\"\",\"\",\"\",\"\",\"\",\"\",\"\",\"\",\"\",\"\",\"\",\"\",\"\",\"\",\"\",\"\",\"\",\"\",\"\",\"\",\"\",\"\",\"\",\"\",\"\",\"\",\"\",\"\",\"\",\"\",\"\",\"\",\"\",\"\",\"\",\"\",\"\",\"\",\"\",\"\",\"\",\"\",\"\",\"\",\"\",\"\",\"\",\"\",\"\",\"\",\"\",\"\",\"\",\"\",\"\",\"\",\"\",\"\",\"\",\"\",\"\",\"\",\"\",\"\",\"\",\"\",\"\",\"\",\"\",\"\",\"\",\"\",\"\",\"\",\"\",\"\",\"\",\"\",\"\",\"\",\"\",\"\",\"\",\"\",\"\",\"\",\"\",\"\",\"\",\"\",\"\",\"\",\"\",\"\",\"\",\"\",\"\",\"\",\"\",\"\",\"\",\"\",\"\",\"\",\"\",\"\",\"\",\"\",\"\",\"\",\"\",\"\",\"\",\"\",\"\",\"\",\"\",\"\",\"\",\"\",\"\",\"\",\"\",\"\",\"\",\"\",\"\",\"\",\"\",\"\",\"\",\"\",\"\",\"\",\"\",\"\",\"\",\"\",\"\",\"\",\"\",\"\",\"\",\"\",\"\",\"\",\"\",\"\",\"\",\"\",\"\",\"\",\"\",\"\",\"\",\"\",\"\",\"\",\"\",\"\",\"\",\"\",\"\",\"\",\"\",\"\",\"\",\"\",\"\",\"\",\"\",\"\",\"\",\"\",\"\",\"\",\"\",\"\",\"\",\"\",\"\",\"\",\"\",\"\",\"\",\"\",\"\",\"\",\"\",\"\",\"\",\"\",\"\",\"\",\"\",\"\",\"\",\"\",\"\",\"\",\"\",\"\",\"\",\"\",\"\",\"\",\"\",\"\",\"\",\"\",\"\",\"\",\"\",\"\",\"\",\"\",\"\",\"\",\"\",\"\",\"\",\"\",\"\",\"\",\"\",\"\",\"\",\"\",\"\",\"\",\"\",\"\",\"\",\"\",\"\",\"\",\"\",\"\",\"\",\"\",\"\",\"\",\"\",\"\",\"\",\"\",\"\",\"\",\"\",\"\",\"\",\"\",\"\",\"\",\"\",\"\",\"\",\"\",\"\",\"\",\"\",\"\",\"\",\"\",\"\",\"\",\"\",\"\",\"\",\"\",\"\",\"\",\"\",\"\",\"\",\"\",\"\",\"\",\"\",\"\",\"\",\"\",\"\",\"\",\"\",\"\",\"\",\"\",\"\",\"\",\"\",\"\",\"\",\"\",\"\",\"\",\"\",\"\",\"\",\"\",\"\",\"\",\"\",\"\",\"\",\"\",\"\",\"\",\"\",\"\",\"\",\"\",\"\",\"\",\"\",\"\",\"\",\"\",\"\",\"\",\"\",\"\",\"\",\"\",\"\",\"\",\"\",\"\",\"\",\"\",\"\",\"\",\"\",\"\",\"\",\"\",\"\",\"\",\"\",\"\",\"\",\"\",\"\",\"\",\"\",\"\",\"\",\"\",\"\",\"\",\"\",\"\",\"\",\"\",\"\",\"\",\"\",\"\",\"\",\"\",\"\",\"\",\"\",\"\",\"\",\"\",\"\",\"\",\"\",\"\",\"\",\"\",\"\",\"\",\"\",\"\",\"\",\"\",\"\",\"\",\"\",\"\",\"\",\"\",\"\",\"\",\"\",\"\",\"\",\"\",\"\",\"\",\"\",\"\",\"\",\"\",\"\",\"\",\"\",\"\",\"\",\"\",\"\",\"\",\"\",\"\",\"\",\"\",\"\",\"\",\"\",\"\",\"\",\"\",\"\",\"\",\"\",\"\",\"\",\"\",\"\",\"\",\"\",\"\",\"\",\"\",\"\",\"\",\"\",\"\",\"\",\"\",\"\",\"\",\"\",\"\",\"\",\"\",\"\",\"\",\"\",\"\",\"\",\"\",\"\",\"\",\"\",\"\",\"\",\"\",\"\",\"\",\"\",\"\",\"\",\"\",\"\",\"\",\"\",\"\",\"\",\"\",\"\",\"\",\"\",\"\",\"\",\"\",\"\",\"\",\"\",\"\",\"\",\"\",\"\",\"\",\"\",\"\",\"\",\"\",\"\",\"\",\"\",\"\",\"\",\"\",\"\",\"\",\"\",\"\",\"\",\"\",\"\",\"\",\"\",\"\",\"\",\"\",\"\",\"\",\"\",\"\",\"\",\"\",\"\",\"\",\"\",\"\",\"\",\"\",\"\",\"\",\"\",\"\",\"\",\"\",\"\",\"\",\"\",\"\",\"\",\"\",\"\",\"\",\"\",\"\",\"\",\"\",\"\",\"\",\"\",\"\",\"\",\"\",\"\",\"\",\"\",\"\",\"\",\"\",\"\",\"\",\"\",\"\",\"\",\"\",\"\",\"\",\"\",\"\",\"\",\"\",\"\",\"\",\"\",\"\",\"\",\"\",\"\",\"\",\"\",\"\",\"\",\"\",\"\",\"\",\"\",\"\",\"\",\"\",\"\",\"\",\"\",\"\",\"\",\"\",\"\",\"\",\"\",\"\",\"\",\"\",\"\",\"\",\"\",\"\",\"\",\"\",\"\",\"\",\"\",\"\",\"\",\"\",\"\",\"\",\"\",\"\",\"\",\"\",\"\",\"\",\"\",\"\",\"\",\"\",\"\",\"\",\"\",\"\",\"\",\"\",\"\",\"\",\"\",\"\",\"\",\"\",\"\",\"\",\"\",\"\",\"\",\"\",\"\",\"\",\"\",\"\",\"\",\"\",\"\",\"\",\"\",\"\",\"\",\"\",\"\",\"\",\"\",\"\",\"\",\"\",\"\",\"\",\"\",\"\",\"\",\"\",\"\",\"\",\"\",\"\",\"\",\"\",\"\",\"\",\"\",\"\",\"\",\"\",\"\",\"\",\"\",\"\",\"\",\"\",\"\",\"\",\"\",\"\",\"\",\"\",\"\",\"\",\"\",\"\",\"\",\"\",\"\",\"\",\"\",\"\",\"\",\"\",\"\",\"\",\"\",\"\",\"\",\"\",\"\",\"\",\"\",\"\",\"\",\"\",\"\",\"\",\"\",\"\",\"\",\"\",\"\",\"\",\"\",\"\",\"\",\"\",\"\",\"\",\"\",\"\",\"\",\"\",\"\",\"\",\"\",\"\",\"\",\"\",\"\",\"\",\"\",\"\",\"\",\"\",\"\",\"\",\"\",\"\",\"\",\"\",\"\",\"\",\"\",\"\",\"\",\"\",\"\",\"\",\"\",\"\",\"\",\"\",\"\",\"\",\"\",\"\",\"\",\"\",\"\",\"\",\"\",\"\",\"\",\"\",\"\",\"\",\"\",\"\",\"\",\"\",\"\",\"\",\"\",\"\",\"\",\"\",\"\",\"\",\"\",\"\",\"\",\"\",\"\",\"\",\"\",\"\",\"\",\"\",\"\",\"\",\"\",\"\",\"\",\"\",\"\",\"\",\"\",\"\",\"\",\"\",\"\",\"\",\"\",\"\",\"\",\"\",\"\",\"\",\"\",\"\",\"\",\"\",\"\",\"\",\"\",\"\",\"\",\"\",\"\",\"\",\"\",\"\",\"\",\"\",\"\",\"\",\"\",\"\",\"\",\"\",\"\",\"\",\"\",\"\",\"\",\"\",\"\",\"\",\"\",\"\",\"\",\"\",\"\",\"\",\"\",\"\",\"\",\"\",\"\",\"\",\"\",\"\",\"\",\"\",\"\",\"\",\"\",\"\",\"\",\"\",\"\",\"\",\"\",\"\",\"\",\"\",\"\",\"\",\"\",\"\",\"\",\"\",\"\",\"\",\"\",\"\",\"\",\"\",\"\",\"\",\"\",\"\",\"\",\"\",\"\",\"\",\"\",\"\",\"\",\"\",\"\",\"\",\"\",\"\",\"\",\"\",\"\",\"\",\"\",\"\",\"\",\"\",\"\",\"\",\"\",\"\",\"\",\"\",\"\",\"\",\"\",\"\",\"\",\"\",\"\",\"\",\"\",\"\",\"\",\"\",\"\",\"\",\"\",\"\",\"\",\"\",\"\",\"\",\"\",\"\",\"\",\"\",\"\",\"\",\"\",\"\",\"\",\"\",\"\",\"\",\"\",\"\",\"\",\"\",\"\",\"\",\"\",\"\",\"\",\"\",\"\",\"\",\"\",\"\",\"\",\"\",\"\",\"\",\"0_cancelamento_empresa_cliente\"],\"textfont\":{\"size\":12},\"x\":[1.4628320932388306,0.5656914710998535,2.7284200191497803,1.8129348754882812,1.9915612936019897,2.6111624240875244,0.9508213996887207,1.9107714891433716,3.372413158416748,1.3075863122940063,2.3731205463409424,1.4615695476531982,0.14278070628643036,-1.1455224752426147,1.530962586402893,3.0451669692993164,0.4825686812400818,2.9900972843170166,1.001105785369873,0.9784404635429382,-0.6235828399658203,3.289053440093994,1.822524905204773,1.5355324745178223,1.905619502067566,3.3955023288726807,3.6723291873931885,0.9473991990089417,0.8060616254806519,-0.4897655248641968,3.344621419906616,0.7274830341339111,2.0804758071899414,0.9166996479034424,2.762814521789551,0.7546412944793701,2.5476603507995605,1.0130215883255005,0.38064178824424744,1.61818265914917,1.5165314674377441,0.6220780611038208,1.3381271362304688,1.8113362789154053,0.6112817525863647,3.1275973320007324,1.1547625064849854,1.3919187784194946,3.670978546142578,0.9928357601165771,0.757490873336792,0.9633376002311707,-0.6347081065177917,-1.1158567667007446,3.2372257709503174,1.449787974357605,-1.1088557243347168,3.0147128105163574,0.3561355173587799,2.738269805908203,2.9767043590545654,-1.9246402978897095,1.1814111471176147,1.941728949546814,1.6038113832473755,3.4591007232666016,3.4859135150909424,1.5183336734771729,0.6253007650375366,1.021323561668396,0.7447904944419861,1.6133811473846436,2.684431791305542,3.5418174266815186,3.4377760887145996,1.2149229049682617,2.4756669998168945,3.160069704055786,3.172415256500244,0.054697539657354355,2.093529224395752,-0.2596207857131958,0.5468804240226746,0.3779922127723694,2.886545181274414,13.661924362182617,2.8745036125183105,0.012002206407487392,1.7409272193908691,3.0166015625,2.8800294399261475,0.7922548651695251,0.8009892702102661,0.46067696809768677,0.6774575114250183,3.6102728843688965,0.7137715220451355,-0.2032843679189682,3.2782509326934814,0.9269757866859436,1.3548729419708252,1.2413856983184814,2.9066483974456787,1.4851856231689453,1.7287479639053345,-0.3681381344795227,1.6332223415374756,1.471330165863037,1.240721344947815,-0.8615283966064453,2.5130767822265625,-0.07316012680530548,0.49156442284584045,3.346245050430298,1.3089418411254883,3.006772756576538,0.7017612457275391,0.884308397769928,3.326796770095825,2.7393674850463867,0.9939415454864502,3.3495216369628906,1.4580057859420776,-0.6679120659828186,-0.03852479159832001,3.555326223373413,2.4793169498443604,0.657906174659729,2.458010196685791,3.2869956493377686,0.8821984529495239,-0.26510879397392273,1.8773744106292725,3.9256651401519775,1.3855295181274414,3.7526915073394775,13.662160873413086,3.113891124725342,13.662331581115723,0.8261025547981262,0.08092396706342697,3.5554392337799072,1.1005724668502808,2.3206052780151367,2.637399196624756,2.128854990005493,1.7638481855392456,1.3498512506484985,2.9226670265197754,3.3053226470947266,3.2671070098876953,0.0035067747812718153,2.9104671478271484,-0.0910249575972557,0.8030524253845215,0.18962767720222473,0.4639148414134979,0.1836010366678238,0.46401360630989075,1.8415621519088745,1.2783006429672241,3.11600661277771,3.116297483444214,0.6156202554702759,0.8378021121025085,2.9319679737091064,0.10805270075798035,3.350503444671631,0.5574909448623657,1.2274770736694336,2.061307430267334,3.172637462615967,1.2694430351257324,1.1589525938034058,1.8691136837005615,1.2490031719207764,2.3978612422943115,2.864147663116455,2.537872076034546,-0.628415584564209,2.9074950218200684,2.631274938583374,0.3959626257419586,0.9095212817192078,3.370069742202759,1.0713738203048706,3.048668622970581,1.3125978708267212,2.3590328693389893,0.7354042530059814,-0.3405534327030182,1.4586979150772095,1.0905699729919434,0.8786782026290894,1.2142536640167236,2.864119291305542,1.0046977996826172,3.092214822769165,0.37884190678596497,2.665632724761963,0.9417764544487,1.6553025245666504,-1.2147645950317383,0.7911602258682251,3.0378170013427734,2.6850504875183105,1.4874542951583862,0.9584740996360779,3.2015914916992188,1.364577054977417,3.30892014503479,1.6620299816131592,1.6354448795318604,2.978123664855957,0.925892174243927,1.0442723035812378,1.9663070440292358,-0.6439002156257629,0.39386025071144104,3.3998279571533203,3.4103753566741943,1.163506031036377,0.434065580368042,3.4393930435180664,0.46164122223854065,0.8814258575439453,3.401350259780884,2.089308500289917,0.057659395039081573,3.1985392570495605,1.34653902053833,3.3073787689208984,0.4343286156654358,1.4480781555175781,1.0470730066299438,1.1546167135238647,1.0934754610061646,1.8879709243774414,1.1374688148498535,3.1569583415985107,1.0904240608215332,1.2235496044158936,2.771688461303711,0.3424035310745239,0.11861615628004074,0.4788874089717865,2.839430093765259,0.3248409032821655,0.56813645362854,1.376989722251892,0.4069313406944275,-1.236206293106079,2.5500307083129883,3.0819339752197266,3.4493513107299805,3.2839698791503906,-1.1935839653015137,1.087846040725708,3.19020938873291,3.363983154296875,3.2362871170043945,1.6046068668365479,3.083375930786133,0.8776473999023438,1.1131138801574707,0.45577290654182434,2.860901117324829,0.2969324290752411,1.7702323198318481,-0.08760259300470352,0.9974859356880188,0.4721674919128418,2.8851089477539062,0.844822347164154,1.060760736465454,1.160956621170044,1.5461881160736084,2.5563430786132812,0.043824516236782074,1.17109215259552,3.3341193199157715,0.5776247382164001,-1.6205774545669556,3.5044212341308594,1.2007259130477905,0.5179758071899414,3.4814140796661377,3.3292765617370605,1.2329957485198975,1.2986791133880615,0.9094949960708618,0.763532817363739,1.1515144109725952,1.0997352600097656,2.48164963722229,2.426968812942505,1.273182988166809,-0.780394971370697,2.7709341049194336,0.025936143472790718,3.7397806644439697,-1.0814085006713867,1.4844145774841309,1.2121638059616089,3.8883564472198486,3.2606377601623535,1.4110749959945679,3.034392833709717,2.669574022293091,3.647216558456421,0.6849895119667053,1.644996166229248,1.7834179401397705,0.06608428806066513,2.7040488719940186,13.662382125854492,1.5223894119262695,-1.0711077451705933,1.0374634265899658,0.43737730383872986,3.1767733097076416,1.5168776512145996,-0.6582865118980408,1.0909669399261475,1.1523327827453613,1.1053736209869385,1.329148530960083,3.6329610347747803,2.837693929672241,1.7237639427185059,2.7894766330718994,3.0269596576690674,1.7225147485733032,-6.248409271240234,1.165488839149475,-0.031910862773656845,1.0763310194015503,0.6449568271636963,-0.3906696140766144,3.6116297245025635,1.4524822235107422,3.6590802669525146,0.5492643117904663,-1.6083992719650269,1.3635752201080322,-1.0816856622695923,0.8007568120956421,0.43134352564811707,3.253575325012207,0.4612507224082947,1.1843458414077759,3.0600857734680176,0.6388766169548035,-0.03608003258705139,1.2319526672363281,0.3675278127193451,0.9340776205062866,0.7920909523963928,3.161853313446045,2.755092144012451,0.44374534487724304,2.0745630264282227,0.9505017399787903,0.6624289155006409,1.5051432847976685,0.789955735206604,1.3056857585906982,1.368813157081604,2.3819122314453125,1.8106484413146973,3.661219596862793,0.10456334054470062,0.49861249327659607,1.1419720649719238,1.1597098112106323,2.7565464973449707,2.652345895767212,2.231710910797119,0.41238024830818176,3.615385055541992,2.1963555812835693,3.605083703994751,2.8736698627471924,2.4518141746520996,1.3597666025161743,1.2260651588439941,2.4643290042877197,0.9764406681060791,0.6400195360183716,3.6935641765594482,-0.8315926790237427,3.2519373893737793,3.234729528427124,0.48240846395492554,3.611100196838379,-0.9331042766571045,0.34260550141334534,1.8024842739105225,1.081054449081421,2.6363651752471924,1.8427791595458984,1.062252163887024,1.4405707120895386,0.507896900177002,0.659590482711792,2.095332145690918,0.5731023550033569,3.589775800704956,2.565971851348877,0.5047425031661987,0.43273308873176575,0.8794887065887451,1.354344367980957,3.635758399963379,2.5390512943267822,3.613881826400757,3.9302947521209717,-1.2278144359588623,3.1834609508514404,1.3060022592544556,2.6169838905334473,0.9336047172546387,3.6692588329315186,1.1983387470245361,1.5142362117767334,0.4356800317764282,0.010209402069449425,0.02145141363143921,0.8728091716766357,3.720815658569336,1.0108743906021118,2.7198331356048584,1.0569469928741455,2.552863597869873,0.4685705602169037,0.9821445941925049,-1.4980666637420654,3.0817501544952393,2.725144624710083,2.855715751647949,2.7937419414520264,0.9647696018218994,3.3940110206604004,0.8177325129508972,0.6957674026489258,1.178034782409668,0.807040810585022,0.03525484725832939,1.4665074348449707,1.789596676826477,2.6486871242523193,2.1238298416137695,1.5079677104949951,3.7457292079925537,3.4680535793304443,0.77165687084198,0.7983732223510742,1.709986686706543,0.2472098469734192,0.8525829911231995,2.9857735633850098,1.2205618619918823,3.322436809539795,0.46550503373146057,-0.719514787197113,0.45631784200668335,-0.820561408996582,3.5845634937286377,1.6363452672958374,3.0155625343322754,0.6981790661811829,0.7159543633460999,0.4163421392440796,3.1127662658691406,-1.0411823987960815,1.6096584796905518,-0.07058674842119217,0.784277617931366,-7.5427985191345215,0.9004026651382446,0.07591592520475388,0.8144901394844055,2.0757412910461426,2.9275684356689453,1.2833242416381836,3.117863893508911,1.2007207870483398,0.8139312267303467,3.214155912399292,0.5513540506362915,0.4279073476791382,1.3917739391326904,0.9607184529304504,2.1671323776245117,0.04045195132493973,2.89559268951416,3.324333429336548,3.5368423461914062,1.516337275505066,1.1893218755722046,-1.1928393840789795,3.2955212593078613,0.5226996541023254,0.3944375813007355,0.5363107919692993,0.9985325336456299,0.6805753707885742,0.8512901067733765,0.8397369980812073,3.4227616786956787,1.8867095708847046,3.4912726879119873,0.7717666625976562,2.9077794551849365,1.6497676372528076,1.1265512704849243,-0.17946384847164154,0.41123828291893005,0.8837018609046936,1.5169366598129272,0.3685763478279114,1.7646876573562622,1.1555719375610352,0.15642611682415009,0.46124276518821716,-0.6787797808647156,1.2588399648666382,3.232954978942871,0.8777663707733154,1.3625389337539673,0.4268651306629181,1.1588820219039917,-0.05840631574392319,1.0885286331176758,1.1862584352493286,-0.15984651446342468,1.7767362594604492,3.303107261657715,-0.26120078563690186,1.0908747911453247,1.8264240026474,1.19925057888031,0.7249773740768433,3.2846860885620117,-0.2588657736778259,1.4365192651748657,3.284903049468994,0.565791666507721,2.8029394149780273,1.1784378290176392,2.8896408081054688,3.0684568881988525,0.4475741684436798,1.0069900751113892,2.673985481262207,1.4545526504516602,0.8766205310821533,3.1573774814605713,0.08759640902280807,0.8479508757591248,-1.6020208597183228,1.345471978187561,0.7392308712005615,1.3191944360733032,3.136445999145508,1.113654613494873,3.3425822257995605,1.1073764562606812,0.15968692302703857,0.5044503211975098,1.1680514812469482,3.067535400390625,1.8443626165390015,0.7644323706626892,-0.03025636076927185,3.6898515224456787,3.2744266986846924,0.9945235848426819,3.468865156173706,0.9941162467002869,3.368685007095337,3.6150174140930176,0.6092301607131958,1.1383403539657593,0.9060227274894714,2.7259433269500732,3.0901618003845215,-0.05437624454498291,1.6888861656188965,2.8439669609069824,1.5502516031265259,3.6562323570251465,3.60721492767334,1.0216436386108398,1.2854602336883545,0.46850457787513733,3.2691781520843506,1.1243977546691895,0.5285082459449768,-2.960085868835449,0.6999374628067017,1.4910507202148438,0.4279138743877411,0.6337273120880127,-0.7422105073928833,-1.306349754333496,-0.0009327924926765263,-0.19674649834632874,1.120314598083496,0.8829525113105774,2.9934723377227783,3.03886079788208,2.2309281826019287,3.3537683486938477,1.9721161127090454,1.0494301319122314,1.5702730417251587,3.1397223472595215,1.2035859823226929,3.5016818046569824,1.2631394863128662,1.3600208759307861,0.6381122469902039,0.9014068245887756,0.4273442029953003,2.8303685188293457,3.109156370162964,1.1907459497451782,1.302362322807312,3.4817898273468018,0.2032245248556137,0.7838772535324097,0.38849472999572754,1.5653107166290283,3.334465503692627,-1.5249712467193604,-0.8247738480567932,3.228574752807617,3.27120304107666,3.1184821128845215,2.1179654598236084,-0.8642067909240723,2.079861879348755,3.147536039352417,3.0896458625793457,0.8829392790794373,0.41327470541000366,1.464399814605713,1.2306088209152222,0.4514027237892151,0.45903313159942627,3.107184886932373,-0.6834530234336853,2.828585624694824,1.2646043300628662,0.9824519157409668,3.47104811668396,0.8922238945960999,0.7772976756095886,4.260344982147217,0.8547095060348511,1.6670209169387817,3.250683307647705,1.8743871450424194,1.6920968294143677,0.6899563670158386,0.0772404745221138,3.201934337615967,0.12314373254776001,1.4891914129257202,2.140158176422119,0.1399039477109909,3.525174379348755,3.5079731941223145,2.765181541442871,1.3014742136001587,0.9780961871147156,-0.23844249546527863,3.6375129222869873,3.549912929534912,3.125162124633789,3.0987110137939453,2.89547061920166,1.4317426681518555,1.4285061359405518,1.4394152164459229,0.36899447441101074,0.6231980323791504,0.5055199265480042,1.1013208627700806,1.3714423179626465,-0.6131088137626648,0.5170318484306335,0.71964430809021,2.7179973125457764,-0.3551470637321472,0.8625011444091797,-0.7633985877037048,3.0000252723693848,1.0897190570831299,1.3738763332366943,3.004607915878296,0.5276253819465637,3.3914003372192383,1.5263475179672241,1.6134432554244995,1.5842151641845703,2.372316360473633,1.1984227895736694,1.107451319694519,-0.011422937735915184,3.4947266578674316,-0.5391488671302795,0.704053521156311,0.8628395199775696,0.4622141718864441,3.0141921043395996,1.7002449035644531,0.7766503691673279,1.0089373588562012,0.13593707978725433,3.8099236488342285,2.6057519912719727,3.006335496902466,2.872088670730591,-1.0290313959121704,-0.2716135084629059,3.112598419189453,0.4317903220653534,2.2011866569519043,3.2824409008026123,0.8097598552703857,1.0522016286849976,4.751592636108398,3.149738073348999,0.9172213077545166,0.46550503373146057,1.8194546699523926,0.965595006942749,0.5735064744949341,0.0858144760131836,0.39276039600372314,0.5570499300956726,1.2532637119293213,2.022710084915161,-0.36686456203460693,1.5779962539672852,0.3146451711654663,-4.716206073760986,2.122222661972046,3.7723641395568848,1.0435117483139038,3.6198365688323975,1.0178003311157227,2.6649770736694336,1.9749046564102173,2.6023077964782715,0.2900345027446747,3.5941290855407715,3.667668581008911,3.1689858436584473,-0.6937898397445679,0.3069811463356018,1.044954776763916,0.506040096282959,1.6233059167861938,1.642743468284607,1.4288567304611206,2.2714622020721436,0.4614630341529846,0.02069539949297905,0.7333840131759644,1.2165131568908691,3.1458075046539307,1.422107219696045,1.1716965436935425,1.169976830482483,3.179074764251709,0.08572079986333847,0.4661262631416321,0.3531031012535095,2.967827320098877,1.4925622940063477,1.311880350112915,0.6810470819473267,-1.9097086191177368,3.1582329273223877,-0.7166018486022949,2.9638710021972656,-0.048080481588840485,2.7725257873535156,3.086982250213623,1.2407978773117065,1.017025351524353,-1.1162203550338745,2.8524770736694336,3.0227887630462646,1.029819369316101,1.8151510953903198,1.191731333732605,3.2433700561523438,1.576114296913147,1.8529690504074097,3.429722785949707,1.4031705856323242,0.021000154316425323,2.5496912002563477,3.4486043453216553,-0.5238193273544312,0.4543275833129883,0.5824146866798401,2.664412498474121,0.6320769786834717,0.08653943240642548,2.7312889099121094,4.098306179046631,3.2963271141052246,0.3588418662548065,1.471764087677002,0.9552852511405945,0.4936264753341675,1.392933964729309,1.3648048639297485,0.02773655205965042,0.6739952564239502,0.8540992140769958,-1.343156337738037,1.2616647481918335,-0.5155573487281799,2.338500499725342,2.1266655921936035,1.7916065454483032,-0.6772429943084717,0.5597774386405945,0.8484917283058167,1.5071643590927124,3.4995288848876953,3.1063437461853027,0.3516097366809845,1.1547619104385376,3.212575674057007,0.27554377913475037,0.4676998257637024,3.3728837966918945,1.03661048412323,-0.8388696312904358,0.869559109210968,1.399253487586975,0.6486163139343262,1.3147941827774048,3.1027541160583496,2.8897759914398193,1.4191166162490845,2.2066714763641357,1.5098576545715332,0.7744066715240479,0.2882985770702362,2.8086752891540527,2.790940523147583,3.1473331451416016,1.489211082458496,0.5195756554603577,3.1979339122772217,0.09771054238080978,3.007420301437378,3.2396597862243652,0.06269308179616928,1.2357404232025146,3.2023184299468994,1.0548948049545288,2.6746575832366943,1.7162073850631714,1.5953197479248047,3.783236026763916,3.2891812324523926,2.9298489093780518,2.648282766342163,0.6720508933067322,0.49586430191993713,-0.023406269028782845,0.8791327476501465,1.717136263847351,2.9056293964385986,2.784669876098633,0.9601315259933472,3.3602051734924316,1.531962275505066,2.946819543838501,2.8835275173187256,3.3589632511138916,0.7659124135971069,2.756253480911255,0.31186866760253906,3.5287623405456543,1.084957242012024,1.1157886981964111,3.0876834392547607,0.7511631846427917,1.2009215354919434,1.0343244075775146,2.752750873565674,3.051978588104248,2.64715576171875,3.4751219749450684,1.0721067190170288,1.0071125030517578,0.7983384132385254,1.7391247749328613,0.7138361930847168,1.6367696523666382,0.1389743834733963,0.7130988836288452,1.0700316429138184,0.025899020954966545,0.17883369326591492,0.7726531624794006,3.1265203952789307,0.031716231256723404,1.3762710094451904,0.4812071621417999,1.776627779006958,3.029359817504883,2.91072416305542,3.1571381092071533,0.9644920229911804,1.879935383796692,1.2963546514511108,0.4836714267730713,0.9924851655960083,-1.8872458934783936,1.6804102659225464,0.45693108439445496,2.613642692565918,3.1607930660247803,3.476133346557617,0.9808085560798645,0.333572119474411,2.064940929412842,1.2023025751113892,3.1900596618652344,1.3081094026565552,1.7323434352874756,0.46722131967544556,2.713686943054199,3.1433937549591064,2.9122800827026367,0.058128003031015396,0.7692980170249939,0.9424630403518677,0.2016761153936386,1.2541422843933105,3.421086072921753,1.0883185863494873,-0.6766356825828552,-0.011889862827956676,-0.20835082232952118,0.48687544465065,-0.34179025888442993,2.9842941761016846,1.5162031650543213,1.3484175205230713,3.160845994949341,0.9342824220657349,4.362126350402832,3.272414445877075,3.386235237121582,0.8105528950691223,0.15948539972305298,0.5768532752990723,-0.0644151046872139,-0.6010199189186096,-0.5985656976699829,0.42219752073287964,-0.7311949133872986,0.6707934737205505,0.731290876865387,4.260836124420166,1.0636407136917114,3.10113263130188,-0.29138776659965515,1.0754607915878296,2.420895576477051,0.5694610476493835,0.9303175806999207,2.551264524459839,3.3768274784088135,-0.8482005596160889,0.22981424629688263,0.07233027368783951,0.7749356031417847,1.3683708906173706,0.9162508845329285,0.9147923588752747,3.2494993209838867,1.483285665512085,1.1264578104019165,-0.16987352073192596,2.8893485069274902,3.1541826725006104,0.09654896706342697,-2.2849223613739014,1.0957651138305664,-0.838407039642334,3.611325740814209,0.4599137008190155,1.2309236526489258,-0.7107017040252686,0.4629478454589844,3.4753870964050293,1.0122977495193481,1.4525809288024902,3.830235719680786,3.5148544311523438,1.9778952598571777,2.9667749404907227,1.1980746984481812,0.942949652671814,1.5874258279800415,0.45345330238342285,0.5123107433319092,0.9074307084083557,2.1319501399993896,-0.2653052806854248,1.3658721446990967,1.5405546426773071,2.5180087089538574,2.2736222743988037,1.582187533378601,1.1415947675704956,1.2733471393585205,0.8554124236106873,-2.356693744659424,1.75556218624115,3.4666788578033447,0.5990633368492126,1.2561451196670532,2.548581123352051,3.512500524520874,3.598853826522827,1.6049089431762695,1.0307745933532715,0.5506677031517029,2.1188249588012695,3.3105013370513916,0.17305569350719452,0.9211555123329163,3.1377737522125244,1.4700669050216675,1.2406774759292603,2.269153594970703,3.1448612213134766,0.26223087310791016,3.486039400100708,1.0448143482208252,0.94310063123703,1.3880072832107544,3.2381110191345215,-2.5145840644836426,-0.13820506632328033,0.746293306350708,3.4874277114868164,1.313647985458374,2.7330591678619385,1.3281058073043823,3.3510210514068604,0.781280517578125,2.8762855529785156,3.0200228691101074,3.3461146354675293,3.489070415496826,2.5422909259796143,2.720233201980591,0.9811308979988098,0.5402692556381226,1.6795281171798706,1.3241463899612427,3.5913732051849365,1.6909775733947754,0.5256913900375366,1.1227965354919434,1.8087610006332397,1.4791423082351685,3.343197822570801,0.4606133997440338,3.5314671993255615,-0.6004460453987122,1.198243260383606,2.5554378032684326,0.8898103833198547,2.6951186656951904,1.435459852218628,1.2868160009384155,0.04360745847225189,3.258000612258911,1.0593379735946655,3.157367706298828,-0.28225603699684143,3.084737539291382,4.260552406311035,1.346064805984497,3.549508571624756,-0.5174275636672974,3.482541799545288,2.511892080307007,3.6186351776123047,1.3726963996887207,0.9821102619171143,0.5255070328712463,0.389472097158432,3.3978075981140137,3.269134759902954,0.6890669465065002,3.1837990283966064,0.8616057634353638,1.2531230449676514,0.9276105761528015,0.5282413959503174,3.588541030883789,3.2473573684692383,0.9467648267745972,0.47727906703948975,1.2998237609863281,-0.5798402428627014,0.4578070342540741,-1.1173272132873535,3.2461776733398438,0.047571394592523575,-0.5449962615966797,1.410583257675171,1.6053663492202759,0.5401173233985901,3.5989365577697754,2.831165075302124,0.606169581413269,1.486202597618103,2.8760995864868164,3.211277961730957,3.141057014465332,3.010305166244507,2.131852865219116,1.393315315246582,1.6183034181594849,3.537687301635742,3.647099494934082,2.416548490524292,2.6607167720794678,0.4161176085472107,3.429076671600342,3.2214276790618896,0.9040479063987732,2.948370933532715,-1.1490159034729004,3.3497912883758545,1.466914176940918,0.9728907346725464,1.3820946216583252,3.10837721824646,1.453681230545044,1.2650184631347656,1.0926175117492676,3.3753623962402344,3.5366077423095703,3.591655969619751,1.6882169246673584,0.4321904182434082,1.6497206687927246,0.95602947473526,1.316100001335144,3.1073508262634277,3.2249131202697754,0.6167126893997192,0.7813488245010376,0.8982197046279907,3.4365217685699463,-0.8479902744293213,3.330061435699463,3.343581438064575,1.988895297050476,-1.6723864078521729,0.42768460512161255,2.799194574356079,1.2167412042617798,3.452134370803833,1.3899778127670288,2.632037878036499,3.4495861530303955,-0.7911794781684875,3.6151914596557617,1.2888528108596802,-1.349145770072937,0.2888713479042053,0.7886756062507629,-0.018788086250424385,-0.9479039311408997,1.5045874118804932,2.534926652908325,2.34572434425354,1.014854907989502,1.023302674293518,2.7004404067993164,0.7352375388145447,0.9877451658248901,1.52004075050354,0.19482696056365967,2.7570276260375977,0.5422090888023376,2.8894033432006836,1.1474353075027466,13.66254711151123,2.984546422958374,1.5811413526535034,0.9896888732910156,1.12590491771698,1.690799593925476,0.9970865249633789,-1.3051737546920776,3.0239923000335693,0.10112880170345306,-0.31325554847717285,-1.2611794471740723,0.6175490021705627,3.634610652923584,0.9208483099937439,3.3440778255462646,0.45843884348869324,0.9762017726898193,1.5584222078323364,2.894771099090576,-0.3930753469467163,-0.24257056415081024,1.3352924585342407,1.6155563592910767,0.18336614966392517,0.35738539695739746,3.08091402053833,2.941880702972412,-0.26852285861968994,3.338674306869507,0.9748684763908386,1.4175552129745483,1.3565897941589355,1.9080981016159058,-1.0614551305770874,1.5144482851028442,3.336618185043335,3.5978450775146484,3.6708457469940186,1.2869372367858887,3.087073802947998,2.124629259109497,0.43648603558540344,3.0642831325531006,-0.025015026330947876,0.8487354516983032,3.150761842727661,2.1818668842315674,1.5004055500030518,2.728132486343384,1.932012915611267,0.4381169378757477,2.8923697471618652,0.17680224776268005,2.3757429122924805,0.7091753482818604,3.711282730102539,-1.8198877573013306,0.8825503587722778,3.6343600749969482,2.9718472957611084,0.7815138101577759,2.9631166458129883,2.2758913040161133,0.5141176581382751,3.3842287063598633,0.7729443907737732,1.7171753644943237,0.05505847930908203,-0.04222751781344414,-1.2360328435897827,0.7726305723190308,3.3744893074035645,3.073068380355835,1.797385573387146,3.363875389099121,0.4192933738231659,2.6656267642974854,0.9019654393196106,0.8907036781311035,2.848637342453003,1.2161030769348145,3.1677699089050293,2.953737497329712,-0.01778166927397251,-0.6471776962280273,0.3046206533908844,0.7499365210533142,0.9309731721878052,0.8700231313705444,3.309330940246582,0.47727587819099426,3.047847032546997,3.6079163551330566,3.0340826511383057,1.2891638278961182,1.2750182151794434,1.6731473207473755,2.674888849258423,1.8176312446594238,3.1452369689941406,3.0131819248199463,0.15223820507526398,0.5029488205909729,3.062124729156494,3.6823456287384033,0.47342556715011597,2.068434238433838,2.2396230697631836,0.41073840856552124,0.7940034866333008,3.0649421215057373,1.6155771017074585,1.0870894193649292,0.19710056483745575,1.1282676458358765,1.7337684631347656,1.1069692373275757,0.7644177079200745,0.4627363085746765,0.4562200903892517,2.991868257522583,1.092197060585022,-0.1621818095445633,0.7792516946792603,0.38262709975242615,0.4627855122089386,1.3141226768493652,2.4594810009002686,0.467448890209198,-0.2243829369544983,0.9365683794021606,3.5114314556121826,2.3903722763061523,1.935644268989563,1.5808974504470825,0.5411909818649292,3.163747549057007,-0.6707621812820435,0.512810468673706,0.6409213542938232,0.42579174041748047,2.8394856452941895,0.8757594227790833,3.528358221054077,3.218379497528076,0.8073407411575317,3.206408739089966,2.6457102298736572,3.3614280223846436,1.3700435161590576,1.470832347869873,3.1429755687713623,1.0415608882904053,1.2683357000350952,3.5820345878601074,0.4579418897628784,3.150078535079956,1.157841682434082,1.2573362588882446,3.2097911834716797,1.4877103567123413,1.215859055519104,1.4539403915405273,-0.038664788007736206,3.543696403503418,0.8658841252326965,2.6474461555480957,3.6610443592071533,0.19037850201129913,0.4615626931190491,1.9045085906982422,-0.11529629677534103,1.9575380086898804,3.414968967437744,3.5703272819519043,0.6295304298400879,0.06280869245529175,0.6486231088638306,3.1894173622131348,3.1660404205322266,-0.35501793026924133,2.5165746212005615,2.405035972595215,0.6276383996009827,3.058321237564087,3.59460186958313,3.1591098308563232,1.6045122146606445,0.4817410409450531,2.561457395553589,1.0003209114074707,0.6460776329040527,1.0206966400146484,1.8210235834121704,1.366597294807434,0.7732499241828918,-0.3162255585193634,0.7895313501358032,0.6718051433563232,3.0679585933685303,3.130145788192749,0.37314558029174805,1.34736168384552,1.140161156654358,0.14774897694587708,2.077319622039795,0.0023019134532660246,3.247321367263794,0.9270160794258118,0.5072021484375,2.7669007778167725,3.167342185974121,1.3593642711639404,1.9608466625213623,3.0356626510620117,3.5138676166534424,0.5805261731147766,1.1170220375061035,2.8209521770477295,1.4481208324432373,3.488302230834961,2.7723500728607178,0.6037082672119141,1.4919252395629883,1.4127939939498901,0.22650323808193207,-0.3337130844593048,3.3685474395751953,2.1174941062927246,3.7384607791900635,1.066872239112854,-0.04025239869952202,3.8487091064453125,-0.009940879419445992,1.4065948724746704,0.45994487404823303,1.4160003662109375,2.0738375186920166,1.510119915008545,2.8294081687927246,-0.5102996230125427,3.5280237197875977,1.2159841060638428,3.2763519287109375,3.2921879291534424,3.202040195465088,-0.7766824960708618,1.385184645652771,2.906899929046631,0.8512153625488281,1.05683434009552,1.2575591802597046,0.9562257528305054,0.8901998996734619,3.4609715938568115,1.1899656057357788,1.4518084526062012,0.4240330457687378,0.8105118274688721,-0.44478335976600647,1.5602548122406006,1.5928006172180176,-0.9336475729942322,1.1221141815185547,1.1002625226974487,2.934711217880249,1.0598442554473877,1.942838430404663,0.13387881219387054,1.6886101961135864,3.2141802310943604,1.127837061882019,3.439817428588867,2.6683807373046875,3.2839202880859375,1.2259374856948853,3.037644624710083,3.550729751586914,3.2049074172973633,0.5952810049057007,0.7620260119438171,1.3643810749053955,1.657467007637024,3.429943561553955,3.5742247104644775,1.3506431579589844,2.8323466777801514,0.46068423986434937,1.7165206670761108,3.3162693977355957,2.4036102294921875,0.22806398570537567,0.5069176554679871,3.5294442176818848,3.2173526287078857,2.6807034015655518,2.9638986587524414,1.418648600578308,1.4196792840957642,0.9487096071243286,3.1144320964813232,-0.05059942603111267,0.44173717498779297,1.8549888134002686,2.6992435455322266,-1.2329473495483398,0.8830496668815613,2.8856217861175537,3.765169858932495,0.09536143392324448,-0.16532698273658752,3.2169182300567627,1.5673633813858032,2.5464932918548584,2.7227182388305664,1.457430124282837,-0.4187406599521637,0.4616936445236206,0.048296719789505005,0.09600964933633804,1.1766382455825806,1.05857253074646,1.1480742692947388,1.2683497667312622,1.4179396629333496,0.7605656981468201,1.1557246446609497,1.444129467010498,2.90100359916687,3.595491647720337,0.46897274255752563,2.0727596282958984,1.2057205438613892,3.5490686893463135,3.0866026878356934,0.8740919828414917,3.4870052337646484,1.7826529741287231,1.3301918506622314,0.7058385610580444,1.20205819606781,1.239865779876709,3.511934995651245,3.24369478225708,3.543921947479248,3.5206258296966553,0.481899619102478,1.499860405921936,3.1952896118164062,1.0395731925964355,1.141654133796692,3.4054460525512695,1.4384801387786865,3.049089193344116,1.1802624464035034,3.146152973175049,1.2050716876983643,3.5442843437194824,1.031187653541565,1.363509178161621,2.021120309829712,3.616568088531494,3.4029293060302734,3.205158233642578,1.2354121208190918,0.7599090933799744,2.293921947479248,0.9749963879585266,1.6692558526992798,1.548519253730774,1.088503122329712,2.7872767448425293,2.221400737762451,0.4480823576450348,2.921651840209961,2.009352445602417,3.0794925689697266,3.121553421020508,0.7251327633857727,1.103925108909607,3.5854218006134033,-0.3141587972640991,0.43033528327941895,0.5083032846450806,-1.2724775075912476,3.095885992050171,0.0048048896715044975,0.5779502391815186,-0.7936902642250061,3.174804925918579,2.4970431327819824,1.0849087238311768,0.4189566373825073,1.443555235862732,3.291916847229004,3.0507521629333496,1.9277846813201904,0.8806678056716919,1.1140800714492798,1.6582070589065552,3.519150972366333,1.0552204847335815,0.9154016971588135,-0.2865089476108551,3.185500383377075,0.43011584877967834,-0.7055436372756958,0.6820041537284851,3.347968339920044,-0.47722914814949036,0.9830486178398132,1.1734122037887573,3.5489048957824707,2.3219106197357178,1.160150408744812,0.46804556250572205,0.560437023639679,2.899902105331421,0.4612376391887665,2.7095770835876465,-0.751424252986908,0.9457383751869202,0.032692816108465195,1.3695900440216064,1.361393928527832,2.662090301513672,-0.339907705783844,2.563668727874756,0.9477541446685791,0.4583228826522827,0.48012983798980713,1.1018085479736328,3.19087553024292,3.077630043029785,1.021039366722107,1.3715429306030273,1.292801856994629,3.3227362632751465,1.1337640285491943,0.6802005171775818,13.662042617797852,3.113262891769409,2.7645490169525146,0.38516125082969666,1.481407642364502,0.1556064635515213,1.8196425437927246,1.5148894786834717,1.2587345838546753,0.6202654838562012,-1.301855444908142,2.868488311767578,2.6346378326416016,-1.3281446695327759,3.028892993927002,3.093526601791382,0.9502148032188416,1.650272011756897,1.0059783458709717,-0.03848119452595711,-0.7067094445228577,2.3263168334960938,3.623638391494751,3.1617093086242676,3.065880060195923,2.99758243560791,1.3787283897399902,3.125699520111084,3.091269016265869,-1.254306435585022,3.421666145324707,1.2453505992889404,3.086435079574585,-0.6868670582771301,1.563698410987854,1.5998334884643555,3.3465492725372314,1.5902944803237915,-0.43576687574386597,2.955415725708008,1.0248401165008545,-0.41006773710250854,3.608046054840088,0.9906811118125916,2.540982484817505,0.9649930596351624,1.4461947679519653,3.024934768676758,2.784672975540161,3.272193431854248,-1.1055060625076294,-0.15122061967849731,0.6207509636878967,1.0777117013931274,0.5961046814918518,13.662468910217285,0.14058484137058258,3.313023328781128,1.1368601322174072,2.9362359046936035,1.4576098918914795,1.6247681379318237,-0.1233540028333664,-0.1895507425069809,-0.3705700933933258,1.5815781354904175,0.46493855118751526,0.4919842779636383,1.9698307514190674,1.420495867729187,2.925476551055908,3.3686325550079346,0.7795579433441162,1.3877257108688354,1.103581190109253,1.4482249021530151,3.293799877166748,0.01119247730821371,-2.5956597328186035,0.8899045586585999,2.641947031021118,0.7276493310928345,1.314202070236206,0.6833329796791077,-0.8331664204597473,-1.313308596611023,3.6626691818237305,0.7541257739067078,0.7678403258323669,1.5359562635421753,3.150200366973877,2.7346460819244385,1.3299323320388794,0.7492313385009766,3.1922881603240967,1.4546908140182495,1.278472900390625,0.7970573902130127,-0.38192254304885864,3.437573194503784,0.5617123246192932,0.46253183484077454,3.149256944656372,1.6904321908950806,0.6578680276870728,2.522716999053955,3.2656893730163574,0.8931615948677063,1.3780378103256226,0.6426329016685486,-0.8204684257507324,0.986791729927063,-0.6855952739715576,1.4122931957244873,0.7807332873344421,0.9476748108863831,-0.46800944209098816,1.9037853479385376,-0.19487977027893066,2.3641881942749023,2.043916702270508,0.8587807416915894,2.806541681289673,0.8807985782623291,1.2153973579406738,3.518982410430908,3.3103597164154053,-0.5889887809753418,1.0243717432022095,1.585215449333191,1.631075143814087,2.1201887130737305,3.1796300411224365,-0.7813407182693481,-0.6238090395927429,1.041886568069458,1.3343172073364258,0.5066782236099243,0.7007420659065247,3.52630352973938,1.1157969236373901,1.1040185689926147,1.138628363609314,1.3469616174697876,0.25908368825912476,0.45921146869659424,1.3871043920516968,3.2019424438476562,0.6108230948448181,0.6171658635139465,3.269700765609741,3.3029916286468506,0.9150508046150208,0.9205558896064758,2.8977744579315186,1.1224631071090698,2.939587116241455,3.391678810119629,3.598848819732666,0.9452841877937317,0.8917662501335144,3.0448014736175537,0.578163743019104,3.3447790145874023,1.2908858060836792,3.4649176597595215,2.3222978115081787,1.3375006914138794,3.204118251800537,0.9398154616355896,3.397364616394043,1.304323673248291,3.189340353012085,0.45889729261398315,1.2950557470321655,1.5909466743469238,3.1525466442108154,3.3652007579803467,2.467543601989746,0.9988953471183777,3.3774681091308594,1.43790864944458,0.22578701376914978,0.2315283715724945,0.5006941556930542,1.4381548166275024,0.7187961935997009,1.4373747110366821,3.109321117401123,-0.021174093708395958,0.8615474104881287,-0.6479655504226685,0.44733738899230957,3.041001319885254,0.6050463914871216,3.3860933780670166,0.7825405597686768,-0.7715501189231873,2.7842681407928467,1.6342202425003052,1.1483404636383057,3.464702606201172,1.3676568269729614,2.0828194618225098,2.849090576171875,1.6648108959197998,-0.6840856075286865,3.203239917755127,3.307187080383301,1.2238086462020874,1.954208493232727,0.5016322731971741,-1.1807936429977417,0.2427220493555069,1.512404441833496,1.0508073568344116,0.2317563146352768,3.7402234077453613,-0.6878116130828857,0.7608471512794495,4.262100696563721,0.9780920147895813,2.795060396194458,0.35417792201042175,3.429877519607544,1.2670915126800537,-0.6764745116233826,-0.3315860331058502,0.06825771182775497,0.565385639667511,-0.9679849147796631,0.8417510986328125,0.7256485819816589,2.625925302505493,0.4636749029159546,1.8223330974578857,1.3700101375579834,0.8203966021537781,3.2325947284698486,3.332463502883911,-1.1711461544036865,2.50832200050354,0.4855576753616333,-0.06356466561555862,0.9296985864639282,0.3176420032978058,1.6148717403411865,3.4093501567840576,1.6625360250473022,0.393757164478302,3.516174793243408,3.2220823764801025,3.0046305656433105,1.7128440141677856,1.3116779327392578,1.0589675903320312,0.9254117608070374,1.4355969429016113,1.370398759841919,0.42835870385169983,1.5693873167037964,3.4868364334106445,3.572183609008789,1.5949602127075195,1.0536210536956787,0.9064934253692627,3.1791024208068848,0.35818395018577576,-1.1542088985443115,1.3057001829147339,0.936086118221283,-0.4348773658275604,1.8703196048736572,2.941631555557251,0.9740928411483765,3.5424253940582275,3.1002187728881836,2.825429677963257,0.3621545732021332,3.2195863723754883,1.4396295547485352,-0.5451241731643677,0.7797917723655701,0.46329018473625183,0.8697949647903442,0.845726490020752,3.8004724979400635,3.160519599914551,0.5051292777061462,1.2048659324645996,0.35951969027519226,1.4443093538284302,1.1735875606536865,0.9684082269668579,1.401852011680603,-0.22580412030220032,0.4469764530658722,0.8837499618530273,-0.014044441282749176,0.24391262233257294,0.07751481235027313,0.6271910667419434,1.2358745336532593,1.4344730377197266,0.6109995245933533,-1.1674258708953857,-0.13776466250419617,3.4076054096221924,1.0781092643737793,1.9051754474639893,0.01397098321467638,1.8538908958435059,0.5475295782089233,1.464254379272461,0.6405907869338989,2.006452798843384,-0.08012226969003677,1.2804980278015137,1.3370897769927979,2.472506046295166,2.6603007316589355,1.1445039510726929,-0.7170835137367249,2.753269672393799,2.7245192527770996,-1.9393061399459839,1.1883866786956787,0.670626699924469,1.084887146949768,-0.7018791437149048,1.1952166557312012,-1.4771497249603271,3.2207343578338623,0.7175689935684204,-0.5757073760032654,1.1507561206817627,0.7823553085327148,1.733214259147644,0.4372354745864868,1.1522644758224487,0.3438853919506073,1.5319948196411133,2.3161184787750244,0.46993136405944824,0.8963984251022339,3.0260467529296875,3.526435375213623,1.3917051553726196,-7.558379173278809,2.152087926864624,3.0786774158477783,2.6512112617492676,3.281450033187866,1.0533084869384766,2.742570638656616,-2.2729811668395996,0.7753640413284302,0.549008846282959,0.9687371253967285,3.536142587661743,1.5119563341140747,3.3337860107421875,3.084367513656616,3.9464406967163086,1.633750319480896,3.309227705001831,0.5676453113555908,0.6596664786338806,-1.2345795631408691,3.555302381515503,3.2302002906799316,0.9083119630813599,0.5863515734672546,3.4802541732788086,1.112845778465271,13.662575721740723,3.1904592514038086,0.48052966594696045,0.24450573325157166,1.0791959762573242,1.795300841331482,3.0223121643066406,1.2868061065673828,0.5495175719261169,-0.22373296320438385,0.5993966460227966,-0.5454348921775818,0.310579389333725,1.2093256711959839,3.0499517917633057,2.829305648803711,-0.23327824473381042,2.9156594276428223,3.6084682941436768,0.8388956189155579,3.6549930572509766,0.7104620933532715,2.581028938293457,1.2205619812011719,1.038394570350647,0.9276695251464844,-0.21378478407859802,0.6542686223983765,2.740792751312256,1.1193311214447021,3.030209541320801,1.0877474546432495,1.2690476179122925,3.0854127407073975,3.377162456512451,3.2072818279266357,0.9939544796943665,1.933781385421753,0.23325681686401367,3.071319818496704,0.9803794026374817,3.0915989875793457,3.2953858375549316,1.4792625904083252,3.0166473388671875,1.948312520980835,3.0147032737731934,1.6314135789871216,3.0791802406311035,1.080980658531189,1.6412750482559204,-3.2253923416137695,-1.1624631881713867,1.1392306089401245,2.952366352081299,1.8649318218231201,-0.1288294494152069,0.15996572375297546,1.576632022857666,0.22874103486537933,0.002988873515278101,0.9625457525253296,3.3817028999328613,1.295941710472107,3.6006250381469727,2.6084537506103516,2.918684959411621,-0.22410286962985992,0.8683260083198547,-1.2978062629699707,1.6055433750152588,0.7589259743690491,0.7993032932281494,1.0120983123779297,0.8634170293807983,3.1859724521636963,0.9462996125221252,-0.23359401524066925,-0.2077118456363678,2.966613292694092,1.8826650381088257,0.025576883926987648,0.9694615602493286,2.4309675693511963,0.4603905975818634,2.929499387741089,0.027926087379455566,-0.15741856396198273,3.0678491592407227,3.648406982421875,3.319051742553711,1.2903556823730469,3.3038928508758545,0.1103733703494072,3.3008809089660645,0.9582809209823608,-2.409409761428833,3.1923725605010986,0.32158684730529785,3.590289831161499,0.4594983756542206,0.9858323335647583,1.045646071434021,1.393048882484436,0.21904531121253967,0.6213434934616089,0.584614634513855,2.8983981609344482,-0.34111690521240234,0.8254235982894897,-0.09837032109498978,2.4071011543273926,1.026407241821289,1.279019832611084,2.541518449783325,1.5419389009475708,-0.1026688888669014,3.318527936935425,2.5116970539093018,1.1337194442749023,0.5069969892501831,1.565588355064392],\"y\":[10.096601486206055,9.863001823425293,10.469555854797363,14.394272804260254,11.087686538696289,10.36033821105957,10.205584526062012,11.155794143676758,10.745711326599121,9.59376335144043,10.540465354919434,11.411136627197266,11.018898010253906,12.576842308044434,11.476518630981445,11.011845588684082,10.267104148864746,10.500868797302246,10.798585891723633,11.315034866333008,11.944944381713867,11.722382545471191,10.907361030578613,9.139924049377441,9.057043075561523,11.461893081665039,10.9594087600708,8.328268051147461,9.103370666503906,11.995076179504395,11.46971321105957,9.370017051696777,9.348155975341797,11.834074974060059,10.889793395996094,10.094931602478027,10.790560722351074,10.995111465454102,10.676419258117676,9.099296569824219,10.700358390808105,10.449562072753906,9.573287010192871,11.636828422546387,11.14882755279541,10.635787963867188,10.966209411621094,12.279144287109375,14.249505043029785,9.964574813842773,9.876473426818848,10.870314598083496,12.029342651367188,12.486634254455566,10.684788703918457,10.188708305358887,12.305309295654297,10.866497993469238,11.367545127868652,10.915763854980469,10.781623840332031,6.949254035949707,9.964704513549805,6.885324478149414,9.280884742736816,10.837065696716309,13.771544456481934,11.887046813964844,12.287168502807617,11.588186264038086,8.56691837310791,10.21009635925293,11.269850730895996,10.684784889221191,11.127725601196289,9.13730239868164,11.347485542297363,13.414033889770508,11.627577781677246,12.184155464172363,10.838464736938477,12.135699272155762,-0.8627033829689026,11.954272270202637,10.83205509185791,10.324369430541992,11.451351165771484,8.726600646972656,9.637704849243164,11.671346664428711,11.526734352111816,8.911355972290039,10.426786422729492,-0.9450095891952515,10.530932426452637,11.04165267944336,10.434906959533691,10.69786262512207,11.177980422973633,11.147555351257324,8.86023998260498,11.884201049804688,11.018540382385254,11.233202934265137,11.916226387023926,12.033862113952637,10.776406288146973,11.685179710388184,8.814288139343262,10.468398094177246,10.743160247802734,11.239349365234375,11.965863227844238,10.621087074279785,9.510921478271484,10.74351692199707,10.318833351135254,10.37086296081543,11.705145835876465,11.354578018188477,11.01149845123291,10.088082313537598,11.43851089477539,12.175325393676758,10.932533264160156,12.505499839782715,12.174705505371094,9.248744010925293,12.146997451782227,11.969503402709961,12.317777633666992,11.956624984741211,11.560417175292969,5.990490436553955,11.08073616027832,10.383050918579102,10.324442863464355,11.261759757995605,10.324565887451172,11.976499557495117,11.992206573486328,10.853028297424316,9.553970336914062,11.33648681640625,10.537057876586914,7.932229995727539,11.355961799621582,11.465115547180176,11.420326232910156,10.907448768615723,13.707889556884766,8.676922798156738,9.254937171936035,9.055350303649902,13.074191093444824,10.311452865600586,-0.9434089660644531,12.388344764709473,-0.9391038417816162,11.433228492736816,12.379535675048828,11.469184875488281,11.407727241516113,10.823832511901855,10.936464309692383,10.939403533935547,8.498139381408691,11.296843528747559,10.612872123718262,11.32988166809082,10.232190132141113,11.521727561950684,9.274658203125,12.627079010009766,11.110899925231934,8.61068344116211,10.557158470153809,10.983518600463867,10.72107982635498,11.613774299621582,8.956369400024414,11.436901092529297,12.058206558227539,12.14548397064209,11.279459953308105,8.80404281616211,10.627336502075195,8.323675155639648,10.668811798095703,9.15970230102539,12.72836685180664,11.022001266479492,13.33056354522705,10.329591751098633,9.555200576782227,10.594295501708984,11.889993667602539,10.84127426147461,-0.869117021560669,10.630884170532227,8.49356746673584,11.038488388061523,12.507248878479004,8.849858283996582,10.531376838684082,11.088293075561523,10.210075378417969,10.34087085723877,11.336310386657715,9.532492637634277,11.192547798156738,10.307746887207031,10.030739784240723,10.916979789733887,9.583731651306152,11.568702697753906,9.098676681518555,12.026211738586426,10.668662071228027,10.503874778747559,11.585612297058105,10.47381591796875,11.309614181518555,10.71740436553955,8.635369300842285,10.868279457092285,10.709734916687012,10.852545738220215,11.844292640686035,11.453266143798828,9.914229393005371,13.886321067810059,11.844342231750488,10.149781227111816,9.710519790649414,11.032196998596191,10.203539848327637,11.402693748474121,9.507303237915039,11.886771202087402,10.927902221679688,10.136298179626465,11.063422203063965,10.108386039733887,10.957525253295898,-0.9202960729598999,8.949080467224121,11.38970947265625,10.472743034362793,10.244864463806152,10.012680053710938,13.017236709594727,9.512481689453125,11.382899284362793,10.836347579956055,11.571247100830078,12.461650848388672,10.270851135253906,9.37629222869873,13.88253402709961,10.93199634552002,11.686623573303223,9.204288482666016,10.46099853515625,10.472639083862305,-0.941533625125885,11.255911827087402,9.344743728637695,14.353777885437012,9.149813652038574,10.592658996582031,-0.9258298873901367,11.334236145019531,9.424432754516602,10.244843482971191,11.863603591918945,10.190192222595215,11.542352676391602,10.360644340515137,10.666465759277344,10.050786018371582,10.636037826538086,13.007652282714844,10.966073036193848,10.753130912780762,8.210370063781738,10.878951072692871,11.33935832977295,10.65649127960205,9.616103172302246,10.841602325439453,11.464313507080078,9.786574363708496,9.201942443847656,12.162372589111328,9.390423774719238,10.316902160644531,11.260287284851074,11.452771186828613,8.688071250915527,13.912467002868652,12.30256462097168,9.502537727355957,11.51842975616455,6.058370590209961,10.334278106689453,8.80398178100586,11.72367000579834,9.46621036529541,10.50696849822998,9.076851844787598,10.199921607971191,9.572175979614258,12.221190452575684,11.232468605041504,10.324570655822754,11.743542671203613,12.416829109191895,11.373091697692871,9.677427291870117,11.062972068786621,12.252485275268555,11.993451118469238,9.06612777709961,9.062381744384766,11.51513385772705,6.631717205047607,10.989322662353516,11.296175956726074,10.164422988891602,11.427392959594727,11.439454078674316,9.371488571166992,11.770492553710938,8.954972267150879,8.652579307556152,8.172269821166992,10.339157104492188,13.342094421386719,12.528987884521484,10.792182922363281,10.89555835723877,10.703903198242188,8.929017066955566,10.817397117614746,12.377431869506836,11.755475044250488,10.544281959533691,10.571915626525879,-0.946806788444519,10.66097354888916,11.367993354797363,10.861584663391113,12.552209854125977,8.852123260498047,12.209028244018555,8.463027954101562,8.84443187713623,9.107414245605469,10.506547927856445,11.089820861816406,10.795589447021484,11.214268684387207,9.814605712890625,11.06019401550293,9.814106941223145,10.59109115600586,12.222314834594727,10.637450218200684,10.050212860107422,13.704591751098633,12.787129402160645,-0.9105464220046997,11.256409645080566,8.990315437316895,10.827067375183105,9.09664535522461,11.019139289855957,10.097105979919434,11.123818397521973,10.567877769470215,12.60434627532959,11.144292831420898,5.256039142608643,10.277154922485352,9.51613998413086,10.863689422607422,10.96246337890625,10.945101737976074,12.405288696289062,11.429207801818848,11.13813591003418,13.890366554260254,-0.9205362796783447,11.070096969604492,12.294909477233887,11.859262466430664,11.569452285766602,10.87226676940918,9.370408058166504,9.399809837341309,9.176445960998535,8.937137603759766,11.118629455566406,9.226231575012207,10.676636695861816,8.121694564819336,11.03002643585205,9.00606918334961,9.068845748901367,8.09854507446289,10.405682563781738,10.252928733825684,13.222196578979492,9.865656852722168,10.99610424041748,5.931055545806885,12.84277057647705,10.431097984313965,9.209202766418457,11.669031143188477,7.50800085067749,13.321533203125,10.403388977050781,9.842245101928711,-0.9724336266517639,10.734164237976074,10.394885063171387,8.431589126586914,10.882819175720215,9.19262409210205,10.653158187866211,10.130892753601074,11.33251667022705,-0.9356945157051086,10.689099311828613,12.982808113098145,12.671141624450684,13.072216987609863,10.750286102294922,10.965447425842285,11.507346153259277,11.313824653625488,9.70004653930664,10.483321189880371,10.8983736038208,8.507758140563965,11.914813995361328,9.790717124938965,10.608120918273926,9.31441593170166,10.449474334716797,10.136894226074219,10.31008529663086,10.845189094543457,11.168577194213867,11.021221160888672,10.030826568603516,11.247976303100586,10.45744514465332,10.998794555664062,11.647336959838867,11.074328422546387,-0.9420351386070251,12.1116304397583,-0.9573999047279358,12.014886856079102,10.929444313049316,11.889835357666016,11.401166915893555,11.085674285888672,10.815364837646484,-0.9794812202453613,11.330158233642578,11.344914436340332,11.198026657104492,11.101080894470215,11.61673641204834,4.397305488586426,11.03268051147461,10.675032615661621,10.218029975891113,11.282257080078125,11.72128677368164,10.58606243133545,11.6392822265625,11.118127822875977,11.305412292480469,11.043755531311035,9.109149932861328,8.522727012634277,10.080361366271973,10.234975814819336,10.755412101745605,8.64259147644043,9.886797904968262,10.178950309753418,10.845099449157715,9.359712600708008,8.38674545288086,12.385972023010254,10.33471393585205,10.979024887084961,10.379312515258789,11.348653793334961,8.841588973999023,9.680381774902344,9.203890800476074,9.732901573181152,11.745379447937012,11.03614330291748,10.86645793914795,10.91319465637207,10.802366256713867,10.781756401062012,9.84704875946045,11.247056007385254,8.453328132629395,11.011911392211914,11.611154556274414,11.2771577835083,11.29538345336914,11.351922988891602,10.509037971496582,-0.9445981383323669,12.131683349609375,9.563273429870605,11.606736183166504,9.021093368530273,9.898200988769531,11.765542030334473,11.348487854003906,8.936027526855469,10.181831359863281,9.346263885498047,10.95519733428955,13.043441772460938,11.30675983428955,11.994159698486328,10.588788032531738,10.974231719970703,9.424260139465332,8.408211708068848,10.709970474243164,10.237622261047363,10.04001235961914,10.945100784301758,11.348655700683594,11.308442115783691,11.196914672851562,10.809308052062988,11.107398986816406,-0.9531250596046448,8.63570499420166,10.67689323425293,10.185104370117188,10.595810890197754,9.762016296386719,12.683229446411133,11.127952575683594,12.985749244689941,8.812737464904785,10.148321151733398,10.274450302124023,11.673471450805664,11.228078842163086,9.398956298828125,10.731096267700195,8.622636795043945,-0.9042701721191406,8.543309211730957,10.82822036743164,11.391864776611328,12.67745304107666,8.625797271728516,12.275165557861328,10.776630401611328,7.4486775398254395,10.84243392944336,9.760287284851074,10.919086456298828,12.183259010314941,11.486486434936523,10.961796760559082,12.228086471557617,10.878005981445312,11.642023086547852,12.089288711547852,11.836034774780273,11.301241874694824,8.424785614013672,10.839845657348633,10.903820991516113,11.062525749206543,11.480730056762695,-0.9449070692062378,9.465788841247559,10.96530818939209,-0.8888260722160339,10.975139617919922,10.414907455444336,10.762320518493652,-0.8919844031333923,11.566352844238281,12.177857398986816,12.981640815734863,10.760885238647461,10.917206764221191,10.205705642700195,10.482563018798828,11.503288269042969,11.22128677368164,9.098565101623535,9.319986343383789,9.105793952941895,13.444051742553711,10.632866859436035,11.548394203186035,10.284666061401367,10.909192085266113,10.390923500061035,9.8266019821167,9.1863374710083,11.160154342651367,10.8312349319458,13.224187850952148,11.667430877685547,8.03652286529541,10.203540802001953,14.104342460632324,10.12285041809082,10.334390640258789,10.407381057739258,7.081259250640869,11.07779312133789,12.988402366638184,11.837797164916992,10.847393989562988,10.866626739501953,11.445738792419434,10.755955696105957,12.049018859863281,10.614251136779785,11.457444190979004,10.995616912841797,10.369389533996582,12.057195663452148,11.741662979125977,10.481804847717285,-0.9424458742141724,-0.94482421875,9.34463119506836,12.196929931640625,11.351715087890625,11.985797882080078,8.446805953979492,10.923274993896484,9.058287620544434,10.381067276000977,12.713611602783203,9.311982154846191,10.09997272491455,9.43936538696289,11.781474113464355,14.331378936767578,9.821863174438477,8.615157127380371,11.406336784362793,8.83787727355957,10.481488227844238,10.499678611755371,11.143471717834473,11.172212600708008,11.116799354553223,10.739897727966309,10.241174697875977,9.26006031036377,10.412242889404297,12.626133918762207,12.783437728881836,11.232720375061035,10.982748985290527,9.04305648803711,11.400365829467773,10.27108097076416,10.165142059326172,10.770048141479492,10.948637008666992,11.47727108001709,9.184149742126465,9.69961929321289,11.370813369750977,11.12856388092041,9.216279983520508,10.61913013458252,11.856332778930664,8.26801872253418,11.497302055358887,11.503583908081055,10.912237167358398,12.118931770324707,13.522627830505371,13.470662117004395,11.033309936523438,9.382084846496582,10.646671295166016,10.262991905212402,10.540066719055176,11.234061241149902,9.085049629211426,8.693668365478516,11.849906921386719,12.074682235717773,11.880328178405762,11.408201217651367,-0.9436033368110657,11.415051460266113,10.954401016235352,12.195976257324219,13.950435638427734,9.442466735839844,13.679987907409668,10.496980667114258,12.95392894744873,11.43972396850586,9.129545211791992,11.885598182678223,10.35962200164795,8.51546859741211,8.907843589782715,11.16159439086914,10.052595138549805,9.120619773864746,7.358465194702148,11.632428169250488,9.666590690612793,-0.9398268461227417,9.598895072937012,9.201085090637207,11.410937309265137,8.652261734008789,10.838786125183105,11.77353286743164,13.606338500976562,9.703204154968262,11.883728981018066,8.428921699523926,10.127439498901367,9.90534782409668,10.456949234008789,13.224154472351074,8.933032989501953,10.922717094421387,11.473597526550293,10.762054443359375,9.61095142364502,9.304612159729004,11.838471412658691,10.94912052154541,11.322789192199707,11.416438102722168,12.115363121032715,9.04992961883545,11.420719146728516,-0.8942962288856506,8.620546340942383,9.54707145690918,9.839080810546875,10.547309875488281,-0.9352729916572571,12.01308536529541,10.656845092773438,11.14310073852539,13.246944427490234,11.317691802978516,11.496670722961426,10.088794708251953,11.218265533447266,8.723588943481445,10.764466285705566,10.741233825683594,11.306449890136719,11.741146087646484,9.9339017868042,10.228089332580566,6.9105634689331055,9.76404094696045,12.035504341125488,10.976974487304688,10.813936233520508,11.075260162353516,11.49465560913086,11.960558891296387,13.450998306274414,12.22523307800293,10.469401359558105,7.798573017120361,10.97204303741455,13.140021324157715,8.99205493927002,12.58918285369873,9.983003616333008,9.10185432434082,10.210536003112793,9.487312316894531,11.992151260375977,10.932183265686035,11.252608299255371,11.757064819335938,-0.9545665383338928,8.407727241516113,10.547906875610352,8.957762718200684,8.616028785705566,10.725939750671387,12.759622573852539,11.635804176330566,11.061444282531738,11.029315948486328,10.71772575378418,-0.9487097263336182,8.896730422973633,10.166543006896973,8.665961265563965,8.670337677001953,9.199326515197754,7.215198993682861,9.94931411743164,11.391432762145996,11.014299392700195,10.901568412780762,9.529895782470703,12.330556869506836,9.201541900634766,10.126384735107422,10.89418888092041,11.112263679504395,10.932769775390625,10.96309757232666,9.733518600463867,10.725855827331543,11.062043190002441,11.950384140014648,10.628303527832031,10.241015434265137,9.130105018615723,6.447054862976074,11.75803279876709,13.494565963745117,12.483638763427734,10.780793190002441,11.383879661560059,11.625232696533203,8.429734230041504,9.111113548278809,12.518196105957031,10.873625755310059,13.112630844116211,11.372735023498535,10.923924446105957,10.08741569519043,8.936208724975586,11.546463012695312,10.46322250366211,9.247573852539062,10.86559009552002,9.205720901489258,8.75124740600586,12.495747566223145,9.27135181427002,10.542340278625488,14.369928359985352,13.049546241760254,6.190119743347168,11.820016860961914,9.999687194824219,10.639235496520996,9.81136417388916,8.997989654541016,10.919068336486816,11.037707328796387,9.037599563598633,9.376855850219727,11.363529205322266,11.16471004486084,10.938201904296875,9.456426620483398,9.335537910461426,11.19731330871582,11.142603874206543,9.118876457214355,8.873601913452148,11.905369758605957,10.837709426879883,7.9711432456970215,11.064423561096191,8.644116401672363,10.460820198059082,11.045266151428223,10.741883277893066,11.20527172088623,11.265826225280762,9.033185005187988,8.55024528503418,9.239174842834473,9.664594650268555,10.714186668395996,10.331513404846191,12.410941123962402,10.307692527770996,11.324652671813965,11.108063697814941,9.608125686645508,8.714032173156738,10.316143035888672,11.49982738494873,12.959922790527344,8.731733322143555,10.656533241271973,-0.9296941161155701,14.38494873046875,11.58273696899414,8.910061836242676,11.299712181091309,9.250730514526367,9.833590507507324,9.28164291381836,-0.9296850562095642,11.621247291564941,6.945887565612793,11.60136604309082,-0.9462557435035706,10.47342586517334,10.869060516357422,13.336546897888184,10.13625717163086,11.198535919189453,9.749606132507324,9.58849811553955,10.123196601867676,6.669503211975098,10.469158172607422,-0.9388598799705505,13.126782417297363,9.742918014526367,10.357011795043945,8.716650009155273,10.284294128417969,7.5076212882995605,8.70992374420166,10.743000984191895,11.181157112121582,9.007949829101562,12.239459991455078,10.933009147644043,10.89594554901123,11.8675537109375,11.90231990814209,9.573197364807129,10.593161582946777,10.174010276794434,10.897910118103027,10.15725326538086,13.53111743927002,11.460384368896484,9.411348342895508,9.191500663757324,11.141730308532715,9.833958625793457,8.68102741241455,7.472359657287598,11.65809154510498,8.248727798461914,11.93339729309082,10.489215850830078,10.478893280029297,12.675190925598145,9.834824562072754,11.470407485961914,11.873494148254395,11.699785232543945,11.3449125289917,11.061375617980957,9.690384864807129,10.94484806060791,11.737665176391602,12.005244255065918,10.207296371459961,10.901820182800293,10.233917236328125,11.296628952026367,9.072793960571289,10.574251174926758,10.368913650512695,9.481167793273926,9.57465934753418,11.451057434082031,10.86084270477295,11.715071678161621,8.73916244506836,9.573243141174316,8.434467315673828,12.08033275604248,11.167645454406738,-0.9448814392089844,10.21424674987793,12.181747436523438,-0.9436334371566772,10.916952133178711,11.12824821472168,10.16355037689209,13.41623306274414,10.87895679473877,10.2756929397583,10.448204040527344,9.38396167755127,10.351295471191406,9.677214622497559,10.278494834899902,10.496650695800781,9.67142105102539,10.041946411132812,11.930619239807129,9.388453483581543,10.455923080444336,9.456246376037598,10.837468147277832,8.73873233795166,10.73184871673584,11.0469970703125,9.225071907043457,11.77834701538086,9.534306526184082,11.377266883850098,8.436776161193848,11.902364730834961,10.582318305969238,10.731012344360352,10.953509330749512,10.83568286895752,11.16345500946045,10.315473556518555,10.139069557189941,11.584779739379883,11.061263084411621,12.033537864685059,11.455965042114258,11.632381439208984,10.59986400604248,11.583968162536621,13.874079704284668,11.279463768005371,10.847870826721191,9.493866920471191,9.355477333068848,9.187270164489746,11.52139949798584,10.624306678771973,13.335593223571777,9.048909187316895,10.930438995361328,10.11652660369873,9.04110050201416,11.334115028381348,9.342528343200684,9.522890090942383,10.905075073242188,9.605639457702637,11.078794479370117,12.132088661193848,10.293065071105957,10.84005069732666,8.835400581359863,9.78742504119873,10.202412605285645,8.701578140258789,12.169930458068848,11.237958908081055,8.07241439819336,8.881970405578613,10.272136688232422,8.815757751464844,10.71906852722168,-0.9434565901756287,10.840394973754883,7.418321132659912,11.323441505432129,9.019227027893066,8.40748119354248,11.238607406616211,10.708085060119629,9.26413631439209,12.312726020812988,9.44279956817627,11.355260848999023,11.651680946350098,10.725358009338379,10.910234451293945,12.675873756408691,10.122991561889648,11.617151260375977,11.866439819335938,10.961225509643555,9.279791831970215,10.923590660095215,10.20402717590332,11.525197982788086,11.387146949768066,10.002568244934082,11.325693130493164,11.534934043884277,11.530797004699707,10.77795696258545,9.186084747314453,9.47394847869873,11.865133285522461,9.033194541931152,10.896964073181152,10.45987319946289,10.984540939331055,-0.9371334910392761,10.461950302124023,12.270227432250977,-0.9508180022239685,12.313118934631348,11.620138168334961,8.707160949707031,11.875299453735352,10.255562782287598,9.808388710021973,10.2123441696167,12.67818546295166,11.243229866027832,11.230978012084961,11.310249328613281,8.78527545928955,11.386932373046875,11.199764251708984,13.53708553314209,11.46434211730957,10.32456111907959,11.13400650024414,12.482120513916016,10.937101364135742,10.772736549377441,10.94499683380127,12.066234588623047,10.94187068939209,11.728724479675293,7.481194972991943,12.875076293945312,12.326597213745117,11.272527694702148,9.981389045715332,10.206184387207031,9.859230041503906,13.16421127319336,10.299281120300293,11.074953079223633,11.103280067443848,9.45724868774414,10.804518699645996,11.049403190612793,10.698713302612305,8.3333101272583,11.147099494934082,10.635315895080566,9.911273956298828,10.996378898620605,13.118586540222168,10.855834007263184,10.24320125579834,9.26005744934082,11.79236888885498,9.947823524475098,10.615437507629395,10.18292236328125,9.173626899719238,9.059677124023438,-0.9819524884223938,11.090389251708984,10.60267448425293,11.555601119995117,11.555326461791992,9.043330192565918,10.689187049865723,9.25914192199707,14.148219108581543,10.364781379699707,12.967463493347168,10.707741737365723,8.589680671691895,8.682561874389648,12.19831371307373,10.945663452148438,10.51776123046875,8.588855743408203,11.223867416381836,10.206744194030762,10.670045852661133,11.801708221435547,10.041535377502441,10.392589569091797,11.557832717895508,10.687403678894043,10.756832122802734,13.456748962402344,8.990523338317871,10.32472038269043,10.394920349121094,11.804526329040527,11.084417343139648,12.050251960754395,11.983914375305176,8.921083450317383,12.289170265197754,9.649066925048828,8.631414413452148,9.344525337219238,12.404086112976074,7.827445983886719,10.906460762023926,11.144872665405273,10.868395805358887,-0.9407671689987183,8.043898582458496,10.718916893005371,9.213431358337402,11.83486270904541,10.131308555603027,11.030230522155762,10.780172348022461,10.175777435302734,12.085274696350098,11.127415657043457,8.91334342956543,11.943796157836914,11.802988052368164,10.938671112060547,9.639591217041016,9.276641845703125,11.26016616821289,12.296526908874512,9.023642539978027,9.36745548248291,10.967255592346191,14.092519760131836,10.914050102233887,11.195652961730957,10.410794258117676,-0.9632389545440674,9.142354965209961,8.76715087890625,10.054051399230957,11.432696342468262,10.5111665725708,11.100747108459473,11.243066787719727,8.814593315124512,11.560344696044922,10.495543479919434,11.344438552856445,11.856438636779785,10.694538116455078,12.40310287475586,8.883049964904785,11.192781448364258,11.156546592712402,7.944795608520508,9.15163803100586,10.939294815063477,11.092239379882812,10.483015060424805,11.349181175231934,10.43797779083252,10.742202758789062,12.343596458435059,11.245662689208984,12.887238502502441,10.638355255126953,11.169060707092285,11.302226066589355,8.802581787109375,11.513226509094238,10.221339225769043,9.778322219848633,7.477977752685547,10.220239639282227,10.684653282165527,11.136590003967285,10.985816955566406,10.336163520812988,8.641484260559082,12.084715843200684,12.450339317321777,8.86656665802002,11.431316375732422,11.89453125,11.357038497924805,10.313973426818848,13.055885314941406,10.904170989990234,11.323369026184082,9.454927444458008,11.287039756774902,11.944292068481445,11.266088485717773,10.526021003723145,11.347554206848145,13.50182056427002,10.396724700927734,11.046548843383789,9.167596817016602,10.867483139038086,-0.9426175355911255,10.85013484954834,10.804320335388184,7.580243110656738,9.541744232177734,11.6552095413208,10.70421314239502,10.657734870910645,10.438249588012695,10.884039878845215,9.473609924316406,9.434905052185059,8.31283187866211,-0.9420148730278015,-0.9517173171043396,9.945001602172852,11.048312187194824,11.56847095489502,11.04588794708252,11.366960525512695,-0.9446794390678406,11.883096694946289,10.145333290100098,-0.9386004209518433,12.162328720092773,7.508531093597412,10.973578453063965,9.18469524383545,11.621561050415039,10.971692085266113,-0.8672767281532288,11.597306251525879,12.130739212036133,-0.9830949902534485,11.183006286621094,-0.8910180926322937,10.625774383544922,9.67012882232666,11.122766494750977,11.4335355758667,9.363476753234863,13.407567977905273,10.688313484191895,10.733125686645508,9.021410942077637,10.240971565246582,9.74921703338623,11.326525688171387,8.2102632522583,10.876372337341309,-0.9452342391014099,9.218292236328125,10.968184471130371,12.524303436279297,10.643668174743652,10.96538257598877,11.74058723449707,10.237031936645508,10.754193305969238,10.90235710144043,8.924559593200684,11.101166725158691,12.196710586547852,11.640581130981445,-0.9433570504188538,8.793495178222656,12.771537780761719,10.4619140625,13.5892972946167,10.93146800994873,11.050736427307129,11.713449478149414,9.214384078979492,10.858777046203613,11.33945083618164,11.74322509765625,9.830801963806152,9.004490852355957,10.271719932556152,10.99548625946045,11.773642539978027,9.783315658569336,9.276643753051758,-0.9313827157020569,9.160028457641602,11.027402877807617,10.491985321044922,10.33336353302002,14.300873756408691,10.162799835205078,10.355940818786621,9.27624225616455,10.630485534667969,9.125786781311035,13.640409469604492,9.748003005981445,8.190260887145996,11.051483154296875,9.009552001953125,11.086028099060059,9.135735511779785,12.046936988830566,13.169575691223145,10.32258129119873,-0.9739812612533569,11.333544731140137,10.854103088378906,9.361332893371582,10.485174179077148,11.492016792297363,10.859563827514648,11.55765438079834,14.028396606445312,11.38487720489502,13.187345504760742,11.623208999633789,10.645909309387207,9.771900177001953,9.961362838745117,11.735143661499023,10.43202018737793,11.61974811553955,11.280620574951172,11.749001502990723,10.32484245300293,11.021207809448242,12.276155471801758,6.093949317932129,11.148687362670898,10.158864974975586,-0.9313759803771973,9.955079078674316,10.487256050109863,9.523711204528809,10.655508041381836,11.691746711730957,10.84096622467041,11.704333305358887,9.313901901245117,11.15385627746582,11.580445289611816,11.831029891967773,10.057391166687012,13.400440216064453,10.86860466003418,9.173465728759766,11.008050918579102,11.045414924621582,9.073712348937988,10.695209503173828,12.975533485412598,11.000000953674316,12.166925430297852,10.246308326721191,11.265388488769531,10.281134605407715,11.95470905303955,8.230507850646973,13.319982528686523,9.794211387634277,9.097762107849121,11.336251258850098,9.332562446594238,8.627866744995117,9.373672485351562,9.932096481323242,9.40762710571289,12.577153205871582,9.301526069641113,9.447903633117676,11.330348014831543,11.055074691772461,10.869778633117676,11.570300102233887,9.392327308654785,11.006390571594238,9.824227333068848,11.508864402770996,10.814627647399902,10.897441864013672,11.906228065490723,9.325703620910645,-0.9446188807487488,9.6996431350708,10.073663711547852,10.918412208557129,10.00671100616455,10.782733917236328,11.564311981201172,10.003364562988281,9.915788650512695,11.080495834350586,10.722183227539062,9.702386856079102,10.899937629699707,11.326200485229492,11.203226089477539,-0.9341238737106323,11.094902992248535,12.693278312683105,12.333697319030762,11.319759368896484,10.588629722595215,13.700969696044922,11.033756256103516,11.424458503723145,11.351953506469727,9.393915176391602,9.060749053955078,10.99344253540039,9.491914749145508,11.279200553894043,-0.9443874955177307,8.702319145202637,12.921246528625488,9.758581161499023,8.646695137023926,9.904309272766113,9.404175758361816,10.127153396606445,8.357380867004395,13.495443344116211,10.270212173461914,11.501867294311523,11.018265724182129,-0.9423372745513916,10.656323432922363,11.158855438232422,10.882486343383789,10.880439758300781,8.433063507080078,10.873982429504395,13.039917945861816,10.962985038757324,8.356657981872559,9.950652122497559,9.576282501220703,10.875288009643555,11.453049659729004,10.971957206726074,10.881787300109863,-0.9391180872917175,9.750062942504883,11.551971435546875,9.442071914672852,11.377339363098145,11.54026985168457,10.37480354309082,10.898106575012207,11.639835357666016,11.04892349243164,13.625741004943848,12.619868278503418,11.16364574432373,9.615535736083984,10.458901405334473,10.956857681274414,11.202709197998047,12.553879737854004,11.099316596984863,9.458809852600098,10.768396377563477,9.933025360107422,11.445867538452148,11.441329956054688,9.0925874710083,10.28705883026123,10.70167064666748,-0.9289372563362122,11.185543060302734,9.669892311096191,9.590843200683594,10.6209716796875,10.730067253112793,10.096839904785156,12.18873405456543,12.111804962158203,11.235991477966309,10.041619300842285,12.923895835876465,12.9853515625,8.798186302185059,10.91408634185791,12.068231582641602,11.421773910522461,10.32444953918457,9.706243515014648,10.987393379211426,12.44892406463623,11.189313888549805,9.824187278747559,9.197555541992188,9.926637649536133,9.645025253295898,10.87193489074707,10.9064302444458,8.91683292388916,10.98937702178955,11.94753360748291,13.283711433410645,12.931203842163086,12.19796371459961,11.779800415039062,11.288531303405762,12.007193565368652,10.154850006103516,9.219709396362305,10.828481674194336,10.359896659851074,11.345468521118164,-0.9409105181694031,11.119138717651367,11.192605972290039,-0.9445396065711975,10.712788581848145,6.729202747344971,12.393797874450684,8.686518669128418,11.027905464172363,10.919038772583008,10.950804710388184,11.396943092346191,8.989693641662598,9.5963773727417,-0.9443896412849426,-0.932169497013092,10.631963729858398,11.566717147827148,10.813061714172363,9.199981689453125,9.616113662719727,9.946905136108398,10.010104179382324,10.772188186645508,10.283425331115723,10.324195861816406,11.728930473327637,10.845056533813477,9.28763198852539,12.16689395904541,8.524784088134766,9.43837833404541,8.511449813842773,9.19285774230957,9.866769790649414,12.950332641601562,13.490365982055664,9.116535186767578,12.954126358032227,11.006658554077148,11.499382019042969,9.177440643310547,10.034259796142578,11.266717910766602,11.829156875610352,11.225114822387695,9.139838218688965,13.649991989135742,9.413158416748047,11.064738273620605,11.264121055603027,10.738350868225098,10.625845909118652,10.92872428894043,12.38794231414795,11.67738151550293,10.454486846923828,11.280533790588379,12.190145492553711,11.117450714111328,11.205240249633789,11.04564094543457,10.875691413879395,9.089539527893066,9.277795791625977,11.047162055969238,11.857213020324707,10.363441467285156,11.29959487915039,10.310297012329102,10.333622932434082,11.318889617919922,11.40261173248291,10.670125007629395,11.683035850524902,11.996150970458984,12.188002586364746,10.64666748046875,11.338719367980957,10.9761323928833,10.324685096740723,11.055087089538574,11.054706573486328,13.090149879455566,10.90769100189209,12.398734092712402,12.170165061950684,9.199738502502441,12.019591331481934,11.681636810302734,11.412991523742676,12.004844665527344,-0.9109438061714172,8.68154239654541,10.73327922821045,10.598133087158203,11.221915245056152,10.245264053344727,12.085641860961914,11.724064826965332,12.669151306152344,10.845189094543457,11.008769989013672,8.459150314331055,7.524713516235352,8.844980239868164,11.014230728149414,8.611788749694824,9.15029525756836,12.489705085754395,12.487332344055176,10.989762306213379,10.300690650939941,8.402375221252441,7.819177150726318,10.372411727905273,10.72256851196289,10.662271499633789,11.162296295166016,10.468803405761719,11.165778160095215,11.290060997009277,9.039366722106934,11.761874198913574,10.727062225341797,11.426212310791016,-0.9373484253883362,10.982674598693848,11.93570613861084,9.192547798156738,10.354970932006836,11.594598770141602,7.464709758758545,9.745656967163086,13.46353816986084,12.163273811340332,10.44576358795166,12.845438957214355,9.664767265319824,9.699788093566895,11.100760459899902,9.125165939331055,8.520525932312012,12.261637687683105,10.840814590454102,10.45510482788086,10.106573104858398,10.50618839263916,9.168875694274902,10.042985916137695,10.898773193359375,10.113252639770508,10.710770606994629,10.188404083251953,10.68911361694336,11.161497116088867,10.406423568725586,11.427224159240723,12.143226623535156,11.616079330444336,8.163162231445312,10.39505672454834,13.331521034240723,11.895755767822266,10.860851287841797,11.574518203735352,10.476133346557617,9.662111282348633,10.868624687194824,11.83556079864502,10.772064208984375,12.251887321472168,10.542016983032227,9.736869812011719,11.481807708740234,11.110835075378418,10.883444786071777,10.205947875976562,10.274604797363281,11.164573669433594,10.929978370666504,9.135647773742676,11.667797088623047,11.157197952270508,11.095002174377441,12.038470268249512,11.487318992614746,9.241954803466797,11.14404010772705,11.921065330505371,13.382513999938965,10.832072257995605,9.521002769470215,11.59318733215332,7.537117958068848,10.760369300842285,9.772653579711914,9.508926391601562,-0.9339966177940369,10.886651039123535,10.236898422241211,9.779522895812988,10.852399826049805,8.903579711914062,7.537794589996338,10.564087867736816,8.901140213012695,11.860396385192871,11.190074920654297,10.176774978637695,10.798748016357422,11.760618209838867,9.857937812805176,11.469710350036621,11.835984230041504,10.275288581848145,12.198986053466797,-0.9602608680725098,10.477189064025879,10.8493070602417,11.803655624389648,10.34842586517334,11.451181411743164,10.531251907348633,11.252259254455566,12.055295944213867,10.824159622192383,10.254729270935059,10.691581726074219,8.914432525634766,10.667080879211426,12.157211303710938,10.761258125305176,10.460959434509277,12.002912521362305,8.81387996673584,11.987634658813477,12.889105796813965,10.848908424377441,10.867018699645996,12.684219360351562,10.828330993652344,10.231209754943848,9.657258987426758,9.774042129516602,12.67333984375,10.914255142211914,10.494266510009766,12.202454566955566,11.126343727111816,7.850475788116455,12.103544235229492,11.793214797973633,8.686684608459473,8.916797637939453,9.981145858764648,9.896354675292969,5.212555408477783,11.598713874816895,-0.9326561689376831,11.31800365447998,9.488000869750977,9.464719772338867,11.415318489074707,13.412687301635742,9.033013343811035,8.558455467224121,10.901013374328613,8.648667335510254,7.513757228851318,10.856348991394043,11.095572471618652,10.716673851013184,11.495600700378418,11.935574531555176,10.820612907409668,11.442228317260742,9.305253028869629,11.250818252563477,9.22518253326416,11.430913925170898,12.88682746887207,11.572019577026367,11.410402297973633,8.516542434692383,12.023405075073242,11.129720687866211,11.17032241821289,11.155414581298828,10.37037181854248,9.702399253845215,10.80211067199707,11.808414459228516,12.323978424072266,11.080094337463379,10.034221649169922,12.045195579528809,9.516108512878418,11.230523109436035,11.221607208251953,10.838519096374512,11.481410026550293,10.476358413696289,12.313916206359863,10.866044044494629,10.26404857635498,11.673308372497559,12.480202674865723,-0.9221047163009644,10.916133880615234,9.321247100830078,10.155235290527344,10.393991470336914,12.09528923034668,11.9470853805542,12.167706489562988,10.280838966369629,9.047718048095703,11.346603393554688,9.321855545043945,11.172514915466309,9.197179794311523,9.241602897644043,8.66853141784668,10.234350204467773,12.158905029296875,9.64749813079834,11.520633697509766,10.046487808227539,10.572362899780273,12.370052337646484,12.587240219116211,13.746963500976562,9.27359676361084,10.647974967956543,8.684399604797363,11.343537330627441,11.435964584350586,10.735190391540527,5.225168228149414,10.36927604675293,8.842395782470703,10.850579261779785,10.270994186401367,9.141968727111816,9.012622833251953,10.034470558166504,11.96435546875,10.733039855957031,12.621905326843262,7.584682941436768,9.949992179870605,8.974254608154297,8.683094024658203,11.995579719543457,8.058537483215332,12.973610877990723,10.487833976745605,10.140369415283203,12.185117721557617,11.984493255615234,10.412880897521973,11.732781410217285,-0.9298666715621948,11.969771385192871,9.571268081665039,12.632720947265625,10.558932304382324,-0.9466341137886047,11.535783767700195,12.719071388244629,11.410006523132324,10.089384078979492,4.391085624694824,10.672303199768066,11.352738380432129,9.402538299560547,9.244720458984375,10.833651542663574,10.323626518249512,9.559922218322754,10.068340301513672,10.595987319946289,11.94259262084961,12.117630958557129,10.109935760498047,11.009903907775879,10.994430541992188,6.012641429901123,11.152381896972656,10.603229522705078,12.215757369995117,8.046284675598145,12.455023765563965,10.833980560302734,11.473377227783203,10.304004669189453,9.95975399017334,11.19234561920166,12.686702728271484,10.324830055236816,10.764396667480469,-0.9419445395469666,7.73107385635376,9.688714027404785,8.560155868530273,10.747594833374023,9.227499008178711,9.318302154541016,11.897133827209473,11.848788261413574,10.69747543334961,10.286816596984863,8.957444190979004,11.584187507629395,10.988150596618652,12.034867286682129,13.507891654968262,10.928634643554688,10.199981689453125,10.874979019165039,10.34640884399414,10.9650239944458,11.047388076782227,10.23235034942627,9.466516494750977,11.320049285888672,9.667071342468262,10.743803977966309,11.88305950164795,10.903250694274902,8.093847274780273,9.376934051513672,11.411420822143555,10.575667381286621,11.214275360107422,10.325230598449707,10.749397277832031,8.390177726745605,11.492908477783203,10.601884841918945,11.544161796569824,10.649678230285645,10.833785057067871,11.462574005126953,9.212120056152344,9.248466491699219,11.872587203979492,9.271942138671875,10.664691925048828,10.043516159057617,14.833771705627441,12.498893737792969,8.831377029418945,10.830279350280762,9.866884231567383,10.89766788482666,12.05489444732666,10.002036094665527,11.159646987915039,11.197125434875488,10.070113182067871,12.510369300842285,10.601940155029297,12.18254280090332,10.712321281433105,11.23963737487793,12.108231544494629,10.453997611999512,13.060800552368164,8.731863021850586,10.488497734069824,12.875017166137695,11.417505264282227,10.23055648803711,9.408543586730957,12.832978248596191,11.19268798828125,12.081097602844238,10.950196266174316,11.424489974975586,11.225388526916504,9.300130844116211,12.143967628479004,-0.9439269304275513,11.105632781982422,8.729498863220215,12.389946937561035,9.327520370483398,12.486926078796387,10.734046936035156,9.89980697631836,11.352117538452148,11.490962028503418,11.417472839355469,10.97504997253418,11.701570510864258,11.574129104614258,9.683487892150879,10.925835609436035,-0.946848452091217,10.54631233215332,9.481705665588379,10.149928092956543,8.902432441711426,10.251367568969727,9.363563537597656,10.574023246765137,11.456952095031738,8.394159317016602,11.576619148254395,9.129674911499023,10.978586196899414,11.29373836517334,10.92057991027832,12.257318496704102,10.957355499267578,10.063850402832031,12.106757164001465,10.992409706115723,-0.9034655094146729,10.267111778259277],\"type\":\"scattergl\"},{\"hoverinfo\":\"text\",\"marker\":{\"opacity\":0.5,\"size\":5},\"mode\":\"markers+text\",\"name\":\"1_loja loja_geladeira_compr\",\"text\":[\"\",\"\",\"\",\"\",\"\",\"\",\"\",\"\",\"\",\"\",\"\",\"\",\"\",\"\",\"\",\"\",\"\",\"\",\"\",\"\",\"\",\"\",\"\",\"\",\"\",\"\",\"\",\"\",\"\",\"\",\"\",\"\",\"\",\"\",\"\",\"\",\"\",\"\",\"\",\"\",\"\",\"\",\"\",\"\",\"\",\"\",\"\",\"\",\"\",\"\",\"\",\"\",\"\",\"\",\"\",\"\",\"\",\"\",\"\",\"\",\"\",\"\",\"\",\"\",\"\",\"\",\"\",\"\",\"\",\"\",\"\",\"\",\"\",\"\",\"\",\"\",\"\",\"\",\"\",\"\",\"\",\"\",\"\",\"\",\"\",\"\",\"\",\"\",\"\",\"\",\"\",\"\",\"\",\"\",\"\",\"\",\"\",\"\",\"\",\"\",\"\",\"\",\"\",\"\",\"\",\"\",\"\",\"\",\"\",\"\",\"\",\"\",\"\",\"\",\"\",\"\",\"\",\"\",\"\",\"\",\"\",\"\",\"\",\"\",\"\",\"\",\"\",\"\",\"\",\"\",\"\",\"\",\"\",\"\",\"\",\"\",\"\",\"\",\"\",\"\",\"\",\"\",\"\",\"\",\"\",\"\",\"\",\"\",\"\",\"\",\"\",\"\",\"\",\"\",\"\",\"\",\"\",\"\",\"\",\"\",\"\",\"\",\"\",\"\",\"\",\"\",\"\",\"\",\"\",\"\",\"\",\"\",\"\",\"\",\"\",\"\",\"\",\"\",\"\",\"\",\"\",\"\",\"\",\"\",\"\",\"\",\"\",\"\",\"\",\"\",\"\",\"\",\"\",\"\",\"\",\"\",\"\",\"\",\"\",\"\",\"\",\"\",\"\",\"\",\"\",\"\",\"\",\"\",\"\",\"\",\"\",\"\",\"\",\"\",\"\",\"\",\"\",\"\",\"\",\"\",\"\",\"\",\"\",\"\",\"\",\"\",\"\",\"\",\"\",\"\",\"\",\"\",\"\",\"\",\"\",\"\",\"\",\"\",\"\",\"\",\"\",\"\",\"\",\"\",\"\",\"\",\"\",\"\",\"\",\"\",\"\",\"\",\"\",\"\",\"\",\"\",\"\",\"\",\"\",\"\",\"\",\"\",\"\",\"\",\"\",\"\",\"\",\"\",\"\",\"\",\"\",\"\",\"\",\"\",\"\",\"\",\"\",\"\",\"\",\"\",\"\",\"\",\"\",\"\",\"\",\"\",\"\",\"\",\"\",\"\",\"\",\"\",\"\",\"\",\"\",\"\",\"\",\"\",\"\",\"\",\"\",\"\",\"\",\"\",\"\",\"\",\"\",\"\",\"\",\"\",\"\",\"\",\"\",\"\",\"\",\"\",\"\",\"\",\"\",\"\",\"\",\"\",\"\",\"\",\"\",\"\",\"\",\"\",\"\",\"\",\"\",\"\",\"\",\"\",\"\",\"\",\"\",\"\",\"\",\"\",\"\",\"\",\"\",\"\",\"\",\"\",\"\",\"\",\"\",\"\",\"\",\"\",\"\",\"\",\"\",\"\",\"\",\"\",\"\",\"\",\"\",\"\",\"\",\"\",\"\",\"\",\"\",\"\",\"\",\"\",\"\",\"\",\"\",\"\",\"\",\"\",\"\",\"\",\"\",\"\",\"\",\"\",\"\",\"\",\"\",\"\",\"\",\"\",\"\",\"\",\"\",\"\",\"\",\"\",\"\",\"\",\"\",\"\",\"\",\"\",\"\",\"\",\"\",\"\",\"\",\"\",\"\",\"\",\"\",\"\",\"\",\"\",\"\",\"\",\"\",\"\",\"\",\"\",\"\",\"\",\"\",\"\",\"\",\"\",\"\",\"\",\"\",\"\",\"\",\"\",\"\",\"\",\"\",\"\",\"\",\"\",\"\",\"\",\"\",\"\",\"\",\"\",\"\",\"\",\"\",\"\",\"\",\"\",\"\",\"\",\"\",\"\",\"\",\"\",\"\",\"\",\"\",\"\",\"\",\"\",\"\",\"\",\"\",\"\",\"\",\"\",\"\",\"\",\"\",\"\",\"\",\"\",\"\",\"\",\"\",\"\",\"\",\"\",\"\",\"\",\"\",\"\",\"\",\"\",\"\",\"\",\"\",\"\",\"\",\"\",\"\",\"\",\"\",\"\",\"\",\"\",\"\",\"\",\"\",\"\",\"\",\"\",\"\",\"\",\"\",\"\",\"\",\"\",\"\",\"\",\"\",\"\",\"\",\"\",\"\",\"\",\"\",\"\",\"\",\"\",\"\",\"\",\"\",\"\",\"\",\"\",\"\",\"\",\"\",\"\",\"\",\"\",\"\",\"\",\"\",\"\",\"\",\"\",\"\",\"\",\"\",\"\",\"\",\"\",\"\",\"\",\"\",\"\",\"\",\"\",\"\",\"\",\"\",\"\",\"\",\"\",\"\",\"\",\"\",\"\",\"\",\"\",\"\",\"\",\"\",\"\",\"\",\"\",\"\",\"\",\"\",\"\",\"\",\"\",\"\",\"\",\"\",\"\",\"\",\"\",\"\",\"\",\"\",\"\",\"\",\"\",\"\",\"\",\"\",\"\",\"\",\"\",\"\",\"\",\"\",\"\",\"\",\"\",\"\",\"\",\"\",\"\",\"\",\"\",\"\",\"\",\"\",\"\",\"\",\"\",\"\",\"\",\"\",\"\",\"\",\"\",\"\",\"\",\"\",\"\",\"\",\"\",\"\",\"\",\"\",\"\",\"\",\"\",\"\",\"\",\"\",\"\",\"\",\"\",\"\",\"\",\"\",\"\",\"\",\"\",\"\",\"\",\"\",\"\",\"\",\"\",\"\",\"\",\"\",\"\",\"\",\"\",\"\",\"\",\"\",\"\",\"\",\"\",\"\",\"\",\"\",\"\",\"\",\"\",\"\",\"\",\"\",\"\",\"\",\"\",\"\",\"\",\"\",\"\",\"\",\"\",\"\",\"\",\"\",\"\",\"\",\"\",\"\",\"\",\"\",\"\",\"\",\"\",\"\",\"\",\"\",\"\",\"\",\"\",\"\",\"\",\"\",\"\",\"\",\"\",\"\",\"\",\"\",\"\",\"\",\"\",\"\",\"\",\"\",\"\",\"\",\"\",\"\",\"\",\"\",\"\",\"\",\"\",\"\",\"\",\"\",\"\",\"\",\"\",\"\",\"\",\"\",\"\",\"\",\"\",\"\",\"\",\"\",\"\",\"\",\"\",\"\",\"\",\"\",\"\",\"\",\"\",\"\",\"\",\"\",\"\",\"\",\"\",\"\",\"\",\"\",\"\",\"\",\"\",\"\",\"\",\"\",\"\",\"\",\"\",\"\",\"\",\"\",\"\",\"\",\"\",\"\",\"\",\"\",\"\",\"\",\"\",\"\",\"\",\"\",\"\",\"\",\"\",\"\",\"\",\"\",\"\",\"\",\"\",\"\",\"\",\"\",\"\",\"\",\"\",\"\",\"\",\"\",\"\",\"\",\"\",\"\",\"\",\"\",\"\",\"\",\"\",\"\",\"\",\"\",\"\",\"\",\"\",\"\",\"\",\"\",\"\",\"\",\"\",\"\",\"\",\"\",\"\",\"\",\"\",\"\",\"\",\"\",\"\",\"\",\"\",\"\",\"\",\"\",\"\",\"\",\"\",\"\",\"\",\"\",\"\",\"\",\"\",\"\",\"\",\"\",\"\",\"\",\"\",\"\",\"\",\"\",\"\",\"\",\"\",\"\",\"\",\"\",\"\",\"\",\"\",\"\",\"\",\"\",\"\",\"\",\"\",\"\",\"\",\"\",\"\",\"\",\"\",\"\",\"\",\"\",\"\",\"\",\"\",\"\",\"\",\"\",\"\",\"\",\"\",\"\",\"\",\"\",\"\",\"\",\"\",\"\",\"\",\"\",\"\",\"\",\"\",\"\",\"\",\"\",\"\",\"\",\"\",\"\",\"\",\"\",\"\",\"\",\"\",\"\",\"\",\"\",\"\",\"\",\"\",\"\",\"\",\"\",\"\",\"\",\"\",\"\",\"\",\"\",\"\",\"\",\"\",\"\",\"\",\"\",\"\",\"\",\"\",\"\",\"\",\"\",\"\",\"\",\"\",\"\",\"\",\"\",\"\",\"\",\"\",\"\",\"\",\"\",\"\",\"\",\"\",\"\",\"\",\"\",\"\",\"\",\"\",\"\",\"\",\"\",\"\",\"\",\"\",\"\",\"\",\"\",\"\",\"\",\"\",\"\",\"\",\"\",\"\",\"\",\"\",\"\",\"\",\"\",\"\",\"\",\"\",\"\",\"\",\"\",\"\",\"\",\"\",\"\",\"\",\"\",\"\",\"\",\"\",\"\",\"\",\"\",\"\",\"\",\"\",\"\",\"\",\"\",\"\",\"\",\"\",\"\",\"\",\"\",\"\",\"\",\"\",\"\",\"\",\"\",\"\",\"\",\"\",\"\",\"\",\"\",\"\",\"\",\"\",\"\",\"\",\"\",\"\",\"\",\"\",\"\",\"\",\"\",\"\",\"\",\"\",\"\",\"\",\"\",\"\",\"\",\"\",\"\",\"\",\"\",\"\",\"\",\"\",\"\",\"\",\"\",\"\",\"\",\"\",\"\",\"\",\"\",\"\",\"\",\"\",\"\",\"\",\"\",\"\",\"\",\"\",\"\",\"\",\"\",\"\",\"\",\"\",\"\",\"\",\"\",\"\",\"\",\"\",\"\",\"\",\"\",\"\",\"\",\"\",\"\",\"\",\"\",\"\",\"\",\"\",\"\",\"\",\"\",\"\",\"\",\"\",\"\",\"\",\"\",\"\",\"\",\"\",\"\",\"\",\"\",\"\",\"\",\"\",\"\",\"\",\"\",\"\",\"\",\"\",\"\",\"\",\"\",\"\",\"\",\"\",\"\",\"\",\"\",\"\",\"\",\"\",\"\",\"\",\"\",\"\",\"\",\"\",\"\",\"\",\"\",\"\",\"\",\"\",\"\",\"\",\"\",\"\",\"\",\"\",\"\",\"\",\"\",\"\",\"\",\"\",\"\",\"\",\"\",\"\",\"\",\"\",\"\",\"\",\"\",\"\",\"\",\"\",\"\",\"\",\"\",\"\",\"\",\"\",\"\",\"\",\"\",\"\",\"\",\"\",\"\",\"\",\"\",\"\",\"\",\"\",\"\",\"\",\"\",\"\",\"\",\"\",\"\",\"\",\"\",\"\",\"\",\"\",\"\",\"\",\"\",\"\",\"\",\"\",\"\",\"\",\"\",\"\",\"\",\"\",\"\",\"\",\"\",\"\",\"\",\"\",\"\",\"\",\"\",\"\",\"\",\"\",\"\",\"\",\"\",\"\",\"\",\"\",\"\",\"\",\"\",\"\",\"\",\"\",\"\",\"\",\"\",\"\",\"\",\"\",\"\",\"\",\"\",\"\",\"\",\"\",\"\",\"\",\"\",\"\",\"\",\"\",\"\",\"\",\"\",\"\",\"\",\"\",\"\",\"\",\"\",\"\",\"\",\"\",\"\",\"\",\"\",\"\",\"\",\"\",\"\",\"\",\"\",\"\",\"\",\"\",\"\",\"\",\"\",\"\",\"\",\"\",\"\",\"\",\"\",\"\",\"\",\"\",\"\",\"\",\"\",\"\",\"\",\"\",\"\",\"\",\"\",\"\",\"\",\"\",\"\",\"\",\"\",\"\",\"\",\"\",\"\",\"\",\"\",\"\",\"\",\"\",\"\",\"\",\"\",\"\",\"\",\"\",\"\",\"\",\"\",\"\",\"\",\"\",\"\",\"\",\"\",\"\",\"\",\"\",\"\",\"\",\"\",\"\",\"\",\"\",\"\",\"\",\"\",\"\",\"\",\"\",\"\",\"\",\"\",\"\",\"\",\"\",\"\",\"\",\"\",\"\",\"\",\"\",\"\",\"\",\"\",\"\",\"\",\"\",\"\",\"\",\"\",\"\",\"\",\"\",\"\",\"\",\"\",\"\",\"\",\"\",\"\",\"\",\"\",\"\",\"\",\"\",\"\",\"\",\"\",\"\",\"\",\"\",\"\",\"\",\"\",\"\",\"\",\"\",\"\",\"\",\"\",\"\",\"\",\"\",\"\",\"\",\"\",\"\",\"\",\"\",\"\",\"\",\"\",\"\",\"\",\"\",\"\",\"\",\"\",\"\",\"\",\"\",\"\",\"\",\"\",\"\",\"\",\"\",\"\",\"\",\"\",\"\",\"\",\"\",\"\",\"\",\"\",\"\",\"\",\"\",\"\",\"\",\"\",\"\",\"\",\"\",\"\",\"\",\"\",\"\",\"\",\"\",\"\",\"\",\"\",\"\",\"\",\"\",\"\",\"\",\"\",\"\",\"\",\"\",\"\",\"\",\"\",\"\",\"\",\"\",\"\",\"\",\"\",\"\",\"\",\"\",\"\",\"\",\"\",\"\",\"\",\"\",\"\",\"\",\"\",\"\",\"\",\"\",\"\",\"\",\"\",\"\",\"\",\"\",\"\",\"\",\"\",\"\",\"\",\"\",\"\",\"\",\"\",\"\",\"\",\"\",\"\",\"\",\"\",\"\",\"\",\"\",\"\",\"\",\"\",\"\",\"\",\"\",\"\",\"\",\"\",\"\",\"\",\"\",\"\",\"\",\"\",\"\",\"\",\"\",\"\",\"\",\"\",\"\",\"\",\"\",\"\",\"\",\"\",\"\",\"\",\"\",\"\",\"\",\"\",\"\",\"\",\"\",\"\",\"\",\"\",\"\",\"\",\"\",\"\",\"\",\"\",\"\",\"\",\"\",\"\",\"\",\"\",\"\",\"\",\"\",\"\",\"\",\"\",\"\",\"\",\"\",\"\",\"\",\"\",\"\",\"\",\"\",\"\",\"\",\"\",\"\",\"\",\"\",\"\",\"\",\"\",\"\",\"\",\"\",\"\",\"\",\"\",\"\",\"\",\"\",\"\",\"\",\"\",\"\",\"\",\"\",\"\",\"\",\"\",\"\",\"\",\"\",\"\",\"\",\"\",\"\",\"\",\"\",\"\",\"\",\"\",\"\",\"\",\"\",\"\",\"\",\"\",\"\",\"\",\"\",\"\",\"\",\"\",\"\",\"\",\"\",\"\",\"\",\"\",\"\",\"\",\"\",\"\",\"\",\"\",\"\",\"\",\"\",\"\",\"\",\"\",\"\",\"\",\"\",\"\",\"\",\"\",\"\",\"\",\"\",\"\",\"\",\"\",\"\",\"\",\"\",\"\",\"\",\"\",\"\",\"\",\"\",\"\",\"\",\"\",\"\",\"\",\"\",\"\",\"\",\"\",\"\",\"\",\"\",\"\",\"\",\"\",\"\",\"\",\"\",\"\",\"\",\"\",\"\",\"\",\"\",\"\",\"1_loja loja_geladeira_compr\"],\"textfont\":{\"size\":12},\"x\":[-1.941285252571106,-3.3060829639434814,4.226459503173828,0.778998851776123,0.35098621249198914,-3.2675023078918457,0.4474174976348877,0.5977379083633423,3.576634407043457,-0.725615382194519,-0.6406524777412415,4.005129337310791,-0.32321473956108093,-0.7435160875320435,-0.6576771140098572,-1.0164788961410522,-0.6425244212150574,0.6147575378417969,-0.3725309669971466,-3.56306791305542,-0.5444747805595398,-0.6283008456230164,0.46348246932029724,0.6976022124290466,-0.05033028498291969,-1.8312764167785645,-0.6769158244132996,0.6476103663444519,-1.0933938026428223,-3.2313072681427,-4.405638217926025,-3.234373092651367,4.032789707183838,-1.194251298904419,-3.035137891769409,-1.040634274482727,-3.2657837867736816,-0.4410478174686432,-3.224881172180176,0.4350772798061371,0.12850165367126465,-4.813038349151611,0.2890973687171936,-1.1387112140655518,0.5777835249900818,-4.87288236618042,1.0228296518325806,-0.8937104940414429,-0.6952780485153198,-1.657147765159607,-3.5025858879089355,0.2552035450935364,0.2410231977701187,0.3626953661441803,-1.6226451396942139,-2.2274906635284424,-0.9236573576927185,0.17959871888160706,-0.3191571831703186,-1.521317958831787,-1.081241488456726,-0.3802950084209442,-0.5814220905303955,-1.7237850427627563,0.5854641199111938,-0.7518782615661621,-0.33858275413513184,-1.6087522506713867,-1.8613370656967163,-1.260452389717102,4.369824409484863,-0.7364068031311035,-4.865312099456787,0.07337621599435806,-0.10681198537349701,0.13111717998981476,-0.7553696632385254,3.7874879837036133,0.2778468728065491,-1.4189426898956299,0.3010878264904022,-0.27070796489715576,-4.453483581542969,3.8875463008880615,3.9287376403808594,0.6827322244644165,-4.844622611999512,-0.5483553409576416,2.3976387977600098,-7.55527925491333,-1.0999455451965332,-1.0061904191970825,-0.6877866983413696,-0.7223657369613647,0.6553915739059448,-3.2553155422210693,-0.10082872211933136,-0.8146699070930481,3.604243755340576,0.29833096265792847,-0.6353049874305725,0.23643699288368225,-0.09214863181114197,-4.79038667678833,-4.836263656616211,-4.624526023864746,-0.11224938184022903,-0.3987381160259247,-2.507925510406494,-1.2626696825027466,-4.826480865478516,4.024465084075928,-0.4170078635215759,-0.8693251013755798,2.200270175933838,3.933730125427246,0.8441867828369141,3.883575677871704,-1.4206905364990234,-0.14431825280189514,-1.3441294431686401,-1.3011106252670288,3.9439756870269775,0.19584059715270996,-1.3674758672714233,-1.0707308053970337,0.4969007968902588,-0.9379168748855591,-0.7676306962966919,-4.5244269371032715,-0.6728323101997375,0.027980390936136246,-0.7311971187591553,0.7693932056427002,0.6945846676826477,-0.878833532333374,-1.388225793838501,-0.7340343594551086,0.32919925451278687,-0.4666212499141693,-0.7343029379844666,-2.6213035583496094,-4.750247955322266,0.30156683921813965,-4.893346309661865,-7.555744171142578,3.939002275466919,-0.7684106230735779,-4.7970170974731445,-2.5206334590911865,-4.39937686920166,3.854383707046509,-0.9985082745552063,2.291921854019165,-3.593175172805786,-3.1707170009613037,0.560422420501709,0.26211655139923096,-7.557989120483398,-0.8106898069381714,-0.4202328622341156,3.629303216934204,-0.18582192063331604,-0.08356168866157532,0.6075632572174072,0.5386589169502258,-4.896284103393555,-0.3828928470611572,-1.505720853805542,-1.2325230836868286,-3.6537511348724365,0.718330442905426,0.645281195640564,4.0363240242004395,-1.9354852437973022,-1.2333035469055176,-4.823910713195801,-0.9224398732185364,4.40527868270874,-0.3162338137626648,-1.0185563564300537,-0.6898889541625977,-0.3961065709590912,0.36089614033699036,-3.6188721656799316,4.246767520904541,-0.8324882984161377,0.006764666177332401,-1.749341368675232,2.0765140056610107,-0.4049818515777588,-0.15703199803829193,-2.943714141845703,-0.8513380885124207,-4.572977066040039,-0.3882237374782562,-0.37473607063293457,-4.864853858947754,0.4652688205242157,-0.7431272864341736,3.6107635498046875,-0.6650954484939575,0.5314821004867554,-4.7624430656433105,-0.9687889814376831,-0.7631506323814392,3.779705047607422,-0.9760676622390747,-1.231995940208435,0.5569890141487122,-1.0099490880966187,-3.2498867511749268,-1.025458574295044,-1.1988435983657837,-0.07262527942657471,-0.8846740126609802,3.622014045715332,-0.6698095798492432,-0.8984633684158325,0.7783792614936829,0.016896946355700493,3.8938796520233154,-0.725135087966919,-4.865485668182373,-4.638880729675293,-0.8388778567314148,-4.7667741775512695,3.9208197593688965,-0.6686525344848633,-1.5932416915893555,-0.47516095638275146,-4.868034362792969,-0.3829658329486847,0.8490704894065857,-0.03933160752058029,3.97405743598938,2.7316203117370605,-3.253253221511841,-0.9940754771232605,2.0862982273101807,-0.6597484350204468,-0.5827736854553223,0.6666666865348816,0.8006039261817932,0.566283106803894,0.40917110443115234,-0.5976548194885254,-4.612033367156982,3.893035650253296,-0.6535859107971191,-0.12321807444095612,0.4084479510784149,-1.26350736618042,0.17058390378952026,3.5982308387756348,1.7687898874282837,-0.3601648509502411,0.12426385283470154,-0.6445521712303162,-0.19453772902488708,-0.7744361162185669,-0.6881355047225952,3.9551405906677246,3.9339141845703125,2.0192203521728516,-0.6693077683448792,-0.6725024580955505,-1.3257585763931274,-0.5526229739189148,0.23000195622444153,-0.64298415184021,3.9609127044677734,-4.653672695159912,0.7346751689910889,-3.2871391773223877,-1.4116601943969727,0.657347559928894,0.34793251752853394,-4.910150051116943,0.7225039601325989,-4.59365177154541,0.35494768619537354,-3.172122001647949,-1.0643950700759888,0.10003136843442917,-0.1115160807967186,-1.2524824142456055,-1.2010393142700195,-0.6186565160751343,3.8363196849823,-1.4228785037994385,-3.592651605606079,-2.4075276851654053,0.695030689239502,0.35494497418403625,3.939889669418335,-0.06387591361999512,-0.3299756646156311,-0.8962823748588562,-1.6123228073120117,-1.097400426864624,-2.7097795009613037,0.19146865606307983,-3.2596826553344727,-3.2280354499816895,-4.790863513946533,-1.078252911567688,-0.6836140751838684,-4.87804651260376,-1.6190251111984253,-1.664082407951355,3.60854434967041,-1.156075119972229,0.9986847043037415,-2.7077553272247314,0.24162548780441284,-0.8708423376083374,0.003818862373009324,-3.233743906021118,-0.8213138580322266,3.918789863586426,-4.581155300140381,-1.0859966278076172,3.9338455200195312,-0.8726885318756104,-0.46568360924720764,0.9037441611289978,-3.5902867317199707,4.320675373077393,-0.36053740978240967,0.08656691759824753,-4.748184680938721,-4.595129489898682,-1.5951733589172363,-4.550549507141113,0.36737874150276184,-0.05027403309941292,-1.011248230934143,-4.812515735626221,-0.954818606376648,-1.0816179513931274,3.8658838272094727,-1.372988224029541,-4.871250629425049,-0.7253844738006592,0.49002909660339355,4.199567794799805,-0.40594398975372314,-1.2276036739349365,-7.5358195304870605,-0.06021878123283386,-0.6883755922317505,1.9635785818099976,-0.7976048588752747,-1.8385968208312988,-0.4915134906768799,-0.42025813460350037,-4.861968517303467,1.3834654092788696,-4.562917709350586,1.1755943298339844,1.193843960762024,-0.03305333852767944,-0.693286120891571,0.42673760652542114,-1.5988272428512573,-0.6687237024307251,-0.2649550139904022,3.586068630218506,-4.490664958953857,-0.4322138726711273,3.867480993270874,-0.0802731141448021,-0.5498337149620056,-0.44806337356567383,3.895233631134033,4.031759738922119,-1.6011320352554321,-5.025825500488281,-1.0514353513717651,-0.17951087653636932,-0.6778131127357483,-1.60007643699646,-2.697747230529785,-4.796186923980713,-2.610508441925049,3.948392629623413,-4.388803005218506,0.49935606122016907,-0.9364514946937561,0.6813896298408508,-3.6830854415893555,0.46350616216659546,-3.6690571308135986,-3.2396507263183594,3.949735403060913,-0.9156846404075623,0.3651021420955658,-7.557283878326416,-4.549021244049072,-1.2132247686386108,-1.6097080707550049,-3.2389743328094482,-0.8494879603385925,-0.8527877926826477,0.8029842376708984,-3.249476432800293,0.8163200616836548,-3.5720300674438477,-0.47895994782447815,0.580368161201477,0.4974641501903534,3.937493324279785,-0.6611279845237732,-1.3696951866149902,-7.556092739105225,-1.4476568698883057,-1.0124036073684692,-0.5972558259963989,0.5797514915466309,0.8040435910224915,0.016373785212635994,0.06720304489135742,-0.4014129042625427,3.6189372539520264,3.8745336532592773,-0.653132438659668,-3.152550458908081,-0.011727646924555302,0.12893587350845337,3.8491106033325195,-4.851769924163818,-0.5705767273902893,-3.646239757537842,3.876288652420044,-1.282713770866394,0.28438663482666016,-1.615666151046753,-4.904750823974609,1.15472412109375,-3.2347073554992676,0.5947511196136475,-2.746455192565918,-0.9274928569793701,-1.4796937704086304,-4.927592754364014,0.7292640805244446,-7.557487964630127,0.418301522731781,0.47468438744544983,0.4187217354774475,-1.6060070991516113,0.5133014917373657,-0.2685259282588959,-0.806201159954071,3.2719826698303223,4.0321149826049805,0.23699641227722168,-1.0875694751739502,-0.330375999212265,-3.248185396194458,1.966626763343811,0.3004443943500519,-0.7524681687355042,-0.537734866142273,-0.8571881055831909,-1.6065611839294434,-5.003544807434082,-0.3692755401134491,-7.558116436004639,-3.259429454803467,4.018184185028076,-0.844296395778656,-4.588017463684082,-0.5160702466964722,-0.9809736013412476,0.589378297328949,-3.2520947456359863,-1.0468099117279053,-0.8037363290786743,-2.5123910903930664,0.2699890732765198,3.916203737258911,-2.8379874229431152,3.619849443435669,-0.3406517207622528,0.6560372114181519,0.5330026745796204,-1.2487372159957886,-0.25033068656921387,-0.9225021004676819,-0.8249295353889465,0.4000701904296875,-0.7322092652320862,3.8504185676574707,0.4588344693183899,-0.07665520161390305,-1.0300885438919067,-0.5154852867126465,-7.557676315307617,0.20647646486759186,0.16776251792907715,-1.5597578287124634,3.913377523422241,-4.673499584197998,-0.7776861190795898,-1.120294213294983,0.2471301406621933,-1.1453081369400024,0.1789286583662033,3.2372469902038574,-0.07963455468416214,-0.4200751781463623,-1.4386541843414307,-0.9702650308609009,-4.849606990814209,-2.1805381774902344,-0.7258102893829346,-0.5703396797180176,-1.7306865453720093,-0.5710764527320862,3.939159631729126,0.7340922355651855,-1.1841299533843994,-1.2670353651046753,3.985860824584961,-0.5206254720687866,0.6530420780181885,0.8695312738418579,-2.7353508472442627,0.7167025804519653,-4.816282749176025,-0.13789710402488708,-0.661522626876831,-2.9519453048706055,-3.246877431869507,-4.566964626312256,-0.21155744791030884,-1.1743638515472412,-0.006868478376418352,0.006968861445784569,-1.090098261833191,3.995572328567505,-0.8907173871994019,-1.113747477531433,-0.9104686379432678,-2.618013858795166,0.07247862219810486,-3.167370557785034,-4.850560188293457,-4.5373101234436035,-0.7203643918037415,-0.7396569848060608,-4.8196940422058105,3.948997974395752,-0.9362920522689819,-0.11454778164625168,-3.2360167503356934,-1.1863130331039429,0.36583414673805237,-3.2521538734436035,0.5538662672042847,3.897986888885498,0.5041572451591492,-2.723655939102173,0.213020458817482,0.04830046370625496,4.015035152435303,-0.7169697284698486,-0.49259287118911743,-0.9348909258842468,-4.741782188415527,-1.0538567304611206,-3.0200722217559814,-1.2720208168029785,3.810554265975952,3.9582133293151855,-1.1357601881027222,-1.216532826423645,-0.45889246463775635,0.4447290301322937,-0.8626775145530701,-0.17307133972644806,-3.231560230255127,-4.694934368133545,-7.558243751525879,-3.261289596557617,0.8162035942077637,-0.8628482818603516,0.4755500853061676,-0.7229214906692505,0.014614662155508995,-3.259622812271118,3.60896897315979,-0.49606552720069885,0.9290794134140015,0.3154931664466858,-0.37931764125823975,0.13900749385356903,0.08900239318609238,0.4573906362056732,-0.8289220929145813,0.2247881144285202,3.8592731952667236,-1.1757566928863525,-1.2579516172409058,3.963721990585327,-4.895878314971924,3.9942126274108887,1.551936388015747,0.6598529815673828,0.4763476252555847,-1.2443383932113647,-4.656256675720215,-0.44803178310394287,-0.7691677212715149,-1.0007823705673218,-0.2179240584373474,-1.0472415685653687,-4.873500347137451,-0.6787704229354858,0.6029167175292969,3.9365627765655518,0.5737975835800171,0.5597561001777649,0.6850665807723999,-0.9632518291473389,0.8549414277076721,-1.0189976692199707,-0.8499148488044739,-1.1814053058624268,0.7684692740440369,-4.545577526092529,-7.547786235809326,-0.2642040550708771,-2.2292914390563965,-0.4646785855293274,0.28901997208595276,3.9506871700286865,0.1996574103832245,-3.2548863887786865,-4.225874423980713,-0.8915225267410278,-4.493285655975342,-0.07928052544593811,0.47619545459747314,2.6213810443878174,-2.4242498874664307,-0.5818052291870117,0.5617206692695618,2.247985363006592,-2.828934669494629,-0.6350858211517334,0.1805875152349472,-0.15095877647399902,3.9626548290252686,-3.2527289390563965,0.004860570654273033,0.16708359122276306,0.523758590221405,-0.7415255904197693,-2.8529281616210938,1.1656137704849243,-3.2547664642333984,-0.8330663442611694,-0.2288244664669037,-4.8032121658325195,-1.2902235984802246,0.39357975125312805,3.9574484825134277,0.015069503337144852,-0.47193729877471924,0.2267792522907257,0.06103231757879257,0.3024095296859741,3.852015256881714,0.205471009016037,2.188896417617798,-0.2591004967689514,-0.5309509038925171,-0.8312103748321533,-1.016369104385376,-0.04734772443771362,0.3360542058944702,-0.2361413836479187,-0.16391387581825256,-3.237258195877075,-0.6805129051208496,3.5935707092285156,3.8994040489196777,0.629277765750885,4.361422538757324,-0.9182043075561523,-1.046801209449768,1.1595529317855835,0.6268138289451599,3.9429214000701904,-4.927969932556152,-0.47262927889823914,-2.5430078506469727,-0.5148066282272339,-4.859921932220459,-0.7331153750419617,-4.852177143096924,-1.2726399898529053,-0.4088933765888214,-0.9376623630523682,-4.638102054595947,0.5132623910903931,-1.468825340270996,-1.7894879579544067,3.570274591445923,-0.8345593810081482,-0.22383154928684235,-1.1240324974060059,-0.23594523966312408,2.310645818710327,0.684665322303772,-0.37564507126808167,2.66070818901062,-1.1590321063995361,-7.558578014373779,-4.449704647064209,-1.1232537031173706,-3.2223258018493652,-2.2625796794891357,-0.5612443089485168,0.13795307278633118,-0.9982395172119141,-0.22619353234767914,0.739504873752594,3.88460373878479,-0.7283281683921814,-4.8830342292785645,-0.8918105363845825,4.219758033752441,-0.7667160630226135,-1.1573115587234497,-2.6378533840179443,0.5259369611740112,-0.13779230415821075,0.29186129570007324,3.6218879222869873,-4.880326271057129,-0.10961209982633591,-0.6937200427055359,0.6689135432243347,-0.7737346291542053,-4.854411602020264,3.482512950897217,3.6155056953430176,0.492056280374527,-1.3757669925689697,-0.8261374831199646,-0.6275731325149536,3.616699695587158,-1.5176169872283936,0.49904119968414307,-1.5018304586410522,-1.2660778760910034,0.561140239238739,3.937652587890625,-4.560912132263184,0.5416345596313477,0.2765248119831085,-0.9904072880744934,-0.3459448218345642,-1.444864273071289,0.22308461368083954,-1.0020596981048584,2.565464973449707,3.910191297531128,-1.5951160192489624,0.9919039607048035,0.09824866056442261,-0.86131751537323,-4.590684413909912,-3.2530128955841064,-7.542631149291992,-2.2089133262634277,3.791727066040039,-0.3167750835418701,-4.771045684814453,0.35532253980636597,-1.3614850044250488,-0.597894549369812,0.5678771734237671,-0.6609633564949036,0.4482290744781494,-3.07814359664917,-0.22977913916110992,0.07108951359987259,0.7164219617843628,-4.770268440246582,3.94720721244812,-0.27387771010398865,4.218089580535889,-3.2478370666503906,0.41223853826522827,0.273480623960495,-1.5975689888000488,4.029208660125732,0.49536141753196716,0.24255549907684326,3.6187026500701904,-0.588473916053772,-0.8103912472724915,-0.2033708691596985,-0.898636519908905,-0.40019872784614563,0.37265488505363464,3.5742101669311523,-4.8508687019348145,-1.6049379110336304,-0.08941490203142166,-4.851131916046143,-0.45111632347106934,-1.5896958112716675,0.05174211412668228,-4.86265230178833,-4.649066925048828,3.9238104820251465,-0.5289444923400879,-0.8659775257110596,3.882917642593384,2.405836582183838,-1.0898463726043701,0.6495124697685242,0.7071393728256226,0.8087365031242371,-1.3452680110931396,-0.3302222788333893,0.11813480406999588,-3.257439374923706,-0.6950361132621765,-4.77838134765625,-4.7405171394348145,-2.625196933746338,4.045245170593262,0.2734925448894501,-1.4899712800979614,3.9843497276306152,-2.6766908168792725,-0.7834544777870178,-0.8698983192443848,-0.4181841313838959,3.939558982849121,-1.5443120002746582,-0.6750560998916626,-7.559442043304443,0.2878079414367676,4.364558219909668,0.6163305044174194,0.735339879989624,-0.8851879239082336,-0.8018641471862793,-1.1753360033035278,-0.7068134546279907,-4.5759596824646,-4.923023223876953,-0.7403687238693237,0.17212258279323578,-7.558759689331055,-2.6869919300079346,-0.38230466842651367,-4.854415416717529,2.2316906452178955,-1.5438438653945923,1.0642945766448975,1.5516014099121094,-0.7900262475013733,-1.0068351030349731,-0.5936186909675598,-3.2016823291778564,-3.0332345962524414,-4.824542999267578,-0.4532428979873657,-1.7187392711639404,-2.5857863426208496,-4.5377702713012695,-4.656477451324463,-0.24911430478096008,3.0435447692871094,-0.5726566910743713,0.2902018427848816,3.6365156173706055,-1.5421905517578125,3.8610074520111084,0.3462161421775818,-4.847639560699463,-3.036344051361084,-0.7249138951301575,-1.2531331777572632,-4.581760883331299,-1.2392852306365967,0.17083941400051117,4.3660783767700195,-0.9671080112457275,-0.6921719312667847,-7.556966304779053,-1.2469342947006226,1.014121651649475,0.29719772934913635,-0.13494578003883362,-7.5538129806518555,-0.82790607213974,0.12024737149477005,-0.2302040457725525,-3.2569236755371094,-0.9063208699226379,0.6465041041374207,-2.159550905227661,-2.0567617416381836,-1.1768755912780762,-1.3323359489440918,-3.187981605529785,-1.1085280179977417,3.5866551399230957,0.198866069316864,0.10762205719947815,-3.160134792327881,-0.00792937632650137,0.48855531215667725,-0.7505619525909424,0.30305495858192444,0.46846669912338257,0.2332720011472702,-0.258710652589798,-0.37355291843414307,-0.4187319874763489,-2.9430575370788574,-0.7201099395751953,-0.5934404134750366,-7.556188106536865,0.6437519192695618,-1.074940800666809,0.006451044697314501,2.1044373512268066,-3.263047218322754,-1.489121675491333,-1.2408500909805298,3.5912880897521973,0.09677350521087646,0.9388923048973083,2.0437564849853516,-3.2298314571380615,-0.6738753914833069,-1.0589687824249268,-2.114924669265747,-0.5451030135154724,1.0325593948364258,-4.744048595428467,-0.015160894952714443,-0.5033591389656067,-0.6790949702262878,-2.8126845359802246,-3.259760618209839,-4.813050270080566,-0.7873302698135376,-1.388782262802124,-1.6589609384536743,-1.0696767568588257,-0.3754481375217438,-0.04585181549191475,0.6433983445167542,0.5122750997543335,-2.5646450519561768,0.9682689905166626,-6.296038627624512,3.990344285964966,-1.1467645168304443,0.6644155383110046,-4.8975653648376465,-0.5002099871635437,-0.9667854309082031,-0.002531382255256176,-0.8245400190353394,-0.7043271660804749,-1.4361376762390137,0.2981278598308563,-0.7441301941871643,3.958601951599121,-2.91263747215271,-0.1709257811307907,-0.3787916898727417,-4.86152458190918,-1.4815669059753418,-0.6878475546836853,0.5758780241012573,-0.5882943868637085,0.33776697516441345,-0.3996926546096802,0.5010314583778381,0.2932831645011902,-1.5832473039627075,-4.865896224975586,-0.4079914689064026,-0.8302733302116394,-1.0038645267486572,-0.7761579155921936,-3.252129554748535,0.6124401092529297,-4.4042582511901855,-0.20202240347862244,0.2232421636581421,3.935436248779297,0.692867636680603,-4.531535625457764,-1.320737361907959,-4.796532154083252,-0.260104238986969,-1.4929609298706055,-0.3994368612766266,-3.1469924449920654,-3.005380630493164,-0.7098670601844788,4.025944709777832,-0.8623605966567993,-0.0038986189756542444,-2.251433849334717,3.873666763305664,-0.8559008240699768,-4.650850296020508,0.621211588382721,-0.5795980095863342,-2.748596429824829,-7.556835174560547,-2.7042202949523926,-1.091052532196045,-0.1442231684923172,0.6678147315979004,-1.4397363662719727,0.5182301998138428,-0.6771267056465149,0.48947611451148987,-1.0536882877349854,-0.5375646352767944,0.4799736738204956,-4.82750940322876,-2.8333544731140137,-3.0517849922180176,-0.23632574081420898,0.6036131381988525,-0.6322646141052246,0.1258065402507782,-0.23141874372959137,-3.2462120056152344,-1.0186883211135864,-1.3622777462005615,0.19822244346141815,-7.546042442321777,-1.1167038679122925,-4.838418483734131,3.9437787532806396,-1.3704289197921753,0.7746047377586365,-1.374238133430481,-0.23157654702663422,-4.787456035614014,0.529344916343689,-0.36875417828559875,3.9359564781188965,0.3980035185813904,3.9462945461273193,0.40027564764022827,3.993438959121704,3.607682704925537,3.9880270957946777,0.4628814160823822,3.5281081199645996,-4.701624870300293,-2.7783777713775635,-0.24007344245910645,3.845855712890625,-1.6219185590744019,-1.0272098779678345,0.10873157531023026,2.411557912826538,-4.033034324645996,0.1726755052804947,-0.18351493775844574,-1.1913378238677979,-3.2492995262145996,-1.4723905324935913,0.2723773419857025,-2.0177059173583984,-4.784460544586182,0.16277334094047546,0.4218842685222626,-0.7475327253341675,-0.8988701105117798,-1.107582688331604,-2.227139472961426,-0.8894101977348328,-0.7809473276138306,-1.1350650787353516,-0.798586368560791,-1.2757784128189087,3.9784984588623047,-4.859470367431641,-4.572824478149414,-0.7941375374794006,0.881510853767395,0.3849455714225769,-1.0104070901870728,0.17330661416053772,-4.915570259094238,-0.5510430335998535,-4.853232383728027,2.728214740753174,-4.806260108947754,-0.10934241116046906,2.381369113922119,-0.18517079949378967,3.5920541286468506,-0.7736967206001282,0.7314227223396301,3.8882718086242676,-4.8511433601379395,-4.827337265014648,-4.884222507476807,0.16287904977798462,-3.2544519901275635,0.6712155938148499,-0.5611555576324463,3.978461503982544,-1.5178903341293335,0.3030472993850708,-1.069549322128296,-0.5661138296127319,-1.0282686948776245,0.5148282051086426,2.043583631515503,-1.272367238998413,-0.30738601088523865,-1.0157253742218018,-1.4286787509918213,0.6170615553855896,2.497797966003418,-2.6628036499023438,-0.1515045166015625,3.8823904991149902,-1.1838135719299316,-0.6476315259933472,0.3059345483779907,-1.1525492668151855,-0.22700554132461548,0.1047808825969696,-1.1893341541290283,-4.66996431350708,-7.556229114532471,-0.8503100275993347,-1.1449241638183594,-1.1231937408447266,-4.8785080909729,-1.0593323707580566,-0.44679322838783264,0.6552969813346863,4.350855350494385,-4.818286418914795,0.6345840096473694,3.928040027618408,-0.8923336267471313,-0.16767312586307526,0.4785166084766388,0.5040721893310547,0.21287721395492554,0.4816056489944458,-1.1799252033233643,-0.22744379937648773,0.5502013564109802,1.4249922037124634,-0.4303647577762604,0.7270715236663818,-1.26401686668396,-0.12763114273548126,-3.205543279647827,3.1404075622558594,-4.49905252456665,-0.6982947587966919,-0.7869232296943665,3.926318645477295,0.2009216845035553,-1.251504898071289,0.729625403881073,-0.7141452431678772,-4.834268569946289,-0.7642686367034912,-0.34809061884880066,-1.7702749967575073,-0.7905836701393127,-1.1103229522705078,0.766787588596344,-0.08922471851110458,-1.0868786573410034,0.9906367659568787,3.8363311290740967,-0.9230183362960815,0.06132332980632782,-4.756551265716553,0.13032719492912292,-2.5215330123901367,-0.6755743026733398,1.1269711256027222,-0.6377614140510559,3.9869191646575928,3.8635144233703613,-0.17186500132083893,-2.5957157611846924,-0.8266530632972717,-0.587437629699707,0.5770524144172668,-0.8277500867843628,0.9214109182357788,4.343637466430664,-0.13838976621627808,0.29307740926742554,-0.36949583888053894,-1.0023144483566284,-1.0965325832366943,-1.083617925643921,-0.2033378779888153,3.8509955406188965,-0.5467102527618408,-1.5724327564239502,2.395320177078247,-0.36064237356185913,3.8810296058654785,-1.1223323345184326,0.05747026577591896,3.8068127632141113,-4.490842342376709,0.32850757241249084,-2.94079852104187,0.04561925679445267,-0.6478754878044128,-2.272894859313965,-4.548083782196045,0.011731159873306751,-0.11704476177692413,-0.7173536419868469,-2.820175886154175,-1.093293309211731,-0.7088994383811951,-3.2558531761169434,-0.3184356987476349,-1.0390180349349976,-0.9165288209915161,-4.841338634490967,-4.652318477630615,0.34211447834968567,-0.1209784597158432,-2.123650074005127,0.31733664870262146,3.9897751808166504,3.890033006668091,0.5348171591758728,3.6155049800872803,3.9327950477600098,-0.06784018874168396,0.3257763385772705,0.010505794547498226,-0.7310463786125183,-0.9201397895812988,-2.6162617206573486,2.021768093109131,0.051537733525037766,0.4517509639263153,0.4388374090194702,0.5318238735198975,0.6037638187408447,-4.848641872406006,-0.5103030800819397,-0.6160937547683716,-0.655953586101532,3.8441545963287354,-2.4572627544403076,-0.6092731356620789,0.6751449108123779,-0.9826328754425049,-1.00532865524292,0.3017767369747162,-0.14004580676555634,0.69740891456604,0.617297887802124,0.15710076689720154,-0.7515775561332703,0.033551156520843506,-3.125696897506714,3.8112311363220215,-1.2985352277755737,0.3065718114376068,-1.151450753211975,0.2863069772720337,-1.0360037088394165,-2.0171289443969727,0.6097719073295593,0.47108420729637146,0.4466404914855957,0.5459409952163696,-3.560019016265869,-3.256829023361206,-1.2772289514541626,-0.568405270576477,-3.1403439044952393,-0.561000645160675,-0.8477826118469238,-0.03759311884641647,-7.556619167327881,-2.4548518657684326,3.934004306793213,-0.6017576456069946,-0.72509765625,0.9867573380470276,0.3683827221393585,-4.411166667938232,-0.5715665221214294,-3.6535823345184326,-4.41499662399292,2.1084506511688232,3.621067762374878,-3.1673452854156494,0.6466077566146851,0.5321205854415894,-0.7664414644241333,3.939490556716919,0.46948111057281494,0.0670812651515007,0.36712732911109924,0.03085434064269066,-0.0700044110417366,-0.822376012802124,0.6589016318321228,-0.5706663131713867,-0.2724117338657379,0.7317870855331421,3.92326021194458,0.7474837303161621,-1.2076635360717773,0.15195854008197784,-1.255643606185913,-0.6326876878738403,0.5333847999572754,0.13733252882957458,0.2024196833372116,0.25398051738739014,-0.9687976241111755,-7.558897972106934,3.958571434020996,-7.557324409484863,-1.1689097881317139,0.21164299547672272,-1.4838420152664185,-4.576414585113525,-4.574061393737793,3.9462995529174805,-4.811056613922119,0.630942165851593,-0.7632426023483276,-1.1823686361312866,-0.8360963463783264,-4.834747314453125,-3.249904155731201,-1.1650571823120117,-1.4735368490219116,-0.9338050484657288,-1.0372116565704346,2.282935857772827,-3.2553305625915527,-1.584842324256897,3.8565244674682617,0.3602938950061798,-0.6189245581626892,-4.8778181076049805,-0.017268158495426178,0.16844598948955536,-0.007807082962244749,-0.8907023668289185,-7.557034015655518,-0.29553869366645813,-1.8079779148101807,-1.5977202653884888,3.8819613456726074,-1.239320993423462,-0.4530993103981018,-0.07559490948915482,-0.5250118374824524,-7.5570969581604,1.1862255334854126,3.8621256351470947,0.9627882838249207,-7.55656099319458,3.8986656665802,-0.2557622492313385,0.37576788663864136,-4.825416088104248,-1.5710006952285767,-2.214857816696167,0.44753408432006836,-0.7916238903999329,-1.0072875022888184,0.3597850799560547,2.3466100692749023,0.04469681158661842,-0.2496916800737381,-0.07141394913196564,-0.7934218645095825,-0.5655892491340637,0.6287888288497925,-4.779438495635986,-0.1237860769033432,-2.5039589405059814,-4.865943908691406,0.21126621961593628,-2.787799835205078,-2.0577874183654785,-0.8180526494979858,-0.781920313835144,0.121008962392807,3.9502875804901123,3.9279539585113525,-1.1788053512573242,-3.162748336791992,-0.5746504068374634,-1.0283217430114746,0.23376943171024323,0.12727516889572144,0.15491129457950592,-0.5987290143966675,-2.252910852432251,-0.08602765947580338,-0.5799465775489807,-7.55838680267334,-1.2427079677581787,-3.2870450019836426,0.5918500423431396,-4.857013702392578,-0.6168436408042908,-2.8956716060638428,-1.2321205139160156,-0.09200729429721832,3.952148914337158,-0.29774343967437744,-1.5518438816070557,-0.8411312699317932,-0.7180331945419312,0.29223883152008057,0.9561508893966675,-3.2477293014526367,0.28233802318573,-3.5854623317718506,0.12402424961328506,0.41440635919570923,-2.9251513481140137,-1.1782217025756836,-0.5112910270690918,-0.29749637842178345,-0.8571962118148804,-1.4035106897354126,-0.4990130364894867,0.33755964040756226,-0.805803656578064,0.6985636353492737,-3.246636152267456,-3.156562328338623,3.97039532661438,-1.3482407331466675,0.21949267387390137,-1.8695160150527954,-1.058330774307251,0.4337984323501587,-0.24806338548660278,-3.5798187255859375,0.6474711894989014,-1.020662784576416,-3.2503879070281982,3.893893003463745,-1.9736424684524536,0.0729074776172638,3.633160352706909,-0.9617673754692078,-2.5760843753814697,-0.3293384909629822,-1.031329870223999,-1.3203225135803223,3.8507633209228516,-0.38061201572418213,-4.823310375213623,0.09478498995304108,2.1619479656219482,0.6180358529090881,4.342634677886963,2.0804429054260254,0.7410827279090881,3.962934970855713,-3.251422166824341,-2.7367594242095947,4.043400764465332,0.40846914052963257,-1.0780260562896729,0.8577243685722351,3.9459962844848633,-1.0985350608825684,2.936959981918335,4.215166091918945,-0.2966206669807434,-0.6798221468925476,3.5682530403137207,-1.249036431312561,0.14906780421733856,-0.7364141941070557,0.23557940125465393,0.5747804045677185,-1.6087604761123657,3.972006320953369,-1.3893733024597168,-0.4509173631668091,3.9124011993408203,-0.6968056559562683,-4.851313591003418,-0.8662422895431519,-3.2367148399353027,0.1535685509443283,-3.256809949874878,-3.564666748046875,3.6323633193969727,-2.691718578338623,-4.640042304992676,-1.0872224569320679,-7.554817199707031,-0.5654743313789368,0.046073995530605316,2.728898525238037,0.12775124609470367,-4.75139045715332,-1.1022469997406006,1.68973708152771,0.07556834071874619,-4.596102714538574,0.28285080194473267,0.0032546513248234987,-4.607522964477539,0.20993873476982117,3.945359230041504,-0.7320822477340698,0.37781327962875366,2.5386595726013184,1.3101555109024048,0.28323474526405334,-1.2144426107406616,-0.5792253613471985,-2.4173173904418945,-0.6277440190315247,-4.210515975952148,-2.6258058547973633,-1.0772528648376465,-0.6914833188056946,-0.3547653555870056,0.4572668671607971,-3.0277140140533447,0.33722496032714844,-4.6385393142700195,-4.667078495025635,-4.851221561431885,-0.10860273241996765,2.368013620376587,-0.628825306892395,4.029359340667725,3.8656044006347656,-1.246714472770691,0.49010589718818665,-1.033168077468872,-1.6097676753997803,-2.199537754058838,-0.49489545822143555,-1.0214489698410034,-0.5688244104385376,0.5054765939712524,-2.4202218055725098,-0.7161259651184082,0.6758421063423157,0.13301238417625427,-3.172145128250122,-0.536584198474884,-0.20720899105072021,-4.59072732925415,-0.45954322814941406,2.2653958797454834,-0.66978520154953,-1.0588146448135376,-0.19422301650047302,4.350833892822266,0.4771488904953003,0.5442410707473755,0.25965404510498047,-0.5462677478790283,-0.594429075717926,-4.882781505584717,-0.22541412711143494,-3.2380950450897217,2.4166665077209473,-7.555552005767822,0.34301337599754333,-4.8846659660339355,0.08058325946331024,-0.9772674441337585,-4.500288009643555,-1.189307451248169,-3.015737771987915,3.966392755508423,3.614372968673706,-0.9699360728263855,2.916949510574341,-0.2908989489078522,-0.9666445851325989,-0.9438158869743347,-2.6496617794036865,-1.6618095636367798,-1.6014238595962524,0.052261173725128174,-3.260068416595459,-1.160422444343567,-4.858598709106445,-0.7858659625053406,-4.620291709899902,3.603410005569458,-0.7267035841941833,0.6282824277877808,0.6064665913581848,-3.1656248569488525,-0.42506036162376404,0.40153998136520386,-2.5795609951019287,-0.21117591857910156,-2.914889335632324,-0.39437979459762573,0.6836020350456238,-4.5168328285217285,4.715156078338623,0.31085991859436035,3.6144309043884277,0.4442785680294037,-1.177274227142334,3.891563653945923,-1.6075540781021118,-3.672593832015991,-1.6042296886444092,-1.4548214673995972,2.402409076690674,-0.05484257638454437,0.1794193834066391,0.6880449652671814,2.1525354385375977,0.7507259249687195,-2.948906898498535,-0.7022970914840698,-1.9955378770828247,-4.8734354972839355,3.9851367473602295,-7.556474208831787,-2.845715284347534,-0.9029133915901184,-2.490354537963867,-0.6219214797019958,-1.0992716550827026,-0.12058235704898834,-1.5709319114685059,0.8651027679443359,-4.548588275909424,-0.8192822337150574,-4.747609615325928,0.39109519124031067,-0.2838646471500397,-0.6562559604644775],\"y\":[8.928648948669434,8.360468864440918,14.095751762390137,9.811919212341309,9.515751838684082,14.874011993408203,9.897435188293457,9.70279312133789,7.241219997406006,10.261272430419922,10.195015907287598,5.897007465362549,10.119041442871094,9.62968635559082,10.109025001525879,10.88082218170166,11.367850303649902,9.038084030151367,9.607515335083008,9.68770980834961,10.187861442565918,11.664140701293945,9.218803405761719,9.645757675170898,11.399911880493164,10.691694259643555,6.36205530166626,7.996486186981201,9.726469039916992,14.837453842163086,9.818961143493652,14.835944175720215,5.782136917114258,9.940300941467285,9.219120025634766,9.717070579528809,14.870826721191406,10.733206748962402,14.831655502319336,9.849812507629395,10.034602165222168,9.832955360412598,9.24787425994873,9.948004722595215,9.20870304107666,9.817309379577637,7.629044055938721,9.802391052246094,6.379759311676025,8.948283195495605,8.355487823486328,10.374368667602539,8.195371627807617,9.306950569152832,8.945755958557129,8.944005012512207,10.876154899597168,9.742646217346191,10.474126815795898,8.974974632263184,9.812572479248047,9.752960205078125,10.693496704101562,10.91103458404541,9.594018936157227,9.499894142150879,9.990182876586914,8.94351577758789,10.784290313720703,10.23131275177002,14.241153717041016,10.62034797668457,9.82567024230957,10.444272994995117,9.904219627380371,10.226232528686523,9.61816120147705,6.152854919433594,9.390583992004395,10.171741485595703,10.01301383972168,10.355968475341797,9.851096153259277,5.987269401550293,5.958014488220215,10.459850311279297,9.872522354125977,10.241948127746582,8.873577117919922,4.391664505004883,9.89474105834961,9.835397720336914,6.377368450164795,10.675225257873535,9.085769653320312,14.860462188720703,10.056772232055664,10.621006965637207,7.212783336639404,10.22802734375,10.445676803588867,9.386155128479004,10.10975456237793,9.868827819824219,9.855910301208496,9.916726112365723,10.520672798156738,10.810723304748535,9.385263442993164,9.835281372070312,9.868810653686523,5.7960309982299805,9.836767196655273,10.130523681640625,8.93675708770752,5.951730728149414,9.679787635803223,5.982686519622803,10.081652641296387,11.0857572555542,10.758052825927734,11.064949035644531,5.929460048675537,10.010165214538574,9.236382484436035,9.682707786560059,9.684111595153809,9.890860557556152,10.247274398803711,9.656811714172363,11.167916297912598,10.111705780029297,10.812978744506836,9.178979873657227,9.963497161865234,10.078828811645508,10.125480651855469,10.197516441345215,8.968029022216797,9.776016235351562,10.135184288024902,9.23249340057373,9.916302680969238,9.368030548095703,9.802364349365234,4.391583442687988,6.057805061340332,10.294053077697754,9.865209579467773,9.39460277557373,9.8917818069458,6.096984386444092,11.526674270629883,8.836676597595215,8.38748836517334,9.034756660461426,9.360589981079102,9.68254566192627,4.39078950881958,9.652050971984863,9.899358749389648,8.00412654876709,9.97031307220459,10.726856231689453,9.296034812927246,10.34907341003418,9.821081161499023,6.903061866760254,9.825404167175293,10.751055717468262,9.75684928894043,8.624459266662598,9.679107666015625,5.971739768981934,10.874611854553223,10.755138397216797,9.791716575622559,9.713008880615234,14.263811111450195,9.27624225616455,9.750526428222656,11.595722198486328,10.633682250976562,9.925111770629883,8.381386756896973,9.051231384277344,10.198713302612305,12.529842376708984,10.72004222869873,9.044554710388184,10.586214065551758,9.846948623657227,9.343555450439453,6.803156852722168,9.876710891723633,11.705039024353027,10.247566223144531,9.862997055053711,10.596423149108887,10.880705833435059,7.205010890960693,10.76028060913086,9.190752029418945,9.837847709655762,10.350992202758789,10.815882682800293,6.194082736968994,9.980957984924316,9.670367240905762,9.800464630126953,9.709991455078125,14.857720375061035,8.933924674987793,11.200496673583984,11.483333587646484,10.70641040802002,7.197672367095947,10.622474670410156,9.674433708190918,9.665431022644043,10.263773918151855,6.021195888519287,10.613729476928711,9.813097953796387,9.864989280700684,10.460420608520508,9.91439151763916,5.894037246704102,10.794121742248535,8.67576789855957,11.728751182556152,9.832361221313477,10.469170570373535,9.803339004516602,10.896896362304688,5.839725017547607,9.213687896728516,14.859198570251465,9.722854614257812,9.036694526672363,9.513982772827148,10.091854095458984,10.733220100402832,9.359652519226074,9.323719024658203,9.510968208312988,10.534379005432129,9.911914825439453,6.101024150848389,11.086601257324219,11.968057632446289,10.148218154907227,9.9868803024292,9.441272735595703,7.23460054397583,8.536510467529297,9.36163330078125,9.969032287597656,10.21760082244873,10.030774116516113,9.671431541442871,10.07297420501709,5.916732311248779,5.947335243225098,8.96449089050293,10.644350051879883,10.514726638793945,11.117856979370117,10.398445129394531,9.65861988067627,11.152692794799805,5.926387310028076,9.90217113494873,10.194540977478027,14.892730712890625,10.301432609558105,9.626574516296387,10.108177185058594,9.86760425567627,10.95687198638916,10.08746337890625,10.003754615783691,9.037457466125488,10.889155387878418,9.243786811828613,10.587623596191406,11.141520500183105,11.021334648132324,10.203994750976562,5.8830766677856445,10.253297805786133,8.3912353515625,9.420978546142578,10.646390914916992,9.62583065032959,5.9392242431640625,10.074313163757324,9.87594223022461,10.411759376525879,8.947961807250977,10.58655834197998,9.165306091308594,9.696503639221191,14.865264892578125,14.833395004272461,9.896021842956543,9.767739295959473,10.303964614868164,9.813862800598145,8.933136940002441,10.585369110107422,7.23103141784668,10.648237228393555,9.169447898864746,9.241307258605957,11.97841739654541,9.959941864013672,10.102505683898926,14.840700149536133,9.704411506652832,6.00238037109375,9.66252613067627,9.785260200500488,5.897680759429932,10.94827938079834,11.051668167114258,10.755208015441895,8.388790130615234,9.105965614318848,10.060824394226074,10.305940628051758,9.902469635009766,9.654768943786621,8.69094467163086,9.932296752929688,9.507943153381348,11.066595077514648,9.661646842956543,9.88219165802002,10.612428665161133,11.420331954956055,6.0267720222473145,9.627909660339355,9.830154418945312,10.277605056762695,9.00531005859375,13.98569393157959,11.849574089050293,11.121482849121094,4.403665065765381,10.100140571594238,9.8743314743042,9.100873947143555,9.646148681640625,10.506021499633789,11.402214050292969,9.765739440917969,9.843311309814453,11.562742233276367,9.66481876373291,8.893915176391602,8.094844818115234,10.061445236206055,9.48292350769043,9.918851852416992,8.95588493347168,11.259081840515137,9.963050842285156,7.227298736572266,9.927862167358398,9.759441375732422,6.03609037399292,9.6403226852417,10.50705623626709,10.119026184082031,6.004726886749268,5.778618812561035,8.971592903137207,9.711430549621582,9.793313980102539,12.185237884521484,6.31702184677124,8.69980239868164,9.259650230407715,9.871864318847656,9.302433013916016,5.926642894744873,9.729471206665039,9.87898063659668,10.058900833129883,8.919867515563965,9.759539604187012,12.193662643432617,9.733965873718262,14.846259117126465,5.93726921081543,9.94381332397461,11.387687683105469,4.391597747802734,10.147867202758789,9.352294921875,8.906072616577148,14.842373847961426,9.353748321533203,10.798001289367676,9.877943992614746,14.85412883758545,10.022924423217773,8.366446495056152,10.012505531311035,9.869345664978027,8.943120956420898,5.941290378570557,9.900978088378906,10.214463233947754,4.391384601593018,8.986824035644531,9.849090576171875,11.06815242767334,9.07278060913086,9.40664005279541,10.030685424804688,10.241762161254883,10.305822372436523,7.1991753578186035,6.039644718170166,10.621561050415039,9.043214797973633,10.166170120239258,9.959635734558105,6.090261459350586,5.557402610778809,10.820316314697266,9.7418851852417,6.12279748916626,11.161672592163086,9.327396392822266,8.672566413879395,9.792550086975098,9.64181900024414,14.837706565856934,9.680459976196289,9.26076602935791,11.45559310913086,8.940352439880371,9.803572654724121,9.576984405517578,4.391689300537109,9.882779121398926,8.92267894744873,9.950472831726074,8.707771301269531,10.145334243774414,9.81611442565918,10.519475936889648,11.343311309814453,5.784518241882324,10.355310440063477,9.78613567352295,12.002832412719727,14.853509902954102,8.839972496032715,11.10646915435791,10.88101863861084,10.747675895690918,10.621183395385742,8.673959732055664,9.761523246765137,10.503703117370605,4.392044544219971,14.864830017089844,5.896393775939941,9.702910423278809,9.673998832702637,10.049635887145996,10.763307571411133,9.665514945983887,14.856340408325195,9.822239875793457,10.640514373779297,9.391586303710938,10.127860069274902,6.040584087371826,9.352931022644043,7.200176239013672,9.926372528076172,9.219712257385254,9.310518264770508,10.92617416381836,11.997708320617676,10.615221977233887,10.666971206665039,9.448274612426758,10.52752685546875,6.095004081726074,9.765612602233887,10.50199031829834,9.68410873413086,9.806145668029785,4.391554355621338,9.362997055053711,10.21523380279541,8.965763092041016,5.9142351150512695,9.836682319641113,10.589424133300781,11.037988662719727,10.128729820251465,9.91244125366211,9.929739952087402,10.484813690185547,10.69394588470459,11.317625999450684,9.798086166381836,9.70902156829834,9.838955879211426,9.4823579788208,10.640259742736816,9.54686164855957,10.746733665466309,10.765604019165039,5.933333396911621,10.316414833068848,9.992013931274414,9.784321784973145,5.86801815032959,11.148273468017578,9.62058162689209,9.265419960021973,9.18132495880127,9.56110954284668,9.854219436645508,10.143564224243164,10.779821395874023,9.326977729797363,14.854331016540527,9.88458251953125,12.529629707336426,10.653827667236328,10.403019905090332,10.398442268371582,10.492932319641113,5.825220584869385,10.088421821594238,10.592392921447754,10.98036003112793,9.307439804077148,10.431440353393555,9.028462409973145,9.847735404968262,9.862067222595215,10.1920747756958,9.874655723571777,9.871684074401855,5.898801326751709,9.997869491577148,12.024800300598145,14.841958999633789,9.46656322479248,9.57438850402832,14.857464790344238,9.500807762145996,6.000976085662842,9.696210861206055,9.383787155151367,9.327392578125,10.943489074707031,5.784532070159912,10.572766304016113,10.668624877929688,10.650260925292969,9.829582214355469,9.775233268737793,9.266870498657227,9.723310470581055,6.146862030029297,5.935105323791504,10.593243598937988,10.619338035583496,10.656060218811035,9.835969924926758,9.685882568359375,9.747368812561035,14.838225364685059,9.864702224731445,4.3910932540893555,14.867752075195312,9.263593673706055,10.783815383911133,9.209136009216309,9.525956153869629,10.464680671691895,14.864608764648438,7.214488506317139,9.667989730834961,10.241183280944824,10.28900146484375,11.794997215270996,10.912927627563477,11.541279792785645,10.564114570617676,10.918074607849121,10.149474143981934,6.065862655639648,10.586668014526367,10.319047927856445,5.945396900177002,9.83920955657959,5.834759712219238,9.191608428955078,5.237554550170898,9.753928184509277,11.173108100891113,9.880191802978516,10.140154838562012,10.191911697387695,10.128398895263672,9.771093368530273,9.780345916748047,9.783699035644531,10.23371410369873,9.101819038391113,5.9686360359191895,8.815760612487793,9.76070785522461,9.1964111328125,11.428915977478027,9.26995849609375,9.920604705810547,11.591486930847168,10.045042991638184,9.84387493133545,10.14116096496582,4.3952202796936035,9.743914604187012,9.496686935424805,10.143780708312988,9.750107765197754,5.937714099884033,9.722480773925781,14.860119819641113,9.864936828613281,10.170550346374512,9.861888885498047,11.90422534942627,9.515844345092773,9.155381202697754,9.416622161865234,10.824653625488281,10.5277099609375,8.896228790283203,9.357341766357422,10.119478225708008,11.035686492919922,9.660065650939941,5.97191858291626,14.858047485351562,9.490706443786621,9.758679389953613,9.643258094787598,9.313236236572266,9.326446533203125,10.916097640991211,14.859827041625977,10.961261749267578,11.54442310333252,9.869039535522461,9.967164039611816,9.523433685302734,5.887607097625732,9.680085182189941,9.690608024597168,11.745526313781738,10.070083618164062,8.637569427490234,6.082577705383301,10.390811920166016,8.989727973937988,12.005898475646973,11.554119110107422,10.593985557556152,9.407212257385254,10.689918518066406,9.505069732666016,9.954280853271484,9.921990394592285,14.844395637512207,6.404845237731934,7.23079776763916,6.025386810302734,10.23169994354248,14.22976303100586,10.544137954711914,9.834508895874023,9.080964088439941,10.961150169372559,5.9117207527160645,9.833267211914062,10.716069221496582,9.284655570983887,10.628589630126953,9.816164016723633,9.888364791870117,5.557034969329834,10.19909954071045,9.70936393737793,8.831018447875977,9.853330612182617,8.787643432617188,10.945547103881836,10.710002899169922,7.218654155731201,9.545000076293945,10.809548377990723,9.804598808288574,9.932305335998535,10.725586891174316,9.775127410888672,10.170766830444336,9.010724067687988,10.62524700164795,4.390523910522461,9.879254341125488,9.846240043640137,14.827754020690918,9.43865966796875,10.218490600585938,9.342785835266113,9.689276695251465,10.159525871276855,11.274914741516113,5.969680309295654,9.523466110229492,9.808221817016602,10.462132453918457,14.154662132263184,9.463780403137207,9.65787410736084,9.219573974609375,8.5254545211792,12.00816535949707,10.767343521118164,7.2001566886901855,9.813716888427734,10.247782707214355,6.318222522735596,9.576491355895996,11.371338844299316,9.834548950195312,11.448575973510742,7.2025146484375,9.13399600982666,10.283851623535156,11.458009719848633,9.452812194824219,7.208317756652832,8.972319602966309,10.580759048461914,9.824392318725586,10.742782592773438,7.274710655212402,5.906761169433594,9.972902297973633,9.219097137451172,10.044417381286621,10.405742645263672,11.922093391418457,9.987958908081055,10.343873977661133,9.734519958496094,9.493136405944824,5.970023155212402,8.682601928710938,9.29282283782959,9.901247024536133,11.62856388092041,9.876635551452637,14.856301307678223,4.399110794067383,9.477574348449707,6.200939655303955,10.198930740356445,9.861770629882812,9.941854476928711,10.882575035095215,10.160625457763672,8.65549087524414,10.578459739685059,10.010558128356934,8.965842247009277,9.826048851013184,9.941139221191406,8.98628044128418,9.935685157775879,5.951368808746338,8.930439949035645,14.179052352905273,14.849427223205566,9.637555122375488,10.854887008666992,8.683257102966309,5.787631034851074,9.84726619720459,9.415448188781738,7.198296070098877,11.029620170593262,9.825551986694336,10.096060752868652,9.658456802368164,10.432242393493652,8.981167793273926,7.249802589416504,5.557773590087891,8.701139450073242,10.210278511047363,5.557668209075928,9.799905776977539,8.684173583984375,9.79419231414795,9.820143699645996,9.875882148742676,5.943768501281738,9.729432106018066,10.659153938293457,6.044854164123535,8.029805183410645,8.898039817810059,9.60318660736084,8.941618919372559,9.494583129882812,10.879241943359375,9.971823692321777,12.038591384887695,14.86302375793457,6.357659339904785,9.880244255065918,9.927660942077637,9.240279197692871,5.755792617797852,12.554261207580566,9.826238632202148,5.84214973449707,9.255935668945312,10.388113021850586,9.999908447265625,9.792043685913086,5.919591426849365,8.69616985321045,10.6668062210083,4.390522480010986,9.37300968170166,14.232065200805664,9.441534996032715,10.310401916503906,9.68626880645752,10.931756973266602,9.54601764678955,10.393818855285645,9.858036994934082,9.812707901000977,10.329913139343262,9.397642135620117,4.390665531158447,9.218213081359863,9.942659378051758,9.840961456298828,10.750290870666504,8.698806762695312,10.987947463989258,10.226527214050293,10.202326774597168,10.122224807739258,9.625898361206055,9.068248748779297,9.206926345825195,9.87307357788086,10.496825218200684,9.361709594726562,9.311149597167969,9.646345138549805,9.875606536865234,9.990901947021484,9.366785049438477,11.267120361328125,10.211026191711426,7.235821723937988,8.973031044006348,6.108617782592773,9.817499160766602,9.833109855651855,9.21320629119873,10.80451488494873,11.169205665588379,9.671721458435059,11.129289627075195,10.149238586425781,14.242566108703613,11.40133285522461,9.751203536987305,4.391315460205078,10.549610137939453,10.638227462768555,10.236920356750488,9.54273796081543,4.393198013305664,10.353192329406738,10.225296974182129,10.027780532836914,14.862268447875977,10.531548500061035,8.013461112976074,8.940398216247559,9.538549423217773,11.0929594039917,10.329568862915039,14.863645553588867,10.62059497833252,7.2309794425964355,10.101545333862305,9.816753387451172,8.942976951599121,12.001784324645996,11.771636009216309,10.625329971313477,11.678922653198242,9.190882682800293,9.468006134033203,10.77886962890625,11.395729064941406,11.436370849609375,9.28764820098877,9.567281723022461,9.95910930633545,4.391756534576416,9.605775833129883,9.711992263793945,10.656304359436035,8.996941566467285,14.868526458740234,8.967178344726562,10.470475196838379,7.229440212249756,13.909485816955566,12.734901428222656,9.006985664367676,14.835393905639648,10.407087326049805,9.758528709411621,9.11126708984375,11.203898429870605,10.947521209716797,9.903860092163086,10.323296546936035,10.389921188354492,6.361772537231445,9.167885780334473,14.865485191345215,9.869162559509277,9.568394660949707,9.663208961486816,8.833106994628906,9.801579475402832,9.889985084533691,10.5146484375,9.60233211517334,9.817387580871582,9.274679183959961,9.091042518615723,11.742395401000977,5.825860023498535,9.898119926452637,9.333617210388184,9.801319122314453,11.897226333618164,10.080885887145996,10.758065223693848,9.54585075378418,9.549187660217285,9.522371292114258,8.822068214416504,10.634730339050293,5.958715915679932,9.269665718078613,9.831792831420898,9.808391571044922,9.83979606628418,9.632863998413086,6.3504133224487305,9.209089279174805,11.390766143798828,9.923310279846191,10.06742000579834,8.897712707519531,9.244497299194336,10.675365447998047,9.849337577819824,10.28945541381836,9.965167045593262,11.42841911315918,10.620889663696289,14.857294082641602,8.972344398498535,9.898394584655762,10.674110412597656,9.437170028686523,5.9603729248046875,11.066179275512695,9.84313678741455,9.779398918151855,9.907833099365234,10.594352722167969,9.821502685546875,9.941366195678711,8.9624662399292,9.248321533203125,9.588883399963379,5.803812026977539,10.606278419494629,10.936376571655273,9.494959831237793,6.074715614318848,10.70885181427002,9.868582725524902,5.243252754211426,11.04205322265625,9.255575180053711,4.391362190246582,9.355059623718262,9.728302955627441,10.672762870788574,9.640909194946289,10.989295959472656,9.183520317077637,10.842264175415039,9.311103820800781,11.277961730957031,11.895217895507812,8.924871444702148,9.859649658203125,9.21230411529541,9.201119422912598,11.886597633361816,5.263715744018555,10.58786678314209,9.736766815185547,10.407629013061523,14.851531028747559,8.933518409729004,10.304878234863281,10.299173355102539,4.395950794219971,9.801072120666504,9.859025001525879,5.9792985916137695,10.898877143859863,10.094497680664062,10.783485412597656,10.268938064575195,8.145994186401367,9.8214693069458,9.18496036529541,5.879947185516357,9.679729461669922,5.935616493225098,9.178655624389648,5.903575897216797,7.221514701843262,5.84345006942749,9.254135131835938,7.304769992828369,8.2307710647583,9.096095085144043,10.332618713378906,6.097599029541016,8.958656311035156,10.540884017944336,10.176675796508789,8.019346237182617,9.856843948364258,9.699653625488281,10.121044158935547,9.97279167175293,14.855971336364746,9.819695472717285,10.163378715515137,10.851613998413086,8.144810676574707,9.706296920776367,9.263152122497559,10.935102462768555,10.014079093933105,10.606085777282715,9.42845344543457,9.556814193725586,10.597688674926758,9.723247528076172,10.586348533630371,10.40527057647705,5.928159713745117,9.82654857635498,9.864978790283203,10.592073440551758,12.804009437561035,9.310803413391113,9.854455947875977,9.32801628112793,9.844552040100098,10.323002815246582,9.845515251159668,9.147236824035645,9.88525390625,11.254801750183105,7.9656291007995605,10.12535285949707,7.2246928215026855,11.505677223205566,10.479170799255371,6.0050201416015625,5.557718753814697,9.867351531982422,9.863308906555176,10.045568466186523,14.857994079589844,9.79257583618164,10.332412719726562,5.859681606292725,9.118824005126953,9.297765731811523,9.941967964172363,11.02288818359375,10.007457733154297,9.276260375976562,8.97728443145752,11.173431396484375,10.145594596862793,11.513660430908203,10.06054973602295,10.072842597961426,8.915985107421875,9.347772598266602,11.966891288757324,6.131655216217041,9.72074031829834,9.99046802520752,9.13918685913086,10.540053367614746,11.873321533203125,10.903234481811523,11.056744575500488,9.830297470092773,4.391916275024414,10.235679626464844,10.560492515563965,11.23646068572998,9.825552940368652,10.079020500183105,10.184806823730469,8.959142684936523,14.22750186920166,9.849759101867676,9.614688873291016,5.980778217315674,10.75499153137207,9.785572052001953,9.852453231811523,9.690401077270508,9.761260986328125,9.624265670776367,8.983229637145996,10.40617847442627,9.279485702514648,9.360124588012695,10.092965126037598,10.320961952209473,10.456679344177246,10.765998840332031,9.060491561889648,10.794824600219727,9.864998817443848,9.621487617492676,10.525239944458008,5.926076889038086,9.976219177246094,9.215584754943848,9.416763305664062,11.660833358764648,9.809785842895508,9.555375099182129,10.116500854492188,10.674062728881836,11.582592964172363,10.589001655578613,10.23036003112793,10.740090370178223,9.704232215881348,9.53929615020752,6.158051013946533,9.688715934753418,9.81322956085205,9.843634605407715,10.45319652557373,9.336883544921875,11.023287773132324,9.493329048156738,9.980621337890625,6.014721870422363,5.983778476715088,9.98148250579834,9.274072647094727,10.923529624938965,9.97033977508545,9.306194305419922,10.859124183654785,10.071962356567383,14.220719337463379,11.95333194732666,11.38421630859375,11.096769332885742,9.400506973266602,10.18235969543457,9.72995662689209,10.370245933532715,6.057072162628174,10.686922073364258,8.9904146194458,8.309693336486816,9.956697463989258,6.120521068572998,9.733283996582031,9.886218070983887,6.084380149841309,9.83565902709961,9.153903007507324,9.350849151611328,9.442773818969727,10.871915817260742,9.147443771362305,9.660953521728516,10.160754203796387,11.090096473693848,9.507588386535645,10.932415962219238,10.610233306884766,10.662017822265625,14.86173152923584,10.139596939086914,9.786532402038574,10.307215690612793,9.834420204162598,9.868720054626465,9.8160400390625,10.02800178527832,9.630942344665527,9.9131498336792,5.84785795211792,6.032145023345947,9.716742515563965,7.208114147186279,5.908010959625244,11.062464714050293,11.214377403259277,9.870563507080078,9.665020942687988,9.805282592773438,9.232317924499512,9.057330131530762,9.982256889343262,9.225544929504395,9.985880851745605,9.582843780517578,10.216099739074707,9.826068878173828,9.665525436401367,9.678459167480469,10.633746147155762,6.021617412567139,9.40811824798584,9.549615859985352,9.828052520751953,9.700908660888672,9.733007431030273,9.22944164276123,11.149352073669434,9.38572883605957,10.969212532043457,10.704809188842773,9.68109130859375,10.356343269348145,9.02754020690918,5.985647678375244,9.825797080993652,10.10176944732666,10.071399688720703,9.460861206054688,8.040769577026367,9.586442947387695,8.369958877563477,9.21022891998291,9.581961631774902,9.134596824645996,8.362812995910645,14.862360954284668,10.738511085510254,10.622234344482422,8.962708473205566,10.640888214111328,8.66765022277832,10.329205513000488,4.3917951583862305,9.401134490966797,5.918950080871582,11.527251243591309,9.500377655029297,11.536056518554688,9.387154579162598,9.853974342346191,7.3044633865356445,9.730053901672363,9.87704086303711,8.999855995178223,7.201903820037842,9.042902946472168,9.540105819702148,9.694881439208984,10.228713989257812,5.933852195739746,11.463090896606445,10.364026069641113,9.345564842224121,12.081459045410156,9.934233665466309,10.327958106994629,10.915846824645996,10.04599666595459,9.686488151550293,10.21579647064209,5.953330039978027,10.006613731384277,11.077399253845215,9.882960319519043,9.893576622009277,10.709694862365723,10.159934997558594,9.601037979125977,9.902748107910156,9.456910133361816,11.206365585327148,4.390390396118164,5.882524490356445,4.391239166259766,10.012953758239746,9.277341842651367,9.827853202819824,10.102458953857422,9.87811279296875,5.974309921264648,9.905092239379883,8.939268112182617,10.434310913085938,10.009695053100586,11.502007484436035,9.866083145141602,14.853618621826172,10.615777015686035,11.00422191619873,9.698297500610352,9.792668342590332,6.600906848907471,14.860557556152344,8.684971809387207,6.071564674377441,10.362420082092285,10.447214126586914,9.826430320739746,11.830198287963867,11.542733192443848,8.467672348022461,11.519937515258789,4.391360759735107,9.851869583129883,10.708456039428711,8.719961166381836,6.008632659912109,10.286398887634277,9.8622465133667,10.040407180786133,10.770041465759277,4.391289710998535,9.297455787658691,6.054708957672119,10.029540061950684,4.391573429107666,6.005802154541016,10.613986015319824,9.344897270202637,9.864598274230957,10.601306915283203,9.543949127197266,9.320280075073242,9.57175064086914,9.821634292602539,10.096445083618164,8.497920036315918,9.574206352233887,10.613322257995605,10.177484512329102,10.529000282287598,9.43284797668457,9.60154914855957,9.843694686889648,11.959869384765625,9.264334678649902,9.83523178100586,11.092157363891602,9.285781860351562,9.380648612976074,10.904335975646973,10.656994819641113,10.231514930725098,5.985748767852783,5.900299072265625,10.648176193237305,9.000580787658691,9.458271980285645,9.758320808410645,9.751864433288574,9.438887596130371,9.936817169189453,10.992986679077148,9.50059700012207,9.393858909606934,9.718456268310547,4.390814304351807,11.215509414672852,14.892594337463379,5.222672939300537,9.838102340698242,11.161201477050781,9.300247192382812,11.16325855255127,9.986857414245605,5.950830936431885,11.795195579528809,8.971020698547363,9.575284004211426,11.069252967834473,11.191607475280762,10.017024993896484,14.853286743164062,9.380595207214355,8.386988639831543,9.910093307495117,9.586970329284668,9.29456615447998,10.06436824798584,10.542926788330078,9.823186874389648,10.763335227966309,9.650945663452148,11.840118408203125,9.14555549621582,10.164969444274902,8.993504524230957,14.85131549835205,8.997671127319336,5.869339466094971,10.29530143737793,10.961024284362793,10.818916320800781,10.143426895141602,10.11678695678711,10.941668510437012,8.38058090209961,10.881834030151367,9.743758201599121,14.855692863464355,5.998466968536377,9.575356483459473,9.858016967773438,7.202555179595947,10.02681827545166,9.234121322631836,9.789843559265137,9.832606315612793,10.241514205932617,6.100432872772217,10.1172456741333,9.870993614196777,10.41184139251709,8.980987548828125,9.906267166137695,14.22867202758789,9.015491485595703,13.146979331970215,5.95424222946167,14.8566255569458,9.195112228393555,5.747605323791504,9.876969337463379,9.7210054397583,10.792351722717285,5.955692291259766,10.574952125549316,9.043082237243652,14.1990327835083,11.851109504699707,10.740584373474121,7.25211238861084,11.177529335021973,9.970008850097656,10.799949645996094,10.120999336242676,9.435563087463379,10.880136489868164,5.963056564331055,10.325567245483398,10.510380744934082,5.947675704956055,6.391542911529541,5.557908535003662,10.020546913146973,14.844103813171387,10.097177505493164,14.862184524536133,8.364330291748047,7.222830772399902,9.342982292175293,9.675168991088867,9.693069458007812,4.392240047454834,10.267845153808594,11.052140235900879,8.840692520141602,9.390654563903809,9.88718032836914,10.087335586547852,10.792720794677734,9.808565139770508,9.874709129333496,10.001306533813477,10.39632511138916,9.875609397888184,9.833620071411133,5.945318222045898,9.700725555419922,9.40739917755127,8.91285228729248,9.16261100769043,10.95030403137207,11.110671997070312,9.822171211242676,9.413990020751953,10.261079788208008,9.873563766479492,9.004724502563477,9.72278118133545,10.33124828338623,10.511093139648438,9.207722663879395,9.223365783691406,10.118186950683594,9.917486190795898,9.790389060974121,5.5577216148376465,10.686023712158203,5.103133678436279,10.831022262573242,5.787715911865234,6.100568771362305,11.168514251708984,10.04286003112793,11.191673278808594,8.672429084777832,9.471914291381836,10.074113845825195,9.759931564331055,11.014226913452148,9.238828659057617,9.416789054870605,9.511507987976074,9.603972434997559,11.007222175598145,9.052820205688477,11.142267227172852,9.978278160095215,9.940454483032227,10.584405899047852,10.799596786499023,10.91226577758789,10.20765209197998,11.22038459777832,14.223855018615723,9.656618118286133,9.197731971740723,9.976752281188965,9.453649520874023,10.539422035217285,9.821623802185059,10.651909828186035,14.849786758422852,8.882222175598145,4.392848491668701,9.833946228027344,9.826151847839355,9.97375202178955,10.004559516906738,9.698631286621094,10.02359676361084,9.228147506713867,14.017766952514648,7.207859992980957,9.87064266204834,9.106243133544922,9.7650146484375,10.481788635253906,9.807106018066406,9.272159576416016,8.934605598449707,8.95691204071045,7.165394306182861,14.865306854248047,9.740140914916992,9.850153923034668,7.801852226257324,9.915802955627441,7.202764987945557,9.5809326171875,5.2273664474487305,10.126347541809082,9.051553726196289,10.939221382141113,9.287371635437012,9.305302619934082,11.975982666015625,9.305486679077148,9.86984634399414,10.055577278137207,10.153164863586426,7.4048871994018555,10.904751777648926,7.223830223083496,11.505766868591309,10.552214622497559,6.023026943206787,8.955999374389648,9.763182640075684,8.698281288146973,8.98023796081543,8.18707275390625,10.049186706542969,10.35309886932373,9.439583778381348,8.913723945617676,10.600886344909668,9.319846153259277,6.40778923034668,9.565434455871582,9.805092811584473,5.85939884185791,4.391870021820068,9.336779594421387,9.913097381591797,9.364630699157715,10.374216079711914,10.098479270935059,9.710712432861328,8.65237808227539,9.820277214050293,9.869811058044434,9.752399444580078,9.85195541381836,9.604949951171875,9.813386917114258,9.668034553527832],\"type\":\"scattergl\"},{\"hoverinfo\":\"text\",\"marker\":{\"opacity\":0.5,\"size\":5},\"mode\":\"markers+text\",\"name\":\"2_devolu\\u00e7\\u00e3o_retorno_pagamento valor\",\"text\":[\"\",\"\",\"\",\"\",\"\",\"\",\"\",\"\",\"\",\"\",\"\",\"\",\"\",\"\",\"\",\"\",\"\",\"\",\"\",\"\",\"\",\"\",\"\",\"\",\"\",\"\",\"\",\"\",\"\",\"\",\"\",\"\",\"\",\"\",\"\",\"\",\"\",\"\",\"\",\"\",\"\",\"\",\"\",\"\",\"\",\"\",\"\",\"\",\"\",\"\",\"\",\"\",\"\",\"\",\"\",\"\",\"\",\"\",\"\",\"\",\"\",\"\",\"\",\"\",\"\",\"\",\"\",\"\",\"\",\"\",\"\",\"\",\"\",\"\",\"\",\"\",\"\",\"\",\"\",\"\",\"\",\"\",\"\",\"\",\"\",\"\",\"\",\"\",\"\",\"\",\"\",\"\",\"\",\"\",\"\",\"\",\"\",\"\",\"\",\"\",\"\",\"\",\"\",\"\",\"\",\"\",\"\",\"\",\"\",\"\",\"\",\"\",\"\",\"\",\"\",\"\",\"\",\"\",\"\",\"\",\"\",\"\",\"\",\"\",\"\",\"\",\"\",\"\",\"\",\"\",\"\",\"\",\"\",\"\",\"\",\"\",\"\",\"\",\"\",\"\",\"\",\"\",\"\",\"\",\"\",\"\",\"\",\"\",\"\",\"\",\"\",\"\",\"\",\"\",\"\",\"\",\"\",\"\",\"\",\"\",\"\",\"\",\"\",\"\",\"\",\"\",\"\",\"\",\"\",\"\",\"\",\"\",\"\",\"\",\"\",\"\",\"\",\"\",\"\",\"\",\"\",\"\",\"\",\"\",\"\",\"\",\"\",\"\",\"\",\"\",\"\",\"\",\"\",\"\",\"\",\"\",\"\",\"\",\"\",\"\",\"\",\"\",\"\",\"\",\"\",\"\",\"\",\"\",\"\",\"\",\"\",\"\",\"\",\"\",\"\",\"\",\"\",\"\",\"\",\"\",\"\",\"\",\"\",\"\",\"\",\"\",\"\",\"\",\"\",\"\",\"\",\"\",\"\",\"\",\"\",\"\",\"\",\"\",\"\",\"\",\"\",\"\",\"\",\"\",\"\",\"\",\"\",\"\",\"\",\"\",\"\",\"\",\"\",\"\",\"\",\"\",\"\",\"\",\"\",\"\",\"\",\"\",\"\",\"\",\"\",\"\",\"\",\"\",\"\",\"\",\"\",\"\",\"\",\"\",\"\",\"\",\"\",\"\",\"\",\"\",\"\",\"\",\"\",\"\",\"\",\"\",\"\",\"\",\"\",\"\",\"\",\"\",\"\",\"\",\"\",\"\",\"\",\"\",\"\",\"\",\"\",\"\",\"\",\"\",\"\",\"\",\"\",\"\",\"\",\"\",\"\",\"\",\"\",\"\",\"\",\"\",\"\",\"\",\"\",\"\",\"\",\"\",\"\",\"\",\"\",\"\",\"\",\"\",\"\",\"\",\"\",\"\",\"\",\"\",\"\",\"\",\"\",\"\",\"\",\"\",\"\",\"\",\"\",\"\",\"\",\"\",\"\",\"\",\"\",\"\",\"\",\"\",\"\",\"\",\"\",\"\",\"\",\"\",\"\",\"\",\"\",\"\",\"\",\"\",\"\",\"\",\"\",\"\",\"\",\"\",\"\",\"\",\"\",\"\",\"\",\"\",\"\",\"\",\"\",\"\",\"\",\"\",\"\",\"\",\"\",\"\",\"\",\"\",\"\",\"\",\"\",\"\",\"\",\"\",\"\",\"\",\"\",\"\",\"\",\"\",\"\",\"\",\"\",\"\",\"\",\"\",\"\",\"\",\"\",\"\",\"\",\"\",\"\",\"\",\"\",\"\",\"\",\"\",\"\",\"\",\"\",\"\",\"\",\"\",\"\",\"\",\"\",\"\",\"\",\"\",\"\",\"\",\"\",\"\",\"\",\"\",\"\",\"\",\"\",\"\",\"\",\"\",\"\",\"\",\"\",\"\",\"\",\"\",\"\",\"\",\"\",\"\",\"\",\"\",\"\",\"\",\"\",\"\",\"\",\"\",\"\",\"\",\"\",\"\",\"\",\"\",\"\",\"\",\"\",\"\",\"\",\"\",\"\",\"\",\"\",\"\",\"\",\"\",\"\",\"\",\"\",\"\",\"\",\"\",\"\",\"\",\"\",\"\",\"\",\"\",\"\",\"\",\"\",\"\",\"\",\"\",\"\",\"\",\"\",\"\",\"\",\"\",\"\",\"\",\"\",\"\",\"\",\"\",\"\",\"\",\"\",\"\",\"\",\"\",\"\",\"\",\"\",\"\",\"\",\"\",\"\",\"\",\"\",\"\",\"\",\"\",\"\",\"\",\"\",\"\",\"\",\"\",\"\",\"\",\"\",\"\",\"\",\"\",\"\",\"\",\"\",\"\",\"\",\"\",\"\",\"\",\"\",\"\",\"\",\"\",\"\",\"\",\"\",\"\",\"\",\"\",\"\",\"\",\"\",\"\",\"\",\"\",\"\",\"\",\"\",\"\",\"\",\"\",\"\",\"\",\"\",\"\",\"\",\"\",\"\",\"\",\"\",\"\",\"\",\"\",\"\",\"\",\"\",\"\",\"\",\"\",\"\",\"\",\"\",\"\",\"\",\"\",\"\",\"\",\"\",\"\",\"\",\"\",\"\",\"\",\"\",\"\",\"\",\"\",\"\",\"\",\"\",\"\",\"\",\"\",\"\",\"\",\"\",\"\",\"\",\"\",\"\",\"\",\"\",\"\",\"\",\"\",\"\",\"\",\"\",\"\",\"\",\"\",\"\",\"\",\"\",\"\",\"\",\"\",\"\",\"\",\"\",\"\",\"\",\"\",\"\",\"\",\"\",\"\",\"\",\"\",\"\",\"\",\"\",\"\",\"\",\"\",\"\",\"\",\"\",\"\",\"\",\"\",\"\",\"\",\"\",\"\",\"\",\"\",\"\",\"\",\"\",\"\",\"\",\"\",\"\",\"\",\"\",\"\",\"\",\"\",\"\",\"\",\"\",\"\",\"\",\"\",\"\",\"\",\"\",\"\",\"\",\"\",\"\",\"\",\"\",\"\",\"\",\"\",\"\",\"\",\"\",\"\",\"\",\"\",\"\",\"\",\"\",\"\",\"\",\"\",\"\",\"\",\"\",\"\",\"\",\"\",\"\",\"\",\"\",\"\",\"\",\"\",\"\",\"\",\"\",\"\",\"\",\"\",\"\",\"\",\"\",\"\",\"\",\"\",\"\",\"\",\"\",\"\",\"\",\"\",\"\",\"\",\"\",\"\",\"\",\"\",\"\",\"\",\"\",\"\",\"\",\"\",\"\",\"\",\"\",\"\",\"\",\"\",\"\",\"\",\"\",\"\",\"\",\"\",\"\",\"\",\"\",\"\",\"\",\"\",\"\",\"\",\"\",\"\",\"\",\"\",\"\",\"\",\"\",\"\",\"\",\"\",\"\",\"\",\"\",\"\",\"\",\"\",\"\",\"\",\"\",\"\",\"\",\"\",\"\",\"\",\"\",\"\",\"\",\"\",\"\",\"\",\"\",\"\",\"\",\"\",\"\",\"\",\"\",\"\",\"\",\"\",\"\",\"\",\"\",\"\",\"\",\"\",\"\",\"\",\"\",\"\",\"\",\"\",\"\",\"\",\"\",\"\",\"\",\"\",\"\",\"\",\"\",\"\",\"\",\"\",\"\",\"\",\"\",\"\",\"\",\"\",\"\",\"\",\"\",\"\",\"\",\"\",\"\",\"\",\"\",\"\",\"\",\"\",\"\",\"\",\"\",\"\",\"\",\"\",\"\",\"\",\"\",\"\",\"\",\"\",\"\",\"\",\"\",\"\",\"\",\"\",\"\",\"\",\"\",\"\",\"\",\"\",\"\",\"\",\"\",\"\",\"\",\"\",\"\",\"\",\"\",\"\",\"\",\"\",\"\",\"\",\"\",\"\",\"\",\"\",\"\",\"\",\"\",\"\",\"\",\"\",\"\",\"\",\"\",\"\",\"\",\"\",\"\",\"\",\"\",\"\",\"\",\"\",\"\",\"\",\"\",\"\",\"\",\"\",\"\",\"\",\"\",\"\",\"\",\"\",\"\",\"\",\"\",\"\",\"\",\"\",\"\",\"\",\"\",\"\",\"\",\"\",\"\",\"\",\"\",\"\",\"\",\"\",\"\",\"\",\"\",\"\",\"\",\"\",\"\",\"\",\"\",\"\",\"\",\"\",\"\",\"\",\"\",\"\",\"\",\"\",\"\",\"\",\"\",\"\",\"\",\"\",\"\",\"\",\"\",\"\",\"\",\"\",\"\",\"\",\"\",\"\",\"\",\"\",\"\",\"\",\"\",\"\",\"\",\"\",\"\",\"\",\"\",\"\",\"\",\"\",\"\",\"\",\"\",\"\",\"\",\"\",\"\",\"\",\"\",\"\",\"\",\"\",\"\",\"\",\"\",\"\",\"\",\"\",\"\",\"\",\"\",\"\",\"\",\"\",\"\",\"\",\"\",\"\",\"\",\"\",\"\",\"\",\"\",\"\",\"\",\"\",\"\",\"\",\"\",\"\",\"\",\"\",\"\",\"\",\"\",\"\",\"\",\"\",\"\",\"\",\"\",\"\",\"\",\"\",\"\",\"\",\"\",\"\",\"\",\"\",\"\",\"\",\"\",\"\",\"\",\"\",\"\",\"\",\"\",\"\",\"\",\"\",\"\",\"\",\"\",\"\",\"\",\"\",\"\",\"\",\"\",\"\",\"\",\"\",\"\",\"\",\"\",\"\",\"\",\"\",\"\",\"\",\"\",\"\",\"\",\"\",\"\",\"\",\"\",\"\",\"\",\"\",\"\",\"\",\"\",\"\",\"\",\"\",\"\",\"\",\"\",\"\",\"\",\"\",\"\",\"\",\"\",\"\",\"\",\"\",\"\",\"\",\"\",\"\",\"\",\"\",\"\",\"\",\"\",\"\",\"\",\"\",\"\",\"\",\"\",\"\",\"\",\"\",\"\",\"\",\"\",\"\",\"\",\"\",\"\",\"\",\"\",\"\",\"\",\"\",\"\",\"\",\"\",\"\",\"\",\"\",\"\",\"\",\"\",\"\",\"\",\"\",\"\",\"\",\"\",\"\",\"\",\"\",\"\",\"\",\"\",\"\",\"\",\"\",\"\",\"\",\"\",\"\",\"\",\"\",\"\",\"\",\"\",\"\",\"\",\"\",\"\",\"\",\"\",\"\",\"\",\"\",\"\",\"\",\"\",\"\",\"\",\"\",\"\",\"\",\"\",\"\",\"\",\"\",\"\",\"\",\"\",\"\",\"\",\"\",\"\",\"\",\"\",\"\",\"\",\"\",\"\",\"\",\"\",\"\",\"\",\"\",\"\",\"\",\"\",\"\",\"\",\"\",\"\",\"\",\"\",\"\",\"\",\"\",\"\",\"\",\"\",\"\",\"\",\"\",\"\",\"\",\"\",\"\",\"\",\"\",\"\",\"\",\"\",\"\",\"\",\"\",\"\",\"\",\"\",\"\",\"\",\"\",\"\",\"\",\"\",\"\",\"\",\"\",\"\",\"\",\"\",\"2_devolu\\u00e7\\u00e3o_retorno_pagamento valor\"],\"textfont\":{\"size\":12},\"x\":[0.2614530622959137,0.7949052453041077,-0.38516703248023987,-0.6473749876022339,0.30247029662132263,-6.298502445220947,-0.08765321969985962,0.41381895542144775,-0.11103496700525284,0.5431191325187683,1.129041314125061,-0.9485549926757812,0.5770160555839539,1.6876450777053833,0.8990334868431091,0.8625288605690002,1.0298374891281128,3.291278600692749,0.1505686640739441,0.6167235374450684,0.36899399757385254,0.5716211795806885,3.074777126312256,1.053472876548767,1.4485656023025513,1.0469505786895752,2.922457456588745,0.24689705669879913,0.5536019802093506,-0.2760673463344574,1.6711055040359497,0.1665700227022171,-0.40701839327812195,0.5914305448532104,0.08425793796777725,1.695726990699768,0.2505543529987335,1.0023863315582275,1.7830517292022705,1.0221867561340332,0.5317879319190979,0.557642936706543,1.6951627731323242,-0.5624546408653259,3.2725796699523926,1.6162711381912231,-1.2901934385299683,0.33026042580604553,-0.09255814552307129,0.7475107908248901,-0.5698627233505249,-0.13804535567760468,-0.5522153377532959,0.5651257038116455,-1.0179370641708374,2.948521852493286,0.6273407936096191,0.01293907966464758,0.9336718916893005,-0.13987208902835846,0.04479800909757614,0.1774037629365921,0.11412764340639114,-0.6548976898193359,-0.054307643324136734,0.6082159876823425,0.47850948572158813,0.4604484438896179,0.7229968905448914,1.4451230764389038,-0.46488896012306213,0.23140229284763336,3.485365629196167,0.7136698365211487,-1.4284840822219849,3.284813404083252,0.9407718777656555,-1.0342720746994019,1.197717308998108,-0.3440501093864441,0.14650726318359375,-0.26255112886428833,-2.2540369033813477,0.44436681270599365,-0.157266765832901,-0.8548611402511597,-0.46694931387901306,1.0229624509811401,1.421233057975769,1.3905285596847534,0.5218806266784668,1.6216593980789185,1.3856583833694458,-0.6866093873977661,-0.7369992733001709,-0.969509482383728,0.6668817400932312,-0.09211894869804382,-0.7764771580696106,1.0005264282226562,0.24579115211963654,0.9644383192062378,-0.040687594562768936,1.6848704814910889,1.0897293090820312,2.0674595832824707,0.11894480139017105,-0.12085001170635223,-0.2817372977733612,0.6650754809379578,0.704005777835846,-0.650334894657135,3.284595012664795,1.663036823272705,0.825202226638794,0.12086103111505508,0.48956936597824097,2.1653504371643066,1.047902226448059,1.0927038192749023,0.9938503503799438,1.2018145322799683,-0.52764892578125,3.6656739711761475,0.3323068916797638,0.6666744351387024,0.9833112359046936,1.1246771812438965,-0.9941232204437256,1.0450620651245117,-0.5534366369247437,1.0025982856750488,-1.0900533199310303,0.7248209118843079,0.07027562707662582,0.7499567270278931,-1.485039472579956,0.6664736270904541,0.898058295249939,-0.00296906940639019,0.7917215824127197,2.9406325817108154,1.6493109464645386,-0.13704133033752441,3.2302937507629395,1.6082768440246582,-0.1470632404088974,-1.0346828699111938,3.835164785385132,-0.708358883857727,0.8698462843894958,-1.173059105873108,-1.078697681427002,0.6121492981910706,1.766518473625183,0.419442355632782,0.7569253444671631,0.8199643492698669,0.8488246202468872,1.692686915397644,1.1592520475387573,-3.0924317836761475,-1.1375994682312012,1.5920156240463257,-0.8077714443206787,0.7044498324394226,-0.621134877204895,0.28041335940361023,0.5735199451446533,0.4249764680862427,0.5930278897285461,-0.6739844679832458,0.28658658266067505,0.16563072800636292,-1.5030646324157715,-6.2950053215026855,-0.9239544868469238,1.1056030988693237,-0.3811499774456024,4.299246311187744,1.2764968872070312,-0.8998838067054749,1.109387755393982,0.24410007894039154,0.23644991219043732,-0.1842154711484909,0.9939945340156555,0.5052551031112671,-0.33447712659835815,0.9713625907897949,0.7389855980873108,1.0346792936325073,-0.35922709107398987,0.4264509379863739,-0.38597777485847473,0.2135511040687561,0.11674167215824127,1.1032503843307495,-0.6438367366790771,-0.02483396790921688,-6.297163009643555,-0.9298380017280579,1.292580246925354,1.1135597229003906,1.0388022661209106,0.5561144351959229,1.0564465522766113,0.3893543481826782,0.2974940836429596,-6.300567626953125,0.40162941813468933,2.6822054386138916,0.611461877822876,1.1681156158447266,0.21819834411144257,-0.7319042682647705,-0.07803715020418167,-0.622711181640625,1.0859105587005615,0.4881676435470581,0.4598613679409027,-1.1336936950683594,0.610799252986908,-0.029005656018853188,0.9817882776260376,0.8340418934822083,1.2211822271347046,1.2464773654937744,1.1621778011322021,-3.6961240768432617,1.1299740076065063,0.9758273363113403,1.6910183429718018,3.309183120727539,1.2752020359039307,1.5357493162155151,0.3267999291419983,0.8194928765296936,1.0299360752105713,0.7926967144012451,1.0754380226135254,-0.03916757553815842,-2.712125778198242,0.6848764419555664,-2.1067776679992676,0.8641558289527893,-0.5666574239730835,3.5108416080474854,1.1328191757202148,1.7738884687423706,-1.455793857574463,0.509274959564209,0.5366277694702148,0.020086567848920822,-0.4791378378868103,-0.38222140073776245,-0.8282817006111145,-0.8424084186553955,0.3337997794151306,-0.69077467918396,0.21775013208389282,-3.68941593170166,0.8565255999565125,1.5289970636367798,-1.0448439121246338,0.9108996391296387,-1.0732314586639404,1.1949266195297241,-1.1343085765838623,-0.04732457548379898,2.9140069484710693,-1.2778751850128174,1.1066789627075195,0.95344477891922,1.0450252294540405,0.7412921190261841,1.2230795621871948,-0.24392277002334595,0.037882134318351746,-1.122688889503479,0.4488309621810913,-0.9277176260948181,1.3796274662017822,-0.5825448632240295,0.36088988184928894,-1.2130396366119385,1.074741244316101,-0.78050696849823,-0.6040759086608887,1.4252573251724243,1.1098023653030396,0.41364341974258423,0.9130247235298157,-1.2004929780960083,-1.5240278244018555,-0.5689432621002197,0.6710593104362488,-3.6918253898620605,2.4465017318725586,1.1723918914794922,1.1616897583007812,-0.593254566192627,-0.3167801797389984,1.0586856603622437,-0.5480852127075195,-0.8796424269676208,-0.5391055345535278,1.6046181917190552,-3.6981849670410156,1.081457495689392,3.5678017139434814,-0.23347431421279907,-0.5486477613449097,-0.23886194825172424,-1.421499252319336,0.2561686933040619,1.0804588794708252,1.4444830417633057,0.8316097855567932,-0.5392162203788757,1.346899390220642,-0.4973808228969574,0.7004257440567017,0.9388452768325806,-1.2271372079849243,-0.6311977505683899,0.4950341582298279,0.5083214640617371,0.5936147570610046,2.2877538204193115,0.6795308589935303,1.5648808479309082,-0.8864673972129822,0.5006569623947144,-1.1016720533370972,2.9640347957611084,1.0481992959976196,1.3016053438186646,0.12218176573514938,-1.952713966369629,-0.01907404698431492,-1.440361499786377,0.38658350706100464,0.5242178440093994,-0.5292674899101257,-0.9188980460166931,-0.6277527213096619,1.5646066665649414,-1.037135362625122,-4.746805667877197,-0.9514086842536926,1.054404854774475,1.031467318534851,0.9460310935974121,-0.48643046617507935,0.7170811295509338,2.599339723587036,0.8077540397644043,1.3127316236495972,-0.7262313961982727,-0.056919511407613754,0.7904298901557922,1.2253966331481934,0.30698731541633606,-0.234257772564888,0.6028257012367249,-0.6503214240074158,-0.2101559191942215,-0.16484402120113373,-0.014747077599167824,0.7826711535453796,1.059067726135254,0.022746000438928604,0.7563962936401367,0.21884030103683472,-2.587860345840454,1.8151421546936035,0.2798289954662323,0.6962593793869019,1.0428293943405151,0.8134074807167053,-0.0976320132613182,0.024158626794815063,1.0516194105148315,0.11654197424650192,0.6420162320137024,0.2208741307258606,-0.5335083603858948,-0.01879211515188217,-0.623202383518219,-0.922399640083313,0.8890575766563416,0.13403798639774323,-0.5562009811401367,-0.6346080303192139,-1.2272177934646606,1.0365761518478394,0.6378626823425293,0.17242123186588287,0.7144767045974731,1.0017437934875488,0.10377246886491776,-0.5580461621284485,0.30330875515937805,-0.4612976312637329,-0.03204663097858429,1.476131558418274,-0.9316075444221497,-0.8586274981498718,0.8008626103401184,-0.49140939116477966,1.655820369720459,1.7152899503707886,-0.005465278867632151,0.4832025468349457,0.10308701545000076,-0.6993024945259094,1.3744356632232666,0.9329850077629089,-0.22623084485530853,0.15271300077438354,0.7946821451187134,0.5703637599945068,0.018474048003554344,3.13887357711792,1.2297708988189697,-0.08818695694208145,0.4527929723262787,1.1311441659927368,1.0680286884307861,-0.5774871706962585,0.6787013411521912,-0.11588175594806671,0.5621469020843506,-3.6761326789855957,2.9635353088378906,-3.6490488052368164,0.38820019364356995,-0.6768529415130615,-0.1770835965871811,-1.2590662240982056,0.5926260948181152,0.7582896947860718,-0.29325759410858154,0.19091954827308655,0.43172743916511536,-0.31008705496788025,0.5911080241203308,-0.43138670921325684,-6.295812606811523,1.1814854145050049,-0.6094568967819214,0.5671704411506653,0.30416133999824524,-1.795945167541504,0.49668774008750916,0.42300400137901306,0.28453993797302246,-0.9931654334068298,-1.1133496761322021,-0.5690334439277649,0.8382470607757568,0.2907137870788574,0.24488672614097595,-1.0484123229980469,1.0029724836349487,0.5458427667617798,-0.9215294718742371,0.2618142068386078,-0.4411216378211975,1.0057494640350342,0.7571359872817993,-6.307768821716309,-0.5419719815254211,0.49977564811706543,0.6855523586273193,0.516707181930542,-0.9292725324630737,-0.523580014705658,-3.6925196647644043,1.188162088394165,3.2092533111572266,-1.0665684938430786,0.23441025614738464,0.24024151265621185,0.5202986598014832,1.8654954433441162,0.6219446063041687,0.7977112531661987,0.7341929078102112,0.9529939293861389,0.247352734208107,-0.5541562438011169,-0.5015161037445068,-1.5142940282821655,0.7862028479576111,-0.5540012717247009,0.43958333134651184,0.9653835892677307,0.9112269878387451,4.306508541107178,0.6625188589096069,0.6296592950820923,-0.5547027587890625,0.33433204889297485,0.8500840663909912,0.998415470123291,0.42252403497695923,-0.6556127667427063,-0.8811694383621216,0.9723616242408752,-0.012048083357512951,1.6447464227676392,0.3500344753265381,-0.544160783290863,1.1725091934204102,1.4441239833831787,-0.9254893064498901,0.8181279897689819,0.7375372648239136,-3.7034711837768555,1.6941043138504028,1.0870389938354492,0.6189457178115845,0.6387608051300049,-6.292851448059082,0.19395998120307922,1.6036007404327393,1.3912091255187988,-0.11992931365966797,0.9303542375564575,-1.089750051498413,1.0262471437454224,1.0468307733535767,0.8007790446281433,-0.7016641497612,1.112188696861267,-0.3775250017642975,0.5242490172386169,0.5586252808570862,1.1876410245895386,0.7917374968528748,-0.9255848526954651,-6.301231861114502,0.21880730986595154,0.09336164593696594,0.8347187042236328,0.4040980935096741,0.1123088002204895,-1.4853237867355347,0.540725588798523,1.6423170566558838,-0.9343370795249939,1.8052780628204346,-0.694194495677948,0.5267050266265869,-0.04296676442027092,-3.6592304706573486,-1.3853763341903687,-0.4090304374694824,0.662963330745697,-1.4722087383270264,2.9378130435943604,-0.9270704388618469,0.009189510717988014,2.2734320163726807,1.6684420108795166,0.3193141222000122,0.24520231783390045,0.6679475903511047,1.226019024848938,-0.7737802863121033,-0.5396931767463684,-0.060677528381347656,0.9196885228157043,2.9793739318847656,0.46211427450180054,0.6179403066635132,-0.1116006076335907,0.6891136765480042,1.004220724105835,-0.8285194039344788,0.14067064225673676,-0.33396121859550476,-0.30799105763435364,-3.6999757289886475,0.4650583267211914,3.2879533767700195,0.2131127119064331,1.1562553644180298,1.091977834701538,-0.4044947028160095,1.2303457260131836,-0.058428291231393814,-0.48121675848960876,1.1186784505844116,0.7323859930038452,-0.5322761535644531,1.4708307981491089,0.5205109715461731,1.0077126026153564,0.6443365812301636,-0.025392131879925728,0.2945287227630615,-2.284909963607788,-0.02109302021563053,0.26710793375968933,-1.4960298538208008,-3.687798023223877,0.838293194770813,1.009123682975769,-0.29712116718292236,-0.39194735884666443,1.099261999130249,0.6011403799057007,-6.337326526641846,1.0949227809906006,-1.0785425901412964,1.2746778726577759,-1.1792709827423096,1.0241934061050415,1.6168164014816284,0.5614624619483948,-1.2222416400909424,1.0719906091690063,1.0043971538543701,1.4257314205169678,2.851693868637085,1.7950330972671509,0.7643665075302124,0.5540770888328552,0.9959778189659119,-1.5038518905639648,-0.5506643652915955,-0.3591918647289276,-3.592808961868286,1.3225672245025635,0.4618196189403534,-0.9405117630958557,0.9829351902008057,-0.6694314479827881,-0.08979080617427826,1.0945587158203125,-0.5470373630523682,0.36181771755218506,-0.6088756322860718,-0.11819957941770554,0.3728632926940918,0.03527388349175453,-0.7181585431098938,1.6823582649230957,-0.6098185777664185,-0.5112302899360657,-0.5285481810569763,-0.4016965329647064,-0.011915583163499832,1.7547179460525513,0.8815902471542358,-1.440407156944275,-0.7791959643363953,1.3709869384765625,-0.16556918621063232,-0.581727921962738,-1.1864241361618042,2.0198183059692383,1.0361679792404175,-0.6314071416854858,1.6370315551757812,0.902718186378479,-0.6089830994606018,-0.7109108567237854,0.8434076905250549,0.7092249989509583,-0.010723855346441269,0.5033096075057983,-0.8219612240791321,0.7457733750343323,0.26785457134246826,-0.3843183219432831,1.6120672225952148,-1.283015251159668,0.9907984137535095,0.8667612075805664,-0.6761484742164612,0.5967791676521301,0.39285460114479065,0.1905285120010376,0.9080405235290527,-1.2161418199539185,-0.10203854739665985,0.708911657333374,-1.0894211530685425,1.1825780868530273,0.15636466443538666,-0.17355376482009888,-0.12346410006284714,-0.5739338994026184,-1.0542429685592651,-6.494897842407227,-0.32406437397003174,1.2080897092819214,0.40166154503822327,1.4245766401290894,1.5154483318328857,1.2217998504638672,0.8583518862724304,0.7861933708190918,-0.1395585536956787,3.4670348167419434,-0.10086049139499664,-1.352858543395996,0.39436107873916626,0.3732626140117645,3.2433526515960693,3.2148852348327637,-1.5044885873794556,-0.919353187084198,1.204939603805542,-0.019407307729125023,0.024971233680844307,-0.04508165270090103,1.5405983924865723,0.3148038387298584,3.164682149887085,0.5507506132125854,-1.150969386100769,0.7168413996696472,0.4944761097431183,-0.23273611068725586,-6.452826976776123,-0.7407267689704895,-0.636010468006134,0.1404910534620285,1.0047335624694824,-0.14565929770469666,-1.1751961708068848,0.5787279605865479,-0.1937258541584015,0.3301161825656891,1.3200459480285645,1.1447999477386475,1.5816619396209717,-0.49494436383247375,0.5772762298583984,1.6269546747207642,-1.105767011642456,1.012299656867981,-0.5619185566902161,0.12321723997592926,0.16687993705272675,1.1603755950927734,0.05946298688650131,-0.5162962079048157,-0.07321511209011078,0.31095561385154724,-1.1461143493652344,-1.0754739046096802,-0.14629721641540527,-1.5007022619247437,0.6230192184448242,1.28021240234375,-0.6185412406921387,1.0410394668579102,0.617005467414856,0.04647974297404289,0.3566235601902008,0.3419761061668396,-0.33632540702819824,-0.5705808401107788,0.4629625380039215,-1.019673466682434,1.8831671476364136,1.4925159215927124,-0.7558640837669373,-0.09545740485191345,3.270923614501953,1.1841081380844116,-0.9161236882209778,1.2815914154052734,-0.20423182845115662,0.7482748627662659,-1.0429521799087524,4.113795757293701,-1.199498176574707,0.7449553608894348,0.29013532400131226,3.1815435886383057,-1.3047481775283813,-0.24044226109981537,1.1857160329818726,1.6190937757492065,-0.025680556893348694,3.296839714050293,1.524247646331787,1.5552997589111328,-2.2550971508026123,0.1364334225654602,-0.2704790234565735,1.6526356935501099,-1.4847837686538696,1.1263055801391602,-0.15711693465709686,-0.011132480576634407,0.8205500245094299,0.2152635157108307,1.0250141620635986,0.9626573920249939,1.101618766784668,0.9617374539375305,0.8539650440216064,0.2145499438047409,1.0717108249664307,0.12674103677272797,0.5520081520080566,-3.6591031551361084,0.9032982587814331,1.585054636001587,-0.3249491751194,-0.5578653812408447,1.0806511640548706,0.9981961250305176,0.12122047692537308,0.29361575841903687,0.9938611388206482,0.8917751908302307,3.189847707748413,1.7172967195510864,-0.5551302433013916,2.8922481536865234,-0.6005050539970398,1.565539836883545,0.42185819149017334,0.129317969083786,2.174828290939331,1.0891200304031372,0.872138261795044,0.5558253526687622,0.24275393784046173,0.8398543000221252,0.561877429485321,0.39942482113838196,-0.13063587248325348,1.2213995456695557,0.4326670169830322,-0.633949339389801,0.5969832539558411,1.191412329673767,-0.6491784453392029,-3.698133707046509,1.1168768405914307,-0.650266706943512,-0.6923754811286926,0.15612570941448212,0.40394577383995056,-0.9155158996582031,1.0795713663101196,1.5243511199951172,1.0587884187698364,0.6570102572441101,0.6585113406181335,-0.962742805480957,1.0097583532333374,2.958705186843872,0.9516128897666931,-1.2271720170974731,1.0908700227737427,0.024057596921920776,0.35842379927635193,0.3787977993488312,-0.6994124054908752,0.2940683960914612,-1.184179425239563,1.1888412237167358,-1.4845609664916992,-0.5031415224075317,1.0120025873184204,1.1742713451385498,-2.584867000579834,0.8795785307884216,-0.4832055866718292,-0.41957059502601624,-6.296889305114746,1.221799612045288,0.438914030790329,3.3183693885803223,-1.4760799407958984,-0.8183420300483704,0.5424420833587646,-6.398439884185791,-1.1024150848388672,0.21098829805850983,1.7179661989212036,0.9296824932098389,0.011426654644310474,0.7456377148628235,0.8074168562889099,0.26437002420425415,1.1967593431472778,-0.04205486550927162,0.28614529967308044,1.1701037883758545,1.3986445665359497,-0.6612086892127991,-1.4765456914901733,-6.299746513366699,-6.494842529296875,-0.905929684638977,-2.360762596130371,1.5871012210845947,0.44990265369415283,0.017911143600940704,0.13932615518569946,-1.1958351135253906,1.659041404724121,-0.32126083970069885,1.0892399549484253,0.1440238058567047,-0.14279285073280334,0.5270262360572815,2.4464192390441895,1.4640666246414185,0.9722657799720764,-0.3573939800262451,-0.13991551101207733,-2.757411479949951,-0.4185986816883087,-2.2409186363220215,-0.014929456636309624,0.300953209400177,1.4640175104141235,-0.340068519115448,0.5093292593955994,-0.14704397320747375,0.08682934194803238,0.23419639468193054,0.9370614290237427,-0.8964095711708069,0.46856915950775146,1.1140989065170288,0.13300296664237976,-6.282361030578613,-1.4860303401947021,1.1892014741897583,0.5552446842193604,0.007398400455713272,1.5285367965698242,0.4838436543941498,1.64920973777771,1.2181109189987183,-0.4449270963668823,3.3064892292022705,1.1393218040466309,0.6932949423789978,0.4239037036895752,-1.522885799407959,0.29165101051330566,0.15590156614780426,1.7425421476364136,0.1779203712940216,0.9231142997741699,0.5912893414497375,-0.8834117650985718,0.11419585347175598,0.39698466658592224,0.676915168762207,1.02932870388031,1.3594096899032593,1.0729209184646606,3.487447500228882,1.5636283159255981,-0.6432469487190247,1.1938490867614746,-0.5940120220184326,-0.688051164150238,-0.17515531182289124,-0.06410639733076096,1.5050581693649292,0.4047319293022156,0.543907642364502,1.18125581741333,-0.616706132888794,0.4475582540035248,-0.6699825525283813,3.133059024810791,0.4264231026172638,-0.41692957282066345,-1.5308040380477905,1.159584879875183,0.8762810826301575,-0.4189499616622925,-0.4911680519580841,0.16876733303070068,0.05514824390411377,-1.5661940574645996,1.6068615913391113,1.1433194875717163,0.9512287974357605,0.8261080384254456,-0.4881293773651123,-0.22206982970237732,0.6992988586425781,0.8211879730224609,-0.05847703292965889,1.0402227640151978,0.69715815782547,0.21282440423965454,-1.184887409210205,0.5278200507164001,0.6634807586669922,-0.614720344543457,0.34701284766197205,0.4368608891963959,0.9202426075935364,-0.5773984789848328,0.6830713748931885,-0.5582374334335327,0.8443014621734619,-0.13825562596321106,0.41114529967308044,-1.3095576763153076,1.2925775051116943,0.2586365044116974,-3.6834471225738525,-0.5603978633880615,1.1147363185882568,-0.4499179720878601,0.5922614336013794,0.30915549397468567,0.5503897666931152,-0.40778452157974243,0.24114003777503967,0.4766499996185303,-0.5293048024177551,-0.4572460949420929,-0.5707362294197083,-0.884799063205719,-1.1921154260635376,-6.300121307373047,-0.4034654200077057,-0.943615198135376,-0.7019665837287903,-0.7750665545463562,0.35860830545425415,0.8895008563995361,1.3821768760681152,1.2799144983291626,0.5614728331565857,0.29760491847991943,-1.1049823760986328,0.5174558758735657,0.7000032067298889,1.1700154542922974,-6.2991132736206055,0.5207326412200928,1.4677512645721436,0.07537463307380676,-0.14411108195781708,0.30328312516212463,0.14429351687431335,0.36407920718193054,0.6105806231498718,1.6502617597579956,0.26895859837532043,1.1770014762878418,-1.0944985151290894,1.7238115072250366,-0.5137792825698853,-0.4151170253753662,0.5876226425170898,-0.6037055850028992,0.393296480178833,0.9273558259010315,-0.35713502764701843,-0.07459522783756256,0.35328829288482666,0.058902885764837265,-0.14499840140342712,-0.01592434011399746,0.19235152006149292,-0.16498981416225433,1.188380241394043,-0.8849132657051086,-0.004701878875494003,0.7402507066726685,0.08131791651248932,0.7239441871643066,1.7721980810165405,0.04699009656906128,-3.681645631790161,0.7175692319869995,-0.6593840718269348,1.069728136062622,0.7097044587135315,0.7883522510528564,-1.1599185466766357,0.6798994541168213,-0.44395607709884644,1.0236334800720215,1.167225956916809,0.4664963185787201,-6.289894104003906,1.3820801973342896,0.8434537053108215,0.7137118577957153,1.553637146949768,-0.5022795796394348,0.7832697629928589,-3.6900691986083984,-0.6928150653839111,1.0433424711227417,0.36644667387008667,-0.7925071716308594,0.8434475660324097,0.5283325910568237,0.35250934958457947,-0.5419471859931946,1.59581458568573,0.5361282825469971,1.1515743732452393,2.133695125579834,1.0802297592163086,2.300208568572998,0.8439953327178955,0.5900563597679138,3.277911424636841,-1.062461018562317,-0.32144269347190857,-1.0854851007461548,-0.07908961176872253,0.12459462136030197,0.3125537633895874,-0.6391096115112305,0.40199869871139526,0.20507729053497314,0.7763799428939819,-6.284698963165283,-0.08853359520435333,-1.5386887788772583,1.5782853364944458,-0.9134083390235901,0.29090774059295654,1.488930344581604,1.2088708877563477,-0.4392824172973633,0.18494093418121338,0.1365898996591568,-0.39570578932762146,0.33403390645980835,-3.697721242904663,-0.5643386244773865,1.0976417064666748,-1.506449818611145,0.9495265483856201,3.2278401851654053,-0.6380150318145752,-0.5328954458236694,1.3360823392868042,0.9469963908195496,-0.9397839903831482,1.0911296606063843,0.9618186354637146,1.3813601732254028,-1.5071865320205688,-0.658341109752655,0.6116997599601746,-0.20374968647956848,-0.515345573425293,0.9435358047485352,0.9190222024917603,1.222021222114563,0.4805527329444885,1.002363681793213,0.0565946139395237,1.137264370918274,0.46842268109321594,-0.787822425365448,-0.13975591957569122,0.9581905603408813,-0.4338690936565399,1.0682742595672607,0.35050448775291443,1.1891716718673706,-1.1028121709823608,0.8622075915336609,0.5086742043495178,0.5568806529045105,-0.5460095405578613,-1.035591959953308,1.5339288711547852,-1.0745956897735596,2.7193591594696045,1.5730708837509155,0.8444583415985107,0.6796648502349854,3.2431318759918213,0.4022389352321625,-0.35336199402809143,-0.13126105070114136,1.7283039093017578,-0.009816688485443592,0.09949225187301636,0.4084196984767914,0.8022145628929138,1.076286792755127,-0.7336267828941345,-0.5737673044204712,-0.6150423884391785,-0.1347932517528534,0.48919054865837097,0.2001124918460846,3.377912998199463,0.6683173775672913,-0.3213449716567993,0.472480833530426,0.7322783470153809,-0.09692580997943878,0.7842805981636047,-0.19537366926670074,1.0870742797851562,0.8822492957115173,-0.3183303773403168,0.46665531396865845,0.2653683125972748,0.6679573059082031,1.0870270729064941,0.7793228626251221,-0.6345043778419495,1.1329909563064575,1.4311901330947876,1.6003190279006958,-6.2954535484313965,-0.6617954969406128,-1.2150962352752686,0.4470084011554718,-0.6172199249267578,-0.6457114815711975,0.4560890793800354,0.38004443049430847,-0.12763473391532898,1.6143451929092407,0.3267531991004944,0.42123380303382874,1.129499077796936,-0.3511062264442444,-0.02984585426747799,1.4869304895401,0.11773931980133057,1.6997889280319214,0.692091703414917,1.3180104494094849,1.5428467988967896,0.6707374453544617,0.9045591950416565,-1.4751472473144531,0.10101599246263504,0.21445366740226746],\"y\":[13.677679061889648,13.655888557434082,13.262944221496582,12.566560745239258,13.767285346984863,11.743343353271484,12.95692253112793,12.50987720489502,13.150912284851074,11.81850814819336,11.390934944152832,11.719245910644531,13.562973022460938,11.97006893157959,12.879610061645508,8.792695045471191,13.395414352416992,9.17170524597168,13.647626876831055,13.573931694030762,13.755388259887695,13.502853393554688,11.664420127868652,10.787537574768066,12.893638610839844,12.291483879089355,13.911911964416504,13.129416465759277,12.810127258300781,13.420234680175781,12.867534637451172,12.320358276367188,12.70029354095459,12.973390579223633,11.845561981201172,12.783258438110352,12.523942947387695,13.548519134521484,13.075483322143555,12.952016830444336,13.695453643798828,12.52713394165039,12.173596382141113,13.331636428833008,9.809539794921875,13.171528816223145,12.600899696350098,13.254615783691406,12.251201629638672,13.015270233154297,13.0133695602417,13.518281936645508,13.452184677124023,13.453314781188965,12.538224220275879,11.574872970581055,13.518789291381836,12.349365234375,13.626747131347656,13.017556190490723,12.219778060913086,13.009573936462402,13.293027877807617,13.015755653381348,12.90372371673584,13.414410591125488,13.378338813781738,12.486573219299316,7.921916484832764,13.026423454284668,13.200093269348145,13.653000831604004,13.818294525146484,13.229490280151367,11.715614318847656,14.096172332763672,13.565603256225586,8.009538650512695,13.146879196166992,13.225911140441895,13.208674430847168,13.436585426330566,11.858461380004883,13.733643531799316,13.502145767211914,13.774187088012695,13.359535217285156,13.522379875183105,12.557689666748047,12.950028419494629,13.570413589477539,13.082785606384277,10.850234985351562,11.744455337524414,12.007987022399902,12.62185001373291,13.803536415100098,12.818504333496094,12.573151588439941,8.833932876586914,11.77745532989502,12.420815467834473,12.589837074279785,13.039236068725586,12.919476509094238,13.207801818847656,13.932300567626953,13.519217491149902,13.42731761932373,13.207245826721191,12.984095573425293,12.524809837341309,9.251421928405762,13.116800308227539,12.443472862243652,12.41325855255127,13.514193534851074,13.078024864196777,13.516989707946777,13.54955005645752,11.231289863586426,13.74943733215332,13.554268836975098,12.303651809692383,13.578245162963867,13.20955753326416,11.640734672546387,14.025668144226074,13.660346984863281,12.870412826538086,13.370219230651855,13.490861892700195,12.633125305175781,12.97693920135498,12.510111808776855,13.550481796264648,12.405316352844238,12.152786254882812,13.019698143005371,11.734877586364746,13.182083129882812,13.91086196899414,12.330331802368164,13.463641166687012,11.66196346282959,13.108182907104492,13.486212730407715,12.580585479736328,6.090724945068359,13.682252883911133,12.421770095825195,12.547338485717773,13.490808486938477,13.322096824645996,12.775350570678711,13.790657043457031,11.584049224853516,12.491575241088867,12.488426208496094,13.052155494689941,14.071845054626465,9.078482627868652,11.518560409545898,12.65756893157959,13.29279613494873,13.138429641723633,13.030069351196289,13.816085815429688,13.051994323730469,13.091802597045898,13.737282752990723,13.181270599365234,8.20371150970459,12.87701416015625,11.913125991821289,11.745348930358887,13.803365707397461,13.337658882141113,11.211570739746094,13.553223609924316,12.5614013671875,11.716207504272461,12.41358470916748,13.516770362854004,13.280450820922852,12.14863109588623,12.973233222961426,12.762405395507812,11.851919174194336,13.215635299682617,12.518559455871582,12.16225528717041,13.25541877746582,13.710224151611328,13.490800857543945,13.550817489624023,12.791092872619629,12.962456703186035,13.202339172363281,12.999984741210938,11.746251106262207,13.804409980773926,12.895989418029785,12.78115463256836,11.93836498260498,12.542415618896484,13.409139633178711,13.444405555725098,11.820575714111328,11.744124412536621,13.769636154174805,11.539719581604004,13.504414558410645,13.3350830078125,14.759003639221191,13.136980056762695,13.482667922973633,13.613256454467773,13.29248046875,12.895350456237793,11.78809928894043,12.423627853393555,13.655558586120605,12.945683479309082,12.32706069946289,13.451447486877441,13.636448860168457,13.701719284057617,13.569758415222168,8.994124412536621,13.540279388427734,13.56045913696289,11.995792388916016,9.345202445983887,12.903793334960938,12.932804107666016,13.032281875610352,13.30992603302002,12.837956428527832,13.50227165222168,13.439702033996582,12.999124526977539,9.401592254638672,13.062667846679688,6.453275680541992,11.980936050415039,13.075900077819824,14.247884750366211,13.335601806640625,12.680791854858398,12.44997787475586,13.797383308410645,12.549121856689453,12.352255821228027,13.326920509338379,13.30579948425293,13.655060768127441,13.702390670776367,12.55128002166748,12.9359130859375,14.758519172668457,8.995509147644043,11.304017066955566,12.815841674804688,12.829636573791504,13.249711036682129,12.595621109008789,13.24620246887207,12.326032638549805,12.948566436767578,11.618546485900879,12.291244506835938,12.482826232910156,12.923507690429688,13.408421516418457,13.2908935546875,13.655998229980469,12.902504920959473,12.57989501953125,12.070545196533203,12.248218536376953,13.803481101989746,11.954442977905273,13.46476936340332,13.499079704284668,12.58380126953125,13.275616645812988,13.200970649719238,13.201860427856445,12.9808931350708,14.018777847290039,13.743437767028809,12.453868865966797,12.793892860412598,12.902922630310059,13.532755851745605,13.113907814025879,8.93903636932373,13.329543113708496,13.439054489135742,12.470551490783691,13.53486156463623,13.330899238586426,12.411484718322754,13.441609382629395,12.742554664611816,13.32552719116211,11.371041297912598,8.945752143859863,13.660857200622559,14.226075172424316,12.081664085388184,13.520421028137207,13.41614818572998,12.464776039123535,13.567676544189453,13.527286529541016,12.643985748291016,13.068699836730957,13.216858863830566,12.650701522827148,13.139244079589844,12.512882232666016,12.798819541931152,12.198383331298828,13.022616386413574,13.593039512634277,12.582094192504883,13.67920207977295,13.341672897338867,13.011056900024414,12.27306842803955,13.727855682373047,12.576173782348633,12.086705207824707,11.55115032196045,13.210870742797852,12.824822425842285,12.67156982421875,5.509861946105957,12.823780059814453,11.857857704162598,13.610370635986328,13.849413871765137,13.1878080368042,13.805506706237793,13.598381996154785,12.608633995056152,12.787452697753906,9.94031810760498,12.763741493225098,13.593873977661133,13.014764785766602,12.391925811767578,13.342605590820312,12.931010246276855,13.07156753540039,13.369619369506836,13.5538911819458,13.659696578979492,12.908758163452148,13.51943302154541,13.748614311218262,13.811984062194824,13.135988235473633,13.410883903503418,12.450140953063965,12.623348236083984,12.907820701599121,11.966936111450195,13.070608139038086,12.273122787475586,12.714008331298828,13.002514839172363,14.756314277648926,7.981460094451904,13.082613945007324,13.826927185058594,13.464397430419922,12.49341869354248,13.287935256958008,12.921224594116211,13.51645565032959,12.995725631713867,12.87771224975586,13.53363037109375,13.24919319152832,13.406877517700195,13.19095516204834,12.946459770202637,12.594010353088379,12.98238754272461,12.782626152038574,13.508532524108887,12.450119972229004,12.430437088012695,13.598041534423828,13.770143508911133,12.330856323242188,12.480655670166016,8.948918342590332,12.694252014160156,13.513845443725586,13.832245826721191,11.843084335327148,12.956310272216797,12.89551067352295,12.759398460388184,12.338560104370117,12.223119735717773,13.543274879455566,12.163000106811523,13.13674545288086,12.930078506469727,13.488232612609863,12.425467491149902,13.59100341796875,12.369537353515625,13.475984573364258,12.525201797485352,11.803492546081543,12.850822448730469,6.517593860626221,12.877142906188965,11.781853675842285,11.145589828491211,13.479118347167969,13.479827880859375,13.628228187561035,13.516546249389648,13.134882926940918,11.828426361083984,12.683295249938965,13.457094192504883,8.994477272033691,11.748403549194336,8.931856155395508,13.736185073852539,13.05339527130127,13.112512588500977,12.550307273864746,13.120370864868164,12.452558517456055,13.30218505859375,12.564172744750977,13.694019317626953,12.550878524780273,13.027037620544434,12.95309066772461,11.74386978149414,13.685751914978027,13.227237701416016,13.479411125183105,12.366031646728516,6.822927951812744,13.260220527648926,13.73309326171875,13.825907707214355,11.798551559448242,12.280847549438477,13.305596351623535,13.18059253692627,12.842144012451172,13.607069969177246,12.020156860351562,13.58043098449707,12.947457313537598,13.794829368591309,12.126607894897461,13.103018760681152,13.516855239868164,12.988574981689453,11.738321304321289,12.400142669677734,13.469622611999512,13.10211181640625,13.830904960632324,13.803703308105469,13.357961654663086,8.941047668457031,13.705370903015137,13.979130744934082,12.739357948303223,12.107269287109375,13.656083106994629,13.490874290466309,13.515300750732422,12.53690242767334,12.278188705444336,13.145381927490234,12.30594253540039,13.11217212677002,13.376461029052734,13.278154373168945,11.892354965209961,13.411370277404785,13.357720375061035,12.29334831237793,12.488697052001953,11.087392807006836,9.174793243408203,13.12114143371582,13.25369644165039,13.52184009552002,12.706998825073242,12.930346488952637,13.480834007263184,13.727680206298828,12.41395378112793,11.497065544128418,12.885049819946289,13.310420036315918,12.981630325317383,13.583768844604492,13.45055866241455,14.001185417175293,12.942221641540527,13.806401252746582,12.967695236206055,13.154572486877441,9.009071350097656,13.138842582702637,12.995410919189453,13.479267120361328,13.456291198730469,11.744922637939453,12.775192260742188,13.189237594604492,12.928187370300293,13.45670223236084,13.597652435302734,12.604215621948242,13.34786605834961,13.549153327941895,12.99044132232666,12.718225479125977,12.4683256149292,13.439661979675293,13.630661964416504,13.370537757873535,13.693526268005371,12.85300350189209,13.80208683013916,11.742350578308105,14.755867958068848,13.894618034362793,13.536605834960938,13.63196849822998,13.389765739440918,11.898460388183594,13.389705657958984,12.977375030517578,12.727041244506836,13.046677589416504,13.673752784729004,13.821924209594727,12.34658145904541,8.944583892822266,12.509673118591309,12.614446640014648,12.50473403930664,11.978856086730957,11.497907638549805,13.804524421691895,12.231074333190918,6.8374104499816895,13.041321754455566,12.066984176635742,13.695011138916016,12.985164642333984,13.627642631530762,13.477492332458496,13.560644149780273,12.945677757263184,12.826883316040039,11.690938949584961,12.56789493560791,13.384326934814453,13.482317924499512,11.900315284729004,12.851174354553223,11.665523529052734,13.868091583251953,13.260889053344727,13.26259708404541,9.010412216186523,13.119146347045898,9.2964506149292,12.408550262451172,13.996377944946289,14.044854164123535,12.51858901977539,12.806007385253906,12.974478721618652,13.450994491577148,13.053997993469238,13.118390083312988,13.426352500915527,12.965052604675293,13.35764217376709,12.418482780456543,13.230507850646973,13.379863739013672,13.70651626586914,11.831212997436523,13.149466514587402,12.122528076171875,11.891227722167969,8.935574531555176,13.353630065917969,12.475375175476074,13.02987003326416,12.7158842086792,12.43908977508545,13.789278984069824,11.722322463989258,13.644047737121582,12.703314781188965,6.974062442779541,12.048981666564941,13.591344833374023,12.079031944274902,13.7737455368042,12.54641056060791,13.053522109985352,13.558975219726562,11.715373992919922,11.62092399597168,13.130517959594727,12.999441146850586,13.459678649902344,13.518377304077148,11.890073776245117,13.371519088745117,13.242338180541992,9.150429725646973,12.98360824584961,13.055978775024414,13.814543724060059,13.540640830993652,13.59794807434082,13.497121810913086,13.505419731140137,13.4397554397583,12.890084266662598,12.45963191986084,12.18389892578125,13.10495662689209,11.887261390686035,13.192549705505371,12.794865608215332,12.564075469970703,13.214597702026367,13.060978889465332,13.384929656982422,12.84113597869873,13.10621452331543,12.996588706970215,12.456807136535645,13.508966445922852,12.909667015075684,13.487709999084473,13.429770469665527,12.566329002380371,13.215821266174316,13.390256881713867,13.064164161682129,12.087895393371582,12.944353103637695,13.320670127868652,12.596013069152832,13.49438762664795,13.312856674194336,12.778825759887695,12.636282920837402,13.745434761047363,13.474272727966309,13.801920890808105,11.909093856811523,12.243694305419922,12.615096092224121,12.871654510498047,12.307777404785156,11.954081535339355,13.539491653442383,13.772492408752441,13.172916412353516,13.035574913024902,12.510833740234375,13.353092193603516,12.463664054870605,12.609898567199707,13.237637519836426,12.306233406066895,13.478219985961914,13.475234031677246,13.462882995605469,12.32131290435791,11.629706382751465,13.4282808303833,13.706928253173828,12.163280487060547,12.960373878479004,12.785235404968262,12.298282623291016,13.58043384552002,12.52497673034668,13.177262306213379,13.429118156433105,12.195745468139648,12.491532325744629,12.575870513916016,13.564779281616211,9.383726119995117,13.969775199890137,11.90215015411377,13.79771900177002,13.290849685668945,13.912083625793457,12.508445739746094,13.448234558105469,12.333328247070312,13.8248291015625,13.875576972961426,13.704733848571777,11.615479469299316,13.149288177490234,13.49219799041748,13.727402687072754,11.656628608703613,12.93477725982666,12.527861595153809,13.135658264160156,13.440088272094727,13.50938606262207,12.556533813476562,13.236959457397461,13.497194290161133,13.576013565063477,13.045802116394043,12.388428688049316,12.522260665893555,11.886526107788086,12.226038932800293,13.046111106872559,12.032819747924805,13.43515396118164,12.968175888061523,13.595268249511719,13.744601249694824,13.695640563964844,12.200963973999023,12.524313926696777,12.291252136230469,13.723681449890137,12.56515121459961,12.72391128540039,13.500711441040039,11.898991584777832,13.472124099731445,7.825507164001465,12.50894546508789,13.26192855834961,13.4822998046875,12.860128402709961,13.748540878295898,13.62466049194336,13.353074073791504,13.067229270935059,13.70989990234375,12.797473907470703,13.12861156463623,12.65263843536377,11.69443416595459,12.69293212890625,9.661547660827637,13.369582176208496,13.800826072692871,12.826675415039062,12.504555702209473,13.0986328125,12.493658065795898,9.023582458496094,12.55462646484375,13.029523849487305,13.80262565612793,9.293753623962402,12.000271797180176,12.90186595916748,12.482780456542969,12.282449722290039,12.35399055480957,9.405950546264648,12.373501777648926,13.13187313079834,11.853487014770508,12.826634407043457,13.103290557861328,12.03477954864502,11.831936836242676,13.337310791015625,12.779607772827148,12.4542875289917,8.767635345458984,13.734077453613281,13.488015174865723,13.570646286010742,13.629650115966797,12.994884490966797,12.466449737548828,12.776549339294434,12.67050838470459,12.961263656616211,13.591537475585938,8.921304702758789,12.230552673339844,13.059415817260742,13.407292366027832,13.56972885131836,13.530454635620117,12.90297794342041,12.691855430603027,13.778650283813477,13.378302574157715,12.643182754516602,9.52429485321045,14.400811195373535,13.520455360412598,13.890326499938965,12.538171768188477,12.560646057128906,13.763797760009766,12.915681838989258,6.710525035858154,13.0252046585083,12.321457862854004,12.80105209350586,11.757524490356445,13.188369750976562,12.869956970214844,13.083633422851562,13.497475624084473,13.621386528015137,13.521455764770508,12.790731430053711,13.588473320007324,13.600196838378906,13.663167953491211,9.01303768157959,13.669492721557617,12.531736373901367,12.926371574401855,12.708739280700684,13.684382438659668,13.794341087341309,13.570582389831543,13.139649391174316,12.46987533569336,12.518863677978516,13.44998550415039,11.627348899841309,13.241097450256348,13.402887344360352,12.035518646240234,12.575139999389648,12.705818176269531,13.629313468933105,13.619342803955078,13.602551460266113,12.910836219787598,9.37623405456543,12.064554214477539,13.705227851867676,11.878433227539062,13.270792961120605,13.589522361755371,13.683907508850098,7.998456954956055,12.467574119567871,13.409149169921875,12.694519996643066,11.744780540466309,10.50092887878418,13.481372833251953,9.4109525680542,11.90523624420166,12.248932838439941,13.750567436218262,11.681402206420898,12.0514554977417,13.180691719055176,12.77674388885498,13.036384582519531,12.862531661987305,12.032248497009277,12.167980194091797,13.443219184875488,13.745885848999023,12.512564659118652,12.286053657531738,12.350510597229004,12.952094078063965,11.94894027709961,11.981603622436523,11.742823600769043,11.62476634979248,12.365917205810547,9.31047248840332,13.06731128692627,11.798535346984863,12.902915954589844,12.22199535369873,12.531001091003418,12.041354179382324,13.34924030303955,13.848381042480469,12.765506744384766,13.428098678588867,12.796180725097656,13.359611511230469,12.6602144241333,12.184316635131836,13.12703800201416,13.480961799621582,9.283263206481934,13.014357566833496,11.858728408813477,12.759344100952148,8.158963203430176,12.86233901977539,13.403703689575195,12.128442764282227,13.036083221435547,12.507501602172852,12.542059898376465,13.322367668151855,11.620326042175293,12.453232765197754,13.688711166381836,7.866756439208984,11.740191459655762,11.851324081420898,13.492874145507812,12.981842994689941,12.88370132446289,13.107632637023926,11.887316703796387,13.12661361694336,13.54168701171875,13.431060791015625,9.415928840637207,13.087761878967285,13.465846061706543,13.473029136657715,11.906522750854492,12.066808700561523,13.672637939453125,12.804076194763184,12.227770805358887,13.499146461486816,13.396391868591309,13.777124404907227,13.546905517578125,13.411703109741211,13.293793678283691,13.175670623779297,12.361584663391113,13.455479621887207,14.117325782775879,13.063101768493652,13.047266960144043,13.740944862365723,12.944796562194824,13.179326057434082,12.234393119812012,12.93248462677002,12.80765151977539,13.7683687210083,13.332755088806152,13.640436172485352,13.0046968460083,13.502947807312012,12.518834114074707,13.865995407104492,12.422272682189941,13.126897811889648,11.863327026367188,13.603155136108398,12.994996070861816,13.012551307678223,13.327425956726074,13.65098762512207,12.21037769317627,12.273419380187988,13.070383071899414,12.685370445251465,12.189714431762695,12.237181663513184,13.367206573486328,13.247742652893066,13.241600036621094,12.47734260559082,11.90627384185791,12.921127319335938,12.753488540649414,13.839203834533691,5.287118434906006,12.81524658203125,12.581549644470215,12.389259338378906,13.442246437072754,12.452954292297363,12.047077178955078,12.977705955505371,13.56706714630127,13.074915885925293,12.418455123901367,12.514724731445312,12.543645858764648,12.480386734008789,14.144172668457031,11.836028099060059,8.937304496765137,13.449531555175781,13.021625518798828,11.910736083984375,12.070595741271973,13.175932884216309,8.848956108093262,7.0495171546936035,13.12789249420166,13.171653747558594,11.733955383300781,13.38469123840332,13.576300621032715,11.624197959899902,12.39238166809082,11.742338180541992,11.147810935974121,12.788667678833008,13.035513877868652,13.180992126464844,13.519868850708008,12.382402420043945,12.922219276428223,13.192522048950195,12.789581298828125,13.642183303833008,12.295769691467285,12.786065101623535,12.981669425964355,13.697803497314453,11.742941856384277,13.487120628356934,12.98986530303955,12.208372116088867,12.636539459228516,12.970012664794922,12.786221504211426,12.489275932312012,11.987796783447266,12.0005464553833,12.997110366821289,13.688117980957031,11.553016662597656,14.425889015197754,13.552040100097656,12.947210311889648,13.043441772460938,13.452983856201172,13.58238410949707,13.571629524230957,9.868969917297363,13.317570686340332,13.362772941589355,12.861654281616211,13.48615837097168,12.918807029724121,12.417591094970703,13.468926429748535,7.803873538970947,13.767433166503906,12.915483474731445,11.973943710327148,13.864334106445312,13.174646377563477,13.123075485229492,12.84224796295166,9.002239227294922,13.315914154052734,13.101383209228516,12.700404167175293,13.12350845336914,13.022260665893555,12.011185646057129,13.256373405456543,13.291523933410645,12.956991195678711,13.676583290100098,13.45779800415039,11.748679161071777,12.91724967956543,12.423918724060059,13.168313026428223,12.484702110290527,12.987771034240723,12.66987133026123,8.937837600708008,12.880447387695312,12.557161331176758,12.453703880310059,12.485788345336914,12.325691223144531,12.55837345123291,13.626006126403809,13.299559593200684,12.310190200805664,13.06885814666748,13.420866966247559,13.228870391845703,12.4407377243042,13.288877487182617,12.467809677124023,13.537311553955078,9.437737464904785,12.480234146118164,13.340047836303711,12.283333778381348,13.534823417663574,12.939680099487305,11.815533638000488,12.648237228393555,11.808917045593262,13.508113861083984,12.97728157043457,11.755659103393555,12.681673049926758,12.462059020996094,13.01978588104248,13.799155235290527,13.541648864746094,12.71662712097168,12.49181079864502,13.25539779663086,12.743118286132812,7.858475685119629,13.092864036560059,12.887578964233398,9.00883674621582,13.411582946777344,13.71725082397461,11.8609619140625,12.867657661437988,9.375717163085938,13.416560173034668,13.379813194274902,12.072778701782227,12.26364803314209,13.587313652038574,12.923035621643066,13.395159721374512,12.903304100036621,11.906983375549316,12.951953887939453,13.127724647521973,13.248868942260742,13.311308860778809,12.32593822479248,13.034539222717285,13.017631530761719,11.762238502502441,12.542315483093262,12.875853538513184,13.691352844238281,12.589527130126953,12.3618745803833,13.004124641418457,13.545270919799805,13.414230346679688,12.481886863708496,12.755794525146484,11.899945259094238,12.054981231689453,12.482409477233887,12.57853889465332,13.481149673461914,13.571810722351074,8.005735397338867,13.132051467895508,12.598407745361328,11.565180778503418,12.736119270324707,12.024454116821289,12.788941383361816,9.47927474975586,12.57701587677002,11.842414855957031,13.495808601379395,13.487865447998047,12.858841896057129,13.01079273223877,13.516201972961426,12.490857124328613,13.160771369934082,13.490144729614258,13.040210723876953,12.957183837890625,12.678877830505371,13.46056079864502,12.803934097290039,9.325570106506348,12.480230331420898,13.350370407104492,13.520062446594238,13.24067497253418,12.7119722366333,12.971851348876953,13.451217651367188,13.432530403137207,13.472914695739746,13.458609580993652,11.853726387023926,13.567901611328125,13.216108322143555,12.17527961730957,12.446328163146973,12.967355728149414,9.260552406311035,12.537007331848145,12.509984016418457,11.744369506835938,12.479389190673828,13.0325927734375,13.577945709228516,12.341190338134766,12.508827209472656,13.505585670471191,13.696706771850586,13.5042724609375,12.222957611083984,12.816375732421875,11.89468765258789,12.090058326721191,13.283379554748535,12.925155639648438,12.504398345947266,13.544684410095215,12.655852317810059,13.007946014404297,12.515748023986816,12.912408828735352,13.033283233642578,13.240545272827148,11.889235496520996,12.673041343688965,12.696198463439941],\"type\":\"scattergl\"},{\"hoverinfo\":\"text\",\"marker\":{\"opacity\":0.5,\"size\":5},\"mode\":\"markers+text\",\"name\":\"3_foto_devolu\\u00e7\\u00e3o_defeito\",\"text\":[\"\",\"\",\"\",\"\",\"\",\"\",\"\",\"\",\"\",\"\",\"\",\"\",\"\",\"\",\"\",\"\",\"\",\"\",\"\",\"\",\"\",\"\",\"\",\"\",\"\",\"\",\"\",\"\",\"\",\"\",\"\",\"\",\"\",\"\",\"\",\"\",\"\",\"\",\"\",\"\",\"\",\"\",\"\",\"\",\"\",\"\",\"\",\"\",\"\",\"\",\"\",\"\",\"\",\"\",\"\",\"\",\"\",\"\",\"\",\"\",\"\",\"\",\"\",\"\",\"\",\"\",\"\",\"\",\"\",\"\",\"\",\"\",\"\",\"\",\"\",\"\",\"\",\"\",\"\",\"\",\"\",\"\",\"\",\"\",\"\",\"\",\"\",\"\",\"\",\"\",\"\",\"\",\"\",\"\",\"\",\"\",\"\",\"\",\"\",\"\",\"\",\"\",\"\",\"\",\"\",\"\",\"\",\"\",\"\",\"\",\"\",\"\",\"\",\"\",\"\",\"\",\"\",\"\",\"\",\"\",\"\",\"\",\"\",\"\",\"\",\"\",\"\",\"\",\"\",\"\",\"\",\"\",\"\",\"\",\"\",\"\",\"\",\"\",\"\",\"\",\"\",\"\",\"\",\"\",\"\",\"\",\"\",\"\",\"\",\"\",\"\",\"\",\"\",\"\",\"\",\"\",\"\",\"\",\"\",\"\",\"\",\"\",\"\",\"\",\"\",\"\",\"\",\"\",\"\",\"\",\"\",\"\",\"\",\"\",\"\",\"\",\"\",\"\",\"\",\"\",\"\",\"\",\"\",\"\",\"\",\"\",\"\",\"\",\"\",\"\",\"\",\"\",\"\",\"\",\"\",\"\",\"\",\"\",\"\",\"\",\"\",\"\",\"\",\"\",\"\",\"\",\"\",\"\",\"\",\"\",\"\",\"\",\"\",\"\",\"\",\"\",\"\",\"\",\"\",\"\",\"\",\"\",\"\",\"\",\"\",\"\",\"\",\"\",\"\",\"\",\"\",\"\",\"\",\"\",\"\",\"\",\"\",\"\",\"\",\"\",\"\",\"\",\"\",\"\",\"\",\"\",\"\",\"\",\"\",\"\",\"\",\"\",\"\",\"\",\"\",\"\",\"\",\"\",\"\",\"\",\"\",\"\",\"\",\"\",\"\",\"\",\"\",\"\",\"\",\"\",\"\",\"\",\"\",\"\",\"\",\"\",\"\",\"\",\"\",\"\",\"\",\"\",\"\",\"\",\"\",\"\",\"\",\"\",\"\",\"\",\"\",\"\",\"\",\"\",\"\",\"\",\"\",\"\",\"\",\"\",\"\",\"\",\"\",\"\",\"\",\"\",\"\",\"\",\"\",\"\",\"\",\"\",\"\",\"\",\"\",\"\",\"\",\"\",\"\",\"\",\"\",\"\",\"\",\"\",\"\",\"\",\"\",\"\",\"\",\"\",\"\",\"\",\"\",\"\",\"\",\"\",\"\",\"\",\"\",\"\",\"\",\"\",\"\",\"\",\"\",\"\",\"\",\"\",\"\",\"\",\"\",\"\",\"\",\"\",\"\",\"\",\"\",\"\",\"\",\"\",\"\",\"\",\"\",\"\",\"\",\"\",\"\",\"\",\"\",\"\",\"\",\"\",\"\",\"\",\"\",\"\",\"\",\"\",\"\",\"\",\"\",\"\",\"\",\"\",\"\",\"\",\"\",\"\",\"\",\"\",\"\",\"\",\"\",\"\",\"\",\"\",\"\",\"\",\"\",\"\",\"\",\"\",\"\",\"\",\"\",\"\",\"\",\"\",\"\",\"\",\"\",\"\",\"\",\"\",\"\",\"\",\"\",\"\",\"\",\"\",\"\",\"\",\"\",\"\",\"\",\"\",\"\",\"\",\"\",\"\",\"\",\"\",\"\",\"\",\"\",\"\",\"\",\"\",\"\",\"\",\"\",\"\",\"\",\"\",\"\",\"\",\"\",\"\",\"\",\"\",\"\",\"\",\"\",\"\",\"\",\"\",\"\",\"\",\"\",\"\",\"\",\"\",\"\",\"\",\"\",\"\",\"\",\"\",\"\",\"\",\"\",\"\",\"\",\"\",\"\",\"\",\"\",\"\",\"\",\"\",\"\",\"\",\"\",\"\",\"\",\"\",\"\",\"\",\"\",\"\",\"\",\"\",\"\",\"\",\"\",\"\",\"\",\"\",\"\",\"\",\"\",\"\",\"\",\"\",\"\",\"\",\"\",\"\",\"\",\"\",\"\",\"\",\"\",\"\",\"\",\"\",\"\",\"\",\"\",\"\",\"\",\"\",\"\",\"\",\"\",\"\",\"\",\"\",\"\",\"\",\"\",\"\",\"\",\"\",\"\",\"\",\"\",\"\",\"\",\"\",\"\",\"\",\"\",\"\",\"\",\"\",\"\",\"\",\"\",\"\",\"\",\"\",\"\",\"\",\"\",\"\",\"\",\"\",\"\",\"\",\"\",\"\",\"\",\"\",\"\",\"\",\"\",\"\",\"\",\"\",\"\",\"\",\"\",\"\",\"\",\"\",\"\",\"\",\"\",\"\",\"\",\"\",\"\",\"\",\"\",\"\",\"\",\"\",\"\",\"\",\"\",\"\",\"\",\"\",\"\",\"\",\"\",\"\",\"\",\"\",\"\",\"\",\"\",\"\",\"\",\"\",\"\",\"\",\"\",\"\",\"\",\"\",\"\",\"\",\"\",\"\",\"\",\"\",\"\",\"\",\"\",\"\",\"\",\"\",\"\",\"\",\"\",\"\",\"\",\"\",\"\",\"\",\"\",\"\",\"\",\"\",\"\",\"\",\"\",\"\",\"\",\"\",\"\",\"\",\"\",\"\",\"\",\"\",\"\",\"\",\"\",\"\",\"\",\"\",\"\",\"\",\"\",\"\",\"\",\"\",\"\",\"\",\"\",\"\",\"\",\"\",\"\",\"\",\"\",\"\",\"\",\"\",\"\",\"\",\"\",\"\",\"\",\"\",\"\",\"\",\"\",\"\",\"\",\"\",\"\",\"\",\"\",\"\",\"\",\"\",\"\",\"\",\"\",\"\",\"\",\"\",\"\",\"\",\"\",\"\",\"\",\"\",\"\",\"\",\"\",\"\",\"\",\"\",\"\",\"\",\"\",\"\",\"\",\"\",\"\",\"\",\"\",\"\",\"\",\"\",\"\",\"\",\"\",\"\",\"\",\"\",\"\",\"\",\"\",\"\",\"\",\"\",\"\",\"\",\"\",\"\",\"\",\"\",\"\",\"\",\"\",\"\",\"\",\"\",\"\",\"\",\"\",\"\",\"\",\"\",\"\",\"\",\"\",\"\",\"\",\"\",\"\",\"\",\"\",\"\",\"\",\"\",\"\",\"\",\"\",\"\",\"\",\"\",\"\",\"\",\"\",\"\",\"\",\"\",\"\",\"\",\"\",\"\",\"\",\"\",\"\",\"\",\"\",\"\",\"\",\"\",\"\",\"\",\"\",\"\",\"\",\"\",\"\",\"\",\"\",\"\",\"\",\"\",\"\",\"\",\"\",\"\",\"\",\"\",\"\",\"\",\"\",\"\",\"\",\"\",\"\",\"\",\"\",\"\",\"\",\"\",\"\",\"\",\"\",\"\",\"\",\"\",\"\",\"\",\"\",\"\",\"\",\"\",\"\",\"\",\"\",\"\",\"\",\"\",\"\",\"\",\"\",\"\",\"\",\"\",\"\",\"\",\"\",\"\",\"\",\"\",\"\",\"\",\"\",\"\",\"\",\"\",\"\",\"\",\"\",\"\",\"\",\"\",\"\",\"\",\"\",\"\",\"\",\"\",\"\",\"\",\"\",\"\",\"\",\"\",\"\",\"\",\"\",\"\",\"\",\"\",\"\",\"\",\"\",\"\",\"\",\"\",\"\",\"\",\"\",\"\",\"\",\"\",\"\",\"\",\"\",\"\",\"\",\"\",\"\",\"\",\"\",\"\",\"\",\"\",\"\",\"\",\"\",\"\",\"\",\"\",\"\",\"\",\"\",\"\",\"\",\"\",\"\",\"\",\"\",\"\",\"\",\"\",\"\",\"\",\"\",\"\",\"\",\"\",\"\",\"\",\"\",\"\",\"\",\"\",\"\",\"\",\"\",\"\",\"\",\"\",\"\",\"\",\"\",\"\",\"\",\"\",\"\",\"\",\"\",\"\",\"\",\"\",\"\",\"\",\"\",\"\",\"\",\"\",\"\",\"\",\"\",\"\",\"\",\"\",\"\",\"\",\"\",\"\",\"\",\"\",\"\",\"\",\"\",\"\",\"\",\"\",\"\",\"\",\"\",\"\",\"\",\"\",\"\",\"\",\"\",\"\",\"\",\"\",\"\",\"\",\"\",\"\",\"\",\"\",\"\",\"\",\"\",\"\",\"\",\"\",\"\",\"\",\"\",\"\",\"\",\"\",\"\",\"\",\"\",\"\",\"\",\"\",\"\",\"\",\"\",\"\",\"\",\"\",\"\",\"\",\"\",\"\",\"\",\"\",\"\",\"\",\"\",\"\",\"\",\"\",\"\",\"\",\"\",\"\",\"\",\"\",\"\",\"\",\"\",\"\",\"\",\"\",\"\",\"\",\"\",\"\",\"\",\"\",\"\",\"\",\"\",\"\",\"\",\"\",\"\",\"\",\"\",\"\",\"\",\"\",\"\",\"\",\"\",\"\",\"\",\"\",\"\",\"\",\"\",\"\",\"\",\"\",\"\",\"\",\"\",\"\",\"\",\"\",\"\",\"\",\"\",\"\",\"\",\"\",\"\",\"\",\"\",\"\",\"\",\"\",\"\",\"\",\"\",\"\",\"\",\"\",\"\",\"\",\"\",\"\",\"\",\"\",\"\",\"\",\"\",\"\",\"\",\"\",\"\",\"\",\"\",\"\",\"\",\"\",\"\",\"\",\"\",\"\",\"\",\"\",\"\",\"\",\"\",\"\",\"\",\"\",\"\",\"\",\"\",\"\",\"\",\"\",\"\",\"\",\"\",\"\",\"\",\"\",\"\",\"\",\"\",\"\",\"\",\"\",\"\",\"\",\"\",\"\",\"\",\"\",\"\",\"\",\"\",\"\",\"\",\"\",\"\",\"\",\"\",\"\",\"\",\"\",\"\",\"\",\"\",\"\",\"\",\"\",\"\",\"\",\"\",\"\",\"\",\"\",\"\",\"\",\"\",\"3_foto_devolu\\u00e7\\u00e3o_defeito\"],\"textfont\":{\"size\":12},\"x\":[2.546038866043091,4.564063549041748,0.45889371633529663,0.18533875048160553,-1.4695918560028076,-0.8242520689964294,-2.4099326133728027,-1.962019681930542,-3.679638385772705,1.409654974937439,-1.1265122890472412,0.5079880952835083,-1.3612048625946045,-1.2388375997543335,-0.0009352288907393813,0.7249496579170227,0.4256329834461212,-1.2053595781326294,3.1177403926849365,-0.7207777500152588,2.6700384616851807,3.1308300495147705,-0.8859910368919373,-0.13552303612232208,1.7941856384277344,3.3692736625671387,2.246114492416382,-1.845167875289917,-0.5892594456672668,-0.7422552108764648,2.341622829437256,0.5564486980438232,1.3714666366577148,1.6373621225357056,-0.9969801902770996,0.5205169916152954,0.480100154876709,-2.5910391807556152,0.5115721225738525,1.6699821949005127,4.560009002685547,3.018709182739258,3.353501796722412,2.2317678928375244,-0.06008829548954964,2.9375624656677246,0.805993914604187,-0.3407224416732788,-2.273984432220459,0.0858997330069542,-0.8089901804924011,0.7960104942321777,0.563897430896759,1.8859646320343018,0.732395589351654,-2.3599720001220703,-1.8661558628082275,3.132795572280884,2.6020798683166504,-0.188520610332489,0.5427290201187134,2.9653730392456055,-0.7513853311538696,-3.235804796218872,-0.40620675683021545,-0.8250485062599182,0.5681209564208984,-2.5038626194000244,0.46067914366722107,-0.7701733708381653,0.16617117822170258,0.7108524441719055,-2.4975497722625732,0.7133833169937134,-0.9076732397079468,0.64388108253479,2.578343152999878,2.943375587463379,0.5535279512405396,-0.8280528783798218,0.6922365427017212,-0.2419704794883728,0.4468182325363159,-2.447334051132202,1.059614658355713,0.5530024170875549,2.1805641651153564,-0.25425028800964355,0.496497243642807,-1.8973383903503418,2.223461151123047,0.11947609484195709,1.9383139610290527,-0.8992787003517151,0.6193063855171204,-2.5413718223571777,-2.561342716217041,0.6804143786430359,0.5931904911994934,0.538776695728302,0.4295019209384918,0.8381586074829102,-0.1737300604581833,4.480221748352051,0.840359091758728,0.745836615562439,0.7924984097480774,0.6429504156112671,0.3715082108974457,3.2487952709198,-1.4621226787567139,-0.7718084454536438,0.4975159168243408,4.693081378936768,0.3499041795730591,-2.5048182010650635,0.05614243075251579,-2.5966386795043945,-1.1492599248886108,2.1330864429473877,-2.3393428325653076,0.5210832953453064,2.185302734375,-0.08926690369844437,-1.5310431718826294,-0.06439389288425446,2.6077821254730225,-2.5487008094787598,-2.4866154193878174,0.08986671268939972,1.6249817609786987,3.145577907562256,-1.0971300601959229,-0.06703533977270126,1.8724175691604614,-1.2934280633926392,0.6031320691108704,0.5895315408706665,2.700960159301758,3.2020468711853027,-1.925984263420105,0.721084713935852,0.05388117954134941,-4.627511024475098,1.7413791418075562,3.4871902465820312,0.4657405614852905,-0.9137013554573059,1.7668808698654175,0.8276814818382263,0.3534836173057556,-0.3920070230960846,-2.039482831954956,2.9593868255615234,0.5745738744735718,3.2680881023406982,1.095928430557251,0.4812849760055542,1.8246054649353027,-2.494095802307129,0.6959078907966614,3.1348390579223633,0.693814754486084,-0.2048693299293518,1.407326102256775,2.8930816650390625,0.4651249647140503,1.2794039249420166,0.4432501792907715,0.5841351747512817,0.4657117426395416,0.5380522608757019,-1.4446189403533936,-1.061760663986206,1.588796854019165,-1.251955270767212,0.6226157546043396,-1.081961750984192,-0.08395635336637497,-1.132818579673767,0.13318246603012085,1.5955939292907715,-0.14578849077224731,-0.36414656043052673,0.32593685388565063,0.5896878242492676,0.7060410380363464,0.7196537852287292,-0.9889826774597168,1.7304494380950928,-1.2402757406234741,-2.5332891941070557,0.413337767124176,-0.29453229904174805,1.0850943326950073,0.5906515717506409,1.038636326789856,0.5512412786483765,0.2881672978401184,3.1444520950317383,0.720319926738739,2.6358659267425537,0.008042515255510807,-0.8100883364677429,3.046654462814331,1.5737112760543823,-1.1907588243484497,-1.320844292640686,0.529486358165741,-2.6923441886901855,-0.6456875205039978,-0.3741360604763031,3.1887073516845703,-0.575106680393219,-2.123802661895752,1.41351318359375,0.8535897135734558,0.4893178939819336,0.4576830267906189,-0.3368663787841797,0.30080199241638184,0.6048495769500732,3.321166753768921,-0.601909339427948,3.14036226272583,-2.519153118133545,-0.7710159420967102,-0.9508125185966492,2.566432237625122,0.7894786596298218,-2.0830633640289307,0.7663986682891846,-0.3205178678035736,0.2580491900444031,-0.5965492129325867,0.34692543745040894,0.506114661693573,0.9261160492897034,-0.17253230512142181,0.8314098715782166,3.096856117248535,-1.1244397163391113,-0.3908708691596985,-1.0289441347122192,-1.2029242515563965,0.15070141851902008,-0.676123321056366,-2.4646224975585938,1.6165663003921509,2.542388677597046,-0.01900300197303295,-1.6455720663070679,1.962384819984436,0.5570948123931885,-1.1945290565490723,-1.9603229761123657,-1.1590687036514282,0.045445241034030914,0.6432957053184509,0.6138814091682434,-1.5783666372299194,0.5050470232963562,0.6194604635238647,3.096234083175659,-1.010159969329834,-1.0081751346588135,1.0556498765945435,1.6146459579467773,1.1901429891586304,3.1361641883850098,-2.2850704193115234,1.3574106693267822,-0.36107495427131653,0.6267973184585571,-0.1568378508090973,-1.6569746732711792,0.67557293176651,2.0488827228546143,0.5743647813796997,2.1816720962524414,-1.9472788572311401,3.1271021366119385,2.6916275024414062,0.7687684297561646,1.400503158569336,-0.5522871613502502,0.26546382904052734,-0.21690289676189423,0.5027696490287781,0.7531980276107788,0.0831560418009758,1.900450348854065,3.213747024536133,1.2701693773269653,3.619095802307129,3.1950864791870117,-0.9327767491340637,2.0788567066192627,3.204756021499634,-0.34671980142593384,0.5172825455665588,-0.5751916170120239,-0.17712992429733276,2.668752431869507,-0.41943877935409546,-0.0156429223716259,0.580392599105835,2.9839224815368652,-2.3889718055725098,-0.2602563202381134,0.5848151445388794,-0.8154775500297546,1.2003687620162964,-1.1935853958129883,-1.2833694219589233,0.4007587134838104,2.541771411895752,2.3661561012268066,0.3998613655567169,-0.19388523697853088,0.9665349125862122,0.7693405747413635,-2.5588977336883545,1.8454837799072266,0.43151187896728516,0.9883511662483215,0.1387505680322647,-1.1038302183151245,-0.12610462307929993,-1.266374945640564,1.115634560585022,2.1741857528686523,-1.035665512084961,0.19575464725494385,-1.3791265487670898,-0.4165370762348175,0.30051368474960327,3.1127512454986572,-0.9805715680122375,0.7277798056602478,-0.8916305303573608,-2.3023018836975098,0.4608284533023834,0.6338406205177307,0.5919645428657532,-2.5034666061401367,3.153561592102051,-2.6084980964660645,3.203476667404175,-0.14414659142494202,-0.8765078783035278,0.4305616319179535,-0.9668787717819214,0.5715320110321045,0.5100577473640442,0.6182260513305664,0.043886732310056686,-1.4025660753250122,1.8489854335784912,3.080627202987671,1.5779837369918823,3.1443536281585693,3.4475910663604736,1.0190916061401367,1.6526345014572144,0.4888251721858978,2.277334451675415,1.626283884048462,-2.579465389251709,0.4870266616344452,-0.9904574751853943,0.2348124384880066,1.5823215246200562,1.8003334999084473,0.6288039088249207,-2.5686659812927246,2.515637159347534,0.42450544238090515,0.7692837119102478,-0.7056941986083984,0.5911749005317688,-0.7866510152816772,-1.44347083568573,1.2663065195083618,2.377255916595459,1.8801220655441284,1.6538156270980835,-1.0461703538894653,3.231046676635742,-1.7390652894973755,-4.555384635925293,0.8104438781738281,-3.5560269355773926,2.1108295917510986,2.8931643962860107,-0.43741217255592346,4.7578911781311035,-2.4025771617889404,-1.2389878034591675,1.990153193473816,1.7219055891036987,-2.5891361236572266,2.910491943359375,-0.7851366400718689,0.5405421853065491,-0.3904857337474823,-0.117184579372406,1.3284529447555542,0.40944328904151917,1.4133696556091309,2.178190231323242,-0.4680142104625702,-0.038224030286073685,0.2457520067691803,0.20904076099395752,4.6639790534973145,0.47221800684928894,-0.6996585726737976,0.611713171005249,-0.5205977559089661,-0.22171489894390106,-2.5898184776306152,-1.087719440460205,1.0937283039093018,0.5939382314682007,-1.5315929651260376,0.5454140305519104,-1.2861888408660889,0.5840181112289429,-0.7387853860855103,-1.454756498336792,-2.418926477432251,0.06362513452768326,2.681171178817749,-1.0379958152770996,1.8176310062408447,-1.594308853149414,0.3807215690612793,-2.373812675476074,-0.901791512966156,3.235593557357788,-0.9563323855400085,0.8096345067024231,3.139167547225952,-0.05391579866409302,0.4444909393787384,-1.023245096206665,0.25095081329345703,-0.8663737177848816,0.7350243330001831,-0.04592899605631828,-2.487370014190674,1.635894775390625,1.660636067390442,0.7263346314430237,-0.13383567333221436,1.7526443004608154,0.41450077295303345,0.5421891212463379,-0.8743814826011658,0.7974181175231934,0.6564452052116394,0.6161057353019714,-1.3322035074234009,-0.8775210976600647,0.5012401938438416,-0.4714794158935547,1.209255576133728,2.878018379211426,-0.9169490337371826,-0.9850977659225464,-0.35178667306900024,0.4795509874820709,-0.7195997834205627,0.7295233607292175,2.899099826812744,0.09960640966892242,0.13148045539855957,-1.9224987030029297,-2.7064571380615234,-2.3568685054779053,0.625804603099823,0.763937771320343,-1.5989538431167603,-1.1710028648376465,-2.574793577194214,1.6365197896957397,0.5391095280647278,0.5428234338760376,-1.0303449630737305,-1.2175524234771729,-0.694648802280426,-0.732149600982666,0.11054755002260208,4.782916069030762,-2.299111843109131,1.0596261024475098,2.643181324005127,-0.8391122817993164,3.423161745071411,-0.37068989872932434,1.6843315362930298,-2.4918642044067383,1.781631350517273,0.5439761877059937,1.5830137729644775,3.243241310119629,-1.0480927228927612,-1.1472467184066772,-0.33651819825172424,1.005906581878662,0.6644434928894043,0.5596766471862793,-2.580369472503662,-0.17070212960243225,1.5937544107437134,-1.097563624382019,-0.2938759922981262,0.4530808627605438,0.5732041001319885,0.7029795050621033,1.7208019495010376,1.55460524559021,0.3128042221069336,-0.003219448495656252,1.640700101852417,-0.8979072570800781,1.0967289209365845,0.6416373252868652,-2.5860047340393066,-0.48259472846984863,-0.965223491191864,2.434596538543701,0.48722338676452637,0.7304999232292175,1.0936462879180908,-1.1978425979614258,-0.5837759971618652,3.2045063972473145,-1.2201741933822632,-0.4869280755519867,2.8694281578063965,0.6657155156135559,-0.9704931974411011,0.2780285179615021,-0.3701246380805969,3.00545072555542,0.5251908898353577,3.453307628631592,-1.199678659439087,0.7367769479751587,0.21465438604354858,0.4769633710384369,0.5123306512832642,-1.6192160844802856,0.9245966672897339,-2.4263265132904053,0.957733690738678,0.6686206459999084,0.2611861526966095,0.09394580125808716,3.2071235179901123,2.6899211406707764,1.3856524229049683,0.43488699197769165,-1.1300914287567139,0.5828045606613159,0.8707491755485535,-0.7803195118904114,1.095373511314392,0.3552857041358948,0.21237991750240326,2.6703388690948486,0.532038152217865,1.9703325033187866,1.3024353981018066,1.7378036975860596,3.3482446670532227,2.162947416305542,1.964062213897705,-0.14576102793216705,1.6732306480407715,-2.0744259357452393,-1.9505505561828613,2.0590806007385254,2.091479539871216,-2.3970963954925537,-1.173685908317566,2.9659264087677,0.44386863708496094,2.2663769721984863,-2.0159082412719727,0.7500581741333008,-1.1182568073272705,-0.7679200172424316,0.5687229633331299,0.7882781028747559,0.4869762361049652,3.31977915763855,4.631295204162598,-0.22173430025577545,2.1605374813079834,0.6836064457893372,0.3280148506164551,0.28912657499313354,0.5471164584159851,-2.56075382232666,-1.115642786026001,0.047792136669158936,-1.2605012655258179,2.6827139854431152,0.13396061956882477,-0.8807842135429382,0.5198422074317932,3.1888811588287354,-2.3787050247192383,-0.12393677234649658,0.34018707275390625,0.25995758175849915,2.6589670181274414,0.5605264902114868,-1.0721313953399658,1.7613117694854736,-0.8855170011520386,0.7977155447006226,-2.368621349334717,3.2873332500457764,1.0629554986953735,-0.751551628112793,-0.931923508644104,2.1352787017822266,2.0313398838043213,1.813464879989624,-1.2071642875671387,0.458139032125473,3.398822784423828,-2.4192490577697754,-0.5776579976081848,3.3537309169769287,-1.3885999917984009,0.612999677658081,3.235778570175171,-2.2398617267608643,3.201157331466675,0.5253728032112122,-0.519140362739563,0.252110093832016,-2.3326845169067383,-1.245023488998413,0.5729774832725525,-0.2160521149635315,-0.18019171059131622,-1.1754952669143677,0.5816688537597656,-1.1170598268508911,-0.3499755859375,1.1244449615478516,-1.4025346040725708,0.35558509826660156,-0.13777080178260803,3.297762632369995,0.6531710624694824,-2.571218490600586,0.5207085013389587,0.1049516424536705,-2.314073324203491,-0.8773332834243774,-2.411578416824341,2.567263126373291,-0.8805680274963379,1.8092350959777832,-2.6435000896453857,3.0091662406921387,-1.4107186794281006,0.657071053981781,-2.562999725341797,-0.011439654976129532,0.19231754541397095,0.4971919357776642,0.518144965171814,1.3331676721572876,0.7229945659637451,-2.436227321624756,-1.0476595163345337,-0.6495165228843689,2.0870048999786377,0.3034422695636749,-0.3696851134300232,-1.0464038848876953,-0.9108884334564209,2.1700661182403564,-1.0515848398208618,0.4097936749458313,3.2471442222595215,-0.04247774928808212,-2.3864519596099854,-1.708959937095642,0.40798255801200867,-0.16578905284404755,-0.8927462697029114,2.933011531829834,1.5587204694747925,-2.4795544147491455,-0.8159419298171997,1.7277878522872925,0.5208672285079956,1.5276981592178345,2.0304031372070312,2.9819118976593018,0.5335770845413208,0.32769468426704407,-0.5301591753959656,-1.2576614618301392,2.5153937339782715,0.5883877873420715,2.3801462650299072,-1.7079739570617676,1.6083279848098755,2.5746989250183105,0.5840052366256714,0.5417613983154297,0.3098621368408203,-1.109238862991333,1.5485292673110962,-1.1831696033477783,1.8549507856369019,1.963487982749939,2.3414387702941895,-1.281270980834961,-0.7207971811294556,1.371652603149414,0.6457618474960327,-2.571730375289917,1.7466607093811035,0.3631507158279419,1.6654053926467896,1.0446434020996094,0.1521756649017334,-0.04768563434481621,1.6110225915908813,0.3598175346851349,1.4591045379638672,0.2315548211336136,1.177058219909668,-0.1455952674150467,0.7217004895210266,0.9594644904136658,1.4270029067993164,1.561285138130188,-1.1238024234771729,0.1491663157939911,-0.8745952248573303,3.3009281158447266,3.459592819213867,1.9809365272521973,-0.12184599041938782,-2.5096912384033203,3.2172582149505615,-0.335014283657074,1.6379495859146118,-0.5888063311576843,-2.544001340866089,-0.04137915000319481,0.24155284464359283,3.261965751647949,-0.7668420672416687,-1.3830643892288208,0.8168822526931763,-0.013506954535841942,0.3746013641357422,-1.1432334184646606,0.6776919960975647,2.9050052165985107,-1.9324581623077393,0.1032649576663971,3.0994653701782227,-0.3574654459953308,0.49295729398727417,-0.8137242197990417,-0.2563464343547821,-0.7817022204399109,-2.3291914463043213,1.4676012992858887,0.5422767996788025,0.04638346657156944,-2.571986675262451,0.11679848283529282,2.3872623443603516,3.0140838623046875,-0.14363859593868256,-0.271763414144516,0.4830614924430847,1.2648005485534668,1.5860624313354492,-2.312324047088623,0.7741440534591675,0.5608438849449158,-2.341740131378174,0.017563749104738235,1.6735097169876099,0.1951899528503418,1.3705170154571533,-1.171001672744751,-0.19239196181297302,-2.5873351097106934,1.579103708267212,-0.346775084733963,-0.27699390053749084,0.03376886248588562,0.5679234862327576,0.4902900755405426,0.3990301489830017,3.0181565284729004,0.45449092984199524,0.005459034349769354,-2.3910326957702637,0.5130129456520081,0.23808792233467102,-2.3748793601989746,-2.633880853652954,-1.750548243522644,4.420578956604004,0.6391156911849976,-2.1685383319854736,-0.05179893597960472,3.1191720962524414,1.686815857887268,1.4688434600830078,1.1542044878005981,-0.6117942333221436,-1.535758376121521,0.4802982211112976,0.47345200181007385,-0.8809728026390076,0.5164087414741516,-0.5761240720748901,2.0855751037597656,0.6255561113357544,-3.093834161758423,0.2651289105415344,0.7483882308006287,-1.5671628713607788,-1.0780556201934814,0.18152858316898346,0.5606199502944946,-0.6488540768623352,-2.37025785446167,-0.9559013247489929,-2.5277788639068604,-2.5657100677490234,1.0512281656265259,1.4084457159042358,-2.4844717979431152,3.3235764503479004,-1.164972186088562,4.500761985778809,-0.4785543382167816,0.22506891191005707,0.6286777853965759,1.8605157136917114,3.4300572872161865,0.5355165600776672,1.7350704669952393,-1.5312778949737549,2.9486100673675537,-2.6324732303619385,1.996372938156128,1.5009944438934326,-0.24209873378276825,-1.833519458770752,-1.1361390352249146,1.3406496047973633,-2.869734525680542,0.5013359189033508,0.3464454114437103,-2.0828216075897217,0.5590370893478394,2.3651952743530273,-0.1385061889886856,0.31959158182144165,2.652724504470825,-0.24982041120529175,0.17063669860363007,-2.4790594577789307,1.3234535455703735,1.4298361539840698,-0.6190419793128967,-0.23520897328853607,-2.116180896759033,-1.0344663858413696,2.707119941711426,-2.195883274078369,0.4935101568698883,2.763120651245117,0.8197066783905029,-1.4625324010849,0.4593116044998169,-2.6014273166656494,0.5148205161094666,2.6723217964172363,3.2159066200256348,0.6322232484817505,0.5666899681091309,-1.2029361724853516,2.015868902206421,-1.9169708490371704,2.0699779987335205,-2.521786689758301,-1.1560823917388916,-0.3860611617565155,-1.9193394184112549,0.0897931233048439,1.784325361251831,-0.5845378041267395,-0.49496981501579285,0.7694194316864014,-1.1014182567596436,-2.5382251739501953,0.35638439655303955,-2.040411949157715,1.6384313106536865,0.021137364208698273,0.670224130153656,-1.168329119682312,0.7249488234519958,0.20132075250148773,1.50258207321167,-2.6747660636901855,3.6831130981445312,-2.48909330368042,0.22697821259498596,-1.2416967153549194,3.0791261196136475,-0.34667354822158813,1.8186851739883423,1.5459626913070679,-2.503814697265625,2.1613829135894775,-1.950883388519287,2.0739307403564453,-0.38479381799697876,0.9029345512390137,0.04733964428305626,0.6480823159217834,-0.4237419664859772,-2.117680311203003,-1.9841535091400146,-2.0586555004119873,0.897855281829834,3.1729254722595215,0.5288717746734619,0.5286868214607239,0.5726490616798401,-0.5720494985580444,2.3495335578918457,3.1667966842651367,1.669655203819275,1.3220621347427368,-3.1729698181152344,0.3382496237754822,-1.4219486713409424,1.4588085412979126,-1.2949532270431519,0.5108310580253601,0.7278696894645691,1.0650945901870728,0.5985230803489685,3.2325007915496826,1.6824532747268677,-1.1073203086853027,0.5605782270431519,0.6667947173118591,0.5224598050117493,0.5224976539611816,0.6915753483772278,-3.000605583190918,2.7871391773223877,-1.420426607131958,4.473903656005859,0.3867242932319641,-0.2616209387779236,-0.9740920662879944,2.7228593826293945,0.5535570383071899,1.8257490396499634,1.7990268468856812,-1.4815433025360107,0.5034096240997314,-1.3036221265792847,-1.400508999824524,0.6548254489898682,-1.3967878818511963,-1.1615090370178223,0.6509086489677429,0.43140357732772827,1.3760188817977905,0.1352394074201584,0.6516920328140259,-1.4125325679779053,2.505340099334717,-2.388577938079834,-0.15821951627731323,-1.9978806972503662,-1.909384846687317,0.10397477447986603,-2.4745874404907227,2.8501105308532715,0.21092616021633148,-1.9278712272644043,0.3630557954311371,0.5653374791145325,-0.20373858511447906,0.37043774127960205,0.38476285338401794,2.6709015369415283,-0.7908757925033569,1.3252415657043457,-0.32777664065361023,1.0037176609039307,3.2813642024993896,0.710641622543335,0.7692318558692932,-1.2158286571502686,-0.10059557855129242,3.089463949203491,3.1356818675994873,-0.026932500302791595,0.6668238639831543,0.2160307615995407,-2.298567771911621,-2.4381179809570312,-2.8892922401428223,-0.017939556390047073,3.117978572845459,0.1902199238538742,-2.785647392272949,0.9737496376037598,-3.203808546066284,-0.8674346804618835,1.8553953170776367,-2.584538221359253,0.6979811191558838,0.05001499131321907,0.8652982711791992,-2.5874886512756348,-1.6513328552246094,-0.2835359275341034,1.6243394613265991,-2.577134132385254,-2.1654434204101562,0.7712085247039795,3.1765477657318115,0.2949320077896118,0.4217287003993988,2.6235849857330322,1.9037069082260132,0.20142395794391632,-1.563051462173462,0.5617395043373108,0.647329568862915,0.48896676301956177,3.2029170989990234,0.9911415576934814,-1.3245364427566528,-0.0753263533115387,3.2474441528320312,-0.3816249966621399,-0.3018825650215149,0.4232558608055115,0.42636021971702576,0.09312977641820908,2.6723899841308594,2.9740750789642334,0.43045032024383545,0.5936424136161804,0.6338325142860413,0.4173166751861572,1.1990258693695068,2.2247636318206787,0.7019510865211487,1.3019920587539673,-2.241286039352417,1.6327574253082275,-2.349947690963745,0.1370394378900528,-1.010528326034546,-1.1165376901626587,-0.1328764408826828,-2.6010985374450684,0.29231372475624084,-0.03187901899218559,3.225956678390503,1.2553869485855103,0.9538957476615906,-1.1908483505249023,-2.098849296569824,1.508478045463562,0.8255239725112915,0.2916036546230316,-1.0865671634674072,0.452831894159317,1.560831069946289,3.2051069736480713,0.377962589263916,4.48508358001709,1.5633124113082886,0.5321674346923828,-2.4873101711273193,0.5456447601318359,2.1767044067382812,-0.4441215395927429,-2.5744762420654297,3.5184390544891357,0.639763593673706,0.10259238630533218,1.3391939401626587,2.8719394207000732,3.4567103385925293,-1.513460636138916,2.058765411376953,0.38932672142982483,1.4500110149383545,-0.2052454948425293,-1.3672926425933838,3.120354413986206,-0.12766042351722717,3.5231833457946777,1.5743358135223389,1.5194858312606812,-0.21017329394817352,-2.284268617630005,3.2196805477142334,-1.0181020498275757,-0.325054407119751,4.491744041442871,-2.557495355606079,0.36824601888656616,0.04885523021221161,-1.0373462438583374,1.664738416671753,0.9741088151931763,0.4793648421764374,0.1800650954246521,0.8318029642105103,2.7600104808807373,0.9220504760742188,3.26035475730896,0.4257481098175049,0.6054412722587585,1.0717061758041382,2.8865835666656494,3.09435772895813,-2.257073402404785,2.2023487091064453,0.5252512097358704,4.330386161804199,2.8673038482666016,-0.0948580801486969,-1.1143075227737427,1.5122162103652954,-1.065850019454956,0.49658045172691345,-0.0009767693700268865,1.2317402362823486,0.4470928907394409,0.6914269328117371,2.1704397201538086,-0.17217330634593964,-2.5847134590148926,2.8107059001922607,1.6365528106689453,4.469880104064941,0.6291208863258362,0.3456224203109741],\"y\":[9.820974349975586,7.483565807342529,5.356919288635254,7.1215596199035645,10.813712120056152,9.242450714111328,9.356035232543945,10.028230667114258,8.938814163208008,8.637134552001953,9.126171112060547,5.2257795333862305,9.371376991271973,7.548057556152344,11.114288330078125,5.286332607269287,10.776935577392578,9.020564079284668,8.005731582641602,11.100178718566895,9.771675109863281,8.001220703125,8.70944595336914,11.200121879577637,7.753384113311768,10.21042537689209,6.790773391723633,6.851768970489502,9.254597663879395,9.282258987426758,8.42872142791748,6.318388938903809,9.492412567138672,10.231691360473633,8.274128913879395,6.1118574142456055,5.315112113952637,8.737325668334961,5.2839035987854,7.8629655838012695,7.498919486999512,9.035371780395508,10.977514266967773,9.747784614562988,10.837158203125,9.1246976852417,9.604047775268555,6.96841287612915,9.571003913879395,11.132584571838379,11.129830360412598,5.224034309387207,10.76222038269043,7.8498101234436035,5.197016716003418,11.582088470458984,9.387787818908691,7.339661121368408,8.903158187866211,9.248779296875,10.564886093139648,8.454887390136719,8.976661682128906,14.832114219665527,10.845527648925781,11.166725158691406,5.183072090148926,9.396196365356445,5.339589595794678,8.333989143371582,10.745046615600586,6.648639678955078,8.779284477233887,5.214518070220947,9.18585205078125,9.764189720153809,9.84745979309082,9.024397850036621,8.516948699951172,11.150219917297363,7.24027156829834,11.296732902526855,10.743638038635254,8.754813194274902,10.095681190490723,6.102458953857422,9.730265617370605,8.720490455627441,5.316205024719238,9.555293083190918,6.721181869506836,8.977482795715332,9.047121047973633,11.350687026977539,10.138501167297363,8.75165843963623,8.74814224243164,5.231075286865234,10.669626235961914,9.131157875061035,5.255434989929199,9.151326179504395,9.328926086425781,7.536658763885498,8.78161334991455,5.253594875335693,5.54278564453125,12.50907039642334,10.849502563476562,7.312508583068848,9.459784507751465,9.05795669555664,9.80116081237793,7.41593074798584,10.957457542419434,8.776151657104492,11.148825645446777,8.67234992980957,9.054363250732422,7.0227179527282715,9.44121265411377,5.242738246917725,7.8387980461120605,11.115839004516602,8.961767196655273,11.042241096496582,8.679841041564941,8.775836944580078,8.802324295043945,10.622793197631836,6.933147430419922,9.234975814819336,8.945215225219727,11.782349586486816,7.122024059295654,8.897773742675781,10.560544967651367,5.215083122253418,8.786808013916016,7.2922258377075195,10.04707145690918,5.202267646789551,8.136138916015625,9.863560676574707,10.249739646911621,10.619423866271973,12.122804641723633,8.579084396362305,6.643383026123047,11.10754108428955,10.776307106018066,11.243433952331543,10.777698516845703,8.594395637512207,10.75402545928955,9.32181167602539,8.984346389770508,5.2092084884643555,6.739392280578613,8.78818416595459,5.382537841796875,8.66854476928711,8.354182243347168,9.047356605529785,8.783903121948242,9.399459838867188,5.306147575378418,13.144871711730957,12.862325668334961,5.19338846206665,5.336526393890381,10.246410369873047,9.915239334106445,9.151304244995117,9.533872604370117,7.528773307800293,6.300044059753418,8.916365623474121,11.12109375,7.436055660247803,10.0452241897583,9.934296607971191,11.428043365478516,11.229830741882324,7.706391334533691,5.209202766418457,10.671420097351074,9.78465461730957,11.45029067993164,6.62167501449585,12.349985122680664,9.318761825561523,5.196726322174072,11.213769912719727,8.856234550476074,9.914828300476074,9.132923126220703,6.498540878295898,10.772682189941406,8.008099555969238,8.59882640838623,9.789519309997559,11.603652954101562,9.218663215637207,8.935750007629395,6.725224018096924,8.89425277709961,8.893460273742676,9.622604370117188,10.75403118133545,10.248209953308105,11.242542266845703,9.172411918640137,11.154848098754883,9.482887268066406,8.795587539672852,8.181875228881836,8.739425659179688,10.67774486541748,11.160811424255371,11.17148208618164,6.190959453582764,10.276371002197266,8.36060619354248,8.052786827087402,8.766737937927246,9.166175842285156,12.075739860534668,7.777453422546387,10.27255630493164,8.04345703125,5.165602684020996,11.216313362121582,9.864972114562988,8.037189483642578,10.763842582702637,6.194565296173096,10.52133846282959,10.952969551086426,9.89645004272461,10.397564888000488,11.084736824035645,11.050520896911621,11.196659088134766,8.995894432067871,10.591143608093262,11.042869567871094,8.914318084716797,9.728596687316895,8.914227485656738,9.017847061157227,10.996798515319824,9.884772300720215,6.122969627380371,8.894720077514648,5.501107215881348,9.058305740356445,8.096240043640137,10.686540603637695,5.271434783935547,10.767635345458984,5.236299514770508,5.2527875900268555,11.195294380187988,11.255008697509766,12.082887649536133,8.102560043334961,7.249671936035156,9.611847877502441,8.041680335998535,7.005971431732178,6.690999984741211,11.065878868103027,10.20278263092041,9.369656562805176,8.950407981872559,5.249209880828857,10.129636764526367,6.8675456047058105,9.7311429977417,10.031585693359375,7.4817304611206055,9.745447158813477,10.16938304901123,8.654220581054688,13.36965274810791,11.333636283874512,10.979165077209473,8.761528968811035,5.190980434417725,10.463573455810547,9.179370880126953,8.43503189086914,9.208600044250488,7.222297668457031,7.39876651763916,8.728058815002441,9.787674903869629,10.332493782043457,11.077231407165527,5.256416320800781,11.510656356811523,9.94070816040039,9.771505355834961,8.533028602600098,11.09593677520752,6.628774166107178,8.939177513122559,10.579004287719727,6.934805870056152,8.979439735412598,8.567732810974121,9.475258827209473,9.04686164855957,9.416232109069824,12.179405212402344,8.596783638000488,10.219560623168945,9.54165267944336,11.163007736206055,8.739588737487793,11.235554695129395,9.333561897277832,12.750641822814941,5.3600921630859375,8.95641803741455,10.671582221984863,11.193341255187988,8.813896179199219,8.977919578552246,10.693986892700195,9.733583450317383,11.063541412353516,7.835928440093994,6.459400653839111,11.198772430419922,10.467434883117676,7.9363627433776855,8.985309600830078,12.92823600769043,10.881133079528809,7.013792991638184,12.17300033569336,5.268036365509033,10.729555130004883,9.242701530456543,10.394662857055664,8.698470115661621,8.939308166503906,11.171608924865723,11.401697158813477,8.719888687133789,9.002165794372559,5.205918312072754,9.188421249389648,5.268651962280273,9.328228950500488,8.073270797729492,7.735380172729492,8.958863258361816,12.984273910522461,8.06291675567627,10.708113670349121,8.869568824768066,6.46769380569458,5.375375270843506,8.600753784179688,7.070969581604004,8.74744701385498,5.213743686676025,8.972851753234863,7.458866119384766,7.169149875640869,7.955004692077637,5.181049346923828,8.709277153015137,9.830876350402832,11.168724060058594,5.345546722412109,11.262191772460938,6.398740768432617,7.36460542678833,8.024621963500977,9.427957534790039,7.5616044998168945,9.513169288635254,6.9562883377075195,8.89207935333252,8.719489097595215,7.238029479980469,9.863143920898438,10.65044116973877,8.35680103302002,7.029979705810547,9.481597900390625,8.7395658493042,7.363627910614014,9.428827285766602,10.711126327514648,7.869009494781494,8.34603500366211,9.023921012878418,8.668891906738281,11.193198204040527,6.144830226898193,11.113646507263184,9.032953262329102,9.873397827148438,9.270003318786621,6.217523574829102,9.733685493469238,11.320573806762695,8.87060260772705,11.423823356628418,8.915761947631836,7.391565799713135,5.321722507476807,8.763355255126953,6.218300819396973,11.443049430847168,11.130834579467773,9.327091217041016,11.101007461547852,9.238908767700195,6.2196455001831055,5.387720108032227,8.494430541992188,7.614884376525879,5.215560436248779,8.417862892150879,8.964103698730469,7.45792818069458,10.86229419708252,8.917398452758789,9.971481323242188,7.174567222595215,5.488839149475098,11.450766563415527,8.687921524047852,9.78128433227539,7.409451484680176,8.580286979675293,10.307520866394043,10.385686874389648,8.276175498962402,5.358645915985107,8.91639518737793,8.810776710510254,9.20382308959961,5.1970295906066895,10.783613204956055,9.381591796875,6.96480131149292,7.6018548011779785,5.241854190826416,10.477035522460938,8.272438049316406,10.783222198486328,5.362833023071289,9.563481330871582,6.4860148429870605,8.969599723815918,5.27480936050415,9.30014419555664,8.675215721130371,6.154129505157471,8.592297554016113,8.811559677124023,8.820433616638184,8.962737083435059,10.301390647888184,10.152942657470703,5.568548202514648,11.117430686950684,9.117340087890625,8.996109962463379,11.072652816772461,9.967830657958984,6.383373737335205,9.098810195922852,9.449382781982422,10.287928581237793,10.323166847229004,8.913972854614258,8.97728157043457,8.77850341796875,7.917694091796875,6.402991771697998,6.252063274383545,11.085444450378418,8.77624797821045,8.527191162109375,11.23464298248291,7.838809490203857,7.3578572273254395,8.202325820922852,9.090115547180176,9.120952606201172,9.230816841125488,7.2727370262146,10.98877239227295,6.502226829528809,8.783217430114746,10.462262153625488,10.771858215332031,7.1667351722717285,9.035150527954102,10.237905502319336,8.495269775390625,8.931638717651367,8.629974365234375,5.264382362365723,10.737634658813477,8.7156982421875,10.863658905029297,6.342206954956055,8.494047164916992,9.025106430053711,11.23878288269043,5.289268970489502,5.557897090911865,7.003013610839844,8.727643013000488,11.102703094482422,11.104850769042969,6.831868648529053,11.126530647277832,10.182510375976562,6.430136203765869,8.709856986999512,8.937110900878906,11.055288314819336,9.826581954956055,5.201890468597412,5.286104679107666,11.366240501403809,7.4925923347473145,8.434345245361328,9.095345497131348,8.90407943725586,8.012417793273926,9.131558418273926,8.424102783203125,9.167308807373047,11.321372985839844,11.143526077270508,9.235285758972168,5.230956077575684,10.31550407409668,8.951488494873047,5.2160844802856445,11.246491432189941,5.340042591094971,10.553064346313477,10.882168769836426,9.87936782836914,8.793156623840332,8.728750228881836,8.988587379455566,9.907981872558594,8.897726058959961,8.333921432495117,10.653473854064941,9.595088958740234,5.293978691101074,8.93344783782959,8.578299522399902,8.962227821350098,7.6912007331848145,10.244847297668457,12.736577033996582,11.123534202575684,10.188532829284668,10.178215026855469,6.991129398345947,9.371194839477539,6.983263969421387,12.404532432556152,8.404909133911133,8.532292366027832,11.230770111083984,6.746408462524414,8.632452964782715,10.036739349365234,7.809724807739258,7.971923828125,9.40832805633545,8.830427169799805,9.772955894470215,10.767786979675293,8.531638145446777,8.636347770690918,7.007122039794922,8.450760841369629,9.218242645263672,5.204823017120361,5.559045314788818,6.675252437591553,9.332531929016113,7.445030212402344,8.82404613494873,8.728137016296387,5.236685276031494,10.756991386413574,11.126032829284668,5.470286846160889,8.769497871398926,8.487570762634277,7.86356782913208,8.813843727111816,9.84123706817627,7.502844333648682,8.765727996826172,10.65874195098877,9.016491889953613,7.082914352416992,11.152318954467773,6.189477443695068,8.045029640197754,9.766156196594238,6.40160608291626,8.388996124267578,10.319306373596191,11.172039985656738,10.138992309570312,6.884668350219727,7.887355327606201,7.160145282745361,8.275464057922363,8.248795509338379,9.756264686584473,9.474893569946289,7.114641189575195,7.796217441558838,6.164699077606201,7.175075054168701,9.203076362609863,11.922465324401855,9.31486701965332,7.826691627502441,5.202192783355713,10.775851249694824,6.703892707824707,8.559136390686035,5.258999347686768,10.874035835266113,10.515901565551758,6.9893388748168945,11.08127498626709,5.251114368438721,11.119416236877441,9.068449974060059,10.835434913635254,6.234051704406738,8.466343879699707,11.602400779724121,8.953234672546387,7.554533004760742,6.268791675567627,9.023799896240234,10.395777702331543,6.392496585845947,8.810434341430664,6.566548824310303,11.185416221618652,9.491020202636719,11.263270378112793,8.785252571105957,7.8095550537109375,8.687238693237305,8.211150169372559,9.035120964050293,8.241000175476074,8.94450855255127,6.458872318267822,8.747692108154297,11.626424789428711,11.211506843566895,9.282445907592773,6.136758804321289,9.613543510437012,5.24834680557251,9.409503936767578,8.479366302490234,7.441865921020508,8.732367515563965,10.489354133605957,11.224841117858887,11.129499435424805,8.250923156738281,9.718901634216309,11.392327308654785,12.615921974182129,7.312318801879883,11.174793243408203,9.406874656677246,9.311429977416992,10.785087585449219,10.304287910461426,11.075021743774414,9.47519302368164,8.69460391998291,8.902204513549805,11.857884407043457,8.298333168029785,6.037885665893555,9.836788177490234,10.407645225524902,9.268074035644531,6.108001708984375,11.078387260437012,10.023030281066895,7.425853252410889,9.178470611572266,10.284455299377441,8.061217308044434,10.945228576660156,7.177750110626221,11.362685203552246,10.640974998474121,5.288451194763184,10.182448387145996,9.064301490783691,6.815859794616699,8.8673095703125,7.831618785858154,8.458751678466797,9.698549270629883,8.929832458496094,11.22986888885498,9.857504844665527,9.670433044433594,9.256691932678223,8.897594451904297,9.3020658493042,6.964331150054932,8.935283660888672,10.837738037109375,9.044537544250488,6.775095462799072,9.062909126281738,6.238838195800781,9.42238712310791,14.042200088500977,11.133692741394043,9.479339599609375,9.20308780670166,7.723354816436768,9.039111137390137,12.616640090942383,10.142779350280762,9.088019371032715,13.812427520751953,10.300809860229492,8.45112133026123,8.968269348144531,10.863384246826172,7.38581657409668,10.888618469238281,6.7801055908203125,9.157906532287598,8.730247497558594,10.666964530944824,11.16679859161377,7.312920570373535,8.474804878234863,7.721179962158203,5.585900783538818,11.117857933044434,11.370017051696777,9.009566307067871,9.002942085266113,8.721260070800781,10.066393852233887,11.140685081481934,8.129266738891602,11.16598892211914,6.16703462600708,9.200825691223145,11.219569206237793,8.707964897155762,9.446179389953613,6.253444194793701,8.942338943481445,11.138766288757324,8.741119384765625,8.941422462463379,8.909445762634277,9.110501289367676,11.082535743713379,11.813233375549316,6.513586044311523,8.432453155517578,10.451642990112305,9.467214584350586,5.186710834503174,6.178158760070801,9.456062316894531,11.853304862976074,10.366493225097656,11.011377334594727,8.143899917602539,9.01527214050293,9.081592559814453,8.824110984802246,8.965898513793945,11.172577857971191,10.92210578918457,12.189861297607422,6.3348612785339355,5.211826801300049,5.686059951782227,10.875633239746094,5.307869911193848,9.477334022521973,9.388038635253906,5.270928382873535,9.355430603027344,8.728399276733398,8.61733341217041,9.166569709777832,7.583756446838379,10.285698890686035,9.422690391540527,11.203888893127441,8.053248405456543,6.726728439331055,6.304965496063232,7.173003196716309,8.398033142089844,8.658280372619629,5.441174507141113,5.259324073791504,11.027195930480957,5.301193714141846,8.836941719055176,9.48735237121582,5.344024181365967,8.569686889648438,8.771925926208496,6.4624786376953125,10.856873512268066,8.823253631591797,10.6705961227417,6.144364833831787,8.452713012695312,9.394933700561523,9.134939193725586,8.730151176452637,8.761503219604492,10.216782569885254,9.569904327392578,8.761520385742188,7.296584129333496,11.124090194702148,7.525567054748535,8.041952133178711,11.089181900024414,5.320404529571533,7.852492809295654,10.291418075561523,6.111146926879883,8.370369911193848,7.905474662780762,9.211686134338379,8.75770092010498,6.864913463592529,11.331625938415527,11.197460174560547,8.843855857849121,9.095996856689453,8.380995750427246,7.565925121307373,5.3403425216674805,10.141016006469727,8.493403434753418,6.51220178604126,8.080597877502441,9.797150611877441,6.323628902435303,9.8080415725708,9.126742362976074,11.2474365234375,8.756467819213867,9.859524726867676,10.100750923156738,11.09619140625,11.350005149841309,9.548965454101562,9.03721809387207,9.688831329345703,8.848590850830078,5.18946647644043,8.184723854064941,9.670994758605957,11.004338264465332,5.565648555755615,8.705568313598633,9.8421630859375,9.76330852508545,9.11397933959961,5.281963348388672,5.238362789154053,12.29643440246582,7.934942722320557,10.049591064453125,7.0681233406066895,8.75173568725586,9.059638977050781,10.981551170349121,10.023239135742188,8.627792358398438,6.631137847900391,8.883919715881348,11.2522611618042,6.996317386627197,9.587817192077637,8.814068794250488,11.329402923583984,10.884689331054688,7.039477825164795,10.87609577178955,10.767777442932129,8.065572738647461,8.463921546936035,11.036491394042969,9.36115550994873,9.46898078918457,13.419288635253906,8.740102767944336,11.207976341247559,9.053990364074707,13.576091766357422,8.765856742858887,9.451434135437012,7.9657883644104,8.808897018432617,9.721975326538086,10.027860641479492,9.551117897033691,11.237571716308594,11.625515937805176,11.076005935668945,5.379402160644531,11.145553588867188,9.234122276306152,8.672525405883789,8.448100090026855,12.3740234375,7.373943328857422,5.2283616065979,11.218214988708496,5.247731685638428,9.903099060058594,8.595819473266602,7.418991565704346,9.65347671508789,9.634786605834961,14.774624824523926,9.902836799621582,7.772913455963135,9.83920669555664,8.210444450378418,5.251579761505127,5.232623100280762,12.34604549407959,5.241153240203857,7.372544288635254,7.551695823669434,8.473090171813965,10.685226440429688,5.435206413269043,8.80416202545166,6.7437543869018555,5.413242340087891,10.712654113769531,8.727391242980957,11.03619384765625,7.562528133392334,11.473298072814941,11.203960418701172,8.85629653930664,8.968256950378418,6.107966899871826,7.6975226402282715,8.469029426574707,8.803498268127441,5.241329193115234,11.09729290008545,8.955119132995605,9.252751350402832,8.99138069152832,9.056761741638184,5.257327079772949,5.3202290534973145,8.969917297363281,10.742264747619629,5.233143329620361,9.802511215209961,7.746648788452148,6.784839153289795,9.094037055969238,8.658490180969238,9.634654998779297,7.993214130401611,8.785107612609863,9.005067825317383,11.110836029052734,10.008607864379883,10.850203514099121,6.396651744842529,11.481705665588379,6.7262678146362305,11.421487808227539,9.798576354980469,9.085735321044922,8.098027229309082,11.213584899902344,7.3548502922058105,10.156827926635742,8.579130172729492,6.457463264465332,8.952606201171875,11.124760627746582,8.598373413085938,10.366047859191895,8.909069061279297,10.663558006286621,11.08083724975586,9.545284271240234,8.773905754089355,9.34737491607666,11.164419174194336,9.311692237854004,10.76266860961914,9.454863548278809,9.689550399780273,14.805743217468262,11.064799308776855,8.946593284606934,9.04716968536377,5.215552806854248,8.137449264526367,10.460392951965332,8.957244873046875,10.93492317199707,10.462601661682129,7.248579502105713,9.195271492004395,9.485116958618164,10.096342086791992,7.413161754608154,6.304409027099609,5.176823616027832,8.988773345947266,8.65505599975586,10.881379127502441,8.850276947021484,10.693726539611816,5.256385803222656,6.736783981323242,7.319509029388428,6.8309197425842285,10.9819974899292,11.178350448608398,8.471535682678223,10.849555969238281,11.178013801574707,5.444043159484863,12.795792579650879,8.217265129089355,9.775959968566895,8.603272438049316,12.801164627075195,5.283403396606445,6.383904457092285,10.841456413269043,9.622048377990723,7.9421491622924805,10.154091835021973,8.681771278381348,7.057709693908691,7.7844319343566895,8.813876152038574,9.366409301757812,8.95478630065918,8.935487747192383,11.119322776794434,8.676796913146973,10.732173919677734,11.10911750793457,9.000852584838867,8.658318519592285,8.725074768066406,8.941459655761719,6.453354358673096,8.480435371398926,9.50871467590332,10.64261245727539,8.489116668701172,5.370203018188477,6.444734573364258,10.461073875427246,9.00386905670166,7.553645133972168,6.435559272766113,6.132718086242676,9.378552436828613,6.124945640563965,6.308800220489502,10.904705047607422,8.83248519897461,10.894909858703613,5.241802215576172,9.118451118469238,9.780534744262695,10.751433372497559,10.319290161132812,10.948994636535645,10.465182304382324,10.98428726196289,8.363287925720215,8.653996467590332,8.799030303955078,9.004117965698242,11.062418937683105,13.1472749710083,6.8048176765441895,6.326386451721191,11.167352676391602,9.502474784851074,9.00774097442627,8.928655624389648,10.858235359191895,7.559727191925049,8.738739967346191,9.310157775878906,12.155426979064941,11.046269416809082,6.742936134338379,9.170125007629395,5.236794471740723,8.963261604309082,10.961753845214844,9.622970581054688,8.817476272583008,8.488969802856445,11.002362251281738,5.216477870941162,9.561715126037598,8.961323738098145,8.042720794677734,11.812969207763672,7.544060230255127,6.565963268280029,13.548705101013184,8.494319915771484,9.367505073547363,10.255707740783691,10.096597671508789,9.713610649108887,10.284016609191895,11.100049018859863,8.804662704467773,12.214579582214355,8.817145347595215,9.74558162689209,10.439984321594238,8.73050594329834,8.994950294494629,8.689269065856934,7.543234348297119,6.173997402191162,8.916598320007324],\"type\":\"scattergl\"},{\"hoverinfo\":\"text\",\"marker\":{\"opacity\":0.5,\"size\":5},\"mode\":\"markers+text\",\"name\":\"4_email_protocolo_login\",\"text\":[\"\",\"\",\"\",\"\",\"\",\"\",\"\",\"\",\"\",\"\",\"\",\"\",\"\",\"\",\"\",\"\",\"\",\"\",\"\",\"\",\"\",\"\",\"\",\"\",\"\",\"\",\"\",\"\",\"\",\"\",\"\",\"\",\"\",\"\",\"\",\"\",\"\",\"\",\"\",\"\",\"\",\"\",\"\",\"\",\"\",\"\",\"\",\"\",\"\",\"\",\"\",\"\",\"\",\"\",\"\",\"\",\"\",\"\",\"\",\"\",\"\",\"\",\"\",\"\",\"\",\"\",\"\",\"\",\"\",\"\",\"\",\"\",\"\",\"\",\"\",\"\",\"\",\"\",\"\",\"\",\"\",\"\",\"\",\"\",\"\",\"\",\"\",\"\",\"\",\"\",\"\",\"\",\"\",\"\",\"\",\"\",\"\",\"\",\"\",\"\",\"\",\"\",\"\",\"\",\"\",\"\",\"\",\"\",\"\",\"\",\"\",\"\",\"\",\"\",\"\",\"\",\"\",\"\",\"\",\"\",\"\",\"\",\"\",\"\",\"\",\"\",\"\",\"\",\"\",\"\",\"\",\"\",\"\",\"\",\"\",\"\",\"\",\"\",\"\",\"\",\"\",\"\",\"\",\"\",\"\",\"\",\"\",\"\",\"\",\"\",\"\",\"\",\"\",\"\",\"\",\"\",\"\",\"\",\"\",\"\",\"\",\"\",\"\",\"\",\"\",\"\",\"\",\"\",\"\",\"\",\"\",\"\",\"\",\"\",\"\",\"\",\"\",\"\",\"\",\"\",\"\",\"\",\"\",\"\",\"\",\"\",\"\",\"\",\"\",\"\",\"\",\"\",\"\",\"\",\"\",\"\",\"\",\"\",\"\",\"\",\"\",\"\",\"\",\"\",\"\",\"\",\"\",\"\",\"\",\"\",\"\",\"\",\"\",\"\",\"\",\"\",\"\",\"\",\"\",\"\",\"\",\"\",\"\",\"\",\"\",\"\",\"\",\"\",\"\",\"\",\"\",\"\",\"\",\"\",\"\",\"\",\"\",\"\",\"\",\"\",\"\",\"\",\"\",\"\",\"\",\"\",\"\",\"\",\"\",\"\",\"\",\"\",\"\",\"\",\"\",\"\",\"\",\"\",\"\",\"\",\"\",\"\",\"\",\"\",\"\",\"\",\"\",\"\",\"\",\"\",\"\",\"\",\"\",\"\",\"\",\"\",\"\",\"\",\"\",\"\",\"\",\"\",\"\",\"\",\"\",\"\",\"\",\"\",\"\",\"\",\"\",\"\",\"\",\"\",\"\",\"\",\"\",\"\",\"\",\"\",\"\",\"\",\"\",\"\",\"\",\"\",\"\",\"\",\"\",\"\",\"\",\"\",\"\",\"\",\"\",\"\",\"\",\"\",\"\",\"\",\"\",\"\",\"\",\"\",\"\",\"\",\"\",\"\",\"\",\"\",\"\",\"\",\"\",\"\",\"\",\"\",\"\",\"\",\"\",\"\",\"\",\"\",\"\",\"\",\"\",\"\",\"\",\"\",\"\",\"\",\"\",\"\",\"\",\"\",\"\",\"\",\"\",\"\",\"\",\"\",\"\",\"\",\"\",\"\",\"\",\"\",\"\",\"\",\"\",\"\",\"\",\"\",\"\",\"\",\"\",\"\",\"\",\"\",\"\",\"\",\"\",\"\",\"\",\"\",\"\",\"\",\"\",\"\",\"\",\"\",\"\",\"\",\"\",\"\",\"\",\"\",\"\",\"\",\"\",\"\",\"\",\"\",\"\",\"\",\"\",\"\",\"\",\"\",\"\",\"\",\"\",\"\",\"\",\"\",\"\",\"\",\"\",\"\",\"\",\"\",\"\",\"\",\"\",\"\",\"\",\"\",\"\",\"\",\"\",\"\",\"\",\"\",\"\",\"\",\"\",\"\",\"\",\"\",\"\",\"\",\"\",\"\",\"\",\"\",\"\",\"\",\"\",\"\",\"\",\"\",\"\",\"\",\"\",\"\",\"\",\"\",\"\",\"\",\"\",\"\",\"\",\"\",\"\",\"\",\"\",\"\",\"\",\"\",\"\",\"\",\"\",\"\",\"\",\"\",\"\",\"\",\"\",\"\",\"\",\"\",\"\",\"\",\"\",\"\",\"\",\"\",\"\",\"\",\"\",\"\",\"\",\"\",\"\",\"\",\"\",\"\",\"\",\"\",\"\",\"\",\"\",\"\",\"\",\"\",\"\",\"\",\"\",\"\",\"\",\"\",\"\",\"\",\"\",\"\",\"\",\"\",\"\",\"\",\"\",\"\",\"\",\"\",\"\",\"\",\"\",\"\",\"\",\"\",\"\",\"\",\"\",\"\",\"\",\"\",\"\",\"\",\"\",\"\",\"\",\"\",\"\",\"\",\"\",\"\",\"\",\"\",\"\",\"\",\"\",\"\",\"\",\"\",\"\",\"\",\"\",\"\",\"\",\"\",\"\",\"\",\"\",\"\",\"\",\"\",\"\",\"\",\"\",\"\",\"\",\"\",\"\",\"\",\"\",\"\",\"\",\"\",\"\",\"\",\"\",\"\",\"\",\"\",\"\",\"\",\"\",\"\",\"\",\"\",\"\",\"\",\"\",\"\",\"\",\"\",\"\",\"\",\"\",\"\",\"\",\"\",\"\",\"\",\"\",\"\",\"\",\"\",\"\",\"\",\"\",\"\",\"\",\"\",\"\",\"\",\"\",\"\",\"\",\"\",\"\",\"\",\"\",\"\",\"\",\"\",\"\",\"\",\"\",\"\",\"\",\"\",\"\",\"\",\"\",\"\",\"\",\"\",\"\",\"\",\"\",\"\",\"\",\"\",\"\",\"\",\"\",\"\",\"\",\"\",\"\",\"\",\"\",\"\",\"\",\"\",\"\",\"\",\"\",\"\",\"\",\"\",\"\",\"\",\"\",\"\",\"\",\"\",\"\",\"\",\"\",\"\",\"\",\"\",\"\",\"\",\"\",\"\",\"\",\"\",\"\",\"\",\"\",\"\",\"\",\"\",\"\",\"\",\"\",\"\",\"\",\"\",\"\",\"\",\"\",\"\",\"\",\"\",\"\",\"\",\"\",\"\",\"\",\"\",\"\",\"\",\"\",\"\",\"\",\"\",\"\",\"\",\"\",\"\",\"\",\"\",\"\",\"\",\"\",\"\",\"\",\"\",\"\",\"\",\"\",\"\",\"\",\"\",\"\",\"\",\"\",\"\",\"\",\"\",\"\",\"\",\"\",\"\",\"\",\"\",\"\",\"\",\"\",\"\",\"\",\"\",\"\",\"\",\"\",\"\",\"\",\"\",\"\",\"\",\"\",\"\",\"\",\"\",\"\",\"\",\"\",\"\",\"\",\"\",\"\",\"\",\"\",\"\",\"\",\"\",\"\",\"\",\"\",\"\",\"\",\"\",\"\",\"\",\"\",\"\",\"\",\"\",\"\",\"\",\"\",\"\",\"\",\"\",\"\",\"\",\"\",\"\",\"\",\"\",\"\",\"\",\"\",\"\",\"\",\"\",\"\",\"\",\"\",\"\",\"\",\"\",\"\",\"\",\"\",\"\",\"\",\"\",\"\",\"\",\"\",\"\",\"\",\"\",\"\",\"\",\"\",\"\",\"\",\"\",\"\",\"\",\"\",\"\",\"\",\"\",\"\",\"\",\"\",\"\",\"\",\"\",\"\",\"\",\"\",\"\",\"\",\"\",\"\",\"\",\"\",\"\",\"\",\"\",\"\",\"\",\"\",\"\",\"\",\"\",\"\",\"\",\"\",\"\",\"\",\"\",\"\",\"\",\"\",\"\",\"\",\"\",\"\",\"\",\"\",\"\",\"\",\"\",\"\",\"\",\"\",\"\",\"\",\"\",\"\",\"\",\"\",\"\",\"\",\"\",\"\",\"\",\"\",\"\",\"\",\"\",\"\",\"\",\"\",\"\",\"\",\"\",\"\",\"\",\"\",\"\",\"\",\"\",\"\",\"\",\"\",\"\",\"\",\"\",\"\",\"\",\"\",\"\",\"\",\"\",\"\",\"\",\"\",\"\",\"\",\"\",\"\",\"\",\"\",\"\",\"\",\"\",\"\",\"\",\"\",\"\",\"\",\"\",\"\",\"\",\"\",\"\",\"\",\"\",\"\",\"\",\"\",\"\",\"\",\"\",\"\",\"\",\"\",\"\",\"\",\"\",\"\",\"\",\"\",\"\",\"\",\"\",\"\",\"\",\"\",\"\",\"\",\"\",\"\",\"\",\"\",\"\",\"\",\"\",\"\",\"\",\"\",\"\",\"\",\"\",\"\",\"\",\"\",\"\",\"\",\"\",\"\",\"\",\"\",\"\",\"\",\"\",\"\",\"\",\"\",\"\",\"\",\"\",\"\",\"\",\"\",\"\",\"\",\"\",\"\",\"\",\"\",\"\",\"\",\"\",\"\",\"\",\"\",\"\",\"\",\"\",\"\",\"\",\"\",\"\",\"\",\"\",\"\",\"\",\"\",\"\",\"\",\"\",\"\",\"\",\"\",\"\",\"\",\"\",\"\",\"\",\"\",\"\",\"\",\"\",\"\",\"\",\"\",\"\",\"\",\"\",\"\",\"\",\"\",\"\",\"\",\"\",\"\",\"\",\"\",\"\",\"\",\"\",\"\",\"\",\"\",\"\",\"\",\"\",\"\",\"\",\"\",\"\",\"\",\"\",\"\",\"\",\"\",\"\",\"\",\"\",\"\",\"\",\"\",\"\",\"\",\"\",\"\",\"\",\"\",\"\",\"\",\"\",\"\",\"\",\"\",\"\",\"\",\"\",\"\",\"\",\"\",\"\",\"\",\"\",\"\",\"\",\"\",\"\",\"\",\"\",\"\",\"\",\"\",\"\",\"\",\"\",\"\",\"\",\"\",\"\",\"\",\"\",\"\",\"\",\"\",\"\",\"\",\"\",\"\",\"\",\"\",\"\",\"\",\"\",\"\",\"\",\"\",\"\",\"\",\"\",\"\",\"\",\"\",\"\",\"\",\"\",\"\",\"\",\"\",\"\",\"\",\"\",\"\",\"\",\"\",\"\",\"\",\"\",\"\",\"\",\"\",\"\",\"\",\"\",\"\",\"\",\"\",\"\",\"\",\"\",\"\",\"\",\"\",\"\",\"\",\"\",\"\",\"\",\"\",\"\",\"\",\"4_email_protocolo_login\"],\"textfont\":{\"size\":12},\"x\":[0.6379024386405945,2.036738157272339,2.0244226455688477,1.3977992534637451,2.8840103149414062,1.8626508712768555,1.6142116785049438,3.6668214797973633,-1.4012393951416016,3.3504254817962646,3.4124045372009277,1.8875665664672852,2.8667807579040527,3.6232550144195557,3.215662717819214,-2.417039155960083,1.1907588243484497,0.9266034364700317,4.200639724731445,1.9720840454101562,1.939576268196106,2.7976934909820557,3.3030829429626465,1.8122940063476562,-1.8667433261871338,3.12607479095459,2.227527618408203,1.1243641376495361,2.227647304534912,1.7055743932724,1.4905027151107788,2.938133478164673,1.3006333112716675,1.6512786149978638,2.326202630996704,3.270142078399658,0.5292167067527771,1.7746233940124512,2.8007805347442627,2.333622932434082,-0.8663975596427917,1.6901808977127075,-2.419041633605957,4.269392967224121,1.7985063791275024,1.790615200996399,1.3411719799041748,2.26851487159729,1.6398173570632935,3.3842082023620605,3.2513041496276855,2.0885908603668213,1.163804531097412,2.9720165729522705,3.199951648712158,2.269766092300415,1.7683931589126587,1.4678759574890137,3.665273904800415,4.261762619018555,3.004927396774292,1.421043872833252,2.012481212615967,1.9186314344406128,2.1589221954345703,2.4457781314849854,2.2522833347320557,2.188190460205078,1.9435937404632568,4.287469863891602,2.414757013320923,-1.0676180124282837,3.3386783599853516,1.4461874961853027,2.3378536701202393,0.8390505909919739,2.209197998046875,-2.419386386871338,2.2467730045318604,2.0227558612823486,3.0627353191375732,2.277313232421875,2.301598310470581,2.863071918487549,-2.2284867763519287,1.887224555015564,3.009260416030884,1.3002310991287231,0.8076598048210144,1.690236210823059,2.7238965034484863,1.3265334367752075,3.645606756210327,2.1952061653137207,0.9252766370773315,1.5432459115982056,-2.5772905349731445,1.8044415712356567,3.3917222023010254,1.8536081314086914,2.308363199234009,3.3418681621551514,4.237057209014893,0.21204569935798645,-1.8802688121795654,4.321763038635254,2.272965431213379,3.134345293045044,0.2074279636144638,3.3631834983825684,3.0364277362823486,2.0561881065368652,4.315649509429932,3.725929021835327,2.5641443729400635,2.176598072052002,1.903580665588379,2.081846237182617,1.330601692199707,2.105138063430786,3.2097232341766357,2.202610731124878,2.750377655029297,1.3022822141647339,1.0755959749221802,1.7729270458221436,2.2591562271118164,1.377066969871521,1.7307482957839966,3.314896583557129,3.3828797340393066,1.6324266195297241,1.7771304845809937,4.393395900726318,1.945923924446106,1.7371180057525635,2.771778106689453,-0.43496468663215637,1.9234013557434082,1.8281913995742798,2.1361348628997803,2.9621124267578125,3.700352907180786,3.271744728088379,3.4007091522216797,3.375018358230591,4.34110689163208,3.1513254642486572,-1.8591463565826416,1.9339650869369507,-2.3244211673736572,3.4615821838378906,1.7256845235824585,2.6075336933135986,1.7699824571609497,1.9846484661102295,2.2056379318237305,1.8213350772857666,2.208925247192383,3.009197235107422,2.834027051925659,1.780580759048462,1.5771056413650513,3.0658609867095947,2.246617078781128,2.9261295795440674,1.8683557510375977,4.307030200958252,2.0282018184661865,0.5325837135314941,0.979537844657898,1.7064749002456665,-2.570035457611084,1.9727566242218018,3.4219114780426025,2.244202136993408,3.3464772701263428,2.2194573879241943,2.1536312103271484,3.0417075157165527,3.2734551429748535,3.166658878326416,4.277542591094971,0.6643102169036865,3.402240753173828,3.703895092010498,1.030089259147644,4.360293388366699,-0.9570875763893127,2.012666702270508,1.5000518560409546,2.120509386062622,4.251016139984131,1.7165447473526,3.0764358043670654,4.298925876617432,0.16968125104904175,1.3653554916381836,0.31842100620269775,1.8804378509521484,2.9162325859069824,4.293204307556152,2.687797784805298,2.351606607437134,2.177891254425049,-2.400770902633667,-0.8260045051574707,4.203839302062988,1.914415955543518,1.8943023681640625,1.865427851676941,1.667383074760437,1.1282875537872314,2.533534049987793,2.9011318683624268,2.397843360900879,3.18853759765625,1.1491080522537231,1.8867952823638916,1.4089032411575317,2.1096038818359375,1.2989915609359741,1.6175429821014404,1.7129292488098145,1.7756563425064087,3.377100944519043,2.1724965572357178,4.2393035888671875,1.8132251501083374,1.6943296194076538,0.27216771245002747,2.036625623703003,2.2208735942840576,2.9393839836120605,3.4740335941314697,-2.4251632690429688,1.4094446897506714,4.2767205238342285,3.388836622238159,3.2662322521209717,4.301792621612549,3.371270179748535,2.3877933025360107,1.8032217025756836,2.266293525695801,3.659921646118164,2.2626848220825195,3.820230722427368,3.1564862728118896,1.891313076019287,1.4598815441131592,2.7238330841064453,-0.8485338687896729,3.059537172317505,2.212534189224243,3.1183342933654785,1.7866367101669312,1.8794515132904053,3.649091958999634,2.375843048095703,3.4662187099456787,0.6305540800094604,-2.3374533653259277,2.9390170574188232,2.3696563243865967,1.725275993347168,2.8144733905792236,2.9042253494262695,1.3005554676055908,4.321450710296631,-0.07555387169122696,1.7253917455673218,3.649719715118408,2.2260546684265137,1.790217399597168,3.6492505073547363,1.6594650745391846,2.4037907123565674,3.085817337036133,2.252549171447754,2.2725143432617188,4.20645809173584,3.2824740409851074,2.947446584701538,-2.6483044624328613,3.450404405593872,2.9586730003356934,2.122667074203491,2.571965217590332,2.3902149200439453,2.146732807159424,1.855752944946289,1.8434669971466064,0.24120394885540009,2.6048195362091064,1.973015308380127,2.062012195587158,1.0695258378982544,-1.85525643825531,1.4649969339370728,3.333893060684204,2.2109193801879883,1.3544528484344482,3.3197286128997803,1.1481873989105225,-1.988292932510376,-2.4185218811035156,2.8457753658294678,3.3410887718200684,1.2571645975112915,3.3573668003082275,2.242262840270996,2.7370517253875732,2.3721911907196045,4.045095443725586,-2.4270901679992676,2.5443954467773438,2.7773873805999756,1.7403429746627808,0.8943808078765869,1.6841150522232056,1.0510808229446411,2.883837938308716,3.185171127319336,3.249418020248413,2.5860722064971924,2.2104225158691406,4.330799102783203,1.738025188446045,3.7228753566741943,-6.661782264709473,2.902299404144287,4.2669501304626465,1.0585795640945435,0.6343318223953247,1.7997844219207764,4.283560276031494,1.8971673250198364,2.2868332862854004,4.270762920379639,2.2544798851013184,1.856074333190918,1.7856879234313965,3.2988367080688477,2.179738759994507,1.9579061269760132,3.3777828216552734,2.8037350177764893,3.271803140640259,1.5829458236694336,2.331303119659424,1.3259694576263428,-0.4947645366191864,1.7671005725860596,4.261536598205566,2.0677499771118164,-2.38959002494812,2.9152355194091797,1.2674564123153687,0.21048055589199066,2.496161699295044,2.1231086254119873,1.3665363788604736,3.437063694000244,2.28296160697937,3.158215284347534,4.310183525085449,1.6407485008239746,1.778856635093689,2.8188467025756836,-2.390899896621704,1.497636079788208,3.0134544372558594,-1.4281624555587769,1.8689314126968384,-0.39138129353523254,-1.8295069932937622,-2.4075801372528076,-2.115302085876465,3.628988027572632,4.318410396575928,1.7400962114334106,4.323028087615967,2.648592710494995,1.2627966403961182,1.713381290435791,1.8180885314941406,3.3667681217193604,1.3427335023880005,2.190742015838623,2.362778425216675,2.0447046756744385,2.986140489578247,1.9112162590026855,1.9704149961471558,4.114177227020264,3.2990567684173584,3.3408939838409424,2.3353090286254883,3.1886017322540283,1.2257026433944702,4.150022983551025,3.3517699241638184,2.3757517337799072,2.2612595558166504,1.7491586208343506,4.106076717376709,3.560389757156372,2.2882628440856934,3.2332732677459717,2.950805425643921,3.116600513458252,2.19382381439209,3.06558895111084,2.784106492996216,3.1168038845062256,3.3109636306762695,2.2645761966705322,1.782918095588684,4.271849632263184,1.0541967153549194,3.3150837421417236,-2.4553394317626953,1.3079001903533936,2.2511818408966064,2.194216012954712,3.105189323425293,1.9501885175704956,1.3721978664398193,0.21163305640220642,-1.7274140119552612,0.9196375012397766,2.0151302814483643,2.226884365081787,-2.4517717361450195,-1.6456878185272217,1.7455261945724487,1.9321049451828003,2.2567245960235596,1.2060983180999756,1.967661738395691,3.2805745601654053,2.7988646030426025,3.301266670227051,3.211273431777954,0.9469254612922668,1.1191654205322266,2.80303692817688,1.9254233837127686,2.2167720794677734,3.015636920928955,2.223701238632202,2.4732441902160645,1.0820435285568237,2.4193966388702393,0.12577776610851288,2.2544898986816406,1.9304975271224976,1.5243651866912842,2.9007139205932617,-0.9389140605926514,-2.6251564025878906,2.026372194290161,2.154470205307007,1.6122666597366333,2.177698850631714,-2.267488718032837,1.5679118633270264,4.317004680633545,2.2657527923583984,1.4973716735839844,-2.4174444675445557,3.4502034187316895,1.5954464673995972,2.2447211742401123,1.9536668062210083,0.9536830186843872,2.2428503036499023,2.770657777786255,1.8005702495574951,2.1396360397338867,3.5527760982513428,1.75355863571167,2.072920322418213,3.3196630477905273,2.9986443519592285,3.1335854530334473,-0.3490859568119049,1.495037317276001,3.0842134952545166,0.4725286662578583,1.2883754968643188,2.225458860397339,1.8237336874008179,2.519984722137451,1.5442043542861938,4.24155855178833,4.033241271972656,1.757336139678955,1.4007375240325928,-2.4168834686279297,1.0184657573699951,2.696532964706421,1.67772376537323,3.2447736263275146,1.0204240083694458,1.2635236978530884,3.26188325881958,1.7152925729751587,2.127319812774658,1.957813024520874,3.534285306930542,2.7693214416503906,2.854417324066162,-2.2804512977600098,0.5748445987701416,2.001408815383911,3.2540125846862793,2.8885655403137207,3.0155608654022217,2.8662142753601074,4.253232002258301,1.9678436517715454,2.6821560859680176,2.2177047729492188,1.4174909591674805,1.588440179824829,1.3741567134857178,3.269956350326538,2.172008514404297,2.026381015777588,2.1333439350128174,4.371275901794434,1.239502191543579,2.4690451622009277,1.892549991607666,-2.3907511234283447,1.1638926267623901,4.278495788574219,4.295502185821533,3.3995296955108643,-1.4632320404052734,3.3124139308929443,2.0582876205444336,2.3448097705841064,0.8807833194732666,4.300435543060303,3.442017078399658,3.0793864727020264,2.261030673980713,2.463219404220581,1.8795405626296997,0.9545270800590515,3.134742021560669,2.3988771438598633,4.257558822631836,1.7514640092849731,2.4295125007629395,0.6230126619338989,2.36618709564209,3.344235420227051,3.1882410049438477,2.94682240486145,2.1457011699676514,4.310206413269043,4.364355087280273,1.7865514755249023,-2.320380687713623,1.3281574249267578,2.2419135570526123,1.2399793863296509,1.3660179376602173,2.9278018474578857,2.021005392074585,-2.3014485836029053,3.243195056915283,2.118931293487549,1.6778873205184937,1.8635942935943604,1.6788560152053833,-0.1275053322315216,3.4302496910095215,1.3261830806732178,3.2517802715301514,3.3138325214385986,2.858748435974121,2.899031162261963,3.229372978210449,1.641710877418518,2.391807794570923,2.0662314891815186,-2.2502944469451904,2.264636516571045,3.045473575592041,4.17425012588501,1.6100469827651978,1.8430429697036743,1.946550726890564,2.145961046218872,1.6461561918258667,1.8746768236160278,-2.318042278289795,2.003849506378174,2.0611648559570312,3.3371741771698,1.9803696870803833,1.6290758848190308,3.1575767993927,2.1288294792175293,3.7237908840179443,1.137762427330017,3.4180455207824707,2.0125482082366943,1.7494087219238281,2.3750224113464355,2.240494966506958,2.859215021133423,4.219287872314453,3.2396631240844727,1.3297808170318604,3.1786859035491943,2.3041014671325684,2.1725707054138184,4.301846027374268,2.0863101482391357,0.8865765929222107,1.8097585439682007,0.7244976162910461,4.23774528503418,2.7846686840057373,2.3448362350463867,0.8875002861022949,3.215533494949341,4.319044589996338,3.2349274158477783,1.3117475509643555,0.8128899335861206,2.0915019512176514,4.366702079772949,2.5013041496276855,3.0205235481262207,2.3624298572540283,1.7509781122207642,4.096791744232178,2.3150672912597656,1.3126368522644043,1.553295612335205,3.3960518836975098,2.095519542694092,-2.4391446113586426,3.2373013496398926,1.1048169136047363,1.792556643486023,2.351090431213379,3.1829826831817627,1.4021217823028564,1.4628428220748901,2.144749879837036,3.370650053024292,1.1226649284362793,-3.7006869316101074,2.4300336837768555,2.143564224243164,2.0837602615356445,-1.9725030660629272,-0.8310969471931458,3.341256618499756,2.177351713180542,2.434568166732788,2.9994640350341797,1.7047585248947144,2.886528253555298,2.1942873001098633,2.3180336952209473,3.2197048664093018,2.9795923233032227,1.8829368352890015,3.234196424484253,0.48560014367103577,4.284622669219971,2.803375005722046,1.2316361665725708,3.1634762287139893,4.194934368133545,2.2780978679656982,4.0947585105896,3.116554021835327,2.3988940715789795,4.043281555175781,3.428083896636963,1.133837103843689,3.664452075958252,1.378989577293396,-2.294649600982666,0.48050057888031006,3.201241970062256,1.854699730873108,0.7264267802238464,-0.3216538429260254,3.39172101020813,1.832175612449646,2.6176106929779053,3.1783206462860107,2.716230869293213,1.6890676021575928,3.0922508239746094,-2.418092966079712,1.9118609428405762,2.256423234939575,1.4620078802108765,2.22802472114563,2.117974042892456,-2.585737943649292,-2.7497355937957764,2.8335232734680176,1.9095603227615356,1.0124505758285522,4.218886375427246,1.4669052362442017,1.816368579864502,3.2758688926696777,2.2947888374328613,2.15924072265625,2.390284299850464,2.9187939167022705,2.777905225753784,3.15916109085083,2.1394479274749756,2.2275760173797607,3.643472909927368,1.298868179321289,3.3338167667388916,4.367982864379883,1.9911922216415405,1.7932870388031006,1.571448802947998,1.8311195373535156,1.6955372095108032,3.212803363800049,1.9854649305343628,3.1573679447174072,1.744006872177124,-2.432441473007202,1.3325976133346558,2.290678024291992,2.337212324142456,1.6193822622299194,3.3519670963287354,2.9266977310180664,3.2856123447418213,2.055844783782959,2.2776527404785156,1.8870266675949097,1.5824917554855347,2.2197463512420654,3.34580659866333,2.2055749893188477,3.4220283031463623,2.2584123611450195,2.25679087638855,3.1817891597747803,-2.416811466217041,1.847414255142212,2.2645959854125977,2.3321139812469482,2.801386833190918,1.8985323905944824,4.322802543640137,2.259274482727051,4.320606708526611,3.6395444869995117,2.092918634414673,2.2525534629821777,2.254871368408203,2.258100986480713,4.0656046867370605,1.8899059295654297,3.400275468826294,4.280971050262451,-0.4293626546859741,4.35090446472168,1.6397625207901,1.9570740461349487,2.2269093990325928,2.1760590076446533,4.274016380310059,3.1905815601348877,0.8980197310447693,4.257129669189453,2.1541123390197754,4.326150417327881,1.740297555923462,3.37150239944458,1.7182893753051758,1.3629010915756226,2.3816490173339844,1.9071553945541382,1.3067152500152588,1.9244022369384766,1.8936309814453125,4.332205772399902,-1.4278186559677124,2.376383066177368,3.2324841022491455,2.8761377334594727,4.341128349304199,2.079376697540283,-2.3200161457061768,2.2609899044036865,1.4506199359893799,0.9246788620948792,1.9062387943267822,2.0796332359313965,1.114480972290039,1.7015786170959473,3.08200740814209,-2.3381214141845703,1.7994165420532227,1.2596616744995117,1.8938714265823364,1.6190000772476196,2.2870442867279053,4.280301570892334,3.752936601638794,2.006622552871704,3.2829957008361816,1.7194432020187378,3.3120291233062744,2.7804512977600098,1.8270469903945923,-0.6611592173576355,3.3238089084625244,3.0691614151000977,2.3843157291412354,4.264896392822266,2.2191812992095947,1.6032872200012207,1.7362788915634155,0.7195217609405518,2.1742851734161377,3.3441171646118164,1.934027075767517,3.337805986404419,1.8983807563781738,3.0685818195343018,1.6749207973480225,3.1846399307250977,1.5567485094070435,4.314448356628418,-0.3318369686603546,3.3217971324920654,1.6168017387390137,1.626693844795227,2.2131688594818115,2.2405288219451904,2.0236968994140625,3.317882537841797,2.794559955596924,1.3973445892333984,3.634931802749634,1.0903795957565308,4.191380023956299,0.4362243413925171,2.285463333129883,2.220494508743286,2.2940189838409424,2.136634588241577,1.5432651042938232,3.29248046875,1.89673912525177,4.258038520812988,3.190542697906494,2.0316944122314453,4.246359825134277,4.2459001541137695,-2.3908870220184326,3.349489688873291,3.3121449947357178,2.056828260421753,3.248399496078491,1.7735849618911743,3.171359062194824,2.16859769821167,4.310011386871338,1.3051170110702515,3.0607070922851562,2.3737282752990723,2.192107677459717,-2.364870548248291,1.1687068939208984,2.8301708698272705,3.3442623615264893,2.252159357070923,2.6749324798583984,3.468580484390259,-2.415527582168579,-2.3894460201263428,3.1770453453063965,1.968869686126709,3.282749652862549,0.38379859924316406,0.23960475623607635,-2.2879958152770996,1.4651318788528442,-1.4797312021255493,1.7153021097183228,3.342496871948242,3.266676902770996,1.620926022529602,2.0255258083343506,1.6655526161193848,3.4127769470214844,1.5129204988479614,2.701908588409424,2.3560714721679688,-0.8025595545768738,4.222972869873047,1.5409363508224487,4.0516767501831055,2.0499942302703857,3.276998281478882,4.325870513916016,1.8657253980636597,1.8939379453659058,1.4919462203979492,2.335872173309326,4.2712178230285645,-2.799302339553833,2.8869214057922363,4.318917751312256,4.100035190582275,2.394160509109497,1.9116384983062744,3.2468175888061523,2.9454526901245117,-2.2058606147766113,2.217433214187622,1.06317138671875,1.5715343952178955,0.7651958465576172,1.9989917278289795,1.9510018825531006,2.245377779006958,2.208622694015503,1.8799560070037842,4.245776176452637,1.7226743698120117,4.331755638122559,3.3499362468719482,3.1174347400665283,3.2629263401031494,2.4330852031707764,1.3387576341629028,2.846642017364502,0.4942852854728699,1.9131697416305542,3.6510329246520996,2.850409746170044,1.9298707246780396,3.765840530395508,3.3453445434570312,3.5015757083892822,0.4283907115459442,2.2885453701019287,1.4429924488067627,1.445061445236206,1.6674258708953857,4.237215995788574,1.820080041885376,1.7039666175842285,2.9595754146575928,1.4252147674560547,4.2298455238342285,2.280562400817871,-2.1785099506378174,-0.16183961927890778,1.291622281074524,2.9486422538757324,3.3263561725616455,2.0885932445526123,3.2472803592681885,1.749947190284729,1.192125916481018,3.0589075088500977,2.067394495010376,2.358717203140259,3.0323050022125244,-2.4194557666778564,1.8369156122207642,2.9835832118988037,3.287064790725708,2.9586029052734375,3.6448001861572266,2.598381280899048,1.5940208435058594,1.9178271293640137,2.918853521347046,3.1413941383361816,2.269960403442383,2.8865320682525635,3.104102611541748,3.117002487182617,-0.29195380210876465,2.7247328758239746,0.5821078419685364,1.6945111751556396,0.4756607711315155,4.0883259773254395,2.2705888748168945,-1.8632513284683228,1.9801472425460815,2.3397128582000732,1.7888240814208984,-1.9395309686660767,3.321573257446289,4.358148574829102,1.835943579673767,2.264723777770996,2.595214366912842,2.3243253231048584,2.977015733718872,-1.9462119340896606,3.2726967334747314,1.8974616527557373,1.0119386911392212,1.8715745210647583,2.0823135375976562,3.344998359680176,2.9466376304626465,1.9622235298156738,1.7911525964736938,3.102623462677002,1.483442783355713,1.846224069595337,1.872487187385559,1.3421030044555664,2.1138315200805664,1.1352578401565552,3.247241973876953,1.8828798532485962,2.1903250217437744,2.136187791824341,-2.5847110748291016,1.8933062553405762,0.6362780928611755,1.299607515335083,-0.9177955389022827,1.9913896322250366,1.4614148139953613,2.206007719039917,2.4431569576263428,2.2304089069366455,1.9306905269622803,3.3510947227478027,1.9261939525604248,1.7313364744186401,3.336820602416992,-2.282400369644165,2.020906448364258,2.0783982276916504,2.2463366985321045,1.0153062343597412,-2.365678071975708,2.4748356342315674,1.3646669387817383,2.1946771144866943,2.9491655826568604,3.3576011657714844,1.8468413352966309,2.3614015579223633,2.361849546432495,-2.541902780532837,3.422041177749634,2.325833320617676,1.3246588706970215,2.348958969116211,2.2545695304870605,1.4123461246490479,1.6584255695343018,3.0366370677948,1.1067336797714233,1.6254442930221558,2.3447487354278564,2.972569465637207,0.9583917856216431,1.9587030410766602,1.8683756589889526,2.1630194187164307,1.9305850267410278,4.3565874099731445,4.356618404388428,2.315511703491211,4.015055179595947,3.0420188903808594,2.729896306991577,-2.399473190307617,2.242638349533081,1.7657407522201538,3.43300724029541,2.9863903522491455,1.7813016176223755,1.6389777660369873,1.3457436561584473,1.63523268699646,1.7010866403579712,1.8765674829483032,1.5921525955200195,1.052523136138916,-2.377793550491333,3.409076690673828,2.990236520767212,1.8644757270812988,3.4635121822357178,2.1107587814331055,2.264777183532715,2.9397192001342773,2.0987277030944824,2.955109119415283,-0.24164678156375885,3.2340352535247803,1.3936312198638916,2.6951637268066406,2.0009639263153076,4.332340240478516,3.1307530403137207,1.3222802877426147,0.8852815628051758,3.32183837890625,2.273712158203125,-1.6819545030593872,-1.1982957124710083,2.042309522628784,2.7985165119171143,-0.8374742865562439,2.2471697330474854,3.302427053451538,3.00026273727417,2.3176140785217285,3.1704297065734863,-2.5864806175231934,1.8282625675201416,2.762755870819092,1.9677891731262207,2.157381296157837,3.2228269577026367,2.301095485687256,1.9185394048690796,1.0386362075805664,2.2310190200805664,2.7355668544769287,1.4825904369354248,3.2877931594848633,3.1795225143432617,1.5511281490325928,2.247779369354248,1.7556062936782837,3.2378156185150146,2.388390064239502,1.4009488821029663,2.2790164947509766,2.1367859840393066,1.2932841777801514,3.51656436920166,-1.7531787157058716,2.331695079803467,1.7497005462646484,4.312028884887695,3.2682697772979736,2.205875873565674,2.0544002056121826],\"y\":[7.644477367401123,9.493474006652832,8.18799114227295,8.146047592163086,8.460230827331543,7.357655048370361,8.858309745788574,13.302550315856934,12.461854934692383,7.88923454284668,8.435575485229492,8.503266334533691,8.991878509521484,8.03198528289795,8.800901412963867,11.741373062133789,7.909404277801514,8.815195083618164,9.111291885375977,8.492246627807617,6.883184432983398,8.422525405883789,9.064983367919922,10.585238456726074,6.871260166168213,8.684003829956055,11.832378387451172,8.879819869995117,7.826955795288086,6.5885114669799805,8.589034080505371,8.822077751159668,6.715568542480469,8.776772499084473,7.622482776641846,8.02597427368164,12.391223907470703,6.69020414352417,9.019951820373535,7.39786958694458,8.940947532653809,9.095183372497559,11.739490509033203,12.665283203125,8.006060600280762,7.395621299743652,7.076921463012695,6.971828937530518,7.839522361755371,8.533232688903809,8.729779243469238,7.007744789123535,8.294567108154297,8.657171249389648,8.649346351623535,6.410249710083008,7.332843780517578,7.736052989959717,7.985496520996094,9.010485649108887,10.461199760437012,7.176680564880371,7.787875175476074,7.413680076599121,6.862246036529541,7.993114471435547,6.723894119262695,6.625076770782471,8.377796173095703,9.07387638092041,7.45751428604126,10.437484741210938,7.889010906219482,9.65564250946045,7.491978645324707,8.5592679977417,6.982178688049316,11.68663215637207,7.812885284423828,8.781318664550781,8.950146675109863,6.8396711349487305,7.5552191734313965,9.070863723754883,11.846456527709961,6.89277982711792,8.616668701171875,8.897360801696777,11.860631942749023,8.797975540161133,7.417949199676514,8.721561431884766,7.987225532531738,7.626476287841797,8.246377944946289,8.930451393127441,8.332320213317871,7.318894863128662,8.516061782836914,8.592738151550293,7.684031963348389,7.917675971984863,9.049941062927246,7.640718460083008,6.879002094268799,9.05856990814209,7.138622760772705,9.02109432220459,8.21854019165039,7.886082649230957,8.665545463562012,8.223692893981934,9.09823226928711,8.010844230651855,7.929804801940918,7.01037073135376,12.853324890136719,8.063103675842285,6.97990608215332,8.603199005126953,8.919574737548828,6.605189323425293,8.72826099395752,6.95393705368042,7.637843132019043,7.385860443115234,6.5131916999816895,7.750182151794434,9.1265869140625,8.597932815551758,7.950275897979736,8.330735206604004,9.163687705993652,9.138687133789062,8.355135917663574,8.439289093017578,10.654885292053223,9.83383846282959,8.70710563659668,8.30069637298584,8.359973907470703,8.895926475524902,8.0803861618042,7.871541500091553,8.699379920959473,7.916922092437744,9.130793571472168,8.919363975524902,6.866063117980957,7.375898361206055,11.805554389953613,8.66754150390625,9.144377708435059,7.6979451179504395,8.519322395324707,10.062841415405273,8.796796798706055,7.68576717376709,6.613766670227051,8.975192070007324,8.412841796875,6.699934482574463,8.846102714538574,8.986111640930176,6.492625713348389,8.78974437713623,8.590856552124023,9.090662002563477,7.598219394683838,7.504806041717529,7.610097408294678,10.707330703735352,11.065995216369629,10.181045532226562,8.665478706359863,6.558531761169434,7.9469451904296875,6.6300950050354,8.116488456726074,8.71329116821289,8.774881362915039,8.917892456054688,9.087069511413574,7.6929497718811035,8.719303131103516,8.068209648132324,8.22700309753418,9.08880615234375,5.438985347747803,8.246194839477539,8.617115020751953,7.848735809326172,9.03147029876709,9.118975639343262,8.837651252746582,9.072465896606445,7.707516193389893,8.522725105285645,7.932496547698975,7.49592924118042,8.643189430236816,9.112441062927246,9.015393257141113,6.754065990447998,8.235184669494629,11.755131721496582,5.4538164138793945,9.142788887023926,7.374953746795654,8.652716636657715,8.376803398132324,8.6373872756958,8.351799011230469,9.011746406555176,8.585836410522461,7.442522048950195,8.898309707641602,8.320440292358398,7.589231491088867,9.154131889343262,7.845139503479004,7.918811798095703,8.555444717407227,6.631406784057617,8.579695701599121,8.711161613464355,8.850346565246582,9.044609069824219,6.939874172210693,8.167628288269043,10.861543655395508,7.856259346008301,8.190178871154785,8.588712692260742,8.488005638122559,11.709303855895996,7.010660171508789,9.035787582397461,8.648520469665527,9.071433067321777,9.150090217590332,7.881384372711182,7.517967700958252,10.083999633789062,6.506857872009277,8.014392852783203,6.696643352508545,8.668926239013672,9.93433952331543,9.259279251098633,7.043821334838867,8.622198104858398,5.452824592590332,10.279036521911621,6.558511734008789,8.695838928222656,7.880034446716309,6.936724662780762,7.992053031921387,7.700023174285889,8.759398460388184,6.186221599578857,6.6733856201171875,8.682733535766602,7.630105972290039,10.685554504394531,8.834273338317871,9.013569831848145,8.455544471740723,9.112293243408203,7.996198654174805,7.445474624633789,7.987748146057129,7.586611747741699,7.385358810424805,7.99204683303833,9.915407180786133,7.4803547859191895,8.723265647888184,6.458686351776123,6.781994342803955,8.953758239746094,9.007307052612305,9.037447929382324,8.408370971679688,10.578289031982422,8.82259750366211,8.95102310180664,8.317975044250488,7.70760440826416,7.625508785247803,7.860057830810547,7.022885322570801,7.710515022277832,8.027206420898438,8.356575012207031,6.643447399139404,7.661435127258301,6.872456073760986,6.99621057510376,8.732266426086426,7.697230815887451,7.845494747161865,9.066202163696289,7.736043930053711,5.490078926086426,11.700973510742188,8.605560302734375,7.914664268493652,8.524045944213867,8.762925148010254,6.444145202636719,8.80482006072998,7.521410942077637,8.726551055908203,11.672219276428223,7.972204208374023,8.20587158203125,9.118402481079102,7.626917839050293,9.080880165100098,7.984701633453369,8.703827857971191,8.629378318786621,8.634852409362793,8.58724308013916,6.929736137390137,9.064234733581543,9.396930694580078,13.471816062927246,11.577312469482422,9.00117015838623,9.043192863464355,8.117411613464355,8.196067810058594,6.853740692138672,9.040807723999023,8.299108505249023,8.083687782287598,9.036430358886719,6.464855194091797,7.8756279945373535,7.942606449127197,8.828434944152832,8.725322723388672,7.839287281036377,7.851807117462158,8.97966480255127,8.138936996459961,6.9393229484558105,7.650961399078369,8.780169486999512,6.866294860839844,13.087450981140137,9.047473907470703,7.344923973083496,11.712170600891113,8.752967834472656,7.883937358856201,7.717909336090088,7.537726402282715,6.7978291511535645,8.749160766601562,8.685498237609863,7.68776273727417,8.631307601928711,9.093425750732422,11.632838249206543,7.819359302520752,9.054588317871094,11.72233772277832,8.87828540802002,12.056228637695312,7.9545440673828125,12.673067092895508,9.927486419677734,6.839900970458984,11.720840454101562,8.978571891784668,7.975611686706543,9.066577911376953,6.649121284484863,9.062002182006836,9.029621124267578,7.6676344871521,6.658566474914551,6.697327613830566,7.875081539154053,6.916880130767822,7.841593265533447,8.3580904006958,10.035442352294922,8.547276496887207,6.8888750076293945,8.082921028137207,8.808000564575195,8.677884101867676,7.876772880554199,7.451779842376709,9.00905990600586,6.62027645111084,9.026779174804688,7.925525188446045,7.465706825256348,6.4757184982299805,8.20560359954834,9.011343002319336,8.110414505004883,6.536604404449463,8.797161102294922,8.717713356018066,8.690868377685547,6.623507022857666,8.98864459991455,8.999493598937988,7.859159469604492,8.201075553894043,6.484597206115723,8.531118392944336,9.09870433807373,7.833277225494385,7.931721210479736,11.612159729003906,8.768710136413574,6.6443352699279785,7.018637180328369,9.001191139221191,8.024017333984375,8.792808532714844,7.688872337341309,6.370447158813477,11.776928901672363,7.205549240112305,6.676939010620117,11.67418098449707,11.044931411743164,9.095353126525879,8.403130531311035,6.447350025177002,9.309815406799316,8.485219955444336,8.079252243041992,7.452847957611084,8.782926559448242,8.555761337280273,6.645146369934082,8.400633811950684,8.902921676635742,6.8528618812561035,8.026617050170898,9.263335227966309,6.6718668937683105,8.10054874420166,7.979602336883545,7.477054595947266,10.89639949798584,6.443243503570557,7.525549411773682,7.896432399749756,8.722554206848145,9.830036163330078,8.434613227844238,7.908307075500488,6.760140419006348,8.659158706665039,6.515032768249512,6.695227146148682,8.192177772521973,9.066256523132324,6.467116355895996,7.293764114379883,11.692476272583008,8.69102954864502,7.30207633972168,6.584634304046631,7.542070388793945,7.725917816162109,7.6325364112854,8.719663619995117,13.029536247253418,7.928839206695557,7.864039421081543,9.050755500793457,7.592700958251953,8.781403541564941,8.787039756774902,9.196980476379395,10.131658554077148,8.473692893981934,7.982734203338623,7.555352210998535,8.012221336364746,6.527825832366943,7.384737968444824,9.093181610107422,8.185452461242676,9.005711555480957,8.90485954284668,8.587054252624512,7.058065414428711,11.734771728515625,6.895230293273926,8.585349082946777,6.938317775726318,10.219878196716309,8.440064430236816,8.363162994384766,8.623650550842285,8.002434730529785,7.509973526000977,8.366321563720703,7.922994613647461,9.063645362854004,8.657450675964355,11.846064567565918,11.78754711151123,7.736462116241455,8.561634063720703,8.773815155029297,11.32297134399414,8.760624885559082,9.032651901245117,7.5464677810668945,8.689014434814453,7.556745529174805,7.589106559753418,8.858807563781738,7.029149055480957,8.755403518676758,7.7644171714782715,11.2149076461792,7.730133533477783,9.10439682006836,7.952456951141357,9.15017032623291,12.69288444519043,11.767327308654785,8.306035041809082,9.002931594848633,9.05976676940918,7.86344051361084,12.433182716369629,8.672083854675293,7.605306625366211,7.659881114959717,7.659977436065674,9.084887504577637,8.664525032043457,8.706681251525879,8.113736152648926,7.609236717224121,7.769222736358643,6.535839080810547,9.104276657104492,7.4975666999816895,9.045494079589844,7.781062126159668,7.903219699859619,12.4070405960083,7.479295253753662,8.77164363861084,8.624741554260254,8.271629333496094,8.191527366638184,9.093611717224121,9.056321144104004,6.620403289794922,11.744172096252441,7.647212028503418,6.648339748382568,8.188347816467285,8.645734786987305,8.844961166381836,8.143331527709961,11.81031322479248,8.063776969909668,11.232563972473145,8.765164375305176,12.680839538574219,6.954589366912842,11.227683067321777,7.86508321762085,8.831589698791504,8.62494945526123,8.69427490234375,8.754868507385254,11.379486083984375,8.935768127441406,7.294723987579346,7.875655651092529,9.406900405883789,11.823929786682129,6.582662105560303,8.601003646850586,9.053481101989746,7.61952018737793,12.656058311462402,7.536047458648682,6.7862162590026855,8.58945083618164,7.767306804656982,11.781549453735352,8.385574340820312,7.925971031188965,7.893091201782227,9.657783508300781,7.260892391204834,8.66908073425293,8.212543487548828,8.172664642333984,8.796892166137695,8.724188804626465,7.797518730163574,9.12775993347168,8.266237258911133,6.538386344909668,9.031477928161621,8.983440399169922,8.084623336791992,12.892358779907227,8.765430450439453,6.630234241485596,7.481653213500977,9.117133140563965,7.838482856750488,7.676338195800781,8.417616844177246,6.597766399383545,9.078017234802246,8.991694450378418,7.709610939025879,7.670897006988525,10.146825790405273,9.3352689743042,8.03899097442627,7.646373271942139,8.300058364868164,6.831226348876953,9.14995288848877,8.969464302062988,8.62783145904541,8.8828125,7.913273334503174,8.868844985961914,7.660783290863037,12.00998592376709,8.923283576965332,9.200313568115234,7.922706127166748,11.67367935180664,8.684298515319824,10.62426471710205,8.372431755065918,7.632543563842773,8.64643383026123,11.629705429077148,12.192015647888184,7.987120628356934,8.51198673248291,8.76469612121582,9.046599388122559,7.44947624206543,7.81613302230835,6.726528167724609,10.683956146240234,8.951661109924316,7.885735511779785,7.498347759246826,7.627620220184326,8.727638244628906,10.484356880187988,10.980707168579102,6.677891254425049,7.814934253692627,8.775880813598633,9.099930763244629,8.519546508789062,8.40302848815918,-0.9202254414558411,9.089007377624512,8.97256851196289,7.4104743003845215,8.984089851379395,9.114778518676758,7.482547283172607,9.064536094665527,8.839996337890625,7.497260093688965,9.25516128540039,8.483346939086914,7.839084625244141,8.007318496704102,8.139296531677246,11.823200225830078,-0.9142835140228271,7.812865257263184,7.066527366638184,8.031133651733398,6.904660701751709,8.457334518432617,7.526133060455322,8.411413192749023,9.142502784729004,8.536020278930664,10.602473258972168,8.619646072387695,11.707763671875,6.944072723388672,6.48423957824707,8.209596633911133,8.80057430267334,7.508156776428223,7.991479396820068,8.41446590423584,8.632587432861328,7.383650779724121,7.772852420806885,9.185638427734375,8.096366882324219,8.354287147521973,8.00793743133545,7.437646389007568,6.745089530944824,7.488667964935303,8.920978546142578,8.602134704589844,8.934432029724121,8.213056564331055,6.780214786529541,7.971255779266357,6.9431071281433105,9.090079307556152,9.173681259155273,7.007593631744385,7.020288944244385,12.7080659866333,7.352879524230957,7.523301124572754,8.54455280303955,7.857229709625244,7.723710060119629,12.76545524597168,11.698692321777344,7.904371738433838,6.638227939605713,7.667654037475586,8.891663551330566,7.891563415527344,8.817813873291016,8.770963668823242,7.710363864898682,7.689119338989258,8.505363464355469,11.101318359375,7.5795488357543945,8.664669036865234,8.352706909179688,8.663686752319336,7.1993231773376465,6.489323139190674,8.046859741210938,11.671549797058105,8.529117584228516,6.592593669891357,8.06248664855957,7.482159614562988,8.379717826843262,9.0709867477417,6.467560291290283,9.103619575500488,8.045921325683594,12.544119834899902,6.476174831390381,6.475675106048584,6.5338029861450195,9.003849029541016,9.524507522583008,8.730104446411133,9.099832534790039,9.833852767944336,9.170222282409668,8.74838924407959,8.323040008544922,7.5624213218688965,7.251772403717041,9.055046081542969,9.070550918579102,8.520752906799316,9.101710319519043,8.414488792419434,9.104618072509766,9.116568565368652,8.714288711547852,9.187067031860352,8.694050788879395,7.513674259185791,8.365354537963867,8.340564727783203,8.735970497131348,6.880353927612305,9.101616859436035,12.467870712280273,7.707047939300537,9.031582832336426,8.690583229064941,9.121047973632812,7.080846786499023,11.817743301391602,6.7842302322387695,7.672120571136475,7.560420989990234,8.3662109375,6.8246002197265625,8.700535774230957,10.513401985168457,8.668366432189941,11.77256965637207,6.64751672744751,7.7107367515563965,6.979602336883545,7.160395622253418,6.5991926193237305,9.046117782592773,8.79295825958252,7.241420269012451,8.056967735290527,8.391880989074707,8.993218421936035,8.59894847869873,7.452174186706543,9.409402847290039,8.679091453552246,12.065356254577637,7.4519572257995605,9.006834983825684,8.101882934570312,8.962077140808105,9.120832443237305,8.033889770507812,7.754074573516846,8.679611206054688,8.228944778442383,8.6129732131958,8.180330276489258,8.965161323547363,7.617871284484863,9.130521774291992,7.532121181488037,9.051227569580078,9.759337425231934,7.9003424644470215,8.347808837890625,12.02629280090332,6.75259256362915,7.668582439422607,9.900056838989258,8.2783842086792,9.010583877563477,7.023556709289551,8.016477584838867,8.222084045410156,8.980077743530273,12.445516586303711,7.604857921600342,7.864470958709717,7.659923553466797,7.569090843200684,8.706454277038574,11.501638412475586,7.5461297035217285,8.989526748657227,9.071495056152344,9.263848304748535,9.048224449157715,9.031465530395508,11.706660270690918,8.634305000305176,7.947535514831543,7.810319900512695,8.973555564880371,7.392077922821045,9.052239418029785,6.693845748901367,9.110980987548828,8.129508972167969,8.711535453796387,7.577469348907471,7.637195587158203,11.730793952941895,7.99794340133667,8.218010902404785,7.896444320678711,6.719040870666504,8.575606346130371,8.656159400939941,11.612759590148926,11.726225852966309,8.678631782531738,10.433290481567383,9.051216125488281,7.929588317871094,7.50453519821167,11.858816146850586,8.105645179748535,10.124114990234375,7.850243091583252,7.895659923553467,8.785433769226074,8.604351043701172,7.510514736175537,8.329941749572754,8.679008483886719,8.733227729797363,8.995835304260254,7.715660572052002,8.991484642028809,8.999557495117188,8.980671882629395,8.97015380859375,8.61760139465332,8.966050148010254,9.149561882019043,12.675100326538086,7.373300552368164,8.714731216430664,7.640589237213135,9.088401794433594,10.948504447937012,8.648178100585938,9.104100227355957,9.3919095993042,7.445065021514893,7.767426013946533,8.702927589416504,8.685961723327637,11.742361068725586,6.589992046356201,8.876884460449219,7.644987106323242,7.811326503753662,8.38048267364502,8.462969779968262,6.468388080596924,6.893893241882324,7.545360088348389,9.01816463470459,6.733396053314209,9.146058082580566,8.61771297454834,8.968483924865723,8.865676879882812,7.416921138763428,7.793249607086182,8.734792709350586,7.427535057067871,8.662501335144043,8.002575874328613,8.893451690673828,8.444372177124023,8.484180450439453,7.879757881164551,7.913636207580566,9.079424858093262,8.424241065979004,7.007710933685303,8.39440631866455,7.108891010284424,9.028958320617676,13.039628982543945,8.734537124633789,8.526520729064941,8.717026710510254,9.047932624816895,6.627939224243164,11.740133285522461,7.0844011306762695,7.746982097625732,8.647229194641113,8.6128568649292,8.137572288513184,8.963972091674805,8.42055892944336,7.943784713745117,8.991249084472656,8.105396270751953,7.712805271148682,8.751200675964355,11.728705406188965,8.701056480407715,8.925013542175293,7.881270885467529,8.685638427734375,7.992509365081787,8.78218936920166,8.635900497436523,7.5695037841796875,8.597977638244629,8.344326972961426,7.642887592315674,8.701902389526367,9.000194549560547,8.804349899291992,6.698552131652832,8.673633575439453,12.374102592468262,12.380346298217773,7.344604015350342,9.003392219543457,7.5527544021606445,6.873970031738281,10.117502212524414,7.5213117599487305,7.596463203430176,8.083629608154297,7.896878719329834,9.165444374084473,7.4169793128967285,6.5984392166137695,7.699046611785889,7.591753959655762,8.654526710510254,5.522472858428955,8.617857933044434,12.660628318786621,7.787271976470947,12.665642738342285,7.817636013031006,8.616803169250488,8.640046119689941,8.452264785766602,7.462111473083496,8.747090339660645,8.75043773651123,7.7580952644348145,9.194156646728516,8.059814453125,8.451641082763672,9.167699813842773,8.962602615356445,7.812471866607666,8.367627143859863,7.543351650238037,10.601024627685547,7.439751148223877,9.323412895202637,7.016625881195068,8.931387901306152,9.400312423706055,7.842425346374512,7.126769542694092,9.070629119873047,8.112977027893066,7.980241298675537,7.901086330413818,7.91642427444458,8.43930721282959,8.396121978759766,11.830781936645508,7.822397708892822,8.23148250579834,8.019291877746582,7.814332008361816,11.769883155822754,8.396122932434082,10.806492805480957,6.562244415283203,8.970966339111328,8.640776634216309,8.291964530944824,7.673843860626221,7.9856672286987305,8.020277976989746,8.690546035766602,8.460402488708496,7.4402570724487305,7.622885227203369,6.43496561050415,7.8752546310424805,7.649938583374023,9.159178733825684,8.674149513244629,8.667510986328125,9.041711807250977,8.994430541992188,8.591737747192383,9.20845890045166,8.492781639099121,7.557258129119873,7.783358573913574,9.156786918640137,9.174254417419434,10.708134651184082,8.937665939331055,9.039965629577637,8.559061050415039,11.697908401489258,6.564903259277344,8.340095520019531,8.722074508666992,8.8912992477417,7.327663421630859,8.10771656036377,7.781280517578125,13.030054092407227,8.895259857177734,7.776224136352539,7.503114223480225,8.223773002624512,11.740785598754883,8.65200424194336,8.67131519317627,7.830114841461182,10.604960441589355,7.785311698913574,8.838577270507812,8.682327270507812,9.019076347351074,9.013282775878906,9.684786796569824,9.196798324584961,12.18870735168457,8.973373413085938,8.397753715515137,9.055261611938477,9.367570877075195,7.708494186401367,7.674008369445801,10.75426197052002,7.716533184051514,6.690796852111816,12.449424743652344,8.077363967895508,8.651082992553711,9.81401538848877,8.023937225341797,9.004685401916504,8.908218383789062,7.711868762969971,8.961061477661133,7.996135234832764,7.928903102874756,7.446926593780518,12.647546768188477,7.917367458343506,8.722396850585938,8.100391387939453,8.362894058227539,7.530855655670166,7.8325276374816895,8.851110458374023,8.857295036315918,8.014701843261719,9.072630882263184,8.315220832824707,6.430136680603027,6.695732116699219,7.981973171234131,7.560368537902832,8.75998592376709,7.736484527587891,6.8053107261657715,7.898808479309082,8.58579158782959,6.394345283508301,7.655934810638428,6.651051998138428,9.100708961486816,8.800756454467773,9.139158248901367,8.49899959564209],\"type\":\"scattergl\"},{\"hoverinfo\":\"text\",\"marker\":{\"opacity\":0.5,\"size\":5},\"mode\":\"markers+text\",\"name\":\"5_atualiza\\u00e7\\u00e3o_data_t\\u00eanis\",\"text\":[\"\",\"\",\"\",\"\",\"\",\"\",\"\",\"\",\"\",\"\",\"\",\"\",\"\",\"\",\"\",\"\",\"\",\"\",\"\",\"\",\"\",\"\",\"\",\"\",\"\",\"\",\"\",\"\",\"\",\"\",\"\",\"\",\"\",\"\",\"\",\"\",\"\",\"\",\"\",\"\",\"\",\"\",\"\",\"\",\"\",\"\",\"\",\"\",\"\",\"\",\"\",\"\",\"\",\"\",\"\",\"\",\"\",\"\",\"\",\"\",\"\",\"\",\"\",\"\",\"\",\"\",\"\",\"\",\"\",\"\",\"\",\"\",\"\",\"\",\"\",\"\",\"\",\"\",\"\",\"\",\"\",\"\",\"\",\"\",\"\",\"\",\"\",\"\",\"\",\"\",\"\",\"\",\"\",\"\",\"\",\"\",\"\",\"\",\"\",\"\",\"\",\"\",\"\",\"\",\"\",\"\",\"\",\"\",\"\",\"\",\"\",\"\",\"\",\"\",\"\",\"\",\"\",\"\",\"\",\"\",\"\",\"\",\"\",\"\",\"\",\"\",\"\",\"\",\"\",\"\",\"\",\"\",\"\",\"\",\"\",\"\",\"\",\"\",\"\",\"\",\"\",\"\",\"\",\"\",\"\",\"\",\"\",\"\",\"\",\"\",\"\",\"\",\"\",\"\",\"\",\"\",\"\",\"\",\"\",\"\",\"\",\"\",\"\",\"\",\"\",\"\",\"\",\"\",\"\",\"\",\"\",\"\",\"\",\"\",\"\",\"\",\"\",\"\",\"\",\"\",\"\",\"\",\"\",\"\",\"\",\"\",\"\",\"\",\"\",\"\",\"\",\"\",\"\",\"\",\"\",\"\",\"\",\"\",\"\",\"\",\"\",\"\",\"\",\"\",\"\",\"\",\"\",\"\",\"\",\"\",\"\",\"\",\"\",\"\",\"\",\"\",\"\",\"\",\"\",\"\",\"\",\"\",\"\",\"\",\"\",\"\",\"\",\"\",\"\",\"\",\"\",\"\",\"\",\"\",\"\",\"\",\"\",\"\",\"\",\"\",\"\",\"\",\"\",\"\",\"\",\"\",\"\",\"\",\"\",\"\",\"\",\"\",\"\",\"\",\"\",\"\",\"\",\"\",\"\",\"\",\"\",\"\",\"\",\"\",\"\",\"\",\"\",\"\",\"\",\"\",\"\",\"\",\"\",\"\",\"\",\"\",\"\",\"\",\"\",\"\",\"\",\"\",\"\",\"\",\"\",\"\",\"\",\"\",\"\",\"\",\"\",\"\",\"\",\"\",\"\",\"\",\"\",\"\",\"\",\"\",\"\",\"\",\"\",\"\",\"\",\"\",\"\",\"\",\"\",\"\",\"\",\"\",\"\",\"\",\"\",\"\",\"\",\"\",\"\",\"\",\"\",\"\",\"\",\"\",\"\",\"\",\"\",\"\",\"\",\"\",\"\",\"\",\"\",\"\",\"\",\"\",\"\",\"\",\"\",\"\",\"\",\"\",\"\",\"\",\"\",\"\",\"\",\"\",\"\",\"\",\"\",\"\",\"\",\"\",\"\",\"\",\"\",\"\",\"\",\"\",\"\",\"\",\"\",\"\",\"\",\"\",\"\",\"\",\"\",\"\",\"\",\"\",\"\",\"\",\"\",\"\",\"\",\"\",\"\",\"\",\"\",\"\",\"\",\"\",\"\",\"\",\"\",\"\",\"\",\"\",\"\",\"\",\"\",\"\",\"\",\"\",\"\",\"\",\"\",\"\",\"\",\"\",\"\",\"\",\"\",\"\",\"\",\"\",\"\",\"\",\"\",\"\",\"\",\"\",\"\",\"\",\"\",\"\",\"\",\"\",\"\",\"\",\"\",\"\",\"\",\"\",\"\",\"\",\"\",\"\",\"\",\"\",\"\",\"\",\"\",\"\",\"\",\"\",\"\",\"\",\"\",\"\",\"\",\"\",\"\",\"\",\"\",\"\",\"\",\"\",\"\",\"\",\"\",\"\",\"\",\"\",\"\",\"\",\"\",\"\",\"\",\"\",\"\",\"\",\"\",\"\",\"\",\"\",\"\",\"\",\"\",\"\",\"\",\"\",\"\",\"\",\"\",\"\",\"\",\"\",\"\",\"\",\"\",\"\",\"\",\"\",\"\",\"\",\"\",\"\",\"\",\"\",\"\",\"\",\"\",\"\",\"\",\"\",\"\",\"\",\"\",\"\",\"\",\"\",\"\",\"\",\"\",\"\",\"\",\"\",\"\",\"\",\"\",\"\",\"\",\"\",\"\",\"\",\"\",\"\",\"\",\"\",\"\",\"\",\"\",\"\",\"\",\"\",\"\",\"\",\"\",\"\",\"\",\"\",\"\",\"\",\"\",\"\",\"\",\"\",\"\",\"\",\"\",\"\",\"\",\"\",\"\",\"\",\"\",\"\",\"\",\"\",\"\",\"\",\"\",\"\",\"\",\"\",\"\",\"\",\"\",\"\",\"\",\"\",\"\",\"\",\"\",\"\",\"\",\"\",\"\",\"\",\"\",\"\",\"\",\"\",\"\",\"\",\"\",\"\",\"\",\"\",\"\",\"\",\"\",\"\",\"\",\"\",\"\",\"\",\"\",\"\",\"\",\"\",\"\",\"\",\"\",\"\",\"\",\"\",\"\",\"\",\"\",\"\",\"\",\"\",\"\",\"\",\"\",\"\",\"\",\"\",\"\",\"\",\"\",\"\",\"\",\"\",\"\",\"\",\"\",\"\",\"\",\"\",\"\",\"\",\"\",\"\",\"\",\"\",\"\",\"\",\"\",\"\",\"\",\"\",\"\",\"\",\"\",\"\",\"\",\"\",\"\",\"\",\"\",\"\",\"\",\"\",\"\",\"\",\"\",\"\",\"\",\"\",\"\",\"\",\"\",\"\",\"\",\"\",\"\",\"\",\"\",\"\",\"\",\"\",\"\",\"\",\"\",\"\",\"\",\"\",\"\",\"\",\"\",\"\",\"\",\"\",\"\",\"\",\"\",\"\",\"\",\"\",\"\",\"\",\"\",\"\",\"\",\"\",\"\",\"\",\"\",\"\",\"\",\"\",\"\",\"\",\"\",\"\",\"\",\"\",\"\",\"\",\"\",\"\",\"\",\"\",\"\",\"\",\"\",\"\",\"\",\"\",\"\",\"\",\"\",\"\",\"\",\"\",\"\",\"\",\"\",\"\",\"\",\"\",\"\",\"\",\"\",\"\",\"\",\"\",\"\",\"\",\"\",\"\",\"\",\"\",\"\",\"\",\"\",\"\",\"\",\"\",\"\",\"\",\"\",\"\",\"\",\"\",\"\",\"\",\"\",\"\",\"\",\"\",\"\",\"\",\"\",\"\",\"\",\"\",\"\",\"\",\"\",\"\",\"\",\"\",\"\",\"\",\"\",\"\",\"\",\"\",\"\",\"\",\"\",\"\",\"\",\"\",\"\",\"\",\"\",\"\",\"\",\"\",\"\",\"\",\"\",\"\",\"\",\"\",\"\",\"\",\"\",\"\",\"\",\"\",\"\",\"\",\"\",\"\",\"\",\"\",\"\",\"\",\"\",\"\",\"\",\"\",\"\",\"\",\"\",\"\",\"\",\"\",\"\",\"\",\"\",\"\",\"\",\"\",\"\",\"\",\"\",\"\",\"\",\"\",\"\",\"\",\"\",\"\",\"\",\"\",\"\",\"\",\"\",\"\",\"\",\"\",\"\",\"\",\"\",\"\",\"\",\"\",\"\",\"\",\"\",\"\",\"\",\"\",\"\",\"\",\"\",\"\",\"\",\"\",\"\",\"\",\"\",\"\",\"\",\"\",\"\",\"\",\"\",\"\",\"\",\"\",\"\",\"\",\"\",\"\",\"\",\"\",\"\",\"\",\"\",\"\",\"\",\"\",\"\",\"\",\"\",\"\",\"\",\"\",\"\",\"\",\"\",\"\",\"\",\"\",\"\",\"\",\"\",\"\",\"\",\"\",\"\",\"\",\"\",\"\",\"\",\"\",\"\",\"\",\"\",\"\",\"\",\"\",\"\",\"\",\"\",\"\",\"\",\"\",\"\",\"\",\"\",\"\",\"\",\"\",\"\",\"\",\"\",\"\",\"\",\"\",\"\",\"\",\"\",\"\",\"\",\"\",\"\",\"\",\"\",\"\",\"\",\"\",\"\",\"\",\"\",\"\",\"\",\"\",\"\",\"\",\"\",\"\",\"\",\"\",\"\",\"\",\"\",\"\",\"\",\"\",\"\",\"\",\"\",\"\",\"\",\"\",\"\",\"\",\"\",\"\",\"\",\"\",\"\",\"\",\"\",\"\",\"\",\"\",\"\",\"\",\"\",\"\",\"\",\"\",\"\",\"\",\"\",\"\",\"\",\"\",\"\",\"\",\"\",\"\",\"\",\"\",\"\",\"\",\"\",\"\",\"\",\"\",\"\",\"\",\"\",\"\",\"\",\"\",\"\",\"\",\"\",\"\",\"\",\"\",\"\",\"\",\"\",\"\",\"\",\"\",\"\",\"\",\"\",\"\",\"\",\"\",\"\",\"\",\"\",\"\",\"\",\"\",\"\",\"\",\"\",\"\",\"\",\"\",\"\",\"\",\"\",\"\",\"\",\"\",\"\",\"\",\"\",\"\",\"\",\"\",\"\",\"\",\"\",\"\",\"\",\"\",\"\",\"\",\"\",\"\",\"\",\"\",\"\",\"\",\"\",\"\",\"\",\"\",\"\",\"\",\"\",\"\",\"\",\"5_atualiza\\u00e7\\u00e3o_data_t\\u00eanis\"],\"textfont\":{\"size\":12},\"x\":[-2.7681379318237305,-2.747565507888794,-0.5675258040428162,-3.0369226932525635,-2.967299222946167,0.5884279012680054,-0.1380734145641327,0.8980885744094849,-1.0133590698242188,-0.8862362504005432,0.5952901840209961,-2.1511013507843018,-2.895203113555908,1.1446232795715332,-0.12825021147727966,-0.21491248905658722,1.2516396045684814,-4.7925124168396,-2.977670907974243,-0.5478276610374451,-1.1952565908432007,-2.2712855339050293,1.2967197895050049,-1.1379578113555908,-1.102381944656372,-0.42515596747398376,-0.48515379428863525,0.04210537672042847,0.3920246660709381,-0.07594875991344452,-2.6305813789367676,0.08486425131559372,-2.8140547275543213,-1.1828465461730957,0.3679783344268799,0.4195622503757477,-0.7953786253929138,-2.8940675258636475,-0.45002636313438416,0.6109071969985962,0.018820343539118767,-0.7957924604415894,0.04294843599200249,-0.7596790790557861,-0.6203605532646179,-0.5174726247787476,0.2286849170923233,-0.9596812725067139,-1.4432148933410645,-0.08551367372274399,-0.7601462006568909,0.6501526236534119,-1.1540929079055786,-0.39222145080566406,-2.9571547508239746,-0.24901923537254333,-1.5708025693893433,0.9148776531219482,-0.7960615754127502,-0.4518662095069885,0.3391578495502472,0.25224682688713074,-0.26053375005722046,-0.030178142711520195,-2.37479829788208,0.3734937906265259,-2.4737002849578857,0.5668620467185974,-0.3765307664871216,-0.4944767951965332,0.35214605927467346,-1.076948881149292,-0.28627094626426697,1.2650326490402222,0.3996237516403198,-6.666097164154053,2.3907759189605713,0.20573602616786957,0.8003798723220825,-0.0069885835982859135,1.7811939716339111,-2.690330743789673,0.5634445548057556,0.5410492420196533,-0.19575805962085724,-2.102043390274048,-2.6885170936584473,-2.5838963985443115,0.3366982936859131,-0.08684341609477997,0.8556429147720337,-0.3900541365146637,-0.9619086384773254,-2.7508912086486816,0.7135419845581055,0.5626468658447266,-0.10723838210105896,1.4484211206436157,0.3235078454017639,0.01543423905968666,1.567291021347046,-0.5522920489311218,0.303252637386322,-0.29922157526016235,-0.8729293942451477,-0.10440068691968918,-0.23054437339305878,-2.089982032775879,-1.440915584564209,-2.4828007221221924,1.1376127004623413,-2.822019100189209,-2.5826964378356934,0.1168629378080368,0.3347755968570709,-2.2117159366607666,-0.09861147403717041,-3.001481771469116,-2.635334014892578,0.5642822980880737,-0.7894234657287598,-0.2707851231098175,-2.5662612915039062,1.0860682725906372,0.43154042959213257,-1.7420878410339355,-2.595055341720581,1.0259026288986206,-0.4049593210220337,0.3341120779514313,-1.5032498836517334,-0.5175347328186035,-3.129786252975464,-0.5261856317520142,-0.7667936682701111,1.5204623937606812,-0.9025459289550781,3.1368134021759033,-0.3708071708679199,-2.5083467960357666,1.3029018640518188,-1.0572330951690674,-2.6579477787017822,-2.9624719619750977,-0.5752111077308655,0.6200217008590698,-0.5727763772010803,-1.215256929397583,-0.8700039982795715,-2.4423789978027344,-0.30996981263160706,1.3040781021118164,-2.9484939575195312,-0.22654414176940918,-0.9913455843925476,0.9388000965118408,0.9529373049736023,-0.5454418659210205,0.421364963054657,-2.4727139472961426,-0.16163590550422668,0.4085615277290344,0.17331963777542114,-0.38825342059135437,1.8121750354766846,-0.025230269879102707,-1.1809805631637573,-0.30257266759872437,-1.40654456615448,-1.1799135208129883,0.5715685486793518,0.8089625835418701,-2.8434982299804688,-0.04897173494100571,1.8240925073623657,-2.9288501739501953,-0.8680023550987244,-2.9364054203033447,-0.6427984833717346,-0.2613386809825897,0.2524481415748596,-1.7022888660430908,-0.5597348809242249,-0.4446150064468384,1.0386512279510498,-0.8473339676856995,0.7629140019416809,-3.038753032684326,0.5526280999183655,-4.78160285949707,0.5872800946235657,0.8063471913337708,0.6013880372047424,-2.615447521209717,-2.9003593921661377,-2.3550548553466797,-1.2099040746688843,-0.5200989842414856,-0.29244959354400635,3.304495096206665,-2.9396896362304688,-0.1606210172176361,-6.668710231781006,-0.7427072525024414,-2.6290245056152344,-0.35343071818351746,0.37376219034194946,13.662446975708008,-2.138016700744629,-0.0297104362398386,13.662586212158203,-0.09767314046621323,-0.647874653339386,-2.0219154357910156,1.2597455978393555,-0.6962922811508179,0.5706978440284729,-3.029754877090454,0.5452739596366882,0.5779162049293518,-2.8934872150421143,0.2538679242134094,-2.9888973236083984,-2.9587106704711914,-0.8695345520973206,-0.03210218623280525,0.7801693677902222,-0.21533745527267456,0.061807576566934586,0.05745798349380493,-2.9053761959075928,-2.9329910278320312,-1.7871638536453247,0.21345120668411255,-0.4186430275440216,0.8838386535644531,0.06472794711589813,0.11986721307039261,-0.5506030917167664,-0.032155659049749374,-0.34791457653045654,-0.49321362376213074,-0.05354239046573639,-0.5133858323097229,-2.840911626815796,-2.7801735401153564,1.6165218353271484,1.5958201885223389,0.4111389219760895,-2.9720194339752197,0.8333067893981934,-0.39621657133102417,-1.8749505281448364,-1.1953190565109253,0.6174084544181824,-2.5848028659820557,-1.1820334196090698,-2.027250051498413,-0.08270449936389923,-0.9224853515625,0.8943381905555725,-2.9725210666656494,-0.45651963353157043,-2.7908005714416504,0.5814161896705627,-0.19998577237129211,1.248523235321045,-2.6860671043395996,0.8315345644950867,1.238010287284851,-0.5247644782066345,-2.113882303237915,0.6312131881713867,0.7058728933334351,-1.591862678527832,-1.1046786308288574,-0.5945285558700562,0.9072455763816833,-2.839233875274658,0.576698362827301,-6.66541862487793,0.8357512354850769,1.6363399028778076,-0.5384108424186707,-0.4835748076438904,-0.3363892436027527,0.4934866726398468,3.0831379890441895,-2.9592347145080566,-1.7906025648117065,-0.0881582647562027,-0.10287845879793167,-2.676625967025757,-2.691152572631836,0.5260988473892212,-0.21377794444561005,3.285132646560669,0.4566357731819153,-2.716475009918213,1.3965386152267456,0.5821563601493835,-2.6887104511260986,-2.8560705184936523,0.5212490558624268,0.08549872785806656,13.663660049438477,-4.787955284118652,-3.030296802520752,0.6188278794288635,-2.7009799480438232,0.09829317033290863,-1.2245326042175293,-2.9883646965026855,-1.1834492683410645,-0.42375364899635315,-0.08374866098165512,0.02073296718299389,-0.025766849517822266,-1.2113759517669678,-0.7700746655464172,-2.9995923042297363,-2.765104293823242,-2.970628261566162,13.661896705627441,0.9952979683876038,-0.3950934112071991,1.1289798021316528,0.774653434753418,-1.7014083862304688,-2.529956102371216,-1.007044792175293,1.6641594171524048,-3.0249383449554443,-0.5700669884681702,0.644504189491272,-0.4953050911426544,-0.4266752302646637,-0.020695054903626442,0.6288347840309143,-1.684113621711731,-1.1822423934936523,-0.1412721872329712,-0.12759122252464294,-2.97096586227417,-2.9723501205444336,0.26279813051223755,-0.10811123251914978,-0.2801191508769989,-0.9789019227027893,-0.14128650724887848,0.7085880041122437,-0.4458041787147522,-2.706038475036621,0.8907784819602966,0.41804632544517517,-2.2014970779418945,-2.8367228507995605,-0.2741856575012207,0.22854278981685638,-2.998798131942749,-0.36147329211235046,-2.658674716949463,-1.9781781435012817,-2.8073666095733643,-0.7909590005874634,-0.35187602043151855,-0.8509110808372498,-0.7796768546104431,0.633301317691803,-2.440006732940674,1.879712700843811,0.6311399340629578,1.269187569618225,-4.787360191345215,-2.4292185306549072,-0.976862370967865,1.5069053173065186,-0.3276004493236542,0.379640132188797,-2.493049144744873,-0.9559504985809326,0.9115899801254272,0.5734698176383972,-6.666415214538574,1.6860862970352173,1.2762048244476318,-0.7695488929748535,0.7599161267280579,-0.9101982116699219,-6.666584014892578,3.4573910236358643,-1.1678657531738281,-0.7957183718681335,-0.4018080532550812,-1.9948898553848267,-1.143924355506897,-1.7276090383529663,-0.32705754041671753,-2.7307403087615967,0.5502626299858093,-1.179107666015625,-2.5293900966644287,0.331671804189682,-0.689712405204773,0.8087527751922607,-0.7823928594589233,-0.5346764326095581,-2.891685724258423,-0.2623368799686432,-0.7529253363609314,-2.729337215423584,-0.5368642210960388,-0.1069854199886322,-1.202100157737732,0.3233613967895508,-0.10189087688922882,-1.1871709823608398,0.16901154816150665,0.7289755344390869,-0.47192588448524475,-4.767492294311523,-2.061061143875122,-2.6000208854675293,0.5457949638366699,1.046081781387329,0.5540176630020142,1.330344796180725,-2.6810495853424072,-0.32206571102142334,0.42450374364852905,-2.478487968444824,0.9014147520065308,-0.4952729344367981,-0.23076696693897247,0.13300421833992004,1.988936185836792,1.2203248739242554,-1.1827119588851929,0.9441630244255066,-1.5798041820526123,0.7680220007896423,1.8449608087539673,0.2178204357624054,-0.28666952252388,-0.020813584327697754,-0.9334996342658997,-0.3630741536617279,1.203122615814209,0.41183704137802124,-0.11389964073896408,-2.0492310523986816,-2.5778908729553223,-3.047743082046509,-0.04779423028230667,0.37909260392189026,0.8009387254714966,0.33896633982658386,0.40654194355010986,-0.5297396779060364,0.412040114402771,-0.26440519094467163,0.10593530535697937,-3.013462543487549,-2.989161729812622,-0.9798637628555298,-0.9762634038925171,-0.7301048636436462,0.7951793670654297,0.265216201543808,-0.0836956650018692,3.3429114818573,-4.755120754241943,-2.588132858276367,-2.6950716972351074,0.18290318548679352,0.616276204586029,1.3007932901382446,0.2102150022983551,0.8088584542274475,0.8027075529098511,-1.0833998918533325,-0.057318273931741714,0.4149005711078644,0.14767272770404816,-2.96744966506958,-2.135260820388794,-2.910884141921997,-0.23679426312446594,-0.5024006962776184,-0.9256510138511658,-0.1915753185749054,0.29160818457603455,1.2932190895080566,-2.760948896408081,0.8909709453582764,-0.25344792008399963,0.9389090538024902,-4.783117294311523,-1.6975862979888916,-0.06733395904302597,-2.871617317199707,-0.8018004894256592,0.9842699766159058,-0.8847870826721191,-0.8798971176147461,0.1922459751367569,1.275880217552185,-2.888218641281128,-2.943385362625122,1.2475615739822388,-1.1436551809310913,0.3614157438278198,-2.6669347286224365,-0.16853803396224976,-0.06034594029188156,1.476924180984497,-2.4162495136260986,-0.5239201784133911,-0.633529543876648,0.39735275506973267,-1.1762558221817017,-1.1811853647232056,0.6472331881523132,-1.1792347431182861,-0.3831712305545807,-0.4039161801338196,0.5272789001464844,-0.29451507329940796,0.555280327796936,-0.020410630851984024,-3.0021445751190186,-0.20045256614685059,1.8880995512008667,-2.6927013397216797,-0.7646169662475586,0.08435462415218353,-1.0279676914215088,2.085658073425293,0.9727358818054199,-0.13743659853935242,-0.378214031457901,-0.5521328449249268,0.8034377694129944,-2.7058582305908203,0.5048268437385559,-2.6677656173706055,-3.0056209564208984,-0.26981568336486816,-0.9842513799667358,-0.23953652381896973,-2.519786834716797,-2.039370536804199,-0.23447909951210022,3.3092026710510254,0.36279064416885376,-2.9082024097442627,-0.1250215470790863,0.796545684337616,1.302549123764038,1.3847252130508423,-0.2948145270347595,1.2989161014556885,-0.025095878168940544,-0.8683918118476868,0.41709545254707336,-0.8281859159469604,-1.1754367351531982,0.6273313760757446,-0.28407734632492065,-2.2888331413269043,-0.8930302858352661,-0.9602305889129639,0.8066616654396057,-0.35590994358062744,-0.9473057389259338,0.09469585865736008,0.3639124631881714,-1.1819164752960205,-0.11254614591598511,-2.5702550411224365,0.9126427173614502,0.4359171986579895,-0.11684118956327438,-2.755002737045288,-1.1809139251708984,-2.65385365486145,1.692434549331665,-2.4395947456359863,-0.2962609529495239,-2.6527271270751953,1.5036017894744873,-0.3111145496368408,0.3554556667804718,-1.435632586479187,-0.6111951470375061,-2.043853759765625,-0.7180893421173096,1.3203836679458618,-1.162257194519043,-0.9869691133499146,-0.0795106589794159,-0.4772130846977234,0.9777736067771912,0.7112670540809631,-1.7945972681045532,-2.99688720703125,-0.7274647951126099,-4.781144618988037,-2.9824342727661133,-2.9589974880218506,0.18212775886058807,-0.2914659380912781,-0.5526038408279419,0.8347905874252319,-0.7793956398963928,-1.1288113594055176,-0.6320629119873047,-1.2295080423355103,-0.584452748298645,0.18358144164085388,0.05550236999988556,-1.1807554960250854,-0.30984070897102356,0.5622568130493164,-2.9254167079925537,-2.4497597217559814,-0.8916561603546143,0.8861860036849976,1.2188236713409424,-0.2426966279745102,0.6137115955352783,0.5924345850944519,-0.42597225308418274,0.814322829246521,0.6052228212356567,0.8604022264480591,0.9707137942314148,0.19597557187080383,-0.9643022418022156,-0.33106255531311035,-0.7278838157653809,1.2911781072616577,1.2049355506896973,1.939161777496338,-2.901516914367676,0.5605185627937317,-0.5376622080802917,-0.5850303769111633,-0.01584756001830101,0.8096076846122742,-2.6915934085845947,5.895047664642334,-3.0247344970703125,0.38720545172691345,1.8153630495071411,-2.9733357429504395,1.751821756362915,0.3767395317554474,-0.9529068470001221,-0.05460289493203163,0.9369067549705505,1.2830264568328857,-0.7015936970710754,-0.6652361154556274,0.56507408618927,-0.06947769969701767,1.4283112287521362,-6.665876388549805,-2.5339393615722656,0.6381837725639343,1.1066832542419434,-2.9213783740997314,1.0133014917373657,0.6069000959396362,0.8732059597969055,-1.1796694993972778,-0.9378814101219177,-2.9193227291107178,-0.6985120177268982,-0.2709014415740967,-0.2089882642030716,13.661717414855957,-0.9068805575370789,-0.4700830280780792,-0.311759889125824,0.9659513235092163,0.2762718200683594,-1.1906088590621948,-0.8922169804573059,-2.448118209838867,-2.8413352966308594,1.4658992290496826,-0.3290059268474579,-2.9358971118927,1.689612865447998,-0.7949046492576599,-2.536780595779419,0.7450321912765503,-0.939142107963562,0.3634980022907257,0.6288580894470215,1.5838584899902344,-2.3999342918395996,-0.9767818450927734,-0.8929769396781921,-0.559817910194397,-2.67191743850708,-4.787055969238281,-4.785815238952637,-4.774771690368652,0.03824785724282265,1.2815649509429932,-0.20754659175872803,-1.4643566608428955,-0.16261039674282074,1.8517451286315918,-1.0598722696304321,0.7381536364555359,0.5565552115440369,-0.48640263080596924,1.492253065109253,0.611581027507782,0.05461816117167473,-1.7016501426696777,-0.8069755434989929,-3.0084340572357178,0.831070065498352,-0.22027790546417236,1.1051180362701416,-0.5323053002357483,-2.49572491645813,1.3549624681472778,-0.24342603981494904,-2.4881088733673096,0.7889040112495422,-2.003516912460327,-2.7865633964538574,-0.46222636103630066,-0.8842616081237793,-2.754432439804077,1.7994861602783203,-6.667293548583984,-3.5486443042755127,-2.9583566188812256,-0.0911281481385231,-1.1437335014343262,-1.293134093284607,-1.1584793329238892,-2.535428285598755,-0.29978644847869873,1.058324933052063,0.42367860674858093,-4.78937292098999,0.5707994699478149,-0.8355913162231445,-6.667065143585205,13.70276927947998,-0.8172938823699951,-0.644772469997406,-2.7267684936523438,0.44296565651893616,-3.241213083267212,-0.7382047176361084,0.004353316035121679,-0.043210405856370926,0.3685033619403839,-4.794009685516357,13.662342071533203,4.7748332023620605,-0.5305671691894531,-0.5550225377082825,-2.6010892391204834,0.40621721744537354,-1.6811407804489136,-0.5492181777954102,1.5856226682662964,0.6085580587387085,-0.43316444754600525,0.5912676453590393,-0.30777913331985474,-2.987312078475952,1.2287893295288086,-2.7987701892852783,-0.07363155484199524,0.7616484761238098,1.0844119787216187,-0.3490977883338928,-0.04197799414396286,-0.63676518201828,-0.04258468747138977,-0.34220802783966064,-0.26685333251953125,0.8864820003509521,-2.6854257583618164,0.6269018650054932,-0.6667542457580566,-0.04983951523900032,0.3323116898536682,-2.462566375732422,0.35966184735298157,-0.885869562625885,1.8856204748153687,0.12311086058616638,1.9828910827636719,-2.9455599784851074,-3.0282297134399414,-0.7932466268539429,-0.8328896760940552,0.8280873894691467,-6.6994805335998535,0.19029492139816284,1.2338560819625854,-0.5974268317222595,-3.0351741313934326,-0.44702282547950745,-2.6565651893615723,-2.566089630126953,-2.6746926307678223,1.8208831548690796,-1.9945400953292847,-2.786120653152466,-0.582493245601654,0.4251289367675781,0.4319886267185211,-1.0626559257507324,0.0878080502152443,-0.5473918914794922,-0.11964643746614456,-0.358644038438797,-1.0932286977767944,-1.0890564918518066,-2.9038543701171875,-1.9749815464019775,-2.7814650535583496,-0.1304086446762085,1.9267765283584595,-0.5554899573326111,2.0372581481933594,0.9646198153495789,-2.507441520690918,3.3714332580566406,-2.102705955505371,-0.37513041496276855,13.662450790405273,-0.8968179225921631,-0.31312865018844604,-1.7755435705184937,-2.757638931274414,0.5821624994277954,-1.9375659227371216,-2.6360299587249756,-0.9381218552589417,-2.0940661430358887,0.8103538751602173,-2.7373249530792236,0.7967835664749146,-0.4289119839668274,-0.586484968662262,0.9248226284980774,-0.7416311502456665,-1.5549460649490356,0.035490233451128006,-0.5561058521270752,0.41441428661346436,0.10953392088413239,0.9496647715568542,-2.095120429992676,0.913016676902771,-0.24173808097839355,-2.349954605102539,-2.4257760047912598,-4.166502475738525,-2.668128490447998,-2.747448205947876,0.1678246408700943,-0.5249852538108826,-0.6836029291152954,-2.7971160411834717,1.226226806640625,-0.05749274417757988,-2.3455965518951416,-2.754502296447754,0.27513587474823,0.7724825739860535,-2.8646111488342285,1.8363616466522217,0.33499422669410706,-0.2587060034275055,-0.419795960187912,-0.006452218629419804,-2.9345085620880127,0.565966010093689,-0.1683967411518097,0.6199721693992615,-2.929112434387207,-0.5362788438796997,-0.3551936149597168,-0.8886274695396423,0.07400830090045929,-0.06538127362728119,0.3690281808376312,-2.141223192214966,-1.1230701208114624,0.7368051409721375,0.8391488194465637,-1.1532316207885742,1.072351098060608,0.6477168202400208,13.662328720092773,-0.47406238317489624,0.08569884300231934,-2.900115966796875,-0.9303838610649109,-2.9923434257507324,-0.2801114320755005,0.3548409044742584,0.18525277078151703,-1.08531653881073,1.8555890321731567,-1.1750982999801636,0.2594243288040161,0.708132266998291,1.600773811340332,0.7662096619606018,-0.7657110095024109,0.31802162528038025,1.2787436246871948,0.14262987673282623,-2.0801217555999756,-0.5385534763336182,1.767953634262085,-0.38484713435173035,-0.5819469690322876,0.5238674879074097,-0.37731900811195374,0.05121833086013794,-0.4624325931072235,1.283765435218811,-2.6335670948028564,-2.9124717712402344,-6.668860912322998,-0.34828951954841614,-2.632514238357544,-0.3130147159099579,-4.78571891784668,1.2404636144638062,-4.785739421844482,1.1772874593734741,-0.9801508188247681,-0.5590305924415588,0.41957470774650574,-0.6502301692962646,-0.00801936723291874,-2.6071605682373047,0.7807174921035767,0.198150634765625,-0.9976385831832886,-0.4846997559070587,0.1174919456243515,-0.8359297513961792,-0.5532107353210449,0.14898169040679932,-0.30236580967903137,-0.4386035203933716,0.27068281173706055,1.2560712099075317,0.6744367480278015,1.5036602020263672,0.768086850643158,-0.40300309658050537,-1.1812094449996948,-0.5617938041687012,-0.2843465507030487,-2.716792345046997,-2.8949785232543945,0.7466102242469788,5.891828536987305,-2.860649347305298,0.15418769419193268,-0.20230220258235931,-0.7980443835258484,0.44008544087409973,-1.147993803024292,0.559119701385498,-0.495722234249115,-2.932422637939453,3.08762788772583,0.8591018319129944,-2.074148654937744,1.4754000902175903,-0.04535466805100441,4.2603230476379395,0.05174149200320244,1.2596465349197388,-0.7948377132415771,-4.786250114440918,-0.9019089937210083,0.4452889561653137,0.34778261184692383,-0.2661694288253784,0.45451101660728455,-4.782447338104248,-2.9400980472564697,-2.8618674278259277,-0.9014905691146851,-2.1006722450256348,-1.7306139469146729,-2.932232618331909,0.8500695824623108,0.979724645614624,0.7642945647239685,-2.790682315826416,1.8264124393463135,-0.3961973786354065,-0.13222786784172058,-0.2754836082458496,-2.7107231616973877,-2.30427885055542,-1.1804606914520264,-2.8959403038024902,0.6877171397209167,-2.651683807373047,-0.3496607542037964,5.869823932647705,1.8372496366500854,0.8800680041313171,-0.49686822295188904,1.539160966873169,-2.0880579948425293,-0.5783331990242004,-2.9216277599334717,0.9517865777015686,0.9406917691230774,0.26982808113098145,0.17951500415802002,-2.940920352935791,1.2521506547927856,0.05054638162255287,1.1718056201934814,-1.067477822303772,-0.27567970752716064,0.10572709143161774,-2.8667173385620117,-0.6102901101112366,0.9002681374549866,-1.7963230609893799,1.2647125720977783,-2.5057566165924072,-0.34993070363998413,0.6550036072731018,-1.172802209854126,-0.36266398429870605,13.662071228027344,-0.2627665400505066,-2.9262664318084717,-2.667931079864502,-3.01242733001709,0.9563192129135132,0.8687499165534973,0.03723395615816116,-0.018107840791344643,0.539315402507782,-1.2348811626434326,-0.10948038846254349,-2.596177101135254,0.8069543242454529,-4.576653003692627,-0.28010210394859314,0.5757579207420349,-0.9836199283599854,-0.3050042688846588,-0.37941974401474,-0.2969067394733429,-0.5025211572647095],\"y\":[11.245203018188477,11.135236740112305,7.989932060241699,11.00875473022461,10.969877243041992,8.035386085510254,7.834530830383301,7.391821384429932,5.55607271194458,5.457366943359375,6.473410129547119,8.940485954284668,10.613426208496094,6.923208236694336,7.748106956481934,7.002035140991211,6.901845932006836,8.140531539916992,10.971757888793945,7.9978508949279785,5.254215717315674,11.037446022033691,7.70297384262085,5.325367450714111,6.583004474639893,8.483074188232422,8.031829833984375,6.902665615081787,6.840543746948242,7.715636730194092,10.629219055175781,7.6030402183532715,11.181459426879883,5.28801155090332,6.79007625579834,6.893561363220215,6.563201427459717,10.903809547424316,6.761509418487549,8.248790740966797,6.84718132019043,6.635812759399414,6.819141864776611,6.709475517272949,6.796726226806641,8.019635200500488,9.115633010864258,5.456961154937744,7.179278373718262,8.016151428222656,6.743351936340332,7.265051364898682,5.3223490715026855,7.16863489151001,10.987326622009277,7.711443901062012,11.017974853515625,7.580704689025879,6.95161771774292,7.755202770233154,6.903284549713135,8.005160331726074,6.934404373168945,7.81904411315918,10.990832328796387,8.34393310546875,11.488377571105957,6.1906633377075195,7.282701015472412,7.057910919189453,7.555660247802734,6.599536418914795,6.945854187011719,13.165507316589355,6.772627353668213,11.577107429504395,7.4850053787231445,7.981125354766846,7.70629358291626,8.3543119430542,7.467629432678223,11.28292465209961,7.482841491699219,6.420416355133057,7.004095077514648,8.767338752746582,10.686949729919434,10.64309310913086,6.842766761779785,7.787591934204102,7.693812847137451,6.8148722648620605,6.738722324371338,11.2749662399292,8.185999870300293,6.446896076202393,7.107377052307129,7.414285182952881,7.586961269378662,8.201647758483887,6.834530830383301,7.998946666717529,7.572139739990234,7.188064098358154,5.455343723297119,7.84022855758667,7.73056697845459,8.98108959197998,10.023271560668945,11.167723655700684,6.772546768188477,10.89955997467041,10.849928855895996,7.973787307739258,7.471682548522949,11.001063346862793,7.095212459564209,10.957779884338379,10.739951133728027,7.093438148498535,7.055599212646484,6.858927249908447,10.781631469726562,8.83419132232666,12.63281536102295,6.40783166885376,10.521719932556152,7.57489538192749,6.836057662963867,7.682290554046631,7.7438130378723145,8.019497871398926,8.964344024658203,8.012804985046387,6.633555889129639,6.286762714385986,6.783116817474365,7.755553245544434,8.046208381652832,10.990775108337402,6.775981426239014,6.849822044372559,11.12912654876709,10.862045288085938,7.980741500854492,7.210546970367432,6.939874172210693,5.260466575622559,6.83373498916626,10.987442970275879,6.935036659240723,6.783788681030273,10.928742408752441,8.134109497070312,6.765079975128174,6.476075172424316,7.526102542877197,7.863897323608398,6.756798267364502,11.59109115600586,7.055194854736328,6.899010181427002,7.365532398223877,6.810572624206543,7.372613430023193,8.151055335998535,5.250777721405029,7.2580718994140625,7.190517902374268,5.273072719573975,6.640345096588135,7.792383193969727,11.057084083557129,7.092574119567871,7.378559112548828,10.978048324584961,6.800511360168457,10.576249122619629,7.006728649139404,6.978557109832764,6.81873893737793,10.901446342468262,8.02108097076416,6.791714191436768,8.010590553283691,6.729153633117676,7.714883327484131,10.941521644592285,7.220731258392334,8.149621963500977,7.26149845123291,7.638453006744385,7.315917015075684,10.669271469116211,10.957296371459961,11.062410354614258,5.307862758636475,7.047759056091309,6.94702672958374,7.968131065368652,11.13137149810791,7.293522357940674,11.572163581848145,7.174577236175537,11.094887733459473,6.931835174560547,8.248403549194336,10.324633598327637,8.987388610839844,7.895780086517334,10.324824333190918,8.10265064239502,6.962404727935791,8.943382263183594,6.791487216949463,12.509608268737793,7.168402671813965,10.986465454101562,8.103020668029785,6.45830774307251,11.107937812805176,9.004814147949219,10.829340934753418,10.544347763061523,6.8401994705200195,6.607382297515869,7.7421088218688965,7.733407497406006,8.673062324523926,7.059329509735107,11.011528968811035,10.953883171081543,10.996232032775879,7.883965492248535,6.942642688751221,7.828866481781006,7.230091571807861,8.577398300170898,6.97454309463501,6.599905014038086,8.103208541870117,8.125349998474121,7.83771276473999,8.026846885681152,11.064626693725586,11.107290267944336,6.392178535461426,6.38287878036499,6.744711875915527,10.842839241027832,7.593263626098633,6.982094764709473,10.968070983886719,7.603926658630371,8.112619400024414,10.668672561645508,5.284634590148926,10.999931335449219,7.088221073150635,6.742513179779053,7.649914264678955,10.950221061706543,6.946645259857178,11.10306167602539,7.268648624420166,6.695515155792236,6.7319254875183105,11.150419235229492,6.866517543792725,7.9091715812683105,8.032676696777344,8.96471881866455,7.264257907867432,8.15127182006836,11.009413719177246,5.358122825622559,7.186903953552246,6.722192287445068,10.668838500976562,6.4939985275268555,11.574832916259766,7.762400150299072,6.4193596839904785,7.006293773651123,6.885961532592773,8.284316062927246,7.396007061004639,7.750981330871582,10.987608909606934,10.970786094665527,7.054940700531006,7.213650226593018,11.143194198608398,10.827425956726074,6.575155735015869,7.012487411499023,10.62961483001709,6.802881240844727,11.132387161254883,6.99572229385376,6.193309783935547,11.194804191589355,11.156389236450195,8.726993560791016,7.894140243530273,10.325950622558594,8.148247718811035,10.994181632995605,6.808490753173828,11.158060073852539,8.609419822692871,7.364542007446289,9.213407516479492,5.2585344314575195,6.887454509735107,7.117114543914795,7.01162052154541,8.163310050964355,7.510584354400635,6.6050801277160645,10.98182487487793,10.810361862182617,10.92779541015625,10.324074745178223,6.890096187591553,6.850329399108887,7.662381649017334,7.423316478729248,10.89953327178955,11.183263778686523,6.759702205657959,6.493301868438721,10.996541976928711,7.995586395263672,7.38773775100708,6.854005813598633,6.944421768188477,7.895596027374268,7.222475051879883,6.262305736541748,5.2778706550598145,7.039015293121338,7.79752779006958,10.940842628479004,10.932469367980957,9.08672046661377,7.1025519371032715,10.270941734313965,5.667999744415283,7.04857873916626,7.260647773742676,6.954401016235352,11.303525924682617,6.637187957763672,6.754685878753662,10.98655891418457,10.996085166931152,7.338832378387451,9.078967094421387,10.820898056030273,7.521393775939941,11.151780128479004,10.684086799621582,10.868147850036621,6.62217903137207,6.905844211578369,6.699921131134033,6.634521484375,7.391674995422363,11.111926078796387,8.317829132080078,8.419770240783691,7.034087657928467,8.145955085754395,11.081110000610352,11.735372543334961,7.700681686401367,7.007446765899658,6.969981670379639,9.364517211914062,6.769338130950928,7.674941539764404,7.22206974029541,11.576824188232422,7.862329006195068,6.7488884925842285,6.573683738708496,7.610971927642822,6.816618919372559,11.576696395874023,8.576653480529785,6.8654561042785645,6.1389479637146,7.548076152801514,10.898578643798828,5.34179162979126,10.942675590515137,7.05877685546875,11.108285903930664,6.430883884429932,5.265015602111816,11.098076820373535,8.398752212524414,12.519017219543457,7.703711986541748,6.6285529136657715,8.006261825561523,10.935237884521484,7.7080888748168945,6.7131452560424805,10.879448890686035,7.338786602020264,6.977102279663086,5.253087043762207,6.824252605438232,7.75579833984375,5.283926486968994,8.021604537963867,7.549105644226074,8.0766019821167,8.134641647338867,8.924253463745117,11.208292007446289,6.459713459014893,8.015460968017578,8.05821704864502,7.929945468902588,11.19214916229248,6.88141393661499,7.549489974975586,9.366429328918457,7.889644622802734,6.847114562988281,7.111562728881836,7.428724765777588,7.906186580657959,6.8510003089904785,5.281574726104736,7.716382026672363,13.012738227844238,8.14577579498291,7.372711658477783,8.301406860351562,7.740474224090576,7.298362731933594,6.981439113616943,6.929346084594727,6.867387771606445,6.614988327026367,6.757497787475586,10.855826377868652,11.124841690063477,10.758831977844238,7.889750957489014,6.764712333679199,7.681013584136963,7.6753830909729,8.784680366516113,6.965427398681641,6.755912780761719,6.976522922515869,8.625276565551758,10.984211921691895,10.809014320373535,6.819653511047363,6.80908727645874,6.82429313659668,7.776819229125977,8.047440528869629,7.866230010986328,8.57925796508789,8.163773536682129,11.106037139892578,11.150449752807617,8.0050048828125,7.2062788009643555,6.7623724937438965,6.8462629318237305,8.580330848693848,8.42484188079834,6.624205589294434,7.244941234588623,6.86083984375,7.823390007019043,10.901750564575195,8.983597755432129,11.045475006103516,8.119502067565918,9.163269996643066,6.784968852996826,7.032100677490234,7.467652320861816,6.745601177215576,10.926896095275879,7.572457313537598,7.089223384857178,7.650594711303711,8.14465618133545,10.887310028076172,7.109228134155273,10.86587142944336,13.181921005249023,6.42803955078125,5.448410511016846,6.8470072746276855,7.725764751434326,6.666605472564697,10.95330810546875,10.95383071899414,6.769711971282959,5.331570148468018,6.788712024688721,11.151968002319336,7.765963554382324,7.794198036193848,7.707172393798828,11.08045482635498,6.48313045501709,7.108771800994873,6.836384296417236,5.275697708129883,5.290319442749023,7.26666259765625,5.291262149810791,6.908326625823975,6.933457851409912,8.473008155822754,6.875871658325195,7.1854095458984375,7.885826110839844,10.97934627532959,7.7466936111450195,8.272295951843262,10.724560737609863,6.852883338928223,12.924844741821289,6.655754566192627,7.603944778442383,6.485575199127197,7.814817428588867,6.92864990234375,7.009179592132568,7.6285810470581055,10.939983367919922,6.5572943687438965,11.191365242004395,10.993356704711914,6.98397159576416,5.683108329772949,6.871692180633545,11.4967679977417,8.838329315185547,7.0253119468688965,9.854565620422363,6.782134532928467,10.533377647399902,7.3795623779296875,7.580694198608398,6.855225086212158,6.877720355987549,6.9373273849487305,6.995426654815674,7.826671600341797,6.347274303436279,6.760034084320068,6.67760705947876,5.270715713500977,7.210465908050537,6.959987640380859,9.544746398925781,5.44739294052124,6.781327247619629,7.703923225402832,6.9598870277404785,6.735424995422363,7.220149993896484,6.894495487213135,5.290984630584717,6.825377941131592,10.623330116271973,6.556398868560791,7.041342258453369,8.186396598815918,11.162843704223633,5.290887832641602,11.130213737487793,6.504951000213623,11.106955528259277,6.915533065795898,11.012372016906738,7.743930816650391,6.924577236175537,6.787841320037842,10.998258590698242,6.788233280181885,11.064611434936523,6.638978958129883,7.799465179443359,5.321625232696533,5.632514953613281,7.90784215927124,8.012168884277344,7.921654224395752,7.4454779624938965,10.973066329956055,10.979362487792969,6.569872856140137,8.149093627929688,10.805925369262695,10.92555046081543,7.970320224761963,6.955717086791992,8.014788627624512,7.561662197113037,7.022266387939453,7.317240238189697,8.011619567871094,5.198502063751221,7.222467422485352,7.995867729187012,7.035430908203125,5.288675308227539,6.95046329498291,8.253477096557617,10.925009727478027,11.0604248046875,5.448572635650635,12.724742889404297,13.125639915466309,6.9346818923950195,7.352564811706543,8.167428970336914,6.985214710235596,12.419093132019043,7.224422454833984,7.682521820068359,7.5563836097717285,7.974476337432861,6.7930588722229,6.967566013336182,6.83180046081543,6.656620979309082,6.869298934936523,7.218535900115967,10.898385047912598,7.276102066040039,8.018545150756836,8.031533241271973,12.683043479919434,6.63804292678833,11.21034049987793,7.336741924285889,10.99315071105957,6.780477523803711,7.409469127655029,10.858936309814453,7.347477436065674,6.896570205688477,6.810303688049316,7.895530700683594,6.5010294914245605,6.669699192047119,6.85960054397583,6.923095226287842,7.280569553375244,7.137443542480469,8.367745399475098,11.574721336364746,11.25284481048584,7.513901233673096,7.8808112144470215,10.911279678344727,7.763099193572998,8.084553718566895,7.611719608306885,5.296411991119385,6.743087291717529,10.976411819458008,6.586624622344971,7.173218250274658,6.970424652099609,10.32435131072998,6.780477523803711,7.047414779663086,6.822371959686279,6.499697685241699,7.155421733856201,7.515575885772705,6.782116889953613,10.948532104492188,10.883359909057617,7.60869026184082,6.992194175720215,10.551936149597168,6.517827033996582,6.594607830047607,10.624035835266113,7.761064052581787,5.436971187591553,6.751405239105225,7.222629547119141,7.736243724822998,11.099928855895996,7.102506637573242,5.4512410163879395,7.988501071929932,11.16846752166748,8.147171974182129,8.146615028381348,8.152029991149902,6.867877006530762,6.676833629608154,6.9571661949157715,10.168402671813965,7.415717601776123,7.36103630065918,5.407696723937988,7.6789326667785645,7.216770172119141,6.8599748611450195,8.380218505859375,8.071677207946777,7.331679821014404,10.89218521118164,6.777824401855469,10.997551918029785,7.652522087097168,7.30126428604126,6.791974067687988,8.067120552062988,11.093655586242676,7.026973724365234,6.938262462615967,11.120475769042969,7.597448825836182,10.897088050842285,11.193730354309082,7.413588047027588,5.455751419067383,10.662508010864258,7.340996265411377,11.57666301727295,8.351095199584961,10.971210479736328,7.383031368255615,5.304849624633789,7.206605911254883,5.312729358673096,10.723523139953613,6.9446024894714355,8.05599308013916,6.767678737640381,8.143994331359863,7.261269569396973,6.797457218170166,11.576080322265625,10.365050315856934,6.869536876678467,6.808945178985596,10.717072486877441,6.675442695617676,14.845882415771484,6.90362024307251,7.083001136779785,7.146629810333252,7.52749490737915,8.138294219970703,10.324634552001953,7.350207328796387,7.171188831329346,8.01002025604248,11.115994453430176,6.8029584884643555,7.226851463317871,8.011181831359863,6.366491794586182,8.025416374206543,7.405731201171875,7.392115116119385,6.916196346282959,10.80209732055664,6.90575647354126,11.148802757263184,12.658862113952637,8.301453590393066,6.8680524826049805,6.903732776641846,6.634250640869141,6.747272968292236,7.480296611785889,6.9235148429870605,7.227313995361328,7.644950866699219,10.949541091918945,8.078049659729004,12.543951988220215,7.815652370452881,6.805541515350342,11.310179710388184,7.544787883758545,6.766264915466309,8.121654510498047,7.304965496063232,8.10348129272461,10.577895164489746,11.002326011657715,6.629408359527588,6.764129161834717,7.654876232147217,11.560811996459961,7.883813381195068,6.877046585083008,7.205653667449951,11.004533767700195,6.844339847564697,11.140162467956543,10.617929458618164,11.178295135498047,7.347394943237305,11.079243659973145,10.69371223449707,7.249342918395996,6.7632880210876465,7.037263870239258,6.92134428024292,7.127058982849121,8.009854316711426,7.0951619148254395,6.903695583343506,5.388338565826416,6.609437942504883,10.949740409851074,6.270034313201904,11.110479354858398,7.0721755027771,7.333557605743408,7.135376930236816,12.716663360595703,6.708995819091797,10.567557334899902,8.61589241027832,6.876500606536865,8.115804672241211,10.3247709274292,7.279402732849121,6.944522380828857,10.914078712463379,11.138351440429688,6.691806793212891,10.967716217041016,10.741324424743652,6.828606605529785,10.996601104736328,7.642152309417725,10.764062881469727,8.23559284210205,6.910512447357178,6.669275760650635,6.639378547668457,6.782989978790283,12.9534912109375,7.024635314941406,6.891416549682617,6.764837265014648,6.845362186431885,6.4851555824279785,10.601753234863281,7.698419570922852,7.704287052154541,11.07026195526123,11.669593811035156,9.886210441589355,11.109572410583496,11.239298820495605,7.377004623413086,7.027369976043701,6.827320575714111,10.865272521972656,6.890329360961914,7.850667953491211,11.081019401550293,11.071331024169922,7.560305118560791,7.602410793304443,10.911364555358887,7.361040115356445,7.484360694885254,6.992016792297363,6.88118839263916,7.222595691680908,10.57320785522461,7.225621700286865,7.066707611083984,7.215996742248535,10.875550270080566,8.007852554321289,8.121009826660156,11.632814407348633,7.224279403686523,7.799514293670654,6.760791778564453,10.990525245666504,8.312899589538574,7.50447940826416,7.636345386505127,5.3217010498046875,7.86746883392334,7.582351207733154,10.32464599609375,6.8177900314331055,9.214653968811035,10.903960227966309,6.801273345947266,10.797103881835938,7.239236354827881,7.580738544464111,7.349948406219482,6.608908176422119,7.37006139755249,5.273149013519287,7.811792373657227,7.1568684577941895,7.710495471954346,7.481156826019287,6.57342004776001,7.69589900970459,6.634316921234131,7.432687282562256,8.96660041809082,8.011944770812988,7.419139862060547,6.973423957824707,7.275796413421631,7.419798374176025,6.703744888305664,7.238309860229492,6.967092990875244,6.77514123916626,10.658846855163574,10.529726028442383,11.575709342956543,6.884231090545654,10.677724838256836,6.86520528793335,8.144915580749512,6.8501176834106445,8.146955490112305,6.75689697265625,6.801922798156738,6.873493671417236,6.851222515106201,7.275099754333496,8.19068431854248,11.144190788269043,7.800636291503906,12.975387573242188,6.84249210357666,8.091257095336914,8.593976020812988,6.767653465270996,8.01287841796875,9.189441680908203,6.958345890045166,6.805266857147217,8.98723316192627,6.849637508392334,8.23961353302002,7.705422878265381,7.680617809295654,6.819798469543457,5.301515579223633,8.96205997467041,6.932765483856201,10.684473991394043,10.921317100524902,8.528475761413574,7.336645603179932,10.432504653930664,8.46737289428711,7.013360023498535,6.753461837768555,6.790152549743652,5.285438060760498,7.49362325668335,8.000872611999512,10.919815063476562,7.738780975341797,7.68206262588501,8.935480117797852,7.714757442474365,7.793527603149414,14.047501564025879,8.620291709899902,6.68727445602417,6.623608589172363,8.14610481262207,5.4459357261657715,6.973572254180908,7.984254837036133,6.9772562980651855,6.812114715576172,8.144782066345215,10.568475723266602,11.00998592376709,6.808932781219482,8.971733093261719,10.943391799926758,10.55330753326416,8.62728500366211,7.657106399536133,7.7373809814453125,10.754887580871582,7.363593578338623,6.904679298400879,7.839254379272461,6.7508416175842285,10.724575996398926,11.062159538269043,5.289924144744873,10.861332893371582,7.931936740875244,10.671467781066895,8.827735900878906,7.377392292022705,7.365832328796387,7.638439178466797,8.025160789489746,7.078358173370361,8.965115547180176,7.253603935241699,10.606842041015625,6.489741325378418,7.5178914070129395,6.6619977951049805,7.287158012390137,10.94415283203125,6.696900367736816,7.175909042358398,8.259459495544434,7.048476696014404,6.972378253936768,6.985324382781982,10.889354705810547,7.046597003936768,7.667898178100586,10.972823143005371,6.891983509063721,8.715224266052246,6.819144248962402,7.343440055847168,5.306182861328125,6.891680717468262,10.324593544006348,6.9732794761657715,10.593894958496094,11.130783081054688,10.992996215820312,6.504770278930664,7.631805419921875,8.206700325012207,6.929662704467773,7.300698757171631,7.539257049560547,7.774888038635254,11.117009162902832,7.9896559715271,9.831385612487793,6.959682941436768,7.2556891441345215,6.794794082641602,8.151260375976562,6.957972526550293,6.96132230758667,8.173394203186035],\"type\":\"scattergl\"},{\"hoverinfo\":\"text\",\"marker\":{\"opacity\":0.5,\"size\":5},\"mode\":\"markers+text\",\"name\":\"6_televis\\u00e3o_livelo_rastreamento\",\"text\":[\"\",\"\",\"\",\"\",\"\",\"\",\"\",\"\",\"\",\"\",\"\",\"\",\"\",\"\",\"\",\"\",\"\",\"\",\"\",\"\",\"\",\"\",\"\",\"\",\"\",\"\",\"\",\"\",\"\",\"\",\"\",\"\",\"\",\"\",\"\",\"\",\"\",\"\",\"\",\"\",\"\",\"\",\"\",\"\",\"\",\"\",\"\",\"\",\"\",\"\",\"\",\"\",\"\",\"\",\"\",\"\",\"\",\"\",\"\",\"\",\"\",\"\",\"\",\"\",\"\",\"\",\"\",\"\",\"\",\"\",\"\",\"\",\"\",\"\",\"\",\"\",\"\",\"\",\"\",\"\",\"\",\"\",\"\",\"\",\"\",\"\",\"\",\"\",\"\",\"\",\"\",\"\",\"\",\"\",\"\",\"\",\"\",\"\",\"\",\"\",\"\",\"\",\"\",\"\",\"\",\"\",\"\",\"\",\"\",\"\",\"\",\"\",\"\",\"\",\"\",\"\",\"\",\"\",\"\",\"\",\"\",\"\",\"\",\"\",\"\",\"\",\"\",\"\",\"\",\"\",\"\",\"\",\"\",\"\",\"\",\"\",\"\",\"\",\"\",\"\",\"\",\"\",\"\",\"\",\"\",\"\",\"\",\"\",\"\",\"\",\"\",\"\",\"\",\"\",\"\",\"\",\"\",\"\",\"\",\"\",\"\",\"\",\"\",\"\",\"\",\"\",\"\",\"\",\"\",\"\",\"\",\"\",\"\",\"\",\"\",\"\",\"\",\"\",\"\",\"\",\"\",\"\",\"\",\"\",\"\",\"\",\"\",\"\",\"\",\"\",\"\",\"\",\"\",\"\",\"\",\"\",\"\",\"\",\"\",\"\",\"\",\"\",\"\",\"\",\"\",\"\",\"\",\"\",\"\",\"\",\"\",\"\",\"\",\"\",\"\",\"\",\"\",\"\",\"\",\"\",\"\",\"\",\"\",\"\",\"\",\"\",\"\",\"\",\"\",\"\",\"\",\"\",\"\",\"\",\"\",\"\",\"\",\"\",\"\",\"\",\"\",\"\",\"\",\"\",\"\",\"\",\"\",\"\",\"\",\"\",\"\",\"\",\"\",\"\",\"\",\"\",\"\",\"\",\"\",\"\",\"\",\"\",\"\",\"\",\"\",\"\",\"\",\"\",\"\",\"\",\"\",\"\",\"\",\"\",\"\",\"\",\"\",\"\",\"\",\"\",\"\",\"\",\"\",\"\",\"\",\"\",\"\",\"\",\"\",\"\",\"\",\"\",\"\",\"\",\"\",\"\",\"\",\"\",\"\",\"\",\"\",\"\",\"\",\"\",\"\",\"\",\"\",\"\",\"\",\"\",\"\",\"\",\"\",\"\",\"\",\"\",\"\",\"\",\"\",\"\",\"\",\"\",\"\",\"\",\"\",\"\",\"\",\"\",\"\",\"\",\"\",\"\",\"\",\"\",\"\",\"\",\"\",\"\",\"\",\"\",\"\",\"\",\"\",\"\",\"\",\"\",\"\",\"\",\"\",\"\",\"\",\"\",\"\",\"\",\"\",\"\",\"\",\"\",\"\",\"\",\"\",\"\",\"\",\"\",\"\",\"\",\"\",\"\",\"\",\"\",\"\",\"\",\"\",\"\",\"\",\"\",\"\",\"\",\"\",\"\",\"\",\"\",\"\",\"\",\"\",\"\",\"\",\"\",\"\",\"\",\"\",\"\",\"\",\"\",\"\",\"\",\"\",\"\",\"\",\"\",\"\",\"\",\"\",\"\",\"\",\"\",\"\",\"\",\"\",\"\",\"\",\"\",\"\",\"\",\"\",\"\",\"\",\"\",\"\",\"\",\"\",\"\",\"\",\"\",\"\",\"\",\"\",\"\",\"\",\"\",\"\",\"\",\"\",\"\",\"\",\"\",\"\",\"\",\"\",\"\",\"\",\"\",\"\",\"\",\"\",\"\",\"\",\"\",\"\",\"\",\"\",\"\",\"\",\"\",\"\",\"\",\"\",\"\",\"\",\"\",\"\",\"\",\"\",\"\",\"\",\"\",\"\",\"\",\"\",\"\",\"\",\"\",\"\",\"\",\"\",\"\",\"\",\"\",\"\",\"\",\"\",\"\",\"\",\"\",\"\",\"\",\"\",\"\",\"\",\"\",\"\",\"\",\"\",\"\",\"\",\"\",\"\",\"\",\"\",\"\",\"\",\"\",\"\",\"\",\"\",\"\",\"\",\"\",\"\",\"\",\"\",\"\",\"\",\"\",\"\",\"\",\"\",\"\",\"\",\"\",\"\",\"\",\"\",\"\",\"\",\"\",\"\",\"\",\"\",\"\",\"\",\"\",\"\",\"\",\"\",\"\",\"\",\"\",\"\",\"\",\"\",\"\",\"\",\"\",\"\",\"\",\"\",\"\",\"\",\"\",\"\",\"\",\"\",\"\",\"\",\"\",\"\",\"\",\"\",\"\",\"\",\"\",\"\",\"\",\"\",\"\",\"\",\"\",\"\",\"\",\"\",\"\",\"\",\"\",\"\",\"\",\"\",\"\",\"\",\"\",\"\",\"\",\"\",\"\",\"\",\"\",\"\",\"\",\"\",\"\",\"\",\"\",\"\",\"\",\"\",\"\",\"\",\"\",\"\",\"\",\"\",\"\",\"\",\"\",\"\",\"\",\"\",\"\",\"\",\"\",\"\",\"\",\"\",\"\",\"\",\"\",\"\",\"\",\"\",\"\",\"\",\"\",\"\",\"\",\"\",\"\",\"\",\"\",\"\",\"\",\"\",\"\",\"\",\"\",\"\",\"\",\"\",\"\",\"\",\"\",\"\",\"\",\"\",\"\",\"\",\"\",\"\",\"\",\"\",\"\",\"\",\"\",\"\",\"\",\"\",\"\",\"\",\"\",\"\",\"\",\"\",\"\",\"\",\"\",\"\",\"\",\"\",\"\",\"\",\"\",\"\",\"\",\"\",\"\",\"\",\"\",\"\",\"\",\"\",\"\",\"\",\"\",\"\",\"\",\"\",\"\",\"\",\"\",\"\",\"\",\"\",\"\",\"\",\"\",\"\",\"\",\"\",\"\",\"\",\"\",\"\",\"\",\"\",\"\",\"\",\"\",\"\",\"\",\"\",\"\",\"\",\"\",\"\",\"\",\"\",\"\",\"\",\"\",\"\",\"\",\"\",\"\",\"\",\"\",\"\",\"\",\"\",\"\",\"\",\"\",\"\",\"\",\"\",\"\",\"\",\"\",\"\",\"\",\"\",\"\",\"\",\"\",\"\",\"\",\"\",\"\",\"\",\"\",\"\",\"\",\"\",\"\",\"\",\"\",\"\",\"\",\"\",\"\",\"\",\"\",\"\",\"\",\"\",\"\",\"\",\"\",\"\",\"\",\"\",\"\",\"\",\"\",\"\",\"\",\"\",\"\",\"\",\"\",\"\",\"\",\"\",\"\",\"\",\"\",\"\",\"\",\"\",\"\",\"\",\"\",\"\",\"\",\"\",\"\",\"\",\"\",\"\",\"\",\"\",\"\",\"\",\"\",\"\",\"\",\"\",\"\",\"\",\"\",\"\",\"\",\"\",\"\",\"\",\"\",\"\",\"\",\"\",\"\",\"\",\"\",\"\",\"\",\"\",\"\",\"\",\"\",\"\",\"\",\"\",\"\",\"\",\"\",\"\",\"\",\"\",\"\",\"\",\"\",\"\",\"\",\"\",\"\",\"\",\"\",\"\",\"\",\"\",\"\",\"\",\"\",\"\",\"\",\"\",\"\",\"\",\"\",\"\",\"\",\"\",\"\",\"\",\"\",\"\",\"\",\"\",\"\",\"\",\"\",\"\",\"\",\"\",\"\",\"\",\"\",\"\",\"\",\"\",\"\",\"\",\"\",\"\",\"\",\"\",\"\",\"\",\"\",\"\",\"\",\"\",\"\",\"\",\"\",\"\",\"\",\"\",\"\",\"\",\"\",\"\",\"\",\"\",\"\",\"\",\"\",\"\",\"\",\"\",\"\",\"\",\"\",\"\",\"\",\"\",\"\",\"\",\"\",\"\",\"\",\"\",\"\",\"\",\"\",\"\",\"\",\"\",\"\",\"\",\"\",\"\",\"\",\"\",\"\",\"\",\"\",\"\",\"\",\"\",\"\",\"\",\"\",\"\",\"\",\"\",\"\",\"\",\"\",\"\",\"\",\"\",\"\",\"\",\"\",\"\",\"\",\"\",\"\",\"\",\"\",\"\",\"\",\"\",\"\",\"\",\"\",\"\",\"\",\"\",\"\",\"\",\"\",\"\",\"\",\"\",\"\",\"\",\"\",\"\",\"\",\"\",\"\",\"\",\"\",\"\",\"\",\"\",\"\",\"\",\"6_televis\\u00e3o_livelo_rastreamento\"],\"textfont\":{\"size\":12},\"x\":[-0.9339420199394226,-0.9441046714782715,-2.7830660343170166,3.7914891242980957,2.2978925704956055,-2.4491395950317383,-2.6729562282562256,-2.358468532562256,-2.8088831901550293,5.961058616638184,-0.9567981362342834,4.808812141418457,-2.2798750400543213,0.7090749144554138,3.543140411376953,2.3498549461364746,-2.9908509254455566,-1.7750352621078491,-2.6352427005767822,-2.5758755207061768,-1.6179696321487427,-1.7085392475128174,-1.2236249446868896,-0.1033787876367569,-2.730182647705078,-1.5009844303131104,-1.846576452255249,-0.1889515519142151,-1.7159736156463623,-1.8415908813476562,5.921744346618652,0.4160013496875763,-1.5281566381454468,-2.9166769981384277,4.30128812789917,-2.3469791412353516,-2.467252016067505,-2.0487704277038574,-2.794896125793457,5.103857040405273,-2.0679233074188232,-2.024066209793091,-1.114386796951294,3.7893762588500977,-3.112474203109741,-1.5466784238815308,-1.491442322731018,-2.5054714679718018,-2.04795503616333,4.781429767608643,-3.125739574432373,-1.3522727489471436,4.756364822387695,5.96095085144043,-2.050755739212036,-1.7369881868362427,-1.9093379974365234,-2.3518168926239014,-3.1237528324127197,5.92978572845459,-2.5745370388031006,-0.8297436833381653,-2.0485830307006836,-1.9987953901290894,-2.823610305786133,-4.626410007476807,-0.0741862952709198,5.133087158203125,-2.1018309593200684,5.9361724853515625,-1.7247843742370605,-1.5162018537521362,-6.668653964996338,-1.089568853378296,-0.35307419300079346,-0.2758755385875702,-2.720851421356201,-1.7241604328155518,0.6690418124198914,-2.0402162075042725,-2.685624122619629,-1.040897011756897,1.1701089143753052,-2.8831334114074707,-3.05735182762146,-2.937309503555298,-1.6344084739685059,-1.526699185371399,-2.531757354736328,-1.0552705526351929,-1.682429552078247,-1.1495722532272339,-6.664430618286133,2.3964388370513916,-0.6123546361923218,-2.965611457824707,-1.64203679561615,-1.5153292417526245,-2.602707624435425,-1.9872015714645386,0.01026264950633049,-1.648524284362793,-2.9411063194274902,-1.6928423643112183,-4.841796875,-1.3845651149749756,0.27071183919906616,-2.7003469467163086,-3.3304123878479004,-1.5371909141540527,-2.5625689029693604,-2.9436004161834717,-2.7236673831939697,-1.9778813123703003,-2.5762453079223633,-3.127044439315796,-3.2821030616760254,-1.9246585369110107,-1.498813271522522,-1.5112736225128174,-1.4412860870361328,-2.3732547760009766,-2.847383499145508,-2.005209445953369,-2.9611339569091797,-6.665985107421875,-1.753825068473816,-2.241497039794922,-1.6033270359039307,2.27769136428833,-2.6877081394195557,-2.8697986602783203,-2.025240898132324,-0.3225214183330536,-2.1223201751708984,4.783600330352783,13.191329956054688,-1.3779911994934082,-1.7625325918197632,-2.0415680408477783,-1.8902329206466675,-1.8612685203552246,-2.171818733215332,-2.595217704772949,-2.0224602222442627,4.779662609100342,-1.5146071910858154,-1.279595136642456,-2.788609266281128,-1.0391027927398682,-2.6491611003875732,-2.0894925594329834,-2.0439088344573975,-2.048469066619873,-0.5085495710372925,-0.7969006896018982,-1.9974008798599243,4.192568302154541,-2.5474400520324707,-3.148834228515625,4.785419940948486,4.776969909667969,-2.8429322242736816,-2.0712521076202393,-1.1097817420959473,-3.015418529510498,-2.6731019020080566,-1.3646633625030518,-1.0730737447738647,-2.8424265384674072,-2.5801618099212646,-1.5744168758392334,4.7797441482543945,-1.0926520824432373,-1.5851372480392456,-1.5497703552246094,-1.7497912645339966,-2.9527156352996826,-1.7260866165161133,-2.0594825744628906,3.594238758087158,13.549280166625977,-0.9522852301597595,-1.4469765424728394,-2.833477735519409,-2.7030344009399414,-1.836159586906433,-1.637424111366272,4.840397834777832,-1.6933492422103882,-1.5191611051559448,-2.0218346118927,-2.7068934440612793,-1.9977760314941406,-2.8571770191192627,-1.1032925844192505,-3.327580213546753,-2.769193410873413,3.5233588218688965,-1.8470216989517212,2.285740613937378,-2.0672686100006104,-2.6717259883880615,-1.4579952955245972,-2.8899049758911133,-2.1742429733276367,-3.3357605934143066,-1.482223629951477,-1.8108259439468384,-0.010088033974170685,1.8877097368240356,-3.340395212173462,-1.4716295003890991,-1.1819028854370117,-2.7767491340637207,-2.8266234397888184,-2.9612886905670166,-1.1632094383239746,-3.034196138381958,-2.388010263442993,5.0944600105285645,-2.8208727836608887,-1.4025155305862427,5.926239490509033,4.747047424316406,-1.0465737581253052,-2.8267126083374023,-2.0486276149749756,-2.2415900230407715,-0.9984012842178345,-3.5139918327331543,13.661847114562988,-2.3858625888824463,-1.653342604637146,-1.6189039945602417,-2.0232903957366943,-2.666118860244751,-2.0017545223236084,-2.2470781803131104,4.000683784484863,-1.6119130849838257,0.41622209548950195,-1.6256970167160034,-1.5377655029296875,-1.4905385971069336,-1.5001214742660522,-2.6784780025482178,4.801124572753906,0.4008857011795044,-1.5592414140701294,-2.9305851459503174,-2.2767646312713623,-1.6409602165222168,-1.8135976791381836,-2.7011756896972656,-1.788779616355896,-2.624093532562256,-1.5320676565170288,-1.9824708700180054,-1.1433727741241455,-2.7631866931915283,-1.5247306823730469,-2.0446465015411377,-2.4988951683044434,1.9658259153366089,0.17262518405914307,-1.656527042388916,-2.4112493991851807,1.8931323289871216,-2.834372043609619,-2.886439561843872,-3.0347352027893066,-2.0603137016296387,-2.4861016273498535,4.788203239440918,-3.4296112060546875,-2.1687819957733154,-2.4194891452789307,-2.3801214694976807,-2.4757473468780518,-2.5521137714385986,-2.0555074214935303,-1.990028738975525,-2.0081324577331543,0.6580170392990112,-2.6280806064605713,-3.665968894958496,-2.81880521774292,0.41590407490730286,-1.0950509309768677,-1.97147798538208,2.250760316848755,-0.9860755205154419,4.768616676330566,-2.7155556678771973,-2.6753668785095215,-1.6433629989624023,-2.570739269256592,-2.0188591480255127,-2.0569369792938232,5.935536861419678,-3.1265764236450195,-2.599432945251465,-1.4931827783584595,-1.368584156036377,-0.9880611896514893,-3.119354009628296,-2.2885141372680664,-1.5496819019317627,-1.9160782098770142,-1.7896168231964111,-1.7189412117004395,-2.038407564163208,-0.7255427837371826,4.783950328826904,-0.5749098062515259,-1.058753252029419,-1.7662259340286255,5.928738117218018,-1.6931368112564087,-2.474889039993286,0.41432997584342957,-2.65118670463562,-2.6037657260894775,-1.5046395063400269,13.191109657287598,-2.884783983230591,-3.0206685066223145,-1.8774312734603882,5.123181343078613,-1.5581046342849731,-1.827953815460205,-1.7526401281356812,-2.0544300079345703,-2.9000232219696045,-2.851459503173828,-1.5478646755218506,-3.0020370483398438,-2.38228702545166,5.129060745239258,-1.5591095685958862,0.28131935000419617,-2.930363655090332,-2.5177385807037354,-1.5884828567504883,-2.868105411529541,3.104398727416992,-0.9496867656707764,-2.6219260692596436,-0.6864230036735535,-0.9748459458351135,-0.9884902834892273,-1.494489073753357,-2.794159412384033,-0.2441806197166443,-2.167623996734619,-2.2956457138061523,-2.9606168270111084,-2.807891607284546,-1.7110390663146973,-1.7888861894607544,1.36752450466156,5.887547492980957,-2.7288830280303955,-1.8612241744995117,-3.0918338298797607,-2.053745746612549,5.934564590454102,0.42170435190200806,4.780961036682129,-2.5754568576812744,-3.1653754711151123,-1.1071604490280151,-3.0515453815460205,-2.2428085803985596,-2.9853363037109375,-2.0418362617492676,-1.3924424648284912,-2.782701253890991,-1.0184739828109741,4.780755996704102,-2.055398464202881,-0.4442572295665741,-2.575334310531616,-1.6790101528167725,-2.0258615016937256,-0.9283437728881836,-2.9838666915893555,-1.999961018562317,-2.652129650115967,-1.6235637664794922,-3.111419439315796,1.1599409580230713,-1.9172515869140625,-2.279367208480835,-2.2395269870758057,-1.9072065353393555,5.10969352722168,4.773736000061035,-1.738619327545166,5.930159091949463,-0.7770015597343445,-2.816912889480591,-1.4781394004821777,-1.655499815940857,-2.0313668251037598,-1.9347116947174072,-1.0047376155853271,-1.4030101299285889,4.7736029624938965,-2.3089487552642822,-3.0197842121124268,-6.664703369140625,-2.0820913314819336,-2.9507739543914795,-2.6927385330200195,-1.125695824623108,-1.0966662168502808,-2.6044085025787354,-0.057413455098867416,-2.0240440368652344,-3.317335844039917,-1.7311923503875732,-1.6246800422668457,0.670935869216919,4.781592845916748,-2.033337116241455,-1.1027530431747437,-2.660372734069824,-1.411617398262024,5.133330345153809,-0.3203302323818207,-2.4748833179473877,3.789153814315796,-1.1805102825164795,-1.4367281198501587,-4.83867883682251,4.782978534698486,5.932826042175293,-1.5993279218673706,-1.66750168800354,-0.8124114871025085,-0.6411905884742737,-2.8763208389282227,-1.7660104036331177,-1.1340683698654175,-1.7632110118865967,0.4152829051017761,0.6732304096221924,5.892114639282227,-2.7181077003479004,-1.8480595350265503,-1.321055293083191,-3.6738712787628174,-1.0759611129760742,-2.1827259063720703,-2.9329564571380615,-2.872636079788208,-2.3580148220062256,-3.3405566215515137,-2.636746406555176,-2.7897934913635254,-2.761817455291748,-2.5586941242218018,-1.6516591310501099,-1.4963359832763672,5.133976459503174,-2.739252805709839,-2.7596731185913086,-2.087470769882202,5.134281635284424,-2.5885233879089355,-1.0789148807525635,-1.645262360572815,-1.5196661949157715,0.27512308955192566,-1.9592046737670898,1.495099425315857,-1.0928986072540283,-2.470881223678589,-2.060811758041382,5.927629470825195,-2.0666515827178955,5.133984088897705,-2.0421390533447266,-1.6386536359786987,-3.1392972469329834,-2.0749313831329346,-1.5503473281860352,5.132643222808838,-2.4845499992370605,13.190715789794922,-2.501659631729126,-1.4439126253128052,-2.1062400341033936,-1.9634716510772705,-2.789531946182251,-2.871692419052124,-2.721081018447876,-0.5937814712524414,-1.167718529701233,-1.6308848857879639,-0.9165168404579163,1.3726149797439575,-2.6342074871063232,13.647537231445312,-1.7723196744918823,-2.739591360092163,-2.9216456413269043,-1.9516675472259521,-2.8837623596191406,5.114166259765625,-0.9829010367393494,-1.8345112800598145,-2.884239912033081,-2.0537667274475098,-1.574129343032837,-2.585458993911743,-1.783854603767395,5.132389545440674,-1.0012096166610718,-1.621651530265808,-2.798591375350952,-0.8525184392929077,0.417043536901474,-1.6202340126037598,5.095760822296143,-2.787022113800049,-0.8051896095275879,-3.0216734409332275,-0.7433074116706848,-3.134002208709717,-2.806715488433838,-1.3427115678787231,-2.9166581630706787,-0.8060332536697388,-2.3842532634735107,-1.6563321352005005,-1.996168851852417,-2.0062081813812256,-1.033809781074524,0.2766139507293701,1.335388422012329,-1.4001150131225586,-3.047348737716675,-2.363280773162842,-2.8754475116729736,-2.3271875381469727,4.780251979827881,0.41614407300949097,0.6703851222991943,-1.6403377056121826,-2.755279064178467,4.78076171875,-2.0003552436828613,-0.5641775727272034,-0.9257843494415283,-1.218776822090149,-2.6944520473480225,-2.0029983520507812,-1.3433241844177246,-3.12726092338562,0.286016583442688,-2.162848711013794,-1.2135391235351562,-3.113368272781372,-1.6699424982070923,-1.4687193632125854,-1.1834537982940674,-1.1396243572235107,-2.240297555923462,-2.0385537147521973,-1.6364195346832275,3.1626992225646973,-2.9128496646881104,-1.5590342283248901,-2.2506072521209717,-1.448581576347351,-2.6888375282287598,-2.9192235469818115,-1.9355875253677368,-0.2551068663597107,-0.9971959590911865,-0.9865339994430542,-1.584747076034546,-3.126962900161743,-1.9746114015579224,-1.5182064771652222,-1.9256170988082886,-1.0104472637176514,-2.7468602657318115,5.133004188537598,5.106635093688965,-2.0393803119659424,-2.904172420501709,-3.0816798210144043,13.190473556518555,-3.015273332595825,-2.467789888381958,-0.014188069850206375,-1.4936656951904297,-1.2906253337860107,-1.766419529914856,-2.6938412189483643,-2.0100438594818115,-2.508577346801758,-3.113752841949463,-2.5709617137908936,-2.8041293621063232,-0.2712149918079376,-1.621936559677124,-2.3903310298919678,0.06830508261919022,-2.4518609046936035,-1.9652920961380005,-2.0244531631469727,-0.44151222705841064,-1.6249029636383057,-3.14281964302063,1.867569088935852,-1.5776963233947754,-1.6484097242355347,2.039785861968994,-2.657036066055298,-2.2201082706451416,-0.26583656668663025,-1.983670949935913,-0.8044167160987854,-2.897695779800415,-2.2600655555725098,-1.6427512168884277,-1.6313130855560303,-2.7084076404571533,-0.4224662780761719,1.4181047677993774,0.38439008593559265,-3.0874290466308594,-1.71164071559906,-2.5797319412231445,5.096151351928711,-2.198338747024536,-1.088087558746338,4.780599117279053,-1.6646041870117188,-1.6933919191360474,-2.0040993690490723,-2.7016894817352295,-2.786780834197998,-3.409846305847168,-1.2115222215652466,-1.8225736618041992,5.932551383972168,5.13019323348999,-2.8339719772338867,-1.1118497848510742,-0.2745836079120636,-0.5028020739555359,-1.0976017713546753,-1.7942994832992554,0.4014038145542145,-2.632805585861206,-1.16628897190094,-1.7626311779022217,-2.48636531829834,-3.085181951522827,-1.1580277681350708,-2.348411798477173,4.775064468383789,-2.3855512142181396,-0.901299238204956,-0.7247717380523682,-2.7677202224731445,-2.048203229904175,-2.6700565814971924,-2.0025506019592285,-2.1972835063934326,-1.4993385076522827,-2.9170339107513428,-0.9432627558708191,-2.6815125942230225,-1.5425281524658203,-2.0255649089813232,-2.688767433166504,-1.553749680519104,5.131549835205078,-1.29762864112854,-3.1320624351501465,-1.4019670486450195,-2.7358970642089844,-2.4574532508850098,-1.0104625225067139,-1.5461817979812622,0.22057576477527618,-1.166248083114624,-2.131455421447754,-2.633981466293335,-2.7469286918640137,-2.324540138244629,-2.0320184230804443,-3.1206541061401367,-1.6865209341049194,2.3672924041748047,-1.7178040742874146,2.281022548675537,0.41858232021331787,-1.5777667760849,-0.2552745044231415,-1.4631068706512451,-2.0365328788757324,-0.7406705617904663,-1.573207139968872,-1.2233506441116333,3.7904868125915527,-1.2518786191940308,-2.004990816116333,-2.6086714267730713,-1.3770538568496704,-2.8419106006622314,13.177932739257812,-2.9616312980651855,-2.477870225906372,-4.838111400604248,4.759206771850586,1.3440935611724854,2.671140670776367,-1.123064398765564,-2.7195160388946533,-1.6223108768463135,-1.6310858726501465,5.93499231338501,-1.6857036352157593,-1.5795484781265259,-2.0534780025482178,-1.913555383682251,-2.772500514984131,-3.1732823848724365,3.455766439437866,13.190706253051758,-1.5194672346115112,-2.010970115661621,-2.051140546798706,-0.9614191055297852,-1.7181016206741333,-3.0482237339019775,-0.27457037568092346,-1.6724445819854736,-2.6017916202545166,-1.7170319557189941,-2.0365312099456787,-2.45040225982666,-2.047257661819458,13.190940856933594,-2.4964518547058105,-2.0082526206970215,-2.288581132888794,-2.4678595066070557,-2.9693708419799805,-2.4981658458709717,-2.5369200706481934,3.3460168838500977,-3.020775556564331,-2.628911256790161,-1.1922780275344849,0.5600744485855103,-1.6752212047576904,-2.6173105239868164,-2.2149956226348877,-1.9565938711166382,-2.0268473625183105,-1.8289791345596313,-0.9879071712493896,-1.8040825128555298,-0.5967853665351868,5.090039253234863,-1.9998900890350342,-0.0041973465122282505,-2.8425424098968506,-3.6789259910583496,-1.7053866386413574,-1.263831377029419,-1.6933447122573853,-1.0000008344650269,-3.0335140228271484,-1.6450539827346802,0.2793969213962555,0.41414663195610046,-3.1278157234191895,-3.127528429031372,-1.5182965993881226,-2.3892855644226074,-2.246342420578003,-1.6309502124786377,-0.7036787867546082,4.783161163330078,-0.9948440790176392,-1.3547837734222412,0.4178036153316498,-2.0409774780273438,-1.706175684928894,-0.8675892949104309,-3.1455304622650146,5.931727886199951,-1.7449647188186646,-2.5436933040618896,-3.3700807094573975,-2.0425045490264893,-2.7529115676879883,-2.2643322944641113,-2.003256320953369,0.41012707352638245,-3.1354644298553467,-2.4729156494140625,-1.23176109790802,-2.0422184467315674,-2.8635621070861816,-2.6474990844726562,-2.816387414932251,-0.27018287777900696,-0.9282960295677185,-2.9630768299102783,-1.4977039098739624,-1.496838927268982,4.7187957763671875,1.0544136762619019,-2.2798218727111816,-3.0825607776641846,5.059977054595947,-1.5199904441833496,4.762625694274902,-1.6889599561691284,-2.4786970615386963,-1.691887378692627,-4.860888481140137,-1.870315432548523,-1.7911440134048462,-0.32094064354896545,3.5165963172912598,-1.4058425426483154,-1.5706695318222046,-1.0135220289230347,-0.058987826108932495,-1.3995587825775146,-1.1900373697280884,-1.001941204071045,1.6174135208129883,-4.851566791534424,0.2739941477775574,-2.5575215816497803,-2.047724485397339,-1.7430607080459595,-1.8805172443389893,-2.5992257595062256,-2.8553109169006348,-2.1173346042633057,-0.5660138130187988,-2.857686996459961,-1.2046408653259277,-2.3787105083465576,-2.053262233734131,1.8849596977233887,0.005065063014626503,-1.382943868637085,-2.705115795135498,-1.150721788406372,-2.9833931922912598,-2.903552770614624,-1.5292658805847168,-2.7483675479888916,-1.823411464691162,-1.7275431156158447,-1.2940940856933594,-1.703352451324463,-2.565648078918457,4.771384239196777,-1.6019182205200195,4.775328159332275,-6.664395809173584,-2.930915117263794,-2.419487237930298,-1.3830848932266235,-2.255723476409912,0.41488170623779297,-1.6007518768310547,-0.775646448135376,13.191187858581543,-0.5275290012359619,13.19137191772461,-2.043743848800659,-2.32822322845459,4.779717445373535,4.768324375152588,-0.5785725712776184,-3.294173240661621,-0.5373672842979431,-0.8153989911079407,-1.32787024974823,13.191265106201172,-1.5340090990066528,-6.645995140075684,1.8605741262435913,-0.9630883932113647,5.113936901092529,-1.3077037334442139,-2.005192518234253,-2.6039223670959473,-0.848942220211029,-2.377885580062866,-2.485339641571045,-1.8373799324035645,-2.493799924850464,-1.1031063795089722,-2.684952735900879,-2.069526433944702,-1.0843628644943237,-2.172092914581299,-3.1502208709716797,-1.8212093114852905,0.6921849250793457,-1.5078827142715454,-2.747284173965454,-1.7848156690597534,-2.6740379333496094,-2.004711627960205,-0.9233899712562561,-1.9925968647003174,-0.8232161998748779,-2.902310848236084,-2.6606314182281494,-2.6582887172698975,-0.26438549160957336,-0.8124376535415649,2.396784543991089,-1.790749192237854,-2.492304563522339,-2.4560344219207764,-1.4098360538482666,-6.582662105560303,-0.8089445233345032,1.702267050743103,-1.0443692207336426,-2.548172950744629,4.7797651290893555,-1.5798907279968262,-0.7832159996032715,-3.0042686462402344,-2.1754298210144043,5.933149337768555,-2.858506202697754,13.191031455993652,-3.1888644695281982,-2.8690619468688965,-2.9624459743499756,-2.943718433380127,-1.755130648612976,-3.054178476333618,-1.6262108087539673,-1.1043529510498047,-4.852091312408447,-3.364492654800415,-2.861506462097168,-2.8726351261138916,-2.9166598320007324,5.094107151031494,-1.7941838502883911,-1.577736496925354,-2.584245204925537,-2.863523006439209,-2.738774299621582,-1.620650053024292,-1.6902655363082886,-2.7862837314605713,-1.6415455341339111,-0.8691892623901367,-1.890142560005188,-1.480555772781372,-0.07186435908079147,-2.8569931983947754,-1.8734149932861328,-1.0591927766799927,-1.211775302886963,-1.310194730758667,-2.693281888961792,-4.830726623535156,-2.092505931854248,-0.26573196053504944,-1.1045520305633545,-1.7652003765106201,-1.0069704055786133],\"y\":[6.789689540863037,8.15048885345459,6.97348690032959,6.342637062072754,8.970704078674316,6.737804412841797,9.19510555267334,8.028345108032227,7.007220268249512,7.305215358734131,8.294060707092285,7.326443672180176,8.630003929138184,6.543647289276123,13.860556602478027,7.524049282073975,7.33870792388916,13.005552291870117,8.352596282958984,8.019749641418457,7.519853115081787,7.817190647125244,10.501861572265625,8.582033157348633,7.211826324462891,11.883543968200684,7.270997047424316,8.608452796936035,7.734935283660889,10.859743118286133,7.336432456970215,5.18089485168457,7.164564609527588,7.411837577819824,14.111288070678711,8.114509582519531,7.524992942810059,6.281906604766846,7.310781002044678,5.806478500366211,6.25205135345459,6.304543495178223,7.852252006530762,6.35454797744751,8.483192443847656,7.0570831298828125,7.096118927001953,7.91412353515625,6.244781017303467,7.355976581573486,8.491752624511719,9.602030754089355,7.366012096405029,7.314820289611816,8.514142036437988,7.902994632720947,5.511260032653809,8.105273246765137,8.506628036499023,7.343585014343262,7.923050880432129,6.643631458282471,8.692017555236816,6.264977931976318,7.372572898864746,8.074786186218262,8.666872024536133,5.777358055114746,6.2018022537231445,7.327210903167725,7.735129356384277,7.098515033721924,11.572308540344238,7.911627769470215,9.055375099182129,7.679691314697266,7.165472984313965,7.750377655029297,7.985365390777588,7.899596214294434,7.332840919494629,6.767524719238281,10.387284278869629,7.281406402587891,7.418379306793213,7.273501396179199,7.858762264251709,7.021892547607422,7.213817119598389,7.775872230529785,11.437393188476562,8.212742805480957,11.56347942352295,7.456250190734863,13.438753128051758,7.36723518371582,7.1862473487854,7.7157697677612305,7.169175624847412,7.188937664031982,6.833240985870361,7.1826958656311035,7.2877726554870605,7.7682576179504395,5.563488960266113,7.5596089363098145,6.220647811889648,6.936651229858398,9.014945030212402,6.99417781829834,7.250956058502197,7.104652404785156,6.98288106918335,7.240057945251465,7.499510288238525,8.482139587402344,8.405319213867188,11.629387855529785,7.919987201690674,6.402753829956055,10.28174877166748,7.515504360198975,7.155197620391846,5.463325023651123,7.370121479034424,11.569602966308594,6.420987606048584,7.8909735679626465,12.455962181091309,8.953105926513672,7.228246688842773,7.112887382507324,7.228888511657715,7.682442665100098,6.997596740722656,7.3534417152404785,9.837478637695312,7.456209659576416,8.00009822845459,11.099870681762695,7.708911895751953,7.187410831451416,6.923871994018555,7.25972318649292,6.256990432739258,7.356321811676025,7.920104026794434,7.043789863586426,7.294586658477783,8.285508155822754,6.797064304351807,6.222094535827637,7.30604887008667,7.9373955726623535,7.7227044105529785,8.088958740234375,7.29092264175415,9.060870170593262,9.392797470092773,8.507551193237305,7.351260185241699,7.361336708068848,7.2008748054504395,6.249614238739014,7.684256076812744,7.401360988616943,6.980048179626465,10.769553184509277,7.70866060256958,7.305202960968018,7.243447780609131,10.710770606994629,7.355285167694092,7.680530548095703,6.362926006317139,11.89948844909668,13.000871658325195,7.30741024017334,7.761543273925781,6.243933200836182,11.573293685913086,10.208953857421875,11.509180068969727,7.985207557678223,6.966641902923584,6.938410758972168,7.728343963623047,12.472551345825195,7.296322345733643,7.20248556137085,11.894420623779297,6.251945972442627,6.943869590759277,6.433860778808594,7.381824970245361,8.467516899108887,8.409743309020996,7.279211044311523,12.859521865844727,7.726318359375,8.968451499938965,6.3414788246154785,7.157495021820068,7.422650337219238,7.322689533233643,7.187713146209717,8.361197471618652,7.771996974945068,7.821236610412598,12.526724815368652,7.374917507171631,8.352286338806152,7.9555888175964355,12.343948364257812,7.042022705078125,7.2277421951293945,7.272043704986572,10.55112075805664,7.6047163009643555,7.43045711517334,5.766391754150391,6.965538024902344,8.039605140686035,7.337591648101807,7.390679359436035,7.932254314422607,9.024144172668457,7.9310197830200195,7.262549877166748,8.276555061340332,8.361257553100586,10.324389457702637,7.291865348815918,7.3747735023498535,7.823366165161133,6.265939712524414,7.216876029968262,5.461471080780029,7.349438190460205,5.8210062980651855,12.48578929901123,5.141749858856201,7.519120216369629,6.3727707862854,7.138128757476807,12.392184257507324,7.004432678222656,7.338167190551758,5.127372741699219,10.730788230895996,7.315729141235352,11.04132080078125,8.718694686889648,5.597891330718994,7.09890604019165,12.993264198303223,7.945937156677246,7.340737342834473,5.476807594299316,7.85780143737793,7.381655216217041,7.102700710296631,5.42076301574707,10.556839942932129,7.851243019104004,6.821151256561279,7.861095905303955,6.733788013458252,8.295127868652344,7.173059940338135,7.172204494476318,7.4236602783203125,7.937726020812988,8.788930892944336,7.35450553894043,8.399627685546875,6.9602742195129395,7.327801704406738,8.037459373474121,7.5347819328308105,7.365271091461182,6.247903823852539,6.928062438964844,6.311108589172363,8.012179374694824,7.0532965660095215,8.92380428314209,7.050735950469971,5.1438727378845215,7.693210124969482,8.754517555236816,6.476989269256592,6.848852634429932,7.366204261779785,7.796189308166504,7.598178386688232,7.735367774963379,7.927291393280029,6.294231414794922,7.488361835479736,7.327482223510742,7.464451313018799,9.280317306518555,7.078990459442139,10.86584758758545,8.248345375061035,8.506357192993164,7.22143030166626,6.386414051055908,11.628351211547852,7.864476680755615,7.168292999267578,8.034982681274414,11.76535701751709,7.353339195251465,7.059808731079102,7.357245445251465,7.15329647064209,7.3402886390686035,7.788257598876953,11.5551176071167,6.77053165435791,7.06765604019165,7.5406694412231445,7.115861415863037,9.837451934814453,7.3883562088012695,7.397219181060791,7.737783432006836,5.788087368011475,6.3939900398254395,7.76778507232666,10.891632080078125,6.280678749084473,7.32404899597168,7.367774486541748,7.10366153717041,7.380841255187988,7.3594746589660645,5.782558917999268,12.428398132324219,6.2270588874816895,7.381864070892334,7.1787004470825195,10.836771965026855,6.949380397796631,11.25820255279541,8.355269432067871,7.11092472076416,13.335419654846191,8.291828155517578,7.545381546020508,7.094647407531738,7.262303829193115,8.58292293548584,6.26092529296875,8.148850440979004,7.270864009857178,7.254175186157227,7.806835651397705,13.010747909545898,9.619749069213867,7.3385772705078125,7.376491546630859,11.67652416229248,8.582260131835938,6.245645523071289,7.328726291656494,5.14681339263916,7.354776382446289,7.896883487701416,8.940683364868164,12.304224014282227,7.427649974822998,7.366350173950195,7.356645107269287,7.916490077972412,8.00700569152832,7.324586391448975,8.298934936523438,7.354432106018066,6.2454681396484375,6.914269924163818,9.106098175048828,7.172571659088135,7.945905685424805,6.784556865692139,7.35546875,11.056599617004395,6.914622783660889,12.479275703430176,8.538487434387207,9.005034446716309,11.618557929992676,8.677545547485352,7.276262283325195,11.635339736938477,5.7994561195373535,7.366641044616699,7.729654312133789,7.329794883728027,6.578168869018555,7.083495616912842,7.088714122772217,7.735336780548096,6.250807285308838,6.962567329406738,7.403074264526367,11.105023384094238,7.364233016967773,6.58980131149292,8.663959503173828,11.568581581115723,8.689838409423828,7.347285270690918,7.252055644989014,8.517328262329102,7.905785083770752,7.611647605895996,7.863842487335205,7.076940059661865,8.373909950256348,12.988348007202148,7.803418159484863,6.601503849029541,7.355258464813232,6.264726638793945,7.719148635864258,7.256296157836914,7.224630355834961,5.781442165374756,7.695237636566162,7.547590732574463,6.343714714050293,7.151335716247559,8.05154800415039,5.566464424133301,7.3545613288879395,7.329153537750244,12.465550422668457,10.9253511428833,10.58421802520752,13.229677200317383,7.2697882652282715,7.827023506164551,8.191996574401855,9.87037467956543,5.123744010925293,6.524203300476074,7.3363776206970215,7.193505764007568,6.862082004547119,7.099898338317871,8.996309280395508,7.921699523925781,8.681178092956543,7.3574113845825195,7.420377254486084,8.040108680725098,8.276718139648438,8.362998008728027,7.342112064361572,7.041311264038086,8.000346183776855,7.165573596954346,10.28101921081543,5.778446197509766,7.2771897315979,8.936168670654297,6.298515319824219,5.7783331871032715,7.450282573699951,8.022314071655273,12.464816093444824,7.189495086669922,6.22694206237793,6.319904804229736,8.40925121307373,7.886830806732178,6.7799973487854,6.483791828155518,7.345983028411865,7.953083515167236,5.778580188751221,6.252780914306641,7.133420944213867,8.459372520446777,6.257316589355469,7.153209209442139,5.7764997482299805,7.531246185302734,9.837546348571777,7.5635881423950195,7.656871795654297,10.922311782836914,6.923567295074463,7.561792373657227,7.165328025817871,6.988193035125732,7.471208572387695,7.212101459503174,7.848608016967773,8.096736907958984,7.014610290527344,8.3895845413208,10.319148063659668,13.006632804870605,7.209957122802734,7.38020133972168,5.8312907218933105,7.281381607055664,5.798803329467773,7.692981243133545,6.897374629974365,7.499750137329102,6.264098167419434,12.466559410095215,7.911271095275879,7.842899799346924,5.778555393218994,8.29771614074707,12.504157066345215,7.035613536834717,7.321322917938232,5.1409711837768555,12.469679832458496,5.80464506149292,7.051219463348389,7.3927764892578125,7.434459686279297,9.737757682800293,8.47458267211914,7.158329486846924,8.045897483825684,7.319906711578369,7.383447170257568,7.455397129058838,12.460210800170898,6.518691539764404,5.46655797958374,8.043390274047852,6.229956150054932,10.452630043029785,7.450605869293213,7.476535320281982,6.691171169281006,7.269841194152832,10.561054229736328,7.356432914733887,5.140698432922363,6.515000343322754,7.826422214508057,7.256568908691406,7.354856967926025,6.348048210144043,6.875906944274902,6.768230438232422,5.624912738800049,6.922470569610596,5.469128608703613,6.899690628051758,8.50460147857666,6.220029354095459,6.948741912841797,8.038394927978516,8.519585609436035,12.48138427734375,7.04864501953125,7.177789211273193,8.095027923583984,7.183145999908447,6.334774017333984,12.47419261932373,7.327364444732666,7.321917533874512,7.337698936462402,6.20346736907959,7.940899848937988,7.4483113288879395,7.614468574523926,5.497199058532715,7.710449695587158,6.683060646057129,12.164732933044434,7.64208984375,9.06359577178955,7.578040599822998,7.08358907699585,11.604063034057617,7.347733974456787,7.011214256286621,5.778140068054199,5.798489570617676,6.256443500518799,7.342307090759277,8.458501815795898,9.837545394897461,7.3922624588012695,7.527690887451172,12.995601654052734,7.912477016448975,8.082213401794434,8.183422088623047,7.2450079917907715,7.23563814163208,7.4336934089660645,7.526530742645264,7.2571210861206055,7.026675701141357,7.693356990814209,12.457864761352539,7.287293434143066,8.668066024780273,7.315401554107666,5.48938512802124,5.482880115509033,7.048600196838379,7.88081693649292,8.45547866821289,8.129799842834473,7.296260356903076,10.995955467224121,7.591783046722412,7.503638744354248,7.148072719573975,7.703920364379883,7.9220428466796875,7.387993335723877,7.237502574920654,7.464972496032715,12.476201057434082,12.477644920349121,7.127009868621826,12.196794509887695,6.163634777069092,10.00308895111084,8.47102165222168,7.718491554260254,7.158242702484131,5.824285507202148,8.618497848510742,7.692576885223389,7.355530738830566,7.166563987731934,7.805052280426025,5.481581687927246,7.057823657989502,7.280518531799316,8.342076301574707,5.624261856079102,7.748159408569336,7.329296112060547,5.778797149658203,7.276461124420166,7.88144588470459,7.693337440490723,13.41788387298584,7.655606269836426,12.994029998779297,5.09492301940918,7.065056324005127,8.022496223449707,7.8680500984191895,7.329189300537109,8.477867126464844,7.476341724395752,8.033910751342773,7.361988544464111,7.280992031097412,8.389909744262695,7.733731746673584,7.233755111694336,6.274770736694336,7.722796440124512,5.493981838226318,6.444324016571045,11.906045913696289,7.259078502655029,7.937166213989258,7.599785804748535,6.379220962524414,7.257044315338135,7.513941764831543,7.118526458740234,5.77894926071167,8.017784118652344,8.468268394470215,8.002422332763672,7.059018135070801,7.550292015075684,8.30736255645752,7.354650974273682,6.245526313781738,8.00715160369873,7.51340913772583,7.24957275390625,7.186244964599609,8.127498626708984,6.324913024902344,8.467130661010742,7.734004020690918,7.551626205444336,7.7487030029296875,4.994693756103516,5.161546230316162,6.392528533935547,8.925399780273438,8.045968055725098,6.256710529327393,7.1660990715026855,7.155288219451904,12.244044303894043,6.338095664978027,7.0948286056518555,5.470080852508545,7.048234462738037,7.82443904876709,7.223842144012451,9.833690643310547,7.365915775299072,7.511420726776123,5.567310333251953,7.372995853424072,9.922928810119629,7.778777122497559,7.473222732543945,7.2536211013793945,7.79784631729126,12.471184730529785,7.329372882843018,7.186014175415039,7.3610615730285645,6.255343437194824,7.361038684844971,7.280922889709473,9.048852920532227,7.428170680999756,9.837569236755371,7.132802963256836,5.481606960296631,6.279672622680664,8.3092622756958,6.893369674682617,7.4480509757995605,8.566505432128906,10.911742210388184,7.4361982345581055,7.735679626464844,7.2505927085876465,8.68310832977295,7.952714920043945,9.837656021118164,10.552270889282227,6.294552803039551,7.384772300720215,6.7826762199401855,7.286703109741211,7.5119171142578125,11.14669132232666,11.350955963134766,9.213966369628906,10.66043758392334,7.146876335144043,7.2569661140441895,10.895983695983887,7.563554286956787,7.2297444343566895,5.500700950622559,6.22123908996582,11.693636894226074,8.208824157714844,7.703927040100098,8.3937406539917,5.821396350860596,5.695467948913574,8.427210807800293,6.929181098937988,8.929058074951172,7.782646179199219,8.047220230102539,7.803339004516602,7.92835807800293,7.439661502838135,12.473740577697754,6.215817928314209,5.136631011962891,8.44901180267334,8.503345489501953,7.142732620239258,7.411385536193848,7.2540388107299805,12.46509838104248,10.021037101745605,7.358414173126221,8.315216064453125,8.023991584777832,5.146048545837402,6.330908298492432,7.735194206237793,7.612858295440674,8.848589897155762,7.329959392547607,7.730134963989258,7.382862567901611,8.322076797485352,6.267323017120361,7.398299217224121,7.287090301513672,5.469949722290039,5.17439079284668,8.458308219909668,7.524564266204834,12.046805381774902,6.315576076507568,7.2987847328186035,6.873584270477295,7.103536605834961,7.709794998168945,7.840985298156738,7.34604024887085,7.943980693817139,7.910515308380127,7.408602714538574,8.986815452575684,8.706798553466797,8.468507766723633,5.857666492462158,6.386425971984863,7.37485408782959,13.01308822631836,7.871150016784668,7.8208699226379395,9.8004789352417,6.889768600463867,13.010729789733887,9.204133987426758,10.984084129333496,11.848968505859375,7.149721622467041,8.21533203125,8.670985221862793,10.090167999267578,7.004246711730957,6.760833740234375,8.029475212097168,5.5575666427612305,6.230636119842529,7.215019702911377,6.2538161277771,12.982211112976074,11.649465560913086,7.274476051330566,7.201701641082764,8.716080665588379,9.519287109375,7.287051677703857,5.500075817108154,7.085796356201172,6.345333576202393,7.922672271728516,7.023952484130859,7.4580397605896,7.194732189178467,5.396809101104736,7.355988502502441,7.253879547119141,12.50588321685791,7.011782646179199,7.748932838439941,7.184883117675781,8.084759712219238,13.013561248779297,7.7697649002075195,7.36284875869751,8.762417793273926,7.360136032104492,11.569012641906738,7.679703235626221,7.312775611877441,8.020282745361328,7.406863212585449,5.14285945892334,8.962872505187988,6.565579891204834,9.83774471282959,13.50622272491455,9.837871551513672,6.29477596282959,8.108803749084473,7.35568904876709,7.3650407791137695,7.182929992675781,8.410306930541992,7.203983783721924,7.293790817260742,8.008905410766602,9.837706565856934,7.107651233673096,11.576960563659668,7.3495612144470215,8.309501647949219,5.798125267028809,11.135470390319824,5.468670845031738,7.149379730224609,7.131885528564453,11.437847137451172,7.528867721557617,10.942081451416016,7.53867769241333,9.109899520874023,7.247130393981934,8.723686218261719,7.676144123077393,6.263305187225342,8.95168685913086,6.5960001945495605,8.027212142944336,11.901415824890137,7.061586856842041,12.999329566955566,7.598453521728516,5.468845844268799,8.34636116027832,5.472560882568359,7.367487907409668,7.303709983825684,7.328530311584473,7.061354160308838,7.716396808624268,7.407779693603516,7.48363733291626,12.998273849487305,7.520851135253906,7.449810981750488,7.428457736968994,11.538778305053711,7.374145030975342,7.645624160766602,6.944321155548096,7.089791297912598,7.3557610511779785,7.214426517486572,7.179749011993408,7.421335220336914,6.267378330230713,7.329550266265869,7.2949371337890625,9.837727546691895,9.029350280761719,7.307879447937012,7.257664203643799,7.3242506980896,7.768813133239746,7.715539455413818,12.473947525024414,7.862706184387207,5.55717658996582,8.358443260192871,7.476462364196777,7.307812213897705,7.26366662979126,5.80353307723999,12.93964958190918,7.1707282066345215,7.898522853851318,7.169075012207031,7.297344207763672,12.47081470489502,7.824973106384277,6.975998401641846,7.182084560394287,12.782177925109863,6.881871700286865,7.0894341468811035,7.850489139556885,7.011358737945557,6.296117305755615,7.984882354736328,12.52484130859375,6.985243320465088,7.138767242431641,5.574449062347412,7.6539530754089355,7.702358722686768,7.853941440582275,13.004786491394043,7.921969890594482],\"type\":\"scattergl\"},{\"hoverinfo\":\"text\",\"marker\":{\"opacity\":0.5,\"size\":5},\"mode\":\"markers+text\",\"name\":\"7_valor_assinatura_cashback\",\"text\":[\"\",\"\",\"\",\"\",\"\",\"\",\"\",\"\",\"\",\"\",\"\",\"\",\"\",\"\",\"\",\"\",\"\",\"\",\"\",\"\",\"\",\"\",\"\",\"\",\"\",\"\",\"\",\"\",\"\",\"\",\"\",\"\",\"\",\"\",\"\",\"\",\"\",\"\",\"\",\"\",\"\",\"\",\"\",\"\",\"\",\"\",\"\",\"\",\"\",\"\",\"\",\"\",\"\",\"\",\"\",\"\",\"\",\"\",\"\",\"\",\"\",\"\",\"\",\"\",\"\",\"\",\"\",\"\",\"\",\"\",\"\",\"\",\"\",\"\",\"\",\"\",\"\",\"\",\"\",\"\",\"\",\"\",\"\",\"\",\"\",\"\",\"\",\"\",\"\",\"\",\"\",\"\",\"\",\"\",\"\",\"\",\"\",\"\",\"\",\"\",\"\",\"\",\"\",\"\",\"\",\"\",\"\",\"\",\"\",\"\",\"\",\"\",\"\",\"\",\"\",\"\",\"\",\"\",\"\",\"\",\"\",\"\",\"\",\"\",\"\",\"\",\"\",\"\",\"\",\"\",\"\",\"\",\"\",\"\",\"\",\"\",\"\",\"\",\"\",\"\",\"\",\"\",\"\",\"\",\"\",\"\",\"\",\"\",\"\",\"\",\"\",\"\",\"\",\"\",\"\",\"\",\"\",\"\",\"\",\"\",\"\",\"\",\"\",\"\",\"\",\"\",\"\",\"\",\"\",\"\",\"\",\"\",\"\",\"\",\"\",\"\",\"\",\"\",\"\",\"\",\"\",\"\",\"\",\"\",\"\",\"\",\"\",\"\",\"\",\"\",\"\",\"\",\"\",\"\",\"\",\"\",\"\",\"\",\"\",\"\",\"\",\"\",\"\",\"\",\"\",\"\",\"\",\"\",\"\",\"\",\"\",\"\",\"\",\"\",\"\",\"\",\"\",\"\",\"\",\"\",\"\",\"\",\"\",\"\",\"\",\"\",\"\",\"\",\"\",\"\",\"\",\"\",\"\",\"\",\"\",\"\",\"\",\"\",\"\",\"\",\"\",\"\",\"\",\"\",\"\",\"\",\"\",\"\",\"\",\"\",\"\",\"\",\"\",\"\",\"\",\"\",\"\",\"\",\"\",\"\",\"\",\"\",\"\",\"\",\"\",\"\",\"\",\"\",\"\",\"\",\"\",\"\",\"\",\"\",\"\",\"\",\"\",\"\",\"\",\"\",\"\",\"\",\"\",\"\",\"\",\"\",\"\",\"\",\"\",\"\",\"\",\"\",\"\",\"\",\"\",\"\",\"\",\"\",\"\",\"\",\"\",\"\",\"\",\"\",\"\",\"\",\"\",\"\",\"\",\"\",\"\",\"\",\"\",\"\",\"\",\"\",\"\",\"\",\"\",\"\",\"\",\"\",\"\",\"\",\"\",\"\",\"\",\"\",\"\",\"\",\"\",\"\",\"\",\"\",\"\",\"\",\"\",\"\",\"\",\"\",\"\",\"\",\"\",\"\",\"\",\"\",\"\",\"\",\"\",\"\",\"\",\"\",\"\",\"\",\"\",\"\",\"\",\"\",\"\",\"\",\"\",\"\",\"\",\"\",\"\",\"\",\"\",\"\",\"\",\"\",\"\",\"\",\"\",\"\",\"\",\"\",\"\",\"\",\"\",\"\",\"\",\"\",\"\",\"\",\"\",\"\",\"\",\"\",\"\",\"\",\"\",\"\",\"\",\"\",\"\",\"\",\"\",\"\",\"\",\"\",\"\",\"\",\"\",\"\",\"\",\"\",\"\",\"\",\"\",\"\",\"\",\"\",\"\",\"\",\"\",\"\",\"\",\"\",\"\",\"\",\"\",\"\",\"\",\"\",\"\",\"\",\"\",\"\",\"\",\"\",\"\",\"\",\"\",\"\",\"\",\"\",\"\",\"\",\"\",\"\",\"\",\"\",\"\",\"\",\"\",\"\",\"\",\"\",\"\",\"\",\"\",\"\",\"\",\"\",\"\",\"\",\"\",\"\",\"\",\"\",\"\",\"\",\"\",\"\",\"\",\"\",\"\",\"\",\"\",\"\",\"\",\"\",\"\",\"\",\"\",\"\",\"\",\"\",\"\",\"\",\"\",\"\",\"\",\"\",\"\",\"\",\"\",\"\",\"\",\"\",\"\",\"\",\"\",\"\",\"\",\"\",\"\",\"\",\"\",\"\",\"\",\"\",\"\",\"\",\"\",\"\",\"\",\"\",\"\",\"\",\"\",\"\",\"\",\"\",\"\",\"\",\"\",\"\",\"\",\"\",\"\",\"\",\"\",\"\",\"\",\"\",\"\",\"\",\"\",\"\",\"\",\"\",\"\",\"\",\"\",\"\",\"\",\"\",\"\",\"\",\"\",\"\",\"\",\"\",\"\",\"\",\"\",\"\",\"\",\"\",\"\",\"\",\"\",\"\",\"\",\"\",\"\",\"\",\"\",\"\",\"\",\"\",\"\",\"\",\"\",\"\",\"\",\"\",\"\",\"\",\"\",\"\",\"\",\"\",\"\",\"\",\"\",\"\",\"\",\"\",\"\",\"\",\"\",\"\",\"\",\"\",\"\",\"\",\"\",\"\",\"\",\"\",\"\",\"\",\"\",\"\",\"\",\"\",\"\",\"\",\"\",\"\",\"\",\"\",\"\",\"\",\"\",\"\",\"\",\"\",\"\",\"\",\"\",\"\",\"\",\"\",\"\",\"\",\"\",\"\",\"\",\"\",\"\",\"\",\"\",\"\",\"\",\"\",\"\",\"\",\"\",\"\",\"\",\"\",\"\",\"\",\"\",\"\",\"\",\"\",\"\",\"\",\"\",\"\",\"\",\"\",\"\",\"\",\"\",\"\",\"\",\"\",\"\",\"\",\"\",\"\",\"\",\"\",\"\",\"\",\"\",\"\",\"\",\"\",\"\",\"\",\"\",\"\",\"\",\"\",\"\",\"\",\"\",\"\",\"\",\"\",\"\",\"\",\"\",\"\",\"\",\"\",\"\",\"\",\"\",\"\",\"\",\"\",\"\",\"\",\"\",\"\",\"\",\"\",\"\",\"\",\"\",\"\",\"\",\"\",\"\",\"\",\"\",\"\",\"\",\"\",\"\",\"\",\"\",\"\",\"\",\"\",\"\",\"\",\"\",\"\",\"\",\"\",\"\",\"\",\"\",\"\",\"\",\"\",\"\",\"\",\"\",\"\",\"\",\"\",\"\",\"\",\"\",\"\",\"\",\"\",\"\",\"\",\"\",\"\",\"\",\"\",\"\",\"\",\"\",\"\",\"\",\"\",\"\",\"\",\"\",\"\",\"\",\"\",\"\",\"\",\"\",\"\",\"\",\"\",\"\",\"\",\"\",\"\",\"\",\"\",\"\",\"\",\"\",\"\",\"\",\"\",\"\",\"\",\"\",\"\",\"\",\"\",\"\",\"\",\"\",\"\",\"\",\"\",\"\",\"\",\"\",\"\",\"\",\"\",\"\",\"\",\"\",\"\",\"\",\"\",\"\",\"\",\"\",\"\",\"\",\"\",\"\",\"\",\"\",\"\",\"\",\"\",\"\",\"\",\"\",\"\",\"\",\"\",\"\",\"\",\"\",\"7_valor_assinatura_cashback\"],\"textfont\":{\"size\":12},\"x\":[3.6745405197143555,3.633054256439209,3.656038761138916,3.206601858139038,3.557739734649658,3.5632317066192627,3.388601541519165,3.569136619567871,3.0699713230133057,3.6015543937683105,3.957939624786377,4.24757194519043,2.3839211463928223,3.5357773303985596,4.379424095153809,3.8082690238952637,3.6845805644989014,3.7988760471343994,3.4482483863830566,3.6193370819091797,1.757257103919983,3.128305435180664,3.372098445892334,3.1112160682678223,3.3888063430786133,3.6146326065063477,2.0135796070098877,3.736999273300171,3.6539602279663086,3.755970001220703,3.5793144702911377,3.114196300506592,3.862420082092285,3.9524524211883545,3.9064886569976807,1.6977906227111816,3.933933973312378,1.7577141523361206,3.621246337890625,3.9295613765716553,4.028303146362305,3.943107843399048,3.6329574584960938,3.906158208847046,3.7222180366516113,3.991288900375366,2.4568986892700195,3.8383853435516357,3.355905771255493,3.4459455013275146,3.5729238986968994,3.9018514156341553,3.576920509338379,3.771408796310425,3.7870564460754395,3.6859729290008545,3.7729146480560303,3.725923776626587,3.4573113918304443,3.8769121170043945,2.36934757232666,3.405827760696411,3.6043102741241455,3.5140204429626465,3.201749801635742,3.704270601272583,1.2938023805618286,3.5671088695526123,3.0801994800567627,3.688230276107788,3.316234588623047,0.7530092597007751,4.360466957092285,3.7153890132904053,3.6308321952819824,3.609398126602173,3.4179916381835938,3.8826448917388916,3.6561646461486816,3.643839120864868,3.3849949836730957,3.580023765563965,3.7363412380218506,3.1351258754730225,3.633545398712158,3.528761625289917,3.0470778942108154,3.845757484436035,3.1642727851867676,3.466702699661255,3.4938650131225586,3.23156476020813,3.3384692668914795,3.250169515609741,2.394475221633911,3.07576322555542,3.3244333267211914,3.235445737838745,3.408784866333008,3.502537250518799,3.2862889766693115,2.376220941543579,0.9594092965126038,3.3367388248443604,3.6530368328094482,4.276576042175293,3.631370782852173,3.472994327545166,3.535306215286255,3.5755093097686768,3.669494390487671,3.5214428901672363,3.3433446884155273,3.8193538188934326,3.714279890060425,3.7736449241638184,3.382072925567627,1.7580829858779907,4.046413421630859,3.5103859901428223,3.6742639541625977,3.638122320175171,3.683804512023926,3.302485227584839,3.214162826538086,3.9666452407836914,3.982398509979248,3.7116875648498535,3.874511241912842,3.3505518436431885,3.9359230995178223,2.438018560409546,3.6554155349731445,3.6136603355407715,3.7632532119750977,3.2181127071380615,2.4484987258911133,3.637214183807373,3.8475873470306396,2.3850321769714355,4.198514461517334,3.7096896171569824,3.9808623790740967,3.319030284881592,3.560359239578247,3.7297213077545166,3.935683488845825,3.361732244491577,3.948173999786377,3.7155849933624268,3.949282169342041,2.42641282081604,2.4080734252929688,3.5965890884399414,3.8322341442108154,-0.5834437012672424,3.6551620960235596,3.684512138366699,3.899822235107422,3.474733591079712,3.55586576461792,3.0276176929473877,3.84104061126709,4.234561920166016,4.24838924407959,0.3686878979206085,3.3917837142944336,3.682647705078125,3.353600025177002,3.6564834117889404,3.6363422870635986,4.1431355476379395,1.7486600875854492,3.25703501701355,3.315425157546997,4.265768527984619,3.555227041244507,3.826197862625122,3.932159662246704,3.8722023963928223,3.820713758468628,3.886547327041626,3.6022980213165283,1.7527116537094116,3.7761929035186768,3.5677330493927,4.231882095336914,3.5039751529693604,3.665945053100586,4.0417070388793945,3.785984516143799,3.4267542362213135,0.35047295689582825,3.541640281677246,3.968386173248291,3.916660785675049,3.5729923248291016,3.576011896133423,3.7350125312805176,3.6086742877960205,3.141184091567993,3.6220028400421143,3.6367199420928955,3.4090778827667236,3.052557945251465,3.646559476852417,3.2696990966796875,2.1633858680725098,-1.026528239250183,3.332750082015991,3.6520769596099854,3.1993846893310547,3.839170455932617,3.5245614051818848,3.2886648178100586,3.8052308559417725,3.6713058948516846,3.3155510425567627,3.1401941776275635,1.4213756322860718,3.626049041748047,3.6152420043945312,2.4543521404266357,0.6268170475959778,3.915971517562866,3.3237407207489014,2.430938720703125,3.4317030906677246,3.8965232372283936,3.720722198486328,3.1564862728118896,3.6513848304748535,2.416294574737549,3.299229860305786,3.671778678894043,2.388030767440796,3.7511284351348877,3.8845884799957275,3.3897271156311035,3.2783315181732178,3.5153164863586426,3.87457013130188,3.931166172027588,3.4609005451202393,1.7648988962173462,2.3934037685394287,2.0445072650909424,3.487356424331665,2.394197702407837,3.5215067863464355,1.7483733892440796,3.6442885398864746,3.7364375591278076,0.2724270820617676,3.73832368850708,4.241404056549072,4.350041389465332,3.930689573287964,1.7080546617507935,3.4584991931915283,3.562185764312744,3.954305410385132,3.7657699584960938,2.381500244140625,2.3840489387512207,3.851921796798706,3.3450520038604736,3.615079402923584,4.001636505126953,4.324643611907959,4.032186031341553,3.871323823928833,3.3175816535949707,3.968867063522339,3.6724865436553955,3.3245279788970947,3.7896292209625244,3.2835254669189453,1.745288610458374,3.610456705093384,3.4802002906799316,3.498035430908203,3.533107042312622,4.279150485992432,-1.246261715888977,3.792701244354248,3.436964750289917,1.9955692291259766,3.6287312507629395,2.9807536602020264,0.3811787962913513,1.7518223524093628,3.668213129043579,3.646108627319336,3.6200332641601562,3.586378335952759,3.4471988677978516,3.1943371295928955,3.580432176589966,3.519435405731201,3.8351922035217285,3.147737741470337,3.7191500663757324,3.868513345718384,4.326498031616211,3.592740774154663,3.5936524868011475,3.3335511684417725,2.378547430038452,3.8414018154144287,3.729400873184204,3.6188228130340576,3.3782498836517334,3.669160842895508,4.355344295501709,3.932612657546997,4.224402904510498,3.862666368484497,4.031991004943848,2.881345748901367,2.192596912384033,3.6608636379241943,4.206638336181641,2.3335061073303223,3.5041942596435547,4.2111592292785645,3.6700797080993652,3.13415265083313,3.5492043495178223,3.52559494972229,3.523153781890869,3.1203880310058594,3.4711103439331055,3.4617810249328613,3.2850587368011475,3.828096866607666,1.7717417478561401,3.6536710262298584,3.3464014530181885,3.6546061038970947,3.780586004257202,3.7281494140625,3.290499687194824,3.4925529956817627,3.2575416564941406,3.7732198238372803,3.440101146697998,3.7999203205108643,3.3508808612823486,3.362294912338257,3.7005934715270996,3.6680338382720947,3.5673022270202637,3.5867857933044434,3.2934093475341797,3.2871835231781006,3.8842179775238037,4.245758056640625,3.569488525390625,3.1152896881103516,3.342343807220459,3.2530815601348877,2.3838531970977783,3.3947651386260986,2.386909246444702,3.516317367553711,2.2034881114959717,1.3806968927383423,1.711299180984497,3.4269800186157227,3.8052988052368164,1.7508299350738525,3.7693333625793457,3.472777843475342,3.8971147537231445,3.6765694618225098,3.64916729927063,3.658432960510254,-0.9767447113990784,3.4480767250061035,3.2128937244415283,3.4405100345611572,3.1881113052368164,3.4413607120513916,3.926426649093628,4.011295795440674,3.692026138305664,3.261021137237549,3.57346248626709,4.247856140136719,3.505702257156372,4.21387243270874,3.7664828300476074,4.23184061050415,3.1306490898132324,3.2267706394195557,3.7072558403015137,3.4191765785217285,3.2203564643859863,3.2271664142608643,3.1230812072753906,1.7489514350891113,3.1796677112579346,3.4190545082092285,3.568234920501709,3.419191837310791,3.600358247756958,3.420954942703247,4.225462913513184,0.35347795486450195,0.5268728733062744,3.914658308029175,3.6084628105163574,0.49540969729423523,3.4694881439208984,3.378319263458252,3.609739303588867,3.297434091567993,3.4970321655273438,3.3679661750793457,3.6518359184265137,3.7940783500671387,2.8855154514312744,3.5794403553009033,4.2692646980285645,4.273172855377197,2.9909143447875977,0.34177279472351074,3.929506301879883,3.5932416915893555,3.8787906169891357,3.6773922443389893,-1.2712196111679077,4.00311803817749,3.604745626449585,3.554396152496338,2.391003131866455,3.378680944442749,3.533628463745117,3.9523186683654785,3.276212692260742,3.8282039165496826,4.2437615394592285,3.3546464443206787,4.215543746948242,3.9221978187561035,3.7228620052337646,3.382045269012451,1.746711254119873,3.561479330062866,3.379523277282715,3.706559419631958,0.38840609788894653,1.7553303241729736,2.563969612121582,3.4189443588256836,3.7963273525238037,3.6781764030456543,4.102163791656494,3.7328431606292725,3.3829174041748047,3.4174516201019287,3.6294538974761963,3.6926584243774414,4.0140767097473145,1.7568702697753906,3.7058310508728027,3.56974720954895,4.216279983520508,3.6973233222961426,3.940110206604004,3.1294238567352295,3.5720388889312744,3.398916006088257,3.61588191986084,-0.3111046254634857,3.753650188446045,4.22902774810791,2.4043755531311035,3.4621119499206543,3.345099925994873,4.009125709533691,3.566103219985962,3.686915159225464,3.9562668800354004,3.629291534423828,3.6240055561065674,1.9388296604156494,3.21079683303833,3.9618113040924072,0.4872036874294281,3.5468626022338867,2.4297478199005127,3.08447265625,3.50468111038208,2.393118381500244,3.832230567932129,2.1123595237731934,4.125756740570068,3.7521862983703613,4.234726428985596,3.7492268085479736,3.5373806953430176,3.331407308578491,4.177518844604492,3.6178836822509766,3.8457179069519043,3.3121256828308105,3.1683733463287354,4.103025913238525,3.363914728164673,3.6110215187072754,4.086378574371338,3.177978277206421,3.565936326980591,2.9466159343719482,3.747091054916382,3.575028657913208,1.761631965637207,1.9705737829208374,2.730480670928955,3.2985966205596924,2.4317433834075928,3.6559276580810547,3.6368255615234375,3.133380889892578,3.3840548992156982,3.9153847694396973,3.3444433212280273,2.4333674907684326,3.8972578048706055,1.7528457641601562,3.4650518894195557,3.8612935543060303,3.4373865127563477,4.190188884735107,3.2857460975646973,3.65698504447937,1.7426507472991943,3.8434624671936035,3.481644630432129,3.4239392280578613,3.5265231132507324,4.358724594116211,3.1477460861206055,3.3531711101531982,3.96964693069458,3.4366304874420166,3.5951361656188965,3.448779344558716,3.546555280685425,3.123464584350586,3.2823567390441895,3.597111463546753,3.104384183883667,3.6828091144561768,3.474609851837158,4.196474075317383,3.561845064163208,3.2234702110290527,3.3932275772094727,3.723177433013916,3.544955253601074,3.5507705211639404,3.6635096073150635,3.574982166290283,4.203372001647949,3.040166139602661,0.5127167105674744,1.7773213386535645,4.245570182800293,3.666562080383301,3.9341771602630615,3.5751662254333496,3.64774751663208,3.963225841522217,3.6091389656066895,3.515871524810791,3.982496500015259,3.633317470550537,3.7690093517303467,3.078613758087158,3.441791534423828,3.6517333984375,3.5739784240722656,3.6800026893615723,3.71296763420105,3.601973056793213,3.628910779953003,1.7607349157333374,3.2800934314727783,3.723775625228882,3.508214235305786,3.4693241119384766,3.707350492477417,3.8426456451416016,3.5445008277893066,3.351179599761963,3.3590757846832275,1.7556602954864502,2.140489339828491,3.3346433639526367,3.999216318130493,3.4007492065429688,3.8274102210998535,3.9103925228118896,3.6033148765563965,3.2178494930267334,3.7994611263275146,3.395660400390625,3.423171281814575,3.2965235710144043,-1.3426562547683716,2.41713285446167,4.000486850738525,3.616352081298828,3.59318470954895,3.3992531299591064,3.629023313522339,3.5452539920806885,3.458956718444824,3.881225109100342,3.7401881217956543,3.7436208724975586,3.584074020385742,3.3685302734375,4.2086100578308105,3.560699939727783,2.389822483062744,3.8515379428863525,3.9706923961639404,3.695765256881714,4.200190544128418,3.68451189994812,0.3637250065803528,3.354978561401367,4.178334712982178,3.5977401733398438,3.6472339630126953,3.303879976272583,1.753517508506775,3.160557270050049,3.669593095779419,3.4917712211608887,3.740098237991333,3.088388442993164,3.680202007293701,4.066772937774658,4.0268964767456055,3.856083393096924,3.68858003616333,3.9449751377105713,3.1695468425750732,3.6891112327575684,1.7620424032211304,3.7298123836517334,3.693798303604126,2.9845855236053467,3.5508320331573486,3.4645066261291504,3.61098051071167,3.036839723587036,2.3876211643218994,3.4859530925750732,3.5461857318878174,3.7018179893493652,3.744436740875244,3.627645969390869,-1.9230378866195679,3.7162482738494873,3.4482147693634033,3.645965814590454,3.6768527030944824,3.588500499725342,3.702375650405884,3.2091987133026123,3.7663776874542236,3.79543137550354,3.654787063598633,3.7025232315063477,3.3507330417633057,3.5495235919952393,3.3918704986572266,4.018690586090088,1.7484838962554932,3.93536376953125,3.582566738128662,3.36881685256958,2.405560255050659,3.304387092590332,3.341806411743164,3.617130756378174,3.5638599395751953,3.016261100769043,2.3829190731048584,3.1513619422912598,4.010862827301025,3.544994831085205,3.807976245880127,3.1866564750671387,3.763556957244873,-1.1674343347549438,3.349097490310669,3.8315091133117676,3.3333513736724854,3.6542305946350098,3.233150005340576,3.5659987926483154,2.3950531482696533,3.5775375366210938,2.4283719062805176,3.666539430618286,3.516587495803833,3.8016579151153564,3.55475115776062,3.780158519744873,4.248000621795654,3.278898239135742,3.8668832778930664,3.6079561710357666,3.4398117065429688,3.7350499629974365,3.6320316791534424,3.1364481449127197,1.7810747623443604,4.196789741516113,3.975709915161133,0.20908045768737793,3.6821768283843994,3.907193660736084,3.93061900138855,3.4928338527679443,3.695033311843872,2.40571928024292,3.425524950027466,3.635545492172241,3.283992290496826,3.6707310676574707,3.2608180046081543,3.412992477416992,3.44146990776062,3.2781448364257812,3.625544548034668,3.4000327587127686,3.639841079711914,3.75896954536438,3.5838634967803955,3.7845003604888916,0.3738812506198883,3.554142475128174,3.7787725925445557,3.5419790744781494,3.8525750637054443,3.5818707942962646,3.1991689205169678,3.8446497917175293,3.878740072250366,4.137655258178711,4.120800018310547,2.409425735473633,3.393092393875122,3.309451103210449,3.192556381225586,3.6723766326904297,1.7734665870666504,3.6878020763397217,3.123980760574341,1.7604669332504272,3.082434892654419,3.7380969524383545,1.7615708112716675,3.407172679901123,3.4564177989959717,3.8166799545288086,3.3243443965911865,3.853543519973755,3.503861904144287,3.86978816986084,2.3896801471710205,2.4771602153778076,1.7613246440887451,4.2148942947387695,3.7598419189453125,4.347280025482178,3.9326255321502686,3.715989828109741,3.1714260578155518,3.3212876319885254,3.8677561283111572,3.582641839981079,3.857104539871216,3.438718318939209,3.44655704498291,2.449582576751709,3.9951539039611816,3.3950257301330566,3.7000818252563477,3.068862199783325,0.37030506134033203,4.268246173858643,3.8650565147399902,3.502218723297119,3.8925912380218506,1.7460607290267944,3.600921869277954,3.5072481632232666,3.3316922187805176,0.3939289450645447,3.4660394191741943,3.7051713466644287,3.2657952308654785,3.354234218597412,3.689290761947632,3.651977300643921,3.889824151992798,3.6920666694641113,-1.2985150814056396,3.3242223262786865],\"y\":[13.78059196472168,7.270932197570801,13.802061080932617,13.41955280303955,14.193780899047852,14.021553993225098,12.490915298461914,14.122631072998047,13.554488182067871,12.82569408416748,13.901660919189453,14.038601875305176,5.073757648468018,13.521867752075195,14.221217155456543,13.99184513092041,12.490900039672852,13.894567489624023,13.254746437072754,12.846429824829102,14.455273628234863,13.75008487701416,9.359370231628418,13.450268745422363,13.864014625549316,12.683019638061523,13.110194206237793,13.234468460083008,13.682503700256348,13.876213073730469,12.883708000183105,13.9058256149292,13.46302318572998,13.571368217468262,13.491643905639648,14.414827346801758,14.2747220993042,14.405746459960938,13.659029960632324,13.804122924804688,13.709846496582031,13.859251976013184,12.571993827819824,13.674854278564453,14.07403564453125,13.948920249938965,5.24391508102417,13.574101448059082,14.079665184020996,13.498915672302246,13.040143013000488,14.23654842376709,14.112034797668457,13.68751335144043,13.699482917785645,14.154887199401855,13.872123718261719,13.551968574523926,13.579009056091309,13.62037467956543,5.06647253036499,13.973712921142578,13.927911758422852,13.67261791229248,13.36384391784668,14.207240104675293,8.823973655700684,12.674802780151367,12.0326509475708,13.988581657409668,9.351529121398926,12.521079063415527,14.24357795715332,12.594049453735352,13.426027297973633,13.158598899841309,13.651384353637695,13.5091552734375,13.123991012573242,12.567643165588379,13.43868637084961,13.546313285827637,13.4777250289917,13.882329940795898,13.693222045898438,13.456085205078125,13.99419116973877,13.687470436096191,13.6534423828125,13.706499099731445,13.537150382995605,13.238845825195312,9.305780410766602,13.954172134399414,5.087217807769775,14.035547256469727,13.400370597839355,13.964855194091797,14.023323059082031,13.213656425476074,13.973760604858398,5.065284729003906,11.023212432861328,9.353822708129883,12.368645668029785,13.567704200744629,13.374752044677734,14.077577590942383,13.22403621673584,13.31324291229248,7.41586446762085,13.929361343383789,14.02713680267334,14.083708763122559,12.474838256835938,14.284967422485352,13.383623123168945,14.45582389831543,13.735052108764648,12.832839965820312,14.101866722106934,12.335759162902832,12.526204109191895,13.792369842529297,13.880059242248535,13.503788948059082,13.598862648010254,14.118755340576172,13.494332313537598,14.106593132019043,14.303510665893555,5.19645881652832,12.907837867736816,12.658507347106934,13.808958053588867,13.507518768310547,5.248593807220459,13.82968521118164,13.887736320495605,5.075202465057373,13.598509788513184,12.467141151428223,13.500418663024902,13.992656707763672,12.701814651489258,13.568275451660156,13.801294326782227,14.10531234741211,13.45484733581543,13.568192481994629,13.974808692932129,5.180020809173584,5.101736545562744,12.572954177856445,13.429476737976074,11.56953239440918,12.62211799621582,13.896275520324707,13.759835243225098,13.401314735412598,13.646251678466797,13.584887504577637,13.874712944030762,14.075024604797363,13.549272537231445,11.44913101196289,14.118688583374023,13.05030632019043,13.964397430419922,7.996326923370361,14.056557655334473,14.112235069274902,14.433375358581543,14.032331466674805,13.474428176879883,14.134617805480957,12.633809089660645,13.20248031616211,14.260125160217285,13.561410903930664,13.395535469055176,13.625944137573242,12.922096252441406,14.44888687133789,13.716318130493164,13.610417366027832,14.055086135864258,13.333961486816406,13.647122383117676,14.180201530456543,13.78351879119873,14.124648094177246,11.478052139282227,13.680745124816895,13.946320533752441,14.285394668579102,13.329475402832031,12.640122413635254,14.022616386413574,13.792853355407715,14.006426811218262,13.3007173538208,12.598795890808105,13.03527545928955,13.873316764831543,7.254748821258545,13.57742977142334,10.497607231140137,5.434306621551514,13.972439765930176,13.73342514038086,13.78213119506836,13.53725528717041,14.015421867370605,13.94410228729248,13.530797004699707,13.808255195617676,14.042531967163086,14.040226936340332,11.81480884552002,7.260254859924316,13.687255859375,5.248725414276123,8.059782981872559,14.00799560546875,13.711294174194336,5.194896221160889,13.531800270080566,14.263252258300781,13.724870681762695,13.659646034240723,13.409309387207031,5.109065532684326,13.550642013549805,13.990402221679688,5.079514026641846,13.478718757629395,13.765164375305176,9.11999797821045,13.77778434753418,13.34676742553711,14.231780052185059,14.268054008483887,12.872373580932617,14.457685470581055,5.082230567932129,13.130776405334473,13.62145709991455,5.1010870933532715,12.65453052520752,14.465739250183105,12.561073303222656,13.916955947875977,11.510107040405273,13.923544883728027,13.608156204223633,14.223298072814941,14.273469924926758,11.861027717590332,14.07863712310791,12.82431411743164,14.117999076843262,13.387685775756836,5.091277599334717,5.070220470428467,13.5155611038208,13.641356468200684,13.602886199951172,14.072273254394531,14.216506004333496,13.871580123901367,13.571454048156738,13.864317893981934,13.856471061706543,14.089483261108398,13.764883041381836,13.566781997680664,13.441731452941895,14.422110557556152,12.534550666809082,12.591060638427734,13.33083724975586,13.619335174560547,14.138314247131348,11.200740814208984,13.375714302062988,14.097079277038574,14.386758804321289,13.47656536102295,13.756067276000977,11.486218452453613,14.448142051696777,14.154876708984375,12.566344261169434,7.269154071807861,13.552046775817871,12.867987632751465,13.217157363891602,12.67418384552002,13.90945053100586,13.713813781738281,13.384588241577148,13.967073440551758,13.909896850585938,14.223496437072754,13.765758514404297,13.688203811645508,13.872962951660156,5.036856651306152,13.848381996154785,14.106767654418945,13.173075675964355,14.062819480895996,13.67030143737793,14.228341102600098,14.237521171569824,14.008135795593262,13.620978355407715,14.056100845336914,13.632301330566406,13.197848320007324,12.428582191467285,14.119869232177734,5.025730609893799,12.40123462677002,14.069656372070312,13.834007263183594,14.005528450012207,13.719778060913086,12.874610900878906,12.854811668395996,13.8380708694458,13.46514892578125,14.234491348266602,9.341669082641602,13.50214958190918,14.452123641967773,14.151016235351562,14.016794204711914,13.760907173156738,13.851447105407715,14.004512786865234,13.949777603149414,13.653031349182129,13.708977699279785,13.812607765197754,14.141335487365723,13.793606758117676,13.953865051269531,13.793625831604004,12.8472261428833,12.607586860656738,13.375083923339844,12.714129447937012,13.919537544250488,13.892449378967285,13.424415588378906,14.069303512573242,12.695454597473145,13.635359764099121,9.339567184448242,13.36474323272705,5.070422649383545,13.57200813293457,5.07642126083374,14.113970756530762,13.083418846130371,12.413805961608887,14.386104583740234,13.824825286865234,13.52470588684082,14.437938690185547,13.540477752685547,14.122076034545898,13.593295097351074,12.350172996520996,12.537677764892578,13.769085884094238,7.802229404449463,13.42834186553955,13.272598266601562,13.945846557617188,13.675446510314941,9.336888313293457,13.861024856567383,14.262313842773438,12.515867233276367,13.984573364257812,13.569921493530273,14.10029125213623,12.685101509094238,14.052714347839355,13.25145149230957,13.557392120361328,13.559554100036621,13.935494422912598,13.981447219848633,14.101993560791016,12.599364280700684,13.960262298583984,13.698049545288086,14.448780059814453,13.288357734680176,14.05350399017334,13.8026704788208,13.651405334472656,13.459355354309082,14.094257354736328,13.970438957214355,11.617961883544922,11.48678970336914,13.704729080200195,12.231224060058594,10.264209747314453,13.39399242401123,14.039731979370117,12.972066879272461,13.97377872467041,13.264512062072754,13.568221092224121,14.082550048828125,13.72095012664795,13.392911911010742,14.012674331665039,13.615609169006348,13.571442604064941,13.789730072021484,11.527185440063477,13.988875389099121,12.778000831604004,13.595779418945312,13.781878471374512,7.980472087860107,13.643630027770996,12.65137004852295,12.874809265136719,5.083407402038574,13.849590301513672,14.033591270446777,14.246905326843262,13.420763969421387,13.400601387023926,14.074551582336426,13.432513236999512,14.156888008117676,14.26376724243164,13.318488121032715,13.513208389282227,14.427510261535645,13.504769325256348,13.648341178894043,13.348588943481445,11.473786354064941,14.42852783203125,5.334278106689453,9.131927490234375,13.539710998535156,13.90172290802002,14.038743019104004,12.398920059204102,13.091151237487793,13.416834831237793,13.537590980529785,12.484939575195312,14.06883716583252,14.440537452697754,13.691827774047852,12.829374313354492,14.07661247253418,12.998428344726562,14.008731842041016,13.668085098266602,13.625514030456543,13.848206520080566,14.073443412780762,11.467375755310059,14.013772010803223,13.539085388183594,5.326727390289307,13.556424140930176,9.344710350036621,13.628700256347656,13.591115951538086,12.508139610290527,13.948112487792969,13.70218276977539,12.499285697937012,14.394076347351074,13.754829406738281,13.736217498779297,11.753576278686523,13.664060592651367,5.260812282562256,13.50457763671875,14.173213958740234,5.083008289337158,13.797820091247559,12.729896545410156,14.187057495117188,14.002504348754883,14.095806121826172,13.293747901916504,12.891444206237793,13.903609275817871,14.110074996948242,13.988507270812988,13.551881790161133,13.601163864135742,13.987296104431152,14.026007652282715,14.023703575134277,12.988548278808594,14.253401756286621,13.89370346069336,12.556443214416504,13.769400596618652,13.289663314819336,12.806343078613281,14.44393253326416,13.085043907165527,12.874211311340332,13.892353057861328,5.2576799392700195,12.93130111694336,13.434866905212402,13.362624168395996,14.085236549377441,13.870494842529297,14.002002716064453,5.139280796051025,13.99699592590332,14.451003074645996,14.108294486999512,13.716394424438477,14.094383239746094,13.573512077331543,13.522743225097656,12.813098907470703,14.449066162109375,13.968621253967285,14.021876335144043,14.015410423278809,14.180789947509766,14.236979484558105,13.368058204650879,13.227875709533691,13.43510627746582,13.094292640686035,12.683077812194824,13.321898460388184,12.615738868713379,13.92335319519043,13.524765968322754,12.857420921325684,13.526446342468262,12.471590042114258,13.538236618041992,14.088546752929688,13.502492904663086,13.540164947509766,14.02896499633789,13.856406211853027,13.36264419555664,14.076203346252441,13.38565731048584,12.66512680053711,13.578622817993164,13.855602264404297,11.897001266479492,12.091338157653809,13.987845420837402,12.83835220336914,13.577713012695312,13.504203796386719,14.092477798461914,13.833345413208008,13.5156831741333,13.447006225585938,13.57090950012207,7.253043174743652,13.990682601928711,13.551346778869629,12.958287239074707,13.801103591918945,13.845157623291016,13.746054649353027,13.793961524963379,12.67529582977295,12.72344970703125,14.454169273376465,13.54259967803955,12.463786125183105,13.348572731018066,13.653186798095703,12.481077194213867,13.900318145751953,13.411820411682129,14.020003318786621,13.372550964355469,14.449418067932129,10.465784072875977,13.7825288772583,13.74627685546875,13.15408992767334,13.770134925842285,14.224676132202148,13.482233047485352,13.87446117401123,13.247576713562012,13.17983627319336,14.07318115234375,13.521313667297363,9.786457061767578,5.036315441131592,13.584152221679688,12.730207443237305,13.918821334838867,13.976882934570312,13.291498184204102,12.910375595092773,14.051126480102539,13.996800422668457,13.83991813659668,13.975037574768066,12.778658866882324,13.455533981323242,13.556731224060059,13.614885330200195,5.078113555908203,13.786256790161133,13.772845268249512,12.568740844726562,13.92392349243164,13.729630470275879,11.471142768859863,9.354747772216797,13.565563201904297,12.83340072631836,14.122613906860352,9.896639823913574,14.437180519104004,13.091564178466797,13.757431030273438,13.347417831420898,13.826510429382324,13.509034156799316,12.403944969177246,13.995080947875977,13.456884384155273,13.948026657104492,14.241179466247559,14.01096248626709,13.29590129852295,13.608184814453125,14.453503608703613,13.849225997924805,14.185982704162598,13.83264446258545,13.725682258605957,13.501092910766602,12.563268661499023,13.989882469177246,5.081342697143555,14.068628311157227,14.072152137756348,12.53479290008545,13.931844711303711,13.198424339294434,7.055446624755859,13.940491676330566,12.809866905212402,12.84765625,13.82497787475586,13.590438842773438,13.657036781311035,13.527694702148438,13.425213813781738,13.479266166687012,14.062341690063477,12.412811279296875,13.78095531463623,12.509292602539062,13.841442108154297,14.073332786560059,14.443709373474121,14.235431671142578,13.325776100158691,14.074830055236816,5.32813835144043,13.508867263793945,13.882710456848145,13.601114273071289,13.88681697845459,13.542442321777344,5.070335388183594,13.96867847442627,13.506060600280762,13.872326850891113,13.73613166809082,13.40187931060791,13.856049537658691,8.747699737548828,13.887982368469238,13.704588890075684,13.544988632202148,12.668559074401855,13.44135856628418,13.555545806884766,5.083288192749023,14.184053421020508,5.143558502197266,13.246732711791992,13.506107330322266,14.055746078491211,12.268613815307617,14.031241416931152,14.090630531311035,13.774703025817871,13.70495891571045,14.080198287963867,14.062987327575684,13.939409255981445,13.987953186035156,13.724397659301758,14.426671028137207,13.62906551361084,14.253631591796875,11.4666166305542,12.576536178588867,13.672828674316406,14.256795883178711,13.588496208190918,13.893350601196289,5.099303722381592,13.94504165649414,13.65292739868164,13.89715576171875,14.075377464294434,13.886706352233887,14.067174911499023,12.557500839233398,13.94920539855957,14.04274845123291,13.170123100280762,12.78947639465332,14.019242286682129,12.650705337524414,13.912227630615234,11.479930877685547,13.917533874511719,13.50000286102295,13.70576000213623,13.965641021728516,12.888612747192383,13.956182479858398,13.505851745605469,13.279388427734375,14.064777374267578,13.50900650024414,5.107786655426025,11.51420783996582,13.44473934173584,13.747984886169434,13.925551414489746,14.436284065246582,13.603412628173828,13.585637092590332,14.413131713867188,13.974084854125977,14.036993026733398,14.438701629638672,14.04887866973877,13.777519226074219,13.896063804626465,9.275445938110352,13.543310165405273,13.67739200592041,13.52352523803711,5.082280158996582,5.27183723449707,14.43733024597168,14.12890911102295,13.883057594299316,9.174195289611816,13.841175079345703,13.788426399230957,13.880682945251465,12.988704681396484,13.628100395202637,13.607184410095215,14.025578498840332,14.073382377624512,13.56675910949707,5.2385125160217285,13.833696365356445,14.04141902923584,12.495911598205566,13.465764999389648,11.496800422668457,14.159655570983887,13.46164608001709,14.040875434875488,13.54910945892334,14.431623458862305,13.009608268737793,13.786508560180664,13.52302074432373,11.467188835144043,12.916338920593262,12.472383499145508,13.935689926147461,9.378183364868164,12.558155059814453,13.971216201782227,13.49838924407959,13.999802589416504,9.764288902282715,12.94132137298584],\"type\":\"scattergl\"}],                        {\"template\":{\"data\":{\"barpolar\":[{\"marker\":{\"line\":{\"color\":\"white\",\"width\":0.5},\"pattern\":{\"fillmode\":\"overlay\",\"size\":10,\"solidity\":0.2}},\"type\":\"barpolar\"}],\"bar\":[{\"error_x\":{\"color\":\"rgb(36,36,36)\"},\"error_y\":{\"color\":\"rgb(36,36,36)\"},\"marker\":{\"line\":{\"color\":\"white\",\"width\":0.5},\"pattern\":{\"fillmode\":\"overlay\",\"size\":10,\"solidity\":0.2}},\"type\":\"bar\"}],\"carpet\":[{\"aaxis\":{\"endlinecolor\":\"rgb(36,36,36)\",\"gridcolor\":\"white\",\"linecolor\":\"white\",\"minorgridcolor\":\"white\",\"startlinecolor\":\"rgb(36,36,36)\"},\"baxis\":{\"endlinecolor\":\"rgb(36,36,36)\",\"gridcolor\":\"white\",\"linecolor\":\"white\",\"minorgridcolor\":\"white\",\"startlinecolor\":\"rgb(36,36,36)\"},\"type\":\"carpet\"}],\"choropleth\":[{\"colorbar\":{\"outlinewidth\":1,\"tickcolor\":\"rgb(36,36,36)\",\"ticks\":\"outside\"},\"type\":\"choropleth\"}],\"contourcarpet\":[{\"colorbar\":{\"outlinewidth\":1,\"tickcolor\":\"rgb(36,36,36)\",\"ticks\":\"outside\"},\"type\":\"contourcarpet\"}],\"contour\":[{\"colorbar\":{\"outlinewidth\":1,\"tickcolor\":\"rgb(36,36,36)\",\"ticks\":\"outside\"},\"colorscale\":[[0.0,\"#440154\"],[0.1111111111111111,\"#482878\"],[0.2222222222222222,\"#3e4989\"],[0.3333333333333333,\"#31688e\"],[0.4444444444444444,\"#26828e\"],[0.5555555555555556,\"#1f9e89\"],[0.6666666666666666,\"#35b779\"],[0.7777777777777778,\"#6ece58\"],[0.8888888888888888,\"#b5de2b\"],[1.0,\"#fde725\"]],\"type\":\"contour\"}],\"heatmapgl\":[{\"colorbar\":{\"outlinewidth\":1,\"tickcolor\":\"rgb(36,36,36)\",\"ticks\":\"outside\"},\"colorscale\":[[0.0,\"#440154\"],[0.1111111111111111,\"#482878\"],[0.2222222222222222,\"#3e4989\"],[0.3333333333333333,\"#31688e\"],[0.4444444444444444,\"#26828e\"],[0.5555555555555556,\"#1f9e89\"],[0.6666666666666666,\"#35b779\"],[0.7777777777777778,\"#6ece58\"],[0.8888888888888888,\"#b5de2b\"],[1.0,\"#fde725\"]],\"type\":\"heatmapgl\"}],\"heatmap\":[{\"colorbar\":{\"outlinewidth\":1,\"tickcolor\":\"rgb(36,36,36)\",\"ticks\":\"outside\"},\"colorscale\":[[0.0,\"#440154\"],[0.1111111111111111,\"#482878\"],[0.2222222222222222,\"#3e4989\"],[0.3333333333333333,\"#31688e\"],[0.4444444444444444,\"#26828e\"],[0.5555555555555556,\"#1f9e89\"],[0.6666666666666666,\"#35b779\"],[0.7777777777777778,\"#6ece58\"],[0.8888888888888888,\"#b5de2b\"],[1.0,\"#fde725\"]],\"type\":\"heatmap\"}],\"histogram2dcontour\":[{\"colorbar\":{\"outlinewidth\":1,\"tickcolor\":\"rgb(36,36,36)\",\"ticks\":\"outside\"},\"colorscale\":[[0.0,\"#440154\"],[0.1111111111111111,\"#482878\"],[0.2222222222222222,\"#3e4989\"],[0.3333333333333333,\"#31688e\"],[0.4444444444444444,\"#26828e\"],[0.5555555555555556,\"#1f9e89\"],[0.6666666666666666,\"#35b779\"],[0.7777777777777778,\"#6ece58\"],[0.8888888888888888,\"#b5de2b\"],[1.0,\"#fde725\"]],\"type\":\"histogram2dcontour\"}],\"histogram2d\":[{\"colorbar\":{\"outlinewidth\":1,\"tickcolor\":\"rgb(36,36,36)\",\"ticks\":\"outside\"},\"colorscale\":[[0.0,\"#440154\"],[0.1111111111111111,\"#482878\"],[0.2222222222222222,\"#3e4989\"],[0.3333333333333333,\"#31688e\"],[0.4444444444444444,\"#26828e\"],[0.5555555555555556,\"#1f9e89\"],[0.6666666666666666,\"#35b779\"],[0.7777777777777778,\"#6ece58\"],[0.8888888888888888,\"#b5de2b\"],[1.0,\"#fde725\"]],\"type\":\"histogram2d\"}],\"histogram\":[{\"marker\":{\"line\":{\"color\":\"white\",\"width\":0.6}},\"type\":\"histogram\"}],\"mesh3d\":[{\"colorbar\":{\"outlinewidth\":1,\"tickcolor\":\"rgb(36,36,36)\",\"ticks\":\"outside\"},\"type\":\"mesh3d\"}],\"parcoords\":[{\"line\":{\"colorbar\":{\"outlinewidth\":1,\"tickcolor\":\"rgb(36,36,36)\",\"ticks\":\"outside\"}},\"type\":\"parcoords\"}],\"pie\":[{\"automargin\":true,\"type\":\"pie\"}],\"scatter3d\":[{\"line\":{\"colorbar\":{\"outlinewidth\":1,\"tickcolor\":\"rgb(36,36,36)\",\"ticks\":\"outside\"}},\"marker\":{\"colorbar\":{\"outlinewidth\":1,\"tickcolor\":\"rgb(36,36,36)\",\"ticks\":\"outside\"}},\"type\":\"scatter3d\"}],\"scattercarpet\":[{\"marker\":{\"colorbar\":{\"outlinewidth\":1,\"tickcolor\":\"rgb(36,36,36)\",\"ticks\":\"outside\"}},\"type\":\"scattercarpet\"}],\"scattergeo\":[{\"marker\":{\"colorbar\":{\"outlinewidth\":1,\"tickcolor\":\"rgb(36,36,36)\",\"ticks\":\"outside\"}},\"type\":\"scattergeo\"}],\"scattergl\":[{\"marker\":{\"colorbar\":{\"outlinewidth\":1,\"tickcolor\":\"rgb(36,36,36)\",\"ticks\":\"outside\"}},\"type\":\"scattergl\"}],\"scattermapbox\":[{\"marker\":{\"colorbar\":{\"outlinewidth\":1,\"tickcolor\":\"rgb(36,36,36)\",\"ticks\":\"outside\"}},\"type\":\"scattermapbox\"}],\"scatterpolargl\":[{\"marker\":{\"colorbar\":{\"outlinewidth\":1,\"tickcolor\":\"rgb(36,36,36)\",\"ticks\":\"outside\"}},\"type\":\"scatterpolargl\"}],\"scatterpolar\":[{\"marker\":{\"colorbar\":{\"outlinewidth\":1,\"tickcolor\":\"rgb(36,36,36)\",\"ticks\":\"outside\"}},\"type\":\"scatterpolar\"}],\"scatter\":[{\"marker\":{\"colorbar\":{\"outlinewidth\":1,\"tickcolor\":\"rgb(36,36,36)\",\"ticks\":\"outside\"}},\"type\":\"scatter\"}],\"scatterternary\":[{\"marker\":{\"colorbar\":{\"outlinewidth\":1,\"tickcolor\":\"rgb(36,36,36)\",\"ticks\":\"outside\"}},\"type\":\"scatterternary\"}],\"surface\":[{\"colorbar\":{\"outlinewidth\":1,\"tickcolor\":\"rgb(36,36,36)\",\"ticks\":\"outside\"},\"colorscale\":[[0.0,\"#440154\"],[0.1111111111111111,\"#482878\"],[0.2222222222222222,\"#3e4989\"],[0.3333333333333333,\"#31688e\"],[0.4444444444444444,\"#26828e\"],[0.5555555555555556,\"#1f9e89\"],[0.6666666666666666,\"#35b779\"],[0.7777777777777778,\"#6ece58\"],[0.8888888888888888,\"#b5de2b\"],[1.0,\"#fde725\"]],\"type\":\"surface\"}],\"table\":[{\"cells\":{\"fill\":{\"color\":\"rgb(237,237,237)\"},\"line\":{\"color\":\"white\"}},\"header\":{\"fill\":{\"color\":\"rgb(217,217,217)\"},\"line\":{\"color\":\"white\"}},\"type\":\"table\"}]},\"layout\":{\"annotationdefaults\":{\"arrowhead\":0,\"arrowwidth\":1},\"autotypenumbers\":\"strict\",\"coloraxis\":{\"colorbar\":{\"outlinewidth\":1,\"tickcolor\":\"rgb(36,36,36)\",\"ticks\":\"outside\"}},\"colorscale\":{\"diverging\":[[0.0,\"rgb(103,0,31)\"],[0.1,\"rgb(178,24,43)\"],[0.2,\"rgb(214,96,77)\"],[0.3,\"rgb(244,165,130)\"],[0.4,\"rgb(253,219,199)\"],[0.5,\"rgb(247,247,247)\"],[0.6,\"rgb(209,229,240)\"],[0.7,\"rgb(146,197,222)\"],[0.8,\"rgb(67,147,195)\"],[0.9,\"rgb(33,102,172)\"],[1.0,\"rgb(5,48,97)\"]],\"sequential\":[[0.0,\"#440154\"],[0.1111111111111111,\"#482878\"],[0.2222222222222222,\"#3e4989\"],[0.3333333333333333,\"#31688e\"],[0.4444444444444444,\"#26828e\"],[0.5555555555555556,\"#1f9e89\"],[0.6666666666666666,\"#35b779\"],[0.7777777777777778,\"#6ece58\"],[0.8888888888888888,\"#b5de2b\"],[1.0,\"#fde725\"]],\"sequentialminus\":[[0.0,\"#440154\"],[0.1111111111111111,\"#482878\"],[0.2222222222222222,\"#3e4989\"],[0.3333333333333333,\"#31688e\"],[0.4444444444444444,\"#26828e\"],[0.5555555555555556,\"#1f9e89\"],[0.6666666666666666,\"#35b779\"],[0.7777777777777778,\"#6ece58\"],[0.8888888888888888,\"#b5de2b\"],[1.0,\"#fde725\"]]},\"colorway\":[\"#1F77B4\",\"#FF7F0E\",\"#2CA02C\",\"#D62728\",\"#9467BD\",\"#8C564B\",\"#E377C2\",\"#7F7F7F\",\"#BCBD22\",\"#17BECF\"],\"font\":{\"color\":\"rgb(36,36,36)\"},\"geo\":{\"bgcolor\":\"white\",\"lakecolor\":\"white\",\"landcolor\":\"white\",\"showlakes\":true,\"showland\":true,\"subunitcolor\":\"white\"},\"hoverlabel\":{\"align\":\"left\"},\"hovermode\":\"closest\",\"mapbox\":{\"style\":\"light\"},\"paper_bgcolor\":\"white\",\"plot_bgcolor\":\"white\",\"polar\":{\"angularaxis\":{\"gridcolor\":\"rgb(232,232,232)\",\"linecolor\":\"rgb(36,36,36)\",\"showgrid\":false,\"showline\":true,\"ticks\":\"outside\"},\"bgcolor\":\"white\",\"radialaxis\":{\"gridcolor\":\"rgb(232,232,232)\",\"linecolor\":\"rgb(36,36,36)\",\"showgrid\":false,\"showline\":true,\"ticks\":\"outside\"}},\"scene\":{\"xaxis\":{\"backgroundcolor\":\"white\",\"gridcolor\":\"rgb(232,232,232)\",\"gridwidth\":2,\"linecolor\":\"rgb(36,36,36)\",\"showbackground\":true,\"showgrid\":false,\"showline\":true,\"ticks\":\"outside\",\"zeroline\":false,\"zerolinecolor\":\"rgb(36,36,36)\"},\"yaxis\":{\"backgroundcolor\":\"white\",\"gridcolor\":\"rgb(232,232,232)\",\"gridwidth\":2,\"linecolor\":\"rgb(36,36,36)\",\"showbackground\":true,\"showgrid\":false,\"showline\":true,\"ticks\":\"outside\",\"zeroline\":false,\"zerolinecolor\":\"rgb(36,36,36)\"},\"zaxis\":{\"backgroundcolor\":\"white\",\"gridcolor\":\"rgb(232,232,232)\",\"gridwidth\":2,\"linecolor\":\"rgb(36,36,36)\",\"showbackground\":true,\"showgrid\":false,\"showline\":true,\"ticks\":\"outside\",\"zeroline\":false,\"zerolinecolor\":\"rgb(36,36,36)\"}},\"shapedefaults\":{\"fillcolor\":\"black\",\"line\":{\"width\":0},\"opacity\":0.3},\"ternary\":{\"aaxis\":{\"gridcolor\":\"rgb(232,232,232)\",\"linecolor\":\"rgb(36,36,36)\",\"showgrid\":false,\"showline\":true,\"ticks\":\"outside\"},\"baxis\":{\"gridcolor\":\"rgb(232,232,232)\",\"linecolor\":\"rgb(36,36,36)\",\"showgrid\":false,\"showline\":true,\"ticks\":\"outside\"},\"bgcolor\":\"white\",\"caxis\":{\"gridcolor\":\"rgb(232,232,232)\",\"linecolor\":\"rgb(36,36,36)\",\"showgrid\":false,\"showline\":true,\"ticks\":\"outside\"}},\"title\":{\"x\":0.05},\"xaxis\":{\"automargin\":true,\"gridcolor\":\"rgb(232,232,232)\",\"linecolor\":\"rgb(36,36,36)\",\"showgrid\":false,\"showline\":true,\"ticks\":\"outside\",\"title\":{\"standoff\":15},\"zeroline\":false,\"zerolinecolor\":\"rgb(36,36,36)\"},\"yaxis\":{\"automargin\":true,\"gridcolor\":\"rgb(232,232,232)\",\"linecolor\":\"rgb(36,36,36)\",\"showgrid\":false,\"showline\":true,\"ticks\":\"outside\",\"title\":{\"standoff\":15},\"zeroline\":false,\"zerolinecolor\":\"rgb(36,36,36)\"}}},\"shapes\":[{\"line\":{\"color\":\"#CFD8DC\",\"width\":2},\"type\":\"line\",\"x0\":3.5324131608009335,\"x1\":3.5324131608009335,\"y0\":-1.1305592387914658,\"y1\":17.12664031982422},{\"line\":{\"color\":\"#9E9E9E\",\"width\":2},\"type\":\"line\",\"x0\":-8.69335834980011,\"x1\":15.758184671401978,\"y0\":7.998040540516376,\"y1\":7.998040540516376}],\"annotations\":[{\"showarrow\":false,\"text\":\"D1\",\"x\":-8.69335834980011,\"y\":7.998040540516376,\"yshift\":10},{\"showarrow\":false,\"text\":\"D2\",\"x\":3.5324131608009335,\"xshift\":10,\"y\":17.12664031982422}],\"title\":{\"font\":{\"size\":22,\"color\":\"Black\"},\"text\":\"<b>Documents and Topics\",\"x\":0.5,\"xanchor\":\"center\",\"yanchor\":\"top\"},\"width\":800,\"height\":700,\"xaxis\":{\"visible\":false},\"yaxis\":{\"visible\":false}},                        {\"responsive\": true}                    ).then(function(){\n",
              "                            \n",
              "var gd = document.getElementById('573af693-b885-4bd8-812b-32d64b50d656');\n",
              "var x = new MutationObserver(function (mutations, observer) {{\n",
              "        var display = window.getComputedStyle(gd).display;\n",
              "        if (!display || display === 'none') {{\n",
              "            console.log([gd, 'removed!']);\n",
              "            Plotly.purge(gd);\n",
              "            observer.disconnect();\n",
              "        }}\n",
              "}});\n",
              "\n",
              "// Listen for the removal of the full notebook cells\n",
              "var notebookContainer = gd.closest('#notebook-container');\n",
              "if (notebookContainer) {{\n",
              "    x.observe(notebookContainer, {childList: true});\n",
              "}}\n",
              "\n",
              "// Listen for the clearing of the current output cell\n",
              "var outputEl = gd.closest('.output');\n",
              "if (outputEl) {{\n",
              "    x.observe(outputEl, {childList: true});\n",
              "}}\n",
              "\n",
              "                        })                };                            </script>        </div>\n",
              "</body>\n",
              "</html>"
            ]
          },
          "metadata": {}
        }
      ]
    },
    {
      "cell_type": "markdown",
      "source": [
        "**Save documents and their topics**"
      ],
      "metadata": {
        "id": "PgCEaFrRlrLG"
      }
    },
    {
      "cell_type": "code",
      "source": [
        "def save_documents(model, docs, label, topics=range(0, 20, 1)):\n",
        "  fig = model.visualize_documents(docs, topics=range(0, 20, 1), width=800, height=700, hide_document_hover=True)\n",
        "\n",
        "  # Set the path to save \n",
        "  dir = os.path.join(WORK_DIR, COLNAME, 'documents_topics')\n",
        "\n",
        "  # Use makedirs() to create a new directory if it does not exists\n",
        "  if not os.path.exists(dir):\n",
        "    os.makedirs(dir)\n",
        "\n",
        "  fig.write_image(os.path.join(dir, f\"document_trial_{label}.png\"), format=\"png\")\n",
        "  fig.write_html(os.path.join(dir, f\"document_trial_{label}.html\"))"
      ],
      "metadata": {
        "id": "pDgWnqgq5IiQ"
      },
      "execution_count": 21,
      "outputs": []
    },
    {
      "cell_type": "code",
      "source": [
        "#save_documents(topic_model, documents, COLNAME, topic_range)"
      ],
      "metadata": {
        "id": "OpzgMUwQ2O5d"
      },
      "execution_count": null,
      "outputs": []
    },
    {
      "cell_type": "markdown",
      "source": [
        "### **Term search**"
      ],
      "metadata": {
        "id": "AZIV-p12ZMXa"
      }
    },
    {
      "cell_type": "code",
      "source": [
        "# Find topics that contains blackfriday term\n",
        "similar_topics, similarity = topic_model.find_topics(\"blackfriday\", top_n=5)\n",
        "\n",
        "# Show similar topics\n",
        "similar_topics"
      ],
      "metadata": {
        "id": "pHHayMGRZOob",
        "colab": {
          "base_uri": "https://localhost:8080/"
        },
        "outputId": "658d393f-68bc-4413-8cc6-1e550bcfd52a"
      },
      "execution_count": null,
      "outputs": [
        {
          "output_type": "execute_result",
          "data": {
            "text/plain": [
              "[35, 75, 81, 80, 88]"
            ]
          },
          "metadata": {},
          "execution_count": 107
        }
      ]
    },
    {
      "cell_type": "code",
      "source": [
        "# Show a specific topic\n",
        "topic_model.get_topic(35)"
      ],
      "metadata": {
        "id": "2BnwvRotZUya",
        "colab": {
          "base_uri": "https://localhost:8080/"
        },
        "outputId": "4b8c71ae-854c-4c4e-9e4a-09af9d901722"
      },
      "execution_count": null,
      "outputs": [
        {
          "output_type": "execute_result",
          "data": {
            "text/plain": [
              "[('promoção', 0.030642864540442797),\n",
              " ('black', 0.029560774705428186),\n",
              " ('cancelar', 0.020262468052136533),\n",
              " ('cupom', 0.01738332947698097),\n",
              " ('blackfriday', 0.015827596479552498),\n",
              " ('friday', 0.014625117088174468),\n",
              " ('compra', 0.013596113663886338),\n",
              " ('produto', 0.013568715150168748),\n",
              " ('loja', 0.01307238853602602),\n",
              " ('desconto', 0.013048330437276932)]"
            ]
          },
          "metadata": {},
          "execution_count": 108
        }
      ]
    },
    {
      "cell_type": "markdown",
      "source": [
        "### **\"Hiperparameter optimization\"**"
      ],
      "metadata": {
        "id": "f3Q_mQRNPRhr"
      }
    },
    {
      "cell_type": "code",
      "source": [
        "def save_hyperparameters(trial_params, label):\n",
        "  # Set the path to save \n",
        "  dir = os.path.join(WORK_DIR, COLNAME, 'hyperparameters')\n",
        "\n",
        "  # Use makedirs() to create a new directory if it does not exists\n",
        "  if not os.path.exists(dir):\n",
        "    os.makedirs(dir)\n",
        "\n",
        "  with open(os.path.join(dir, f\"hyperparameters_trial_{label}.json\"), \"w\") as f:\n",
        "    f.write(json.dumps(trial_params))"
      ],
      "metadata": {
        "id": "3wuSDGh4dxlg"
      },
      "execution_count": 22,
      "outputs": []
    },
    {
      "cell_type": "code",
      "source": [
        "def save_model(model, label):\n",
        "  # Set the path to save \n",
        "  dir = os.path.join(WORK_DIR, COLNAME, 'models')\n",
        "\n",
        "  # Use makedirs() to create a new directory if it does not exists\n",
        "  if not os.path.exists(dir):\n",
        "    os.makedirs(dir)\n",
        "\n",
        "  model.save(os.path.join(dir, label))"
      ],
      "metadata": {
        "id": "lv9hK2GrQhoe"
      },
      "execution_count": 23,
      "outputs": []
    },
    {
      "cell_type": "code",
      "source": [
        "def save_coherence(model, topics, docs, label, clustering_model, reduction_model):\n",
        "  \n",
        "  # compute coherence score for BERTopic\n",
        "  coherence_score = get_bertopic_coherence(model, topics, docs)\n",
        "\n",
        "  # save scores\n",
        "  dir = os.path.join(WORK_DIR, COLNAME, 'coherences')\n",
        "  \n",
        "  writeheader = False\n",
        "\n",
        "  if not os.path.exists(dir):\n",
        "    os.makedirs(dir)\n",
        "    writeheader = True\n",
        "\n",
        "  with open(os.path.join(dir, 'coherence_scores.csv'), 'a', newline='') as f:\n",
        "    fieldnames = ['model', 'number_of_topics', 'clustering', 'reduction', 'coherence_score']\n",
        "    writer = csv.DictWriter(f, fieldnames=fieldnames)\n",
        "    data = [{'model': label,\n",
        "              'number_of_topics': len(set(model.topics_)),\n",
        "             'clustering': clustering_model, \n",
        "             'reduction': reduction_model,\n",
        "             'coherence_score': round(coherence_score, 4)}]\n",
        "    if writeheader:\n",
        "      writer.writeheader()\n",
        "    writer.writerows(data)\n",
        "  return coherence_score"
      ],
      "metadata": {
        "id": "MkxTHUdDPuIH"
      },
      "execution_count": 24,
      "outputs": []
    },
    {
      "cell_type": "code",
      "source": [
        "# Download models with stopwords\n",
        "nltk.download(\"stopwords\")\n",
        "\n",
        "custom_stop_words = ['amazon', 'americanas', 'casas bahia', 'magazine luiza', 'shein', 'kabum',\n",
        "                       'samsung', 'mercado livre', 'banco brasil', 'apple', 'magazine', 'luiza', 'luizar',\n",
        "                      'casas', 'bahia', 'casa', 'mercado', 'livre', 'dia', 'vir', 'loja']\n",
        "\n",
        "stopwords = nltk.corpus.stopwords.words('portuguese') + custom_stop_words"
      ],
      "metadata": {
        "id": "e-q0QIb_gSlP"
      },
      "execution_count": 28,
      "outputs": []
    },
    {
      "cell_type": "code",
      "source": [
        "def optimizer(trial):\n",
        "\n",
        "  clustering_option = trial.suggest_categorical('clustering_algorithm__name', ['HDBSCAN', 'K-means'])\n",
        "  dimensionality_option = trial.suggest_categorical('reduction_algorithm__name', ['UMAP', 'PCA'])\n",
        "\n",
        "  # BERTopic hyperparameters\n",
        "  #top_n_words = trial.suggest_int('bertopic__top_n_words', 10, 15)\n",
        "  n_gram_range = ast.literal_eval(trial.suggest_categorical('bertopic__n_gram_range', ['(1,1)', '(1,2)', '(1,3)']))\n",
        "  #min_topic_size = trial.suggest_int('bertopic__min_topic_size', 20, 100, step=20)\n",
        "  #diversity = trial.suggest_float('bertopic__diversity', 0.0, 1.0)\n",
        "  #outlier_threshold = trial.suggest_float('bertopic__outliers_threshold', 0.04, 0.09)\n",
        "  #nr_topics = trial.suggest_int('bertopic__nr_topics', 10, 16) # Note: setting this hyperparameter can increase the number of models with coherence score equal to 0.0\n",
        "\n",
        "  if clustering_option == 'HDBSCAN':\n",
        "    # HDBSCAN hyperparameters\n",
        "    min_cluster_size = trial.suggest_int('hdbscan__min_cluster_size', 5, 15) # the minimum number of points required for a cluster to be considered valid\n",
        "    cluster_selection_epsilon = trial.suggest_float('hdbscan__cluster_selection_epsilon', 0.0, 1.0) # the distance threshold below which two points are considered neighbors.\n",
        "    cluster_selection_method = trial.suggest_categorical('hdbcan__cluster_selection_method', ['leaf', 'leaf']) # eom\n",
        "    hdbscan_alpha = trial.suggest_float('hdbcan__alpha', 0.1, 1.0)\n",
        "    min_samples = trial.suggest_int('hdbscan__min_samples', 5, 10)\n",
        "\n",
        "    # create a new HDBSCAN model to cluster documents\n",
        "    clustering_model = HDBSCAN(min_cluster_size=min_cluster_size,\n",
        "                               cluster_selection_method=cluster_selection_method, \n",
        "                               cluster_selection_epsilon=cluster_selection_epsilon,\n",
        "                               alpha=hdbscan_alpha,\n",
        "                               min_samples= min_samples,\n",
        "                               prediction_data=True)\n",
        "  elif clustering_option == 'K-means':\n",
        "    # K-means hyperparameters\n",
        "    k_means_n_clusters = trial.suggest_int('k_means__n_cluster', 12, 20) \n",
        "    k_means_max_iter = trial.suggest_int('k_means__max_iter', 200, 200)\n",
        "    k_means_n_init = trial.suggest_int('k_means__n_init', 10, 10)\n",
        "\n",
        "    # create a new HDBSCAN model to cluster documents\n",
        "    clustering_model = KMeans(n_clusters=k_means_n_clusters,max_iter=k_means_max_iter, n_init=k_means_n_init, random_state=42)\n",
        "\n",
        "\n",
        "  if dimensionality_option == 'UMAP':\n",
        "    \n",
        "    # UMAP hyperparameters\n",
        "    n_neighbors = trial.suggest_int('umap__n_neighbors', 10, 15) #  the number of nearest neighbors UMAP uses to construct the low-dimensional embedding\n",
        "    n_components = trial.suggest_int('umap__n_components', 5, 5) # the number of dimensions in the reduced data space\n",
        "    metric = trial.suggest_categorical('umap__metric', ['cosine', 'cosine']) # euclidean\n",
        "    min_dist = trial.suggest_float('umap__min_dist', 0.0, 1.0)\n",
        "    spread = trial.suggest_float('umap__spread', 0.0, 1.0)\n",
        "\n",
        "    # create a new UMAP model to reduce dimension\n",
        "    reduction_model = UMAP(n_neighbors=n_neighbors, metric=metric, random_state=42)\n",
        "  elif dimensionality_option == 'PCA':\n",
        "    \n",
        "    # PCA hyperparameters\n",
        "    pca_n_components = trial.suggest_int('pca__n_components', 5, 5) \n",
        "    \n",
        "    # create a new PCA model to reduce dimension\n",
        "    reduction_model = PCA(n_components=pca_n_components, random_state=42) # k-Means, that does not produce any outliers at all\n",
        "\n",
        "  # CountVectorizer hyperparameters \n",
        "  #max_features = trial.suggest_int('countvectorizer__max_features', 4000, 6000)\n",
        "  #max_features = trial.suggest_int('vectorizer__max_features', 3000, 6000)\n",
        "\n",
        "  # reduce the impact of frequent words.\n",
        "  ctfidf_model = ClassTfidfTransformer(reduce_frequent_words=True)\n",
        "\n",
        "  # create a new CountVectorizer to create a matrix of tokens count\n",
        "  vectorizer_model = CountVectorizer(stop_words=stopwords)\n",
        "\n",
        "  # create a new BERTopic model using multilingual option\n",
        "  model = BERTopic(language=\"multilingual\", \n",
        "                   #nr_topics=nr_topics,\n",
        "                   calculate_probabilities=True, \n",
        "                   verbose=True,\n",
        "                   #top_n_words=top_n_words,\n",
        "                   n_gram_range=n_gram_range,\n",
        "                   #min_topic_size=min_topic_size,\n",
        "                   #diversity=diversity,\n",
        "                   vectorizer_model=vectorizer_model,\n",
        "                   ctfidf_model=ctfidf_model,\n",
        "                   umap_model=reduction_model,\n",
        "                   hdbscan_model=clustering_model)\n",
        "    \n",
        "  label = trial.number\n",
        "  params = trial.params\n",
        "\n",
        "  # train BERTopic model \n",
        "  topics, probs = model.fit_transform(documents)\n",
        "\n",
        "  print(f' NUmber of Topics: {len(set(model.topics_))}')\n",
        "  print('\\n')\n",
        "  print('\\n')\n",
        "\n",
        "  coherence_score = 0.0\n",
        "  try:\n",
        "    # define model id\n",
        "    model_id = f\"model_trial_{label}\"\n",
        "\n",
        "    topic_range = range(0, max_limit(len(topics), 20), 1)\n",
        "    top_n_topics = len(topic_range)\n",
        "\n",
        "    # save plots\n",
        "    save_topics(model, label, top_n_topics)\n",
        "    save_documents(model, documents, label, topic_range)\n",
        "    save_hierarchy(model, label, top_n_topics)\n",
        "    save_term_rank(model, label, topic_range)\n",
        "    save_top_words_scores(model, label, top_n_topics)\n",
        "    save_similarity_matrix(model, label)\n",
        "  \n",
        "    # save model\n",
        "    #save_model(model, model_id)\n",
        "\n",
        "    # save hyperparameters\n",
        "    save_hyperparameters(params, label)\n",
        "\n",
        "    # save model coherence score\n",
        "    coherence_score = save_coherence(model, \n",
        "                   topics,\n",
        "                   documents,\n",
        "                   model_id,\n",
        "                   clustering_option,\n",
        "                   dimensionality_option)\n",
        "  except ValueError or TypeError: # skip models that throws ValueError: zero-size array to reduction operation maximum which has no identity\n",
        "    print()\n",
        "  return round(coherence_score, 4)"
      ],
      "metadata": {
        "id": "O87BZ5kyQEvZ"
      },
      "execution_count": 48,
      "outputs": []
    },
    {
      "cell_type": "code",
      "source": [
        "%%time\n",
        "import warnings\n",
        "from scipy.sparse import SparseEfficiencyWarning\n",
        "warnings.filterwarnings('ignore', category=SparseEfficiencyWarning)\n",
        "\n",
        "path = os.path.join(WORK_DIR, COLNAME, 'coherences', 'coherence_scores.csv')\n",
        "if os.path.exists(path):\n",
        "  os.remove(path)\n",
        "\n",
        "# define the number of models to generate by optuna\n",
        "NUMBER_OF_MODELS = 20\n",
        "\n",
        "# create a new study\n",
        "study = optuna.create_study(study_name=f'BERTopic_{COLNAME}', direction='maximize')\n",
        "\n",
        "# run the optmize function \n",
        "study.optimize(optimizer, n_trials=NUMBER_OF_MODELS, show_progress_bar=True)\n",
        "\n",
        "# print best value and parameters\n",
        "print(f'Best value {study.best_value}')\n",
        "print(f'Best params: {study.best_params}')"
      ],
      "metadata": {
        "id": "57mnK6MfYAp4",
        "colab": {
          "base_uri": "https://localhost:8080/",
          "height": 150,
          "referenced_widgets": [
            "4cd6bd003ffb47c8afa14acdde62b9b0",
            "e430ccd684b8425bb11fba183aed4198",
            "16feac04d6c44e7aa5032b6ba0ba3551",
            "06b65b5e6666497c9f67df1488b7040c",
            "b44250e98ecd4110a759061f1327de7b",
            "c45f63198a3448d08c5953a5c301e449",
            "e3dbdc0fccad48f88df2d02f1159b6cd",
            "1711226a105a483aacf146e67cd88eac",
            "e4e0dc824c7148af8d2b6a5de63c3dab",
            "567c331c82554b989aee1e4ab8d2c6fc",
            "8e46e8f57fe444eba38dd74eb54f06af",
            "ffe7f8078c2c489aa1ab73ac901f0709",
            "43b0118fc15f4f97a3108a25864d2516",
            "5fac5f774ecb48b49a81d4b41c84729f",
            "27216afabf7e41dcb54562943bedbbde",
            "88fed65c2c0b48c48b1b06a18788527c",
            "c6e7d7062331498bbac5745f54652533",
            "6147f3d94dc74d7e9296d0fa2cb831da",
            "dd6e20e887f744e584ae8c3ca1f5f6fc",
            "51a1fb61be1a43f9889ae20c00789df2",
            "98daafc2c6434f5fa4680c269826d340",
            "36ceec5b12044c1c8a0d1319688a5cfd"
          ]
        },
        "outputId": "3af3eac2-c1a8-44ae-d7ad-36ce92250cf7"
      },
      "execution_count": null,
      "outputs": [
        {
          "output_type": "stream",
          "name": "stderr",
          "text": [
            "/usr/local/lib/python3.8/dist-packages/optuna/progress_bar.py:56: ExperimentalWarning:\n",
            "\n",
            "Progress bar is experimental (supported from v1.2.0). The interface can change in the future.\n",
            "\n"
          ]
        },
        {
          "output_type": "display_data",
          "data": {
            "text/plain": [
              "  0%|          | 0/20 [00:00<?, ?it/s]"
            ],
            "application/vnd.jupyter.widget-view+json": {
              "version_major": 2,
              "version_minor": 0,
              "model_id": "4cd6bd003ffb47c8afa14acdde62b9b0"
            }
          },
          "metadata": {}
        },
        {
          "output_type": "display_data",
          "data": {
            "text/plain": [
              "Batches:   0%|          | 0/322 [00:00<?, ?it/s]"
            ],
            "application/vnd.jupyter.widget-view+json": {
              "version_major": 2,
              "version_minor": 0,
              "model_id": "ffe7f8078c2c489aa1ab73ac901f0709"
            }
          },
          "metadata": {}
        }
      ]
    },
    {
      "cell_type": "markdown",
      "source": [
        "#### **Update remote repository**"
      ],
      "metadata": {
        "id": "kmSbzWH0gJHM"
      }
    },
    {
      "cell_type": "code",
      "source": [
        "%cd /content/Topic-Modeling-Reclame-Aqui/"
      ],
      "metadata": {
        "id": "2eEK0j1L6b7p",
        "colab": {
          "base_uri": "https://localhost:8080/"
        },
        "outputId": "613dbfe6-2dd5-4591-93cd-a5fbf6397b21"
      },
      "execution_count": null,
      "outputs": [
        {
          "output_type": "stream",
          "name": "stdout",
          "text": [
            "/content/Topic-Modeling-Reclame-Aqui\n"
          ]
        }
      ]
    },
    {
      "cell_type": "code",
      "source": [
        "!git status"
      ],
      "metadata": {
        "id": "ui5chOybS5bL",
        "colab": {
          "base_uri": "https://localhost:8080/"
        },
        "outputId": "849accdc-5854-400a-d663-71a746184c0a"
      },
      "execution_count": null,
      "outputs": [
        {
          "output_type": "stream",
          "name": "stdout",
          "text": [
            "On branch master\n",
            "Your branch is ahead of 'origin/master' by 2 commits.\n",
            "  (use \"git push\" to publish your local commits)\n",
            "\n",
            "nothing to commit, working tree clean\n"
          ]
        }
      ]
    },
    {
      "cell_type": "code",
      "source": [
        "!git add *"
      ],
      "metadata": {
        "id": "CGqBhuS6z7WZ"
      },
      "execution_count": null,
      "outputs": []
    },
    {
      "cell_type": "code",
      "source": [
        "!git status"
      ],
      "metadata": {
        "id": "eyMFQF889jtB",
        "colab": {
          "base_uri": "https://localhost:8080/"
        },
        "outputId": "0b7f7c8c-d389-41a7-8923-2cdf207da634"
      },
      "execution_count": null,
      "outputs": [
        {
          "output_type": "stream",
          "name": "stdout",
          "text": [
            "On branch master\n",
            "Your branch is ahead of 'origin/master' by 2 commits.\n",
            "  (use \"git push\" to publish your local commits)\n",
            "\n",
            "nothing to commit, working tree clean\n"
          ]
        }
      ]
    },
    {
      "cell_type": "code",
      "source": [
        "!git commit -m \"Adding bertopic results from frequent words removed (nouns)\""
      ],
      "metadata": {
        "id": "PFY8B1Ikz-U-",
        "colab": {
          "base_uri": "https://localhost:8080/"
        },
        "outputId": "aa17b378-42b4-4651-c798-ef15eb74ed7e"
      },
      "execution_count": null,
      "outputs": [
        {
          "output_type": "stream",
          "name": "stdout",
          "text": [
            "[master 4e4b1764] Adding bertopic results from frequent words removed (nouns)\n"
          ]
        }
      ]
    },
    {
      "cell_type": "code",
      "source": [
        "!git push origin master"
      ],
      "metadata": {
        "id": "uEJWirD70EiH",
        "colab": {
          "base_uri": "https://localhost:8080/"
        },
        "outputId": "ddc31599-915e-4dee-8013-1d547436ca58"
      },
      "execution_count": null,
      "outputs": [
        {
          "output_type": "stream",
          "name": "stdout",
          "text": [
            "Enumerating objects: 536, done.\n",
            "Counting objects:   0% (1/382)\rCounting objects:   1% (4/382)\rCounting objects:   2% (8/382)\rCounting objects:   3% (12/382)\rCounting objects:   4% (16/382)\rCounting objects:   5% (20/382)\rCounting objects:   6% (23/382)\rCounting objects:   7% (27/382)\rCounting objects:   8% (31/382)\rCounting objects:   9% (35/382)\rCounting objects:  10% (39/382)\rCounting objects:  11% (43/382)\rCounting objects:  12% (46/382)\rCounting objects:  13% (50/382)\rCounting objects:  14% (54/382)\rCounting objects:  15% (58/382)\rCounting objects:  16% (62/382)\rCounting objects:  17% (65/382)\rCounting objects:  18% (69/382)\rCounting objects:  19% (73/382)\rCounting objects:  20% (77/382)\rCounting objects:  21% (81/382)\rCounting objects:  22% (85/382)\rCounting objects:  23% (88/382)\rCounting objects:  24% (92/382)\rCounting objects:  25% (96/382)\rCounting objects:  26% (100/382)\rCounting objects:  27% (104/382)\rCounting objects:  28% (107/382)\rCounting objects:  29% (111/382)\rCounting objects:  30% (115/382)\rCounting objects:  31% (119/382)\rCounting objects:  32% (123/382)\rCounting objects:  33% (127/382)\rCounting objects:  34% (130/382)\rCounting objects:  35% (134/382)\rCounting objects:  36% (138/382)\rCounting objects:  37% (142/382)\rCounting objects:  38% (146/382)\rCounting objects:  39% (149/382)\rCounting objects:  40% (153/382)\rCounting objects:  41% (157/382)\rCounting objects:  42% (161/382)\rCounting objects:  43% (165/382)\rCounting objects:  44% (169/382)\rCounting objects:  45% (172/382)\rCounting objects:  46% (176/382)\rCounting objects:  47% (180/382)\rCounting objects:  48% (184/382)\rCounting objects:  49% (188/382)\rCounting objects:  50% (191/382)\rCounting objects:  51% (195/382)\rCounting objects:  52% (199/382)\rCounting objects:  53% (203/382)\rCounting objects:  54% (207/382)\rCounting objects:  55% (211/382)\rCounting objects:  56% (214/382)\rCounting objects:  57% (218/382)\rCounting objects:  58% (222/382)\rCounting objects:  59% (226/382)\rCounting objects:  60% (230/382)\rCounting objects:  61% (234/382)\rCounting objects:  62% (237/382)\rCounting objects:  63% (241/382)\rCounting objects:  64% (245/382)\rCounting objects:  65% (249/382)\rCounting objects:  66% (253/382)\rCounting objects:  67% (256/382)\rCounting objects:  68% (260/382)\rCounting objects:  69% (264/382)\rCounting objects:  70% (268/382)\rCounting objects:  71% (272/382)\rCounting objects:  72% (276/382)\rCounting objects:  73% (279/382)\rCounting objects:  74% (283/382)\rCounting objects:  75% (287/382)\rCounting objects:  76% (291/382)\rCounting objects:  77% (295/382)\rCounting objects:  78% (298/382)\rCounting objects:  79% (302/382)\rCounting objects:  80% (306/382)\rCounting objects:  81% (310/382)\rCounting objects:  82% (314/382)\rCounting objects:  83% (318/382)\rCounting objects:  84% (321/382)\rCounting objects:  85% (325/382)\rCounting objects:  86% (329/382)\rCounting objects:  87% (333/382)\rCounting objects:  88% (337/382)\rCounting objects:  89% (340/382)\rCounting objects:  90% (344/382)\rCounting objects:  91% (348/382)\rCounting objects:  92% (352/382)\rCounting objects:  93% (356/382)\rCounting objects:  94% (360/382)\rCounting objects:  95% (363/382)\rCounting objects:  96% (367/382)\rCounting objects:  97% (371/382)\rCounting objects:  98% (375/382)\rCounting objects:  99% (379/382)\rCounting objects: 100% (382/382)\rCounting objects: 100% (382/382), done.\n",
            "Delta compression using up to 2 threads\n",
            "Compressing objects: 100% (225/225), done.\n",
            "Writing objects: 100% (226/226), 9.02 MiB | 784.00 KiB/s, done.\n",
            "Total 226 (delta 124), reused 0 (delta 0)\n",
            "remote: Resolving deltas: 100% (124/124), completed with 53 local objects.\u001b[K\n",
            "To github.com:punkmic/Topic-Modeling-Reclame-Aqui.git\n",
            "   73a6d1d7..4e4b1764  master -> master\n"
          ]
        }
      ]
    },
    {
      "cell_type": "code",
      "source": [],
      "metadata": {
        "id": "HMqM5GPdXfhS"
      },
      "execution_count": null,
      "outputs": []
    },
    {
      "cell_type": "code",
      "source": [
        "# run this command to push a new version of this notebook in case you have saved the notebook in github and it is outdate \n",
        "!git stash\n",
        "!git pull\n",
        "!git stash pop"
      ],
      "metadata": {
        "id": "pKF8mcLoIU3Q",
        "colab": {
          "base_uri": "https://localhost:8080/"
        },
        "outputId": "cd684b5d-32a1-4700-af7b-194831bf821f"
      },
      "execution_count": null,
      "outputs": [
        {
          "output_type": "stream",
          "name": "stdout",
          "text": [
            "No local changes to save\n",
            "Already up to date.\n",
            "No stash entries found.\n"
          ]
        }
      ]
    },
    {
      "cell_type": "code",
      "source": [
        "!rm -rf /root/.ssh/"
      ],
      "metadata": {
        "id": "awCNnf2Qlu_5"
      },
      "execution_count": null,
      "outputs": []
    }
  ]
}