{
  "nbformat": 4,
  "nbformat_minor": 0,
  "metadata": {
    "colab": {
      "provenance": [],
      "include_colab_link": true
    },
    "kernelspec": {
      "name": "python3",
      "display_name": "Python 3"
    },
    "language_info": {
      "name": "python"
    },
    "widgets": {
      "application/vnd.jupyter.widget-state+json": {
        "0e11eb7676c34466a87fbaf495425360": {
          "model_module": "@jupyter-widgets/controls",
          "model_name": "HBoxModel",
          "model_module_version": "1.5.0",
          "state": {
            "_dom_classes": [],
            "_model_module": "@jupyter-widgets/controls",
            "_model_module_version": "1.5.0",
            "_model_name": "HBoxModel",
            "_view_count": null,
            "_view_module": "@jupyter-widgets/controls",
            "_view_module_version": "1.5.0",
            "_view_name": "HBoxView",
            "box_style": "",
            "children": [
              "IPY_MODEL_50c928d59f5e44b8b71e469433b8d6af",
              "IPY_MODEL_ea56ff08b9af4602a980bfdba85c4423",
              "IPY_MODEL_fa8720b2dc554eb2b4a38f9ca96e62e6"
            ],
            "layout": "IPY_MODEL_7ce63c6922924eb390244eceafad9a98"
          }
        },
        "50c928d59f5e44b8b71e469433b8d6af": {
          "model_module": "@jupyter-widgets/controls",
          "model_name": "HTMLModel",
          "model_module_version": "1.5.0",
          "state": {
            "_dom_classes": [],
            "_model_module": "@jupyter-widgets/controls",
            "_model_module_version": "1.5.0",
            "_model_name": "HTMLModel",
            "_view_count": null,
            "_view_module": "@jupyter-widgets/controls",
            "_view_module_version": "1.5.0",
            "_view_name": "HTMLView",
            "description": "",
            "description_tooltip": null,
            "layout": "IPY_MODEL_aecd006500d24a898e0164909777fc59",
            "placeholder": "​",
            "style": "IPY_MODEL_392322a97f294b72a99a4b0fbaf57427",
            "value": "Best trial: 12. Best value: 0.571841: 100%"
          }
        },
        "ea56ff08b9af4602a980bfdba85c4423": {
          "model_module": "@jupyter-widgets/controls",
          "model_name": "FloatProgressModel",
          "model_module_version": "1.5.0",
          "state": {
            "_dom_classes": [],
            "_model_module": "@jupyter-widgets/controls",
            "_model_module_version": "1.5.0",
            "_model_name": "FloatProgressModel",
            "_view_count": null,
            "_view_module": "@jupyter-widgets/controls",
            "_view_module_version": "1.5.0",
            "_view_name": "ProgressView",
            "bar_style": "success",
            "description": "",
            "description_tooltip": null,
            "layout": "IPY_MODEL_0be2f172231a43acb0906ec4b0c89df7",
            "max": 20,
            "min": 0,
            "orientation": "horizontal",
            "style": "IPY_MODEL_bde0bb1ebe134b47bbcf79b425c9fbc4",
            "value": 20
          }
        },
        "fa8720b2dc554eb2b4a38f9ca96e62e6": {
          "model_module": "@jupyter-widgets/controls",
          "model_name": "HTMLModel",
          "model_module_version": "1.5.0",
          "state": {
            "_dom_classes": [],
            "_model_module": "@jupyter-widgets/controls",
            "_model_module_version": "1.5.0",
            "_model_name": "HTMLModel",
            "_view_count": null,
            "_view_module": "@jupyter-widgets/controls",
            "_view_module_version": "1.5.0",
            "_view_name": "HTMLView",
            "description": "",
            "description_tooltip": null,
            "layout": "IPY_MODEL_15a9ef73333f484788a0e5d619778fe1",
            "placeholder": "​",
            "style": "IPY_MODEL_e9b57f6b54b14a6db89d768d7ab12ff6",
            "value": " 20/20 [00:41&lt;00:00,  1.95s/it]"
          }
        },
        "7ce63c6922924eb390244eceafad9a98": {
          "model_module": "@jupyter-widgets/base",
          "model_name": "LayoutModel",
          "model_module_version": "1.2.0",
          "state": {
            "_model_module": "@jupyter-widgets/base",
            "_model_module_version": "1.2.0",
            "_model_name": "LayoutModel",
            "_view_count": null,
            "_view_module": "@jupyter-widgets/base",
            "_view_module_version": "1.2.0",
            "_view_name": "LayoutView",
            "align_content": null,
            "align_items": null,
            "align_self": null,
            "border": null,
            "bottom": null,
            "display": null,
            "flex": null,
            "flex_flow": null,
            "grid_area": null,
            "grid_auto_columns": null,
            "grid_auto_flow": null,
            "grid_auto_rows": null,
            "grid_column": null,
            "grid_gap": null,
            "grid_row": null,
            "grid_template_areas": null,
            "grid_template_columns": null,
            "grid_template_rows": null,
            "height": null,
            "justify_content": null,
            "justify_items": null,
            "left": null,
            "margin": null,
            "max_height": null,
            "max_width": null,
            "min_height": null,
            "min_width": null,
            "object_fit": null,
            "object_position": null,
            "order": null,
            "overflow": null,
            "overflow_x": null,
            "overflow_y": null,
            "padding": null,
            "right": null,
            "top": null,
            "visibility": null,
            "width": null
          }
        },
        "aecd006500d24a898e0164909777fc59": {
          "model_module": "@jupyter-widgets/base",
          "model_name": "LayoutModel",
          "model_module_version": "1.2.0",
          "state": {
            "_model_module": "@jupyter-widgets/base",
            "_model_module_version": "1.2.0",
            "_model_name": "LayoutModel",
            "_view_count": null,
            "_view_module": "@jupyter-widgets/base",
            "_view_module_version": "1.2.0",
            "_view_name": "LayoutView",
            "align_content": null,
            "align_items": null,
            "align_self": null,
            "border": null,
            "bottom": null,
            "display": null,
            "flex": null,
            "flex_flow": null,
            "grid_area": null,
            "grid_auto_columns": null,
            "grid_auto_flow": null,
            "grid_auto_rows": null,
            "grid_column": null,
            "grid_gap": null,
            "grid_row": null,
            "grid_template_areas": null,
            "grid_template_columns": null,
            "grid_template_rows": null,
            "height": null,
            "justify_content": null,
            "justify_items": null,
            "left": null,
            "margin": null,
            "max_height": null,
            "max_width": null,
            "min_height": null,
            "min_width": null,
            "object_fit": null,
            "object_position": null,
            "order": null,
            "overflow": null,
            "overflow_x": null,
            "overflow_y": null,
            "padding": null,
            "right": null,
            "top": null,
            "visibility": null,
            "width": null
          }
        },
        "392322a97f294b72a99a4b0fbaf57427": {
          "model_module": "@jupyter-widgets/controls",
          "model_name": "DescriptionStyleModel",
          "model_module_version": "1.5.0",
          "state": {
            "_model_module": "@jupyter-widgets/controls",
            "_model_module_version": "1.5.0",
            "_model_name": "DescriptionStyleModel",
            "_view_count": null,
            "_view_module": "@jupyter-widgets/base",
            "_view_module_version": "1.2.0",
            "_view_name": "StyleView",
            "description_width": ""
          }
        },
        "0be2f172231a43acb0906ec4b0c89df7": {
          "model_module": "@jupyter-widgets/base",
          "model_name": "LayoutModel",
          "model_module_version": "1.2.0",
          "state": {
            "_model_module": "@jupyter-widgets/base",
            "_model_module_version": "1.2.0",
            "_model_name": "LayoutModel",
            "_view_count": null,
            "_view_module": "@jupyter-widgets/base",
            "_view_module_version": "1.2.0",
            "_view_name": "LayoutView",
            "align_content": null,
            "align_items": null,
            "align_self": null,
            "border": null,
            "bottom": null,
            "display": null,
            "flex": null,
            "flex_flow": null,
            "grid_area": null,
            "grid_auto_columns": null,
            "grid_auto_flow": null,
            "grid_auto_rows": null,
            "grid_column": null,
            "grid_gap": null,
            "grid_row": null,
            "grid_template_areas": null,
            "grid_template_columns": null,
            "grid_template_rows": null,
            "height": null,
            "justify_content": null,
            "justify_items": null,
            "left": null,
            "margin": null,
            "max_height": null,
            "max_width": null,
            "min_height": null,
            "min_width": null,
            "object_fit": null,
            "object_position": null,
            "order": null,
            "overflow": null,
            "overflow_x": null,
            "overflow_y": null,
            "padding": null,
            "right": null,
            "top": null,
            "visibility": null,
            "width": null
          }
        },
        "bde0bb1ebe134b47bbcf79b425c9fbc4": {
          "model_module": "@jupyter-widgets/controls",
          "model_name": "ProgressStyleModel",
          "model_module_version": "1.5.0",
          "state": {
            "_model_module": "@jupyter-widgets/controls",
            "_model_module_version": "1.5.0",
            "_model_name": "ProgressStyleModel",
            "_view_count": null,
            "_view_module": "@jupyter-widgets/base",
            "_view_module_version": "1.2.0",
            "_view_name": "StyleView",
            "bar_color": null,
            "description_width": ""
          }
        },
        "15a9ef73333f484788a0e5d619778fe1": {
          "model_module": "@jupyter-widgets/base",
          "model_name": "LayoutModel",
          "model_module_version": "1.2.0",
          "state": {
            "_model_module": "@jupyter-widgets/base",
            "_model_module_version": "1.2.0",
            "_model_name": "LayoutModel",
            "_view_count": null,
            "_view_module": "@jupyter-widgets/base",
            "_view_module_version": "1.2.0",
            "_view_name": "LayoutView",
            "align_content": null,
            "align_items": null,
            "align_self": null,
            "border": null,
            "bottom": null,
            "display": null,
            "flex": null,
            "flex_flow": null,
            "grid_area": null,
            "grid_auto_columns": null,
            "grid_auto_flow": null,
            "grid_auto_rows": null,
            "grid_column": null,
            "grid_gap": null,
            "grid_row": null,
            "grid_template_areas": null,
            "grid_template_columns": null,
            "grid_template_rows": null,
            "height": null,
            "justify_content": null,
            "justify_items": null,
            "left": null,
            "margin": null,
            "max_height": null,
            "max_width": null,
            "min_height": null,
            "min_width": null,
            "object_fit": null,
            "object_position": null,
            "order": null,
            "overflow": null,
            "overflow_x": null,
            "overflow_y": null,
            "padding": null,
            "right": null,
            "top": null,
            "visibility": null,
            "width": null
          }
        },
        "e9b57f6b54b14a6db89d768d7ab12ff6": {
          "model_module": "@jupyter-widgets/controls",
          "model_name": "DescriptionStyleModel",
          "model_module_version": "1.5.0",
          "state": {
            "_model_module": "@jupyter-widgets/controls",
            "_model_module_version": "1.5.0",
            "_model_name": "DescriptionStyleModel",
            "_view_count": null,
            "_view_module": "@jupyter-widgets/base",
            "_view_module_version": "1.2.0",
            "_view_name": "StyleView",
            "description_width": ""
          }
        }
      }
    }
  },
  "cells": [
    {
      "cell_type": "markdown",
      "metadata": {
        "id": "view-in-github",
        "colab_type": "text"
      },
      "source": [
        "<a href=\"https://colab.research.google.com/github/punkmic/Topic-Modeling-Reclame-Aqui/blob/master/Topic_Modeling_Reclame_Aqui_With_LSI.ipynb\" target=\"_parent\"><img src=\"https://colab.research.google.com/assets/colab-badge.svg\" alt=\"Open In Colab\"/></a>"
      ]
    },
    {
      "cell_type": "code",
      "source": [
        "%%capture\n",
        "import pandas as pd # for data manipulation\n",
        "import os # for interacting with the operating system\n",
        "from sklearn.cluster import KMeans\n",
        "import matplotlib.ticker as ticker\n",
        "from sklearn.feature_extraction.text import CountVectorizer\n",
        "from sklearn.metrics import silhouette_score\n",
        "import matplotlib.pyplot as plt\n",
        "import pickle\n",
        "import numpy as np\n",
        "import itertools\n",
        "from matplotlib.lines import Line2D\n",
        "import seaborn as sns\n",
        "import csv\n",
        "import ast # for convert str to tuple\n",
        "try:\n",
        "  from wordcloud import WordCloud\n",
        "  import optuna # for hyperparameter optimization\n",
        "  import pyLDAvis\n",
        "  import pyLDAvis.gensim_models as gs\n",
        "  from gensim.utils import simple_tokenize\n",
        "  from gensim.models import LsiModel\n",
        "  from gensim.utils import simple_preprocess\n",
        "  from gensim import models\n",
        "  from gensim.corpora import Dictionary\n",
        "  from gensim.models.coherencemodel import CoherenceModel\n",
        "  from gensim.models.phrases import Phrases, Phraser\n",
        "except:\n",
        "  !pip install gensim\n",
        "  !pip install pyldavis\n",
        "  !pip install optuna\n",
        "  !pip install wordcloud\n",
        "  from gensim import models\n",
        "  from gensim.corpora import Dictionary\n",
        "  from gensim.models.coherencemodel import CoherenceModel\n",
        "  from gensim.models import LsiModel\n",
        "  import pyLDAvis.gensim_models as gs\n",
        "  from gensim.utils import simple_preprocess\n",
        "  from gensim.models.phrases import Phrases, Phraser\n",
        "  import optuna # for hyperparameter optimization\n",
        "  \n",
        "# import custom module\n",
        "%cd /content/Topic-Modeling-Reclame-Aqui/utils\n",
        "from max_limit import max_limit\n",
        "%cd ../"
      ],
      "metadata": {
        "id": "ZkKW3QCSluVN"
      },
      "execution_count": null,
      "outputs": []
    },
    {
      "cell_type": "markdown",
      "source": [
        "#### **Github**"
      ],
      "metadata": {
        "id": "F0gliNtXRkfH"
      }
    },
    {
      "cell_type": "code",
      "source": [
        "! ssh-keygen -t rsa -b 4096\n",
        "# Add github.com to our known hosts\n",
        "! ssh-keyscan -t rsa github.com >> ~/.ssh/known_hosts\n",
        "# Restrict the key permissions, or else SSH will complain.\n",
        "! chmod go-rwx /root/.ssh/id_rsa"
      ],
      "metadata": {
        "id": "yVd1eoa0zK7f",
        "colab": {
          "base_uri": "https://localhost:8080/"
        },
        "outputId": "9b59ea8f-314e-4b35-a438-032db179d85b"
      },
      "execution_count": null,
      "outputs": [
        {
          "output_type": "stream",
          "name": "stdout",
          "text": [
            "Generating public/private rsa key pair.\n",
            "Enter file in which to save the key (/root/.ssh/id_rsa): \n",
            "Created directory '/root/.ssh'.\n",
            "Enter passphrase (empty for no passphrase): \n",
            "Enter same passphrase again: \n",
            "Your identification has been saved in /root/.ssh/id_rsa\n",
            "Your public key has been saved in /root/.ssh/id_rsa.pub\n",
            "The key fingerprint is:\n",
            "SHA256:fG43qgCCbVBlJEvn/pWl9SYw3AgTldgawPG1TkPBxUM root@e6f830f6d5c0\n",
            "The key's randomart image is:\n",
            "+---[RSA 4096]----+\n",
            "|  ++Bo+*=*E      |\n",
            "| o *..o*++o      |\n",
            "|. . . .oO +.     |\n",
            "| + .  .+ O .     |\n",
            "|. + o   S o o    |\n",
            "| . . o . o o     |\n",
            "|      o   o o    |\n",
            "|       . . o .   |\n",
            "|        ...      |\n",
            "+----[SHA256]-----+\n",
            "# github.com:22 SSH-2.0-babeld-9c9abdde\n"
          ]
        }
      ]
    },
    {
      "cell_type": "code",
      "source": [
        "! cat /root/.ssh/id_rsa.pub"
      ],
      "metadata": {
        "id": "_z-PSHRzz0PY",
        "colab": {
          "base_uri": "https://localhost:8080/"
        },
        "outputId": "91273b13-800b-4c4d-c3fe-d5c964cbdd71"
      },
      "execution_count": null,
      "outputs": [
        {
          "output_type": "stream",
          "name": "stdout",
          "text": [
            "ssh-rsa AAAAB3NzaC1yc2EAAAADAQABAAACAQC+FxSEZGTMk+XCaY1Q0QMzp5OruOUlPGhR6aGrlaoZKSD1OijEectmFFiv+V/MjiPAf+qfUOmdmEAsiWQTYSS84/z6xhxHyZvv+qMWUmUBclXbsnSnUxOAWh/n6fQyQ47OmG+wnF4EWeOaB3pEx7mcswsXHiwBKppjQsjVC5RTMZnTzU+IdDZHulWrUs99RWOCThjiBbXdtHYeyVs40AJy+JRXUr+jCJLVgrNbs9MhSDXGB8ByxlGU/Vmsv2LI5TAvnSGeWiGrpfSvJHQE+n/RBNkeMj4F4EPW8ru3H3pWvPDmunnlJ7cmd8eGgQ8Wc686BKO4+3NqwTXokXlznVKxHCH8fziOe/3SbsryJVB69e5pzUWhTaH8WSXE6zAIZBAiuiUddePq4d7NUoIMxGOkw6INUR5zCKSeVvGmIzRIA5aS7qhfPSxMX1iqEYjEYziVm9+XTU9NCRDD4VoxSL03K2wTAANwhChVZ7nMgvv6MD3lJDgvfRzWOCtOh+KZTyvdiZuAcuQEmQxqnvCcd2SSXadhRrBq2lmk/U/fPYxvkdPT0LxyW3Snk56VwcQdjYmp8/pIxCKLf4gpDbfE8j5oZSAuRauS5+XPXJKYD5+z0CZon08oslCiGqf+fL+DZAQS696+2nAIdiC70rJOuG8z3Z1JcSGaVjoE1hk5W8dV5w== root@e6f830f6d5c0\n"
          ]
        }
      ]
    },
    {
      "cell_type": "code",
      "source": [
        "!git config --global user.email \"\"\n",
        "!git config --global user.name \"\""
      ],
      "metadata": {
        "id": "4iixpGcjzxrO"
      },
      "execution_count": null,
      "outputs": []
    },
    {
      "cell_type": "code",
      "source": [
        "!ssh -T git@github.com"
      ],
      "metadata": {
        "id": "bcqhgkdaz3QI",
        "colab": {
          "base_uri": "https://localhost:8080/"
        },
        "outputId": "7b0be8ad-4461-4613-dffa-a6a6b91297a0"
      },
      "execution_count": null,
      "outputs": [
        {
          "output_type": "stream",
          "name": "stdout",
          "text": [
            "Warning: Permanently added the RSA host key for IP address '140.82.114.4' to the list of known hosts.\r\n",
            "Hi punkmic! You've successfully authenticated, but GitHub does not provide shell access.\n"
          ]
        }
      ]
    },
    {
      "cell_type": "code",
      "source": [
        "!git clone git@github.com:punkmic/Topic-Modeling-Reclame-Aqui.git"
      ],
      "metadata": {
        "id": "zSA4ju5NDpqK",
        "colab": {
          "base_uri": "https://localhost:8080/"
        },
        "outputId": "e9081ee9-f8fe-4b83-be27-929290934a3b"
      },
      "execution_count": null,
      "outputs": [
        {
          "output_type": "stream",
          "name": "stdout",
          "text": [
            "Cloning into 'Topic-Modeling-Reclame-Aqui'...\n",
            "Warning: Permanently added the RSA host key for IP address '140.82.112.4' to the list of known hosts.\n",
            "remote: Enumerating objects: 19423, done.\u001b[K\n",
            "remote: Counting objects: 100% (318/318), done.\u001b[K\n",
            "remote: Compressing objects: 100% (263/263), done.\u001b[K\n",
            "remote: Total 19423 (delta 169), reused 192 (delta 54), pack-reused 19105\u001b[K\n",
            "Receiving objects: 100% (19423/19423), 271.41 MiB | 19.86 MiB/s, done.\n",
            "Resolving deltas: 100% (3545/3545), done.\n",
            "Updating files: 100% (1149/1149), done.\n"
          ]
        }
      ]
    },
    {
      "cell_type": "code",
      "source": [
        "#%cd /content/Topic-Modeling-Reclame-Aqui/"
      ],
      "metadata": {
        "id": "2eEK0j1L6b7p"
      },
      "execution_count": null,
      "outputs": []
    },
    {
      "cell_type": "markdown",
      "source": [
        "#### **Load dataset**"
      ],
      "metadata": {
        "id": "CL_7bEeT-hdI"
      }
    },
    {
      "cell_type": "code",
      "source": [
        "WORK_DIR = '/content/Topic-Modeling-Reclame-Aqui'\n",
        "DATASETS_DIR = '/content/Topic-Modeling-Reclame-Aqui/datasets'"
      ],
      "metadata": {
        "id": "ZwZI6ucXIcVx"
      },
      "execution_count": null,
      "outputs": []
    },
    {
      "cell_type": "code",
      "source": [
        "df = pd.read_csv(os.path.join(DATASETS_DIR, 'processed_v1.csv'))"
      ],
      "metadata": {
        "id": "ISmXExl39luC"
      },
      "execution_count": null,
      "outputs": []
    },
    {
      "cell_type": "code",
      "source": [
        "df.head(3)"
      ],
      "metadata": {
        "id": "KKcyNw5j-eLz",
        "outputId": "68d32e79-8935-4cb3-dbf2-75e9bca7faf0",
        "colab": {
          "base_uri": "https://localhost:8080/",
          "height": 433
        }
      },
      "execution_count": null,
      "outputs": [
        {
          "output_type": "execute_result",
          "data": {
            "text/plain": [
              "                                         title  \\\n",
              "0  pedir cancelado justificativa semana compro   \n",
              "1                               pedir cancelar   \n",
              "2                             cobrança indever   \n",
              "\n",
              "                                           documents  \\\n",
              "0  pesquisando bastante novo comprar resolver agu...   \n",
              "1  sinceramente decepcionar entrar contato procon...   \n",
              "2  cancelei plano antes terminar período testir g...   \n",
              "\n",
              "                                     documents_nouns  \\\n",
              "0  semana desconto promoção desconto compra custo...   \n",
              "1  procon audiência conciliação solicitação produ...   \n",
              "2  cancelei período plataforma fatura gratuito ca...   \n",
              "\n",
              "                                             bigrams  \\\n",
              "0  [('pesquisando', 'bastante'), ('bastante', 'no...   \n",
              "1  [('sinceramente', 'decepcionar'), ('decepciona...   \n",
              "2  [('cancelei', 'plano'), ('plano', 'antes'), ('...   \n",
              "\n",
              "                                        noun_bigrams  \\\n",
              "0  [('semana', 'desconto'), ('desconto', 'promoçã...   \n",
              "1  [('procon', 'audiência'), ('audiência', 'conci...   \n",
              "2  [('cancelei', 'período'), ('período', 'platafo...   \n",
              "\n",
              "                                            trigrams  \\\n",
              "0  [('pesquisando', 'bastante', 'novo'), ('bastan...   \n",
              "1  [('sinceramente', 'decepcionar', 'entrar'), ('...   \n",
              "2  [('cancelei', 'plano', 'antes'), ('plano', 'an...   \n",
              "\n",
              "                                       noun_trigrams  \\\n",
              "0  [('semana', 'desconto', 'promoção'), ('descont...   \n",
              "1  [('procon', 'audiência', 'conciliação'), ('aud...   \n",
              "2  [('cancelei', 'período', 'plataforma'), ('perí...   \n",
              "\n",
              "                                  freq_words_removed  \\\n",
              "0  pesquisando bastante novo resolver aguardar se...   \n",
              "1  sinceramente decepcionar procon hoje informar ...   \n",
              "2  cancelei plano antes terminar período testir g...   \n",
              "\n",
              "                            freq_words_removed_nouns  \n",
              "0  semana desconto promoção desconto plataforma c...  \n",
              "1  procon audiência conciliação solicitação estoq...  \n",
              "2  cancelei período plataforma fatura gratuito ca...  "
            ],
            "text/html": [
              "\n",
              "  <div id=\"df-1420da80-9b73-4f3a-b331-b409f3ae80c6\">\n",
              "    <div class=\"colab-df-container\">\n",
              "      <div>\n",
              "<style scoped>\n",
              "    .dataframe tbody tr th:only-of-type {\n",
              "        vertical-align: middle;\n",
              "    }\n",
              "\n",
              "    .dataframe tbody tr th {\n",
              "        vertical-align: top;\n",
              "    }\n",
              "\n",
              "    .dataframe thead th {\n",
              "        text-align: right;\n",
              "    }\n",
              "</style>\n",
              "<table border=\"1\" class=\"dataframe\">\n",
              "  <thead>\n",
              "    <tr style=\"text-align: right;\">\n",
              "      <th></th>\n",
              "      <th>title</th>\n",
              "      <th>documents</th>\n",
              "      <th>documents_nouns</th>\n",
              "      <th>bigrams</th>\n",
              "      <th>noun_bigrams</th>\n",
              "      <th>trigrams</th>\n",
              "      <th>noun_trigrams</th>\n",
              "      <th>freq_words_removed</th>\n",
              "      <th>freq_words_removed_nouns</th>\n",
              "    </tr>\n",
              "  </thead>\n",
              "  <tbody>\n",
              "    <tr>\n",
              "      <th>0</th>\n",
              "      <td>pedir cancelado justificativa semana compro</td>\n",
              "      <td>pesquisando bastante novo comprar resolver agu...</td>\n",
              "      <td>semana desconto promoção desconto compra custo...</td>\n",
              "      <td>[('pesquisando', 'bastante'), ('bastante', 'no...</td>\n",
              "      <td>[('semana', 'desconto'), ('desconto', 'promoçã...</td>\n",
              "      <td>[('pesquisando', 'bastante', 'novo'), ('bastan...</td>\n",
              "      <td>[('semana', 'desconto', 'promoção'), ('descont...</td>\n",
              "      <td>pesquisando bastante novo resolver aguardar se...</td>\n",
              "      <td>semana desconto promoção desconto plataforma c...</td>\n",
              "    </tr>\n",
              "    <tr>\n",
              "      <th>1</th>\n",
              "      <td>pedir cancelar</td>\n",
              "      <td>sinceramente decepcionar entrar contato procon...</td>\n",
              "      <td>procon audiência conciliação solicitação produ...</td>\n",
              "      <td>[('sinceramente', 'decepcionar'), ('decepciona...</td>\n",
              "      <td>[('procon', 'audiência'), ('audiência', 'conci...</td>\n",
              "      <td>[('sinceramente', 'decepcionar', 'entrar'), ('...</td>\n",
              "      <td>[('procon', 'audiência', 'conciliação'), ('aud...</td>\n",
              "      <td>sinceramente decepcionar procon hoje informar ...</td>\n",
              "      <td>procon audiência conciliação solicitação estoq...</td>\n",
              "    </tr>\n",
              "    <tr>\n",
              "      <th>2</th>\n",
              "      <td>cobrança indever</td>\n",
              "      <td>cancelei plano antes terminar período testir g...</td>\n",
              "      <td>cancelei período plataforma fatura gratuito ca...</td>\n",
              "      <td>[('cancelei', 'plano'), ('plano', 'antes'), ('...</td>\n",
              "      <td>[('cancelei', 'período'), ('período', 'platafo...</td>\n",
              "      <td>[('cancelei', 'plano', 'antes'), ('plano', 'an...</td>\n",
              "      <td>[('cancelei', 'período', 'plataforma'), ('perí...</td>\n",
              "      <td>cancelei plano antes terminar período testir g...</td>\n",
              "      <td>cancelei período plataforma fatura gratuito ca...</td>\n",
              "    </tr>\n",
              "  </tbody>\n",
              "</table>\n",
              "</div>\n",
              "      <button class=\"colab-df-convert\" onclick=\"convertToInteractive('df-1420da80-9b73-4f3a-b331-b409f3ae80c6')\"\n",
              "              title=\"Convert this dataframe to an interactive table.\"\n",
              "              style=\"display:none;\">\n",
              "        \n",
              "  <svg xmlns=\"http://www.w3.org/2000/svg\" height=\"24px\"viewBox=\"0 0 24 24\"\n",
              "       width=\"24px\">\n",
              "    <path d=\"M0 0h24v24H0V0z\" fill=\"none\"/>\n",
              "    <path d=\"M18.56 5.44l.94 2.06.94-2.06 2.06-.94-2.06-.94-.94-2.06-.94 2.06-2.06.94zm-11 1L8.5 8.5l.94-2.06 2.06-.94-2.06-.94L8.5 2.5l-.94 2.06-2.06.94zm10 10l.94 2.06.94-2.06 2.06-.94-2.06-.94-.94-2.06-.94 2.06-2.06.94z\"/><path d=\"M17.41 7.96l-1.37-1.37c-.4-.4-.92-.59-1.43-.59-.52 0-1.04.2-1.43.59L10.3 9.45l-7.72 7.72c-.78.78-.78 2.05 0 2.83L4 21.41c.39.39.9.59 1.41.59.51 0 1.02-.2 1.41-.59l7.78-7.78 2.81-2.81c.8-.78.8-2.07 0-2.86zM5.41 20L4 18.59l7.72-7.72 1.47 1.35L5.41 20z\"/>\n",
              "  </svg>\n",
              "      </button>\n",
              "      \n",
              "  <style>\n",
              "    .colab-df-container {\n",
              "      display:flex;\n",
              "      flex-wrap:wrap;\n",
              "      gap: 12px;\n",
              "    }\n",
              "\n",
              "    .colab-df-convert {\n",
              "      background-color: #E8F0FE;\n",
              "      border: none;\n",
              "      border-radius: 50%;\n",
              "      cursor: pointer;\n",
              "      display: none;\n",
              "      fill: #1967D2;\n",
              "      height: 32px;\n",
              "      padding: 0 0 0 0;\n",
              "      width: 32px;\n",
              "    }\n",
              "\n",
              "    .colab-df-convert:hover {\n",
              "      background-color: #E2EBFA;\n",
              "      box-shadow: 0px 1px 2px rgba(60, 64, 67, 0.3), 0px 1px 3px 1px rgba(60, 64, 67, 0.15);\n",
              "      fill: #174EA6;\n",
              "    }\n",
              "\n",
              "    [theme=dark] .colab-df-convert {\n",
              "      background-color: #3B4455;\n",
              "      fill: #D2E3FC;\n",
              "    }\n",
              "\n",
              "    [theme=dark] .colab-df-convert:hover {\n",
              "      background-color: #434B5C;\n",
              "      box-shadow: 0px 1px 3px 1px rgba(0, 0, 0, 0.15);\n",
              "      filter: drop-shadow(0px 1px 2px rgba(0, 0, 0, 0.3));\n",
              "      fill: #FFFFFF;\n",
              "    }\n",
              "  </style>\n",
              "\n",
              "      <script>\n",
              "        const buttonEl =\n",
              "          document.querySelector('#df-1420da80-9b73-4f3a-b331-b409f3ae80c6 button.colab-df-convert');\n",
              "        buttonEl.style.display =\n",
              "          google.colab.kernel.accessAllowed ? 'block' : 'none';\n",
              "\n",
              "        async function convertToInteractive(key) {\n",
              "          const element = document.querySelector('#df-1420da80-9b73-4f3a-b331-b409f3ae80c6');\n",
              "          const dataTable =\n",
              "            await google.colab.kernel.invokeFunction('convertToInteractive',\n",
              "                                                     [key], {});\n",
              "          if (!dataTable) return;\n",
              "\n",
              "          const docLinkHtml = 'Like what you see? Visit the ' +\n",
              "            '<a target=\"_blank\" href=https://colab.research.google.com/notebooks/data_table.ipynb>data table notebook</a>'\n",
              "            + ' to learn more about interactive tables.';\n",
              "          element.innerHTML = '';\n",
              "          dataTable['output_type'] = 'display_data';\n",
              "          await google.colab.output.renderOutput(dataTable, element);\n",
              "          const docLink = document.createElement('div');\n",
              "          docLink.innerHTML = docLinkHtml;\n",
              "          element.appendChild(docLink);\n",
              "        }\n",
              "      </script>\n",
              "    </div>\n",
              "  </div>\n",
              "  "
            ]
          },
          "metadata": {},
          "execution_count": 14
        }
      ]
    },
    {
      "cell_type": "code",
      "source": [
        "COLNAME = 'freq_words_removed_nouns'\n",
        "# remove any na value\n",
        "df.dropna(subset=[COLNAME], inplace=True)\n",
        "documents = df[COLNAME]\n",
        "print(len(documents))\n",
        "print(documents[:1])"
      ],
      "metadata": {
        "colab": {
          "base_uri": "https://localhost:8080/"
        },
        "id": "YHDUSN6TV03E",
        "outputId": "b4b711b2-fc6a-473f-bf40-780a152357d9"
      },
      "execution_count": null,
      "outputs": [
        {
          "output_type": "stream",
          "name": "stdout",
          "text": [
            "10292\n",
            "0    semana desconto promoção desconto plataforma c...\n",
            "Name: freq_words_removed_nouns, dtype: object\n"
          ]
        }
      ]
    },
    {
      "cell_type": "code",
      "source": [
        "LSI_RESULTS_DIR = os.path.join('/content/Topic-Modeling-Reclame-Aqui/lsi/', COLNAME)\n",
        "\n",
        "if not os.path.exists(LSI_RESULTS_DIR):\n",
        "  os.makedirs(LSI_RESULTS_DIR)"
      ],
      "metadata": {
        "id": "GgQ6Z6HGp_4k"
      },
      "execution_count": null,
      "outputs": []
    },
    {
      "cell_type": "code",
      "source": [
        "NUMBER_OF_TOPICS = 26"
      ],
      "metadata": {
        "id": "q_FWqOlAUfff"
      },
      "execution_count": null,
      "outputs": []
    },
    {
      "cell_type": "code",
      "source": [
        "optimum_topics = []\n",
        "def plot_coherence(coherence_scores, n_topics, prefix):\n",
        "  # create the plot\n",
        "  plt.figure(figsize=[10, 8])\n",
        "\n",
        "  # create a line plot\n",
        "  ax = sns.lineplot(x=list(coherence_scores.keys()), y=list(coherence_scores.values()), color='#238C8C')\n",
        "\n",
        "  # add labels to the axes\n",
        "  plt.xlabel('Número de Tópicos')\n",
        "  plt.ylabel('Coerência (score)')\n",
        "  plt.title(\"Coerência por número de tópicos\", fontsize=16)\n",
        "  \n",
        "  # set x-axis limits\n",
        "  plt.xlim(2, n_topics)\n",
        "\n",
        "  # customize x-ticks\n",
        "  plt.xticks(range(2, n_topics, 2))\n",
        "\n",
        "  # Add a vertical line to show the optimum number of topics\n",
        "  position = list(coherence_scores.keys())[np.argmax(list(coherence_scores.values()))]\n",
        "  optimum_topics.append(position)\n",
        "  plt.axvline(position,  color='#F26457', linestyle='--')  \n",
        "\n",
        "  # Draw a custom legend\n",
        "  legend_elements = [Line2D([0], [0], color='#238C8C', \n",
        "                          ls='-', label='Valor de coerência (c_v)'),\n",
        "                   Line2D([0], [1], color='#F26457', \n",
        "                          ls='--', label='Número de tópicos ótimo')]\n",
        "\n",
        "  ax.legend(handles=legend_elements, loc='upper right')\n",
        "\n",
        "  # save plot\n",
        "  plt.savefig(os.path.join(LSI_RESULTS_DIR, f'{prefix}_coherence_by_topics.png'))\n",
        "\n",
        "  # show the plot\n",
        "  plt.show()"
      ],
      "metadata": {
        "id": "XOQ-4yBixlTH"
      },
      "execution_count": null,
      "outputs": []
    },
    {
      "cell_type": "markdown",
      "source": [
        "#### **Unigram**"
      ],
      "metadata": {
        "id": "Jm8uyIBvAMlo"
      }
    },
    {
      "cell_type": "code",
      "source": [
        "# Tokenize documents\n",
        "texts = [\n",
        "    [word for word in document.lower().split()]\n",
        "    for document in documents\n",
        "]\n",
        "\n",
        "# Create a dictionary from the tokens\n",
        "dictionary = Dictionary(texts)\n",
        "\n",
        "# Create a corpus from the tokens\n",
        "corpus = [dictionary.doc2bow(text) for text in texts]\n",
        "\n",
        "# Create a dict to store the coherence scores\n",
        "coherence_scores = {}\n",
        "\n",
        "for t in range(2, NUMBER_OF_TOPICS):\n",
        "    lsi_model = LsiModel(corpus, id2word=dictionary, num_topics=t, random_seed=42)\n",
        "    # corpus_lsi = lsi_model[corpus]\n",
        "\n",
        "    cm = CoherenceModel(model=lsi_model, texts=texts, coherence='c_v')\n",
        "    score = cm.get_coherence()\n",
        "    tup = t, score\n",
        "    coherence_scores[t] = score"
      ],
      "metadata": {
        "id": "z-49sk10yyx1"
      },
      "execution_count": null,
      "outputs": []
    },
    {
      "cell_type": "code",
      "source": [
        "plot_coherence(coherence_scores, NUMBER_OF_TOPICS, 'unigrams')"
      ],
      "metadata": {
        "colab": {
          "base_uri": "https://localhost:8080/",
          "height": 516
        },
        "id": "_leAvHzLTHCK",
        "outputId": "dddb0843-948f-45f3-d603-4862540fa727"
      },
      "execution_count": null,
      "outputs": [
        {
          "output_type": "display_data",
          "data": {
            "text/plain": [
              "<Figure size 720x576 with 1 Axes>"
            ],
            "image/png": "[encoded data removed]"
          },
          "metadata": {
            "needs_background": "light"
          }
        }
      ]
    },
    {
      "cell_type": "markdown",
      "source": [
        "#### **Bigrams**"
      ],
      "metadata": {
        "id": "h9EgbDngx9qF"
      }
    },
    {
      "cell_type": "code",
      "source": [
        "# Tokenize documents\n",
        "texts = [\n",
        "    [word for word in document.lower().split()]\n",
        "    for document in documents\n",
        "]\n",
        "\n",
        "# create bigrams\n",
        "bigram = Phrases(texts, min_count=1)\n",
        "bigram_phraser = Phraser(bigram)\n",
        "texts = [bigram_phraser[doc] for doc in texts]\n",
        "\n",
        "# Create a dictionary from the tokens\n",
        "dictionary = Dictionary(texts)\n",
        "\n",
        "# Create a corpus from the tokens\n",
        "corpus = [dictionary.doc2bow(text) for text in texts]\n",
        "\n",
        "# Create a dict to store the coherence scores\n",
        "coherence_scores = {}\n",
        "\n",
        "for t in range(2, NUMBER_OF_TOPICS):\n",
        "    lsi_model = LsiModel(corpus, id2word=dictionary, num_topics=t, random_seed=42)\n",
        "    # corpus_lsi = lsi_model[corpus]\n",
        "\n",
        "    cm = CoherenceModel(model=lsi_model, texts=texts, coherence='c_v')\n",
        "    score = cm.get_coherence()\n",
        "    tup = t, score\n",
        "    coherence_scores[t] = score"
      ],
      "metadata": {
        "id": "v8xNoCAxyAA3"
      },
      "execution_count": null,
      "outputs": []
    },
    {
      "cell_type": "code",
      "source": [
        "plot_coherence(coherence_scores, NUMBER_OF_TOPICS, 'bigrams')"
      ],
      "metadata": {
        "colab": {
          "base_uri": "https://localhost:8080/",
          "height": 516
        },
        "id": "XBBbCvR8TYMs",
        "outputId": "84880263-09a6-45e1-c923-5177829a5005"
      },
      "execution_count": null,
      "outputs": [
        {
          "output_type": "display_data",
          "data": {
            "text/plain": [
              "<Figure size 720x576 with 1 Axes>"
            ],
            "image/png": "[encoded data removed]"
          },
          "metadata": {
            "needs_background": "light"
          }
        }
      ]
    },
    {
      "cell_type": "markdown",
      "source": [
        "#### **Trigrams**"
      ],
      "metadata": {
        "id": "T508iVD1yXfH"
      }
    },
    {
      "cell_type": "code",
      "source": [
        "# Tokenize documents\n",
        "texts = [\n",
        "    [word for word in document.lower().split()]\n",
        "    for document in documents\n",
        "]\n",
        "\n",
        "# Create trigrams\n",
        "trigram = Phrases(texts, min_count=1)\n",
        "trigram_phraser = Phraser(trigram)\n",
        "texts = [trigram_phraser[bigram_phraser[token]] for token in texts]\n",
        "\n",
        "# Create a dictionary from the tokens\n",
        "dictionary = Dictionary(texts)\n",
        "\n",
        "# Create a corpus from the tokens\n",
        "corpus = [dictionary.doc2bow(text) for text in texts]\n",
        "\n",
        "# Create a dict to store the coherence scores\n",
        "coherence_scores = {}\n",
        "\n",
        "for t in range(2, NUMBER_OF_TOPICS):\n",
        "    lsi_model = LsiModel(corpus, id2word=dictionary, num_topics=t, random_seed=42)\n",
        "    # corpus_lsi = lsi_model[corpus]\n",
        "\n",
        "    cm = CoherenceModel(model=lsi_model, texts=texts, coherence='c_v')\n",
        "    score = cm.get_coherence()\n",
        "    tup = t, score\n",
        "    coherence_scores[t] = score"
      ],
      "metadata": {
        "id": "tmZv_wUayJOv"
      },
      "execution_count": null,
      "outputs": []
    },
    {
      "cell_type": "code",
      "source": [
        "plot_coherence(coherence_scores, NUMBER_OF_TOPICS, 'trigrams')"
      ],
      "metadata": {
        "colab": {
          "base_uri": "https://localhost:8080/",
          "height": 516
        },
        "id": "11IlrZGFVU0i",
        "outputId": "76ef424a-5341-4b8f-c324-c48f1501f7c3"
      },
      "execution_count": null,
      "outputs": [
        {
          "output_type": "display_data",
          "data": {
            "text/plain": [
              "<Figure size 720x576 with 1 Axes>"
            ],
            "image/png": "[encoded data removed]"
          },
          "metadata": {
            "needs_background": "light"
          }
        }
      ]
    },
    {
      "cell_type": "markdown",
      "source": [
        "#### **Hyperparameter tuning**"
      ],
      "metadata": {
        "id": "dziSN295rdb2"
      }
    },
    {
      "cell_type": "code",
      "source": [
        "# set the minimum and maximum number of topics based on coherence score plots\n",
        "MIN_TOPICS = min(optimum_topics)\n",
        "MAX_TOPICS = max(optimum_topics)\n",
        "def optimizer(trial):\n",
        "\n",
        "  ngram_range = ast.literal_eval(trial.suggest_categorical('ngram_range', ['(1,1)', '(1,2)', '(1,3)']))\n",
        "  nr_topics = trial.suggest_int('lsi__nr_topics', MIN_TOPICS, MAX_TOPICS)\n",
        "  min_count = trial.suggest_int('bigram__min_count', 2, 20)\n",
        "  filter = trial.suggest_float('dictionary__filter_extremes', 0.70, 0.95)\n",
        "\n",
        "  texts = [\n",
        "      [word for word in document.lower().split()]\n",
        "      for document in documents\n",
        "  ]\n",
        "\n",
        "  if ngram_range == (1,2):\n",
        "    # Create bigrams\n",
        "    bigram = Phrases(texts, min_count=min_count)\n",
        "    bigram_phraser = Phraser(bigram)\n",
        "    texts = [bigram_phraser[token] for token in texts] \n",
        "  elif ngram_range == (1,3):\n",
        "    # Create bigrams\n",
        "    bigram = Phrases(texts, min_count=min_count)\n",
        "    bigram_phraser = Phraser(bigram)\n",
        "    texts = [bigram_phraser[token] for token in texts] \n",
        "    \n",
        "    # Create trigrams\n",
        "    trigram = Phrases(texts, min_count=min_count)\n",
        "    trigram_phraser = Phraser(trigram)\n",
        "    texts = [trigram_phraser[bigram_phraser[token]] for token in texts]\n",
        "  \n",
        "  \n",
        "  # create a corpus from a list of texts\n",
        "  dictionary = Dictionary(texts)\n",
        "\n",
        "  # Filter out words that occur more than X% of the documents.\n",
        "  dictionary.filter_extremes(no_above=filter)\n",
        "\n",
        "  # convert documents to bag of words\n",
        "  corpus = [dictionary.doc2bow(text) for text in texts]\n",
        "\n",
        "  # create a new LSI model\n",
        "  lsi_model = LsiModel(corpus=corpus,\n",
        "                           id2word=dictionary,\n",
        "                           num_topics=nr_topics,\n",
        "                           random_seed=100)\n",
        "  \n",
        "  # compute coherence score\n",
        "  score = CoherenceModel(lsi_model, texts=texts, corpus=corpus, dictionary=dictionary).get_coherence()\n",
        "\n",
        "  new_file = False\n",
        "  # write header if document does not exists\n",
        "  if not os.path.exists(os.path.join(LSI_RESULTS_DIR, f'coherence_scores.csv')):\n",
        "       new_file = True\n",
        "\n",
        "   # save scores\n",
        "  if not os.path.exists(LSI_RESULTS_DIR):\n",
        "     os.makedirs(LSI_RESULTS_DIR)\n",
        "\n",
        "  with open(path, 'a', newline='') as f:\n",
        "     fieldnames = ['topic', 'ngram_range', 'min_count', 'filter', 'score']\n",
        "     writer = csv.DictWriter(f, fieldnames=fieldnames)\n",
        "     data = [{'topic': nr_topics, \n",
        "              'ngram_range': ngram_range,\n",
        "              'min_count': min_count,\n",
        "              'filter':filter,\n",
        "              'score': score}]\n",
        "     if new_file:\n",
        "       writer.writeheader()\n",
        "    \n",
        "     # write rows\n",
        "     writer.writerows(data)\n",
        "  return  score"
      ],
      "metadata": {
        "id": "-Tk2VYayrkBv"
      },
      "execution_count": null,
      "outputs": []
    },
    {
      "cell_type": "code",
      "source": [
        "%%time\n",
        "import warnings\n",
        "warnings.filterwarnings('ignore', category=DeprecationWarning)\n",
        "\n",
        "# delete csv if it exists\n",
        "path = os.path.join(LSI_RESULTS_DIR, f'coherence_scores.csv')\n",
        "if os.path.exists(path):\n",
        "  os.remove(path)\n",
        "\n",
        "NUMBER_OF_MODELS = 20\n",
        "\n",
        "# create a new study\n",
        "study = optuna.create_study(study_name=f'LSI_{COLNAME}', direction='maximize')\n",
        "\n",
        "# run the optmize function \n",
        "study.optimize(optimizer, n_trials=NUMBER_OF_MODELS, show_progress_bar=True)\n",
        "\n",
        "# best\n",
        "print('Best value %s', study.best_value)\n",
        "print('Best params: %s', study.best_params)"
      ],
      "metadata": {
        "id": "MXjH8MGosJbB",
        "outputId": "ff7abcb0-5c98-4b1b-cca0-3f88208d3691",
        "colab": {
          "base_uri": "https://localhost:8080/",
          "height": 520,
          "referenced_widgets": [
            "0e11eb7676c34466a87fbaf495425360",
            "50c928d59f5e44b8b71e469433b8d6af",
            "ea56ff08b9af4602a980bfdba85c4423",
            "fa8720b2dc554eb2b4a38f9ca96e62e6",
            "7ce63c6922924eb390244eceafad9a98",
            "aecd006500d24a898e0164909777fc59",
            "392322a97f294b72a99a4b0fbaf57427",
            "0be2f172231a43acb0906ec4b0c89df7",
            "bde0bb1ebe134b47bbcf79b425c9fbc4",
            "15a9ef73333f484788a0e5d619778fe1",
            "e9b57f6b54b14a6db89d768d7ab12ff6"
          ]
        }
      },
      "execution_count": null,
      "outputs": [
        {
          "output_type": "stream",
          "name": "stderr",
          "text": [
            "/usr/local/lib/python3.8/dist-packages/optuna/progress_bar.py:56: ExperimentalWarning: Progress bar is experimental (supported from v1.2.0). The interface can change in the future.\n",
            "  self._init_valid()\n"
          ]
        },
        {
          "output_type": "display_data",
          "data": {
            "text/plain": [
              "  0%|          | 0/20 [00:00<?, ?it/s]"
            ],
            "application/vnd.jupyter.widget-view+json": {
              "version_major": 2,
              "version_minor": 0,
              "model_id": "0e11eb7676c34466a87fbaf495425360"
            }
          },
          "metadata": {}
        },
        {
          "output_type": "stream",
          "name": "stdout",
          "text": [
            "\u001b[32m[I 2023-02-02 21:21:34,756]\u001b[0m Trial 0 finished with value: 0.49385079404982174 and parameters: {'ngram_range': '(1,3)', 'lsi__nr_topics': 12, 'bigram__min_count': 3, 'dictionary__filter_extremes': 0.8906485946655494}. Best is trial 0 with value: 0.49385079404982174.\u001b[0m\n",
            "\u001b[32m[I 2023-02-02 21:21:36,801]\u001b[0m Trial 1 finished with value: 0.49218226583736085 and parameters: {'ngram_range': '(1,2)', 'lsi__nr_topics': 12, 'bigram__min_count': 3, 'dictionary__filter_extremes': 0.866483220065221}. Best is trial 0 with value: 0.49385079404982174.\u001b[0m\n",
            "\u001b[32m[I 2023-02-02 21:21:38,805]\u001b[0m Trial 2 finished with value: 0.5299645603948179 and parameters: {'ngram_range': '(1,2)', 'lsi__nr_topics': 9, 'bigram__min_count': 15, 'dictionary__filter_extremes': 0.7835438902050522}. Best is trial 2 with value: 0.5299645603948179.\u001b[0m\n",
            "\u001b[32m[I 2023-02-02 21:21:40,905]\u001b[0m Trial 3 finished with value: 0.44704165991020944 and parameters: {'ngram_range': '(1,3)', 'lsi__nr_topics': 3, 'bigram__min_count': 11, 'dictionary__filter_extremes': 0.9178899345182712}. Best is trial 2 with value: 0.5299645603948179.\u001b[0m\n",
            "\u001b[32m[I 2023-02-02 21:21:43,486]\u001b[0m Trial 4 finished with value: 0.48557646052847236 and parameters: {'ngram_range': '(1,3)', 'lsi__nr_topics': 9, 'bigram__min_count': 9, 'dictionary__filter_extremes': 0.7330742678504116}. Best is trial 2 with value: 0.5299645603948179.\u001b[0m\n",
            "\u001b[32m[I 2023-02-02 21:21:45,576]\u001b[0m Trial 5 finished with value: 0.5032782253654268 and parameters: {'ngram_range': '(1,2)', 'lsi__nr_topics': 13, 'bigram__min_count': 8, 'dictionary__filter_extremes': 0.9266977473015788}. Best is trial 2 with value: 0.5299645603948179.\u001b[0m\n",
            "\u001b[32m[I 2023-02-02 21:21:46,718]\u001b[0m Trial 6 finished with value: 0.5367205416858813 and parameters: {'ngram_range': '(1,1)', 'lsi__nr_topics': 2, 'bigram__min_count': 11, 'dictionary__filter_extremes': 0.7749452052907789}. Best is trial 6 with value: 0.5367205416858813.\u001b[0m\n",
            "\u001b[32m[I 2023-02-02 21:21:48,597]\u001b[0m Trial 7 finished with value: 0.4323689909108414 and parameters: {'ngram_range': '(1,2)', 'lsi__nr_topics': 5, 'bigram__min_count': 14, 'dictionary__filter_extremes': 0.8533672526784188}. Best is trial 6 with value: 0.5367205416858813.\u001b[0m\n",
            "\u001b[32m[I 2023-02-02 21:21:51,066]\u001b[0m Trial 8 finished with value: 0.4825409363036306 and parameters: {'ngram_range': '(1,2)', 'lsi__nr_topics': 11, 'bigram__min_count': 2, 'dictionary__filter_extremes': 0.8354367484275764}. Best is trial 6 with value: 0.5367205416858813.\u001b[0m\n",
            "\u001b[32m[I 2023-02-02 21:21:55,492]\u001b[0m Trial 9 finished with value: 0.4620763973483798 and parameters: {'ngram_range': '(1,3)', 'lsi__nr_topics': 5, 'bigram__min_count': 4, 'dictionary__filter_extremes': 0.7010234822577853}. Best is trial 6 with value: 0.5367205416858813.\u001b[0m\n",
            "\u001b[32m[I 2023-02-02 21:21:57,606]\u001b[0m Trial 10 finished with value: 0.5367205416858813 and parameters: {'ngram_range': '(1,1)', 'lsi__nr_topics': 2, 'bigram__min_count': 19, 'dictionary__filter_extremes': 0.7814392858446312}. Best is trial 6 with value: 0.5367205416858813.\u001b[0m\n",
            "\u001b[32m[I 2023-02-02 21:21:58,799]\u001b[0m Trial 11 finished with value: 0.5367205416858813 and parameters: {'ngram_range': '(1,1)', 'lsi__nr_topics': 2, 'bigram__min_count': 19, 'dictionary__filter_extremes': 0.7911698415348071}. Best is trial 6 with value: 0.5367205416858813.\u001b[0m\n",
            "\u001b[32m[I 2023-02-02 21:22:00,006]\u001b[0m Trial 12 finished with value: 0.5718411750265628 and parameters: {'ngram_range': '(1,1)', 'lsi__nr_topics': 4, 'bigram__min_count': 20, 'dictionary__filter_extremes': 0.7920600219164909}. Best is trial 12 with value: 0.5718411750265628.\u001b[0m\n",
            "\u001b[32m[I 2023-02-02 21:22:02,283]\u001b[0m Trial 13 finished with value: 0.5634038215934013 and parameters: {'ngram_range': '(1,1)', 'lsi__nr_topics': 5, 'bigram__min_count': 14, 'dictionary__filter_extremes': 0.8234352258409536}. Best is trial 12 with value: 0.5718411750265628.\u001b[0m\n",
            "\u001b[32m[I 2023-02-02 21:22:04,375]\u001b[0m Trial 14 finished with value: 0.5634038215934013 and parameters: {'ngram_range': '(1,1)', 'lsi__nr_topics': 5, 'bigram__min_count': 16, 'dictionary__filter_extremes': 0.8184472123458613}. Best is trial 12 with value: 0.5718411750265628.\u001b[0m\n",
            "\u001b[32m[I 2023-02-02 21:22:06,064]\u001b[0m Trial 15 finished with value: 0.5406258878482049 and parameters: {'ngram_range': '(1,1)', 'lsi__nr_topics': 7, 'bigram__min_count': 17, 'dictionary__filter_extremes': 0.8196573114717829}. Best is trial 12 with value: 0.5718411750265628.\u001b[0m\n",
            "\u001b[32m[I 2023-02-02 21:22:07,797]\u001b[0m Trial 16 finished with value: 0.5406258878482049 and parameters: {'ngram_range': '(1,1)', 'lsi__nr_topics': 7, 'bigram__min_count': 20, 'dictionary__filter_extremes': 0.7482364912217164}. Best is trial 12 with value: 0.5718411750265628.\u001b[0m\n",
            "\u001b[32m[I 2023-02-02 21:22:09,458]\u001b[0m Trial 17 finished with value: 0.5718411750265628 and parameters: {'ngram_range': '(1,1)', 'lsi__nr_topics': 4, 'bigram__min_count': 14, 'dictionary__filter_extremes': 0.8108890237899373}. Best is trial 12 with value: 0.5718411750265628.\u001b[0m\n",
            "\u001b[32m[I 2023-02-02 21:22:10,723]\u001b[0m Trial 18 finished with value: 0.5718411750265628 and parameters: {'ngram_range': '(1,1)', 'lsi__nr_topics': 4, 'bigram__min_count': 17, 'dictionary__filter_extremes': 0.8015884226566048}. Best is trial 12 with value: 0.5718411750265628.\u001b[0m\n",
            "\u001b[32m[I 2023-02-02 21:22:13,399]\u001b[0m Trial 19 finished with value: 0.4446929179088894 and parameters: {'ngram_range': '(1,1)', 'lsi__nr_topics': 6, 'bigram__min_count': 13, 'dictionary__filter_extremes': 0.8562436765574067}. Best is trial 12 with value: 0.5718411750265628.\u001b[0m\n",
            "Best value %s 0.5718411750265628\n",
            "Best params: %s {'ngram_range': '(1,1)', 'lsi__nr_topics': 4, 'bigram__min_count': 20, 'dictionary__filter_extremes': 0.7920600219164909}\n",
            "CPU times: user 40.6 s, sys: 4.36 s, total: 44.9 s\n",
            "Wall time: 41.6 s\n"
          ]
        }
      ]
    },
    {
      "cell_type": "code",
      "source": [
        "def get_topics(lsi, nr_topics):\n",
        "  x=lsi.show_topics(num_topics=nr_topics, num_words=10, formatted=False)\n",
        "  topics_words = [(tp[0], [wd[0] for wd in tp[1]]) for tp in x]\n",
        "  topics = []\n",
        "  words = []\n",
        "  for t, w in topics_words:\n",
        "    topics.append(t)\n",
        "    words.append(w)\n",
        "  return pd.DataFrame({'Tópicos': topics, 'Words': words})"
      ],
      "metadata": {
        "id": "D6-mjVCFRi7b"
      },
      "execution_count": null,
      "outputs": []
    },
    {
      "cell_type": "code",
      "source": [
        "def get_words_by_topic_id(lsi, topic_id, topn=20):\n",
        "  return [dictionary[word_id] for word_id, prob in lsi.get_topic_terms(topic_id, topn=topn)]"
      ],
      "metadata": {
        "id": "w35qP87ISBgI"
      },
      "execution_count": null,
      "outputs": []
    },
    {
      "cell_type": "code",
      "source": [
        "def get_words_n_score_by_topic_id(lsi, topics, topn=10):\n",
        "  ls = []\n",
        "  for id in topics:\n",
        "    ls.append([(dictionary[word_id], prob) for word_id, prob in lsi.get_topic_terms(id, topn=topn)])\n",
        "  return ls"
      ],
      "metadata": {
        "id": "1sYKRs09Wq1k"
      },
      "execution_count": null,
      "outputs": []
    },
    {
      "cell_type": "markdown",
      "source": [
        "#### **Topics of the optimized model**"
      ],
      "metadata": {
        "id": "lkWdmaaleA1b"
      }
    },
    {
      "cell_type": "code",
      "source": [
        "filename = os.path.join(LSI_RESULTS_DIR, f'coherence_scores.csv')\n",
        "df_opt = pd.read_csv(filename)\n",
        "\n",
        "# init variables\n",
        "max_value = df_opt['score'].max()\n",
        "row = df_opt.loc[df_opt['score'] == max_value]\n",
        "NUMBER_OF_TOPICS = row['topic'].astype(int).values[0]\n",
        "min_count = row['min_count'].astype(int).values[0]\n",
        "ngram_range = row['ngram_range'].values[0]\n",
        "\n",
        "# tokenize the text data\n",
        "texts = [\n",
        "      [word for word in document.lower().split()]\n",
        "      for document in documents\n",
        "]\n",
        "\n",
        "if ngram_range == (1,2):\n",
        "    # Create bigrams\n",
        "    bigram = Phrases(texts, min_count=min_count)\n",
        "    bigram_phraser = Phraser(bigram)\n",
        "    texts = [bigram_phraser[token] for token in texts] \n",
        "elif ngram_range == (1,3):\n",
        "    # Create bigrams\n",
        "    bigram = Phrases(texts, min_count=min_count)\n",
        "    bigram_phraser = Phraser(bigram)\n",
        "    texts = [bigram_phraser[token] for token in texts] \n",
        "    \n",
        "    # Create trigrams\n",
        "    trigram = Phrases(texts, min_count=min_count)\n",
        "    trigram_phraser = Phraser(trigram)\n",
        "    texts = [trigram_phraser[bigram_phraser[token]] for token in texts]\n",
        "    \n",
        "# create a corpus from a list of texts\n",
        "dictionary = Dictionary(texts)\n",
        "\n",
        "# Filter out words that occur more than X% of the documents.\n",
        "dictionary.filter_extremes(no_above=0.60)\n",
        "\n",
        "# convert documents to bag of words\n",
        "corpus = [dictionary.doc2bow(text) for text in texts]\n",
        "\n",
        "# create a new LSI model\n",
        "lsi_model = LsiModel(corpus=corpus,\n",
        "                           id2word=dictionary,\n",
        "                           num_topics=NUMBER_OF_TOPICS,\n",
        "                           random_seed=100)\n",
        "\n",
        "# save topics terms\n",
        "topics_terms = get_topics(lsi_model, NUMBER_OF_TOPICS)\n",
        "topics_terms.to_csv(os.path.join(LSI_RESULTS_DIR, 'topics_terms_optimized_model.csv'), index=False)\n",
        "topics_terms.head(NUMBER_OF_TOPICS)"
      ],
      "metadata": {
        "id": "HN6ID8ChRY6u",
        "colab": {
          "base_uri": "https://localhost:8080/",
          "height": 212
        },
        "outputId": "994edfd1-034e-4ca8-d883-c8789e2ec0da"
      },
      "execution_count": null,
      "outputs": [
        {
          "output_type": "execute_result",
          "data": {
            "text/plain": [
              "   Tópicos                                              Words\n",
              "0        0  [loja, valor, dia, empresa, problema, prazo, c...\n",
              "1        1  [valor, loja, cartão, dia, prazo, empresa, pag...\n",
              "2        2  [loja, dia, valor, prazo, empresa, cartão, pro...\n",
              "3        3  [empresa, dia, valor, problema, prazo, atendim...\n",
              "4        4  [cartão, valor, empresa, pagamento, fatura, di..."
            ],
            "text/html": [
              "\n",
              "  <div id=\"df-f2dfc775-57ae-4ad8-b207-c3e2e780c66f\">\n",
              "    <div class=\"colab-df-container\">\n",
              "      <div>\n",
              "<style scoped>\n",
              "    .dataframe tbody tr th:only-of-type {\n",
              "        vertical-align: middle;\n",
              "    }\n",
              "\n",
              "    .dataframe tbody tr th {\n",
              "        vertical-align: top;\n",
              "    }\n",
              "\n",
              "    .dataframe thead th {\n",
              "        text-align: right;\n",
              "    }\n",
              "</style>\n",
              "<table border=\"1\" class=\"dataframe\">\n",
              "  <thead>\n",
              "    <tr style=\"text-align: right;\">\n",
              "      <th></th>\n",
              "      <th>Tópicos</th>\n",
              "      <th>Words</th>\n",
              "    </tr>\n",
              "  </thead>\n",
              "  <tbody>\n",
              "    <tr>\n",
              "      <th>0</th>\n",
              "      <td>0</td>\n",
              "      <td>[loja, valor, dia, empresa, problema, prazo, c...</td>\n",
              "    </tr>\n",
              "    <tr>\n",
              "      <th>1</th>\n",
              "      <td>1</td>\n",
              "      <td>[valor, loja, cartão, dia, prazo, empresa, pag...</td>\n",
              "    </tr>\n",
              "    <tr>\n",
              "      <th>2</th>\n",
              "      <td>2</td>\n",
              "      <td>[loja, dia, valor, prazo, empresa, cartão, pro...</td>\n",
              "    </tr>\n",
              "    <tr>\n",
              "      <th>3</th>\n",
              "      <td>3</td>\n",
              "      <td>[empresa, dia, valor, problema, prazo, atendim...</td>\n",
              "    </tr>\n",
              "    <tr>\n",
              "      <th>4</th>\n",
              "      <td>4</td>\n",
              "      <td>[cartão, valor, empresa, pagamento, fatura, di...</td>\n",
              "    </tr>\n",
              "  </tbody>\n",
              "</table>\n",
              "</div>\n",
              "      <button class=\"colab-df-convert\" onclick=\"convertToInteractive('df-f2dfc775-57ae-4ad8-b207-c3e2e780c66f')\"\n",
              "              title=\"Convert this dataframe to an interactive table.\"\n",
              "              style=\"display:none;\">\n",
              "        \n",
              "  <svg xmlns=\"http://www.w3.org/2000/svg\" height=\"24px\"viewBox=\"0 0 24 24\"\n",
              "       width=\"24px\">\n",
              "    <path d=\"M0 0h24v24H0V0z\" fill=\"none\"/>\n",
              "    <path d=\"M18.56 5.44l.94 2.06.94-2.06 2.06-.94-2.06-.94-.94-2.06-.94 2.06-2.06.94zm-11 1L8.5 8.5l.94-2.06 2.06-.94-2.06-.94L8.5 2.5l-.94 2.06-2.06.94zm10 10l.94 2.06.94-2.06 2.06-.94-2.06-.94-.94-2.06-.94 2.06-2.06.94z\"/><path d=\"M17.41 7.96l-1.37-1.37c-.4-.4-.92-.59-1.43-.59-.52 0-1.04.2-1.43.59L10.3 9.45l-7.72 7.72c-.78.78-.78 2.05 0 2.83L4 21.41c.39.39.9.59 1.41.59.51 0 1.02-.2 1.41-.59l7.78-7.78 2.81-2.81c.8-.78.8-2.07 0-2.86zM5.41 20L4 18.59l7.72-7.72 1.47 1.35L5.41 20z\"/>\n",
              "  </svg>\n",
              "      </button>\n",
              "      \n",
              "  <style>\n",
              "    .colab-df-container {\n",
              "      display:flex;\n",
              "      flex-wrap:wrap;\n",
              "      gap: 12px;\n",
              "    }\n",
              "\n",
              "    .colab-df-convert {\n",
              "      background-color: #E8F0FE;\n",
              "      border: none;\n",
              "      border-radius: 50%;\n",
              "      cursor: pointer;\n",
              "      display: none;\n",
              "      fill: #1967D2;\n",
              "      height: 32px;\n",
              "      padding: 0 0 0 0;\n",
              "      width: 32px;\n",
              "    }\n",
              "\n",
              "    .colab-df-convert:hover {\n",
              "      background-color: #E2EBFA;\n",
              "      box-shadow: 0px 1px 2px rgba(60, 64, 67, 0.3), 0px 1px 3px 1px rgba(60, 64, 67, 0.15);\n",
              "      fill: #174EA6;\n",
              "    }\n",
              "\n",
              "    [theme=dark] .colab-df-convert {\n",
              "      background-color: #3B4455;\n",
              "      fill: #D2E3FC;\n",
              "    }\n",
              "\n",
              "    [theme=dark] .colab-df-convert:hover {\n",
              "      background-color: #434B5C;\n",
              "      box-shadow: 0px 1px 3px 1px rgba(0, 0, 0, 0.15);\n",
              "      filter: drop-shadow(0px 1px 2px rgba(0, 0, 0, 0.3));\n",
              "      fill: #FFFFFF;\n",
              "    }\n",
              "  </style>\n",
              "\n",
              "      <script>\n",
              "        const buttonEl =\n",
              "          document.querySelector('#df-f2dfc775-57ae-4ad8-b207-c3e2e780c66f button.colab-df-convert');\n",
              "        buttonEl.style.display =\n",
              "          google.colab.kernel.accessAllowed ? 'block' : 'none';\n",
              "\n",
              "        async function convertToInteractive(key) {\n",
              "          const element = document.querySelector('#df-f2dfc775-57ae-4ad8-b207-c3e2e780c66f');\n",
              "          const dataTable =\n",
              "            await google.colab.kernel.invokeFunction('convertToInteractive',\n",
              "                                                     [key], {});\n",
              "          if (!dataTable) return;\n",
              "\n",
              "          const docLinkHtml = 'Like what you see? Visit the ' +\n",
              "            '<a target=\"_blank\" href=https://colab.research.google.com/notebooks/data_table.ipynb>data table notebook</a>'\n",
              "            + ' to learn more about interactive tables.';\n",
              "          element.innerHTML = '';\n",
              "          dataTable['output_type'] = 'display_data';\n",
              "          await google.colab.output.renderOutput(dataTable, element);\n",
              "          const docLink = document.createElement('div');\n",
              "          docLink.innerHTML = docLinkHtml;\n",
              "          element.appendChild(docLink);\n",
              "        }\n",
              "      </script>\n",
              "    </div>\n",
              "  </div>\n",
              "  "
            ]
          },
          "metadata": {},
          "execution_count": 83
        }
      ]
    },
    {
      "cell_type": "code",
      "source": [
        "print(CoherenceModel(lsi_model, texts=texts, corpus=corpus, dictionary=dictionary).get_coherence())"
      ],
      "metadata": {
        "colab": {
          "base_uri": "https://localhost:8080/"
        },
        "id": "jGkjOY7dmOtY",
        "outputId": "34bde4cc-2fe0-4d00-f37a-d94d64019d90"
      },
      "execution_count": null,
      "outputs": [
        {
          "output_type": "stream",
          "name": "stdout",
          "text": [
            "0.5634038215934013\n"
          ]
        }
      ]
    },
    {
      "cell_type": "markdown",
      "source": [
        "**Update github**"
      ],
      "metadata": {
        "id": "b5OMXCmdB4uk"
      }
    },
    {
      "cell_type": "code",
      "source": [
        "%cd /content/Topic-Modeling-Reclame-Aqui/\n",
        "!git status"
      ],
      "metadata": {
        "id": "FqAJn0phBfQs"
      },
      "execution_count": null,
      "outputs": []
    },
    {
      "cell_type": "code",
      "source": [
        "!git add lsi/"
      ],
      "metadata": {
        "id": "CNzlXsEIBnJx"
      },
      "execution_count": null,
      "outputs": []
    },
    {
      "cell_type": "code",
      "source": [
        "!git commit -m \"Add lsi results\""
      ],
      "metadata": {
        "id": "tb4GxyaiBqFs"
      },
      "execution_count": null,
      "outputs": []
    },
    {
      "cell_type": "code",
      "source": [
        "!git push origin master"
      ],
      "metadata": {
        "id": "RlAxDRIlBsty"
      },
      "execution_count": null,
      "outputs": []
    },
    {
      "cell_type": "markdown",
      "source": [
        "!rm -rf /root/.ssh/"
      ],
      "metadata": {
        "id": "u6M2UQk-BZdE"
      }
    }
  ]
}