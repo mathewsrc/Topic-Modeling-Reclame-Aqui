{
  "cells": [
    {
      "cell_type": "markdown",
      "metadata": {
        "id": "view-in-github",
        "colab_type": "text"
      },
      "source": [
        "<a href=\"https://colab.research.google.com/github/punkmic/unsupervised-Sentiment-Analysis---Comparisen-analysis/blob/master/Unsupervised_Sentiment_Analysis.ipynb\" target=\"_parent\"><img src=\"https://colab.research.google.com/assets/colab-badge.svg\" alt=\"Open In Colab\"/></a>"
      ]
    },
    {
      "cell_type": "markdown",
      "metadata": {
        "id": "tXD6WQspxJWc"
      },
      "source": [
        "# **Intro**"
      ]
    },
    {
      "cell_type": "markdown",
      "metadata": {
        "id": "-593AM2lxMMh"
      },
      "source": [
        "## **Install Dependecies**"
      ]
    },
    {
      "cell_type": "code",
      "execution_count": 89,
      "metadata": {
        "id": "C7gQcM_NxE2w"
      },
      "outputs": [],
      "source": [
        "%%capture\n",
        "# install dependecies here\n",
        "#!pip install langdetect  # for language detection\n",
        "#!pip install diagrams # for visualize the workflow\n",
        "#!pip install graphviz # for visualize the workflow\n",
        "#!pip install Pillow # for image manipulation\n",
        "!pip install textblob # for unsupervised sentiment analysis\n",
        "!pip install wordcloud # for wordcloud plot\n",
        "!pip install matplotlib # for plot\n",
        "!pip install nltk # for natural language prepocessing\n",
        "!pip install enelvo # for fix slangs, abbreviations, spelling errors\n",
        "!pip install gensim # for topic modeling \n",
        "!pip install tabulate # for print as table\n",
        "#!pip install transformers # for machine learning\n",
        "!pip install numpy==1.21.6 # for mathematical\n",
        "!pip install pyldavis # for model visualization\n",
        "!pip install scikit-learn # machine learning"
      ]
    },
    {
      "cell_type": "markdown",
      "metadata": {
        "id": "Rkydqr0uxUiB"
      },
      "source": [
        "## **Load Depencies**"
      ]
    },
    {
      "cell_type": "code",
      "execution_count": 198,
      "metadata": {
        "id": "Km0RDHK_xX8V"
      },
      "outputs": [],
      "source": [
        "%%capture\n",
        "# load dependecies here\n",
        "#from langdetect import detect as dt\n",
        "#from diagrams import Diagram as dg\n",
        "#from PIL import Image\n",
        "import pandas as pd\n",
        "import os \n",
        "import matplotlib.pyplot as plt\n",
        "from tabulate import tabulate\n",
        "import numpy as np\n",
        "import itertools\n",
        "import nltk\n",
        "nltk.download('punkt')\n",
        "nltk.download('stopwords')\n",
        "from nltk.corpus import stopwords\n",
        "from nltk.tokenize import word_tokenize\n",
        "from nltk.stem.wordnet import WordNetLemmatizer\n",
        "from nltk.tokenize import sent_tokenize, word_tokenize\n",
        "from nltk.util import ngrams\n",
        "sw = nltk.corpus.stopwords.words('portuguese')\n",
        "from nltk.stem.snowball import SnowballStemmer\n",
        "stemmer = SnowballStemmer(\"portuguese\")\n",
        "from nltk.tokenize import RegexpTokenizer\n",
        "wnl = WordNetLemmatizer()\n",
        "import scipy\n",
        "from scipy import spatial\n",
        "import re\n",
        "from textblob import TextBlob\n",
        "from textblob import Word\n",
        "import gensim\n",
        "from gensim.models import Word2Vec\n",
        "import string\n",
        "from sklearn.feature_extraction.text import CountVectorizer,TfidfVectorizer\n",
        "import sklearn.cluster\n",
        "from sklearn.cluster import KMeans\n",
        "from enelvo.normaliser import Normaliser\n",
        "# We need this dataset in order to use the tokenizer\n"
      ]
    },
    {
      "cell_type": "markdown",
      "metadata": {
        "id": "x0cdDKUrxsq1"
      },
      "source": [
        "## **Load Dataset**"
      ]
    },
    {
      "cell_type": "markdown",
      "source": [
        "### **Clone Github repository** "
      ],
      "metadata": {
        "id": "SdXyTWtNhrU1"
      }
    },
    {
      "cell_type": "code",
      "execution_count": 91,
      "metadata": {
        "id": "pzdi7uwrx8Ls",
        "outputId": "58662ae3-972b-42ab-c49d-6b1b78b6479f",
        "colab": {
          "base_uri": "https://localhost:8080/"
        }
      },
      "outputs": [
        {
          "output_type": "stream",
          "name": "stdout",
          "text": [
            "Cloning into 'unsupervised-Sentiment-Analysis---Comparisen-analysis'...\n",
            "remote: Enumerating objects: 14294, done.\u001b[K\n",
            "remote: Counting objects: 100% (113/113), done.\u001b[K\n",
            "remote: Compressing objects: 100% (76/76), done.\u001b[K\n",
            "remote: Total 14294 (delta 42), reused 82 (delta 29), pack-reused 14181\u001b[K\n",
            "Receiving objects: 100% (14294/14294), 107.41 MiB | 18.05 MiB/s, done.\n",
            "Resolving deltas: 100% (1190/1190), done.\n",
            "Checking out files: 100% (13643/13643), done.\n",
            "/content/unsupervised-Sentiment-Analysis---Comparisen-analysis\n",
            "app.py\t\t   README.md\n",
            "clear_datasets.py  requirements.txt\n",
            "clusters\t   results\n",
            "Drivers\t\t   unsupervised-Sentiment-Analysis---Comparisen-analysis\n",
            "LICENSE\t\t   Unsupervised_Sentiment_Analysis.ipynb\n",
            "Makefile\t   webscraping.py\n",
            "__pycache__\t   wordclouds\n"
          ]
        }
      ],
      "source": [
        "# Files cloned from github may not automatically appear in files tab in this case right click and choose update\n",
        "# this will update our files.\n",
        "!git clone https://github.com/punkmic/unsupervised-Sentiment-Analysis---Comparisen-analysis.git\n",
        "%cd /content/unsupervised-Sentiment-Analysis---Comparisen-analysis\n",
        "!ls"
      ]
    },
    {
      "cell_type": "code",
      "source": [
        "# !git pull "
      ],
      "metadata": {
        "id": "Z9_q4bS6laSt"
      },
      "execution_count": 92,
      "outputs": []
    },
    {
      "cell_type": "markdown",
      "source": [
        "### **Load csv file**"
      ],
      "metadata": {
        "id": "PCZ8r-JXh2FZ"
      }
    },
    {
      "cell_type": "code",
      "source": [
        "PATH_TO_CSV = '/content/unsupervised-Sentiment-Analysis---Comparisen-analysis/results/web_scraping_results.csv'\n",
        "df = pd.read_csv(PATH_TO_CSV, encoding='utf-8')\n",
        "# lower colnames \n",
        "df.rename(columns={'Title':'title', 'Body':'body'}, inplace=True)"
      ],
      "metadata": {
        "id": "xLkm22-Ph6_P"
      },
      "execution_count": 134,
      "outputs": []
    },
    {
      "cell_type": "markdown",
      "source": [
        "### **EDA**"
      ],
      "metadata": {
        "id": "t6oMhx4pkmU1"
      }
    },
    {
      "cell_type": "code",
      "source": [
        "print(f'Number of rows {df.shape[0]} \\nNumber of columns {df.shape[1]}')"
      ],
      "metadata": {
        "id": "bFQkBO-KkVb3",
        "outputId": "43718e6c-29a1-412d-cf70-baad362b06e8",
        "colab": {
          "base_uri": "https://localhost:8080/"
        }
      },
      "execution_count": 94,
      "outputs": [
        {
          "output_type": "stream",
          "name": "stdout",
          "text": [
            "Number of rows 10 \n",
            "Number of columns 2\n"
          ]
        }
      ]
    },
    {
      "cell_type": "code",
      "source": [
        "print(df.dtypes)"
      ],
      "metadata": {
        "id": "px5yc-bChkAx",
        "outputId": "3ba4eaa2-1660-4e89-a540-601952ecf8a3",
        "colab": {
          "base_uri": "https://localhost:8080/"
        }
      },
      "execution_count": 95,
      "outputs": [
        {
          "output_type": "stream",
          "name": "stdout",
          "text": [
            "title    object\n",
            "body     object\n",
            "dtype: object\n"
          ]
        }
      ]
    },
    {
      "cell_type": "code",
      "source": [
        "from numpy import mean, median\n",
        "text_length_list = df['body'].map(lambda x: len(x))\n",
        "mean = mean(text_length_list)\n",
        "median = median(text_length_list)\n",
        "stats = df.describe(include='all')\n",
        "print (f'Mean of sentences length: {mean} \\nMedian of sentences length: {median} \\n\\n{stats}')"
      ],
      "metadata": {
        "id": "IO0AKIQNhnXG",
        "outputId": "fdb75c6b-d584-4ccb-c128-983c53b279b4",
        "colab": {
          "base_uri": "https://localhost:8080/"
        }
      },
      "execution_count": 96,
      "outputs": [
        {
          "output_type": "stream",
          "name": "stdout",
          "text": [
            "Mean of sentences length: 448.7 \n",
            "Median of sentences length: 448.0 \n",
            "\n",
            "                                                    title  \\\n",
            "count                                                  10   \n",
            "unique                                                 10   \n",
            "top     Recebi um e-mail que parte do pedido não foi p...   \n",
            "freq                                                    1   \n",
            "\n",
            "                                                     body  \n",
            "count                                                  10  \n",
            "unique                                                 10  \n",
            "top     Olá!Preciso da ajuda de vocês para entender qu...  \n",
            "freq                                                    1  \n"
          ]
        }
      ]
    },
    {
      "cell_type": "code",
      "source": [
        "plt.hist(text_length_list)\n",
        "plt.show()"
      ],
      "metadata": {
        "id": "KdCGEHdtj9Pk",
        "outputId": "0e46e518-9036-4c34-a96c-52717e29e1d4",
        "colab": {
          "base_uri": "https://localhost:8080/",
          "height": 265
        }
      },
      "execution_count": 97,
      "outputs": [
        {
          "output_type": "display_data",
          "data": {
            "text/plain": [
              "<Figure size 432x288 with 1 Axes>"
            ],
            "image/png": "[encoded data removed]"
          },
          "metadata": {
            "needs_background": "light"
          }
        }
      ]
    },
    {
      "cell_type": "markdown",
      "source": [
        "## **Plot wordcloud**"
      ],
      "metadata": {
        "id": "5R_DJGXHnZhJ"
      }
    },
    {
      "cell_type": "code",
      "source": [
        "from wordcloud import WordCloud, STOPWORDS, ImageColorGenerator"
      ],
      "metadata": {
        "id": "ougKX8fd02-H"
      },
      "execution_count": 98,
      "outputs": []
    },
    {
      "cell_type": "code",
      "source": [
        "# print currently directory\n",
        "!pwd"
      ],
      "metadata": {
        "id": "IGBXVhu1vK5O",
        "outputId": "95f443da-1ddf-4593-8b42-7f09fc14e05b",
        "colab": {
          "base_uri": "https://localhost:8080/"
        }
      },
      "execution_count": 99,
      "outputs": [
        {
          "output_type": "stream",
          "name": "stdout",
          "text": [
            "/content/unsupervised-Sentiment-Analysis---Comparisen-analysis\n"
          ]
        }
      ]
    },
    {
      "cell_type": "code",
      "source": [
        "%%capture\n",
        "# Create and generate a word cloud image:\n",
        "text = str(df['body']).title()\n",
        "wordcloud = WordCloud(max_font_size=50, max_words=100).generate(text)\n",
        "\n",
        "# Save wordcloud \n",
        "if not os.path.exists(\"wordclouds/raw/\"):\n",
        "  os.makedirs(\"wordclouds/raw/\")\n",
        "wordcloud.to_file('wordclouds/raw/body_wordcloud.png')\n",
        "\n",
        "# Display wordcloud\n",
        "plt.figure()\n",
        "plt.figure(figsize=(10,5))\n",
        "plt.imshow(wordcloud, interpolation='bilinear')\n",
        "plt.axis('off')\n",
        "plt.show()\n",
        "\n"
      ],
      "metadata": {
        "id": "BDpeZcXDp5A7"
      },
      "execution_count": null,
      "outputs": []
    },
    {
      "cell_type": "markdown",
      "metadata": {
        "id": "WvlnEo8NT5mW"
      },
      "source": [
        "## **Text Pre-Processing**\n",
        "\n",
        "Guide\n",
        "* Lower Case conversion\n",
        "* Removing Punctuations\n",
        "* Stop Words Removal\n",
        "* Rare Words Removal\n",
        "* Spelling correction\n",
        "* Tokenization\n",
        "* Lemmatization\n",
        "\n"
      ]
    },
    {
      "cell_type": "markdown",
      "source": [
        "### **Apply enelvo - Normalize noisy words, lowercase the words and remove punctuation.**\n",
        "Enelvo is a tool for normalising noisy words in user-generated content written in Portuguese -- such as tweets, blog posts, and product reviews. It is capable of identifying and normalising spelling mistakes, internet slang, acronyms, proper nouns, and others."
      ],
      "metadata": {
        "id": "vOsQEJxm3fHN"
      }
    },
    {
      "cell_type": "code",
      "source": [
        "norm = Normaliser(tokenizer='readable', sanitize=True)\n",
        "stemmer = SnowballStemmer('portuguese')"
      ],
      "metadata": {
        "id": "WTb-VN0G3qJV"
      },
      "execution_count": 135,
      "outputs": []
    },
    {
      "cell_type": "markdown",
      "source": [
        "### **Process text**"
      ],
      "metadata": {
        "id": "ZZy2_IxfR4FH"
      }
    },
    {
      "cell_type": "code",
      "source": [
        "def text_processing(df):\n",
        "   # lower text\n",
        "   df['body']= df['body'].apply(lambda x: ' '.join([x.lower() for x in x.split()]))\n",
        "   # removal of stop words\n",
        "   df['body'] = df['body'].apply(lambda x: ' '.join([x for x in x.split() if x not in sw]))\n",
        "   # spelling Correction\n",
        "   df['body'] = df['body'].apply(lambda x: norm.normalise(x) )\n",
        "   # remove punctuations\n",
        "   df['body'] = df['body'].str.replace('[^\\w\\s]', '')\n",
        "   # removal of Numeric\n",
        "   df['body'] = df['body'].str.replace('[0-9]', '')\n",
        "   return df"
      ],
      "metadata": {
        "id": "Pv-EyfLkltdv"
      },
      "execution_count": 136,
      "outputs": []
    },
    {
      "cell_type": "code",
      "source": [
        "df = text_processing(df)\n",
        "df['body'][0]"
      ],
      "metadata": {
        "id": "3ewrMVB5R6Ro",
        "outputId": "d1050ed7-b190-4e5a-8fd6-3f8fda953ac9",
        "colab": {
          "base_uri": "https://localhost:8080/",
          "height": 142
        }
      },
      "execution_count": 137,
      "outputs": [
        {
          "output_type": "stream",
          "name": "stderr",
          "text": [
            "/usr/local/lib/python3.7/dist-packages/ipykernel_launcher.py:9: FutureWarning: The default value of regex will change from True to False in a future version.\n",
            "  if __name__ == '__main__':\n",
            "/usr/local/lib/python3.7/dist-packages/ipykernel_launcher.py:11: FutureWarning: The default value of regex will change from True to False in a future version.\n",
            "  # This is added back by InteractiveShellApp.init_path()\n"
          ]
        },
        {
          "output_type": "execute_result",
          "data": {
            "text/plain": [
              "'olá preciso ajuda entender problema recebi email uns itens pagos fiz compra valor ar   cobrado cartão verificar itens deste pedido aparece valor ar   então parece pago dizem foi tão puderem estornar valor cobrado precisa enviar sabonetes obrigada'"
            ],
            "application/vnd.google.colaboratory.intrinsic+json": {
              "type": "string"
            }
          },
          "metadata": {},
          "execution_count": 137
        }
      ]
    },
    {
      "cell_type": "markdown",
      "source": [
        "## **Feature engineer**"
      ],
      "metadata": {
        "id": "V1Lig08yQb5y"
      }
    },
    {
      "cell_type": "markdown",
      "source": [
        "### **Count vectors**"
      ],
      "metadata": {
        "id": "KYE3hXvLQhgm"
      }
    },
    {
      "cell_type": "code",
      "source": [
        "cv = CountVectorizer()\n",
        "cv.fit(df['body'])\n",
        "cv_tedfeatures = cv.transform(df['body'])\n",
        "print(f\"samples: {cv_tedfeatures.shape[0]}, features: {cv_tedfeatures.shape[1]}\")\n",
        "print()\n",
        "df_bow_sklearn = pd.DataFrame(cv_tedfeatures.toarray(),columns=cv.get_feature_names_out())\n",
        "df_bow_sklearn.head()"
      ],
      "metadata": {
        "id": "ORQCGiXQQj03",
        "outputId": "e77b3ffe-3edd-460d-9ef3-d655e00a2411",
        "colab": {
          "base_uri": "https://localhost:8080/",
          "height": 334
        }
      },
      "execution_count": 138,
      "outputs": [
        {
          "output_type": "stream",
          "name": "stdout",
          "text": [
            "samples: 10, features: 279\n",
            "\n"
          ]
        },
        {
          "output_type": "execute_result",
          "data": {
            "text/plain": [
              "   absolutamente  acer  acessar  acesso  acordo  ado  agora  agosto  aguardo  \\\n",
              "0              0     0        0       0       0    0      0       0        0   \n",
              "1              0     0        0       0       1    0      0       0        0   \n",
              "2              1     0        0       0       0    1      1       0        0   \n",
              "3              0     0        0       0       0    0      0       0        1   \n",
              "4              0     0        1       1       0    0      0       0        0   \n",
              "\n",
              "   ai  ...  vem  venho  verificar  verificação  video  vier  vieram  \\\n",
              "0   0  ...    0      0          1            0      0     0       0   \n",
              "1   0  ...    0      0          0            0      0     0       0   \n",
              "2   0  ...    0      0          0            0      0     0       0   \n",
              "3   0  ...    0      2          0            0      1     0       0   \n",
              "4   0  ...    0      0          0            1      0     0       0   \n",
              "\n",
              "   vinculada  volta  vídeos  \n",
              "0          0      0       0  \n",
              "1          0      1       0  \n",
              "2          0      0       1  \n",
              "3          0      0       0  \n",
              "4          1      0       0  \n",
              "\n",
              "[5 rows x 279 columns]"
            ],
            "text/html": [
              "\n",
              "  <div id=\"df-225a319e-6036-4fd3-b1f5-f871fdd98e28\">\n",
              "    <div class=\"colab-df-container\">\n",
              "      <div>\n",
              "<style scoped>\n",
              "    .dataframe tbody tr th:only-of-type {\n",
              "        vertical-align: middle;\n",
              "    }\n",
              "\n",
              "    .dataframe tbody tr th {\n",
              "        vertical-align: top;\n",
              "    }\n",
              "\n",
              "    .dataframe thead th {\n",
              "        text-align: right;\n",
              "    }\n",
              "</style>\n",
              "<table border=\"1\" class=\"dataframe\">\n",
              "  <thead>\n",
              "    <tr style=\"text-align: right;\">\n",
              "      <th></th>\n",
              "      <th>absolutamente</th>\n",
              "      <th>acer</th>\n",
              "      <th>acessar</th>\n",
              "      <th>acesso</th>\n",
              "      <th>acordo</th>\n",
              "      <th>ado</th>\n",
              "      <th>agora</th>\n",
              "      <th>agosto</th>\n",
              "      <th>aguardo</th>\n",
              "      <th>ai</th>\n",
              "      <th>...</th>\n",
              "      <th>vem</th>\n",
              "      <th>venho</th>\n",
              "      <th>verificar</th>\n",
              "      <th>verificação</th>\n",
              "      <th>video</th>\n",
              "      <th>vier</th>\n",
              "      <th>vieram</th>\n",
              "      <th>vinculada</th>\n",
              "      <th>volta</th>\n",
              "      <th>vídeos</th>\n",
              "    </tr>\n",
              "  </thead>\n",
              "  <tbody>\n",
              "    <tr>\n",
              "      <th>0</th>\n",
              "      <td>0</td>\n",
              "      <td>0</td>\n",
              "      <td>0</td>\n",
              "      <td>0</td>\n",
              "      <td>0</td>\n",
              "      <td>0</td>\n",
              "      <td>0</td>\n",
              "      <td>0</td>\n",
              "      <td>0</td>\n",
              "      <td>0</td>\n",
              "      <td>...</td>\n",
              "      <td>0</td>\n",
              "      <td>0</td>\n",
              "      <td>1</td>\n",
              "      <td>0</td>\n",
              "      <td>0</td>\n",
              "      <td>0</td>\n",
              "      <td>0</td>\n",
              "      <td>0</td>\n",
              "      <td>0</td>\n",
              "      <td>0</td>\n",
              "    </tr>\n",
              "    <tr>\n",
              "      <th>1</th>\n",
              "      <td>0</td>\n",
              "      <td>0</td>\n",
              "      <td>0</td>\n",
              "      <td>0</td>\n",
              "      <td>1</td>\n",
              "      <td>0</td>\n",
              "      <td>0</td>\n",
              "      <td>0</td>\n",
              "      <td>0</td>\n",
              "      <td>0</td>\n",
              "      <td>...</td>\n",
              "      <td>0</td>\n",
              "      <td>0</td>\n",
              "      <td>0</td>\n",
              "      <td>0</td>\n",
              "      <td>0</td>\n",
              "      <td>0</td>\n",
              "      <td>0</td>\n",
              "      <td>0</td>\n",
              "      <td>1</td>\n",
              "      <td>0</td>\n",
              "    </tr>\n",
              "    <tr>\n",
              "      <th>2</th>\n",
              "      <td>1</td>\n",
              "      <td>0</td>\n",
              "      <td>0</td>\n",
              "      <td>0</td>\n",
              "      <td>0</td>\n",
              "      <td>1</td>\n",
              "      <td>1</td>\n",
              "      <td>0</td>\n",
              "      <td>0</td>\n",
              "      <td>0</td>\n",
              "      <td>...</td>\n",
              "      <td>0</td>\n",
              "      <td>0</td>\n",
              "      <td>0</td>\n",
              "      <td>0</td>\n",
              "      <td>0</td>\n",
              "      <td>0</td>\n",
              "      <td>0</td>\n",
              "      <td>0</td>\n",
              "      <td>0</td>\n",
              "      <td>1</td>\n",
              "    </tr>\n",
              "    <tr>\n",
              "      <th>3</th>\n",
              "      <td>0</td>\n",
              "      <td>0</td>\n",
              "      <td>0</td>\n",
              "      <td>0</td>\n",
              "      <td>0</td>\n",
              "      <td>0</td>\n",
              "      <td>0</td>\n",
              "      <td>0</td>\n",
              "      <td>1</td>\n",
              "      <td>0</td>\n",
              "      <td>...</td>\n",
              "      <td>0</td>\n",
              "      <td>2</td>\n",
              "      <td>0</td>\n",
              "      <td>0</td>\n",
              "      <td>1</td>\n",
              "      <td>0</td>\n",
              "      <td>0</td>\n",
              "      <td>0</td>\n",
              "      <td>0</td>\n",
              "      <td>0</td>\n",
              "    </tr>\n",
              "    <tr>\n",
              "      <th>4</th>\n",
              "      <td>0</td>\n",
              "      <td>0</td>\n",
              "      <td>1</td>\n",
              "      <td>1</td>\n",
              "      <td>0</td>\n",
              "      <td>0</td>\n",
              "      <td>0</td>\n",
              "      <td>0</td>\n",
              "      <td>0</td>\n",
              "      <td>0</td>\n",
              "      <td>...</td>\n",
              "      <td>0</td>\n",
              "      <td>0</td>\n",
              "      <td>0</td>\n",
              "      <td>1</td>\n",
              "      <td>0</td>\n",
              "      <td>0</td>\n",
              "      <td>0</td>\n",
              "      <td>1</td>\n",
              "      <td>0</td>\n",
              "      <td>0</td>\n",
              "    </tr>\n",
              "  </tbody>\n",
              "</table>\n",
              "<p>5 rows × 279 columns</p>\n",
              "</div>\n",
              "      <button class=\"colab-df-convert\" onclick=\"convertToInteractive('df-225a319e-6036-4fd3-b1f5-f871fdd98e28')\"\n",
              "              title=\"Convert this dataframe to an interactive table.\"\n",
              "              style=\"display:none;\">\n",
              "        \n",
              "  <svg xmlns=\"http://www.w3.org/2000/svg\" height=\"24px\"viewBox=\"0 0 24 24\"\n",
              "       width=\"24px\">\n",
              "    <path d=\"M0 0h24v24H0V0z\" fill=\"none\"/>\n",
              "    <path d=\"M18.56 5.44l.94 2.06.94-2.06 2.06-.94-2.06-.94-.94-2.06-.94 2.06-2.06.94zm-11 1L8.5 8.5l.94-2.06 2.06-.94-2.06-.94L8.5 2.5l-.94 2.06-2.06.94zm10 10l.94 2.06.94-2.06 2.06-.94-2.06-.94-.94-2.06-.94 2.06-2.06.94z\"/><path d=\"M17.41 7.96l-1.37-1.37c-.4-.4-.92-.59-1.43-.59-.52 0-1.04.2-1.43.59L10.3 9.45l-7.72 7.72c-.78.78-.78 2.05 0 2.83L4 21.41c.39.39.9.59 1.41.59.51 0 1.02-.2 1.41-.59l7.78-7.78 2.81-2.81c.8-.78.8-2.07 0-2.86zM5.41 20L4 18.59l7.72-7.72 1.47 1.35L5.41 20z\"/>\n",
              "  </svg>\n",
              "      </button>\n",
              "      \n",
              "  <style>\n",
              "    .colab-df-container {\n",
              "      display:flex;\n",
              "      flex-wrap:wrap;\n",
              "      gap: 12px;\n",
              "    }\n",
              "\n",
              "    .colab-df-convert {\n",
              "      background-color: #E8F0FE;\n",
              "      border: none;\n",
              "      border-radius: 50%;\n",
              "      cursor: pointer;\n",
              "      display: none;\n",
              "      fill: #1967D2;\n",
              "      height: 32px;\n",
              "      padding: 0 0 0 0;\n",
              "      width: 32px;\n",
              "    }\n",
              "\n",
              "    .colab-df-convert:hover {\n",
              "      background-color: #E2EBFA;\n",
              "      box-shadow: 0px 1px 2px rgba(60, 64, 67, 0.3), 0px 1px 3px 1px rgba(60, 64, 67, 0.15);\n",
              "      fill: #174EA6;\n",
              "    }\n",
              "\n",
              "    [theme=dark] .colab-df-convert {\n",
              "      background-color: #3B4455;\n",
              "      fill: #D2E3FC;\n",
              "    }\n",
              "\n",
              "    [theme=dark] .colab-df-convert:hover {\n",
              "      background-color: #434B5C;\n",
              "      box-shadow: 0px 1px 3px 1px rgba(0, 0, 0, 0.15);\n",
              "      filter: drop-shadow(0px 1px 2px rgba(0, 0, 0, 0.3));\n",
              "      fill: #FFFFFF;\n",
              "    }\n",
              "  </style>\n",
              "\n",
              "      <script>\n",
              "        const buttonEl =\n",
              "          document.querySelector('#df-225a319e-6036-4fd3-b1f5-f871fdd98e28 button.colab-df-convert');\n",
              "        buttonEl.style.display =\n",
              "          google.colab.kernel.accessAllowed ? 'block' : 'none';\n",
              "\n",
              "        async function convertToInteractive(key) {\n",
              "          const element = document.querySelector('#df-225a319e-6036-4fd3-b1f5-f871fdd98e28');\n",
              "          const dataTable =\n",
              "            await google.colab.kernel.invokeFunction('convertToInteractive',\n",
              "                                                     [key], {});\n",
              "          if (!dataTable) return;\n",
              "\n",
              "          const docLinkHtml = 'Like what you see? Visit the ' +\n",
              "            '<a target=\"_blank\" href=https://colab.research.google.com/notebooks/data_table.ipynb>data table notebook</a>'\n",
              "            + ' to learn more about interactive tables.';\n",
              "          element.innerHTML = '';\n",
              "          dataTable['output_type'] = 'display_data';\n",
              "          await google.colab.output.renderOutput(dataTable, element);\n",
              "          const docLink = document.createElement('div');\n",
              "          docLink.innerHTML = docLinkHtml;\n",
              "          element.appendChild(docLink);\n",
              "        }\n",
              "      </script>\n",
              "    </div>\n",
              "  </div>\n",
              "  "
            ]
          },
          "metadata": {},
          "execution_count": 138
        }
      ]
    },
    {
      "cell_type": "markdown",
      "source": [
        "### **TF-IDF Vectors**"
      ],
      "metadata": {
        "id": "5pSmJG0ZQp5h"
      }
    },
    {
      "cell_type": "code",
      "source": [
        "tv = TfidfVectorizer()\n",
        "tv.fit(df['body'])\n",
        "tv_tedfeatures = tv.transform(df['body'])\n",
        "print(f\"samples: {tv_tedfeatures.shape[0]}, features: {tv_tedfeatures.shape[1]}\")\n",
        "print()\n",
        "# convert sparse matrix to dense\n",
        "dense = tv_tedfeatures.todense()\n",
        "denselist = dense.tolist()\n",
        "tfid_df = pd.DataFrame(denselist,columns=tv.get_feature_names_out())\n",
        "tfid_df.head()"
      ],
      "metadata": {
        "id": "_lFOFfHtQwU3",
        "outputId": "4456589d-8df9-4107-ccd6-403d9cbd0c32",
        "colab": {
          "base_uri": "https://localhost:8080/",
          "height": 334
        }
      },
      "execution_count": 139,
      "outputs": [
        {
          "output_type": "stream",
          "name": "stdout",
          "text": [
            "samples: 10, features: 279\n",
            "\n"
          ]
        },
        {
          "output_type": "execute_result",
          "data": {
            "text/plain": [
              "   absolutamente  acer   acessar    acesso    acordo      ado     agora  \\\n",
              "0       0.000000   0.0  0.000000  0.000000  0.000000  0.00000  0.000000   \n",
              "1       0.000000   0.0  0.000000  0.000000  0.133985  0.00000  0.000000   \n",
              "2       0.155454   0.0  0.000000  0.000000  0.000000  0.13215  0.155454   \n",
              "3       0.000000   0.0  0.000000  0.000000  0.000000  0.00000  0.000000   \n",
              "4       0.000000   0.0  0.130755  0.130755  0.000000  0.00000  0.000000   \n",
              "\n",
              "   agosto   aguardo   ai  ...  vem     venho  verificar  verificação  \\\n",
              "0     0.0  0.000000  0.0  ...  0.0  0.000000   0.156735     0.000000   \n",
              "1     0.0  0.000000  0.0  ...  0.0  0.000000   0.000000     0.000000   \n",
              "2     0.0  0.000000  0.0  ...  0.0  0.000000   0.000000     0.000000   \n",
              "3     0.0  0.157087  0.0  ...  0.0  0.314174   0.000000     0.000000   \n",
              "4     0.0  0.000000  0.0  ...  0.0  0.000000   0.000000     0.130755   \n",
              "\n",
              "      video  vier  vieram  vinculada   volta    vídeos  \n",
              "0  0.000000   0.0     0.0   0.000000  0.0000  0.000000  \n",
              "1  0.000000   0.0     0.0   0.000000  0.1139  0.000000  \n",
              "2  0.000000   0.0     0.0   0.000000  0.0000  0.155454  \n",
              "3  0.157087   0.0     0.0   0.000000  0.0000  0.000000  \n",
              "4  0.000000   0.0     0.0   0.130755  0.0000  0.000000  \n",
              "\n",
              "[5 rows x 279 columns]"
            ],
            "text/html": [
              "\n",
              "  <div id=\"df-637efcc1-4c83-4280-b41c-8caf43cd6181\">\n",
              "    <div class=\"colab-df-container\">\n",
              "      <div>\n",
              "<style scoped>\n",
              "    .dataframe tbody tr th:only-of-type {\n",
              "        vertical-align: middle;\n",
              "    }\n",
              "\n",
              "    .dataframe tbody tr th {\n",
              "        vertical-align: top;\n",
              "    }\n",
              "\n",
              "    .dataframe thead th {\n",
              "        text-align: right;\n",
              "    }\n",
              "</style>\n",
              "<table border=\"1\" class=\"dataframe\">\n",
              "  <thead>\n",
              "    <tr style=\"text-align: right;\">\n",
              "      <th></th>\n",
              "      <th>absolutamente</th>\n",
              "      <th>acer</th>\n",
              "      <th>acessar</th>\n",
              "      <th>acesso</th>\n",
              "      <th>acordo</th>\n",
              "      <th>ado</th>\n",
              "      <th>agora</th>\n",
              "      <th>agosto</th>\n",
              "      <th>aguardo</th>\n",
              "      <th>ai</th>\n",
              "      <th>...</th>\n",
              "      <th>vem</th>\n",
              "      <th>venho</th>\n",
              "      <th>verificar</th>\n",
              "      <th>verificação</th>\n",
              "      <th>video</th>\n",
              "      <th>vier</th>\n",
              "      <th>vieram</th>\n",
              "      <th>vinculada</th>\n",
              "      <th>volta</th>\n",
              "      <th>vídeos</th>\n",
              "    </tr>\n",
              "  </thead>\n",
              "  <tbody>\n",
              "    <tr>\n",
              "      <th>0</th>\n",
              "      <td>0.000000</td>\n",
              "      <td>0.0</td>\n",
              "      <td>0.000000</td>\n",
              "      <td>0.000000</td>\n",
              "      <td>0.000000</td>\n",
              "      <td>0.00000</td>\n",
              "      <td>0.000000</td>\n",
              "      <td>0.0</td>\n",
              "      <td>0.000000</td>\n",
              "      <td>0.0</td>\n",
              "      <td>...</td>\n",
              "      <td>0.0</td>\n",
              "      <td>0.000000</td>\n",
              "      <td>0.156735</td>\n",
              "      <td>0.000000</td>\n",
              "      <td>0.000000</td>\n",
              "      <td>0.0</td>\n",
              "      <td>0.0</td>\n",
              "      <td>0.000000</td>\n",
              "      <td>0.0000</td>\n",
              "      <td>0.000000</td>\n",
              "    </tr>\n",
              "    <tr>\n",
              "      <th>1</th>\n",
              "      <td>0.000000</td>\n",
              "      <td>0.0</td>\n",
              "      <td>0.000000</td>\n",
              "      <td>0.000000</td>\n",
              "      <td>0.133985</td>\n",
              "      <td>0.00000</td>\n",
              "      <td>0.000000</td>\n",
              "      <td>0.0</td>\n",
              "      <td>0.000000</td>\n",
              "      <td>0.0</td>\n",
              "      <td>...</td>\n",
              "      <td>0.0</td>\n",
              "      <td>0.000000</td>\n",
              "      <td>0.000000</td>\n",
              "      <td>0.000000</td>\n",
              "      <td>0.000000</td>\n",
              "      <td>0.0</td>\n",
              "      <td>0.0</td>\n",
              "      <td>0.000000</td>\n",
              "      <td>0.1139</td>\n",
              "      <td>0.000000</td>\n",
              "    </tr>\n",
              "    <tr>\n",
              "      <th>2</th>\n",
              "      <td>0.155454</td>\n",
              "      <td>0.0</td>\n",
              "      <td>0.000000</td>\n",
              "      <td>0.000000</td>\n",
              "      <td>0.000000</td>\n",
              "      <td>0.13215</td>\n",
              "      <td>0.155454</td>\n",
              "      <td>0.0</td>\n",
              "      <td>0.000000</td>\n",
              "      <td>0.0</td>\n",
              "      <td>...</td>\n",
              "      <td>0.0</td>\n",
              "      <td>0.000000</td>\n",
              "      <td>0.000000</td>\n",
              "      <td>0.000000</td>\n",
              "      <td>0.000000</td>\n",
              "      <td>0.0</td>\n",
              "      <td>0.0</td>\n",
              "      <td>0.000000</td>\n",
              "      <td>0.0000</td>\n",
              "      <td>0.155454</td>\n",
              "    </tr>\n",
              "    <tr>\n",
              "      <th>3</th>\n",
              "      <td>0.000000</td>\n",
              "      <td>0.0</td>\n",
              "      <td>0.000000</td>\n",
              "      <td>0.000000</td>\n",
              "      <td>0.000000</td>\n",
              "      <td>0.00000</td>\n",
              "      <td>0.000000</td>\n",
              "      <td>0.0</td>\n",
              "      <td>0.157087</td>\n",
              "      <td>0.0</td>\n",
              "      <td>...</td>\n",
              "      <td>0.0</td>\n",
              "      <td>0.314174</td>\n",
              "      <td>0.000000</td>\n",
              "      <td>0.000000</td>\n",
              "      <td>0.157087</td>\n",
              "      <td>0.0</td>\n",
              "      <td>0.0</td>\n",
              "      <td>0.000000</td>\n",
              "      <td>0.0000</td>\n",
              "      <td>0.000000</td>\n",
              "    </tr>\n",
              "    <tr>\n",
              "      <th>4</th>\n",
              "      <td>0.000000</td>\n",
              "      <td>0.0</td>\n",
              "      <td>0.130755</td>\n",
              "      <td>0.130755</td>\n",
              "      <td>0.000000</td>\n",
              "      <td>0.00000</td>\n",
              "      <td>0.000000</td>\n",
              "      <td>0.0</td>\n",
              "      <td>0.000000</td>\n",
              "      <td>0.0</td>\n",
              "      <td>...</td>\n",
              "      <td>0.0</td>\n",
              "      <td>0.000000</td>\n",
              "      <td>0.000000</td>\n",
              "      <td>0.130755</td>\n",
              "      <td>0.000000</td>\n",
              "      <td>0.0</td>\n",
              "      <td>0.0</td>\n",
              "      <td>0.130755</td>\n",
              "      <td>0.0000</td>\n",
              "      <td>0.000000</td>\n",
              "    </tr>\n",
              "  </tbody>\n",
              "</table>\n",
              "<p>5 rows × 279 columns</p>\n",
              "</div>\n",
              "      <button class=\"colab-df-convert\" onclick=\"convertToInteractive('df-637efcc1-4c83-4280-b41c-8caf43cd6181')\"\n",
              "              title=\"Convert this dataframe to an interactive table.\"\n",
              "              style=\"display:none;\">\n",
              "        \n",
              "  <svg xmlns=\"http://www.w3.org/2000/svg\" height=\"24px\"viewBox=\"0 0 24 24\"\n",
              "       width=\"24px\">\n",
              "    <path d=\"M0 0h24v24H0V0z\" fill=\"none\"/>\n",
              "    <path d=\"M18.56 5.44l.94 2.06.94-2.06 2.06-.94-2.06-.94-.94-2.06-.94 2.06-2.06.94zm-11 1L8.5 8.5l.94-2.06 2.06-.94-2.06-.94L8.5 2.5l-.94 2.06-2.06.94zm10 10l.94 2.06.94-2.06 2.06-.94-2.06-.94-.94-2.06-.94 2.06-2.06.94z\"/><path d=\"M17.41 7.96l-1.37-1.37c-.4-.4-.92-.59-1.43-.59-.52 0-1.04.2-1.43.59L10.3 9.45l-7.72 7.72c-.78.78-.78 2.05 0 2.83L4 21.41c.39.39.9.59 1.41.59.51 0 1.02-.2 1.41-.59l7.78-7.78 2.81-2.81c.8-.78.8-2.07 0-2.86zM5.41 20L4 18.59l7.72-7.72 1.47 1.35L5.41 20z\"/>\n",
              "  </svg>\n",
              "      </button>\n",
              "      \n",
              "  <style>\n",
              "    .colab-df-container {\n",
              "      display:flex;\n",
              "      flex-wrap:wrap;\n",
              "      gap: 12px;\n",
              "    }\n",
              "\n",
              "    .colab-df-convert {\n",
              "      background-color: #E8F0FE;\n",
              "      border: none;\n",
              "      border-radius: 50%;\n",
              "      cursor: pointer;\n",
              "      display: none;\n",
              "      fill: #1967D2;\n",
              "      height: 32px;\n",
              "      padding: 0 0 0 0;\n",
              "      width: 32px;\n",
              "    }\n",
              "\n",
              "    .colab-df-convert:hover {\n",
              "      background-color: #E2EBFA;\n",
              "      box-shadow: 0px 1px 2px rgba(60, 64, 67, 0.3), 0px 1px 3px 1px rgba(60, 64, 67, 0.15);\n",
              "      fill: #174EA6;\n",
              "    }\n",
              "\n",
              "    [theme=dark] .colab-df-convert {\n",
              "      background-color: #3B4455;\n",
              "      fill: #D2E3FC;\n",
              "    }\n",
              "\n",
              "    [theme=dark] .colab-df-convert:hover {\n",
              "      background-color: #434B5C;\n",
              "      box-shadow: 0px 1px 3px 1px rgba(0, 0, 0, 0.15);\n",
              "      filter: drop-shadow(0px 1px 2px rgba(0, 0, 0, 0.3));\n",
              "      fill: #FFFFFF;\n",
              "    }\n",
              "  </style>\n",
              "\n",
              "      <script>\n",
              "        const buttonEl =\n",
              "          document.querySelector('#df-637efcc1-4c83-4280-b41c-8caf43cd6181 button.colab-df-convert');\n",
              "        buttonEl.style.display =\n",
              "          google.colab.kernel.accessAllowed ? 'block' : 'none';\n",
              "\n",
              "        async function convertToInteractive(key) {\n",
              "          const element = document.querySelector('#df-637efcc1-4c83-4280-b41c-8caf43cd6181');\n",
              "          const dataTable =\n",
              "            await google.colab.kernel.invokeFunction('convertToInteractive',\n",
              "                                                     [key], {});\n",
              "          if (!dataTable) return;\n",
              "\n",
              "          const docLinkHtml = 'Like what you see? Visit the ' +\n",
              "            '<a target=\"_blank\" href=https://colab.research.google.com/notebooks/data_table.ipynb>data table notebook</a>'\n",
              "            + ' to learn more about interactive tables.';\n",
              "          element.innerHTML = '';\n",
              "          dataTable['output_type'] = 'display_data';\n",
              "          await google.colab.output.renderOutput(dataTable, element);\n",
              "          const docLink = document.createElement('div');\n",
              "          docLink.innerHTML = docLinkHtml;\n",
              "          element.appendChild(docLink);\n",
              "        }\n",
              "      </script>\n",
              "    </div>\n",
              "  </div>\n",
              "  "
            ]
          },
          "metadata": {},
          "execution_count": 139
        }
      ]
    },
    {
      "cell_type": "markdown",
      "source": [
        "## **K-means Clustering**"
      ],
      "metadata": {
        "id": "MFLEVhepSWRU"
      }
    },
    {
      "cell_type": "markdown",
      "source": [
        "### **Vectors as features**"
      ],
      "metadata": {
        "id": "qCxdpvmQVMm9"
      }
    },
    {
      "cell_type": "code",
      "source": [
        "# Elbow method \n",
        "from sklearn.cluster import KMeans\n",
        "import matplotlib.pyplot as plt\n",
        "elbow_method = {}\n",
        "for k in range(1, 10):\n",
        "  kmeans_elbow = KMeans(n_clusters=k).fit(cv_tedfeatures)\n",
        "  elbow_method[k] = kmeans_elbow.inertia_\n",
        "plt.figure()\n",
        "plt.plot(list(elbow_method.keys()), list(elbow_method.values()))\n",
        "plt.xlabel(\"Number of cluster\")\n",
        "plt.ylabel(\"SSE\")\n",
        "plt.show()"
      ],
      "metadata": {
        "id": "9G-svf2fSYWW",
        "outputId": "d231eed6-fd46-47b5-ffe8-56688956ff65",
        "colab": {
          "base_uri": "https://localhost:8080/",
          "height": 279
        }
      },
      "execution_count": 140,
      "outputs": [
        {
          "output_type": "display_data",
          "data": {
            "text/plain": [
              "<Figure size 432x288 with 1 Axes>"
            ],
            "image/png": "[encoded data removed]"
          },
          "metadata": {
            "needs_background": "light"
          }
        }
      ]
    },
    {
      "cell_type": "code",
      "source": [
        "# Silhouette method \n",
        "from sklearn.metrics import silhouette_score\n",
        "from sklearn.cluster import KMeans\n",
        "for n_cluster in range(2, 10):\n",
        "  kmeans = KMeans(n_clusters=n_cluster).fit(cv_tedfeatures)\n",
        "  label = kmeans.labels_\n",
        "  sil_coeff = silhouette_score(cv_tedfeatures, label, metric='euclidean')\n",
        "  print(f\"For n_clusters={n_cluster}, The Silhouette Coefficient is {sil_coeff}\")"
      ],
      "metadata": {
        "id": "ujy_ZYkzTvoW",
        "outputId": "9a39db01-e115-4ad4-d964-63cae133fbd5",
        "colab": {
          "base_uri": "https://localhost:8080/"
        }
      },
      "execution_count": 141,
      "outputs": [
        {
          "output_type": "stream",
          "name": "stdout",
          "text": [
            "For n_clusters=2, The Silhouette Coefficient is 0.05909389105900096\n",
            "For n_clusters=3, The Silhouette Coefficient is 0.06612357145683898\n",
            "For n_clusters=4, The Silhouette Coefficient is 0.011905978879828636\n",
            "For n_clusters=5, The Silhouette Coefficient is 0.03524973495885201\n",
            "For n_clusters=6, The Silhouette Coefficient is 0.03389646558179478\n",
            "For n_clusters=7, The Silhouette Coefficient is 0.03239078472322965\n",
            "For n_clusters=8, The Silhouette Coefficient is 0.030419304786093983\n",
            "For n_clusters=9, The Silhouette Coefficient is 0.0042727099432998406\n"
          ]
        }
      ]
    },
    {
      "cell_type": "markdown",
      "source": [
        "### **TF-IDF as features**"
      ],
      "metadata": {
        "id": "TEkSeM98VSCF"
      }
    },
    {
      "cell_type": "code",
      "source": [
        "# Elbow method \n",
        "from sklearn.cluster import KMeans\n",
        "import matplotlib.pyplot as plt\n",
        "elbow_method = {}\n",
        "for k in range(1, 10):\n",
        "  kmeans_elbow = KMeans(n_clusters=k).fit(tv_tedfeatures)\n",
        "  elbow_method[k] = kmeans_elbow.inertia_\n",
        "plt.figure()\n",
        "plt.plot(list(elbow_method.keys()), list(elbow_method.values()))\n",
        "plt.xlabel(\"Number of cluster\")\n",
        "plt.ylabel(\"SSE\")\n",
        "plt.show()"
      ],
      "metadata": {
        "id": "e_UVv_BVVWzZ",
        "outputId": "4e2c52de-e876-49ac-a4e0-4e4e23bc4639",
        "colab": {
          "base_uri": "https://localhost:8080/",
          "height": 279
        }
      },
      "execution_count": 108,
      "outputs": [
        {
          "output_type": "display_data",
          "data": {
            "text/plain": [
              "<Figure size 432x288 with 1 Axes>"
            ],
            "image/png": "[encoded data removed]"
          },
          "metadata": {
            "needs_background": "light"
          }
        }
      ]
    },
    {
      "cell_type": "code",
      "source": [
        "# Silhouette method \n",
        "from sklearn.metrics import silhouette_score\n",
        "from sklearn.cluster import KMeans\n",
        "for n_cluster in range(2, 10):\n",
        "  kmeans = KMeans(n_clusters=n_cluster).fit(tv_tedfeatures)\n",
        "  label = kmeans.labels_\n",
        "  sil_coeff = silhouette_score(cv_tedfeatures, label, metric='euclidean')\n",
        "  print(f\"For n_clusters={n_cluster}, The Silhouette Coefficient is {sil_coeff}\")"
      ],
      "metadata": {
        "id": "WGHmFhLuVi2w",
        "outputId": "5f7443de-519b-4f1d-dfdd-2bf03d3c6fac",
        "colab": {
          "base_uri": "https://localhost:8080/"
        }
      },
      "execution_count": 109,
      "outputs": [
        {
          "output_type": "stream",
          "name": "stdout",
          "text": [
            "For n_clusters=2, The Silhouette Coefficient is 0.047257637963629306\n",
            "For n_clusters=3, The Silhouette Coefficient is 0.03532328315479835\n",
            "For n_clusters=4, The Silhouette Coefficient is 0.053771569159734835\n",
            "For n_clusters=5, The Silhouette Coefficient is 0.03407575302246654\n",
            "For n_clusters=6, The Silhouette Coefficient is 0.02504314381813117\n",
            "For n_clusters=7, The Silhouette Coefficient is 0.021510675877519182\n",
            "For n_clusters=8, The Silhouette Coefficient is -0.024882694140998102\n",
            "For n_clusters=9, The Silhouette Coefficient is -0.0015142821880752139\n"
          ]
        }
      ]
    },
    {
      "cell_type": "markdown",
      "source": [
        "### **Clustering Mode**l"
      ],
      "metadata": {
        "id": "eFjiC7sQV6wg"
      }
    },
    {
      "cell_type": "code",
      "source": [
        "# define how many clusters K-means will generate\n",
        "NUMBER_OF_CLUSTERS = 4\n",
        "RANDOM_STATE = 20\n",
        "kmeans = KMeans(n_clusters=NUMBER_OF_CLUSTERS).fit(tv_tedfeatures)\n",
        "cluster_ids, cluster_sizes = np.unique(kmeans.labels_, return_counts=True)\n",
        "print(f\"Number of cluster {kmeans.n_clusters} \\nNumber of elements asigned to each cluster: {cluster_sizes} \")"
      ],
      "metadata": {
        "id": "wK05Apb3V8Yt",
        "outputId": "83fc39bd-24d3-4fa9-aa18-ac397a893620",
        "colab": {
          "base_uri": "https://localhost:8080/"
        }
      },
      "execution_count": 142,
      "outputs": [
        {
          "output_type": "stream",
          "name": "stdout",
          "text": [
            "Number of cluster 4 \n",
            "Number of elements asigned to each cluster: [2 4 3 1] \n"
          ]
        }
      ]
    },
    {
      "cell_type": "code",
      "source": [
        "def get_top_keywords(data, clusters, labels, n_terms):\n",
        "    df = pd.DataFrame(data.todense()).groupby(clusters).mean()\n",
        "    \n",
        "    for i,r in df.iterrows():\n",
        "        print(f'\\nCluster {i}')\n",
        "        print(','.join([labels[t] for t in np.argsort(r)[-n_terms:]]))"
      ],
      "metadata": {
        "id": "10r8HzJMM908"
      },
      "execution_count": 143,
      "outputs": []
    },
    {
      "cell_type": "code",
      "source": [
        "clusters = KMeans(n_clusters=NUMBER_OF_CLUSTERS, random_state=RANDOM_STATE).fit_predict(tv_tedfeatures)\n",
        "get_top_keywords(tv_tedfeatures, clusters, tv.get_feature_names_out(), 10)"
      ],
      "metadata": {
        "id": "9-JHFMLE6Nu6",
        "outputId": "d92b359c-ea8a-4882-f8d0-2a8776916d24",
        "colab": {
          "base_uri": "https://localhost:8080/"
        }
      },
      "execution_count": 144,
      "outputs": [
        {
          "output_type": "stream",
          "name": "stdout",
          "text": [
            "\n",
            "Cluster 0\n",
            "prazo,correios,automático,devolver,código,dinheiro,dias,devolução,ainda,produto\n",
            "\n",
            "Cluster 1\n",
            "site,amazon,consigo,telefone,cadastro,opção,tudo,número,conta,cancelar\n",
            "\n",
            "Cluster 2\n",
            "seguinte,nova,sendo,ok,recebe,entregador,fazer,vieram,dia,entrega\n",
            "\n",
            "Cluster 3\n",
            "digital,deste,cobrando,cobrado,itens,venho,assinatura,cobrança,ar,valor\n"
          ]
        }
      ]
    },
    {
      "cell_type": "markdown",
      "source": [
        "### **PCA and TSNE**"
      ],
      "metadata": {
        "id": "EbaYGNlvAh1x"
      }
    },
    {
      "cell_type": "code",
      "source": [
        "from sklearn.decomposition import PCA\n",
        "from sklearn.manifold import TSNE\n",
        "import matplotlib.cm as cm\n",
        "from sklearn.cluster import MiniBatchKMeans\n",
        "def plot_tsne_pca(data, labels):\n",
        "    max_label = max(labels)\n",
        "    max_items = np.random.choice(range(data.shape[0]), size=tv_tedfeatures.shape[0], replace=False)\n",
        "    \n",
        "    pca = PCA(n_components=2).fit_transform(data[max_items,:].todense())\n",
        "    tsne = TSNE().fit_transform(PCA(n_components=2).fit_transform(data[max_items,:].todense()))\n",
        "    \n",
        "    \n",
        "    idx = np.random.choice(range(pca.shape[0]), size=tv_tedfeatures.shape[0], replace=False)\n",
        "    label_subset = labels[max_items]\n",
        "    label_subset = [cm.hsv(i/max_label) for i in label_subset[idx]]\n",
        "    \n",
        "    f, ax = plt.subplots(1, 2, figsize=(14, 6))\n",
        "    \n",
        "    ax[0].scatter(pca[idx, 0], pca[idx, 1], c=label_subset)\n",
        "    ax[0].set_title('PCA Cluster Plot')\n",
        "    \n",
        "    ax[1].scatter(tsne[idx, 0], tsne[idx, 1], c=label_subset)\n",
        "    ax[1].set_title('TSNE Cluster Plot')\n",
        "    \n",
        "plot_tsne_pca(tv_tedfeatures, clusters)"
      ],
      "metadata": {
        "id": "ja6uFpoCAmJ8"
      },
      "execution_count": null,
      "outputs": []
    },
    {
      "cell_type": "code",
      "source": [
        "ted_segmentaion = {'body':  df['body'] , 'cluster': kmeans.labels_.tolist()}\n",
        "clusters_df = pd.DataFrame(ted_segmentaion)\n",
        "clusters_df['cluster'] = kmeans.labels_.tolist()\n",
        "clusters_df.head()\n"
      ],
      "metadata": {
        "id": "4VhqQ5jBWebb",
        "outputId": "93b8f9ec-5252-4535-830f-a5fdcfed5cc8",
        "colab": {
          "base_uri": "https://localhost:8080/",
          "height": 363
        }
      },
      "execution_count": 114,
      "outputs": [
        {
          "output_type": "execute_result",
          "data": {
            "text/plain": [
              "                                                body  cluster\n",
              "0  olá preciso ajuda entender problema recebi ema...        1\n",
              "1  comprei perfume recebi produto vale nada cheir...        2\n",
              "2  novamente casa terminei assistir serie anéis p...        1\n",
              "3  fiz assinatura amazon prime video valor ar   v...        1\n",
              "4  prezados te hot conta amazon fiz compras anter...        3\n",
              "5  requeri devolução produto ainda sete dias aten...        2\n",
              "6  fiz compra brinquedo transportadora conseguira...        2\n",
              "7  tentando cancelar assinatura discovery amazon ...        3\n",
              "8  comprei carregador fonte carregador notebook a...        2\n",
              "9  fiz compra amazon aonde previsão entrega ambos...        0"
            ],
            "text/html": [
              "\n",
              "  <div id=\"df-53f8b1c2-fa3c-432d-9de2-a2ca6c2b077c\">\n",
              "    <div class=\"colab-df-container\">\n",
              "      <div>\n",
              "<style scoped>\n",
              "    .dataframe tbody tr th:only-of-type {\n",
              "        vertical-align: middle;\n",
              "    }\n",
              "\n",
              "    .dataframe tbody tr th {\n",
              "        vertical-align: top;\n",
              "    }\n",
              "\n",
              "    .dataframe thead th {\n",
              "        text-align: right;\n",
              "    }\n",
              "</style>\n",
              "<table border=\"1\" class=\"dataframe\">\n",
              "  <thead>\n",
              "    <tr style=\"text-align: right;\">\n",
              "      <th></th>\n",
              "      <th>body</th>\n",
              "      <th>cluster</th>\n",
              "    </tr>\n",
              "  </thead>\n",
              "  <tbody>\n",
              "    <tr>\n",
              "      <th>0</th>\n",
              "      <td>olá preciso ajuda entender problema recebi ema...</td>\n",
              "      <td>1</td>\n",
              "    </tr>\n",
              "    <tr>\n",
              "      <th>1</th>\n",
              "      <td>comprei perfume recebi produto vale nada cheir...</td>\n",
              "      <td>2</td>\n",
              "    </tr>\n",
              "    <tr>\n",
              "      <th>2</th>\n",
              "      <td>novamente casa terminei assistir serie anéis p...</td>\n",
              "      <td>1</td>\n",
              "    </tr>\n",
              "    <tr>\n",
              "      <th>3</th>\n",
              "      <td>fiz assinatura amazon prime video valor ar   v...</td>\n",
              "      <td>1</td>\n",
              "    </tr>\n",
              "    <tr>\n",
              "      <th>4</th>\n",
              "      <td>prezados te hot conta amazon fiz compras anter...</td>\n",
              "      <td>3</td>\n",
              "    </tr>\n",
              "    <tr>\n",
              "      <th>5</th>\n",
              "      <td>requeri devolução produto ainda sete dias aten...</td>\n",
              "      <td>2</td>\n",
              "    </tr>\n",
              "    <tr>\n",
              "      <th>6</th>\n",
              "      <td>fiz compra brinquedo transportadora conseguira...</td>\n",
              "      <td>2</td>\n",
              "    </tr>\n",
              "    <tr>\n",
              "      <th>7</th>\n",
              "      <td>tentando cancelar assinatura discovery amazon ...</td>\n",
              "      <td>3</td>\n",
              "    </tr>\n",
              "    <tr>\n",
              "      <th>8</th>\n",
              "      <td>comprei carregador fonte carregador notebook a...</td>\n",
              "      <td>2</td>\n",
              "    </tr>\n",
              "    <tr>\n",
              "      <th>9</th>\n",
              "      <td>fiz compra amazon aonde previsão entrega ambos...</td>\n",
              "      <td>0</td>\n",
              "    </tr>\n",
              "  </tbody>\n",
              "</table>\n",
              "</div>\n",
              "      <button class=\"colab-df-convert\" onclick=\"convertToInteractive('df-53f8b1c2-fa3c-432d-9de2-a2ca6c2b077c')\"\n",
              "              title=\"Convert this dataframe to an interactive table.\"\n",
              "              style=\"display:none;\">\n",
              "        \n",
              "  <svg xmlns=\"http://www.w3.org/2000/svg\" height=\"24px\"viewBox=\"0 0 24 24\"\n",
              "       width=\"24px\">\n",
              "    <path d=\"M0 0h24v24H0V0z\" fill=\"none\"/>\n",
              "    <path d=\"M18.56 5.44l.94 2.06.94-2.06 2.06-.94-2.06-.94-.94-2.06-.94 2.06-2.06.94zm-11 1L8.5 8.5l.94-2.06 2.06-.94-2.06-.94L8.5 2.5l-.94 2.06-2.06.94zm10 10l.94 2.06.94-2.06 2.06-.94-2.06-.94-.94-2.06-.94 2.06-2.06.94z\"/><path d=\"M17.41 7.96l-1.37-1.37c-.4-.4-.92-.59-1.43-.59-.52 0-1.04.2-1.43.59L10.3 9.45l-7.72 7.72c-.78.78-.78 2.05 0 2.83L4 21.41c.39.39.9.59 1.41.59.51 0 1.02-.2 1.41-.59l7.78-7.78 2.81-2.81c.8-.78.8-2.07 0-2.86zM5.41 20L4 18.59l7.72-7.72 1.47 1.35L5.41 20z\"/>\n",
              "  </svg>\n",
              "      </button>\n",
              "      \n",
              "  <style>\n",
              "    .colab-df-container {\n",
              "      display:flex;\n",
              "      flex-wrap:wrap;\n",
              "      gap: 12px;\n",
              "    }\n",
              "\n",
              "    .colab-df-convert {\n",
              "      background-color: #E8F0FE;\n",
              "      border: none;\n",
              "      border-radius: 50%;\n",
              "      cursor: pointer;\n",
              "      display: none;\n",
              "      fill: #1967D2;\n",
              "      height: 32px;\n",
              "      padding: 0 0 0 0;\n",
              "      width: 32px;\n",
              "    }\n",
              "\n",
              "    .colab-df-convert:hover {\n",
              "      background-color: #E2EBFA;\n",
              "      box-shadow: 0px 1px 2px rgba(60, 64, 67, 0.3), 0px 1px 3px 1px rgba(60, 64, 67, 0.15);\n",
              "      fill: #174EA6;\n",
              "    }\n",
              "\n",
              "    [theme=dark] .colab-df-convert {\n",
              "      background-color: #3B4455;\n",
              "      fill: #D2E3FC;\n",
              "    }\n",
              "\n",
              "    [theme=dark] .colab-df-convert:hover {\n",
              "      background-color: #434B5C;\n",
              "      box-shadow: 0px 1px 3px 1px rgba(0, 0, 0, 0.15);\n",
              "      filter: drop-shadow(0px 1px 2px rgba(0, 0, 0, 0.3));\n",
              "      fill: #FFFFFF;\n",
              "    }\n",
              "  </style>\n",
              "\n",
              "      <script>\n",
              "        const buttonEl =\n",
              "          document.querySelector('#df-53f8b1c2-fa3c-432d-9de2-a2ca6c2b077c button.colab-df-convert');\n",
              "        buttonEl.style.display =\n",
              "          google.colab.kernel.accessAllowed ? 'block' : 'none';\n",
              "\n",
              "        async function convertToInteractive(key) {\n",
              "          const element = document.querySelector('#df-53f8b1c2-fa3c-432d-9de2-a2ca6c2b077c');\n",
              "          const dataTable =\n",
              "            await google.colab.kernel.invokeFunction('convertToInteractive',\n",
              "                                                     [key], {});\n",
              "          if (!dataTable) return;\n",
              "\n",
              "          const docLinkHtml = 'Like what you see? Visit the ' +\n",
              "            '<a target=\"_blank\" href=https://colab.research.google.com/notebooks/data_table.ipynb>data table notebook</a>'\n",
              "            + ' to learn more about interactive tables.';\n",
              "          element.innerHTML = '';\n",
              "          dataTable['output_type'] = 'display_data';\n",
              "          await google.colab.output.renderOutput(dataTable, element);\n",
              "          const docLink = document.createElement('div');\n",
              "          docLink.innerHTML = docLinkHtml;\n",
              "          element.appendChild(docLink);\n",
              "        }\n",
              "      </script>\n",
              "    </div>\n",
              "  </div>\n",
              "  "
            ]
          },
          "metadata": {},
          "execution_count": 114
        }
      ]
    },
    {
      "cell_type": "markdown",
      "source": [
        "### **Visualization of clusters**"
      ],
      "metadata": {
        "id": "r1ArQsHuWOFY"
      }
    },
    {
      "cell_type": "code",
      "source": [
        "%%capture\n",
        "# cluster 1 visualization\n",
        "from wordcloud import WordCloud, STOPWORDS\n",
        "def generate_wordcloud_by_cluster(index, cluster):\n",
        "# Mono Gram\n",
        "  wordcloud = WordCloud(max_font_size=50, max_words=20, collocations = False).generate_from_text(' '.join(cluster['body']))\n",
        "  \n",
        "  # save wordcloud\n",
        "  # Save wordcloud \n",
        "  if not os.path.exists(\"wordclouds/clusters/\"):\n",
        "    os.makedirs(\"wordclouds/clusters/\")\n",
        "  wordcloud.to_file(f'wordclouds/clusters/{index}_cluster_wordcloud.png')\n",
        "  \n",
        "  # Generate plot\n",
        "  plt.figure(figsize=(8,3))\n",
        "  plt.imshow(wordcloud)\n",
        "  plt.axis(\"off\")\n",
        "  plt.show()\n",
        "\n",
        "# generate wordcloud for the first two clusters\n",
        "for index in range(2):\n",
        "  cluster = clusters_df[clusters_df.cluster == index]\n",
        "  generate_wordcloud_by_cluster(index,cluster)"
      ],
      "metadata": {
        "id": "m0qI4W3HWRHO"
      },
      "execution_count": 145,
      "outputs": []
    },
    {
      "cell_type": "markdown",
      "source": [
        "## **Topic Modeling**"
      ],
      "metadata": {
        "id": "K9wGbS-xFxkA"
      }
    },
    {
      "cell_type": "markdown",
      "source": [
        "### **Create a dictionary using the bag of words model**\n",
        "- Document: some text.\n",
        "- Corpus: a collection of documents."
      ],
      "metadata": {
        "id": "5gjWR5iNpJ8X"
      }
    },
    {
      "cell_type": "code",
      "source": [
        "def preprocess_data(doc_set):\n",
        "    # initialize regex tokenizer\n",
        "    tokenizer = RegexpTokenizer(r'\\w+')\n",
        "    # create English stop words list\n",
        "    en_stop = set(stopwords.words('portuguese'))\n",
        "    # Create p_stemmer of class PorterStemmer\n",
        "    p_stemmer = SnowballStemmer(language = 'portuguese')\n",
        "    # list for tokenized documents in loop\n",
        "    texts = []\n",
        "    # loop through document list\n",
        "    for i in doc_set:\n",
        "        # clean and tokenize document string\n",
        "        raw = i.lower()\n",
        "        tokens = tokenizer.tokenize(raw)\n",
        "        # remove stop words from tokens \n",
        "        stopped_tokens = [i for i in tokens if not i in en_stop ]\n",
        "        # stem tokens\n",
        "        stemmed_tokens = [p_stemmer.stem(i) for i in stopped_tokens]\n",
        "        # add tokens to list\n",
        "        texts.append(stemmed_tokens)\n",
        "    return texts"
      ],
      "metadata": {
        "id": "LpPr0edMEaeB"
      },
      "execution_count": 214,
      "outputs": []
    },
    {
      "cell_type": "code",
      "source": [
        "def prepare_corpus(doc):\n",
        "    # associate each word in the corpus with a unique integer ID.\n",
        "    dictionary = corpora.Dictionary(doc)\n",
        "    \n",
        "    # create the bag-of-word representation for documents (corpus)\n",
        "    doc_term_matrix = [dictionary.doc2bow(doc) for doc in doc]\n",
        "    return dictionary, doc_term_matrix"
      ],
      "metadata": {
        "id": "4uHZQUypKZ3b"
      },
      "execution_count": 215,
      "outputs": []
    },
    {
      "cell_type": "markdown",
      "source": [
        "### **Latent Dirichlet Allocation (LDA) model**"
      ],
      "metadata": {
        "id": "-jKqOvBOpWBs"
      }
    },
    {
      "cell_type": "code",
      "source": [
        "from gensim import models\n",
        "from gensim import corpora\n",
        "from gensim.models.callbacks import PerplexityMetric, ConvergenceMetric, CoherenceMetric\n",
        "\n",
        "def create_gensim_lda_model(doc_clean, number_topics, words):\n",
        "  \n",
        "  dictionary, doc_term_matrix = prepare_corpus(doc_clean) \n",
        "\n",
        "  # train model\n",
        "  lda_model = models.ldamodel.LdaModel(corpus=doc_clean,\n",
        "            id2word=dictionary,\n",
        "            num_topics=num_topics,\n",
        "            eval_every=10)\n",
        "  \n",
        "  print(lda_model.print_topics(num_topics=number_topics, num_words=words))\n",
        "\n",
        "  # Save models so they aren't lost\n",
        "  #if not os.path.exists(f\"models/lda/lda_{iterations}i{passes}p_cluster{cluster_index}/\"):\n",
        "    #os.makedirs(f\"models/lda/lda_{iterations}i{passes}p_cluster{cluster_index}/\")\n",
        "\n",
        "  #lda_model.save(f\"models/lda/lda_{iterations}i{passes}p_cluster{cluster_index}/lda_{iterations}i{passes}p.model\")\n",
        "    \n",
        "  #print(f'Model saved at: ./models/lda/lda_{iterations}i{passes}p_cluster{cluster_index}/lda_{iterations}i{passes}p.model')\n",
        "\n",
        "  return lda_model"
      ],
      "metadata": {
        "id": "9lUsZjZRpcbM"
      },
      "execution_count": 216,
      "outputs": []
    },
    {
      "cell_type": "code",
      "source": [
        "def compute_coherence_values(dictionary, doc_term_matrix, doc_clean, stop, start=2, step=3):\n",
        "    coherence_values = []\n",
        "    model_list = []\n",
        "    for num_topics in range(start, stop, step):\n",
        "        model = models.LdaModel(doc_term_matrix, num_topics=num_topics, id2word = dictionary) \n",
        "        model_list.append(model)\n",
        "        coherencemodel = models.CoherenceModel(model=model, texts=doc_clean, dictionary=dictionary, coherence='c_v')\n",
        "        coherence_values.append(coherencemodel.get_coherence())\n",
        "    return model_list, coherence_values"
      ],
      "metadata": {
        "id": "Vf1i0FykQC8H"
      },
      "execution_count": 208,
      "outputs": []
    },
    {
      "cell_type": "code",
      "source": [
        "def plot_graph(doc_clean, start, stop, step):\n",
        "    \n",
        "    dictionary,doc_term_matrix=prepare_corpus(doc_clean)\n",
        "    \n",
        "    model_list, coherence_values = compute_coherence_values(dictionary, doc_term_matrix,doc_clean,\n",
        "                                                            stop, start, step)\n",
        "    # Show graph\n",
        "    x = range(start, stop, step)\n",
        "    plt.plot(x, coherence_values)\n",
        "    plt.xlabel(\"Number of Topics\")\n",
        "    plt.ylabel(\"Coherence score\")\n",
        "    plt.legend((\"coherence_values\"), loc='best')\n",
        "    plt.show()"
      ],
      "metadata": {
        "id": "tcPSEdTfQez-"
      },
      "execution_count": 209,
      "outputs": []
    },
    {
      "cell_type": "code",
      "source": [
        "num_topics = 5\n",
        "iterations = 50\n",
        "passes = 50\n",
        "words=10\n",
        "\n",
        "for index in range(kmeans.n_clusters):\n",
        "  cluster = clusters_df[clusters_df.cluster == index]\n",
        "  doc_clean = preprocess_data(cluster.body)\n",
        "  lda_model = create_gensim_lda_model(doc_clean, num_topics, words)\n",
        "\n",
        "  # plot coherence score\n",
        "  start,stop,step=2,12,1\n",
        "  plot_graph(doc_clean, start, stop, step)"
      ],
      "metadata": {
        "id": "3RzyHfXam4EH",
        "outputId": "168bba67-e9a6-4e86-f9f6-f0168fe4f9ee",
        "colab": {
          "base_uri": "https://localhost:8080/",
          "height": 417
        }
      },
      "execution_count": 218,
      "outputs": [
        {
          "output_type": "stream",
          "name": "stderr",
          "text": [
            "WARNING:gensim.models.ldamodel:too few updates, training might not converge; consider increasing the number of passes or iterations to improve accuracy\n"
          ]
        },
        {
          "output_type": "error",
          "ename": "ValueError",
          "evalue": "ignored",
          "traceback": [
            "\u001b[0;31m---------------------------------------------------------------------------\u001b[0m",
            "\u001b[0;31mValueError\u001b[0m                                Traceback (most recent call last)",
            "\u001b[0;32m<ipython-input-218-8cd1c5b6c37c>\u001b[0m in \u001b[0;36m<module>\u001b[0;34m\u001b[0m\n\u001b[1;32m      7\u001b[0m   \u001b[0mcluster\u001b[0m \u001b[0;34m=\u001b[0m \u001b[0mclusters_df\u001b[0m\u001b[0;34m[\u001b[0m\u001b[0mclusters_df\u001b[0m\u001b[0;34m.\u001b[0m\u001b[0mcluster\u001b[0m \u001b[0;34m==\u001b[0m \u001b[0mindex\u001b[0m\u001b[0;34m]\u001b[0m\u001b[0;34m\u001b[0m\u001b[0;34m\u001b[0m\u001b[0m\n\u001b[1;32m      8\u001b[0m   \u001b[0mdoc_clean\u001b[0m \u001b[0;34m=\u001b[0m \u001b[0mpreprocess_data\u001b[0m\u001b[0;34m(\u001b[0m\u001b[0mlist\u001b[0m\u001b[0;34m(\u001b[0m\u001b[0mcluster\u001b[0m\u001b[0;34m.\u001b[0m\u001b[0mbody\u001b[0m\u001b[0;34m)\u001b[0m\u001b[0;34m)\u001b[0m\u001b[0;34m\u001b[0m\u001b[0;34m\u001b[0m\u001b[0m\n\u001b[0;32m----> 9\u001b[0;31m   \u001b[0mlda_model\u001b[0m \u001b[0;34m=\u001b[0m \u001b[0mcreate_gensim_lda_model\u001b[0m\u001b[0;34m(\u001b[0m\u001b[0mdoc_clean\u001b[0m\u001b[0;34m,\u001b[0m \u001b[0mnum_topics\u001b[0m\u001b[0;34m,\u001b[0m \u001b[0mwords\u001b[0m\u001b[0;34m)\u001b[0m\u001b[0;34m\u001b[0m\u001b[0;34m\u001b[0m\u001b[0m\n\u001b[0m\u001b[1;32m     10\u001b[0m \u001b[0;34m\u001b[0m\u001b[0m\n\u001b[1;32m     11\u001b[0m   \u001b[0;31m# plot coherence score\u001b[0m\u001b[0;34m\u001b[0m\u001b[0;34m\u001b[0m\u001b[0;34m\u001b[0m\u001b[0m\n",
            "\u001b[0;32m<ipython-input-216-f946f1cbcc20>\u001b[0m in \u001b[0;36mcreate_gensim_lda_model\u001b[0;34m(doc_clean, number_topics, words)\u001b[0m\n\u001b[1;32m     11\u001b[0m             \u001b[0mid2word\u001b[0m\u001b[0;34m=\u001b[0m\u001b[0mdictionary\u001b[0m\u001b[0;34m,\u001b[0m\u001b[0;34m\u001b[0m\u001b[0;34m\u001b[0m\u001b[0m\n\u001b[1;32m     12\u001b[0m             \u001b[0mnum_topics\u001b[0m\u001b[0;34m=\u001b[0m\u001b[0mnum_topics\u001b[0m\u001b[0;34m,\u001b[0m\u001b[0;34m\u001b[0m\u001b[0;34m\u001b[0m\u001b[0m\n\u001b[0;32m---> 13\u001b[0;31m             eval_every=10)\n\u001b[0m\u001b[1;32m     14\u001b[0m \u001b[0;34m\u001b[0m\u001b[0m\n\u001b[1;32m     15\u001b[0m   \u001b[0mprint\u001b[0m\u001b[0;34m(\u001b[0m\u001b[0mlda_model\u001b[0m\u001b[0;34m.\u001b[0m\u001b[0mprint_topics\u001b[0m\u001b[0;34m(\u001b[0m\u001b[0mnum_topics\u001b[0m\u001b[0;34m=\u001b[0m\u001b[0mnumber_topics\u001b[0m\u001b[0;34m,\u001b[0m \u001b[0mnum_words\u001b[0m\u001b[0;34m=\u001b[0m\u001b[0mwords\u001b[0m\u001b[0;34m)\u001b[0m\u001b[0;34m)\u001b[0m\u001b[0;34m\u001b[0m\u001b[0;34m\u001b[0m\u001b[0m\n",
            "\u001b[0;32m/usr/local/lib/python3.7/dist-packages/gensim/models/ldamodel.py\u001b[0m in \u001b[0;36m__init__\u001b[0;34m(self, corpus, num_topics, id2word, distributed, chunksize, passes, update_every, alpha, eta, decay, offset, eval_every, iterations, gamma_threshold, minimum_probability, random_state, ns_conf, minimum_phi_value, per_word_topics, callbacks, dtype)\u001b[0m\n\u001b[1;32m    518\u001b[0m             \u001b[0muse_numpy\u001b[0m \u001b[0;34m=\u001b[0m \u001b[0mself\u001b[0m\u001b[0;34m.\u001b[0m\u001b[0mdispatcher\u001b[0m \u001b[0;32mis\u001b[0m \u001b[0;32mnot\u001b[0m \u001b[0;32mNone\u001b[0m\u001b[0;34m\u001b[0m\u001b[0;34m\u001b[0m\u001b[0m\n\u001b[1;32m    519\u001b[0m             \u001b[0mstart\u001b[0m \u001b[0;34m=\u001b[0m \u001b[0mtime\u001b[0m\u001b[0;34m.\u001b[0m\u001b[0mtime\u001b[0m\u001b[0;34m(\u001b[0m\u001b[0;34m)\u001b[0m\u001b[0;34m\u001b[0m\u001b[0;34m\u001b[0m\u001b[0m\n\u001b[0;32m--> 520\u001b[0;31m             \u001b[0mself\u001b[0m\u001b[0;34m.\u001b[0m\u001b[0mupdate\u001b[0m\u001b[0;34m(\u001b[0m\u001b[0mcorpus\u001b[0m\u001b[0;34m,\u001b[0m \u001b[0mchunks_as_numpy\u001b[0m\u001b[0;34m=\u001b[0m\u001b[0muse_numpy\u001b[0m\u001b[0;34m)\u001b[0m\u001b[0;34m\u001b[0m\u001b[0;34m\u001b[0m\u001b[0m\n\u001b[0m\u001b[1;32m    521\u001b[0m             self.add_lifecycle_event(\n\u001b[1;32m    522\u001b[0m                 \u001b[0;34m\"created\"\u001b[0m\u001b[0;34m,\u001b[0m\u001b[0;34m\u001b[0m\u001b[0;34m\u001b[0m\u001b[0m\n",
            "\u001b[0;32m/usr/local/lib/python3.7/dist-packages/gensim/models/ldamodel.py\u001b[0m in \u001b[0;36mupdate\u001b[0;34m(self, corpus, chunksize, decay, offset, passes, update_every, eval_every, iterations, gamma_threshold, chunks_as_numpy)\u001b[0m\n\u001b[1;32m    988\u001b[0m \u001b[0;34m\u001b[0m\u001b[0m\n\u001b[1;32m    989\u001b[0m                 \u001b[0;32mif\u001b[0m \u001b[0meval_every\u001b[0m \u001b[0;32mand\u001b[0m \u001b[0;34m(\u001b[0m\u001b[0;34m(\u001b[0m\u001b[0mreallen\u001b[0m \u001b[0;34m==\u001b[0m \u001b[0mlencorpus\u001b[0m\u001b[0;34m)\u001b[0m \u001b[0;32mor\u001b[0m \u001b[0;34m(\u001b[0m\u001b[0;34m(\u001b[0m\u001b[0mchunk_no\u001b[0m \u001b[0;34m+\u001b[0m \u001b[0;36m1\u001b[0m\u001b[0;34m)\u001b[0m \u001b[0;34m%\u001b[0m \u001b[0;34m(\u001b[0m\u001b[0meval_every\u001b[0m \u001b[0;34m*\u001b[0m \u001b[0mself\u001b[0m\u001b[0;34m.\u001b[0m\u001b[0mnumworkers\u001b[0m\u001b[0;34m)\u001b[0m \u001b[0;34m==\u001b[0m \u001b[0;36m0\u001b[0m\u001b[0;34m)\u001b[0m\u001b[0;34m)\u001b[0m\u001b[0;34m:\u001b[0m\u001b[0;34m\u001b[0m\u001b[0;34m\u001b[0m\u001b[0m\n\u001b[0;32m--> 990\u001b[0;31m                     \u001b[0mself\u001b[0m\u001b[0;34m.\u001b[0m\u001b[0mlog_perplexity\u001b[0m\u001b[0;34m(\u001b[0m\u001b[0mchunk\u001b[0m\u001b[0;34m,\u001b[0m \u001b[0mtotal_docs\u001b[0m\u001b[0;34m=\u001b[0m\u001b[0mlencorpus\u001b[0m\u001b[0;34m)\u001b[0m\u001b[0;34m\u001b[0m\u001b[0;34m\u001b[0m\u001b[0m\n\u001b[0m\u001b[1;32m    991\u001b[0m \u001b[0;34m\u001b[0m\u001b[0m\n\u001b[1;32m    992\u001b[0m                 \u001b[0;32mif\u001b[0m \u001b[0mself\u001b[0m\u001b[0;34m.\u001b[0m\u001b[0mdispatcher\u001b[0m\u001b[0;34m:\u001b[0m\u001b[0;34m\u001b[0m\u001b[0;34m\u001b[0m\u001b[0m\n",
            "\u001b[0;32m/usr/local/lib/python3.7/dist-packages/gensim/models/ldamodel.py\u001b[0m in \u001b[0;36mlog_perplexity\u001b[0;34m(self, chunk, total_docs)\u001b[0m\n\u001b[1;32m    842\u001b[0m         \u001b[0;32mif\u001b[0m \u001b[0mtotal_docs\u001b[0m \u001b[0;32mis\u001b[0m \u001b[0;32mNone\u001b[0m\u001b[0;34m:\u001b[0m\u001b[0;34m\u001b[0m\u001b[0;34m\u001b[0m\u001b[0m\n\u001b[1;32m    843\u001b[0m             \u001b[0mtotal_docs\u001b[0m \u001b[0;34m=\u001b[0m \u001b[0mlen\u001b[0m\u001b[0;34m(\u001b[0m\u001b[0mchunk\u001b[0m\u001b[0;34m)\u001b[0m\u001b[0;34m\u001b[0m\u001b[0;34m\u001b[0m\u001b[0m\n\u001b[0;32m--> 844\u001b[0;31m         \u001b[0mcorpus_words\u001b[0m \u001b[0;34m=\u001b[0m \u001b[0msum\u001b[0m\u001b[0;34m(\u001b[0m\u001b[0mcnt\u001b[0m \u001b[0;32mfor\u001b[0m \u001b[0mdocument\u001b[0m \u001b[0;32min\u001b[0m \u001b[0mchunk\u001b[0m \u001b[0;32mfor\u001b[0m \u001b[0m_\u001b[0m\u001b[0;34m,\u001b[0m \u001b[0mcnt\u001b[0m \u001b[0;32min\u001b[0m \u001b[0mdocument\u001b[0m\u001b[0;34m)\u001b[0m\u001b[0;34m\u001b[0m\u001b[0;34m\u001b[0m\u001b[0m\n\u001b[0m\u001b[1;32m    845\u001b[0m         \u001b[0msubsample_ratio\u001b[0m \u001b[0;34m=\u001b[0m \u001b[0;36m1.0\u001b[0m \u001b[0;34m*\u001b[0m \u001b[0mtotal_docs\u001b[0m \u001b[0;34m/\u001b[0m \u001b[0mlen\u001b[0m\u001b[0;34m(\u001b[0m\u001b[0mchunk\u001b[0m\u001b[0;34m)\u001b[0m\u001b[0;34m\u001b[0m\u001b[0;34m\u001b[0m\u001b[0m\n\u001b[1;32m    846\u001b[0m         \u001b[0mperwordbound\u001b[0m \u001b[0;34m=\u001b[0m \u001b[0mself\u001b[0m\u001b[0;34m.\u001b[0m\u001b[0mbound\u001b[0m\u001b[0;34m(\u001b[0m\u001b[0mchunk\u001b[0m\u001b[0;34m,\u001b[0m \u001b[0msubsample_ratio\u001b[0m\u001b[0;34m=\u001b[0m\u001b[0msubsample_ratio\u001b[0m\u001b[0;34m)\u001b[0m \u001b[0;34m/\u001b[0m \u001b[0;34m(\u001b[0m\u001b[0msubsample_ratio\u001b[0m \u001b[0;34m*\u001b[0m \u001b[0mcorpus_words\u001b[0m\u001b[0;34m)\u001b[0m\u001b[0;34m\u001b[0m\u001b[0;34m\u001b[0m\u001b[0m\n",
            "\u001b[0;32m/usr/local/lib/python3.7/dist-packages/gensim/models/ldamodel.py\u001b[0m in \u001b[0;36m<genexpr>\u001b[0;34m(.0)\u001b[0m\n\u001b[1;32m    842\u001b[0m         \u001b[0;32mif\u001b[0m \u001b[0mtotal_docs\u001b[0m \u001b[0;32mis\u001b[0m \u001b[0;32mNone\u001b[0m\u001b[0;34m:\u001b[0m\u001b[0;34m\u001b[0m\u001b[0;34m\u001b[0m\u001b[0m\n\u001b[1;32m    843\u001b[0m             \u001b[0mtotal_docs\u001b[0m \u001b[0;34m=\u001b[0m \u001b[0mlen\u001b[0m\u001b[0;34m(\u001b[0m\u001b[0mchunk\u001b[0m\u001b[0;34m)\u001b[0m\u001b[0;34m\u001b[0m\u001b[0;34m\u001b[0m\u001b[0m\n\u001b[0;32m--> 844\u001b[0;31m         \u001b[0mcorpus_words\u001b[0m \u001b[0;34m=\u001b[0m \u001b[0msum\u001b[0m\u001b[0;34m(\u001b[0m\u001b[0mcnt\u001b[0m \u001b[0;32mfor\u001b[0m \u001b[0mdocument\u001b[0m \u001b[0;32min\u001b[0m \u001b[0mchunk\u001b[0m \u001b[0;32mfor\u001b[0m \u001b[0m_\u001b[0m\u001b[0;34m,\u001b[0m \u001b[0mcnt\u001b[0m \u001b[0;32min\u001b[0m \u001b[0mdocument\u001b[0m\u001b[0;34m)\u001b[0m\u001b[0;34m\u001b[0m\u001b[0;34m\u001b[0m\u001b[0m\n\u001b[0m\u001b[1;32m    845\u001b[0m         \u001b[0msubsample_ratio\u001b[0m \u001b[0;34m=\u001b[0m \u001b[0;36m1.0\u001b[0m \u001b[0;34m*\u001b[0m \u001b[0mtotal_docs\u001b[0m \u001b[0;34m/\u001b[0m \u001b[0mlen\u001b[0m\u001b[0;34m(\u001b[0m\u001b[0mchunk\u001b[0m\u001b[0;34m)\u001b[0m\u001b[0;34m\u001b[0m\u001b[0;34m\u001b[0m\u001b[0m\n\u001b[1;32m    846\u001b[0m         \u001b[0mperwordbound\u001b[0m \u001b[0;34m=\u001b[0m \u001b[0mself\u001b[0m\u001b[0;34m.\u001b[0m\u001b[0mbound\u001b[0m\u001b[0;34m(\u001b[0m\u001b[0mchunk\u001b[0m\u001b[0;34m,\u001b[0m \u001b[0msubsample_ratio\u001b[0m\u001b[0;34m=\u001b[0m\u001b[0msubsample_ratio\u001b[0m\u001b[0;34m)\u001b[0m \u001b[0;34m/\u001b[0m \u001b[0;34m(\u001b[0m\u001b[0msubsample_ratio\u001b[0m \u001b[0;34m*\u001b[0m \u001b[0mcorpus_words\u001b[0m\u001b[0;34m)\u001b[0m\u001b[0;34m\u001b[0m\u001b[0;34m\u001b[0m\u001b[0m\n",
            "\u001b[0;31mValueError\u001b[0m: too many values to unpack (expected 2)"
          ]
        }
      ]
    },
    {
      "cell_type": "markdown",
      "source": [
        "### **Visualization of topics**"
      ],
      "metadata": {
        "id": "4d1nMib0-x3M"
      }
    },
    {
      "cell_type": "code",
      "source": [
        "import pyLDAvis.gensim_models as gensimvis\n",
        "import pyLDAvis\n",
        "pyLDAvis.enable_notebook()\n",
        "import warnings\n",
        "import IPython\n",
        "warnings.filterwarnings(\"ignore\", category=DeprecationWarning)"
      ],
      "metadata": {
        "id": "D952o0dPTtzj",
        "outputId": "ebe7d307-590f-4ead-b245-4e78d787461f",
        "colab": {
          "base_uri": "https://localhost:8080/"
        }
      },
      "execution_count": 149,
      "outputs": [
        {
          "output_type": "stream",
          "name": "stderr",
          "text": [
            "/usr/local/lib/python3.7/dist-packages/past/types/oldstr.py:5: DeprecationWarning: Using or importing the ABCs from 'collections' instead of from 'collections.abc' is deprecated since Python 3.3,and in 3.9 it will stop working\n",
            "  from collections import Iterable\n",
            "/usr/local/lib/python3.7/dist-packages/past/builtins/misc.py:4: DeprecationWarning: Using or importing the ABCs from 'collections' instead of from 'collections.abc' is deprecated since Python 3.3,and in 3.9 it will stop working\n",
            "  from collections import Mapping\n"
          ]
        }
      ]
    },
    {
      "cell_type": "code",
      "source": [
        "def save_topics_html(path, model, doc, dictionary):\n",
        "  if not os.path.exists(f'topics/'):\n",
        "    os.makedirs(f'topics/')\n",
        "  return gensimvis.prepare(model, doc, dictionary)\n"
      ],
      "metadata": {
        "id": "4DtS1Szo-AYI"
      },
      "execution_count": 154,
      "outputs": []
    },
    {
      "cell_type": "code",
      "source": [
        "# save lda models clusters topics\n",
        "for index in range(kmeans.n_clusters):\n",
        "  lda = lda_models[index]\n",
        "  bow = bows[index]\n",
        "  dictionary = dictionaries[index]\n",
        "  vis = save_topics_html(path, lda, bow, dictionary)\n",
        "  pyLDAvis.save_html(vis, f'topics/lda_topics_cluster_{index}.html')\n",
        "  print(f'Visualization saved at: topics/lda_topics_cluster_{index}.html')"
      ],
      "metadata": {
        "id": "Lsd3R-6TJEnt",
        "outputId": "80015a2b-c585-44ff-fea3-55776e5d1caf",
        "colab": {
          "base_uri": "https://localhost:8080/"
        }
      },
      "execution_count": 156,
      "outputs": [
        {
          "output_type": "stream",
          "name": "stderr",
          "text": [
            "/usr/local/lib/python3.7/dist-packages/pyLDAvis/_prepare.py:247: FutureWarning: In a future version of pandas all arguments of DataFrame.drop except for the argument 'labels' will be keyword-only\n",
            "  by='saliency', ascending=False).head(R).drop('saliency', 1)\n"
          ]
        },
        {
          "output_type": "stream",
          "name": "stdout",
          "text": [
            "Visualization saved at: topics/lda_topics_cluster_0.html\n",
            "Visualization saved at: topics/lda_topics_cluster_1.html\n",
            "Visualization saved at: topics/lda_topics_cluster_2.html\n",
            "Visualization saved at: topics/lda_topics_cluster_3.html\n"
          ]
        }
      ]
    },
    {
      "cell_type": "code",
      "source": [
        "# show cluster topics\n",
        "IPython.display.HTML(filename='topics/lda_topics_cluster_1.html')"
      ],
      "metadata": {
        "id": "dk21biGeXR5j",
        "outputId": "5b3fc565-ab15-487e-ce20-31d93d08b807",
        "colab": {
          "base_uri": "https://localhost:8080/",
          "height": 882
        }
      },
      "execution_count": 159,
      "outputs": [
        {
          "output_type": "execute_result",
          "data": {
            "text/plain": [
              "<IPython.core.display.HTML object>"
            ],
            "text/html": [
              "\n",
              "<link rel=\"stylesheet\" type=\"text/css\" href=\"https://cdn.jsdelivr.net/gh/bmabey/pyLDAvis@3.3.1/pyLDAvis/js/ldavis.v1.0.0.css\">\n",
              "\n",
              "\n",
              "<div id=\"ldavis_el1191398072991700009609928345\"></div>\n",
              "<script type=\"text/javascript\">\n",
              "\n",
              "var ldavis_el1191398072991700009609928345_data = {\"mdsDat\": {\"x\": [-0.12963410215979773, 0.12490155117545497, 0.0015775509076245374, 0.001577550057734049, 0.0015774500189842046], \"y\": [-0.0, -0.0, -0.0, 0.0, 0.0], \"topics\": [1, 2, 3, 4, 5], \"cluster\": [1, 1, 1, 1, 1], \"Freq\": [59.35963420906455, 39.16457865264727, 0.49192908835775623, 0.4919290320088273, 0.4919290179215951]}, \"tinfo\": {\"Term\": [\"ar\", \"valor\", \"cobrado\", \"iten\", \"cobrando\", \"dest\", \"pago\", \"venho\", \"cobran\\u00e7a\", \"fiz\", \"assinatura\", \"amazon\", \"prime\", \"sendo\", \"cart\\u00e3o\", \"digit\", \"compra\", \"entend\", \"recebi\", \"ent\\u00e3o\", \"problema\", \"obrigada\", \"email\", \"aparec\", \"ajuda\", \"preciso\", \"pedido\", \"ol\\u00e1\", \"solicitei\", \"un\", \"ar\", \"iten\", \"cobrado\", \"pago\", \"dest\", \"cobrando\", \"venho\", \"email\", \"obrigada\", \"sabonet\", \"preciso\", \"estornar\", \"problema\", \"aparec\", \"t\\u00e3o\", \"ent\\u00e3o\", \"dizem\", \"precisa\", \"verificar\", \"ol\\u00e1\", \"parec\", \"enviar\", \"pedido\", \"compra\", \"ajuda\", \"recebi\", \"entend\", \"puderem\", \"un\", \"brasileiro\", \"valor\", \"fiz\", \"assinatura\", \"amazon\", \"ado\", \"consta\", \"televis\\u00e3o\", \"assistir\", \"contrato\", \"v\\u00eddeo\", \"casa\", \"educa\\u00e7\\u00e3o\", \"veio\", \"terminei\", \"nenhum\", \"poder\", \"reclam\", \"servi\\u00e7o\", \"aqui\", \"poi\", \"tard\", \"desliguei\", \"conte\\u00fado\", \"assim\", \"motivo\", \"credito\", \"quaisquer\", \"ter\", \"an\\u00e9i\", \"anual\", \"novament\", \"apena\", \"outro\", \"absolutament\", \"cobran\\u00e7a\", \"digit\", \"sendo\", \"prime\", \"cart\\u00e3o\", \"certeza\", \"nada\", \"contratei\", \"agora\", \"terminei\", \"conte\\u00fado\", \"anual\", \"bloquei\", \"absolutament\", \"nada\", \"contrato\", \"assistir\", \"poi\", \"an\\u00e9i\", \"la\", \"v\\u00eddeo\", \"educa\\u00e7\\u00e3o\", \"poder\", \"servi\\u00e7o\", \"desliguei\", \"apena\", \"outro\", \"aqui\", \"tard\", \"ter\", \"ado\", \"televis\\u00e3o\", \"veio\", \"assim\", \"motivo\", \"credito\", \"quaisquer\", \"digit\", \"sendo\", \"cart\\u00e3o\", \"prime\", \"cobran\\u00e7a\", \"amazon\", \"fiz\", \"assinatura\", \"valor\", \"ajuda\", \"aparec\", \"compra\", \"dizem\", \"email\", \"entend\", \"ent\\u00e3o\", \"enviar\", \"estornar\", \"obrigada\", \"ol\\u00e1\", \"parec\", \"pedido\", \"precisa\", \"preciso\", \"problema\", \"puderem\", \"recebi\", \"sabonet\", \"t\\u00e3o\", \"un\", \"bloquei\", \"la\", \"reclam\", \"ado\", \"nenhum\", \"contratei\", \"ter\", \"seri\", \"conte\\u00fado\", \"apena\", \"certeza\", \"v\\u00eddeo\", \"tard\", \"quaisquer\", \"veio\", \"desliguei\", \"motivo\", \"an\\u00e9i\", \"assistir\", \"poi\", \"credito\", \"aqui\", \"assim\", \"anual\", \"absolutament\", \"televis\\u00e3o\", \"educa\\u00e7\\u00e3o\", \"terminei\", \"servi\\u00e7o\", \"casa\", \"prime\", \"cobran\\u00e7a\", \"digit\", \"sendo\", \"assinatura\", \"cart\\u00e3o\", \"amazon\", \"valor\", \"fiz\", \"fatura\", \"m\\u00ea\", \"solicitei\", \"video\", \"ar\", \"brasileiro\", \"canal\", \"indevidament\", \"recebendo\", \"conhe\\u00e7o\", \"paguei\", \"por\\u00e9m\", \"aguardo\", \"retorno\", \"relativa\", \"correta\", \"quero\", \"cobrando\", \"venho\", \"ajuda\", \"aparec\", \"contratei\", \"agora\", \"v\\u00eddeo\", \"contrato\", \"aqui\", \"poder\", \"servi\\u00e7o\", \"bloquei\", \"outro\", \"desliguei\", \"poi\", \"tard\", \"certeza\", \"anual\", \"seri\", \"la\", \"ado\", \"consta\", \"veio\", \"terminei\", \"conte\\u00fado\", \"assim\", \"credito\", \"quaisquer\", \"an\\u00e9i\", \"novament\", \"nada\", \"absolutament\", \"nenhum\", \"reclam\", \"valor\", \"cart\\u00e3o\", \"cobran\\u00e7a\", \"prime\", \"sendo\", \"fiz\", \"digit\", \"assinatura\", \"amazon\", \"ar\", \"compra\", \"entend\", \"ent\\u00e3o\", \"recebi\", \"cobrado\", \"ajuda\", \"problema\", \"un\", \"aparec\", \"ol\\u00e1\", \"pedido\", \"dizem\", \"precisa\", \"t\\u00e3o\", \"verificar\", \"puderem\", \"enviar\", \"preciso\", \"iten\", \"parec\"], \"Freq\": [4.0, 5.0, 1.0, 1.0, 1.0, 1.0, 1.0, 1.0, 2.0, 2.0, 2.0, 2.0, 1.0, 1.0, 1.0, 1.0, 1.0, 1.0, 1.0, 1.0, 1.0, 1.0, 1.0, 1.0, 1.0, 1.0, 1.0, 1.0, 1.0, 1.0, 4.072322860358958, 1.7228939636828133, 1.7228939636828133, 1.7228939636828133, 1.7228935689624267, 1.7228935689624267, 1.7228935689624267, 0.9397481912235717, 0.9397481912235717, 0.9397480596501094, 0.9397479938633784, 0.9397480596501094, 0.9397478622899161, 0.9397478622899161, 0.9397478622899161, 0.9397477965031851, 0.9397478622899161, 0.9397478622899161, 0.9397478622899161, 0.9397478622899161, 0.9397478622899161, 0.9397478622899161, 0.9397478622899161, 0.9397477965031851, 0.9397477965031851, 0.9397477965031851, 0.9397477965031851, 0.9397478622899161, 0.9397477965031851, 0.9397475991429918, 4.8558301966923185, 1.7229039632659404, 1.7229015949436208, 1.7229017265170832, 0.8577677829920058, 0.8577678698021636, 0.8577678698021636, 0.8577678698021636, 0.8577677829920058, 0.8577677829920058, 0.8577679566123213, 0.8577677829920058, 0.8577677829920058, 0.8577677829920058, 0.8577677829920058, 0.8577677829920058, 0.8577677829920058, 0.8577677829920058, 0.8577677829920058, 0.8577677829920058, 0.8577677829920058, 0.8577677829920058, 0.8577677829920058, 0.8577677829920058, 0.8577677829920058, 0.8577677829920058, 0.8577677829920058, 0.8577677829920058, 0.8577677829920058, 0.8577677829920058, 0.8577677829920058, 0.8577677829920058, 0.8577677829920058, 0.8577677829920058, 1.5728740098249798, 0.8578565897833696, 0.8578565897833696, 0.8578564161630542, 0.8578517284145364, 0.8577677829920058, 0.8577677829920058, 0.006432875933520743, 0.006432875933520743, 0.006432875933520743, 0.006432875933520743, 0.006432875933520743, 0.00643287429794429, 0.006432875933520743, 0.006432875933520743, 0.006432875388328592, 0.006432875933520743, 0.006432875388328592, 0.006432875388328592, 0.006432874843136441, 0.006432874843136441, 0.006432874843136441, 0.006432874843136441, 0.006432874843136441, 0.006432874843136441, 0.006432874843136441, 0.006432874843136441, 0.00643287429794429, 0.00643287429794429, 0.00643287429794429, 0.006432873752752139, 0.00643287429794429, 0.006432873752752139, 0.006432873752752139, 0.006432873752752139, 0.006432873752752139, 0.006432873752752139, 0.006433030768091619, 0.006433030768091619, 0.006433030222899468, 0.006433029677707317, 0.0064330225902093545, 0.006433010595982033, 0.006433009505597731, 0.006433008415213429, 0.006432996966178259, 0.006432939175810256, 0.006432939175810256, 0.006432939175810256, 0.006432939175810256, 0.006432939175810256, 0.006432939175810256, 0.006432939175810256, 0.006432939175810256, 0.006432939175810256, 0.006432939175810256, 0.006432939175810256, 0.006432939175810256, 0.006432939175810256, 0.006432939175810256, 0.006432939175810256, 0.006432939175810256, 0.006432939175810256, 0.006432939175810256, 0.006432939175810256, 0.006432939175810256, 0.006432939175810256, 0.006432879558191757, 0.006432877377423403, 0.006432877377423403, 0.006432876832231315, 0.006432876832231315, 0.006432875196655049, 0.006432876287039226, 0.006432876287039226, 0.006432875196655049, 0.006432875196655049, 0.006432875196655049, 0.006432874651462961, 0.006432874651462961, 0.006432874651462961, 0.006432874106270872, 0.006432874106270872, 0.006432874106270872, 0.006432874106270872, 0.006432874106270872, 0.006432873561078784, 0.006432873561078784, 0.006432873015886695, 0.006432873015886695, 0.006432873015886695, 0.006432873015886695, 0.006432873015886695, 0.006432872470694607, 0.006432872470694607, 0.006432872470694607, 0.006432873561078784, 0.006433049658123377, 0.006433046932162934, 0.006433039844665783, 0.006433037118705341, 0.006433032211976544, 0.00643303003120819, 0.006433029486016101, 0.006433028395631924, 0.00643302621486357, 0.006432943345666115, 0.006432943345666115, 0.006432943345666115, 0.006432943345666115, 0.006432942800474026, 0.006432942255281938, 0.006432941710089849, 0.006432941710089849, 0.006432941710089849, 0.0064329411648977606, 0.0064329411648977606, 0.0064329411648977606, 0.006432940619705672, 0.006432940619705672, 0.0064329400745135835, 0.006432939529321495, 0.0064329389841294065, 0.006432937348553141, 0.00643293026105599, 0.006432928080287636, 0.006432928080287636, 0.006432872831670334, 0.006432873376862407, 0.006432872831670334, 0.0064328711960941155, 0.0064328711960941155, 0.006432870650902043, 0.006432870650902043, 0.006432869015325824, 0.006432870650902043, 0.00643287010570997, 0.006432869560517897, 0.006432869560517897, 0.006432869560517897, 0.006432869015325824, 0.006432869015325824, 0.006432868470133751, 0.006432868470133751, 0.006432869015325824, 0.006432868470133751, 0.006432868470133751, 0.006432868470133751, 0.006432868470133751, 0.006432868470133751, 0.006432868470133751, 0.006432868470133751, 0.006432868470133751, 0.006432868470133751, 0.006432867924941678, 0.006432867379749605, 0.006432867379749605, 0.006433043476789155, 0.00643303693448428, 0.00643303693448428, 0.00643303693448428, 0.0064330363892922075, 0.006433030937371478, 0.006433028756603187, 0.006433027666219041, 0.006433015126801364, 0.006432961697978219, 0.006432948068176396, 0.006432947522984323, 0.006432946432600177, 0.006432946432600177, 0.006432945342216031, 0.0064329442518318855, 0.006432943706639813, 0.006432943706639813, 0.00643294316144774, 0.006432942616255667, 0.006432942616255667, 0.006432942071063594, 0.006432942071063594, 0.006432942071063594, 0.006432942071063594, 0.006432940980679448, 0.006432940435487375, 0.006432940435487375, 0.006432939890295302, 0.006432939890295302], \"Total\": [4.0, 5.0, 1.0, 1.0, 1.0, 1.0, 1.0, 1.0, 2.0, 2.0, 2.0, 2.0, 1.0, 1.0, 1.0, 1.0, 1.0, 1.0, 1.0, 1.0, 1.0, 1.0, 1.0, 1.0, 1.0, 1.0, 1.0, 1.0, 1.0, 1.0, 4.234587433066354, 1.8851573951610263, 1.8851574223154863, 1.8851574233532988, 1.8851573493168472, 1.88515742636612, 1.8851575538553957, 1.1020117140311976, 1.1020117140311976, 1.1020115840933116, 1.1020115096360792, 1.1020116052506588, 1.102011381333769, 1.102011391639847, 1.1020114014007325, 1.1020113291242684, 1.1020114122520022, 1.1020114122520022, 1.1020114122520022, 1.1020114127971943, 1.1020114209225036, 1.1020114214676957, 1.102011423648464, 1.102011352462384, 1.102011359497309, 1.1020113616780776, 1.1020113627684616, 1.1020114437154271, 1.1020113698033867, 1.1020113585503553, 5.732568385265735, 2.599962913191425, 2.5999628035687827, 2.5999630956779516, 1.0336955795643272, 1.0336956932707375, 1.0336956943611217, 1.0336956943611222, 1.033695595465818, 1.0336955992821626, 1.0336958118838768, 1.033695607550964, 1.0336956097317325, 1.0336956102769248, 1.0336956108221165, 1.0336956108221165, 1.0336956113673086, 1.0336956113673086, 1.0336956119125007, 1.0336956119125007, 1.0336956119125007, 1.0336956124576928, 1.0336956130028854, 1.0336956250880311, 1.0336956250880311, 1.0336956256332233, 1.0336956267236075, 1.0336956278139915, 1.0336956278139917, 1.033695627813992, 1.0336956404443296, 1.033695641534714, 1.0336956426250978, 1.0336956431702904, 2.5316084258123026, 1.8168078975356288, 1.8168079024423573, 1.8168075434560744, 1.8168084284979769, 1.0336956448058663, 1.0336956579813967, 1.033695406273997, 1.033695560176477, 1.0336956102769248, 1.0336956130028854, 1.033695627813992, 1.0336953722902473, 1.0336956431702904, 1.0336956579813967, 1.033695595465818, 1.0336956943611222, 1.0336956119125007, 1.0336956278139917, 1.0336955766231597, 1.0336955992821626, 1.033695607550964, 1.0336956108221165, 1.0336956113673086, 1.0336956124576928, 1.033695641534714, 1.0336956426250978, 1.0336956119125007, 1.0336956119125007, 1.0336956278139915, 1.0336955795643272, 1.0336956943611217, 1.0336956097317325, 1.0336956250880311, 1.0336956250880311, 1.0336956256332233, 1.0336956267236075, 1.8168078975356288, 1.8168079024423573, 1.8168084284979769, 1.8168075434560744, 2.5316084258123026, 2.5999630956779516, 2.599962913191425, 2.5999628035687827, 5.732568385265735, 1.102011359497309, 1.102011391639847, 1.102011352462384, 1.1020114122520022, 1.1020117140311976, 1.1020113627684616, 1.1020113291242684, 1.1020114214676957, 1.1020116052506588, 1.1020117140311976, 1.1020114127971943, 1.1020114209225036, 1.102011423648464, 1.1020114122520022, 1.1020115096360792, 1.102011381333769, 1.1020114437154271, 1.1020113616780776, 1.1020115840933116, 1.1020114014007325, 1.1020113698033867, 1.0336953722902473, 1.0336955766231597, 1.0336956113673086, 1.0336955795643272, 1.0336956108221165, 1.033695406273997, 1.0336956278139915, 1.0336956601621645, 1.0336956130028854, 1.033695641534714, 1.0336956448058663, 1.0336955992821626, 1.0336956119125007, 1.0336956267236075, 1.0336956097317325, 1.0336956124576928, 1.0336956250880311, 1.0336956278139917, 1.0336956943611222, 1.0336956119125007, 1.0336956256332233, 1.0336956119125007, 1.0336956250880311, 1.033695627813992, 1.0336956431702904, 1.0336956943611217, 1.033695607550964, 1.0336956102769248, 1.0336956113673086, 1.0336958118838768, 1.8168075434560744, 2.5316084258123026, 1.8168078975356288, 1.8168079024423573, 2.5999628035687827, 1.8168084284979769, 2.5999630956779516, 5.732568385265735, 2.599962913191425, 1.1020113361687027, 1.1020113161017395, 1.102011338894663, 1.1020113997746657, 4.234587433066354, 1.1020113585503553, 1.1020113161017397, 1.1020113481103568, 1.1020113790285897, 1.1020113801189737, 1.1020114218884767, 1.1020113567808583, 1.1020114094016304, 1.1020113654513595, 1.102011400185937, 1.1020113990955527, 1.1020113990955527, 1.88515742636612, 1.8851575538553957, 1.102011359497309, 1.102011391639847, 1.033695406273997, 1.033695560176477, 1.0336955992821626, 1.033695595465818, 1.0336956119125007, 1.0336956108221165, 1.0336956113673086, 1.0336953722902473, 1.0336956426250978, 1.0336956124576928, 1.0336956119125007, 1.0336956119125007, 1.0336956448058663, 1.033695627813992, 1.0336956601621645, 1.0336955766231597, 1.0336955795643272, 1.0336956932707375, 1.0336956097317325, 1.0336956102769248, 1.0336956130028854, 1.0336956250880311, 1.0336956256332233, 1.0336956267236075, 1.0336956278139917, 1.0336956404443296, 1.0336956579813967, 1.0336956431702904, 1.0336956108221165, 1.0336956113673086, 5.732568385265735, 1.8168084284979769, 2.5316084258123026, 1.8168075434560744, 1.8168079024423573, 2.599962913191425, 1.8168078975356288, 2.5999628035687827, 2.5999630956779516, 4.234587433066354, 1.102011352462384, 1.1020113627684616, 1.1020113291242684, 1.1020113616780776, 1.8851574223154863, 1.102011359497309, 1.102011381333769, 1.1020113698033867, 1.102011391639847, 1.1020114127971943, 1.102011423648464, 1.1020114122520022, 1.1020114122520022, 1.1020114014007325, 1.1020114122520022, 1.1020114437154271, 1.1020114214676957, 1.1020115096360792, 1.8851573951610263, 1.1020114209225036], \"Category\": [\"Default\", \"Default\", \"Default\", \"Default\", \"Default\", \"Default\", \"Default\", \"Default\", \"Default\", \"Default\", \"Default\", \"Default\", \"Default\", \"Default\", \"Default\", \"Default\", \"Default\", \"Default\", \"Default\", \"Default\", \"Default\", \"Default\", \"Default\", \"Default\", \"Default\", \"Default\", \"Default\", \"Default\", \"Default\", \"Default\", \"Topic1\", \"Topic1\", \"Topic1\", \"Topic1\", \"Topic1\", \"Topic1\", \"Topic1\", \"Topic1\", \"Topic1\", \"Topic1\", \"Topic1\", \"Topic1\", \"Topic1\", \"Topic1\", \"Topic1\", \"Topic1\", \"Topic1\", \"Topic1\", \"Topic1\", \"Topic1\", \"Topic1\", \"Topic1\", \"Topic1\", \"Topic1\", \"Topic1\", \"Topic1\", \"Topic1\", \"Topic1\", \"Topic1\", \"Topic1\", \"Topic1\", \"Topic1\", \"Topic1\", \"Topic1\", \"Topic2\", \"Topic2\", \"Topic2\", \"Topic2\", \"Topic2\", \"Topic2\", \"Topic2\", \"Topic2\", \"Topic2\", \"Topic2\", \"Topic2\", \"Topic2\", \"Topic2\", \"Topic2\", \"Topic2\", \"Topic2\", \"Topic2\", \"Topic2\", \"Topic2\", \"Topic2\", \"Topic2\", \"Topic2\", \"Topic2\", \"Topic2\", \"Topic2\", \"Topic2\", \"Topic2\", \"Topic2\", \"Topic2\", \"Topic2\", \"Topic2\", \"Topic2\", \"Topic2\", \"Topic2\", \"Topic2\", \"Topic2\", \"Topic2\", \"Topic3\", \"Topic3\", \"Topic3\", \"Topic3\", \"Topic3\", \"Topic3\", \"Topic3\", \"Topic3\", \"Topic3\", \"Topic3\", \"Topic3\", \"Topic3\", \"Topic3\", \"Topic3\", \"Topic3\", \"Topic3\", \"Topic3\", \"Topic3\", \"Topic3\", \"Topic3\", \"Topic3\", \"Topic3\", \"Topic3\", \"Topic3\", \"Topic3\", \"Topic3\", \"Topic3\", \"Topic3\", \"Topic3\", \"Topic3\", \"Topic3\", \"Topic3\", \"Topic3\", \"Topic3\", \"Topic3\", \"Topic3\", \"Topic3\", \"Topic3\", \"Topic3\", \"Topic3\", \"Topic3\", \"Topic3\", \"Topic3\", \"Topic3\", \"Topic3\", \"Topic3\", \"Topic3\", \"Topic3\", \"Topic3\", \"Topic3\", \"Topic3\", \"Topic3\", \"Topic3\", \"Topic3\", \"Topic3\", \"Topic3\", \"Topic3\", \"Topic3\", \"Topic3\", \"Topic3\", \"Topic4\", \"Topic4\", \"Topic4\", \"Topic4\", \"Topic4\", \"Topic4\", \"Topic4\", \"Topic4\", \"Topic4\", \"Topic4\", \"Topic4\", \"Topic4\", \"Topic4\", \"Topic4\", \"Topic4\", \"Topic4\", \"Topic4\", \"Topic4\", \"Topic4\", \"Topic4\", \"Topic4\", \"Topic4\", \"Topic4\", \"Topic4\", \"Topic4\", \"Topic4\", \"Topic4\", \"Topic4\", \"Topic4\", \"Topic4\", \"Topic4\", \"Topic4\", \"Topic4\", \"Topic4\", \"Topic4\", \"Topic4\", \"Topic4\", \"Topic4\", \"Topic4\", \"Topic4\", \"Topic4\", \"Topic4\", \"Topic4\", \"Topic4\", \"Topic4\", \"Topic4\", \"Topic4\", \"Topic4\", \"Topic4\", \"Topic4\", \"Topic4\", \"Topic4\", \"Topic4\", \"Topic4\", \"Topic4\", \"Topic4\", \"Topic4\", \"Topic4\", \"Topic4\", \"Topic4\", \"Topic5\", \"Topic5\", \"Topic5\", \"Topic5\", \"Topic5\", \"Topic5\", \"Topic5\", \"Topic5\", \"Topic5\", \"Topic5\", \"Topic5\", \"Topic5\", \"Topic5\", \"Topic5\", \"Topic5\", \"Topic5\", \"Topic5\", \"Topic5\", \"Topic5\", \"Topic5\", \"Topic5\", \"Topic5\", \"Topic5\", \"Topic5\", \"Topic5\", \"Topic5\", \"Topic5\", \"Topic5\", \"Topic5\", \"Topic5\", \"Topic5\", \"Topic5\", \"Topic5\", \"Topic5\", \"Topic5\", \"Topic5\", \"Topic5\", \"Topic5\", \"Topic5\", \"Topic5\", \"Topic5\", \"Topic5\", \"Topic5\", \"Topic5\", \"Topic5\", \"Topic5\", \"Topic5\", \"Topic5\", \"Topic5\", \"Topic5\", \"Topic5\", \"Topic5\", \"Topic5\", \"Topic5\", \"Topic5\", \"Topic5\", \"Topic5\", \"Topic5\", \"Topic5\", \"Topic5\"], \"logprob\": [30.0, 29.0, 28.0, 27.0, 26.0, 25.0, 24.0, 23.0, 22.0, 21.0, 20.0, 19.0, 18.0, 17.0, 16.0, 15.0, 14.0, 13.0, 12.0, 11.0, 10.0, 9.0, 8.0, 7.0, 6.0, 5.0, 4.0, 3.0, 2.0, 1.0, -2.8534, -3.7136, -3.7136, -3.7136, -3.7136, -3.7136, -3.7136, -4.3197, -4.3197, -4.3197, -4.3197, -4.3197, -4.3197, -4.3197, -4.3197, -4.3197, -4.3197, -4.3197, -4.3197, -4.3197, -4.3197, -4.3197, -4.3197, -4.3197, -4.3197, -4.3197, -4.3197, -4.3197, -4.3197, -4.3197, -2.6774, -3.7136, -3.7136, -3.7136, -3.9951, -3.9951, -3.9951, -3.9951, -3.9951, -3.9951, -3.9951, -3.9951, -3.9951, -3.9951, -3.9951, -3.9951, -3.9951, -3.9951, -3.9951, -3.9951, -3.9951, -3.9951, -3.9951, -3.9951, -3.9951, -3.9951, -3.9951, -3.9951, -3.9951, -3.9951, -3.9951, -3.9951, -3.9951, -3.9951, -3.3888, -3.995, -3.995, -3.995, -3.9951, -3.9951, -3.9951, -4.5109, -4.5109, -4.5109, -4.5109, -4.5109, -4.5109, -4.5109, -4.5109, -4.5109, -4.5109, -4.5109, -4.5109, -4.5109, -4.5109, -4.5109, -4.5109, -4.5109, -4.5109, -4.5109, -4.5109, -4.5109, -4.5109, -4.5109, -4.5109, -4.5109, -4.5109, -4.5109, -4.5109, -4.5109, -4.5109, -4.5108, -4.5108, -4.5108, -4.5108, -4.5108, -4.5108, -4.5108, -4.5108, -4.5108, -4.5109, -4.5109, -4.5109, -4.5109, -4.5109, -4.5109, -4.5109, -4.5109, -4.5109, -4.5109, -4.5109, -4.5109, -4.5109, -4.5109, -4.5109, -4.5109, -4.5109, -4.5109, -4.5109, -4.5109, -4.5109, -4.5109, -4.5109, -4.5109, -4.5109, -4.5109, -4.5109, -4.5109, -4.5109, -4.5109, -4.5109, -4.5109, -4.5109, -4.5109, -4.5109, -4.5109, -4.5109, -4.5109, -4.5109, -4.5109, -4.5109, -4.5109, -4.5109, -4.5109, -4.5109, -4.5109, -4.5109, -4.5109, -4.5109, -4.5109, -4.5109, -4.5108, -4.5108, -4.5108, -4.5108, -4.5108, -4.5108, -4.5108, -4.5108, -4.5108, -4.5109, -4.5109, -4.5109, -4.5109, -4.5109, -4.5109, -4.5109, -4.5109, -4.5109, -4.5109, -4.5109, -4.5109, -4.5109, -4.5109, -4.5109, -4.5109, -4.5109, -4.5109, -4.5109, -4.5109, -4.5109, -4.5109, -4.5109, -4.5109, -4.5109, -4.5109, -4.5109, -4.5109, -4.5109, -4.5109, -4.5109, -4.5109, -4.5109, -4.5109, -4.5109, -4.5109, -4.5109, -4.5109, -4.5109, -4.5109, -4.5109, -4.5109, -4.5109, -4.5109, -4.5109, -4.5109, -4.5109, -4.5109, -4.5109, -4.5109, -4.5109, -4.5108, -4.5108, -4.5108, -4.5108, -4.5108, -4.5108, -4.5108, -4.5108, -4.5108, -4.5109, -4.5109, -4.5109, -4.5109, -4.5109, -4.5109, -4.5109, -4.5109, -4.5109, -4.5109, -4.5109, -4.5109, -4.5109, -4.5109, -4.5109, -4.5109, -4.5109, -4.5109, -4.5109, -4.5109, -4.5109], \"loglift\": [30.0, 29.0, 28.0, 27.0, 26.0, 25.0, 24.0, 23.0, 22.0, 21.0, 20.0, 19.0, 18.0, 17.0, 16.0, 15.0, 14.0, 13.0, 12.0, 11.0, 10.0, 9.0, 8.0, 7.0, 6.0, 5.0, 4.0, 3.0, 2.0, 1.0, 0.4825, 0.4315, 0.4315, 0.4315, 0.4315, 0.4315, 0.4315, 0.3623, 0.3623, 0.3623, 0.3623, 0.3623, 0.3623, 0.3623, 0.3623, 0.3623, 0.3623, 0.3623, 0.3623, 0.3623, 0.3623, 0.3623, 0.3623, 0.3623, 0.3623, 0.3623, 0.3623, 0.3623, 0.3623, 0.3623, 0.3556, 0.1101, 0.1101, 0.1101, 0.7508, 0.7508, 0.7508, 0.7508, 0.7508, 0.7508, 0.7508, 0.7508, 0.7508, 0.7508, 0.7508, 0.7508, 0.7508, 0.7508, 0.7508, 0.7508, 0.7508, 0.7508, 0.7508, 0.7508, 0.7508, 0.7508, 0.7508, 0.7508, 0.7508, 0.7508, 0.7508, 0.7508, 0.7508, 0.7508, 0.4614, 0.187, 0.187, 0.187, 0.187, 0.7508, 0.7508, 0.2351, 0.2351, 0.2351, 0.2351, 0.2351, 0.2351, 0.2351, 0.2351, 0.2351, 0.2351, 0.2351, 0.2351, 0.2351, 0.2351, 0.2351, 0.2351, 0.2351, 0.2351, 0.2351, 0.2351, 0.2351, 0.2351, 0.2351, 0.2351, 0.2351, 0.2351, 0.2351, 0.2351, 0.2351, 0.2351, -0.3288, -0.3288, -0.3288, -0.3288, -0.6606, -0.6872, -0.6872, -0.6872, -1.4779, 0.1711, 0.1711, 0.1711, 0.1711, 0.1711, 0.1711, 0.1711, 0.1711, 0.1711, 0.1711, 0.1711, 0.1711, 0.1711, 0.1711, 0.1711, 0.1711, 0.1711, 0.1711, 0.1711, 0.1711, 0.1711, 0.2351, 0.2351, 0.2351, 0.2351, 0.2351, 0.2351, 0.2351, 0.2351, 0.2351, 0.2351, 0.2351, 0.2351, 0.2351, 0.2351, 0.2351, 0.2351, 0.2351, 0.2351, 0.2351, 0.2351, 0.2351, 0.2351, 0.2351, 0.2351, 0.2351, 0.2351, 0.2351, 0.2351, 0.2351, 0.2351, -0.3288, -0.6606, -0.3288, -0.3288, -0.6872, -0.3288, -0.6872, -1.4779, -0.6872, 0.1711, 0.1711, 0.1711, 0.1711, -1.175, 0.1711, 0.1711, 0.1711, 0.1711, 0.1711, 0.1711, 0.1711, 0.1711, 0.1711, 0.1711, 0.1711, 0.1711, -0.3657, -0.3657, 0.1711, 0.1711, 0.2351, 0.2351, 0.2351, 0.2351, 0.2351, 0.2351, 0.2351, 0.2351, 0.2351, 0.2351, 0.2351, 0.2351, 0.2351, 0.2351, 0.2351, 0.2351, 0.2351, 0.2351, 0.2351, 0.2351, 0.2351, 0.2351, 0.2351, 0.2351, 0.2351, 0.2351, 0.2351, 0.2351, 0.2351, 0.2351, -1.4779, -0.3288, -0.6606, -0.3288, -0.3288, -0.6872, -0.3288, -0.6872, -0.6872, -1.175, 0.1711, 0.1711, 0.1711, 0.1711, -0.3657, 0.1711, 0.1711, 0.1711, 0.1711, 0.1711, 0.1711, 0.1711, 0.1711, 0.1711, 0.1711, 0.1711, 0.1711, 0.1711, -0.3657, 0.1711]}, \"token.table\": {\"Topic\": [2, 2, 2, 1, 1, 1, 2, 2, 2, 1, 2, 2, 1, 2, 1, 2, 2, 2, 1, 1, 1, 2, 2, 2, 1, 1, 1, 2, 1, 1, 2, 2, 2, 2, 1, 2, 2, 1, 1, 2, 1, 2, 1, 1, 1, 1, 1, 1, 1, 2, 1, 1, 2, 2, 1, 2, 2, 2, 1, 1, 2, 1, 1, 1, 1, 2, 2, 1, 1, 1, 1, 2, 1, 1, 2, 1, 1, 1, 2, 1, 1, 1, 1, 2, 2, 2, 1, 2, 2, 2, 2, 1, 1, 1, 2, 2, 1, 1, 1, 2], \"Freq\": [0.967402742390451, 0.9674028019172444, 0.9674028200617169, 0.907431621368584, 0.9074316624614084, 0.7692416878242233, 0.38462084391211165, 0.9674027567619206, 0.9674027567619208, 0.9074316359942077, 0.9674027439211347, 0.9674027716436191, 0.9446020570423117, 0.9674027593130603, 0.7692417742495175, 0.3846208871247587, 0.9674026944825886, 0.9674029958984994, 0.9074316632411608, 0.9074316981947199, 0.5504157644329828, 0.5504157644329828, 0.9674025844968189, 0.9674027408597677, 1.0609193568266866, 1.0609193545470914, 0.3950057954476652, 0.7900115908953304, 0.9074316682541924, 0.9074316454808656, 0.9674026955030447, 0.9674027706231628, 0.9674029640941778, 0.9674027870355454, 0.9074316298549399, 0.9674027588028323, 0.9674027711333911, 1.060919397908493, 0.5504159252920626, 0.5504159252920626, 0.9074316190214964, 0.9674027757254422, 0.9074313705268747, 0.9074316597678361, 0.9074316874715496, 0.9074316114329981, 0.9074314601002268, 0.907431681670935, 0.7692417418158565, 0.38462087090792824, 0.9074316718377919, 1.0609193721085364, 0.9674028046697896, 0.9674027593130603, 0.9074316981947201, 0.9674027285292097, 0.9674027726640749, 0.9674027449415906, 0.9074313705268747, 0.9074316185725676, 0.9674027429006793, 1.0609193562426316, 0.9074316110865136, 0.9074316118819269, 0.9074316096372835, 0.9674027726640749, 0.9674027716436191, 0.9074316646982216, 0.9074316190214964, 0.9074315388323242, 0.5504160325632077, 0.5504160325632077, 0.907431644480564, 0.9074315931135016, 0.9674027577823766, 0.9074316298549399, 0.9074316463787229, 0.9074316606656934, 0.967402772153847, 0.9074316289570824, 0.9074316575586515, 0.9074314775218607, 0.5504159238055315, 0.5504159238055315, 0.9674027264882988, 0.967402772153847, 0.9074316794262913, 0.9674027716436191, 0.9674026944825891, 0.967402756761921, 0.9674027731743025, 0.9074316279567807, 0.9074316539750522, 0.8722093944577031, 0.1744418788915406, 0.9674027736845305, 1.060919282799327, 0.9074316190214964, 0.9074316292957364, 0.96740278346395], \"Term\": [\"absolutament\", \"ado\", \"agora\", \"aguardo\", \"ajuda\", \"amazon\", \"amazon\", \"anual\", \"an\\u00e9i\", \"aparec\", \"apena\", \"aqui\", \"ar\", \"assim\", \"assinatura\", \"assinatura\", \"assistir\", \"bloquei\", \"brasileiro\", \"canal\", \"cart\\u00e3o\", \"cart\\u00e3o\", \"casa\", \"certeza\", \"cobrado\", \"cobrando\", \"cobran\\u00e7a\", \"cobran\\u00e7a\", \"compra\", \"conhe\\u00e7o\", \"consta\", \"conte\\u00fado\", \"contratei\", \"contrato\", \"correta\", \"credito\", \"desliguei\", \"dest\", \"digit\", \"digit\", \"dizem\", \"educa\\u00e7\\u00e3o\", \"email\", \"entend\", \"ent\\u00e3o\", \"enviar\", \"estornar\", \"fatura\", \"fiz\", \"fiz\", \"indevidament\", \"iten\", \"la\", \"motivo\", \"m\\u00ea\", \"nada\", \"nenhum\", \"novament\", \"obrigada\", \"ol\\u00e1\", \"outro\", \"pago\", \"paguei\", \"parec\", \"pedido\", \"poder\", \"poi\", \"por\\u00e9m\", \"precisa\", \"preciso\", \"prime\", \"prime\", \"problema\", \"puderem\", \"quaisquer\", \"quero\", \"recebendo\", \"recebi\", \"reclam\", \"relativa\", \"retorno\", \"sabonet\", \"sendo\", \"sendo\", \"seri\", \"servi\\u00e7o\", \"solicitei\", \"tard\", \"televis\\u00e3o\", \"ter\", \"terminei\", \"t\\u00e3o\", \"un\", \"valor\", \"valor\", \"veio\", \"venho\", \"verificar\", \"video\", \"v\\u00eddeo\"]}, \"R\": 30, \"lambda.step\": 0.01, \"plot.opts\": {\"xlab\": \"PC1\", \"ylab\": \"PC2\"}, \"topic.order\": [3, 4, 1, 5, 2]};\n",
              "\n",
              "function LDAvis_load_lib(url, callback){\n",
              "  var s = document.createElement('script');\n",
              "  s.src = url;\n",
              "  s.async = true;\n",
              "  s.onreadystatechange = s.onload = callback;\n",
              "  s.onerror = function(){console.warn(\"failed to load library \" + url);};\n",
              "  document.getElementsByTagName(\"head\")[0].appendChild(s);\n",
              "}\n",
              "\n",
              "if(typeof(LDAvis) !== \"undefined\"){\n",
              "   // already loaded: just create the visualization\n",
              "   !function(LDAvis){\n",
              "       new LDAvis(\"#\" + \"ldavis_el1191398072991700009609928345\", ldavis_el1191398072991700009609928345_data);\n",
              "   }(LDAvis);\n",
              "}else if(typeof define === \"function\" && define.amd){\n",
              "   // require.js is available: use it to load d3/LDAvis\n",
              "   require.config({paths: {d3: \"https://d3js.org/d3.v5\"}});\n",
              "   require([\"d3\"], function(d3){\n",
              "      window.d3 = d3;\n",
              "      LDAvis_load_lib(\"https://cdn.jsdelivr.net/gh/bmabey/pyLDAvis@3.3.1/pyLDAvis/js/ldavis.v3.0.0.js\", function(){\n",
              "        new LDAvis(\"#\" + \"ldavis_el1191398072991700009609928345\", ldavis_el1191398072991700009609928345_data);\n",
              "      });\n",
              "    });\n",
              "}else{\n",
              "    // require.js not available: dynamically load d3 & LDAvis\n",
              "    LDAvis_load_lib(\"https://d3js.org/d3.v5.js\", function(){\n",
              "         LDAvis_load_lib(\"https://cdn.jsdelivr.net/gh/bmabey/pyLDAvis@3.3.1/pyLDAvis/js/ldavis.v3.0.0.js\", function(){\n",
              "                 new LDAvis(\"#\" + \"ldavis_el1191398072991700009609928345\", ldavis_el1191398072991700009609928345_data);\n",
              "            })\n",
              "         });\n",
              "}\n",
              "</script>"
            ]
          },
          "metadata": {},
          "execution_count": 159
        }
      ]
    },
    {
      "cell_type": "markdown",
      "source": [
        "### **Evaluating LDA model**"
      ],
      "metadata": {
        "id": "Lu6bSyXp97lk"
      }
    },
    {
      "cell_type": "code",
      "source": [
        "data = []\n",
        "for index in range(kmeans.n_clusters):\n",
        "  lda = lda_models[index]\n",
        "  tokens = tokens_filtered[index]\n",
        "  dictionary = dictionaries[index]\n",
        "  bow = bows[index]\n",
        "  # perplexity is the measure of uncertainty, meaning lower the perplexity better the model.\n",
        "  perplexity = lda.log_perplexity(bow)\n",
        "  # Coherence is the measure of semantic similarity between top words in our topic. Higher the coherence better the model performance.\n",
        "  coherence_model_lda = models.CoherenceModel(model=lda, texts=tokens, dictionary=dictionary, coherence='c_v')\n",
        "  coherence_lda = coherence_model_lda.get_coherence()\n",
        "    \n",
        "  data.append([index, perplexity, coherence_lda])\n",
        "  \n",
        "df = pd.DataFrame(data, columns = ['cluster','perplexity', 'coherence_score'])\n",
        "\n",
        "path = './models/lda/evaluation/'\n",
        "if not os.path.exists(path):\n",
        "  os.makedirs(path)\n",
        "df.to_csv(f'{path}evaluation.csv')\n",
        "\n",
        "print('File saved at: ./models/lda/evaluation/evaluation.csv')\n",
        "df.head()"
      ],
      "metadata": {
        "id": "fHqJJqzv9-m4",
        "outputId": "836909bb-739f-4f75-f668-53c0937cac02",
        "colab": {
          "base_uri": "https://localhost:8080/",
          "height": 192
        }
      },
      "execution_count": 175,
      "outputs": [
        {
          "output_type": "stream",
          "name": "stdout",
          "text": [
            "File saved at: ./models/lda/evaluation/evaluation.csv\n"
          ]
        },
        {
          "output_type": "execute_result",
          "data": {
            "text/plain": [
              "   cluster  perplexity  coherence_score\n",
              "0        0   -4.390440         1.000000\n",
              "1        1   -5.177459         0.615229\n",
              "2        2   -5.212714         0.733570\n",
              "3        3   -4.844161         0.823320"
            ],
            "text/html": [
              "\n",
              "  <div id=\"df-5d6bc23b-47cb-4b1c-85e3-47bb8d172361\">\n",
              "    <div class=\"colab-df-container\">\n",
              "      <div>\n",
              "<style scoped>\n",
              "    .dataframe tbody tr th:only-of-type {\n",
              "        vertical-align: middle;\n",
              "    }\n",
              "\n",
              "    .dataframe tbody tr th {\n",
              "        vertical-align: top;\n",
              "    }\n",
              "\n",
              "    .dataframe thead th {\n",
              "        text-align: right;\n",
              "    }\n",
              "</style>\n",
              "<table border=\"1\" class=\"dataframe\">\n",
              "  <thead>\n",
              "    <tr style=\"text-align: right;\">\n",
              "      <th></th>\n",
              "      <th>cluster</th>\n",
              "      <th>perplexity</th>\n",
              "      <th>coherence_score</th>\n",
              "    </tr>\n",
              "  </thead>\n",
              "  <tbody>\n",
              "    <tr>\n",
              "      <th>0</th>\n",
              "      <td>0</td>\n",
              "      <td>-4.390440</td>\n",
              "      <td>1.000000</td>\n",
              "    </tr>\n",
              "    <tr>\n",
              "      <th>1</th>\n",
              "      <td>1</td>\n",
              "      <td>-5.177459</td>\n",
              "      <td>0.615229</td>\n",
              "    </tr>\n",
              "    <tr>\n",
              "      <th>2</th>\n",
              "      <td>2</td>\n",
              "      <td>-5.212714</td>\n",
              "      <td>0.733570</td>\n",
              "    </tr>\n",
              "    <tr>\n",
              "      <th>3</th>\n",
              "      <td>3</td>\n",
              "      <td>-4.844161</td>\n",
              "      <td>0.823320</td>\n",
              "    </tr>\n",
              "  </tbody>\n",
              "</table>\n",
              "</div>\n",
              "      <button class=\"colab-df-convert\" onclick=\"convertToInteractive('df-5d6bc23b-47cb-4b1c-85e3-47bb8d172361')\"\n",
              "              title=\"Convert this dataframe to an interactive table.\"\n",
              "              style=\"display:none;\">\n",
              "        \n",
              "  <svg xmlns=\"http://www.w3.org/2000/svg\" height=\"24px\"viewBox=\"0 0 24 24\"\n",
              "       width=\"24px\">\n",
              "    <path d=\"M0 0h24v24H0V0z\" fill=\"none\"/>\n",
              "    <path d=\"M18.56 5.44l.94 2.06.94-2.06 2.06-.94-2.06-.94-.94-2.06-.94 2.06-2.06.94zm-11 1L8.5 8.5l.94-2.06 2.06-.94-2.06-.94L8.5 2.5l-.94 2.06-2.06.94zm10 10l.94 2.06.94-2.06 2.06-.94-2.06-.94-.94-2.06-.94 2.06-2.06.94z\"/><path d=\"M17.41 7.96l-1.37-1.37c-.4-.4-.92-.59-1.43-.59-.52 0-1.04.2-1.43.59L10.3 9.45l-7.72 7.72c-.78.78-.78 2.05 0 2.83L4 21.41c.39.39.9.59 1.41.59.51 0 1.02-.2 1.41-.59l7.78-7.78 2.81-2.81c.8-.78.8-2.07 0-2.86zM5.41 20L4 18.59l7.72-7.72 1.47 1.35L5.41 20z\"/>\n",
              "  </svg>\n",
              "      </button>\n",
              "      \n",
              "  <style>\n",
              "    .colab-df-container {\n",
              "      display:flex;\n",
              "      flex-wrap:wrap;\n",
              "      gap: 12px;\n",
              "    }\n",
              "\n",
              "    .colab-df-convert {\n",
              "      background-color: #E8F0FE;\n",
              "      border: none;\n",
              "      border-radius: 50%;\n",
              "      cursor: pointer;\n",
              "      display: none;\n",
              "      fill: #1967D2;\n",
              "      height: 32px;\n",
              "      padding: 0 0 0 0;\n",
              "      width: 32px;\n",
              "    }\n",
              "\n",
              "    .colab-df-convert:hover {\n",
              "      background-color: #E2EBFA;\n",
              "      box-shadow: 0px 1px 2px rgba(60, 64, 67, 0.3), 0px 1px 3px 1px rgba(60, 64, 67, 0.15);\n",
              "      fill: #174EA6;\n",
              "    }\n",
              "\n",
              "    [theme=dark] .colab-df-convert {\n",
              "      background-color: #3B4455;\n",
              "      fill: #D2E3FC;\n",
              "    }\n",
              "\n",
              "    [theme=dark] .colab-df-convert:hover {\n",
              "      background-color: #434B5C;\n",
              "      box-shadow: 0px 1px 3px 1px rgba(0, 0, 0, 0.15);\n",
              "      filter: drop-shadow(0px 1px 2px rgba(0, 0, 0, 0.3));\n",
              "      fill: #FFFFFF;\n",
              "    }\n",
              "  </style>\n",
              "\n",
              "      <script>\n",
              "        const buttonEl =\n",
              "          document.querySelector('#df-5d6bc23b-47cb-4b1c-85e3-47bb8d172361 button.colab-df-convert');\n",
              "        buttonEl.style.display =\n",
              "          google.colab.kernel.accessAllowed ? 'block' : 'none';\n",
              "\n",
              "        async function convertToInteractive(key) {\n",
              "          const element = document.querySelector('#df-5d6bc23b-47cb-4b1c-85e3-47bb8d172361');\n",
              "          const dataTable =\n",
              "            await google.colab.kernel.invokeFunction('convertToInteractive',\n",
              "                                                     [key], {});\n",
              "          if (!dataTable) return;\n",
              "\n",
              "          const docLinkHtml = 'Like what you see? Visit the ' +\n",
              "            '<a target=\"_blank\" href=https://colab.research.google.com/notebooks/data_table.ipynb>data table notebook</a>'\n",
              "            + ' to learn more about interactive tables.';\n",
              "          element.innerHTML = '';\n",
              "          dataTable['output_type'] = 'display_data';\n",
              "          await google.colab.output.renderOutput(dataTable, element);\n",
              "          const docLink = document.createElement('div');\n",
              "          docLink.innerHTML = docLinkHtml;\n",
              "          element.appendChild(docLink);\n",
              "        }\n",
              "      </script>\n",
              "    </div>\n",
              "  </div>\n",
              "  "
            ]
          },
          "metadata": {},
          "execution_count": 175
        }
      ]
    },
    {
      "cell_type": "markdown",
      "source": [
        "### **Latent Semantic Analysis (LSA) model** "
      ],
      "metadata": {
        "id": "no16baSgggQB"
      }
    },
    {
      "cell_type": "code",
      "source": [
        "for index in range(len(tfidf_models)):\n",
        "  model = tfidf_models[index]\n",
        "  tfidf_corpus = tfidf_model[bows[index]]\n",
        "  dictionary = dictionaries[index]\n",
        "  tokens = tokens_filtered[index]\n",
        "  \n",
        "  # train model\n",
        "  lsa_model = models.LsiModel(tfidf_corpus, id2word=dictionary, num_topics=5)\n",
        "\n",
        "  # Save models so they aren't lost\n",
        "  if not os.path.exists(f\"models/lsa/lsa_cluster{index}/\"):\n",
        "    os.makedirs(f\"models/lsa/lsa_cluster{index}/\")\n",
        "\n",
        "  lsa_model.save(f\"models/lsa/lsa_cluster{index}/lsa.model\")\n",
        "    \n",
        "  print('Models saved at: ./models/lsa')\n",
        "\n",
        "  #print the score and topics for each document in corpus sorted by topic score\n",
        "  print(f'Cluster {index}')\n",
        "  for index in range(len(tfidf_corpus)):\n",
        "    for index, score in sorted(lsa_model[tfidf_corpus[index]], key=lambda x:x[1], reverse=True):\n",
        "      print(f\"\\nScore: {score}\\t \\nTopic: {lsa_model.print_topic(index,5)}\")\n",
        "      print()"
      ],
      "metadata": {
        "id": "TJ21SFj4xTse",
        "outputId": "4e79ff33-8174-4071-badc-407b5178ec6e",
        "colab": {
          "base_uri": "https://localhost:8080/"
        }
      },
      "execution_count": 196,
      "outputs": [
        {
          "output_type": "stream",
          "name": "stdout",
          "text": [
            "Models saved at: ./models/lsa\n",
            "Cluster 0\n",
            "\n",
            "Score: 1.0000000000000004\t \n",
            "Topic: 0.513*\"entrega\" + 0.410*\"dia\" + 0.308*\"vieram\" + 0.205*\"ok\" + 0.205*\"sendo\"\n",
            "\n",
            "Models saved at: ./models/lsa\n",
            "Cluster 1\n",
            "\n",
            "Score: 0.6979305063591962\t \n",
            "Topic: 0.546*\"valor\" + 0.424*\"ar\" + 0.254*\"amazon\" + 0.254*\"assinatura\" + 0.214*\"cobrança\"\n",
            "\n",
            "\n",
            "Score: 0.3879748693438477\t \n",
            "Topic: -0.331*\"ar\" + -0.280*\"assinatura\" + -0.280*\"amazon\" + 0.224*\"cobrado\" + 0.224*\"iten\"\n",
            "\n",
            "\n",
            "Score: -0.601970521745726\t \n",
            "Topic: 0.244*\"cobrança\" + -0.202*\"ar\" + -0.186*\"cobrado\" + -0.186*\"iten\" + -0.186*\"pago\"\n",
            "\n",
            "\n",
            "Score: 0.7561237456138195\t \n",
            "Topic: 0.244*\"cobrança\" + -0.202*\"ar\" + -0.186*\"cobrado\" + -0.186*\"iten\" + -0.186*\"pago\"\n",
            "\n",
            "\n",
            "Score: 0.5864948238165664\t \n",
            "Topic: 0.546*\"valor\" + 0.424*\"ar\" + 0.254*\"amazon\" + 0.254*\"assinatura\" + 0.214*\"cobrança\"\n",
            "\n",
            "\n",
            "Score: 0.29034583336997233\t \n",
            "Topic: -0.331*\"ar\" + -0.280*\"assinatura\" + -0.280*\"amazon\" + 0.224*\"cobrado\" + 0.224*\"iten\"\n",
            "\n",
            "\n",
            "Score: 0.8569382168905536\t \n",
            "Topic: 0.546*\"valor\" + 0.424*\"ar\" + 0.254*\"amazon\" + 0.254*\"assinatura\" + 0.214*\"cobrança\"\n",
            "\n",
            "\n",
            "Score: -0.027223750151611516\t \n",
            "Topic: 0.244*\"cobrança\" + -0.202*\"ar\" + -0.186*\"cobrado\" + -0.186*\"iten\" + -0.186*\"pago\"\n",
            "\n",
            "\n",
            "Score: -0.5146996792889248\t \n",
            "Topic: -0.331*\"ar\" + -0.280*\"assinatura\" + -0.280*\"amazon\" + 0.224*\"cobrado\" + 0.224*\"iten\"\n",
            "\n",
            "Models saved at: ./models/lsa\n",
            "Cluster 2\n",
            "\n",
            "Score: 0.7253866449310614\t \n",
            "Topic: 0.642*\"produto\" + 0.346*\"dia\" + 0.302*\"dinheiro\" + 0.262*\"amazon\" + 0.255*\"ainda\"\n",
            "\n",
            "\n",
            "Score: 0.4405052331599936\t \n",
            "Topic: -0.528*\"ainda\" + -0.252*\"produto\" + 0.251*\"devolução\" + -0.231*\"dinheiro\" + 0.194*\"dia\"\n",
            "\n",
            "\n",
            "Score: -0.2824758405190366\t \n",
            "Topic: 0.532*\"dia\" + -0.438*\"ainda\" + -0.192*\"dentro\" + -0.192*\"prazo\" + -0.192*\"receb\"\n",
            "\n",
            "\n",
            "Score: -0.44718760541564734\t \n",
            "Topic: 0.374*\"código\" + 0.265*\"devolução\" + 0.249*\"porém\" + 0.249*\"correio\" + -0.176*\"devolv\"\n",
            "\n",
            "\n",
            "Score: 0.7639721666230962\t \n",
            "Topic: 0.374*\"código\" + 0.265*\"devolução\" + 0.249*\"porém\" + 0.249*\"correio\" + -0.176*\"devolv\"\n",
            "\n",
            "\n",
            "Score: 0.5716911691007244\t \n",
            "Topic: 0.642*\"produto\" + 0.346*\"dia\" + 0.302*\"dinheiro\" + 0.262*\"amazon\" + 0.255*\"ainda\"\n",
            "\n",
            "\n",
            "Score: 0.2971382159184788\t \n",
            "Topic: -0.528*\"ainda\" + -0.252*\"produto\" + 0.251*\"devolução\" + -0.231*\"dinheiro\" + 0.194*\"dia\"\n",
            "\n",
            "\n",
            "Score: -0.03499452011734107\t \n",
            "Topic: 0.532*\"dia\" + -0.438*\"ainda\" + -0.192*\"dentro\" + -0.192*\"prazo\" + -0.192*\"receb\"\n",
            "\n",
            "\n",
            "Score: 0.7453632409001559\t \n",
            "Topic: 0.642*\"produto\" + 0.346*\"dia\" + 0.302*\"dinheiro\" + 0.262*\"amazon\" + 0.255*\"ainda\"\n",
            "\n",
            "\n",
            "Score: 0.058465847267630974\t \n",
            "Topic: 0.374*\"código\" + 0.265*\"devolução\" + 0.249*\"porém\" + 0.249*\"correio\" + -0.176*\"devolv\"\n",
            "\n",
            "\n",
            "Score: -0.24403912875991235\t \n",
            "Topic: 0.532*\"dia\" + -0.438*\"ainda\" + -0.192*\"dentro\" + -0.192*\"prazo\" + -0.192*\"receb\"\n",
            "\n",
            "\n",
            "Score: -0.6176247140879303\t \n",
            "Topic: -0.528*\"ainda\" + -0.252*\"produto\" + 0.251*\"devolução\" + -0.231*\"dinheiro\" + 0.194*\"dia\"\n",
            "\n",
            "\n",
            "Score: 0.8623243448292848\t \n",
            "Topic: 0.642*\"produto\" + 0.346*\"dia\" + 0.302*\"dinheiro\" + 0.262*\"amazon\" + 0.255*\"ainda\"\n",
            "\n",
            "\n",
            "Score: 0.47175759179762233\t \n",
            "Topic: 0.532*\"dia\" + -0.438*\"ainda\" + -0.192*\"dentro\" + -0.192*\"prazo\" + -0.192*\"receb\"\n",
            "\n",
            "\n",
            "Score: -0.033691671609458906\t \n",
            "Topic: -0.528*\"ainda\" + -0.252*\"produto\" + 0.251*\"devolução\" + -0.231*\"dinheiro\" + 0.194*\"dia\"\n",
            "\n",
            "\n",
            "Score: -0.18084902587576562\t \n",
            "Topic: 0.374*\"código\" + 0.265*\"devolução\" + 0.249*\"porém\" + 0.249*\"correio\" + -0.176*\"devolv\"\n",
            "\n",
            "Models saved at: ./models/lsa\n",
            "Cluster 3\n",
            "\n",
            "Score: 1.0000000000000007\t \n",
            "Topic: 0.416*\"número\" + 0.277*\"telefon\" + 0.277*\"cadastro\" + 0.277*\"consigo\" + 0.139*\"acesso\"\n",
            "\n",
            "\n",
            "Score: -1.0000000000000002\t \n",
            "Topic: -0.539*\"cancelar\" + -0.270*\"assinatura\" + -0.270*\"opção\" + -0.270*\"tudo\" + -0.135*\"li\"\n",
            "\n"
          ]
        }
      ]
    },
    {
      "cell_type": "code",
      "source": [
        "# print the weight of each word in one document sorted by weight\n",
        "table = []\n",
        "for id, weight in sorted(lsa_model[corpus[2]], key=lambda x: x[1], reverse=True):\n",
        "    word = dictionary[id]\n",
        "    table.append([word, weight])\n",
        "print(tabulate(table, headers=[\"Word\", \"Weight\"], tablefmt=\"github\"))"
      ],
      "metadata": {
        "id": "NZXgufNxqlan"
      },
      "execution_count": null,
      "outputs": []
    },
    {
      "cell_type": "markdown",
      "source": [
        "### **Evaluate model**"
      ],
      "metadata": {
        "id": "hwXX9Z5sJTAz"
      }
    },
    {
      "cell_type": "code",
      "source": [
        "# Coherence is the measure of semantic similarity between top words in our topic. Higher the coherence better the model performance.\n",
        "coherence_model_lsa = models.CoherenceModel(model=lsa_model, texts=texts, dictionary=dictionary, coherence='c_v')\n",
        "coherence_lsa = coherence_model_lsa.get_coherence()\n",
        "print('Coherence Score: ', coherence_lsa)"
      ],
      "metadata": {
        "id": "Ojj4I_yKJVa9"
      },
      "execution_count": null,
      "outputs": []
    },
    {
      "cell_type": "markdown",
      "source": [
        "### **Random Projections, RP**"
      ],
      "metadata": {
        "id": "Nw0rzT5kphJ0"
      }
    },
    {
      "cell_type": "code",
      "source": [
        "num_topics = len(dictionary)\n",
        "rp_model = models.RpModel(tfidf_corpus, num_topics=num_topics)"
      ],
      "metadata": {
        "id": "O-cPNpR0pi21"
      },
      "execution_count": null,
      "outputs": []
    },
    {
      "cell_type": "code",
      "source": [
        "# print the weight of each word in one document sorted by weight\n",
        "table = []\n",
        "for id, weight in sorted(rp_model[tfidf_corpus[5]], key=lambda x: x[1], reverse=True):\n",
        "    word = dictionary[id]\n",
        "    table.append([word, weight])\n",
        "print(tabulate(table, headers=[\"Word\", \"Weight\"], tablefmt=\"github\"))"
      ],
      "metadata": {
        "id": "wJWNf_3KrLdN"
      },
      "execution_count": null,
      "outputs": []
    },
    {
      "cell_type": "markdown",
      "source": [
        "### **Evaluate model**"
      ],
      "metadata": {
        "id": "hlXzDxEHJg9g"
      }
    },
    {
      "cell_type": "markdown",
      "source": [
        "### **Hierarchical Dirichlet Process, HDP** "
      ],
      "metadata": {
        "id": "2MsWv_wTpwkc"
      }
    },
    {
      "cell_type": "code",
      "source": [
        "hp_model = models.HdpModel(corpus, id2word=dictionary)"
      ],
      "metadata": {
        "id": "jeDgAS3ApyIw"
      },
      "execution_count": null,
      "outputs": []
    },
    {
      "cell_type": "code",
      "source": [
        "table = []\n",
        "for id, weight in sorted(hp_model[corpus[5]], key=lambda x: x[1], reverse=True):\n",
        "  word = dictionary[id]\n",
        "  table.append([word,weight])\n",
        "print(tabulate(table, headers=[\"Word\", \"Weight\"], tablefmt=\"github\"))"
      ],
      "metadata": {
        "id": "y3evON-Wr21x"
      },
      "execution_count": null,
      "outputs": []
    },
    {
      "cell_type": "markdown",
      "source": [
        "### **Evaluate model**"
      ],
      "metadata": {
        "id": "37Kkkl-tJ63V"
      }
    },
    {
      "cell_type": "code",
      "source": [
        "# Coherence is the measure of semantic similarity between top words in our topic. Higher the coherence better the model performance.\n",
        "coherence_model_hp = models.CoherenceModel(model=hp_model, texts=texts, dictionary=dictionary, coherence='c_v')\n",
        "coherence_hp = coherence_model_hp.get_coherence()\n",
        "print('Coherence Score: ', coherence_hp)"
      ],
      "metadata": {
        "id": "y1taLp6zJ9cf"
      },
      "execution_count": null,
      "outputs": []
    },
    {
      "cell_type": "markdown",
      "source": [
        "### **BERTimbau**"
      ],
      "metadata": {
        "id": "_OE08YEM5PEp"
      }
    },
    {
      "cell_type": "code",
      "source": [
        "from transformers import AutoModel, AutoTokenizer"
      ],
      "metadata": {
        "id": "myO9rkSl5VRA"
      },
      "execution_count": null,
      "outputs": []
    },
    {
      "cell_type": "code",
      "source": [
        "# BERT Base\n",
        "tokenizer = AutoTokenizer.from_pretrained('neuralmind/bert-base-portuguese-cased')\n",
        "model = AutoModel.from_pretrained('neuralmind/bert-base-portuguese-cased')"
      ],
      "metadata": {
        "id": "2Tgw27sq5Sy_"
      },
      "execution_count": null,
      "outputs": []
    },
    {
      "cell_type": "markdown",
      "source": [
        "### **Texblob**"
      ],
      "metadata": {
        "id": "JwHAzXHs_bj2"
      }
    },
    {
      "cell_type": "code",
      "source": [
        "from textblob import TextBlob\n",
        "from nltk.sentiment.vader import SentimentIntensityAnalyzer\n",
        "nltk.download('vader_lexicon')"
      ],
      "metadata": {
        "id": "Qc-jhVX2_fIe"
      },
      "execution_count": null,
      "outputs": []
    },
    {
      "cell_type": "code",
      "source": [
        "sid = SentimentIntensityAnalyzer()"
      ],
      "metadata": {
        "id": "xfpTn8qmIhO5"
      },
      "execution_count": null,
      "outputs": []
    },
    {
      "cell_type": "code",
      "source": [
        "def get_blob_sentiment(sentence):\n",
        "  blob = TextBlob(sentence).sentiment\n",
        "  return blob.polarity"
      ],
      "metadata": {
        "id": "qJLW4tDG_5Oz"
      },
      "execution_count": null,
      "outputs": []
    },
    {
      "cell_type": "markdown",
      "source": [
        "### **Vader**"
      ],
      "metadata": {
        "id": "L5z5Tr7FIKBl"
      }
    },
    {
      "cell_type": "code",
      "source": [
        "nltk.download('vader_lexicon')"
      ],
      "metadata": {
        "id": "GBONwIhIILyc"
      },
      "execution_count": null,
      "outputs": []
    },
    {
      "cell_type": "code",
      "source": [
        "def get_vader_sentiment(sentence):\n",
        "  vader = sid.polarity_scores(sentence)\n",
        "  return vader['compound']"
      ],
      "metadata": {
        "id": "FTBht6U6I9YD"
      },
      "execution_count": null,
      "outputs": []
    },
    {
      "cell_type": "code",
      "source": [
        "df['TextBlob'] = df['body'].apply(lambda sentence: get_blob_sentiment(sentence))\n",
        "df['Vader'] = df['body'].apply(lambda sentence: get_vader_sentiment(sentence))"
      ],
      "metadata": {
        "id": "vUoKYgeGJWiQ"
      },
      "execution_count": null,
      "outputs": []
    },
    {
      "cell_type": "markdown",
      "source": [
        "A negative sentiment score means \n",
        "negative sentiment, and a positive sentiment score means positive sentiment. The higher \n",
        "the absolute value of the score, the more confident the system is about it"
      ],
      "metadata": {
        "id": "vT8dYlRQLD1U"
      }
    },
    {
      "cell_type": "code",
      "source": [
        "df.head(10)"
      ],
      "metadata": {
        "id": "wvpqU7r1K9Nl"
      },
      "execution_count": null,
      "outputs": []
    },
    {
      "cell_type": "markdown",
      "source": [
        "### **Clustering sentences with K-Means**"
      ],
      "metadata": {
        "id": "fKOeVmUlL08M"
      }
    },
    {
      "cell_type": "code",
      "source": [
        "import re\n",
        "from sklearn.cluster import KMeans\n",
        "from sklearn.feature_extraction.text import TfidfVectorizer\n",
        "from nltk.probability import FreqDist\n",
        "from sklearn.model_selection import train_test_split"
      ],
      "metadata": {
        "id": "q4q2KdkXL83B"
      },
      "execution_count": null,
      "outputs": []
    },
    {
      "cell_type": "markdown",
      "metadata": {
        "id": "zANBqSOtNerU"
      },
      "source": [
        "## **Save Models to Google Cloud Storage**"
      ]
    },
    {
      "cell_type": "code",
      "execution_count": null,
      "metadata": {
        "id": "JQ_BMRXENmIi"
      },
      "outputs": [],
      "source": [
        "# import google cloud dependencies\n",
        "#from google.colab import auth\n",
        "#import uuid # for generate a unique identification for google bucket\n",
        "# Define a project id in google cloud\n",
        "#project_id = '<project_ID>'\n",
        "\n",
        "#auth.authenticate_user()\n",
        "# configure gsutil\n",
        "## !gcloud config set project {project_id}\n",
        "# set bucket name\n",
        "##backet_name = f'sample-bucket-{uuid.uuid1()}'\n",
        "## !gsuit mb gs://{bucket_name}"
      ]
    },
    {
      "cell_type": "code",
      "execution_count": null,
      "metadata": {
        "id": "0srGkyyiPHEq"
      },
      "outputs": [],
      "source": [
        "# upload model to Google Cloud Storage\n",
        "#!gsuit cp /tmp/name_of_file.txt gs://{bucket_name}/\n",
        "\n",
        "# location of model\n",
        "#download_location = f\"https://console.cloud.google.com/storage/browser?project={project_id}\"\n",
        "\n",
        "# donwload model from Google Cloud Storage\n",
        "#!gsuit cp gs://{bucket_name}/{filename} {download_location}"
      ]
    },
    {
      "cell_type": "markdown",
      "metadata": {
        "id": "sStwWfuAzGZ3"
      },
      "source": [
        "## **References**\n"
      ]
    },
    {
      "cell_type": "markdown",
      "metadata": {
        "id": "8UcEjjp6F266"
      },
      "source": [
        "[LangDetect](https://pypi.org/project/langdetect/) <br/>\n",
        "[Diagrams](https://pypi.org/project/diagrams/) <br/>\n",
        "[Graphviz](https://pypi.org/project/graphviz/) <br/>\n",
        "[Beautifulsoap4](https://pypi.org/project/beautifulsoup4/) <br/>\n",
        "[OpLexicon](https://www.inf.pucrs.br/linatural/wordpress/recursos-e-ferramentas/oplexicon/)"
      ]
    }
  ],
  "metadata": {
    "colab": {
      "collapsed_sections": [],
      "provenance": [],
      "include_colab_link": true
    },
    "kernelspec": {
      "display_name": "Python 3.10.4 ('.env': venv)",
      "language": "python",
      "name": "python3"
    },
    "language_info": {
      "name": "python",
      "version": "3.10.4"
    },
    "vscode": {
      "interpreter": {
        "hash": "6870af64cccb2dc4285885e4363d49c25adb22669b810ecb9f48ab42b19689bd"
      }
    }
  },
  "nbformat": 4,
  "nbformat_minor": 0
}