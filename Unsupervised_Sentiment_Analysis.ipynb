{
  "cells": [
    {
      "cell_type": "markdown",
      "metadata": {
        "id": "view-in-github",
        "colab_type": "text"
      },
      "source": [
        "<a href=\"https://colab.research.google.com/github/punkmic/unsupervised-Sentiment-Analysis---Comparisen-analysis/blob/master/Unsupervised_Sentiment_Analysis.ipynb\" target=\"_parent\"><img src=\"https://colab.research.google.com/assets/colab-badge.svg\" alt=\"Open In Colab\"/></a>"
      ]
    },
    {
      "cell_type": "markdown",
      "metadata": {
        "id": "tXD6WQspxJWc"
      },
      "source": [
        "# **Intro**"
      ]
    },
    {
      "cell_type": "markdown",
      "metadata": {
        "id": "-593AM2lxMMh"
      },
      "source": [
        "## **Install Dependecies**"
      ]
    },
    {
      "cell_type": "code",
      "execution_count": 2,
      "metadata": {
        "id": "C7gQcM_NxE2w"
      },
      "outputs": [],
      "source": [
        "# use the %%capture magic option to hide log output\n",
        "%%capture \n",
        "# install dependecies here\n",
        "!pip install langdetect  # for language detection\n",
        "!pip install diagrams # for visualize the workflow\n",
        "!pip install graphviz # for visualize the workflow\n",
        "!pip install textblob # for unsupervised sentiment analysis\n",
        "!pip install wordcloud # for wordcloud plot\n",
        "!pip install matplotlib # for plot\n",
        "!pip install Pillow # for image manipulation\n",
        "!pip install nltk # for natural language prepocessing\n",
        "!pip install enelvo # for fix slangs, abbreviations, spelling errors\n",
        "!pip install transformers # for machine learning\n",
        "!pip install gensim # for machile learning\n",
        "!pip install tabulate # for print as table"
      ]
    },
    {
      "cell_type": "markdown",
      "metadata": {
        "id": "Rkydqr0uxUiB"
      },
      "source": [
        "## **Load Depencies**"
      ]
    },
    {
      "cell_type": "code",
      "execution_count": 3,
      "metadata": {
        "id": "Km0RDHK_xX8V"
      },
      "outputs": [],
      "source": [
        "%%capture\n",
        "# load dependecies here\n",
        "from langdetect import detect as dt\n",
        "from diagrams import Diagram as dg\n",
        "import pandas as pd\n",
        "from PIL import Image\n",
        "import os \n",
        "import matplotlib.pyplot as plt\n",
        "import nltk\n",
        "from tabulate import tabulate"
      ]
    },
    {
      "cell_type": "markdown",
      "metadata": {
        "id": "x0cdDKUrxsq1"
      },
      "source": [
        "## **Load Dataset**"
      ]
    },
    {
      "cell_type": "markdown",
      "source": [
        "### **Clone Github repository** "
      ],
      "metadata": {
        "id": "SdXyTWtNhrU1"
      }
    },
    {
      "cell_type": "code",
      "execution_count": 4,
      "metadata": {
        "id": "pzdi7uwrx8Ls",
        "outputId": "8a50dfa4-2989-4c4e-c3b9-213f2c57643f",
        "colab": {
          "base_uri": "https://localhost:8080/"
        }
      },
      "outputs": [
        {
          "output_type": "stream",
          "name": "stdout",
          "text": [
            "fatal: destination path 'unsupervised-Sentiment-Analysis---Comparisen-analysis' already exists and is not an empty directory.\n",
            "/content/unsupervised-Sentiment-Analysis---Comparisen-analysis\n",
            "app.py\t\t   Makefile\t     results\n",
            "clear_datasets.py  __pycache__\t     Unsupervised_Sentiment_Analysis.ipynb\n",
            "Drivers\t\t   README.md\t     webscraping.py\n",
            "LICENSE\t\t   requirements.txt  wordclouds\n"
          ]
        }
      ],
      "source": [
        "# Files cloned from github may not automatically appear in files tab in this case right click and choose update\n",
        "# this will update our files.\n",
        "!git clone https://github.com/punkmic/unsupervised-Sentiment-Analysis---Comparisen-analysis.git\n",
        "%cd /content/unsupervised-Sentiment-Analysis---Comparisen-analysis\n",
        "!ls"
      ]
    },
    {
      "cell_type": "code",
      "source": [
        "# !git pull "
      ],
      "metadata": {
        "id": "Z9_q4bS6laSt"
      },
      "execution_count": 5,
      "outputs": []
    },
    {
      "cell_type": "markdown",
      "source": [
        "### **Load csv file**"
      ],
      "metadata": {
        "id": "PCZ8r-JXh2FZ"
      }
    },
    {
      "cell_type": "code",
      "source": [
        "PATH_TO_CSV = '/content/unsupervised-Sentiment-Analysis---Comparisen-analysis/results/web_scraping_results.csv'\n",
        "df = pd.read_csv(PATH_TO_CSV, encoding='utf-8')\n",
        "# lower colnames \n",
        "df.rename(columns={'Title':'title', 'Body':'body'}, inplace=True)\n",
        "df.head()"
      ],
      "metadata": {
        "id": "xLkm22-Ph6_P",
        "outputId": "a9dcca9c-2517-45a6-8073-b74daba18ade",
        "colab": {
          "base_uri": "https://localhost:8080/",
          "height": 206
        }
      },
      "execution_count": 6,
      "outputs": [
        {
          "output_type": "execute_result",
          "data": {
            "text/plain": [
              "                                               title  \\\n",
              "0  Recebi um e-mail que parte do pedido não foi p...   \n",
              "1      Produto falsificado e não me deixam devolver    \n",
              "2          COBRANDO CONTEUDO DIGITAL sem solicitação   \n",
              "3                                  Cobrança indevida   \n",
              "4  Troquei de telefone e consigo acessar minha conta   \n",
              "\n",
              "                                                body  \n",
              "0  Olá!Preciso da ajuda de vocês para entender qu...  \n",
              "1  COMPREI UM PERFUME E QUANDO RECEBI O PRODUTO N...  \n",
              "2  Novamente estava em casa, quando terminei de a...  \n",
              "3  Fiz a assinatura da amazon prime video no valo...  \n",
              "4  Prezados,Tenho uma conta na Amazon ao qual já ...  "
            ],
            "text/html": [
              "\n",
              "  <div id=\"df-042c080c-9c52-4324-86e4-26ea484092d5\">\n",
              "    <div class=\"colab-df-container\">\n",
              "      <div>\n",
              "<style scoped>\n",
              "    .dataframe tbody tr th:only-of-type {\n",
              "        vertical-align: middle;\n",
              "    }\n",
              "\n",
              "    .dataframe tbody tr th {\n",
              "        vertical-align: top;\n",
              "    }\n",
              "\n",
              "    .dataframe thead th {\n",
              "        text-align: right;\n",
              "    }\n",
              "</style>\n",
              "<table border=\"1\" class=\"dataframe\">\n",
              "  <thead>\n",
              "    <tr style=\"text-align: right;\">\n",
              "      <th></th>\n",
              "      <th>title</th>\n",
              "      <th>body</th>\n",
              "    </tr>\n",
              "  </thead>\n",
              "  <tbody>\n",
              "    <tr>\n",
              "      <th>0</th>\n",
              "      <td>Recebi um e-mail que parte do pedido não foi p...</td>\n",
              "      <td>Olá!Preciso da ajuda de vocês para entender qu...</td>\n",
              "    </tr>\n",
              "    <tr>\n",
              "      <th>1</th>\n",
              "      <td>Produto falsificado e não me deixam devolver</td>\n",
              "      <td>COMPREI UM PERFUME E QUANDO RECEBI O PRODUTO N...</td>\n",
              "    </tr>\n",
              "    <tr>\n",
              "      <th>2</th>\n",
              "      <td>COBRANDO CONTEUDO DIGITAL sem solicitação</td>\n",
              "      <td>Novamente estava em casa, quando terminei de a...</td>\n",
              "    </tr>\n",
              "    <tr>\n",
              "      <th>3</th>\n",
              "      <td>Cobrança indevida</td>\n",
              "      <td>Fiz a assinatura da amazon prime video no valo...</td>\n",
              "    </tr>\n",
              "    <tr>\n",
              "      <th>4</th>\n",
              "      <td>Troquei de telefone e consigo acessar minha conta</td>\n",
              "      <td>Prezados,Tenho uma conta na Amazon ao qual já ...</td>\n",
              "    </tr>\n",
              "  </tbody>\n",
              "</table>\n",
              "</div>\n",
              "      <button class=\"colab-df-convert\" onclick=\"convertToInteractive('df-042c080c-9c52-4324-86e4-26ea484092d5')\"\n",
              "              title=\"Convert this dataframe to an interactive table.\"\n",
              "              style=\"display:none;\">\n",
              "        \n",
              "  <svg xmlns=\"http://www.w3.org/2000/svg\" height=\"24px\"viewBox=\"0 0 24 24\"\n",
              "       width=\"24px\">\n",
              "    <path d=\"M0 0h24v24H0V0z\" fill=\"none\"/>\n",
              "    <path d=\"M18.56 5.44l.94 2.06.94-2.06 2.06-.94-2.06-.94-.94-2.06-.94 2.06-2.06.94zm-11 1L8.5 8.5l.94-2.06 2.06-.94-2.06-.94L8.5 2.5l-.94 2.06-2.06.94zm10 10l.94 2.06.94-2.06 2.06-.94-2.06-.94-.94-2.06-.94 2.06-2.06.94z\"/><path d=\"M17.41 7.96l-1.37-1.37c-.4-.4-.92-.59-1.43-.59-.52 0-1.04.2-1.43.59L10.3 9.45l-7.72 7.72c-.78.78-.78 2.05 0 2.83L4 21.41c.39.39.9.59 1.41.59.51 0 1.02-.2 1.41-.59l7.78-7.78 2.81-2.81c.8-.78.8-2.07 0-2.86zM5.41 20L4 18.59l7.72-7.72 1.47 1.35L5.41 20z\"/>\n",
              "  </svg>\n",
              "      </button>\n",
              "      \n",
              "  <style>\n",
              "    .colab-df-container {\n",
              "      display:flex;\n",
              "      flex-wrap:wrap;\n",
              "      gap: 12px;\n",
              "    }\n",
              "\n",
              "    .colab-df-convert {\n",
              "      background-color: #E8F0FE;\n",
              "      border: none;\n",
              "      border-radius: 50%;\n",
              "      cursor: pointer;\n",
              "      display: none;\n",
              "      fill: #1967D2;\n",
              "      height: 32px;\n",
              "      padding: 0 0 0 0;\n",
              "      width: 32px;\n",
              "    }\n",
              "\n",
              "    .colab-df-convert:hover {\n",
              "      background-color: #E2EBFA;\n",
              "      box-shadow: 0px 1px 2px rgba(60, 64, 67, 0.3), 0px 1px 3px 1px rgba(60, 64, 67, 0.15);\n",
              "      fill: #174EA6;\n",
              "    }\n",
              "\n",
              "    [theme=dark] .colab-df-convert {\n",
              "      background-color: #3B4455;\n",
              "      fill: #D2E3FC;\n",
              "    }\n",
              "\n",
              "    [theme=dark] .colab-df-convert:hover {\n",
              "      background-color: #434B5C;\n",
              "      box-shadow: 0px 1px 3px 1px rgba(0, 0, 0, 0.15);\n",
              "      filter: drop-shadow(0px 1px 2px rgba(0, 0, 0, 0.3));\n",
              "      fill: #FFFFFF;\n",
              "    }\n",
              "  </style>\n",
              "\n",
              "      <script>\n",
              "        const buttonEl =\n",
              "          document.querySelector('#df-042c080c-9c52-4324-86e4-26ea484092d5 button.colab-df-convert');\n",
              "        buttonEl.style.display =\n",
              "          google.colab.kernel.accessAllowed ? 'block' : 'none';\n",
              "\n",
              "        async function convertToInteractive(key) {\n",
              "          const element = document.querySelector('#df-042c080c-9c52-4324-86e4-26ea484092d5');\n",
              "          const dataTable =\n",
              "            await google.colab.kernel.invokeFunction('convertToInteractive',\n",
              "                                                     [key], {});\n",
              "          if (!dataTable) return;\n",
              "\n",
              "          const docLinkHtml = 'Like what you see? Visit the ' +\n",
              "            '<a target=\"_blank\" href=https://colab.research.google.com/notebooks/data_table.ipynb>data table notebook</a>'\n",
              "            + ' to learn more about interactive tables.';\n",
              "          element.innerHTML = '';\n",
              "          dataTable['output_type'] = 'display_data';\n",
              "          await google.colab.output.renderOutput(dataTable, element);\n",
              "          const docLink = document.createElement('div');\n",
              "          docLink.innerHTML = docLinkHtml;\n",
              "          element.appendChild(docLink);\n",
              "        }\n",
              "      </script>\n",
              "    </div>\n",
              "  </div>\n",
              "  "
            ]
          },
          "metadata": {},
          "execution_count": 6
        }
      ]
    },
    {
      "cell_type": "markdown",
      "source": [
        "### **Plot some statistics of text**"
      ],
      "metadata": {
        "id": "t6oMhx4pkmU1"
      }
    },
    {
      "cell_type": "code",
      "source": [
        "df.describe()"
      ],
      "metadata": {
        "id": "bFQkBO-KkVb3",
        "outputId": "677196f1-fdf3-4325-e684-2b99f49a177c",
        "colab": {
          "base_uri": "https://localhost:8080/",
          "height": 175
        }
      },
      "execution_count": 7,
      "outputs": [
        {
          "output_type": "execute_result",
          "data": {
            "text/plain": [
              "                                                    title  \\\n",
              "count                                                  10   \n",
              "unique                                                 10   \n",
              "top     Recebi um e-mail que parte do pedido não foi p...   \n",
              "freq                                                    1   \n",
              "\n",
              "                                                     body  \n",
              "count                                                  10  \n",
              "unique                                                 10  \n",
              "top     Olá!Preciso da ajuda de vocês para entender qu...  \n",
              "freq                                                    1  "
            ],
            "text/html": [
              "\n",
              "  <div id=\"df-d05bdd8a-f16f-4c84-949b-16f60da7f8c5\">\n",
              "    <div class=\"colab-df-container\">\n",
              "      <div>\n",
              "<style scoped>\n",
              "    .dataframe tbody tr th:only-of-type {\n",
              "        vertical-align: middle;\n",
              "    }\n",
              "\n",
              "    .dataframe tbody tr th {\n",
              "        vertical-align: top;\n",
              "    }\n",
              "\n",
              "    .dataframe thead th {\n",
              "        text-align: right;\n",
              "    }\n",
              "</style>\n",
              "<table border=\"1\" class=\"dataframe\">\n",
              "  <thead>\n",
              "    <tr style=\"text-align: right;\">\n",
              "      <th></th>\n",
              "      <th>title</th>\n",
              "      <th>body</th>\n",
              "    </tr>\n",
              "  </thead>\n",
              "  <tbody>\n",
              "    <tr>\n",
              "      <th>count</th>\n",
              "      <td>10</td>\n",
              "      <td>10</td>\n",
              "    </tr>\n",
              "    <tr>\n",
              "      <th>unique</th>\n",
              "      <td>10</td>\n",
              "      <td>10</td>\n",
              "    </tr>\n",
              "    <tr>\n",
              "      <th>top</th>\n",
              "      <td>Recebi um e-mail que parte do pedido não foi p...</td>\n",
              "      <td>Olá!Preciso da ajuda de vocês para entender qu...</td>\n",
              "    </tr>\n",
              "    <tr>\n",
              "      <th>freq</th>\n",
              "      <td>1</td>\n",
              "      <td>1</td>\n",
              "    </tr>\n",
              "  </tbody>\n",
              "</table>\n",
              "</div>\n",
              "      <button class=\"colab-df-convert\" onclick=\"convertToInteractive('df-d05bdd8a-f16f-4c84-949b-16f60da7f8c5')\"\n",
              "              title=\"Convert this dataframe to an interactive table.\"\n",
              "              style=\"display:none;\">\n",
              "        \n",
              "  <svg xmlns=\"http://www.w3.org/2000/svg\" height=\"24px\"viewBox=\"0 0 24 24\"\n",
              "       width=\"24px\">\n",
              "    <path d=\"M0 0h24v24H0V0z\" fill=\"none\"/>\n",
              "    <path d=\"M18.56 5.44l.94 2.06.94-2.06 2.06-.94-2.06-.94-.94-2.06-.94 2.06-2.06.94zm-11 1L8.5 8.5l.94-2.06 2.06-.94-2.06-.94L8.5 2.5l-.94 2.06-2.06.94zm10 10l.94 2.06.94-2.06 2.06-.94-2.06-.94-.94-2.06-.94 2.06-2.06.94z\"/><path d=\"M17.41 7.96l-1.37-1.37c-.4-.4-.92-.59-1.43-.59-.52 0-1.04.2-1.43.59L10.3 9.45l-7.72 7.72c-.78.78-.78 2.05 0 2.83L4 21.41c.39.39.9.59 1.41.59.51 0 1.02-.2 1.41-.59l7.78-7.78 2.81-2.81c.8-.78.8-2.07 0-2.86zM5.41 20L4 18.59l7.72-7.72 1.47 1.35L5.41 20z\"/>\n",
              "  </svg>\n",
              "      </button>\n",
              "      \n",
              "  <style>\n",
              "    .colab-df-container {\n",
              "      display:flex;\n",
              "      flex-wrap:wrap;\n",
              "      gap: 12px;\n",
              "    }\n",
              "\n",
              "    .colab-df-convert {\n",
              "      background-color: #E8F0FE;\n",
              "      border: none;\n",
              "      border-radius: 50%;\n",
              "      cursor: pointer;\n",
              "      display: none;\n",
              "      fill: #1967D2;\n",
              "      height: 32px;\n",
              "      padding: 0 0 0 0;\n",
              "      width: 32px;\n",
              "    }\n",
              "\n",
              "    .colab-df-convert:hover {\n",
              "      background-color: #E2EBFA;\n",
              "      box-shadow: 0px 1px 2px rgba(60, 64, 67, 0.3), 0px 1px 3px 1px rgba(60, 64, 67, 0.15);\n",
              "      fill: #174EA6;\n",
              "    }\n",
              "\n",
              "    [theme=dark] .colab-df-convert {\n",
              "      background-color: #3B4455;\n",
              "      fill: #D2E3FC;\n",
              "    }\n",
              "\n",
              "    [theme=dark] .colab-df-convert:hover {\n",
              "      background-color: #434B5C;\n",
              "      box-shadow: 0px 1px 3px 1px rgba(0, 0, 0, 0.15);\n",
              "      filter: drop-shadow(0px 1px 2px rgba(0, 0, 0, 0.3));\n",
              "      fill: #FFFFFF;\n",
              "    }\n",
              "  </style>\n",
              "\n",
              "      <script>\n",
              "        const buttonEl =\n",
              "          document.querySelector('#df-d05bdd8a-f16f-4c84-949b-16f60da7f8c5 button.colab-df-convert');\n",
              "        buttonEl.style.display =\n",
              "          google.colab.kernel.accessAllowed ? 'block' : 'none';\n",
              "\n",
              "        async function convertToInteractive(key) {\n",
              "          const element = document.querySelector('#df-d05bdd8a-f16f-4c84-949b-16f60da7f8c5');\n",
              "          const dataTable =\n",
              "            await google.colab.kernel.invokeFunction('convertToInteractive',\n",
              "                                                     [key], {});\n",
              "          if (!dataTable) return;\n",
              "\n",
              "          const docLinkHtml = 'Like what you see? Visit the ' +\n",
              "            '<a target=\"_blank\" href=https://colab.research.google.com/notebooks/data_table.ipynb>data table notebook</a>'\n",
              "            + ' to learn more about interactive tables.';\n",
              "          element.innerHTML = '';\n",
              "          dataTable['output_type'] = 'display_data';\n",
              "          await google.colab.output.renderOutput(dataTable, element);\n",
              "          const docLink = document.createElement('div');\n",
              "          docLink.innerHTML = docLinkHtml;\n",
              "          element.appendChild(docLink);\n",
              "        }\n",
              "      </script>\n",
              "    </div>\n",
              "  </div>\n",
              "  "
            ]
          },
          "metadata": {},
          "execution_count": 7
        }
      ]
    },
    {
      "cell_type": "markdown",
      "source": [
        "### **Plot wordcloud**"
      ],
      "metadata": {
        "id": "5R_DJGXHnZhJ"
      }
    },
    {
      "cell_type": "code",
      "source": [
        "from wordcloud import WordCloud, STOPWORDS, ImageColorGenerator"
      ],
      "metadata": {
        "id": "ougKX8fd02-H"
      },
      "execution_count": 8,
      "outputs": []
    },
    {
      "cell_type": "code",
      "source": [
        "# print currently directory\n",
        "!pwd"
      ],
      "metadata": {
        "id": "IGBXVhu1vK5O",
        "outputId": "e30b782e-ab27-47eb-87d5-f3c37281d648",
        "colab": {
          "base_uri": "https://localhost:8080/"
        }
      },
      "execution_count": 9,
      "outputs": [
        {
          "output_type": "stream",
          "name": "stdout",
          "text": [
            "/content/unsupervised-Sentiment-Analysis---Comparisen-analysis\n"
          ]
        }
      ]
    },
    {
      "cell_type": "code",
      "source": [
        "# create a new directory for wordclouds\n",
        "wordclouds = '/content/unsupervised-Sentiment-Analysis---Comparisen-analysis/results/wordclouds/'\n",
        "!mkdir wordclouds"
      ],
      "metadata": {
        "id": "QNIgRpoyrXvL",
        "outputId": "69064cde-0eda-4a23-e2ba-a8a35a067b2c",
        "colab": {
          "base_uri": "https://localhost:8080/"
        }
      },
      "execution_count": 10,
      "outputs": [
        {
          "output_type": "stream",
          "name": "stdout",
          "text": [
            "mkdir: cannot create directory ‘wordclouds’: File exists\n"
          ]
        }
      ]
    },
    {
      "cell_type": "code",
      "source": [
        "# Create and generate a word cloud image:\n",
        "text = str(df['title']).title()\n",
        "wordcloud = WordCloud(max_font_size=50, max_words=100,  stopwords=STOPWORDS).generate(text)\n",
        "\n",
        "# Save wordcloud \n",
        "wordcloud.to_file('wordclouds/title_wordcloud.png')\n",
        "\n",
        "# Display wordcloud\n",
        "plt.figure()\n",
        "plt.imshow(wordcloud, interpolation='bilinear')\n",
        "plt.axis(\"off\")\n",
        "plt.show()\n",
        "\n"
      ],
      "metadata": {
        "id": "KKtysdp8mLBT",
        "outputId": "640806ed-664e-4f0b-97ce-4d53cd25453d",
        "colab": {
          "base_uri": "https://localhost:8080/",
          "height": 198
        }
      },
      "execution_count": 11,
      "outputs": [
        {
          "output_type": "display_data",
          "data": {
            "text/plain": [
              "<Figure size 432x288 with 1 Axes>"
            ],
            "image/png": "[encoded data removed]"
          },
          "metadata": {
            "needs_background": "light"
          }
        }
      ]
    },
    {
      "cell_type": "code",
      "source": [
        "\n",
        "# Create and generate a word cloud image:\n",
        "text = str(df['body']).title()\n",
        "wordcloud = WordCloud(max_font_size=50, max_words=100).generate(text)\n",
        "\n",
        "# Save wordcloud \n",
        "wordcloud.to_file('wordclouds/body_wordcloud.png')\n",
        "\n",
        "# Display wordcloud\n",
        "plt.figure()\n",
        "plt.imshow(wordcloud, interpolation='bilinear')\n",
        "plt.axis('off')\n",
        "plt.show()\n",
        "\n"
      ],
      "metadata": {
        "id": "BDpeZcXDp5A7",
        "outputId": "d4fa2998-7cd5-4d5b-bd93-a4caecf90d32",
        "colab": {
          "base_uri": "https://localhost:8080/",
          "height": 198
        }
      },
      "execution_count": 12,
      "outputs": [
        {
          "output_type": "display_data",
          "data": {
            "text/plain": [
              "<Figure size 432x288 with 1 Axes>"
            ],
            "image/png": "[encoded data removed]"
          },
          "metadata": {
            "needs_background": "light"
          }
        }
      ]
    },
    {
      "cell_type": "markdown",
      "metadata": {
        "id": "WvlnEo8NT5mW"
      },
      "source": [
        "## **Text Pre-Processing**\n",
        "\n",
        "Guide\n",
        "* Lower Case conversion\n",
        "* Removing Punctuations\n",
        "* Stop Words Removal\n",
        "* Rare Words Removal\n",
        "* Spelling correction\n",
        "* Tokenization\n",
        "* Lemmatization\n",
        "\n"
      ]
    },
    {
      "cell_type": "markdown",
      "source": [
        "### **Apply enelvo - Normalize noisy words, lowercase the words and remove punctuation.**\n",
        "Enelvo is a tool for normalising noisy words in user-generated content written in Portuguese -- such as tweets, blog posts, and product reviews. It is capable of identifying and normalising spelling mistakes, internet slang, acronyms, proper nouns, and others."
      ],
      "metadata": {
        "id": "vOsQEJxm3fHN"
      }
    },
    {
      "cell_type": "code",
      "source": [
        "from enelvo.normaliser import Normaliser\n",
        "norm = Normaliser(tokenizer='readable', sanitize=True)"
      ],
      "metadata": {
        "id": "FCZge5n03jwl"
      },
      "execution_count": 13,
      "outputs": []
    },
    {
      "cell_type": "code",
      "source": [
        "def normalising(text):\n",
        "  \"\"\" Normalising noisy words in user-generated content written in Portuguese \"\"\"\n",
        "  text_norm =norm.normalise(text)\n",
        "  return text_norm.lower()"
      ],
      "metadata": {
        "id": "WTb-VN0G3qJV"
      },
      "execution_count": 14,
      "outputs": []
    },
    {
      "cell_type": "markdown",
      "source": [
        "### **Tokenizing**"
      ],
      "metadata": {
        "id": "LqkDwtDlzywC"
      }
    },
    {
      "cell_type": "code",
      "source": [
        "from nltk.tokenize import word_tokenize\n",
        "# We need this dataset in order to use the tokenizer\n",
        "nltk.download('punkt')\n",
        "import string\n",
        "\n",
        "def tokenize(text):\n",
        "  \"\"\" Convert text to lowercase and split to a list of words \"\"\"\n",
        "  tokens = word_tokenize(text)\n",
        "  filtered_tokens = [token for token in tokens ] # if token not in string.punctuation\n",
        "  return filtered_tokens"
      ],
      "metadata": {
        "id": "BktL1_Taz1MK"
      },
      "execution_count": 15,
      "outputs": []
    },
    {
      "cell_type": "markdown",
      "source": [
        "### **Remove stop words**"
      ],
      "metadata": {
        "id": "apKEdeOWM5aM"
      }
    },
    {
      "cell_type": "code",
      "source": [
        "from nltk.corpus import stopwords\n",
        "# download stop words\n",
        "nltk.download('stopwords')\n",
        "\n",
        "def remove_stop_words(tokens):\n",
        "  \"\"\" Remove stop words \"\"\"\n",
        "  portuguese_stop_words = stopwords.words('portuguese')\n",
        "  tokens_wo_stop_words = [word for word in tokens if word not in portuguese_stop_words]\n",
        "  return tokens_wo_stop_words"
      ],
      "metadata": {
        "id": "KJdIkZLmM8IR"
      },
      "execution_count": 16,
      "outputs": []
    },
    {
      "cell_type": "markdown",
      "source": [
        "### **Word Stemming**"
      ],
      "metadata": {
        "id": "Q8SAwPUl9VCk"
      }
    },
    {
      "cell_type": "code",
      "source": [
        "from nltk.stem import SnowballStemmer\n",
        "def stemming(tokens):\n",
        "  \"\"\" Stemming text \"\"\"\n",
        "  stemmer = SnowballStemmer('portuguese') \n",
        "  stemmed_words = [stemmer.stem(word) for word in tokens]\n",
        "  return stemmed_words"
      ],
      "metadata": {
        "id": "0gL5dhBa9kwf"
      },
      "execution_count": 17,
      "outputs": []
    },
    {
      "cell_type": "markdown",
      "source": [
        "### **Process text**"
      ],
      "metadata": {
        "id": "ZZy2_IxfR4FH"
      }
    },
    {
      "cell_type": "code",
      "source": [
        "def process_text(text):\n",
        "   text_norm = normalising(text)\n",
        "   tokens = tokenize(text_norm)\n",
        "   tokens_wo_stop_words = remove_stop_words(tokens)\n",
        "   return stemming(tokens_wo_stop_words)"
      ],
      "metadata": {
        "id": "Pv-EyfLkltdv"
      },
      "execution_count": 18,
      "outputs": []
    },
    {
      "cell_type": "code",
      "source": [
        "texts = df['body'].map(process_text)\n",
        "texts[:1]"
      ],
      "metadata": {
        "id": "3ewrMVB5R6Ro",
        "outputId": "44452946-c886-45e3-ac2a-748d5c65c8c9",
        "colab": {
          "base_uri": "https://localhost:8080/"
        }
      },
      "execution_count": 19,
      "outputs": [
        {
          "output_type": "execute_result",
          "data": {
            "text/plain": [
              "0    [olá, precis, ajud, entend, problem, receb, em...\n",
              "Name: body, dtype: object"
            ]
          },
          "metadata": {},
          "execution_count": 19
        }
      ]
    },
    {
      "cell_type": "markdown",
      "source": [
        "### **Create a dictionary using the bag of words model**\n",
        "- Document: some text.\n",
        "- Corpus: a collection of documents."
      ],
      "metadata": {
        "id": "5gjWR5iNpJ8X"
      }
    },
    {
      "cell_type": "code",
      "source": [
        "from gensim import corpora\n",
        "\n",
        "# associate each word in the corpus with a unique integer ID.\n",
        "dictionary = corpora.Dictionary(texts)\n",
        "\n",
        "# filter out tokens that appear in less than 2 documents \n",
        "# filter out tokens that appear in more than 0.9 documents (fraction of total corpus size, not absolute number).\n",
        "# keep only the first 100000 most frequent tokens.\n",
        "dictionary.filter_extremes(no_below=3, no_above=0.5, keep_n=100000)\n",
        "\n",
        "# create the bag-of-word representation for documents\n",
        "corpus = [dictionary.doc2bow(text) for text in texts]\n",
        "\n",
        "# the first entry in each tuple corresponds to the ID of the token in the dictionary\n",
        "# the second corresponds to the count of this token.\n",
        "print(corpus)"
      ],
      "metadata": {
        "id": "BzC30gRZoBOL",
        "outputId": "078df385-4a88-4887-d002-0e2b54b4d640",
        "colab": {
          "base_uri": "https://localhost:8080/"
        }
      },
      "execution_count": 20,
      "outputs": [
        {
          "output_type": "stream",
          "name": "stdout",
          "text": [
            "[[(0, 2), (1, 1), (2, 3)], [(3, 1), (4, 2), (5, 1), (6, 1), (7, 1), (8, 1), (9, 3), (10, 1)], [(2, 1), (7, 1), (8, 1), (11, 1), (12, 1), (13, 1), (14, 1), (15, 1)], [(0, 2), (2, 3), (10, 1), (11, 2), (15, 1), (16, 1)], [(7, 1), (13, 1), (14, 1)], [(3, 3), (4, 1), (6, 1), (7, 1), (9, 2), (12, 1), (14, 1), (16, 2)], [(1, 1), (5, 1), (9, 2), (17, 1)], [(0, 2), (6, 1), (8, 1), (10, 1), (11, 2), (13, 1), (17, 7)], [(3, 1), (4, 2), (5, 2), (9, 3), (10, 1)], [(1, 1), (7, 1), (9, 1), (12, 1), (14, 1), (15, 2), (16, 1), (17, 1)]]\n"
          ]
        }
      ]
    },
    {
      "cell_type": "markdown",
      "source": [
        "### **Preview Bag Of Words**"
      ],
      "metadata": {
        "id": "UmEoqoYlweop"
      }
    },
    {
      "cell_type": "code",
      "source": [
        "# print how many times each word appear\n",
        "bow_doc = corpus[0] \n",
        "table = []\n",
        "for i in range(len(bow_doc)):\n",
        "    index = bow_doc[i][0]\n",
        "    word = dictionary[bow_doc[i][0]]\n",
        "    times = bow_doc[i][1]\n",
        "    table.append([index, word, times])\n",
        "print(tabulate(table,headers=[\"Word ID\", \"Word\", \"Times\"], tablefmt=\"github\"))"
      ],
      "metadata": {
        "id": "HhfPYQtxwknn",
        "outputId": "b2268a95-7f06-40db-b18f-ad16520663d1",
        "colab": {
          "base_uri": "https://localhost:8080/"
        }
      },
      "execution_count": 21,
      "outputs": [
        {
          "output_type": "stream",
          "name": "stdout",
          "text": [
            "|   Word ID | Word   |   Times |\n",
            "|-----------|--------|---------|\n",
            "|         0 | cobr   |       2 |\n",
            "|         1 | ped    |       1 |\n",
            "|         2 | valor  |       3 |\n"
          ]
        }
      ]
    },
    {
      "cell_type": "markdown",
      "source": [
        "### **Train an LDA model with 5 clusters**"
      ],
      "metadata": {
        "id": "-jKqOvBOpWBs"
      }
    },
    {
      "cell_type": "code",
      "source": [
        "from gensim import models\n",
        "\n",
        "NUM_TOPICS = 5\n",
        "\n",
        "# train the model\n",
        "lda_model = models.ldamodel.LdaModel(corpus, num_topics=NUM_TOPICS, id2word=dictionary, passes=15)"
      ],
      "metadata": {
        "id": "9lUsZjZRpcbM"
      },
      "execution_count": 22,
      "outputs": []
    },
    {
      "cell_type": "code",
      "source": [
        "# print the score and topics in one document sorted by topic score\n",
        "for index, score in sorted(lda_model[corpus[5]], key=lambda x:x[1], reverse=True):\n",
        "    print(f\"\\nScore: {score}\\t \\nTopic: {lda_model.print_topic(index, 10)}\")"
      ],
      "metadata": {
        "id": "v9STva2pzQpc",
        "outputId": "84bfcb48-ac29-45b7-ce26-8906f593181f",
        "colab": {
          "base_uri": "https://localhost:8080/"
        }
      },
      "execution_count": 23,
      "outputs": [
        {
          "output_type": "stream",
          "name": "stdout",
          "text": [
            "\n",
            "Score: 0.9377323985099792\t \n",
            "Topic: 0.130*\"devolu\" + 0.130*\"porém\" + 0.130*\"produt\" + 0.089*\"nad\" + 0.089*\"send\" + 0.089*\"nov\" + 0.089*\"pois\" + 0.049*\"ped\" + 0.049*\"inform\" + 0.049*\"dias\"\n",
            "\n",
            "Score: 0.015898389741778374\t \n",
            "Topic: 0.294*\"produt\" + 0.151*\"dias\" + 0.151*\"dinheir\" + 0.079*\"quer\" + 0.079*\"devolu\" + 0.052*\"ped\" + 0.043*\"inform\" + 0.043*\"pod\" + 0.043*\"nad\" + 0.008*\"valor\"\n",
            "\n",
            "Score: 0.015531262382864952\t \n",
            "Topic: 0.151*\"nad\" + 0.151*\"outr\" + 0.151*\"pois\" + 0.082*\"pod\" + 0.082*\"send\" + 0.082*\"nov\" + 0.082*\"assinatur\" + 0.082*\"valor\" + 0.014*\"ped\" + 0.014*\"cancel\"\n",
            "\n",
            "Score: 0.015428375452756882\t \n",
            "Topic: 0.418*\"cancel\" + 0.112*\"assinatur\" + 0.112*\"cobr\" + 0.061*\"inform\" + 0.061*\"pod\" + 0.061*\"quer\" + 0.061*\"outr\" + 0.010*\"ped\" + 0.010*\"produt\" + 0.010*\"dinheir\"\n",
            "\n",
            "Score: 0.01540958508849144\t \n",
            "Topic: 0.320*\"valor\" + 0.217*\"cobr\" + 0.114*\"assinatur\" + 0.062*\"quer\" + 0.062*\"send\" + 0.062*\"porém\" + 0.049*\"ped\" + 0.010*\"nad\" + 0.010*\"outr\" + 0.010*\"pois\"\n"
          ]
        }
      ]
    },
    {
      "cell_type": "markdown",
      "source": [
        "### **Visualization of topics**"
      ],
      "metadata": {
        "id": "4d1nMib0-x3M"
      }
    },
    {
      "cell_type": "markdown",
      "source": [
        "### **Train a TF-IDF Model**\n",
        "\n",
        "The tf-idf model transforms vectors from the bag-of-words representation to a vector space where the frequency counts are weighted according to the relative rarity of each word in the corpus.\n",
        "\n",
        "More rarity a word is more weighted a word is."
      ],
      "metadata": {
        "id": "An26euq-7nEk"
      }
    },
    {
      "cell_type": "code",
      "source": [
        "# train the model\n",
        "tfidf = models.TfidfModel(corpus, id2word=dictionary)"
      ],
      "metadata": {
        "id": "kXHDLlqVz9TQ"
      },
      "execution_count": 24,
      "outputs": []
    },
    {
      "cell_type": "code",
      "source": [
        "# print the weight of each word in one document sorted by weight\n",
        "table = []\n",
        "for id, weight in sorted(tfidf[corpus[5]], key=lambda x: x[1], reverse=True):\n",
        "    word = dictionary[id]\n",
        "    table.append([id, word, weight])\n",
        "print(tabulate(table, headers=[\"Word ID\",\"Word\", \"TF-IDF Weight\"], tablefmt=\"github\"))"
      ],
      "metadata": {
        "id": "RZDSU9yD5qDH",
        "outputId": "cb6b6629-d659-4407-981f-8b8610fe824d",
        "colab": {
          "base_uri": "https://localhost:8080/"
        }
      },
      "execution_count": 25,
      "outputs": [
        {
          "output_type": "stream",
          "name": "stdout",
          "text": [
            "|   Word ID | Word   |   TF-IDF Weight |\n",
            "|-----------|--------|-----------------|\n",
            "|         3 | devolu |        0.702508 |\n",
            "|        16 | porém  |        0.468338 |\n",
            "|         9 | produt |        0.26963  |\n",
            "|         4 | dias   |        0.234169 |\n",
            "|         6 | inform |        0.234169 |\n",
            "|        12 | nov    |        0.234169 |\n",
            "|        14 | pois   |        0.178216 |\n",
            "|         7 | nad    |        0.134815 |\n"
          ]
        }
      ]
    },
    {
      "cell_type": "markdown",
      "source": [
        "### **Similarity**"
      ],
      "metadata": {
        "id": "cPNykH2rZkFz"
      }
    },
    {
      "cell_type": "code",
      "source": [
        "from gensim import similarities\n",
        "\n",
        "index = similarities.SparseMatrixSimilarity(tfidf[corpus], num_features=12)"
      ],
      "metadata": {
        "id": "LeJl4fcFZmB9"
      },
      "execution_count": 26,
      "outputs": []
    },
    {
      "cell_type": "code",
      "source": [
        "query_document = 'system engineering'.split()\n",
        "query_bow = dictionary.doc2bow(query_document)\n",
        "sims = index[tfidf[query_bow]]\n",
        "print(list(enumerate(sims)))"
      ],
      "metadata": {
        "id": "gT71PiQigbZi"
      },
      "execution_count": null,
      "outputs": []
    },
    {
      "cell_type": "markdown",
      "source": [
        "### **Topic Modeling**\n",
        "\n",
        "Gensin\n",
        "- LSA, LDA\n",
        "NTKL\n",
        "Spacy\n",
        "Scikit-learn"
      ],
      "metadata": {
        "id": "LWTtwhkk2n4S"
      }
    },
    {
      "cell_type": "markdown",
      "source": [
        "### **Latent Semantic Analysis (LSA)** "
      ],
      "metadata": {
        "id": "no16baSgggQB"
      }
    },
    {
      "cell_type": "code",
      "source": [],
      "metadata": {
        "id": "dGbidS4n2qw-"
      },
      "execution_count": null,
      "outputs": []
    },
    {
      "cell_type": "markdown",
      "source": [
        "### **Latent Dirichlet Allocation (LDA)**"
      ],
      "metadata": {
        "id": "1q8Po3zegigM"
      }
    },
    {
      "cell_type": "markdown",
      "source": [
        "BERTimbau"
      ],
      "metadata": {
        "id": "_OE08YEM5PEp"
      }
    },
    {
      "cell_type": "code",
      "source": [
        "from transformers import AutoModel, AutoTokenizer"
      ],
      "metadata": {
        "id": "myO9rkSl5VRA"
      },
      "execution_count": null,
      "outputs": []
    },
    {
      "cell_type": "code",
      "source": [
        "# BERT Base\n",
        "tokenizer = AutoTokenizer.from_pretrained('neuralmind/bert-base-portuguese-cased')\n",
        "model = AutoModel.from_pretrained('neuralmind/bert-base-portuguese-cased')"
      ],
      "metadata": {
        "id": "2Tgw27sq5Sy_"
      },
      "execution_count": null,
      "outputs": []
    },
    {
      "cell_type": "markdown",
      "source": [
        "### **Texblob**"
      ],
      "metadata": {
        "id": "JwHAzXHs_bj2"
      }
    },
    {
      "cell_type": "code",
      "source": [
        "from textblob import TextBlob\n",
        "from nltk.sentiment.vader import SentimentIntensityAnalyzer"
      ],
      "metadata": {
        "id": "Qc-jhVX2_fIe"
      },
      "execution_count": null,
      "outputs": []
    },
    {
      "cell_type": "code",
      "source": [
        "sid = SentimentIntensityAnalyzer()"
      ],
      "metadata": {
        "id": "xfpTn8qmIhO5"
      },
      "execution_count": null,
      "outputs": []
    },
    {
      "cell_type": "code",
      "source": [
        "def get_blob_sentiment(sentence):\n",
        "  blob = TextBlob(sentence).sentiment\n",
        "  return blob.polarity"
      ],
      "metadata": {
        "id": "qJLW4tDG_5Oz"
      },
      "execution_count": null,
      "outputs": []
    },
    {
      "cell_type": "markdown",
      "source": [
        "### **Vader**"
      ],
      "metadata": {
        "id": "L5z5Tr7FIKBl"
      }
    },
    {
      "cell_type": "code",
      "source": [
        "nltk.download('vader_lexicon')"
      ],
      "metadata": {
        "id": "GBONwIhIILyc"
      },
      "execution_count": null,
      "outputs": []
    },
    {
      "cell_type": "code",
      "source": [
        "def get_vader_sentiment(sentence):\n",
        "  vader = sid.polarity_scores(sentence)\n",
        "  return vader['compound']"
      ],
      "metadata": {
        "id": "FTBht6U6I9YD"
      },
      "execution_count": null,
      "outputs": []
    },
    {
      "cell_type": "code",
      "source": [
        "df['TextBlob'] = df['body'].apply(lambda sentence: get_blob_sentiment(sentence))\n",
        "df['Vader'] = df['body'].apply(lambda sentence: get_vader_sentiment(sentence))"
      ],
      "metadata": {
        "id": "vUoKYgeGJWiQ"
      },
      "execution_count": null,
      "outputs": []
    },
    {
      "cell_type": "markdown",
      "source": [
        "A negative sentiment score means \n",
        "negative sentiment, and a positive sentiment score means positive sentiment. The higher \n",
        "the absolute value of the score, the more confident the system is about it"
      ],
      "metadata": {
        "id": "vT8dYlRQLD1U"
      }
    },
    {
      "cell_type": "code",
      "source": [
        "df.head(10)"
      ],
      "metadata": {
        "id": "wvpqU7r1K9Nl"
      },
      "execution_count": null,
      "outputs": []
    },
    {
      "cell_type": "markdown",
      "source": [
        "### **Clustering sentences with K-Means**"
      ],
      "metadata": {
        "id": "fKOeVmUlL08M"
      }
    },
    {
      "cell_type": "code",
      "source": [
        "import re\n",
        "from sklearn.cluster import KMeans\n",
        "from sklearn.feature_extraction.text import TfidfVectorizer\n",
        "from nltk.probability import FreqDist\n",
        "from sklearn.model_selection import train_test_split"
      ],
      "metadata": {
        "id": "q4q2KdkXL83B"
      },
      "execution_count": null,
      "outputs": []
    },
    {
      "cell_type": "markdown",
      "metadata": {
        "id": "zANBqSOtNerU"
      },
      "source": [
        "## **Save Models to Google Cloud Storage**"
      ]
    },
    {
      "cell_type": "code",
      "execution_count": null,
      "metadata": {
        "id": "JQ_BMRXENmIi"
      },
      "outputs": [],
      "source": [
        "# import google cloud dependencies\n",
        "from google.colab import auth\n",
        "import uuid # for generate a unique identification for google bucket\n",
        "# Define a project id in google cloud\n",
        "project_id = '<project_ID>'\n",
        "\n",
        "auth.authenticate_user()\n",
        "# configure gsutil\n",
        "## !gcloud config set project {project_id}\n",
        "# set bucket name\n",
        "##backet_name = f'sample-bucket-{uuid.uuid1()}'\n",
        "## !gsuit mb gs://{bucket_name}"
      ]
    },
    {
      "cell_type": "code",
      "execution_count": null,
      "metadata": {
        "id": "0srGkyyiPHEq"
      },
      "outputs": [],
      "source": [
        "# upload model to Google Cloud Storage\n",
        "!gsuit cp /tmp/name_of_file.txt gs://{bucket_name}/\n",
        "\n",
        "# location of model\n",
        "download_location = f\"https://console.cloud.google.com/storage/browser?project={project_id}\"\n",
        "\n",
        "# donwload model from Google Cloud Storage\n",
        "!gsuit cp gs://{bucket_name}/{filename} {download_location}"
      ]
    },
    {
      "cell_type": "markdown",
      "metadata": {
        "id": "sStwWfuAzGZ3"
      },
      "source": [
        "## **References**\n"
      ]
    },
    {
      "cell_type": "markdown",
      "metadata": {
        "id": "8UcEjjp6F266"
      },
      "source": [
        "[LangDetect](https://pypi.org/project/langdetect/) <br/>\n",
        "[Diagrams](https://pypi.org/project/diagrams/) <br/>\n",
        "[Graphviz](https://pypi.org/project/graphviz/) <br/>\n",
        "[Beautifulsoap4](https://pypi.org/project/beautifulsoup4/) <br/>\n",
        "[OpLexicon](https://www.inf.pucrs.br/linatural/wordpress/recursos-e-ferramentas/oplexicon/)"
      ]
    }
  ],
  "metadata": {
    "colab": {
      "collapsed_sections": [],
      "provenance": [],
      "include_colab_link": true
    },
    "kernelspec": {
      "display_name": "Python 3.10.4 ('.env': venv)",
      "language": "python",
      "name": "python3"
    },
    "language_info": {
      "name": "python",
      "version": "3.10.4"
    },
    "vscode": {
      "interpreter": {
        "hash": "6870af64cccb2dc4285885e4363d49c25adb22669b810ecb9f48ab42b19689bd"
      }
    }
  },
  "nbformat": 4,
  "nbformat_minor": 0
}