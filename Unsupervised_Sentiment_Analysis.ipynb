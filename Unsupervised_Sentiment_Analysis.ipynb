{
  "nbformat": 4,
  "nbformat_minor": 0,
  "metadata": {
    "colab": {
      "provenance": [],
      "authorship_tag": "ABX9TyNTLsB0IWxl0Rz0ICAxDJtR",
      "include_colab_link": true
    },
    "kernelspec": {
      "name": "python3",
      "display_name": "Python 3"
    },
    "language_info": {
      "name": "python"
    }
  },
  "cells": [
    {
      "cell_type": "markdown",
      "metadata": {
        "id": "view-in-github",
        "colab_type": "text"
      },
      "source": [
        "<a href=\"https://colab.research.google.com/github/punkmic/Unsupervised-Sentiment-Analysis---Comparisen-analysis/blob/master/Unsupervised_Sentiment_Analysis.ipynb\" target=\"_parent\"><img src=\"https://colab.research.google.com/assets/colab-badge.svg\" alt=\"Open In Colab\"/></a>"
      ]
    },
    {
      "cell_type": "markdown",
      "source": [
        "# **Intro**"
      ],
      "metadata": {
        "id": "tXD6WQspxJWc"
      }
    },
    {
      "cell_type": "markdown",
      "source": [
        "## **Install Dependecies**"
      ],
      "metadata": {
        "id": "-593AM2lxMMh"
      }
    },
    {
      "cell_type": "code",
      "execution_count": 1,
      "metadata": {
        "colab": {
          "base_uri": "https://localhost:8080/"
        },
        "id": "C7gQcM_NxE2w",
        "outputId": "26280d75-7879-499e-c88e-57b0a03c7389"
      },
      "outputs": [
        {
          "output_type": "stream",
          "name": "stdout",
          "text": [
            "/bin/bash: -c: line 0: syntax error near unexpected token `<'\n",
            "/bin/bash: -c: line 0: `pip install langdetect <a id = \"ref_ID\"[1]></a> # for language detection '\n"
          ]
        }
      ],
      "source": [
        "# install dependecies here\n",
        "!pip install langdetect  # for language detection\n",
        "!pip install googletrans # for text translate\n",
        "!pip install diagrams # for visualize the workflow\n",
        "!pip install graphviz # for visualize the workflow\n",
        "!pip install beautifulsoup4 # for web scraping"
      ]
    },
    {
      "cell_type": "markdown",
      "source": [
        "## **Load Depencies**"
      ],
      "metadata": {
        "id": "Rkydqr0uxUiB"
      }
    },
    {
      "cell_type": "code",
      "source": [
        "# load dependecies here\n",
        "from langdetect import detect as dt\n",
        "from diagrams import Diagram as dg\n",
        "from googletrans import Translator as tls\n",
        "from bs4 import BeautifulSoup as bs\n",
        "import pandas as pd"
      ],
      "metadata": {
        "id": "Km0RDHK_xX8V"
      },
      "execution_count": null,
      "outputs": []
    },
    {
      "cell_type": "markdown",
      "source": [
        "## **Web Scraping** "
      ],
      "metadata": {
        "id": "NIqJWN1txfl6"
      }
    },
    {
      "cell_type": "code",
      "source": [
        "# web scraping here"
      ],
      "metadata": {
        "id": "WXaCBvgIxiYy"
      },
      "execution_count": null,
      "outputs": []
    },
    {
      "cell_type": "markdown",
      "source": [
        "## **Save Data to Mysql for Offline Use**"
      ],
      "metadata": {
        "id": "II9FekPIxlfq"
      }
    },
    {
      "cell_type": "code",
      "source": [
        "# save to mysql"
      ],
      "metadata": {
        "id": "ven-W7oyxp36"
      },
      "execution_count": null,
      "outputs": []
    },
    {
      "cell_type": "markdown",
      "source": [
        "## **Load Dataset**"
      ],
      "metadata": {
        "id": "x0cdDKUrxsq1"
      }
    },
    {
      "cell_type": "code",
      "source": [
        "# load dataset here"
      ],
      "metadata": {
        "id": "pzdi7uwrx8Ls"
      },
      "execution_count": null,
      "outputs": []
    },
    {
      "cell_type": "markdown",
      "source": [
        "## **Text Pre-Processing**\n",
        "\n",
        "* Lower Case conversion\n",
        "* Removing Punctuations\n",
        "* Stop Words Removal\n",
        "* Rare Words Removal\n",
        "* Spelling correction\n",
        "* Tokenization\n",
        "* Lemmatization\n",
        "\n"
      ],
      "metadata": {
        "id": "WvlnEo8NT5mW"
      }
    },
    {
      "cell_type": "code",
      "source": [
        "# pre-processing text here"
      ],
      "metadata": {
        "id": "EjlLrq9mT8et"
      },
      "execution_count": null,
      "outputs": []
    },
    {
      "cell_type": "markdown",
      "source": [
        "## **Feature Extraction**"
      ],
      "metadata": {
        "id": "pdfSShCFW0CV"
      }
    },
    {
      "cell_type": "code",
      "source": [
        "# Bag of words, TF-IDF"
      ],
      "metadata": {
        "id": "o7kxo36OW3V1"
      },
      "execution_count": null,
      "outputs": []
    },
    {
      "cell_type": "markdown",
      "source": [
        "## **Modeling**"
      ],
      "metadata": {
        "id": "QgomdGNsW-yO"
      }
    },
    {
      "cell_type": "code",
      "source": [
        "# create and train models"
      ],
      "metadata": {
        "id": "ynLLxAwFXBDm"
      },
      "execution_count": null,
      "outputs": []
    },
    {
      "cell_type": "markdown",
      "source": [
        "## **Save Models to Google Cloud Storage**"
      ],
      "metadata": {
        "id": "zANBqSOtNerU"
      }
    },
    {
      "cell_type": "code",
      "source": [
        "# import google cloud dependencies\n",
        "from google.colab import auth\n",
        "import uuid # for generate a unique identification for google bucket\n",
        "# Define a project id in google cloud\n",
        "project_id = '<project_ID>'\n",
        "\n",
        "auth.authenticate_user()\n",
        "# configure gsutil\n",
        "## !gcloud config set project {project_id}\n",
        "# set bucket name\n",
        "##backet_name = f'sample-bucket-{uuid.uuid1()}'\n",
        "## !gsuit mb gs://{bucket_name}"
      ],
      "metadata": {
        "id": "JQ_BMRXENmIi"
      },
      "execution_count": null,
      "outputs": []
    },
    {
      "cell_type": "code",
      "source": [
        "# upload model to Google Cloud Storage\n",
        "!gsuit cp /tmp/name_of_file.txt gs://{bucket_name}/\n",
        "\n",
        "# location of model\n",
        "download_location = f\"https://console.cloud.google.com/storage/browser?project={project_id}\"\n",
        "\n",
        "# donwload model from Google Cloud Storage\n",
        "!gsuit cp gs://{bucket_name}/{filename} {download_location}"
      ],
      "metadata": {
        "id": "0srGkyyiPHEq"
      },
      "execution_count": null,
      "outputs": []
    },
    {
      "cell_type": "markdown",
      "source": [
        "## **References**\n"
      ],
      "metadata": {
        "id": "sStwWfuAzGZ3"
      }
    },
    {
      "cell_type": "markdown",
      "source": [
        "[LangDetect](https://pypi.org/project/langdetect/) <br/>\n",
        "[Diagrams](https://pypi.org/project/diagrams/) <br/>\n",
        "[Graphviz](https://pypi.org/project/graphviz/) <br/>\n",
        "[GoogleTrans](https://pypi.org/project/googletrans/) <br/>\n",
        "[Beautifulsoap4](https://pypi.org/project/beautifulsoup4/) <br/>\n",
        "[OpLexicon](https://www.inf.pucrs.br/linatural/wordpress/recursos-e-ferramentas/oplexicon/)"
      ],
      "metadata": {
        "id": "8UcEjjp6F266"
      }
    }
  ]
}