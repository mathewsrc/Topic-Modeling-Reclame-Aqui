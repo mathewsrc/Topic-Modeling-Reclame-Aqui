{
  "cells": [
    {
      "cell_type": "markdown",
      "metadata": {
        "id": "view-in-github",
        "colab_type": "text"
      },
      "source": [
        "<a href=\"https://colab.research.google.com/github/punkmic/unsupervised-Sentiment-Analysis---Comparisen-analysis/blob/master/Unsupervised_Sentiment_Analysis.ipynb\" target=\"_parent\"><img src=\"https://colab.research.google.com/assets/colab-badge.svg\" alt=\"Open In Colab\"/></a>"
      ]
    },
    {
      "cell_type": "markdown",
      "metadata": {
        "id": "tXD6WQspxJWc"
      },
      "source": [
        "# **Intro**"
      ]
    },
    {
      "cell_type": "markdown",
      "metadata": {
        "id": "-593AM2lxMMh"
      },
      "source": [
        "## **Install Dependecies**"
      ]
    },
    {
      "cell_type": "code",
      "execution_count": null,
      "metadata": {
        "id": "C7gQcM_NxE2w"
      },
      "outputs": [],
      "source": [
        " \n",
        "# install dependecies here\n",
        "!pip install langdetect  # for language detection\n",
        "!pip install diagrams # for visualize the workflow\n",
        "!pip install graphviz # for visualize the workflow\n",
        "!pip install textblob # for unsupervised sentiment analysis\n",
        "!pip install wordcloud # for wordcloud plot\n",
        "!pip install matplotlib # for plot\n",
        "!pip install Pillow # for image manipulation\n",
        "!pip install nltk # for natural language prepocessing\n",
        "!pip install enelvo # for fix slangs, abbreviations, spelling errors\n",
        "!pip install gensim # for machile learning\n",
        "!pip install tabulate # for print as table\n",
        "!pip install transformers # for machine learning\n",
        "!pip install numpy==1.21.6 # for mathematical\n",
        "!pip install pyldavis # for model visualization"
      ]
    },
    {
      "cell_type": "markdown",
      "metadata": {
        "id": "Rkydqr0uxUiB"
      },
      "source": [
        "## **Load Depencies**"
      ]
    },
    {
      "cell_type": "code",
      "execution_count": null,
      "metadata": {
        "id": "Km0RDHK_xX8V"
      },
      "outputs": [],
      "source": [
        "# load dependecies here\n",
        "from langdetect import detect as dt\n",
        "from diagrams import Diagram as dg\n",
        "import pandas as pd\n",
        "from PIL import Image\n",
        "import os \n",
        "import matplotlib.pyplot as plt\n",
        "import nltk\n",
        "from tabulate import tabulate"
      ]
    },
    {
      "cell_type": "markdown",
      "metadata": {
        "id": "x0cdDKUrxsq1"
      },
      "source": [
        "## **Load Dataset**"
      ]
    },
    {
      "cell_type": "markdown",
      "source": [
        "### **Clone Github repository** "
      ],
      "metadata": {
        "id": "SdXyTWtNhrU1"
      }
    },
    {
      "cell_type": "code",
      "execution_count": null,
      "metadata": {
        "id": "pzdi7uwrx8Ls",
        "outputId": "e098cd41-0d9f-4d3f-d035-0139ab2d45b5",
        "colab": {
          "base_uri": "https://localhost:8080/"
        }
      },
      "outputs": [
        {
          "output_type": "stream",
          "name": "stdout",
          "text": [
            "fatal: destination path 'unsupervised-Sentiment-Analysis---Comparisen-analysis' already exists and is not an empty directory.\n",
            "/content/unsupervised-Sentiment-Analysis---Comparisen-analysis\n",
            "app.py\t\t   Makefile\t     results\n",
            "clear_datasets.py  __pycache__\t     Unsupervised_Sentiment_Analysis.ipynb\n",
            "Drivers\t\t   README.md\t     webscraping.py\n",
            "LICENSE\t\t   requirements.txt  wordclouds\n"
          ]
        }
      ],
      "source": [
        "# Files cloned from github may not automatically appear in files tab in this case right click and choose update\n",
        "# this will update our files.\n",
        "!git clone https://github.com/punkmic/unsupervised-Sentiment-Analysis---Comparisen-analysis.git\n",
        "%cd /content/unsupervised-Sentiment-Analysis---Comparisen-analysis\n",
        "!ls"
      ]
    },
    {
      "cell_type": "code",
      "source": [
        "# !git pull "
      ],
      "metadata": {
        "id": "Z9_q4bS6laSt"
      },
      "execution_count": null,
      "outputs": []
    },
    {
      "cell_type": "markdown",
      "source": [
        "### **Load csv file**"
      ],
      "metadata": {
        "id": "PCZ8r-JXh2FZ"
      }
    },
    {
      "cell_type": "code",
      "source": [
        "PATH_TO_CSV = '/content/unsupervised-Sentiment-Analysis---Comparisen-analysis/results/web_scraping_results.csv'\n",
        "df = pd.read_csv(PATH_TO_CSV, encoding='utf-8')\n",
        "# lower colnames \n",
        "df.rename(columns={'Title':'title', 'Body':'body'}, inplace=True)\n",
        "df.head()"
      ],
      "metadata": {
        "id": "xLkm22-Ph6_P",
        "outputId": "ceed3f50-2989-4044-fe50-b31830e384ac",
        "colab": {
          "base_uri": "https://localhost:8080/",
          "height": 206
        }
      },
      "execution_count": null,
      "outputs": [
        {
          "output_type": "execute_result",
          "data": {
            "text/plain": [
              "                                               title  \\\n",
              "0  Recebi um e-mail que parte do pedido não foi p...   \n",
              "1      Produto falsificado e não me deixam devolver    \n",
              "2          COBRANDO CONTEUDO DIGITAL sem solicitação   \n",
              "3                                  Cobrança indevida   \n",
              "4  Troquei de telefone e consigo acessar minha conta   \n",
              "\n",
              "                                                body  \n",
              "0  Olá!Preciso da ajuda de vocês para entender qu...  \n",
              "1  COMPREI UM PERFUME E QUANDO RECEBI O PRODUTO N...  \n",
              "2  Novamente estava em casa, quando terminei de a...  \n",
              "3  Fiz a assinatura da amazon prime video no valo...  \n",
              "4  Prezados,Tenho uma conta na Amazon ao qual já ...  "
            ],
            "text/html": [
              "\n",
              "  <div id=\"df-6c0aa1e6-004c-45e5-91ef-f170950294de\">\n",
              "    <div class=\"colab-df-container\">\n",
              "      <div>\n",
              "<style scoped>\n",
              "    .dataframe tbody tr th:only-of-type {\n",
              "        vertical-align: middle;\n",
              "    }\n",
              "\n",
              "    .dataframe tbody tr th {\n",
              "        vertical-align: top;\n",
              "    }\n",
              "\n",
              "    .dataframe thead th {\n",
              "        text-align: right;\n",
              "    }\n",
              "</style>\n",
              "<table border=\"1\" class=\"dataframe\">\n",
              "  <thead>\n",
              "    <tr style=\"text-align: right;\">\n",
              "      <th></th>\n",
              "      <th>title</th>\n",
              "      <th>body</th>\n",
              "    </tr>\n",
              "  </thead>\n",
              "  <tbody>\n",
              "    <tr>\n",
              "      <th>0</th>\n",
              "      <td>Recebi um e-mail que parte do pedido não foi p...</td>\n",
              "      <td>Olá!Preciso da ajuda de vocês para entender qu...</td>\n",
              "    </tr>\n",
              "    <tr>\n",
              "      <th>1</th>\n",
              "      <td>Produto falsificado e não me deixam devolver</td>\n",
              "      <td>COMPREI UM PERFUME E QUANDO RECEBI O PRODUTO N...</td>\n",
              "    </tr>\n",
              "    <tr>\n",
              "      <th>2</th>\n",
              "      <td>COBRANDO CONTEUDO DIGITAL sem solicitação</td>\n",
              "      <td>Novamente estava em casa, quando terminei de a...</td>\n",
              "    </tr>\n",
              "    <tr>\n",
              "      <th>3</th>\n",
              "      <td>Cobrança indevida</td>\n",
              "      <td>Fiz a assinatura da amazon prime video no valo...</td>\n",
              "    </tr>\n",
              "    <tr>\n",
              "      <th>4</th>\n",
              "      <td>Troquei de telefone e consigo acessar minha conta</td>\n",
              "      <td>Prezados,Tenho uma conta na Amazon ao qual já ...</td>\n",
              "    </tr>\n",
              "  </tbody>\n",
              "</table>\n",
              "</div>\n",
              "      <button class=\"colab-df-convert\" onclick=\"convertToInteractive('df-6c0aa1e6-004c-45e5-91ef-f170950294de')\"\n",
              "              title=\"Convert this dataframe to an interactive table.\"\n",
              "              style=\"display:none;\">\n",
              "        \n",
              "  <svg xmlns=\"http://www.w3.org/2000/svg\" height=\"24px\"viewBox=\"0 0 24 24\"\n",
              "       width=\"24px\">\n",
              "    <path d=\"M0 0h24v24H0V0z\" fill=\"none\"/>\n",
              "    <path d=\"M18.56 5.44l.94 2.06.94-2.06 2.06-.94-2.06-.94-.94-2.06-.94 2.06-2.06.94zm-11 1L8.5 8.5l.94-2.06 2.06-.94-2.06-.94L8.5 2.5l-.94 2.06-2.06.94zm10 10l.94 2.06.94-2.06 2.06-.94-2.06-.94-.94-2.06-.94 2.06-2.06.94z\"/><path d=\"M17.41 7.96l-1.37-1.37c-.4-.4-.92-.59-1.43-.59-.52 0-1.04.2-1.43.59L10.3 9.45l-7.72 7.72c-.78.78-.78 2.05 0 2.83L4 21.41c.39.39.9.59 1.41.59.51 0 1.02-.2 1.41-.59l7.78-7.78 2.81-2.81c.8-.78.8-2.07 0-2.86zM5.41 20L4 18.59l7.72-7.72 1.47 1.35L5.41 20z\"/>\n",
              "  </svg>\n",
              "      </button>\n",
              "      \n",
              "  <style>\n",
              "    .colab-df-container {\n",
              "      display:flex;\n",
              "      flex-wrap:wrap;\n",
              "      gap: 12px;\n",
              "    }\n",
              "\n",
              "    .colab-df-convert {\n",
              "      background-color: #E8F0FE;\n",
              "      border: none;\n",
              "      border-radius: 50%;\n",
              "      cursor: pointer;\n",
              "      display: none;\n",
              "      fill: #1967D2;\n",
              "      height: 32px;\n",
              "      padding: 0 0 0 0;\n",
              "      width: 32px;\n",
              "    }\n",
              "\n",
              "    .colab-df-convert:hover {\n",
              "      background-color: #E2EBFA;\n",
              "      box-shadow: 0px 1px 2px rgba(60, 64, 67, 0.3), 0px 1px 3px 1px rgba(60, 64, 67, 0.15);\n",
              "      fill: #174EA6;\n",
              "    }\n",
              "\n",
              "    [theme=dark] .colab-df-convert {\n",
              "      background-color: #3B4455;\n",
              "      fill: #D2E3FC;\n",
              "    }\n",
              "\n",
              "    [theme=dark] .colab-df-convert:hover {\n",
              "      background-color: #434B5C;\n",
              "      box-shadow: 0px 1px 3px 1px rgba(0, 0, 0, 0.15);\n",
              "      filter: drop-shadow(0px 1px 2px rgba(0, 0, 0, 0.3));\n",
              "      fill: #FFFFFF;\n",
              "    }\n",
              "  </style>\n",
              "\n",
              "      <script>\n",
              "        const buttonEl =\n",
              "          document.querySelector('#df-6c0aa1e6-004c-45e5-91ef-f170950294de button.colab-df-convert');\n",
              "        buttonEl.style.display =\n",
              "          google.colab.kernel.accessAllowed ? 'block' : 'none';\n",
              "\n",
              "        async function convertToInteractive(key) {\n",
              "          const element = document.querySelector('#df-6c0aa1e6-004c-45e5-91ef-f170950294de');\n",
              "          const dataTable =\n",
              "            await google.colab.kernel.invokeFunction('convertToInteractive',\n",
              "                                                     [key], {});\n",
              "          if (!dataTable) return;\n",
              "\n",
              "          const docLinkHtml = 'Like what you see? Visit the ' +\n",
              "            '<a target=\"_blank\" href=https://colab.research.google.com/notebooks/data_table.ipynb>data table notebook</a>'\n",
              "            + ' to learn more about interactive tables.';\n",
              "          element.innerHTML = '';\n",
              "          dataTable['output_type'] = 'display_data';\n",
              "          await google.colab.output.renderOutput(dataTable, element);\n",
              "          const docLink = document.createElement('div');\n",
              "          docLink.innerHTML = docLinkHtml;\n",
              "          element.appendChild(docLink);\n",
              "        }\n",
              "      </script>\n",
              "    </div>\n",
              "  </div>\n",
              "  "
            ]
          },
          "metadata": {},
          "execution_count": 5
        }
      ]
    },
    {
      "cell_type": "markdown",
      "source": [
        "### **Plot some statistics of text**"
      ],
      "metadata": {
        "id": "t6oMhx4pkmU1"
      }
    },
    {
      "cell_type": "code",
      "source": [
        "df.describe()"
      ],
      "metadata": {
        "id": "bFQkBO-KkVb3",
        "outputId": "83eff4e7-520a-4377-c0aa-ef1f65eb22f1",
        "colab": {
          "base_uri": "https://localhost:8080/",
          "height": 175
        }
      },
      "execution_count": null,
      "outputs": [
        {
          "output_type": "execute_result",
          "data": {
            "text/plain": [
              "                                                    title  \\\n",
              "count                                                  10   \n",
              "unique                                                 10   \n",
              "top     Recebi um e-mail que parte do pedido não foi p...   \n",
              "freq                                                    1   \n",
              "\n",
              "                                                     body  \n",
              "count                                                  10  \n",
              "unique                                                 10  \n",
              "top     Olá!Preciso da ajuda de vocês para entender qu...  \n",
              "freq                                                    1  "
            ],
            "text/html": [
              "\n",
              "  <div id=\"df-7c790ed9-bb59-49be-887a-7450b86e5394\">\n",
              "    <div class=\"colab-df-container\">\n",
              "      <div>\n",
              "<style scoped>\n",
              "    .dataframe tbody tr th:only-of-type {\n",
              "        vertical-align: middle;\n",
              "    }\n",
              "\n",
              "    .dataframe tbody tr th {\n",
              "        vertical-align: top;\n",
              "    }\n",
              "\n",
              "    .dataframe thead th {\n",
              "        text-align: right;\n",
              "    }\n",
              "</style>\n",
              "<table border=\"1\" class=\"dataframe\">\n",
              "  <thead>\n",
              "    <tr style=\"text-align: right;\">\n",
              "      <th></th>\n",
              "      <th>title</th>\n",
              "      <th>body</th>\n",
              "    </tr>\n",
              "  </thead>\n",
              "  <tbody>\n",
              "    <tr>\n",
              "      <th>count</th>\n",
              "      <td>10</td>\n",
              "      <td>10</td>\n",
              "    </tr>\n",
              "    <tr>\n",
              "      <th>unique</th>\n",
              "      <td>10</td>\n",
              "      <td>10</td>\n",
              "    </tr>\n",
              "    <tr>\n",
              "      <th>top</th>\n",
              "      <td>Recebi um e-mail que parte do pedido não foi p...</td>\n",
              "      <td>Olá!Preciso da ajuda de vocês para entender qu...</td>\n",
              "    </tr>\n",
              "    <tr>\n",
              "      <th>freq</th>\n",
              "      <td>1</td>\n",
              "      <td>1</td>\n",
              "    </tr>\n",
              "  </tbody>\n",
              "</table>\n",
              "</div>\n",
              "      <button class=\"colab-df-convert\" onclick=\"convertToInteractive('df-7c790ed9-bb59-49be-887a-7450b86e5394')\"\n",
              "              title=\"Convert this dataframe to an interactive table.\"\n",
              "              style=\"display:none;\">\n",
              "        \n",
              "  <svg xmlns=\"http://www.w3.org/2000/svg\" height=\"24px\"viewBox=\"0 0 24 24\"\n",
              "       width=\"24px\">\n",
              "    <path d=\"M0 0h24v24H0V0z\" fill=\"none\"/>\n",
              "    <path d=\"M18.56 5.44l.94 2.06.94-2.06 2.06-.94-2.06-.94-.94-2.06-.94 2.06-2.06.94zm-11 1L8.5 8.5l.94-2.06 2.06-.94-2.06-.94L8.5 2.5l-.94 2.06-2.06.94zm10 10l.94 2.06.94-2.06 2.06-.94-2.06-.94-.94-2.06-.94 2.06-2.06.94z\"/><path d=\"M17.41 7.96l-1.37-1.37c-.4-.4-.92-.59-1.43-.59-.52 0-1.04.2-1.43.59L10.3 9.45l-7.72 7.72c-.78.78-.78 2.05 0 2.83L4 21.41c.39.39.9.59 1.41.59.51 0 1.02-.2 1.41-.59l7.78-7.78 2.81-2.81c.8-.78.8-2.07 0-2.86zM5.41 20L4 18.59l7.72-7.72 1.47 1.35L5.41 20z\"/>\n",
              "  </svg>\n",
              "      </button>\n",
              "      \n",
              "  <style>\n",
              "    .colab-df-container {\n",
              "      display:flex;\n",
              "      flex-wrap:wrap;\n",
              "      gap: 12px;\n",
              "    }\n",
              "\n",
              "    .colab-df-convert {\n",
              "      background-color: #E8F0FE;\n",
              "      border: none;\n",
              "      border-radius: 50%;\n",
              "      cursor: pointer;\n",
              "      display: none;\n",
              "      fill: #1967D2;\n",
              "      height: 32px;\n",
              "      padding: 0 0 0 0;\n",
              "      width: 32px;\n",
              "    }\n",
              "\n",
              "    .colab-df-convert:hover {\n",
              "      background-color: #E2EBFA;\n",
              "      box-shadow: 0px 1px 2px rgba(60, 64, 67, 0.3), 0px 1px 3px 1px rgba(60, 64, 67, 0.15);\n",
              "      fill: #174EA6;\n",
              "    }\n",
              "\n",
              "    [theme=dark] .colab-df-convert {\n",
              "      background-color: #3B4455;\n",
              "      fill: #D2E3FC;\n",
              "    }\n",
              "\n",
              "    [theme=dark] .colab-df-convert:hover {\n",
              "      background-color: #434B5C;\n",
              "      box-shadow: 0px 1px 3px 1px rgba(0, 0, 0, 0.15);\n",
              "      filter: drop-shadow(0px 1px 2px rgba(0, 0, 0, 0.3));\n",
              "      fill: #FFFFFF;\n",
              "    }\n",
              "  </style>\n",
              "\n",
              "      <script>\n",
              "        const buttonEl =\n",
              "          document.querySelector('#df-7c790ed9-bb59-49be-887a-7450b86e5394 button.colab-df-convert');\n",
              "        buttonEl.style.display =\n",
              "          google.colab.kernel.accessAllowed ? 'block' : 'none';\n",
              "\n",
              "        async function convertToInteractive(key) {\n",
              "          const element = document.querySelector('#df-7c790ed9-bb59-49be-887a-7450b86e5394');\n",
              "          const dataTable =\n",
              "            await google.colab.kernel.invokeFunction('convertToInteractive',\n",
              "                                                     [key], {});\n",
              "          if (!dataTable) return;\n",
              "\n",
              "          const docLinkHtml = 'Like what you see? Visit the ' +\n",
              "            '<a target=\"_blank\" href=https://colab.research.google.com/notebooks/data_table.ipynb>data table notebook</a>'\n",
              "            + ' to learn more about interactive tables.';\n",
              "          element.innerHTML = '';\n",
              "          dataTable['output_type'] = 'display_data';\n",
              "          await google.colab.output.renderOutput(dataTable, element);\n",
              "          const docLink = document.createElement('div');\n",
              "          docLink.innerHTML = docLinkHtml;\n",
              "          element.appendChild(docLink);\n",
              "        }\n",
              "      </script>\n",
              "    </div>\n",
              "  </div>\n",
              "  "
            ]
          },
          "metadata": {},
          "execution_count": 6
        }
      ]
    },
    {
      "cell_type": "markdown",
      "source": [
        "## **Plot wordcloud**"
      ],
      "metadata": {
        "id": "5R_DJGXHnZhJ"
      }
    },
    {
      "cell_type": "code",
      "source": [
        "from wordcloud import WordCloud, STOPWORDS, ImageColorGenerator"
      ],
      "metadata": {
        "id": "ougKX8fd02-H"
      },
      "execution_count": null,
      "outputs": []
    },
    {
      "cell_type": "code",
      "source": [
        "# print currently directory\n",
        "!pwd"
      ],
      "metadata": {
        "id": "IGBXVhu1vK5O",
        "outputId": "4cfe9bf5-3a63-46b8-f937-044946a31feb",
        "colab": {
          "base_uri": "https://localhost:8080/"
        }
      },
      "execution_count": null,
      "outputs": [
        {
          "output_type": "stream",
          "name": "stdout",
          "text": [
            "/content/unsupervised-Sentiment-Analysis---Comparisen-analysis\n"
          ]
        }
      ]
    },
    {
      "cell_type": "code",
      "source": [
        "# create a new directory for wordclouds\n",
        "wordclouds = '/content/unsupervised-Sentiment-Analysis---Comparisen-analysis/results/wordclouds/'\n",
        "!mkdir wordclouds"
      ],
      "metadata": {
        "id": "QNIgRpoyrXvL",
        "outputId": "1688d772-36b4-4829-f9e4-d91fbddc222c",
        "colab": {
          "base_uri": "https://localhost:8080/"
        }
      },
      "execution_count": null,
      "outputs": [
        {
          "output_type": "stream",
          "name": "stdout",
          "text": [
            "mkdir: cannot create directory ‘wordclouds’: File exists\n"
          ]
        }
      ]
    },
    {
      "cell_type": "code",
      "source": [
        "# Create and generate a word cloud image:\n",
        "text = str(df['title']).title()\n",
        "wordcloud = WordCloud(max_font_size=50, max_words=100,  stopwords=STOPWORDS).generate(text)\n",
        "\n",
        "# Save wordcloud \n",
        "wordcloud.to_file('wordclouds/title_wordcloud.png')\n",
        "\n",
        "# Display wordcloud\n",
        "plt.figure()\n",
        "plt.imshow(wordcloud, interpolation='bilinear')\n",
        "plt.axis(\"off\")\n",
        "plt.show()\n",
        "\n"
      ],
      "metadata": {
        "id": "KKtysdp8mLBT",
        "outputId": "04b476cc-8b48-448e-adac-e63869d0c925",
        "colab": {
          "base_uri": "https://localhost:8080/",
          "height": 198
        }
      },
      "execution_count": null,
      "outputs": [
        {
          "output_type": "display_data",
          "data": {
            "text/plain": [
              "<Figure size 432x288 with 1 Axes>"
            ],
            "image/png": "[encoded data removed]"
          },
          "metadata": {
            "needs_background": "light"
          }
        }
      ]
    },
    {
      "cell_type": "code",
      "source": [
        "\n",
        "# Create and generate a word cloud image:\n",
        "text = str(df['body']).title()\n",
        "wordcloud = WordCloud(max_font_size=50, max_words=100).generate(text)\n",
        "\n",
        "# Save wordcloud \n",
        "wordcloud.to_file('wordclouds/body_wordcloud.png')\n",
        "\n",
        "# Display wordcloud\n",
        "plt.figure()\n",
        "plt.imshow(wordcloud, interpolation='bilinear')\n",
        "plt.axis('off')\n",
        "plt.show()\n",
        "\n"
      ],
      "metadata": {
        "id": "BDpeZcXDp5A7",
        "outputId": "6e145eb4-041e-4afe-bb2f-b3fd5f37f48d",
        "colab": {
          "base_uri": "https://localhost:8080/",
          "height": 198
        }
      },
      "execution_count": null,
      "outputs": [
        {
          "output_type": "display_data",
          "data": {
            "text/plain": [
              "<Figure size 432x288 with 1 Axes>"
            ],
            "image/png": "[encoded data removed]"
          },
          "metadata": {
            "needs_background": "light"
          }
        }
      ]
    },
    {
      "cell_type": "markdown",
      "metadata": {
        "id": "WvlnEo8NT5mW"
      },
      "source": [
        "## **Text Pre-Processing**\n",
        "\n",
        "Guide\n",
        "* Lower Case conversion\n",
        "* Removing Punctuations\n",
        "* Stop Words Removal\n",
        "* Rare Words Removal\n",
        "* Spelling correction\n",
        "* Tokenization\n",
        "* Lemmatization\n",
        "\n"
      ]
    },
    {
      "cell_type": "markdown",
      "source": [
        "### **Apply enelvo - Normalize noisy words, lowercase the words and remove punctuation.**\n",
        "Enelvo is a tool for normalising noisy words in user-generated content written in Portuguese -- such as tweets, blog posts, and product reviews. It is capable of identifying and normalising spelling mistakes, internet slang, acronyms, proper nouns, and others."
      ],
      "metadata": {
        "id": "vOsQEJxm3fHN"
      }
    },
    {
      "cell_type": "code",
      "source": [
        "from enelvo.normaliser import Normaliser\n",
        "norm = Normaliser(tokenizer='readable', sanitize=True)"
      ],
      "metadata": {
        "id": "FCZge5n03jwl"
      },
      "execution_count": null,
      "outputs": []
    },
    {
      "cell_type": "code",
      "source": [
        "def normalising(text):\n",
        "  \"\"\" Normalising noisy words in user-generated content written in Portuguese \"\"\"\n",
        "  text_norm =norm.normalise(text)\n",
        "  return text_norm.lower()"
      ],
      "metadata": {
        "id": "WTb-VN0G3qJV"
      },
      "execution_count": null,
      "outputs": []
    },
    {
      "cell_type": "markdown",
      "source": [
        "### **Tokenizing**"
      ],
      "metadata": {
        "id": "LqkDwtDlzywC"
      }
    },
    {
      "cell_type": "code",
      "source": [
        "from nltk.tokenize import word_tokenize\n",
        "# We need this dataset in order to use the tokenizer\n",
        "nltk.download('punkt')\n",
        "import string\n",
        "\n",
        "def tokenize(text):\n",
        "  \"\"\" Convert text to lowercase and split to a list of words \"\"\"\n",
        "  tokens = word_tokenize(text)\n",
        "  filtered_tokens = [token for token in tokens ] # if token not in string.punctuation\n",
        "  return filtered_tokens"
      ],
      "metadata": {
        "id": "BktL1_Taz1MK",
        "colab": {
          "base_uri": "https://localhost:8080/"
        },
        "outputId": "d8b1c3ad-06b3-4b1c-f9f0-510d50d2c5cd"
      },
      "execution_count": null,
      "outputs": [
        {
          "output_type": "stream",
          "name": "stderr",
          "text": [
            "[nltk_data] Downloading package punkt to /root/nltk_data...\n",
            "[nltk_data]   Package punkt is already up-to-date!\n"
          ]
        }
      ]
    },
    {
      "cell_type": "markdown",
      "source": [
        "### **Remove stop words**"
      ],
      "metadata": {
        "id": "apKEdeOWM5aM"
      }
    },
    {
      "cell_type": "code",
      "source": [
        "from nltk.corpus import stopwords\n",
        "# download stop words\n",
        "nltk.download('stopwords')\n",
        "\n",
        "def remove_stop_words(tokens):\n",
        "  \"\"\" Remove stop words \"\"\"\n",
        "  portuguese_stop_words = stopwords.words('portuguese')\n",
        "  tokens_wo_stop_words = [word for word in tokens if word not in portuguese_stop_words]\n",
        "  return tokens_wo_stop_words"
      ],
      "metadata": {
        "id": "KJdIkZLmM8IR",
        "colab": {
          "base_uri": "https://localhost:8080/"
        },
        "outputId": "a69d0312-b586-452c-ca3c-9fbe5d1d191d"
      },
      "execution_count": null,
      "outputs": [
        {
          "output_type": "stream",
          "name": "stderr",
          "text": [
            "[nltk_data] Downloading package stopwords to /root/nltk_data...\n",
            "[nltk_data]   Package stopwords is already up-to-date!\n"
          ]
        }
      ]
    },
    {
      "cell_type": "markdown",
      "source": [
        "### **Word Stemming**"
      ],
      "metadata": {
        "id": "Q8SAwPUl9VCk"
      }
    },
    {
      "cell_type": "code",
      "source": [
        "from nltk.stem import SnowballStemmer\n",
        "def stemming(tokens):\n",
        "  \"\"\" Stemming text \"\"\"\n",
        "  stemmer = SnowballStemmer('portuguese') \n",
        "  stemmed_words = [stemmer.stem(word) for word in tokens]\n",
        "  return stemmed_words"
      ],
      "metadata": {
        "id": "0gL5dhBa9kwf"
      },
      "execution_count": null,
      "outputs": []
    },
    {
      "cell_type": "markdown",
      "source": [
        "### **Process text**"
      ],
      "metadata": {
        "id": "ZZy2_IxfR4FH"
      }
    },
    {
      "cell_type": "code",
      "source": [
        "def process_text(text):\n",
        "   text_norm = normalising(text)\n",
        "   tokens = tokenize(text_norm)\n",
        "   tokens_wo_stop_words = remove_stop_words(tokens)\n",
        "   return stemming(tokens_wo_stop_words)"
      ],
      "metadata": {
        "id": "Pv-EyfLkltdv"
      },
      "execution_count": null,
      "outputs": []
    },
    {
      "cell_type": "code",
      "source": [
        "texts = df['body'].map(process_text)\n",
        "texts[:1]"
      ],
      "metadata": {
        "id": "3ewrMVB5R6Ro",
        "outputId": "e57ae26d-d29a-4d11-aa36-e711d68aeb89",
        "colab": {
          "base_uri": "https://localhost:8080/"
        }
      },
      "execution_count": null,
      "outputs": [
        {
          "output_type": "execute_result",
          "data": {
            "text/plain": [
              "0    [olá, precis, ajud, entend, problem, receb, em...\n",
              "Name: body, dtype: object"
            ]
          },
          "metadata": {},
          "execution_count": 18
        }
      ]
    },
    {
      "cell_type": "markdown",
      "source": [
        "### **Create a dictionary using the bag of words model**\n",
        "- Document: some text.\n",
        "- Corpus: a collection of documents."
      ],
      "metadata": {
        "id": "5gjWR5iNpJ8X"
      }
    },
    {
      "cell_type": "code",
      "source": [
        "from gensim import corpora\n",
        "\n",
        "# associate each word in the corpus with a unique integer ID.\n",
        "dictionary = corpora.Dictionary(texts)\n",
        "\n",
        "# filter out tokens that appear in less than 2 documents \n",
        "# filter out tokens that appear in more than 0.9 documents (fraction of total corpus size, not absolute number).\n",
        "# keep only the first 100000 most frequent tokens.\n",
        "dictionary.filter_extremes(no_below=3, no_above=0.5, keep_n=100000)\n",
        "\n",
        "# create the bag-of-word representation for documents\n",
        "corpus = [dictionary.doc2bow(text) for text in texts]\n",
        "\n",
        "print(f'Number of unique tokens: {len(dictionary)}')\n",
        "print(f'Number of documents: {len(corpus)}')"
      ],
      "metadata": {
        "id": "BzC30gRZoBOL",
        "outputId": "e7cbe889-0f5c-43e2-b4c9-50ed96636744",
        "colab": {
          "base_uri": "https://localhost:8080/"
        }
      },
      "execution_count": null,
      "outputs": [
        {
          "output_type": "stream",
          "name": "stdout",
          "text": [
            "Number of unique tokens: 18\n",
            "Number of documents: 10\n"
          ]
        }
      ]
    },
    {
      "cell_type": "markdown",
      "source": [
        "### **Preview Bag Of Words**"
      ],
      "metadata": {
        "id": "UmEoqoYlweop"
      }
    },
    {
      "cell_type": "code",
      "source": [
        "# print how many times each word appear\n",
        "bow_doc = corpus[0] \n",
        "table = []\n",
        "for i in range(len(bow_doc)):\n",
        "    index = bow_doc[i][0]\n",
        "    word = dictionary[bow_doc[i][0]]\n",
        "    times = bow_doc[i][1]\n",
        "    table.append([word, times])\n",
        "print(tabulate(table,headers=[\"Word\", \"Frequency\"], tablefmt=\"github\"))"
      ],
      "metadata": {
        "id": "HhfPYQtxwknn",
        "outputId": "e6b77841-1881-4b78-a046-b479674e32dc",
        "colab": {
          "base_uri": "https://localhost:8080/"
        }
      },
      "execution_count": null,
      "outputs": [
        {
          "output_type": "stream",
          "name": "stdout",
          "text": [
            "| Word   |   Times |\n",
            "|--------|---------|\n",
            "| cobr   |       2 |\n",
            "| ped    |       1 |\n",
            "| valor  |       3 |\n"
          ]
        }
      ]
    },
    {
      "cell_type": "markdown",
      "source": [
        "## **Topic Modeling**"
      ],
      "metadata": {
        "id": "qs2QZk03jxFa"
      }
    },
    {
      "cell_type": "code",
      "source": [
        "# setup visulization\n",
        "import pyLDAvis.gensim_models as gensimvis\n",
        "\n",
        "def visualize_model(model):\n",
        "  return gensimvis.prepare(model, corpus, dictionary)"
      ],
      "metadata": {
        "id": "tp3OaQznFleC"
      },
      "execution_count": null,
      "outputs": []
    },
    {
      "cell_type": "markdown",
      "source": [
        "### **Latent Dirichlet Allocation (LDA) model**"
      ],
      "metadata": {
        "id": "-jKqOvBOpWBs"
      }
    },
    {
      "cell_type": "code",
      "source": [
        "from gensim import models\n",
        "from gensim.models.callbacks import PerplexityMetric, ConvergenceMetric, CoherenceMetric\n",
        "\n",
        "# Set up the callbacks loggers\n",
        "perplexity_logger = PerplexityMetric(corpus=corpus, logger='shell')\n",
        "convergence_logger = ConvergenceMetric(logger='shell')\n",
        "coherence_cv_logger = CoherenceMetric(corpus=corpus, logger='shell', coherence = 'c_v', texts = texts)\n",
        "\n",
        "NUM_TOPICS = 5\n",
        "iterations = 50\n",
        "passes = 50\n",
        "\n",
        "# train model\n",
        "lda_model = models.ldamodel.LdaModel(corpus=corpus,\n",
        "            id2word=dictionary,\n",
        "            num_topics=NUM_TOPICS,\n",
        "            eval_every=10,\n",
        "            iterations=iterations,\n",
        "            passes=passes,\n",
        "            callbacks=[convergence_logger, perplexity_logger, coherence_cv_logger])\n",
        "\n",
        "# Save models so they aren't lost\n",
        "if not os.path.exists(f\"models/lda_{iterations}i50p/\"):\n",
        "   os.makedirs(f\"models/lda_{iterations}i50p/\")\n",
        "\n",
        "lda_model.save(f\"models/lda_{iterations}i50p/lda_{iterations}i50p.model\")"
      ],
      "metadata": {
        "id": "9lUsZjZRpcbM"
      },
      "execution_count": null,
      "outputs": []
    },
    {
      "cell_type": "code",
      "source": [
        "# print the score and topics in one document sorted by topic score\n",
        "for index, score in sorted(lda_model[corpus[5]], key=lambda x:x[1], reverse=True):\n",
        "    print(f\"\\nScore: {score}\\t \\nTopic: {lda_model.print_topic(index, 8)}\")"
      ],
      "metadata": {
        "id": "v9STva2pzQpc",
        "outputId": "f1012174-7636-4ea9-e800-110e042ec0fa",
        "colab": {
          "base_uri": "https://localhost:8080/"
        }
      },
      "execution_count": null,
      "outputs": [
        {
          "output_type": "stream",
          "name": "stdout",
          "text": [
            "\n",
            "Score: 0.7135381698608398\t \n",
            "Topic: 0.150*\"produt\" + 0.124*\"devolu\" + 0.095*\"valor\" + 0.095*\"dias\" + 0.086*\"porém\" + 0.065*\"quer\" + 0.065*\"assinatur\" + 0.065*\"cobr\"\n",
            "\n",
            "Score: 0.24004164338111877\t \n",
            "Topic: 0.158*\"pois\" + 0.140*\"nad\" + 0.121*\"send\" + 0.120*\"nov\" + 0.083*\"outr\" + 0.057*\"porém\" + 0.050*\"produt\" + 0.045*\"pod\"\n",
            "\n",
            "Score: 0.015601587481796741\t \n",
            "Topic: 0.221*\"produt\" + 0.136*\"valor\" + 0.136*\"dinheir\" + 0.093*\"ped\" + 0.093*\"dias\" + 0.093*\"cobr\" + 0.051*\"quer\" + 0.051*\"devolu\"\n",
            "\n",
            "Score: 0.015422102063894272\t \n",
            "Topic: 0.387*\"cancel\" + 0.118*\"cobr\" + 0.118*\"assinatur\" + 0.064*\"pod\" + 0.064*\"quer\" + 0.064*\"inform\" + 0.064*\"outr\" + 0.011*\"devolu\"\n",
            "\n",
            "Score: 0.015396473929286003\t \n",
            "Topic: 0.056*\"valor\" + 0.056*\"cancel\" + 0.056*\"produt\" + 0.056*\"cobr\" + 0.056*\"assinatur\" + 0.056*\"pod\" + 0.056*\"ped\" + 0.056*\"outr\"\n"
          ]
        }
      ]
    },
    {
      "cell_type": "markdown",
      "source": [
        "### **Visualization of topics**"
      ],
      "metadata": {
        "id": "4d1nMib0-x3M"
      }
    },
    {
      "cell_type": "code",
      "source": [
        "visualize_model(lda_model)"
      ],
      "metadata": {
        "colab": {
          "base_uri": "https://localhost:8080/",
          "height": 916
        },
        "id": "4DtS1Szo-AYI",
        "outputId": "60428186-79c1-41d3-b8bb-ca74352409ba"
      },
      "execution_count": null,
      "outputs": [
        {
          "output_type": "stream",
          "name": "stderr",
          "text": [
            "/usr/local/lib/python3.7/dist-packages/pyLDAvis/_prepare.py:247: FutureWarning: In a future version of pandas all arguments of DataFrame.drop except for the argument 'labels' will be keyword-only\n",
            "  by='saliency', ascending=False).head(R).drop('saliency', 1)\n"
          ]
        },
        {
          "output_type": "execute_result",
          "data": {
            "text/plain": [
              "PreparedData(topic_coordinates=              x         y  topics  cluster       Freq\n",
              "topic                                                \n",
              "3      0.163697 -0.113239       1        1  26.239729\n",
              "0     -0.096932 -0.093872       2        1  23.790111\n",
              "4     -0.183093  0.057051       3        1  22.673465\n",
              "1      0.163955  0.127753       4        1  18.004123\n",
              "2     -0.047627  0.022307       5        1   9.292572, topic_info=         Term      Freq     Total Category  logprob  loglift\n",
              "17     cancel  8.000000  8.000000  Default  18.0000  18.0000\n",
              "9      produt  9.000000  9.000000  Default  17.0000  17.0000\n",
              "2       valor  6.000000  6.000000  Default  16.0000  16.0000\n",
              "5     dinheir  4.000000  4.000000  Default  15.0000  15.0000\n",
              "4        dias  5.000000  5.000000  Default  14.0000  14.0000\n",
              "..        ...       ...       ...      ...      ...      ...\n",
              "11  assinatur  0.141062  5.031254   Topic5  -4.0599  -1.1983\n",
              "4        dias  0.141063  5.049863   Topic5  -4.0599  -1.2020\n",
              "3      devolu  0.141063  5.061837   Topic5  -4.0599  -1.2043\n",
              "0        cobr  0.141063  5.868457   Topic5  -4.0599  -1.3522\n",
              "2       valor  0.141061  6.678350   Topic5  -4.0599  -1.4815\n",
              "\n",
              "[108 rows x 6 columns], token_table=      Topic      Freq       Term\n",
              "term                            \n",
              "11        1  0.596273  assinatur\n",
              "11        4  0.397515  assinatur\n",
              "17        2  0.120031     cancel\n",
              "17        4  0.720187     cancel\n",
              "17        5  0.120031     cancel\n",
              "0         1  0.681610       cobr\n",
              "0         4  0.340805       cobr\n",
              "3         2  0.592670     devolu\n",
              "3         3  0.395113     devolu\n",
              "4         2  0.198025       dias\n",
              "4         3  0.792101       dias\n",
              "5         3  0.739106    dinheir\n",
              "5         5  0.246369    dinheir\n",
              "6         2  0.297164     inform\n",
              "6         3  0.297164     inform\n",
              "6         4  0.297164     inform\n",
              "7         1  0.203750        nad\n",
              "7         2  0.407500        nad\n",
              "7         3  0.203750        nad\n",
              "7         5  0.203750        nad\n",
              "12        1  0.297841        nov\n",
              "12        2  0.595682        nov\n",
              "13        1  0.311408       outr\n",
              "13        4  0.311408       outr\n",
              "13        5  0.311408       outr\n",
              "1         1  0.311410        ped\n",
              "1         2  0.311410        ped\n",
              "1         5  0.311410        ped\n",
              "8         1  0.298402        pod\n",
              "8         3  0.298402        pod\n",
              "8         4  0.298402        pod\n",
              "14        1  0.246135       pois\n",
              "14        2  0.492271       pois\n",
              "14        5  0.246135       pois\n",
              "16        1  0.237605      porém\n",
              "16        2  0.712814      porém\n",
              "9         2  0.304465     produt\n",
              "9         3  0.507442     produt\n",
              "9         5  0.202977     produt\n",
              "10        1  0.238300       quer\n",
              "10        3  0.476601       quer\n",
              "10        4  0.238300       quer\n",
              "15        1  0.476794       send\n",
              "15        2  0.476794       send\n",
              "2         1  0.898426      valor, R=18, lambda_step=0.01, plot_opts={'xlab': 'PC1', 'ylab': 'PC2'}, topic_order=[4, 1, 5, 2, 3])"
            ],
            "text/html": [
              "\n",
              "<link rel=\"stylesheet\" type=\"text/css\" href=\"https://cdn.jsdelivr.net/gh/bmabey/pyLDAvis@3.3.1/pyLDAvis/js/ldavis.v1.0.0.css\">\n",
              "\n",
              "\n",
              "<div id=\"ldavis_el26971400351236052005495008529\"></div>\n",
              "<script type=\"text/javascript\">\n",
              "\n",
              "var ldavis_el26971400351236052005495008529_data = {\"mdsDat\": {\"x\": [0.16369666520789725, -0.09693178603621298, -0.18309331169644358, 0.16395525292453977, -0.04762682039978078], \"y\": [-0.11323892147339087, -0.09387171508542345, 0.05705101711776184, 0.12775280341500164, 0.022306816026050853], \"topics\": [1, 2, 3, 4, 5], \"cluster\": [1, 1, 1, 1, 1], \"Freq\": [26.239729277335105, 23.790110734059034, 22.673464652153882, 18.00412327268099, 9.292572063770994]}, \"tinfo\": {\"Term\": [\"cancel\", \"produt\", \"valor\", \"dinheir\", \"dias\", \"cobr\", \"assinatur\", \"pois\", \"outr\", \"devolu\", \"ped\", \"por\\u00e9m\", \"nad\", \"send\", \"quer\", \"nov\", \"inform\", \"pod\", \"valor\", \"cobr\", \"assinatur\", \"send\", \"outr\", \"ped\", \"pod\", \"nov\", \"pois\", \"quer\", \"por\\u00e9m\", \"nad\", \"inform\", \"dinheir\", \"dias\", \"devolu\", \"cancel\", \"produt\", \"por\\u00e9m\", \"nov\", \"devolu\", \"pois\", \"send\", \"nad\", \"ped\", \"inform\", \"produt\", \"dias\", \"cancel\", \"outr\", \"pod\", \"dinheir\", \"quer\", \"assinatur\", \"cobr\", \"valor\", \"dias\", \"dinheir\", \"produt\", \"quer\", \"devolu\", \"pod\", \"inform\", \"nad\", \"ped\", \"outr\", \"nov\", \"pois\", \"send\", \"por\\u00e9m\", \"assinatur\", \"cobr\", \"valor\", \"cancel\", \"cancel\", \"assinatur\", \"cobr\", \"outr\", \"pod\", \"inform\", \"quer\", \"ped\", \"nov\", \"dinheir\", \"pois\", \"send\", \"por\\u00e9m\", \"nad\", \"dias\", \"devolu\", \"valor\", \"produt\", \"ped\", \"outr\", \"dinheir\", \"pois\", \"nad\", \"produt\", \"cancel\", \"pod\", \"nov\", \"inform\", \"send\", \"quer\", \"por\\u00e9m\", \"assinatur\", \"dias\", \"devolu\", \"cobr\", \"valor\"], \"Freq\": [8.0, 9.0, 6.0, 4.0, 5.0, 5.0, 5.0, 4.0, 3.0, 5.0, 3.0, 4.0, 4.0, 4.0, 4.0, 3.0, 3.0, 3.0, 6.027833292623185, 3.515402261638198, 2.6782297640059824, 1.8414794551626146, 1.0030812509182763, 1.0026713630660227, 1.0036175889578989, 1.0032524317841702, 1.0023934307154179, 1.0032427114636446, 1.0030127785719187, 1.0020695633987893, 0.1674463811129264, 0.16744517682542764, 0.16744474672274953, 0.16744452091884351, 0.16744717680288093, 0.16744674670020282, 2.7253720150979617, 1.8739500036582721, 2.7243191492842564, 1.8749489003502673, 1.872911643995778, 1.8754878116667637, 1.0210159989200418, 1.0210843962029024, 2.7215835699300697, 1.0195011199892707, 1.0134304516875678, 0.17024643282709329, 0.1702437421700138, 0.17024327422965216, 0.1702437616675289, 0.1702390237713672, 0.1702394527166987, 0.1702380878906439, 3.551677401088391, 2.7056368751873205, 5.243550925180141, 1.8603490088834627, 1.8588341755246631, 1.01425518879602, 1.0139616619592242, 1.0139153547373139, 0.16905172353627018, 0.1690501440363254, 0.1690462417423442, 0.1690514448009858, 0.16904546128354797, 0.16904505247179755, 0.1690433986424436, 0.16904399327771694, 0.16904246952482904, 0.16904707794819732, 6.138959624457666, 1.8726797626530713, 1.872707739135733, 1.0222194790240995, 1.02200204155126, 1.0215859356382528, 1.0214809943172136, 0.17018821850717974, 0.17018026527714034, 0.1701782290141618, 0.17018699379828683, 0.17017986687786194, 0.17017850936920956, 0.1701905646362637, 0.17017687150550942, 0.17017654688387518, 0.1701752779083958, 0.17018075220959172, 0.8482746638862001, 0.8466206217595028, 0.8454545427753102, 0.8462227694283059, 0.846318180875573, 1.550575053162801, 0.8422818379828526, 0.141070531383622, 0.14106786583392983, 0.14106646451637736, 0.14106644928466483, 0.14106760689481687, 0.1410645910157366, 0.1410621996368699, 0.14106320492989666, 0.14106273274680833, 0.1410632963201718, 0.14106073739246733], \"Total\": [8.0, 9.0, 6.0, 4.0, 5.0, 5.0, 5.0, 4.0, 3.0, 5.0, 3.0, 4.0, 4.0, 4.0, 4.0, 3.0, 3.0, 3.0, 6.67834986533952, 5.868456743088519, 5.031254148709734, 4.1946828766044675, 3.2112179285652975, 3.2112019679157147, 3.351189092858815, 3.357496808295857, 4.062803539093264, 4.196384083226667, 4.208672946526624, 4.907981475314704, 3.3651448394296835, 4.058958098031873, 5.049863344235818, 5.061837125358445, 8.331166168879165, 9.853337047182807, 4.208672946526624, 3.357496808295857, 5.061837125358445, 4.062803539093264, 4.1946828766044675, 4.907981475314704, 3.2112019679157147, 3.3651448394296835, 9.853337047182807, 5.049863344235818, 8.331166168879165, 3.2112179285652975, 3.351189092858815, 4.058958098031873, 4.196384083226667, 5.031254148709734, 5.868456743088519, 6.67834986533952, 5.049863344235818, 4.058958098031873, 9.853337047182807, 4.196384083226667, 5.061837125358445, 3.351189092858815, 3.3651448394296835, 4.907981475314704, 3.2112019679157147, 3.2112179285652975, 3.357496808295857, 4.062803539093264, 4.1946828766044675, 4.208672946526624, 5.031254148709734, 5.868456743088519, 6.67834986533952, 8.331166168879165, 8.331166168879165, 5.031254148709734, 5.868456743088519, 3.2112179285652975, 3.351189092858815, 3.3651448394296835, 4.196384083226667, 3.2112019679157147, 3.357496808295857, 4.058958098031873, 4.062803539093264, 4.1946828766044675, 4.208672946526624, 4.907981475314704, 5.049863344235818, 5.061837125358445, 6.67834986533952, 9.853337047182807, 3.2112019679157147, 3.2112179285652975, 4.058958098031873, 4.062803539093264, 4.907981475314704, 9.853337047182807, 8.331166168879165, 3.351189092858815, 3.357496808295857, 3.3651448394296835, 4.1946828766044675, 4.196384083226667, 4.208672946526624, 5.031254148709734, 5.049863344235818, 5.061837125358445, 5.868456743088519, 6.67834986533952], \"Category\": [\"Default\", \"Default\", \"Default\", \"Default\", \"Default\", \"Default\", \"Default\", \"Default\", \"Default\", \"Default\", \"Default\", \"Default\", \"Default\", \"Default\", \"Default\", \"Default\", \"Default\", \"Default\", \"Topic1\", \"Topic1\", \"Topic1\", \"Topic1\", \"Topic1\", \"Topic1\", \"Topic1\", \"Topic1\", \"Topic1\", \"Topic1\", \"Topic1\", \"Topic1\", \"Topic1\", \"Topic1\", \"Topic1\", \"Topic1\", \"Topic1\", \"Topic1\", \"Topic2\", \"Topic2\", \"Topic2\", \"Topic2\", \"Topic2\", \"Topic2\", \"Topic2\", \"Topic2\", \"Topic2\", \"Topic2\", \"Topic2\", \"Topic2\", \"Topic2\", \"Topic2\", \"Topic2\", \"Topic2\", \"Topic2\", \"Topic2\", \"Topic3\", \"Topic3\", \"Topic3\", \"Topic3\", \"Topic3\", \"Topic3\", \"Topic3\", \"Topic3\", \"Topic3\", \"Topic3\", \"Topic3\", \"Topic3\", \"Topic3\", \"Topic3\", \"Topic3\", \"Topic3\", \"Topic3\", \"Topic3\", \"Topic4\", \"Topic4\", \"Topic4\", \"Topic4\", \"Topic4\", \"Topic4\", \"Topic4\", \"Topic4\", \"Topic4\", \"Topic4\", \"Topic4\", \"Topic4\", \"Topic4\", \"Topic4\", \"Topic4\", \"Topic4\", \"Topic4\", \"Topic4\", \"Topic5\", \"Topic5\", \"Topic5\", \"Topic5\", \"Topic5\", \"Topic5\", \"Topic5\", \"Topic5\", \"Topic5\", \"Topic5\", \"Topic5\", \"Topic5\", \"Topic5\", \"Topic5\", \"Topic5\", \"Topic5\", \"Topic5\", \"Topic5\"], \"logprob\": [18.0, 17.0, 16.0, 15.0, 14.0, 13.0, 12.0, 11.0, 10.0, 9.0, 8.0, 7.0, 6.0, 5.0, 4.0, 3.0, 2.0, 1.0, -1.3431, -1.8823, -2.1543, -2.5289, -3.1364, -3.1368, -3.1358, -3.1362, -3.1371, -3.1362, -3.1364, -3.1374, -4.9265, -4.9265, -4.9265, -4.9265, -4.9265, -4.9265, -2.0388, -2.4134, -2.0392, -2.4129, -2.4139, -2.4126, -3.0206, -3.0206, -2.0402, -3.0221, -3.0281, -4.8119, -4.812, -4.812, -4.812, -4.812, -4.812, -4.812, -1.7259, -1.998, -1.3364, -2.3726, -2.3734, -2.9792, -2.9795, -2.9795, -4.7709, -4.7709, -4.7709, -4.7709, -4.7709, -4.771, -4.771, -4.771, -4.771, -4.7709, -0.9481, -2.1354, -2.1354, -2.7408, -2.741, -2.7414, -2.7415, -4.5336, -4.5337, -4.5337, -4.5336, -4.5337, -4.5337, -4.5336, -4.5337, -4.5337, -4.5337, -4.5337, -2.2659, -2.2679, -2.2693, -2.2684, -2.2682, -1.6628, -2.273, -4.0599, -4.0599, -4.0599, -4.0599, -4.0599, -4.0599, -4.0599, -4.0599, -4.0599, -4.0599, -4.0599], \"loglift\": [18.0, 17.0, 16.0, 15.0, 14.0, 13.0, 12.0, 11.0, 10.0, 9.0, 8.0, 7.0, 6.0, 5.0, 4.0, 3.0, 2.0, 1.0, 1.2354, 0.8255, 0.7074, 0.5146, 0.1743, 0.1739, 0.1322, 0.1299, -0.0616, -0.0931, -0.0962, -0.2509, -1.6627, -1.8501, -2.0686, -2.0709, -2.5692, -2.737, 1.0014, 0.8528, 0.8164, 0.6626, 0.6296, 0.4739, 0.2901, 0.2433, 0.1493, -0.1641, -0.6708, -1.5013, -1.5439, -1.7356, -1.7688, -1.9503, -2.1042, -2.2335, 1.132, 1.0784, 0.8532, 0.6705, 0.4822, 0.2888, 0.2844, -0.0931, -1.4602, -1.4602, -1.5048, -1.6955, -1.7274, -1.7308, -1.9093, -2.0632, -2.1925, -2.4136, 1.4092, 0.7263, 0.5724, 0.5699, 0.527, 0.5225, 0.3016, -1.2229, -1.2675, -1.4573, -1.4582, -1.4901, -1.4935, -1.6471, -1.6757, -1.6781, -1.9552, -2.3441, 1.0448, 1.0428, 0.8071, 0.8071, 0.6182, 0.5268, 0.0843, -0.7919, -0.7938, -0.796, -1.0164, -1.0168, -1.0197, -1.1983, -1.202, -1.2043, -1.3522, -1.4815]}, \"token.table\": {\"Topic\": [1, 4, 2, 4, 5, 1, 4, 2, 3, 2, 3, 3, 5, 2, 3, 4, 1, 2, 3, 5, 1, 2, 1, 4, 5, 1, 2, 5, 1, 3, 4, 1, 2, 5, 1, 2, 2, 3, 5, 1, 3, 4, 1, 2, 1], \"Freq\": [0.596272800245909, 0.3975152001639393, 0.12003121528597901, 0.7201872917158741, 0.12003121528597901, 0.6816102043711809, 0.34080510218559046, 0.592670195761694, 0.39511346384112933, 0.1980251606494368, 0.7921006425977472, 0.7391059300303332, 0.2463686433434444, 0.2971640294001365, 0.2971640294001365, 0.2971640294001365, 0.2037497502852492, 0.4074995005704984, 0.2037497502852492, 0.2037497502852492, 0.297840938382772, 0.595681876765544, 0.31140832613835656, 0.31140832613835656, 0.31140832613835656, 0.3114098739323665, 0.3114098739323665, 0.3114098739323665, 0.2984015441357638, 0.2984015441357638, 0.2984015441357638, 0.24613545557341418, 0.49227091114682836, 0.24613545557341418, 0.23760458764687098, 0.7128137629406129, 0.30446537915372923, 0.5074422985895487, 0.20297691943581947, 0.2383003986687234, 0.4766007973374468, 0.2383003986687234, 0.4767940888105872, 0.4767940888105872, 0.8984255274105749], \"Term\": [\"assinatur\", \"assinatur\", \"cancel\", \"cancel\", \"cancel\", \"cobr\", \"cobr\", \"devolu\", \"devolu\", \"dias\", \"dias\", \"dinheir\", \"dinheir\", \"inform\", \"inform\", \"inform\", \"nad\", \"nad\", \"nad\", \"nad\", \"nov\", \"nov\", \"outr\", \"outr\", \"outr\", \"ped\", \"ped\", \"ped\", \"pod\", \"pod\", \"pod\", \"pois\", \"pois\", \"pois\", \"por\\u00e9m\", \"por\\u00e9m\", \"produt\", \"produt\", \"produt\", \"quer\", \"quer\", \"quer\", \"send\", \"send\", \"valor\"]}, \"R\": 18, \"lambda.step\": 0.01, \"plot.opts\": {\"xlab\": \"PC1\", \"ylab\": \"PC2\"}, \"topic.order\": [4, 1, 5, 2, 3]};\n",
              "\n",
              "function LDAvis_load_lib(url, callback){\n",
              "  var s = document.createElement('script');\n",
              "  s.src = url;\n",
              "  s.async = true;\n",
              "  s.onreadystatechange = s.onload = callback;\n",
              "  s.onerror = function(){console.warn(\"failed to load library \" + url);};\n",
              "  document.getElementsByTagName(\"head\")[0].appendChild(s);\n",
              "}\n",
              "\n",
              "if(typeof(LDAvis) !== \"undefined\"){\n",
              "   // already loaded: just create the visualization\n",
              "   !function(LDAvis){\n",
              "       new LDAvis(\"#\" + \"ldavis_el26971400351236052005495008529\", ldavis_el26971400351236052005495008529_data);\n",
              "   }(LDAvis);\n",
              "}else if(typeof define === \"function\" && define.amd){\n",
              "   // require.js is available: use it to load d3/LDAvis\n",
              "   require.config({paths: {d3: \"https://d3js.org/d3.v5\"}});\n",
              "   require([\"d3\"], function(d3){\n",
              "      window.d3 = d3;\n",
              "      LDAvis_load_lib(\"https://cdn.jsdelivr.net/gh/bmabey/pyLDAvis@3.3.1/pyLDAvis/js/ldavis.v3.0.0.js\", function(){\n",
              "        new LDAvis(\"#\" + \"ldavis_el26971400351236052005495008529\", ldavis_el26971400351236052005495008529_data);\n",
              "      });\n",
              "    });\n",
              "}else{\n",
              "    // require.js not available: dynamically load d3 & LDAvis\n",
              "    LDAvis_load_lib(\"https://d3js.org/d3.v5.js\", function(){\n",
              "         LDAvis_load_lib(\"https://cdn.jsdelivr.net/gh/bmabey/pyLDAvis@3.3.1/pyLDAvis/js/ldavis.v3.0.0.js\", function(){\n",
              "                 new LDAvis(\"#\" + \"ldavis_el26971400351236052005495008529\", ldavis_el26971400351236052005495008529_data);\n",
              "            })\n",
              "         });\n",
              "}\n",
              "</script>"
            ]
          },
          "metadata": {},
          "execution_count": 138
        }
      ]
    },
    {
      "cell_type": "markdown",
      "source": [
        "### **Evaluating LDA model**"
      ],
      "metadata": {
        "id": "Lu6bSyXp97lk"
      }
    },
    {
      "cell_type": "code",
      "source": [
        "# perplexity is the measure of uncertainty, meaning lower the perplexity better the model.\n",
        "print('Perplexity: ', lda_model.log_perplexity(corpus))\n",
        "\n",
        "# Coherence is the measure of semantic similarity between top words in our topic. Higher the coherence better the model performance.\n",
        "coherence_model_lda = models.CoherenceModel(model=lda_model, texts=texts, dictionary=dictionary, coherence='c_v')\n",
        "coherence_lda = coherence_model_lda.get_coherence()\n",
        "print('Coherence Score: ', coherence_lda)"
      ],
      "metadata": {
        "colab": {
          "base_uri": "https://localhost:8080/"
        },
        "id": "fHqJJqzv9-m4",
        "outputId": "6f886a40-c969-4ab5-cf94-83d65e77a954"
      },
      "execution_count": null,
      "outputs": [
        {
          "output_type": "stream",
          "name": "stdout",
          "text": [
            "Perplexity:  -3.2547879523851653\n",
            "Coherence Score:  0.2277093782522118\n"
          ]
        }
      ]
    },
    {
      "cell_type": "markdown",
      "source": [
        "### **TF-IDF model**\n",
        "\n",
        "The tf-idf model transforms vectors from the bag-of-words representation to a vector space where the frequency counts are weighted according to the relative rarity of each word in the corpus.\n",
        "\n",
        "More rarity a word is more weighted a word is."
      ],
      "metadata": {
        "id": "An26euq-7nEk"
      }
    },
    {
      "cell_type": "code",
      "source": [
        "# train the model\n",
        "tfidf_model = models.TfidfModel(corpus, id2word=dictionary)"
      ],
      "metadata": {
        "id": "kXHDLlqVz9TQ"
      },
      "execution_count": null,
      "outputs": []
    },
    {
      "cell_type": "code",
      "source": [
        "# print the weight of each word in one document sorted by weight\n",
        "table = []\n",
        "for id, weight in sorted(tfidf_model[corpus[5]], key=lambda x: x[1], reverse=True):\n",
        "    word = dictionary[id]\n",
        "    table.append([word, weight])\n",
        "print(tabulate(table, headers=[\"Word\", \"TF-IDF Weight\"], tablefmt=\"github\"))"
      ],
      "metadata": {
        "id": "RZDSU9yD5qDH",
        "outputId": "ee8095c2-e5f8-48c1-fa35-15b6f0f0a697",
        "colab": {
          "base_uri": "https://localhost:8080/"
        }
      },
      "execution_count": null,
      "outputs": [
        {
          "output_type": "stream",
          "name": "stdout",
          "text": [
            "| Word   |   TF-IDF Weight |\n",
            "|--------|-----------------|\n",
            "| devolu |        0.702508 |\n",
            "| porém  |        0.468338 |\n",
            "| produt |        0.26963  |\n",
            "| dias   |        0.234169 |\n",
            "| inform |        0.234169 |\n",
            "| nov    |        0.234169 |\n",
            "| pois   |        0.178216 |\n",
            "| nad    |        0.134815 |\n"
          ]
        }
      ]
    },
    {
      "cell_type": "markdown",
      "source": [
        "### **Visualize topics**"
      ],
      "metadata": {
        "id": "MR3Z-OK7GR3B"
      }
    },
    {
      "cell_type": "code",
      "source": [
        "# code"
      ],
      "metadata": {
        "id": "DgCQytlcGVSZ"
      },
      "execution_count": null,
      "outputs": []
    },
    {
      "cell_type": "markdown",
      "source": [
        "### **Evaluate model**"
      ],
      "metadata": {
        "id": "xcfqReXpIcW7"
      }
    },
    {
      "cell_type": "code",
      "source": [
        "# code"
      ],
      "metadata": {
        "id": "gUtjBWhvIfRR"
      },
      "execution_count": null,
      "outputs": []
    },
    {
      "cell_type": "markdown",
      "source": [
        "### **Latent Semantic Analysis (LSA) model** "
      ],
      "metadata": {
        "id": "no16baSgggQB"
      }
    },
    {
      "cell_type": "code",
      "source": [
        "# convert the vector from (bag-of-words integer counts) to (TfIdf real-valued weights)\n",
        "tfidf_corpus = tfidf_model[corpus]\n",
        "\n",
        "# train the model\n",
        "lsa_model = models.LsiModel(tfidf_corpus, id2word=dictionary, num_topics=300)"
      ],
      "metadata": {
        "id": "dGbidS4n2qw-"
      },
      "execution_count": null,
      "outputs": []
    },
    {
      "cell_type": "code",
      "source": [
        "# print the weight of each word in one document sorted by weight\n",
        "table = []\n",
        "for id, weight in sorted(lsa_model[corpus[2]], key=lambda x: x[1], reverse=True):\n",
        "    word = dictionary[id]\n",
        "    table.append([word, weight])\n",
        "print(tabulate(table, headers=[\"Word\", \"Weight\"], tablefmt=\"github\"))"
      ],
      "metadata": {
        "colab": {
          "base_uri": "https://localhost:8080/"
        },
        "id": "NZXgufNxqlan",
        "outputId": "aa97e92a-83fc-4f68-b8ae-b79b45443675"
      },
      "execution_count": null,
      "outputs": [
        {
          "output_type": "stream",
          "name": "stdout",
          "text": [
            "| Word    |     Weight |\n",
            "|---------|------------|\n",
            "| cobr    |  1.58325   |\n",
            "| dias    |  0.274664  |\n",
            "| produt  | -0.0352346 |\n",
            "| dinheir | -0.197004  |\n",
            "| pod     | -0.244301  |\n",
            "| nad     | -0.413086  |\n",
            "| devolu  | -0.488866  |\n",
            "| inform  | -0.809174  |\n",
            "| valor   | -1.28702   |\n",
            "| ped     | -1.57508   |\n"
          ]
        }
      ]
    },
    {
      "cell_type": "markdown",
      "source": [
        "### **Evaluate model**"
      ],
      "metadata": {
        "id": "hwXX9Z5sJTAz"
      }
    },
    {
      "cell_type": "code",
      "source": [
        "# Coherence is the measure of semantic similarity between top words in our topic. Higher the coherence better the model performance.\n",
        "coherence_model_lsa = models.CoherenceModel(model=lsa_model, texts=texts, dictionary=dictionary, coherence='c_v')\n",
        "coherence_lsa = coherence_model_lsa.get_coherence()\n",
        "print('Coherence Score: ', coherence_lsa)"
      ],
      "metadata": {
        "colab": {
          "base_uri": "https://localhost:8080/"
        },
        "id": "Ojj4I_yKJVa9",
        "outputId": "aaf4f5bd-3d0a-4444-b67f-8d396fd01643"
      },
      "execution_count": null,
      "outputs": [
        {
          "output_type": "stream",
          "name": "stdout",
          "text": [
            "Coherence Score:  0.22770937825221177\n"
          ]
        }
      ]
    },
    {
      "cell_type": "markdown",
      "source": [
        "### **Random Projections, RP**"
      ],
      "metadata": {
        "id": "Nw0rzT5kphJ0"
      }
    },
    {
      "cell_type": "code",
      "source": [
        "num_topics = len(dictionary)\n",
        "rp_model = models.RpModel(tfidf_corpus, num_topics=num_topics)"
      ],
      "metadata": {
        "id": "O-cPNpR0pi21"
      },
      "execution_count": null,
      "outputs": []
    },
    {
      "cell_type": "code",
      "source": [
        "# print the weight of each word in one document sorted by weight\n",
        "table = []\n",
        "for id, weight in sorted(rp_model[tfidf_corpus[5]], key=lambda x: x[1], reverse=True):\n",
        "    word = dictionary[id]\n",
        "    table.append([word, weight])\n",
        "print(tabulate(table, headers=[\"Word\", \"Weight\"], tablefmt=\"github\"))"
      ],
      "metadata": {
        "colab": {
          "base_uri": "https://localhost:8080/"
        },
        "id": "wJWNf_3KrLdN",
        "outputId": "9ba37b24-5828-40b2-dbba-192548b8bfb4"
      },
      "execution_count": null,
      "outputs": [
        {
          "output_type": "stream",
          "name": "stdout",
          "text": [
            "| Word      |     Weight |\n",
            "|-----------|------------|\n",
            "| outr      |  0.515336  |\n",
            "| produt    |  0.4685    |\n",
            "| pois      |  0.2741    |\n",
            "| cobr      |  0.193831  |\n",
            "| dias      |  0.146995  |\n",
            "| assinatur |  0.146995  |\n",
            "| nov       |  0.0570656 |\n",
            "| pod       |  0.0366063 |\n",
            "| cancel    | -0.0102297 |\n",
            "| devolu    | -0.100159  |\n",
            "| inform    | -0.163711  |\n",
            "| quer      | -0.231007  |\n",
            "| dinheir   | -0.247723  |\n",
            "| porém     | -0.257383  |\n",
            "| send      | -0.2741    |\n",
            "| valor     | -0.2741    |\n",
            "| ped       | -0.341395  |\n",
            "| nad       | -0.358111  |\n"
          ]
        }
      ]
    },
    {
      "cell_type": "markdown",
      "source": [
        "### **Evaluate model**"
      ],
      "metadata": {
        "id": "hlXzDxEHJg9g"
      }
    },
    {
      "cell_type": "markdown",
      "source": [
        "### **Hierarchical Dirichlet Process, HDP** "
      ],
      "metadata": {
        "id": "2MsWv_wTpwkc"
      }
    },
    {
      "cell_type": "code",
      "source": [
        "hp_model = models.HdpModel(corpus, id2word=dictionary)"
      ],
      "metadata": {
        "id": "jeDgAS3ApyIw"
      },
      "execution_count": null,
      "outputs": []
    },
    {
      "cell_type": "code",
      "source": [
        "table = []\n",
        "for id, weight in sorted(hp_model[corpus[5]], key=lambda x: x[1], reverse=True):\n",
        "  word = dictionary[id]\n",
        "  table.append([word,weight])\n",
        "print(tabulate(table, headers=[\"Word\", \"Weight\"], tablefmt=\"github\"))"
      ],
      "metadata": {
        "colab": {
          "base_uri": "https://localhost:8080/"
        },
        "id": "y3evON-Wr21x",
        "outputId": "4d4839c6-bd0b-4eed-fbe3-f64c3b624915"
      },
      "execution_count": null,
      "outputs": [
        {
          "output_type": "stream",
          "name": "stdout",
          "text": [
            "| Word   |    Weight |\n",
            "|--------|-----------|\n",
            "| devolu | 0.929559  |\n",
            "| cobr   | 0.0199364 |\n",
            "| ped    | 0.0147113 |\n",
            "| valor  | 0.0106601 |\n"
          ]
        }
      ]
    },
    {
      "cell_type": "markdown",
      "source": [
        "### **Evaluate model**"
      ],
      "metadata": {
        "id": "37Kkkl-tJ63V"
      }
    },
    {
      "cell_type": "code",
      "source": [
        "# Coherence is the measure of semantic similarity between top words in our topic. Higher the coherence better the model performance.\n",
        "coherence_model_hp = models.CoherenceModel(model=hp_model, texts=texts, dictionary=dictionary, coherence='c_v')\n",
        "coherence_hp = coherence_model_hp.get_coherence()\n",
        "print('Coherence Score: ', coherence_hp)"
      ],
      "metadata": {
        "colab": {
          "base_uri": "https://localhost:8080/"
        },
        "id": "y1taLp6zJ9cf",
        "outputId": "31d03a7b-0ca7-4813-e3b8-41ae5ac0dd6c"
      },
      "execution_count": null,
      "outputs": [
        {
          "output_type": "stream",
          "name": "stdout",
          "text": [
            "Coherence Score:  0.2277093782522117\n"
          ]
        }
      ]
    },
    {
      "cell_type": "markdown",
      "source": [
        "### **BERTimbau**"
      ],
      "metadata": {
        "id": "_OE08YEM5PEp"
      }
    },
    {
      "cell_type": "code",
      "source": [
        "from transformers import AutoModel, AutoTokenizer"
      ],
      "metadata": {
        "id": "myO9rkSl5VRA"
      },
      "execution_count": null,
      "outputs": []
    },
    {
      "cell_type": "code",
      "source": [
        "# BERT Base\n",
        "tokenizer = AutoTokenizer.from_pretrained('neuralmind/bert-base-portuguese-cased')\n",
        "model = AutoModel.from_pretrained('neuralmind/bert-base-portuguese-cased')"
      ],
      "metadata": {
        "id": "2Tgw27sq5Sy_",
        "colab": {
          "base_uri": "https://localhost:8080/"
        },
        "outputId": "1cd64f4d-a8e1-442f-8a3d-b141485606f8"
      },
      "execution_count": null,
      "outputs": [
        {
          "output_type": "stream",
          "name": "stderr",
          "text": [
            "Some weights of the model checkpoint at neuralmind/bert-base-portuguese-cased were not used when initializing BertModel: ['cls.seq_relationship.bias', 'cls.predictions.transform.dense.weight', 'cls.seq_relationship.weight', 'cls.predictions.transform.LayerNorm.weight', 'cls.predictions.decoder.weight', 'cls.predictions.bias', 'cls.predictions.transform.LayerNorm.bias', 'cls.predictions.transform.dense.bias']\n",
            "- This IS expected if you are initializing BertModel from the checkpoint of a model trained on another task or with another architecture (e.g. initializing a BertForSequenceClassification model from a BertForPreTraining model).\n",
            "- This IS NOT expected if you are initializing BertModel from the checkpoint of a model that you expect to be exactly identical (initializing a BertForSequenceClassification model from a BertForSequenceClassification model).\n"
          ]
        }
      ]
    },
    {
      "cell_type": "markdown",
      "source": [
        "### **Texblob**"
      ],
      "metadata": {
        "id": "JwHAzXHs_bj2"
      }
    },
    {
      "cell_type": "code",
      "source": [
        "from textblob import TextBlob\n",
        "from nltk.sentiment.vader import SentimentIntensityAnalyzer\n",
        "nltk.download('vader_lexicon')"
      ],
      "metadata": {
        "id": "Qc-jhVX2_fIe",
        "colab": {
          "base_uri": "https://localhost:8080/"
        },
        "outputId": "c8be715a-290e-4352-8ced-2f22d18adb7b"
      },
      "execution_count": null,
      "outputs": [
        {
          "output_type": "stream",
          "name": "stderr",
          "text": [
            "[nltk_data] Downloading package vader_lexicon to /root/nltk_data...\n"
          ]
        },
        {
          "output_type": "execute_result",
          "data": {
            "text/plain": [
              "True"
            ]
          },
          "metadata": {},
          "execution_count": 30
        }
      ]
    },
    {
      "cell_type": "code",
      "source": [
        "sid = SentimentIntensityAnalyzer()"
      ],
      "metadata": {
        "id": "xfpTn8qmIhO5"
      },
      "execution_count": null,
      "outputs": []
    },
    {
      "cell_type": "code",
      "source": [
        "def get_blob_sentiment(sentence):\n",
        "  blob = TextBlob(sentence).sentiment\n",
        "  return blob.polarity"
      ],
      "metadata": {
        "id": "qJLW4tDG_5Oz"
      },
      "execution_count": null,
      "outputs": []
    },
    {
      "cell_type": "markdown",
      "source": [
        "### **Vader**"
      ],
      "metadata": {
        "id": "L5z5Tr7FIKBl"
      }
    },
    {
      "cell_type": "code",
      "source": [
        "nltk.download('vader_lexicon')"
      ],
      "metadata": {
        "id": "GBONwIhIILyc",
        "colab": {
          "base_uri": "https://localhost:8080/"
        },
        "outputId": "71a76422-3b9a-4d47-c550-cbfaf0f014b4"
      },
      "execution_count": null,
      "outputs": [
        {
          "output_type": "stream",
          "name": "stderr",
          "text": [
            "[nltk_data] Downloading package vader_lexicon to /root/nltk_data...\n",
            "[nltk_data]   Package vader_lexicon is already up-to-date!\n"
          ]
        },
        {
          "output_type": "execute_result",
          "data": {
            "text/plain": [
              "True"
            ]
          },
          "metadata": {},
          "execution_count": 33
        }
      ]
    },
    {
      "cell_type": "code",
      "source": [
        "def get_vader_sentiment(sentence):\n",
        "  vader = sid.polarity_scores(sentence)\n",
        "  return vader['compound']"
      ],
      "metadata": {
        "id": "FTBht6U6I9YD"
      },
      "execution_count": null,
      "outputs": []
    },
    {
      "cell_type": "code",
      "source": [
        "df['TextBlob'] = df['body'].apply(lambda sentence: get_blob_sentiment(sentence))\n",
        "df['Vader'] = df['body'].apply(lambda sentence: get_vader_sentiment(sentence))"
      ],
      "metadata": {
        "id": "vUoKYgeGJWiQ"
      },
      "execution_count": null,
      "outputs": []
    },
    {
      "cell_type": "markdown",
      "source": [
        "A negative sentiment score means \n",
        "negative sentiment, and a positive sentiment score means positive sentiment. The higher \n",
        "the absolute value of the score, the more confident the system is about it"
      ],
      "metadata": {
        "id": "vT8dYlRQLD1U"
      }
    },
    {
      "cell_type": "code",
      "source": [
        "df.head(10)"
      ],
      "metadata": {
        "id": "wvpqU7r1K9Nl",
        "colab": {
          "base_uri": "https://localhost:8080/",
          "height": 363
        },
        "outputId": "a495c20f-aebe-4dcd-873b-c3074e0e34c6"
      },
      "execution_count": null,
      "outputs": [
        {
          "output_type": "execute_result",
          "data": {
            "text/plain": [
              "                                               title  \\\n",
              "0  Recebi um e-mail que parte do pedido não foi p...   \n",
              "1      Produto falsificado e não me deixam devolver    \n",
              "2          COBRANDO CONTEUDO DIGITAL sem solicitação   \n",
              "3                                  Cobrança indevida   \n",
              "4  Troquei de telefone e consigo acessar minha conta   \n",
              "5                               Devolução nos 7 dias   \n",
              "6                               Não fui reembolsado    \n",
              "7  Amazon não permite cancelar assinatura  Discov...   \n",
              "8                                Ineficiencia Maxima   \n",
              "9                                  Fiz compra Amazon   \n",
              "\n",
              "                                                body  TextBlob   Vader  \n",
              "0  Olá!Preciso da ajuda de vocês para entender qu...       0.0  0.0000  \n",
              "1  COMPREI UM PERFUME E QUANDO RECEBI O PRODUTO N...       0.2  0.0000  \n",
              "2  Novamente estava em casa, quando terminei de a...       0.0 -0.4019  \n",
              "3  Fiz a assinatura da amazon prime video no valo...       0.0 -0.1280  \n",
              "4  Prezados,Tenho uma conta na Amazon ao qual já ...       0.0  0.0516  \n",
              "5  Requeri a devolução do produto ainda nos sete ...       0.0  0.6705  \n",
              "6  Fiz a compra de um brinquedo, a transportadora...       0.0  0.1779  \n",
              "7  Estou tentando cancelar a assinatura da Discov...       0.0 -0.1280  \n",
              "8  Comprei um carregador Fonte Carregador para No...      -0.1 -0.2695  \n",
              "9  Fiz compra Amazon aonde previsão de entrega de...       0.5 -0.1280  "
            ],
            "text/html": [
              "\n",
              "  <div id=\"df-1235c655-087f-44fd-bbe3-60d923d6f9a2\">\n",
              "    <div class=\"colab-df-container\">\n",
              "      <div>\n",
              "<style scoped>\n",
              "    .dataframe tbody tr th:only-of-type {\n",
              "        vertical-align: middle;\n",
              "    }\n",
              "\n",
              "    .dataframe tbody tr th {\n",
              "        vertical-align: top;\n",
              "    }\n",
              "\n",
              "    .dataframe thead th {\n",
              "        text-align: right;\n",
              "    }\n",
              "</style>\n",
              "<table border=\"1\" class=\"dataframe\">\n",
              "  <thead>\n",
              "    <tr style=\"text-align: right;\">\n",
              "      <th></th>\n",
              "      <th>title</th>\n",
              "      <th>body</th>\n",
              "      <th>TextBlob</th>\n",
              "      <th>Vader</th>\n",
              "    </tr>\n",
              "  </thead>\n",
              "  <tbody>\n",
              "    <tr>\n",
              "      <th>0</th>\n",
              "      <td>Recebi um e-mail que parte do pedido não foi p...</td>\n",
              "      <td>Olá!Preciso da ajuda de vocês para entender qu...</td>\n",
              "      <td>0.0</td>\n",
              "      <td>0.0000</td>\n",
              "    </tr>\n",
              "    <tr>\n",
              "      <th>1</th>\n",
              "      <td>Produto falsificado e não me deixam devolver</td>\n",
              "      <td>COMPREI UM PERFUME E QUANDO RECEBI O PRODUTO N...</td>\n",
              "      <td>0.2</td>\n",
              "      <td>0.0000</td>\n",
              "    </tr>\n",
              "    <tr>\n",
              "      <th>2</th>\n",
              "      <td>COBRANDO CONTEUDO DIGITAL sem solicitação</td>\n",
              "      <td>Novamente estava em casa, quando terminei de a...</td>\n",
              "      <td>0.0</td>\n",
              "      <td>-0.4019</td>\n",
              "    </tr>\n",
              "    <tr>\n",
              "      <th>3</th>\n",
              "      <td>Cobrança indevida</td>\n",
              "      <td>Fiz a assinatura da amazon prime video no valo...</td>\n",
              "      <td>0.0</td>\n",
              "      <td>-0.1280</td>\n",
              "    </tr>\n",
              "    <tr>\n",
              "      <th>4</th>\n",
              "      <td>Troquei de telefone e consigo acessar minha conta</td>\n",
              "      <td>Prezados,Tenho uma conta na Amazon ao qual já ...</td>\n",
              "      <td>0.0</td>\n",
              "      <td>0.0516</td>\n",
              "    </tr>\n",
              "    <tr>\n",
              "      <th>5</th>\n",
              "      <td>Devolução nos 7 dias</td>\n",
              "      <td>Requeri a devolução do produto ainda nos sete ...</td>\n",
              "      <td>0.0</td>\n",
              "      <td>0.6705</td>\n",
              "    </tr>\n",
              "    <tr>\n",
              "      <th>6</th>\n",
              "      <td>Não fui reembolsado</td>\n",
              "      <td>Fiz a compra de um brinquedo, a transportadora...</td>\n",
              "      <td>0.0</td>\n",
              "      <td>0.1779</td>\n",
              "    </tr>\n",
              "    <tr>\n",
              "      <th>7</th>\n",
              "      <td>Amazon não permite cancelar assinatura  Discov...</td>\n",
              "      <td>Estou tentando cancelar a assinatura da Discov...</td>\n",
              "      <td>0.0</td>\n",
              "      <td>-0.1280</td>\n",
              "    </tr>\n",
              "    <tr>\n",
              "      <th>8</th>\n",
              "      <td>Ineficiencia Maxima</td>\n",
              "      <td>Comprei um carregador Fonte Carregador para No...</td>\n",
              "      <td>-0.1</td>\n",
              "      <td>-0.2695</td>\n",
              "    </tr>\n",
              "    <tr>\n",
              "      <th>9</th>\n",
              "      <td>Fiz compra Amazon</td>\n",
              "      <td>Fiz compra Amazon aonde previsão de entrega de...</td>\n",
              "      <td>0.5</td>\n",
              "      <td>-0.1280</td>\n",
              "    </tr>\n",
              "  </tbody>\n",
              "</table>\n",
              "</div>\n",
              "      <button class=\"colab-df-convert\" onclick=\"convertToInteractive('df-1235c655-087f-44fd-bbe3-60d923d6f9a2')\"\n",
              "              title=\"Convert this dataframe to an interactive table.\"\n",
              "              style=\"display:none;\">\n",
              "        \n",
              "  <svg xmlns=\"http://www.w3.org/2000/svg\" height=\"24px\"viewBox=\"0 0 24 24\"\n",
              "       width=\"24px\">\n",
              "    <path d=\"M0 0h24v24H0V0z\" fill=\"none\"/>\n",
              "    <path d=\"M18.56 5.44l.94 2.06.94-2.06 2.06-.94-2.06-.94-.94-2.06-.94 2.06-2.06.94zm-11 1L8.5 8.5l.94-2.06 2.06-.94-2.06-.94L8.5 2.5l-.94 2.06-2.06.94zm10 10l.94 2.06.94-2.06 2.06-.94-2.06-.94-.94-2.06-.94 2.06-2.06.94z\"/><path d=\"M17.41 7.96l-1.37-1.37c-.4-.4-.92-.59-1.43-.59-.52 0-1.04.2-1.43.59L10.3 9.45l-7.72 7.72c-.78.78-.78 2.05 0 2.83L4 21.41c.39.39.9.59 1.41.59.51 0 1.02-.2 1.41-.59l7.78-7.78 2.81-2.81c.8-.78.8-2.07 0-2.86zM5.41 20L4 18.59l7.72-7.72 1.47 1.35L5.41 20z\"/>\n",
              "  </svg>\n",
              "      </button>\n",
              "      \n",
              "  <style>\n",
              "    .colab-df-container {\n",
              "      display:flex;\n",
              "      flex-wrap:wrap;\n",
              "      gap: 12px;\n",
              "    }\n",
              "\n",
              "    .colab-df-convert {\n",
              "      background-color: #E8F0FE;\n",
              "      border: none;\n",
              "      border-radius: 50%;\n",
              "      cursor: pointer;\n",
              "      display: none;\n",
              "      fill: #1967D2;\n",
              "      height: 32px;\n",
              "      padding: 0 0 0 0;\n",
              "      width: 32px;\n",
              "    }\n",
              "\n",
              "    .colab-df-convert:hover {\n",
              "      background-color: #E2EBFA;\n",
              "      box-shadow: 0px 1px 2px rgba(60, 64, 67, 0.3), 0px 1px 3px 1px rgba(60, 64, 67, 0.15);\n",
              "      fill: #174EA6;\n",
              "    }\n",
              "\n",
              "    [theme=dark] .colab-df-convert {\n",
              "      background-color: #3B4455;\n",
              "      fill: #D2E3FC;\n",
              "    }\n",
              "\n",
              "    [theme=dark] .colab-df-convert:hover {\n",
              "      background-color: #434B5C;\n",
              "      box-shadow: 0px 1px 3px 1px rgba(0, 0, 0, 0.15);\n",
              "      filter: drop-shadow(0px 1px 2px rgba(0, 0, 0, 0.3));\n",
              "      fill: #FFFFFF;\n",
              "    }\n",
              "  </style>\n",
              "\n",
              "      <script>\n",
              "        const buttonEl =\n",
              "          document.querySelector('#df-1235c655-087f-44fd-bbe3-60d923d6f9a2 button.colab-df-convert');\n",
              "        buttonEl.style.display =\n",
              "          google.colab.kernel.accessAllowed ? 'block' : 'none';\n",
              "\n",
              "        async function convertToInteractive(key) {\n",
              "          const element = document.querySelector('#df-1235c655-087f-44fd-bbe3-60d923d6f9a2');\n",
              "          const dataTable =\n",
              "            await google.colab.kernel.invokeFunction('convertToInteractive',\n",
              "                                                     [key], {});\n",
              "          if (!dataTable) return;\n",
              "\n",
              "          const docLinkHtml = 'Like what you see? Visit the ' +\n",
              "            '<a target=\"_blank\" href=https://colab.research.google.com/notebooks/data_table.ipynb>data table notebook</a>'\n",
              "            + ' to learn more about interactive tables.';\n",
              "          element.innerHTML = '';\n",
              "          dataTable['output_type'] = 'display_data';\n",
              "          await google.colab.output.renderOutput(dataTable, element);\n",
              "          const docLink = document.createElement('div');\n",
              "          docLink.innerHTML = docLinkHtml;\n",
              "          element.appendChild(docLink);\n",
              "        }\n",
              "      </script>\n",
              "    </div>\n",
              "  </div>\n",
              "  "
            ]
          },
          "metadata": {},
          "execution_count": 36
        }
      ]
    },
    {
      "cell_type": "markdown",
      "source": [
        "### **Clustering sentences with K-Means**"
      ],
      "metadata": {
        "id": "fKOeVmUlL08M"
      }
    },
    {
      "cell_type": "code",
      "source": [
        "import re\n",
        "from sklearn.cluster import KMeans\n",
        "from sklearn.feature_extraction.text import TfidfVectorizer\n",
        "from nltk.probability import FreqDist\n",
        "from sklearn.model_selection import train_test_split"
      ],
      "metadata": {
        "id": "q4q2KdkXL83B"
      },
      "execution_count": null,
      "outputs": []
    },
    {
      "cell_type": "markdown",
      "metadata": {
        "id": "zANBqSOtNerU"
      },
      "source": [
        "## **Save Models to Google Cloud Storage**"
      ]
    },
    {
      "cell_type": "code",
      "execution_count": null,
      "metadata": {
        "id": "JQ_BMRXENmIi"
      },
      "outputs": [],
      "source": [
        "# import google cloud dependencies\n",
        "#from google.colab import auth\n",
        "#import uuid # for generate a unique identification for google bucket\n",
        "# Define a project id in google cloud\n",
        "#project_id = '<project_ID>'\n",
        "\n",
        "#auth.authenticate_user()\n",
        "# configure gsutil\n",
        "## !gcloud config set project {project_id}\n",
        "# set bucket name\n",
        "##backet_name = f'sample-bucket-{uuid.uuid1()}'\n",
        "## !gsuit mb gs://{bucket_name}"
      ]
    },
    {
      "cell_type": "code",
      "execution_count": null,
      "metadata": {
        "id": "0srGkyyiPHEq"
      },
      "outputs": [],
      "source": [
        "# upload model to Google Cloud Storage\n",
        "#!gsuit cp /tmp/name_of_file.txt gs://{bucket_name}/\n",
        "\n",
        "# location of model\n",
        "#download_location = f\"https://console.cloud.google.com/storage/browser?project={project_id}\"\n",
        "\n",
        "# donwload model from Google Cloud Storage\n",
        "#!gsuit cp gs://{bucket_name}/{filename} {download_location}"
      ]
    },
    {
      "cell_type": "markdown",
      "metadata": {
        "id": "sStwWfuAzGZ3"
      },
      "source": [
        "## **References**\n"
      ]
    },
    {
      "cell_type": "markdown",
      "metadata": {
        "id": "8UcEjjp6F266"
      },
      "source": [
        "[LangDetect](https://pypi.org/project/langdetect/) <br/>\n",
        "[Diagrams](https://pypi.org/project/diagrams/) <br/>\n",
        "[Graphviz](https://pypi.org/project/graphviz/) <br/>\n",
        "[Beautifulsoap4](https://pypi.org/project/beautifulsoup4/) <br/>\n",
        "[OpLexicon](https://www.inf.pucrs.br/linatural/wordpress/recursos-e-ferramentas/oplexicon/)"
      ]
    }
  ],
  "metadata": {
    "colab": {
      "collapsed_sections": [],
      "provenance": [],
      "include_colab_link": true
    },
    "kernelspec": {
      "display_name": "Python 3.10.4 ('.env': venv)",
      "language": "python",
      "name": "python3"
    },
    "language_info": {
      "name": "python",
      "version": "3.10.4"
    },
    "vscode": {
      "interpreter": {
        "hash": "6870af64cccb2dc4285885e4363d49c25adb22669b810ecb9f48ab42b19689bd"
      }
    }
  },
  "nbformat": 4,
  "nbformat_minor": 0
}