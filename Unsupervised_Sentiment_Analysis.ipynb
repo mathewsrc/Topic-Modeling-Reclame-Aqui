{
  "cells": [
    {
      "cell_type": "markdown",
      "metadata": {
        "id": "view-in-github",
        "colab_type": "text"
      },
      "source": [
        "<a href=\"https://colab.research.google.com/github/punkmic/unsupervised-Sentiment-Analysis---Comparisen-analysis/blob/master/Unsupervised_Sentiment_Analysis.ipynb\" target=\"_parent\"><img src=\"https://colab.research.google.com/assets/colab-badge.svg\" alt=\"Open In Colab\"/></a>"
      ]
    },
    {
      "cell_type": "markdown",
      "metadata": {
        "id": "tXD6WQspxJWc"
      },
      "source": [
        "# **Intro**"
      ]
    },
    {
      "cell_type": "markdown",
      "metadata": {
        "id": "-593AM2lxMMh"
      },
      "source": [
        "## **Install Dependecies**"
      ]
    },
    {
      "cell_type": "code",
      "execution_count": 1,
      "metadata": {
        "id": "C7gQcM_NxE2w"
      },
      "outputs": [],
      "source": [
        "%%capture\n",
        "# install dependecies here\n",
        "#!pip install langdetect  # for language detection\n",
        "#!pip install diagrams # for visualize the workflow\n",
        "#!pip install graphviz # for visualize the workflow\n",
        "#!pip install Pillow # for image manipulation\n",
        "!pip install textblob # for unsupervised sentiment analysis\n",
        "!pip install wordcloud # for wordcloud plot\n",
        "!pip install matplotlib # for plot\n",
        "!pip install nltk # for natural language prepocessing\n",
        "!pip install enelvo # for fix slangs, abbreviations, spelling errors\n",
        "!pip install gensim # for topic modeling \n",
        "!pip install tabulate # for print as table\n",
        "#!pip install transformers # for machine learning\n",
        "!pip install numpy==1.21.6 # for mathematical\n",
        "!pip install pyldavis # for model visualization\n",
        "!pip install scikit-learn # machine learning"
      ]
    },
    {
      "cell_type": "markdown",
      "metadata": {
        "id": "Rkydqr0uxUiB"
      },
      "source": [
        "## **Load Depencies**"
      ]
    },
    {
      "cell_type": "code",
      "execution_count": 2,
      "metadata": {
        "id": "Km0RDHK_xX8V",
        "outputId": "f7d5b54f-7801-4bb8-9674-e70c1a24f714",
        "colab": {
          "base_uri": "https://localhost:8080/"
        }
      },
      "outputs": [
        {
          "output_type": "stream",
          "name": "stderr",
          "text": [
            "[nltk_data] Downloading package punkt to /root/nltk_data...\n",
            "[nltk_data]   Package punkt is already up-to-date!\n",
            "[nltk_data] Downloading package stopwords to /root/nltk_data...\n",
            "[nltk_data]   Package stopwords is already up-to-date!\n"
          ]
        }
      ],
      "source": [
        "%%capture\n",
        "# load dependecies here\n",
        "#from langdetect import detect as dt\n",
        "#from diagrams import Diagram as dg\n",
        "#from PIL import Image\n",
        "import pandas as pd\n",
        "import os \n",
        "import matplotlib.pyplot as plt\n",
        "from tabulate import tabulate\n",
        "import numpy as np\n",
        "import itertools\n",
        "import nltk\n",
        "nltk.download('punkt')\n",
        "nltk.download('stopwords')\n",
        "from nltk.corpus import stopwords\n",
        "from nltk.stem import PorterStemmer\n",
        "from nltk.tokenize import word_tokenize\n",
        "from nltk.stem.wordnet import WordNetLemmatizer\n",
        "from nltk.tokenize import sent_tokenize, word_tokenize\n",
        "from nltk.util import ngrams\n",
        "from nltk.stem import PorterStemmer\n",
        "sw = nltk.corpus.stopwords.words('portuguese')\n",
        "from nltk.stem.snowball import SnowballStemmer\n",
        "stemmer = SnowballStemmer(\"portuguese\")\n",
        "st = PorterStemmer()\n",
        "import scipy\n",
        "from scipy import spatial\n",
        "import re\n",
        "from textblob import TextBlob\n",
        "from textblob import Word\n",
        "import gensim\n",
        "from gensim.models import Word2Vec\n",
        "import string\n",
        "from sklearn.feature_extraction.text import CountVectorizer,TfidfVectorizer\n",
        "import sklearn.cluster\n",
        "from sklearn.cluster import KMeans\n",
        "from enelvo.normaliser import Normaliser\n",
        "# We need this dataset in order to use the tokenizer\n"
      ]
    },
    {
      "cell_type": "markdown",
      "metadata": {
        "id": "x0cdDKUrxsq1"
      },
      "source": [
        "## **Load Dataset**"
      ]
    },
    {
      "cell_type": "markdown",
      "source": [
        "### **Clone Github repository** "
      ],
      "metadata": {
        "id": "SdXyTWtNhrU1"
      }
    },
    {
      "cell_type": "code",
      "execution_count": 3,
      "metadata": {
        "id": "pzdi7uwrx8Ls",
        "outputId": "8fdb6182-0797-4f89-cef1-7a04bdfe060a",
        "colab": {
          "base_uri": "https://localhost:8080/"
        }
      },
      "outputs": [
        {
          "output_type": "stream",
          "name": "stdout",
          "text": [
            "fatal: destination path 'unsupervised-Sentiment-Analysis---Comparisen-analysis' already exists and is not an empty directory.\n",
            "/content/unsupervised-Sentiment-Analysis---Comparisen-analysis\n",
            "app.py\t\t   models\t     Unsupervised_Sentiment_Analysis.ipynb\n",
            "clear_datasets.py  __pycache__\t     webscraping.py\n",
            "Drivers\t\t   README.md\t     wordclouds\n",
            "LICENSE\t\t   requirements.txt\n",
            "Makefile\t   results\n"
          ]
        }
      ],
      "source": [
        "# Files cloned from github may not automatically appear in files tab in this case right click and choose update\n",
        "# this will update our files.\n",
        "!git clone https://github.com/punkmic/unsupervised-Sentiment-Analysis---Comparisen-analysis.git\n",
        "%cd /content/unsupervised-Sentiment-Analysis---Comparisen-analysis\n",
        "!ls"
      ]
    },
    {
      "cell_type": "code",
      "source": [
        "# !git pull "
      ],
      "metadata": {
        "id": "Z9_q4bS6laSt"
      },
      "execution_count": 4,
      "outputs": []
    },
    {
      "cell_type": "markdown",
      "source": [
        "### **Load csv file**"
      ],
      "metadata": {
        "id": "PCZ8r-JXh2FZ"
      }
    },
    {
      "cell_type": "code",
      "source": [
        "PATH_TO_CSV = '/content/unsupervised-Sentiment-Analysis---Comparisen-analysis/results/web_scraping_results.csv'\n",
        "df = pd.read_csv(PATH_TO_CSV, encoding='utf-8')\n",
        "# lower colnames \n",
        "df.rename(columns={'Title':'title', 'Body':'body'}, inplace=True)"
      ],
      "metadata": {
        "id": "xLkm22-Ph6_P"
      },
      "execution_count": 5,
      "outputs": []
    },
    {
      "cell_type": "markdown",
      "source": [
        "### **EDA**"
      ],
      "metadata": {
        "id": "t6oMhx4pkmU1"
      }
    },
    {
      "cell_type": "code",
      "source": [
        "print(f'Number of rows {df.shape[0]} \\nNumber of columns {df.shape[1]}')"
      ],
      "metadata": {
        "id": "bFQkBO-KkVb3",
        "outputId": "662bb66b-7ff1-4969-a41e-ddcfe94ecfa3",
        "colab": {
          "base_uri": "https://localhost:8080/"
        }
      },
      "execution_count": 6,
      "outputs": [
        {
          "output_type": "stream",
          "name": "stdout",
          "text": [
            "Number of rows 10 \n",
            "Number of columns 2\n"
          ]
        }
      ]
    },
    {
      "cell_type": "code",
      "source": [
        "print(df.dtypes)"
      ],
      "metadata": {
        "id": "px5yc-bChkAx",
        "outputId": "53a6d984-d33a-4eec-aa8e-e120e6fb5fd3",
        "colab": {
          "base_uri": "https://localhost:8080/"
        }
      },
      "execution_count": 7,
      "outputs": [
        {
          "output_type": "stream",
          "name": "stdout",
          "text": [
            "title    object\n",
            "body     object\n",
            "dtype: object\n"
          ]
        }
      ]
    },
    {
      "cell_type": "code",
      "source": [
        "from numpy import mean, median\n",
        "text_length_list = df['body'].map(lambda x: len(x))\n",
        "mean = mean(text_length_list)\n",
        "median = median(text_length_list)\n",
        "stats = df.describe(include='all')\n",
        "print (f'Mean of sentences length: {mean} \\nMedian of sentences length: {median} \\n\\n{stats}')"
      ],
      "metadata": {
        "id": "IO0AKIQNhnXG",
        "outputId": "3b3429b6-4b1e-4bff-ab2c-64a2cd8f7527",
        "colab": {
          "base_uri": "https://localhost:8080/"
        }
      },
      "execution_count": 8,
      "outputs": [
        {
          "output_type": "stream",
          "name": "stdout",
          "text": [
            "Mean of sentences length: 448.7 \n",
            "Median of sentences length: 448.0 \n",
            "\n",
            "                                                    title  \\\n",
            "count                                                  10   \n",
            "unique                                                 10   \n",
            "top     Recebi um e-mail que parte do pedido não foi p...   \n",
            "freq                                                    1   \n",
            "\n",
            "                                                     body  \n",
            "count                                                  10  \n",
            "unique                                                 10  \n",
            "top     Olá!Preciso da ajuda de vocês para entender qu...  \n",
            "freq                                                    1  \n"
          ]
        }
      ]
    },
    {
      "cell_type": "code",
      "source": [
        "plt.hist(text_length_list)\n",
        "plt.show()"
      ],
      "metadata": {
        "id": "KdCGEHdtj9Pk",
        "outputId": "b7f79eff-483d-4ccd-b36f-636c05ed12e0",
        "colab": {
          "base_uri": "https://localhost:8080/",
          "height": 265
        }
      },
      "execution_count": 9,
      "outputs": [
        {
          "output_type": "display_data",
          "data": {
            "text/plain": [
              "<Figure size 432x288 with 1 Axes>"
            ],
            "image/png": "[encoded data removed]"
          },
          "metadata": {
            "needs_background": "light"
          }
        }
      ]
    },
    {
      "cell_type": "markdown",
      "source": [
        "## **Plot wordcloud**"
      ],
      "metadata": {
        "id": "5R_DJGXHnZhJ"
      }
    },
    {
      "cell_type": "code",
      "source": [
        "from wordcloud import WordCloud, STOPWORDS, ImageColorGenerator"
      ],
      "metadata": {
        "id": "ougKX8fd02-H"
      },
      "execution_count": 10,
      "outputs": []
    },
    {
      "cell_type": "code",
      "source": [
        "# print currently directory\n",
        "!pwd"
      ],
      "metadata": {
        "id": "IGBXVhu1vK5O",
        "outputId": "705a4eee-dc4e-429b-9aa6-19b8ecc8e37c",
        "colab": {
          "base_uri": "https://localhost:8080/"
        }
      },
      "execution_count": 11,
      "outputs": [
        {
          "output_type": "stream",
          "name": "stdout",
          "text": [
            "/content/unsupervised-Sentiment-Analysis---Comparisen-analysis\n"
          ]
        }
      ]
    },
    {
      "cell_type": "code",
      "source": [
        "# create a new directory for wordclouds\n",
        "wordclouds = '/content/unsupervised-Sentiment-Analysis---Comparisen-analysis/results/wordclouds/'\n",
        "!mkdir wordclouds"
      ],
      "metadata": {
        "id": "QNIgRpoyrXvL",
        "outputId": "bac7ea1d-3d21-416e-c242-584ed606faa7",
        "colab": {
          "base_uri": "https://localhost:8080/"
        }
      },
      "execution_count": 12,
      "outputs": [
        {
          "output_type": "stream",
          "name": "stdout",
          "text": [
            "mkdir: cannot create directory ‘wordclouds’: File exists\n"
          ]
        }
      ]
    },
    {
      "cell_type": "code",
      "source": [
        "# Create and generate a word cloud image:\n",
        "text = str(df['title']).title()\n",
        "wordcloud = WordCloud(max_font_size=50, max_words=100,  stopwords=STOPWORDS).generate(text)\n",
        "\n",
        "# Save wordcloud \n",
        "wordcloud.to_file('wordclouds/title_wordcloud.png')\n",
        "\n",
        "# Display wordcloud\n",
        "plt.figure()\n",
        "plt.imshow(wordcloud, interpolation='bilinear')\n",
        "plt.axis(\"off\")\n",
        "plt.show()\n",
        "\n"
      ],
      "metadata": {
        "id": "KKtysdp8mLBT",
        "outputId": "5572efaf-ec0e-43dc-90a8-585b63b0d363",
        "colab": {
          "base_uri": "https://localhost:8080/",
          "height": 198
        }
      },
      "execution_count": 13,
      "outputs": [
        {
          "output_type": "display_data",
          "data": {
            "text/plain": [
              "<Figure size 432x288 with 1 Axes>"
            ],
            "image/png": "[encoded data removed]"
          },
          "metadata": {
            "needs_background": "light"
          }
        }
      ]
    },
    {
      "cell_type": "code",
      "source": [
        "\n",
        "# Create and generate a word cloud image:\n",
        "text = str(df['body']).title()\n",
        "wordcloud = WordCloud(max_font_size=50, max_words=100).generate(text)\n",
        "\n",
        "# Save wordcloud \n",
        "wordcloud.to_file('wordclouds/body_wordcloud.png')\n",
        "\n",
        "# Display wordcloud\n",
        "plt.figure()\n",
        "plt.imshow(wordcloud, interpolation='bilinear')\n",
        "plt.axis('off')\n",
        "plt.show()\n",
        "\n"
      ],
      "metadata": {
        "id": "BDpeZcXDp5A7",
        "outputId": "e8720264-a992-4e46-f064-194d2b348711",
        "colab": {
          "base_uri": "https://localhost:8080/",
          "height": 198
        }
      },
      "execution_count": 14,
      "outputs": [
        {
          "output_type": "display_data",
          "data": {
            "text/plain": [
              "<Figure size 432x288 with 1 Axes>"
            ],
            "image/png": "[encoded data removed]"
          },
          "metadata": {
            "needs_background": "light"
          }
        }
      ]
    },
    {
      "cell_type": "markdown",
      "metadata": {
        "id": "WvlnEo8NT5mW"
      },
      "source": [
        "## **Text Pre-Processing**\n",
        "\n",
        "Guide\n",
        "* Lower Case conversion\n",
        "* Removing Punctuations\n",
        "* Stop Words Removal\n",
        "* Rare Words Removal\n",
        "* Spelling correction\n",
        "* Tokenization\n",
        "* Lemmatization\n",
        "\n"
      ]
    },
    {
      "cell_type": "markdown",
      "source": [
        "### **Apply enelvo - Normalize noisy words, lowercase the words and remove punctuation.**\n",
        "Enelvo is a tool for normalising noisy words in user-generated content written in Portuguese -- such as tweets, blog posts, and product reviews. It is capable of identifying and normalising spelling mistakes, internet slang, acronyms, proper nouns, and others."
      ],
      "metadata": {
        "id": "vOsQEJxm3fHN"
      }
    },
    {
      "cell_type": "code",
      "source": [
        "norm = Normaliser(tokenizer='readable', sanitize=True)\n",
        "stemmer = SnowballStemmer('portuguese')"
      ],
      "metadata": {
        "id": "WTb-VN0G3qJV"
      },
      "execution_count": 15,
      "outputs": []
    },
    {
      "cell_type": "markdown",
      "source": [
        "### **Process text**"
      ],
      "metadata": {
        "id": "ZZy2_IxfR4FH"
      }
    },
    {
      "cell_type": "code",
      "source": [
        "def text_processing(df):\n",
        "   # lower text\n",
        "   df['body']= df['body'].apply(lambda x: ' '.join([x.lower() for x in x.split()]))\n",
        "   # removal of stop words\n",
        "   df['body'] = df['body'].apply(lambda x: ' '.join([x for x in x.split() if x not in sw]))\n",
        "   # spelling Correction\n",
        "   df['body'] = df['body'].apply(lambda x: norm.normalise(x) )\n",
        "   # remove punctuations\n",
        "   df['body'] = df['body'].str.replace('[^\\w\\s]', '')\n",
        "   # removal of Numeric\n",
        "   df['body'] = df['body'].str.replace('[0-9]', '')\n",
        "   return df"
      ],
      "metadata": {
        "id": "Pv-EyfLkltdv"
      },
      "execution_count": 16,
      "outputs": []
    },
    {
      "cell_type": "code",
      "source": [
        "df = text_processing(df)\n",
        "df['body'][0]"
      ],
      "metadata": {
        "id": "3ewrMVB5R6Ro",
        "outputId": "6c941de8-4629-40ce-a220-54cb0dd5e894",
        "colab": {
          "base_uri": "https://localhost:8080/",
          "height": 122
        }
      },
      "execution_count": 17,
      "outputs": [
        {
          "output_type": "stream",
          "name": "stderr",
          "text": [
            "/usr/local/lib/python3.7/dist-packages/ipykernel_launcher.py:9: FutureWarning: The default value of regex will change from True to False in a future version.\n",
            "  if __name__ == '__main__':\n",
            "/usr/local/lib/python3.7/dist-packages/ipykernel_launcher.py:11: FutureWarning: The default value of regex will change from True to False in a future version.\n",
            "  # This is added back by InteractiveShellApp.init_path()\n"
          ]
        },
        {
          "output_type": "execute_result",
          "data": {
            "text/plain": [
              "'olá preciso ajuda entender problema recebi email uns itens pagos fiz compra valor ar   cobrado cartão verificar itens deste pedido aparece valor ar   então parece pago dizem foi tão puderem estornar valor cobrado precisa enviar sabonetes obrigada'"
            ],
            "application/vnd.google.colaboratory.intrinsic+json": {
              "type": "string"
            }
          },
          "metadata": {},
          "execution_count": 17
        }
      ]
    },
    {
      "cell_type": "markdown",
      "source": [
        "## **Feature engineer**"
      ],
      "metadata": {
        "id": "V1Lig08yQb5y"
      }
    },
    {
      "cell_type": "markdown",
      "source": [
        "### **Count vectors**"
      ],
      "metadata": {
        "id": "KYE3hXvLQhgm"
      }
    },
    {
      "cell_type": "code",
      "source": [
        "cv = CountVectorizer()\n",
        "cv.fit(df['body'])\n",
        "cv_tedfeatures = cv.transform(df['body'])\n",
        "print(f\"samples: {cv_tedfeatures.shape[0]}, features: {cv_tedfeatures.shape[1]}\")"
      ],
      "metadata": {
        "id": "ORQCGiXQQj03",
        "outputId": "07515818-ea9d-4523-e7f4-2f90cccbebd6",
        "colab": {
          "base_uri": "https://localhost:8080/"
        }
      },
      "execution_count": 18,
      "outputs": [
        {
          "output_type": "stream",
          "name": "stdout",
          "text": [
            "samples: 10, features: 279\n"
          ]
        }
      ]
    },
    {
      "cell_type": "markdown",
      "source": [
        "### **TF-IDF Vectors**"
      ],
      "metadata": {
        "id": "5pSmJG0ZQp5h"
      }
    },
    {
      "cell_type": "code",
      "source": [
        "tv = TfidfVectorizer()\n",
        "tv.fit(df['body'])\n",
        "tv_tedfeatures = tv.transform(df['body'])\n",
        "print(f\"samples: {tv_tedfeatures.shape[0]}, features: {tv_tedfeatures.shape[1]}\")\n",
        "\n",
        "# convert sparse matrix to dense\n",
        "dense = tv_tedfeatures.todense()\n",
        "denselist = dense.tolist()\n",
        "tfid_df = pd.DataFrame(denselist,columns=tv.get_feature_names_out())\n",
        "print()\n",
        "print(tfid_df.iloc[:, 0:6])"
      ],
      "metadata": {
        "id": "_lFOFfHtQwU3",
        "outputId": "6c336d27-4ed9-4472-cd17-3d486984cc54",
        "colab": {
          "base_uri": "https://localhost:8080/"
        }
      },
      "execution_count": 19,
      "outputs": [
        {
          "output_type": "stream",
          "name": "stdout",
          "text": [
            "samples: 10, features: 279\n",
            "\n",
            "   absolutamente      acer   acessar    acesso    acordo       ado\n",
            "0       0.000000  0.000000  0.000000  0.000000  0.000000  0.000000\n",
            "1       0.000000  0.000000  0.000000  0.000000  0.133985  0.000000\n",
            "2       0.155454  0.000000  0.000000  0.000000  0.000000  0.132150\n",
            "3       0.000000  0.000000  0.000000  0.000000  0.000000  0.000000\n",
            "4       0.000000  0.000000  0.130755  0.130755  0.000000  0.000000\n",
            "5       0.000000  0.000000  0.000000  0.000000  0.000000  0.000000\n",
            "6       0.000000  0.000000  0.000000  0.000000  0.000000  0.000000\n",
            "7       0.000000  0.000000  0.000000  0.000000  0.000000  0.119756\n",
            "8       0.000000  0.128522  0.000000  0.000000  0.000000  0.000000\n",
            "9       0.000000  0.000000  0.000000  0.000000  0.000000  0.000000\n"
          ]
        }
      ]
    },
    {
      "cell_type": "markdown",
      "source": [
        "## **K-means Clustering**"
      ],
      "metadata": {
        "id": "MFLEVhepSWRU"
      }
    },
    {
      "cell_type": "markdown",
      "source": [
        "### **Vectors as features**"
      ],
      "metadata": {
        "id": "qCxdpvmQVMm9"
      }
    },
    {
      "cell_type": "code",
      "source": [
        "# Elbow method \n",
        "from sklearn.cluster import KMeans\n",
        "import matplotlib.pyplot as plt\n",
        "elbow_method = {}\n",
        "for k in range(1, 10):\n",
        "  kmeans_elbow = KMeans(n_clusters=k).fit(cv_tedfeatures)\n",
        "  elbow_method[k] = kmeans_elbow.inertia_\n",
        "plt.figure()\n",
        "plt.plot(list(elbow_method.keys()), list(elbow_method.values()))\n",
        "plt.xlabel(\"Number of cluster\")\n",
        "plt.ylabel(\"SSE\")\n",
        "plt.show()"
      ],
      "metadata": {
        "id": "9G-svf2fSYWW",
        "outputId": "1cbebedb-8a6d-4aa9-c914-e96234935313",
        "colab": {
          "base_uri": "https://localhost:8080/",
          "height": 279
        }
      },
      "execution_count": 38,
      "outputs": [
        {
          "output_type": "display_data",
          "data": {
            "text/plain": [
              "<Figure size 432x288 with 1 Axes>"
            ],
            "image/png": "[encoded data removed]"
          },
          "metadata": {
            "needs_background": "light"
          }
        }
      ]
    },
    {
      "cell_type": "code",
      "source": [
        "# Silhouette method \n",
        "from sklearn.metrics import silhouette_score\n",
        "from sklearn.cluster import KMeans\n",
        "for n_cluster in range(2, 10):\n",
        "  kmeans = KMeans(n_clusters=n_cluster).fit(cv_tedfeatures)\n",
        "  label = kmeans.labels_\n",
        "  sil_coeff = silhouette_score(cv_tedfeatures, label, metric='euclidean')\n",
        "  print(f\"For n_clusters={n_cluster}, The Silhouette Coefficient is {sil_coeff}\")"
      ],
      "metadata": {
        "id": "ujy_ZYkzTvoW",
        "outputId": "cc309924-21f5-4d14-c1cd-bf02d366dbf6",
        "colab": {
          "base_uri": "https://localhost:8080/"
        }
      },
      "execution_count": 21,
      "outputs": [
        {
          "output_type": "stream",
          "name": "stdout",
          "text": [
            "For n_clusters=2, The Silhouette Coefficient is 0.12275043325389175\n",
            "For n_clusters=3, The Silhouette Coefficient is 0.06002164095508711\n",
            "For n_clusters=4, The Silhouette Coefficient is 0.05819059345301464\n",
            "For n_clusters=5, The Silhouette Coefficient is 0.05428135314742374\n",
            "For n_clusters=6, The Silhouette Coefficient is 0.03389646558179478\n",
            "For n_clusters=7, The Silhouette Coefficient is 0.03239078472322965\n",
            "For n_clusters=8, The Silhouette Coefficient is 0.030419304786093983\n",
            "For n_clusters=9, The Silhouette Coefficient is 0.0042727099432998406\n"
          ]
        }
      ]
    },
    {
      "cell_type": "markdown",
      "source": [
        "### **TF-IDF as features**"
      ],
      "metadata": {
        "id": "TEkSeM98VSCF"
      }
    },
    {
      "cell_type": "code",
      "source": [
        "# Elbow method \n",
        "from sklearn.cluster import KMeans\n",
        "import matplotlib.pyplot as plt\n",
        "elbow_method = {}\n",
        "for k in range(1, 10):\n",
        "  kmeans_elbow = KMeans(n_clusters=k).fit(tv_tedfeatures)\n",
        "  elbow_method[k] = kmeans_elbow.inertia_\n",
        "plt.figure()\n",
        "plt.plot(list(elbow_method.keys()), list(elbow_method.values()))\n",
        "plt.xlabel(\"Number of cluster\")\n",
        "plt.ylabel(\"SSE\")\n",
        "plt.show()"
      ],
      "metadata": {
        "id": "e_UVv_BVVWzZ",
        "outputId": "0b15ea3b-6e71-4563-e891-49ecf08fc21b",
        "colab": {
          "base_uri": "https://localhost:8080/",
          "height": 279
        }
      },
      "execution_count": 22,
      "outputs": [
        {
          "output_type": "display_data",
          "data": {
            "text/plain": [
              "<Figure size 432x288 with 1 Axes>"
            ],
            "image/png": "[encoded data removed]"
          },
          "metadata": {
            "needs_background": "light"
          }
        }
      ]
    },
    {
      "cell_type": "code",
      "source": [
        "# Silhouette method \n",
        "from sklearn.metrics import silhouette_score\n",
        "from sklearn.cluster import KMeans\n",
        "for n_cluster in range(2, 10):\n",
        "  kmeans = KMeans(n_clusters=n_cluster).fit(tv_tedfeatures)\n",
        "  label = kmeans.labels_\n",
        "  sil_coeff = silhouette_score(cv_tedfeatures, label, metric='euclidean')\n",
        "  print(f\"For n_clusters={n_cluster}, The Silhouette Coefficient is {sil_coeff}\")"
      ],
      "metadata": {
        "id": "WGHmFhLuVi2w",
        "outputId": "698615d0-cc9c-4ee0-9355-da5c48ce24b5",
        "colab": {
          "base_uri": "https://localhost:8080/"
        }
      },
      "execution_count": 23,
      "outputs": [
        {
          "output_type": "stream",
          "name": "stdout",
          "text": [
            "For n_clusters=2, The Silhouette Coefficient is 0.047257637963629306\n",
            "For n_clusters=3, The Silhouette Coefficient is 0.03532328315479835\n",
            "For n_clusters=4, The Silhouette Coefficient is 0.053771569159734835\n",
            "For n_clusters=5, The Silhouette Coefficient is 0.050651650216817966\n",
            "For n_clusters=6, The Silhouette Coefficient is 0.03769142873850252\n",
            "For n_clusters=7, The Silhouette Coefficient is -0.04569269007101796\n",
            "For n_clusters=8, The Silhouette Coefficient is -0.024882694140998102\n",
            "For n_clusters=9, The Silhouette Coefficient is -0.0015142821880752139\n"
          ]
        }
      ]
    },
    {
      "cell_type": "markdown",
      "source": [
        "### **Clustering Mode**l"
      ],
      "metadata": {
        "id": "eFjiC7sQV6wg"
      }
    },
    {
      "cell_type": "code",
      "source": [
        "kmeans = KMeans(n_clusters=4).fit(tv_tedfeatures)\n",
        "cluster_ids, cluster_sizes = np.unique(kmeans.labels_, return_counts=True)\n",
        "print(f\"Number of cluster {kmeans.n_clusters} \\nNumber of elements asigned to each cluster: {cluster_sizes} \")"
      ],
      "metadata": {
        "id": "wK05Apb3V8Yt",
        "outputId": "956537ef-91b5-4d92-bbdb-91ae5ab10e63",
        "colab": {
          "base_uri": "https://localhost:8080/"
        }
      },
      "execution_count": 24,
      "outputs": [
        {
          "output_type": "stream",
          "name": "stdout",
          "text": [
            "Number of cluster 4 \n",
            "Number of elements asigned to each cluster: [2 3 4 1] \n"
          ]
        }
      ]
    },
    {
      "cell_type": "code",
      "source": [
        "def get_top_keywords(data, clusters, labels, n_terms):\n",
        "    df = pd.DataFrame(data.todense()).groupby(clusters).mean()\n",
        "    \n",
        "    for i,r in df.iterrows():\n",
        "        print(f'\\nCluster {i}')\n",
        "        print(','.join([labels[t] for t in np.argsort(r)[-n_terms:]]))\n",
        "\n",
        "clusters = KMeans(n_clusters=4, random_state=20).fit_predict(tv_tedfeatures)\n",
        "get_top_keywords(tv_tedfeatures, clusters, tv.get_feature_names_out(), 10)"
      ],
      "metadata": {
        "id": "10r8HzJMM908",
        "outputId": "b20026d6-68f3-4a30-d0b5-e7aa149af36f",
        "colab": {
          "base_uri": "https://localhost:8080/"
        }
      },
      "execution_count": 25,
      "outputs": [
        {
          "output_type": "stream",
          "name": "stdout",
          "text": [
            "\n",
            "Cluster 0\n",
            "prazo,correios,automático,devolver,código,dinheiro,dias,devolução,ainda,produto\n",
            "\n",
            "Cluster 1\n",
            "site,amazon,consigo,telefone,cadastro,opção,tudo,número,conta,cancelar\n",
            "\n",
            "Cluster 2\n",
            "seguinte,nova,sendo,ok,recebe,entregador,fazer,vieram,dia,entrega\n",
            "\n",
            "Cluster 3\n",
            "digital,deste,cobrando,cobrado,itens,venho,assinatura,cobrança,ar,valor\n"
          ]
        }
      ]
    },
    {
      "cell_type": "markdown",
      "source": [
        "### **PCA and TSNE**"
      ],
      "metadata": {
        "id": "EbaYGNlvAh1x"
      }
    },
    {
      "cell_type": "code",
      "source": [
        "from sklearn.decomposition import PCA\n",
        "from sklearn.manifold import TSNE\n",
        "import matplotlib.cm as cm\n",
        "from sklearn.cluster import MiniBatchKMeans\n",
        "def plot_tsne_pca(data, labels):\n",
        "    max_label = max(labels)\n",
        "    max_items = np.random.choice(range(data.shape[0]), size=tv_tedfeatures.shape[0], replace=False)\n",
        "    \n",
        "    pca = PCA(n_components=2).fit_transform(data[max_items,:].todense())\n",
        "    tsne = TSNE().fit_transform(PCA(n_components=2).fit_transform(data[max_items,:].todense()))\n",
        "    \n",
        "    \n",
        "    idx = np.random.choice(range(pca.shape[0]), size=tv_tedfeatures.shape[0], replace=False)\n",
        "    label_subset = labels[max_items]\n",
        "    label_subset = [cm.hsv(i/max_label) for i in label_subset[idx]]\n",
        "    \n",
        "    f, ax = plt.subplots(1, 2, figsize=(14, 6))\n",
        "    \n",
        "    ax[0].scatter(pca[idx, 0], pca[idx, 1], c=label_subset)\n",
        "    ax[0].set_title('PCA Cluster Plot')\n",
        "    \n",
        "    ax[1].scatter(tsne[idx, 0], tsne[idx, 1], c=label_subset)\n",
        "    ax[1].set_title('TSNE Cluster Plot')\n",
        "    \n",
        "plot_tsne_pca(tv_tedfeatures, clusters)"
      ],
      "metadata": {
        "id": "ja6uFpoCAmJ8",
        "outputId": "16774ffb-069e-4921-f51b-7f220a14262d",
        "colab": {
          "base_uri": "https://localhost:8080/",
          "height": 549
        }
      },
      "execution_count": 26,
      "outputs": [
        {
          "output_type": "stream",
          "name": "stderr",
          "text": [
            "/usr/local/lib/python3.7/dist-packages/sklearn/utils/validation.py:598: FutureWarning: np.matrix usage is deprecated in 1.0 and will raise a TypeError in 1.2. Please convert to a numpy array with np.asarray. For more information see: https://numpy.org/doc/stable/reference/generated/numpy.matrix.html\n",
            "  FutureWarning,\n",
            "/usr/local/lib/python3.7/dist-packages/sklearn/utils/validation.py:598: FutureWarning: np.matrix usage is deprecated in 1.0 and will raise a TypeError in 1.2. Please convert to a numpy array with np.asarray. For more information see: https://numpy.org/doc/stable/reference/generated/numpy.matrix.html\n",
            "  FutureWarning,\n",
            "/usr/local/lib/python3.7/dist-packages/sklearn/manifold/_t_sne.py:783: FutureWarning: The default initialization in TSNE will change from 'random' to 'pca' in 1.2.\n",
            "  FutureWarning,\n",
            "/usr/local/lib/python3.7/dist-packages/sklearn/manifold/_t_sne.py:793: FutureWarning: The default learning rate in TSNE will change from 200.0 to 'auto' in 1.2.\n",
            "  FutureWarning,\n"
          ]
        },
        {
          "output_type": "display_data",
          "data": {
            "text/plain": [
              "<Figure size 1008x432 with 2 Axes>"
            ],
            "image/png": "[encoded data removed]"
          },
          "metadata": {
            "needs_background": "light"
          }
        }
      ]
    },
    {
      "cell_type": "code",
      "source": [
        "ted_segmentaion = {'body':  df['body'] , 'cluster': kmeans.labels_.tolist()}\n",
        "output_df = pd.DataFrame(ted_segmentaion)\n",
        "#talks per segment\n",
        "output_df['cluster'] = kmeans.labels_.tolist()\n",
        "print(output_df.shape)\n"
      ],
      "metadata": {
        "id": "4VhqQ5jBWebb",
        "outputId": "7aa5a754-13bb-46cc-f2a3-49a9d160064a",
        "colab": {
          "base_uri": "https://localhost:8080/"
        }
      },
      "execution_count": 27,
      "outputs": [
        {
          "output_type": "stream",
          "name": "stdout",
          "text": [
            "(10, 2)\n"
          ]
        }
      ]
    },
    {
      "cell_type": "markdown",
      "source": [
        "### **Visualization of clusters**"
      ],
      "metadata": {
        "id": "r1ArQsHuWOFY"
      }
    },
    {
      "cell_type": "code",
      "source": [
        "# cluster 1 visualization\n",
        "from wordcloud import WordCloud, STOPWORDS\n",
        "# Mono Gram\n",
        "cluster = output_df[output_df.cluster == 1]\n",
        "wordcloud = WordCloud(max_font_size=50, max_words=20, collocations = False).generate_from_text(' '.join(cluster['body']))\n",
        "# Generate plot\n",
        "plt.figure(figsize=(10,5))\n",
        "plt.imshow(wordcloud)\n",
        "plt.axis(\"off\")\n",
        "plt.show()"
      ],
      "metadata": {
        "id": "m0qI4W3HWRHO",
        "outputId": "6bb9cd1f-d780-461e-99f5-f782b0e62de2",
        "colab": {
          "base_uri": "https://localhost:8080/",
          "height": 303
        }
      },
      "execution_count": 28,
      "outputs": [
        {
          "output_type": "display_data",
          "data": {
            "text/plain": [
              "<Figure size 720x360 with 1 Axes>"
            ],
            "image/png": "[encoded data removed]"
          },
          "metadata": {
            "needs_background": "light"
          }
        }
      ]
    },
    {
      "cell_type": "markdown",
      "source": [
        "## **Topic Modeling**"
      ],
      "metadata": {
        "id": "K9wGbS-xFxkA"
      }
    },
    {
      "cell_type": "markdown",
      "source": [
        "### **Create a dictionary using the bag of words model**\n",
        "- Document: some text.\n",
        "- Corpus: a collection of documents."
      ],
      "metadata": {
        "id": "5gjWR5iNpJ8X"
      }
    },
    {
      "cell_type": "code",
      "source": [
        "def process(doc):\n",
        "  toks = [w for s in nltk.sent_tokenize(doc) for w in nltk.word_tokenize(s)]\n",
        "  filt_toks = []\n",
        "  for i in toks:\n",
        "    if re.search('[a-zA-Z]', i):\n",
        "      filt_toks.append(i)\n",
        "  post_process = [st.stem(t) for t in filt_toks]\n",
        "  return post_process"
      ],
      "metadata": {
        "id": "LpPr0edMEaeB"
      },
      "execution_count": 29,
      "outputs": []
    },
    {
      "cell_type": "code",
      "source": [
        "toks = [process(a) for a in cluster.body]\n",
        "bodies = [[x for x in y if x not in sw] for y in toks]\n",
        "print(f'Document 1, 10 first tokens: {bodies[0][:10]}')"
      ],
      "metadata": {
        "id": "IViQXtJxE4cZ",
        "outputId": "0433828a-3e35-4da4-a4e2-e8ab9d82c650",
        "colab": {
          "base_uri": "https://localhost:8080/"
        }
      },
      "execution_count": 30,
      "outputs": [
        {
          "output_type": "stream",
          "name": "stdout",
          "text": [
            "Document 1, 10 first tokens: ['olá', 'preciso', 'ajuda', 'entend', 'problema', 'recebi', 'email', 'un', 'iten', 'pago']\n"
          ]
        }
      ]
    },
    {
      "cell_type": "code",
      "source": [
        "from gensim import corpora\n",
        "\n",
        "# associate each word in the corpus with a unique integer ID.\n",
        "dictionary = corpora.Dictionary(bodies)\n",
        "\n",
        "# create the bag-of-word representation for documents\n",
        "corpus = [dictionary.doc2bow(text) for text in bodies]\n",
        "\n",
        "print(f'Number of unique tokens: {len(dictionary)}')\n",
        "print(f'Number of documents: {len(corpus)}')"
      ],
      "metadata": {
        "id": "BzC30gRZoBOL",
        "outputId": "a0a45a5a-ffcf-44cc-a1d5-bbbc9d1dde11",
        "colab": {
          "base_uri": "https://localhost:8080/"
        }
      },
      "execution_count": 31,
      "outputs": [
        {
          "output_type": "stream",
          "name": "stdout",
          "text": [
            "Number of unique tokens: 91\n",
            "Number of documents: 3\n"
          ]
        }
      ]
    },
    {
      "cell_type": "markdown",
      "source": [
        "### **Preview Bag Of Words**"
      ],
      "metadata": {
        "id": "UmEoqoYlweop"
      }
    },
    {
      "cell_type": "code",
      "source": [
        "# print how many times each word appear\n",
        "bow_doc = corpus[0] \n",
        "table_list = []\n",
        "for i in range(len(bow_doc)):\n",
        "    index = bow_doc[i][0]\n",
        "    word = dictionary[bow_doc[i][0]]\n",
        "    times = bow_doc[i][1]\n",
        "    table_list.append([word, times])\n",
        "print(tabulate(table_list[:10],headers=[\"Word\", \"Frequency\"], tablefmt=\"github\"))"
      ],
      "metadata": {
        "id": "HhfPYQtxwknn",
        "outputId": "e599e750-1902-48ac-a934-d12a844c80c7",
        "colab": {
          "base_uri": "https://localhost:8080/"
        }
      },
      "execution_count": 32,
      "outputs": [
        {
          "output_type": "stream",
          "name": "stdout",
          "text": [
            "| Word    |   Frequency |\n",
            "|---------|-------------|\n",
            "| ajuda   |           1 |\n",
            "| aparec  |           1 |\n",
            "| ar      |           2 |\n",
            "| cartão  |           1 |\n",
            "| cobrado |           2 |\n",
            "| compra  |           1 |\n",
            "| dest    |           1 |\n",
            "| dizem   |           1 |\n",
            "| email   |           1 |\n",
            "| entend  |           1 |\n"
          ]
        }
      ]
    },
    {
      "cell_type": "markdown",
      "source": [
        "### **Latent Dirichlet Allocation (LDA) model**"
      ],
      "metadata": {
        "id": "-jKqOvBOpWBs"
      }
    },
    {
      "cell_type": "code",
      "source": [
        "from gensim import models\n",
        "from gensim.models.callbacks import PerplexityMetric, ConvergenceMetric, CoherenceMetric\n",
        "\n",
        "# Set up the callbacks loggers\n",
        "perplexity_logger = PerplexityMetric(corpus=corpus, logger='shell')\n",
        "convergence_logger = ConvergenceMetric(logger='shell')\n",
        "coherence_cv_logger = CoherenceMetric(corpus=corpus, logger='shell', coherence = 'c_v', texts = bodies)\n",
        "\n",
        "NUM_TOPICS = 5\n",
        "iterations = 50\n",
        "passes = 50\n",
        "\n",
        "# train model\n",
        "lda_model = models.ldamodel.LdaModel(corpus=corpus,\n",
        "            id2word=dictionary,\n",
        "            num_topics=NUM_TOPICS,\n",
        "            eval_every=10,\n",
        "            iterations=iterations,\n",
        "            passes=passes,\n",
        "            callbacks=[convergence_logger, perplexity_logger, coherence_cv_logger])\n",
        "\n",
        "# Save models so they aren't lost\n",
        "if not os.path.exists(f\"models/lda_{iterations}i50p/\"):\n",
        "   os.makedirs(f\"models/lda_{iterations}i50p/\")\n",
        "\n",
        "lda_model.save(f\"models/lda_{iterations}i50p/lda_{iterations}i50p.model\")"
      ],
      "metadata": {
        "id": "9lUsZjZRpcbM"
      },
      "execution_count": 33,
      "outputs": []
    },
    {
      "cell_type": "code",
      "source": [
        "# print the score and topics for each document in corpus sorted by topic score\n",
        "for index in range(len(corpus)):\n",
        "  for index, score in sorted(lda_model[corpus[index]], key=lambda x:x[1], reverse=True):\n",
        "      print(f\"\\nScore: {score}\\t \\nTopic: {lda_model.print_topic(index, 8)}\")"
      ],
      "metadata": {
        "id": "v9STva2pzQpc",
        "outputId": "02bb8b41-2ae2-47d1-e9b8-70a27ccf533b",
        "colab": {
          "base_uri": "https://localhost:8080/"
        }
      },
      "execution_count": 34,
      "outputs": [
        {
          "output_type": "stream",
          "name": "stdout",
          "text": [
            "\n",
            "Score: 0.9783310294151306\t \n",
            "Topic: 0.059*\"valor\" + 0.041*\"pago\" + 0.041*\"iten\" + 0.041*\"cobrado\" + 0.041*\"ar\" + 0.022*\"fiz\" + 0.022*\"cartão\" + 0.022*\"dest\"\n",
            "\n",
            "Score: 0.9832733273506165\t \n",
            "Topic: 0.034*\"cobrança\" + 0.018*\"anual\" + 0.018*\"bloquei\" + 0.018*\"aqui\" + 0.018*\"seri\" + 0.018*\"consta\" + 0.018*\"tard\" + 0.018*\"contratei\"\n",
            "\n",
            "Score: 0.9783167243003845\t \n",
            "Topic: 0.059*\"valor\" + 0.059*\"ar\" + 0.041*\"assinatura\" + 0.041*\"amazon\" + 0.041*\"cobrando\" + 0.041*\"venho\" + 0.022*\"fiz\" + 0.022*\"digit\"\n"
          ]
        }
      ]
    },
    {
      "cell_type": "markdown",
      "source": [
        "### **Visualization of topics**"
      ],
      "metadata": {
        "id": "4d1nMib0-x3M"
      }
    },
    {
      "cell_type": "code",
      "source": [
        "import pyLDAvis.gensim_models as gensimvis\n",
        "import pyLDAvis\n",
        "pyLDAvis.enable_notebook()\n",
        "import warnings\n",
        "warnings.filterwarnings(\"ignore\", category=DeprecationWarning)\n",
        "def show_topics(model):\n",
        "  return gensimvis.prepare(lda_model, corpus, dictionary)"
      ],
      "metadata": {
        "colab": {
          "base_uri": "https://localhost:8080/"
        },
        "id": "4DtS1Szo-AYI",
        "outputId": "44e5debd-33f1-4fc4-dd60-b164ad1bda31"
      },
      "execution_count": 35,
      "outputs": [
        {
          "output_type": "stream",
          "name": "stderr",
          "text": [
            "/usr/local/lib/python3.7/dist-packages/past/types/oldstr.py:5: DeprecationWarning: Using or importing the ABCs from 'collections' instead of from 'collections.abc' is deprecated since Python 3.3,and in 3.9 it will stop working\n",
            "  from collections import Iterable\n",
            "/usr/local/lib/python3.7/dist-packages/past/builtins/misc.py:4: DeprecationWarning: Using or importing the ABCs from 'collections' instead of from 'collections.abc' is deprecated since Python 3.3,and in 3.9 it will stop working\n",
            "  from collections import Mapping\n"
          ]
        }
      ]
    },
    {
      "cell_type": "code",
      "source": [
        "show_topics(lda_model)"
      ],
      "metadata": {
        "id": "Lsd3R-6TJEnt",
        "outputId": "2d781e51-2efb-4894-9bc5-456d46ea5dbc",
        "colab": {
          "base_uri": "https://localhost:8080/",
          "height": 916
        }
      },
      "execution_count": 36,
      "outputs": [
        {
          "output_type": "stream",
          "name": "stderr",
          "text": [
            "/usr/local/lib/python3.7/dist-packages/pyLDAvis/_prepare.py:247: FutureWarning: In a future version of pandas all arguments of DataFrame.drop except for the argument 'labels' will be keyword-only\n",
            "  by='saliency', ascending=False).head(R).drop('saliency', 1)\n"
          ]
        },
        {
          "output_type": "execute_result",
          "data": {
            "text/plain": [
              "PreparedData(topic_coordinates=              x         y  topics  cluster       Freq\n",
              "topic                                                \n",
              "2     -0.123583  0.052984       1        1  39.163407\n",
              "0     -0.001215 -0.127093       2        1  29.926735\n",
              "3      0.133674  0.048674       3        1  29.926150\n",
              "1     -0.004438  0.012718       4        1   0.491854\n",
              "4     -0.004438  0.012718       5        1   0.491854, topic_info=          Term      Freq     Total Category  logprob  loglift\n",
              "2           ar  3.000000  3.000000  Default  30.0000  30.0000\n",
              "17        pago  1.000000  1.000000  Default  29.0000  29.0000\n",
              "4      cobrado  1.000000  1.000000  Default  28.0000  28.0000\n",
              "14        iten  1.000000  1.000000  Default  27.0000  27.0000\n",
              "76    cobrando  1.000000  1.000000  Default  26.0000  26.0000\n",
              "..         ...       ...       ...      ...      ...      ...\n",
              "64       sendo  0.006432  1.790496   Topic5  -4.5108  -0.3142\n",
              "44    cobrança  0.006432  2.505321   Topic5  -4.5108  -0.6501\n",
              "39  assinatura  0.006432  2.447542   Topic5  -4.5108  -0.6268\n",
              "33      amazon  0.006432  2.447542   Topic5  -4.5108  -0.6268\n",
              "2           ar  0.006432  3.703906   Topic5  -4.5109  -1.0411\n",
              "\n",
              "[207 rows x 6 columns], token_table=      Topic      Freq          Term\n",
              "term                               \n",
              "30        1  0.882262  absolutament\n",
              "31        1  0.882262           ado\n",
              "32        1  0.882262         agora\n",
              "73        2  0.929631       aguardo\n",
              "0         3  0.929635         ajuda\n",
              "...     ...       ...           ...\n",
              "28        2  0.394033         valor\n",
              "28        3  0.394033         valor\n",
              "89        2  0.577117         venho\n",
              "29        3  0.929635     verificar\n",
              "90        2  0.929631         video\n",
              "\n",
              "[101 rows x 3 columns], R=30, lambda_step=0.01, plot_opts={'xlab': 'PC1', 'ylab': 'PC2'}, topic_order=[3, 1, 4, 2, 5])"
            ],
            "text/html": [
              "\n",
              "<link rel=\"stylesheet\" type=\"text/css\" href=\"https://cdn.jsdelivr.net/gh/bmabey/pyLDAvis@3.3.1/pyLDAvis/js/ldavis.v1.0.0.css\">\n",
              "\n",
              "\n",
              "<div id=\"ldavis_el3385140038416559568421842118\"></div>\n",
              "<script type=\"text/javascript\">\n",
              "\n",
              "var ldavis_el3385140038416559568421842118_data = {\"mdsDat\": {\"x\": [-0.12358339734090819, -0.0012147506546929241, 0.13367407219682134, -0.004437919456269143, -0.0044380047449510485], \"y\": [0.05298370425242522, -0.12709263753725644, 0.04867362197651338, 0.012717654320056454, 0.012717656988261388], \"topics\": [1, 2, 3, 4, 5], \"cluster\": [1, 1, 1, 1, 1], \"Freq\": [39.16340698553559, 29.926735029698527, 29.92615034891025, 0.49185381792781774, 0.49185381792781774]}, \"tinfo\": {\"Term\": [\"ar\", \"pago\", \"cobrado\", \"iten\", \"cobrando\", \"venho\", \"assinatura\", \"amazon\", \"cobran\\u00e7a\", \"valor\", \"cart\\u00e3o\", \"digit\", \"prime\", \"sendo\", \"dest\", \"terminei\", \"ado\", \"la\", \"educa\\u00e7\\u00e3o\", \"desliguei\", \"bloquei\", \"tard\", \"credito\", \"nada\", \"apena\", \"assistir\", \"an\\u00e9i\", \"quaisquer\", \"casa\", \"televis\\u00e3o\", \"terminei\", \"aqui\", \"outro\", \"seri\", \"educa\\u00e7\\u00e3o\", \"ado\", \"anual\", \"casa\", \"desliguei\", \"poi\", \"reclam\", \"contratei\", \"motivo\", \"televis\\u00e3o\", \"tard\", \"consta\", \"bloquei\", \"novament\", \"conte\\u00fado\", \"ter\", \"credito\", \"nada\", \"contrato\", \"poder\", \"apena\", \"agora\", \"an\\u00e9i\", \"assistir\", \"quaisquer\", \"absolutament\", \"cobran\\u00e7a\", \"assim\", \"certeza\", \"cobrando\", \"venho\", \"aguardo\", \"video\", \"m\\u00ea\", \"correta\", \"indevidament\", \"paguei\", \"recebendo\", \"relativa\", \"solicitei\", \"brasileiro\", \"canal\", \"conhe\\u00e7o\", \"fatura\", \"por\\u00e9m\", \"quero\", \"retorno\", \"assinatura\", \"amazon\", \"ar\", \"dest\", \"prime\", \"digit\", \"sendo\", \"valor\", \"fiz\", \"cobran\\u00e7a\", \"verificar\", \"ol\\u00e1\", \"cart\\u00e3o\", \"nenhum\", \"pago\", \"cobrado\", \"iten\", \"compra\", \"entend\", \"t\\u00e3o\", \"sabonet\", \"dizem\", \"ent\\u00e3o\", \"pedido\", \"obrigada\", \"ajuda\", \"puderem\", \"un\", \"email\", \"estornar\", \"parec\", \"problema\", \"enviar\", \"preciso\", \"recebi\", \"aparec\", \"precisa\", \"ol\\u00e1\", \"verificar\", \"dest\", \"cart\\u00e3o\", \"valor\", \"ar\", \"fiz\", \"precisa\", \"enviar\", \"recebi\", \"aparec\", \"estornar\", \"parec\", \"t\\u00e3o\", \"problema\", \"ol\\u00e1\", \"verificar\", \"entend\", \"dizem\", \"ent\\u00e3o\", \"pedido\", \"obrigada\", \"puderem\", \"email\", \"preciso\", \"sabonet\", \"ajuda\", \"un\", \"compra\", \"m\\u00ea\", \"correta\", \"indevidament\", \"paguei\", \"recebendo\", \"relativa\", \"solicitei\", \"brasileiro\", \"fiz\", \"valor\", \"dest\", \"cart\\u00e3o\", \"digit\", \"prime\", \"sendo\", \"cobran\\u00e7a\", \"amazon\", \"assinatura\", \"ar\", \"estornar\", \"parec\", \"entend\", \"t\\u00e3o\", \"problema\", \"enviar\", \"preciso\", \"recebi\", \"sabonet\", \"dizem\", \"aparec\", \"ent\\u00e3o\", \"pedido\", \"obrigada\", \"ajuda\", \"puderem\", \"precisa\", \"ol\\u00e1\", \"un\", \"email\", \"verificar\", \"compra\", \"m\\u00ea\", \"correta\", \"indevidament\", \"paguei\", \"recebendo\", \"relativa\", \"solicitei\", \"brasileiro\", \"fiz\", \"valor\", \"dest\", \"cart\\u00e3o\", \"digit\", \"prime\", \"sendo\", \"cobran\\u00e7a\", \"assinatura\", \"amazon\", \"ar\"], \"Freq\": [3.0, 1.0, 1.0, 1.0, 1.0, 1.0, 2.0, 2.0, 2.0, 5.0, 1.0, 1.0, 1.0, 1.0, 1.0, 1.0, 1.0, 1.0, 1.0, 1.0, 1.0, 1.0, 1.0, 1.0, 1.0, 1.0, 1.0, 1.0, 1.0, 1.0, 0.8577628726842159, 0.8577628726842159, 0.8577628726842159, 0.8577628726842159, 0.8577628726842159, 0.8577628726842159, 0.8577628726842159, 0.8577628726842159, 0.8577628726842159, 0.8577628726842159, 0.8577628726842159, 0.8577628726842159, 0.8577628726842159, 0.8577628726842159, 0.8577628726842159, 0.8577628726842159, 0.8577628726842159, 0.8577628726842159, 0.8577628726842159, 0.8577628726842159, 0.8577627858766549, 0.8577627858766549, 0.8577628726842159, 0.8577628726842159, 0.8577627858766549, 0.8577627858766549, 0.8577627858766549, 0.8577627858766549, 0.8577627858766549, 0.8577627858766549, 1.5726920634986343, 0.8577627858766549, 0.8577627858766549, 1.4455141824672415, 1.4455141824672415, 0.7884568419547521, 0.7884568419547521, 0.7884567756207154, 0.7884567756207154, 0.7884567756207154, 0.7884567756207154, 0.7884567756207154, 0.7884567756207154, 0.7884567756207154, 0.7884567756207154, 0.7884567756207154, 0.7884567756207154, 0.7884567756207154, 0.7884567756207154, 0.7884567756207154, 0.7884567756207154, 1.4456526879360398, 1.4456526879360398, 2.1026921182585987, 0.7884580359674142, 0.7884679860729312, 0.7884679860729312, 0.7884679197388945, 2.1028344711015303, 0.7884693127536669, 0.7883531618552636, 0.13141217124328777, 0.13141216295153318, 0.13141290091769237, 0.13141221270206077, 1.4455058411742796, 1.4455058411742796, 1.4455058411742796, 0.7884522500531166, 0.788452117387635, 0.788452117387635, 0.788452117387635, 0.788452117387635, 0.788452117387635, 0.788452117387635, 0.788452117387635, 0.788452117387635, 0.788452117387635, 0.788452117387635, 0.788452117387635, 0.7884520510548942, 0.7884520510548942, 0.7884520510548942, 0.7884520510548942, 0.7884520510548942, 0.7884520510548942, 0.7884520510548942, 0.7884520510548942, 0.7884520510548942, 0.7884520510548942, 0.788452449051339, 0.7884620672987562, 2.102810369053919, 1.4453863095753436, 0.788462465295201, 0.0064319309129994996, 0.006431929822782033, 0.006431929822782033, 0.006431929822782033, 0.0064319292776733, 0.0064319292776733, 0.0064319292776733, 0.0064319292776733, 0.0064319292776733, 0.0064319292776733, 0.006431928732564566, 0.006431928732564566, 0.006431928732564566, 0.006431928732564566, 0.006431928732564566, 0.006431928732564566, 0.006431928732564566, 0.006431928187455833, 0.006431928187455833, 0.006431928187455833, 0.006431928187455833, 0.006431928187455833, 0.006431925461912166, 0.006431925461912166, 0.006431925461912166, 0.006431925461912166, 0.006431925461912166, 0.006431925461912166, 0.006431925461912166, 0.006431925461912166, 0.006432108618446564, 0.006432085723879764, 0.006432021401049232, 0.006432017040179365, 0.006432011589092032, 0.006432011589092032, 0.006432011589092032, 0.006432000141808632, 0.006431999596699899, 0.006431999596699899, 0.006431997416264965, 0.0064319243716947, 0.0064319243716947, 0.0064319243716947, 0.0064319243716947, 0.0064319243716947, 0.0064319243716947, 0.0064319243716947, 0.0064319243716947, 0.0064319243716947, 0.0064319243716947, 0.0064319243716947, 0.0064319243716947, 0.0064319243716947, 0.0064319243716947, 0.0064319243716947, 0.0064319243716947, 0.0064319243716947, 0.0064319243716947, 0.0064319243716947, 0.0064319243716947, 0.0064319243716947, 0.0064319243716947, 0.0064319243716947, 0.0064319243716947, 0.0064319243716947, 0.0064319243716947, 0.0064319243716947, 0.0064319243716947, 0.0064319243716947, 0.0064319243716947, 0.006432108618446564, 0.006432075911922564, 0.006432017585288098, 0.006432016495070632, 0.006432015404853165, 0.006432015404853165, 0.006432013769526965, 0.006432009953765832, 0.006432003957569765, 0.006432003412461032, 0.006431989239633965], \"Total\": [3.0, 1.0, 1.0, 1.0, 1.0, 1.0, 2.0, 2.0, 2.0, 5.0, 1.0, 1.0, 1.0, 1.0, 1.0, 1.0, 1.0, 1.0, 1.0, 1.0, 1.0, 1.0, 1.0, 1.0, 1.0, 1.0, 1.0, 1.0, 1.0, 1.0, 1.1334498414904532, 1.1334498470566643, 1.1334498636401735, 1.1334498641852822, 1.1334498658206082, 1.133449866365717, 1.1334498719319281, 1.1334498730221456, 1.1334498824041175, 1.1334498885154374, 1.1334498885154374, 1.133449889060546, 1.1334498896056548, 1.1334498896056548, 1.1334498901507635, 1.133449896807192, 1.1334498989876267, 1.1334499045538378, 1.133449906189164, 1.1334499222275642, 1.1334498121800656, 1.1334498121800656, 1.1334499299742102, 1.1334499299742102, 1.1334498204718202, 1.1334498448019754, 1.133449845347084, 1.133449845347084, 1.133449845347084, 1.1334498520035126, 2.5053210033893283, 1.1334498525486214, 1.1334498613854846, 1.7327523486322554, 1.7327523735070332, 1.0756951437868887, 1.0756951437868887, 1.075695077452852, 1.0756950857444445, 1.0756950857444445, 1.0756950857444445, 1.0756950857444445, 1.0756950857444445, 1.0756950857444445, 1.0756950940360372, 1.0756950940360372, 1.075695118910815, 1.075695118910815, 1.0756951272024076, 1.0756951272024076, 1.0756951354940003, 2.4475423249899455, 2.447542349319615, 3.7039060364276515, 1.7327383195580233, 1.7904959310113358, 1.7904961129180503, 1.7904961483394342, 5.075715872046659, 2.4475385550006807, 2.5053210033893283, 1.0756912964003904, 1.075691288108636, 1.7904922387966329, 1.1334498574954694, 1.732744941733827, 1.732744948935364, 1.732744973265519, 1.0756913699320763, 1.0756912378117034, 1.0756912383568122, 1.075691253850104, 1.0756912543952126, 1.0756912626869672, 1.0756912626869672, 1.0756912709787219, 1.0756912787253678, 1.0756912792704765, 1.075691295308877, 1.0756912958539857, 1.0756912300663537, 1.0756912300663537, 1.0756912383581083, 1.075691238903217, 1.0756912455596455, 1.0756912471949716, 1.0756912554867262, 1.0756912814522073, 1.075691288108636, 1.0756912964003904, 1.7327383195580233, 1.7904922387966329, 5.075715872046659, 3.7039060364276515, 2.4475385550006807, 1.0756912814522073, 1.075691238903217, 1.0756912471949716, 1.0756912554867262, 1.0756912300663537, 1.0756912300663537, 1.0756912383568122, 1.0756912383581083, 1.075691288108636, 1.0756912964003904, 1.0756912378117034, 1.0756912543952126, 1.0756912626869672, 1.0756912626869672, 1.0756912709787219, 1.0756912792704765, 1.0756912958539857, 1.0756912455596455, 1.075691253850104, 1.0756912787253678, 1.075691295308877, 1.0756913699320763, 1.075695077452852, 1.0756950857444445, 1.0756950857444445, 1.0756950857444445, 1.0756950857444445, 1.0756950857444445, 1.0756950857444445, 1.0756950940360372, 2.4475385550006807, 5.075715872046659, 1.7327383195580233, 1.7904922387966329, 1.7904961129180503, 1.7904959310113358, 1.7904961483394342, 2.5053210033893283, 2.447542349319615, 2.4475423249899455, 3.7039060364276515, 1.0756912300663537, 1.0756912300663537, 1.0756912378117034, 1.0756912383568122, 1.0756912383581083, 1.075691238903217, 1.0756912455596455, 1.0756912471949716, 1.075691253850104, 1.0756912543952126, 1.0756912554867262, 1.0756912626869672, 1.0756912626869672, 1.0756912709787219, 1.0756912787253678, 1.0756912792704765, 1.0756912814522073, 1.075691288108636, 1.075691295308877, 1.0756912958539857, 1.0756912964003904, 1.0756913699320763, 1.075695077452852, 1.0756950857444445, 1.0756950857444445, 1.0756950857444445, 1.0756950857444445, 1.0756950857444445, 1.0756950857444445, 1.0756950940360372, 2.4475385550006807, 5.075715872046659, 1.7327383195580233, 1.7904922387966329, 1.7904961129180503, 1.7904959310113358, 1.7904961483394342, 2.5053210033893283, 2.4475423249899455, 2.447542349319615, 3.7039060364276515], \"Category\": [\"Default\", \"Default\", \"Default\", \"Default\", \"Default\", \"Default\", \"Default\", \"Default\", \"Default\", \"Default\", \"Default\", \"Default\", \"Default\", \"Default\", \"Default\", \"Default\", \"Default\", \"Default\", \"Default\", \"Default\", \"Default\", \"Default\", \"Default\", \"Default\", \"Default\", \"Default\", \"Default\", \"Default\", \"Default\", \"Default\", \"Topic1\", \"Topic1\", \"Topic1\", \"Topic1\", \"Topic1\", \"Topic1\", \"Topic1\", \"Topic1\", \"Topic1\", \"Topic1\", \"Topic1\", \"Topic1\", \"Topic1\", \"Topic1\", \"Topic1\", \"Topic1\", \"Topic1\", \"Topic1\", \"Topic1\", \"Topic1\", \"Topic1\", \"Topic1\", \"Topic1\", \"Topic1\", \"Topic1\", \"Topic1\", \"Topic1\", \"Topic1\", \"Topic1\", \"Topic1\", \"Topic1\", \"Topic1\", \"Topic1\", \"Topic2\", \"Topic2\", \"Topic2\", \"Topic2\", \"Topic2\", \"Topic2\", \"Topic2\", \"Topic2\", \"Topic2\", \"Topic2\", \"Topic2\", \"Topic2\", \"Topic2\", \"Topic2\", \"Topic2\", \"Topic2\", \"Topic2\", \"Topic2\", \"Topic2\", \"Topic2\", \"Topic2\", \"Topic2\", \"Topic2\", \"Topic2\", \"Topic2\", \"Topic2\", \"Topic2\", \"Topic2\", \"Topic2\", \"Topic2\", \"Topic2\", \"Topic2\", \"Topic3\", \"Topic3\", \"Topic3\", \"Topic3\", \"Topic3\", \"Topic3\", \"Topic3\", \"Topic3\", \"Topic3\", \"Topic3\", \"Topic3\", \"Topic3\", \"Topic3\", \"Topic3\", \"Topic3\", \"Topic3\", \"Topic3\", \"Topic3\", \"Topic3\", \"Topic3\", \"Topic3\", \"Topic3\", \"Topic3\", \"Topic3\", \"Topic3\", \"Topic3\", \"Topic3\", \"Topic3\", \"Topic3\", \"Topic3\", \"Topic4\", \"Topic4\", \"Topic4\", \"Topic4\", \"Topic4\", \"Topic4\", \"Topic4\", \"Topic4\", \"Topic4\", \"Topic4\", \"Topic4\", \"Topic4\", \"Topic4\", \"Topic4\", \"Topic4\", \"Topic4\", \"Topic4\", \"Topic4\", \"Topic4\", \"Topic4\", \"Topic4\", \"Topic4\", \"Topic4\", \"Topic4\", \"Topic4\", \"Topic4\", \"Topic4\", \"Topic4\", \"Topic4\", \"Topic4\", \"Topic4\", \"Topic4\", \"Topic4\", \"Topic4\", \"Topic4\", \"Topic4\", \"Topic4\", \"Topic4\", \"Topic4\", \"Topic4\", \"Topic4\", \"Topic5\", \"Topic5\", \"Topic5\", \"Topic5\", \"Topic5\", \"Topic5\", \"Topic5\", \"Topic5\", \"Topic5\", \"Topic5\", \"Topic5\", \"Topic5\", \"Topic5\", \"Topic5\", \"Topic5\", \"Topic5\", \"Topic5\", \"Topic5\", \"Topic5\", \"Topic5\", \"Topic5\", \"Topic5\", \"Topic5\", \"Topic5\", \"Topic5\", \"Topic5\", \"Topic5\", \"Topic5\", \"Topic5\", \"Topic5\", \"Topic5\", \"Topic5\", \"Topic5\", \"Topic5\", \"Topic5\", \"Topic5\", \"Topic5\", \"Topic5\", \"Topic5\", \"Topic5\", \"Topic5\"], \"logprob\": [30.0, 29.0, 28.0, 27.0, 26.0, 25.0, 24.0, 23.0, 22.0, 21.0, 20.0, 19.0, 18.0, 17.0, 16.0, 15.0, 14.0, 13.0, 12.0, 11.0, 10.0, 9.0, 8.0, 7.0, 6.0, 5.0, 4.0, 3.0, 2.0, 1.0, -3.9951, -3.9951, -3.9951, -3.9951, -3.9951, -3.9951, -3.9951, -3.9951, -3.9951, -3.9951, -3.9951, -3.9951, -3.9951, -3.9951, -3.9951, -3.9951, -3.9951, -3.9951, -3.9951, -3.9951, -3.9951, -3.9951, -3.9951, -3.9951, -3.9951, -3.9951, -3.9951, -3.9951, -3.9951, -3.9951, -3.3889, -3.9951, -3.9951, -3.2042, -3.2042, -3.8104, -3.8104, -3.8104, -3.8104, -3.8104, -3.8104, -3.8104, -3.8104, -3.8104, -3.8104, -3.8104, -3.8104, -3.8104, -3.8104, -3.8104, -3.8104, -3.2041, -3.2041, -2.8295, -3.8104, -3.8104, -3.8104, -3.8104, -2.8294, -3.8104, -3.8105, -5.6021, -5.6021, -5.6021, -5.6021, -3.2042, -3.2042, -3.2042, -3.8104, -3.8104, -3.8104, -3.8104, -3.8104, -3.8104, -3.8104, -3.8104, -3.8104, -3.8104, -3.8104, -3.8104, -3.8104, -3.8104, -3.8104, -3.8104, -3.8104, -3.8104, -3.8104, -3.8104, -3.8104, -3.8104, -3.8104, -3.8104, -2.8294, -3.2043, -3.8104, -4.5109, -4.5109, -4.5109, -4.5109, -4.5109, -4.5109, -4.5109, -4.5109, -4.5109, -4.5109, -4.5109, -4.5109, -4.5109, -4.5109, -4.5109, -4.5109, -4.5109, -4.5109, -4.5109, -4.5109, -4.5109, -4.5109, -4.5109, -4.5109, -4.5109, -4.5109, -4.5109, -4.5109, -4.5109, -4.5109, -4.5108, -4.5108, -4.5108, -4.5108, -4.5108, -4.5108, -4.5108, -4.5108, -4.5108, -4.5108, -4.5108, -4.5109, -4.5109, -4.5109, -4.5109, -4.5109, -4.5109, -4.5109, -4.5109, -4.5109, -4.5109, -4.5109, -4.5109, -4.5109, -4.5109, -4.5109, -4.5109, -4.5109, -4.5109, -4.5109, -4.5109, -4.5109, -4.5109, -4.5109, -4.5109, -4.5109, -4.5109, -4.5109, -4.5109, -4.5109, -4.5109, -4.5108, -4.5108, -4.5108, -4.5108, -4.5108, -4.5108, -4.5108, -4.5108, -4.5108, -4.5108, -4.5109], \"loglift\": [30.0, 29.0, 28.0, 27.0, 26.0, 25.0, 24.0, 23.0, 22.0, 21.0, 20.0, 19.0, 18.0, 17.0, 16.0, 15.0, 14.0, 13.0, 12.0, 11.0, 10.0, 9.0, 8.0, 7.0, 6.0, 5.0, 4.0, 3.0, 2.0, 1.0, 0.6587, 0.6587, 0.6587, 0.6587, 0.6587, 0.6587, 0.6587, 0.6587, 0.6587, 0.6587, 0.6587, 0.6587, 0.6587, 0.6587, 0.6587, 0.6587, 0.6587, 0.6587, 0.6587, 0.6587, 0.6587, 0.6587, 0.6587, 0.6587, 0.6587, 0.6587, 0.6587, 0.6587, 0.6587, 0.6587, 0.4718, 0.6587, 0.6587, 1.0252, 1.0252, 0.8958, 0.8958, 0.8958, 0.8958, 0.8958, 0.8958, 0.8958, 0.8958, 0.8958, 0.8958, 0.8958, 0.8958, 0.8958, 0.8958, 0.8958, 0.8958, 0.6799, 0.6799, 0.6402, 0.419, 0.3863, 0.3863, 0.3863, 0.3252, 0.0737, 0.0502, -0.896, -0.896, -1.4055, -0.9483, 1.0252, 1.0252, 1.0252, 0.8958, 0.8958, 0.8958, 0.8958, 0.8958, 0.8958, 0.8958, 0.8958, 0.8958, 0.8958, 0.8958, 0.8958, 0.8958, 0.8958, 0.8958, 0.8958, 0.8958, 0.8958, 0.8958, 0.8958, 0.8958, 0.8958, 0.4191, 0.3863, 0.3252, 0.2654, 0.0737, 0.1953, 0.1953, 0.1953, 0.1953, 0.1953, 0.1953, 0.1953, 0.1953, 0.1953, 0.1953, 0.1953, 0.1953, 0.1953, 0.1953, 0.1953, 0.1953, 0.1953, 0.1953, 0.1953, 0.1953, 0.1953, 0.1953, 0.1953, 0.1953, 0.1953, 0.1953, 0.1953, 0.1953, 0.1953, 0.1953, -0.6268, -1.3562, -0.2814, -0.3142, -0.3142, -0.3142, -0.3142, -0.6501, -0.6268, -0.6268, -1.0411, 0.1953, 0.1953, 0.1953, 0.1953, 0.1953, 0.1953, 0.1953, 0.1953, 0.1953, 0.1953, 0.1953, 0.1953, 0.1953, 0.1953, 0.1953, 0.1953, 0.1953, 0.1953, 0.1953, 0.1953, 0.1953, 0.1953, 0.1953, 0.1953, 0.1953, 0.1953, 0.1953, 0.1953, 0.1953, 0.1953, -0.6268, -1.3562, -0.2814, -0.3142, -0.3142, -0.3142, -0.3142, -0.6501, -0.6268, -0.6268, -1.0411]}, \"token.table\": {\"Topic\": [1, 1, 1, 2, 3, 1, 2, 1, 1, 3, 1, 1, 2, 3, 1, 1, 2, 1, 1, 2, 2, 1, 3, 1, 1, 3, 2, 1, 2, 3, 2, 1, 1, 1, 1, 2, 1, 1, 2, 3, 1, 2, 3, 1, 3, 3, 3, 3, 3, 2, 1, 2, 3, 2, 3, 1, 1, 2, 1, 1, 1, 3, 3, 1, 3, 2, 3, 3, 1, 1, 2, 3, 3, 1, 2, 3, 3, 1, 2, 2, 3, 1, 2, 2, 3, 1, 2, 1, 2, 1, 1, 1, 1, 3, 3, 1, 2, 3, 2, 3, 2], \"Freq\": [0.8822622352743499, 0.8822622240950017, 0.8822622408799302, 0.9296314162761666, 0.9296347565306492, 0.4085731142825729, 0.4085731142825729, 0.8822622197623374, 0.882262240455625, 0.9296347766139667, 0.882262259818199, 0.8822622391249105, 0.5399705015003466, 0.2699852507501733, 0.8822622348500444, 0.4085731183439731, 0.4085731183439731, 0.882262240455625, 0.8822621987025441, 0.9296314592715793, 0.9296314592715793, 0.5585056323238169, 0.5585056323238169, 0.8822622189137267, 0.8822622279715481, 0.5771189814256401, 0.5771165168463618, 0.7983008952921786, 0.3991504476460893, 0.9296346777079231, 0.9296314377744324, 0.8822622003997652, 0.882262193096964, 0.8822622064296506, 0.8822621745830037, 0.9296314664372952, 0.8822622662723905, 0.8822622116109254, 0.5771211894563941, 0.5771211894563941, 0.558504423877389, 0.558504423877389, 0.9296347775572754, 0.8822622245193071, 0.9296347417277419, 0.9296347918890895, 0.9296347703913684, 0.9296347909457807, 0.9296347985827822, 0.9296314377744324, 0.40857374767676413, 0.40857374767676413, 0.40857374767676413, 0.9296314664372952, 0.5771189733220851, 0.8822622266986321, 0.8822622060053452, 0.9296314736030111, 0.8822622662723905, 0.882262230999484, 0.8822621943698801, 0.9296347632254617, 0.9296347484214339, 0.8822622262165284, 0.5771189838242295, 0.9296314664372952, 0.9296347985827822, 0.9296347703913684, 0.8822621745830037, 0.8822622068539558, 0.929631430608717, 0.9296347541740578, 0.9296347851931566, 0.5585044806190452, 0.5585044806190452, 0.929634791416875, 0.9296347560595549, 0.882262240455625, 0.929631430608717, 0.9296314664372952, 0.9296347837798736, 0.8822622068539558, 0.9296314664372952, 0.9296314234430016, 0.9296347780283696, 0.5585044128284964, 0.5585044128284964, 0.8822622257922231, 0.9296314664372952, 0.88226220558104, 0.8822622060053452, 0.8822621806128887, 0.882262243457575, 0.9296347914179951, 0.9296347421988361, 0.19701654411100328, 0.39403308822200656, 0.39403308822200656, 0.577116508561482, 0.9296347412555276, 0.9296314162761666], \"Term\": [\"absolutament\", \"ado\", \"agora\", \"aguardo\", \"ajuda\", \"amazon\", \"amazon\", \"anual\", \"an\\u00e9i\", \"aparec\", \"apena\", \"aqui\", \"ar\", \"ar\", \"assim\", \"assinatura\", \"assinatura\", \"assistir\", \"bloquei\", \"brasileiro\", \"canal\", \"cart\\u00e3o\", \"cart\\u00e3o\", \"casa\", \"certeza\", \"cobrado\", \"cobrando\", \"cobran\\u00e7a\", \"cobran\\u00e7a\", \"compra\", \"conhe\\u00e7o\", \"consta\", \"conte\\u00fado\", \"contratei\", \"contrato\", \"correta\", \"credito\", \"desliguei\", \"dest\", \"dest\", \"digit\", \"digit\", \"dizem\", \"educa\\u00e7\\u00e3o\", \"email\", \"entend\", \"ent\\u00e3o\", \"enviar\", \"estornar\", \"fatura\", \"fiz\", \"fiz\", \"fiz\", \"indevidament\", \"iten\", \"la\", \"motivo\", \"m\\u00ea\", \"nada\", \"nenhum\", \"novament\", \"obrigada\", \"ol\\u00e1\", \"outro\", \"pago\", \"paguei\", \"parec\", \"pedido\", \"poder\", \"poi\", \"por\\u00e9m\", \"precisa\", \"preciso\", \"prime\", \"prime\", \"problema\", \"puderem\", \"quaisquer\", \"quero\", \"recebendo\", \"recebi\", \"reclam\", \"relativa\", \"retorno\", \"sabonet\", \"sendo\", \"sendo\", \"seri\", \"solicitei\", \"tard\", \"televis\\u00e3o\", \"ter\", \"terminei\", \"t\\u00e3o\", \"un\", \"valor\", \"valor\", \"valor\", \"venho\", \"verificar\", \"video\"]}, \"R\": 30, \"lambda.step\": 0.01, \"plot.opts\": {\"xlab\": \"PC1\", \"ylab\": \"PC2\"}, \"topic.order\": [3, 1, 4, 2, 5]};\n",
              "\n",
              "function LDAvis_load_lib(url, callback){\n",
              "  var s = document.createElement('script');\n",
              "  s.src = url;\n",
              "  s.async = true;\n",
              "  s.onreadystatechange = s.onload = callback;\n",
              "  s.onerror = function(){console.warn(\"failed to load library \" + url);};\n",
              "  document.getElementsByTagName(\"head\")[0].appendChild(s);\n",
              "}\n",
              "\n",
              "if(typeof(LDAvis) !== \"undefined\"){\n",
              "   // already loaded: just create the visualization\n",
              "   !function(LDAvis){\n",
              "       new LDAvis(\"#\" + \"ldavis_el3385140038416559568421842118\", ldavis_el3385140038416559568421842118_data);\n",
              "   }(LDAvis);\n",
              "}else if(typeof define === \"function\" && define.amd){\n",
              "   // require.js is available: use it to load d3/LDAvis\n",
              "   require.config({paths: {d3: \"https://d3js.org/d3.v5\"}});\n",
              "   require([\"d3\"], function(d3){\n",
              "      window.d3 = d3;\n",
              "      LDAvis_load_lib(\"https://cdn.jsdelivr.net/gh/bmabey/pyLDAvis@3.3.1/pyLDAvis/js/ldavis.v3.0.0.js\", function(){\n",
              "        new LDAvis(\"#\" + \"ldavis_el3385140038416559568421842118\", ldavis_el3385140038416559568421842118_data);\n",
              "      });\n",
              "    });\n",
              "}else{\n",
              "    // require.js not available: dynamically load d3 & LDAvis\n",
              "    LDAvis_load_lib(\"https://d3js.org/d3.v5.js\", function(){\n",
              "         LDAvis_load_lib(\"https://cdn.jsdelivr.net/gh/bmabey/pyLDAvis@3.3.1/pyLDAvis/js/ldavis.v3.0.0.js\", function(){\n",
              "                 new LDAvis(\"#\" + \"ldavis_el3385140038416559568421842118\", ldavis_el3385140038416559568421842118_data);\n",
              "            })\n",
              "         });\n",
              "}\n",
              "</script>"
            ]
          },
          "metadata": {},
          "execution_count": 36
        }
      ]
    },
    {
      "cell_type": "markdown",
      "source": [
        "### **Evaluating LDA model**"
      ],
      "metadata": {
        "id": "Lu6bSyXp97lk"
      }
    },
    {
      "cell_type": "code",
      "source": [
        "# perplexity is the measure of uncertainty, meaning lower the perplexity better the model.\n",
        "print('Perplexity: ', lda_model.log_perplexity(corpus))\n",
        "\n",
        "# Coherence is the measure of semantic similarity between top words in our topic. Higher the coherence better the model performance.\n",
        "coherence_model_lda = models.CoherenceModel(model=lda_model, texts=bodies, dictionary=dictionary, coherence='c_v')\n",
        "coherence_lda = coherence_model_lda.get_coherence()\n",
        "print('Coherence Score: ', coherence_lda)"
      ],
      "metadata": {
        "colab": {
          "base_uri": "https://localhost:8080/"
        },
        "id": "fHqJJqzv9-m4",
        "outputId": "760fdd3d-633e-4255-d74f-140cf9a0d68d"
      },
      "execution_count": 39,
      "outputs": [
        {
          "output_type": "stream",
          "name": "stdout",
          "text": [
            "Perplexity:  -5.060792616435459\n",
            "Coherence Score:  0.6886386639864471\n"
          ]
        }
      ]
    },
    {
      "cell_type": "markdown",
      "source": [
        "### **TF-IDF model**\n",
        "\n",
        "The tf-idf model transforms vectors from the bag-of-words representation to a vector space where the frequency counts are weighted according to the relative rarity of each word in the corpus.\n",
        "\n",
        "More rarity a word is more weighted a word is."
      ],
      "metadata": {
        "id": "An26euq-7nEk"
      }
    },
    {
      "cell_type": "code",
      "source": [
        "# train the model\n",
        "tfidf_model = models.TfidfModel(corpus, id2word=dictionary)"
      ],
      "metadata": {
        "id": "kXHDLlqVz9TQ"
      },
      "execution_count": null,
      "outputs": []
    },
    {
      "cell_type": "code",
      "source": [
        "# print the weight of each word in one document sorted by weight\n",
        "table = []\n",
        "for id, weight in sorted(tfidf_model[corpus[5]], key=lambda x: x[1], reverse=True):\n",
        "    word = dictionary[id]\n",
        "    table.append([word, weight])\n",
        "print(tabulate(table, headers=[\"Word\", \"TF-IDF Weight\"], tablefmt=\"github\"))"
      ],
      "metadata": {
        "id": "RZDSU9yD5qDH"
      },
      "execution_count": null,
      "outputs": []
    },
    {
      "cell_type": "markdown",
      "source": [
        "### **Visualize topics**"
      ],
      "metadata": {
        "id": "MR3Z-OK7GR3B"
      }
    },
    {
      "cell_type": "code",
      "source": [
        "# code"
      ],
      "metadata": {
        "id": "DgCQytlcGVSZ"
      },
      "execution_count": null,
      "outputs": []
    },
    {
      "cell_type": "markdown",
      "source": [
        "### **Evaluate model**"
      ],
      "metadata": {
        "id": "xcfqReXpIcW7"
      }
    },
    {
      "cell_type": "code",
      "source": [
        "# code"
      ],
      "metadata": {
        "id": "gUtjBWhvIfRR"
      },
      "execution_count": null,
      "outputs": []
    },
    {
      "cell_type": "markdown",
      "source": [
        "### **Latent Semantic Analysis (LSA) model** "
      ],
      "metadata": {
        "id": "no16baSgggQB"
      }
    },
    {
      "cell_type": "code",
      "source": [
        "# convert the vector from (bag-of-words integer counts) to (TfIdf real-valued weights)\n",
        "tfidf_corpus = tfidf_model[corpus]\n",
        "print(f'This corpus has {len(tfidf_corpus)} documents')\n",
        "\n",
        "# train the model\n",
        "lsa_model = models.LsiModel(tfidf_corpus, id2word=dictionary, num_topics=300)\n",
        "lsa_model.show_topics()"
      ],
      "metadata": {
        "id": "dGbidS4n2qw-"
      },
      "execution_count": null,
      "outputs": []
    },
    {
      "cell_type": "code",
      "source": [
        "# print the weight of each word in one document sorted by weight\n",
        "table = []\n",
        "for id, weight in sorted(lsa_model[corpus[2]], key=lambda x: x[1], reverse=True):\n",
        "    word = dictionary[id]\n",
        "    table.append([word, weight])\n",
        "print(tabulate(table, headers=[\"Word\", \"Weight\"], tablefmt=\"github\"))"
      ],
      "metadata": {
        "id": "NZXgufNxqlan"
      },
      "execution_count": null,
      "outputs": []
    },
    {
      "cell_type": "markdown",
      "source": [
        "### **Evaluate model**"
      ],
      "metadata": {
        "id": "hwXX9Z5sJTAz"
      }
    },
    {
      "cell_type": "code",
      "source": [
        "# Coherence is the measure of semantic similarity between top words in our topic. Higher the coherence better the model performance.\n",
        "coherence_model_lsa = models.CoherenceModel(model=lsa_model, texts=texts, dictionary=dictionary, coherence='c_v')\n",
        "coherence_lsa = coherence_model_lsa.get_coherence()\n",
        "print('Coherence Score: ', coherence_lsa)"
      ],
      "metadata": {
        "id": "Ojj4I_yKJVa9"
      },
      "execution_count": null,
      "outputs": []
    },
    {
      "cell_type": "markdown",
      "source": [
        "### **Random Projections, RP**"
      ],
      "metadata": {
        "id": "Nw0rzT5kphJ0"
      }
    },
    {
      "cell_type": "code",
      "source": [
        "num_topics = len(dictionary)\n",
        "rp_model = models.RpModel(tfidf_corpus, num_topics=num_topics)"
      ],
      "metadata": {
        "id": "O-cPNpR0pi21"
      },
      "execution_count": null,
      "outputs": []
    },
    {
      "cell_type": "code",
      "source": [
        "# print the weight of each word in one document sorted by weight\n",
        "table = []\n",
        "for id, weight in sorted(rp_model[tfidf_corpus[5]], key=lambda x: x[1], reverse=True):\n",
        "    word = dictionary[id]\n",
        "    table.append([word, weight])\n",
        "print(tabulate(table, headers=[\"Word\", \"Weight\"], tablefmt=\"github\"))"
      ],
      "metadata": {
        "id": "wJWNf_3KrLdN"
      },
      "execution_count": null,
      "outputs": []
    },
    {
      "cell_type": "markdown",
      "source": [
        "### **Evaluate model**"
      ],
      "metadata": {
        "id": "hlXzDxEHJg9g"
      }
    },
    {
      "cell_type": "markdown",
      "source": [
        "### **Hierarchical Dirichlet Process, HDP** "
      ],
      "metadata": {
        "id": "2MsWv_wTpwkc"
      }
    },
    {
      "cell_type": "code",
      "source": [
        "hp_model = models.HdpModel(corpus, id2word=dictionary)"
      ],
      "metadata": {
        "id": "jeDgAS3ApyIw"
      },
      "execution_count": null,
      "outputs": []
    },
    {
      "cell_type": "code",
      "source": [
        "table = []\n",
        "for id, weight in sorted(hp_model[corpus[5]], key=lambda x: x[1], reverse=True):\n",
        "  word = dictionary[id]\n",
        "  table.append([word,weight])\n",
        "print(tabulate(table, headers=[\"Word\", \"Weight\"], tablefmt=\"github\"))"
      ],
      "metadata": {
        "id": "y3evON-Wr21x"
      },
      "execution_count": null,
      "outputs": []
    },
    {
      "cell_type": "markdown",
      "source": [
        "### **Evaluate model**"
      ],
      "metadata": {
        "id": "37Kkkl-tJ63V"
      }
    },
    {
      "cell_type": "code",
      "source": [
        "# Coherence is the measure of semantic similarity between top words in our topic. Higher the coherence better the model performance.\n",
        "coherence_model_hp = models.CoherenceModel(model=hp_model, texts=texts, dictionary=dictionary, coherence='c_v')\n",
        "coherence_hp = coherence_model_hp.get_coherence()\n",
        "print('Coherence Score: ', coherence_hp)"
      ],
      "metadata": {
        "id": "y1taLp6zJ9cf"
      },
      "execution_count": null,
      "outputs": []
    },
    {
      "cell_type": "markdown",
      "source": [
        "### **BERTimbau**"
      ],
      "metadata": {
        "id": "_OE08YEM5PEp"
      }
    },
    {
      "cell_type": "code",
      "source": [
        "from transformers import AutoModel, AutoTokenizer"
      ],
      "metadata": {
        "id": "myO9rkSl5VRA"
      },
      "execution_count": null,
      "outputs": []
    },
    {
      "cell_type": "code",
      "source": [
        "# BERT Base\n",
        "tokenizer = AutoTokenizer.from_pretrained('neuralmind/bert-base-portuguese-cased')\n",
        "model = AutoModel.from_pretrained('neuralmind/bert-base-portuguese-cased')"
      ],
      "metadata": {
        "id": "2Tgw27sq5Sy_"
      },
      "execution_count": null,
      "outputs": []
    },
    {
      "cell_type": "markdown",
      "source": [
        "### **Texblob**"
      ],
      "metadata": {
        "id": "JwHAzXHs_bj2"
      }
    },
    {
      "cell_type": "code",
      "source": [
        "from textblob import TextBlob\n",
        "from nltk.sentiment.vader import SentimentIntensityAnalyzer\n",
        "nltk.download('vader_lexicon')"
      ],
      "metadata": {
        "id": "Qc-jhVX2_fIe"
      },
      "execution_count": null,
      "outputs": []
    },
    {
      "cell_type": "code",
      "source": [
        "sid = SentimentIntensityAnalyzer()"
      ],
      "metadata": {
        "id": "xfpTn8qmIhO5"
      },
      "execution_count": null,
      "outputs": []
    },
    {
      "cell_type": "code",
      "source": [
        "def get_blob_sentiment(sentence):\n",
        "  blob = TextBlob(sentence).sentiment\n",
        "  return blob.polarity"
      ],
      "metadata": {
        "id": "qJLW4tDG_5Oz"
      },
      "execution_count": null,
      "outputs": []
    },
    {
      "cell_type": "markdown",
      "source": [
        "### **Vader**"
      ],
      "metadata": {
        "id": "L5z5Tr7FIKBl"
      }
    },
    {
      "cell_type": "code",
      "source": [
        "nltk.download('vader_lexicon')"
      ],
      "metadata": {
        "id": "GBONwIhIILyc"
      },
      "execution_count": null,
      "outputs": []
    },
    {
      "cell_type": "code",
      "source": [
        "def get_vader_sentiment(sentence):\n",
        "  vader = sid.polarity_scores(sentence)\n",
        "  return vader['compound']"
      ],
      "metadata": {
        "id": "FTBht6U6I9YD"
      },
      "execution_count": null,
      "outputs": []
    },
    {
      "cell_type": "code",
      "source": [
        "df['TextBlob'] = df['body'].apply(lambda sentence: get_blob_sentiment(sentence))\n",
        "df['Vader'] = df['body'].apply(lambda sentence: get_vader_sentiment(sentence))"
      ],
      "metadata": {
        "id": "vUoKYgeGJWiQ"
      },
      "execution_count": null,
      "outputs": []
    },
    {
      "cell_type": "markdown",
      "source": [
        "A negative sentiment score means \n",
        "negative sentiment, and a positive sentiment score means positive sentiment. The higher \n",
        "the absolute value of the score, the more confident the system is about it"
      ],
      "metadata": {
        "id": "vT8dYlRQLD1U"
      }
    },
    {
      "cell_type": "code",
      "source": [
        "df.head(10)"
      ],
      "metadata": {
        "id": "wvpqU7r1K9Nl"
      },
      "execution_count": null,
      "outputs": []
    },
    {
      "cell_type": "markdown",
      "source": [
        "### **Clustering sentences with K-Means**"
      ],
      "metadata": {
        "id": "fKOeVmUlL08M"
      }
    },
    {
      "cell_type": "code",
      "source": [
        "import re\n",
        "from sklearn.cluster import KMeans\n",
        "from sklearn.feature_extraction.text import TfidfVectorizer\n",
        "from nltk.probability import FreqDist\n",
        "from sklearn.model_selection import train_test_split"
      ],
      "metadata": {
        "id": "q4q2KdkXL83B"
      },
      "execution_count": null,
      "outputs": []
    },
    {
      "cell_type": "markdown",
      "metadata": {
        "id": "zANBqSOtNerU"
      },
      "source": [
        "## **Save Models to Google Cloud Storage**"
      ]
    },
    {
      "cell_type": "code",
      "execution_count": null,
      "metadata": {
        "id": "JQ_BMRXENmIi"
      },
      "outputs": [],
      "source": [
        "# import google cloud dependencies\n",
        "#from google.colab import auth\n",
        "#import uuid # for generate a unique identification for google bucket\n",
        "# Define a project id in google cloud\n",
        "#project_id = '<project_ID>'\n",
        "\n",
        "#auth.authenticate_user()\n",
        "# configure gsutil\n",
        "## !gcloud config set project {project_id}\n",
        "# set bucket name\n",
        "##backet_name = f'sample-bucket-{uuid.uuid1()}'\n",
        "## !gsuit mb gs://{bucket_name}"
      ]
    },
    {
      "cell_type": "code",
      "execution_count": null,
      "metadata": {
        "id": "0srGkyyiPHEq"
      },
      "outputs": [],
      "source": [
        "# upload model to Google Cloud Storage\n",
        "#!gsuit cp /tmp/name_of_file.txt gs://{bucket_name}/\n",
        "\n",
        "# location of model\n",
        "#download_location = f\"https://console.cloud.google.com/storage/browser?project={project_id}\"\n",
        "\n",
        "# donwload model from Google Cloud Storage\n",
        "#!gsuit cp gs://{bucket_name}/{filename} {download_location}"
      ]
    },
    {
      "cell_type": "markdown",
      "metadata": {
        "id": "sStwWfuAzGZ3"
      },
      "source": [
        "## **References**\n"
      ]
    },
    {
      "cell_type": "markdown",
      "metadata": {
        "id": "8UcEjjp6F266"
      },
      "source": [
        "[LangDetect](https://pypi.org/project/langdetect/) <br/>\n",
        "[Diagrams](https://pypi.org/project/diagrams/) <br/>\n",
        "[Graphviz](https://pypi.org/project/graphviz/) <br/>\n",
        "[Beautifulsoap4](https://pypi.org/project/beautifulsoup4/) <br/>\n",
        "[OpLexicon](https://www.inf.pucrs.br/linatural/wordpress/recursos-e-ferramentas/oplexicon/)"
      ]
    }
  ],
  "metadata": {
    "colab": {
      "collapsed_sections": [],
      "provenance": [],
      "include_colab_link": true
    },
    "kernelspec": {
      "display_name": "Python 3.10.4 ('.env': venv)",
      "language": "python",
      "name": "python3"
    },
    "language_info": {
      "name": "python",
      "version": "3.10.4"
    },
    "vscode": {
      "interpreter": {
        "hash": "6870af64cccb2dc4285885e4363d49c25adb22669b810ecb9f48ab42b19689bd"
      }
    }
  },
  "nbformat": 4,
  "nbformat_minor": 0
}