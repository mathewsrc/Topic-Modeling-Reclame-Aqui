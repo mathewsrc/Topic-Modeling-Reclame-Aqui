{
  "nbformat": 4,
  "nbformat_minor": 0,
  "metadata": {
    "colab": {
      "provenance": [],
      "toc_visible": true,
      "authorship_tag": "ABX9TyPzKE3FLFjd4l8T1KmPSNDQ",
      "include_colab_link": true
    },
    "kernelspec": {
      "name": "python3",
      "display_name": "Python 3"
    },
    "language_info": {
      "name": "python"
    }
  },
  "cells": [
    {
      "cell_type": "markdown",
      "metadata": {
        "id": "view-in-github",
        "colab_type": "text"
      },
      "source": [
        "<a href=\"https://colab.research.google.com/github/punkmic/Unsupervised-Sentiment-Analysis---Comparisen-analysis/blob/master/Unsupervised_Sentiment_Analysis.ipynb\" target=\"_parent\"><img src=\"https://colab.research.google.com/assets/colab-badge.svg\" alt=\"Open In Colab\"/></a>"
      ]
    },
    {
      "cell_type": "markdown",
      "source": [
        "# **Intro**"
      ],
      "metadata": {
        "id": "tXD6WQspxJWc"
      }
    },
    {
      "cell_type": "markdown",
      "source": [
        "## **Install Dependecies**"
      ],
      "metadata": {
        "id": "-593AM2lxMMh"
      }
    },
    {
      "cell_type": "code",
      "execution_count": 1,
      "metadata": {
        "colab": {
          "base_uri": "https://localhost:8080/"
        },
        "id": "C7gQcM_NxE2w",
        "outputId": "866f668d-fdf5-4b50-ce49-8e6721debb51"
      },
      "outputs": [
        {
          "output_type": "stream",
          "name": "stdout",
          "text": [
            "Looking in indexes: https://pypi.org/simple, https://us-python.pkg.dev/colab-wheels/public/simple/\n",
            "Requirement already satisfied: langdetect in /usr/local/lib/python3.7/dist-packages (1.0.9)\n",
            "Requirement already satisfied: six in /usr/local/lib/python3.7/dist-packages (from langdetect) (1.15.0)\n",
            "Looking in indexes: https://pypi.org/simple, https://us-python.pkg.dev/colab-wheels/public/simple/\n",
            "Requirement already satisfied: googletrans in /usr/local/lib/python3.7/dist-packages (3.0.0)\n",
            "Requirement already satisfied: httpx==0.13.3 in /usr/local/lib/python3.7/dist-packages (from googletrans) (0.13.3)\n",
            "Requirement already satisfied: hstspreload in /usr/local/lib/python3.7/dist-packages (from httpx==0.13.3->googletrans) (2022.9.1)\n",
            "Requirement already satisfied: httpcore==0.9.* in /usr/local/lib/python3.7/dist-packages (from httpx==0.13.3->googletrans) (0.9.1)\n",
            "Requirement already satisfied: sniffio in /usr/local/lib/python3.7/dist-packages (from httpx==0.13.3->googletrans) (1.3.0)\n",
            "Requirement already satisfied: certifi in /usr/local/lib/python3.7/dist-packages (from httpx==0.13.3->googletrans) (2022.6.15)\n",
            "Requirement already satisfied: chardet==3.* in /usr/local/lib/python3.7/dist-packages (from httpx==0.13.3->googletrans) (3.0.4)\n",
            "Requirement already satisfied: idna==2.* in /usr/local/lib/python3.7/dist-packages (from httpx==0.13.3->googletrans) (2.10)\n",
            "Requirement already satisfied: rfc3986<2,>=1.3 in /usr/local/lib/python3.7/dist-packages (from httpx==0.13.3->googletrans) (1.5.0)\n",
            "Requirement already satisfied: h11<0.10,>=0.8 in /usr/local/lib/python3.7/dist-packages (from httpcore==0.9.*->httpx==0.13.3->googletrans) (0.9.0)\n",
            "Requirement already satisfied: h2==3.* in /usr/local/lib/python3.7/dist-packages (from httpcore==0.9.*->httpx==0.13.3->googletrans) (3.2.0)\n",
            "Requirement already satisfied: hyperframe<6,>=5.2.0 in /usr/local/lib/python3.7/dist-packages (from h2==3.*->httpcore==0.9.*->httpx==0.13.3->googletrans) (5.2.0)\n",
            "Requirement already satisfied: hpack<4,>=3.0 in /usr/local/lib/python3.7/dist-packages (from h2==3.*->httpcore==0.9.*->httpx==0.13.3->googletrans) (3.0.0)\n",
            "Looking in indexes: https://pypi.org/simple, https://us-python.pkg.dev/colab-wheels/public/simple/\n",
            "Requirement already satisfied: diagrams in /usr/local/lib/python3.7/dist-packages (0.22.0)\n",
            "Requirement already satisfied: jinja2<4.0,>=2.10 in /usr/local/lib/python3.7/dist-packages (from diagrams) (2.11.3)\n",
            "Requirement already satisfied: graphviz<0.20.0,>=0.13.2 in /usr/local/lib/python3.7/dist-packages (from diagrams) (0.19.2)\n",
            "Requirement already satisfied: MarkupSafe>=0.23 in /usr/local/lib/python3.7/dist-packages (from jinja2<4.0,>=2.10->diagrams) (2.0.1)\n",
            "Looking in indexes: https://pypi.org/simple, https://us-python.pkg.dev/colab-wheels/public/simple/\n",
            "Requirement already satisfied: graphviz in /usr/local/lib/python3.7/dist-packages (0.19.2)\n",
            "Looking in indexes: https://pypi.org/simple, https://us-python.pkg.dev/colab-wheels/public/simple/\n",
            "Requirement already satisfied: beautifulsoup4 in /usr/local/lib/python3.7/dist-packages (4.6.3)\n",
            "Looking in indexes: https://pypi.org/simple, https://us-python.pkg.dev/colab-wheels/public/simple/\n",
            "Requirement already satisfied: selenium in /usr/local/lib/python3.7/dist-packages (4.4.3)\n",
            "Requirement already satisfied: certifi>=2021.10.8 in /usr/local/lib/python3.7/dist-packages (from selenium) (2022.6.15)\n",
            "Requirement already satisfied: trio~=0.17 in /usr/local/lib/python3.7/dist-packages (from selenium) (0.21.0)\n",
            "Requirement already satisfied: urllib3[socks]~=1.26 in /usr/local/lib/python3.7/dist-packages (from selenium) (1.26.12)\n",
            "Requirement already satisfied: trio-websocket~=0.9 in /usr/local/lib/python3.7/dist-packages (from selenium) (0.9.2)\n",
            "Requirement already satisfied: outcome in /usr/local/lib/python3.7/dist-packages (from trio~=0.17->selenium) (1.2.0)\n",
            "Requirement already satisfied: idna in /usr/local/lib/python3.7/dist-packages (from trio~=0.17->selenium) (2.10)\n",
            "Requirement already satisfied: async-generator>=1.9 in /usr/local/lib/python3.7/dist-packages (from trio~=0.17->selenium) (1.10)\n",
            "Requirement already satisfied: sniffio in /usr/local/lib/python3.7/dist-packages (from trio~=0.17->selenium) (1.3.0)\n",
            "Requirement already satisfied: sortedcontainers in /usr/local/lib/python3.7/dist-packages (from trio~=0.17->selenium) (2.4.0)\n",
            "Requirement already satisfied: attrs>=19.2.0 in /usr/local/lib/python3.7/dist-packages (from trio~=0.17->selenium) (22.1.0)\n",
            "Requirement already satisfied: wsproto>=0.14 in /usr/local/lib/python3.7/dist-packages (from trio-websocket~=0.9->selenium) (1.2.0)\n",
            "Requirement already satisfied: PySocks!=1.5.7,<2.0,>=1.5.6 in /usr/local/lib/python3.7/dist-packages (from urllib3[socks]~=1.26->selenium) (1.7.1)\n",
            "Requirement already satisfied: h11<1,>=0.9.0 in /usr/local/lib/python3.7/dist-packages (from wsproto>=0.14->trio-websocket~=0.9->selenium) (0.9.0)\n"
          ]
        }
      ],
      "source": [
        "# install dependecies here\n",
        "!pip install langdetect  # for language detection\n",
        "!pip install googletrans # for text translate\n",
        "!pip install diagrams # for visualize the workflow\n",
        "!pip install graphviz # for visualize the workflow\n",
        "!pip install beautifulsoup4 # for web scraping\n",
        "!pip install selenium # for automate web browser interaction"
      ]
    },
    {
      "cell_type": "markdown",
      "source": [
        "Some code need to use selenium in Colab"
      ],
      "metadata": {
        "id": "XBaNr05plmrA"
      }
    },
    {
      "cell_type": "code",
      "source": [
        "# https://stackoverflow.com/questions/51046454/how-can-we-use-selenium-webdriver-in-colab-research-google-com\n",
        "!apt-get update # to update ubuntu to correctly run apt install\n",
        "!apt install chromium-chromedriver\n",
        "!cp /usr/lib/chromium-browser/chromedriver /usr/bin\n",
        "import sys\n",
        "sys.path.insert(0,'/usr/lib/chromium-browser/chromedriver')"
      ],
      "metadata": {
        "id": "gyXqaOqwls4D"
      },
      "execution_count": null,
      "outputs": []
    },
    {
      "cell_type": "markdown",
      "source": [
        "## **Load Depencies**"
      ],
      "metadata": {
        "id": "Rkydqr0uxUiB"
      }
    },
    {
      "cell_type": "code",
      "source": [
        "# load dependecies here\n",
        "from langdetect import detect as dt\n",
        "from diagrams import Diagram as dg\n",
        "from googletrans import Translator as tls\n",
        "from bs4 import BeautifulSoup as bs\n",
        "import pandas as pd\n",
        "from selenium import webdriver\n",
        "chrome_options = webdriver.ChromeOptions()\n",
        "chrome_options.add_argument('--headless')\n",
        "chrome_options.add_argument('--no-sandbox')\n",
        "chrome_options.add_argument('--disable-dev-shm-usage')"
      ],
      "metadata": {
        "id": "Km0RDHK_xX8V"
      },
      "execution_count": 5,
      "outputs": []
    },
    {
      "cell_type": "markdown",
      "source": [
        "## **Web Scraping** "
      ],
      "metadata": {
        "id": "NIqJWN1txfl6"
      }
    },
    {
      "cell_type": "code",
      "source": [
        "# web scraping here\n",
        "#class Page:\n",
        "#  def __init__(self, driver):\n",
        "#   self.driver = driver\n",
        "wd = webdriver.Chrome('chromedriver', options=chrome_options)\n",
        "wd.get(\"https://www.reclameaqui.com.br/\")\n",
        "html = wd.page_source\n",
        "page = bs(html,'html.parser')"
      ],
      "metadata": {
        "id": "WXaCBvgIxiYy"
      },
      "execution_count": 22,
      "outputs": []
    },
    {
      "cell_type": "code",
      "source": [
        "page.text"
      ],
      "metadata": {
        "id": "PCeJVCvyrtdW",
        "outputId": "6845d611-423e-4fcc-a18b-c0e200c0f6e7",
        "colab": {
          "base_uri": "https://localhost:8080/",
          "height": 53
        }
      },
      "execution_count": 23,
      "outputs": [
        {
          "output_type": "execute_result",
          "data": {
            "text/plain": [
              "'\\nAccess Denied\\n\\nAccess Denied\\n \\nYou don\\'t have permission to access \"http://www.reclameaqui.com.br/\" on this server.\\nReference #18.1da7cb17.1663089502.7996fe7\\n\\n\\n'"
            ],
            "application/vnd.google.colaboratory.intrinsic+json": {
              "type": "string"
            }
          },
          "metadata": {},
          "execution_count": 23
        }
      ]
    },
    {
      "cell_type": "markdown",
      "source": [
        "## **Save Data to Mysql for Offline Use**"
      ],
      "metadata": {
        "id": "II9FekPIxlfq"
      }
    },
    {
      "cell_type": "code",
      "source": [
        "# save to mysql"
      ],
      "metadata": {
        "id": "ven-W7oyxp36"
      },
      "execution_count": null,
      "outputs": []
    },
    {
      "cell_type": "markdown",
      "source": [
        "## **Load Dataset**"
      ],
      "metadata": {
        "id": "x0cdDKUrxsq1"
      }
    },
    {
      "cell_type": "code",
      "source": [
        "# load dataset here"
      ],
      "metadata": {
        "id": "pzdi7uwrx8Ls"
      },
      "execution_count": null,
      "outputs": []
    },
    {
      "cell_type": "markdown",
      "source": [
        "## **Text Pre-Processing**\n",
        "\n",
        "* Lower Case conversion\n",
        "* Removing Punctuations\n",
        "* Stop Words Removal\n",
        "* Rare Words Removal\n",
        "* Spelling correction\n",
        "* Tokenization\n",
        "* Lemmatization\n",
        "\n"
      ],
      "metadata": {
        "id": "WvlnEo8NT5mW"
      }
    },
    {
      "cell_type": "code",
      "source": [
        "# pre-processing text here"
      ],
      "metadata": {
        "id": "EjlLrq9mT8et"
      },
      "execution_count": null,
      "outputs": []
    },
    {
      "cell_type": "markdown",
      "source": [
        "## **Feature Extraction**"
      ],
      "metadata": {
        "id": "pdfSShCFW0CV"
      }
    },
    {
      "cell_type": "code",
      "source": [
        "# Bag of words, TF-IDF"
      ],
      "metadata": {
        "id": "o7kxo36OW3V1"
      },
      "execution_count": null,
      "outputs": []
    },
    {
      "cell_type": "markdown",
      "source": [
        "## **Modeling**"
      ],
      "metadata": {
        "id": "QgomdGNsW-yO"
      }
    },
    {
      "cell_type": "code",
      "source": [
        "# create and train models"
      ],
      "metadata": {
        "id": "ynLLxAwFXBDm"
      },
      "execution_count": null,
      "outputs": []
    },
    {
      "cell_type": "markdown",
      "source": [
        "## **Save Models to Google Cloud Storage**"
      ],
      "metadata": {
        "id": "zANBqSOtNerU"
      }
    },
    {
      "cell_type": "code",
      "source": [
        "# import google cloud dependencies\n",
        "from google.colab import auth\n",
        "import uuid # for generate a unique identification for google bucket\n",
        "# Define a project id in google cloud\n",
        "project_id = '<project_ID>'\n",
        "\n",
        "auth.authenticate_user()\n",
        "# configure gsutil\n",
        "## !gcloud config set project {project_id}\n",
        "# set bucket name\n",
        "##backet_name = f'sample-bucket-{uuid.uuid1()}'\n",
        "## !gsuit mb gs://{bucket_name}"
      ],
      "metadata": {
        "id": "JQ_BMRXENmIi"
      },
      "execution_count": null,
      "outputs": []
    },
    {
      "cell_type": "code",
      "source": [
        "# upload model to Google Cloud Storage\n",
        "!gsuit cp /tmp/name_of_file.txt gs://{bucket_name}/\n",
        "\n",
        "# location of model\n",
        "download_location = f\"https://console.cloud.google.com/storage/browser?project={project_id}\"\n",
        "\n",
        "# donwload model from Google Cloud Storage\n",
        "!gsuit cp gs://{bucket_name}/{filename} {download_location}"
      ],
      "metadata": {
        "id": "0srGkyyiPHEq"
      },
      "execution_count": null,
      "outputs": []
    },
    {
      "cell_type": "markdown",
      "source": [
        "## **References**\n"
      ],
      "metadata": {
        "id": "sStwWfuAzGZ3"
      }
    },
    {
      "cell_type": "markdown",
      "source": [
        "[LangDetect](https://pypi.org/project/langdetect/) <br/>\n",
        "[Diagrams](https://pypi.org/project/diagrams/) <br/>\n",
        "[Graphviz](https://pypi.org/project/graphviz/) <br/>\n",
        "[GoogleTrans](https://pypi.org/project/googletrans/) <br/>\n",
        "[Beautifulsoap4](https://pypi.org/project/beautifulsoup4/) <br/>\n",
        "[OpLexicon](https://www.inf.pucrs.br/linatural/wordpress/recursos-e-ferramentas/oplexicon/)"
      ],
      "metadata": {
        "id": "8UcEjjp6F266"
      }
    }
  ]
}