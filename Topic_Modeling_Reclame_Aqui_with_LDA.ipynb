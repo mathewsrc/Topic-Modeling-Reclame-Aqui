{
  "nbformat": 4,
  "nbformat_minor": 0,
  "metadata": {
    "colab": {
      "provenance": [],
      "authorship_tag": "ABX9TyMjtlOARMUpN4U1tpvWEGUE",
      "include_colab_link": true
    },
    "kernelspec": {
      "name": "python3",
      "display_name": "Python 3"
    },
    "language_info": {
      "name": "python"
    }
  },
  "cells": [
    {
      "cell_type": "markdown",
      "metadata": {
        "id": "view-in-github",
        "colab_type": "text"
      },
      "source": [
        "<a href=\"https://colab.research.google.com/github/punkmic/Topic-Modeling-Reclame-Aqui/blob/master/Topic_Modeling_Reclame_Aqui_with_LDA.ipynb\" target=\"_parent\"><img src=\"https://colab.research.google.com/assets/colab-badge.svg\" alt=\"Open In Colab\"/></a>"
      ]
    },
    {
      "cell_type": "markdown",
      "source": [
        "# **Topic Modeling with Latent Dirichlet Allocation (LDA) - Reclame Aqui**\n",
        "\n",
        "LDA is an unsupervised learning algorithm which is able to learns about the structure of the data by analyzing the relationships between words and documents. LDA is based on the idea that each document in a collection can be represented as a mixture of a small number of topics, and that each topic is a distribution over the words in the vocabulary. The model estimates the probability of each word in a document given the topics present in that document, and it also estimates the probability of each topic given the words in the document.\n",
        "\n",
        "Reference: BLEI, D. M. 2012 Probabilistic topic models. Communications of the ACM, 55(4): pp.77_84.\n"
      ],
      "metadata": {
        "id": "TWGPEZb7vhTo"
      }
    },
    {
      "cell_type": "markdown",
      "source": [
        "### **Load data from [Github](https://github.com/punkmic/Topic-Modeling-Reclame-Aqui.git)**"
      ],
      "metadata": {
        "id": "EGjKdT4C8RVD"
      }
    },
    {
      "cell_type": "code",
      "source": [
        "!git clone https://github.com/punkmic/Topic-Modeling-Reclame-Aqui.git\n",
        "%cd /content/Topic-Modeling-Reclame-Aqui/\n",
        "!git pull origin master"
      ],
      "metadata": {
        "id": "C_yss1JC-8Ou",
        "outputId": "5e85a850-469c-445f-e460-8f3f3fe1e5ba",
        "colab": {
          "base_uri": "https://localhost:8080/"
        }
      },
      "execution_count": 6,
      "outputs": [
        {
          "output_type": "stream",
          "name": "stdout",
          "text": [
            "fatal: destination path 'Topic-Modeling-Reclame-Aqui' already exists and is not an empty directory.\n",
            "/content/Topic-Modeling-Reclame-Aqui\n",
            "remote: Enumerating objects: 12, done.\u001b[K\n",
            "remote: Counting objects: 100% (12/12), done.\u001b[K\n",
            "remote: Compressing objects: 100% (7/7), done.\u001b[K\n",
            "remote: Total 9 (delta 6), reused 3 (delta 2), pack-reused 0\u001b[K\n",
            "Unpacking objects: 100% (9/9), done.\n",
            "From https://github.com/punkmic/Topic-Modeling-Reclame-Aqui\n",
            " * branch            master     -> FETCH_HEAD\n",
            "   1a99d77..04e025c  master     -> origin/master\n",
            "Updating 1a99d77..04e025c\n",
            "Fast-forward\n",
            " Topic_Modeling_with_BERTopic_Reclame_aqui.ipynb |  112 \u001b[32m+\u001b[m\u001b[31m-\u001b[m\n",
            " load_corpus.py                                  |    2 \u001b[32m+\u001b[m\u001b[31m-\u001b[m\n",
            " preprocessing.ipynb                             | 1655 \u001b[32m+++++++++++++++++++++++\u001b[m\n",
            " 3 files changed, 1701 insertions(+), 68 deletions(-)\n",
            " create mode 100644 preprocessing.ipynb\n"
          ]
        }
      ]
    },
    {
      "cell_type": "code",
      "source": [
        "# load corpus \n",
        "!python '/content/Topic-Modeling-Reclame-Aqui/load_corpus.py' \n",
        "corpuss"
      ],
      "metadata": {
        "colab": {
          "base_uri": "https://localhost:8080/",
          "height": 244
        },
        "id": "2abR4zb3ksbq",
        "outputId": "3588b134-827c-48d6-b652-6f85a57116ce"
      },
      "execution_count": 9,
      "outputs": [
        {
          "output_type": "stream",
          "name": "stdout",
          "text": [
            "Select one option: (raw, preprocessed): preprocessed\n",
            "Data loaded to variable name: corpuss\n"
          ]
        },
        {
          "output_type": "error",
          "ename": "NameError",
          "evalue": "ignored",
          "traceback": [
            "\u001b[0;31m---------------------------------------------------------------------------\u001b[0m",
            "\u001b[0;31mNameError\u001b[0m                                 Traceback (most recent call last)",
            "\u001b[0;32m<ipython-input-9-ea3d8d4b357f>\u001b[0m in \u001b[0;36m<module>\u001b[0;34m\u001b[0m\n\u001b[1;32m      1\u001b[0m \u001b[0;31m# load corpus\u001b[0m\u001b[0;34m\u001b[0m\u001b[0;34m\u001b[0m\u001b[0;34m\u001b[0m\u001b[0m\n\u001b[1;32m      2\u001b[0m \u001b[0mget_ipython\u001b[0m\u001b[0;34m(\u001b[0m\u001b[0;34m)\u001b[0m\u001b[0;34m.\u001b[0m\u001b[0msystem\u001b[0m\u001b[0;34m(\u001b[0m\u001b[0;34m\"python '/content/Topic-Modeling-Reclame-Aqui/load_corpus.py' \"\u001b[0m\u001b[0;34m)\u001b[0m\u001b[0;34m\u001b[0m\u001b[0;34m\u001b[0m\u001b[0m\n\u001b[0;32m----> 3\u001b[0;31m \u001b[0mcorpuss\u001b[0m\u001b[0;34m\u001b[0m\u001b[0;34m\u001b[0m\u001b[0m\n\u001b[0m",
            "\u001b[0;31mNameError\u001b[0m: name 'corpuss' is not defined"
          ]
        }
      ]
    }
  ]
}