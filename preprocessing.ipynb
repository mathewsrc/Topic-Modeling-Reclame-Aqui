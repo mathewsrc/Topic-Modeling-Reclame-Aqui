{
  "nbformat": 4,
  "nbformat_minor": 0,
  "metadata": {
    "colab": {
      "provenance": [],
      "include_colab_link": true
    },
    "kernelspec": {
      "name": "python3",
      "display_name": "Python 3"
    },
    "language_info": {
      "name": "python"
    }
  },
  "cells": [
    {
      "cell_type": "markdown",
      "metadata": {
        "id": "view-in-github",
        "colab_type": "text"
      },
      "source": [
        "<a href=\"https://colab.research.google.com/github/punkmic/Topic-Modeling-Reclame-Aqui/blob/master/preprocessing.ipynb\" target=\"_parent\"><img src=\"https://colab.research.google.com/assets/colab-badge.svg\" alt=\"Open In Colab\"/></a>"
      ]
    },
    {
      "cell_type": "markdown",
      "source": [
        "# **Pre-Processing** "
      ],
      "metadata": {
        "id": "y2QxkuH89sQb"
      }
    },
    {
      "cell_type": "markdown",
      "source": [
        "### **Setup**"
      ],
      "metadata": {
        "id": "eXD8VBix7DD1"
      }
    },
    {
      "cell_type": "code",
      "execution_count": null,
      "metadata": {
        "id": "CQ0hDdDm6gtj"
      },
      "outputs": [],
      "source": [
        "import pandas as pd # for data manipulation\n",
        "import os # for interacting with the operating system\n",
        "import nltk # for natural language processing\n",
        "import string # for string manipulation \n",
        "import re # for for regular expressions\n",
        "import matplotlib.pyplot as plt # for visualization\n",
        "import spacy # for lemmatize portuguese text\n",
        "import pickle\n",
        "import seaborn as sns # for visualizations\n",
        "from nltk.probability import FreqDist\n",
        "import itertools\n",
        "from nltk.collocations import BigramCollocationFinder, BigramAssocMeasures\n",
        "from nltk.collocations import TrigramAssocMeasures, TrigramCollocationFinder\n",
        "from nltk import pos_tag\n",
        "try:\n",
        "  from spellchecker import SpellChecker # for spell check\n",
        "  from wordcloud import WordCloud\n",
        "except:\n",
        "  !pip install pyspellchecker\n",
        "  !pip install wordcloud\n",
        "  from wordcloud import WordCloud\n",
        "  from spellchecker import SpellChecker # for spell check"
      ]
    },
    {
      "cell_type": "code",
      "source": [
        "%%capture\n",
        "# Install spacy pt_core_news_sm for portuguese text\n",
        "!python -m spacy download pt_core_news_sm"
      ],
      "metadata": {
        "id": "dafLrQKmvlGD"
      },
      "execution_count": null,
      "outputs": []
    },
    {
      "cell_type": "code",
      "source": [
        "# provides a set of unsupervised algorithms that can be used for tokenization\n",
        "nltk.download(\"punkt\")"
      ],
      "metadata": {
        "id": "BvRCi7Cvp0G6",
        "colab": {
          "base_uri": "https://localhost:8080/"
        },
        "outputId": "23bbdf7c-5a52-47e9-b3d0-490a0825494c"
      },
      "execution_count": null,
      "outputs": [
        {
          "output_type": "stream",
          "name": "stderr",
          "text": [
            "[nltk_data] Downloading package punkt to /root/nltk_data...\n",
            "[nltk_data]   Package punkt is already up-to-date!\n"
          ]
        },
        {
          "output_type": "execute_result",
          "data": {
            "text/plain": [
              "True"
            ]
          },
          "metadata": {},
          "execution_count": 163
        }
      ]
    },
    {
      "cell_type": "code",
      "source": [
        "# Download dataset with stopwords\n",
        "nltk.download(\"stopwords\")"
      ],
      "metadata": {
        "id": "JAvaPg5ep3Df",
        "colab": {
          "base_uri": "https://localhost:8080/"
        },
        "outputId": "1e9287f0-0b44-44e9-c465-26b6a6e367b9"
      },
      "execution_count": null,
      "outputs": [
        {
          "output_type": "stream",
          "name": "stderr",
          "text": [
            "[nltk_data] Downloading package stopwords to /root/nltk_data...\n",
            "[nltk_data]   Package stopwords is already up-to-date!\n"
          ]
        },
        {
          "output_type": "execute_result",
          "data": {
            "text/plain": [
              "True"
            ]
          },
          "metadata": {},
          "execution_count": 164
        }
      ]
    },
    {
      "cell_type": "code",
      "source": [
        "# Donwload datasets for lemmatization\n",
        "nltk.download('wordnet')\n",
        "nltk.download('omw-1.4')"
      ],
      "metadata": {
        "id": "97RrmPshvcmu",
        "colab": {
          "base_uri": "https://localhost:8080/"
        },
        "outputId": "d605627b-ef47-4b64-fd15-94ba43e492dd"
      },
      "execution_count": null,
      "outputs": [
        {
          "output_type": "stream",
          "name": "stderr",
          "text": [
            "[nltk_data] Downloading package wordnet to /root/nltk_data...\n",
            "[nltk_data]   Package wordnet is already up-to-date!\n",
            "[nltk_data] Downloading package omw-1.4 to /root/nltk_data...\n",
            "[nltk_data]   Package omw-1.4 is already up-to-date!\n"
          ]
        },
        {
          "output_type": "execute_result",
          "data": {
            "text/plain": [
              "True"
            ]
          },
          "metadata": {},
          "execution_count": 165
        }
      ]
    },
    {
      "cell_type": "code",
      "source": [
        "# Donwload dependency need to stem portuguese text\n",
        "nltk.download('rslp')"
      ],
      "metadata": {
        "id": "qn9OrF3EXCNv",
        "colab": {
          "base_uri": "https://localhost:8080/"
        },
        "outputId": "50f36de5-d6c6-4586-e123-5e5107f99fe7"
      },
      "execution_count": null,
      "outputs": [
        {
          "output_type": "stream",
          "name": "stderr",
          "text": [
            "[nltk_data] Downloading package rslp to /root/nltk_data...\n",
            "[nltk_data]   Package rslp is already up-to-date!\n"
          ]
        },
        {
          "output_type": "execute_result",
          "data": {
            "text/plain": [
              "True"
            ]
          },
          "metadata": {},
          "execution_count": 166
        }
      ]
    },
    {
      "cell_type": "code",
      "source": [
        "# for pos tag\n",
        "nltk.download('averaged_perceptron_tagger')"
      ],
      "metadata": {
        "colab": {
          "base_uri": "https://localhost:8080/"
        },
        "id": "CyU0iVZz099R",
        "outputId": "1f64d294-123d-40e7-9eef-403b4390d47e"
      },
      "execution_count": null,
      "outputs": [
        {
          "output_type": "stream",
          "name": "stderr",
          "text": [
            "[nltk_data] Downloading package averaged_perceptron_tagger to\n",
            "[nltk_data]     /root/nltk_data...\n",
            "[nltk_data]   Package averaged_perceptron_tagger is already up-to-\n",
            "[nltk_data]       date!\n"
          ]
        },
        {
          "output_type": "execute_result",
          "data": {
            "text/plain": [
              "True"
            ]
          },
          "metadata": {},
          "execution_count": 167
        }
      ]
    },
    {
      "cell_type": "markdown",
      "source": [
        "### **Load data from [Github](https://github.com/punkmic/Topic-Modeling-Reclame-Aqui.git)**"
      ],
      "metadata": {
        "id": "EGjKdT4C8RVD"
      }
    },
    {
      "cell_type": "code",
      "source": [
        "#!git clone https://github.com/punkmic/Topic-Modeling-Reclame-Aqui.git"
      ],
      "metadata": {
        "id": "C_yss1JC-8Ou"
      },
      "execution_count": null,
      "outputs": []
    },
    {
      "cell_type": "code",
      "source": [
        "# Change directory\n",
        "%cd /content/Topic-Modeling-Reclame-Aqui \n",
        "\n",
        "# Update files from remote repository\n",
        "!git pull \n",
        "\n",
        "# Check current directory\n",
        "!pwd"
      ],
      "metadata": {
        "id": "uv3QBnDRHFPv",
        "outputId": "9b621b65-425d-41ac-bf7f-95a01ab63caf",
        "colab": {
          "base_uri": "https://localhost:8080/"
        }
      },
      "execution_count": null,
      "outputs": [
        {
          "output_type": "stream",
          "name": "stdout",
          "text": [
            "/content/Topic-Modeling-Reclame-Aqui\n",
            "Already up to date.\n",
            "/content/Topic-Modeling-Reclame-Aqui\n"
          ]
        }
      ]
    },
    {
      "cell_type": "code",
      "source": [
        "WORK_DIR = '/content/Topic-Modeling-Reclame-Aqui/datasets'\n",
        "DATASET_VERSION = 'v1'"
      ],
      "metadata": {
        "id": "AXc0CHKwGrm7"
      },
      "execution_count": null,
      "outputs": []
    },
    {
      "cell_type": "code",
      "source": [
        "def read_data(path_csv, drop_duplicates = True, lower=True):\n",
        " \n",
        "  # use the read_csv method to read csv file\n",
        "  df = pd.read_csv(path_csv)\n",
        "  \n",
        "  if drop_duplicates:\n",
        "    # read and return the CSV file using the read_csv method\n",
        "    print(f\"Shape before remove duplicates: {df.shape}\")\n",
        "\n",
        "    # use the drop_duplicated method to drop duplicates rows\n",
        "    df = df.drop_duplicates(subset=\"text\")\n",
        "\n",
        "    print(f\"Shape after remove duplicates: {df.shape}\")\n",
        "\n",
        "    if lower:\n",
        "      # apply the str.lower() method to each element in the dataframe\n",
        "      df = df.applymap(str.lower)\n",
        "    \n",
        "     # rename columns\n",
        "    df.columns = [\"title\", \"documents\"] \n",
        "\n",
        "    # use the replace() method to replace the string with an empty string\n",
        "    df = df.replace(re.compile('\\[editado pelo reclame aqui\\]|editado pelo reclame aqui|Editado pelo Reclame Aqui'), '')\n",
        "    df = df.replace(re.compile('\\[casas bahia\\]|Casa Bahia|Casas Bahia|casa bahia'), '')\n",
        "    df = df.replace(re.compile('\\[magazine luiza\\]|Magazine luiza|Magazine Luiza| Magazine luizar|Magazine Luizar'), '')\n",
        "    df = df.replace(re.compile('\\[mercado livre\\]|Mercado Livre|Mercado livre'), '')\n",
        "    df = df.replace(re.compile('\\[americana\\]|Ameriacanas|ameriacanas'), '')\n",
        "\n",
        "  return df"
      ],
      "metadata": {
        "id": "F3IoOKARBwVb"
      },
      "execution_count": null,
      "outputs": []
    },
    {
      "cell_type": "markdown",
      "source": [
        "### **Preprocessing**"
      ],
      "metadata": {
        "id": "drjuwA5yk4YB"
      }
    },
    {
      "cell_type": "markdown",
      "source": [
        "#### **Tokenization**\n",
        "\n",
        "Tokenization aims to breaking text down into its component parts"
      ],
      "metadata": {
        "id": "i9ukWCy8qBOP"
      }
    },
    {
      "cell_type": "code",
      "source": [
        "WORD_TOKENIZER = nltk.tokenize.word_tokenize\n",
        "def tokenize(text):\n",
        "  tokens = [token.strip().lower() for token in WORD_TOKENIZER(text, language=\"portuguese\")]\n",
        " \n",
        "  # set a pattern to detect patterns such as x x, xxx x, xxx xxx\n",
        "  #pattern = r\"\\b\\w+\\s+\\w+\\b\"\n",
        " \n",
        "  # filter tokens by pattern\n",
        "  #filtered_words = [word for word in tokens if re.search(pattern, word)]\n",
        "\n",
        "  # return token if not in filter list\n",
        "  return [token for token in tokens] #if token not in filtered_words"
      ],
      "metadata": {
        "id": "k_f8hsxJk7v4"
      },
      "execution_count": null,
      "outputs": []
    },
    {
      "cell_type": "markdown",
      "source": [
        "#### **Stem** \n",
        "\n",
        "Stem the tokens. This step aims to remove morphological affixes and normalize to standardized stem forms"
      ],
      "metadata": {
        "id": "Lm7V--yMq98r"
      }
    },
    {
      "cell_type": "code",
      "source": [
        "STEMMER = nltk.stem.RSLPStemmer()\n",
        "def stem(text):\n",
        "  tokens = text\n",
        "  if not isinstance(tokens, list):\n",
        "    tokens = text.split()\n",
        "  return \" \".join([STEMMER.stem(token) for token in tokens])"
      ],
      "metadata": {
        "id": "TphgFQIxrPMM"
      },
      "execution_count": null,
      "outputs": []
    },
    {
      "cell_type": "markdown",
      "source": [
        "#### **Lemmatize**\n",
        "\n",
        "Lemmatize the tokens. Retains more natural forms than stemming, but assumes all tokens nons unless tokens are passed as (word, pos) tuples. Note: nltk lemmatize does not suport portugues language"
      ],
      "metadata": {
        "id": "RTiUcqzrrdiX"
      }
    },
    {
      "cell_type": "code",
      "source": [
        "LEMMATIZER = nltk.WordNetLemmatizer()\n",
        "\n",
        "def lemmatize(text):\n",
        "  tokens = text\n",
        "  if not isinstance(tokens, list):\n",
        "    tokens = text.split()\n",
        "  lemmas = []\n",
        "  for token in tokens:\n",
        "      if isinstance(token, str):\n",
        "          # treats token like a noun\n",
        "          lemmas.append(LEMMATIZER.lemmatize(token)) \n",
        "      else: \n",
        "          # assume a tuple of (word, pos)\n",
        "          lemmas.append(LEMMATIZER.lemmatize(*token))\n",
        "  return \" \".join(lemmas)"
      ],
      "metadata": {
        "id": "4O48ihphrxy3"
      },
      "execution_count": null,
      "outputs": []
    },
    {
      "cell_type": "markdown",
      "source": [
        "**Lemmatize option for portuguese text**"
      ],
      "metadata": {
        "id": "eHdBPARlU24i"
      }
    },
    {
      "cell_type": "code",
      "source": [
        "# load portuguese model\n",
        "nlp = spacy.load('pt_core_news_sm')\n",
        "\n",
        "def lemmatize_pt(text, postags=['NOUN', 'ADJ', 'VERB', 'ADV']):\n",
        "  tokens = text\n",
        "  if not isinstance(tokens, list):\n",
        "    tokens = text.split()\n",
        "  # Create a spaCy Doc object and apply the lemmatization\n",
        "  doc = nlp(' '.join(tokens))\n",
        "\n",
        "  # Return lemmatize\n",
        "  return \" \".join([token.lemma_ for token in doc if token.pos_ in postags])"
      ],
      "metadata": {
        "id": "pfgdVUHVU6Zy"
      },
      "execution_count": null,
      "outputs": []
    },
    {
      "cell_type": "markdown",
      "source": [
        "#### **Remove stopwords**\n",
        "\n",
        "Stop words are things like articles and conjunctions that usually do not offer a lot of value in an analysis."
      ],
      "metadata": {
        "id": "jkLYqJgDs4Xd"
      }
    },
    {
      "cell_type": "code",
      "source": [
        "custom_stop_words = ['amazon', 'americanas', 'casas bahia', 'magazine luiza', 'shein', 'kabum',\n",
        "                       'samsung', 'mercado livre', 'banco brasil', 'apple', 'magazine', 'luiza', 'luizar',\n",
        "                      'casas', 'bahia', 'casa', 'mercado', 'livre','magalu']"
      ],
      "metadata": {
        "id": "TW2aSpqiodwr"
      },
      "execution_count": null,
      "outputs": []
    },
    {
      "cell_type": "code",
      "source": [
        "def remove_stopwords(text, stopwords=None, custom_stop_words = None):\n",
        "\n",
        "  tokens = text\n",
        "  if not isinstance(tokens, list):\n",
        "    tokens = text.split()\n",
        "  \n",
        "  if custom_stop_words is None:\n",
        "    custom_stop_words = ['amazon', 'americanas', 'casas bahia', 'magazine luiza', 'shein', 'kabum',\n",
        "                       'samsung', 'mercado livre', 'banco brasil', 'apple', 'magazine', 'luiza', 'luizar',\n",
        "                      'casas', 'bahia', 'casa', 'mercado', 'livre']\n",
        "\n",
        "  # Use the default stop words if none is passed\n",
        "  if stopwords is None:\n",
        "    stopwords = nltk.corpus.stopwords.words('portuguese') + custom_stop_words    \n",
        "  \n",
        "  # Filter the list of tokens to exclude the stop word tokens\n",
        "  return \" \".join([token for token in tokens if token not in stopwords])"
      ],
      "metadata": {
        "id": "D9blZaBYtHgj"
      },
      "execution_count": null,
      "outputs": []
    },
    {
      "cell_type": "code",
      "source": [
        "assert remove_stopwords(['compra', 'echar', 'em esse', 'amazon', 'pude'], custom_stop_words=custom_stop_words) == 'compra echar em esse pude'"
      ],
      "metadata": {
        "id": "-E4DqCin2HDc"
      },
      "execution_count": null,
      "outputs": []
    },
    {
      "cell_type": "markdown",
      "source": [
        "#### **Remove frequent words**"
      ],
      "metadata": {
        "id": "-QWYIcK4jIsq"
      }
    },
    {
      "cell_type": "code",
      "source": [
        "def get_frequent_words(df, colname, top_words):\n",
        "  \"\"\"\n",
        "  df: DataFrame\n",
        "  colname: DataFrame column name\n",
        "  top_words: top most frequent words to remove\n",
        "  \"\"\"\n",
        "\n",
        "  # Tokenize the text and store them in a new column\n",
        "  df['words'] = df[colname].apply(lambda x: WORD_TOKENIZER(x, language=\"portuguese\"))\n",
        "\n",
        "  # Flatten the list of words\n",
        "  all_words = list(itertools.chain(*df['words']))\n",
        "  \n",
        "  # filter tokens by its frequency\n",
        "  freq = nltk.FreqDist(all_words).most_common(top_words)\n",
        "  words = [item[0] for item in freq]\n",
        "\n",
        "  pd.DataFrame(freq, \n",
        "               columns=[\"words\", \"frequency\"]).to_csv(\n",
        "                   os.path.join(WORK_DIR,'frequent_words_removed.csv'), index=False)\n",
        "  return words"
      ],
      "metadata": {
        "id": "enKPv_nbjLIO"
      },
      "execution_count": null,
      "outputs": []
    },
    {
      "cell_type": "code",
      "source": [
        "def remove_frequent_words(text, words):\n",
        "  tokens = text\n",
        "  if not isinstance(tokens, list):\n",
        "    tokens = text.split()\n",
        "  return \" \".join([token for token in tokens if token not in words])"
      ],
      "metadata": {
        "id": "EUbw1Bfzm6C2"
      },
      "execution_count": null,
      "outputs": []
    },
    {
      "cell_type": "code",
      "source": [
        "df_test = pd.DataFrame({'documents':['we remove the punctuation, numbers, and stop words from each commit message.',\n",
        "                                     'Random Forrest does a better job when you have a multi-class problem',\n",
        "                                     'BentoML is an all-in-one framework to maintain, package and deploy models of any framework'] })\n",
        "words = get_frequent_words(df_test, 'documents', 2)\n",
        "assert remove_frequent_words(['we', 'is', 'numbers', 'job', 'maintain', 'and', ','], words) == 'we is numbers job maintain'"
      ],
      "metadata": {
        "id": "lnnemdvDjc1P"
      },
      "execution_count": null,
      "outputs": []
    },
    {
      "cell_type": "markdown",
      "source": [
        "#### **Remove hyperlinks**\n",
        "\n",
        "Removes http/s links from the tokens."
      ],
      "metadata": {
        "id": "X4qMKyfKtaAW"
      }
    },
    {
      "cell_type": "code",
      "source": [
        "def remove_links(text):\n",
        "  tokens = text\n",
        "  if not isinstance(tokens, list):\n",
        "    tokens = text.split()\n",
        "  # Filter tokens that starts with \"http://\" or \"https://\"\n",
        "  return \" \".join([token for token in tokens \n",
        "          if not token.startswith(\"http://\")\n",
        "          and not token.startswith(\"https://\")])"
      ],
      "metadata": {
        "id": "LqlMta5qtovS"
      },
      "execution_count": null,
      "outputs": []
    },
    {
      "cell_type": "code",
      "source": [
        "assert remove_links(['bom', 'http://online', 'https://offline']) == 'bom'"
      ],
      "metadata": {
        "id": "vxvsG7s_6wkd"
      },
      "execution_count": null,
      "outputs": []
    },
    {
      "cell_type": "markdown",
      "source": [
        "#### **Remove numbers**"
      ],
      "metadata": {
        "id": "EwKFluprz-pW"
      }
    },
    {
      "cell_type": "code",
      "source": [
        "def remove_numbers(text):\n",
        "  tokens = text\n",
        "  if not isinstance(tokens, list):\n",
        "    tokens = text.split()\n",
        "  # Use a regular expression to match words that contain numbers\n",
        "  pattern = r\"\\b\\w*\\d\\w*\\b\"\n",
        "  tokens = [token for token in tokens if not re.sub(pattern, \"\", token) == \"\"]\n",
        "  \n",
        "  # Filter out number tokens using a list comprehension and the isnumeric method\n",
        "  return \" \".join([token for token in tokens if not token.isnumeric()])"
      ],
      "metadata": {
        "id": "ALKnXv8C0EWu"
      },
      "execution_count": null,
      "outputs": []
    },
    {
      "cell_type": "code",
      "source": [
        "assert remove_numbers(['ola', 'bicicleta', '1', '2002']) == 'ola bicicleta'"
      ],
      "metadata": {
        "id": "32uzYfBG3cv2"
      },
      "execution_count": null,
      "outputs": []
    },
    {
      "cell_type": "markdown",
      "source": [
        "#### **Remove date**"
      ],
      "metadata": {
        "id": "a0pZKAQ7ZJHL"
      }
    },
    {
      "cell_type": "code",
      "source": [
        "def remove_date(text):\n",
        "  tokens = text\n",
        "  if not isinstance(tokens, list):\n",
        "    tokens = text.split()\n",
        "  # Compile a regular expression to match dates in the format dd/mm or dd/mm/yyyy\n",
        "  date_regex = re.compile(r'\\d{2}/\\d{2}(/\\d{4})?')\n",
        "\n",
        "  # Use the regex to find all the tokens that match the date pattern\n",
        "  dates = [token for token in tokens if date_regex.fullmatch(token)]\n",
        "\n",
        "  # Filter the list of tokens to exclude the date tokens\n",
        "  filtered_tokens = [token for token in tokens if token not in dates]\n",
        "\n",
        "  # Return the filtered tokens\n",
        "  return \" \".join(filtered_tokens)"
      ],
      "metadata": {
        "id": "ywykIjKZctc-"
      },
      "execution_count": null,
      "outputs": []
    },
    {
      "cell_type": "code",
      "source": [
        "assert remove_date(['texto', 'data', '20/10', 'seguro', '02/09/2014']) == 'texto data seguro'"
      ],
      "metadata": {
        "id": "k6r3cMbB7F3f"
      },
      "execution_count": null,
      "outputs": []
    },
    {
      "cell_type": "markdown",
      "source": [
        "#### **Remove punctuation**"
      ],
      "metadata": {
        "id": "7y1FqCD1t75_"
      }
    },
    {
      "cell_type": "code",
      "source": [
        "def remove_punctuation(text,\n",
        "                       strip_mentions=True,\n",
        "                       strip_hashtags=True):\n",
        "\n",
        "  tokens = text\n",
        "  if not isinstance(tokens, list):\n",
        "    tokens = text.split()\n",
        "  tokens = [re.sub(r'[^\\w\\s]', '', token) for token in tokens]\n",
        "\n",
        "  # Filter punctuation tokens\n",
        "  tokens = [token.strip() for token in tokens if token not in string.punctuation]\n",
        "\n",
        "  # Remove @ symbol from left side of tokens\n",
        "  if strip_mentions:\n",
        "      tokens = [t.lstrip(r\"([!\\\"#$%&'()*+,-./:;<=>?@[\\]^_`{|}~])\\1+\") for t in tokens]\n",
        "\n",
        "  # Remove # symbol from left side of tokens\n",
        "  if strip_hashtags:\n",
        "      tokens = [t.lstrip(r\"([!\\\"#$%&'()*+,-./:;<=>?@[\\]^_`{|}~])\\1+\") for t in tokens]\n",
        "\n",
        "  return \" \".join(tokens)"
      ],
      "metadata": {
        "id": "ba7paG7_uBtS"
      },
      "execution_count": null,
      "outputs": []
    },
    {
      "cell_type": "code",
      "source": [
        "assert remove_punctuation(['limpo', 'acento/  ///', 'simples???', 'onde', ',']) == 'limpo acento simples onde'"
      ],
      "metadata": {
        "id": "7E8n6Z0l7Xe_"
      },
      "execution_count": null,
      "outputs": []
    },
    {
      "cell_type": "markdown",
      "source": [
        "#### **Remove short tokens**"
      ],
      "metadata": {
        "id": "SiUx2T8C5YBh"
      }
    },
    {
      "cell_type": "code",
      "source": [
        "def remove_short_tokens(text):\n",
        "  tokens = text\n",
        "  if not isinstance(tokens, list):\n",
        "    tokens = text.split()\n",
        "  # Filter the list of tokens to exclude tokens that are shorter than four letters\n",
        "  filtered_tokens = [token for token in tokens if len(token) >= 4]\n",
        "\n",
        "  # Return the filtered tokens\n",
        "  return \" \".join(filtered_tokens)"
      ],
      "metadata": {
        "id": "t8SOwNYW6QI1"
      },
      "execution_count": null,
      "outputs": []
    },
    {
      "cell_type": "code",
      "source": [
        "assert remove_short_tokens('sair um correto igual oi de em ce') == 'sair correto igual'"
      ],
      "metadata": {
        "id": "GTF9de9N7uFK"
      },
      "execution_count": null,
      "outputs": []
    },
    {
      "cell_type": "markdown",
      "source": [
        "#### **Correction of spelling errors**"
      ],
      "metadata": {
        "id": "WqtOisN38pZP"
      }
    },
    {
      "cell_type": "code",
      "source": [
        "# Create a SpellChecker object\n",
        "spell = SpellChecker(language='pt')\n",
        "\n",
        "def check_spell_errors(text):\n",
        "  result = []\n",
        "  for token in text:\n",
        "    # Correct the spelling errors in the text\n",
        "    corrected_text = spell.correction(token)\n",
        "\n",
        "    # If no correction is present user the original text\n",
        "    if corrected_text == None:\n",
        "      corrected_text =  token\n",
        "  \n",
        "    result.append(corrected_text)\n",
        "  # Return the corrected text\n",
        "  return result"
      ],
      "metadata": {
        "id": "fUTiJYc_8hba"
      },
      "execution_count": null,
      "outputs": []
    },
    {
      "cell_type": "markdown",
      "source": [
        "#### **Remove extra white spaces**"
      ],
      "metadata": {
        "id": "ybMjuBaSw67b"
      }
    },
    {
      "cell_type": "code",
      "source": [
        "def remove_whitespace(document):\n",
        "    return  \" \".join(document.split())"
      ],
      "metadata": {
        "id": "3ig6LBnhw_6L"
      },
      "execution_count": null,
      "outputs": []
    },
    {
      "cell_type": "code",
      "source": [
        "def preprocess_data(df, filename, check_spell = False, rm_frequent_words=False, top_words=20):\n",
        "  for colname in df.columns:\n",
        "    df[colname]= df[colname].str.lower()\n",
        "    df[colname]= df[colname].apply(remove_whitespace)\n",
        "\n",
        "    if check_spell:\n",
        "      df[colname] = df[colname].apply(check_spell_errors)\n",
        "    df[colname] = df[colname].apply(remove_links)\n",
        "    df[colname] = df[colname].apply(remove_punctuation)\n",
        "    df[colname] = df[colname].apply(remove_numbers)\n",
        "    df[colname] = df[colname].apply(remove_date)\n",
        "    df[colname] = df[colname].apply(remove_short_tokens)\n",
        "    df[colname] = df[colname].apply(remove_stopwords)\n",
        "    df[colname] = df[colname].apply(lemmatize_pt) \n",
        "    if rm_frequent_words:\n",
        "      words = get_frequent_words(df, colname, top_words)\n",
        "      df[colname] = df[colname].apply(remove_frequent_words, words=words)\n",
        "    df[colname] = df[colname].apply(tokenize)\n",
        "    df[colname] = df[colname].apply(lambda x: ' '.join(x))\n",
        "\n",
        "    # Save the DataFrame to a csv file\n",
        "    df.to_csv(os.path.join(WORK_DIR, f'{filename}.csv'), index=False)\n",
        "  return df"
      ],
      "metadata": {
        "id": "73uvqVnafwvQ"
      },
      "execution_count": null,
      "outputs": []
    },
    {
      "cell_type": "code",
      "source": [
        "path_csv = os.path.join(WORK_DIR, \"docs.csv\")"
      ],
      "metadata": {
        "id": "gythnkSTj_u3"
      },
      "execution_count": null,
      "outputs": []
    },
    {
      "cell_type": "code",
      "source": [
        "preprocess_data(df=read_data(path_csv), filename=f\"preprocessed_{DATASET_VERSION}\", rm_frequent_words=False)"
      ],
      "metadata": {
        "id": "gZv0TcEMwSYi",
        "colab": {
          "base_uri": "https://localhost:8080/",
          "height": 519
        },
        "outputId": "d9706bf7-0d1a-459b-bcb9-b0937e1c60a9"
      },
      "execution_count": null,
      "outputs": [
        {
          "output_type": "stream",
          "name": "stdout",
          "text": [
            "Shape before remove duplicates: (12760, 2)\n",
            "Shape after remove duplicates: (10510, 2)\n"
          ]
        },
        {
          "output_type": "execute_result",
          "data": {
            "text/plain": [
              "                                             title  \\\n",
              "0      pedir cancelado justificativa semana compro   \n",
              "1                                   pedir cancelar   \n",
              "2                                 cobrança indever   \n",
              "3                                pedir reincidente   \n",
              "4                               assinaturar vender   \n",
              "...                                            ...   \n",
              "12755           pedir marcar entregar nunca chegar   \n",
              "12756                                   vir faltar   \n",
              "12757                    compra acessório entregar   \n",
              "12758                              atraso entregar   \n",
              "12759                  pedir entregar prazo prever   \n",
              "\n",
              "                                               documents  \n",
              "0      pesquisando bastante novo comprar resolver agu...  \n",
              "1      sinceramente decepcionar entrar contato procon...  \n",
              "2      cancelei plano antes terminar período testir g...  \n",
              "3      olhar compra vir errar vir errar novamente fal...  \n",
              "4      inscrevi realizar venda cadastro plano individ...  \n",
              "...                                                  ...  \n",
              "12755  realizei compra celular promesso entrega pedir...  \n",
              "12756  comprar jogo camar peça vier apenas peça falta...  \n",
              "12757  live black compr virio fone bluetooth veiotent...  \n",
              "12758  hoje prazo grande entregar pedir fazer transpo...  \n",
              "12759  realizei compra valor pedir prazo entregar dez...  \n",
              "\n",
              "[10510 rows x 2 columns]"
            ],
            "text/html": [
              "\n",
              "  <div id=\"df-2477d05a-367c-478c-bdcf-917077340ee6\">\n",
              "    <div class=\"colab-df-container\">\n",
              "      <div>\n",
              "<style scoped>\n",
              "    .dataframe tbody tr th:only-of-type {\n",
              "        vertical-align: middle;\n",
              "    }\n",
              "\n",
              "    .dataframe tbody tr th {\n",
              "        vertical-align: top;\n",
              "    }\n",
              "\n",
              "    .dataframe thead th {\n",
              "        text-align: right;\n",
              "    }\n",
              "</style>\n",
              "<table border=\"1\" class=\"dataframe\">\n",
              "  <thead>\n",
              "    <tr style=\"text-align: right;\">\n",
              "      <th></th>\n",
              "      <th>title</th>\n",
              "      <th>documents</th>\n",
              "    </tr>\n",
              "  </thead>\n",
              "  <tbody>\n",
              "    <tr>\n",
              "      <th>0</th>\n",
              "      <td>pedir cancelado justificativa semana compro</td>\n",
              "      <td>pesquisando bastante novo comprar resolver agu...</td>\n",
              "    </tr>\n",
              "    <tr>\n",
              "      <th>1</th>\n",
              "      <td>pedir cancelar</td>\n",
              "      <td>sinceramente decepcionar entrar contato procon...</td>\n",
              "    </tr>\n",
              "    <tr>\n",
              "      <th>2</th>\n",
              "      <td>cobrança indever</td>\n",
              "      <td>cancelei plano antes terminar período testir g...</td>\n",
              "    </tr>\n",
              "    <tr>\n",
              "      <th>3</th>\n",
              "      <td>pedir reincidente</td>\n",
              "      <td>olhar compra vir errar vir errar novamente fal...</td>\n",
              "    </tr>\n",
              "    <tr>\n",
              "      <th>4</th>\n",
              "      <td>assinaturar vender</td>\n",
              "      <td>inscrevi realizar venda cadastro plano individ...</td>\n",
              "    </tr>\n",
              "    <tr>\n",
              "      <th>...</th>\n",
              "      <td>...</td>\n",
              "      <td>...</td>\n",
              "    </tr>\n",
              "    <tr>\n",
              "      <th>12755</th>\n",
              "      <td>pedir marcar entregar nunca chegar</td>\n",
              "      <td>realizei compra celular promesso entrega pedir...</td>\n",
              "    </tr>\n",
              "    <tr>\n",
              "      <th>12756</th>\n",
              "      <td>vir faltar</td>\n",
              "      <td>comprar jogo camar peça vier apenas peça falta...</td>\n",
              "    </tr>\n",
              "    <tr>\n",
              "      <th>12757</th>\n",
              "      <td>compra acessório entregar</td>\n",
              "      <td>live black compr virio fone bluetooth veiotent...</td>\n",
              "    </tr>\n",
              "    <tr>\n",
              "      <th>12758</th>\n",
              "      <td>atraso entregar</td>\n",
              "      <td>hoje prazo grande entregar pedir fazer transpo...</td>\n",
              "    </tr>\n",
              "    <tr>\n",
              "      <th>12759</th>\n",
              "      <td>pedir entregar prazo prever</td>\n",
              "      <td>realizei compra valor pedir prazo entregar dez...</td>\n",
              "    </tr>\n",
              "  </tbody>\n",
              "</table>\n",
              "<p>10510 rows × 2 columns</p>\n",
              "</div>\n",
              "      <button class=\"colab-df-convert\" onclick=\"convertToInteractive('df-2477d05a-367c-478c-bdcf-917077340ee6')\"\n",
              "              title=\"Convert this dataframe to an interactive table.\"\n",
              "              style=\"display:none;\">\n",
              "        \n",
              "  <svg xmlns=\"http://www.w3.org/2000/svg\" height=\"24px\"viewBox=\"0 0 24 24\"\n",
              "       width=\"24px\">\n",
              "    <path d=\"M0 0h24v24H0V0z\" fill=\"none\"/>\n",
              "    <path d=\"M18.56 5.44l.94 2.06.94-2.06 2.06-.94-2.06-.94-.94-2.06-.94 2.06-2.06.94zm-11 1L8.5 8.5l.94-2.06 2.06-.94-2.06-.94L8.5 2.5l-.94 2.06-2.06.94zm10 10l.94 2.06.94-2.06 2.06-.94-2.06-.94-.94-2.06-.94 2.06-2.06.94z\"/><path d=\"M17.41 7.96l-1.37-1.37c-.4-.4-.92-.59-1.43-.59-.52 0-1.04.2-1.43.59L10.3 9.45l-7.72 7.72c-.78.78-.78 2.05 0 2.83L4 21.41c.39.39.9.59 1.41.59.51 0 1.02-.2 1.41-.59l7.78-7.78 2.81-2.81c.8-.78.8-2.07 0-2.86zM5.41 20L4 18.59l7.72-7.72 1.47 1.35L5.41 20z\"/>\n",
              "  </svg>\n",
              "      </button>\n",
              "      \n",
              "  <style>\n",
              "    .colab-df-container {\n",
              "      display:flex;\n",
              "      flex-wrap:wrap;\n",
              "      gap: 12px;\n",
              "    }\n",
              "\n",
              "    .colab-df-convert {\n",
              "      background-color: #E8F0FE;\n",
              "      border: none;\n",
              "      border-radius: 50%;\n",
              "      cursor: pointer;\n",
              "      display: none;\n",
              "      fill: #1967D2;\n",
              "      height: 32px;\n",
              "      padding: 0 0 0 0;\n",
              "      width: 32px;\n",
              "    }\n",
              "\n",
              "    .colab-df-convert:hover {\n",
              "      background-color: #E2EBFA;\n",
              "      box-shadow: 0px 1px 2px rgba(60, 64, 67, 0.3), 0px 1px 3px 1px rgba(60, 64, 67, 0.15);\n",
              "      fill: #174EA6;\n",
              "    }\n",
              "\n",
              "    [theme=dark] .colab-df-convert {\n",
              "      background-color: #3B4455;\n",
              "      fill: #D2E3FC;\n",
              "    }\n",
              "\n",
              "    [theme=dark] .colab-df-convert:hover {\n",
              "      background-color: #434B5C;\n",
              "      box-shadow: 0px 1px 3px 1px rgba(0, 0, 0, 0.15);\n",
              "      filter: drop-shadow(0px 1px 2px rgba(0, 0, 0, 0.3));\n",
              "      fill: #FFFFFF;\n",
              "    }\n",
              "  </style>\n",
              "\n",
              "      <script>\n",
              "        const buttonEl =\n",
              "          document.querySelector('#df-2477d05a-367c-478c-bdcf-917077340ee6 button.colab-df-convert');\n",
              "        buttonEl.style.display =\n",
              "          google.colab.kernel.accessAllowed ? 'block' : 'none';\n",
              "\n",
              "        async function convertToInteractive(key) {\n",
              "          const element = document.querySelector('#df-2477d05a-367c-478c-bdcf-917077340ee6');\n",
              "          const dataTable =\n",
              "            await google.colab.kernel.invokeFunction('convertToInteractive',\n",
              "                                                     [key], {});\n",
              "          if (!dataTable) return;\n",
              "\n",
              "          const docLinkHtml = 'Like what you see? Visit the ' +\n",
              "            '<a target=\"_blank\" href=https://colab.research.google.com/notebooks/data_table.ipynb>data table notebook</a>'\n",
              "            + ' to learn more about interactive tables.';\n",
              "          element.innerHTML = '';\n",
              "          dataTable['output_type'] = 'display_data';\n",
              "          await google.colab.output.renderOutput(dataTable, element);\n",
              "          const docLink = document.createElement('div');\n",
              "          docLink.innerHTML = docLinkHtml;\n",
              "          element.appendChild(docLink);\n",
              "        }\n",
              "      </script>\n",
              "    </div>\n",
              "  </div>\n",
              "  "
            ]
          },
          "metadata": {},
          "execution_count": 196
        }
      ]
    },
    {
      "cell_type": "markdown",
      "source": [
        "#### **Load preprocessed data**"
      ],
      "metadata": {
        "id": "sWT7vAENGOEN"
      }
    },
    {
      "cell_type": "code",
      "source": [
        "df = pd.read_csv(os.path.join(WORK_DIR, f'preprocessed_{DATASET_VERSION}.csv'))"
      ],
      "metadata": {
        "id": "CTd28wJOGQLk"
      },
      "execution_count": null,
      "outputs": []
    },
    {
      "cell_type": "code",
      "source": [
        "df.head()"
      ],
      "metadata": {
        "colab": {
          "base_uri": "https://localhost:8080/",
          "height": 250
        },
        "id": "zsZyi8AqfM_l",
        "outputId": "13dc1072-00c9-4053-935b-0246b2ca4da3"
      },
      "execution_count": null,
      "outputs": [
        {
          "output_type": "execute_result",
          "data": {
            "text/plain": [
              "                                         title  \\\n",
              "0  pedir cancelado justificativa semana compro   \n",
              "1                               pedir cancelar   \n",
              "2                             cobrança indever   \n",
              "3                            pedir reincidente   \n",
              "4                           assinaturar vender   \n",
              "\n",
              "                                           documents  \n",
              "0  pesquisando bastante novo comprar resolver agu...  \n",
              "1  sinceramente decepcionar entrar contato procon...  \n",
              "2  cancelei plano antes terminar período testir g...  \n",
              "3  olhar compra vir errar vir errar novamente fal...  \n",
              "4  inscrevi realizar venda cadastro plano individ...  "
            ],
            "text/html": [
              "\n",
              "  <div id=\"df-d0c2cded-6bed-42b5-9bb2-e513d76e985d\">\n",
              "    <div class=\"colab-df-container\">\n",
              "      <div>\n",
              "<style scoped>\n",
              "    .dataframe tbody tr th:only-of-type {\n",
              "        vertical-align: middle;\n",
              "    }\n",
              "\n",
              "    .dataframe tbody tr th {\n",
              "        vertical-align: top;\n",
              "    }\n",
              "\n",
              "    .dataframe thead th {\n",
              "        text-align: right;\n",
              "    }\n",
              "</style>\n",
              "<table border=\"1\" class=\"dataframe\">\n",
              "  <thead>\n",
              "    <tr style=\"text-align: right;\">\n",
              "      <th></th>\n",
              "      <th>title</th>\n",
              "      <th>documents</th>\n",
              "    </tr>\n",
              "  </thead>\n",
              "  <tbody>\n",
              "    <tr>\n",
              "      <th>0</th>\n",
              "      <td>pedir cancelado justificativa semana compro</td>\n",
              "      <td>pesquisando bastante novo comprar resolver agu...</td>\n",
              "    </tr>\n",
              "    <tr>\n",
              "      <th>1</th>\n",
              "      <td>pedir cancelar</td>\n",
              "      <td>sinceramente decepcionar entrar contato procon...</td>\n",
              "    </tr>\n",
              "    <tr>\n",
              "      <th>2</th>\n",
              "      <td>cobrança indever</td>\n",
              "      <td>cancelei plano antes terminar período testir g...</td>\n",
              "    </tr>\n",
              "    <tr>\n",
              "      <th>3</th>\n",
              "      <td>pedir reincidente</td>\n",
              "      <td>olhar compra vir errar vir errar novamente fal...</td>\n",
              "    </tr>\n",
              "    <tr>\n",
              "      <th>4</th>\n",
              "      <td>assinaturar vender</td>\n",
              "      <td>inscrevi realizar venda cadastro plano individ...</td>\n",
              "    </tr>\n",
              "  </tbody>\n",
              "</table>\n",
              "</div>\n",
              "      <button class=\"colab-df-convert\" onclick=\"convertToInteractive('df-d0c2cded-6bed-42b5-9bb2-e513d76e985d')\"\n",
              "              title=\"Convert this dataframe to an interactive table.\"\n",
              "              style=\"display:none;\">\n",
              "        \n",
              "  <svg xmlns=\"http://www.w3.org/2000/svg\" height=\"24px\"viewBox=\"0 0 24 24\"\n",
              "       width=\"24px\">\n",
              "    <path d=\"M0 0h24v24H0V0z\" fill=\"none\"/>\n",
              "    <path d=\"M18.56 5.44l.94 2.06.94-2.06 2.06-.94-2.06-.94-.94-2.06-.94 2.06-2.06.94zm-11 1L8.5 8.5l.94-2.06 2.06-.94-2.06-.94L8.5 2.5l-.94 2.06-2.06.94zm10 10l.94 2.06.94-2.06 2.06-.94-2.06-.94-.94-2.06-.94 2.06-2.06.94z\"/><path d=\"M17.41 7.96l-1.37-1.37c-.4-.4-.92-.59-1.43-.59-.52 0-1.04.2-1.43.59L10.3 9.45l-7.72 7.72c-.78.78-.78 2.05 0 2.83L4 21.41c.39.39.9.59 1.41.59.51 0 1.02-.2 1.41-.59l7.78-7.78 2.81-2.81c.8-.78.8-2.07 0-2.86zM5.41 20L4 18.59l7.72-7.72 1.47 1.35L5.41 20z\"/>\n",
              "  </svg>\n",
              "      </button>\n",
              "      \n",
              "  <style>\n",
              "    .colab-df-container {\n",
              "      display:flex;\n",
              "      flex-wrap:wrap;\n",
              "      gap: 12px;\n",
              "    }\n",
              "\n",
              "    .colab-df-convert {\n",
              "      background-color: #E8F0FE;\n",
              "      border: none;\n",
              "      border-radius: 50%;\n",
              "      cursor: pointer;\n",
              "      display: none;\n",
              "      fill: #1967D2;\n",
              "      height: 32px;\n",
              "      padding: 0 0 0 0;\n",
              "      width: 32px;\n",
              "    }\n",
              "\n",
              "    .colab-df-convert:hover {\n",
              "      background-color: #E2EBFA;\n",
              "      box-shadow: 0px 1px 2px rgba(60, 64, 67, 0.3), 0px 1px 3px 1px rgba(60, 64, 67, 0.15);\n",
              "      fill: #174EA6;\n",
              "    }\n",
              "\n",
              "    [theme=dark] .colab-df-convert {\n",
              "      background-color: #3B4455;\n",
              "      fill: #D2E3FC;\n",
              "    }\n",
              "\n",
              "    [theme=dark] .colab-df-convert:hover {\n",
              "      background-color: #434B5C;\n",
              "      box-shadow: 0px 1px 3px 1px rgba(0, 0, 0, 0.15);\n",
              "      filter: drop-shadow(0px 1px 2px rgba(0, 0, 0, 0.3));\n",
              "      fill: #FFFFFF;\n",
              "    }\n",
              "  </style>\n",
              "\n",
              "      <script>\n",
              "        const buttonEl =\n",
              "          document.querySelector('#df-d0c2cded-6bed-42b5-9bb2-e513d76e985d button.colab-df-convert');\n",
              "        buttonEl.style.display =\n",
              "          google.colab.kernel.accessAllowed ? 'block' : 'none';\n",
              "\n",
              "        async function convertToInteractive(key) {\n",
              "          const element = document.querySelector('#df-d0c2cded-6bed-42b5-9bb2-e513d76e985d');\n",
              "          const dataTable =\n",
              "            await google.colab.kernel.invokeFunction('convertToInteractive',\n",
              "                                                     [key], {});\n",
              "          if (!dataTable) return;\n",
              "\n",
              "          const docLinkHtml = 'Like what you see? Visit the ' +\n",
              "            '<a target=\"_blank\" href=https://colab.research.google.com/notebooks/data_table.ipynb>data table notebook</a>'\n",
              "            + ' to learn more about interactive tables.';\n",
              "          element.innerHTML = '';\n",
              "          dataTable['output_type'] = 'display_data';\n",
              "          await google.colab.output.renderOutput(dataTable, element);\n",
              "          const docLink = document.createElement('div');\n",
              "          docLink.innerHTML = docLinkHtml;\n",
              "          element.appendChild(docLink);\n",
              "        }\n",
              "      </script>\n",
              "    </div>\n",
              "  </div>\n",
              "  "
            ]
          },
          "metadata": {},
          "execution_count": 198
        }
      ]
    },
    {
      "cell_type": "markdown",
      "source": [
        "#### **Most Frequent words**"
      ],
      "metadata": {
        "id": "cN-vmB2tTp2Z"
      }
    },
    {
      "cell_type": "code",
      "source": [
        "def plot_frequency_barchart(df, colname, filename):\n",
        "  # split the text column into words\n",
        "  df['words'] = df[colname].str.split()\n",
        "\n",
        "  # get the frequency of each word\n",
        "  word_freq = df['words'].explode().value_counts()\n",
        "\n",
        "  # get the 20 most frequent words\n",
        "  most_common_words = word_freq.head(20)\n",
        "\n",
        "  # figsize\n",
        "  plt.figure(figsize=[10,8])\n",
        "\n",
        "  # create a bar plot\n",
        "  sns.barplot(x = most_common_words.index, y = most_common_words.values)\n",
        "\n",
        "  # add labels and title\n",
        "  plt.xlabel(\"Palavras\")\n",
        "  plt.ylabel(\"Frequência\")\n",
        "  plt.title(\"20 palavras mais frequentes\")\n",
        "\n",
        "  # rotate x-axis labels\n",
        "  plt.xticks(rotation=90)\n",
        "\n",
        "  # save figure\n",
        "  filename = f\"{filename}.png\"\n",
        "  plt.savefig(os.path.join(WORK_DIR, filename))\n",
        "\n",
        "  # Show the plot\n",
        "  plt.show()"
      ],
      "metadata": {
        "id": "E3yoHBhVTtSf"
      },
      "execution_count": null,
      "outputs": []
    },
    {
      "cell_type": "code",
      "source": [
        "def plot_frequency_wordcloud(df, colname,  filename):\n",
        " # split the text column into words\n",
        "  df['words'] = df[colname].str.split()\n",
        "\n",
        "  # get the frequency of each word\n",
        "  word_freq = df['words'].explode().value_counts()\n",
        "\n",
        "  # get the 20 most frequent words\n",
        "  most_common_words = word_freq.head(20)\n",
        "\n",
        "  # stop words\n",
        "  stop_words = nltk.corpus.stopwords.words('portuguese') + custom_stop_words\n",
        "  \n",
        "  # create a wordcloud object\n",
        "  wordcloud = WordCloud(width = 500, height = 500, \n",
        "                background_color ='white', \n",
        "                colormap='viridis',\n",
        "                stopwords = set(stop_words), \n",
        "                min_font_size = 10,\n",
        "                random_state=1).generate_from_frequencies(most_common_words)\n",
        "\n",
        "  # plot the wordcloud\n",
        "  plt.figure(figsize = (5, 5), facecolor = None) \n",
        "  plt.imshow(wordcloud) \n",
        "  plt.axis(\"off\") \n",
        "  plt.tight_layout(pad = 0) \n",
        "\n",
        "  # save figure\n",
        "  filename = f\"{filename}.png\"\n",
        "  plt.savefig(os.path.join(WORK_DIR, filename))\n",
        "  \n",
        "  plt.show()"
      ],
      "metadata": {
        "id": "ydEiLFOPONuv"
      },
      "execution_count": null,
      "outputs": []
    },
    {
      "cell_type": "code",
      "source": [
        "plot_frequency_barchart(df, 'documents', f'preprocessed_v1_frequency_{DATASET_VERSION}')"
      ],
      "metadata": {
        "id": "AhT9aChmPZ9E",
        "colab": {
          "base_uri": "https://localhost:8080/",
          "height": 550
        },
        "outputId": "7574a14b-2410-42cf-f204-04e843aa3a1b"
      },
      "execution_count": null,
      "outputs": [
        {
          "output_type": "display_data",
          "data": {
            "text/plain": [
              "<Figure size 720x576 with 1 Axes>"
            ],
            "image/png": "[encoded data removed]"
          },
          "metadata": {
            "needs_background": "light"
          }
        }
      ]
    },
    {
      "cell_type": "code",
      "source": [
        "plot_frequency_wordcloud(df, 'documents',  f'preprocessed_wordcloud_{DATASET_VERSION}')"
      ],
      "metadata": {
        "id": "H-TSkc2VSu4A",
        "colab": {
          "base_uri": "https://localhost:8080/",
          "height": 391
        },
        "outputId": "50da453f-3d9b-421e-ebdf-9ebcb932e183"
      },
      "execution_count": null,
      "outputs": [
        {
          "output_type": "display_data",
          "data": {
            "text/plain": [
              "<Figure size 360x360 with 1 Axes>"
            ],
            "image/png": "[encoded data removed]"
          },
          "metadata": {
            "needs_background": "light"
          }
        }
      ]
    },
    {
      "cell_type": "markdown",
      "source": [
        "#### **Pointwise Mutual Information (PMI) score**\n",
        "\n",
        "Pointwise Mutual Information (PMI) is a measure of association between two events in a statistical model. It is commonly used in natural language processing and information retrieval to measure the degree of association between words or terms in a text. The PMI score of two words w1 and w2 is defined as the logarithm of the ratio of the probability of their co-occurrence to the product of their individual probabilities."
      ],
      "metadata": {
        "id": "wXFiSoahcRC2"
      }
    },
    {
      "cell_type": "code",
      "source": [
        "# filter for noun-type \n",
        "df['documents_nouns'] = df['documents'].apply(lemmatize_pt, postag=['NOUN'])"
      ],
      "metadata": {
        "id": "_3T3nWbmBwJH"
      },
      "execution_count": null,
      "outputs": []
    },
    {
      "cell_type": "markdown",
      "source": [
        "**Bigram**"
      ],
      "metadata": {
        "id": "c2YcIRg_sC_p"
      }
    },
    {
      "cell_type": "code",
      "source": [
        "# find bigrams\n",
        "bigram_measures = BigramAssocMeasures()\n",
        "finder = BigramCollocationFinder.from_documents([WORD_TOKENIZER(doc, language='portuguese') for doc in df.documents])\n",
        "\n",
        "# filter only those that occur at least 20 times\n",
        "finder.apply_freq_filter(20)\n",
        "bigram_scores = finder.score_ngrams(bigram_measures.pmi)"
      ],
      "metadata": {
        "id": "l2YXXG9Bdbf-"
      },
      "execution_count": null,
      "outputs": []
    },
    {
      "cell_type": "code",
      "source": [
        "# save the first 20 bigrams\n",
        "pd.DataFrame(bigram_scores[:20], \n",
        "             columns=['bigram', 'score']).to_csv(\n",
        "                 os.path.join(WORK_DIR,\n",
        "                              f'bigram_scores_{DATASET_VERSION}.csv'), \n",
        "                              index=False)"
      ],
      "metadata": {
        "id": "gg2p0JcfkyHe"
      },
      "execution_count": null,
      "outputs": []
    },
    {
      "cell_type": "code",
      "source": [
        "# create a bigram column \n",
        "df['noun_bigrams'] = df['documents_nouns'].apply(lambda x: list(nltk.bigrams(x.split())))"
      ],
      "metadata": {
        "id": "altI0igstvcG"
      },
      "execution_count": null,
      "outputs": []
    },
    {
      "cell_type": "code",
      "source": [
        "# save bigrams\n",
        "df.to_csv(os.path.join(WORK_DIR, f'preprocessed_{DATASET_VERSION}.csv'), index=False)"
      ],
      "metadata": {
        "id": "lZEntbAwt98C"
      },
      "execution_count": null,
      "outputs": []
    },
    {
      "cell_type": "markdown",
      "source": [
        "#### **Wordcloud from bigrams**"
      ],
      "metadata": {
        "id": "B2tr31LczBfB"
      }
    },
    {
      "cell_type": "code",
      "source": [
        "def plot_bigram_wordcloud(df, filename):\n",
        "  # Create a string from the bigrams\n",
        "  bigrams = df['noun_bigrams'].tolist()\n",
        "  bigrams = [bigram for sublist in bigrams for bigram in sublist]\n",
        "  bigrams_string = ' '.join([\"_\".join(bigram) for bigram in bigrams])\n",
        "  \n",
        "  # stop words\n",
        "  stop_words = nltk.corpus.stopwords.words('portuguese') + custom_stop_words\n",
        "\n",
        "  # Create the wordcloud\n",
        "  wordcloud = WordCloud(width = 500, height = 500, \n",
        "                background_color ='white', \n",
        "                colormap='viridis',\n",
        "                min_font_size = 10,\n",
        "                collocations=False, \n",
        "                stopwords = set(stop_words), \n",
        "                normalize_plurals=False,\n",
        "                max_words = 20,\n",
        "                random_state=1).generate(bigrams_string)\n",
        "\n",
        "  # Plot the wordcloud\n",
        "  plt.figure(figsize = (5, 5), facecolor = None) \n",
        "  plt.imshow(wordcloud) \n",
        "  plt.axis(\"off\") \n",
        "  plt.tight_layout(pad = 0) \n",
        "  \n",
        "  # save figure\n",
        "  filename = f\"{filename}.png\"\n",
        "  plt.savefig(os.path.join(WORK_DIR, filename))\n",
        "  \n",
        "  plt.show()"
      ],
      "metadata": {
        "id": "bgwzPoQTzEOM"
      },
      "execution_count": null,
      "outputs": []
    },
    {
      "cell_type": "code",
      "source": [
        "plot_bigram_wordcloud(df, f'bigram_wordcloud_{DATASET_VERSION}')"
      ],
      "metadata": {
        "colab": {
          "base_uri": "https://localhost:8080/",
          "height": 391
        },
        "id": "d6F2ujbcz9md",
        "outputId": "69f9a741-2e14-498f-aed1-056c5f6469f9"
      },
      "execution_count": null,
      "outputs": [
        {
          "output_type": "display_data",
          "data": {
            "text/plain": [
              "<Figure size 360x360 with 1 Axes>"
            ],
            "image/png": "[encoded data removed]"
          },
          "metadata": {
            "needs_background": "light"
          }
        }
      ]
    },
    {
      "cell_type": "markdown",
      "source": [
        "**Trigram**"
      ],
      "metadata": {
        "id": "W_eyGjWRsEx6"
      }
    },
    {
      "cell_type": "code",
      "source": [
        "# find bigrams\n",
        "trigram_measures = TrigramAssocMeasures()\n",
        "finder = TrigramCollocationFinder.from_documents([WORD_TOKENIZER(doc, language='portuguese') for doc in df.documents])\n",
        "\n",
        "# filter only those that occur at least 20 times\n",
        "finder.apply_freq_filter(20)\n",
        "trigram_scores = finder.score_ngrams(bigram_measures.pmi)"
      ],
      "metadata": {
        "id": "4w7-iEHHsGHW"
      },
      "execution_count": null,
      "outputs": []
    },
    {
      "cell_type": "code",
      "source": [
        "# save the first 20 trigrams\n",
        "pd.DataFrame(trigram_scores[:20], \n",
        "             columns=['trigram', 'score']).to_csv(\n",
        "                 os.path.join(WORK_DIR,\n",
        "                              f'trigram_scores_{DATASET_VERSION}.csv'), \n",
        "                              index=False)"
      ],
      "metadata": {
        "id": "LgXVKAvHsGRn"
      },
      "execution_count": null,
      "outputs": []
    },
    {
      "cell_type": "code",
      "source": [
        "# create a trigrams column\n",
        "df['noun_trigrams'] = df['documents_nouns'].apply(lambda x: list(nltk.trigrams(x.split())))"
      ],
      "metadata": {
        "id": "ji0q3kBnusfa"
      },
      "execution_count": null,
      "outputs": []
    },
    {
      "cell_type": "code",
      "source": [
        "# save trigrams\n",
        "df.to_csv(os.path.join(WORK_DIR, f'preprocessed_{DATASET_VERSION}.csv'), index=False)"
      ],
      "metadata": {
        "id": "7pPwvASUuwOE"
      },
      "execution_count": null,
      "outputs": []
    },
    {
      "cell_type": "code",
      "source": [
        "def plot_trigram_wordcloud(filename):\n",
        "  # Create a string from the trigrams\n",
        "  trigrams = df['noun_trigrams'].tolist()\n",
        "  trigrams = [bigram for sublist in trigrams for bigram in sublist]\n",
        "  trigrams_string = ' '.join([\"_\".join(trigram) for trigram in trigrams])\n",
        "\n",
        "  # stop words\n",
        "  stop_words = nltk.corpus.stopwords.words('portuguese') + custom_stop_words\n",
        "\n",
        "  # Create the wordcloud\n",
        "  wordcloud = WordCloud(width = 500, height = 500, \n",
        "                background_color ='white', \n",
        "                colormap='viridis',\n",
        "                min_font_size = 10,\n",
        "                stopwords = set(stop_words),\n",
        "                collocations=False, \n",
        "                normalize_plurals=False,\n",
        "                max_words = 15,\n",
        "                random_state=1).generate(trigrams_string)\n",
        "\n",
        "  # Plot the wordcloud\n",
        "  plt.figure(figsize = (5, 5), facecolor = None) \n",
        "  plt.imshow(wordcloud) \n",
        "  plt.axis(\"off\") \n",
        "  plt.tight_layout(pad = 0) \n",
        "  \n",
        "  # save figure\n",
        "  filename = f\"{filename}.png\"\n",
        "  plt.savefig(os.path.join(WORK_DIR, filename))\n",
        "  \n",
        "  plt.show()"
      ],
      "metadata": {
        "id": "Wd1Flyat0Jno"
      },
      "execution_count": null,
      "outputs": []
    },
    {
      "cell_type": "code",
      "source": [
        "plot_trigram_wordcloud(f'trigram_wordcloud_{DATASET_VERSION}')"
      ],
      "metadata": {
        "colab": {
          "base_uri": "https://localhost:8080/",
          "height": 391
        },
        "id": "ioiah7rX0UI-",
        "outputId": "e29017ff-eca9-4cd8-d8de-e87722e94d45"
      },
      "execution_count": null,
      "outputs": [
        {
          "output_type": "display_data",
          "data": {
            "text/plain": [
              "<Figure size 360x360 with 1 Axes>"
            ],
            "image/png": "[encoded data removed]"
          },
          "metadata": {
            "needs_background": "light"
          }
        }
      ]
    },
    {
      "cell_type": "markdown",
      "source": [
        "#### **Github**"
      ],
      "metadata": {
        "id": "F0gliNtXRkfH"
      }
    },
    {
      "cell_type": "code",
      "source": [
        "! ssh-keygen -t rsa -b 4096\n",
        "# Add github.com to our known hosts\n",
        "! ssh-keyscan -t rsa github.com >> ~/.ssh/known_hosts\n",
        "# Restrict the key permissions, or else SSH will complain.\n",
        "! chmod go-rwx /root/.ssh/id_rsa"
      ],
      "metadata": {
        "id": "yVd1eoa0zK7f"
      },
      "execution_count": null,
      "outputs": []
    },
    {
      "cell_type": "code",
      "source": [
        "! cat /root/.ssh/id_rsa.pub"
      ],
      "metadata": {
        "id": "_z-PSHRzz0PY"
      },
      "execution_count": null,
      "outputs": []
    },
    {
      "cell_type": "code",
      "source": [
        "!git config --global user.email \"\"\n",
        "!git config --global user.name \"\""
      ],
      "metadata": {
        "id": "4iixpGcjzxrO"
      },
      "execution_count": null,
      "outputs": []
    },
    {
      "cell_type": "code",
      "source": [
        "!ssh -T git@github.com"
      ],
      "metadata": {
        "id": "bcqhgkdaz3QI"
      },
      "execution_count": null,
      "outputs": []
    },
    {
      "cell_type": "code",
      "source": [
        "!git clone git@github.com:punkmic/Topic-Modeling-Reclame-Aqui.git"
      ],
      "metadata": {
        "id": "zSA4ju5NDpqK",
        "colab": {
          "base_uri": "https://localhost:8080/"
        },
        "outputId": "229eea57-d9d2-419a-d3c8-adaf8db74162"
      },
      "execution_count": null,
      "outputs": [
        {
          "output_type": "stream",
          "name": "stdout",
          "text": [
            "Cloning into 'Topic-Modeling-Reclame-Aqui'...\n",
            "Warning: Permanently added the RSA host key for IP address '140.82.121.3' to the list of known hosts.\n",
            "remote: Enumerating objects: 16387, done.\u001b[K\n",
            "remote: Counting objects: 100% (2206/2206), done.\u001b[K\n",
            "remote: Compressing objects: 100% (1828/1828), done.\u001b[K\n",
            "remote: Total 16387 (delta 360), reused 2171 (delta 343), pack-reused 14181\u001b[K\n",
            "Receiving objects: 100% (16387/16387), 134.90 MiB | 15.27 MiB/s, done.\n",
            "Resolving deltas: 100% (1508/1508), done.\n",
            "Checking out files: 100% (14824/14824), done.\n"
          ]
        }
      ]
    },
    {
      "cell_type": "code",
      "source": [
        "%cd /content/Topic-Modeling-Reclame-Aqui/"
      ],
      "metadata": {
        "id": "2eEK0j1L6b7p",
        "outputId": "33cceb78-4131-429e-a133-22cd3a3a5d42",
        "colab": {
          "base_uri": "https://localhost:8080/"
        }
      },
      "execution_count": null,
      "outputs": [
        {
          "output_type": "stream",
          "name": "stdout",
          "text": [
            "/content/Topic-Modeling-Reclame-Aqui\n"
          ]
        }
      ]
    },
    {
      "cell_type": "code",
      "source": [
        "!git add ./datasets/"
      ],
      "metadata": {
        "id": "CGqBhuS6z7WZ"
      },
      "execution_count": null,
      "outputs": []
    },
    {
      "cell_type": "code",
      "source": [
        "!git status"
      ],
      "metadata": {
        "id": "eyMFQF889jtB",
        "outputId": "d7589bb2-27c7-4e9c-979d-59edccf15fe9",
        "colab": {
          "base_uri": "https://localhost:8080/"
        }
      },
      "execution_count": null,
      "outputs": [
        {
          "output_type": "stream",
          "name": "stdout",
          "text": [
            "On branch master\n",
            "Your branch is up to date with 'origin/master'.\n",
            "\n",
            "Changes to be committed:\n",
            "  (use \"git reset HEAD <file>...\" to unstage)\n",
            "\n",
            "\t\u001b[32mnew file:   datasets/bigram_scores_v1.csv\u001b[m\n",
            "\t\u001b[32mnew file:   datasets/bigram_wordcloud_v1.png\u001b[m\n",
            "\t\u001b[32mdeleted:    datasets/frequent_words_removed.csv\u001b[m\n",
            "\t\u001b[32mmodified:   datasets/preprocessed_v1.csv\u001b[m\n",
            "\t\u001b[32mnew file:   datasets/preprocessed_v1_frequency_v1.png\u001b[m\n",
            "\t\u001b[32mmodified:   datasets/preprocessed_v1_wordcloud.png\u001b[m\n",
            "\t\u001b[32mdeleted:    datasets/preprocessed_v2.csv\u001b[m\n",
            "\t\u001b[32mdeleted:    datasets/preprocessed_v2_frequency.png\u001b[m\n",
            "\t\u001b[32mdeleted:    datasets/preprocessed_v2_wordcloud.png\u001b[m\n",
            "\t\u001b[32mnew file:   datasets/preprocessed_wordcloud_v1.png\u001b[m\n",
            "\t\u001b[32mnew file:   datasets/trigram_scores_v1.csv\u001b[m\n",
            "\t\u001b[32mnew file:   datasets/trigram_wordcloud_v1.png\u001b[m\n",
            "\n"
          ]
        }
      ]
    },
    {
      "cell_type": "code",
      "source": [
        "!git commit -m \"Adding bigram and trigram plots\""
      ],
      "metadata": {
        "id": "PFY8B1Ikz-U-",
        "outputId": "e1a34a21-78d9-4f78-ee4c-0c43b5535c69",
        "colab": {
          "base_uri": "https://localhost:8080/"
        }
      },
      "execution_count": null,
      "outputs": [
        {
          "output_type": "stream",
          "name": "stdout",
          "text": [
            "[master b0c5f415] Adding bigram and trigram plots\n",
            " 12 files changed, 10553 insertions(+), 21043 deletions(-)\n",
            " create mode 100644 datasets/bigram_scores_v1.csv\n",
            " create mode 100644 datasets/bigram_wordcloud_v1.png\n",
            " delete mode 100644 datasets/frequent_words_removed.csv\n",
            " create mode 100644 datasets/preprocessed_v1_frequency_v1.png\n",
            " rewrite datasets/preprocessed_v1_wordcloud.png (98%)\n",
            " delete mode 100644 datasets/preprocessed_v2.csv\n",
            " delete mode 100644 datasets/preprocessed_v2_frequency.png\n",
            " delete mode 100644 datasets/preprocessed_v2_wordcloud.png\n",
            " create mode 100644 datasets/preprocessed_wordcloud_v1.png\n",
            " create mode 100644 datasets/trigram_scores_v1.csv\n",
            " create mode 100644 datasets/trigram_wordcloud_v1.png\n"
          ]
        }
      ]
    },
    {
      "cell_type": "code",
      "source": [
        "!git push origin master"
      ],
      "metadata": {
        "id": "uEJWirD70EiH",
        "outputId": "d6ccb4e1-c0f4-4d3e-cec8-5da5086e1041",
        "colab": {
          "base_uri": "https://localhost:8080/"
        }
      },
      "execution_count": null,
      "outputs": [
        {
          "output_type": "stream",
          "name": "stdout",
          "text": [
            "Counting objects: 11, done.\n",
            "Delta compression using up to 2 threads.\n",
            "Compressing objects: 100% (11/11), done.\n",
            "Writing objects: 100% (11/11), 6.11 MiB | 2.42 MiB/s, done.\n",
            "Total 11 (delta 1), reused 0 (delta 0)\n",
            "remote: Resolving deltas: 100% (1/1), completed with 1 local object.\u001b[K\n",
            "remote: warning: See http://git.io/iEPt8g for more information.\u001b[K\n",
            "remote: warning: File datasets/preprocessed_v1.csv is 50.21 MB; this is larger than GitHub's recommended maximum file size of 50.00 MB\u001b[K\n",
            "remote: warning: GH001: Large files detected. You may want to try Git Large File Storage - https://git-lfs.github.com.\u001b[K\n",
            "To github.com:punkmic/Topic-Modeling-Reclame-Aqui.git\n",
            "   6ee59505..b0c5f415  master -> master\n"
          ]
        }
      ]
    },
    {
      "cell_type": "code",
      "source": [
        "# run this command to push a new version of this notebook in case you have saved the notebook in github and it is outdate \n",
        "!git stash\n",
        "!git pull\n",
        "!git stash pop"
      ],
      "metadata": {
        "id": "pKF8mcLoIU3Q"
      },
      "execution_count": null,
      "outputs": []
    },
    {
      "cell_type": "code",
      "source": [
        "!rm -rf /root/.ssh/"
      ],
      "metadata": {
        "id": "awCNnf2Qlu_5"
      },
      "execution_count": null,
      "outputs": []
    }
  ]
}